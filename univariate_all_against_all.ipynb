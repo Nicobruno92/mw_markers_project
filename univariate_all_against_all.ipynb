{
 "cells": [
  {
   "cell_type": "code",
   "execution_count": 16,
   "id": "unauthorized-jacket",
   "metadata": {},
   "outputs": [
    {
     "data": {
      "text/html": [
       "        <script type=\"text/javascript\">\n",
       "        window.PlotlyConfig = {MathJaxConfig: 'local'};\n",
       "        if (window.MathJax && window.MathJax.Hub && window.MathJax.Hub.Config) {window.MathJax.Hub.Config({SVG: {font: \"STIX-Web\"}});}\n",
       "        if (typeof require !== 'undefined') {\n",
       "        require.undef(\"plotly\");\n",
       "        requirejs.config({\n",
       "            paths: {\n",
       "                'plotly': ['https://cdn.plot.ly/plotly-2.12.1.min']\n",
       "            }\n",
       "        });\n",
       "        require(['plotly'], function(Plotly) {\n",
       "            window._Plotly = Plotly;\n",
       "        });\n",
       "        }\n",
       "        </script>\n",
       "        "
      ]
     },
     "metadata": {},
     "output_type": "display_data"
    }
   ],
   "source": [
    "from utils import balance_sample, univariate_classifier, correct_name_markers\n",
    "\n",
    "import numpy as np\n",
    "import seaborn as sns\n",
    "import pandas as pd \n",
    "import matplotlib.pyplot as plt\n",
    "import plotly.express as px\n",
    "import plotly.graph_objects as pgo\n",
    "import plotly.offline as pyo\n",
    "import plotly.io as pio\n",
    "from plotly.subplots import make_subplots\n",
    "# pio.renderers.default = \"vscode\"\n",
    "\n",
    "pyo.init_notebook_mode(connected = True)\n",
    "\n",
    "\n",
    "from sklearn.metrics import roc_auc_score\n",
    "from sklearn.svm import SVC\n",
    "from sklearn.preprocessing import StandardScaler, RobustScaler\n",
    "from sklearn.pipeline import Pipeline, make_pipeline\n",
    "from sklearn.model_selection import (\n",
    "    GridSearchCV,\n",
    "    train_test_split,\n",
    "    cross_val_score,\n",
    "    GroupShuffleSplit,\n",
    "    permutation_test_score,\n",
    "    StratifiedKFold,\n",
    ")\n",
    "from sklearn.ensemble import ExtraTreesClassifier\n",
    "\n",
    "from imblearn.under_sampling import RandomUnderSampler\n",
    "from imblearn.over_sampling import RandomOverSampler, SMOTE\n",
    "\n",
    "from scipy.stats import wilcoxon, mannwhitneyu\n",
    "from statsmodels.stats.multitest import multipletests"
   ]
  },
  {
   "cell_type": "code",
   "execution_count": 17,
   "id": "regular-ridge",
   "metadata": {
    "pycharm": {
     "is_executing": false
    },
    "tags": []
   },
   "outputs": [],
   "source": [
    "# plotting parameters\n",
    "grey = \"#21201F\"\n",
    "green = \"#9AC529\"\n",
    "lblue = \"#42B9B2\"\n",
    "pink = \"#DE237B\"\n",
    "orange = \"#F38A31\"\n",
    "\n",
    "nt_colors = [green, lblue, pink, orange]\n",
    "\n",
    "plt.style.use(\"ggplot\")\n",
    "fig_width = 8  # width in inches\n",
    "fig_height = 8  # height in inches\n",
    "fig_size = [fig_width, fig_height]\n",
    "plt.rcParams[\"figure.figsize\"] = fig_size\n",
    "plt.rcParams[\"figure.autolayout\"] = True\n",
    "\n",
    "sns.set(\n",
    "    style=\"white\",\n",
    "    context=\"notebook\",\n",
    "    font_scale=1.5,\n",
    "    rc={\n",
    "        \"axes.labelcolor\": grey,\n",
    "        \"text.color\": grey,\n",
    "        \"axes.edgecolor\": grey,\n",
    "        \"xtick.color\": grey,\n",
    "        \"ytick.color\": grey,\n",
    "        'figure.figsize': fig_size\n",
    "    },\n",
    ")\n",
    "\n",
    "sns.set_palette(sns.color_palette(nt_colors))"
   ]
  },
  {
   "cell_type": "markdown",
   "id": "improving-travel",
   "metadata": {},
   "source": [
    "# Load Data"
   ]
  },
  {
   "cell_type": "code",
   "execution_count": 18,
   "id": "colored-festival",
   "metadata": {
    "tags": []
   },
   "outputs": [],
   "source": [
    "epoch_type = 'evoked'\n",
    "# epoch_type = 'pseudo-rs'\n",
    "\n",
    "all_participants = ['VP07','VP08','VP09', 'VP10','VP11','VP12','VP13','VP14','VP18','VP19','VP20','VP22','VP23','VP24','VP25','VP26','VP27','VP28','VP29','VP30','VP31','VP32','VP33','VP35','VP36','VP37']\n",
    "# \n",
    "# path = '/media/nicolas.bruno/63f8a366-34b7-4896-a7ce-b5fb4ee78535/Nico/MW_eeg_data/minmarker/' #icm-linux\n",
    "path = '/Users/nicobruno/ownCloud/MW_eeg_data/minmarker/' #nico-mac"
   ]
  },
  {
   "cell_type": "code",
   "execution_count": 19,
   "id": "dressed-telescope",
   "metadata": {},
   "outputs": [],
   "source": [
    "df = pd.DataFrame()\n",
    "\n",
    "for i,v in enumerate(all_participants): \n",
    "    participant = v\n",
    "    \n",
    "    folder = path + participant +'/'\n",
    "    \n",
    "    df_ = pd.read_csv(folder+ participant + '_' + epoch_type + '_all_marker.csv', index_col = 0)\n",
    "    df_['participant'] = i\n",
    "    df = df.append(df_)\n",
    "    \n",
    "# df.to_csv('Data/all_markers.csv')"
   ]
  },
  {
   "cell_type": "code",
   "execution_count": 20,
   "id": "outdoor-ivory",
   "metadata": {},
   "outputs": [],
   "source": [
    "markers = ['wSMI_1', 'wSMI_2', 'wSMI_4', 'wSMI_8', 'p_e_1', 'p_e_2',\n",
    "       'p_e_4', 'p_e_8', 'k', 'se','msf', 'sef90', 'sef95', 'b', 'b_n', 'g',\n",
    "       'g_n', 't', 't_n', 'd', 'd_n', 'a_n', 'a', 'CNV', 'P1', 'P3a', 'P3b',]\n",
    "#           'ft', 'ft_n']\n",
    "# erps = [r'$CNV$', r'$P1$', r'$P3a$',r'$P3b$']\n",
    "erps =['CNV', 'P1', 'P3a', 'P3b']\n",
    "freqs = ['d','t','a', 'b','g']\n",
    "freqs_n = ['d_n','t_n','a_n', 'b_n','g_n']\n",
    "wsmi = ['wSMI_1', 'wSMI_2', 'wSMI_4', 'wSMI_8',]\n",
    "p_e = [ 'p_e_1', 'p_e_2','p_e_4', 'p_e_8',]\n",
    "\n",
    "# markers =  [r'$\\delta$',r'$|\\delta|$',r'$\\theta$', r'$|\\theta|$',r'$\\alpha$', r'$|\\alpha|$',r'$\\beta$', r'$|\\beta|$',r'$\\gamma$', r'$|\\gamma|$',\n",
    "#             r'$PE\\gamma$',r'$PE\\beta$',r'$PE\\alpha$',r'$PE\\theta$',\n",
    "#             r'$wSMI\\gamma$',r'$wSMI\\beta$',r'$wSMI\\alpha$',r'$wSMI\\theta$', \n",
    "#             r'$K$',r'$SE$',r'$MSF$', r'$SEF90$', r'$SEF95$', \n",
    "#             r'$CNV$', r'$P1$', r'$P3a$',r'$P3b$'\n",
    "#            ]\n",
    "\n",
    "\n",
    "# df_subtracted = df.query(\"preproc == 'subtracted'\").drop(columns = erps+['preproc'])\n",
    "# df_erp = df.query(\"preproc == 'erp'\").drop(columns = np.setdiff1d(markers,erps).tolist()+['preproc'])\n",
    "\n",
    "# df_markers = df_subtracted.merge(df_erp, 'inner', on =np.setdiff1d(df_subtracted.columns, markers).tolist() )\n",
    "\n",
    "df_markers = (df\n",
    "              .query(\"stimuli == 'go'\")\n",
    "              .query(\"correct == 'correct'\")\n",
    "            .query('prev_trial < 5')\n",
    "              .drop(['stimuli', 'correct', 'prev_trial', 'label', 'events',  'epoch_type', 'preproc', 'ft', 'ft_n'], axis = 1)\n",
    "#               .query(\"mind in ['on-task','dMW', 'sMW']\")\n",
    "              .groupby(['segment', 'participant']).filter(lambda x: len(x) > 1)\n",
    "             )\n",
    "\n",
    "# df_markers.to_csv('Data/all_markers.csv')"
   ]
  },
  {
   "cell_type": "code",
   "execution_count": 21,
   "id": "applicable-milton",
   "metadata": {},
   "outputs": [
    {
     "data": {
      "text/html": [
       "<div>\n",
       "<style scoped>\n",
       "    .dataframe tbody tr th:only-of-type {\n",
       "        vertical-align: middle;\n",
       "    }\n",
       "\n",
       "    .dataframe tbody tr th {\n",
       "        vertical-align: top;\n",
       "    }\n",
       "\n",
       "    .dataframe thead th {\n",
       "        text-align: right;\n",
       "    }\n",
       "</style>\n",
       "<table border=\"1\" class=\"dataframe\">\n",
       "  <thead>\n",
       "    <tr style=\"text-align: right;\">\n",
       "      <th></th>\n",
       "      <th></th>\n",
       "      <th>wSMI_1</th>\n",
       "      <th>wSMI_2</th>\n",
       "      <th>wSMI_4</th>\n",
       "      <th>wSMI_8</th>\n",
       "      <th>p_e_1</th>\n",
       "      <th>p_e_2</th>\n",
       "      <th>p_e_4</th>\n",
       "      <th>p_e_8</th>\n",
       "      <th>k</th>\n",
       "      <th>se</th>\n",
       "      <th>...</th>\n",
       "      <th>t</th>\n",
       "      <th>t_n</th>\n",
       "      <th>d</th>\n",
       "      <th>d_n</th>\n",
       "      <th>a_n</th>\n",
       "      <th>a</th>\n",
       "      <th>CNV</th>\n",
       "      <th>P1</th>\n",
       "      <th>P3a</th>\n",
       "      <th>P3b</th>\n",
       "    </tr>\n",
       "    <tr>\n",
       "      <th>probe</th>\n",
       "      <th>mind</th>\n",
       "      <th></th>\n",
       "      <th></th>\n",
       "      <th></th>\n",
       "      <th></th>\n",
       "      <th></th>\n",
       "      <th></th>\n",
       "      <th></th>\n",
       "      <th></th>\n",
       "      <th></th>\n",
       "      <th></th>\n",
       "      <th></th>\n",
       "      <th></th>\n",
       "      <th></th>\n",
       "      <th></th>\n",
       "      <th></th>\n",
       "      <th></th>\n",
       "      <th></th>\n",
       "      <th></th>\n",
       "      <th></th>\n",
       "      <th></th>\n",
       "      <th></th>\n",
       "    </tr>\n",
       "  </thead>\n",
       "  <tbody>\n",
       "    <tr>\n",
       "      <th rowspan=\"5\" valign=\"top\">PC</th>\n",
       "      <th>about-task</th>\n",
       "      <td>82</td>\n",
       "      <td>82</td>\n",
       "      <td>82</td>\n",
       "      <td>82</td>\n",
       "      <td>82</td>\n",
       "      <td>82</td>\n",
       "      <td>82</td>\n",
       "      <td>82</td>\n",
       "      <td>82</td>\n",
       "      <td>82</td>\n",
       "      <td>...</td>\n",
       "      <td>82</td>\n",
       "      <td>82</td>\n",
       "      <td>82</td>\n",
       "      <td>82</td>\n",
       "      <td>82</td>\n",
       "      <td>82</td>\n",
       "      <td>82</td>\n",
       "      <td>82</td>\n",
       "      <td>82</td>\n",
       "      <td>82</td>\n",
       "    </tr>\n",
       "    <tr>\n",
       "      <th>dMW</th>\n",
       "      <td>39</td>\n",
       "      <td>39</td>\n",
       "      <td>39</td>\n",
       "      <td>39</td>\n",
       "      <td>39</td>\n",
       "      <td>39</td>\n",
       "      <td>39</td>\n",
       "      <td>39</td>\n",
       "      <td>39</td>\n",
       "      <td>39</td>\n",
       "      <td>...</td>\n",
       "      <td>39</td>\n",
       "      <td>39</td>\n",
       "      <td>39</td>\n",
       "      <td>39</td>\n",
       "      <td>39</td>\n",
       "      <td>39</td>\n",
       "      <td>39</td>\n",
       "      <td>39</td>\n",
       "      <td>39</td>\n",
       "      <td>39</td>\n",
       "    </tr>\n",
       "    <tr>\n",
       "      <th>distracted</th>\n",
       "      <td>48</td>\n",
       "      <td>48</td>\n",
       "      <td>48</td>\n",
       "      <td>48</td>\n",
       "      <td>48</td>\n",
       "      <td>48</td>\n",
       "      <td>48</td>\n",
       "      <td>48</td>\n",
       "      <td>48</td>\n",
       "      <td>48</td>\n",
       "      <td>...</td>\n",
       "      <td>48</td>\n",
       "      <td>48</td>\n",
       "      <td>48</td>\n",
       "      <td>48</td>\n",
       "      <td>48</td>\n",
       "      <td>48</td>\n",
       "      <td>48</td>\n",
       "      <td>48</td>\n",
       "      <td>48</td>\n",
       "      <td>48</td>\n",
       "    </tr>\n",
       "    <tr>\n",
       "      <th>on-task</th>\n",
       "      <td>94</td>\n",
       "      <td>94</td>\n",
       "      <td>94</td>\n",
       "      <td>94</td>\n",
       "      <td>94</td>\n",
       "      <td>94</td>\n",
       "      <td>94</td>\n",
       "      <td>94</td>\n",
       "      <td>94</td>\n",
       "      <td>94</td>\n",
       "      <td>...</td>\n",
       "      <td>94</td>\n",
       "      <td>94</td>\n",
       "      <td>94</td>\n",
       "      <td>94</td>\n",
       "      <td>94</td>\n",
       "      <td>94</td>\n",
       "      <td>94</td>\n",
       "      <td>94</td>\n",
       "      <td>94</td>\n",
       "      <td>94</td>\n",
       "    </tr>\n",
       "    <tr>\n",
       "      <th>sMW</th>\n",
       "      <td>43</td>\n",
       "      <td>43</td>\n",
       "      <td>43</td>\n",
       "      <td>43</td>\n",
       "      <td>43</td>\n",
       "      <td>43</td>\n",
       "      <td>43</td>\n",
       "      <td>43</td>\n",
       "      <td>43</td>\n",
       "      <td>43</td>\n",
       "      <td>...</td>\n",
       "      <td>43</td>\n",
       "      <td>43</td>\n",
       "      <td>43</td>\n",
       "      <td>43</td>\n",
       "      <td>43</td>\n",
       "      <td>43</td>\n",
       "      <td>43</td>\n",
       "      <td>43</td>\n",
       "      <td>43</td>\n",
       "      <td>43</td>\n",
       "    </tr>\n",
       "    <tr>\n",
       "      <th rowspan=\"5\" valign=\"top\">SC</th>\n",
       "      <th>about-task</th>\n",
       "      <td>200</td>\n",
       "      <td>200</td>\n",
       "      <td>200</td>\n",
       "      <td>200</td>\n",
       "      <td>200</td>\n",
       "      <td>200</td>\n",
       "      <td>200</td>\n",
       "      <td>200</td>\n",
       "      <td>200</td>\n",
       "      <td>200</td>\n",
       "      <td>...</td>\n",
       "      <td>200</td>\n",
       "      <td>200</td>\n",
       "      <td>200</td>\n",
       "      <td>200</td>\n",
       "      <td>200</td>\n",
       "      <td>200</td>\n",
       "      <td>200</td>\n",
       "      <td>200</td>\n",
       "      <td>200</td>\n",
       "      <td>200</td>\n",
       "    </tr>\n",
       "    <tr>\n",
       "      <th>dMW</th>\n",
       "      <td>286</td>\n",
       "      <td>286</td>\n",
       "      <td>286</td>\n",
       "      <td>286</td>\n",
       "      <td>286</td>\n",
       "      <td>286</td>\n",
       "      <td>286</td>\n",
       "      <td>286</td>\n",
       "      <td>286</td>\n",
       "      <td>286</td>\n",
       "      <td>...</td>\n",
       "      <td>286</td>\n",
       "      <td>286</td>\n",
       "      <td>286</td>\n",
       "      <td>286</td>\n",
       "      <td>286</td>\n",
       "      <td>286</td>\n",
       "      <td>286</td>\n",
       "      <td>286</td>\n",
       "      <td>286</td>\n",
       "      <td>286</td>\n",
       "    </tr>\n",
       "    <tr>\n",
       "      <th>distracted</th>\n",
       "      <td>199</td>\n",
       "      <td>199</td>\n",
       "      <td>199</td>\n",
       "      <td>199</td>\n",
       "      <td>199</td>\n",
       "      <td>199</td>\n",
       "      <td>199</td>\n",
       "      <td>199</td>\n",
       "      <td>199</td>\n",
       "      <td>199</td>\n",
       "      <td>...</td>\n",
       "      <td>199</td>\n",
       "      <td>199</td>\n",
       "      <td>199</td>\n",
       "      <td>199</td>\n",
       "      <td>199</td>\n",
       "      <td>199</td>\n",
       "      <td>199</td>\n",
       "      <td>199</td>\n",
       "      <td>199</td>\n",
       "      <td>199</td>\n",
       "    </tr>\n",
       "    <tr>\n",
       "      <th>on-task</th>\n",
       "      <td>10</td>\n",
       "      <td>10</td>\n",
       "      <td>10</td>\n",
       "      <td>10</td>\n",
       "      <td>10</td>\n",
       "      <td>10</td>\n",
       "      <td>10</td>\n",
       "      <td>10</td>\n",
       "      <td>10</td>\n",
       "      <td>10</td>\n",
       "      <td>...</td>\n",
       "      <td>10</td>\n",
       "      <td>10</td>\n",
       "      <td>10</td>\n",
       "      <td>10</td>\n",
       "      <td>10</td>\n",
       "      <td>10</td>\n",
       "      <td>10</td>\n",
       "      <td>10</td>\n",
       "      <td>10</td>\n",
       "      <td>10</td>\n",
       "    </tr>\n",
       "    <tr>\n",
       "      <th>sMW</th>\n",
       "      <td>250</td>\n",
       "      <td>250</td>\n",
       "      <td>250</td>\n",
       "      <td>250</td>\n",
       "      <td>250</td>\n",
       "      <td>250</td>\n",
       "      <td>250</td>\n",
       "      <td>250</td>\n",
       "      <td>250</td>\n",
       "      <td>250</td>\n",
       "      <td>...</td>\n",
       "      <td>250</td>\n",
       "      <td>250</td>\n",
       "      <td>250</td>\n",
       "      <td>250</td>\n",
       "      <td>250</td>\n",
       "      <td>250</td>\n",
       "      <td>250</td>\n",
       "      <td>250</td>\n",
       "      <td>250</td>\n",
       "      <td>250</td>\n",
       "    </tr>\n",
       "  </tbody>\n",
       "</table>\n",
       "<p>10 rows × 27 columns</p>\n",
       "</div>"
      ],
      "text/plain": [
       "                  wSMI_1  wSMI_2  wSMI_4  wSMI_8  p_e_1  p_e_2  p_e_4  p_e_8  \\\n",
       "probe mind                                                                     \n",
       "PC    about-task      82      82      82      82     82     82     82     82   \n",
       "      dMW             39      39      39      39     39     39     39     39   \n",
       "      distracted      48      48      48      48     48     48     48     48   \n",
       "      on-task         94      94      94      94     94     94     94     94   \n",
       "      sMW             43      43      43      43     43     43     43     43   \n",
       "SC    about-task     200     200     200     200    200    200    200    200   \n",
       "      dMW            286     286     286     286    286    286    286    286   \n",
       "      distracted     199     199     199     199    199    199    199    199   \n",
       "      on-task         10      10      10      10     10     10     10     10   \n",
       "      sMW            250     250     250     250    250    250    250    250   \n",
       "\n",
       "                    k   se  ...    t  t_n    d  d_n  a_n    a  CNV   P1  P3a  \\\n",
       "probe mind                  ...                                                \n",
       "PC    about-task   82   82  ...   82   82   82   82   82   82   82   82   82   \n",
       "      dMW          39   39  ...   39   39   39   39   39   39   39   39   39   \n",
       "      distracted   48   48  ...   48   48   48   48   48   48   48   48   48   \n",
       "      on-task      94   94  ...   94   94   94   94   94   94   94   94   94   \n",
       "      sMW          43   43  ...   43   43   43   43   43   43   43   43   43   \n",
       "SC    about-task  200  200  ...  200  200  200  200  200  200  200  200  200   \n",
       "      dMW         286  286  ...  286  286  286  286  286  286  286  286  286   \n",
       "      distracted  199  199  ...  199  199  199  199  199  199  199  199  199   \n",
       "      on-task      10   10  ...   10   10   10   10   10   10   10   10   10   \n",
       "      sMW         250  250  ...  250  250  250  250  250  250  250  250  250   \n",
       "\n",
       "                  P3b  \n",
       "probe mind             \n",
       "PC    about-task   82  \n",
       "      dMW          39  \n",
       "      distracted   48  \n",
       "      on-task      94  \n",
       "      sMW          43  \n",
       "SC    about-task  200  \n",
       "      dMW         286  \n",
       "      distracted  199  \n",
       "      on-task      10  \n",
       "      sMW         250  \n",
       "\n",
       "[10 rows x 27 columns]"
      ]
     },
     "execution_count": 21,
     "metadata": {},
     "output_type": "execute_result"
    }
   ],
   "source": [
    "df_markers.groupby(['segment', 'participant']).first().groupby(['probe','mind']).agg('count')\n",
    "# df_markers.groupby(['segment', 'participant']).first().groupby(['probe']).agg('count')"
   ]
  },
  {
   "cell_type": "markdown",
   "id": "gothic-roulette",
   "metadata": {},
   "source": [
    "# Probe Caught"
   ]
  },
  {
   "cell_type": "code",
   "execution_count": 22,
   "id": "scenic-beauty",
   "metadata": {},
   "outputs": [],
   "source": [
    "mind_states = ['on-task', 'about-task', 'distracted', 'dMW', 'sMW']\n",
    "mind_dict = {'on-task':5, 'about-task':4, 'distracted':3, 'dMW':2, 'sMW':1}\n",
    "agg_dict = {k:['mean', 'std'] for k in markers }\n",
    "agg_dict.update({k:'first' for k in df_markers.drop(markers, axis=1).columns})\n",
    "\n",
    "df_probe = (\n",
    "    df_markers\n",
    "    .query(\"probe == 'PC'\")\n",
    "    .groupby(['segment', 'participant'], as_index = False).agg(agg_dict)\n",
    ")\n",
    "\n",
    "\n",
    "### To use string names without latex commands ###\n",
    "# df_probe.columns = df_probe.columns.map(\"_\".join)\n",
    "\n",
    "# df_probe  = (df_probe\n",
    "#             .rename(columns = {'participant_first':'participant', 'probe_first':'probe', 'mind_first':'mind', 'segment_first':'segment'}) \n",
    "#              .assign(mind_order = lambda df: np.select([df.mind == 'on-task', df.mind == 'about-task', df.mind == 'distracted',df.mind == 'dMW', df.mind == 'sMW'], [5,4,3,2,1]) )\n",
    "# #             .sort_values(by = 'mind_order')\n",
    "#             .drop(['participant', 'probe', 'segment'], axis = 1)\n",
    "#            )    \n",
    "\n",
    "\n",
    "#### Use latex command for nmaes###\n",
    "##it slow downs the computer, just for final figures.\n",
    "\n",
    "df_probe = correct_name_markers(df_probe)\n",
    "\n",
    "df_probe.columns = df_probe.columns.map(\"$_{\".join).map(lambda x: x + '}$').map(lambda x: x.replace('$$', ''))\n",
    "\n",
    "\n",
    "df_probe  = (df_probe\n",
    "            .rename(columns = {'participant$_{first}$':'participant', 'probe$_{first}$':'probe', 'mind$_{first}$':'mind', 'segment$_{first}$':'segment'})\n",
    "             .assign(mind_order = lambda df: np.select([df.mind == 'on-task', df.mind == 'about-task', df.mind == 'distracted',df.mind == 'dMW', df.mind == 'sMW'], [5,4,2,3,1]) )\n",
    "#             .sort_values(by = 'mind_order')\n",
    "            .drop(['participant', 'probe', 'segment'], axis = 1)\n",
    "           )   \n",
    "\n",
    "\n",
    "\n",
    "df_all_probe = pd.DataFrame()\n",
    "\n",
    "for i in mind_states:\n",
    "    for j in mind_states:\n",
    "        if i == j:\n",
    "            break\n",
    "        contrast = [i,j]\n",
    "        df_mind =  df_probe.query(f\"mind in {contrast}\")\n",
    "        \n",
    "        AUC = []\n",
    "        pvalues = {}\n",
    "        for marker in df_mind.drop(['mind', 'mind_order'], axis = 1).columns:\n",
    "            first = df_mind.query(f\"mind == '{contrast[0]}'\")[marker]\n",
    "            second = df_mind.query(f\"mind == '{contrast[1]}'\")[marker]\n",
    "            auc = roc_auc_score(df_mind['mind_order'], df_mind[marker])\n",
    "            AUC.append([marker, auc])\n",
    "            pvalues[marker] = mannwhitneyu(x = first, y = second).pvalue \n",
    "\n",
    "        df_auc = pd.DataFrame(AUC, columns = ['markers', 'AUC'])\n",
    "\n",
    "        p_df =pd.DataFrame.from_dict(pvalues, orient = 'index', columns = ['p_value']).reset_index().rename(columns ={'index': 'markers'})\n",
    "        df_auc = (df_auc\n",
    "                    .merge(p_df, on = 'markers', how = 'inner')\n",
    "                    .assign(\n",
    "                            p_corrected = lambda df: multipletests(df.p_value, method = 'fdr_bh')[1],\n",
    "                            significant = lambda df: np.select([(df.p_value < 0.05) & (df.p_corrected < 0.05), (df.p_value < 0.05) & (df.p_corrected > 0.05),  \n",
    "                                                         (df.p_value > 0.05) & (df.p_corrected > 0.05)], ['p < 0.05 FDR corrected','p < 0.05 uncorrected', 'p > 0.05']),\n",
    "                            balance = 'unbalance',\n",
    "                            comparison = f\"{i} vs {j}\"\n",
    "                            )\n",
    "                  )\n",
    "        \n",
    "        df_all_probe = df_all_probe.append(df_auc)        \n",
    "        \n",
    "        AUC = []\n",
    "        pvalues = {}\n",
    "        for marker in df_mind.drop(['mind', 'mind_order'], axis = 1).columns:\n",
    "            rus = RandomUnderSampler(random_state=42)# fit predictor and target variable\n",
    "\n",
    "            mind_rus = rus.fit_resample(df_mind[marker].astype(\"float32\").values.reshape(-1,1), df_mind.mind)\n",
    "\n",
    "            df_mind_rus = pd.DataFrame(mind_rus[0], columns =['markers']).assign(mind = mind_rus[1], \n",
    "                                                                        mind_order = lambda df: np.select([df.mind == 'on-task', df.mind == 'about-task', \n",
    "                                                                                                           df.mind == 'distracted',df.mind == 'dMW', df.mind == 'sMW'],\n",
    "                                                                                                          [5,4,3,2,1]))\n",
    "            \n",
    "            first = df_mind_rus.query(f\"mind == '{contrast[0]}'\")['markers']\n",
    "            second = df_mind_rus.query(f\"mind == '{contrast[1]}'\")['markers']\n",
    "            auc = roc_auc_score(df_mind_rus['mind_order'], df_mind_rus['markers'])\n",
    "            AUC.append([marker, auc])\n",
    "            pvalues[marker] = mannwhitneyu(x = first, y = second).pvalue  \n",
    "\n",
    "        df_rus = pd.DataFrame(AUC, columns = ['markers', 'AUC'])\n",
    "\n",
    "        p_df =pd.DataFrame.from_dict(pvalues, orient = 'index', columns = ['p_value']).reset_index().rename(columns ={'index': 'markers'})\n",
    "        df_rus = (df_rus\n",
    "                    .merge(p_df, on = 'markers', how = 'inner')\n",
    "                    .assign(\n",
    "                            p_corrected = lambda df: multipletests(df.p_value, method = 'fdr_bh')[1],\n",
    "                            significant = lambda df: np.select([(df.p_value < 0.05) & (df.p_corrected < 0.05), (df.p_value < 0.05) & (df.p_corrected > 0.05),  \n",
    "                                                         (df.p_value > 0.05) & (df.p_corrected > 0.05)], ['p < 0.05 FDR corrected','p < 0.05 uncorrected', 'p > 0.05']),\n",
    "                            balance = 'under-sample',\n",
    "                            comparison = f\"{i} vs {j}\"\n",
    "                            )\n",
    "                  )\n",
    "                        \n",
    "        df_all_probe = df_all_probe.append(df_rus)\n",
    "        \n",
    "        \n",
    "        AUC = []\n",
    "        pvalues = {}\n",
    "        for marker in df_mind.drop(['mind', 'mind_order'], axis = 1).columns:\n",
    "            ros = SMOTE(random_state=42)# fit predictor and target variable\n",
    "\n",
    "            mind_ros = ros.fit_resample(df_mind[marker].astype(\"float32\").values.reshape(-1,1), df_mind.mind)\n",
    "\n",
    "            df_mind_ros = pd.DataFrame(mind_ros[0], columns =['markers']).assign(mind = mind_ros[1],                                                                       \n",
    "                                                                                 mind_order = lambda df: np.select([df.mind == 'on-task', df.mind == 'about-task', \n",
    "                                                                                                                 df.mind == 'distracted',df.mind == 'dMW', df.mind == 'sMW'],\n",
    "                                                                                                          [5,4,3,2,1]))\n",
    "            \n",
    "            first = df_mind_ros.query(f\"mind == '{contrast[0]}'\")['markers']\n",
    "            second = df_mind_ros.query(f\"mind == '{contrast[1]}'\")['markers']\n",
    "            auc = roc_auc_score(df_mind_ros['mind_order'], df_mind_ros['markers'])\n",
    "            AUC.append([marker, auc])\n",
    "            pvalues[marker] = mannwhitneyu(x = first, y = second).pvalue  \n",
    "\n",
    "        df_ros = pd.DataFrame(AUC, columns = ['markers', 'AUC'])\n",
    "\n",
    "        p_df =pd.DataFrame.from_dict(pvalues, orient = 'index', columns = ['p_value']).reset_index().rename(columns ={'index': 'markers'})\n",
    "        df_ros = (df_ros\n",
    "                    .merge(p_df, on = 'markers', how = 'inner')\n",
    "                    .assign(\n",
    "                            p_corrected = lambda df: multipletests(df.p_value, method = 'fdr_bh')[1],\n",
    "                            significant = lambda df: np.select([(df.p_value < 0.05) & (df.p_corrected < 0.05), (df.p_value < 0.05) & (df.p_corrected > 0.05),  \n",
    "                                                         (df.p_value > 0.05) & (df.p_corrected > 0.05)], ['p < 0.05 FDR corrected','p < 0.05 uncorrected', 'p > 0.05']),\n",
    "                            balance = 'over-sample',\n",
    "                            comparison = f\"{i} vs {j}\"\n",
    "                            )\n",
    "                  )\n",
    "                        \n",
    "        df_all_probe = df_all_probe.append(df_ros)"
   ]
  },
  {
   "cell_type": "code",
   "execution_count": 23,
   "id": "communist-organization",
   "metadata": {
    "tags": []
   },
   "outputs": [
    {
     "data": {
      "application/vnd.plotly.v1+json": {
       "config": {
        "plotlyServerURL": "https://plot.ly"
       },
       "data": [
        {
         "hovertemplate": "balance=unbalance<br>significant=p > 0.05<br>about-task>on-task                  about-task<on-task=%{x}<br>markers=%{y}<extra></extra>",
         "legendgroup": "unbalance, p > 0.05",
         "marker": {
          "color": "#DE237B",
          "size": 8,
          "symbol": "circle-open"
         },
         "mode": "markers",
         "name": "unbalance, p > 0.05",
         "orientation": "h",
         "showlegend": true,
         "type": "scatter",
         "x": [
          0.42215879605604567,
          0.4302023871302543,
          0.4377270368448365,
          0.4469382459782044,
          0.44927348209652307,
          0.44927348209652307,
          0.4496626881162429,
          0.45212765957446804,
          0.4551115723923197,
          0.45699273482096525,
          0.45965230928905026,
          0.4635443694862481,
          0.46380384016606124,
          0.4660093409444733,
          0.46912298910223144,
          0.4732745199792423,
          0.47690710949662685,
          0.48002075765438507,
          0.48053969901401145,
          0.48092890503373115,
          0.4809289050337312,
          0.4844966268811624,
          0.4894914374675662,
          0.49065905552672545,
          0.503502854177478,
          0.5137519460300985,
          0.5138816813700052,
          0.5156979761286975,
          0.519979242345615,
          0.5207576543850545,
          0.521536066424494,
          0.5245199792423456,
          0.5271146860404774,
          0.5337311883757135,
          0.5341203943954334,
          0.5342501297353399,
          0.5357420861442657,
          0.538012454592631,
          0.5422937208095485,
          0.5435910742086144,
          0.5446289569278672,
          0.5563051375194604,
          0.5564348728593669,
          0.5587701089776855,
          0.5620134924753502,
          0.5664244940321743,
          0.5678515827711469,
          0.5717436429683446,
          0.578879086663207,
          0.584587441619097,
          0.5856253243383498
         ],
         "xaxis": "x",
         "y": [
          "$wSMI\\beta_{std}$",
          "$PE\\alpha_{mean}$",
          "$P3b_{mean}$",
          "$\\delta_{std}$",
          "$\\delta_{mean}$",
          "$\\beta_{mean}$",
          "$SE_{mean}$",
          "$CNV_{std}$",
          "$|\\beta|_{mean}$",
          "$SEF90_{mean}$",
          "$CNV_{mean}$",
          "$\\gamma_{mean}$",
          "$SEF95_{mean}$",
          "$P1_{std}$",
          "$MSF_{mean}$",
          "$PE\\beta_{mean}$",
          "$|\\delta|_{mean}$",
          "$|\\delta|_{std}$",
          "$wSMI\\gamma_{mean}$",
          "$|\\gamma|_{mean}$",
          "$K_{mean}$",
          "$MSF_{std}$",
          "$PE\\gamma_{mean}$",
          "$P3b_{std}$",
          "$\\alpha_{mean}$",
          "$|\\beta|_{std}$",
          "$|\\gamma|_{std}$",
          "$\\beta_{std}$",
          "$\\theta_{std}$",
          "$\\theta_{mean}$",
          "$wSMI\\beta_{mean}$",
          "$|\\theta|_{std}$",
          "$|\\alpha|_{mean}$",
          "$P3a_{mean}$",
          "$P1_{mean}$",
          "$PE\\theta_{mean}$",
          "$K_{std}$",
          "$wSMI\\gamma_{std}$",
          "$PE\\theta_{std}$",
          "$SEF95_{std}$",
          "$wSMI\\alpha_{std}$",
          "$SEF90_{std}$",
          "$wSMI\\alpha_{mean}$",
          "$P3a_{std}$",
          "$SE_{std}$",
          "$|\\alpha|_{std}$",
          "$|\\theta|_{mean}$",
          "$PE\\gamma_{std}$",
          "$wSMI\\theta_{mean}$",
          "$PE\\alpha_{std}$",
          "$wSMI\\theta_{std}$"
         ],
         "yaxis": "y"
        },
        {
         "hovertemplate": "balance=unbalance<br>significant=p < 0.05 uncorrected<br>about-task>on-task                  about-task<on-task=%{x}<br>markers=%{y}<extra></extra>",
         "legendgroup": "unbalance, p < 0.05 uncorrected",
         "marker": {
          "color": "#DE237B",
          "size": 8,
          "symbol": "circle"
         },
         "mode": "markers",
         "name": "unbalance, p < 0.05 uncorrected",
         "orientation": "h",
         "showlegend": true,
         "type": "scatter",
         "x": [
          0.5952257394914374,
          0.598209652309289,
          0.6000259470679814
         ],
         "xaxis": "x",
         "y": [
          "$\\gamma_{std}$",
          "$\\alpha_{std}$",
          "$PE\\beta_{std}$"
         ],
         "yaxis": "y"
        },
        {
         "hovertemplate": "balance=under-sample<br>significant=p > 0.05<br>about-task>on-task                  about-task<on-task=%{x}<br>markers=%{y}<extra></extra>",
         "legendgroup": "under-sample, p > 0.05",
         "marker": {
          "color": "#9AC529",
          "size": 8,
          "symbol": "circle-open"
         },
         "mode": "markers",
         "name": "under-sample, p > 0.05",
         "orientation": "h",
         "showlegend": true,
         "type": "scatter",
         "x": [
          0.4360499702558001,
          0.4379833432480667,
          0.4405116002379536,
          0.44348602022605593,
          0.4472040452111839,
          0.4570196311719214,
          0.4620761451516954,
          0.4651992861392028,
          0.46951219512195125,
          0.4696609161213563,
          0.4708506841165972,
          0.4721891731112433,
          0.47687388459250446,
          0.47865853658536583,
          0.4827483640690065,
          0.48423557406305767,
          0.48453301606186794,
          0.4855740630577037,
          0.4878048780487805,
          0.48899464604402143,
          0.49152290303390844,
          0.49345627602617487,
          0.4995538370017847,
          0.5007436049970255,
          0.5028256989886972,
          0.5059488399762047,
          0.5121951219512195,
          0.5124925639500297,
          0.5175490779298036,
          0.5197798929208803,
          0.5202260559190958,
          0.5223081499107675,
          0.5284057108863771,
          0.5298929208804283,
          0.5327186198691255,
          0.5331647828673409,
          0.5379238548483045,
          0.5462522308149911,
          0.5489292088042832,
          0.5499702558001189,
          0.550118976799524,
          0.5502676977989291,
          0.5542831647828673,
          0.5563652587745389,
          0.5569601427721594,
          0.5606781677572873,
          0.5669244497323022,
          0.5675193337299227,
          0.5675193337299227,
          0.5697501487209995
         ],
         "xaxis": "x2",
         "y": [
          "$PE\\alpha_{mean}$",
          "$wSMI\\beta_{std}$",
          "$P3b_{mean}$",
          "$\\delta_{std}$",
          "$\\delta_{mean}$",
          "$\\beta_{mean}$",
          "$|\\beta|_{mean}$",
          "$SE_{mean}$",
          "$CNV_{mean}$",
          "$CNV_{std}$",
          "$|\\delta|_{mean}$",
          "$P1_{std}$",
          "$SEF90_{mean}$",
          "$MSF_{std}$",
          "$SEF95_{mean}$",
          "$\\gamma_{mean}$",
          "$MSF_{mean}$",
          "$wSMI\\gamma_{mean}$",
          "$|\\delta|_{std}$",
          "$P3b_{std}$",
          "$\\alpha_{mean}$",
          "$PE\\beta_{mean}$",
          "$K_{mean}$",
          "$|\\gamma|_{mean}$",
          "$|\\beta|_{std}$",
          "$\\beta_{std}$",
          "$\\theta_{mean}$",
          "$PE\\gamma_{mean}$",
          "$|\\alpha|_{mean}$",
          "$wSMI\\beta_{mean}$",
          "$PE\\theta_{mean}$",
          "$\\theta_{std}$",
          "$|\\gamma|_{std}$",
          "$P3a_{mean}$",
          "$wSMI\\alpha_{std}$",
          "$K_{std}$",
          "$P1_{mean}$",
          "$PE\\theta_{std}$",
          "$SEF95_{std}$",
          "$PE\\gamma_{std}$",
          "$|\\theta|_{std}$",
          "$wSMI\\gamma_{std}$",
          "$wSMI\\alpha_{mean}$",
          "$|\\theta|_{mean}$",
          "$wSMI\\theta_{std}$",
          "$wSMI\\theta_{mean}$",
          "$P3a_{std}$",
          "$SE_{std}$",
          "$|\\alpha|_{std}$",
          "$SEF90_{std}$"
         ],
         "yaxis": "y2"
        },
        {
         "hovertemplate": "balance=under-sample<br>significant=p < 0.05 uncorrected<br>about-task>on-task                  about-task<on-task=%{x}<br>markers=%{y}<extra></extra>",
         "legendgroup": "under-sample, p < 0.05 uncorrected",
         "marker": {
          "color": "#9AC529",
          "size": 8,
          "symbol": "circle"
         },
         "mode": "markers",
         "name": "under-sample, p < 0.05 uncorrected",
         "orientation": "h",
         "showlegend": true,
         "type": "scatter",
         "x": [
          0.5899762046400951,
          0.591017251635931,
          0.5942891136228435,
          0.60901249256395
         ],
         "xaxis": "x2",
         "y": [
          "$PE\\beta_{std}$",
          "$PE\\alpha_{std}$",
          "$\\alpha_{std}$",
          "$\\gamma_{std}$"
         ],
         "yaxis": "y2"
        },
        {
         "hovertemplate": "balance=over-sample<br>significant=p > 0.05<br>about-task>on-task                  about-task<on-task=%{x}<br>markers=%{y}<extra></extra>",
         "legendgroup": "over-sample, p > 0.05",
         "marker": {
          "color": "#F38A31",
          "size": 8,
          "symbol": "circle-open"
         },
         "mode": "markers",
         "name": "over-sample, p > 0.05",
         "orientation": "h",
         "showlegend": true,
         "type": "scatter",
         "x": [
          0.41851516523313714,
          0.42915346310547753,
          0.44443186962426434,
          0.4456767768220914,
          0.44692168401991855,
          0.4476007243096424,
          0.4488456315074695,
          0.4490719782707107,
          0.45229741964689907,
          0.4546174739701222,
          0.4581258488003621,
          0.4591444092349479,
          0.4612947034857401,
          0.4631054775916704,
          0.4704617473970122,
          0.4741964689904934,
          0.47668628338614755,
          0.4769126301493888,
          0.47827071072883665,
          0.4794590312358533,
          0.4818922589406971,
          0.48392937980986866,
          0.48947487550928015,
          0.4989814395654142,
          0.5135808057944771,
          0.5191263014938886,
          0.5195789950203712,
          0.5195789950203712,
          0.5212765957446809,
          0.5215029425079221,
          0.5216161158895428,
          0.5238795835219556,
          0.525350837483024,
          0.5256903576278859,
          0.5261996378451788,
          0.5328202806699864,
          0.533272974196469,
          0.5371208691715708,
          0.5389316432775011,
          0.5405160706201901,
          0.5528519692168402,
          0.5542100497962879,
          0.5545495699411499,
          0.5578315980081485,
          0.5589633318243549,
          0.5640561339972838,
          0.5696016296966954,
          0.5702806699864192,
          0.5735626980534179,
          0.5804662743322769
         ],
         "xaxis": "x3",
         "y": [
          "$P3b_{mean}$",
          "$PE\\alpha_{mean}$",
          "$CNV_{std}$",
          "$SE_{mean}$",
          "$\\delta_{std}$",
          "$\\beta_{mean}$",
          "$CNV_{mean}$",
          "$\\delta_{mean}$",
          "$SEF90_{mean}$",
          "$|\\beta|_{mean}$",
          "$SEF95_{mean}$",
          "$\\gamma_{mean}$",
          "$P1_{std}$",
          "$MSF_{mean}$",
          "$wSMI\\gamma_{mean}$",
          "$PE\\beta_{mean}$",
          "$|\\gamma|_{mean}$",
          "$|\\delta|_{std}$",
          "$K_{mean}$",
          "$MSF_{std}$",
          "$P3b_{std}$",
          "$|\\delta|_{mean}$",
          "$PE\\gamma_{mean}$",
          "$\\alpha_{mean}$",
          "$|\\gamma|_{std}$",
          "$|\\theta|_{std}$",
          "$wSMI\\beta_{mean}$",
          "$\\beta_{std}$",
          "$|\\alpha|_{mean}$",
          "$|\\beta|_{std}$",
          "$\\theta_{mean}$",
          "$P1_{mean}$",
          "$\\theta_{std}$",
          "$PE\\theta_{std}$",
          "$K_{std}$",
          "$P3a_{mean}$",
          "$PE\\theta_{mean}$",
          "$wSMI\\alpha_{std}$",
          "$SEF95_{std}$",
          "$wSMI\\gamma_{std}$",
          "$wSMI\\alpha_{mean}$",
          "$SEF90_{std}$",
          "$|\\alpha|_{std}$",
          "$P3a_{std}$",
          "$SE_{std}$",
          "$PE\\gamma_{std}$",
          "$|\\theta|_{mean}$",
          "$wSMI\\theta_{std}$",
          "$PE\\alpha_{std}$",
          "$wSMI\\theta_{mean}$"
         ],
         "yaxis": "y3"
        },
        {
         "hovertemplate": "balance=over-sample<br>significant=p < 0.05 uncorrected<br>about-task>on-task                  about-task<on-task=%{x}<br>markers=%{y}<extra></extra>",
         "legendgroup": "over-sample, p < 0.05 uncorrected",
         "marker": {
          "color": "#F38A31",
          "size": 8,
          "symbol": "circle"
         },
         "mode": "markers",
         "name": "over-sample, p < 0.05 uncorrected",
         "orientation": "h",
         "showlegend": true,
         "type": "scatter",
         "x": [
          0.4139882299683114,
          0.5885015844273427,
          0.5976686283386148,
          0.599479402444545
         ],
         "xaxis": "x3",
         "y": [
          "$wSMI\\beta_{std}$",
          "$\\alpha_{std}$",
          "$\\gamma_{std}$",
          "$PE\\beta_{std}$"
         ],
         "yaxis": "y3"
        }
       ],
       "layout": {
        "annotations": [
         {
          "showarrow": false,
          "text": "balance=unbalance",
          "x": 0.15999999999999998,
          "xanchor": "center",
          "xref": "paper",
          "y": 1,
          "yanchor": "bottom",
          "yref": "paper"
         },
         {
          "showarrow": false,
          "text": "balance=under-sample",
          "x": 0.49999999999999994,
          "xanchor": "center",
          "xref": "paper",
          "y": 1,
          "yanchor": "bottom",
          "yref": "paper"
         },
         {
          "showarrow": false,
          "text": "balance=over-sample",
          "x": 0.8399999999999999,
          "xanchor": "center",
          "xref": "paper",
          "y": 1,
          "yanchor": "bottom",
          "yref": "paper"
         }
        ],
        "autosize": true,
        "height": 800,
        "legend": {
         "title": {
          "text": "balance, significant"
         },
         "tracegroupgap": 0
        },
        "margin": {
         "t": 60
        },
        "shapes": [
         {
          "line": {
           "color": "black",
           "dash": "dash",
           "width": 3
          },
          "type": "line",
          "x0": 0.5,
          "x1": 0.5,
          "xref": "x",
          "y0": 0,
          "y1": 1,
          "yref": "y domain"
         },
         {
          "line": {
           "color": "black",
           "dash": "dash",
           "width": 3
          },
          "type": "line",
          "x0": 0.5,
          "x1": 0.5,
          "xref": "x2",
          "y0": 0,
          "y1": 1,
          "yref": "y2 domain"
         },
         {
          "line": {
           "color": "black",
           "dash": "dash",
           "width": 3
          },
          "type": "line",
          "x0": 0.5,
          "x1": 0.5,
          "xref": "x3",
          "y0": 0,
          "y1": 1,
          "yref": "y3 domain"
         }
        ],
        "template": {
         "data": {
          "bar": [
           {
            "error_x": {
             "color": "#2a3f5f"
            },
            "error_y": {
             "color": "#2a3f5f"
            },
            "marker": {
             "line": {
              "color": "white",
              "width": 0.5
             },
             "pattern": {
              "fillmode": "overlay",
              "size": 10,
              "solidity": 0.2
             }
            },
            "type": "bar"
           }
          ],
          "barpolar": [
           {
            "marker": {
             "line": {
              "color": "white",
              "width": 0.5
             },
             "pattern": {
              "fillmode": "overlay",
              "size": 10,
              "solidity": 0.2
             }
            },
            "type": "barpolar"
           }
          ],
          "carpet": [
           {
            "aaxis": {
             "endlinecolor": "#2a3f5f",
             "gridcolor": "#C8D4E3",
             "linecolor": "#C8D4E3",
             "minorgridcolor": "#C8D4E3",
             "startlinecolor": "#2a3f5f"
            },
            "baxis": {
             "endlinecolor": "#2a3f5f",
             "gridcolor": "#C8D4E3",
             "linecolor": "#C8D4E3",
             "minorgridcolor": "#C8D4E3",
             "startlinecolor": "#2a3f5f"
            },
            "type": "carpet"
           }
          ],
          "choropleth": [
           {
            "colorbar": {
             "outlinewidth": 0,
             "ticks": ""
            },
            "type": "choropleth"
           }
          ],
          "contour": [
           {
            "colorbar": {
             "outlinewidth": 0,
             "ticks": ""
            },
            "colorscale": [
             [
              0,
              "#0d0887"
             ],
             [
              0.1111111111111111,
              "#46039f"
             ],
             [
              0.2222222222222222,
              "#7201a8"
             ],
             [
              0.3333333333333333,
              "#9c179e"
             ],
             [
              0.4444444444444444,
              "#bd3786"
             ],
             [
              0.5555555555555556,
              "#d8576b"
             ],
             [
              0.6666666666666666,
              "#ed7953"
             ],
             [
              0.7777777777777778,
              "#fb9f3a"
             ],
             [
              0.8888888888888888,
              "#fdca26"
             ],
             [
              1,
              "#f0f921"
             ]
            ],
            "type": "contour"
           }
          ],
          "contourcarpet": [
           {
            "colorbar": {
             "outlinewidth": 0,
             "ticks": ""
            },
            "type": "contourcarpet"
           }
          ],
          "heatmap": [
           {
            "colorbar": {
             "outlinewidth": 0,
             "ticks": ""
            },
            "colorscale": [
             [
              0,
              "#0d0887"
             ],
             [
              0.1111111111111111,
              "#46039f"
             ],
             [
              0.2222222222222222,
              "#7201a8"
             ],
             [
              0.3333333333333333,
              "#9c179e"
             ],
             [
              0.4444444444444444,
              "#bd3786"
             ],
             [
              0.5555555555555556,
              "#d8576b"
             ],
             [
              0.6666666666666666,
              "#ed7953"
             ],
             [
              0.7777777777777778,
              "#fb9f3a"
             ],
             [
              0.8888888888888888,
              "#fdca26"
             ],
             [
              1,
              "#f0f921"
             ]
            ],
            "type": "heatmap"
           }
          ],
          "heatmapgl": [
           {
            "colorbar": {
             "outlinewidth": 0,
             "ticks": ""
            },
            "colorscale": [
             [
              0,
              "#0d0887"
             ],
             [
              0.1111111111111111,
              "#46039f"
             ],
             [
              0.2222222222222222,
              "#7201a8"
             ],
             [
              0.3333333333333333,
              "#9c179e"
             ],
             [
              0.4444444444444444,
              "#bd3786"
             ],
             [
              0.5555555555555556,
              "#d8576b"
             ],
             [
              0.6666666666666666,
              "#ed7953"
             ],
             [
              0.7777777777777778,
              "#fb9f3a"
             ],
             [
              0.8888888888888888,
              "#fdca26"
             ],
             [
              1,
              "#f0f921"
             ]
            ],
            "type": "heatmapgl"
           }
          ],
          "histogram": [
           {
            "marker": {
             "pattern": {
              "fillmode": "overlay",
              "size": 10,
              "solidity": 0.2
             }
            },
            "type": "histogram"
           }
          ],
          "histogram2d": [
           {
            "colorbar": {
             "outlinewidth": 0,
             "ticks": ""
            },
            "colorscale": [
             [
              0,
              "#0d0887"
             ],
             [
              0.1111111111111111,
              "#46039f"
             ],
             [
              0.2222222222222222,
              "#7201a8"
             ],
             [
              0.3333333333333333,
              "#9c179e"
             ],
             [
              0.4444444444444444,
              "#bd3786"
             ],
             [
              0.5555555555555556,
              "#d8576b"
             ],
             [
              0.6666666666666666,
              "#ed7953"
             ],
             [
              0.7777777777777778,
              "#fb9f3a"
             ],
             [
              0.8888888888888888,
              "#fdca26"
             ],
             [
              1,
              "#f0f921"
             ]
            ],
            "type": "histogram2d"
           }
          ],
          "histogram2dcontour": [
           {
            "colorbar": {
             "outlinewidth": 0,
             "ticks": ""
            },
            "colorscale": [
             [
              0,
              "#0d0887"
             ],
             [
              0.1111111111111111,
              "#46039f"
             ],
             [
              0.2222222222222222,
              "#7201a8"
             ],
             [
              0.3333333333333333,
              "#9c179e"
             ],
             [
              0.4444444444444444,
              "#bd3786"
             ],
             [
              0.5555555555555556,
              "#d8576b"
             ],
             [
              0.6666666666666666,
              "#ed7953"
             ],
             [
              0.7777777777777778,
              "#fb9f3a"
             ],
             [
              0.8888888888888888,
              "#fdca26"
             ],
             [
              1,
              "#f0f921"
             ]
            ],
            "type": "histogram2dcontour"
           }
          ],
          "mesh3d": [
           {
            "colorbar": {
             "outlinewidth": 0,
             "ticks": ""
            },
            "type": "mesh3d"
           }
          ],
          "parcoords": [
           {
            "line": {
             "colorbar": {
              "outlinewidth": 0,
              "ticks": ""
             }
            },
            "type": "parcoords"
           }
          ],
          "pie": [
           {
            "automargin": true,
            "type": "pie"
           }
          ],
          "scatter": [
           {
            "fillpattern": {
             "fillmode": "overlay",
             "size": 10,
             "solidity": 0.2
            },
            "type": "scatter"
           }
          ],
          "scatter3d": [
           {
            "line": {
             "colorbar": {
              "outlinewidth": 0,
              "ticks": ""
             }
            },
            "marker": {
             "colorbar": {
              "outlinewidth": 0,
              "ticks": ""
             }
            },
            "type": "scatter3d"
           }
          ],
          "scattercarpet": [
           {
            "marker": {
             "colorbar": {
              "outlinewidth": 0,
              "ticks": ""
             }
            },
            "type": "scattercarpet"
           }
          ],
          "scattergeo": [
           {
            "marker": {
             "colorbar": {
              "outlinewidth": 0,
              "ticks": ""
             }
            },
            "type": "scattergeo"
           }
          ],
          "scattergl": [
           {
            "marker": {
             "colorbar": {
              "outlinewidth": 0,
              "ticks": ""
             }
            },
            "type": "scattergl"
           }
          ],
          "scattermapbox": [
           {
            "marker": {
             "colorbar": {
              "outlinewidth": 0,
              "ticks": ""
             }
            },
            "type": "scattermapbox"
           }
          ],
          "scatterpolar": [
           {
            "marker": {
             "colorbar": {
              "outlinewidth": 0,
              "ticks": ""
             }
            },
            "type": "scatterpolar"
           }
          ],
          "scatterpolargl": [
           {
            "marker": {
             "colorbar": {
              "outlinewidth": 0,
              "ticks": ""
             }
            },
            "type": "scatterpolargl"
           }
          ],
          "scatterternary": [
           {
            "marker": {
             "colorbar": {
              "outlinewidth": 0,
              "ticks": ""
             }
            },
            "type": "scatterternary"
           }
          ],
          "surface": [
           {
            "colorbar": {
             "outlinewidth": 0,
             "ticks": ""
            },
            "colorscale": [
             [
              0,
              "#0d0887"
             ],
             [
              0.1111111111111111,
              "#46039f"
             ],
             [
              0.2222222222222222,
              "#7201a8"
             ],
             [
              0.3333333333333333,
              "#9c179e"
             ],
             [
              0.4444444444444444,
              "#bd3786"
             ],
             [
              0.5555555555555556,
              "#d8576b"
             ],
             [
              0.6666666666666666,
              "#ed7953"
             ],
             [
              0.7777777777777778,
              "#fb9f3a"
             ],
             [
              0.8888888888888888,
              "#fdca26"
             ],
             [
              1,
              "#f0f921"
             ]
            ],
            "type": "surface"
           }
          ],
          "table": [
           {
            "cells": {
             "fill": {
              "color": "#EBF0F8"
             },
             "line": {
              "color": "white"
             }
            },
            "header": {
             "fill": {
              "color": "#C8D4E3"
             },
             "line": {
              "color": "white"
             }
            },
            "type": "table"
           }
          ]
         },
         "layout": {
          "annotationdefaults": {
           "arrowcolor": "#2a3f5f",
           "arrowhead": 0,
           "arrowwidth": 1
          },
          "autotypenumbers": "strict",
          "coloraxis": {
           "colorbar": {
            "outlinewidth": 0,
            "ticks": ""
           }
          },
          "colorscale": {
           "diverging": [
            [
             0,
             "#8e0152"
            ],
            [
             0.1,
             "#c51b7d"
            ],
            [
             0.2,
             "#de77ae"
            ],
            [
             0.3,
             "#f1b6da"
            ],
            [
             0.4,
             "#fde0ef"
            ],
            [
             0.5,
             "#f7f7f7"
            ],
            [
             0.6,
             "#e6f5d0"
            ],
            [
             0.7,
             "#b8e186"
            ],
            [
             0.8,
             "#7fbc41"
            ],
            [
             0.9,
             "#4d9221"
            ],
            [
             1,
             "#276419"
            ]
           ],
           "sequential": [
            [
             0,
             "#0d0887"
            ],
            [
             0.1111111111111111,
             "#46039f"
            ],
            [
             0.2222222222222222,
             "#7201a8"
            ],
            [
             0.3333333333333333,
             "#9c179e"
            ],
            [
             0.4444444444444444,
             "#bd3786"
            ],
            [
             0.5555555555555556,
             "#d8576b"
            ],
            [
             0.6666666666666666,
             "#ed7953"
            ],
            [
             0.7777777777777778,
             "#fb9f3a"
            ],
            [
             0.8888888888888888,
             "#fdca26"
            ],
            [
             1,
             "#f0f921"
            ]
           ],
           "sequentialminus": [
            [
             0,
             "#0d0887"
            ],
            [
             0.1111111111111111,
             "#46039f"
            ],
            [
             0.2222222222222222,
             "#7201a8"
            ],
            [
             0.3333333333333333,
             "#9c179e"
            ],
            [
             0.4444444444444444,
             "#bd3786"
            ],
            [
             0.5555555555555556,
             "#d8576b"
            ],
            [
             0.6666666666666666,
             "#ed7953"
            ],
            [
             0.7777777777777778,
             "#fb9f3a"
            ],
            [
             0.8888888888888888,
             "#fdca26"
            ],
            [
             1,
             "#f0f921"
            ]
           ]
          },
          "colorway": [
           "#636efa",
           "#EF553B",
           "#00cc96",
           "#ab63fa",
           "#FFA15A",
           "#19d3f3",
           "#FF6692",
           "#B6E880",
           "#FF97FF",
           "#FECB52"
          ],
          "font": {
           "color": "#2a3f5f"
          },
          "geo": {
           "bgcolor": "white",
           "lakecolor": "white",
           "landcolor": "white",
           "showlakes": true,
           "showland": true,
           "subunitcolor": "#C8D4E3"
          },
          "hoverlabel": {
           "align": "left"
          },
          "hovermode": "closest",
          "mapbox": {
           "style": "light"
          },
          "paper_bgcolor": "white",
          "plot_bgcolor": "white",
          "polar": {
           "angularaxis": {
            "gridcolor": "#EBF0F8",
            "linecolor": "#EBF0F8",
            "ticks": ""
           },
           "bgcolor": "white",
           "radialaxis": {
            "gridcolor": "#EBF0F8",
            "linecolor": "#EBF0F8",
            "ticks": ""
           }
          },
          "scene": {
           "xaxis": {
            "backgroundcolor": "white",
            "gridcolor": "#DFE8F3",
            "gridwidth": 2,
            "linecolor": "#EBF0F8",
            "showbackground": true,
            "ticks": "",
            "zerolinecolor": "#EBF0F8"
           },
           "yaxis": {
            "backgroundcolor": "white",
            "gridcolor": "#DFE8F3",
            "gridwidth": 2,
            "linecolor": "#EBF0F8",
            "showbackground": true,
            "ticks": "",
            "zerolinecolor": "#EBF0F8"
           },
           "zaxis": {
            "backgroundcolor": "white",
            "gridcolor": "#DFE8F3",
            "gridwidth": 2,
            "linecolor": "#EBF0F8",
            "showbackground": true,
            "ticks": "",
            "zerolinecolor": "#EBF0F8"
           }
          },
          "shapedefaults": {
           "line": {
            "color": "#2a3f5f"
           }
          },
          "ternary": {
           "aaxis": {
            "gridcolor": "#DFE8F3",
            "linecolor": "#A2B1C6",
            "ticks": ""
           },
           "baxis": {
            "gridcolor": "#DFE8F3",
            "linecolor": "#A2B1C6",
            "ticks": ""
           },
           "bgcolor": "white",
           "caxis": {
            "gridcolor": "#DFE8F3",
            "linecolor": "#A2B1C6",
            "ticks": ""
           }
          },
          "title": {
           "x": 0.05
          },
          "xaxis": {
           "automargin": true,
           "gridcolor": "#EBF0F8",
           "linecolor": "#EBF0F8",
           "ticks": "",
           "title": {
            "standoff": 15
           },
           "zerolinecolor": "#EBF0F8",
           "zerolinewidth": 2
          },
          "yaxis": {
           "automargin": true,
           "gridcolor": "#EBF0F8",
           "linecolor": "#EBF0F8",
           "ticks": "",
           "title": {
            "standoff": 15
           },
           "zerolinecolor": "#EBF0F8",
           "zerolinewidth": 2
          }
         }
        },
        "title": {
         "text": "about-task vs on-task(82,94"
        },
        "width": 1600,
        "xaxis": {
         "anchor": "y",
         "domain": [
          0,
          0.31999999999999995
         ],
         "title": {
          "text": "about-task>on-task                  about-task<on-task"
         }
        },
        "xaxis2": {
         "anchor": "y2",
         "domain": [
          0.33999999999999997,
          0.6599999999999999
         ],
         "matches": "x",
         "title": {
          "text": "about-task>on-task                  about-task<on-task"
         }
        },
        "xaxis3": {
         "anchor": "y3",
         "domain": [
          0.6799999999999999,
          0.9999999999999999
         ],
         "matches": "x",
         "title": {
          "text": "about-task>on-task                  about-task<on-task"
         }
        },
        "yaxis": {
         "anchor": "x",
         "domain": [
          0,
          1
         ],
         "showticklabels": true,
         "tickmode": "linear",
         "title": {
          "text": "markers"
         }
        },
        "yaxis2": {
         "anchor": "x2",
         "domain": [
          0,
          1
         ],
         "matches": "y",
         "showticklabels": false
        },
        "yaxis3": {
         "anchor": "x3",
         "domain": [
          0,
          1
         ],
         "matches": "y",
         "showticklabels": false
        }
       }
      },
      "text/html": [
       "<div>                            <div id=\"6474fe4c-6a87-4f0c-8a0b-4f380273c857\" class=\"plotly-graph-div\" style=\"height:800px; width:1600px;\"></div>            <script type=\"text/javascript\">                require([\"plotly\"], function(Plotly) {                    window.PLOTLYENV=window.PLOTLYENV || {};                                    if (document.getElementById(\"6474fe4c-6a87-4f0c-8a0b-4f380273c857\")) {                    Plotly.newPlot(                        \"6474fe4c-6a87-4f0c-8a0b-4f380273c857\",                        [{\"hovertemplate\":\"balance=unbalance<br>significant=p > 0.05<br>about-task>on-task                  about-task<on-task=%{x}<br>markers=%{y}<extra></extra>\",\"legendgroup\":\"unbalance, p > 0.05\",\"marker\":{\"color\":\"#DE237B\",\"symbol\":\"circle-open\",\"size\":8},\"mode\":\"markers\",\"name\":\"unbalance, p > 0.05\",\"orientation\":\"h\",\"showlegend\":true,\"x\":[0.42215879605604567,0.4302023871302543,0.4377270368448365,0.4469382459782044,0.44927348209652307,0.44927348209652307,0.4496626881162429,0.45212765957446804,0.4551115723923197,0.45699273482096525,0.45965230928905026,0.4635443694862481,0.46380384016606124,0.4660093409444733,0.46912298910223144,0.4732745199792423,0.47690710949662685,0.48002075765438507,0.48053969901401145,0.48092890503373115,0.4809289050337312,0.4844966268811624,0.4894914374675662,0.49065905552672545,0.503502854177478,0.5137519460300985,0.5138816813700052,0.5156979761286975,0.519979242345615,0.5207576543850545,0.521536066424494,0.5245199792423456,0.5271146860404774,0.5337311883757135,0.5341203943954334,0.5342501297353399,0.5357420861442657,0.538012454592631,0.5422937208095485,0.5435910742086144,0.5446289569278672,0.5563051375194604,0.5564348728593669,0.5587701089776855,0.5620134924753502,0.5664244940321743,0.5678515827711469,0.5717436429683446,0.578879086663207,0.584587441619097,0.5856253243383498],\"xaxis\":\"x\",\"y\":[\"$wSMI\\\\beta_{std}$\",\"$PE\\\\alpha_{mean}$\",\"$P3b_{mean}$\",\"$\\\\delta_{std}$\",\"$\\\\delta_{mean}$\",\"$\\\\beta_{mean}$\",\"$SE_{mean}$\",\"$CNV_{std}$\",\"$|\\\\beta|_{mean}$\",\"$SEF90_{mean}$\",\"$CNV_{mean}$\",\"$\\\\gamma_{mean}$\",\"$SEF95_{mean}$\",\"$P1_{std}$\",\"$MSF_{mean}$\",\"$PE\\\\beta_{mean}$\",\"$|\\\\delta|_{mean}$\",\"$|\\\\delta|_{std}$\",\"$wSMI\\\\gamma_{mean}$\",\"$|\\\\gamma|_{mean}$\",\"$K_{mean}$\",\"$MSF_{std}$\",\"$PE\\\\gamma_{mean}$\",\"$P3b_{std}$\",\"$\\\\alpha_{mean}$\",\"$|\\\\beta|_{std}$\",\"$|\\\\gamma|_{std}$\",\"$\\\\beta_{std}$\",\"$\\\\theta_{std}$\",\"$\\\\theta_{mean}$\",\"$wSMI\\\\beta_{mean}$\",\"$|\\\\theta|_{std}$\",\"$|\\\\alpha|_{mean}$\",\"$P3a_{mean}$\",\"$P1_{mean}$\",\"$PE\\\\theta_{mean}$\",\"$K_{std}$\",\"$wSMI\\\\gamma_{std}$\",\"$PE\\\\theta_{std}$\",\"$SEF95_{std}$\",\"$wSMI\\\\alpha_{std}$\",\"$SEF90_{std}$\",\"$wSMI\\\\alpha_{mean}$\",\"$P3a_{std}$\",\"$SE_{std}$\",\"$|\\\\alpha|_{std}$\",\"$|\\\\theta|_{mean}$\",\"$PE\\\\gamma_{std}$\",\"$wSMI\\\\theta_{mean}$\",\"$PE\\\\alpha_{std}$\",\"$wSMI\\\\theta_{std}$\"],\"yaxis\":\"y\",\"type\":\"scatter\"},{\"hovertemplate\":\"balance=unbalance<br>significant=p < 0.05 uncorrected<br>about-task>on-task                  about-task<on-task=%{x}<br>markers=%{y}<extra></extra>\",\"legendgroup\":\"unbalance, p < 0.05 uncorrected\",\"marker\":{\"color\":\"#DE237B\",\"symbol\":\"circle\",\"size\":8},\"mode\":\"markers\",\"name\":\"unbalance, p < 0.05 uncorrected\",\"orientation\":\"h\",\"showlegend\":true,\"x\":[0.5952257394914374,0.598209652309289,0.6000259470679814],\"xaxis\":\"x\",\"y\":[\"$\\\\gamma_{std}$\",\"$\\\\alpha_{std}$\",\"$PE\\\\beta_{std}$\"],\"yaxis\":\"y\",\"type\":\"scatter\"},{\"hovertemplate\":\"balance=under-sample<br>significant=p > 0.05<br>about-task>on-task                  about-task<on-task=%{x}<br>markers=%{y}<extra></extra>\",\"legendgroup\":\"under-sample, p > 0.05\",\"marker\":{\"color\":\"#9AC529\",\"symbol\":\"circle-open\",\"size\":8},\"mode\":\"markers\",\"name\":\"under-sample, p > 0.05\",\"orientation\":\"h\",\"showlegend\":true,\"x\":[0.4360499702558001,0.4379833432480667,0.4405116002379536,0.44348602022605593,0.4472040452111839,0.4570196311719214,0.4620761451516954,0.4651992861392028,0.46951219512195125,0.4696609161213563,0.4708506841165972,0.4721891731112433,0.47687388459250446,0.47865853658536583,0.4827483640690065,0.48423557406305767,0.48453301606186794,0.4855740630577037,0.4878048780487805,0.48899464604402143,0.49152290303390844,0.49345627602617487,0.4995538370017847,0.5007436049970255,0.5028256989886972,0.5059488399762047,0.5121951219512195,0.5124925639500297,0.5175490779298036,0.5197798929208803,0.5202260559190958,0.5223081499107675,0.5284057108863771,0.5298929208804283,0.5327186198691255,0.5331647828673409,0.5379238548483045,0.5462522308149911,0.5489292088042832,0.5499702558001189,0.550118976799524,0.5502676977989291,0.5542831647828673,0.5563652587745389,0.5569601427721594,0.5606781677572873,0.5669244497323022,0.5675193337299227,0.5675193337299227,0.5697501487209995],\"xaxis\":\"x2\",\"y\":[\"$PE\\\\alpha_{mean}$\",\"$wSMI\\\\beta_{std}$\",\"$P3b_{mean}$\",\"$\\\\delta_{std}$\",\"$\\\\delta_{mean}$\",\"$\\\\beta_{mean}$\",\"$|\\\\beta|_{mean}$\",\"$SE_{mean}$\",\"$CNV_{mean}$\",\"$CNV_{std}$\",\"$|\\\\delta|_{mean}$\",\"$P1_{std}$\",\"$SEF90_{mean}$\",\"$MSF_{std}$\",\"$SEF95_{mean}$\",\"$\\\\gamma_{mean}$\",\"$MSF_{mean}$\",\"$wSMI\\\\gamma_{mean}$\",\"$|\\\\delta|_{std}$\",\"$P3b_{std}$\",\"$\\\\alpha_{mean}$\",\"$PE\\\\beta_{mean}$\",\"$K_{mean}$\",\"$|\\\\gamma|_{mean}$\",\"$|\\\\beta|_{std}$\",\"$\\\\beta_{std}$\",\"$\\\\theta_{mean}$\",\"$PE\\\\gamma_{mean}$\",\"$|\\\\alpha|_{mean}$\",\"$wSMI\\\\beta_{mean}$\",\"$PE\\\\theta_{mean}$\",\"$\\\\theta_{std}$\",\"$|\\\\gamma|_{std}$\",\"$P3a_{mean}$\",\"$wSMI\\\\alpha_{std}$\",\"$K_{std}$\",\"$P1_{mean}$\",\"$PE\\\\theta_{std}$\",\"$SEF95_{std}$\",\"$PE\\\\gamma_{std}$\",\"$|\\\\theta|_{std}$\",\"$wSMI\\\\gamma_{std}$\",\"$wSMI\\\\alpha_{mean}$\",\"$|\\\\theta|_{mean}$\",\"$wSMI\\\\theta_{std}$\",\"$wSMI\\\\theta_{mean}$\",\"$P3a_{std}$\",\"$SE_{std}$\",\"$|\\\\alpha|_{std}$\",\"$SEF90_{std}$\"],\"yaxis\":\"y2\",\"type\":\"scatter\"},{\"hovertemplate\":\"balance=under-sample<br>significant=p < 0.05 uncorrected<br>about-task>on-task                  about-task<on-task=%{x}<br>markers=%{y}<extra></extra>\",\"legendgroup\":\"under-sample, p < 0.05 uncorrected\",\"marker\":{\"color\":\"#9AC529\",\"symbol\":\"circle\",\"size\":8},\"mode\":\"markers\",\"name\":\"under-sample, p < 0.05 uncorrected\",\"orientation\":\"h\",\"showlegend\":true,\"x\":[0.5899762046400951,0.591017251635931,0.5942891136228435,0.60901249256395],\"xaxis\":\"x2\",\"y\":[\"$PE\\\\beta_{std}$\",\"$PE\\\\alpha_{std}$\",\"$\\\\alpha_{std}$\",\"$\\\\gamma_{std}$\"],\"yaxis\":\"y2\",\"type\":\"scatter\"},{\"hovertemplate\":\"balance=over-sample<br>significant=p > 0.05<br>about-task>on-task                  about-task<on-task=%{x}<br>markers=%{y}<extra></extra>\",\"legendgroup\":\"over-sample, p > 0.05\",\"marker\":{\"color\":\"#F38A31\",\"symbol\":\"circle-open\",\"size\":8},\"mode\":\"markers\",\"name\":\"over-sample, p > 0.05\",\"orientation\":\"h\",\"showlegend\":true,\"x\":[0.41851516523313714,0.42915346310547753,0.44443186962426434,0.4456767768220914,0.44692168401991855,0.4476007243096424,0.4488456315074695,0.4490719782707107,0.45229741964689907,0.4546174739701222,0.4581258488003621,0.4591444092349479,0.4612947034857401,0.4631054775916704,0.4704617473970122,0.4741964689904934,0.47668628338614755,0.4769126301493888,0.47827071072883665,0.4794590312358533,0.4818922589406971,0.48392937980986866,0.48947487550928015,0.4989814395654142,0.5135808057944771,0.5191263014938886,0.5195789950203712,0.5195789950203712,0.5212765957446809,0.5215029425079221,0.5216161158895428,0.5238795835219556,0.525350837483024,0.5256903576278859,0.5261996378451788,0.5328202806699864,0.533272974196469,0.5371208691715708,0.5389316432775011,0.5405160706201901,0.5528519692168402,0.5542100497962879,0.5545495699411499,0.5578315980081485,0.5589633318243549,0.5640561339972838,0.5696016296966954,0.5702806699864192,0.5735626980534179,0.5804662743322769],\"xaxis\":\"x3\",\"y\":[\"$P3b_{mean}$\",\"$PE\\\\alpha_{mean}$\",\"$CNV_{std}$\",\"$SE_{mean}$\",\"$\\\\delta_{std}$\",\"$\\\\beta_{mean}$\",\"$CNV_{mean}$\",\"$\\\\delta_{mean}$\",\"$SEF90_{mean}$\",\"$|\\\\beta|_{mean}$\",\"$SEF95_{mean}$\",\"$\\\\gamma_{mean}$\",\"$P1_{std}$\",\"$MSF_{mean}$\",\"$wSMI\\\\gamma_{mean}$\",\"$PE\\\\beta_{mean}$\",\"$|\\\\gamma|_{mean}$\",\"$|\\\\delta|_{std}$\",\"$K_{mean}$\",\"$MSF_{std}$\",\"$P3b_{std}$\",\"$|\\\\delta|_{mean}$\",\"$PE\\\\gamma_{mean}$\",\"$\\\\alpha_{mean}$\",\"$|\\\\gamma|_{std}$\",\"$|\\\\theta|_{std}$\",\"$wSMI\\\\beta_{mean}$\",\"$\\\\beta_{std}$\",\"$|\\\\alpha|_{mean}$\",\"$|\\\\beta|_{std}$\",\"$\\\\theta_{mean}$\",\"$P1_{mean}$\",\"$\\\\theta_{std}$\",\"$PE\\\\theta_{std}$\",\"$K_{std}$\",\"$P3a_{mean}$\",\"$PE\\\\theta_{mean}$\",\"$wSMI\\\\alpha_{std}$\",\"$SEF95_{std}$\",\"$wSMI\\\\gamma_{std}$\",\"$wSMI\\\\alpha_{mean}$\",\"$SEF90_{std}$\",\"$|\\\\alpha|_{std}$\",\"$P3a_{std}$\",\"$SE_{std}$\",\"$PE\\\\gamma_{std}$\",\"$|\\\\theta|_{mean}$\",\"$wSMI\\\\theta_{std}$\",\"$PE\\\\alpha_{std}$\",\"$wSMI\\\\theta_{mean}$\"],\"yaxis\":\"y3\",\"type\":\"scatter\"},{\"hovertemplate\":\"balance=over-sample<br>significant=p < 0.05 uncorrected<br>about-task>on-task                  about-task<on-task=%{x}<br>markers=%{y}<extra></extra>\",\"legendgroup\":\"over-sample, p < 0.05 uncorrected\",\"marker\":{\"color\":\"#F38A31\",\"symbol\":\"circle\",\"size\":8},\"mode\":\"markers\",\"name\":\"over-sample, p < 0.05 uncorrected\",\"orientation\":\"h\",\"showlegend\":true,\"x\":[0.4139882299683114,0.5885015844273427,0.5976686283386148,0.599479402444545],\"xaxis\":\"x3\",\"y\":[\"$wSMI\\\\beta_{std}$\",\"$\\\\alpha_{std}$\",\"$\\\\gamma_{std}$\",\"$PE\\\\beta_{std}$\"],\"yaxis\":\"y3\",\"type\":\"scatter\"}],                        {\"template\":{\"data\":{\"barpolar\":[{\"marker\":{\"line\":{\"color\":\"white\",\"width\":0.5},\"pattern\":{\"fillmode\":\"overlay\",\"size\":10,\"solidity\":0.2}},\"type\":\"barpolar\"}],\"bar\":[{\"error_x\":{\"color\":\"#2a3f5f\"},\"error_y\":{\"color\":\"#2a3f5f\"},\"marker\":{\"line\":{\"color\":\"white\",\"width\":0.5},\"pattern\":{\"fillmode\":\"overlay\",\"size\":10,\"solidity\":0.2}},\"type\":\"bar\"}],\"carpet\":[{\"aaxis\":{\"endlinecolor\":\"#2a3f5f\",\"gridcolor\":\"#C8D4E3\",\"linecolor\":\"#C8D4E3\",\"minorgridcolor\":\"#C8D4E3\",\"startlinecolor\":\"#2a3f5f\"},\"baxis\":{\"endlinecolor\":\"#2a3f5f\",\"gridcolor\":\"#C8D4E3\",\"linecolor\":\"#C8D4E3\",\"minorgridcolor\":\"#C8D4E3\",\"startlinecolor\":\"#2a3f5f\"},\"type\":\"carpet\"}],\"choropleth\":[{\"colorbar\":{\"outlinewidth\":0,\"ticks\":\"\"},\"type\":\"choropleth\"}],\"contourcarpet\":[{\"colorbar\":{\"outlinewidth\":0,\"ticks\":\"\"},\"type\":\"contourcarpet\"}],\"contour\":[{\"colorbar\":{\"outlinewidth\":0,\"ticks\":\"\"},\"colorscale\":[[0.0,\"#0d0887\"],[0.1111111111111111,\"#46039f\"],[0.2222222222222222,\"#7201a8\"],[0.3333333333333333,\"#9c179e\"],[0.4444444444444444,\"#bd3786\"],[0.5555555555555556,\"#d8576b\"],[0.6666666666666666,\"#ed7953\"],[0.7777777777777778,\"#fb9f3a\"],[0.8888888888888888,\"#fdca26\"],[1.0,\"#f0f921\"]],\"type\":\"contour\"}],\"heatmapgl\":[{\"colorbar\":{\"outlinewidth\":0,\"ticks\":\"\"},\"colorscale\":[[0.0,\"#0d0887\"],[0.1111111111111111,\"#46039f\"],[0.2222222222222222,\"#7201a8\"],[0.3333333333333333,\"#9c179e\"],[0.4444444444444444,\"#bd3786\"],[0.5555555555555556,\"#d8576b\"],[0.6666666666666666,\"#ed7953\"],[0.7777777777777778,\"#fb9f3a\"],[0.8888888888888888,\"#fdca26\"],[1.0,\"#f0f921\"]],\"type\":\"heatmapgl\"}],\"heatmap\":[{\"colorbar\":{\"outlinewidth\":0,\"ticks\":\"\"},\"colorscale\":[[0.0,\"#0d0887\"],[0.1111111111111111,\"#46039f\"],[0.2222222222222222,\"#7201a8\"],[0.3333333333333333,\"#9c179e\"],[0.4444444444444444,\"#bd3786\"],[0.5555555555555556,\"#d8576b\"],[0.6666666666666666,\"#ed7953\"],[0.7777777777777778,\"#fb9f3a\"],[0.8888888888888888,\"#fdca26\"],[1.0,\"#f0f921\"]],\"type\":\"heatmap\"}],\"histogram2dcontour\":[{\"colorbar\":{\"outlinewidth\":0,\"ticks\":\"\"},\"colorscale\":[[0.0,\"#0d0887\"],[0.1111111111111111,\"#46039f\"],[0.2222222222222222,\"#7201a8\"],[0.3333333333333333,\"#9c179e\"],[0.4444444444444444,\"#bd3786\"],[0.5555555555555556,\"#d8576b\"],[0.6666666666666666,\"#ed7953\"],[0.7777777777777778,\"#fb9f3a\"],[0.8888888888888888,\"#fdca26\"],[1.0,\"#f0f921\"]],\"type\":\"histogram2dcontour\"}],\"histogram2d\":[{\"colorbar\":{\"outlinewidth\":0,\"ticks\":\"\"},\"colorscale\":[[0.0,\"#0d0887\"],[0.1111111111111111,\"#46039f\"],[0.2222222222222222,\"#7201a8\"],[0.3333333333333333,\"#9c179e\"],[0.4444444444444444,\"#bd3786\"],[0.5555555555555556,\"#d8576b\"],[0.6666666666666666,\"#ed7953\"],[0.7777777777777778,\"#fb9f3a\"],[0.8888888888888888,\"#fdca26\"],[1.0,\"#f0f921\"]],\"type\":\"histogram2d\"}],\"histogram\":[{\"marker\":{\"pattern\":{\"fillmode\":\"overlay\",\"size\":10,\"solidity\":0.2}},\"type\":\"histogram\"}],\"mesh3d\":[{\"colorbar\":{\"outlinewidth\":0,\"ticks\":\"\"},\"type\":\"mesh3d\"}],\"parcoords\":[{\"line\":{\"colorbar\":{\"outlinewidth\":0,\"ticks\":\"\"}},\"type\":\"parcoords\"}],\"pie\":[{\"automargin\":true,\"type\":\"pie\"}],\"scatter3d\":[{\"line\":{\"colorbar\":{\"outlinewidth\":0,\"ticks\":\"\"}},\"marker\":{\"colorbar\":{\"outlinewidth\":0,\"ticks\":\"\"}},\"type\":\"scatter3d\"}],\"scattercarpet\":[{\"marker\":{\"colorbar\":{\"outlinewidth\":0,\"ticks\":\"\"}},\"type\":\"scattercarpet\"}],\"scattergeo\":[{\"marker\":{\"colorbar\":{\"outlinewidth\":0,\"ticks\":\"\"}},\"type\":\"scattergeo\"}],\"scattergl\":[{\"marker\":{\"colorbar\":{\"outlinewidth\":0,\"ticks\":\"\"}},\"type\":\"scattergl\"}],\"scattermapbox\":[{\"marker\":{\"colorbar\":{\"outlinewidth\":0,\"ticks\":\"\"}},\"type\":\"scattermapbox\"}],\"scatterpolargl\":[{\"marker\":{\"colorbar\":{\"outlinewidth\":0,\"ticks\":\"\"}},\"type\":\"scatterpolargl\"}],\"scatterpolar\":[{\"marker\":{\"colorbar\":{\"outlinewidth\":0,\"ticks\":\"\"}},\"type\":\"scatterpolar\"}],\"scatter\":[{\"fillpattern\":{\"fillmode\":\"overlay\",\"size\":10,\"solidity\":0.2},\"type\":\"scatter\"}],\"scatterternary\":[{\"marker\":{\"colorbar\":{\"outlinewidth\":0,\"ticks\":\"\"}},\"type\":\"scatterternary\"}],\"surface\":[{\"colorbar\":{\"outlinewidth\":0,\"ticks\":\"\"},\"colorscale\":[[0.0,\"#0d0887\"],[0.1111111111111111,\"#46039f\"],[0.2222222222222222,\"#7201a8\"],[0.3333333333333333,\"#9c179e\"],[0.4444444444444444,\"#bd3786\"],[0.5555555555555556,\"#d8576b\"],[0.6666666666666666,\"#ed7953\"],[0.7777777777777778,\"#fb9f3a\"],[0.8888888888888888,\"#fdca26\"],[1.0,\"#f0f921\"]],\"type\":\"surface\"}],\"table\":[{\"cells\":{\"fill\":{\"color\":\"#EBF0F8\"},\"line\":{\"color\":\"white\"}},\"header\":{\"fill\":{\"color\":\"#C8D4E3\"},\"line\":{\"color\":\"white\"}},\"type\":\"table\"}]},\"layout\":{\"annotationdefaults\":{\"arrowcolor\":\"#2a3f5f\",\"arrowhead\":0,\"arrowwidth\":1},\"autotypenumbers\":\"strict\",\"coloraxis\":{\"colorbar\":{\"outlinewidth\":0,\"ticks\":\"\"}},\"colorscale\":{\"diverging\":[[0,\"#8e0152\"],[0.1,\"#c51b7d\"],[0.2,\"#de77ae\"],[0.3,\"#f1b6da\"],[0.4,\"#fde0ef\"],[0.5,\"#f7f7f7\"],[0.6,\"#e6f5d0\"],[0.7,\"#b8e186\"],[0.8,\"#7fbc41\"],[0.9,\"#4d9221\"],[1,\"#276419\"]],\"sequential\":[[0.0,\"#0d0887\"],[0.1111111111111111,\"#46039f\"],[0.2222222222222222,\"#7201a8\"],[0.3333333333333333,\"#9c179e\"],[0.4444444444444444,\"#bd3786\"],[0.5555555555555556,\"#d8576b\"],[0.6666666666666666,\"#ed7953\"],[0.7777777777777778,\"#fb9f3a\"],[0.8888888888888888,\"#fdca26\"],[1.0,\"#f0f921\"]],\"sequentialminus\":[[0.0,\"#0d0887\"],[0.1111111111111111,\"#46039f\"],[0.2222222222222222,\"#7201a8\"],[0.3333333333333333,\"#9c179e\"],[0.4444444444444444,\"#bd3786\"],[0.5555555555555556,\"#d8576b\"],[0.6666666666666666,\"#ed7953\"],[0.7777777777777778,\"#fb9f3a\"],[0.8888888888888888,\"#fdca26\"],[1.0,\"#f0f921\"]]},\"colorway\":[\"#636efa\",\"#EF553B\",\"#00cc96\",\"#ab63fa\",\"#FFA15A\",\"#19d3f3\",\"#FF6692\",\"#B6E880\",\"#FF97FF\",\"#FECB52\"],\"font\":{\"color\":\"#2a3f5f\"},\"geo\":{\"bgcolor\":\"white\",\"lakecolor\":\"white\",\"landcolor\":\"white\",\"showlakes\":true,\"showland\":true,\"subunitcolor\":\"#C8D4E3\"},\"hoverlabel\":{\"align\":\"left\"},\"hovermode\":\"closest\",\"mapbox\":{\"style\":\"light\"},\"paper_bgcolor\":\"white\",\"plot_bgcolor\":\"white\",\"polar\":{\"angularaxis\":{\"gridcolor\":\"#EBF0F8\",\"linecolor\":\"#EBF0F8\",\"ticks\":\"\"},\"bgcolor\":\"white\",\"radialaxis\":{\"gridcolor\":\"#EBF0F8\",\"linecolor\":\"#EBF0F8\",\"ticks\":\"\"}},\"scene\":{\"xaxis\":{\"backgroundcolor\":\"white\",\"gridcolor\":\"#DFE8F3\",\"gridwidth\":2,\"linecolor\":\"#EBF0F8\",\"showbackground\":true,\"ticks\":\"\",\"zerolinecolor\":\"#EBF0F8\"},\"yaxis\":{\"backgroundcolor\":\"white\",\"gridcolor\":\"#DFE8F3\",\"gridwidth\":2,\"linecolor\":\"#EBF0F8\",\"showbackground\":true,\"ticks\":\"\",\"zerolinecolor\":\"#EBF0F8\"},\"zaxis\":{\"backgroundcolor\":\"white\",\"gridcolor\":\"#DFE8F3\",\"gridwidth\":2,\"linecolor\":\"#EBF0F8\",\"showbackground\":true,\"ticks\":\"\",\"zerolinecolor\":\"#EBF0F8\"}},\"shapedefaults\":{\"line\":{\"color\":\"#2a3f5f\"}},\"ternary\":{\"aaxis\":{\"gridcolor\":\"#DFE8F3\",\"linecolor\":\"#A2B1C6\",\"ticks\":\"\"},\"baxis\":{\"gridcolor\":\"#DFE8F3\",\"linecolor\":\"#A2B1C6\",\"ticks\":\"\"},\"bgcolor\":\"white\",\"caxis\":{\"gridcolor\":\"#DFE8F3\",\"linecolor\":\"#A2B1C6\",\"ticks\":\"\"}},\"title\":{\"x\":0.05},\"xaxis\":{\"automargin\":true,\"gridcolor\":\"#EBF0F8\",\"linecolor\":\"#EBF0F8\",\"ticks\":\"\",\"title\":{\"standoff\":15},\"zerolinecolor\":\"#EBF0F8\",\"zerolinewidth\":2},\"yaxis\":{\"automargin\":true,\"gridcolor\":\"#EBF0F8\",\"linecolor\":\"#EBF0F8\",\"ticks\":\"\",\"title\":{\"standoff\":15},\"zerolinecolor\":\"#EBF0F8\",\"zerolinewidth\":2}}},\"xaxis\":{\"anchor\":\"y\",\"domain\":[0.0,0.31999999999999995],\"title\":{\"text\":\"about-task>on-task                  about-task<on-task\"}},\"yaxis\":{\"anchor\":\"x\",\"domain\":[0.0,1.0],\"title\":{\"text\":\"markers\"},\"showticklabels\":true,\"tickmode\":\"linear\"},\"xaxis2\":{\"anchor\":\"y2\",\"domain\":[0.33999999999999997,0.6599999999999999],\"matches\":\"x\",\"title\":{\"text\":\"about-task>on-task                  about-task<on-task\"}},\"yaxis2\":{\"anchor\":\"x2\",\"domain\":[0.0,1.0],\"matches\":\"y\",\"showticklabels\":false},\"xaxis3\":{\"anchor\":\"y3\",\"domain\":[0.6799999999999999,0.9999999999999999],\"matches\":\"x\",\"title\":{\"text\":\"about-task>on-task                  about-task<on-task\"}},\"yaxis3\":{\"anchor\":\"x3\",\"domain\":[0.0,1.0],\"matches\":\"y\",\"showticklabels\":false},\"annotations\":[{\"showarrow\":false,\"text\":\"balance=unbalance\",\"x\":0.15999999999999998,\"xanchor\":\"center\",\"xref\":\"paper\",\"y\":1.0,\"yanchor\":\"bottom\",\"yref\":\"paper\"},{\"showarrow\":false,\"text\":\"balance=under-sample\",\"x\":0.49999999999999994,\"xanchor\":\"center\",\"xref\":\"paper\",\"y\":1.0,\"yanchor\":\"bottom\",\"yref\":\"paper\"},{\"showarrow\":false,\"text\":\"balance=over-sample\",\"x\":0.8399999999999999,\"xanchor\":\"center\",\"xref\":\"paper\",\"y\":1.0,\"yanchor\":\"bottom\",\"yref\":\"paper\"}],\"legend\":{\"title\":{\"text\":\"balance, significant\"},\"tracegroupgap\":0},\"margin\":{\"t\":60},\"shapes\":[{\"line\":{\"color\":\"black\",\"dash\":\"dash\",\"width\":3},\"type\":\"line\",\"x0\":0.5,\"x1\":0.5,\"xref\":\"x\",\"y0\":0,\"y1\":1,\"yref\":\"y domain\"},{\"line\":{\"color\":\"black\",\"dash\":\"dash\",\"width\":3},\"type\":\"line\",\"x0\":0.5,\"x1\":0.5,\"xref\":\"x2\",\"y0\":0,\"y1\":1,\"yref\":\"y2 domain\"},{\"line\":{\"color\":\"black\",\"dash\":\"dash\",\"width\":3},\"type\":\"line\",\"x0\":0.5,\"x1\":0.5,\"xref\":\"x3\",\"y0\":0,\"y1\":1,\"yref\":\"y3 domain\"}],\"title\":{\"text\":\"about-task vs on-task(82,94\"},\"autosize\":true,\"width\":1600,\"height\":800},                        {\"responsive\": true}                    ).then(function(){\n",
       "                            \n",
       "var gd = document.getElementById('6474fe4c-6a87-4f0c-8a0b-4f380273c857');\n",
       "var x = new MutationObserver(function (mutations, observer) {{\n",
       "        var display = window.getComputedStyle(gd).display;\n",
       "        if (!display || display === 'none') {{\n",
       "            console.log([gd, 'removed!']);\n",
       "            Plotly.purge(gd);\n",
       "            observer.disconnect();\n",
       "        }}\n",
       "}});\n",
       "\n",
       "// Listen for the removal of the full notebook cells\n",
       "var notebookContainer = gd.closest('#notebook-container');\n",
       "if (notebookContainer) {{\n",
       "    x.observe(notebookContainer, {childList: true});\n",
       "}}\n",
       "\n",
       "// Listen for the clearing of the current output cell\n",
       "var outputEl = gd.closest('.output');\n",
       "if (outputEl) {{\n",
       "    x.observe(outputEl, {childList: true});\n",
       "}}\n",
       "\n",
       "                        })                };                });            </script>        </div>"
      ]
     },
     "metadata": {},
     "output_type": "display_data"
    },
    {
     "data": {
      "application/vnd.plotly.v1+json": {
       "config": {
        "plotlyServerURL": "https://plot.ly"
       },
       "data": [
        {
         "hovertemplate": "balance=unbalance<br>significant=p > 0.05<br>distracted>on-task                  distracted<on-task=%{x}<br>markers=%{y}<extra></extra>",
         "legendgroup": "unbalance, p > 0.05",
         "marker": {
          "color": "#DE237B",
          "size": 8,
          "symbol": "circle-open"
         },
         "mode": "markers",
         "name": "unbalance, p > 0.05",
         "orientation": "h",
         "showlegend": true,
         "type": "scatter",
         "x": [
          0.4213209219858156,
          0.4228723404255319,
          0.43417553191489366,
          0.43949468085106386,
          0.44592198581560283,
          0.4516843971631206,
          0.4547872340425532,
          0.4578900709219858,
          0.45944148936170215,
          0.45988475177304966,
          0.46786347517730503,
          0.46941489361702127,
          0.47761524822695034,
          0.4794991134751774,
          0.4822695035460993,
          0.4827127659574468,
          0.49224290780141844,
          0.49379432624113484,
          0.49423758865248224,
          0.4942375886524823,
          0.4960106382978724,
          0.49977836879432624,
          0.5,
          0.5006648936170213,
          0.5037677304964538,
          0.506427304964539,
          0.5082003546099291,
          0.5084219858156028,
          0.5117464539007092,
          0.5144060283687943,
          0.5199468085106383,
          0.5246010638297872,
          0.5259308510638298,
          0.5261524822695035,
          0.527482269503546,
          0.5290336879432624,
          0.5334663120567376,
          0.5356826241134752,
          0.5361258865248227,
          0.5367907801418439,
          0.5394503546099291,
          0.5427748226950354,
          0.5447695035460993,
          0.5492021276595744,
          0.5523049645390071,
          0.5529698581560284,
          0.5589539007092199,
          0.5671542553191489,
          0.5713652482269505,
          0.5806737588652482,
          0.5986258865248227
         ],
         "xaxis": "x",
         "y": [
          "$PE\\theta_{std}$",
          "$CNV_{std}$",
          "$|\\beta|_{mean}$",
          "$PE\\alpha_{mean}$",
          "$wSMI\\gamma_{mean}$",
          "$|\\delta|_{std}$",
          "$PE\\gamma_{mean}$",
          "$\\delta_{mean}$",
          "$\\beta_{mean}$",
          "$|\\delta|_{mean}$",
          "$P3b_{std}$",
          "$MSF_{std}$",
          "$P3a_{std}$",
          "$MSF_{mean}$",
          "$P3a_{mean}$",
          "$wSMI\\theta_{std}$",
          "$wSMI\\beta_{std}$",
          "$|\\beta|_{std}$",
          "$\\delta_{std}$",
          "$\\alpha_{std}$",
          "$|\\alpha|_{mean}$",
          "$\\alpha_{mean}$",
          "$K_{mean}$",
          "$P1_{std}$",
          "$SE_{mean}$",
          "$PE\\gamma_{std}$",
          "$\\gamma_{mean}$",
          "$wSMI\\alpha_{mean}$",
          "$P1_{mean}$",
          "$|\\alpha|_{std}$",
          "$PE\\theta_{mean}$",
          "$PE\\beta_{mean}$",
          "$PE\\beta_{std}$",
          "$wSMI\\gamma_{std}$",
          "$|\\gamma|_{std}$",
          "$SE_{std}$",
          "$P3b_{mean}$",
          "$wSMI\\beta_{mean}$",
          "$K_{std}$",
          "$SEF90_{mean}$",
          "$|\\gamma|_{mean}$",
          "$SEF95_{std}$",
          "$SEF95_{mean}$",
          "$wSMI\\alpha_{std}$",
          "$\\theta_{mean}$",
          "$wSMI\\theta_{mean}$",
          "$SEF90_{std}$",
          "$\\beta_{std}$",
          "$\\gamma_{std}$",
          "$\\theta_{std}$",
          "$PE\\alpha_{std}$"
         ],
         "yaxis": "y"
        },
        {
         "hovertemplate": "balance=unbalance<br>significant=p < 0.05 uncorrected<br>distracted>on-task                  distracted<on-task=%{x}<br>markers=%{y}<extra></extra>",
         "legendgroup": "unbalance, p < 0.05 uncorrected",
         "marker": {
          "color": "#DE237B",
          "size": 8,
          "symbol": "circle"
         },
         "mode": "markers",
         "name": "unbalance, p < 0.05 uncorrected",
         "orientation": "h",
         "showlegend": true,
         "type": "scatter",
         "x": [
          0.394281914893617,
          0.6254432624113476,
          0.6285460992907801
         ],
         "xaxis": "x",
         "y": [
          "$CNV_{mean}$",
          "$|\\theta|_{mean}$",
          "$|\\theta|_{std}$"
         ],
         "yaxis": "y"
        },
        {
         "hovertemplate": "balance=under-sample<br>significant=p > 0.05<br>distracted>on-task                  distracted<on-task=%{x}<br>markers=%{y}<extra></extra>",
         "legendgroup": "under-sample, p > 0.05",
         "marker": {
          "color": "#9AC529",
          "size": 8,
          "symbol": "circle-open"
         },
         "mode": "markers",
         "name": "under-sample, p > 0.05",
         "orientation": "h",
         "showlegend": true,
         "type": "scatter",
         "x": [
          0.42838541666666663,
          0.4366319444444445,
          0.44531249999999994,
          0.44661458333333337,
          0.45572916666666663,
          0.45703125,
          0.4578993055555556,
          0.45833333333333337,
          0.4600694444444445,
          0.46223958333333326,
          0.4635416666666667,
          0.4652777777777778,
          0.4657118055555555,
          0.46744791666666663,
          0.4730902777777778,
          0.4778645833333333,
          0.4835069444444444,
          0.48828125,
          0.48871527777777785,
          0.4895833333333333,
          0.4904513888888889,
          0.49348958333333337,
          0.4947916666666667,
          0.4952256944444444,
          0.5021701388888888,
          0.5026041666666667,
          0.5030381944444444,
          0.5030381944444445,
          0.5069444444444444,
          0.5121527777777778,
          0.5199652777777778,
          0.5208333333333334,
          0.521267361111111,
          0.5221354166666667,
          0.5277777777777777,
          0.5373263888888888,
          0.5390625,
          0.5451388888888888,
          0.548611111111111,
          0.5490451388888888,
          0.5503472222222222,
          0.5533854166666666,
          0.5533854166666667,
          0.5598958333333333,
          0.5620659722222222,
          0.5646701388888888,
          0.5659722222222221,
          0.5772569444444444,
          0.5824652777777778,
          0.5902777777777778,
          0.5963541666666667,
          0.6002604166666666
         ],
         "xaxis": "x2",
         "y": [
          "$CNV_{std}$",
          "$|\\delta|_{mean}$",
          "$|\\delta|_{std}$",
          "$wSMI\\theta_{std}$",
          "$\\delta_{mean}$",
          "$PE\\gamma_{std}$",
          "$PE\\beta_{std}$",
          "$|\\beta|_{mean}$",
          "$P3b_{std}$",
          "$\\alpha_{std}$",
          "$PE\\alpha_{mean}$",
          "$CNV_{mean}$",
          "$PE\\theta_{std}$",
          "$P3a_{std}$",
          "$|\\alpha|_{mean}$",
          "$P1_{std}$",
          "$\\alpha_{mean}$",
          "$\\beta_{mean}$",
          "$wSMI\\gamma_{mean}$",
          "$P3a_{mean}$",
          "$PE\\theta_{mean}$",
          "$\\delta_{std}$",
          "$wSMI\\alpha_{std}$",
          "$P1_{mean}$",
          "$wSMI\\alpha_{mean}$",
          "$MSF_{mean}$",
          "$PE\\gamma_{mean}$",
          "$|\\beta|_{std}$",
          "$wSMI\\beta_{mean}$",
          "$MSF_{std}$",
          "$K_{mean}$",
          "$wSMI\\beta_{std}$",
          "$SE_{mean}$",
          "$|\\alpha|_{std}$",
          "$\\beta_{std}$",
          "$\\theta_{mean}$",
          "$SEF95_{std}$",
          "$K_{std}$",
          "$\\gamma_{mean}$",
          "$wSMI\\theta_{mean}$",
          "$SE_{std}$",
          "$SEF90_{mean}$",
          "$PE\\beta_{mean}$",
          "$|\\gamma|_{std}$",
          "$SEF90_{std}$",
          "$SEF95_{mean}$",
          "$|\\gamma|_{mean}$",
          "$|\\theta|_{mean}$",
          "$P3b_{mean}$",
          "$\\theta_{std}$",
          "$wSMI\\gamma_{std}$",
          "$PE\\alpha_{std}$"
         ],
         "yaxis": "y2"
        },
        {
         "hovertemplate": "balance=under-sample<br>significant=p < 0.05 uncorrected<br>distracted>on-task                  distracted<on-task=%{x}<br>markers=%{y}<extra></extra>",
         "legendgroup": "under-sample, p < 0.05 uncorrected",
         "marker": {
          "color": "#9AC529",
          "size": 8,
          "symbol": "circle"
         },
         "mode": "markers",
         "name": "under-sample, p < 0.05 uncorrected",
         "orientation": "h",
         "showlegend": true,
         "type": "scatter",
         "x": [
          0.6180555555555556,
          0.662326388888889
         ],
         "xaxis": "x2",
         "y": [
          "$\\gamma_{std}$",
          "$|\\theta|_{std}$"
         ],
         "yaxis": "y2"
        },
        {
         "hovertemplate": "balance=over-sample<br>significant=p > 0.05<br>distracted>on-task                  distracted<on-task=%{x}<br>markers=%{y}<extra></extra>",
         "legendgroup": "over-sample, p > 0.05",
         "marker": {
          "color": "#F38A31",
          "size": 8,
          "symbol": "circle-open"
         },
         "mode": "markers",
         "name": "over-sample, p > 0.05",
         "orientation": "h",
         "showlegend": true,
         "type": "scatter",
         "x": [
          0.42722951561792666,
          0.4326618379357175,
          0.43277501131733814,
          0.4379809868718877,
          0.4406971480307832,
          0.44148936170212766,
          0.4447713897691263,
          0.4497510185604346,
          0.4539384336803983,
          0.455636034404708,
          0.45631507469443183,
          0.47351742870076957,
          0.47532820280669985,
          0.47764825712992304,
          0.47827071072883653,
          0.4786668175645088,
          0.4813263920325939,
          0.4865323675871435,
          0.4874377546401087,
          0.48868266183793574,
          0.49320959710276147,
          0.49637845178813944,
          0.5005658669081032,
          0.5011317338162065,
          0.5023766410140336,
          0.5054323223177908,
          0.5056586690810321,
          0.5076957899502037,
          0.5081484834766863,
          0.5090538705296515,
          0.5092802172928927,
          0.5124490719782706,
          0.5131281122679946,
          0.5172023540063377,
          0.5173155273879584,
          0.5209370755998189,
          0.5215029425079222,
          0.5217292892711635,
          0.5226346763241285,
          0.5229741964689905,
          0.5290855590765051,
          0.5346310547759168,
          0.5428927116342236,
          0.5437980986871889,
          0.5499094612947035,
          0.5510411951109099,
          0.5591896785875962,
          0.5637166138524219,
          0.580805794477139
         ],
         "xaxis": "x3",
         "y": [
          "$PE\\alpha_{mean}$",
          "$MSF_{std}$",
          "$PE\\theta_{std}$",
          "$|\\beta|_{mean}$",
          "$PE\\gamma_{mean}$",
          "$|\\delta|_{mean}$",
          "$P3b_{std}$",
          "$|\\delta|_{std}$",
          "$wSMI\\gamma_{mean}$",
          "$\\delta_{mean}$",
          "$wSMI\\theta_{std}$",
          "$wSMI\\beta_{std}$",
          "$P1_{mean}$",
          "$K_{mean}$",
          "$P3a_{mean}$",
          "$MSF_{mean}$",
          "$\\beta_{mean}$",
          "$\\delta_{std}$",
          "$\\alpha_{std}$",
          "$|\\gamma|_{std}$",
          "$SE_{mean}$",
          "$PE\\beta_{mean}$",
          "$|\\beta|_{std}$",
          "$|\\alpha|_{mean}$",
          "$SE_{std}$",
          "$|\\alpha|_{std}$",
          "$wSMI\\gamma_{std}$",
          "$\\alpha_{mean}$",
          "$PE\\gamma_{std}$",
          "$\\gamma_{mean}$",
          "$P3a_{std}$",
          "$wSMI\\beta_{mean}$",
          "$wSMI\\alpha_{mean}$",
          "$SEF90_{mean}$",
          "$|\\gamma|_{mean}$",
          "$P1_{std}$",
          "$PE\\theta_{mean}$",
          "$PE\\beta_{std}$",
          "$SEF95_{std}$",
          "$SEF95_{mean}$",
          "$P3b_{mean}$",
          "$K_{std}$",
          "$\\gamma_{std}$",
          "$wSMI\\alpha_{std}$",
          "$SEF90_{std}$",
          "$\\beta_{std}$",
          "$wSMI\\theta_{mean}$",
          "$\\theta_{std}$",
          "$\\theta_{mean}$"
         ],
         "yaxis": "y3"
        },
        {
         "hovertemplate": "balance=over-sample<br>significant=p < 0.05 uncorrected<br>distracted>on-task                  distracted<on-task=%{x}<br>markers=%{y}<extra></extra>",
         "legendgroup": "over-sample, p < 0.05 uncorrected",
         "marker": {
          "color": "#F38A31",
          "size": 8,
          "symbol": "circle"
         },
         "mode": "markers",
         "name": "over-sample, p < 0.05 uncorrected",
         "orientation": "h",
         "showlegend": true,
         "type": "scatter",
         "x": [
          0.4075373472159348,
          0.41387505658669077,
          0.5974422815753735,
          0.6241511996378452
         ],
         "xaxis": "x3",
         "y": [
          "$CNV_{std}$",
          "$CNV_{mean}$",
          "$PE\\alpha_{std}$",
          "$|\\theta|_{std}$"
         ],
         "yaxis": "y3"
        },
        {
         "hovertemplate": "balance=over-sample<br>significant=p < 0.05 FDR corrected<br>distracted>on-task                  distracted<on-task=%{x}<br>markers=%{y}<extra></extra>",
         "legendgroup": "over-sample, p < 0.05 FDR corrected",
         "marker": {
          "color": "#F38A31",
          "size": 8,
          "symbol": "hexagram"
         },
         "mode": "markers",
         "name": "over-sample, p < 0.05 FDR corrected",
         "orientation": "h",
         "showlegend": true,
         "type": "scatter",
         "x": [
          0.6412403802625622
         ],
         "xaxis": "x3",
         "y": [
          "$|\\theta|_{mean}$"
         ],
         "yaxis": "y3"
        }
       ],
       "layout": {
        "annotations": [
         {
          "showarrow": false,
          "text": "balance=unbalance",
          "x": 0.15999999999999998,
          "xanchor": "center",
          "xref": "paper",
          "y": 1,
          "yanchor": "bottom",
          "yref": "paper"
         },
         {
          "showarrow": false,
          "text": "balance=under-sample",
          "x": 0.49999999999999994,
          "xanchor": "center",
          "xref": "paper",
          "y": 1,
          "yanchor": "bottom",
          "yref": "paper"
         },
         {
          "showarrow": false,
          "text": "balance=over-sample",
          "x": 0.8399999999999999,
          "xanchor": "center",
          "xref": "paper",
          "y": 1,
          "yanchor": "bottom",
          "yref": "paper"
         }
        ],
        "autosize": true,
        "height": 800,
        "legend": {
         "title": {
          "text": "balance, significant"
         },
         "tracegroupgap": 0
        },
        "margin": {
         "t": 60
        },
        "shapes": [
         {
          "line": {
           "color": "black",
           "dash": "dash",
           "width": 3
          },
          "type": "line",
          "x0": 0.5,
          "x1": 0.5,
          "xref": "x",
          "y0": 0,
          "y1": 1,
          "yref": "y domain"
         },
         {
          "line": {
           "color": "black",
           "dash": "dash",
           "width": 3
          },
          "type": "line",
          "x0": 0.5,
          "x1": 0.5,
          "xref": "x2",
          "y0": 0,
          "y1": 1,
          "yref": "y2 domain"
         },
         {
          "line": {
           "color": "black",
           "dash": "dash",
           "width": 3
          },
          "type": "line",
          "x0": 0.5,
          "x1": 0.5,
          "xref": "x3",
          "y0": 0,
          "y1": 1,
          "yref": "y3 domain"
         }
        ],
        "template": {
         "data": {
          "bar": [
           {
            "error_x": {
             "color": "#2a3f5f"
            },
            "error_y": {
             "color": "#2a3f5f"
            },
            "marker": {
             "line": {
              "color": "white",
              "width": 0.5
             },
             "pattern": {
              "fillmode": "overlay",
              "size": 10,
              "solidity": 0.2
             }
            },
            "type": "bar"
           }
          ],
          "barpolar": [
           {
            "marker": {
             "line": {
              "color": "white",
              "width": 0.5
             },
             "pattern": {
              "fillmode": "overlay",
              "size": 10,
              "solidity": 0.2
             }
            },
            "type": "barpolar"
           }
          ],
          "carpet": [
           {
            "aaxis": {
             "endlinecolor": "#2a3f5f",
             "gridcolor": "#C8D4E3",
             "linecolor": "#C8D4E3",
             "minorgridcolor": "#C8D4E3",
             "startlinecolor": "#2a3f5f"
            },
            "baxis": {
             "endlinecolor": "#2a3f5f",
             "gridcolor": "#C8D4E3",
             "linecolor": "#C8D4E3",
             "minorgridcolor": "#C8D4E3",
             "startlinecolor": "#2a3f5f"
            },
            "type": "carpet"
           }
          ],
          "choropleth": [
           {
            "colorbar": {
             "outlinewidth": 0,
             "ticks": ""
            },
            "type": "choropleth"
           }
          ],
          "contour": [
           {
            "colorbar": {
             "outlinewidth": 0,
             "ticks": ""
            },
            "colorscale": [
             [
              0,
              "#0d0887"
             ],
             [
              0.1111111111111111,
              "#46039f"
             ],
             [
              0.2222222222222222,
              "#7201a8"
             ],
             [
              0.3333333333333333,
              "#9c179e"
             ],
             [
              0.4444444444444444,
              "#bd3786"
             ],
             [
              0.5555555555555556,
              "#d8576b"
             ],
             [
              0.6666666666666666,
              "#ed7953"
             ],
             [
              0.7777777777777778,
              "#fb9f3a"
             ],
             [
              0.8888888888888888,
              "#fdca26"
             ],
             [
              1,
              "#f0f921"
             ]
            ],
            "type": "contour"
           }
          ],
          "contourcarpet": [
           {
            "colorbar": {
             "outlinewidth": 0,
             "ticks": ""
            },
            "type": "contourcarpet"
           }
          ],
          "heatmap": [
           {
            "colorbar": {
             "outlinewidth": 0,
             "ticks": ""
            },
            "colorscale": [
             [
              0,
              "#0d0887"
             ],
             [
              0.1111111111111111,
              "#46039f"
             ],
             [
              0.2222222222222222,
              "#7201a8"
             ],
             [
              0.3333333333333333,
              "#9c179e"
             ],
             [
              0.4444444444444444,
              "#bd3786"
             ],
             [
              0.5555555555555556,
              "#d8576b"
             ],
             [
              0.6666666666666666,
              "#ed7953"
             ],
             [
              0.7777777777777778,
              "#fb9f3a"
             ],
             [
              0.8888888888888888,
              "#fdca26"
             ],
             [
              1,
              "#f0f921"
             ]
            ],
            "type": "heatmap"
           }
          ],
          "heatmapgl": [
           {
            "colorbar": {
             "outlinewidth": 0,
             "ticks": ""
            },
            "colorscale": [
             [
              0,
              "#0d0887"
             ],
             [
              0.1111111111111111,
              "#46039f"
             ],
             [
              0.2222222222222222,
              "#7201a8"
             ],
             [
              0.3333333333333333,
              "#9c179e"
             ],
             [
              0.4444444444444444,
              "#bd3786"
             ],
             [
              0.5555555555555556,
              "#d8576b"
             ],
             [
              0.6666666666666666,
              "#ed7953"
             ],
             [
              0.7777777777777778,
              "#fb9f3a"
             ],
             [
              0.8888888888888888,
              "#fdca26"
             ],
             [
              1,
              "#f0f921"
             ]
            ],
            "type": "heatmapgl"
           }
          ],
          "histogram": [
           {
            "marker": {
             "pattern": {
              "fillmode": "overlay",
              "size": 10,
              "solidity": 0.2
             }
            },
            "type": "histogram"
           }
          ],
          "histogram2d": [
           {
            "colorbar": {
             "outlinewidth": 0,
             "ticks": ""
            },
            "colorscale": [
             [
              0,
              "#0d0887"
             ],
             [
              0.1111111111111111,
              "#46039f"
             ],
             [
              0.2222222222222222,
              "#7201a8"
             ],
             [
              0.3333333333333333,
              "#9c179e"
             ],
             [
              0.4444444444444444,
              "#bd3786"
             ],
             [
              0.5555555555555556,
              "#d8576b"
             ],
             [
              0.6666666666666666,
              "#ed7953"
             ],
             [
              0.7777777777777778,
              "#fb9f3a"
             ],
             [
              0.8888888888888888,
              "#fdca26"
             ],
             [
              1,
              "#f0f921"
             ]
            ],
            "type": "histogram2d"
           }
          ],
          "histogram2dcontour": [
           {
            "colorbar": {
             "outlinewidth": 0,
             "ticks": ""
            },
            "colorscale": [
             [
              0,
              "#0d0887"
             ],
             [
              0.1111111111111111,
              "#46039f"
             ],
             [
              0.2222222222222222,
              "#7201a8"
             ],
             [
              0.3333333333333333,
              "#9c179e"
             ],
             [
              0.4444444444444444,
              "#bd3786"
             ],
             [
              0.5555555555555556,
              "#d8576b"
             ],
             [
              0.6666666666666666,
              "#ed7953"
             ],
             [
              0.7777777777777778,
              "#fb9f3a"
             ],
             [
              0.8888888888888888,
              "#fdca26"
             ],
             [
              1,
              "#f0f921"
             ]
            ],
            "type": "histogram2dcontour"
           }
          ],
          "mesh3d": [
           {
            "colorbar": {
             "outlinewidth": 0,
             "ticks": ""
            },
            "type": "mesh3d"
           }
          ],
          "parcoords": [
           {
            "line": {
             "colorbar": {
              "outlinewidth": 0,
              "ticks": ""
             }
            },
            "type": "parcoords"
           }
          ],
          "pie": [
           {
            "automargin": true,
            "type": "pie"
           }
          ],
          "scatter": [
           {
            "fillpattern": {
             "fillmode": "overlay",
             "size": 10,
             "solidity": 0.2
            },
            "type": "scatter"
           }
          ],
          "scatter3d": [
           {
            "line": {
             "colorbar": {
              "outlinewidth": 0,
              "ticks": ""
             }
            },
            "marker": {
             "colorbar": {
              "outlinewidth": 0,
              "ticks": ""
             }
            },
            "type": "scatter3d"
           }
          ],
          "scattercarpet": [
           {
            "marker": {
             "colorbar": {
              "outlinewidth": 0,
              "ticks": ""
             }
            },
            "type": "scattercarpet"
           }
          ],
          "scattergeo": [
           {
            "marker": {
             "colorbar": {
              "outlinewidth": 0,
              "ticks": ""
             }
            },
            "type": "scattergeo"
           }
          ],
          "scattergl": [
           {
            "marker": {
             "colorbar": {
              "outlinewidth": 0,
              "ticks": ""
             }
            },
            "type": "scattergl"
           }
          ],
          "scattermapbox": [
           {
            "marker": {
             "colorbar": {
              "outlinewidth": 0,
              "ticks": ""
             }
            },
            "type": "scattermapbox"
           }
          ],
          "scatterpolar": [
           {
            "marker": {
             "colorbar": {
              "outlinewidth": 0,
              "ticks": ""
             }
            },
            "type": "scatterpolar"
           }
          ],
          "scatterpolargl": [
           {
            "marker": {
             "colorbar": {
              "outlinewidth": 0,
              "ticks": ""
             }
            },
            "type": "scatterpolargl"
           }
          ],
          "scatterternary": [
           {
            "marker": {
             "colorbar": {
              "outlinewidth": 0,
              "ticks": ""
             }
            },
            "type": "scatterternary"
           }
          ],
          "surface": [
           {
            "colorbar": {
             "outlinewidth": 0,
             "ticks": ""
            },
            "colorscale": [
             [
              0,
              "#0d0887"
             ],
             [
              0.1111111111111111,
              "#46039f"
             ],
             [
              0.2222222222222222,
              "#7201a8"
             ],
             [
              0.3333333333333333,
              "#9c179e"
             ],
             [
              0.4444444444444444,
              "#bd3786"
             ],
             [
              0.5555555555555556,
              "#d8576b"
             ],
             [
              0.6666666666666666,
              "#ed7953"
             ],
             [
              0.7777777777777778,
              "#fb9f3a"
             ],
             [
              0.8888888888888888,
              "#fdca26"
             ],
             [
              1,
              "#f0f921"
             ]
            ],
            "type": "surface"
           }
          ],
          "table": [
           {
            "cells": {
             "fill": {
              "color": "#EBF0F8"
             },
             "line": {
              "color": "white"
             }
            },
            "header": {
             "fill": {
              "color": "#C8D4E3"
             },
             "line": {
              "color": "white"
             }
            },
            "type": "table"
           }
          ]
         },
         "layout": {
          "annotationdefaults": {
           "arrowcolor": "#2a3f5f",
           "arrowhead": 0,
           "arrowwidth": 1
          },
          "autotypenumbers": "strict",
          "coloraxis": {
           "colorbar": {
            "outlinewidth": 0,
            "ticks": ""
           }
          },
          "colorscale": {
           "diverging": [
            [
             0,
             "#8e0152"
            ],
            [
             0.1,
             "#c51b7d"
            ],
            [
             0.2,
             "#de77ae"
            ],
            [
             0.3,
             "#f1b6da"
            ],
            [
             0.4,
             "#fde0ef"
            ],
            [
             0.5,
             "#f7f7f7"
            ],
            [
             0.6,
             "#e6f5d0"
            ],
            [
             0.7,
             "#b8e186"
            ],
            [
             0.8,
             "#7fbc41"
            ],
            [
             0.9,
             "#4d9221"
            ],
            [
             1,
             "#276419"
            ]
           ],
           "sequential": [
            [
             0,
             "#0d0887"
            ],
            [
             0.1111111111111111,
             "#46039f"
            ],
            [
             0.2222222222222222,
             "#7201a8"
            ],
            [
             0.3333333333333333,
             "#9c179e"
            ],
            [
             0.4444444444444444,
             "#bd3786"
            ],
            [
             0.5555555555555556,
             "#d8576b"
            ],
            [
             0.6666666666666666,
             "#ed7953"
            ],
            [
             0.7777777777777778,
             "#fb9f3a"
            ],
            [
             0.8888888888888888,
             "#fdca26"
            ],
            [
             1,
             "#f0f921"
            ]
           ],
           "sequentialminus": [
            [
             0,
             "#0d0887"
            ],
            [
             0.1111111111111111,
             "#46039f"
            ],
            [
             0.2222222222222222,
             "#7201a8"
            ],
            [
             0.3333333333333333,
             "#9c179e"
            ],
            [
             0.4444444444444444,
             "#bd3786"
            ],
            [
             0.5555555555555556,
             "#d8576b"
            ],
            [
             0.6666666666666666,
             "#ed7953"
            ],
            [
             0.7777777777777778,
             "#fb9f3a"
            ],
            [
             0.8888888888888888,
             "#fdca26"
            ],
            [
             1,
             "#f0f921"
            ]
           ]
          },
          "colorway": [
           "#636efa",
           "#EF553B",
           "#00cc96",
           "#ab63fa",
           "#FFA15A",
           "#19d3f3",
           "#FF6692",
           "#B6E880",
           "#FF97FF",
           "#FECB52"
          ],
          "font": {
           "color": "#2a3f5f"
          },
          "geo": {
           "bgcolor": "white",
           "lakecolor": "white",
           "landcolor": "white",
           "showlakes": true,
           "showland": true,
           "subunitcolor": "#C8D4E3"
          },
          "hoverlabel": {
           "align": "left"
          },
          "hovermode": "closest",
          "mapbox": {
           "style": "light"
          },
          "paper_bgcolor": "white",
          "plot_bgcolor": "white",
          "polar": {
           "angularaxis": {
            "gridcolor": "#EBF0F8",
            "linecolor": "#EBF0F8",
            "ticks": ""
           },
           "bgcolor": "white",
           "radialaxis": {
            "gridcolor": "#EBF0F8",
            "linecolor": "#EBF0F8",
            "ticks": ""
           }
          },
          "scene": {
           "xaxis": {
            "backgroundcolor": "white",
            "gridcolor": "#DFE8F3",
            "gridwidth": 2,
            "linecolor": "#EBF0F8",
            "showbackground": true,
            "ticks": "",
            "zerolinecolor": "#EBF0F8"
           },
           "yaxis": {
            "backgroundcolor": "white",
            "gridcolor": "#DFE8F3",
            "gridwidth": 2,
            "linecolor": "#EBF0F8",
            "showbackground": true,
            "ticks": "",
            "zerolinecolor": "#EBF0F8"
           },
           "zaxis": {
            "backgroundcolor": "white",
            "gridcolor": "#DFE8F3",
            "gridwidth": 2,
            "linecolor": "#EBF0F8",
            "showbackground": true,
            "ticks": "",
            "zerolinecolor": "#EBF0F8"
           }
          },
          "shapedefaults": {
           "line": {
            "color": "#2a3f5f"
           }
          },
          "ternary": {
           "aaxis": {
            "gridcolor": "#DFE8F3",
            "linecolor": "#A2B1C6",
            "ticks": ""
           },
           "baxis": {
            "gridcolor": "#DFE8F3",
            "linecolor": "#A2B1C6",
            "ticks": ""
           },
           "bgcolor": "white",
           "caxis": {
            "gridcolor": "#DFE8F3",
            "linecolor": "#A2B1C6",
            "ticks": ""
           }
          },
          "title": {
           "x": 0.05
          },
          "xaxis": {
           "automargin": true,
           "gridcolor": "#EBF0F8",
           "linecolor": "#EBF0F8",
           "ticks": "",
           "title": {
            "standoff": 15
           },
           "zerolinecolor": "#EBF0F8",
           "zerolinewidth": 2
          },
          "yaxis": {
           "automargin": true,
           "gridcolor": "#EBF0F8",
           "linecolor": "#EBF0F8",
           "ticks": "",
           "title": {
            "standoff": 15
           },
           "zerolinecolor": "#EBF0F8",
           "zerolinewidth": 2
          }
         }
        },
        "title": {
         "text": "distracted vs on-task(48,94"
        },
        "width": 1600,
        "xaxis": {
         "anchor": "y",
         "domain": [
          0,
          0.31999999999999995
         ],
         "title": {
          "text": "distracted>on-task                  distracted<on-task"
         }
        },
        "xaxis2": {
         "anchor": "y2",
         "domain": [
          0.33999999999999997,
          0.6599999999999999
         ],
         "matches": "x",
         "title": {
          "text": "distracted>on-task                  distracted<on-task"
         }
        },
        "xaxis3": {
         "anchor": "y3",
         "domain": [
          0.6799999999999999,
          0.9999999999999999
         ],
         "matches": "x",
         "title": {
          "text": "distracted>on-task                  distracted<on-task"
         }
        },
        "yaxis": {
         "anchor": "x",
         "domain": [
          0,
          1
         ],
         "showticklabels": true,
         "tickmode": "linear",
         "title": {
          "text": "markers"
         }
        },
        "yaxis2": {
         "anchor": "x2",
         "domain": [
          0,
          1
         ],
         "matches": "y",
         "showticklabels": false
        },
        "yaxis3": {
         "anchor": "x3",
         "domain": [
          0,
          1
         ],
         "matches": "y",
         "showticklabels": false
        }
       }
      },
      "text/html": [
       "<div>                            <div id=\"62af69fc-9bee-477a-a3bf-7b3a996f2493\" class=\"plotly-graph-div\" style=\"height:800px; width:1600px;\"></div>            <script type=\"text/javascript\">                require([\"plotly\"], function(Plotly) {                    window.PLOTLYENV=window.PLOTLYENV || {};                                    if (document.getElementById(\"62af69fc-9bee-477a-a3bf-7b3a996f2493\")) {                    Plotly.newPlot(                        \"62af69fc-9bee-477a-a3bf-7b3a996f2493\",                        [{\"hovertemplate\":\"balance=unbalance<br>significant=p > 0.05<br>distracted>on-task                  distracted<on-task=%{x}<br>markers=%{y}<extra></extra>\",\"legendgroup\":\"unbalance, p > 0.05\",\"marker\":{\"color\":\"#DE237B\",\"symbol\":\"circle-open\",\"size\":8},\"mode\":\"markers\",\"name\":\"unbalance, p > 0.05\",\"orientation\":\"h\",\"showlegend\":true,\"x\":[0.4213209219858156,0.4228723404255319,0.43417553191489366,0.43949468085106386,0.44592198581560283,0.4516843971631206,0.4547872340425532,0.4578900709219858,0.45944148936170215,0.45988475177304966,0.46786347517730503,0.46941489361702127,0.47761524822695034,0.4794991134751774,0.4822695035460993,0.4827127659574468,0.49224290780141844,0.49379432624113484,0.49423758865248224,0.4942375886524823,0.4960106382978724,0.49977836879432624,0.5,0.5006648936170213,0.5037677304964538,0.506427304964539,0.5082003546099291,0.5084219858156028,0.5117464539007092,0.5144060283687943,0.5199468085106383,0.5246010638297872,0.5259308510638298,0.5261524822695035,0.527482269503546,0.5290336879432624,0.5334663120567376,0.5356826241134752,0.5361258865248227,0.5367907801418439,0.5394503546099291,0.5427748226950354,0.5447695035460993,0.5492021276595744,0.5523049645390071,0.5529698581560284,0.5589539007092199,0.5671542553191489,0.5713652482269505,0.5806737588652482,0.5986258865248227],\"xaxis\":\"x\",\"y\":[\"$PE\\\\theta_{std}$\",\"$CNV_{std}$\",\"$|\\\\beta|_{mean}$\",\"$PE\\\\alpha_{mean}$\",\"$wSMI\\\\gamma_{mean}$\",\"$|\\\\delta|_{std}$\",\"$PE\\\\gamma_{mean}$\",\"$\\\\delta_{mean}$\",\"$\\\\beta_{mean}$\",\"$|\\\\delta|_{mean}$\",\"$P3b_{std}$\",\"$MSF_{std}$\",\"$P3a_{std}$\",\"$MSF_{mean}$\",\"$P3a_{mean}$\",\"$wSMI\\\\theta_{std}$\",\"$wSMI\\\\beta_{std}$\",\"$|\\\\beta|_{std}$\",\"$\\\\delta_{std}$\",\"$\\\\alpha_{std}$\",\"$|\\\\alpha|_{mean}$\",\"$\\\\alpha_{mean}$\",\"$K_{mean}$\",\"$P1_{std}$\",\"$SE_{mean}$\",\"$PE\\\\gamma_{std}$\",\"$\\\\gamma_{mean}$\",\"$wSMI\\\\alpha_{mean}$\",\"$P1_{mean}$\",\"$|\\\\alpha|_{std}$\",\"$PE\\\\theta_{mean}$\",\"$PE\\\\beta_{mean}$\",\"$PE\\\\beta_{std}$\",\"$wSMI\\\\gamma_{std}$\",\"$|\\\\gamma|_{std}$\",\"$SE_{std}$\",\"$P3b_{mean}$\",\"$wSMI\\\\beta_{mean}$\",\"$K_{std}$\",\"$SEF90_{mean}$\",\"$|\\\\gamma|_{mean}$\",\"$SEF95_{std}$\",\"$SEF95_{mean}$\",\"$wSMI\\\\alpha_{std}$\",\"$\\\\theta_{mean}$\",\"$wSMI\\\\theta_{mean}$\",\"$SEF90_{std}$\",\"$\\\\beta_{std}$\",\"$\\\\gamma_{std}$\",\"$\\\\theta_{std}$\",\"$PE\\\\alpha_{std}$\"],\"yaxis\":\"y\",\"type\":\"scatter\"},{\"hovertemplate\":\"balance=unbalance<br>significant=p < 0.05 uncorrected<br>distracted>on-task                  distracted<on-task=%{x}<br>markers=%{y}<extra></extra>\",\"legendgroup\":\"unbalance, p < 0.05 uncorrected\",\"marker\":{\"color\":\"#DE237B\",\"symbol\":\"circle\",\"size\":8},\"mode\":\"markers\",\"name\":\"unbalance, p < 0.05 uncorrected\",\"orientation\":\"h\",\"showlegend\":true,\"x\":[0.394281914893617,0.6254432624113476,0.6285460992907801],\"xaxis\":\"x\",\"y\":[\"$CNV_{mean}$\",\"$|\\\\theta|_{mean}$\",\"$|\\\\theta|_{std}$\"],\"yaxis\":\"y\",\"type\":\"scatter\"},{\"hovertemplate\":\"balance=under-sample<br>significant=p > 0.05<br>distracted>on-task                  distracted<on-task=%{x}<br>markers=%{y}<extra></extra>\",\"legendgroup\":\"under-sample, p > 0.05\",\"marker\":{\"color\":\"#9AC529\",\"symbol\":\"circle-open\",\"size\":8},\"mode\":\"markers\",\"name\":\"under-sample, p > 0.05\",\"orientation\":\"h\",\"showlegend\":true,\"x\":[0.42838541666666663,0.4366319444444445,0.44531249999999994,0.44661458333333337,0.45572916666666663,0.45703125,0.4578993055555556,0.45833333333333337,0.4600694444444445,0.46223958333333326,0.4635416666666667,0.4652777777777778,0.4657118055555555,0.46744791666666663,0.4730902777777778,0.4778645833333333,0.4835069444444444,0.48828125,0.48871527777777785,0.4895833333333333,0.4904513888888889,0.49348958333333337,0.4947916666666667,0.4952256944444444,0.5021701388888888,0.5026041666666667,0.5030381944444444,0.5030381944444445,0.5069444444444444,0.5121527777777778,0.5199652777777778,0.5208333333333334,0.521267361111111,0.5221354166666667,0.5277777777777777,0.5373263888888888,0.5390625,0.5451388888888888,0.548611111111111,0.5490451388888888,0.5503472222222222,0.5533854166666666,0.5533854166666667,0.5598958333333333,0.5620659722222222,0.5646701388888888,0.5659722222222221,0.5772569444444444,0.5824652777777778,0.5902777777777778,0.5963541666666667,0.6002604166666666],\"xaxis\":\"x2\",\"y\":[\"$CNV_{std}$\",\"$|\\\\delta|_{mean}$\",\"$|\\\\delta|_{std}$\",\"$wSMI\\\\theta_{std}$\",\"$\\\\delta_{mean}$\",\"$PE\\\\gamma_{std}$\",\"$PE\\\\beta_{std}$\",\"$|\\\\beta|_{mean}$\",\"$P3b_{std}$\",\"$\\\\alpha_{std}$\",\"$PE\\\\alpha_{mean}$\",\"$CNV_{mean}$\",\"$PE\\\\theta_{std}$\",\"$P3a_{std}$\",\"$|\\\\alpha|_{mean}$\",\"$P1_{std}$\",\"$\\\\alpha_{mean}$\",\"$\\\\beta_{mean}$\",\"$wSMI\\\\gamma_{mean}$\",\"$P3a_{mean}$\",\"$PE\\\\theta_{mean}$\",\"$\\\\delta_{std}$\",\"$wSMI\\\\alpha_{std}$\",\"$P1_{mean}$\",\"$wSMI\\\\alpha_{mean}$\",\"$MSF_{mean}$\",\"$PE\\\\gamma_{mean}$\",\"$|\\\\beta|_{std}$\",\"$wSMI\\\\beta_{mean}$\",\"$MSF_{std}$\",\"$K_{mean}$\",\"$wSMI\\\\beta_{std}$\",\"$SE_{mean}$\",\"$|\\\\alpha|_{std}$\",\"$\\\\beta_{std}$\",\"$\\\\theta_{mean}$\",\"$SEF95_{std}$\",\"$K_{std}$\",\"$\\\\gamma_{mean}$\",\"$wSMI\\\\theta_{mean}$\",\"$SE_{std}$\",\"$SEF90_{mean}$\",\"$PE\\\\beta_{mean}$\",\"$|\\\\gamma|_{std}$\",\"$SEF90_{std}$\",\"$SEF95_{mean}$\",\"$|\\\\gamma|_{mean}$\",\"$|\\\\theta|_{mean}$\",\"$P3b_{mean}$\",\"$\\\\theta_{std}$\",\"$wSMI\\\\gamma_{std}$\",\"$PE\\\\alpha_{std}$\"],\"yaxis\":\"y2\",\"type\":\"scatter\"},{\"hovertemplate\":\"balance=under-sample<br>significant=p < 0.05 uncorrected<br>distracted>on-task                  distracted<on-task=%{x}<br>markers=%{y}<extra></extra>\",\"legendgroup\":\"under-sample, p < 0.05 uncorrected\",\"marker\":{\"color\":\"#9AC529\",\"symbol\":\"circle\",\"size\":8},\"mode\":\"markers\",\"name\":\"under-sample, p < 0.05 uncorrected\",\"orientation\":\"h\",\"showlegend\":true,\"x\":[0.6180555555555556,0.662326388888889],\"xaxis\":\"x2\",\"y\":[\"$\\\\gamma_{std}$\",\"$|\\\\theta|_{std}$\"],\"yaxis\":\"y2\",\"type\":\"scatter\"},{\"hovertemplate\":\"balance=over-sample<br>significant=p > 0.05<br>distracted>on-task                  distracted<on-task=%{x}<br>markers=%{y}<extra></extra>\",\"legendgroup\":\"over-sample, p > 0.05\",\"marker\":{\"color\":\"#F38A31\",\"symbol\":\"circle-open\",\"size\":8},\"mode\":\"markers\",\"name\":\"over-sample, p > 0.05\",\"orientation\":\"h\",\"showlegend\":true,\"x\":[0.42722951561792666,0.4326618379357175,0.43277501131733814,0.4379809868718877,0.4406971480307832,0.44148936170212766,0.4447713897691263,0.4497510185604346,0.4539384336803983,0.455636034404708,0.45631507469443183,0.47351742870076957,0.47532820280669985,0.47764825712992304,0.47827071072883653,0.4786668175645088,0.4813263920325939,0.4865323675871435,0.4874377546401087,0.48868266183793574,0.49320959710276147,0.49637845178813944,0.5005658669081032,0.5011317338162065,0.5023766410140336,0.5054323223177908,0.5056586690810321,0.5076957899502037,0.5081484834766863,0.5090538705296515,0.5092802172928927,0.5124490719782706,0.5131281122679946,0.5172023540063377,0.5173155273879584,0.5209370755998189,0.5215029425079222,0.5217292892711635,0.5226346763241285,0.5229741964689905,0.5290855590765051,0.5346310547759168,0.5428927116342236,0.5437980986871889,0.5499094612947035,0.5510411951109099,0.5591896785875962,0.5637166138524219,0.580805794477139],\"xaxis\":\"x3\",\"y\":[\"$PE\\\\alpha_{mean}$\",\"$MSF_{std}$\",\"$PE\\\\theta_{std}$\",\"$|\\\\beta|_{mean}$\",\"$PE\\\\gamma_{mean}$\",\"$|\\\\delta|_{mean}$\",\"$P3b_{std}$\",\"$|\\\\delta|_{std}$\",\"$wSMI\\\\gamma_{mean}$\",\"$\\\\delta_{mean}$\",\"$wSMI\\\\theta_{std}$\",\"$wSMI\\\\beta_{std}$\",\"$P1_{mean}$\",\"$K_{mean}$\",\"$P3a_{mean}$\",\"$MSF_{mean}$\",\"$\\\\beta_{mean}$\",\"$\\\\delta_{std}$\",\"$\\\\alpha_{std}$\",\"$|\\\\gamma|_{std}$\",\"$SE_{mean}$\",\"$PE\\\\beta_{mean}$\",\"$|\\\\beta|_{std}$\",\"$|\\\\alpha|_{mean}$\",\"$SE_{std}$\",\"$|\\\\alpha|_{std}$\",\"$wSMI\\\\gamma_{std}$\",\"$\\\\alpha_{mean}$\",\"$PE\\\\gamma_{std}$\",\"$\\\\gamma_{mean}$\",\"$P3a_{std}$\",\"$wSMI\\\\beta_{mean}$\",\"$wSMI\\\\alpha_{mean}$\",\"$SEF90_{mean}$\",\"$|\\\\gamma|_{mean}$\",\"$P1_{std}$\",\"$PE\\\\theta_{mean}$\",\"$PE\\\\beta_{std}$\",\"$SEF95_{std}$\",\"$SEF95_{mean}$\",\"$P3b_{mean}$\",\"$K_{std}$\",\"$\\\\gamma_{std}$\",\"$wSMI\\\\alpha_{std}$\",\"$SEF90_{std}$\",\"$\\\\beta_{std}$\",\"$wSMI\\\\theta_{mean}$\",\"$\\\\theta_{std}$\",\"$\\\\theta_{mean}$\"],\"yaxis\":\"y3\",\"type\":\"scatter\"},{\"hovertemplate\":\"balance=over-sample<br>significant=p < 0.05 uncorrected<br>distracted>on-task                  distracted<on-task=%{x}<br>markers=%{y}<extra></extra>\",\"legendgroup\":\"over-sample, p < 0.05 uncorrected\",\"marker\":{\"color\":\"#F38A31\",\"symbol\":\"circle\",\"size\":8},\"mode\":\"markers\",\"name\":\"over-sample, p < 0.05 uncorrected\",\"orientation\":\"h\",\"showlegend\":true,\"x\":[0.4075373472159348,0.41387505658669077,0.5974422815753735,0.6241511996378452],\"xaxis\":\"x3\",\"y\":[\"$CNV_{std}$\",\"$CNV_{mean}$\",\"$PE\\\\alpha_{std}$\",\"$|\\\\theta|_{std}$\"],\"yaxis\":\"y3\",\"type\":\"scatter\"},{\"hovertemplate\":\"balance=over-sample<br>significant=p < 0.05 FDR corrected<br>distracted>on-task                  distracted<on-task=%{x}<br>markers=%{y}<extra></extra>\",\"legendgroup\":\"over-sample, p < 0.05 FDR corrected\",\"marker\":{\"color\":\"#F38A31\",\"symbol\":\"hexagram\",\"size\":8},\"mode\":\"markers\",\"name\":\"over-sample, p < 0.05 FDR corrected\",\"orientation\":\"h\",\"showlegend\":true,\"x\":[0.6412403802625622],\"xaxis\":\"x3\",\"y\":[\"$|\\\\theta|_{mean}$\"],\"yaxis\":\"y3\",\"type\":\"scatter\"}],                        {\"template\":{\"data\":{\"barpolar\":[{\"marker\":{\"line\":{\"color\":\"white\",\"width\":0.5},\"pattern\":{\"fillmode\":\"overlay\",\"size\":10,\"solidity\":0.2}},\"type\":\"barpolar\"}],\"bar\":[{\"error_x\":{\"color\":\"#2a3f5f\"},\"error_y\":{\"color\":\"#2a3f5f\"},\"marker\":{\"line\":{\"color\":\"white\",\"width\":0.5},\"pattern\":{\"fillmode\":\"overlay\",\"size\":10,\"solidity\":0.2}},\"type\":\"bar\"}],\"carpet\":[{\"aaxis\":{\"endlinecolor\":\"#2a3f5f\",\"gridcolor\":\"#C8D4E3\",\"linecolor\":\"#C8D4E3\",\"minorgridcolor\":\"#C8D4E3\",\"startlinecolor\":\"#2a3f5f\"},\"baxis\":{\"endlinecolor\":\"#2a3f5f\",\"gridcolor\":\"#C8D4E3\",\"linecolor\":\"#C8D4E3\",\"minorgridcolor\":\"#C8D4E3\",\"startlinecolor\":\"#2a3f5f\"},\"type\":\"carpet\"}],\"choropleth\":[{\"colorbar\":{\"outlinewidth\":0,\"ticks\":\"\"},\"type\":\"choropleth\"}],\"contourcarpet\":[{\"colorbar\":{\"outlinewidth\":0,\"ticks\":\"\"},\"type\":\"contourcarpet\"}],\"contour\":[{\"colorbar\":{\"outlinewidth\":0,\"ticks\":\"\"},\"colorscale\":[[0.0,\"#0d0887\"],[0.1111111111111111,\"#46039f\"],[0.2222222222222222,\"#7201a8\"],[0.3333333333333333,\"#9c179e\"],[0.4444444444444444,\"#bd3786\"],[0.5555555555555556,\"#d8576b\"],[0.6666666666666666,\"#ed7953\"],[0.7777777777777778,\"#fb9f3a\"],[0.8888888888888888,\"#fdca26\"],[1.0,\"#f0f921\"]],\"type\":\"contour\"}],\"heatmapgl\":[{\"colorbar\":{\"outlinewidth\":0,\"ticks\":\"\"},\"colorscale\":[[0.0,\"#0d0887\"],[0.1111111111111111,\"#46039f\"],[0.2222222222222222,\"#7201a8\"],[0.3333333333333333,\"#9c179e\"],[0.4444444444444444,\"#bd3786\"],[0.5555555555555556,\"#d8576b\"],[0.6666666666666666,\"#ed7953\"],[0.7777777777777778,\"#fb9f3a\"],[0.8888888888888888,\"#fdca26\"],[1.0,\"#f0f921\"]],\"type\":\"heatmapgl\"}],\"heatmap\":[{\"colorbar\":{\"outlinewidth\":0,\"ticks\":\"\"},\"colorscale\":[[0.0,\"#0d0887\"],[0.1111111111111111,\"#46039f\"],[0.2222222222222222,\"#7201a8\"],[0.3333333333333333,\"#9c179e\"],[0.4444444444444444,\"#bd3786\"],[0.5555555555555556,\"#d8576b\"],[0.6666666666666666,\"#ed7953\"],[0.7777777777777778,\"#fb9f3a\"],[0.8888888888888888,\"#fdca26\"],[1.0,\"#f0f921\"]],\"type\":\"heatmap\"}],\"histogram2dcontour\":[{\"colorbar\":{\"outlinewidth\":0,\"ticks\":\"\"},\"colorscale\":[[0.0,\"#0d0887\"],[0.1111111111111111,\"#46039f\"],[0.2222222222222222,\"#7201a8\"],[0.3333333333333333,\"#9c179e\"],[0.4444444444444444,\"#bd3786\"],[0.5555555555555556,\"#d8576b\"],[0.6666666666666666,\"#ed7953\"],[0.7777777777777778,\"#fb9f3a\"],[0.8888888888888888,\"#fdca26\"],[1.0,\"#f0f921\"]],\"type\":\"histogram2dcontour\"}],\"histogram2d\":[{\"colorbar\":{\"outlinewidth\":0,\"ticks\":\"\"},\"colorscale\":[[0.0,\"#0d0887\"],[0.1111111111111111,\"#46039f\"],[0.2222222222222222,\"#7201a8\"],[0.3333333333333333,\"#9c179e\"],[0.4444444444444444,\"#bd3786\"],[0.5555555555555556,\"#d8576b\"],[0.6666666666666666,\"#ed7953\"],[0.7777777777777778,\"#fb9f3a\"],[0.8888888888888888,\"#fdca26\"],[1.0,\"#f0f921\"]],\"type\":\"histogram2d\"}],\"histogram\":[{\"marker\":{\"pattern\":{\"fillmode\":\"overlay\",\"size\":10,\"solidity\":0.2}},\"type\":\"histogram\"}],\"mesh3d\":[{\"colorbar\":{\"outlinewidth\":0,\"ticks\":\"\"},\"type\":\"mesh3d\"}],\"parcoords\":[{\"line\":{\"colorbar\":{\"outlinewidth\":0,\"ticks\":\"\"}},\"type\":\"parcoords\"}],\"pie\":[{\"automargin\":true,\"type\":\"pie\"}],\"scatter3d\":[{\"line\":{\"colorbar\":{\"outlinewidth\":0,\"ticks\":\"\"}},\"marker\":{\"colorbar\":{\"outlinewidth\":0,\"ticks\":\"\"}},\"type\":\"scatter3d\"}],\"scattercarpet\":[{\"marker\":{\"colorbar\":{\"outlinewidth\":0,\"ticks\":\"\"}},\"type\":\"scattercarpet\"}],\"scattergeo\":[{\"marker\":{\"colorbar\":{\"outlinewidth\":0,\"ticks\":\"\"}},\"type\":\"scattergeo\"}],\"scattergl\":[{\"marker\":{\"colorbar\":{\"outlinewidth\":0,\"ticks\":\"\"}},\"type\":\"scattergl\"}],\"scattermapbox\":[{\"marker\":{\"colorbar\":{\"outlinewidth\":0,\"ticks\":\"\"}},\"type\":\"scattermapbox\"}],\"scatterpolargl\":[{\"marker\":{\"colorbar\":{\"outlinewidth\":0,\"ticks\":\"\"}},\"type\":\"scatterpolargl\"}],\"scatterpolar\":[{\"marker\":{\"colorbar\":{\"outlinewidth\":0,\"ticks\":\"\"}},\"type\":\"scatterpolar\"}],\"scatter\":[{\"fillpattern\":{\"fillmode\":\"overlay\",\"size\":10,\"solidity\":0.2},\"type\":\"scatter\"}],\"scatterternary\":[{\"marker\":{\"colorbar\":{\"outlinewidth\":0,\"ticks\":\"\"}},\"type\":\"scatterternary\"}],\"surface\":[{\"colorbar\":{\"outlinewidth\":0,\"ticks\":\"\"},\"colorscale\":[[0.0,\"#0d0887\"],[0.1111111111111111,\"#46039f\"],[0.2222222222222222,\"#7201a8\"],[0.3333333333333333,\"#9c179e\"],[0.4444444444444444,\"#bd3786\"],[0.5555555555555556,\"#d8576b\"],[0.6666666666666666,\"#ed7953\"],[0.7777777777777778,\"#fb9f3a\"],[0.8888888888888888,\"#fdca26\"],[1.0,\"#f0f921\"]],\"type\":\"surface\"}],\"table\":[{\"cells\":{\"fill\":{\"color\":\"#EBF0F8\"},\"line\":{\"color\":\"white\"}},\"header\":{\"fill\":{\"color\":\"#C8D4E3\"},\"line\":{\"color\":\"white\"}},\"type\":\"table\"}]},\"layout\":{\"annotationdefaults\":{\"arrowcolor\":\"#2a3f5f\",\"arrowhead\":0,\"arrowwidth\":1},\"autotypenumbers\":\"strict\",\"coloraxis\":{\"colorbar\":{\"outlinewidth\":0,\"ticks\":\"\"}},\"colorscale\":{\"diverging\":[[0,\"#8e0152\"],[0.1,\"#c51b7d\"],[0.2,\"#de77ae\"],[0.3,\"#f1b6da\"],[0.4,\"#fde0ef\"],[0.5,\"#f7f7f7\"],[0.6,\"#e6f5d0\"],[0.7,\"#b8e186\"],[0.8,\"#7fbc41\"],[0.9,\"#4d9221\"],[1,\"#276419\"]],\"sequential\":[[0.0,\"#0d0887\"],[0.1111111111111111,\"#46039f\"],[0.2222222222222222,\"#7201a8\"],[0.3333333333333333,\"#9c179e\"],[0.4444444444444444,\"#bd3786\"],[0.5555555555555556,\"#d8576b\"],[0.6666666666666666,\"#ed7953\"],[0.7777777777777778,\"#fb9f3a\"],[0.8888888888888888,\"#fdca26\"],[1.0,\"#f0f921\"]],\"sequentialminus\":[[0.0,\"#0d0887\"],[0.1111111111111111,\"#46039f\"],[0.2222222222222222,\"#7201a8\"],[0.3333333333333333,\"#9c179e\"],[0.4444444444444444,\"#bd3786\"],[0.5555555555555556,\"#d8576b\"],[0.6666666666666666,\"#ed7953\"],[0.7777777777777778,\"#fb9f3a\"],[0.8888888888888888,\"#fdca26\"],[1.0,\"#f0f921\"]]},\"colorway\":[\"#636efa\",\"#EF553B\",\"#00cc96\",\"#ab63fa\",\"#FFA15A\",\"#19d3f3\",\"#FF6692\",\"#B6E880\",\"#FF97FF\",\"#FECB52\"],\"font\":{\"color\":\"#2a3f5f\"},\"geo\":{\"bgcolor\":\"white\",\"lakecolor\":\"white\",\"landcolor\":\"white\",\"showlakes\":true,\"showland\":true,\"subunitcolor\":\"#C8D4E3\"},\"hoverlabel\":{\"align\":\"left\"},\"hovermode\":\"closest\",\"mapbox\":{\"style\":\"light\"},\"paper_bgcolor\":\"white\",\"plot_bgcolor\":\"white\",\"polar\":{\"angularaxis\":{\"gridcolor\":\"#EBF0F8\",\"linecolor\":\"#EBF0F8\",\"ticks\":\"\"},\"bgcolor\":\"white\",\"radialaxis\":{\"gridcolor\":\"#EBF0F8\",\"linecolor\":\"#EBF0F8\",\"ticks\":\"\"}},\"scene\":{\"xaxis\":{\"backgroundcolor\":\"white\",\"gridcolor\":\"#DFE8F3\",\"gridwidth\":2,\"linecolor\":\"#EBF0F8\",\"showbackground\":true,\"ticks\":\"\",\"zerolinecolor\":\"#EBF0F8\"},\"yaxis\":{\"backgroundcolor\":\"white\",\"gridcolor\":\"#DFE8F3\",\"gridwidth\":2,\"linecolor\":\"#EBF0F8\",\"showbackground\":true,\"ticks\":\"\",\"zerolinecolor\":\"#EBF0F8\"},\"zaxis\":{\"backgroundcolor\":\"white\",\"gridcolor\":\"#DFE8F3\",\"gridwidth\":2,\"linecolor\":\"#EBF0F8\",\"showbackground\":true,\"ticks\":\"\",\"zerolinecolor\":\"#EBF0F8\"}},\"shapedefaults\":{\"line\":{\"color\":\"#2a3f5f\"}},\"ternary\":{\"aaxis\":{\"gridcolor\":\"#DFE8F3\",\"linecolor\":\"#A2B1C6\",\"ticks\":\"\"},\"baxis\":{\"gridcolor\":\"#DFE8F3\",\"linecolor\":\"#A2B1C6\",\"ticks\":\"\"},\"bgcolor\":\"white\",\"caxis\":{\"gridcolor\":\"#DFE8F3\",\"linecolor\":\"#A2B1C6\",\"ticks\":\"\"}},\"title\":{\"x\":0.05},\"xaxis\":{\"automargin\":true,\"gridcolor\":\"#EBF0F8\",\"linecolor\":\"#EBF0F8\",\"ticks\":\"\",\"title\":{\"standoff\":15},\"zerolinecolor\":\"#EBF0F8\",\"zerolinewidth\":2},\"yaxis\":{\"automargin\":true,\"gridcolor\":\"#EBF0F8\",\"linecolor\":\"#EBF0F8\",\"ticks\":\"\",\"title\":{\"standoff\":15},\"zerolinecolor\":\"#EBF0F8\",\"zerolinewidth\":2}}},\"xaxis\":{\"anchor\":\"y\",\"domain\":[0.0,0.31999999999999995],\"title\":{\"text\":\"distracted>on-task                  distracted<on-task\"}},\"yaxis\":{\"anchor\":\"x\",\"domain\":[0.0,1.0],\"title\":{\"text\":\"markers\"},\"showticklabels\":true,\"tickmode\":\"linear\"},\"xaxis2\":{\"anchor\":\"y2\",\"domain\":[0.33999999999999997,0.6599999999999999],\"matches\":\"x\",\"title\":{\"text\":\"distracted>on-task                  distracted<on-task\"}},\"yaxis2\":{\"anchor\":\"x2\",\"domain\":[0.0,1.0],\"matches\":\"y\",\"showticklabels\":false},\"xaxis3\":{\"anchor\":\"y3\",\"domain\":[0.6799999999999999,0.9999999999999999],\"matches\":\"x\",\"title\":{\"text\":\"distracted>on-task                  distracted<on-task\"}},\"yaxis3\":{\"anchor\":\"x3\",\"domain\":[0.0,1.0],\"matches\":\"y\",\"showticklabels\":false},\"annotations\":[{\"showarrow\":false,\"text\":\"balance=unbalance\",\"x\":0.15999999999999998,\"xanchor\":\"center\",\"xref\":\"paper\",\"y\":1.0,\"yanchor\":\"bottom\",\"yref\":\"paper\"},{\"showarrow\":false,\"text\":\"balance=under-sample\",\"x\":0.49999999999999994,\"xanchor\":\"center\",\"xref\":\"paper\",\"y\":1.0,\"yanchor\":\"bottom\",\"yref\":\"paper\"},{\"showarrow\":false,\"text\":\"balance=over-sample\",\"x\":0.8399999999999999,\"xanchor\":\"center\",\"xref\":\"paper\",\"y\":1.0,\"yanchor\":\"bottom\",\"yref\":\"paper\"}],\"legend\":{\"title\":{\"text\":\"balance, significant\"},\"tracegroupgap\":0},\"margin\":{\"t\":60},\"shapes\":[{\"line\":{\"color\":\"black\",\"dash\":\"dash\",\"width\":3},\"type\":\"line\",\"x0\":0.5,\"x1\":0.5,\"xref\":\"x\",\"y0\":0,\"y1\":1,\"yref\":\"y domain\"},{\"line\":{\"color\":\"black\",\"dash\":\"dash\",\"width\":3},\"type\":\"line\",\"x0\":0.5,\"x1\":0.5,\"xref\":\"x2\",\"y0\":0,\"y1\":1,\"yref\":\"y2 domain\"},{\"line\":{\"color\":\"black\",\"dash\":\"dash\",\"width\":3},\"type\":\"line\",\"x0\":0.5,\"x1\":0.5,\"xref\":\"x3\",\"y0\":0,\"y1\":1,\"yref\":\"y3 domain\"}],\"title\":{\"text\":\"distracted vs on-task(48,94\"},\"autosize\":true,\"width\":1600,\"height\":800},                        {\"responsive\": true}                    ).then(function(){\n",
       "                            \n",
       "var gd = document.getElementById('62af69fc-9bee-477a-a3bf-7b3a996f2493');\n",
       "var x = new MutationObserver(function (mutations, observer) {{\n",
       "        var display = window.getComputedStyle(gd).display;\n",
       "        if (!display || display === 'none') {{\n",
       "            console.log([gd, 'removed!']);\n",
       "            Plotly.purge(gd);\n",
       "            observer.disconnect();\n",
       "        }}\n",
       "}});\n",
       "\n",
       "// Listen for the removal of the full notebook cells\n",
       "var notebookContainer = gd.closest('#notebook-container');\n",
       "if (notebookContainer) {{\n",
       "    x.observe(notebookContainer, {childList: true});\n",
       "}}\n",
       "\n",
       "// Listen for the clearing of the current output cell\n",
       "var outputEl = gd.closest('.output');\n",
       "if (outputEl) {{\n",
       "    x.observe(outputEl, {childList: true});\n",
       "}}\n",
       "\n",
       "                        })                };                });            </script>        </div>"
      ]
     },
     "metadata": {},
     "output_type": "display_data"
    },
    {
     "data": {
      "application/vnd.plotly.v1+json": {
       "config": {
        "plotlyServerURL": "https://plot.ly"
       },
       "data": [
        {
         "hovertemplate": "balance=unbalance<br>significant=p > 0.05<br>distracted>about-task                  distracted<about-task=%{x}<br>markers=%{y}<extra></extra>",
         "legendgroup": "unbalance, p > 0.05",
         "marker": {
          "color": "#DE237B",
          "size": 8,
          "symbol": "circle-open"
         },
         "mode": "markers",
         "name": "unbalance, p > 0.05",
         "orientation": "h",
         "showlegend": true,
         "type": "scatter",
         "x": [
          0.39786585365853666,
          0.3983739837398374,
          0.41996951219512196,
          0.43597560975609756,
          0.4364837398373984,
          0.44308943089430897,
          0.44918699186991873,
          0.4496951219512196,
          0.46036585365853666,
          0.4639227642276422,
          0.4654471544715447,
          0.4672256097560976,
          0.46849593495934966,
          0.47078252032520324,
          0.4725609756097561,
          0.47306910569105687,
          0.4730691056910569,
          0.4776422764227642,
          0.47789634146341464,
          0.47840447154471544,
          0.48119918699187,
          0.4832317073170732,
          0.48856707317073167,
          0.49212398373983746,
          0.49390243902439024,
          0.4961890243902439,
          0.4966971544715447,
          0.49872967479674796,
          0.5022865853658537,
          0.5035569105691057,
          0.504319105691057,
          0.505589430894309,
          0.5077489837398375,
          0.5104166666666667,
          0.5165142276422764,
          0.5223577235772359,
          0.5266768292682927,
          0.528709349593496,
          0.5332825203252033,
          0.5442073170731707,
          0.5457317073170732,
          0.5497967479674797,
          0.5505589430894309,
          0.5508130081300814,
          0.5515752032520326,
          0.5533536585365854,
          0.5622459349593496,
          0.5655487804878049,
          0.5734247967479674,
          0.5813008130081302,
          0.5835873983739837,
          0.59375
         ],
         "xaxis": "x",
         "y": [
          "$\\alpha_{std}$",
          "$wSMI\\theta_{std}$",
          "$P3a_{std}$",
          "$CNV_{mean}$",
          "$PE\\gamma_{std}$",
          "$|\\alpha|_{std}$",
          "$PE\\beta_{std}$",
          "$wSMI\\alpha_{mean}$",
          "$|\\alpha|_{mean}$",
          "$|\\delta|_{std}$",
          "$wSMI\\gamma_{mean}$",
          "$P3a_{mean}$",
          "$\\gamma_{std}$",
          "$PE\\gamma_{mean}$",
          "$CNV_{std}$",
          "$wSMI\\theta_{mean}$",
          "$P1_{mean}$",
          "$|\\beta|_{std}$",
          "$|\\beta|_{mean}$",
          "$P3b_{std}$",
          "$|\\delta|_{mean}$",
          "$wSMI\\gamma_{std}$",
          "$MSF_{std}$",
          "$SE_{std}$",
          "$PE\\theta_{mean}$",
          "$\\alpha_{mean}$",
          "$SEF95_{std}$",
          "$\\beta_{mean}$",
          "$K_{std}$",
          "$PE\\alpha_{mean}$",
          "$\\delta_{mean}$",
          "$wSMI\\alpha_{std}$",
          "$MSF_{mean}$",
          "$SEF90_{std}$",
          "$K_{mean}$",
          "$PE\\alpha_{std}$",
          "$|\\gamma|_{std}$",
          "$P1_{std}$",
          "$wSMI\\beta_{mean}$",
          "$\\theta_{mean}$",
          "$\\delta_{std}$",
          "$\\beta_{std}$",
          "$|\\theta|_{mean}$",
          "$PE\\beta_{mean}$",
          "$\\gamma_{mean}$",
          "$SE_{mean}$",
          "$\\theta_{std}$",
          "$|\\gamma|_{mean}$",
          "$wSMI\\beta_{std}$",
          "$SEF95_{mean}$",
          "$SEF90_{mean}$",
          "$P3b_{mean}$"
         ],
         "yaxis": "y"
        },
        {
         "hovertemplate": "balance=unbalance<br>significant=p < 0.05 uncorrected<br>distracted>about-task                  distracted<about-task=%{x}<br>markers=%{y}<extra></extra>",
         "legendgroup": "unbalance, p < 0.05 uncorrected",
         "marker": {
          "color": "#DE237B",
          "size": 8,
          "symbol": "circle"
         },
         "mode": "markers",
         "name": "unbalance, p < 0.05 uncorrected",
         "orientation": "h",
         "showlegend": true,
         "type": "scatter",
         "x": [
          0.3955792682926829,
          0.6112804878048781
         ],
         "xaxis": "x",
         "y": [
          "$PE\\theta_{std}$",
          "$|\\theta|_{std}$"
         ],
         "yaxis": "y"
        },
        {
         "hovertemplate": "balance=under-sample<br>significant=p > 0.05<br>distracted>about-task                  distracted<about-task=%{x}<br>markers=%{y}<extra></extra>",
         "legendgroup": "under-sample, p > 0.05",
         "marker": {
          "color": "#9AC529",
          "size": 8,
          "symbol": "circle-open"
         },
         "mode": "markers",
         "name": "under-sample, p > 0.05",
         "orientation": "h",
         "showlegend": true,
         "type": "scatter",
         "x": [
          0.4197048611111111,
          0.4283854166666667,
          0.4327256944444444,
          0.4353298611111111,
          0.4379340277777778,
          0.44921874999999994,
          0.45138888888888884,
          0.45138888888888884,
          0.4535590277777778,
          0.45529513888888884,
          0.4609375,
          0.4635416666666667,
          0.46657986111111105,
          0.4691840277777778,
          0.4735243055555556,
          0.4769965277777778,
          0.4809027777777778,
          0.4852430555555556,
          0.4856770833333333,
          0.4861111111111111,
          0.4878472222222222,
          0.4908854166666667,
          0.4952256944444445,
          0.5032552083333334,
          0.5073784722222223,
          0.5125868055555555,
          0.5125868055555556,
          0.517795138888889,
          0.5199652777777778,
          0.5208333333333333,
          0.5221354166666667,
          0.5230034722222223,
          0.5238715277777777,
          0.5297309027777778,
          0.5338541666666666,
          0.5338541666666667,
          0.5390625,
          0.5399305555555556,
          0.546875,
          0.5477430555555556,
          0.549045138888889,
          0.5520833333333333,
          0.5529513888888888,
          0.5555555555555555,
          0.5655381944444444,
          0.5685763888888888,
          0.5685763888888888,
          0.572048611111111,
          0.5763888888888888,
          0.5872395833333334,
          0.587673611111111,
          0.5976562499999999,
          0.61328125
         ],
         "xaxis": "x2",
         "y": [
          "$PE\\theta_{std}$",
          "$P3a_{std}$",
          "$CNV_{mean}$",
          "$PE\\beta_{std}$",
          "$wSMI\\theta_{std}$",
          "$\\alpha_{std}$",
          "$P3a_{mean}$",
          "$SEF95_{std}$",
          "$PE\\gamma_{mean}$",
          "$|\\delta|_{mean}$",
          "$PE\\gamma_{std}$",
          "$wSMI\\gamma_{mean}$",
          "$\\gamma_{std}$",
          "$wSMI\\theta_{mean}$",
          "$|\\delta|_{std}$",
          "$SE_{std}$",
          "$CNV_{std}$",
          "$MSF_{std}$",
          "$|\\beta|_{std}$",
          "$|\\beta|_{mean}$",
          "$SEF90_{std}$",
          "$wSMI\\gamma_{std}$",
          "$P1_{mean}$",
          "$K_{std}$",
          "$|\\alpha|_{mean}$",
          "$|\\alpha|_{std}$",
          "$PE\\alpha_{std}$",
          "$|\\theta|_{mean}$",
          "$|\\gamma|_{std}$",
          "$PE\\alpha_{mean}$",
          "$PE\\beta_{mean}$",
          "$\\delta_{std}$",
          "$wSMI\\alpha_{mean}$",
          "$K_{mean}$",
          "$MSF_{mean}$",
          "$P3b_{std}$",
          "$\\delta_{mean}$",
          "$PE\\theta_{mean}$",
          "$\\alpha_{mean}$",
          "$|\\gamma|_{mean}$",
          "$wSMI\\beta_{std}$",
          "$\\beta_{mean}$",
          "$P1_{std}$",
          "$wSMI\\alpha_{std}$",
          "$SE_{mean}$",
          "$\\theta_{std}$",
          "$SEF95_{mean}$",
          "$SEF90_{mean}$",
          "$\\gamma_{mean}$",
          "$\\theta_{mean}$",
          "$\\beta_{std}$",
          "$wSMI\\beta_{mean}$",
          "$|\\theta|_{std}$"
         ],
         "yaxis": "y2"
        },
        {
         "hovertemplate": "balance=under-sample<br>significant=p < 0.05 uncorrected<br>distracted>about-task                  distracted<about-task=%{x}<br>markers=%{y}<extra></extra>",
         "legendgroup": "under-sample, p < 0.05 uncorrected",
         "marker": {
          "color": "#9AC529",
          "size": 8,
          "symbol": "circle"
         },
         "mode": "markers",
         "name": "under-sample, p < 0.05 uncorrected",
         "orientation": "h",
         "showlegend": true,
         "type": "scatter",
         "x": [
          0.63671875
         ],
         "xaxis": "x2",
         "y": [
          "$P3b_{mean}$"
         ],
         "yaxis": "y2"
        },
        {
         "hovertemplate": "balance=over-sample<br>significant=p > 0.05<br>distracted>about-task                  distracted<about-task=%{x}<br>markers=%{y}<extra></extra>",
         "legendgroup": "over-sample, p > 0.05",
         "marker": {
          "color": "#F38A31",
          "size": 8,
          "symbol": "circle-open"
         },
         "mode": "markers",
         "name": "over-sample, p > 0.05",
         "orientation": "h",
         "showlegend": true,
         "type": "scatter",
         "x": [
          0.43322427126710294,
          0.4388756692444973,
          0.4406603212373587,
          0.44066032123735877,
          0.44393218322427125,
          0.4442296252230815,
          0.44735276621058895,
          0.44943486020226053,
          0.44988102320047596,
          0.4515169541939322,
          0.45627602617489593,
          0.456424747174301,
          0.4601427721594289,
          0.46014277215942895,
          0.46341463414634143,
          0.46356335514574665,
          0.4729327781082689,
          0.47471743010113027,
          0.47486615110053537,
          0.483343248066627,
          0.483343248066627,
          0.48401249256395,
          0.48468173706127304,
          0.4861689470553242,
          0.4896638905413444,
          0.4906305770374777,
          0.4913741820345033,
          0.4995538370017847,
          0.5012641284949435,
          0.5078822129684712,
          0.5081796549672815,
          0.5092207019631172,
          0.5118976799524093,
          0.5132361689470554,
          0.5190362879238549,
          0.5221594289113622,
          0.5229030339083878,
          0.5324211778703154,
          0.5352468768590125,
          0.5356930398572278,
          0.5380725758477096,
          0.5386674598453302,
          0.5472932778108269,
          0.5508625817965498,
          0.5524985127900061,
          0.5574063057703748,
          0.5599345627602618,
          0.5688578227245686,
          0.5810529446757882
         ],
         "xaxis": "x3",
         "y": [
          "$P1_{mean}$",
          "$PE\\gamma_{std}$",
          "$PE\\beta_{std}$",
          "$|\\alpha|_{std}$",
          "$P3a_{mean}$",
          "$PE\\gamma_{mean}$",
          "$\\gamma_{std}$",
          "$CNV_{std}$",
          "$CNV_{mean}$",
          "$P3b_{std}$",
          "$wSMI\\gamma_{mean}$",
          "$P3a_{std}$",
          "$MSF_{std}$",
          "$wSMI\\gamma_{std}$",
          "$SE_{std}$",
          "$wSMI\\alpha_{mean}$",
          "$|\\alpha|_{mean}$",
          "$|\\delta|_{std}$",
          "$|\\delta|_{mean}$",
          "$|\\beta|_{mean}$",
          "$SEF95_{std}$",
          "$K_{mean}$",
          "$|\\gamma|_{std}$",
          "$PE\\alpha_{mean}$",
          "$wSMI\\theta_{mean}$",
          "$SEF90_{std}$",
          "$|\\beta|_{std}$",
          "$wSMI\\alpha_{std}$",
          "$MSF_{mean}$",
          "$PE\\theta_{mean}$",
          "$K_{std}$",
          "$\\alpha_{mean}$",
          "$\\delta_{mean}$",
          "$PE\\beta_{mean}$",
          "$\\beta_{mean}$",
          "$wSMI\\beta_{mean}$",
          "$PE\\alpha_{std}$",
          "$|\\gamma|_{mean}$",
          "$\\beta_{std}$",
          "$\\delta_{std}$",
          "$SE_{mean}$",
          "$P1_{std}$",
          "$\\gamma_{mean}$",
          "$\\theta_{std}$",
          "$SEF95_{mean}$",
          "$SEF90_{mean}$",
          "$wSMI\\beta_{std}$",
          "$|\\theta|_{mean}$",
          "$\\theta_{mean}$"
         ],
         "yaxis": "y3"
        },
        {
         "hovertemplate": "balance=over-sample<br>significant=p < 0.05 uncorrected<br>distracted>about-task                  distracted<about-task=%{x}<br>markers=%{y}<extra></extra>",
         "legendgroup": "over-sample, p < 0.05 uncorrected",
         "marker": {
          "color": "#F38A31",
          "size": 8,
          "symbol": "circle"
         },
         "mode": "markers",
         "name": "over-sample, p < 0.05 uncorrected",
         "orientation": "h",
         "showlegend": true,
         "type": "scatter",
         "x": [
          0.38057703747769184,
          0.40258774538964903,
          0.4039262343842951,
          0.5953301606186794,
          0.6081201665675193
         ],
         "xaxis": "x3",
         "y": [
          "$wSMI\\theta_{std}$",
          "$PE\\theta_{std}$",
          "$\\alpha_{std}$",
          "$P3b_{mean}$",
          "$|\\theta|_{std}$"
         ],
         "yaxis": "y3"
        }
       ],
       "layout": {
        "annotations": [
         {
          "showarrow": false,
          "text": "balance=unbalance",
          "x": 0.15999999999999998,
          "xanchor": "center",
          "xref": "paper",
          "y": 1,
          "yanchor": "bottom",
          "yref": "paper"
         },
         {
          "showarrow": false,
          "text": "balance=under-sample",
          "x": 0.49999999999999994,
          "xanchor": "center",
          "xref": "paper",
          "y": 1,
          "yanchor": "bottom",
          "yref": "paper"
         },
         {
          "showarrow": false,
          "text": "balance=over-sample",
          "x": 0.8399999999999999,
          "xanchor": "center",
          "xref": "paper",
          "y": 1,
          "yanchor": "bottom",
          "yref": "paper"
         }
        ],
        "autosize": true,
        "height": 800,
        "legend": {
         "title": {
          "text": "balance, significant"
         },
         "tracegroupgap": 0
        },
        "margin": {
         "t": 60
        },
        "shapes": [
         {
          "line": {
           "color": "black",
           "dash": "dash",
           "width": 3
          },
          "type": "line",
          "x0": 0.5,
          "x1": 0.5,
          "xref": "x",
          "y0": 0,
          "y1": 1,
          "yref": "y domain"
         },
         {
          "line": {
           "color": "black",
           "dash": "dash",
           "width": 3
          },
          "type": "line",
          "x0": 0.5,
          "x1": 0.5,
          "xref": "x2",
          "y0": 0,
          "y1": 1,
          "yref": "y2 domain"
         },
         {
          "line": {
           "color": "black",
           "dash": "dash",
           "width": 3
          },
          "type": "line",
          "x0": 0.5,
          "x1": 0.5,
          "xref": "x3",
          "y0": 0,
          "y1": 1,
          "yref": "y3 domain"
         }
        ],
        "template": {
         "data": {
          "bar": [
           {
            "error_x": {
             "color": "#2a3f5f"
            },
            "error_y": {
             "color": "#2a3f5f"
            },
            "marker": {
             "line": {
              "color": "white",
              "width": 0.5
             },
             "pattern": {
              "fillmode": "overlay",
              "size": 10,
              "solidity": 0.2
             }
            },
            "type": "bar"
           }
          ],
          "barpolar": [
           {
            "marker": {
             "line": {
              "color": "white",
              "width": 0.5
             },
             "pattern": {
              "fillmode": "overlay",
              "size": 10,
              "solidity": 0.2
             }
            },
            "type": "barpolar"
           }
          ],
          "carpet": [
           {
            "aaxis": {
             "endlinecolor": "#2a3f5f",
             "gridcolor": "#C8D4E3",
             "linecolor": "#C8D4E3",
             "minorgridcolor": "#C8D4E3",
             "startlinecolor": "#2a3f5f"
            },
            "baxis": {
             "endlinecolor": "#2a3f5f",
             "gridcolor": "#C8D4E3",
             "linecolor": "#C8D4E3",
             "minorgridcolor": "#C8D4E3",
             "startlinecolor": "#2a3f5f"
            },
            "type": "carpet"
           }
          ],
          "choropleth": [
           {
            "colorbar": {
             "outlinewidth": 0,
             "ticks": ""
            },
            "type": "choropleth"
           }
          ],
          "contour": [
           {
            "colorbar": {
             "outlinewidth": 0,
             "ticks": ""
            },
            "colorscale": [
             [
              0,
              "#0d0887"
             ],
             [
              0.1111111111111111,
              "#46039f"
             ],
             [
              0.2222222222222222,
              "#7201a8"
             ],
             [
              0.3333333333333333,
              "#9c179e"
             ],
             [
              0.4444444444444444,
              "#bd3786"
             ],
             [
              0.5555555555555556,
              "#d8576b"
             ],
             [
              0.6666666666666666,
              "#ed7953"
             ],
             [
              0.7777777777777778,
              "#fb9f3a"
             ],
             [
              0.8888888888888888,
              "#fdca26"
             ],
             [
              1,
              "#f0f921"
             ]
            ],
            "type": "contour"
           }
          ],
          "contourcarpet": [
           {
            "colorbar": {
             "outlinewidth": 0,
             "ticks": ""
            },
            "type": "contourcarpet"
           }
          ],
          "heatmap": [
           {
            "colorbar": {
             "outlinewidth": 0,
             "ticks": ""
            },
            "colorscale": [
             [
              0,
              "#0d0887"
             ],
             [
              0.1111111111111111,
              "#46039f"
             ],
             [
              0.2222222222222222,
              "#7201a8"
             ],
             [
              0.3333333333333333,
              "#9c179e"
             ],
             [
              0.4444444444444444,
              "#bd3786"
             ],
             [
              0.5555555555555556,
              "#d8576b"
             ],
             [
              0.6666666666666666,
              "#ed7953"
             ],
             [
              0.7777777777777778,
              "#fb9f3a"
             ],
             [
              0.8888888888888888,
              "#fdca26"
             ],
             [
              1,
              "#f0f921"
             ]
            ],
            "type": "heatmap"
           }
          ],
          "heatmapgl": [
           {
            "colorbar": {
             "outlinewidth": 0,
             "ticks": ""
            },
            "colorscale": [
             [
              0,
              "#0d0887"
             ],
             [
              0.1111111111111111,
              "#46039f"
             ],
             [
              0.2222222222222222,
              "#7201a8"
             ],
             [
              0.3333333333333333,
              "#9c179e"
             ],
             [
              0.4444444444444444,
              "#bd3786"
             ],
             [
              0.5555555555555556,
              "#d8576b"
             ],
             [
              0.6666666666666666,
              "#ed7953"
             ],
             [
              0.7777777777777778,
              "#fb9f3a"
             ],
             [
              0.8888888888888888,
              "#fdca26"
             ],
             [
              1,
              "#f0f921"
             ]
            ],
            "type": "heatmapgl"
           }
          ],
          "histogram": [
           {
            "marker": {
             "pattern": {
              "fillmode": "overlay",
              "size": 10,
              "solidity": 0.2
             }
            },
            "type": "histogram"
           }
          ],
          "histogram2d": [
           {
            "colorbar": {
             "outlinewidth": 0,
             "ticks": ""
            },
            "colorscale": [
             [
              0,
              "#0d0887"
             ],
             [
              0.1111111111111111,
              "#46039f"
             ],
             [
              0.2222222222222222,
              "#7201a8"
             ],
             [
              0.3333333333333333,
              "#9c179e"
             ],
             [
              0.4444444444444444,
              "#bd3786"
             ],
             [
              0.5555555555555556,
              "#d8576b"
             ],
             [
              0.6666666666666666,
              "#ed7953"
             ],
             [
              0.7777777777777778,
              "#fb9f3a"
             ],
             [
              0.8888888888888888,
              "#fdca26"
             ],
             [
              1,
              "#f0f921"
             ]
            ],
            "type": "histogram2d"
           }
          ],
          "histogram2dcontour": [
           {
            "colorbar": {
             "outlinewidth": 0,
             "ticks": ""
            },
            "colorscale": [
             [
              0,
              "#0d0887"
             ],
             [
              0.1111111111111111,
              "#46039f"
             ],
             [
              0.2222222222222222,
              "#7201a8"
             ],
             [
              0.3333333333333333,
              "#9c179e"
             ],
             [
              0.4444444444444444,
              "#bd3786"
             ],
             [
              0.5555555555555556,
              "#d8576b"
             ],
             [
              0.6666666666666666,
              "#ed7953"
             ],
             [
              0.7777777777777778,
              "#fb9f3a"
             ],
             [
              0.8888888888888888,
              "#fdca26"
             ],
             [
              1,
              "#f0f921"
             ]
            ],
            "type": "histogram2dcontour"
           }
          ],
          "mesh3d": [
           {
            "colorbar": {
             "outlinewidth": 0,
             "ticks": ""
            },
            "type": "mesh3d"
           }
          ],
          "parcoords": [
           {
            "line": {
             "colorbar": {
              "outlinewidth": 0,
              "ticks": ""
             }
            },
            "type": "parcoords"
           }
          ],
          "pie": [
           {
            "automargin": true,
            "type": "pie"
           }
          ],
          "scatter": [
           {
            "fillpattern": {
             "fillmode": "overlay",
             "size": 10,
             "solidity": 0.2
            },
            "type": "scatter"
           }
          ],
          "scatter3d": [
           {
            "line": {
             "colorbar": {
              "outlinewidth": 0,
              "ticks": ""
             }
            },
            "marker": {
             "colorbar": {
              "outlinewidth": 0,
              "ticks": ""
             }
            },
            "type": "scatter3d"
           }
          ],
          "scattercarpet": [
           {
            "marker": {
             "colorbar": {
              "outlinewidth": 0,
              "ticks": ""
             }
            },
            "type": "scattercarpet"
           }
          ],
          "scattergeo": [
           {
            "marker": {
             "colorbar": {
              "outlinewidth": 0,
              "ticks": ""
             }
            },
            "type": "scattergeo"
           }
          ],
          "scattergl": [
           {
            "marker": {
             "colorbar": {
              "outlinewidth": 0,
              "ticks": ""
             }
            },
            "type": "scattergl"
           }
          ],
          "scattermapbox": [
           {
            "marker": {
             "colorbar": {
              "outlinewidth": 0,
              "ticks": ""
             }
            },
            "type": "scattermapbox"
           }
          ],
          "scatterpolar": [
           {
            "marker": {
             "colorbar": {
              "outlinewidth": 0,
              "ticks": ""
             }
            },
            "type": "scatterpolar"
           }
          ],
          "scatterpolargl": [
           {
            "marker": {
             "colorbar": {
              "outlinewidth": 0,
              "ticks": ""
             }
            },
            "type": "scatterpolargl"
           }
          ],
          "scatterternary": [
           {
            "marker": {
             "colorbar": {
              "outlinewidth": 0,
              "ticks": ""
             }
            },
            "type": "scatterternary"
           }
          ],
          "surface": [
           {
            "colorbar": {
             "outlinewidth": 0,
             "ticks": ""
            },
            "colorscale": [
             [
              0,
              "#0d0887"
             ],
             [
              0.1111111111111111,
              "#46039f"
             ],
             [
              0.2222222222222222,
              "#7201a8"
             ],
             [
              0.3333333333333333,
              "#9c179e"
             ],
             [
              0.4444444444444444,
              "#bd3786"
             ],
             [
              0.5555555555555556,
              "#d8576b"
             ],
             [
              0.6666666666666666,
              "#ed7953"
             ],
             [
              0.7777777777777778,
              "#fb9f3a"
             ],
             [
              0.8888888888888888,
              "#fdca26"
             ],
             [
              1,
              "#f0f921"
             ]
            ],
            "type": "surface"
           }
          ],
          "table": [
           {
            "cells": {
             "fill": {
              "color": "#EBF0F8"
             },
             "line": {
              "color": "white"
             }
            },
            "header": {
             "fill": {
              "color": "#C8D4E3"
             },
             "line": {
              "color": "white"
             }
            },
            "type": "table"
           }
          ]
         },
         "layout": {
          "annotationdefaults": {
           "arrowcolor": "#2a3f5f",
           "arrowhead": 0,
           "arrowwidth": 1
          },
          "autotypenumbers": "strict",
          "coloraxis": {
           "colorbar": {
            "outlinewidth": 0,
            "ticks": ""
           }
          },
          "colorscale": {
           "diverging": [
            [
             0,
             "#8e0152"
            ],
            [
             0.1,
             "#c51b7d"
            ],
            [
             0.2,
             "#de77ae"
            ],
            [
             0.3,
             "#f1b6da"
            ],
            [
             0.4,
             "#fde0ef"
            ],
            [
             0.5,
             "#f7f7f7"
            ],
            [
             0.6,
             "#e6f5d0"
            ],
            [
             0.7,
             "#b8e186"
            ],
            [
             0.8,
             "#7fbc41"
            ],
            [
             0.9,
             "#4d9221"
            ],
            [
             1,
             "#276419"
            ]
           ],
           "sequential": [
            [
             0,
             "#0d0887"
            ],
            [
             0.1111111111111111,
             "#46039f"
            ],
            [
             0.2222222222222222,
             "#7201a8"
            ],
            [
             0.3333333333333333,
             "#9c179e"
            ],
            [
             0.4444444444444444,
             "#bd3786"
            ],
            [
             0.5555555555555556,
             "#d8576b"
            ],
            [
             0.6666666666666666,
             "#ed7953"
            ],
            [
             0.7777777777777778,
             "#fb9f3a"
            ],
            [
             0.8888888888888888,
             "#fdca26"
            ],
            [
             1,
             "#f0f921"
            ]
           ],
           "sequentialminus": [
            [
             0,
             "#0d0887"
            ],
            [
             0.1111111111111111,
             "#46039f"
            ],
            [
             0.2222222222222222,
             "#7201a8"
            ],
            [
             0.3333333333333333,
             "#9c179e"
            ],
            [
             0.4444444444444444,
             "#bd3786"
            ],
            [
             0.5555555555555556,
             "#d8576b"
            ],
            [
             0.6666666666666666,
             "#ed7953"
            ],
            [
             0.7777777777777778,
             "#fb9f3a"
            ],
            [
             0.8888888888888888,
             "#fdca26"
            ],
            [
             1,
             "#f0f921"
            ]
           ]
          },
          "colorway": [
           "#636efa",
           "#EF553B",
           "#00cc96",
           "#ab63fa",
           "#FFA15A",
           "#19d3f3",
           "#FF6692",
           "#B6E880",
           "#FF97FF",
           "#FECB52"
          ],
          "font": {
           "color": "#2a3f5f"
          },
          "geo": {
           "bgcolor": "white",
           "lakecolor": "white",
           "landcolor": "white",
           "showlakes": true,
           "showland": true,
           "subunitcolor": "#C8D4E3"
          },
          "hoverlabel": {
           "align": "left"
          },
          "hovermode": "closest",
          "mapbox": {
           "style": "light"
          },
          "paper_bgcolor": "white",
          "plot_bgcolor": "white",
          "polar": {
           "angularaxis": {
            "gridcolor": "#EBF0F8",
            "linecolor": "#EBF0F8",
            "ticks": ""
           },
           "bgcolor": "white",
           "radialaxis": {
            "gridcolor": "#EBF0F8",
            "linecolor": "#EBF0F8",
            "ticks": ""
           }
          },
          "scene": {
           "xaxis": {
            "backgroundcolor": "white",
            "gridcolor": "#DFE8F3",
            "gridwidth": 2,
            "linecolor": "#EBF0F8",
            "showbackground": true,
            "ticks": "",
            "zerolinecolor": "#EBF0F8"
           },
           "yaxis": {
            "backgroundcolor": "white",
            "gridcolor": "#DFE8F3",
            "gridwidth": 2,
            "linecolor": "#EBF0F8",
            "showbackground": true,
            "ticks": "",
            "zerolinecolor": "#EBF0F8"
           },
           "zaxis": {
            "backgroundcolor": "white",
            "gridcolor": "#DFE8F3",
            "gridwidth": 2,
            "linecolor": "#EBF0F8",
            "showbackground": true,
            "ticks": "",
            "zerolinecolor": "#EBF0F8"
           }
          },
          "shapedefaults": {
           "line": {
            "color": "#2a3f5f"
           }
          },
          "ternary": {
           "aaxis": {
            "gridcolor": "#DFE8F3",
            "linecolor": "#A2B1C6",
            "ticks": ""
           },
           "baxis": {
            "gridcolor": "#DFE8F3",
            "linecolor": "#A2B1C6",
            "ticks": ""
           },
           "bgcolor": "white",
           "caxis": {
            "gridcolor": "#DFE8F3",
            "linecolor": "#A2B1C6",
            "ticks": ""
           }
          },
          "title": {
           "x": 0.05
          },
          "xaxis": {
           "automargin": true,
           "gridcolor": "#EBF0F8",
           "linecolor": "#EBF0F8",
           "ticks": "",
           "title": {
            "standoff": 15
           },
           "zerolinecolor": "#EBF0F8",
           "zerolinewidth": 2
          },
          "yaxis": {
           "automargin": true,
           "gridcolor": "#EBF0F8",
           "linecolor": "#EBF0F8",
           "ticks": "",
           "title": {
            "standoff": 15
           },
           "zerolinecolor": "#EBF0F8",
           "zerolinewidth": 2
          }
         }
        },
        "title": {
         "text": "distracted vs about-task(48,82"
        },
        "width": 1600,
        "xaxis": {
         "anchor": "y",
         "domain": [
          0,
          0.31999999999999995
         ],
         "title": {
          "text": "distracted>about-task                  distracted<about-task"
         }
        },
        "xaxis2": {
         "anchor": "y2",
         "domain": [
          0.33999999999999997,
          0.6599999999999999
         ],
         "matches": "x",
         "title": {
          "text": "distracted>about-task                  distracted<about-task"
         }
        },
        "xaxis3": {
         "anchor": "y3",
         "domain": [
          0.6799999999999999,
          0.9999999999999999
         ],
         "matches": "x",
         "title": {
          "text": "distracted>about-task                  distracted<about-task"
         }
        },
        "yaxis": {
         "anchor": "x",
         "domain": [
          0,
          1
         ],
         "showticklabels": true,
         "tickmode": "linear",
         "title": {
          "text": "markers"
         }
        },
        "yaxis2": {
         "anchor": "x2",
         "domain": [
          0,
          1
         ],
         "matches": "y",
         "showticklabels": false
        },
        "yaxis3": {
         "anchor": "x3",
         "domain": [
          0,
          1
         ],
         "matches": "y",
         "showticklabels": false
        }
       }
      },
      "text/html": [
       "<div>                            <div id=\"8a3b871f-e1bf-4389-b647-ac1aa3887b57\" class=\"plotly-graph-div\" style=\"height:800px; width:1600px;\"></div>            <script type=\"text/javascript\">                require([\"plotly\"], function(Plotly) {                    window.PLOTLYENV=window.PLOTLYENV || {};                                    if (document.getElementById(\"8a3b871f-e1bf-4389-b647-ac1aa3887b57\")) {                    Plotly.newPlot(                        \"8a3b871f-e1bf-4389-b647-ac1aa3887b57\",                        [{\"hovertemplate\":\"balance=unbalance<br>significant=p > 0.05<br>distracted>about-task                  distracted<about-task=%{x}<br>markers=%{y}<extra></extra>\",\"legendgroup\":\"unbalance, p > 0.05\",\"marker\":{\"color\":\"#DE237B\",\"symbol\":\"circle-open\",\"size\":8},\"mode\":\"markers\",\"name\":\"unbalance, p > 0.05\",\"orientation\":\"h\",\"showlegend\":true,\"x\":[0.39786585365853666,0.3983739837398374,0.41996951219512196,0.43597560975609756,0.4364837398373984,0.44308943089430897,0.44918699186991873,0.4496951219512196,0.46036585365853666,0.4639227642276422,0.4654471544715447,0.4672256097560976,0.46849593495934966,0.47078252032520324,0.4725609756097561,0.47306910569105687,0.4730691056910569,0.4776422764227642,0.47789634146341464,0.47840447154471544,0.48119918699187,0.4832317073170732,0.48856707317073167,0.49212398373983746,0.49390243902439024,0.4961890243902439,0.4966971544715447,0.49872967479674796,0.5022865853658537,0.5035569105691057,0.504319105691057,0.505589430894309,0.5077489837398375,0.5104166666666667,0.5165142276422764,0.5223577235772359,0.5266768292682927,0.528709349593496,0.5332825203252033,0.5442073170731707,0.5457317073170732,0.5497967479674797,0.5505589430894309,0.5508130081300814,0.5515752032520326,0.5533536585365854,0.5622459349593496,0.5655487804878049,0.5734247967479674,0.5813008130081302,0.5835873983739837,0.59375],\"xaxis\":\"x\",\"y\":[\"$\\\\alpha_{std}$\",\"$wSMI\\\\theta_{std}$\",\"$P3a_{std}$\",\"$CNV_{mean}$\",\"$PE\\\\gamma_{std}$\",\"$|\\\\alpha|_{std}$\",\"$PE\\\\beta_{std}$\",\"$wSMI\\\\alpha_{mean}$\",\"$|\\\\alpha|_{mean}$\",\"$|\\\\delta|_{std}$\",\"$wSMI\\\\gamma_{mean}$\",\"$P3a_{mean}$\",\"$\\\\gamma_{std}$\",\"$PE\\\\gamma_{mean}$\",\"$CNV_{std}$\",\"$wSMI\\\\theta_{mean}$\",\"$P1_{mean}$\",\"$|\\\\beta|_{std}$\",\"$|\\\\beta|_{mean}$\",\"$P3b_{std}$\",\"$|\\\\delta|_{mean}$\",\"$wSMI\\\\gamma_{std}$\",\"$MSF_{std}$\",\"$SE_{std}$\",\"$PE\\\\theta_{mean}$\",\"$\\\\alpha_{mean}$\",\"$SEF95_{std}$\",\"$\\\\beta_{mean}$\",\"$K_{std}$\",\"$PE\\\\alpha_{mean}$\",\"$\\\\delta_{mean}$\",\"$wSMI\\\\alpha_{std}$\",\"$MSF_{mean}$\",\"$SEF90_{std}$\",\"$K_{mean}$\",\"$PE\\\\alpha_{std}$\",\"$|\\\\gamma|_{std}$\",\"$P1_{std}$\",\"$wSMI\\\\beta_{mean}$\",\"$\\\\theta_{mean}$\",\"$\\\\delta_{std}$\",\"$\\\\beta_{std}$\",\"$|\\\\theta|_{mean}$\",\"$PE\\\\beta_{mean}$\",\"$\\\\gamma_{mean}$\",\"$SE_{mean}$\",\"$\\\\theta_{std}$\",\"$|\\\\gamma|_{mean}$\",\"$wSMI\\\\beta_{std}$\",\"$SEF95_{mean}$\",\"$SEF90_{mean}$\",\"$P3b_{mean}$\"],\"yaxis\":\"y\",\"type\":\"scatter\"},{\"hovertemplate\":\"balance=unbalance<br>significant=p < 0.05 uncorrected<br>distracted>about-task                  distracted<about-task=%{x}<br>markers=%{y}<extra></extra>\",\"legendgroup\":\"unbalance, p < 0.05 uncorrected\",\"marker\":{\"color\":\"#DE237B\",\"symbol\":\"circle\",\"size\":8},\"mode\":\"markers\",\"name\":\"unbalance, p < 0.05 uncorrected\",\"orientation\":\"h\",\"showlegend\":true,\"x\":[0.3955792682926829,0.6112804878048781],\"xaxis\":\"x\",\"y\":[\"$PE\\\\theta_{std}$\",\"$|\\\\theta|_{std}$\"],\"yaxis\":\"y\",\"type\":\"scatter\"},{\"hovertemplate\":\"balance=under-sample<br>significant=p > 0.05<br>distracted>about-task                  distracted<about-task=%{x}<br>markers=%{y}<extra></extra>\",\"legendgroup\":\"under-sample, p > 0.05\",\"marker\":{\"color\":\"#9AC529\",\"symbol\":\"circle-open\",\"size\":8},\"mode\":\"markers\",\"name\":\"under-sample, p > 0.05\",\"orientation\":\"h\",\"showlegend\":true,\"x\":[0.4197048611111111,0.4283854166666667,0.4327256944444444,0.4353298611111111,0.4379340277777778,0.44921874999999994,0.45138888888888884,0.45138888888888884,0.4535590277777778,0.45529513888888884,0.4609375,0.4635416666666667,0.46657986111111105,0.4691840277777778,0.4735243055555556,0.4769965277777778,0.4809027777777778,0.4852430555555556,0.4856770833333333,0.4861111111111111,0.4878472222222222,0.4908854166666667,0.4952256944444445,0.5032552083333334,0.5073784722222223,0.5125868055555555,0.5125868055555556,0.517795138888889,0.5199652777777778,0.5208333333333333,0.5221354166666667,0.5230034722222223,0.5238715277777777,0.5297309027777778,0.5338541666666666,0.5338541666666667,0.5390625,0.5399305555555556,0.546875,0.5477430555555556,0.549045138888889,0.5520833333333333,0.5529513888888888,0.5555555555555555,0.5655381944444444,0.5685763888888888,0.5685763888888888,0.572048611111111,0.5763888888888888,0.5872395833333334,0.587673611111111,0.5976562499999999,0.61328125],\"xaxis\":\"x2\",\"y\":[\"$PE\\\\theta_{std}$\",\"$P3a_{std}$\",\"$CNV_{mean}$\",\"$PE\\\\beta_{std}$\",\"$wSMI\\\\theta_{std}$\",\"$\\\\alpha_{std}$\",\"$P3a_{mean}$\",\"$SEF95_{std}$\",\"$PE\\\\gamma_{mean}$\",\"$|\\\\delta|_{mean}$\",\"$PE\\\\gamma_{std}$\",\"$wSMI\\\\gamma_{mean}$\",\"$\\\\gamma_{std}$\",\"$wSMI\\\\theta_{mean}$\",\"$|\\\\delta|_{std}$\",\"$SE_{std}$\",\"$CNV_{std}$\",\"$MSF_{std}$\",\"$|\\\\beta|_{std}$\",\"$|\\\\beta|_{mean}$\",\"$SEF90_{std}$\",\"$wSMI\\\\gamma_{std}$\",\"$P1_{mean}$\",\"$K_{std}$\",\"$|\\\\alpha|_{mean}$\",\"$|\\\\alpha|_{std}$\",\"$PE\\\\alpha_{std}$\",\"$|\\\\theta|_{mean}$\",\"$|\\\\gamma|_{std}$\",\"$PE\\\\alpha_{mean}$\",\"$PE\\\\beta_{mean}$\",\"$\\\\delta_{std}$\",\"$wSMI\\\\alpha_{mean}$\",\"$K_{mean}$\",\"$MSF_{mean}$\",\"$P3b_{std}$\",\"$\\\\delta_{mean}$\",\"$PE\\\\theta_{mean}$\",\"$\\\\alpha_{mean}$\",\"$|\\\\gamma|_{mean}$\",\"$wSMI\\\\beta_{std}$\",\"$\\\\beta_{mean}$\",\"$P1_{std}$\",\"$wSMI\\\\alpha_{std}$\",\"$SE_{mean}$\",\"$\\\\theta_{std}$\",\"$SEF95_{mean}$\",\"$SEF90_{mean}$\",\"$\\\\gamma_{mean}$\",\"$\\\\theta_{mean}$\",\"$\\\\beta_{std}$\",\"$wSMI\\\\beta_{mean}$\",\"$|\\\\theta|_{std}$\"],\"yaxis\":\"y2\",\"type\":\"scatter\"},{\"hovertemplate\":\"balance=under-sample<br>significant=p < 0.05 uncorrected<br>distracted>about-task                  distracted<about-task=%{x}<br>markers=%{y}<extra></extra>\",\"legendgroup\":\"under-sample, p < 0.05 uncorrected\",\"marker\":{\"color\":\"#9AC529\",\"symbol\":\"circle\",\"size\":8},\"mode\":\"markers\",\"name\":\"under-sample, p < 0.05 uncorrected\",\"orientation\":\"h\",\"showlegend\":true,\"x\":[0.63671875],\"xaxis\":\"x2\",\"y\":[\"$P3b_{mean}$\"],\"yaxis\":\"y2\",\"type\":\"scatter\"},{\"hovertemplate\":\"balance=over-sample<br>significant=p > 0.05<br>distracted>about-task                  distracted<about-task=%{x}<br>markers=%{y}<extra></extra>\",\"legendgroup\":\"over-sample, p > 0.05\",\"marker\":{\"color\":\"#F38A31\",\"symbol\":\"circle-open\",\"size\":8},\"mode\":\"markers\",\"name\":\"over-sample, p > 0.05\",\"orientation\":\"h\",\"showlegend\":true,\"x\":[0.43322427126710294,0.4388756692444973,0.4406603212373587,0.44066032123735877,0.44393218322427125,0.4442296252230815,0.44735276621058895,0.44943486020226053,0.44988102320047596,0.4515169541939322,0.45627602617489593,0.456424747174301,0.4601427721594289,0.46014277215942895,0.46341463414634143,0.46356335514574665,0.4729327781082689,0.47471743010113027,0.47486615110053537,0.483343248066627,0.483343248066627,0.48401249256395,0.48468173706127304,0.4861689470553242,0.4896638905413444,0.4906305770374777,0.4913741820345033,0.4995538370017847,0.5012641284949435,0.5078822129684712,0.5081796549672815,0.5092207019631172,0.5118976799524093,0.5132361689470554,0.5190362879238549,0.5221594289113622,0.5229030339083878,0.5324211778703154,0.5352468768590125,0.5356930398572278,0.5380725758477096,0.5386674598453302,0.5472932778108269,0.5508625817965498,0.5524985127900061,0.5574063057703748,0.5599345627602618,0.5688578227245686,0.5810529446757882],\"xaxis\":\"x3\",\"y\":[\"$P1_{mean}$\",\"$PE\\\\gamma_{std}$\",\"$PE\\\\beta_{std}$\",\"$|\\\\alpha|_{std}$\",\"$P3a_{mean}$\",\"$PE\\\\gamma_{mean}$\",\"$\\\\gamma_{std}$\",\"$CNV_{std}$\",\"$CNV_{mean}$\",\"$P3b_{std}$\",\"$wSMI\\\\gamma_{mean}$\",\"$P3a_{std}$\",\"$MSF_{std}$\",\"$wSMI\\\\gamma_{std}$\",\"$SE_{std}$\",\"$wSMI\\\\alpha_{mean}$\",\"$|\\\\alpha|_{mean}$\",\"$|\\\\delta|_{std}$\",\"$|\\\\delta|_{mean}$\",\"$|\\\\beta|_{mean}$\",\"$SEF95_{std}$\",\"$K_{mean}$\",\"$|\\\\gamma|_{std}$\",\"$PE\\\\alpha_{mean}$\",\"$wSMI\\\\theta_{mean}$\",\"$SEF90_{std}$\",\"$|\\\\beta|_{std}$\",\"$wSMI\\\\alpha_{std}$\",\"$MSF_{mean}$\",\"$PE\\\\theta_{mean}$\",\"$K_{std}$\",\"$\\\\alpha_{mean}$\",\"$\\\\delta_{mean}$\",\"$PE\\\\beta_{mean}$\",\"$\\\\beta_{mean}$\",\"$wSMI\\\\beta_{mean}$\",\"$PE\\\\alpha_{std}$\",\"$|\\\\gamma|_{mean}$\",\"$\\\\beta_{std}$\",\"$\\\\delta_{std}$\",\"$SE_{mean}$\",\"$P1_{std}$\",\"$\\\\gamma_{mean}$\",\"$\\\\theta_{std}$\",\"$SEF95_{mean}$\",\"$SEF90_{mean}$\",\"$wSMI\\\\beta_{std}$\",\"$|\\\\theta|_{mean}$\",\"$\\\\theta_{mean}$\"],\"yaxis\":\"y3\",\"type\":\"scatter\"},{\"hovertemplate\":\"balance=over-sample<br>significant=p < 0.05 uncorrected<br>distracted>about-task                  distracted<about-task=%{x}<br>markers=%{y}<extra></extra>\",\"legendgroup\":\"over-sample, p < 0.05 uncorrected\",\"marker\":{\"color\":\"#F38A31\",\"symbol\":\"circle\",\"size\":8},\"mode\":\"markers\",\"name\":\"over-sample, p < 0.05 uncorrected\",\"orientation\":\"h\",\"showlegend\":true,\"x\":[0.38057703747769184,0.40258774538964903,0.4039262343842951,0.5953301606186794,0.6081201665675193],\"xaxis\":\"x3\",\"y\":[\"$wSMI\\\\theta_{std}$\",\"$PE\\\\theta_{std}$\",\"$\\\\alpha_{std}$\",\"$P3b_{mean}$\",\"$|\\\\theta|_{std}$\"],\"yaxis\":\"y3\",\"type\":\"scatter\"}],                        {\"template\":{\"data\":{\"barpolar\":[{\"marker\":{\"line\":{\"color\":\"white\",\"width\":0.5},\"pattern\":{\"fillmode\":\"overlay\",\"size\":10,\"solidity\":0.2}},\"type\":\"barpolar\"}],\"bar\":[{\"error_x\":{\"color\":\"#2a3f5f\"},\"error_y\":{\"color\":\"#2a3f5f\"},\"marker\":{\"line\":{\"color\":\"white\",\"width\":0.5},\"pattern\":{\"fillmode\":\"overlay\",\"size\":10,\"solidity\":0.2}},\"type\":\"bar\"}],\"carpet\":[{\"aaxis\":{\"endlinecolor\":\"#2a3f5f\",\"gridcolor\":\"#C8D4E3\",\"linecolor\":\"#C8D4E3\",\"minorgridcolor\":\"#C8D4E3\",\"startlinecolor\":\"#2a3f5f\"},\"baxis\":{\"endlinecolor\":\"#2a3f5f\",\"gridcolor\":\"#C8D4E3\",\"linecolor\":\"#C8D4E3\",\"minorgridcolor\":\"#C8D4E3\",\"startlinecolor\":\"#2a3f5f\"},\"type\":\"carpet\"}],\"choropleth\":[{\"colorbar\":{\"outlinewidth\":0,\"ticks\":\"\"},\"type\":\"choropleth\"}],\"contourcarpet\":[{\"colorbar\":{\"outlinewidth\":0,\"ticks\":\"\"},\"type\":\"contourcarpet\"}],\"contour\":[{\"colorbar\":{\"outlinewidth\":0,\"ticks\":\"\"},\"colorscale\":[[0.0,\"#0d0887\"],[0.1111111111111111,\"#46039f\"],[0.2222222222222222,\"#7201a8\"],[0.3333333333333333,\"#9c179e\"],[0.4444444444444444,\"#bd3786\"],[0.5555555555555556,\"#d8576b\"],[0.6666666666666666,\"#ed7953\"],[0.7777777777777778,\"#fb9f3a\"],[0.8888888888888888,\"#fdca26\"],[1.0,\"#f0f921\"]],\"type\":\"contour\"}],\"heatmapgl\":[{\"colorbar\":{\"outlinewidth\":0,\"ticks\":\"\"},\"colorscale\":[[0.0,\"#0d0887\"],[0.1111111111111111,\"#46039f\"],[0.2222222222222222,\"#7201a8\"],[0.3333333333333333,\"#9c179e\"],[0.4444444444444444,\"#bd3786\"],[0.5555555555555556,\"#d8576b\"],[0.6666666666666666,\"#ed7953\"],[0.7777777777777778,\"#fb9f3a\"],[0.8888888888888888,\"#fdca26\"],[1.0,\"#f0f921\"]],\"type\":\"heatmapgl\"}],\"heatmap\":[{\"colorbar\":{\"outlinewidth\":0,\"ticks\":\"\"},\"colorscale\":[[0.0,\"#0d0887\"],[0.1111111111111111,\"#46039f\"],[0.2222222222222222,\"#7201a8\"],[0.3333333333333333,\"#9c179e\"],[0.4444444444444444,\"#bd3786\"],[0.5555555555555556,\"#d8576b\"],[0.6666666666666666,\"#ed7953\"],[0.7777777777777778,\"#fb9f3a\"],[0.8888888888888888,\"#fdca26\"],[1.0,\"#f0f921\"]],\"type\":\"heatmap\"}],\"histogram2dcontour\":[{\"colorbar\":{\"outlinewidth\":0,\"ticks\":\"\"},\"colorscale\":[[0.0,\"#0d0887\"],[0.1111111111111111,\"#46039f\"],[0.2222222222222222,\"#7201a8\"],[0.3333333333333333,\"#9c179e\"],[0.4444444444444444,\"#bd3786\"],[0.5555555555555556,\"#d8576b\"],[0.6666666666666666,\"#ed7953\"],[0.7777777777777778,\"#fb9f3a\"],[0.8888888888888888,\"#fdca26\"],[1.0,\"#f0f921\"]],\"type\":\"histogram2dcontour\"}],\"histogram2d\":[{\"colorbar\":{\"outlinewidth\":0,\"ticks\":\"\"},\"colorscale\":[[0.0,\"#0d0887\"],[0.1111111111111111,\"#46039f\"],[0.2222222222222222,\"#7201a8\"],[0.3333333333333333,\"#9c179e\"],[0.4444444444444444,\"#bd3786\"],[0.5555555555555556,\"#d8576b\"],[0.6666666666666666,\"#ed7953\"],[0.7777777777777778,\"#fb9f3a\"],[0.8888888888888888,\"#fdca26\"],[1.0,\"#f0f921\"]],\"type\":\"histogram2d\"}],\"histogram\":[{\"marker\":{\"pattern\":{\"fillmode\":\"overlay\",\"size\":10,\"solidity\":0.2}},\"type\":\"histogram\"}],\"mesh3d\":[{\"colorbar\":{\"outlinewidth\":0,\"ticks\":\"\"},\"type\":\"mesh3d\"}],\"parcoords\":[{\"line\":{\"colorbar\":{\"outlinewidth\":0,\"ticks\":\"\"}},\"type\":\"parcoords\"}],\"pie\":[{\"automargin\":true,\"type\":\"pie\"}],\"scatter3d\":[{\"line\":{\"colorbar\":{\"outlinewidth\":0,\"ticks\":\"\"}},\"marker\":{\"colorbar\":{\"outlinewidth\":0,\"ticks\":\"\"}},\"type\":\"scatter3d\"}],\"scattercarpet\":[{\"marker\":{\"colorbar\":{\"outlinewidth\":0,\"ticks\":\"\"}},\"type\":\"scattercarpet\"}],\"scattergeo\":[{\"marker\":{\"colorbar\":{\"outlinewidth\":0,\"ticks\":\"\"}},\"type\":\"scattergeo\"}],\"scattergl\":[{\"marker\":{\"colorbar\":{\"outlinewidth\":0,\"ticks\":\"\"}},\"type\":\"scattergl\"}],\"scattermapbox\":[{\"marker\":{\"colorbar\":{\"outlinewidth\":0,\"ticks\":\"\"}},\"type\":\"scattermapbox\"}],\"scatterpolargl\":[{\"marker\":{\"colorbar\":{\"outlinewidth\":0,\"ticks\":\"\"}},\"type\":\"scatterpolargl\"}],\"scatterpolar\":[{\"marker\":{\"colorbar\":{\"outlinewidth\":0,\"ticks\":\"\"}},\"type\":\"scatterpolar\"}],\"scatter\":[{\"fillpattern\":{\"fillmode\":\"overlay\",\"size\":10,\"solidity\":0.2},\"type\":\"scatter\"}],\"scatterternary\":[{\"marker\":{\"colorbar\":{\"outlinewidth\":0,\"ticks\":\"\"}},\"type\":\"scatterternary\"}],\"surface\":[{\"colorbar\":{\"outlinewidth\":0,\"ticks\":\"\"},\"colorscale\":[[0.0,\"#0d0887\"],[0.1111111111111111,\"#46039f\"],[0.2222222222222222,\"#7201a8\"],[0.3333333333333333,\"#9c179e\"],[0.4444444444444444,\"#bd3786\"],[0.5555555555555556,\"#d8576b\"],[0.6666666666666666,\"#ed7953\"],[0.7777777777777778,\"#fb9f3a\"],[0.8888888888888888,\"#fdca26\"],[1.0,\"#f0f921\"]],\"type\":\"surface\"}],\"table\":[{\"cells\":{\"fill\":{\"color\":\"#EBF0F8\"},\"line\":{\"color\":\"white\"}},\"header\":{\"fill\":{\"color\":\"#C8D4E3\"},\"line\":{\"color\":\"white\"}},\"type\":\"table\"}]},\"layout\":{\"annotationdefaults\":{\"arrowcolor\":\"#2a3f5f\",\"arrowhead\":0,\"arrowwidth\":1},\"autotypenumbers\":\"strict\",\"coloraxis\":{\"colorbar\":{\"outlinewidth\":0,\"ticks\":\"\"}},\"colorscale\":{\"diverging\":[[0,\"#8e0152\"],[0.1,\"#c51b7d\"],[0.2,\"#de77ae\"],[0.3,\"#f1b6da\"],[0.4,\"#fde0ef\"],[0.5,\"#f7f7f7\"],[0.6,\"#e6f5d0\"],[0.7,\"#b8e186\"],[0.8,\"#7fbc41\"],[0.9,\"#4d9221\"],[1,\"#276419\"]],\"sequential\":[[0.0,\"#0d0887\"],[0.1111111111111111,\"#46039f\"],[0.2222222222222222,\"#7201a8\"],[0.3333333333333333,\"#9c179e\"],[0.4444444444444444,\"#bd3786\"],[0.5555555555555556,\"#d8576b\"],[0.6666666666666666,\"#ed7953\"],[0.7777777777777778,\"#fb9f3a\"],[0.8888888888888888,\"#fdca26\"],[1.0,\"#f0f921\"]],\"sequentialminus\":[[0.0,\"#0d0887\"],[0.1111111111111111,\"#46039f\"],[0.2222222222222222,\"#7201a8\"],[0.3333333333333333,\"#9c179e\"],[0.4444444444444444,\"#bd3786\"],[0.5555555555555556,\"#d8576b\"],[0.6666666666666666,\"#ed7953\"],[0.7777777777777778,\"#fb9f3a\"],[0.8888888888888888,\"#fdca26\"],[1.0,\"#f0f921\"]]},\"colorway\":[\"#636efa\",\"#EF553B\",\"#00cc96\",\"#ab63fa\",\"#FFA15A\",\"#19d3f3\",\"#FF6692\",\"#B6E880\",\"#FF97FF\",\"#FECB52\"],\"font\":{\"color\":\"#2a3f5f\"},\"geo\":{\"bgcolor\":\"white\",\"lakecolor\":\"white\",\"landcolor\":\"white\",\"showlakes\":true,\"showland\":true,\"subunitcolor\":\"#C8D4E3\"},\"hoverlabel\":{\"align\":\"left\"},\"hovermode\":\"closest\",\"mapbox\":{\"style\":\"light\"},\"paper_bgcolor\":\"white\",\"plot_bgcolor\":\"white\",\"polar\":{\"angularaxis\":{\"gridcolor\":\"#EBF0F8\",\"linecolor\":\"#EBF0F8\",\"ticks\":\"\"},\"bgcolor\":\"white\",\"radialaxis\":{\"gridcolor\":\"#EBF0F8\",\"linecolor\":\"#EBF0F8\",\"ticks\":\"\"}},\"scene\":{\"xaxis\":{\"backgroundcolor\":\"white\",\"gridcolor\":\"#DFE8F3\",\"gridwidth\":2,\"linecolor\":\"#EBF0F8\",\"showbackground\":true,\"ticks\":\"\",\"zerolinecolor\":\"#EBF0F8\"},\"yaxis\":{\"backgroundcolor\":\"white\",\"gridcolor\":\"#DFE8F3\",\"gridwidth\":2,\"linecolor\":\"#EBF0F8\",\"showbackground\":true,\"ticks\":\"\",\"zerolinecolor\":\"#EBF0F8\"},\"zaxis\":{\"backgroundcolor\":\"white\",\"gridcolor\":\"#DFE8F3\",\"gridwidth\":2,\"linecolor\":\"#EBF0F8\",\"showbackground\":true,\"ticks\":\"\",\"zerolinecolor\":\"#EBF0F8\"}},\"shapedefaults\":{\"line\":{\"color\":\"#2a3f5f\"}},\"ternary\":{\"aaxis\":{\"gridcolor\":\"#DFE8F3\",\"linecolor\":\"#A2B1C6\",\"ticks\":\"\"},\"baxis\":{\"gridcolor\":\"#DFE8F3\",\"linecolor\":\"#A2B1C6\",\"ticks\":\"\"},\"bgcolor\":\"white\",\"caxis\":{\"gridcolor\":\"#DFE8F3\",\"linecolor\":\"#A2B1C6\",\"ticks\":\"\"}},\"title\":{\"x\":0.05},\"xaxis\":{\"automargin\":true,\"gridcolor\":\"#EBF0F8\",\"linecolor\":\"#EBF0F8\",\"ticks\":\"\",\"title\":{\"standoff\":15},\"zerolinecolor\":\"#EBF0F8\",\"zerolinewidth\":2},\"yaxis\":{\"automargin\":true,\"gridcolor\":\"#EBF0F8\",\"linecolor\":\"#EBF0F8\",\"ticks\":\"\",\"title\":{\"standoff\":15},\"zerolinecolor\":\"#EBF0F8\",\"zerolinewidth\":2}}},\"xaxis\":{\"anchor\":\"y\",\"domain\":[0.0,0.31999999999999995],\"title\":{\"text\":\"distracted>about-task                  distracted<about-task\"}},\"yaxis\":{\"anchor\":\"x\",\"domain\":[0.0,1.0],\"title\":{\"text\":\"markers\"},\"showticklabels\":true,\"tickmode\":\"linear\"},\"xaxis2\":{\"anchor\":\"y2\",\"domain\":[0.33999999999999997,0.6599999999999999],\"matches\":\"x\",\"title\":{\"text\":\"distracted>about-task                  distracted<about-task\"}},\"yaxis2\":{\"anchor\":\"x2\",\"domain\":[0.0,1.0],\"matches\":\"y\",\"showticklabels\":false},\"xaxis3\":{\"anchor\":\"y3\",\"domain\":[0.6799999999999999,0.9999999999999999],\"matches\":\"x\",\"title\":{\"text\":\"distracted>about-task                  distracted<about-task\"}},\"yaxis3\":{\"anchor\":\"x3\",\"domain\":[0.0,1.0],\"matches\":\"y\",\"showticklabels\":false},\"annotations\":[{\"showarrow\":false,\"text\":\"balance=unbalance\",\"x\":0.15999999999999998,\"xanchor\":\"center\",\"xref\":\"paper\",\"y\":1.0,\"yanchor\":\"bottom\",\"yref\":\"paper\"},{\"showarrow\":false,\"text\":\"balance=under-sample\",\"x\":0.49999999999999994,\"xanchor\":\"center\",\"xref\":\"paper\",\"y\":1.0,\"yanchor\":\"bottom\",\"yref\":\"paper\"},{\"showarrow\":false,\"text\":\"balance=over-sample\",\"x\":0.8399999999999999,\"xanchor\":\"center\",\"xref\":\"paper\",\"y\":1.0,\"yanchor\":\"bottom\",\"yref\":\"paper\"}],\"legend\":{\"title\":{\"text\":\"balance, significant\"},\"tracegroupgap\":0},\"margin\":{\"t\":60},\"shapes\":[{\"line\":{\"color\":\"black\",\"dash\":\"dash\",\"width\":3},\"type\":\"line\",\"x0\":0.5,\"x1\":0.5,\"xref\":\"x\",\"y0\":0,\"y1\":1,\"yref\":\"y domain\"},{\"line\":{\"color\":\"black\",\"dash\":\"dash\",\"width\":3},\"type\":\"line\",\"x0\":0.5,\"x1\":0.5,\"xref\":\"x2\",\"y0\":0,\"y1\":1,\"yref\":\"y2 domain\"},{\"line\":{\"color\":\"black\",\"dash\":\"dash\",\"width\":3},\"type\":\"line\",\"x0\":0.5,\"x1\":0.5,\"xref\":\"x3\",\"y0\":0,\"y1\":1,\"yref\":\"y3 domain\"}],\"title\":{\"text\":\"distracted vs about-task(48,82\"},\"autosize\":true,\"width\":1600,\"height\":800},                        {\"responsive\": true}                    ).then(function(){\n",
       "                            \n",
       "var gd = document.getElementById('8a3b871f-e1bf-4389-b647-ac1aa3887b57');\n",
       "var x = new MutationObserver(function (mutations, observer) {{\n",
       "        var display = window.getComputedStyle(gd).display;\n",
       "        if (!display || display === 'none') {{\n",
       "            console.log([gd, 'removed!']);\n",
       "            Plotly.purge(gd);\n",
       "            observer.disconnect();\n",
       "        }}\n",
       "}});\n",
       "\n",
       "// Listen for the removal of the full notebook cells\n",
       "var notebookContainer = gd.closest('#notebook-container');\n",
       "if (notebookContainer) {{\n",
       "    x.observe(notebookContainer, {childList: true});\n",
       "}}\n",
       "\n",
       "// Listen for the clearing of the current output cell\n",
       "var outputEl = gd.closest('.output');\n",
       "if (outputEl) {{\n",
       "    x.observe(outputEl, {childList: true});\n",
       "}}\n",
       "\n",
       "                        })                };                });            </script>        </div>"
      ]
     },
     "metadata": {},
     "output_type": "display_data"
    },
    {
     "data": {
      "application/vnd.plotly.v1+json": {
       "config": {
        "plotlyServerURL": "https://plot.ly"
       },
       "data": [
        {
         "hovertemplate": "balance=unbalance<br>significant=p > 0.05<br>dMW>on-task                  dMW<on-task=%{x}<br>markers=%{y}<extra></extra>",
         "legendgroup": "unbalance, p > 0.05",
         "marker": {
          "color": "#DE237B",
          "size": 8,
          "symbol": "circle-open"
         },
         "mode": "markers",
         "name": "unbalance, p > 0.05",
         "orientation": "h",
         "showlegend": true,
         "type": "scatter",
         "x": [
          0.4056192034915439,
          0.4058919803600655,
          0.4132569558101473,
          0.4301691216584833,
          0.4345335515548282,
          0.43971631205673756,
          0.45962902345881074,
          0.46099290780141844,
          0.469721767594108,
          0.4735406437534097,
          0.47435897435897434,
          0.4746317512274959,
          0.4800872885979269,
          0.483633387888707,
          0.4849972722313148,
          0.4863611565739226,
          0.492089470812875,
          0.4953627932351336,
          0.49563557010365517,
          0.5008183306055646,
          0.503000545553737,
          0.5035460992907801,
          0.5046372067648663,
          0.5065466448445172,
          0.5095471903982541,
          0.5136388434260775,
          0.513911620294599,
          0.5155482815057283,
          0.5158210583742499,
          0.5182760501909438,
          0.5240043644298963,
          0.5256410256410255,
          0.5275504637206765,
          0.5310965630114566,
          0.5310965630114567,
          0.5330060010911075,
          0.533278777959629,
          0.5340971085651937,
          0.5351882160392798,
          0.5354609929078014,
          0.5425531914893617,
          0.5428259683578832,
          0.5561920349154391,
          0.5561920349154392,
          0.5621931260229133,
          0.5698308783415167,
          0.5711947626841243,
          0.5758319694489907,
          0.5984724495362793
         ],
         "xaxis": "x",
         "y": [
          "$wSMI\\beta_{std}$",
          "$|\\beta|_{mean}$",
          "$PE\\alpha_{mean}$",
          "$P1_{std}$",
          "$\\beta_{mean}$",
          "$\\delta_{std}$",
          "$SE_{mean}$",
          "$P3b_{std}$",
          "$P3a_{std}$",
          "$|\\delta|_{std}$",
          "$MSF_{mean}$",
          "$|\\delta|_{mean}$",
          "$K_{mean}$",
          "$\\gamma_{mean}$",
          "$wSMI\\theta_{std}$",
          "$\\alpha_{mean}$",
          "$\\theta_{mean}$",
          "$CNV_{mean}$",
          "$wSMI\\gamma_{mean}$",
          "$SEF90_{mean}$",
          "$|\\beta|_{std}$",
          "$\\beta_{std}$",
          "$|\\alpha|_{mean}$",
          "$\\delta_{mean}$",
          "$MSF_{std}$",
          "$PE\\theta_{std}$",
          "$PE\\beta_{mean}$",
          "$PE\\alpha_{std}$",
          "$SEF95_{mean}$",
          "$P3a_{mean}$",
          "$wSMI\\gamma_{std}$",
          "$PE\\theta_{mean}$",
          "$wSMI\\beta_{mean}$",
          "$SEF95_{std}$",
          "$\\alpha_{std}$",
          "$PE\\gamma_{mean}$",
          "$|\\gamma|_{std}$",
          "$SE_{std}$",
          "$|\\alpha|_{std}$",
          "$|\\gamma|_{mean}$",
          "$\\gamma_{std}$",
          "$P1_{mean}$",
          "$SEF90_{std}$",
          "$wSMI\\alpha_{std}$",
          "$|\\theta|_{mean}$",
          "$\\theta_{std}$",
          "$wSMI\\alpha_{mean}$",
          "$wSMI\\theta_{mean}$",
          "$P3b_{mean}$"
         ],
         "yaxis": "y"
        },
        {
         "hovertemplate": "balance=unbalance<br>significant=p < 0.05 uncorrected<br>dMW>on-task                  dMW<on-task=%{x}<br>markers=%{y}<extra></extra>",
         "legendgroup": "unbalance, p < 0.05 uncorrected",
         "marker": {
          "color": "#DE237B",
          "size": 8,
          "symbol": "circle"
         },
         "mode": "markers",
         "name": "unbalance, p < 0.05 uncorrected",
         "orientation": "h",
         "showlegend": true,
         "type": "scatter",
         "x": [
          0.35815602836879434,
          0.6110201854882706,
          0.6151118385160936,
          0.6230223677032188,
          0.6262956901254774
         ],
         "xaxis": "x",
         "y": [
          "$CNV_{std}$",
          "$PE\\beta_{std}$",
          "$K_{std}$",
          "$PE\\gamma_{std}$",
          "$|\\theta|_{std}$"
         ],
         "yaxis": "y"
        },
        {
         "hovertemplate": "balance=under-sample<br>significant=p > 0.05<br>dMW>on-task                  dMW<on-task=%{x}<br>markers=%{y}<extra></extra>",
         "legendgroup": "under-sample, p > 0.05",
         "marker": {
          "color": "#9AC529",
          "size": 8,
          "symbol": "circle-open"
         },
         "mode": "markers",
         "name": "under-sample, p > 0.05",
         "orientation": "h",
         "showlegend": true,
         "type": "scatter",
         "x": [
          0.3773833004602235,
          0.40236686390532544,
          0.42340565417488496,
          0.443129520052597,
          0.44773175542406307,
          0.4516765285996055,
          0.45167652859960555,
          0.4523339907955293,
          0.45299145299145305,
          0.4536489151873767,
          0.45430637738330043,
          0.4582511505588429,
          0.46022353714661407,
          0.46745562130177515,
          0.46942800788954636,
          0.47863247863247854,
          0.49112426035502954,
          0.49243918474687703,
          0.4970414201183432,
          0.4983563445101906,
          0.5016436554898094,
          0.504930966469428,
          0.5075608152531229,
          0.5121630506245891,
          0.5180802103879026,
          0.5207100591715976,
          0.5266272189349112,
          0.5272846811308349,
          0.5279421433267587,
          0.5299145299145299,
          0.5312294543063774,
          0.5345167652859961,
          0.537146614069691,
          0.5427350427350427,
          0.5437212360289283,
          0.5529257067718606,
          0.5535831689677843,
          0.5555555555555555,
          0.5575279421433268,
          0.5673898750821827,
          0.5713346482577253,
          0.5726495726495726,
          0.5733070348454964,
          0.5798816568047337,
          0.5798816568047337,
          0.5844838921761999,
          0.5857988165680473,
          0.5877712031558185,
          0.5923734385272847,
          0.5963182117028271,
          0.598948060486522
         ],
         "xaxis": "x2",
         "y": [
          "$CNV_{std}$",
          "$P1_{std}$",
          "$wSMI\\beta_{std}$",
          "$|\\beta|_{mean}$",
          "$wSMI\\beta_{mean}$",
          "$wSMI\\theta_{std}$",
          "$PE\\alpha_{mean}$",
          "$|\\delta|_{mean}$",
          "$|\\delta|_{std}$",
          "$\\delta_{std}$",
          "$\\alpha_{std}$",
          "$\\beta_{std}$",
          "$|\\alpha|_{mean}$",
          "$\\alpha_{mean}$",
          "$P3b_{std}$",
          "$PE\\theta_{mean}$",
          "$|\\theta|_{mean}$",
          "$PE\\beta_{std}$",
          "$\\beta_{mean}$",
          "$wSMI\\alpha_{std}$",
          "$P3a_{std}$",
          "$\\theta_{mean}$",
          "$SE_{mean}$",
          "$PE\\alpha_{std}$",
          "$SEF95_{std}$",
          "$|\\beta|_{std}$",
          "$|\\alpha|_{std}$",
          "$\\delta_{mean}$",
          "$MSF_{mean}$",
          "$P1_{mean}$",
          "$\\theta_{std}$",
          "$P3a_{mean}$",
          "$wSMI\\gamma_{mean}$",
          "$K_{mean}$",
          "$PE\\gamma_{std}$",
          "$SEF90_{mean}$",
          "$MSF_{std}$",
          "$\\gamma_{mean}$",
          "$wSMI\\alpha_{mean}$",
          "$SEF90_{std}$",
          "$wSMI\\theta_{mean}$",
          "$PE\\theta_{std}$",
          "$SEF95_{mean}$",
          "$PE\\beta_{mean}$",
          "$SE_{std}$",
          "$\\gamma_{std}$",
          "$|\\gamma|_{mean}$",
          "$wSMI\\gamma_{std}$",
          "$PE\\gamma_{mean}$",
          "$CNV_{mean}$",
          "$|\\gamma|_{std}$"
         ],
         "yaxis": "y2"
        },
        {
         "hovertemplate": "balance=under-sample<br>significant=p < 0.05 uncorrected<br>dMW>on-task                  dMW<on-task=%{x}<br>markers=%{y}<extra></extra>",
         "legendgroup": "under-sample, p < 0.05 uncorrected",
         "marker": {
          "color": "#9AC529",
          "size": 8,
          "symbol": "circle"
         },
         "mode": "markers",
         "name": "under-sample, p < 0.05 uncorrected",
         "orientation": "h",
         "showlegend": true,
         "type": "scatter",
         "x": [
          0.6305062458908612,
          0.6383957922419461,
          0.6476002629848783
         ],
         "xaxis": "x2",
         "y": [
          "$K_{std}$",
          "$|\\theta|_{std}$",
          "$P3b_{mean}$"
         ],
         "yaxis": "y2"
        },
        {
         "hovertemplate": "balance=over-sample<br>significant=p > 0.05<br>dMW>on-task                  dMW<on-task=%{x}<br>markers=%{y}<extra></extra>",
         "legendgroup": "over-sample, p > 0.05",
         "marker": {
          "color": "#F38A31",
          "size": 8,
          "symbol": "circle-open"
         },
         "mode": "markers",
         "name": "over-sample, p > 0.05",
         "orientation": "h",
         "showlegend": true,
         "type": "scatter",
         "x": [
          0.4289271163422363,
          0.43073789044816657,
          0.43390674513354455,
          0.4360570393843368,
          0.44307378904481665,
          0.44975101856043453,
          0.4645767315527388,
          0.46480307831598006,
          0.4692168401991852,
          0.4738569488456315,
          0.4770258035310095,
          0.47985513807152563,
          0.4801946582163875,
          0.48189225894069715,
          0.48370303304662743,
          0.4846084200995926,
          0.485740153915799,
          0.4864191942055228,
          0.4906066093254867,
          0.49105930285196925,
          0.49434133091896787,
          0.5006790402897239,
          0.505092802172929,
          0.5065640561339974,
          0.5118832050701676,
          0.5151652331371661,
          0.5153915799004074,
          0.5157311000452695,
          0.5185604345857854,
          0.518673607967406,
          0.5289723856948846,
          0.5351969216840199,
          0.539610683567225,
          0.5402897238569488,
          0.5404028972385695,
          0.5469669533725667,
          0.5580579447713898,
          0.5593028519692169,
          0.5608872793119059,
          0.5651878678134903,
          0.5653010411951109,
          0.5675645088275237,
          0.5701674966047985,
          0.5789950203712086
         ],
         "xaxis": "x3",
         "y": [
          "$SE_{mean}$",
          "$wSMI\\beta_{std}$",
          "$MSF_{mean}$",
          "$P3a_{std}$",
          "$P3b_{std}$",
          "$P1_{std}$",
          "$\\alpha_{mean}$",
          "$\\gamma_{mean}$",
          "$K_{mean}$",
          "$CNV_{mean}$",
          "$SEF95_{std}$",
          "$\\delta_{std}$",
          "$|\\beta|_{std}$",
          "$wSMI\\theta_{std}$",
          "$PE\\theta_{mean}$",
          "$|\\alpha|_{mean}$",
          "$wSMI\\gamma_{mean}$",
          "$|\\gamma|_{std}$",
          "$SEF90_{mean}$",
          "$|\\delta|_{std}$",
          "$\\theta_{mean}$",
          "$\\gamma_{std}$",
          "$\\beta_{std}$",
          "$SEF90_{std}$",
          "$SEF95_{mean}$",
          "$P3a_{mean}$",
          "$wSMI\\gamma_{std}$",
          "$\\alpha_{std}$",
          "$|\\delta|_{mean}$",
          "$\\delta_{mean}$",
          "$wSMI\\beta_{mean}$",
          "$|\\gamma|_{mean}$",
          "$PE\\theta_{std}$",
          "$MSF_{std}$",
          "$wSMI\\alpha_{std}$",
          "$PE\\beta_{mean}$",
          "$SE_{std}$",
          "$PE\\gamma_{mean}$",
          "$P3b_{mean}$",
          "$P1_{mean}$",
          "$|\\alpha|_{std}$",
          "$PE\\alpha_{std}$",
          "$wSMI\\theta_{mean}$",
          "$wSMI\\alpha_{mean}$"
         ],
         "yaxis": "y3"
        },
        {
         "hovertemplate": "balance=over-sample<br>significant=p < 0.05 uncorrected<br>dMW>on-task                  dMW<on-task=%{x}<br>markers=%{y}<extra></extra>",
         "legendgroup": "over-sample, p < 0.05 uncorrected",
         "marker": {
          "color": "#F38A31",
          "size": 8,
          "symbol": "circle"
         },
         "mode": "markers",
         "name": "over-sample, p < 0.05 uncorrected",
         "orientation": "h",
         "showlegend": true,
         "type": "scatter",
         "x": [
          0.3804889090086012,
          0.38705296514259846,
          0.5830692621095519,
          0.5968764146672703,
          0.6090991398822997,
          0.6109099139882299
         ],
         "xaxis": "x3",
         "y": [
          "$PE\\alpha_{mean}$",
          "$\\beta_{mean}$",
          "$\\theta_{std}$",
          "$PE\\beta_{std}$",
          "$PE\\gamma_{std}$",
          "$|\\theta|_{mean}$"
         ],
         "yaxis": "y3"
        },
        {
         "hovertemplate": "balance=over-sample<br>significant=p < 0.05 FDR corrected<br>dMW>on-task                  dMW<on-task=%{x}<br>markers=%{y}<extra></extra>",
         "legendgroup": "over-sample, p < 0.05 FDR corrected",
         "marker": {
          "color": "#F38A31",
          "size": 8,
          "symbol": "hexagram"
         },
         "mode": "markers",
         "name": "over-sample, p < 0.05 FDR corrected",
         "orientation": "h",
         "showlegend": true,
         "type": "scatter",
         "x": [
          0.349479402444545,
          0.3740380262562245,
          0.6400520597555455,
          0.662856496152105
         ],
         "xaxis": "x3",
         "y": [
          "$|\\beta|_{mean}$",
          "$CNV_{std}$",
          "$K_{std}$",
          "$|\\theta|_{std}$"
         ],
         "yaxis": "y3"
        }
       ],
       "layout": {
        "annotations": [
         {
          "showarrow": false,
          "text": "balance=unbalance",
          "x": 0.15999999999999998,
          "xanchor": "center",
          "xref": "paper",
          "y": 1,
          "yanchor": "bottom",
          "yref": "paper"
         },
         {
          "showarrow": false,
          "text": "balance=under-sample",
          "x": 0.49999999999999994,
          "xanchor": "center",
          "xref": "paper",
          "y": 1,
          "yanchor": "bottom",
          "yref": "paper"
         },
         {
          "showarrow": false,
          "text": "balance=over-sample",
          "x": 0.8399999999999999,
          "xanchor": "center",
          "xref": "paper",
          "y": 1,
          "yanchor": "bottom",
          "yref": "paper"
         }
        ],
        "autosize": true,
        "height": 800,
        "legend": {
         "title": {
          "text": "balance, significant"
         },
         "tracegroupgap": 0
        },
        "margin": {
         "t": 60
        },
        "shapes": [
         {
          "line": {
           "color": "black",
           "dash": "dash",
           "width": 3
          },
          "type": "line",
          "x0": 0.5,
          "x1": 0.5,
          "xref": "x",
          "y0": 0,
          "y1": 1,
          "yref": "y domain"
         },
         {
          "line": {
           "color": "black",
           "dash": "dash",
           "width": 3
          },
          "type": "line",
          "x0": 0.5,
          "x1": 0.5,
          "xref": "x2",
          "y0": 0,
          "y1": 1,
          "yref": "y2 domain"
         },
         {
          "line": {
           "color": "black",
           "dash": "dash",
           "width": 3
          },
          "type": "line",
          "x0": 0.5,
          "x1": 0.5,
          "xref": "x3",
          "y0": 0,
          "y1": 1,
          "yref": "y3 domain"
         }
        ],
        "template": {
         "data": {
          "bar": [
           {
            "error_x": {
             "color": "#2a3f5f"
            },
            "error_y": {
             "color": "#2a3f5f"
            },
            "marker": {
             "line": {
              "color": "white",
              "width": 0.5
             },
             "pattern": {
              "fillmode": "overlay",
              "size": 10,
              "solidity": 0.2
             }
            },
            "type": "bar"
           }
          ],
          "barpolar": [
           {
            "marker": {
             "line": {
              "color": "white",
              "width": 0.5
             },
             "pattern": {
              "fillmode": "overlay",
              "size": 10,
              "solidity": 0.2
             }
            },
            "type": "barpolar"
           }
          ],
          "carpet": [
           {
            "aaxis": {
             "endlinecolor": "#2a3f5f",
             "gridcolor": "#C8D4E3",
             "linecolor": "#C8D4E3",
             "minorgridcolor": "#C8D4E3",
             "startlinecolor": "#2a3f5f"
            },
            "baxis": {
             "endlinecolor": "#2a3f5f",
             "gridcolor": "#C8D4E3",
             "linecolor": "#C8D4E3",
             "minorgridcolor": "#C8D4E3",
             "startlinecolor": "#2a3f5f"
            },
            "type": "carpet"
           }
          ],
          "choropleth": [
           {
            "colorbar": {
             "outlinewidth": 0,
             "ticks": ""
            },
            "type": "choropleth"
           }
          ],
          "contour": [
           {
            "colorbar": {
             "outlinewidth": 0,
             "ticks": ""
            },
            "colorscale": [
             [
              0,
              "#0d0887"
             ],
             [
              0.1111111111111111,
              "#46039f"
             ],
             [
              0.2222222222222222,
              "#7201a8"
             ],
             [
              0.3333333333333333,
              "#9c179e"
             ],
             [
              0.4444444444444444,
              "#bd3786"
             ],
             [
              0.5555555555555556,
              "#d8576b"
             ],
             [
              0.6666666666666666,
              "#ed7953"
             ],
             [
              0.7777777777777778,
              "#fb9f3a"
             ],
             [
              0.8888888888888888,
              "#fdca26"
             ],
             [
              1,
              "#f0f921"
             ]
            ],
            "type": "contour"
           }
          ],
          "contourcarpet": [
           {
            "colorbar": {
             "outlinewidth": 0,
             "ticks": ""
            },
            "type": "contourcarpet"
           }
          ],
          "heatmap": [
           {
            "colorbar": {
             "outlinewidth": 0,
             "ticks": ""
            },
            "colorscale": [
             [
              0,
              "#0d0887"
             ],
             [
              0.1111111111111111,
              "#46039f"
             ],
             [
              0.2222222222222222,
              "#7201a8"
             ],
             [
              0.3333333333333333,
              "#9c179e"
             ],
             [
              0.4444444444444444,
              "#bd3786"
             ],
             [
              0.5555555555555556,
              "#d8576b"
             ],
             [
              0.6666666666666666,
              "#ed7953"
             ],
             [
              0.7777777777777778,
              "#fb9f3a"
             ],
             [
              0.8888888888888888,
              "#fdca26"
             ],
             [
              1,
              "#f0f921"
             ]
            ],
            "type": "heatmap"
           }
          ],
          "heatmapgl": [
           {
            "colorbar": {
             "outlinewidth": 0,
             "ticks": ""
            },
            "colorscale": [
             [
              0,
              "#0d0887"
             ],
             [
              0.1111111111111111,
              "#46039f"
             ],
             [
              0.2222222222222222,
              "#7201a8"
             ],
             [
              0.3333333333333333,
              "#9c179e"
             ],
             [
              0.4444444444444444,
              "#bd3786"
             ],
             [
              0.5555555555555556,
              "#d8576b"
             ],
             [
              0.6666666666666666,
              "#ed7953"
             ],
             [
              0.7777777777777778,
              "#fb9f3a"
             ],
             [
              0.8888888888888888,
              "#fdca26"
             ],
             [
              1,
              "#f0f921"
             ]
            ],
            "type": "heatmapgl"
           }
          ],
          "histogram": [
           {
            "marker": {
             "pattern": {
              "fillmode": "overlay",
              "size": 10,
              "solidity": 0.2
             }
            },
            "type": "histogram"
           }
          ],
          "histogram2d": [
           {
            "colorbar": {
             "outlinewidth": 0,
             "ticks": ""
            },
            "colorscale": [
             [
              0,
              "#0d0887"
             ],
             [
              0.1111111111111111,
              "#46039f"
             ],
             [
              0.2222222222222222,
              "#7201a8"
             ],
             [
              0.3333333333333333,
              "#9c179e"
             ],
             [
              0.4444444444444444,
              "#bd3786"
             ],
             [
              0.5555555555555556,
              "#d8576b"
             ],
             [
              0.6666666666666666,
              "#ed7953"
             ],
             [
              0.7777777777777778,
              "#fb9f3a"
             ],
             [
              0.8888888888888888,
              "#fdca26"
             ],
             [
              1,
              "#f0f921"
             ]
            ],
            "type": "histogram2d"
           }
          ],
          "histogram2dcontour": [
           {
            "colorbar": {
             "outlinewidth": 0,
             "ticks": ""
            },
            "colorscale": [
             [
              0,
              "#0d0887"
             ],
             [
              0.1111111111111111,
              "#46039f"
             ],
             [
              0.2222222222222222,
              "#7201a8"
             ],
             [
              0.3333333333333333,
              "#9c179e"
             ],
             [
              0.4444444444444444,
              "#bd3786"
             ],
             [
              0.5555555555555556,
              "#d8576b"
             ],
             [
              0.6666666666666666,
              "#ed7953"
             ],
             [
              0.7777777777777778,
              "#fb9f3a"
             ],
             [
              0.8888888888888888,
              "#fdca26"
             ],
             [
              1,
              "#f0f921"
             ]
            ],
            "type": "histogram2dcontour"
           }
          ],
          "mesh3d": [
           {
            "colorbar": {
             "outlinewidth": 0,
             "ticks": ""
            },
            "type": "mesh3d"
           }
          ],
          "parcoords": [
           {
            "line": {
             "colorbar": {
              "outlinewidth": 0,
              "ticks": ""
             }
            },
            "type": "parcoords"
           }
          ],
          "pie": [
           {
            "automargin": true,
            "type": "pie"
           }
          ],
          "scatter": [
           {
            "fillpattern": {
             "fillmode": "overlay",
             "size": 10,
             "solidity": 0.2
            },
            "type": "scatter"
           }
          ],
          "scatter3d": [
           {
            "line": {
             "colorbar": {
              "outlinewidth": 0,
              "ticks": ""
             }
            },
            "marker": {
             "colorbar": {
              "outlinewidth": 0,
              "ticks": ""
             }
            },
            "type": "scatter3d"
           }
          ],
          "scattercarpet": [
           {
            "marker": {
             "colorbar": {
              "outlinewidth": 0,
              "ticks": ""
             }
            },
            "type": "scattercarpet"
           }
          ],
          "scattergeo": [
           {
            "marker": {
             "colorbar": {
              "outlinewidth": 0,
              "ticks": ""
             }
            },
            "type": "scattergeo"
           }
          ],
          "scattergl": [
           {
            "marker": {
             "colorbar": {
              "outlinewidth": 0,
              "ticks": ""
             }
            },
            "type": "scattergl"
           }
          ],
          "scattermapbox": [
           {
            "marker": {
             "colorbar": {
              "outlinewidth": 0,
              "ticks": ""
             }
            },
            "type": "scattermapbox"
           }
          ],
          "scatterpolar": [
           {
            "marker": {
             "colorbar": {
              "outlinewidth": 0,
              "ticks": ""
             }
            },
            "type": "scatterpolar"
           }
          ],
          "scatterpolargl": [
           {
            "marker": {
             "colorbar": {
              "outlinewidth": 0,
              "ticks": ""
             }
            },
            "type": "scatterpolargl"
           }
          ],
          "scatterternary": [
           {
            "marker": {
             "colorbar": {
              "outlinewidth": 0,
              "ticks": ""
             }
            },
            "type": "scatterternary"
           }
          ],
          "surface": [
           {
            "colorbar": {
             "outlinewidth": 0,
             "ticks": ""
            },
            "colorscale": [
             [
              0,
              "#0d0887"
             ],
             [
              0.1111111111111111,
              "#46039f"
             ],
             [
              0.2222222222222222,
              "#7201a8"
             ],
             [
              0.3333333333333333,
              "#9c179e"
             ],
             [
              0.4444444444444444,
              "#bd3786"
             ],
             [
              0.5555555555555556,
              "#d8576b"
             ],
             [
              0.6666666666666666,
              "#ed7953"
             ],
             [
              0.7777777777777778,
              "#fb9f3a"
             ],
             [
              0.8888888888888888,
              "#fdca26"
             ],
             [
              1,
              "#f0f921"
             ]
            ],
            "type": "surface"
           }
          ],
          "table": [
           {
            "cells": {
             "fill": {
              "color": "#EBF0F8"
             },
             "line": {
              "color": "white"
             }
            },
            "header": {
             "fill": {
              "color": "#C8D4E3"
             },
             "line": {
              "color": "white"
             }
            },
            "type": "table"
           }
          ]
         },
         "layout": {
          "annotationdefaults": {
           "arrowcolor": "#2a3f5f",
           "arrowhead": 0,
           "arrowwidth": 1
          },
          "autotypenumbers": "strict",
          "coloraxis": {
           "colorbar": {
            "outlinewidth": 0,
            "ticks": ""
           }
          },
          "colorscale": {
           "diverging": [
            [
             0,
             "#8e0152"
            ],
            [
             0.1,
             "#c51b7d"
            ],
            [
             0.2,
             "#de77ae"
            ],
            [
             0.3,
             "#f1b6da"
            ],
            [
             0.4,
             "#fde0ef"
            ],
            [
             0.5,
             "#f7f7f7"
            ],
            [
             0.6,
             "#e6f5d0"
            ],
            [
             0.7,
             "#b8e186"
            ],
            [
             0.8,
             "#7fbc41"
            ],
            [
             0.9,
             "#4d9221"
            ],
            [
             1,
             "#276419"
            ]
           ],
           "sequential": [
            [
             0,
             "#0d0887"
            ],
            [
             0.1111111111111111,
             "#46039f"
            ],
            [
             0.2222222222222222,
             "#7201a8"
            ],
            [
             0.3333333333333333,
             "#9c179e"
            ],
            [
             0.4444444444444444,
             "#bd3786"
            ],
            [
             0.5555555555555556,
             "#d8576b"
            ],
            [
             0.6666666666666666,
             "#ed7953"
            ],
            [
             0.7777777777777778,
             "#fb9f3a"
            ],
            [
             0.8888888888888888,
             "#fdca26"
            ],
            [
             1,
             "#f0f921"
            ]
           ],
           "sequentialminus": [
            [
             0,
             "#0d0887"
            ],
            [
             0.1111111111111111,
             "#46039f"
            ],
            [
             0.2222222222222222,
             "#7201a8"
            ],
            [
             0.3333333333333333,
             "#9c179e"
            ],
            [
             0.4444444444444444,
             "#bd3786"
            ],
            [
             0.5555555555555556,
             "#d8576b"
            ],
            [
             0.6666666666666666,
             "#ed7953"
            ],
            [
             0.7777777777777778,
             "#fb9f3a"
            ],
            [
             0.8888888888888888,
             "#fdca26"
            ],
            [
             1,
             "#f0f921"
            ]
           ]
          },
          "colorway": [
           "#636efa",
           "#EF553B",
           "#00cc96",
           "#ab63fa",
           "#FFA15A",
           "#19d3f3",
           "#FF6692",
           "#B6E880",
           "#FF97FF",
           "#FECB52"
          ],
          "font": {
           "color": "#2a3f5f"
          },
          "geo": {
           "bgcolor": "white",
           "lakecolor": "white",
           "landcolor": "white",
           "showlakes": true,
           "showland": true,
           "subunitcolor": "#C8D4E3"
          },
          "hoverlabel": {
           "align": "left"
          },
          "hovermode": "closest",
          "mapbox": {
           "style": "light"
          },
          "paper_bgcolor": "white",
          "plot_bgcolor": "white",
          "polar": {
           "angularaxis": {
            "gridcolor": "#EBF0F8",
            "linecolor": "#EBF0F8",
            "ticks": ""
           },
           "bgcolor": "white",
           "radialaxis": {
            "gridcolor": "#EBF0F8",
            "linecolor": "#EBF0F8",
            "ticks": ""
           }
          },
          "scene": {
           "xaxis": {
            "backgroundcolor": "white",
            "gridcolor": "#DFE8F3",
            "gridwidth": 2,
            "linecolor": "#EBF0F8",
            "showbackground": true,
            "ticks": "",
            "zerolinecolor": "#EBF0F8"
           },
           "yaxis": {
            "backgroundcolor": "white",
            "gridcolor": "#DFE8F3",
            "gridwidth": 2,
            "linecolor": "#EBF0F8",
            "showbackground": true,
            "ticks": "",
            "zerolinecolor": "#EBF0F8"
           },
           "zaxis": {
            "backgroundcolor": "white",
            "gridcolor": "#DFE8F3",
            "gridwidth": 2,
            "linecolor": "#EBF0F8",
            "showbackground": true,
            "ticks": "",
            "zerolinecolor": "#EBF0F8"
           }
          },
          "shapedefaults": {
           "line": {
            "color": "#2a3f5f"
           }
          },
          "ternary": {
           "aaxis": {
            "gridcolor": "#DFE8F3",
            "linecolor": "#A2B1C6",
            "ticks": ""
           },
           "baxis": {
            "gridcolor": "#DFE8F3",
            "linecolor": "#A2B1C6",
            "ticks": ""
           },
           "bgcolor": "white",
           "caxis": {
            "gridcolor": "#DFE8F3",
            "linecolor": "#A2B1C6",
            "ticks": ""
           }
          },
          "title": {
           "x": 0.05
          },
          "xaxis": {
           "automargin": true,
           "gridcolor": "#EBF0F8",
           "linecolor": "#EBF0F8",
           "ticks": "",
           "title": {
            "standoff": 15
           },
           "zerolinecolor": "#EBF0F8",
           "zerolinewidth": 2
          },
          "yaxis": {
           "automargin": true,
           "gridcolor": "#EBF0F8",
           "linecolor": "#EBF0F8",
           "ticks": "",
           "title": {
            "standoff": 15
           },
           "zerolinecolor": "#EBF0F8",
           "zerolinewidth": 2
          }
         }
        },
        "title": {
         "text": "dMW vs on-task(39,94"
        },
        "width": 1600,
        "xaxis": {
         "anchor": "y",
         "domain": [
          0,
          0.31999999999999995
         ],
         "title": {
          "text": "dMW>on-task                  dMW<on-task"
         }
        },
        "xaxis2": {
         "anchor": "y2",
         "domain": [
          0.33999999999999997,
          0.6599999999999999
         ],
         "matches": "x",
         "title": {
          "text": "dMW>on-task                  dMW<on-task"
         }
        },
        "xaxis3": {
         "anchor": "y3",
         "domain": [
          0.6799999999999999,
          0.9999999999999999
         ],
         "matches": "x",
         "title": {
          "text": "dMW>on-task                  dMW<on-task"
         }
        },
        "yaxis": {
         "anchor": "x",
         "domain": [
          0,
          1
         ],
         "showticklabels": true,
         "tickmode": "linear",
         "title": {
          "text": "markers"
         }
        },
        "yaxis2": {
         "anchor": "x2",
         "domain": [
          0,
          1
         ],
         "matches": "y",
         "showticklabels": false
        },
        "yaxis3": {
         "anchor": "x3",
         "domain": [
          0,
          1
         ],
         "matches": "y",
         "showticklabels": false
        }
       }
      },
      "text/html": [
       "<div>                            <div id=\"cc1b105a-606a-4e23-bd26-39c1422b2a10\" class=\"plotly-graph-div\" style=\"height:800px; width:1600px;\"></div>            <script type=\"text/javascript\">                require([\"plotly\"], function(Plotly) {                    window.PLOTLYENV=window.PLOTLYENV || {};                                    if (document.getElementById(\"cc1b105a-606a-4e23-bd26-39c1422b2a10\")) {                    Plotly.newPlot(                        \"cc1b105a-606a-4e23-bd26-39c1422b2a10\",                        [{\"hovertemplate\":\"balance=unbalance<br>significant=p > 0.05<br>dMW>on-task                  dMW<on-task=%{x}<br>markers=%{y}<extra></extra>\",\"legendgroup\":\"unbalance, p > 0.05\",\"marker\":{\"color\":\"#DE237B\",\"symbol\":\"circle-open\",\"size\":8},\"mode\":\"markers\",\"name\":\"unbalance, p > 0.05\",\"orientation\":\"h\",\"showlegend\":true,\"x\":[0.4056192034915439,0.4058919803600655,0.4132569558101473,0.4301691216584833,0.4345335515548282,0.43971631205673756,0.45962902345881074,0.46099290780141844,0.469721767594108,0.4735406437534097,0.47435897435897434,0.4746317512274959,0.4800872885979269,0.483633387888707,0.4849972722313148,0.4863611565739226,0.492089470812875,0.4953627932351336,0.49563557010365517,0.5008183306055646,0.503000545553737,0.5035460992907801,0.5046372067648663,0.5065466448445172,0.5095471903982541,0.5136388434260775,0.513911620294599,0.5155482815057283,0.5158210583742499,0.5182760501909438,0.5240043644298963,0.5256410256410255,0.5275504637206765,0.5310965630114566,0.5310965630114567,0.5330060010911075,0.533278777959629,0.5340971085651937,0.5351882160392798,0.5354609929078014,0.5425531914893617,0.5428259683578832,0.5561920349154391,0.5561920349154392,0.5621931260229133,0.5698308783415167,0.5711947626841243,0.5758319694489907,0.5984724495362793],\"xaxis\":\"x\",\"y\":[\"$wSMI\\\\beta_{std}$\",\"$|\\\\beta|_{mean}$\",\"$PE\\\\alpha_{mean}$\",\"$P1_{std}$\",\"$\\\\beta_{mean}$\",\"$\\\\delta_{std}$\",\"$SE_{mean}$\",\"$P3b_{std}$\",\"$P3a_{std}$\",\"$|\\\\delta|_{std}$\",\"$MSF_{mean}$\",\"$|\\\\delta|_{mean}$\",\"$K_{mean}$\",\"$\\\\gamma_{mean}$\",\"$wSMI\\\\theta_{std}$\",\"$\\\\alpha_{mean}$\",\"$\\\\theta_{mean}$\",\"$CNV_{mean}$\",\"$wSMI\\\\gamma_{mean}$\",\"$SEF90_{mean}$\",\"$|\\\\beta|_{std}$\",\"$\\\\beta_{std}$\",\"$|\\\\alpha|_{mean}$\",\"$\\\\delta_{mean}$\",\"$MSF_{std}$\",\"$PE\\\\theta_{std}$\",\"$PE\\\\beta_{mean}$\",\"$PE\\\\alpha_{std}$\",\"$SEF95_{mean}$\",\"$P3a_{mean}$\",\"$wSMI\\\\gamma_{std}$\",\"$PE\\\\theta_{mean}$\",\"$wSMI\\\\beta_{mean}$\",\"$SEF95_{std}$\",\"$\\\\alpha_{std}$\",\"$PE\\\\gamma_{mean}$\",\"$|\\\\gamma|_{std}$\",\"$SE_{std}$\",\"$|\\\\alpha|_{std}$\",\"$|\\\\gamma|_{mean}$\",\"$\\\\gamma_{std}$\",\"$P1_{mean}$\",\"$SEF90_{std}$\",\"$wSMI\\\\alpha_{std}$\",\"$|\\\\theta|_{mean}$\",\"$\\\\theta_{std}$\",\"$wSMI\\\\alpha_{mean}$\",\"$wSMI\\\\theta_{mean}$\",\"$P3b_{mean}$\"],\"yaxis\":\"y\",\"type\":\"scatter\"},{\"hovertemplate\":\"balance=unbalance<br>significant=p < 0.05 uncorrected<br>dMW>on-task                  dMW<on-task=%{x}<br>markers=%{y}<extra></extra>\",\"legendgroup\":\"unbalance, p < 0.05 uncorrected\",\"marker\":{\"color\":\"#DE237B\",\"symbol\":\"circle\",\"size\":8},\"mode\":\"markers\",\"name\":\"unbalance, p < 0.05 uncorrected\",\"orientation\":\"h\",\"showlegend\":true,\"x\":[0.35815602836879434,0.6110201854882706,0.6151118385160936,0.6230223677032188,0.6262956901254774],\"xaxis\":\"x\",\"y\":[\"$CNV_{std}$\",\"$PE\\\\beta_{std}$\",\"$K_{std}$\",\"$PE\\\\gamma_{std}$\",\"$|\\\\theta|_{std}$\"],\"yaxis\":\"y\",\"type\":\"scatter\"},{\"hovertemplate\":\"balance=under-sample<br>significant=p > 0.05<br>dMW>on-task                  dMW<on-task=%{x}<br>markers=%{y}<extra></extra>\",\"legendgroup\":\"under-sample, p > 0.05\",\"marker\":{\"color\":\"#9AC529\",\"symbol\":\"circle-open\",\"size\":8},\"mode\":\"markers\",\"name\":\"under-sample, p > 0.05\",\"orientation\":\"h\",\"showlegend\":true,\"x\":[0.3773833004602235,0.40236686390532544,0.42340565417488496,0.443129520052597,0.44773175542406307,0.4516765285996055,0.45167652859960555,0.4523339907955293,0.45299145299145305,0.4536489151873767,0.45430637738330043,0.4582511505588429,0.46022353714661407,0.46745562130177515,0.46942800788954636,0.47863247863247854,0.49112426035502954,0.49243918474687703,0.4970414201183432,0.4983563445101906,0.5016436554898094,0.504930966469428,0.5075608152531229,0.5121630506245891,0.5180802103879026,0.5207100591715976,0.5266272189349112,0.5272846811308349,0.5279421433267587,0.5299145299145299,0.5312294543063774,0.5345167652859961,0.537146614069691,0.5427350427350427,0.5437212360289283,0.5529257067718606,0.5535831689677843,0.5555555555555555,0.5575279421433268,0.5673898750821827,0.5713346482577253,0.5726495726495726,0.5733070348454964,0.5798816568047337,0.5798816568047337,0.5844838921761999,0.5857988165680473,0.5877712031558185,0.5923734385272847,0.5963182117028271,0.598948060486522],\"xaxis\":\"x2\",\"y\":[\"$CNV_{std}$\",\"$P1_{std}$\",\"$wSMI\\\\beta_{std}$\",\"$|\\\\beta|_{mean}$\",\"$wSMI\\\\beta_{mean}$\",\"$wSMI\\\\theta_{std}$\",\"$PE\\\\alpha_{mean}$\",\"$|\\\\delta|_{mean}$\",\"$|\\\\delta|_{std}$\",\"$\\\\delta_{std}$\",\"$\\\\alpha_{std}$\",\"$\\\\beta_{std}$\",\"$|\\\\alpha|_{mean}$\",\"$\\\\alpha_{mean}$\",\"$P3b_{std}$\",\"$PE\\\\theta_{mean}$\",\"$|\\\\theta|_{mean}$\",\"$PE\\\\beta_{std}$\",\"$\\\\beta_{mean}$\",\"$wSMI\\\\alpha_{std}$\",\"$P3a_{std}$\",\"$\\\\theta_{mean}$\",\"$SE_{mean}$\",\"$PE\\\\alpha_{std}$\",\"$SEF95_{std}$\",\"$|\\\\beta|_{std}$\",\"$|\\\\alpha|_{std}$\",\"$\\\\delta_{mean}$\",\"$MSF_{mean}$\",\"$P1_{mean}$\",\"$\\\\theta_{std}$\",\"$P3a_{mean}$\",\"$wSMI\\\\gamma_{mean}$\",\"$K_{mean}$\",\"$PE\\\\gamma_{std}$\",\"$SEF90_{mean}$\",\"$MSF_{std}$\",\"$\\\\gamma_{mean}$\",\"$wSMI\\\\alpha_{mean}$\",\"$SEF90_{std}$\",\"$wSMI\\\\theta_{mean}$\",\"$PE\\\\theta_{std}$\",\"$SEF95_{mean}$\",\"$PE\\\\beta_{mean}$\",\"$SE_{std}$\",\"$\\\\gamma_{std}$\",\"$|\\\\gamma|_{mean}$\",\"$wSMI\\\\gamma_{std}$\",\"$PE\\\\gamma_{mean}$\",\"$CNV_{mean}$\",\"$|\\\\gamma|_{std}$\"],\"yaxis\":\"y2\",\"type\":\"scatter\"},{\"hovertemplate\":\"balance=under-sample<br>significant=p < 0.05 uncorrected<br>dMW>on-task                  dMW<on-task=%{x}<br>markers=%{y}<extra></extra>\",\"legendgroup\":\"under-sample, p < 0.05 uncorrected\",\"marker\":{\"color\":\"#9AC529\",\"symbol\":\"circle\",\"size\":8},\"mode\":\"markers\",\"name\":\"under-sample, p < 0.05 uncorrected\",\"orientation\":\"h\",\"showlegend\":true,\"x\":[0.6305062458908612,0.6383957922419461,0.6476002629848783],\"xaxis\":\"x2\",\"y\":[\"$K_{std}$\",\"$|\\\\theta|_{std}$\",\"$P3b_{mean}$\"],\"yaxis\":\"y2\",\"type\":\"scatter\"},{\"hovertemplate\":\"balance=over-sample<br>significant=p > 0.05<br>dMW>on-task                  dMW<on-task=%{x}<br>markers=%{y}<extra></extra>\",\"legendgroup\":\"over-sample, p > 0.05\",\"marker\":{\"color\":\"#F38A31\",\"symbol\":\"circle-open\",\"size\":8},\"mode\":\"markers\",\"name\":\"over-sample, p > 0.05\",\"orientation\":\"h\",\"showlegend\":true,\"x\":[0.4289271163422363,0.43073789044816657,0.43390674513354455,0.4360570393843368,0.44307378904481665,0.44975101856043453,0.4645767315527388,0.46480307831598006,0.4692168401991852,0.4738569488456315,0.4770258035310095,0.47985513807152563,0.4801946582163875,0.48189225894069715,0.48370303304662743,0.4846084200995926,0.485740153915799,0.4864191942055228,0.4906066093254867,0.49105930285196925,0.49434133091896787,0.5006790402897239,0.505092802172929,0.5065640561339974,0.5118832050701676,0.5151652331371661,0.5153915799004074,0.5157311000452695,0.5185604345857854,0.518673607967406,0.5289723856948846,0.5351969216840199,0.539610683567225,0.5402897238569488,0.5404028972385695,0.5469669533725667,0.5580579447713898,0.5593028519692169,0.5608872793119059,0.5651878678134903,0.5653010411951109,0.5675645088275237,0.5701674966047985,0.5789950203712086],\"xaxis\":\"x3\",\"y\":[\"$SE_{mean}$\",\"$wSMI\\\\beta_{std}$\",\"$MSF_{mean}$\",\"$P3a_{std}$\",\"$P3b_{std}$\",\"$P1_{std}$\",\"$\\\\alpha_{mean}$\",\"$\\\\gamma_{mean}$\",\"$K_{mean}$\",\"$CNV_{mean}$\",\"$SEF95_{std}$\",\"$\\\\delta_{std}$\",\"$|\\\\beta|_{std}$\",\"$wSMI\\\\theta_{std}$\",\"$PE\\\\theta_{mean}$\",\"$|\\\\alpha|_{mean}$\",\"$wSMI\\\\gamma_{mean}$\",\"$|\\\\gamma|_{std}$\",\"$SEF90_{mean}$\",\"$|\\\\delta|_{std}$\",\"$\\\\theta_{mean}$\",\"$\\\\gamma_{std}$\",\"$\\\\beta_{std}$\",\"$SEF90_{std}$\",\"$SEF95_{mean}$\",\"$P3a_{mean}$\",\"$wSMI\\\\gamma_{std}$\",\"$\\\\alpha_{std}$\",\"$|\\\\delta|_{mean}$\",\"$\\\\delta_{mean}$\",\"$wSMI\\\\beta_{mean}$\",\"$|\\\\gamma|_{mean}$\",\"$PE\\\\theta_{std}$\",\"$MSF_{std}$\",\"$wSMI\\\\alpha_{std}$\",\"$PE\\\\beta_{mean}$\",\"$SE_{std}$\",\"$PE\\\\gamma_{mean}$\",\"$P3b_{mean}$\",\"$P1_{mean}$\",\"$|\\\\alpha|_{std}$\",\"$PE\\\\alpha_{std}$\",\"$wSMI\\\\theta_{mean}$\",\"$wSMI\\\\alpha_{mean}$\"],\"yaxis\":\"y3\",\"type\":\"scatter\"},{\"hovertemplate\":\"balance=over-sample<br>significant=p < 0.05 uncorrected<br>dMW>on-task                  dMW<on-task=%{x}<br>markers=%{y}<extra></extra>\",\"legendgroup\":\"over-sample, p < 0.05 uncorrected\",\"marker\":{\"color\":\"#F38A31\",\"symbol\":\"circle\",\"size\":8},\"mode\":\"markers\",\"name\":\"over-sample, p < 0.05 uncorrected\",\"orientation\":\"h\",\"showlegend\":true,\"x\":[0.3804889090086012,0.38705296514259846,0.5830692621095519,0.5968764146672703,0.6090991398822997,0.6109099139882299],\"xaxis\":\"x3\",\"y\":[\"$PE\\\\alpha_{mean}$\",\"$\\\\beta_{mean}$\",\"$\\\\theta_{std}$\",\"$PE\\\\beta_{std}$\",\"$PE\\\\gamma_{std}$\",\"$|\\\\theta|_{mean}$\"],\"yaxis\":\"y3\",\"type\":\"scatter\"},{\"hovertemplate\":\"balance=over-sample<br>significant=p < 0.05 FDR corrected<br>dMW>on-task                  dMW<on-task=%{x}<br>markers=%{y}<extra></extra>\",\"legendgroup\":\"over-sample, p < 0.05 FDR corrected\",\"marker\":{\"color\":\"#F38A31\",\"symbol\":\"hexagram\",\"size\":8},\"mode\":\"markers\",\"name\":\"over-sample, p < 0.05 FDR corrected\",\"orientation\":\"h\",\"showlegend\":true,\"x\":[0.349479402444545,0.3740380262562245,0.6400520597555455,0.662856496152105],\"xaxis\":\"x3\",\"y\":[\"$|\\\\beta|_{mean}$\",\"$CNV_{std}$\",\"$K_{std}$\",\"$|\\\\theta|_{std}$\"],\"yaxis\":\"y3\",\"type\":\"scatter\"}],                        {\"template\":{\"data\":{\"barpolar\":[{\"marker\":{\"line\":{\"color\":\"white\",\"width\":0.5},\"pattern\":{\"fillmode\":\"overlay\",\"size\":10,\"solidity\":0.2}},\"type\":\"barpolar\"}],\"bar\":[{\"error_x\":{\"color\":\"#2a3f5f\"},\"error_y\":{\"color\":\"#2a3f5f\"},\"marker\":{\"line\":{\"color\":\"white\",\"width\":0.5},\"pattern\":{\"fillmode\":\"overlay\",\"size\":10,\"solidity\":0.2}},\"type\":\"bar\"}],\"carpet\":[{\"aaxis\":{\"endlinecolor\":\"#2a3f5f\",\"gridcolor\":\"#C8D4E3\",\"linecolor\":\"#C8D4E3\",\"minorgridcolor\":\"#C8D4E3\",\"startlinecolor\":\"#2a3f5f\"},\"baxis\":{\"endlinecolor\":\"#2a3f5f\",\"gridcolor\":\"#C8D4E3\",\"linecolor\":\"#C8D4E3\",\"minorgridcolor\":\"#C8D4E3\",\"startlinecolor\":\"#2a3f5f\"},\"type\":\"carpet\"}],\"choropleth\":[{\"colorbar\":{\"outlinewidth\":0,\"ticks\":\"\"},\"type\":\"choropleth\"}],\"contourcarpet\":[{\"colorbar\":{\"outlinewidth\":0,\"ticks\":\"\"},\"type\":\"contourcarpet\"}],\"contour\":[{\"colorbar\":{\"outlinewidth\":0,\"ticks\":\"\"},\"colorscale\":[[0.0,\"#0d0887\"],[0.1111111111111111,\"#46039f\"],[0.2222222222222222,\"#7201a8\"],[0.3333333333333333,\"#9c179e\"],[0.4444444444444444,\"#bd3786\"],[0.5555555555555556,\"#d8576b\"],[0.6666666666666666,\"#ed7953\"],[0.7777777777777778,\"#fb9f3a\"],[0.8888888888888888,\"#fdca26\"],[1.0,\"#f0f921\"]],\"type\":\"contour\"}],\"heatmapgl\":[{\"colorbar\":{\"outlinewidth\":0,\"ticks\":\"\"},\"colorscale\":[[0.0,\"#0d0887\"],[0.1111111111111111,\"#46039f\"],[0.2222222222222222,\"#7201a8\"],[0.3333333333333333,\"#9c179e\"],[0.4444444444444444,\"#bd3786\"],[0.5555555555555556,\"#d8576b\"],[0.6666666666666666,\"#ed7953\"],[0.7777777777777778,\"#fb9f3a\"],[0.8888888888888888,\"#fdca26\"],[1.0,\"#f0f921\"]],\"type\":\"heatmapgl\"}],\"heatmap\":[{\"colorbar\":{\"outlinewidth\":0,\"ticks\":\"\"},\"colorscale\":[[0.0,\"#0d0887\"],[0.1111111111111111,\"#46039f\"],[0.2222222222222222,\"#7201a8\"],[0.3333333333333333,\"#9c179e\"],[0.4444444444444444,\"#bd3786\"],[0.5555555555555556,\"#d8576b\"],[0.6666666666666666,\"#ed7953\"],[0.7777777777777778,\"#fb9f3a\"],[0.8888888888888888,\"#fdca26\"],[1.0,\"#f0f921\"]],\"type\":\"heatmap\"}],\"histogram2dcontour\":[{\"colorbar\":{\"outlinewidth\":0,\"ticks\":\"\"},\"colorscale\":[[0.0,\"#0d0887\"],[0.1111111111111111,\"#46039f\"],[0.2222222222222222,\"#7201a8\"],[0.3333333333333333,\"#9c179e\"],[0.4444444444444444,\"#bd3786\"],[0.5555555555555556,\"#d8576b\"],[0.6666666666666666,\"#ed7953\"],[0.7777777777777778,\"#fb9f3a\"],[0.8888888888888888,\"#fdca26\"],[1.0,\"#f0f921\"]],\"type\":\"histogram2dcontour\"}],\"histogram2d\":[{\"colorbar\":{\"outlinewidth\":0,\"ticks\":\"\"},\"colorscale\":[[0.0,\"#0d0887\"],[0.1111111111111111,\"#46039f\"],[0.2222222222222222,\"#7201a8\"],[0.3333333333333333,\"#9c179e\"],[0.4444444444444444,\"#bd3786\"],[0.5555555555555556,\"#d8576b\"],[0.6666666666666666,\"#ed7953\"],[0.7777777777777778,\"#fb9f3a\"],[0.8888888888888888,\"#fdca26\"],[1.0,\"#f0f921\"]],\"type\":\"histogram2d\"}],\"histogram\":[{\"marker\":{\"pattern\":{\"fillmode\":\"overlay\",\"size\":10,\"solidity\":0.2}},\"type\":\"histogram\"}],\"mesh3d\":[{\"colorbar\":{\"outlinewidth\":0,\"ticks\":\"\"},\"type\":\"mesh3d\"}],\"parcoords\":[{\"line\":{\"colorbar\":{\"outlinewidth\":0,\"ticks\":\"\"}},\"type\":\"parcoords\"}],\"pie\":[{\"automargin\":true,\"type\":\"pie\"}],\"scatter3d\":[{\"line\":{\"colorbar\":{\"outlinewidth\":0,\"ticks\":\"\"}},\"marker\":{\"colorbar\":{\"outlinewidth\":0,\"ticks\":\"\"}},\"type\":\"scatter3d\"}],\"scattercarpet\":[{\"marker\":{\"colorbar\":{\"outlinewidth\":0,\"ticks\":\"\"}},\"type\":\"scattercarpet\"}],\"scattergeo\":[{\"marker\":{\"colorbar\":{\"outlinewidth\":0,\"ticks\":\"\"}},\"type\":\"scattergeo\"}],\"scattergl\":[{\"marker\":{\"colorbar\":{\"outlinewidth\":0,\"ticks\":\"\"}},\"type\":\"scattergl\"}],\"scattermapbox\":[{\"marker\":{\"colorbar\":{\"outlinewidth\":0,\"ticks\":\"\"}},\"type\":\"scattermapbox\"}],\"scatterpolargl\":[{\"marker\":{\"colorbar\":{\"outlinewidth\":0,\"ticks\":\"\"}},\"type\":\"scatterpolargl\"}],\"scatterpolar\":[{\"marker\":{\"colorbar\":{\"outlinewidth\":0,\"ticks\":\"\"}},\"type\":\"scatterpolar\"}],\"scatter\":[{\"fillpattern\":{\"fillmode\":\"overlay\",\"size\":10,\"solidity\":0.2},\"type\":\"scatter\"}],\"scatterternary\":[{\"marker\":{\"colorbar\":{\"outlinewidth\":0,\"ticks\":\"\"}},\"type\":\"scatterternary\"}],\"surface\":[{\"colorbar\":{\"outlinewidth\":0,\"ticks\":\"\"},\"colorscale\":[[0.0,\"#0d0887\"],[0.1111111111111111,\"#46039f\"],[0.2222222222222222,\"#7201a8\"],[0.3333333333333333,\"#9c179e\"],[0.4444444444444444,\"#bd3786\"],[0.5555555555555556,\"#d8576b\"],[0.6666666666666666,\"#ed7953\"],[0.7777777777777778,\"#fb9f3a\"],[0.8888888888888888,\"#fdca26\"],[1.0,\"#f0f921\"]],\"type\":\"surface\"}],\"table\":[{\"cells\":{\"fill\":{\"color\":\"#EBF0F8\"},\"line\":{\"color\":\"white\"}},\"header\":{\"fill\":{\"color\":\"#C8D4E3\"},\"line\":{\"color\":\"white\"}},\"type\":\"table\"}]},\"layout\":{\"annotationdefaults\":{\"arrowcolor\":\"#2a3f5f\",\"arrowhead\":0,\"arrowwidth\":1},\"autotypenumbers\":\"strict\",\"coloraxis\":{\"colorbar\":{\"outlinewidth\":0,\"ticks\":\"\"}},\"colorscale\":{\"diverging\":[[0,\"#8e0152\"],[0.1,\"#c51b7d\"],[0.2,\"#de77ae\"],[0.3,\"#f1b6da\"],[0.4,\"#fde0ef\"],[0.5,\"#f7f7f7\"],[0.6,\"#e6f5d0\"],[0.7,\"#b8e186\"],[0.8,\"#7fbc41\"],[0.9,\"#4d9221\"],[1,\"#276419\"]],\"sequential\":[[0.0,\"#0d0887\"],[0.1111111111111111,\"#46039f\"],[0.2222222222222222,\"#7201a8\"],[0.3333333333333333,\"#9c179e\"],[0.4444444444444444,\"#bd3786\"],[0.5555555555555556,\"#d8576b\"],[0.6666666666666666,\"#ed7953\"],[0.7777777777777778,\"#fb9f3a\"],[0.8888888888888888,\"#fdca26\"],[1.0,\"#f0f921\"]],\"sequentialminus\":[[0.0,\"#0d0887\"],[0.1111111111111111,\"#46039f\"],[0.2222222222222222,\"#7201a8\"],[0.3333333333333333,\"#9c179e\"],[0.4444444444444444,\"#bd3786\"],[0.5555555555555556,\"#d8576b\"],[0.6666666666666666,\"#ed7953\"],[0.7777777777777778,\"#fb9f3a\"],[0.8888888888888888,\"#fdca26\"],[1.0,\"#f0f921\"]]},\"colorway\":[\"#636efa\",\"#EF553B\",\"#00cc96\",\"#ab63fa\",\"#FFA15A\",\"#19d3f3\",\"#FF6692\",\"#B6E880\",\"#FF97FF\",\"#FECB52\"],\"font\":{\"color\":\"#2a3f5f\"},\"geo\":{\"bgcolor\":\"white\",\"lakecolor\":\"white\",\"landcolor\":\"white\",\"showlakes\":true,\"showland\":true,\"subunitcolor\":\"#C8D4E3\"},\"hoverlabel\":{\"align\":\"left\"},\"hovermode\":\"closest\",\"mapbox\":{\"style\":\"light\"},\"paper_bgcolor\":\"white\",\"plot_bgcolor\":\"white\",\"polar\":{\"angularaxis\":{\"gridcolor\":\"#EBF0F8\",\"linecolor\":\"#EBF0F8\",\"ticks\":\"\"},\"bgcolor\":\"white\",\"radialaxis\":{\"gridcolor\":\"#EBF0F8\",\"linecolor\":\"#EBF0F8\",\"ticks\":\"\"}},\"scene\":{\"xaxis\":{\"backgroundcolor\":\"white\",\"gridcolor\":\"#DFE8F3\",\"gridwidth\":2,\"linecolor\":\"#EBF0F8\",\"showbackground\":true,\"ticks\":\"\",\"zerolinecolor\":\"#EBF0F8\"},\"yaxis\":{\"backgroundcolor\":\"white\",\"gridcolor\":\"#DFE8F3\",\"gridwidth\":2,\"linecolor\":\"#EBF0F8\",\"showbackground\":true,\"ticks\":\"\",\"zerolinecolor\":\"#EBF0F8\"},\"zaxis\":{\"backgroundcolor\":\"white\",\"gridcolor\":\"#DFE8F3\",\"gridwidth\":2,\"linecolor\":\"#EBF0F8\",\"showbackground\":true,\"ticks\":\"\",\"zerolinecolor\":\"#EBF0F8\"}},\"shapedefaults\":{\"line\":{\"color\":\"#2a3f5f\"}},\"ternary\":{\"aaxis\":{\"gridcolor\":\"#DFE8F3\",\"linecolor\":\"#A2B1C6\",\"ticks\":\"\"},\"baxis\":{\"gridcolor\":\"#DFE8F3\",\"linecolor\":\"#A2B1C6\",\"ticks\":\"\"},\"bgcolor\":\"white\",\"caxis\":{\"gridcolor\":\"#DFE8F3\",\"linecolor\":\"#A2B1C6\",\"ticks\":\"\"}},\"title\":{\"x\":0.05},\"xaxis\":{\"automargin\":true,\"gridcolor\":\"#EBF0F8\",\"linecolor\":\"#EBF0F8\",\"ticks\":\"\",\"title\":{\"standoff\":15},\"zerolinecolor\":\"#EBF0F8\",\"zerolinewidth\":2},\"yaxis\":{\"automargin\":true,\"gridcolor\":\"#EBF0F8\",\"linecolor\":\"#EBF0F8\",\"ticks\":\"\",\"title\":{\"standoff\":15},\"zerolinecolor\":\"#EBF0F8\",\"zerolinewidth\":2}}},\"xaxis\":{\"anchor\":\"y\",\"domain\":[0.0,0.31999999999999995],\"title\":{\"text\":\"dMW>on-task                  dMW<on-task\"}},\"yaxis\":{\"anchor\":\"x\",\"domain\":[0.0,1.0],\"title\":{\"text\":\"markers\"},\"showticklabels\":true,\"tickmode\":\"linear\"},\"xaxis2\":{\"anchor\":\"y2\",\"domain\":[0.33999999999999997,0.6599999999999999],\"matches\":\"x\",\"title\":{\"text\":\"dMW>on-task                  dMW<on-task\"}},\"yaxis2\":{\"anchor\":\"x2\",\"domain\":[0.0,1.0],\"matches\":\"y\",\"showticklabels\":false},\"xaxis3\":{\"anchor\":\"y3\",\"domain\":[0.6799999999999999,0.9999999999999999],\"matches\":\"x\",\"title\":{\"text\":\"dMW>on-task                  dMW<on-task\"}},\"yaxis3\":{\"anchor\":\"x3\",\"domain\":[0.0,1.0],\"matches\":\"y\",\"showticklabels\":false},\"annotations\":[{\"showarrow\":false,\"text\":\"balance=unbalance\",\"x\":0.15999999999999998,\"xanchor\":\"center\",\"xref\":\"paper\",\"y\":1.0,\"yanchor\":\"bottom\",\"yref\":\"paper\"},{\"showarrow\":false,\"text\":\"balance=under-sample\",\"x\":0.49999999999999994,\"xanchor\":\"center\",\"xref\":\"paper\",\"y\":1.0,\"yanchor\":\"bottom\",\"yref\":\"paper\"},{\"showarrow\":false,\"text\":\"balance=over-sample\",\"x\":0.8399999999999999,\"xanchor\":\"center\",\"xref\":\"paper\",\"y\":1.0,\"yanchor\":\"bottom\",\"yref\":\"paper\"}],\"legend\":{\"title\":{\"text\":\"balance, significant\"},\"tracegroupgap\":0},\"margin\":{\"t\":60},\"shapes\":[{\"line\":{\"color\":\"black\",\"dash\":\"dash\",\"width\":3},\"type\":\"line\",\"x0\":0.5,\"x1\":0.5,\"xref\":\"x\",\"y0\":0,\"y1\":1,\"yref\":\"y domain\"},{\"line\":{\"color\":\"black\",\"dash\":\"dash\",\"width\":3},\"type\":\"line\",\"x0\":0.5,\"x1\":0.5,\"xref\":\"x2\",\"y0\":0,\"y1\":1,\"yref\":\"y2 domain\"},{\"line\":{\"color\":\"black\",\"dash\":\"dash\",\"width\":3},\"type\":\"line\",\"x0\":0.5,\"x1\":0.5,\"xref\":\"x3\",\"y0\":0,\"y1\":1,\"yref\":\"y3 domain\"}],\"title\":{\"text\":\"dMW vs on-task(39,94\"},\"autosize\":true,\"width\":1600,\"height\":800},                        {\"responsive\": true}                    ).then(function(){\n",
       "                            \n",
       "var gd = document.getElementById('cc1b105a-606a-4e23-bd26-39c1422b2a10');\n",
       "var x = new MutationObserver(function (mutations, observer) {{\n",
       "        var display = window.getComputedStyle(gd).display;\n",
       "        if (!display || display === 'none') {{\n",
       "            console.log([gd, 'removed!']);\n",
       "            Plotly.purge(gd);\n",
       "            observer.disconnect();\n",
       "        }}\n",
       "}});\n",
       "\n",
       "// Listen for the removal of the full notebook cells\n",
       "var notebookContainer = gd.closest('#notebook-container');\n",
       "if (notebookContainer) {{\n",
       "    x.observe(notebookContainer, {childList: true});\n",
       "}}\n",
       "\n",
       "// Listen for the clearing of the current output cell\n",
       "var outputEl = gd.closest('.output');\n",
       "if (outputEl) {{\n",
       "    x.observe(outputEl, {childList: true});\n",
       "}}\n",
       "\n",
       "                        })                };                });            </script>        </div>"
      ]
     },
     "metadata": {},
     "output_type": "display_data"
    },
    {
     "data": {
      "application/vnd.plotly.v1+json": {
       "config": {
        "plotlyServerURL": "https://plot.ly"
       },
       "data": [
        {
         "hovertemplate": "balance=unbalance<br>significant=p > 0.05<br>dMW>about-task                  dMW<about-task=%{x}<br>markers=%{y}<extra></extra>",
         "legendgroup": "unbalance, p > 0.05",
         "marker": {
          "color": "#DE237B",
          "size": 8,
          "symbol": "circle-open"
         },
         "mode": "markers",
         "name": "unbalance, p > 0.05",
         "orientation": "h",
         "showlegend": true,
         "type": "scatter",
         "x": [
          0.40181363352095056,
          0.407754846779237,
          0.41213258286429016,
          0.4165103189493433,
          0.4324577861163227,
          0.4455909943714822,
          0.45278298936835526,
          0.4606003752345216,
          0.46247654784240144,
          0.46904315196998125,
          0.4718574108818011,
          0.47217010631644774,
          0.4743589743589744,
          0.4771732332707943,
          0.4781113195747342,
          0.47811131957473424,
          0.4790494058786741,
          0.4809255784865541,
          0.4809255784865541,
          0.4812382739212008,
          0.4824890556597874,
          0.4828017510944341,
          0.4890556597873671,
          0.492808005003127,
          0.4931207004377736,
          0.49374609130706687,
          0.49624765478424016,
          0.4965603502188868,
          0.49656035021888684,
          0.49687304565353346,
          0.5006253908692933,
          0.5046904315196998,
          0.5053158223889931,
          0.5070356472795496,
          0.5078173858661664,
          0.5109443402126329,
          0.5150093808630394,
          0.515322076297686,
          0.515322076297686,
          0.5175109443402126,
          0.5187617260787992,
          0.5297060662914321,
          0.5315822388993121,
          0.5393996247654784,
          0.540650406504065,
          0.5437773608505316,
          0.547842401500938,
          0.549718574108818,
          0.5509693558474046,
          0.555972482801751,
          0.5584740462789243,
          0.5753595997498436,
          0.6044402751719826
         ],
         "xaxis": "x",
         "y": [
          "$wSMI\\theta_{std}$",
          "$\\alpha_{std}$",
          "$CNV_{std}$",
          "$P3a_{std}$",
          "$PE\\alpha_{std}$",
          "$\\gamma_{std}$",
          "$|\\beta|_{mean}$",
          "$|\\alpha|_{std}$",
          "$P1_{std}$",
          "$SE_{std}$",
          "$P3b_{std}$",
          "$\\theta_{mean}$",
          "$PE\\theta_{std}$",
          "$\\beta_{mean}$",
          "$\\delta_{std}$",
          "$wSMI\\gamma_{std}$",
          "$|\\alpha|_{mean}$",
          "$P3a_{mean}$",
          "$PE\\alpha_{mean}$",
          "$SEF95_{std}$",
          "$\\alpha_{mean}$",
          "$wSMI\\alpha_{mean}$",
          "$|\\beta|_{std}$",
          "$wSMI\\beta_{std}$",
          "$|\\delta|_{std}$",
          "$PE\\beta_{std}$",
          "$SEF90_{std}$",
          "$|\\theta|_{mean}$",
          "$K_{mean}$",
          "$PE\\theta_{mean}$",
          "$wSMI\\beta_{mean}$",
          "$\\beta_{std}$",
          "$|\\delta|_{mean}$",
          "$MSF_{mean}$",
          "$wSMI\\alpha_{std}$",
          "$wSMI\\theta_{mean}$",
          "$P1_{mean}$",
          "$wSMI\\gamma_{mean}$",
          "$SE_{mean}$",
          "$\\gamma_{mean}$",
          "$|\\gamma|_{std}$",
          "$MSF_{std}$",
          "$PE\\gamma_{mean}$",
          "$CNV_{mean}$",
          "$SEF90_{mean}$",
          "$\\delta_{mean}$",
          "$SEF95_{mean}$",
          "$PE\\beta_{mean}$",
          "$|\\gamma|_{mean}$",
          "$PE\\gamma_{std}$",
          "$\\theta_{std}$",
          "$K_{std}$",
          "$|\\theta|_{std}$"
         ],
         "yaxis": "y"
        },
        {
         "hovertemplate": "balance=unbalance<br>significant=p < 0.05 uncorrected<br>dMW>about-task                  dMW<about-task=%{x}<br>markers=%{y}<extra></extra>",
         "legendgroup": "unbalance, p < 0.05 uncorrected",
         "marker": {
          "color": "#DE237B",
          "size": 8,
          "symbol": "circle"
         },
         "mode": "markers",
         "name": "unbalance, p < 0.05 uncorrected",
         "orientation": "h",
         "showlegend": true,
         "type": "scatter",
         "x": [
          0.651031894934334
         ],
         "xaxis": "x",
         "y": [
          "$P3b_{mean}$"
         ],
         "yaxis": "y"
        },
        {
         "hovertemplate": "balance=under-sample<br>significant=p > 0.05<br>dMW>about-task                  dMW<about-task=%{x}<br>markers=%{y}<extra></extra>",
         "legendgroup": "under-sample, p > 0.05",
         "marker": {
          "color": "#9AC529",
          "size": 8,
          "symbol": "circle-open"
         },
         "mode": "markers",
         "name": "under-sample, p > 0.05",
         "orientation": "h",
         "showlegend": true,
         "type": "scatter",
         "x": [
          0.3892176199868507,
          0.41091387245233396,
          0.4148586456278764,
          0.42077580539119,
          0.4339250493096647,
          0.4365548980933597,
          0.4523339907955292,
          0.4562787639710716,
          0.4589086127547666,
          0.46614069690992765,
          0.4661406969099277,
          0.4700854700854701,
          0.472715318869165,
          0.4760026298487837,
          0.485207100591716,
          0.4884944115713346,
          0.4917817225509533,
          0.49506903353057197,
          0.4976988823142669,
          0.4983563445101907,
          0.4990138067061144,
          0.5016436554898094,
          0.5036160420775806,
          0.5101906640368179,
          0.5101906640368179,
          0.5154503616042078,
          0.5167652859960552,
          0.5167652859960552,
          0.5167652859960552,
          0.517422748191979,
          0.5207100591715976,
          0.5213675213675213,
          0.5259697567389875,
          0.5259697567389875,
          0.5285996055226824,
          0.5285996055226825,
          0.5285996055226825,
          0.5332018408941486,
          0.5345167652859961,
          0.5345167652859961,
          0.5364891518737672,
          0.5417488494411571,
          0.5437212360289283,
          0.544378698224852,
          0.5463510848126233,
          0.5489809335963182,
          0.5516107823800132,
          0.5555555555555556,
          0.559500328731098,
          0.569362261669954,
          0.5851413543721236,
          0.5900723208415515,
          0.5969756738987508
         ],
         "xaxis": "x2",
         "y": [
          "$PE\\alpha_{std}$",
          "$P3a_{std}$",
          "$wSMI\\theta_{std}$",
          "$\\gamma_{std}$",
          "$CNV_{std}$",
          "$SE_{std}$",
          "$P3a_{mean}$",
          "$|\\theta|_{mean}$",
          "$SEF95_{std}$",
          "$\\delta_{std}$",
          "$wSMI\\beta_{std}$",
          "$|\\beta|_{mean}$",
          "$P1_{std}$",
          "$|\\delta|_{mean}$",
          "$PE\\alpha_{mean}$",
          "$\\alpha_{std}$",
          "$wSMI\\gamma_{std}$",
          "$|\\beta|_{std}$",
          "$PE\\theta_{std}$",
          "$|\\delta|_{std}$",
          "$\\theta_{mean}$",
          "$SEF90_{std}$",
          "$PE\\beta_{std}$",
          "$K_{mean}$",
          "$PE\\beta_{mean}$",
          "$P3b_{std}$",
          "$CNV_{mean}$",
          "$PE\\gamma_{mean}$",
          "$MSF_{std}$",
          "$|\\gamma|_{std}$",
          "$SEF95_{mean}$",
          "$wSMI\\gamma_{mean}$",
          "$P1_{mean}$",
          "$|\\gamma|_{mean}$",
          "$\\beta_{mean}$",
          "$wSMI\\theta_{mean}$",
          "$SEF90_{mean}$",
          "$|\\alpha|_{mean}$",
          "$SE_{mean}$",
          "$|\\alpha|_{std}$",
          "$\\alpha_{mean}$",
          "$wSMI\\beta_{mean}$",
          "$\\gamma_{mean}$",
          "$wSMI\\alpha_{mean}$",
          "$MSF_{mean}$",
          "$PE\\theta_{mean}$",
          "$\\beta_{std}$",
          "$wSMI\\alpha_{std}$",
          "$\\theta_{std}$",
          "$\\delta_{mean}$",
          "$|\\theta|_{std}$",
          "$K_{std}$",
          "$PE\\gamma_{std}$"
         ],
         "yaxis": "y2"
        },
        {
         "hovertemplate": "balance=under-sample<br>significant=p < 0.05 uncorrected<br>dMW>about-task                  dMW<about-task=%{x}<br>markers=%{y}<extra></extra>",
         "legendgroup": "under-sample, p < 0.05 uncorrected",
         "marker": {
          "color": "#9AC529",
          "size": 8,
          "symbol": "circle"
         },
         "mode": "markers",
         "name": "under-sample, p < 0.05 uncorrected",
         "orientation": "h",
         "showlegend": true,
         "type": "scatter",
         "x": [
          0.6870479947403024
         ],
         "xaxis": "x2",
         "y": [
          "$P3b_{mean}$"
         ],
         "yaxis": "y2"
        },
        {
         "hovertemplate": "balance=over-sample<br>significant=p > 0.05<br>dMW>about-task                  dMW<about-task=%{x}<br>markers=%{y}<extra></extra>",
         "legendgroup": "over-sample, p > 0.05",
         "marker": {
          "color": "#F38A31",
          "size": 8,
          "symbol": "circle-open"
         },
         "mode": "markers",
         "name": "over-sample, p > 0.05",
         "orientation": "h",
         "showlegend": true,
         "type": "scatter",
         "x": [
          0.4263831052944676,
          0.43396787626412847,
          0.4393218322427127,
          0.4454193932183224,
          0.44765020820939916,
          0.450029744199881,
          0.4623735871505057,
          0.4657941701368233,
          0.4675788221296847,
          0.4678762641284949,
          0.4689916716240334,
          0.47055324211778704,
          0.4712968471148126,
          0.4732302201070791,
          0.47323022010707916,
          0.47516359309934564,
          0.479476502082094,
          0.4843842950624628,
          0.4866151100535396,
          0.48720999405115994,
          0.4913741820345032,
          0.49204342653182626,
          0.49301011302795955,
          0.49360499702558003,
          0.4937537180249852,
          0.49895895300416426,
          0.5001487209994051,
          0.5041641879833433,
          0.5086258179654968,
          0.5111540749553838,
          0.5123438429506246,
          0.5145746579417013,
          0.5156157049375372,
          0.5297441998810232,
          0.5297441998810233,
          0.5328673408685307,
          0.5361392028554433,
          0.5423854848304581,
          0.5434265318262939,
          0.5495240928019036,
          0.5520523497917906,
          0.5560678167757287,
          0.5626115407495539,
          0.5737656157049374,
          0.5754015466983938,
          0.5759964306960142,
          0.587819750148721
         ],
         "xaxis": "x3",
         "y": [
          "$\\beta_{mean}$",
          "$CNV_{std}$",
          "$SEF95_{std}$",
          "$SEF90_{std}$",
          "$PE\\alpha_{mean}$",
          "$P3b_{std}$",
          "$|\\alpha|_{mean}$",
          "$|\\beta|_{std}$",
          "$|\\gamma|_{std}$",
          "$\\alpha_{mean}$",
          "$MSF_{mean}$",
          "$|\\alpha|_{std}$",
          "$wSMI\\gamma_{std}$",
          "$PE\\theta_{mean}$",
          "$PE\\alpha_{std}$",
          "$PE\\beta_{std}$",
          "$P3a_{mean}$",
          "$SE_{std}$",
          "$wSMI\\alpha_{std}$",
          "$\\theta_{mean}$",
          "$P1_{std}$",
          "$K_{mean}$",
          "$wSMI\\beta_{mean}$",
          "$PE\\theta_{std}$",
          "$wSMI\\alpha_{mean}$",
          "$SE_{mean}$",
          "$\\delta_{std}$",
          "$\\gamma_{mean}$",
          "$|\\delta|_{std}$",
          "$\\beta_{std}$",
          "$P1_{mean}$",
          "$wSMI\\theta_{mean}$",
          "$wSMI\\beta_{std}$",
          "$wSMI\\gamma_{mean}$",
          "$SEF90_{mean}$",
          "$PE\\gamma_{std}$",
          "$|\\delta|_{mean}$",
          "$|\\theta|_{mean}$",
          "$CNV_{mean}$",
          "$SEF95_{mean}$",
          "$MSF_{std}$",
          "$|\\gamma|_{mean}$",
          "$\\delta_{mean}$",
          "$PE\\gamma_{mean}$",
          "$\\theta_{std}$",
          "$PE\\beta_{mean}$",
          "$K_{std}$"
         ],
         "yaxis": "y3"
        },
        {
         "hovertemplate": "balance=over-sample<br>significant=p < 0.05 uncorrected<br>dMW>about-task                  dMW<about-task=%{x}<br>markers=%{y}<extra></extra>",
         "legendgroup": "over-sample, p < 0.05 uncorrected",
         "marker": {
          "color": "#F38A31",
          "size": 8,
          "symbol": "circle"
         },
         "mode": "markers",
         "name": "over-sample, p < 0.05 uncorrected",
         "orientation": "h",
         "showlegend": true,
         "type": "scatter",
         "x": [
          0.3774538964901844,
          0.3935157644259369,
          0.4015466983938132,
          0.40585960737656157,
          0.4082391433670434,
          0.6145151695419393,
          0.6390541344437836
         ],
         "xaxis": "x3",
         "y": [
          "$\\alpha_{std}$",
          "$P3a_{std}$",
          "$wSMI\\theta_{std}$",
          "$|\\beta|_{mean}$",
          "$\\gamma_{std}$",
          "$P3b_{mean}$",
          "$|\\theta|_{std}$"
         ],
         "yaxis": "y3"
        }
       ],
       "layout": {
        "annotations": [
         {
          "showarrow": false,
          "text": "balance=unbalance",
          "x": 0.15999999999999998,
          "xanchor": "center",
          "xref": "paper",
          "y": 1,
          "yanchor": "bottom",
          "yref": "paper"
         },
         {
          "showarrow": false,
          "text": "balance=under-sample",
          "x": 0.49999999999999994,
          "xanchor": "center",
          "xref": "paper",
          "y": 1,
          "yanchor": "bottom",
          "yref": "paper"
         },
         {
          "showarrow": false,
          "text": "balance=over-sample",
          "x": 0.8399999999999999,
          "xanchor": "center",
          "xref": "paper",
          "y": 1,
          "yanchor": "bottom",
          "yref": "paper"
         }
        ],
        "autosize": true,
        "height": 800,
        "legend": {
         "title": {
          "text": "balance, significant"
         },
         "tracegroupgap": 0
        },
        "margin": {
         "t": 60
        },
        "shapes": [
         {
          "line": {
           "color": "black",
           "dash": "dash",
           "width": 3
          },
          "type": "line",
          "x0": 0.5,
          "x1": 0.5,
          "xref": "x",
          "y0": 0,
          "y1": 1,
          "yref": "y domain"
         },
         {
          "line": {
           "color": "black",
           "dash": "dash",
           "width": 3
          },
          "type": "line",
          "x0": 0.5,
          "x1": 0.5,
          "xref": "x2",
          "y0": 0,
          "y1": 1,
          "yref": "y2 domain"
         },
         {
          "line": {
           "color": "black",
           "dash": "dash",
           "width": 3
          },
          "type": "line",
          "x0": 0.5,
          "x1": 0.5,
          "xref": "x3",
          "y0": 0,
          "y1": 1,
          "yref": "y3 domain"
         }
        ],
        "template": {
         "data": {
          "bar": [
           {
            "error_x": {
             "color": "#2a3f5f"
            },
            "error_y": {
             "color": "#2a3f5f"
            },
            "marker": {
             "line": {
              "color": "white",
              "width": 0.5
             },
             "pattern": {
              "fillmode": "overlay",
              "size": 10,
              "solidity": 0.2
             }
            },
            "type": "bar"
           }
          ],
          "barpolar": [
           {
            "marker": {
             "line": {
              "color": "white",
              "width": 0.5
             },
             "pattern": {
              "fillmode": "overlay",
              "size": 10,
              "solidity": 0.2
             }
            },
            "type": "barpolar"
           }
          ],
          "carpet": [
           {
            "aaxis": {
             "endlinecolor": "#2a3f5f",
             "gridcolor": "#C8D4E3",
             "linecolor": "#C8D4E3",
             "minorgridcolor": "#C8D4E3",
             "startlinecolor": "#2a3f5f"
            },
            "baxis": {
             "endlinecolor": "#2a3f5f",
             "gridcolor": "#C8D4E3",
             "linecolor": "#C8D4E3",
             "minorgridcolor": "#C8D4E3",
             "startlinecolor": "#2a3f5f"
            },
            "type": "carpet"
           }
          ],
          "choropleth": [
           {
            "colorbar": {
             "outlinewidth": 0,
             "ticks": ""
            },
            "type": "choropleth"
           }
          ],
          "contour": [
           {
            "colorbar": {
             "outlinewidth": 0,
             "ticks": ""
            },
            "colorscale": [
             [
              0,
              "#0d0887"
             ],
             [
              0.1111111111111111,
              "#46039f"
             ],
             [
              0.2222222222222222,
              "#7201a8"
             ],
             [
              0.3333333333333333,
              "#9c179e"
             ],
             [
              0.4444444444444444,
              "#bd3786"
             ],
             [
              0.5555555555555556,
              "#d8576b"
             ],
             [
              0.6666666666666666,
              "#ed7953"
             ],
             [
              0.7777777777777778,
              "#fb9f3a"
             ],
             [
              0.8888888888888888,
              "#fdca26"
             ],
             [
              1,
              "#f0f921"
             ]
            ],
            "type": "contour"
           }
          ],
          "contourcarpet": [
           {
            "colorbar": {
             "outlinewidth": 0,
             "ticks": ""
            },
            "type": "contourcarpet"
           }
          ],
          "heatmap": [
           {
            "colorbar": {
             "outlinewidth": 0,
             "ticks": ""
            },
            "colorscale": [
             [
              0,
              "#0d0887"
             ],
             [
              0.1111111111111111,
              "#46039f"
             ],
             [
              0.2222222222222222,
              "#7201a8"
             ],
             [
              0.3333333333333333,
              "#9c179e"
             ],
             [
              0.4444444444444444,
              "#bd3786"
             ],
             [
              0.5555555555555556,
              "#d8576b"
             ],
             [
              0.6666666666666666,
              "#ed7953"
             ],
             [
              0.7777777777777778,
              "#fb9f3a"
             ],
             [
              0.8888888888888888,
              "#fdca26"
             ],
             [
              1,
              "#f0f921"
             ]
            ],
            "type": "heatmap"
           }
          ],
          "heatmapgl": [
           {
            "colorbar": {
             "outlinewidth": 0,
             "ticks": ""
            },
            "colorscale": [
             [
              0,
              "#0d0887"
             ],
             [
              0.1111111111111111,
              "#46039f"
             ],
             [
              0.2222222222222222,
              "#7201a8"
             ],
             [
              0.3333333333333333,
              "#9c179e"
             ],
             [
              0.4444444444444444,
              "#bd3786"
             ],
             [
              0.5555555555555556,
              "#d8576b"
             ],
             [
              0.6666666666666666,
              "#ed7953"
             ],
             [
              0.7777777777777778,
              "#fb9f3a"
             ],
             [
              0.8888888888888888,
              "#fdca26"
             ],
             [
              1,
              "#f0f921"
             ]
            ],
            "type": "heatmapgl"
           }
          ],
          "histogram": [
           {
            "marker": {
             "pattern": {
              "fillmode": "overlay",
              "size": 10,
              "solidity": 0.2
             }
            },
            "type": "histogram"
           }
          ],
          "histogram2d": [
           {
            "colorbar": {
             "outlinewidth": 0,
             "ticks": ""
            },
            "colorscale": [
             [
              0,
              "#0d0887"
             ],
             [
              0.1111111111111111,
              "#46039f"
             ],
             [
              0.2222222222222222,
              "#7201a8"
             ],
             [
              0.3333333333333333,
              "#9c179e"
             ],
             [
              0.4444444444444444,
              "#bd3786"
             ],
             [
              0.5555555555555556,
              "#d8576b"
             ],
             [
              0.6666666666666666,
              "#ed7953"
             ],
             [
              0.7777777777777778,
              "#fb9f3a"
             ],
             [
              0.8888888888888888,
              "#fdca26"
             ],
             [
              1,
              "#f0f921"
             ]
            ],
            "type": "histogram2d"
           }
          ],
          "histogram2dcontour": [
           {
            "colorbar": {
             "outlinewidth": 0,
             "ticks": ""
            },
            "colorscale": [
             [
              0,
              "#0d0887"
             ],
             [
              0.1111111111111111,
              "#46039f"
             ],
             [
              0.2222222222222222,
              "#7201a8"
             ],
             [
              0.3333333333333333,
              "#9c179e"
             ],
             [
              0.4444444444444444,
              "#bd3786"
             ],
             [
              0.5555555555555556,
              "#d8576b"
             ],
             [
              0.6666666666666666,
              "#ed7953"
             ],
             [
              0.7777777777777778,
              "#fb9f3a"
             ],
             [
              0.8888888888888888,
              "#fdca26"
             ],
             [
              1,
              "#f0f921"
             ]
            ],
            "type": "histogram2dcontour"
           }
          ],
          "mesh3d": [
           {
            "colorbar": {
             "outlinewidth": 0,
             "ticks": ""
            },
            "type": "mesh3d"
           }
          ],
          "parcoords": [
           {
            "line": {
             "colorbar": {
              "outlinewidth": 0,
              "ticks": ""
             }
            },
            "type": "parcoords"
           }
          ],
          "pie": [
           {
            "automargin": true,
            "type": "pie"
           }
          ],
          "scatter": [
           {
            "fillpattern": {
             "fillmode": "overlay",
             "size": 10,
             "solidity": 0.2
            },
            "type": "scatter"
           }
          ],
          "scatter3d": [
           {
            "line": {
             "colorbar": {
              "outlinewidth": 0,
              "ticks": ""
             }
            },
            "marker": {
             "colorbar": {
              "outlinewidth": 0,
              "ticks": ""
             }
            },
            "type": "scatter3d"
           }
          ],
          "scattercarpet": [
           {
            "marker": {
             "colorbar": {
              "outlinewidth": 0,
              "ticks": ""
             }
            },
            "type": "scattercarpet"
           }
          ],
          "scattergeo": [
           {
            "marker": {
             "colorbar": {
              "outlinewidth": 0,
              "ticks": ""
             }
            },
            "type": "scattergeo"
           }
          ],
          "scattergl": [
           {
            "marker": {
             "colorbar": {
              "outlinewidth": 0,
              "ticks": ""
             }
            },
            "type": "scattergl"
           }
          ],
          "scattermapbox": [
           {
            "marker": {
             "colorbar": {
              "outlinewidth": 0,
              "ticks": ""
             }
            },
            "type": "scattermapbox"
           }
          ],
          "scatterpolar": [
           {
            "marker": {
             "colorbar": {
              "outlinewidth": 0,
              "ticks": ""
             }
            },
            "type": "scatterpolar"
           }
          ],
          "scatterpolargl": [
           {
            "marker": {
             "colorbar": {
              "outlinewidth": 0,
              "ticks": ""
             }
            },
            "type": "scatterpolargl"
           }
          ],
          "scatterternary": [
           {
            "marker": {
             "colorbar": {
              "outlinewidth": 0,
              "ticks": ""
             }
            },
            "type": "scatterternary"
           }
          ],
          "surface": [
           {
            "colorbar": {
             "outlinewidth": 0,
             "ticks": ""
            },
            "colorscale": [
             [
              0,
              "#0d0887"
             ],
             [
              0.1111111111111111,
              "#46039f"
             ],
             [
              0.2222222222222222,
              "#7201a8"
             ],
             [
              0.3333333333333333,
              "#9c179e"
             ],
             [
              0.4444444444444444,
              "#bd3786"
             ],
             [
              0.5555555555555556,
              "#d8576b"
             ],
             [
              0.6666666666666666,
              "#ed7953"
             ],
             [
              0.7777777777777778,
              "#fb9f3a"
             ],
             [
              0.8888888888888888,
              "#fdca26"
             ],
             [
              1,
              "#f0f921"
             ]
            ],
            "type": "surface"
           }
          ],
          "table": [
           {
            "cells": {
             "fill": {
              "color": "#EBF0F8"
             },
             "line": {
              "color": "white"
             }
            },
            "header": {
             "fill": {
              "color": "#C8D4E3"
             },
             "line": {
              "color": "white"
             }
            },
            "type": "table"
           }
          ]
         },
         "layout": {
          "annotationdefaults": {
           "arrowcolor": "#2a3f5f",
           "arrowhead": 0,
           "arrowwidth": 1
          },
          "autotypenumbers": "strict",
          "coloraxis": {
           "colorbar": {
            "outlinewidth": 0,
            "ticks": ""
           }
          },
          "colorscale": {
           "diverging": [
            [
             0,
             "#8e0152"
            ],
            [
             0.1,
             "#c51b7d"
            ],
            [
             0.2,
             "#de77ae"
            ],
            [
             0.3,
             "#f1b6da"
            ],
            [
             0.4,
             "#fde0ef"
            ],
            [
             0.5,
             "#f7f7f7"
            ],
            [
             0.6,
             "#e6f5d0"
            ],
            [
             0.7,
             "#b8e186"
            ],
            [
             0.8,
             "#7fbc41"
            ],
            [
             0.9,
             "#4d9221"
            ],
            [
             1,
             "#276419"
            ]
           ],
           "sequential": [
            [
             0,
             "#0d0887"
            ],
            [
             0.1111111111111111,
             "#46039f"
            ],
            [
             0.2222222222222222,
             "#7201a8"
            ],
            [
             0.3333333333333333,
             "#9c179e"
            ],
            [
             0.4444444444444444,
             "#bd3786"
            ],
            [
             0.5555555555555556,
             "#d8576b"
            ],
            [
             0.6666666666666666,
             "#ed7953"
            ],
            [
             0.7777777777777778,
             "#fb9f3a"
            ],
            [
             0.8888888888888888,
             "#fdca26"
            ],
            [
             1,
             "#f0f921"
            ]
           ],
           "sequentialminus": [
            [
             0,
             "#0d0887"
            ],
            [
             0.1111111111111111,
             "#46039f"
            ],
            [
             0.2222222222222222,
             "#7201a8"
            ],
            [
             0.3333333333333333,
             "#9c179e"
            ],
            [
             0.4444444444444444,
             "#bd3786"
            ],
            [
             0.5555555555555556,
             "#d8576b"
            ],
            [
             0.6666666666666666,
             "#ed7953"
            ],
            [
             0.7777777777777778,
             "#fb9f3a"
            ],
            [
             0.8888888888888888,
             "#fdca26"
            ],
            [
             1,
             "#f0f921"
            ]
           ]
          },
          "colorway": [
           "#636efa",
           "#EF553B",
           "#00cc96",
           "#ab63fa",
           "#FFA15A",
           "#19d3f3",
           "#FF6692",
           "#B6E880",
           "#FF97FF",
           "#FECB52"
          ],
          "font": {
           "color": "#2a3f5f"
          },
          "geo": {
           "bgcolor": "white",
           "lakecolor": "white",
           "landcolor": "white",
           "showlakes": true,
           "showland": true,
           "subunitcolor": "#C8D4E3"
          },
          "hoverlabel": {
           "align": "left"
          },
          "hovermode": "closest",
          "mapbox": {
           "style": "light"
          },
          "paper_bgcolor": "white",
          "plot_bgcolor": "white",
          "polar": {
           "angularaxis": {
            "gridcolor": "#EBF0F8",
            "linecolor": "#EBF0F8",
            "ticks": ""
           },
           "bgcolor": "white",
           "radialaxis": {
            "gridcolor": "#EBF0F8",
            "linecolor": "#EBF0F8",
            "ticks": ""
           }
          },
          "scene": {
           "xaxis": {
            "backgroundcolor": "white",
            "gridcolor": "#DFE8F3",
            "gridwidth": 2,
            "linecolor": "#EBF0F8",
            "showbackground": true,
            "ticks": "",
            "zerolinecolor": "#EBF0F8"
           },
           "yaxis": {
            "backgroundcolor": "white",
            "gridcolor": "#DFE8F3",
            "gridwidth": 2,
            "linecolor": "#EBF0F8",
            "showbackground": true,
            "ticks": "",
            "zerolinecolor": "#EBF0F8"
           },
           "zaxis": {
            "backgroundcolor": "white",
            "gridcolor": "#DFE8F3",
            "gridwidth": 2,
            "linecolor": "#EBF0F8",
            "showbackground": true,
            "ticks": "",
            "zerolinecolor": "#EBF0F8"
           }
          },
          "shapedefaults": {
           "line": {
            "color": "#2a3f5f"
           }
          },
          "ternary": {
           "aaxis": {
            "gridcolor": "#DFE8F3",
            "linecolor": "#A2B1C6",
            "ticks": ""
           },
           "baxis": {
            "gridcolor": "#DFE8F3",
            "linecolor": "#A2B1C6",
            "ticks": ""
           },
           "bgcolor": "white",
           "caxis": {
            "gridcolor": "#DFE8F3",
            "linecolor": "#A2B1C6",
            "ticks": ""
           }
          },
          "title": {
           "x": 0.05
          },
          "xaxis": {
           "automargin": true,
           "gridcolor": "#EBF0F8",
           "linecolor": "#EBF0F8",
           "ticks": "",
           "title": {
            "standoff": 15
           },
           "zerolinecolor": "#EBF0F8",
           "zerolinewidth": 2
          },
          "yaxis": {
           "automargin": true,
           "gridcolor": "#EBF0F8",
           "linecolor": "#EBF0F8",
           "ticks": "",
           "title": {
            "standoff": 15
           },
           "zerolinecolor": "#EBF0F8",
           "zerolinewidth": 2
          }
         }
        },
        "title": {
         "text": "dMW vs about-task(39,82"
        },
        "width": 1600,
        "xaxis": {
         "anchor": "y",
         "domain": [
          0,
          0.31999999999999995
         ],
         "title": {
          "text": "dMW>about-task                  dMW<about-task"
         }
        },
        "xaxis2": {
         "anchor": "y2",
         "domain": [
          0.33999999999999997,
          0.6599999999999999
         ],
         "matches": "x",
         "title": {
          "text": "dMW>about-task                  dMW<about-task"
         }
        },
        "xaxis3": {
         "anchor": "y3",
         "domain": [
          0.6799999999999999,
          0.9999999999999999
         ],
         "matches": "x",
         "title": {
          "text": "dMW>about-task                  dMW<about-task"
         }
        },
        "yaxis": {
         "anchor": "x",
         "domain": [
          0,
          1
         ],
         "showticklabels": true,
         "tickmode": "linear",
         "title": {
          "text": "markers"
         }
        },
        "yaxis2": {
         "anchor": "x2",
         "domain": [
          0,
          1
         ],
         "matches": "y",
         "showticklabels": false
        },
        "yaxis3": {
         "anchor": "x3",
         "domain": [
          0,
          1
         ],
         "matches": "y",
         "showticklabels": false
        }
       }
      },
      "text/html": [
       "<div>                            <div id=\"587ad07d-e3dd-4b96-8f05-a06514aa19e2\" class=\"plotly-graph-div\" style=\"height:800px; width:1600px;\"></div>            <script type=\"text/javascript\">                require([\"plotly\"], function(Plotly) {                    window.PLOTLYENV=window.PLOTLYENV || {};                                    if (document.getElementById(\"587ad07d-e3dd-4b96-8f05-a06514aa19e2\")) {                    Plotly.newPlot(                        \"587ad07d-e3dd-4b96-8f05-a06514aa19e2\",                        [{\"hovertemplate\":\"balance=unbalance<br>significant=p > 0.05<br>dMW>about-task                  dMW<about-task=%{x}<br>markers=%{y}<extra></extra>\",\"legendgroup\":\"unbalance, p > 0.05\",\"marker\":{\"color\":\"#DE237B\",\"symbol\":\"circle-open\",\"size\":8},\"mode\":\"markers\",\"name\":\"unbalance, p > 0.05\",\"orientation\":\"h\",\"showlegend\":true,\"x\":[0.40181363352095056,0.407754846779237,0.41213258286429016,0.4165103189493433,0.4324577861163227,0.4455909943714822,0.45278298936835526,0.4606003752345216,0.46247654784240144,0.46904315196998125,0.4718574108818011,0.47217010631644774,0.4743589743589744,0.4771732332707943,0.4781113195747342,0.47811131957473424,0.4790494058786741,0.4809255784865541,0.4809255784865541,0.4812382739212008,0.4824890556597874,0.4828017510944341,0.4890556597873671,0.492808005003127,0.4931207004377736,0.49374609130706687,0.49624765478424016,0.4965603502188868,0.49656035021888684,0.49687304565353346,0.5006253908692933,0.5046904315196998,0.5053158223889931,0.5070356472795496,0.5078173858661664,0.5109443402126329,0.5150093808630394,0.515322076297686,0.515322076297686,0.5175109443402126,0.5187617260787992,0.5297060662914321,0.5315822388993121,0.5393996247654784,0.540650406504065,0.5437773608505316,0.547842401500938,0.549718574108818,0.5509693558474046,0.555972482801751,0.5584740462789243,0.5753595997498436,0.6044402751719826],\"xaxis\":\"x\",\"y\":[\"$wSMI\\\\theta_{std}$\",\"$\\\\alpha_{std}$\",\"$CNV_{std}$\",\"$P3a_{std}$\",\"$PE\\\\alpha_{std}$\",\"$\\\\gamma_{std}$\",\"$|\\\\beta|_{mean}$\",\"$|\\\\alpha|_{std}$\",\"$P1_{std}$\",\"$SE_{std}$\",\"$P3b_{std}$\",\"$\\\\theta_{mean}$\",\"$PE\\\\theta_{std}$\",\"$\\\\beta_{mean}$\",\"$\\\\delta_{std}$\",\"$wSMI\\\\gamma_{std}$\",\"$|\\\\alpha|_{mean}$\",\"$P3a_{mean}$\",\"$PE\\\\alpha_{mean}$\",\"$SEF95_{std}$\",\"$\\\\alpha_{mean}$\",\"$wSMI\\\\alpha_{mean}$\",\"$|\\\\beta|_{std}$\",\"$wSMI\\\\beta_{std}$\",\"$|\\\\delta|_{std}$\",\"$PE\\\\beta_{std}$\",\"$SEF90_{std}$\",\"$|\\\\theta|_{mean}$\",\"$K_{mean}$\",\"$PE\\\\theta_{mean}$\",\"$wSMI\\\\beta_{mean}$\",\"$\\\\beta_{std}$\",\"$|\\\\delta|_{mean}$\",\"$MSF_{mean}$\",\"$wSMI\\\\alpha_{std}$\",\"$wSMI\\\\theta_{mean}$\",\"$P1_{mean}$\",\"$wSMI\\\\gamma_{mean}$\",\"$SE_{mean}$\",\"$\\\\gamma_{mean}$\",\"$|\\\\gamma|_{std}$\",\"$MSF_{std}$\",\"$PE\\\\gamma_{mean}$\",\"$CNV_{mean}$\",\"$SEF90_{mean}$\",\"$\\\\delta_{mean}$\",\"$SEF95_{mean}$\",\"$PE\\\\beta_{mean}$\",\"$|\\\\gamma|_{mean}$\",\"$PE\\\\gamma_{std}$\",\"$\\\\theta_{std}$\",\"$K_{std}$\",\"$|\\\\theta|_{std}$\"],\"yaxis\":\"y\",\"type\":\"scatter\"},{\"hovertemplate\":\"balance=unbalance<br>significant=p < 0.05 uncorrected<br>dMW>about-task                  dMW<about-task=%{x}<br>markers=%{y}<extra></extra>\",\"legendgroup\":\"unbalance, p < 0.05 uncorrected\",\"marker\":{\"color\":\"#DE237B\",\"symbol\":\"circle\",\"size\":8},\"mode\":\"markers\",\"name\":\"unbalance, p < 0.05 uncorrected\",\"orientation\":\"h\",\"showlegend\":true,\"x\":[0.651031894934334],\"xaxis\":\"x\",\"y\":[\"$P3b_{mean}$\"],\"yaxis\":\"y\",\"type\":\"scatter\"},{\"hovertemplate\":\"balance=under-sample<br>significant=p > 0.05<br>dMW>about-task                  dMW<about-task=%{x}<br>markers=%{y}<extra></extra>\",\"legendgroup\":\"under-sample, p > 0.05\",\"marker\":{\"color\":\"#9AC529\",\"symbol\":\"circle-open\",\"size\":8},\"mode\":\"markers\",\"name\":\"under-sample, p > 0.05\",\"orientation\":\"h\",\"showlegend\":true,\"x\":[0.3892176199868507,0.41091387245233396,0.4148586456278764,0.42077580539119,0.4339250493096647,0.4365548980933597,0.4523339907955292,0.4562787639710716,0.4589086127547666,0.46614069690992765,0.4661406969099277,0.4700854700854701,0.472715318869165,0.4760026298487837,0.485207100591716,0.4884944115713346,0.4917817225509533,0.49506903353057197,0.4976988823142669,0.4983563445101907,0.4990138067061144,0.5016436554898094,0.5036160420775806,0.5101906640368179,0.5101906640368179,0.5154503616042078,0.5167652859960552,0.5167652859960552,0.5167652859960552,0.517422748191979,0.5207100591715976,0.5213675213675213,0.5259697567389875,0.5259697567389875,0.5285996055226824,0.5285996055226825,0.5285996055226825,0.5332018408941486,0.5345167652859961,0.5345167652859961,0.5364891518737672,0.5417488494411571,0.5437212360289283,0.544378698224852,0.5463510848126233,0.5489809335963182,0.5516107823800132,0.5555555555555556,0.559500328731098,0.569362261669954,0.5851413543721236,0.5900723208415515,0.5969756738987508],\"xaxis\":\"x2\",\"y\":[\"$PE\\\\alpha_{std}$\",\"$P3a_{std}$\",\"$wSMI\\\\theta_{std}$\",\"$\\\\gamma_{std}$\",\"$CNV_{std}$\",\"$SE_{std}$\",\"$P3a_{mean}$\",\"$|\\\\theta|_{mean}$\",\"$SEF95_{std}$\",\"$\\\\delta_{std}$\",\"$wSMI\\\\beta_{std}$\",\"$|\\\\beta|_{mean}$\",\"$P1_{std}$\",\"$|\\\\delta|_{mean}$\",\"$PE\\\\alpha_{mean}$\",\"$\\\\alpha_{std}$\",\"$wSMI\\\\gamma_{std}$\",\"$|\\\\beta|_{std}$\",\"$PE\\\\theta_{std}$\",\"$|\\\\delta|_{std}$\",\"$\\\\theta_{mean}$\",\"$SEF90_{std}$\",\"$PE\\\\beta_{std}$\",\"$K_{mean}$\",\"$PE\\\\beta_{mean}$\",\"$P3b_{std}$\",\"$CNV_{mean}$\",\"$PE\\\\gamma_{mean}$\",\"$MSF_{std}$\",\"$|\\\\gamma|_{std}$\",\"$SEF95_{mean}$\",\"$wSMI\\\\gamma_{mean}$\",\"$P1_{mean}$\",\"$|\\\\gamma|_{mean}$\",\"$\\\\beta_{mean}$\",\"$wSMI\\\\theta_{mean}$\",\"$SEF90_{mean}$\",\"$|\\\\alpha|_{mean}$\",\"$SE_{mean}$\",\"$|\\\\alpha|_{std}$\",\"$\\\\alpha_{mean}$\",\"$wSMI\\\\beta_{mean}$\",\"$\\\\gamma_{mean}$\",\"$wSMI\\\\alpha_{mean}$\",\"$MSF_{mean}$\",\"$PE\\\\theta_{mean}$\",\"$\\\\beta_{std}$\",\"$wSMI\\\\alpha_{std}$\",\"$\\\\theta_{std}$\",\"$\\\\delta_{mean}$\",\"$|\\\\theta|_{std}$\",\"$K_{std}$\",\"$PE\\\\gamma_{std}$\"],\"yaxis\":\"y2\",\"type\":\"scatter\"},{\"hovertemplate\":\"balance=under-sample<br>significant=p < 0.05 uncorrected<br>dMW>about-task                  dMW<about-task=%{x}<br>markers=%{y}<extra></extra>\",\"legendgroup\":\"under-sample, p < 0.05 uncorrected\",\"marker\":{\"color\":\"#9AC529\",\"symbol\":\"circle\",\"size\":8},\"mode\":\"markers\",\"name\":\"under-sample, p < 0.05 uncorrected\",\"orientation\":\"h\",\"showlegend\":true,\"x\":[0.6870479947403024],\"xaxis\":\"x2\",\"y\":[\"$P3b_{mean}$\"],\"yaxis\":\"y2\",\"type\":\"scatter\"},{\"hovertemplate\":\"balance=over-sample<br>significant=p > 0.05<br>dMW>about-task                  dMW<about-task=%{x}<br>markers=%{y}<extra></extra>\",\"legendgroup\":\"over-sample, p > 0.05\",\"marker\":{\"color\":\"#F38A31\",\"symbol\":\"circle-open\",\"size\":8},\"mode\":\"markers\",\"name\":\"over-sample, p > 0.05\",\"orientation\":\"h\",\"showlegend\":true,\"x\":[0.4263831052944676,0.43396787626412847,0.4393218322427127,0.4454193932183224,0.44765020820939916,0.450029744199881,0.4623735871505057,0.4657941701368233,0.4675788221296847,0.4678762641284949,0.4689916716240334,0.47055324211778704,0.4712968471148126,0.4732302201070791,0.47323022010707916,0.47516359309934564,0.479476502082094,0.4843842950624628,0.4866151100535396,0.48720999405115994,0.4913741820345032,0.49204342653182626,0.49301011302795955,0.49360499702558003,0.4937537180249852,0.49895895300416426,0.5001487209994051,0.5041641879833433,0.5086258179654968,0.5111540749553838,0.5123438429506246,0.5145746579417013,0.5156157049375372,0.5297441998810232,0.5297441998810233,0.5328673408685307,0.5361392028554433,0.5423854848304581,0.5434265318262939,0.5495240928019036,0.5520523497917906,0.5560678167757287,0.5626115407495539,0.5737656157049374,0.5754015466983938,0.5759964306960142,0.587819750148721],\"xaxis\":\"x3\",\"y\":[\"$\\\\beta_{mean}$\",\"$CNV_{std}$\",\"$SEF95_{std}$\",\"$SEF90_{std}$\",\"$PE\\\\alpha_{mean}$\",\"$P3b_{std}$\",\"$|\\\\alpha|_{mean}$\",\"$|\\\\beta|_{std}$\",\"$|\\\\gamma|_{std}$\",\"$\\\\alpha_{mean}$\",\"$MSF_{mean}$\",\"$|\\\\alpha|_{std}$\",\"$wSMI\\\\gamma_{std}$\",\"$PE\\\\theta_{mean}$\",\"$PE\\\\alpha_{std}$\",\"$PE\\\\beta_{std}$\",\"$P3a_{mean}$\",\"$SE_{std}$\",\"$wSMI\\\\alpha_{std}$\",\"$\\\\theta_{mean}$\",\"$P1_{std}$\",\"$K_{mean}$\",\"$wSMI\\\\beta_{mean}$\",\"$PE\\\\theta_{std}$\",\"$wSMI\\\\alpha_{mean}$\",\"$SE_{mean}$\",\"$\\\\delta_{std}$\",\"$\\\\gamma_{mean}$\",\"$|\\\\delta|_{std}$\",\"$\\\\beta_{std}$\",\"$P1_{mean}$\",\"$wSMI\\\\theta_{mean}$\",\"$wSMI\\\\beta_{std}$\",\"$wSMI\\\\gamma_{mean}$\",\"$SEF90_{mean}$\",\"$PE\\\\gamma_{std}$\",\"$|\\\\delta|_{mean}$\",\"$|\\\\theta|_{mean}$\",\"$CNV_{mean}$\",\"$SEF95_{mean}$\",\"$MSF_{std}$\",\"$|\\\\gamma|_{mean}$\",\"$\\\\delta_{mean}$\",\"$PE\\\\gamma_{mean}$\",\"$\\\\theta_{std}$\",\"$PE\\\\beta_{mean}$\",\"$K_{std}$\"],\"yaxis\":\"y3\",\"type\":\"scatter\"},{\"hovertemplate\":\"balance=over-sample<br>significant=p < 0.05 uncorrected<br>dMW>about-task                  dMW<about-task=%{x}<br>markers=%{y}<extra></extra>\",\"legendgroup\":\"over-sample, p < 0.05 uncorrected\",\"marker\":{\"color\":\"#F38A31\",\"symbol\":\"circle\",\"size\":8},\"mode\":\"markers\",\"name\":\"over-sample, p < 0.05 uncorrected\",\"orientation\":\"h\",\"showlegend\":true,\"x\":[0.3774538964901844,0.3935157644259369,0.4015466983938132,0.40585960737656157,0.4082391433670434,0.6145151695419393,0.6390541344437836],\"xaxis\":\"x3\",\"y\":[\"$\\\\alpha_{std}$\",\"$P3a_{std}$\",\"$wSMI\\\\theta_{std}$\",\"$|\\\\beta|_{mean}$\",\"$\\\\gamma_{std}$\",\"$P3b_{mean}$\",\"$|\\\\theta|_{std}$\"],\"yaxis\":\"y3\",\"type\":\"scatter\"}],                        {\"template\":{\"data\":{\"barpolar\":[{\"marker\":{\"line\":{\"color\":\"white\",\"width\":0.5},\"pattern\":{\"fillmode\":\"overlay\",\"size\":10,\"solidity\":0.2}},\"type\":\"barpolar\"}],\"bar\":[{\"error_x\":{\"color\":\"#2a3f5f\"},\"error_y\":{\"color\":\"#2a3f5f\"},\"marker\":{\"line\":{\"color\":\"white\",\"width\":0.5},\"pattern\":{\"fillmode\":\"overlay\",\"size\":10,\"solidity\":0.2}},\"type\":\"bar\"}],\"carpet\":[{\"aaxis\":{\"endlinecolor\":\"#2a3f5f\",\"gridcolor\":\"#C8D4E3\",\"linecolor\":\"#C8D4E3\",\"minorgridcolor\":\"#C8D4E3\",\"startlinecolor\":\"#2a3f5f\"},\"baxis\":{\"endlinecolor\":\"#2a3f5f\",\"gridcolor\":\"#C8D4E3\",\"linecolor\":\"#C8D4E3\",\"minorgridcolor\":\"#C8D4E3\",\"startlinecolor\":\"#2a3f5f\"},\"type\":\"carpet\"}],\"choropleth\":[{\"colorbar\":{\"outlinewidth\":0,\"ticks\":\"\"},\"type\":\"choropleth\"}],\"contourcarpet\":[{\"colorbar\":{\"outlinewidth\":0,\"ticks\":\"\"},\"type\":\"contourcarpet\"}],\"contour\":[{\"colorbar\":{\"outlinewidth\":0,\"ticks\":\"\"},\"colorscale\":[[0.0,\"#0d0887\"],[0.1111111111111111,\"#46039f\"],[0.2222222222222222,\"#7201a8\"],[0.3333333333333333,\"#9c179e\"],[0.4444444444444444,\"#bd3786\"],[0.5555555555555556,\"#d8576b\"],[0.6666666666666666,\"#ed7953\"],[0.7777777777777778,\"#fb9f3a\"],[0.8888888888888888,\"#fdca26\"],[1.0,\"#f0f921\"]],\"type\":\"contour\"}],\"heatmapgl\":[{\"colorbar\":{\"outlinewidth\":0,\"ticks\":\"\"},\"colorscale\":[[0.0,\"#0d0887\"],[0.1111111111111111,\"#46039f\"],[0.2222222222222222,\"#7201a8\"],[0.3333333333333333,\"#9c179e\"],[0.4444444444444444,\"#bd3786\"],[0.5555555555555556,\"#d8576b\"],[0.6666666666666666,\"#ed7953\"],[0.7777777777777778,\"#fb9f3a\"],[0.8888888888888888,\"#fdca26\"],[1.0,\"#f0f921\"]],\"type\":\"heatmapgl\"}],\"heatmap\":[{\"colorbar\":{\"outlinewidth\":0,\"ticks\":\"\"},\"colorscale\":[[0.0,\"#0d0887\"],[0.1111111111111111,\"#46039f\"],[0.2222222222222222,\"#7201a8\"],[0.3333333333333333,\"#9c179e\"],[0.4444444444444444,\"#bd3786\"],[0.5555555555555556,\"#d8576b\"],[0.6666666666666666,\"#ed7953\"],[0.7777777777777778,\"#fb9f3a\"],[0.8888888888888888,\"#fdca26\"],[1.0,\"#f0f921\"]],\"type\":\"heatmap\"}],\"histogram2dcontour\":[{\"colorbar\":{\"outlinewidth\":0,\"ticks\":\"\"},\"colorscale\":[[0.0,\"#0d0887\"],[0.1111111111111111,\"#46039f\"],[0.2222222222222222,\"#7201a8\"],[0.3333333333333333,\"#9c179e\"],[0.4444444444444444,\"#bd3786\"],[0.5555555555555556,\"#d8576b\"],[0.6666666666666666,\"#ed7953\"],[0.7777777777777778,\"#fb9f3a\"],[0.8888888888888888,\"#fdca26\"],[1.0,\"#f0f921\"]],\"type\":\"histogram2dcontour\"}],\"histogram2d\":[{\"colorbar\":{\"outlinewidth\":0,\"ticks\":\"\"},\"colorscale\":[[0.0,\"#0d0887\"],[0.1111111111111111,\"#46039f\"],[0.2222222222222222,\"#7201a8\"],[0.3333333333333333,\"#9c179e\"],[0.4444444444444444,\"#bd3786\"],[0.5555555555555556,\"#d8576b\"],[0.6666666666666666,\"#ed7953\"],[0.7777777777777778,\"#fb9f3a\"],[0.8888888888888888,\"#fdca26\"],[1.0,\"#f0f921\"]],\"type\":\"histogram2d\"}],\"histogram\":[{\"marker\":{\"pattern\":{\"fillmode\":\"overlay\",\"size\":10,\"solidity\":0.2}},\"type\":\"histogram\"}],\"mesh3d\":[{\"colorbar\":{\"outlinewidth\":0,\"ticks\":\"\"},\"type\":\"mesh3d\"}],\"parcoords\":[{\"line\":{\"colorbar\":{\"outlinewidth\":0,\"ticks\":\"\"}},\"type\":\"parcoords\"}],\"pie\":[{\"automargin\":true,\"type\":\"pie\"}],\"scatter3d\":[{\"line\":{\"colorbar\":{\"outlinewidth\":0,\"ticks\":\"\"}},\"marker\":{\"colorbar\":{\"outlinewidth\":0,\"ticks\":\"\"}},\"type\":\"scatter3d\"}],\"scattercarpet\":[{\"marker\":{\"colorbar\":{\"outlinewidth\":0,\"ticks\":\"\"}},\"type\":\"scattercarpet\"}],\"scattergeo\":[{\"marker\":{\"colorbar\":{\"outlinewidth\":0,\"ticks\":\"\"}},\"type\":\"scattergeo\"}],\"scattergl\":[{\"marker\":{\"colorbar\":{\"outlinewidth\":0,\"ticks\":\"\"}},\"type\":\"scattergl\"}],\"scattermapbox\":[{\"marker\":{\"colorbar\":{\"outlinewidth\":0,\"ticks\":\"\"}},\"type\":\"scattermapbox\"}],\"scatterpolargl\":[{\"marker\":{\"colorbar\":{\"outlinewidth\":0,\"ticks\":\"\"}},\"type\":\"scatterpolargl\"}],\"scatterpolar\":[{\"marker\":{\"colorbar\":{\"outlinewidth\":0,\"ticks\":\"\"}},\"type\":\"scatterpolar\"}],\"scatter\":[{\"fillpattern\":{\"fillmode\":\"overlay\",\"size\":10,\"solidity\":0.2},\"type\":\"scatter\"}],\"scatterternary\":[{\"marker\":{\"colorbar\":{\"outlinewidth\":0,\"ticks\":\"\"}},\"type\":\"scatterternary\"}],\"surface\":[{\"colorbar\":{\"outlinewidth\":0,\"ticks\":\"\"},\"colorscale\":[[0.0,\"#0d0887\"],[0.1111111111111111,\"#46039f\"],[0.2222222222222222,\"#7201a8\"],[0.3333333333333333,\"#9c179e\"],[0.4444444444444444,\"#bd3786\"],[0.5555555555555556,\"#d8576b\"],[0.6666666666666666,\"#ed7953\"],[0.7777777777777778,\"#fb9f3a\"],[0.8888888888888888,\"#fdca26\"],[1.0,\"#f0f921\"]],\"type\":\"surface\"}],\"table\":[{\"cells\":{\"fill\":{\"color\":\"#EBF0F8\"},\"line\":{\"color\":\"white\"}},\"header\":{\"fill\":{\"color\":\"#C8D4E3\"},\"line\":{\"color\":\"white\"}},\"type\":\"table\"}]},\"layout\":{\"annotationdefaults\":{\"arrowcolor\":\"#2a3f5f\",\"arrowhead\":0,\"arrowwidth\":1},\"autotypenumbers\":\"strict\",\"coloraxis\":{\"colorbar\":{\"outlinewidth\":0,\"ticks\":\"\"}},\"colorscale\":{\"diverging\":[[0,\"#8e0152\"],[0.1,\"#c51b7d\"],[0.2,\"#de77ae\"],[0.3,\"#f1b6da\"],[0.4,\"#fde0ef\"],[0.5,\"#f7f7f7\"],[0.6,\"#e6f5d0\"],[0.7,\"#b8e186\"],[0.8,\"#7fbc41\"],[0.9,\"#4d9221\"],[1,\"#276419\"]],\"sequential\":[[0.0,\"#0d0887\"],[0.1111111111111111,\"#46039f\"],[0.2222222222222222,\"#7201a8\"],[0.3333333333333333,\"#9c179e\"],[0.4444444444444444,\"#bd3786\"],[0.5555555555555556,\"#d8576b\"],[0.6666666666666666,\"#ed7953\"],[0.7777777777777778,\"#fb9f3a\"],[0.8888888888888888,\"#fdca26\"],[1.0,\"#f0f921\"]],\"sequentialminus\":[[0.0,\"#0d0887\"],[0.1111111111111111,\"#46039f\"],[0.2222222222222222,\"#7201a8\"],[0.3333333333333333,\"#9c179e\"],[0.4444444444444444,\"#bd3786\"],[0.5555555555555556,\"#d8576b\"],[0.6666666666666666,\"#ed7953\"],[0.7777777777777778,\"#fb9f3a\"],[0.8888888888888888,\"#fdca26\"],[1.0,\"#f0f921\"]]},\"colorway\":[\"#636efa\",\"#EF553B\",\"#00cc96\",\"#ab63fa\",\"#FFA15A\",\"#19d3f3\",\"#FF6692\",\"#B6E880\",\"#FF97FF\",\"#FECB52\"],\"font\":{\"color\":\"#2a3f5f\"},\"geo\":{\"bgcolor\":\"white\",\"lakecolor\":\"white\",\"landcolor\":\"white\",\"showlakes\":true,\"showland\":true,\"subunitcolor\":\"#C8D4E3\"},\"hoverlabel\":{\"align\":\"left\"},\"hovermode\":\"closest\",\"mapbox\":{\"style\":\"light\"},\"paper_bgcolor\":\"white\",\"plot_bgcolor\":\"white\",\"polar\":{\"angularaxis\":{\"gridcolor\":\"#EBF0F8\",\"linecolor\":\"#EBF0F8\",\"ticks\":\"\"},\"bgcolor\":\"white\",\"radialaxis\":{\"gridcolor\":\"#EBF0F8\",\"linecolor\":\"#EBF0F8\",\"ticks\":\"\"}},\"scene\":{\"xaxis\":{\"backgroundcolor\":\"white\",\"gridcolor\":\"#DFE8F3\",\"gridwidth\":2,\"linecolor\":\"#EBF0F8\",\"showbackground\":true,\"ticks\":\"\",\"zerolinecolor\":\"#EBF0F8\"},\"yaxis\":{\"backgroundcolor\":\"white\",\"gridcolor\":\"#DFE8F3\",\"gridwidth\":2,\"linecolor\":\"#EBF0F8\",\"showbackground\":true,\"ticks\":\"\",\"zerolinecolor\":\"#EBF0F8\"},\"zaxis\":{\"backgroundcolor\":\"white\",\"gridcolor\":\"#DFE8F3\",\"gridwidth\":2,\"linecolor\":\"#EBF0F8\",\"showbackground\":true,\"ticks\":\"\",\"zerolinecolor\":\"#EBF0F8\"}},\"shapedefaults\":{\"line\":{\"color\":\"#2a3f5f\"}},\"ternary\":{\"aaxis\":{\"gridcolor\":\"#DFE8F3\",\"linecolor\":\"#A2B1C6\",\"ticks\":\"\"},\"baxis\":{\"gridcolor\":\"#DFE8F3\",\"linecolor\":\"#A2B1C6\",\"ticks\":\"\"},\"bgcolor\":\"white\",\"caxis\":{\"gridcolor\":\"#DFE8F3\",\"linecolor\":\"#A2B1C6\",\"ticks\":\"\"}},\"title\":{\"x\":0.05},\"xaxis\":{\"automargin\":true,\"gridcolor\":\"#EBF0F8\",\"linecolor\":\"#EBF0F8\",\"ticks\":\"\",\"title\":{\"standoff\":15},\"zerolinecolor\":\"#EBF0F8\",\"zerolinewidth\":2},\"yaxis\":{\"automargin\":true,\"gridcolor\":\"#EBF0F8\",\"linecolor\":\"#EBF0F8\",\"ticks\":\"\",\"title\":{\"standoff\":15},\"zerolinecolor\":\"#EBF0F8\",\"zerolinewidth\":2}}},\"xaxis\":{\"anchor\":\"y\",\"domain\":[0.0,0.31999999999999995],\"title\":{\"text\":\"dMW>about-task                  dMW<about-task\"}},\"yaxis\":{\"anchor\":\"x\",\"domain\":[0.0,1.0],\"title\":{\"text\":\"markers\"},\"showticklabels\":true,\"tickmode\":\"linear\"},\"xaxis2\":{\"anchor\":\"y2\",\"domain\":[0.33999999999999997,0.6599999999999999],\"matches\":\"x\",\"title\":{\"text\":\"dMW>about-task                  dMW<about-task\"}},\"yaxis2\":{\"anchor\":\"x2\",\"domain\":[0.0,1.0],\"matches\":\"y\",\"showticklabels\":false},\"xaxis3\":{\"anchor\":\"y3\",\"domain\":[0.6799999999999999,0.9999999999999999],\"matches\":\"x\",\"title\":{\"text\":\"dMW>about-task                  dMW<about-task\"}},\"yaxis3\":{\"anchor\":\"x3\",\"domain\":[0.0,1.0],\"matches\":\"y\",\"showticklabels\":false},\"annotations\":[{\"showarrow\":false,\"text\":\"balance=unbalance\",\"x\":0.15999999999999998,\"xanchor\":\"center\",\"xref\":\"paper\",\"y\":1.0,\"yanchor\":\"bottom\",\"yref\":\"paper\"},{\"showarrow\":false,\"text\":\"balance=under-sample\",\"x\":0.49999999999999994,\"xanchor\":\"center\",\"xref\":\"paper\",\"y\":1.0,\"yanchor\":\"bottom\",\"yref\":\"paper\"},{\"showarrow\":false,\"text\":\"balance=over-sample\",\"x\":0.8399999999999999,\"xanchor\":\"center\",\"xref\":\"paper\",\"y\":1.0,\"yanchor\":\"bottom\",\"yref\":\"paper\"}],\"legend\":{\"title\":{\"text\":\"balance, significant\"},\"tracegroupgap\":0},\"margin\":{\"t\":60},\"shapes\":[{\"line\":{\"color\":\"black\",\"dash\":\"dash\",\"width\":3},\"type\":\"line\",\"x0\":0.5,\"x1\":0.5,\"xref\":\"x\",\"y0\":0,\"y1\":1,\"yref\":\"y domain\"},{\"line\":{\"color\":\"black\",\"dash\":\"dash\",\"width\":3},\"type\":\"line\",\"x0\":0.5,\"x1\":0.5,\"xref\":\"x2\",\"y0\":0,\"y1\":1,\"yref\":\"y2 domain\"},{\"line\":{\"color\":\"black\",\"dash\":\"dash\",\"width\":3},\"type\":\"line\",\"x0\":0.5,\"x1\":0.5,\"xref\":\"x3\",\"y0\":0,\"y1\":1,\"yref\":\"y3 domain\"}],\"title\":{\"text\":\"dMW vs about-task(39,82\"},\"autosize\":true,\"width\":1600,\"height\":800},                        {\"responsive\": true}                    ).then(function(){\n",
       "                            \n",
       "var gd = document.getElementById('587ad07d-e3dd-4b96-8f05-a06514aa19e2');\n",
       "var x = new MutationObserver(function (mutations, observer) {{\n",
       "        var display = window.getComputedStyle(gd).display;\n",
       "        if (!display || display === 'none') {{\n",
       "            console.log([gd, 'removed!']);\n",
       "            Plotly.purge(gd);\n",
       "            observer.disconnect();\n",
       "        }}\n",
       "}});\n",
       "\n",
       "// Listen for the removal of the full notebook cells\n",
       "var notebookContainer = gd.closest('#notebook-container');\n",
       "if (notebookContainer) {{\n",
       "    x.observe(notebookContainer, {childList: true});\n",
       "}}\n",
       "\n",
       "// Listen for the clearing of the current output cell\n",
       "var outputEl = gd.closest('.output');\n",
       "if (outputEl) {{\n",
       "    x.observe(outputEl, {childList: true});\n",
       "}}\n",
       "\n",
       "                        })                };                });            </script>        </div>"
      ]
     },
     "metadata": {},
     "output_type": "display_data"
    },
    {
     "data": {
      "application/vnd.plotly.v1+json": {
       "config": {
        "plotlyServerURL": "https://plot.ly"
       },
       "data": [
        {
         "hovertemplate": "balance=unbalance<br>significant=p > 0.05<br>dMW>distracted                  dMW<distracted=%{x}<br>markers=%{y}<extra></extra>",
         "legendgroup": "unbalance, p > 0.05",
         "marker": {
          "color": "#DE237B",
          "size": 8,
          "symbol": "circle-open"
         },
         "mode": "markers",
         "name": "unbalance, p > 0.05",
         "orientation": "h",
         "showlegend": true,
         "type": "scatter",
         "x": [
          0.389423076923077,
          0.4198717948717949,
          0.42361111111111116,
          0.42467948717948717,
          0.4268162393162393,
          0.4305555555555556,
          0.4310897435897436,
          0.4391025641025641,
          0.4407051282051282,
          0.4551282051282051,
          0.4577991452991453,
          0.46153846153846156,
          0.46688034188034183,
          0.4706196581196581,
          0.4754273504273504,
          0.47916666666666663,
          0.48130341880341887,
          0.48237179487179493,
          0.48504273504273504,
          0.48771367521367526,
          0.49038461538461536,
          0.49412393162393164,
          0.4967948717948718,
          0.49946581196581197,
          0.49946581196581197,
          0.5021367521367522,
          0.5026709401709402,
          0.5048076923076923,
          0.5048076923076923,
          0.5106837606837606,
          0.5106837606837606,
          0.5117521367521367,
          0.5122863247863249,
          0.514423076923077,
          0.5154914529914529,
          0.516025641025641,
          0.5211004273504274,
          0.5224358974358975,
          0.5240384615384616,
          0.5251068376068375,
          0.5272435897435898,
          0.5283119658119658,
          0.5293803418803419,
          0.530982905982906,
          0.531517094017094,
          0.5357905982905984,
          0.5459401709401709,
          0.5523504273504274,
          0.5528846153846154,
          0.5582264957264957,
          0.5592948717948717,
          0.5667735042735043,
          0.5838675213675214,
          0.5902777777777778
         ],
         "xaxis": "x",
         "y": [
          "$PE\\gamma_{std}$",
          "$PE\\theta_{std}$",
          "$PE\\gamma_{mean}$",
          "$CNV_{mean}$",
          "$P3b_{mean}$",
          "$K_{std}$",
          "$PE\\beta_{std}$",
          "$wSMI\\alpha_{mean}$",
          "$MSF_{std}$",
          "$wSMI\\gamma_{mean}$",
          "$\\delta_{mean}$",
          "$\\alpha_{std}$",
          "$|\\delta|_{mean}$",
          "$|\\alpha|_{std}$",
          "$P1_{mean}$",
          "$P3a_{mean}$",
          "$|\\delta|_{std}$",
          "$wSMI\\theta_{mean}$",
          "$|\\alpha|_{mean}$",
          "$wSMI\\theta_{std}$",
          "$|\\beta|_{std}$",
          "$PE\\theta_{mean}$",
          "$|\\gamma|_{std}$",
          "$wSMI\\alpha_{std}$",
          "$SE_{std}$",
          "$PE\\beta_{mean}$",
          "$MSF_{mean}$",
          "$P3a_{std}$",
          "$wSMI\\gamma_{std}$",
          "$|\\gamma|_{mean}$",
          "$\\alpha_{mean}$",
          "$\\gamma_{mean}$",
          "$P3b_{std}$",
          "$\\theta_{std}$",
          "$|\\theta|_{std}$",
          "$SEF95_{std}$",
          "$K_{mean}$",
          "$PE\\alpha_{mean}$",
          "$\\beta_{mean}$",
          "$SEF90_{std}$",
          "$\\gamma_{std}$",
          "$SEF90_{mean}$",
          "$SEF95_{mean}$",
          "$|\\beta|_{mean}$",
          "$wSMI\\beta_{mean}$",
          "$SE_{mean}$",
          "$\\beta_{std}$",
          "$\\delta_{std}$",
          "$P1_{std}$",
          "$|\\theta|_{mean}$",
          "$\\theta_{mean}$",
          "$CNV_{std}$",
          "$PE\\alpha_{std}$",
          "$wSMI\\beta_{std}$"
         ],
         "yaxis": "y"
        },
        {
         "hovertemplate": "balance=under-sample<br>significant=p > 0.05<br>dMW>distracted                  dMW<distracted=%{x}<br>markers=%{y}<extra></extra>",
         "legendgroup": "under-sample, p > 0.05",
         "marker": {
          "color": "#9AC529",
          "size": 8,
          "symbol": "circle-open"
         },
         "mode": "markers",
         "name": "under-sample, p > 0.05",
         "orientation": "h",
         "showlegend": true,
         "type": "scatter",
         "x": [
          0.39184746877054577,
          0.4161735700197239,
          0.43918474687705455,
          0.43984220907297833,
          0.4418145956607495,
          0.4418145956607495,
          0.44181459566074954,
          0.4451019066403682,
          0.4510190664036818,
          0.4549638395792242,
          0.45825115055884286,
          0.45825115055884286,
          0.46614069690992765,
          0.46745562130177515,
          0.46811308349769887,
          0.4687705456936226,
          0.47797501643655493,
          0.47863247863247865,
          0.47863247863247865,
          0.47994740302432615,
          0.48652202498356345,
          0.4930966469428008,
          0.4937541091387246,
          0.4944115713346483,
          0.4944115713346483,
          0.49769888231426695,
          0.5003287310979618,
          0.5009861932938856,
          0.5016436554898094,
          0.5115055884286653,
          0.5121630506245891,
          0.5128205128205128,
          0.520052596975674,
          0.5259697567389875,
          0.5292570677186063,
          0.5338593030900723,
          0.5358316896778436,
          0.5410913872452334,
          0.5417488494411571,
          0.5476660092044707,
          0.5548980933596318,
          0.5555555555555555,
          0.5555555555555556,
          0.5588428665351742,
          0.5647600262984878,
          0.5673898750821829,
          0.5772518080210387,
          0.5798816568047337,
          0.5877712031558184,
          0.5904010519395135,
          0.5936883629191322,
          0.598948060486522,
          0.6035502958579881
         ],
         "xaxis": "x2",
         "y": [
          "$CNV_{std}$",
          "$wSMI\\beta_{std}$",
          "$PE\\alpha_{mean}$",
          "$SE_{mean}$",
          "$PE\\alpha_{std}$",
          "$|\\beta|_{mean}$",
          "$|\\theta|_{mean}$",
          "$\\beta_{std}$",
          "$SEF90_{mean}$",
          "$K_{mean}$",
          "$SEF95_{mean}$",
          "$\\gamma_{std}$",
          "$\\delta_{std}$",
          "$PE\\beta_{mean}$",
          "$wSMI\\beta_{mean}$",
          "$P1_{std}$",
          "$|\\gamma|_{mean}$",
          "$wSMI\\alpha_{std}$",
          "$\\theta_{mean}$",
          "$P3b_{std}$",
          "$MSF_{mean}$",
          "$|\\theta|_{std}$",
          "$\\beta_{mean}$",
          "$|\\gamma|_{std}$",
          "$SEF90_{std}$",
          "$\\theta_{std}$",
          "$P3a_{mean}$",
          "$SEF95_{std}$",
          "$wSMI\\gamma_{std}$",
          "$wSMI\\gamma_{mean}$",
          "$\\gamma_{mean}$",
          "$\\alpha_{mean}$",
          "$P3a_{std}$",
          "$PE\\theta_{mean}$",
          "$P1_{mean}$",
          "$SE_{std}$",
          "$|\\alpha|_{mean}$",
          "$|\\delta|_{mean}$",
          "$|\\delta|_{std}$",
          "$wSMI\\theta_{std}$",
          "$MSF_{std}$",
          "$|\\beta|_{std}$",
          "$wSMI\\theta_{mean}$",
          "$PE\\gamma_{mean}$",
          "$|\\alpha|_{std}$",
          "$P3b_{mean}$",
          "$CNV_{mean}$",
          "$\\delta_{mean}$",
          "$K_{std}$",
          "$PE\\theta_{std}$",
          "$\\alpha_{std}$",
          "$wSMI\\alpha_{mean}$",
          "$PE\\beta_{std}$"
         ],
         "yaxis": "y2"
        },
        {
         "hovertemplate": "balance=under-sample<br>significant=p < 0.05 uncorrected<br>dMW>distracted                  dMW<distracted=%{x}<br>markers=%{y}<extra></extra>",
         "legendgroup": "under-sample, p < 0.05 uncorrected",
         "marker": {
          "color": "#9AC529",
          "size": 8,
          "symbol": "circle"
         },
         "mode": "markers",
         "name": "under-sample, p < 0.05 uncorrected",
         "orientation": "h",
         "showlegend": true,
         "type": "scatter",
         "x": [
          0.63379355687048
         ],
         "xaxis": "x2",
         "y": [
          "$PE\\gamma_{std}$"
         ],
         "yaxis": "y2"
        },
        {
         "hovertemplate": "balance=over-sample<br>significant=p > 0.05<br>dMW>distracted                  dMW<distracted=%{x}<br>markers=%{y}<extra></extra>",
         "legendgroup": "over-sample, p > 0.05",
         "marker": {
          "color": "#F38A31",
          "size": 8,
          "symbol": "circle-open"
         },
         "mode": "markers",
         "name": "over-sample, p > 0.05",
         "orientation": "h",
         "showlegend": true,
         "type": "scatter",
         "x": [
          0.4227430555555555,
          0.42708333333333326,
          0.42751736111111105,
          0.4375,
          0.4522569444444445,
          0.4587673611111111,
          0.46223958333333337,
          0.46223958333333337,
          0.4674479166666667,
          0.46788194444444436,
          0.4722222222222222,
          0.4722222222222222,
          0.4796006944444444,
          0.48046875,
          0.4878472222222222,
          0.48871527777777785,
          0.49045138888888884,
          0.4913194444444445,
          0.4917534722222222,
          0.4930555555555555,
          0.49435763888888884,
          0.49999999999999994,
          0.5056423611111112,
          0.506076388888889,
          0.5086805555555556,
          0.5099826388888888,
          0.509982638888889,
          0.5112847222222222,
          0.513888888888889,
          0.5143229166666666,
          0.5147569444444444,
          0.5147569444444444,
          0.5160590277777778,
          0.5234375,
          0.5269097222222222,
          0.5334201388888888,
          0.5347222222222222,
          0.5360243055555556,
          0.5386284722222222,
          0.5434027777777778,
          0.549045138888889,
          0.5494791666666666,
          0.5516493055555556,
          0.5538194444444444,
          0.5555555555555556,
          0.5581597222222222,
          0.5590277777777777,
          0.5713975694444444,
          0.57421875,
          0.583767361111111,
          0.5933159722222222,
          0.59765625,
          0.6119791666666666
         ],
         "xaxis": "x3",
         "y": [
          "$wSMI\\beta_{std}$",
          "$PE\\alpha_{std}$",
          "$\\theta_{mean}$",
          "$|\\theta|_{mean}$",
          "$\\gamma_{std}$",
          "$CNV_{std}$",
          "$SEF90_{std}$",
          "$\\beta_{std}$",
          "$\\alpha_{mean}$",
          "$P1_{std}$",
          "$SEF95_{std}$",
          "$PE\\theta_{mean}$",
          "$|\\alpha|_{mean}$",
          "$\\beta_{mean}$",
          "$wSMI\\beta_{mean}$",
          "$\\theta_{std}$",
          "$wSMI\\alpha_{std}$",
          "$|\\beta|_{mean}$",
          "$P3b_{std}$",
          "$\\delta_{std}$",
          "$SE_{mean}$",
          "$wSMI\\theta_{mean}$",
          "$|\\theta|_{std}$",
          "$PE\\alpha_{mean}$",
          "$SE_{std}$",
          "$P3a_{std}$",
          "$K_{mean}$",
          "$|\\beta|_{std}$",
          "$SEF90_{mean}$",
          "$wSMI\\gamma_{std}$",
          "$|\\gamma|_{std}$",
          "$SEF95_{mean}$",
          "$MSF_{mean}$",
          "$wSMI\\theta_{std}$",
          "$\\gamma_{mean}$",
          "$|\\alpha|_{std}$",
          "$P3a_{mean}$",
          "$\\alpha_{std}$",
          "$|\\gamma|_{mean}$",
          "$|\\delta|_{mean}$",
          "$PE\\beta_{mean}$",
          "$\\delta_{mean}$",
          "$P1_{mean}$",
          "$P3b_{mean}$",
          "$PE\\beta_{std}$",
          "$|\\delta|_{std}$",
          "$wSMI\\alpha_{mean}$",
          "$K_{std}$",
          "$wSMI\\gamma_{mean}$",
          "$CNV_{mean}$",
          "$PE\\theta_{std}$",
          "$MSF_{std}$",
          "$PE\\gamma_{std}$"
         ],
         "yaxis": "y3"
        },
        {
         "hovertemplate": "balance=over-sample<br>significant=p < 0.05 uncorrected<br>dMW>distracted                  dMW<distracted=%{x}<br>markers=%{y}<extra></extra>",
         "legendgroup": "over-sample, p < 0.05 uncorrected",
         "marker": {
          "color": "#F38A31",
          "size": 8,
          "symbol": "circle"
         },
         "mode": "markers",
         "name": "over-sample, p < 0.05 uncorrected",
         "orientation": "h",
         "showlegend": true,
         "type": "scatter",
         "x": [
          0.6163194444444444
         ],
         "xaxis": "x3",
         "y": [
          "$PE\\gamma_{mean}$"
         ],
         "yaxis": "y3"
        }
       ],
       "layout": {
        "annotations": [
         {
          "showarrow": false,
          "text": "balance=unbalance",
          "x": 0.15999999999999998,
          "xanchor": "center",
          "xref": "paper",
          "y": 1,
          "yanchor": "bottom",
          "yref": "paper"
         },
         {
          "showarrow": false,
          "text": "balance=under-sample",
          "x": 0.49999999999999994,
          "xanchor": "center",
          "xref": "paper",
          "y": 1,
          "yanchor": "bottom",
          "yref": "paper"
         },
         {
          "showarrow": false,
          "text": "balance=over-sample",
          "x": 0.8399999999999999,
          "xanchor": "center",
          "xref": "paper",
          "y": 1,
          "yanchor": "bottom",
          "yref": "paper"
         }
        ],
        "autosize": true,
        "height": 800,
        "legend": {
         "title": {
          "text": "balance, significant"
         },
         "tracegroupgap": 0
        },
        "margin": {
         "t": 60
        },
        "shapes": [
         {
          "line": {
           "color": "black",
           "dash": "dash",
           "width": 3
          },
          "type": "line",
          "x0": 0.5,
          "x1": 0.5,
          "xref": "x",
          "y0": 0,
          "y1": 1,
          "yref": "y domain"
         },
         {
          "line": {
           "color": "black",
           "dash": "dash",
           "width": 3
          },
          "type": "line",
          "x0": 0.5,
          "x1": 0.5,
          "xref": "x2",
          "y0": 0,
          "y1": 1,
          "yref": "y2 domain"
         },
         {
          "line": {
           "color": "black",
           "dash": "dash",
           "width": 3
          },
          "type": "line",
          "x0": 0.5,
          "x1": 0.5,
          "xref": "x3",
          "y0": 0,
          "y1": 1,
          "yref": "y3 domain"
         }
        ],
        "template": {
         "data": {
          "bar": [
           {
            "error_x": {
             "color": "#2a3f5f"
            },
            "error_y": {
             "color": "#2a3f5f"
            },
            "marker": {
             "line": {
              "color": "white",
              "width": 0.5
             },
             "pattern": {
              "fillmode": "overlay",
              "size": 10,
              "solidity": 0.2
             }
            },
            "type": "bar"
           }
          ],
          "barpolar": [
           {
            "marker": {
             "line": {
              "color": "white",
              "width": 0.5
             },
             "pattern": {
              "fillmode": "overlay",
              "size": 10,
              "solidity": 0.2
             }
            },
            "type": "barpolar"
           }
          ],
          "carpet": [
           {
            "aaxis": {
             "endlinecolor": "#2a3f5f",
             "gridcolor": "#C8D4E3",
             "linecolor": "#C8D4E3",
             "minorgridcolor": "#C8D4E3",
             "startlinecolor": "#2a3f5f"
            },
            "baxis": {
             "endlinecolor": "#2a3f5f",
             "gridcolor": "#C8D4E3",
             "linecolor": "#C8D4E3",
             "minorgridcolor": "#C8D4E3",
             "startlinecolor": "#2a3f5f"
            },
            "type": "carpet"
           }
          ],
          "choropleth": [
           {
            "colorbar": {
             "outlinewidth": 0,
             "ticks": ""
            },
            "type": "choropleth"
           }
          ],
          "contour": [
           {
            "colorbar": {
             "outlinewidth": 0,
             "ticks": ""
            },
            "colorscale": [
             [
              0,
              "#0d0887"
             ],
             [
              0.1111111111111111,
              "#46039f"
             ],
             [
              0.2222222222222222,
              "#7201a8"
             ],
             [
              0.3333333333333333,
              "#9c179e"
             ],
             [
              0.4444444444444444,
              "#bd3786"
             ],
             [
              0.5555555555555556,
              "#d8576b"
             ],
             [
              0.6666666666666666,
              "#ed7953"
             ],
             [
              0.7777777777777778,
              "#fb9f3a"
             ],
             [
              0.8888888888888888,
              "#fdca26"
             ],
             [
              1,
              "#f0f921"
             ]
            ],
            "type": "contour"
           }
          ],
          "contourcarpet": [
           {
            "colorbar": {
             "outlinewidth": 0,
             "ticks": ""
            },
            "type": "contourcarpet"
           }
          ],
          "heatmap": [
           {
            "colorbar": {
             "outlinewidth": 0,
             "ticks": ""
            },
            "colorscale": [
             [
              0,
              "#0d0887"
             ],
             [
              0.1111111111111111,
              "#46039f"
             ],
             [
              0.2222222222222222,
              "#7201a8"
             ],
             [
              0.3333333333333333,
              "#9c179e"
             ],
             [
              0.4444444444444444,
              "#bd3786"
             ],
             [
              0.5555555555555556,
              "#d8576b"
             ],
             [
              0.6666666666666666,
              "#ed7953"
             ],
             [
              0.7777777777777778,
              "#fb9f3a"
             ],
             [
              0.8888888888888888,
              "#fdca26"
             ],
             [
              1,
              "#f0f921"
             ]
            ],
            "type": "heatmap"
           }
          ],
          "heatmapgl": [
           {
            "colorbar": {
             "outlinewidth": 0,
             "ticks": ""
            },
            "colorscale": [
             [
              0,
              "#0d0887"
             ],
             [
              0.1111111111111111,
              "#46039f"
             ],
             [
              0.2222222222222222,
              "#7201a8"
             ],
             [
              0.3333333333333333,
              "#9c179e"
             ],
             [
              0.4444444444444444,
              "#bd3786"
             ],
             [
              0.5555555555555556,
              "#d8576b"
             ],
             [
              0.6666666666666666,
              "#ed7953"
             ],
             [
              0.7777777777777778,
              "#fb9f3a"
             ],
             [
              0.8888888888888888,
              "#fdca26"
             ],
             [
              1,
              "#f0f921"
             ]
            ],
            "type": "heatmapgl"
           }
          ],
          "histogram": [
           {
            "marker": {
             "pattern": {
              "fillmode": "overlay",
              "size": 10,
              "solidity": 0.2
             }
            },
            "type": "histogram"
           }
          ],
          "histogram2d": [
           {
            "colorbar": {
             "outlinewidth": 0,
             "ticks": ""
            },
            "colorscale": [
             [
              0,
              "#0d0887"
             ],
             [
              0.1111111111111111,
              "#46039f"
             ],
             [
              0.2222222222222222,
              "#7201a8"
             ],
             [
              0.3333333333333333,
              "#9c179e"
             ],
             [
              0.4444444444444444,
              "#bd3786"
             ],
             [
              0.5555555555555556,
              "#d8576b"
             ],
             [
              0.6666666666666666,
              "#ed7953"
             ],
             [
              0.7777777777777778,
              "#fb9f3a"
             ],
             [
              0.8888888888888888,
              "#fdca26"
             ],
             [
              1,
              "#f0f921"
             ]
            ],
            "type": "histogram2d"
           }
          ],
          "histogram2dcontour": [
           {
            "colorbar": {
             "outlinewidth": 0,
             "ticks": ""
            },
            "colorscale": [
             [
              0,
              "#0d0887"
             ],
             [
              0.1111111111111111,
              "#46039f"
             ],
             [
              0.2222222222222222,
              "#7201a8"
             ],
             [
              0.3333333333333333,
              "#9c179e"
             ],
             [
              0.4444444444444444,
              "#bd3786"
             ],
             [
              0.5555555555555556,
              "#d8576b"
             ],
             [
              0.6666666666666666,
              "#ed7953"
             ],
             [
              0.7777777777777778,
              "#fb9f3a"
             ],
             [
              0.8888888888888888,
              "#fdca26"
             ],
             [
              1,
              "#f0f921"
             ]
            ],
            "type": "histogram2dcontour"
           }
          ],
          "mesh3d": [
           {
            "colorbar": {
             "outlinewidth": 0,
             "ticks": ""
            },
            "type": "mesh3d"
           }
          ],
          "parcoords": [
           {
            "line": {
             "colorbar": {
              "outlinewidth": 0,
              "ticks": ""
             }
            },
            "type": "parcoords"
           }
          ],
          "pie": [
           {
            "automargin": true,
            "type": "pie"
           }
          ],
          "scatter": [
           {
            "fillpattern": {
             "fillmode": "overlay",
             "size": 10,
             "solidity": 0.2
            },
            "type": "scatter"
           }
          ],
          "scatter3d": [
           {
            "line": {
             "colorbar": {
              "outlinewidth": 0,
              "ticks": ""
             }
            },
            "marker": {
             "colorbar": {
              "outlinewidth": 0,
              "ticks": ""
             }
            },
            "type": "scatter3d"
           }
          ],
          "scattercarpet": [
           {
            "marker": {
             "colorbar": {
              "outlinewidth": 0,
              "ticks": ""
             }
            },
            "type": "scattercarpet"
           }
          ],
          "scattergeo": [
           {
            "marker": {
             "colorbar": {
              "outlinewidth": 0,
              "ticks": ""
             }
            },
            "type": "scattergeo"
           }
          ],
          "scattergl": [
           {
            "marker": {
             "colorbar": {
              "outlinewidth": 0,
              "ticks": ""
             }
            },
            "type": "scattergl"
           }
          ],
          "scattermapbox": [
           {
            "marker": {
             "colorbar": {
              "outlinewidth": 0,
              "ticks": ""
             }
            },
            "type": "scattermapbox"
           }
          ],
          "scatterpolar": [
           {
            "marker": {
             "colorbar": {
              "outlinewidth": 0,
              "ticks": ""
             }
            },
            "type": "scatterpolar"
           }
          ],
          "scatterpolargl": [
           {
            "marker": {
             "colorbar": {
              "outlinewidth": 0,
              "ticks": ""
             }
            },
            "type": "scatterpolargl"
           }
          ],
          "scatterternary": [
           {
            "marker": {
             "colorbar": {
              "outlinewidth": 0,
              "ticks": ""
             }
            },
            "type": "scatterternary"
           }
          ],
          "surface": [
           {
            "colorbar": {
             "outlinewidth": 0,
             "ticks": ""
            },
            "colorscale": [
             [
              0,
              "#0d0887"
             ],
             [
              0.1111111111111111,
              "#46039f"
             ],
             [
              0.2222222222222222,
              "#7201a8"
             ],
             [
              0.3333333333333333,
              "#9c179e"
             ],
             [
              0.4444444444444444,
              "#bd3786"
             ],
             [
              0.5555555555555556,
              "#d8576b"
             ],
             [
              0.6666666666666666,
              "#ed7953"
             ],
             [
              0.7777777777777778,
              "#fb9f3a"
             ],
             [
              0.8888888888888888,
              "#fdca26"
             ],
             [
              1,
              "#f0f921"
             ]
            ],
            "type": "surface"
           }
          ],
          "table": [
           {
            "cells": {
             "fill": {
              "color": "#EBF0F8"
             },
             "line": {
              "color": "white"
             }
            },
            "header": {
             "fill": {
              "color": "#C8D4E3"
             },
             "line": {
              "color": "white"
             }
            },
            "type": "table"
           }
          ]
         },
         "layout": {
          "annotationdefaults": {
           "arrowcolor": "#2a3f5f",
           "arrowhead": 0,
           "arrowwidth": 1
          },
          "autotypenumbers": "strict",
          "coloraxis": {
           "colorbar": {
            "outlinewidth": 0,
            "ticks": ""
           }
          },
          "colorscale": {
           "diverging": [
            [
             0,
             "#8e0152"
            ],
            [
             0.1,
             "#c51b7d"
            ],
            [
             0.2,
             "#de77ae"
            ],
            [
             0.3,
             "#f1b6da"
            ],
            [
             0.4,
             "#fde0ef"
            ],
            [
             0.5,
             "#f7f7f7"
            ],
            [
             0.6,
             "#e6f5d0"
            ],
            [
             0.7,
             "#b8e186"
            ],
            [
             0.8,
             "#7fbc41"
            ],
            [
             0.9,
             "#4d9221"
            ],
            [
             1,
             "#276419"
            ]
           ],
           "sequential": [
            [
             0,
             "#0d0887"
            ],
            [
             0.1111111111111111,
             "#46039f"
            ],
            [
             0.2222222222222222,
             "#7201a8"
            ],
            [
             0.3333333333333333,
             "#9c179e"
            ],
            [
             0.4444444444444444,
             "#bd3786"
            ],
            [
             0.5555555555555556,
             "#d8576b"
            ],
            [
             0.6666666666666666,
             "#ed7953"
            ],
            [
             0.7777777777777778,
             "#fb9f3a"
            ],
            [
             0.8888888888888888,
             "#fdca26"
            ],
            [
             1,
             "#f0f921"
            ]
           ],
           "sequentialminus": [
            [
             0,
             "#0d0887"
            ],
            [
             0.1111111111111111,
             "#46039f"
            ],
            [
             0.2222222222222222,
             "#7201a8"
            ],
            [
             0.3333333333333333,
             "#9c179e"
            ],
            [
             0.4444444444444444,
             "#bd3786"
            ],
            [
             0.5555555555555556,
             "#d8576b"
            ],
            [
             0.6666666666666666,
             "#ed7953"
            ],
            [
             0.7777777777777778,
             "#fb9f3a"
            ],
            [
             0.8888888888888888,
             "#fdca26"
            ],
            [
             1,
             "#f0f921"
            ]
           ]
          },
          "colorway": [
           "#636efa",
           "#EF553B",
           "#00cc96",
           "#ab63fa",
           "#FFA15A",
           "#19d3f3",
           "#FF6692",
           "#B6E880",
           "#FF97FF",
           "#FECB52"
          ],
          "font": {
           "color": "#2a3f5f"
          },
          "geo": {
           "bgcolor": "white",
           "lakecolor": "white",
           "landcolor": "white",
           "showlakes": true,
           "showland": true,
           "subunitcolor": "#C8D4E3"
          },
          "hoverlabel": {
           "align": "left"
          },
          "hovermode": "closest",
          "mapbox": {
           "style": "light"
          },
          "paper_bgcolor": "white",
          "plot_bgcolor": "white",
          "polar": {
           "angularaxis": {
            "gridcolor": "#EBF0F8",
            "linecolor": "#EBF0F8",
            "ticks": ""
           },
           "bgcolor": "white",
           "radialaxis": {
            "gridcolor": "#EBF0F8",
            "linecolor": "#EBF0F8",
            "ticks": ""
           }
          },
          "scene": {
           "xaxis": {
            "backgroundcolor": "white",
            "gridcolor": "#DFE8F3",
            "gridwidth": 2,
            "linecolor": "#EBF0F8",
            "showbackground": true,
            "ticks": "",
            "zerolinecolor": "#EBF0F8"
           },
           "yaxis": {
            "backgroundcolor": "white",
            "gridcolor": "#DFE8F3",
            "gridwidth": 2,
            "linecolor": "#EBF0F8",
            "showbackground": true,
            "ticks": "",
            "zerolinecolor": "#EBF0F8"
           },
           "zaxis": {
            "backgroundcolor": "white",
            "gridcolor": "#DFE8F3",
            "gridwidth": 2,
            "linecolor": "#EBF0F8",
            "showbackground": true,
            "ticks": "",
            "zerolinecolor": "#EBF0F8"
           }
          },
          "shapedefaults": {
           "line": {
            "color": "#2a3f5f"
           }
          },
          "ternary": {
           "aaxis": {
            "gridcolor": "#DFE8F3",
            "linecolor": "#A2B1C6",
            "ticks": ""
           },
           "baxis": {
            "gridcolor": "#DFE8F3",
            "linecolor": "#A2B1C6",
            "ticks": ""
           },
           "bgcolor": "white",
           "caxis": {
            "gridcolor": "#DFE8F3",
            "linecolor": "#A2B1C6",
            "ticks": ""
           }
          },
          "title": {
           "x": 0.05
          },
          "xaxis": {
           "automargin": true,
           "gridcolor": "#EBF0F8",
           "linecolor": "#EBF0F8",
           "ticks": "",
           "title": {
            "standoff": 15
           },
           "zerolinecolor": "#EBF0F8",
           "zerolinewidth": 2
          },
          "yaxis": {
           "automargin": true,
           "gridcolor": "#EBF0F8",
           "linecolor": "#EBF0F8",
           "ticks": "",
           "title": {
            "standoff": 15
           },
           "zerolinecolor": "#EBF0F8",
           "zerolinewidth": 2
          }
         }
        },
        "title": {
         "text": "dMW vs distracted(39,48"
        },
        "width": 1600,
        "xaxis": {
         "anchor": "y",
         "domain": [
          0,
          0.31999999999999995
         ],
         "title": {
          "text": "dMW>distracted                  dMW<distracted"
         }
        },
        "xaxis2": {
         "anchor": "y2",
         "domain": [
          0.33999999999999997,
          0.6599999999999999
         ],
         "matches": "x",
         "title": {
          "text": "dMW>distracted                  dMW<distracted"
         }
        },
        "xaxis3": {
         "anchor": "y3",
         "domain": [
          0.6799999999999999,
          0.9999999999999999
         ],
         "matches": "x",
         "title": {
          "text": "dMW>distracted                  dMW<distracted"
         }
        },
        "yaxis": {
         "anchor": "x",
         "domain": [
          0,
          1
         ],
         "showticklabels": true,
         "tickmode": "linear",
         "title": {
          "text": "markers"
         }
        },
        "yaxis2": {
         "anchor": "x2",
         "domain": [
          0,
          1
         ],
         "matches": "y",
         "showticklabels": false
        },
        "yaxis3": {
         "anchor": "x3",
         "domain": [
          0,
          1
         ],
         "matches": "y",
         "showticklabels": false
        }
       }
      },
      "text/html": [
       "<div>                            <div id=\"8bb2a7ae-736d-4fdd-83ea-ee06a831e4e9\" class=\"plotly-graph-div\" style=\"height:800px; width:1600px;\"></div>            <script type=\"text/javascript\">                require([\"plotly\"], function(Plotly) {                    window.PLOTLYENV=window.PLOTLYENV || {};                                    if (document.getElementById(\"8bb2a7ae-736d-4fdd-83ea-ee06a831e4e9\")) {                    Plotly.newPlot(                        \"8bb2a7ae-736d-4fdd-83ea-ee06a831e4e9\",                        [{\"hovertemplate\":\"balance=unbalance<br>significant=p > 0.05<br>dMW>distracted                  dMW<distracted=%{x}<br>markers=%{y}<extra></extra>\",\"legendgroup\":\"unbalance, p > 0.05\",\"marker\":{\"color\":\"#DE237B\",\"symbol\":\"circle-open\",\"size\":8},\"mode\":\"markers\",\"name\":\"unbalance, p > 0.05\",\"orientation\":\"h\",\"showlegend\":true,\"x\":[0.389423076923077,0.4198717948717949,0.42361111111111116,0.42467948717948717,0.4268162393162393,0.4305555555555556,0.4310897435897436,0.4391025641025641,0.4407051282051282,0.4551282051282051,0.4577991452991453,0.46153846153846156,0.46688034188034183,0.4706196581196581,0.4754273504273504,0.47916666666666663,0.48130341880341887,0.48237179487179493,0.48504273504273504,0.48771367521367526,0.49038461538461536,0.49412393162393164,0.4967948717948718,0.49946581196581197,0.49946581196581197,0.5021367521367522,0.5026709401709402,0.5048076923076923,0.5048076923076923,0.5106837606837606,0.5106837606837606,0.5117521367521367,0.5122863247863249,0.514423076923077,0.5154914529914529,0.516025641025641,0.5211004273504274,0.5224358974358975,0.5240384615384616,0.5251068376068375,0.5272435897435898,0.5283119658119658,0.5293803418803419,0.530982905982906,0.531517094017094,0.5357905982905984,0.5459401709401709,0.5523504273504274,0.5528846153846154,0.5582264957264957,0.5592948717948717,0.5667735042735043,0.5838675213675214,0.5902777777777778],\"xaxis\":\"x\",\"y\":[\"$PE\\\\gamma_{std}$\",\"$PE\\\\theta_{std}$\",\"$PE\\\\gamma_{mean}$\",\"$CNV_{mean}$\",\"$P3b_{mean}$\",\"$K_{std}$\",\"$PE\\\\beta_{std}$\",\"$wSMI\\\\alpha_{mean}$\",\"$MSF_{std}$\",\"$wSMI\\\\gamma_{mean}$\",\"$\\\\delta_{mean}$\",\"$\\\\alpha_{std}$\",\"$|\\\\delta|_{mean}$\",\"$|\\\\alpha|_{std}$\",\"$P1_{mean}$\",\"$P3a_{mean}$\",\"$|\\\\delta|_{std}$\",\"$wSMI\\\\theta_{mean}$\",\"$|\\\\alpha|_{mean}$\",\"$wSMI\\\\theta_{std}$\",\"$|\\\\beta|_{std}$\",\"$PE\\\\theta_{mean}$\",\"$|\\\\gamma|_{std}$\",\"$wSMI\\\\alpha_{std}$\",\"$SE_{std}$\",\"$PE\\\\beta_{mean}$\",\"$MSF_{mean}$\",\"$P3a_{std}$\",\"$wSMI\\\\gamma_{std}$\",\"$|\\\\gamma|_{mean}$\",\"$\\\\alpha_{mean}$\",\"$\\\\gamma_{mean}$\",\"$P3b_{std}$\",\"$\\\\theta_{std}$\",\"$|\\\\theta|_{std}$\",\"$SEF95_{std}$\",\"$K_{mean}$\",\"$PE\\\\alpha_{mean}$\",\"$\\\\beta_{mean}$\",\"$SEF90_{std}$\",\"$\\\\gamma_{std}$\",\"$SEF90_{mean}$\",\"$SEF95_{mean}$\",\"$|\\\\beta|_{mean}$\",\"$wSMI\\\\beta_{mean}$\",\"$SE_{mean}$\",\"$\\\\beta_{std}$\",\"$\\\\delta_{std}$\",\"$P1_{std}$\",\"$|\\\\theta|_{mean}$\",\"$\\\\theta_{mean}$\",\"$CNV_{std}$\",\"$PE\\\\alpha_{std}$\",\"$wSMI\\\\beta_{std}$\"],\"yaxis\":\"y\",\"type\":\"scatter\"},{\"hovertemplate\":\"balance=under-sample<br>significant=p > 0.05<br>dMW>distracted                  dMW<distracted=%{x}<br>markers=%{y}<extra></extra>\",\"legendgroup\":\"under-sample, p > 0.05\",\"marker\":{\"color\":\"#9AC529\",\"symbol\":\"circle-open\",\"size\":8},\"mode\":\"markers\",\"name\":\"under-sample, p > 0.05\",\"orientation\":\"h\",\"showlegend\":true,\"x\":[0.39184746877054577,0.4161735700197239,0.43918474687705455,0.43984220907297833,0.4418145956607495,0.4418145956607495,0.44181459566074954,0.4451019066403682,0.4510190664036818,0.4549638395792242,0.45825115055884286,0.45825115055884286,0.46614069690992765,0.46745562130177515,0.46811308349769887,0.4687705456936226,0.47797501643655493,0.47863247863247865,0.47863247863247865,0.47994740302432615,0.48652202498356345,0.4930966469428008,0.4937541091387246,0.4944115713346483,0.4944115713346483,0.49769888231426695,0.5003287310979618,0.5009861932938856,0.5016436554898094,0.5115055884286653,0.5121630506245891,0.5128205128205128,0.520052596975674,0.5259697567389875,0.5292570677186063,0.5338593030900723,0.5358316896778436,0.5410913872452334,0.5417488494411571,0.5476660092044707,0.5548980933596318,0.5555555555555555,0.5555555555555556,0.5588428665351742,0.5647600262984878,0.5673898750821829,0.5772518080210387,0.5798816568047337,0.5877712031558184,0.5904010519395135,0.5936883629191322,0.598948060486522,0.6035502958579881],\"xaxis\":\"x2\",\"y\":[\"$CNV_{std}$\",\"$wSMI\\\\beta_{std}$\",\"$PE\\\\alpha_{mean}$\",\"$SE_{mean}$\",\"$PE\\\\alpha_{std}$\",\"$|\\\\beta|_{mean}$\",\"$|\\\\theta|_{mean}$\",\"$\\\\beta_{std}$\",\"$SEF90_{mean}$\",\"$K_{mean}$\",\"$SEF95_{mean}$\",\"$\\\\gamma_{std}$\",\"$\\\\delta_{std}$\",\"$PE\\\\beta_{mean}$\",\"$wSMI\\\\beta_{mean}$\",\"$P1_{std}$\",\"$|\\\\gamma|_{mean}$\",\"$wSMI\\\\alpha_{std}$\",\"$\\\\theta_{mean}$\",\"$P3b_{std}$\",\"$MSF_{mean}$\",\"$|\\\\theta|_{std}$\",\"$\\\\beta_{mean}$\",\"$|\\\\gamma|_{std}$\",\"$SEF90_{std}$\",\"$\\\\theta_{std}$\",\"$P3a_{mean}$\",\"$SEF95_{std}$\",\"$wSMI\\\\gamma_{std}$\",\"$wSMI\\\\gamma_{mean}$\",\"$\\\\gamma_{mean}$\",\"$\\\\alpha_{mean}$\",\"$P3a_{std}$\",\"$PE\\\\theta_{mean}$\",\"$P1_{mean}$\",\"$SE_{std}$\",\"$|\\\\alpha|_{mean}$\",\"$|\\\\delta|_{mean}$\",\"$|\\\\delta|_{std}$\",\"$wSMI\\\\theta_{std}$\",\"$MSF_{std}$\",\"$|\\\\beta|_{std}$\",\"$wSMI\\\\theta_{mean}$\",\"$PE\\\\gamma_{mean}$\",\"$|\\\\alpha|_{std}$\",\"$P3b_{mean}$\",\"$CNV_{mean}$\",\"$\\\\delta_{mean}$\",\"$K_{std}$\",\"$PE\\\\theta_{std}$\",\"$\\\\alpha_{std}$\",\"$wSMI\\\\alpha_{mean}$\",\"$PE\\\\beta_{std}$\"],\"yaxis\":\"y2\",\"type\":\"scatter\"},{\"hovertemplate\":\"balance=under-sample<br>significant=p < 0.05 uncorrected<br>dMW>distracted                  dMW<distracted=%{x}<br>markers=%{y}<extra></extra>\",\"legendgroup\":\"under-sample, p < 0.05 uncorrected\",\"marker\":{\"color\":\"#9AC529\",\"symbol\":\"circle\",\"size\":8},\"mode\":\"markers\",\"name\":\"under-sample, p < 0.05 uncorrected\",\"orientation\":\"h\",\"showlegend\":true,\"x\":[0.63379355687048],\"xaxis\":\"x2\",\"y\":[\"$PE\\\\gamma_{std}$\"],\"yaxis\":\"y2\",\"type\":\"scatter\"},{\"hovertemplate\":\"balance=over-sample<br>significant=p > 0.05<br>dMW>distracted                  dMW<distracted=%{x}<br>markers=%{y}<extra></extra>\",\"legendgroup\":\"over-sample, p > 0.05\",\"marker\":{\"color\":\"#F38A31\",\"symbol\":\"circle-open\",\"size\":8},\"mode\":\"markers\",\"name\":\"over-sample, p > 0.05\",\"orientation\":\"h\",\"showlegend\":true,\"x\":[0.4227430555555555,0.42708333333333326,0.42751736111111105,0.4375,0.4522569444444445,0.4587673611111111,0.46223958333333337,0.46223958333333337,0.4674479166666667,0.46788194444444436,0.4722222222222222,0.4722222222222222,0.4796006944444444,0.48046875,0.4878472222222222,0.48871527777777785,0.49045138888888884,0.4913194444444445,0.4917534722222222,0.4930555555555555,0.49435763888888884,0.49999999999999994,0.5056423611111112,0.506076388888889,0.5086805555555556,0.5099826388888888,0.509982638888889,0.5112847222222222,0.513888888888889,0.5143229166666666,0.5147569444444444,0.5147569444444444,0.5160590277777778,0.5234375,0.5269097222222222,0.5334201388888888,0.5347222222222222,0.5360243055555556,0.5386284722222222,0.5434027777777778,0.549045138888889,0.5494791666666666,0.5516493055555556,0.5538194444444444,0.5555555555555556,0.5581597222222222,0.5590277777777777,0.5713975694444444,0.57421875,0.583767361111111,0.5933159722222222,0.59765625,0.6119791666666666],\"xaxis\":\"x3\",\"y\":[\"$wSMI\\\\beta_{std}$\",\"$PE\\\\alpha_{std}$\",\"$\\\\theta_{mean}$\",\"$|\\\\theta|_{mean}$\",\"$\\\\gamma_{std}$\",\"$CNV_{std}$\",\"$SEF90_{std}$\",\"$\\\\beta_{std}$\",\"$\\\\alpha_{mean}$\",\"$P1_{std}$\",\"$SEF95_{std}$\",\"$PE\\\\theta_{mean}$\",\"$|\\\\alpha|_{mean}$\",\"$\\\\beta_{mean}$\",\"$wSMI\\\\beta_{mean}$\",\"$\\\\theta_{std}$\",\"$wSMI\\\\alpha_{std}$\",\"$|\\\\beta|_{mean}$\",\"$P3b_{std}$\",\"$\\\\delta_{std}$\",\"$SE_{mean}$\",\"$wSMI\\\\theta_{mean}$\",\"$|\\\\theta|_{std}$\",\"$PE\\\\alpha_{mean}$\",\"$SE_{std}$\",\"$P3a_{std}$\",\"$K_{mean}$\",\"$|\\\\beta|_{std}$\",\"$SEF90_{mean}$\",\"$wSMI\\\\gamma_{std}$\",\"$|\\\\gamma|_{std}$\",\"$SEF95_{mean}$\",\"$MSF_{mean}$\",\"$wSMI\\\\theta_{std}$\",\"$\\\\gamma_{mean}$\",\"$|\\\\alpha|_{std}$\",\"$P3a_{mean}$\",\"$\\\\alpha_{std}$\",\"$|\\\\gamma|_{mean}$\",\"$|\\\\delta|_{mean}$\",\"$PE\\\\beta_{mean}$\",\"$\\\\delta_{mean}$\",\"$P1_{mean}$\",\"$P3b_{mean}$\",\"$PE\\\\beta_{std}$\",\"$|\\\\delta|_{std}$\",\"$wSMI\\\\alpha_{mean}$\",\"$K_{std}$\",\"$wSMI\\\\gamma_{mean}$\",\"$CNV_{mean}$\",\"$PE\\\\theta_{std}$\",\"$MSF_{std}$\",\"$PE\\\\gamma_{std}$\"],\"yaxis\":\"y3\",\"type\":\"scatter\"},{\"hovertemplate\":\"balance=over-sample<br>significant=p < 0.05 uncorrected<br>dMW>distracted                  dMW<distracted=%{x}<br>markers=%{y}<extra></extra>\",\"legendgroup\":\"over-sample, p < 0.05 uncorrected\",\"marker\":{\"color\":\"#F38A31\",\"symbol\":\"circle\",\"size\":8},\"mode\":\"markers\",\"name\":\"over-sample, p < 0.05 uncorrected\",\"orientation\":\"h\",\"showlegend\":true,\"x\":[0.6163194444444444],\"xaxis\":\"x3\",\"y\":[\"$PE\\\\gamma_{mean}$\"],\"yaxis\":\"y3\",\"type\":\"scatter\"}],                        {\"template\":{\"data\":{\"barpolar\":[{\"marker\":{\"line\":{\"color\":\"white\",\"width\":0.5},\"pattern\":{\"fillmode\":\"overlay\",\"size\":10,\"solidity\":0.2}},\"type\":\"barpolar\"}],\"bar\":[{\"error_x\":{\"color\":\"#2a3f5f\"},\"error_y\":{\"color\":\"#2a3f5f\"},\"marker\":{\"line\":{\"color\":\"white\",\"width\":0.5},\"pattern\":{\"fillmode\":\"overlay\",\"size\":10,\"solidity\":0.2}},\"type\":\"bar\"}],\"carpet\":[{\"aaxis\":{\"endlinecolor\":\"#2a3f5f\",\"gridcolor\":\"#C8D4E3\",\"linecolor\":\"#C8D4E3\",\"minorgridcolor\":\"#C8D4E3\",\"startlinecolor\":\"#2a3f5f\"},\"baxis\":{\"endlinecolor\":\"#2a3f5f\",\"gridcolor\":\"#C8D4E3\",\"linecolor\":\"#C8D4E3\",\"minorgridcolor\":\"#C8D4E3\",\"startlinecolor\":\"#2a3f5f\"},\"type\":\"carpet\"}],\"choropleth\":[{\"colorbar\":{\"outlinewidth\":0,\"ticks\":\"\"},\"type\":\"choropleth\"}],\"contourcarpet\":[{\"colorbar\":{\"outlinewidth\":0,\"ticks\":\"\"},\"type\":\"contourcarpet\"}],\"contour\":[{\"colorbar\":{\"outlinewidth\":0,\"ticks\":\"\"},\"colorscale\":[[0.0,\"#0d0887\"],[0.1111111111111111,\"#46039f\"],[0.2222222222222222,\"#7201a8\"],[0.3333333333333333,\"#9c179e\"],[0.4444444444444444,\"#bd3786\"],[0.5555555555555556,\"#d8576b\"],[0.6666666666666666,\"#ed7953\"],[0.7777777777777778,\"#fb9f3a\"],[0.8888888888888888,\"#fdca26\"],[1.0,\"#f0f921\"]],\"type\":\"contour\"}],\"heatmapgl\":[{\"colorbar\":{\"outlinewidth\":0,\"ticks\":\"\"},\"colorscale\":[[0.0,\"#0d0887\"],[0.1111111111111111,\"#46039f\"],[0.2222222222222222,\"#7201a8\"],[0.3333333333333333,\"#9c179e\"],[0.4444444444444444,\"#bd3786\"],[0.5555555555555556,\"#d8576b\"],[0.6666666666666666,\"#ed7953\"],[0.7777777777777778,\"#fb9f3a\"],[0.8888888888888888,\"#fdca26\"],[1.0,\"#f0f921\"]],\"type\":\"heatmapgl\"}],\"heatmap\":[{\"colorbar\":{\"outlinewidth\":0,\"ticks\":\"\"},\"colorscale\":[[0.0,\"#0d0887\"],[0.1111111111111111,\"#46039f\"],[0.2222222222222222,\"#7201a8\"],[0.3333333333333333,\"#9c179e\"],[0.4444444444444444,\"#bd3786\"],[0.5555555555555556,\"#d8576b\"],[0.6666666666666666,\"#ed7953\"],[0.7777777777777778,\"#fb9f3a\"],[0.8888888888888888,\"#fdca26\"],[1.0,\"#f0f921\"]],\"type\":\"heatmap\"}],\"histogram2dcontour\":[{\"colorbar\":{\"outlinewidth\":0,\"ticks\":\"\"},\"colorscale\":[[0.0,\"#0d0887\"],[0.1111111111111111,\"#46039f\"],[0.2222222222222222,\"#7201a8\"],[0.3333333333333333,\"#9c179e\"],[0.4444444444444444,\"#bd3786\"],[0.5555555555555556,\"#d8576b\"],[0.6666666666666666,\"#ed7953\"],[0.7777777777777778,\"#fb9f3a\"],[0.8888888888888888,\"#fdca26\"],[1.0,\"#f0f921\"]],\"type\":\"histogram2dcontour\"}],\"histogram2d\":[{\"colorbar\":{\"outlinewidth\":0,\"ticks\":\"\"},\"colorscale\":[[0.0,\"#0d0887\"],[0.1111111111111111,\"#46039f\"],[0.2222222222222222,\"#7201a8\"],[0.3333333333333333,\"#9c179e\"],[0.4444444444444444,\"#bd3786\"],[0.5555555555555556,\"#d8576b\"],[0.6666666666666666,\"#ed7953\"],[0.7777777777777778,\"#fb9f3a\"],[0.8888888888888888,\"#fdca26\"],[1.0,\"#f0f921\"]],\"type\":\"histogram2d\"}],\"histogram\":[{\"marker\":{\"pattern\":{\"fillmode\":\"overlay\",\"size\":10,\"solidity\":0.2}},\"type\":\"histogram\"}],\"mesh3d\":[{\"colorbar\":{\"outlinewidth\":0,\"ticks\":\"\"},\"type\":\"mesh3d\"}],\"parcoords\":[{\"line\":{\"colorbar\":{\"outlinewidth\":0,\"ticks\":\"\"}},\"type\":\"parcoords\"}],\"pie\":[{\"automargin\":true,\"type\":\"pie\"}],\"scatter3d\":[{\"line\":{\"colorbar\":{\"outlinewidth\":0,\"ticks\":\"\"}},\"marker\":{\"colorbar\":{\"outlinewidth\":0,\"ticks\":\"\"}},\"type\":\"scatter3d\"}],\"scattercarpet\":[{\"marker\":{\"colorbar\":{\"outlinewidth\":0,\"ticks\":\"\"}},\"type\":\"scattercarpet\"}],\"scattergeo\":[{\"marker\":{\"colorbar\":{\"outlinewidth\":0,\"ticks\":\"\"}},\"type\":\"scattergeo\"}],\"scattergl\":[{\"marker\":{\"colorbar\":{\"outlinewidth\":0,\"ticks\":\"\"}},\"type\":\"scattergl\"}],\"scattermapbox\":[{\"marker\":{\"colorbar\":{\"outlinewidth\":0,\"ticks\":\"\"}},\"type\":\"scattermapbox\"}],\"scatterpolargl\":[{\"marker\":{\"colorbar\":{\"outlinewidth\":0,\"ticks\":\"\"}},\"type\":\"scatterpolargl\"}],\"scatterpolar\":[{\"marker\":{\"colorbar\":{\"outlinewidth\":0,\"ticks\":\"\"}},\"type\":\"scatterpolar\"}],\"scatter\":[{\"fillpattern\":{\"fillmode\":\"overlay\",\"size\":10,\"solidity\":0.2},\"type\":\"scatter\"}],\"scatterternary\":[{\"marker\":{\"colorbar\":{\"outlinewidth\":0,\"ticks\":\"\"}},\"type\":\"scatterternary\"}],\"surface\":[{\"colorbar\":{\"outlinewidth\":0,\"ticks\":\"\"},\"colorscale\":[[0.0,\"#0d0887\"],[0.1111111111111111,\"#46039f\"],[0.2222222222222222,\"#7201a8\"],[0.3333333333333333,\"#9c179e\"],[0.4444444444444444,\"#bd3786\"],[0.5555555555555556,\"#d8576b\"],[0.6666666666666666,\"#ed7953\"],[0.7777777777777778,\"#fb9f3a\"],[0.8888888888888888,\"#fdca26\"],[1.0,\"#f0f921\"]],\"type\":\"surface\"}],\"table\":[{\"cells\":{\"fill\":{\"color\":\"#EBF0F8\"},\"line\":{\"color\":\"white\"}},\"header\":{\"fill\":{\"color\":\"#C8D4E3\"},\"line\":{\"color\":\"white\"}},\"type\":\"table\"}]},\"layout\":{\"annotationdefaults\":{\"arrowcolor\":\"#2a3f5f\",\"arrowhead\":0,\"arrowwidth\":1},\"autotypenumbers\":\"strict\",\"coloraxis\":{\"colorbar\":{\"outlinewidth\":0,\"ticks\":\"\"}},\"colorscale\":{\"diverging\":[[0,\"#8e0152\"],[0.1,\"#c51b7d\"],[0.2,\"#de77ae\"],[0.3,\"#f1b6da\"],[0.4,\"#fde0ef\"],[0.5,\"#f7f7f7\"],[0.6,\"#e6f5d0\"],[0.7,\"#b8e186\"],[0.8,\"#7fbc41\"],[0.9,\"#4d9221\"],[1,\"#276419\"]],\"sequential\":[[0.0,\"#0d0887\"],[0.1111111111111111,\"#46039f\"],[0.2222222222222222,\"#7201a8\"],[0.3333333333333333,\"#9c179e\"],[0.4444444444444444,\"#bd3786\"],[0.5555555555555556,\"#d8576b\"],[0.6666666666666666,\"#ed7953\"],[0.7777777777777778,\"#fb9f3a\"],[0.8888888888888888,\"#fdca26\"],[1.0,\"#f0f921\"]],\"sequentialminus\":[[0.0,\"#0d0887\"],[0.1111111111111111,\"#46039f\"],[0.2222222222222222,\"#7201a8\"],[0.3333333333333333,\"#9c179e\"],[0.4444444444444444,\"#bd3786\"],[0.5555555555555556,\"#d8576b\"],[0.6666666666666666,\"#ed7953\"],[0.7777777777777778,\"#fb9f3a\"],[0.8888888888888888,\"#fdca26\"],[1.0,\"#f0f921\"]]},\"colorway\":[\"#636efa\",\"#EF553B\",\"#00cc96\",\"#ab63fa\",\"#FFA15A\",\"#19d3f3\",\"#FF6692\",\"#B6E880\",\"#FF97FF\",\"#FECB52\"],\"font\":{\"color\":\"#2a3f5f\"},\"geo\":{\"bgcolor\":\"white\",\"lakecolor\":\"white\",\"landcolor\":\"white\",\"showlakes\":true,\"showland\":true,\"subunitcolor\":\"#C8D4E3\"},\"hoverlabel\":{\"align\":\"left\"},\"hovermode\":\"closest\",\"mapbox\":{\"style\":\"light\"},\"paper_bgcolor\":\"white\",\"plot_bgcolor\":\"white\",\"polar\":{\"angularaxis\":{\"gridcolor\":\"#EBF0F8\",\"linecolor\":\"#EBF0F8\",\"ticks\":\"\"},\"bgcolor\":\"white\",\"radialaxis\":{\"gridcolor\":\"#EBF0F8\",\"linecolor\":\"#EBF0F8\",\"ticks\":\"\"}},\"scene\":{\"xaxis\":{\"backgroundcolor\":\"white\",\"gridcolor\":\"#DFE8F3\",\"gridwidth\":2,\"linecolor\":\"#EBF0F8\",\"showbackground\":true,\"ticks\":\"\",\"zerolinecolor\":\"#EBF0F8\"},\"yaxis\":{\"backgroundcolor\":\"white\",\"gridcolor\":\"#DFE8F3\",\"gridwidth\":2,\"linecolor\":\"#EBF0F8\",\"showbackground\":true,\"ticks\":\"\",\"zerolinecolor\":\"#EBF0F8\"},\"zaxis\":{\"backgroundcolor\":\"white\",\"gridcolor\":\"#DFE8F3\",\"gridwidth\":2,\"linecolor\":\"#EBF0F8\",\"showbackground\":true,\"ticks\":\"\",\"zerolinecolor\":\"#EBF0F8\"}},\"shapedefaults\":{\"line\":{\"color\":\"#2a3f5f\"}},\"ternary\":{\"aaxis\":{\"gridcolor\":\"#DFE8F3\",\"linecolor\":\"#A2B1C6\",\"ticks\":\"\"},\"baxis\":{\"gridcolor\":\"#DFE8F3\",\"linecolor\":\"#A2B1C6\",\"ticks\":\"\"},\"bgcolor\":\"white\",\"caxis\":{\"gridcolor\":\"#DFE8F3\",\"linecolor\":\"#A2B1C6\",\"ticks\":\"\"}},\"title\":{\"x\":0.05},\"xaxis\":{\"automargin\":true,\"gridcolor\":\"#EBF0F8\",\"linecolor\":\"#EBF0F8\",\"ticks\":\"\",\"title\":{\"standoff\":15},\"zerolinecolor\":\"#EBF0F8\",\"zerolinewidth\":2},\"yaxis\":{\"automargin\":true,\"gridcolor\":\"#EBF0F8\",\"linecolor\":\"#EBF0F8\",\"ticks\":\"\",\"title\":{\"standoff\":15},\"zerolinecolor\":\"#EBF0F8\",\"zerolinewidth\":2}}},\"xaxis\":{\"anchor\":\"y\",\"domain\":[0.0,0.31999999999999995],\"title\":{\"text\":\"dMW>distracted                  dMW<distracted\"}},\"yaxis\":{\"anchor\":\"x\",\"domain\":[0.0,1.0],\"title\":{\"text\":\"markers\"},\"showticklabels\":true,\"tickmode\":\"linear\"},\"xaxis2\":{\"anchor\":\"y2\",\"domain\":[0.33999999999999997,0.6599999999999999],\"matches\":\"x\",\"title\":{\"text\":\"dMW>distracted                  dMW<distracted\"}},\"yaxis2\":{\"anchor\":\"x2\",\"domain\":[0.0,1.0],\"matches\":\"y\",\"showticklabels\":false},\"xaxis3\":{\"anchor\":\"y3\",\"domain\":[0.6799999999999999,0.9999999999999999],\"matches\":\"x\",\"title\":{\"text\":\"dMW>distracted                  dMW<distracted\"}},\"yaxis3\":{\"anchor\":\"x3\",\"domain\":[0.0,1.0],\"matches\":\"y\",\"showticklabels\":false},\"annotations\":[{\"showarrow\":false,\"text\":\"balance=unbalance\",\"x\":0.15999999999999998,\"xanchor\":\"center\",\"xref\":\"paper\",\"y\":1.0,\"yanchor\":\"bottom\",\"yref\":\"paper\"},{\"showarrow\":false,\"text\":\"balance=under-sample\",\"x\":0.49999999999999994,\"xanchor\":\"center\",\"xref\":\"paper\",\"y\":1.0,\"yanchor\":\"bottom\",\"yref\":\"paper\"},{\"showarrow\":false,\"text\":\"balance=over-sample\",\"x\":0.8399999999999999,\"xanchor\":\"center\",\"xref\":\"paper\",\"y\":1.0,\"yanchor\":\"bottom\",\"yref\":\"paper\"}],\"legend\":{\"title\":{\"text\":\"balance, significant\"},\"tracegroupgap\":0},\"margin\":{\"t\":60},\"shapes\":[{\"line\":{\"color\":\"black\",\"dash\":\"dash\",\"width\":3},\"type\":\"line\",\"x0\":0.5,\"x1\":0.5,\"xref\":\"x\",\"y0\":0,\"y1\":1,\"yref\":\"y domain\"},{\"line\":{\"color\":\"black\",\"dash\":\"dash\",\"width\":3},\"type\":\"line\",\"x0\":0.5,\"x1\":0.5,\"xref\":\"x2\",\"y0\":0,\"y1\":1,\"yref\":\"y2 domain\"},{\"line\":{\"color\":\"black\",\"dash\":\"dash\",\"width\":3},\"type\":\"line\",\"x0\":0.5,\"x1\":0.5,\"xref\":\"x3\",\"y0\":0,\"y1\":1,\"yref\":\"y3 domain\"}],\"title\":{\"text\":\"dMW vs distracted(39,48\"},\"autosize\":true,\"width\":1600,\"height\":800},                        {\"responsive\": true}                    ).then(function(){\n",
       "                            \n",
       "var gd = document.getElementById('8bb2a7ae-736d-4fdd-83ea-ee06a831e4e9');\n",
       "var x = new MutationObserver(function (mutations, observer) {{\n",
       "        var display = window.getComputedStyle(gd).display;\n",
       "        if (!display || display === 'none') {{\n",
       "            console.log([gd, 'removed!']);\n",
       "            Plotly.purge(gd);\n",
       "            observer.disconnect();\n",
       "        }}\n",
       "}});\n",
       "\n",
       "// Listen for the removal of the full notebook cells\n",
       "var notebookContainer = gd.closest('#notebook-container');\n",
       "if (notebookContainer) {{\n",
       "    x.observe(notebookContainer, {childList: true});\n",
       "}}\n",
       "\n",
       "// Listen for the clearing of the current output cell\n",
       "var outputEl = gd.closest('.output');\n",
       "if (outputEl) {{\n",
       "    x.observe(outputEl, {childList: true});\n",
       "}}\n",
       "\n",
       "                        })                };                });            </script>        </div>"
      ]
     },
     "metadata": {},
     "output_type": "display_data"
    },
    {
     "data": {
      "application/vnd.plotly.v1+json": {
       "config": {
        "plotlyServerURL": "https://plot.ly"
       },
       "data": [
        {
         "hovertemplate": "balance=unbalance<br>significant=p > 0.05<br>sMW>on-task                  sMW<on-task=%{x}<br>markers=%{y}<extra></extra>",
         "legendgroup": "unbalance, p > 0.05",
         "marker": {
          "color": "#DE237B",
          "size": 8,
          "symbol": "circle-open"
         },
         "mode": "markers",
         "name": "unbalance, p > 0.05",
         "orientation": "h",
         "showlegend": true,
         "type": "scatter",
         "x": [
          0.3980702622464126,
          0.4045027214250371,
          0.4121721919841662,
          0.4190994557149926,
          0.42305789213260764,
          0.42330529440870857,
          0.43023255813953487,
          0.43171697179614055,
          0.44309747649678377,
          0.44804552201880254,
          0.4495299356754082,
          0.4503958436417615,
          0.45225136071251854,
          0.45522018802572983,
          0.4604156358238496,
          0.462394854032657,
          0.4651162790697675,
          0.46783770410687775,
          0.48515586343394357,
          0.4903513112320633,
          0.4950519544779812,
          0.49529935675408215,
          0.4965363681345869,
          0.5014844136566057,
          0.5039584364176151,
          0.5049480455220188,
          0.5066798614547253,
          0.5103908955962395,
          0.5136071251855517,
          0.5148441365660563,
          0.5155863433943593,
          0.5173181593270658,
          0.5185551707075705,
          0.5188025729836714,
          0.5215239980207818,
          0.5215239980207818,
          0.5239980207817913,
          0.5244928253339931,
          0.5279564571994063,
          0.5338941118258288,
          0.5351311232063335,
          0.5361207323107373,
          0.5383473527956457,
          0.5420583869371598,
          0.549480455220188,
          0.553686293913904,
          0.5620979713013359,
          0.5670460168233548,
          0.5734784760019792,
          0.5754576942107869,
          0.5821375556655122,
          0.582384957941613,
          0.5932706580900545
         ],
         "xaxis": "x",
         "y": [
          "$MSF_{mean}$",
          "$|\\alpha|_{mean}$",
          "$PE\\theta_{mean}$",
          "$\\alpha_{std}$",
          "$CNV_{mean}$",
          "$|\\beta|_{mean}$",
          "$P1_{std}$",
          "$SE_{mean}$",
          "$PE\\alpha_{mean}$",
          "$SEF90_{mean}$",
          "$\\beta_{mean}$",
          "$K_{mean}$",
          "$\\gamma_{mean}$",
          "$|\\gamma|_{mean}$",
          "$SEF95_{mean}$",
          "$\\alpha_{mean}$",
          "$P3b_{std}$",
          "$|\\alpha|_{std}$",
          "$\\delta_{std}$",
          "$PE\\beta_{std}$",
          "$\\theta_{std}$",
          "$CNV_{std}$",
          "$wSMI\\theta_{std}$",
          "$PE\\gamma_{mean}$",
          "$\\beta_{std}$",
          "$wSMI\\beta_{std}$",
          "$|\\delta|_{std}$",
          "$\\delta_{mean}$",
          "$SEF95_{std}$",
          "$PE\\gamma_{std}$",
          "$P3a_{std}$",
          "$PE\\theta_{std}$",
          "$SEF90_{std}$",
          "$wSMI\\theta_{mean}$",
          "$PE\\beta_{mean}$",
          "$|\\beta|_{std}$",
          "$wSMI\\alpha_{mean}$",
          "$wSMI\\gamma_{mean}$",
          "$PE\\alpha_{std}$",
          "$wSMI\\alpha_{std}$",
          "$|\\gamma|_{std}$",
          "$P3a_{mean}$",
          "$wSMI\\beta_{mean}$",
          "$|\\delta|_{mean}$",
          "$K_{std}$",
          "$\\gamma_{std}$",
          "$MSF_{std}$",
          "$\\theta_{mean}$",
          "$P3b_{mean}$",
          "$|\\theta|_{std}$",
          "$P1_{mean}$",
          "$wSMI\\gamma_{std}$",
          "$SE_{std}$"
         ],
         "yaxis": "y"
        },
        {
         "hovertemplate": "balance=unbalance<br>significant=p < 0.05 uncorrected<br>sMW>on-task                  sMW<on-task=%{x}<br>markers=%{y}<extra></extra>",
         "legendgroup": "unbalance, p < 0.05 uncorrected",
         "marker": {
          "color": "#DE237B",
          "size": 8,
          "symbol": "circle"
         },
         "mode": "markers",
         "name": "unbalance, p < 0.05 uncorrected",
         "orientation": "h",
         "showlegend": true,
         "type": "scatter",
         "x": [
          0.6566056407718951
         ],
         "xaxis": "x",
         "y": [
          "$|\\theta|_{mean}$"
         ],
         "yaxis": "y"
        },
        {
         "hovertemplate": "balance=under-sample<br>significant=p > 0.05<br>sMW>on-task                  sMW<on-task=%{x}<br>markers=%{y}<extra></extra>",
         "legendgroup": "under-sample, p > 0.05",
         "marker": {
          "color": "#9AC529",
          "size": 8,
          "symbol": "circle-open"
         },
         "mode": "markers",
         "name": "under-sample, p > 0.05",
         "orientation": "h",
         "showlegend": true,
         "type": "scatter",
         "x": [
          0.37858301784748516,
          0.3796646836127637,
          0.3931855056787453,
          0.4083288263926447,
          0.4099513250405624,
          0.44997295835586804,
          0.45484045429962144,
          0.45592212006489996,
          0.4570037858301785,
          0.4586262844780962,
          0.4618712817739319,
          0.46619794483504595,
          0.46782044348296375,
          0.47863710113574903,
          0.47863710113574903,
          0.4829637641968632,
          0.4856679286100595,
          0.4905354245538128,
          0.494862087614927,
          0.4964845862628448,
          0.4981070849107625,
          0.49972958355868036,
          0.5008112493239589,
          0.502163331530557,
          0.5035154137371552,
          0.5056787452677123,
          0.5116279069767442,
          0.5137912385073012,
          0.5148729042725798,
          0.5164954029204976,
          0.5197404002163332,
          0.5235262303948081,
          0.5246078961600865,
          0.5267712276906436,
          0.5273120605732828,
          0.5278528934559221,
          0.5305570578691184,
          0.5392103839913467,
          0.5424553812871822,
          0.555164954029205,
          0.5586803677663602,
          0.5592212006489994,
          0.5603028664142781,
          0.562466197944835,
          0.5759870200108166,
          0.5792320173066523,
          0.5808545159545702,
          0.5884261763115197,
          0.591130340724716,
          0.6008653326122229,
          0.6149269875608436,
          0.6176311519740401
         ],
         "xaxis": "x2",
         "y": [
          "$PE\\theta_{mean}$",
          "$\\alpha_{std}$",
          "$P1_{std}$",
          "$|\\alpha|_{mean}$",
          "$PE\\beta_{std}$",
          "$PE\\gamma_{std}$",
          "$\\beta_{std}$",
          "$|\\beta|_{mean}$",
          "$MSF_{mean}$",
          "$\\alpha_{mean}$",
          "$P3b_{std}$",
          "$wSMI\\theta_{std}$",
          "$SE_{mean}$",
          "$|\\alpha|_{std}$",
          "$\\theta_{std}$",
          "$PE\\alpha_{mean}$",
          "$wSMI\\beta_{mean}$",
          "$wSMI\\alpha_{std}$",
          "$CNV_{std}$",
          "$\\delta_{std}$",
          "$|\\delta|_{std}$",
          "$SEF90_{mean}$",
          "$\\beta_{mean}$",
          "$K_{mean}$",
          "$|\\delta|_{mean}$",
          "$SEF95_{std}$",
          "$PE\\alpha_{std}$",
          "$SEF95_{mean}$",
          "$wSMI\\theta_{mean}$",
          "$|\\gamma|_{mean}$",
          "$CNV_{mean}$",
          "$|\\beta|_{std}$",
          "$wSMI\\alpha_{mean}$",
          "$\\delta_{mean}$",
          "$SEF90_{std}$",
          "$\\gamma_{mean}$",
          "$P3a_{std}$",
          "$wSMI\\beta_{std}$",
          "$P3a_{mean}$",
          "$K_{std}$",
          "$wSMI\\gamma_{mean}$",
          "$PE\\gamma_{mean}$",
          "$PE\\beta_{mean}$",
          "$\\theta_{mean}$",
          "$P1_{mean}$",
          "$PE\\theta_{std}$",
          "$|\\theta|_{mean}$",
          "$|\\gamma|_{std}$",
          "$\\gamma_{std}$",
          "$|\\theta|_{std}$",
          "$MSF_{std}$",
          "$P3b_{mean}$"
         ],
         "yaxis": "y2"
        },
        {
         "hovertemplate": "balance=under-sample<br>significant=p < 0.05 uncorrected<br>sMW>on-task                  sMW<on-task=%{x}<br>markers=%{y}<extra></extra>",
         "legendgroup": "under-sample, p < 0.05 uncorrected",
         "marker": {
          "color": "#9AC529",
          "size": 8,
          "symbol": "circle"
         },
         "mode": "markers",
         "name": "under-sample, p < 0.05 uncorrected",
         "orientation": "h",
         "showlegend": true,
         "type": "scatter",
         "x": [
          0.633856138453218,
          0.6371011357490535
         ],
         "xaxis": "x2",
         "y": [
          "$wSMI\\gamma_{std}$",
          "$SE_{std}$"
         ],
         "yaxis": "y2"
        },
        {
         "hovertemplate": "balance=over-sample<br>significant=p > 0.05<br>sMW>on-task                  sMW<on-task=%{x}<br>markers=%{y}<extra></extra>",
         "legendgroup": "over-sample, p > 0.05",
         "marker": {
          "color": "#F38A31",
          "size": 8,
          "symbol": "circle-open"
         },
         "mode": "markers",
         "name": "over-sample, p > 0.05",
         "orientation": "h",
         "showlegend": true,
         "type": "scatter",
         "x": [
          0.42236306020823894,
          0.42258940697148034,
          0.42915346310547753,
          0.4298325033952014,
          0.43469895880488907,
          0.4434133091896786,
          0.4469216840199185,
          0.4481100045269352,
          0.4591444092349479,
          0.4602761430511543,
          0.47397012222725216,
          0.4753282028066998,
          0.4777048438207333,
          0.4787234042553191,
          0.4911724762335898,
          0.49230421004979624,
          0.4930964237211407,
          0.4988682661837935,
          0.5010185604345858,
          0.505998189225894,
          0.5082616568583069,
          0.5122227252150294,
          0.5217292892711634,
          0.5222951561792666,
          0.5233137166138525,
          0.523426889995473,
          0.5241059302851969,
          0.5242191036668176,
          0.5264825712992305,
          0.5296514259846085,
          0.5299909461294703,
          0.5329334540516071,
          0.5392711634223631,
          0.5406292440018108,
          0.5414214576731552,
          0.5415346310547758,
          0.5423268447261205,
          0.5527387958352196,
          0.5536441828881847,
          0.5550022634676324,
          0.5590765052059756,
          0.5620190131281123,
          0.5658669081032142,
          0.5667722951561792,
          0.5671684019918516
         ],
         "xaxis": "x3",
         "y": [
          "$SE_{mean}$",
          "$|\\alpha|_{mean}$",
          "$PE\\alpha_{mean}$",
          "$PE\\theta_{mean}$",
          "$SEF90_{mean}$",
          "$SEF95_{mean}$",
          "$|\\gamma|_{mean}$",
          "$K_{mean}$",
          "$P3b_{std}$",
          "$P1_{std}$",
          "$\\gamma_{mean}$",
          "$\\beta_{mean}$",
          "$\\theta_{std}$",
          "$PE\\gamma_{mean}$",
          "$PE\\beta_{mean}$",
          "$wSMI\\theta_{std}$",
          "$|\\alpha|_{std}$",
          "$\\alpha_{mean}$",
          "$wSMI\\alpha_{std}$",
          "$PE\\theta_{std}$",
          "$wSMI\\beta_{std}$",
          "$PE\\alpha_{std}$",
          "$|\\beta|_{std}$",
          "$CNV_{std}$",
          "$PE\\beta_{std}$",
          "$SEF90_{std}$",
          "$|\\delta|_{mean}$",
          "$wSMI\\gamma_{mean}$",
          "$|\\delta|_{std}$",
          "$SEF95_{std}$",
          "$\\delta_{std}$",
          "$P3a_{std}$",
          "$\\delta_{mean}$",
          "$|\\gamma|_{std}$",
          "$|\\theta|_{std}$",
          "$P3a_{mean}$",
          "$\\beta_{std}$",
          "$P3b_{mean}$",
          "$wSMI\\beta_{mean}$",
          "$wSMI\\theta_{mean}$",
          "$PE\\gamma_{std}$",
          "$MSF_{std}$",
          "$\\gamma_{std}$",
          "$wSMI\\alpha_{mean}$",
          "$K_{std}$"
         ],
         "yaxis": "y3"
        },
        {
         "hovertemplate": "balance=over-sample<br>significant=p < 0.05 uncorrected<br>sMW>on-task                  sMW<on-task=%{x}<br>markers=%{y}<extra></extra>",
         "legendgroup": "over-sample, p < 0.05 uncorrected",
         "marker": {
          "color": "#F38A31",
          "size": 8,
          "symbol": "circle"
         },
         "mode": "markers",
         "name": "over-sample, p < 0.05 uncorrected",
         "orientation": "h",
         "showlegend": true,
         "type": "scatter",
         "x": [
          0.39565414214576733,
          0.39995473064735176,
          0.4135355364418289,
          0.4137618832050701,
          0.5830692621095518,
          0.6044590312358533,
          0.6189452240832957
         ],
         "xaxis": "x3",
         "y": [
          "$CNV_{mean}$",
          "$MSF_{mean}$",
          "$\\alpha_{std}$",
          "$|\\beta|_{mean}$",
          "$wSMI\\gamma_{std}$",
          "$\\theta_{mean}$",
          "$SE_{std}$"
         ],
         "yaxis": "y3"
        },
        {
         "hovertemplate": "balance=over-sample<br>significant=p < 0.05 FDR corrected<br>sMW>on-task                  sMW<on-task=%{x}<br>markers=%{y}<extra></extra>",
         "legendgroup": "over-sample, p < 0.05 FDR corrected",
         "marker": {
          "color": "#F38A31",
          "size": 8,
          "symbol": "hexagram"
         },
         "mode": "markers",
         "name": "over-sample, p < 0.05 FDR corrected",
         "orientation": "h",
         "showlegend": true,
         "type": "scatter",
         "x": [
          0.6418062471706655,
          0.6458804889090085
         ],
         "xaxis": "x3",
         "y": [
          "$P1_{mean}$",
          "$|\\theta|_{mean}$"
         ],
         "yaxis": "y3"
        }
       ],
       "layout": {
        "annotations": [
         {
          "showarrow": false,
          "text": "balance=unbalance",
          "x": 0.15999999999999998,
          "xanchor": "center",
          "xref": "paper",
          "y": 1,
          "yanchor": "bottom",
          "yref": "paper"
         },
         {
          "showarrow": false,
          "text": "balance=under-sample",
          "x": 0.49999999999999994,
          "xanchor": "center",
          "xref": "paper",
          "y": 1,
          "yanchor": "bottom",
          "yref": "paper"
         },
         {
          "showarrow": false,
          "text": "balance=over-sample",
          "x": 0.8399999999999999,
          "xanchor": "center",
          "xref": "paper",
          "y": 1,
          "yanchor": "bottom",
          "yref": "paper"
         }
        ],
        "autosize": true,
        "height": 800,
        "legend": {
         "title": {
          "text": "balance, significant"
         },
         "tracegroupgap": 0
        },
        "margin": {
         "t": 60
        },
        "shapes": [
         {
          "line": {
           "color": "black",
           "dash": "dash",
           "width": 3
          },
          "type": "line",
          "x0": 0.5,
          "x1": 0.5,
          "xref": "x",
          "y0": 0,
          "y1": 1,
          "yref": "y domain"
         },
         {
          "line": {
           "color": "black",
           "dash": "dash",
           "width": 3
          },
          "type": "line",
          "x0": 0.5,
          "x1": 0.5,
          "xref": "x2",
          "y0": 0,
          "y1": 1,
          "yref": "y2 domain"
         },
         {
          "line": {
           "color": "black",
           "dash": "dash",
           "width": 3
          },
          "type": "line",
          "x0": 0.5,
          "x1": 0.5,
          "xref": "x3",
          "y0": 0,
          "y1": 1,
          "yref": "y3 domain"
         }
        ],
        "template": {
         "data": {
          "bar": [
           {
            "error_x": {
             "color": "#2a3f5f"
            },
            "error_y": {
             "color": "#2a3f5f"
            },
            "marker": {
             "line": {
              "color": "white",
              "width": 0.5
             },
             "pattern": {
              "fillmode": "overlay",
              "size": 10,
              "solidity": 0.2
             }
            },
            "type": "bar"
           }
          ],
          "barpolar": [
           {
            "marker": {
             "line": {
              "color": "white",
              "width": 0.5
             },
             "pattern": {
              "fillmode": "overlay",
              "size": 10,
              "solidity": 0.2
             }
            },
            "type": "barpolar"
           }
          ],
          "carpet": [
           {
            "aaxis": {
             "endlinecolor": "#2a3f5f",
             "gridcolor": "#C8D4E3",
             "linecolor": "#C8D4E3",
             "minorgridcolor": "#C8D4E3",
             "startlinecolor": "#2a3f5f"
            },
            "baxis": {
             "endlinecolor": "#2a3f5f",
             "gridcolor": "#C8D4E3",
             "linecolor": "#C8D4E3",
             "minorgridcolor": "#C8D4E3",
             "startlinecolor": "#2a3f5f"
            },
            "type": "carpet"
           }
          ],
          "choropleth": [
           {
            "colorbar": {
             "outlinewidth": 0,
             "ticks": ""
            },
            "type": "choropleth"
           }
          ],
          "contour": [
           {
            "colorbar": {
             "outlinewidth": 0,
             "ticks": ""
            },
            "colorscale": [
             [
              0,
              "#0d0887"
             ],
             [
              0.1111111111111111,
              "#46039f"
             ],
             [
              0.2222222222222222,
              "#7201a8"
             ],
             [
              0.3333333333333333,
              "#9c179e"
             ],
             [
              0.4444444444444444,
              "#bd3786"
             ],
             [
              0.5555555555555556,
              "#d8576b"
             ],
             [
              0.6666666666666666,
              "#ed7953"
             ],
             [
              0.7777777777777778,
              "#fb9f3a"
             ],
             [
              0.8888888888888888,
              "#fdca26"
             ],
             [
              1,
              "#f0f921"
             ]
            ],
            "type": "contour"
           }
          ],
          "contourcarpet": [
           {
            "colorbar": {
             "outlinewidth": 0,
             "ticks": ""
            },
            "type": "contourcarpet"
           }
          ],
          "heatmap": [
           {
            "colorbar": {
             "outlinewidth": 0,
             "ticks": ""
            },
            "colorscale": [
             [
              0,
              "#0d0887"
             ],
             [
              0.1111111111111111,
              "#46039f"
             ],
             [
              0.2222222222222222,
              "#7201a8"
             ],
             [
              0.3333333333333333,
              "#9c179e"
             ],
             [
              0.4444444444444444,
              "#bd3786"
             ],
             [
              0.5555555555555556,
              "#d8576b"
             ],
             [
              0.6666666666666666,
              "#ed7953"
             ],
             [
              0.7777777777777778,
              "#fb9f3a"
             ],
             [
              0.8888888888888888,
              "#fdca26"
             ],
             [
              1,
              "#f0f921"
             ]
            ],
            "type": "heatmap"
           }
          ],
          "heatmapgl": [
           {
            "colorbar": {
             "outlinewidth": 0,
             "ticks": ""
            },
            "colorscale": [
             [
              0,
              "#0d0887"
             ],
             [
              0.1111111111111111,
              "#46039f"
             ],
             [
              0.2222222222222222,
              "#7201a8"
             ],
             [
              0.3333333333333333,
              "#9c179e"
             ],
             [
              0.4444444444444444,
              "#bd3786"
             ],
             [
              0.5555555555555556,
              "#d8576b"
             ],
             [
              0.6666666666666666,
              "#ed7953"
             ],
             [
              0.7777777777777778,
              "#fb9f3a"
             ],
             [
              0.8888888888888888,
              "#fdca26"
             ],
             [
              1,
              "#f0f921"
             ]
            ],
            "type": "heatmapgl"
           }
          ],
          "histogram": [
           {
            "marker": {
             "pattern": {
              "fillmode": "overlay",
              "size": 10,
              "solidity": 0.2
             }
            },
            "type": "histogram"
           }
          ],
          "histogram2d": [
           {
            "colorbar": {
             "outlinewidth": 0,
             "ticks": ""
            },
            "colorscale": [
             [
              0,
              "#0d0887"
             ],
             [
              0.1111111111111111,
              "#46039f"
             ],
             [
              0.2222222222222222,
              "#7201a8"
             ],
             [
              0.3333333333333333,
              "#9c179e"
             ],
             [
              0.4444444444444444,
              "#bd3786"
             ],
             [
              0.5555555555555556,
              "#d8576b"
             ],
             [
              0.6666666666666666,
              "#ed7953"
             ],
             [
              0.7777777777777778,
              "#fb9f3a"
             ],
             [
              0.8888888888888888,
              "#fdca26"
             ],
             [
              1,
              "#f0f921"
             ]
            ],
            "type": "histogram2d"
           }
          ],
          "histogram2dcontour": [
           {
            "colorbar": {
             "outlinewidth": 0,
             "ticks": ""
            },
            "colorscale": [
             [
              0,
              "#0d0887"
             ],
             [
              0.1111111111111111,
              "#46039f"
             ],
             [
              0.2222222222222222,
              "#7201a8"
             ],
             [
              0.3333333333333333,
              "#9c179e"
             ],
             [
              0.4444444444444444,
              "#bd3786"
             ],
             [
              0.5555555555555556,
              "#d8576b"
             ],
             [
              0.6666666666666666,
              "#ed7953"
             ],
             [
              0.7777777777777778,
              "#fb9f3a"
             ],
             [
              0.8888888888888888,
              "#fdca26"
             ],
             [
              1,
              "#f0f921"
             ]
            ],
            "type": "histogram2dcontour"
           }
          ],
          "mesh3d": [
           {
            "colorbar": {
             "outlinewidth": 0,
             "ticks": ""
            },
            "type": "mesh3d"
           }
          ],
          "parcoords": [
           {
            "line": {
             "colorbar": {
              "outlinewidth": 0,
              "ticks": ""
             }
            },
            "type": "parcoords"
           }
          ],
          "pie": [
           {
            "automargin": true,
            "type": "pie"
           }
          ],
          "scatter": [
           {
            "fillpattern": {
             "fillmode": "overlay",
             "size": 10,
             "solidity": 0.2
            },
            "type": "scatter"
           }
          ],
          "scatter3d": [
           {
            "line": {
             "colorbar": {
              "outlinewidth": 0,
              "ticks": ""
             }
            },
            "marker": {
             "colorbar": {
              "outlinewidth": 0,
              "ticks": ""
             }
            },
            "type": "scatter3d"
           }
          ],
          "scattercarpet": [
           {
            "marker": {
             "colorbar": {
              "outlinewidth": 0,
              "ticks": ""
             }
            },
            "type": "scattercarpet"
           }
          ],
          "scattergeo": [
           {
            "marker": {
             "colorbar": {
              "outlinewidth": 0,
              "ticks": ""
             }
            },
            "type": "scattergeo"
           }
          ],
          "scattergl": [
           {
            "marker": {
             "colorbar": {
              "outlinewidth": 0,
              "ticks": ""
             }
            },
            "type": "scattergl"
           }
          ],
          "scattermapbox": [
           {
            "marker": {
             "colorbar": {
              "outlinewidth": 0,
              "ticks": ""
             }
            },
            "type": "scattermapbox"
           }
          ],
          "scatterpolar": [
           {
            "marker": {
             "colorbar": {
              "outlinewidth": 0,
              "ticks": ""
             }
            },
            "type": "scatterpolar"
           }
          ],
          "scatterpolargl": [
           {
            "marker": {
             "colorbar": {
              "outlinewidth": 0,
              "ticks": ""
             }
            },
            "type": "scatterpolargl"
           }
          ],
          "scatterternary": [
           {
            "marker": {
             "colorbar": {
              "outlinewidth": 0,
              "ticks": ""
             }
            },
            "type": "scatterternary"
           }
          ],
          "surface": [
           {
            "colorbar": {
             "outlinewidth": 0,
             "ticks": ""
            },
            "colorscale": [
             [
              0,
              "#0d0887"
             ],
             [
              0.1111111111111111,
              "#46039f"
             ],
             [
              0.2222222222222222,
              "#7201a8"
             ],
             [
              0.3333333333333333,
              "#9c179e"
             ],
             [
              0.4444444444444444,
              "#bd3786"
             ],
             [
              0.5555555555555556,
              "#d8576b"
             ],
             [
              0.6666666666666666,
              "#ed7953"
             ],
             [
              0.7777777777777778,
              "#fb9f3a"
             ],
             [
              0.8888888888888888,
              "#fdca26"
             ],
             [
              1,
              "#f0f921"
             ]
            ],
            "type": "surface"
           }
          ],
          "table": [
           {
            "cells": {
             "fill": {
              "color": "#EBF0F8"
             },
             "line": {
              "color": "white"
             }
            },
            "header": {
             "fill": {
              "color": "#C8D4E3"
             },
             "line": {
              "color": "white"
             }
            },
            "type": "table"
           }
          ]
         },
         "layout": {
          "annotationdefaults": {
           "arrowcolor": "#2a3f5f",
           "arrowhead": 0,
           "arrowwidth": 1
          },
          "autotypenumbers": "strict",
          "coloraxis": {
           "colorbar": {
            "outlinewidth": 0,
            "ticks": ""
           }
          },
          "colorscale": {
           "diverging": [
            [
             0,
             "#8e0152"
            ],
            [
             0.1,
             "#c51b7d"
            ],
            [
             0.2,
             "#de77ae"
            ],
            [
             0.3,
             "#f1b6da"
            ],
            [
             0.4,
             "#fde0ef"
            ],
            [
             0.5,
             "#f7f7f7"
            ],
            [
             0.6,
             "#e6f5d0"
            ],
            [
             0.7,
             "#b8e186"
            ],
            [
             0.8,
             "#7fbc41"
            ],
            [
             0.9,
             "#4d9221"
            ],
            [
             1,
             "#276419"
            ]
           ],
           "sequential": [
            [
             0,
             "#0d0887"
            ],
            [
             0.1111111111111111,
             "#46039f"
            ],
            [
             0.2222222222222222,
             "#7201a8"
            ],
            [
             0.3333333333333333,
             "#9c179e"
            ],
            [
             0.4444444444444444,
             "#bd3786"
            ],
            [
             0.5555555555555556,
             "#d8576b"
            ],
            [
             0.6666666666666666,
             "#ed7953"
            ],
            [
             0.7777777777777778,
             "#fb9f3a"
            ],
            [
             0.8888888888888888,
             "#fdca26"
            ],
            [
             1,
             "#f0f921"
            ]
           ],
           "sequentialminus": [
            [
             0,
             "#0d0887"
            ],
            [
             0.1111111111111111,
             "#46039f"
            ],
            [
             0.2222222222222222,
             "#7201a8"
            ],
            [
             0.3333333333333333,
             "#9c179e"
            ],
            [
             0.4444444444444444,
             "#bd3786"
            ],
            [
             0.5555555555555556,
             "#d8576b"
            ],
            [
             0.6666666666666666,
             "#ed7953"
            ],
            [
             0.7777777777777778,
             "#fb9f3a"
            ],
            [
             0.8888888888888888,
             "#fdca26"
            ],
            [
             1,
             "#f0f921"
            ]
           ]
          },
          "colorway": [
           "#636efa",
           "#EF553B",
           "#00cc96",
           "#ab63fa",
           "#FFA15A",
           "#19d3f3",
           "#FF6692",
           "#B6E880",
           "#FF97FF",
           "#FECB52"
          ],
          "font": {
           "color": "#2a3f5f"
          },
          "geo": {
           "bgcolor": "white",
           "lakecolor": "white",
           "landcolor": "white",
           "showlakes": true,
           "showland": true,
           "subunitcolor": "#C8D4E3"
          },
          "hoverlabel": {
           "align": "left"
          },
          "hovermode": "closest",
          "mapbox": {
           "style": "light"
          },
          "paper_bgcolor": "white",
          "plot_bgcolor": "white",
          "polar": {
           "angularaxis": {
            "gridcolor": "#EBF0F8",
            "linecolor": "#EBF0F8",
            "ticks": ""
           },
           "bgcolor": "white",
           "radialaxis": {
            "gridcolor": "#EBF0F8",
            "linecolor": "#EBF0F8",
            "ticks": ""
           }
          },
          "scene": {
           "xaxis": {
            "backgroundcolor": "white",
            "gridcolor": "#DFE8F3",
            "gridwidth": 2,
            "linecolor": "#EBF0F8",
            "showbackground": true,
            "ticks": "",
            "zerolinecolor": "#EBF0F8"
           },
           "yaxis": {
            "backgroundcolor": "white",
            "gridcolor": "#DFE8F3",
            "gridwidth": 2,
            "linecolor": "#EBF0F8",
            "showbackground": true,
            "ticks": "",
            "zerolinecolor": "#EBF0F8"
           },
           "zaxis": {
            "backgroundcolor": "white",
            "gridcolor": "#DFE8F3",
            "gridwidth": 2,
            "linecolor": "#EBF0F8",
            "showbackground": true,
            "ticks": "",
            "zerolinecolor": "#EBF0F8"
           }
          },
          "shapedefaults": {
           "line": {
            "color": "#2a3f5f"
           }
          },
          "ternary": {
           "aaxis": {
            "gridcolor": "#DFE8F3",
            "linecolor": "#A2B1C6",
            "ticks": ""
           },
           "baxis": {
            "gridcolor": "#DFE8F3",
            "linecolor": "#A2B1C6",
            "ticks": ""
           },
           "bgcolor": "white",
           "caxis": {
            "gridcolor": "#DFE8F3",
            "linecolor": "#A2B1C6",
            "ticks": ""
           }
          },
          "title": {
           "x": 0.05
          },
          "xaxis": {
           "automargin": true,
           "gridcolor": "#EBF0F8",
           "linecolor": "#EBF0F8",
           "ticks": "",
           "title": {
            "standoff": 15
           },
           "zerolinecolor": "#EBF0F8",
           "zerolinewidth": 2
          },
          "yaxis": {
           "automargin": true,
           "gridcolor": "#EBF0F8",
           "linecolor": "#EBF0F8",
           "ticks": "",
           "title": {
            "standoff": 15
           },
           "zerolinecolor": "#EBF0F8",
           "zerolinewidth": 2
          }
         }
        },
        "title": {
         "text": "sMW vs on-task(43,94"
        },
        "width": 1600,
        "xaxis": {
         "anchor": "y",
         "domain": [
          0,
          0.31999999999999995
         ],
         "title": {
          "text": "sMW>on-task                  sMW<on-task"
         }
        },
        "xaxis2": {
         "anchor": "y2",
         "domain": [
          0.33999999999999997,
          0.6599999999999999
         ],
         "matches": "x",
         "title": {
          "text": "sMW>on-task                  sMW<on-task"
         }
        },
        "xaxis3": {
         "anchor": "y3",
         "domain": [
          0.6799999999999999,
          0.9999999999999999
         ],
         "matches": "x",
         "title": {
          "text": "sMW>on-task                  sMW<on-task"
         }
        },
        "yaxis": {
         "anchor": "x",
         "domain": [
          0,
          1
         ],
         "showticklabels": true,
         "tickmode": "linear",
         "title": {
          "text": "markers"
         }
        },
        "yaxis2": {
         "anchor": "x2",
         "domain": [
          0,
          1
         ],
         "matches": "y",
         "showticklabels": false
        },
        "yaxis3": {
         "anchor": "x3",
         "domain": [
          0,
          1
         ],
         "matches": "y",
         "showticklabels": false
        }
       }
      },
      "text/html": [
       "<div>                            <div id=\"2b138431-78e9-4230-aef8-c815d8f5b66e\" class=\"plotly-graph-div\" style=\"height:800px; width:1600px;\"></div>            <script type=\"text/javascript\">                require([\"plotly\"], function(Plotly) {                    window.PLOTLYENV=window.PLOTLYENV || {};                                    if (document.getElementById(\"2b138431-78e9-4230-aef8-c815d8f5b66e\")) {                    Plotly.newPlot(                        \"2b138431-78e9-4230-aef8-c815d8f5b66e\",                        [{\"hovertemplate\":\"balance=unbalance<br>significant=p > 0.05<br>sMW>on-task                  sMW<on-task=%{x}<br>markers=%{y}<extra></extra>\",\"legendgroup\":\"unbalance, p > 0.05\",\"marker\":{\"color\":\"#DE237B\",\"symbol\":\"circle-open\",\"size\":8},\"mode\":\"markers\",\"name\":\"unbalance, p > 0.05\",\"orientation\":\"h\",\"showlegend\":true,\"x\":[0.3980702622464126,0.4045027214250371,0.4121721919841662,0.4190994557149926,0.42305789213260764,0.42330529440870857,0.43023255813953487,0.43171697179614055,0.44309747649678377,0.44804552201880254,0.4495299356754082,0.4503958436417615,0.45225136071251854,0.45522018802572983,0.4604156358238496,0.462394854032657,0.4651162790697675,0.46783770410687775,0.48515586343394357,0.4903513112320633,0.4950519544779812,0.49529935675408215,0.4965363681345869,0.5014844136566057,0.5039584364176151,0.5049480455220188,0.5066798614547253,0.5103908955962395,0.5136071251855517,0.5148441365660563,0.5155863433943593,0.5173181593270658,0.5185551707075705,0.5188025729836714,0.5215239980207818,0.5215239980207818,0.5239980207817913,0.5244928253339931,0.5279564571994063,0.5338941118258288,0.5351311232063335,0.5361207323107373,0.5383473527956457,0.5420583869371598,0.549480455220188,0.553686293913904,0.5620979713013359,0.5670460168233548,0.5734784760019792,0.5754576942107869,0.5821375556655122,0.582384957941613,0.5932706580900545],\"xaxis\":\"x\",\"y\":[\"$MSF_{mean}$\",\"$|\\\\alpha|_{mean}$\",\"$PE\\\\theta_{mean}$\",\"$\\\\alpha_{std}$\",\"$CNV_{mean}$\",\"$|\\\\beta|_{mean}$\",\"$P1_{std}$\",\"$SE_{mean}$\",\"$PE\\\\alpha_{mean}$\",\"$SEF90_{mean}$\",\"$\\\\beta_{mean}$\",\"$K_{mean}$\",\"$\\\\gamma_{mean}$\",\"$|\\\\gamma|_{mean}$\",\"$SEF95_{mean}$\",\"$\\\\alpha_{mean}$\",\"$P3b_{std}$\",\"$|\\\\alpha|_{std}$\",\"$\\\\delta_{std}$\",\"$PE\\\\beta_{std}$\",\"$\\\\theta_{std}$\",\"$CNV_{std}$\",\"$wSMI\\\\theta_{std}$\",\"$PE\\\\gamma_{mean}$\",\"$\\\\beta_{std}$\",\"$wSMI\\\\beta_{std}$\",\"$|\\\\delta|_{std}$\",\"$\\\\delta_{mean}$\",\"$SEF95_{std}$\",\"$PE\\\\gamma_{std}$\",\"$P3a_{std}$\",\"$PE\\\\theta_{std}$\",\"$SEF90_{std}$\",\"$wSMI\\\\theta_{mean}$\",\"$PE\\\\beta_{mean}$\",\"$|\\\\beta|_{std}$\",\"$wSMI\\\\alpha_{mean}$\",\"$wSMI\\\\gamma_{mean}$\",\"$PE\\\\alpha_{std}$\",\"$wSMI\\\\alpha_{std}$\",\"$|\\\\gamma|_{std}$\",\"$P3a_{mean}$\",\"$wSMI\\\\beta_{mean}$\",\"$|\\\\delta|_{mean}$\",\"$K_{std}$\",\"$\\\\gamma_{std}$\",\"$MSF_{std}$\",\"$\\\\theta_{mean}$\",\"$P3b_{mean}$\",\"$|\\\\theta|_{std}$\",\"$P1_{mean}$\",\"$wSMI\\\\gamma_{std}$\",\"$SE_{std}$\"],\"yaxis\":\"y\",\"type\":\"scatter\"},{\"hovertemplate\":\"balance=unbalance<br>significant=p < 0.05 uncorrected<br>sMW>on-task                  sMW<on-task=%{x}<br>markers=%{y}<extra></extra>\",\"legendgroup\":\"unbalance, p < 0.05 uncorrected\",\"marker\":{\"color\":\"#DE237B\",\"symbol\":\"circle\",\"size\":8},\"mode\":\"markers\",\"name\":\"unbalance, p < 0.05 uncorrected\",\"orientation\":\"h\",\"showlegend\":true,\"x\":[0.6566056407718951],\"xaxis\":\"x\",\"y\":[\"$|\\\\theta|_{mean}$\"],\"yaxis\":\"y\",\"type\":\"scatter\"},{\"hovertemplate\":\"balance=under-sample<br>significant=p > 0.05<br>sMW>on-task                  sMW<on-task=%{x}<br>markers=%{y}<extra></extra>\",\"legendgroup\":\"under-sample, p > 0.05\",\"marker\":{\"color\":\"#9AC529\",\"symbol\":\"circle-open\",\"size\":8},\"mode\":\"markers\",\"name\":\"under-sample, p > 0.05\",\"orientation\":\"h\",\"showlegend\":true,\"x\":[0.37858301784748516,0.3796646836127637,0.3931855056787453,0.4083288263926447,0.4099513250405624,0.44997295835586804,0.45484045429962144,0.45592212006489996,0.4570037858301785,0.4586262844780962,0.4618712817739319,0.46619794483504595,0.46782044348296375,0.47863710113574903,0.47863710113574903,0.4829637641968632,0.4856679286100595,0.4905354245538128,0.494862087614927,0.4964845862628448,0.4981070849107625,0.49972958355868036,0.5008112493239589,0.502163331530557,0.5035154137371552,0.5056787452677123,0.5116279069767442,0.5137912385073012,0.5148729042725798,0.5164954029204976,0.5197404002163332,0.5235262303948081,0.5246078961600865,0.5267712276906436,0.5273120605732828,0.5278528934559221,0.5305570578691184,0.5392103839913467,0.5424553812871822,0.555164954029205,0.5586803677663602,0.5592212006489994,0.5603028664142781,0.562466197944835,0.5759870200108166,0.5792320173066523,0.5808545159545702,0.5884261763115197,0.591130340724716,0.6008653326122229,0.6149269875608436,0.6176311519740401],\"xaxis\":\"x2\",\"y\":[\"$PE\\\\theta_{mean}$\",\"$\\\\alpha_{std}$\",\"$P1_{std}$\",\"$|\\\\alpha|_{mean}$\",\"$PE\\\\beta_{std}$\",\"$PE\\\\gamma_{std}$\",\"$\\\\beta_{std}$\",\"$|\\\\beta|_{mean}$\",\"$MSF_{mean}$\",\"$\\\\alpha_{mean}$\",\"$P3b_{std}$\",\"$wSMI\\\\theta_{std}$\",\"$SE_{mean}$\",\"$|\\\\alpha|_{std}$\",\"$\\\\theta_{std}$\",\"$PE\\\\alpha_{mean}$\",\"$wSMI\\\\beta_{mean}$\",\"$wSMI\\\\alpha_{std}$\",\"$CNV_{std}$\",\"$\\\\delta_{std}$\",\"$|\\\\delta|_{std}$\",\"$SEF90_{mean}$\",\"$\\\\beta_{mean}$\",\"$K_{mean}$\",\"$|\\\\delta|_{mean}$\",\"$SEF95_{std}$\",\"$PE\\\\alpha_{std}$\",\"$SEF95_{mean}$\",\"$wSMI\\\\theta_{mean}$\",\"$|\\\\gamma|_{mean}$\",\"$CNV_{mean}$\",\"$|\\\\beta|_{std}$\",\"$wSMI\\\\alpha_{mean}$\",\"$\\\\delta_{mean}$\",\"$SEF90_{std}$\",\"$\\\\gamma_{mean}$\",\"$P3a_{std}$\",\"$wSMI\\\\beta_{std}$\",\"$P3a_{mean}$\",\"$K_{std}$\",\"$wSMI\\\\gamma_{mean}$\",\"$PE\\\\gamma_{mean}$\",\"$PE\\\\beta_{mean}$\",\"$\\\\theta_{mean}$\",\"$P1_{mean}$\",\"$PE\\\\theta_{std}$\",\"$|\\\\theta|_{mean}$\",\"$|\\\\gamma|_{std}$\",\"$\\\\gamma_{std}$\",\"$|\\\\theta|_{std}$\",\"$MSF_{std}$\",\"$P3b_{mean}$\"],\"yaxis\":\"y2\",\"type\":\"scatter\"},{\"hovertemplate\":\"balance=under-sample<br>significant=p < 0.05 uncorrected<br>sMW>on-task                  sMW<on-task=%{x}<br>markers=%{y}<extra></extra>\",\"legendgroup\":\"under-sample, p < 0.05 uncorrected\",\"marker\":{\"color\":\"#9AC529\",\"symbol\":\"circle\",\"size\":8},\"mode\":\"markers\",\"name\":\"under-sample, p < 0.05 uncorrected\",\"orientation\":\"h\",\"showlegend\":true,\"x\":[0.633856138453218,0.6371011357490535],\"xaxis\":\"x2\",\"y\":[\"$wSMI\\\\gamma_{std}$\",\"$SE_{std}$\"],\"yaxis\":\"y2\",\"type\":\"scatter\"},{\"hovertemplate\":\"balance=over-sample<br>significant=p > 0.05<br>sMW>on-task                  sMW<on-task=%{x}<br>markers=%{y}<extra></extra>\",\"legendgroup\":\"over-sample, p > 0.05\",\"marker\":{\"color\":\"#F38A31\",\"symbol\":\"circle-open\",\"size\":8},\"mode\":\"markers\",\"name\":\"over-sample, p > 0.05\",\"orientation\":\"h\",\"showlegend\":true,\"x\":[0.42236306020823894,0.42258940697148034,0.42915346310547753,0.4298325033952014,0.43469895880488907,0.4434133091896786,0.4469216840199185,0.4481100045269352,0.4591444092349479,0.4602761430511543,0.47397012222725216,0.4753282028066998,0.4777048438207333,0.4787234042553191,0.4911724762335898,0.49230421004979624,0.4930964237211407,0.4988682661837935,0.5010185604345858,0.505998189225894,0.5082616568583069,0.5122227252150294,0.5217292892711634,0.5222951561792666,0.5233137166138525,0.523426889995473,0.5241059302851969,0.5242191036668176,0.5264825712992305,0.5296514259846085,0.5299909461294703,0.5329334540516071,0.5392711634223631,0.5406292440018108,0.5414214576731552,0.5415346310547758,0.5423268447261205,0.5527387958352196,0.5536441828881847,0.5550022634676324,0.5590765052059756,0.5620190131281123,0.5658669081032142,0.5667722951561792,0.5671684019918516],\"xaxis\":\"x3\",\"y\":[\"$SE_{mean}$\",\"$|\\\\alpha|_{mean}$\",\"$PE\\\\alpha_{mean}$\",\"$PE\\\\theta_{mean}$\",\"$SEF90_{mean}$\",\"$SEF95_{mean}$\",\"$|\\\\gamma|_{mean}$\",\"$K_{mean}$\",\"$P3b_{std}$\",\"$P1_{std}$\",\"$\\\\gamma_{mean}$\",\"$\\\\beta_{mean}$\",\"$\\\\theta_{std}$\",\"$PE\\\\gamma_{mean}$\",\"$PE\\\\beta_{mean}$\",\"$wSMI\\\\theta_{std}$\",\"$|\\\\alpha|_{std}$\",\"$\\\\alpha_{mean}$\",\"$wSMI\\\\alpha_{std}$\",\"$PE\\\\theta_{std}$\",\"$wSMI\\\\beta_{std}$\",\"$PE\\\\alpha_{std}$\",\"$|\\\\beta|_{std}$\",\"$CNV_{std}$\",\"$PE\\\\beta_{std}$\",\"$SEF90_{std}$\",\"$|\\\\delta|_{mean}$\",\"$wSMI\\\\gamma_{mean}$\",\"$|\\\\delta|_{std}$\",\"$SEF95_{std}$\",\"$\\\\delta_{std}$\",\"$P3a_{std}$\",\"$\\\\delta_{mean}$\",\"$|\\\\gamma|_{std}$\",\"$|\\\\theta|_{std}$\",\"$P3a_{mean}$\",\"$\\\\beta_{std}$\",\"$P3b_{mean}$\",\"$wSMI\\\\beta_{mean}$\",\"$wSMI\\\\theta_{mean}$\",\"$PE\\\\gamma_{std}$\",\"$MSF_{std}$\",\"$\\\\gamma_{std}$\",\"$wSMI\\\\alpha_{mean}$\",\"$K_{std}$\"],\"yaxis\":\"y3\",\"type\":\"scatter\"},{\"hovertemplate\":\"balance=over-sample<br>significant=p < 0.05 uncorrected<br>sMW>on-task                  sMW<on-task=%{x}<br>markers=%{y}<extra></extra>\",\"legendgroup\":\"over-sample, p < 0.05 uncorrected\",\"marker\":{\"color\":\"#F38A31\",\"symbol\":\"circle\",\"size\":8},\"mode\":\"markers\",\"name\":\"over-sample, p < 0.05 uncorrected\",\"orientation\":\"h\",\"showlegend\":true,\"x\":[0.39565414214576733,0.39995473064735176,0.4135355364418289,0.4137618832050701,0.5830692621095518,0.6044590312358533,0.6189452240832957],\"xaxis\":\"x3\",\"y\":[\"$CNV_{mean}$\",\"$MSF_{mean}$\",\"$\\\\alpha_{std}$\",\"$|\\\\beta|_{mean}$\",\"$wSMI\\\\gamma_{std}$\",\"$\\\\theta_{mean}$\",\"$SE_{std}$\"],\"yaxis\":\"y3\",\"type\":\"scatter\"},{\"hovertemplate\":\"balance=over-sample<br>significant=p < 0.05 FDR corrected<br>sMW>on-task                  sMW<on-task=%{x}<br>markers=%{y}<extra></extra>\",\"legendgroup\":\"over-sample, p < 0.05 FDR corrected\",\"marker\":{\"color\":\"#F38A31\",\"symbol\":\"hexagram\",\"size\":8},\"mode\":\"markers\",\"name\":\"over-sample, p < 0.05 FDR corrected\",\"orientation\":\"h\",\"showlegend\":true,\"x\":[0.6418062471706655,0.6458804889090085],\"xaxis\":\"x3\",\"y\":[\"$P1_{mean}$\",\"$|\\\\theta|_{mean}$\"],\"yaxis\":\"y3\",\"type\":\"scatter\"}],                        {\"template\":{\"data\":{\"barpolar\":[{\"marker\":{\"line\":{\"color\":\"white\",\"width\":0.5},\"pattern\":{\"fillmode\":\"overlay\",\"size\":10,\"solidity\":0.2}},\"type\":\"barpolar\"}],\"bar\":[{\"error_x\":{\"color\":\"#2a3f5f\"},\"error_y\":{\"color\":\"#2a3f5f\"},\"marker\":{\"line\":{\"color\":\"white\",\"width\":0.5},\"pattern\":{\"fillmode\":\"overlay\",\"size\":10,\"solidity\":0.2}},\"type\":\"bar\"}],\"carpet\":[{\"aaxis\":{\"endlinecolor\":\"#2a3f5f\",\"gridcolor\":\"#C8D4E3\",\"linecolor\":\"#C8D4E3\",\"minorgridcolor\":\"#C8D4E3\",\"startlinecolor\":\"#2a3f5f\"},\"baxis\":{\"endlinecolor\":\"#2a3f5f\",\"gridcolor\":\"#C8D4E3\",\"linecolor\":\"#C8D4E3\",\"minorgridcolor\":\"#C8D4E3\",\"startlinecolor\":\"#2a3f5f\"},\"type\":\"carpet\"}],\"choropleth\":[{\"colorbar\":{\"outlinewidth\":0,\"ticks\":\"\"},\"type\":\"choropleth\"}],\"contourcarpet\":[{\"colorbar\":{\"outlinewidth\":0,\"ticks\":\"\"},\"type\":\"contourcarpet\"}],\"contour\":[{\"colorbar\":{\"outlinewidth\":0,\"ticks\":\"\"},\"colorscale\":[[0.0,\"#0d0887\"],[0.1111111111111111,\"#46039f\"],[0.2222222222222222,\"#7201a8\"],[0.3333333333333333,\"#9c179e\"],[0.4444444444444444,\"#bd3786\"],[0.5555555555555556,\"#d8576b\"],[0.6666666666666666,\"#ed7953\"],[0.7777777777777778,\"#fb9f3a\"],[0.8888888888888888,\"#fdca26\"],[1.0,\"#f0f921\"]],\"type\":\"contour\"}],\"heatmapgl\":[{\"colorbar\":{\"outlinewidth\":0,\"ticks\":\"\"},\"colorscale\":[[0.0,\"#0d0887\"],[0.1111111111111111,\"#46039f\"],[0.2222222222222222,\"#7201a8\"],[0.3333333333333333,\"#9c179e\"],[0.4444444444444444,\"#bd3786\"],[0.5555555555555556,\"#d8576b\"],[0.6666666666666666,\"#ed7953\"],[0.7777777777777778,\"#fb9f3a\"],[0.8888888888888888,\"#fdca26\"],[1.0,\"#f0f921\"]],\"type\":\"heatmapgl\"}],\"heatmap\":[{\"colorbar\":{\"outlinewidth\":0,\"ticks\":\"\"},\"colorscale\":[[0.0,\"#0d0887\"],[0.1111111111111111,\"#46039f\"],[0.2222222222222222,\"#7201a8\"],[0.3333333333333333,\"#9c179e\"],[0.4444444444444444,\"#bd3786\"],[0.5555555555555556,\"#d8576b\"],[0.6666666666666666,\"#ed7953\"],[0.7777777777777778,\"#fb9f3a\"],[0.8888888888888888,\"#fdca26\"],[1.0,\"#f0f921\"]],\"type\":\"heatmap\"}],\"histogram2dcontour\":[{\"colorbar\":{\"outlinewidth\":0,\"ticks\":\"\"},\"colorscale\":[[0.0,\"#0d0887\"],[0.1111111111111111,\"#46039f\"],[0.2222222222222222,\"#7201a8\"],[0.3333333333333333,\"#9c179e\"],[0.4444444444444444,\"#bd3786\"],[0.5555555555555556,\"#d8576b\"],[0.6666666666666666,\"#ed7953\"],[0.7777777777777778,\"#fb9f3a\"],[0.8888888888888888,\"#fdca26\"],[1.0,\"#f0f921\"]],\"type\":\"histogram2dcontour\"}],\"histogram2d\":[{\"colorbar\":{\"outlinewidth\":0,\"ticks\":\"\"},\"colorscale\":[[0.0,\"#0d0887\"],[0.1111111111111111,\"#46039f\"],[0.2222222222222222,\"#7201a8\"],[0.3333333333333333,\"#9c179e\"],[0.4444444444444444,\"#bd3786\"],[0.5555555555555556,\"#d8576b\"],[0.6666666666666666,\"#ed7953\"],[0.7777777777777778,\"#fb9f3a\"],[0.8888888888888888,\"#fdca26\"],[1.0,\"#f0f921\"]],\"type\":\"histogram2d\"}],\"histogram\":[{\"marker\":{\"pattern\":{\"fillmode\":\"overlay\",\"size\":10,\"solidity\":0.2}},\"type\":\"histogram\"}],\"mesh3d\":[{\"colorbar\":{\"outlinewidth\":0,\"ticks\":\"\"},\"type\":\"mesh3d\"}],\"parcoords\":[{\"line\":{\"colorbar\":{\"outlinewidth\":0,\"ticks\":\"\"}},\"type\":\"parcoords\"}],\"pie\":[{\"automargin\":true,\"type\":\"pie\"}],\"scatter3d\":[{\"line\":{\"colorbar\":{\"outlinewidth\":0,\"ticks\":\"\"}},\"marker\":{\"colorbar\":{\"outlinewidth\":0,\"ticks\":\"\"}},\"type\":\"scatter3d\"}],\"scattercarpet\":[{\"marker\":{\"colorbar\":{\"outlinewidth\":0,\"ticks\":\"\"}},\"type\":\"scattercarpet\"}],\"scattergeo\":[{\"marker\":{\"colorbar\":{\"outlinewidth\":0,\"ticks\":\"\"}},\"type\":\"scattergeo\"}],\"scattergl\":[{\"marker\":{\"colorbar\":{\"outlinewidth\":0,\"ticks\":\"\"}},\"type\":\"scattergl\"}],\"scattermapbox\":[{\"marker\":{\"colorbar\":{\"outlinewidth\":0,\"ticks\":\"\"}},\"type\":\"scattermapbox\"}],\"scatterpolargl\":[{\"marker\":{\"colorbar\":{\"outlinewidth\":0,\"ticks\":\"\"}},\"type\":\"scatterpolargl\"}],\"scatterpolar\":[{\"marker\":{\"colorbar\":{\"outlinewidth\":0,\"ticks\":\"\"}},\"type\":\"scatterpolar\"}],\"scatter\":[{\"fillpattern\":{\"fillmode\":\"overlay\",\"size\":10,\"solidity\":0.2},\"type\":\"scatter\"}],\"scatterternary\":[{\"marker\":{\"colorbar\":{\"outlinewidth\":0,\"ticks\":\"\"}},\"type\":\"scatterternary\"}],\"surface\":[{\"colorbar\":{\"outlinewidth\":0,\"ticks\":\"\"},\"colorscale\":[[0.0,\"#0d0887\"],[0.1111111111111111,\"#46039f\"],[0.2222222222222222,\"#7201a8\"],[0.3333333333333333,\"#9c179e\"],[0.4444444444444444,\"#bd3786\"],[0.5555555555555556,\"#d8576b\"],[0.6666666666666666,\"#ed7953\"],[0.7777777777777778,\"#fb9f3a\"],[0.8888888888888888,\"#fdca26\"],[1.0,\"#f0f921\"]],\"type\":\"surface\"}],\"table\":[{\"cells\":{\"fill\":{\"color\":\"#EBF0F8\"},\"line\":{\"color\":\"white\"}},\"header\":{\"fill\":{\"color\":\"#C8D4E3\"},\"line\":{\"color\":\"white\"}},\"type\":\"table\"}]},\"layout\":{\"annotationdefaults\":{\"arrowcolor\":\"#2a3f5f\",\"arrowhead\":0,\"arrowwidth\":1},\"autotypenumbers\":\"strict\",\"coloraxis\":{\"colorbar\":{\"outlinewidth\":0,\"ticks\":\"\"}},\"colorscale\":{\"diverging\":[[0,\"#8e0152\"],[0.1,\"#c51b7d\"],[0.2,\"#de77ae\"],[0.3,\"#f1b6da\"],[0.4,\"#fde0ef\"],[0.5,\"#f7f7f7\"],[0.6,\"#e6f5d0\"],[0.7,\"#b8e186\"],[0.8,\"#7fbc41\"],[0.9,\"#4d9221\"],[1,\"#276419\"]],\"sequential\":[[0.0,\"#0d0887\"],[0.1111111111111111,\"#46039f\"],[0.2222222222222222,\"#7201a8\"],[0.3333333333333333,\"#9c179e\"],[0.4444444444444444,\"#bd3786\"],[0.5555555555555556,\"#d8576b\"],[0.6666666666666666,\"#ed7953\"],[0.7777777777777778,\"#fb9f3a\"],[0.8888888888888888,\"#fdca26\"],[1.0,\"#f0f921\"]],\"sequentialminus\":[[0.0,\"#0d0887\"],[0.1111111111111111,\"#46039f\"],[0.2222222222222222,\"#7201a8\"],[0.3333333333333333,\"#9c179e\"],[0.4444444444444444,\"#bd3786\"],[0.5555555555555556,\"#d8576b\"],[0.6666666666666666,\"#ed7953\"],[0.7777777777777778,\"#fb9f3a\"],[0.8888888888888888,\"#fdca26\"],[1.0,\"#f0f921\"]]},\"colorway\":[\"#636efa\",\"#EF553B\",\"#00cc96\",\"#ab63fa\",\"#FFA15A\",\"#19d3f3\",\"#FF6692\",\"#B6E880\",\"#FF97FF\",\"#FECB52\"],\"font\":{\"color\":\"#2a3f5f\"},\"geo\":{\"bgcolor\":\"white\",\"lakecolor\":\"white\",\"landcolor\":\"white\",\"showlakes\":true,\"showland\":true,\"subunitcolor\":\"#C8D4E3\"},\"hoverlabel\":{\"align\":\"left\"},\"hovermode\":\"closest\",\"mapbox\":{\"style\":\"light\"},\"paper_bgcolor\":\"white\",\"plot_bgcolor\":\"white\",\"polar\":{\"angularaxis\":{\"gridcolor\":\"#EBF0F8\",\"linecolor\":\"#EBF0F8\",\"ticks\":\"\"},\"bgcolor\":\"white\",\"radialaxis\":{\"gridcolor\":\"#EBF0F8\",\"linecolor\":\"#EBF0F8\",\"ticks\":\"\"}},\"scene\":{\"xaxis\":{\"backgroundcolor\":\"white\",\"gridcolor\":\"#DFE8F3\",\"gridwidth\":2,\"linecolor\":\"#EBF0F8\",\"showbackground\":true,\"ticks\":\"\",\"zerolinecolor\":\"#EBF0F8\"},\"yaxis\":{\"backgroundcolor\":\"white\",\"gridcolor\":\"#DFE8F3\",\"gridwidth\":2,\"linecolor\":\"#EBF0F8\",\"showbackground\":true,\"ticks\":\"\",\"zerolinecolor\":\"#EBF0F8\"},\"zaxis\":{\"backgroundcolor\":\"white\",\"gridcolor\":\"#DFE8F3\",\"gridwidth\":2,\"linecolor\":\"#EBF0F8\",\"showbackground\":true,\"ticks\":\"\",\"zerolinecolor\":\"#EBF0F8\"}},\"shapedefaults\":{\"line\":{\"color\":\"#2a3f5f\"}},\"ternary\":{\"aaxis\":{\"gridcolor\":\"#DFE8F3\",\"linecolor\":\"#A2B1C6\",\"ticks\":\"\"},\"baxis\":{\"gridcolor\":\"#DFE8F3\",\"linecolor\":\"#A2B1C6\",\"ticks\":\"\"},\"bgcolor\":\"white\",\"caxis\":{\"gridcolor\":\"#DFE8F3\",\"linecolor\":\"#A2B1C6\",\"ticks\":\"\"}},\"title\":{\"x\":0.05},\"xaxis\":{\"automargin\":true,\"gridcolor\":\"#EBF0F8\",\"linecolor\":\"#EBF0F8\",\"ticks\":\"\",\"title\":{\"standoff\":15},\"zerolinecolor\":\"#EBF0F8\",\"zerolinewidth\":2},\"yaxis\":{\"automargin\":true,\"gridcolor\":\"#EBF0F8\",\"linecolor\":\"#EBF0F8\",\"ticks\":\"\",\"title\":{\"standoff\":15},\"zerolinecolor\":\"#EBF0F8\",\"zerolinewidth\":2}}},\"xaxis\":{\"anchor\":\"y\",\"domain\":[0.0,0.31999999999999995],\"title\":{\"text\":\"sMW>on-task                  sMW<on-task\"}},\"yaxis\":{\"anchor\":\"x\",\"domain\":[0.0,1.0],\"title\":{\"text\":\"markers\"},\"showticklabels\":true,\"tickmode\":\"linear\"},\"xaxis2\":{\"anchor\":\"y2\",\"domain\":[0.33999999999999997,0.6599999999999999],\"matches\":\"x\",\"title\":{\"text\":\"sMW>on-task                  sMW<on-task\"}},\"yaxis2\":{\"anchor\":\"x2\",\"domain\":[0.0,1.0],\"matches\":\"y\",\"showticklabels\":false},\"xaxis3\":{\"anchor\":\"y3\",\"domain\":[0.6799999999999999,0.9999999999999999],\"matches\":\"x\",\"title\":{\"text\":\"sMW>on-task                  sMW<on-task\"}},\"yaxis3\":{\"anchor\":\"x3\",\"domain\":[0.0,1.0],\"matches\":\"y\",\"showticklabels\":false},\"annotations\":[{\"showarrow\":false,\"text\":\"balance=unbalance\",\"x\":0.15999999999999998,\"xanchor\":\"center\",\"xref\":\"paper\",\"y\":1.0,\"yanchor\":\"bottom\",\"yref\":\"paper\"},{\"showarrow\":false,\"text\":\"balance=under-sample\",\"x\":0.49999999999999994,\"xanchor\":\"center\",\"xref\":\"paper\",\"y\":1.0,\"yanchor\":\"bottom\",\"yref\":\"paper\"},{\"showarrow\":false,\"text\":\"balance=over-sample\",\"x\":0.8399999999999999,\"xanchor\":\"center\",\"xref\":\"paper\",\"y\":1.0,\"yanchor\":\"bottom\",\"yref\":\"paper\"}],\"legend\":{\"title\":{\"text\":\"balance, significant\"},\"tracegroupgap\":0},\"margin\":{\"t\":60},\"shapes\":[{\"line\":{\"color\":\"black\",\"dash\":\"dash\",\"width\":3},\"type\":\"line\",\"x0\":0.5,\"x1\":0.5,\"xref\":\"x\",\"y0\":0,\"y1\":1,\"yref\":\"y domain\"},{\"line\":{\"color\":\"black\",\"dash\":\"dash\",\"width\":3},\"type\":\"line\",\"x0\":0.5,\"x1\":0.5,\"xref\":\"x2\",\"y0\":0,\"y1\":1,\"yref\":\"y2 domain\"},{\"line\":{\"color\":\"black\",\"dash\":\"dash\",\"width\":3},\"type\":\"line\",\"x0\":0.5,\"x1\":0.5,\"xref\":\"x3\",\"y0\":0,\"y1\":1,\"yref\":\"y3 domain\"}],\"title\":{\"text\":\"sMW vs on-task(43,94\"},\"autosize\":true,\"width\":1600,\"height\":800},                        {\"responsive\": true}                    ).then(function(){\n",
       "                            \n",
       "var gd = document.getElementById('2b138431-78e9-4230-aef8-c815d8f5b66e');\n",
       "var x = new MutationObserver(function (mutations, observer) {{\n",
       "        var display = window.getComputedStyle(gd).display;\n",
       "        if (!display || display === 'none') {{\n",
       "            console.log([gd, 'removed!']);\n",
       "            Plotly.purge(gd);\n",
       "            observer.disconnect();\n",
       "        }}\n",
       "}});\n",
       "\n",
       "// Listen for the removal of the full notebook cells\n",
       "var notebookContainer = gd.closest('#notebook-container');\n",
       "if (notebookContainer) {{\n",
       "    x.observe(notebookContainer, {childList: true});\n",
       "}}\n",
       "\n",
       "// Listen for the clearing of the current output cell\n",
       "var outputEl = gd.closest('.output');\n",
       "if (outputEl) {{\n",
       "    x.observe(outputEl, {childList: true});\n",
       "}}\n",
       "\n",
       "                        })                };                });            </script>        </div>"
      ]
     },
     "metadata": {},
     "output_type": "display_data"
    },
    {
     "data": {
      "application/vnd.plotly.v1+json": {
       "config": {
        "plotlyServerURL": "https://plot.ly"
       },
       "data": [
        {
         "hovertemplate": "balance=unbalance<br>significant=p > 0.05<br>sMW>about-task                  sMW<about-task=%{x}<br>markers=%{y}<extra></extra>",
         "legendgroup": "unbalance, p > 0.05",
         "marker": {
          "color": "#DE237B",
          "size": 8,
          "symbol": "circle-open"
         },
         "mode": "markers",
         "name": "unbalance, p > 0.05",
         "orientation": "h",
         "showlegend": true,
         "type": "scatter",
         "x": [
          0.4024390243902439,
          0.4081111741349972,
          0.40981281905842315,
          0.42569483834373234,
          0.4278218944980148,
          0.43391945547362454,
          0.43902439024390244,
          0.44696539988655704,
          0.45093590470788425,
          0.4597277368122518,
          0.46114577424844017,
          0.4614293817356778,
          0.46625070901871807,
          0.4668179239931934,
          0.4682359614293818,
          0.4688031764038571,
          0.473057288712422,
          0.4734826999432785,
          0.4750425411230857,
          0.4778786159954622,
          0.47787861599546233,
          0.48043108338060125,
          0.4886557005104935,
          0.49007373794668174,
          0.49177538287010775,
          0.4934770277935338,
          0.4943278502552467,
          0.49602949517867273,
          0.4980147475893364,
          0.5059557572319909,
          0.5073737946681792,
          0.5121951219512195,
          0.5127623369256948,
          0.5190017016449234,
          0.524390243902439,
          0.527793533749291,
          0.53034600113443,
          0.5374361883153714,
          0.5385706182643222,
          0.5402722631877482,
          0.5425411230856495,
          0.5484968803176404,
          0.5490640952921158,
          0.5496313102665911,
          0.5553034600113443,
          0.5592739648326716,
          0.5689166193987522,
          0.5723199092456042,
          0.5839478162223484,
          0.5998298355076574
         ],
         "xaxis": "x",
         "y": [
          "$PE\\beta_{std}$",
          "$wSMI\\theta_{std}$",
          "$|\\alpha|_{std}$",
          "$PE\\alpha_{std}$",
          "$MSF_{mean}$",
          "$wSMI\\theta_{mean}$",
          "$\\alpha_{mean}$",
          "$PE\\gamma_{std}$",
          "$\\gamma_{std}$",
          "$SEF95_{std}$",
          "$P1_{std}$",
          "$P3a_{std}$",
          "$wSMI\\alpha_{mean}$",
          "$CNV_{mean}$",
          "$|\\beta|_{mean}$",
          "$|\\gamma|_{mean}$",
          "$\\theta_{std}$",
          "$K_{mean}$",
          "$PE\\theta_{std}$",
          "$P3b_{std}$",
          "$SEF90_{std}$",
          "$SE_{mean}$",
          "$\\beta_{std}$",
          "$wSMI\\alpha_{std}$",
          "$\\gamma_{mean}$",
          "$P3a_{mean}$",
          "$SEF90_{mean}$",
          "$SEF95_{mean}$",
          "$\\beta_{mean}$",
          "$K_{std}$",
          "$|\\beta|_{std}$",
          "$PE\\alpha_{mean}$",
          "$PE\\gamma_{mean}$",
          "$wSMI\\beta_{mean}$",
          "$|\\delta|_{std}$",
          "$|\\gamma|_{std}$",
          "$\\delta_{std}$",
          "$wSMI\\gamma_{std}$",
          "$wSMI\\gamma_{mean}$",
          "$P1_{mean}$",
          "$CNV_{std}$",
          "$PE\\beta_{mean}$",
          "$SE_{std}$",
          "$\\theta_{mean}$",
          "$|\\theta|_{std}$",
          "$\\delta_{mean}$",
          "$MSF_{std}$",
          "$|\\delta|_{mean}$",
          "$wSMI\\beta_{std}$",
          "$|\\theta|_{mean}$"
         ],
         "yaxis": "y"
        },
        {
         "hovertemplate": "balance=unbalance<br>significant=p < 0.05 uncorrected<br>sMW>about-task                  sMW<about-task=%{x}<br>markers=%{y}<extra></extra>",
         "legendgroup": "unbalance, p < 0.05 uncorrected",
         "marker": {
          "color": "#DE237B",
          "size": 8,
          "symbol": "circle"
         },
         "mode": "markers",
         "name": "unbalance, p < 0.05 uncorrected",
         "orientation": "h",
         "showlegend": true,
         "type": "scatter",
         "x": [
          0.34855360181508793,
          0.3771979580260919,
          0.38201928530913215,
          0.6318774815655134
         ],
         "xaxis": "x",
         "y": [
          "$\\alpha_{std}$",
          "$|\\alpha|_{mean}$",
          "$PE\\theta_{mean}$",
          "$P3b_{mean}$"
         ],
         "yaxis": "y"
        },
        {
         "hovertemplate": "balance=under-sample<br>significant=p > 0.05<br>sMW>about-task                  sMW<about-task=%{x}<br>markers=%{y}<extra></extra>",
         "legendgroup": "under-sample, p > 0.05",
         "marker": {
          "color": "#9AC529",
          "size": 8,
          "symbol": "circle-open"
         },
         "mode": "markers",
         "name": "under-sample, p > 0.05",
         "orientation": "h",
         "showlegend": true,
         "type": "scatter",
         "x": [
          0.39426717144402385,
          0.39751216873985945,
          0.4115738236884802,
          0.43266630611141155,
          0.43428880475932935,
          0.43645213628988644,
          0.4380746349378042,
          0.43969713358572193,
          0.447809626825311,
          0.4553812871822608,
          0.4597079502433748,
          0.46106003244997296,
          0.4629529475392104,
          0.46673877771768524,
          0.46727961060032447,
          0.468361276365603,
          0.46836127636560304,
          0.4737696051919957,
          0.47809626825310975,
          0.47971876690102755,
          0.48620876149269876,
          0.48674959437533805,
          0.4883720930232558,
          0.48999459167117365,
          0.4916170903190914,
          0.49215792320173063,
          0.4997295835586803,
          0.5105462412114657,
          0.5116279069767442,
          0.513250405624662,
          0.5137912385073012,
          0.5143320713899404,
          0.515413737155219,
          0.5175770686857761,
          0.5219037317468902,
          0.5267712276906436,
          0.5267712276906436,
          0.5327203893996755,
          0.5343428880475933,
          0.5392103839913467,
          0.539751216873986,
          0.5451595457003786,
          0.5484045429962142,
          0.5505678745267713,
          0.5538128718226069,
          0.5575987020010816,
          0.5586803677663602,
          0.5597620335316387,
          0.5673336938885885,
          0.578691184424013,
          0.5803136830719308,
          0.5840995132504057,
          0.5846403461330449
         ],
         "xaxis": "x2",
         "y": [
          "$\\alpha_{std}$",
          "$PE\\alpha_{std}$",
          "$PE\\beta_{std}$",
          "$|\\alpha|_{mean}$",
          "$SEF95_{std}$",
          "$PE\\theta_{mean}$",
          "$wSMI\\theta_{mean}$",
          "$wSMI\\theta_{std}$",
          "$|\\gamma|_{mean}$",
          "$\\gamma_{std}$",
          "$P3a_{std}$",
          "$MSF_{mean}$",
          "$\\theta_{std}$",
          "$P3a_{mean}$",
          "$CNV_{mean}$",
          "$SEF95_{mean}$",
          "$|\\alpha|_{std}$",
          "$|\\beta|_{mean}$",
          "$SEF90_{mean}$",
          "$SEF90_{std}$",
          "$SE_{mean}$",
          "$K_{mean}$",
          "$PE\\gamma_{std}$",
          "$P1_{std}$",
          "$\\alpha_{mean}$",
          "$PE\\gamma_{mean}$",
          "$PE\\theta_{std}$",
          "$P3b_{std}$",
          "$\\delta_{std}$",
          "$PE\\beta_{mean}$",
          "$K_{std}$",
          "$\\gamma_{mean}$",
          "$PE\\alpha_{mean}$",
          "$wSMI\\alpha_{mean}$",
          "$SE_{std}$",
          "$wSMI\\alpha_{std}$",
          "$|\\beta|_{std}$",
          "$|\\gamma|_{std}$",
          "$\\beta_{std}$",
          "$|\\delta|_{std}$",
          "$|\\theta|_{std}$",
          "$\\beta_{mean}$",
          "$|\\delta|_{mean}$",
          "$wSMI\\gamma_{mean}$",
          "$P1_{mean}$",
          "$wSMI\\beta_{std}$",
          "$wSMI\\gamma_{std}$",
          "$MSF_{std}$",
          "$wSMI\\beta_{mean}$",
          "$|\\theta|_{mean}$",
          "$CNV_{std}$",
          "$\\delta_{mean}$",
          "$\\theta_{mean}$"
         ],
         "yaxis": "y2"
        },
        {
         "hovertemplate": "balance=under-sample<br>significant=p < 0.05 uncorrected<br>sMW>about-task                  sMW<about-task=%{x}<br>markers=%{y}<extra></extra>",
         "legendgroup": "under-sample, p < 0.05 uncorrected",
         "marker": {
          "color": "#9AC529",
          "size": 8,
          "symbol": "circle"
         },
         "mode": "markers",
         "name": "under-sample, p < 0.05 uncorrected",
         "orientation": "h",
         "showlegend": true,
         "type": "scatter",
         "x": [
          0.6879394267171445
         ],
         "xaxis": "x2",
         "y": [
          "$P3b_{mean}$"
         ],
         "yaxis": "y2"
        },
        {
         "hovertemplate": "balance=over-sample<br>significant=p > 0.05<br>sMW>about-task                  sMW<about-task=%{x}<br>markers=%{y}<extra></extra>",
         "legendgroup": "over-sample, p > 0.05",
         "marker": {
          "color": "#F38A31",
          "size": 8,
          "symbol": "circle-open"
         },
         "mode": "markers",
         "name": "over-sample, p > 0.05",
         "orientation": "h",
         "showlegend": true,
         "type": "scatter",
         "x": [
          0.4327781082688876,
          0.43842950624628196,
          0.4386525877453896,
          0.44036287923854844,
          0.44512195121951215,
          0.4489886972040453,
          0.45121951219512196,
          0.4582093991671624,
          0.46222486615110053,
          0.462819750148721,
          0.465348007138608,
          0.4672813801308745,
          0.46817370612730513,
          0.47189173111243304,
          0.4729327781082689,
          0.475609756097561,
          0.47947650208209397,
          0.47962522308149913,
          0.4849048185603807,
          0.4854253420582986,
          0.48765615704937537,
          0.49196906603212376,
          0.49360499702558,
          0.49806662700773346,
          0.502676977989292,
          0.5139797739440809,
          0.515318262938727,
          0.5174003569303987,
          0.5182926829268293,
          0.51918500892326,
          0.522903033908388,
          0.5285544318857822,
          0.5349494348602022,
          0.5382212968471147,
          0.5382212968471147,
          0.5425342058298632,
          0.5465496728138013,
          0.5556216537775134,
          0.5635038667459845,
          0.5694527067221891,
          0.5703450327186198,
          0.5713860797144557,
          0.578227245687091,
          0.5783759666864962,
          0.5813503866745985,
          0.5828375966686496,
          0.5865556216537775
         ],
         "xaxis": "x3",
         "y": [
          "$PE\\beta_{std}$",
          "$CNV_{mean}$",
          "$MSF_{mean}$",
          "$|\\alpha|_{std}$",
          "$\\gamma_{std}$",
          "$wSMI\\theta_{mean}$",
          "$\\theta_{std}$",
          "$P3b_{std}$",
          "$P1_{std}$",
          "$\\alpha_{mean}$",
          "$wSMI\\alpha_{std}$",
          "$SEF95_{std}$",
          "$|\\beta|_{mean}$",
          "$P3a_{std}$",
          "$PE\\gamma_{std}$",
          "$|\\gamma|_{mean}$",
          "$PE\\theta_{std}$",
          "$wSMI\\alpha_{mean}$",
          "$K_{mean}$",
          "$SE_{mean}$",
          "$P3a_{mean}$",
          "$SEF90_{std}$",
          "$SEF90_{mean}$",
          "$SEF95_{mean}$",
          "$PE\\gamma_{mean}$",
          "$\\beta_{std}$",
          "$|\\beta|_{std}$",
          "$PE\\alpha_{mean}$",
          "$K_{std}$",
          "$\\gamma_{mean}$",
          "$\\beta_{mean}$",
          "$|\\theta|_{std}$",
          "$wSMI\\beta_{mean}$",
          "$|\\gamma|_{std}$",
          "$wSMI\\gamma_{std}$",
          "$PE\\beta_{mean}$",
          "$wSMI\\gamma_{mean}$",
          "$|\\delta|_{std}$",
          "$CNV_{std}$",
          "$wSMI\\beta_{std}$",
          "$MSF_{std}$",
          "$|\\delta|_{mean}$",
          "$\\delta_{std}$",
          "$\\theta_{mean}$",
          "$|\\theta|_{mean}$",
          "$\\delta_{mean}$",
          "$SE_{std}$"
         ],
         "yaxis": "y3"
        },
        {
         "hovertemplate": "balance=over-sample<br>significant=p < 0.05 uncorrected<br>sMW>about-task                  sMW<about-task=%{x}<br>markers=%{y}<extra></extra>",
         "legendgroup": "over-sample, p < 0.05 uncorrected",
         "marker": {
          "color": "#F38A31",
          "size": 8,
          "symbol": "circle"
         },
         "mode": "markers",
         "name": "over-sample, p < 0.05 uncorrected",
         "orientation": "h",
         "showlegend": true,
         "type": "scatter",
         "x": [
          0.35618679357525285,
          0.3853361094586556,
          0.3860797144556811,
          0.39039262343842945,
          0.40229030339083877,
          0.5930993456276027,
          0.5996430696014278
         ],
         "xaxis": "x3",
         "y": [
          "$\\alpha_{std}$",
          "$wSMI\\theta_{std}$",
          "$PE\\theta_{mean}$",
          "$|\\alpha|_{mean}$",
          "$PE\\alpha_{std}$",
          "$P1_{mean}$",
          "$P3b_{mean}$"
         ],
         "yaxis": "y3"
        }
       ],
       "layout": {
        "annotations": [
         {
          "showarrow": false,
          "text": "balance=unbalance",
          "x": 0.15999999999999998,
          "xanchor": "center",
          "xref": "paper",
          "y": 1,
          "yanchor": "bottom",
          "yref": "paper"
         },
         {
          "showarrow": false,
          "text": "balance=under-sample",
          "x": 0.49999999999999994,
          "xanchor": "center",
          "xref": "paper",
          "y": 1,
          "yanchor": "bottom",
          "yref": "paper"
         },
         {
          "showarrow": false,
          "text": "balance=over-sample",
          "x": 0.8399999999999999,
          "xanchor": "center",
          "xref": "paper",
          "y": 1,
          "yanchor": "bottom",
          "yref": "paper"
         }
        ],
        "autosize": true,
        "height": 800,
        "legend": {
         "title": {
          "text": "balance, significant"
         },
         "tracegroupgap": 0
        },
        "margin": {
         "t": 60
        },
        "shapes": [
         {
          "line": {
           "color": "black",
           "dash": "dash",
           "width": 3
          },
          "type": "line",
          "x0": 0.5,
          "x1": 0.5,
          "xref": "x",
          "y0": 0,
          "y1": 1,
          "yref": "y domain"
         },
         {
          "line": {
           "color": "black",
           "dash": "dash",
           "width": 3
          },
          "type": "line",
          "x0": 0.5,
          "x1": 0.5,
          "xref": "x2",
          "y0": 0,
          "y1": 1,
          "yref": "y2 domain"
         },
         {
          "line": {
           "color": "black",
           "dash": "dash",
           "width": 3
          },
          "type": "line",
          "x0": 0.5,
          "x1": 0.5,
          "xref": "x3",
          "y0": 0,
          "y1": 1,
          "yref": "y3 domain"
         }
        ],
        "template": {
         "data": {
          "bar": [
           {
            "error_x": {
             "color": "#2a3f5f"
            },
            "error_y": {
             "color": "#2a3f5f"
            },
            "marker": {
             "line": {
              "color": "white",
              "width": 0.5
             },
             "pattern": {
              "fillmode": "overlay",
              "size": 10,
              "solidity": 0.2
             }
            },
            "type": "bar"
           }
          ],
          "barpolar": [
           {
            "marker": {
             "line": {
              "color": "white",
              "width": 0.5
             },
             "pattern": {
              "fillmode": "overlay",
              "size": 10,
              "solidity": 0.2
             }
            },
            "type": "barpolar"
           }
          ],
          "carpet": [
           {
            "aaxis": {
             "endlinecolor": "#2a3f5f",
             "gridcolor": "#C8D4E3",
             "linecolor": "#C8D4E3",
             "minorgridcolor": "#C8D4E3",
             "startlinecolor": "#2a3f5f"
            },
            "baxis": {
             "endlinecolor": "#2a3f5f",
             "gridcolor": "#C8D4E3",
             "linecolor": "#C8D4E3",
             "minorgridcolor": "#C8D4E3",
             "startlinecolor": "#2a3f5f"
            },
            "type": "carpet"
           }
          ],
          "choropleth": [
           {
            "colorbar": {
             "outlinewidth": 0,
             "ticks": ""
            },
            "type": "choropleth"
           }
          ],
          "contour": [
           {
            "colorbar": {
             "outlinewidth": 0,
             "ticks": ""
            },
            "colorscale": [
             [
              0,
              "#0d0887"
             ],
             [
              0.1111111111111111,
              "#46039f"
             ],
             [
              0.2222222222222222,
              "#7201a8"
             ],
             [
              0.3333333333333333,
              "#9c179e"
             ],
             [
              0.4444444444444444,
              "#bd3786"
             ],
             [
              0.5555555555555556,
              "#d8576b"
             ],
             [
              0.6666666666666666,
              "#ed7953"
             ],
             [
              0.7777777777777778,
              "#fb9f3a"
             ],
             [
              0.8888888888888888,
              "#fdca26"
             ],
             [
              1,
              "#f0f921"
             ]
            ],
            "type": "contour"
           }
          ],
          "contourcarpet": [
           {
            "colorbar": {
             "outlinewidth": 0,
             "ticks": ""
            },
            "type": "contourcarpet"
           }
          ],
          "heatmap": [
           {
            "colorbar": {
             "outlinewidth": 0,
             "ticks": ""
            },
            "colorscale": [
             [
              0,
              "#0d0887"
             ],
             [
              0.1111111111111111,
              "#46039f"
             ],
             [
              0.2222222222222222,
              "#7201a8"
             ],
             [
              0.3333333333333333,
              "#9c179e"
             ],
             [
              0.4444444444444444,
              "#bd3786"
             ],
             [
              0.5555555555555556,
              "#d8576b"
             ],
             [
              0.6666666666666666,
              "#ed7953"
             ],
             [
              0.7777777777777778,
              "#fb9f3a"
             ],
             [
              0.8888888888888888,
              "#fdca26"
             ],
             [
              1,
              "#f0f921"
             ]
            ],
            "type": "heatmap"
           }
          ],
          "heatmapgl": [
           {
            "colorbar": {
             "outlinewidth": 0,
             "ticks": ""
            },
            "colorscale": [
             [
              0,
              "#0d0887"
             ],
             [
              0.1111111111111111,
              "#46039f"
             ],
             [
              0.2222222222222222,
              "#7201a8"
             ],
             [
              0.3333333333333333,
              "#9c179e"
             ],
             [
              0.4444444444444444,
              "#bd3786"
             ],
             [
              0.5555555555555556,
              "#d8576b"
             ],
             [
              0.6666666666666666,
              "#ed7953"
             ],
             [
              0.7777777777777778,
              "#fb9f3a"
             ],
             [
              0.8888888888888888,
              "#fdca26"
             ],
             [
              1,
              "#f0f921"
             ]
            ],
            "type": "heatmapgl"
           }
          ],
          "histogram": [
           {
            "marker": {
             "pattern": {
              "fillmode": "overlay",
              "size": 10,
              "solidity": 0.2
             }
            },
            "type": "histogram"
           }
          ],
          "histogram2d": [
           {
            "colorbar": {
             "outlinewidth": 0,
             "ticks": ""
            },
            "colorscale": [
             [
              0,
              "#0d0887"
             ],
             [
              0.1111111111111111,
              "#46039f"
             ],
             [
              0.2222222222222222,
              "#7201a8"
             ],
             [
              0.3333333333333333,
              "#9c179e"
             ],
             [
              0.4444444444444444,
              "#bd3786"
             ],
             [
              0.5555555555555556,
              "#d8576b"
             ],
             [
              0.6666666666666666,
              "#ed7953"
             ],
             [
              0.7777777777777778,
              "#fb9f3a"
             ],
             [
              0.8888888888888888,
              "#fdca26"
             ],
             [
              1,
              "#f0f921"
             ]
            ],
            "type": "histogram2d"
           }
          ],
          "histogram2dcontour": [
           {
            "colorbar": {
             "outlinewidth": 0,
             "ticks": ""
            },
            "colorscale": [
             [
              0,
              "#0d0887"
             ],
             [
              0.1111111111111111,
              "#46039f"
             ],
             [
              0.2222222222222222,
              "#7201a8"
             ],
             [
              0.3333333333333333,
              "#9c179e"
             ],
             [
              0.4444444444444444,
              "#bd3786"
             ],
             [
              0.5555555555555556,
              "#d8576b"
             ],
             [
              0.6666666666666666,
              "#ed7953"
             ],
             [
              0.7777777777777778,
              "#fb9f3a"
             ],
             [
              0.8888888888888888,
              "#fdca26"
             ],
             [
              1,
              "#f0f921"
             ]
            ],
            "type": "histogram2dcontour"
           }
          ],
          "mesh3d": [
           {
            "colorbar": {
             "outlinewidth": 0,
             "ticks": ""
            },
            "type": "mesh3d"
           }
          ],
          "parcoords": [
           {
            "line": {
             "colorbar": {
              "outlinewidth": 0,
              "ticks": ""
             }
            },
            "type": "parcoords"
           }
          ],
          "pie": [
           {
            "automargin": true,
            "type": "pie"
           }
          ],
          "scatter": [
           {
            "fillpattern": {
             "fillmode": "overlay",
             "size": 10,
             "solidity": 0.2
            },
            "type": "scatter"
           }
          ],
          "scatter3d": [
           {
            "line": {
             "colorbar": {
              "outlinewidth": 0,
              "ticks": ""
             }
            },
            "marker": {
             "colorbar": {
              "outlinewidth": 0,
              "ticks": ""
             }
            },
            "type": "scatter3d"
           }
          ],
          "scattercarpet": [
           {
            "marker": {
             "colorbar": {
              "outlinewidth": 0,
              "ticks": ""
             }
            },
            "type": "scattercarpet"
           }
          ],
          "scattergeo": [
           {
            "marker": {
             "colorbar": {
              "outlinewidth": 0,
              "ticks": ""
             }
            },
            "type": "scattergeo"
           }
          ],
          "scattergl": [
           {
            "marker": {
             "colorbar": {
              "outlinewidth": 0,
              "ticks": ""
             }
            },
            "type": "scattergl"
           }
          ],
          "scattermapbox": [
           {
            "marker": {
             "colorbar": {
              "outlinewidth": 0,
              "ticks": ""
             }
            },
            "type": "scattermapbox"
           }
          ],
          "scatterpolar": [
           {
            "marker": {
             "colorbar": {
              "outlinewidth": 0,
              "ticks": ""
             }
            },
            "type": "scatterpolar"
           }
          ],
          "scatterpolargl": [
           {
            "marker": {
             "colorbar": {
              "outlinewidth": 0,
              "ticks": ""
             }
            },
            "type": "scatterpolargl"
           }
          ],
          "scatterternary": [
           {
            "marker": {
             "colorbar": {
              "outlinewidth": 0,
              "ticks": ""
             }
            },
            "type": "scatterternary"
           }
          ],
          "surface": [
           {
            "colorbar": {
             "outlinewidth": 0,
             "ticks": ""
            },
            "colorscale": [
             [
              0,
              "#0d0887"
             ],
             [
              0.1111111111111111,
              "#46039f"
             ],
             [
              0.2222222222222222,
              "#7201a8"
             ],
             [
              0.3333333333333333,
              "#9c179e"
             ],
             [
              0.4444444444444444,
              "#bd3786"
             ],
             [
              0.5555555555555556,
              "#d8576b"
             ],
             [
              0.6666666666666666,
              "#ed7953"
             ],
             [
              0.7777777777777778,
              "#fb9f3a"
             ],
             [
              0.8888888888888888,
              "#fdca26"
             ],
             [
              1,
              "#f0f921"
             ]
            ],
            "type": "surface"
           }
          ],
          "table": [
           {
            "cells": {
             "fill": {
              "color": "#EBF0F8"
             },
             "line": {
              "color": "white"
             }
            },
            "header": {
             "fill": {
              "color": "#C8D4E3"
             },
             "line": {
              "color": "white"
             }
            },
            "type": "table"
           }
          ]
         },
         "layout": {
          "annotationdefaults": {
           "arrowcolor": "#2a3f5f",
           "arrowhead": 0,
           "arrowwidth": 1
          },
          "autotypenumbers": "strict",
          "coloraxis": {
           "colorbar": {
            "outlinewidth": 0,
            "ticks": ""
           }
          },
          "colorscale": {
           "diverging": [
            [
             0,
             "#8e0152"
            ],
            [
             0.1,
             "#c51b7d"
            ],
            [
             0.2,
             "#de77ae"
            ],
            [
             0.3,
             "#f1b6da"
            ],
            [
             0.4,
             "#fde0ef"
            ],
            [
             0.5,
             "#f7f7f7"
            ],
            [
             0.6,
             "#e6f5d0"
            ],
            [
             0.7,
             "#b8e186"
            ],
            [
             0.8,
             "#7fbc41"
            ],
            [
             0.9,
             "#4d9221"
            ],
            [
             1,
             "#276419"
            ]
           ],
           "sequential": [
            [
             0,
             "#0d0887"
            ],
            [
             0.1111111111111111,
             "#46039f"
            ],
            [
             0.2222222222222222,
             "#7201a8"
            ],
            [
             0.3333333333333333,
             "#9c179e"
            ],
            [
             0.4444444444444444,
             "#bd3786"
            ],
            [
             0.5555555555555556,
             "#d8576b"
            ],
            [
             0.6666666666666666,
             "#ed7953"
            ],
            [
             0.7777777777777778,
             "#fb9f3a"
            ],
            [
             0.8888888888888888,
             "#fdca26"
            ],
            [
             1,
             "#f0f921"
            ]
           ],
           "sequentialminus": [
            [
             0,
             "#0d0887"
            ],
            [
             0.1111111111111111,
             "#46039f"
            ],
            [
             0.2222222222222222,
             "#7201a8"
            ],
            [
             0.3333333333333333,
             "#9c179e"
            ],
            [
             0.4444444444444444,
             "#bd3786"
            ],
            [
             0.5555555555555556,
             "#d8576b"
            ],
            [
             0.6666666666666666,
             "#ed7953"
            ],
            [
             0.7777777777777778,
             "#fb9f3a"
            ],
            [
             0.8888888888888888,
             "#fdca26"
            ],
            [
             1,
             "#f0f921"
            ]
           ]
          },
          "colorway": [
           "#636efa",
           "#EF553B",
           "#00cc96",
           "#ab63fa",
           "#FFA15A",
           "#19d3f3",
           "#FF6692",
           "#B6E880",
           "#FF97FF",
           "#FECB52"
          ],
          "font": {
           "color": "#2a3f5f"
          },
          "geo": {
           "bgcolor": "white",
           "lakecolor": "white",
           "landcolor": "white",
           "showlakes": true,
           "showland": true,
           "subunitcolor": "#C8D4E3"
          },
          "hoverlabel": {
           "align": "left"
          },
          "hovermode": "closest",
          "mapbox": {
           "style": "light"
          },
          "paper_bgcolor": "white",
          "plot_bgcolor": "white",
          "polar": {
           "angularaxis": {
            "gridcolor": "#EBF0F8",
            "linecolor": "#EBF0F8",
            "ticks": ""
           },
           "bgcolor": "white",
           "radialaxis": {
            "gridcolor": "#EBF0F8",
            "linecolor": "#EBF0F8",
            "ticks": ""
           }
          },
          "scene": {
           "xaxis": {
            "backgroundcolor": "white",
            "gridcolor": "#DFE8F3",
            "gridwidth": 2,
            "linecolor": "#EBF0F8",
            "showbackground": true,
            "ticks": "",
            "zerolinecolor": "#EBF0F8"
           },
           "yaxis": {
            "backgroundcolor": "white",
            "gridcolor": "#DFE8F3",
            "gridwidth": 2,
            "linecolor": "#EBF0F8",
            "showbackground": true,
            "ticks": "",
            "zerolinecolor": "#EBF0F8"
           },
           "zaxis": {
            "backgroundcolor": "white",
            "gridcolor": "#DFE8F3",
            "gridwidth": 2,
            "linecolor": "#EBF0F8",
            "showbackground": true,
            "ticks": "",
            "zerolinecolor": "#EBF0F8"
           }
          },
          "shapedefaults": {
           "line": {
            "color": "#2a3f5f"
           }
          },
          "ternary": {
           "aaxis": {
            "gridcolor": "#DFE8F3",
            "linecolor": "#A2B1C6",
            "ticks": ""
           },
           "baxis": {
            "gridcolor": "#DFE8F3",
            "linecolor": "#A2B1C6",
            "ticks": ""
           },
           "bgcolor": "white",
           "caxis": {
            "gridcolor": "#DFE8F3",
            "linecolor": "#A2B1C6",
            "ticks": ""
           }
          },
          "title": {
           "x": 0.05
          },
          "xaxis": {
           "automargin": true,
           "gridcolor": "#EBF0F8",
           "linecolor": "#EBF0F8",
           "ticks": "",
           "title": {
            "standoff": 15
           },
           "zerolinecolor": "#EBF0F8",
           "zerolinewidth": 2
          },
          "yaxis": {
           "automargin": true,
           "gridcolor": "#EBF0F8",
           "linecolor": "#EBF0F8",
           "ticks": "",
           "title": {
            "standoff": 15
           },
           "zerolinecolor": "#EBF0F8",
           "zerolinewidth": 2
          }
         }
        },
        "title": {
         "text": "sMW vs about-task(43,82"
        },
        "width": 1600,
        "xaxis": {
         "anchor": "y",
         "domain": [
          0,
          0.31999999999999995
         ],
         "title": {
          "text": "sMW>about-task                  sMW<about-task"
         }
        },
        "xaxis2": {
         "anchor": "y2",
         "domain": [
          0.33999999999999997,
          0.6599999999999999
         ],
         "matches": "x",
         "title": {
          "text": "sMW>about-task                  sMW<about-task"
         }
        },
        "xaxis3": {
         "anchor": "y3",
         "domain": [
          0.6799999999999999,
          0.9999999999999999
         ],
         "matches": "x",
         "title": {
          "text": "sMW>about-task                  sMW<about-task"
         }
        },
        "yaxis": {
         "anchor": "x",
         "domain": [
          0,
          1
         ],
         "showticklabels": true,
         "tickmode": "linear",
         "title": {
          "text": "markers"
         }
        },
        "yaxis2": {
         "anchor": "x2",
         "domain": [
          0,
          1
         ],
         "matches": "y",
         "showticklabels": false
        },
        "yaxis3": {
         "anchor": "x3",
         "domain": [
          0,
          1
         ],
         "matches": "y",
         "showticklabels": false
        }
       }
      },
      "text/html": [
       "<div>                            <div id=\"1e88e0da-d33b-4732-b6d0-824fd7fedda8\" class=\"plotly-graph-div\" style=\"height:800px; width:1600px;\"></div>            <script type=\"text/javascript\">                require([\"plotly\"], function(Plotly) {                    window.PLOTLYENV=window.PLOTLYENV || {};                                    if (document.getElementById(\"1e88e0da-d33b-4732-b6d0-824fd7fedda8\")) {                    Plotly.newPlot(                        \"1e88e0da-d33b-4732-b6d0-824fd7fedda8\",                        [{\"hovertemplate\":\"balance=unbalance<br>significant=p > 0.05<br>sMW>about-task                  sMW<about-task=%{x}<br>markers=%{y}<extra></extra>\",\"legendgroup\":\"unbalance, p > 0.05\",\"marker\":{\"color\":\"#DE237B\",\"symbol\":\"circle-open\",\"size\":8},\"mode\":\"markers\",\"name\":\"unbalance, p > 0.05\",\"orientation\":\"h\",\"showlegend\":true,\"x\":[0.4024390243902439,0.4081111741349972,0.40981281905842315,0.42569483834373234,0.4278218944980148,0.43391945547362454,0.43902439024390244,0.44696539988655704,0.45093590470788425,0.4597277368122518,0.46114577424844017,0.4614293817356778,0.46625070901871807,0.4668179239931934,0.4682359614293818,0.4688031764038571,0.473057288712422,0.4734826999432785,0.4750425411230857,0.4778786159954622,0.47787861599546233,0.48043108338060125,0.4886557005104935,0.49007373794668174,0.49177538287010775,0.4934770277935338,0.4943278502552467,0.49602949517867273,0.4980147475893364,0.5059557572319909,0.5073737946681792,0.5121951219512195,0.5127623369256948,0.5190017016449234,0.524390243902439,0.527793533749291,0.53034600113443,0.5374361883153714,0.5385706182643222,0.5402722631877482,0.5425411230856495,0.5484968803176404,0.5490640952921158,0.5496313102665911,0.5553034600113443,0.5592739648326716,0.5689166193987522,0.5723199092456042,0.5839478162223484,0.5998298355076574],\"xaxis\":\"x\",\"y\":[\"$PE\\\\beta_{std}$\",\"$wSMI\\\\theta_{std}$\",\"$|\\\\alpha|_{std}$\",\"$PE\\\\alpha_{std}$\",\"$MSF_{mean}$\",\"$wSMI\\\\theta_{mean}$\",\"$\\\\alpha_{mean}$\",\"$PE\\\\gamma_{std}$\",\"$\\\\gamma_{std}$\",\"$SEF95_{std}$\",\"$P1_{std}$\",\"$P3a_{std}$\",\"$wSMI\\\\alpha_{mean}$\",\"$CNV_{mean}$\",\"$|\\\\beta|_{mean}$\",\"$|\\\\gamma|_{mean}$\",\"$\\\\theta_{std}$\",\"$K_{mean}$\",\"$PE\\\\theta_{std}$\",\"$P3b_{std}$\",\"$SEF90_{std}$\",\"$SE_{mean}$\",\"$\\\\beta_{std}$\",\"$wSMI\\\\alpha_{std}$\",\"$\\\\gamma_{mean}$\",\"$P3a_{mean}$\",\"$SEF90_{mean}$\",\"$SEF95_{mean}$\",\"$\\\\beta_{mean}$\",\"$K_{std}$\",\"$|\\\\beta|_{std}$\",\"$PE\\\\alpha_{mean}$\",\"$PE\\\\gamma_{mean}$\",\"$wSMI\\\\beta_{mean}$\",\"$|\\\\delta|_{std}$\",\"$|\\\\gamma|_{std}$\",\"$\\\\delta_{std}$\",\"$wSMI\\\\gamma_{std}$\",\"$wSMI\\\\gamma_{mean}$\",\"$P1_{mean}$\",\"$CNV_{std}$\",\"$PE\\\\beta_{mean}$\",\"$SE_{std}$\",\"$\\\\theta_{mean}$\",\"$|\\\\theta|_{std}$\",\"$\\\\delta_{mean}$\",\"$MSF_{std}$\",\"$|\\\\delta|_{mean}$\",\"$wSMI\\\\beta_{std}$\",\"$|\\\\theta|_{mean}$\"],\"yaxis\":\"y\",\"type\":\"scatter\"},{\"hovertemplate\":\"balance=unbalance<br>significant=p < 0.05 uncorrected<br>sMW>about-task                  sMW<about-task=%{x}<br>markers=%{y}<extra></extra>\",\"legendgroup\":\"unbalance, p < 0.05 uncorrected\",\"marker\":{\"color\":\"#DE237B\",\"symbol\":\"circle\",\"size\":8},\"mode\":\"markers\",\"name\":\"unbalance, p < 0.05 uncorrected\",\"orientation\":\"h\",\"showlegend\":true,\"x\":[0.34855360181508793,0.3771979580260919,0.38201928530913215,0.6318774815655134],\"xaxis\":\"x\",\"y\":[\"$\\\\alpha_{std}$\",\"$|\\\\alpha|_{mean}$\",\"$PE\\\\theta_{mean}$\",\"$P3b_{mean}$\"],\"yaxis\":\"y\",\"type\":\"scatter\"},{\"hovertemplate\":\"balance=under-sample<br>significant=p > 0.05<br>sMW>about-task                  sMW<about-task=%{x}<br>markers=%{y}<extra></extra>\",\"legendgroup\":\"under-sample, p > 0.05\",\"marker\":{\"color\":\"#9AC529\",\"symbol\":\"circle-open\",\"size\":8},\"mode\":\"markers\",\"name\":\"under-sample, p > 0.05\",\"orientation\":\"h\",\"showlegend\":true,\"x\":[0.39426717144402385,0.39751216873985945,0.4115738236884802,0.43266630611141155,0.43428880475932935,0.43645213628988644,0.4380746349378042,0.43969713358572193,0.447809626825311,0.4553812871822608,0.4597079502433748,0.46106003244997296,0.4629529475392104,0.46673877771768524,0.46727961060032447,0.468361276365603,0.46836127636560304,0.4737696051919957,0.47809626825310975,0.47971876690102755,0.48620876149269876,0.48674959437533805,0.4883720930232558,0.48999459167117365,0.4916170903190914,0.49215792320173063,0.4997295835586803,0.5105462412114657,0.5116279069767442,0.513250405624662,0.5137912385073012,0.5143320713899404,0.515413737155219,0.5175770686857761,0.5219037317468902,0.5267712276906436,0.5267712276906436,0.5327203893996755,0.5343428880475933,0.5392103839913467,0.539751216873986,0.5451595457003786,0.5484045429962142,0.5505678745267713,0.5538128718226069,0.5575987020010816,0.5586803677663602,0.5597620335316387,0.5673336938885885,0.578691184424013,0.5803136830719308,0.5840995132504057,0.5846403461330449],\"xaxis\":\"x2\",\"y\":[\"$\\\\alpha_{std}$\",\"$PE\\\\alpha_{std}$\",\"$PE\\\\beta_{std}$\",\"$|\\\\alpha|_{mean}$\",\"$SEF95_{std}$\",\"$PE\\\\theta_{mean}$\",\"$wSMI\\\\theta_{mean}$\",\"$wSMI\\\\theta_{std}$\",\"$|\\\\gamma|_{mean}$\",\"$\\\\gamma_{std}$\",\"$P3a_{std}$\",\"$MSF_{mean}$\",\"$\\\\theta_{std}$\",\"$P3a_{mean}$\",\"$CNV_{mean}$\",\"$SEF95_{mean}$\",\"$|\\\\alpha|_{std}$\",\"$|\\\\beta|_{mean}$\",\"$SEF90_{mean}$\",\"$SEF90_{std}$\",\"$SE_{mean}$\",\"$K_{mean}$\",\"$PE\\\\gamma_{std}$\",\"$P1_{std}$\",\"$\\\\alpha_{mean}$\",\"$PE\\\\gamma_{mean}$\",\"$PE\\\\theta_{std}$\",\"$P3b_{std}$\",\"$\\\\delta_{std}$\",\"$PE\\\\beta_{mean}$\",\"$K_{std}$\",\"$\\\\gamma_{mean}$\",\"$PE\\\\alpha_{mean}$\",\"$wSMI\\\\alpha_{mean}$\",\"$SE_{std}$\",\"$wSMI\\\\alpha_{std}$\",\"$|\\\\beta|_{std}$\",\"$|\\\\gamma|_{std}$\",\"$\\\\beta_{std}$\",\"$|\\\\delta|_{std}$\",\"$|\\\\theta|_{std}$\",\"$\\\\beta_{mean}$\",\"$|\\\\delta|_{mean}$\",\"$wSMI\\\\gamma_{mean}$\",\"$P1_{mean}$\",\"$wSMI\\\\beta_{std}$\",\"$wSMI\\\\gamma_{std}$\",\"$MSF_{std}$\",\"$wSMI\\\\beta_{mean}$\",\"$|\\\\theta|_{mean}$\",\"$CNV_{std}$\",\"$\\\\delta_{mean}$\",\"$\\\\theta_{mean}$\"],\"yaxis\":\"y2\",\"type\":\"scatter\"},{\"hovertemplate\":\"balance=under-sample<br>significant=p < 0.05 uncorrected<br>sMW>about-task                  sMW<about-task=%{x}<br>markers=%{y}<extra></extra>\",\"legendgroup\":\"under-sample, p < 0.05 uncorrected\",\"marker\":{\"color\":\"#9AC529\",\"symbol\":\"circle\",\"size\":8},\"mode\":\"markers\",\"name\":\"under-sample, p < 0.05 uncorrected\",\"orientation\":\"h\",\"showlegend\":true,\"x\":[0.6879394267171445],\"xaxis\":\"x2\",\"y\":[\"$P3b_{mean}$\"],\"yaxis\":\"y2\",\"type\":\"scatter\"},{\"hovertemplate\":\"balance=over-sample<br>significant=p > 0.05<br>sMW>about-task                  sMW<about-task=%{x}<br>markers=%{y}<extra></extra>\",\"legendgroup\":\"over-sample, p > 0.05\",\"marker\":{\"color\":\"#F38A31\",\"symbol\":\"circle-open\",\"size\":8},\"mode\":\"markers\",\"name\":\"over-sample, p > 0.05\",\"orientation\":\"h\",\"showlegend\":true,\"x\":[0.4327781082688876,0.43842950624628196,0.4386525877453896,0.44036287923854844,0.44512195121951215,0.4489886972040453,0.45121951219512196,0.4582093991671624,0.46222486615110053,0.462819750148721,0.465348007138608,0.4672813801308745,0.46817370612730513,0.47189173111243304,0.4729327781082689,0.475609756097561,0.47947650208209397,0.47962522308149913,0.4849048185603807,0.4854253420582986,0.48765615704937537,0.49196906603212376,0.49360499702558,0.49806662700773346,0.502676977989292,0.5139797739440809,0.515318262938727,0.5174003569303987,0.5182926829268293,0.51918500892326,0.522903033908388,0.5285544318857822,0.5349494348602022,0.5382212968471147,0.5382212968471147,0.5425342058298632,0.5465496728138013,0.5556216537775134,0.5635038667459845,0.5694527067221891,0.5703450327186198,0.5713860797144557,0.578227245687091,0.5783759666864962,0.5813503866745985,0.5828375966686496,0.5865556216537775],\"xaxis\":\"x3\",\"y\":[\"$PE\\\\beta_{std}$\",\"$CNV_{mean}$\",\"$MSF_{mean}$\",\"$|\\\\alpha|_{std}$\",\"$\\\\gamma_{std}$\",\"$wSMI\\\\theta_{mean}$\",\"$\\\\theta_{std}$\",\"$P3b_{std}$\",\"$P1_{std}$\",\"$\\\\alpha_{mean}$\",\"$wSMI\\\\alpha_{std}$\",\"$SEF95_{std}$\",\"$|\\\\beta|_{mean}$\",\"$P3a_{std}$\",\"$PE\\\\gamma_{std}$\",\"$|\\\\gamma|_{mean}$\",\"$PE\\\\theta_{std}$\",\"$wSMI\\\\alpha_{mean}$\",\"$K_{mean}$\",\"$SE_{mean}$\",\"$P3a_{mean}$\",\"$SEF90_{std}$\",\"$SEF90_{mean}$\",\"$SEF95_{mean}$\",\"$PE\\\\gamma_{mean}$\",\"$\\\\beta_{std}$\",\"$|\\\\beta|_{std}$\",\"$PE\\\\alpha_{mean}$\",\"$K_{std}$\",\"$\\\\gamma_{mean}$\",\"$\\\\beta_{mean}$\",\"$|\\\\theta|_{std}$\",\"$wSMI\\\\beta_{mean}$\",\"$|\\\\gamma|_{std}$\",\"$wSMI\\\\gamma_{std}$\",\"$PE\\\\beta_{mean}$\",\"$wSMI\\\\gamma_{mean}$\",\"$|\\\\delta|_{std}$\",\"$CNV_{std}$\",\"$wSMI\\\\beta_{std}$\",\"$MSF_{std}$\",\"$|\\\\delta|_{mean}$\",\"$\\\\delta_{std}$\",\"$\\\\theta_{mean}$\",\"$|\\\\theta|_{mean}$\",\"$\\\\delta_{mean}$\",\"$SE_{std}$\"],\"yaxis\":\"y3\",\"type\":\"scatter\"},{\"hovertemplate\":\"balance=over-sample<br>significant=p < 0.05 uncorrected<br>sMW>about-task                  sMW<about-task=%{x}<br>markers=%{y}<extra></extra>\",\"legendgroup\":\"over-sample, p < 0.05 uncorrected\",\"marker\":{\"color\":\"#F38A31\",\"symbol\":\"circle\",\"size\":8},\"mode\":\"markers\",\"name\":\"over-sample, p < 0.05 uncorrected\",\"orientation\":\"h\",\"showlegend\":true,\"x\":[0.35618679357525285,0.3853361094586556,0.3860797144556811,0.39039262343842945,0.40229030339083877,0.5930993456276027,0.5996430696014278],\"xaxis\":\"x3\",\"y\":[\"$\\\\alpha_{std}$\",\"$wSMI\\\\theta_{std}$\",\"$PE\\\\theta_{mean}$\",\"$|\\\\alpha|_{mean}$\",\"$PE\\\\alpha_{std}$\",\"$P1_{mean}$\",\"$P3b_{mean}$\"],\"yaxis\":\"y3\",\"type\":\"scatter\"}],                        {\"template\":{\"data\":{\"barpolar\":[{\"marker\":{\"line\":{\"color\":\"white\",\"width\":0.5},\"pattern\":{\"fillmode\":\"overlay\",\"size\":10,\"solidity\":0.2}},\"type\":\"barpolar\"}],\"bar\":[{\"error_x\":{\"color\":\"#2a3f5f\"},\"error_y\":{\"color\":\"#2a3f5f\"},\"marker\":{\"line\":{\"color\":\"white\",\"width\":0.5},\"pattern\":{\"fillmode\":\"overlay\",\"size\":10,\"solidity\":0.2}},\"type\":\"bar\"}],\"carpet\":[{\"aaxis\":{\"endlinecolor\":\"#2a3f5f\",\"gridcolor\":\"#C8D4E3\",\"linecolor\":\"#C8D4E3\",\"minorgridcolor\":\"#C8D4E3\",\"startlinecolor\":\"#2a3f5f\"},\"baxis\":{\"endlinecolor\":\"#2a3f5f\",\"gridcolor\":\"#C8D4E3\",\"linecolor\":\"#C8D4E3\",\"minorgridcolor\":\"#C8D4E3\",\"startlinecolor\":\"#2a3f5f\"},\"type\":\"carpet\"}],\"choropleth\":[{\"colorbar\":{\"outlinewidth\":0,\"ticks\":\"\"},\"type\":\"choropleth\"}],\"contourcarpet\":[{\"colorbar\":{\"outlinewidth\":0,\"ticks\":\"\"},\"type\":\"contourcarpet\"}],\"contour\":[{\"colorbar\":{\"outlinewidth\":0,\"ticks\":\"\"},\"colorscale\":[[0.0,\"#0d0887\"],[0.1111111111111111,\"#46039f\"],[0.2222222222222222,\"#7201a8\"],[0.3333333333333333,\"#9c179e\"],[0.4444444444444444,\"#bd3786\"],[0.5555555555555556,\"#d8576b\"],[0.6666666666666666,\"#ed7953\"],[0.7777777777777778,\"#fb9f3a\"],[0.8888888888888888,\"#fdca26\"],[1.0,\"#f0f921\"]],\"type\":\"contour\"}],\"heatmapgl\":[{\"colorbar\":{\"outlinewidth\":0,\"ticks\":\"\"},\"colorscale\":[[0.0,\"#0d0887\"],[0.1111111111111111,\"#46039f\"],[0.2222222222222222,\"#7201a8\"],[0.3333333333333333,\"#9c179e\"],[0.4444444444444444,\"#bd3786\"],[0.5555555555555556,\"#d8576b\"],[0.6666666666666666,\"#ed7953\"],[0.7777777777777778,\"#fb9f3a\"],[0.8888888888888888,\"#fdca26\"],[1.0,\"#f0f921\"]],\"type\":\"heatmapgl\"}],\"heatmap\":[{\"colorbar\":{\"outlinewidth\":0,\"ticks\":\"\"},\"colorscale\":[[0.0,\"#0d0887\"],[0.1111111111111111,\"#46039f\"],[0.2222222222222222,\"#7201a8\"],[0.3333333333333333,\"#9c179e\"],[0.4444444444444444,\"#bd3786\"],[0.5555555555555556,\"#d8576b\"],[0.6666666666666666,\"#ed7953\"],[0.7777777777777778,\"#fb9f3a\"],[0.8888888888888888,\"#fdca26\"],[1.0,\"#f0f921\"]],\"type\":\"heatmap\"}],\"histogram2dcontour\":[{\"colorbar\":{\"outlinewidth\":0,\"ticks\":\"\"},\"colorscale\":[[0.0,\"#0d0887\"],[0.1111111111111111,\"#46039f\"],[0.2222222222222222,\"#7201a8\"],[0.3333333333333333,\"#9c179e\"],[0.4444444444444444,\"#bd3786\"],[0.5555555555555556,\"#d8576b\"],[0.6666666666666666,\"#ed7953\"],[0.7777777777777778,\"#fb9f3a\"],[0.8888888888888888,\"#fdca26\"],[1.0,\"#f0f921\"]],\"type\":\"histogram2dcontour\"}],\"histogram2d\":[{\"colorbar\":{\"outlinewidth\":0,\"ticks\":\"\"},\"colorscale\":[[0.0,\"#0d0887\"],[0.1111111111111111,\"#46039f\"],[0.2222222222222222,\"#7201a8\"],[0.3333333333333333,\"#9c179e\"],[0.4444444444444444,\"#bd3786\"],[0.5555555555555556,\"#d8576b\"],[0.6666666666666666,\"#ed7953\"],[0.7777777777777778,\"#fb9f3a\"],[0.8888888888888888,\"#fdca26\"],[1.0,\"#f0f921\"]],\"type\":\"histogram2d\"}],\"histogram\":[{\"marker\":{\"pattern\":{\"fillmode\":\"overlay\",\"size\":10,\"solidity\":0.2}},\"type\":\"histogram\"}],\"mesh3d\":[{\"colorbar\":{\"outlinewidth\":0,\"ticks\":\"\"},\"type\":\"mesh3d\"}],\"parcoords\":[{\"line\":{\"colorbar\":{\"outlinewidth\":0,\"ticks\":\"\"}},\"type\":\"parcoords\"}],\"pie\":[{\"automargin\":true,\"type\":\"pie\"}],\"scatter3d\":[{\"line\":{\"colorbar\":{\"outlinewidth\":0,\"ticks\":\"\"}},\"marker\":{\"colorbar\":{\"outlinewidth\":0,\"ticks\":\"\"}},\"type\":\"scatter3d\"}],\"scattercarpet\":[{\"marker\":{\"colorbar\":{\"outlinewidth\":0,\"ticks\":\"\"}},\"type\":\"scattercarpet\"}],\"scattergeo\":[{\"marker\":{\"colorbar\":{\"outlinewidth\":0,\"ticks\":\"\"}},\"type\":\"scattergeo\"}],\"scattergl\":[{\"marker\":{\"colorbar\":{\"outlinewidth\":0,\"ticks\":\"\"}},\"type\":\"scattergl\"}],\"scattermapbox\":[{\"marker\":{\"colorbar\":{\"outlinewidth\":0,\"ticks\":\"\"}},\"type\":\"scattermapbox\"}],\"scatterpolargl\":[{\"marker\":{\"colorbar\":{\"outlinewidth\":0,\"ticks\":\"\"}},\"type\":\"scatterpolargl\"}],\"scatterpolar\":[{\"marker\":{\"colorbar\":{\"outlinewidth\":0,\"ticks\":\"\"}},\"type\":\"scatterpolar\"}],\"scatter\":[{\"fillpattern\":{\"fillmode\":\"overlay\",\"size\":10,\"solidity\":0.2},\"type\":\"scatter\"}],\"scatterternary\":[{\"marker\":{\"colorbar\":{\"outlinewidth\":0,\"ticks\":\"\"}},\"type\":\"scatterternary\"}],\"surface\":[{\"colorbar\":{\"outlinewidth\":0,\"ticks\":\"\"},\"colorscale\":[[0.0,\"#0d0887\"],[0.1111111111111111,\"#46039f\"],[0.2222222222222222,\"#7201a8\"],[0.3333333333333333,\"#9c179e\"],[0.4444444444444444,\"#bd3786\"],[0.5555555555555556,\"#d8576b\"],[0.6666666666666666,\"#ed7953\"],[0.7777777777777778,\"#fb9f3a\"],[0.8888888888888888,\"#fdca26\"],[1.0,\"#f0f921\"]],\"type\":\"surface\"}],\"table\":[{\"cells\":{\"fill\":{\"color\":\"#EBF0F8\"},\"line\":{\"color\":\"white\"}},\"header\":{\"fill\":{\"color\":\"#C8D4E3\"},\"line\":{\"color\":\"white\"}},\"type\":\"table\"}]},\"layout\":{\"annotationdefaults\":{\"arrowcolor\":\"#2a3f5f\",\"arrowhead\":0,\"arrowwidth\":1},\"autotypenumbers\":\"strict\",\"coloraxis\":{\"colorbar\":{\"outlinewidth\":0,\"ticks\":\"\"}},\"colorscale\":{\"diverging\":[[0,\"#8e0152\"],[0.1,\"#c51b7d\"],[0.2,\"#de77ae\"],[0.3,\"#f1b6da\"],[0.4,\"#fde0ef\"],[0.5,\"#f7f7f7\"],[0.6,\"#e6f5d0\"],[0.7,\"#b8e186\"],[0.8,\"#7fbc41\"],[0.9,\"#4d9221\"],[1,\"#276419\"]],\"sequential\":[[0.0,\"#0d0887\"],[0.1111111111111111,\"#46039f\"],[0.2222222222222222,\"#7201a8\"],[0.3333333333333333,\"#9c179e\"],[0.4444444444444444,\"#bd3786\"],[0.5555555555555556,\"#d8576b\"],[0.6666666666666666,\"#ed7953\"],[0.7777777777777778,\"#fb9f3a\"],[0.8888888888888888,\"#fdca26\"],[1.0,\"#f0f921\"]],\"sequentialminus\":[[0.0,\"#0d0887\"],[0.1111111111111111,\"#46039f\"],[0.2222222222222222,\"#7201a8\"],[0.3333333333333333,\"#9c179e\"],[0.4444444444444444,\"#bd3786\"],[0.5555555555555556,\"#d8576b\"],[0.6666666666666666,\"#ed7953\"],[0.7777777777777778,\"#fb9f3a\"],[0.8888888888888888,\"#fdca26\"],[1.0,\"#f0f921\"]]},\"colorway\":[\"#636efa\",\"#EF553B\",\"#00cc96\",\"#ab63fa\",\"#FFA15A\",\"#19d3f3\",\"#FF6692\",\"#B6E880\",\"#FF97FF\",\"#FECB52\"],\"font\":{\"color\":\"#2a3f5f\"},\"geo\":{\"bgcolor\":\"white\",\"lakecolor\":\"white\",\"landcolor\":\"white\",\"showlakes\":true,\"showland\":true,\"subunitcolor\":\"#C8D4E3\"},\"hoverlabel\":{\"align\":\"left\"},\"hovermode\":\"closest\",\"mapbox\":{\"style\":\"light\"},\"paper_bgcolor\":\"white\",\"plot_bgcolor\":\"white\",\"polar\":{\"angularaxis\":{\"gridcolor\":\"#EBF0F8\",\"linecolor\":\"#EBF0F8\",\"ticks\":\"\"},\"bgcolor\":\"white\",\"radialaxis\":{\"gridcolor\":\"#EBF0F8\",\"linecolor\":\"#EBF0F8\",\"ticks\":\"\"}},\"scene\":{\"xaxis\":{\"backgroundcolor\":\"white\",\"gridcolor\":\"#DFE8F3\",\"gridwidth\":2,\"linecolor\":\"#EBF0F8\",\"showbackground\":true,\"ticks\":\"\",\"zerolinecolor\":\"#EBF0F8\"},\"yaxis\":{\"backgroundcolor\":\"white\",\"gridcolor\":\"#DFE8F3\",\"gridwidth\":2,\"linecolor\":\"#EBF0F8\",\"showbackground\":true,\"ticks\":\"\",\"zerolinecolor\":\"#EBF0F8\"},\"zaxis\":{\"backgroundcolor\":\"white\",\"gridcolor\":\"#DFE8F3\",\"gridwidth\":2,\"linecolor\":\"#EBF0F8\",\"showbackground\":true,\"ticks\":\"\",\"zerolinecolor\":\"#EBF0F8\"}},\"shapedefaults\":{\"line\":{\"color\":\"#2a3f5f\"}},\"ternary\":{\"aaxis\":{\"gridcolor\":\"#DFE8F3\",\"linecolor\":\"#A2B1C6\",\"ticks\":\"\"},\"baxis\":{\"gridcolor\":\"#DFE8F3\",\"linecolor\":\"#A2B1C6\",\"ticks\":\"\"},\"bgcolor\":\"white\",\"caxis\":{\"gridcolor\":\"#DFE8F3\",\"linecolor\":\"#A2B1C6\",\"ticks\":\"\"}},\"title\":{\"x\":0.05},\"xaxis\":{\"automargin\":true,\"gridcolor\":\"#EBF0F8\",\"linecolor\":\"#EBF0F8\",\"ticks\":\"\",\"title\":{\"standoff\":15},\"zerolinecolor\":\"#EBF0F8\",\"zerolinewidth\":2},\"yaxis\":{\"automargin\":true,\"gridcolor\":\"#EBF0F8\",\"linecolor\":\"#EBF0F8\",\"ticks\":\"\",\"title\":{\"standoff\":15},\"zerolinecolor\":\"#EBF0F8\",\"zerolinewidth\":2}}},\"xaxis\":{\"anchor\":\"y\",\"domain\":[0.0,0.31999999999999995],\"title\":{\"text\":\"sMW>about-task                  sMW<about-task\"}},\"yaxis\":{\"anchor\":\"x\",\"domain\":[0.0,1.0],\"title\":{\"text\":\"markers\"},\"showticklabels\":true,\"tickmode\":\"linear\"},\"xaxis2\":{\"anchor\":\"y2\",\"domain\":[0.33999999999999997,0.6599999999999999],\"matches\":\"x\",\"title\":{\"text\":\"sMW>about-task                  sMW<about-task\"}},\"yaxis2\":{\"anchor\":\"x2\",\"domain\":[0.0,1.0],\"matches\":\"y\",\"showticklabels\":false},\"xaxis3\":{\"anchor\":\"y3\",\"domain\":[0.6799999999999999,0.9999999999999999],\"matches\":\"x\",\"title\":{\"text\":\"sMW>about-task                  sMW<about-task\"}},\"yaxis3\":{\"anchor\":\"x3\",\"domain\":[0.0,1.0],\"matches\":\"y\",\"showticklabels\":false},\"annotations\":[{\"showarrow\":false,\"text\":\"balance=unbalance\",\"x\":0.15999999999999998,\"xanchor\":\"center\",\"xref\":\"paper\",\"y\":1.0,\"yanchor\":\"bottom\",\"yref\":\"paper\"},{\"showarrow\":false,\"text\":\"balance=under-sample\",\"x\":0.49999999999999994,\"xanchor\":\"center\",\"xref\":\"paper\",\"y\":1.0,\"yanchor\":\"bottom\",\"yref\":\"paper\"},{\"showarrow\":false,\"text\":\"balance=over-sample\",\"x\":0.8399999999999999,\"xanchor\":\"center\",\"xref\":\"paper\",\"y\":1.0,\"yanchor\":\"bottom\",\"yref\":\"paper\"}],\"legend\":{\"title\":{\"text\":\"balance, significant\"},\"tracegroupgap\":0},\"margin\":{\"t\":60},\"shapes\":[{\"line\":{\"color\":\"black\",\"dash\":\"dash\",\"width\":3},\"type\":\"line\",\"x0\":0.5,\"x1\":0.5,\"xref\":\"x\",\"y0\":0,\"y1\":1,\"yref\":\"y domain\"},{\"line\":{\"color\":\"black\",\"dash\":\"dash\",\"width\":3},\"type\":\"line\",\"x0\":0.5,\"x1\":0.5,\"xref\":\"x2\",\"y0\":0,\"y1\":1,\"yref\":\"y2 domain\"},{\"line\":{\"color\":\"black\",\"dash\":\"dash\",\"width\":3},\"type\":\"line\",\"x0\":0.5,\"x1\":0.5,\"xref\":\"x3\",\"y0\":0,\"y1\":1,\"yref\":\"y3 domain\"}],\"title\":{\"text\":\"sMW vs about-task(43,82\"},\"autosize\":true,\"width\":1600,\"height\":800},                        {\"responsive\": true}                    ).then(function(){\n",
       "                            \n",
       "var gd = document.getElementById('1e88e0da-d33b-4732-b6d0-824fd7fedda8');\n",
       "var x = new MutationObserver(function (mutations, observer) {{\n",
       "        var display = window.getComputedStyle(gd).display;\n",
       "        if (!display || display === 'none') {{\n",
       "            console.log([gd, 'removed!']);\n",
       "            Plotly.purge(gd);\n",
       "            observer.disconnect();\n",
       "        }}\n",
       "}});\n",
       "\n",
       "// Listen for the removal of the full notebook cells\n",
       "var notebookContainer = gd.closest('#notebook-container');\n",
       "if (notebookContainer) {{\n",
       "    x.observe(notebookContainer, {childList: true});\n",
       "}}\n",
       "\n",
       "// Listen for the clearing of the current output cell\n",
       "var outputEl = gd.closest('.output');\n",
       "if (outputEl) {{\n",
       "    x.observe(outputEl, {childList: true});\n",
       "}}\n",
       "\n",
       "                        })                };                });            </script>        </div>"
      ]
     },
     "metadata": {},
     "output_type": "display_data"
    },
    {
     "data": {
      "application/vnd.plotly.v1+json": {
       "config": {
        "plotlyServerURL": "https://plot.ly"
       },
       "data": [
        {
         "hovertemplate": "balance=unbalance<br>significant=p > 0.05<br>sMW>distracted                  sMW<distracted=%{x}<br>markers=%{y}<extra></extra>",
         "legendgroup": "unbalance, p > 0.05",
         "marker": {
          "color": "#DE237B",
          "size": 8,
          "symbol": "circle-open"
         },
         "mode": "markers",
         "name": "unbalance, p > 0.05",
         "orientation": "h",
         "showlegend": true,
         "type": "scatter",
         "x": [
          0.3808139534883721,
          0.41182170542635654,
          0.41424418604651164,
          0.4171511627906977,
          0.4190891472868217,
          0.41908914728682173,
          0.42005813953488375,
          0.4215116279069767,
          0.4249031007751938,
          0.4253875968992248,
          0.4331395348837209,
          0.43992248062015504,
          0.4428294573643411,
          0.45518410852713176,
          0.45687984496124023,
          0.4578488372093023,
          0.46317829457364335,
          0.4641472868217055,
          0.4646317829457364,
          0.46656976744186046,
          0.4733527131782945,
          0.47916666666666663,
          0.48062015503875966,
          0.48643410852713176,
          0.48740310077519383,
          0.49273255813953487,
          0.49515503875969,
          0.4956395348837209,
          0.49612403100775193,
          0.498546511627907,
          0.5048449612403101,
          0.5058139534883721,
          0.509205426356589,
          0.5116279069767442,
          0.5184108527131783,
          0.5184108527131783,
          0.5188953488372093,
          0.5193798449612403,
          0.5310077519379846,
          0.5377906976744186,
          0.5392441860465117,
          0.5397286821705426,
          0.5397286821705426,
          0.5416666666666666,
          0.5431201550387597,
          0.5494186046511628,
          0.5532945736434108,
          0.5542635658914729,
          0.5678294573643411,
          0.5687984496124031,
          0.5818798449612403,
          0.5818798449612403,
          0.5852713178294574,
          0.5915697674418604
         ],
         "xaxis": "x",
         "y": [
          "$PE\\theta_{mean}$",
          "$|\\gamma|_{mean}$",
          "$PE\\alpha_{std}$",
          "$|\\alpha|_{mean}$",
          "$SEF90_{mean}$",
          "$MSF_{mean}$",
          "$\\alpha_{std}$",
          "$\\theta_{std}$",
          "$SE_{mean}$",
          "$SEF95_{mean}$",
          "$P1_{std}$",
          "$|\\theta|_{std}$",
          "$\\beta_{std}$",
          "$K_{mean}$",
          "$\\alpha_{mean}$",
          "$PE\\beta_{std}$",
          "$wSMI\\theta_{mean}$",
          "$SEF95_{std}$",
          "$\\gamma_{mean}$",
          "$|\\alpha|_{std}$",
          "$SEF90_{std}$",
          "$\\gamma_{std}$",
          "$|\\beta|_{mean}$",
          "$\\delta_{std}$",
          "$wSMI\\alpha_{std}$",
          "$wSMI\\beta_{mean}$",
          "$|\\gamma|_{std}$",
          "$\\beta_{mean}$",
          "$P3b_{std}$",
          "$PE\\beta_{mean}$",
          "$K_{std}$",
          "$PE\\gamma_{std}$",
          "$PE\\alpha_{mean}$",
          "$wSMI\\beta_{std}$",
          "$wSMI\\theta_{std}$",
          "$\\theta_{mean}$",
          "$wSMI\\alpha_{mean}$",
          "$|\\beta|_{std}$",
          "$CNV_{mean}$",
          "$P3a_{std}$",
          "$\\delta_{mean}$",
          "$SE_{std}$",
          "$P3b_{mean}$",
          "$P3a_{mean}$",
          "$|\\theta|_{mean}$",
          "$PE\\gamma_{mean}$",
          "$|\\delta|_{std}$",
          "$wSMI\\gamma_{std}$",
          "$P1_{mean}$",
          "$CNV_{std}$",
          "$PE\\theta_{std}$",
          "$wSMI\\gamma_{mean}$",
          "$MSF_{std}$",
          "$|\\delta|_{mean}$"
         ],
         "yaxis": "y"
        },
        {
         "hovertemplate": "balance=under-sample<br>significant=p > 0.05<br>sMW>distracted                  sMW<distracted=%{x}<br>markers=%{y}<extra></extra>",
         "legendgroup": "under-sample, p > 0.05",
         "marker": {
          "color": "#9AC529",
          "size": 8,
          "symbol": "circle-open"
         },
         "mode": "markers",
         "name": "under-sample, p > 0.05",
         "orientation": "h",
         "showlegend": true,
         "type": "scatter",
         "x": [
          0.40616549486208764,
          0.4164413196322336,
          0.42563547863710116,
          0.4288804759329367,
          0.4310438074634937,
          0.43266630611141155,
          0.4337479718766901,
          0.4342888047593294,
          0.43915630070308276,
          0.4418604651162791,
          0.4445646295294754,
          0.4532179556517037,
          0.4597079502433748,
          0.46511627906976744,
          0.4651162790697675,
          0.4656571119524067,
          0.4710654407787993,
          0.4721471065440779,
          0.4721471065440779,
          0.4726879394267171,
          0.4786371011357491,
          0.4824229313142239,
          0.4856679286100595,
          0.4856679286100595,
          0.4916170903190914,
          0.4937804218496485,
          0.4964845862628448,
          0.5013520822065982,
          0.5013520822065982,
          0.5062195781503516,
          0.5113574905354246,
          0.5137912385073011,
          0.5143320713899405,
          0.5191995673336939,
          0.527312060573283,
          0.5289345592212006,
          0.5321795565170362,
          0.533802055164954,
          0.5354245538128719,
          0.5392103839913466,
          0.5402920497566253,
          0.5429962141698216,
          0.5440778799351,
          0.5446187128177393,
          0.5478637101135749,
          0.5511087074094105,
          0.5532720389399675,
          0.5554353704705246,
          0.5592212006489995,
          0.5630070308274744,
          0.5667928610059492,
          0.5759870200108167,
          0.5943753380205516,
          0.5976203353163873
         ],
         "xaxis": "x2",
         "y": [
          "$PE\\theta_{mean}$",
          "$PE\\alpha_{std}$",
          "$|\\gamma|_{mean}$",
          "$|\\alpha|_{mean}$",
          "$\\alpha_{std}$",
          "$|\\theta|_{std}$",
          "$SEF90_{mean}$",
          "$\\theta_{std}$",
          "$SE_{mean}$",
          "$SEF95_{mean}$",
          "$MSF_{mean}$",
          "$\\beta_{std}$",
          "$P1_{std}$",
          "$K_{mean}$",
          "$PE\\beta_{std}$",
          "$SEF95_{std}$",
          "$\\alpha_{mean}$",
          "$wSMI\\alpha_{std}$",
          "$|\\alpha|_{std}$",
          "$wSMI\\beta_{mean}$",
          "$SEF90_{std}$",
          "$P3b_{std}$",
          "$\\gamma_{std}$",
          "$|\\beta|_{mean}$",
          "$wSMI\\theta_{mean}$",
          "$\\gamma_{mean}$",
          "$\\delta_{std}$",
          "$PE\\beta_{mean}$",
          "$|\\gamma|_{std}$",
          "$PE\\alpha_{mean}$",
          "$K_{std}$",
          "$\\beta_{mean}$",
          "$PE\\gamma_{std}$",
          "$|\\theta|_{mean}$",
          "$\\theta_{mean}$",
          "$wSMI\\theta_{std}$",
          "$|\\beta|_{std}$",
          "$wSMI\\alpha_{mean}$",
          "$P3a_{mean}$",
          "$P3b_{mean}$",
          "$\\delta_{mean}$",
          "$P3a_{std}$",
          "$CNV_{std}$",
          "$wSMI\\beta_{std}$",
          "$SE_{std}$",
          "$|\\delta|_{std}$",
          "$PE\\gamma_{mean}$",
          "$CNV_{mean}$",
          "$wSMI\\gamma_{std}$",
          "$P1_{mean}$",
          "$|\\delta|_{mean}$",
          "$wSMI\\gamma_{mean}$",
          "$MSF_{std}$",
          "$PE\\theta_{std}$"
         ],
         "yaxis": "y2"
        },
        {
         "hovertemplate": "balance=over-sample<br>significant=p > 0.05<br>sMW>distracted                  sMW<distracted=%{x}<br>markers=%{y}<extra></extra>",
         "legendgroup": "over-sample, p > 0.05",
         "marker": {
          "color": "#F38A31",
          "size": 8,
          "symbol": "circle-open"
         },
         "mode": "markers",
         "name": "over-sample, p > 0.05",
         "orientation": "h",
         "showlegend": true,
         "type": "scatter",
         "x": [
          0.38411458333333337,
          0.4014756944444444,
          0.4053819444444444,
          0.4075520833333333,
          0.4110243055555555,
          0.4110243055555556,
          0.4118923611111111,
          0.4166666666666667,
          0.41970486111111116,
          0.42621527777777773,
          0.43619791666666663,
          0.4396701388888889,
          0.4422743055555555,
          0.4466145833333333,
          0.4561631944444445,
          0.4578993055555556,
          0.4583333333333333,
          0.46440972222222215,
          0.46614583333333337,
          0.4678819444444444,
          0.4678819444444445,
          0.47048611111111116,
          0.47439236111111105,
          0.4774305555555556,
          0.48003472222222227,
          0.484375,
          0.4856770833333333,
          0.4874131944444444,
          0.4887152777777778,
          0.4898003472222222,
          0.4908854166666667,
          0.49218750000000006,
          0.5034722222222222,
          0.51171875,
          0.5243055555555556,
          0.5282118055555556,
          0.5325520833333333,
          0.5334201388888888,
          0.5338541666666666,
          0.5347222222222221,
          0.53515625,
          0.5403645833333333,
          0.5412326388888888,
          0.5460069444444445,
          0.5464409722222222,
          0.546875,
          0.5542534722222222,
          0.5607638888888888,
          0.5651041666666666,
          0.572048611111111,
          0.5733506944444445,
          0.5798611111111112,
          0.5954861111111112,
          0.5967881944444444
         ],
         "xaxis": "x3",
         "y": [
          "$PE\\theta_{mean}$",
          "$|\\gamma|_{mean}$",
          "$SEF90_{mean}$",
          "$SE_{mean}$",
          "$PE\\alpha_{std}$",
          "$MSF_{mean}$",
          "$SEF95_{mean}$",
          "$\\alpha_{std}$",
          "$\\theta_{std}$",
          "$|\\alpha|_{mean}$",
          "$P1_{std}$",
          "$|\\theta|_{std}$",
          "$\\beta_{std}$",
          "$K_{mean}$",
          "$|\\beta|_{mean}$",
          "$\\gamma_{mean}$",
          "$PE\\beta_{std}$",
          "$SEF95_{std}$",
          "$SEF90_{std}$",
          "$wSMI\\alpha_{std}$",
          "$\\alpha_{mean}$",
          "$\\gamma_{std}$",
          "$|\\alpha|_{std}$",
          "$|\\gamma|_{std}$",
          "$\\delta_{std}$",
          "$PE\\beta_{mean}$",
          "$PE\\alpha_{mean}$",
          "$wSMI\\theta_{mean}$",
          "$P3b_{std}$",
          "$K_{std}$",
          "$\\beta_{mean}$",
          "$wSMI\\beta_{std}$",
          "$wSMI\\beta_{mean}$",
          "$PE\\gamma_{std}$",
          "$wSMI\\theta_{std}$",
          "$P3a_{std}$",
          "$wSMI\\alpha_{mean}$",
          "$CNV_{mean}$",
          "$|\\beta|_{std}$",
          "$P3a_{mean}$",
          "$\\theta_{mean}$",
          "$SE_{std}$",
          "$P3b_{mean}$",
          "$PE\\gamma_{mean}$",
          "$wSMI\\gamma_{std}$",
          "$\\delta_{mean}$",
          "$CNV_{std}$",
          "$|\\theta|_{mean}$",
          "$|\\delta|_{std}$",
          "$P1_{mean}$",
          "$wSMI\\gamma_{mean}$",
          "$MSF_{std}$",
          "$PE\\theta_{std}$",
          "$|\\delta|_{mean}$"
         ],
         "yaxis": "y3"
        }
       ],
       "layout": {
        "annotations": [
         {
          "showarrow": false,
          "text": "balance=unbalance",
          "x": 0.15999999999999998,
          "xanchor": "center",
          "xref": "paper",
          "y": 1,
          "yanchor": "bottom",
          "yref": "paper"
         },
         {
          "showarrow": false,
          "text": "balance=under-sample",
          "x": 0.49999999999999994,
          "xanchor": "center",
          "xref": "paper",
          "y": 1,
          "yanchor": "bottom",
          "yref": "paper"
         },
         {
          "showarrow": false,
          "text": "balance=over-sample",
          "x": 0.8399999999999999,
          "xanchor": "center",
          "xref": "paper",
          "y": 1,
          "yanchor": "bottom",
          "yref": "paper"
         }
        ],
        "autosize": true,
        "height": 800,
        "legend": {
         "title": {
          "text": "balance, significant"
         },
         "tracegroupgap": 0
        },
        "margin": {
         "t": 60
        },
        "shapes": [
         {
          "line": {
           "color": "black",
           "dash": "dash",
           "width": 3
          },
          "type": "line",
          "x0": 0.5,
          "x1": 0.5,
          "xref": "x",
          "y0": 0,
          "y1": 1,
          "yref": "y domain"
         },
         {
          "line": {
           "color": "black",
           "dash": "dash",
           "width": 3
          },
          "type": "line",
          "x0": 0.5,
          "x1": 0.5,
          "xref": "x2",
          "y0": 0,
          "y1": 1,
          "yref": "y2 domain"
         },
         {
          "line": {
           "color": "black",
           "dash": "dash",
           "width": 3
          },
          "type": "line",
          "x0": 0.5,
          "x1": 0.5,
          "xref": "x3",
          "y0": 0,
          "y1": 1,
          "yref": "y3 domain"
         }
        ],
        "template": {
         "data": {
          "bar": [
           {
            "error_x": {
             "color": "#2a3f5f"
            },
            "error_y": {
             "color": "#2a3f5f"
            },
            "marker": {
             "line": {
              "color": "white",
              "width": 0.5
             },
             "pattern": {
              "fillmode": "overlay",
              "size": 10,
              "solidity": 0.2
             }
            },
            "type": "bar"
           }
          ],
          "barpolar": [
           {
            "marker": {
             "line": {
              "color": "white",
              "width": 0.5
             },
             "pattern": {
              "fillmode": "overlay",
              "size": 10,
              "solidity": 0.2
             }
            },
            "type": "barpolar"
           }
          ],
          "carpet": [
           {
            "aaxis": {
             "endlinecolor": "#2a3f5f",
             "gridcolor": "#C8D4E3",
             "linecolor": "#C8D4E3",
             "minorgridcolor": "#C8D4E3",
             "startlinecolor": "#2a3f5f"
            },
            "baxis": {
             "endlinecolor": "#2a3f5f",
             "gridcolor": "#C8D4E3",
             "linecolor": "#C8D4E3",
             "minorgridcolor": "#C8D4E3",
             "startlinecolor": "#2a3f5f"
            },
            "type": "carpet"
           }
          ],
          "choropleth": [
           {
            "colorbar": {
             "outlinewidth": 0,
             "ticks": ""
            },
            "type": "choropleth"
           }
          ],
          "contour": [
           {
            "colorbar": {
             "outlinewidth": 0,
             "ticks": ""
            },
            "colorscale": [
             [
              0,
              "#0d0887"
             ],
             [
              0.1111111111111111,
              "#46039f"
             ],
             [
              0.2222222222222222,
              "#7201a8"
             ],
             [
              0.3333333333333333,
              "#9c179e"
             ],
             [
              0.4444444444444444,
              "#bd3786"
             ],
             [
              0.5555555555555556,
              "#d8576b"
             ],
             [
              0.6666666666666666,
              "#ed7953"
             ],
             [
              0.7777777777777778,
              "#fb9f3a"
             ],
             [
              0.8888888888888888,
              "#fdca26"
             ],
             [
              1,
              "#f0f921"
             ]
            ],
            "type": "contour"
           }
          ],
          "contourcarpet": [
           {
            "colorbar": {
             "outlinewidth": 0,
             "ticks": ""
            },
            "type": "contourcarpet"
           }
          ],
          "heatmap": [
           {
            "colorbar": {
             "outlinewidth": 0,
             "ticks": ""
            },
            "colorscale": [
             [
              0,
              "#0d0887"
             ],
             [
              0.1111111111111111,
              "#46039f"
             ],
             [
              0.2222222222222222,
              "#7201a8"
             ],
             [
              0.3333333333333333,
              "#9c179e"
             ],
             [
              0.4444444444444444,
              "#bd3786"
             ],
             [
              0.5555555555555556,
              "#d8576b"
             ],
             [
              0.6666666666666666,
              "#ed7953"
             ],
             [
              0.7777777777777778,
              "#fb9f3a"
             ],
             [
              0.8888888888888888,
              "#fdca26"
             ],
             [
              1,
              "#f0f921"
             ]
            ],
            "type": "heatmap"
           }
          ],
          "heatmapgl": [
           {
            "colorbar": {
             "outlinewidth": 0,
             "ticks": ""
            },
            "colorscale": [
             [
              0,
              "#0d0887"
             ],
             [
              0.1111111111111111,
              "#46039f"
             ],
             [
              0.2222222222222222,
              "#7201a8"
             ],
             [
              0.3333333333333333,
              "#9c179e"
             ],
             [
              0.4444444444444444,
              "#bd3786"
             ],
             [
              0.5555555555555556,
              "#d8576b"
             ],
             [
              0.6666666666666666,
              "#ed7953"
             ],
             [
              0.7777777777777778,
              "#fb9f3a"
             ],
             [
              0.8888888888888888,
              "#fdca26"
             ],
             [
              1,
              "#f0f921"
             ]
            ],
            "type": "heatmapgl"
           }
          ],
          "histogram": [
           {
            "marker": {
             "pattern": {
              "fillmode": "overlay",
              "size": 10,
              "solidity": 0.2
             }
            },
            "type": "histogram"
           }
          ],
          "histogram2d": [
           {
            "colorbar": {
             "outlinewidth": 0,
             "ticks": ""
            },
            "colorscale": [
             [
              0,
              "#0d0887"
             ],
             [
              0.1111111111111111,
              "#46039f"
             ],
             [
              0.2222222222222222,
              "#7201a8"
             ],
             [
              0.3333333333333333,
              "#9c179e"
             ],
             [
              0.4444444444444444,
              "#bd3786"
             ],
             [
              0.5555555555555556,
              "#d8576b"
             ],
             [
              0.6666666666666666,
              "#ed7953"
             ],
             [
              0.7777777777777778,
              "#fb9f3a"
             ],
             [
              0.8888888888888888,
              "#fdca26"
             ],
             [
              1,
              "#f0f921"
             ]
            ],
            "type": "histogram2d"
           }
          ],
          "histogram2dcontour": [
           {
            "colorbar": {
             "outlinewidth": 0,
             "ticks": ""
            },
            "colorscale": [
             [
              0,
              "#0d0887"
             ],
             [
              0.1111111111111111,
              "#46039f"
             ],
             [
              0.2222222222222222,
              "#7201a8"
             ],
             [
              0.3333333333333333,
              "#9c179e"
             ],
             [
              0.4444444444444444,
              "#bd3786"
             ],
             [
              0.5555555555555556,
              "#d8576b"
             ],
             [
              0.6666666666666666,
              "#ed7953"
             ],
             [
              0.7777777777777778,
              "#fb9f3a"
             ],
             [
              0.8888888888888888,
              "#fdca26"
             ],
             [
              1,
              "#f0f921"
             ]
            ],
            "type": "histogram2dcontour"
           }
          ],
          "mesh3d": [
           {
            "colorbar": {
             "outlinewidth": 0,
             "ticks": ""
            },
            "type": "mesh3d"
           }
          ],
          "parcoords": [
           {
            "line": {
             "colorbar": {
              "outlinewidth": 0,
              "ticks": ""
             }
            },
            "type": "parcoords"
           }
          ],
          "pie": [
           {
            "automargin": true,
            "type": "pie"
           }
          ],
          "scatter": [
           {
            "fillpattern": {
             "fillmode": "overlay",
             "size": 10,
             "solidity": 0.2
            },
            "type": "scatter"
           }
          ],
          "scatter3d": [
           {
            "line": {
             "colorbar": {
              "outlinewidth": 0,
              "ticks": ""
             }
            },
            "marker": {
             "colorbar": {
              "outlinewidth": 0,
              "ticks": ""
             }
            },
            "type": "scatter3d"
           }
          ],
          "scattercarpet": [
           {
            "marker": {
             "colorbar": {
              "outlinewidth": 0,
              "ticks": ""
             }
            },
            "type": "scattercarpet"
           }
          ],
          "scattergeo": [
           {
            "marker": {
             "colorbar": {
              "outlinewidth": 0,
              "ticks": ""
             }
            },
            "type": "scattergeo"
           }
          ],
          "scattergl": [
           {
            "marker": {
             "colorbar": {
              "outlinewidth": 0,
              "ticks": ""
             }
            },
            "type": "scattergl"
           }
          ],
          "scattermapbox": [
           {
            "marker": {
             "colorbar": {
              "outlinewidth": 0,
              "ticks": ""
             }
            },
            "type": "scattermapbox"
           }
          ],
          "scatterpolar": [
           {
            "marker": {
             "colorbar": {
              "outlinewidth": 0,
              "ticks": ""
             }
            },
            "type": "scatterpolar"
           }
          ],
          "scatterpolargl": [
           {
            "marker": {
             "colorbar": {
              "outlinewidth": 0,
              "ticks": ""
             }
            },
            "type": "scatterpolargl"
           }
          ],
          "scatterternary": [
           {
            "marker": {
             "colorbar": {
              "outlinewidth": 0,
              "ticks": ""
             }
            },
            "type": "scatterternary"
           }
          ],
          "surface": [
           {
            "colorbar": {
             "outlinewidth": 0,
             "ticks": ""
            },
            "colorscale": [
             [
              0,
              "#0d0887"
             ],
             [
              0.1111111111111111,
              "#46039f"
             ],
             [
              0.2222222222222222,
              "#7201a8"
             ],
             [
              0.3333333333333333,
              "#9c179e"
             ],
             [
              0.4444444444444444,
              "#bd3786"
             ],
             [
              0.5555555555555556,
              "#d8576b"
             ],
             [
              0.6666666666666666,
              "#ed7953"
             ],
             [
              0.7777777777777778,
              "#fb9f3a"
             ],
             [
              0.8888888888888888,
              "#fdca26"
             ],
             [
              1,
              "#f0f921"
             ]
            ],
            "type": "surface"
           }
          ],
          "table": [
           {
            "cells": {
             "fill": {
              "color": "#EBF0F8"
             },
             "line": {
              "color": "white"
             }
            },
            "header": {
             "fill": {
              "color": "#C8D4E3"
             },
             "line": {
              "color": "white"
             }
            },
            "type": "table"
           }
          ]
         },
         "layout": {
          "annotationdefaults": {
           "arrowcolor": "#2a3f5f",
           "arrowhead": 0,
           "arrowwidth": 1
          },
          "autotypenumbers": "strict",
          "coloraxis": {
           "colorbar": {
            "outlinewidth": 0,
            "ticks": ""
           }
          },
          "colorscale": {
           "diverging": [
            [
             0,
             "#8e0152"
            ],
            [
             0.1,
             "#c51b7d"
            ],
            [
             0.2,
             "#de77ae"
            ],
            [
             0.3,
             "#f1b6da"
            ],
            [
             0.4,
             "#fde0ef"
            ],
            [
             0.5,
             "#f7f7f7"
            ],
            [
             0.6,
             "#e6f5d0"
            ],
            [
             0.7,
             "#b8e186"
            ],
            [
             0.8,
             "#7fbc41"
            ],
            [
             0.9,
             "#4d9221"
            ],
            [
             1,
             "#276419"
            ]
           ],
           "sequential": [
            [
             0,
             "#0d0887"
            ],
            [
             0.1111111111111111,
             "#46039f"
            ],
            [
             0.2222222222222222,
             "#7201a8"
            ],
            [
             0.3333333333333333,
             "#9c179e"
            ],
            [
             0.4444444444444444,
             "#bd3786"
            ],
            [
             0.5555555555555556,
             "#d8576b"
            ],
            [
             0.6666666666666666,
             "#ed7953"
            ],
            [
             0.7777777777777778,
             "#fb9f3a"
            ],
            [
             0.8888888888888888,
             "#fdca26"
            ],
            [
             1,
             "#f0f921"
            ]
           ],
           "sequentialminus": [
            [
             0,
             "#0d0887"
            ],
            [
             0.1111111111111111,
             "#46039f"
            ],
            [
             0.2222222222222222,
             "#7201a8"
            ],
            [
             0.3333333333333333,
             "#9c179e"
            ],
            [
             0.4444444444444444,
             "#bd3786"
            ],
            [
             0.5555555555555556,
             "#d8576b"
            ],
            [
             0.6666666666666666,
             "#ed7953"
            ],
            [
             0.7777777777777778,
             "#fb9f3a"
            ],
            [
             0.8888888888888888,
             "#fdca26"
            ],
            [
             1,
             "#f0f921"
            ]
           ]
          },
          "colorway": [
           "#636efa",
           "#EF553B",
           "#00cc96",
           "#ab63fa",
           "#FFA15A",
           "#19d3f3",
           "#FF6692",
           "#B6E880",
           "#FF97FF",
           "#FECB52"
          ],
          "font": {
           "color": "#2a3f5f"
          },
          "geo": {
           "bgcolor": "white",
           "lakecolor": "white",
           "landcolor": "white",
           "showlakes": true,
           "showland": true,
           "subunitcolor": "#C8D4E3"
          },
          "hoverlabel": {
           "align": "left"
          },
          "hovermode": "closest",
          "mapbox": {
           "style": "light"
          },
          "paper_bgcolor": "white",
          "plot_bgcolor": "white",
          "polar": {
           "angularaxis": {
            "gridcolor": "#EBF0F8",
            "linecolor": "#EBF0F8",
            "ticks": ""
           },
           "bgcolor": "white",
           "radialaxis": {
            "gridcolor": "#EBF0F8",
            "linecolor": "#EBF0F8",
            "ticks": ""
           }
          },
          "scene": {
           "xaxis": {
            "backgroundcolor": "white",
            "gridcolor": "#DFE8F3",
            "gridwidth": 2,
            "linecolor": "#EBF0F8",
            "showbackground": true,
            "ticks": "",
            "zerolinecolor": "#EBF0F8"
           },
           "yaxis": {
            "backgroundcolor": "white",
            "gridcolor": "#DFE8F3",
            "gridwidth": 2,
            "linecolor": "#EBF0F8",
            "showbackground": true,
            "ticks": "",
            "zerolinecolor": "#EBF0F8"
           },
           "zaxis": {
            "backgroundcolor": "white",
            "gridcolor": "#DFE8F3",
            "gridwidth": 2,
            "linecolor": "#EBF0F8",
            "showbackground": true,
            "ticks": "",
            "zerolinecolor": "#EBF0F8"
           }
          },
          "shapedefaults": {
           "line": {
            "color": "#2a3f5f"
           }
          },
          "ternary": {
           "aaxis": {
            "gridcolor": "#DFE8F3",
            "linecolor": "#A2B1C6",
            "ticks": ""
           },
           "baxis": {
            "gridcolor": "#DFE8F3",
            "linecolor": "#A2B1C6",
            "ticks": ""
           },
           "bgcolor": "white",
           "caxis": {
            "gridcolor": "#DFE8F3",
            "linecolor": "#A2B1C6",
            "ticks": ""
           }
          },
          "title": {
           "x": 0.05
          },
          "xaxis": {
           "automargin": true,
           "gridcolor": "#EBF0F8",
           "linecolor": "#EBF0F8",
           "ticks": "",
           "title": {
            "standoff": 15
           },
           "zerolinecolor": "#EBF0F8",
           "zerolinewidth": 2
          },
          "yaxis": {
           "automargin": true,
           "gridcolor": "#EBF0F8",
           "linecolor": "#EBF0F8",
           "ticks": "",
           "title": {
            "standoff": 15
           },
           "zerolinecolor": "#EBF0F8",
           "zerolinewidth": 2
          }
         }
        },
        "title": {
         "text": "sMW vs distracted(43,48"
        },
        "width": 1600,
        "xaxis": {
         "anchor": "y",
         "domain": [
          0,
          0.31999999999999995
         ],
         "title": {
          "text": "sMW>distracted                  sMW<distracted"
         }
        },
        "xaxis2": {
         "anchor": "y2",
         "domain": [
          0.33999999999999997,
          0.6599999999999999
         ],
         "matches": "x",
         "title": {
          "text": "sMW>distracted                  sMW<distracted"
         }
        },
        "xaxis3": {
         "anchor": "y3",
         "domain": [
          0.6799999999999999,
          0.9999999999999999
         ],
         "matches": "x",
         "title": {
          "text": "sMW>distracted                  sMW<distracted"
         }
        },
        "yaxis": {
         "anchor": "x",
         "domain": [
          0,
          1
         ],
         "showticklabels": true,
         "tickmode": "linear",
         "title": {
          "text": "markers"
         }
        },
        "yaxis2": {
         "anchor": "x2",
         "domain": [
          0,
          1
         ],
         "matches": "y",
         "showticklabels": false
        },
        "yaxis3": {
         "anchor": "x3",
         "domain": [
          0,
          1
         ],
         "matches": "y",
         "showticklabels": false
        }
       }
      },
      "text/html": [
       "<div>                            <div id=\"88f6a0f4-dc90-4241-b4a5-e17b253a23d6\" class=\"plotly-graph-div\" style=\"height:800px; width:1600px;\"></div>            <script type=\"text/javascript\">                require([\"plotly\"], function(Plotly) {                    window.PLOTLYENV=window.PLOTLYENV || {};                                    if (document.getElementById(\"88f6a0f4-dc90-4241-b4a5-e17b253a23d6\")) {                    Plotly.newPlot(                        \"88f6a0f4-dc90-4241-b4a5-e17b253a23d6\",                        [{\"hovertemplate\":\"balance=unbalance<br>significant=p > 0.05<br>sMW>distracted                  sMW<distracted=%{x}<br>markers=%{y}<extra></extra>\",\"legendgroup\":\"unbalance, p > 0.05\",\"marker\":{\"color\":\"#DE237B\",\"symbol\":\"circle-open\",\"size\":8},\"mode\":\"markers\",\"name\":\"unbalance, p > 0.05\",\"orientation\":\"h\",\"showlegend\":true,\"x\":[0.3808139534883721,0.41182170542635654,0.41424418604651164,0.4171511627906977,0.4190891472868217,0.41908914728682173,0.42005813953488375,0.4215116279069767,0.4249031007751938,0.4253875968992248,0.4331395348837209,0.43992248062015504,0.4428294573643411,0.45518410852713176,0.45687984496124023,0.4578488372093023,0.46317829457364335,0.4641472868217055,0.4646317829457364,0.46656976744186046,0.4733527131782945,0.47916666666666663,0.48062015503875966,0.48643410852713176,0.48740310077519383,0.49273255813953487,0.49515503875969,0.4956395348837209,0.49612403100775193,0.498546511627907,0.5048449612403101,0.5058139534883721,0.509205426356589,0.5116279069767442,0.5184108527131783,0.5184108527131783,0.5188953488372093,0.5193798449612403,0.5310077519379846,0.5377906976744186,0.5392441860465117,0.5397286821705426,0.5397286821705426,0.5416666666666666,0.5431201550387597,0.5494186046511628,0.5532945736434108,0.5542635658914729,0.5678294573643411,0.5687984496124031,0.5818798449612403,0.5818798449612403,0.5852713178294574,0.5915697674418604],\"xaxis\":\"x\",\"y\":[\"$PE\\\\theta_{mean}$\",\"$|\\\\gamma|_{mean}$\",\"$PE\\\\alpha_{std}$\",\"$|\\\\alpha|_{mean}$\",\"$SEF90_{mean}$\",\"$MSF_{mean}$\",\"$\\\\alpha_{std}$\",\"$\\\\theta_{std}$\",\"$SE_{mean}$\",\"$SEF95_{mean}$\",\"$P1_{std}$\",\"$|\\\\theta|_{std}$\",\"$\\\\beta_{std}$\",\"$K_{mean}$\",\"$\\\\alpha_{mean}$\",\"$PE\\\\beta_{std}$\",\"$wSMI\\\\theta_{mean}$\",\"$SEF95_{std}$\",\"$\\\\gamma_{mean}$\",\"$|\\\\alpha|_{std}$\",\"$SEF90_{std}$\",\"$\\\\gamma_{std}$\",\"$|\\\\beta|_{mean}$\",\"$\\\\delta_{std}$\",\"$wSMI\\\\alpha_{std}$\",\"$wSMI\\\\beta_{mean}$\",\"$|\\\\gamma|_{std}$\",\"$\\\\beta_{mean}$\",\"$P3b_{std}$\",\"$PE\\\\beta_{mean}$\",\"$K_{std}$\",\"$PE\\\\gamma_{std}$\",\"$PE\\\\alpha_{mean}$\",\"$wSMI\\\\beta_{std}$\",\"$wSMI\\\\theta_{std}$\",\"$\\\\theta_{mean}$\",\"$wSMI\\\\alpha_{mean}$\",\"$|\\\\beta|_{std}$\",\"$CNV_{mean}$\",\"$P3a_{std}$\",\"$\\\\delta_{mean}$\",\"$SE_{std}$\",\"$P3b_{mean}$\",\"$P3a_{mean}$\",\"$|\\\\theta|_{mean}$\",\"$PE\\\\gamma_{mean}$\",\"$|\\\\delta|_{std}$\",\"$wSMI\\\\gamma_{std}$\",\"$P1_{mean}$\",\"$CNV_{std}$\",\"$PE\\\\theta_{std}$\",\"$wSMI\\\\gamma_{mean}$\",\"$MSF_{std}$\",\"$|\\\\delta|_{mean}$\"],\"yaxis\":\"y\",\"type\":\"scatter\"},{\"hovertemplate\":\"balance=under-sample<br>significant=p > 0.05<br>sMW>distracted                  sMW<distracted=%{x}<br>markers=%{y}<extra></extra>\",\"legendgroup\":\"under-sample, p > 0.05\",\"marker\":{\"color\":\"#9AC529\",\"symbol\":\"circle-open\",\"size\":8},\"mode\":\"markers\",\"name\":\"under-sample, p > 0.05\",\"orientation\":\"h\",\"showlegend\":true,\"x\":[0.40616549486208764,0.4164413196322336,0.42563547863710116,0.4288804759329367,0.4310438074634937,0.43266630611141155,0.4337479718766901,0.4342888047593294,0.43915630070308276,0.4418604651162791,0.4445646295294754,0.4532179556517037,0.4597079502433748,0.46511627906976744,0.4651162790697675,0.4656571119524067,0.4710654407787993,0.4721471065440779,0.4721471065440779,0.4726879394267171,0.4786371011357491,0.4824229313142239,0.4856679286100595,0.4856679286100595,0.4916170903190914,0.4937804218496485,0.4964845862628448,0.5013520822065982,0.5013520822065982,0.5062195781503516,0.5113574905354246,0.5137912385073011,0.5143320713899405,0.5191995673336939,0.527312060573283,0.5289345592212006,0.5321795565170362,0.533802055164954,0.5354245538128719,0.5392103839913466,0.5402920497566253,0.5429962141698216,0.5440778799351,0.5446187128177393,0.5478637101135749,0.5511087074094105,0.5532720389399675,0.5554353704705246,0.5592212006489995,0.5630070308274744,0.5667928610059492,0.5759870200108167,0.5943753380205516,0.5976203353163873],\"xaxis\":\"x2\",\"y\":[\"$PE\\\\theta_{mean}$\",\"$PE\\\\alpha_{std}$\",\"$|\\\\gamma|_{mean}$\",\"$|\\\\alpha|_{mean}$\",\"$\\\\alpha_{std}$\",\"$|\\\\theta|_{std}$\",\"$SEF90_{mean}$\",\"$\\\\theta_{std}$\",\"$SE_{mean}$\",\"$SEF95_{mean}$\",\"$MSF_{mean}$\",\"$\\\\beta_{std}$\",\"$P1_{std}$\",\"$K_{mean}$\",\"$PE\\\\beta_{std}$\",\"$SEF95_{std}$\",\"$\\\\alpha_{mean}$\",\"$wSMI\\\\alpha_{std}$\",\"$|\\\\alpha|_{std}$\",\"$wSMI\\\\beta_{mean}$\",\"$SEF90_{std}$\",\"$P3b_{std}$\",\"$\\\\gamma_{std}$\",\"$|\\\\beta|_{mean}$\",\"$wSMI\\\\theta_{mean}$\",\"$\\\\gamma_{mean}$\",\"$\\\\delta_{std}$\",\"$PE\\\\beta_{mean}$\",\"$|\\\\gamma|_{std}$\",\"$PE\\\\alpha_{mean}$\",\"$K_{std}$\",\"$\\\\beta_{mean}$\",\"$PE\\\\gamma_{std}$\",\"$|\\\\theta|_{mean}$\",\"$\\\\theta_{mean}$\",\"$wSMI\\\\theta_{std}$\",\"$|\\\\beta|_{std}$\",\"$wSMI\\\\alpha_{mean}$\",\"$P3a_{mean}$\",\"$P3b_{mean}$\",\"$\\\\delta_{mean}$\",\"$P3a_{std}$\",\"$CNV_{std}$\",\"$wSMI\\\\beta_{std}$\",\"$SE_{std}$\",\"$|\\\\delta|_{std}$\",\"$PE\\\\gamma_{mean}$\",\"$CNV_{mean}$\",\"$wSMI\\\\gamma_{std}$\",\"$P1_{mean}$\",\"$|\\\\delta|_{mean}$\",\"$wSMI\\\\gamma_{mean}$\",\"$MSF_{std}$\",\"$PE\\\\theta_{std}$\"],\"yaxis\":\"y2\",\"type\":\"scatter\"},{\"hovertemplate\":\"balance=over-sample<br>significant=p > 0.05<br>sMW>distracted                  sMW<distracted=%{x}<br>markers=%{y}<extra></extra>\",\"legendgroup\":\"over-sample, p > 0.05\",\"marker\":{\"color\":\"#F38A31\",\"symbol\":\"circle-open\",\"size\":8},\"mode\":\"markers\",\"name\":\"over-sample, p > 0.05\",\"orientation\":\"h\",\"showlegend\":true,\"x\":[0.38411458333333337,0.4014756944444444,0.4053819444444444,0.4075520833333333,0.4110243055555555,0.4110243055555556,0.4118923611111111,0.4166666666666667,0.41970486111111116,0.42621527777777773,0.43619791666666663,0.4396701388888889,0.4422743055555555,0.4466145833333333,0.4561631944444445,0.4578993055555556,0.4583333333333333,0.46440972222222215,0.46614583333333337,0.4678819444444444,0.4678819444444445,0.47048611111111116,0.47439236111111105,0.4774305555555556,0.48003472222222227,0.484375,0.4856770833333333,0.4874131944444444,0.4887152777777778,0.4898003472222222,0.4908854166666667,0.49218750000000006,0.5034722222222222,0.51171875,0.5243055555555556,0.5282118055555556,0.5325520833333333,0.5334201388888888,0.5338541666666666,0.5347222222222221,0.53515625,0.5403645833333333,0.5412326388888888,0.5460069444444445,0.5464409722222222,0.546875,0.5542534722222222,0.5607638888888888,0.5651041666666666,0.572048611111111,0.5733506944444445,0.5798611111111112,0.5954861111111112,0.5967881944444444],\"xaxis\":\"x3\",\"y\":[\"$PE\\\\theta_{mean}$\",\"$|\\\\gamma|_{mean}$\",\"$SEF90_{mean}$\",\"$SE_{mean}$\",\"$PE\\\\alpha_{std}$\",\"$MSF_{mean}$\",\"$SEF95_{mean}$\",\"$\\\\alpha_{std}$\",\"$\\\\theta_{std}$\",\"$|\\\\alpha|_{mean}$\",\"$P1_{std}$\",\"$|\\\\theta|_{std}$\",\"$\\\\beta_{std}$\",\"$K_{mean}$\",\"$|\\\\beta|_{mean}$\",\"$\\\\gamma_{mean}$\",\"$PE\\\\beta_{std}$\",\"$SEF95_{std}$\",\"$SEF90_{std}$\",\"$wSMI\\\\alpha_{std}$\",\"$\\\\alpha_{mean}$\",\"$\\\\gamma_{std}$\",\"$|\\\\alpha|_{std}$\",\"$|\\\\gamma|_{std}$\",\"$\\\\delta_{std}$\",\"$PE\\\\beta_{mean}$\",\"$PE\\\\alpha_{mean}$\",\"$wSMI\\\\theta_{mean}$\",\"$P3b_{std}$\",\"$K_{std}$\",\"$\\\\beta_{mean}$\",\"$wSMI\\\\beta_{std}$\",\"$wSMI\\\\beta_{mean}$\",\"$PE\\\\gamma_{std}$\",\"$wSMI\\\\theta_{std}$\",\"$P3a_{std}$\",\"$wSMI\\\\alpha_{mean}$\",\"$CNV_{mean}$\",\"$|\\\\beta|_{std}$\",\"$P3a_{mean}$\",\"$\\\\theta_{mean}$\",\"$SE_{std}$\",\"$P3b_{mean}$\",\"$PE\\\\gamma_{mean}$\",\"$wSMI\\\\gamma_{std}$\",\"$\\\\delta_{mean}$\",\"$CNV_{std}$\",\"$|\\\\theta|_{mean}$\",\"$|\\\\delta|_{std}$\",\"$P1_{mean}$\",\"$wSMI\\\\gamma_{mean}$\",\"$MSF_{std}$\",\"$PE\\\\theta_{std}$\",\"$|\\\\delta|_{mean}$\"],\"yaxis\":\"y3\",\"type\":\"scatter\"}],                        {\"template\":{\"data\":{\"barpolar\":[{\"marker\":{\"line\":{\"color\":\"white\",\"width\":0.5},\"pattern\":{\"fillmode\":\"overlay\",\"size\":10,\"solidity\":0.2}},\"type\":\"barpolar\"}],\"bar\":[{\"error_x\":{\"color\":\"#2a3f5f\"},\"error_y\":{\"color\":\"#2a3f5f\"},\"marker\":{\"line\":{\"color\":\"white\",\"width\":0.5},\"pattern\":{\"fillmode\":\"overlay\",\"size\":10,\"solidity\":0.2}},\"type\":\"bar\"}],\"carpet\":[{\"aaxis\":{\"endlinecolor\":\"#2a3f5f\",\"gridcolor\":\"#C8D4E3\",\"linecolor\":\"#C8D4E3\",\"minorgridcolor\":\"#C8D4E3\",\"startlinecolor\":\"#2a3f5f\"},\"baxis\":{\"endlinecolor\":\"#2a3f5f\",\"gridcolor\":\"#C8D4E3\",\"linecolor\":\"#C8D4E3\",\"minorgridcolor\":\"#C8D4E3\",\"startlinecolor\":\"#2a3f5f\"},\"type\":\"carpet\"}],\"choropleth\":[{\"colorbar\":{\"outlinewidth\":0,\"ticks\":\"\"},\"type\":\"choropleth\"}],\"contourcarpet\":[{\"colorbar\":{\"outlinewidth\":0,\"ticks\":\"\"},\"type\":\"contourcarpet\"}],\"contour\":[{\"colorbar\":{\"outlinewidth\":0,\"ticks\":\"\"},\"colorscale\":[[0.0,\"#0d0887\"],[0.1111111111111111,\"#46039f\"],[0.2222222222222222,\"#7201a8\"],[0.3333333333333333,\"#9c179e\"],[0.4444444444444444,\"#bd3786\"],[0.5555555555555556,\"#d8576b\"],[0.6666666666666666,\"#ed7953\"],[0.7777777777777778,\"#fb9f3a\"],[0.8888888888888888,\"#fdca26\"],[1.0,\"#f0f921\"]],\"type\":\"contour\"}],\"heatmapgl\":[{\"colorbar\":{\"outlinewidth\":0,\"ticks\":\"\"},\"colorscale\":[[0.0,\"#0d0887\"],[0.1111111111111111,\"#46039f\"],[0.2222222222222222,\"#7201a8\"],[0.3333333333333333,\"#9c179e\"],[0.4444444444444444,\"#bd3786\"],[0.5555555555555556,\"#d8576b\"],[0.6666666666666666,\"#ed7953\"],[0.7777777777777778,\"#fb9f3a\"],[0.8888888888888888,\"#fdca26\"],[1.0,\"#f0f921\"]],\"type\":\"heatmapgl\"}],\"heatmap\":[{\"colorbar\":{\"outlinewidth\":0,\"ticks\":\"\"},\"colorscale\":[[0.0,\"#0d0887\"],[0.1111111111111111,\"#46039f\"],[0.2222222222222222,\"#7201a8\"],[0.3333333333333333,\"#9c179e\"],[0.4444444444444444,\"#bd3786\"],[0.5555555555555556,\"#d8576b\"],[0.6666666666666666,\"#ed7953\"],[0.7777777777777778,\"#fb9f3a\"],[0.8888888888888888,\"#fdca26\"],[1.0,\"#f0f921\"]],\"type\":\"heatmap\"}],\"histogram2dcontour\":[{\"colorbar\":{\"outlinewidth\":0,\"ticks\":\"\"},\"colorscale\":[[0.0,\"#0d0887\"],[0.1111111111111111,\"#46039f\"],[0.2222222222222222,\"#7201a8\"],[0.3333333333333333,\"#9c179e\"],[0.4444444444444444,\"#bd3786\"],[0.5555555555555556,\"#d8576b\"],[0.6666666666666666,\"#ed7953\"],[0.7777777777777778,\"#fb9f3a\"],[0.8888888888888888,\"#fdca26\"],[1.0,\"#f0f921\"]],\"type\":\"histogram2dcontour\"}],\"histogram2d\":[{\"colorbar\":{\"outlinewidth\":0,\"ticks\":\"\"},\"colorscale\":[[0.0,\"#0d0887\"],[0.1111111111111111,\"#46039f\"],[0.2222222222222222,\"#7201a8\"],[0.3333333333333333,\"#9c179e\"],[0.4444444444444444,\"#bd3786\"],[0.5555555555555556,\"#d8576b\"],[0.6666666666666666,\"#ed7953\"],[0.7777777777777778,\"#fb9f3a\"],[0.8888888888888888,\"#fdca26\"],[1.0,\"#f0f921\"]],\"type\":\"histogram2d\"}],\"histogram\":[{\"marker\":{\"pattern\":{\"fillmode\":\"overlay\",\"size\":10,\"solidity\":0.2}},\"type\":\"histogram\"}],\"mesh3d\":[{\"colorbar\":{\"outlinewidth\":0,\"ticks\":\"\"},\"type\":\"mesh3d\"}],\"parcoords\":[{\"line\":{\"colorbar\":{\"outlinewidth\":0,\"ticks\":\"\"}},\"type\":\"parcoords\"}],\"pie\":[{\"automargin\":true,\"type\":\"pie\"}],\"scatter3d\":[{\"line\":{\"colorbar\":{\"outlinewidth\":0,\"ticks\":\"\"}},\"marker\":{\"colorbar\":{\"outlinewidth\":0,\"ticks\":\"\"}},\"type\":\"scatter3d\"}],\"scattercarpet\":[{\"marker\":{\"colorbar\":{\"outlinewidth\":0,\"ticks\":\"\"}},\"type\":\"scattercarpet\"}],\"scattergeo\":[{\"marker\":{\"colorbar\":{\"outlinewidth\":0,\"ticks\":\"\"}},\"type\":\"scattergeo\"}],\"scattergl\":[{\"marker\":{\"colorbar\":{\"outlinewidth\":0,\"ticks\":\"\"}},\"type\":\"scattergl\"}],\"scattermapbox\":[{\"marker\":{\"colorbar\":{\"outlinewidth\":0,\"ticks\":\"\"}},\"type\":\"scattermapbox\"}],\"scatterpolargl\":[{\"marker\":{\"colorbar\":{\"outlinewidth\":0,\"ticks\":\"\"}},\"type\":\"scatterpolargl\"}],\"scatterpolar\":[{\"marker\":{\"colorbar\":{\"outlinewidth\":0,\"ticks\":\"\"}},\"type\":\"scatterpolar\"}],\"scatter\":[{\"fillpattern\":{\"fillmode\":\"overlay\",\"size\":10,\"solidity\":0.2},\"type\":\"scatter\"}],\"scatterternary\":[{\"marker\":{\"colorbar\":{\"outlinewidth\":0,\"ticks\":\"\"}},\"type\":\"scatterternary\"}],\"surface\":[{\"colorbar\":{\"outlinewidth\":0,\"ticks\":\"\"},\"colorscale\":[[0.0,\"#0d0887\"],[0.1111111111111111,\"#46039f\"],[0.2222222222222222,\"#7201a8\"],[0.3333333333333333,\"#9c179e\"],[0.4444444444444444,\"#bd3786\"],[0.5555555555555556,\"#d8576b\"],[0.6666666666666666,\"#ed7953\"],[0.7777777777777778,\"#fb9f3a\"],[0.8888888888888888,\"#fdca26\"],[1.0,\"#f0f921\"]],\"type\":\"surface\"}],\"table\":[{\"cells\":{\"fill\":{\"color\":\"#EBF0F8\"},\"line\":{\"color\":\"white\"}},\"header\":{\"fill\":{\"color\":\"#C8D4E3\"},\"line\":{\"color\":\"white\"}},\"type\":\"table\"}]},\"layout\":{\"annotationdefaults\":{\"arrowcolor\":\"#2a3f5f\",\"arrowhead\":0,\"arrowwidth\":1},\"autotypenumbers\":\"strict\",\"coloraxis\":{\"colorbar\":{\"outlinewidth\":0,\"ticks\":\"\"}},\"colorscale\":{\"diverging\":[[0,\"#8e0152\"],[0.1,\"#c51b7d\"],[0.2,\"#de77ae\"],[0.3,\"#f1b6da\"],[0.4,\"#fde0ef\"],[0.5,\"#f7f7f7\"],[0.6,\"#e6f5d0\"],[0.7,\"#b8e186\"],[0.8,\"#7fbc41\"],[0.9,\"#4d9221\"],[1,\"#276419\"]],\"sequential\":[[0.0,\"#0d0887\"],[0.1111111111111111,\"#46039f\"],[0.2222222222222222,\"#7201a8\"],[0.3333333333333333,\"#9c179e\"],[0.4444444444444444,\"#bd3786\"],[0.5555555555555556,\"#d8576b\"],[0.6666666666666666,\"#ed7953\"],[0.7777777777777778,\"#fb9f3a\"],[0.8888888888888888,\"#fdca26\"],[1.0,\"#f0f921\"]],\"sequentialminus\":[[0.0,\"#0d0887\"],[0.1111111111111111,\"#46039f\"],[0.2222222222222222,\"#7201a8\"],[0.3333333333333333,\"#9c179e\"],[0.4444444444444444,\"#bd3786\"],[0.5555555555555556,\"#d8576b\"],[0.6666666666666666,\"#ed7953\"],[0.7777777777777778,\"#fb9f3a\"],[0.8888888888888888,\"#fdca26\"],[1.0,\"#f0f921\"]]},\"colorway\":[\"#636efa\",\"#EF553B\",\"#00cc96\",\"#ab63fa\",\"#FFA15A\",\"#19d3f3\",\"#FF6692\",\"#B6E880\",\"#FF97FF\",\"#FECB52\"],\"font\":{\"color\":\"#2a3f5f\"},\"geo\":{\"bgcolor\":\"white\",\"lakecolor\":\"white\",\"landcolor\":\"white\",\"showlakes\":true,\"showland\":true,\"subunitcolor\":\"#C8D4E3\"},\"hoverlabel\":{\"align\":\"left\"},\"hovermode\":\"closest\",\"mapbox\":{\"style\":\"light\"},\"paper_bgcolor\":\"white\",\"plot_bgcolor\":\"white\",\"polar\":{\"angularaxis\":{\"gridcolor\":\"#EBF0F8\",\"linecolor\":\"#EBF0F8\",\"ticks\":\"\"},\"bgcolor\":\"white\",\"radialaxis\":{\"gridcolor\":\"#EBF0F8\",\"linecolor\":\"#EBF0F8\",\"ticks\":\"\"}},\"scene\":{\"xaxis\":{\"backgroundcolor\":\"white\",\"gridcolor\":\"#DFE8F3\",\"gridwidth\":2,\"linecolor\":\"#EBF0F8\",\"showbackground\":true,\"ticks\":\"\",\"zerolinecolor\":\"#EBF0F8\"},\"yaxis\":{\"backgroundcolor\":\"white\",\"gridcolor\":\"#DFE8F3\",\"gridwidth\":2,\"linecolor\":\"#EBF0F8\",\"showbackground\":true,\"ticks\":\"\",\"zerolinecolor\":\"#EBF0F8\"},\"zaxis\":{\"backgroundcolor\":\"white\",\"gridcolor\":\"#DFE8F3\",\"gridwidth\":2,\"linecolor\":\"#EBF0F8\",\"showbackground\":true,\"ticks\":\"\",\"zerolinecolor\":\"#EBF0F8\"}},\"shapedefaults\":{\"line\":{\"color\":\"#2a3f5f\"}},\"ternary\":{\"aaxis\":{\"gridcolor\":\"#DFE8F3\",\"linecolor\":\"#A2B1C6\",\"ticks\":\"\"},\"baxis\":{\"gridcolor\":\"#DFE8F3\",\"linecolor\":\"#A2B1C6\",\"ticks\":\"\"},\"bgcolor\":\"white\",\"caxis\":{\"gridcolor\":\"#DFE8F3\",\"linecolor\":\"#A2B1C6\",\"ticks\":\"\"}},\"title\":{\"x\":0.05},\"xaxis\":{\"automargin\":true,\"gridcolor\":\"#EBF0F8\",\"linecolor\":\"#EBF0F8\",\"ticks\":\"\",\"title\":{\"standoff\":15},\"zerolinecolor\":\"#EBF0F8\",\"zerolinewidth\":2},\"yaxis\":{\"automargin\":true,\"gridcolor\":\"#EBF0F8\",\"linecolor\":\"#EBF0F8\",\"ticks\":\"\",\"title\":{\"standoff\":15},\"zerolinecolor\":\"#EBF0F8\",\"zerolinewidth\":2}}},\"xaxis\":{\"anchor\":\"y\",\"domain\":[0.0,0.31999999999999995],\"title\":{\"text\":\"sMW>distracted                  sMW<distracted\"}},\"yaxis\":{\"anchor\":\"x\",\"domain\":[0.0,1.0],\"title\":{\"text\":\"markers\"},\"showticklabels\":true,\"tickmode\":\"linear\"},\"xaxis2\":{\"anchor\":\"y2\",\"domain\":[0.33999999999999997,0.6599999999999999],\"matches\":\"x\",\"title\":{\"text\":\"sMW>distracted                  sMW<distracted\"}},\"yaxis2\":{\"anchor\":\"x2\",\"domain\":[0.0,1.0],\"matches\":\"y\",\"showticklabels\":false},\"xaxis3\":{\"anchor\":\"y3\",\"domain\":[0.6799999999999999,0.9999999999999999],\"matches\":\"x\",\"title\":{\"text\":\"sMW>distracted                  sMW<distracted\"}},\"yaxis3\":{\"anchor\":\"x3\",\"domain\":[0.0,1.0],\"matches\":\"y\",\"showticklabels\":false},\"annotations\":[{\"showarrow\":false,\"text\":\"balance=unbalance\",\"x\":0.15999999999999998,\"xanchor\":\"center\",\"xref\":\"paper\",\"y\":1.0,\"yanchor\":\"bottom\",\"yref\":\"paper\"},{\"showarrow\":false,\"text\":\"balance=under-sample\",\"x\":0.49999999999999994,\"xanchor\":\"center\",\"xref\":\"paper\",\"y\":1.0,\"yanchor\":\"bottom\",\"yref\":\"paper\"},{\"showarrow\":false,\"text\":\"balance=over-sample\",\"x\":0.8399999999999999,\"xanchor\":\"center\",\"xref\":\"paper\",\"y\":1.0,\"yanchor\":\"bottom\",\"yref\":\"paper\"}],\"legend\":{\"title\":{\"text\":\"balance, significant\"},\"tracegroupgap\":0},\"margin\":{\"t\":60},\"shapes\":[{\"line\":{\"color\":\"black\",\"dash\":\"dash\",\"width\":3},\"type\":\"line\",\"x0\":0.5,\"x1\":0.5,\"xref\":\"x\",\"y0\":0,\"y1\":1,\"yref\":\"y domain\"},{\"line\":{\"color\":\"black\",\"dash\":\"dash\",\"width\":3},\"type\":\"line\",\"x0\":0.5,\"x1\":0.5,\"xref\":\"x2\",\"y0\":0,\"y1\":1,\"yref\":\"y2 domain\"},{\"line\":{\"color\":\"black\",\"dash\":\"dash\",\"width\":3},\"type\":\"line\",\"x0\":0.5,\"x1\":0.5,\"xref\":\"x3\",\"y0\":0,\"y1\":1,\"yref\":\"y3 domain\"}],\"title\":{\"text\":\"sMW vs distracted(43,48\"},\"autosize\":true,\"width\":1600,\"height\":800},                        {\"responsive\": true}                    ).then(function(){\n",
       "                            \n",
       "var gd = document.getElementById('88f6a0f4-dc90-4241-b4a5-e17b253a23d6');\n",
       "var x = new MutationObserver(function (mutations, observer) {{\n",
       "        var display = window.getComputedStyle(gd).display;\n",
       "        if (!display || display === 'none') {{\n",
       "            console.log([gd, 'removed!']);\n",
       "            Plotly.purge(gd);\n",
       "            observer.disconnect();\n",
       "        }}\n",
       "}});\n",
       "\n",
       "// Listen for the removal of the full notebook cells\n",
       "var notebookContainer = gd.closest('#notebook-container');\n",
       "if (notebookContainer) {{\n",
       "    x.observe(notebookContainer, {childList: true});\n",
       "}}\n",
       "\n",
       "// Listen for the clearing of the current output cell\n",
       "var outputEl = gd.closest('.output');\n",
       "if (outputEl) {{\n",
       "    x.observe(outputEl, {childList: true});\n",
       "}}\n",
       "\n",
       "                        })                };                });            </script>        </div>"
      ]
     },
     "metadata": {},
     "output_type": "display_data"
    },
    {
     "data": {
      "application/vnd.plotly.v1+json": {
       "config": {
        "plotlyServerURL": "https://plot.ly"
       },
       "data": [
        {
         "hovertemplate": "balance=unbalance<br>significant=p > 0.05<br>sMW>dMW                  sMW<dMW=%{x}<br>markers=%{y}<extra></extra>",
         "legendgroup": "unbalance, p > 0.05",
         "marker": {
          "color": "#DE237B",
          "size": 8,
          "symbol": "circle-open"
         },
         "mode": "markers",
         "name": "unbalance, p > 0.05",
         "orientation": "h",
         "showlegend": true,
         "type": "scatter",
         "x": [
          0.385211687537269,
          0.39057841383422776,
          0.39177101967799643,
          0.39296362552176506,
          0.3947525342874181,
          0.4102564102564103,
          0.41264162194394755,
          0.4245676803816339,
          0.4269528920691711,
          0.43053070960047707,
          0.4353011329755516,
          0.4376863446630888,
          0.4406678592725104,
          0.4418604651162791,
          0.45915324985092426,
          0.46213476446034585,
          0.46243291592128805,
          0.46332737030411447,
          0.4686940966010733,
          0.469886702444842,
          0.4722719141323793,
          0.4746571258199165,
          0.47584973166368516,
          0.4788312462731067,
          0.4871794871794871,
          0.4901610017889087,
          0.4919499105545617,
          0.4949314251639833,
          0.5032796660703637,
          0.5032796660703638,
          0.5044722719141324,
          0.505664877757901,
          0.5062611806797853,
          0.5134168157423971,
          0.5134168157423972,
          0.5146094215861657,
          0.5175909361955873,
          0.518783542039356,
          0.5187835420393561,
          0.5199761478831246,
          0.5199761478831246,
          0.5205724508050089,
          0.5217650566487776,
          0.5324985092426954,
          0.5348837209302325,
          0.5462134764460347,
          0.5521765056648777,
          0.5593321407274895,
          0.5688729874776386,
          0.5766249254621347,
          0.5879546809779368,
          0.5963029218843172,
          0.6016696481812761,
          0.6207513416815742
         ],
         "xaxis": "x",
         "y": [
          "$PE\\gamma_{std}$",
          "$PE\\beta_{std}$",
          "$|\\alpha|_{mean}$",
          "$\\alpha_{std}$",
          "$PE\\theta_{mean}$",
          "$MSF_{mean}$",
          "$|\\gamma|_{mean}$",
          "$K_{std}$",
          "$CNV_{mean}$",
          "$\\theta_{std}$",
          "$|\\alpha|_{std}$",
          "$SEF95_{mean}$",
          "$wSMI\\theta_{mean}$",
          "$SEF90_{mean}$",
          "$|\\theta|_{std}$",
          "$P3b_{mean}$",
          "$K_{mean}$",
          "$SE_{mean}$",
          "$\\gamma_{mean}$",
          "$\\alpha_{mean}$",
          "$wSMI\\alpha_{mean}$",
          "$PE\\gamma_{mean}$",
          "$SEF90_{std}$",
          "$SEF95_{std}$",
          "$wSMI\\alpha_{std}$",
          "$P1_{std}$",
          "$\\beta_{std}$",
          "$PE\\beta_{mean}$",
          "$PE\\theta_{std}$",
          "$\\gamma_{std}$",
          "$wSMI\\theta_{std}$",
          "$|\\gamma|_{std}$",
          "$P3b_{std}$",
          "$P3a_{mean}$",
          "$wSMI\\beta_{mean}$",
          "$PE\\alpha_{std}$",
          "$|\\beta|_{mean}$",
          "$wSMI\\gamma_{mean}$",
          "$P1_{mean}$",
          "$PE\\alpha_{mean}$",
          "$\\beta_{mean}$",
          "$\\delta_{mean}$",
          "$|\\beta|_{std}$",
          "$|\\delta|_{std}$",
          "$P3a_{std}$",
          "$\\delta_{std}$",
          "$MSF_{std}$",
          "$wSMI\\gamma_{std}$",
          "$\\theta_{mean}$",
          "$SE_{std}$",
          "$|\\delta|_{mean}$",
          "$|\\theta|_{mean}$",
          "$wSMI\\beta_{std}$",
          "$CNV_{std}$"
         ],
         "yaxis": "y"
        },
        {
         "hovertemplate": "balance=under-sample<br>significant=p > 0.05<br>sMW>dMW                  sMW<dMW=%{x}<br>markers=%{y}<extra></extra>",
         "legendgroup": "under-sample, p > 0.05",
         "marker": {
          "color": "#9AC529",
          "size": 8,
          "symbol": "circle-open"
         },
         "mode": "markers",
         "name": "under-sample, p > 0.05",
         "orientation": "h",
         "showlegend": true,
         "type": "scatter",
         "x": [
          0.391190006574622,
          0.3977646285338593,
          0.3984220907297831,
          0.4003944773175543,
          0.4049967126890204,
          0.40565417488494415,
          0.40565417488494415,
          0.40762656147271537,
          0.41880341880341876,
          0.42472057856673245,
          0.4293228139381986,
          0.4293228139381986,
          0.4444444444444444,
          0.4477317554240631,
          0.4536489151873767,
          0.4549638395792242,
          0.4589086127547666,
          0.4608809993425378,
          0.46186719263642345,
          0.472715318869165,
          0.4740302432610125,
          0.4746877054569362,
          0.4792899408284023,
          0.4819197896120973,
          0.4825772518080211,
          0.4917817225509533,
          0.4917817225509533,
          0.49243918474687703,
          0.49309664694280075,
          0.4930966469428008,
          0.4963839579224195,
          0.49704142011834324,
          0.5003287310979618,
          0.5003287310979618,
          0.5121630506245891,
          0.5161078238001315,
          0.5207100591715976,
          0.5213675213675214,
          0.5220249835634451,
          0.5220249835634452,
          0.5253122945430637,
          0.5285996055226825,
          0.5285996055226825,
          0.5325443786982249,
          0.5378040762656147,
          0.539776462853386,
          0.5410913872452334,
          0.5641025641025641,
          0.5654174884944115,
          0.5851413543721236,
          0.5904010519395135,
          0.6074950690335306,
          0.6134122287968442
         ],
         "xaxis": "x2",
         "y": [
          "$PE\\gamma_{std}$",
          "$|\\alpha|_{mean}$",
          "$\\alpha_{std}$",
          "$MSF_{mean}$",
          "$PE\\beta_{std}$",
          "$PE\\theta_{mean}$",
          "$K_{std}$",
          "$|\\gamma|_{mean}$",
          "$\\theta_{std}$",
          "$SEF95_{mean}$",
          "$SEF90_{mean}$",
          "$CNV_{mean}$",
          "$|\\alpha|_{std}$",
          "$SE_{mean}$",
          "$wSMI\\theta_{mean}$",
          "$|\\theta|_{std}$",
          "$P3b_{mean}$",
          "$\\gamma_{mean}$",
          "$K_{mean}$",
          "$wSMI\\alpha_{std}$",
          "$SEF90_{std}$",
          "$PE\\gamma_{mean}$",
          "$\\alpha_{mean}$",
          "$PE\\beta_{mean}$",
          "$SEF95_{std}$",
          "$|\\beta|_{mean}$",
          "$|\\gamma|_{std}$",
          "$|\\beta|_{std}$",
          "$P3b_{std}$",
          "$PE\\theta_{std}$",
          "$wSMI\\alpha_{mean}$",
          "$P1_{std}$",
          "$PE\\alpha_{mean}$",
          "$\\beta_{std}$",
          "$\\beta_{mean}$",
          "$P3a_{mean}$",
          "$\\delta_{mean}$",
          "$wSMI\\theta_{std}$",
          "$wSMI\\gamma_{mean}$",
          "$P3a_{std}$",
          "$P1_{mean}$",
          "$MSF_{std}$",
          "$PE\\alpha_{std}$",
          "$|\\delta|_{std}$",
          "$\\delta_{std}$",
          "$\\gamma_{std}$",
          "$wSMI\\beta_{mean}$",
          "$SE_{std}$",
          "$wSMI\\gamma_{std}$",
          "$|\\delta|_{mean}$",
          "$\\theta_{mean}$",
          "$wSMI\\beta_{std}$",
          "$CNV_{std}$"
         ],
         "yaxis": "y2"
        },
        {
         "hovertemplate": "balance=under-sample<br>significant=p < 0.05 uncorrected<br>sMW>dMW                  sMW<dMW=%{x}<br>markers=%{y}<extra></extra>",
         "legendgroup": "under-sample, p < 0.05 uncorrected",
         "marker": {
          "color": "#9AC529",
          "size": 8,
          "symbol": "circle"
         },
         "mode": "markers",
         "name": "under-sample, p < 0.05 uncorrected",
         "orientation": "h",
         "showlegend": true,
         "type": "scatter",
         "x": [
          0.6298487836949376
         ],
         "xaxis": "x2",
         "y": [
          "$|\\theta|_{mean}$"
         ],
         "yaxis": "y2"
        },
        {
         "hovertemplate": "balance=over-sample<br>significant=p > 0.05<br>sMW>dMW                  sMW<dMW=%{x}<br>markers=%{y}<extra></extra>",
         "legendgroup": "over-sample, p > 0.05",
         "marker": {
          "color": "#F38A31",
          "size": 8,
          "symbol": "circle-open"
         },
         "mode": "markers",
         "name": "over-sample, p > 0.05",
         "orientation": "h",
         "showlegend": true,
         "type": "scatter",
         "x": [
          0.38236884802596,
          0.3829096809085993,
          0.38561384532179555,
          0.3958896700919416,
          0.3964305029745809,
          0.4099513250405624,
          0.41265548945375874,
          0.41535965386695506,
          0.4175229853975122,
          0.41806381828015143,
          0.42671714440237973,
          0.42942130881557594,
          0.43645213628988644,
          0.43915630070308276,
          0.44050838290968086,
          0.44294213088155754,
          0.45105462412114655,
          0.45267712276906436,
          0.45375878853434287,
          0.458085451595457,
          0.4672796106003245,
          0.46944294213088156,
          0.4743104380746349,
          0.47647376960519194,
          0.4851270957274202,
          0.4856679286100595,
          0.486749594375338,
          0.4872904272579772,
          0.4889129259058951,
          0.4889129259058951,
          0.4905354245538128,
          0.4921579232017307,
          0.4921579232017307,
          0.49378042184964843,
          0.4959437533802056,
          0.49810708491076255,
          0.5024337479718767,
          0.5035154137371551,
          0.5045970795024338,
          0.5062195781503516,
          0.5148729042725797,
          0.5186587344510547,
          0.519199567333694,
          0.5213628988642509,
          0.5235262303948082,
          0.5251487290427258,
          0.5348837209302326,
          0.5348837209302326,
          0.5792320173066522,
          0.5835586803677664,
          0.588967009194159,
          0.6041103299080585,
          0.607355327203894,
          0.6116819902650081
         ],
         "xaxis": "x3",
         "y": [
          "$PE\\gamma_{std}$",
          "$|\\gamma|_{mean}$",
          "$\\alpha_{std}$",
          "$PE\\beta_{std}$",
          "$MSF_{mean}$",
          "$SEF95_{mean}$",
          "$SEF90_{mean}$",
          "$PE\\theta_{mean}$",
          "$K_{std}$",
          "$|\\alpha|_{mean}$",
          "$CNV_{mean}$",
          "$\\theta_{std}$",
          "$SE_{mean}$",
          "$|\\alpha|_{std}$",
          "$K_{mean}$",
          "$PE\\gamma_{mean}$",
          "$P3b_{mean}$",
          "$\\gamma_{mean}$",
          "$|\\theta|_{std}$",
          "$wSMI\\theta_{mean}$",
          "$PE\\beta_{mean}$",
          "$SEF95_{std}$",
          "$SEF90_{std}$",
          "$P3a_{mean}$",
          "$\\beta_{std}$",
          "$wSMI\\alpha_{mean}$",
          "$wSMI\\gamma_{mean}$",
          "$P1_{std}$",
          "$wSMI\\alpha_{std}$",
          "$|\\gamma|_{std}$",
          "$\\alpha_{mean}$",
          "$PE\\alpha_{mean}$",
          "$|\\beta|_{mean}$",
          "$wSMI\\theta_{std}$",
          "$P1_{mean}$",
          "$wSMI\\beta_{mean}$",
          "$PE\\theta_{std}$",
          "$P3b_{std}$",
          "$|\\delta|_{std}$",
          "$\\delta_{std}$",
          "$|\\beta|_{std}$",
          "$\\beta_{mean}$",
          "$MSF_{std}$",
          "$\\gamma_{std}$",
          "$PE\\alpha_{std}$",
          "$\\delta_{mean}$",
          "$wSMI\\gamma_{std}$",
          "$P3a_{std}$",
          "$SE_{std}$",
          "$|\\delta|_{mean}$",
          "$\\theta_{mean}$",
          "$|\\theta|_{mean}$",
          "$wSMI\\beta_{std}$",
          "$CNV_{std}$"
         ],
         "yaxis": "y3"
        }
       ],
       "layout": {
        "annotations": [
         {
          "showarrow": false,
          "text": "balance=unbalance",
          "x": 0.15999999999999998,
          "xanchor": "center",
          "xref": "paper",
          "y": 1,
          "yanchor": "bottom",
          "yref": "paper"
         },
         {
          "showarrow": false,
          "text": "balance=under-sample",
          "x": 0.49999999999999994,
          "xanchor": "center",
          "xref": "paper",
          "y": 1,
          "yanchor": "bottom",
          "yref": "paper"
         },
         {
          "showarrow": false,
          "text": "balance=over-sample",
          "x": 0.8399999999999999,
          "xanchor": "center",
          "xref": "paper",
          "y": 1,
          "yanchor": "bottom",
          "yref": "paper"
         }
        ],
        "autosize": true,
        "height": 800,
        "legend": {
         "title": {
          "text": "balance, significant"
         },
         "tracegroupgap": 0
        },
        "margin": {
         "t": 60
        },
        "shapes": [
         {
          "line": {
           "color": "black",
           "dash": "dash",
           "width": 3
          },
          "type": "line",
          "x0": 0.5,
          "x1": 0.5,
          "xref": "x",
          "y0": 0,
          "y1": 1,
          "yref": "y domain"
         },
         {
          "line": {
           "color": "black",
           "dash": "dash",
           "width": 3
          },
          "type": "line",
          "x0": 0.5,
          "x1": 0.5,
          "xref": "x2",
          "y0": 0,
          "y1": 1,
          "yref": "y2 domain"
         },
         {
          "line": {
           "color": "black",
           "dash": "dash",
           "width": 3
          },
          "type": "line",
          "x0": 0.5,
          "x1": 0.5,
          "xref": "x3",
          "y0": 0,
          "y1": 1,
          "yref": "y3 domain"
         }
        ],
        "template": {
         "data": {
          "bar": [
           {
            "error_x": {
             "color": "#2a3f5f"
            },
            "error_y": {
             "color": "#2a3f5f"
            },
            "marker": {
             "line": {
              "color": "white",
              "width": 0.5
             },
             "pattern": {
              "fillmode": "overlay",
              "size": 10,
              "solidity": 0.2
             }
            },
            "type": "bar"
           }
          ],
          "barpolar": [
           {
            "marker": {
             "line": {
              "color": "white",
              "width": 0.5
             },
             "pattern": {
              "fillmode": "overlay",
              "size": 10,
              "solidity": 0.2
             }
            },
            "type": "barpolar"
           }
          ],
          "carpet": [
           {
            "aaxis": {
             "endlinecolor": "#2a3f5f",
             "gridcolor": "#C8D4E3",
             "linecolor": "#C8D4E3",
             "minorgridcolor": "#C8D4E3",
             "startlinecolor": "#2a3f5f"
            },
            "baxis": {
             "endlinecolor": "#2a3f5f",
             "gridcolor": "#C8D4E3",
             "linecolor": "#C8D4E3",
             "minorgridcolor": "#C8D4E3",
             "startlinecolor": "#2a3f5f"
            },
            "type": "carpet"
           }
          ],
          "choropleth": [
           {
            "colorbar": {
             "outlinewidth": 0,
             "ticks": ""
            },
            "type": "choropleth"
           }
          ],
          "contour": [
           {
            "colorbar": {
             "outlinewidth": 0,
             "ticks": ""
            },
            "colorscale": [
             [
              0,
              "#0d0887"
             ],
             [
              0.1111111111111111,
              "#46039f"
             ],
             [
              0.2222222222222222,
              "#7201a8"
             ],
             [
              0.3333333333333333,
              "#9c179e"
             ],
             [
              0.4444444444444444,
              "#bd3786"
             ],
             [
              0.5555555555555556,
              "#d8576b"
             ],
             [
              0.6666666666666666,
              "#ed7953"
             ],
             [
              0.7777777777777778,
              "#fb9f3a"
             ],
             [
              0.8888888888888888,
              "#fdca26"
             ],
             [
              1,
              "#f0f921"
             ]
            ],
            "type": "contour"
           }
          ],
          "contourcarpet": [
           {
            "colorbar": {
             "outlinewidth": 0,
             "ticks": ""
            },
            "type": "contourcarpet"
           }
          ],
          "heatmap": [
           {
            "colorbar": {
             "outlinewidth": 0,
             "ticks": ""
            },
            "colorscale": [
             [
              0,
              "#0d0887"
             ],
             [
              0.1111111111111111,
              "#46039f"
             ],
             [
              0.2222222222222222,
              "#7201a8"
             ],
             [
              0.3333333333333333,
              "#9c179e"
             ],
             [
              0.4444444444444444,
              "#bd3786"
             ],
             [
              0.5555555555555556,
              "#d8576b"
             ],
             [
              0.6666666666666666,
              "#ed7953"
             ],
             [
              0.7777777777777778,
              "#fb9f3a"
             ],
             [
              0.8888888888888888,
              "#fdca26"
             ],
             [
              1,
              "#f0f921"
             ]
            ],
            "type": "heatmap"
           }
          ],
          "heatmapgl": [
           {
            "colorbar": {
             "outlinewidth": 0,
             "ticks": ""
            },
            "colorscale": [
             [
              0,
              "#0d0887"
             ],
             [
              0.1111111111111111,
              "#46039f"
             ],
             [
              0.2222222222222222,
              "#7201a8"
             ],
             [
              0.3333333333333333,
              "#9c179e"
             ],
             [
              0.4444444444444444,
              "#bd3786"
             ],
             [
              0.5555555555555556,
              "#d8576b"
             ],
             [
              0.6666666666666666,
              "#ed7953"
             ],
             [
              0.7777777777777778,
              "#fb9f3a"
             ],
             [
              0.8888888888888888,
              "#fdca26"
             ],
             [
              1,
              "#f0f921"
             ]
            ],
            "type": "heatmapgl"
           }
          ],
          "histogram": [
           {
            "marker": {
             "pattern": {
              "fillmode": "overlay",
              "size": 10,
              "solidity": 0.2
             }
            },
            "type": "histogram"
           }
          ],
          "histogram2d": [
           {
            "colorbar": {
             "outlinewidth": 0,
             "ticks": ""
            },
            "colorscale": [
             [
              0,
              "#0d0887"
             ],
             [
              0.1111111111111111,
              "#46039f"
             ],
             [
              0.2222222222222222,
              "#7201a8"
             ],
             [
              0.3333333333333333,
              "#9c179e"
             ],
             [
              0.4444444444444444,
              "#bd3786"
             ],
             [
              0.5555555555555556,
              "#d8576b"
             ],
             [
              0.6666666666666666,
              "#ed7953"
             ],
             [
              0.7777777777777778,
              "#fb9f3a"
             ],
             [
              0.8888888888888888,
              "#fdca26"
             ],
             [
              1,
              "#f0f921"
             ]
            ],
            "type": "histogram2d"
           }
          ],
          "histogram2dcontour": [
           {
            "colorbar": {
             "outlinewidth": 0,
             "ticks": ""
            },
            "colorscale": [
             [
              0,
              "#0d0887"
             ],
             [
              0.1111111111111111,
              "#46039f"
             ],
             [
              0.2222222222222222,
              "#7201a8"
             ],
             [
              0.3333333333333333,
              "#9c179e"
             ],
             [
              0.4444444444444444,
              "#bd3786"
             ],
             [
              0.5555555555555556,
              "#d8576b"
             ],
             [
              0.6666666666666666,
              "#ed7953"
             ],
             [
              0.7777777777777778,
              "#fb9f3a"
             ],
             [
              0.8888888888888888,
              "#fdca26"
             ],
             [
              1,
              "#f0f921"
             ]
            ],
            "type": "histogram2dcontour"
           }
          ],
          "mesh3d": [
           {
            "colorbar": {
             "outlinewidth": 0,
             "ticks": ""
            },
            "type": "mesh3d"
           }
          ],
          "parcoords": [
           {
            "line": {
             "colorbar": {
              "outlinewidth": 0,
              "ticks": ""
             }
            },
            "type": "parcoords"
           }
          ],
          "pie": [
           {
            "automargin": true,
            "type": "pie"
           }
          ],
          "scatter": [
           {
            "fillpattern": {
             "fillmode": "overlay",
             "size": 10,
             "solidity": 0.2
            },
            "type": "scatter"
           }
          ],
          "scatter3d": [
           {
            "line": {
             "colorbar": {
              "outlinewidth": 0,
              "ticks": ""
             }
            },
            "marker": {
             "colorbar": {
              "outlinewidth": 0,
              "ticks": ""
             }
            },
            "type": "scatter3d"
           }
          ],
          "scattercarpet": [
           {
            "marker": {
             "colorbar": {
              "outlinewidth": 0,
              "ticks": ""
             }
            },
            "type": "scattercarpet"
           }
          ],
          "scattergeo": [
           {
            "marker": {
             "colorbar": {
              "outlinewidth": 0,
              "ticks": ""
             }
            },
            "type": "scattergeo"
           }
          ],
          "scattergl": [
           {
            "marker": {
             "colorbar": {
              "outlinewidth": 0,
              "ticks": ""
             }
            },
            "type": "scattergl"
           }
          ],
          "scattermapbox": [
           {
            "marker": {
             "colorbar": {
              "outlinewidth": 0,
              "ticks": ""
             }
            },
            "type": "scattermapbox"
           }
          ],
          "scatterpolar": [
           {
            "marker": {
             "colorbar": {
              "outlinewidth": 0,
              "ticks": ""
             }
            },
            "type": "scatterpolar"
           }
          ],
          "scatterpolargl": [
           {
            "marker": {
             "colorbar": {
              "outlinewidth": 0,
              "ticks": ""
             }
            },
            "type": "scatterpolargl"
           }
          ],
          "scatterternary": [
           {
            "marker": {
             "colorbar": {
              "outlinewidth": 0,
              "ticks": ""
             }
            },
            "type": "scatterternary"
           }
          ],
          "surface": [
           {
            "colorbar": {
             "outlinewidth": 0,
             "ticks": ""
            },
            "colorscale": [
             [
              0,
              "#0d0887"
             ],
             [
              0.1111111111111111,
              "#46039f"
             ],
             [
              0.2222222222222222,
              "#7201a8"
             ],
             [
              0.3333333333333333,
              "#9c179e"
             ],
             [
              0.4444444444444444,
              "#bd3786"
             ],
             [
              0.5555555555555556,
              "#d8576b"
             ],
             [
              0.6666666666666666,
              "#ed7953"
             ],
             [
              0.7777777777777778,
              "#fb9f3a"
             ],
             [
              0.8888888888888888,
              "#fdca26"
             ],
             [
              1,
              "#f0f921"
             ]
            ],
            "type": "surface"
           }
          ],
          "table": [
           {
            "cells": {
             "fill": {
              "color": "#EBF0F8"
             },
             "line": {
              "color": "white"
             }
            },
            "header": {
             "fill": {
              "color": "#C8D4E3"
             },
             "line": {
              "color": "white"
             }
            },
            "type": "table"
           }
          ]
         },
         "layout": {
          "annotationdefaults": {
           "arrowcolor": "#2a3f5f",
           "arrowhead": 0,
           "arrowwidth": 1
          },
          "autotypenumbers": "strict",
          "coloraxis": {
           "colorbar": {
            "outlinewidth": 0,
            "ticks": ""
           }
          },
          "colorscale": {
           "diverging": [
            [
             0,
             "#8e0152"
            ],
            [
             0.1,
             "#c51b7d"
            ],
            [
             0.2,
             "#de77ae"
            ],
            [
             0.3,
             "#f1b6da"
            ],
            [
             0.4,
             "#fde0ef"
            ],
            [
             0.5,
             "#f7f7f7"
            ],
            [
             0.6,
             "#e6f5d0"
            ],
            [
             0.7,
             "#b8e186"
            ],
            [
             0.8,
             "#7fbc41"
            ],
            [
             0.9,
             "#4d9221"
            ],
            [
             1,
             "#276419"
            ]
           ],
           "sequential": [
            [
             0,
             "#0d0887"
            ],
            [
             0.1111111111111111,
             "#46039f"
            ],
            [
             0.2222222222222222,
             "#7201a8"
            ],
            [
             0.3333333333333333,
             "#9c179e"
            ],
            [
             0.4444444444444444,
             "#bd3786"
            ],
            [
             0.5555555555555556,
             "#d8576b"
            ],
            [
             0.6666666666666666,
             "#ed7953"
            ],
            [
             0.7777777777777778,
             "#fb9f3a"
            ],
            [
             0.8888888888888888,
             "#fdca26"
            ],
            [
             1,
             "#f0f921"
            ]
           ],
           "sequentialminus": [
            [
             0,
             "#0d0887"
            ],
            [
             0.1111111111111111,
             "#46039f"
            ],
            [
             0.2222222222222222,
             "#7201a8"
            ],
            [
             0.3333333333333333,
             "#9c179e"
            ],
            [
             0.4444444444444444,
             "#bd3786"
            ],
            [
             0.5555555555555556,
             "#d8576b"
            ],
            [
             0.6666666666666666,
             "#ed7953"
            ],
            [
             0.7777777777777778,
             "#fb9f3a"
            ],
            [
             0.8888888888888888,
             "#fdca26"
            ],
            [
             1,
             "#f0f921"
            ]
           ]
          },
          "colorway": [
           "#636efa",
           "#EF553B",
           "#00cc96",
           "#ab63fa",
           "#FFA15A",
           "#19d3f3",
           "#FF6692",
           "#B6E880",
           "#FF97FF",
           "#FECB52"
          ],
          "font": {
           "color": "#2a3f5f"
          },
          "geo": {
           "bgcolor": "white",
           "lakecolor": "white",
           "landcolor": "white",
           "showlakes": true,
           "showland": true,
           "subunitcolor": "#C8D4E3"
          },
          "hoverlabel": {
           "align": "left"
          },
          "hovermode": "closest",
          "mapbox": {
           "style": "light"
          },
          "paper_bgcolor": "white",
          "plot_bgcolor": "white",
          "polar": {
           "angularaxis": {
            "gridcolor": "#EBF0F8",
            "linecolor": "#EBF0F8",
            "ticks": ""
           },
           "bgcolor": "white",
           "radialaxis": {
            "gridcolor": "#EBF0F8",
            "linecolor": "#EBF0F8",
            "ticks": ""
           }
          },
          "scene": {
           "xaxis": {
            "backgroundcolor": "white",
            "gridcolor": "#DFE8F3",
            "gridwidth": 2,
            "linecolor": "#EBF0F8",
            "showbackground": true,
            "ticks": "",
            "zerolinecolor": "#EBF0F8"
           },
           "yaxis": {
            "backgroundcolor": "white",
            "gridcolor": "#DFE8F3",
            "gridwidth": 2,
            "linecolor": "#EBF0F8",
            "showbackground": true,
            "ticks": "",
            "zerolinecolor": "#EBF0F8"
           },
           "zaxis": {
            "backgroundcolor": "white",
            "gridcolor": "#DFE8F3",
            "gridwidth": 2,
            "linecolor": "#EBF0F8",
            "showbackground": true,
            "ticks": "",
            "zerolinecolor": "#EBF0F8"
           }
          },
          "shapedefaults": {
           "line": {
            "color": "#2a3f5f"
           }
          },
          "ternary": {
           "aaxis": {
            "gridcolor": "#DFE8F3",
            "linecolor": "#A2B1C6",
            "ticks": ""
           },
           "baxis": {
            "gridcolor": "#DFE8F3",
            "linecolor": "#A2B1C6",
            "ticks": ""
           },
           "bgcolor": "white",
           "caxis": {
            "gridcolor": "#DFE8F3",
            "linecolor": "#A2B1C6",
            "ticks": ""
           }
          },
          "title": {
           "x": 0.05
          },
          "xaxis": {
           "automargin": true,
           "gridcolor": "#EBF0F8",
           "linecolor": "#EBF0F8",
           "ticks": "",
           "title": {
            "standoff": 15
           },
           "zerolinecolor": "#EBF0F8",
           "zerolinewidth": 2
          },
          "yaxis": {
           "automargin": true,
           "gridcolor": "#EBF0F8",
           "linecolor": "#EBF0F8",
           "ticks": "",
           "title": {
            "standoff": 15
           },
           "zerolinecolor": "#EBF0F8",
           "zerolinewidth": 2
          }
         }
        },
        "title": {
         "text": "sMW vs dMW(43,39"
        },
        "width": 1600,
        "xaxis": {
         "anchor": "y",
         "domain": [
          0,
          0.31999999999999995
         ],
         "title": {
          "text": "sMW>dMW                  sMW<dMW"
         }
        },
        "xaxis2": {
         "anchor": "y2",
         "domain": [
          0.33999999999999997,
          0.6599999999999999
         ],
         "matches": "x",
         "title": {
          "text": "sMW>dMW                  sMW<dMW"
         }
        },
        "xaxis3": {
         "anchor": "y3",
         "domain": [
          0.6799999999999999,
          0.9999999999999999
         ],
         "matches": "x",
         "title": {
          "text": "sMW>dMW                  sMW<dMW"
         }
        },
        "yaxis": {
         "anchor": "x",
         "domain": [
          0,
          1
         ],
         "showticklabels": true,
         "tickmode": "linear",
         "title": {
          "text": "markers"
         }
        },
        "yaxis2": {
         "anchor": "x2",
         "domain": [
          0,
          1
         ],
         "matches": "y",
         "showticklabels": false
        },
        "yaxis3": {
         "anchor": "x3",
         "domain": [
          0,
          1
         ],
         "matches": "y",
         "showticklabels": false
        }
       }
      },
      "text/html": [
       "<div>                            <div id=\"015f09de-651d-4bd5-b16b-63fbe8217eda\" class=\"plotly-graph-div\" style=\"height:800px; width:1600px;\"></div>            <script type=\"text/javascript\">                require([\"plotly\"], function(Plotly) {                    window.PLOTLYENV=window.PLOTLYENV || {};                                    if (document.getElementById(\"015f09de-651d-4bd5-b16b-63fbe8217eda\")) {                    Plotly.newPlot(                        \"015f09de-651d-4bd5-b16b-63fbe8217eda\",                        [{\"hovertemplate\":\"balance=unbalance<br>significant=p > 0.05<br>sMW>dMW                  sMW<dMW=%{x}<br>markers=%{y}<extra></extra>\",\"legendgroup\":\"unbalance, p > 0.05\",\"marker\":{\"color\":\"#DE237B\",\"symbol\":\"circle-open\",\"size\":8},\"mode\":\"markers\",\"name\":\"unbalance, p > 0.05\",\"orientation\":\"h\",\"showlegend\":true,\"x\":[0.385211687537269,0.39057841383422776,0.39177101967799643,0.39296362552176506,0.3947525342874181,0.4102564102564103,0.41264162194394755,0.4245676803816339,0.4269528920691711,0.43053070960047707,0.4353011329755516,0.4376863446630888,0.4406678592725104,0.4418604651162791,0.45915324985092426,0.46213476446034585,0.46243291592128805,0.46332737030411447,0.4686940966010733,0.469886702444842,0.4722719141323793,0.4746571258199165,0.47584973166368516,0.4788312462731067,0.4871794871794871,0.4901610017889087,0.4919499105545617,0.4949314251639833,0.5032796660703637,0.5032796660703638,0.5044722719141324,0.505664877757901,0.5062611806797853,0.5134168157423971,0.5134168157423972,0.5146094215861657,0.5175909361955873,0.518783542039356,0.5187835420393561,0.5199761478831246,0.5199761478831246,0.5205724508050089,0.5217650566487776,0.5324985092426954,0.5348837209302325,0.5462134764460347,0.5521765056648777,0.5593321407274895,0.5688729874776386,0.5766249254621347,0.5879546809779368,0.5963029218843172,0.6016696481812761,0.6207513416815742],\"xaxis\":\"x\",\"y\":[\"$PE\\\\gamma_{std}$\",\"$PE\\\\beta_{std}$\",\"$|\\\\alpha|_{mean}$\",\"$\\\\alpha_{std}$\",\"$PE\\\\theta_{mean}$\",\"$MSF_{mean}$\",\"$|\\\\gamma|_{mean}$\",\"$K_{std}$\",\"$CNV_{mean}$\",\"$\\\\theta_{std}$\",\"$|\\\\alpha|_{std}$\",\"$SEF95_{mean}$\",\"$wSMI\\\\theta_{mean}$\",\"$SEF90_{mean}$\",\"$|\\\\theta|_{std}$\",\"$P3b_{mean}$\",\"$K_{mean}$\",\"$SE_{mean}$\",\"$\\\\gamma_{mean}$\",\"$\\\\alpha_{mean}$\",\"$wSMI\\\\alpha_{mean}$\",\"$PE\\\\gamma_{mean}$\",\"$SEF90_{std}$\",\"$SEF95_{std}$\",\"$wSMI\\\\alpha_{std}$\",\"$P1_{std}$\",\"$\\\\beta_{std}$\",\"$PE\\\\beta_{mean}$\",\"$PE\\\\theta_{std}$\",\"$\\\\gamma_{std}$\",\"$wSMI\\\\theta_{std}$\",\"$|\\\\gamma|_{std}$\",\"$P3b_{std}$\",\"$P3a_{mean}$\",\"$wSMI\\\\beta_{mean}$\",\"$PE\\\\alpha_{std}$\",\"$|\\\\beta|_{mean}$\",\"$wSMI\\\\gamma_{mean}$\",\"$P1_{mean}$\",\"$PE\\\\alpha_{mean}$\",\"$\\\\beta_{mean}$\",\"$\\\\delta_{mean}$\",\"$|\\\\beta|_{std}$\",\"$|\\\\delta|_{std}$\",\"$P3a_{std}$\",\"$\\\\delta_{std}$\",\"$MSF_{std}$\",\"$wSMI\\\\gamma_{std}$\",\"$\\\\theta_{mean}$\",\"$SE_{std}$\",\"$|\\\\delta|_{mean}$\",\"$|\\\\theta|_{mean}$\",\"$wSMI\\\\beta_{std}$\",\"$CNV_{std}$\"],\"yaxis\":\"y\",\"type\":\"scatter\"},{\"hovertemplate\":\"balance=under-sample<br>significant=p > 0.05<br>sMW>dMW                  sMW<dMW=%{x}<br>markers=%{y}<extra></extra>\",\"legendgroup\":\"under-sample, p > 0.05\",\"marker\":{\"color\":\"#9AC529\",\"symbol\":\"circle-open\",\"size\":8},\"mode\":\"markers\",\"name\":\"under-sample, p > 0.05\",\"orientation\":\"h\",\"showlegend\":true,\"x\":[0.391190006574622,0.3977646285338593,0.3984220907297831,0.4003944773175543,0.4049967126890204,0.40565417488494415,0.40565417488494415,0.40762656147271537,0.41880341880341876,0.42472057856673245,0.4293228139381986,0.4293228139381986,0.4444444444444444,0.4477317554240631,0.4536489151873767,0.4549638395792242,0.4589086127547666,0.4608809993425378,0.46186719263642345,0.472715318869165,0.4740302432610125,0.4746877054569362,0.4792899408284023,0.4819197896120973,0.4825772518080211,0.4917817225509533,0.4917817225509533,0.49243918474687703,0.49309664694280075,0.4930966469428008,0.4963839579224195,0.49704142011834324,0.5003287310979618,0.5003287310979618,0.5121630506245891,0.5161078238001315,0.5207100591715976,0.5213675213675214,0.5220249835634451,0.5220249835634452,0.5253122945430637,0.5285996055226825,0.5285996055226825,0.5325443786982249,0.5378040762656147,0.539776462853386,0.5410913872452334,0.5641025641025641,0.5654174884944115,0.5851413543721236,0.5904010519395135,0.6074950690335306,0.6134122287968442],\"xaxis\":\"x2\",\"y\":[\"$PE\\\\gamma_{std}$\",\"$|\\\\alpha|_{mean}$\",\"$\\\\alpha_{std}$\",\"$MSF_{mean}$\",\"$PE\\\\beta_{std}$\",\"$PE\\\\theta_{mean}$\",\"$K_{std}$\",\"$|\\\\gamma|_{mean}$\",\"$\\\\theta_{std}$\",\"$SEF95_{mean}$\",\"$SEF90_{mean}$\",\"$CNV_{mean}$\",\"$|\\\\alpha|_{std}$\",\"$SE_{mean}$\",\"$wSMI\\\\theta_{mean}$\",\"$|\\\\theta|_{std}$\",\"$P3b_{mean}$\",\"$\\\\gamma_{mean}$\",\"$K_{mean}$\",\"$wSMI\\\\alpha_{std}$\",\"$SEF90_{std}$\",\"$PE\\\\gamma_{mean}$\",\"$\\\\alpha_{mean}$\",\"$PE\\\\beta_{mean}$\",\"$SEF95_{std}$\",\"$|\\\\beta|_{mean}$\",\"$|\\\\gamma|_{std}$\",\"$|\\\\beta|_{std}$\",\"$P3b_{std}$\",\"$PE\\\\theta_{std}$\",\"$wSMI\\\\alpha_{mean}$\",\"$P1_{std}$\",\"$PE\\\\alpha_{mean}$\",\"$\\\\beta_{std}$\",\"$\\\\beta_{mean}$\",\"$P3a_{mean}$\",\"$\\\\delta_{mean}$\",\"$wSMI\\\\theta_{std}$\",\"$wSMI\\\\gamma_{mean}$\",\"$P3a_{std}$\",\"$P1_{mean}$\",\"$MSF_{std}$\",\"$PE\\\\alpha_{std}$\",\"$|\\\\delta|_{std}$\",\"$\\\\delta_{std}$\",\"$\\\\gamma_{std}$\",\"$wSMI\\\\beta_{mean}$\",\"$SE_{std}$\",\"$wSMI\\\\gamma_{std}$\",\"$|\\\\delta|_{mean}$\",\"$\\\\theta_{mean}$\",\"$wSMI\\\\beta_{std}$\",\"$CNV_{std}$\"],\"yaxis\":\"y2\",\"type\":\"scatter\"},{\"hovertemplate\":\"balance=under-sample<br>significant=p < 0.05 uncorrected<br>sMW>dMW                  sMW<dMW=%{x}<br>markers=%{y}<extra></extra>\",\"legendgroup\":\"under-sample, p < 0.05 uncorrected\",\"marker\":{\"color\":\"#9AC529\",\"symbol\":\"circle\",\"size\":8},\"mode\":\"markers\",\"name\":\"under-sample, p < 0.05 uncorrected\",\"orientation\":\"h\",\"showlegend\":true,\"x\":[0.6298487836949376],\"xaxis\":\"x2\",\"y\":[\"$|\\\\theta|_{mean}$\"],\"yaxis\":\"y2\",\"type\":\"scatter\"},{\"hovertemplate\":\"balance=over-sample<br>significant=p > 0.05<br>sMW>dMW                  sMW<dMW=%{x}<br>markers=%{y}<extra></extra>\",\"legendgroup\":\"over-sample, p > 0.05\",\"marker\":{\"color\":\"#F38A31\",\"symbol\":\"circle-open\",\"size\":8},\"mode\":\"markers\",\"name\":\"over-sample, p > 0.05\",\"orientation\":\"h\",\"showlegend\":true,\"x\":[0.38236884802596,0.3829096809085993,0.38561384532179555,0.3958896700919416,0.3964305029745809,0.4099513250405624,0.41265548945375874,0.41535965386695506,0.4175229853975122,0.41806381828015143,0.42671714440237973,0.42942130881557594,0.43645213628988644,0.43915630070308276,0.44050838290968086,0.44294213088155754,0.45105462412114655,0.45267712276906436,0.45375878853434287,0.458085451595457,0.4672796106003245,0.46944294213088156,0.4743104380746349,0.47647376960519194,0.4851270957274202,0.4856679286100595,0.486749594375338,0.4872904272579772,0.4889129259058951,0.4889129259058951,0.4905354245538128,0.4921579232017307,0.4921579232017307,0.49378042184964843,0.4959437533802056,0.49810708491076255,0.5024337479718767,0.5035154137371551,0.5045970795024338,0.5062195781503516,0.5148729042725797,0.5186587344510547,0.519199567333694,0.5213628988642509,0.5235262303948082,0.5251487290427258,0.5348837209302326,0.5348837209302326,0.5792320173066522,0.5835586803677664,0.588967009194159,0.6041103299080585,0.607355327203894,0.6116819902650081],\"xaxis\":\"x3\",\"y\":[\"$PE\\\\gamma_{std}$\",\"$|\\\\gamma|_{mean}$\",\"$\\\\alpha_{std}$\",\"$PE\\\\beta_{std}$\",\"$MSF_{mean}$\",\"$SEF95_{mean}$\",\"$SEF90_{mean}$\",\"$PE\\\\theta_{mean}$\",\"$K_{std}$\",\"$|\\\\alpha|_{mean}$\",\"$CNV_{mean}$\",\"$\\\\theta_{std}$\",\"$SE_{mean}$\",\"$|\\\\alpha|_{std}$\",\"$K_{mean}$\",\"$PE\\\\gamma_{mean}$\",\"$P3b_{mean}$\",\"$\\\\gamma_{mean}$\",\"$|\\\\theta|_{std}$\",\"$wSMI\\\\theta_{mean}$\",\"$PE\\\\beta_{mean}$\",\"$SEF95_{std}$\",\"$SEF90_{std}$\",\"$P3a_{mean}$\",\"$\\\\beta_{std}$\",\"$wSMI\\\\alpha_{mean}$\",\"$wSMI\\\\gamma_{mean}$\",\"$P1_{std}$\",\"$wSMI\\\\alpha_{std}$\",\"$|\\\\gamma|_{std}$\",\"$\\\\alpha_{mean}$\",\"$PE\\\\alpha_{mean}$\",\"$|\\\\beta|_{mean}$\",\"$wSMI\\\\theta_{std}$\",\"$P1_{mean}$\",\"$wSMI\\\\beta_{mean}$\",\"$PE\\\\theta_{std}$\",\"$P3b_{std}$\",\"$|\\\\delta|_{std}$\",\"$\\\\delta_{std}$\",\"$|\\\\beta|_{std}$\",\"$\\\\beta_{mean}$\",\"$MSF_{std}$\",\"$\\\\gamma_{std}$\",\"$PE\\\\alpha_{std}$\",\"$\\\\delta_{mean}$\",\"$wSMI\\\\gamma_{std}$\",\"$P3a_{std}$\",\"$SE_{std}$\",\"$|\\\\delta|_{mean}$\",\"$\\\\theta_{mean}$\",\"$|\\\\theta|_{mean}$\",\"$wSMI\\\\beta_{std}$\",\"$CNV_{std}$\"],\"yaxis\":\"y3\",\"type\":\"scatter\"}],                        {\"template\":{\"data\":{\"barpolar\":[{\"marker\":{\"line\":{\"color\":\"white\",\"width\":0.5},\"pattern\":{\"fillmode\":\"overlay\",\"size\":10,\"solidity\":0.2}},\"type\":\"barpolar\"}],\"bar\":[{\"error_x\":{\"color\":\"#2a3f5f\"},\"error_y\":{\"color\":\"#2a3f5f\"},\"marker\":{\"line\":{\"color\":\"white\",\"width\":0.5},\"pattern\":{\"fillmode\":\"overlay\",\"size\":10,\"solidity\":0.2}},\"type\":\"bar\"}],\"carpet\":[{\"aaxis\":{\"endlinecolor\":\"#2a3f5f\",\"gridcolor\":\"#C8D4E3\",\"linecolor\":\"#C8D4E3\",\"minorgridcolor\":\"#C8D4E3\",\"startlinecolor\":\"#2a3f5f\"},\"baxis\":{\"endlinecolor\":\"#2a3f5f\",\"gridcolor\":\"#C8D4E3\",\"linecolor\":\"#C8D4E3\",\"minorgridcolor\":\"#C8D4E3\",\"startlinecolor\":\"#2a3f5f\"},\"type\":\"carpet\"}],\"choropleth\":[{\"colorbar\":{\"outlinewidth\":0,\"ticks\":\"\"},\"type\":\"choropleth\"}],\"contourcarpet\":[{\"colorbar\":{\"outlinewidth\":0,\"ticks\":\"\"},\"type\":\"contourcarpet\"}],\"contour\":[{\"colorbar\":{\"outlinewidth\":0,\"ticks\":\"\"},\"colorscale\":[[0.0,\"#0d0887\"],[0.1111111111111111,\"#46039f\"],[0.2222222222222222,\"#7201a8\"],[0.3333333333333333,\"#9c179e\"],[0.4444444444444444,\"#bd3786\"],[0.5555555555555556,\"#d8576b\"],[0.6666666666666666,\"#ed7953\"],[0.7777777777777778,\"#fb9f3a\"],[0.8888888888888888,\"#fdca26\"],[1.0,\"#f0f921\"]],\"type\":\"contour\"}],\"heatmapgl\":[{\"colorbar\":{\"outlinewidth\":0,\"ticks\":\"\"},\"colorscale\":[[0.0,\"#0d0887\"],[0.1111111111111111,\"#46039f\"],[0.2222222222222222,\"#7201a8\"],[0.3333333333333333,\"#9c179e\"],[0.4444444444444444,\"#bd3786\"],[0.5555555555555556,\"#d8576b\"],[0.6666666666666666,\"#ed7953\"],[0.7777777777777778,\"#fb9f3a\"],[0.8888888888888888,\"#fdca26\"],[1.0,\"#f0f921\"]],\"type\":\"heatmapgl\"}],\"heatmap\":[{\"colorbar\":{\"outlinewidth\":0,\"ticks\":\"\"},\"colorscale\":[[0.0,\"#0d0887\"],[0.1111111111111111,\"#46039f\"],[0.2222222222222222,\"#7201a8\"],[0.3333333333333333,\"#9c179e\"],[0.4444444444444444,\"#bd3786\"],[0.5555555555555556,\"#d8576b\"],[0.6666666666666666,\"#ed7953\"],[0.7777777777777778,\"#fb9f3a\"],[0.8888888888888888,\"#fdca26\"],[1.0,\"#f0f921\"]],\"type\":\"heatmap\"}],\"histogram2dcontour\":[{\"colorbar\":{\"outlinewidth\":0,\"ticks\":\"\"},\"colorscale\":[[0.0,\"#0d0887\"],[0.1111111111111111,\"#46039f\"],[0.2222222222222222,\"#7201a8\"],[0.3333333333333333,\"#9c179e\"],[0.4444444444444444,\"#bd3786\"],[0.5555555555555556,\"#d8576b\"],[0.6666666666666666,\"#ed7953\"],[0.7777777777777778,\"#fb9f3a\"],[0.8888888888888888,\"#fdca26\"],[1.0,\"#f0f921\"]],\"type\":\"histogram2dcontour\"}],\"histogram2d\":[{\"colorbar\":{\"outlinewidth\":0,\"ticks\":\"\"},\"colorscale\":[[0.0,\"#0d0887\"],[0.1111111111111111,\"#46039f\"],[0.2222222222222222,\"#7201a8\"],[0.3333333333333333,\"#9c179e\"],[0.4444444444444444,\"#bd3786\"],[0.5555555555555556,\"#d8576b\"],[0.6666666666666666,\"#ed7953\"],[0.7777777777777778,\"#fb9f3a\"],[0.8888888888888888,\"#fdca26\"],[1.0,\"#f0f921\"]],\"type\":\"histogram2d\"}],\"histogram\":[{\"marker\":{\"pattern\":{\"fillmode\":\"overlay\",\"size\":10,\"solidity\":0.2}},\"type\":\"histogram\"}],\"mesh3d\":[{\"colorbar\":{\"outlinewidth\":0,\"ticks\":\"\"},\"type\":\"mesh3d\"}],\"parcoords\":[{\"line\":{\"colorbar\":{\"outlinewidth\":0,\"ticks\":\"\"}},\"type\":\"parcoords\"}],\"pie\":[{\"automargin\":true,\"type\":\"pie\"}],\"scatter3d\":[{\"line\":{\"colorbar\":{\"outlinewidth\":0,\"ticks\":\"\"}},\"marker\":{\"colorbar\":{\"outlinewidth\":0,\"ticks\":\"\"}},\"type\":\"scatter3d\"}],\"scattercarpet\":[{\"marker\":{\"colorbar\":{\"outlinewidth\":0,\"ticks\":\"\"}},\"type\":\"scattercarpet\"}],\"scattergeo\":[{\"marker\":{\"colorbar\":{\"outlinewidth\":0,\"ticks\":\"\"}},\"type\":\"scattergeo\"}],\"scattergl\":[{\"marker\":{\"colorbar\":{\"outlinewidth\":0,\"ticks\":\"\"}},\"type\":\"scattergl\"}],\"scattermapbox\":[{\"marker\":{\"colorbar\":{\"outlinewidth\":0,\"ticks\":\"\"}},\"type\":\"scattermapbox\"}],\"scatterpolargl\":[{\"marker\":{\"colorbar\":{\"outlinewidth\":0,\"ticks\":\"\"}},\"type\":\"scatterpolargl\"}],\"scatterpolar\":[{\"marker\":{\"colorbar\":{\"outlinewidth\":0,\"ticks\":\"\"}},\"type\":\"scatterpolar\"}],\"scatter\":[{\"fillpattern\":{\"fillmode\":\"overlay\",\"size\":10,\"solidity\":0.2},\"type\":\"scatter\"}],\"scatterternary\":[{\"marker\":{\"colorbar\":{\"outlinewidth\":0,\"ticks\":\"\"}},\"type\":\"scatterternary\"}],\"surface\":[{\"colorbar\":{\"outlinewidth\":0,\"ticks\":\"\"},\"colorscale\":[[0.0,\"#0d0887\"],[0.1111111111111111,\"#46039f\"],[0.2222222222222222,\"#7201a8\"],[0.3333333333333333,\"#9c179e\"],[0.4444444444444444,\"#bd3786\"],[0.5555555555555556,\"#d8576b\"],[0.6666666666666666,\"#ed7953\"],[0.7777777777777778,\"#fb9f3a\"],[0.8888888888888888,\"#fdca26\"],[1.0,\"#f0f921\"]],\"type\":\"surface\"}],\"table\":[{\"cells\":{\"fill\":{\"color\":\"#EBF0F8\"},\"line\":{\"color\":\"white\"}},\"header\":{\"fill\":{\"color\":\"#C8D4E3\"},\"line\":{\"color\":\"white\"}},\"type\":\"table\"}]},\"layout\":{\"annotationdefaults\":{\"arrowcolor\":\"#2a3f5f\",\"arrowhead\":0,\"arrowwidth\":1},\"autotypenumbers\":\"strict\",\"coloraxis\":{\"colorbar\":{\"outlinewidth\":0,\"ticks\":\"\"}},\"colorscale\":{\"diverging\":[[0,\"#8e0152\"],[0.1,\"#c51b7d\"],[0.2,\"#de77ae\"],[0.3,\"#f1b6da\"],[0.4,\"#fde0ef\"],[0.5,\"#f7f7f7\"],[0.6,\"#e6f5d0\"],[0.7,\"#b8e186\"],[0.8,\"#7fbc41\"],[0.9,\"#4d9221\"],[1,\"#276419\"]],\"sequential\":[[0.0,\"#0d0887\"],[0.1111111111111111,\"#46039f\"],[0.2222222222222222,\"#7201a8\"],[0.3333333333333333,\"#9c179e\"],[0.4444444444444444,\"#bd3786\"],[0.5555555555555556,\"#d8576b\"],[0.6666666666666666,\"#ed7953\"],[0.7777777777777778,\"#fb9f3a\"],[0.8888888888888888,\"#fdca26\"],[1.0,\"#f0f921\"]],\"sequentialminus\":[[0.0,\"#0d0887\"],[0.1111111111111111,\"#46039f\"],[0.2222222222222222,\"#7201a8\"],[0.3333333333333333,\"#9c179e\"],[0.4444444444444444,\"#bd3786\"],[0.5555555555555556,\"#d8576b\"],[0.6666666666666666,\"#ed7953\"],[0.7777777777777778,\"#fb9f3a\"],[0.8888888888888888,\"#fdca26\"],[1.0,\"#f0f921\"]]},\"colorway\":[\"#636efa\",\"#EF553B\",\"#00cc96\",\"#ab63fa\",\"#FFA15A\",\"#19d3f3\",\"#FF6692\",\"#B6E880\",\"#FF97FF\",\"#FECB52\"],\"font\":{\"color\":\"#2a3f5f\"},\"geo\":{\"bgcolor\":\"white\",\"lakecolor\":\"white\",\"landcolor\":\"white\",\"showlakes\":true,\"showland\":true,\"subunitcolor\":\"#C8D4E3\"},\"hoverlabel\":{\"align\":\"left\"},\"hovermode\":\"closest\",\"mapbox\":{\"style\":\"light\"},\"paper_bgcolor\":\"white\",\"plot_bgcolor\":\"white\",\"polar\":{\"angularaxis\":{\"gridcolor\":\"#EBF0F8\",\"linecolor\":\"#EBF0F8\",\"ticks\":\"\"},\"bgcolor\":\"white\",\"radialaxis\":{\"gridcolor\":\"#EBF0F8\",\"linecolor\":\"#EBF0F8\",\"ticks\":\"\"}},\"scene\":{\"xaxis\":{\"backgroundcolor\":\"white\",\"gridcolor\":\"#DFE8F3\",\"gridwidth\":2,\"linecolor\":\"#EBF0F8\",\"showbackground\":true,\"ticks\":\"\",\"zerolinecolor\":\"#EBF0F8\"},\"yaxis\":{\"backgroundcolor\":\"white\",\"gridcolor\":\"#DFE8F3\",\"gridwidth\":2,\"linecolor\":\"#EBF0F8\",\"showbackground\":true,\"ticks\":\"\",\"zerolinecolor\":\"#EBF0F8\"},\"zaxis\":{\"backgroundcolor\":\"white\",\"gridcolor\":\"#DFE8F3\",\"gridwidth\":2,\"linecolor\":\"#EBF0F8\",\"showbackground\":true,\"ticks\":\"\",\"zerolinecolor\":\"#EBF0F8\"}},\"shapedefaults\":{\"line\":{\"color\":\"#2a3f5f\"}},\"ternary\":{\"aaxis\":{\"gridcolor\":\"#DFE8F3\",\"linecolor\":\"#A2B1C6\",\"ticks\":\"\"},\"baxis\":{\"gridcolor\":\"#DFE8F3\",\"linecolor\":\"#A2B1C6\",\"ticks\":\"\"},\"bgcolor\":\"white\",\"caxis\":{\"gridcolor\":\"#DFE8F3\",\"linecolor\":\"#A2B1C6\",\"ticks\":\"\"}},\"title\":{\"x\":0.05},\"xaxis\":{\"automargin\":true,\"gridcolor\":\"#EBF0F8\",\"linecolor\":\"#EBF0F8\",\"ticks\":\"\",\"title\":{\"standoff\":15},\"zerolinecolor\":\"#EBF0F8\",\"zerolinewidth\":2},\"yaxis\":{\"automargin\":true,\"gridcolor\":\"#EBF0F8\",\"linecolor\":\"#EBF0F8\",\"ticks\":\"\",\"title\":{\"standoff\":15},\"zerolinecolor\":\"#EBF0F8\",\"zerolinewidth\":2}}},\"xaxis\":{\"anchor\":\"y\",\"domain\":[0.0,0.31999999999999995],\"title\":{\"text\":\"sMW>dMW                  sMW<dMW\"}},\"yaxis\":{\"anchor\":\"x\",\"domain\":[0.0,1.0],\"title\":{\"text\":\"markers\"},\"showticklabels\":true,\"tickmode\":\"linear\"},\"xaxis2\":{\"anchor\":\"y2\",\"domain\":[0.33999999999999997,0.6599999999999999],\"matches\":\"x\",\"title\":{\"text\":\"sMW>dMW                  sMW<dMW\"}},\"yaxis2\":{\"anchor\":\"x2\",\"domain\":[0.0,1.0],\"matches\":\"y\",\"showticklabels\":false},\"xaxis3\":{\"anchor\":\"y3\",\"domain\":[0.6799999999999999,0.9999999999999999],\"matches\":\"x\",\"title\":{\"text\":\"sMW>dMW                  sMW<dMW\"}},\"yaxis3\":{\"anchor\":\"x3\",\"domain\":[0.0,1.0],\"matches\":\"y\",\"showticklabels\":false},\"annotations\":[{\"showarrow\":false,\"text\":\"balance=unbalance\",\"x\":0.15999999999999998,\"xanchor\":\"center\",\"xref\":\"paper\",\"y\":1.0,\"yanchor\":\"bottom\",\"yref\":\"paper\"},{\"showarrow\":false,\"text\":\"balance=under-sample\",\"x\":0.49999999999999994,\"xanchor\":\"center\",\"xref\":\"paper\",\"y\":1.0,\"yanchor\":\"bottom\",\"yref\":\"paper\"},{\"showarrow\":false,\"text\":\"balance=over-sample\",\"x\":0.8399999999999999,\"xanchor\":\"center\",\"xref\":\"paper\",\"y\":1.0,\"yanchor\":\"bottom\",\"yref\":\"paper\"}],\"legend\":{\"title\":{\"text\":\"balance, significant\"},\"tracegroupgap\":0},\"margin\":{\"t\":60},\"shapes\":[{\"line\":{\"color\":\"black\",\"dash\":\"dash\",\"width\":3},\"type\":\"line\",\"x0\":0.5,\"x1\":0.5,\"xref\":\"x\",\"y0\":0,\"y1\":1,\"yref\":\"y domain\"},{\"line\":{\"color\":\"black\",\"dash\":\"dash\",\"width\":3},\"type\":\"line\",\"x0\":0.5,\"x1\":0.5,\"xref\":\"x2\",\"y0\":0,\"y1\":1,\"yref\":\"y2 domain\"},{\"line\":{\"color\":\"black\",\"dash\":\"dash\",\"width\":3},\"type\":\"line\",\"x0\":0.5,\"x1\":0.5,\"xref\":\"x3\",\"y0\":0,\"y1\":1,\"yref\":\"y3 domain\"}],\"title\":{\"text\":\"sMW vs dMW(43,39\"},\"autosize\":true,\"width\":1600,\"height\":800},                        {\"responsive\": true}                    ).then(function(){\n",
       "                            \n",
       "var gd = document.getElementById('015f09de-651d-4bd5-b16b-63fbe8217eda');\n",
       "var x = new MutationObserver(function (mutations, observer) {{\n",
       "        var display = window.getComputedStyle(gd).display;\n",
       "        if (!display || display === 'none') {{\n",
       "            console.log([gd, 'removed!']);\n",
       "            Plotly.purge(gd);\n",
       "            observer.disconnect();\n",
       "        }}\n",
       "}});\n",
       "\n",
       "// Listen for the removal of the full notebook cells\n",
       "var notebookContainer = gd.closest('#notebook-container');\n",
       "if (notebookContainer) {{\n",
       "    x.observe(notebookContainer, {childList: true});\n",
       "}}\n",
       "\n",
       "// Listen for the clearing of the current output cell\n",
       "var outputEl = gd.closest('.output');\n",
       "if (outputEl) {{\n",
       "    x.observe(outputEl, {childList: true});\n",
       "}}\n",
       "\n",
       "                        })                };                });            </script>        </div>"
      ]
     },
     "metadata": {},
     "output_type": "display_data"
    }
   ],
   "source": [
    "# segment_mind_roc = pd.read_csv('Data/univariate_roc_mind_segment.csv')\n",
    "for i in mind_states:\n",
    "    for j in mind_states:\n",
    "        if i == j:\n",
    "            break\n",
    "        contrast = f\"{i} vs {j}\"\n",
    "        label = sorted([i,j], key = mind_dict.get)\n",
    "        \n",
    "        df_contrast = df_all_probe.query(f\"comparison == '{contrast}'\")\n",
    "\n",
    "        fig = px.scatter(df_contrast.sort_values(by = 'AUC'),x = 'AUC', y = 'markers', template = \"plotly_white\",\n",
    "                         symbol = 'significant', symbol_sequence = ['circle-open','circle','hexagram' ],\n",
    "                         facet_col = 'balance', color = 'balance', color_discrete_sequence = [pink, green,orange, pink], \n",
    "                         category_orders = {'significant': ['p > 0.05','p < 0.05 uncorrected', 'p < 0.05 FDR corrected'], 'balance': ['unbalance', 'under-sample', 'over-sample']}, \n",
    "                         labels = {'AUC': f'{label[0]}>{label[1]}                  {label[0]}<{label[1]}'}\n",
    "                        \n",
    "                        )\n",
    "        \n",
    "        fig.add_vline(x=0.5, line_width=3, line_dash=\"dash\", line_color=\"black\")\n",
    "        fig.update_traces(marker=dict(size = 8))\n",
    "\n",
    "        fig.update_layout(\n",
    "            title = contrast + '('+ str(len(df_probe.query(f\"mind == '{i}'\")))+','+str(len(df_probe.query(f\"mind == '{j}'\"))),\n",
    "            autosize=True,\n",
    "            width=1600,\n",
    "            height=800,\n",
    "            yaxis = {\n",
    "                    'showticklabels': True,\n",
    "                    'tickmode': 'linear',\n",
    "                },\n",
    "#             xaxis = {'title': 'a'}\n",
    "\n",
    "        )\n",
    "        fig.show()\n",
    "# pio.write_json(fig, 'Figs/univariate_roc_mw_segment.plotly')\n",
    "# fig.write_image('Figs/univariate_roc_mw_segment.png')"
   ]
  },
  {
   "cell_type": "code",
   "execution_count": 24,
   "id": "northern-thailand",
   "metadata": {},
   "outputs": [],
   "source": [
    "def plot_univariate(df, label, color = green, contrast = None):\n",
    "    \n",
    "    if contrast is not None:\n",
    "        df = df.query(f\"comparison == '{contrast}'\")\n",
    "\n",
    "    fig = px.scatter(df.sort_values(by = 'AUC'),x = 'AUC', y = 'markers', template = \"plotly_white\",\n",
    "                     symbol = 'significant', symbol_sequence = ['circle-open','circle','hexagram' ], color_discrete_sequence = [color],\n",
    "\n",
    "                     category_orders = {'significant': ['p > 0.05','p < 0.05 uncorrected', 'p < 0.05 FDR corrected']}, \n",
    "                     labels = {'AUC': f'{label[0]}>{label[1]}                  {label[0]}<{label[1]}'}\n",
    "\n",
    "                    )\n",
    "\n",
    "    fig.add_vline(x=0.5, line_width=3, line_dash=\"dash\", line_color=\"black\")\n",
    "    fig.update_traces(marker=dict(size = 8))\n",
    "\n",
    "    fig.update_layout(\n",
    "        autosize=False,\n",
    "        width=800,\n",
    "        height=1000,\n",
    "        xaxis= {'range': (0.33, 0.67)},\n",
    "        yaxis = {\n",
    "                'showticklabels': True,\n",
    "                'tickmode': 'linear',\n",
    "            }\n",
    "\n",
    "    )\n",
    "\n",
    "    fig.show()"
   ]
  },
  {
   "cell_type": "code",
   "execution_count": 25,
   "id": "light-spain",
   "metadata": {
    "tags": []
   },
   "outputs": [
    {
     "data": {
      "application/vnd.plotly.v1+json": {
       "config": {
        "plotlyServerURL": "https://plot.ly"
       },
       "data": [
        {
         "hovertemplate": "significant=p > 0.05<br>sMW>on-task                  sMW<on-task=%{x}<br>markers=%{y}<extra></extra>",
         "legendgroup": "p > 0.05",
         "marker": {
          "color": "#DE237B",
          "size": 8,
          "symbol": "circle-open"
         },
         "mode": "markers",
         "name": "p > 0.05",
         "orientation": "h",
         "showlegend": true,
         "type": "scatter",
         "x": [
          0.42236306020823894,
          0.42258940697148034,
          0.42915346310547753,
          0.4298325033952014,
          0.43469895880488907,
          0.4434133091896786,
          0.4469216840199185,
          0.4481100045269352,
          0.4591444092349479,
          0.4602761430511543,
          0.47397012222725216,
          0.4753282028066998,
          0.4777048438207333,
          0.4787234042553191,
          0.4911724762335898,
          0.49230421004979624,
          0.4930964237211407,
          0.4988682661837935,
          0.5010185604345858,
          0.505998189225894,
          0.5082616568583069,
          0.5122227252150294,
          0.5217292892711634,
          0.5222951561792666,
          0.5233137166138525,
          0.523426889995473,
          0.5241059302851969,
          0.5242191036668176,
          0.5264825712992305,
          0.5296514259846085,
          0.5299909461294703,
          0.5329334540516071,
          0.5392711634223631,
          0.5406292440018108,
          0.5414214576731552,
          0.5415346310547758,
          0.5423268447261205,
          0.5527387958352196,
          0.5536441828881847,
          0.5550022634676324,
          0.5590765052059756,
          0.5620190131281123,
          0.5658669081032142,
          0.5667722951561792,
          0.5671684019918516
         ],
         "xaxis": "x",
         "y": [
          "$SE_{mean}$",
          "$|\\alpha|_{mean}$",
          "$PE\\alpha_{mean}$",
          "$PE\\theta_{mean}$",
          "$SEF90_{mean}$",
          "$SEF95_{mean}$",
          "$|\\gamma|_{mean}$",
          "$K_{mean}$",
          "$P3b_{std}$",
          "$P1_{std}$",
          "$\\gamma_{mean}$",
          "$\\beta_{mean}$",
          "$\\theta_{std}$",
          "$PE\\gamma_{mean}$",
          "$PE\\beta_{mean}$",
          "$wSMI\\theta_{std}$",
          "$|\\alpha|_{std}$",
          "$\\alpha_{mean}$",
          "$wSMI\\alpha_{std}$",
          "$PE\\theta_{std}$",
          "$wSMI\\beta_{std}$",
          "$PE\\alpha_{std}$",
          "$|\\beta|_{std}$",
          "$CNV_{std}$",
          "$PE\\beta_{std}$",
          "$SEF90_{std}$",
          "$|\\delta|_{mean}$",
          "$wSMI\\gamma_{mean}$",
          "$|\\delta|_{std}$",
          "$SEF95_{std}$",
          "$\\delta_{std}$",
          "$P3a_{std}$",
          "$\\delta_{mean}$",
          "$|\\gamma|_{std}$",
          "$|\\theta|_{std}$",
          "$P3a_{mean}$",
          "$\\beta_{std}$",
          "$P3b_{mean}$",
          "$wSMI\\beta_{mean}$",
          "$wSMI\\theta_{mean}$",
          "$PE\\gamma_{std}$",
          "$MSF_{std}$",
          "$\\gamma_{std}$",
          "$wSMI\\alpha_{mean}$",
          "$K_{std}$"
         ],
         "yaxis": "y"
        },
        {
         "hovertemplate": "significant=p < 0.05 uncorrected<br>sMW>on-task                  sMW<on-task=%{x}<br>markers=%{y}<extra></extra>",
         "legendgroup": "p < 0.05 uncorrected",
         "marker": {
          "color": "#DE237B",
          "size": 8,
          "symbol": "circle"
         },
         "mode": "markers",
         "name": "p < 0.05 uncorrected",
         "orientation": "h",
         "showlegend": true,
         "type": "scatter",
         "x": [
          0.39565414214576733,
          0.39995473064735176,
          0.4135355364418289,
          0.4137618832050701,
          0.5830692621095518,
          0.6044590312358533,
          0.6189452240832957
         ],
         "xaxis": "x",
         "y": [
          "$CNV_{mean}$",
          "$MSF_{mean}$",
          "$\\alpha_{std}$",
          "$|\\beta|_{mean}$",
          "$wSMI\\gamma_{std}$",
          "$\\theta_{mean}$",
          "$SE_{std}$"
         ],
         "yaxis": "y"
        },
        {
         "hovertemplate": "significant=p < 0.05 FDR corrected<br>sMW>on-task                  sMW<on-task=%{x}<br>markers=%{y}<extra></extra>",
         "legendgroup": "p < 0.05 FDR corrected",
         "marker": {
          "color": "#DE237B",
          "size": 8,
          "symbol": "hexagram"
         },
         "mode": "markers",
         "name": "p < 0.05 FDR corrected",
         "orientation": "h",
         "showlegend": true,
         "type": "scatter",
         "x": [
          0.6418062471706655,
          0.6458804889090085
         ],
         "xaxis": "x",
         "y": [
          "$P1_{mean}$",
          "$|\\theta|_{mean}$"
         ],
         "yaxis": "y"
        }
       ],
       "layout": {
        "autosize": false,
        "height": 1000,
        "legend": {
         "title": {
          "text": "significant"
         },
         "tracegroupgap": 0
        },
        "margin": {
         "t": 60
        },
        "shapes": [
         {
          "line": {
           "color": "black",
           "dash": "dash",
           "width": 3
          },
          "type": "line",
          "x0": 0.5,
          "x1": 0.5,
          "xref": "x",
          "y0": 0,
          "y1": 1,
          "yref": "y domain"
         }
        ],
        "template": {
         "data": {
          "bar": [
           {
            "error_x": {
             "color": "#2a3f5f"
            },
            "error_y": {
             "color": "#2a3f5f"
            },
            "marker": {
             "line": {
              "color": "white",
              "width": 0.5
             },
             "pattern": {
              "fillmode": "overlay",
              "size": 10,
              "solidity": 0.2
             }
            },
            "type": "bar"
           }
          ],
          "barpolar": [
           {
            "marker": {
             "line": {
              "color": "white",
              "width": 0.5
             },
             "pattern": {
              "fillmode": "overlay",
              "size": 10,
              "solidity": 0.2
             }
            },
            "type": "barpolar"
           }
          ],
          "carpet": [
           {
            "aaxis": {
             "endlinecolor": "#2a3f5f",
             "gridcolor": "#C8D4E3",
             "linecolor": "#C8D4E3",
             "minorgridcolor": "#C8D4E3",
             "startlinecolor": "#2a3f5f"
            },
            "baxis": {
             "endlinecolor": "#2a3f5f",
             "gridcolor": "#C8D4E3",
             "linecolor": "#C8D4E3",
             "minorgridcolor": "#C8D4E3",
             "startlinecolor": "#2a3f5f"
            },
            "type": "carpet"
           }
          ],
          "choropleth": [
           {
            "colorbar": {
             "outlinewidth": 0,
             "ticks": ""
            },
            "type": "choropleth"
           }
          ],
          "contour": [
           {
            "colorbar": {
             "outlinewidth": 0,
             "ticks": ""
            },
            "colorscale": [
             [
              0,
              "#0d0887"
             ],
             [
              0.1111111111111111,
              "#46039f"
             ],
             [
              0.2222222222222222,
              "#7201a8"
             ],
             [
              0.3333333333333333,
              "#9c179e"
             ],
             [
              0.4444444444444444,
              "#bd3786"
             ],
             [
              0.5555555555555556,
              "#d8576b"
             ],
             [
              0.6666666666666666,
              "#ed7953"
             ],
             [
              0.7777777777777778,
              "#fb9f3a"
             ],
             [
              0.8888888888888888,
              "#fdca26"
             ],
             [
              1,
              "#f0f921"
             ]
            ],
            "type": "contour"
           }
          ],
          "contourcarpet": [
           {
            "colorbar": {
             "outlinewidth": 0,
             "ticks": ""
            },
            "type": "contourcarpet"
           }
          ],
          "heatmap": [
           {
            "colorbar": {
             "outlinewidth": 0,
             "ticks": ""
            },
            "colorscale": [
             [
              0,
              "#0d0887"
             ],
             [
              0.1111111111111111,
              "#46039f"
             ],
             [
              0.2222222222222222,
              "#7201a8"
             ],
             [
              0.3333333333333333,
              "#9c179e"
             ],
             [
              0.4444444444444444,
              "#bd3786"
             ],
             [
              0.5555555555555556,
              "#d8576b"
             ],
             [
              0.6666666666666666,
              "#ed7953"
             ],
             [
              0.7777777777777778,
              "#fb9f3a"
             ],
             [
              0.8888888888888888,
              "#fdca26"
             ],
             [
              1,
              "#f0f921"
             ]
            ],
            "type": "heatmap"
           }
          ],
          "heatmapgl": [
           {
            "colorbar": {
             "outlinewidth": 0,
             "ticks": ""
            },
            "colorscale": [
             [
              0,
              "#0d0887"
             ],
             [
              0.1111111111111111,
              "#46039f"
             ],
             [
              0.2222222222222222,
              "#7201a8"
             ],
             [
              0.3333333333333333,
              "#9c179e"
             ],
             [
              0.4444444444444444,
              "#bd3786"
             ],
             [
              0.5555555555555556,
              "#d8576b"
             ],
             [
              0.6666666666666666,
              "#ed7953"
             ],
             [
              0.7777777777777778,
              "#fb9f3a"
             ],
             [
              0.8888888888888888,
              "#fdca26"
             ],
             [
              1,
              "#f0f921"
             ]
            ],
            "type": "heatmapgl"
           }
          ],
          "histogram": [
           {
            "marker": {
             "pattern": {
              "fillmode": "overlay",
              "size": 10,
              "solidity": 0.2
             }
            },
            "type": "histogram"
           }
          ],
          "histogram2d": [
           {
            "colorbar": {
             "outlinewidth": 0,
             "ticks": ""
            },
            "colorscale": [
             [
              0,
              "#0d0887"
             ],
             [
              0.1111111111111111,
              "#46039f"
             ],
             [
              0.2222222222222222,
              "#7201a8"
             ],
             [
              0.3333333333333333,
              "#9c179e"
             ],
             [
              0.4444444444444444,
              "#bd3786"
             ],
             [
              0.5555555555555556,
              "#d8576b"
             ],
             [
              0.6666666666666666,
              "#ed7953"
             ],
             [
              0.7777777777777778,
              "#fb9f3a"
             ],
             [
              0.8888888888888888,
              "#fdca26"
             ],
             [
              1,
              "#f0f921"
             ]
            ],
            "type": "histogram2d"
           }
          ],
          "histogram2dcontour": [
           {
            "colorbar": {
             "outlinewidth": 0,
             "ticks": ""
            },
            "colorscale": [
             [
              0,
              "#0d0887"
             ],
             [
              0.1111111111111111,
              "#46039f"
             ],
             [
              0.2222222222222222,
              "#7201a8"
             ],
             [
              0.3333333333333333,
              "#9c179e"
             ],
             [
              0.4444444444444444,
              "#bd3786"
             ],
             [
              0.5555555555555556,
              "#d8576b"
             ],
             [
              0.6666666666666666,
              "#ed7953"
             ],
             [
              0.7777777777777778,
              "#fb9f3a"
             ],
             [
              0.8888888888888888,
              "#fdca26"
             ],
             [
              1,
              "#f0f921"
             ]
            ],
            "type": "histogram2dcontour"
           }
          ],
          "mesh3d": [
           {
            "colorbar": {
             "outlinewidth": 0,
             "ticks": ""
            },
            "type": "mesh3d"
           }
          ],
          "parcoords": [
           {
            "line": {
             "colorbar": {
              "outlinewidth": 0,
              "ticks": ""
             }
            },
            "type": "parcoords"
           }
          ],
          "pie": [
           {
            "automargin": true,
            "type": "pie"
           }
          ],
          "scatter": [
           {
            "fillpattern": {
             "fillmode": "overlay",
             "size": 10,
             "solidity": 0.2
            },
            "type": "scatter"
           }
          ],
          "scatter3d": [
           {
            "line": {
             "colorbar": {
              "outlinewidth": 0,
              "ticks": ""
             }
            },
            "marker": {
             "colorbar": {
              "outlinewidth": 0,
              "ticks": ""
             }
            },
            "type": "scatter3d"
           }
          ],
          "scattercarpet": [
           {
            "marker": {
             "colorbar": {
              "outlinewidth": 0,
              "ticks": ""
             }
            },
            "type": "scattercarpet"
           }
          ],
          "scattergeo": [
           {
            "marker": {
             "colorbar": {
              "outlinewidth": 0,
              "ticks": ""
             }
            },
            "type": "scattergeo"
           }
          ],
          "scattergl": [
           {
            "marker": {
             "colorbar": {
              "outlinewidth": 0,
              "ticks": ""
             }
            },
            "type": "scattergl"
           }
          ],
          "scattermapbox": [
           {
            "marker": {
             "colorbar": {
              "outlinewidth": 0,
              "ticks": ""
             }
            },
            "type": "scattermapbox"
           }
          ],
          "scatterpolar": [
           {
            "marker": {
             "colorbar": {
              "outlinewidth": 0,
              "ticks": ""
             }
            },
            "type": "scatterpolar"
           }
          ],
          "scatterpolargl": [
           {
            "marker": {
             "colorbar": {
              "outlinewidth": 0,
              "ticks": ""
             }
            },
            "type": "scatterpolargl"
           }
          ],
          "scatterternary": [
           {
            "marker": {
             "colorbar": {
              "outlinewidth": 0,
              "ticks": ""
             }
            },
            "type": "scatterternary"
           }
          ],
          "surface": [
           {
            "colorbar": {
             "outlinewidth": 0,
             "ticks": ""
            },
            "colorscale": [
             [
              0,
              "#0d0887"
             ],
             [
              0.1111111111111111,
              "#46039f"
             ],
             [
              0.2222222222222222,
              "#7201a8"
             ],
             [
              0.3333333333333333,
              "#9c179e"
             ],
             [
              0.4444444444444444,
              "#bd3786"
             ],
             [
              0.5555555555555556,
              "#d8576b"
             ],
             [
              0.6666666666666666,
              "#ed7953"
             ],
             [
              0.7777777777777778,
              "#fb9f3a"
             ],
             [
              0.8888888888888888,
              "#fdca26"
             ],
             [
              1,
              "#f0f921"
             ]
            ],
            "type": "surface"
           }
          ],
          "table": [
           {
            "cells": {
             "fill": {
              "color": "#EBF0F8"
             },
             "line": {
              "color": "white"
             }
            },
            "header": {
             "fill": {
              "color": "#C8D4E3"
             },
             "line": {
              "color": "white"
             }
            },
            "type": "table"
           }
          ]
         },
         "layout": {
          "annotationdefaults": {
           "arrowcolor": "#2a3f5f",
           "arrowhead": 0,
           "arrowwidth": 1
          },
          "autotypenumbers": "strict",
          "coloraxis": {
           "colorbar": {
            "outlinewidth": 0,
            "ticks": ""
           }
          },
          "colorscale": {
           "diverging": [
            [
             0,
             "#8e0152"
            ],
            [
             0.1,
             "#c51b7d"
            ],
            [
             0.2,
             "#de77ae"
            ],
            [
             0.3,
             "#f1b6da"
            ],
            [
             0.4,
             "#fde0ef"
            ],
            [
             0.5,
             "#f7f7f7"
            ],
            [
             0.6,
             "#e6f5d0"
            ],
            [
             0.7,
             "#b8e186"
            ],
            [
             0.8,
             "#7fbc41"
            ],
            [
             0.9,
             "#4d9221"
            ],
            [
             1,
             "#276419"
            ]
           ],
           "sequential": [
            [
             0,
             "#0d0887"
            ],
            [
             0.1111111111111111,
             "#46039f"
            ],
            [
             0.2222222222222222,
             "#7201a8"
            ],
            [
             0.3333333333333333,
             "#9c179e"
            ],
            [
             0.4444444444444444,
             "#bd3786"
            ],
            [
             0.5555555555555556,
             "#d8576b"
            ],
            [
             0.6666666666666666,
             "#ed7953"
            ],
            [
             0.7777777777777778,
             "#fb9f3a"
            ],
            [
             0.8888888888888888,
             "#fdca26"
            ],
            [
             1,
             "#f0f921"
            ]
           ],
           "sequentialminus": [
            [
             0,
             "#0d0887"
            ],
            [
             0.1111111111111111,
             "#46039f"
            ],
            [
             0.2222222222222222,
             "#7201a8"
            ],
            [
             0.3333333333333333,
             "#9c179e"
            ],
            [
             0.4444444444444444,
             "#bd3786"
            ],
            [
             0.5555555555555556,
             "#d8576b"
            ],
            [
             0.6666666666666666,
             "#ed7953"
            ],
            [
             0.7777777777777778,
             "#fb9f3a"
            ],
            [
             0.8888888888888888,
             "#fdca26"
            ],
            [
             1,
             "#f0f921"
            ]
           ]
          },
          "colorway": [
           "#636efa",
           "#EF553B",
           "#00cc96",
           "#ab63fa",
           "#FFA15A",
           "#19d3f3",
           "#FF6692",
           "#B6E880",
           "#FF97FF",
           "#FECB52"
          ],
          "font": {
           "color": "#2a3f5f"
          },
          "geo": {
           "bgcolor": "white",
           "lakecolor": "white",
           "landcolor": "white",
           "showlakes": true,
           "showland": true,
           "subunitcolor": "#C8D4E3"
          },
          "hoverlabel": {
           "align": "left"
          },
          "hovermode": "closest",
          "mapbox": {
           "style": "light"
          },
          "paper_bgcolor": "white",
          "plot_bgcolor": "white",
          "polar": {
           "angularaxis": {
            "gridcolor": "#EBF0F8",
            "linecolor": "#EBF0F8",
            "ticks": ""
           },
           "bgcolor": "white",
           "radialaxis": {
            "gridcolor": "#EBF0F8",
            "linecolor": "#EBF0F8",
            "ticks": ""
           }
          },
          "scene": {
           "xaxis": {
            "backgroundcolor": "white",
            "gridcolor": "#DFE8F3",
            "gridwidth": 2,
            "linecolor": "#EBF0F8",
            "showbackground": true,
            "ticks": "",
            "zerolinecolor": "#EBF0F8"
           },
           "yaxis": {
            "backgroundcolor": "white",
            "gridcolor": "#DFE8F3",
            "gridwidth": 2,
            "linecolor": "#EBF0F8",
            "showbackground": true,
            "ticks": "",
            "zerolinecolor": "#EBF0F8"
           },
           "zaxis": {
            "backgroundcolor": "white",
            "gridcolor": "#DFE8F3",
            "gridwidth": 2,
            "linecolor": "#EBF0F8",
            "showbackground": true,
            "ticks": "",
            "zerolinecolor": "#EBF0F8"
           }
          },
          "shapedefaults": {
           "line": {
            "color": "#2a3f5f"
           }
          },
          "ternary": {
           "aaxis": {
            "gridcolor": "#DFE8F3",
            "linecolor": "#A2B1C6",
            "ticks": ""
           },
           "baxis": {
            "gridcolor": "#DFE8F3",
            "linecolor": "#A2B1C6",
            "ticks": ""
           },
           "bgcolor": "white",
           "caxis": {
            "gridcolor": "#DFE8F3",
            "linecolor": "#A2B1C6",
            "ticks": ""
           }
          },
          "title": {
           "x": 0.05
          },
          "xaxis": {
           "automargin": true,
           "gridcolor": "#EBF0F8",
           "linecolor": "#EBF0F8",
           "ticks": "",
           "title": {
            "standoff": 15
           },
           "zerolinecolor": "#EBF0F8",
           "zerolinewidth": 2
          },
          "yaxis": {
           "automargin": true,
           "gridcolor": "#EBF0F8",
           "linecolor": "#EBF0F8",
           "ticks": "",
           "title": {
            "standoff": 15
           },
           "zerolinecolor": "#EBF0F8",
           "zerolinewidth": 2
          }
         }
        },
        "width": 800,
        "xaxis": {
         "anchor": "y",
         "domain": [
          0,
          1
         ],
         "range": [
          0.33,
          0.67
         ],
         "title": {
          "text": "sMW>on-task                  sMW<on-task"
         }
        },
        "yaxis": {
         "anchor": "x",
         "domain": [
          0,
          1
         ],
         "showticklabels": true,
         "tickmode": "linear",
         "title": {
          "text": "markers"
         }
        }
       }
      },
      "text/html": [
       "<div>                            <div id=\"c9983bb2-647e-437b-9985-f1f9bfc7c0ca\" class=\"plotly-graph-div\" style=\"height:1000px; width:800px;\"></div>            <script type=\"text/javascript\">                require([\"plotly\"], function(Plotly) {                    window.PLOTLYENV=window.PLOTLYENV || {};                                    if (document.getElementById(\"c9983bb2-647e-437b-9985-f1f9bfc7c0ca\")) {                    Plotly.newPlot(                        \"c9983bb2-647e-437b-9985-f1f9bfc7c0ca\",                        [{\"hovertemplate\":\"significant=p > 0.05<br>sMW>on-task                  sMW<on-task=%{x}<br>markers=%{y}<extra></extra>\",\"legendgroup\":\"p > 0.05\",\"marker\":{\"color\":\"#DE237B\",\"symbol\":\"circle-open\",\"size\":8},\"mode\":\"markers\",\"name\":\"p > 0.05\",\"orientation\":\"h\",\"showlegend\":true,\"x\":[0.42236306020823894,0.42258940697148034,0.42915346310547753,0.4298325033952014,0.43469895880488907,0.4434133091896786,0.4469216840199185,0.4481100045269352,0.4591444092349479,0.4602761430511543,0.47397012222725216,0.4753282028066998,0.4777048438207333,0.4787234042553191,0.4911724762335898,0.49230421004979624,0.4930964237211407,0.4988682661837935,0.5010185604345858,0.505998189225894,0.5082616568583069,0.5122227252150294,0.5217292892711634,0.5222951561792666,0.5233137166138525,0.523426889995473,0.5241059302851969,0.5242191036668176,0.5264825712992305,0.5296514259846085,0.5299909461294703,0.5329334540516071,0.5392711634223631,0.5406292440018108,0.5414214576731552,0.5415346310547758,0.5423268447261205,0.5527387958352196,0.5536441828881847,0.5550022634676324,0.5590765052059756,0.5620190131281123,0.5658669081032142,0.5667722951561792,0.5671684019918516],\"xaxis\":\"x\",\"y\":[\"$SE_{mean}$\",\"$|\\\\alpha|_{mean}$\",\"$PE\\\\alpha_{mean}$\",\"$PE\\\\theta_{mean}$\",\"$SEF90_{mean}$\",\"$SEF95_{mean}$\",\"$|\\\\gamma|_{mean}$\",\"$K_{mean}$\",\"$P3b_{std}$\",\"$P1_{std}$\",\"$\\\\gamma_{mean}$\",\"$\\\\beta_{mean}$\",\"$\\\\theta_{std}$\",\"$PE\\\\gamma_{mean}$\",\"$PE\\\\beta_{mean}$\",\"$wSMI\\\\theta_{std}$\",\"$|\\\\alpha|_{std}$\",\"$\\\\alpha_{mean}$\",\"$wSMI\\\\alpha_{std}$\",\"$PE\\\\theta_{std}$\",\"$wSMI\\\\beta_{std}$\",\"$PE\\\\alpha_{std}$\",\"$|\\\\beta|_{std}$\",\"$CNV_{std}$\",\"$PE\\\\beta_{std}$\",\"$SEF90_{std}$\",\"$|\\\\delta|_{mean}$\",\"$wSMI\\\\gamma_{mean}$\",\"$|\\\\delta|_{std}$\",\"$SEF95_{std}$\",\"$\\\\delta_{std}$\",\"$P3a_{std}$\",\"$\\\\delta_{mean}$\",\"$|\\\\gamma|_{std}$\",\"$|\\\\theta|_{std}$\",\"$P3a_{mean}$\",\"$\\\\beta_{std}$\",\"$P3b_{mean}$\",\"$wSMI\\\\beta_{mean}$\",\"$wSMI\\\\theta_{mean}$\",\"$PE\\\\gamma_{std}$\",\"$MSF_{std}$\",\"$\\\\gamma_{std}$\",\"$wSMI\\\\alpha_{mean}$\",\"$K_{std}$\"],\"yaxis\":\"y\",\"type\":\"scatter\"},{\"hovertemplate\":\"significant=p < 0.05 uncorrected<br>sMW>on-task                  sMW<on-task=%{x}<br>markers=%{y}<extra></extra>\",\"legendgroup\":\"p < 0.05 uncorrected\",\"marker\":{\"color\":\"#DE237B\",\"symbol\":\"circle\",\"size\":8},\"mode\":\"markers\",\"name\":\"p < 0.05 uncorrected\",\"orientation\":\"h\",\"showlegend\":true,\"x\":[0.39565414214576733,0.39995473064735176,0.4135355364418289,0.4137618832050701,0.5830692621095518,0.6044590312358533,0.6189452240832957],\"xaxis\":\"x\",\"y\":[\"$CNV_{mean}$\",\"$MSF_{mean}$\",\"$\\\\alpha_{std}$\",\"$|\\\\beta|_{mean}$\",\"$wSMI\\\\gamma_{std}$\",\"$\\\\theta_{mean}$\",\"$SE_{std}$\"],\"yaxis\":\"y\",\"type\":\"scatter\"},{\"hovertemplate\":\"significant=p < 0.05 FDR corrected<br>sMW>on-task                  sMW<on-task=%{x}<br>markers=%{y}<extra></extra>\",\"legendgroup\":\"p < 0.05 FDR corrected\",\"marker\":{\"color\":\"#DE237B\",\"symbol\":\"hexagram\",\"size\":8},\"mode\":\"markers\",\"name\":\"p < 0.05 FDR corrected\",\"orientation\":\"h\",\"showlegend\":true,\"x\":[0.6418062471706655,0.6458804889090085],\"xaxis\":\"x\",\"y\":[\"$P1_{mean}$\",\"$|\\\\theta|_{mean}$\"],\"yaxis\":\"y\",\"type\":\"scatter\"}],                        {\"template\":{\"data\":{\"barpolar\":[{\"marker\":{\"line\":{\"color\":\"white\",\"width\":0.5},\"pattern\":{\"fillmode\":\"overlay\",\"size\":10,\"solidity\":0.2}},\"type\":\"barpolar\"}],\"bar\":[{\"error_x\":{\"color\":\"#2a3f5f\"},\"error_y\":{\"color\":\"#2a3f5f\"},\"marker\":{\"line\":{\"color\":\"white\",\"width\":0.5},\"pattern\":{\"fillmode\":\"overlay\",\"size\":10,\"solidity\":0.2}},\"type\":\"bar\"}],\"carpet\":[{\"aaxis\":{\"endlinecolor\":\"#2a3f5f\",\"gridcolor\":\"#C8D4E3\",\"linecolor\":\"#C8D4E3\",\"minorgridcolor\":\"#C8D4E3\",\"startlinecolor\":\"#2a3f5f\"},\"baxis\":{\"endlinecolor\":\"#2a3f5f\",\"gridcolor\":\"#C8D4E3\",\"linecolor\":\"#C8D4E3\",\"minorgridcolor\":\"#C8D4E3\",\"startlinecolor\":\"#2a3f5f\"},\"type\":\"carpet\"}],\"choropleth\":[{\"colorbar\":{\"outlinewidth\":0,\"ticks\":\"\"},\"type\":\"choropleth\"}],\"contourcarpet\":[{\"colorbar\":{\"outlinewidth\":0,\"ticks\":\"\"},\"type\":\"contourcarpet\"}],\"contour\":[{\"colorbar\":{\"outlinewidth\":0,\"ticks\":\"\"},\"colorscale\":[[0.0,\"#0d0887\"],[0.1111111111111111,\"#46039f\"],[0.2222222222222222,\"#7201a8\"],[0.3333333333333333,\"#9c179e\"],[0.4444444444444444,\"#bd3786\"],[0.5555555555555556,\"#d8576b\"],[0.6666666666666666,\"#ed7953\"],[0.7777777777777778,\"#fb9f3a\"],[0.8888888888888888,\"#fdca26\"],[1.0,\"#f0f921\"]],\"type\":\"contour\"}],\"heatmapgl\":[{\"colorbar\":{\"outlinewidth\":0,\"ticks\":\"\"},\"colorscale\":[[0.0,\"#0d0887\"],[0.1111111111111111,\"#46039f\"],[0.2222222222222222,\"#7201a8\"],[0.3333333333333333,\"#9c179e\"],[0.4444444444444444,\"#bd3786\"],[0.5555555555555556,\"#d8576b\"],[0.6666666666666666,\"#ed7953\"],[0.7777777777777778,\"#fb9f3a\"],[0.8888888888888888,\"#fdca26\"],[1.0,\"#f0f921\"]],\"type\":\"heatmapgl\"}],\"heatmap\":[{\"colorbar\":{\"outlinewidth\":0,\"ticks\":\"\"},\"colorscale\":[[0.0,\"#0d0887\"],[0.1111111111111111,\"#46039f\"],[0.2222222222222222,\"#7201a8\"],[0.3333333333333333,\"#9c179e\"],[0.4444444444444444,\"#bd3786\"],[0.5555555555555556,\"#d8576b\"],[0.6666666666666666,\"#ed7953\"],[0.7777777777777778,\"#fb9f3a\"],[0.8888888888888888,\"#fdca26\"],[1.0,\"#f0f921\"]],\"type\":\"heatmap\"}],\"histogram2dcontour\":[{\"colorbar\":{\"outlinewidth\":0,\"ticks\":\"\"},\"colorscale\":[[0.0,\"#0d0887\"],[0.1111111111111111,\"#46039f\"],[0.2222222222222222,\"#7201a8\"],[0.3333333333333333,\"#9c179e\"],[0.4444444444444444,\"#bd3786\"],[0.5555555555555556,\"#d8576b\"],[0.6666666666666666,\"#ed7953\"],[0.7777777777777778,\"#fb9f3a\"],[0.8888888888888888,\"#fdca26\"],[1.0,\"#f0f921\"]],\"type\":\"histogram2dcontour\"}],\"histogram2d\":[{\"colorbar\":{\"outlinewidth\":0,\"ticks\":\"\"},\"colorscale\":[[0.0,\"#0d0887\"],[0.1111111111111111,\"#46039f\"],[0.2222222222222222,\"#7201a8\"],[0.3333333333333333,\"#9c179e\"],[0.4444444444444444,\"#bd3786\"],[0.5555555555555556,\"#d8576b\"],[0.6666666666666666,\"#ed7953\"],[0.7777777777777778,\"#fb9f3a\"],[0.8888888888888888,\"#fdca26\"],[1.0,\"#f0f921\"]],\"type\":\"histogram2d\"}],\"histogram\":[{\"marker\":{\"pattern\":{\"fillmode\":\"overlay\",\"size\":10,\"solidity\":0.2}},\"type\":\"histogram\"}],\"mesh3d\":[{\"colorbar\":{\"outlinewidth\":0,\"ticks\":\"\"},\"type\":\"mesh3d\"}],\"parcoords\":[{\"line\":{\"colorbar\":{\"outlinewidth\":0,\"ticks\":\"\"}},\"type\":\"parcoords\"}],\"pie\":[{\"automargin\":true,\"type\":\"pie\"}],\"scatter3d\":[{\"line\":{\"colorbar\":{\"outlinewidth\":0,\"ticks\":\"\"}},\"marker\":{\"colorbar\":{\"outlinewidth\":0,\"ticks\":\"\"}},\"type\":\"scatter3d\"}],\"scattercarpet\":[{\"marker\":{\"colorbar\":{\"outlinewidth\":0,\"ticks\":\"\"}},\"type\":\"scattercarpet\"}],\"scattergeo\":[{\"marker\":{\"colorbar\":{\"outlinewidth\":0,\"ticks\":\"\"}},\"type\":\"scattergeo\"}],\"scattergl\":[{\"marker\":{\"colorbar\":{\"outlinewidth\":0,\"ticks\":\"\"}},\"type\":\"scattergl\"}],\"scattermapbox\":[{\"marker\":{\"colorbar\":{\"outlinewidth\":0,\"ticks\":\"\"}},\"type\":\"scattermapbox\"}],\"scatterpolargl\":[{\"marker\":{\"colorbar\":{\"outlinewidth\":0,\"ticks\":\"\"}},\"type\":\"scatterpolargl\"}],\"scatterpolar\":[{\"marker\":{\"colorbar\":{\"outlinewidth\":0,\"ticks\":\"\"}},\"type\":\"scatterpolar\"}],\"scatter\":[{\"fillpattern\":{\"fillmode\":\"overlay\",\"size\":10,\"solidity\":0.2},\"type\":\"scatter\"}],\"scatterternary\":[{\"marker\":{\"colorbar\":{\"outlinewidth\":0,\"ticks\":\"\"}},\"type\":\"scatterternary\"}],\"surface\":[{\"colorbar\":{\"outlinewidth\":0,\"ticks\":\"\"},\"colorscale\":[[0.0,\"#0d0887\"],[0.1111111111111111,\"#46039f\"],[0.2222222222222222,\"#7201a8\"],[0.3333333333333333,\"#9c179e\"],[0.4444444444444444,\"#bd3786\"],[0.5555555555555556,\"#d8576b\"],[0.6666666666666666,\"#ed7953\"],[0.7777777777777778,\"#fb9f3a\"],[0.8888888888888888,\"#fdca26\"],[1.0,\"#f0f921\"]],\"type\":\"surface\"}],\"table\":[{\"cells\":{\"fill\":{\"color\":\"#EBF0F8\"},\"line\":{\"color\":\"white\"}},\"header\":{\"fill\":{\"color\":\"#C8D4E3\"},\"line\":{\"color\":\"white\"}},\"type\":\"table\"}]},\"layout\":{\"annotationdefaults\":{\"arrowcolor\":\"#2a3f5f\",\"arrowhead\":0,\"arrowwidth\":1},\"autotypenumbers\":\"strict\",\"coloraxis\":{\"colorbar\":{\"outlinewidth\":0,\"ticks\":\"\"}},\"colorscale\":{\"diverging\":[[0,\"#8e0152\"],[0.1,\"#c51b7d\"],[0.2,\"#de77ae\"],[0.3,\"#f1b6da\"],[0.4,\"#fde0ef\"],[0.5,\"#f7f7f7\"],[0.6,\"#e6f5d0\"],[0.7,\"#b8e186\"],[0.8,\"#7fbc41\"],[0.9,\"#4d9221\"],[1,\"#276419\"]],\"sequential\":[[0.0,\"#0d0887\"],[0.1111111111111111,\"#46039f\"],[0.2222222222222222,\"#7201a8\"],[0.3333333333333333,\"#9c179e\"],[0.4444444444444444,\"#bd3786\"],[0.5555555555555556,\"#d8576b\"],[0.6666666666666666,\"#ed7953\"],[0.7777777777777778,\"#fb9f3a\"],[0.8888888888888888,\"#fdca26\"],[1.0,\"#f0f921\"]],\"sequentialminus\":[[0.0,\"#0d0887\"],[0.1111111111111111,\"#46039f\"],[0.2222222222222222,\"#7201a8\"],[0.3333333333333333,\"#9c179e\"],[0.4444444444444444,\"#bd3786\"],[0.5555555555555556,\"#d8576b\"],[0.6666666666666666,\"#ed7953\"],[0.7777777777777778,\"#fb9f3a\"],[0.8888888888888888,\"#fdca26\"],[1.0,\"#f0f921\"]]},\"colorway\":[\"#636efa\",\"#EF553B\",\"#00cc96\",\"#ab63fa\",\"#FFA15A\",\"#19d3f3\",\"#FF6692\",\"#B6E880\",\"#FF97FF\",\"#FECB52\"],\"font\":{\"color\":\"#2a3f5f\"},\"geo\":{\"bgcolor\":\"white\",\"lakecolor\":\"white\",\"landcolor\":\"white\",\"showlakes\":true,\"showland\":true,\"subunitcolor\":\"#C8D4E3\"},\"hoverlabel\":{\"align\":\"left\"},\"hovermode\":\"closest\",\"mapbox\":{\"style\":\"light\"},\"paper_bgcolor\":\"white\",\"plot_bgcolor\":\"white\",\"polar\":{\"angularaxis\":{\"gridcolor\":\"#EBF0F8\",\"linecolor\":\"#EBF0F8\",\"ticks\":\"\"},\"bgcolor\":\"white\",\"radialaxis\":{\"gridcolor\":\"#EBF0F8\",\"linecolor\":\"#EBF0F8\",\"ticks\":\"\"}},\"scene\":{\"xaxis\":{\"backgroundcolor\":\"white\",\"gridcolor\":\"#DFE8F3\",\"gridwidth\":2,\"linecolor\":\"#EBF0F8\",\"showbackground\":true,\"ticks\":\"\",\"zerolinecolor\":\"#EBF0F8\"},\"yaxis\":{\"backgroundcolor\":\"white\",\"gridcolor\":\"#DFE8F3\",\"gridwidth\":2,\"linecolor\":\"#EBF0F8\",\"showbackground\":true,\"ticks\":\"\",\"zerolinecolor\":\"#EBF0F8\"},\"zaxis\":{\"backgroundcolor\":\"white\",\"gridcolor\":\"#DFE8F3\",\"gridwidth\":2,\"linecolor\":\"#EBF0F8\",\"showbackground\":true,\"ticks\":\"\",\"zerolinecolor\":\"#EBF0F8\"}},\"shapedefaults\":{\"line\":{\"color\":\"#2a3f5f\"}},\"ternary\":{\"aaxis\":{\"gridcolor\":\"#DFE8F3\",\"linecolor\":\"#A2B1C6\",\"ticks\":\"\"},\"baxis\":{\"gridcolor\":\"#DFE8F3\",\"linecolor\":\"#A2B1C6\",\"ticks\":\"\"},\"bgcolor\":\"white\",\"caxis\":{\"gridcolor\":\"#DFE8F3\",\"linecolor\":\"#A2B1C6\",\"ticks\":\"\"}},\"title\":{\"x\":0.05},\"xaxis\":{\"automargin\":true,\"gridcolor\":\"#EBF0F8\",\"linecolor\":\"#EBF0F8\",\"ticks\":\"\",\"title\":{\"standoff\":15},\"zerolinecolor\":\"#EBF0F8\",\"zerolinewidth\":2},\"yaxis\":{\"automargin\":true,\"gridcolor\":\"#EBF0F8\",\"linecolor\":\"#EBF0F8\",\"ticks\":\"\",\"title\":{\"standoff\":15},\"zerolinecolor\":\"#EBF0F8\",\"zerolinewidth\":2}}},\"xaxis\":{\"anchor\":\"y\",\"domain\":[0.0,1.0],\"title\":{\"text\":\"sMW>on-task                  sMW<on-task\"},\"range\":[0.33,0.67]},\"yaxis\":{\"anchor\":\"x\",\"domain\":[0.0,1.0],\"title\":{\"text\":\"markers\"},\"showticklabels\":true,\"tickmode\":\"linear\"},\"legend\":{\"title\":{\"text\":\"significant\"},\"tracegroupgap\":0},\"margin\":{\"t\":60},\"shapes\":[{\"line\":{\"color\":\"black\",\"dash\":\"dash\",\"width\":3},\"type\":\"line\",\"x0\":0.5,\"x1\":0.5,\"xref\":\"x\",\"y0\":0,\"y1\":1,\"yref\":\"y domain\"}],\"autosize\":false,\"width\":800,\"height\":1000},                        {\"responsive\": true}                    ).then(function(){\n",
       "                            \n",
       "var gd = document.getElementById('c9983bb2-647e-437b-9985-f1f9bfc7c0ca');\n",
       "var x = new MutationObserver(function (mutations, observer) {{\n",
       "        var display = window.getComputedStyle(gd).display;\n",
       "        if (!display || display === 'none') {{\n",
       "            console.log([gd, 'removed!']);\n",
       "            Plotly.purge(gd);\n",
       "            observer.disconnect();\n",
       "        }}\n",
       "}});\n",
       "\n",
       "// Listen for the removal of the full notebook cells\n",
       "var notebookContainer = gd.closest('#notebook-container');\n",
       "if (notebookContainer) {{\n",
       "    x.observe(notebookContainer, {childList: true});\n",
       "}}\n",
       "\n",
       "// Listen for the clearing of the current output cell\n",
       "var outputEl = gd.closest('.output');\n",
       "if (outputEl) {{\n",
       "    x.observe(outputEl, {childList: true});\n",
       "}}\n",
       "\n",
       "                        })                };                });            </script>        </div>"
      ]
     },
     "metadata": {},
     "output_type": "display_data"
    }
   ],
   "source": [
    "# segment_mind_roc = pd.read_csv('Data/univariate_roc_mind_segment.csv')\n",
    "ot_contrasts = ['about-task vs on-task','distracted vs on-task', 'dMW vs on-task', 'sMW vs on-task']\n",
    "\n",
    "\n",
    "plot_univariate(df = df_all_probe.query(\"balance == 'over-sample'\"), contrast = ot_contrasts[3], label =['sMW', 'on-task'] , color = pink)\n"
   ]
  },
  {
   "cell_type": "code",
   "execution_count": 26,
   "id": "failing-boundary",
   "metadata": {},
   "outputs": [],
   "source": [
    "def symbol_fun(x):\n",
    "    if  x== 'p < 0.05 FDR corrected':\n",
    "        symbols = 'hexagram' \n",
    "    elif x == 'p < 0.05 uncorrected':\n",
    "        symbols = 'circle'\n",
    "    else:\n",
    "        symbols = 'circle-open'\n",
    "            \n",
    "    return symbols"
   ]
  },
  {
   "cell_type": "code",
   "execution_count": 27,
   "id": "round-moderator",
   "metadata": {},
   "outputs": [],
   "source": [
    "def hex_to_rgb(hex_color: str) -> tuple:\n",
    "    hex_color = hex_color.lstrip(\"#\")\n",
    "    if len(hex_color) == 3:\n",
    "        hex_color = hex_color * 2\n",
    "    return int(hex_color[0:2], 16), int(hex_color[2:4], 16), int(hex_color[4:6], 16)"
   ]
  },
  {
   "cell_type": "code",
   "execution_count": 28,
   "id": "interracial-tonight",
   "metadata": {},
   "outputs": [
    {
     "data": {
      "application/vnd.plotly.v1+json": {
       "config": {
        "plotlyServerURL": "https://plot.ly"
       },
       "data": [
        {
         "line": {
          "color": "grey",
          "dash": "dash",
          "width": 2
         },
         "mode": "lines+markers",
         "name": "Chance: AUC = 0.5",
         "r": [
          0.5,
          0.5,
          0.5,
          0.5,
          0.5,
          0.5
         ],
         "theta": [
          "$K_{std}$",
          "$|\\beta|_{mean}$",
          "$|\\theta|_{mean}$",
          "$|\\theta|_{std}$",
          "$CNV_{std}$",
          "$P1_{mean}$"
         ],
         "type": "scatterpolar"
        },
        {
         "fill": "toself",
         "fillcolor": "rgba(243, 138, 49, 0.2)",
         "marker": {
          "color": "#F38A31",
          "size": 10,
          "symbol": [
           "circle-open",
           "circle-open",
           "circle-open",
           "circle-open",
           "circle-open",
           "circle-open"
          ]
         },
         "mode": "lines+markers",
         "name": "about-task vs on-task",
         "r": [
          0.5261996378451788,
          0.4546174739701222,
          0.5696016296966954,
          0.5191263014938886,
          0.44443186962426434,
          0.5238795835219556
         ],
         "theta": [
          "$K_{std}$",
          "$|\\beta|_{mean}$",
          "$|\\theta|_{mean}$",
          "$|\\theta|_{std}$",
          "$CNV_{std}$",
          "$P1_{mean}$"
         ],
         "type": "scatterpolar"
        },
        {
         "fill": "toself",
         "fillcolor": "rgba(154, 197, 41, 0.2)",
         "marker": {
          "color": "#9AC529",
          "size": 10,
          "symbol": [
           "circle-open",
           "circle-open",
           "hexagram",
           "circle",
           "circle",
           "circle-open"
          ]
         },
         "mode": "lines+markers",
         "name": "distracted vs on-task",
         "r": [
          0.5346310547759168,
          0.4379809868718877,
          0.6412403802625622,
          0.6241511996378452,
          0.4075373472159348,
          0.47532820280669985
         ],
         "theta": [
          "$K_{std}$",
          "$|\\beta|_{mean}$",
          "$|\\theta|_{mean}$",
          "$|\\theta|_{std}$",
          "$CNV_{std}$",
          "$P1_{mean}$"
         ],
         "type": "scatterpolar"
        },
        {
         "fill": "toself",
         "fillcolor": "rgba(66, 185, 178, 0.2)",
         "marker": {
          "color": "#42B9B2",
          "size": 10,
          "symbol": [
           "hexagram",
           "hexagram",
           "circle",
           "hexagram",
           "hexagram",
           "circle-open"
          ]
         },
         "mode": "lines+markers",
         "name": "dTUT vs on-task",
         "r": [
          0.6400520597555455,
          0.349479402444545,
          0.6109099139882299,
          0.662856496152105,
          0.3740380262562245,
          0.5651878678134903
         ],
         "theta": [
          "$K_{std}$",
          "$|\\beta|_{mean}$",
          "$|\\theta|_{mean}$",
          "$|\\theta|_{std}$",
          "$CNV_{std}$",
          "$P1_{mean}$"
         ],
         "type": "scatterpolar"
        },
        {
         "fill": "toself",
         "fillcolor": "rgba(222, 35, 123, 0.2)",
         "marker": {
          "color": "#DE237B",
          "size": 10,
          "symbol": [
           "circle-open",
           "circle",
           "hexagram",
           "circle-open",
           "circle-open",
           "hexagram"
          ]
         },
         "mode": "lines+markers",
         "name": "sTUT vs on-task",
         "r": [
          0.5671684019918516,
          0.4137618832050701,
          0.6458804889090085,
          0.5414214576731552,
          0.5222951561792666,
          0.6418062471706655
         ],
         "theta": [
          "$K_{std}$",
          "$|\\beta|_{mean}$",
          "$|\\theta|_{mean}$",
          "$|\\theta|_{std}$",
          "$CNV_{std}$",
          "$P1_{mean}$"
         ],
         "type": "scatterpolar"
        }
       ],
       "layout": {
        "font": {
         "color": "black",
         "family": "Times new roman",
         "size": 25
        },
        "height": 800,
        "polar": {
         "angularaxis": {
          "tickfont": {
           "size": 40
          }
         },
         "radialaxis": {
          "range": [
           0.35,
           0.68
          ],
          "tickangle": 35,
          "tickfont": {
           "size": 10
          },
          "title": {
           "font": {
            "size": 15
           },
           "text": "AUC"
          },
          "visible": true
         }
        },
        "showlegend": true,
        "template": {
         "data": {
          "bar": [
           {
            "error_x": {
             "color": "#2a3f5f"
            },
            "error_y": {
             "color": "#2a3f5f"
            },
            "marker": {
             "line": {
              "color": "white",
              "width": 0.5
             },
             "pattern": {
              "fillmode": "overlay",
              "size": 10,
              "solidity": 0.2
             }
            },
            "type": "bar"
           }
          ],
          "barpolar": [
           {
            "marker": {
             "line": {
              "color": "white",
              "width": 0.5
             },
             "pattern": {
              "fillmode": "overlay",
              "size": 10,
              "solidity": 0.2
             }
            },
            "type": "barpolar"
           }
          ],
          "carpet": [
           {
            "aaxis": {
             "endlinecolor": "#2a3f5f",
             "gridcolor": "#C8D4E3",
             "linecolor": "#C8D4E3",
             "minorgridcolor": "#C8D4E3",
             "startlinecolor": "#2a3f5f"
            },
            "baxis": {
             "endlinecolor": "#2a3f5f",
             "gridcolor": "#C8D4E3",
             "linecolor": "#C8D4E3",
             "minorgridcolor": "#C8D4E3",
             "startlinecolor": "#2a3f5f"
            },
            "type": "carpet"
           }
          ],
          "choropleth": [
           {
            "colorbar": {
             "outlinewidth": 0,
             "ticks": ""
            },
            "type": "choropleth"
           }
          ],
          "contour": [
           {
            "colorbar": {
             "outlinewidth": 0,
             "ticks": ""
            },
            "colorscale": [
             [
              0,
              "#0d0887"
             ],
             [
              0.1111111111111111,
              "#46039f"
             ],
             [
              0.2222222222222222,
              "#7201a8"
             ],
             [
              0.3333333333333333,
              "#9c179e"
             ],
             [
              0.4444444444444444,
              "#bd3786"
             ],
             [
              0.5555555555555556,
              "#d8576b"
             ],
             [
              0.6666666666666666,
              "#ed7953"
             ],
             [
              0.7777777777777778,
              "#fb9f3a"
             ],
             [
              0.8888888888888888,
              "#fdca26"
             ],
             [
              1,
              "#f0f921"
             ]
            ],
            "type": "contour"
           }
          ],
          "contourcarpet": [
           {
            "colorbar": {
             "outlinewidth": 0,
             "ticks": ""
            },
            "type": "contourcarpet"
           }
          ],
          "heatmap": [
           {
            "colorbar": {
             "outlinewidth": 0,
             "ticks": ""
            },
            "colorscale": [
             [
              0,
              "#0d0887"
             ],
             [
              0.1111111111111111,
              "#46039f"
             ],
             [
              0.2222222222222222,
              "#7201a8"
             ],
             [
              0.3333333333333333,
              "#9c179e"
             ],
             [
              0.4444444444444444,
              "#bd3786"
             ],
             [
              0.5555555555555556,
              "#d8576b"
             ],
             [
              0.6666666666666666,
              "#ed7953"
             ],
             [
              0.7777777777777778,
              "#fb9f3a"
             ],
             [
              0.8888888888888888,
              "#fdca26"
             ],
             [
              1,
              "#f0f921"
             ]
            ],
            "type": "heatmap"
           }
          ],
          "heatmapgl": [
           {
            "colorbar": {
             "outlinewidth": 0,
             "ticks": ""
            },
            "colorscale": [
             [
              0,
              "#0d0887"
             ],
             [
              0.1111111111111111,
              "#46039f"
             ],
             [
              0.2222222222222222,
              "#7201a8"
             ],
             [
              0.3333333333333333,
              "#9c179e"
             ],
             [
              0.4444444444444444,
              "#bd3786"
             ],
             [
              0.5555555555555556,
              "#d8576b"
             ],
             [
              0.6666666666666666,
              "#ed7953"
             ],
             [
              0.7777777777777778,
              "#fb9f3a"
             ],
             [
              0.8888888888888888,
              "#fdca26"
             ],
             [
              1,
              "#f0f921"
             ]
            ],
            "type": "heatmapgl"
           }
          ],
          "histogram": [
           {
            "marker": {
             "pattern": {
              "fillmode": "overlay",
              "size": 10,
              "solidity": 0.2
             }
            },
            "type": "histogram"
           }
          ],
          "histogram2d": [
           {
            "colorbar": {
             "outlinewidth": 0,
             "ticks": ""
            },
            "colorscale": [
             [
              0,
              "#0d0887"
             ],
             [
              0.1111111111111111,
              "#46039f"
             ],
             [
              0.2222222222222222,
              "#7201a8"
             ],
             [
              0.3333333333333333,
              "#9c179e"
             ],
             [
              0.4444444444444444,
              "#bd3786"
             ],
             [
              0.5555555555555556,
              "#d8576b"
             ],
             [
              0.6666666666666666,
              "#ed7953"
             ],
             [
              0.7777777777777778,
              "#fb9f3a"
             ],
             [
              0.8888888888888888,
              "#fdca26"
             ],
             [
              1,
              "#f0f921"
             ]
            ],
            "type": "histogram2d"
           }
          ],
          "histogram2dcontour": [
           {
            "colorbar": {
             "outlinewidth": 0,
             "ticks": ""
            },
            "colorscale": [
             [
              0,
              "#0d0887"
             ],
             [
              0.1111111111111111,
              "#46039f"
             ],
             [
              0.2222222222222222,
              "#7201a8"
             ],
             [
              0.3333333333333333,
              "#9c179e"
             ],
             [
              0.4444444444444444,
              "#bd3786"
             ],
             [
              0.5555555555555556,
              "#d8576b"
             ],
             [
              0.6666666666666666,
              "#ed7953"
             ],
             [
              0.7777777777777778,
              "#fb9f3a"
             ],
             [
              0.8888888888888888,
              "#fdca26"
             ],
             [
              1,
              "#f0f921"
             ]
            ],
            "type": "histogram2dcontour"
           }
          ],
          "mesh3d": [
           {
            "colorbar": {
             "outlinewidth": 0,
             "ticks": ""
            },
            "type": "mesh3d"
           }
          ],
          "parcoords": [
           {
            "line": {
             "colorbar": {
              "outlinewidth": 0,
              "ticks": ""
             }
            },
            "type": "parcoords"
           }
          ],
          "pie": [
           {
            "automargin": true,
            "type": "pie"
           }
          ],
          "scatter": [
           {
            "fillpattern": {
             "fillmode": "overlay",
             "size": 10,
             "solidity": 0.2
            },
            "type": "scatter"
           }
          ],
          "scatter3d": [
           {
            "line": {
             "colorbar": {
              "outlinewidth": 0,
              "ticks": ""
             }
            },
            "marker": {
             "colorbar": {
              "outlinewidth": 0,
              "ticks": ""
             }
            },
            "type": "scatter3d"
           }
          ],
          "scattercarpet": [
           {
            "marker": {
             "colorbar": {
              "outlinewidth": 0,
              "ticks": ""
             }
            },
            "type": "scattercarpet"
           }
          ],
          "scattergeo": [
           {
            "marker": {
             "colorbar": {
              "outlinewidth": 0,
              "ticks": ""
             }
            },
            "type": "scattergeo"
           }
          ],
          "scattergl": [
           {
            "marker": {
             "colorbar": {
              "outlinewidth": 0,
              "ticks": ""
             }
            },
            "type": "scattergl"
           }
          ],
          "scattermapbox": [
           {
            "marker": {
             "colorbar": {
              "outlinewidth": 0,
              "ticks": ""
             }
            },
            "type": "scattermapbox"
           }
          ],
          "scatterpolar": [
           {
            "marker": {
             "colorbar": {
              "outlinewidth": 0,
              "ticks": ""
             }
            },
            "type": "scatterpolar"
           }
          ],
          "scatterpolargl": [
           {
            "marker": {
             "colorbar": {
              "outlinewidth": 0,
              "ticks": ""
             }
            },
            "type": "scatterpolargl"
           }
          ],
          "scatterternary": [
           {
            "marker": {
             "colorbar": {
              "outlinewidth": 0,
              "ticks": ""
             }
            },
            "type": "scatterternary"
           }
          ],
          "surface": [
           {
            "colorbar": {
             "outlinewidth": 0,
             "ticks": ""
            },
            "colorscale": [
             [
              0,
              "#0d0887"
             ],
             [
              0.1111111111111111,
              "#46039f"
             ],
             [
              0.2222222222222222,
              "#7201a8"
             ],
             [
              0.3333333333333333,
              "#9c179e"
             ],
             [
              0.4444444444444444,
              "#bd3786"
             ],
             [
              0.5555555555555556,
              "#d8576b"
             ],
             [
              0.6666666666666666,
              "#ed7953"
             ],
             [
              0.7777777777777778,
              "#fb9f3a"
             ],
             [
              0.8888888888888888,
              "#fdca26"
             ],
             [
              1,
              "#f0f921"
             ]
            ],
            "type": "surface"
           }
          ],
          "table": [
           {
            "cells": {
             "fill": {
              "color": "#EBF0F8"
             },
             "line": {
              "color": "white"
             }
            },
            "header": {
             "fill": {
              "color": "#C8D4E3"
             },
             "line": {
              "color": "white"
             }
            },
            "type": "table"
           }
          ]
         },
         "layout": {
          "annotationdefaults": {
           "arrowcolor": "#2a3f5f",
           "arrowhead": 0,
           "arrowwidth": 1
          },
          "autotypenumbers": "strict",
          "coloraxis": {
           "colorbar": {
            "outlinewidth": 0,
            "ticks": ""
           }
          },
          "colorscale": {
           "diverging": [
            [
             0,
             "#8e0152"
            ],
            [
             0.1,
             "#c51b7d"
            ],
            [
             0.2,
             "#de77ae"
            ],
            [
             0.3,
             "#f1b6da"
            ],
            [
             0.4,
             "#fde0ef"
            ],
            [
             0.5,
             "#f7f7f7"
            ],
            [
             0.6,
             "#e6f5d0"
            ],
            [
             0.7,
             "#b8e186"
            ],
            [
             0.8,
             "#7fbc41"
            ],
            [
             0.9,
             "#4d9221"
            ],
            [
             1,
             "#276419"
            ]
           ],
           "sequential": [
            [
             0,
             "#0d0887"
            ],
            [
             0.1111111111111111,
             "#46039f"
            ],
            [
             0.2222222222222222,
             "#7201a8"
            ],
            [
             0.3333333333333333,
             "#9c179e"
            ],
            [
             0.4444444444444444,
             "#bd3786"
            ],
            [
             0.5555555555555556,
             "#d8576b"
            ],
            [
             0.6666666666666666,
             "#ed7953"
            ],
            [
             0.7777777777777778,
             "#fb9f3a"
            ],
            [
             0.8888888888888888,
             "#fdca26"
            ],
            [
             1,
             "#f0f921"
            ]
           ],
           "sequentialminus": [
            [
             0,
             "#0d0887"
            ],
            [
             0.1111111111111111,
             "#46039f"
            ],
            [
             0.2222222222222222,
             "#7201a8"
            ],
            [
             0.3333333333333333,
             "#9c179e"
            ],
            [
             0.4444444444444444,
             "#bd3786"
            ],
            [
             0.5555555555555556,
             "#d8576b"
            ],
            [
             0.6666666666666666,
             "#ed7953"
            ],
            [
             0.7777777777777778,
             "#fb9f3a"
            ],
            [
             0.8888888888888888,
             "#fdca26"
            ],
            [
             1,
             "#f0f921"
            ]
           ]
          },
          "colorway": [
           "#636efa",
           "#EF553B",
           "#00cc96",
           "#ab63fa",
           "#FFA15A",
           "#19d3f3",
           "#FF6692",
           "#B6E880",
           "#FF97FF",
           "#FECB52"
          ],
          "font": {
           "color": "#2a3f5f"
          },
          "geo": {
           "bgcolor": "white",
           "lakecolor": "white",
           "landcolor": "white",
           "showlakes": true,
           "showland": true,
           "subunitcolor": "#C8D4E3"
          },
          "hoverlabel": {
           "align": "left"
          },
          "hovermode": "closest",
          "mapbox": {
           "style": "light"
          },
          "paper_bgcolor": "white",
          "plot_bgcolor": "white",
          "polar": {
           "angularaxis": {
            "gridcolor": "#EBF0F8",
            "linecolor": "#EBF0F8",
            "ticks": ""
           },
           "bgcolor": "white",
           "radialaxis": {
            "gridcolor": "#EBF0F8",
            "linecolor": "#EBF0F8",
            "ticks": ""
           }
          },
          "scene": {
           "xaxis": {
            "backgroundcolor": "white",
            "gridcolor": "#DFE8F3",
            "gridwidth": 2,
            "linecolor": "#EBF0F8",
            "showbackground": true,
            "ticks": "",
            "zerolinecolor": "#EBF0F8"
           },
           "yaxis": {
            "backgroundcolor": "white",
            "gridcolor": "#DFE8F3",
            "gridwidth": 2,
            "linecolor": "#EBF0F8",
            "showbackground": true,
            "ticks": "",
            "zerolinecolor": "#EBF0F8"
           },
           "zaxis": {
            "backgroundcolor": "white",
            "gridcolor": "#DFE8F3",
            "gridwidth": 2,
            "linecolor": "#EBF0F8",
            "showbackground": true,
            "ticks": "",
            "zerolinecolor": "#EBF0F8"
           }
          },
          "shapedefaults": {
           "line": {
            "color": "#2a3f5f"
           }
          },
          "ternary": {
           "aaxis": {
            "gridcolor": "#DFE8F3",
            "linecolor": "#A2B1C6",
            "ticks": ""
           },
           "baxis": {
            "gridcolor": "#DFE8F3",
            "linecolor": "#A2B1C6",
            "ticks": ""
           },
           "bgcolor": "white",
           "caxis": {
            "gridcolor": "#DFE8F3",
            "linecolor": "#A2B1C6",
            "ticks": ""
           }
          },
          "title": {
           "x": 0.05
          },
          "xaxis": {
           "automargin": true,
           "gridcolor": "#EBF0F8",
           "linecolor": "#EBF0F8",
           "ticks": "",
           "title": {
            "standoff": 15
           },
           "zerolinecolor": "#EBF0F8",
           "zerolinewidth": 2
          },
          "yaxis": {
           "automargin": true,
           "gridcolor": "#EBF0F8",
           "linecolor": "#EBF0F8",
           "ticks": "",
           "title": {
            "standoff": 15
           },
           "zerolinecolor": "#EBF0F8",
           "zerolinewidth": 2
          }
         }
        },
        "width": 800
       }
      },
      "text/html": [
       "<div>                            <div id=\"b377f59a-4790-4a88-9ad5-88c0c939dcb3\" class=\"plotly-graph-div\" style=\"height:800px; width:800px;\"></div>            <script type=\"text/javascript\">                require([\"plotly\"], function(Plotly) {                    window.PLOTLYENV=window.PLOTLYENV || {};                                    if (document.getElementById(\"b377f59a-4790-4a88-9ad5-88c0c939dcb3\")) {                    Plotly.newPlot(                        \"b377f59a-4790-4a88-9ad5-88c0c939dcb3\",                        [{\"line\":{\"color\":\"grey\",\"dash\":\"dash\",\"width\":2},\"mode\":\"lines+markers\",\"name\":\"Chance: AUC = 0.5\",\"r\":[0.5,0.5,0.5,0.5,0.5,0.5],\"theta\":[\"$K_{std}$\",\"$|\\\\beta|_{mean}$\",\"$|\\\\theta|_{mean}$\",\"$|\\\\theta|_{std}$\",\"$CNV_{std}$\",\"$P1_{mean}$\"],\"type\":\"scatterpolar\"},{\"fill\":\"toself\",\"fillcolor\":\"rgba(243, 138, 49, 0.2)\",\"marker\":{\"color\":\"#F38A31\",\"size\":10,\"symbol\":[\"circle-open\",\"circle-open\",\"circle-open\",\"circle-open\",\"circle-open\",\"circle-open\"]},\"mode\":\"lines+markers\",\"name\":\"about-task vs on-task\",\"r\":[0.5261996378451788,0.4546174739701222,0.5696016296966954,0.5191263014938886,0.44443186962426434,0.5238795835219556],\"theta\":[\"$K_{std}$\",\"$|\\\\beta|_{mean}$\",\"$|\\\\theta|_{mean}$\",\"$|\\\\theta|_{std}$\",\"$CNV_{std}$\",\"$P1_{mean}$\"],\"type\":\"scatterpolar\"},{\"fill\":\"toself\",\"fillcolor\":\"rgba(154, 197, 41, 0.2)\",\"marker\":{\"color\":\"#9AC529\",\"size\":10,\"symbol\":[\"circle-open\",\"circle-open\",\"hexagram\",\"circle\",\"circle\",\"circle-open\"]},\"mode\":\"lines+markers\",\"name\":\"distracted vs on-task\",\"r\":[0.5346310547759168,0.4379809868718877,0.6412403802625622,0.6241511996378452,0.4075373472159348,0.47532820280669985],\"theta\":[\"$K_{std}$\",\"$|\\\\beta|_{mean}$\",\"$|\\\\theta|_{mean}$\",\"$|\\\\theta|_{std}$\",\"$CNV_{std}$\",\"$P1_{mean}$\"],\"type\":\"scatterpolar\"},{\"fill\":\"toself\",\"fillcolor\":\"rgba(66, 185, 178, 0.2)\",\"marker\":{\"color\":\"#42B9B2\",\"size\":10,\"symbol\":[\"hexagram\",\"hexagram\",\"circle\",\"hexagram\",\"hexagram\",\"circle-open\"]},\"mode\":\"lines+markers\",\"name\":\"dTUT vs on-task\",\"r\":[0.6400520597555455,0.349479402444545,0.6109099139882299,0.662856496152105,0.3740380262562245,0.5651878678134903],\"theta\":[\"$K_{std}$\",\"$|\\\\beta|_{mean}$\",\"$|\\\\theta|_{mean}$\",\"$|\\\\theta|_{std}$\",\"$CNV_{std}$\",\"$P1_{mean}$\"],\"type\":\"scatterpolar\"},{\"fill\":\"toself\",\"fillcolor\":\"rgba(222, 35, 123, 0.2)\",\"marker\":{\"color\":\"#DE237B\",\"size\":10,\"symbol\":[\"circle-open\",\"circle\",\"hexagram\",\"circle-open\",\"circle-open\",\"hexagram\"]},\"mode\":\"lines+markers\",\"name\":\"sTUT vs on-task\",\"r\":[0.5671684019918516,0.4137618832050701,0.6458804889090085,0.5414214576731552,0.5222951561792666,0.6418062471706655],\"theta\":[\"$K_{std}$\",\"$|\\\\beta|_{mean}$\",\"$|\\\\theta|_{mean}$\",\"$|\\\\theta|_{std}$\",\"$CNV_{std}$\",\"$P1_{mean}$\"],\"type\":\"scatterpolar\"}],                        {\"template\":{\"data\":{\"barpolar\":[{\"marker\":{\"line\":{\"color\":\"white\",\"width\":0.5},\"pattern\":{\"fillmode\":\"overlay\",\"size\":10,\"solidity\":0.2}},\"type\":\"barpolar\"}],\"bar\":[{\"error_x\":{\"color\":\"#2a3f5f\"},\"error_y\":{\"color\":\"#2a3f5f\"},\"marker\":{\"line\":{\"color\":\"white\",\"width\":0.5},\"pattern\":{\"fillmode\":\"overlay\",\"size\":10,\"solidity\":0.2}},\"type\":\"bar\"}],\"carpet\":[{\"aaxis\":{\"endlinecolor\":\"#2a3f5f\",\"gridcolor\":\"#C8D4E3\",\"linecolor\":\"#C8D4E3\",\"minorgridcolor\":\"#C8D4E3\",\"startlinecolor\":\"#2a3f5f\"},\"baxis\":{\"endlinecolor\":\"#2a3f5f\",\"gridcolor\":\"#C8D4E3\",\"linecolor\":\"#C8D4E3\",\"minorgridcolor\":\"#C8D4E3\",\"startlinecolor\":\"#2a3f5f\"},\"type\":\"carpet\"}],\"choropleth\":[{\"colorbar\":{\"outlinewidth\":0,\"ticks\":\"\"},\"type\":\"choropleth\"}],\"contourcarpet\":[{\"colorbar\":{\"outlinewidth\":0,\"ticks\":\"\"},\"type\":\"contourcarpet\"}],\"contour\":[{\"colorbar\":{\"outlinewidth\":0,\"ticks\":\"\"},\"colorscale\":[[0.0,\"#0d0887\"],[0.1111111111111111,\"#46039f\"],[0.2222222222222222,\"#7201a8\"],[0.3333333333333333,\"#9c179e\"],[0.4444444444444444,\"#bd3786\"],[0.5555555555555556,\"#d8576b\"],[0.6666666666666666,\"#ed7953\"],[0.7777777777777778,\"#fb9f3a\"],[0.8888888888888888,\"#fdca26\"],[1.0,\"#f0f921\"]],\"type\":\"contour\"}],\"heatmapgl\":[{\"colorbar\":{\"outlinewidth\":0,\"ticks\":\"\"},\"colorscale\":[[0.0,\"#0d0887\"],[0.1111111111111111,\"#46039f\"],[0.2222222222222222,\"#7201a8\"],[0.3333333333333333,\"#9c179e\"],[0.4444444444444444,\"#bd3786\"],[0.5555555555555556,\"#d8576b\"],[0.6666666666666666,\"#ed7953\"],[0.7777777777777778,\"#fb9f3a\"],[0.8888888888888888,\"#fdca26\"],[1.0,\"#f0f921\"]],\"type\":\"heatmapgl\"}],\"heatmap\":[{\"colorbar\":{\"outlinewidth\":0,\"ticks\":\"\"},\"colorscale\":[[0.0,\"#0d0887\"],[0.1111111111111111,\"#46039f\"],[0.2222222222222222,\"#7201a8\"],[0.3333333333333333,\"#9c179e\"],[0.4444444444444444,\"#bd3786\"],[0.5555555555555556,\"#d8576b\"],[0.6666666666666666,\"#ed7953\"],[0.7777777777777778,\"#fb9f3a\"],[0.8888888888888888,\"#fdca26\"],[1.0,\"#f0f921\"]],\"type\":\"heatmap\"}],\"histogram2dcontour\":[{\"colorbar\":{\"outlinewidth\":0,\"ticks\":\"\"},\"colorscale\":[[0.0,\"#0d0887\"],[0.1111111111111111,\"#46039f\"],[0.2222222222222222,\"#7201a8\"],[0.3333333333333333,\"#9c179e\"],[0.4444444444444444,\"#bd3786\"],[0.5555555555555556,\"#d8576b\"],[0.6666666666666666,\"#ed7953\"],[0.7777777777777778,\"#fb9f3a\"],[0.8888888888888888,\"#fdca26\"],[1.0,\"#f0f921\"]],\"type\":\"histogram2dcontour\"}],\"histogram2d\":[{\"colorbar\":{\"outlinewidth\":0,\"ticks\":\"\"},\"colorscale\":[[0.0,\"#0d0887\"],[0.1111111111111111,\"#46039f\"],[0.2222222222222222,\"#7201a8\"],[0.3333333333333333,\"#9c179e\"],[0.4444444444444444,\"#bd3786\"],[0.5555555555555556,\"#d8576b\"],[0.6666666666666666,\"#ed7953\"],[0.7777777777777778,\"#fb9f3a\"],[0.8888888888888888,\"#fdca26\"],[1.0,\"#f0f921\"]],\"type\":\"histogram2d\"}],\"histogram\":[{\"marker\":{\"pattern\":{\"fillmode\":\"overlay\",\"size\":10,\"solidity\":0.2}},\"type\":\"histogram\"}],\"mesh3d\":[{\"colorbar\":{\"outlinewidth\":0,\"ticks\":\"\"},\"type\":\"mesh3d\"}],\"parcoords\":[{\"line\":{\"colorbar\":{\"outlinewidth\":0,\"ticks\":\"\"}},\"type\":\"parcoords\"}],\"pie\":[{\"automargin\":true,\"type\":\"pie\"}],\"scatter3d\":[{\"line\":{\"colorbar\":{\"outlinewidth\":0,\"ticks\":\"\"}},\"marker\":{\"colorbar\":{\"outlinewidth\":0,\"ticks\":\"\"}},\"type\":\"scatter3d\"}],\"scattercarpet\":[{\"marker\":{\"colorbar\":{\"outlinewidth\":0,\"ticks\":\"\"}},\"type\":\"scattercarpet\"}],\"scattergeo\":[{\"marker\":{\"colorbar\":{\"outlinewidth\":0,\"ticks\":\"\"}},\"type\":\"scattergeo\"}],\"scattergl\":[{\"marker\":{\"colorbar\":{\"outlinewidth\":0,\"ticks\":\"\"}},\"type\":\"scattergl\"}],\"scattermapbox\":[{\"marker\":{\"colorbar\":{\"outlinewidth\":0,\"ticks\":\"\"}},\"type\":\"scattermapbox\"}],\"scatterpolargl\":[{\"marker\":{\"colorbar\":{\"outlinewidth\":0,\"ticks\":\"\"}},\"type\":\"scatterpolargl\"}],\"scatterpolar\":[{\"marker\":{\"colorbar\":{\"outlinewidth\":0,\"ticks\":\"\"}},\"type\":\"scatterpolar\"}],\"scatter\":[{\"fillpattern\":{\"fillmode\":\"overlay\",\"size\":10,\"solidity\":0.2},\"type\":\"scatter\"}],\"scatterternary\":[{\"marker\":{\"colorbar\":{\"outlinewidth\":0,\"ticks\":\"\"}},\"type\":\"scatterternary\"}],\"surface\":[{\"colorbar\":{\"outlinewidth\":0,\"ticks\":\"\"},\"colorscale\":[[0.0,\"#0d0887\"],[0.1111111111111111,\"#46039f\"],[0.2222222222222222,\"#7201a8\"],[0.3333333333333333,\"#9c179e\"],[0.4444444444444444,\"#bd3786\"],[0.5555555555555556,\"#d8576b\"],[0.6666666666666666,\"#ed7953\"],[0.7777777777777778,\"#fb9f3a\"],[0.8888888888888888,\"#fdca26\"],[1.0,\"#f0f921\"]],\"type\":\"surface\"}],\"table\":[{\"cells\":{\"fill\":{\"color\":\"#EBF0F8\"},\"line\":{\"color\":\"white\"}},\"header\":{\"fill\":{\"color\":\"#C8D4E3\"},\"line\":{\"color\":\"white\"}},\"type\":\"table\"}]},\"layout\":{\"annotationdefaults\":{\"arrowcolor\":\"#2a3f5f\",\"arrowhead\":0,\"arrowwidth\":1},\"autotypenumbers\":\"strict\",\"coloraxis\":{\"colorbar\":{\"outlinewidth\":0,\"ticks\":\"\"}},\"colorscale\":{\"diverging\":[[0,\"#8e0152\"],[0.1,\"#c51b7d\"],[0.2,\"#de77ae\"],[0.3,\"#f1b6da\"],[0.4,\"#fde0ef\"],[0.5,\"#f7f7f7\"],[0.6,\"#e6f5d0\"],[0.7,\"#b8e186\"],[0.8,\"#7fbc41\"],[0.9,\"#4d9221\"],[1,\"#276419\"]],\"sequential\":[[0.0,\"#0d0887\"],[0.1111111111111111,\"#46039f\"],[0.2222222222222222,\"#7201a8\"],[0.3333333333333333,\"#9c179e\"],[0.4444444444444444,\"#bd3786\"],[0.5555555555555556,\"#d8576b\"],[0.6666666666666666,\"#ed7953\"],[0.7777777777777778,\"#fb9f3a\"],[0.8888888888888888,\"#fdca26\"],[1.0,\"#f0f921\"]],\"sequentialminus\":[[0.0,\"#0d0887\"],[0.1111111111111111,\"#46039f\"],[0.2222222222222222,\"#7201a8\"],[0.3333333333333333,\"#9c179e\"],[0.4444444444444444,\"#bd3786\"],[0.5555555555555556,\"#d8576b\"],[0.6666666666666666,\"#ed7953\"],[0.7777777777777778,\"#fb9f3a\"],[0.8888888888888888,\"#fdca26\"],[1.0,\"#f0f921\"]]},\"colorway\":[\"#636efa\",\"#EF553B\",\"#00cc96\",\"#ab63fa\",\"#FFA15A\",\"#19d3f3\",\"#FF6692\",\"#B6E880\",\"#FF97FF\",\"#FECB52\"],\"font\":{\"color\":\"#2a3f5f\"},\"geo\":{\"bgcolor\":\"white\",\"lakecolor\":\"white\",\"landcolor\":\"white\",\"showlakes\":true,\"showland\":true,\"subunitcolor\":\"#C8D4E3\"},\"hoverlabel\":{\"align\":\"left\"},\"hovermode\":\"closest\",\"mapbox\":{\"style\":\"light\"},\"paper_bgcolor\":\"white\",\"plot_bgcolor\":\"white\",\"polar\":{\"angularaxis\":{\"gridcolor\":\"#EBF0F8\",\"linecolor\":\"#EBF0F8\",\"ticks\":\"\"},\"bgcolor\":\"white\",\"radialaxis\":{\"gridcolor\":\"#EBF0F8\",\"linecolor\":\"#EBF0F8\",\"ticks\":\"\"}},\"scene\":{\"xaxis\":{\"backgroundcolor\":\"white\",\"gridcolor\":\"#DFE8F3\",\"gridwidth\":2,\"linecolor\":\"#EBF0F8\",\"showbackground\":true,\"ticks\":\"\",\"zerolinecolor\":\"#EBF0F8\"},\"yaxis\":{\"backgroundcolor\":\"white\",\"gridcolor\":\"#DFE8F3\",\"gridwidth\":2,\"linecolor\":\"#EBF0F8\",\"showbackground\":true,\"ticks\":\"\",\"zerolinecolor\":\"#EBF0F8\"},\"zaxis\":{\"backgroundcolor\":\"white\",\"gridcolor\":\"#DFE8F3\",\"gridwidth\":2,\"linecolor\":\"#EBF0F8\",\"showbackground\":true,\"ticks\":\"\",\"zerolinecolor\":\"#EBF0F8\"}},\"shapedefaults\":{\"line\":{\"color\":\"#2a3f5f\"}},\"ternary\":{\"aaxis\":{\"gridcolor\":\"#DFE8F3\",\"linecolor\":\"#A2B1C6\",\"ticks\":\"\"},\"baxis\":{\"gridcolor\":\"#DFE8F3\",\"linecolor\":\"#A2B1C6\",\"ticks\":\"\"},\"bgcolor\":\"white\",\"caxis\":{\"gridcolor\":\"#DFE8F3\",\"linecolor\":\"#A2B1C6\",\"ticks\":\"\"}},\"title\":{\"x\":0.05},\"xaxis\":{\"automargin\":true,\"gridcolor\":\"#EBF0F8\",\"linecolor\":\"#EBF0F8\",\"ticks\":\"\",\"title\":{\"standoff\":15},\"zerolinecolor\":\"#EBF0F8\",\"zerolinewidth\":2},\"yaxis\":{\"automargin\":true,\"gridcolor\":\"#EBF0F8\",\"linecolor\":\"#EBF0F8\",\"ticks\":\"\",\"title\":{\"standoff\":15},\"zerolinecolor\":\"#EBF0F8\",\"zerolinewidth\":2}}},\"font\":{\"family\":\"Times new roman\",\"size\":25,\"color\":\"black\"},\"polar\":{\"radialaxis\":{\"tickfont\":{\"size\":10},\"title\":{\"text\":\"AUC\",\"font\":{\"size\":15}},\"visible\":true,\"range\":[0.35,0.68],\"tickangle\":35},\"angularaxis\":{\"tickfont\":{\"size\":40}}},\"width\":800,\"height\":800,\"showlegend\":true},                        {\"responsive\": true}                    ).then(function(){\n",
       "                            \n",
       "var gd = document.getElementById('b377f59a-4790-4a88-9ad5-88c0c939dcb3');\n",
       "var x = new MutationObserver(function (mutations, observer) {{\n",
       "        var display = window.getComputedStyle(gd).display;\n",
       "        if (!display || display === 'none') {{\n",
       "            console.log([gd, 'removed!']);\n",
       "            Plotly.purge(gd);\n",
       "            observer.disconnect();\n",
       "        }}\n",
       "}});\n",
       "\n",
       "// Listen for the removal of the full notebook cells\n",
       "var notebookContainer = gd.closest('#notebook-container');\n",
       "if (notebookContainer) {{\n",
       "    x.observe(notebookContainer, {childList: true});\n",
       "}}\n",
       "\n",
       "// Listen for the clearing of the current output cell\n",
       "var outputEl = gd.closest('.output');\n",
       "if (outputEl) {{\n",
       "    x.observe(outputEl, {childList: true});\n",
       "}}\n",
       "\n",
       "                        })                };                });            </script>        </div>"
      ]
     },
     "metadata": {},
     "output_type": "display_data"
    }
   ],
   "source": [
    "ot_contrasts = ['about-task vs on-task','distracted vs on-task', 'dMW vs on-task', 'sMW vs on-task']\n",
    "\n",
    "df_ot_contrasts = df_all_probe.query(f\"comparison in {ot_contrasts}\").query(\"balance == 'over-sample'\")\n",
    "# significants = df_ot_contrasts.query(\"significant != 'p > 0.05'\").markers.unique().tolist()\n",
    "significants = df_ot_contrasts.query(\"significant == 'p < 0.05 FDR corrected'\").markers.unique().tolist()\n",
    "\n",
    "\n",
    "distracted_ot =df_ot_contrasts.query(\"comparison == 'distracted vs on-task'\").query(f'markers in {significants}').assign(symbol = lambda df: df.significant.apply(symbol_fun))\n",
    "dmw_ot = df_ot_contrasts.query(\"comparison == 'dMW vs on-task'\").query(f'markers in {significants}').assign(symbol = lambda df: df.significant.apply(symbol_fun))\n",
    "smw_ot = df_ot_contrasts.query(\"comparison == 'sMW vs on-task'\").query(f'markers in {significants}').assign(symbol = lambda df: df.significant.apply(symbol_fun))\n",
    "about_task = df_ot_contrasts.query(\"comparison == 'about-task vs on-task'\").query(f'markers in {significants}').assign(symbol = lambda df: df.significant.apply(symbol_fun))\n",
    "\n",
    "fig = pgo.Figure()\n",
    "\n",
    "\n",
    "\n",
    "fig.add_trace(pgo.Scatterpolar(\n",
    "    r=np.ones(len(distracted_ot['markers'])) * 0.5,\n",
    "    theta=distracted_ot['markers'],\n",
    "    name = 'Chance: AUC = 0.5',\n",
    "    mode = 'lines+markers',\n",
    "    line = {'color':'grey', 'width': 2, 'dash': 'dash' },\n",
    "))\n",
    "\n",
    "fig.add_trace(pgo.Scatterpolar(\n",
    "    r=about_task.AUC,\n",
    "    theta=about_task['markers'],\n",
    "    fill='toself',\n",
    "    name='about-task vs on-task',\n",
    "    mode = 'lines+markers',\n",
    "    marker = {'color':orange, 'size': 10},\n",
    "    fillcolor= f\"rgba{(*hex_to_rgb(orange), 0.2)}\",\n",
    "    marker_symbol= about_task.symbol.to_list()\n",
    "))\n",
    "\n",
    "fig.add_trace(pgo.Scatterpolar(\n",
    "    r=distracted_ot.AUC,\n",
    "    theta=distracted_ot['markers'],\n",
    "    fill='toself',\n",
    "    name='distracted vs on-task',\n",
    "        mode = 'lines+markers',\n",
    "    marker = {'color':green, 'size': 10},\n",
    "    fillcolor= f\"rgba{(*hex_to_rgb(green), 0.2)}\",\n",
    "    marker_symbol= distracted_ot.symbol.to_list()\n",
    "))\n",
    "\n",
    "fig.add_trace(pgo.Scatterpolar(\n",
    "    r=dmw_ot.AUC,\n",
    "    theta=dmw_ot['markers'],\n",
    "    fill='toself',\n",
    "    name='dTUT vs on-task',\n",
    "    mode = 'lines+markers',\n",
    "    marker = {'color':lblue, 'size': 10},\n",
    "    fillcolor= f\"rgba{(*hex_to_rgb(lblue), 0.2)}\",\n",
    "    marker_symbol= dmw_ot.symbol.to_list()\n",
    "))\n",
    "\n",
    "fig.add_trace(pgo.Scatterpolar(\n",
    "    r=smw_ot.AUC,\n",
    "    theta=smw_ot['markers'],\n",
    "    fill='toself',\n",
    "    name='sTUT vs on-task',\n",
    "    mode = 'lines+markers',\n",
    "    fillcolor= f\"rgba{(*hex_to_rgb(pink), 0.2)}\",\n",
    "    marker = {'color':pink, 'size': 10,},\n",
    "    marker_symbol= smw_ot.symbol.to_list()\n",
    "))\n",
    "\n",
    "\n",
    "\n",
    "\n",
    "fig.update_layout(\n",
    "#     title=\"All against On-task for Significant markers\",\n",
    "#     legend_title=\"Classification\",\n",
    "    width=800,\n",
    "    height=800,\n",
    "    # autosize = True, \n",
    "        template = 'plotly_white',\n",
    "        font=dict(\n",
    "        family=\"Times new roman\",\n",
    "        size=25,\n",
    "        color=\"black\"\n",
    "    ),\n",
    "    polar=dict(\n",
    "        radialaxis=dict(\n",
    "            title = 'AUC',\n",
    "            visible=True,\n",
    "            range = [0.35,0.68], \n",
    "            tickangle = 35,\n",
    "            tickfont = {\"size\": 10},\n",
    "            titlefont =  {\"size\": 15},\n",
    "        ),\n",
    "        angularaxis = dict(\n",
    "        tickfont = {\"size\": 40},\n",
    "        )\n",
    "  ),\n",
    "    showlegend=True\n",
    ")\n",
    "\n",
    "fig.show()\n",
    "# pio.write_json(fig, 'Figs/radar_auc_significant.plotly')\n",
    "fig.write_image(\"Figs/radar_against_ontask_significant.svg\")\n",
    "fig.write_image(\"Figs/radar_against_ontask_significant.png\")"
   ]
  },
  {
   "cell_type": "raw",
   "id": "adaptive-naples",
   "metadata": {},
   "source": [
    "df_ot= df_all_probe.query(\"balance == 'over-sample'\").query(f\"markers in {['t_n_mean', 't_n_std', ]}\") #'t_mean', 't_std', 'p_e_8_mean', 'p_e_8_std', 'wSMI_8_mean', 'wSMI_8_std'\n",
    "fig = px.bar(df_ot, y = 'comparison', x='AUC', facet_col = 'markers', color = 'significant', color_discrete_sequence = [lblue, green, pink], \n",
    "                         category_orders = {'significant': ['p > 0.05','p < 0.05 uncorrected', 'p < 0.05 FDR corrected']})\n",
    "fig.add_vline(x=0.5, line_width=3, line_dash=\"dash\", line_color=\"black\")\n",
    "\n",
    "fig.update_layout(\n",
    "    title = 'PC',\n",
    "    autosize=True,\n",
    "#     width=800,\n",
    "#     height=1600,\n",
    "    xaxis = {\n",
    "            'showticklabels': True,\n",
    "#             'tickmode': 'linear',\n",
    "        'range': [0.35, 0.67]\n",
    "        },\n",
    "#             xaxis = {'title': 'a'}\n",
    "\n",
    ")"
   ]
  },
  {
   "cell_type": "raw",
   "id": "controlling-knitting",
   "metadata": {},
   "source": [
    "df_ot= df_all_probe.query(\"balance == 'over-sample'\").query(f\"markers in {['p_e_4_mean']}\") #'t_mean', 't_std', 'p_e_8_mean', 'p_e_8_std', 'wSMI_8_mean', 'wSMI_8_std'\n",
    "fig = px.bar(df_ot, y = 'comparison', x='AUC', facet_col = 'markers', color = 'significant', color_discrete_sequence = [lblue, green, pink], \n",
    "                         category_orders = {'significant': ['p > 0.05','p < 0.05 uncorrected', 'p < 0.05 FDR corrected']})\n",
    "fig.add_vline(x=0.5, line_width=3, line_dash=\"dash\", line_color=\"black\")\n",
    "\n",
    "fig.update_layout(\n",
    "#     title = 'PC',\n",
    "    autosize=True,\n",
    "#     width=1600,\n",
    "#     height=800,\n",
    "    xaxis = {\n",
    "            'showticklabels': True,\n",
    "            \n",
    "        'range': [0.35, 0.67]\n",
    "        },\n",
    "#             xaxis = {'title': 'a'}\n",
    "\n",
    ")"
   ]
  },
  {
   "cell_type": "code",
   "execution_count": 29,
   "id": "incorrect-place",
   "metadata": {},
   "outputs": [
    {
     "data": {
      "application/vnd.plotly.v1+json": {
       "config": {
        "plotlyServerURL": "https://plot.ly"
       },
       "data": [
        {
         "line": {
          "color": "grey",
          "dash": "dash",
          "width": 2
         },
         "mode": "lines",
         "name": "Chance level classification",
         "r": [
          0.5,
          0.5,
          0.5,
          0.5,
          0.5,
          0.5
         ],
         "theta": [
          "$\\beta_{mean}$",
          "$|\\beta|_{mean}$",
          "$\\theta_{mean}$",
          "$|\\theta|_{mean}$",
          "$CNV_{mean}$",
          "$P1_{mean}$"
         ],
         "type": "scatterpolar"
        },
        {
         "fill": "toself",
         "fillcolor": "rgba(66, 185, 178, 0.2)",
         "marker": {
          "color": "#42B9B2",
          "size": 10,
          "symbol": [
           "hexagram",
           "hexagram",
           "circle-open",
           "hexagram",
           "circle-open",
           "circle-open"
          ]
         },
         "name": "On-task vs deliberate MW",
         "r": [
          0.38705296514259846,
          0.349479402444545,
          0.49434133091896787,
          0.6109099139882299,
          0.4738569488456315,
          0.5651878678134903
         ],
         "theta": [
          "$\\beta_{mean}$",
          "$|\\beta|_{mean}$",
          "$\\theta_{mean}$",
          "$|\\theta|_{mean}$",
          "$CNV_{mean}$",
          "$P1_{mean}$"
         ],
         "type": "scatterpolar"
        },
        {
         "fill": "toself",
         "fillcolor": "rgba(222, 35, 123, 0.2)",
         "marker": {
          "color": "#DE237B",
          "size": 10,
          "symbol": [
           "circle-open",
           "hexagram",
           "hexagram",
           "hexagram",
           "hexagram",
           "hexagram"
          ]
         },
         "name": "On-task vs spontaneous MW",
         "r": [
          0.4753282028066998,
          0.4137618832050701,
          0.6044590312358533,
          0.6458804889090085,
          0.39565414214576733,
          0.6418062471706655
         ],
         "theta": [
          "$\\beta_{mean}$",
          "$|\\beta|_{mean}$",
          "$\\theta_{mean}$",
          "$|\\theta|_{mean}$",
          "$CNV_{mean}$",
          "$P1_{mean}$"
         ],
         "type": "scatterpolar"
        },
        {
         "fill": "toself",
         "fillcolor": "rgba(243, 138, 49, 0.2)",
         "marker": {
          "color": "#F38A31",
          "size": 10,
          "symbol": [
           "circle-open",
           "circle-open",
           "circle-open",
           "circle-open",
           "circle-open",
           "circle-open"
          ]
         },
         "name": "sMW vs dMW",
         "r": [
          0.5186587344510547,
          0.4921579232017307,
          0.588967009194159,
          0.6041103299080585,
          0.42671714440237973,
          0.4959437533802056
         ],
         "theta": [
          "$\\beta_{mean}$",
          "$|\\beta|_{mean}$",
          "$\\theta_{mean}$",
          "$|\\theta|_{mean}$",
          "$CNV_{mean}$",
          "$P1_{mean}$"
         ],
         "type": "scatterpolar"
        }
       ],
       "layout": {
        "font": {
         "color": "black",
         "family": "Times new roman"
        },
        "height": 800,
        "polar": {
         "angularaxis": {
          "tickfont": {
           "size": 40
          }
         },
         "radialaxis": {
          "range": [
           0.35,
           0.66
          ],
          "tickangle": 35,
          "tickfont": {
           "size": 10
          },
          "title": {
           "font": {
            "size": 15
           },
           "text": "AUC"
          },
          "visible": true
         }
        },
        "showlegend": true,
        "template": {
         "data": {
          "bar": [
           {
            "error_x": {
             "color": "#2a3f5f"
            },
            "error_y": {
             "color": "#2a3f5f"
            },
            "marker": {
             "line": {
              "color": "white",
              "width": 0.5
             },
             "pattern": {
              "fillmode": "overlay",
              "size": 10,
              "solidity": 0.2
             }
            },
            "type": "bar"
           }
          ],
          "barpolar": [
           {
            "marker": {
             "line": {
              "color": "white",
              "width": 0.5
             },
             "pattern": {
              "fillmode": "overlay",
              "size": 10,
              "solidity": 0.2
             }
            },
            "type": "barpolar"
           }
          ],
          "carpet": [
           {
            "aaxis": {
             "endlinecolor": "#2a3f5f",
             "gridcolor": "#C8D4E3",
             "linecolor": "#C8D4E3",
             "minorgridcolor": "#C8D4E3",
             "startlinecolor": "#2a3f5f"
            },
            "baxis": {
             "endlinecolor": "#2a3f5f",
             "gridcolor": "#C8D4E3",
             "linecolor": "#C8D4E3",
             "minorgridcolor": "#C8D4E3",
             "startlinecolor": "#2a3f5f"
            },
            "type": "carpet"
           }
          ],
          "choropleth": [
           {
            "colorbar": {
             "outlinewidth": 0,
             "ticks": ""
            },
            "type": "choropleth"
           }
          ],
          "contour": [
           {
            "colorbar": {
             "outlinewidth": 0,
             "ticks": ""
            },
            "colorscale": [
             [
              0,
              "#0d0887"
             ],
             [
              0.1111111111111111,
              "#46039f"
             ],
             [
              0.2222222222222222,
              "#7201a8"
             ],
             [
              0.3333333333333333,
              "#9c179e"
             ],
             [
              0.4444444444444444,
              "#bd3786"
             ],
             [
              0.5555555555555556,
              "#d8576b"
             ],
             [
              0.6666666666666666,
              "#ed7953"
             ],
             [
              0.7777777777777778,
              "#fb9f3a"
             ],
             [
              0.8888888888888888,
              "#fdca26"
             ],
             [
              1,
              "#f0f921"
             ]
            ],
            "type": "contour"
           }
          ],
          "contourcarpet": [
           {
            "colorbar": {
             "outlinewidth": 0,
             "ticks": ""
            },
            "type": "contourcarpet"
           }
          ],
          "heatmap": [
           {
            "colorbar": {
             "outlinewidth": 0,
             "ticks": ""
            },
            "colorscale": [
             [
              0,
              "#0d0887"
             ],
             [
              0.1111111111111111,
              "#46039f"
             ],
             [
              0.2222222222222222,
              "#7201a8"
             ],
             [
              0.3333333333333333,
              "#9c179e"
             ],
             [
              0.4444444444444444,
              "#bd3786"
             ],
             [
              0.5555555555555556,
              "#d8576b"
             ],
             [
              0.6666666666666666,
              "#ed7953"
             ],
             [
              0.7777777777777778,
              "#fb9f3a"
             ],
             [
              0.8888888888888888,
              "#fdca26"
             ],
             [
              1,
              "#f0f921"
             ]
            ],
            "type": "heatmap"
           }
          ],
          "heatmapgl": [
           {
            "colorbar": {
             "outlinewidth": 0,
             "ticks": ""
            },
            "colorscale": [
             [
              0,
              "#0d0887"
             ],
             [
              0.1111111111111111,
              "#46039f"
             ],
             [
              0.2222222222222222,
              "#7201a8"
             ],
             [
              0.3333333333333333,
              "#9c179e"
             ],
             [
              0.4444444444444444,
              "#bd3786"
             ],
             [
              0.5555555555555556,
              "#d8576b"
             ],
             [
              0.6666666666666666,
              "#ed7953"
             ],
             [
              0.7777777777777778,
              "#fb9f3a"
             ],
             [
              0.8888888888888888,
              "#fdca26"
             ],
             [
              1,
              "#f0f921"
             ]
            ],
            "type": "heatmapgl"
           }
          ],
          "histogram": [
           {
            "marker": {
             "pattern": {
              "fillmode": "overlay",
              "size": 10,
              "solidity": 0.2
             }
            },
            "type": "histogram"
           }
          ],
          "histogram2d": [
           {
            "colorbar": {
             "outlinewidth": 0,
             "ticks": ""
            },
            "colorscale": [
             [
              0,
              "#0d0887"
             ],
             [
              0.1111111111111111,
              "#46039f"
             ],
             [
              0.2222222222222222,
              "#7201a8"
             ],
             [
              0.3333333333333333,
              "#9c179e"
             ],
             [
              0.4444444444444444,
              "#bd3786"
             ],
             [
              0.5555555555555556,
              "#d8576b"
             ],
             [
              0.6666666666666666,
              "#ed7953"
             ],
             [
              0.7777777777777778,
              "#fb9f3a"
             ],
             [
              0.8888888888888888,
              "#fdca26"
             ],
             [
              1,
              "#f0f921"
             ]
            ],
            "type": "histogram2d"
           }
          ],
          "histogram2dcontour": [
           {
            "colorbar": {
             "outlinewidth": 0,
             "ticks": ""
            },
            "colorscale": [
             [
              0,
              "#0d0887"
             ],
             [
              0.1111111111111111,
              "#46039f"
             ],
             [
              0.2222222222222222,
              "#7201a8"
             ],
             [
              0.3333333333333333,
              "#9c179e"
             ],
             [
              0.4444444444444444,
              "#bd3786"
             ],
             [
              0.5555555555555556,
              "#d8576b"
             ],
             [
              0.6666666666666666,
              "#ed7953"
             ],
             [
              0.7777777777777778,
              "#fb9f3a"
             ],
             [
              0.8888888888888888,
              "#fdca26"
             ],
             [
              1,
              "#f0f921"
             ]
            ],
            "type": "histogram2dcontour"
           }
          ],
          "mesh3d": [
           {
            "colorbar": {
             "outlinewidth": 0,
             "ticks": ""
            },
            "type": "mesh3d"
           }
          ],
          "parcoords": [
           {
            "line": {
             "colorbar": {
              "outlinewidth": 0,
              "ticks": ""
             }
            },
            "type": "parcoords"
           }
          ],
          "pie": [
           {
            "automargin": true,
            "type": "pie"
           }
          ],
          "scatter": [
           {
            "fillpattern": {
             "fillmode": "overlay",
             "size": 10,
             "solidity": 0.2
            },
            "type": "scatter"
           }
          ],
          "scatter3d": [
           {
            "line": {
             "colorbar": {
              "outlinewidth": 0,
              "ticks": ""
             }
            },
            "marker": {
             "colorbar": {
              "outlinewidth": 0,
              "ticks": ""
             }
            },
            "type": "scatter3d"
           }
          ],
          "scattercarpet": [
           {
            "marker": {
             "colorbar": {
              "outlinewidth": 0,
              "ticks": ""
             }
            },
            "type": "scattercarpet"
           }
          ],
          "scattergeo": [
           {
            "marker": {
             "colorbar": {
              "outlinewidth": 0,
              "ticks": ""
             }
            },
            "type": "scattergeo"
           }
          ],
          "scattergl": [
           {
            "marker": {
             "colorbar": {
              "outlinewidth": 0,
              "ticks": ""
             }
            },
            "type": "scattergl"
           }
          ],
          "scattermapbox": [
           {
            "marker": {
             "colorbar": {
              "outlinewidth": 0,
              "ticks": ""
             }
            },
            "type": "scattermapbox"
           }
          ],
          "scatterpolar": [
           {
            "marker": {
             "colorbar": {
              "outlinewidth": 0,
              "ticks": ""
             }
            },
            "type": "scatterpolar"
           }
          ],
          "scatterpolargl": [
           {
            "marker": {
             "colorbar": {
              "outlinewidth": 0,
              "ticks": ""
             }
            },
            "type": "scatterpolargl"
           }
          ],
          "scatterternary": [
           {
            "marker": {
             "colorbar": {
              "outlinewidth": 0,
              "ticks": ""
             }
            },
            "type": "scatterternary"
           }
          ],
          "surface": [
           {
            "colorbar": {
             "outlinewidth": 0,
             "ticks": ""
            },
            "colorscale": [
             [
              0,
              "#0d0887"
             ],
             [
              0.1111111111111111,
              "#46039f"
             ],
             [
              0.2222222222222222,
              "#7201a8"
             ],
             [
              0.3333333333333333,
              "#9c179e"
             ],
             [
              0.4444444444444444,
              "#bd3786"
             ],
             [
              0.5555555555555556,
              "#d8576b"
             ],
             [
              0.6666666666666666,
              "#ed7953"
             ],
             [
              0.7777777777777778,
              "#fb9f3a"
             ],
             [
              0.8888888888888888,
              "#fdca26"
             ],
             [
              1,
              "#f0f921"
             ]
            ],
            "type": "surface"
           }
          ],
          "table": [
           {
            "cells": {
             "fill": {
              "color": "#EBF0F8"
             },
             "line": {
              "color": "white"
             }
            },
            "header": {
             "fill": {
              "color": "#C8D4E3"
             },
             "line": {
              "color": "white"
             }
            },
            "type": "table"
           }
          ]
         },
         "layout": {
          "annotationdefaults": {
           "arrowcolor": "#2a3f5f",
           "arrowhead": 0,
           "arrowwidth": 1
          },
          "autotypenumbers": "strict",
          "coloraxis": {
           "colorbar": {
            "outlinewidth": 0,
            "ticks": ""
           }
          },
          "colorscale": {
           "diverging": [
            [
             0,
             "#8e0152"
            ],
            [
             0.1,
             "#c51b7d"
            ],
            [
             0.2,
             "#de77ae"
            ],
            [
             0.3,
             "#f1b6da"
            ],
            [
             0.4,
             "#fde0ef"
            ],
            [
             0.5,
             "#f7f7f7"
            ],
            [
             0.6,
             "#e6f5d0"
            ],
            [
             0.7,
             "#b8e186"
            ],
            [
             0.8,
             "#7fbc41"
            ],
            [
             0.9,
             "#4d9221"
            ],
            [
             1,
             "#276419"
            ]
           ],
           "sequential": [
            [
             0,
             "#0d0887"
            ],
            [
             0.1111111111111111,
             "#46039f"
            ],
            [
             0.2222222222222222,
             "#7201a8"
            ],
            [
             0.3333333333333333,
             "#9c179e"
            ],
            [
             0.4444444444444444,
             "#bd3786"
            ],
            [
             0.5555555555555556,
             "#d8576b"
            ],
            [
             0.6666666666666666,
             "#ed7953"
            ],
            [
             0.7777777777777778,
             "#fb9f3a"
            ],
            [
             0.8888888888888888,
             "#fdca26"
            ],
            [
             1,
             "#f0f921"
            ]
           ],
           "sequentialminus": [
            [
             0,
             "#0d0887"
            ],
            [
             0.1111111111111111,
             "#46039f"
            ],
            [
             0.2222222222222222,
             "#7201a8"
            ],
            [
             0.3333333333333333,
             "#9c179e"
            ],
            [
             0.4444444444444444,
             "#bd3786"
            ],
            [
             0.5555555555555556,
             "#d8576b"
            ],
            [
             0.6666666666666666,
             "#ed7953"
            ],
            [
             0.7777777777777778,
             "#fb9f3a"
            ],
            [
             0.8888888888888888,
             "#fdca26"
            ],
            [
             1,
             "#f0f921"
            ]
           ]
          },
          "colorway": [
           "#636efa",
           "#EF553B",
           "#00cc96",
           "#ab63fa",
           "#FFA15A",
           "#19d3f3",
           "#FF6692",
           "#B6E880",
           "#FF97FF",
           "#FECB52"
          ],
          "font": {
           "color": "#2a3f5f"
          },
          "geo": {
           "bgcolor": "white",
           "lakecolor": "white",
           "landcolor": "white",
           "showlakes": true,
           "showland": true,
           "subunitcolor": "#C8D4E3"
          },
          "hoverlabel": {
           "align": "left"
          },
          "hovermode": "closest",
          "mapbox": {
           "style": "light"
          },
          "paper_bgcolor": "white",
          "plot_bgcolor": "white",
          "polar": {
           "angularaxis": {
            "gridcolor": "#EBF0F8",
            "linecolor": "#EBF0F8",
            "ticks": ""
           },
           "bgcolor": "white",
           "radialaxis": {
            "gridcolor": "#EBF0F8",
            "linecolor": "#EBF0F8",
            "ticks": ""
           }
          },
          "scene": {
           "xaxis": {
            "backgroundcolor": "white",
            "gridcolor": "#DFE8F3",
            "gridwidth": 2,
            "linecolor": "#EBF0F8",
            "showbackground": true,
            "ticks": "",
            "zerolinecolor": "#EBF0F8"
           },
           "yaxis": {
            "backgroundcolor": "white",
            "gridcolor": "#DFE8F3",
            "gridwidth": 2,
            "linecolor": "#EBF0F8",
            "showbackground": true,
            "ticks": "",
            "zerolinecolor": "#EBF0F8"
           },
           "zaxis": {
            "backgroundcolor": "white",
            "gridcolor": "#DFE8F3",
            "gridwidth": 2,
            "linecolor": "#EBF0F8",
            "showbackground": true,
            "ticks": "",
            "zerolinecolor": "#EBF0F8"
           }
          },
          "shapedefaults": {
           "line": {
            "color": "#2a3f5f"
           }
          },
          "ternary": {
           "aaxis": {
            "gridcolor": "#DFE8F3",
            "linecolor": "#A2B1C6",
            "ticks": ""
           },
           "baxis": {
            "gridcolor": "#DFE8F3",
            "linecolor": "#A2B1C6",
            "ticks": ""
           },
           "bgcolor": "white",
           "caxis": {
            "gridcolor": "#DFE8F3",
            "linecolor": "#A2B1C6",
            "ticks": ""
           }
          },
          "title": {
           "x": 0.05
          },
          "xaxis": {
           "automargin": true,
           "gridcolor": "#EBF0F8",
           "linecolor": "#EBF0F8",
           "ticks": "",
           "title": {
            "standoff": 15
           },
           "zerolinecolor": "#EBF0F8",
           "zerolinewidth": 2
          },
          "yaxis": {
           "automargin": true,
           "gridcolor": "#EBF0F8",
           "linecolor": "#EBF0F8",
           "ticks": "",
           "title": {
            "standoff": 15
           },
           "zerolinecolor": "#EBF0F8",
           "zerolinewidth": 2
          }
         }
        },
        "width": 800
       }
      },
      "text/html": [
       "<div>                            <div id=\"43bf2df1-4536-4cea-810d-b0eedc812596\" class=\"plotly-graph-div\" style=\"height:800px; width:800px;\"></div>            <script type=\"text/javascript\">                require([\"plotly\"], function(Plotly) {                    window.PLOTLYENV=window.PLOTLYENV || {};                                    if (document.getElementById(\"43bf2df1-4536-4cea-810d-b0eedc812596\")) {                    Plotly.newPlot(                        \"43bf2df1-4536-4cea-810d-b0eedc812596\",                        [{\"line\":{\"color\":\"grey\",\"dash\":\"dash\",\"width\":2},\"mode\":\"lines\",\"name\":\"Chance level classification\",\"r\":[0.5,0.5,0.5,0.5,0.5,0.5],\"theta\":[\"$\\\\beta_{mean}$\",\"$|\\\\beta|_{mean}$\",\"$\\\\theta_{mean}$\",\"$|\\\\theta|_{mean}$\",\"$CNV_{mean}$\",\"$P1_{mean}$\"],\"type\":\"scatterpolar\"},{\"fill\":\"toself\",\"fillcolor\":\"rgba(66, 185, 178, 0.2)\",\"marker\":{\"color\":\"#42B9B2\",\"size\":10,\"symbol\":[\"hexagram\",\"hexagram\",\"circle-open\",\"hexagram\",\"circle-open\",\"circle-open\"]},\"name\":\"On-task vs deliberate MW\",\"r\":[0.38705296514259846,0.349479402444545,0.49434133091896787,0.6109099139882299,0.4738569488456315,0.5651878678134903],\"theta\":[\"$\\\\beta_{mean}$\",\"$|\\\\beta|_{mean}$\",\"$\\\\theta_{mean}$\",\"$|\\\\theta|_{mean}$\",\"$CNV_{mean}$\",\"$P1_{mean}$\"],\"type\":\"scatterpolar\"},{\"fill\":\"toself\",\"fillcolor\":\"rgba(222, 35, 123, 0.2)\",\"marker\":{\"color\":\"#DE237B\",\"size\":10,\"symbol\":[\"circle-open\",\"hexagram\",\"hexagram\",\"hexagram\",\"hexagram\",\"hexagram\"]},\"name\":\"On-task vs spontaneous MW\",\"r\":[0.4753282028066998,0.4137618832050701,0.6044590312358533,0.6458804889090085,0.39565414214576733,0.6418062471706655],\"theta\":[\"$\\\\beta_{mean}$\",\"$|\\\\beta|_{mean}$\",\"$\\\\theta_{mean}$\",\"$|\\\\theta|_{mean}$\",\"$CNV_{mean}$\",\"$P1_{mean}$\"],\"type\":\"scatterpolar\"},{\"fill\":\"toself\",\"fillcolor\":\"rgba(243, 138, 49, 0.2)\",\"marker\":{\"color\":\"#F38A31\",\"size\":10,\"symbol\":[\"circle-open\",\"circle-open\",\"circle-open\",\"circle-open\",\"circle-open\",\"circle-open\"]},\"name\":\"sMW vs dMW\",\"r\":[0.5186587344510547,0.4921579232017307,0.588967009194159,0.6041103299080585,0.42671714440237973,0.4959437533802056],\"theta\":[\"$\\\\beta_{mean}$\",\"$|\\\\beta|_{mean}$\",\"$\\\\theta_{mean}$\",\"$|\\\\theta|_{mean}$\",\"$CNV_{mean}$\",\"$P1_{mean}$\"],\"type\":\"scatterpolar\"}],                        {\"template\":{\"data\":{\"barpolar\":[{\"marker\":{\"line\":{\"color\":\"white\",\"width\":0.5},\"pattern\":{\"fillmode\":\"overlay\",\"size\":10,\"solidity\":0.2}},\"type\":\"barpolar\"}],\"bar\":[{\"error_x\":{\"color\":\"#2a3f5f\"},\"error_y\":{\"color\":\"#2a3f5f\"},\"marker\":{\"line\":{\"color\":\"white\",\"width\":0.5},\"pattern\":{\"fillmode\":\"overlay\",\"size\":10,\"solidity\":0.2}},\"type\":\"bar\"}],\"carpet\":[{\"aaxis\":{\"endlinecolor\":\"#2a3f5f\",\"gridcolor\":\"#C8D4E3\",\"linecolor\":\"#C8D4E3\",\"minorgridcolor\":\"#C8D4E3\",\"startlinecolor\":\"#2a3f5f\"},\"baxis\":{\"endlinecolor\":\"#2a3f5f\",\"gridcolor\":\"#C8D4E3\",\"linecolor\":\"#C8D4E3\",\"minorgridcolor\":\"#C8D4E3\",\"startlinecolor\":\"#2a3f5f\"},\"type\":\"carpet\"}],\"choropleth\":[{\"colorbar\":{\"outlinewidth\":0,\"ticks\":\"\"},\"type\":\"choropleth\"}],\"contourcarpet\":[{\"colorbar\":{\"outlinewidth\":0,\"ticks\":\"\"},\"type\":\"contourcarpet\"}],\"contour\":[{\"colorbar\":{\"outlinewidth\":0,\"ticks\":\"\"},\"colorscale\":[[0.0,\"#0d0887\"],[0.1111111111111111,\"#46039f\"],[0.2222222222222222,\"#7201a8\"],[0.3333333333333333,\"#9c179e\"],[0.4444444444444444,\"#bd3786\"],[0.5555555555555556,\"#d8576b\"],[0.6666666666666666,\"#ed7953\"],[0.7777777777777778,\"#fb9f3a\"],[0.8888888888888888,\"#fdca26\"],[1.0,\"#f0f921\"]],\"type\":\"contour\"}],\"heatmapgl\":[{\"colorbar\":{\"outlinewidth\":0,\"ticks\":\"\"},\"colorscale\":[[0.0,\"#0d0887\"],[0.1111111111111111,\"#46039f\"],[0.2222222222222222,\"#7201a8\"],[0.3333333333333333,\"#9c179e\"],[0.4444444444444444,\"#bd3786\"],[0.5555555555555556,\"#d8576b\"],[0.6666666666666666,\"#ed7953\"],[0.7777777777777778,\"#fb9f3a\"],[0.8888888888888888,\"#fdca26\"],[1.0,\"#f0f921\"]],\"type\":\"heatmapgl\"}],\"heatmap\":[{\"colorbar\":{\"outlinewidth\":0,\"ticks\":\"\"},\"colorscale\":[[0.0,\"#0d0887\"],[0.1111111111111111,\"#46039f\"],[0.2222222222222222,\"#7201a8\"],[0.3333333333333333,\"#9c179e\"],[0.4444444444444444,\"#bd3786\"],[0.5555555555555556,\"#d8576b\"],[0.6666666666666666,\"#ed7953\"],[0.7777777777777778,\"#fb9f3a\"],[0.8888888888888888,\"#fdca26\"],[1.0,\"#f0f921\"]],\"type\":\"heatmap\"}],\"histogram2dcontour\":[{\"colorbar\":{\"outlinewidth\":0,\"ticks\":\"\"},\"colorscale\":[[0.0,\"#0d0887\"],[0.1111111111111111,\"#46039f\"],[0.2222222222222222,\"#7201a8\"],[0.3333333333333333,\"#9c179e\"],[0.4444444444444444,\"#bd3786\"],[0.5555555555555556,\"#d8576b\"],[0.6666666666666666,\"#ed7953\"],[0.7777777777777778,\"#fb9f3a\"],[0.8888888888888888,\"#fdca26\"],[1.0,\"#f0f921\"]],\"type\":\"histogram2dcontour\"}],\"histogram2d\":[{\"colorbar\":{\"outlinewidth\":0,\"ticks\":\"\"},\"colorscale\":[[0.0,\"#0d0887\"],[0.1111111111111111,\"#46039f\"],[0.2222222222222222,\"#7201a8\"],[0.3333333333333333,\"#9c179e\"],[0.4444444444444444,\"#bd3786\"],[0.5555555555555556,\"#d8576b\"],[0.6666666666666666,\"#ed7953\"],[0.7777777777777778,\"#fb9f3a\"],[0.8888888888888888,\"#fdca26\"],[1.0,\"#f0f921\"]],\"type\":\"histogram2d\"}],\"histogram\":[{\"marker\":{\"pattern\":{\"fillmode\":\"overlay\",\"size\":10,\"solidity\":0.2}},\"type\":\"histogram\"}],\"mesh3d\":[{\"colorbar\":{\"outlinewidth\":0,\"ticks\":\"\"},\"type\":\"mesh3d\"}],\"parcoords\":[{\"line\":{\"colorbar\":{\"outlinewidth\":0,\"ticks\":\"\"}},\"type\":\"parcoords\"}],\"pie\":[{\"automargin\":true,\"type\":\"pie\"}],\"scatter3d\":[{\"line\":{\"colorbar\":{\"outlinewidth\":0,\"ticks\":\"\"}},\"marker\":{\"colorbar\":{\"outlinewidth\":0,\"ticks\":\"\"}},\"type\":\"scatter3d\"}],\"scattercarpet\":[{\"marker\":{\"colorbar\":{\"outlinewidth\":0,\"ticks\":\"\"}},\"type\":\"scattercarpet\"}],\"scattergeo\":[{\"marker\":{\"colorbar\":{\"outlinewidth\":0,\"ticks\":\"\"}},\"type\":\"scattergeo\"}],\"scattergl\":[{\"marker\":{\"colorbar\":{\"outlinewidth\":0,\"ticks\":\"\"}},\"type\":\"scattergl\"}],\"scattermapbox\":[{\"marker\":{\"colorbar\":{\"outlinewidth\":0,\"ticks\":\"\"}},\"type\":\"scattermapbox\"}],\"scatterpolargl\":[{\"marker\":{\"colorbar\":{\"outlinewidth\":0,\"ticks\":\"\"}},\"type\":\"scatterpolargl\"}],\"scatterpolar\":[{\"marker\":{\"colorbar\":{\"outlinewidth\":0,\"ticks\":\"\"}},\"type\":\"scatterpolar\"}],\"scatter\":[{\"fillpattern\":{\"fillmode\":\"overlay\",\"size\":10,\"solidity\":0.2},\"type\":\"scatter\"}],\"scatterternary\":[{\"marker\":{\"colorbar\":{\"outlinewidth\":0,\"ticks\":\"\"}},\"type\":\"scatterternary\"}],\"surface\":[{\"colorbar\":{\"outlinewidth\":0,\"ticks\":\"\"},\"colorscale\":[[0.0,\"#0d0887\"],[0.1111111111111111,\"#46039f\"],[0.2222222222222222,\"#7201a8\"],[0.3333333333333333,\"#9c179e\"],[0.4444444444444444,\"#bd3786\"],[0.5555555555555556,\"#d8576b\"],[0.6666666666666666,\"#ed7953\"],[0.7777777777777778,\"#fb9f3a\"],[0.8888888888888888,\"#fdca26\"],[1.0,\"#f0f921\"]],\"type\":\"surface\"}],\"table\":[{\"cells\":{\"fill\":{\"color\":\"#EBF0F8\"},\"line\":{\"color\":\"white\"}},\"header\":{\"fill\":{\"color\":\"#C8D4E3\"},\"line\":{\"color\":\"white\"}},\"type\":\"table\"}]},\"layout\":{\"annotationdefaults\":{\"arrowcolor\":\"#2a3f5f\",\"arrowhead\":0,\"arrowwidth\":1},\"autotypenumbers\":\"strict\",\"coloraxis\":{\"colorbar\":{\"outlinewidth\":0,\"ticks\":\"\"}},\"colorscale\":{\"diverging\":[[0,\"#8e0152\"],[0.1,\"#c51b7d\"],[0.2,\"#de77ae\"],[0.3,\"#f1b6da\"],[0.4,\"#fde0ef\"],[0.5,\"#f7f7f7\"],[0.6,\"#e6f5d0\"],[0.7,\"#b8e186\"],[0.8,\"#7fbc41\"],[0.9,\"#4d9221\"],[1,\"#276419\"]],\"sequential\":[[0.0,\"#0d0887\"],[0.1111111111111111,\"#46039f\"],[0.2222222222222222,\"#7201a8\"],[0.3333333333333333,\"#9c179e\"],[0.4444444444444444,\"#bd3786\"],[0.5555555555555556,\"#d8576b\"],[0.6666666666666666,\"#ed7953\"],[0.7777777777777778,\"#fb9f3a\"],[0.8888888888888888,\"#fdca26\"],[1.0,\"#f0f921\"]],\"sequentialminus\":[[0.0,\"#0d0887\"],[0.1111111111111111,\"#46039f\"],[0.2222222222222222,\"#7201a8\"],[0.3333333333333333,\"#9c179e\"],[0.4444444444444444,\"#bd3786\"],[0.5555555555555556,\"#d8576b\"],[0.6666666666666666,\"#ed7953\"],[0.7777777777777778,\"#fb9f3a\"],[0.8888888888888888,\"#fdca26\"],[1.0,\"#f0f921\"]]},\"colorway\":[\"#636efa\",\"#EF553B\",\"#00cc96\",\"#ab63fa\",\"#FFA15A\",\"#19d3f3\",\"#FF6692\",\"#B6E880\",\"#FF97FF\",\"#FECB52\"],\"font\":{\"color\":\"#2a3f5f\"},\"geo\":{\"bgcolor\":\"white\",\"lakecolor\":\"white\",\"landcolor\":\"white\",\"showlakes\":true,\"showland\":true,\"subunitcolor\":\"#C8D4E3\"},\"hoverlabel\":{\"align\":\"left\"},\"hovermode\":\"closest\",\"mapbox\":{\"style\":\"light\"},\"paper_bgcolor\":\"white\",\"plot_bgcolor\":\"white\",\"polar\":{\"angularaxis\":{\"gridcolor\":\"#EBF0F8\",\"linecolor\":\"#EBF0F8\",\"ticks\":\"\"},\"bgcolor\":\"white\",\"radialaxis\":{\"gridcolor\":\"#EBF0F8\",\"linecolor\":\"#EBF0F8\",\"ticks\":\"\"}},\"scene\":{\"xaxis\":{\"backgroundcolor\":\"white\",\"gridcolor\":\"#DFE8F3\",\"gridwidth\":2,\"linecolor\":\"#EBF0F8\",\"showbackground\":true,\"ticks\":\"\",\"zerolinecolor\":\"#EBF0F8\"},\"yaxis\":{\"backgroundcolor\":\"white\",\"gridcolor\":\"#DFE8F3\",\"gridwidth\":2,\"linecolor\":\"#EBF0F8\",\"showbackground\":true,\"ticks\":\"\",\"zerolinecolor\":\"#EBF0F8\"},\"zaxis\":{\"backgroundcolor\":\"white\",\"gridcolor\":\"#DFE8F3\",\"gridwidth\":2,\"linecolor\":\"#EBF0F8\",\"showbackground\":true,\"ticks\":\"\",\"zerolinecolor\":\"#EBF0F8\"}},\"shapedefaults\":{\"line\":{\"color\":\"#2a3f5f\"}},\"ternary\":{\"aaxis\":{\"gridcolor\":\"#DFE8F3\",\"linecolor\":\"#A2B1C6\",\"ticks\":\"\"},\"baxis\":{\"gridcolor\":\"#DFE8F3\",\"linecolor\":\"#A2B1C6\",\"ticks\":\"\"},\"bgcolor\":\"white\",\"caxis\":{\"gridcolor\":\"#DFE8F3\",\"linecolor\":\"#A2B1C6\",\"ticks\":\"\"}},\"title\":{\"x\":0.05},\"xaxis\":{\"automargin\":true,\"gridcolor\":\"#EBF0F8\",\"linecolor\":\"#EBF0F8\",\"ticks\":\"\",\"title\":{\"standoff\":15},\"zerolinecolor\":\"#EBF0F8\",\"zerolinewidth\":2},\"yaxis\":{\"automargin\":true,\"gridcolor\":\"#EBF0F8\",\"linecolor\":\"#EBF0F8\",\"ticks\":\"\",\"title\":{\"standoff\":15},\"zerolinecolor\":\"#EBF0F8\",\"zerolinewidth\":2}}},\"font\":{\"family\":\"Times new roman\",\"color\":\"black\"},\"polar\":{\"radialaxis\":{\"tickfont\":{\"size\":10},\"title\":{\"text\":\"AUC\",\"font\":{\"size\":15}},\"visible\":true,\"range\":[0.35,0.66],\"tickangle\":35},\"angularaxis\":{\"tickfont\":{\"size\":40}}},\"width\":800,\"height\":800,\"showlegend\":true},                        {\"responsive\": true}                    ).then(function(){\n",
       "                            \n",
       "var gd = document.getElementById('43bf2df1-4536-4cea-810d-b0eedc812596');\n",
       "var x = new MutationObserver(function (mutations, observer) {{\n",
       "        var display = window.getComputedStyle(gd).display;\n",
       "        if (!display || display === 'none') {{\n",
       "            console.log([gd, 'removed!']);\n",
       "            Plotly.purge(gd);\n",
       "            observer.disconnect();\n",
       "        }}\n",
       "}});\n",
       "\n",
       "// Listen for the removal of the full notebook cells\n",
       "var notebookContainer = gd.closest('#notebook-container');\n",
       "if (notebookContainer) {{\n",
       "    x.observe(notebookContainer, {childList: true});\n",
       "}}\n",
       "\n",
       "// Listen for the clearing of the current output cell\n",
       "var outputEl = gd.closest('.output');\n",
       "if (outputEl) {{\n",
       "    x.observe(outputEl, {childList: true});\n",
       "}}\n",
       "\n",
       "                        })                };                });            </script>        </div>"
      ]
     },
     "metadata": {},
     "output_type": "display_data"
    }
   ],
   "source": [
    "def symbol_fun_anr(x):\n",
    "    if  x== 'p < 0.05 FDR corrected':\n",
    "        symbols = 'hexagram' \n",
    "    elif x == 'p < 0.05 uncorrected':\n",
    "        symbols = 'hexagram'\n",
    "    else:\n",
    "        symbols = 'circle-open'\n",
    "            \n",
    "    return symbols\n",
    "\n",
    "anr_contrasts = [  'dMW vs on-task', 'sMW vs on-task','sMW vs dMW']\n",
    "\n",
    "\n",
    "df_anr_contrasts = df_all_probe.query(f\"comparison in {anr_contrasts}\").query(\"balance == 'over-sample'\")\n",
    "significants = df_anr_contrasts.query(\"significant != 'p > 0.05'\").markers.unique().tolist()\n",
    "\n",
    "others = 'PE|wSMI|K|SE|MSF|SEF90|SEF95'\n",
    "df_anr_contrasts = df_anr_contrasts[~df_anr_contrasts.markers.str.contains(others, case = False)]\n",
    "\n",
    "df_anr_contrasts = df_anr_contrasts[~df_anr_contrasts.markers.str.contains('std', case = False)]\n",
    "\n",
    "ot_dmw =df_anr_contrasts.query(\"comparison == 'dMW vs on-task'\").query(f'markers in {significants}').assign(symbol = lambda df: df.significant.apply(symbol_fun_anr))\n",
    "ot_smw = df_anr_contrasts.query(\"comparison == 'sMW vs on-task'\").query(f'markers in {significants}').assign(symbol = lambda df: df.significant.apply(symbol_fun_anr))\n",
    "dmw_smw = df_anr_contrasts.query(\"comparison == 'sMW vs dMW'\").query(f'markers in {significants}').assign(symbol = lambda df: df.significant.apply(symbol_fun_anr))\n",
    "\n",
    "fig = pgo.Figure()\n",
    "\n",
    "\n",
    "\n",
    "fig.add_trace(pgo.Scatterpolar(\n",
    "    r=np.ones(len(ot_dmw['markers'])) * 0.5,\n",
    "    theta=ot_dmw['markers'],\n",
    "    name = 'Chance level classification',\n",
    "    mode = 'lines',\n",
    "    line = {'color':'grey', 'width': 2, 'dash': 'dash' },\n",
    "))\n",
    "\n",
    "fig.add_trace(pgo.Scatterpolar(\n",
    "    r=ot_dmw.AUC,\n",
    "    theta=ot_dmw['markers'],\n",
    "    fill='toself',\n",
    "    name= 'On-task vs deliberate MW', \n",
    "    marker = {'color':lblue, 'size': 10},\n",
    "    fillcolor= f\"rgba{(*hex_to_rgb(lblue), 0.2)}\",\n",
    "    marker_symbol= ot_dmw.symbol.to_list()\n",
    "))\n",
    "\n",
    "fig.add_trace(pgo.Scatterpolar(\n",
    "    r=ot_smw.AUC,\n",
    "    theta=ot_smw['markers'],\n",
    "    fill='toself',\n",
    "    name='On-task vs spontaneous MW',\n",
    "    marker = {'color':pink, 'size': 10},\n",
    "    fillcolor= f\"rgba{(*hex_to_rgb(pink), 0.2)}\",\n",
    "    marker_symbol= ot_smw.symbol.to_list()\n",
    "))\n",
    "\n",
    "fig.add_trace(pgo.Scatterpolar(\n",
    "    r=dmw_smw.AUC,\n",
    "    theta=dmw_smw['markers'],\n",
    "    fill='toself',\n",
    "    name='sMW vs dMW',\n",
    "    marker = {'color':orange, 'size': 10},\n",
    "    fillcolor= f\"rgba{(*hex_to_rgb(orange), 0.2)}\",\n",
    "    marker_symbol= dmw_smw.symbol.to_list()\n",
    "))\n",
    "\n",
    "\n",
    "\n",
    "fig.update_layout(\n",
    "    # title=\"All Off-task against all for Significant markers\",\n",
    "#     legend_title=\"Classification\",\n",
    "    width=800,\n",
    "    height=800,\n",
    "    # autosize = True, \n",
    "        template = 'plotly_white',\n",
    "        font=dict(\n",
    "        family=\"Times new roman\",\n",
    "        # size=25,\n",
    "        color=\"black\"\n",
    "    ),\n",
    "    polar=dict(\n",
    "        radialaxis=dict(\n",
    "            title = 'AUC',\n",
    "            visible=True,\n",
    "            range = [0.35,0.66], \n",
    "            tickangle = 35,\n",
    "            tickfont = {\"size\": 10},\n",
    "            titlefont =  {\"size\": 15},\n",
    "        ),\n",
    "        angularaxis = dict(\n",
    "        tickfont = {\"size\": 40},\n",
    "        )\n",
    "  ),\n",
    "    showlegend=True\n",
    ")\n",
    "\n",
    "\n",
    "fig.show()\n",
    "pio.write_json(fig, 'Figs/radar_anr_auc_significant.plotly')\n",
    "\n",
    "fig.write_image(\"Figs/radar_off_task_significant.pdf\")\n",
    "fig.write_image(\"Figs/radar_off_task_significant.png\")\n"
   ]
  },
  {
   "cell_type": "code",
   "execution_count": 34,
   "id": "nervous-picture",
   "metadata": {},
   "outputs": [
    {
     "data": {
      "application/vnd.plotly.v1+json": {
       "config": {
        "plotlyServerURL": "https://plot.ly"
       },
       "data": [
        {
         "line": {
          "color": "grey",
          "dash": "dash",
          "width": 2
         },
         "mode": "lines",
         "name": "Chance: AUC = 0.5",
         "r": [
          0.5
         ],
         "theta": [
          "$PE\\gamma_{mean}$"
         ],
         "type": "scatterpolar"
        },
        {
         "fill": "toself",
         "marker": {
          "color": "#42B9B2",
          "size": 10,
          "symbol": [
           "circle"
          ]
         },
         "name": "dMW vs distracted",
         "r": [
          0.6163194444444444
         ],
         "theta": [
          "$PE\\gamma_{mean}$"
         ],
         "type": "scatterpolar"
        },
        {
         "fill": "toself",
         "marker": {
          "color": "#DE237B",
          "size": 10,
          "symbol": [
           "circle-open"
          ]
         },
         "name": "sMW vs distracted",
         "r": [
          0.5460069444444445
         ],
         "theta": [
          "$PE\\gamma_{mean}$"
         ],
         "type": "scatterpolar"
        },
        {
         "fill": "toself",
         "marker": {
          "color": "#F38A31",
          "size": 10,
          "symbol": [
           "circle-open"
          ]
         },
         "name": "sMW vs dMW",
         "r": [
          0.44294213088155754
         ],
         "theta": [
          "$PE\\gamma_{mean}$"
         ],
         "type": "scatterpolar"
        }
       ],
       "layout": {
        "font": {
         "color": "black",
         "family": "Times new roman"
        },
        "height": 800,
        "polar": {
         "angularaxis": {
          "tickfont": {
           "size": 40
          }
         },
         "radialaxis": {
          "range": [
           0.35,
           0.66
          ],
          "tickangle": 35,
          "tickfont": {
           "size": 10
          },
          "title": {
           "font": {
            "size": 15
           },
           "text": "AUC"
          },
          "visible": true
         }
        },
        "showlegend": true,
        "template": {
         "data": {
          "bar": [
           {
            "error_x": {
             "color": "#2a3f5f"
            },
            "error_y": {
             "color": "#2a3f5f"
            },
            "marker": {
             "line": {
              "color": "white",
              "width": 0.5
             },
             "pattern": {
              "fillmode": "overlay",
              "size": 10,
              "solidity": 0.2
             }
            },
            "type": "bar"
           }
          ],
          "barpolar": [
           {
            "marker": {
             "line": {
              "color": "white",
              "width": 0.5
             },
             "pattern": {
              "fillmode": "overlay",
              "size": 10,
              "solidity": 0.2
             }
            },
            "type": "barpolar"
           }
          ],
          "carpet": [
           {
            "aaxis": {
             "endlinecolor": "#2a3f5f",
             "gridcolor": "#C8D4E3",
             "linecolor": "#C8D4E3",
             "minorgridcolor": "#C8D4E3",
             "startlinecolor": "#2a3f5f"
            },
            "baxis": {
             "endlinecolor": "#2a3f5f",
             "gridcolor": "#C8D4E3",
             "linecolor": "#C8D4E3",
             "minorgridcolor": "#C8D4E3",
             "startlinecolor": "#2a3f5f"
            },
            "type": "carpet"
           }
          ],
          "choropleth": [
           {
            "colorbar": {
             "outlinewidth": 0,
             "ticks": ""
            },
            "type": "choropleth"
           }
          ],
          "contour": [
           {
            "colorbar": {
             "outlinewidth": 0,
             "ticks": ""
            },
            "colorscale": [
             [
              0,
              "#0d0887"
             ],
             [
              0.1111111111111111,
              "#46039f"
             ],
             [
              0.2222222222222222,
              "#7201a8"
             ],
             [
              0.3333333333333333,
              "#9c179e"
             ],
             [
              0.4444444444444444,
              "#bd3786"
             ],
             [
              0.5555555555555556,
              "#d8576b"
             ],
             [
              0.6666666666666666,
              "#ed7953"
             ],
             [
              0.7777777777777778,
              "#fb9f3a"
             ],
             [
              0.8888888888888888,
              "#fdca26"
             ],
             [
              1,
              "#f0f921"
             ]
            ],
            "type": "contour"
           }
          ],
          "contourcarpet": [
           {
            "colorbar": {
             "outlinewidth": 0,
             "ticks": ""
            },
            "type": "contourcarpet"
           }
          ],
          "heatmap": [
           {
            "colorbar": {
             "outlinewidth": 0,
             "ticks": ""
            },
            "colorscale": [
             [
              0,
              "#0d0887"
             ],
             [
              0.1111111111111111,
              "#46039f"
             ],
             [
              0.2222222222222222,
              "#7201a8"
             ],
             [
              0.3333333333333333,
              "#9c179e"
             ],
             [
              0.4444444444444444,
              "#bd3786"
             ],
             [
              0.5555555555555556,
              "#d8576b"
             ],
             [
              0.6666666666666666,
              "#ed7953"
             ],
             [
              0.7777777777777778,
              "#fb9f3a"
             ],
             [
              0.8888888888888888,
              "#fdca26"
             ],
             [
              1,
              "#f0f921"
             ]
            ],
            "type": "heatmap"
           }
          ],
          "heatmapgl": [
           {
            "colorbar": {
             "outlinewidth": 0,
             "ticks": ""
            },
            "colorscale": [
             [
              0,
              "#0d0887"
             ],
             [
              0.1111111111111111,
              "#46039f"
             ],
             [
              0.2222222222222222,
              "#7201a8"
             ],
             [
              0.3333333333333333,
              "#9c179e"
             ],
             [
              0.4444444444444444,
              "#bd3786"
             ],
             [
              0.5555555555555556,
              "#d8576b"
             ],
             [
              0.6666666666666666,
              "#ed7953"
             ],
             [
              0.7777777777777778,
              "#fb9f3a"
             ],
             [
              0.8888888888888888,
              "#fdca26"
             ],
             [
              1,
              "#f0f921"
             ]
            ],
            "type": "heatmapgl"
           }
          ],
          "histogram": [
           {
            "marker": {
             "pattern": {
              "fillmode": "overlay",
              "size": 10,
              "solidity": 0.2
             }
            },
            "type": "histogram"
           }
          ],
          "histogram2d": [
           {
            "colorbar": {
             "outlinewidth": 0,
             "ticks": ""
            },
            "colorscale": [
             [
              0,
              "#0d0887"
             ],
             [
              0.1111111111111111,
              "#46039f"
             ],
             [
              0.2222222222222222,
              "#7201a8"
             ],
             [
              0.3333333333333333,
              "#9c179e"
             ],
             [
              0.4444444444444444,
              "#bd3786"
             ],
             [
              0.5555555555555556,
              "#d8576b"
             ],
             [
              0.6666666666666666,
              "#ed7953"
             ],
             [
              0.7777777777777778,
              "#fb9f3a"
             ],
             [
              0.8888888888888888,
              "#fdca26"
             ],
             [
              1,
              "#f0f921"
             ]
            ],
            "type": "histogram2d"
           }
          ],
          "histogram2dcontour": [
           {
            "colorbar": {
             "outlinewidth": 0,
             "ticks": ""
            },
            "colorscale": [
             [
              0,
              "#0d0887"
             ],
             [
              0.1111111111111111,
              "#46039f"
             ],
             [
              0.2222222222222222,
              "#7201a8"
             ],
             [
              0.3333333333333333,
              "#9c179e"
             ],
             [
              0.4444444444444444,
              "#bd3786"
             ],
             [
              0.5555555555555556,
              "#d8576b"
             ],
             [
              0.6666666666666666,
              "#ed7953"
             ],
             [
              0.7777777777777778,
              "#fb9f3a"
             ],
             [
              0.8888888888888888,
              "#fdca26"
             ],
             [
              1,
              "#f0f921"
             ]
            ],
            "type": "histogram2dcontour"
           }
          ],
          "mesh3d": [
           {
            "colorbar": {
             "outlinewidth": 0,
             "ticks": ""
            },
            "type": "mesh3d"
           }
          ],
          "parcoords": [
           {
            "line": {
             "colorbar": {
              "outlinewidth": 0,
              "ticks": ""
             }
            },
            "type": "parcoords"
           }
          ],
          "pie": [
           {
            "automargin": true,
            "type": "pie"
           }
          ],
          "scatter": [
           {
            "fillpattern": {
             "fillmode": "overlay",
             "size": 10,
             "solidity": 0.2
            },
            "type": "scatter"
           }
          ],
          "scatter3d": [
           {
            "line": {
             "colorbar": {
              "outlinewidth": 0,
              "ticks": ""
             }
            },
            "marker": {
             "colorbar": {
              "outlinewidth": 0,
              "ticks": ""
             }
            },
            "type": "scatter3d"
           }
          ],
          "scattercarpet": [
           {
            "marker": {
             "colorbar": {
              "outlinewidth": 0,
              "ticks": ""
             }
            },
            "type": "scattercarpet"
           }
          ],
          "scattergeo": [
           {
            "marker": {
             "colorbar": {
              "outlinewidth": 0,
              "ticks": ""
             }
            },
            "type": "scattergeo"
           }
          ],
          "scattergl": [
           {
            "marker": {
             "colorbar": {
              "outlinewidth": 0,
              "ticks": ""
             }
            },
            "type": "scattergl"
           }
          ],
          "scattermapbox": [
           {
            "marker": {
             "colorbar": {
              "outlinewidth": 0,
              "ticks": ""
             }
            },
            "type": "scattermapbox"
           }
          ],
          "scatterpolar": [
           {
            "marker": {
             "colorbar": {
              "outlinewidth": 0,
              "ticks": ""
             }
            },
            "type": "scatterpolar"
           }
          ],
          "scatterpolargl": [
           {
            "marker": {
             "colorbar": {
              "outlinewidth": 0,
              "ticks": ""
             }
            },
            "type": "scatterpolargl"
           }
          ],
          "scatterternary": [
           {
            "marker": {
             "colorbar": {
              "outlinewidth": 0,
              "ticks": ""
             }
            },
            "type": "scatterternary"
           }
          ],
          "surface": [
           {
            "colorbar": {
             "outlinewidth": 0,
             "ticks": ""
            },
            "colorscale": [
             [
              0,
              "#0d0887"
             ],
             [
              0.1111111111111111,
              "#46039f"
             ],
             [
              0.2222222222222222,
              "#7201a8"
             ],
             [
              0.3333333333333333,
              "#9c179e"
             ],
             [
              0.4444444444444444,
              "#bd3786"
             ],
             [
              0.5555555555555556,
              "#d8576b"
             ],
             [
              0.6666666666666666,
              "#ed7953"
             ],
             [
              0.7777777777777778,
              "#fb9f3a"
             ],
             [
              0.8888888888888888,
              "#fdca26"
             ],
             [
              1,
              "#f0f921"
             ]
            ],
            "type": "surface"
           }
          ],
          "table": [
           {
            "cells": {
             "fill": {
              "color": "#EBF0F8"
             },
             "line": {
              "color": "white"
             }
            },
            "header": {
             "fill": {
              "color": "#C8D4E3"
             },
             "line": {
              "color": "white"
             }
            },
            "type": "table"
           }
          ]
         },
         "layout": {
          "annotationdefaults": {
           "arrowcolor": "#2a3f5f",
           "arrowhead": 0,
           "arrowwidth": 1
          },
          "autotypenumbers": "strict",
          "coloraxis": {
           "colorbar": {
            "outlinewidth": 0,
            "ticks": ""
           }
          },
          "colorscale": {
           "diverging": [
            [
             0,
             "#8e0152"
            ],
            [
             0.1,
             "#c51b7d"
            ],
            [
             0.2,
             "#de77ae"
            ],
            [
             0.3,
             "#f1b6da"
            ],
            [
             0.4,
             "#fde0ef"
            ],
            [
             0.5,
             "#f7f7f7"
            ],
            [
             0.6,
             "#e6f5d0"
            ],
            [
             0.7,
             "#b8e186"
            ],
            [
             0.8,
             "#7fbc41"
            ],
            [
             0.9,
             "#4d9221"
            ],
            [
             1,
             "#276419"
            ]
           ],
           "sequential": [
            [
             0,
             "#0d0887"
            ],
            [
             0.1111111111111111,
             "#46039f"
            ],
            [
             0.2222222222222222,
             "#7201a8"
            ],
            [
             0.3333333333333333,
             "#9c179e"
            ],
            [
             0.4444444444444444,
             "#bd3786"
            ],
            [
             0.5555555555555556,
             "#d8576b"
            ],
            [
             0.6666666666666666,
             "#ed7953"
            ],
            [
             0.7777777777777778,
             "#fb9f3a"
            ],
            [
             0.8888888888888888,
             "#fdca26"
            ],
            [
             1,
             "#f0f921"
            ]
           ],
           "sequentialminus": [
            [
             0,
             "#0d0887"
            ],
            [
             0.1111111111111111,
             "#46039f"
            ],
            [
             0.2222222222222222,
             "#7201a8"
            ],
            [
             0.3333333333333333,
             "#9c179e"
            ],
            [
             0.4444444444444444,
             "#bd3786"
            ],
            [
             0.5555555555555556,
             "#d8576b"
            ],
            [
             0.6666666666666666,
             "#ed7953"
            ],
            [
             0.7777777777777778,
             "#fb9f3a"
            ],
            [
             0.8888888888888888,
             "#fdca26"
            ],
            [
             1,
             "#f0f921"
            ]
           ]
          },
          "colorway": [
           "#636efa",
           "#EF553B",
           "#00cc96",
           "#ab63fa",
           "#FFA15A",
           "#19d3f3",
           "#FF6692",
           "#B6E880",
           "#FF97FF",
           "#FECB52"
          ],
          "font": {
           "color": "#2a3f5f"
          },
          "geo": {
           "bgcolor": "white",
           "lakecolor": "white",
           "landcolor": "white",
           "showlakes": true,
           "showland": true,
           "subunitcolor": "#C8D4E3"
          },
          "hoverlabel": {
           "align": "left"
          },
          "hovermode": "closest",
          "mapbox": {
           "style": "light"
          },
          "paper_bgcolor": "white",
          "plot_bgcolor": "white",
          "polar": {
           "angularaxis": {
            "gridcolor": "#EBF0F8",
            "linecolor": "#EBF0F8",
            "ticks": ""
           },
           "bgcolor": "white",
           "radialaxis": {
            "gridcolor": "#EBF0F8",
            "linecolor": "#EBF0F8",
            "ticks": ""
           }
          },
          "scene": {
           "xaxis": {
            "backgroundcolor": "white",
            "gridcolor": "#DFE8F3",
            "gridwidth": 2,
            "linecolor": "#EBF0F8",
            "showbackground": true,
            "ticks": "",
            "zerolinecolor": "#EBF0F8"
           },
           "yaxis": {
            "backgroundcolor": "white",
            "gridcolor": "#DFE8F3",
            "gridwidth": 2,
            "linecolor": "#EBF0F8",
            "showbackground": true,
            "ticks": "",
            "zerolinecolor": "#EBF0F8"
           },
           "zaxis": {
            "backgroundcolor": "white",
            "gridcolor": "#DFE8F3",
            "gridwidth": 2,
            "linecolor": "#EBF0F8",
            "showbackground": true,
            "ticks": "",
            "zerolinecolor": "#EBF0F8"
           }
          },
          "shapedefaults": {
           "line": {
            "color": "#2a3f5f"
           }
          },
          "ternary": {
           "aaxis": {
            "gridcolor": "#DFE8F3",
            "linecolor": "#A2B1C6",
            "ticks": ""
           },
           "baxis": {
            "gridcolor": "#DFE8F3",
            "linecolor": "#A2B1C6",
            "ticks": ""
           },
           "bgcolor": "white",
           "caxis": {
            "gridcolor": "#DFE8F3",
            "linecolor": "#A2B1C6",
            "ticks": ""
           }
          },
          "title": {
           "x": 0.05
          },
          "xaxis": {
           "automargin": true,
           "gridcolor": "#EBF0F8",
           "linecolor": "#EBF0F8",
           "ticks": "",
           "title": {
            "standoff": 15
           },
           "zerolinecolor": "#EBF0F8",
           "zerolinewidth": 2
          },
          "yaxis": {
           "automargin": true,
           "gridcolor": "#EBF0F8",
           "linecolor": "#EBF0F8",
           "ticks": "",
           "title": {
            "standoff": 15
           },
           "zerolinecolor": "#EBF0F8",
           "zerolinewidth": 2
          }
         }
        },
        "width": 800
       }
      },
      "text/html": [
       "<div>                            <div id=\"943ea891-e359-4385-a431-9a4dd229074d\" class=\"plotly-graph-div\" style=\"height:800px; width:800px;\"></div>            <script type=\"text/javascript\">                require([\"plotly\"], function(Plotly) {                    window.PLOTLYENV=window.PLOTLYENV || {};                                    if (document.getElementById(\"943ea891-e359-4385-a431-9a4dd229074d\")) {                    Plotly.newPlot(                        \"943ea891-e359-4385-a431-9a4dd229074d\",                        [{\"line\":{\"color\":\"grey\",\"dash\":\"dash\",\"width\":2},\"mode\":\"lines\",\"name\":\"Chance: AUC = 0.5\",\"r\":[0.5],\"theta\":[\"$PE\\\\gamma_{mean}$\"],\"type\":\"scatterpolar\"},{\"fill\":\"toself\",\"marker\":{\"color\":\"#42B9B2\",\"size\":10,\"symbol\":[\"circle\"]},\"name\":\"dMW vs distracted\",\"r\":[0.6163194444444444],\"theta\":[\"$PE\\\\gamma_{mean}$\"],\"type\":\"scatterpolar\"},{\"fill\":\"toself\",\"marker\":{\"color\":\"#DE237B\",\"size\":10,\"symbol\":[\"circle-open\"]},\"name\":\"sMW vs distracted\",\"r\":[0.5460069444444445],\"theta\":[\"$PE\\\\gamma_{mean}$\"],\"type\":\"scatterpolar\"},{\"fill\":\"toself\",\"marker\":{\"color\":\"#F38A31\",\"size\":10,\"symbol\":[\"circle-open\"]},\"name\":\"sMW vs dMW\",\"r\":[0.44294213088155754],\"theta\":[\"$PE\\\\gamma_{mean}$\"],\"type\":\"scatterpolar\"}],                        {\"template\":{\"data\":{\"barpolar\":[{\"marker\":{\"line\":{\"color\":\"white\",\"width\":0.5},\"pattern\":{\"fillmode\":\"overlay\",\"size\":10,\"solidity\":0.2}},\"type\":\"barpolar\"}],\"bar\":[{\"error_x\":{\"color\":\"#2a3f5f\"},\"error_y\":{\"color\":\"#2a3f5f\"},\"marker\":{\"line\":{\"color\":\"white\",\"width\":0.5},\"pattern\":{\"fillmode\":\"overlay\",\"size\":10,\"solidity\":0.2}},\"type\":\"bar\"}],\"carpet\":[{\"aaxis\":{\"endlinecolor\":\"#2a3f5f\",\"gridcolor\":\"#C8D4E3\",\"linecolor\":\"#C8D4E3\",\"minorgridcolor\":\"#C8D4E3\",\"startlinecolor\":\"#2a3f5f\"},\"baxis\":{\"endlinecolor\":\"#2a3f5f\",\"gridcolor\":\"#C8D4E3\",\"linecolor\":\"#C8D4E3\",\"minorgridcolor\":\"#C8D4E3\",\"startlinecolor\":\"#2a3f5f\"},\"type\":\"carpet\"}],\"choropleth\":[{\"colorbar\":{\"outlinewidth\":0,\"ticks\":\"\"},\"type\":\"choropleth\"}],\"contourcarpet\":[{\"colorbar\":{\"outlinewidth\":0,\"ticks\":\"\"},\"type\":\"contourcarpet\"}],\"contour\":[{\"colorbar\":{\"outlinewidth\":0,\"ticks\":\"\"},\"colorscale\":[[0.0,\"#0d0887\"],[0.1111111111111111,\"#46039f\"],[0.2222222222222222,\"#7201a8\"],[0.3333333333333333,\"#9c179e\"],[0.4444444444444444,\"#bd3786\"],[0.5555555555555556,\"#d8576b\"],[0.6666666666666666,\"#ed7953\"],[0.7777777777777778,\"#fb9f3a\"],[0.8888888888888888,\"#fdca26\"],[1.0,\"#f0f921\"]],\"type\":\"contour\"}],\"heatmapgl\":[{\"colorbar\":{\"outlinewidth\":0,\"ticks\":\"\"},\"colorscale\":[[0.0,\"#0d0887\"],[0.1111111111111111,\"#46039f\"],[0.2222222222222222,\"#7201a8\"],[0.3333333333333333,\"#9c179e\"],[0.4444444444444444,\"#bd3786\"],[0.5555555555555556,\"#d8576b\"],[0.6666666666666666,\"#ed7953\"],[0.7777777777777778,\"#fb9f3a\"],[0.8888888888888888,\"#fdca26\"],[1.0,\"#f0f921\"]],\"type\":\"heatmapgl\"}],\"heatmap\":[{\"colorbar\":{\"outlinewidth\":0,\"ticks\":\"\"},\"colorscale\":[[0.0,\"#0d0887\"],[0.1111111111111111,\"#46039f\"],[0.2222222222222222,\"#7201a8\"],[0.3333333333333333,\"#9c179e\"],[0.4444444444444444,\"#bd3786\"],[0.5555555555555556,\"#d8576b\"],[0.6666666666666666,\"#ed7953\"],[0.7777777777777778,\"#fb9f3a\"],[0.8888888888888888,\"#fdca26\"],[1.0,\"#f0f921\"]],\"type\":\"heatmap\"}],\"histogram2dcontour\":[{\"colorbar\":{\"outlinewidth\":0,\"ticks\":\"\"},\"colorscale\":[[0.0,\"#0d0887\"],[0.1111111111111111,\"#46039f\"],[0.2222222222222222,\"#7201a8\"],[0.3333333333333333,\"#9c179e\"],[0.4444444444444444,\"#bd3786\"],[0.5555555555555556,\"#d8576b\"],[0.6666666666666666,\"#ed7953\"],[0.7777777777777778,\"#fb9f3a\"],[0.8888888888888888,\"#fdca26\"],[1.0,\"#f0f921\"]],\"type\":\"histogram2dcontour\"}],\"histogram2d\":[{\"colorbar\":{\"outlinewidth\":0,\"ticks\":\"\"},\"colorscale\":[[0.0,\"#0d0887\"],[0.1111111111111111,\"#46039f\"],[0.2222222222222222,\"#7201a8\"],[0.3333333333333333,\"#9c179e\"],[0.4444444444444444,\"#bd3786\"],[0.5555555555555556,\"#d8576b\"],[0.6666666666666666,\"#ed7953\"],[0.7777777777777778,\"#fb9f3a\"],[0.8888888888888888,\"#fdca26\"],[1.0,\"#f0f921\"]],\"type\":\"histogram2d\"}],\"histogram\":[{\"marker\":{\"pattern\":{\"fillmode\":\"overlay\",\"size\":10,\"solidity\":0.2}},\"type\":\"histogram\"}],\"mesh3d\":[{\"colorbar\":{\"outlinewidth\":0,\"ticks\":\"\"},\"type\":\"mesh3d\"}],\"parcoords\":[{\"line\":{\"colorbar\":{\"outlinewidth\":0,\"ticks\":\"\"}},\"type\":\"parcoords\"}],\"pie\":[{\"automargin\":true,\"type\":\"pie\"}],\"scatter3d\":[{\"line\":{\"colorbar\":{\"outlinewidth\":0,\"ticks\":\"\"}},\"marker\":{\"colorbar\":{\"outlinewidth\":0,\"ticks\":\"\"}},\"type\":\"scatter3d\"}],\"scattercarpet\":[{\"marker\":{\"colorbar\":{\"outlinewidth\":0,\"ticks\":\"\"}},\"type\":\"scattercarpet\"}],\"scattergeo\":[{\"marker\":{\"colorbar\":{\"outlinewidth\":0,\"ticks\":\"\"}},\"type\":\"scattergeo\"}],\"scattergl\":[{\"marker\":{\"colorbar\":{\"outlinewidth\":0,\"ticks\":\"\"}},\"type\":\"scattergl\"}],\"scattermapbox\":[{\"marker\":{\"colorbar\":{\"outlinewidth\":0,\"ticks\":\"\"}},\"type\":\"scattermapbox\"}],\"scatterpolargl\":[{\"marker\":{\"colorbar\":{\"outlinewidth\":0,\"ticks\":\"\"}},\"type\":\"scatterpolargl\"}],\"scatterpolar\":[{\"marker\":{\"colorbar\":{\"outlinewidth\":0,\"ticks\":\"\"}},\"type\":\"scatterpolar\"}],\"scatter\":[{\"fillpattern\":{\"fillmode\":\"overlay\",\"size\":10,\"solidity\":0.2},\"type\":\"scatter\"}],\"scatterternary\":[{\"marker\":{\"colorbar\":{\"outlinewidth\":0,\"ticks\":\"\"}},\"type\":\"scatterternary\"}],\"surface\":[{\"colorbar\":{\"outlinewidth\":0,\"ticks\":\"\"},\"colorscale\":[[0.0,\"#0d0887\"],[0.1111111111111111,\"#46039f\"],[0.2222222222222222,\"#7201a8\"],[0.3333333333333333,\"#9c179e\"],[0.4444444444444444,\"#bd3786\"],[0.5555555555555556,\"#d8576b\"],[0.6666666666666666,\"#ed7953\"],[0.7777777777777778,\"#fb9f3a\"],[0.8888888888888888,\"#fdca26\"],[1.0,\"#f0f921\"]],\"type\":\"surface\"}],\"table\":[{\"cells\":{\"fill\":{\"color\":\"#EBF0F8\"},\"line\":{\"color\":\"white\"}},\"header\":{\"fill\":{\"color\":\"#C8D4E3\"},\"line\":{\"color\":\"white\"}},\"type\":\"table\"}]},\"layout\":{\"annotationdefaults\":{\"arrowcolor\":\"#2a3f5f\",\"arrowhead\":0,\"arrowwidth\":1},\"autotypenumbers\":\"strict\",\"coloraxis\":{\"colorbar\":{\"outlinewidth\":0,\"ticks\":\"\"}},\"colorscale\":{\"diverging\":[[0,\"#8e0152\"],[0.1,\"#c51b7d\"],[0.2,\"#de77ae\"],[0.3,\"#f1b6da\"],[0.4,\"#fde0ef\"],[0.5,\"#f7f7f7\"],[0.6,\"#e6f5d0\"],[0.7,\"#b8e186\"],[0.8,\"#7fbc41\"],[0.9,\"#4d9221\"],[1,\"#276419\"]],\"sequential\":[[0.0,\"#0d0887\"],[0.1111111111111111,\"#46039f\"],[0.2222222222222222,\"#7201a8\"],[0.3333333333333333,\"#9c179e\"],[0.4444444444444444,\"#bd3786\"],[0.5555555555555556,\"#d8576b\"],[0.6666666666666666,\"#ed7953\"],[0.7777777777777778,\"#fb9f3a\"],[0.8888888888888888,\"#fdca26\"],[1.0,\"#f0f921\"]],\"sequentialminus\":[[0.0,\"#0d0887\"],[0.1111111111111111,\"#46039f\"],[0.2222222222222222,\"#7201a8\"],[0.3333333333333333,\"#9c179e\"],[0.4444444444444444,\"#bd3786\"],[0.5555555555555556,\"#d8576b\"],[0.6666666666666666,\"#ed7953\"],[0.7777777777777778,\"#fb9f3a\"],[0.8888888888888888,\"#fdca26\"],[1.0,\"#f0f921\"]]},\"colorway\":[\"#636efa\",\"#EF553B\",\"#00cc96\",\"#ab63fa\",\"#FFA15A\",\"#19d3f3\",\"#FF6692\",\"#B6E880\",\"#FF97FF\",\"#FECB52\"],\"font\":{\"color\":\"#2a3f5f\"},\"geo\":{\"bgcolor\":\"white\",\"lakecolor\":\"white\",\"landcolor\":\"white\",\"showlakes\":true,\"showland\":true,\"subunitcolor\":\"#C8D4E3\"},\"hoverlabel\":{\"align\":\"left\"},\"hovermode\":\"closest\",\"mapbox\":{\"style\":\"light\"},\"paper_bgcolor\":\"white\",\"plot_bgcolor\":\"white\",\"polar\":{\"angularaxis\":{\"gridcolor\":\"#EBF0F8\",\"linecolor\":\"#EBF0F8\",\"ticks\":\"\"},\"bgcolor\":\"white\",\"radialaxis\":{\"gridcolor\":\"#EBF0F8\",\"linecolor\":\"#EBF0F8\",\"ticks\":\"\"}},\"scene\":{\"xaxis\":{\"backgroundcolor\":\"white\",\"gridcolor\":\"#DFE8F3\",\"gridwidth\":2,\"linecolor\":\"#EBF0F8\",\"showbackground\":true,\"ticks\":\"\",\"zerolinecolor\":\"#EBF0F8\"},\"yaxis\":{\"backgroundcolor\":\"white\",\"gridcolor\":\"#DFE8F3\",\"gridwidth\":2,\"linecolor\":\"#EBF0F8\",\"showbackground\":true,\"ticks\":\"\",\"zerolinecolor\":\"#EBF0F8\"},\"zaxis\":{\"backgroundcolor\":\"white\",\"gridcolor\":\"#DFE8F3\",\"gridwidth\":2,\"linecolor\":\"#EBF0F8\",\"showbackground\":true,\"ticks\":\"\",\"zerolinecolor\":\"#EBF0F8\"}},\"shapedefaults\":{\"line\":{\"color\":\"#2a3f5f\"}},\"ternary\":{\"aaxis\":{\"gridcolor\":\"#DFE8F3\",\"linecolor\":\"#A2B1C6\",\"ticks\":\"\"},\"baxis\":{\"gridcolor\":\"#DFE8F3\",\"linecolor\":\"#A2B1C6\",\"ticks\":\"\"},\"bgcolor\":\"white\",\"caxis\":{\"gridcolor\":\"#DFE8F3\",\"linecolor\":\"#A2B1C6\",\"ticks\":\"\"}},\"title\":{\"x\":0.05},\"xaxis\":{\"automargin\":true,\"gridcolor\":\"#EBF0F8\",\"linecolor\":\"#EBF0F8\",\"ticks\":\"\",\"title\":{\"standoff\":15},\"zerolinecolor\":\"#EBF0F8\",\"zerolinewidth\":2},\"yaxis\":{\"automargin\":true,\"gridcolor\":\"#EBF0F8\",\"linecolor\":\"#EBF0F8\",\"ticks\":\"\",\"title\":{\"standoff\":15},\"zerolinecolor\":\"#EBF0F8\",\"zerolinewidth\":2}}},\"font\":{\"family\":\"Times new roman\",\"color\":\"black\"},\"polar\":{\"radialaxis\":{\"tickfont\":{\"size\":10},\"title\":{\"text\":\"AUC\",\"font\":{\"size\":15}},\"visible\":true,\"range\":[0.35,0.66],\"tickangle\":35},\"angularaxis\":{\"tickfont\":{\"size\":40}}},\"width\":800,\"height\":800,\"showlegend\":true},                        {\"responsive\": true}                    ).then(function(){\n",
       "                            \n",
       "var gd = document.getElementById('943ea891-e359-4385-a431-9a4dd229074d');\n",
       "var x = new MutationObserver(function (mutations, observer) {{\n",
       "        var display = window.getComputedStyle(gd).display;\n",
       "        if (!display || display === 'none') {{\n",
       "            console.log([gd, 'removed!']);\n",
       "            Plotly.purge(gd);\n",
       "            observer.disconnect();\n",
       "        }}\n",
       "}});\n",
       "\n",
       "// Listen for the removal of the full notebook cells\n",
       "var notebookContainer = gd.closest('#notebook-container');\n",
       "if (notebookContainer) {{\n",
       "    x.observe(notebookContainer, {childList: true});\n",
       "}}\n",
       "\n",
       "// Listen for the clearing of the current output cell\n",
       "var outputEl = gd.closest('.output');\n",
       "if (outputEl) {{\n",
       "    x.observe(outputEl, {childList: true});\n",
       "}}\n",
       "\n",
       "                        })                };                });            </script>        </div>"
      ]
     },
     "metadata": {},
     "output_type": "display_data"
    }
   ],
   "source": [
    "off_contrasts = [ 'dMW vs distracted', 'sMW vs distracted','sMW vs dMW']\n",
    "\n",
    "df_off_contrasts = df_all_probe.query(f\"comparison in {off_contrasts}\").query(\"balance == 'over-sample'\")\n",
    "significants = df_off_contrasts.query(\"significant != 'p > 0.05'\").markers.unique().tolist()\n",
    "\n",
    "distracted_dmw =df_off_contrasts.query(\"comparison == 'dMW vs distracted'\").query(f'markers in {significants}').assign(symbol = lambda df: df.significant.apply(symbol_fun))\n",
    "distracted_smw = df_off_contrasts.query(\"comparison == 'sMW vs distracted'\").query(f'markers in {significants}').assign(symbol = lambda df: df.significant.apply(symbol_fun))\n",
    "dmw_smw = df_off_contrasts.query(\"comparison == 'sMW vs dMW'\").query(f'markers in {significants}').assign(symbol = lambda df: df.significant.apply(symbol_fun))\n",
    "\n",
    "fig = pgo.Figure()\n",
    "\n",
    "\n",
    "\n",
    "fig.add_trace(pgo.Scatterpolar(\n",
    "    r=np.ones(len(distracted_dmw['markers'])) * 0.5,\n",
    "    theta=distracted_dmw['markers'],\n",
    "    name = 'Chance: AUC = 0.5',\n",
    "    mode = 'lines',\n",
    "    line = {'color':'grey', 'width': 2, 'dash': 'dash' },\n",
    "))\n",
    "\n",
    "fig.add_trace(pgo.Scatterpolar(\n",
    "    r=distracted_dmw.AUC,\n",
    "    theta=distracted_dmw['markers'],\n",
    "    fill='toself',\n",
    "    name= 'dMW vs distracted', \n",
    "    marker = {'color':lblue, 'size': 10},\n",
    "    marker_symbol= distracted_dmw.symbol.to_list()\n",
    "))\n",
    "\n",
    "fig.add_trace(pgo.Scatterpolar(\n",
    "    r=distracted_smw.AUC,\n",
    "    theta=distracted_smw['markers'],\n",
    "    fill='toself',\n",
    "    name='sMW vs distracted',\n",
    "    marker = {'color':pink, 'size': 10},\n",
    "    marker_symbol= distracted_smw.symbol.to_list()\n",
    "))\n",
    "\n",
    "fig.add_trace(pgo.Scatterpolar(\n",
    "    r=dmw_smw.AUC,\n",
    "    theta=dmw_smw['markers'],\n",
    "    fill='toself',\n",
    "    name='sMW vs dMW',\n",
    "    marker = {'color':orange, 'size': 10},\n",
    "    marker_symbol= dmw_smw.symbol.to_list()\n",
    "))\n",
    "\n",
    "\n",
    "\n",
    "\n",
    "fig.update_layout(\n",
    "    # title=\"All Off-task against all for Significant markers\",\n",
    "#     legend_title=\"Classification\",\n",
    "    width=800,\n",
    "    height=800,\n",
    "    # autosize = True, \n",
    "        template = 'plotly_white',\n",
    "        font=dict(\n",
    "        family=\"Times new roman\",\n",
    "        # size=25,\n",
    "        color=\"black\"\n",
    "    ),\n",
    "    polar=dict(\n",
    "        radialaxis=dict(\n",
    "            title = 'AUC',\n",
    "            visible=True,\n",
    "            range = [0.35,0.66], \n",
    "            tickangle = 35,\n",
    "            tickfont = {\"size\": 10},\n",
    "            titlefont =  {\"size\": 15},\n",
    "        ),\n",
    "        angularaxis = dict(\n",
    "        tickfont = {\"size\": 40},\n",
    "        )\n",
    "  ),\n",
    "    showlegend=True\n",
    ")\n",
    "\n",
    "\n",
    "fig.show()\n",
    "# pio.write_json(fig, 'Figs/radar_auc_significant.plotly')"
   ]
  },
  {
   "cell_type": "markdown",
   "id": "burning-highlight",
   "metadata": {},
   "source": [
    "# Self Caught"
   ]
  },
  {
   "cell_type": "code",
   "execution_count": 31,
   "id": "polar-violin",
   "metadata": {},
   "outputs": [],
   "source": [
    "mind_states = ['about-task', 'distracted', 'dMW', 'sMW']\n",
    "mind_dict = {'about-task':4, 'distracted':3, 'dMW':2, 'sMW':1}\n",
    "agg_dict = {k:['mean', 'std'] for k in markers }\n",
    "agg_dict.update({k:'first' for k in df_markers.drop(markers, axis=1).columns})\n",
    "\n",
    "df_self = (\n",
    "    df_markers\n",
    "    .query(\"probe == 'SC'\")\n",
    "    .groupby(['segment', 'participant'], as_index = False).agg(agg_dict)\n",
    ")\n",
    "\n",
    "# df_self.columns = df_self.columns.map(\"_\".join)\n",
    "\n",
    "# df_self  = (df_self\n",
    "#             .rename(columns = {'participant_first':'participant', 'probe_first':'probe', 'mind_first':'mind', 'segment_first':'segment'}) \n",
    "#              .assign(mind_order = lambda df: np.select([df.mind == 'about-task', df.mind == 'distracted',df.mind == 'dMW', df.mind == 'sMW'], [4,3,2,1]) )\n",
    "# #             .sort_values(by = 'mind_order')\n",
    "#             .drop(['participant', 'probe', 'segment'], axis = 1)\n",
    "#            )    \n",
    "\n",
    "\n",
    "df_self = correct_name_markers(df_self)\n",
    "\n",
    "df_self.columns = df_self.columns.map(\"$_{\".join).map(lambda x: x + '}$').map(lambda x: x.replace('$$', ''))\n",
    "\n",
    "\n",
    "df_self  = (df_self\n",
    "            .rename(columns = {'participant$_{first}$':'participant', 'probe$_{first}$':'probe', 'mind$_{first}$':'mind', 'segment$_{first}$':'segment'})\n",
    "             .assign(mind_order = lambda df: np.select([ df.mind == 'about-task', df.mind == 'distracted',df.mind == 'dMW', df.mind == 'sMW'], [4,2,3,1]) )\n",
    "#             .sort_values(by = 'mind_order')\n",
    "            .drop(['participant', 'probe', 'segment'], axis = 1)\n",
    "           )   \n",
    "\n",
    "\n",
    "df_all_self = pd.DataFrame()\n",
    "\n",
    "for i in mind_states:\n",
    "    for j in mind_states:\n",
    "        if i == j:\n",
    "            break\n",
    "        contrast = [i,j]\n",
    "        df_mind =  df_self.query(f\"mind in {contrast}\")\n",
    "        \n",
    "        AUC = []\n",
    "        pvalues = {}\n",
    "        for marker in df_mind.drop(['mind', 'mind_order'], axis = 1).columns:\n",
    "            first = df_mind.query(f\"mind == '{contrast[0]}'\")[marker]\n",
    "            second = df_mind.query(f\"mind == '{contrast[1]}'\")[marker]\n",
    "            auc = roc_auc_score(df_mind['mind_order'], df_mind[marker])\n",
    "            AUC.append([marker, auc])\n",
    "            pvalues[marker] = mannwhitneyu(x = first, y = second).pvalue \n",
    "\n",
    "        df_auc = pd.DataFrame(AUC, columns = ['markers', 'AUC'])\n",
    "\n",
    "        p_df =pd.DataFrame.from_dict(pvalues, orient = 'index', columns = ['p_value']).reset_index().rename(columns ={'index': 'markers'})\n",
    "        df_auc = (df_auc\n",
    "                    .merge(p_df, on = 'markers', how = 'inner')\n",
    "                    .assign(\n",
    "                            p_corrected = lambda df: multipletests(df.p_value, method = 'fdr_bh')[1],\n",
    "                            significant = lambda df: np.select([(df.p_value < 0.05) & (df.p_corrected < 0.05), (df.p_value < 0.05) & (df.p_corrected > 0.05),  \n",
    "                                                         (df.p_value > 0.05) & (df.p_corrected > 0.05)], ['p < 0.05 FDR corrected','p < 0.05 uncorrected', 'p > 0.05']),\n",
    "                            balance = 'unbalance',\n",
    "                            comparison = f\"{i} vs {j}\"\n",
    "                            )\n",
    "                  )\n",
    "        \n",
    "        df_all_self = df_all_self.append(df_auc)        \n",
    "        \n",
    "        AUC = []\n",
    "        pvalues = {}\n",
    "        for marker in df_mind.drop(['mind', 'mind_order'], axis = 1).columns:\n",
    "            rus = RandomUnderSampler(random_state=42)# fit predictor and target variable\n",
    "\n",
    "            mind_rus = rus.fit_resample(df_mind[marker].astype(\"float32\").values.reshape(-1,1), df_mind.mind)\n",
    "\n",
    "            df_mind_rus = pd.DataFrame(mind_rus[0], columns =['markers']).assign(mind = mind_rus[1], \n",
    "                                                                        mind_order = lambda df: np.select([ df.mind == 'about-task', \n",
    "                                                                                                           df.mind == 'distracted',df.mind == 'dMW', df.mind == 'sMW'],\n",
    "                                                                                                          [4,3,2,1]))\n",
    "            \n",
    "            first = df_mind_rus.query(f\"mind == '{contrast[0]}'\")['markers']\n",
    "            second = df_mind_rus.query(f\"mind == '{contrast[1]}'\")['markers']\n",
    "            auc = roc_auc_score(df_mind_rus['mind_order'], df_mind_rus['markers'])\n",
    "            AUC.append([marker, auc])\n",
    "            pvalues[marker] = mannwhitneyu(x = first, y = second).pvalue  \n",
    "\n",
    "        df_rus = pd.DataFrame(AUC, columns = ['markers', 'AUC'])\n",
    "\n",
    "        p_df =pd.DataFrame.from_dict(pvalues, orient = 'index', columns = ['p_value']).reset_index().rename(columns ={'index': 'markers'})\n",
    "        df_rus = (df_rus\n",
    "                    .merge(p_df, on = 'markers', how = 'inner')\n",
    "                    .assign(\n",
    "                            p_corrected = lambda df: multipletests(df.p_value, method = 'fdr_bh')[1],\n",
    "                            significant = lambda df: np.select([(df.p_value < 0.05) & (df.p_corrected < 0.05), (df.p_value < 0.05) & (df.p_corrected > 0.05),  \n",
    "                                                         (df.p_value > 0.05) & (df.p_corrected > 0.05)], ['p < 0.05 FDR corrected','p < 0.05 uncorrected', 'p > 0.05']),\n",
    "                            balance = 'under-sample',\n",
    "                            comparison = f\"{i} vs {j}\"\n",
    "                            )\n",
    "                  )\n",
    "                        \n",
    "        df_all_self = df_all_self.append(df_rus)\n",
    "        \n",
    "        \n",
    "        AUC = []\n",
    "        pvalues = {}\n",
    "        for marker in df_mind.drop(['mind', 'mind_order'], axis = 1).columns:\n",
    "            ros = RandomOverSampler(random_state=42)# fit predictor and target variable\n",
    "\n",
    "            mind_ros = ros.fit_resample(df_mind[marker].astype(\"float32\").values.reshape(-1,1), df_mind.mind)\n",
    "\n",
    "            df_mind_ros = pd.DataFrame(mind_ros[0], columns =['markers']).assign(mind = mind_ros[1],                                                                       \n",
    "                                                                                 mind_order = lambda df: np.select([ df.mind == 'about-task', \n",
    "                                                                                                                 df.mind == 'distracted',df.mind == 'dMW', df.mind == 'sMW'],\n",
    "                                                                                                          [4,3,2,1]))\n",
    "            \n",
    "            first = df_mind_ros.query(f\"mind == '{contrast[0]}'\")['markers']\n",
    "            second = df_mind_ros.query(f\"mind == '{contrast[1]}'\")['markers']\n",
    "            auc = roc_auc_score(df_mind_ros['mind_order'], df_mind_ros['markers'])\n",
    "            AUC.append([marker, auc])\n",
    "            pvalues[marker] = mannwhitneyu(x = first, y = second).pvalue  \n",
    "\n",
    "        df_ros = pd.DataFrame(AUC, columns = ['markers', 'AUC'])\n",
    "\n",
    "        p_df =pd.DataFrame.from_dict(pvalues, orient = 'index', columns = ['p_value']).reset_index().rename(columns ={'index': 'markers'})\n",
    "        df_ros = (df_ros\n",
    "                    .merge(p_df, on = 'markers', how = 'inner')\n",
    "                    .assign(\n",
    "                            p_corrected = lambda df: multipletests(df.p_value, method = 'fdr_bh')[1],\n",
    "                            significant = lambda df: np.select([(df.p_value < 0.05) & (df.p_corrected < 0.05), (df.p_value < 0.05) & (df.p_corrected > 0.05),  \n",
    "                                                         (df.p_value > 0.05) & (df.p_corrected > 0.05)], ['p < 0.05 FDR corrected','p < 0.05 uncorrected', 'p > 0.05']),\n",
    "                            balance = 'over-sample',\n",
    "                            comparison = f\"{i} vs {j}\"\n",
    "                            )\n",
    "                  )\n",
    "                        \n",
    "        df_all_self = df_all_self.append(df_ros)"
   ]
  },
  {
   "cell_type": "raw",
   "id": "extra-norman",
   "metadata": {},
   "source": [
    "at_contrasts = ['distracted vs about-task', 'dMW vs about-task', 'sMW vs about-task']\n",
    "\n",
    "df_at_contrasts = df_all_self.query(f\"comparison in {at_contrasts}\").query(\"balance == 'unbalance'\")\n",
    "significants = df_at_contrasts.query(\"significant != 'p > 0.05'\").markers.unique().tolist()\n",
    "\n",
    "distracted_at =df_at_contrasts.query(\"comparison == 'distracted vs about-task'\").query(f'markers in {significants}').assign(symbol = lambda df: df.significant.apply(symbol_fun))\n",
    "dmw_at = df_at_contrasts.query(\"comparison == 'dMW vs about-task'\").query(f'markers in {significants}').assign(symbol = lambda df: df.significant.apply(symbol_fun))\n",
    "smw_at = df_at_contrasts.query(\"comparison == 'sMW vs about-task'\").query(f'markers in {significants}').assign(symbol = lambda df: df.significant.apply(symbol_fun))\n",
    "\n",
    "fig = pgo.Figure()\n",
    "\n",
    "\n",
    "\n",
    "fig.add_trace(pgo.Scatterpolar(\n",
    "    r=np.ones(len(distracted_at['markers'])) * 0.5,\n",
    "    theta=distracted_at['markers'],\n",
    "    name = 'Chance: AUC = 0.5',\n",
    "    mode = 'lines',\n",
    "    line = {'color':'grey', 'width': 2, 'dash': 'dash' },\n",
    "))\n",
    "\n",
    "fig.add_trace(pgo.Scatterpolar(\n",
    "    r=distracted_at.AUC,\n",
    "    theta=distracted_at['markers'],\n",
    "    fill='toself',\n",
    "    name='distracted vs about-task', \n",
    "    mode = 'lines+markers',\n",
    "    marker = {'color':lblue, 'size': 10},\n",
    "    marker_symbol= distracted_at.symbol.to_list()\n",
    "))\n",
    "\n",
    "fig.add_trace(pgo.Scatterpolar(\n",
    "    r=dmw_at.AUC,\n",
    "    theta=dmw_at['markers'],\n",
    "    fill='toself',\n",
    "    name='dMW vs about-task',\n",
    "    mode = 'lines+markers',\n",
    "    marker = {'color':pink, 'size': 10},\n",
    "    marker_symbol= dmw_at.symbol.to_list()\n",
    "))\n",
    "\n",
    "fig.add_trace(pgo.Scatterpolar(\n",
    "    r=smw_at.AUC,\n",
    "    theta=smw_at['markers'],\n",
    "    fill='toself',\n",
    "    name='sMW vs about-task',\n",
    "    mode = 'lines+markers',\n",
    "    marker = {'color':orange, 'size': 10},\n",
    "    marker_symbol= smw_at.symbol.to_list()\n",
    "))\n",
    "\n",
    "\n",
    "\n",
    "\n",
    "fig.update_layout(\n",
    "    title=\"All against About-task for Significant markers\",\n",
    "#     legend_title=\"Classification\",\n",
    "    width=600,\n",
    "    height=600,\n",
    "    template = 'plotly_white',\n",
    "    polar=dict(\n",
    "    radialaxis=dict(\n",
    "    title = 'AUC',\n",
    "      visible=True,\n",
    "        range = [0.35,0.6]\n",
    "    ),\n",
    "  ),\n",
    "    showlegend=True\n",
    ")\n",
    "\n",
    "fig.show()\n",
    "# pio.write_json(fig, 'Figs/radar_auc_significant.plotly')"
   ]
  },
  {
   "cell_type": "code",
   "execution_count": 33,
   "id": "affected-bonus",
   "metadata": {},
   "outputs": [
    {
     "ename": "UnboundLocalError",
     "evalue": "local variable 'fig' referenced before assignment",
     "output_type": "error",
     "traceback": [
      "\u001b[0;31m---------------------------------------------------------------------------\u001b[0m",
      "\u001b[0;31mUnboundLocalError\u001b[0m                         Traceback (most recent call last)",
      "\u001b[0;32m/var/folders/3p/z_m37csj5cs4hp5x2z1hsfrc0000gq/T/ipykernel_39330/2446821043.py\u001b[0m in \u001b[0;36m<module>\u001b[0;34m\u001b[0m\n\u001b[1;32m      1\u001b[0m \u001b[0mdf_ot\u001b[0m\u001b[0;34m=\u001b[0m \u001b[0mdf_all_self\u001b[0m\u001b[0;34m.\u001b[0m\u001b[0mquery\u001b[0m\u001b[0;34m(\u001b[0m\u001b[0;34m\"balance == 'unbalance'\"\u001b[0m\u001b[0;34m)\u001b[0m\u001b[0;34m.\u001b[0m\u001b[0mquery\u001b[0m\u001b[0;34m(\u001b[0m\u001b[0;34mf\"markers in {['t_n_mean', 't_n_std', 't_mean', 't_std']}\"\u001b[0m\u001b[0;34m)\u001b[0m \u001b[0;31m#'p_e_8_mean', 'p_e_8_std', 'wSMI_8_mean', 'wSMI_8_std'\u001b[0m\u001b[0;34m\u001b[0m\u001b[0;34m\u001b[0m\u001b[0m\n\u001b[0;32m----> 2\u001b[0;31m fig = px.bar(df_ot, x = 'comparison', y='AUC', facet_row = 'markers', color = 'significant', color_discrete_sequence = [lblue, green, pink], \n\u001b[0m\u001b[1;32m      3\u001b[0m                          category_orders = {'significant': ['p > 0.05','p < 0.05 uncorrected', 'p < 0.05 FDR corrected']})\n\u001b[1;32m      4\u001b[0m \u001b[0mfig\u001b[0m\u001b[0;34m.\u001b[0m\u001b[0madd_hline\u001b[0m\u001b[0;34m(\u001b[0m\u001b[0my\u001b[0m\u001b[0;34m=\u001b[0m\u001b[0;36m0.5\u001b[0m\u001b[0;34m,\u001b[0m \u001b[0mline_width\u001b[0m\u001b[0;34m=\u001b[0m\u001b[0;36m3\u001b[0m\u001b[0;34m,\u001b[0m \u001b[0mline_dash\u001b[0m\u001b[0;34m=\u001b[0m\u001b[0;34m\"dash\"\u001b[0m\u001b[0;34m,\u001b[0m \u001b[0mline_color\u001b[0m\u001b[0;34m=\u001b[0m\u001b[0;34m\"black\"\u001b[0m\u001b[0;34m)\u001b[0m\u001b[0;34m\u001b[0m\u001b[0;34m\u001b[0m\u001b[0m\n\u001b[1;32m      5\u001b[0m \u001b[0;34m\u001b[0m\u001b[0m\n",
      "\u001b[0;32m~/opt/anaconda3/lib/python3.8/site-packages/plotly/express/_chart_types.py\u001b[0m in \u001b[0;36mbar\u001b[0;34m(data_frame, x, y, color, pattern_shape, facet_row, facet_col, facet_col_wrap, facet_row_spacing, facet_col_spacing, hover_name, hover_data, custom_data, text, base, error_x, error_x_minus, error_y, error_y_minus, animation_frame, animation_group, category_orders, labels, color_discrete_sequence, color_discrete_map, color_continuous_scale, pattern_shape_sequence, pattern_shape_map, range_color, color_continuous_midpoint, opacity, orientation, barmode, log_x, log_y, range_x, range_y, text_auto, title, template, width, height)\u001b[0m\n\u001b[1;32m    371\u001b[0m     \u001b[0mmark\u001b[0m\u001b[0;34m.\u001b[0m\u001b[0;34m\u001b[0m\u001b[0;34m\u001b[0m\u001b[0m\n\u001b[1;32m    372\u001b[0m     \"\"\"\n\u001b[0;32m--> 373\u001b[0;31m     return make_figure(\n\u001b[0m\u001b[1;32m    374\u001b[0m         \u001b[0margs\u001b[0m\u001b[0;34m=\u001b[0m\u001b[0mlocals\u001b[0m\u001b[0;34m(\u001b[0m\u001b[0;34m)\u001b[0m\u001b[0;34m,\u001b[0m\u001b[0;34m\u001b[0m\u001b[0;34m\u001b[0m\u001b[0m\n\u001b[1;32m    375\u001b[0m         \u001b[0mconstructor\u001b[0m\u001b[0;34m=\u001b[0m\u001b[0mgo\u001b[0m\u001b[0;34m.\u001b[0m\u001b[0mBar\u001b[0m\u001b[0;34m,\u001b[0m\u001b[0;34m\u001b[0m\u001b[0;34m\u001b[0m\u001b[0m\n",
      "\u001b[0;32m~/opt/anaconda3/lib/python3.8/site-packages/plotly/express/_core.py\u001b[0m in \u001b[0;36mmake_figure\u001b[0;34m(args, constructor, trace_patch, layout_patch)\u001b[0m\n\u001b[1;32m   2183\u001b[0m         \u001b[0mncols\u001b[0m \u001b[0;34m+=\u001b[0m \u001b[0;36m1\u001b[0m\u001b[0;34m\u001b[0m\u001b[0;34m\u001b[0m\u001b[0m\n\u001b[1;32m   2184\u001b[0m \u001b[0;34m\u001b[0m\u001b[0m\n\u001b[0;32m-> 2185\u001b[0;31m     fig = init_figure(\n\u001b[0m\u001b[1;32m   2186\u001b[0m         \u001b[0margs\u001b[0m\u001b[0;34m,\u001b[0m \u001b[0msubplot_type\u001b[0m\u001b[0;34m,\u001b[0m \u001b[0mframe_list\u001b[0m\u001b[0;34m,\u001b[0m \u001b[0mnrows\u001b[0m\u001b[0;34m,\u001b[0m \u001b[0mncols\u001b[0m\u001b[0;34m,\u001b[0m \u001b[0mcol_labels\u001b[0m\u001b[0;34m,\u001b[0m \u001b[0mrow_labels\u001b[0m\u001b[0;34m\u001b[0m\u001b[0;34m\u001b[0m\u001b[0m\n\u001b[1;32m   2187\u001b[0m     )\n",
      "\u001b[0;32m~/opt/anaconda3/lib/python3.8/site-packages/plotly/express/_core.py\u001b[0m in \u001b[0;36minit_figure\u001b[0;34m(args, subplot_type, frame_list, nrows, ncols, col_labels, row_labels)\u001b[0m\n\u001b[1;32m   2328\u001b[0m \u001b[0;34m\u001b[0m\u001b[0m\n\u001b[1;32m   2329\u001b[0m     \u001b[0;31m# Remove explicit font size of row/col titles so template can take over\u001b[0m\u001b[0;34m\u001b[0m\u001b[0;34m\u001b[0m\u001b[0;34m\u001b[0m\u001b[0m\n\u001b[0;32m-> 2330\u001b[0;31m     \u001b[0;32mfor\u001b[0m \u001b[0mannot\u001b[0m \u001b[0;32min\u001b[0m \u001b[0mfig\u001b[0m\u001b[0;34m.\u001b[0m\u001b[0mlayout\u001b[0m\u001b[0;34m.\u001b[0m\u001b[0mannotations\u001b[0m\u001b[0;34m:\u001b[0m\u001b[0;34m\u001b[0m\u001b[0;34m\u001b[0m\u001b[0m\n\u001b[0m\u001b[1;32m   2331\u001b[0m         \u001b[0mannot\u001b[0m\u001b[0;34m.\u001b[0m\u001b[0mupdate\u001b[0m\u001b[0;34m(\u001b[0m\u001b[0mfont\u001b[0m\u001b[0;34m=\u001b[0m\u001b[0;32mNone\u001b[0m\u001b[0;34m)\u001b[0m\u001b[0;34m\u001b[0m\u001b[0;34m\u001b[0m\u001b[0m\n\u001b[1;32m   2332\u001b[0m \u001b[0;34m\u001b[0m\u001b[0m\n",
      "\u001b[0;31mUnboundLocalError\u001b[0m: local variable 'fig' referenced before assignment"
     ]
    }
   ],
   "source": [
    "df_ot= df_all_self.query(\"balance == 'unbalance'\").query(f\"markers in {['t_n_mean', 't_n_std', 't_mean', 't_std']}\") #'p_e_8_mean', 'p_e_8_std', 'wSMI_8_mean', 'wSMI_8_std'\n",
    "fig = px.bar(df_ot, x = 'comparison', y='AUC', facet_row = 'markers', color = 'significant', color_discrete_sequence = [lblue, green, pink], \n",
    "                         category_orders = {'significant': ['p > 0.05','p < 0.05 uncorrected', 'p < 0.05 FDR corrected']})\n",
    "\n",
    "fig.add_hline(y=0.5, line_width=3, line_dash=\"dash\", line_color=\"black\")\n",
    "\n",
    "fig.update_layout(\n",
    "    title = 'SC',\n",
    "    autosize=False,\n",
    "    width=1600,\n",
    "    height=800,\n",
    "    yaxis = {\n",
    "            'showticklabels': True,\n",
    "            'tickmode': 'linear',\n",
    "        'range': [0.35, 0.75]\n",
    "        },\n",
    "#             xaxis = {'title': 'a'}\n",
    "\n",
    ")"
   ]
  },
  {
   "cell_type": "code",
   "execution_count": 37,
   "id": "italian-lender",
   "metadata": {
    "tags": []
   },
   "outputs": [
    {
     "data": {
      "application/vnd.plotly.v1+json": {
       "config": {
        "plotlyServerURL": "https://plot.ly"
       },
       "data": [
        {
         "line": {
          "color": "grey",
          "dash": "dash",
          "width": 2
         },
         "mode": "lines",
         "name": "Chance: AUC = 0.5",
         "r": [
          0.5,
          0.5,
          0.5,
          0.5,
          0.5,
          0.5,
          0.5,
          0.5
         ],
         "theta": [
          "$wSMI\\gamma_{mean}$",
          "$PE\\gamma_{mean}$",
          "$PE\\beta_{mean}$",
          "$PE\\theta_{mean}$",
          "$\\beta_{mean}$",
          "$|\\delta|_{mean}$",
          "$|\\alpha|_{mean}$",
          "$\\alpha_{mean}$"
         ],
         "type": "scatterpolar"
        },
        {
         "fill": "toself",
         "fillcolor": "rgba(243, 138, 49, 0.2)",
         "marker": {
          "color": "#F38A31",
          "size": 10,
          "symbol": [
           "hexagram",
           "hexagram",
           "hexagram",
           "hexagram",
           "circle",
           "circle",
           "hexagram",
           "hexagram"
          ]
         },
         "name": "dMW vs distracted",
         "r": [
          0.40573496854903895,
          0.41812207892609904,
          0.418122078926099,
          0.6369434585514988,
          0.5603717890150051,
          0.4357978704712373,
          0.6056506307762589,
          0.6109744526829954
         ],
         "theta": [
          "$wSMI\\gamma_{mean}$",
          "$PE\\gamma_{mean}$",
          "$PE\\beta_{mean}$",
          "$PE\\theta_{mean}$",
          "$\\beta_{mean}$",
          "$|\\delta|_{mean}$",
          "$|\\alpha|_{mean}$",
          "$\\alpha_{mean}$"
         ],
         "type": "scatterpolar"
        },
        {
         "fill": "toself",
         "fillcolor": "rgba(154, 197, 41, 0.2)",
         "marker": {
          "color": "#9AC529",
          "size": 10,
          "symbol": [
           "circle",
           "circle-open",
           "circle-open",
           "circle-open",
           "circle-open",
           "circle-open",
           "circle-open",
           "circle-open"
          ]
         },
         "name": "sMW vs distracted",
         "r": [
          0.5590150753768844,
          0.5223718592964823,
          0.5008040201005025,
          0.49107537688442215,
          0.5237185929648241,
          0.4745527638190955,
          0.48554773869346735,
          0.5004824120603015
         ],
         "theta": [
          "$wSMI\\gamma_{mean}$",
          "$PE\\gamma_{mean}$",
          "$PE\\beta_{mean}$",
          "$PE\\theta_{mean}$",
          "$\\beta_{mean}$",
          "$|\\delta|_{mean}$",
          "$|\\alpha|_{mean}$",
          "$\\alpha_{mean}$"
         ],
         "type": "scatterpolar"
        },
        {
         "fill": "toself",
         "fillcolor": "rgba(66, 185, 178, 0.2)",
         "marker": {
          "color": "#42B9B2",
          "size": 10,
          "symbol": [
           "circle-open",
           "circle",
           "circle",
           "hexagram",
           "hexagram",
           "hexagram",
           "hexagram",
           "hexagram"
          ]
         },
         "name": "sMW vs dMW",
         "r": [
          0.46493706293706294,
          0.44167832167832166,
          0.43097902097902097,
          0.6251468531468533,
          0.5759440559440561,
          0.41130069930069935,
          0.5925034965034965,
          0.5980279720279721
         ],
         "theta": [
          "$wSMI\\gamma_{mean}$",
          "$PE\\gamma_{mean}$",
          "$PE\\beta_{mean}$",
          "$PE\\theta_{mean}$",
          "$\\beta_{mean}$",
          "$|\\delta|_{mean}$",
          "$|\\alpha|_{mean}$",
          "$\\alpha_{mean}$"
         ],
         "type": "scatterpolar"
        }
       ],
       "layout": {
        "font": {
         "color": "black",
         "family": "Times new roman",
         "size": 25
        },
        "height": 800,
        "polar": {
         "angularaxis": {
          "tickfont": {
           "size": 40
          }
         },
         "radialaxis": {
          "range": [
           0.35,
           0.68
          ],
          "tickangle": 35,
          "tickfont": {
           "size": 10
          },
          "title": {
           "font": {
            "size": 15
           },
           "text": "AUC"
          },
          "visible": true
         }
        },
        "showlegend": true,
        "template": {
         "data": {
          "bar": [
           {
            "error_x": {
             "color": "#2a3f5f"
            },
            "error_y": {
             "color": "#2a3f5f"
            },
            "marker": {
             "line": {
              "color": "white",
              "width": 0.5
             },
             "pattern": {
              "fillmode": "overlay",
              "size": 10,
              "solidity": 0.2
             }
            },
            "type": "bar"
           }
          ],
          "barpolar": [
           {
            "marker": {
             "line": {
              "color": "white",
              "width": 0.5
             },
             "pattern": {
              "fillmode": "overlay",
              "size": 10,
              "solidity": 0.2
             }
            },
            "type": "barpolar"
           }
          ],
          "carpet": [
           {
            "aaxis": {
             "endlinecolor": "#2a3f5f",
             "gridcolor": "#C8D4E3",
             "linecolor": "#C8D4E3",
             "minorgridcolor": "#C8D4E3",
             "startlinecolor": "#2a3f5f"
            },
            "baxis": {
             "endlinecolor": "#2a3f5f",
             "gridcolor": "#C8D4E3",
             "linecolor": "#C8D4E3",
             "minorgridcolor": "#C8D4E3",
             "startlinecolor": "#2a3f5f"
            },
            "type": "carpet"
           }
          ],
          "choropleth": [
           {
            "colorbar": {
             "outlinewidth": 0,
             "ticks": ""
            },
            "type": "choropleth"
           }
          ],
          "contour": [
           {
            "colorbar": {
             "outlinewidth": 0,
             "ticks": ""
            },
            "colorscale": [
             [
              0,
              "#0d0887"
             ],
             [
              0.1111111111111111,
              "#46039f"
             ],
             [
              0.2222222222222222,
              "#7201a8"
             ],
             [
              0.3333333333333333,
              "#9c179e"
             ],
             [
              0.4444444444444444,
              "#bd3786"
             ],
             [
              0.5555555555555556,
              "#d8576b"
             ],
             [
              0.6666666666666666,
              "#ed7953"
             ],
             [
              0.7777777777777778,
              "#fb9f3a"
             ],
             [
              0.8888888888888888,
              "#fdca26"
             ],
             [
              1,
              "#f0f921"
             ]
            ],
            "type": "contour"
           }
          ],
          "contourcarpet": [
           {
            "colorbar": {
             "outlinewidth": 0,
             "ticks": ""
            },
            "type": "contourcarpet"
           }
          ],
          "heatmap": [
           {
            "colorbar": {
             "outlinewidth": 0,
             "ticks": ""
            },
            "colorscale": [
             [
              0,
              "#0d0887"
             ],
             [
              0.1111111111111111,
              "#46039f"
             ],
             [
              0.2222222222222222,
              "#7201a8"
             ],
             [
              0.3333333333333333,
              "#9c179e"
             ],
             [
              0.4444444444444444,
              "#bd3786"
             ],
             [
              0.5555555555555556,
              "#d8576b"
             ],
             [
              0.6666666666666666,
              "#ed7953"
             ],
             [
              0.7777777777777778,
              "#fb9f3a"
             ],
             [
              0.8888888888888888,
              "#fdca26"
             ],
             [
              1,
              "#f0f921"
             ]
            ],
            "type": "heatmap"
           }
          ],
          "heatmapgl": [
           {
            "colorbar": {
             "outlinewidth": 0,
             "ticks": ""
            },
            "colorscale": [
             [
              0,
              "#0d0887"
             ],
             [
              0.1111111111111111,
              "#46039f"
             ],
             [
              0.2222222222222222,
              "#7201a8"
             ],
             [
              0.3333333333333333,
              "#9c179e"
             ],
             [
              0.4444444444444444,
              "#bd3786"
             ],
             [
              0.5555555555555556,
              "#d8576b"
             ],
             [
              0.6666666666666666,
              "#ed7953"
             ],
             [
              0.7777777777777778,
              "#fb9f3a"
             ],
             [
              0.8888888888888888,
              "#fdca26"
             ],
             [
              1,
              "#f0f921"
             ]
            ],
            "type": "heatmapgl"
           }
          ],
          "histogram": [
           {
            "marker": {
             "pattern": {
              "fillmode": "overlay",
              "size": 10,
              "solidity": 0.2
             }
            },
            "type": "histogram"
           }
          ],
          "histogram2d": [
           {
            "colorbar": {
             "outlinewidth": 0,
             "ticks": ""
            },
            "colorscale": [
             [
              0,
              "#0d0887"
             ],
             [
              0.1111111111111111,
              "#46039f"
             ],
             [
              0.2222222222222222,
              "#7201a8"
             ],
             [
              0.3333333333333333,
              "#9c179e"
             ],
             [
              0.4444444444444444,
              "#bd3786"
             ],
             [
              0.5555555555555556,
              "#d8576b"
             ],
             [
              0.6666666666666666,
              "#ed7953"
             ],
             [
              0.7777777777777778,
              "#fb9f3a"
             ],
             [
              0.8888888888888888,
              "#fdca26"
             ],
             [
              1,
              "#f0f921"
             ]
            ],
            "type": "histogram2d"
           }
          ],
          "histogram2dcontour": [
           {
            "colorbar": {
             "outlinewidth": 0,
             "ticks": ""
            },
            "colorscale": [
             [
              0,
              "#0d0887"
             ],
             [
              0.1111111111111111,
              "#46039f"
             ],
             [
              0.2222222222222222,
              "#7201a8"
             ],
             [
              0.3333333333333333,
              "#9c179e"
             ],
             [
              0.4444444444444444,
              "#bd3786"
             ],
             [
              0.5555555555555556,
              "#d8576b"
             ],
             [
              0.6666666666666666,
              "#ed7953"
             ],
             [
              0.7777777777777778,
              "#fb9f3a"
             ],
             [
              0.8888888888888888,
              "#fdca26"
             ],
             [
              1,
              "#f0f921"
             ]
            ],
            "type": "histogram2dcontour"
           }
          ],
          "mesh3d": [
           {
            "colorbar": {
             "outlinewidth": 0,
             "ticks": ""
            },
            "type": "mesh3d"
           }
          ],
          "parcoords": [
           {
            "line": {
             "colorbar": {
              "outlinewidth": 0,
              "ticks": ""
             }
            },
            "type": "parcoords"
           }
          ],
          "pie": [
           {
            "automargin": true,
            "type": "pie"
           }
          ],
          "scatter": [
           {
            "fillpattern": {
             "fillmode": "overlay",
             "size": 10,
             "solidity": 0.2
            },
            "type": "scatter"
           }
          ],
          "scatter3d": [
           {
            "line": {
             "colorbar": {
              "outlinewidth": 0,
              "ticks": ""
             }
            },
            "marker": {
             "colorbar": {
              "outlinewidth": 0,
              "ticks": ""
             }
            },
            "type": "scatter3d"
           }
          ],
          "scattercarpet": [
           {
            "marker": {
             "colorbar": {
              "outlinewidth": 0,
              "ticks": ""
             }
            },
            "type": "scattercarpet"
           }
          ],
          "scattergeo": [
           {
            "marker": {
             "colorbar": {
              "outlinewidth": 0,
              "ticks": ""
             }
            },
            "type": "scattergeo"
           }
          ],
          "scattergl": [
           {
            "marker": {
             "colorbar": {
              "outlinewidth": 0,
              "ticks": ""
             }
            },
            "type": "scattergl"
           }
          ],
          "scattermapbox": [
           {
            "marker": {
             "colorbar": {
              "outlinewidth": 0,
              "ticks": ""
             }
            },
            "type": "scattermapbox"
           }
          ],
          "scatterpolar": [
           {
            "marker": {
             "colorbar": {
              "outlinewidth": 0,
              "ticks": ""
             }
            },
            "type": "scatterpolar"
           }
          ],
          "scatterpolargl": [
           {
            "marker": {
             "colorbar": {
              "outlinewidth": 0,
              "ticks": ""
             }
            },
            "type": "scatterpolargl"
           }
          ],
          "scatterternary": [
           {
            "marker": {
             "colorbar": {
              "outlinewidth": 0,
              "ticks": ""
             }
            },
            "type": "scatterternary"
           }
          ],
          "surface": [
           {
            "colorbar": {
             "outlinewidth": 0,
             "ticks": ""
            },
            "colorscale": [
             [
              0,
              "#0d0887"
             ],
             [
              0.1111111111111111,
              "#46039f"
             ],
             [
              0.2222222222222222,
              "#7201a8"
             ],
             [
              0.3333333333333333,
              "#9c179e"
             ],
             [
              0.4444444444444444,
              "#bd3786"
             ],
             [
              0.5555555555555556,
              "#d8576b"
             ],
             [
              0.6666666666666666,
              "#ed7953"
             ],
             [
              0.7777777777777778,
              "#fb9f3a"
             ],
             [
              0.8888888888888888,
              "#fdca26"
             ],
             [
              1,
              "#f0f921"
             ]
            ],
            "type": "surface"
           }
          ],
          "table": [
           {
            "cells": {
             "fill": {
              "color": "#EBF0F8"
             },
             "line": {
              "color": "white"
             }
            },
            "header": {
             "fill": {
              "color": "#C8D4E3"
             },
             "line": {
              "color": "white"
             }
            },
            "type": "table"
           }
          ]
         },
         "layout": {
          "annotationdefaults": {
           "arrowcolor": "#2a3f5f",
           "arrowhead": 0,
           "arrowwidth": 1
          },
          "autotypenumbers": "strict",
          "coloraxis": {
           "colorbar": {
            "outlinewidth": 0,
            "ticks": ""
           }
          },
          "colorscale": {
           "diverging": [
            [
             0,
             "#8e0152"
            ],
            [
             0.1,
             "#c51b7d"
            ],
            [
             0.2,
             "#de77ae"
            ],
            [
             0.3,
             "#f1b6da"
            ],
            [
             0.4,
             "#fde0ef"
            ],
            [
             0.5,
             "#f7f7f7"
            ],
            [
             0.6,
             "#e6f5d0"
            ],
            [
             0.7,
             "#b8e186"
            ],
            [
             0.8,
             "#7fbc41"
            ],
            [
             0.9,
             "#4d9221"
            ],
            [
             1,
             "#276419"
            ]
           ],
           "sequential": [
            [
             0,
             "#0d0887"
            ],
            [
             0.1111111111111111,
             "#46039f"
            ],
            [
             0.2222222222222222,
             "#7201a8"
            ],
            [
             0.3333333333333333,
             "#9c179e"
            ],
            [
             0.4444444444444444,
             "#bd3786"
            ],
            [
             0.5555555555555556,
             "#d8576b"
            ],
            [
             0.6666666666666666,
             "#ed7953"
            ],
            [
             0.7777777777777778,
             "#fb9f3a"
            ],
            [
             0.8888888888888888,
             "#fdca26"
            ],
            [
             1,
             "#f0f921"
            ]
           ],
           "sequentialminus": [
            [
             0,
             "#0d0887"
            ],
            [
             0.1111111111111111,
             "#46039f"
            ],
            [
             0.2222222222222222,
             "#7201a8"
            ],
            [
             0.3333333333333333,
             "#9c179e"
            ],
            [
             0.4444444444444444,
             "#bd3786"
            ],
            [
             0.5555555555555556,
             "#d8576b"
            ],
            [
             0.6666666666666666,
             "#ed7953"
            ],
            [
             0.7777777777777778,
             "#fb9f3a"
            ],
            [
             0.8888888888888888,
             "#fdca26"
            ],
            [
             1,
             "#f0f921"
            ]
           ]
          },
          "colorway": [
           "#636efa",
           "#EF553B",
           "#00cc96",
           "#ab63fa",
           "#FFA15A",
           "#19d3f3",
           "#FF6692",
           "#B6E880",
           "#FF97FF",
           "#FECB52"
          ],
          "font": {
           "color": "#2a3f5f"
          },
          "geo": {
           "bgcolor": "white",
           "lakecolor": "white",
           "landcolor": "white",
           "showlakes": true,
           "showland": true,
           "subunitcolor": "#C8D4E3"
          },
          "hoverlabel": {
           "align": "left"
          },
          "hovermode": "closest",
          "mapbox": {
           "style": "light"
          },
          "paper_bgcolor": "white",
          "plot_bgcolor": "white",
          "polar": {
           "angularaxis": {
            "gridcolor": "#EBF0F8",
            "linecolor": "#EBF0F8",
            "ticks": ""
           },
           "bgcolor": "white",
           "radialaxis": {
            "gridcolor": "#EBF0F8",
            "linecolor": "#EBF0F8",
            "ticks": ""
           }
          },
          "scene": {
           "xaxis": {
            "backgroundcolor": "white",
            "gridcolor": "#DFE8F3",
            "gridwidth": 2,
            "linecolor": "#EBF0F8",
            "showbackground": true,
            "ticks": "",
            "zerolinecolor": "#EBF0F8"
           },
           "yaxis": {
            "backgroundcolor": "white",
            "gridcolor": "#DFE8F3",
            "gridwidth": 2,
            "linecolor": "#EBF0F8",
            "showbackground": true,
            "ticks": "",
            "zerolinecolor": "#EBF0F8"
           },
           "zaxis": {
            "backgroundcolor": "white",
            "gridcolor": "#DFE8F3",
            "gridwidth": 2,
            "linecolor": "#EBF0F8",
            "showbackground": true,
            "ticks": "",
            "zerolinecolor": "#EBF0F8"
           }
          },
          "shapedefaults": {
           "line": {
            "color": "#2a3f5f"
           }
          },
          "ternary": {
           "aaxis": {
            "gridcolor": "#DFE8F3",
            "linecolor": "#A2B1C6",
            "ticks": ""
           },
           "baxis": {
            "gridcolor": "#DFE8F3",
            "linecolor": "#A2B1C6",
            "ticks": ""
           },
           "bgcolor": "white",
           "caxis": {
            "gridcolor": "#DFE8F3",
            "linecolor": "#A2B1C6",
            "ticks": ""
           }
          },
          "title": {
           "x": 0.05
          },
          "xaxis": {
           "automargin": true,
           "gridcolor": "#EBF0F8",
           "linecolor": "#EBF0F8",
           "ticks": "",
           "title": {
            "standoff": 15
           },
           "zerolinecolor": "#EBF0F8",
           "zerolinewidth": 2
          },
          "yaxis": {
           "automargin": true,
           "gridcolor": "#EBF0F8",
           "linecolor": "#EBF0F8",
           "ticks": "",
           "title": {
            "standoff": 15
           },
           "zerolinecolor": "#EBF0F8",
           "zerolinewidth": 2
          }
         }
        },
        "width": 800
       }
      },
      "text/html": [
       "<div>                            <div id=\"39e06894-fb18-457a-baca-97de5c29b312\" class=\"plotly-graph-div\" style=\"height:800px; width:800px;\"></div>            <script type=\"text/javascript\">                require([\"plotly\"], function(Plotly) {                    window.PLOTLYENV=window.PLOTLYENV || {};                                    if (document.getElementById(\"39e06894-fb18-457a-baca-97de5c29b312\")) {                    Plotly.newPlot(                        \"39e06894-fb18-457a-baca-97de5c29b312\",                        [{\"line\":{\"color\":\"grey\",\"dash\":\"dash\",\"width\":2},\"mode\":\"lines\",\"name\":\"Chance: AUC = 0.5\",\"r\":[0.5,0.5,0.5,0.5,0.5,0.5,0.5,0.5],\"theta\":[\"$wSMI\\\\gamma_{mean}$\",\"$PE\\\\gamma_{mean}$\",\"$PE\\\\beta_{mean}$\",\"$PE\\\\theta_{mean}$\",\"$\\\\beta_{mean}$\",\"$|\\\\delta|_{mean}$\",\"$|\\\\alpha|_{mean}$\",\"$\\\\alpha_{mean}$\"],\"type\":\"scatterpolar\"},{\"fill\":\"toself\",\"fillcolor\":\"rgba(243, 138, 49, 0.2)\",\"marker\":{\"color\":\"#F38A31\",\"size\":10,\"symbol\":[\"hexagram\",\"hexagram\",\"hexagram\",\"hexagram\",\"circle\",\"circle\",\"hexagram\",\"hexagram\"]},\"name\":\"dMW vs distracted\",\"r\":[0.40573496854903895,0.41812207892609904,0.418122078926099,0.6369434585514988,0.5603717890150051,0.4357978704712373,0.6056506307762589,0.6109744526829954],\"theta\":[\"$wSMI\\\\gamma_{mean}$\",\"$PE\\\\gamma_{mean}$\",\"$PE\\\\beta_{mean}$\",\"$PE\\\\theta_{mean}$\",\"$\\\\beta_{mean}$\",\"$|\\\\delta|_{mean}$\",\"$|\\\\alpha|_{mean}$\",\"$\\\\alpha_{mean}$\"],\"type\":\"scatterpolar\"},{\"fill\":\"toself\",\"fillcolor\":\"rgba(154, 197, 41, 0.2)\",\"marker\":{\"color\":\"#9AC529\",\"size\":10,\"symbol\":[\"circle\",\"circle-open\",\"circle-open\",\"circle-open\",\"circle-open\",\"circle-open\",\"circle-open\",\"circle-open\"]},\"name\":\"sMW vs distracted\",\"r\":[0.5590150753768844,0.5223718592964823,0.5008040201005025,0.49107537688442215,0.5237185929648241,0.4745527638190955,0.48554773869346735,0.5004824120603015],\"theta\":[\"$wSMI\\\\gamma_{mean}$\",\"$PE\\\\gamma_{mean}$\",\"$PE\\\\beta_{mean}$\",\"$PE\\\\theta_{mean}$\",\"$\\\\beta_{mean}$\",\"$|\\\\delta|_{mean}$\",\"$|\\\\alpha|_{mean}$\",\"$\\\\alpha_{mean}$\"],\"type\":\"scatterpolar\"},{\"fill\":\"toself\",\"fillcolor\":\"rgba(66, 185, 178, 0.2)\",\"marker\":{\"color\":\"#42B9B2\",\"size\":10,\"symbol\":[\"circle-open\",\"circle\",\"circle\",\"hexagram\",\"hexagram\",\"hexagram\",\"hexagram\",\"hexagram\"]},\"name\":\"sMW vs dMW\",\"r\":[0.46493706293706294,0.44167832167832166,0.43097902097902097,0.6251468531468533,0.5759440559440561,0.41130069930069935,0.5925034965034965,0.5980279720279721],\"theta\":[\"$wSMI\\\\gamma_{mean}$\",\"$PE\\\\gamma_{mean}$\",\"$PE\\\\beta_{mean}$\",\"$PE\\\\theta_{mean}$\",\"$\\\\beta_{mean}$\",\"$|\\\\delta|_{mean}$\",\"$|\\\\alpha|_{mean}$\",\"$\\\\alpha_{mean}$\"],\"type\":\"scatterpolar\"}],                        {\"template\":{\"data\":{\"barpolar\":[{\"marker\":{\"line\":{\"color\":\"white\",\"width\":0.5},\"pattern\":{\"fillmode\":\"overlay\",\"size\":10,\"solidity\":0.2}},\"type\":\"barpolar\"}],\"bar\":[{\"error_x\":{\"color\":\"#2a3f5f\"},\"error_y\":{\"color\":\"#2a3f5f\"},\"marker\":{\"line\":{\"color\":\"white\",\"width\":0.5},\"pattern\":{\"fillmode\":\"overlay\",\"size\":10,\"solidity\":0.2}},\"type\":\"bar\"}],\"carpet\":[{\"aaxis\":{\"endlinecolor\":\"#2a3f5f\",\"gridcolor\":\"#C8D4E3\",\"linecolor\":\"#C8D4E3\",\"minorgridcolor\":\"#C8D4E3\",\"startlinecolor\":\"#2a3f5f\"},\"baxis\":{\"endlinecolor\":\"#2a3f5f\",\"gridcolor\":\"#C8D4E3\",\"linecolor\":\"#C8D4E3\",\"minorgridcolor\":\"#C8D4E3\",\"startlinecolor\":\"#2a3f5f\"},\"type\":\"carpet\"}],\"choropleth\":[{\"colorbar\":{\"outlinewidth\":0,\"ticks\":\"\"},\"type\":\"choropleth\"}],\"contourcarpet\":[{\"colorbar\":{\"outlinewidth\":0,\"ticks\":\"\"},\"type\":\"contourcarpet\"}],\"contour\":[{\"colorbar\":{\"outlinewidth\":0,\"ticks\":\"\"},\"colorscale\":[[0.0,\"#0d0887\"],[0.1111111111111111,\"#46039f\"],[0.2222222222222222,\"#7201a8\"],[0.3333333333333333,\"#9c179e\"],[0.4444444444444444,\"#bd3786\"],[0.5555555555555556,\"#d8576b\"],[0.6666666666666666,\"#ed7953\"],[0.7777777777777778,\"#fb9f3a\"],[0.8888888888888888,\"#fdca26\"],[1.0,\"#f0f921\"]],\"type\":\"contour\"}],\"heatmapgl\":[{\"colorbar\":{\"outlinewidth\":0,\"ticks\":\"\"},\"colorscale\":[[0.0,\"#0d0887\"],[0.1111111111111111,\"#46039f\"],[0.2222222222222222,\"#7201a8\"],[0.3333333333333333,\"#9c179e\"],[0.4444444444444444,\"#bd3786\"],[0.5555555555555556,\"#d8576b\"],[0.6666666666666666,\"#ed7953\"],[0.7777777777777778,\"#fb9f3a\"],[0.8888888888888888,\"#fdca26\"],[1.0,\"#f0f921\"]],\"type\":\"heatmapgl\"}],\"heatmap\":[{\"colorbar\":{\"outlinewidth\":0,\"ticks\":\"\"},\"colorscale\":[[0.0,\"#0d0887\"],[0.1111111111111111,\"#46039f\"],[0.2222222222222222,\"#7201a8\"],[0.3333333333333333,\"#9c179e\"],[0.4444444444444444,\"#bd3786\"],[0.5555555555555556,\"#d8576b\"],[0.6666666666666666,\"#ed7953\"],[0.7777777777777778,\"#fb9f3a\"],[0.8888888888888888,\"#fdca26\"],[1.0,\"#f0f921\"]],\"type\":\"heatmap\"}],\"histogram2dcontour\":[{\"colorbar\":{\"outlinewidth\":0,\"ticks\":\"\"},\"colorscale\":[[0.0,\"#0d0887\"],[0.1111111111111111,\"#46039f\"],[0.2222222222222222,\"#7201a8\"],[0.3333333333333333,\"#9c179e\"],[0.4444444444444444,\"#bd3786\"],[0.5555555555555556,\"#d8576b\"],[0.6666666666666666,\"#ed7953\"],[0.7777777777777778,\"#fb9f3a\"],[0.8888888888888888,\"#fdca26\"],[1.0,\"#f0f921\"]],\"type\":\"histogram2dcontour\"}],\"histogram2d\":[{\"colorbar\":{\"outlinewidth\":0,\"ticks\":\"\"},\"colorscale\":[[0.0,\"#0d0887\"],[0.1111111111111111,\"#46039f\"],[0.2222222222222222,\"#7201a8\"],[0.3333333333333333,\"#9c179e\"],[0.4444444444444444,\"#bd3786\"],[0.5555555555555556,\"#d8576b\"],[0.6666666666666666,\"#ed7953\"],[0.7777777777777778,\"#fb9f3a\"],[0.8888888888888888,\"#fdca26\"],[1.0,\"#f0f921\"]],\"type\":\"histogram2d\"}],\"histogram\":[{\"marker\":{\"pattern\":{\"fillmode\":\"overlay\",\"size\":10,\"solidity\":0.2}},\"type\":\"histogram\"}],\"mesh3d\":[{\"colorbar\":{\"outlinewidth\":0,\"ticks\":\"\"},\"type\":\"mesh3d\"}],\"parcoords\":[{\"line\":{\"colorbar\":{\"outlinewidth\":0,\"ticks\":\"\"}},\"type\":\"parcoords\"}],\"pie\":[{\"automargin\":true,\"type\":\"pie\"}],\"scatter3d\":[{\"line\":{\"colorbar\":{\"outlinewidth\":0,\"ticks\":\"\"}},\"marker\":{\"colorbar\":{\"outlinewidth\":0,\"ticks\":\"\"}},\"type\":\"scatter3d\"}],\"scattercarpet\":[{\"marker\":{\"colorbar\":{\"outlinewidth\":0,\"ticks\":\"\"}},\"type\":\"scattercarpet\"}],\"scattergeo\":[{\"marker\":{\"colorbar\":{\"outlinewidth\":0,\"ticks\":\"\"}},\"type\":\"scattergeo\"}],\"scattergl\":[{\"marker\":{\"colorbar\":{\"outlinewidth\":0,\"ticks\":\"\"}},\"type\":\"scattergl\"}],\"scattermapbox\":[{\"marker\":{\"colorbar\":{\"outlinewidth\":0,\"ticks\":\"\"}},\"type\":\"scattermapbox\"}],\"scatterpolargl\":[{\"marker\":{\"colorbar\":{\"outlinewidth\":0,\"ticks\":\"\"}},\"type\":\"scatterpolargl\"}],\"scatterpolar\":[{\"marker\":{\"colorbar\":{\"outlinewidth\":0,\"ticks\":\"\"}},\"type\":\"scatterpolar\"}],\"scatter\":[{\"fillpattern\":{\"fillmode\":\"overlay\",\"size\":10,\"solidity\":0.2},\"type\":\"scatter\"}],\"scatterternary\":[{\"marker\":{\"colorbar\":{\"outlinewidth\":0,\"ticks\":\"\"}},\"type\":\"scatterternary\"}],\"surface\":[{\"colorbar\":{\"outlinewidth\":0,\"ticks\":\"\"},\"colorscale\":[[0.0,\"#0d0887\"],[0.1111111111111111,\"#46039f\"],[0.2222222222222222,\"#7201a8\"],[0.3333333333333333,\"#9c179e\"],[0.4444444444444444,\"#bd3786\"],[0.5555555555555556,\"#d8576b\"],[0.6666666666666666,\"#ed7953\"],[0.7777777777777778,\"#fb9f3a\"],[0.8888888888888888,\"#fdca26\"],[1.0,\"#f0f921\"]],\"type\":\"surface\"}],\"table\":[{\"cells\":{\"fill\":{\"color\":\"#EBF0F8\"},\"line\":{\"color\":\"white\"}},\"header\":{\"fill\":{\"color\":\"#C8D4E3\"},\"line\":{\"color\":\"white\"}},\"type\":\"table\"}]},\"layout\":{\"annotationdefaults\":{\"arrowcolor\":\"#2a3f5f\",\"arrowhead\":0,\"arrowwidth\":1},\"autotypenumbers\":\"strict\",\"coloraxis\":{\"colorbar\":{\"outlinewidth\":0,\"ticks\":\"\"}},\"colorscale\":{\"diverging\":[[0,\"#8e0152\"],[0.1,\"#c51b7d\"],[0.2,\"#de77ae\"],[0.3,\"#f1b6da\"],[0.4,\"#fde0ef\"],[0.5,\"#f7f7f7\"],[0.6,\"#e6f5d0\"],[0.7,\"#b8e186\"],[0.8,\"#7fbc41\"],[0.9,\"#4d9221\"],[1,\"#276419\"]],\"sequential\":[[0.0,\"#0d0887\"],[0.1111111111111111,\"#46039f\"],[0.2222222222222222,\"#7201a8\"],[0.3333333333333333,\"#9c179e\"],[0.4444444444444444,\"#bd3786\"],[0.5555555555555556,\"#d8576b\"],[0.6666666666666666,\"#ed7953\"],[0.7777777777777778,\"#fb9f3a\"],[0.8888888888888888,\"#fdca26\"],[1.0,\"#f0f921\"]],\"sequentialminus\":[[0.0,\"#0d0887\"],[0.1111111111111111,\"#46039f\"],[0.2222222222222222,\"#7201a8\"],[0.3333333333333333,\"#9c179e\"],[0.4444444444444444,\"#bd3786\"],[0.5555555555555556,\"#d8576b\"],[0.6666666666666666,\"#ed7953\"],[0.7777777777777778,\"#fb9f3a\"],[0.8888888888888888,\"#fdca26\"],[1.0,\"#f0f921\"]]},\"colorway\":[\"#636efa\",\"#EF553B\",\"#00cc96\",\"#ab63fa\",\"#FFA15A\",\"#19d3f3\",\"#FF6692\",\"#B6E880\",\"#FF97FF\",\"#FECB52\"],\"font\":{\"color\":\"#2a3f5f\"},\"geo\":{\"bgcolor\":\"white\",\"lakecolor\":\"white\",\"landcolor\":\"white\",\"showlakes\":true,\"showland\":true,\"subunitcolor\":\"#C8D4E3\"},\"hoverlabel\":{\"align\":\"left\"},\"hovermode\":\"closest\",\"mapbox\":{\"style\":\"light\"},\"paper_bgcolor\":\"white\",\"plot_bgcolor\":\"white\",\"polar\":{\"angularaxis\":{\"gridcolor\":\"#EBF0F8\",\"linecolor\":\"#EBF0F8\",\"ticks\":\"\"},\"bgcolor\":\"white\",\"radialaxis\":{\"gridcolor\":\"#EBF0F8\",\"linecolor\":\"#EBF0F8\",\"ticks\":\"\"}},\"scene\":{\"xaxis\":{\"backgroundcolor\":\"white\",\"gridcolor\":\"#DFE8F3\",\"gridwidth\":2,\"linecolor\":\"#EBF0F8\",\"showbackground\":true,\"ticks\":\"\",\"zerolinecolor\":\"#EBF0F8\"},\"yaxis\":{\"backgroundcolor\":\"white\",\"gridcolor\":\"#DFE8F3\",\"gridwidth\":2,\"linecolor\":\"#EBF0F8\",\"showbackground\":true,\"ticks\":\"\",\"zerolinecolor\":\"#EBF0F8\"},\"zaxis\":{\"backgroundcolor\":\"white\",\"gridcolor\":\"#DFE8F3\",\"gridwidth\":2,\"linecolor\":\"#EBF0F8\",\"showbackground\":true,\"ticks\":\"\",\"zerolinecolor\":\"#EBF0F8\"}},\"shapedefaults\":{\"line\":{\"color\":\"#2a3f5f\"}},\"ternary\":{\"aaxis\":{\"gridcolor\":\"#DFE8F3\",\"linecolor\":\"#A2B1C6\",\"ticks\":\"\"},\"baxis\":{\"gridcolor\":\"#DFE8F3\",\"linecolor\":\"#A2B1C6\",\"ticks\":\"\"},\"bgcolor\":\"white\",\"caxis\":{\"gridcolor\":\"#DFE8F3\",\"linecolor\":\"#A2B1C6\",\"ticks\":\"\"}},\"title\":{\"x\":0.05},\"xaxis\":{\"automargin\":true,\"gridcolor\":\"#EBF0F8\",\"linecolor\":\"#EBF0F8\",\"ticks\":\"\",\"title\":{\"standoff\":15},\"zerolinecolor\":\"#EBF0F8\",\"zerolinewidth\":2},\"yaxis\":{\"automargin\":true,\"gridcolor\":\"#EBF0F8\",\"linecolor\":\"#EBF0F8\",\"ticks\":\"\",\"title\":{\"standoff\":15},\"zerolinecolor\":\"#EBF0F8\",\"zerolinewidth\":2}}},\"font\":{\"family\":\"Times new roman\",\"size\":25,\"color\":\"black\"},\"polar\":{\"radialaxis\":{\"tickfont\":{\"size\":10},\"title\":{\"text\":\"AUC\",\"font\":{\"size\":15}},\"visible\":true,\"range\":[0.35,0.68],\"tickangle\":35},\"angularaxis\":{\"tickfont\":{\"size\":40}}},\"width\":800,\"height\":800,\"showlegend\":true},                        {\"responsive\": true}                    ).then(function(){\n",
       "                            \n",
       "var gd = document.getElementById('39e06894-fb18-457a-baca-97de5c29b312');\n",
       "var x = new MutationObserver(function (mutations, observer) {{\n",
       "        var display = window.getComputedStyle(gd).display;\n",
       "        if (!display || display === 'none') {{\n",
       "            console.log([gd, 'removed!']);\n",
       "            Plotly.purge(gd);\n",
       "            observer.disconnect();\n",
       "        }}\n",
       "}});\n",
       "\n",
       "// Listen for the removal of the full notebook cells\n",
       "var notebookContainer = gd.closest('#notebook-container');\n",
       "if (notebookContainer) {{\n",
       "    x.observe(notebookContainer, {childList: true});\n",
       "}}\n",
       "\n",
       "// Listen for the clearing of the current output cell\n",
       "var outputEl = gd.closest('.output');\n",
       "if (outputEl) {{\n",
       "    x.observe(outputEl, {childList: true});\n",
       "}}\n",
       "\n",
       "                        })                };                });            </script>        </div>"
      ]
     },
     "metadata": {},
     "output_type": "display_data"
    }
   ],
   "source": [
    "off_contrasts = [ 'dMW vs distracted', 'sMW vs distracted','sMW vs dMW']\n",
    "\n",
    "df_off_contrasts = df_all_self.query(f\"comparison in {off_contrasts}\").query(\"balance == 'unbalance'\")\n",
    "significants = df_off_contrasts.query(\"significant == 'p < 0.05 FDR corrected'\").markers.unique().tolist()\n",
    "\n",
    "distracted_dmw =df_off_contrasts.query(\"comparison == 'dMW vs distracted'\").query(f'markers in {significants}').assign(symbol = lambda df: df.significant.apply(symbol_fun))\n",
    "distracted_smw = df_off_contrasts.query(\"comparison == 'sMW vs distracted'\").query(f'markers in {significants}').assign(symbol = lambda df: df.significant.apply(symbol_fun))\n",
    "dmw_smw = df_off_contrasts.query(\"comparison == 'sMW vs dMW'\").query(f'markers in {significants}').assign(symbol = lambda df: df.significant.apply(symbol_fun))\n",
    "\n",
    "fig = pgo.Figure()\n",
    "\n",
    "\n",
    "\n",
    "fig.add_trace(pgo.Scatterpolar(\n",
    "    r=np.ones(len(distracted_dmw['markers'])) * 0.5,\n",
    "    theta=distracted_dmw['markers'],\n",
    "    name = 'Chance: AUC = 0.5',\n",
    "    mode = 'lines',\n",
    "    line = {'color':'grey', 'width': 2, 'dash': 'dash' },\n",
    "))\n",
    "\n",
    "fig.add_trace(pgo.Scatterpolar(\n",
    "    r=distracted_dmw.AUC,\n",
    "    theta=distracted_dmw['markers'],\n",
    "    fill='toself',\n",
    "    name= 'dMW vs distracted', \n",
    "    marker = {'color':orange, 'size': 10},\n",
    "    fillcolor= f\"rgba{(*hex_to_rgb(orange), 0.2)}\",\n",
    "    marker_symbol= distracted_dmw.symbol.to_list()\n",
    "))\n",
    "\n",
    "fig.add_trace(pgo.Scatterpolar(\n",
    "    r=distracted_smw.AUC,\n",
    "    theta=distracted_smw['markers'],\n",
    "    fill='toself',\n",
    "    name='sMW vs distracted',\n",
    "    marker = {'color':green, 'size': 10},\n",
    "    fillcolor= f\"rgba{(*hex_to_rgb(green), 0.2)}\",\n",
    "    marker_symbol= distracted_smw.symbol.to_list()\n",
    "))\n",
    "\n",
    "fig.add_trace(pgo.Scatterpolar(\n",
    "    r=dmw_smw.AUC,\n",
    "    theta=dmw_smw['markers'],\n",
    "    fill='toself',\n",
    "    name='sMW vs dMW',\n",
    "    marker = {'color':lblue, 'size': 10},\n",
    "    fillcolor= f\"rgba{(*hex_to_rgb(lblue), 0.2)}\",\n",
    "    marker_symbol= dmw_smw.symbol.to_list()\n",
    "))\n",
    "\n",
    "\n",
    "\n",
    "fig.update_layout(\n",
    "#     title=\"All against On-task for Significant markers\",\n",
    "#     legend_title=\"Classification\",\n",
    "    width=800,\n",
    "    height=800,\n",
    "    # autosize = True, \n",
    "        template = 'plotly_white',\n",
    "        font=dict(\n",
    "        family=\"Times new roman\",\n",
    "        size=25,\n",
    "        color=\"black\"\n",
    "    ),\n",
    "    polar=dict(\n",
    "        radialaxis=dict(\n",
    "            title = 'AUC',\n",
    "            visible=True,\n",
    "            range = [0.35,0.68], \n",
    "            tickangle = 35,\n",
    "            tickfont = {\"size\": 10},\n",
    "            titlefont =  {\"size\": 15},\n",
    "        ),\n",
    "        angularaxis = dict(\n",
    "        tickfont = {\"size\": 40},\n",
    "        )\n",
    "  ),\n",
    "    showlegend=True\n",
    ")\n",
    "\n",
    "fig.show()\n",
    "pio.write_json(fig, 'Figs/radar_auc_off_task.plotly')\n",
    "fig.write_image(\"Figs/radar_auc_off_task.svg\")\n",
    "fig.write_image(\"Figs/radar_auc_off_task.png\")"
   ]
  },
  {
   "cell_type": "code",
   "execution_count": null,
   "id": "analyzed-overview",
   "metadata": {
    "tags": []
   },
   "outputs": [],
   "source": [
    "# segment_mind_roc = pd.read_csv('Data/univariate_roc_mind_segment.csv')\n",
    "ot_contrasts = ['about-task vs on-task','distracted vs on-task', 'dMW vs on-task', 'sMW vs on-task']\n",
    "\n",
    "\n",
    "plot_univariate(df = df_all_probe.query(\"balance == 'over-sample'\"), contrast = ot_contrasts[3], label =['sMW', 'on-task'] , color = pink)\n"
   ]
  },
  {
   "cell_type": "markdown",
   "id": "affiliated-petite",
   "metadata": {},
   "source": [
    "# PC vs SC for each comparison"
   ]
  },
  {
   "cell_type": "code",
   "execution_count": null,
   "id": "essential-handbook",
   "metadata": {},
   "outputs": [],
   "source": [
    "mind_states = ['about-task', 'distracted', 'dMW', 'sMW']\n",
    "mind_dict = {'about-task':4, 'distracted':3, 'dMW':2, 'sMW':1}\n",
    "\n",
    "df_all_self['probe'] = 'SC'\n",
    "df_all_probe['probe'] = 'PC'\n",
    "df_all = df_all_self.append(df_all_probe)\n",
    "\n",
    "for i in mind_states:\n",
    "    for j in mind_states:\n",
    "        if i == j:\n",
    "            break\n",
    "        contrast = f\"{i} vs {j}\"\n",
    "        label = sorted([i,j], key = mind_dict.get)\n",
    "        \n",
    "        df_contrast = df_all.query(f\"comparison == '{contrast}'\").query(\"balance == 'over-sample'\")\n",
    "        significants = df_contrast.query(\"significant != 'p > 0.05'\").markers.unique().tolist()\n",
    "\n",
    "        sc =df_contrast.query(\"probe == 'SC'\").query(f'markers in {significants}').assign(symbol = lambda df: df.significant.apply(symbol_fun))\n",
    "        pc = df_contrast.query(\"probe == 'PC'\").query(f'markers in {significants}').assign(symbol = lambda df: df.significant.apply(symbol_fun))\n",
    "\n",
    "        fig = pgo.Figure()\n",
    "\n",
    "\n",
    "\n",
    "        fig.add_trace(pgo.Scatterpolar(\n",
    "            r=np.ones(len(sc['markers'])) * 0.5,\n",
    "            theta=sc['markers'],\n",
    "            name = 'Chance: AUC = 0.5',\n",
    "            mode = 'lines',\n",
    "            line = {'color':'grey', 'width': 2, 'dash': 'dash' },\n",
    "        ))\n",
    "\n",
    "        fig.add_trace(pgo.Scatterpolar(\n",
    "            r=sc.AUC,\n",
    "            theta=sc['markers'],\n",
    "            fill='toself',\n",
    "            name= 'Self-Caught', \n",
    "            mode = 'lines+markers',\n",
    "            marker = {'color':lblue, 'size': 10},\n",
    "            marker_symbol= sc.symbol.to_list()\n",
    "        ))\n",
    "\n",
    "        fig.add_trace(pgo.Scatterpolar(\n",
    "            r=pc.AUC,\n",
    "            theta=pc['markers'],\n",
    "            fill='toself',\n",
    "            name='Probe-Caught',\n",
    "            mode = 'lines+markers',\n",
    "            marker = {'color':pink, 'size': 10},\n",
    "            marker_symbol= distracted_smw.symbol.to_list()\n",
    "        ))\n",
    "\n",
    "\n",
    "        fig.update_layout(\n",
    "            title=contrast,\n",
    "        #     legend_title=\"Classification\",\n",
    "            width=600,\n",
    "            height=600,\n",
    "            template = 'plotly_white',\n",
    "            polar=dict(\n",
    "            radialaxis=dict(\n",
    "            title = 'AUC',\n",
    "              visible=True,\n",
    "                range = [0.35,0.65]\n",
    "            ),\n",
    "          ),\n",
    "            showlegend=True\n",
    "        )\n",
    "\n",
    "        fig.show()"
   ]
  }
 ],
 "metadata": {
  "interpreter": {
   "hash": "85bfb4fda6b6346f8eb0b60a56672a689fcee533e5a134e0cbb64ac5c7775566"
  },
  "kernelspec": {
   "display_name": "Python 3.8.8 64-bit ('base': conda)",
   "name": "python3"
  },
  "language_info": {
   "codemirror_mode": {
    "name": "ipython",
    "version": 3
   },
   "file_extension": ".py",
   "mimetype": "text/x-python",
   "name": "python",
   "nbconvert_exporter": "python",
   "pygments_lexer": "ipython3",
   "version": "3.8.8"
  }
 },
 "nbformat": 4,
 "nbformat_minor": 5
}
