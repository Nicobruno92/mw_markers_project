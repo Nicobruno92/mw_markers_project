{
 "cells": [
  {
   "cell_type": "code",
   "execution_count": 1,
   "metadata": {
    "pycharm": {
     "is_executing": false
    }
   },
   "outputs": [],
   "source": [
    "%matplotlib qt\n",
    "import mne\n",
    "import matplotlib.pyplot as plt\n",
    "import utils\n",
    "import cleaner\n",
    "from autoreject import AutoReject, get_rejection_threshold\n",
    "from mne.preprocessing import create_eog_epochs, create_ecg_epochs\n",
    "from autoreject import AutoReject\n",
    "\n",
    "\n",
    "# mne.viz.set_3d_backend(\"notebook\")\n"
   ]
  },
  {
   "cell_type": "code",
   "execution_count": null,
   "metadata": {
    "pycharm": {
     "is_executing": false
    }
   },
   "outputs": [],
   "source": [
    "path = '/media/nicolas.bruno/63f8a366-34b7-4896-a7ce-b5fb4ee78535/Nico/MW_eeg_data/minmarker/'\n",
    "file = 'VP09_crop_rMean_minmarker.set'\n",
    "\n",
    "raw = mne.io.read_raw_eeglab(path+file, preload = True)\n"
   ]
  },
  {
   "cell_type": "code",
   "execution_count": null,
   "metadata": {
    "pycharm": {
     "is_executing": false
    }
   },
   "outputs": [],
   "source": [
    "print(raw.info)\n",
    "\n",
    "raw.set_channel_types({'EXG3': 'eog', 'EXG4': 'eog', 'EXG5': 'eog','EXG6': 'eog', 'EXG1': 'ecg', 'EXG7': 'ecg'})\n",
    "\n",
    "# raw.info['bads'] = ['Pz', 'EXG1', 'EXG2', 'EXG7', 'EXG8', 'Fpz']"
   ]
  },
  {
   "cell_type": "markdown",
   "metadata": {},
   "source": [
    "raw.plot()\n",
    "plt.show()"
   ]
  },
  {
   "cell_type": "code",
   "execution_count": null,
   "metadata": {},
   "outputs": [],
   "source": [
    "#downdsample\n",
    "# raw_downsampled = raw.copy().resample(sfreq = 250)"
   ]
  },
  {
   "cell_type": "markdown",
   "metadata": {},
   "source": [
    "## Filtering\n",
    "### PSD:"
   ]
  },
  {
   "cell_type": "code",
   "execution_count": null,
   "metadata": {},
   "outputs": [],
   "source": [
    "raw.plot_psd(fmax = 250, xscale = 'linear')\n",
    "plt.show()\n",
    "raw.plot_psd(fmax = 100, xscale = 'log')\n",
    "plt.show()"
   ]
  },
  {
   "cell_type": "code",
   "execution_count": null,
   "metadata": {},
   "outputs": [],
   "source": [
    "lfreq = 1 \n",
    "hfreq = 40\n",
    "raw.filter(lfreq, hfreq,\n",
    "            filter_length='auto', phase='zero', fir_window='hamming',\n",
    "            fir_design='firwin')"
   ]
  },
  {
   "cell_type": "markdown",
   "metadata": {},
   "source": [
    "# Data segmentation\n",
    "\n",
    "- Epoch: -200 to 2400ms\n"
   ]
  },
  {
   "cell_type": "code",
   "execution_count": null,
   "metadata": {
    "pycharm": {
     "is_executing": false,
     "name": "#%%\n"
    }
   },
   "outputs": [],
   "source": [
    "events, event_dict = utils.make_correct_labels(raw)\n",
    "event_dict"
   ]
  },
  {
   "cell_type": "code",
   "execution_count": null,
   "metadata": {
    "pycharm": {
     "is_executing": false,
     "name": "#%%\n"
    }
   },
   "outputs": [],
   "source": [
    "events_correct_go = mne.pick_events(events, include = ['PC/on-task/go/correct/5'])"
   ]
  },
  {
   "cell_type": "code",
   "execution_count": null,
   "metadata": {},
   "outputs": [],
   "source": [
    "mne.viz.plot_events(events, event_id = event_dict, sfreq=raw.info['sfreq'],\n",
    "                          first_samp=raw.first_samp)\n",
    "plt.show()"
   ]
  },
  {
   "cell_type": "code",
   "execution_count": null,
   "metadata": {
    "pycharm": {
     "is_executing": false
    }
   },
   "outputs": [],
   "source": [
    "#####EPOCHING#####\n",
    "tmin, tmax = -0.8, 0.8\n",
    "# rejection_criteria = dict(eeg = 100e-06)\n",
    "epochs = mne.Epochs(raw, events = events, event_id= event_dict, baseline = (None,None),\n",
    "                    tmin = tmin, tmax = tmax, picks = ('eeg', 'eog'), preload = True,\n",
    "#                     reject = rejection_criteria, \n",
    "                    verbose = False)"
   ]
  },
  {
   "cell_type": "code",
   "execution_count": null,
   "metadata": {},
   "outputs": [],
   "source": [
    "epochs_go_correct = epochs['go/correct']\n",
    "epochs_go_correct.plot()"
   ]
  },
  {
   "cell_type": "code",
   "execution_count": null,
   "metadata": {},
   "outputs": [],
   "source": [
    "print(epochs['SC'])\n",
    "print(epochs['PC'])"
   ]
  },
  {
   "cell_type": "code",
   "execution_count": null,
   "metadata": {},
   "outputs": [],
   "source": [
    "print('Go/Correct: {}'.format(len(epochs['go/correct'])))\n",
    "print('No-Go/Correct: {}'.format(len(epochs['nogo/correct'])))\n",
    "print('Go/Incorrect: {}'.format(len(epochs['go/incorrect'])))\n",
    "print('No-Go/Incorrect: {}'.format(len(epochs['nogo/incorrect'])))"
   ]
  },
  {
   "cell_type": "code",
   "execution_count": null,
   "metadata": {},
   "outputs": [],
   "source": [
    "ar = AutoReject()\n",
    "epochs_clean = ar.fit_transform(epochs)  \n",
    "reject = get_rejection_threshold(epochs)  "
   ]
  },
  {
   "cell_type": "code",
   "execution_count": null,
   "metadata": {},
   "outputs": [],
   "source": [
    "epochs_clean.save(fname = file + '-epo.fif' )"
   ]
  },
  {
   "cell_type": "code",
   "execution_count": null,
   "metadata": {
    "scrolled": true
   },
   "outputs": [],
   "source": [
    "epochs.plot()\n",
    "plt.show()"
   ]
  },
  {
   "cell_type": "code",
   "execution_count": null,
   "metadata": {},
   "outputs": [],
   "source": [
    "evoked_clean = epochs_clean.average()\n",
    "evoked = epochs.average()\n",
    "\n",
    "# set_matplotlib_defaults(plt)\n",
    "\n",
    "fig, axes = plt.subplots(2, 1, figsize=(6, 6))\n",
    "\n",
    "for ax in axes:\n",
    "    ax.tick_params(axis='x', which='both', bottom='off', top='off')\n",
    "    ax.tick_params(axis='y', which='both', left='off', right='off')\n",
    "\n",
    "ylim = dict(grad=(-170, 200))\n",
    "# evoked.pick_types(meg='grad', exclude=[])\n",
    "evoked.plot(exclude=[], axes=axes[0], ylim=ylim, show=False)\n",
    "axes[0].set_title('Before autoreject')\n",
    "# evoked_clean.pick_types(meg='grad', exclude=[])\n",
    "evoked_clean.plot(exclude=[], axes=axes[1], ylim=ylim)\n",
    "axes[1].set_title('After autoreject')\n",
    "plt.tight_layout()"
   ]
  },
  {
   "cell_type": "code",
   "execution_count": null,
   "metadata": {},
   "outputs": [],
   "source": [
    "ar.get_reject_log(epochs).plot()"
   ]
  },
  {
   "cell_type": "code",
   "execution_count": null,
   "metadata": {},
   "outputs": [],
   "source": [
    "n_components = 0.99  # Should normally be higher, like 0.999!!\n",
    "method = 'fastica'\n",
    "max_iter = 500  # Should normally be higher, like 500 or even 1000!!\n",
    "fit_params = dict(fastica_it=5)\n",
    "random_state = 42\n",
    "\n",
    "ica = mne.preprocessing.ICA(n_components=n_components,\n",
    "                            method=method,\n",
    "                            max_iter=max_iter,\n",
    "#                             fit_params=fit_params,\n",
    "                            random_state=random_state)\n",
    "\n",
    "ica.fit(raw, decim=1)"
   ]
  },
  {
   "cell_type": "code",
   "execution_count": null,
   "metadata": {
    "scrolled": true
   },
   "outputs": [],
   "source": [
    "# ecg_epochs = create_ecg_epochs(raw, tmin=-.5, tmax=.5)\n",
    "# ecg_inds, scores = ica.find_bads_ecg(ecg_epochs, threshold='auto')\n",
    "\n",
    "ica.plot_components()"
   ]
  },
  {
   "cell_type": "markdown",
   "metadata": {},
   "source": [
    "# Detect ECG and EOG patterns\n"
   ]
  },
  {
   "cell_type": "code",
   "execution_count": null,
   "metadata": {},
   "outputs": [],
   "source": [
    "# find which ICs match the ECG pattern\n",
    "ecg_indices, ecg_scores = ica.find_bads_ecg(raw,ch_name = 'Fz', method='correlation',\n",
    "                                            threshold='auto')\n",
    "ica.exclude = ecg_indices\n",
    "\n",
    "# barplot of ICA component \"ECG match\" scores\n",
    "ica.plot_scores(ecg_scores)\n",
    "\n",
    "# plot diagnostics\n",
    "ica.plot_properties(raw, picks=ecg_indices)\n",
    "\n",
    "# plot ICs applied to raw data, with ECG matches highlighted\n",
    "ica.plot_sources(raw, show_scrollbars=False)\n",
    "\n",
    "# plot ICs applied to the averaged ECG epochs, with ECG matches highlighted\n",
    "ica.plot_sources(ecg_evoked)"
   ]
  },
  {
   "cell_type": "code",
   "execution_count": null,
   "metadata": {},
   "outputs": [],
   "source": [
    "# ecg_epochs = mne.preprocessing.create_ecg_epochs(raw, reject=None,\n",
    "#                                                  baseline=(None, -0.2),\n",
    "#                                                  tmin=-0.5, tmax=0.5)\n",
    "# ecg_evoked = ecg_epochs.average()\n",
    "# ecg_inds, ecg_scores = ica.find_bads_ecg(\n",
    "#     ecg_epochs, method='ctps')\n",
    "\n",
    "\n",
    "eog_epochs = mne.preprocessing.create_eog_epochs(raw, reject=None,\n",
    "                                                 baseline=(None, -0.2),\n",
    "                                                 tmin=-0.5, tmax=0.5)\n",
    "eog_evoked = eog_epochs.average()\n",
    "eog_inds, eog_scores = ica.find_bads_eog(\n",
    "    eog_epochs)\n",
    "\n",
    "# components_to_exclude = ecg_inds + eog_inds\n",
    "components_to_exclude = eog_inds\n",
    "ica.exclude = components_to_exclude"
   ]
  },
  {
   "cell_type": "code",
   "execution_count": null,
   "metadata": {},
   "outputs": [],
   "source": [
    "eog_evoked = create_eog_epochs(raw).average()\n",
    "eog_evoked.apply_baseline(baseline=(None, -0.2))\n",
    "eog_evoked.plot_joint()"
   ]
  },
  {
   "cell_type": "code",
   "execution_count": null,
   "metadata": {},
   "outputs": [],
   "source": [
    "ica.plot_scores(eog_scores)\n",
    "ica.plot_sources(eog_evoked)\n",
    "\n",
    "ica.plot_properties(epochs_clean)"
   ]
  },
  {
   "cell_type": "code",
   "execution_count": null,
   "metadata": {},
   "outputs": [],
   "source": [
    "\n",
    "ica.plot_overlay(eog_evoked)"
   ]
  },
  {
   "cell_type": "code",
   "execution_count": null,
   "metadata": {},
   "outputs": [],
   "source": [
    "evoked_sc = epochs_clean['SC/sMW', 'SC/dMW'].average()\n",
    "evoked_pc = epochs_clean['PC/sMW', 'PC/dMW'].average()\n",
    "mne.viz.plot_compare_evokeds([evoked_sc, evoked_pc], picks='eeg')"
   ]
  },
  {
   "cell_type": "code",
   "execution_count": null,
   "metadata": {},
   "outputs": [],
   "source": [
    "evoked_ot = epochs_clean['PC/on-task'].average()\n",
    "evoked_mw = epochs_clean['PC/sMW', 'PC/dMW'].average()\n",
    "mne.viz.plot_compare_evokeds([evoked_ot, evoked_mw], picks='eeg')"
   ]
  },
  {
   "cell_type": "code",
   "execution_count": null,
   "metadata": {},
   "outputs": [],
   "source": [
    "evoked_sc_sMW = epochs_clean['SC/sMW'].average()\n",
    "evoked_sc_dMW = epochs_clean['SC/dMW'].average()\n",
    "mne.viz.plot_compare_evokeds([evoked_sc_sMW , evoked_sc_dMW], picks='eeg')"
   ]
  },
  {
   "cell_type": "code",
   "execution_count": null,
   "metadata": {},
   "outputs": [],
   "source": [
    "%run /home/nicolas.bruno/eeg_cleaner/scripts/3_clean_ica.py --path='VP11_crop_rMean_trim10_modmarker6.set-epo.fif' --icaname='auto'"
   ]
  }
 ],
 "metadata": {
  "kernelspec": {
   "display_name": "Python 3",
   "language": "python",
   "name": "python3"
  },
  "language_info": {
   "codemirror_mode": {
    "name": "ipython",
    "version": 3
   },
   "file_extension": ".py",
   "mimetype": "text/x-python",
   "name": "python",
   "nbconvert_exporter": "python",
   "pygments_lexer": "ipython3",
   "version": "3.7.4"
  },
  "pycharm": {
   "stem_cell": {
    "cell_type": "raw",
    "metadata": {
     "collapsed": false
    },
    "source": []
   }
  },
  "varInspector": {
   "cols": {
    "lenName": 16,
    "lenType": 16,
    "lenVar": 40
   },
   "kernels_config": {
    "python": {
     "delete_cmd_postfix": "",
     "delete_cmd_prefix": "del ",
     "library": "var_list.py",
     "varRefreshCmd": "print(var_dic_list())"
    },
    "r": {
     "delete_cmd_postfix": ") ",
     "delete_cmd_prefix": "rm(",
     "library": "var_list.r",
     "varRefreshCmd": "cat(var_dic_list()) "
    }
   },
   "oldHeight": 1127.29,
   "position": {
    "height": "1149.79px",
    "left": "1915.64px",
    "right": "20px",
    "top": "82.9688px",
    "width": "520.625px"
   },
   "types_to_exclude": [
    "module",
    "function",
    "builtin_function_or_method",
    "instance",
    "_Feature"
   ],
   "varInspector_section_display": "block",
   "window_display": true
  }
 },
 "nbformat": 4,
 "nbformat_minor": 4
}
