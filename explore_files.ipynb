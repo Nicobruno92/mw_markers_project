{
 "cells": [
  {
   "cell_type": "code",
   "execution_count": 1,
   "metadata": {
    "pycharm": {
     "is_executing": false
    }
   },
   "outputs": [],
   "source": [
    "%matplotlib qt\n",
    "import mne\n",
    "import matplotlib.pyplot as plt\n",
    "import utils\n",
    "import cleaner\n",
    "from autoreject import AutoReject, get_rejection_threshold\n",
    "from mne.preprocessing import create_eog_epochs, create_ecg_epochs\n",
    "from autoreject import AutoReject\n",
    "\n",
    "\n",
    "# mne.viz.set_3d_backend(\"notebook\")\n"
   ]
  },
  {
   "cell_type": "code",
   "execution_count": 2,
   "metadata": {
    "pycharm": {
     "is_executing": false
    }
   },
   "outputs": [
    {
     "name": "stdout",
     "output_type": "stream",
     "text": [
      "Reading /media/nicolas.bruno/63f8a366-34b7-4896-a7ce-b5fb4ee78535/Nico/MW_eeg_data/minmarker/VP09_crop_rMean_minmarker.fdt\n",
      "Reading 0 ... 2210108  =      0.000 ...  4316.617 secs...\n"
     ]
    },
    {
     "name": "stderr",
     "output_type": "stream",
     "text": [
      "<ipython-input-2-6f0c6f34f258>:4: RuntimeWarning: Limited 1 annotation(s) that were expanding outside the data range.\n",
      "  raw = mne.io.read_raw_eeglab(path+file, preload = True)\n"
     ]
    }
   ],
   "source": [
    "path = '/media/nicolas.bruno/63f8a366-34b7-4896-a7ce-b5fb4ee78535/Nico/MW_eeg_data/minmarker/'\n",
    "file = 'VP09_crop_rMean_minmarker.set'\n",
    "\n",
    "raw = mne.io.read_raw_eeglab(path+file, preload = True)\n"
   ]
  },
  {
   "cell_type": "code",
   "execution_count": 11,
   "metadata": {
    "pycharm": {
     "is_executing": false
    }
   },
   "outputs": [
    {
     "name": "stdout",
     "output_type": "stream",
     "text": [
      "<Info | 8 non-empty values\n",
      " bads: []\n",
      " ch_names: Fp1, AF7, AF3, F1, F3, F5, F7, FT7, FC5, FC3, FC1, C1, C3, C5, ...\n",
      " chs: 72 EEG\n",
      " custom_ref_applied: False\n",
      " dig: 72 items (72 EEG)\n",
      " highpass: 0.0 Hz\n",
      " lowpass: 256.0 Hz\n",
      " meas_date: unspecified\n",
      " nchan: 72\n",
      " projs: []\n",
      " sfreq: 512.0 Hz\n",
      ">\n"
     ]
    }
   ],
   "source": [
    "print(raw.info)\n",
    "\n",
    "raw.set_channel_types({'EXG3': 'eog', 'EXG4': 'eog', 'EXG5': 'eog','EXG6': 'eog'})\n",
    "\n",
    "raw.info['bads'] = ['Pz', 'EXG1', 'EXG2', 'EXG7', 'EXG8']"
   ]
  },
  {
   "cell_type": "code",
   "execution_count": null,
   "metadata": {
    "pycharm": {
     "name": "#%%\n"
    }
   },
   "outputs": [],
   "source": []
  },
  {
   "cell_type": "code",
   "execution_count": 10,
   "metadata": {
    "pycharm": {
     "is_executing": false
    }
   },
   "outputs": [
    {
     "name": "stdout",
     "output_type": "stream",
     "text": [
      "Channels marked as bad: ['Pz', 'EXG1', 'EXG2', 'EXG7', 'EXG8']\n"
     ]
    }
   ],
   "source": [
    "raw.plot()\n",
    "plt.show()"
   ]
  },
  {
   "cell_type": "markdown",
   "metadata": {},
   "source": [
    "# Preprocessing\n",
    "\n",
    "- Channels: Rereferencez to Pz and Interpolated to 62 channels minus P9 and P10. Drop them\n",
    "- Downsample: 250\n",
    "- High pass: 0.5\n",
    "- ICA"
   ]
  },
  {
   "cell_type": "code",
   "execution_count": 9,
   "metadata": {},
   "outputs": [],
   "source": [
    "#downdsample\n",
    "# raw_downsampled = raw.copy().resample(sfreq = 250)"
   ]
  },
  {
   "cell_type": "markdown",
   "metadata": {},
   "source": [
    "## Filtering\n",
    "### PSD:"
   ]
  },
  {
   "cell_type": "code",
   "execution_count": 13,
   "metadata": {},
   "outputs": [
    {
     "name": "stdout",
     "output_type": "stream",
     "text": [
      "Effective window size : 4.000 (s)\n",
      "Effective window size : 4.000 (s)\n"
     ]
    }
   ],
   "source": [
    "raw.plot_psd(fmax = 250, xscale = 'linear')\n",
    "plt.show()\n",
    "raw.plot_psd(fmax = 100, xscale = 'log')\n",
    "plt.show()"
   ]
  },
  {
   "cell_type": "code",
   "execution_count": 12,
   "metadata": {},
   "outputs": [
    {
     "name": "stdout",
     "output_type": "stream",
     "text": [
      "Filtering raw data in 1 contiguous segment\n",
      "Setting up band-pass filter from 1 - 40 Hz\n",
      "\n",
      "FIR filter parameters\n",
      "---------------------\n",
      "Designing a one-pass, zero-phase, non-causal bandpass filter:\n",
      "- Windowed time-domain design (firwin) method\n",
      "- Hamming window with 0.0194 passband ripple and 53 dB stopband attenuation\n",
      "- Lower passband edge: 1.00\n",
      "- Lower transition bandwidth: 1.00 Hz (-6 dB cutoff frequency: 0.50 Hz)\n",
      "- Upper passband edge: 40.00 Hz\n",
      "- Upper transition bandwidth: 10.00 Hz (-6 dB cutoff frequency: 45.00 Hz)\n",
      "- Filter length: 1691 samples (3.303 sec)\n",
      "\n"
     ]
    },
    {
     "data": {
      "text/plain": [
       "<RawEEGLAB | VP09_crop_rMean_minmarker.fdt, 72 x 2210109 (4316.6 s), ~1.19 GB, data loaded>"
      ]
     },
     "execution_count": 12,
     "metadata": {},
     "output_type": "execute_result"
    }
   ],
   "source": [
    "lfreq = 1 \n",
    "hfreq = 40\n",
    "raw.filter(lfreq, hfreq,\n",
    "            filter_length='auto', phase='zero', fir_window='hamming',\n",
    "            fir_design='firwin')"
   ]
  },
  {
   "cell_type": "markdown",
   "metadata": {},
   "source": [
    "# Data segmentation\n",
    "\n",
    "- Epoch: -200 to 2400ms\n"
   ]
  },
  {
   "cell_type": "code",
   "execution_count": 5,
   "metadata": {
    "pycharm": {
     "is_executing": false,
     "name": "#%%\n"
    }
   },
   "outputs": [
    {
     "name": "stdout",
     "output_type": "stream",
     "text": [
      "Used Annotations descriptions: ['-999', '1', '101', '102', '103', '104', '105', '106', '107', '108', '109', '11', '110', '111', '12', '154', '155', '157', '158', '160', '161', '162', '163', '165', '167', '169', '17', '170', '171', '172', '173', '174', '175', '177', '179', '181', '188', '192', '2', '201', '202', '203', '204', '205', '206', '207', '208', '232', '233', '234', '238', '239', '243', '251', '252', '253', '3', '4', '5', '6', '62', '68', '7', '74', '80', '86', '9', '92', '98', '99']\n"
     ]
    },
    {
     "data": {
      "text/plain": [
       "{'PC/on-task/go/correct/5': 11115,\n",
       " 'PC/on-task/go/correct/4': 11114,\n",
       " 'PC/on-task/go/correct/3': 11113,\n",
       " 'PC/on-task/go/correct/2': 11112,\n",
       " 'PC/on-task/go/correct/1': 11111,\n",
       " 'PC/distracted/go/correct/5': 13115,\n",
       " 'PC/distracted/go/correct/4': 13114,\n",
       " 'PC/distracted/go/correct/3': 13113,\n",
       " 'PC/distracted/go/correct/2': 13112,\n",
       " 'PC/distracted/go/correct/1': 13111,\n",
       " 'PC/on-task/nogo/correct/1': 11011,\n",
       " 'SC/dMW/go/correct/5': 24115,\n",
       " 'SC/dMW/go/correct/4': 24114,\n",
       " 'SC/dMW/go/correct/3': 24113,\n",
       " 'SC/dMW/nogo/incorrect/2': 24002,\n",
       " 'SC/dMW/go/correct/1': 24111,\n",
       " 'SC/dMW/go/correct/2': 24112,\n",
       " 'SC/dMW/go/incorrect/1': 24101,\n",
       " 'PC/about-task/go/correct/5': 12115,\n",
       " 'PC/about-task/nogo/incorrect/4': 12004,\n",
       " 'PC/about-task/go/incorrect/3': 12103,\n",
       " 'PC/about-task/go/correct/2': 12112,\n",
       " 'PC/about-task/go/correct/1': 12111,\n",
       " 'SC/distracted/go/correct/5': 23115,\n",
       " 'SC/distracted/go/correct/4': 23114,\n",
       " 'SC/distracted/go/correct/3': 23113,\n",
       " 'SC/distracted/go/correct/2': 23112,\n",
       " 'SC/distracted/go/correct/1': 23111,\n",
       " 'SC/dMW/nogo/correct/2': 24012,\n",
       " 'SC/distracted/nogo/correct/2': 23012,\n",
       " 'SC/sMW/nogo/correct/5': 25015,\n",
       " 'SC/sMW/go/correct/4': 25114,\n",
       " 'SC/sMW/go/correct/3': 25113,\n",
       " 'SC/sMW/go/correct/2': 25112,\n",
       " 'SC/sMW/go/correct/1': 25111,\n",
       " 'SC/sMW/go/correct/5': 25115,\n",
       " 'SC/sMW/nogo/correct/4': 25014,\n",
       " 'SC/sMW/nogo/correct/3': 25013,\n",
       " 'SC/sMW/go/incorrect/1': 25101,\n",
       " 'SC/dMW/nogo/correct/3': 24013,\n",
       " 'SC/distracted/nogo/correct/3': 23013,\n",
       " 'SC/distracted/go/incorrect/1': 23101,\n",
       " 'SC/dMW/nogo/correct/4': 24014,\n",
       " 'PC/sMW/go/correct/5': 15115,\n",
       " 'PC/sMW/go/correct/4': 15114,\n",
       " 'PC/sMW/go/correct/3': 15113,\n",
       " 'PC/sMW/go/correct/2': 15112,\n",
       " 'PC/sMW/go/correct/1': 15111,\n",
       " 'PC/distracted/go/incorrect/5': 13105,\n",
       " 'PC/distracted/nogo/correct/2': 13012,\n",
       " 'PC/on-task/nogo/correct/5': 11015,\n",
       " 'PC/about-task/go/correct/4': 12114,\n",
       " 'PC/about-task/go/correct/3': 12113}"
      ]
     },
     "execution_count": 5,
     "metadata": {},
     "output_type": "execute_result"
    }
   ],
   "source": [
    "events, event_dict = utils.make_correct_labels(raw)"
   ]
  },
  {
   "cell_type": "code",
   "execution_count": 15,
   "metadata": {},
   "outputs": [
    {
     "name": "stderr",
     "output_type": "stream",
     "text": [
      "<ipython-input-15-b941d5e1c09c>:2: RuntimeWarning: More events than default colors available. You should pass a list of unique colors.\n",
      "  first_samp=raw.first_samp)\n"
     ]
    }
   ],
   "source": [
    "mne.viz.plot_events(events, event_id = event_dict, sfreq=raw.info['sfreq'],\n",
    "                          first_samp=raw.first_samp)\n",
    "plt.show()"
   ]
  },
  {
   "cell_type": "code",
   "execution_count": 13,
   "metadata": {
    "pycharm": {
     "is_executing": false
    }
   },
   "outputs": [],
   "source": [
    "#####EPOCHING#####\n",
    "tmin, tmax = -0.8, 0.8\n",
    "# rejection_criteria = dict(eeg = 100e-06)\n",
    "epochs = mne.Epochs(raw, events = events, event_id= event_dict, baseline = (None,None),\n",
    "                    tmin = tmin, tmax = tmax, picks = ('eeg', 'eog'), preload = True,\n",
    "#                     reject = rejection_criteria, \n",
    "                    verbose = False)"
   ]
  },
  {
   "cell_type": "code",
   "execution_count": 14,
   "metadata": {},
   "outputs": [
    {
     "name": "stderr",
     "output_type": "stream",
     "text": [
      "/home/nicolas.bruno/anaconda3/lib/python3.7/site-packages/autoreject/utils.py:66: UserWarning: 5 channels are marked as bad. These will be ignored. If you want them to be considered by autoreject please remove them from epochs.info[\"bads\"].\n",
      "  'remove them from epochs.info[\"bads\"].' % n_bads)\n",
      "\r",
      "Creating augmented epochs:   0%|          | 0/63 [00:00<?, ?it/s]"
     ]
    },
    {
     "name": "stdout",
     "output_type": "stream",
     "text": [
      "Running autoreject on ch_type=eeg\n"
     ]
    },
    {
     "name": "stderr",
     "output_type": "stream",
     "text": [
      "Creating augmented epochs: 100%|██████████| 63/63 [00:06<00:00, 10.18it/s]\n",
      "Computing thresholds ...: 100%|██████████| 63/63 [01:44<00:00,  1.66s/it]\n",
      "\n",
      "\n",
      "Repairing epochs:   0%|          | 0/176 [00:00<?, ?it/s]\u001b[A\u001b[A\n",
      "\n",
      "Repairing epochs:  14%|█▍        | 25/176 [00:00<00:00, 247.02it/s]\u001b[A\u001b[A\n",
      "\n",
      "Repairing epochs:  28%|██▊       | 50/176 [00:00<00:00, 247.41it/s]\u001b[A\u001b[A\n",
      "\n",
      "Repairing epochs:  43%|████▎     | 75/176 [00:00<00:00, 241.29it/s]\u001b[A\u001b[A\n",
      "\n",
      "Repairing epochs:  57%|█████▋    | 100/176 [00:00<00:00, 230.62it/s]\u001b[A\u001b[A\n",
      "\n",
      "Repairing epochs:  71%|███████   | 125/176 [00:00<00:00, 234.36it/s]\u001b[A\u001b[A\n",
      "\n",
      "Repairing epochs:  85%|████████▌ | 150/176 [00:00<00:00, 237.80it/s]\u001b[A\u001b[A\n",
      "\n",
      "Repairing epochs: 100%|██████████| 176/176 [00:00<00:00, 237.15it/s]\u001b[A\u001b[A\n",
      "\n",
      "n_interp:   0%|          | 0/3 [00:00<?, ?it/s]\u001b[A\n",
      "\n",
      "Repairing epochs:   0%|          | 0/176 [00:00<?, ?it/s]\u001b[A\u001b[A\n",
      "\n",
      "Repairing epochs:   2%|▏         | 3/176 [00:00<00:07, 22.35it/s]\u001b[A\u001b[A\n",
      "\n",
      "Repairing epochs:   3%|▎         | 6/176 [00:00<00:08, 19.63it/s]\u001b[A\u001b[A\n",
      "\n",
      "Repairing epochs:   5%|▍         | 8/176 [00:00<00:08, 18.81it/s]\u001b[A\u001b[A\n",
      "\n",
      "Repairing epochs:   6%|▌         | 10/176 [00:00<00:09, 18.20it/s]\u001b[A\u001b[A\n",
      "\n",
      "Repairing epochs:   7%|▋         | 12/176 [00:00<00:09, 18.16it/s]\u001b[A\u001b[A\n",
      "\n",
      "Repairing epochs:   8%|▊         | 14/176 [00:00<00:08, 18.46it/s]\u001b[A\u001b[A\n",
      "\n",
      "Repairing epochs:   9%|▉         | 16/176 [00:00<00:09, 17.15it/s]\u001b[A\u001b[A\n",
      "\n",
      "Repairing epochs:  10%|█         | 18/176 [00:00<00:09, 17.25it/s]\u001b[A\u001b[A\n",
      "\n",
      "Repairing epochs:  11%|█▏        | 20/176 [00:01<00:08, 17.43it/s]\u001b[A\u001b[A\n",
      "\n",
      "Repairing epochs:  12%|█▎        | 22/176 [00:01<00:08, 17.20it/s]\u001b[A\u001b[A\n",
      "\n",
      "Repairing epochs:  14%|█▎        | 24/176 [00:01<00:09, 16.57it/s]\u001b[A\u001b[A\n",
      "\n",
      "Repairing epochs:  15%|█▍        | 26/176 [00:01<00:08, 17.24it/s]\u001b[A\u001b[A\n",
      "\n",
      "Repairing epochs:  16%|█▌        | 28/176 [00:01<00:08, 17.52it/s]\u001b[A\u001b[A\n",
      "\n",
      "Repairing epochs:  17%|█▋        | 30/176 [00:01<00:08, 16.70it/s]\u001b[A\u001b[A\n",
      "\n",
      "Repairing epochs:  18%|█▊        | 32/176 [00:01<00:08, 17.20it/s]\u001b[A\u001b[A\n",
      "\n",
      "Repairing epochs:  19%|█▉        | 34/176 [00:01<00:08, 15.85it/s]\u001b[A\u001b[A\n",
      "\n",
      "Repairing epochs:  20%|██        | 36/176 [00:02<00:09, 14.46it/s]\u001b[A\u001b[A\n",
      "\n",
      "Repairing epochs:  22%|██▏       | 38/176 [00:02<00:09, 13.94it/s]\u001b[A\u001b[A\n",
      "\n",
      "Repairing epochs:  23%|██▎       | 40/176 [00:02<00:09, 14.07it/s]\u001b[A\u001b[A\n",
      "\n",
      "Repairing epochs:  24%|██▍       | 42/176 [00:02<00:10, 12.95it/s]\u001b[A\u001b[A\n",
      "\n",
      "Repairing epochs:  25%|██▌       | 44/176 [00:02<00:09, 13.50it/s]\u001b[A\u001b[A\n",
      "\n",
      "Repairing epochs:  26%|██▌       | 46/176 [00:02<00:09, 13.75it/s]\u001b[A\u001b[A\n",
      "\n",
      "Repairing epochs:  27%|██▋       | 48/176 [00:02<00:08, 14.58it/s]\u001b[A\u001b[A\n",
      "\n",
      "Repairing epochs:  28%|██▊       | 50/176 [00:03<00:08, 15.59it/s]\u001b[A\u001b[A\n",
      "\n",
      "Repairing epochs:  30%|██▉       | 52/176 [00:03<00:07, 16.19it/s]\u001b[A\u001b[A\n",
      "\n",
      "Repairing epochs:  31%|███       | 54/176 [00:03<00:07, 16.59it/s]\u001b[A\u001b[A\n",
      "\n",
      "Repairing epochs:  32%|███▏      | 56/176 [00:03<00:06, 17.26it/s]\u001b[A\u001b[A\n",
      "\n",
      "Repairing epochs:  33%|███▎      | 58/176 [00:03<00:06, 17.27it/s]\u001b[A\u001b[A\n",
      "\n",
      "Repairing epochs:  34%|███▍      | 60/176 [00:03<00:06, 16.77it/s]\u001b[A\u001b[A\n",
      "\n",
      "Repairing epochs:  35%|███▌      | 62/176 [00:03<00:06, 17.19it/s]\u001b[A\u001b[A\n",
      "\n",
      "Repairing epochs:  36%|███▋      | 64/176 [00:03<00:06, 17.57it/s]\u001b[A\u001b[A\n",
      "\n",
      "Repairing epochs:  38%|███▊      | 66/176 [00:04<00:06, 17.46it/s]\u001b[A\u001b[A\n",
      "\n",
      "Repairing epochs:  39%|███▊      | 68/176 [00:04<00:06, 17.60it/s]\u001b[A\u001b[A\n",
      "\n",
      "Repairing epochs:  40%|███▉      | 70/176 [00:04<00:06, 16.54it/s]\u001b[A\u001b[A\n",
      "\n",
      "Repairing epochs:  41%|████      | 72/176 [00:04<00:06, 16.68it/s]\u001b[A\u001b[A\n",
      "\n",
      "Repairing epochs:  42%|████▏     | 74/176 [00:04<00:05, 17.02it/s]\u001b[A\u001b[A\n",
      "\n",
      "Repairing epochs:  43%|████▎     | 76/176 [00:04<00:05, 17.25it/s]\u001b[A\u001b[A\n",
      "\n",
      "Repairing epochs:  44%|████▍     | 78/176 [00:04<00:06, 15.37it/s]\u001b[A\u001b[A\n",
      "\n",
      "Repairing epochs:  45%|████▌     | 80/176 [00:04<00:06, 15.63it/s]\u001b[A\u001b[A\n",
      "\n",
      "Repairing epochs:  47%|████▋     | 82/176 [00:05<00:05, 15.93it/s]\u001b[A\u001b[A\n",
      "\n",
      "Repairing epochs:  48%|████▊     | 84/176 [00:05<00:05, 16.09it/s]\u001b[A\u001b[A\n",
      "\n",
      "Repairing epochs:  49%|████▉     | 86/176 [00:05<00:05, 15.63it/s]\u001b[A\u001b[A\n",
      "\n",
      "Repairing epochs:  50%|█████     | 88/176 [00:05<00:05, 15.72it/s]\u001b[A\u001b[A\n",
      "\n",
      "Repairing epochs:  52%|█████▏    | 91/176 [00:05<00:04, 18.99it/s]\u001b[A\u001b[A\n",
      "\n",
      "Repairing epochs:  53%|█████▎    | 94/176 [00:05<00:03, 21.82it/s]\u001b[A\u001b[A\n",
      "\n",
      "Repairing epochs:  55%|█████▌    | 97/176 [00:05<00:03, 20.64it/s]\u001b[A\u001b[A\n",
      "\n",
      "Repairing epochs:  57%|█████▋    | 100/176 [00:05<00:03, 22.08it/s]\u001b[A\u001b[A\n",
      "\n",
      "Repairing epochs:  59%|█████▊    | 103/176 [00:05<00:03, 23.78it/s]\u001b[A\u001b[A\n",
      "\n",
      "Repairing epochs:  60%|██████    | 106/176 [00:06<00:02, 23.51it/s]\u001b[A\u001b[A\n",
      "\n",
      "Repairing epochs:  62%|██████▏   | 109/176 [00:06<00:02, 24.14it/s]\u001b[A\u001b[A\n",
      "\n",
      "Repairing epochs:  64%|██████▎   | 112/176 [00:06<00:02, 25.11it/s]\u001b[A\u001b[A\n",
      "\n",
      "Repairing epochs:  66%|██████▌   | 116/176 [00:06<00:02, 27.55it/s]\u001b[A\u001b[A\n",
      "\n",
      "Repairing epochs:  68%|██████▊   | 119/176 [00:06<00:02, 26.87it/s]\u001b[A\u001b[A\n",
      "\n",
      "Repairing epochs:  70%|██████▉   | 123/176 [00:06<00:01, 29.16it/s]\u001b[A\u001b[A\n",
      "\n",
      "Repairing epochs:  72%|███████▏  | 127/176 [00:06<00:01, 30.80it/s]\u001b[A\u001b[A\n",
      "\n",
      "Repairing epochs:  74%|███████▍  | 131/176 [00:06<00:01, 31.95it/s]\u001b[A\u001b[A\n",
      "\n",
      "Repairing epochs:  77%|███████▋  | 135/176 [00:07<00:01, 30.45it/s]\u001b[A\u001b[A\n",
      "\n",
      "Repairing epochs:  79%|███████▉  | 139/176 [00:07<00:01, 25.62it/s]\u001b[A\u001b[A\n",
      "\n",
      "Repairing epochs:  81%|████████  | 142/176 [00:07<00:01, 25.74it/s]\u001b[A\u001b[A\n",
      "\n",
      "Repairing epochs:  82%|████████▏ | 145/176 [00:07<00:01, 25.12it/s]\u001b[A\u001b[A\n",
      "\n",
      "Repairing epochs:  84%|████████▍ | 148/176 [00:07<00:01, 25.56it/s]\u001b[A\u001b[A\n",
      "\n",
      "Repairing epochs:  86%|████████▌ | 151/176 [00:07<00:00, 25.25it/s]\u001b[A\u001b[A\n",
      "\n",
      "Repairing epochs:  88%|████████▊ | 155/176 [00:07<00:00, 27.78it/s]\u001b[A\u001b[A\n",
      "\n",
      "Repairing epochs:  90%|████████▉ | 158/176 [00:08<00:00, 26.11it/s]\u001b[A\u001b[A\n",
      "\n",
      "Repairing epochs:  91%|█████████▏| 161/176 [00:08<00:00, 25.59it/s]\u001b[A\u001b[A\n",
      "\n",
      "Repairing epochs:  93%|█████████▎| 164/176 [00:08<00:00, 22.20it/s]\u001b[A\u001b[A\n",
      "\n",
      "Repairing epochs:  95%|█████████▍| 167/176 [00:08<00:00, 19.77it/s]\u001b[A\u001b[A\n",
      "\n",
      "Repairing epochs:  97%|█████████▋| 170/176 [00:08<00:00, 19.67it/s]\u001b[A\u001b[A\n",
      "\n",
      "Repairing epochs:  98%|█████████▊| 173/176 [00:08<00:00, 19.34it/s]\u001b[A\u001b[A\n",
      "\n",
      "Repairing epochs: 100%|██████████| 176/176 [00:08<00:00, 19.59it/s]\u001b[A\u001b[A\n",
      "\n",
      "\n",
      "\n",
      "Fold:   0%|          | 0/10 [00:00<?, ?it/s]\u001b[A\u001b[A\u001b[A\n",
      "\n",
      "\n",
      "Fold:  10%|█         | 1/10 [00:01<00:11,  1.27s/it]\u001b[A\u001b[A\u001b[A\n",
      "\n",
      "\n",
      "Fold:  20%|██        | 2/10 [00:02<00:10,  1.27s/it]\u001b[A\u001b[A\u001b[A\n",
      "\n",
      "\n",
      "Fold:  30%|███       | 3/10 [00:03<00:08,  1.26s/it]\u001b[A\u001b[A\u001b[A\n",
      "\n",
      "\n",
      "Fold:  40%|████      | 4/10 [00:05<00:07,  1.27s/it]\u001b[A\u001b[A\u001b[A\n",
      "\n",
      "\n",
      "Fold:  50%|█████     | 5/10 [00:06<00:06,  1.28s/it]\u001b[A\u001b[A\u001b[A\n",
      "\n",
      "\n",
      "Fold:  60%|██████    | 6/10 [00:07<00:05,  1.27s/it]\u001b[A\u001b[A\u001b[A\n",
      "\n",
      "\n",
      "Fold:  70%|███████   | 7/10 [00:08<00:03,  1.26s/it]\u001b[A\u001b[A\u001b[A\n",
      "\n",
      "\n",
      "Fold:  80%|████████  | 8/10 [00:10<00:02,  1.30s/it]\u001b[A\u001b[A\u001b[A\n",
      "\n",
      "\n",
      "Fold:  90%|█████████ | 9/10 [00:11<00:01,  1.28s/it]\u001b[A\u001b[A\u001b[A\n",
      "\n",
      "\n",
      "Fold: 100%|██████████| 10/10 [00:12<00:00,  1.27s/it]\u001b[A\u001b[A\u001b[A\n",
      "\n",
      "n_interp:  33%|███▎      | 1/3 [00:22<00:44, 22.06s/it]\u001b[A\n",
      "\n",
      "Repairing epochs:   0%|          | 0/176 [00:00<?, ?it/s]\u001b[A\u001b[A\n",
      "\n",
      "Repairing epochs:   2%|▏         | 3/176 [00:00<00:06, 26.99it/s]\u001b[A\u001b[A\n",
      "\n",
      "Repairing epochs:   4%|▍         | 7/176 [00:00<00:05, 32.90it/s]\u001b[A\u001b[A\n",
      "\n",
      "Repairing epochs:   6%|▋         | 11/176 [00:00<00:04, 33.05it/s]\u001b[A\u001b[A\n",
      "\n",
      "Repairing epochs:   9%|▊         | 15/176 [00:00<00:04, 33.35it/s]\u001b[A\u001b[A\n",
      "\n",
      "Repairing epochs:  11%|█         | 19/176 [00:00<00:04, 34.42it/s]\u001b[A\u001b[A\n",
      "\n",
      "Repairing epochs:  13%|█▎        | 23/176 [00:00<00:04, 34.41it/s]\u001b[A\u001b[A\n",
      "\n",
      "Repairing epochs:  15%|█▌        | 27/176 [00:00<00:04, 33.82it/s]\u001b[A\u001b[A\n",
      "\n",
      "Repairing epochs:  18%|█▊        | 31/176 [00:00<00:04, 34.18it/s]\u001b[A\u001b[A\n",
      "\n",
      "Repairing epochs:  20%|█▉        | 35/176 [00:01<00:04, 34.81it/s]\u001b[A\u001b[A\n",
      "\n",
      "Repairing epochs:  22%|██▏       | 39/176 [00:01<00:03, 36.13it/s]\u001b[A\u001b[A\n",
      "\n",
      "Repairing epochs:  24%|██▍       | 43/176 [00:01<00:03, 36.95it/s]\u001b[A\u001b[A\n",
      "\n",
      "Repairing epochs:  27%|██▋       | 47/176 [00:01<00:03, 33.56it/s]\u001b[A\u001b[A\n",
      "\n",
      "Repairing epochs:  29%|██▉       | 51/176 [00:01<00:03, 35.25it/s]\u001b[A\u001b[A\n",
      "\n",
      "Repairing epochs:  31%|███▏      | 55/176 [00:01<00:03, 35.49it/s]\u001b[A\u001b[A\n",
      "\n",
      "Repairing epochs:  34%|███▎      | 59/176 [00:01<00:03, 35.97it/s]\u001b[A\u001b[A\n",
      "\n",
      "Repairing epochs:  36%|███▌      | 63/176 [00:01<00:03, 35.03it/s]\u001b[A\u001b[A\n",
      "\n",
      "Repairing epochs:  38%|███▊      | 67/176 [00:01<00:03, 34.87it/s]\u001b[A\u001b[A\n",
      "\n"
     ]
    },
    {
     "name": "stderr",
     "output_type": "stream",
     "text": [
      "Repairing epochs:  40%|████      | 71/176 [00:02<00:03, 34.93it/s]\u001b[A\u001b[A\n",
      "\n",
      "Repairing epochs:  43%|████▎     | 75/176 [00:02<00:02, 33.74it/s]\u001b[A\u001b[A\n",
      "\n",
      "Repairing epochs:  45%|████▍     | 79/176 [00:02<00:03, 26.70it/s]\u001b[A\u001b[A\n",
      "\n",
      "Repairing epochs:  47%|████▋     | 82/176 [00:02<00:03, 27.36it/s]\u001b[A\u001b[A\n",
      "\n",
      "Repairing epochs:  48%|████▊     | 85/176 [00:02<00:03, 25.63it/s]\u001b[A\u001b[A\n",
      "\n",
      "Repairing epochs:  50%|█████     | 88/176 [00:02<00:03, 24.03it/s]\u001b[A\u001b[A\n",
      "\n",
      "Repairing epochs:  52%|█████▏    | 91/176 [00:02<00:03, 23.02it/s]\u001b[A\u001b[A\n",
      "\n",
      "Repairing epochs:  53%|█████▎    | 94/176 [00:03<00:03, 23.88it/s]\u001b[A\u001b[A\n",
      "\n",
      "Repairing epochs:  56%|█████▌    | 98/176 [00:03<00:02, 27.63it/s]\u001b[A\u001b[A\n",
      "\n",
      "Repairing epochs:  57%|█████▋    | 101/176 [00:03<00:02, 27.94it/s]\u001b[A\u001b[A\n",
      "\n",
      "Repairing epochs:  60%|█████▉    | 105/176 [00:03<00:02, 30.02it/s]\u001b[A\u001b[A\n",
      "\n",
      "Repairing epochs:  62%|██████▏   | 109/176 [00:03<00:02, 30.77it/s]\u001b[A\u001b[A\n",
      "\n",
      "Repairing epochs:  64%|██████▍   | 113/176 [00:03<00:02, 29.81it/s]\u001b[A\u001b[A\n",
      "\n",
      "Repairing epochs:  66%|██████▋   | 117/176 [00:03<00:01, 32.21it/s]\u001b[A\u001b[A\n",
      "\n",
      "Repairing epochs:  69%|██████▉   | 121/176 [00:03<00:01, 32.30it/s]\u001b[A\u001b[A\n",
      "\n",
      "Repairing epochs:  71%|███████   | 125/176 [00:04<00:01, 29.90it/s]\u001b[A\u001b[A\n",
      "\n",
      "Repairing epochs:  73%|███████▎  | 129/176 [00:04<00:01, 28.53it/s]\u001b[A\u001b[A\n",
      "\n",
      "Repairing epochs:  76%|███████▌  | 133/176 [00:04<00:01, 29.33it/s]\u001b[A\u001b[A\n",
      "\n",
      "Repairing epochs:  78%|███████▊  | 137/176 [00:04<00:01, 30.27it/s]\u001b[A\u001b[A\n",
      "\n",
      "Repairing epochs:  80%|████████  | 141/176 [00:04<00:01, 30.26it/s]\u001b[A\u001b[A\n",
      "\n",
      "Repairing epochs:  82%|████████▏ | 145/176 [00:04<00:00, 31.91it/s]\u001b[A\u001b[A\n",
      "\n",
      "Repairing epochs:  85%|████████▍ | 149/176 [00:04<00:00, 33.66it/s]\u001b[A\u001b[A\n",
      "\n",
      "Repairing epochs:  87%|████████▋ | 153/176 [00:04<00:00, 27.59it/s]\u001b[A\u001b[A\n",
      "\n",
      "Repairing epochs:  89%|████████▊ | 156/176 [00:05<00:00, 24.98it/s]\u001b[A\u001b[A\n",
      "\n",
      "Repairing epochs:  90%|█████████ | 159/176 [00:05<00:00, 23.50it/s]\u001b[A\u001b[A\n",
      "\n",
      "Repairing epochs:  92%|█████████▏| 162/176 [00:05<00:00, 24.39it/s]\u001b[A\u001b[A\n",
      "\n",
      "Repairing epochs:  94%|█████████▍| 165/176 [00:05<00:00, 24.77it/s]\u001b[A\u001b[A\n",
      "\n",
      "Repairing epochs:  96%|█████████▌| 169/176 [00:05<00:00, 27.41it/s]\u001b[A\u001b[A\n",
      "\n",
      "Repairing epochs:  98%|█████████▊| 172/176 [00:05<00:00, 27.25it/s]\u001b[A\u001b[A\n",
      "\n",
      "Repairing epochs: 100%|██████████| 176/176 [00:05<00:00, 30.05it/s]\u001b[A\u001b[A\n",
      "\n",
      "\n",
      "\n",
      "Fold:   0%|          | 0/10 [00:00<?, ?it/s]\u001b[A\u001b[A\u001b[A\n",
      "\n",
      "\n",
      "Fold:  10%|█         | 1/10 [00:01<00:11,  1.27s/it]\u001b[A\u001b[A\u001b[A\n",
      "\n",
      "\n",
      "Fold:  20%|██        | 2/10 [00:02<00:10,  1.27s/it]\u001b[A\u001b[A\u001b[A\n",
      "\n",
      "\n",
      "Fold:  30%|███       | 3/10 [00:03<00:09,  1.33s/it]\u001b[A\u001b[A\u001b[A\n",
      "\n",
      "\n",
      "Fold:  40%|████      | 4/10 [00:05<00:08,  1.34s/it]\u001b[A\u001b[A\u001b[A\n",
      "\n",
      "\n",
      "Fold:  50%|█████     | 5/10 [00:06<00:06,  1.36s/it]\u001b[A\u001b[A\u001b[A\n",
      "\n",
      "\n",
      "Fold:  60%|██████    | 6/10 [00:07<00:05,  1.32s/it]\u001b[A\u001b[A\u001b[A\n",
      "\n",
      "\n",
      "Fold:  70%|███████   | 7/10 [00:09<00:03,  1.31s/it]\u001b[A\u001b[A\u001b[A\n",
      "\n",
      "\n",
      "Fold:  80%|████████  | 8/10 [00:10<00:02,  1.29s/it]\u001b[A\u001b[A\u001b[A\n",
      "\n",
      "\n",
      "Fold:  90%|█████████ | 9/10 [00:11<00:01,  1.28s/it]\u001b[A\u001b[A\u001b[A\n",
      "\n",
      "\n",
      "Fold: 100%|██████████| 10/10 [00:12<00:00,  1.29s/it]\u001b[A\u001b[A\u001b[A\n",
      "\n",
      "n_interp:  67%|██████▋   | 2/3 [00:41<00:20, 20.30s/it]\u001b[A\n",
      "\n",
      "Repairing epochs:   0%|          | 0/176 [00:00<?, ?it/s]\u001b[A\u001b[A\n",
      "\n",
      "Repairing epochs:   2%|▏         | 3/176 [00:00<00:08, 20.97it/s]\u001b[A\u001b[A\n",
      "\n",
      "Repairing epochs:   3%|▎         | 6/176 [00:00<00:06, 24.60it/s]\u001b[A\u001b[A\n",
      "\n",
      "Repairing epochs:   6%|▌         | 10/176 [00:00<00:06, 27.11it/s]\u001b[A\u001b[A\n",
      "\n",
      "Repairing epochs:   7%|▋         | 13/176 [00:00<00:07, 21.04it/s]\u001b[A\u001b[A\n",
      "\n",
      "Repairing epochs:   9%|▉         | 16/176 [00:00<00:07, 20.43it/s]\u001b[A\u001b[A\n",
      "\n",
      "Repairing epochs:  11%|█         | 19/176 [00:00<00:07, 22.40it/s]\u001b[A\u001b[A\n",
      "\n",
      "Repairing epochs:  12%|█▎        | 22/176 [00:01<00:07, 21.16it/s]\u001b[A\u001b[A\n",
      "\n",
      "Repairing epochs:  15%|█▍        | 26/176 [00:01<00:06, 22.96it/s]\u001b[A\u001b[A\n",
      "\n",
      "Repairing epochs:  16%|█▋        | 29/176 [00:01<00:07, 20.45it/s]\u001b[A\u001b[A\n",
      "\n",
      "Repairing epochs:  18%|█▊        | 32/176 [00:01<00:07, 19.93it/s]\u001b[A\u001b[A\n",
      "\n",
      "Repairing epochs:  20%|█▉        | 35/176 [00:01<00:08, 15.89it/s]\u001b[A\u001b[A\n",
      "\n",
      "Repairing epochs:  22%|██▏       | 39/176 [00:01<00:07, 18.69it/s]\u001b[A\u001b[A\n",
      "\n",
      "Repairing epochs:  24%|██▍       | 43/176 [00:02<00:06, 21.84it/s]\u001b[A\u001b[A\n",
      "\n",
      "Repairing epochs:  27%|██▋       | 47/176 [00:02<00:05, 24.51it/s]\u001b[A\u001b[A\n",
      "\n",
      "Repairing epochs:  29%|██▉       | 51/176 [00:02<00:04, 27.30it/s]\u001b[A\u001b[A\n",
      "\n",
      "Repairing epochs:  31%|███▏      | 55/176 [00:02<00:04, 27.50it/s]\u001b[A\u001b[A\n",
      "\n",
      "Repairing epochs:  33%|███▎      | 58/176 [00:02<00:04, 25.09it/s]\u001b[A\u001b[A\n",
      "\n",
      "Repairing epochs:  35%|███▍      | 61/176 [00:02<00:04, 24.47it/s]\u001b[A\u001b[A\n",
      "\n",
      "Repairing epochs:  36%|███▋      | 64/176 [00:02<00:05, 21.79it/s]\u001b[A\u001b[A\n",
      "\n",
      "Repairing epochs:  38%|███▊      | 67/176 [00:03<00:05, 20.63it/s]\u001b[A\u001b[A\n",
      "\n",
      "Repairing epochs:  40%|███▉      | 70/176 [00:03<00:04, 21.69it/s]\u001b[A\u001b[A\n",
      "\n",
      "Repairing epochs:  42%|████▏     | 74/176 [00:03<00:03, 25.66it/s]\u001b[A\u001b[A\n",
      "\n",
      "Repairing epochs:  44%|████▍     | 77/176 [00:03<00:04, 24.60it/s]\u001b[A\u001b[A\n",
      "\n",
      "Repairing epochs:  45%|████▌     | 80/176 [00:03<00:04, 21.51it/s]\u001b[A\u001b[A\n",
      "\n",
      "Repairing epochs:  47%|████▋     | 83/176 [00:03<00:04, 20.11it/s]\u001b[A\u001b[A\n",
      "\n",
      "Repairing epochs:  49%|████▉     | 86/176 [00:03<00:04, 19.27it/s]\u001b[A\u001b[A\n",
      "\n",
      "Repairing epochs:  51%|█████     | 89/176 [00:04<00:04, 18.44it/s]\u001b[A\u001b[A\n",
      "\n",
      "Repairing epochs:  52%|█████▏    | 91/176 [00:04<00:04, 18.34it/s]\u001b[A\u001b[A\n",
      "\n",
      "Repairing epochs:  53%|█████▎    | 93/176 [00:04<00:04, 18.22it/s]\u001b[A\u001b[A\n",
      "\n",
      "Repairing epochs:  55%|█████▍    | 96/176 [00:04<00:04, 19.28it/s]\u001b[A\u001b[A\n",
      "\n",
      "Repairing epochs:  56%|█████▌    | 98/176 [00:04<00:04, 19.34it/s]\u001b[A\u001b[A\n",
      "\n",
      "Repairing epochs:  57%|█████▋    | 101/176 [00:04<00:03, 21.04it/s]\u001b[A\u001b[A\n",
      "\n",
      "Repairing epochs:  59%|█████▉    | 104/176 [00:04<00:03, 19.44it/s]\u001b[A\u001b[A\n",
      "\n",
      "Repairing epochs:  60%|██████    | 106/176 [00:05<00:04, 17.46it/s]\u001b[A\u001b[A\n",
      "\n",
      "Repairing epochs:  61%|██████▏   | 108/176 [00:05<00:03, 17.40it/s]\u001b[A\u001b[A\n",
      "\n",
      "Repairing epochs:  63%|██████▎   | 111/176 [00:05<00:03, 19.30it/s]\u001b[A\u001b[A\n",
      "\n",
      "Repairing epochs:  64%|██████▍   | 113/176 [00:05<00:03, 17.70it/s]\u001b[A\u001b[A\n",
      "\n",
      "Repairing epochs:  65%|██████▌   | 115/176 [00:05<00:03, 17.82it/s]\u001b[A\u001b[A\n",
      "\n",
      "Repairing epochs:  66%|██████▋   | 117/176 [00:05<00:03, 18.06it/s]\u001b[A\u001b[A\n",
      "\n",
      "Repairing epochs:  68%|██████▊   | 119/176 [00:05<00:03, 16.87it/s]\u001b[A\u001b[A\n",
      "\n",
      "Repairing epochs:  69%|██████▉   | 122/176 [00:05<00:03, 17.86it/s]\u001b[A\u001b[A\n",
      "\n",
      "Repairing epochs:  70%|███████   | 124/176 [00:06<00:03, 16.70it/s]\u001b[A\u001b[A\n",
      "\n",
      "Repairing epochs:  72%|███████▏  | 127/176 [00:06<00:02, 17.90it/s]\u001b[A\u001b[A\n",
      "\n",
      "Repairing epochs:  73%|███████▎  | 129/176 [00:06<00:02, 16.19it/s]\u001b[A\u001b[A\n",
      "\n",
      "Repairing epochs:  74%|███████▍  | 131/176 [00:06<00:02, 16.12it/s]\u001b[A\u001b[A\n",
      "\n",
      "Repairing epochs:  76%|███████▌  | 133/176 [00:06<00:02, 16.48it/s]\u001b[A\u001b[A\n",
      "\n",
      "Repairing epochs:  77%|███████▋  | 136/176 [00:06<00:02, 16.76it/s]\u001b[A\u001b[A\n",
      "\n",
      "Repairing epochs:  79%|███████▉  | 139/176 [00:06<00:01, 18.92it/s]\u001b[A\u001b[A\n",
      "\n",
      "Repairing epochs:  80%|████████  | 141/176 [00:07<00:01, 18.47it/s]\u001b[A\u001b[A\n",
      "\n",
      "Repairing epochs:  81%|████████▏ | 143/176 [00:07<00:01, 18.05it/s]\u001b[A\u001b[A\n",
      "\n",
      "Repairing epochs:  82%|████████▏ | 145/176 [00:07<00:01, 18.26it/s]\u001b[A\u001b[A\n",
      "\n",
      "Repairing epochs:  84%|████████▎ | 147/176 [00:07<00:01, 18.14it/s]\u001b[A\u001b[A\n",
      "\n",
      "Repairing epochs:  85%|████████▍ | 149/176 [00:07<00:01, 18.39it/s]\u001b[A\u001b[A\n",
      "\n",
      "Repairing epochs:  86%|████████▌ | 151/176 [00:07<00:01, 17.00it/s]\u001b[A\u001b[A\n",
      "\n",
      "Repairing epochs:  87%|████████▋ | 153/176 [00:07<00:01, 16.18it/s]\u001b[A\u001b[A\n",
      "\n",
      "Repairing epochs:  89%|████████▉ | 157/176 [00:07<00:00, 21.15it/s]\u001b[A\u001b[A\n",
      "\n",
      "Repairing epochs:  91%|█████████ | 160/176 [00:07<00:00, 22.28it/s]\u001b[A\u001b[A\n",
      "\n",
      "Repairing epochs:  93%|█████████▎| 164/176 [00:08<00:00, 26.42it/s]\u001b[A\u001b[A\n",
      "\n",
      "Repairing epochs:  95%|█████████▌| 168/176 [00:08<00:00, 28.25it/s]\u001b[A\u001b[A\n",
      "\n",
      "Repairing epochs:  98%|█████████▊| 172/176 [00:08<00:00, 29.80it/s]\u001b[A\u001b[A\n",
      "\n",
      "Repairing epochs: 100%|██████████| 176/176 [00:08<00:00, 20.69it/s]\u001b[A\u001b[A\n",
      "\n",
      "\n",
      "\n",
      "Fold:   0%|          | 0/10 [00:00<?, ?it/s]\u001b[A\u001b[A\u001b[A\n",
      "\n",
      "\n",
      "Fold:  10%|█         | 1/10 [00:00<00:05,  1.56it/s]\u001b[A\u001b[A\u001b[A\n",
      "\n",
      "\n",
      "Fold:  20%|██        | 2/10 [00:01<00:05,  1.59it/s]\u001b[A\u001b[A\u001b[A\n",
      "\n",
      "\n",
      "Fold:  30%|███       | 3/10 [00:01<00:04,  1.59it/s]\u001b[A\u001b[A\u001b[A\n",
      "\n",
      "\n",
      "Fold:  40%|████      | 4/10 [00:02<00:03,  1.59it/s]\u001b[A\u001b[A\u001b[A\n",
      "\n",
      "\n",
      "Fold:  50%|█████     | 5/10 [00:03<00:03,  1.58it/s]\u001b[A\u001b[A\u001b[A\n",
      "\n",
      "\n",
      "Fold:  60%|██████    | 6/10 [00:03<00:02,  1.56it/s]\u001b[A\u001b[A\u001b[A\n",
      "\n",
      "\n",
      "Fold:  70%|███████   | 7/10 [00:04<00:01,  1.57it/s]\u001b[A\u001b[A\u001b[A\n",
      "\n",
      "\n",
      "Fold:  80%|████████  | 8/10 [00:05<00:01,  1.58it/s]\u001b[A\u001b[A\u001b[A\n",
      "\n",
      "\n"
     ]
    },
    {
     "name": "stderr",
     "output_type": "stream",
     "text": [
      "Fold:  90%|█████████ | 9/10 [00:05<00:00,  1.55it/s]\u001b[A\u001b[A\u001b[A\n",
      "\n",
      "\n",
      "Fold: 100%|██████████| 10/10 [00:06<00:00,  1.58it/s]\u001b[A\u001b[A\u001b[A\n",
      "\n",
      "n_interp: 100%|██████████| 3/3 [00:56<00:00, 18.70s/it]\u001b[A\n",
      "/home/nicolas.bruno/anaconda3/lib/python3.7/site-packages/autoreject/utils.py:66: UserWarning: 5 channels are marked as bad. These will be ignored. If you want them to be considered by autoreject please remove them from epochs.info[\"bads\"].\n",
      "  'remove them from epochs.info[\"bads\"].' % n_bads)\n",
      "\n",
      "\n",
      "Repairing epochs:   0%|          | 0/176 [00:00<?, ?it/s]\u001b[A\u001b[A"
     ]
    },
    {
     "name": "stdout",
     "output_type": "stream",
     "text": [
      "\n",
      "\n",
      "\n",
      "\n",
      "Estimated consensus=0.60 and n_interpolate=32\n"
     ]
    },
    {
     "name": "stderr",
     "output_type": "stream",
     "text": [
      "\n",
      "\n",
      "Repairing epochs:   3%|▎         | 5/176 [00:00<00:04, 38.74it/s]\u001b[A\u001b[A\n",
      "\n",
      "Repairing epochs:   5%|▌         | 9/176 [00:00<00:05, 28.13it/s]\u001b[A\u001b[A\n",
      "\n",
      "Repairing epochs:   7%|▋         | 12/176 [00:00<00:05, 27.96it/s]\u001b[A\u001b[A\n",
      "\n",
      "Repairing epochs:   9%|▉         | 16/176 [00:00<00:05, 30.77it/s]\u001b[A\u001b[A\n",
      "\n",
      "Repairing epochs:  11%|█▏        | 20/176 [00:00<00:05, 29.86it/s]\u001b[A\u001b[A\n",
      "\n",
      "Repairing epochs:  14%|█▎        | 24/176 [00:00<00:05, 25.67it/s]\u001b[A\u001b[A\n",
      "\n",
      "Repairing epochs:  15%|█▌        | 27/176 [00:01<00:06, 24.49it/s]\u001b[A\u001b[A\n",
      "\n",
      "Repairing epochs:  17%|█▋        | 30/176 [00:01<00:06, 24.12it/s]\u001b[A\u001b[A\n",
      "\n",
      "Repairing epochs:  19%|█▉        | 33/176 [00:01<00:06, 22.89it/s]\u001b[A\u001b[A\n",
      "\n",
      "Repairing epochs:  20%|██        | 36/176 [00:01<00:07, 19.87it/s]\u001b[A\u001b[A\n",
      "\n",
      "Repairing epochs:  22%|██▏       | 39/176 [00:01<00:08, 17.11it/s]\u001b[A\u001b[A\n",
      "\n",
      "Repairing epochs:  23%|██▎       | 41/176 [00:01<00:08, 16.09it/s]\u001b[A\u001b[A\n",
      "\n",
      "Repairing epochs:  25%|██▌       | 44/176 [00:01<00:07, 18.75it/s]\u001b[A\u001b[A\n",
      "\n",
      "Repairing epochs:  27%|██▋       | 47/176 [00:02<00:06, 18.43it/s]\u001b[A\u001b[A\n",
      "\n",
      "Repairing epochs:  28%|██▊       | 49/176 [00:02<00:06, 18.30it/s]\u001b[A\u001b[A\n",
      "\n",
      "Repairing epochs:  30%|██▉       | 52/176 [00:02<00:06, 18.86it/s]\u001b[A\u001b[A\n",
      "\n",
      "Repairing epochs:  31%|███▏      | 55/176 [00:02<00:05, 20.98it/s]\u001b[A\u001b[A\n",
      "\n",
      "Repairing epochs:  33%|███▎      | 58/176 [00:02<00:05, 19.87it/s]\u001b[A\u001b[A\n",
      "\n",
      "Repairing epochs:  35%|███▍      | 61/176 [00:02<00:06, 18.97it/s]\u001b[A\u001b[A\n",
      "\n",
      "Repairing epochs:  36%|███▌      | 63/176 [00:02<00:06, 17.83it/s]\u001b[A\u001b[A\n",
      "\n",
      "Repairing epochs:  38%|███▊      | 66/176 [00:03<00:05, 18.43it/s]\u001b[A\u001b[A\n",
      "\n",
      "Repairing epochs:  39%|███▊      | 68/176 [00:03<00:06, 17.80it/s]\u001b[A\u001b[A\n",
      "\n",
      "Repairing epochs:  40%|███▉      | 70/176 [00:03<00:05, 18.08it/s]\u001b[A\u001b[A\n",
      "\n",
      "Repairing epochs:  41%|████      | 72/176 [00:03<00:05, 18.52it/s]\u001b[A\u001b[A\n",
      "\n",
      "Repairing epochs:  43%|████▎     | 76/176 [00:03<00:04, 23.27it/s]\u001b[A\u001b[A\n",
      "\n",
      "Repairing epochs:  45%|████▍     | 79/176 [00:03<00:04, 19.75it/s]\u001b[A\u001b[A\n",
      "\n",
      "Repairing epochs:  47%|████▋     | 82/176 [00:03<00:04, 19.80it/s]\u001b[A\u001b[A\n",
      "\n",
      "Repairing epochs:  48%|████▊     | 85/176 [00:04<00:05, 17.10it/s]\u001b[A\u001b[A\n",
      "\n",
      "Repairing epochs:  49%|████▉     | 87/176 [00:04<00:05, 17.67it/s]\u001b[A\u001b[A\n",
      "\n",
      "Repairing epochs:  52%|█████▏    | 91/176 [00:04<00:03, 21.69it/s]\u001b[A\u001b[A\n",
      "\n",
      "Repairing epochs:  53%|█████▎    | 94/176 [00:04<00:03, 23.10it/s]\u001b[A\u001b[A\n",
      "\n",
      "Repairing epochs:  55%|█████▌    | 97/176 [00:04<00:03, 23.27it/s]\u001b[A\u001b[A\n",
      "\n",
      "Repairing epochs:  57%|█████▋    | 100/176 [00:04<00:03, 24.01it/s]\u001b[A\u001b[A\n",
      "\n",
      "Repairing epochs:  59%|█████▊    | 103/176 [00:04<00:03, 21.76it/s]\u001b[A\u001b[A\n",
      "\n",
      "Repairing epochs:  60%|██████    | 106/176 [00:05<00:03, 20.18it/s]\u001b[A\u001b[A\n",
      "\n",
      "Repairing epochs:  62%|██████▏   | 109/176 [00:05<00:03, 17.64it/s]\u001b[A\u001b[A\n",
      "\n",
      "Repairing epochs:  64%|██████▎   | 112/176 [00:05<00:03, 19.33it/s]\u001b[A\u001b[A\n",
      "\n",
      "Repairing epochs:  65%|██████▌   | 115/176 [00:05<00:03, 15.82it/s]\u001b[A\u001b[A\n",
      "\n",
      "Repairing epochs:  66%|██████▋   | 117/176 [00:05<00:04, 14.31it/s]\u001b[A\u001b[A\n",
      "\n",
      "Repairing epochs:  68%|██████▊   | 119/176 [00:05<00:03, 15.04it/s]\u001b[A\u001b[A\n",
      "\n",
      "Repairing epochs:  69%|██████▉   | 121/176 [00:06<00:03, 14.23it/s]\u001b[A\u001b[A\n",
      "\n",
      "Repairing epochs:  70%|███████   | 124/176 [00:06<00:03, 15.99it/s]\u001b[A\u001b[A\n",
      "\n",
      "Repairing epochs:  72%|███████▏  | 126/176 [00:06<00:03, 16.36it/s]\u001b[A\u001b[A\n",
      "\n",
      "Repairing epochs:  73%|███████▎  | 129/176 [00:06<00:02, 17.25it/s]\u001b[A\u001b[A\n",
      "\n",
      "Repairing epochs:  74%|███████▍  | 131/176 [00:06<00:02, 17.86it/s]\u001b[A\u001b[A\n",
      "\n",
      "Repairing epochs:  76%|███████▌  | 134/176 [00:06<00:02, 20.74it/s]\u001b[A\u001b[A\n",
      "\n",
      "Repairing epochs:  78%|███████▊  | 138/176 [00:06<00:01, 24.39it/s]\u001b[A\u001b[A\n",
      "\n",
      "Repairing epochs:  80%|████████  | 141/176 [00:07<00:01, 21.38it/s]\u001b[A\u001b[A\n",
      "\n",
      "Repairing epochs:  82%|████████▏ | 144/176 [00:07<00:01, 22.67it/s]\u001b[A\u001b[A\n",
      "\n",
      "Repairing epochs:  84%|████████▎ | 147/176 [00:07<00:01, 21.64it/s]\u001b[A\u001b[A\n",
      "\n",
      "Repairing epochs:  86%|████████▌ | 151/176 [00:07<00:01, 23.75it/s]\u001b[A\u001b[A\n",
      "\n",
      "Repairing epochs:  88%|████████▊ | 155/176 [00:07<00:00, 26.78it/s]\u001b[A\u001b[A\n",
      "\n",
      "Repairing epochs:  90%|████████▉ | 158/176 [00:07<00:00, 26.06it/s]\u001b[A\u001b[A\n",
      "\n",
      "Repairing epochs:  92%|█████████▏| 162/176 [00:07<00:00, 28.64it/s]\u001b[A\u001b[A\n",
      "\n",
      "Repairing epochs:  94%|█████████▍| 165/176 [00:07<00:00, 27.70it/s]\u001b[A\u001b[A\n",
      "\n",
      "Repairing epochs:  96%|█████████▌| 169/176 [00:08<00:00, 30.45it/s]\u001b[A\u001b[A\n",
      "\n",
      "Repairing epochs:  98%|█████████▊| 173/176 [00:08<00:00, 24.36it/s]\u001b[A\u001b[A\n",
      "\n",
      "Repairing epochs: 100%|██████████| 176/176 [00:08<00:00, 20.83it/s]\u001b[A\u001b[A\n"
     ]
    },
    {
     "name": "stdout",
     "output_type": "stream",
     "text": [
      "Estimating rejection dictionary for eeg\n",
      "Estimating rejection dictionary for eog\n"
     ]
    }
   ],
   "source": [
    "ar = AutoReject()\n",
    "epochs_clean = ar.fit_transform(epochs)  \n",
    "reject = get_rejection_threshold(epochs)  "
   ]
  },
  {
   "cell_type": "code",
   "execution_count": 37,
   "metadata": {},
   "outputs": [],
   "source": [
    "epochs_clean.save(fname = file + '-epo.fif' )"
   ]
  },
  {
   "cell_type": "code",
   "execution_count": 6,
   "metadata": {
    "scrolled": true
   },
   "outputs": [],
   "source": [
    "epochs.plot()\n",
    "plt.show()"
   ]
  },
  {
   "cell_type": "code",
   "execution_count": 15,
   "metadata": {},
   "outputs": [],
   "source": [
    "evoked_clean = epochs_clean.average()\n",
    "evoked = epochs.average()\n",
    "\n",
    "# set_matplotlib_defaults(plt)\n",
    "\n",
    "fig, axes = plt.subplots(2, 1, figsize=(6, 6))\n",
    "\n",
    "for ax in axes:\n",
    "    ax.tick_params(axis='x', which='both', bottom='off', top='off')\n",
    "    ax.tick_params(axis='y', which='both', left='off', right='off')\n",
    "\n",
    "ylim = dict(grad=(-170, 200))\n",
    "# evoked.pick_types(meg='grad', exclude=[])\n",
    "evoked.plot(exclude=[], axes=axes[0], ylim=ylim, show=False)\n",
    "axes[0].set_title('Before autoreject')\n",
    "# evoked_clean.pick_types(meg='grad', exclude=[])\n",
    "evoked_clean.plot(exclude=[], axes=axes[1], ylim=ylim)\n",
    "axes[1].set_title('After autoreject')\n",
    "plt.tight_layout()"
   ]
  },
  {
   "cell_type": "code",
   "execution_count": 16,
   "metadata": {},
   "outputs": [
    {
     "data": {
      "image/png": "[encoded data removed]",
      "text/plain": [
       "<Figure size 1200x600 with 1 Axes>"
      ]
     },
     "execution_count": 16,
     "metadata": {},
     "output_type": "execute_result"
    }
   ],
   "source": [
    "ar.get_reject_log(epochs).plot()"
   ]
  },
  {
   "cell_type": "code",
   "execution_count": 17,
   "metadata": {},
   "outputs": [
    {
     "name": "stdout",
     "output_type": "stream",
     "text": [
      "Fitting ICA to data using 63 channels (please be patient, this may take a while)\n",
      "Selecting by non-zero PCA components: 63 components\n",
      "Fitting ICA took 79.7s.\n"
     ]
    },
    {
     "data": {
      "text/plain": [
       "<ICA | epochs decomposition, fit (fastica): 143675 samples, 63 components, channels used: \"eeg\">"
      ]
     },
     "execution_count": 17,
     "metadata": {},
     "output_type": "execute_result"
    }
   ],
   "source": [
    "ica = mne.preprocessing.ICA(method='fastica')\n",
    "\n",
    "ica.fit(epochs_clean, decim=1)"
   ]
  },
  {
   "cell_type": "code",
   "execution_count": 18,
   "metadata": {},
   "outputs": [
    {
     "data": {
      "text/plain": [
       "[<Figure size 975x942 with 20 Axes>,\n",
       " <Figure size 975x942 with 20 Axes>,\n",
       " <Figure size 975x942 with 20 Axes>,\n",
       " <Figure size 585x235.5 with 3 Axes>]"
      ]
     },
     "execution_count": 18,
     "metadata": {},
     "output_type": "execute_result"
    }
   ],
   "source": [
    "# ecg_epochs = create_ecg_epochs(raw, tmin=-.5, tmax=.5)\n",
    "# ecg_inds, scores = ica.find_bads_ecg(ecg_epochs, threshold='auto')\n",
    "\n",
    "ica.plot_components()"
   ]
  },
  {
   "cell_type": "code",
   "execution_count": 19,
   "metadata": {},
   "outputs": [
    {
     "name": "stdout",
     "output_type": "stream",
     "text": [
      "    Using multitaper spectrum estimation with 7 DPSS windows\n",
      "Not setting metadata\n",
      "Not setting metadata\n",
      "175 matching events found\n",
      "No baseline correction applied\n",
      "0 projection items activated\n",
      "0 bad epochs dropped\n",
      "Not setting metadata\n",
      "Not setting metadata\n",
      "175 matching events found\n",
      "No baseline correction applied\n",
      "0 projection items activated\n",
      "0 bad epochs dropped\n",
      "Not setting metadata\n",
      "Not setting metadata\n",
      "175 matching events found\n",
      "No baseline correction applied\n",
      "0 projection items activated\n",
      "0 bad epochs dropped\n",
      "Not setting metadata\n",
      "Not setting metadata\n",
      "175 matching events found\n",
      "No baseline correction applied\n",
      "0 projection items activated\n",
      "0 bad epochs dropped\n",
      "Not setting metadata\n",
      "Not setting metadata\n",
      "175 matching events found\n",
      "No baseline correction applied\n",
      "0 projection items activated\n",
      "0 bad epochs dropped\n"
     ]
    },
    {
     "data": {
      "text/plain": [
       "[<Figure size 700x600 with 6 Axes>,\n",
       " <Figure size 700x600 with 6 Axes>,\n",
       " <Figure size 700x600 with 6 Axes>,\n",
       " <Figure size 700x600 with 6 Axes>,\n",
       " <Figure size 700x600 with 6 Axes>]"
      ]
     },
     "execution_count": 19,
     "metadata": {},
     "output_type": "execute_result"
    }
   ],
   "source": [
    "ica.plot_properties(epochs_clean)"
   ]
  },
  {
   "cell_type": "code",
   "execution_count": 39,
   "metadata": {},
   "outputs": [
    {
     "name": "stdout",
     "output_type": "stream",
     "text": [
      "Started ICA cleaner\n",
      "Creating ICA report\n",
      "Reading VP11_crop_rMean_trim10_modmarker6.set-epo.fif ...\n",
      "    Found the data of interest:\n",
      "        t =    -800.78 ...     800.78 ms\n",
      "        0 CTF compensation matrices available\n",
      "Not setting metadata\n",
      "Not setting metadata\n",
      "227 matching events found\n",
      "No baseline correction applied\n",
      "0 projection items activated\n"
     ]
    },
    {
     "ename": "CalledProcessError",
     "evalue": "Command '['git', '-C', '/home/nicolas.bruno/anaconda3/lib/python3.7/site-packages/cleaner-0.1.dev0-py3.7.egg/cleaner', 'describe', '--always']' returned non-zero exit status 128.",
     "output_type": "error",
     "traceback": [
      "\u001b[0;31m---------------------------------------------------------------------------\u001b[0m",
      "\u001b[0;31mCalledProcessError\u001b[0m                        Traceback (most recent call last)",
      "\u001b[0;32m~/eeg_cleaner/scripts/3_clean_ica.py\u001b[0m in \u001b[0;36m<module>\u001b[0;34m\u001b[0m\n\u001b[1;32m    176\u001b[0m     \u001b[0;32mif\u001b[0m \u001b[0mfname\u001b[0m\u001b[0;34m.\u001b[0m\u001b[0mendswith\u001b[0m\u001b[0;34m(\u001b[0m\u001b[0;34m'-ica-epo.fif'\u001b[0m\u001b[0;34m)\u001b[0m\u001b[0;34m:\u001b[0m\u001b[0;34m\u001b[0m\u001b[0;34m\u001b[0m\u001b[0m\n\u001b[1;32m    177\u001b[0m         \u001b[0msuffix\u001b[0m \u001b[0;34m=\u001b[0m \u001b[0;34m'-ica-epo.fif'\u001b[0m\u001b[0;34m\u001b[0m\u001b[0;34m\u001b[0m\u001b[0m\n\u001b[0;32m--> 178\u001b[0;31m \u001b[0mreject\u001b[0m\u001b[0;34m(\u001b[0m\u001b[0mpath\u001b[0m\u001b[0;34m,\u001b[0m \u001b[0minst\u001b[0m\u001b[0;34m)\u001b[0m\u001b[0;34m\u001b[0m\u001b[0;34m\u001b[0m\u001b[0m\n\u001b[0m\u001b[1;32m    179\u001b[0m \u001b[0mnname\u001b[0m \u001b[0;34m=\u001b[0m \u001b[0micaname\u001b[0m\u001b[0;34m\u001b[0m\u001b[0;34m\u001b[0m\u001b[0m\n\u001b[1;32m    180\u001b[0m \u001b[0;32mif\u001b[0m \u001b[0micaname\u001b[0m \u001b[0;34m==\u001b[0m \u001b[0;34m'auto'\u001b[0m\u001b[0;34m:\u001b[0m\u001b[0;34m\u001b[0m\u001b[0;34m\u001b[0m\u001b[0m\n",
      "\u001b[0;32m~/anaconda3/lib/python3.7/site-packages/cleaner-0.1.dev0-py3.7.egg/cleaner/applier.py\u001b[0m in \u001b[0;36mreject\u001b[0;34m(path, inst, required)\u001b[0m\n\u001b[1;32m     41\u001b[0m             'Missing eeg_cleaner.json. Did you clean this subject?')\n\u001b[1;32m     42\u001b[0m \u001b[0;34m\u001b[0m\u001b[0m\n\u001b[0;32m---> 43\u001b[0;31m     \u001b[0mlogs\u001b[0m \u001b[0;34m=\u001b[0m \u001b[0mread_log\u001b[0m\u001b[0;34m(\u001b[0m\u001b[0mpath\u001b[0m\u001b[0;34m)\u001b[0m\u001b[0;34m\u001b[0m\u001b[0;34m\u001b[0m\u001b[0m\n\u001b[0m\u001b[1;32m     44\u001b[0m     \u001b[0;32mif\u001b[0m \u001b[0misinstance\u001b[0m\u001b[0;34m(\u001b[0m\u001b[0minst\u001b[0m\u001b[0;34m,\u001b[0m \u001b[0mmne\u001b[0m\u001b[0;34m.\u001b[0m\u001b[0mio\u001b[0m\u001b[0;34m.\u001b[0m\u001b[0mBaseRaw\u001b[0m\u001b[0;34m)\u001b[0m\u001b[0;34m:\u001b[0m\u001b[0;34m\u001b[0m\u001b[0;34m\u001b[0m\u001b[0m\n\u001b[1;32m     45\u001b[0m         \u001b[0mfname\u001b[0m \u001b[0;34m=\u001b[0m \u001b[0mop\u001b[0m\u001b[0;34m.\u001b[0m\u001b[0mbasename\u001b[0m\u001b[0;34m(\u001b[0m\u001b[0minst\u001b[0m\u001b[0;34m.\u001b[0m\u001b[0mfilenames\u001b[0m\u001b[0;34m[\u001b[0m\u001b[0;36m0\u001b[0m\u001b[0;34m]\u001b[0m\u001b[0;34m)\u001b[0m\u001b[0;34m\u001b[0m\u001b[0;34m\u001b[0m\u001b[0m\n",
      "\u001b[0;32m~/anaconda3/lib/python3.7/site-packages/cleaner-0.1.dev0-py3.7.egg/cleaner/io.py\u001b[0m in \u001b[0;36mread_log\u001b[0;34m(path)\u001b[0m\n\u001b[1;32m     53\u001b[0m     \u001b[0;32mif\u001b[0m \u001b[0;34m'icas'\u001b[0m \u001b[0;32mnot\u001b[0m \u001b[0;32min\u001b[0m \u001b[0mlogs\u001b[0m\u001b[0;34m:\u001b[0m\u001b[0;34m\u001b[0m\u001b[0;34m\u001b[0m\u001b[0m\n\u001b[1;32m     54\u001b[0m         \u001b[0mlogs\u001b[0m\u001b[0;34m[\u001b[0m\u001b[0;34m'icas'\u001b[0m\u001b[0;34m]\u001b[0m \u001b[0;34m=\u001b[0m \u001b[0;34m{\u001b[0m\u001b[0;34m}\u001b[0m\u001b[0;34m\u001b[0m\u001b[0;34m\u001b[0m\u001b[0m\n\u001b[0;32m---> 55\u001b[0;31m     \u001b[0mgit_hash\u001b[0m \u001b[0;34m=\u001b[0m \u001b[0m_get_git_hash\u001b[0m\u001b[0;34m(\u001b[0m\u001b[0;34m)\u001b[0m\u001b[0;34m\u001b[0m\u001b[0;34m\u001b[0m\u001b[0m\n\u001b[0m\u001b[1;32m     56\u001b[0m     \u001b[0;32mif\u001b[0m \u001b[0;34m'config'\u001b[0m \u001b[0;32mnot\u001b[0m \u001b[0;32min\u001b[0m \u001b[0mlogs\u001b[0m\u001b[0;34m:\u001b[0m\u001b[0;34m\u001b[0m\u001b[0;34m\u001b[0m\u001b[0m\n\u001b[1;32m     57\u001b[0m         \u001b[0mlogs\u001b[0m\u001b[0;34m[\u001b[0m\u001b[0;34m'config'\u001b[0m\u001b[0;34m]\u001b[0m \u001b[0;34m=\u001b[0m \u001b[0;34m{\u001b[0m\u001b[0;34m'version'\u001b[0m\u001b[0;34m:\u001b[0m \u001b[0mgit_hash\u001b[0m\u001b[0;34m}\u001b[0m\u001b[0;34m\u001b[0m\u001b[0;34m\u001b[0m\u001b[0m\n",
      "\u001b[0;32m~/anaconda3/lib/python3.7/site-packages/cleaner-0.1.dev0-py3.7.egg/cleaner/io.py\u001b[0m in \u001b[0;36m_get_git_hash\u001b[0;34m()\u001b[0m\n\u001b[1;32m     32\u001b[0m     \u001b[0mt_path\u001b[0m \u001b[0;34m=\u001b[0m \u001b[0mop\u001b[0m\u001b[0;34m.\u001b[0m\u001b[0mdirname\u001b[0m\u001b[0;34m(\u001b[0m\u001b[0mos\u001b[0m\u001b[0;34m.\u001b[0m\u001b[0mpath\u001b[0m\u001b[0;34m.\u001b[0m\u001b[0mrealpath\u001b[0m\u001b[0;34m(\u001b[0m\u001b[0m__file__\u001b[0m\u001b[0;34m)\u001b[0m\u001b[0;34m)\u001b[0m\u001b[0;34m\u001b[0m\u001b[0;34m\u001b[0m\u001b[0m\n\u001b[1;32m     33\u001b[0m     label = subprocess.check_output(\n\u001b[0;32m---> 34\u001b[0;31m         [\"git\", \"-C\", t_path, \"describe\", \"--always\"]).strip()\n\u001b[0m\u001b[1;32m     35\u001b[0m     \u001b[0;32mreturn\u001b[0m \u001b[0mlabel\u001b[0m\u001b[0;34m.\u001b[0m\u001b[0mdecode\u001b[0m\u001b[0;34m(\u001b[0m\u001b[0;34m)\u001b[0m\u001b[0;34m\u001b[0m\u001b[0;34m\u001b[0m\u001b[0m\n\u001b[1;32m     36\u001b[0m \u001b[0;34m\u001b[0m\u001b[0m\n",
      "\u001b[0;32m~/anaconda3/lib/python3.7/subprocess.py\u001b[0m in \u001b[0;36mcheck_output\u001b[0;34m(timeout, *popenargs, **kwargs)\u001b[0m\n\u001b[1;32m    393\u001b[0m \u001b[0;34m\u001b[0m\u001b[0m\n\u001b[1;32m    394\u001b[0m     return run(*popenargs, stdout=PIPE, timeout=timeout, check=True,\n\u001b[0;32m--> 395\u001b[0;31m                **kwargs).stdout\n\u001b[0m\u001b[1;32m    396\u001b[0m \u001b[0;34m\u001b[0m\u001b[0m\n\u001b[1;32m    397\u001b[0m \u001b[0;34m\u001b[0m\u001b[0m\n",
      "\u001b[0;32m~/anaconda3/lib/python3.7/subprocess.py\u001b[0m in \u001b[0;36mrun\u001b[0;34m(input, capture_output, timeout, check, *popenargs, **kwargs)\u001b[0m\n\u001b[1;32m    485\u001b[0m         \u001b[0;32mif\u001b[0m \u001b[0mcheck\u001b[0m \u001b[0;32mand\u001b[0m \u001b[0mretcode\u001b[0m\u001b[0;34m:\u001b[0m\u001b[0;34m\u001b[0m\u001b[0;34m\u001b[0m\u001b[0m\n\u001b[1;32m    486\u001b[0m             raise CalledProcessError(retcode, process.args,\n\u001b[0;32m--> 487\u001b[0;31m                                      output=stdout, stderr=stderr)\n\u001b[0m\u001b[1;32m    488\u001b[0m     \u001b[0;32mreturn\u001b[0m \u001b[0mCompletedProcess\u001b[0m\u001b[0;34m(\u001b[0m\u001b[0mprocess\u001b[0m\u001b[0;34m.\u001b[0m\u001b[0margs\u001b[0m\u001b[0;34m,\u001b[0m \u001b[0mretcode\u001b[0m\u001b[0;34m,\u001b[0m \u001b[0mstdout\u001b[0m\u001b[0;34m,\u001b[0m \u001b[0mstderr\u001b[0m\u001b[0;34m)\u001b[0m\u001b[0;34m\u001b[0m\u001b[0;34m\u001b[0m\u001b[0m\n\u001b[1;32m    489\u001b[0m \u001b[0;34m\u001b[0m\u001b[0m\n",
      "\u001b[0;31mCalledProcessError\u001b[0m: Command '['git', '-C', '/home/nicolas.bruno/anaconda3/lib/python3.7/site-packages/cleaner-0.1.dev0-py3.7.egg/cleaner', 'describe', '--always']' returned non-zero exit status 128."
     ]
    }
   ],
   "source": [
    "%run /home/nicolas.bruno/eeg_cleaner/scripts/3_clean_ica.py --path='VP11_crop_rMean_trim10_modmarker6.set-epo.fif' --icaname='auto'"
   ]
  }
 ],
 "metadata": {
  "kernelspec": {
   "display_name": "Python 3",
   "language": "python",
   "name": "python3"
  },
  "pycharm": {
   "stem_cell": {
    "cell_type": "raw",
    "metadata": {
     "collapsed": false
    },
    "source": []
   }
  },
  "varInspector": {
   "cols": {
    "lenName": 16,
    "lenType": 16,
    "lenVar": 40
   },
   "kernels_config": {
    "python": {
     "delete_cmd_postfix": "",
     "delete_cmd_prefix": "del ",
     "library": "var_list.py",
     "varRefreshCmd": "print(var_dic_list())"
    },
    "r": {
     "delete_cmd_postfix": ") ",
     "delete_cmd_prefix": "rm(",
     "library": "var_list.r",
     "varRefreshCmd": "cat(var_dic_list()) "
    }
   },
   "oldHeight": 1127.32,
   "position": {
    "height": "1149.8px",
    "left": "1915.64px",
    "right": "20px",
    "top": "82.9688px",
    "width": "520.625px"
   },
   "types_to_exclude": [
    "module",
    "function",
    "builtin_function_or_method",
    "instance",
    "_Feature"
   ],
   "varInspector_section_display": "block",
   "window_display": true
  }
 },
 "nbformat": 4,
 "nbformat_minor": 4
}
