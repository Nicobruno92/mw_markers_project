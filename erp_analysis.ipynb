{
 "cells": [
  {
   "cell_type": "code",
   "execution_count": 259,
   "id": "grateful-arabic",
   "metadata": {},
   "outputs": [],
   "source": [
    "%matplotlib qt\n",
    "import numpy as np\n",
    "import pandas as pd\n",
    "import matplotlib.pyplot as plt\n",
    "\n",
    "from scipy import stats\n",
    "\n",
    "import mne\n",
    "from mne.channels import find_ch_adjacency\n",
    "from mne.stats import bonferroni_correction, fdr_correction\n",
    "from mne.stats import permutation_cluster_1samp_test, permutation_cluster_test\n",
    "\n",
    "from utils import bad_participant\n"
   ]
  },
  {
   "cell_type": "code",
   "execution_count": 3,
   "id": "beneficial-banks",
   "metadata": {},
   "outputs": [],
   "source": [
    "epoch_type = 'evoked'\n",
    "# epoch_type = 'pseudo-rs'\n",
    "\n",
    "\n",
    "all_participants = ['VP07','VP08','VP09', 'VP10','VP11','VP12','VP13','VP14','VP18','VP19','VP20','VP22','VP23','VP24','VP25','VP26','VP27','VP28','VP29','VP30','VP31','VP32','VP33','VP35','VP36','VP37']\n",
    "\n",
    "\n",
    "path = '/media/nicolas.bruno/63f8a366-34b7-4896-a7ce-b5fb4ee78535/Nico/MW_eeg_data/minmarker/' #icm-linux\n",
    "# path = '/Users/nicobruno/ownCloud/MW_eeg_data/minmarker/' #nico-mac"
   ]
  },
  {
   "cell_type": "code",
   "execution_count": 6,
   "id": "sound-biology",
   "metadata": {},
   "outputs": [
    {
     "name": "stdout",
     "output_type": "stream",
     "text": [
      "['VP08', 'VP09', 'VP12', 'VP13', 'VP14', 'VP19', 'VP20', 'VP23', 'VP25', 'VP29', 'VP30', 'VP31', 'VP32', 'VP33']\n",
      "12 participants remaining\n"
     ]
    }
   ],
   "source": [
    "bad_participants = []\n",
    "for i in all_participants:\n",
    "    participant = i\n",
    "    \n",
    "    folder = path + participant +'/'\n",
    "    epochs = mne.read_epochs(folder +  participant + '_' + epoch_type + '_' +  'ar_subtracted_epo.fif', verbose = False) \n",
    "\n",
    "    if bad_participant(epochs, probe= 'PC', mind = 'mind2'):\n",
    "        bad_participants.append(participant)\n",
    "\n",
    "print('List of bad participants: ', bad_participants)\n",
    "\n",
    "good_participants = [x for x in all_participants if x not in bad_participants]\n",
    "print(f'{len(good_participants)} good participants remaining')"
   ]
  },
  {
   "cell_type": "code",
   "execution_count": 18,
   "id": "appropriate-portrait",
   "metadata": {},
   "outputs": [
    {
     "data": {
      "text/plain": [
       "<EpochsFIF |  2 events (all good), -0.2 - 0.6 sec, baseline [-0.2, 0] sec, ~296 kB, data loaded,\n",
       " 'PC/dMW/go/correct/1/s001.0': 1\n",
       " 'PC/dMW/go/correct/1/s002.0': 1>"
      ]
     },
     "execution_count": 18,
     "metadata": {},
     "output_type": "execute_result"
    }
   ],
   "source": [
    "n = 1\n",
    "epochs[f'PC/dMW/correct/go/{n}']"
   ]
  },
  {
   "cell_type": "code",
   "execution_count": 271,
   "id": "sacred-andrew",
   "metadata": {
    "tags": []
   },
   "outputs": [],
   "source": [
    "evoked_mw = []\n",
    "evoked_ot = []\n",
    "\n",
    "for i in good_participants:\n",
    "    participant = i\n",
    "\n",
    "    folder = path + participant +'/'\n",
    "    \n",
    "    #############################\n",
    "    #### With ERP SUBTRACTED ####\n",
    "    #############################\n",
    "    epochs = mne.read_epochs(folder +  participant + '_' + epoch_type + '_' +  'ar_rereferenced_epo.fif', verbose = False) \n",
    "    epochs.info['description'] = 'biosemi/64' #necessary for wSMI \n",
    "    epochs =  epochs.pick_types(eeg = True) #EOGs break everything\\\n",
    "    \n",
    "\n",
    "    evoked_ot.append(epochs['PC/on-task/correct/go'].average().data)\n",
    "    try:\n",
    "        evoked_mw.append(mne.concatenate_epochs([epochs['PC/sMW/correct/go'], epochs['PC/dMW/correct/go']]).average().data)\n",
    "    except:\n",
    "        try:\n",
    "            evoked_mw.append(epochs['PC/sMW/correct/go'].average().data)\n",
    "        except:\n",
    "            try:\n",
    "                evoked_mw.append(epochs['PC/dMW/correct/go'].average().data)\n",
    "            except:\n",
    "                pass"
   ]
  },
  {
   "cell_type": "code",
   "execution_count": 116,
   "id": "featured-leather",
   "metadata": {},
   "outputs": [
    {
     "name": "stdout",
     "output_type": "stream",
     "text": [
      "Identifying common channels ...\n",
      "Identifying common channels ...\n"
     ]
    }
   ],
   "source": [
    "ot_grand_average = mne.grand_average(evoked_ot)\n",
    "mw_grand_average = mne.grand_average(evoked_mw)"
   ]
  },
  {
   "cell_type": "code",
   "execution_count": 222,
   "id": "immediate-dress",
   "metadata": {},
   "outputs": [
    {
     "data": {
      "text/plain": [
       "(64, 201)"
      ]
     },
     "execution_count": 222,
     "metadata": {},
     "output_type": "execute_result"
    }
   ],
   "source": [
    "a = mne.combine_evoked(evoked_ot, weights = 'equal')\n",
    "a.data.shape"
   ]
  },
  {
   "cell_type": "code",
   "execution_count": 177,
   "id": "phantom-affiliation",
   "metadata": {},
   "outputs": [],
   "source": [
    "contrasts = [ ot_grand_average,mw_grand_average]\n",
    "contrast  = mne.combine_evoked(contrasts, weights = [1,-1])"
   ]
  },
  {
   "cell_type": "code",
   "execution_count": 192,
   "id": "trying-comparison",
   "metadata": {},
   "outputs": [],
   "source": [
    "channels = ['FC1', 'FCz', 'FC2', 'C1', 'Cz','C2', 'CP1', 'CPz', 'CP2']\n",
    "# channels = ['Cz']\n",
    "idx =  [contrast.ch_names.index(channel) for channel in channels]\n"
   ]
  },
  {
   "cell_type": "code",
   "execution_count": 195,
   "id": "convenient-bermuda",
   "metadata": {},
   "outputs": [
    {
     "ename": "TypeError",
     "evalue": "plot_compare_evokeds() got an unexpected keyword argument 'method'",
     "output_type": "error",
     "traceback": [
      "\u001b[0;31m---------------------------------------------------------------------------\u001b[0m",
      "\u001b[0;31mTypeError\u001b[0m                                 Traceback (most recent call last)",
      "\u001b[0;32m<ipython-input-195-676cdbbe6abd>\u001b[0m in \u001b[0;36m<module>\u001b[0;34m\u001b[0m\n\u001b[0;32m----> 1\u001b[0;31m \u001b[0mmne\u001b[0m\u001b[0;34m.\u001b[0m\u001b[0mviz\u001b[0m\u001b[0;34m.\u001b[0m\u001b[0mplot_compare_evokeds\u001b[0m\u001b[0;34m(\u001b[0m\u001b[0mcontrasts\u001b[0m\u001b[0;34m,\u001b[0m \u001b[0mpicks\u001b[0m \u001b[0;34m=\u001b[0m \u001b[0midx\u001b[0m\u001b[0;34m,\u001b[0m \u001b[0mmethod\u001b[0m \u001b[0;34m=\u001b[0m \u001b[0;34m'mean'\u001b[0m\u001b[0;34m)\u001b[0m\u001b[0;34m\u001b[0m\u001b[0;34m\u001b[0m\u001b[0m\n\u001b[0m\u001b[1;32m      2\u001b[0m \u001b[0mmne\u001b[0m\u001b[0;34m.\u001b[0m\u001b[0mviz\u001b[0m\u001b[0;34m.\u001b[0m\u001b[0mplot_compare_evokeds\u001b[0m\u001b[0;34m(\u001b[0m\u001b[0mcontrast\u001b[0m\u001b[0;34m,\u001b[0m\u001b[0midx\u001b[0m\u001b[0;34m)\u001b[0m\u001b[0;34m\u001b[0m\u001b[0;34m\u001b[0m\u001b[0m\n",
      "\u001b[0;31mTypeError\u001b[0m: plot_compare_evokeds() got an unexpected keyword argument 'method'"
     ]
    }
   ],
   "source": [
    "mne.viz.plot_compare_evokeds(contrasts, picks = idx)\n",
    "mne.viz.plot_compare_evokeds(contrast,idx)"
   ]
  },
  {
   "cell_type": "code",
   "execution_count": 277,
   "id": "normal-joseph",
   "metadata": {},
   "outputs": [],
   "source": [
    "tmax = 0.6\n",
    "\n",
    "\n",
    "fig, ax = plt.subplots(1, figsize=(3.3, 2.3))\n",
    "scale = 1e6\n",
    "ax.plot(mw_grand_average.times * 1000, contrasts[0].data[idx][0] * scale,\n",
    "        'r', label='MW')\n",
    "ax.plot(ot_grand_average.times * 1000, contrasts[1].data[idx][0] * scale,\n",
    "        'g', label='OT')\n",
    "ax.plot(ot_grand_average.times * 1000, (contrasts[0].data[idx][0] * scale - contrasts[1].data[idx][0] * scale),\n",
    "        'b', label='OT')\n",
    "\n",
    "ax.grid(True)\n",
    "ax.set(xlim=[-100, 1000 * tmax], xlabel='Time (in ms after stimulus onset)',\n",
    "#        ylim=[-12.5, 5],\n",
    "       ylabel=u'Potential difference (μV)')\n",
    "ax.axvline(800, ls='--', color='k')\n",
    "\n",
    "fig.tight_layout(pad=0.5)\n",
    "\n",
    "plt.show()"
   ]
  },
  {
   "cell_type": "code",
   "execution_count": 278,
   "id": "modern-finder",
   "metadata": {},
   "outputs": [
    {
     "data": {
      "text/plain": [
       "(12, 64, 201)"
      ]
     },
     "execution_count": 278,
     "metadata": {},
     "output_type": "execute_result"
    }
   ],
   "source": [
    "np.array(evoked_mw).shape"
   ]
  },
  {
   "cell_type": "code",
   "execution_count": 279,
   "id": "decimal-vatican",
   "metadata": {},
   "outputs": [
    {
     "data": {
      "text/plain": [
       "array([[1.57804848e-01, 4.70833723e-01, 1.59968440e-01, 6.23559758e-01,\n",
       "        1.47009916e-04, 3.23777348e-01, 2.79180976e-01, 2.13638755e-28,\n",
       "        2.70077788e-21, 3.11102161e-01, 9.63400298e-06, 1.04124003e-01,\n",
       "        1.37753481e-31, 3.60913520e-26, 4.95363697e-10, 4.58011918e-12,\n",
       "        1.39491373e-34, 2.07914573e-25, 2.35261162e-06, 6.51835496e-01,\n",
       "        1.07780786e-15, 5.83921094e-24, 8.83282473e-09, 8.90724113e-01,\n",
       "        3.11619976e-02, 2.81554649e-07, 7.81054909e-05, 1.81798814e-07,\n",
       "        3.41812698e-03, 2.13984051e-09, 3.38319802e-11, 9.69331749e-01,\n",
       "        6.90508914e-04, 4.37822393e-17, 2.99683591e-10, 3.80199378e-04,\n",
       "        4.74802945e-09, 6.17782531e-03, 1.39910558e-05, 1.92701900e-03,\n",
       "        2.45519969e-16, 2.88254681e-03, 2.00135008e-06, 1.00832838e-02,\n",
       "        3.66893357e-08, 1.21523467e-01, 2.45827974e-03, 1.36560733e-04,\n",
       "        1.55386508e-16, 1.23052598e-03, 4.21868945e-01, 1.23792960e-06,\n",
       "        1.65515400e-09, 1.60143557e-02, 1.89635486e-10, 9.57070018e-02,\n",
       "        2.54254156e-12, 1.21256427e-08, 1.57927169e-03, 2.32311432e-01,\n",
       "        2.15117228e-02, 4.65842552e-15, 4.95736246e-20, 3.11516772e-22],\n",
       "       [1.04653775e-10, 3.33222039e-01, 2.04633667e-06, 1.84194218e-01,\n",
       "        9.44374519e-01, 4.92379030e-01, 8.18868855e-01, 8.32985719e-10,\n",
       "        9.68662725e-01, 2.31804092e-10, 1.05130613e-12, 3.92448981e-22,\n",
       "        2.25351458e-25, 1.73134709e-15, 3.44990065e-03, 6.72377593e-01,\n",
       "        1.70612474e-05, 1.90579851e-06, 6.68762814e-07, 2.05102260e-02,\n",
       "        3.55608188e-03, 2.95190803e-09, 6.95739188e-12, 6.12170384e-08,\n",
       "        1.09236305e-07, 2.81340534e-01, 4.70520692e-05, 2.62463956e-02,\n",
       "        1.00092813e-01, 8.01597206e-01, 3.71053728e-01, 5.74714368e-07,\n",
       "        2.11371913e-09, 5.66085827e-19, 2.93004504e-26, 5.05152979e-01,\n",
       "        3.06593751e-14, 4.78552765e-01, 1.17884196e-01, 5.56637849e-06,\n",
       "        1.07318694e-14, 2.27090008e-06, 2.45051731e-11, 8.41167176e-01,\n",
       "        6.14376050e-23, 6.78030193e-01, 2.48367036e-06, 1.42470677e-24,\n",
       "        1.65259664e-04, 8.10308877e-01, 5.52142084e-01, 2.05478091e-19,\n",
       "        2.79914418e-25, 1.42577417e-02, 3.57404494e-03, 1.56342476e-09,\n",
       "        1.57735347e-01, 3.33075521e-02, 5.42138145e-02, 2.03498600e-04,\n",
       "        4.55908555e-01, 1.81408252e-05, 9.88132130e-01, 8.30543264e-10],\n",
       "       [1.56364115e-05, 3.97473088e-01, 2.58126223e-01, 3.25037375e-05,\n",
       "        4.39139947e-06, 1.41208196e-08, 4.16988368e-01, 5.37217796e-21,\n",
       "        7.66851216e-01, 1.37130877e-01, 2.37402116e-01, 8.66333820e-18,\n",
       "        9.52914969e-14, 3.79323444e-02, 1.11286932e-06, 8.91302746e-02,\n",
       "        2.34336188e-12, 2.54155585e-21, 2.04995293e-13, 4.47783845e-22,\n",
       "        1.42244274e-07, 5.64738897e-06, 3.69203535e-06, 5.98776556e-01,\n",
       "        4.58233827e-01, 1.63665250e-10, 1.41977446e-01, 1.48458430e-01,\n",
       "        1.78653993e-01, 1.77204799e-21, 5.92830310e-31, 1.64984844e-01,\n",
       "        3.76762323e-15, 1.66085931e-17, 3.79177334e-19, 4.50019661e-23,\n",
       "        1.33002947e-04, 3.06469155e-05, 4.02489154e-17, 2.33156507e-33,\n",
       "        2.22432597e-25, 1.37996406e-18, 2.03799937e-03, 3.66655941e-25,\n",
       "        5.98127009e-01, 1.17380672e-05, 2.36905965e-03, 1.10037070e-11,\n",
       "        2.20256994e-06, 1.22903753e-05, 3.54546538e-02, 1.03216460e-07,\n",
       "        9.01304649e-01, 1.46248529e-13, 1.22495348e-16, 6.73209299e-09,\n",
       "        1.45937087e-16, 1.23476917e-23, 3.25054017e-24, 3.75013753e-03,\n",
       "        2.55637929e-02, 2.36019550e-01, 5.76848812e-06, 2.70913485e-01],\n",
       "       [3.00656838e-15, 6.54065627e-06, 1.20467618e-09, 4.54380211e-22,\n",
       "        8.13180048e-05, 5.15807436e-02, 2.01665497e-01, 4.69110323e-01,\n",
       "        1.90349245e-05, 1.18417836e-01, 5.02058253e-01, 6.74995595e-01,\n",
       "        9.12578679e-02, 8.71979166e-01, 6.22392436e-04, 1.34217616e-10,\n",
       "        4.98206920e-09, 1.72447796e-02, 2.96388372e-03, 3.83829048e-11,\n",
       "        2.40856420e-12, 3.06754418e-28, 2.16568117e-23, 1.99440166e-02,\n",
       "        4.43700787e-25, 1.99166198e-24, 1.20577240e-24, 4.77117010e-33,\n",
       "        7.75496917e-31, 7.63543478e-25, 4.65790936e-11, 2.74880658e-03,\n",
       "        5.41577356e-17, 1.02032291e-16, 9.73375112e-10, 1.82305613e-19,\n",
       "        3.83240124e-31, 1.02743932e-06, 7.10490546e-29, 9.76462666e-25,\n",
       "        2.09945902e-16, 1.79781184e-01, 7.03152531e-02, 2.63241309e-28,\n",
       "        2.02460975e-33, 7.16220627e-30, 4.46529489e-21, 1.55950412e-16,\n",
       "        9.10389318e-20, 1.39984487e-24, 5.24589031e-05, 7.36273551e-02,\n",
       "        9.76498068e-21, 3.86099487e-07, 6.31502437e-02, 6.44491833e-16,\n",
       "        2.64620096e-09, 7.15715746e-31, 4.89774736e-30, 2.89601214e-36,\n",
       "        4.34863641e-35, 2.77667825e-27, 1.19654617e-14, 1.27040197e-16],\n",
       "       [6.50243850e-31, 1.68058719e-19, 1.95173288e-23, 5.34026010e-07,\n",
       "        5.49564236e-18, 1.36850051e-03, 3.18111718e-01, 2.26782277e-07,\n",
       "        5.42537729e-03, 2.55214396e-16, 3.80541813e-12, 1.36634565e-26,\n",
       "        5.52523978e-10, 1.36897786e-02, 9.26462770e-17, 2.27749108e-15,\n",
       "        2.36066673e-01, 1.98748631e-04, 4.12638850e-22, 1.09474943e-02,\n",
       "        1.43338651e-04, 1.22454045e-10, 1.87137079e-18, 1.40783485e-26,\n",
       "        1.06934362e-16, 7.43218045e-02, 1.50396673e-14, 2.01242245e-28,\n",
       "        2.11359884e-18, 1.27198920e-02, 1.13105726e-02, 2.62945137e-26,\n",
       "        1.18891613e-29, 4.22545131e-24, 6.17110620e-11, 4.62708638e-19,\n",
       "        1.79404237e-25, 1.42729703e-20, 3.72436741e-04, 5.89743974e-01,\n",
       "        1.82740821e-01, 1.35656455e-04, 5.63413127e-15, 7.31181167e-10,\n",
       "        1.14523906e-01, 5.62593514e-18, 2.77829001e-23, 1.74657498e-28,\n",
       "        1.07258039e-23, 5.58779958e-01, 1.63372716e-10, 4.34807965e-36,\n",
       "        1.21296672e-32, 4.62305937e-21, 8.47857209e-01, 1.73510077e-24,\n",
       "        1.46400376e-04, 3.14055313e-03, 5.57318512e-05, 4.04176146e-23,\n",
       "        5.42703750e-29, 4.32658667e-20, 9.47633464e-10, 1.25313373e-13],\n",
       "       [1.14016011e-02, 1.03784775e-13, 7.99769853e-08, 2.12217233e-01,\n",
       "        9.90220303e-01, 1.33610811e-01, 6.47608456e-08, 3.25769069e-03,\n",
       "        1.24567874e-04, 1.42185549e-07, 1.83838736e-11, 2.53192991e-25,\n",
       "        4.71529185e-29, 4.03373221e-18, 5.65436684e-01, 9.40707448e-03,\n",
       "        1.21256766e-18, 4.47914196e-11, 3.38678235e-11, 3.69606866e-12,\n",
       "        6.71423259e-20, 4.77513582e-08, 8.98149308e-01, 2.31076681e-09,\n",
       "        7.17120520e-03, 1.83209942e-10, 5.44353952e-06, 4.84829201e-17,\n",
       "        1.83901470e-03, 6.03432678e-01, 1.17365115e-07, 6.23122927e-09,\n",
       "        5.54401195e-11, 1.92069460e-02, 1.94767675e-19, 2.03422124e-01,\n",
       "        1.86014986e-03, 2.85081739e-04, 2.20078653e-01, 1.62465469e-01,\n",
       "        3.71082153e-02, 4.93156551e-14, 1.22460279e-08, 8.87425346e-07,\n",
       "        2.72460733e-25, 5.07348558e-09, 2.37659336e-22, 7.28914093e-20,\n",
       "        3.53334765e-16, 3.26286641e-21, 1.85249043e-11, 6.93270745e-07,\n",
       "        5.58078027e-02, 8.94942229e-25, 1.93679837e-01, 2.26603655e-02,\n",
       "        1.03488437e-01, 3.15235596e-06, 4.72897693e-04, 2.35363684e-14,\n",
       "        1.22493928e-20, 6.32357769e-16, 4.15781024e-14, 1.72893819e-10],\n",
       "       [1.07659374e-03, 8.23092296e-01, 1.45364932e-28, 4.95643708e-01,\n",
       "        1.95649225e-12, 2.29877974e-25, 9.28480306e-11, 5.18165309e-19,\n",
       "        1.13130943e-15, 5.95366181e-23, 1.99599698e-05, 7.05957159e-10,\n",
       "        3.78795130e-18, 7.48567060e-27, 1.15138899e-08, 4.30372137e-01,\n",
       "        3.71577846e-26, 1.32394638e-22, 2.30780426e-06, 2.06957218e-04,\n",
       "        6.03659070e-06, 1.97438871e-09, 8.90044986e-02, 7.65638994e-01,\n",
       "        5.22062660e-01, 2.84037306e-01, 1.75341307e-01, 4.48379884e-03,\n",
       "        7.50844778e-01, 2.27732013e-03, 2.65513012e-08, 6.76450027e-08,\n",
       "        5.47052917e-01, 2.15351788e-02, 1.16632280e-06, 3.40394259e-03,\n",
       "        3.99078339e-01, 1.04779016e-10, 5.33753653e-01, 4.26931488e-11,\n",
       "        1.70500790e-10, 3.37011780e-02, 5.14070748e-07, 7.63604886e-12,\n",
       "        1.90360030e-25, 1.88563006e-24, 1.99479466e-01, 3.55074526e-01,\n",
       "        3.12029430e-21, 5.94598108e-20, 5.93042573e-13, 1.29701867e-33,\n",
       "        3.47114803e-24, 6.31969835e-02, 1.22100326e-09, 1.19647630e-11,\n",
       "        4.14668646e-13, 1.50900516e-08, 5.98819539e-07, 2.17651308e-06,\n",
       "        5.13806115e-01, 1.44907870e-02, 9.98636803e-05, 1.29911408e-02],\n",
       "       [2.06308214e-02, 1.33420952e-08, 3.71291954e-05, 1.02480783e-11,\n",
       "        7.92153522e-04, 1.85413159e-08, 1.32291021e-01, 1.63689508e-06,\n",
       "        6.75342849e-03, 7.05369963e-09, 2.14175408e-04, 1.48225957e-10,\n",
       "        3.25808660e-15, 1.76604803e-03, 2.25676618e-04, 6.90003009e-09,\n",
       "        9.29482917e-03, 2.18813225e-08, 8.89693342e-01, 1.18760697e-16,\n",
       "        1.66673252e-10, 9.86873204e-01, 5.63459510e-08, 4.64151256e-07,\n",
       "        1.96764602e-01, 5.62275031e-02, 6.16992363e-04, 2.42402060e-09,\n",
       "        5.87785493e-01, 1.82365725e-04, 1.22263920e-03, 6.59951225e-06,\n",
       "        3.03923136e-47, 2.89416733e-47, 1.20455524e-43, 3.95600575e-06,\n",
       "        1.54737973e-04, 8.25746886e-06, 1.78094805e-01, 3.35433326e-11,\n",
       "        1.90233121e-02, 4.37015301e-01, 1.26987394e-06, 1.34510417e-04,\n",
       "        6.76714985e-06, 3.11493916e-03, 9.34265238e-02, 9.64255084e-07,\n",
       "        1.82629380e-04, 9.03340444e-08, 3.82846735e-12, 6.06183356e-01,\n",
       "        3.03592536e-08, 2.52810510e-07, 1.17067727e-25, 1.10794887e-16,\n",
       "        9.25652444e-06, 2.02998015e-03, 1.36271933e-01, 1.49728826e-05,\n",
       "        2.25506336e-08, 8.34106933e-09, 1.14118678e-02, 2.56688473e-01],\n",
       "       [3.74032416e-39, 8.71477359e-26, 1.81021376e-40, 8.25952088e-32,\n",
       "        1.76488739e-25, 2.23924726e-16, 6.72420375e-07, 1.01870217e-03,\n",
       "        3.34572918e-23, 2.84084615e-04, 4.06482355e-31, 3.38121652e-11,\n",
       "        1.03485919e-04, 4.79347633e-13, 2.37374835e-07, 1.27937360e-35,\n",
       "        1.56897176e-33, 9.35018396e-26, 4.00560780e-01, 3.19349265e-17,\n",
       "        4.93510173e-26, 6.93649797e-35, 1.82508345e-41, 2.40253982e-23,\n",
       "        5.13308525e-39, 1.63834632e-33, 6.95482593e-32, 2.49018675e-01,\n",
       "        1.88543489e-11, 2.23888621e-23, 2.26552366e-13, 1.30180522e-03,\n",
       "        1.05031502e-11, 3.47114007e-12, 6.20167084e-15, 2.00423417e-19,\n",
       "        1.26673645e-43, 2.30084555e-34, 2.61919034e-17, 2.19604181e-12,\n",
       "        3.18010172e-04, 1.70707743e-34, 3.34519911e-17, 1.22962150e-29,\n",
       "        8.37208428e-21, 6.05437028e-14, 2.90031620e-25, 7.71938027e-12,\n",
       "        8.08133943e-17, 1.78590992e-01, 7.62963461e-16, 2.15715535e-06,\n",
       "        2.55529353e-08, 2.48193002e-04, 1.91217021e-01, 4.98835730e-01,\n",
       "        5.85297003e-15, 3.36728152e-11, 3.13131886e-13, 3.43726929e-16,\n",
       "        8.06105968e-03, 3.52097310e-30, 2.60502327e-31, 9.60183788e-15],\n",
       "       [9.51393268e-02, 2.71019957e-02, 7.93740383e-06, 1.08145013e-15,\n",
       "        2.35711225e-04, 2.28374224e-08, 1.60383345e-05, 6.33057592e-02,\n",
       "        6.76133912e-06, 2.57184275e-10, 4.56047951e-14, 4.74237000e-16,\n",
       "        4.10610057e-02, 2.26713783e-01, 1.82567974e-11, 1.20634262e-39,\n",
       "        1.17577462e-30, 1.50139335e-01, 1.64392565e-02, 6.23390187e-01,\n",
       "        2.23002835e-24, 9.81130046e-18, 1.70287552e-42, 1.03396333e-22,\n",
       "        1.08448562e-14, 3.56723796e-02, 2.51588377e-04, 4.87485267e-13,\n",
       "        3.83557051e-01, 3.49364632e-01, 7.41794523e-11, 1.94396498e-01,\n",
       "        6.98441724e-01, 6.82731563e-01, 2.42550405e-01, 2.68193069e-07,\n",
       "        8.51552711e-02, 1.15139131e-17, 2.05443397e-08, 1.33684486e-09,\n",
       "        3.04547732e-04, 5.35809097e-01, 3.11149065e-03, 4.49060464e-12,\n",
       "        7.36148948e-07, 1.13714298e-10, 3.49525299e-18, 1.63054111e-08,\n",
       "        1.41823562e-15, 1.18092739e-10, 5.26721595e-01, 4.57130201e-01,\n",
       "        7.11470533e-01, 4.83356872e-02, 5.88394643e-04, 4.31511740e-04,\n",
       "        2.66293380e-13, 1.59474072e-08, 2.24853547e-07, 1.14308282e-05,\n",
       "        5.78848912e-07, 3.81425277e-13, 6.15629035e-01, 3.21389678e-01],\n",
       "       [2.08363560e-21, 1.78576370e-01, 1.43188635e-26, 6.97224758e-37,\n",
       "        7.03239217e-22, 8.08850584e-01, 8.71048160e-46, 1.18204188e-10,\n",
       "        1.49087500e-09, 2.09394164e-17, 8.56869411e-34, 2.10633669e-28,\n",
       "        3.85408084e-08, 5.27928194e-05, 3.46219252e-15, 1.93901504e-28,\n",
       "        8.66377783e-21, 1.39854529e-01, 4.98821369e-04, 4.87342074e-02,\n",
       "        1.81560242e-17, 2.19481871e-35, 3.58838874e-47, 5.13031049e-47,\n",
       "        3.86923797e-47, 7.98179201e-26, 4.74296887e-46, 2.83179288e-45,\n",
       "        2.49864275e-39, 2.05524627e-19, 2.29054326e-01, 4.49389545e-14,\n",
       "        6.53253723e-29, 1.83052897e-36, 2.39567893e-19, 1.27373064e-36,\n",
       "        1.51365335e-39, 1.03558891e-33, 9.84270878e-42, 4.89686482e-38,\n",
       "        8.05487194e-28, 5.87294185e-23, 1.71632659e-07, 5.29218325e-17,\n",
       "        3.38862980e-32, 7.36068408e-40, 6.37610046e-39, 6.96926300e-29,\n",
       "        2.22016653e-27, 2.03251359e-14, 5.13521738e-11, 6.24258211e-01,\n",
       "        1.98445055e-01, 9.40553015e-02, 7.77573730e-01, 9.34218361e-14,\n",
       "        1.22143337e-10, 2.91990999e-13, 6.59468954e-19, 4.99780150e-16,\n",
       "        3.17797184e-19, 3.44398588e-23, 1.87246460e-22, 8.29394009e-33],\n",
       "       [6.04287174e-02, 3.74870951e-11, 1.06476139e-06, 2.78680530e-20,\n",
       "        4.67939948e-27, 7.32012639e-01, 2.75970420e-09, 3.66335259e-07,\n",
       "        9.61270000e-28, 5.92683604e-15, 2.88957803e-23, 1.60079063e-14,\n",
       "        4.69839456e-22, 1.76790212e-11, 1.76479188e-02, 2.56441389e-02,\n",
       "        2.44412335e-01, 3.02497398e-10, 3.11844101e-10, 9.24941440e-14,\n",
       "        6.85114477e-13, 7.51946479e-23, 4.55583296e-06, 7.23394169e-07,\n",
       "        2.74494965e-33, 8.78952158e-09, 8.27210300e-01, 4.12450346e-03,\n",
       "        3.58884436e-03, 3.48168014e-12, 1.31866649e-10, 4.39180127e-01,\n",
       "        2.99613955e-09, 7.01633134e-28, 1.49042970e-40, 6.70546694e-01,\n",
       "        5.33384692e-06, 1.22127502e-05, 8.78451663e-08, 2.89516008e-08,\n",
       "        3.96024135e-35, 3.67000931e-26, 3.84025822e-14, 3.88760798e-24,\n",
       "        4.35233283e-01, 1.68675964e-01, 8.60675231e-10, 2.90181273e-03,\n",
       "        2.64202198e-07, 2.94642312e-13, 6.17474878e-41, 2.62281689e-36,\n",
       "        4.24240538e-35, 3.02484773e-33, 2.45728165e-12, 7.48162774e-01,\n",
       "        7.28520454e-01, 8.03422504e-24, 3.82561099e-26, 9.27190612e-07,\n",
       "        2.98254769e-15, 2.76453012e-18, 1.09094038e-06, 1.06829535e-12]])"
      ]
     },
     "execution_count": 279,
     "metadata": {},
     "output_type": "execute_result"
    }
   ],
   "source": [
    "T, pval = stats.ttest_rel(np.array(evoked_mw),np.array(evoked_ot), axis = 2)\n",
    "pval"
   ]
  },
  {
   "cell_type": "code",
   "execution_count": 281,
   "id": "gorgeous-chair",
   "metadata": {},
   "outputs": [],
   "source": [
    "T, pval = stats.ttest_rel(np.array(evoked_mw),np.array(evoked_ot), axis  =2)\n",
    "alpha = 0.05\n",
    "\n",
    "n_tests,  n_samples, ts = np.array(evoked_mw).shape\n",
    "threshold_uncorrected = stats.t.ppf(1.0 - alpha, n_samples - 1)\n",
    "\n",
    "reject_bonferroni, pval_bonferroni = bonferroni_correction(pval, alpha=alpha)\n",
    "threshold_bonferroni = stats.t.ppf(1.0 - alpha / n_tests, n_samples - 1)\n",
    "\n",
    "reject_fdr, pval_fdr = fdr_correction(pval, alpha=alpha, method='indep')\n",
    "threshold_fdr = np.min(np.abs(T)[reject_fdr])"
   ]
  },
  {
   "cell_type": "code",
   "execution_count": 282,
   "id": "standard-hammer",
   "metadata": {},
   "outputs": [
    {
     "ename": "ValueError",
     "evalue": "x and y must have same first dimension, but have shapes (201,) and (12, 64)",
     "output_type": "error",
     "traceback": [
      "\u001b[0;31m---------------------------------------------------------------------------\u001b[0m",
      "\u001b[0;31mValueError\u001b[0m                                Traceback (most recent call last)",
      "\u001b[0;32m<ipython-input-282-7c45c2b69490>\u001b[0m in \u001b[0;36m<module>\u001b[0;34m\u001b[0m\n\u001b[1;32m      2\u001b[0m \u001b[0;34m\u001b[0m\u001b[0m\n\u001b[1;32m      3\u001b[0m \u001b[0mplt\u001b[0m\u001b[0;34m.\u001b[0m\u001b[0mclose\u001b[0m\u001b[0;34m(\u001b[0m\u001b[0;34m'all'\u001b[0m\u001b[0;34m)\u001b[0m\u001b[0;34m\u001b[0m\u001b[0;34m\u001b[0m\u001b[0m\n\u001b[0;32m----> 4\u001b[0;31m \u001b[0mplt\u001b[0m\u001b[0;34m.\u001b[0m\u001b[0mplot\u001b[0m\u001b[0;34m(\u001b[0m\u001b[0mtimes\u001b[0m\u001b[0;34m,\u001b[0m \u001b[0mT\u001b[0m\u001b[0;34m,\u001b[0m \u001b[0;34m'k'\u001b[0m\u001b[0;34m,\u001b[0m \u001b[0mlabel\u001b[0m\u001b[0;34m=\u001b[0m\u001b[0;34m'T-stat'\u001b[0m\u001b[0;34m)\u001b[0m\u001b[0;34m\u001b[0m\u001b[0;34m\u001b[0m\u001b[0m\n\u001b[0m\u001b[1;32m      5\u001b[0m \u001b[0mxmin\u001b[0m\u001b[0;34m,\u001b[0m \u001b[0mxmax\u001b[0m \u001b[0;34m=\u001b[0m \u001b[0mplt\u001b[0m\u001b[0;34m.\u001b[0m\u001b[0mxlim\u001b[0m\u001b[0;34m(\u001b[0m\u001b[0;34m)\u001b[0m\u001b[0;34m\u001b[0m\u001b[0;34m\u001b[0m\u001b[0m\n\u001b[1;32m      6\u001b[0m plt.hlines(threshold_uncorrected, xmin, xmax, linestyle='--', colors='k',\n",
      "\u001b[0;32m~/anaconda3/lib/python3.7/site-packages/matplotlib/pyplot.py\u001b[0m in \u001b[0;36mplot\u001b[0;34m(scalex, scaley, data, *args, **kwargs)\u001b[0m\n\u001b[1;32m   2840\u001b[0m     return gca().plot(\n\u001b[1;32m   2841\u001b[0m         \u001b[0;34m*\u001b[0m\u001b[0margs\u001b[0m\u001b[0;34m,\u001b[0m \u001b[0mscalex\u001b[0m\u001b[0;34m=\u001b[0m\u001b[0mscalex\u001b[0m\u001b[0;34m,\u001b[0m \u001b[0mscaley\u001b[0m\u001b[0;34m=\u001b[0m\u001b[0mscaley\u001b[0m\u001b[0;34m,\u001b[0m\u001b[0;34m\u001b[0m\u001b[0;34m\u001b[0m\u001b[0m\n\u001b[0;32m-> 2842\u001b[0;31m         **({\"data\": data} if data is not None else {}), **kwargs)\n\u001b[0m\u001b[1;32m   2843\u001b[0m \u001b[0;34m\u001b[0m\u001b[0m\n\u001b[1;32m   2844\u001b[0m \u001b[0;34m\u001b[0m\u001b[0m\n",
      "\u001b[0;32m~/anaconda3/lib/python3.7/site-packages/matplotlib/axes/_axes.py\u001b[0m in \u001b[0;36mplot\u001b[0;34m(self, scalex, scaley, data, *args, **kwargs)\u001b[0m\n\u001b[1;32m   1741\u001b[0m         \"\"\"\n\u001b[1;32m   1742\u001b[0m         \u001b[0mkwargs\u001b[0m \u001b[0;34m=\u001b[0m \u001b[0mcbook\u001b[0m\u001b[0;34m.\u001b[0m\u001b[0mnormalize_kwargs\u001b[0m\u001b[0;34m(\u001b[0m\u001b[0mkwargs\u001b[0m\u001b[0;34m,\u001b[0m \u001b[0mmlines\u001b[0m\u001b[0;34m.\u001b[0m\u001b[0mLine2D\u001b[0m\u001b[0;34m)\u001b[0m\u001b[0;34m\u001b[0m\u001b[0;34m\u001b[0m\u001b[0m\n\u001b[0;32m-> 1743\u001b[0;31m         \u001b[0mlines\u001b[0m \u001b[0;34m=\u001b[0m \u001b[0;34m[\u001b[0m\u001b[0;34m*\u001b[0m\u001b[0mself\u001b[0m\u001b[0;34m.\u001b[0m\u001b[0m_get_lines\u001b[0m\u001b[0;34m(\u001b[0m\u001b[0;34m*\u001b[0m\u001b[0margs\u001b[0m\u001b[0;34m,\u001b[0m \u001b[0mdata\u001b[0m\u001b[0;34m=\u001b[0m\u001b[0mdata\u001b[0m\u001b[0;34m,\u001b[0m \u001b[0;34m**\u001b[0m\u001b[0mkwargs\u001b[0m\u001b[0;34m)\u001b[0m\u001b[0;34m]\u001b[0m\u001b[0;34m\u001b[0m\u001b[0;34m\u001b[0m\u001b[0m\n\u001b[0m\u001b[1;32m   1744\u001b[0m         \u001b[0;32mfor\u001b[0m \u001b[0mline\u001b[0m \u001b[0;32min\u001b[0m \u001b[0mlines\u001b[0m\u001b[0;34m:\u001b[0m\u001b[0;34m\u001b[0m\u001b[0;34m\u001b[0m\u001b[0m\n\u001b[1;32m   1745\u001b[0m             \u001b[0mself\u001b[0m\u001b[0;34m.\u001b[0m\u001b[0madd_line\u001b[0m\u001b[0;34m(\u001b[0m\u001b[0mline\u001b[0m\u001b[0;34m)\u001b[0m\u001b[0;34m\u001b[0m\u001b[0;34m\u001b[0m\u001b[0m\n",
      "\u001b[0;32m~/anaconda3/lib/python3.7/site-packages/matplotlib/axes/_base.py\u001b[0m in \u001b[0;36m__call__\u001b[0;34m(self, data, *args, **kwargs)\u001b[0m\n\u001b[1;32m    271\u001b[0m                 \u001b[0mthis\u001b[0m \u001b[0;34m+=\u001b[0m \u001b[0margs\u001b[0m\u001b[0;34m[\u001b[0m\u001b[0;36m0\u001b[0m\u001b[0;34m]\u001b[0m\u001b[0;34m,\u001b[0m\u001b[0;34m\u001b[0m\u001b[0;34m\u001b[0m\u001b[0m\n\u001b[1;32m    272\u001b[0m                 \u001b[0margs\u001b[0m \u001b[0;34m=\u001b[0m \u001b[0margs\u001b[0m\u001b[0;34m[\u001b[0m\u001b[0;36m1\u001b[0m\u001b[0;34m:\u001b[0m\u001b[0;34m]\u001b[0m\u001b[0;34m\u001b[0m\u001b[0;34m\u001b[0m\u001b[0m\n\u001b[0;32m--> 273\u001b[0;31m             \u001b[0;32myield\u001b[0m \u001b[0;32mfrom\u001b[0m \u001b[0mself\u001b[0m\u001b[0;34m.\u001b[0m\u001b[0m_plot_args\u001b[0m\u001b[0;34m(\u001b[0m\u001b[0mthis\u001b[0m\u001b[0;34m,\u001b[0m \u001b[0mkwargs\u001b[0m\u001b[0;34m)\u001b[0m\u001b[0;34m\u001b[0m\u001b[0;34m\u001b[0m\u001b[0m\n\u001b[0m\u001b[1;32m    274\u001b[0m \u001b[0;34m\u001b[0m\u001b[0m\n\u001b[1;32m    275\u001b[0m     \u001b[0;32mdef\u001b[0m \u001b[0mget_next_color\u001b[0m\u001b[0;34m(\u001b[0m\u001b[0mself\u001b[0m\u001b[0;34m)\u001b[0m\u001b[0;34m:\u001b[0m\u001b[0;34m\u001b[0m\u001b[0;34m\u001b[0m\u001b[0m\n",
      "\u001b[0;32m~/anaconda3/lib/python3.7/site-packages/matplotlib/axes/_base.py\u001b[0m in \u001b[0;36m_plot_args\u001b[0;34m(self, tup, kwargs)\u001b[0m\n\u001b[1;32m    397\u001b[0m \u001b[0;34m\u001b[0m\u001b[0m\n\u001b[1;32m    398\u001b[0m         \u001b[0;32mif\u001b[0m \u001b[0mx\u001b[0m\u001b[0;34m.\u001b[0m\u001b[0mshape\u001b[0m\u001b[0;34m[\u001b[0m\u001b[0;36m0\u001b[0m\u001b[0;34m]\u001b[0m \u001b[0;34m!=\u001b[0m \u001b[0my\u001b[0m\u001b[0;34m.\u001b[0m\u001b[0mshape\u001b[0m\u001b[0;34m[\u001b[0m\u001b[0;36m0\u001b[0m\u001b[0;34m]\u001b[0m\u001b[0;34m:\u001b[0m\u001b[0;34m\u001b[0m\u001b[0;34m\u001b[0m\u001b[0m\n\u001b[0;32m--> 399\u001b[0;31m             raise ValueError(f\"x and y must have same first dimension, but \"\n\u001b[0m\u001b[1;32m    400\u001b[0m                              f\"have shapes {x.shape} and {y.shape}\")\n\u001b[1;32m    401\u001b[0m         \u001b[0;32mif\u001b[0m \u001b[0mx\u001b[0m\u001b[0;34m.\u001b[0m\u001b[0mndim\u001b[0m \u001b[0;34m>\u001b[0m \u001b[0;36m2\u001b[0m \u001b[0;32mor\u001b[0m \u001b[0my\u001b[0m\u001b[0;34m.\u001b[0m\u001b[0mndim\u001b[0m \u001b[0;34m>\u001b[0m \u001b[0;36m2\u001b[0m\u001b[0;34m:\u001b[0m\u001b[0;34m\u001b[0m\u001b[0;34m\u001b[0m\u001b[0m\n",
      "\u001b[0;31mValueError\u001b[0m: x and y must have same first dimension, but have shapes (201,) and (12, 64)"
     ]
    }
   ],
   "source": [
    "times = 1e3 * mw_grand_average.times\n",
    "\n",
    "plt.close('all')\n",
    "plt.plot(times, T, 'k', label='T-stat')\n",
    "xmin, xmax = plt.xlim()\n",
    "plt.hlines(threshold_uncorrected, xmin, xmax, linestyle='--', colors='k',\n",
    "           label='p=0.05 (uncorrected)', linewidth=2)\n",
    "plt.hlines(threshold_bonferroni, xmin, xmax, linestyle='--', colors='r',\n",
    "           label='p=0.05 (Bonferroni)', linewidth=2)\n",
    "# plt.hlines(threshold_fdr, xmin, xmax, linestyle='--', colors='b',\n",
    "#            label='p=0.05 (FDR)', linewidth=2)\n",
    "plt.legend()\n",
    "plt.xlabel(\"Time (ms)\")\n",
    "plt.ylabel(\"T-stat\")\n",
    "plt.show()"
   ]
  },
  {
   "cell_type": "code",
   "execution_count": null,
   "id": "humanitarian-equity",
   "metadata": {},
   "outputs": [],
   "source": [
    "n_permutations = 1000\n",
    "T0, p_values, H0 = permutation_t_test(data, n_permutations, n_jobs=1)"
   ]
  },
  {
   "cell_type": "code",
   "execution_count": 268,
   "id": "closed-nature",
   "metadata": {},
   "outputs": [
    {
     "name": "stdout",
     "output_type": "stream",
     "text": [
      "stat_fun(H1): min=0.000000 max=0.000000\n",
      "Running initial clustering\n",
      "Found 0 clusters\n"
     ]
    },
    {
     "name": "stderr",
     "output_type": "stream",
     "text": [
      "<ipython-input-268-f4aaf36d6213>:23: RuntimeWarning: No clusters found, returning empty H0, clusters, and cluster_pv\n",
      "  n_permutations=n_permutations, seed=42)\n"
     ]
    }
   ],
   "source": [
    "data = [np.array(evoked_mw), np.array(evoked_mw)]\n",
    "# adjacency, _ = find_ch_adjacency(epochs.info, \"eeg\")\n",
    "n_permutations = 1000  # number of permutations to run\n",
    "\n",
    "# set initial threshold\n",
    "p_initial = 0.001\n",
    "\n",
    "# set family-wise p-value\n",
    "p_thresh = 0.5\n",
    "\n",
    "connectivity = None\n",
    "\n",
    "# set cluster threshold\n",
    "n_samples = len(data)\n",
    "# threshold = -stats.t.ppf(p_initial / (1 + (tail == 0)), n_samples - 1)\n",
    "# threshold = 6\n",
    "\n",
    "\n",
    "cluster_stats = permutation_cluster_test(\n",
    "    data, threshold=threshold, verbose=True, tail=0,\n",
    "#     adjacency =adjacency,\n",
    "    n_permutations=n_permutations, seed=42)\n",
    "\n",
    "T_obs, clusters, cluster_p_values, _ = cluster_stats"
   ]
  },
  {
   "cell_type": "code",
   "execution_count": 247,
   "id": "average-parish",
   "metadata": {},
   "outputs": [
    {
     "ename": "AttributeError",
     "evalue": "'numpy.ndarray' object has no attribute 'start'",
     "output_type": "error",
     "traceback": [
      "\u001b[0;31m---------------------------------------------------------------------------\u001b[0m",
      "\u001b[0;31mAttributeError\u001b[0m                            Traceback (most recent call last)",
      "\u001b[0;32m<ipython-input-247-2e7d29943f2f>\u001b[0m in \u001b[0;36m<module>\u001b[0;34m\u001b[0m\n\u001b[1;32m     14\u001b[0m                         color='r', alpha=0.3)\n\u001b[1;32m     15\u001b[0m     \u001b[0;32melse\u001b[0m\u001b[0;34m:\u001b[0m\u001b[0;34m\u001b[0m\u001b[0;34m\u001b[0m\u001b[0m\n\u001b[0;32m---> 16\u001b[0;31m         plt.axvspan(times[c.start], times[c.stop - 1], color=(0.3, 0.3, 0.3),\n\u001b[0m\u001b[1;32m     17\u001b[0m                     alpha=0.3)\n\u001b[1;32m     18\u001b[0m \u001b[0mhf\u001b[0m \u001b[0;34m=\u001b[0m \u001b[0mplt\u001b[0m\u001b[0;34m.\u001b[0m\u001b[0mplot\u001b[0m\u001b[0;34m(\u001b[0m\u001b[0mtimes\u001b[0m\u001b[0;34m,\u001b[0m \u001b[0mT_obs\u001b[0m\u001b[0;34m,\u001b[0m \u001b[0;34m'g'\u001b[0m\u001b[0;34m)\u001b[0m\u001b[0;34m\u001b[0m\u001b[0;34m\u001b[0m\u001b[0m\n",
      "\u001b[0;31mAttributeError\u001b[0m: 'numpy.ndarray' object has no attribute 'start'"
     ]
    }
   ],
   "source": [
    "times = mw_grand_average.times\n",
    "plt.close('all')\n",
    "plt.subplot(211)\n",
    "plt.title('Channel : ' + channel)\n",
    "plt.plot(times, contrasts[0].data.mean(axis=0) - contrasts[0].data.mean(axis=0),\n",
    "         label=\"ERF Contrast (Event 1 - Event 2)\")\n",
    "plt.ylabel(\"EEG \")\n",
    "plt.legend()\n",
    "plt.subplot(212)\n",
    "for i_c, c in enumerate(clusters):\n",
    "    c = c[0]\n",
    "    if cluster_p_values[i_c] <= 0.05:\n",
    "        h = plt.axvspan(times[c.start], times[c.stop - 1],\n",
    "                        color='r', alpha=0.3)\n",
    "    else:\n",
    "        plt.axvspan(times[c.start], times[c.stop - 1], color=(0.3, 0.3, 0.3),\n",
    "                    alpha=0.3)\n",
    "hf = plt.plot(times, T_obs, 'g')\n",
    "plt.legend((h, ), ('cluster p-value < 0.05', ))\n",
    "plt.xlabel(\"time (ms)\")\n",
    "plt.ylabel(\"f-values\")\n",
    "plt.show()"
   ]
  },
  {
   "cell_type": "code",
   "execution_count": 249,
   "id": "answering-notice",
   "metadata": {},
   "outputs": [
    {
     "ename": "ValueError",
     "evalue": "x and y must have same first dimension, but have shapes (201,) and (64, 201)",
     "output_type": "error",
     "traceback": [
      "\u001b[0;31m---------------------------------------------------------------------------\u001b[0m",
      "\u001b[0;31mValueError\u001b[0m                                Traceback (most recent call last)",
      "\u001b[0;32m<ipython-input-249-8c3278ce3139>\u001b[0m in \u001b[0;36m<module>\u001b[0;34m\u001b[0m\n\u001b[1;32m      3\u001b[0m \u001b[0mfig\u001b[0m\u001b[0;34m,\u001b[0m \u001b[0maxes\u001b[0m \u001b[0;34m=\u001b[0m \u001b[0mplt\u001b[0m\u001b[0;34m.\u001b[0m\u001b[0msubplots\u001b[0m\u001b[0;34m(\u001b[0m\u001b[0;36m2\u001b[0m\u001b[0;34m,\u001b[0m \u001b[0msharex\u001b[0m\u001b[0;34m=\u001b[0m\u001b[0;32mTrue\u001b[0m\u001b[0;34m,\u001b[0m \u001b[0mfigsize\u001b[0m\u001b[0;34m=\u001b[0m\u001b[0;34m(\u001b[0m\u001b[0;36m3.3\u001b[0m\u001b[0;34m,\u001b[0m \u001b[0;36m2.5\u001b[0m\u001b[0;34m)\u001b[0m\u001b[0;34m)\u001b[0m\u001b[0;34m\u001b[0m\u001b[0;34m\u001b[0m\u001b[0m\n\u001b[1;32m      4\u001b[0m \u001b[0max\u001b[0m \u001b[0;34m=\u001b[0m \u001b[0maxes\u001b[0m\u001b[0;34m[\u001b[0m\u001b[0;36m0\u001b[0m\u001b[0;34m]\u001b[0m\u001b[0;34m\u001b[0m\u001b[0;34m\u001b[0m\u001b[0m\n\u001b[0;32m----> 5\u001b[0;31m \u001b[0max\u001b[0m\u001b[0;34m.\u001b[0m\u001b[0mplot\u001b[0m\u001b[0;34m(\u001b[0m\u001b[0mtimes\u001b[0m\u001b[0;34m,\u001b[0m \u001b[0;36m1e6\u001b[0m \u001b[0;34m*\u001b[0m \u001b[0mdata\u001b[0m\u001b[0;34m.\u001b[0m\u001b[0mmean\u001b[0m\u001b[0;34m(\u001b[0m\u001b[0maxis\u001b[0m\u001b[0;34m=\u001b[0m\u001b[0;36m0\u001b[0m\u001b[0;34m)\u001b[0m\u001b[0;34m,\u001b[0m \u001b[0mlabel\u001b[0m\u001b[0;34m=\u001b[0m\u001b[0;34m\"ERP Contrast\"\u001b[0m\u001b[0;34m)\u001b[0m\u001b[0;34m\u001b[0m\u001b[0;34m\u001b[0m\u001b[0m\n\u001b[0m\u001b[1;32m      6\u001b[0m \u001b[0max\u001b[0m\u001b[0;34m.\u001b[0m\u001b[0mset\u001b[0m\u001b[0;34m(\u001b[0m\u001b[0mtitle\u001b[0m\u001b[0;34m=\u001b[0m\u001b[0;34m'Channel : '\u001b[0m \u001b[0;34m+\u001b[0m \u001b[0mchannel\u001b[0m\u001b[0;34m,\u001b[0m \u001b[0mylabel\u001b[0m\u001b[0;34m=\u001b[0m\u001b[0;34m\"EEG (uV)\"\u001b[0m\u001b[0;34m,\u001b[0m \u001b[0mylim\u001b[0m\u001b[0;34m=\u001b[0m\u001b[0;34m[\u001b[0m\u001b[0;34m-\u001b[0m\u001b[0;36m5\u001b[0m\u001b[0;34m,\u001b[0m \u001b[0;36m2.5\u001b[0m\u001b[0;34m]\u001b[0m\u001b[0;34m)\u001b[0m\u001b[0;34m\u001b[0m\u001b[0;34m\u001b[0m\u001b[0m\n\u001b[1;32m      7\u001b[0m \u001b[0max\u001b[0m\u001b[0;34m.\u001b[0m\u001b[0mlegend\u001b[0m\u001b[0;34m(\u001b[0m\u001b[0;34m)\u001b[0m\u001b[0;34m\u001b[0m\u001b[0;34m\u001b[0m\u001b[0m\n",
      "\u001b[0;32m~/anaconda3/lib/python3.7/site-packages/matplotlib/axes/_axes.py\u001b[0m in \u001b[0;36mplot\u001b[0;34m(self, scalex, scaley, data, *args, **kwargs)\u001b[0m\n\u001b[1;32m   1741\u001b[0m         \"\"\"\n\u001b[1;32m   1742\u001b[0m         \u001b[0mkwargs\u001b[0m \u001b[0;34m=\u001b[0m \u001b[0mcbook\u001b[0m\u001b[0;34m.\u001b[0m\u001b[0mnormalize_kwargs\u001b[0m\u001b[0;34m(\u001b[0m\u001b[0mkwargs\u001b[0m\u001b[0;34m,\u001b[0m \u001b[0mmlines\u001b[0m\u001b[0;34m.\u001b[0m\u001b[0mLine2D\u001b[0m\u001b[0;34m)\u001b[0m\u001b[0;34m\u001b[0m\u001b[0;34m\u001b[0m\u001b[0m\n\u001b[0;32m-> 1743\u001b[0;31m         \u001b[0mlines\u001b[0m \u001b[0;34m=\u001b[0m \u001b[0;34m[\u001b[0m\u001b[0;34m*\u001b[0m\u001b[0mself\u001b[0m\u001b[0;34m.\u001b[0m\u001b[0m_get_lines\u001b[0m\u001b[0;34m(\u001b[0m\u001b[0;34m*\u001b[0m\u001b[0margs\u001b[0m\u001b[0;34m,\u001b[0m \u001b[0mdata\u001b[0m\u001b[0;34m=\u001b[0m\u001b[0mdata\u001b[0m\u001b[0;34m,\u001b[0m \u001b[0;34m**\u001b[0m\u001b[0mkwargs\u001b[0m\u001b[0;34m)\u001b[0m\u001b[0;34m]\u001b[0m\u001b[0;34m\u001b[0m\u001b[0;34m\u001b[0m\u001b[0m\n\u001b[0m\u001b[1;32m   1744\u001b[0m         \u001b[0;32mfor\u001b[0m \u001b[0mline\u001b[0m \u001b[0;32min\u001b[0m \u001b[0mlines\u001b[0m\u001b[0;34m:\u001b[0m\u001b[0;34m\u001b[0m\u001b[0;34m\u001b[0m\u001b[0m\n\u001b[1;32m   1745\u001b[0m             \u001b[0mself\u001b[0m\u001b[0;34m.\u001b[0m\u001b[0madd_line\u001b[0m\u001b[0;34m(\u001b[0m\u001b[0mline\u001b[0m\u001b[0;34m)\u001b[0m\u001b[0;34m\u001b[0m\u001b[0;34m\u001b[0m\u001b[0m\n",
      "\u001b[0;32m~/anaconda3/lib/python3.7/site-packages/matplotlib/axes/_base.py\u001b[0m in \u001b[0;36m__call__\u001b[0;34m(self, data, *args, **kwargs)\u001b[0m\n\u001b[1;32m    271\u001b[0m                 \u001b[0mthis\u001b[0m \u001b[0;34m+=\u001b[0m \u001b[0margs\u001b[0m\u001b[0;34m[\u001b[0m\u001b[0;36m0\u001b[0m\u001b[0;34m]\u001b[0m\u001b[0;34m,\u001b[0m\u001b[0;34m\u001b[0m\u001b[0;34m\u001b[0m\u001b[0m\n\u001b[1;32m    272\u001b[0m                 \u001b[0margs\u001b[0m \u001b[0;34m=\u001b[0m \u001b[0margs\u001b[0m\u001b[0;34m[\u001b[0m\u001b[0;36m1\u001b[0m\u001b[0;34m:\u001b[0m\u001b[0;34m]\u001b[0m\u001b[0;34m\u001b[0m\u001b[0;34m\u001b[0m\u001b[0m\n\u001b[0;32m--> 273\u001b[0;31m             \u001b[0;32myield\u001b[0m \u001b[0;32mfrom\u001b[0m \u001b[0mself\u001b[0m\u001b[0;34m.\u001b[0m\u001b[0m_plot_args\u001b[0m\u001b[0;34m(\u001b[0m\u001b[0mthis\u001b[0m\u001b[0;34m,\u001b[0m \u001b[0mkwargs\u001b[0m\u001b[0;34m)\u001b[0m\u001b[0;34m\u001b[0m\u001b[0;34m\u001b[0m\u001b[0m\n\u001b[0m\u001b[1;32m    274\u001b[0m \u001b[0;34m\u001b[0m\u001b[0m\n\u001b[1;32m    275\u001b[0m     \u001b[0;32mdef\u001b[0m \u001b[0mget_next_color\u001b[0m\u001b[0;34m(\u001b[0m\u001b[0mself\u001b[0m\u001b[0;34m)\u001b[0m\u001b[0;34m:\u001b[0m\u001b[0;34m\u001b[0m\u001b[0;34m\u001b[0m\u001b[0m\n",
      "\u001b[0;32m~/anaconda3/lib/python3.7/site-packages/matplotlib/axes/_base.py\u001b[0m in \u001b[0;36m_plot_args\u001b[0;34m(self, tup, kwargs)\u001b[0m\n\u001b[1;32m    397\u001b[0m \u001b[0;34m\u001b[0m\u001b[0m\n\u001b[1;32m    398\u001b[0m         \u001b[0;32mif\u001b[0m \u001b[0mx\u001b[0m\u001b[0;34m.\u001b[0m\u001b[0mshape\u001b[0m\u001b[0;34m[\u001b[0m\u001b[0;36m0\u001b[0m\u001b[0;34m]\u001b[0m \u001b[0;34m!=\u001b[0m \u001b[0my\u001b[0m\u001b[0;34m.\u001b[0m\u001b[0mshape\u001b[0m\u001b[0;34m[\u001b[0m\u001b[0;36m0\u001b[0m\u001b[0;34m]\u001b[0m\u001b[0;34m:\u001b[0m\u001b[0;34m\u001b[0m\u001b[0;34m\u001b[0m\u001b[0m\n\u001b[0;32m--> 399\u001b[0;31m             raise ValueError(f\"x and y must have same first dimension, but \"\n\u001b[0m\u001b[1;32m    400\u001b[0m                              f\"have shapes {x.shape} and {y.shape}\")\n\u001b[1;32m    401\u001b[0m         \u001b[0;32mif\u001b[0m \u001b[0mx\u001b[0m\u001b[0;34m.\u001b[0m\u001b[0mndim\u001b[0m \u001b[0;34m>\u001b[0m \u001b[0;36m2\u001b[0m \u001b[0;32mor\u001b[0m \u001b[0my\u001b[0m\u001b[0;34m.\u001b[0m\u001b[0mndim\u001b[0m \u001b[0;34m>\u001b[0m \u001b[0;36m2\u001b[0m\u001b[0;34m:\u001b[0m\u001b[0;34m\u001b[0m\u001b[0;34m\u001b[0m\u001b[0m\n",
      "\u001b[0;31mValueError\u001b[0m: x and y must have same first dimension, but have shapes (201,) and (64, 201)"
     ]
    }
   ],
   "source": [
    "times = 1e3 * contrast.times\n",
    "\n",
    "fig, axes = plt.subplots(2, sharex=True, figsize=(3.3, 2.5))\n",
    "ax = axes[0]\n",
    "ax.plot(times, 1e6 * data.mean(axis=0), label=\"ERP Contrast\")\n",
    "ax.set(title='Channel : ' + channel, ylabel=\"EEG (uV)\", ylim=[-5, 2.5])\n",
    "ax.legend()\n",
    "ax.annotate('A', (-0.16, 1.15))\n",
    "\n",
    "ax = axes[1]\n",
    "for i_c, c in enumerate(clusters):\n",
    "    c = c[0]\n",
    "    if cluster_p_values[i_c] < p_thresh:\n",
    "        h1 = ax.axvspan(times[c.start], times[c.stop - 1],\n",
    "                        color='r', alpha=0.3)\n",
    "        \n",
    "hf = ax.plot(times, T_obs, 'g')\n",
    "ax.legend((h1,), (u'p < %s' % p_thresh,), loc='upper right', ncol=1)\n",
    "ax.set(xlabel=\"time (ms)\", ylabel=\"T-values\",\n",
    "       ylim=[-10., 10.], xlim=contrast.times[[0, -1]] * 1000)\n",
    "fig.tight_layout(pad=0.5)\n",
    "fig.savefig(op.join('..', 'figures', 'sensorstat_highpass-%sHz.pdf'\n",
    "                    % (l_freq,)), bbox_to_inches='tight')\n",
    "plt.show()"
   ]
  }
 ],
 "metadata": {
  "kernelspec": {
   "display_name": "Python 3",
   "language": "python",
   "name": "python3"
  },
  "language_info": {
   "codemirror_mode": {
    "name": "ipython",
    "version": 3
   },
   "file_extension": ".py",
   "mimetype": "text/x-python",
   "name": "python",
   "nbconvert_exporter": "python",
   "pygments_lexer": "ipython3",
   "version": "3.7.4"
  }
 },
 "nbformat": 4,
 "nbformat_minor": 5
}
