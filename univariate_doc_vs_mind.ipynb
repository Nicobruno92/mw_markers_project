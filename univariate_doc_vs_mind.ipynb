{
 "cells": [
  {
   "cell_type": "code",
   "execution_count": 79,
   "id": "polyphonic-peace",
   "metadata": {},
   "outputs": [
    {
     "data": {
      "text/html": [
       "        <script type=\"text/javascript\">\n",
       "        window.PlotlyConfig = {MathJaxConfig: 'local'};\n",
       "        if (window.MathJax) {MathJax.Hub.Config({SVG: {font: \"STIX-Web\"}});}\n",
       "        if (typeof require !== 'undefined') {\n",
       "        require.undef(\"plotly\");\n",
       "        requirejs.config({\n",
       "            paths: {\n",
       "                'plotly': ['https://cdn.plot.ly/plotly-latest.min']\n",
       "            }\n",
       "        });\n",
       "        require(['plotly'], function(Plotly) {\n",
       "            window._Plotly = Plotly;\n",
       "        });\n",
       "        }\n",
       "        </script>\n",
       "        "
      ]
     },
     "metadata": {},
     "output_type": "display_data"
    }
   ],
   "source": [
    "import os\n",
    "import numpy as np\n",
    "import seaborn as sns\n",
    "import pandas as pd\n",
    "import matplotlib.pyplot as plt\n",
    "\n",
    "import seaborn as sns\n",
    "import matplotlib.pyplot as plt\n",
    "import plotly.express as px\n",
    "import plotly.graph_objects as pgo\n",
    "import plotly.offline as pyo\n",
    "import plotly.io as pio\n",
    "from plotly.subplots import make_subplots\n",
    "\n",
    "pyo.init_notebook_mode(connected = True)\n",
    "\n",
    "from sklearn.metrics import roc_auc_score\n",
    "from sklearn.svm import SVC\n",
    "from sklearn.preprocessing import StandardScaler, RobustScaler\n",
    "from sklearn.pipeline import Pipeline, make_pipeline\n",
    "from sklearn.model_selection import (\n",
    "    GridSearchCV,\n",
    "    train_test_split,\n",
    "    cross_val_score,\n",
    "    GroupShuffleSplit,\n",
    "    permutation_test_score,\n",
    "    StratifiedKFold,\n",
    "    KFold\n",
    ")\n",
    "\n",
    "from imblearn.under_sampling import RandomUnderSampler\n",
    "from imblearn.over_sampling import RandomOverSampler\n",
    "\n",
    "from sklearn.ensemble import ExtraTreesClassifier\n",
    "\n",
    "from utils import multivariate_classifier, plot_univariate, correct_name_markers\n",
    "\n",
    "from scipy.stats import wilcoxon, mannwhitneyu\n",
    "from statsmodels.stats.multitest import multipletests"
   ]
  },
  {
   "cell_type": "code",
   "execution_count": 2,
   "id": "promising-cable",
   "metadata": {
    "pycharm": {
     "is_executing": false
    }
   },
   "outputs": [],
   "source": [
    "# plotting parameters\n",
    "grey = \"#21201F\"\n",
    "green = \"#9AC529\"\n",
    "lblue = \"#42B9B2\"\n",
    "pink = \"#DE237B\"\n",
    "orange = \"#F38A31\"\n",
    "\n",
    "nt_colors = [green, lblue, pink, orange]\n",
    "\n",
    "plt.style.use(\"ggplot\")\n",
    "fig_width = 12  # width in inches\n",
    "fig_height = 9  # height in inches\n",
    "fig_size = [fig_width, fig_height]\n",
    "plt.rcParams[\"figure.figsize\"] = fig_size\n",
    "plt.rcParams[\"figure.autolayout\"] = True\n",
    "\n",
    "sns.set(\n",
    "    style=\"white\",\n",
    "    context=\"notebook\",\n",
    "    font_scale=1,\n",
    "    rc={\n",
    "        \"axes.labelcolor\": grey,\n",
    "        \"text.color\": grey,\n",
    "        \"axes.edgecolor\": grey,\n",
    "        \"xtick.color\": grey,\n",
    "        \"ytick.color\": grey,\n",
    "    },\n",
    ")\n",
    "\n",
    "sns.set_palette(sns.color_palette\n",
    "(nt_colors))"
   ]
  },
  {
   "cell_type": "markdown",
   "id": "engaged-health",
   "metadata": {},
   "source": [
    "# Load Data"
   ]
  },
  {
   "cell_type": "code",
   "execution_count": 103,
   "id": "chubby-emerald",
   "metadata": {},
   "outputs": [],
   "source": [
    "markers = ['wSMI_1', 'wSMI_2', 'wSMI_4', 'wSMI_8', 'p_e_1', 'p_e_2',\n",
    "       'p_e_4', 'p_e_8', 'k', 'se','msf', 'sef90', 'sef95', 'b', 'b_n', 'g',\n",
    "       'g_n', 't', 't_n', 'd', 'd_n', 'a_n', 'a', \n",
    "#            'CNV', 'P1', 'P3a', 'P3b'\n",
    "          ]\n",
    "erps =['CNV', 'P1', 'P3a', 'P3b']"
   ]
  },
  {
   "cell_type": "markdown",
   "id": "violent-lodge",
   "metadata": {},
   "source": [
    "# Load Mindwandering DATA"
   ]
  },
  {
   "cell_type": "code",
   "execution_count": 80,
   "id": "automated-approach",
   "metadata": {},
   "outputs": [],
   "source": [
    "epoch_type = \"evoked\"\n",
    "# epoch_type = 'pseudo-rs'\n",
    "\n",
    "all_participants = [\n",
    "    \"VP07\",\n",
    "    \"VP08\",\n",
    "    \"VP09\",\n",
    "    \"VP10\",\n",
    "    \"VP11\",\n",
    "    \"VP12\",\n",
    "    \"VP13\",\n",
    "    \"VP14\",\n",
    "    \"VP18\",\n",
    "    \"VP19\",\n",
    "    \"VP20\",\n",
    "    \"VP22\",\n",
    "    \"VP23\",\n",
    "    \"VP24\",\n",
    "    \"VP25\",\n",
    "    \"VP26\",\n",
    "    \"VP27\",\n",
    "    \"VP28\",\n",
    "    \"VP29\",\n",
    "    \"VP30\",\n",
    "    \"VP31\",\n",
    "    \"VP32\",\n",
    "    \"VP33\",\n",
    "    \"VP35\",\n",
    "    \"VP36\",\n",
    "    \"VP37\",\n",
    "]\n",
    "\n",
    "path = \"/media/nicolas.bruno/63f8a366-34b7-4896-a7ce-b5fb4ee78535/Nico/MW_eeg_data/minmarker/\"  # icm-linux\n",
    "# path = '/Users/nicobruno/ownCloud/MW_eeg_data/minmarker/' #nico-mac\n",
    "\n",
    "df = pd.DataFrame()\n",
    "\n",
    "for i, v in enumerate(all_participants):\n",
    "    participant = v\n",
    "\n",
    "    folder = path + participant + \"/\"\n",
    "\n",
    "    df_ = pd.read_csv(\n",
    "        folder + participant + \"_\" + epoch_type + \"_all_marker.csv\", index_col=0\n",
    "    )\n",
    "    df_[\"participant\"] = i\n",
    "    df = df.append(df_)\n",
    "\n",
    "\n",
    "\n",
    "\n",
    "# markers =  [r'$\\delta$',r'$|\\delta|$',r'$\\theta$', r'$|\\theta|$',r'$\\alpha$', r'$|\\alpha|$',r'$\\beta$', r'$|\\beta|$',r'$\\gamma$', r'$|\\gamma|$',\n",
    "#             r'$PE\\gamma$',r'$PE\\beta$',r'$PE\\alpha$',r'$PE\\theta$',\n",
    "#             r'$wSMI\\gamma$',r'$wSMI\\beta$',r'$wSMI\\alpha$',r'$wSMI\\theta$', \n",
    "#             r'$K$',r'$SE$',r'$MSF$', r'$SEF90$', r'$SEF95$', \n",
    "#             r'$CNV$', r'$P1$', r'$P3a$',r'$P3b$'\n",
    "#            ]\n",
    "\n",
    "\n",
    "# df_subtracted = df.query(\"preproc == 'subtracted'\").drop(columns = erps+['preproc'])\n",
    "# df_erp = df.query(\"preproc == 'erp'\").drop(columns = np.setdiff1d(markers,erps).tolist()+['preproc'])\n",
    "\n",
    "# df_markers = df_subtracted.merge(df_erp, 'inner', on =np.setdiff1d(df_subtracted.columns, markers).tolist() )\n",
    "\n",
    "df_markers = (df\n",
    "              .query(\"stimuli == 'go'\")\n",
    "              .query(\"correct == 'correct'\")\n",
    "            .query('prev_trial < 5')\n",
    "              .drop(['stimuli', 'correct', 'prev_trial', 'label', 'events',  'epoch_type', 'preproc'], axis = 1)\n",
    "              .drop(erps, axis=1)\n",
    "              .query(\"mind in ['on-task','dMW', 'sMW']\")\n",
    "              .groupby(['segment', 'participant']).filter(lambda x: len(x) > 1)\n",
    "             )\n",
    "\n",
    "# df_markers.to_csv('Data/all_markers.csv')\n",
    "\n",
    "\n",
    "agg_dict = {k: [\"mean\", 'std'] for k in markers}\n",
    "agg_dict.update({k: \"first\" for k in df_markers.drop(markers, axis=1).columns})\n",
    "\n",
    "df_mind = (\n",
    "    df_markers.query(\"probe == 'PC'\")\n",
    "    .groupby([\"segment\", \"participant\"], as_index=False)\n",
    "    .agg(agg_dict)\n",
    "    #     .query(\"mind != 'sMW'\") #if you want to test against just one of the mw\n",
    "    .assign(mind2=lambda df: np.where(df.mind == \"on-task\", \"on-task\", \"mw\"))\n",
    ")\n",
    "\n",
    "# df_mind.columns = df_mind.columns.map(\"_\".join)\n",
    "\n",
    "# df_mind = df_mind.rename(\n",
    "#    columns={\n",
    "#        \"participant_first\": \"participant\",\n",
    "#        \"probe_first\": \"probe\",\n",
    "#        \"mind_first\": \"mind\",\n",
    "#        \"segment_first\": \"segment\",\n",
    "#        \"mind2_\": \"mind2\",\n",
    "#    }\n",
    "# ).drop([\"participant\", \"probe\", \"mind\", \"segment\"], axis=1)\n",
    "\n",
    "#### Use latex command for nmaes###\n",
    "##it slow downs the computer, just for final figures.\n",
    "\n",
    "df_mind = correct_name_markers(df_mind)\n",
    "\n",
    "df_mind.columns = df_mind.columns.map(\"$_{\".join).map(lambda x: x + '}$').map(lambda x: x.replace('$$', ''))\n",
    "\n",
    "df_mind  = (df_mind\n",
    "            .rename(columns = {'participant$_{first}$':'participant', 'probe$_{first}$':'probe', 'mind$_{first}$':'mind', 'segment$_{first}$':'segment', 'mind2$_{}$':'mind2'})\n",
    "#             .query(\"mind != 'dMW'\") #if you want to test against just one of the mw            \n",
    "            .drop(['participant', 'probe', 'mind', 'segment'], axis = 1) \n",
    "           )"
   ]
  },
  {
   "cell_type": "markdown",
   "id": "higher-concern",
   "metadata": {},
   "source": [
    "# Load DOC patients DATA"
   ]
  },
  {
   "cell_type": "code",
   "execution_count": 83,
   "id": "ambient-clerk",
   "metadata": {},
   "outputs": [
    {
     "data": {
      "text/plain": [
       "['HC', 'EMCS', 'MCS', 'VS']"
      ]
     },
     "execution_count": 83,
     "metadata": {},
     "output_type": "execute_result"
    }
   ],
   "source": [
    "path = \"/media/nicolas.bruno/63f8a366-34b7-4896-a7ce-b5fb4ee78535/Nico/DOC patients/DOC_markers/\"\n",
    "\n",
    "classes = os.listdir(path)\n",
    "classes"
   ]
  },
  {
   "cell_type": "code",
   "execution_count": 84,
   "id": "convinced-sample",
   "metadata": {},
   "outputs": [],
   "source": [
    "df = pd.DataFrame()\n",
    "\n",
    "for i in classes:\n",
    "    \n",
    "    files = os.listdir(path + i + '/')\n",
    "    cat = i\n",
    "\n",
    "    for file in files:\n",
    "        \n",
    "        participant = file[:7]\n",
    "        \n",
    "        df_ = pd.read_csv(path + i + '/' + file, index_col=0)\n",
    "        df_[\"participant\"] = participant\n",
    "        df_['category'] = cat\n",
    "        \n",
    "        df = df.append(df_)\n",
    "        \n",
    "             \n",
    "df = df.assign(cat_order = lambda df: np.select([df.category == 'HC', df.category == 'MCS', df.category == 'VS'], [3,2,1]) )\n",
    "\n"
   ]
  },
  {
   "cell_type": "markdown",
   "id": "southern-slovak",
   "metadata": {},
   "source": [
    "# AUC mind"
   ]
  },
  {
   "cell_type": "code",
   "execution_count": 111,
   "id": "together-dinner",
   "metadata": {},
   "outputs": [
    {
     "name": "stdout",
     "output_type": "stream",
     "text": [
      "AUC $wSMI\\gamma_{mean}$ = 0.5107680332122471 MannwhitneyuResult(statistic=3771.0, pvalue=0.4033545912859166)\n",
      "AUC $wSMI\\gamma_{std}$ = 0.5546185781006746 MannwhitneyuResult(statistic=3433.0, pvalue=0.10618154413430386)\n",
      "AUC $wSMI\\beta_{mean}$ = 0.5332122470160872 MannwhitneyuResult(statistic=3598.0, pvalue=0.22430132448909945)\n",
      "AUC $wSMI\\beta_{std}$ = 0.4577062791904515 MannwhitneyuResult(statistic=3528.0, pvalue=0.1671851415098402)\n",
      "AUC $wSMI\\alpha_{mean}$ = 0.5464452516865594 MannwhitneyuResult(statistic=3496.0, pvalue=0.14451493909974722)\n",
      "AUC $wSMI\\alpha_{std}$ = 0.5444992215879606 MannwhitneyuResult(statistic=3511.0, pvalue=0.15487039247687662)\n",
      "AUC $wSMI\\theta_{mean}$ = 0.5459263103269332 MannwhitneyuResult(statistic=3500.0, pvalue=0.1472296544752783)\n",
      "AUC $wSMI\\theta_{std}$ = 0.4910482615464452 MannwhitneyuResult(statistic=3785.0, pvalue=0.4195076380470079)\n",
      "AUC $PE\\gamma_{mean}$ = 0.516476388168137 MannwhitneyuResult(statistic=3727.0, pvalue=0.3537684464398442)\n",
      "AUC $PE\\gamma_{std}$ = 0.5662947586922678 MannwhitneyuResult(statistic=3343.0, pvalue=0.06501158990518519)\n",
      "AUC $PE\\beta_{mean}$ = 0.5179034769071095 MannwhitneyuResult(statistic=3716.0, pvalue=0.34171418184627955)\n",
      "AUC $PE\\beta_{std}$ = 0.5477426050856252 MannwhitneyuResult(statistic=3486.0, pvalue=0.13787648236885197)\n",
      "AUC $PE\\alpha_{mean}$ = 0.42890503373118843 MannwhitneyuResult(statistic=3306.0, pvalue=0.052215347408399095)\n",
      "AUC $PE\\alpha_{std}$ = 0.5220550077841204 MannwhitneyuResult(statistic=3684.0, pvalue=0.30759006529585714)\n",
      "AUC $PE\\theta_{mean}$ = 0.4661390762843799 MannwhitneyuResult(statistic=3593.0, pvalue=0.21988685968929444)\n",
      "AUC $PE\\theta_{std}$ = 0.5155682407887909 MannwhitneyuResult(statistic=3734.0, pvalue=0.36151732655324653)\n",
      "AUC $K_{mean}$ = 0.4645173845355475 MannwhitneyuResult(statistic=3580.5, pvalue=0.20907073610169713)\n",
      "AUC $K_{std}$ = 0.5806953814218994 MannwhitneyuResult(statistic=3232.0, pvalue=0.03264934746138808)\n",
      "AUC $SE_{mean}$ = 0.4449922158796056 MannwhitneyuResult(statistic=3430.0, pvalue=0.10455960394092384)\n",
      "AUC $SE_{std}$ = 0.5651271406331084 MannwhitneyuResult(statistic=3352.0, pvalue=0.06846531272526658)\n",
      "AUC $MSF_{mean}$ = 0.43435391800726514 MannwhitneyuResult(statistic=3348.0, pvalue=0.06691323961598472)\n",
      "AUC $MSF_{std}$ = 0.537104307213285 MannwhitneyuResult(statistic=3568.0, pvalue=0.19857591322776003)\n",
      "AUC $SEF90_{mean}$ = 0.4731447846393358 MannwhitneyuResult(statistic=3647.0, pvalue=0.27012817123272226)\n",
      "AUC $SEF90_{std}$ = 0.5364556305137519 MannwhitneyuResult(statistic=3573.0, pvalue=0.20273546507103907)\n",
      "AUC $SEF95_{mean}$ = 0.4867669953295278 MannwhitneyuResult(statistic=3752.0, pvalue=0.381698610279885)\n",
      "AUC $SEF95_{std}$ = 0.5219252724442138 MannwhitneyuResult(statistic=3685.0, pvalue=0.308633567038079)\n",
      "AUC $\\beta_{mean}$ = 0.4423975090814738 MannwhitneyuResult(statistic=3410.0, pvalue=0.09420356168625432)\n",
      "AUC $\\beta_{std}$ = 0.5037623248572911 MannwhitneyuResult(statistic=3825.0, pvalue=0.46632006911296586)\n",
      "AUC $|\\beta|_{mean}$ = 0.4150233523611832 MannwhitneyuResult(statistic=3199.0, pvalue=0.026124462652781483)\n",
      "AUC $|\\beta|_{std}$ = 0.5127140633108459 MannwhitneyuResult(statistic=3756.0, pvalue=0.38622958822286846)\n",
      "AUC $\\gamma_{mean}$ = 0.46717695900363254 MannwhitneyuResult(statistic=3601.0, pvalue=0.22697397334673236)\n",
      "AUC $\\gamma_{std}$ = 0.5483912817851583 MannwhitneyuResult(statistic=3481.0, pvalue=0.13463649951160417)\n",
      "AUC $|\\gamma|_{mean}$ = 0.49338349766476386 MannwhitneyuResult(statistic=3803.0, pvalue=0.440473082269635)\n",
      "AUC $|\\gamma|_{std}$ = 0.5342501297353399 MannwhitneyuResult(statistic=3590.0, pvalue=0.2172622924271917)\n",
      "AUC $\\theta_{mean}$ = 0.5313959522573949 MannwhitneyuResult(statistic=3612.0, pvalue=0.2369258091514969)\n",
      "AUC $\\theta_{std}$ = 0.5306175402179554 MannwhitneyuResult(statistic=3618.0, pvalue=0.242453575643576)\n",
      "AUC $|\\theta|_{mean}$ = 0.6117021276595744 MannwhitneyuResult(statistic=2993.0, pvalue=0.005355024138716771)\n",
      "AUC $|\\theta|_{std}$ = 0.5996367410482616 MannwhitneyuResult(statistic=3086.0, pvalue=0.011416848198253969)\n",
      "AUC $\\delta_{mean}$ = 0.5085625324338349 MannwhitneyuResult(statistic=3788.0, pvalue=0.42298771897768506)\n",
      "AUC $\\delta_{std}$ = 0.4635443694862481 MannwhitneyuResult(statistic=3573.0, pvalue=0.20273546507103907)\n",
      "AUC $|\\delta|_{mean}$ = 0.5099896211728074 MannwhitneyuResult(statistic=3777.0, pvalue=0.41025886053530386)\n",
      "AUC $|\\delta|_{std}$ = 0.49091852620653864 MannwhitneyuResult(statistic=3784.0, pvalue=0.418348994605319)\n",
      "AUC $|\\alpha|_{mean}$ = 0.4521276595744681 MannwhitneyuResult(statistic=3485.0, pvalue=0.13722426703755825)\n",
      "AUC $|\\alpha|_{std}$ = 0.4998702646600934 MannwhitneyuResult(statistic=3853.0, pvalue=0.4994084205928122)\n",
      "AUC $\\alpha_{mean}$ = 0.4737934613388687 MannwhitneyuResult(statistic=3652.0, pvalue=0.2750545348376532)\n",
      "AUC $\\alpha_{std}$ = 0.4723663725998962 MannwhitneyuResult(statistic=3641.0, pvalue=0.26427538012284735)\n"
     ]
    }
   ],
   "source": [
    "AUC = []\n",
    "pvalues = {}\n",
    "for i in df_mind.drop('mind2', axis = 1).columns:\n",
    "    ot = df_mind.query(\"mind2 == 'on-task'\")[i]\n",
    "    mw = df_mind.query(\"mind2 == 'mw'\")[i]\n",
    "    auc = roc_auc_score(df_mind['mind2'], df_mind[i])\n",
    "    print(f'AUC {i} = {auc}', f'{mannwhitneyu(x = ot, y = mw)}')\n",
    "    AUC.append([i, auc])\n",
    "    pvalues[i] = mannwhitneyu(x = ot, y = mw).pvalue \n",
    "        \n",
    "segment_mind_roc = pd.DataFrame(AUC, columns = ['markers', 'AUC'])\n",
    "\n",
    "p_df =pd.DataFrame.from_dict(pvalues, orient = 'index', columns = ['p_value']).reset_index().rename(columns ={'index': 'markers'})\n",
    "segment_mind_roc = (segment_mind_roc\n",
    "            .merge(p_df, on = 'markers', how = 'inner')\n",
    "            .assign(\n",
    "                    p_corrected = lambda df: multipletests(df.p_value, method = 'fdr_bh')[1],\n",
    "                    significant = lambda df: np.select([(df.p_value < 0.05) & (df.p_corrected < 0.05), (df.p_value < 0.05) & (df.p_corrected > 0.05),  \n",
    "                                                 (df.p_value > 0.05) & (df.p_corrected > 0.05)], ['p < 0.05 FDR corrected','p < 0.05 uncorrected', 'p > 0.05'])\n",
    "                   )\n",
    "           )\n"
   ]
  },
  {
   "cell_type": "markdown",
   "id": "regulated-whale",
   "metadata": {},
   "source": [
    "# AUC DOC patients"
   ]
  },
  {
   "cell_type": "code",
   "execution_count": 137,
   "id": "linear-albert",
   "metadata": {},
   "outputs": [],
   "source": [
    "classification = ['VS', 'MCS']\n",
    "\n",
    "#df = df.drop(erps, axis = 1)\n",
    "\n",
    "agg_dict = {k: [\"mean\", 'std'] for k in markers}\n",
    "agg_dict.update({k: \"first\" for k in df.drop(markers, axis=1).columns})\n",
    "\n",
    "df_doc = (\n",
    "    df.query(f\"category in {classification}\")\n",
    "    .groupby([\"participant\", 'category'], as_index=False)\n",
    "    .agg(agg_dict)\n",
    ")\n",
    "\n",
    "# df_doc.columns = df_doc.columns.map(\"_\".join)\n",
    "\n",
    "# df_doc = df_doc.rename(\n",
    "#    columns={\n",
    "#        \"participant_first\": \"participant\",\n",
    "#        \"category_first\": \"category\",\n",
    "#        \"cat_order_first\":\"cat_order\"\n",
    "#    }\n",
    "# ).drop([\"participant\"], axis=1)\n",
    "\n",
    "\n",
    "#### Use latex command for nmaes###\n",
    "##it slow downs the computer, just for final figures.\n",
    "\n",
    "df_doc = correct_name_markers(df_doc)\n",
    "\n",
    "df_doc.columns = df_doc.columns.map(\"$_{\".join).map(lambda x: x + '}$').map(lambda x: x.replace('$$', ''))\n",
    "\n",
    "df_doc  = (df_doc\n",
    "            .rename(columns = {'participant$_{first}$':'participant', 'category$_{first}$':'category', 'cat_order$_{first}$':'cat_order'})        \n",
    "            .drop(['participant'], axis = 1) \n",
    "           )"
   ]
  },
  {
   "cell_type": "code",
   "execution_count": 138,
   "id": "polished-accuracy",
   "metadata": {},
   "outputs": [
    {
     "name": "stdout",
     "output_type": "stream",
     "text": [
      "AUC $wSMI\\gamma_{mean}$ = 0.42008856682769724 MannwhitneyuResult(statistic=2087.0, pvalue=0.05099252972369192)\n",
      "AUC $wSMI\\gamma_{std}$ = 0.5396537842190017 MannwhitneyuResult(statistic=2287.0, pvalue=0.2088450918473836)\n",
      "AUC $wSMI\\beta_{mean}$ = 0.43981481481481477 MannwhitneyuResult(statistic=2185.0, pvalue=0.10913920197517435)\n",
      "AUC $wSMI\\beta_{std}$ = 0.5197262479871175 MannwhitneyuResult(statistic=2386.0, pvalue=0.34379629031855363)\n",
      "AUC $wSMI\\alpha_{mean}$ = 0.4492753623188406 MannwhitneyuResult(statistic=2232.0, pvalue=0.14980400369663027)\n",
      "AUC $wSMI\\alpha_{std}$ = 0.5416666666666666 MannwhitneyuResult(statistic=2277.0, pvalue=0.1971962624537637)\n",
      "AUC $wSMI\\theta_{mean}$ = 0.6312399355877616 MannwhitneyuResult(statistic=1832.0, pvalue=0.0036046866609333802)\n",
      "AUC $wSMI\\theta_{std}$ = 0.6564009661835748 MannwhitneyuResult(statistic=1707.0, pvalue=0.0006810623593173185)\n",
      "AUC $PE\\gamma_{mean}$ = 0.44082125603864736 MannwhitneyuResult(statistic=2190.0, pvalue=0.11304409636720825)\n",
      "AUC $PE\\gamma_{std}$ = 0.5416666666666667 MannwhitneyuResult(statistic=2277.0, pvalue=0.1971962624537637)\n",
      "AUC $PE\\beta_{mean}$ = 0.4327697262479871 MannwhitneyuResult(statistic=2150.0, pvalue=0.08449270714624374)\n",
      "AUC $PE\\beta_{std}$ = 0.5295893719806763 MannwhitneyuResult(statistic=2337.0, pvalue=0.2728495319763291)\n",
      "AUC $PE\\alpha_{mean}$ = 0.48470209339774556 MannwhitneyuResult(statistic=2408.0, pvalue=0.37775263691469835)\n",
      "AUC $PE\\alpha_{std}$ = 0.44041867954911434 MannwhitneyuResult(statistic=2188.0, pvalue=0.11147033883752161)\n",
      "AUC $PE\\theta_{mean}$ = 0.6849838969404187 MannwhitneyuResult(statistic=1565.0, pvalue=7.586623058907389e-05)\n",
      "AUC $PE\\theta_{std}$ = 0.41304347826086957 MannwhitneyuResult(statistic=2052.0, pvalue=0.037566005470897536)\n",
      "AUC $K_{mean}$ = 0.5464975845410628 MannwhitneyuResult(statistic=2253.0, pvalue=0.1708877406661271)\n",
      "AUC $K_{std}$ = 0.4317632850241545 MannwhitneyuResult(statistic=2145.0, pvalue=0.08134325507519546)\n",
      "AUC $SE_{mean}$ = 0.6650563607085347 MannwhitneyuResult(statistic=1664.0, pvalue=0.00036255319412478466)\n",
      "AUC $SE_{std}$ = 0.4402173913043478 MannwhitneyuResult(statistic=2187.0, pvalue=0.11068936647321509)\n",
      "AUC $MSF_{mean}$ = 0.5324074074074074 MannwhitneyuResult(statistic=2323.0, pvalue=0.2539989430774292)\n",
      "AUC $MSF_{std}$ = 0.4528985507246377 MannwhitneyuResult(statistic=2250.0, pvalue=0.1677647175484544)\n",
      "AUC $SEF90_{mean}$ = 0.4907407407407407 MannwhitneyuResult(statistic=2438.0, pvalue=0.4255723832023064)\n",
      "AUC $SEF90_{std}$ = 0.48711755233494364 MannwhitneyuResult(statistic=2420.0, pvalue=0.3967006915589687)\n",
      "AUC $SEF95_{mean}$ = 0.4865136876006441 MannwhitneyuResult(statistic=2417.0, pvalue=0.3919388122931514)\n",
      "AUC $SEF95_{std}$ = 0.5100644122383253 MannwhitneyuResult(statistic=2434.0, pvalue=0.4191160343124303)\n",
      "AUC $\\beta_{mean}$ = 0.6553945249597424 MannwhitneyuResult(statistic=1712.0, pvalue=0.0007314679826735514)\n",
      "AUC $\\beta_{std}$ = 0.40438808373590984 MannwhitneyuResult(statistic=2009.0, pvalue=0.02517345647429155)\n",
      "AUC $|\\beta|_{mean}$ = 0.47966988727858295 MannwhitneyuResult(statistic=2383.0, pvalue=0.33925496743063455)\n",
      "AUC $|\\beta|_{std}$ = 0.4677938808373591 MannwhitneyuResult(statistic=2324.0, pvalue=0.2553223882557869)\n",
      "AUC $\\gamma_{mean}$ = 0.6044685990338164 MannwhitneyuResult(statistic=1965.0, pvalue=0.016239057519850726)\n",
      "AUC $\\gamma_{std}$ = 0.4867149758454106 MannwhitneyuResult(statistic=2418.0, pvalue=0.3935243461940465)\n",
      "AUC $|\\gamma|_{mean}$ = 0.4714170692431562 MannwhitneyuResult(statistic=2342.0, pvalue=0.2797461706935264)\n",
      "AUC $|\\gamma|_{std}$ = 0.4434380032206119 MannwhitneyuResult(statistic=2203.0, pvalue=0.1236605813473215)\n",
      "AUC $\\theta_{mean}$ = 0.7179951690821256 MannwhitneyuResult(statistic=1401.0, pvalue=4.010729812840655e-06)\n",
      "AUC $\\theta_{std}$ = 0.5056360708534622 MannwhitneyuResult(statistic=2456.0, pvalue=0.4548489258907985)\n",
      "AUC $|\\theta|_{mean}$ = 0.6642512077294686 MannwhitneyuResult(statistic=1668.0, pvalue=0.0003849317049143344)\n",
      "AUC $|\\theta|_{std}$ = 0.6145330112721418 MannwhitneyuResult(statistic=1915.0, pvalue=0.0095213568024088)\n",
      "AUC $\\delta_{mean}$ = 0.6048711755233495 MannwhitneyuResult(statistic=1963.0, pvalue=0.01590759513228151)\n",
      "AUC $\\delta_{std}$ = 0.5551529790660225 MannwhitneyuResult(statistic=2210.0, pvalue=0.1296578270357755)\n",
      "AUC $|\\delta|_{mean}$ = 0.37338969404186795 MannwhitneyuResult(statistic=1855.0, pvalue=0.004768841761236481)\n",
      "AUC $|\\delta|_{std}$ = 0.5428743961352657 MannwhitneyuResult(statistic=2271.0, pvalue=0.19039960704601616)\n",
      "AUC $|\\alpha|_{mean}$ = 0.6525764895330112 MannwhitneyuResult(statistic=1726.0, pvalue=0.0008914577611326147)\n",
      "AUC $|\\alpha|_{std}$ = 0.6737117552334944 MannwhitneyuResult(statistic=1621.0, pvalue=0.00018737655690430395)\n",
      "AUC $\\alpha_{mean}$ = 0.7254428341384862 MannwhitneyuResult(statistic=1364.0, pvalue=1.944655491911572e-06)\n",
      "AUC $\\alpha_{std}$ = 0.43458132045088566 MannwhitneyuResult(statistic=2159.0, pvalue=0.09039085601147401)\n"
     ]
    }
   ],
   "source": [
    "AUC = []\n",
    "pvalues = {}\n",
    "for i in df_doc.drop(['category', 'cat_order'], axis = 1).columns:\n",
    "    vs = df_doc.query(\"category == 'VS'\")[i]\n",
    "    mcs = df_doc.query(\"category == 'MCS'\")[i]\n",
    "    auc = roc_auc_score(df_doc['cat_order'], df_doc[i])\n",
    "    print(f'AUC {i} = {auc}', f'{mannwhitneyu(x = vs, y = mcs)}')\n",
    "    AUC.append([i, auc])\n",
    "    pvalues[i] = mannwhitneyu(x = vs, y = mcs).pvalue \n",
    "        \n",
    "roc_vs_mcs = pd.DataFrame(AUC, columns = ['markers', 'AUC'])\n",
    "\n",
    "p_df =pd.DataFrame.from_dict(pvalues, orient = 'index', columns = ['p_value']).reset_index().rename(columns ={'index': 'markers'})\n",
    "roc_vs_mcs = (roc_vs_mcs\n",
    "            .merge(p_df, on = 'markers', how = 'inner')\n",
    "            .assign(\n",
    "                    p_corrected = lambda df: multipletests(df.p_value, method = 'fdr_bh')[1],\n",
    "                    significant = lambda df: np.select([(df.p_value < 0.05) & (df.p_corrected < 0.05), (df.p_value < 0.05) & (df.p_corrected > 0.05),  \n",
    "                                                 (df.p_value > 0.05) & (df.p_corrected > 0.05)], ['p < 0.05 FDR corrected','p < 0.05 uncorrected', 'p > 0.05'])\n",
    "                   )\n",
    "           )\n"
   ]
  },
  {
   "cell_type": "markdown",
   "id": "primary-mounting",
   "metadata": {},
   "source": [
    "# DOC vs Mind"
   ]
  },
  {
   "cell_type": "code",
   "execution_count": 139,
   "id": "associate-zambia",
   "metadata": {},
   "outputs": [],
   "source": [
    "df_contrast = (segment_mind_roc.merge(roc_vs_mcs, on = 'markers', suffixes=('_mind', '_doc'))\n",
    "               .assign(significant= lambda df: np.select([(df.significant_mind != \"p > 0.05\" )& (df.significant_doc == \"p > 0.05\"),\n",
    "                                                          (df.significant_mind == \"p > 0.05\" )& (df.significant_doc != \"p > 0.05\"),\n",
    "                                                         (df.significant_mind != \"p > 0.05\" )& (df.significant_doc != \"p > 0.05\"),\n",
    "                                                         (df.significant_mind == \"p > 0.05\" )& (df.significant_doc == \"p > 0.05\")],\n",
    "                                                         ['Significant mind', 'Significant DOC', 'Significant Both', 'Not significant']))\n",
    "              )"
   ]
  },
  {
   "cell_type": "code",
   "execution_count": 140,
   "id": "general-finding",
   "metadata": {},
   "outputs": [
    {
     "data": {
      "application/vnd.plotly.v1+json": {
       "config": {
        "plotlyServerURL": "https://plot.ly"
       },
       "data": [
        {
         "hovertemplate": "significant=Significant DOC<br>MW>OT                                              MW<OT=%{x}<br>VS>MCS                                              VS<MCS=%{y}<br>markers=%{text}<extra></extra>",
         "legendgroup": "Significant DOC",
         "marker": {
          "color": "#9AC529",
          "size": 8,
          "symbol": "circle"
         },
         "mode": "markers+text",
         "name": "Significant DOC",
         "orientation": "v",
         "showlegend": true,
         "text": [
          "$wSMI\\theta_{mean}$",
          "$wSMI\\theta_{std}$",
          "$PE\\theta_{mean}$",
          "$PE\\theta_{std}$",
          "$SE_{mean}$",
          "$\\beta_{mean}$",
          "$\\beta_{std}$",
          "$\\gamma_{mean}$",
          "$\\theta_{mean}$",
          "$\\delta_{mean}$",
          "$|\\delta|_{mean}$",
          "$|\\alpha|_{mean}$",
          "$|\\alpha|_{std}$",
          "$\\alpha_{mean}$"
         ],
         "type": "scatter",
         "x": [
          0.5459263103269332,
          0.4910482615464452,
          0.4661390762843799,
          0.5155682407887909,
          0.4449922158796056,
          0.4423975090814738,
          0.5037623248572911,
          0.46717695900363254,
          0.5313959522573949,
          0.5085625324338349,
          0.5099896211728074,
          0.4521276595744681,
          0.4998702646600934,
          0.4737934613388687
         ],
         "xaxis": "x",
         "y": [
          0.6312399355877616,
          0.6564009661835748,
          0.6849838969404187,
          0.41304347826086957,
          0.6650563607085347,
          0.6553945249597424,
          0.40438808373590984,
          0.6044685990338164,
          0.7179951690821256,
          0.6048711755233495,
          0.37338969404186795,
          0.6525764895330112,
          0.6737117552334944,
          0.7254428341384862
         ],
         "yaxis": "y"
        },
        {
         "hovertemplate": "significant=Significant mind<br>MW>OT                                              MW<OT=%{x}<br>VS>MCS                                              VS<MCS=%{y}<br>markers=%{text}<extra></extra>",
         "legendgroup": "Significant mind",
         "marker": {
          "color": "#DE237B",
          "size": 8,
          "symbol": "circle"
         },
         "mode": "markers+text",
         "name": "Significant mind",
         "orientation": "v",
         "showlegend": true,
         "text": [
          "$K_{std}$",
          "$|\\beta|_{mean}$"
         ],
         "type": "scatter",
         "x": [
          0.5806953814218994,
          0.4150233523611832
         ],
         "xaxis": "x",
         "y": [
          0.4317632850241545,
          0.47966988727858295
         ],
         "yaxis": "y"
        },
        {
         "hovertemplate": "significant=Significant Both<br>MW>OT                                              MW<OT=%{x}<br>VS>MCS                                              VS<MCS=%{y}<br>markers=%{text}<extra></extra>",
         "legendgroup": "Significant Both",
         "marker": {
          "color": "#F38A31",
          "size": 8,
          "symbol": "circle"
         },
         "mode": "markers+text",
         "name": "Significant Both",
         "orientation": "v",
         "showlegend": true,
         "text": [
          "$|\\theta|_{mean}$",
          "$|\\theta|_{std}$"
         ],
         "type": "scatter",
         "x": [
          0.6117021276595744,
          0.5996367410482616
         ],
         "xaxis": "x",
         "y": [
          0.6642512077294686,
          0.6145330112721418
         ],
         "yaxis": "y"
        }
       ],
       "layout": {
        "autosize": false,
        "height": 800,
        "legend": {
         "title": {
          "text": "significant"
         },
         "tracegroupgap": 0
        },
        "margin": {
         "t": 60
        },
        "shapes": [
         {
          "line": {
           "color": "black",
           "dash": "dash",
           "width": 2
          },
          "type": "line",
          "x0": 0.5,
          "x1": 0.5,
          "xref": "x",
          "y0": 0,
          "y1": 1,
          "yref": "y domain"
         },
         {
          "line": {
           "color": "black",
           "dash": "dash",
           "width": 2
          },
          "type": "line",
          "x0": 0,
          "x1": 1,
          "xref": "x domain",
          "y0": 0.5,
          "y1": 0.5,
          "yref": "y"
         }
        ],
        "template": {
         "data": {
          "bar": [
           {
            "error_x": {
             "color": "#2a3f5f"
            },
            "error_y": {
             "color": "#2a3f5f"
            },
            "marker": {
             "line": {
              "color": "white",
              "width": 0.5
             }
            },
            "type": "bar"
           }
          ],
          "barpolar": [
           {
            "marker": {
             "line": {
              "color": "white",
              "width": 0.5
             }
            },
            "type": "barpolar"
           }
          ],
          "carpet": [
           {
            "aaxis": {
             "endlinecolor": "#2a3f5f",
             "gridcolor": "#C8D4E3",
             "linecolor": "#C8D4E3",
             "minorgridcolor": "#C8D4E3",
             "startlinecolor": "#2a3f5f"
            },
            "baxis": {
             "endlinecolor": "#2a3f5f",
             "gridcolor": "#C8D4E3",
             "linecolor": "#C8D4E3",
             "minorgridcolor": "#C8D4E3",
             "startlinecolor": "#2a3f5f"
            },
            "type": "carpet"
           }
          ],
          "choropleth": [
           {
            "colorbar": {
             "outlinewidth": 0,
             "ticks": ""
            },
            "type": "choropleth"
           }
          ],
          "contour": [
           {
            "colorbar": {
             "outlinewidth": 0,
             "ticks": ""
            },
            "colorscale": [
             [
              0,
              "#0d0887"
             ],
             [
              0.1111111111111111,
              "#46039f"
             ],
             [
              0.2222222222222222,
              "#7201a8"
             ],
             [
              0.3333333333333333,
              "#9c179e"
             ],
             [
              0.4444444444444444,
              "#bd3786"
             ],
             [
              0.5555555555555556,
              "#d8576b"
             ],
             [
              0.6666666666666666,
              "#ed7953"
             ],
             [
              0.7777777777777778,
              "#fb9f3a"
             ],
             [
              0.8888888888888888,
              "#fdca26"
             ],
             [
              1,
              "#f0f921"
             ]
            ],
            "type": "contour"
           }
          ],
          "contourcarpet": [
           {
            "colorbar": {
             "outlinewidth": 0,
             "ticks": ""
            },
            "type": "contourcarpet"
           }
          ],
          "heatmap": [
           {
            "colorbar": {
             "outlinewidth": 0,
             "ticks": ""
            },
            "colorscale": [
             [
              0,
              "#0d0887"
             ],
             [
              0.1111111111111111,
              "#46039f"
             ],
             [
              0.2222222222222222,
              "#7201a8"
             ],
             [
              0.3333333333333333,
              "#9c179e"
             ],
             [
              0.4444444444444444,
              "#bd3786"
             ],
             [
              0.5555555555555556,
              "#d8576b"
             ],
             [
              0.6666666666666666,
              "#ed7953"
             ],
             [
              0.7777777777777778,
              "#fb9f3a"
             ],
             [
              0.8888888888888888,
              "#fdca26"
             ],
             [
              1,
              "#f0f921"
             ]
            ],
            "type": "heatmap"
           }
          ],
          "heatmapgl": [
           {
            "colorbar": {
             "outlinewidth": 0,
             "ticks": ""
            },
            "colorscale": [
             [
              0,
              "#0d0887"
             ],
             [
              0.1111111111111111,
              "#46039f"
             ],
             [
              0.2222222222222222,
              "#7201a8"
             ],
             [
              0.3333333333333333,
              "#9c179e"
             ],
             [
              0.4444444444444444,
              "#bd3786"
             ],
             [
              0.5555555555555556,
              "#d8576b"
             ],
             [
              0.6666666666666666,
              "#ed7953"
             ],
             [
              0.7777777777777778,
              "#fb9f3a"
             ],
             [
              0.8888888888888888,
              "#fdca26"
             ],
             [
              1,
              "#f0f921"
             ]
            ],
            "type": "heatmapgl"
           }
          ],
          "histogram": [
           {
            "marker": {
             "colorbar": {
              "outlinewidth": 0,
              "ticks": ""
             }
            },
            "type": "histogram"
           }
          ],
          "histogram2d": [
           {
            "colorbar": {
             "outlinewidth": 0,
             "ticks": ""
            },
            "colorscale": [
             [
              0,
              "#0d0887"
             ],
             [
              0.1111111111111111,
              "#46039f"
             ],
             [
              0.2222222222222222,
              "#7201a8"
             ],
             [
              0.3333333333333333,
              "#9c179e"
             ],
             [
              0.4444444444444444,
              "#bd3786"
             ],
             [
              0.5555555555555556,
              "#d8576b"
             ],
             [
              0.6666666666666666,
              "#ed7953"
             ],
             [
              0.7777777777777778,
              "#fb9f3a"
             ],
             [
              0.8888888888888888,
              "#fdca26"
             ],
             [
              1,
              "#f0f921"
             ]
            ],
            "type": "histogram2d"
           }
          ],
          "histogram2dcontour": [
           {
            "colorbar": {
             "outlinewidth": 0,
             "ticks": ""
            },
            "colorscale": [
             [
              0,
              "#0d0887"
             ],
             [
              0.1111111111111111,
              "#46039f"
             ],
             [
              0.2222222222222222,
              "#7201a8"
             ],
             [
              0.3333333333333333,
              "#9c179e"
             ],
             [
              0.4444444444444444,
              "#bd3786"
             ],
             [
              0.5555555555555556,
              "#d8576b"
             ],
             [
              0.6666666666666666,
              "#ed7953"
             ],
             [
              0.7777777777777778,
              "#fb9f3a"
             ],
             [
              0.8888888888888888,
              "#fdca26"
             ],
             [
              1,
              "#f0f921"
             ]
            ],
            "type": "histogram2dcontour"
           }
          ],
          "mesh3d": [
           {
            "colorbar": {
             "outlinewidth": 0,
             "ticks": ""
            },
            "type": "mesh3d"
           }
          ],
          "parcoords": [
           {
            "line": {
             "colorbar": {
              "outlinewidth": 0,
              "ticks": ""
             }
            },
            "type": "parcoords"
           }
          ],
          "pie": [
           {
            "automargin": true,
            "type": "pie"
           }
          ],
          "scatter": [
           {
            "marker": {
             "colorbar": {
              "outlinewidth": 0,
              "ticks": ""
             }
            },
            "type": "scatter"
           }
          ],
          "scatter3d": [
           {
            "line": {
             "colorbar": {
              "outlinewidth": 0,
              "ticks": ""
             }
            },
            "marker": {
             "colorbar": {
              "outlinewidth": 0,
              "ticks": ""
             }
            },
            "type": "scatter3d"
           }
          ],
          "scattercarpet": [
           {
            "marker": {
             "colorbar": {
              "outlinewidth": 0,
              "ticks": ""
             }
            },
            "type": "scattercarpet"
           }
          ],
          "scattergeo": [
           {
            "marker": {
             "colorbar": {
              "outlinewidth": 0,
              "ticks": ""
             }
            },
            "type": "scattergeo"
           }
          ],
          "scattergl": [
           {
            "marker": {
             "colorbar": {
              "outlinewidth": 0,
              "ticks": ""
             }
            },
            "type": "scattergl"
           }
          ],
          "scattermapbox": [
           {
            "marker": {
             "colorbar": {
              "outlinewidth": 0,
              "ticks": ""
             }
            },
            "type": "scattermapbox"
           }
          ],
          "scatterpolar": [
           {
            "marker": {
             "colorbar": {
              "outlinewidth": 0,
              "ticks": ""
             }
            },
            "type": "scatterpolar"
           }
          ],
          "scatterpolargl": [
           {
            "marker": {
             "colorbar": {
              "outlinewidth": 0,
              "ticks": ""
             }
            },
            "type": "scatterpolargl"
           }
          ],
          "scatterternary": [
           {
            "marker": {
             "colorbar": {
              "outlinewidth": 0,
              "ticks": ""
             }
            },
            "type": "scatterternary"
           }
          ],
          "surface": [
           {
            "colorbar": {
             "outlinewidth": 0,
             "ticks": ""
            },
            "colorscale": [
             [
              0,
              "#0d0887"
             ],
             [
              0.1111111111111111,
              "#46039f"
             ],
             [
              0.2222222222222222,
              "#7201a8"
             ],
             [
              0.3333333333333333,
              "#9c179e"
             ],
             [
              0.4444444444444444,
              "#bd3786"
             ],
             [
              0.5555555555555556,
              "#d8576b"
             ],
             [
              0.6666666666666666,
              "#ed7953"
             ],
             [
              0.7777777777777778,
              "#fb9f3a"
             ],
             [
              0.8888888888888888,
              "#fdca26"
             ],
             [
              1,
              "#f0f921"
             ]
            ],
            "type": "surface"
           }
          ],
          "table": [
           {
            "cells": {
             "fill": {
              "color": "#EBF0F8"
             },
             "line": {
              "color": "white"
             }
            },
            "header": {
             "fill": {
              "color": "#C8D4E3"
             },
             "line": {
              "color": "white"
             }
            },
            "type": "table"
           }
          ]
         },
         "layout": {
          "annotationdefaults": {
           "arrowcolor": "#2a3f5f",
           "arrowhead": 0,
           "arrowwidth": 1
          },
          "autotypenumbers": "strict",
          "coloraxis": {
           "colorbar": {
            "outlinewidth": 0,
            "ticks": ""
           }
          },
          "colorscale": {
           "diverging": [
            [
             0,
             "#8e0152"
            ],
            [
             0.1,
             "#c51b7d"
            ],
            [
             0.2,
             "#de77ae"
            ],
            [
             0.3,
             "#f1b6da"
            ],
            [
             0.4,
             "#fde0ef"
            ],
            [
             0.5,
             "#f7f7f7"
            ],
            [
             0.6,
             "#e6f5d0"
            ],
            [
             0.7,
             "#b8e186"
            ],
            [
             0.8,
             "#7fbc41"
            ],
            [
             0.9,
             "#4d9221"
            ],
            [
             1,
             "#276419"
            ]
           ],
           "sequential": [
            [
             0,
             "#0d0887"
            ],
            [
             0.1111111111111111,
             "#46039f"
            ],
            [
             0.2222222222222222,
             "#7201a8"
            ],
            [
             0.3333333333333333,
             "#9c179e"
            ],
            [
             0.4444444444444444,
             "#bd3786"
            ],
            [
             0.5555555555555556,
             "#d8576b"
            ],
            [
             0.6666666666666666,
             "#ed7953"
            ],
            [
             0.7777777777777778,
             "#fb9f3a"
            ],
            [
             0.8888888888888888,
             "#fdca26"
            ],
            [
             1,
             "#f0f921"
            ]
           ],
           "sequentialminus": [
            [
             0,
             "#0d0887"
            ],
            [
             0.1111111111111111,
             "#46039f"
            ],
            [
             0.2222222222222222,
             "#7201a8"
            ],
            [
             0.3333333333333333,
             "#9c179e"
            ],
            [
             0.4444444444444444,
             "#bd3786"
            ],
            [
             0.5555555555555556,
             "#d8576b"
            ],
            [
             0.6666666666666666,
             "#ed7953"
            ],
            [
             0.7777777777777778,
             "#fb9f3a"
            ],
            [
             0.8888888888888888,
             "#fdca26"
            ],
            [
             1,
             "#f0f921"
            ]
           ]
          },
          "colorway": [
           "#636efa",
           "#EF553B",
           "#00cc96",
           "#ab63fa",
           "#FFA15A",
           "#19d3f3",
           "#FF6692",
           "#B6E880",
           "#FF97FF",
           "#FECB52"
          ],
          "font": {
           "color": "#2a3f5f"
          },
          "geo": {
           "bgcolor": "white",
           "lakecolor": "white",
           "landcolor": "white",
           "showlakes": true,
           "showland": true,
           "subunitcolor": "#C8D4E3"
          },
          "hoverlabel": {
           "align": "left"
          },
          "hovermode": "closest",
          "mapbox": {
           "style": "light"
          },
          "paper_bgcolor": "white",
          "plot_bgcolor": "white",
          "polar": {
           "angularaxis": {
            "gridcolor": "#EBF0F8",
            "linecolor": "#EBF0F8",
            "ticks": ""
           },
           "bgcolor": "white",
           "radialaxis": {
            "gridcolor": "#EBF0F8",
            "linecolor": "#EBF0F8",
            "ticks": ""
           }
          },
          "scene": {
           "xaxis": {
            "backgroundcolor": "white",
            "gridcolor": "#DFE8F3",
            "gridwidth": 2,
            "linecolor": "#EBF0F8",
            "showbackground": true,
            "ticks": "",
            "zerolinecolor": "#EBF0F8"
           },
           "yaxis": {
            "backgroundcolor": "white",
            "gridcolor": "#DFE8F3",
            "gridwidth": 2,
            "linecolor": "#EBF0F8",
            "showbackground": true,
            "ticks": "",
            "zerolinecolor": "#EBF0F8"
           },
           "zaxis": {
            "backgroundcolor": "white",
            "gridcolor": "#DFE8F3",
            "gridwidth": 2,
            "linecolor": "#EBF0F8",
            "showbackground": true,
            "ticks": "",
            "zerolinecolor": "#EBF0F8"
           }
          },
          "shapedefaults": {
           "line": {
            "color": "#2a3f5f"
           }
          },
          "ternary": {
           "aaxis": {
            "gridcolor": "#DFE8F3",
            "linecolor": "#A2B1C6",
            "ticks": ""
           },
           "baxis": {
            "gridcolor": "#DFE8F3",
            "linecolor": "#A2B1C6",
            "ticks": ""
           },
           "bgcolor": "white",
           "caxis": {
            "gridcolor": "#DFE8F3",
            "linecolor": "#A2B1C6",
            "ticks": ""
           }
          },
          "title": {
           "x": 0.05
          },
          "xaxis": {
           "automargin": true,
           "gridcolor": "#EBF0F8",
           "linecolor": "#EBF0F8",
           "ticks": "",
           "title": {
            "standoff": 15
           },
           "zerolinecolor": "#EBF0F8",
           "zerolinewidth": 2
          },
          "yaxis": {
           "automargin": true,
           "gridcolor": "#EBF0F8",
           "linecolor": "#EBF0F8",
           "ticks": "",
           "title": {
            "standoff": 15
           },
           "zerolinecolor": "#EBF0F8",
           "zerolinewidth": 2
          }
         }
        },
        "width": 800,
        "xaxis": {
         "anchor": "y",
         "domain": [
          0,
          1
         ],
         "range": [
          0.35,
          0.65
         ],
         "title": {
          "text": "MW>OT                                              MW<OT"
         },
         "type": "linear"
        },
        "yaxis": {
         "anchor": "x",
         "domain": [
          0,
          1
         ],
         "range": [
          0.25,
          0.75
         ],
         "title": {
          "text": "VS>MCS                                              VS<MCS"
         },
         "type": "linear"
        }
       }
      },
      "image/png": "[encoded data removed]",
      "text/html": [
       "<div>                            <div id=\"81cf0064-3540-4137-9044-e803a3a8ff63\" class=\"plotly-graph-div\" style=\"height:800px; width:800px;\"></div>            <script type=\"text/javascript\">                require([\"plotly\"], function(Plotly) {                    window.PLOTLYENV=window.PLOTLYENV || {};                                    if (document.getElementById(\"81cf0064-3540-4137-9044-e803a3a8ff63\")) {                    Plotly.newPlot(                        \"81cf0064-3540-4137-9044-e803a3a8ff63\",                        [{\"hovertemplate\": \"significant=Significant DOC<br>MW>OT                                              MW<OT=%{x}<br>VS>MCS                                              VS<MCS=%{y}<br>markers=%{text}<extra></extra>\", \"legendgroup\": \"Significant DOC\", \"marker\": {\"color\": \"#9AC529\", \"size\": 8, \"symbol\": \"circle\"}, \"mode\": \"markers+text\", \"name\": \"Significant DOC\", \"orientation\": \"v\", \"showlegend\": true, \"text\": [\"$wSMI\\\\theta_{mean}$\", \"$wSMI\\\\theta_{std}$\", \"$PE\\\\theta_{mean}$\", \"$PE\\\\theta_{std}$\", \"$SE_{mean}$\", \"$\\\\beta_{mean}$\", \"$\\\\beta_{std}$\", \"$\\\\gamma_{mean}$\", \"$\\\\theta_{mean}$\", \"$\\\\delta_{mean}$\", \"$|\\\\delta|_{mean}$\", \"$|\\\\alpha|_{mean}$\", \"$|\\\\alpha|_{std}$\", \"$\\\\alpha_{mean}$\"], \"type\": \"scatter\", \"x\": [0.5459263103269332, 0.4910482615464452, 0.4661390762843799, 0.5155682407887909, 0.4449922158796056, 0.4423975090814738, 0.5037623248572911, 0.46717695900363254, 0.5313959522573949, 0.5085625324338349, 0.5099896211728074, 0.4521276595744681, 0.4998702646600934, 0.4737934613388687], \"xaxis\": \"x\", \"y\": [0.6312399355877616, 0.6564009661835748, 0.6849838969404187, 0.41304347826086957, 0.6650563607085347, 0.6553945249597424, 0.40438808373590984, 0.6044685990338164, 0.7179951690821256, 0.6048711755233495, 0.37338969404186795, 0.6525764895330112, 0.6737117552334944, 0.7254428341384862], \"yaxis\": \"y\"}, {\"hovertemplate\": \"significant=Significant mind<br>MW>OT                                              MW<OT=%{x}<br>VS>MCS                                              VS<MCS=%{y}<br>markers=%{text}<extra></extra>\", \"legendgroup\": \"Significant mind\", \"marker\": {\"color\": \"#DE237B\", \"size\": 8, \"symbol\": \"circle\"}, \"mode\": \"markers+text\", \"name\": \"Significant mind\", \"orientation\": \"v\", \"showlegend\": true, \"text\": [\"$K_{std}$\", \"$|\\\\beta|_{mean}$\"], \"type\": \"scatter\", \"x\": [0.5806953814218994, 0.4150233523611832], \"xaxis\": \"x\", \"y\": [0.4317632850241545, 0.47966988727858295], \"yaxis\": \"y\"}, {\"hovertemplate\": \"significant=Significant Both<br>MW>OT                                              MW<OT=%{x}<br>VS>MCS                                              VS<MCS=%{y}<br>markers=%{text}<extra></extra>\", \"legendgroup\": \"Significant Both\", \"marker\": {\"color\": \"#F38A31\", \"size\": 8, \"symbol\": \"circle\"}, \"mode\": \"markers+text\", \"name\": \"Significant Both\", \"orientation\": \"v\", \"showlegend\": true, \"text\": [\"$|\\\\theta|_{mean}$\", \"$|\\\\theta|_{std}$\"], \"type\": \"scatter\", \"x\": [0.6117021276595744, 0.5996367410482616], \"xaxis\": \"x\", \"y\": [0.6642512077294686, 0.6145330112721418], \"yaxis\": \"y\"}],                        {\"autosize\": false, \"height\": 800, \"legend\": {\"title\": {\"text\": \"significant\"}, \"tracegroupgap\": 0}, \"margin\": {\"t\": 60}, \"shapes\": [{\"line\": {\"color\": \"black\", \"dash\": \"dash\", \"width\": 2}, \"type\": \"line\", \"x0\": 0.5, \"x1\": 0.5, \"xref\": \"x\", \"y0\": 0, \"y1\": 1, \"yref\": \"y domain\"}, {\"line\": {\"color\": \"black\", \"dash\": \"dash\", \"width\": 2}, \"type\": \"line\", \"x0\": 0, \"x1\": 1, \"xref\": \"x domain\", \"y0\": 0.5, \"y1\": 0.5, \"yref\": \"y\"}], \"template\": {\"data\": {\"bar\": [{\"error_x\": {\"color\": \"#2a3f5f\"}, \"error_y\": {\"color\": \"#2a3f5f\"}, \"marker\": {\"line\": {\"color\": \"white\", \"width\": 0.5}}, \"type\": \"bar\"}], \"barpolar\": [{\"marker\": {\"line\": {\"color\": \"white\", \"width\": 0.5}}, \"type\": \"barpolar\"}], \"carpet\": [{\"aaxis\": {\"endlinecolor\": \"#2a3f5f\", \"gridcolor\": \"#C8D4E3\", \"linecolor\": \"#C8D4E3\", \"minorgridcolor\": \"#C8D4E3\", \"startlinecolor\": \"#2a3f5f\"}, \"baxis\": {\"endlinecolor\": \"#2a3f5f\", \"gridcolor\": \"#C8D4E3\", \"linecolor\": \"#C8D4E3\", \"minorgridcolor\": \"#C8D4E3\", \"startlinecolor\": \"#2a3f5f\"}, \"type\": \"carpet\"}], \"choropleth\": [{\"colorbar\": {\"outlinewidth\": 0, \"ticks\": \"\"}, \"type\": \"choropleth\"}], \"contour\": [{\"colorbar\": {\"outlinewidth\": 0, \"ticks\": \"\"}, \"colorscale\": [[0.0, \"#0d0887\"], [0.1111111111111111, \"#46039f\"], [0.2222222222222222, \"#7201a8\"], [0.3333333333333333, \"#9c179e\"], [0.4444444444444444, \"#bd3786\"], [0.5555555555555556, \"#d8576b\"], [0.6666666666666666, \"#ed7953\"], [0.7777777777777778, \"#fb9f3a\"], [0.8888888888888888, \"#fdca26\"], [1.0, \"#f0f921\"]], \"type\": \"contour\"}], \"contourcarpet\": [{\"colorbar\": {\"outlinewidth\": 0, \"ticks\": \"\"}, \"type\": \"contourcarpet\"}], \"heatmap\": [{\"colorbar\": {\"outlinewidth\": 0, \"ticks\": \"\"}, \"colorscale\": [[0.0, \"#0d0887\"], [0.1111111111111111, \"#46039f\"], [0.2222222222222222, \"#7201a8\"], [0.3333333333333333, \"#9c179e\"], [0.4444444444444444, \"#bd3786\"], [0.5555555555555556, \"#d8576b\"], [0.6666666666666666, \"#ed7953\"], [0.7777777777777778, \"#fb9f3a\"], [0.8888888888888888, \"#fdca26\"], [1.0, \"#f0f921\"]], \"type\": \"heatmap\"}], \"heatmapgl\": [{\"colorbar\": {\"outlinewidth\": 0, \"ticks\": \"\"}, \"colorscale\": [[0.0, \"#0d0887\"], [0.1111111111111111, \"#46039f\"], [0.2222222222222222, \"#7201a8\"], [0.3333333333333333, \"#9c179e\"], [0.4444444444444444, \"#bd3786\"], [0.5555555555555556, \"#d8576b\"], [0.6666666666666666, \"#ed7953\"], [0.7777777777777778, \"#fb9f3a\"], [0.8888888888888888, \"#fdca26\"], [1.0, \"#f0f921\"]], \"type\": \"heatmapgl\"}], \"histogram\": [{\"marker\": {\"colorbar\": {\"outlinewidth\": 0, \"ticks\": \"\"}}, \"type\": \"histogram\"}], \"histogram2d\": [{\"colorbar\": {\"outlinewidth\": 0, \"ticks\": \"\"}, \"colorscale\": [[0.0, \"#0d0887\"], [0.1111111111111111, \"#46039f\"], [0.2222222222222222, \"#7201a8\"], [0.3333333333333333, \"#9c179e\"], [0.4444444444444444, \"#bd3786\"], [0.5555555555555556, \"#d8576b\"], [0.6666666666666666, \"#ed7953\"], [0.7777777777777778, \"#fb9f3a\"], [0.8888888888888888, \"#fdca26\"], [1.0, \"#f0f921\"]], \"type\": \"histogram2d\"}], \"histogram2dcontour\": [{\"colorbar\": {\"outlinewidth\": 0, \"ticks\": \"\"}, \"colorscale\": [[0.0, \"#0d0887\"], [0.1111111111111111, \"#46039f\"], [0.2222222222222222, \"#7201a8\"], [0.3333333333333333, \"#9c179e\"], [0.4444444444444444, \"#bd3786\"], [0.5555555555555556, \"#d8576b\"], [0.6666666666666666, \"#ed7953\"], [0.7777777777777778, \"#fb9f3a\"], [0.8888888888888888, \"#fdca26\"], [1.0, \"#f0f921\"]], \"type\": \"histogram2dcontour\"}], \"mesh3d\": [{\"colorbar\": {\"outlinewidth\": 0, \"ticks\": \"\"}, \"type\": \"mesh3d\"}], \"parcoords\": [{\"line\": {\"colorbar\": {\"outlinewidth\": 0, \"ticks\": \"\"}}, \"type\": \"parcoords\"}], \"pie\": [{\"automargin\": true, \"type\": \"pie\"}], \"scatter\": [{\"marker\": {\"colorbar\": {\"outlinewidth\": 0, \"ticks\": \"\"}}, \"type\": \"scatter\"}], \"scatter3d\": [{\"line\": {\"colorbar\": {\"outlinewidth\": 0, \"ticks\": \"\"}}, \"marker\": {\"colorbar\": {\"outlinewidth\": 0, \"ticks\": \"\"}}, \"type\": \"scatter3d\"}], \"scattercarpet\": [{\"marker\": {\"colorbar\": {\"outlinewidth\": 0, \"ticks\": \"\"}}, \"type\": \"scattercarpet\"}], \"scattergeo\": [{\"marker\": {\"colorbar\": {\"outlinewidth\": 0, \"ticks\": \"\"}}, \"type\": \"scattergeo\"}], \"scattergl\": [{\"marker\": {\"colorbar\": {\"outlinewidth\": 0, \"ticks\": \"\"}}, \"type\": \"scattergl\"}], \"scattermapbox\": [{\"marker\": {\"colorbar\": {\"outlinewidth\": 0, \"ticks\": \"\"}}, \"type\": \"scattermapbox\"}], \"scatterpolar\": [{\"marker\": {\"colorbar\": {\"outlinewidth\": 0, \"ticks\": \"\"}}, \"type\": \"scatterpolar\"}], \"scatterpolargl\": [{\"marker\": {\"colorbar\": {\"outlinewidth\": 0, \"ticks\": \"\"}}, \"type\": \"scatterpolargl\"}], \"scatterternary\": [{\"marker\": {\"colorbar\": {\"outlinewidth\": 0, \"ticks\": \"\"}}, \"type\": \"scatterternary\"}], \"surface\": [{\"colorbar\": {\"outlinewidth\": 0, \"ticks\": \"\"}, \"colorscale\": [[0.0, \"#0d0887\"], [0.1111111111111111, \"#46039f\"], [0.2222222222222222, \"#7201a8\"], [0.3333333333333333, \"#9c179e\"], [0.4444444444444444, \"#bd3786\"], [0.5555555555555556, \"#d8576b\"], [0.6666666666666666, \"#ed7953\"], [0.7777777777777778, \"#fb9f3a\"], [0.8888888888888888, \"#fdca26\"], [1.0, \"#f0f921\"]], \"type\": \"surface\"}], \"table\": [{\"cells\": {\"fill\": {\"color\": \"#EBF0F8\"}, \"line\": {\"color\": \"white\"}}, \"header\": {\"fill\": {\"color\": \"#C8D4E3\"}, \"line\": {\"color\": \"white\"}}, \"type\": \"table\"}]}, \"layout\": {\"annotationdefaults\": {\"arrowcolor\": \"#2a3f5f\", \"arrowhead\": 0, \"arrowwidth\": 1}, \"autotypenumbers\": \"strict\", \"coloraxis\": {\"colorbar\": {\"outlinewidth\": 0, \"ticks\": \"\"}}, \"colorscale\": {\"diverging\": [[0, \"#8e0152\"], [0.1, \"#c51b7d\"], [0.2, \"#de77ae\"], [0.3, \"#f1b6da\"], [0.4, \"#fde0ef\"], [0.5, \"#f7f7f7\"], [0.6, \"#e6f5d0\"], [0.7, \"#b8e186\"], [0.8, \"#7fbc41\"], [0.9, \"#4d9221\"], [1, \"#276419\"]], \"sequential\": [[0.0, \"#0d0887\"], [0.1111111111111111, \"#46039f\"], [0.2222222222222222, \"#7201a8\"], [0.3333333333333333, \"#9c179e\"], [0.4444444444444444, \"#bd3786\"], [0.5555555555555556, \"#d8576b\"], [0.6666666666666666, \"#ed7953\"], [0.7777777777777778, \"#fb9f3a\"], [0.8888888888888888, \"#fdca26\"], [1.0, \"#f0f921\"]], \"sequentialminus\": [[0.0, \"#0d0887\"], [0.1111111111111111, \"#46039f\"], [0.2222222222222222, \"#7201a8\"], [0.3333333333333333, \"#9c179e\"], [0.4444444444444444, \"#bd3786\"], [0.5555555555555556, \"#d8576b\"], [0.6666666666666666, \"#ed7953\"], [0.7777777777777778, \"#fb9f3a\"], [0.8888888888888888, \"#fdca26\"], [1.0, \"#f0f921\"]]}, \"colorway\": [\"#636efa\", \"#EF553B\", \"#00cc96\", \"#ab63fa\", \"#FFA15A\", \"#19d3f3\", \"#FF6692\", \"#B6E880\", \"#FF97FF\", \"#FECB52\"], \"font\": {\"color\": \"#2a3f5f\"}, \"geo\": {\"bgcolor\": \"white\", \"lakecolor\": \"white\", \"landcolor\": \"white\", \"showlakes\": true, \"showland\": true, \"subunitcolor\": \"#C8D4E3\"}, \"hoverlabel\": {\"align\": \"left\"}, \"hovermode\": \"closest\", \"mapbox\": {\"style\": \"light\"}, \"paper_bgcolor\": \"white\", \"plot_bgcolor\": \"white\", \"polar\": {\"angularaxis\": {\"gridcolor\": \"#EBF0F8\", \"linecolor\": \"#EBF0F8\", \"ticks\": \"\"}, \"bgcolor\": \"white\", \"radialaxis\": {\"gridcolor\": \"#EBF0F8\", \"linecolor\": \"#EBF0F8\", \"ticks\": \"\"}}, \"scene\": {\"xaxis\": {\"backgroundcolor\": \"white\", \"gridcolor\": \"#DFE8F3\", \"gridwidth\": 2, \"linecolor\": \"#EBF0F8\", \"showbackground\": true, \"ticks\": \"\", \"zerolinecolor\": \"#EBF0F8\"}, \"yaxis\": {\"backgroundcolor\": \"white\", \"gridcolor\": \"#DFE8F3\", \"gridwidth\": 2, \"linecolor\": \"#EBF0F8\", \"showbackground\": true, \"ticks\": \"\", \"zerolinecolor\": \"#EBF0F8\"}, \"zaxis\": {\"backgroundcolor\": \"white\", \"gridcolor\": \"#DFE8F3\", \"gridwidth\": 2, \"linecolor\": \"#EBF0F8\", \"showbackground\": true, \"ticks\": \"\", \"zerolinecolor\": \"#EBF0F8\"}}, \"shapedefaults\": {\"line\": {\"color\": \"#2a3f5f\"}}, \"ternary\": {\"aaxis\": {\"gridcolor\": \"#DFE8F3\", \"linecolor\": \"#A2B1C6\", \"ticks\": \"\"}, \"baxis\": {\"gridcolor\": \"#DFE8F3\", \"linecolor\": \"#A2B1C6\", \"ticks\": \"\"}, \"bgcolor\": \"white\", \"caxis\": {\"gridcolor\": \"#DFE8F3\", \"linecolor\": \"#A2B1C6\", \"ticks\": \"\"}}, \"title\": {\"x\": 0.05}, \"xaxis\": {\"automargin\": true, \"gridcolor\": \"#EBF0F8\", \"linecolor\": \"#EBF0F8\", \"ticks\": \"\", \"title\": {\"standoff\": 15}, \"zerolinecolor\": \"#EBF0F8\", \"zerolinewidth\": 2}, \"yaxis\": {\"automargin\": true, \"gridcolor\": \"#EBF0F8\", \"linecolor\": \"#EBF0F8\", \"ticks\": \"\", \"title\": {\"standoff\": 15}, \"zerolinecolor\": \"#EBF0F8\", \"zerolinewidth\": 2}}}, \"width\": 800, \"xaxis\": {\"anchor\": \"y\", \"domain\": [0.0, 1.0], \"range\": [0.35, 0.65], \"title\": {\"text\": \"MW>OT                                              MW<OT\"}}, \"yaxis\": {\"anchor\": \"x\", \"domain\": [0.0, 1.0], \"range\": [0.25, 0.75], \"title\": {\"text\": \"VS>MCS                                              VS<MCS\"}}},                        {\"responsive\": true}                    ).then(function(){\n",
       "                            \n",
       "var gd = document.getElementById('81cf0064-3540-4137-9044-e803a3a8ff63');\n",
       "var x = new MutationObserver(function (mutations, observer) {{\n",
       "        var display = window.getComputedStyle(gd).display;\n",
       "        if (!display || display === 'none') {{\n",
       "            console.log([gd, 'removed!']);\n",
       "            Plotly.purge(gd);\n",
       "            observer.disconnect();\n",
       "        }}\n",
       "}});\n",
       "\n",
       "// Listen for the removal of the full notebook cells\n",
       "var notebookContainer = gd.closest('#notebook-container');\n",
       "if (notebookContainer) {{\n",
       "    x.observe(notebookContainer, {childList: true});\n",
       "}}\n",
       "\n",
       "// Listen for the clearing of the current output cell\n",
       "var outputEl = gd.closest('.output');\n",
       "if (outputEl) {{\n",
       "    x.observe(outputEl, {childList: true});\n",
       "}}\n",
       "\n",
       "                        })                };                });            </script>        </div>"
      ]
     },
     "metadata": {},
     "output_type": "display_data"
    }
   ],
   "source": [
    "fig = px.scatter(df_contrast.query(\"significant != 'Not significant'\"),x = 'AUC_mind', y = 'AUC_doc', template = \"plotly_white\", text = 'markers',\n",
    "                 color_discrete_sequence = [green,pink, orange, lblue],\n",
    "                 color = 'significant',\n",
    "                #symbol_sequence = ['circle-open','circle','hexagram' ],\n",
    "\n",
    "                 #category_orders = {'significant': ['p > 0.05','p < 0.05 uncorrected', 'p < 0.05 FDR corrected']}, \n",
    "                 labels = {'AUC_mind': f'MW>OT                                              MW<OT', \n",
    "                           'AUC_doc':'VS>MCS                                              VS<MCS'}\n",
    "\n",
    "                )\n",
    "\n",
    "fig.add_vline(x=0.5, line_width=2, line_dash=\"dash\", line_color=\"black\")\n",
    "fig.add_hline(y=0.5, line_width=2, line_dash=\"dash\", line_color=\"black\")\n",
    "\n",
    "fig.update_traces(marker=dict(size = 8))\n",
    "\n",
    "fig.update_layout(\n",
    "    autosize=False,\n",
    "    width=800,\n",
    "    height=800,\n",
    "    xaxis= {'range': (0.35, 0.65),\n",
    "            #'showticklabels': True,\n",
    "            #'tickmode': 'linear'\n",
    "           },\n",
    "    yaxis = {'range': (0.25, 0.75),\n",
    "            #'showticklabels': True,\n",
    "            #'tickmode': 'linear',\n",
    "        }\n",
    "\n",
    ")\n",
    "\n",
    "fig.show()"
   ]
  },
  {
   "cell_type": "markdown",
   "id": "physical-oxford",
   "metadata": {},
   "source": [
    " # HC vs MCS"
   ]
  },
  {
   "cell_type": "code",
   "execution_count": 120,
   "id": "specialized-provision",
   "metadata": {},
   "outputs": [],
   "source": [
    "classification = ['HC', 'MCS']\n",
    "\n",
    "#df = df.drop(erps, axis = 1)\n",
    "\n",
    "agg_dict = {k: [\"mean\", 'std'] for k in markers}\n",
    "agg_dict.update({k: \"first\" for k in df.drop(markers, axis=1).columns})\n",
    "\n",
    "df_doc = (\n",
    "    df.query(f\"category in {classification}\")\n",
    "    .groupby([\"participant\", 'category'], as_index=False)\n",
    "    .agg(agg_dict)\n",
    ")\n",
    "\n",
    "# df_doc.columns = df_doc.columns.map(\"_\".join)\n",
    "\n",
    "# df_doc = df_doc.rename(\n",
    "#    columns={\n",
    "#        \"participant_first\": \"participant\",\n",
    "#        \"category_first\": \"category\",\n",
    "#        \"cat_order_first\":\"cat_order\"\n",
    "#    }\n",
    "# ).drop([\"participant\"], axis=1)\n",
    "\n",
    "\n",
    "#### Use latex command for nmaes###\n",
    "##it slow downs the computer, just for final figures.\n",
    "\n",
    "df_doc = correct_name_markers(df_doc)\n",
    "\n",
    "df_doc.columns = df_doc.columns.map(\"$_{\".join).map(lambda x: x + '}$').map(lambda x: x.replace('$$', ''))\n",
    "\n",
    "df_doc  = (df_doc\n",
    "            .rename(columns = {'participant$_{first}$':'participant', 'category$_{first}$':'category', 'cat_order$_{first}$':'cat_order'})        \n",
    "            .drop(['participant'], axis = 1) \n",
    "           )"
   ]
  },
  {
   "cell_type": "code",
   "execution_count": 124,
   "id": "communist-sheffield",
   "metadata": {},
   "outputs": [
    {
     "name": "stdout",
     "output_type": "stream",
     "text": [
      "AUC $wSMI\\gamma_{mean}$ = 0.5229142185663925 MannwhitneyuResult(statistic=0.0, pvalue=6.372859058264791e-25)\n",
      "AUC $wSMI\\gamma_{std}$ = 0.3176654915785351 MannwhitneyuResult(statistic=0.0, pvalue=6.372859058264791e-25)\n",
      "AUC $wSMI\\beta_{mean}$ = 0.5863689776733255 MannwhitneyuResult(statistic=0.0, pvalue=6.372859058264791e-25)\n",
      "AUC $wSMI\\beta_{std}$ = 0.4571092831962398 MannwhitneyuResult(statistic=0.0, pvalue=6.372859058264791e-25)\n",
      "AUC $wSMI\\alpha_{mean}$ = 0.8127692910301606 MannwhitneyuResult(statistic=0.0, pvalue=6.372859058264791e-25)\n",
      "AUC $wSMI\\alpha_{std}$ = 0.7947512730121425 MannwhitneyuResult(statistic=0.0, pvalue=6.372859058264791e-25)\n",
      "AUC $wSMI\\theta_{mean}$ = 0.63650607128868 MannwhitneyuResult(statistic=0.0, pvalue=6.372859058264791e-25)\n",
      "AUC $wSMI\\theta_{std}$ = 0.6521739130434783 MannwhitneyuResult(statistic=0.0, pvalue=6.372859058264791e-25)\n",
      "AUC $PE\\gamma_{mean}$ = 0.4676850763807286 MannwhitneyuResult(statistic=0.0, pvalue=6.372859058264791e-25)\n",
      "AUC $PE\\gamma_{std}$ = 0.49980415197806505 MannwhitneyuResult(statistic=0.0, pvalue=6.372859058264791e-25)\n",
      "AUC $PE\\beta_{mean}$ = 0.4582843713278496 MannwhitneyuResult(statistic=0.0, pvalue=6.372859058264791e-25)\n",
      "AUC $PE\\beta_{std}$ = 0.4919702311006659 MannwhitneyuResult(statistic=0.0, pvalue=6.372859058264791e-25)\n",
      "AUC $PE\\alpha_{mean}$ = 0.7888758323540933 MannwhitneyuResult(statistic=0.0, pvalue=6.372859058264791e-25)\n",
      "AUC $PE\\alpha_{std}$ = 0.07951429690560124 MannwhitneyuResult(statistic=0.0, pvalue=6.372859058264791e-25)\n",
      "AUC $PE\\theta_{mean}$ = 0.9353701527614571 MannwhitneyuResult(statistic=0.0, pvalue=6.372859058264791e-25)\n",
      "AUC $PE\\theta_{std}$ = 0.30278104191147664 MannwhitneyuResult(statistic=0.0, pvalue=6.372859058264791e-25)\n",
      "AUC $K_{mean}$ = 0.8127692910301606 MannwhitneyuResult(statistic=0.0, pvalue=6.372859058264791e-25)\n",
      "AUC $K_{std}$ = 0.05797101449275364 MannwhitneyuResult(statistic=0.0, pvalue=6.372859058264791e-25)\n",
      "AUC $SE_{mean}$ = 0.37406972189580884 MannwhitneyuResult(statistic=0.0, pvalue=6.372859058264791e-25)\n",
      "AUC $SE_{std}$ = 0.3607520564042303 MannwhitneyuResult(statistic=1997.0, pvalue=0.022401627429270158)\n",
      "AUC $MSF_{mean}$ = 0.8245201723462593 MannwhitneyuResult(statistic=37.0, pvalue=3.0514541290066873e-24)\n",
      "AUC $MSF_{std}$ = 0.44888366627497056 MannwhitneyuResult(statistic=1801.0, pvalue=0.002439849902835795)\n",
      "AUC $SEF90_{mean}$ = 0.6529573051312182 MannwhitneyuResult(statistic=0.0, pvalue=6.372859058264791e-25)\n",
      "AUC $SEF90_{std}$ = 0.27732079905992946 MannwhitneyuResult(statistic=597.0, pvalue=3.6093871569591595e-15)\n",
      "AUC $SEF95_{mean}$ = 0.6466901684292988 MannwhitneyuResult(statistic=0.0, pvalue=6.372859058264791e-25)\n",
      "AUC $SEF95_{std}$ = 0.2526439482961222 MannwhitneyuResult(statistic=434.0, pvalue=1.4212850133300994e-17)\n",
      "AUC $\\beta_{mean}$ = 0.6572659616137877 MannwhitneyuResult(statistic=0.0, pvalue=6.372859058264791e-25)\n",
      "AUC $\\beta_{std}$ = 0.409322365844105 MannwhitneyuResult(statistic=1975.0, pvalue=0.01798649186580549)\n",
      "AUC $|\\beta|_{mean}$ = 0.745397571484528 MannwhitneyuResult(statistic=0.0, pvalue=6.372859058264791e-25)\n",
      "AUC $|\\beta|_{std}$ = 0.6122209165687427 MannwhitneyuResult(statistic=0.0, pvalue=6.372859058264791e-25)\n",
      "AUC $\\gamma_{mean}$ = 0.5142969056012534 MannwhitneyuResult(statistic=0.0, pvalue=6.372859058264791e-25)\n",
      "AUC $\\gamma_{std}$ = 0.19271445358401879 MannwhitneyuResult(statistic=2274.0, pvalue=0.19377976946640346)\n",
      "AUC $|\\gamma|_{mean}$ = 0.518605562083823 MannwhitneyuResult(statistic=0.0, pvalue=6.372859058264791e-25)\n",
      "AUC $|\\gamma|_{std}$ = 0.4175479827653741 MannwhitneyuResult(statistic=0.0, pvalue=6.372859058264791e-25)\n",
      "AUC $\\theta_{mean}$ = 0.26439482961222094 MannwhitneyuResult(statistic=0.0, pvalue=6.372859058264791e-25)\n",
      "AUC $\\theta_{std}$ = 0.5052878965922445 MannwhitneyuResult(statistic=2035.0, pvalue=0.03217323872064266)\n",
      "AUC $|\\theta|_{mean}$ = 0.19153936545240893 MannwhitneyuResult(statistic=0.0, pvalue=6.372859058264791e-25)\n",
      "AUC $|\\theta|_{std}$ = 0.23423423423423423 MannwhitneyuResult(statistic=0.0, pvalue=6.372859058264791e-25)\n",
      "AUC $\\delta_{mean}$ = 0.17783000391696044 MannwhitneyuResult(statistic=0.0, pvalue=6.372859058264791e-25)\n",
      "AUC $\\delta_{std}$ = 0.29338033685859777 MannwhitneyuResult(statistic=1122.0, pvalue=9.810826099610178e-09)\n",
      "AUC $|\\delta|_{mean}$ = 0.0881316098707403 MannwhitneyuResult(statistic=0.0, pvalue=6.372859058264791e-25)\n",
      "AUC $|\\delta|_{std}$ = 0.2346259302781042 MannwhitneyuResult(statistic=0.0, pvalue=6.372859058264791e-25)\n",
      "AUC $|\\alpha|_{mean}$ = 0.9600470035252644 MannwhitneyuResult(statistic=0.0, pvalue=6.372859058264791e-25)\n",
      "AUC $|\\alpha|_{std}$ = 0.9526047786917352 MannwhitneyuResult(statistic=0.0, pvalue=6.372859058264791e-25)\n",
      "AUC $\\alpha_{mean}$ = 0.7461809635722679 MannwhitneyuResult(statistic=0.0, pvalue=6.372859058264791e-25)\n",
      "AUC $\\alpha_{std}$ = 0.8468468468468469 MannwhitneyuResult(statistic=2159.0, pvalue=0.09039085601147401)\n"
     ]
    }
   ],
   "source": [
    "AUC = []\n",
    "pvalues = {}\n",
    "for i in df_doc.drop(['category', 'cat_order'], axis = 1).columns:\n",
    "    hc = df_doc.query(\"category == 'HC'\")[i]\n",
    "    mcs = df_doc.query(\"category == 'MCS'\")[i]\n",
    "    auc = roc_auc_score(df_doc['cat_order'], df_doc[i])\n",
    "    print(f'AUC {i} = {auc}', f'{mannwhitneyu(x = vs, y = mcs)}')\n",
    "    AUC.append([i, auc])\n",
    "    pvalues[i] = mannwhitneyu(x = vs, y = mcs).pvalue \n",
    "        \n",
    "roc_vs_mcs = pd.DataFrame(AUC, columns = ['markers', 'AUC'])\n",
    "\n",
    "p_df =pd.DataFrame.from_dict(pvalues, orient = 'index', columns = ['p_value']).reset_index().rename(columns ={'index': 'markers'})\n",
    "roc_vs_mcs = (roc_vs_mcs\n",
    "            .merge(p_df, on = 'markers', how = 'inner')\n",
    "            .assign(\n",
    "                    p_corrected = lambda df: multipletests(df.p_value, method = 'fdr_bh')[1],\n",
    "                    significant = lambda df: np.select([(df.p_value < 0.05) & (df.p_corrected < 0.05), (df.p_value < 0.05) & (df.p_corrected > 0.05),  \n",
    "                                                 (df.p_value > 0.05) & (df.p_corrected > 0.05)], ['p < 0.05 FDR corrected','p < 0.05 uncorrected', 'p > 0.05'])\n",
    "                   )\n",
    "           )\n"
   ]
  },
  {
   "cell_type": "markdown",
   "id": "valid-roommate",
   "metadata": {},
   "source": [
    "# DOC vs Mind"
   ]
  },
  {
   "cell_type": "code",
   "execution_count": 125,
   "id": "sporting-thesaurus",
   "metadata": {},
   "outputs": [],
   "source": [
    "df_contrast = (segment_mind_roc.merge(roc_vs_mcs, on = 'markers', suffixes=('_mind', '_doc'))\n",
    "               .assign(significant= lambda df: np.select([(df.significant_mind != \"p > 0.05\" )& (df.significant_doc == \"p > 0.05\"),\n",
    "                                                          (df.significant_mind == \"p > 0.05\" )& (df.significant_doc != \"p > 0.05\"),\n",
    "                                                         (df.significant_mind != \"p > 0.05\" )& (df.significant_doc != \"p > 0.05\"),\n",
    "                                                         (df.significant_mind == \"p > 0.05\" )& (df.significant_doc == \"p > 0.05\")],\n",
    "                                                         ['Significant mind', 'Significant DOC', 'Significant Both', 'Not significant']))\n",
    "              )"
   ]
  },
  {
   "cell_type": "code",
   "execution_count": 127,
   "id": "invalid-modem",
   "metadata": {},
   "outputs": [
    {
     "data": {
      "text/html": [
       "<div>\n",
       "<style scoped>\n",
       "    .dataframe tbody tr th:only-of-type {\n",
       "        vertical-align: middle;\n",
       "    }\n",
       "\n",
       "    .dataframe tbody tr th {\n",
       "        vertical-align: top;\n",
       "    }\n",
       "\n",
       "    .dataframe thead th {\n",
       "        text-align: right;\n",
       "    }\n",
       "</style>\n",
       "<table border=\"1\" class=\"dataframe\">\n",
       "  <thead>\n",
       "    <tr style=\"text-align: right;\">\n",
       "      <th></th>\n",
       "      <th>markers</th>\n",
       "      <th>AUC_mind</th>\n",
       "      <th>p_value_mind</th>\n",
       "      <th>p_corrected_mind</th>\n",
       "      <th>significant_mind</th>\n",
       "      <th>AUC_doc</th>\n",
       "      <th>p_value_doc</th>\n",
       "      <th>p_corrected_doc</th>\n",
       "      <th>significant_doc</th>\n",
       "      <th>significant</th>\n",
       "    </tr>\n",
       "  </thead>\n",
       "  <tbody>\n",
       "    <tr>\n",
       "      <th>0</th>\n",
       "      <td>$wSMI\\gamma_{mean}$</td>\n",
       "      <td>0.510768</td>\n",
       "      <td>0.403355</td>\n",
       "      <td>0.452498</td>\n",
       "      <td>p &gt; 0.05</td>\n",
       "      <td>0.522914</td>\n",
       "      <td>6.372859e-25</td>\n",
       "      <td>8.143098e-25</td>\n",
       "      <td>p &lt; 0.05 FDR corrected</td>\n",
       "      <td>Significant DOC</td>\n",
       "    </tr>\n",
       "    <tr>\n",
       "      <th>1</th>\n",
       "      <td>$wSMI\\gamma_{std}$</td>\n",
       "      <td>0.554619</td>\n",
       "      <td>0.106182</td>\n",
       "      <td>0.398317</td>\n",
       "      <td>p &gt; 0.05</td>\n",
       "      <td>0.317665</td>\n",
       "      <td>6.372859e-25</td>\n",
       "      <td>8.143098e-25</td>\n",
       "      <td>p &lt; 0.05 FDR corrected</td>\n",
       "      <td>Significant DOC</td>\n",
       "    </tr>\n",
       "    <tr>\n",
       "      <th>2</th>\n",
       "      <td>$wSMI\\beta_{mean}$</td>\n",
       "      <td>0.533212</td>\n",
       "      <td>0.224301</td>\n",
       "      <td>0.398317</td>\n",
       "      <td>p &gt; 0.05</td>\n",
       "      <td>0.586369</td>\n",
       "      <td>6.372859e-25</td>\n",
       "      <td>8.143098e-25</td>\n",
       "      <td>p &lt; 0.05 FDR corrected</td>\n",
       "      <td>Significant DOC</td>\n",
       "    </tr>\n",
       "    <tr>\n",
       "      <th>3</th>\n",
       "      <td>$wSMI\\beta_{std}$</td>\n",
       "      <td>0.457706</td>\n",
       "      <td>0.167185</td>\n",
       "      <td>0.398317</td>\n",
       "      <td>p &gt; 0.05</td>\n",
       "      <td>0.457109</td>\n",
       "      <td>6.372859e-25</td>\n",
       "      <td>8.143098e-25</td>\n",
       "      <td>p &lt; 0.05 FDR corrected</td>\n",
       "      <td>Significant DOC</td>\n",
       "    </tr>\n",
       "    <tr>\n",
       "      <th>4</th>\n",
       "      <td>$wSMI\\alpha_{mean}$</td>\n",
       "      <td>0.546445</td>\n",
       "      <td>0.144515</td>\n",
       "      <td>0.398317</td>\n",
       "      <td>p &gt; 0.05</td>\n",
       "      <td>0.812769</td>\n",
       "      <td>6.372859e-25</td>\n",
       "      <td>8.143098e-25</td>\n",
       "      <td>p &lt; 0.05 FDR corrected</td>\n",
       "      <td>Significant DOC</td>\n",
       "    </tr>\n",
       "    <tr>\n",
       "      <th>5</th>\n",
       "      <td>$wSMI\\alpha_{std}$</td>\n",
       "      <td>0.544499</td>\n",
       "      <td>0.154870</td>\n",
       "      <td>0.398317</td>\n",
       "      <td>p &gt; 0.05</td>\n",
       "      <td>0.794751</td>\n",
       "      <td>6.372859e-25</td>\n",
       "      <td>8.143098e-25</td>\n",
       "      <td>p &lt; 0.05 FDR corrected</td>\n",
       "      <td>Significant DOC</td>\n",
       "    </tr>\n",
       "    <tr>\n",
       "      <th>6</th>\n",
       "      <td>$wSMI\\theta_{mean}$</td>\n",
       "      <td>0.545926</td>\n",
       "      <td>0.147230</td>\n",
       "      <td>0.398317</td>\n",
       "      <td>p &gt; 0.05</td>\n",
       "      <td>0.636506</td>\n",
       "      <td>6.372859e-25</td>\n",
       "      <td>8.143098e-25</td>\n",
       "      <td>p &lt; 0.05 FDR corrected</td>\n",
       "      <td>Significant DOC</td>\n",
       "    </tr>\n",
       "    <tr>\n",
       "      <th>7</th>\n",
       "      <td>$wSMI\\theta_{std}$</td>\n",
       "      <td>0.491048</td>\n",
       "      <td>0.419508</td>\n",
       "      <td>0.452498</td>\n",
       "      <td>p &gt; 0.05</td>\n",
       "      <td>0.652174</td>\n",
       "      <td>6.372859e-25</td>\n",
       "      <td>8.143098e-25</td>\n",
       "      <td>p &lt; 0.05 FDR corrected</td>\n",
       "      <td>Significant DOC</td>\n",
       "    </tr>\n",
       "    <tr>\n",
       "      <th>8</th>\n",
       "      <td>$PE\\gamma_{mean}$</td>\n",
       "      <td>0.516476</td>\n",
       "      <td>0.353768</td>\n",
       "      <td>0.452498</td>\n",
       "      <td>p &gt; 0.05</td>\n",
       "      <td>0.467685</td>\n",
       "      <td>6.372859e-25</td>\n",
       "      <td>8.143098e-25</td>\n",
       "      <td>p &lt; 0.05 FDR corrected</td>\n",
       "      <td>Significant DOC</td>\n",
       "    </tr>\n",
       "    <tr>\n",
       "      <th>9</th>\n",
       "      <td>$PE\\gamma_{std}$</td>\n",
       "      <td>0.566295</td>\n",
       "      <td>0.065012</td>\n",
       "      <td>0.393676</td>\n",
       "      <td>p &gt; 0.05</td>\n",
       "      <td>0.499804</td>\n",
       "      <td>6.372859e-25</td>\n",
       "      <td>8.143098e-25</td>\n",
       "      <td>p &lt; 0.05 FDR corrected</td>\n",
       "      <td>Significant DOC</td>\n",
       "    </tr>\n",
       "    <tr>\n",
       "      <th>10</th>\n",
       "      <td>$PE\\beta_{mean}$</td>\n",
       "      <td>0.517903</td>\n",
       "      <td>0.341714</td>\n",
       "      <td>0.452498</td>\n",
       "      <td>p &gt; 0.05</td>\n",
       "      <td>0.458284</td>\n",
       "      <td>6.372859e-25</td>\n",
       "      <td>8.143098e-25</td>\n",
       "      <td>p &lt; 0.05 FDR corrected</td>\n",
       "      <td>Significant DOC</td>\n",
       "    </tr>\n",
       "    <tr>\n",
       "      <th>11</th>\n",
       "      <td>$PE\\beta_{std}$</td>\n",
       "      <td>0.547743</td>\n",
       "      <td>0.137876</td>\n",
       "      <td>0.398317</td>\n",
       "      <td>p &gt; 0.05</td>\n",
       "      <td>0.491970</td>\n",
       "      <td>6.372859e-25</td>\n",
       "      <td>8.143098e-25</td>\n",
       "      <td>p &lt; 0.05 FDR corrected</td>\n",
       "      <td>Significant DOC</td>\n",
       "    </tr>\n",
       "    <tr>\n",
       "      <th>12</th>\n",
       "      <td>$PE\\alpha_{mean}$</td>\n",
       "      <td>0.428905</td>\n",
       "      <td>0.052215</td>\n",
       "      <td>0.393676</td>\n",
       "      <td>p &gt; 0.05</td>\n",
       "      <td>0.788876</td>\n",
       "      <td>6.372859e-25</td>\n",
       "      <td>8.143098e-25</td>\n",
       "      <td>p &lt; 0.05 FDR corrected</td>\n",
       "      <td>Significant DOC</td>\n",
       "    </tr>\n",
       "    <tr>\n",
       "      <th>13</th>\n",
       "      <td>$PE\\alpha_{std}$</td>\n",
       "      <td>0.522055</td>\n",
       "      <td>0.307590</td>\n",
       "      <td>0.430216</td>\n",
       "      <td>p &gt; 0.05</td>\n",
       "      <td>0.079514</td>\n",
       "      <td>6.372859e-25</td>\n",
       "      <td>8.143098e-25</td>\n",
       "      <td>p &lt; 0.05 FDR corrected</td>\n",
       "      <td>Significant DOC</td>\n",
       "    </tr>\n",
       "    <tr>\n",
       "      <th>14</th>\n",
       "      <td>$PE\\theta_{mean}$</td>\n",
       "      <td>0.466139</td>\n",
       "      <td>0.219887</td>\n",
       "      <td>0.398317</td>\n",
       "      <td>p &gt; 0.05</td>\n",
       "      <td>0.935370</td>\n",
       "      <td>6.372859e-25</td>\n",
       "      <td>8.143098e-25</td>\n",
       "      <td>p &lt; 0.05 FDR corrected</td>\n",
       "      <td>Significant DOC</td>\n",
       "    </tr>\n",
       "    <tr>\n",
       "      <th>15</th>\n",
       "      <td>$PE\\theta_{std}$</td>\n",
       "      <td>0.515568</td>\n",
       "      <td>0.361517</td>\n",
       "      <td>0.452498</td>\n",
       "      <td>p &gt; 0.05</td>\n",
       "      <td>0.302781</td>\n",
       "      <td>6.372859e-25</td>\n",
       "      <td>8.143098e-25</td>\n",
       "      <td>p &lt; 0.05 FDR corrected</td>\n",
       "      <td>Significant DOC</td>\n",
       "    </tr>\n",
       "    <tr>\n",
       "      <th>16</th>\n",
       "      <td>$K_{mean}$</td>\n",
       "      <td>0.464517</td>\n",
       "      <td>0.209071</td>\n",
       "      <td>0.398317</td>\n",
       "      <td>p &gt; 0.05</td>\n",
       "      <td>0.812769</td>\n",
       "      <td>6.372859e-25</td>\n",
       "      <td>8.143098e-25</td>\n",
       "      <td>p &lt; 0.05 FDR corrected</td>\n",
       "      <td>Significant DOC</td>\n",
       "    </tr>\n",
       "    <tr>\n",
       "      <th>17</th>\n",
       "      <td>$K_{std}$</td>\n",
       "      <td>0.580695</td>\n",
       "      <td>0.032649</td>\n",
       "      <td>0.375467</td>\n",
       "      <td>p &lt; 0.05 uncorrected</td>\n",
       "      <td>0.057971</td>\n",
       "      <td>6.372859e-25</td>\n",
       "      <td>8.143098e-25</td>\n",
       "      <td>p &lt; 0.05 FDR corrected</td>\n",
       "      <td>Significant Both</td>\n",
       "    </tr>\n",
       "    <tr>\n",
       "      <th>18</th>\n",
       "      <td>$SE_{mean}$</td>\n",
       "      <td>0.444992</td>\n",
       "      <td>0.104560</td>\n",
       "      <td>0.398317</td>\n",
       "      <td>p &gt; 0.05</td>\n",
       "      <td>0.374070</td>\n",
       "      <td>6.372859e-25</td>\n",
       "      <td>8.143098e-25</td>\n",
       "      <td>p &lt; 0.05 FDR corrected</td>\n",
       "      <td>Significant DOC</td>\n",
       "    </tr>\n",
       "    <tr>\n",
       "      <th>19</th>\n",
       "      <td>$SE_{std}$</td>\n",
       "      <td>0.565127</td>\n",
       "      <td>0.068465</td>\n",
       "      <td>0.393676</td>\n",
       "      <td>p &gt; 0.05</td>\n",
       "      <td>0.360752</td>\n",
       "      <td>2.240163e-02</td>\n",
       "      <td>2.396453e-02</td>\n",
       "      <td>p &lt; 0.05 FDR corrected</td>\n",
       "      <td>Significant DOC</td>\n",
       "    </tr>\n",
       "    <tr>\n",
       "      <th>20</th>\n",
       "      <td>$MSF_{mean}$</td>\n",
       "      <td>0.434354</td>\n",
       "      <td>0.066913</td>\n",
       "      <td>0.393676</td>\n",
       "      <td>p &gt; 0.05</td>\n",
       "      <td>0.824520</td>\n",
       "      <td>3.051454e-24</td>\n",
       "      <td>3.793700e-24</td>\n",
       "      <td>p &lt; 0.05 FDR corrected</td>\n",
       "      <td>Significant DOC</td>\n",
       "    </tr>\n",
       "    <tr>\n",
       "      <th>21</th>\n",
       "      <td>$MSF_{std}$</td>\n",
       "      <td>0.537104</td>\n",
       "      <td>0.198576</td>\n",
       "      <td>0.398317</td>\n",
       "      <td>p &gt; 0.05</td>\n",
       "      <td>0.448884</td>\n",
       "      <td>2.439850e-03</td>\n",
       "      <td>2.737393e-03</td>\n",
       "      <td>p &lt; 0.05 FDR corrected</td>\n",
       "      <td>Significant DOC</td>\n",
       "    </tr>\n",
       "    <tr>\n",
       "      <th>22</th>\n",
       "      <td>$SEF90_{mean}$</td>\n",
       "      <td>0.473145</td>\n",
       "      <td>0.270128</td>\n",
       "      <td>0.408145</td>\n",
       "      <td>p &gt; 0.05</td>\n",
       "      <td>0.652957</td>\n",
       "      <td>6.372859e-25</td>\n",
       "      <td>8.143098e-25</td>\n",
       "      <td>p &lt; 0.05 FDR corrected</td>\n",
       "      <td>Significant DOC</td>\n",
       "    </tr>\n",
       "    <tr>\n",
       "      <th>23</th>\n",
       "      <td>$SEF90_{std}$</td>\n",
       "      <td>0.536456</td>\n",
       "      <td>0.202735</td>\n",
       "      <td>0.398317</td>\n",
       "      <td>p &gt; 0.05</td>\n",
       "      <td>0.277321</td>\n",
       "      <td>3.609387e-15</td>\n",
       "      <td>4.257226e-15</td>\n",
       "      <td>p &lt; 0.05 FDR corrected</td>\n",
       "      <td>Significant DOC</td>\n",
       "    </tr>\n",
       "    <tr>\n",
       "      <th>24</th>\n",
       "      <td>$SEF95_{mean}$</td>\n",
       "      <td>0.486767</td>\n",
       "      <td>0.381699</td>\n",
       "      <td>0.452498</td>\n",
       "      <td>p &gt; 0.05</td>\n",
       "      <td>0.646690</td>\n",
       "      <td>6.372859e-25</td>\n",
       "      <td>8.143098e-25</td>\n",
       "      <td>p &lt; 0.05 FDR corrected</td>\n",
       "      <td>Significant DOC</td>\n",
       "    </tr>\n",
       "    <tr>\n",
       "      <th>25</th>\n",
       "      <td>$SEF95_{std}$</td>\n",
       "      <td>0.521925</td>\n",
       "      <td>0.308634</td>\n",
       "      <td>0.430216</td>\n",
       "      <td>p &gt; 0.05</td>\n",
       "      <td>0.252644</td>\n",
       "      <td>1.421285e-17</td>\n",
       "      <td>1.720503e-17</td>\n",
       "      <td>p &lt; 0.05 FDR corrected</td>\n",
       "      <td>Significant DOC</td>\n",
       "    </tr>\n",
       "    <tr>\n",
       "      <th>26</th>\n",
       "      <td>$\\beta_{mean}$</td>\n",
       "      <td>0.442398</td>\n",
       "      <td>0.094204</td>\n",
       "      <td>0.398317</td>\n",
       "      <td>p &gt; 0.05</td>\n",
       "      <td>0.657266</td>\n",
       "      <td>6.372859e-25</td>\n",
       "      <td>8.143098e-25</td>\n",
       "      <td>p &lt; 0.05 FDR corrected</td>\n",
       "      <td>Significant DOC</td>\n",
       "    </tr>\n",
       "    <tr>\n",
       "      <th>27</th>\n",
       "      <td>$\\beta_{std}$</td>\n",
       "      <td>0.503762</td>\n",
       "      <td>0.466320</td>\n",
       "      <td>0.476683</td>\n",
       "      <td>p &gt; 0.05</td>\n",
       "      <td>0.409322</td>\n",
       "      <td>1.798649e-02</td>\n",
       "      <td>1.969949e-02</td>\n",
       "      <td>p &lt; 0.05 FDR corrected</td>\n",
       "      <td>Significant DOC</td>\n",
       "    </tr>\n",
       "    <tr>\n",
       "      <th>28</th>\n",
       "      <td>$|\\beta|_{mean}$</td>\n",
       "      <td>0.415023</td>\n",
       "      <td>0.026124</td>\n",
       "      <td>0.375467</td>\n",
       "      <td>p &lt; 0.05 uncorrected</td>\n",
       "      <td>0.745398</td>\n",
       "      <td>6.372859e-25</td>\n",
       "      <td>8.143098e-25</td>\n",
       "      <td>p &lt; 0.05 FDR corrected</td>\n",
       "      <td>Significant Both</td>\n",
       "    </tr>\n",
       "    <tr>\n",
       "      <th>29</th>\n",
       "      <td>$|\\beta|_{std}$</td>\n",
       "      <td>0.512714</td>\n",
       "      <td>0.386230</td>\n",
       "      <td>0.452498</td>\n",
       "      <td>p &gt; 0.05</td>\n",
       "      <td>0.612221</td>\n",
       "      <td>6.372859e-25</td>\n",
       "      <td>8.143098e-25</td>\n",
       "      <td>p &lt; 0.05 FDR corrected</td>\n",
       "      <td>Significant DOC</td>\n",
       "    </tr>\n",
       "    <tr>\n",
       "      <th>30</th>\n",
       "      <td>$\\gamma_{mean}$</td>\n",
       "      <td>0.467177</td>\n",
       "      <td>0.226974</td>\n",
       "      <td>0.398317</td>\n",
       "      <td>p &gt; 0.05</td>\n",
       "      <td>0.514297</td>\n",
       "      <td>6.372859e-25</td>\n",
       "      <td>8.143098e-25</td>\n",
       "      <td>p &lt; 0.05 FDR corrected</td>\n",
       "      <td>Significant DOC</td>\n",
       "    </tr>\n",
       "    <tr>\n",
       "      <th>31</th>\n",
       "      <td>$\\gamma_{std}$</td>\n",
       "      <td>0.548391</td>\n",
       "      <td>0.134636</td>\n",
       "      <td>0.398317</td>\n",
       "      <td>p &gt; 0.05</td>\n",
       "      <td>0.192714</td>\n",
       "      <td>1.937798e-01</td>\n",
       "      <td>1.937798e-01</td>\n",
       "      <td>p &gt; 0.05</td>\n",
       "      <td>Not significant</td>\n",
       "    </tr>\n",
       "    <tr>\n",
       "      <th>32</th>\n",
       "      <td>$|\\gamma|_{mean}$</td>\n",
       "      <td>0.493383</td>\n",
       "      <td>0.440473</td>\n",
       "      <td>0.460495</td>\n",
       "      <td>p &gt; 0.05</td>\n",
       "      <td>0.518606</td>\n",
       "      <td>6.372859e-25</td>\n",
       "      <td>8.143098e-25</td>\n",
       "      <td>p &lt; 0.05 FDR corrected</td>\n",
       "      <td>Significant DOC</td>\n",
       "    </tr>\n",
       "    <tr>\n",
       "      <th>33</th>\n",
       "      <td>$|\\gamma|_{std}$</td>\n",
       "      <td>0.534250</td>\n",
       "      <td>0.217262</td>\n",
       "      <td>0.398317</td>\n",
       "      <td>p &gt; 0.05</td>\n",
       "      <td>0.417548</td>\n",
       "      <td>6.372859e-25</td>\n",
       "      <td>8.143098e-25</td>\n",
       "      <td>p &lt; 0.05 FDR corrected</td>\n",
       "      <td>Significant DOC</td>\n",
       "    </tr>\n",
       "    <tr>\n",
       "      <th>34</th>\n",
       "      <td>$\\theta_{mean}$</td>\n",
       "      <td>0.531396</td>\n",
       "      <td>0.236926</td>\n",
       "      <td>0.398317</td>\n",
       "      <td>p &gt; 0.05</td>\n",
       "      <td>0.264395</td>\n",
       "      <td>6.372859e-25</td>\n",
       "      <td>8.143098e-25</td>\n",
       "      <td>p &lt; 0.05 FDR corrected</td>\n",
       "      <td>Significant DOC</td>\n",
       "    </tr>\n",
       "    <tr>\n",
       "      <th>35</th>\n",
       "      <td>$\\theta_{std}$</td>\n",
       "      <td>0.530618</td>\n",
       "      <td>0.242454</td>\n",
       "      <td>0.398317</td>\n",
       "      <td>p &gt; 0.05</td>\n",
       "      <td>0.505288</td>\n",
       "      <td>3.217324e-02</td>\n",
       "      <td>3.363566e-02</td>\n",
       "      <td>p &lt; 0.05 FDR corrected</td>\n",
       "      <td>Significant DOC</td>\n",
       "    </tr>\n",
       "    <tr>\n",
       "      <th>36</th>\n",
       "      <td>$|\\theta|_{mean}$</td>\n",
       "      <td>0.611702</td>\n",
       "      <td>0.005355</td>\n",
       "      <td>0.246331</td>\n",
       "      <td>p &lt; 0.05 uncorrected</td>\n",
       "      <td>0.191539</td>\n",
       "      <td>6.372859e-25</td>\n",
       "      <td>8.143098e-25</td>\n",
       "      <td>p &lt; 0.05 FDR corrected</td>\n",
       "      <td>Significant Both</td>\n",
       "    </tr>\n",
       "    <tr>\n",
       "      <th>37</th>\n",
       "      <td>$|\\theta|_{std}$</td>\n",
       "      <td>0.599637</td>\n",
       "      <td>0.011417</td>\n",
       "      <td>0.262588</td>\n",
       "      <td>p &lt; 0.05 uncorrected</td>\n",
       "      <td>0.234234</td>\n",
       "      <td>6.372859e-25</td>\n",
       "      <td>8.143098e-25</td>\n",
       "      <td>p &lt; 0.05 FDR corrected</td>\n",
       "      <td>Significant Both</td>\n",
       "    </tr>\n",
       "    <tr>\n",
       "      <th>38</th>\n",
       "      <td>$\\delta_{mean}$</td>\n",
       "      <td>0.508563</td>\n",
       "      <td>0.422988</td>\n",
       "      <td>0.452498</td>\n",
       "      <td>p &gt; 0.05</td>\n",
       "      <td>0.177830</td>\n",
       "      <td>6.372859e-25</td>\n",
       "      <td>8.143098e-25</td>\n",
       "      <td>p &lt; 0.05 FDR corrected</td>\n",
       "      <td>Significant DOC</td>\n",
       "    </tr>\n",
       "    <tr>\n",
       "      <th>39</th>\n",
       "      <td>$\\delta_{std}$</td>\n",
       "      <td>0.463544</td>\n",
       "      <td>0.202735</td>\n",
       "      <td>0.398317</td>\n",
       "      <td>p &gt; 0.05</td>\n",
       "      <td>0.293380</td>\n",
       "      <td>9.810826e-09</td>\n",
       "      <td>1.128245e-08</td>\n",
       "      <td>p &lt; 0.05 FDR corrected</td>\n",
       "      <td>Significant DOC</td>\n",
       "    </tr>\n",
       "    <tr>\n",
       "      <th>40</th>\n",
       "      <td>$|\\delta|_{mean}$</td>\n",
       "      <td>0.509990</td>\n",
       "      <td>0.410259</td>\n",
       "      <td>0.452498</td>\n",
       "      <td>p &gt; 0.05</td>\n",
       "      <td>0.088132</td>\n",
       "      <td>6.372859e-25</td>\n",
       "      <td>8.143098e-25</td>\n",
       "      <td>p &lt; 0.05 FDR corrected</td>\n",
       "      <td>Significant DOC</td>\n",
       "    </tr>\n",
       "    <tr>\n",
       "      <th>41</th>\n",
       "      <td>$|\\delta|_{std}$</td>\n",
       "      <td>0.490919</td>\n",
       "      <td>0.418349</td>\n",
       "      <td>0.452498</td>\n",
       "      <td>p &gt; 0.05</td>\n",
       "      <td>0.234626</td>\n",
       "      <td>6.372859e-25</td>\n",
       "      <td>8.143098e-25</td>\n",
       "      <td>p &lt; 0.05 FDR corrected</td>\n",
       "      <td>Significant DOC</td>\n",
       "    </tr>\n",
       "    <tr>\n",
       "      <th>42</th>\n",
       "      <td>$|\\alpha|_{mean}$</td>\n",
       "      <td>0.452128</td>\n",
       "      <td>0.137224</td>\n",
       "      <td>0.398317</td>\n",
       "      <td>p &gt; 0.05</td>\n",
       "      <td>0.960047</td>\n",
       "      <td>6.372859e-25</td>\n",
       "      <td>8.143098e-25</td>\n",
       "      <td>p &lt; 0.05 FDR corrected</td>\n",
       "      <td>Significant DOC</td>\n",
       "    </tr>\n",
       "    <tr>\n",
       "      <th>43</th>\n",
       "      <td>$|\\alpha|_{std}$</td>\n",
       "      <td>0.499870</td>\n",
       "      <td>0.499408</td>\n",
       "      <td>0.499408</td>\n",
       "      <td>p &gt; 0.05</td>\n",
       "      <td>0.952605</td>\n",
       "      <td>6.372859e-25</td>\n",
       "      <td>8.143098e-25</td>\n",
       "      <td>p &lt; 0.05 FDR corrected</td>\n",
       "      <td>Significant DOC</td>\n",
       "    </tr>\n",
       "    <tr>\n",
       "      <th>44</th>\n",
       "      <td>$\\alpha_{mean}$</td>\n",
       "      <td>0.473793</td>\n",
       "      <td>0.275055</td>\n",
       "      <td>0.408145</td>\n",
       "      <td>p &gt; 0.05</td>\n",
       "      <td>0.746181</td>\n",
       "      <td>6.372859e-25</td>\n",
       "      <td>8.143098e-25</td>\n",
       "      <td>p &lt; 0.05 FDR corrected</td>\n",
       "      <td>Significant DOC</td>\n",
       "    </tr>\n",
       "    <tr>\n",
       "      <th>45</th>\n",
       "      <td>$\\alpha_{std}$</td>\n",
       "      <td>0.472366</td>\n",
       "      <td>0.264275</td>\n",
       "      <td>0.408145</td>\n",
       "      <td>p &gt; 0.05</td>\n",
       "      <td>0.846847</td>\n",
       "      <td>9.039086e-02</td>\n",
       "      <td>9.239954e-02</td>\n",
       "      <td>p &gt; 0.05</td>\n",
       "      <td>Not significant</td>\n",
       "    </tr>\n",
       "  </tbody>\n",
       "</table>\n",
       "</div>"
      ],
      "text/plain": [
       "                markers  AUC_mind  p_value_mind  p_corrected_mind  \\\n",
       "0   $wSMI\\gamma_{mean}$  0.510768      0.403355          0.452498   \n",
       "1    $wSMI\\gamma_{std}$  0.554619      0.106182          0.398317   \n",
       "2    $wSMI\\beta_{mean}$  0.533212      0.224301          0.398317   \n",
       "3     $wSMI\\beta_{std}$  0.457706      0.167185          0.398317   \n",
       "4   $wSMI\\alpha_{mean}$  0.546445      0.144515          0.398317   \n",
       "5    $wSMI\\alpha_{std}$  0.544499      0.154870          0.398317   \n",
       "6   $wSMI\\theta_{mean}$  0.545926      0.147230          0.398317   \n",
       "7    $wSMI\\theta_{std}$  0.491048      0.419508          0.452498   \n",
       "8     $PE\\gamma_{mean}$  0.516476      0.353768          0.452498   \n",
       "9      $PE\\gamma_{std}$  0.566295      0.065012          0.393676   \n",
       "10     $PE\\beta_{mean}$  0.517903      0.341714          0.452498   \n",
       "11      $PE\\beta_{std}$  0.547743      0.137876          0.398317   \n",
       "12    $PE\\alpha_{mean}$  0.428905      0.052215          0.393676   \n",
       "13     $PE\\alpha_{std}$  0.522055      0.307590          0.430216   \n",
       "14    $PE\\theta_{mean}$  0.466139      0.219887          0.398317   \n",
       "15     $PE\\theta_{std}$  0.515568      0.361517          0.452498   \n",
       "16           $K_{mean}$  0.464517      0.209071          0.398317   \n",
       "17            $K_{std}$  0.580695      0.032649          0.375467   \n",
       "18          $SE_{mean}$  0.444992      0.104560          0.398317   \n",
       "19           $SE_{std}$  0.565127      0.068465          0.393676   \n",
       "20         $MSF_{mean}$  0.434354      0.066913          0.393676   \n",
       "21          $MSF_{std}$  0.537104      0.198576          0.398317   \n",
       "22       $SEF90_{mean}$  0.473145      0.270128          0.408145   \n",
       "23        $SEF90_{std}$  0.536456      0.202735          0.398317   \n",
       "24       $SEF95_{mean}$  0.486767      0.381699          0.452498   \n",
       "25        $SEF95_{std}$  0.521925      0.308634          0.430216   \n",
       "26       $\\beta_{mean}$  0.442398      0.094204          0.398317   \n",
       "27        $\\beta_{std}$  0.503762      0.466320          0.476683   \n",
       "28     $|\\beta|_{mean}$  0.415023      0.026124          0.375467   \n",
       "29      $|\\beta|_{std}$  0.512714      0.386230          0.452498   \n",
       "30      $\\gamma_{mean}$  0.467177      0.226974          0.398317   \n",
       "31       $\\gamma_{std}$  0.548391      0.134636          0.398317   \n",
       "32    $|\\gamma|_{mean}$  0.493383      0.440473          0.460495   \n",
       "33     $|\\gamma|_{std}$  0.534250      0.217262          0.398317   \n",
       "34      $\\theta_{mean}$  0.531396      0.236926          0.398317   \n",
       "35       $\\theta_{std}$  0.530618      0.242454          0.398317   \n",
       "36    $|\\theta|_{mean}$  0.611702      0.005355          0.246331   \n",
       "37     $|\\theta|_{std}$  0.599637      0.011417          0.262588   \n",
       "38      $\\delta_{mean}$  0.508563      0.422988          0.452498   \n",
       "39       $\\delta_{std}$  0.463544      0.202735          0.398317   \n",
       "40    $|\\delta|_{mean}$  0.509990      0.410259          0.452498   \n",
       "41     $|\\delta|_{std}$  0.490919      0.418349          0.452498   \n",
       "42    $|\\alpha|_{mean}$  0.452128      0.137224          0.398317   \n",
       "43     $|\\alpha|_{std}$  0.499870      0.499408          0.499408   \n",
       "44      $\\alpha_{mean}$  0.473793      0.275055          0.408145   \n",
       "45       $\\alpha_{std}$  0.472366      0.264275          0.408145   \n",
       "\n",
       "        significant_mind   AUC_doc   p_value_doc  p_corrected_doc  \\\n",
       "0               p > 0.05  0.522914  6.372859e-25     8.143098e-25   \n",
       "1               p > 0.05  0.317665  6.372859e-25     8.143098e-25   \n",
       "2               p > 0.05  0.586369  6.372859e-25     8.143098e-25   \n",
       "3               p > 0.05  0.457109  6.372859e-25     8.143098e-25   \n",
       "4               p > 0.05  0.812769  6.372859e-25     8.143098e-25   \n",
       "5               p > 0.05  0.794751  6.372859e-25     8.143098e-25   \n",
       "6               p > 0.05  0.636506  6.372859e-25     8.143098e-25   \n",
       "7               p > 0.05  0.652174  6.372859e-25     8.143098e-25   \n",
       "8               p > 0.05  0.467685  6.372859e-25     8.143098e-25   \n",
       "9               p > 0.05  0.499804  6.372859e-25     8.143098e-25   \n",
       "10              p > 0.05  0.458284  6.372859e-25     8.143098e-25   \n",
       "11              p > 0.05  0.491970  6.372859e-25     8.143098e-25   \n",
       "12              p > 0.05  0.788876  6.372859e-25     8.143098e-25   \n",
       "13              p > 0.05  0.079514  6.372859e-25     8.143098e-25   \n",
       "14              p > 0.05  0.935370  6.372859e-25     8.143098e-25   \n",
       "15              p > 0.05  0.302781  6.372859e-25     8.143098e-25   \n",
       "16              p > 0.05  0.812769  6.372859e-25     8.143098e-25   \n",
       "17  p < 0.05 uncorrected  0.057971  6.372859e-25     8.143098e-25   \n",
       "18              p > 0.05  0.374070  6.372859e-25     8.143098e-25   \n",
       "19              p > 0.05  0.360752  2.240163e-02     2.396453e-02   \n",
       "20              p > 0.05  0.824520  3.051454e-24     3.793700e-24   \n",
       "21              p > 0.05  0.448884  2.439850e-03     2.737393e-03   \n",
       "22              p > 0.05  0.652957  6.372859e-25     8.143098e-25   \n",
       "23              p > 0.05  0.277321  3.609387e-15     4.257226e-15   \n",
       "24              p > 0.05  0.646690  6.372859e-25     8.143098e-25   \n",
       "25              p > 0.05  0.252644  1.421285e-17     1.720503e-17   \n",
       "26              p > 0.05  0.657266  6.372859e-25     8.143098e-25   \n",
       "27              p > 0.05  0.409322  1.798649e-02     1.969949e-02   \n",
       "28  p < 0.05 uncorrected  0.745398  6.372859e-25     8.143098e-25   \n",
       "29              p > 0.05  0.612221  6.372859e-25     8.143098e-25   \n",
       "30              p > 0.05  0.514297  6.372859e-25     8.143098e-25   \n",
       "31              p > 0.05  0.192714  1.937798e-01     1.937798e-01   \n",
       "32              p > 0.05  0.518606  6.372859e-25     8.143098e-25   \n",
       "33              p > 0.05  0.417548  6.372859e-25     8.143098e-25   \n",
       "34              p > 0.05  0.264395  6.372859e-25     8.143098e-25   \n",
       "35              p > 0.05  0.505288  3.217324e-02     3.363566e-02   \n",
       "36  p < 0.05 uncorrected  0.191539  6.372859e-25     8.143098e-25   \n",
       "37  p < 0.05 uncorrected  0.234234  6.372859e-25     8.143098e-25   \n",
       "38              p > 0.05  0.177830  6.372859e-25     8.143098e-25   \n",
       "39              p > 0.05  0.293380  9.810826e-09     1.128245e-08   \n",
       "40              p > 0.05  0.088132  6.372859e-25     8.143098e-25   \n",
       "41              p > 0.05  0.234626  6.372859e-25     8.143098e-25   \n",
       "42              p > 0.05  0.960047  6.372859e-25     8.143098e-25   \n",
       "43              p > 0.05  0.952605  6.372859e-25     8.143098e-25   \n",
       "44              p > 0.05  0.746181  6.372859e-25     8.143098e-25   \n",
       "45              p > 0.05  0.846847  9.039086e-02     9.239954e-02   \n",
       "\n",
       "           significant_doc       significant  \n",
       "0   p < 0.05 FDR corrected   Significant DOC  \n",
       "1   p < 0.05 FDR corrected   Significant DOC  \n",
       "2   p < 0.05 FDR corrected   Significant DOC  \n",
       "3   p < 0.05 FDR corrected   Significant DOC  \n",
       "4   p < 0.05 FDR corrected   Significant DOC  \n",
       "5   p < 0.05 FDR corrected   Significant DOC  \n",
       "6   p < 0.05 FDR corrected   Significant DOC  \n",
       "7   p < 0.05 FDR corrected   Significant DOC  \n",
       "8   p < 0.05 FDR corrected   Significant DOC  \n",
       "9   p < 0.05 FDR corrected   Significant DOC  \n",
       "10  p < 0.05 FDR corrected   Significant DOC  \n",
       "11  p < 0.05 FDR corrected   Significant DOC  \n",
       "12  p < 0.05 FDR corrected   Significant DOC  \n",
       "13  p < 0.05 FDR corrected   Significant DOC  \n",
       "14  p < 0.05 FDR corrected   Significant DOC  \n",
       "15  p < 0.05 FDR corrected   Significant DOC  \n",
       "16  p < 0.05 FDR corrected   Significant DOC  \n",
       "17  p < 0.05 FDR corrected  Significant Both  \n",
       "18  p < 0.05 FDR corrected   Significant DOC  \n",
       "19  p < 0.05 FDR corrected   Significant DOC  \n",
       "20  p < 0.05 FDR corrected   Significant DOC  \n",
       "21  p < 0.05 FDR corrected   Significant DOC  \n",
       "22  p < 0.05 FDR corrected   Significant DOC  \n",
       "23  p < 0.05 FDR corrected   Significant DOC  \n",
       "24  p < 0.05 FDR corrected   Significant DOC  \n",
       "25  p < 0.05 FDR corrected   Significant DOC  \n",
       "26  p < 0.05 FDR corrected   Significant DOC  \n",
       "27  p < 0.05 FDR corrected   Significant DOC  \n",
       "28  p < 0.05 FDR corrected  Significant Both  \n",
       "29  p < 0.05 FDR corrected   Significant DOC  \n",
       "30  p < 0.05 FDR corrected   Significant DOC  \n",
       "31                p > 0.05   Not significant  \n",
       "32  p < 0.05 FDR corrected   Significant DOC  \n",
       "33  p < 0.05 FDR corrected   Significant DOC  \n",
       "34  p < 0.05 FDR corrected   Significant DOC  \n",
       "35  p < 0.05 FDR corrected   Significant DOC  \n",
       "36  p < 0.05 FDR corrected  Significant Both  \n",
       "37  p < 0.05 FDR corrected  Significant Both  \n",
       "38  p < 0.05 FDR corrected   Significant DOC  \n",
       "39  p < 0.05 FDR corrected   Significant DOC  \n",
       "40  p < 0.05 FDR corrected   Significant DOC  \n",
       "41  p < 0.05 FDR corrected   Significant DOC  \n",
       "42  p < 0.05 FDR corrected   Significant DOC  \n",
       "43  p < 0.05 FDR corrected   Significant DOC  \n",
       "44  p < 0.05 FDR corrected   Significant DOC  \n",
       "45                p > 0.05   Not significant  "
      ]
     },
     "execution_count": 127,
     "metadata": {},
     "output_type": "execute_result"
    }
   ],
   "source": [
    "df_contrast"
   ]
  },
  {
   "cell_type": "code",
   "execution_count": 132,
   "id": "happy-clause",
   "metadata": {},
   "outputs": [
    {
     "data": {
      "application/vnd.plotly.v1+json": {
       "config": {
        "plotlyServerURL": "https://plot.ly"
       },
       "data": [
        {
         "hovertemplate": "significant=Significant DOC<br>MW>OT                                       MW<OT=%{x}<br>VS>MCS                                       VS<MCS=%{y}<br>markers=%{text}<extra></extra>",
         "legendgroup": "Significant DOC",
         "marker": {
          "color": "#9AC529",
          "size": 8,
          "symbol": "circle"
         },
         "mode": "markers+text",
         "name": "Significant DOC",
         "orientation": "v",
         "showlegend": true,
         "text": [
          "$wSMI\\gamma_{mean}$",
          "$wSMI\\gamma_{std}$",
          "$wSMI\\beta_{mean}$",
          "$wSMI\\beta_{std}$",
          "$wSMI\\alpha_{mean}$",
          "$wSMI\\alpha_{std}$",
          "$wSMI\\theta_{mean}$",
          "$wSMI\\theta_{std}$",
          "$PE\\gamma_{mean}$",
          "$PE\\gamma_{std}$",
          "$PE\\beta_{mean}$",
          "$PE\\beta_{std}$",
          "$PE\\alpha_{mean}$",
          "$PE\\alpha_{std}$",
          "$PE\\theta_{mean}$",
          "$PE\\theta_{std}$",
          "$K_{mean}$",
          "$SE_{mean}$",
          "$SE_{std}$",
          "$MSF_{mean}$",
          "$MSF_{std}$",
          "$SEF90_{mean}$",
          "$SEF90_{std}$",
          "$SEF95_{mean}$",
          "$SEF95_{std}$",
          "$\\beta_{mean}$",
          "$\\beta_{std}$",
          "$|\\beta|_{std}$",
          "$\\gamma_{mean}$",
          "$|\\gamma|_{mean}$",
          "$|\\gamma|_{std}$",
          "$\\theta_{mean}$",
          "$\\theta_{std}$",
          "$\\delta_{mean}$",
          "$\\delta_{std}$",
          "$|\\delta|_{mean}$",
          "$|\\delta|_{std}$",
          "$|\\alpha|_{mean}$",
          "$|\\alpha|_{std}$",
          "$\\alpha_{mean}$"
         ],
         "type": "scatter",
         "x": [
          0.5107680332122471,
          0.5546185781006746,
          0.5332122470160872,
          0.4577062791904515,
          0.5464452516865594,
          0.5444992215879606,
          0.5459263103269332,
          0.4910482615464452,
          0.516476388168137,
          0.5662947586922678,
          0.5179034769071095,
          0.5477426050856252,
          0.42890503373118843,
          0.5220550077841204,
          0.4661390762843799,
          0.5155682407887909,
          0.4645173845355475,
          0.4449922158796056,
          0.5651271406331084,
          0.43435391800726514,
          0.537104307213285,
          0.4731447846393358,
          0.5364556305137519,
          0.4867669953295278,
          0.5219252724442138,
          0.4423975090814738,
          0.5037623248572911,
          0.5127140633108459,
          0.46717695900363254,
          0.49338349766476386,
          0.5342501297353399,
          0.5313959522573949,
          0.5306175402179554,
          0.5085625324338349,
          0.4635443694862481,
          0.5099896211728074,
          0.49091852620653864,
          0.4521276595744681,
          0.4998702646600934,
          0.4737934613388687
         ],
         "xaxis": "x",
         "y": [
          0.5229142185663925,
          0.3176654915785351,
          0.5863689776733255,
          0.4571092831962398,
          0.8127692910301606,
          0.7947512730121425,
          0.63650607128868,
          0.6521739130434783,
          0.4676850763807286,
          0.49980415197806505,
          0.4582843713278496,
          0.4919702311006659,
          0.7888758323540933,
          0.07951429690560124,
          0.9353701527614571,
          0.30278104191147664,
          0.8127692910301606,
          0.37406972189580884,
          0.3607520564042303,
          0.8245201723462593,
          0.44888366627497056,
          0.6529573051312182,
          0.27732079905992946,
          0.6466901684292988,
          0.2526439482961222,
          0.6572659616137877,
          0.409322365844105,
          0.6122209165687427,
          0.5142969056012534,
          0.518605562083823,
          0.4175479827653741,
          0.26439482961222094,
          0.5052878965922445,
          0.17783000391696044,
          0.29338033685859777,
          0.0881316098707403,
          0.2346259302781042,
          0.9600470035252644,
          0.9526047786917352,
          0.7461809635722679
         ],
         "yaxis": "y"
        },
        {
         "hovertemplate": "significant=Significant Both<br>MW>OT                                       MW<OT=%{x}<br>VS>MCS                                       VS<MCS=%{y}<br>markers=%{text}<extra></extra>",
         "legendgroup": "Significant Both",
         "marker": {
          "color": "#F38A31",
          "size": 8,
          "symbol": "circle"
         },
         "mode": "markers+text",
         "name": "Significant Both",
         "orientation": "v",
         "showlegend": true,
         "text": [
          "$K_{std}$",
          "$|\\beta|_{mean}$",
          "$|\\theta|_{mean}$",
          "$|\\theta|_{std}$"
         ],
         "type": "scatter",
         "x": [
          0.5806953814218994,
          0.4150233523611832,
          0.6117021276595744,
          0.5996367410482616
         ],
         "xaxis": "x",
         "y": [
          0.05797101449275364,
          0.745397571484528,
          0.19153936545240893,
          0.23423423423423423
         ],
         "yaxis": "y"
        }
       ],
       "layout": {
        "autosize": false,
        "height": 800,
        "legend": {
         "title": {
          "text": "significant"
         },
         "tracegroupgap": 0
        },
        "margin": {
         "t": 60
        },
        "shapes": [
         {
          "line": {
           "color": "black",
           "dash": "dash",
           "width": 2
          },
          "type": "line",
          "x0": 0.5,
          "x1": 0.5,
          "xref": "x",
          "y0": 0,
          "y1": 1,
          "yref": "y domain"
         },
         {
          "line": {
           "color": "black",
           "dash": "dash",
           "width": 2
          },
          "type": "line",
          "x0": 0,
          "x1": 1,
          "xref": "x domain",
          "y0": 0.5,
          "y1": 0.5,
          "yref": "y"
         }
        ],
        "template": {
         "data": {
          "bar": [
           {
            "error_x": {
             "color": "#2a3f5f"
            },
            "error_y": {
             "color": "#2a3f5f"
            },
            "marker": {
             "line": {
              "color": "white",
              "width": 0.5
             }
            },
            "type": "bar"
           }
          ],
          "barpolar": [
           {
            "marker": {
             "line": {
              "color": "white",
              "width": 0.5
             }
            },
            "type": "barpolar"
           }
          ],
          "carpet": [
           {
            "aaxis": {
             "endlinecolor": "#2a3f5f",
             "gridcolor": "#C8D4E3",
             "linecolor": "#C8D4E3",
             "minorgridcolor": "#C8D4E3",
             "startlinecolor": "#2a3f5f"
            },
            "baxis": {
             "endlinecolor": "#2a3f5f",
             "gridcolor": "#C8D4E3",
             "linecolor": "#C8D4E3",
             "minorgridcolor": "#C8D4E3",
             "startlinecolor": "#2a3f5f"
            },
            "type": "carpet"
           }
          ],
          "choropleth": [
           {
            "colorbar": {
             "outlinewidth": 0,
             "ticks": ""
            },
            "type": "choropleth"
           }
          ],
          "contour": [
           {
            "colorbar": {
             "outlinewidth": 0,
             "ticks": ""
            },
            "colorscale": [
             [
              0,
              "#0d0887"
             ],
             [
              0.1111111111111111,
              "#46039f"
             ],
             [
              0.2222222222222222,
              "#7201a8"
             ],
             [
              0.3333333333333333,
              "#9c179e"
             ],
             [
              0.4444444444444444,
              "#bd3786"
             ],
             [
              0.5555555555555556,
              "#d8576b"
             ],
             [
              0.6666666666666666,
              "#ed7953"
             ],
             [
              0.7777777777777778,
              "#fb9f3a"
             ],
             [
              0.8888888888888888,
              "#fdca26"
             ],
             [
              1,
              "#f0f921"
             ]
            ],
            "type": "contour"
           }
          ],
          "contourcarpet": [
           {
            "colorbar": {
             "outlinewidth": 0,
             "ticks": ""
            },
            "type": "contourcarpet"
           }
          ],
          "heatmap": [
           {
            "colorbar": {
             "outlinewidth": 0,
             "ticks": ""
            },
            "colorscale": [
             [
              0,
              "#0d0887"
             ],
             [
              0.1111111111111111,
              "#46039f"
             ],
             [
              0.2222222222222222,
              "#7201a8"
             ],
             [
              0.3333333333333333,
              "#9c179e"
             ],
             [
              0.4444444444444444,
              "#bd3786"
             ],
             [
              0.5555555555555556,
              "#d8576b"
             ],
             [
              0.6666666666666666,
              "#ed7953"
             ],
             [
              0.7777777777777778,
              "#fb9f3a"
             ],
             [
              0.8888888888888888,
              "#fdca26"
             ],
             [
              1,
              "#f0f921"
             ]
            ],
            "type": "heatmap"
           }
          ],
          "heatmapgl": [
           {
            "colorbar": {
             "outlinewidth": 0,
             "ticks": ""
            },
            "colorscale": [
             [
              0,
              "#0d0887"
             ],
             [
              0.1111111111111111,
              "#46039f"
             ],
             [
              0.2222222222222222,
              "#7201a8"
             ],
             [
              0.3333333333333333,
              "#9c179e"
             ],
             [
              0.4444444444444444,
              "#bd3786"
             ],
             [
              0.5555555555555556,
              "#d8576b"
             ],
             [
              0.6666666666666666,
              "#ed7953"
             ],
             [
              0.7777777777777778,
              "#fb9f3a"
             ],
             [
              0.8888888888888888,
              "#fdca26"
             ],
             [
              1,
              "#f0f921"
             ]
            ],
            "type": "heatmapgl"
           }
          ],
          "histogram": [
           {
            "marker": {
             "colorbar": {
              "outlinewidth": 0,
              "ticks": ""
             }
            },
            "type": "histogram"
           }
          ],
          "histogram2d": [
           {
            "colorbar": {
             "outlinewidth": 0,
             "ticks": ""
            },
            "colorscale": [
             [
              0,
              "#0d0887"
             ],
             [
              0.1111111111111111,
              "#46039f"
             ],
             [
              0.2222222222222222,
              "#7201a8"
             ],
             [
              0.3333333333333333,
              "#9c179e"
             ],
             [
              0.4444444444444444,
              "#bd3786"
             ],
             [
              0.5555555555555556,
              "#d8576b"
             ],
             [
              0.6666666666666666,
              "#ed7953"
             ],
             [
              0.7777777777777778,
              "#fb9f3a"
             ],
             [
              0.8888888888888888,
              "#fdca26"
             ],
             [
              1,
              "#f0f921"
             ]
            ],
            "type": "histogram2d"
           }
          ],
          "histogram2dcontour": [
           {
            "colorbar": {
             "outlinewidth": 0,
             "ticks": ""
            },
            "colorscale": [
             [
              0,
              "#0d0887"
             ],
             [
              0.1111111111111111,
              "#46039f"
             ],
             [
              0.2222222222222222,
              "#7201a8"
             ],
             [
              0.3333333333333333,
              "#9c179e"
             ],
             [
              0.4444444444444444,
              "#bd3786"
             ],
             [
              0.5555555555555556,
              "#d8576b"
             ],
             [
              0.6666666666666666,
              "#ed7953"
             ],
             [
              0.7777777777777778,
              "#fb9f3a"
             ],
             [
              0.8888888888888888,
              "#fdca26"
             ],
             [
              1,
              "#f0f921"
             ]
            ],
            "type": "histogram2dcontour"
           }
          ],
          "mesh3d": [
           {
            "colorbar": {
             "outlinewidth": 0,
             "ticks": ""
            },
            "type": "mesh3d"
           }
          ],
          "parcoords": [
           {
            "line": {
             "colorbar": {
              "outlinewidth": 0,
              "ticks": ""
             }
            },
            "type": "parcoords"
           }
          ],
          "pie": [
           {
            "automargin": true,
            "type": "pie"
           }
          ],
          "scatter": [
           {
            "marker": {
             "colorbar": {
              "outlinewidth": 0,
              "ticks": ""
             }
            },
            "type": "scatter"
           }
          ],
          "scatter3d": [
           {
            "line": {
             "colorbar": {
              "outlinewidth": 0,
              "ticks": ""
             }
            },
            "marker": {
             "colorbar": {
              "outlinewidth": 0,
              "ticks": ""
             }
            },
            "type": "scatter3d"
           }
          ],
          "scattercarpet": [
           {
            "marker": {
             "colorbar": {
              "outlinewidth": 0,
              "ticks": ""
             }
            },
            "type": "scattercarpet"
           }
          ],
          "scattergeo": [
           {
            "marker": {
             "colorbar": {
              "outlinewidth": 0,
              "ticks": ""
             }
            },
            "type": "scattergeo"
           }
          ],
          "scattergl": [
           {
            "marker": {
             "colorbar": {
              "outlinewidth": 0,
              "ticks": ""
             }
            },
            "type": "scattergl"
           }
          ],
          "scattermapbox": [
           {
            "marker": {
             "colorbar": {
              "outlinewidth": 0,
              "ticks": ""
             }
            },
            "type": "scattermapbox"
           }
          ],
          "scatterpolar": [
           {
            "marker": {
             "colorbar": {
              "outlinewidth": 0,
              "ticks": ""
             }
            },
            "type": "scatterpolar"
           }
          ],
          "scatterpolargl": [
           {
            "marker": {
             "colorbar": {
              "outlinewidth": 0,
              "ticks": ""
             }
            },
            "type": "scatterpolargl"
           }
          ],
          "scatterternary": [
           {
            "marker": {
             "colorbar": {
              "outlinewidth": 0,
              "ticks": ""
             }
            },
            "type": "scatterternary"
           }
          ],
          "surface": [
           {
            "colorbar": {
             "outlinewidth": 0,
             "ticks": ""
            },
            "colorscale": [
             [
              0,
              "#0d0887"
             ],
             [
              0.1111111111111111,
              "#46039f"
             ],
             [
              0.2222222222222222,
              "#7201a8"
             ],
             [
              0.3333333333333333,
              "#9c179e"
             ],
             [
              0.4444444444444444,
              "#bd3786"
             ],
             [
              0.5555555555555556,
              "#d8576b"
             ],
             [
              0.6666666666666666,
              "#ed7953"
             ],
             [
              0.7777777777777778,
              "#fb9f3a"
             ],
             [
              0.8888888888888888,
              "#fdca26"
             ],
             [
              1,
              "#f0f921"
             ]
            ],
            "type": "surface"
           }
          ],
          "table": [
           {
            "cells": {
             "fill": {
              "color": "#EBF0F8"
             },
             "line": {
              "color": "white"
             }
            },
            "header": {
             "fill": {
              "color": "#C8D4E3"
             },
             "line": {
              "color": "white"
             }
            },
            "type": "table"
           }
          ]
         },
         "layout": {
          "annotationdefaults": {
           "arrowcolor": "#2a3f5f",
           "arrowhead": 0,
           "arrowwidth": 1
          },
          "autotypenumbers": "strict",
          "coloraxis": {
           "colorbar": {
            "outlinewidth": 0,
            "ticks": ""
           }
          },
          "colorscale": {
           "diverging": [
            [
             0,
             "#8e0152"
            ],
            [
             0.1,
             "#c51b7d"
            ],
            [
             0.2,
             "#de77ae"
            ],
            [
             0.3,
             "#f1b6da"
            ],
            [
             0.4,
             "#fde0ef"
            ],
            [
             0.5,
             "#f7f7f7"
            ],
            [
             0.6,
             "#e6f5d0"
            ],
            [
             0.7,
             "#b8e186"
            ],
            [
             0.8,
             "#7fbc41"
            ],
            [
             0.9,
             "#4d9221"
            ],
            [
             1,
             "#276419"
            ]
           ],
           "sequential": [
            [
             0,
             "#0d0887"
            ],
            [
             0.1111111111111111,
             "#46039f"
            ],
            [
             0.2222222222222222,
             "#7201a8"
            ],
            [
             0.3333333333333333,
             "#9c179e"
            ],
            [
             0.4444444444444444,
             "#bd3786"
            ],
            [
             0.5555555555555556,
             "#d8576b"
            ],
            [
             0.6666666666666666,
             "#ed7953"
            ],
            [
             0.7777777777777778,
             "#fb9f3a"
            ],
            [
             0.8888888888888888,
             "#fdca26"
            ],
            [
             1,
             "#f0f921"
            ]
           ],
           "sequentialminus": [
            [
             0,
             "#0d0887"
            ],
            [
             0.1111111111111111,
             "#46039f"
            ],
            [
             0.2222222222222222,
             "#7201a8"
            ],
            [
             0.3333333333333333,
             "#9c179e"
            ],
            [
             0.4444444444444444,
             "#bd3786"
            ],
            [
             0.5555555555555556,
             "#d8576b"
            ],
            [
             0.6666666666666666,
             "#ed7953"
            ],
            [
             0.7777777777777778,
             "#fb9f3a"
            ],
            [
             0.8888888888888888,
             "#fdca26"
            ],
            [
             1,
             "#f0f921"
            ]
           ]
          },
          "colorway": [
           "#636efa",
           "#EF553B",
           "#00cc96",
           "#ab63fa",
           "#FFA15A",
           "#19d3f3",
           "#FF6692",
           "#B6E880",
           "#FF97FF",
           "#FECB52"
          ],
          "font": {
           "color": "#2a3f5f"
          },
          "geo": {
           "bgcolor": "white",
           "lakecolor": "white",
           "landcolor": "white",
           "showlakes": true,
           "showland": true,
           "subunitcolor": "#C8D4E3"
          },
          "hoverlabel": {
           "align": "left"
          },
          "hovermode": "closest",
          "mapbox": {
           "style": "light"
          },
          "paper_bgcolor": "white",
          "plot_bgcolor": "white",
          "polar": {
           "angularaxis": {
            "gridcolor": "#EBF0F8",
            "linecolor": "#EBF0F8",
            "ticks": ""
           },
           "bgcolor": "white",
           "radialaxis": {
            "gridcolor": "#EBF0F8",
            "linecolor": "#EBF0F8",
            "ticks": ""
           }
          },
          "scene": {
           "xaxis": {
            "backgroundcolor": "white",
            "gridcolor": "#DFE8F3",
            "gridwidth": 2,
            "linecolor": "#EBF0F8",
            "showbackground": true,
            "ticks": "",
            "zerolinecolor": "#EBF0F8"
           },
           "yaxis": {
            "backgroundcolor": "white",
            "gridcolor": "#DFE8F3",
            "gridwidth": 2,
            "linecolor": "#EBF0F8",
            "showbackground": true,
            "ticks": "",
            "zerolinecolor": "#EBF0F8"
           },
           "zaxis": {
            "backgroundcolor": "white",
            "gridcolor": "#DFE8F3",
            "gridwidth": 2,
            "linecolor": "#EBF0F8",
            "showbackground": true,
            "ticks": "",
            "zerolinecolor": "#EBF0F8"
           }
          },
          "shapedefaults": {
           "line": {
            "color": "#2a3f5f"
           }
          },
          "ternary": {
           "aaxis": {
            "gridcolor": "#DFE8F3",
            "linecolor": "#A2B1C6",
            "ticks": ""
           },
           "baxis": {
            "gridcolor": "#DFE8F3",
            "linecolor": "#A2B1C6",
            "ticks": ""
           },
           "bgcolor": "white",
           "caxis": {
            "gridcolor": "#DFE8F3",
            "linecolor": "#A2B1C6",
            "ticks": ""
           }
          },
          "title": {
           "x": 0.05
          },
          "xaxis": {
           "automargin": true,
           "gridcolor": "#EBF0F8",
           "linecolor": "#EBF0F8",
           "ticks": "",
           "title": {
            "standoff": 15
           },
           "zerolinecolor": "#EBF0F8",
           "zerolinewidth": 2
          },
          "yaxis": {
           "automargin": true,
           "gridcolor": "#EBF0F8",
           "linecolor": "#EBF0F8",
           "ticks": "",
           "title": {
            "standoff": 15
           },
           "zerolinecolor": "#EBF0F8",
           "zerolinewidth": 2
          }
         }
        },
        "width": 800,
        "xaxis": {
         "anchor": "y",
         "domain": [
          0,
          1
         ],
         "range": [
          0.35,
          0.65
         ],
         "title": {
          "text": "MW>OT                                       MW<OT"
         },
         "type": "linear"
        },
        "yaxis": {
         "anchor": "x",
         "domain": [
          0,
          1
         ],
         "range": [
          0,
          1
         ],
         "title": {
          "text": "VS>MCS                                       VS<MCS"
         },
         "type": "linear"
        }
       }
      },
      "image/png": "[encoded data removed]",
      "text/html": [
       "<div>                            <div id=\"5e01517e-c801-4823-979d-8ccb8f2d045f\" class=\"plotly-graph-div\" style=\"height:800px; width:800px;\"></div>            <script type=\"text/javascript\">                require([\"plotly\"], function(Plotly) {                    window.PLOTLYENV=window.PLOTLYENV || {};                                    if (document.getElementById(\"5e01517e-c801-4823-979d-8ccb8f2d045f\")) {                    Plotly.newPlot(                        \"5e01517e-c801-4823-979d-8ccb8f2d045f\",                        [{\"hovertemplate\": \"significant=Significant DOC<br>MW>OT                                       MW<OT=%{x}<br>VS>MCS                                       VS<MCS=%{y}<br>markers=%{text}<extra></extra>\", \"legendgroup\": \"Significant DOC\", \"marker\": {\"color\": \"#9AC529\", \"size\": 8, \"symbol\": \"circle\"}, \"mode\": \"markers+text\", \"name\": \"Significant DOC\", \"orientation\": \"v\", \"showlegend\": true, \"text\": [\"$wSMI\\\\gamma_{mean}$\", \"$wSMI\\\\gamma_{std}$\", \"$wSMI\\\\beta_{mean}$\", \"$wSMI\\\\beta_{std}$\", \"$wSMI\\\\alpha_{mean}$\", \"$wSMI\\\\alpha_{std}$\", \"$wSMI\\\\theta_{mean}$\", \"$wSMI\\\\theta_{std}$\", \"$PE\\\\gamma_{mean}$\", \"$PE\\\\gamma_{std}$\", \"$PE\\\\beta_{mean}$\", \"$PE\\\\beta_{std}$\", \"$PE\\\\alpha_{mean}$\", \"$PE\\\\alpha_{std}$\", \"$PE\\\\theta_{mean}$\", \"$PE\\\\theta_{std}$\", \"$K_{mean}$\", \"$SE_{mean}$\", \"$SE_{std}$\", \"$MSF_{mean}$\", \"$MSF_{std}$\", \"$SEF90_{mean}$\", \"$SEF90_{std}$\", \"$SEF95_{mean}$\", \"$SEF95_{std}$\", \"$\\\\beta_{mean}$\", \"$\\\\beta_{std}$\", \"$|\\\\beta|_{std}$\", \"$\\\\gamma_{mean}$\", \"$|\\\\gamma|_{mean}$\", \"$|\\\\gamma|_{std}$\", \"$\\\\theta_{mean}$\", \"$\\\\theta_{std}$\", \"$\\\\delta_{mean}$\", \"$\\\\delta_{std}$\", \"$|\\\\delta|_{mean}$\", \"$|\\\\delta|_{std}$\", \"$|\\\\alpha|_{mean}$\", \"$|\\\\alpha|_{std}$\", \"$\\\\alpha_{mean}$\"], \"type\": \"scatter\", \"x\": [0.5107680332122471, 0.5546185781006746, 0.5332122470160872, 0.4577062791904515, 0.5464452516865594, 0.5444992215879606, 0.5459263103269332, 0.4910482615464452, 0.516476388168137, 0.5662947586922678, 0.5179034769071095, 0.5477426050856252, 0.42890503373118843, 0.5220550077841204, 0.4661390762843799, 0.5155682407887909, 0.4645173845355475, 0.4449922158796056, 0.5651271406331084, 0.43435391800726514, 0.537104307213285, 0.4731447846393358, 0.5364556305137519, 0.4867669953295278, 0.5219252724442138, 0.4423975090814738, 0.5037623248572911, 0.5127140633108459, 0.46717695900363254, 0.49338349766476386, 0.5342501297353399, 0.5313959522573949, 0.5306175402179554, 0.5085625324338349, 0.4635443694862481, 0.5099896211728074, 0.49091852620653864, 0.4521276595744681, 0.4998702646600934, 0.4737934613388687], \"xaxis\": \"x\", \"y\": [0.5229142185663925, 0.3176654915785351, 0.5863689776733255, 0.4571092831962398, 0.8127692910301606, 0.7947512730121425, 0.63650607128868, 0.6521739130434783, 0.4676850763807286, 0.49980415197806505, 0.4582843713278496, 0.4919702311006659, 0.7888758323540933, 0.07951429690560124, 0.9353701527614571, 0.30278104191147664, 0.8127692910301606, 0.37406972189580884, 0.3607520564042303, 0.8245201723462593, 0.44888366627497056, 0.6529573051312182, 0.27732079905992946, 0.6466901684292988, 0.2526439482961222, 0.6572659616137877, 0.409322365844105, 0.6122209165687427, 0.5142969056012534, 0.518605562083823, 0.4175479827653741, 0.26439482961222094, 0.5052878965922445, 0.17783000391696044, 0.29338033685859777, 0.0881316098707403, 0.2346259302781042, 0.9600470035252644, 0.9526047786917352, 0.7461809635722679], \"yaxis\": \"y\"}, {\"hovertemplate\": \"significant=Significant Both<br>MW>OT                                       MW<OT=%{x}<br>VS>MCS                                       VS<MCS=%{y}<br>markers=%{text}<extra></extra>\", \"legendgroup\": \"Significant Both\", \"marker\": {\"color\": \"#F38A31\", \"size\": 8, \"symbol\": \"circle\"}, \"mode\": \"markers+text\", \"name\": \"Significant Both\", \"orientation\": \"v\", \"showlegend\": true, \"text\": [\"$K_{std}$\", \"$|\\\\beta|_{mean}$\", \"$|\\\\theta|_{mean}$\", \"$|\\\\theta|_{std}$\"], \"type\": \"scatter\", \"x\": [0.5806953814218994, 0.4150233523611832, 0.6117021276595744, 0.5996367410482616], \"xaxis\": \"x\", \"y\": [0.05797101449275364, 0.745397571484528, 0.19153936545240893, 0.23423423423423423], \"yaxis\": \"y\"}],                        {\"autosize\": false, \"height\": 800, \"legend\": {\"title\": {\"text\": \"significant\"}, \"tracegroupgap\": 0}, \"margin\": {\"t\": 60}, \"shapes\": [{\"line\": {\"color\": \"black\", \"dash\": \"dash\", \"width\": 2}, \"type\": \"line\", \"x0\": 0.5, \"x1\": 0.5, \"xref\": \"x\", \"y0\": 0, \"y1\": 1, \"yref\": \"y domain\"}, {\"line\": {\"color\": \"black\", \"dash\": \"dash\", \"width\": 2}, \"type\": \"line\", \"x0\": 0, \"x1\": 1, \"xref\": \"x domain\", \"y0\": 0.5, \"y1\": 0.5, \"yref\": \"y\"}], \"template\": {\"data\": {\"bar\": [{\"error_x\": {\"color\": \"#2a3f5f\"}, \"error_y\": {\"color\": \"#2a3f5f\"}, \"marker\": {\"line\": {\"color\": \"white\", \"width\": 0.5}}, \"type\": \"bar\"}], \"barpolar\": [{\"marker\": {\"line\": {\"color\": \"white\", \"width\": 0.5}}, \"type\": \"barpolar\"}], \"carpet\": [{\"aaxis\": {\"endlinecolor\": \"#2a3f5f\", \"gridcolor\": \"#C8D4E3\", \"linecolor\": \"#C8D4E3\", \"minorgridcolor\": \"#C8D4E3\", \"startlinecolor\": \"#2a3f5f\"}, \"baxis\": {\"endlinecolor\": \"#2a3f5f\", \"gridcolor\": \"#C8D4E3\", \"linecolor\": \"#C8D4E3\", \"minorgridcolor\": \"#C8D4E3\", \"startlinecolor\": \"#2a3f5f\"}, \"type\": \"carpet\"}], \"choropleth\": [{\"colorbar\": {\"outlinewidth\": 0, \"ticks\": \"\"}, \"type\": \"choropleth\"}], \"contour\": [{\"colorbar\": {\"outlinewidth\": 0, \"ticks\": \"\"}, \"colorscale\": [[0.0, \"#0d0887\"], [0.1111111111111111, \"#46039f\"], [0.2222222222222222, \"#7201a8\"], [0.3333333333333333, \"#9c179e\"], [0.4444444444444444, \"#bd3786\"], [0.5555555555555556, \"#d8576b\"], [0.6666666666666666, \"#ed7953\"], [0.7777777777777778, \"#fb9f3a\"], [0.8888888888888888, \"#fdca26\"], [1.0, \"#f0f921\"]], \"type\": \"contour\"}], \"contourcarpet\": [{\"colorbar\": {\"outlinewidth\": 0, \"ticks\": \"\"}, \"type\": \"contourcarpet\"}], \"heatmap\": [{\"colorbar\": {\"outlinewidth\": 0, \"ticks\": \"\"}, \"colorscale\": [[0.0, \"#0d0887\"], [0.1111111111111111, \"#46039f\"], [0.2222222222222222, \"#7201a8\"], [0.3333333333333333, \"#9c179e\"], [0.4444444444444444, \"#bd3786\"], [0.5555555555555556, \"#d8576b\"], [0.6666666666666666, \"#ed7953\"], [0.7777777777777778, \"#fb9f3a\"], [0.8888888888888888, \"#fdca26\"], [1.0, \"#f0f921\"]], \"type\": \"heatmap\"}], \"heatmapgl\": [{\"colorbar\": {\"outlinewidth\": 0, \"ticks\": \"\"}, \"colorscale\": [[0.0, \"#0d0887\"], [0.1111111111111111, \"#46039f\"], [0.2222222222222222, \"#7201a8\"], [0.3333333333333333, \"#9c179e\"], [0.4444444444444444, \"#bd3786\"], [0.5555555555555556, \"#d8576b\"], [0.6666666666666666, \"#ed7953\"], [0.7777777777777778, \"#fb9f3a\"], [0.8888888888888888, \"#fdca26\"], [1.0, \"#f0f921\"]], \"type\": \"heatmapgl\"}], \"histogram\": [{\"marker\": {\"colorbar\": {\"outlinewidth\": 0, \"ticks\": \"\"}}, \"type\": \"histogram\"}], \"histogram2d\": [{\"colorbar\": {\"outlinewidth\": 0, \"ticks\": \"\"}, \"colorscale\": [[0.0, \"#0d0887\"], [0.1111111111111111, \"#46039f\"], [0.2222222222222222, \"#7201a8\"], [0.3333333333333333, \"#9c179e\"], [0.4444444444444444, \"#bd3786\"], [0.5555555555555556, \"#d8576b\"], [0.6666666666666666, \"#ed7953\"], [0.7777777777777778, \"#fb9f3a\"], [0.8888888888888888, \"#fdca26\"], [1.0, \"#f0f921\"]], \"type\": \"histogram2d\"}], \"histogram2dcontour\": [{\"colorbar\": {\"outlinewidth\": 0, \"ticks\": \"\"}, \"colorscale\": [[0.0, \"#0d0887\"], [0.1111111111111111, \"#46039f\"], [0.2222222222222222, \"#7201a8\"], [0.3333333333333333, \"#9c179e\"], [0.4444444444444444, \"#bd3786\"], [0.5555555555555556, \"#d8576b\"], [0.6666666666666666, \"#ed7953\"], [0.7777777777777778, \"#fb9f3a\"], [0.8888888888888888, \"#fdca26\"], [1.0, \"#f0f921\"]], \"type\": \"histogram2dcontour\"}], \"mesh3d\": [{\"colorbar\": {\"outlinewidth\": 0, \"ticks\": \"\"}, \"type\": \"mesh3d\"}], \"parcoords\": [{\"line\": {\"colorbar\": {\"outlinewidth\": 0, \"ticks\": \"\"}}, \"type\": \"parcoords\"}], \"pie\": [{\"automargin\": true, \"type\": \"pie\"}], \"scatter\": [{\"marker\": {\"colorbar\": {\"outlinewidth\": 0, \"ticks\": \"\"}}, \"type\": \"scatter\"}], \"scatter3d\": [{\"line\": {\"colorbar\": {\"outlinewidth\": 0, \"ticks\": \"\"}}, \"marker\": {\"colorbar\": {\"outlinewidth\": 0, \"ticks\": \"\"}}, \"type\": \"scatter3d\"}], \"scattercarpet\": [{\"marker\": {\"colorbar\": {\"outlinewidth\": 0, \"ticks\": \"\"}}, \"type\": \"scattercarpet\"}], \"scattergeo\": [{\"marker\": {\"colorbar\": {\"outlinewidth\": 0, \"ticks\": \"\"}}, \"type\": \"scattergeo\"}], \"scattergl\": [{\"marker\": {\"colorbar\": {\"outlinewidth\": 0, \"ticks\": \"\"}}, \"type\": \"scattergl\"}], \"scattermapbox\": [{\"marker\": {\"colorbar\": {\"outlinewidth\": 0, \"ticks\": \"\"}}, \"type\": \"scattermapbox\"}], \"scatterpolar\": [{\"marker\": {\"colorbar\": {\"outlinewidth\": 0, \"ticks\": \"\"}}, \"type\": \"scatterpolar\"}], \"scatterpolargl\": [{\"marker\": {\"colorbar\": {\"outlinewidth\": 0, \"ticks\": \"\"}}, \"type\": \"scatterpolargl\"}], \"scatterternary\": [{\"marker\": {\"colorbar\": {\"outlinewidth\": 0, \"ticks\": \"\"}}, \"type\": \"scatterternary\"}], \"surface\": [{\"colorbar\": {\"outlinewidth\": 0, \"ticks\": \"\"}, \"colorscale\": [[0.0, \"#0d0887\"], [0.1111111111111111, \"#46039f\"], [0.2222222222222222, \"#7201a8\"], [0.3333333333333333, \"#9c179e\"], [0.4444444444444444, \"#bd3786\"], [0.5555555555555556, \"#d8576b\"], [0.6666666666666666, \"#ed7953\"], [0.7777777777777778, \"#fb9f3a\"], [0.8888888888888888, \"#fdca26\"], [1.0, \"#f0f921\"]], \"type\": \"surface\"}], \"table\": [{\"cells\": {\"fill\": {\"color\": \"#EBF0F8\"}, \"line\": {\"color\": \"white\"}}, \"header\": {\"fill\": {\"color\": \"#C8D4E3\"}, \"line\": {\"color\": \"white\"}}, \"type\": \"table\"}]}, \"layout\": {\"annotationdefaults\": {\"arrowcolor\": \"#2a3f5f\", \"arrowhead\": 0, \"arrowwidth\": 1}, \"autotypenumbers\": \"strict\", \"coloraxis\": {\"colorbar\": {\"outlinewidth\": 0, \"ticks\": \"\"}}, \"colorscale\": {\"diverging\": [[0, \"#8e0152\"], [0.1, \"#c51b7d\"], [0.2, \"#de77ae\"], [0.3, \"#f1b6da\"], [0.4, \"#fde0ef\"], [0.5, \"#f7f7f7\"], [0.6, \"#e6f5d0\"], [0.7, \"#b8e186\"], [0.8, \"#7fbc41\"], [0.9, \"#4d9221\"], [1, \"#276419\"]], \"sequential\": [[0.0, \"#0d0887\"], [0.1111111111111111, \"#46039f\"], [0.2222222222222222, \"#7201a8\"], [0.3333333333333333, \"#9c179e\"], [0.4444444444444444, \"#bd3786\"], [0.5555555555555556, \"#d8576b\"], [0.6666666666666666, \"#ed7953\"], [0.7777777777777778, \"#fb9f3a\"], [0.8888888888888888, \"#fdca26\"], [1.0, \"#f0f921\"]], \"sequentialminus\": [[0.0, \"#0d0887\"], [0.1111111111111111, \"#46039f\"], [0.2222222222222222, \"#7201a8\"], [0.3333333333333333, \"#9c179e\"], [0.4444444444444444, \"#bd3786\"], [0.5555555555555556, \"#d8576b\"], [0.6666666666666666, \"#ed7953\"], [0.7777777777777778, \"#fb9f3a\"], [0.8888888888888888, \"#fdca26\"], [1.0, \"#f0f921\"]]}, \"colorway\": [\"#636efa\", \"#EF553B\", \"#00cc96\", \"#ab63fa\", \"#FFA15A\", \"#19d3f3\", \"#FF6692\", \"#B6E880\", \"#FF97FF\", \"#FECB52\"], \"font\": {\"color\": \"#2a3f5f\"}, \"geo\": {\"bgcolor\": \"white\", \"lakecolor\": \"white\", \"landcolor\": \"white\", \"showlakes\": true, \"showland\": true, \"subunitcolor\": \"#C8D4E3\"}, \"hoverlabel\": {\"align\": \"left\"}, \"hovermode\": \"closest\", \"mapbox\": {\"style\": \"light\"}, \"paper_bgcolor\": \"white\", \"plot_bgcolor\": \"white\", \"polar\": {\"angularaxis\": {\"gridcolor\": \"#EBF0F8\", \"linecolor\": \"#EBF0F8\", \"ticks\": \"\"}, \"bgcolor\": \"white\", \"radialaxis\": {\"gridcolor\": \"#EBF0F8\", \"linecolor\": \"#EBF0F8\", \"ticks\": \"\"}}, \"scene\": {\"xaxis\": {\"backgroundcolor\": \"white\", \"gridcolor\": \"#DFE8F3\", \"gridwidth\": 2, \"linecolor\": \"#EBF0F8\", \"showbackground\": true, \"ticks\": \"\", \"zerolinecolor\": \"#EBF0F8\"}, \"yaxis\": {\"backgroundcolor\": \"white\", \"gridcolor\": \"#DFE8F3\", \"gridwidth\": 2, \"linecolor\": \"#EBF0F8\", \"showbackground\": true, \"ticks\": \"\", \"zerolinecolor\": \"#EBF0F8\"}, \"zaxis\": {\"backgroundcolor\": \"white\", \"gridcolor\": \"#DFE8F3\", \"gridwidth\": 2, \"linecolor\": \"#EBF0F8\", \"showbackground\": true, \"ticks\": \"\", \"zerolinecolor\": \"#EBF0F8\"}}, \"shapedefaults\": {\"line\": {\"color\": \"#2a3f5f\"}}, \"ternary\": {\"aaxis\": {\"gridcolor\": \"#DFE8F3\", \"linecolor\": \"#A2B1C6\", \"ticks\": \"\"}, \"baxis\": {\"gridcolor\": \"#DFE8F3\", \"linecolor\": \"#A2B1C6\", \"ticks\": \"\"}, \"bgcolor\": \"white\", \"caxis\": {\"gridcolor\": \"#DFE8F3\", \"linecolor\": \"#A2B1C6\", \"ticks\": \"\"}}, \"title\": {\"x\": 0.05}, \"xaxis\": {\"automargin\": true, \"gridcolor\": \"#EBF0F8\", \"linecolor\": \"#EBF0F8\", \"ticks\": \"\", \"title\": {\"standoff\": 15}, \"zerolinecolor\": \"#EBF0F8\", \"zerolinewidth\": 2}, \"yaxis\": {\"automargin\": true, \"gridcolor\": \"#EBF0F8\", \"linecolor\": \"#EBF0F8\", \"ticks\": \"\", \"title\": {\"standoff\": 15}, \"zerolinecolor\": \"#EBF0F8\", \"zerolinewidth\": 2}}}, \"width\": 800, \"xaxis\": {\"anchor\": \"y\", \"domain\": [0.0, 1.0], \"range\": [0.35, 0.65], \"title\": {\"text\": \"MW>OT                                       MW<OT\"}}, \"yaxis\": {\"anchor\": \"x\", \"domain\": [0.0, 1.0], \"range\": [0, 1], \"title\": {\"text\": \"VS>MCS                                       VS<MCS\"}}},                        {\"responsive\": true}                    ).then(function(){\n",
       "                            \n",
       "var gd = document.getElementById('5e01517e-c801-4823-979d-8ccb8f2d045f');\n",
       "var x = new MutationObserver(function (mutations, observer) {{\n",
       "        var display = window.getComputedStyle(gd).display;\n",
       "        if (!display || display === 'none') {{\n",
       "            console.log([gd, 'removed!']);\n",
       "            Plotly.purge(gd);\n",
       "            observer.disconnect();\n",
       "        }}\n",
       "}});\n",
       "\n",
       "// Listen for the removal of the full notebook cells\n",
       "var notebookContainer = gd.closest('#notebook-container');\n",
       "if (notebookContainer) {{\n",
       "    x.observe(notebookContainer, {childList: true});\n",
       "}}\n",
       "\n",
       "// Listen for the clearing of the current output cell\n",
       "var outputEl = gd.closest('.output');\n",
       "if (outputEl) {{\n",
       "    x.observe(outputEl, {childList: true});\n",
       "}}\n",
       "\n",
       "                        })                };                });            </script>        </div>"
      ]
     },
     "metadata": {},
     "output_type": "display_data"
    }
   ],
   "source": [
    "fig = px.scatter(df_contrast.query(\"significant != 'Not significant'\"),x = 'AUC_mind', y = 'AUC_doc', template = \"plotly_white\", text = 'markers',\n",
    "                 color_discrete_sequence = [green, orange, lblue],\n",
    "                 color = 'significant',\n",
    "                #symbol_sequence = ['circle-open','circle','hexagram' ],\n",
    "\n",
    "                 #category_orders = {'significant': ['p > 0.05','p < 0.05 uncorrected', 'p < 0.05 FDR corrected']}, \n",
    "                 labels = {'AUC_mind': f'MW>OT                                       MW<OT', \n",
    "                           'AUC_doc':'VS>MCS                                       VS<MCS'}\n",
    "\n",
    "                )\n",
    "\n",
    "fig.add_vline(x=0.5, line_width=2, line_dash=\"dash\", line_color=\"black\")\n",
    "fig.add_hline(y=0.5, line_width=2, line_dash=\"dash\", line_color=\"black\")\n",
    "\n",
    "fig.update_traces(marker=dict(size = 8))\n",
    "\n",
    "fig.update_layout(\n",
    "    autosize=False,\n",
    "    width=800,\n",
    "    height=800,\n",
    "    xaxis= {'range': (0.35, 0.65),\n",
    "            #'showticklabels': True,\n",
    "            #'tickmode': 'linear'\n",
    "           },\n",
    "    yaxis = {'range': (0, 1),\n",
    "            #'showticklabels': True,\n",
    "            #'tickmode': 'linear',\n",
    "        }\n",
    "\n",
    ")\n",
    "\n",
    "fig.show()"
   ]
  },
  {
   "cell_type": "code",
   "execution_count": null,
   "id": "heard-punch",
   "metadata": {},
   "outputs": [],
   "source": []
  }
 ],
 "metadata": {
  "kernelspec": {
   "display_name": "Python 3",
   "language": "python",
   "name": "python3"
  },
  "language_info": {
   "codemirror_mode": {
    "name": "ipython",
    "version": 3
   },
   "file_extension": ".py",
   "mimetype": "text/x-python",
   "name": "python",
   "nbconvert_exporter": "python",
   "pygments_lexer": "ipython3",
   "version": "3.7.4"
  }
 },
 "nbformat": 4,
 "nbformat_minor": 5
}
