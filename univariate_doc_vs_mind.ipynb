{
 "cells": [
  {
   "cell_type": "code",
   "execution_count": 79,
<<<<<<< HEAD
   "id": "outstanding-amount",
=======
   "id": "polyphonic-peace",
>>>>>>> 2022493a3631333ac5763063f388965c3eb85334
   "metadata": {},
   "outputs": [
    {
     "data": {
      "text/html": [
       "        <script type=\"text/javascript\">\n",
       "        window.PlotlyConfig = {MathJaxConfig: 'local'};\n",
       "        if (window.MathJax) {MathJax.Hub.Config({SVG: {font: \"STIX-Web\"}});}\n",
       "        if (typeof require !== 'undefined') {\n",
       "        require.undef(\"plotly\");\n",
       "        requirejs.config({\n",
       "            paths: {\n",
       "                'plotly': ['https://cdn.plot.ly/plotly-latest.min']\n",
       "            }\n",
       "        });\n",
       "        require(['plotly'], function(Plotly) {\n",
       "            window._Plotly = Plotly;\n",
       "        });\n",
       "        }\n",
       "        </script>\n",
       "        "
      ]
     },
     "metadata": {},
     "output_type": "display_data"
    }
   ],
   "source": [
    "import os\n",
    "import numpy as np\n",
    "import seaborn as sns\n",
    "import pandas as pd\n",
    "import matplotlib.pyplot as plt\n",
    "\n",
    "import seaborn as sns\n",
    "import matplotlib.pyplot as plt\n",
    "import plotly.express as px\n",
    "import plotly.graph_objects as pgo\n",
    "import plotly.offline as pyo\n",
    "import plotly.io as pio\n",
    "from plotly.subplots import make_subplots\n",
    "\n",
    "pyo.init_notebook_mode(connected = True)\n",
    "\n",
    "from sklearn.metrics import roc_auc_score\n",
    "from sklearn.svm import SVC\n",
    "from sklearn.preprocessing import StandardScaler, RobustScaler\n",
    "from sklearn.pipeline import Pipeline, make_pipeline\n",
    "from sklearn.model_selection import (\n",
    "    GridSearchCV,\n",
    "    train_test_split,\n",
    "    cross_val_score,\n",
    "    GroupShuffleSplit,\n",
    "    permutation_test_score,\n",
    "    StratifiedKFold,\n",
    "    KFold\n",
    ")\n",
    "\n",
    "from imblearn.under_sampling import RandomUnderSampler\n",
    "from imblearn.over_sampling import RandomOverSampler\n",
    "\n",
    "from sklearn.ensemble import ExtraTreesClassifier\n",
    "\n",
    "from utils import multivariate_classifier, plot_univariate, correct_name_markers\n",
    "\n",
    "from scipy.stats import wilcoxon, mannwhitneyu\n",
    "from statsmodels.stats.multitest import multipletests"
   ]
  },
  {
   "cell_type": "code",
   "execution_count": 2,
<<<<<<< HEAD
   "id": "aging-library",
=======
   "id": "promising-cable",
>>>>>>> 2022493a3631333ac5763063f388965c3eb85334
   "metadata": {
    "pycharm": {
     "is_executing": false
    }
   },
   "outputs": [],
   "source": [
    "# plotting parameters\n",
    "grey = \"#21201F\"\n",
    "green = \"#9AC529\"\n",
    "lblue = \"#42B9B2\"\n",
    "pink = \"#DE237B\"\n",
    "orange = \"#F38A31\"\n",
    "\n",
    "nt_colors = [green, lblue, pink, orange]\n",
    "\n",
    "plt.style.use(\"ggplot\")\n",
    "fig_width = 12  # width in inches\n",
    "fig_height = 9  # height in inches\n",
    "fig_size = [fig_width, fig_height]\n",
    "plt.rcParams[\"figure.figsize\"] = fig_size\n",
    "plt.rcParams[\"figure.autolayout\"] = True\n",
    "\n",
    "sns.set(\n",
    "    style=\"white\",\n",
    "    context=\"notebook\",\n",
    "    font_scale=1,\n",
    "    rc={\n",
    "        \"axes.labelcolor\": grey,\n",
    "        \"text.color\": grey,\n",
    "        \"axes.edgecolor\": grey,\n",
    "        \"xtick.color\": grey,\n",
    "        \"ytick.color\": grey,\n",
    "    },\n",
    ")\n",
    "\n",
    "sns.set_palette(sns.color_palette\n",
    "(nt_colors))"
   ]
  },
  {
   "cell_type": "markdown",
<<<<<<< HEAD
   "id": "sonic-softball",
=======
   "id": "engaged-health",
>>>>>>> 2022493a3631333ac5763063f388965c3eb85334
   "metadata": {},
   "source": [
    "# Load Data"
   ]
  },
  {
   "cell_type": "code",
   "execution_count": 103,
<<<<<<< HEAD
   "id": "weird-allocation",
=======
   "id": "chubby-emerald",
>>>>>>> 2022493a3631333ac5763063f388965c3eb85334
   "metadata": {},
   "outputs": [],
   "source": [
    "markers = ['wSMI_1', 'wSMI_2', 'wSMI_4', 'wSMI_8', 'p_e_1', 'p_e_2',\n",
    "       'p_e_4', 'p_e_8', 'k', 'se','msf', 'sef90', 'sef95', 'b', 'b_n', 'g',\n",
    "       'g_n', 't', 't_n', 'd', 'd_n', 'a_n', 'a', \n",
    "#            'CNV', 'P1', 'P3a', 'P3b'\n",
    "          ]\n",
    "erps =['CNV', 'P1', 'P3a', 'P3b']"
   ]
  },
  {
   "cell_type": "markdown",
<<<<<<< HEAD
   "id": "twenty-fancy",
=======
   "id": "violent-lodge",
>>>>>>> 2022493a3631333ac5763063f388965c3eb85334
   "metadata": {},
   "source": [
    "# Load Mindwandering DATA"
   ]
  },
  {
   "cell_type": "code",
   "execution_count": 80,
<<<<<<< HEAD
   "id": "documented-record",
=======
   "id": "automated-approach",
>>>>>>> 2022493a3631333ac5763063f388965c3eb85334
   "metadata": {},
   "outputs": [],
   "source": [
    "epoch_type = \"evoked\"\n",
    "# epoch_type = 'pseudo-rs'\n",
    "\n",
    "all_participants = [\n",
    "    \"VP07\",\n",
    "    \"VP08\",\n",
    "    \"VP09\",\n",
    "    \"VP10\",\n",
    "    \"VP11\",\n",
    "    \"VP12\",\n",
    "    \"VP13\",\n",
    "    \"VP14\",\n",
    "    \"VP18\",\n",
    "    \"VP19\",\n",
    "    \"VP20\",\n",
    "    \"VP22\",\n",
    "    \"VP23\",\n",
    "    \"VP24\",\n",
    "    \"VP25\",\n",
    "    \"VP26\",\n",
    "    \"VP27\",\n",
    "    \"VP28\",\n",
    "    \"VP29\",\n",
    "    \"VP30\",\n",
    "    \"VP31\",\n",
    "    \"VP32\",\n",
    "    \"VP33\",\n",
    "    \"VP35\",\n",
    "    \"VP36\",\n",
    "    \"VP37\",\n",
    "]\n",
    "\n",
    "path = \"/media/nicolas.bruno/63f8a366-34b7-4896-a7ce-b5fb4ee78535/Nico/MW_eeg_data/minmarker/\"  # icm-linux\n",
    "# path = '/Users/nicobruno/ownCloud/MW_eeg_data/minmarker/' #nico-mac\n",
    "\n",
    "df = pd.DataFrame()\n",
    "\n",
    "for i, v in enumerate(all_participants):\n",
    "    participant = v\n",
    "\n",
    "    folder = path + participant + \"/\"\n",
    "\n",
    "    df_ = pd.read_csv(\n",
    "        folder + participant + \"_\" + epoch_type + \"_all_marker.csv\", index_col=0\n",
    "    )\n",
    "    df_[\"participant\"] = i\n",
    "    df = df.append(df_)\n",
    "\n",
    "\n",
    "\n",
    "\n",
    "# markers =  [r'$\\delta$',r'$|\\delta|$',r'$\\theta$', r'$|\\theta|$',r'$\\alpha$', r'$|\\alpha|$',r'$\\beta$', r'$|\\beta|$',r'$\\gamma$', r'$|\\gamma|$',\n",
    "#             r'$PE\\gamma$',r'$PE\\beta$',r'$PE\\alpha$',r'$PE\\theta$',\n",
    "#             r'$wSMI\\gamma$',r'$wSMI\\beta$',r'$wSMI\\alpha$',r'$wSMI\\theta$', \n",
    "#             r'$K$',r'$SE$',r'$MSF$', r'$SEF90$', r'$SEF95$', \n",
    "#             r'$CNV$', r'$P1$', r'$P3a$',r'$P3b$'\n",
    "#            ]\n",
    "\n",
    "\n",
    "# df_subtracted = df.query(\"preproc == 'subtracted'\").drop(columns = erps+['preproc'])\n",
    "# df_erp = df.query(\"preproc == 'erp'\").drop(columns = np.setdiff1d(markers,erps).tolist()+['preproc'])\n",
    "\n",
    "# df_markers = df_subtracted.merge(df_erp, 'inner', on =np.setdiff1d(df_subtracted.columns, markers).tolist() )\n",
    "\n",
    "df_markers = (df\n",
    "              .query(\"stimuli == 'go'\")\n",
    "              .query(\"correct == 'correct'\")\n",
    "            .query('prev_trial < 5')\n",
    "              .drop(['stimuli', 'correct', 'prev_trial', 'label', 'events',  'epoch_type', 'preproc'], axis = 1)\n",
    "              .drop(erps, axis=1)\n",
    "              .query(\"mind in ['on-task','dMW', 'sMW']\")\n",
    "              .groupby(['segment', 'participant']).filter(lambda x: len(x) > 1)\n",
    "             )\n",
    "\n",
    "# df_markers.to_csv('Data/all_markers.csv')\n",
    "\n",
    "\n",
    "agg_dict = {k: [\"mean\", 'std'] for k in markers}\n",
    "agg_dict.update({k: \"first\" for k in df_markers.drop(markers, axis=1).columns})\n",
    "\n",
    "df_mind = (\n",
    "    df_markers.query(\"probe == 'PC'\")\n",
    "    .groupby([\"segment\", \"participant\"], as_index=False)\n",
    "    .agg(agg_dict)\n",
    "    #     .query(\"mind != 'sMW'\") #if you want to test against just one of the mw\n",
    "    .assign(mind2=lambda df: np.where(df.mind == \"on-task\", \"on-task\", \"mw\"))\n",
    ")\n",
    "\n",
    "# df_mind.columns = df_mind.columns.map(\"_\".join)\n",
    "\n",
    "# df_mind = df_mind.rename(\n",
    "#    columns={\n",
    "#        \"participant_first\": \"participant\",\n",
    "#        \"probe_first\": \"probe\",\n",
    "#        \"mind_first\": \"mind\",\n",
    "#        \"segment_first\": \"segment\",\n",
    "#        \"mind2_\": \"mind2\",\n",
    "#    }\n",
    "# ).drop([\"participant\", \"probe\", \"mind\", \"segment\"], axis=1)\n",
    "\n",
    "#### Use latex command for nmaes###\n",
    "##it slow downs the computer, just for final figures.\n",
    "\n",
    "df_mind = correct_name_markers(df_mind)\n",
    "\n",
    "df_mind.columns = df_mind.columns.map(\"$_{\".join).map(lambda x: x + '}$').map(lambda x: x.replace('$$', ''))\n",
    "\n",
    "df_mind  = (df_mind\n",
    "            .rename(columns = {'participant$_{first}$':'participant', 'probe$_{first}$':'probe', 'mind$_{first}$':'mind', 'segment$_{first}$':'segment', 'mind2$_{}$':'mind2'})\n",
    "#             .query(\"mind != 'dMW'\") #if you want to test against just one of the mw            \n",
    "            .drop(['participant', 'probe', 'mind', 'segment'], axis = 1) \n",
    "           )"
   ]
  },
  {
   "cell_type": "markdown",
<<<<<<< HEAD
   "id": "configured-president",
=======
   "id": "higher-concern",
>>>>>>> 2022493a3631333ac5763063f388965c3eb85334
   "metadata": {},
   "source": [
    "# Load DOC patients DATA"
   ]
  },
  {
   "cell_type": "code",
   "execution_count": 83,
<<<<<<< HEAD
   "id": "growing-destruction",
=======
   "id": "ambient-clerk",
>>>>>>> 2022493a3631333ac5763063f388965c3eb85334
   "metadata": {},
   "outputs": [
    {
     "data": {
      "text/plain": [
       "['HC', 'EMCS', 'MCS', 'VS']"
      ]
     },
     "execution_count": 83,
     "metadata": {},
     "output_type": "execute_result"
    }
   ],
   "source": [
    "path = \"/media/nicolas.bruno/63f8a366-34b7-4896-a7ce-b5fb4ee78535/Nico/DOC patients/DOC_markers/\"\n",
    "\n",
    "classes = os.listdir(path)\n",
    "classes"
   ]
  },
  {
   "cell_type": "code",
   "execution_count": 84,
<<<<<<< HEAD
   "id": "current-commodity",
=======
   "id": "convinced-sample",
>>>>>>> 2022493a3631333ac5763063f388965c3eb85334
   "metadata": {},
   "outputs": [],
   "source": [
    "df = pd.DataFrame()\n",
    "\n",
    "for i in classes:\n",
    "    \n",
    "    files = os.listdir(path + i + '/')\n",
    "    cat = i\n",
    "\n",
    "    for file in files:\n",
    "        \n",
    "        participant = file[:7]\n",
    "        \n",
    "        df_ = pd.read_csv(path + i + '/' + file, index_col=0)\n",
    "        df_[\"participant\"] = participant\n",
    "        df_['category'] = cat\n",
    "        \n",
    "        df = df.append(df_)\n",
    "        \n",
    "             \n",
    "df = df.assign(cat_order = lambda df: np.select([df.category == 'HC', df.category == 'MCS', df.category == 'VS'], [3,2,1]) )\n",
    "\n"
   ]
  },
  {
   "cell_type": "markdown",
<<<<<<< HEAD
   "id": "surface-stanley",
=======
   "id": "southern-slovak",
>>>>>>> 2022493a3631333ac5763063f388965c3eb85334
   "metadata": {},
   "source": [
    "# AUC mind"
   ]
  },
  {
   "cell_type": "code",
   "execution_count": 111,
<<<<<<< HEAD
   "id": "worth-parts",
=======
   "id": "together-dinner",
>>>>>>> 2022493a3631333ac5763063f388965c3eb85334
   "metadata": {},
   "outputs": [
    {
     "name": "stdout",
     "output_type": "stream",
     "text": [
      "AUC $wSMI\\gamma_{mean}$ = 0.5107680332122471 MannwhitneyuResult(statistic=3771.0, pvalue=0.4033545912859166)\n",
      "AUC $wSMI\\gamma_{std}$ = 0.5546185781006746 MannwhitneyuResult(statistic=3433.0, pvalue=0.10618154413430386)\n",
      "AUC $wSMI\\beta_{mean}$ = 0.5332122470160872 MannwhitneyuResult(statistic=3598.0, pvalue=0.22430132448909945)\n",
      "AUC $wSMI\\beta_{std}$ = 0.4577062791904515 MannwhitneyuResult(statistic=3528.0, pvalue=0.1671851415098402)\n",
      "AUC $wSMI\\alpha_{mean}$ = 0.5464452516865594 MannwhitneyuResult(statistic=3496.0, pvalue=0.14451493909974722)\n",
      "AUC $wSMI\\alpha_{std}$ = 0.5444992215879606 MannwhitneyuResult(statistic=3511.0, pvalue=0.15487039247687662)\n",
      "AUC $wSMI\\theta_{mean}$ = 0.5459263103269332 MannwhitneyuResult(statistic=3500.0, pvalue=0.1472296544752783)\n",
      "AUC $wSMI\\theta_{std}$ = 0.4910482615464452 MannwhitneyuResult(statistic=3785.0, pvalue=0.4195076380470079)\n",
      "AUC $PE\\gamma_{mean}$ = 0.516476388168137 MannwhitneyuResult(statistic=3727.0, pvalue=0.3537684464398442)\n",
      "AUC $PE\\gamma_{std}$ = 0.5662947586922678 MannwhitneyuResult(statistic=3343.0, pvalue=0.06501158990518519)\n",
      "AUC $PE\\beta_{mean}$ = 0.5179034769071095 MannwhitneyuResult(statistic=3716.0, pvalue=0.34171418184627955)\n",
      "AUC $PE\\beta_{std}$ = 0.5477426050856252 MannwhitneyuResult(statistic=3486.0, pvalue=0.13787648236885197)\n",
      "AUC $PE\\alpha_{mean}$ = 0.42890503373118843 MannwhitneyuResult(statistic=3306.0, pvalue=0.052215347408399095)\n",
      "AUC $PE\\alpha_{std}$ = 0.5220550077841204 MannwhitneyuResult(statistic=3684.0, pvalue=0.30759006529585714)\n",
      "AUC $PE\\theta_{mean}$ = 0.4661390762843799 MannwhitneyuResult(statistic=3593.0, pvalue=0.21988685968929444)\n",
      "AUC $PE\\theta_{std}$ = 0.5155682407887909 MannwhitneyuResult(statistic=3734.0, pvalue=0.36151732655324653)\n",
      "AUC $K_{mean}$ = 0.4645173845355475 MannwhitneyuResult(statistic=3580.5, pvalue=0.20907073610169713)\n",
      "AUC $K_{std}$ = 0.5806953814218994 MannwhitneyuResult(statistic=3232.0, pvalue=0.03264934746138808)\n",
      "AUC $SE_{mean}$ = 0.4449922158796056 MannwhitneyuResult(statistic=3430.0, pvalue=0.10455960394092384)\n",
      "AUC $SE_{std}$ = 0.5651271406331084 MannwhitneyuResult(statistic=3352.0, pvalue=0.06846531272526658)\n",
      "AUC $MSF_{mean}$ = 0.43435391800726514 MannwhitneyuResult(statistic=3348.0, pvalue=0.06691323961598472)\n",
      "AUC $MSF_{std}$ = 0.537104307213285 MannwhitneyuResult(statistic=3568.0, pvalue=0.19857591322776003)\n",
      "AUC $SEF90_{mean}$ = 0.4731447846393358 MannwhitneyuResult(statistic=3647.0, pvalue=0.27012817123272226)\n",
      "AUC $SEF90_{std}$ = 0.5364556305137519 MannwhitneyuResult(statistic=3573.0, pvalue=0.20273546507103907)\n",
      "AUC $SEF95_{mean}$ = 0.4867669953295278 MannwhitneyuResult(statistic=3752.0, pvalue=0.381698610279885)\n",
      "AUC $SEF95_{std}$ = 0.5219252724442138 MannwhitneyuResult(statistic=3685.0, pvalue=0.308633567038079)\n",
      "AUC $\\beta_{mean}$ = 0.4423975090814738 MannwhitneyuResult(statistic=3410.0, pvalue=0.09420356168625432)\n",
      "AUC $\\beta_{std}$ = 0.5037623248572911 MannwhitneyuResult(statistic=3825.0, pvalue=0.46632006911296586)\n",
      "AUC $|\\beta|_{mean}$ = 0.4150233523611832 MannwhitneyuResult(statistic=3199.0, pvalue=0.026124462652781483)\n",
      "AUC $|\\beta|_{std}$ = 0.5127140633108459 MannwhitneyuResult(statistic=3756.0, pvalue=0.38622958822286846)\n",
      "AUC $\\gamma_{mean}$ = 0.46717695900363254 MannwhitneyuResult(statistic=3601.0, pvalue=0.22697397334673236)\n",
      "AUC $\\gamma_{std}$ = 0.5483912817851583 MannwhitneyuResult(statistic=3481.0, pvalue=0.13463649951160417)\n",
      "AUC $|\\gamma|_{mean}$ = 0.49338349766476386 MannwhitneyuResult(statistic=3803.0, pvalue=0.440473082269635)\n",
      "AUC $|\\gamma|_{std}$ = 0.5342501297353399 MannwhitneyuResult(statistic=3590.0, pvalue=0.2172622924271917)\n",
      "AUC $\\theta_{mean}$ = 0.5313959522573949 MannwhitneyuResult(statistic=3612.0, pvalue=0.2369258091514969)\n",
      "AUC $\\theta_{std}$ = 0.5306175402179554 MannwhitneyuResult(statistic=3618.0, pvalue=0.242453575643576)\n",
      "AUC $|\\theta|_{mean}$ = 0.6117021276595744 MannwhitneyuResult(statistic=2993.0, pvalue=0.005355024138716771)\n",
      "AUC $|\\theta|_{std}$ = 0.5996367410482616 MannwhitneyuResult(statistic=3086.0, pvalue=0.011416848198253969)\n",
      "AUC $\\delta_{mean}$ = 0.5085625324338349 MannwhitneyuResult(statistic=3788.0, pvalue=0.42298771897768506)\n",
      "AUC $\\delta_{std}$ = 0.4635443694862481 MannwhitneyuResult(statistic=3573.0, pvalue=0.20273546507103907)\n",
      "AUC $|\\delta|_{mean}$ = 0.5099896211728074 MannwhitneyuResult(statistic=3777.0, pvalue=0.41025886053530386)\n",
      "AUC $|\\delta|_{std}$ = 0.49091852620653864 MannwhitneyuResult(statistic=3784.0, pvalue=0.418348994605319)\n",
      "AUC $|\\alpha|_{mean}$ = 0.4521276595744681 MannwhitneyuResult(statistic=3485.0, pvalue=0.13722426703755825)\n",
      "AUC $|\\alpha|_{std}$ = 0.4998702646600934 MannwhitneyuResult(statistic=3853.0, pvalue=0.4994084205928122)\n",
      "AUC $\\alpha_{mean}$ = 0.4737934613388687 MannwhitneyuResult(statistic=3652.0, pvalue=0.2750545348376532)\n",
      "AUC $\\alpha_{std}$ = 0.4723663725998962 MannwhitneyuResult(statistic=3641.0, pvalue=0.26427538012284735)\n"
     ]
    }
   ],
   "source": [
    "AUC = []\n",
    "pvalues = {}\n",
    "for i in df_mind.drop('mind2', axis = 1).columns:\n",
    "    ot = df_mind.query(\"mind2 == 'on-task'\")[i]\n",
    "    mw = df_mind.query(\"mind2 == 'mw'\")[i]\n",
    "    auc = roc_auc_score(df_mind['mind2'], df_mind[i])\n",
    "    print(f'AUC {i} = {auc}', f'{mannwhitneyu(x = ot, y = mw)}')\n",
    "    AUC.append([i, auc])\n",
    "    pvalues[i] = mannwhitneyu(x = ot, y = mw).pvalue \n",
    "        \n",
    "segment_mind_roc = pd.DataFrame(AUC, columns = ['markers', 'AUC'])\n",
    "\n",
    "p_df =pd.DataFrame.from_dict(pvalues, orient = 'index', columns = ['p_value']).reset_index().rename(columns ={'index': 'markers'})\n",
    "segment_mind_roc = (segment_mind_roc\n",
    "            .merge(p_df, on = 'markers', how = 'inner')\n",
    "            .assign(\n",
    "                    p_corrected = lambda df: multipletests(df.p_value, method = 'fdr_bh')[1],\n",
    "                    significant = lambda df: np.select([(df.p_value < 0.05) & (df.p_corrected < 0.05), (df.p_value < 0.05) & (df.p_corrected > 0.05),  \n",
    "                                                 (df.p_value > 0.05) & (df.p_corrected > 0.05)], ['p < 0.05 FDR corrected','p < 0.05 uncorrected', 'p > 0.05'])\n",
    "                   )\n",
    "           )\n"
   ]
  },
  {
   "cell_type": "markdown",
<<<<<<< HEAD
   "id": "upper-shepherd",
=======
   "id": "regulated-whale",
>>>>>>> 2022493a3631333ac5763063f388965c3eb85334
   "metadata": {},
   "source": [
    "# AUC DOC patients"
   ]
  },
  {
   "cell_type": "code",
<<<<<<< HEAD
   "execution_count": 104,
   "id": "flying-nothing",
=======
   "execution_count": 137,
   "id": "linear-albert",
>>>>>>> 2022493a3631333ac5763063f388965c3eb85334
   "metadata": {},
   "outputs": [],
   "source": [
    "classification = ['VS', 'MCS']\n",
    "\n",
    "#df = df.drop(erps, axis = 1)\n",
    "\n",
    "agg_dict = {k: [\"mean\", 'std'] for k in markers}\n",
    "agg_dict.update({k: \"first\" for k in df.drop(markers, axis=1).columns})\n",
    "\n",
    "df_doc = (\n",
    "    df.query(f\"category in {classification}\")\n",
    "    .groupby([\"participant\", 'category'], as_index=False)\n",
    "    .agg(agg_dict)\n",
    ")\n",
    "\n",
    "# df_doc.columns = df_doc.columns.map(\"_\".join)\n",
    "\n",
    "# df_doc = df_doc.rename(\n",
    "#    columns={\n",
    "#        \"participant_first\": \"participant\",\n",
    "#        \"category_first\": \"category\",\n",
    "#        \"cat_order_first\":\"cat_order\"\n",
    "#    }\n",
    "# ).drop([\"participant\"], axis=1)\n",
    "\n",
    "\n",
    "#### Use latex command for nmaes###\n",
    "##it slow downs the computer, just for final figures.\n",
    "\n",
    "df_doc = correct_name_markers(df_doc)\n",
    "\n",
    "df_doc.columns = df_doc.columns.map(\"$_{\".join).map(lambda x: x + '}$').map(lambda x: x.replace('$$', ''))\n",
    "\n",
    "df_doc  = (df_doc\n",
    "            .rename(columns = {'participant$_{first}$':'participant', 'category$_{first}$':'category', 'cat_order$_{first}$':'cat_order'})        \n",
    "            .drop(['participant'], axis = 1) \n",
    "           )"
   ]
  },
  {
   "cell_type": "code",
<<<<<<< HEAD
   "execution_count": 105,
   "id": "attempted-sauce",
=======
   "execution_count": 138,
   "id": "polished-accuracy",
>>>>>>> 2022493a3631333ac5763063f388965c3eb85334
   "metadata": {},
   "outputs": [
    {
     "name": "stdout",
     "output_type": "stream",
     "text": [
      "AUC $wSMI\\gamma_{mean}$ = 0.42008856682769724 MannwhitneyuResult(statistic=2087.0, pvalue=0.05099252972369192)\n",
      "AUC $wSMI\\gamma_{std}$ = 0.5396537842190017 MannwhitneyuResult(statistic=2287.0, pvalue=0.2088450918473836)\n",
      "AUC $wSMI\\beta_{mean}$ = 0.43981481481481477 MannwhitneyuResult(statistic=2185.0, pvalue=0.10913920197517435)\n",
      "AUC $wSMI\\beta_{std}$ = 0.5197262479871175 MannwhitneyuResult(statistic=2386.0, pvalue=0.34379629031855363)\n",
      "AUC $wSMI\\alpha_{mean}$ = 0.4492753623188406 MannwhitneyuResult(statistic=2232.0, pvalue=0.14980400369663027)\n",
      "AUC $wSMI\\alpha_{std}$ = 0.5416666666666666 MannwhitneyuResult(statistic=2277.0, pvalue=0.1971962624537637)\n",
      "AUC $wSMI\\theta_{mean}$ = 0.6312399355877616 MannwhitneyuResult(statistic=1832.0, pvalue=0.0036046866609333802)\n",
      "AUC $wSMI\\theta_{std}$ = 0.6564009661835748 MannwhitneyuResult(statistic=1707.0, pvalue=0.0006810623593173185)\n",
      "AUC $PE\\gamma_{mean}$ = 0.44082125603864736 MannwhitneyuResult(statistic=2190.0, pvalue=0.11304409636720825)\n",
      "AUC $PE\\gamma_{std}$ = 0.5416666666666667 MannwhitneyuResult(statistic=2277.0, pvalue=0.1971962624537637)\n",
      "AUC $PE\\beta_{mean}$ = 0.4327697262479871 MannwhitneyuResult(statistic=2150.0, pvalue=0.08449270714624374)\n",
      "AUC $PE\\beta_{std}$ = 0.5295893719806763 MannwhitneyuResult(statistic=2337.0, pvalue=0.2728495319763291)\n",
      "AUC $PE\\alpha_{mean}$ = 0.48470209339774556 MannwhitneyuResult(statistic=2408.0, pvalue=0.37775263691469835)\n",
      "AUC $PE\\alpha_{std}$ = 0.44041867954911434 MannwhitneyuResult(statistic=2188.0, pvalue=0.11147033883752161)\n",
      "AUC $PE\\theta_{mean}$ = 0.6849838969404187 MannwhitneyuResult(statistic=1565.0, pvalue=7.586623058907389e-05)\n",
      "AUC $PE\\theta_{std}$ = 0.41304347826086957 MannwhitneyuResult(statistic=2052.0, pvalue=0.037566005470897536)\n",
      "AUC $K_{mean}$ = 0.5464975845410628 MannwhitneyuResult(statistic=2253.0, pvalue=0.1708877406661271)\n",
      "AUC $K_{std}$ = 0.4317632850241545 MannwhitneyuResult(statistic=2145.0, pvalue=0.08134325507519546)\n",
      "AUC $SE_{mean}$ = 0.6650563607085347 MannwhitneyuResult(statistic=1664.0, pvalue=0.00036255319412478466)\n",
      "AUC $SE_{std}$ = 0.4402173913043478 MannwhitneyuResult(statistic=2187.0, pvalue=0.11068936647321509)\n",
      "AUC $MSF_{mean}$ = 0.5324074074074074 MannwhitneyuResult(statistic=2323.0, pvalue=0.2539989430774292)\n",
      "AUC $MSF_{std}$ = 0.4528985507246377 MannwhitneyuResult(statistic=2250.0, pvalue=0.1677647175484544)\n",
      "AUC $SEF90_{mean}$ = 0.4907407407407407 MannwhitneyuResult(statistic=2438.0, pvalue=0.4255723832023064)\n",
      "AUC $SEF90_{std}$ = 0.48711755233494364 MannwhitneyuResult(statistic=2420.0, pvalue=0.3967006915589687)\n",
      "AUC $SEF95_{mean}$ = 0.4865136876006441 MannwhitneyuResult(statistic=2417.0, pvalue=0.3919388122931514)\n",
      "AUC $SEF95_{std}$ = 0.5100644122383253 MannwhitneyuResult(statistic=2434.0, pvalue=0.4191160343124303)\n",
      "AUC $\\beta_{mean}$ = 0.6553945249597424 MannwhitneyuResult(statistic=1712.0, pvalue=0.0007314679826735514)\n",
      "AUC $\\beta_{std}$ = 0.40438808373590984 MannwhitneyuResult(statistic=2009.0, pvalue=0.02517345647429155)\n",
      "AUC $|\\beta|_{mean}$ = 0.47966988727858295 MannwhitneyuResult(statistic=2383.0, pvalue=0.33925496743063455)\n",
      "AUC $|\\beta|_{std}$ = 0.4677938808373591 MannwhitneyuResult(statistic=2324.0, pvalue=0.2553223882557869)\n",
      "AUC $\\gamma_{mean}$ = 0.6044685990338164 MannwhitneyuResult(statistic=1965.0, pvalue=0.016239057519850726)\n",
      "AUC $\\gamma_{std}$ = 0.4867149758454106 MannwhitneyuResult(statistic=2418.0, pvalue=0.3935243461940465)\n",
      "AUC $|\\gamma|_{mean}$ = 0.4714170692431562 MannwhitneyuResult(statistic=2342.0, pvalue=0.2797461706935264)\n",
      "AUC $|\\gamma|_{std}$ = 0.4434380032206119 MannwhitneyuResult(statistic=2203.0, pvalue=0.1236605813473215)\n",
      "AUC $\\theta_{mean}$ = 0.7179951690821256 MannwhitneyuResult(statistic=1401.0, pvalue=4.010729812840655e-06)\n",
      "AUC $\\theta_{std}$ = 0.5056360708534622 MannwhitneyuResult(statistic=2456.0, pvalue=0.4548489258907985)\n",
      "AUC $|\\theta|_{mean}$ = 0.6642512077294686 MannwhitneyuResult(statistic=1668.0, pvalue=0.0003849317049143344)\n",
      "AUC $|\\theta|_{std}$ = 0.6145330112721418 MannwhitneyuResult(statistic=1915.0, pvalue=0.0095213568024088)\n",
      "AUC $\\delta_{mean}$ = 0.6048711755233495 MannwhitneyuResult(statistic=1963.0, pvalue=0.01590759513228151)\n",
      "AUC $\\delta_{std}$ = 0.5551529790660225 MannwhitneyuResult(statistic=2210.0, pvalue=0.1296578270357755)\n",
      "AUC $|\\delta|_{mean}$ = 0.37338969404186795 MannwhitneyuResult(statistic=1855.0, pvalue=0.004768841761236481)\n",
      "AUC $|\\delta|_{std}$ = 0.5428743961352657 MannwhitneyuResult(statistic=2271.0, pvalue=0.19039960704601616)\n",
      "AUC $|\\alpha|_{mean}$ = 0.6525764895330112 MannwhitneyuResult(statistic=1726.0, pvalue=0.0008914577611326147)\n",
      "AUC $|\\alpha|_{std}$ = 0.6737117552334944 MannwhitneyuResult(statistic=1621.0, pvalue=0.00018737655690430395)\n",
      "AUC $\\alpha_{mean}$ = 0.7254428341384862 MannwhitneyuResult(statistic=1364.0, pvalue=1.944655491911572e-06)\n",
      "AUC $\\alpha_{std}$ = 0.43458132045088566 MannwhitneyuResult(statistic=2159.0, pvalue=0.09039085601147401)\n"
     ]
    }
   ],
   "source": [
    "AUC = []\n",
    "pvalues = {}\n",
    "for i in df_doc.drop(['category', 'cat_order'], axis = 1).columns:\n",
    "    vs = df_doc.query(\"category == 'VS'\")[i]\n",
    "    mcs = df_doc.query(\"category == 'MCS'\")[i]\n",
    "    auc = roc_auc_score(df_doc['cat_order'], df_doc[i])\n",
    "    print(f'AUC {i} = {auc}', f'{mannwhitneyu(x = vs, y = mcs)}')\n",
    "    AUC.append([i, auc])\n",
    "    pvalues[i] = mannwhitneyu(x = vs, y = mcs).pvalue \n",
    "        \n",
    "roc_vs_mcs = pd.DataFrame(AUC, columns = ['markers', 'AUC'])\n",
    "\n",
    "p_df =pd.DataFrame.from_dict(pvalues, orient = 'index', columns = ['p_value']).reset_index().rename(columns ={'index': 'markers'})\n",
    "roc_vs_mcs = (roc_vs_mcs\n",
    "            .merge(p_df, on = 'markers', how = 'inner')\n",
    "            .assign(\n",
    "                    p_corrected = lambda df: multipletests(df.p_value, method = 'fdr_bh')[1],\n",
    "                    significant = lambda df: np.select([(df.p_value < 0.05) & (df.p_corrected < 0.05), (df.p_value < 0.05) & (df.p_corrected > 0.05),  \n",
    "                                                 (df.p_value > 0.05) & (df.p_corrected > 0.05)], ['p < 0.05 FDR corrected','p < 0.05 uncorrected', 'p > 0.05'])\n",
    "                   )\n",
    "           )\n"
   ]
  },
  {
   "cell_type": "markdown",
<<<<<<< HEAD
   "id": "union-junior",
=======
   "id": "primary-mounting",
>>>>>>> 2022493a3631333ac5763063f388965c3eb85334
   "metadata": {},
   "source": [
    "# DOC vs Mind"
   ]
  },
  {
   "cell_type": "code",
<<<<<<< HEAD
   "execution_count": 112,
   "id": "undefined-inside",
=======
   "execution_count": 139,
   "id": "associate-zambia",
>>>>>>> 2022493a3631333ac5763063f388965c3eb85334
   "metadata": {},
   "outputs": [],
   "source": [
    "df_contrast = (segment_mind_roc.merge(roc_vs_mcs, on = 'markers', suffixes=('_mind', '_doc'))\n",
    "               .assign(significant= lambda df: np.select([(df.significant_mind != \"p > 0.05\" )& (df.significant_doc == \"p > 0.05\"),\n",
    "                                                          (df.significant_mind == \"p > 0.05\" )& (df.significant_doc != \"p > 0.05\"),\n",
    "                                                         (df.significant_mind != \"p > 0.05\" )& (df.significant_doc != \"p > 0.05\"),\n",
    "                                                         (df.significant_mind == \"p > 0.05\" )& (df.significant_doc == \"p > 0.05\")],\n",
    "                                                         ['Significant mind', 'Significant DOC', 'Significant Both', 'Not significant']))\n",
    "              )"
   ]
  },
  {
   "cell_type": "code",
<<<<<<< HEAD
   "execution_count": 134,
   "id": "instructional-poland",
=======
   "execution_count": 140,
   "id": "general-finding",
>>>>>>> 2022493a3631333ac5763063f388965c3eb85334
   "metadata": {},
   "outputs": [
    {
     "data": {
      "application/vnd.plotly.v1+json": {
       "config": {
        "plotlyServerURL": "https://plot.ly"
       },
       "data": [
        {
         "hovertemplate": "significant=Significant DOC<br>MW>OT                                              MW<OT=%{x}<br>VS>MCS                                              VS<MCS=%{y}<br>markers=%{text}<extra></extra>",
         "legendgroup": "Significant DOC",
         "marker": {
          "color": "#9AC529",
          "size": 8,
          "symbol": "circle"
         },
         "mode": "markers+text",
         "name": "Significant DOC",
         "orientation": "v",
         "showlegend": true,
         "text": [
          "$wSMI\\theta_{mean}$",
          "$wSMI\\theta_{std}$",
          "$PE\\theta_{mean}$",
          "$PE\\theta_{std}$",
          "$SE_{mean}$",
          "$\\beta_{mean}$",
          "$\\beta_{std}$",
          "$\\gamma_{mean}$",
          "$\\theta_{mean}$",
          "$\\delta_{mean}$",
          "$|\\delta|_{mean}$",
          "$|\\alpha|_{mean}$",
          "$|\\alpha|_{std}$",
          "$\\alpha_{mean}$"
         ],
         "type": "scatter",
         "x": [
          0.5459263103269332,
          0.4910482615464452,
          0.4661390762843799,
          0.5155682407887909,
          0.4449922158796056,
          0.4423975090814738,
          0.5037623248572911,
          0.46717695900363254,
          0.5313959522573949,
          0.5085625324338349,
          0.5099896211728074,
          0.4521276595744681,
          0.4998702646600934,
          0.4737934613388687
         ],
         "xaxis": "x",
         "y": [
          0.6312399355877616,
          0.6564009661835748,
          0.6849838969404187,
          0.41304347826086957,
          0.6650563607085347,
          0.6553945249597424,
          0.40438808373590984,
          0.6044685990338164,
          0.7179951690821256,
          0.6048711755233495,
          0.37338969404186795,
          0.6525764895330112,
          0.6737117552334944,
          0.7254428341384862
         ],
         "yaxis": "y"
        },
        {
         "hovertemplate": "significant=Significant mind<br>MW>OT                                              MW<OT=%{x}<br>VS>MCS                                              VS<MCS=%{y}<br>markers=%{text}<extra></extra>",
         "legendgroup": "Significant mind",
         "marker": {
          "color": "#DE237B",
          "size": 8,
          "symbol": "circle"
         },
         "mode": "markers+text",
         "name": "Significant mind",
         "orientation": "v",
         "showlegend": true,
         "text": [
          "$K_{std}$",
          "$|\\beta|_{mean}$"
         ],
         "type": "scatter",
         "x": [
          0.5806953814218994,
          0.4150233523611832
         ],
         "xaxis": "x",
         "y": [
          0.4317632850241545,
          0.47966988727858295
         ],
         "yaxis": "y"
        },
        {
         "hovertemplate": "significant=Significant Both<br>MW>OT                                              MW<OT=%{x}<br>VS>MCS                                              VS<MCS=%{y}<br>markers=%{text}<extra></extra>",
         "legendgroup": "Significant Both",
         "marker": {
          "color": "#F38A31",
          "size": 8,
          "symbol": "circle"
         },
         "mode": "markers+text",
         "name": "Significant Both",
         "orientation": "v",
         "showlegend": true,
         "text": [
          "$|\\theta|_{mean}$",
          "$|\\theta|_{std}$"
         ],
         "type": "scatter",
         "x": [
          0.6117021276595744,
          0.5996367410482616
         ],
         "xaxis": "x",
         "y": [
          0.6642512077294686,
          0.6145330112721418
         ],
         "yaxis": "y"
        }
       ],
       "layout": {
        "autosize": false,
        "height": 800,
        "legend": {
         "title": {
          "text": "significant"
         },
         "tracegroupgap": 0
        },
        "margin": {
         "t": 60
        },
        "shapes": [
         {
          "line": {
           "color": "black",
           "dash": "dash",
           "width": 2
          },
          "type": "line",
          "x0": 0.5,
          "x1": 0.5,
          "xref": "x",
          "y0": 0,
          "y1": 1,
          "yref": "y domain"
         },
         {
          "line": {
           "color": "black",
           "dash": "dash",
           "width": 2
          },
          "type": "line",
          "x0": 0,
          "x1": 1,
          "xref": "x domain",
          "y0": 0.5,
          "y1": 0.5,
          "yref": "y"
         }
        ],
        "template": {
         "data": {
          "bar": [
           {
            "error_x": {
             "color": "#2a3f5f"
            },
            "error_y": {
             "color": "#2a3f5f"
            },
            "marker": {
             "line": {
              "color": "white",
              "width": 0.5
             }
            },
            "type": "bar"
           }
          ],
          "barpolar": [
           {
            "marker": {
             "line": {
              "color": "white",
              "width": 0.5
             }
            },
            "type": "barpolar"
           }
          ],
          "carpet": [
           {
            "aaxis": {
             "endlinecolor": "#2a3f5f",
             "gridcolor": "#C8D4E3",
             "linecolor": "#C8D4E3",
             "minorgridcolor": "#C8D4E3",
             "startlinecolor": "#2a3f5f"
            },
            "baxis": {
             "endlinecolor": "#2a3f5f",
             "gridcolor": "#C8D4E3",
             "linecolor": "#C8D4E3",
             "minorgridcolor": "#C8D4E3",
             "startlinecolor": "#2a3f5f"
            },
            "type": "carpet"
           }
          ],
          "choropleth": [
           {
            "colorbar": {
             "outlinewidth": 0,
             "ticks": ""
            },
            "type": "choropleth"
           }
          ],
          "contour": [
           {
            "colorbar": {
             "outlinewidth": 0,
             "ticks": ""
            },
            "colorscale": [
             [
              0,
              "#0d0887"
             ],
             [
              0.1111111111111111,
              "#46039f"
             ],
             [
              0.2222222222222222,
              "#7201a8"
             ],
             [
              0.3333333333333333,
              "#9c179e"
             ],
             [
              0.4444444444444444,
              "#bd3786"
             ],
             [
              0.5555555555555556,
              "#d8576b"
             ],
             [
              0.6666666666666666,
              "#ed7953"
             ],
             [
              0.7777777777777778,
              "#fb9f3a"
             ],
             [
              0.8888888888888888,
              "#fdca26"
             ],
             [
              1,
              "#f0f921"
             ]
            ],
            "type": "contour"
           }
          ],
          "contourcarpet": [
           {
            "colorbar": {
             "outlinewidth": 0,
             "ticks": ""
            },
            "type": "contourcarpet"
           }
          ],
          "heatmap": [
           {
            "colorbar": {
             "outlinewidth": 0,
             "ticks": ""
            },
            "colorscale": [
             [
              0,
              "#0d0887"
             ],
             [
              0.1111111111111111,
              "#46039f"
             ],
             [
              0.2222222222222222,
              "#7201a8"
             ],
             [
              0.3333333333333333,
              "#9c179e"
             ],
             [
              0.4444444444444444,
              "#bd3786"
             ],
             [
              0.5555555555555556,
              "#d8576b"
             ],
             [
              0.6666666666666666,
              "#ed7953"
             ],
             [
              0.7777777777777778,
              "#fb9f3a"
             ],
             [
              0.8888888888888888,
              "#fdca26"
             ],
             [
              1,
              "#f0f921"
             ]
            ],
            "type": "heatmap"
           }
          ],
          "heatmapgl": [
           {
            "colorbar": {
             "outlinewidth": 0,
             "ticks": ""
            },
            "colorscale": [
             [
              0,
              "#0d0887"
             ],
             [
              0.1111111111111111,
              "#46039f"
             ],
             [
              0.2222222222222222,
              "#7201a8"
             ],
             [
              0.3333333333333333,
              "#9c179e"
             ],
             [
              0.4444444444444444,
              "#bd3786"
             ],
             [
              0.5555555555555556,
              "#d8576b"
             ],
             [
              0.6666666666666666,
              "#ed7953"
             ],
             [
              0.7777777777777778,
              "#fb9f3a"
             ],
             [
              0.8888888888888888,
              "#fdca26"
             ],
             [
              1,
              "#f0f921"
             ]
            ],
            "type": "heatmapgl"
           }
          ],
          "histogram": [
           {
            "marker": {
             "colorbar": {
              "outlinewidth": 0,
              "ticks": ""
             }
            },
            "type": "histogram"
           }
          ],
          "histogram2d": [
           {
            "colorbar": {
             "outlinewidth": 0,
             "ticks": ""
            },
            "colorscale": [
             [
              0,
              "#0d0887"
             ],
             [
              0.1111111111111111,
              "#46039f"
             ],
             [
              0.2222222222222222,
              "#7201a8"
             ],
             [
              0.3333333333333333,
              "#9c179e"
             ],
             [
              0.4444444444444444,
              "#bd3786"
             ],
             [
              0.5555555555555556,
              "#d8576b"
             ],
             [
              0.6666666666666666,
              "#ed7953"
             ],
             [
              0.7777777777777778,
              "#fb9f3a"
             ],
             [
              0.8888888888888888,
              "#fdca26"
             ],
             [
              1,
              "#f0f921"
             ]
            ],
            "type": "histogram2d"
           }
          ],
          "histogram2dcontour": [
           {
            "colorbar": {
             "outlinewidth": 0,
             "ticks": ""
            },
            "colorscale": [
             [
              0,
              "#0d0887"
             ],
             [
              0.1111111111111111,
              "#46039f"
             ],
             [
              0.2222222222222222,
              "#7201a8"
             ],
             [
              0.3333333333333333,
              "#9c179e"
             ],
             [
              0.4444444444444444,
              "#bd3786"
             ],
             [
              0.5555555555555556,
              "#d8576b"
             ],
             [
              0.6666666666666666,
              "#ed7953"
             ],
             [
              0.7777777777777778,
              "#fb9f3a"
             ],
             [
              0.8888888888888888,
              "#fdca26"
             ],
             [
              1,
              "#f0f921"
             ]
            ],
            "type": "histogram2dcontour"
           }
          ],
          "mesh3d": [
           {
            "colorbar": {
             "outlinewidth": 0,
             "ticks": ""
            },
            "type": "mesh3d"
           }
          ],
          "parcoords": [
           {
            "line": {
             "colorbar": {
              "outlinewidth": 0,
              "ticks": ""
             }
            },
            "type": "parcoords"
           }
          ],
          "pie": [
           {
            "automargin": true,
            "type": "pie"
           }
          ],
          "scatter": [
           {
            "marker": {
             "colorbar": {
              "outlinewidth": 0,
              "ticks": ""
             }
            },
            "type": "scatter"
           }
          ],
          "scatter3d": [
           {
            "line": {
             "colorbar": {
              "outlinewidth": 0,
              "ticks": ""
             }
            },
            "marker": {
             "colorbar": {
              "outlinewidth": 0,
              "ticks": ""
             }
            },
            "type": "scatter3d"
           }
          ],
          "scattercarpet": [
           {
            "marker": {
             "colorbar": {
              "outlinewidth": 0,
              "ticks": ""
             }
            },
            "type": "scattercarpet"
           }
          ],
          "scattergeo": [
           {
            "marker": {
             "colorbar": {
              "outlinewidth": 0,
              "ticks": ""
             }
            },
            "type": "scattergeo"
           }
          ],
          "scattergl": [
           {
            "marker": {
             "colorbar": {
              "outlinewidth": 0,
              "ticks": ""
             }
            },
            "type": "scattergl"
           }
          ],
          "scattermapbox": [
           {
            "marker": {
             "colorbar": {
              "outlinewidth": 0,
              "ticks": ""
             }
            },
            "type": "scattermapbox"
           }
          ],
          "scatterpolar": [
           {
            "marker": {
             "colorbar": {
              "outlinewidth": 0,
              "ticks": ""
             }
            },
            "type": "scatterpolar"
           }
          ],
          "scatterpolargl": [
           {
            "marker": {
             "colorbar": {
              "outlinewidth": 0,
              "ticks": ""
             }
            },
            "type": "scatterpolargl"
           }
          ],
          "scatterternary": [
           {
            "marker": {
             "colorbar": {
              "outlinewidth": 0,
              "ticks": ""
             }
            },
            "type": "scatterternary"
           }
          ],
          "surface": [
           {
            "colorbar": {
             "outlinewidth": 0,
             "ticks": ""
            },
            "colorscale": [
             [
              0,
              "#0d0887"
             ],
             [
              0.1111111111111111,
              "#46039f"
             ],
             [
              0.2222222222222222,
              "#7201a8"
             ],
             [
              0.3333333333333333,
              "#9c179e"
             ],
             [
              0.4444444444444444,
              "#bd3786"
             ],
             [
              0.5555555555555556,
              "#d8576b"
             ],
             [
              0.6666666666666666,
              "#ed7953"
             ],
             [
              0.7777777777777778,
              "#fb9f3a"
             ],
             [
              0.8888888888888888,
              "#fdca26"
             ],
             [
              1,
              "#f0f921"
             ]
            ],
            "type": "surface"
           }
          ],
          "table": [
           {
            "cells": {
             "fill": {
              "color": "#EBF0F8"
             },
             "line": {
              "color": "white"
             }
            },
            "header": {
             "fill": {
              "color": "#C8D4E3"
             },
             "line": {
              "color": "white"
             }
            },
            "type": "table"
           }
          ]
         },
         "layout": {
          "annotationdefaults": {
           "arrowcolor": "#2a3f5f",
           "arrowhead": 0,
           "arrowwidth": 1
          },
          "autotypenumbers": "strict",
          "coloraxis": {
           "colorbar": {
            "outlinewidth": 0,
            "ticks": ""
           }
          },
          "colorscale": {
           "diverging": [
            [
             0,
             "#8e0152"
            ],
            [
             0.1,
             "#c51b7d"
            ],
            [
             0.2,
             "#de77ae"
            ],
            [
             0.3,
             "#f1b6da"
            ],
            [
             0.4,
             "#fde0ef"
            ],
            [
             0.5,
             "#f7f7f7"
            ],
            [
             0.6,
             "#e6f5d0"
            ],
            [
             0.7,
             "#b8e186"
            ],
            [
             0.8,
             "#7fbc41"
            ],
            [
             0.9,
             "#4d9221"
            ],
            [
             1,
             "#276419"
            ]
           ],
           "sequential": [
            [
             0,
             "#0d0887"
            ],
            [
             0.1111111111111111,
             "#46039f"
            ],
            [
             0.2222222222222222,
             "#7201a8"
            ],
            [
             0.3333333333333333,
             "#9c179e"
            ],
            [
             0.4444444444444444,
             "#bd3786"
            ],
            [
             0.5555555555555556,
             "#d8576b"
            ],
            [
             0.6666666666666666,
             "#ed7953"
            ],
            [
             0.7777777777777778,
             "#fb9f3a"
            ],
            [
             0.8888888888888888,
             "#fdca26"
            ],
            [
             1,
             "#f0f921"
            ]
           ],
           "sequentialminus": [
            [
             0,
             "#0d0887"
            ],
            [
             0.1111111111111111,
             "#46039f"
            ],
            [
             0.2222222222222222,
             "#7201a8"
            ],
            [
             0.3333333333333333,
             "#9c179e"
            ],
            [
             0.4444444444444444,
             "#bd3786"
            ],
            [
             0.5555555555555556,
             "#d8576b"
            ],
            [
             0.6666666666666666,
             "#ed7953"
            ],
            [
             0.7777777777777778,
             "#fb9f3a"
            ],
            [
             0.8888888888888888,
             "#fdca26"
            ],
            [
             1,
             "#f0f921"
            ]
           ]
          },
          "colorway": [
           "#636efa",
           "#EF553B",
           "#00cc96",
           "#ab63fa",
           "#FFA15A",
           "#19d3f3",
           "#FF6692",
           "#B6E880",
           "#FF97FF",
           "#FECB52"
          ],
          "font": {
           "color": "#2a3f5f"
          },
          "geo": {
           "bgcolor": "white",
           "lakecolor": "white",
           "landcolor": "white",
           "showlakes": true,
           "showland": true,
           "subunitcolor": "#C8D4E3"
          },
          "hoverlabel": {
           "align": "left"
          },
          "hovermode": "closest",
          "mapbox": {
           "style": "light"
          },
          "paper_bgcolor": "white",
          "plot_bgcolor": "white",
          "polar": {
           "angularaxis": {
            "gridcolor": "#EBF0F8",
            "linecolor": "#EBF0F8",
            "ticks": ""
           },
           "bgcolor": "white",
           "radialaxis": {
            "gridcolor": "#EBF0F8",
            "linecolor": "#EBF0F8",
            "ticks": ""
           }
          },
          "scene": {
           "xaxis": {
            "backgroundcolor": "white",
            "gridcolor": "#DFE8F3",
            "gridwidth": 2,
            "linecolor": "#EBF0F8",
            "showbackground": true,
            "ticks": "",
            "zerolinecolor": "#EBF0F8"
           },
           "yaxis": {
            "backgroundcolor": "white",
            "gridcolor": "#DFE8F3",
            "gridwidth": 2,
            "linecolor": "#EBF0F8",
            "showbackground": true,
            "ticks": "",
            "zerolinecolor": "#EBF0F8"
           },
           "zaxis": {
            "backgroundcolor": "white",
            "gridcolor": "#DFE8F3",
            "gridwidth": 2,
            "linecolor": "#EBF0F8",
            "showbackground": true,
            "ticks": "",
            "zerolinecolor": "#EBF0F8"
           }
          },
          "shapedefaults": {
           "line": {
            "color": "#2a3f5f"
           }
          },
          "ternary": {
           "aaxis": {
            "gridcolor": "#DFE8F3",
            "linecolor": "#A2B1C6",
            "ticks": ""
           },
           "baxis": {
            "gridcolor": "#DFE8F3",
            "linecolor": "#A2B1C6",
            "ticks": ""
           },
           "bgcolor": "white",
           "caxis": {
            "gridcolor": "#DFE8F3",
            "linecolor": "#A2B1C6",
            "ticks": ""
           }
          },
          "title": {
           "x": 0.05
          },
          "xaxis": {
           "automargin": true,
           "gridcolor": "#EBF0F8",
           "linecolor": "#EBF0F8",
           "ticks": "",
           "title": {
            "standoff": 15
           },
           "zerolinecolor": "#EBF0F8",
           "zerolinewidth": 2
          },
          "yaxis": {
           "automargin": true,
           "gridcolor": "#EBF0F8",
           "linecolor": "#EBF0F8",
           "ticks": "",
           "title": {
            "standoff": 15
           },
           "zerolinecolor": "#EBF0F8",
           "zerolinewidth": 2
          }
         }
        },
        "width": 800,
        "xaxis": {
         "anchor": "y",
         "domain": [
          0,
          1
         ],
         "range": [
          0.35,
          0.65
         ],
         "title": {
          "text": "MW>OT                                              MW<OT"
         },
         "type": "linear"
        },
        "yaxis": {
         "anchor": "x",
         "domain": [
          0,
          1
         ],
         "range": [
          0.25,
          0.75
         ],
         "title": {
          "text": "VS>MCS                                              VS<MCS"
         },
         "type": "linear"
        }
       }
      },
<<<<<<< HEAD
      "image/png": "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",
=======
      "image/png": "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",
>>>>>>> 2022493a3631333ac5763063f388965c3eb85334
      "text/html": [
       "<div>                            <div id=\"81cf0064-3540-4137-9044-e803a3a8ff63\" class=\"plotly-graph-div\" style=\"height:800px; width:800px;\"></div>            <script type=\"text/javascript\">                require([\"plotly\"], function(Plotly) {                    window.PLOTLYENV=window.PLOTLYENV || {};                                    if (document.getElementById(\"81cf0064-3540-4137-9044-e803a3a8ff63\")) {                    Plotly.newPlot(                        \"81cf0064-3540-4137-9044-e803a3a8ff63\",                        [{\"hovertemplate\": \"significant=Significant DOC<br>MW>OT                                              MW<OT=%{x}<br>VS>MCS                                              VS<MCS=%{y}<br>markers=%{text}<extra></extra>\", \"legendgroup\": \"Significant DOC\", \"marker\": {\"color\": \"#9AC529\", \"size\": 8, \"symbol\": \"circle\"}, \"mode\": \"markers+text\", \"name\": \"Significant DOC\", \"orientation\": \"v\", \"showlegend\": true, \"text\": [\"$wSMI\\\\theta_{mean}$\", \"$wSMI\\\\theta_{std}$\", \"$PE\\\\theta_{mean}$\", \"$PE\\\\theta_{std}$\", \"$SE_{mean}$\", \"$\\\\beta_{mean}$\", \"$\\\\beta_{std}$\", \"$\\\\gamma_{mean}$\", \"$\\\\theta_{mean}$\", \"$\\\\delta_{mean}$\", \"$|\\\\delta|_{mean}$\", \"$|\\\\alpha|_{mean}$\", \"$|\\\\alpha|_{std}$\", \"$\\\\alpha_{mean}$\"], \"type\": \"scatter\", \"x\": [0.5459263103269332, 0.4910482615464452, 0.4661390762843799, 0.5155682407887909, 0.4449922158796056, 0.4423975090814738, 0.5037623248572911, 0.46717695900363254, 0.5313959522573949, 0.5085625324338349, 0.5099896211728074, 0.4521276595744681, 0.4998702646600934, 0.4737934613388687], \"xaxis\": \"x\", \"y\": [0.6312399355877616, 0.6564009661835748, 0.6849838969404187, 0.41304347826086957, 0.6650563607085347, 0.6553945249597424, 0.40438808373590984, 0.6044685990338164, 0.7179951690821256, 0.6048711755233495, 0.37338969404186795, 0.6525764895330112, 0.6737117552334944, 0.7254428341384862], \"yaxis\": \"y\"}, {\"hovertemplate\": \"significant=Significant mind<br>MW>OT                                              MW<OT=%{x}<br>VS>MCS                                              VS<MCS=%{y}<br>markers=%{text}<extra></extra>\", \"legendgroup\": \"Significant mind\", \"marker\": {\"color\": \"#DE237B\", \"size\": 8, \"symbol\": \"circle\"}, \"mode\": \"markers+text\", \"name\": \"Significant mind\", \"orientation\": \"v\", \"showlegend\": true, \"text\": [\"$K_{std}$\", \"$|\\\\beta|_{mean}$\"], \"type\": \"scatter\", \"x\": [0.5806953814218994, 0.4150233523611832], \"xaxis\": \"x\", \"y\": [0.4317632850241545, 0.47966988727858295], \"yaxis\": \"y\"}, {\"hovertemplate\": \"significant=Significant Both<br>MW>OT                                              MW<OT=%{x}<br>VS>MCS                                              VS<MCS=%{y}<br>markers=%{text}<extra></extra>\", \"legendgroup\": \"Significant Both\", \"marker\": {\"color\": \"#F38A31\", \"size\": 8, \"symbol\": \"circle\"}, \"mode\": \"markers+text\", \"name\": \"Significant Both\", \"orientation\": \"v\", \"showlegend\": true, \"text\": [\"$|\\\\theta|_{mean}$\", \"$|\\\\theta|_{std}$\"], \"type\": \"scatter\", \"x\": [0.6117021276595744, 0.5996367410482616], \"xaxis\": \"x\", \"y\": [0.6642512077294686, 0.6145330112721418], \"yaxis\": \"y\"}],                        {\"autosize\": false, \"height\": 800, \"legend\": {\"title\": {\"text\": \"significant\"}, \"tracegroupgap\": 0}, \"margin\": {\"t\": 60}, \"shapes\": [{\"line\": {\"color\": \"black\", \"dash\": \"dash\", \"width\": 2}, \"type\": \"line\", \"x0\": 0.5, \"x1\": 0.5, \"xref\": \"x\", \"y0\": 0, \"y1\": 1, \"yref\": \"y domain\"}, {\"line\": {\"color\": \"black\", \"dash\": \"dash\", \"width\": 2}, \"type\": \"line\", \"x0\": 0, \"x1\": 1, \"xref\": \"x domain\", \"y0\": 0.5, \"y1\": 0.5, \"yref\": \"y\"}], \"template\": {\"data\": {\"bar\": [{\"error_x\": {\"color\": \"#2a3f5f\"}, \"error_y\": {\"color\": \"#2a3f5f\"}, \"marker\": {\"line\": {\"color\": \"white\", \"width\": 0.5}}, \"type\": \"bar\"}], \"barpolar\": [{\"marker\": {\"line\": {\"color\": \"white\", \"width\": 0.5}}, \"type\": \"barpolar\"}], \"carpet\": [{\"aaxis\": {\"endlinecolor\": \"#2a3f5f\", \"gridcolor\": \"#C8D4E3\", \"linecolor\": \"#C8D4E3\", \"minorgridcolor\": \"#C8D4E3\", \"startlinecolor\": \"#2a3f5f\"}, \"baxis\": {\"endlinecolor\": \"#2a3f5f\", \"gridcolor\": \"#C8D4E3\", \"linecolor\": \"#C8D4E3\", \"minorgridcolor\": \"#C8D4E3\", \"startlinecolor\": \"#2a3f5f\"}, \"type\": \"carpet\"}], \"choropleth\": [{\"colorbar\": {\"outlinewidth\": 0, \"ticks\": \"\"}, \"type\": \"choropleth\"}], \"contour\": [{\"colorbar\": {\"outlinewidth\": 0, \"ticks\": \"\"}, \"colorscale\": [[0.0, \"#0d0887\"], [0.1111111111111111, \"#46039f\"], [0.2222222222222222, \"#7201a8\"], [0.3333333333333333, \"#9c179e\"], [0.4444444444444444, \"#bd3786\"], [0.5555555555555556, \"#d8576b\"], [0.6666666666666666, \"#ed7953\"], [0.7777777777777778, \"#fb9f3a\"], [0.8888888888888888, \"#fdca26\"], [1.0, \"#f0f921\"]], \"type\": \"contour\"}], \"contourcarpet\": [{\"colorbar\": {\"outlinewidth\": 0, \"ticks\": \"\"}, \"type\": \"contourcarpet\"}], \"heatmap\": [{\"colorbar\": {\"outlinewidth\": 0, \"ticks\": \"\"}, \"colorscale\": [[0.0, \"#0d0887\"], [0.1111111111111111, \"#46039f\"], [0.2222222222222222, \"#7201a8\"], [0.3333333333333333, \"#9c179e\"], [0.4444444444444444, \"#bd3786\"], [0.5555555555555556, \"#d8576b\"], [0.6666666666666666, \"#ed7953\"], [0.7777777777777778, \"#fb9f3a\"], [0.8888888888888888, \"#fdca26\"], [1.0, \"#f0f921\"]], \"type\": \"heatmap\"}], \"heatmapgl\": [{\"colorbar\": {\"outlinewidth\": 0, \"ticks\": \"\"}, \"colorscale\": [[0.0, \"#0d0887\"], [0.1111111111111111, \"#46039f\"], [0.2222222222222222, \"#7201a8\"], [0.3333333333333333, \"#9c179e\"], [0.4444444444444444, \"#bd3786\"], [0.5555555555555556, \"#d8576b\"], [0.6666666666666666, \"#ed7953\"], [0.7777777777777778, \"#fb9f3a\"], [0.8888888888888888, \"#fdca26\"], [1.0, \"#f0f921\"]], \"type\": \"heatmapgl\"}], \"histogram\": [{\"marker\": {\"colorbar\": {\"outlinewidth\": 0, \"ticks\": \"\"}}, \"type\": \"histogram\"}], \"histogram2d\": [{\"colorbar\": {\"outlinewidth\": 0, \"ticks\": \"\"}, \"colorscale\": [[0.0, \"#0d0887\"], [0.1111111111111111, \"#46039f\"], [0.2222222222222222, \"#7201a8\"], [0.3333333333333333, \"#9c179e\"], [0.4444444444444444, \"#bd3786\"], [0.5555555555555556, \"#d8576b\"], [0.6666666666666666, \"#ed7953\"], [0.7777777777777778, \"#fb9f3a\"], [0.8888888888888888, \"#fdca26\"], [1.0, \"#f0f921\"]], \"type\": \"histogram2d\"}], \"histogram2dcontour\": [{\"colorbar\": {\"outlinewidth\": 0, \"ticks\": \"\"}, \"colorscale\": [[0.0, \"#0d0887\"], [0.1111111111111111, \"#46039f\"], [0.2222222222222222, \"#7201a8\"], [0.3333333333333333, \"#9c179e\"], [0.4444444444444444, \"#bd3786\"], [0.5555555555555556, \"#d8576b\"], [0.6666666666666666, \"#ed7953\"], [0.7777777777777778, \"#fb9f3a\"], [0.8888888888888888, \"#fdca26\"], [1.0, \"#f0f921\"]], \"type\": \"histogram2dcontour\"}], \"mesh3d\": [{\"colorbar\": {\"outlinewidth\": 0, \"ticks\": \"\"}, \"type\": \"mesh3d\"}], \"parcoords\": [{\"line\": {\"colorbar\": {\"outlinewidth\": 0, \"ticks\": \"\"}}, \"type\": \"parcoords\"}], \"pie\": [{\"automargin\": true, \"type\": \"pie\"}], \"scatter\": [{\"marker\": {\"colorbar\": {\"outlinewidth\": 0, \"ticks\": \"\"}}, \"type\": \"scatter\"}], \"scatter3d\": [{\"line\": {\"colorbar\": {\"outlinewidth\": 0, \"ticks\": \"\"}}, \"marker\": {\"colorbar\": {\"outlinewidth\": 0, \"ticks\": \"\"}}, \"type\": \"scatter3d\"}], \"scattercarpet\": [{\"marker\": {\"colorbar\": {\"outlinewidth\": 0, \"ticks\": \"\"}}, \"type\": \"scattercarpet\"}], \"scattergeo\": [{\"marker\": {\"colorbar\": {\"outlinewidth\": 0, \"ticks\": \"\"}}, \"type\": \"scattergeo\"}], \"scattergl\": [{\"marker\": {\"colorbar\": {\"outlinewidth\": 0, \"ticks\": \"\"}}, \"type\": \"scattergl\"}], \"scattermapbox\": [{\"marker\": {\"colorbar\": {\"outlinewidth\": 0, \"ticks\": \"\"}}, \"type\": \"scattermapbox\"}], \"scatterpolar\": [{\"marker\": {\"colorbar\": {\"outlinewidth\": 0, \"ticks\": \"\"}}, \"type\": \"scatterpolar\"}], \"scatterpolargl\": [{\"marker\": {\"colorbar\": {\"outlinewidth\": 0, \"ticks\": \"\"}}, \"type\": \"scatterpolargl\"}], \"scatterternary\": [{\"marker\": {\"colorbar\": {\"outlinewidth\": 0, \"ticks\": \"\"}}, \"type\": \"scatterternary\"}], \"surface\": [{\"colorbar\": {\"outlinewidth\": 0, \"ticks\": \"\"}, \"colorscale\": [[0.0, \"#0d0887\"], [0.1111111111111111, \"#46039f\"], [0.2222222222222222, \"#7201a8\"], [0.3333333333333333, \"#9c179e\"], [0.4444444444444444, \"#bd3786\"], [0.5555555555555556, \"#d8576b\"], [0.6666666666666666, \"#ed7953\"], [0.7777777777777778, \"#fb9f3a\"], [0.8888888888888888, \"#fdca26\"], [1.0, \"#f0f921\"]], \"type\": \"surface\"}], \"table\": [{\"cells\": {\"fill\": {\"color\": \"#EBF0F8\"}, \"line\": {\"color\": \"white\"}}, \"header\": {\"fill\": {\"color\": \"#C8D4E3\"}, \"line\": {\"color\": \"white\"}}, \"type\": \"table\"}]}, \"layout\": {\"annotationdefaults\": {\"arrowcolor\": \"#2a3f5f\", \"arrowhead\": 0, \"arrowwidth\": 1}, \"autotypenumbers\": \"strict\", \"coloraxis\": {\"colorbar\": {\"outlinewidth\": 0, \"ticks\": \"\"}}, \"colorscale\": {\"diverging\": [[0, \"#8e0152\"], [0.1, \"#c51b7d\"], [0.2, \"#de77ae\"], [0.3, \"#f1b6da\"], [0.4, \"#fde0ef\"], [0.5, \"#f7f7f7\"], [0.6, \"#e6f5d0\"], [0.7, \"#b8e186\"], [0.8, \"#7fbc41\"], [0.9, \"#4d9221\"], [1, \"#276419\"]], \"sequential\": [[0.0, \"#0d0887\"], [0.1111111111111111, \"#46039f\"], [0.2222222222222222, \"#7201a8\"], [0.3333333333333333, \"#9c179e\"], [0.4444444444444444, \"#bd3786\"], [0.5555555555555556, \"#d8576b\"], [0.6666666666666666, \"#ed7953\"], [0.7777777777777778, \"#fb9f3a\"], [0.8888888888888888, \"#fdca26\"], [1.0, \"#f0f921\"]], \"sequentialminus\": [[0.0, \"#0d0887\"], [0.1111111111111111, \"#46039f\"], [0.2222222222222222, \"#7201a8\"], [0.3333333333333333, \"#9c179e\"], [0.4444444444444444, \"#bd3786\"], [0.5555555555555556, \"#d8576b\"], [0.6666666666666666, \"#ed7953\"], [0.7777777777777778, \"#fb9f3a\"], [0.8888888888888888, \"#fdca26\"], [1.0, \"#f0f921\"]]}, \"colorway\": [\"#636efa\", \"#EF553B\", \"#00cc96\", \"#ab63fa\", \"#FFA15A\", \"#19d3f3\", \"#FF6692\", \"#B6E880\", \"#FF97FF\", \"#FECB52\"], \"font\": {\"color\": \"#2a3f5f\"}, \"geo\": {\"bgcolor\": \"white\", \"lakecolor\": \"white\", \"landcolor\": \"white\", \"showlakes\": true, \"showland\": true, \"subunitcolor\": \"#C8D4E3\"}, \"hoverlabel\": {\"align\": \"left\"}, \"hovermode\": \"closest\", \"mapbox\": {\"style\": \"light\"}, \"paper_bgcolor\": \"white\", \"plot_bgcolor\": \"white\", \"polar\": {\"angularaxis\": {\"gridcolor\": \"#EBF0F8\", \"linecolor\": \"#EBF0F8\", \"ticks\": \"\"}, \"bgcolor\": \"white\", \"radialaxis\": {\"gridcolor\": \"#EBF0F8\", \"linecolor\": \"#EBF0F8\", \"ticks\": \"\"}}, \"scene\": {\"xaxis\": {\"backgroundcolor\": \"white\", \"gridcolor\": \"#DFE8F3\", \"gridwidth\": 2, \"linecolor\": \"#EBF0F8\", \"showbackground\": true, \"ticks\": \"\", \"zerolinecolor\": \"#EBF0F8\"}, \"yaxis\": {\"backgroundcolor\": \"white\", \"gridcolor\": \"#DFE8F3\", \"gridwidth\": 2, \"linecolor\": \"#EBF0F8\", \"showbackground\": true, \"ticks\": \"\", \"zerolinecolor\": \"#EBF0F8\"}, \"zaxis\": {\"backgroundcolor\": \"white\", \"gridcolor\": \"#DFE8F3\", \"gridwidth\": 2, \"linecolor\": \"#EBF0F8\", \"showbackground\": true, \"ticks\": \"\", \"zerolinecolor\": \"#EBF0F8\"}}, \"shapedefaults\": {\"line\": {\"color\": \"#2a3f5f\"}}, \"ternary\": {\"aaxis\": {\"gridcolor\": \"#DFE8F3\", \"linecolor\": \"#A2B1C6\", \"ticks\": \"\"}, \"baxis\": {\"gridcolor\": \"#DFE8F3\", \"linecolor\": \"#A2B1C6\", \"ticks\": \"\"}, \"bgcolor\": \"white\", \"caxis\": {\"gridcolor\": \"#DFE8F3\", \"linecolor\": \"#A2B1C6\", \"ticks\": \"\"}}, \"title\": {\"x\": 0.05}, \"xaxis\": {\"automargin\": true, \"gridcolor\": \"#EBF0F8\", \"linecolor\": \"#EBF0F8\", \"ticks\": \"\", \"title\": {\"standoff\": 15}, \"zerolinecolor\": \"#EBF0F8\", \"zerolinewidth\": 2}, \"yaxis\": {\"automargin\": true, \"gridcolor\": \"#EBF0F8\", \"linecolor\": \"#EBF0F8\", \"ticks\": \"\", \"title\": {\"standoff\": 15}, \"zerolinecolor\": \"#EBF0F8\", \"zerolinewidth\": 2}}}, \"width\": 800, \"xaxis\": {\"anchor\": \"y\", \"domain\": [0.0, 1.0], \"range\": [0.35, 0.65], \"title\": {\"text\": \"MW>OT                                              MW<OT\"}}, \"yaxis\": {\"anchor\": \"x\", \"domain\": [0.0, 1.0], \"range\": [0.25, 0.75], \"title\": {\"text\": \"VS>MCS                                              VS<MCS\"}}},                        {\"responsive\": true}                    ).then(function(){\n",
       "                            \n",
       "var gd = document.getElementById('81cf0064-3540-4137-9044-e803a3a8ff63');\n",
       "var x = new MutationObserver(function (mutations, observer) {{\n",
       "        var display = window.getComputedStyle(gd).display;\n",
       "        if (!display || display === 'none') {{\n",
       "            console.log([gd, 'removed!']);\n",
       "            Plotly.purge(gd);\n",
       "            observer.disconnect();\n",
       "        }}\n",
       "}});\n",
       "\n",
       "// Listen for the removal of the full notebook cells\n",
       "var notebookContainer = gd.closest('#notebook-container');\n",
       "if (notebookContainer) {{\n",
       "    x.observe(notebookContainer, {childList: true});\n",
       "}}\n",
       "\n",
       "// Listen for the clearing of the current output cell\n",
       "var outputEl = gd.closest('.output');\n",
       "if (outputEl) {{\n",
       "    x.observe(outputEl, {childList: true});\n",
       "}}\n",
       "\n",
       "                        })                };                });            </script>        </div>"
      ]
     },
     "metadata": {},
     "output_type": "display_data"
    }
   ],
   "source": [
    "fig = px.scatter(df_contrast.query(\"significant != 'Not significant'\"),x = 'AUC_mind', y = 'AUC_doc', template = \"plotly_white\", text = 'markers',\n",
    "                 color_discrete_sequence = [green,pink, orange, lblue],\n",
    "                 color = 'significant',\n",
    "                #symbol_sequence = ['circle-open','circle','hexagram' ],\n",
    "\n",
    "                 #category_orders = {'significant': ['p > 0.05','p < 0.05 uncorrected', 'p < 0.05 FDR corrected']}, \n",
    "                 labels = {'AUC_mind': f'MW>OT                                              MW<OT', \n",
    "                           'AUC_doc':'VS>MCS                                              VS<MCS'}\n",
    "\n",
    "                )\n",
    "\n",
    "fig.add_vline(x=0.5, line_width=2, line_dash=\"dash\", line_color=\"black\")\n",
    "fig.add_hline(y=0.5, line_width=2, line_dash=\"dash\", line_color=\"black\")\n",
    "\n",
    "fig.update_traces(marker=dict(size = 8))\n",
    "\n",
    "fig.update_layout(\n",
    "    autosize=False,\n",
    "    width=800,\n",
    "    height=800,\n",
    "    xaxis= {'range': (0.35, 0.65),\n",
    "            #'showticklabels': True,\n",
    "            #'tickmode': 'linear'\n",
    "           },\n",
    "    yaxis = {'range': (0.25, 0.75),\n",
    "            #'showticklabels': True,\n",
    "            #'tickmode': 'linear',\n",
    "        }\n",
    "\n",
    ")\n",
    "\n",
    "fig.show()"
   ]
  },
  {
   "cell_type": "markdown",
<<<<<<< HEAD
   "id": "advanced-satin",
=======
   "id": "physical-oxford",
>>>>>>> 2022493a3631333ac5763063f388965c3eb85334
   "metadata": {},
   "source": [
    " # HC vs MCS"
   ]
  },
  {
   "cell_type": "code",
   "execution_count": 120,
<<<<<<< HEAD
   "id": "ready-leave",
=======
   "id": "specialized-provision",
>>>>>>> 2022493a3631333ac5763063f388965c3eb85334
   "metadata": {},
   "outputs": [],
   "source": [
    "classification = ['HC', 'MCS']\n",
    "\n",
    "#df = df.drop(erps, axis = 1)\n",
    "\n",
    "agg_dict = {k: [\"mean\", 'std'] for k in markers}\n",
    "agg_dict.update({k: \"first\" for k in df.drop(markers, axis=1).columns})\n",
    "\n",
    "df_doc = (\n",
    "    df.query(f\"category in {classification}\")\n",
    "    .groupby([\"participant\", 'category'], as_index=False)\n",
    "    .agg(agg_dict)\n",
    ")\n",
    "\n",
    "# df_doc.columns = df_doc.columns.map(\"_\".join)\n",
    "\n",
    "# df_doc = df_doc.rename(\n",
    "#    columns={\n",
    "#        \"participant_first\": \"participant\",\n",
    "#        \"category_first\": \"category\",\n",
    "#        \"cat_order_first\":\"cat_order\"\n",
    "#    }\n",
    "# ).drop([\"participant\"], axis=1)\n",
    "\n",
    "\n",
    "#### Use latex command for nmaes###\n",
    "##it slow downs the computer, just for final figures.\n",
    "\n",
    "df_doc = correct_name_markers(df_doc)\n",
    "\n",
    "df_doc.columns = df_doc.columns.map(\"$_{\".join).map(lambda x: x + '}$').map(lambda x: x.replace('$$', ''))\n",
    "\n",
    "df_doc  = (df_doc\n",
    "            .rename(columns = {'participant$_{first}$':'participant', 'category$_{first}$':'category', 'cat_order$_{first}$':'cat_order'})        \n",
    "            .drop(['participant'], axis = 1) \n",
    "           )"
   ]
  },
  {
   "cell_type": "code",
   "execution_count": 124,
<<<<<<< HEAD
   "id": "smoking-peter",
=======
   "id": "communist-sheffield",
>>>>>>> 2022493a3631333ac5763063f388965c3eb85334
   "metadata": {},
   "outputs": [
    {
     "name": "stdout",
     "output_type": "stream",
     "text": [
      "AUC $wSMI\\gamma_{mean}$ = 0.5229142185663925 MannwhitneyuResult(statistic=0.0, pvalue=6.372859058264791e-25)\n",
      "AUC $wSMI\\gamma_{std}$ = 0.3176654915785351 MannwhitneyuResult(statistic=0.0, pvalue=6.372859058264791e-25)\n",
      "AUC $wSMI\\beta_{mean}$ = 0.5863689776733255 MannwhitneyuResult(statistic=0.0, pvalue=6.372859058264791e-25)\n",
      "AUC $wSMI\\beta_{std}$ = 0.4571092831962398 MannwhitneyuResult(statistic=0.0, pvalue=6.372859058264791e-25)\n",
      "AUC $wSMI\\alpha_{mean}$ = 0.8127692910301606 MannwhitneyuResult(statistic=0.0, pvalue=6.372859058264791e-25)\n",
      "AUC $wSMI\\alpha_{std}$ = 0.7947512730121425 MannwhitneyuResult(statistic=0.0, pvalue=6.372859058264791e-25)\n",
      "AUC $wSMI\\theta_{mean}$ = 0.63650607128868 MannwhitneyuResult(statistic=0.0, pvalue=6.372859058264791e-25)\n",
      "AUC $wSMI\\theta_{std}$ = 0.6521739130434783 MannwhitneyuResult(statistic=0.0, pvalue=6.372859058264791e-25)\n",
      "AUC $PE\\gamma_{mean}$ = 0.4676850763807286 MannwhitneyuResult(statistic=0.0, pvalue=6.372859058264791e-25)\n",
      "AUC $PE\\gamma_{std}$ = 0.49980415197806505 MannwhitneyuResult(statistic=0.0, pvalue=6.372859058264791e-25)\n",
      "AUC $PE\\beta_{mean}$ = 0.4582843713278496 MannwhitneyuResult(statistic=0.0, pvalue=6.372859058264791e-25)\n",
      "AUC $PE\\beta_{std}$ = 0.4919702311006659 MannwhitneyuResult(statistic=0.0, pvalue=6.372859058264791e-25)\n",
      "AUC $PE\\alpha_{mean}$ = 0.7888758323540933 MannwhitneyuResult(statistic=0.0, pvalue=6.372859058264791e-25)\n",
      "AUC $PE\\alpha_{std}$ = 0.07951429690560124 MannwhitneyuResult(statistic=0.0, pvalue=6.372859058264791e-25)\n",
      "AUC $PE\\theta_{mean}$ = 0.9353701527614571 MannwhitneyuResult(statistic=0.0, pvalue=6.372859058264791e-25)\n",
      "AUC $PE\\theta_{std}$ = 0.30278104191147664 MannwhitneyuResult(statistic=0.0, pvalue=6.372859058264791e-25)\n",
      "AUC $K_{mean}$ = 0.8127692910301606 MannwhitneyuResult(statistic=0.0, pvalue=6.372859058264791e-25)\n",
      "AUC $K_{std}$ = 0.05797101449275364 MannwhitneyuResult(statistic=0.0, pvalue=6.372859058264791e-25)\n",
      "AUC $SE_{mean}$ = 0.37406972189580884 MannwhitneyuResult(statistic=0.0, pvalue=6.372859058264791e-25)\n",
      "AUC $SE_{std}$ = 0.3607520564042303 MannwhitneyuResult(statistic=1997.0, pvalue=0.022401627429270158)\n",
      "AUC $MSF_{mean}$ = 0.8245201723462593 MannwhitneyuResult(statistic=37.0, pvalue=3.0514541290066873e-24)\n",
      "AUC $MSF_{std}$ = 0.44888366627497056 MannwhitneyuResult(statistic=1801.0, pvalue=0.002439849902835795)\n",
      "AUC $SEF90_{mean}$ = 0.6529573051312182 MannwhitneyuResult(statistic=0.0, pvalue=6.372859058264791e-25)\n",
      "AUC $SEF90_{std}$ = 0.27732079905992946 MannwhitneyuResult(statistic=597.0, pvalue=3.6093871569591595e-15)\n",
      "AUC $SEF95_{mean}$ = 0.6466901684292988 MannwhitneyuResult(statistic=0.0, pvalue=6.372859058264791e-25)\n",
      "AUC $SEF95_{std}$ = 0.2526439482961222 MannwhitneyuResult(statistic=434.0, pvalue=1.4212850133300994e-17)\n",
      "AUC $\\beta_{mean}$ = 0.6572659616137877 MannwhitneyuResult(statistic=0.0, pvalue=6.372859058264791e-25)\n",
      "AUC $\\beta_{std}$ = 0.409322365844105 MannwhitneyuResult(statistic=1975.0, pvalue=0.01798649186580549)\n",
      "AUC $|\\beta|_{mean}$ = 0.745397571484528 MannwhitneyuResult(statistic=0.0, pvalue=6.372859058264791e-25)\n",
      "AUC $|\\beta|_{std}$ = 0.6122209165687427 MannwhitneyuResult(statistic=0.0, pvalue=6.372859058264791e-25)\n",
      "AUC $\\gamma_{mean}$ = 0.5142969056012534 MannwhitneyuResult(statistic=0.0, pvalue=6.372859058264791e-25)\n",
      "AUC $\\gamma_{std}$ = 0.19271445358401879 MannwhitneyuResult(statistic=2274.0, pvalue=0.19377976946640346)\n",
      "AUC $|\\gamma|_{mean}$ = 0.518605562083823 MannwhitneyuResult(statistic=0.0, pvalue=6.372859058264791e-25)\n",
      "AUC $|\\gamma|_{std}$ = 0.4175479827653741 MannwhitneyuResult(statistic=0.0, pvalue=6.372859058264791e-25)\n",
      "AUC $\\theta_{mean}$ = 0.26439482961222094 MannwhitneyuResult(statistic=0.0, pvalue=6.372859058264791e-25)\n",
      "AUC $\\theta_{std}$ = 0.5052878965922445 MannwhitneyuResult(statistic=2035.0, pvalue=0.03217323872064266)\n",
      "AUC $|\\theta|_{mean}$ = 0.19153936545240893 MannwhitneyuResult(statistic=0.0, pvalue=6.372859058264791e-25)\n",
      "AUC $|\\theta|_{std}$ = 0.23423423423423423 MannwhitneyuResult(statistic=0.0, pvalue=6.372859058264791e-25)\n",
      "AUC $\\delta_{mean}$ = 0.17783000391696044 MannwhitneyuResult(statistic=0.0, pvalue=6.372859058264791e-25)\n",
      "AUC $\\delta_{std}$ = 0.29338033685859777 MannwhitneyuResult(statistic=1122.0, pvalue=9.810826099610178e-09)\n",
      "AUC $|\\delta|_{mean}$ = 0.0881316098707403 MannwhitneyuResult(statistic=0.0, pvalue=6.372859058264791e-25)\n",
      "AUC $|\\delta|_{std}$ = 0.2346259302781042 MannwhitneyuResult(statistic=0.0, pvalue=6.372859058264791e-25)\n",
      "AUC $|\\alpha|_{mean}$ = 0.9600470035252644 MannwhitneyuResult(statistic=0.0, pvalue=6.372859058264791e-25)\n",
      "AUC $|\\alpha|_{std}$ = 0.9526047786917352 MannwhitneyuResult(statistic=0.0, pvalue=6.372859058264791e-25)\n",
      "AUC $\\alpha_{mean}$ = 0.7461809635722679 MannwhitneyuResult(statistic=0.0, pvalue=6.372859058264791e-25)\n",
      "AUC $\\alpha_{std}$ = 0.8468468468468469 MannwhitneyuResult(statistic=2159.0, pvalue=0.09039085601147401)\n"
     ]
    }
   ],
   "source": [
    "AUC = []\n",
    "pvalues = {}\n",
    "for i in df_doc.drop(['category', 'cat_order'], axis = 1).columns:\n",
    "    hc = df_doc.query(\"category == 'HC'\")[i]\n",
    "    mcs = df_doc.query(\"category == 'MCS'\")[i]\n",
    "    auc = roc_auc_score(df_doc['cat_order'], df_doc[i])\n",
    "    print(f'AUC {i} = {auc}', f'{mannwhitneyu(x = vs, y = mcs)}')\n",
    "    AUC.append([i, auc])\n",
    "    pvalues[i] = mannwhitneyu(x = vs, y = mcs).pvalue \n",
    "        \n",
    "roc_vs_mcs = pd.DataFrame(AUC, columns = ['markers', 'AUC'])\n",
    "\n",
    "p_df =pd.DataFrame.from_dict(pvalues, orient = 'index', columns = ['p_value']).reset_index().rename(columns ={'index': 'markers'})\n",
    "roc_vs_mcs = (roc_vs_mcs\n",
    "            .merge(p_df, on = 'markers', how = 'inner')\n",
    "            .assign(\n",
    "                    p_corrected = lambda df: multipletests(df.p_value, method = 'fdr_bh')[1],\n",
    "                    significant = lambda df: np.select([(df.p_value < 0.05) & (df.p_corrected < 0.05), (df.p_value < 0.05) & (df.p_corrected > 0.05),  \n",
    "                                                 (df.p_value > 0.05) & (df.p_corrected > 0.05)], ['p < 0.05 FDR corrected','p < 0.05 uncorrected', 'p > 0.05'])\n",
    "                   )\n",
    "           )\n"
   ]
  },
  {
   "cell_type": "markdown",
<<<<<<< HEAD
   "id": "democratic-faith",
=======
   "id": "valid-roommate",
>>>>>>> 2022493a3631333ac5763063f388965c3eb85334
   "metadata": {},
   "source": [
    "# DOC vs Mind"
   ]
  },
  {
   "cell_type": "code",
   "execution_count": 125,
<<<<<<< HEAD
   "id": "collected-crest",
=======
   "id": "sporting-thesaurus",
>>>>>>> 2022493a3631333ac5763063f388965c3eb85334
   "metadata": {},
   "outputs": [],
   "source": [
    "df_contrast = (segment_mind_roc.merge(roc_vs_mcs, on = 'markers', suffixes=('_mind', '_doc'))\n",
    "               .assign(significant= lambda df: np.select([(df.significant_mind != \"p > 0.05\" )& (df.significant_doc == \"p > 0.05\"),\n",
    "                                                          (df.significant_mind == \"p > 0.05\" )& (df.significant_doc != \"p > 0.05\"),\n",
    "                                                         (df.significant_mind != \"p > 0.05\" )& (df.significant_doc != \"p > 0.05\"),\n",
    "                                                         (df.significant_mind == \"p > 0.05\" )& (df.significant_doc == \"p > 0.05\")],\n",
    "                                                         ['Significant mind', 'Significant DOC', 'Significant Both', 'Not significant']))\n",
    "              )"
   ]
  },
  {
   "cell_type": "code",
   "execution_count": 127,
<<<<<<< HEAD
   "id": "conceptual-recruitment",
=======
   "id": "invalid-modem",
>>>>>>> 2022493a3631333ac5763063f388965c3eb85334
   "metadata": {},
   "outputs": [
    {
     "data": {
      "text/html": [
       "<div>\n",
       "<style scoped>\n",
       "    .dataframe tbody tr th:only-of-type {\n",
       "        vertical-align: middle;\n",
       "    }\n",
       "\n",
       "    .dataframe tbody tr th {\n",
       "        vertical-align: top;\n",
       "    }\n",
       "\n",
       "    .dataframe thead th {\n",
       "        text-align: right;\n",
       "    }\n",
       "</style>\n",
       "<table border=\"1\" class=\"dataframe\">\n",
       "  <thead>\n",
       "    <tr style=\"text-align: right;\">\n",
       "      <th></th>\n",
       "      <th>markers</th>\n",
       "      <th>AUC_mind</th>\n",
       "      <th>p_value_mind</th>\n",
       "      <th>p_corrected_mind</th>\n",
       "      <th>significant_mind</th>\n",
       "      <th>AUC_doc</th>\n",
       "      <th>p_value_doc</th>\n",
       "      <th>p_corrected_doc</th>\n",
       "      <th>significant_doc</th>\n",
       "      <th>significant</th>\n",
       "    </tr>\n",
       "  </thead>\n",
       "  <tbody>\n",
       "    <tr>\n",
       "      <th>0</th>\n",
       "      <td>$wSMI\\gamma_{mean}$</td>\n",
       "      <td>0.510768</td>\n",
       "      <td>0.403355</td>\n",
       "      <td>0.452498</td>\n",
       "      <td>p &gt; 0.05</td>\n",
       "      <td>0.522914</td>\n",
       "      <td>6.372859e-25</td>\n",
       "      <td>8.143098e-25</td>\n",
       "      <td>p &lt; 0.05 FDR corrected</td>\n",
       "      <td>Significant DOC</td>\n",
       "    </tr>\n",
       "    <tr>\n",
       "      <th>1</th>\n",
       "      <td>$wSMI\\gamma_{std}$</td>\n",
       "      <td>0.554619</td>\n",
       "      <td>0.106182</td>\n",
       "      <td>0.398317</td>\n",
       "      <td>p &gt; 0.05</td>\n",
       "      <td>0.317665</td>\n",
       "      <td>6.372859e-25</td>\n",
       "      <td>8.143098e-25</td>\n",
       "      <td>p &lt; 0.05 FDR corrected</td>\n",
       "      <td>Significant DOC</td>\n",
       "    </tr>\n",
       "    <tr>\n",
       "      <th>2</th>\n",
       "      <td>$wSMI\\beta_{mean}$</td>\n",
       "      <td>0.533212</td>\n",
       "      <td>0.224301</td>\n",
       "      <td>0.398317</td>\n",
       "      <td>p &gt; 0.05</td>\n",
       "      <td>0.586369</td>\n",
       "      <td>6.372859e-25</td>\n",
       "      <td>8.143098e-25</td>\n",
       "      <td>p &lt; 0.05 FDR corrected</td>\n",
       "      <td>Significant DOC</td>\n",
       "    </tr>\n",
       "    <tr>\n",
       "      <th>3</th>\n",
       "      <td>$wSMI\\beta_{std}$</td>\n",
       "      <td>0.457706</td>\n",
       "      <td>0.167185</td>\n",
       "      <td>0.398317</td>\n",
       "      <td>p &gt; 0.05</td>\n",
       "      <td>0.457109</td>\n",
       "      <td>6.372859e-25</td>\n",
       "      <td>8.143098e-25</td>\n",
       "      <td>p &lt; 0.05 FDR corrected</td>\n",
       "      <td>Significant DOC</td>\n",
       "    </tr>\n",
       "    <tr>\n",
       "      <th>4</th>\n",
       "      <td>$wSMI\\alpha_{mean}$</td>\n",
       "      <td>0.546445</td>\n",
       "      <td>0.144515</td>\n",
       "      <td>0.398317</td>\n",
       "      <td>p &gt; 0.05</td>\n",
       "      <td>0.812769</td>\n",
       "      <td>6.372859e-25</td>\n",
       "      <td>8.143098e-25</td>\n",
       "      <td>p &lt; 0.05 FDR corrected</td>\n",
       "      <td>Significant DOC</td>\n",
       "    </tr>\n",
       "    <tr>\n",
       "      <th>5</th>\n",
       "      <td>$wSMI\\alpha_{std}$</td>\n",
       "      <td>0.544499</td>\n",
       "      <td>0.154870</td>\n",
       "      <td>0.398317</td>\n",
       "      <td>p &gt; 0.05</td>\n",
       "      <td>0.794751</td>\n",
       "      <td>6.372859e-25</td>\n",
       "      <td>8.143098e-25</td>\n",
       "      <td>p &lt; 0.05 FDR corrected</td>\n",
       "      <td>Significant DOC</td>\n",
       "    </tr>\n",
       "    <tr>\n",
       "      <th>6</th>\n",
       "      <td>$wSMI\\theta_{mean}$</td>\n",
       "      <td>0.545926</td>\n",
       "      <td>0.147230</td>\n",
       "      <td>0.398317</td>\n",
       "      <td>p &gt; 0.05</td>\n",
       "      <td>0.636506</td>\n",
       "      <td>6.372859e-25</td>\n",
       "      <td>8.143098e-25</td>\n",
       "      <td>p &lt; 0.05 FDR corrected</td>\n",
       "      <td>Significant DOC</td>\n",
       "    </tr>\n",
       "    <tr>\n",
       "      <th>7</th>\n",
       "      <td>$wSMI\\theta_{std}$</td>\n",
       "      <td>0.491048</td>\n",
       "      <td>0.419508</td>\n",
       "      <td>0.452498</td>\n",
       "      <td>p &gt; 0.05</td>\n",
       "      <td>0.652174</td>\n",
       "      <td>6.372859e-25</td>\n",
       "      <td>8.143098e-25</td>\n",
       "      <td>p &lt; 0.05 FDR corrected</td>\n",
       "      <td>Significant DOC</td>\n",
       "    </tr>\n",
       "    <tr>\n",
       "      <th>8</th>\n",
       "      <td>$PE\\gamma_{mean}$</td>\n",
       "      <td>0.516476</td>\n",
       "      <td>0.353768</td>\n",
       "      <td>0.452498</td>\n",
       "      <td>p &gt; 0.05</td>\n",
       "      <td>0.467685</td>\n",
       "      <td>6.372859e-25</td>\n",
       "      <td>8.143098e-25</td>\n",
       "      <td>p &lt; 0.05 FDR corrected</td>\n",
       "      <td>Significant DOC</td>\n",
       "    </tr>\n",
       "    <tr>\n",
       "      <th>9</th>\n",
       "      <td>$PE\\gamma_{std}$</td>\n",
       "      <td>0.566295</td>\n",
       "      <td>0.065012</td>\n",
       "      <td>0.393676</td>\n",
       "      <td>p &gt; 0.05</td>\n",
       "      <td>0.499804</td>\n",
       "      <td>6.372859e-25</td>\n",
       "      <td>8.143098e-25</td>\n",
       "      <td>p &lt; 0.05 FDR corrected</td>\n",
       "      <td>Significant DOC</td>\n",
       "    </tr>\n",
       "    <tr>\n",
       "      <th>10</th>\n",
       "      <td>$PE\\beta_{mean}$</td>\n",
       "      <td>0.517903</td>\n",
       "      <td>0.341714</td>\n",
       "      <td>0.452498</td>\n",
       "      <td>p &gt; 0.05</td>\n",
       "      <td>0.458284</td>\n",
       "      <td>6.372859e-25</td>\n",
       "      <td>8.143098e-25</td>\n",
       "      <td>p &lt; 0.05 FDR corrected</td>\n",
       "      <td>Significant DOC</td>\n",
       "    </tr>\n",
       "    <tr>\n",
       "      <th>11</th>\n",
       "      <td>$PE\\beta_{std}$</td>\n",
       "      <td>0.547743</td>\n",
       "      <td>0.137876</td>\n",
       "      <td>0.398317</td>\n",
       "      <td>p &gt; 0.05</td>\n",
       "      <td>0.491970</td>\n",
       "      <td>6.372859e-25</td>\n",
       "      <td>8.143098e-25</td>\n",
       "      <td>p &lt; 0.05 FDR corrected</td>\n",
       "      <td>Significant DOC</td>\n",
       "    </tr>\n",
       "    <tr>\n",
       "      <th>12</th>\n",
       "      <td>$PE\\alpha_{mean}$</td>\n",
       "      <td>0.428905</td>\n",
       "      <td>0.052215</td>\n",
       "      <td>0.393676</td>\n",
       "      <td>p &gt; 0.05</td>\n",
       "      <td>0.788876</td>\n",
       "      <td>6.372859e-25</td>\n",
       "      <td>8.143098e-25</td>\n",
       "      <td>p &lt; 0.05 FDR corrected</td>\n",
       "      <td>Significant DOC</td>\n",
       "    </tr>\n",
       "    <tr>\n",
       "      <th>13</th>\n",
       "      <td>$PE\\alpha_{std}$</td>\n",
       "      <td>0.522055</td>\n",
       "      <td>0.307590</td>\n",
       "      <td>0.430216</td>\n",
       "      <td>p &gt; 0.05</td>\n",
       "      <td>0.079514</td>\n",
       "      <td>6.372859e-25</td>\n",
       "      <td>8.143098e-25</td>\n",
       "      <td>p &lt; 0.05 FDR corrected</td>\n",
       "      <td>Significant DOC</td>\n",
       "    </tr>\n",
       "    <tr>\n",
       "      <th>14</th>\n",
       "      <td>$PE\\theta_{mean}$</td>\n",
       "      <td>0.466139</td>\n",
       "      <td>0.219887</td>\n",
       "      <td>0.398317</td>\n",
       "      <td>p &gt; 0.05</td>\n",
       "      <td>0.935370</td>\n",
       "      <td>6.372859e-25</td>\n",
       "      <td>8.143098e-25</td>\n",
       "      <td>p &lt; 0.05 FDR corrected</td>\n",
       "      <td>Significant DOC</td>\n",
       "    </tr>\n",
       "    <tr>\n",
       "      <th>15</th>\n",
       "      <td>$PE\\theta_{std}$</td>\n",
       "      <td>0.515568</td>\n",
       "      <td>0.361517</td>\n",
       "      <td>0.452498</td>\n",
       "      <td>p &gt; 0.05</td>\n",
       "      <td>0.302781</td>\n",
       "      <td>6.372859e-25</td>\n",
       "      <td>8.143098e-25</td>\n",
       "      <td>p &lt; 0.05 FDR corrected</td>\n",
       "      <td>Significant DOC</td>\n",
       "    </tr>\n",
       "    <tr>\n",
       "      <th>16</th>\n",
       "      <td>$K_{mean}$</td>\n",
       "      <td>0.464517</td>\n",
       "      <td>0.209071</td>\n",
       "      <td>0.398317</td>\n",
       "      <td>p &gt; 0.05</td>\n",
       "      <td>0.812769</td>\n",
       "      <td>6.372859e-25</td>\n",
       "      <td>8.143098e-25</td>\n",
       "      <td>p &lt; 0.05 FDR corrected</td>\n",
       "      <td>Significant DOC</td>\n",
       "    </tr>\n",
       "    <tr>\n",
       "      <th>17</th>\n",
       "      <td>$K_{std}$</td>\n",
       "      <td>0.580695</td>\n",
       "      <td>0.032649</td>\n",
       "      <td>0.375467</td>\n",
       "      <td>p &lt; 0.05 uncorrected</td>\n",
       "      <td>0.057971</td>\n",
       "      <td>6.372859e-25</td>\n",
       "      <td>8.143098e-25</td>\n",
       "      <td>p &lt; 0.05 FDR corrected</td>\n",
       "      <td>Significant Both</td>\n",
       "    </tr>\n",
       "    <tr>\n",
       "      <th>18</th>\n",
       "      <td>$SE_{mean}$</td>\n",
       "      <td>0.444992</td>\n",
       "      <td>0.104560</td>\n",
       "      <td>0.398317</td>\n",
       "      <td>p &gt; 0.05</td>\n",
       "      <td>0.374070</td>\n",
       "      <td>6.372859e-25</td>\n",
       "      <td>8.143098e-25</td>\n",
       "      <td>p &lt; 0.05 FDR corrected</td>\n",
       "      <td>Significant DOC</td>\n",
       "    </tr>\n",
       "    <tr>\n",
       "      <th>19</th>\n",
       "      <td>$SE_{std}$</td>\n",
       "      <td>0.565127</td>\n",
       "      <td>0.068465</td>\n",
       "      <td>0.393676</td>\n",
       "      <td>p &gt; 0.05</td>\n",
       "      <td>0.360752</td>\n",
       "      <td>2.240163e-02</td>\n",
       "      <td>2.396453e-02</td>\n",
       "      <td>p &lt; 0.05 FDR corrected</td>\n",
       "      <td>Significant DOC</td>\n",
       "    </tr>\n",
       "    <tr>\n",
       "      <th>20</th>\n",
       "      <td>$MSF_{mean}$</td>\n",
       "      <td>0.434354</td>\n",
       "      <td>0.066913</td>\n",
       "      <td>0.393676</td>\n",
       "      <td>p &gt; 0.05</td>\n",
       "      <td>0.824520</td>\n",
       "      <td>3.051454e-24</td>\n",
       "      <td>3.793700e-24</td>\n",
       "      <td>p &lt; 0.05 FDR corrected</td>\n",
       "      <td>Significant DOC</td>\n",
       "    </tr>\n",
       "    <tr>\n",
       "      <th>21</th>\n",
       "      <td>$MSF_{std}$</td>\n",
       "      <td>0.537104</td>\n",
       "      <td>0.198576</td>\n",
       "      <td>0.398317</td>\n",
       "      <td>p &gt; 0.05</td>\n",
       "      <td>0.448884</td>\n",
       "      <td>2.439850e-03</td>\n",
       "      <td>2.737393e-03</td>\n",
       "      <td>p &lt; 0.05 FDR corrected</td>\n",
       "      <td>Significant DOC</td>\n",
       "    </tr>\n",
       "    <tr>\n",
       "      <th>22</th>\n",
       "      <td>$SEF90_{mean}$</td>\n",
       "      <td>0.473145</td>\n",
       "      <td>0.270128</td>\n",
       "      <td>0.408145</td>\n",
       "      <td>p &gt; 0.05</td>\n",
       "      <td>0.652957</td>\n",
       "      <td>6.372859e-25</td>\n",
       "      <td>8.143098e-25</td>\n",
       "      <td>p &lt; 0.05 FDR corrected</td>\n",
       "      <td>Significant DOC</td>\n",
       "    </tr>\n",
       "    <tr>\n",
       "      <th>23</th>\n",
       "      <td>$SEF90_{std}$</td>\n",
       "      <td>0.536456</td>\n",
       "      <td>0.202735</td>\n",
       "      <td>0.398317</td>\n",
       "      <td>p &gt; 0.05</td>\n",
       "      <td>0.277321</td>\n",
       "      <td>3.609387e-15</td>\n",
       "      <td>4.257226e-15</td>\n",
       "      <td>p &lt; 0.05 FDR corrected</td>\n",
       "      <td>Significant DOC</td>\n",
       "    </tr>\n",
       "    <tr>\n",
       "      <th>24</th>\n",
       "      <td>$SEF95_{mean}$</td>\n",
       "      <td>0.486767</td>\n",
       "      <td>0.381699</td>\n",
       "      <td>0.452498</td>\n",
       "      <td>p &gt; 0.05</td>\n",
       "      <td>0.646690</td>\n",
       "      <td>6.372859e-25</td>\n",
       "      <td>8.143098e-25</td>\n",
       "      <td>p &lt; 0.05 FDR corrected</td>\n",
       "      <td>Significant DOC</td>\n",
       "    </tr>\n",
       "    <tr>\n",
       "      <th>25</th>\n",
       "      <td>$SEF95_{std}$</td>\n",
       "      <td>0.521925</td>\n",
       "      <td>0.308634</td>\n",
       "      <td>0.430216</td>\n",
       "      <td>p &gt; 0.05</td>\n",
       "      <td>0.252644</td>\n",
       "      <td>1.421285e-17</td>\n",
       "      <td>1.720503e-17</td>\n",
       "      <td>p &lt; 0.05 FDR corrected</td>\n",
       "      <td>Significant DOC</td>\n",
       "    </tr>\n",
       "    <tr>\n",
       "      <th>26</th>\n",
       "      <td>$\\beta_{mean}$</td>\n",
       "      <td>0.442398</td>\n",
       "      <td>0.094204</td>\n",
       "      <td>0.398317</td>\n",
       "      <td>p &gt; 0.05</td>\n",
       "      <td>0.657266</td>\n",
       "      <td>6.372859e-25</td>\n",
       "      <td>8.143098e-25</td>\n",
       "      <td>p &lt; 0.05 FDR corrected</td>\n",
       "      <td>Significant DOC</td>\n",
       "    </tr>\n",
       "    <tr>\n",
       "      <th>27</th>\n",
       "      <td>$\\beta_{std}$</td>\n",
       "      <td>0.503762</td>\n",
       "      <td>0.466320</td>\n",
       "      <td>0.476683</td>\n",
       "      <td>p &gt; 0.05</td>\n",
       "      <td>0.409322</td>\n",
       "      <td>1.798649e-02</td>\n",
       "      <td>1.969949e-02</td>\n",
       "      <td>p &lt; 0.05 FDR corrected</td>\n",
       "      <td>Significant DOC</td>\n",
       "    </tr>\n",
       "    <tr>\n",
       "      <th>28</th>\n",
       "      <td>$|\\beta|_{mean}$</td>\n",
       "      <td>0.415023</td>\n",
       "      <td>0.026124</td>\n",
       "      <td>0.375467</td>\n",
       "      <td>p &lt; 0.05 uncorrected</td>\n",
       "      <td>0.745398</td>\n",
       "      <td>6.372859e-25</td>\n",
       "      <td>8.143098e-25</td>\n",
       "      <td>p &lt; 0.05 FDR corrected</td>\n",
       "      <td>Significant Both</td>\n",
       "    </tr>\n",
       "    <tr>\n",
       "      <th>29</th>\n",
       "      <td>$|\\beta|_{std}$</td>\n",
       "      <td>0.512714</td>\n",
       "      <td>0.386230</td>\n",
       "      <td>0.452498</td>\n",
       "      <td>p &gt; 0.05</td>\n",
       "      <td>0.612221</td>\n",
       "      <td>6.372859e-25</td>\n",
       "      <td>8.143098e-25</td>\n",
       "      <td>p &lt; 0.05 FDR corrected</td>\n",
       "      <td>Significant DOC</td>\n",
       "    </tr>\n",
       "    <tr>\n",
       "      <th>30</th>\n",
       "      <td>$\\gamma_{mean}$</td>\n",
       "      <td>0.467177</td>\n",
       "      <td>0.226974</td>\n",
       "      <td>0.398317</td>\n",
       "      <td>p &gt; 0.05</td>\n",
       "      <td>0.514297</td>\n",
       "      <td>6.372859e-25</td>\n",
       "      <td>8.143098e-25</td>\n",
       "      <td>p &lt; 0.05 FDR corrected</td>\n",
       "      <td>Significant DOC</td>\n",
       "    </tr>\n",
       "    <tr>\n",
       "      <th>31</th>\n",
       "      <td>$\\gamma_{std}$</td>\n",
       "      <td>0.548391</td>\n",
       "      <td>0.134636</td>\n",
       "      <td>0.398317</td>\n",
       "      <td>p &gt; 0.05</td>\n",
       "      <td>0.192714</td>\n",
       "      <td>1.937798e-01</td>\n",
       "      <td>1.937798e-01</td>\n",
       "      <td>p &gt; 0.05</td>\n",
       "      <td>Not significant</td>\n",
       "    </tr>\n",
       "    <tr>\n",
       "      <th>32</th>\n",
       "      <td>$|\\gamma|_{mean}$</td>\n",
       "      <td>0.493383</td>\n",
       "      <td>0.440473</td>\n",
       "      <td>0.460495</td>\n",
       "      <td>p &gt; 0.05</td>\n",
       "      <td>0.518606</td>\n",
       "      <td>6.372859e-25</td>\n",
       "      <td>8.143098e-25</td>\n",
       "      <td>p &lt; 0.05 FDR corrected</td>\n",
       "      <td>Significant DOC</td>\n",
       "    </tr>\n",
       "    <tr>\n",
       "      <th>33</th>\n",
       "      <td>$|\\gamma|_{std}$</td>\n",
       "      <td>0.534250</td>\n",
       "      <td>0.217262</td>\n",
       "      <td>0.398317</td>\n",
       "      <td>p &gt; 0.05</td>\n",
       "      <td>0.417548</td>\n",
       "      <td>6.372859e-25</td>\n",
       "      <td>8.143098e-25</td>\n",
       "      <td>p &lt; 0.05 FDR corrected</td>\n",
       "      <td>Significant DOC</td>\n",
       "    </tr>\n",
       "    <tr>\n",
       "      <th>34</th>\n",
       "      <td>$\\theta_{mean}$</td>\n",
       "      <td>0.531396</td>\n",
       "      <td>0.236926</td>\n",
       "      <td>0.398317</td>\n",
       "      <td>p &gt; 0.05</td>\n",
       "      <td>0.264395</td>\n",
       "      <td>6.372859e-25</td>\n",
       "      <td>8.143098e-25</td>\n",
       "      <td>p &lt; 0.05 FDR corrected</td>\n",
       "      <td>Significant DOC</td>\n",
       "    </tr>\n",
       "    <tr>\n",
       "      <th>35</th>\n",
       "      <td>$\\theta_{std}$</td>\n",
       "      <td>0.530618</td>\n",
       "      <td>0.242454</td>\n",
       "      <td>0.398317</td>\n",
       "      <td>p &gt; 0.05</td>\n",
       "      <td>0.505288</td>\n",
       "      <td>3.217324e-02</td>\n",
       "      <td>3.363566e-02</td>\n",
       "      <td>p &lt; 0.05 FDR corrected</td>\n",
       "      <td>Significant DOC</td>\n",
       "    </tr>\n",
       "    <tr>\n",
       "      <th>36</th>\n",
       "      <td>$|\\theta|_{mean}$</td>\n",
       "      <td>0.611702</td>\n",
       "      <td>0.005355</td>\n",
       "      <td>0.246331</td>\n",
       "      <td>p &lt; 0.05 uncorrected</td>\n",
       "      <td>0.191539</td>\n",
       "      <td>6.372859e-25</td>\n",
       "      <td>8.143098e-25</td>\n",
       "      <td>p &lt; 0.05 FDR corrected</td>\n",
       "      <td>Significant Both</td>\n",
       "    </tr>\n",
       "    <tr>\n",
       "      <th>37</th>\n",
       "      <td>$|\\theta|_{std}$</td>\n",
       "      <td>0.599637</td>\n",
       "      <td>0.011417</td>\n",
       "      <td>0.262588</td>\n",
       "      <td>p &lt; 0.05 uncorrected</td>\n",
       "      <td>0.234234</td>\n",
       "      <td>6.372859e-25</td>\n",
       "      <td>8.143098e-25</td>\n",
       "      <td>p &lt; 0.05 FDR corrected</td>\n",
       "      <td>Significant Both</td>\n",
       "    </tr>\n",
       "    <tr>\n",
       "      <th>38</th>\n",
       "      <td>$\\delta_{mean}$</td>\n",
       "      <td>0.508563</td>\n",
       "      <td>0.422988</td>\n",
       "      <td>0.452498</td>\n",
       "      <td>p &gt; 0.05</td>\n",
       "      <td>0.177830</td>\n",
       "      <td>6.372859e-25</td>\n",
       "      <td>8.143098e-25</td>\n",
       "      <td>p &lt; 0.05 FDR corrected</td>\n",
       "      <td>Significant DOC</td>\n",
       "    </tr>\n",
       "    <tr>\n",
       "      <th>39</th>\n",
       "      <td>$\\delta_{std}$</td>\n",
       "      <td>0.463544</td>\n",
       "      <td>0.202735</td>\n",
       "      <td>0.398317</td>\n",
       "      <td>p &gt; 0.05</td>\n",
       "      <td>0.293380</td>\n",
       "      <td>9.810826e-09</td>\n",
       "      <td>1.128245e-08</td>\n",
       "      <td>p &lt; 0.05 FDR corrected</td>\n",
       "      <td>Significant DOC</td>\n",
       "    </tr>\n",
       "    <tr>\n",
       "      <th>40</th>\n",
       "      <td>$|\\delta|_{mean}$</td>\n",
       "      <td>0.509990</td>\n",
       "      <td>0.410259</td>\n",
       "      <td>0.452498</td>\n",
       "      <td>p &gt; 0.05</td>\n",
       "      <td>0.088132</td>\n",
       "      <td>6.372859e-25</td>\n",
       "      <td>8.143098e-25</td>\n",
       "      <td>p &lt; 0.05 FDR corrected</td>\n",
       "      <td>Significant DOC</td>\n",
       "    </tr>\n",
       "    <tr>\n",
       "      <th>41</th>\n",
       "      <td>$|\\delta|_{std}$</td>\n",
       "      <td>0.490919</td>\n",
       "      <td>0.418349</td>\n",
       "      <td>0.452498</td>\n",
       "      <td>p &gt; 0.05</td>\n",
       "      <td>0.234626</td>\n",
       "      <td>6.372859e-25</td>\n",
       "      <td>8.143098e-25</td>\n",
       "      <td>p &lt; 0.05 FDR corrected</td>\n",
       "      <td>Significant DOC</td>\n",
       "    </tr>\n",
       "    <tr>\n",
       "      <th>42</th>\n",
       "      <td>$|\\alpha|_{mean}$</td>\n",
       "      <td>0.452128</td>\n",
       "      <td>0.137224</td>\n",
       "      <td>0.398317</td>\n",
       "      <td>p &gt; 0.05</td>\n",
       "      <td>0.960047</td>\n",
       "      <td>6.372859e-25</td>\n",
       "      <td>8.143098e-25</td>\n",
       "      <td>p &lt; 0.05 FDR corrected</td>\n",
       "      <td>Significant DOC</td>\n",
       "    </tr>\n",
       "    <tr>\n",
       "      <th>43</th>\n",
       "      <td>$|\\alpha|_{std}$</td>\n",
       "      <td>0.499870</td>\n",
       "      <td>0.499408</td>\n",
       "      <td>0.499408</td>\n",
       "      <td>p &gt; 0.05</td>\n",
       "      <td>0.952605</td>\n",
       "      <td>6.372859e-25</td>\n",
       "      <td>8.143098e-25</td>\n",
       "      <td>p &lt; 0.05 FDR corrected</td>\n",
       "      <td>Significant DOC</td>\n",
       "    </tr>\n",
       "    <tr>\n",
       "      <th>44</th>\n",
       "      <td>$\\alpha_{mean}$</td>\n",
       "      <td>0.473793</td>\n",
       "      <td>0.275055</td>\n",
       "      <td>0.408145</td>\n",
       "      <td>p &gt; 0.05</td>\n",
       "      <td>0.746181</td>\n",
       "      <td>6.372859e-25</td>\n",
       "      <td>8.143098e-25</td>\n",
       "      <td>p &lt; 0.05 FDR corrected</td>\n",
       "      <td>Significant DOC</td>\n",
       "    </tr>\n",
       "    <tr>\n",
       "      <th>45</th>\n",
       "      <td>$\\alpha_{std}$</td>\n",
       "      <td>0.472366</td>\n",
       "      <td>0.264275</td>\n",
       "      <td>0.408145</td>\n",
       "      <td>p &gt; 0.05</td>\n",
       "      <td>0.846847</td>\n",
       "      <td>9.039086e-02</td>\n",
       "      <td>9.239954e-02</td>\n",
       "      <td>p &gt; 0.05</td>\n",
       "      <td>Not significant</td>\n",
       "    </tr>\n",
       "  </tbody>\n",
       "</table>\n",
       "</div>"
      ],
      "text/plain": [
       "                markers  AUC_mind  p_value_mind  p_corrected_mind  \\\n",
       "0   $wSMI\\gamma_{mean}$  0.510768      0.403355          0.452498   \n",
       "1    $wSMI\\gamma_{std}$  0.554619      0.106182          0.398317   \n",
       "2    $wSMI\\beta_{mean}$  0.533212      0.224301          0.398317   \n",
       "3     $wSMI\\beta_{std}$  0.457706      0.167185          0.398317   \n",
       "4   $wSMI\\alpha_{mean}$  0.546445      0.144515          0.398317   \n",
       "5    $wSMI\\alpha_{std}$  0.544499      0.154870          0.398317   \n",
       "6   $wSMI\\theta_{mean}$  0.545926      0.147230          0.398317   \n",
       "7    $wSMI\\theta_{std}$  0.491048      0.419508          0.452498   \n",
       "8     $PE\\gamma_{mean}$  0.516476      0.353768          0.452498   \n",
       "9      $PE\\gamma_{std}$  0.566295      0.065012          0.393676   \n",
       "10     $PE\\beta_{mean}$  0.517903      0.341714          0.452498   \n",
       "11      $PE\\beta_{std}$  0.547743      0.137876          0.398317   \n",
       "12    $PE\\alpha_{mean}$  0.428905      0.052215          0.393676   \n",
       "13     $PE\\alpha_{std}$  0.522055      0.307590          0.430216   \n",
       "14    $PE\\theta_{mean}$  0.466139      0.219887          0.398317   \n",
       "15     $PE\\theta_{std}$  0.515568      0.361517          0.452498   \n",
       "16           $K_{mean}$  0.464517      0.209071          0.398317   \n",
       "17            $K_{std}$  0.580695      0.032649          0.375467   \n",
       "18          $SE_{mean}$  0.444992      0.104560          0.398317   \n",
       "19           $SE_{std}$  0.565127      0.068465          0.393676   \n",
       "20         $MSF_{mean}$  0.434354      0.066913          0.393676   \n",
       "21          $MSF_{std}$  0.537104      0.198576          0.398317   \n",
       "22       $SEF90_{mean}$  0.473145      0.270128          0.408145   \n",
       "23        $SEF90_{std}$  0.536456      0.202735          0.398317   \n",
       "24       $SEF95_{mean}$  0.486767      0.381699          0.452498   \n",
       "25        $SEF95_{std}$  0.521925      0.308634          0.430216   \n",
       "26       $\\beta_{mean}$  0.442398      0.094204          0.398317   \n",
       "27        $\\beta_{std}$  0.503762      0.466320          0.476683   \n",
       "28     $|\\beta|_{mean}$  0.415023      0.026124          0.375467   \n",
       "29      $|\\beta|_{std}$  0.512714      0.386230          0.452498   \n",
       "30      $\\gamma_{mean}$  0.467177      0.226974          0.398317   \n",
       "31       $\\gamma_{std}$  0.548391      0.134636          0.398317   \n",
       "32    $|\\gamma|_{mean}$  0.493383      0.440473          0.460495   \n",
       "33     $|\\gamma|_{std}$  0.534250      0.217262          0.398317   \n",
       "34      $\\theta_{mean}$  0.531396      0.236926          0.398317   \n",
       "35       $\\theta_{std}$  0.530618      0.242454          0.398317   \n",
       "36    $|\\theta|_{mean}$  0.611702      0.005355          0.246331   \n",
       "37     $|\\theta|_{std}$  0.599637      0.011417          0.262588   \n",
       "38      $\\delta_{mean}$  0.508563      0.422988          0.452498   \n",
       "39       $\\delta_{std}$  0.463544      0.202735          0.398317   \n",
       "40    $|\\delta|_{mean}$  0.509990      0.410259          0.452498   \n",
       "41     $|\\delta|_{std}$  0.490919      0.418349          0.452498   \n",
       "42    $|\\alpha|_{mean}$  0.452128      0.137224          0.398317   \n",
       "43     $|\\alpha|_{std}$  0.499870      0.499408          0.499408   \n",
       "44      $\\alpha_{mean}$  0.473793      0.275055          0.408145   \n",
       "45       $\\alpha_{std}$  0.472366      0.264275          0.408145   \n",
       "\n",
       "        significant_mind   AUC_doc   p_value_doc  p_corrected_doc  \\\n",
       "0               p > 0.05  0.522914  6.372859e-25     8.143098e-25   \n",
       "1               p > 0.05  0.317665  6.372859e-25     8.143098e-25   \n",
       "2               p > 0.05  0.586369  6.372859e-25     8.143098e-25   \n",
       "3               p > 0.05  0.457109  6.372859e-25     8.143098e-25   \n",
       "4               p > 0.05  0.812769  6.372859e-25     8.143098e-25   \n",
       "5               p > 0.05  0.794751  6.372859e-25     8.143098e-25   \n",
       "6               p > 0.05  0.636506  6.372859e-25     8.143098e-25   \n",
       "7               p > 0.05  0.652174  6.372859e-25     8.143098e-25   \n",
       "8               p > 0.05  0.467685  6.372859e-25     8.143098e-25   \n",
       "9               p > 0.05  0.499804  6.372859e-25     8.143098e-25   \n",
       "10              p > 0.05  0.458284  6.372859e-25     8.143098e-25   \n",
       "11              p > 0.05  0.491970  6.372859e-25     8.143098e-25   \n",
       "12              p > 0.05  0.788876  6.372859e-25     8.143098e-25   \n",
       "13              p > 0.05  0.079514  6.372859e-25     8.143098e-25   \n",
       "14              p > 0.05  0.935370  6.372859e-25     8.143098e-25   \n",
       "15              p > 0.05  0.302781  6.372859e-25     8.143098e-25   \n",
       "16              p > 0.05  0.812769  6.372859e-25     8.143098e-25   \n",
       "17  p < 0.05 uncorrected  0.057971  6.372859e-25     8.143098e-25   \n",
       "18              p > 0.05  0.374070  6.372859e-25     8.143098e-25   \n",
       "19              p > 0.05  0.360752  2.240163e-02     2.396453e-02   \n",
       "20              p > 0.05  0.824520  3.051454e-24     3.793700e-24   \n",
       "21              p > 0.05  0.448884  2.439850e-03     2.737393e-03   \n",
       "22              p > 0.05  0.652957  6.372859e-25     8.143098e-25   \n",
       "23              p > 0.05  0.277321  3.609387e-15     4.257226e-15   \n",
       "24              p > 0.05  0.646690  6.372859e-25     8.143098e-25   \n",
       "25              p > 0.05  0.252644  1.421285e-17     1.720503e-17   \n",
       "26              p > 0.05  0.657266  6.372859e-25     8.143098e-25   \n",
       "27              p > 0.05  0.409322  1.798649e-02     1.969949e-02   \n",
       "28  p < 0.05 uncorrected  0.745398  6.372859e-25     8.143098e-25   \n",
       "29              p > 0.05  0.612221  6.372859e-25     8.143098e-25   \n",
       "30              p > 0.05  0.514297  6.372859e-25     8.143098e-25   \n",
       "31              p > 0.05  0.192714  1.937798e-01     1.937798e-01   \n",
       "32              p > 0.05  0.518606  6.372859e-25     8.143098e-25   \n",
       "33              p > 0.05  0.417548  6.372859e-25     8.143098e-25   \n",
       "34              p > 0.05  0.264395  6.372859e-25     8.143098e-25   \n",
       "35              p > 0.05  0.505288  3.217324e-02     3.363566e-02   \n",
       "36  p < 0.05 uncorrected  0.191539  6.372859e-25     8.143098e-25   \n",
       "37  p < 0.05 uncorrected  0.234234  6.372859e-25     8.143098e-25   \n",
       "38              p > 0.05  0.177830  6.372859e-25     8.143098e-25   \n",
       "39              p > 0.05  0.293380  9.810826e-09     1.128245e-08   \n",
       "40              p > 0.05  0.088132  6.372859e-25     8.143098e-25   \n",
       "41              p > 0.05  0.234626  6.372859e-25     8.143098e-25   \n",
       "42              p > 0.05  0.960047  6.372859e-25     8.143098e-25   \n",
       "43              p > 0.05  0.952605  6.372859e-25     8.143098e-25   \n",
       "44              p > 0.05  0.746181  6.372859e-25     8.143098e-25   \n",
       "45              p > 0.05  0.846847  9.039086e-02     9.239954e-02   \n",
       "\n",
       "           significant_doc       significant  \n",
       "0   p < 0.05 FDR corrected   Significant DOC  \n",
       "1   p < 0.05 FDR corrected   Significant DOC  \n",
       "2   p < 0.05 FDR corrected   Significant DOC  \n",
       "3   p < 0.05 FDR corrected   Significant DOC  \n",
       "4   p < 0.05 FDR corrected   Significant DOC  \n",
       "5   p < 0.05 FDR corrected   Significant DOC  \n",
       "6   p < 0.05 FDR corrected   Significant DOC  \n",
       "7   p < 0.05 FDR corrected   Significant DOC  \n",
       "8   p < 0.05 FDR corrected   Significant DOC  \n",
       "9   p < 0.05 FDR corrected   Significant DOC  \n",
       "10  p < 0.05 FDR corrected   Significant DOC  \n",
       "11  p < 0.05 FDR corrected   Significant DOC  \n",
       "12  p < 0.05 FDR corrected   Significant DOC  \n",
       "13  p < 0.05 FDR corrected   Significant DOC  \n",
       "14  p < 0.05 FDR corrected   Significant DOC  \n",
       "15  p < 0.05 FDR corrected   Significant DOC  \n",
       "16  p < 0.05 FDR corrected   Significant DOC  \n",
       "17  p < 0.05 FDR corrected  Significant Both  \n",
       "18  p < 0.05 FDR corrected   Significant DOC  \n",
       "19  p < 0.05 FDR corrected   Significant DOC  \n",
       "20  p < 0.05 FDR corrected   Significant DOC  \n",
       "21  p < 0.05 FDR corrected   Significant DOC  \n",
       "22  p < 0.05 FDR corrected   Significant DOC  \n",
       "23  p < 0.05 FDR corrected   Significant DOC  \n",
       "24  p < 0.05 FDR corrected   Significant DOC  \n",
       "25  p < 0.05 FDR corrected   Significant DOC  \n",
       "26  p < 0.05 FDR corrected   Significant DOC  \n",
       "27  p < 0.05 FDR corrected   Significant DOC  \n",
       "28  p < 0.05 FDR corrected  Significant Both  \n",
       "29  p < 0.05 FDR corrected   Significant DOC  \n",
       "30  p < 0.05 FDR corrected   Significant DOC  \n",
       "31                p > 0.05   Not significant  \n",
       "32  p < 0.05 FDR corrected   Significant DOC  \n",
       "33  p < 0.05 FDR corrected   Significant DOC  \n",
       "34  p < 0.05 FDR corrected   Significant DOC  \n",
       "35  p < 0.05 FDR corrected   Significant DOC  \n",
       "36  p < 0.05 FDR corrected  Significant Both  \n",
       "37  p < 0.05 FDR corrected  Significant Both  \n",
       "38  p < 0.05 FDR corrected   Significant DOC  \n",
       "39  p < 0.05 FDR corrected   Significant DOC  \n",
       "40  p < 0.05 FDR corrected   Significant DOC  \n",
       "41  p < 0.05 FDR corrected   Significant DOC  \n",
       "42  p < 0.05 FDR corrected   Significant DOC  \n",
       "43  p < 0.05 FDR corrected   Significant DOC  \n",
       "44  p < 0.05 FDR corrected   Significant DOC  \n",
       "45                p > 0.05   Not significant  "
      ]
     },
     "execution_count": 127,
     "metadata": {},
     "output_type": "execute_result"
    }
   ],
   "source": [
    "df_contrast"
   ]
  },
  {
   "cell_type": "code",
   "execution_count": 132,
<<<<<<< HEAD
   "id": "virtual-demand",
=======
   "id": "happy-clause",
>>>>>>> 2022493a3631333ac5763063f388965c3eb85334
   "metadata": {},
   "outputs": [
    {
     "data": {
      "application/vnd.plotly.v1+json": {
       "config": {
        "plotlyServerURL": "https://plot.ly"
       },
       "data": [
        {
         "hovertemplate": "significant=Significant DOC<br>MW>OT                                       MW<OT=%{x}<br>VS>MCS                                       VS<MCS=%{y}<br>markers=%{text}<extra></extra>",
         "legendgroup": "Significant DOC",
         "marker": {
          "color": "#9AC529",
          "size": 8,
          "symbol": "circle"
         },
         "mode": "markers+text",
         "name": "Significant DOC",
         "orientation": "v",
         "showlegend": true,
         "text": [
          "$wSMI\\gamma_{mean}$",
          "$wSMI\\gamma_{std}$",
          "$wSMI\\beta_{mean}$",
          "$wSMI\\beta_{std}$",
          "$wSMI\\alpha_{mean}$",
          "$wSMI\\alpha_{std}$",
          "$wSMI\\theta_{mean}$",
          "$wSMI\\theta_{std}$",
          "$PE\\gamma_{mean}$",
          "$PE\\gamma_{std}$",
          "$PE\\beta_{mean}$",
          "$PE\\beta_{std}$",
          "$PE\\alpha_{mean}$",
          "$PE\\alpha_{std}$",
          "$PE\\theta_{mean}$",
          "$PE\\theta_{std}$",
          "$K_{mean}$",
          "$SE_{mean}$",
          "$SE_{std}$",
          "$MSF_{mean}$",
          "$MSF_{std}$",
          "$SEF90_{mean}$",
          "$SEF90_{std}$",
          "$SEF95_{mean}$",
          "$SEF95_{std}$",
          "$\\beta_{mean}$",
          "$\\beta_{std}$",
          "$|\\beta|_{std}$",
          "$\\gamma_{mean}$",
          "$|\\gamma|_{mean}$",
          "$|\\gamma|_{std}$",
          "$\\theta_{mean}$",
          "$\\theta_{std}$",
          "$\\delta_{mean}$",
          "$\\delta_{std}$",
          "$|\\delta|_{mean}$",
          "$|\\delta|_{std}$",
          "$|\\alpha|_{mean}$",
          "$|\\alpha|_{std}$",
          "$\\alpha_{mean}$"
         ],
         "type": "scatter",
         "x": [
          0.5107680332122471,
          0.5546185781006746,
          0.5332122470160872,
          0.4577062791904515,
          0.5464452516865594,
          0.5444992215879606,
          0.5459263103269332,
          0.4910482615464452,
          0.516476388168137,
          0.5662947586922678,
          0.5179034769071095,
          0.5477426050856252,
          0.42890503373118843,
          0.5220550077841204,
          0.4661390762843799,
          0.5155682407887909,
          0.4645173845355475,
          0.4449922158796056,
          0.5651271406331084,
          0.43435391800726514,
          0.537104307213285,
          0.4731447846393358,
          0.5364556305137519,
          0.4867669953295278,
          0.5219252724442138,
          0.4423975090814738,
          0.5037623248572911,
          0.5127140633108459,
          0.46717695900363254,
          0.49338349766476386,
          0.5342501297353399,
          0.5313959522573949,
          0.5306175402179554,
          0.5085625324338349,
          0.4635443694862481,
          0.5099896211728074,
          0.49091852620653864,
          0.4521276595744681,
          0.4998702646600934,
          0.4737934613388687
         ],
         "xaxis": "x",
         "y": [
          0.5229142185663925,
          0.3176654915785351,
          0.5863689776733255,
          0.4571092831962398,
          0.8127692910301606,
          0.7947512730121425,
          0.63650607128868,
          0.6521739130434783,
          0.4676850763807286,
          0.49980415197806505,
          0.4582843713278496,
          0.4919702311006659,
          0.7888758323540933,
          0.07951429690560124,
          0.9353701527614571,
          0.30278104191147664,
          0.8127692910301606,
          0.37406972189580884,
          0.3607520564042303,
          0.8245201723462593,
          0.44888366627497056,
          0.6529573051312182,
          0.27732079905992946,
          0.6466901684292988,
          0.2526439482961222,
          0.6572659616137877,
          0.409322365844105,
          0.6122209165687427,
          0.5142969056012534,
          0.518605562083823,
          0.4175479827653741,
          0.26439482961222094,
          0.5052878965922445,
          0.17783000391696044,
          0.29338033685859777,
          0.0881316098707403,
          0.2346259302781042,
          0.9600470035252644,
          0.9526047786917352,
          0.7461809635722679
         ],
         "yaxis": "y"
        },
        {
         "hovertemplate": "significant=Significant Both<br>MW>OT                                       MW<OT=%{x}<br>VS>MCS                                       VS<MCS=%{y}<br>markers=%{text}<extra></extra>",
         "legendgroup": "Significant Both",
         "marker": {
          "color": "#F38A31",
          "size": 8,
          "symbol": "circle"
         },
         "mode": "markers+text",
         "name": "Significant Both",
         "orientation": "v",
         "showlegend": true,
         "text": [
          "$K_{std}$",
          "$|\\beta|_{mean}$",
          "$|\\theta|_{mean}$",
          "$|\\theta|_{std}$"
         ],
         "type": "scatter",
         "x": [
          0.5806953814218994,
          0.4150233523611832,
          0.6117021276595744,
          0.5996367410482616
         ],
         "xaxis": "x",
         "y": [
          0.05797101449275364,
          0.745397571484528,
          0.19153936545240893,
          0.23423423423423423
         ],
         "yaxis": "y"
        }
       ],
       "layout": {
        "autosize": false,
        "height": 800,
        "legend": {
         "title": {
          "text": "significant"
         },
         "tracegroupgap": 0
        },
        "margin": {
         "t": 60
        },
        "shapes": [
         {
          "line": {
           "color": "black",
           "dash": "dash",
           "width": 2
          },
          "type": "line",
          "x0": 0.5,
          "x1": 0.5,
          "xref": "x",
          "y0": 0,
          "y1": 1,
          "yref": "y domain"
         },
         {
          "line": {
           "color": "black",
           "dash": "dash",
           "width": 2
          },
          "type": "line",
          "x0": 0,
          "x1": 1,
          "xref": "x domain",
          "y0": 0.5,
          "y1": 0.5,
          "yref": "y"
         }
        ],
        "template": {
         "data": {
          "bar": [
           {
            "error_x": {
             "color": "#2a3f5f"
            },
            "error_y": {
             "color": "#2a3f5f"
            },
            "marker": {
             "line": {
              "color": "white",
              "width": 0.5
             }
            },
            "type": "bar"
           }
          ],
          "barpolar": [
           {
            "marker": {
             "line": {
              "color": "white",
              "width": 0.5
             }
            },
            "type": "barpolar"
           }
          ],
          "carpet": [
           {
            "aaxis": {
             "endlinecolor": "#2a3f5f",
             "gridcolor": "#C8D4E3",
             "linecolor": "#C8D4E3",
             "minorgridcolor": "#C8D4E3",
             "startlinecolor": "#2a3f5f"
            },
            "baxis": {
             "endlinecolor": "#2a3f5f",
             "gridcolor": "#C8D4E3",
             "linecolor": "#C8D4E3",
             "minorgridcolor": "#C8D4E3",
             "startlinecolor": "#2a3f5f"
            },
            "type": "carpet"
           }
          ],
          "choropleth": [
           {
            "colorbar": {
             "outlinewidth": 0,
             "ticks": ""
            },
            "type": "choropleth"
           }
          ],
          "contour": [
           {
            "colorbar": {
             "outlinewidth": 0,
             "ticks": ""
            },
            "colorscale": [
             [
              0,
              "#0d0887"
             ],
             [
              0.1111111111111111,
              "#46039f"
             ],
             [
              0.2222222222222222,
              "#7201a8"
             ],
             [
              0.3333333333333333,
              "#9c179e"
             ],
             [
              0.4444444444444444,
              "#bd3786"
             ],
             [
              0.5555555555555556,
              "#d8576b"
             ],
             [
              0.6666666666666666,
              "#ed7953"
             ],
             [
              0.7777777777777778,
              "#fb9f3a"
             ],
             [
              0.8888888888888888,
              "#fdca26"
             ],
             [
              1,
              "#f0f921"
             ]
            ],
            "type": "contour"
           }
          ],
          "contourcarpet": [
           {
            "colorbar": {
             "outlinewidth": 0,
             "ticks": ""
            },
            "type": "contourcarpet"
           }
          ],
          "heatmap": [
           {
            "colorbar": {
             "outlinewidth": 0,
             "ticks": ""
            },
            "colorscale": [
             [
              0,
              "#0d0887"
             ],
             [
              0.1111111111111111,
              "#46039f"
             ],
             [
              0.2222222222222222,
              "#7201a8"
             ],
             [
              0.3333333333333333,
              "#9c179e"
             ],
             [
              0.4444444444444444,
              "#bd3786"
             ],
             [
              0.5555555555555556,
              "#d8576b"
             ],
             [
              0.6666666666666666,
              "#ed7953"
             ],
             [
              0.7777777777777778,
              "#fb9f3a"
             ],
             [
              0.8888888888888888,
              "#fdca26"
             ],
             [
              1,
              "#f0f921"
             ]
            ],
            "type": "heatmap"
           }
          ],
          "heatmapgl": [
           {
            "colorbar": {
             "outlinewidth": 0,
             "ticks": ""
            },
            "colorscale": [
             [
              0,
              "#0d0887"
             ],
             [
              0.1111111111111111,
              "#46039f"
             ],
             [
              0.2222222222222222,
              "#7201a8"
             ],
             [
              0.3333333333333333,
              "#9c179e"
             ],
             [
              0.4444444444444444,
              "#bd3786"
             ],
             [
              0.5555555555555556,
              "#d8576b"
             ],
             [
              0.6666666666666666,
              "#ed7953"
             ],
             [
              0.7777777777777778,
              "#fb9f3a"
             ],
             [
              0.8888888888888888,
              "#fdca26"
             ],
             [
              1,
              "#f0f921"
             ]
            ],
            "type": "heatmapgl"
           }
          ],
          "histogram": [
           {
            "marker": {
             "colorbar": {
              "outlinewidth": 0,
              "ticks": ""
             }
            },
            "type": "histogram"
           }
          ],
          "histogram2d": [
           {
            "colorbar": {
             "outlinewidth": 0,
             "ticks": ""
            },
            "colorscale": [
             [
              0,
              "#0d0887"
             ],
             [
              0.1111111111111111,
              "#46039f"
             ],
             [
              0.2222222222222222,
              "#7201a8"
             ],
             [
              0.3333333333333333,
              "#9c179e"
             ],
             [
              0.4444444444444444,
              "#bd3786"
             ],
             [
              0.5555555555555556,
              "#d8576b"
             ],
             [
              0.6666666666666666,
              "#ed7953"
             ],
             [
              0.7777777777777778,
              "#fb9f3a"
             ],
             [
              0.8888888888888888,
              "#fdca26"
             ],
             [
              1,
              "#f0f921"
             ]
            ],
            "type": "histogram2d"
           }
          ],
          "histogram2dcontour": [
           {
            "colorbar": {
             "outlinewidth": 0,
             "ticks": ""
            },
            "colorscale": [
             [
              0,
              "#0d0887"
             ],
             [
              0.1111111111111111,
              "#46039f"
             ],
             [
              0.2222222222222222,
              "#7201a8"
             ],
             [
              0.3333333333333333,
              "#9c179e"
             ],
             [
              0.4444444444444444,
              "#bd3786"
             ],
             [
              0.5555555555555556,
              "#d8576b"
             ],
             [
              0.6666666666666666,
              "#ed7953"
             ],
             [
              0.7777777777777778,
              "#fb9f3a"
             ],
             [
              0.8888888888888888,
              "#fdca26"
             ],
             [
              1,
              "#f0f921"
             ]
            ],
            "type": "histogram2dcontour"
           }
          ],
          "mesh3d": [
           {
            "colorbar": {
             "outlinewidth": 0,
             "ticks": ""
            },
            "type": "mesh3d"
           }
          ],
          "parcoords": [
           {
            "line": {
             "colorbar": {
              "outlinewidth": 0,
              "ticks": ""
             }
            },
            "type": "parcoords"
           }
          ],
          "pie": [
           {
            "automargin": true,
            "type": "pie"
           }
          ],
          "scatter": [
           {
            "marker": {
             "colorbar": {
              "outlinewidth": 0,
              "ticks": ""
             }
            },
            "type": "scatter"
           }
          ],
          "scatter3d": [
           {
            "line": {
             "colorbar": {
              "outlinewidth": 0,
              "ticks": ""
             }
            },
            "marker": {
             "colorbar": {
              "outlinewidth": 0,
              "ticks": ""
             }
            },
            "type": "scatter3d"
           }
          ],
          "scattercarpet": [
           {
            "marker": {
             "colorbar": {
              "outlinewidth": 0,
              "ticks": ""
             }
            },
            "type": "scattercarpet"
           }
          ],
          "scattergeo": [
           {
            "marker": {
             "colorbar": {
              "outlinewidth": 0,
              "ticks": ""
             }
            },
            "type": "scattergeo"
           }
          ],
          "scattergl": [
           {
            "marker": {
             "colorbar": {
              "outlinewidth": 0,
              "ticks": ""
             }
            },
            "type": "scattergl"
           }
          ],
          "scattermapbox": [
           {
            "marker": {
             "colorbar": {
              "outlinewidth": 0,
              "ticks": ""
             }
            },
            "type": "scattermapbox"
           }
          ],
          "scatterpolar": [
           {
            "marker": {
             "colorbar": {
              "outlinewidth": 0,
              "ticks": ""
             }
            },
            "type": "scatterpolar"
           }
          ],
          "scatterpolargl": [
           {
            "marker": {
             "colorbar": {
              "outlinewidth": 0,
              "ticks": ""
             }
            },
            "type": "scatterpolargl"
           }
          ],
          "scatterternary": [
           {
            "marker": {
             "colorbar": {
              "outlinewidth": 0,
              "ticks": ""
             }
            },
            "type": "scatterternary"
           }
          ],
          "surface": [
           {
            "colorbar": {
             "outlinewidth": 0,
             "ticks": ""
            },
            "colorscale": [
             [
              0,
              "#0d0887"
             ],
             [
              0.1111111111111111,
              "#46039f"
             ],
             [
              0.2222222222222222,
              "#7201a8"
             ],
             [
              0.3333333333333333,
              "#9c179e"
             ],
             [
              0.4444444444444444,
              "#bd3786"
             ],
             [
              0.5555555555555556,
              "#d8576b"
             ],
             [
              0.6666666666666666,
              "#ed7953"
             ],
             [
              0.7777777777777778,
              "#fb9f3a"
             ],
             [
              0.8888888888888888,
              "#fdca26"
             ],
             [
              1,
              "#f0f921"
             ]
            ],
            "type": "surface"
           }
          ],
          "table": [
           {
            "cells": {
             "fill": {
              "color": "#EBF0F8"
             },
             "line": {
              "color": "white"
             }
            },
            "header": {
             "fill": {
              "color": "#C8D4E3"
             },
             "line": {
              "color": "white"
             }
            },
            "type": "table"
           }
          ]
         },
         "layout": {
          "annotationdefaults": {
           "arrowcolor": "#2a3f5f",
           "arrowhead": 0,
           "arrowwidth": 1
          },
          "autotypenumbers": "strict",
          "coloraxis": {
           "colorbar": {
            "outlinewidth": 0,
            "ticks": ""
           }
          },
          "colorscale": {
           "diverging": [
            [
             0,
             "#8e0152"
            ],
            [
             0.1,
             "#c51b7d"
            ],
            [
             0.2,
             "#de77ae"
            ],
            [
             0.3,
             "#f1b6da"
            ],
            [
             0.4,
             "#fde0ef"
            ],
            [
             0.5,
             "#f7f7f7"
            ],
            [
             0.6,
             "#e6f5d0"
            ],
            [
             0.7,
             "#b8e186"
            ],
            [
             0.8,
             "#7fbc41"
            ],
            [
             0.9,
             "#4d9221"
            ],
            [
             1,
             "#276419"
            ]
           ],
           "sequential": [
            [
             0,
             "#0d0887"
            ],
            [
             0.1111111111111111,
             "#46039f"
            ],
            [
             0.2222222222222222,
             "#7201a8"
            ],
            [
             0.3333333333333333,
             "#9c179e"
            ],
            [
             0.4444444444444444,
             "#bd3786"
            ],
            [
             0.5555555555555556,
             "#d8576b"
            ],
            [
             0.6666666666666666,
             "#ed7953"
            ],
            [
             0.7777777777777778,
             "#fb9f3a"
            ],
            [
             0.8888888888888888,
             "#fdca26"
            ],
            [
             1,
             "#f0f921"
            ]
           ],
           "sequentialminus": [
            [
             0,
             "#0d0887"
            ],
            [
             0.1111111111111111,
             "#46039f"
            ],
            [
             0.2222222222222222,
             "#7201a8"
            ],
            [
             0.3333333333333333,
             "#9c179e"
            ],
            [
             0.4444444444444444,
             "#bd3786"
            ],
            [
             0.5555555555555556,
             "#d8576b"
            ],
            [
             0.6666666666666666,
             "#ed7953"
            ],
            [
             0.7777777777777778,
             "#fb9f3a"
            ],
            [
             0.8888888888888888,
             "#fdca26"
            ],
            [
             1,
             "#f0f921"
            ]
           ]
          },
          "colorway": [
           "#636efa",
           "#EF553B",
           "#00cc96",
           "#ab63fa",
           "#FFA15A",
           "#19d3f3",
           "#FF6692",
           "#B6E880",
           "#FF97FF",
           "#FECB52"
          ],
          "font": {
           "color": "#2a3f5f"
          },
          "geo": {
           "bgcolor": "white",
           "lakecolor": "white",
           "landcolor": "white",
           "showlakes": true,
           "showland": true,
           "subunitcolor": "#C8D4E3"
          },
          "hoverlabel": {
           "align": "left"
          },
          "hovermode": "closest",
          "mapbox": {
           "style": "light"
          },
          "paper_bgcolor": "white",
          "plot_bgcolor": "white",
          "polar": {
           "angularaxis": {
            "gridcolor": "#EBF0F8",
            "linecolor": "#EBF0F8",
            "ticks": ""
           },
           "bgcolor": "white",
           "radialaxis": {
            "gridcolor": "#EBF0F8",
            "linecolor": "#EBF0F8",
            "ticks": ""
           }
          },
          "scene": {
           "xaxis": {
            "backgroundcolor": "white",
            "gridcolor": "#DFE8F3",
            "gridwidth": 2,
            "linecolor": "#EBF0F8",
            "showbackground": true,
            "ticks": "",
            "zerolinecolor": "#EBF0F8"
           },
           "yaxis": {
            "backgroundcolor": "white",
            "gridcolor": "#DFE8F3",
            "gridwidth": 2,
            "linecolor": "#EBF0F8",
            "showbackground": true,
            "ticks": "",
            "zerolinecolor": "#EBF0F8"
           },
           "zaxis": {
            "backgroundcolor": "white",
            "gridcolor": "#DFE8F3",
            "gridwidth": 2,
            "linecolor": "#EBF0F8",
            "showbackground": true,
            "ticks": "",
            "zerolinecolor": "#EBF0F8"
           }
          },
          "shapedefaults": {
           "line": {
            "color": "#2a3f5f"
           }
          },
          "ternary": {
           "aaxis": {
            "gridcolor": "#DFE8F3",
            "linecolor": "#A2B1C6",
            "ticks": ""
           },
           "baxis": {
            "gridcolor": "#DFE8F3",
            "linecolor": "#A2B1C6",
            "ticks": ""
           },
           "bgcolor": "white",
           "caxis": {
            "gridcolor": "#DFE8F3",
            "linecolor": "#A2B1C6",
            "ticks": ""
           }
          },
          "title": {
           "x": 0.05
          },
          "xaxis": {
           "automargin": true,
           "gridcolor": "#EBF0F8",
           "linecolor": "#EBF0F8",
           "ticks": "",
           "title": {
            "standoff": 15
           },
           "zerolinecolor": "#EBF0F8",
           "zerolinewidth": 2
          },
          "yaxis": {
           "automargin": true,
           "gridcolor": "#EBF0F8",
           "linecolor": "#EBF0F8",
           "ticks": "",
           "title": {
            "standoff": 15
           },
           "zerolinecolor": "#EBF0F8",
           "zerolinewidth": 2
          }
         }
        },
        "width": 800,
        "xaxis": {
         "anchor": "y",
         "domain": [
          0,
          1
         ],
         "range": [
          0.35,
          0.65
         ],
         "title": {
          "text": "MW>OT                                       MW<OT"
         },
         "type": "linear"
        },
        "yaxis": {
         "anchor": "x",
         "domain": [
          0,
          1
         ],
         "range": [
          0,
          1
         ],
         "title": {
          "text": "VS>MCS                                       VS<MCS"
         },
         "type": "linear"
        }
       }
      },
      "image/png": "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",
      "text/html": [
       "<div>                            <div id=\"5e01517e-c801-4823-979d-8ccb8f2d045f\" class=\"plotly-graph-div\" style=\"height:800px; width:800px;\"></div>            <script type=\"text/javascript\">                require([\"plotly\"], function(Plotly) {                    window.PLOTLYENV=window.PLOTLYENV || {};                                    if (document.getElementById(\"5e01517e-c801-4823-979d-8ccb8f2d045f\")) {                    Plotly.newPlot(                        \"5e01517e-c801-4823-979d-8ccb8f2d045f\",                        [{\"hovertemplate\": \"significant=Significant DOC<br>MW>OT                                       MW<OT=%{x}<br>VS>MCS                                       VS<MCS=%{y}<br>markers=%{text}<extra></extra>\", \"legendgroup\": \"Significant DOC\", \"marker\": {\"color\": \"#9AC529\", \"size\": 8, \"symbol\": \"circle\"}, \"mode\": \"markers+text\", \"name\": \"Significant DOC\", \"orientation\": \"v\", \"showlegend\": true, \"text\": [\"$wSMI\\\\gamma_{mean}$\", \"$wSMI\\\\gamma_{std}$\", \"$wSMI\\\\beta_{mean}$\", \"$wSMI\\\\beta_{std}$\", \"$wSMI\\\\alpha_{mean}$\", \"$wSMI\\\\alpha_{std}$\", \"$wSMI\\\\theta_{mean}$\", \"$wSMI\\\\theta_{std}$\", \"$PE\\\\gamma_{mean}$\", \"$PE\\\\gamma_{std}$\", \"$PE\\\\beta_{mean}$\", \"$PE\\\\beta_{std}$\", \"$PE\\\\alpha_{mean}$\", \"$PE\\\\alpha_{std}$\", \"$PE\\\\theta_{mean}$\", \"$PE\\\\theta_{std}$\", \"$K_{mean}$\", \"$SE_{mean}$\", \"$SE_{std}$\", \"$MSF_{mean}$\", \"$MSF_{std}$\", \"$SEF90_{mean}$\", \"$SEF90_{std}$\", \"$SEF95_{mean}$\", \"$SEF95_{std}$\", \"$\\\\beta_{mean}$\", \"$\\\\beta_{std}$\", \"$|\\\\beta|_{std}$\", \"$\\\\gamma_{mean}$\", \"$|\\\\gamma|_{mean}$\", \"$|\\\\gamma|_{std}$\", \"$\\\\theta_{mean}$\", \"$\\\\theta_{std}$\", \"$\\\\delta_{mean}$\", \"$\\\\delta_{std}$\", \"$|\\\\delta|_{mean}$\", \"$|\\\\delta|_{std}$\", \"$|\\\\alpha|_{mean}$\", \"$|\\\\alpha|_{std}$\", \"$\\\\alpha_{mean}$\"], \"type\": \"scatter\", \"x\": [0.5107680332122471, 0.5546185781006746, 0.5332122470160872, 0.4577062791904515, 0.5464452516865594, 0.5444992215879606, 0.5459263103269332, 0.4910482615464452, 0.516476388168137, 0.5662947586922678, 0.5179034769071095, 0.5477426050856252, 0.42890503373118843, 0.5220550077841204, 0.4661390762843799, 0.5155682407887909, 0.4645173845355475, 0.4449922158796056, 0.5651271406331084, 0.43435391800726514, 0.537104307213285, 0.4731447846393358, 0.5364556305137519, 0.4867669953295278, 0.5219252724442138, 0.4423975090814738, 0.5037623248572911, 0.5127140633108459, 0.46717695900363254, 0.49338349766476386, 0.5342501297353399, 0.5313959522573949, 0.5306175402179554, 0.5085625324338349, 0.4635443694862481, 0.5099896211728074, 0.49091852620653864, 0.4521276595744681, 0.4998702646600934, 0.4737934613388687], \"xaxis\": \"x\", \"y\": [0.5229142185663925, 0.3176654915785351, 0.5863689776733255, 0.4571092831962398, 0.8127692910301606, 0.7947512730121425, 0.63650607128868, 0.6521739130434783, 0.4676850763807286, 0.49980415197806505, 0.4582843713278496, 0.4919702311006659, 0.7888758323540933, 0.07951429690560124, 0.9353701527614571, 0.30278104191147664, 0.8127692910301606, 0.37406972189580884, 0.3607520564042303, 0.8245201723462593, 0.44888366627497056, 0.6529573051312182, 0.27732079905992946, 0.6466901684292988, 0.2526439482961222, 0.6572659616137877, 0.409322365844105, 0.6122209165687427, 0.5142969056012534, 0.518605562083823, 0.4175479827653741, 0.26439482961222094, 0.5052878965922445, 0.17783000391696044, 0.29338033685859777, 0.0881316098707403, 0.2346259302781042, 0.9600470035252644, 0.9526047786917352, 0.7461809635722679], \"yaxis\": \"y\"}, {\"hovertemplate\": \"significant=Significant Both<br>MW>OT                                       MW<OT=%{x}<br>VS>MCS                                       VS<MCS=%{y}<br>markers=%{text}<extra></extra>\", \"legendgroup\": \"Significant Both\", \"marker\": {\"color\": \"#F38A31\", \"size\": 8, \"symbol\": \"circle\"}, \"mode\": \"markers+text\", \"name\": \"Significant Both\", \"orientation\": \"v\", \"showlegend\": true, \"text\": [\"$K_{std}$\", \"$|\\\\beta|_{mean}$\", \"$|\\\\theta|_{mean}$\", \"$|\\\\theta|_{std}$\"], \"type\": \"scatter\", \"x\": [0.5806953814218994, 0.4150233523611832, 0.6117021276595744, 0.5996367410482616], \"xaxis\": \"x\", \"y\": [0.05797101449275364, 0.745397571484528, 0.19153936545240893, 0.23423423423423423], \"yaxis\": \"y\"}],                        {\"autosize\": false, \"height\": 800, \"legend\": {\"title\": {\"text\": \"significant\"}, \"tracegroupgap\": 0}, \"margin\": {\"t\": 60}, \"shapes\": [{\"line\": {\"color\": \"black\", \"dash\": \"dash\", \"width\": 2}, \"type\": \"line\", \"x0\": 0.5, \"x1\": 0.5, \"xref\": \"x\", \"y0\": 0, \"y1\": 1, \"yref\": \"y domain\"}, {\"line\": {\"color\": \"black\", \"dash\": \"dash\", \"width\": 2}, \"type\": \"line\", \"x0\": 0, \"x1\": 1, \"xref\": \"x domain\", \"y0\": 0.5, \"y1\": 0.5, \"yref\": \"y\"}], \"template\": {\"data\": {\"bar\": [{\"error_x\": {\"color\": \"#2a3f5f\"}, \"error_y\": {\"color\": \"#2a3f5f\"}, \"marker\": {\"line\": {\"color\": \"white\", \"width\": 0.5}}, \"type\": \"bar\"}], \"barpolar\": [{\"marker\": {\"line\": {\"color\": \"white\", \"width\": 0.5}}, \"type\": \"barpolar\"}], \"carpet\": [{\"aaxis\": {\"endlinecolor\": \"#2a3f5f\", \"gridcolor\": \"#C8D4E3\", \"linecolor\": \"#C8D4E3\", \"minorgridcolor\": \"#C8D4E3\", \"startlinecolor\": \"#2a3f5f\"}, \"baxis\": {\"endlinecolor\": \"#2a3f5f\", \"gridcolor\": \"#C8D4E3\", \"linecolor\": \"#C8D4E3\", \"minorgridcolor\": \"#C8D4E3\", \"startlinecolor\": \"#2a3f5f\"}, \"type\": \"carpet\"}], \"choropleth\": [{\"colorbar\": {\"outlinewidth\": 0, \"ticks\": \"\"}, \"type\": \"choropleth\"}], \"contour\": [{\"colorbar\": {\"outlinewidth\": 0, \"ticks\": \"\"}, \"colorscale\": [[0.0, \"#0d0887\"], [0.1111111111111111, \"#46039f\"], [0.2222222222222222, \"#7201a8\"], [0.3333333333333333, \"#9c179e\"], [0.4444444444444444, \"#bd3786\"], [0.5555555555555556, \"#d8576b\"], [0.6666666666666666, \"#ed7953\"], [0.7777777777777778, \"#fb9f3a\"], [0.8888888888888888, \"#fdca26\"], [1.0, \"#f0f921\"]], \"type\": \"contour\"}], \"contourcarpet\": [{\"colorbar\": {\"outlinewidth\": 0, \"ticks\": \"\"}, \"type\": \"contourcarpet\"}], \"heatmap\": [{\"colorbar\": {\"outlinewidth\": 0, \"ticks\": \"\"}, \"colorscale\": [[0.0, \"#0d0887\"], [0.1111111111111111, \"#46039f\"], [0.2222222222222222, \"#7201a8\"], [0.3333333333333333, \"#9c179e\"], [0.4444444444444444, \"#bd3786\"], [0.5555555555555556, \"#d8576b\"], [0.6666666666666666, \"#ed7953\"], [0.7777777777777778, \"#fb9f3a\"], [0.8888888888888888, \"#fdca26\"], [1.0, \"#f0f921\"]], \"type\": \"heatmap\"}], \"heatmapgl\": [{\"colorbar\": {\"outlinewidth\": 0, \"ticks\": \"\"}, \"colorscale\": [[0.0, \"#0d0887\"], [0.1111111111111111, \"#46039f\"], [0.2222222222222222, \"#7201a8\"], [0.3333333333333333, \"#9c179e\"], [0.4444444444444444, \"#bd3786\"], [0.5555555555555556, \"#d8576b\"], [0.6666666666666666, \"#ed7953\"], [0.7777777777777778, \"#fb9f3a\"], [0.8888888888888888, \"#fdca26\"], [1.0, \"#f0f921\"]], \"type\": \"heatmapgl\"}], \"histogram\": [{\"marker\": {\"colorbar\": {\"outlinewidth\": 0, \"ticks\": \"\"}}, \"type\": \"histogram\"}], \"histogram2d\": [{\"colorbar\": {\"outlinewidth\": 0, \"ticks\": \"\"}, \"colorscale\": [[0.0, \"#0d0887\"], [0.1111111111111111, \"#46039f\"], [0.2222222222222222, \"#7201a8\"], [0.3333333333333333, \"#9c179e\"], [0.4444444444444444, \"#bd3786\"], [0.5555555555555556, \"#d8576b\"], [0.6666666666666666, \"#ed7953\"], [0.7777777777777778, \"#fb9f3a\"], [0.8888888888888888, \"#fdca26\"], [1.0, \"#f0f921\"]], \"type\": \"histogram2d\"}], \"histogram2dcontour\": [{\"colorbar\": {\"outlinewidth\": 0, \"ticks\": \"\"}, \"colorscale\": [[0.0, \"#0d0887\"], [0.1111111111111111, \"#46039f\"], [0.2222222222222222, \"#7201a8\"], [0.3333333333333333, \"#9c179e\"], [0.4444444444444444, \"#bd3786\"], [0.5555555555555556, \"#d8576b\"], [0.6666666666666666, \"#ed7953\"], [0.7777777777777778, \"#fb9f3a\"], [0.8888888888888888, \"#fdca26\"], [1.0, \"#f0f921\"]], \"type\": \"histogram2dcontour\"}], \"mesh3d\": [{\"colorbar\": {\"outlinewidth\": 0, \"ticks\": \"\"}, \"type\": \"mesh3d\"}], \"parcoords\": [{\"line\": {\"colorbar\": {\"outlinewidth\": 0, \"ticks\": \"\"}}, \"type\": \"parcoords\"}], \"pie\": [{\"automargin\": true, \"type\": \"pie\"}], \"scatter\": [{\"marker\": {\"colorbar\": {\"outlinewidth\": 0, \"ticks\": \"\"}}, \"type\": \"scatter\"}], \"scatter3d\": [{\"line\": {\"colorbar\": {\"outlinewidth\": 0, \"ticks\": \"\"}}, \"marker\": {\"colorbar\": {\"outlinewidth\": 0, \"ticks\": \"\"}}, \"type\": \"scatter3d\"}], \"scattercarpet\": [{\"marker\": {\"colorbar\": {\"outlinewidth\": 0, \"ticks\": \"\"}}, \"type\": \"scattercarpet\"}], \"scattergeo\": [{\"marker\": {\"colorbar\": {\"outlinewidth\": 0, \"ticks\": \"\"}}, \"type\": \"scattergeo\"}], \"scattergl\": [{\"marker\": {\"colorbar\": {\"outlinewidth\": 0, \"ticks\": \"\"}}, \"type\": \"scattergl\"}], \"scattermapbox\": [{\"marker\": {\"colorbar\": {\"outlinewidth\": 0, \"ticks\": \"\"}}, \"type\": \"scattermapbox\"}], \"scatterpolar\": [{\"marker\": {\"colorbar\": {\"outlinewidth\": 0, \"ticks\": \"\"}}, \"type\": \"scatterpolar\"}], \"scatterpolargl\": [{\"marker\": {\"colorbar\": {\"outlinewidth\": 0, \"ticks\": \"\"}}, \"type\": \"scatterpolargl\"}], \"scatterternary\": [{\"marker\": {\"colorbar\": {\"outlinewidth\": 0, \"ticks\": \"\"}}, \"type\": \"scatterternary\"}], \"surface\": [{\"colorbar\": {\"outlinewidth\": 0, \"ticks\": \"\"}, \"colorscale\": [[0.0, \"#0d0887\"], [0.1111111111111111, \"#46039f\"], [0.2222222222222222, \"#7201a8\"], [0.3333333333333333, \"#9c179e\"], [0.4444444444444444, \"#bd3786\"], [0.5555555555555556, \"#d8576b\"], [0.6666666666666666, \"#ed7953\"], [0.7777777777777778, \"#fb9f3a\"], [0.8888888888888888, \"#fdca26\"], [1.0, \"#f0f921\"]], \"type\": \"surface\"}], \"table\": [{\"cells\": {\"fill\": {\"color\": \"#EBF0F8\"}, \"line\": {\"color\": \"white\"}}, \"header\": {\"fill\": {\"color\": \"#C8D4E3\"}, \"line\": {\"color\": \"white\"}}, \"type\": \"table\"}]}, \"layout\": {\"annotationdefaults\": {\"arrowcolor\": \"#2a3f5f\", \"arrowhead\": 0, \"arrowwidth\": 1}, \"autotypenumbers\": \"strict\", \"coloraxis\": {\"colorbar\": {\"outlinewidth\": 0, \"ticks\": \"\"}}, \"colorscale\": {\"diverging\": [[0, \"#8e0152\"], [0.1, \"#c51b7d\"], [0.2, \"#de77ae\"], [0.3, \"#f1b6da\"], [0.4, \"#fde0ef\"], [0.5, \"#f7f7f7\"], [0.6, \"#e6f5d0\"], [0.7, \"#b8e186\"], [0.8, \"#7fbc41\"], [0.9, \"#4d9221\"], [1, \"#276419\"]], \"sequential\": [[0.0, \"#0d0887\"], [0.1111111111111111, \"#46039f\"], [0.2222222222222222, \"#7201a8\"], [0.3333333333333333, \"#9c179e\"], [0.4444444444444444, \"#bd3786\"], [0.5555555555555556, \"#d8576b\"], [0.6666666666666666, \"#ed7953\"], [0.7777777777777778, \"#fb9f3a\"], [0.8888888888888888, \"#fdca26\"], [1.0, \"#f0f921\"]], \"sequentialminus\": [[0.0, \"#0d0887\"], [0.1111111111111111, \"#46039f\"], [0.2222222222222222, \"#7201a8\"], [0.3333333333333333, \"#9c179e\"], [0.4444444444444444, \"#bd3786\"], [0.5555555555555556, \"#d8576b\"], [0.6666666666666666, \"#ed7953\"], [0.7777777777777778, \"#fb9f3a\"], [0.8888888888888888, \"#fdca26\"], [1.0, \"#f0f921\"]]}, \"colorway\": [\"#636efa\", \"#EF553B\", \"#00cc96\", \"#ab63fa\", \"#FFA15A\", \"#19d3f3\", \"#FF6692\", \"#B6E880\", \"#FF97FF\", \"#FECB52\"], \"font\": {\"color\": \"#2a3f5f\"}, \"geo\": {\"bgcolor\": \"white\", \"lakecolor\": \"white\", \"landcolor\": \"white\", \"showlakes\": true, \"showland\": true, \"subunitcolor\": \"#C8D4E3\"}, \"hoverlabel\": {\"align\": \"left\"}, \"hovermode\": \"closest\", \"mapbox\": {\"style\": \"light\"}, \"paper_bgcolor\": \"white\", \"plot_bgcolor\": \"white\", \"polar\": {\"angularaxis\": {\"gridcolor\": \"#EBF0F8\", \"linecolor\": \"#EBF0F8\", \"ticks\": \"\"}, \"bgcolor\": \"white\", \"radialaxis\": {\"gridcolor\": \"#EBF0F8\", \"linecolor\": \"#EBF0F8\", \"ticks\": \"\"}}, \"scene\": {\"xaxis\": {\"backgroundcolor\": \"white\", \"gridcolor\": \"#DFE8F3\", \"gridwidth\": 2, \"linecolor\": \"#EBF0F8\", \"showbackground\": true, \"ticks\": \"\", \"zerolinecolor\": \"#EBF0F8\"}, \"yaxis\": {\"backgroundcolor\": \"white\", \"gridcolor\": \"#DFE8F3\", \"gridwidth\": 2, \"linecolor\": \"#EBF0F8\", \"showbackground\": true, \"ticks\": \"\", \"zerolinecolor\": \"#EBF0F8\"}, \"zaxis\": {\"backgroundcolor\": \"white\", \"gridcolor\": \"#DFE8F3\", \"gridwidth\": 2, \"linecolor\": \"#EBF0F8\", \"showbackground\": true, \"ticks\": \"\", \"zerolinecolor\": \"#EBF0F8\"}}, \"shapedefaults\": {\"line\": {\"color\": \"#2a3f5f\"}}, \"ternary\": {\"aaxis\": {\"gridcolor\": \"#DFE8F3\", \"linecolor\": \"#A2B1C6\", \"ticks\": \"\"}, \"baxis\": {\"gridcolor\": \"#DFE8F3\", \"linecolor\": \"#A2B1C6\", \"ticks\": \"\"}, \"bgcolor\": \"white\", \"caxis\": {\"gridcolor\": \"#DFE8F3\", \"linecolor\": \"#A2B1C6\", \"ticks\": \"\"}}, \"title\": {\"x\": 0.05}, \"xaxis\": {\"automargin\": true, \"gridcolor\": \"#EBF0F8\", \"linecolor\": \"#EBF0F8\", \"ticks\": \"\", \"title\": {\"standoff\": 15}, \"zerolinecolor\": \"#EBF0F8\", \"zerolinewidth\": 2}, \"yaxis\": {\"automargin\": true, \"gridcolor\": \"#EBF0F8\", \"linecolor\": \"#EBF0F8\", \"ticks\": \"\", \"title\": {\"standoff\": 15}, \"zerolinecolor\": \"#EBF0F8\", \"zerolinewidth\": 2}}}, \"width\": 800, \"xaxis\": {\"anchor\": \"y\", \"domain\": [0.0, 1.0], \"range\": [0.35, 0.65], \"title\": {\"text\": \"MW>OT                                       MW<OT\"}}, \"yaxis\": {\"anchor\": \"x\", \"domain\": [0.0, 1.0], \"range\": [0, 1], \"title\": {\"text\": \"VS>MCS                                       VS<MCS\"}}},                        {\"responsive\": true}                    ).then(function(){\n",
       "                            \n",
       "var gd = document.getElementById('5e01517e-c801-4823-979d-8ccb8f2d045f');\n",
       "var x = new MutationObserver(function (mutations, observer) {{\n",
       "        var display = window.getComputedStyle(gd).display;\n",
       "        if (!display || display === 'none') {{\n",
       "            console.log([gd, 'removed!']);\n",
       "            Plotly.purge(gd);\n",
       "            observer.disconnect();\n",
       "        }}\n",
       "}});\n",
       "\n",
       "// Listen for the removal of the full notebook cells\n",
       "var notebookContainer = gd.closest('#notebook-container');\n",
       "if (notebookContainer) {{\n",
       "    x.observe(notebookContainer, {childList: true});\n",
       "}}\n",
       "\n",
       "// Listen for the clearing of the current output cell\n",
       "var outputEl = gd.closest('.output');\n",
       "if (outputEl) {{\n",
       "    x.observe(outputEl, {childList: true});\n",
       "}}\n",
       "\n",
       "                        })                };                });            </script>        </div>"
      ]
     },
     "metadata": {},
     "output_type": "display_data"
    }
   ],
   "source": [
    "fig = px.scatter(df_contrast.query(\"significant != 'Not significant'\"),x = 'AUC_mind', y = 'AUC_doc', template = \"plotly_white\", text = 'markers',\n",
    "                 color_discrete_sequence = [green, orange, lblue],\n",
    "                 color = 'significant',\n",
    "                #symbol_sequence = ['circle-open','circle','hexagram' ],\n",
    "\n",
    "                 #category_orders = {'significant': ['p > 0.05','p < 0.05 uncorrected', 'p < 0.05 FDR corrected']}, \n",
    "                 labels = {'AUC_mind': f'MW>OT                                       MW<OT', \n",
    "                           'AUC_doc':'VS>MCS                                       VS<MCS'}\n",
    "\n",
    "                )\n",
    "\n",
    "fig.add_vline(x=0.5, line_width=2, line_dash=\"dash\", line_color=\"black\")\n",
    "fig.add_hline(y=0.5, line_width=2, line_dash=\"dash\", line_color=\"black\")\n",
    "\n",
    "fig.update_traces(marker=dict(size = 8))\n",
    "\n",
    "fig.update_layout(\n",
    "    autosize=False,\n",
    "    width=800,\n",
    "    height=800,\n",
    "    xaxis= {'range': (0.35, 0.65),\n",
    "            #'showticklabels': True,\n",
    "            #'tickmode': 'linear'\n",
    "           },\n",
    "    yaxis = {'range': (0, 1),\n",
    "            #'showticklabels': True,\n",
    "            #'tickmode': 'linear',\n",
    "        }\n",
    "\n",
    ")\n",
    "\n",
    "fig.show()"
   ]
  },
  {
   "cell_type": "code",
   "execution_count": null,
<<<<<<< HEAD
   "id": "raised-singer",
=======
   "id": "heard-punch",
>>>>>>> 2022493a3631333ac5763063f388965c3eb85334
   "metadata": {},
   "outputs": [],
   "source": []
  }
 ],
 "metadata": {
  "kernelspec": {
   "display_name": "Python 3",
   "language": "python",
   "name": "python3"
  },
  "language_info": {
   "codemirror_mode": {
    "name": "ipython",
    "version": 3
   },
   "file_extension": ".py",
   "mimetype": "text/x-python",
   "name": "python",
   "nbconvert_exporter": "python",
   "pygments_lexer": "ipython3",
   "version": "3.8.8"
  }
 },
 "nbformat": 4,
 "nbformat_minor": 5
}
