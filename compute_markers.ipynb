{
 "cells": [
  {
   "cell_type": "code",
   "execution_count": 1,
   "metadata": {},
   "outputs": [
    {
     "name": "stdout",
     "output_type": "stream",
     "text": [
      "Using MNE with API > 0.19\n"
     ]
    }
   ],
   "source": [
    "%matplotlib qt\n",
    "import numpy as np\n",
    "import pandas as pd\n",
    "import matplotlib.pyplot as plt\n",
    "import mne \n",
    "from nice.markers import (KolmogorovComplexity, TimeLockedContrast, PowerSpectralDensityEstimator, \n",
    "                          PowerSpectralDensity, SymbolicMutualInformation, PermutationEntropy, TimeLockedTopography, ContingentNegativeVariation)\n",
    "\n",
    "import pycsd"
   ]
  },
  {
   "cell_type": "markdown",
   "metadata": {},
   "source": [
    "# Compute markers function"
   ]
  },
  {
   "cell_type": "code",
   "execution_count": 14,
   "metadata": {},
   "outputs": [],
   "source": [
    "def all_markers(epochs, tmin, tmax):\n",
    "        \"\"\"\n",
    "        Computes all ther markers for given epochs.\n",
    "        epochs: the epochs from which to compute the markers\n",
    "        tmin: min time for computing markers \n",
    "        tmax: max time to compute markers\n",
    "        \n",
    "        Evoked markers have already defined times\n",
    "        \"\"\"\n",
    "        from scipy.stats import trim_mean\n",
    "        \n",
    "        def trim_mean80(a, axis=0):\n",
    "            return trim_mean(a, proportiontocut=.1, axis=axis)       \n",
    "\n",
    "        # =============================================================================\n",
    "        # SPECTRAL MARKERS\n",
    "        # =============================================================================\n",
    "          #PowerSpectralDensityL\n",
    "        psds_params = dict(n_fft=4096, n_overlap=100, n_jobs='auto', nperseg=128)\n",
    "        base_psd = PowerSpectralDensityEstimator(\n",
    "            psd_method='welch', tmin=tmin, tmax=tmax, fmin=1., fmax=45.,\n",
    "            psd_params=psds_params, comment='default')\n",
    "        \n",
    "\n",
    "\n",
    "        ###alpha normalized###\n",
    "        alpha = PowerSpectralDensity(estimator=base_psd, fmin=8., fmax=13.,normalize=True, comment='alphan')\n",
    "        alpha.fit(epochs)\n",
    "\n",
    "        reduction_func = [{'axis': 'frequency', 'function': np.sum},\n",
    "             {'axis': 'channels', 'function': np.mean},\n",
    "             {'axis': 'epochs', 'function': trim_mean80}]\n",
    "        ###alpha normalized###\n",
    "        alpha = PowerSpectralDensity(estimator=base_psd, fmin=8., fmax=13.,normalize=True, comment='alpha')\n",
    "        alpha.fit(epochs)\n",
    "        dataalpha_n = alpha._reduce_to(reduction_func, target='epochs', picks=None)\n",
    "\n",
    "        #alpha\n",
    "        alpha = PowerSpectralDensity(estimator=base_psd, fmin=8., fmax=13.,normalize=False, comment='alpha')\n",
    "        alpha.fit(epochs)\n",
    "        dataalpha = alpha._reduce_to(reduction_func, target='epochs', picks=None)\n",
    "\n",
    "        #delta normalized\n",
    "        delta = PowerSpectralDensity(estimator=base_psd, fmin=1., fmax=4.,normalize=True, comment='delta')\n",
    "        delta.fit(epochs)\n",
    "        datadelta_n = delta._reduce_to(reduction_func, target='epochs', picks=None)\n",
    "\n",
    "\n",
    "        #delta\n",
    "        delta = PowerSpectralDensity(estimator=base_psd, fmin=1., fmax=4,normalize=False, comment='delta')\n",
    "        delta.fit(epochs)\n",
    "        datadelta = delta._reduce_to(reduction_func, target='epochs', picks=None)\n",
    "\n",
    "        #theta normalized\n",
    "        theta = PowerSpectralDensity(estimator=base_psd, fmin=4., fmax=8.,normalize=True, comment='theta')\n",
    "        theta.fit(epochs)\n",
    "        datatheta_n = theta._reduce_to(reduction_func, target='epochs', picks=None)\n",
    "\n",
    "\n",
    "        #theta\n",
    "        theta = PowerSpectralDensity(estimator=base_psd, fmin=4., fmax=8,normalize=False, comment='theta')\n",
    "        theta.fit(epochs)\n",
    "        datatheta = theta._reduce_to(reduction_func, target='epochs', picks=None)\n",
    "\n",
    "        #gamma normalized\n",
    "        gamma = PowerSpectralDensity(estimator=base_psd, fmin=30., fmax=45.,normalize=True, comment='gamma')\n",
    "        gamma.fit(epochs)\n",
    "        datagamma_n = gamma._reduce_to(reduction_func, target='epochs', picks=None)\n",
    "\n",
    "\n",
    "        #gamma\n",
    "        gamma = PowerSpectralDensity(estimator=base_psd, fmin=30., fmax=45,normalize=False, comment='theta')\n",
    "        gamma.fit(epochs)\n",
    "        datagamma = gamma._reduce_to(reduction_func, target='epochs', picks=None)\n",
    "\n",
    "        #beta normalized\n",
    "        beta = PowerSpectralDensity(estimator=base_psd, fmin=13., fmax=30.,normalize=True, comment='beta')\n",
    "        beta.fit(epochs)\n",
    "        databetaa_n = beta._reduce_to(reduction_func, target='epochs', picks=None)\n",
    "\n",
    "\n",
    "        #beta\n",
    "        beta = PowerSpectralDensity(estimator=base_psd, fmin=13., fmax=30,normalize=False, comment='beta')\n",
    "        beta.fit(epochs)\n",
    "        databeta = beta._reduce_to(reduction_func, target='epochs', picks=None)\n",
    "\n",
    "\n",
    "        # =============================================================================\n",
    "        # INFORMATION THEORY MARKERS\n",
    "        # =============================================================================\n",
    "\n",
    "        komplexity = KolmogorovComplexity(tmin=tmin, tmax=tmax, backend='openmp')\n",
    "        komplexity.fit(epochs)\n",
    "        komplexityobject=komplexity.data_ ###Object to save, number of channels*number of epochs, it's ndarray\n",
    "        reduction_func= [{'axis': 'channels', 'function': np.mean},\n",
    "             {'axis': 'epochs', 'function': trim_mean80}]\n",
    "\n",
    "\n",
    "        datakomplexity = komplexity._reduce_to(reduction_func, target='epochs', picks=None)\n",
    "\n",
    "\n",
    "        p_e = PermutationEntropy(tmin=tmin, tmax=tmax)\n",
    "        p_e.fit(epochs)\n",
    "        p_eobject = p_e.data_\n",
    "        datap_e = p_e._reduce_to(reduction_func, target='epochs', picks=None)\n",
    "\n",
    "        # =============================================================================\n",
    "        # wSMI MARKERS\n",
    "        # =============================================================================\n",
    "        wSMI = SymbolicMutualInformation(tmin=tmin, tmax=tmax, kernel=3, tau=8, backend=\"openmp\",\n",
    "                     method_params=None, method='weighted', comment='default')\n",
    "        wSMI.fit(epochs)\n",
    "        wSMIobject = wSMI.data_\n",
    "\n",
    "        reduction_func= [{'axis': 'channels_y', 'function': np.median},\n",
    "             {'axis': 'channels', 'function': np.mean},\n",
    "             {'axis': 'epochs', 'function': trim_mean80}]\n",
    "        \n",
    "        datawSMI = wSMI._reduce_to(reduction_func, target='epochs', picks=None)\n",
    "        \n",
    "        \n",
    "        # =============================================================================\n",
    "        # EVOKED MARKERS\n",
    "        # =============================================================================\n",
    "        \n",
    "        ###Contingent Negative Variation (CNV)###\n",
    "        cnv = ContingentNegativeVariation(tmin=-0.004, tmax=0.596)\n",
    "        \n",
    "        reduction_func = [{'axis': 'epochs', 'function': trim_mean80},\n",
    "             {'axis': 'channels', 'function': np.mean}]\n",
    "        \n",
    "        cnv.fit(epochs)\n",
    "        cnv_chs= ['AF3', 'AFz', 'AF4', 'F1', 'Fz', 'F2', 'FC1', 'FCz', 'FC2']\n",
    "        roi_cnv = np.array(mne.pick_channels(epochs.info['ch_names'], include=cnv_chs))\n",
    "        dataCNV = cnv._reduce_to(reduction_func, target='epochs', picks={\n",
    "        'epochs': None,\n",
    "        'channels': roi_cnv})\n",
    "        \n",
    "        ###P1###\n",
    "        reduction_func = [{'axis': 'epochs', 'function': trim_mean80},\n",
    "         {'axis': 'channels', 'function': np.mean},\n",
    "         {'axis': 'times', 'function': np.mean}]\n",
    "        p1 = TimeLockedTopography(tmin=0.068, tmax=0.116, comment='p1')\n",
    "        p1.fit(epochs)\n",
    "        p1_chs= ['AF3', 'AFz', 'AF4', 'F1', 'Fz', 'F2', 'FC1', 'FCz', 'FC2']\n",
    "        roi_p1 = np.array(mne.pick_channels(epochs.info['ch_names'], include=p1_chs))\n",
    "        dataP1 = p1._reduce_to(reduction_func, target='epochs', picks={\n",
    "        'epochs': None,\n",
    "        'channels': roi_p1,\n",
    "        'times':None})\n",
    "        \n",
    "        ###P3a###\n",
    "        p3a = TimeLockedTopography(tmin=0.28, tmax=0.34, comment='p3a')\n",
    "        reduction_func = [{'axis': 'epochs', 'function': trim_mean80},\n",
    "         {'axis': 'channels', 'function': np.mean},\n",
    "         {'axis': 'times', 'function': np.mean}]\n",
    "        p3a.fit(epochs)\n",
    "        p3a_chs= ['AF3', 'AFz', 'AF4', 'F1', 'Fz', 'F2', 'FC1', 'FCz', 'FC2']\n",
    "        roi_p3a = np.array(mne.pick_channels(epochs.info['ch_names'], include=p3a_chs))\n",
    "        dataP3a= p3a._reduce_to(reduction_func, target='epochs', picks={\n",
    "        'epochs': None,\n",
    "        'channels': roi_p3a,\n",
    "        'times':None})\n",
    "        \n",
    "        ###P3b###\n",
    "        p3b = TimeLockedTopography(tmin=0.4, tmax=0.6, comment='p3a')\n",
    "        reduction_func = [{'axis': 'epochs', 'function': trim_mean80},\n",
    "         {'axis': 'channels', 'function': np.mean},\n",
    "         {'axis': 'times', 'function': np.mean}]\n",
    "        p3b.fit(epochs)\n",
    "        p3b_chs= ['FC1', 'FCz', 'FC2', 'C1', 'Cz','C2', 'CP1', 'CPz', 'CP2']\n",
    "        roi_p3b = np.array(mne.pick_channels(epochs.info['ch_names'], include=p3b_chs))\n",
    "        dataP3b= p3b._reduce_to(reduction_func, target='epochs', picks={\n",
    "        'epochs': None,\n",
    "        'channels': roi_p3b,\n",
    "        'times':None})\n",
    "        \n",
    "        ###Dictionary with all the markers###\n",
    "        return {'wSMI':datawSMI, 'p_e':datap_e, 'k':datakomplexity, 'b':databeta,'b_n':databetaa_n, 'g':datagamma, 'g_n':datagamma_n, 't':datatheta,'t_n': datatheta_n , 'd':datadelta,\n",
    "        'd_n':datadelta_n, 'a_n':dataalpha_n, 'a':dataalpha, 'CNV':dataCNV, 'P1':dataP1, 'P3a': dataP3a, 'P3b': dataP3b}\n"
   ]
  },
  {
   "cell_type": "code",
   "execution_count": 3,
   "metadata": {},
   "outputs": [],
   "source": [
    "epoch_type = 'evoked'\n",
    "# epoch_type = 'pseudo-rs'\n",
    "\n",
    "\n",
    "all_participants = ['VP07','VP08','VP09', 'VP10','VP11','VP12','VP13','VP14','VP18','VP19','VP20','VP22','VP23','VP24','VP25','VP26','VP27','VP28','VP29','VP30','VP31','VP32','VP33','VP35','VP36','VP37']\n",
    "\n",
    "\n",
    "path = '/media/nicolas.bruno/63f8a366-34b7-4896-a7ce-b5fb4ee78535/Nico/MW_eeg_data/minmarker/' #icm-linux\n",
    "# path = '/Users/nicobruno/ownCloud/MW_eeg_data/minmarker/' #nico-mac"
   ]
  },
  {
   "cell_type": "markdown",
   "metadata": {},
   "source": [
    "# Compute markers for all subjects"
   ]
  },
  {
   "cell_type": "code",
   "execution_count": 18,
   "metadata": {},
   "outputs": [
    {
     "name": "stdout",
     "output_type": "stream",
     "text": [
      "Autodetected number of jobs 24\n",
      "Effective window size : 16.384 (s)\n"
     ]
    },
    {
     "name": "stderr",
     "output_type": "stream",
     "text": [
      "[Parallel(n_jobs=24)]: Using backend LokyBackend with 24 concurrent workers.\n",
      "[Parallel(n_jobs=24)]: Done   6 out of  24 | elapsed:    4.2s remaining:   12.7s\n",
      "[Parallel(n_jobs=24)]: Done  11 out of  24 | elapsed:    4.3s remaining:    5.1s\n",
      "[Parallel(n_jobs=24)]: Done  16 out of  24 | elapsed:    4.4s remaining:    2.2s\n",
      "[Parallel(n_jobs=24)]: Done  21 out of  24 | elapsed:    4.5s remaining:    0.6s\n",
      "[Parallel(n_jobs=24)]: Done  24 out of  24 | elapsed:    4.6s finished\n"
     ]
    },
    {
     "name": "stdout",
     "output_type": "stream",
     "text": [
      "Reduction order for nice/marker/PowerSpectralDensity/alpha: ['frequency', 'channels']\n",
      "Reduction order for nice/marker/PowerSpectralDensity/alpha: ['frequency', 'channels']\n",
      "Reduction order for nice/marker/PowerSpectralDensity/delta: ['frequency', 'channels']\n",
      "Reduction order for nice/marker/PowerSpectralDensity/delta: ['frequency', 'channels']\n",
      "Reduction order for nice/marker/PowerSpectralDensity/theta: ['frequency', 'channels']\n",
      "Reduction order for nice/marker/PowerSpectralDensity/theta: ['frequency', 'channels']\n",
      "Reduction order for nice/marker/PowerSpectralDensity/gamma: ['frequency', 'channels']\n",
      "Reduction order for nice/marker/PowerSpectralDensity/theta: ['frequency', 'channels']\n",
      "Reduction order for nice/marker/PowerSpectralDensity/beta: ['frequency', 'channels']\n",
      "Reduction order for nice/marker/PowerSpectralDensity/beta: ['frequency', 'channels']\n",
      "Running KolmogorovComplexity\n",
      "Elapsed time 0.27894067764282227 sec\n",
      "Reduction order for nice/marker/KolmogorovComplexity/default: ['channels']\n",
      "Filtering  at 10.42 Hz\n",
      "Performing symbolic transformation\n",
      "Reduction order for nice/marker/PermutationEntropy/default: ['channels']\n",
      "Autodetected number of jobs 2\n",
      "Computing CSD\n",
      "Using 10-5 locations for CSD\n",
      "Using 2 jobs\n"
     ]
    },
    {
     "name": "stderr",
     "output_type": "stream",
     "text": [
      "[Parallel(n_jobs=2)]: Using backend LokyBackend with 2 concurrent workers.\n",
      "[Parallel(n_jobs=2)]: Done  16 tasks      | elapsed:    1.7s\n"
     ]
    },
    {
     "name": "stdout",
     "output_type": "stream",
     "text": [
      "Filtering  at 10.42 Hz\n"
     ]
    },
    {
     "name": "stderr",
     "output_type": "stream",
     "text": [
      "[Parallel(n_jobs=2)]: Done 181 out of 181 | elapsed:    2.0s finished\n"
     ]
    },
    {
     "name": "stdout",
     "output_type": "stream",
     "text": [
      "Reduction order for nice/marker/SymbolicMutualInformation/default: ['channels_y', 'channels']\n",
      "Reduction order for nice/marker/ContingentNegativeVariation/default: ['channels']\n",
      "Reduction order for nice/marker/TimeLockedTopography/p1: ['channels', 'times']\n",
      "Reduction order for nice/marker/TimeLockedTopography/p3a: ['channels', 'times']\n",
      "Reduction order for nice/marker/TimeLockedTopography/p3a: ['channels', 'times']\n"
     ]
    }
   ],
   "source": [
    "df_ = pd.DataFrame.from_dict(all_markers(epochs_subtracted, 0, 0.6))"
   ]
  },
  {
   "cell_type": "code",
   "execution_count": 26,
   "metadata": {},
   "outputs": [
    {
     "data": {
      "text/plain": [
       "<EpochsFIF |  181 events (all good), -0.2 - 0.6 sec, baseline [-0.2, 0] sec, ~17.9 MB, data loaded,\n",
       " 'PC/about-task/go/correct/1': 1\n",
       " 'PC/about-task/go/correct/2': 1\n",
       " 'PC/about-task/go/correct/3': 1\n",
       " 'PC/about-task/go/correct/4': 1\n",
       " 'PC/about-task/go/correct/5': 0\n",
       " 'PC/dMW/go/correct/1': 2\n",
       " 'PC/dMW/go/correct/2': 2\n",
       " 'PC/dMW/go/correct/3': 2\n",
       " 'PC/dMW/go/correct/4': 0\n",
       " 'PC/dMW/go/correct/5': 2\n",
       " 'PC/distracted/go/correct/2': 0\n",
       " 'PC/distracted/go/correct/3': 0\n",
       " 'PC/distracted/go/correct/4': 1\n",
       " 'PC/distracted/go/incorrect/1': 1\n",
       " 'PC/distracted/nogo/correct/5': 0\n",
       " 'PC/on-task/go/correct/1': 2\n",
       " 'PC/on-task/go/correct/2': 3\n",
       " 'PC/on-task/go/correct/3': 3\n",
       " 'PC/on-task/go/correct/4': 2\n",
       " 'PC/on-task/go/correct/5': 5\n",
       " 'PC/on-task/nogo/correct/1': 1\n",
       " 'PC/on-task/nogo/correct/4': 1\n",
       " 'PC/sMW/go/correct/2': 0\n",
       " 'PC/sMW/go/correct/3': 0\n",
       " 'PC/sMW/go/correct/4': 1\n",
       " 'PC/sMW/go/correct/5': 1\n",
       " 'PC/sMW/nogo/correct/1': 0\n",
       " 'SC/about-task/go/correct/1': 2\n",
       " 'SC/about-task/go/correct/2': 3\n",
       " 'SC/about-task/go/correct/3': 3\n",
       " 'SC/about-task/go/correct/4': 2\n",
       " 'SC/about-task/go/correct/5': 2\n",
       " 'SC/about-task/go/incorrect/1': 1\n",
       " 'SC/about-task/go/incorrect/5': 1\n",
       " 'SC/about-task/nogo/correct/1': 1\n",
       " 'SC/about-task/nogo/correct/5': 1\n",
       " 'SC/dMW/go/correct/1': 13\n",
       " 'SC/dMW/go/correct/2': 15\n",
       " 'SC/dMW/go/correct/3': 12\n",
       " 'SC/dMW/go/correct/4': 12\n",
       " 'SC/dMW/go/correct/5': 11\n",
       " 'SC/dMW/go/incorrect/1': 2\n",
       " 'SC/dMW/go/incorrect/4': 1\n",
       " 'SC/dMW/nogo/correct/1': 1\n",
       " 'SC/dMW/nogo/correct/3': 1\n",
       " 'SC/dMW/nogo/correct/4': 1\n",
       " 'SC/dMW/nogo/correct/5': 2\n",
       " 'SC/dMW/nogo/incorrect/2': 1\n",
       " 'SC/distracted/go/correct/1': 3\n",
       " 'SC/distracted/go/correct/2': 2\n",
       " 'SC/distracted/go/correct/3': 2\n",
       " 'SC/distracted/go/correct/4': 3\n",
       " 'SC/distracted/go/correct/5': 2\n",
       " 'SC/distracted/go/incorrect/3': 1\n",
       " 'SC/distracted/nogo/incorrect/2': 1\n",
       " 'SC/sMW/go/correct/1': 7\n",
       " 'SC/sMW/go/correct/2': 8\n",
       " 'SC/sMW/go/correct/3': 7\n",
       " 'SC/sMW/go/correct/4': 7\n",
       " 'SC/sMW/go/correct/5': 9\n",
       " 'SC/sMW/go/incorrect/1': 2\n",
       " 'SC/sMW/nogo/correct/2': 1\n",
       " 'SC/sMW/nogo/correct/3': 2\n",
       " 'SC/sMW/nogo/correct/4': 2\n",
       " 'SC/sMW/nogo/incorrect/2': 1>"
      ]
     },
     "execution_count": 26,
     "metadata": {},
     "output_type": "execute_result"
    }
   ],
   "source": [
    "epochs"
   ]
  },
  {
   "cell_type": "code",
   "execution_count": 27,
   "metadata": {},
   "outputs": [
    {
     "data": {
      "text/plain": [
       "181"
      ]
     },
     "execution_count": 27,
     "metadata": {},
     "output_type": "execute_result"
    }
   ],
   "source": [
    "len(epochs.events[:,2])"
   ]
  },
  {
   "cell_type": "code",
   "execution_count": 19,
   "metadata": {},
   "outputs": [
    {
     "ename": "ValueError",
     "evalue": "Wrong number of items passed 3, placement implies 1",
     "output_type": "error",
     "traceback": [
      "\u001b[0;31m---------------------------------------------------------------------------\u001b[0m",
      "\u001b[0;31mKeyError\u001b[0m                                  Traceback (most recent call last)",
      "\u001b[0;32m~/anaconda3/lib/python3.7/site-packages/pandas/core/indexes/base.py\u001b[0m in \u001b[0;36mget_loc\u001b[0;34m(self, key, method, tolerance)\u001b[0m\n\u001b[1;32m   3079\u001b[0m             \u001b[0;32mtry\u001b[0m\u001b[0;34m:\u001b[0m\u001b[0;34m\u001b[0m\u001b[0;34m\u001b[0m\u001b[0m\n\u001b[0;32m-> 3080\u001b[0;31m                 \u001b[0;32mreturn\u001b[0m \u001b[0mself\u001b[0m\u001b[0;34m.\u001b[0m\u001b[0m_engine\u001b[0m\u001b[0;34m.\u001b[0m\u001b[0mget_loc\u001b[0m\u001b[0;34m(\u001b[0m\u001b[0mcasted_key\u001b[0m\u001b[0;34m)\u001b[0m\u001b[0;34m\u001b[0m\u001b[0;34m\u001b[0m\u001b[0m\n\u001b[0m\u001b[1;32m   3081\u001b[0m             \u001b[0;32mexcept\u001b[0m \u001b[0mKeyError\u001b[0m \u001b[0;32mas\u001b[0m \u001b[0merr\u001b[0m\u001b[0;34m:\u001b[0m\u001b[0;34m\u001b[0m\u001b[0;34m\u001b[0m\u001b[0m\n",
      "\u001b[0;32mpandas/_libs/index.pyx\u001b[0m in \u001b[0;36mpandas._libs.index.IndexEngine.get_loc\u001b[0;34m()\u001b[0m\n",
      "\u001b[0;32mpandas/_libs/index.pyx\u001b[0m in \u001b[0;36mpandas._libs.index.IndexEngine.get_loc\u001b[0;34m()\u001b[0m\n",
      "\u001b[0;32mpandas/_libs/hashtable_class_helper.pxi\u001b[0m in \u001b[0;36mpandas._libs.hashtable.PyObjectHashTable.get_item\u001b[0;34m()\u001b[0m\n",
      "\u001b[0;32mpandas/_libs/hashtable_class_helper.pxi\u001b[0m in \u001b[0;36mpandas._libs.hashtable.PyObjectHashTable.get_item\u001b[0;34m()\u001b[0m\n",
      "\u001b[0;31mKeyError\u001b[0m: 'events'",
      "\nThe above exception was the direct cause of the following exception:\n",
      "\u001b[0;31mKeyError\u001b[0m                                  Traceback (most recent call last)",
      "\u001b[0;32m~/anaconda3/lib/python3.7/site-packages/pandas/core/generic.py\u001b[0m in \u001b[0;36m_set_item\u001b[0;34m(self, key, value)\u001b[0m\n\u001b[1;32m   3824\u001b[0m         \u001b[0;32mtry\u001b[0m\u001b[0;34m:\u001b[0m\u001b[0;34m\u001b[0m\u001b[0;34m\u001b[0m\u001b[0m\n\u001b[0;32m-> 3825\u001b[0;31m             \u001b[0mloc\u001b[0m \u001b[0;34m=\u001b[0m \u001b[0mself\u001b[0m\u001b[0;34m.\u001b[0m\u001b[0m_info_axis\u001b[0m\u001b[0;34m.\u001b[0m\u001b[0mget_loc\u001b[0m\u001b[0;34m(\u001b[0m\u001b[0mkey\u001b[0m\u001b[0;34m)\u001b[0m\u001b[0;34m\u001b[0m\u001b[0;34m\u001b[0m\u001b[0m\n\u001b[0m\u001b[1;32m   3826\u001b[0m         \u001b[0;32mexcept\u001b[0m \u001b[0mKeyError\u001b[0m\u001b[0;34m:\u001b[0m\u001b[0;34m\u001b[0m\u001b[0;34m\u001b[0m\u001b[0m\n",
      "\u001b[0;32m~/anaconda3/lib/python3.7/site-packages/pandas/core/indexes/base.py\u001b[0m in \u001b[0;36mget_loc\u001b[0;34m(self, key, method, tolerance)\u001b[0m\n\u001b[1;32m   3081\u001b[0m             \u001b[0;32mexcept\u001b[0m \u001b[0mKeyError\u001b[0m \u001b[0;32mas\u001b[0m \u001b[0merr\u001b[0m\u001b[0;34m:\u001b[0m\u001b[0;34m\u001b[0m\u001b[0;34m\u001b[0m\u001b[0m\n\u001b[0;32m-> 3082\u001b[0;31m                 \u001b[0;32mraise\u001b[0m \u001b[0mKeyError\u001b[0m\u001b[0;34m(\u001b[0m\u001b[0mkey\u001b[0m\u001b[0;34m)\u001b[0m \u001b[0;32mfrom\u001b[0m \u001b[0merr\u001b[0m\u001b[0;34m\u001b[0m\u001b[0;34m\u001b[0m\u001b[0m\n\u001b[0m\u001b[1;32m   3083\u001b[0m \u001b[0;34m\u001b[0m\u001b[0m\n",
      "\u001b[0;31mKeyError\u001b[0m: 'events'",
      "\nDuring handling of the above exception, another exception occurred:\n",
      "\u001b[0;31mValueError\u001b[0m                                Traceback (most recent call last)",
      "\u001b[0;32m<ipython-input-19-86e77c8386c1>\u001b[0m in \u001b[0;36m<module>\u001b[0;34m\u001b[0m\n\u001b[0;32m----> 1\u001b[0;31m \u001b[0mdf_\u001b[0m\u001b[0;34m[\u001b[0m\u001b[0;34m'events'\u001b[0m\u001b[0;34m]\u001b[0m \u001b[0;34m=\u001b[0m \u001b[0mepochs\u001b[0m\u001b[0;34m.\u001b[0m\u001b[0mevents\u001b[0m\u001b[0;34m\u001b[0m\u001b[0;34m\u001b[0m\u001b[0m\n\u001b[0m",
      "\u001b[0;32m~/anaconda3/lib/python3.7/site-packages/pandas/core/frame.py\u001b[0m in \u001b[0;36m__setitem__\u001b[0;34m(self, key, value)\u001b[0m\n\u001b[1;32m   3161\u001b[0m         \u001b[0;32melse\u001b[0m\u001b[0;34m:\u001b[0m\u001b[0;34m\u001b[0m\u001b[0;34m\u001b[0m\u001b[0m\n\u001b[1;32m   3162\u001b[0m             \u001b[0;31m# set column\u001b[0m\u001b[0;34m\u001b[0m\u001b[0;34m\u001b[0m\u001b[0;34m\u001b[0m\u001b[0m\n\u001b[0;32m-> 3163\u001b[0;31m             \u001b[0mself\u001b[0m\u001b[0;34m.\u001b[0m\u001b[0m_set_item\u001b[0m\u001b[0;34m(\u001b[0m\u001b[0mkey\u001b[0m\u001b[0;34m,\u001b[0m \u001b[0mvalue\u001b[0m\u001b[0;34m)\u001b[0m\u001b[0;34m\u001b[0m\u001b[0;34m\u001b[0m\u001b[0m\n\u001b[0m\u001b[1;32m   3164\u001b[0m \u001b[0;34m\u001b[0m\u001b[0m\n\u001b[1;32m   3165\u001b[0m     \u001b[0;32mdef\u001b[0m \u001b[0m_setitem_slice\u001b[0m\u001b[0;34m(\u001b[0m\u001b[0mself\u001b[0m\u001b[0;34m,\u001b[0m \u001b[0mkey\u001b[0m\u001b[0;34m:\u001b[0m \u001b[0mslice\u001b[0m\u001b[0;34m,\u001b[0m \u001b[0mvalue\u001b[0m\u001b[0;34m)\u001b[0m\u001b[0;34m:\u001b[0m\u001b[0;34m\u001b[0m\u001b[0;34m\u001b[0m\u001b[0m\n",
      "\u001b[0;32m~/anaconda3/lib/python3.7/site-packages/pandas/core/frame.py\u001b[0m in \u001b[0;36m_set_item\u001b[0;34m(self, key, value)\u001b[0m\n\u001b[1;32m   3238\u001b[0m         \u001b[0mself\u001b[0m\u001b[0;34m.\u001b[0m\u001b[0m_ensure_valid_index\u001b[0m\u001b[0;34m(\u001b[0m\u001b[0mvalue\u001b[0m\u001b[0;34m)\u001b[0m\u001b[0;34m\u001b[0m\u001b[0;34m\u001b[0m\u001b[0m\n\u001b[1;32m   3239\u001b[0m         \u001b[0mvalue\u001b[0m \u001b[0;34m=\u001b[0m \u001b[0mself\u001b[0m\u001b[0;34m.\u001b[0m\u001b[0m_sanitize_column\u001b[0m\u001b[0;34m(\u001b[0m\u001b[0mkey\u001b[0m\u001b[0;34m,\u001b[0m \u001b[0mvalue\u001b[0m\u001b[0;34m)\u001b[0m\u001b[0;34m\u001b[0m\u001b[0;34m\u001b[0m\u001b[0m\n\u001b[0;32m-> 3240\u001b[0;31m         \u001b[0mNDFrame\u001b[0m\u001b[0;34m.\u001b[0m\u001b[0m_set_item\u001b[0m\u001b[0;34m(\u001b[0m\u001b[0mself\u001b[0m\u001b[0;34m,\u001b[0m \u001b[0mkey\u001b[0m\u001b[0;34m,\u001b[0m \u001b[0mvalue\u001b[0m\u001b[0;34m)\u001b[0m\u001b[0;34m\u001b[0m\u001b[0;34m\u001b[0m\u001b[0m\n\u001b[0m\u001b[1;32m   3241\u001b[0m \u001b[0;34m\u001b[0m\u001b[0m\n\u001b[1;32m   3242\u001b[0m         \u001b[0;31m# check if we are modifying a copy\u001b[0m\u001b[0;34m\u001b[0m\u001b[0;34m\u001b[0m\u001b[0;34m\u001b[0m\u001b[0m\n",
      "\u001b[0;32m~/anaconda3/lib/python3.7/site-packages/pandas/core/generic.py\u001b[0m in \u001b[0;36m_set_item\u001b[0;34m(self, key, value)\u001b[0m\n\u001b[1;32m   3826\u001b[0m         \u001b[0;32mexcept\u001b[0m \u001b[0mKeyError\u001b[0m\u001b[0;34m:\u001b[0m\u001b[0;34m\u001b[0m\u001b[0;34m\u001b[0m\u001b[0m\n\u001b[1;32m   3827\u001b[0m             \u001b[0;31m# This item wasn't present, just insert at end\u001b[0m\u001b[0;34m\u001b[0m\u001b[0;34m\u001b[0m\u001b[0;34m\u001b[0m\u001b[0m\n\u001b[0;32m-> 3828\u001b[0;31m             \u001b[0mself\u001b[0m\u001b[0;34m.\u001b[0m\u001b[0m_mgr\u001b[0m\u001b[0;34m.\u001b[0m\u001b[0minsert\u001b[0m\u001b[0;34m(\u001b[0m\u001b[0mlen\u001b[0m\u001b[0;34m(\u001b[0m\u001b[0mself\u001b[0m\u001b[0;34m.\u001b[0m\u001b[0m_info_axis\u001b[0m\u001b[0;34m)\u001b[0m\u001b[0;34m,\u001b[0m \u001b[0mkey\u001b[0m\u001b[0;34m,\u001b[0m \u001b[0mvalue\u001b[0m\u001b[0;34m)\u001b[0m\u001b[0;34m\u001b[0m\u001b[0;34m\u001b[0m\u001b[0m\n\u001b[0m\u001b[1;32m   3829\u001b[0m             \u001b[0;32mreturn\u001b[0m\u001b[0;34m\u001b[0m\u001b[0;34m\u001b[0m\u001b[0m\n\u001b[1;32m   3830\u001b[0m \u001b[0;34m\u001b[0m\u001b[0m\n",
      "\u001b[0;32m~/anaconda3/lib/python3.7/site-packages/pandas/core/internals/managers.py\u001b[0m in \u001b[0;36minsert\u001b[0;34m(self, loc, item, value, allow_duplicates)\u001b[0m\n\u001b[1;32m   1201\u001b[0m             \u001b[0mvalue\u001b[0m \u001b[0;34m=\u001b[0m \u001b[0msafe_reshape\u001b[0m\u001b[0;34m(\u001b[0m\u001b[0mvalue\u001b[0m\u001b[0;34m,\u001b[0m \u001b[0;34m(\u001b[0m\u001b[0;36m1\u001b[0m\u001b[0;34m,\u001b[0m\u001b[0;34m)\u001b[0m \u001b[0;34m+\u001b[0m \u001b[0mvalue\u001b[0m\u001b[0;34m.\u001b[0m\u001b[0mshape\u001b[0m\u001b[0;34m)\u001b[0m\u001b[0;34m\u001b[0m\u001b[0;34m\u001b[0m\u001b[0m\n\u001b[1;32m   1202\u001b[0m \u001b[0;34m\u001b[0m\u001b[0m\n\u001b[0;32m-> 1203\u001b[0;31m         \u001b[0mblock\u001b[0m \u001b[0;34m=\u001b[0m \u001b[0mmake_block\u001b[0m\u001b[0;34m(\u001b[0m\u001b[0mvalues\u001b[0m\u001b[0;34m=\u001b[0m\u001b[0mvalue\u001b[0m\u001b[0;34m,\u001b[0m \u001b[0mndim\u001b[0m\u001b[0;34m=\u001b[0m\u001b[0mself\u001b[0m\u001b[0;34m.\u001b[0m\u001b[0mndim\u001b[0m\u001b[0;34m,\u001b[0m \u001b[0mplacement\u001b[0m\u001b[0;34m=\u001b[0m\u001b[0mslice\u001b[0m\u001b[0;34m(\u001b[0m\u001b[0mloc\u001b[0m\u001b[0;34m,\u001b[0m \u001b[0mloc\u001b[0m \u001b[0;34m+\u001b[0m \u001b[0;36m1\u001b[0m\u001b[0;34m)\u001b[0m\u001b[0;34m)\u001b[0m\u001b[0;34m\u001b[0m\u001b[0;34m\u001b[0m\u001b[0m\n\u001b[0m\u001b[1;32m   1204\u001b[0m \u001b[0;34m\u001b[0m\u001b[0m\n\u001b[1;32m   1205\u001b[0m         \u001b[0;32mfor\u001b[0m \u001b[0mblkno\u001b[0m\u001b[0;34m,\u001b[0m \u001b[0mcount\u001b[0m \u001b[0;32min\u001b[0m \u001b[0m_fast_count_smallints\u001b[0m\u001b[0;34m(\u001b[0m\u001b[0mself\u001b[0m\u001b[0;34m.\u001b[0m\u001b[0mblknos\u001b[0m\u001b[0;34m[\u001b[0m\u001b[0mloc\u001b[0m\u001b[0;34m:\u001b[0m\u001b[0;34m]\u001b[0m\u001b[0;34m)\u001b[0m\u001b[0;34m:\u001b[0m\u001b[0;34m\u001b[0m\u001b[0;34m\u001b[0m\u001b[0m\n",
      "\u001b[0;32m~/anaconda3/lib/python3.7/site-packages/pandas/core/internals/blocks.py\u001b[0m in \u001b[0;36mmake_block\u001b[0;34m(values, placement, klass, ndim, dtype)\u001b[0m\n\u001b[1;32m   2730\u001b[0m         \u001b[0mvalues\u001b[0m \u001b[0;34m=\u001b[0m \u001b[0mDatetimeArray\u001b[0m\u001b[0;34m.\u001b[0m\u001b[0m_simple_new\u001b[0m\u001b[0;34m(\u001b[0m\u001b[0mvalues\u001b[0m\u001b[0;34m,\u001b[0m \u001b[0mdtype\u001b[0m\u001b[0;34m=\u001b[0m\u001b[0mdtype\u001b[0m\u001b[0;34m)\u001b[0m\u001b[0;34m\u001b[0m\u001b[0;34m\u001b[0m\u001b[0m\n\u001b[1;32m   2731\u001b[0m \u001b[0;34m\u001b[0m\u001b[0m\n\u001b[0;32m-> 2732\u001b[0;31m     \u001b[0;32mreturn\u001b[0m \u001b[0mklass\u001b[0m\u001b[0;34m(\u001b[0m\u001b[0mvalues\u001b[0m\u001b[0;34m,\u001b[0m \u001b[0mndim\u001b[0m\u001b[0;34m=\u001b[0m\u001b[0mndim\u001b[0m\u001b[0;34m,\u001b[0m \u001b[0mplacement\u001b[0m\u001b[0;34m=\u001b[0m\u001b[0mplacement\u001b[0m\u001b[0;34m)\u001b[0m\u001b[0;34m\u001b[0m\u001b[0;34m\u001b[0m\u001b[0m\n\u001b[0m\u001b[1;32m   2733\u001b[0m \u001b[0;34m\u001b[0m\u001b[0m\n\u001b[1;32m   2734\u001b[0m \u001b[0;34m\u001b[0m\u001b[0m\n",
      "\u001b[0;32m~/anaconda3/lib/python3.7/site-packages/pandas/core/internals/blocks.py\u001b[0m in \u001b[0;36m__init__\u001b[0;34m(self, values, placement, ndim)\u001b[0m\n\u001b[1;32m    141\u001b[0m         \u001b[0;32mif\u001b[0m \u001b[0mself\u001b[0m\u001b[0;34m.\u001b[0m\u001b[0m_validate_ndim\u001b[0m \u001b[0;32mand\u001b[0m \u001b[0mself\u001b[0m\u001b[0;34m.\u001b[0m\u001b[0mndim\u001b[0m \u001b[0;32mand\u001b[0m \u001b[0mlen\u001b[0m\u001b[0;34m(\u001b[0m\u001b[0mself\u001b[0m\u001b[0;34m.\u001b[0m\u001b[0mmgr_locs\u001b[0m\u001b[0;34m)\u001b[0m \u001b[0;34m!=\u001b[0m \u001b[0mlen\u001b[0m\u001b[0;34m(\u001b[0m\u001b[0mself\u001b[0m\u001b[0;34m.\u001b[0m\u001b[0mvalues\u001b[0m\u001b[0;34m)\u001b[0m\u001b[0;34m:\u001b[0m\u001b[0;34m\u001b[0m\u001b[0;34m\u001b[0m\u001b[0m\n\u001b[1;32m    142\u001b[0m             raise ValueError(\n\u001b[0;32m--> 143\u001b[0;31m                 \u001b[0;34mf\"Wrong number of items passed {len(self.values)}, \"\u001b[0m\u001b[0;34m\u001b[0m\u001b[0;34m\u001b[0m\u001b[0m\n\u001b[0m\u001b[1;32m    144\u001b[0m                 \u001b[0;34mf\"placement implies {len(self.mgr_locs)}\"\u001b[0m\u001b[0;34m\u001b[0m\u001b[0;34m\u001b[0m\u001b[0m\n\u001b[1;32m    145\u001b[0m             )\n",
      "\u001b[0;31mValueError\u001b[0m: Wrong number of items passed 3, placement implies 1"
     ]
    }
   ],
   "source": [
    "df_['events'] = epochs.events"
   ]
  },
  {
   "cell_type": "code",
   "execution_count": 16,
   "metadata": {},
   "outputs": [
    {
     "name": "stdout",
     "output_type": "stream",
     "text": [
      "\n",
      "#########################################\n",
      "Computing markers for participant VP07\n",
      "#########################################\n",
      "\n",
      "Reading /media/nicolas.bruno/63f8a366-34b7-4896-a7ce-b5fb4ee78535/Nico/MW_eeg_data/minmarker/VP07/VP07_evoked_ar_subtracted_epo.fif ...\n",
      "    Found the data of interest:\n",
      "        t =    -200.00 ...     600.00 ms\n",
      "        0 CTF compensation matrices available\n",
      "Not setting metadata\n",
      "Not setting metadata\n",
      "123 matching events found\n",
      "No baseline correction applied\n",
      "0 projection items activated\n",
      "Reading /media/nicolas.bruno/63f8a366-34b7-4896-a7ce-b5fb4ee78535/Nico/MW_eeg_data/minmarker/VP07/VP07_evoked_ar_rereferenced_epo.fif ...\n",
      "    Found the data of interest:\n",
      "        t =    -200.00 ...     600.00 ms\n",
      "        0 CTF compensation matrices available\n",
      "Not setting metadata\n",
      "Not setting metadata\n",
      "123 matching events found\n",
      "No baseline correction applied\n",
      "0 projection items activated\n",
      "Autodetected number of jobs 24\n",
      "Effective window size : 16.384 (s)\n"
     ]
    },
    {
     "name": "stderr",
     "output_type": "stream",
     "text": [
      "[Parallel(n_jobs=24)]: Using backend LokyBackend with 24 concurrent workers.\n",
      "[Parallel(n_jobs=24)]: Done   6 out of  24 | elapsed:    4.2s remaining:   12.5s\n",
      "[Parallel(n_jobs=24)]: Done  11 out of  24 | elapsed:    4.4s remaining:    5.2s\n"
     ]
    },
    {
     "name": "stdout",
     "output_type": "stream",
     "text": [
      "Reduction order for nice/marker/PowerSpectralDensity/alpha: ['frequency', 'channels']\n",
      "Reduction order for nice/marker/PowerSpectralDensity/alpha: ['frequency', 'channels']\n"
     ]
    },
    {
     "name": "stderr",
     "output_type": "stream",
     "text": [
      "[Parallel(n_jobs=24)]: Done  16 out of  24 | elapsed:    4.5s remaining:    2.3s\n",
      "[Parallel(n_jobs=24)]: Done  21 out of  24 | elapsed:    4.6s remaining:    0.7s\n",
      "[Parallel(n_jobs=24)]: Done  24 out of  24 | elapsed:    4.7s finished\n"
     ]
    },
    {
     "name": "stdout",
     "output_type": "stream",
     "text": [
      "Reduction order for nice/marker/PowerSpectralDensity/delta: ['frequency', 'channels']\n",
      "Reduction order for nice/marker/PowerSpectralDensity/delta: ['frequency', 'channels']\n",
      "Reduction order for nice/marker/PowerSpectralDensity/theta: ['frequency', 'channels']\n",
      "Reduction order for nice/marker/PowerSpectralDensity/theta: ['frequency', 'channels']\n",
      "Reduction order for nice/marker/PowerSpectralDensity/gamma: ['frequency', 'channels']\n",
      "Reduction order for nice/marker/PowerSpectralDensity/theta: ['frequency', 'channels']\n",
      "Reduction order for nice/marker/PowerSpectralDensity/beta: ['frequency', 'channels']\n",
      "Reduction order for nice/marker/PowerSpectralDensity/beta: ['frequency', 'channels']\n",
      "Running KolmogorovComplexity\n",
      "Elapsed time 0.08958101272583008 sec\n",
      "Reduction order for nice/marker/KolmogorovComplexity/default: ['channels']\n",
      "Filtering  at 10.42 Hz\n",
      "Performing symbolic transformation\n",
      "Reduction order for nice/marker/PermutationEntropy/default: ['channels']\n",
      "Autodetected number of jobs 2\n",
      "Computing CSD\n",
      "Using 10-5 locations for CSD\n",
      "Using 2 jobs\n"
     ]
    },
    {
     "name": "stderr",
     "output_type": "stream",
     "text": [
      "[Parallel(n_jobs=2)]: Using backend LokyBackend with 2 concurrent workers.\n"
     ]
    },
    {
     "name": "stdout",
     "output_type": "stream",
     "text": [
      "Filtering  at 10.42 Hz\n"
     ]
    },
    {
     "name": "stderr",
     "output_type": "stream",
     "text": [
      "[Parallel(n_jobs=2)]: Done  18 tasks      | elapsed:    1.7s\n",
      "[Parallel(n_jobs=2)]: Done  63 out of  63 | elapsed:    1.9s finished\n"
     ]
    },
    {
     "name": "stdout",
     "output_type": "stream",
     "text": [
      "Reduction order for nice/marker/SymbolicMutualInformation/default: ['channels_y', 'channels']\n",
      "Reduction order for nice/marker/ContingentNegativeVariation/default: ['channels']\n",
      "Reduction order for nice/marker/TimeLockedTopography/p1: ['channels', 'times']\n",
      "Reduction order for nice/marker/TimeLockedTopography/p3a: ['channels', 'times']\n",
      "Reduction order for nice/marker/TimeLockedTopography/p3a: ['channels', 'times']\n",
      "Autodetected number of jobs 24\n",
      "Effective window size : 16.384 (s)\n"
     ]
    },
    {
     "name": "stderr",
     "output_type": "stream",
     "text": [
      "[Parallel(n_jobs=24)]: Using backend LokyBackend with 24 concurrent workers.\n",
      "[Parallel(n_jobs=24)]: Done   6 out of  24 | elapsed:    3.7s remaining:   11.2s\n",
      "[Parallel(n_jobs=24)]: Done  11 out of  24 | elapsed:    3.8s remaining:    4.5s\n",
      "[Parallel(n_jobs=24)]: Done  16 out of  24 | elapsed:    4.0s remaining:    2.0s\n",
      "[Parallel(n_jobs=24)]: Done  21 out of  24 | elapsed:    4.2s remaining:    0.6s\n"
     ]
    },
    {
     "name": "stdout",
     "output_type": "stream",
     "text": [
      "Reduction order for nice/marker/PowerSpectralDensity/alpha: ['frequency', 'channels']\n",
      "Reduction order for nice/marker/PowerSpectralDensity/alpha: ['frequency', 'channels']\n",
      "Reduction order for nice/marker/PowerSpectralDensity/delta: ['frequency', 'channels']\n",
      "Reduction order for nice/marker/PowerSpectralDensity/delta: ['frequency', 'channels']\n",
      "Reduction order for nice/marker/PowerSpectralDensity/theta: ['frequency', 'channels']\n",
      "Reduction order for nice/marker/PowerSpectralDensity/theta: ['frequency', 'channels']\n",
      "Reduction order for nice/marker/PowerSpectralDensity/gamma: ['frequency', 'channels']\n",
      "Reduction order for nice/marker/PowerSpectralDensity/theta: ['frequency', 'channels']\n",
      "Reduction order for nice/marker/PowerSpectralDensity/beta: ['frequency', 'channels']\n",
      "Reduction order for nice/marker/PowerSpectralDensity/beta: ['frequency', 'channels']\n",
      "Running KolmogorovComplexity\n",
      "Elapsed time 0.054283857345581055 sec\n",
      "Reduction order for nice/marker/KolmogorovComplexity/default: ['channels']\n",
      "Filtering  at 10.42 Hz\n",
      "Performing symbolic transformation\n"
     ]
    },
    {
     "name": "stderr",
     "output_type": "stream",
     "text": [
      "[Parallel(n_jobs=24)]: Done  24 out of  24 | elapsed:    4.4s finished\n"
     ]
    },
    {
     "name": "stdout",
     "output_type": "stream",
     "text": [
      "Reduction order for nice/marker/PermutationEntropy/default: ['channels']\n",
      "Autodetected number of jobs 2\n",
      "Computing CSD\n",
      "Using 10-5 locations for CSD\n",
      "Using 2 jobs\n"
     ]
    },
    {
     "name": "stderr",
     "output_type": "stream",
     "text": [
      "[Parallel(n_jobs=2)]: Using backend LokyBackend with 2 concurrent workers.\n"
     ]
    },
    {
     "name": "stdout",
     "output_type": "stream",
     "text": [
      "Filtering  at 10.42 Hz\n"
     ]
    },
    {
     "name": "stderr",
     "output_type": "stream",
     "text": [
      "[Parallel(n_jobs=2)]: Done  16 tasks      | elapsed:    1.7s\n",
      "[Parallel(n_jobs=2)]: Done  38 out of  38 | elapsed:    1.7s finished\n"
     ]
    },
    {
     "name": "stdout",
     "output_type": "stream",
     "text": [
      "Reduction order for nice/marker/SymbolicMutualInformation/default: ['channels_y', 'channels']\n",
      "Reduction order for nice/marker/ContingentNegativeVariation/default: ['channels']\n",
      "Reduction order for nice/marker/TimeLockedTopography/p1: ['channels', 'times']\n",
      "Reduction order for nice/marker/TimeLockedTopography/p3a: ['channels', 'times']\n",
      "Reduction order for nice/marker/TimeLockedTopography/p3a: ['channels', 'times']\n",
      "Autodetected number of jobs 24\n",
      "Effective window size : 16.384 (s)\n"
     ]
    },
    {
     "name": "stderr",
     "output_type": "stream",
     "text": [
      "[Parallel(n_jobs=24)]: Using backend LokyBackend with 24 concurrent workers.\n",
      "[Parallel(n_jobs=24)]: Done   6 out of  24 | elapsed:    3.7s remaining:   11.2s\n",
      "[Parallel(n_jobs=24)]: Done  11 out of  24 | elapsed:    3.8s remaining:    4.5s\n",
      "[Parallel(n_jobs=24)]: Done  16 out of  24 | elapsed:    4.0s remaining:    2.0s\n",
      "[Parallel(n_jobs=24)]: Done  21 out of  24 | elapsed:    4.1s remaining:    0.6s\n"
     ]
    },
    {
     "name": "stdout",
     "output_type": "stream",
     "text": [
      "Reduction order for nice/marker/PowerSpectralDensity/alpha: ['frequency', 'channels']\n",
      "Reduction order for nice/marker/PowerSpectralDensity/alpha: ['frequency', 'channels']\n",
      "Reduction order for nice/marker/PowerSpectralDensity/delta: ['frequency', 'channels']\n",
      "Reduction order for nice/marker/PowerSpectralDensity/delta: ['frequency', 'channels']\n",
      "Reduction order for nice/marker/PowerSpectralDensity/theta: ['frequency', 'channels']\n",
      "Reduction order for nice/marker/PowerSpectralDensity/theta: ['frequency', 'channels']\n",
      "Reduction order for nice/marker/PowerSpectralDensity/gamma: ['frequency', 'channels']\n",
      "Reduction order for nice/marker/PowerSpectralDensity/theta: ['frequency', 'channels']\n",
      "Reduction order for nice/marker/PowerSpectralDensity/beta: ['frequency', 'channels']\n",
      "Reduction order for nice/marker/PowerSpectralDensity/beta: ['frequency', 'channels']\n",
      "Running KolmogorovComplexity\n",
      "Elapsed time 0.01524043083190918 sec\n",
      "Reduction order for nice/marker/KolmogorovComplexity/default: ['channels']\n",
      "Filtering  at 10.42 Hz\n",
      "Performing symbolic transformation\n"
     ]
    },
    {
     "name": "stderr",
     "output_type": "stream",
     "text": [
      "[Parallel(n_jobs=24)]: Done  24 out of  24 | elapsed:    4.2s finished\n"
     ]
    },
    {
     "name": "stdout",
     "output_type": "stream",
     "text": [
      "Reduction order for nice/marker/PermutationEntropy/default: ['channels']\n",
      "Autodetected number of jobs 2\n",
      "Computing CSD\n",
      "Using 10-5 locations for CSD\n",
      "Using 2 jobs\n"
     ]
    },
    {
     "name": "stderr",
     "output_type": "stream",
     "text": [
      "[Parallel(n_jobs=2)]: Using backend LokyBackend with 2 concurrent workers.\n"
     ]
    },
    {
     "name": "stdout",
     "output_type": "stream",
     "text": [
      "Filtering  at 10.42 Hz\n",
      "Reduction order for nice/marker/SymbolicMutualInformation/default: ['channels_y', 'channels']\n",
      "Reduction order for nice/marker/ContingentNegativeVariation/default: ['channels']\n",
      "Reduction order for nice/marker/TimeLockedTopography/p1: ['channels', 'times']\n",
      "Reduction order for nice/marker/TimeLockedTopography/p3a: ['channels', 'times']\n",
      "Reduction order for nice/marker/TimeLockedTopography/p3a: ['channels', 'times']\n",
      "Autodetected number of jobs 24\n",
      "Effective window size : 16.384 (s)\n"
     ]
    },
    {
     "name": "stderr",
     "output_type": "stream",
     "text": [
      "[Parallel(n_jobs=2)]: Done   8 out of   8 | elapsed:    1.6s finished\n",
      "[Parallel(n_jobs=24)]: Using backend LokyBackend with 24 concurrent workers.\n",
      "[Parallel(n_jobs=24)]: Done   6 out of  24 | elapsed:    3.8s remaining:   11.4s\n",
      "[Parallel(n_jobs=24)]: Done  11 out of  24 | elapsed:    4.0s remaining:    4.7s\n",
      "[Parallel(n_jobs=24)]: Done  16 out of  24 | elapsed:    4.1s remaining:    2.0s\n",
      "[Parallel(n_jobs=24)]: Done  21 out of  24 | elapsed:    4.3s remaining:    0.6s\n"
     ]
    },
    {
     "name": "stdout",
     "output_type": "stream",
     "text": [
      "Reduction order for nice/marker/PowerSpectralDensity/alpha: ['frequency', 'channels']\n",
      "Reduction order for nice/marker/PowerSpectralDensity/alpha: ['frequency', 'channels']\n",
      "Reduction order for nice/marker/PowerSpectralDensity/delta: ['frequency', 'channels']\n",
      "Reduction order for nice/marker/PowerSpectralDensity/delta: ['frequency', 'channels']\n",
      "Reduction order for nice/marker/PowerSpectralDensity/theta: ['frequency', 'channels']\n",
      "Reduction order for nice/marker/PowerSpectralDensity/theta: ['frequency', 'channels']\n",
      "Reduction order for nice/marker/PowerSpectralDensity/gamma: ['frequency', 'channels']\n",
      "Reduction order for nice/marker/PowerSpectralDensity/theta: ['frequency', 'channels']\n",
      "Reduction order for nice/marker/PowerSpectralDensity/beta: ['frequency', 'channels']\n",
      "Reduction order for nice/marker/PowerSpectralDensity/beta: ['frequency', 'channels']\n",
      "Running KolmogorovComplexity\n",
      "Elapsed time 0.002932310104370117 sec\n",
      "Reduction order for nice/marker/KolmogorovComplexity/default: ['channels']\n",
      "Filtering  at 10.42 Hz\n",
      "Performing symbolic transformation\n"
     ]
    },
    {
     "name": "stderr",
     "output_type": "stream",
     "text": [
      "[Parallel(n_jobs=24)]: Done  24 out of  24 | elapsed:    4.4s finished\n"
     ]
    },
    {
     "name": "stdout",
     "output_type": "stream",
     "text": [
      "Reduction order for nice/marker/PermutationEntropy/default: ['channels']\n",
      "Autodetected number of jobs 2\n",
      "Computing CSD\n",
      "Using 10-5 locations for CSD\n",
      "Using 2 jobs\n"
     ]
    },
    {
     "name": "stderr",
     "output_type": "stream",
     "text": [
      "[Parallel(n_jobs=2)]: Using backend LokyBackend with 2 concurrent workers.\n"
     ]
    },
    {
     "name": "stdout",
     "output_type": "stream",
     "text": [
      "Filtering  at 10.42 Hz\n",
      "Reduction order for nice/marker/SymbolicMutualInformation/default: ['channels_y', 'channels']\n",
      "Reduction order for nice/marker/ContingentNegativeVariation/default: ['channels']\n",
      "Reduction order for nice/marker/TimeLockedTopography/p1: ['channels', 'times']\n",
      "Reduction order for nice/marker/TimeLockedTopography/p3a: ['channels', 'times']\n",
      "Reduction order for nice/marker/TimeLockedTopography/p3a: ['channels', 'times']\n",
      "Autodetected number of jobs 24\n",
      "Effective window size : 16.384 (s)\n"
     ]
    },
    {
     "name": "stderr",
     "output_type": "stream",
     "text": [
      "[Parallel(n_jobs=2)]: Done   2 out of   2 | elapsed:    1.6s remaining:    0.0s\n",
      "[Parallel(n_jobs=2)]: Done   2 out of   2 | elapsed:    1.6s finished\n",
      "[Parallel(n_jobs=24)]: Using backend LokyBackend with 24 concurrent workers.\n",
      "[Parallel(n_jobs=24)]: Done   6 out of  24 | elapsed:    3.9s remaining:   11.7s\n",
      "[Parallel(n_jobs=24)]: Done  11 out of  24 | elapsed:    4.0s remaining:    4.7s\n",
      "[Parallel(n_jobs=24)]: Done  16 out of  24 | elapsed:    4.1s remaining:    2.0s\n"
     ]
    },
    {
     "name": "stdout",
     "output_type": "stream",
     "text": [
      "Reduction order for nice/marker/PowerSpectralDensity/alpha: ['frequency', 'channels']\n",
      "Reduction order for nice/marker/PowerSpectralDensity/alpha: ['frequency', 'channels']\n",
      "Reduction order for nice/marker/PowerSpectralDensity/delta: ['frequency', 'channels']\n",
      "Reduction order for nice/marker/PowerSpectralDensity/delta: ['frequency', 'channels']\n",
      "Reduction order for nice/marker/PowerSpectralDensity/theta: ['frequency', 'channels']\n",
      "Reduction order for nice/marker/PowerSpectralDensity/theta: ['frequency', 'channels']\n",
      "Reduction order for nice/marker/PowerSpectralDensity/gamma: ['frequency', 'channels']\n",
      "Reduction order for nice/marker/PowerSpectralDensity/theta: ['frequency', 'channels']\n"
     ]
    },
    {
     "name": "stderr",
     "output_type": "stream",
     "text": [
      "[Parallel(n_jobs=24)]: Done  21 out of  24 | elapsed:    4.2s remaining:    0.6s\n",
      "[Parallel(n_jobs=24)]: Done  24 out of  24 | elapsed:    4.4s finished\n"
     ]
    },
    {
     "name": "stdout",
     "output_type": "stream",
     "text": [
      "Reduction order for nice/marker/PowerSpectralDensity/beta: ['frequency', 'channels']\n",
      "Reduction order for nice/marker/PowerSpectralDensity/beta: ['frequency', 'channels']\n",
      "Running KolmogorovComplexity\n",
      "Elapsed time 0.020719051361083984 sec\n",
      "Reduction order for nice/marker/KolmogorovComplexity/default: ['channels']\n",
      "Filtering  at 10.42 Hz\n",
      "Performing symbolic transformation\n",
      "Reduction order for nice/marker/PermutationEntropy/default: ['channels']\n",
      "Autodetected number of jobs 2\n",
      "Computing CSD\n",
      "Using 10-5 locations for CSD\n",
      "Using 2 jobs\n"
     ]
    },
    {
     "name": "stderr",
     "output_type": "stream",
     "text": [
      "[Parallel(n_jobs=2)]: Using backend LokyBackend with 2 concurrent workers.\n"
     ]
    },
    {
     "name": "stdout",
     "output_type": "stream",
     "text": [
      "Filtering  at 10.42 Hz\n",
      "Reduction order for nice/marker/SymbolicMutualInformation/default: ['channels_y', 'channels']\n",
      "Reduction order for nice/marker/ContingentNegativeVariation/default: ['channels']\n",
      "Reduction order for nice/marker/TimeLockedTopography/p1: ['channels', 'times']\n",
      "Reduction order for nice/marker/TimeLockedTopography/p3a: ['channels', 'times']\n",
      "Reduction order for nice/marker/TimeLockedTopography/p3a: ['channels', 'times']\n",
      "Autodetected number of jobs 24\n",
      "Effective window size : 16.384 (s)\n"
     ]
    },
    {
     "name": "stderr",
     "output_type": "stream",
     "text": [
      "[Parallel(n_jobs=2)]: Done  15 out of  15 | elapsed:    1.7s finished\n",
      "[Parallel(n_jobs=24)]: Using backend LokyBackend with 24 concurrent workers.\n",
      "[Parallel(n_jobs=24)]: Done   6 out of  24 | elapsed:    3.9s remaining:   11.7s\n",
      "[Parallel(n_jobs=24)]: Done  11 out of  24 | elapsed:    4.1s remaining:    4.8s\n",
      "[Parallel(n_jobs=24)]: Done  16 out of  24 | elapsed:    4.2s remaining:    2.1s\n",
      "[Parallel(n_jobs=24)]: Done  21 out of  24 | elapsed:    4.3s remaining:    0.6s\n"
     ]
    },
    {
     "name": "stdout",
     "output_type": "stream",
     "text": [
      "Reduction order for nice/marker/PowerSpectralDensity/alpha: ['frequency', 'channels']\n",
      "Reduction order for nice/marker/PowerSpectralDensity/alpha: ['frequency', 'channels']\n",
      "Reduction order for nice/marker/PowerSpectralDensity/delta: ['frequency', 'channels']\n",
      "Reduction order for nice/marker/PowerSpectralDensity/delta: ['frequency', 'channels']\n",
      "Reduction order for nice/marker/PowerSpectralDensity/theta: ['frequency', 'channels']\n",
      "Reduction order for nice/marker/PowerSpectralDensity/theta: ['frequency', 'channels']\n",
      "Reduction order for nice/marker/PowerSpectralDensity/gamma: ['frequency', 'channels']\n",
      "Reduction order for nice/marker/PowerSpectralDensity/theta: ['frequency', 'channels']\n",
      "Reduction order for nice/marker/PowerSpectralDensity/beta: ['frequency', 'channels']\n",
      "Reduction order for nice/marker/PowerSpectralDensity/beta: ['frequency', 'channels']\n",
      "Running KolmogorovComplexity\n",
      "Elapsed time 0.005644798278808594 sec\n",
      "Reduction order for nice/marker/KolmogorovComplexity/default: ['channels']\n",
      "Filtering  at 10.42 Hz\n",
      "Performing symbolic transformation\n"
     ]
    },
    {
     "name": "stderr",
     "output_type": "stream",
     "text": [
      "[Parallel(n_jobs=24)]: Done  24 out of  24 | elapsed:    4.4s finished\n"
     ]
    },
    {
     "name": "stdout",
     "output_type": "stream",
     "text": [
      "Reduction order for nice/marker/PermutationEntropy/default: ['channels']\n",
      "Autodetected number of jobs 2\n",
      "Computing CSD\n",
      "Using 10-5 locations for CSD\n",
      "Using 2 jobs\n"
     ]
    },
    {
     "name": "stderr",
     "output_type": "stream",
     "text": [
      "[Parallel(n_jobs=2)]: Using backend LokyBackend with 2 concurrent workers.\n"
     ]
    },
    {
     "name": "stdout",
     "output_type": "stream",
     "text": [
      "Filtering  at 10.42 Hz\n",
      "Reduction order for nice/marker/SymbolicMutualInformation/default: ['channels_y', 'channels']\n",
      "Reduction order for nice/marker/ContingentNegativeVariation/default: ['channels']\n",
      "Reduction order for nice/marker/TimeLockedTopography/p1: ['channels', 'times']\n",
      "Reduction order for nice/marker/TimeLockedTopography/p3a: ['channels', 'times']\n",
      "Reduction order for nice/marker/TimeLockedTopography/p3a: ['channels', 'times']\n",
      "Autodetected number of jobs 24\n",
      "Effective window size : 16.384 (s)\n"
     ]
    },
    {
     "name": "stderr",
     "output_type": "stream",
     "text": [
      "[Parallel(n_jobs=2)]: Done   4 out of   4 | elapsed:    1.7s remaining:    0.0s\n",
      "[Parallel(n_jobs=2)]: Done   4 out of   4 | elapsed:    1.7s finished\n",
      "[Parallel(n_jobs=24)]: Using backend LokyBackend with 24 concurrent workers.\n",
      "[Parallel(n_jobs=24)]: Done   6 out of  24 | elapsed:    3.9s remaining:   11.7s\n",
      "[Parallel(n_jobs=24)]: Done  11 out of  24 | elapsed:    4.0s remaining:    4.8s\n",
      "[Parallel(n_jobs=24)]: Done  16 out of  24 | elapsed:    4.2s remaining:    2.1s\n",
      "[Parallel(n_jobs=24)]: Done  21 out of  24 | elapsed:    4.3s remaining:    0.6s\n"
     ]
    },
    {
     "name": "stdout",
     "output_type": "stream",
     "text": [
      "Reduction order for nice/marker/PowerSpectralDensity/alpha: ['frequency', 'channels']\n",
      "Reduction order for nice/marker/PowerSpectralDensity/alpha: ['frequency', 'channels']\n",
      "Reduction order for nice/marker/PowerSpectralDensity/delta: ['frequency', 'channels']\n",
      "Reduction order for nice/marker/PowerSpectralDensity/delta: ['frequency', 'channels']\n",
      "Reduction order for nice/marker/PowerSpectralDensity/theta: ['frequency', 'channels']\n",
      "Reduction order for nice/marker/PowerSpectralDensity/theta: ['frequency', 'channels']\n",
      "Reduction order for nice/marker/PowerSpectralDensity/gamma: ['frequency', 'channels']\n",
      "Reduction order for nice/marker/PowerSpectralDensity/theta: ['frequency', 'channels']\n",
      "Reduction order for nice/marker/PowerSpectralDensity/beta: ['frequency', 'channels']\n",
      "Reduction order for nice/marker/PowerSpectralDensity/beta: ['frequency', 'channels']\n",
      "Running KolmogorovComplexity\n",
      "Elapsed time 0.027933597564697266 sec\n",
      "Reduction order for nice/marker/KolmogorovComplexity/default: ['channels']\n",
      "Filtering  at 10.42 Hz\n",
      "Performing symbolic transformation\n"
     ]
    },
    {
     "name": "stderr",
     "output_type": "stream",
     "text": [
      "[Parallel(n_jobs=24)]: Done  24 out of  24 | elapsed:    4.5s finished\n"
     ]
    },
    {
     "name": "stdout",
     "output_type": "stream",
     "text": [
      "Reduction order for nice/marker/PermutationEntropy/default: ['channels']\n",
      "Autodetected number of jobs 2\n",
      "Computing CSD\n",
      "Using 10-5 locations for CSD\n",
      "Using 2 jobs\n"
     ]
    },
    {
     "name": "stderr",
     "output_type": "stream",
     "text": [
      "[Parallel(n_jobs=2)]: Using backend LokyBackend with 2 concurrent workers.\n"
     ]
    },
    {
     "name": "stdout",
     "output_type": "stream",
     "text": [
      "Filtering  at 10.42 Hz\n",
      "Reduction order for nice/marker/SymbolicMutualInformation/default: ['channels_y', 'channels']\n",
      "Reduction order for nice/marker/ContingentNegativeVariation/default: ['channels']\n",
      "Reduction order for nice/marker/TimeLockedTopography/p1: ['channels', 'times']\n",
      "Reduction order for nice/marker/TimeLockedTopography/p3a: ['channels', 'times']\n",
      "Reduction order for nice/marker/TimeLockedTopography/p3a: ['channels', 'times']\n",
      "Autodetected number of jobs 24\n",
      "Effective window size : 16.384 (s)\n"
     ]
    },
    {
     "name": "stderr",
     "output_type": "stream",
     "text": [
      "[Parallel(n_jobs=2)]: Done  18 out of  18 | elapsed:    1.6s finished\n",
      "[Parallel(n_jobs=24)]: Using backend LokyBackend with 24 concurrent workers.\n",
      "[Parallel(n_jobs=24)]: Done   6 out of  24 | elapsed:    3.7s remaining:   11.0s\n",
      "[Parallel(n_jobs=24)]: Done  11 out of  24 | elapsed:    3.8s remaining:    4.5s\n"
     ]
    },
    {
     "name": "stdout",
     "output_type": "stream",
     "text": [
      "Reduction order for nice/marker/PowerSpectralDensity/alpha: ['frequency', 'channels']\n",
      "Reduction order for nice/marker/PowerSpectralDensity/alpha: ['frequency', 'channels']\n",
      "Reduction order for nice/marker/PowerSpectralDensity/delta: ['frequency', 'channels']\n"
     ]
    },
    {
     "name": "stderr",
     "output_type": "stream",
     "text": [
      "[Parallel(n_jobs=24)]: Done  16 out of  24 | elapsed:    4.0s remaining:    2.0s\n",
      "[Parallel(n_jobs=24)]: Done  21 out of  24 | elapsed:    4.1s remaining:    0.6s\n",
      "[Parallel(n_jobs=24)]: Done  24 out of  24 | elapsed:    4.1s finished\n"
     ]
    },
    {
     "name": "stdout",
     "output_type": "stream",
     "text": [
      "Reduction order for nice/marker/PowerSpectralDensity/delta: ['frequency', 'channels']\n",
      "Reduction order for nice/marker/PowerSpectralDensity/theta: ['frequency', 'channels']\n",
      "Reduction order for nice/marker/PowerSpectralDensity/theta: ['frequency', 'channels']\n",
      "Reduction order for nice/marker/PowerSpectralDensity/gamma: ['frequency', 'channels']\n",
      "Reduction order for nice/marker/PowerSpectralDensity/theta: ['frequency', 'channels']\n",
      "Reduction order for nice/marker/PowerSpectralDensity/beta: ['frequency', 'channels']\n",
      "Reduction order for nice/marker/PowerSpectralDensity/beta: ['frequency', 'channels']\n",
      "Running KolmogorovComplexity\n",
      "Elapsed time 0.004275083541870117 sec\n",
      "Reduction order for nice/marker/KolmogorovComplexity/default: ['channels']\n",
      "Filtering  at 10.42 Hz\n",
      "Performing symbolic transformation\n",
      "Reduction order for nice/marker/PermutationEntropy/default: ['channels']\n",
      "Autodetected number of jobs 2\n",
      "Computing CSD\n",
      "Using 10-5 locations for CSD\n",
      "Using 2 jobs\n"
     ]
    },
    {
     "name": "stderr",
     "output_type": "stream",
     "text": [
      "[Parallel(n_jobs=2)]: Using backend LokyBackend with 2 concurrent workers.\n"
     ]
    },
    {
     "name": "stdout",
     "output_type": "stream",
     "text": [
      "Filtering  at 10.42 Hz\n",
      "Reduction order for nice/marker/SymbolicMutualInformation/default: ['channels_y', 'channels']\n",
      "Reduction order for nice/marker/ContingentNegativeVariation/default: ['channels']\n",
      "Reduction order for nice/marker/TimeLockedTopography/p1: ['channels', 'times']\n",
      "Reduction order for nice/marker/TimeLockedTopography/p3a: ['channels', 'times']\n",
      "Reduction order for nice/marker/TimeLockedTopography/p3a: ['channels', 'times']\n",
      "Autodetected number of jobs 24\n",
      "Effective window size : 16.384 (s)\n"
     ]
    },
    {
     "name": "stderr",
     "output_type": "stream",
     "text": [
      "[Parallel(n_jobs=2)]: Done   3 out of   3 | elapsed:    1.6s remaining:    0.0s\n",
      "[Parallel(n_jobs=2)]: Done   3 out of   3 | elapsed:    1.6s finished\n",
      "[Parallel(n_jobs=24)]: Using backend LokyBackend with 24 concurrent workers.\n",
      "[Parallel(n_jobs=24)]: Done   6 out of  24 | elapsed:    3.8s remaining:   11.4s\n",
      "[Parallel(n_jobs=24)]: Done  11 out of  24 | elapsed:    3.8s remaining:    4.5s\n",
      "[Parallel(n_jobs=24)]: Done  16 out of  24 | elapsed:    3.9s remaining:    2.0s\n"
     ]
    },
    {
     "name": "stdout",
     "output_type": "stream",
     "text": [
      "Reduction order for nice/marker/PowerSpectralDensity/alpha: ['frequency', 'channels']\n",
      "Reduction order for nice/marker/PowerSpectralDensity/alpha: ['frequency', 'channels']\n",
      "Reduction order for nice/marker/PowerSpectralDensity/delta: ['frequency', 'channels']\n",
      "Reduction order for nice/marker/PowerSpectralDensity/delta: ['frequency', 'channels']\n",
      "Reduction order for nice/marker/PowerSpectralDensity/theta: ['frequency', 'channels']\n",
      "Reduction order for nice/marker/PowerSpectralDensity/theta: ['frequency', 'channels']\n",
      "Reduction order for nice/marker/PowerSpectralDensity/gamma: ['frequency', 'channels']\n",
      "Reduction order for nice/marker/PowerSpectralDensity/theta: ['frequency', 'channels']\n",
      "Reduction order for nice/marker/PowerSpectralDensity/beta: ['frequency', 'channels']\n",
      "Reduction order for nice/marker/PowerSpectralDensity/beta: ['frequency', 'channels']\n",
      "Running KolmogorovComplexity\n",
      "Elapsed time 0.013563156127929688 sec\n",
      "Reduction order for nice/marker/KolmogorovComplexity/default: ['channels']\n",
      "Filtering  at 10.42 Hz\n",
      "Performing symbolic transformation\n"
     ]
    },
    {
     "name": "stderr",
     "output_type": "stream",
     "text": [
      "[Parallel(n_jobs=24)]: Done  21 out of  24 | elapsed:    4.2s remaining:    0.6s\n",
      "[Parallel(n_jobs=24)]: Done  24 out of  24 | elapsed:    4.3s finished\n"
     ]
    },
    {
     "name": "stdout",
     "output_type": "stream",
     "text": [
      "Reduction order for nice/marker/PermutationEntropy/default: ['channels']\n",
      "Autodetected number of jobs 2\n",
      "Computing CSD\n",
      "Using 10-5 locations for CSD\n",
      "Using 2 jobs\n"
     ]
    },
    {
     "name": "stderr",
     "output_type": "stream",
     "text": [
      "[Parallel(n_jobs=2)]: Using backend LokyBackend with 2 concurrent workers.\n"
     ]
    },
    {
     "name": "stdout",
     "output_type": "stream",
     "text": [
      "Filtering  at 10.42 Hz\n",
      "Reduction order for nice/marker/SymbolicMutualInformation/default: ['channels_y', 'channels']\n",
      "Reduction order for nice/marker/ContingentNegativeVariation/default: ['channels']\n",
      "Reduction order for nice/marker/TimeLockedTopography/p1: ['channels', 'times']\n",
      "Reduction order for nice/marker/TimeLockedTopography/p3a: ['channels', 'times']\n",
      "Reduction order for nice/marker/TimeLockedTopography/p3a: ['channels', 'times']\n",
      "\n",
      "#########################################\n",
      "Computing markers for participant VP08\n",
      "#########################################\n",
      "\n",
      "Reading /media/nicolas.bruno/63f8a366-34b7-4896-a7ce-b5fb4ee78535/Nico/MW_eeg_data/minmarker/VP08/VP08_evoked_ar_subtracted_epo.fif ...\n",
      "    Found the data of interest:\n",
      "        t =    -200.00 ...     600.00 ms\n",
      "        0 CTF compensation matrices available\n"
     ]
    },
    {
     "name": "stderr",
     "output_type": "stream",
     "text": [
      "[Parallel(n_jobs=2)]: Done  10 out of  10 | elapsed:    1.6s finished\n"
     ]
    },
    {
     "name": "stdout",
     "output_type": "stream",
     "text": [
      "Not setting metadata\n",
      "Not setting metadata\n",
      "340 matching events found\n",
      "No baseline correction applied\n",
      "0 projection items activated\n",
      "Reading /media/nicolas.bruno/63f8a366-34b7-4896-a7ce-b5fb4ee78535/Nico/MW_eeg_data/minmarker/VP08/VP08_evoked_ar_rereferenced_epo.fif ...\n",
      "    Found the data of interest:\n",
      "        t =    -200.00 ...     600.00 ms\n",
      "        0 CTF compensation matrices available\n",
      "Not setting metadata\n",
      "Not setting metadata\n",
      "340 matching events found\n",
      "No baseline correction applied\n",
      "0 projection items activated\n",
      "Autodetected number of jobs 24\n",
      "Effective window size : 16.384 (s)\n"
     ]
    },
    {
     "name": "stderr",
     "output_type": "stream",
     "text": [
      "[Parallel(n_jobs=24)]: Using backend LokyBackend with 24 concurrent workers.\n",
      "[Parallel(n_jobs=24)]: Done   6 out of  24 | elapsed:    3.9s remaining:   11.7s\n",
      "[Parallel(n_jobs=24)]: Done  11 out of  24 | elapsed:    4.0s remaining:    4.8s\n",
      "[Parallel(n_jobs=24)]: Done  16 out of  24 | elapsed:    4.2s remaining:    2.1s\n",
      "[Parallel(n_jobs=24)]: Done  21 out of  24 | elapsed:    4.2s remaining:    0.6s\n"
     ]
    },
    {
     "name": "stdout",
     "output_type": "stream",
     "text": [
      "Reduction order for nice/marker/PowerSpectralDensity/alpha: ['frequency', 'channels']\n",
      "Reduction order for nice/marker/PowerSpectralDensity/alpha: ['frequency', 'channels']\n",
      "Reduction order for nice/marker/PowerSpectralDensity/delta: ['frequency', 'channels']\n",
      "Reduction order for nice/marker/PowerSpectralDensity/delta: ['frequency', 'channels']\n",
      "Reduction order for nice/marker/PowerSpectralDensity/theta: ['frequency', 'channels']\n",
      "Reduction order for nice/marker/PowerSpectralDensity/theta: ['frequency', 'channels']\n",
      "Reduction order for nice/marker/PowerSpectralDensity/gamma: ['frequency', 'channels']\n",
      "Reduction order for nice/marker/PowerSpectralDensity/theta: ['frequency', 'channels']\n",
      "Reduction order for nice/marker/PowerSpectralDensity/beta: ['frequency', 'channels']\n",
      "Reduction order for nice/marker/PowerSpectralDensity/beta: ['frequency', 'channels']\n",
      "Running KolmogorovComplexity\n",
      "Elapsed time 0.0865628719329834 sec\n",
      "Reduction order for nice/marker/KolmogorovComplexity/default: ['channels']\n",
      "Filtering  at 10.42 Hz\n",
      "Performing symbolic transformation\n"
     ]
    },
    {
     "name": "stderr",
     "output_type": "stream",
     "text": [
      "[Parallel(n_jobs=24)]: Done  24 out of  24 | elapsed:    4.4s finished\n"
     ]
    },
    {
     "name": "stdout",
     "output_type": "stream",
     "text": [
      "Reduction order for nice/marker/PermutationEntropy/default: ['channels']\n",
      "Autodetected number of jobs 2\n",
      "Computing CSD\n",
      "Using 10-5 locations for CSD\n",
      "Using 2 jobs\n"
     ]
    },
    {
     "name": "stderr",
     "output_type": "stream",
     "text": [
      "[Parallel(n_jobs=2)]: Using backend LokyBackend with 2 concurrent workers.\n"
     ]
    },
    {
     "name": "stdout",
     "output_type": "stream",
     "text": [
      "Filtering  at 10.42 Hz\n"
     ]
    },
    {
     "name": "stderr",
     "output_type": "stream",
     "text": [
      "[Parallel(n_jobs=2)]: Done  18 tasks      | elapsed:    1.7s\n",
      "[Parallel(n_jobs=2)]: Done  63 out of  63 | elapsed:    1.8s finished\n"
     ]
    },
    {
     "name": "stdout",
     "output_type": "stream",
     "text": [
      "Reduction order for nice/marker/SymbolicMutualInformation/default: ['channels_y', 'channels']\n",
      "Reduction order for nice/marker/ContingentNegativeVariation/default: ['channels']\n",
      "Reduction order for nice/marker/TimeLockedTopography/p1: ['channels', 'times']\n",
      "Reduction order for nice/marker/TimeLockedTopography/p3a: ['channels', 'times']\n",
      "Reduction order for nice/marker/TimeLockedTopography/p3a: ['channels', 'times']\n",
      "Autodetected number of jobs 24\n",
      "Effective window size : 16.384 (s)\n"
     ]
    },
    {
     "name": "stderr",
     "output_type": "stream",
     "text": [
      "[Parallel(n_jobs=24)]: Using backend LokyBackend with 24 concurrent workers.\n",
      "[Parallel(n_jobs=24)]: Done   6 out of  24 | elapsed:    3.9s remaining:   11.6s\n",
      "[Parallel(n_jobs=24)]: Done  11 out of  24 | elapsed:    4.0s remaining:    4.7s\n",
      "[Parallel(n_jobs=24)]: Done  16 out of  24 | elapsed:    4.0s remaining:    2.0s\n"
     ]
    },
    {
     "name": "stdout",
     "output_type": "stream",
     "text": [
      "Reduction order for nice/marker/PowerSpectralDensity/alpha: ['frequency', 'channels']\n",
      "Reduction order for nice/marker/PowerSpectralDensity/alpha: ['frequency', 'channels']\n",
      "Reduction order for nice/marker/PowerSpectralDensity/delta: ['frequency', 'channels']\n",
      "Reduction order for nice/marker/PowerSpectralDensity/delta: ['frequency', 'channels']\n",
      "Reduction order for nice/marker/PowerSpectralDensity/theta: ['frequency', 'channels']\n",
      "Reduction order for nice/marker/PowerSpectralDensity/theta: ['frequency', 'channels']\n",
      "Reduction order for nice/marker/PowerSpectralDensity/gamma: ['frequency', 'channels']\n",
      "Reduction order for nice/marker/PowerSpectralDensity/theta: ['frequency', 'channels']\n",
      "Reduction order for nice/marker/PowerSpectralDensity/beta: ['frequency', 'channels']\n",
      "Reduction order for nice/marker/PowerSpectralDensity/beta: ['frequency', 'channels']\n",
      "Running KolmogorovComplexity\n",
      "Elapsed time 0.0524752140045166 sec\n"
     ]
    },
    {
     "name": "stderr",
     "output_type": "stream",
     "text": [
      "[Parallel(n_jobs=24)]: Done  21 out of  24 | elapsed:    4.2s remaining:    0.6s\n",
      "[Parallel(n_jobs=24)]: Done  24 out of  24 | elapsed:    4.3s finished\n"
     ]
    },
    {
     "name": "stdout",
     "output_type": "stream",
     "text": [
      "Reduction order for nice/marker/KolmogorovComplexity/default: ['channels']\n",
      "Filtering  at 10.42 Hz\n",
      "Performing symbolic transformation\n",
      "Reduction order for nice/marker/PermutationEntropy/default: ['channels']\n",
      "Autodetected number of jobs 2\n",
      "Computing CSD\n",
      "Using 10-5 locations for CSD\n",
      "Using 2 jobs\n"
     ]
    },
    {
     "name": "stderr",
     "output_type": "stream",
     "text": [
      "[Parallel(n_jobs=2)]: Using backend LokyBackend with 2 concurrent workers.\n"
     ]
    },
    {
     "name": "stdout",
     "output_type": "stream",
     "text": [
      "Filtering  at 10.42 Hz\n"
     ]
    },
    {
     "name": "stderr",
     "output_type": "stream",
     "text": [
      "[Parallel(n_jobs=2)]: Done  16 tasks      | elapsed:    1.6s\n",
      "[Parallel(n_jobs=2)]: Done  38 out of  38 | elapsed:    1.7s finished\n"
     ]
    },
    {
     "name": "stdout",
     "output_type": "stream",
     "text": [
      "Reduction order for nice/marker/SymbolicMutualInformation/default: ['channels_y', 'channels']\n",
      "Reduction order for nice/marker/ContingentNegativeVariation/default: ['channels']\n",
      "Reduction order for nice/marker/TimeLockedTopography/p1: ['channels', 'times']\n",
      "Reduction order for nice/marker/TimeLockedTopography/p3a: ['channels', 'times']\n",
      "Reduction order for nice/marker/TimeLockedTopography/p3a: ['channels', 'times']\n",
      "Autodetected number of jobs 24\n",
      "Effective window size : 16.384 (s)\n"
     ]
    },
    {
     "name": "stderr",
     "output_type": "stream",
     "text": [
      "[Parallel(n_jobs=24)]: Using backend LokyBackend with 24 concurrent workers.\n",
      "[Parallel(n_jobs=24)]: Done   6 out of  24 | elapsed:    3.8s remaining:   11.4s\n",
      "[Parallel(n_jobs=24)]: Done  11 out of  24 | elapsed:    3.9s remaining:    4.6s\n",
      "[Parallel(n_jobs=24)]: Done  16 out of  24 | elapsed:    4.0s remaining:    2.0s\n",
      "[Parallel(n_jobs=24)]: Done  21 out of  24 | elapsed:    4.1s remaining:    0.6s\n"
     ]
    },
    {
     "name": "stdout",
     "output_type": "stream",
     "text": [
      "Reduction order for nice/marker/PowerSpectralDensity/alpha: ['frequency', 'channels']\n",
      "Reduction order for nice/marker/PowerSpectralDensity/alpha: ['frequency', 'channels']\n",
      "Reduction order for nice/marker/PowerSpectralDensity/delta: ['frequency', 'channels']\n",
      "Reduction order for nice/marker/PowerSpectralDensity/delta: ['frequency', 'channels']\n",
      "Reduction order for nice/marker/PowerSpectralDensity/theta: ['frequency', 'channels']\n",
      "Reduction order for nice/marker/PowerSpectralDensity/theta: ['frequency', 'channels']\n",
      "Reduction order for nice/marker/PowerSpectralDensity/gamma: ['frequency', 'channels']\n",
      "Reduction order for nice/marker/PowerSpectralDensity/theta: ['frequency', 'channels']\n",
      "Reduction order for nice/marker/PowerSpectralDensity/beta: ['frequency', 'channels']\n",
      "Reduction order for nice/marker/PowerSpectralDensity/beta: ['frequency', 'channels']\n",
      "Running KolmogorovComplexity\n",
      "Elapsed time 0.015681743621826172 sec\n",
      "Reduction order for nice/marker/KolmogorovComplexity/default: ['channels']\n",
      "Filtering  at 10.42 Hz\n",
      "Performing symbolic transformation\n"
     ]
    },
    {
     "name": "stderr",
     "output_type": "stream",
     "text": [
      "[Parallel(n_jobs=24)]: Done  24 out of  24 | elapsed:    4.3s finished\n"
     ]
    },
    {
     "name": "stdout",
     "output_type": "stream",
     "text": [
      "Reduction order for nice/marker/PermutationEntropy/default: ['channels']\n",
      "Autodetected number of jobs 2\n",
      "Computing CSD\n",
      "Using 10-5 locations for CSD\n",
      "Using 2 jobs\n"
     ]
    },
    {
     "name": "stderr",
     "output_type": "stream",
     "text": [
      "[Parallel(n_jobs=2)]: Using backend LokyBackend with 2 concurrent workers.\n"
     ]
    },
    {
     "name": "stdout",
     "output_type": "stream",
     "text": [
      "Filtering  at 10.42 Hz\n",
      "Reduction order for nice/marker/SymbolicMutualInformation/default: ['channels_y', 'channels']\n",
      "Reduction order for nice/marker/ContingentNegativeVariation/default: ['channels']\n",
      "Reduction order for nice/marker/TimeLockedTopography/p1: ['channels', 'times']\n",
      "Reduction order for nice/marker/TimeLockedTopography/p3a: ['channels', 'times']\n",
      "Reduction order for nice/marker/TimeLockedTopography/p3a: ['channels', 'times']\n",
      "Autodetected number of jobs 24\n",
      "Effective window size : 16.384 (s)\n"
     ]
    },
    {
     "name": "stderr",
     "output_type": "stream",
     "text": [
      "[Parallel(n_jobs=2)]: Done   8 out of   8 | elapsed:    1.6s finished\n",
      "[Parallel(n_jobs=24)]: Using backend LokyBackend with 24 concurrent workers.\n",
      "[Parallel(n_jobs=24)]: Done   6 out of  24 | elapsed:    3.8s remaining:   11.3s\n",
      "[Parallel(n_jobs=24)]: Done  11 out of  24 | elapsed:    3.8s remaining:    4.5s\n",
      "[Parallel(n_jobs=24)]: Done  16 out of  24 | elapsed:    3.9s remaining:    2.0s\n"
     ]
    },
    {
     "name": "stdout",
     "output_type": "stream",
     "text": [
      "Reduction order for nice/marker/PowerSpectralDensity/alpha: ['frequency', 'channels']\n",
      "Reduction order for nice/marker/PowerSpectralDensity/alpha: ['frequency', 'channels']\n",
      "Reduction order for nice/marker/PowerSpectralDensity/delta: ['frequency', 'channels']\n",
      "Reduction order for nice/marker/PowerSpectralDensity/delta: ['frequency', 'channels']\n",
      "Reduction order for nice/marker/PowerSpectralDensity/theta: ['frequency', 'channels']\n",
      "Reduction order for nice/marker/PowerSpectralDensity/theta: ['frequency', 'channels']\n",
      "Reduction order for nice/marker/PowerSpectralDensity/gamma: ['frequency', 'channels']\n",
      "Reduction order for nice/marker/PowerSpectralDensity/theta: ['frequency', 'channels']\n",
      "Reduction order for nice/marker/PowerSpectralDensity/beta: ['frequency', 'channels']\n",
      "Reduction order for nice/marker/PowerSpectralDensity/beta: ['frequency', 'channels']\n",
      "Running KolmogorovComplexity\n",
      "Elapsed time 0.0029387474060058594 sec\n",
      "Reduction order for nice/marker/KolmogorovComplexity/default: ['channels']\n",
      "Filtering  at 10.42 Hz\n",
      "Performing symbolic transformation\n"
     ]
    },
    {
     "name": "stderr",
     "output_type": "stream",
     "text": [
      "[Parallel(n_jobs=24)]: Done  21 out of  24 | elapsed:    4.1s remaining:    0.6s\n",
      "[Parallel(n_jobs=24)]: Done  24 out of  24 | elapsed:    4.3s finished\n"
     ]
    },
    {
     "name": "stdout",
     "output_type": "stream",
     "text": [
      "Reduction order for nice/marker/PermutationEntropy/default: ['channels']\n",
      "Autodetected number of jobs 2\n",
      "Computing CSD\n",
      "Using 10-5 locations for CSD\n",
      "Using 2 jobs\n"
     ]
    },
    {
     "name": "stderr",
     "output_type": "stream",
     "text": [
      "[Parallel(n_jobs=2)]: Using backend LokyBackend with 2 concurrent workers.\n"
     ]
    },
    {
     "name": "stdout",
     "output_type": "stream",
     "text": [
      "Filtering  at 10.42 Hz\n",
      "Reduction order for nice/marker/SymbolicMutualInformation/default: ['channels_y', 'channels']\n",
      "Reduction order for nice/marker/ContingentNegativeVariation/default: ['channels']\n",
      "Reduction order for nice/marker/TimeLockedTopography/p1: ['channels', 'times']\n",
      "Reduction order for nice/marker/TimeLockedTopography/p3a: ['channels', 'times']\n",
      "Reduction order for nice/marker/TimeLockedTopography/p3a: ['channels', 'times']\n",
      "Autodetected number of jobs 24\n",
      "Effective window size : 16.384 (s)\n"
     ]
    },
    {
     "name": "stderr",
     "output_type": "stream",
     "text": [
      "[Parallel(n_jobs=2)]: Done   2 out of   2 | elapsed:    1.6s remaining:    0.0s\n",
      "[Parallel(n_jobs=2)]: Done   2 out of   2 | elapsed:    1.6s finished\n",
      "[Parallel(n_jobs=24)]: Using backend LokyBackend with 24 concurrent workers.\n",
      "[Parallel(n_jobs=24)]: Done   6 out of  24 | elapsed:    4.0s remaining:   11.9s\n",
      "[Parallel(n_jobs=24)]: Done  11 out of  24 | elapsed:    4.0s remaining:    4.8s\n",
      "[Parallel(n_jobs=24)]: Done  16 out of  24 | elapsed:    4.2s remaining:    2.1s\n",
      "[Parallel(n_jobs=24)]: Done  21 out of  24 | elapsed:    4.3s remaining:    0.6s\n"
     ]
    },
    {
     "name": "stdout",
     "output_type": "stream",
     "text": [
      "Reduction order for nice/marker/PowerSpectralDensity/alpha: ['frequency', 'channels']\n",
      "Reduction order for nice/marker/PowerSpectralDensity/alpha: ['frequency', 'channels']\n",
      "Reduction order for nice/marker/PowerSpectralDensity/delta: ['frequency', 'channels']\n",
      "Reduction order for nice/marker/PowerSpectralDensity/delta: ['frequency', 'channels']\n",
      "Reduction order for nice/marker/PowerSpectralDensity/theta: ['frequency', 'channels']\n",
      "Reduction order for nice/marker/PowerSpectralDensity/theta: ['frequency', 'channels']\n",
      "Reduction order for nice/marker/PowerSpectralDensity/gamma: ['frequency', 'channels']\n",
      "Reduction order for nice/marker/PowerSpectralDensity/theta: ['frequency', 'channels']\n",
      "Reduction order for nice/marker/PowerSpectralDensity/beta: ['frequency', 'channels']\n",
      "Reduction order for nice/marker/PowerSpectralDensity/beta: ['frequency', 'channels']\n",
      "Running KolmogorovComplexity\n",
      "Elapsed time 0.021748065948486328 sec\n",
      "Reduction order for nice/marker/KolmogorovComplexity/default: ['channels']\n",
      "Filtering  at 10.42 Hz\n",
      "Performing symbolic transformation\n"
     ]
    },
    {
     "name": "stderr",
     "output_type": "stream",
     "text": [
      "[Parallel(n_jobs=24)]: Done  24 out of  24 | elapsed:    4.5s finished\n"
     ]
    },
    {
     "name": "stdout",
     "output_type": "stream",
     "text": [
      "Reduction order for nice/marker/PermutationEntropy/default: ['channels']\n",
      "Autodetected number of jobs 2\n",
      "Computing CSD\n",
      "Using 10-5 locations for CSD\n",
      "Using 2 jobs\n"
     ]
    },
    {
     "name": "stderr",
     "output_type": "stream",
     "text": [
      "[Parallel(n_jobs=2)]: Using backend LokyBackend with 2 concurrent workers.\n"
     ]
    },
    {
     "name": "stdout",
     "output_type": "stream",
     "text": [
      "Filtering  at 10.42 Hz\n",
      "Reduction order for nice/marker/SymbolicMutualInformation/default: ['channels_y', 'channels']\n",
      "Reduction order for nice/marker/ContingentNegativeVariation/default: ['channels']\n",
      "Reduction order for nice/marker/TimeLockedTopography/p1: ['channels', 'times']\n",
      "Reduction order for nice/marker/TimeLockedTopography/p3a: ['channels', 'times']\n",
      "Reduction order for nice/marker/TimeLockedTopography/p3a: ['channels', 'times']\n",
      "Autodetected number of jobs 24\n",
      "Effective window size : 16.384 (s)\n"
     ]
    },
    {
     "name": "stderr",
     "output_type": "stream",
     "text": [
      "[Parallel(n_jobs=2)]: Done  15 out of  15 | elapsed:    1.7s finished\n",
      "[Parallel(n_jobs=24)]: Using backend LokyBackend with 24 concurrent workers.\n",
      "[Parallel(n_jobs=24)]: Done   6 out of  24 | elapsed:    3.9s remaining:   11.7s\n",
      "[Parallel(n_jobs=24)]: Done  11 out of  24 | elapsed:    4.0s remaining:    4.7s\n",
      "[Parallel(n_jobs=24)]: Done  16 out of  24 | elapsed:    4.0s remaining:    2.0s\n",
      "[Parallel(n_jobs=24)]: Done  21 out of  24 | elapsed:    4.1s remaining:    0.6s\n"
     ]
    },
    {
     "name": "stdout",
     "output_type": "stream",
     "text": [
      "Reduction order for nice/marker/PowerSpectralDensity/alpha: ['frequency', 'channels']\n",
      "Reduction order for nice/marker/PowerSpectralDensity/alpha: ['frequency', 'channels']\n",
      "Reduction order for nice/marker/PowerSpectralDensity/delta: ['frequency', 'channels']\n",
      "Reduction order for nice/marker/PowerSpectralDensity/delta: ['frequency', 'channels']\n",
      "Reduction order for nice/marker/PowerSpectralDensity/theta: ['frequency', 'channels']\n",
      "Reduction order for nice/marker/PowerSpectralDensity/theta: ['frequency', 'channels']\n",
      "Reduction order for nice/marker/PowerSpectralDensity/gamma: ['frequency', 'channels']\n",
      "Reduction order for nice/marker/PowerSpectralDensity/theta: ['frequency', 'channels']\n",
      "Reduction order for nice/marker/PowerSpectralDensity/beta: ['frequency', 'channels']\n",
      "Reduction order for nice/marker/PowerSpectralDensity/beta: ['frequency', 'channels']\n",
      "Running KolmogorovComplexity\n",
      "Elapsed time 0.01984262466430664 sec\n",
      "Reduction order for nice/marker/KolmogorovComplexity/default: ['channels']\n",
      "Filtering  at 10.42 Hz\n",
      "Performing symbolic transformation\n"
     ]
    },
    {
     "name": "stderr",
     "output_type": "stream",
     "text": [
      "[Parallel(n_jobs=24)]: Done  24 out of  24 | elapsed:    4.3s finished\n"
     ]
    },
    {
     "name": "stdout",
     "output_type": "stream",
     "text": [
      "Reduction order for nice/marker/PermutationEntropy/default: ['channels']\n",
      "Autodetected number of jobs 2\n",
      "Computing CSD\n",
      "Using 10-5 locations for CSD\n",
      "Using 2 jobs\n"
     ]
    },
    {
     "name": "stderr",
     "output_type": "stream",
     "text": [
      "[Parallel(n_jobs=2)]: Using backend LokyBackend with 2 concurrent workers.\n"
     ]
    },
    {
     "name": "stdout",
     "output_type": "stream",
     "text": [
      "Filtering  at 10.42 Hz\n",
      "Reduction order for nice/marker/SymbolicMutualInformation/default: ['channels_y', 'channels']\n",
      "Reduction order for nice/marker/ContingentNegativeVariation/default: ['channels']\n",
      "Reduction order for nice/marker/TimeLockedTopography/p1: ['channels', 'times']\n",
      "Reduction order for nice/marker/TimeLockedTopography/p3a: ['channels', 'times']\n",
      "Reduction order for nice/marker/TimeLockedTopography/p3a: ['channels', 'times']\n",
      "Autodetected number of jobs 24\n",
      "Effective window size : 16.384 (s)\n"
     ]
    },
    {
     "name": "stderr",
     "output_type": "stream",
     "text": [
      "[Parallel(n_jobs=2)]: Done  14 out of  14 | elapsed:    1.6s finished\n",
      "[Parallel(n_jobs=24)]: Using backend LokyBackend with 24 concurrent workers.\n",
      "[Parallel(n_jobs=24)]: Done   6 out of  24 | elapsed:    4.1s remaining:   12.2s\n",
      "[Parallel(n_jobs=24)]: Done  11 out of  24 | elapsed:    4.2s remaining:    4.9s\n",
      "[Parallel(n_jobs=24)]: Done  16 out of  24 | elapsed:    4.3s remaining:    2.1s\n"
     ]
    },
    {
     "name": "stdout",
     "output_type": "stream",
     "text": [
      "Reduction order for nice/marker/PowerSpectralDensity/alpha: ['frequency', 'channels']\n",
      "Reduction order for nice/marker/PowerSpectralDensity/alpha: ['frequency', 'channels']\n",
      "Reduction order for nice/marker/PowerSpectralDensity/delta: ['frequency', 'channels']\n",
      "Reduction order for nice/marker/PowerSpectralDensity/delta: ['frequency', 'channels']\n",
      "Reduction order for nice/marker/PowerSpectralDensity/theta: ['frequency', 'channels']\n",
      "Reduction order for nice/marker/PowerSpectralDensity/theta: ['frequency', 'channels']\n",
      "Reduction order for nice/marker/PowerSpectralDensity/gamma: ['frequency', 'channels']\n",
      "Reduction order for nice/marker/PowerSpectralDensity/theta: ['frequency', 'channels']\n",
      "Reduction order for nice/marker/PowerSpectralDensity/beta: ['frequency', 'channels']\n",
      "Reduction order for nice/marker/PowerSpectralDensity/beta: ['frequency', 'channels']\n",
      "Running KolmogorovComplexity\n",
      "Elapsed time 0.07823920249938965 sec\n"
     ]
    },
    {
     "name": "stderr",
     "output_type": "stream",
     "text": [
      "[Parallel(n_jobs=24)]: Done  21 out of  24 | elapsed:    4.4s remaining:    0.6s\n",
      "[Parallel(n_jobs=24)]: Done  24 out of  24 | elapsed:    4.5s finished\n"
     ]
    },
    {
     "name": "stdout",
     "output_type": "stream",
     "text": [
      "Reduction order for nice/marker/KolmogorovComplexity/default: ['channels']\n",
      "Filtering  at 10.42 Hz\n",
      "Performing symbolic transformation\n",
      "Reduction order for nice/marker/PermutationEntropy/default: ['channels']\n",
      "Autodetected number of jobs 2\n",
      "Computing CSD\n",
      "Using 10-5 locations for CSD\n",
      "Using 2 jobs\n"
     ]
    },
    {
     "name": "stderr",
     "output_type": "stream",
     "text": [
      "[Parallel(n_jobs=2)]: Using backend LokyBackend with 2 concurrent workers.\n"
     ]
    },
    {
     "name": "stdout",
     "output_type": "stream",
     "text": [
      "Filtering  at 10.42 Hz\n"
     ]
    },
    {
     "name": "stderr",
     "output_type": "stream",
     "text": [
      "[Parallel(n_jobs=2)]: Done  24 tasks      | elapsed:    1.7s\n",
      "[Parallel(n_jobs=2)]: Done  54 out of  54 | elapsed:    1.7s finished\n"
     ]
    },
    {
     "name": "stdout",
     "output_type": "stream",
     "text": [
      "Reduction order for nice/marker/SymbolicMutualInformation/default: ['channels_y', 'channels']\n",
      "Reduction order for nice/marker/ContingentNegativeVariation/default: ['channels']\n",
      "Reduction order for nice/marker/TimeLockedTopography/p1: ['channels', 'times']\n",
      "Reduction order for nice/marker/TimeLockedTopography/p3a: ['channels', 'times']\n",
      "Reduction order for nice/marker/TimeLockedTopography/p3a: ['channels', 'times']\n",
      "Autodetected number of jobs 24\n",
      "Effective window size : 16.384 (s)\n"
     ]
    },
    {
     "name": "stderr",
     "output_type": "stream",
     "text": [
      "[Parallel(n_jobs=24)]: Using backend LokyBackend with 24 concurrent workers.\n",
      "[Parallel(n_jobs=24)]: Done   6 out of  24 | elapsed:    3.8s remaining:   11.5s\n",
      "[Parallel(n_jobs=24)]: Done  11 out of  24 | elapsed:    3.9s remaining:    4.7s\n",
      "[Parallel(n_jobs=24)]: Done  16 out of  24 | elapsed:    4.0s remaining:    2.0s\n"
     ]
    },
    {
     "name": "stdout",
     "output_type": "stream",
     "text": [
      "Reduction order for nice/marker/PowerSpectralDensity/alpha: ['frequency', 'channels']\n",
      "Reduction order for nice/marker/PowerSpectralDensity/alpha: ['frequency', 'channels']\n",
      "Reduction order for nice/marker/PowerSpectralDensity/delta: ['frequency', 'channels']\n",
      "Reduction order for nice/marker/PowerSpectralDensity/delta: ['frequency', 'channels']\n",
      "Reduction order for nice/marker/PowerSpectralDensity/theta: ['frequency', 'channels']\n",
      "Reduction order for nice/marker/PowerSpectralDensity/theta: ['frequency', 'channels']\n",
      "Reduction order for nice/marker/PowerSpectralDensity/gamma: ['frequency', 'channels']\n",
      "Reduction order for nice/marker/PowerSpectralDensity/theta: ['frequency', 'channels']\n",
      "Reduction order for nice/marker/PowerSpectralDensity/beta: ['frequency', 'channels']\n",
      "Reduction order for nice/marker/PowerSpectralDensity/beta: ['frequency', 'channels']\n",
      "Running KolmogorovComplexity\n"
     ]
    },
    {
     "name": "stderr",
     "output_type": "stream",
     "text": [
      "[Parallel(n_jobs=24)]: Done  21 out of  24 | elapsed:    4.2s remaining:    0.6s\n",
      "[Parallel(n_jobs=24)]: Done  24 out of  24 | elapsed:    4.3s finished\n"
     ]
    },
    {
     "name": "stdout",
     "output_type": "stream",
     "text": [
      "Elapsed time 0.039897918701171875 sec\n",
      "Reduction order for nice/marker/KolmogorovComplexity/default: ['channels']\n",
      "Filtering  at 10.42 Hz\n",
      "Performing symbolic transformation\n",
      "Reduction order for nice/marker/PermutationEntropy/default: ['channels']\n",
      "Autodetected number of jobs 2\n",
      "Computing CSD\n",
      "Using 10-5 locations for CSD\n",
      "Using 2 jobs\n"
     ]
    },
    {
     "name": "stderr",
     "output_type": "stream",
     "text": [
      "[Parallel(n_jobs=2)]: Using backend LokyBackend with 2 concurrent workers.\n"
     ]
    },
    {
     "name": "stdout",
     "output_type": "stream",
     "text": [
      "Filtering  at 10.42 Hz\n"
     ]
    },
    {
     "name": "stderr",
     "output_type": "stream",
     "text": [
      "[Parallel(n_jobs=2)]: Done  24 tasks      | elapsed:    1.6s\n",
      "[Parallel(n_jobs=2)]: Done  29 out of  29 | elapsed:    1.6s finished\n"
     ]
    },
    {
     "name": "stdout",
     "output_type": "stream",
     "text": [
      "Reduction order for nice/marker/SymbolicMutualInformation/default: ['channels_y', 'channels']\n",
      "Reduction order for nice/marker/ContingentNegativeVariation/default: ['channels']\n",
      "Reduction order for nice/marker/TimeLockedTopography/p1: ['channels', 'times']\n",
      "Reduction order for nice/marker/TimeLockedTopography/p3a: ['channels', 'times']\n",
      "Reduction order for nice/marker/TimeLockedTopography/p3a: ['channels', 'times']\n",
      "\n",
      "#########################################\n",
      "Computing markers for participant VP09\n",
      "#########################################\n",
      "\n",
      "Reading /media/nicolas.bruno/63f8a366-34b7-4896-a7ce-b5fb4ee78535/Nico/MW_eeg_data/minmarker/VP09/VP09_evoked_ar_subtracted_epo.fif ...\n",
      "    Found the data of interest:\n",
      "        t =    -200.00 ...     600.00 ms\n",
      "        0 CTF compensation matrices available\n",
      "Not setting metadata\n",
      "Not setting metadata\n",
      "246 matching events found\n",
      "No baseline correction applied\n",
      "0 projection items activated\n",
      "Reading /media/nicolas.bruno/63f8a366-34b7-4896-a7ce-b5fb4ee78535/Nico/MW_eeg_data/minmarker/VP09/VP09_evoked_ar_rereferenced_epo.fif ...\n",
      "    Found the data of interest:\n",
      "        t =    -200.00 ...     600.00 ms\n",
      "        0 CTF compensation matrices available\n",
      "Not setting metadata\n",
      "Not setting metadata\n",
      "246 matching events found\n",
      "No baseline correction applied\n",
      "0 projection items activated\n",
      "Autodetected number of jobs 24\n",
      "Effective window size : 16.384 (s)\n"
     ]
    },
    {
     "name": "stderr",
     "output_type": "stream",
     "text": [
      "[Parallel(n_jobs=24)]: Using backend LokyBackend with 24 concurrent workers.\n",
      "[Parallel(n_jobs=24)]: Done   6 out of  24 | elapsed:    4.0s remaining:   12.1s\n",
      "[Parallel(n_jobs=24)]: Done  11 out of  24 | elapsed:    4.2s remaining:    5.0s\n",
      "[Parallel(n_jobs=24)]: Done  16 out of  24 | elapsed:    4.4s remaining:    2.2s\n",
      "[Parallel(n_jobs=24)]: Done  21 out of  24 | elapsed:    4.5s remaining:    0.6s\n",
      "[Parallel(n_jobs=24)]: Done  24 out of  24 | elapsed:    4.5s finished\n"
     ]
    },
    {
     "name": "stdout",
     "output_type": "stream",
     "text": [
      "Reduction order for nice/marker/PowerSpectralDensity/alpha: ['frequency', 'channels']\n",
      "Reduction order for nice/marker/PowerSpectralDensity/alpha: ['frequency', 'channels']\n",
      "Reduction order for nice/marker/PowerSpectralDensity/delta: ['frequency', 'channels']\n",
      "Reduction order for nice/marker/PowerSpectralDensity/delta: ['frequency', 'channels']\n",
      "Reduction order for nice/marker/PowerSpectralDensity/theta: ['frequency', 'channels']\n",
      "Reduction order for nice/marker/PowerSpectralDensity/theta: ['frequency', 'channels']\n",
      "Reduction order for nice/marker/PowerSpectralDensity/gamma: ['frequency', 'channels']\n",
      "Reduction order for nice/marker/PowerSpectralDensity/theta: ['frequency', 'channels']\n",
      "Reduction order for nice/marker/PowerSpectralDensity/beta: ['frequency', 'channels']\n",
      "Reduction order for nice/marker/PowerSpectralDensity/beta: ['frequency', 'channels']\n",
      "Running KolmogorovComplexity\n",
      "Elapsed time 0.0908966064453125 sec\n",
      "Reduction order for nice/marker/KolmogorovComplexity/default: ['channels']\n",
      "Filtering  at 10.42 Hz\n",
      "Performing symbolic transformation\n",
      "Reduction order for nice/marker/PermutationEntropy/default: ['channels']\n",
      "Autodetected number of jobs 2\n",
      "Computing CSD\n",
      "Using 10-5 locations for CSD\n",
      "Using 2 jobs\n"
     ]
    },
    {
     "name": "stderr",
     "output_type": "stream",
     "text": [
      "[Parallel(n_jobs=2)]: Using backend LokyBackend with 2 concurrent workers.\n"
     ]
    },
    {
     "name": "stdout",
     "output_type": "stream",
     "text": [
      "Filtering  at 10.42 Hz\n"
     ]
    },
    {
     "name": "stderr",
     "output_type": "stream",
     "text": [
      "[Parallel(n_jobs=2)]: Done  18 tasks      | elapsed:    1.6s\n",
      "[Parallel(n_jobs=2)]: Done  63 out of  63 | elapsed:    1.7s finished\n"
     ]
    },
    {
     "name": "stdout",
     "output_type": "stream",
     "text": [
      "Reduction order for nice/marker/SymbolicMutualInformation/default: ['channels_y', 'channels']\n",
      "Reduction order for nice/marker/ContingentNegativeVariation/default: ['channels']\n",
      "Reduction order for nice/marker/TimeLockedTopography/p1: ['channels', 'times']\n",
      "Reduction order for nice/marker/TimeLockedTopography/p3a: ['channels', 'times']\n",
      "Reduction order for nice/marker/TimeLockedTopography/p3a: ['channels', 'times']\n",
      "Autodetected number of jobs 24\n",
      "Effective window size : 16.384 (s)\n"
     ]
    },
    {
     "name": "stderr",
     "output_type": "stream",
     "text": [
      "[Parallel(n_jobs=24)]: Using backend LokyBackend with 24 concurrent workers.\n",
      "[Parallel(n_jobs=24)]: Done   6 out of  24 | elapsed:    3.9s remaining:   11.8s\n",
      "[Parallel(n_jobs=24)]: Done  11 out of  24 | elapsed:    4.0s remaining:    4.7s\n",
      "[Parallel(n_jobs=24)]: Done  16 out of  24 | elapsed:    4.1s remaining:    2.0s\n"
     ]
    },
    {
     "name": "stdout",
     "output_type": "stream",
     "text": [
      "Reduction order for nice/marker/PowerSpectralDensity/alpha: ['frequency', 'channels']\n",
      "Reduction order for nice/marker/PowerSpectralDensity/alpha: ['frequency', 'channels']\n",
      "Reduction order for nice/marker/PowerSpectralDensity/delta: ['frequency', 'channels']\n",
      "Reduction order for nice/marker/PowerSpectralDensity/delta: ['frequency', 'channels']\n",
      "Reduction order for nice/marker/PowerSpectralDensity/theta: ['frequency', 'channels']\n",
      "Reduction order for nice/marker/PowerSpectralDensity/theta: ['frequency', 'channels']\n",
      "Reduction order for nice/marker/PowerSpectralDensity/gamma: ['frequency', 'channels']\n",
      "Reduction order for nice/marker/PowerSpectralDensity/theta: ['frequency', 'channels']\n",
      "Reduction order for nice/marker/PowerSpectralDensity/beta: ['frequency', 'channels']\n",
      "Reduction order for nice/marker/PowerSpectralDensity/beta: ['frequency', 'channels']\n",
      "Running KolmogorovComplexity\n",
      "Elapsed time 0.05268120765686035 sec\n",
      "Reduction order for nice/marker/KolmogorovComplexity/default: ['channels']\n",
      "Filtering  at 10.42 Hz\n"
     ]
    },
    {
     "name": "stderr",
     "output_type": "stream",
     "text": [
      "[Parallel(n_jobs=24)]: Done  21 out of  24 | elapsed:    4.2s remaining:    0.6s\n",
      "[Parallel(n_jobs=24)]: Done  24 out of  24 | elapsed:    4.3s finished\n"
     ]
    },
    {
     "name": "stdout",
     "output_type": "stream",
     "text": [
      "Performing symbolic transformation\n",
      "Reduction order for nice/marker/PermutationEntropy/default: ['channels']\n",
      "Autodetected number of jobs 2\n",
      "Computing CSD\n",
      "Using 10-5 locations for CSD\n",
      "Using 2 jobs\n"
     ]
    },
    {
     "name": "stderr",
     "output_type": "stream",
     "text": [
      "[Parallel(n_jobs=2)]: Using backend LokyBackend with 2 concurrent workers.\n"
     ]
    },
    {
     "name": "stdout",
     "output_type": "stream",
     "text": [
      "Filtering  at 10.42 Hz\n"
     ]
    },
    {
     "name": "stderr",
     "output_type": "stream",
     "text": [
      "[Parallel(n_jobs=2)]: Done  18 tasks      | elapsed:    1.6s\n",
      "[Parallel(n_jobs=2)]: Done  38 out of  38 | elapsed:    1.7s finished\n"
     ]
    },
    {
     "name": "stdout",
     "output_type": "stream",
     "text": [
      "Reduction order for nice/marker/SymbolicMutualInformation/default: ['channels_y', 'channels']\n",
      "Reduction order for nice/marker/ContingentNegativeVariation/default: ['channels']\n",
      "Reduction order for nice/marker/TimeLockedTopography/p1: ['channels', 'times']\n",
      "Reduction order for nice/marker/TimeLockedTopography/p3a: ['channels', 'times']\n",
      "Reduction order for nice/marker/TimeLockedTopography/p3a: ['channels', 'times']\n",
      "Autodetected number of jobs 24\n",
      "Effective window size : 16.384 (s)\n"
     ]
    },
    {
     "name": "stderr",
     "output_type": "stream",
     "text": [
      "[Parallel(n_jobs=24)]: Using backend LokyBackend with 24 concurrent workers.\n",
      "[Parallel(n_jobs=24)]: Done   6 out of  24 | elapsed:    3.8s remaining:   11.3s\n",
      "[Parallel(n_jobs=24)]: Done  11 out of  24 | elapsed:    3.8s remaining:    4.5s\n",
      "[Parallel(n_jobs=24)]: Done  16 out of  24 | elapsed:    4.0s remaining:    2.0s\n",
      "[Parallel(n_jobs=24)]: Done  21 out of  24 | elapsed:    4.0s remaining:    0.6s\n"
     ]
    },
    {
     "name": "stdout",
     "output_type": "stream",
     "text": [
      "Reduction order for nice/marker/PowerSpectralDensity/alpha: ['frequency', 'channels']\n",
      "Reduction order for nice/marker/PowerSpectralDensity/alpha: ['frequency', 'channels']\n",
      "Reduction order for nice/marker/PowerSpectralDensity/delta: ['frequency', 'channels']\n",
      "Reduction order for nice/marker/PowerSpectralDensity/delta: ['frequency', 'channels']\n",
      "Reduction order for nice/marker/PowerSpectralDensity/theta: ['frequency', 'channels']\n",
      "Reduction order for nice/marker/PowerSpectralDensity/theta: ['frequency', 'channels']\n",
      "Reduction order for nice/marker/PowerSpectralDensity/gamma: ['frequency', 'channels']\n",
      "Reduction order for nice/marker/PowerSpectralDensity/theta: ['frequency', 'channels']\n",
      "Reduction order for nice/marker/PowerSpectralDensity/beta: ['frequency', 'channels']\n",
      "Reduction order for nice/marker/PowerSpectralDensity/beta: ['frequency', 'channels']\n",
      "Running KolmogorovComplexity\n",
      "Elapsed time 0.011480569839477539 sec\n",
      "Reduction order for nice/marker/KolmogorovComplexity/default: ['channels']\n",
      "Filtering  at 10.42 Hz\n",
      "Performing symbolic transformation\n"
     ]
    },
    {
     "name": "stderr",
     "output_type": "stream",
     "text": [
      "[Parallel(n_jobs=24)]: Done  24 out of  24 | elapsed:    4.2s finished\n"
     ]
    },
    {
     "name": "stdout",
     "output_type": "stream",
     "text": [
      "Reduction order for nice/marker/PermutationEntropy/default: ['channels']\n",
      "Autodetected number of jobs 2\n",
      "Computing CSD\n",
      "Using 10-5 locations for CSD\n",
      "Using 2 jobs\n"
     ]
    },
    {
     "name": "stderr",
     "output_type": "stream",
     "text": [
      "[Parallel(n_jobs=2)]: Using backend LokyBackend with 2 concurrent workers.\n"
     ]
    },
    {
     "name": "stdout",
     "output_type": "stream",
     "text": [
      "Filtering  at 10.42 Hz\n",
      "Reduction order for nice/marker/SymbolicMutualInformation/default: ['channels_y', 'channels']\n",
      "Reduction order for nice/marker/ContingentNegativeVariation/default: ['channels']\n",
      "Reduction order for nice/marker/TimeLockedTopography/p1: ['channels', 'times']\n",
      "Reduction order for nice/marker/TimeLockedTopography/p3a: ['channels', 'times']\n",
      "Reduction order for nice/marker/TimeLockedTopography/p3a: ['channels', 'times']\n",
      "Autodetected number of jobs 24\n",
      "Effective window size : 16.384 (s)\n"
     ]
    },
    {
     "name": "stderr",
     "output_type": "stream",
     "text": [
      "[Parallel(n_jobs=2)]: Done   8 out of   8 | elapsed:    1.6s finished\n",
      "[Parallel(n_jobs=24)]: Using backend LokyBackend with 24 concurrent workers.\n",
      "[Parallel(n_jobs=24)]: Done   6 out of  24 | elapsed:    3.9s remaining:   11.8s\n",
      "[Parallel(n_jobs=24)]: Done  11 out of  24 | elapsed:    4.1s remaining:    4.8s\n",
      "[Parallel(n_jobs=24)]: Done  16 out of  24 | elapsed:    4.2s remaining:    2.1s\n"
     ]
    },
    {
     "name": "stdout",
     "output_type": "stream",
     "text": [
      "Reduction order for nice/marker/PowerSpectralDensity/alpha: ['frequency', 'channels']\n",
      "Reduction order for nice/marker/PowerSpectralDensity/alpha: ['frequency', 'channels']\n",
      "Reduction order for nice/marker/PowerSpectralDensity/delta: ['frequency', 'channels']\n",
      "Reduction order for nice/marker/PowerSpectralDensity/delta: ['frequency', 'channels']\n",
      "Reduction order for nice/marker/PowerSpectralDensity/theta: ['frequency', 'channels']\n",
      "Reduction order for nice/marker/PowerSpectralDensity/theta: ['frequency', 'channels']\n",
      "Reduction order for nice/marker/PowerSpectralDensity/gamma: ['frequency', 'channels']\n",
      "Reduction order for nice/marker/PowerSpectralDensity/theta: ['frequency', 'channels']\n",
      "Reduction order for nice/marker/PowerSpectralDensity/beta: ['frequency', 'channels']\n",
      "Reduction order for nice/marker/PowerSpectralDensity/beta: ['frequency', 'channels']\n",
      "Running KolmogorovComplexity\n",
      "Elapsed time 0.0027663707733154297 sec\n",
      "Reduction order for nice/marker/KolmogorovComplexity/default: ['channels']\n",
      "Filtering  at 10.42 Hz\n",
      "Performing symbolic transformation\n"
     ]
    },
    {
     "name": "stderr",
     "output_type": "stream",
     "text": [
      "[Parallel(n_jobs=24)]: Done  21 out of  24 | elapsed:    4.4s remaining:    0.6s\n",
      "[Parallel(n_jobs=24)]: Done  24 out of  24 | elapsed:    4.5s finished\n"
     ]
    },
    {
     "name": "stdout",
     "output_type": "stream",
     "text": [
      "Reduction order for nice/marker/PermutationEntropy/default: ['channels']\n",
      "Autodetected number of jobs 2\n",
      "Computing CSD\n",
      "Using 10-5 locations for CSD\n",
      "Using 2 jobs\n"
     ]
    },
    {
     "name": "stderr",
     "output_type": "stream",
     "text": [
      "[Parallel(n_jobs=2)]: Using backend LokyBackend with 2 concurrent workers.\n"
     ]
    },
    {
     "name": "stdout",
     "output_type": "stream",
     "text": [
      "Filtering  at 10.42 Hz\n",
      "Reduction order for nice/marker/SymbolicMutualInformation/default: ['channels_y', 'channels']\n",
      "Reduction order for nice/marker/ContingentNegativeVariation/default: ['channels']\n",
      "Reduction order for nice/marker/TimeLockedTopography/p1: ['channels', 'times']\n",
      "Reduction order for nice/marker/TimeLockedTopography/p3a: ['channels', 'times']\n",
      "Reduction order for nice/marker/TimeLockedTopography/p3a: ['channels', 'times']\n",
      "Autodetected number of jobs 24\n",
      "Effective window size : 16.384 (s)\n"
     ]
    },
    {
     "name": "stderr",
     "output_type": "stream",
     "text": [
      "[Parallel(n_jobs=2)]: Done   2 out of   2 | elapsed:    1.6s remaining:    0.0s\n",
      "[Parallel(n_jobs=2)]: Done   2 out of   2 | elapsed:    1.6s finished\n",
      "[Parallel(n_jobs=24)]: Using backend LokyBackend with 24 concurrent workers.\n",
      "[Parallel(n_jobs=24)]: Done   6 out of  24 | elapsed:    3.8s remaining:   11.4s\n",
      "[Parallel(n_jobs=24)]: Done  11 out of  24 | elapsed:    4.1s remaining:    4.8s\n",
      "[Parallel(n_jobs=24)]: Done  16 out of  24 | elapsed:    4.2s remaining:    2.1s\n"
     ]
    },
    {
     "name": "stdout",
     "output_type": "stream",
     "text": [
      "Reduction order for nice/marker/PowerSpectralDensity/alpha: ['frequency', 'channels']\n",
      "Reduction order for nice/marker/PowerSpectralDensity/alpha: ['frequency', 'channels']\n",
      "Reduction order for nice/marker/PowerSpectralDensity/delta: ['frequency', 'channels']\n",
      "Reduction order for nice/marker/PowerSpectralDensity/delta: ['frequency', 'channels']\n",
      "Reduction order for nice/marker/PowerSpectralDensity/theta: ['frequency', 'channels']\n",
      "Reduction order for nice/marker/PowerSpectralDensity/theta: ['frequency', 'channels']\n",
      "Reduction order for nice/marker/PowerSpectralDensity/gamma: ['frequency', 'channels']\n",
      "Reduction order for nice/marker/PowerSpectralDensity/theta: ['frequency', 'channels']\n",
      "Reduction order for nice/marker/PowerSpectralDensity/beta: ['frequency', 'channels']\n",
      "Reduction order for nice/marker/PowerSpectralDensity/beta: ['frequency', 'channels']\n",
      "Running KolmogorovComplexity\n",
      "Elapsed time 0.024499893188476562 sec\n",
      "Reduction order for nice/marker/KolmogorovComplexity/default: ['channels']\n",
      "Filtering  at 10.42 Hz\n",
      "Performing symbolic transformation\n"
     ]
    },
    {
     "name": "stderr",
     "output_type": "stream",
     "text": [
      "[Parallel(n_jobs=24)]: Done  21 out of  24 | elapsed:    4.3s remaining:    0.6s\n",
      "[Parallel(n_jobs=24)]: Done  24 out of  24 | elapsed:    4.3s finished\n"
     ]
    },
    {
     "name": "stdout",
     "output_type": "stream",
     "text": [
      "Reduction order for nice/marker/PermutationEntropy/default: ['channels']\n",
      "Autodetected number of jobs 2\n",
      "Computing CSD\n",
      "Using 10-5 locations for CSD\n",
      "Using 2 jobs\n"
     ]
    },
    {
     "name": "stderr",
     "output_type": "stream",
     "text": [
      "[Parallel(n_jobs=2)]: Using backend LokyBackend with 2 concurrent workers.\n"
     ]
    },
    {
     "name": "stdout",
     "output_type": "stream",
     "text": [
      "Filtering  at 10.42 Hz\n",
      "Reduction order for nice/marker/SymbolicMutualInformation/default: ['channels_y', 'channels']\n",
      "Reduction order for nice/marker/ContingentNegativeVariation/default: ['channels']\n",
      "Reduction order for nice/marker/TimeLockedTopography/p1: ['channels', 'times']\n",
      "Reduction order for nice/marker/TimeLockedTopography/p3a: ['channels', 'times']\n",
      "Reduction order for nice/marker/TimeLockedTopography/p3a: ['channels', 'times']\n",
      "Autodetected number of jobs 24\n",
      "Effective window size : 16.384 (s)\n"
     ]
    },
    {
     "name": "stderr",
     "output_type": "stream",
     "text": [
      "[Parallel(n_jobs=2)]: Done  15 out of  15 | elapsed:    1.6s finished\n",
      "[Parallel(n_jobs=24)]: Using backend LokyBackend with 24 concurrent workers.\n",
      "[Parallel(n_jobs=24)]: Done   6 out of  24 | elapsed:    4.0s remaining:   12.0s\n",
      "[Parallel(n_jobs=24)]: Done  11 out of  24 | elapsed:    4.3s remaining:    5.0s\n",
      "[Parallel(n_jobs=24)]: Done  16 out of  24 | elapsed:    4.4s remaining:    2.2s\n"
     ]
    },
    {
     "name": "stdout",
     "output_type": "stream",
     "text": [
      "Reduction order for nice/marker/PowerSpectralDensity/alpha: ['frequency', 'channels']\n",
      "Reduction order for nice/marker/PowerSpectralDensity/alpha: ['frequency', 'channels']\n",
      "Reduction order for nice/marker/PowerSpectralDensity/delta: ['frequency', 'channels']\n",
      "Reduction order for nice/marker/PowerSpectralDensity/delta: ['frequency', 'channels']\n",
      "Reduction order for nice/marker/PowerSpectralDensity/theta: ['frequency', 'channels']\n",
      "Reduction order for nice/marker/PowerSpectralDensity/theta: ['frequency', 'channels']\n",
      "Reduction order for nice/marker/PowerSpectralDensity/gamma: ['frequency', 'channels']\n",
      "Reduction order for nice/marker/PowerSpectralDensity/theta: ['frequency', 'channels']\n",
      "Reduction order for nice/marker/PowerSpectralDensity/beta: ['frequency', 'channels']\n",
      "Reduction order for nice/marker/PowerSpectralDensity/beta: ['frequency', 'channels']\n",
      "Running KolmogorovComplexity\n",
      "Elapsed time 0.06949257850646973 sec\n"
     ]
    },
    {
     "name": "stderr",
     "output_type": "stream",
     "text": [
      "[Parallel(n_jobs=24)]: Done  21 out of  24 | elapsed:    4.5s remaining:    0.6s\n",
      "[Parallel(n_jobs=24)]: Done  24 out of  24 | elapsed:    4.6s finished\n"
     ]
    },
    {
     "name": "stdout",
     "output_type": "stream",
     "text": [
      "Reduction order for nice/marker/KolmogorovComplexity/default: ['channels']\n",
      "Filtering  at 10.42 Hz\n",
      "Performing symbolic transformation\n",
      "Reduction order for nice/marker/PermutationEntropy/default: ['channels']\n",
      "Autodetected number of jobs 2\n",
      "Computing CSD\n",
      "Using 10-5 locations for CSD\n",
      "Using 2 jobs\n"
     ]
    },
    {
     "name": "stderr",
     "output_type": "stream",
     "text": [
      "/home/nicolas.bruno/anaconda3/lib/python3.7/site-packages/nice-0.1.dev0-py3.7.egg/nice/algorithms/information_theory/permutation_entropy.py:75: RuntimeWarning: divide by zero encountered in log\n",
      "  pe = np.nan_to_num(-np.nansum(count * np.log(count), axis=1))\n",
      "/home/nicolas.bruno/anaconda3/lib/python3.7/site-packages/nice-0.1.dev0-py3.7.egg/nice/algorithms/information_theory/permutation_entropy.py:75: RuntimeWarning: invalid value encountered in multiply\n",
      "  pe = np.nan_to_num(-np.nansum(count * np.log(count), axis=1))\n",
      "[Parallel(n_jobs=2)]: Using backend LokyBackend with 2 concurrent workers.\n"
     ]
    },
    {
     "name": "stdout",
     "output_type": "stream",
     "text": [
      "Filtering  at 10.42 Hz\n"
     ]
    },
    {
     "name": "stderr",
     "output_type": "stream",
     "text": [
      "[Parallel(n_jobs=2)]: Done  18 tasks      | elapsed:    1.7s\n",
      "[Parallel(n_jobs=2)]: Done  51 out of  51 | elapsed:    1.7s finished\n"
     ]
    },
    {
     "name": "stdout",
     "output_type": "stream",
     "text": [
      "Reduction order for nice/marker/SymbolicMutualInformation/default: ['channels_y', 'channels']\n",
      "Reduction order for nice/marker/ContingentNegativeVariation/default: ['channels']\n",
      "Reduction order for nice/marker/TimeLockedTopography/p1: ['channels', 'times']\n",
      "Reduction order for nice/marker/TimeLockedTopography/p3a: ['channels', 'times']\n",
      "Reduction order for nice/marker/TimeLockedTopography/p3a: ['channels', 'times']\n",
      "Autodetected number of jobs 24\n",
      "Effective window size : 16.384 (s)\n"
     ]
    },
    {
     "name": "stderr",
     "output_type": "stream",
     "text": [
      "[Parallel(n_jobs=24)]: Using backend LokyBackend with 24 concurrent workers.\n",
      "[Parallel(n_jobs=24)]: Done   6 out of  24 | elapsed:    4.0s remaining:   12.0s\n",
      "[Parallel(n_jobs=24)]: Done  11 out of  24 | elapsed:    4.2s remaining:    5.0s\n",
      "[Parallel(n_jobs=24)]: Done  16 out of  24 | elapsed:    4.4s remaining:    2.2s\n"
     ]
    },
    {
     "name": "stdout",
     "output_type": "stream",
     "text": [
      "Reduction order for nice/marker/PowerSpectralDensity/alpha: ['frequency', 'channels']\n",
      "Reduction order for nice/marker/PowerSpectralDensity/alpha: ['frequency', 'channels']\n",
      "Reduction order for nice/marker/PowerSpectralDensity/delta: ['frequency', 'channels']\n",
      "Reduction order for nice/marker/PowerSpectralDensity/delta: ['frequency', 'channels']\n",
      "Reduction order for nice/marker/PowerSpectralDensity/theta: ['frequency', 'channels']\n",
      "Reduction order for nice/marker/PowerSpectralDensity/theta: ['frequency', 'channels']\n",
      "Reduction order for nice/marker/PowerSpectralDensity/gamma: ['frequency', 'channels']\n",
      "Reduction order for nice/marker/PowerSpectralDensity/theta: ['frequency', 'channels']\n",
      "Reduction order for nice/marker/PowerSpectralDensity/beta: ['frequency', 'channels']\n",
      "Reduction order for nice/marker/PowerSpectralDensity/beta: ['frequency', 'channels']\n",
      "Running KolmogorovComplexity\n",
      "Elapsed time 0.0949850082397461 sec\n"
     ]
    },
    {
     "name": "stderr",
     "output_type": "stream",
     "text": [
      "[Parallel(n_jobs=24)]: Done  21 out of  24 | elapsed:    4.5s remaining:    0.6s\n",
      "[Parallel(n_jobs=24)]: Done  24 out of  24 | elapsed:    4.6s finished\n"
     ]
    },
    {
     "name": "stdout",
     "output_type": "stream",
     "text": [
      "Reduction order for nice/marker/KolmogorovComplexity/default: ['channels']\n",
      "Filtering  at 10.42 Hz\n",
      "Performing symbolic transformation\n",
      "Reduction order for nice/marker/PermutationEntropy/default: ['channels']\n",
      "Autodetected number of jobs 2\n",
      "Computing CSD\n",
      "Using 10-5 locations for CSD\n",
      "Using 2 jobs\n"
     ]
    },
    {
     "name": "stderr",
     "output_type": "stream",
     "text": [
      "[Parallel(n_jobs=2)]: Using backend LokyBackend with 2 concurrent workers.\n"
     ]
    },
    {
     "name": "stdout",
     "output_type": "stream",
     "text": [
      "Filtering  at 10.42 Hz\n"
     ]
    },
    {
     "name": "stderr",
     "output_type": "stream",
     "text": [
      "[Parallel(n_jobs=2)]: Done  31 tasks      | elapsed:    1.7s\n",
      "[Parallel(n_jobs=2)]: Done  66 out of  66 | elapsed:    1.8s finished\n"
     ]
    },
    {
     "name": "stdout",
     "output_type": "stream",
     "text": [
      "Reduction order for nice/marker/SymbolicMutualInformation/default: ['channels_y', 'channels']\n",
      "Reduction order for nice/marker/ContingentNegativeVariation/default: ['channels']\n",
      "Reduction order for nice/marker/TimeLockedTopography/p1: ['channels', 'times']\n",
      "Reduction order for nice/marker/TimeLockedTopography/p3a: ['channels', 'times']\n",
      "Reduction order for nice/marker/TimeLockedTopography/p3a: ['channels', 'times']\n",
      "Autodetected number of jobs 24\n",
      "Effective window size : 16.384 (s)\n"
     ]
    },
    {
     "name": "stderr",
     "output_type": "stream",
     "text": [
      "[Parallel(n_jobs=24)]: Using backend LokyBackend with 24 concurrent workers.\n",
      "[Parallel(n_jobs=24)]: Done   6 out of  24 | elapsed:    3.8s remaining:   11.3s\n",
      "[Parallel(n_jobs=24)]: Done  11 out of  24 | elapsed:    3.9s remaining:    4.6s\n",
      "[Parallel(n_jobs=24)]: Done  16 out of  24 | elapsed:    4.1s remaining:    2.0s\n",
      "[Parallel(n_jobs=24)]: Done  21 out of  24 | elapsed:    4.2s remaining:    0.6s\n"
     ]
    },
    {
     "name": "stdout",
     "output_type": "stream",
     "text": [
      "Reduction order for nice/marker/PowerSpectralDensity/alpha: ['frequency', 'channels']\n",
      "Reduction order for nice/marker/PowerSpectralDensity/alpha: ['frequency', 'channels']\n",
      "Reduction order for nice/marker/PowerSpectralDensity/delta: ['frequency', 'channels']\n",
      "Reduction order for nice/marker/PowerSpectralDensity/delta: ['frequency', 'channels']\n",
      "Reduction order for nice/marker/PowerSpectralDensity/theta: ['frequency', 'channels']\n",
      "Reduction order for nice/marker/PowerSpectralDensity/theta: ['frequency', 'channels']\n",
      "Reduction order for nice/marker/PowerSpectralDensity/gamma: ['frequency', 'channels']\n",
      "Reduction order for nice/marker/PowerSpectralDensity/theta: ['frequency', 'channels']\n",
      "Reduction order for nice/marker/PowerSpectralDensity/beta: ['frequency', 'channels']\n",
      "Reduction order for nice/marker/PowerSpectralDensity/beta: ['frequency', 'channels']\n",
      "Running KolmogorovComplexity\n",
      "Elapsed time 0.007083892822265625 sec\n",
      "Reduction order for nice/marker/KolmogorovComplexity/default: ['channels']\n",
      "Filtering  at 10.42 Hz\n",
      "Performing symbolic transformation\n"
     ]
    },
    {
     "name": "stderr",
     "output_type": "stream",
     "text": [
      "[Parallel(n_jobs=24)]: Done  24 out of  24 | elapsed:    4.3s finished\n"
     ]
    },
    {
     "name": "stdout",
     "output_type": "stream",
     "text": [
      "Reduction order for nice/marker/PermutationEntropy/default: ['channels']\n",
      "Autodetected number of jobs 2\n",
      "Computing CSD\n",
      "Using 10-5 locations for CSD\n",
      "Using 2 jobs\n"
     ]
    },
    {
     "name": "stderr",
     "output_type": "stream",
     "text": [
      "[Parallel(n_jobs=2)]: Using backend LokyBackend with 2 concurrent workers.\n"
     ]
    },
    {
     "name": "stdout",
     "output_type": "stream",
     "text": [
      "Filtering  at 10.42 Hz\n",
      "Reduction order for nice/marker/SymbolicMutualInformation/default: ['channels_y', 'channels']\n",
      "Reduction order for nice/marker/ContingentNegativeVariation/default: ['channels']\n",
      "Reduction order for nice/marker/TimeLockedTopography/p1: ['channels', 'times']\n",
      "Reduction order for nice/marker/TimeLockedTopography/p3a: ['channels', 'times']\n",
      "Reduction order for nice/marker/TimeLockedTopography/p3a: ['channels', 'times']\n",
      "Autodetected number of jobs 24\n",
      "Effective window size : 16.384 (s)\n"
     ]
    },
    {
     "name": "stderr",
     "output_type": "stream",
     "text": [
      "[Parallel(n_jobs=2)]: Done   5 out of   5 | elapsed:    1.7s finished\n",
      "[Parallel(n_jobs=24)]: Using backend LokyBackend with 24 concurrent workers.\n",
      "[Parallel(n_jobs=24)]: Done   6 out of  24 | elapsed:    3.9s remaining:   11.6s\n",
      "[Parallel(n_jobs=24)]: Done  11 out of  24 | elapsed:    4.0s remaining:    4.7s\n",
      "[Parallel(n_jobs=24)]: Done  16 out of  24 | elapsed:    4.1s remaining:    2.1s\n",
      "[Parallel(n_jobs=24)]: Done  21 out of  24 | elapsed:    4.3s remaining:    0.6s\n"
     ]
    },
    {
     "name": "stdout",
     "output_type": "stream",
     "text": [
      "Reduction order for nice/marker/PowerSpectralDensity/alpha: ['frequency', 'channels']\n",
      "Reduction order for nice/marker/PowerSpectralDensity/alpha: ['frequency', 'channels']\n",
      "Reduction order for nice/marker/PowerSpectralDensity/delta: ['frequency', 'channels']\n",
      "Reduction order for nice/marker/PowerSpectralDensity/delta: ['frequency', 'channels']\n",
      "Reduction order for nice/marker/PowerSpectralDensity/theta: ['frequency', 'channels']\n",
      "Reduction order for nice/marker/PowerSpectralDensity/theta: ['frequency', 'channels']\n",
      "Reduction order for nice/marker/PowerSpectralDensity/gamma: ['frequency', 'channels']\n",
      "Reduction order for nice/marker/PowerSpectralDensity/theta: ['frequency', 'channels']\n",
      "Reduction order for nice/marker/PowerSpectralDensity/beta: ['frequency', 'channels']\n",
      "Reduction order for nice/marker/PowerSpectralDensity/beta: ['frequency', 'channels']\n",
      "Running KolmogorovComplexity\n",
      "Elapsed time 0.04497051239013672 sec\n",
      "Reduction order for nice/marker/KolmogorovComplexity/default: ['channels']\n",
      "Filtering  at 10.42 Hz\n",
      "Performing symbolic transformation\n"
     ]
    },
    {
     "name": "stderr",
     "output_type": "stream",
     "text": [
      "[Parallel(n_jobs=24)]: Done  24 out of  24 | elapsed:    4.4s finished\n"
     ]
    },
    {
     "name": "stdout",
     "output_type": "stream",
     "text": [
      "Reduction order for nice/marker/PermutationEntropy/default: ['channels']\n",
      "Autodetected number of jobs 2\n",
      "Computing CSD\n",
      "Using 10-5 locations for CSD\n",
      "Using 2 jobs\n"
     ]
    },
    {
     "name": "stderr",
     "output_type": "stream",
     "text": [
      "[Parallel(n_jobs=2)]: Using backend LokyBackend with 2 concurrent workers.\n"
     ]
    },
    {
     "name": "stdout",
     "output_type": "stream",
     "text": [
      "Filtering  at 10.42 Hz\n"
     ]
    },
    {
     "name": "stderr",
     "output_type": "stream",
     "text": [
      "[Parallel(n_jobs=2)]: Done  18 tasks      | elapsed:    1.7s\n",
      "[Parallel(n_jobs=2)]: Done  32 out of  32 | elapsed:    1.7s finished\n"
     ]
    },
    {
     "name": "stdout",
     "output_type": "stream",
     "text": [
      "Reduction order for nice/marker/SymbolicMutualInformation/default: ['channels_y', 'channels']\n",
      "Reduction order for nice/marker/ContingentNegativeVariation/default: ['channels']\n",
      "Reduction order for nice/marker/TimeLockedTopography/p1: ['channels', 'times']\n",
      "Reduction order for nice/marker/TimeLockedTopography/p3a: ['channels', 'times']\n",
      "Reduction order for nice/marker/TimeLockedTopography/p3a: ['channels', 'times']\n",
      "\n",
      "#########################################\n",
      "Computing markers for participant VP10\n",
      "#########################################\n",
      "\n",
      "Reading /media/nicolas.bruno/63f8a366-34b7-4896-a7ce-b5fb4ee78535/Nico/MW_eeg_data/minmarker/VP10/VP10_evoked_ar_subtracted_epo.fif ...\n",
      "    Found the data of interest:\n",
      "        t =    -200.00 ...     600.00 ms\n",
      "        0 CTF compensation matrices available\n",
      "Not setting metadata\n",
      "Not setting metadata\n",
      "98 matching events found\n",
      "No baseline correction applied\n",
      "0 projection items activated\n",
      "Reading /media/nicolas.bruno/63f8a366-34b7-4896-a7ce-b5fb4ee78535/Nico/MW_eeg_data/minmarker/VP10/VP10_evoked_ar_rereferenced_epo.fif ...\n",
      "    Found the data of interest:\n",
      "        t =    -200.00 ...     600.00 ms\n",
      "        0 CTF compensation matrices available\n",
      "Not setting metadata\n",
      "Not setting metadata\n",
      "98 matching events found\n",
      "No baseline correction applied\n",
      "0 projection items activated\n",
      "Autodetected number of jobs 24\n",
      "Effective window size : 16.384 (s)\n"
     ]
    },
    {
     "name": "stderr",
     "output_type": "stream",
     "text": [
      "[Parallel(n_jobs=24)]: Using backend LokyBackend with 24 concurrent workers.\n",
      "[Parallel(n_jobs=24)]: Done   6 out of  24 | elapsed:    4.0s remaining:   12.1s\n",
      "[Parallel(n_jobs=24)]: Done  11 out of  24 | elapsed:    4.1s remaining:    4.8s\n",
      "[Parallel(n_jobs=24)]: Done  16 out of  24 | elapsed:    4.1s remaining:    2.1s\n",
      "[Parallel(n_jobs=24)]: Done  21 out of  24 | elapsed:    4.2s remaining:    0.6s\n"
     ]
    },
    {
     "name": "stdout",
     "output_type": "stream",
     "text": [
      "Reduction order for nice/marker/PowerSpectralDensity/alpha: ['frequency', 'channels']\n",
      "Reduction order for nice/marker/PowerSpectralDensity/alpha: ['frequency', 'channels']\n",
      "Reduction order for nice/marker/PowerSpectralDensity/delta: ['frequency', 'channels']\n",
      "Reduction order for nice/marker/PowerSpectralDensity/delta: ['frequency', 'channels']\n",
      "Reduction order for nice/marker/PowerSpectralDensity/theta: ['frequency', 'channels']\n",
      "Reduction order for nice/marker/PowerSpectralDensity/theta: ['frequency', 'channels']\n",
      "Reduction order for nice/marker/PowerSpectralDensity/gamma: ['frequency', 'channels']\n",
      "Reduction order for nice/marker/PowerSpectralDensity/theta: ['frequency', 'channels']\n",
      "Reduction order for nice/marker/PowerSpectralDensity/beta: ['frequency', 'channels']\n",
      "Reduction order for nice/marker/PowerSpectralDensity/beta: ['frequency', 'channels']\n",
      "Running KolmogorovComplexity\n",
      "Elapsed time 0.08971047401428223 sec\n",
      "Reduction order for nice/marker/KolmogorovComplexity/default: ['channels']\n",
      "Filtering  at 10.42 Hz\n"
     ]
    },
    {
     "name": "stderr",
     "output_type": "stream",
     "text": [
      "[Parallel(n_jobs=24)]: Done  24 out of  24 | elapsed:    4.4s finished\n"
     ]
    },
    {
     "name": "stdout",
     "output_type": "stream",
     "text": [
      "Performing symbolic transformation\n",
      "Reduction order for nice/marker/PermutationEntropy/default: ['channels']\n",
      "Autodetected number of jobs 2\n",
      "Computing CSD\n",
      "Using 10-5 locations for CSD\n",
      "Using 2 jobs\n"
     ]
    },
    {
     "name": "stderr",
     "output_type": "stream",
     "text": [
      "[Parallel(n_jobs=2)]: Using backend LokyBackend with 2 concurrent workers.\n"
     ]
    },
    {
     "name": "stdout",
     "output_type": "stream",
     "text": [
      "Filtering  at 10.42 Hz\n"
     ]
    },
    {
     "name": "stderr",
     "output_type": "stream",
     "text": [
      "[Parallel(n_jobs=2)]: Done  18 tasks      | elapsed:    1.7s\n",
      "[Parallel(n_jobs=2)]: Done  63 out of  63 | elapsed:    1.8s finished\n"
     ]
    },
    {
     "name": "stdout",
     "output_type": "stream",
     "text": [
      "Reduction order for nice/marker/SymbolicMutualInformation/default: ['channels_y', 'channels']\n",
      "Reduction order for nice/marker/ContingentNegativeVariation/default: ['channels']\n",
      "Reduction order for nice/marker/TimeLockedTopography/p1: ['channels', 'times']\n",
      "Reduction order for nice/marker/TimeLockedTopography/p3a: ['channels', 'times']\n",
      "Reduction order for nice/marker/TimeLockedTopography/p3a: ['channels', 'times']\n",
      "Autodetected number of jobs 24\n",
      "Effective window size : 16.384 (s)\n"
     ]
    },
    {
     "name": "stderr",
     "output_type": "stream",
     "text": [
      "[Parallel(n_jobs=24)]: Using backend LokyBackend with 24 concurrent workers.\n",
      "[Parallel(n_jobs=24)]: Done   6 out of  24 | elapsed:    3.8s remaining:   11.4s\n",
      "[Parallel(n_jobs=24)]: Done  11 out of  24 | elapsed:    3.9s remaining:    4.6s\n",
      "[Parallel(n_jobs=24)]: Done  16 out of  24 | elapsed:    4.0s remaining:    2.0s\n",
      "[Parallel(n_jobs=24)]: Done  21 out of  24 | elapsed:    4.1s remaining:    0.6s\n",
      "[Parallel(n_jobs=24)]: Done  24 out of  24 | elapsed:    4.2s finished\n"
     ]
    },
    {
     "name": "stdout",
     "output_type": "stream",
     "text": [
      "Reduction order for nice/marker/PowerSpectralDensity/alpha: ['frequency', 'channels']\n",
      "Reduction order for nice/marker/PowerSpectralDensity/alpha: ['frequency', 'channels']\n",
      "Reduction order for nice/marker/PowerSpectralDensity/delta: ['frequency', 'channels']\n",
      "Reduction order for nice/marker/PowerSpectralDensity/delta: ['frequency', 'channels']\n",
      "Reduction order for nice/marker/PowerSpectralDensity/theta: ['frequency', 'channels']\n",
      "Reduction order for nice/marker/PowerSpectralDensity/theta: ['frequency', 'channels']\n",
      "Reduction order for nice/marker/PowerSpectralDensity/gamma: ['frequency', 'channels']\n",
      "Reduction order for nice/marker/PowerSpectralDensity/theta: ['frequency', 'channels']\n",
      "Reduction order for nice/marker/PowerSpectralDensity/beta: ['frequency', 'channels']\n",
      "Reduction order for nice/marker/PowerSpectralDensity/beta: ['frequency', 'channels']\n",
      "Running KolmogorovComplexity\n",
      "Elapsed time 0.053673505783081055 sec\n",
      "Reduction order for nice/marker/KolmogorovComplexity/default: ['channels']\n",
      "Filtering  at 10.42 Hz\n",
      "Performing symbolic transformation\n",
      "Reduction order for nice/marker/PermutationEntropy/default: ['channels']\n",
      "Autodetected number of jobs 2\n",
      "Computing CSD\n",
      "Using 10-5 locations for CSD\n",
      "Using 2 jobs\n"
     ]
    },
    {
     "name": "stderr",
     "output_type": "stream",
     "text": [
      "[Parallel(n_jobs=2)]: Using backend LokyBackend with 2 concurrent workers.\n"
     ]
    },
    {
     "name": "stdout",
     "output_type": "stream",
     "text": [
      "Filtering  at 10.42 Hz\n"
     ]
    },
    {
     "name": "stderr",
     "output_type": "stream",
     "text": [
      "[Parallel(n_jobs=2)]: Done  18 tasks      | elapsed:    1.7s\n",
      "[Parallel(n_jobs=2)]: Done  38 out of  38 | elapsed:    1.8s finished\n"
     ]
    },
    {
     "name": "stdout",
     "output_type": "stream",
     "text": [
      "Reduction order for nice/marker/SymbolicMutualInformation/default: ['channels_y', 'channels']\n",
      "Reduction order for nice/marker/ContingentNegativeVariation/default: ['channels']\n",
      "Reduction order for nice/marker/TimeLockedTopography/p1: ['channels', 'times']\n",
      "Reduction order for nice/marker/TimeLockedTopography/p3a: ['channels', 'times']\n",
      "Reduction order for nice/marker/TimeLockedTopography/p3a: ['channels', 'times']\n",
      "Autodetected number of jobs 24\n",
      "Effective window size : 16.384 (s)\n"
     ]
    },
    {
     "name": "stderr",
     "output_type": "stream",
     "text": [
      "[Parallel(n_jobs=24)]: Using backend LokyBackend with 24 concurrent workers.\n",
      "[Parallel(n_jobs=24)]: Done   6 out of  24 | elapsed:    3.8s remaining:   11.4s\n",
      "[Parallel(n_jobs=24)]: Done  11 out of  24 | elapsed:    3.9s remaining:    4.6s\n",
      "[Parallel(n_jobs=24)]: Done  16 out of  24 | elapsed:    4.0s remaining:    2.0s\n"
     ]
    },
    {
     "name": "stdout",
     "output_type": "stream",
     "text": [
      "Reduction order for nice/marker/PowerSpectralDensity/alpha: ['frequency', 'channels']\n",
      "Reduction order for nice/marker/PowerSpectralDensity/alpha: ['frequency', 'channels']\n",
      "Reduction order for nice/marker/PowerSpectralDensity/delta: ['frequency', 'channels']\n",
      "Reduction order for nice/marker/PowerSpectralDensity/delta: ['frequency', 'channels']\n",
      "Reduction order for nice/marker/PowerSpectralDensity/theta: ['frequency', 'channels']\n",
      "Reduction order for nice/marker/PowerSpectralDensity/theta: ['frequency', 'channels']\n",
      "Reduction order for nice/marker/PowerSpectralDensity/gamma: ['frequency', 'channels']\n",
      "Reduction order for nice/marker/PowerSpectralDensity/theta: ['frequency', 'channels']\n",
      "Reduction order for nice/marker/PowerSpectralDensity/beta: ['frequency', 'channels']\n",
      "Reduction order for nice/marker/PowerSpectralDensity/beta: ['frequency', 'channels']\n",
      "Running KolmogorovComplexity\n",
      "Elapsed time 0.011603355407714844 sec\n",
      "Reduction order for nice/marker/KolmogorovComplexity/default: ['channels']\n",
      "Filtering  at 10.42 Hz\n",
      "Performing symbolic transformation\n"
     ]
    },
    {
     "name": "stderr",
     "output_type": "stream",
     "text": [
      "[Parallel(n_jobs=24)]: Done  21 out of  24 | elapsed:    4.1s remaining:    0.6s\n",
      "[Parallel(n_jobs=24)]: Done  24 out of  24 | elapsed:    4.1s finished\n"
     ]
    },
    {
     "name": "stdout",
     "output_type": "stream",
     "text": [
      "Reduction order for nice/marker/PermutationEntropy/default: ['channels']\n",
      "Autodetected number of jobs 2\n",
      "Computing CSD\n",
      "Using 10-5 locations for CSD\n",
      "Using 2 jobs\n"
     ]
    },
    {
     "name": "stderr",
     "output_type": "stream",
     "text": [
      "[Parallel(n_jobs=2)]: Using backend LokyBackend with 2 concurrent workers.\n"
     ]
    },
    {
     "name": "stdout",
     "output_type": "stream",
     "text": [
      "Filtering  at 10.42 Hz\n",
      "Reduction order for nice/marker/SymbolicMutualInformation/default: ['channels_y', 'channels']\n",
      "Reduction order for nice/marker/ContingentNegativeVariation/default: ['channels']\n",
      "Reduction order for nice/marker/TimeLockedTopography/p1: ['channels', 'times']\n",
      "Reduction order for nice/marker/TimeLockedTopography/p3a: ['channels', 'times']\n",
      "Reduction order for nice/marker/TimeLockedTopography/p3a: ['channels', 'times']\n",
      "Autodetected number of jobs 24\n",
      "Effective window size : 16.384 (s)\n"
     ]
    },
    {
     "name": "stderr",
     "output_type": "stream",
     "text": [
      "[Parallel(n_jobs=2)]: Done   8 out of   8 | elapsed:    1.7s finished\n",
      "[Parallel(n_jobs=24)]: Using backend LokyBackend with 24 concurrent workers.\n",
      "[Parallel(n_jobs=24)]: Done   6 out of  24 | elapsed:    3.7s remaining:   11.1s\n",
      "[Parallel(n_jobs=24)]: Done  11 out of  24 | elapsed:    3.8s remaining:    4.5s\n",
      "[Parallel(n_jobs=24)]: Done  16 out of  24 | elapsed:    3.9s remaining:    2.0s\n",
      "[Parallel(n_jobs=24)]: Done  21 out of  24 | elapsed:    4.0s remaining:    0.6s\n"
     ]
    },
    {
     "name": "stdout",
     "output_type": "stream",
     "text": [
      "Reduction order for nice/marker/PowerSpectralDensity/alpha: ['frequency', 'channels']\n",
      "Reduction order for nice/marker/PowerSpectralDensity/alpha: ['frequency', 'channels']\n",
      "Reduction order for nice/marker/PowerSpectralDensity/delta: ['frequency', 'channels']\n",
      "Reduction order for nice/marker/PowerSpectralDensity/delta: ['frequency', 'channels']\n",
      "Reduction order for nice/marker/PowerSpectralDensity/theta: ['frequency', 'channels']\n",
      "Reduction order for nice/marker/PowerSpectralDensity/theta: ['frequency', 'channels']\n",
      "Reduction order for nice/marker/PowerSpectralDensity/gamma: ['frequency', 'channels']\n",
      "Reduction order for nice/marker/PowerSpectralDensity/theta: ['frequency', 'channels']\n",
      "Reduction order for nice/marker/PowerSpectralDensity/beta: ['frequency', 'channels']\n",
      "Reduction order for nice/marker/PowerSpectralDensity/beta: ['frequency', 'channels']\n",
      "Running KolmogorovComplexity\n",
      "Elapsed time 0.002893686294555664 sec\n",
      "Reduction order for nice/marker/KolmogorovComplexity/default: ['channels']\n",
      "Filtering  at 10.42 Hz\n",
      "Performing symbolic transformation\n"
     ]
    },
    {
     "name": "stderr",
     "output_type": "stream",
     "text": [
      "[Parallel(n_jobs=24)]: Done  24 out of  24 | elapsed:    4.3s finished\n"
     ]
    },
    {
     "name": "stdout",
     "output_type": "stream",
     "text": [
      "Reduction order for nice/marker/PermutationEntropy/default: ['channels']\n",
      "Autodetected number of jobs 2\n",
      "Computing CSD\n",
      "Using 10-5 locations for CSD\n",
      "Using 2 jobs\n"
     ]
    },
    {
     "name": "stderr",
     "output_type": "stream",
     "text": [
      "[Parallel(n_jobs=2)]: Using backend LokyBackend with 2 concurrent workers.\n"
     ]
    },
    {
     "name": "stdout",
     "output_type": "stream",
     "text": [
      "Filtering  at 10.42 Hz\n",
      "Reduction order for nice/marker/SymbolicMutualInformation/default: ['channels_y', 'channels']\n",
      "Reduction order for nice/marker/ContingentNegativeVariation/default: ['channels']\n",
      "Reduction order for nice/marker/TimeLockedTopography/p1: ['channels', 'times']\n",
      "Reduction order for nice/marker/TimeLockedTopography/p3a: ['channels', 'times']\n",
      "Reduction order for nice/marker/TimeLockedTopography/p3a: ['channels', 'times']\n",
      "Autodetected number of jobs 24\n",
      "Effective window size : 16.384 (s)\n"
     ]
    },
    {
     "name": "stderr",
     "output_type": "stream",
     "text": [
      "[Parallel(n_jobs=2)]: Done   2 out of   2 | elapsed:    1.7s remaining:    0.0s\n",
      "[Parallel(n_jobs=2)]: Done   2 out of   2 | elapsed:    1.7s finished\n",
      "[Parallel(n_jobs=24)]: Using backend LokyBackend with 24 concurrent workers.\n",
      "[Parallel(n_jobs=24)]: Done   6 out of  24 | elapsed:    3.8s remaining:   11.3s\n",
      "[Parallel(n_jobs=24)]: Done  11 out of  24 | elapsed:    3.9s remaining:    4.6s\n",
      "[Parallel(n_jobs=24)]: Done  16 out of  24 | elapsed:    3.9s remaining:    2.0s\n",
      "[Parallel(n_jobs=24)]: Done  21 out of  24 | elapsed:    4.1s remaining:    0.6s\n",
      "[Parallel(n_jobs=24)]: Done  24 out of  24 | elapsed:    4.3s finished\n"
     ]
    },
    {
     "name": "stdout",
     "output_type": "stream",
     "text": [
      "Reduction order for nice/marker/PowerSpectralDensity/alpha: ['frequency', 'channels']\n",
      "Reduction order for nice/marker/PowerSpectralDensity/alpha: ['frequency', 'channels']\n",
      "Reduction order for nice/marker/PowerSpectralDensity/delta: ['frequency', 'channels']\n",
      "Reduction order for nice/marker/PowerSpectralDensity/delta: ['frequency', 'channels']\n",
      "Reduction order for nice/marker/PowerSpectralDensity/theta: ['frequency', 'channels']\n",
      "Reduction order for nice/marker/PowerSpectralDensity/theta: ['frequency', 'channels']\n",
      "Reduction order for nice/marker/PowerSpectralDensity/gamma: ['frequency', 'channels']\n",
      "Reduction order for nice/marker/PowerSpectralDensity/theta: ['frequency', 'channels']\n",
      "Reduction order for nice/marker/PowerSpectralDensity/beta: ['frequency', 'channels']\n",
      "Reduction order for nice/marker/PowerSpectralDensity/beta: ['frequency', 'channels']\n",
      "Running KolmogorovComplexity\n",
      "Elapsed time 0.021330833435058594 sec\n",
      "Reduction order for nice/marker/KolmogorovComplexity/default: ['channels']\n",
      "Filtering  at 10.42 Hz\n",
      "Performing symbolic transformation\n",
      "Reduction order for nice/marker/PermutationEntropy/default: ['channels']\n",
      "Autodetected number of jobs 2\n",
      "Computing CSD\n",
      "Using 10-5 locations for CSD\n",
      "Using 2 jobs\n"
     ]
    },
    {
     "name": "stderr",
     "output_type": "stream",
     "text": [
      "[Parallel(n_jobs=2)]: Using backend LokyBackend with 2 concurrent workers.\n"
     ]
    },
    {
     "name": "stdout",
     "output_type": "stream",
     "text": [
      "Filtering  at 10.42 Hz\n",
      "Reduction order for nice/marker/SymbolicMutualInformation/default: ['channels_y', 'channels']\n",
      "Reduction order for nice/marker/ContingentNegativeVariation/default: ['channels']\n",
      "Reduction order for nice/marker/TimeLockedTopography/p1: ['channels', 'times']\n",
      "Reduction order for nice/marker/TimeLockedTopography/p3a: ['channels', 'times']\n",
      "Reduction order for nice/marker/TimeLockedTopography/p3a: ['channels', 'times']\n",
      "Autodetected number of jobs 24\n",
      "Effective window size : 16.384 (s)\n"
     ]
    },
    {
     "name": "stderr",
     "output_type": "stream",
     "text": [
      "[Parallel(n_jobs=2)]: Done  15 out of  15 | elapsed:    1.7s finished\n",
      "[Parallel(n_jobs=24)]: Using backend LokyBackend with 24 concurrent workers.\n",
      "[Parallel(n_jobs=24)]: Done   6 out of  24 | elapsed:    3.8s remaining:   11.4s\n",
      "[Parallel(n_jobs=24)]: Done  11 out of  24 | elapsed:    3.9s remaining:    4.6s\n",
      "[Parallel(n_jobs=24)]: Done  16 out of  24 | elapsed:    4.0s remaining:    2.0s\n"
     ]
    },
    {
     "name": "stdout",
     "output_type": "stream",
     "text": [
      "Reduction order for nice/marker/PowerSpectralDensity/alpha: ['frequency', 'channels']\n",
      "Reduction order for nice/marker/PowerSpectralDensity/alpha: ['frequency', 'channels']\n",
      "Reduction order for nice/marker/PowerSpectralDensity/delta: ['frequency', 'channels']\n",
      "Reduction order for nice/marker/PowerSpectralDensity/delta: ['frequency', 'channels']\n",
      "Reduction order for nice/marker/PowerSpectralDensity/theta: ['frequency', 'channels']\n",
      "Reduction order for nice/marker/PowerSpectralDensity/theta: ['frequency', 'channels']\n",
      "Reduction order for nice/marker/PowerSpectralDensity/gamma: ['frequency', 'channels']\n",
      "Reduction order for nice/marker/PowerSpectralDensity/theta: ['frequency', 'channels']\n",
      "Reduction order for nice/marker/PowerSpectralDensity/beta: ['frequency', 'channels']\n",
      "Reduction order for nice/marker/PowerSpectralDensity/beta: ['frequency', 'channels']\n",
      "Running KolmogorovComplexity\n",
      "Elapsed time 0.02406597137451172 sec\n"
     ]
    },
    {
     "name": "stderr",
     "output_type": "stream",
     "text": [
      "[Parallel(n_jobs=24)]: Done  21 out of  24 | elapsed:    4.1s remaining:    0.6s\n",
      "[Parallel(n_jobs=24)]: Done  24 out of  24 | elapsed:    4.2s finished\n"
     ]
    },
    {
     "name": "stdout",
     "output_type": "stream",
     "text": [
      "Reduction order for nice/marker/KolmogorovComplexity/default: ['channels']\n",
      "Filtering  at 10.42 Hz\n",
      "Performing symbolic transformation\n",
      "Reduction order for nice/marker/PermutationEntropy/default: ['channels']\n",
      "Autodetected number of jobs 2\n",
      "Computing CSD\n",
      "Using 10-5 locations for CSD\n",
      "Using 2 jobs\n"
     ]
    },
    {
     "name": "stderr",
     "output_type": "stream",
     "text": [
      "[Parallel(n_jobs=2)]: Using backend LokyBackend with 2 concurrent workers.\n"
     ]
    },
    {
     "name": "stdout",
     "output_type": "stream",
     "text": [
      "Filtering  at 10.42 Hz\n",
      "Reduction order for nice/marker/SymbolicMutualInformation/default: ['channels_y', 'channels']\n",
      "Reduction order for nice/marker/ContingentNegativeVariation/default: ['channels']\n",
      "Reduction order for nice/marker/TimeLockedTopography/p1: ['channels', 'times']\n",
      "Reduction order for nice/marker/TimeLockedTopography/p3a: ['channels', 'times']\n",
      "Reduction order for nice/marker/TimeLockedTopography/p3a: ['channels', 'times']\n",
      "Autodetected number of jobs 24\n",
      "Effective window size : 16.384 (s)\n"
     ]
    },
    {
     "name": "stderr",
     "output_type": "stream",
     "text": [
      "[Parallel(n_jobs=2)]: Done  15 out of  15 | elapsed:    1.7s finished\n",
      "[Parallel(n_jobs=24)]: Using backend LokyBackend with 24 concurrent workers.\n",
      "[Parallel(n_jobs=24)]: Done   6 out of  24 | elapsed:    3.8s remaining:   11.5s\n",
      "[Parallel(n_jobs=24)]: Done  11 out of  24 | elapsed:    3.9s remaining:    4.7s\n",
      "[Parallel(n_jobs=24)]: Done  16 out of  24 | elapsed:    4.0s remaining:    2.0s\n",
      "[Parallel(n_jobs=24)]: Done  21 out of  24 | elapsed:    4.1s remaining:    0.6s\n"
     ]
    },
    {
     "name": "stdout",
     "output_type": "stream",
     "text": [
      "Reduction order for nice/marker/PowerSpectralDensity/alpha: ['frequency', 'channels']\n",
      "Reduction order for nice/marker/PowerSpectralDensity/alpha: ['frequency', 'channels']\n",
      "Reduction order for nice/marker/PowerSpectralDensity/delta: ['frequency', 'channels']\n",
      "Reduction order for nice/marker/PowerSpectralDensity/delta: ['frequency', 'channels']\n",
      "Reduction order for nice/marker/PowerSpectralDensity/theta: ['frequency', 'channels']\n",
      "Reduction order for nice/marker/PowerSpectralDensity/theta: ['frequency', 'channels']\n",
      "Reduction order for nice/marker/PowerSpectralDensity/gamma: ['frequency', 'channels']\n",
      "Reduction order for nice/marker/PowerSpectralDensity/theta: ['frequency', 'channels']\n",
      "Reduction order for nice/marker/PowerSpectralDensity/beta: ['frequency', 'channels']\n",
      "Reduction order for nice/marker/PowerSpectralDensity/beta: ['frequency', 'channels']\n",
      "Running KolmogorovComplexity\n",
      "Elapsed time 0.022614002227783203 sec\n",
      "Reduction order for nice/marker/KolmogorovComplexity/default: ['channels']\n",
      "Filtering  at 10.42 Hz\n",
      "Performing symbolic transformation\n"
     ]
    },
    {
     "name": "stderr",
     "output_type": "stream",
     "text": [
      "[Parallel(n_jobs=24)]: Done  24 out of  24 | elapsed:    4.4s finished\n"
     ]
    },
    {
     "name": "stdout",
     "output_type": "stream",
     "text": [
      "Reduction order for nice/marker/PermutationEntropy/default: ['channels']\n",
      "Autodetected number of jobs 2\n",
      "Computing CSD\n",
      "Using 10-5 locations for CSD\n",
      "Using 2 jobs\n"
     ]
    },
    {
     "name": "stderr",
     "output_type": "stream",
     "text": [
      "[Parallel(n_jobs=2)]: Using backend LokyBackend with 2 concurrent workers.\n"
     ]
    },
    {
     "name": "stdout",
     "output_type": "stream",
     "text": [
      "Filtering  at 10.42 Hz\n",
      "Reduction order for nice/marker/SymbolicMutualInformation/default: ['channels_y', 'channels']\n",
      "Reduction order for nice/marker/ContingentNegativeVariation/default: ['channels']\n",
      "Reduction order for nice/marker/TimeLockedTopography/p1: ['channels', 'times']\n",
      "Reduction order for nice/marker/TimeLockedTopography/p3a: ['channels', 'times']\n",
      "Reduction order for nice/marker/TimeLockedTopography/p3a: ['channels', 'times']\n",
      "Autodetected number of jobs 24\n",
      "Effective window size : 16.384 (s)\n"
     ]
    },
    {
     "name": "stderr",
     "output_type": "stream",
     "text": [
      "[Parallel(n_jobs=2)]: Done  15 out of  15 | elapsed:    1.7s finished\n",
      "[Parallel(n_jobs=24)]: Using backend LokyBackend with 24 concurrent workers.\n",
      "[Parallel(n_jobs=24)]: Done   6 out of  24 | elapsed:    3.8s remaining:   11.3s\n",
      "[Parallel(n_jobs=24)]: Done  11 out of  24 | elapsed:    3.9s remaining:    4.6s\n",
      "[Parallel(n_jobs=24)]: Done  16 out of  24 | elapsed:    4.0s remaining:    2.0s\n"
     ]
    },
    {
     "name": "stdout",
     "output_type": "stream",
     "text": [
      "Reduction order for nice/marker/PowerSpectralDensity/alpha: ['frequency', 'channels']\n",
      "Reduction order for nice/marker/PowerSpectralDensity/alpha: ['frequency', 'channels']\n",
      "Reduction order for nice/marker/PowerSpectralDensity/delta: ['frequency', 'channels']\n",
      "Reduction order for nice/marker/PowerSpectralDensity/delta: ['frequency', 'channels']\n",
      "Reduction order for nice/marker/PowerSpectralDensity/theta: ['frequency', 'channels']\n",
      "Reduction order for nice/marker/PowerSpectralDensity/theta: ['frequency', 'channels']\n",
      "Reduction order for nice/marker/PowerSpectralDensity/gamma: ['frequency', 'channels']\n",
      "Reduction order for nice/marker/PowerSpectralDensity/theta: ['frequency', 'channels']\n",
      "Reduction order for nice/marker/PowerSpectralDensity/beta: ['frequency', 'channels']\n",
      "Reduction order for nice/marker/PowerSpectralDensity/beta: ['frequency', 'channels']\n",
      "Running KolmogorovComplexity\n",
      "Elapsed time 0.04296374320983887 sec\n",
      "Reduction order for nice/marker/KolmogorovComplexity/default: ['channels']\n",
      "Filtering  at 10.42 Hz\n",
      "Performing symbolic transformation\n"
     ]
    },
    {
     "name": "stderr",
     "output_type": "stream",
     "text": [
      "[Parallel(n_jobs=24)]: Done  21 out of  24 | elapsed:    4.1s remaining:    0.6s\n",
      "[Parallel(n_jobs=24)]: Done  24 out of  24 | elapsed:    4.2s finished\n"
     ]
    },
    {
     "name": "stdout",
     "output_type": "stream",
     "text": [
      "Reduction order for nice/marker/PermutationEntropy/default: ['channels']\n",
      "Autodetected number of jobs 2\n",
      "Computing CSD\n",
      "Using 10-5 locations for CSD\n",
      "Using 2 jobs\n"
     ]
    },
    {
     "name": "stderr",
     "output_type": "stream",
     "text": [
      "[Parallel(n_jobs=2)]: Using backend LokyBackend with 2 concurrent workers.\n"
     ]
    },
    {
     "name": "stdout",
     "output_type": "stream",
     "text": [
      "Filtering  at 10.42 Hz\n",
      "Reduction order for nice/marker/SymbolicMutualInformation/default: ['channels_y', 'channels']\n"
     ]
    },
    {
     "name": "stderr",
     "output_type": "stream",
     "text": [
      "[Parallel(n_jobs=2)]: Done  18 tasks      | elapsed:    1.7s\n",
      "[Parallel(n_jobs=2)]: Done  31 out of  31 | elapsed:    1.7s finished\n"
     ]
    },
    {
     "name": "stdout",
     "output_type": "stream",
     "text": [
      "Reduction order for nice/marker/ContingentNegativeVariation/default: ['channels']\n",
      "Reduction order for nice/marker/TimeLockedTopography/p1: ['channels', 'times']\n",
      "Reduction order for nice/marker/TimeLockedTopography/p3a: ['channels', 'times']\n",
      "Reduction order for nice/marker/TimeLockedTopography/p3a: ['channels', 'times']\n",
      "\n",
      "#########################################\n",
      "Computing markers for participant VP11\n",
      "#########################################\n",
      "\n",
      "Reading /media/nicolas.bruno/63f8a366-34b7-4896-a7ce-b5fb4ee78535/Nico/MW_eeg_data/minmarker/VP11/VP11_evoked_ar_subtracted_epo.fif ...\n",
      "    Found the data of interest:\n",
      "        t =    -200.00 ...     600.00 ms\n",
      "        0 CTF compensation matrices available\n",
      "Not setting metadata\n",
      "Not setting metadata\n",
      "145 matching events found\n",
      "No baseline correction applied\n",
      "0 projection items activated\n",
      "Reading /media/nicolas.bruno/63f8a366-34b7-4896-a7ce-b5fb4ee78535/Nico/MW_eeg_data/minmarker/VP11/VP11_evoked_ar_rereferenced_epo.fif ...\n",
      "    Found the data of interest:\n",
      "        t =    -200.00 ...     600.00 ms\n",
      "        0 CTF compensation matrices available\n",
      "Not setting metadata\n",
      "Not setting metadata\n",
      "145 matching events found\n",
      "No baseline correction applied\n",
      "0 projection items activated\n",
      "Autodetected number of jobs 24\n",
      "Effective window size : 16.384 (s)\n"
     ]
    },
    {
     "name": "stderr",
     "output_type": "stream",
     "text": [
      "[Parallel(n_jobs=24)]: Using backend LokyBackend with 24 concurrent workers.\n",
      "[Parallel(n_jobs=24)]: Done   6 out of  24 | elapsed:    3.9s remaining:   11.8s\n",
      "[Parallel(n_jobs=24)]: Done  11 out of  24 | elapsed:    4.0s remaining:    4.7s\n",
      "[Parallel(n_jobs=24)]: Done  16 out of  24 | elapsed:    4.1s remaining:    2.0s\n"
     ]
    },
    {
     "name": "stdout",
     "output_type": "stream",
     "text": [
      "Reduction order for nice/marker/PowerSpectralDensity/alpha: ['frequency', 'channels']\n",
      "Reduction order for nice/marker/PowerSpectralDensity/alpha: ['frequency', 'channels']\n",
      "Reduction order for nice/marker/PowerSpectralDensity/delta: ['frequency', 'channels']\n",
      "Reduction order for nice/marker/PowerSpectralDensity/delta: ['frequency', 'channels']\n",
      "Reduction order for nice/marker/PowerSpectralDensity/theta: ['frequency', 'channels']\n",
      "Reduction order for nice/marker/PowerSpectralDensity/theta: ['frequency', 'channels']\n",
      "Reduction order for nice/marker/PowerSpectralDensity/gamma: ['frequency', 'channels']\n",
      "Reduction order for nice/marker/PowerSpectralDensity/theta: ['frequency', 'channels']\n",
      "Reduction order for nice/marker/PowerSpectralDensity/beta: ['frequency', 'channels']\n",
      "Reduction order for nice/marker/PowerSpectralDensity/beta: ['frequency', 'channels']\n"
     ]
    },
    {
     "name": "stderr",
     "output_type": "stream",
     "text": [
      "[Parallel(n_jobs=24)]: Done  21 out of  24 | elapsed:    4.2s remaining:    0.6s\n",
      "[Parallel(n_jobs=24)]: Done  24 out of  24 | elapsed:    4.3s finished\n"
     ]
    },
    {
     "name": "stdout",
     "output_type": "stream",
     "text": [
      "Running KolmogorovComplexity\n",
      "Elapsed time 0.09135222434997559 sec\n",
      "Reduction order for nice/marker/KolmogorovComplexity/default: ['channels']\n",
      "Filtering  at 10.42 Hz\n",
      "Performing symbolic transformation\n",
      "Reduction order for nice/marker/PermutationEntropy/default: ['channels']\n",
      "Autodetected number of jobs 2\n",
      "Computing CSD\n",
      "Using 10-5 locations for CSD\n",
      "Using 2 jobs\n"
     ]
    },
    {
     "name": "stderr",
     "output_type": "stream",
     "text": [
      "[Parallel(n_jobs=2)]: Using backend LokyBackend with 2 concurrent workers.\n"
     ]
    },
    {
     "name": "stdout",
     "output_type": "stream",
     "text": [
      "Filtering  at 10.42 Hz\n"
     ]
    },
    {
     "name": "stderr",
     "output_type": "stream",
     "text": [
      "[Parallel(n_jobs=2)]: Done  18 tasks      | elapsed:    1.7s\n",
      "[Parallel(n_jobs=2)]: Done  63 out of  63 | elapsed:    1.8s finished\n"
     ]
    },
    {
     "name": "stdout",
     "output_type": "stream",
     "text": [
      "Reduction order for nice/marker/SymbolicMutualInformation/default: ['channels_y', 'channels']\n",
      "Reduction order for nice/marker/ContingentNegativeVariation/default: ['channels']\n",
      "Reduction order for nice/marker/TimeLockedTopography/p1: ['channels', 'times']\n",
      "Reduction order for nice/marker/TimeLockedTopography/p3a: ['channels', 'times']\n",
      "Reduction order for nice/marker/TimeLockedTopography/p3a: ['channels', 'times']\n",
      "Autodetected number of jobs 24\n",
      "Effective window size : 16.384 (s)\n"
     ]
    },
    {
     "name": "stderr",
     "output_type": "stream",
     "text": [
      "[Parallel(n_jobs=24)]: Using backend LokyBackend with 24 concurrent workers.\n",
      "[Parallel(n_jobs=24)]: Done   6 out of  24 | elapsed:    3.9s remaining:   11.7s\n",
      "[Parallel(n_jobs=24)]: Done  11 out of  24 | elapsed:    4.0s remaining:    4.7s\n",
      "[Parallel(n_jobs=24)]: Done  16 out of  24 | elapsed:    4.1s remaining:    2.0s\n"
     ]
    },
    {
     "name": "stdout",
     "output_type": "stream",
     "text": [
      "Reduction order for nice/marker/PowerSpectralDensity/alpha: ['frequency', 'channels']\n",
      "Reduction order for nice/marker/PowerSpectralDensity/alpha: ['frequency', 'channels']\n",
      "Reduction order for nice/marker/PowerSpectralDensity/delta: ['frequency', 'channels']\n",
      "Reduction order for nice/marker/PowerSpectralDensity/delta: ['frequency', 'channels']\n",
      "Reduction order for nice/marker/PowerSpectralDensity/theta: ['frequency', 'channels']\n",
      "Reduction order for nice/marker/PowerSpectralDensity/theta: ['frequency', 'channels']\n",
      "Reduction order for nice/marker/PowerSpectralDensity/gamma: ['frequency', 'channels']\n",
      "Reduction order for nice/marker/PowerSpectralDensity/theta: ['frequency', 'channels']\n",
      "Reduction order for nice/marker/PowerSpectralDensity/beta: ['frequency', 'channels']\n",
      "Reduction order for nice/marker/PowerSpectralDensity/beta: ['frequency', 'channels']\n",
      "Running KolmogorovComplexity\n",
      "Elapsed time 0.053337812423706055 sec\n",
      "Reduction order for nice/marker/KolmogorovComplexity/default: ['channels']\n",
      "Filtering  at 10.42 Hz\n",
      "Performing symbolic transformation\n"
     ]
    },
    {
     "name": "stderr",
     "output_type": "stream",
     "text": [
      "[Parallel(n_jobs=24)]: Done  21 out of  24 | elapsed:    4.2s remaining:    0.6s\n",
      "[Parallel(n_jobs=24)]: Done  24 out of  24 | elapsed:    4.3s finished\n"
     ]
    },
    {
     "name": "stdout",
     "output_type": "stream",
     "text": [
      "Reduction order for nice/marker/PermutationEntropy/default: ['channels']\n",
      "Autodetected number of jobs 2\n",
      "Computing CSD\n",
      "Using 10-5 locations for CSD\n",
      "Using 2 jobs\n"
     ]
    },
    {
     "name": "stderr",
     "output_type": "stream",
     "text": [
      "[Parallel(n_jobs=2)]: Using backend LokyBackend with 2 concurrent workers.\n"
     ]
    },
    {
     "name": "stdout",
     "output_type": "stream",
     "text": [
      "Filtering  at 10.42 Hz\n"
     ]
    },
    {
     "name": "stderr",
     "output_type": "stream",
     "text": [
      "[Parallel(n_jobs=2)]: Done  18 tasks      | elapsed:    1.7s\n",
      "[Parallel(n_jobs=2)]: Done  38 out of  38 | elapsed:    1.7s finished\n"
     ]
    },
    {
     "name": "stdout",
     "output_type": "stream",
     "text": [
      "Reduction order for nice/marker/SymbolicMutualInformation/default: ['channels_y', 'channels']\n",
      "Reduction order for nice/marker/ContingentNegativeVariation/default: ['channels']\n",
      "Reduction order for nice/marker/TimeLockedTopography/p1: ['channels', 'times']\n",
      "Reduction order for nice/marker/TimeLockedTopography/p3a: ['channels', 'times']\n",
      "Reduction order for nice/marker/TimeLockedTopography/p3a: ['channels', 'times']\n",
      "Autodetected number of jobs 24\n",
      "Effective window size : 16.384 (s)\n"
     ]
    },
    {
     "name": "stderr",
     "output_type": "stream",
     "text": [
      "[Parallel(n_jobs=24)]: Using backend LokyBackend with 24 concurrent workers.\n",
      "[Parallel(n_jobs=24)]: Done   6 out of  24 | elapsed:    3.7s remaining:   11.2s\n",
      "[Parallel(n_jobs=24)]: Done  11 out of  24 | elapsed:    3.8s remaining:    4.5s\n",
      "[Parallel(n_jobs=24)]: Done  16 out of  24 | elapsed:    3.9s remaining:    1.9s\n"
     ]
    },
    {
     "name": "stdout",
     "output_type": "stream",
     "text": [
      "Reduction order for nice/marker/PowerSpectralDensity/alpha: ['frequency', 'channels']\n",
      "Reduction order for nice/marker/PowerSpectralDensity/alpha: ['frequency', 'channels']\n",
      "Reduction order for nice/marker/PowerSpectralDensity/delta: ['frequency', 'channels']\n",
      "Reduction order for nice/marker/PowerSpectralDensity/delta: ['frequency', 'channels']\n",
      "Reduction order for nice/marker/PowerSpectralDensity/theta: ['frequency', 'channels']\n",
      "Reduction order for nice/marker/PowerSpectralDensity/theta: ['frequency', 'channels']\n",
      "Reduction order for nice/marker/PowerSpectralDensity/gamma: ['frequency', 'channels']\n",
      "Reduction order for nice/marker/PowerSpectralDensity/theta: ['frequency', 'channels']\n",
      "Reduction order for nice/marker/PowerSpectralDensity/beta: ['frequency', 'channels']\n",
      "Reduction order for nice/marker/PowerSpectralDensity/beta: ['frequency', 'channels']\n",
      "Running KolmogorovComplexity\n",
      "Elapsed time 0.011320352554321289 sec\n",
      "Reduction order for nice/marker/KolmogorovComplexity/default: ['channels']\n",
      "Filtering  at 10.42 Hz\n",
      "Performing symbolic transformation\n"
     ]
    },
    {
     "name": "stderr",
     "output_type": "stream",
     "text": [
      "[Parallel(n_jobs=24)]: Done  21 out of  24 | elapsed:    4.0s remaining:    0.6s\n",
      "[Parallel(n_jobs=24)]: Done  24 out of  24 | elapsed:    4.0s finished\n"
     ]
    },
    {
     "name": "stdout",
     "output_type": "stream",
     "text": [
      "Reduction order for nice/marker/PermutationEntropy/default: ['channels']\n",
      "Autodetected number of jobs 2\n",
      "Computing CSD\n",
      "Using 10-5 locations for CSD\n",
      "Using 2 jobs\n"
     ]
    },
    {
     "name": "stderr",
     "output_type": "stream",
     "text": [
      "[Parallel(n_jobs=2)]: Using backend LokyBackend with 2 concurrent workers.\n"
     ]
    },
    {
     "name": "stdout",
     "output_type": "stream",
     "text": [
      "Filtering  at 10.42 Hz\n",
      "Reduction order for nice/marker/SymbolicMutualInformation/default: ['channels_y', 'channels']\n",
      "Reduction order for nice/marker/ContingentNegativeVariation/default: ['channels']\n",
      "Reduction order for nice/marker/TimeLockedTopography/p1: ['channels', 'times']\n",
      "Reduction order for nice/marker/TimeLockedTopography/p3a: ['channels', 'times']\n",
      "Reduction order for nice/marker/TimeLockedTopography/p3a: ['channels', 'times']\n",
      "Autodetected number of jobs 24\n",
      "Effective window size : 16.384 (s)\n"
     ]
    },
    {
     "name": "stderr",
     "output_type": "stream",
     "text": [
      "[Parallel(n_jobs=2)]: Done   8 out of   8 | elapsed:    1.7s finished\n",
      "[Parallel(n_jobs=24)]: Using backend LokyBackend with 24 concurrent workers.\n",
      "[Parallel(n_jobs=24)]: Done   6 out of  24 | elapsed:    3.8s remaining:   11.3s\n",
      "[Parallel(n_jobs=24)]: Done  11 out of  24 | elapsed:    3.8s remaining:    4.5s\n",
      "[Parallel(n_jobs=24)]: Done  16 out of  24 | elapsed:    3.9s remaining:    2.0s\n"
     ]
    },
    {
     "name": "stdout",
     "output_type": "stream",
     "text": [
      "Reduction order for nice/marker/PowerSpectralDensity/alpha: ['frequency', 'channels']\n",
      "Reduction order for nice/marker/PowerSpectralDensity/alpha: ['frequency', 'channels']\n",
      "Reduction order for nice/marker/PowerSpectralDensity/delta: ['frequency', 'channels']\n",
      "Reduction order for nice/marker/PowerSpectralDensity/delta: ['frequency', 'channels']\n",
      "Reduction order for nice/marker/PowerSpectralDensity/theta: ['frequency', 'channels']\n",
      "Reduction order for nice/marker/PowerSpectralDensity/theta: ['frequency', 'channels']\n",
      "Reduction order for nice/marker/PowerSpectralDensity/gamma: ['frequency', 'channels']\n",
      "Reduction order for nice/marker/PowerSpectralDensity/theta: ['frequency', 'channels']\n",
      "Reduction order for nice/marker/PowerSpectralDensity/beta: ['frequency', 'channels']\n",
      "Reduction order for nice/marker/PowerSpectralDensity/beta: ['frequency', 'channels']\n",
      "Running KolmogorovComplexity\n",
      "Elapsed time 0.0029420852661132812 sec\n",
      "Reduction order for nice/marker/KolmogorovComplexity/default: ['channels']\n",
      "Filtering  at 10.42 Hz\n",
      "Performing symbolic transformation\n"
     ]
    },
    {
     "name": "stderr",
     "output_type": "stream",
     "text": [
      "[Parallel(n_jobs=24)]: Done  21 out of  24 | elapsed:    4.1s remaining:    0.6s\n",
      "[Parallel(n_jobs=24)]: Done  24 out of  24 | elapsed:    4.1s finished\n"
     ]
    },
    {
     "name": "stdout",
     "output_type": "stream",
     "text": [
      "Reduction order for nice/marker/PermutationEntropy/default: ['channels']\n",
      "Autodetected number of jobs 2\n",
      "Computing CSD\n",
      "Using 10-5 locations for CSD\n",
      "Using 2 jobs\n"
     ]
    },
    {
     "name": "stderr",
     "output_type": "stream",
     "text": [
      "[Parallel(n_jobs=2)]: Using backend LokyBackend with 2 concurrent workers.\n"
     ]
    },
    {
     "name": "stdout",
     "output_type": "stream",
     "text": [
      "Filtering  at 10.42 Hz\n",
      "Reduction order for nice/marker/SymbolicMutualInformation/default: ['channels_y', 'channels']\n",
      "Reduction order for nice/marker/ContingentNegativeVariation/default: ['channels']\n",
      "Reduction order for nice/marker/TimeLockedTopography/p1: ['channels', 'times']\n",
      "Reduction order for nice/marker/TimeLockedTopography/p3a: ['channels', 'times']\n",
      "Reduction order for nice/marker/TimeLockedTopography/p3a: ['channels', 'times']\n",
      "Autodetected number of jobs 24\n",
      "Effective window size : 16.384 (s)\n"
     ]
    },
    {
     "name": "stderr",
     "output_type": "stream",
     "text": [
      "[Parallel(n_jobs=2)]: Done   2 out of   2 | elapsed:    1.6s remaining:    0.0s\n",
      "[Parallel(n_jobs=2)]: Done   2 out of   2 | elapsed:    1.6s finished\n",
      "[Parallel(n_jobs=24)]: Using backend LokyBackend with 24 concurrent workers.\n",
      "[Parallel(n_jobs=24)]: Done   6 out of  24 | elapsed:    3.8s remaining:   11.5s\n",
      "[Parallel(n_jobs=24)]: Done  11 out of  24 | elapsed:    3.9s remaining:    4.6s\n",
      "[Parallel(n_jobs=24)]: Done  16 out of  24 | elapsed:    4.0s remaining:    2.0s\n"
     ]
    },
    {
     "name": "stdout",
     "output_type": "stream",
     "text": [
      "Reduction order for nice/marker/PowerSpectralDensity/alpha: ['frequency', 'channels']\n",
      "Reduction order for nice/marker/PowerSpectralDensity/alpha: ['frequency', 'channels']\n",
      "Reduction order for nice/marker/PowerSpectralDensity/delta: ['frequency', 'channels']\n",
      "Reduction order for nice/marker/PowerSpectralDensity/delta: ['frequency', 'channels']\n",
      "Reduction order for nice/marker/PowerSpectralDensity/theta: ['frequency', 'channels']\n",
      "Reduction order for nice/marker/PowerSpectralDensity/theta: ['frequency', 'channels']\n",
      "Reduction order for nice/marker/PowerSpectralDensity/gamma: ['frequency', 'channels']\n",
      "Reduction order for nice/marker/PowerSpectralDensity/theta: ['frequency', 'channels']\n",
      "Reduction order for nice/marker/PowerSpectralDensity/beta: ['frequency', 'channels']\n",
      "Reduction order for nice/marker/PowerSpectralDensity/beta: ['frequency', 'channels']\n",
      "Running KolmogorovComplexity\n",
      "Elapsed time 0.024222373962402344 sec\n"
     ]
    },
    {
     "name": "stderr",
     "output_type": "stream",
     "text": [
      "[Parallel(n_jobs=24)]: Done  21 out of  24 | elapsed:    4.2s remaining:    0.6s\n",
      "[Parallel(n_jobs=24)]: Done  24 out of  24 | elapsed:    4.4s finished\n"
     ]
    },
    {
     "name": "stdout",
     "output_type": "stream",
     "text": [
      "Reduction order for nice/marker/KolmogorovComplexity/default: ['channels']\n",
      "Filtering  at 10.42 Hz\n",
      "Performing symbolic transformation\n",
      "Reduction order for nice/marker/PermutationEntropy/default: ['channels']\n",
      "Autodetected number of jobs 2\n",
      "Computing CSD\n",
      "Using 10-5 locations for CSD\n",
      "Using 2 jobs\n"
     ]
    },
    {
     "name": "stderr",
     "output_type": "stream",
     "text": [
      "[Parallel(n_jobs=2)]: Using backend LokyBackend with 2 concurrent workers.\n"
     ]
    },
    {
     "name": "stdout",
     "output_type": "stream",
     "text": [
      "Filtering  at 10.42 Hz\n",
      "Reduction order for nice/marker/SymbolicMutualInformation/default: ['channels_y', 'channels']\n",
      "Reduction order for nice/marker/ContingentNegativeVariation/default: ['channels']\n",
      "Reduction order for nice/marker/TimeLockedTopography/p1: ['channels', 'times']\n",
      "Reduction order for nice/marker/TimeLockedTopography/p3a: ['channels', 'times']\n",
      "Reduction order for nice/marker/TimeLockedTopography/p3a: ['channels', 'times']\n",
      "Autodetected number of jobs 24\n",
      "Effective window size : 16.384 (s)\n"
     ]
    },
    {
     "name": "stderr",
     "output_type": "stream",
     "text": [
      "[Parallel(n_jobs=2)]: Done  15 out of  15 | elapsed:    1.7s finished\n",
      "[Parallel(n_jobs=24)]: Using backend LokyBackend with 24 concurrent workers.\n",
      "[Parallel(n_jobs=24)]: Done   6 out of  24 | elapsed:    3.7s remaining:   11.1s\n",
      "[Parallel(n_jobs=24)]: Done  11 out of  24 | elapsed:    3.8s remaining:    4.5s\n",
      "[Parallel(n_jobs=24)]: Done  16 out of  24 | elapsed:    3.9s remaining:    1.9s\n",
      "[Parallel(n_jobs=24)]: Done  21 out of  24 | elapsed:    3.9s remaining:    0.6s\n"
     ]
    },
    {
     "name": "stdout",
     "output_type": "stream",
     "text": [
      "Reduction order for nice/marker/PowerSpectralDensity/alpha: ['frequency', 'channels']\n",
      "Reduction order for nice/marker/PowerSpectralDensity/alpha: ['frequency', 'channels']\n",
      "Reduction order for nice/marker/PowerSpectralDensity/delta: ['frequency', 'channels']\n",
      "Reduction order for nice/marker/PowerSpectralDensity/delta: ['frequency', 'channels']\n",
      "Reduction order for nice/marker/PowerSpectralDensity/theta: ['frequency', 'channels']\n",
      "Reduction order for nice/marker/PowerSpectralDensity/theta: ['frequency', 'channels']\n",
      "Reduction order for nice/marker/PowerSpectralDensity/gamma: ['frequency', 'channels']\n",
      "Reduction order for nice/marker/PowerSpectralDensity/theta: ['frequency', 'channels']\n",
      "Reduction order for nice/marker/PowerSpectralDensity/beta: ['frequency', 'channels']\n",
      "Reduction order for nice/marker/PowerSpectralDensity/beta: ['frequency', 'channels']\n",
      "Running KolmogorovComplexity\n",
      "Elapsed time 0.03753829002380371 sec\n",
      "Reduction order for nice/marker/KolmogorovComplexity/default: ['channels']\n",
      "Filtering  at 10.42 Hz\n",
      "Performing symbolic transformation\n"
     ]
    },
    {
     "name": "stderr",
     "output_type": "stream",
     "text": [
      "[Parallel(n_jobs=24)]: Done  24 out of  24 | elapsed:    4.2s finished\n"
     ]
    },
    {
     "name": "stdout",
     "output_type": "stream",
     "text": [
      "Reduction order for nice/marker/PermutationEntropy/default: ['channels']\n",
      "Autodetected number of jobs 2\n",
      "Computing CSD\n",
      "Using 10-5 locations for CSD\n",
      "Using 2 jobs\n"
     ]
    },
    {
     "name": "stderr",
     "output_type": "stream",
     "text": [
      "[Parallel(n_jobs=2)]: Using backend LokyBackend with 2 concurrent workers.\n"
     ]
    },
    {
     "name": "stdout",
     "output_type": "stream",
     "text": [
      "Filtering  at 10.42 Hz\n",
      "Reduction order for nice/marker/SymbolicMutualInformation/default: ['channels_y', 'channels']\n",
      "Reduction order for nice/marker/ContingentNegativeVariation/default: ['channels']\n",
      "Reduction order for nice/marker/TimeLockedTopography/p1: ['channels', 'times']\n",
      "Reduction order for nice/marker/TimeLockedTopography/p3a: ['channels', 'times']\n",
      "Reduction order for nice/marker/TimeLockedTopography/p3a: ['channels', 'times']\n"
     ]
    },
    {
     "name": "stderr",
     "output_type": "stream",
     "text": [
      "[Parallel(n_jobs=2)]: Done  18 tasks      | elapsed:    1.7s\n",
      "[Parallel(n_jobs=2)]: Done  22 out of  22 | elapsed:    1.7s finished\n"
     ]
    },
    {
     "name": "stdout",
     "output_type": "stream",
     "text": [
      "Autodetected number of jobs 24\n",
      "Effective window size : 16.384 (s)\n"
     ]
    },
    {
     "name": "stderr",
     "output_type": "stream",
     "text": [
      "[Parallel(n_jobs=24)]: Using backend LokyBackend with 24 concurrent workers.\n",
      "[Parallel(n_jobs=24)]: Done   6 out of  24 | elapsed:    3.8s remaining:   11.5s\n",
      "[Parallel(n_jobs=24)]: Done  11 out of  24 | elapsed:    3.9s remaining:    4.6s\n",
      "[Parallel(n_jobs=24)]: Done  16 out of  24 | elapsed:    4.0s remaining:    2.0s\n",
      "[Parallel(n_jobs=24)]: Done  21 out of  24 | elapsed:    4.1s remaining:    0.6s\n"
     ]
    },
    {
     "name": "stdout",
     "output_type": "stream",
     "text": [
      "Reduction order for nice/marker/PowerSpectralDensity/alpha: ['frequency', 'channels']\n",
      "Reduction order for nice/marker/PowerSpectralDensity/alpha: ['frequency', 'channels']\n",
      "Reduction order for nice/marker/PowerSpectralDensity/delta: ['frequency', 'channels']\n",
      "Reduction order for nice/marker/PowerSpectralDensity/delta: ['frequency', 'channels']\n",
      "Reduction order for nice/marker/PowerSpectralDensity/theta: ['frequency', 'channels']\n",
      "Reduction order for nice/marker/PowerSpectralDensity/theta: ['frequency', 'channels']\n",
      "Reduction order for nice/marker/PowerSpectralDensity/gamma: ['frequency', 'channels']\n",
      "Reduction order for nice/marker/PowerSpectralDensity/theta: ['frequency', 'channels']\n",
      "Reduction order for nice/marker/PowerSpectralDensity/beta: ['frequency', 'channels']\n",
      "Reduction order for nice/marker/PowerSpectralDensity/beta: ['frequency', 'channels']\n",
      "Running KolmogorovComplexity\n",
      "Elapsed time 0.02701282501220703 sec\n",
      "Reduction order for nice/marker/KolmogorovComplexity/default: ['channels']\n",
      "Filtering  at 10.42 Hz\n",
      "Performing symbolic transformation\n"
     ]
    },
    {
     "name": "stderr",
     "output_type": "stream",
     "text": [
      "[Parallel(n_jobs=24)]: Done  24 out of  24 | elapsed:    4.3s finished\n"
     ]
    },
    {
     "name": "stdout",
     "output_type": "stream",
     "text": [
      "Reduction order for nice/marker/PermutationEntropy/default: ['channels']\n",
      "Autodetected number of jobs 2\n",
      "Computing CSD\n",
      "Using 10-5 locations for CSD\n",
      "Using 2 jobs\n"
     ]
    },
    {
     "name": "stderr",
     "output_type": "stream",
     "text": [
      "[Parallel(n_jobs=2)]: Using backend LokyBackend with 2 concurrent workers.\n"
     ]
    },
    {
     "name": "stdout",
     "output_type": "stream",
     "text": [
      "Filtering  at 10.42 Hz\n",
      "Reduction order for nice/marker/SymbolicMutualInformation/default: ['channels_y', 'channels']\n",
      "Reduction order for nice/marker/ContingentNegativeVariation/default: ['channels']\n",
      "Reduction order for nice/marker/TimeLockedTopography/p1: ['channels', 'times']\n",
      "Reduction order for nice/marker/TimeLockedTopography/p3a: ['channels', 'times']\n",
      "Reduction order for nice/marker/TimeLockedTopography/p3a: ['channels', 'times']\n",
      "Autodetected number of jobs 24\n",
      "Effective window size : 16.384 (s)\n"
     ]
    },
    {
     "name": "stderr",
     "output_type": "stream",
     "text": [
      "[Parallel(n_jobs=2)]: Done  18 tasks      | elapsed:    1.7s\n",
      "[Parallel(n_jobs=2)]: Done  19 out of  19 | elapsed:    1.7s finished\n",
      "[Parallel(n_jobs=24)]: Using backend LokyBackend with 24 concurrent workers.\n",
      "[Parallel(n_jobs=24)]: Done   6 out of  24 | elapsed:    3.8s remaining:   11.4s\n",
      "[Parallel(n_jobs=24)]: Done  11 out of  24 | elapsed:    3.9s remaining:    4.6s\n",
      "[Parallel(n_jobs=24)]: Done  16 out of  24 | elapsed:    4.0s remaining:    2.0s\n"
     ]
    },
    {
     "name": "stdout",
     "output_type": "stream",
     "text": [
      "Reduction order for nice/marker/PowerSpectralDensity/alpha: ['frequency', 'channels']\n"
     ]
    },
    {
     "name": "stderr",
     "output_type": "stream",
     "text": [
      "[Parallel(n_jobs=24)]: Done  21 out of  24 | elapsed:    4.1s remaining:    0.6s\n",
      "[Parallel(n_jobs=24)]: Done  24 out of  24 | elapsed:    4.3s finished\n"
     ]
    },
    {
     "name": "stdout",
     "output_type": "stream",
     "text": [
      "Reduction order for nice/marker/PowerSpectralDensity/alpha: ['frequency', 'channels']\n",
      "Reduction order for nice/marker/PowerSpectralDensity/delta: ['frequency', 'channels']\n",
      "Reduction order for nice/marker/PowerSpectralDensity/delta: ['frequency', 'channels']\n",
      "Reduction order for nice/marker/PowerSpectralDensity/theta: ['frequency', 'channels']\n",
      "Reduction order for nice/marker/PowerSpectralDensity/theta: ['frequency', 'channels']\n",
      "Reduction order for nice/marker/PowerSpectralDensity/gamma: ['frequency', 'channels']\n",
      "Reduction order for nice/marker/PowerSpectralDensity/theta: ['frequency', 'channels']\n",
      "Reduction order for nice/marker/PowerSpectralDensity/beta: ['frequency', 'channels']\n",
      "Reduction order for nice/marker/PowerSpectralDensity/beta: ['frequency', 'channels']\n",
      "Running KolmogorovComplexity\n",
      "Elapsed time 0.018718242645263672 sec\n",
      "Reduction order for nice/marker/KolmogorovComplexity/default: ['channels']\n",
      "Filtering  at 10.42 Hz\n",
      "Performing symbolic transformation\n",
      "Reduction order for nice/marker/PermutationEntropy/default: ['channels']\n",
      "Autodetected number of jobs 2\n",
      "Computing CSD\n",
      "Using 10-5 locations for CSD\n",
      "Using 2 jobs\n"
     ]
    },
    {
     "name": "stderr",
     "output_type": "stream",
     "text": [
      "[Parallel(n_jobs=2)]: Using backend LokyBackend with 2 concurrent workers.\n"
     ]
    },
    {
     "name": "stdout",
     "output_type": "stream",
     "text": [
      "Filtering  at 10.42 Hz\n",
      "Reduction order for nice/marker/SymbolicMutualInformation/default: ['channels_y', 'channels']\n",
      "Reduction order for nice/marker/ContingentNegativeVariation/default: ['channels']\n",
      "Reduction order for nice/marker/TimeLockedTopography/p1: ['channels', 'times']\n",
      "Reduction order for nice/marker/TimeLockedTopography/p3a: ['channels', 'times']\n",
      "Reduction order for nice/marker/TimeLockedTopography/p3a: ['channels', 'times']\n",
      "\n",
      "#########################################\n",
      "Computing markers for participant VP12\n",
      "#########################################\n",
      "\n",
      "Reading /media/nicolas.bruno/63f8a366-34b7-4896-a7ce-b5fb4ee78535/Nico/MW_eeg_data/minmarker/VP12/VP12_evoked_ar_subtracted_epo.fif ...\n",
      "    Found the data of interest:\n",
      "        t =    -200.00 ...     600.00 ms\n",
      "        0 CTF compensation matrices available\n"
     ]
    },
    {
     "name": "stderr",
     "output_type": "stream",
     "text": [
      "[Parallel(n_jobs=2)]: Done  13 out of  13 | elapsed:    1.7s finished\n"
     ]
    },
    {
     "name": "stdout",
     "output_type": "stream",
     "text": [
      "Not setting metadata\n",
      "Not setting metadata\n",
      "32 matching events found\n",
      "No baseline correction applied\n",
      "0 projection items activated\n",
      "Reading /media/nicolas.bruno/63f8a366-34b7-4896-a7ce-b5fb4ee78535/Nico/MW_eeg_data/minmarker/VP12/VP12_evoked_ar_rereferenced_epo.fif ...\n",
      "    Found the data of interest:\n",
      "        t =    -200.00 ...     600.00 ms\n",
      "        0 CTF compensation matrices available\n",
      "Not setting metadata\n",
      "Not setting metadata\n",
      "32 matching events found\n",
      "No baseline correction applied\n",
      "0 projection items activated\n",
      "Autodetected number of jobs 24\n",
      "Effective window size : 16.384 (s)\n"
     ]
    },
    {
     "name": "stderr",
     "output_type": "stream",
     "text": [
      "[Parallel(n_jobs=24)]: Using backend LokyBackend with 24 concurrent workers.\n",
      "[Parallel(n_jobs=24)]: Done   6 out of  24 | elapsed:    3.9s remaining:   11.6s\n",
      "[Parallel(n_jobs=24)]: Done  11 out of  24 | elapsed:    4.0s remaining:    4.7s\n",
      "[Parallel(n_jobs=24)]: Done  16 out of  24 | elapsed:    4.1s remaining:    2.1s\n",
      "[Parallel(n_jobs=24)]: Done  21 out of  24 | elapsed:    4.3s remaining:    0.6s\n"
     ]
    },
    {
     "name": "stdout",
     "output_type": "stream",
     "text": [
      "Reduction order for nice/marker/PowerSpectralDensity/alpha: ['frequency', 'channels']\n",
      "Reduction order for nice/marker/PowerSpectralDensity/alpha: ['frequency', 'channels']\n",
      "Reduction order for nice/marker/PowerSpectralDensity/delta: ['frequency', 'channels']\n",
      "Reduction order for nice/marker/PowerSpectralDensity/delta: ['frequency', 'channels']\n",
      "Reduction order for nice/marker/PowerSpectralDensity/theta: ['frequency', 'channels']\n",
      "Reduction order for nice/marker/PowerSpectralDensity/theta: ['frequency', 'channels']\n",
      "Reduction order for nice/marker/PowerSpectralDensity/gamma: ['frequency', 'channels']\n",
      "Reduction order for nice/marker/PowerSpectralDensity/theta: ['frequency', 'channels']\n",
      "Reduction order for nice/marker/PowerSpectralDensity/beta: ['frequency', 'channels']\n",
      "Reduction order for nice/marker/PowerSpectralDensity/beta: ['frequency', 'channels']\n",
      "Running KolmogorovComplexity\n",
      "Elapsed time 0.09020638465881348 sec\n",
      "Reduction order for nice/marker/KolmogorovComplexity/default: ['channels']\n",
      "Filtering  at 10.42 Hz\n",
      "Performing symbolic transformation\n"
     ]
    },
    {
     "name": "stderr",
     "output_type": "stream",
     "text": [
      "[Parallel(n_jobs=24)]: Done  24 out of  24 | elapsed:    4.4s finished\n"
     ]
    },
    {
     "name": "stdout",
     "output_type": "stream",
     "text": [
      "Reduction order for nice/marker/PermutationEntropy/default: ['channels']\n",
      "Autodetected number of jobs 2\n",
      "Computing CSD\n",
      "Using 10-5 locations for CSD\n",
      "Using 2 jobs\n"
     ]
    },
    {
     "name": "stderr",
     "output_type": "stream",
     "text": [
      "[Parallel(n_jobs=2)]: Using backend LokyBackend with 2 concurrent workers.\n"
     ]
    },
    {
     "name": "stdout",
     "output_type": "stream",
     "text": [
      "Filtering  at 10.42 Hz\n"
     ]
    },
    {
     "name": "stderr",
     "output_type": "stream",
     "text": [
      "[Parallel(n_jobs=2)]: Done  16 tasks      | elapsed:    1.7s\n",
      "[Parallel(n_jobs=2)]: Done  63 out of  63 | elapsed:    1.8s finished\n"
     ]
    },
    {
     "name": "stdout",
     "output_type": "stream",
     "text": [
      "Reduction order for nice/marker/SymbolicMutualInformation/default: ['channels_y', 'channels']\n",
      "Reduction order for nice/marker/ContingentNegativeVariation/default: ['channels']\n",
      "Reduction order for nice/marker/TimeLockedTopography/p1: ['channels', 'times']\n",
      "Reduction order for nice/marker/TimeLockedTopography/p3a: ['channels', 'times']\n",
      "Reduction order for nice/marker/TimeLockedTopography/p3a: ['channels', 'times']\n",
      "Autodetected number of jobs 24\n",
      "Effective window size : 16.384 (s)\n"
     ]
    },
    {
     "name": "stderr",
     "output_type": "stream",
     "text": [
      "[Parallel(n_jobs=24)]: Using backend LokyBackend with 24 concurrent workers.\n",
      "[Parallel(n_jobs=24)]: Done   6 out of  24 | elapsed:    3.8s remaining:   11.5s\n",
      "[Parallel(n_jobs=24)]: Done  11 out of  24 | elapsed:    3.9s remaining:    4.6s\n",
      "[Parallel(n_jobs=24)]: Done  16 out of  24 | elapsed:    4.0s remaining:    2.0s\n"
     ]
    },
    {
     "name": "stdout",
     "output_type": "stream",
     "text": [
      "Reduction order for nice/marker/PowerSpectralDensity/alpha: ['frequency', 'channels']\n",
      "Reduction order for nice/marker/PowerSpectralDensity/alpha: ['frequency', 'channels']\n",
      "Reduction order for nice/marker/PowerSpectralDensity/delta: ['frequency', 'channels']\n",
      "Reduction order for nice/marker/PowerSpectralDensity/delta: ['frequency', 'channels']\n",
      "Reduction order for nice/marker/PowerSpectralDensity/theta: ['frequency', 'channels']\n",
      "Reduction order for nice/marker/PowerSpectralDensity/theta: ['frequency', 'channels']\n",
      "Reduction order for nice/marker/PowerSpectralDensity/gamma: ['frequency', 'channels']\n",
      "Reduction order for nice/marker/PowerSpectralDensity/theta: ['frequency', 'channels']\n",
      "Reduction order for nice/marker/PowerSpectralDensity/beta: ['frequency', 'channels']\n",
      "Reduction order for nice/marker/PowerSpectralDensity/beta: ['frequency', 'channels']\n",
      "Running KolmogorovComplexity\n",
      "Elapsed time 0.051668643951416016 sec\n"
     ]
    },
    {
     "name": "stderr",
     "output_type": "stream",
     "text": [
      "[Parallel(n_jobs=24)]: Done  21 out of  24 | elapsed:    4.1s remaining:    0.6s\n",
      "[Parallel(n_jobs=24)]: Done  24 out of  24 | elapsed:    4.2s finished\n"
     ]
    },
    {
     "name": "stdout",
     "output_type": "stream",
     "text": [
      "Reduction order for nice/marker/KolmogorovComplexity/default: ['channels']\n",
      "Filtering  at 10.42 Hz\n",
      "Performing symbolic transformation\n",
      "Reduction order for nice/marker/PermutationEntropy/default: ['channels']\n",
      "Autodetected number of jobs 2\n",
      "Computing CSD\n",
      "Using 10-5 locations for CSD\n",
      "Using 2 jobs\n"
     ]
    },
    {
     "name": "stderr",
     "output_type": "stream",
     "text": [
      "[Parallel(n_jobs=2)]: Using backend LokyBackend with 2 concurrent workers.\n"
     ]
    },
    {
     "name": "stdout",
     "output_type": "stream",
     "text": [
      "Filtering  at 10.42 Hz\n"
     ]
    },
    {
     "name": "stderr",
     "output_type": "stream",
     "text": [
      "[Parallel(n_jobs=2)]: Done  18 tasks      | elapsed:    1.7s\n",
      "[Parallel(n_jobs=2)]: Done  38 out of  38 | elapsed:    1.7s finished\n"
     ]
    },
    {
     "name": "stdout",
     "output_type": "stream",
     "text": [
      "Reduction order for nice/marker/SymbolicMutualInformation/default: ['channels_y', 'channels']\n",
      "Reduction order for nice/marker/ContingentNegativeVariation/default: ['channels']\n",
      "Reduction order for nice/marker/TimeLockedTopography/p1: ['channels', 'times']\n",
      "Reduction order for nice/marker/TimeLockedTopography/p3a: ['channels', 'times']\n",
      "Reduction order for nice/marker/TimeLockedTopography/p3a: ['channels', 'times']\n",
      "Autodetected number of jobs 24\n",
      "Effective window size : 16.384 (s)\n"
     ]
    },
    {
     "name": "stderr",
     "output_type": "stream",
     "text": [
      "[Parallel(n_jobs=24)]: Using backend LokyBackend with 24 concurrent workers.\n",
      "[Parallel(n_jobs=24)]: Done   6 out of  24 | elapsed:    3.7s remaining:   11.2s\n",
      "[Parallel(n_jobs=24)]: Done  11 out of  24 | elapsed:    3.8s remaining:    4.5s\n",
      "[Parallel(n_jobs=24)]: Done  16 out of  24 | elapsed:    3.8s remaining:    1.9s\n",
      "[Parallel(n_jobs=24)]: Done  21 out of  24 | elapsed:    3.9s remaining:    0.6s\n"
     ]
    },
    {
     "name": "stdout",
     "output_type": "stream",
     "text": [
      "Reduction order for nice/marker/PowerSpectralDensity/alpha: ['frequency', 'channels']\n",
      "Reduction order for nice/marker/PowerSpectralDensity/alpha: ['frequency', 'channels']\n",
      "Reduction order for nice/marker/PowerSpectralDensity/delta: ['frequency', 'channels']\n",
      "Reduction order for nice/marker/PowerSpectralDensity/delta: ['frequency', 'channels']\n",
      "Reduction order for nice/marker/PowerSpectralDensity/theta: ['frequency', 'channels']\n",
      "Reduction order for nice/marker/PowerSpectralDensity/theta: ['frequency', 'channels']\n",
      "Reduction order for nice/marker/PowerSpectralDensity/gamma: ['frequency', 'channels']\n",
      "Reduction order for nice/marker/PowerSpectralDensity/theta: ['frequency', 'channels']\n",
      "Reduction order for nice/marker/PowerSpectralDensity/beta: ['frequency', 'channels']\n",
      "Reduction order for nice/marker/PowerSpectralDensity/beta: ['frequency', 'channels']\n",
      "Running KolmogorovComplexity\n",
      "Elapsed time 0.011671066284179688 sec\n",
      "Reduction order for nice/marker/KolmogorovComplexity/default: ['channels']\n",
      "Filtering  at 10.42 Hz\n",
      "Performing symbolic transformation\n"
     ]
    },
    {
     "name": "stderr",
     "output_type": "stream",
     "text": [
      "[Parallel(n_jobs=24)]: Done  24 out of  24 | elapsed:    4.2s finished\n"
     ]
    },
    {
     "name": "stdout",
     "output_type": "stream",
     "text": [
      "Reduction order for nice/marker/PermutationEntropy/default: ['channels']\n",
      "Autodetected number of jobs 2\n",
      "Computing CSD\n",
      "Using 10-5 locations for CSD\n",
      "Using 2 jobs\n"
     ]
    },
    {
     "name": "stderr",
     "output_type": "stream",
     "text": [
      "[Parallel(n_jobs=2)]: Using backend LokyBackend with 2 concurrent workers.\n"
     ]
    },
    {
     "name": "stdout",
     "output_type": "stream",
     "text": [
      "Filtering  at 10.42 Hz\n",
      "Reduction order for nice/marker/SymbolicMutualInformation/default: ['channels_y', 'channels']\n",
      "Reduction order for nice/marker/ContingentNegativeVariation/default: ['channels']\n",
      "Reduction order for nice/marker/TimeLockedTopography/p1: ['channels', 'times']\n",
      "Reduction order for nice/marker/TimeLockedTopography/p3a: ['channels', 'times']\n",
      "Reduction order for nice/marker/TimeLockedTopography/p3a: ['channels', 'times']\n",
      "Autodetected number of jobs 24\n",
      "Effective window size : 16.384 (s)\n"
     ]
    },
    {
     "name": "stderr",
     "output_type": "stream",
     "text": [
      "[Parallel(n_jobs=2)]: Done   8 out of   8 | elapsed:    1.7s finished\n",
      "[Parallel(n_jobs=24)]: Using backend LokyBackend with 24 concurrent workers.\n",
      "[Parallel(n_jobs=24)]: Done   6 out of  24 | elapsed:    3.7s remaining:   11.2s\n",
      "[Parallel(n_jobs=24)]: Done  11 out of  24 | elapsed:    3.8s remaining:    4.5s\n",
      "[Parallel(n_jobs=24)]: Done  16 out of  24 | elapsed:    3.9s remaining:    2.0s\n"
     ]
    },
    {
     "name": "stdout",
     "output_type": "stream",
     "text": [
      "Reduction order for nice/marker/PowerSpectralDensity/alpha: ['frequency', 'channels']\n",
      "Reduction order for nice/marker/PowerSpectralDensity/alpha: ['frequency', 'channels']\n",
      "Reduction order for nice/marker/PowerSpectralDensity/delta: ['frequency', 'channels']\n",
      "Reduction order for nice/marker/PowerSpectralDensity/delta: ['frequency', 'channels']\n",
      "Reduction order for nice/marker/PowerSpectralDensity/theta: ['frequency', 'channels']\n",
      "Reduction order for nice/marker/PowerSpectralDensity/theta: ['frequency', 'channels']\n",
      "Reduction order for nice/marker/PowerSpectralDensity/gamma: ['frequency', 'channels']\n",
      "Reduction order for nice/marker/PowerSpectralDensity/theta: ['frequency', 'channels']\n",
      "Reduction order for nice/marker/PowerSpectralDensity/beta: ['frequency', 'channels']\n",
      "Reduction order for nice/marker/PowerSpectralDensity/beta: ['frequency', 'channels']\n",
      "Running KolmogorovComplexity\n",
      "Elapsed time 0.0033969879150390625 sec\n",
      "Reduction order for nice/marker/KolmogorovComplexity/default: ['channels']\n",
      "Filtering  at 10.42 Hz\n"
     ]
    },
    {
     "name": "stderr",
     "output_type": "stream",
     "text": [
      "[Parallel(n_jobs=24)]: Done  21 out of  24 | elapsed:    4.0s remaining:    0.6s\n",
      "[Parallel(n_jobs=24)]: Done  24 out of  24 | elapsed:    4.2s finished\n"
     ]
    },
    {
     "name": "stdout",
     "output_type": "stream",
     "text": [
      "Performing symbolic transformation\n",
      "Reduction order for nice/marker/PermutationEntropy/default: ['channels']\n",
      "Autodetected number of jobs 2\n",
      "Computing CSD\n",
      "Using 10-5 locations for CSD\n",
      "Using 2 jobs\n"
     ]
    },
    {
     "name": "stderr",
     "output_type": "stream",
     "text": [
      "[Parallel(n_jobs=2)]: Using backend LokyBackend with 2 concurrent workers.\n"
     ]
    },
    {
     "name": "stdout",
     "output_type": "stream",
     "text": [
      "Filtering  at 10.42 Hz\n",
      "Reduction order for nice/marker/SymbolicMutualInformation/default: ['channels_y', 'channels']\n",
      "Reduction order for nice/marker/ContingentNegativeVariation/default: ['channels']\n",
      "Reduction order for nice/marker/TimeLockedTopography/p1: ['channels', 'times']\n",
      "Reduction order for nice/marker/TimeLockedTopography/p3a: ['channels', 'times']\n",
      "Reduction order for nice/marker/TimeLockedTopography/p3a: ['channels', 'times']\n",
      "Autodetected number of jobs 24\n",
      "Effective window size : 16.384 (s)\n"
     ]
    },
    {
     "name": "stderr",
     "output_type": "stream",
     "text": [
      "[Parallel(n_jobs=2)]: Done   2 out of   2 | elapsed:    1.6s remaining:    0.0s\n",
      "[Parallel(n_jobs=2)]: Done   2 out of   2 | elapsed:    1.6s finished\n",
      "[Parallel(n_jobs=24)]: Using backend LokyBackend with 24 concurrent workers.\n",
      "[Parallel(n_jobs=24)]: Done   6 out of  24 | elapsed:    3.7s remaining:   11.1s\n",
      "[Parallel(n_jobs=24)]: Done  11 out of  24 | elapsed:    3.8s remaining:    4.5s\n",
      "[Parallel(n_jobs=24)]: Done  16 out of  24 | elapsed:    4.0s remaining:    2.0s\n",
      "[Parallel(n_jobs=24)]: Done  21 out of  24 | elapsed:    4.2s remaining:    0.6s\n",
      "[Parallel(n_jobs=24)]: Done  24 out of  24 | elapsed:    4.2s finished\n"
     ]
    },
    {
     "name": "stdout",
     "output_type": "stream",
     "text": [
      "Reduction order for nice/marker/PowerSpectralDensity/alpha: ['frequency', 'channels']\n",
      "Reduction order for nice/marker/PowerSpectralDensity/alpha: ['frequency', 'channels']\n",
      "Reduction order for nice/marker/PowerSpectralDensity/delta: ['frequency', 'channels']\n",
      "Reduction order for nice/marker/PowerSpectralDensity/delta: ['frequency', 'channels']\n",
      "Reduction order for nice/marker/PowerSpectralDensity/theta: ['frequency', 'channels']\n",
      "Reduction order for nice/marker/PowerSpectralDensity/theta: ['frequency', 'channels']\n",
      "Reduction order for nice/marker/PowerSpectralDensity/gamma: ['frequency', 'channels']\n",
      "Reduction order for nice/marker/PowerSpectralDensity/theta: ['frequency', 'channels']\n",
      "Reduction order for nice/marker/PowerSpectralDensity/beta: ['frequency', 'channels']\n",
      "Reduction order for nice/marker/PowerSpectralDensity/beta: ['frequency', 'channels']\n",
      "Running KolmogorovComplexity\n",
      "Elapsed time 0.021087646484375 sec\n",
      "Reduction order for nice/marker/KolmogorovComplexity/default: ['channels']\n",
      "Filtering  at 10.42 Hz\n",
      "Performing symbolic transformation\n",
      "Reduction order for nice/marker/PermutationEntropy/default: ['channels']\n",
      "Autodetected number of jobs 2\n",
      "Computing CSD\n",
      "Using 10-5 locations for CSD\n",
      "Using 2 jobs\n"
     ]
    },
    {
     "name": "stderr",
     "output_type": "stream",
     "text": [
      "[Parallel(n_jobs=2)]: Using backend LokyBackend with 2 concurrent workers.\n"
     ]
    },
    {
     "name": "stdout",
     "output_type": "stream",
     "text": [
      "Filtering  at 10.42 Hz\n",
      "Reduction order for nice/marker/SymbolicMutualInformation/default: ['channels_y', 'channels']\n",
      "Reduction order for nice/marker/ContingentNegativeVariation/default: ['channels']\n",
      "Reduction order for nice/marker/TimeLockedTopography/p1: ['channels', 'times']\n",
      "Reduction order for nice/marker/TimeLockedTopography/p3a: ['channels', 'times']\n",
      "Reduction order for nice/marker/TimeLockedTopography/p3a: ['channels', 'times']\n",
      "Autodetected number of jobs 24\n",
      "Effective window size : 16.384 (s)\n"
     ]
    },
    {
     "name": "stderr",
     "output_type": "stream",
     "text": [
      "[Parallel(n_jobs=2)]: Done  15 out of  15 | elapsed:    1.7s finished\n",
      "[Parallel(n_jobs=24)]: Using backend LokyBackend with 24 concurrent workers.\n",
      "[Parallel(n_jobs=24)]: Done   6 out of  24 | elapsed:    3.6s remaining:   10.7s\n",
      "[Parallel(n_jobs=24)]: Done  11 out of  24 | elapsed:    3.6s remaining:    4.3s\n",
      "[Parallel(n_jobs=24)]: Done  16 out of  24 | elapsed:    3.7s remaining:    1.9s\n"
     ]
    },
    {
     "name": "stdout",
     "output_type": "stream",
     "text": [
      "Reduction order for nice/marker/PowerSpectralDensity/alpha: ['frequency', 'channels']\n",
      "Reduction order for nice/marker/PowerSpectralDensity/alpha: ['frequency', 'channels']\n",
      "Reduction order for nice/marker/PowerSpectralDensity/delta: ['frequency', 'channels']\n",
      "Reduction order for nice/marker/PowerSpectralDensity/delta: ['frequency', 'channels']\n",
      "Reduction order for nice/marker/PowerSpectralDensity/theta: ['frequency', 'channels']\n",
      "Reduction order for nice/marker/PowerSpectralDensity/theta: ['frequency', 'channels']\n",
      "Reduction order for nice/marker/PowerSpectralDensity/gamma: ['frequency', 'channels']\n",
      "Reduction order for nice/marker/PowerSpectralDensity/theta: ['frequency', 'channels']\n",
      "Reduction order for nice/marker/PowerSpectralDensity/beta: ['frequency', 'channels']\n",
      "Reduction order for nice/marker/PowerSpectralDensity/beta: ['frequency', 'channels']\n",
      "Running KolmogorovComplexity\n",
      "Elapsed time 0.004118442535400391 sec\n",
      "Reduction order for nice/marker/KolmogorovComplexity/default: ['channels']\n",
      "Filtering  at 10.42 Hz\n",
      "Performing symbolic transformation\n"
     ]
    },
    {
     "name": "stderr",
     "output_type": "stream",
     "text": [
      "[Parallel(n_jobs=24)]: Done  21 out of  24 | elapsed:    3.8s remaining:    0.5s\n",
      "[Parallel(n_jobs=24)]: Done  24 out of  24 | elapsed:    3.8s finished\n"
     ]
    },
    {
     "name": "stdout",
     "output_type": "stream",
     "text": [
      "Reduction order for nice/marker/PermutationEntropy/default: ['channels']\n",
      "Autodetected number of jobs 2\n",
      "Computing CSD\n",
      "Using 10-5 locations for CSD\n",
      "Using 2 jobs\n"
     ]
    },
    {
     "name": "stderr",
     "output_type": "stream",
     "text": [
      "[Parallel(n_jobs=2)]: Using backend LokyBackend with 2 concurrent workers.\n"
     ]
    },
    {
     "name": "stdout",
     "output_type": "stream",
     "text": [
      "Filtering  at 10.42 Hz\n",
      "Reduction order for nice/marker/SymbolicMutualInformation/default: ['channels_y', 'channels']\n",
      "Reduction order for nice/marker/ContingentNegativeVariation/default: ['channels']\n",
      "Reduction order for nice/marker/TimeLockedTopography/p1: ['channels', 'times']\n",
      "Reduction order for nice/marker/TimeLockedTopography/p3a: ['channels', 'times']\n",
      "Reduction order for nice/marker/TimeLockedTopography/p3a: ['channels', 'times']\n",
      "Autodetected number of jobs 24\n",
      "Effective window size : 16.384 (s)\n"
     ]
    },
    {
     "name": "stderr",
     "output_type": "stream",
     "text": [
      "[Parallel(n_jobs=2)]: Done   3 out of   3 | elapsed:    1.7s remaining:    0.0s\n",
      "[Parallel(n_jobs=2)]: Done   3 out of   3 | elapsed:    1.7s finished\n",
      "[Parallel(n_jobs=24)]: Using backend LokyBackend with 24 concurrent workers.\n",
      "[Parallel(n_jobs=24)]: Done   6 out of  24 | elapsed:    3.6s remaining:   10.9s\n",
      "[Parallel(n_jobs=24)]: Done  11 out of  24 | elapsed:    3.7s remaining:    4.3s\n",
      "[Parallel(n_jobs=24)]: Done  16 out of  24 | elapsed:    3.7s remaining:    1.9s\n",
      "[Parallel(n_jobs=24)]: Done  21 out of  24 | elapsed:    3.8s remaining:    0.5s\n"
     ]
    },
    {
     "name": "stdout",
     "output_type": "stream",
     "text": [
      "Reduction order for nice/marker/PowerSpectralDensity/alpha: ['frequency', 'channels']\n",
      "Reduction order for nice/marker/PowerSpectralDensity/alpha: ['frequency', 'channels']\n",
      "Reduction order for nice/marker/PowerSpectralDensity/delta: ['frequency', 'channels']\n",
      "Reduction order for nice/marker/PowerSpectralDensity/delta: ['frequency', 'channels']\n",
      "Reduction order for nice/marker/PowerSpectralDensity/theta: ['frequency', 'channels']\n",
      "Reduction order for nice/marker/PowerSpectralDensity/theta: ['frequency', 'channels']\n",
      "Reduction order for nice/marker/PowerSpectralDensity/gamma: ['frequency', 'channels']\n",
      "Reduction order for nice/marker/PowerSpectralDensity/theta: ['frequency', 'channels']\n",
      "Reduction order for nice/marker/PowerSpectralDensity/beta: ['frequency', 'channels']\n",
      "Reduction order for nice/marker/PowerSpectralDensity/beta: ['frequency', 'channels']\n",
      "Running KolmogorovComplexity\n",
      "Elapsed time 0.008400917053222656 sec\n",
      "Reduction order for nice/marker/KolmogorovComplexity/default: ['channels']\n",
      "Filtering  at 10.42 Hz\n",
      "Performing symbolic transformation\n"
     ]
    },
    {
     "name": "stderr",
     "output_type": "stream",
     "text": [
      "[Parallel(n_jobs=24)]: Done  24 out of  24 | elapsed:    3.9s finished\n"
     ]
    },
    {
     "name": "stdout",
     "output_type": "stream",
     "text": [
      "Reduction order for nice/marker/PermutationEntropy/default: ['channels']\n",
      "Autodetected number of jobs 2\n",
      "Computing CSD\n",
      "Using 10-5 locations for CSD\n",
      "Using 2 jobs\n"
     ]
    },
    {
     "name": "stderr",
     "output_type": "stream",
     "text": [
      "[Parallel(n_jobs=2)]: Using backend LokyBackend with 2 concurrent workers.\n"
     ]
    },
    {
     "name": "stdout",
     "output_type": "stream",
     "text": [
      "Filtering  at 10.42 Hz\n",
      "Reduction order for nice/marker/SymbolicMutualInformation/default: ['channels_y', 'channels']\n",
      "Reduction order for nice/marker/ContingentNegativeVariation/default: ['channels']\n",
      "Reduction order for nice/marker/TimeLockedTopography/p1: ['channels', 'times']\n",
      "Reduction order for nice/marker/TimeLockedTopography/p3a: ['channels', 'times']\n",
      "Reduction order for nice/marker/TimeLockedTopography/p3a: ['channels', 'times']\n",
      "Autodetected number of jobs 24\n",
      "Effective window size : 16.384 (s)\n"
     ]
    },
    {
     "name": "stderr",
     "output_type": "stream",
     "text": [
      "[Parallel(n_jobs=2)]: Done   6 out of   6 | elapsed:    1.7s finished\n",
      "[Parallel(n_jobs=24)]: Using backend LokyBackend with 24 concurrent workers.\n",
      "[Parallel(n_jobs=24)]: Done   6 out of  24 | elapsed:    3.7s remaining:   11.0s\n",
      "[Parallel(n_jobs=24)]: Done  11 out of  24 | elapsed:    3.7s remaining:    4.4s\n",
      "[Parallel(n_jobs=24)]: Done  16 out of  24 | elapsed:    3.8s remaining:    1.9s\n"
     ]
    },
    {
     "name": "stdout",
     "output_type": "stream",
     "text": [
      "Reduction order for nice/marker/PowerSpectralDensity/alpha: ['frequency', 'channels']\n",
      "Reduction order for nice/marker/PowerSpectralDensity/alpha: ['frequency', 'channels']\n",
      "Reduction order for nice/marker/PowerSpectralDensity/delta: ['frequency', 'channels']\n",
      "Reduction order for nice/marker/PowerSpectralDensity/delta: ['frequency', 'channels']\n",
      "Reduction order for nice/marker/PowerSpectralDensity/theta: ['frequency', 'channels']\n",
      "Reduction order for nice/marker/PowerSpectralDensity/theta: ['frequency', 'channels']\n",
      "Reduction order for nice/marker/PowerSpectralDensity/gamma: ['frequency', 'channels']\n",
      "Reduction order for nice/marker/PowerSpectralDensity/theta: ['frequency', 'channels']\n",
      "Reduction order for nice/marker/PowerSpectralDensity/beta: ['frequency', 'channels']\n",
      "Reduction order for nice/marker/PowerSpectralDensity/beta: ['frequency', 'channels']\n",
      "Running KolmogorovComplexity\n",
      "Elapsed time 0.015085697174072266 sec\n",
      "Reduction order for nice/marker/KolmogorovComplexity/default: ['channels']\n",
      "Filtering  at 10.42 Hz\n",
      "Performing symbolic transformation\n"
     ]
    },
    {
     "name": "stderr",
     "output_type": "stream",
     "text": [
      "[Parallel(n_jobs=24)]: Done  21 out of  24 | elapsed:    3.9s remaining:    0.6s\n",
      "[Parallel(n_jobs=24)]: Done  24 out of  24 | elapsed:    3.9s finished\n"
     ]
    },
    {
     "name": "stdout",
     "output_type": "stream",
     "text": [
      "Reduction order for nice/marker/PermutationEntropy/default: ['channels']\n",
      "Autodetected number of jobs 2\n",
      "Computing CSD\n",
      "Using 10-5 locations for CSD\n",
      "Using 2 jobs\n"
     ]
    },
    {
     "name": "stderr",
     "output_type": "stream",
     "text": [
      "[Parallel(n_jobs=2)]: Using backend LokyBackend with 2 concurrent workers.\n"
     ]
    },
    {
     "name": "stdout",
     "output_type": "stream",
     "text": [
      "Filtering  at 10.42 Hz\n",
      "Reduction order for nice/marker/SymbolicMutualInformation/default: ['channels_y', 'channels']\n",
      "Reduction order for nice/marker/ContingentNegativeVariation/default: ['channels']\n",
      "Reduction order for nice/marker/TimeLockedTopography/p1: ['channels', 'times']\n",
      "Reduction order for nice/marker/TimeLockedTopography/p3a: ['channels', 'times']\n",
      "Reduction order for nice/marker/TimeLockedTopography/p3a: ['channels', 'times']\n",
      "\n",
      "#########################################\n",
      "Computing markers for participant VP13\n",
      "#########################################\n",
      "\n",
      "Reading /media/nicolas.bruno/63f8a366-34b7-4896-a7ce-b5fb4ee78535/Nico/MW_eeg_data/minmarker/VP13/VP13_evoked_ar_subtracted_epo.fif ...\n",
      "    Found the data of interest:\n",
      "        t =    -200.00 ...     600.00 ms\n",
      "        0 CTF compensation matrices available\n"
     ]
    },
    {
     "name": "stderr",
     "output_type": "stream",
     "text": [
      "[Parallel(n_jobs=2)]: Done  11 out of  11 | elapsed:    1.6s finished\n"
     ]
    },
    {
     "name": "stdout",
     "output_type": "stream",
     "text": [
      "Not setting metadata\n",
      "Not setting metadata\n",
      "391 matching events found\n",
      "No baseline correction applied\n",
      "0 projection items activated\n",
      "Reading /media/nicolas.bruno/63f8a366-34b7-4896-a7ce-b5fb4ee78535/Nico/MW_eeg_data/minmarker/VP13/VP13_evoked_ar_rereferenced_epo.fif ...\n",
      "    Found the data of interest:\n",
      "        t =    -200.00 ...     600.00 ms\n",
      "        0 CTF compensation matrices available\n",
      "Not setting metadata\n",
      "Not setting metadata\n",
      "391 matching events found\n",
      "No baseline correction applied\n",
      "0 projection items activated\n",
      "Autodetected number of jobs 24\n",
      "Effective window size : 16.384 (s)\n"
     ]
    },
    {
     "name": "stderr",
     "output_type": "stream",
     "text": [
      "[Parallel(n_jobs=24)]: Using backend LokyBackend with 24 concurrent workers.\n",
      "[Parallel(n_jobs=24)]: Done   6 out of  24 | elapsed:    3.8s remaining:   11.5s\n",
      "[Parallel(n_jobs=24)]: Done  11 out of  24 | elapsed:    3.9s remaining:    4.6s\n",
      "[Parallel(n_jobs=24)]: Done  16 out of  24 | elapsed:    3.9s remaining:    2.0s\n",
      "[Parallel(n_jobs=24)]: Done  21 out of  24 | elapsed:    4.0s remaining:    0.6s\n"
     ]
    },
    {
     "name": "stdout",
     "output_type": "stream",
     "text": [
      "Reduction order for nice/marker/PowerSpectralDensity/alpha: ['frequency', 'channels']\n",
      "Reduction order for nice/marker/PowerSpectralDensity/alpha: ['frequency', 'channels']\n",
      "Reduction order for nice/marker/PowerSpectralDensity/delta: ['frequency', 'channels']\n",
      "Reduction order for nice/marker/PowerSpectralDensity/delta: ['frequency', 'channels']\n",
      "Reduction order for nice/marker/PowerSpectralDensity/theta: ['frequency', 'channels']\n",
      "Reduction order for nice/marker/PowerSpectralDensity/theta: ['frequency', 'channels']\n",
      "Reduction order for nice/marker/PowerSpectralDensity/gamma: ['frequency', 'channels']\n",
      "Reduction order for nice/marker/PowerSpectralDensity/theta: ['frequency', 'channels']\n",
      "Reduction order for nice/marker/PowerSpectralDensity/beta: ['frequency', 'channels']\n",
      "Reduction order for nice/marker/PowerSpectralDensity/beta: ['frequency', 'channels']\n",
      "Running KolmogorovComplexity\n",
      "Elapsed time 0.0903325080871582 sec\n",
      "Reduction order for nice/marker/KolmogorovComplexity/default: ['channels']\n",
      "Filtering  at 10.42 Hz\n"
     ]
    },
    {
     "name": "stderr",
     "output_type": "stream",
     "text": [
      "[Parallel(n_jobs=24)]: Done  24 out of  24 | elapsed:    4.1s finished\n"
     ]
    },
    {
     "name": "stdout",
     "output_type": "stream",
     "text": [
      "Performing symbolic transformation\n",
      "Reduction order for nice/marker/PermutationEntropy/default: ['channels']\n",
      "Autodetected number of jobs 2\n",
      "Computing CSD\n",
      "Using 10-5 locations for CSD\n",
      "Using 2 jobs\n"
     ]
    },
    {
     "name": "stderr",
     "output_type": "stream",
     "text": [
      "[Parallel(n_jobs=2)]: Using backend LokyBackend with 2 concurrent workers.\n"
     ]
    },
    {
     "name": "stdout",
     "output_type": "stream",
     "text": [
      "Filtering  at 10.42 Hz\n"
     ]
    },
    {
     "name": "stderr",
     "output_type": "stream",
     "text": [
      "[Parallel(n_jobs=2)]: Done  18 tasks      | elapsed:    1.7s\n",
      "[Parallel(n_jobs=2)]: Done  63 out of  63 | elapsed:    1.8s finished\n"
     ]
    },
    {
     "name": "stdout",
     "output_type": "stream",
     "text": [
      "Reduction order for nice/marker/SymbolicMutualInformation/default: ['channels_y', 'channels']\n",
      "Reduction order for nice/marker/ContingentNegativeVariation/default: ['channels']\n",
      "Reduction order for nice/marker/TimeLockedTopography/p1: ['channels', 'times']\n",
      "Reduction order for nice/marker/TimeLockedTopography/p3a: ['channels', 'times']\n",
      "Reduction order for nice/marker/TimeLockedTopography/p3a: ['channels', 'times']\n",
      "Autodetected number of jobs 24\n",
      "Effective window size : 16.384 (s)\n"
     ]
    },
    {
     "name": "stderr",
     "output_type": "stream",
     "text": [
      "[Parallel(n_jobs=24)]: Using backend LokyBackend with 24 concurrent workers.\n",
      "[Parallel(n_jobs=24)]: Done   6 out of  24 | elapsed:    3.8s remaining:   11.3s\n",
      "[Parallel(n_jobs=24)]: Done  11 out of  24 | elapsed:    3.8s remaining:    4.5s\n",
      "[Parallel(n_jobs=24)]: Done  16 out of  24 | elapsed:    3.8s remaining:    1.9s\n",
      "[Parallel(n_jobs=24)]: Done  21 out of  24 | elapsed:    3.9s remaining:    0.6s\n"
     ]
    },
    {
     "name": "stdout",
     "output_type": "stream",
     "text": [
      "Reduction order for nice/marker/PowerSpectralDensity/alpha: ['frequency', 'channels']\n",
      "Reduction order for nice/marker/PowerSpectralDensity/alpha: ['frequency', 'channels']\n",
      "Reduction order for nice/marker/PowerSpectralDensity/delta: ['frequency', 'channels']\n",
      "Reduction order for nice/marker/PowerSpectralDensity/delta: ['frequency', 'channels']\n",
      "Reduction order for nice/marker/PowerSpectralDensity/theta: ['frequency', 'channels']\n",
      "Reduction order for nice/marker/PowerSpectralDensity/theta: ['frequency', 'channels']\n",
      "Reduction order for nice/marker/PowerSpectralDensity/gamma: ['frequency', 'channels']\n",
      "Reduction order for nice/marker/PowerSpectralDensity/theta: ['frequency', 'channels']\n",
      "Reduction order for nice/marker/PowerSpectralDensity/beta: ['frequency', 'channels']\n",
      "Reduction order for nice/marker/PowerSpectralDensity/beta: ['frequency', 'channels']\n",
      "Running KolmogorovComplexity\n",
      "Elapsed time 0.054765939712524414 sec\n",
      "Reduction order for nice/marker/KolmogorovComplexity/default: ['channels']\n",
      "Filtering  at 10.42 Hz\n",
      "Performing symbolic transformation\n"
     ]
    },
    {
     "name": "stderr",
     "output_type": "stream",
     "text": [
      "[Parallel(n_jobs=24)]: Done  24 out of  24 | elapsed:    4.0s finished\n"
     ]
    },
    {
     "name": "stdout",
     "output_type": "stream",
     "text": [
      "Reduction order for nice/marker/PermutationEntropy/default: ['channels']\n",
      "Autodetected number of jobs 2\n",
      "Computing CSD\n",
      "Using 10-5 locations for CSD\n",
      "Using 2 jobs\n"
     ]
    },
    {
     "name": "stderr",
     "output_type": "stream",
     "text": [
      "[Parallel(n_jobs=2)]: Using backend LokyBackend with 2 concurrent workers.\n"
     ]
    },
    {
     "name": "stdout",
     "output_type": "stream",
     "text": [
      "Filtering  at 10.42 Hz\n"
     ]
    },
    {
     "name": "stderr",
     "output_type": "stream",
     "text": [
      "[Parallel(n_jobs=2)]: Done  18 tasks      | elapsed:    1.7s\n",
      "[Parallel(n_jobs=2)]: Done  38 out of  38 | elapsed:    1.7s finished\n"
     ]
    },
    {
     "name": "stdout",
     "output_type": "stream",
     "text": [
      "Reduction order for nice/marker/SymbolicMutualInformation/default: ['channels_y', 'channels']\n",
      "Reduction order for nice/marker/ContingentNegativeVariation/default: ['channels']\n",
      "Reduction order for nice/marker/TimeLockedTopography/p1: ['channels', 'times']\n",
      "Reduction order for nice/marker/TimeLockedTopography/p3a: ['channels', 'times']\n",
      "Reduction order for nice/marker/TimeLockedTopography/p3a: ['channels', 'times']\n",
      "Autodetected number of jobs 24\n",
      "Effective window size : 16.384 (s)\n"
     ]
    },
    {
     "name": "stderr",
     "output_type": "stream",
     "text": [
      "[Parallel(n_jobs=24)]: Using backend LokyBackend with 24 concurrent workers.\n",
      "[Parallel(n_jobs=24)]: Done   6 out of  24 | elapsed:    3.7s remaining:   11.1s\n",
      "[Parallel(n_jobs=24)]: Done  11 out of  24 | elapsed:    3.8s remaining:    4.4s\n",
      "[Parallel(n_jobs=24)]: Done  16 out of  24 | elapsed:    3.8s remaining:    1.9s\n",
      "[Parallel(n_jobs=24)]: Done  21 out of  24 | elapsed:    3.9s remaining:    0.6s\n"
     ]
    },
    {
     "name": "stdout",
     "output_type": "stream",
     "text": [
      "Reduction order for nice/marker/PowerSpectralDensity/alpha: ['frequency', 'channels']\n",
      "Reduction order for nice/marker/PowerSpectralDensity/alpha: ['frequency', 'channels']\n",
      "Reduction order for nice/marker/PowerSpectralDensity/delta: ['frequency', 'channels']\n",
      "Reduction order for nice/marker/PowerSpectralDensity/delta: ['frequency', 'channels']\n",
      "Reduction order for nice/marker/PowerSpectralDensity/theta: ['frequency', 'channels']\n",
      "Reduction order for nice/marker/PowerSpectralDensity/theta: ['frequency', 'channels']\n",
      "Reduction order for nice/marker/PowerSpectralDensity/gamma: ['frequency', 'channels']\n",
      "Reduction order for nice/marker/PowerSpectralDensity/theta: ['frequency', 'channels']\n",
      "Reduction order for nice/marker/PowerSpectralDensity/beta: ['frequency', 'channels']\n",
      "Reduction order for nice/marker/PowerSpectralDensity/beta: ['frequency', 'channels']\n",
      "Running KolmogorovComplexity\n",
      "Elapsed time 0.013550996780395508 sec\n",
      "Reduction order for nice/marker/KolmogorovComplexity/default: ['channels']\n",
      "Filtering  at 10.42 Hz\n",
      "Performing symbolic transformation\n"
     ]
    },
    {
     "name": "stderr",
     "output_type": "stream",
     "text": [
      "[Parallel(n_jobs=24)]: Done  24 out of  24 | elapsed:    3.9s finished\n"
     ]
    },
    {
     "name": "stdout",
     "output_type": "stream",
     "text": [
      "Reduction order for nice/marker/PermutationEntropy/default: ['channels']\n",
      "Autodetected number of jobs 2\n",
      "Computing CSD\n",
      "Using 10-5 locations for CSD\n",
      "Using 2 jobs\n"
     ]
    },
    {
     "name": "stderr",
     "output_type": "stream",
     "text": [
      "[Parallel(n_jobs=2)]: Using backend LokyBackend with 2 concurrent workers.\n"
     ]
    },
    {
     "name": "stdout",
     "output_type": "stream",
     "text": [
      "Filtering  at 10.42 Hz\n",
      "Reduction order for nice/marker/SymbolicMutualInformation/default: ['channels_y', 'channels']\n",
      "Reduction order for nice/marker/ContingentNegativeVariation/default: ['channels']\n",
      "Reduction order for nice/marker/TimeLockedTopography/p1: ['channels', 'times']\n",
      "Reduction order for nice/marker/TimeLockedTopography/p3a: ['channels', 'times']\n",
      "Reduction order for nice/marker/TimeLockedTopography/p3a: ['channels', 'times']\n",
      "Autodetected number of jobs 24\n",
      "Effective window size : 16.384 (s)\n"
     ]
    },
    {
     "name": "stderr",
     "output_type": "stream",
     "text": [
      "[Parallel(n_jobs=2)]: Done   8 out of   8 | elapsed:    1.6s finished\n",
      "[Parallel(n_jobs=24)]: Using backend LokyBackend with 24 concurrent workers.\n",
      "[Parallel(n_jobs=24)]: Done   6 out of  24 | elapsed:    3.7s remaining:   11.0s\n",
      "[Parallel(n_jobs=24)]: Done  11 out of  24 | elapsed:    3.7s remaining:    4.4s\n",
      "[Parallel(n_jobs=24)]: Done  16 out of  24 | elapsed:    3.7s remaining:    1.9s\n"
     ]
    },
    {
     "name": "stdout",
     "output_type": "stream",
     "text": [
      "Reduction order for nice/marker/PowerSpectralDensity/alpha: ['frequency', 'channels']\n",
      "Reduction order for nice/marker/PowerSpectralDensity/alpha: ['frequency', 'channels']\n",
      "Reduction order for nice/marker/PowerSpectralDensity/delta: ['frequency', 'channels']\n",
      "Reduction order for nice/marker/PowerSpectralDensity/delta: ['frequency', 'channels']\n",
      "Reduction order for nice/marker/PowerSpectralDensity/theta: ['frequency', 'channels']\n",
      "Reduction order for nice/marker/PowerSpectralDensity/theta: ['frequency', 'channels']\n",
      "Reduction order for nice/marker/PowerSpectralDensity/gamma: ['frequency', 'channels']\n",
      "Reduction order for nice/marker/PowerSpectralDensity/theta: ['frequency', 'channels']\n",
      "Reduction order for nice/marker/PowerSpectralDensity/beta: ['frequency', 'channels']\n",
      "Reduction order for nice/marker/PowerSpectralDensity/beta: ['frequency', 'channels']\n",
      "Running KolmogorovComplexity\n",
      "Elapsed time 0.003315448760986328 sec\n",
      "Reduction order for nice/marker/KolmogorovComplexity/default: ['channels']\n",
      "Filtering  at 10.42 Hz\n",
      "Performing symbolic transformation\n"
     ]
    },
    {
     "name": "stderr",
     "output_type": "stream",
     "text": [
      "[Parallel(n_jobs=24)]: Done  21 out of  24 | elapsed:    3.9s remaining:    0.6s\n",
      "[Parallel(n_jobs=24)]: Done  24 out of  24 | elapsed:    3.9s finished\n"
     ]
    },
    {
     "name": "stdout",
     "output_type": "stream",
     "text": [
      "Reduction order for nice/marker/PermutationEntropy/default: ['channels']\n",
      "Autodetected number of jobs 2\n",
      "Computing CSD\n",
      "Using 10-5 locations for CSD\n",
      "Using 2 jobs\n"
     ]
    },
    {
     "name": "stderr",
     "output_type": "stream",
     "text": [
      "[Parallel(n_jobs=2)]: Using backend LokyBackend with 2 concurrent workers.\n"
     ]
    },
    {
     "name": "stdout",
     "output_type": "stream",
     "text": [
      "Filtering  at 10.42 Hz\n",
      "Reduction order for nice/marker/SymbolicMutualInformation/default: ['channels_y', 'channels']\n",
      "Reduction order for nice/marker/ContingentNegativeVariation/default: ['channels']\n",
      "Reduction order for nice/marker/TimeLockedTopography/p1: ['channels', 'times']\n",
      "Reduction order for nice/marker/TimeLockedTopography/p3a: ['channels', 'times']\n",
      "Reduction order for nice/marker/TimeLockedTopography/p3a: ['channels', 'times']\n",
      "Autodetected number of jobs 24\n",
      "Effective window size : 16.384 (s)\n"
     ]
    },
    {
     "name": "stderr",
     "output_type": "stream",
     "text": [
      "[Parallel(n_jobs=2)]: Done   2 out of   2 | elapsed:    1.6s remaining:    0.0s\n",
      "[Parallel(n_jobs=2)]: Done   2 out of   2 | elapsed:    1.6s finished\n",
      "[Parallel(n_jobs=24)]: Using backend LokyBackend with 24 concurrent workers.\n",
      "[Parallel(n_jobs=24)]: Done   6 out of  24 | elapsed:    3.6s remaining:   10.9s\n",
      "[Parallel(n_jobs=24)]: Done  11 out of  24 | elapsed:    3.7s remaining:    4.3s\n",
      "[Parallel(n_jobs=24)]: Done  16 out of  24 | elapsed:    3.7s remaining:    1.9s\n",
      "[Parallel(n_jobs=24)]: Done  21 out of  24 | elapsed:    3.8s remaining:    0.5s\n"
     ]
    },
    {
     "name": "stdout",
     "output_type": "stream",
     "text": [
      "Reduction order for nice/marker/PowerSpectralDensity/alpha: ['frequency', 'channels']\n",
      "Reduction order for nice/marker/PowerSpectralDensity/alpha: ['frequency', 'channels']\n",
      "Reduction order for nice/marker/PowerSpectralDensity/delta: ['frequency', 'channels']\n",
      "Reduction order for nice/marker/PowerSpectralDensity/delta: ['frequency', 'channels']\n",
      "Reduction order for nice/marker/PowerSpectralDensity/theta: ['frequency', 'channels']\n",
      "Reduction order for nice/marker/PowerSpectralDensity/theta: ['frequency', 'channels']\n",
      "Reduction order for nice/marker/PowerSpectralDensity/gamma: ['frequency', 'channels']\n",
      "Reduction order for nice/marker/PowerSpectralDensity/theta: ['frequency', 'channels']\n",
      "Reduction order for nice/marker/PowerSpectralDensity/beta: ['frequency', 'channels']\n",
      "Reduction order for nice/marker/PowerSpectralDensity/beta: ['frequency', 'channels']\n",
      "Running KolmogorovComplexity\n",
      "Elapsed time 0.021624326705932617 sec\n",
      "Reduction order for nice/marker/KolmogorovComplexity/default: ['channels']\n",
      "Filtering  at 10.42 Hz\n",
      "Performing symbolic transformation\n"
     ]
    },
    {
     "name": "stderr",
     "output_type": "stream",
     "text": [
      "[Parallel(n_jobs=24)]: Done  24 out of  24 | elapsed:    3.9s finished\n"
     ]
    },
    {
     "name": "stdout",
     "output_type": "stream",
     "text": [
      "Reduction order for nice/marker/PermutationEntropy/default: ['channels']\n",
      "Autodetected number of jobs 2\n",
      "Computing CSD\n",
      "Using 10-5 locations for CSD\n",
      "Using 2 jobs\n"
     ]
    },
    {
     "name": "stderr",
     "output_type": "stream",
     "text": [
      "[Parallel(n_jobs=2)]: Using backend LokyBackend with 2 concurrent workers.\n"
     ]
    },
    {
     "name": "stdout",
     "output_type": "stream",
     "text": [
      "Filtering  at 10.42 Hz\n",
      "Reduction order for nice/marker/SymbolicMutualInformation/default: ['channels_y', 'channels']\n",
      "Reduction order for nice/marker/ContingentNegativeVariation/default: ['channels']\n",
      "Reduction order for nice/marker/TimeLockedTopography/p1: ['channels', 'times']\n",
      "Reduction order for nice/marker/TimeLockedTopography/p3a: ['channels', 'times']\n",
      "Reduction order for nice/marker/TimeLockedTopography/p3a: ['channels', 'times']\n",
      "Autodetected number of jobs 24\n",
      "Effective window size : 16.384 (s)\n"
     ]
    },
    {
     "name": "stderr",
     "output_type": "stream",
     "text": [
      "[Parallel(n_jobs=2)]: Done  15 out of  15 | elapsed:    1.7s finished\n",
      "[Parallel(n_jobs=24)]: Using backend LokyBackend with 24 concurrent workers.\n",
      "[Parallel(n_jobs=24)]: Done   6 out of  24 | elapsed:    3.6s remaining:   10.9s\n",
      "[Parallel(n_jobs=24)]: Done  11 out of  24 | elapsed:    3.7s remaining:    4.4s\n",
      "[Parallel(n_jobs=24)]: Done  16 out of  24 | elapsed:    3.8s remaining:    1.9s\n"
     ]
    },
    {
     "name": "stdout",
     "output_type": "stream",
     "text": [
      "Reduction order for nice/marker/PowerSpectralDensity/alpha: ['frequency', 'channels']\n",
      "Reduction order for nice/marker/PowerSpectralDensity/alpha: ['frequency', 'channels']\n",
      "Reduction order for nice/marker/PowerSpectralDensity/delta: ['frequency', 'channels']\n",
      "Reduction order for nice/marker/PowerSpectralDensity/delta: ['frequency', 'channels']\n",
      "Reduction order for nice/marker/PowerSpectralDensity/theta: ['frequency', 'channels']\n",
      "Reduction order for nice/marker/PowerSpectralDensity/theta: ['frequency', 'channels']\n",
      "Reduction order for nice/marker/PowerSpectralDensity/gamma: ['frequency', 'channels']\n",
      "Reduction order for nice/marker/PowerSpectralDensity/theta: ['frequency', 'channels']\n",
      "Reduction order for nice/marker/PowerSpectralDensity/beta: ['frequency', 'channels']\n",
      "Reduction order for nice/marker/PowerSpectralDensity/beta: ['frequency', 'channels']\n",
      "Running KolmogorovComplexity\n",
      "Elapsed time 0.05652022361755371 sec\n"
     ]
    },
    {
     "name": "stderr",
     "output_type": "stream",
     "text": [
      "[Parallel(n_jobs=24)]: Done  21 out of  24 | elapsed:    3.9s remaining:    0.6s\n",
      "[Parallel(n_jobs=24)]: Done  24 out of  24 | elapsed:    4.0s finished\n"
     ]
    },
    {
     "name": "stdout",
     "output_type": "stream",
     "text": [
      "Reduction order for nice/marker/KolmogorovComplexity/default: ['channels']\n",
      "Filtering  at 10.42 Hz\n",
      "Performing symbolic transformation\n",
      "Reduction order for nice/marker/PermutationEntropy/default: ['channels']\n",
      "Autodetected number of jobs 2\n",
      "Computing CSD\n",
      "Using 10-5 locations for CSD\n",
      "Using 2 jobs\n"
     ]
    },
    {
     "name": "stderr",
     "output_type": "stream",
     "text": [
      "[Parallel(n_jobs=2)]: Using backend LokyBackend with 2 concurrent workers.\n"
     ]
    },
    {
     "name": "stdout",
     "output_type": "stream",
     "text": [
      "Filtering  at 10.42 Hz\n"
     ]
    },
    {
     "name": "stderr",
     "output_type": "stream",
     "text": [
      "[Parallel(n_jobs=2)]: Done  18 tasks      | elapsed:    1.7s\n",
      "[Parallel(n_jobs=2)]: Done  39 out of  39 | elapsed:    1.7s finished\n"
     ]
    },
    {
     "name": "stdout",
     "output_type": "stream",
     "text": [
      "Reduction order for nice/marker/SymbolicMutualInformation/default: ['channels_y', 'channels']\n",
      "Reduction order for nice/marker/ContingentNegativeVariation/default: ['channels']\n",
      "Reduction order for nice/marker/TimeLockedTopography/p1: ['channels', 'times']\n",
      "Reduction order for nice/marker/TimeLockedTopography/p3a: ['channels', 'times']\n",
      "Reduction order for nice/marker/TimeLockedTopography/p3a: ['channels', 'times']\n",
      "Autodetected number of jobs 24\n",
      "Effective window size : 16.384 (s)\n"
     ]
    },
    {
     "name": "stderr",
     "output_type": "stream",
     "text": [
      "[Parallel(n_jobs=24)]: Using backend LokyBackend with 24 concurrent workers.\n",
      "[Parallel(n_jobs=24)]: Done   6 out of  24 | elapsed:    4.1s remaining:   12.4s\n",
      "[Parallel(n_jobs=24)]: Done  11 out of  24 | elapsed:    4.2s remaining:    4.9s\n",
      "[Parallel(n_jobs=24)]: Done  16 out of  24 | elapsed:    4.2s remaining:    2.1s\n",
      "[Parallel(n_jobs=24)]: Done  21 out of  24 | elapsed:    4.3s remaining:    0.6s\n"
     ]
    },
    {
     "name": "stdout",
     "output_type": "stream",
     "text": [
      "Reduction order for nice/marker/PowerSpectralDensity/alpha: ['frequency', 'channels']\n",
      "Reduction order for nice/marker/PowerSpectralDensity/alpha: ['frequency', 'channels']\n",
      "Reduction order for nice/marker/PowerSpectralDensity/delta: ['frequency', 'channels']\n",
      "Reduction order for nice/marker/PowerSpectralDensity/delta: ['frequency', 'channels']\n",
      "Reduction order for nice/marker/PowerSpectralDensity/theta: ['frequency', 'channels']\n",
      "Reduction order for nice/marker/PowerSpectralDensity/theta: ['frequency', 'channels']\n",
      "Reduction order for nice/marker/PowerSpectralDensity/gamma: ['frequency', 'channels']\n",
      "Reduction order for nice/marker/PowerSpectralDensity/theta: ['frequency', 'channels']\n",
      "Reduction order for nice/marker/PowerSpectralDensity/beta: ['frequency', 'channels']\n",
      "Reduction order for nice/marker/PowerSpectralDensity/beta: ['frequency', 'channels']\n"
     ]
    },
    {
     "name": "stderr",
     "output_type": "stream",
     "text": [
      "[Parallel(n_jobs=24)]: Done  24 out of  24 | elapsed:    4.3s finished\n"
     ]
    },
    {
     "name": "stdout",
     "output_type": "stream",
     "text": [
      "Running KolmogorovComplexity\n",
      "Elapsed time 0.2646932601928711 sec\n",
      "Reduction order for nice/marker/KolmogorovComplexity/default: ['channels']\n",
      "Filtering  at 10.42 Hz\n",
      "Performing symbolic transformation\n",
      "Reduction order for nice/marker/PermutationEntropy/default: ['channels']\n",
      "Autodetected number of jobs 2\n",
      "Computing CSD\n",
      "Using 10-5 locations for CSD\n",
      "Using 2 jobs\n"
     ]
    },
    {
     "name": "stderr",
     "output_type": "stream",
     "text": [
      "/home/nicolas.bruno/anaconda3/lib/python3.7/site-packages/nice-0.1.dev0-py3.7.egg/nice/algorithms/information_theory/permutation_entropy.py:75: RuntimeWarning: divide by zero encountered in log\n",
      "  pe = np.nan_to_num(-np.nansum(count * np.log(count), axis=1))\n",
      "/home/nicolas.bruno/anaconda3/lib/python3.7/site-packages/nice-0.1.dev0-py3.7.egg/nice/algorithms/information_theory/permutation_entropy.py:75: RuntimeWarning: invalid value encountered in multiply\n",
      "  pe = np.nan_to_num(-np.nansum(count * np.log(count), axis=1))\n",
      "[Parallel(n_jobs=2)]: Using backend LokyBackend with 2 concurrent workers.\n"
     ]
    },
    {
     "name": "stdout",
     "output_type": "stream",
     "text": [
      "Filtering  at 10.42 Hz\n"
     ]
    },
    {
     "name": "stderr",
     "output_type": "stream",
     "text": [
      "[Parallel(n_jobs=2)]: Done  24 tasks      | elapsed:    1.7s\n",
      "[Parallel(n_jobs=2)]: Done 179 out of 179 | elapsed:    1.8s finished\n"
     ]
    },
    {
     "name": "stdout",
     "output_type": "stream",
     "text": [
      "Reduction order for nice/marker/SymbolicMutualInformation/default: ['channels_y', 'channels']\n",
      "Reduction order for nice/marker/ContingentNegativeVariation/default: ['channels']\n",
      "Reduction order for nice/marker/TimeLockedTopography/p1: ['channels', 'times']\n",
      "Reduction order for nice/marker/TimeLockedTopography/p3a: ['channels', 'times']\n",
      "Reduction order for nice/marker/TimeLockedTopography/p3a: ['channels', 'times']\n",
      "Autodetected number of jobs 24\n",
      "Effective window size : 16.384 (s)\n"
     ]
    },
    {
     "name": "stderr",
     "output_type": "stream",
     "text": [
      "[Parallel(n_jobs=24)]: Using backend LokyBackend with 24 concurrent workers.\n",
      "[Parallel(n_jobs=24)]: Done   6 out of  24 | elapsed:    3.6s remaining:   10.8s\n",
      "[Parallel(n_jobs=24)]: Done  11 out of  24 | elapsed:    3.7s remaining:    4.3s\n",
      "[Parallel(n_jobs=24)]: Done  16 out of  24 | elapsed:    3.8s remaining:    1.9s\n"
     ]
    },
    {
     "name": "stdout",
     "output_type": "stream",
     "text": [
      "Reduction order for nice/marker/PowerSpectralDensity/alpha: ['frequency', 'channels']\n",
      "Reduction order for nice/marker/PowerSpectralDensity/alpha: ['frequency', 'channels']\n",
      "Reduction order for nice/marker/PowerSpectralDensity/delta: ['frequency', 'channels']\n",
      "Reduction order for nice/marker/PowerSpectralDensity/delta: ['frequency', 'channels']\n",
      "Reduction order for nice/marker/PowerSpectralDensity/theta: ['frequency', 'channels']\n",
      "Reduction order for nice/marker/PowerSpectralDensity/theta: ['frequency', 'channels']\n",
      "Reduction order for nice/marker/PowerSpectralDensity/gamma: ['frequency', 'channels']\n",
      "Reduction order for nice/marker/PowerSpectralDensity/theta: ['frequency', 'channels']\n",
      "Reduction order for nice/marker/PowerSpectralDensity/beta: ['frequency', 'channels']\n",
      "Reduction order for nice/marker/PowerSpectralDensity/beta: ['frequency', 'channels']\n",
      "Running KolmogorovComplexity\n",
      "Elapsed time 0.007186412811279297 sec\n",
      "Reduction order for nice/marker/KolmogorovComplexity/default: ['channels']\n",
      "Filtering  at 10.42 Hz\n",
      "Performing symbolic transformation\n"
     ]
    },
    {
     "name": "stderr",
     "output_type": "stream",
     "text": [
      "[Parallel(n_jobs=24)]: Done  21 out of  24 | elapsed:    3.8s remaining:    0.5s\n",
      "[Parallel(n_jobs=24)]: Done  24 out of  24 | elapsed:    4.0s finished\n"
     ]
    },
    {
     "name": "stdout",
     "output_type": "stream",
     "text": [
      "Reduction order for nice/marker/PermutationEntropy/default: ['channels']\n",
      "Autodetected number of jobs 2\n",
      "Computing CSD\n",
      "Using 10-5 locations for CSD\n",
      "Using 2 jobs\n"
     ]
    },
    {
     "name": "stderr",
     "output_type": "stream",
     "text": [
      "[Parallel(n_jobs=2)]: Using backend LokyBackend with 2 concurrent workers.\n"
     ]
    },
    {
     "name": "stdout",
     "output_type": "stream",
     "text": [
      "Filtering  at 10.42 Hz\n",
      "Reduction order for nice/marker/SymbolicMutualInformation/default: ['channels_y', 'channels']\n",
      "Reduction order for nice/marker/ContingentNegativeVariation/default: ['channels']\n",
      "Reduction order for nice/marker/TimeLockedTopography/p1: ['channels', 'times']\n",
      "Reduction order for nice/marker/TimeLockedTopography/p3a: ['channels', 'times']\n",
      "Reduction order for nice/marker/TimeLockedTopography/p3a: ['channels', 'times']\n",
      "Autodetected number of jobs 24\n",
      "Effective window size : 16.384 (s)\n"
     ]
    },
    {
     "name": "stderr",
     "output_type": "stream",
     "text": [
      "[Parallel(n_jobs=2)]: Done   5 out of   5 | elapsed:    1.6s finished\n",
      "[Parallel(n_jobs=24)]: Using backend LokyBackend with 24 concurrent workers.\n",
      "[Parallel(n_jobs=24)]: Done   6 out of  24 | elapsed:    3.6s remaining:   10.9s\n",
      "[Parallel(n_jobs=24)]: Done  11 out of  24 | elapsed:    3.7s remaining:    4.4s\n",
      "[Parallel(n_jobs=24)]: Done  16 out of  24 | elapsed:    3.8s remaining:    1.9s\n"
     ]
    },
    {
     "name": "stdout",
     "output_type": "stream",
     "text": [
      "Reduction order for nice/marker/PowerSpectralDensity/alpha: ['frequency', 'channels']\n",
      "Reduction order for nice/marker/PowerSpectralDensity/alpha: ['frequency', 'channels']\n",
      "Reduction order for nice/marker/PowerSpectralDensity/delta: ['frequency', 'channels']\n",
      "Reduction order for nice/marker/PowerSpectralDensity/delta: ['frequency', 'channels']\n",
      "Reduction order for nice/marker/PowerSpectralDensity/theta: ['frequency', 'channels']\n",
      "Reduction order for nice/marker/PowerSpectralDensity/theta: ['frequency', 'channels']\n",
      "Reduction order for nice/marker/PowerSpectralDensity/gamma: ['frequency', 'channels']\n",
      "Reduction order for nice/marker/PowerSpectralDensity/theta: ['frequency', 'channels']\n",
      "Reduction order for nice/marker/PowerSpectralDensity/beta: ['frequency', 'channels']\n",
      "Reduction order for nice/marker/PowerSpectralDensity/beta: ['frequency', 'channels']\n",
      "Running KolmogorovComplexity\n",
      "Elapsed time 0.016275644302368164 sec\n",
      "Reduction order for nice/marker/KolmogorovComplexity/default: ['channels']\n",
      "Filtering  at 10.42 Hz\n",
      "Performing symbolic transformation\n"
     ]
    },
    {
     "name": "stderr",
     "output_type": "stream",
     "text": [
      "[Parallel(n_jobs=24)]: Done  21 out of  24 | elapsed:    3.8s remaining:    0.5s\n",
      "[Parallel(n_jobs=24)]: Done  24 out of  24 | elapsed:    3.9s finished\n"
     ]
    },
    {
     "name": "stdout",
     "output_type": "stream",
     "text": [
      "Reduction order for nice/marker/PermutationEntropy/default: ['channels']\n",
      "Autodetected number of jobs 2\n",
      "Computing CSD\n",
      "Using 10-5 locations for CSD\n",
      "Using 2 jobs\n"
     ]
    },
    {
     "name": "stderr",
     "output_type": "stream",
     "text": [
      "[Parallel(n_jobs=2)]: Using backend LokyBackend with 2 concurrent workers.\n"
     ]
    },
    {
     "name": "stdout",
     "output_type": "stream",
     "text": [
      "Filtering  at 10.42 Hz\n",
      "Reduction order for nice/marker/SymbolicMutualInformation/default: ['channels_y', 'channels']\n",
      "Reduction order for nice/marker/ContingentNegativeVariation/default: ['channels']\n",
      "Reduction order for nice/marker/TimeLockedTopography/p1: ['channels', 'times']\n",
      "Reduction order for nice/marker/TimeLockedTopography/p3a: ['channels', 'times']\n",
      "Reduction order for nice/marker/TimeLockedTopography/p3a: ['channels', 'times']\n",
      "Autodetected number of jobs 24\n",
      "Effective window size : 16.384 (s)\n"
     ]
    },
    {
     "name": "stderr",
     "output_type": "stream",
     "text": [
      "[Parallel(n_jobs=2)]: Done  10 out of  10 | elapsed:    1.6s finished\n",
      "[Parallel(n_jobs=24)]: Using backend LokyBackend with 24 concurrent workers.\n",
      "[Parallel(n_jobs=24)]: Done   6 out of  24 | elapsed:    3.6s remaining:   10.9s\n",
      "[Parallel(n_jobs=24)]: Done  11 out of  24 | elapsed:    3.6s remaining:    4.3s\n",
      "[Parallel(n_jobs=24)]: Done  16 out of  24 | elapsed:    3.7s remaining:    1.9s\n",
      "[Parallel(n_jobs=24)]: Done  21 out of  24 | elapsed:    3.7s remaining:    0.5s\n"
     ]
    },
    {
     "name": "stdout",
     "output_type": "stream",
     "text": [
      "Reduction order for nice/marker/PowerSpectralDensity/alpha: ['frequency', 'channels']\n",
      "Reduction order for nice/marker/PowerSpectralDensity/alpha: ['frequency', 'channels']\n",
      "Reduction order for nice/marker/PowerSpectralDensity/delta: ['frequency', 'channels']\n",
      "Reduction order for nice/marker/PowerSpectralDensity/delta: ['frequency', 'channels']\n",
      "Reduction order for nice/marker/PowerSpectralDensity/theta: ['frequency', 'channels']\n",
      "Reduction order for nice/marker/PowerSpectralDensity/theta: ['frequency', 'channels']\n",
      "Reduction order for nice/marker/PowerSpectralDensity/gamma: ['frequency', 'channels']\n",
      "Reduction order for nice/marker/PowerSpectralDensity/theta: ['frequency', 'channels']\n",
      "Reduction order for nice/marker/PowerSpectralDensity/beta: ['frequency', 'channels']\n",
      "Reduction order for nice/marker/PowerSpectralDensity/beta: ['frequency', 'channels']\n",
      "Running KolmogorovComplexity\n",
      "Elapsed time 0.013173580169677734 sec\n",
      "Reduction order for nice/marker/KolmogorovComplexity/default: ['channels']\n",
      "Filtering  at 10.42 Hz\n",
      "Performing symbolic transformation\n"
     ]
    },
    {
     "name": "stderr",
     "output_type": "stream",
     "text": [
      "[Parallel(n_jobs=24)]: Done  24 out of  24 | elapsed:    3.9s finished\n"
     ]
    },
    {
     "name": "stdout",
     "output_type": "stream",
     "text": [
      "Reduction order for nice/marker/PermutationEntropy/default: ['channels']\n",
      "Autodetected number of jobs 2\n",
      "Computing CSD\n",
      "Using 10-5 locations for CSD\n",
      "Using 2 jobs\n"
     ]
    },
    {
     "name": "stderr",
     "output_type": "stream",
     "text": [
      "[Parallel(n_jobs=2)]: Using backend LokyBackend with 2 concurrent workers.\n"
     ]
    },
    {
     "name": "stdout",
     "output_type": "stream",
     "text": [
      "Filtering  at 10.42 Hz\n",
      "Reduction order for nice/marker/SymbolicMutualInformation/default: ['channels_y', 'channels']\n",
      "Reduction order for nice/marker/ContingentNegativeVariation/default: ['channels']\n",
      "Reduction order for nice/marker/TimeLockedTopography/p1: ['channels', 'times']\n",
      "Reduction order for nice/marker/TimeLockedTopography/p3a: ['channels', 'times']\n",
      "Reduction order for nice/marker/TimeLockedTopography/p3a: ['channels', 'times']\n"
     ]
    },
    {
     "name": "stderr",
     "output_type": "stream",
     "text": [
      "[Parallel(n_jobs=2)]: Done   9 out of   9 | elapsed:    1.6s finished\n"
     ]
    },
    {
     "name": "stdout",
     "output_type": "stream",
     "text": [
      "\n",
      "#########################################\n",
      "Computing markers for participant VP14\n",
      "#########################################\n",
      "\n",
      "Reading /media/nicolas.bruno/63f8a366-34b7-4896-a7ce-b5fb4ee78535/Nico/MW_eeg_data/minmarker/VP14/VP14_evoked_ar_subtracted_epo.fif ...\n",
      "    Found the data of interest:\n",
      "        t =    -200.00 ...     600.00 ms\n",
      "        0 CTF compensation matrices available\n",
      "Not setting metadata\n",
      "Not setting metadata\n",
      "343 matching events found\n",
      "No baseline correction applied\n",
      "0 projection items activated\n",
      "Reading /media/nicolas.bruno/63f8a366-34b7-4896-a7ce-b5fb4ee78535/Nico/MW_eeg_data/minmarker/VP14/VP14_evoked_ar_rereferenced_epo.fif ...\n",
      "    Found the data of interest:\n",
      "        t =    -200.00 ...     600.00 ms\n",
      "        0 CTF compensation matrices available\n",
      "Not setting metadata\n",
      "Not setting metadata\n",
      "343 matching events found\n",
      "No baseline correction applied\n",
      "0 projection items activated\n",
      "Autodetected number of jobs 24\n",
      "Effective window size : 16.384 (s)\n"
     ]
    },
    {
     "name": "stderr",
     "output_type": "stream",
     "text": [
      "[Parallel(n_jobs=24)]: Using backend LokyBackend with 24 concurrent workers.\n",
      "[Parallel(n_jobs=24)]: Done   6 out of  24 | elapsed:    3.8s remaining:   11.5s\n",
      "[Parallel(n_jobs=24)]: Done  11 out of  24 | elapsed:    3.9s remaining:    4.6s\n",
      "[Parallel(n_jobs=24)]: Done  16 out of  24 | elapsed:    3.9s remaining:    2.0s\n",
      "[Parallel(n_jobs=24)]: Done  21 out of  24 | elapsed:    4.0s remaining:    0.6s\n"
     ]
    },
    {
     "name": "stdout",
     "output_type": "stream",
     "text": [
      "Reduction order for nice/marker/PowerSpectralDensity/alpha: ['frequency', 'channels']\n",
      "Reduction order for nice/marker/PowerSpectralDensity/alpha: ['frequency', 'channels']\n",
      "Reduction order for nice/marker/PowerSpectralDensity/delta: ['frequency', 'channels']\n",
      "Reduction order for nice/marker/PowerSpectralDensity/delta: ['frequency', 'channels']\n",
      "Reduction order for nice/marker/PowerSpectralDensity/theta: ['frequency', 'channels']\n",
      "Reduction order for nice/marker/PowerSpectralDensity/theta: ['frequency', 'channels']\n",
      "Reduction order for nice/marker/PowerSpectralDensity/gamma: ['frequency', 'channels']\n",
      "Reduction order for nice/marker/PowerSpectralDensity/theta: ['frequency', 'channels']\n",
      "Reduction order for nice/marker/PowerSpectralDensity/beta: ['frequency', 'channels']\n",
      "Reduction order for nice/marker/PowerSpectralDensity/beta: ['frequency', 'channels']\n",
      "Running KolmogorovComplexity\n",
      "Elapsed time 0.09047102928161621 sec\n",
      "Reduction order for nice/marker/KolmogorovComplexity/default: ['channels']\n",
      "Filtering  at 10.42 Hz\n",
      "Performing symbolic transformation\n",
      "Reduction order for nice/marker/PermutationEntropy/default: ['channels']\n",
      "Autodetected number of jobs 2\n",
      "Computing CSD\n",
      "Using 10-5 locations for CSD\n",
      "Using 2 jobs\n"
     ]
    },
    {
     "name": "stderr",
     "output_type": "stream",
     "text": [
      "[Parallel(n_jobs=24)]: Done  24 out of  24 | elapsed:    4.0s finished\n",
      "[Parallel(n_jobs=2)]: Using backend LokyBackend with 2 concurrent workers.\n"
     ]
    },
    {
     "name": "stdout",
     "output_type": "stream",
     "text": [
      "Filtering  at 10.42 Hz\n"
     ]
    },
    {
     "name": "stderr",
     "output_type": "stream",
     "text": [
      "[Parallel(n_jobs=2)]: Done  31 tasks      | elapsed:    1.6s\n",
      "[Parallel(n_jobs=2)]: Done  63 out of  63 | elapsed:    1.7s finished\n"
     ]
    },
    {
     "name": "stdout",
     "output_type": "stream",
     "text": [
      "Reduction order for nice/marker/SymbolicMutualInformation/default: ['channels_y', 'channels']\n",
      "Reduction order for nice/marker/ContingentNegativeVariation/default: ['channels']\n",
      "Reduction order for nice/marker/TimeLockedTopography/p1: ['channels', 'times']\n",
      "Reduction order for nice/marker/TimeLockedTopography/p3a: ['channels', 'times']\n",
      "Reduction order for nice/marker/TimeLockedTopography/p3a: ['channels', 'times']\n",
      "Autodetected number of jobs 24\n",
      "Effective window size : 16.384 (s)\n"
     ]
    },
    {
     "name": "stderr",
     "output_type": "stream",
     "text": [
      "[Parallel(n_jobs=24)]: Using backend LokyBackend with 24 concurrent workers.\n",
      "[Parallel(n_jobs=24)]: Done   6 out of  24 | elapsed:    3.7s remaining:   11.2s\n",
      "[Parallel(n_jobs=24)]: Done  11 out of  24 | elapsed:    3.8s remaining:    4.5s\n",
      "[Parallel(n_jobs=24)]: Done  16 out of  24 | elapsed:    3.9s remaining:    2.0s\n"
     ]
    },
    {
     "name": "stdout",
     "output_type": "stream",
     "text": [
      "Reduction order for nice/marker/PowerSpectralDensity/alpha: ['frequency', 'channels']\n",
      "Reduction order for nice/marker/PowerSpectralDensity/alpha: ['frequency', 'channels']\n",
      "Reduction order for nice/marker/PowerSpectralDensity/delta: ['frequency', 'channels']\n",
      "Reduction order for nice/marker/PowerSpectralDensity/delta: ['frequency', 'channels']\n",
      "Reduction order for nice/marker/PowerSpectralDensity/theta: ['frequency', 'channels']\n",
      "Reduction order for nice/marker/PowerSpectralDensity/theta: ['frequency', 'channels']\n",
      "Reduction order for nice/marker/PowerSpectralDensity/gamma: ['frequency', 'channels']\n",
      "Reduction order for nice/marker/PowerSpectralDensity/theta: ['frequency', 'channels']\n",
      "Reduction order for nice/marker/PowerSpectralDensity/beta: ['frequency', 'channels']\n",
      "Reduction order for nice/marker/PowerSpectralDensity/beta: ['frequency', 'channels']\n",
      "Running KolmogorovComplexity\n",
      "Elapsed time 0.05486416816711426 sec\n",
      "Reduction order for nice/marker/KolmogorovComplexity/default: ['channels']\n",
      "Filtering  at 10.42 Hz\n"
     ]
    },
    {
     "name": "stderr",
     "output_type": "stream",
     "text": [
      "[Parallel(n_jobs=24)]: Done  21 out of  24 | elapsed:    4.1s remaining:    0.6s\n",
      "[Parallel(n_jobs=24)]: Done  24 out of  24 | elapsed:    4.2s finished\n"
     ]
    },
    {
     "name": "stdout",
     "output_type": "stream",
     "text": [
      "Performing symbolic transformation\n",
      "Reduction order for nice/marker/PermutationEntropy/default: ['channels']\n",
      "Autodetected number of jobs 2\n",
      "Computing CSD\n",
      "Using 10-5 locations for CSD\n",
      "Using 2 jobs\n"
     ]
    },
    {
     "name": "stderr",
     "output_type": "stream",
     "text": [
      "[Parallel(n_jobs=2)]: Using backend LokyBackend with 2 concurrent workers.\n"
     ]
    },
    {
     "name": "stdout",
     "output_type": "stream",
     "text": [
      "Filtering  at 10.42 Hz\n"
     ]
    },
    {
     "name": "stderr",
     "output_type": "stream",
     "text": [
      "[Parallel(n_jobs=2)]: Done  16 tasks      | elapsed:    1.7s\n",
      "[Parallel(n_jobs=2)]: Done  38 out of  38 | elapsed:    1.7s finished\n"
     ]
    },
    {
     "name": "stdout",
     "output_type": "stream",
     "text": [
      "Reduction order for nice/marker/SymbolicMutualInformation/default: ['channels_y', 'channels']\n",
      "Reduction order for nice/marker/ContingentNegativeVariation/default: ['channels']\n",
      "Reduction order for nice/marker/TimeLockedTopography/p1: ['channels', 'times']\n",
      "Reduction order for nice/marker/TimeLockedTopography/p3a: ['channels', 'times']\n",
      "Reduction order for nice/marker/TimeLockedTopography/p3a: ['channels', 'times']\n",
      "Autodetected number of jobs 24\n",
      "Effective window size : 16.384 (s)\n"
     ]
    },
    {
     "name": "stderr",
     "output_type": "stream",
     "text": [
      "[Parallel(n_jobs=24)]: Using backend LokyBackend with 24 concurrent workers.\n",
      "[Parallel(n_jobs=24)]: Done   6 out of  24 | elapsed:    3.7s remaining:   11.1s\n",
      "[Parallel(n_jobs=24)]: Done  11 out of  24 | elapsed:    3.7s remaining:    4.4s\n",
      "[Parallel(n_jobs=24)]: Done  16 out of  24 | elapsed:    3.8s remaining:    1.9s\n",
      "[Parallel(n_jobs=24)]: Done  21 out of  24 | elapsed:    3.9s remaining:    0.6s\n"
     ]
    },
    {
     "name": "stdout",
     "output_type": "stream",
     "text": [
      "Reduction order for nice/marker/PowerSpectralDensity/alpha: ['frequency', 'channels']\n",
      "Reduction order for nice/marker/PowerSpectralDensity/alpha: ['frequency', 'channels']\n",
      "Reduction order for nice/marker/PowerSpectralDensity/delta: ['frequency', 'channels']\n",
      "Reduction order for nice/marker/PowerSpectralDensity/delta: ['frequency', 'channels']\n",
      "Reduction order for nice/marker/PowerSpectralDensity/theta: ['frequency', 'channels']\n",
      "Reduction order for nice/marker/PowerSpectralDensity/theta: ['frequency', 'channels']\n",
      "Reduction order for nice/marker/PowerSpectralDensity/gamma: ['frequency', 'channels']\n",
      "Reduction order for nice/marker/PowerSpectralDensity/theta: ['frequency', 'channels']\n",
      "Reduction order for nice/marker/PowerSpectralDensity/beta: ['frequency', 'channels']\n",
      "Reduction order for nice/marker/PowerSpectralDensity/beta: ['frequency', 'channels']\n",
      "Running KolmogorovComplexity\n",
      "Elapsed time 0.014291048049926758 sec\n",
      "Reduction order for nice/marker/KolmogorovComplexity/default: ['channels']\n",
      "Filtering  at 10.42 Hz\n",
      "Performing symbolic transformation\n"
     ]
    },
    {
     "name": "stderr",
     "output_type": "stream",
     "text": [
      "[Parallel(n_jobs=24)]: Done  24 out of  24 | elapsed:    4.0s finished\n"
     ]
    },
    {
     "name": "stdout",
     "output_type": "stream",
     "text": [
      "Reduction order for nice/marker/PermutationEntropy/default: ['channels']\n",
      "Autodetected number of jobs 2\n",
      "Computing CSD\n",
      "Using 10-5 locations for CSD\n",
      "Using 2 jobs\n"
     ]
    },
    {
     "name": "stderr",
     "output_type": "stream",
     "text": [
      "[Parallel(n_jobs=2)]: Using backend LokyBackend with 2 concurrent workers.\n"
     ]
    },
    {
     "name": "stdout",
     "output_type": "stream",
     "text": [
      "Filtering  at 10.42 Hz\n",
      "Reduction order for nice/marker/SymbolicMutualInformation/default: ['channels_y', 'channels']\n",
      "Reduction order for nice/marker/ContingentNegativeVariation/default: ['channels']\n",
      "Reduction order for nice/marker/TimeLockedTopography/p1: ['channels', 'times']\n",
      "Reduction order for nice/marker/TimeLockedTopography/p3a: ['channels', 'times']\n",
      "Reduction order for nice/marker/TimeLockedTopography/p3a: ['channels', 'times']\n",
      "Autodetected number of jobs 24\n",
      "Effective window size : 16.384 (s)\n"
     ]
    },
    {
     "name": "stderr",
     "output_type": "stream",
     "text": [
      "[Parallel(n_jobs=2)]: Done   8 out of   8 | elapsed:    1.7s finished\n",
      "[Parallel(n_jobs=24)]: Using backend LokyBackend with 24 concurrent workers.\n",
      "[Parallel(n_jobs=24)]: Done   6 out of  24 | elapsed:    3.8s remaining:   11.3s\n",
      "[Parallel(n_jobs=24)]: Done  11 out of  24 | elapsed:    3.8s remaining:    4.5s\n",
      "[Parallel(n_jobs=24)]: Done  16 out of  24 | elapsed:    3.9s remaining:    1.9s\n",
      "[Parallel(n_jobs=24)]: Done  21 out of  24 | elapsed:    3.9s remaining:    0.6s\n"
     ]
    },
    {
     "name": "stdout",
     "output_type": "stream",
     "text": [
      "Reduction order for nice/marker/PowerSpectralDensity/alpha: ['frequency', 'channels']\n",
      "Reduction order for nice/marker/PowerSpectralDensity/alpha: ['frequency', 'channels']\n",
      "Reduction order for nice/marker/PowerSpectralDensity/delta: ['frequency', 'channels']\n",
      "Reduction order for nice/marker/PowerSpectralDensity/delta: ['frequency', 'channels']\n",
      "Reduction order for nice/marker/PowerSpectralDensity/theta: ['frequency', 'channels']\n",
      "Reduction order for nice/marker/PowerSpectralDensity/theta: ['frequency', 'channels']\n",
      "Reduction order for nice/marker/PowerSpectralDensity/gamma: ['frequency', 'channels']\n",
      "Reduction order for nice/marker/PowerSpectralDensity/theta: ['frequency', 'channels']\n",
      "Reduction order for nice/marker/PowerSpectralDensity/beta: ['frequency', 'channels']\n",
      "Reduction order for nice/marker/PowerSpectralDensity/beta: ['frequency', 'channels']\n",
      "Running KolmogorovComplexity\n",
      "Elapsed time 0.0034384727478027344 sec\n",
      "Reduction order for nice/marker/KolmogorovComplexity/default: ['channels']\n",
      "Filtering  at 10.42 Hz\n",
      "Performing symbolic transformation\n"
     ]
    },
    {
     "name": "stderr",
     "output_type": "stream",
     "text": [
      "[Parallel(n_jobs=24)]: Done  24 out of  24 | elapsed:    4.0s finished\n"
     ]
    },
    {
     "name": "stdout",
     "output_type": "stream",
     "text": [
      "Reduction order for nice/marker/PermutationEntropy/default: ['channels']\n",
      "Autodetected number of jobs 2\n",
      "Computing CSD\n",
      "Using 10-5 locations for CSD\n",
      "Using 2 jobs\n"
     ]
    },
    {
     "name": "stderr",
     "output_type": "stream",
     "text": [
      "[Parallel(n_jobs=2)]: Using backend LokyBackend with 2 concurrent workers.\n"
     ]
    },
    {
     "name": "stdout",
     "output_type": "stream",
     "text": [
      "Filtering  at 10.42 Hz\n",
      "Reduction order for nice/marker/SymbolicMutualInformation/default: ['channels_y', 'channels']\n",
      "Reduction order for nice/marker/ContingentNegativeVariation/default: ['channels']\n",
      "Reduction order for nice/marker/TimeLockedTopography/p1: ['channels', 'times']\n",
      "Reduction order for nice/marker/TimeLockedTopography/p3a: ['channels', 'times']\n",
      "Reduction order for nice/marker/TimeLockedTopography/p3a: ['channels', 'times']\n",
      "Autodetected number of jobs 24\n",
      "Effective window size : 16.384 (s)\n"
     ]
    },
    {
     "name": "stderr",
     "output_type": "stream",
     "text": [
      "[Parallel(n_jobs=2)]: Done   2 out of   2 | elapsed:    1.6s remaining:    0.0s\n",
      "[Parallel(n_jobs=2)]: Done   2 out of   2 | elapsed:    1.6s finished\n",
      "[Parallel(n_jobs=24)]: Using backend LokyBackend with 24 concurrent workers.\n",
      "[Parallel(n_jobs=24)]: Done   6 out of  24 | elapsed:    3.6s remaining:   10.9s\n",
      "[Parallel(n_jobs=24)]: Done  11 out of  24 | elapsed:    3.7s remaining:    4.4s\n",
      "[Parallel(n_jobs=24)]: Done  16 out of  24 | elapsed:    3.8s remaining:    1.9s\n",
      "[Parallel(n_jobs=24)]: Done  21 out of  24 | elapsed:    3.8s remaining:    0.5s\n"
     ]
    },
    {
     "name": "stdout",
     "output_type": "stream",
     "text": [
      "Reduction order for nice/marker/PowerSpectralDensity/alpha: ['frequency', 'channels']\n",
      "Reduction order for nice/marker/PowerSpectralDensity/alpha: ['frequency', 'channels']\n",
      "Reduction order for nice/marker/PowerSpectralDensity/delta: ['frequency', 'channels']\n",
      "Reduction order for nice/marker/PowerSpectralDensity/delta: ['frequency', 'channels']\n",
      "Reduction order for nice/marker/PowerSpectralDensity/theta: ['frequency', 'channels']\n",
      "Reduction order for nice/marker/PowerSpectralDensity/theta: ['frequency', 'channels']\n",
      "Reduction order for nice/marker/PowerSpectralDensity/gamma: ['frequency', 'channels']\n",
      "Reduction order for nice/marker/PowerSpectralDensity/theta: ['frequency', 'channels']\n",
      "Reduction order for nice/marker/PowerSpectralDensity/beta: ['frequency', 'channels']\n",
      "Reduction order for nice/marker/PowerSpectralDensity/beta: ['frequency', 'channels']\n",
      "Running KolmogorovComplexity\n",
      "Elapsed time 0.023951292037963867 sec\n",
      "Reduction order for nice/marker/KolmogorovComplexity/default: ['channels']\n",
      "Filtering  at 10.42 Hz\n",
      "Performing symbolic transformation\n"
     ]
    },
    {
     "name": "stderr",
     "output_type": "stream",
     "text": [
      "[Parallel(n_jobs=24)]: Done  24 out of  24 | elapsed:    3.9s finished\n"
     ]
    },
    {
     "name": "stdout",
     "output_type": "stream",
     "text": [
      "Reduction order for nice/marker/PermutationEntropy/default: ['channels']\n",
      "Autodetected number of jobs 2\n",
      "Computing CSD\n",
      "Using 10-5 locations for CSD\n",
      "Using 2 jobs\n"
     ]
    },
    {
     "name": "stderr",
     "output_type": "stream",
     "text": [
      "[Parallel(n_jobs=2)]: Using backend LokyBackend with 2 concurrent workers.\n"
     ]
    },
    {
     "name": "stdout",
     "output_type": "stream",
     "text": [
      "Filtering  at 10.42 Hz\n",
      "Reduction order for nice/marker/SymbolicMutualInformation/default: ['channels_y', 'channels']\n",
      "Reduction order for nice/marker/ContingentNegativeVariation/default: ['channels']\n",
      "Reduction order for nice/marker/TimeLockedTopography/p1: ['channels', 'times']\n",
      "Reduction order for nice/marker/TimeLockedTopography/p3a: ['channels', 'times']\n",
      "Reduction order for nice/marker/TimeLockedTopography/p3a: ['channels', 'times']\n",
      "Autodetected number of jobs 24\n",
      "Effective window size : 16.384 (s)\n"
     ]
    },
    {
     "name": "stderr",
     "output_type": "stream",
     "text": [
      "[Parallel(n_jobs=2)]: Done  15 out of  15 | elapsed:    1.7s finished\n",
      "[Parallel(n_jobs=24)]: Using backend LokyBackend with 24 concurrent workers.\n",
      "[Parallel(n_jobs=24)]: Done   6 out of  24 | elapsed:    4.0s remaining:   12.0s\n",
      "[Parallel(n_jobs=24)]: Done  11 out of  24 | elapsed:    4.1s remaining:    4.8s\n",
      "[Parallel(n_jobs=24)]: Done  16 out of  24 | elapsed:    4.1s remaining:    2.1s\n",
      "[Parallel(n_jobs=24)]: Done  21 out of  24 | elapsed:    4.2s remaining:    0.6s\n"
     ]
    },
    {
     "name": "stdout",
     "output_type": "stream",
     "text": [
      "Reduction order for nice/marker/PowerSpectralDensity/alpha: ['frequency', 'channels']\n",
      "Reduction order for nice/marker/PowerSpectralDensity/alpha: ['frequency', 'channels']\n",
      "Reduction order for nice/marker/PowerSpectralDensity/delta: ['frequency', 'channels']\n",
      "Reduction order for nice/marker/PowerSpectralDensity/delta: ['frequency', 'channels']\n",
      "Reduction order for nice/marker/PowerSpectralDensity/theta: ['frequency', 'channels']\n",
      "Reduction order for nice/marker/PowerSpectralDensity/theta: ['frequency', 'channels']\n",
      "Reduction order for nice/marker/PowerSpectralDensity/gamma: ['frequency', 'channels']\n",
      "Reduction order for nice/marker/PowerSpectralDensity/theta: ['frequency', 'channels']\n",
      "Reduction order for nice/marker/PowerSpectralDensity/beta: ['frequency', 'channels']\n",
      "Reduction order for nice/marker/PowerSpectralDensity/beta: ['frequency', 'channels']\n",
      "Running KolmogorovComplexity\n",
      "Elapsed time 0.18994569778442383 sec\n"
     ]
    },
    {
     "name": "stderr",
     "output_type": "stream",
     "text": [
      "[Parallel(n_jobs=24)]: Done  24 out of  24 | elapsed:    4.2s finished\n"
     ]
    },
    {
     "name": "stdout",
     "output_type": "stream",
     "text": [
      "Reduction order for nice/marker/KolmogorovComplexity/default: ['channels']\n",
      "Filtering  at 10.42 Hz\n",
      "Performing symbolic transformation\n",
      "Reduction order for nice/marker/PermutationEntropy/default: ['channels']\n",
      "Autodetected number of jobs 2\n",
      "Computing CSD\n",
      "Using 10-5 locations for CSD\n",
      "Using 2 jobs\n"
     ]
    },
    {
     "name": "stderr",
     "output_type": "stream",
     "text": [
      "/home/nicolas.bruno/anaconda3/lib/python3.7/site-packages/nice-0.1.dev0-py3.7.egg/nice/algorithms/information_theory/permutation_entropy.py:75: RuntimeWarning: divide by zero encountered in log\n",
      "  pe = np.nan_to_num(-np.nansum(count * np.log(count), axis=1))\n",
      "/home/nicolas.bruno/anaconda3/lib/python3.7/site-packages/nice-0.1.dev0-py3.7.egg/nice/algorithms/information_theory/permutation_entropy.py:75: RuntimeWarning: invalid value encountered in multiply\n",
      "  pe = np.nan_to_num(-np.nansum(count * np.log(count), axis=1))\n",
      "[Parallel(n_jobs=2)]: Using backend LokyBackend with 2 concurrent workers.\n"
     ]
    },
    {
     "name": "stdout",
     "output_type": "stream",
     "text": [
      "Filtering  at 10.42 Hz\n"
     ]
    },
    {
     "name": "stderr",
     "output_type": "stream",
     "text": [
      "[Parallel(n_jobs=2)]: Done  18 tasks      | elapsed:    1.7s\n",
      "[Parallel(n_jobs=2)]: Done 133 out of 133 | elapsed:    1.9s finished\n"
     ]
    },
    {
     "name": "stdout",
     "output_type": "stream",
     "text": [
      "Reduction order for nice/marker/SymbolicMutualInformation/default: ['channels_y', 'channels']\n",
      "Reduction order for nice/marker/ContingentNegativeVariation/default: ['channels']\n",
      "Reduction order for nice/marker/TimeLockedTopography/p1: ['channels', 'times']\n",
      "Reduction order for nice/marker/TimeLockedTopography/p3a: ['channels', 'times']\n",
      "Reduction order for nice/marker/TimeLockedTopography/p3a: ['channels', 'times']\n",
      "Autodetected number of jobs 24\n",
      "Effective window size : 16.384 (s)\n"
     ]
    },
    {
     "name": "stderr",
     "output_type": "stream",
     "text": [
      "[Parallel(n_jobs=24)]: Using backend LokyBackend with 24 concurrent workers.\n",
      "[Parallel(n_jobs=24)]: Done   6 out of  24 | elapsed:    3.9s remaining:   11.7s\n",
      "[Parallel(n_jobs=24)]: Done  11 out of  24 | elapsed:    3.9s remaining:    4.7s\n",
      "[Parallel(n_jobs=24)]: Done  16 out of  24 | elapsed:    4.0s remaining:    2.0s\n",
      "[Parallel(n_jobs=24)]: Done  21 out of  24 | elapsed:    4.1s remaining:    0.6s\n"
     ]
    },
    {
     "name": "stdout",
     "output_type": "stream",
     "text": [
      "Reduction order for nice/marker/PowerSpectralDensity/alpha: ['frequency', 'channels']\n",
      "Reduction order for nice/marker/PowerSpectralDensity/alpha: ['frequency', 'channels']\n",
      "Reduction order for nice/marker/PowerSpectralDensity/delta: ['frequency', 'channels']\n",
      "Reduction order for nice/marker/PowerSpectralDensity/delta: ['frequency', 'channels']\n",
      "Reduction order for nice/marker/PowerSpectralDensity/theta: ['frequency', 'channels']\n",
      "Reduction order for nice/marker/PowerSpectralDensity/theta: ['frequency', 'channels']\n",
      "Reduction order for nice/marker/PowerSpectralDensity/gamma: ['frequency', 'channels']\n",
      "Reduction order for nice/marker/PowerSpectralDensity/theta: ['frequency', 'channels']\n",
      "Reduction order for nice/marker/PowerSpectralDensity/beta: ['frequency', 'channels']\n",
      "Reduction order for nice/marker/PowerSpectralDensity/beta: ['frequency', 'channels']\n",
      "Running KolmogorovComplexity\n",
      "Elapsed time 0.07598710060119629 sec\n",
      "Reduction order for nice/marker/KolmogorovComplexity/default: ['channels']\n",
      "Filtering  at 10.42 Hz\n",
      "Performing symbolic transformation\n"
     ]
    },
    {
     "name": "stderr",
     "output_type": "stream",
     "text": [
      "[Parallel(n_jobs=24)]: Done  24 out of  24 | elapsed:    4.1s finished\n"
     ]
    },
    {
     "name": "stdout",
     "output_type": "stream",
     "text": [
      "Reduction order for nice/marker/PermutationEntropy/default: ['channels']\n",
      "Autodetected number of jobs 2\n",
      "Computing CSD\n",
      "Using 10-5 locations for CSD\n",
      "Using 2 jobs\n"
     ]
    },
    {
     "name": "stderr",
     "output_type": "stream",
     "text": [
      "[Parallel(n_jobs=2)]: Using backend LokyBackend with 2 concurrent workers.\n"
     ]
    },
    {
     "name": "stdout",
     "output_type": "stream",
     "text": [
      "Filtering  at 10.42 Hz\n"
     ]
    },
    {
     "name": "stderr",
     "output_type": "stream",
     "text": [
      "[Parallel(n_jobs=2)]: Done  18 tasks      | elapsed:    1.7s\n",
      "[Parallel(n_jobs=2)]: Done  53 out of  53 | elapsed:    1.8s finished\n"
     ]
    },
    {
     "name": "stdout",
     "output_type": "stream",
     "text": [
      "Reduction order for nice/marker/SymbolicMutualInformation/default: ['channels_y', 'channels']\n",
      "Reduction order for nice/marker/ContingentNegativeVariation/default: ['channels']\n",
      "Reduction order for nice/marker/TimeLockedTopography/p1: ['channels', 'times']\n",
      "Reduction order for nice/marker/TimeLockedTopography/p3a: ['channels', 'times']\n",
      "Reduction order for nice/marker/TimeLockedTopography/p3a: ['channels', 'times']\n",
      "Autodetected number of jobs 24\n",
      "Effective window size : 16.384 (s)\n"
     ]
    },
    {
     "name": "stderr",
     "output_type": "stream",
     "text": [
      "[Parallel(n_jobs=24)]: Using backend LokyBackend with 24 concurrent workers.\n",
      "[Parallel(n_jobs=24)]: Done   6 out of  24 | elapsed:    3.6s remaining:   10.8s\n",
      "[Parallel(n_jobs=24)]: Done  11 out of  24 | elapsed:    3.6s remaining:    4.3s\n",
      "[Parallel(n_jobs=24)]: Done  16 out of  24 | elapsed:    3.7s remaining:    1.9s\n",
      "[Parallel(n_jobs=24)]: Done  21 out of  24 | elapsed:    3.8s remaining:    0.5s\n"
     ]
    },
    {
     "name": "stdout",
     "output_type": "stream",
     "text": [
      "Reduction order for nice/marker/PowerSpectralDensity/alpha: ['frequency', 'channels']\n",
      "Reduction order for nice/marker/PowerSpectralDensity/alpha: ['frequency', 'channels']\n",
      "Reduction order for nice/marker/PowerSpectralDensity/delta: ['frequency', 'channels']\n",
      "Reduction order for nice/marker/PowerSpectralDensity/delta: ['frequency', 'channels']\n",
      "Reduction order for nice/marker/PowerSpectralDensity/theta: ['frequency', 'channels']\n",
      "Reduction order for nice/marker/PowerSpectralDensity/theta: ['frequency', 'channels']\n",
      "Reduction order for nice/marker/PowerSpectralDensity/gamma: ['frequency', 'channels']\n",
      "Reduction order for nice/marker/PowerSpectralDensity/theta: ['frequency', 'channels']\n",
      "Reduction order for nice/marker/PowerSpectralDensity/beta: ['frequency', 'channels']\n",
      "Reduction order for nice/marker/PowerSpectralDensity/beta: ['frequency', 'channels']\n",
      "Running KolmogorovComplexity\n",
      "Elapsed time 0.008287429809570312 sec\n",
      "Reduction order for nice/marker/KolmogorovComplexity/default: ['channels']\n",
      "Filtering  at 10.42 Hz\n",
      "Performing symbolic transformation\n"
     ]
    },
    {
     "name": "stderr",
     "output_type": "stream",
     "text": [
      "[Parallel(n_jobs=24)]: Done  24 out of  24 | elapsed:    3.9s finished\n"
     ]
    },
    {
     "name": "stdout",
     "output_type": "stream",
     "text": [
      "Reduction order for nice/marker/PermutationEntropy/default: ['channels']\n",
      "Autodetected number of jobs 2\n",
      "Computing CSD\n",
      "Using 10-5 locations for CSD\n",
      "Using 2 jobs\n"
     ]
    },
    {
     "name": "stderr",
     "output_type": "stream",
     "text": [
      "[Parallel(n_jobs=2)]: Using backend LokyBackend with 2 concurrent workers.\n"
     ]
    },
    {
     "name": "stdout",
     "output_type": "stream",
     "text": [
      "Filtering  at 10.42 Hz\n",
      "Reduction order for nice/marker/SymbolicMutualInformation/default: ['channels_y', 'channels']\n",
      "Reduction order for nice/marker/ContingentNegativeVariation/default: ['channels']\n",
      "Reduction order for nice/marker/TimeLockedTopography/p1: ['channels', 'times']\n",
      "Reduction order for nice/marker/TimeLockedTopography/p3a: ['channels', 'times']\n",
      "Reduction order for nice/marker/TimeLockedTopography/p3a: ['channels', 'times']\n",
      "Autodetected number of jobs 24\n",
      "Effective window size : 16.384 (s)\n"
     ]
    },
    {
     "name": "stderr",
     "output_type": "stream",
     "text": [
      "[Parallel(n_jobs=2)]: Done   4 out of   4 | elapsed:    1.7s remaining:    0.0s\n",
      "[Parallel(n_jobs=2)]: Done   4 out of   4 | elapsed:    1.7s finished\n",
      "[Parallel(n_jobs=24)]: Using backend LokyBackend with 24 concurrent workers.\n",
      "[Parallel(n_jobs=24)]: Done   6 out of  24 | elapsed:    3.7s remaining:   11.1s\n",
      "[Parallel(n_jobs=24)]: Done  11 out of  24 | elapsed:    3.7s remaining:    4.4s\n",
      "[Parallel(n_jobs=24)]: Done  16 out of  24 | elapsed:    3.8s remaining:    1.9s\n",
      "[Parallel(n_jobs=24)]: Done  21 out of  24 | elapsed:    3.9s remaining:    0.6s\n"
     ]
    },
    {
     "name": "stdout",
     "output_type": "stream",
     "text": [
      "Reduction order for nice/marker/PowerSpectralDensity/alpha: ['frequency', 'channels']\n",
      "Reduction order for nice/marker/PowerSpectralDensity/alpha: ['frequency', 'channels']\n",
      "Reduction order for nice/marker/PowerSpectralDensity/delta: ['frequency', 'channels']\n",
      "Reduction order for nice/marker/PowerSpectralDensity/delta: ['frequency', 'channels']\n",
      "Reduction order for nice/marker/PowerSpectralDensity/theta: ['frequency', 'channels']\n",
      "Reduction order for nice/marker/PowerSpectralDensity/theta: ['frequency', 'channels']\n",
      "Reduction order for nice/marker/PowerSpectralDensity/gamma: ['frequency', 'channels']\n",
      "Reduction order for nice/marker/PowerSpectralDensity/theta: ['frequency', 'channels']\n",
      "Reduction order for nice/marker/PowerSpectralDensity/beta: ['frequency', 'channels']\n",
      "Reduction order for nice/marker/PowerSpectralDensity/beta: ['frequency', 'channels']\n",
      "Running KolmogorovComplexity\n",
      "Elapsed time 0.0071642398834228516 sec\n",
      "Reduction order for nice/marker/KolmogorovComplexity/default: ['channels']\n",
      "Filtering  at 10.42 Hz\n",
      "Performing symbolic transformation\n"
     ]
    },
    {
     "name": "stderr",
     "output_type": "stream",
     "text": [
      "[Parallel(n_jobs=24)]: Done  24 out of  24 | elapsed:    3.9s finished\n"
     ]
    },
    {
     "name": "stdout",
     "output_type": "stream",
     "text": [
      "Reduction order for nice/marker/PermutationEntropy/default: ['channels']\n",
      "Autodetected number of jobs 2\n",
      "Computing CSD\n",
      "Using 10-5 locations for CSD\n",
      "Using 2 jobs\n"
     ]
    },
    {
     "name": "stderr",
     "output_type": "stream",
     "text": [
      "[Parallel(n_jobs=2)]: Using backend LokyBackend with 2 concurrent workers.\n"
     ]
    },
    {
     "name": "stdout",
     "output_type": "stream",
     "text": [
      "Filtering  at 10.42 Hz\n",
      "Reduction order for nice/marker/SymbolicMutualInformation/default: ['channels_y', 'channels']\n",
      "Reduction order for nice/marker/ContingentNegativeVariation/default: ['channels']\n",
      "Reduction order for nice/marker/TimeLockedTopography/p1: ['channels', 'times']\n",
      "Reduction order for nice/marker/TimeLockedTopography/p3a: ['channels', 'times']\n",
      "Reduction order for nice/marker/TimeLockedTopography/p3a: ['channels', 'times']\n",
      "\n",
      "#########################################\n",
      "Computing markers for participant VP18\n",
      "#########################################\n",
      "\n",
      "Reading /media/nicolas.bruno/63f8a366-34b7-4896-a7ce-b5fb4ee78535/Nico/MW_eeg_data/minmarker/VP18/VP18_evoked_ar_subtracted_epo.fif ...\n",
      "    Found the data of interest:\n",
      "        t =    -200.00 ...     600.00 ms\n",
      "        0 CTF compensation matrices available\n",
      "Not setting metadata\n",
      "Not setting metadata\n",
      "246 matching events found\n",
      "No baseline correction applied\n"
     ]
    },
    {
     "name": "stderr",
     "output_type": "stream",
     "text": [
      "[Parallel(n_jobs=2)]: Done   5 out of   5 | elapsed:    1.7s finished\n"
     ]
    },
    {
     "name": "stdout",
     "output_type": "stream",
     "text": [
      "0 projection items activated\n",
      "Reading /media/nicolas.bruno/63f8a366-34b7-4896-a7ce-b5fb4ee78535/Nico/MW_eeg_data/minmarker/VP18/VP18_evoked_ar_rereferenced_epo.fif ...\n",
      "    Found the data of interest:\n",
      "        t =    -200.00 ...     600.00 ms\n",
      "        0 CTF compensation matrices available\n",
      "Not setting metadata\n",
      "Not setting metadata\n",
      "246 matching events found\n",
      "No baseline correction applied\n",
      "0 projection items activated\n",
      "Autodetected number of jobs 24\n",
      "Effective window size : 16.384 (s)\n"
     ]
    },
    {
     "name": "stderr",
     "output_type": "stream",
     "text": [
      "[Parallel(n_jobs=24)]: Using backend LokyBackend with 24 concurrent workers.\n",
      "[Parallel(n_jobs=24)]: Done   6 out of  24 | elapsed:    3.7s remaining:   11.2s\n",
      "[Parallel(n_jobs=24)]: Done  11 out of  24 | elapsed:    3.8s remaining:    4.5s\n",
      "[Parallel(n_jobs=24)]: Done  16 out of  24 | elapsed:    3.9s remaining:    1.9s\n"
     ]
    },
    {
     "name": "stdout",
     "output_type": "stream",
     "text": [
      "Reduction order for nice/marker/PowerSpectralDensity/alpha: ['frequency', 'channels']\n",
      "Reduction order for nice/marker/PowerSpectralDensity/alpha: ['frequency', 'channels']\n",
      "Reduction order for nice/marker/PowerSpectralDensity/delta: ['frequency', 'channels']\n",
      "Reduction order for nice/marker/PowerSpectralDensity/delta: ['frequency', 'channels']\n",
      "Reduction order for nice/marker/PowerSpectralDensity/theta: ['frequency', 'channels']\n",
      "Reduction order for nice/marker/PowerSpectralDensity/theta: ['frequency', 'channels']\n",
      "Reduction order for nice/marker/PowerSpectralDensity/gamma: ['frequency', 'channels']\n",
      "Reduction order for nice/marker/PowerSpectralDensity/theta: ['frequency', 'channels']\n",
      "Reduction order for nice/marker/PowerSpectralDensity/beta: ['frequency', 'channels']\n",
      "Reduction order for nice/marker/PowerSpectralDensity/beta: ['frequency', 'channels']\n",
      "Running KolmogorovComplexity\n",
      "Elapsed time 0.09112715721130371 sec\n"
     ]
    },
    {
     "name": "stderr",
     "output_type": "stream",
     "text": [
      "[Parallel(n_jobs=24)]: Done  21 out of  24 | elapsed:    3.9s remaining:    0.6s\n",
      "[Parallel(n_jobs=24)]: Done  24 out of  24 | elapsed:    4.0s finished\n"
     ]
    },
    {
     "name": "stdout",
     "output_type": "stream",
     "text": [
      "Reduction order for nice/marker/KolmogorovComplexity/default: ['channels']\n",
      "Filtering  at 10.42 Hz\n",
      "Performing symbolic transformation\n",
      "Reduction order for nice/marker/PermutationEntropy/default: ['channels']\n",
      "Autodetected number of jobs 2\n",
      "Computing CSD\n",
      "Using 10-5 locations for CSD\n",
      "Using 2 jobs\n"
     ]
    },
    {
     "name": "stderr",
     "output_type": "stream",
     "text": [
      "[Parallel(n_jobs=2)]: Using backend LokyBackend with 2 concurrent workers.\n"
     ]
    },
    {
     "name": "stdout",
     "output_type": "stream",
     "text": [
      "Filtering  at 10.42 Hz\n"
     ]
    },
    {
     "name": "stderr",
     "output_type": "stream",
     "text": [
      "[Parallel(n_jobs=2)]: Done  18 tasks      | elapsed:    1.7s\n",
      "[Parallel(n_jobs=2)]: Done  63 out of  63 | elapsed:    1.8s finished\n"
     ]
    },
    {
     "name": "stdout",
     "output_type": "stream",
     "text": [
      "Reduction order for nice/marker/SymbolicMutualInformation/default: ['channels_y', 'channels']\n",
      "Reduction order for nice/marker/ContingentNegativeVariation/default: ['channels']\n",
      "Reduction order for nice/marker/TimeLockedTopography/p1: ['channels', 'times']\n",
      "Reduction order for nice/marker/TimeLockedTopography/p3a: ['channels', 'times']\n",
      "Reduction order for nice/marker/TimeLockedTopography/p3a: ['channels', 'times']\n",
      "Autodetected number of jobs 24\n",
      "Effective window size : 16.384 (s)\n"
     ]
    },
    {
     "name": "stderr",
     "output_type": "stream",
     "text": [
      "[Parallel(n_jobs=24)]: Using backend LokyBackend with 24 concurrent workers.\n",
      "[Parallel(n_jobs=24)]: Done   6 out of  24 | elapsed:    3.7s remaining:   11.0s\n",
      "[Parallel(n_jobs=24)]: Done  11 out of  24 | elapsed:    3.7s remaining:    4.4s\n",
      "[Parallel(n_jobs=24)]: Done  16 out of  24 | elapsed:    3.8s remaining:    1.9s\n",
      "[Parallel(n_jobs=24)]: Done  21 out of  24 | elapsed:    3.8s remaining:    0.5s\n"
     ]
    },
    {
     "name": "stdout",
     "output_type": "stream",
     "text": [
      "Reduction order for nice/marker/PowerSpectralDensity/alpha: ['frequency', 'channels']\n",
      "Reduction order for nice/marker/PowerSpectralDensity/alpha: ['frequency', 'channels']\n",
      "Reduction order for nice/marker/PowerSpectralDensity/delta: ['frequency', 'channels']\n",
      "Reduction order for nice/marker/PowerSpectralDensity/delta: ['frequency', 'channels']\n",
      "Reduction order for nice/marker/PowerSpectralDensity/theta: ['frequency', 'channels']\n",
      "Reduction order for nice/marker/PowerSpectralDensity/theta: ['frequency', 'channels']\n",
      "Reduction order for nice/marker/PowerSpectralDensity/gamma: ['frequency', 'channels']\n",
      "Reduction order for nice/marker/PowerSpectralDensity/theta: ['frequency', 'channels']\n",
      "Reduction order for nice/marker/PowerSpectralDensity/beta: ['frequency', 'channels']\n",
      "Reduction order for nice/marker/PowerSpectralDensity/beta: ['frequency', 'channels']\n",
      "Running KolmogorovComplexity\n",
      "Elapsed time 0.05451655387878418 sec\n",
      "Reduction order for nice/marker/KolmogorovComplexity/default: ['channels']\n",
      "Filtering  at 10.42 Hz\n",
      "Performing symbolic transformation\n"
     ]
    },
    {
     "name": "stderr",
     "output_type": "stream",
     "text": [
      "[Parallel(n_jobs=24)]: Done  24 out of  24 | elapsed:    3.9s finished\n"
     ]
    },
    {
     "name": "stdout",
     "output_type": "stream",
     "text": [
      "Reduction order for nice/marker/PermutationEntropy/default: ['channels']\n",
      "Autodetected number of jobs 2\n",
      "Computing CSD\n",
      "Using 10-5 locations for CSD\n",
      "Using 2 jobs\n"
     ]
    },
    {
     "name": "stderr",
     "output_type": "stream",
     "text": [
      "[Parallel(n_jobs=2)]: Using backend LokyBackend with 2 concurrent workers.\n"
     ]
    },
    {
     "name": "stdout",
     "output_type": "stream",
     "text": [
      "Filtering  at 10.42 Hz\n"
     ]
    },
    {
     "name": "stderr",
     "output_type": "stream",
     "text": [
      "[Parallel(n_jobs=2)]: Done  18 tasks      | elapsed:    1.7s\n",
      "[Parallel(n_jobs=2)]: Done  38 out of  38 | elapsed:    1.7s finished\n"
     ]
    },
    {
     "name": "stdout",
     "output_type": "stream",
     "text": [
      "Reduction order for nice/marker/SymbolicMutualInformation/default: ['channels_y', 'channels']\n",
      "Reduction order for nice/marker/ContingentNegativeVariation/default: ['channels']\n",
      "Reduction order for nice/marker/TimeLockedTopography/p1: ['channels', 'times']\n",
      "Reduction order for nice/marker/TimeLockedTopography/p3a: ['channels', 'times']\n",
      "Reduction order for nice/marker/TimeLockedTopography/p3a: ['channels', 'times']\n",
      "Autodetected number of jobs 24\n",
      "Effective window size : 16.384 (s)\n"
     ]
    },
    {
     "name": "stderr",
     "output_type": "stream",
     "text": [
      "[Parallel(n_jobs=24)]: Using backend LokyBackend with 24 concurrent workers.\n",
      "[Parallel(n_jobs=24)]: Done   6 out of  24 | elapsed:    3.7s remaining:   11.0s\n",
      "[Parallel(n_jobs=24)]: Done  11 out of  24 | elapsed:    3.7s remaining:    4.4s\n",
      "[Parallel(n_jobs=24)]: Done  16 out of  24 | elapsed:    3.7s remaining:    1.9s\n",
      "[Parallel(n_jobs=24)]: Done  21 out of  24 | elapsed:    3.8s remaining:    0.5s\n"
     ]
    },
    {
     "name": "stdout",
     "output_type": "stream",
     "text": [
      "Reduction order for nice/marker/PowerSpectralDensity/alpha: ['frequency', 'channels']\n",
      "Reduction order for nice/marker/PowerSpectralDensity/alpha: ['frequency', 'channels']\n",
      "Reduction order for nice/marker/PowerSpectralDensity/delta: ['frequency', 'channels']\n",
      "Reduction order for nice/marker/PowerSpectralDensity/delta: ['frequency', 'channels']\n",
      "Reduction order for nice/marker/PowerSpectralDensity/theta: ['frequency', 'channels']\n",
      "Reduction order for nice/marker/PowerSpectralDensity/theta: ['frequency', 'channels']\n",
      "Reduction order for nice/marker/PowerSpectralDensity/gamma: ['frequency', 'channels']\n",
      "Reduction order for nice/marker/PowerSpectralDensity/theta: ['frequency', 'channels']\n",
      "Reduction order for nice/marker/PowerSpectralDensity/beta: ['frequency', 'channels']\n",
      "Reduction order for nice/marker/PowerSpectralDensity/beta: ['frequency', 'channels']\n",
      "Running KolmogorovComplexity\n",
      "Elapsed time 0.011416196823120117 sec\n",
      "Reduction order for nice/marker/KolmogorovComplexity/default: ['channels']\n",
      "Filtering  at 10.42 Hz\n",
      "Performing symbolic transformation\n"
     ]
    },
    {
     "name": "stderr",
     "output_type": "stream",
     "text": [
      "[Parallel(n_jobs=24)]: Done  24 out of  24 | elapsed:    3.9s finished\n"
     ]
    },
    {
     "name": "stdout",
     "output_type": "stream",
     "text": [
      "Reduction order for nice/marker/PermutationEntropy/default: ['channels']\n",
      "Autodetected number of jobs 2\n",
      "Computing CSD\n",
      "Using 10-5 locations for CSD\n",
      "Using 2 jobs\n"
     ]
    },
    {
     "name": "stderr",
     "output_type": "stream",
     "text": [
      "[Parallel(n_jobs=2)]: Using backend LokyBackend with 2 concurrent workers.\n"
     ]
    },
    {
     "name": "stdout",
     "output_type": "stream",
     "text": [
      "Filtering  at 10.42 Hz\n",
      "Reduction order for nice/marker/SymbolicMutualInformation/default: ['channels_y', 'channels']\n",
      "Reduction order for nice/marker/ContingentNegativeVariation/default: ['channels']\n",
      "Reduction order for nice/marker/TimeLockedTopography/p1: ['channels', 'times']\n",
      "Reduction order for nice/marker/TimeLockedTopography/p3a: ['channels', 'times']\n",
      "Reduction order for nice/marker/TimeLockedTopography/p3a: ['channels', 'times']\n",
      "Autodetected number of jobs 24\n",
      "Effective window size : 16.384 (s)\n"
     ]
    },
    {
     "name": "stderr",
     "output_type": "stream",
     "text": [
      "[Parallel(n_jobs=2)]: Done   8 out of   8 | elapsed:    1.7s finished\n",
      "[Parallel(n_jobs=24)]: Using backend LokyBackend with 24 concurrent workers.\n",
      "[Parallel(n_jobs=24)]: Done   6 out of  24 | elapsed:    3.6s remaining:   10.9s\n",
      "[Parallel(n_jobs=24)]: Done  11 out of  24 | elapsed:    3.7s remaining:    4.4s\n",
      "[Parallel(n_jobs=24)]: Done  16 out of  24 | elapsed:    3.7s remaining:    1.9s\n",
      "[Parallel(n_jobs=24)]: Done  21 out of  24 | elapsed:    3.8s remaining:    0.5s\n"
     ]
    },
    {
     "name": "stdout",
     "output_type": "stream",
     "text": [
      "Reduction order for nice/marker/PowerSpectralDensity/alpha: ['frequency', 'channels']\n",
      "Reduction order for nice/marker/PowerSpectralDensity/alpha: ['frequency', 'channels']\n",
      "Reduction order for nice/marker/PowerSpectralDensity/delta: ['frequency', 'channels']\n",
      "Reduction order for nice/marker/PowerSpectralDensity/delta: ['frequency', 'channels']\n",
      "Reduction order for nice/marker/PowerSpectralDensity/theta: ['frequency', 'channels']\n",
      "Reduction order for nice/marker/PowerSpectralDensity/theta: ['frequency', 'channels']\n",
      "Reduction order for nice/marker/PowerSpectralDensity/gamma: ['frequency', 'channels']\n",
      "Reduction order for nice/marker/PowerSpectralDensity/theta: ['frequency', 'channels']\n",
      "Reduction order for nice/marker/PowerSpectralDensity/beta: ['frequency', 'channels']\n",
      "Reduction order for nice/marker/PowerSpectralDensity/beta: ['frequency', 'channels']\n",
      "Running KolmogorovComplexity\n",
      "Elapsed time 0.002851247787475586 sec\n",
      "Reduction order for nice/marker/KolmogorovComplexity/default: ['channels']\n",
      "Filtering  at 10.42 Hz\n",
      "Performing symbolic transformation\n"
     ]
    },
    {
     "name": "stderr",
     "output_type": "stream",
     "text": [
      "[Parallel(n_jobs=24)]: Done  24 out of  24 | elapsed:    3.9s finished\n"
     ]
    },
    {
     "name": "stdout",
     "output_type": "stream",
     "text": [
      "Reduction order for nice/marker/PermutationEntropy/default: ['channels']\n",
      "Autodetected number of jobs 2\n",
      "Computing CSD\n",
      "Using 10-5 locations for CSD\n",
      "Using 2 jobs\n"
     ]
    },
    {
     "name": "stderr",
     "output_type": "stream",
     "text": [
      "[Parallel(n_jobs=2)]: Using backend LokyBackend with 2 concurrent workers.\n"
     ]
    },
    {
     "name": "stdout",
     "output_type": "stream",
     "text": [
      "Filtering  at 10.42 Hz\n",
      "Reduction order for nice/marker/SymbolicMutualInformation/default: ['channels_y', 'channels']\n",
      "Reduction order for nice/marker/ContingentNegativeVariation/default: ['channels']\n",
      "Reduction order for nice/marker/TimeLockedTopography/p1: ['channels', 'times']\n",
      "Reduction order for nice/marker/TimeLockedTopography/p3a: ['channels', 'times']\n",
      "Reduction order for nice/marker/TimeLockedTopography/p3a: ['channels', 'times']\n",
      "Autodetected number of jobs 24\n",
      "Effective window size : 16.384 (s)\n"
     ]
    },
    {
     "name": "stderr",
     "output_type": "stream",
     "text": [
      "[Parallel(n_jobs=2)]: Done   2 out of   2 | elapsed:    1.6s remaining:    0.0s\n",
      "[Parallel(n_jobs=2)]: Done   2 out of   2 | elapsed:    1.6s finished\n",
      "[Parallel(n_jobs=24)]: Using backend LokyBackend with 24 concurrent workers.\n",
      "[Parallel(n_jobs=24)]: Done   6 out of  24 | elapsed:    3.6s remaining:   10.9s\n",
      "[Parallel(n_jobs=24)]: Done  11 out of  24 | elapsed:    3.7s remaining:    4.4s\n",
      "[Parallel(n_jobs=24)]: Done  16 out of  24 | elapsed:    3.7s remaining:    1.9s\n",
      "[Parallel(n_jobs=24)]: Done  21 out of  24 | elapsed:    3.8s remaining:    0.5s\n"
     ]
    },
    {
     "name": "stdout",
     "output_type": "stream",
     "text": [
      "Reduction order for nice/marker/PowerSpectralDensity/alpha: ['frequency', 'channels']\n",
      "Reduction order for nice/marker/PowerSpectralDensity/alpha: ['frequency', 'channels']\n",
      "Reduction order for nice/marker/PowerSpectralDensity/delta: ['frequency', 'channels']\n",
      "Reduction order for nice/marker/PowerSpectralDensity/delta: ['frequency', 'channels']\n",
      "Reduction order for nice/marker/PowerSpectralDensity/theta: ['frequency', 'channels']\n",
      "Reduction order for nice/marker/PowerSpectralDensity/theta: ['frequency', 'channels']\n",
      "Reduction order for nice/marker/PowerSpectralDensity/gamma: ['frequency', 'channels']\n",
      "Reduction order for nice/marker/PowerSpectralDensity/theta: ['frequency', 'channels']\n",
      "Reduction order for nice/marker/PowerSpectralDensity/beta: ['frequency', 'channels']\n",
      "Reduction order for nice/marker/PowerSpectralDensity/beta: ['frequency', 'channels']\n",
      "Running KolmogorovComplexity\n",
      "Elapsed time 0.021291255950927734 sec\n",
      "Reduction order for nice/marker/KolmogorovComplexity/default: ['channels']\n",
      "Filtering  at 10.42 Hz\n",
      "Performing symbolic transformation\n"
     ]
    },
    {
     "name": "stderr",
     "output_type": "stream",
     "text": [
      "[Parallel(n_jobs=24)]: Done  24 out of  24 | elapsed:    3.9s finished\n"
     ]
    },
    {
     "name": "stdout",
     "output_type": "stream",
     "text": [
      "Reduction order for nice/marker/PermutationEntropy/default: ['channels']\n",
      "Autodetected number of jobs 2\n",
      "Computing CSD\n",
      "Using 10-5 locations for CSD\n",
      "Using 2 jobs\n"
     ]
    },
    {
     "name": "stderr",
     "output_type": "stream",
     "text": [
      "[Parallel(n_jobs=2)]: Using backend LokyBackend with 2 concurrent workers.\n"
     ]
    },
    {
     "name": "stdout",
     "output_type": "stream",
     "text": [
      "Filtering  at 10.42 Hz\n",
      "Reduction order for nice/marker/SymbolicMutualInformation/default: ['channels_y', 'channels']\n",
      "Reduction order for nice/marker/ContingentNegativeVariation/default: ['channels']\n",
      "Reduction order for nice/marker/TimeLockedTopography/p1: ['channels', 'times']\n",
      "Reduction order for nice/marker/TimeLockedTopography/p3a: ['channels', 'times']\n",
      "Reduction order for nice/marker/TimeLockedTopography/p3a: ['channels', 'times']\n",
      "Autodetected number of jobs 24\n",
      "Effective window size : 16.384 (s)\n"
     ]
    },
    {
     "name": "stderr",
     "output_type": "stream",
     "text": [
      "[Parallel(n_jobs=2)]: Done  15 out of  15 | elapsed:    1.7s finished\n",
      "[Parallel(n_jobs=24)]: Using backend LokyBackend with 24 concurrent workers.\n",
      "[Parallel(n_jobs=24)]: Done   6 out of  24 | elapsed:    3.7s remaining:   11.1s\n",
      "[Parallel(n_jobs=24)]: Done  11 out of  24 | elapsed:    3.8s remaining:    4.4s\n",
      "[Parallel(n_jobs=24)]: Done  16 out of  24 | elapsed:    3.8s remaining:    1.9s\n"
     ]
    },
    {
     "name": "stdout",
     "output_type": "stream",
     "text": [
      "Reduction order for nice/marker/PowerSpectralDensity/alpha: ['frequency', 'channels']\n",
      "Reduction order for nice/marker/PowerSpectralDensity/alpha: ['frequency', 'channels']\n",
      "Reduction order for nice/marker/PowerSpectralDensity/delta: ['frequency', 'channels']\n",
      "Reduction order for nice/marker/PowerSpectralDensity/delta: ['frequency', 'channels']\n",
      "Reduction order for nice/marker/PowerSpectralDensity/theta: ['frequency', 'channels']\n",
      "Reduction order for nice/marker/PowerSpectralDensity/theta: ['frequency', 'channels']\n",
      "Reduction order for nice/marker/PowerSpectralDensity/gamma: ['frequency', 'channels']\n",
      "Reduction order for nice/marker/PowerSpectralDensity/theta: ['frequency', 'channels']\n",
      "Reduction order for nice/marker/PowerSpectralDensity/beta: ['frequency', 'channels']\n",
      "Reduction order for nice/marker/PowerSpectralDensity/beta: ['frequency', 'channels']\n",
      "Running KolmogorovComplexity\n",
      "Elapsed time 0.048752784729003906 sec\n",
      "Reduction order for nice/marker/KolmogorovComplexity/default: ['channels']\n",
      "Filtering  at 10.42 Hz\n",
      "Performing symbolic transformation\n"
     ]
    },
    {
     "name": "stderr",
     "output_type": "stream",
     "text": [
      "[Parallel(n_jobs=24)]: Done  21 out of  24 | elapsed:    3.9s remaining:    0.6s\n",
      "[Parallel(n_jobs=24)]: Done  24 out of  24 | elapsed:    4.0s finished\n"
     ]
    },
    {
     "name": "stdout",
     "output_type": "stream",
     "text": [
      "Reduction order for nice/marker/PermutationEntropy/default: ['channels']\n",
      "Autodetected number of jobs 2\n",
      "Computing CSD\n",
      "Using 10-5 locations for CSD\n",
      "Using 2 jobs\n"
     ]
    },
    {
     "name": "stderr",
     "output_type": "stream",
     "text": [
      "/home/nicolas.bruno/anaconda3/lib/python3.7/site-packages/nice-0.1.dev0-py3.7.egg/nice/algorithms/information_theory/permutation_entropy.py:75: RuntimeWarning: divide by zero encountered in log\n",
      "  pe = np.nan_to_num(-np.nansum(count * np.log(count), axis=1))\n",
      "/home/nicolas.bruno/anaconda3/lib/python3.7/site-packages/nice-0.1.dev0-py3.7.egg/nice/algorithms/information_theory/permutation_entropy.py:75: RuntimeWarning: invalid value encountered in multiply\n",
      "  pe = np.nan_to_num(-np.nansum(count * np.log(count), axis=1))\n",
      "[Parallel(n_jobs=2)]: Using backend LokyBackend with 2 concurrent workers.\n"
     ]
    },
    {
     "name": "stdout",
     "output_type": "stream",
     "text": [
      "Filtering  at 10.42 Hz\n"
     ]
    },
    {
     "name": "stderr",
     "output_type": "stream",
     "text": [
      "[Parallel(n_jobs=2)]: Done  18 tasks      | elapsed:    1.7s\n",
      "[Parallel(n_jobs=2)]: Done  30 out of  30 | elapsed:    1.7s finished\n"
     ]
    },
    {
     "name": "stdout",
     "output_type": "stream",
     "text": [
      "Reduction order for nice/marker/SymbolicMutualInformation/default: ['channels_y', 'channels']\n",
      "Reduction order for nice/marker/ContingentNegativeVariation/default: ['channels']\n",
      "Reduction order for nice/marker/TimeLockedTopography/p1: ['channels', 'times']\n",
      "Reduction order for nice/marker/TimeLockedTopography/p3a: ['channels', 'times']\n",
      "Reduction order for nice/marker/TimeLockedTopography/p3a: ['channels', 'times']\n",
      "Autodetected number of jobs 24\n",
      "Effective window size : 16.384 (s)\n"
     ]
    },
    {
     "name": "stderr",
     "output_type": "stream",
     "text": [
      "[Parallel(n_jobs=24)]: Using backend LokyBackend with 24 concurrent workers.\n",
      "[Parallel(n_jobs=24)]: Done   6 out of  24 | elapsed:    3.9s remaining:   11.6s\n",
      "[Parallel(n_jobs=24)]: Done  11 out of  24 | elapsed:    4.0s remaining:    4.7s\n",
      "[Parallel(n_jobs=24)]: Done  16 out of  24 | elapsed:    4.0s remaining:    2.0s\n"
     ]
    },
    {
     "name": "stdout",
     "output_type": "stream",
     "text": [
      "Reduction order for nice/marker/PowerSpectralDensity/alpha: ['frequency', 'channels']\n",
      "Reduction order for nice/marker/PowerSpectralDensity/alpha: ['frequency', 'channels']\n",
      "Reduction order for nice/marker/PowerSpectralDensity/delta: ['frequency', 'channels']\n",
      "Reduction order for nice/marker/PowerSpectralDensity/delta: ['frequency', 'channels']\n",
      "Reduction order for nice/marker/PowerSpectralDensity/theta: ['frequency', 'channels']\n",
      "Reduction order for nice/marker/PowerSpectralDensity/theta: ['frequency', 'channels']\n",
      "Reduction order for nice/marker/PowerSpectralDensity/gamma: ['frequency', 'channels']\n",
      "Reduction order for nice/marker/PowerSpectralDensity/theta: ['frequency', 'channels']\n",
      "Reduction order for nice/marker/PowerSpectralDensity/beta: ['frequency', 'channels']\n",
      "Reduction order for nice/marker/PowerSpectralDensity/beta: ['frequency', 'channels']\n",
      "Running KolmogorovComplexity\n",
      "Elapsed time 0.0624232292175293 sec\n",
      "Reduction order for nice/marker/KolmogorovComplexity/default: ['channels']\n",
      "Filtering  at 10.42 Hz\n",
      "Performing symbolic transformation\n"
     ]
    },
    {
     "name": "stderr",
     "output_type": "stream",
     "text": [
      "[Parallel(n_jobs=24)]: Done  21 out of  24 | elapsed:    4.2s remaining:    0.6s\n",
      "[Parallel(n_jobs=24)]: Done  24 out of  24 | elapsed:    4.3s finished\n"
     ]
    },
    {
     "name": "stdout",
     "output_type": "stream",
     "text": [
      "Reduction order for nice/marker/PermutationEntropy/default: ['channels']\n",
      "Autodetected number of jobs 2\n",
      "Computing CSD\n",
      "Using 10-5 locations for CSD\n",
      "Using 2 jobs\n"
     ]
    },
    {
     "name": "stderr",
     "output_type": "stream",
     "text": [
      "[Parallel(n_jobs=2)]: Using backend LokyBackend with 2 concurrent workers.\n"
     ]
    },
    {
     "name": "stdout",
     "output_type": "stream",
     "text": [
      "Filtering  at 10.42 Hz\n"
     ]
    },
    {
     "name": "stderr",
     "output_type": "stream",
     "text": [
      "[Parallel(n_jobs=2)]: Done  20 tasks      | elapsed:    1.7s\n",
      "[Parallel(n_jobs=2)]: Done  47 out of  47 | elapsed:    1.7s finished\n"
     ]
    },
    {
     "name": "stdout",
     "output_type": "stream",
     "text": [
      "Reduction order for nice/marker/SymbolicMutualInformation/default: ['channels_y', 'channels']\n",
      "Reduction order for nice/marker/ContingentNegativeVariation/default: ['channels']\n",
      "Reduction order for nice/marker/TimeLockedTopography/p1: ['channels', 'times']\n",
      "Reduction order for nice/marker/TimeLockedTopography/p3a: ['channels', 'times']\n",
      "Reduction order for nice/marker/TimeLockedTopography/p3a: ['channels', 'times']\n",
      "Autodetected number of jobs 24\n",
      "Effective window size : 16.384 (s)\n"
     ]
    },
    {
     "name": "stderr",
     "output_type": "stream",
     "text": [
      "[Parallel(n_jobs=24)]: Using backend LokyBackend with 24 concurrent workers.\n",
      "[Parallel(n_jobs=24)]: Done   6 out of  24 | elapsed:    3.6s remaining:   10.9s\n",
      "[Parallel(n_jobs=24)]: Done  11 out of  24 | elapsed:    3.7s remaining:    4.4s\n",
      "[Parallel(n_jobs=24)]: Done  16 out of  24 | elapsed:    3.8s remaining:    1.9s\n"
     ]
    },
    {
     "name": "stdout",
     "output_type": "stream",
     "text": [
      "Reduction order for nice/marker/PowerSpectralDensity/alpha: ['frequency', 'channels']\n",
      "Reduction order for nice/marker/PowerSpectralDensity/alpha: ['frequency', 'channels']\n",
      "Reduction order for nice/marker/PowerSpectralDensity/delta: ['frequency', 'channels']\n",
      "Reduction order for nice/marker/PowerSpectralDensity/delta: ['frequency', 'channels']\n",
      "Reduction order for nice/marker/PowerSpectralDensity/theta: ['frequency', 'channels']\n",
      "Reduction order for nice/marker/PowerSpectralDensity/theta: ['frequency', 'channels']\n",
      "Reduction order for nice/marker/PowerSpectralDensity/gamma: ['frequency', 'channels']\n",
      "Reduction order for nice/marker/PowerSpectralDensity/theta: ['frequency', 'channels']\n",
      "Reduction order for nice/marker/PowerSpectralDensity/beta: ['frequency', 'channels']\n",
      "Reduction order for nice/marker/PowerSpectralDensity/beta: ['frequency', 'channels']\n",
      "Running KolmogorovComplexity\n",
      "Elapsed time 0.01902627944946289 sec\n",
      "Reduction order for nice/marker/KolmogorovComplexity/default: ['channels']\n",
      "Filtering  at 10.42 Hz\n",
      "Performing symbolic transformation\n"
     ]
    },
    {
     "name": "stderr",
     "output_type": "stream",
     "text": [
      "[Parallel(n_jobs=24)]: Done  21 out of  24 | elapsed:    3.9s remaining:    0.6s\n",
      "[Parallel(n_jobs=24)]: Done  24 out of  24 | elapsed:    3.9s finished\n"
     ]
    },
    {
     "name": "stdout",
     "output_type": "stream",
     "text": [
      "Reduction order for nice/marker/PermutationEntropy/default: ['channels']\n",
      "Autodetected number of jobs 2\n",
      "Computing CSD\n",
      "Using 10-5 locations for CSD\n",
      "Using 2 jobs\n"
     ]
    },
    {
     "name": "stderr",
     "output_type": "stream",
     "text": [
      "[Parallel(n_jobs=2)]: Using backend LokyBackend with 2 concurrent workers.\n"
     ]
    },
    {
     "name": "stdout",
     "output_type": "stream",
     "text": [
      "Filtering  at 10.42 Hz\n",
      "Reduction order for nice/marker/SymbolicMutualInformation/default: ['channels_y', 'channels']\n",
      "Reduction order for nice/marker/ContingentNegativeVariation/default: ['channels']\n",
      "Reduction order for nice/marker/TimeLockedTopography/p1: ['channels', 'times']\n",
      "Reduction order for nice/marker/TimeLockedTopography/p3a: ['channels', 'times']\n",
      "Reduction order for nice/marker/TimeLockedTopography/p3a: ['channels', 'times']\n",
      "Autodetected number of jobs 24\n",
      "Effective window size : 16.384 (s)\n"
     ]
    },
    {
     "name": "stderr",
     "output_type": "stream",
     "text": [
      "[Parallel(n_jobs=2)]: Done  14 out of  14 | elapsed:    1.7s finished\n",
      "[Parallel(n_jobs=24)]: Using backend LokyBackend with 24 concurrent workers.\n",
      "[Parallel(n_jobs=24)]: Done   6 out of  24 | elapsed:    3.7s remaining:   11.1s\n",
      "[Parallel(n_jobs=24)]: Done  11 out of  24 | elapsed:    3.7s remaining:    4.4s\n",
      "[Parallel(n_jobs=24)]: Done  16 out of  24 | elapsed:    3.8s remaining:    1.9s\n",
      "[Parallel(n_jobs=24)]: Done  21 out of  24 | elapsed:    3.9s remaining:    0.6s\n"
     ]
    },
    {
     "name": "stdout",
     "output_type": "stream",
     "text": [
      "Reduction order for nice/marker/PowerSpectralDensity/alpha: ['frequency', 'channels']\n",
      "Reduction order for nice/marker/PowerSpectralDensity/alpha: ['frequency', 'channels']\n",
      "Reduction order for nice/marker/PowerSpectralDensity/delta: ['frequency', 'channels']\n",
      "Reduction order for nice/marker/PowerSpectralDensity/delta: ['frequency', 'channels']\n",
      "Reduction order for nice/marker/PowerSpectralDensity/theta: ['frequency', 'channels']\n",
      "Reduction order for nice/marker/PowerSpectralDensity/theta: ['frequency', 'channels']\n",
      "Reduction order for nice/marker/PowerSpectralDensity/gamma: ['frequency', 'channels']\n",
      "Reduction order for nice/marker/PowerSpectralDensity/theta: ['frequency', 'channels']\n",
      "Reduction order for nice/marker/PowerSpectralDensity/beta: ['frequency', 'channels']\n",
      "Reduction order for nice/marker/PowerSpectralDensity/beta: ['frequency', 'channels']\n",
      "Running KolmogorovComplexity\n",
      "Elapsed time 0.017045259475708008 sec\n",
      "Reduction order for nice/marker/KolmogorovComplexity/default: ['channels']\n",
      "Filtering  at 10.42 Hz\n",
      "Performing symbolic transformation\n"
     ]
    },
    {
     "name": "stderr",
     "output_type": "stream",
     "text": [
      "[Parallel(n_jobs=24)]: Done  24 out of  24 | elapsed:    4.0s finished\n"
     ]
    },
    {
     "name": "stdout",
     "output_type": "stream",
     "text": [
      "Reduction order for nice/marker/PermutationEntropy/default: ['channels']\n",
      "Autodetected number of jobs 2\n",
      "Computing CSD\n",
      "Using 10-5 locations for CSD\n",
      "Using 2 jobs\n"
     ]
    },
    {
     "name": "stderr",
     "output_type": "stream",
     "text": [
      "[Parallel(n_jobs=2)]: Using backend LokyBackend with 2 concurrent workers.\n"
     ]
    },
    {
     "name": "stdout",
     "output_type": "stream",
     "text": [
      "Filtering  at 10.42 Hz\n",
      "Reduction order for nice/marker/SymbolicMutualInformation/default: ['channels_y', 'channels']\n",
      "Reduction order for nice/marker/ContingentNegativeVariation/default: ['channels']\n",
      "Reduction order for nice/marker/TimeLockedTopography/p1: ['channels', 'times']\n",
      "Reduction order for nice/marker/TimeLockedTopography/p3a: ['channels', 'times']\n",
      "Reduction order for nice/marker/TimeLockedTopography/p3a: ['channels', 'times']\n",
      "\n",
      "#########################################\n",
      "Computing markers for participant VP19\n",
      "#########################################\n",
      "\n",
      "Reading /media/nicolas.bruno/63f8a366-34b7-4896-a7ce-b5fb4ee78535/Nico/MW_eeg_data/minmarker/VP19/VP19_evoked_ar_subtracted_epo.fif ...\n",
      "    Found the data of interest:\n",
      "        t =    -200.00 ...     600.00 ms\n",
      "        0 CTF compensation matrices available\n"
     ]
    },
    {
     "name": "stderr",
     "output_type": "stream",
     "text": [
      "[Parallel(n_jobs=2)]: Done  11 out of  11 | elapsed:    1.7s finished\n"
     ]
    },
    {
     "name": "stdout",
     "output_type": "stream",
     "text": [
      "Not setting metadata\n",
      "Not setting metadata\n",
      "289 matching events found\n",
      "No baseline correction applied\n",
      "0 projection items activated\n",
      "Reading /media/nicolas.bruno/63f8a366-34b7-4896-a7ce-b5fb4ee78535/Nico/MW_eeg_data/minmarker/VP19/VP19_evoked_ar_rereferenced_epo.fif ...\n",
      "    Found the data of interest:\n",
      "        t =    -200.00 ...     600.00 ms\n",
      "        0 CTF compensation matrices available\n",
      "Not setting metadata\n",
      "Not setting metadata\n",
      "289 matching events found\n",
      "No baseline correction applied\n",
      "0 projection items activated\n",
      "Autodetected number of jobs 24\n",
      "Effective window size : 16.384 (s)\n"
     ]
    },
    {
     "name": "stderr",
     "output_type": "stream",
     "text": [
      "[Parallel(n_jobs=24)]: Using backend LokyBackend with 24 concurrent workers.\n",
      "[Parallel(n_jobs=24)]: Done   6 out of  24 | elapsed:    3.8s remaining:   11.4s\n",
      "[Parallel(n_jobs=24)]: Done  11 out of  24 | elapsed:    3.8s remaining:    4.5s\n",
      "[Parallel(n_jobs=24)]: Done  16 out of  24 | elapsed:    3.9s remaining:    1.9s\n"
     ]
    },
    {
     "name": "stdout",
     "output_type": "stream",
     "text": [
      "Reduction order for nice/marker/PowerSpectralDensity/alpha: ['frequency', 'channels']\n",
      "Reduction order for nice/marker/PowerSpectralDensity/alpha: ['frequency', 'channels']\n",
      "Reduction order for nice/marker/PowerSpectralDensity/delta: ['frequency', 'channels']\n",
      "Reduction order for nice/marker/PowerSpectralDensity/delta: ['frequency', 'channels']\n",
      "Reduction order for nice/marker/PowerSpectralDensity/theta: ['frequency', 'channels']\n",
      "Reduction order for nice/marker/PowerSpectralDensity/theta: ['frequency', 'channels']\n",
      "Reduction order for nice/marker/PowerSpectralDensity/gamma: ['frequency', 'channels']\n",
      "Reduction order for nice/marker/PowerSpectralDensity/theta: ['frequency', 'channels']\n",
      "Reduction order for nice/marker/PowerSpectralDensity/beta: ['frequency', 'channels']\n",
      "Reduction order for nice/marker/PowerSpectralDensity/beta: ['frequency', 'channels']\n",
      "Running KolmogorovComplexity\n",
      "Elapsed time 0.0900425910949707 sec\n"
     ]
    },
    {
     "name": "stderr",
     "output_type": "stream",
     "text": [
      "[Parallel(n_jobs=24)]: Done  21 out of  24 | elapsed:    4.0s remaining:    0.6s\n",
      "[Parallel(n_jobs=24)]: Done  24 out of  24 | elapsed:    4.0s finished\n"
     ]
    },
    {
     "name": "stdout",
     "output_type": "stream",
     "text": [
      "Reduction order for nice/marker/KolmogorovComplexity/default: ['channels']\n",
      "Filtering  at 10.42 Hz\n",
      "Performing symbolic transformation\n",
      "Reduction order for nice/marker/PermutationEntropy/default: ['channels']\n",
      "Autodetected number of jobs 2\n",
      "Computing CSD\n",
      "Using 10-5 locations for CSD\n",
      "Using 2 jobs\n"
     ]
    },
    {
     "name": "stderr",
     "output_type": "stream",
     "text": [
      "[Parallel(n_jobs=2)]: Using backend LokyBackend with 2 concurrent workers.\n"
     ]
    },
    {
     "name": "stdout",
     "output_type": "stream",
     "text": [
      "Filtering  at 10.42 Hz\n"
     ]
    },
    {
     "name": "stderr",
     "output_type": "stream",
     "text": [
      "[Parallel(n_jobs=2)]: Done  18 tasks      | elapsed:    1.7s\n",
      "[Parallel(n_jobs=2)]: Done  63 out of  63 | elapsed:    1.8s finished\n"
     ]
    },
    {
     "name": "stdout",
     "output_type": "stream",
     "text": [
      "Reduction order for nice/marker/SymbolicMutualInformation/default: ['channels_y', 'channels']\n",
      "Reduction order for nice/marker/ContingentNegativeVariation/default: ['channels']\n",
      "Reduction order for nice/marker/TimeLockedTopography/p1: ['channels', 'times']\n",
      "Reduction order for nice/marker/TimeLockedTopography/p3a: ['channels', 'times']\n",
      "Reduction order for nice/marker/TimeLockedTopography/p3a: ['channels', 'times']\n",
      "Autodetected number of jobs 24\n",
      "Effective window size : 16.384 (s)\n"
     ]
    },
    {
     "name": "stderr",
     "output_type": "stream",
     "text": [
      "[Parallel(n_jobs=24)]: Using backend LokyBackend with 24 concurrent workers.\n",
      "[Parallel(n_jobs=24)]: Done   6 out of  24 | elapsed:    3.7s remaining:   11.2s\n",
      "[Parallel(n_jobs=24)]: Done  11 out of  24 | elapsed:    3.8s remaining:    4.5s\n",
      "[Parallel(n_jobs=24)]: Done  16 out of  24 | elapsed:    3.8s remaining:    1.9s\n",
      "[Parallel(n_jobs=24)]: Done  21 out of  24 | elapsed:    3.9s remaining:    0.6s\n"
     ]
    },
    {
     "name": "stdout",
     "output_type": "stream",
     "text": [
      "Reduction order for nice/marker/PowerSpectralDensity/alpha: ['frequency', 'channels']\n",
      "Reduction order for nice/marker/PowerSpectralDensity/alpha: ['frequency', 'channels']\n",
      "Reduction order for nice/marker/PowerSpectralDensity/delta: ['frequency', 'channels']\n",
      "Reduction order for nice/marker/PowerSpectralDensity/delta: ['frequency', 'channels']\n",
      "Reduction order for nice/marker/PowerSpectralDensity/theta: ['frequency', 'channels']\n",
      "Reduction order for nice/marker/PowerSpectralDensity/theta: ['frequency', 'channels']\n",
      "Reduction order for nice/marker/PowerSpectralDensity/gamma: ['frequency', 'channels']\n",
      "Reduction order for nice/marker/PowerSpectralDensity/theta: ['frequency', 'channels']\n",
      "Reduction order for nice/marker/PowerSpectralDensity/beta: ['frequency', 'channels']\n",
      "Reduction order for nice/marker/PowerSpectralDensity/beta: ['frequency', 'channels']\n",
      "Running KolmogorovComplexity\n",
      "Elapsed time 0.05390214920043945 sec\n",
      "Reduction order for nice/marker/KolmogorovComplexity/default: ['channels']\n",
      "Filtering  at 10.42 Hz\n",
      "Performing symbolic transformation\n"
     ]
    },
    {
     "name": "stderr",
     "output_type": "stream",
     "text": [
      "[Parallel(n_jobs=24)]: Done  24 out of  24 | elapsed:    4.0s finished\n"
     ]
    },
    {
     "name": "stdout",
     "output_type": "stream",
     "text": [
      "Reduction order for nice/marker/PermutationEntropy/default: ['channels']\n",
      "Autodetected number of jobs 2\n",
      "Computing CSD\n",
      "Using 10-5 locations for CSD\n",
      "Using 2 jobs\n"
     ]
    },
    {
     "name": "stderr",
     "output_type": "stream",
     "text": [
      "[Parallel(n_jobs=2)]: Using backend LokyBackend with 2 concurrent workers.\n"
     ]
    },
    {
     "name": "stdout",
     "output_type": "stream",
     "text": [
      "Filtering  at 10.42 Hz\n"
     ]
    },
    {
     "name": "stderr",
     "output_type": "stream",
     "text": [
      "[Parallel(n_jobs=2)]: Done  18 tasks      | elapsed:    1.7s\n",
      "[Parallel(n_jobs=2)]: Done  38 out of  38 | elapsed:    1.7s finished\n"
     ]
    },
    {
     "name": "stdout",
     "output_type": "stream",
     "text": [
      "Reduction order for nice/marker/SymbolicMutualInformation/default: ['channels_y', 'channels']\n",
      "Reduction order for nice/marker/ContingentNegativeVariation/default: ['channels']\n",
      "Reduction order for nice/marker/TimeLockedTopography/p1: ['channels', 'times']\n",
      "Reduction order for nice/marker/TimeLockedTopography/p3a: ['channels', 'times']\n",
      "Reduction order for nice/marker/TimeLockedTopography/p3a: ['channels', 'times']\n",
      "Autodetected number of jobs 24\n",
      "Effective window size : 16.384 (s)\n"
     ]
    },
    {
     "name": "stderr",
     "output_type": "stream",
     "text": [
      "[Parallel(n_jobs=24)]: Using backend LokyBackend with 24 concurrent workers.\n",
      "[Parallel(n_jobs=24)]: Done   6 out of  24 | elapsed:    3.7s remaining:   11.1s\n",
      "[Parallel(n_jobs=24)]: Done  11 out of  24 | elapsed:    3.7s remaining:    4.4s\n",
      "[Parallel(n_jobs=24)]: Done  16 out of  24 | elapsed:    3.8s remaining:    1.9s\n",
      "[Parallel(n_jobs=24)]: Done  21 out of  24 | elapsed:    3.9s remaining:    0.6s\n"
     ]
    },
    {
     "name": "stdout",
     "output_type": "stream",
     "text": [
      "Reduction order for nice/marker/PowerSpectralDensity/alpha: ['frequency', 'channels']\n",
      "Reduction order for nice/marker/PowerSpectralDensity/alpha: ['frequency', 'channels']\n",
      "Reduction order for nice/marker/PowerSpectralDensity/delta: ['frequency', 'channels']\n",
      "Reduction order for nice/marker/PowerSpectralDensity/delta: ['frequency', 'channels']\n",
      "Reduction order for nice/marker/PowerSpectralDensity/theta: ['frequency', 'channels']\n",
      "Reduction order for nice/marker/PowerSpectralDensity/theta: ['frequency', 'channels']\n",
      "Reduction order for nice/marker/PowerSpectralDensity/gamma: ['frequency', 'channels']\n",
      "Reduction order for nice/marker/PowerSpectralDensity/theta: ['frequency', 'channels']\n",
      "Reduction order for nice/marker/PowerSpectralDensity/beta: ['frequency', 'channels']\n",
      "Reduction order for nice/marker/PowerSpectralDensity/beta: ['frequency', 'channels']\n",
      "Running KolmogorovComplexity\n",
      "Elapsed time 0.013323068618774414 sec\n",
      "Reduction order for nice/marker/KolmogorovComplexity/default: ['channels']\n",
      "Filtering  at 10.42 Hz\n",
      "Performing symbolic transformation\n"
     ]
    },
    {
     "name": "stderr",
     "output_type": "stream",
     "text": [
      "[Parallel(n_jobs=24)]: Done  24 out of  24 | elapsed:    4.0s finished\n"
     ]
    },
    {
     "name": "stdout",
     "output_type": "stream",
     "text": [
      "Reduction order for nice/marker/PermutationEntropy/default: ['channels']\n",
      "Autodetected number of jobs 2\n",
      "Computing CSD\n",
      "Using 10-5 locations for CSD\n",
      "Using 2 jobs\n"
     ]
    },
    {
     "name": "stderr",
     "output_type": "stream",
     "text": [
      "[Parallel(n_jobs=2)]: Using backend LokyBackend with 2 concurrent workers.\n"
     ]
    },
    {
     "name": "stdout",
     "output_type": "stream",
     "text": [
      "Filtering  at 10.42 Hz\n",
      "Reduction order for nice/marker/SymbolicMutualInformation/default: ['channels_y', 'channels']\n",
      "Reduction order for nice/marker/ContingentNegativeVariation/default: ['channels']\n",
      "Reduction order for nice/marker/TimeLockedTopography/p1: ['channels', 'times']\n",
      "Reduction order for nice/marker/TimeLockedTopography/p3a: ['channels', 'times']\n",
      "Reduction order for nice/marker/TimeLockedTopography/p3a: ['channels', 'times']\n",
      "Autodetected number of jobs 24\n",
      "Effective window size : 16.384 (s)\n"
     ]
    },
    {
     "name": "stderr",
     "output_type": "stream",
     "text": [
      "[Parallel(n_jobs=2)]: Done   8 out of   8 | elapsed:    1.7s finished\n",
      "[Parallel(n_jobs=24)]: Using backend LokyBackend with 24 concurrent workers.\n",
      "[Parallel(n_jobs=24)]: Done   6 out of  24 | elapsed:    3.6s remaining:   10.8s\n",
      "[Parallel(n_jobs=24)]: Done  11 out of  24 | elapsed:    3.6s remaining:    4.3s\n",
      "[Parallel(n_jobs=24)]: Done  16 out of  24 | elapsed:    3.7s remaining:    1.8s\n",
      "[Parallel(n_jobs=24)]: Done  21 out of  24 | elapsed:    3.8s remaining:    0.5s\n"
     ]
    },
    {
     "name": "stdout",
     "output_type": "stream",
     "text": [
      "Reduction order for nice/marker/PowerSpectralDensity/alpha: ['frequency', 'channels']\n",
      "Reduction order for nice/marker/PowerSpectralDensity/alpha: ['frequency', 'channels']\n",
      "Reduction order for nice/marker/PowerSpectralDensity/delta: ['frequency', 'channels']\n",
      "Reduction order for nice/marker/PowerSpectralDensity/delta: ['frequency', 'channels']\n",
      "Reduction order for nice/marker/PowerSpectralDensity/theta: ['frequency', 'channels']\n",
      "Reduction order for nice/marker/PowerSpectralDensity/theta: ['frequency', 'channels']\n",
      "Reduction order for nice/marker/PowerSpectralDensity/gamma: ['frequency', 'channels']\n",
      "Reduction order for nice/marker/PowerSpectralDensity/theta: ['frequency', 'channels']\n",
      "Reduction order for nice/marker/PowerSpectralDensity/beta: ['frequency', 'channels']\n",
      "Reduction order for nice/marker/PowerSpectralDensity/beta: ['frequency', 'channels']\n",
      "Running KolmogorovComplexity\n",
      "Elapsed time 0.002796649932861328 sec\n",
      "Reduction order for nice/marker/KolmogorovComplexity/default: ['channels']\n",
      "Filtering  at 10.42 Hz\n",
      "Performing symbolic transformation\n"
     ]
    },
    {
     "name": "stderr",
     "output_type": "stream",
     "text": [
      "[Parallel(n_jobs=24)]: Done  24 out of  24 | elapsed:    3.8s finished\n"
     ]
    },
    {
     "name": "stdout",
     "output_type": "stream",
     "text": [
      "Reduction order for nice/marker/PermutationEntropy/default: ['channels']\n",
      "Autodetected number of jobs 2\n",
      "Computing CSD\n",
      "Using 10-5 locations for CSD\n",
      "Using 2 jobs\n"
     ]
    },
    {
     "name": "stderr",
     "output_type": "stream",
     "text": [
      "[Parallel(n_jobs=2)]: Using backend LokyBackend with 2 concurrent workers.\n"
     ]
    },
    {
     "name": "stdout",
     "output_type": "stream",
     "text": [
      "Filtering  at 10.42 Hz\n",
      "Reduction order for nice/marker/SymbolicMutualInformation/default: ['channels_y', 'channels']\n",
      "Reduction order for nice/marker/ContingentNegativeVariation/default: ['channels']\n",
      "Reduction order for nice/marker/TimeLockedTopography/p1: ['channels', 'times']\n",
      "Reduction order for nice/marker/TimeLockedTopography/p3a: ['channels', 'times']\n",
      "Reduction order for nice/marker/TimeLockedTopography/p3a: ['channels', 'times']\n",
      "Autodetected number of jobs 24\n",
      "Effective window size : 16.384 (s)\n"
     ]
    },
    {
     "name": "stderr",
     "output_type": "stream",
     "text": [
      "[Parallel(n_jobs=2)]: Done   2 out of   2 | elapsed:    1.6s remaining:    0.0s\n",
      "[Parallel(n_jobs=2)]: Done   2 out of   2 | elapsed:    1.6s finished\n",
      "[Parallel(n_jobs=24)]: Using backend LokyBackend with 24 concurrent workers.\n",
      "[Parallel(n_jobs=24)]: Done   6 out of  24 | elapsed:    3.6s remaining:   10.9s\n",
      "[Parallel(n_jobs=24)]: Done  11 out of  24 | elapsed:    3.7s remaining:    4.3s\n",
      "[Parallel(n_jobs=24)]: Done  16 out of  24 | elapsed:    3.8s remaining:    1.9s\n",
      "[Parallel(n_jobs=24)]: Done  21 out of  24 | elapsed:    3.8s remaining:    0.5s\n"
     ]
    },
    {
     "name": "stdout",
     "output_type": "stream",
     "text": [
      "Reduction order for nice/marker/PowerSpectralDensity/alpha: ['frequency', 'channels']\n",
      "Reduction order for nice/marker/PowerSpectralDensity/alpha: ['frequency', 'channels']\n",
      "Reduction order for nice/marker/PowerSpectralDensity/delta: ['frequency', 'channels']\n",
      "Reduction order for nice/marker/PowerSpectralDensity/delta: ['frequency', 'channels']\n",
      "Reduction order for nice/marker/PowerSpectralDensity/theta: ['frequency', 'channels']\n",
      "Reduction order for nice/marker/PowerSpectralDensity/theta: ['frequency', 'channels']\n",
      "Reduction order for nice/marker/PowerSpectralDensity/gamma: ['frequency', 'channels']\n",
      "Reduction order for nice/marker/PowerSpectralDensity/theta: ['frequency', 'channels']\n",
      "Reduction order for nice/marker/PowerSpectralDensity/beta: ['frequency', 'channels']\n",
      "Reduction order for nice/marker/PowerSpectralDensity/beta: ['frequency', 'channels']\n",
      "Running KolmogorovComplexity\n",
      "Elapsed time 0.02382040023803711 sec\n",
      "Reduction order for nice/marker/KolmogorovComplexity/default: ['channels']\n",
      "Filtering  at 10.42 Hz\n",
      "Performing symbolic transformation\n"
     ]
    },
    {
     "name": "stderr",
     "output_type": "stream",
     "text": [
      "[Parallel(n_jobs=24)]: Done  24 out of  24 | elapsed:    3.9s finished\n"
     ]
    },
    {
     "name": "stdout",
     "output_type": "stream",
     "text": [
      "Reduction order for nice/marker/PermutationEntropy/default: ['channels']\n",
      "Autodetected number of jobs 2\n",
      "Computing CSD\n",
      "Using 10-5 locations for CSD\n",
      "Using 2 jobs\n"
     ]
    },
    {
     "name": "stderr",
     "output_type": "stream",
     "text": [
      "[Parallel(n_jobs=2)]: Using backend LokyBackend with 2 concurrent workers.\n"
     ]
    },
    {
     "name": "stdout",
     "output_type": "stream",
     "text": [
      "Filtering  at 10.42 Hz\n",
      "Reduction order for nice/marker/SymbolicMutualInformation/default: ['channels_y', 'channels']\n",
      "Reduction order for nice/marker/ContingentNegativeVariation/default: ['channels']\n",
      "Reduction order for nice/marker/TimeLockedTopography/p1: ['channels', 'times']\n",
      "Reduction order for nice/marker/TimeLockedTopography/p3a: ['channels', 'times']\n",
      "Reduction order for nice/marker/TimeLockedTopography/p3a: ['channels', 'times']\n",
      "Autodetected number of jobs 24\n",
      "Effective window size : 16.384 (s)\n"
     ]
    },
    {
     "name": "stderr",
     "output_type": "stream",
     "text": [
      "[Parallel(n_jobs=2)]: Done  15 out of  15 | elapsed:    1.7s finished\n",
      "[Parallel(n_jobs=24)]: Using backend LokyBackend with 24 concurrent workers.\n",
      "[Parallel(n_jobs=24)]: Done   6 out of  24 | elapsed:    3.9s remaining:   11.6s\n",
      "[Parallel(n_jobs=24)]: Done  11 out of  24 | elapsed:    3.9s remaining:    4.6s\n",
      "[Parallel(n_jobs=24)]: Done  16 out of  24 | elapsed:    4.0s remaining:    2.0s\n",
      "[Parallel(n_jobs=24)]: Done  21 out of  24 | elapsed:    4.0s remaining:    0.6s\n",
      "[Parallel(n_jobs=24)]: Done  24 out of  24 | elapsed:    4.1s finished\n"
     ]
    },
    {
     "name": "stdout",
     "output_type": "stream",
     "text": [
      "Reduction order for nice/marker/PowerSpectralDensity/alpha: ['frequency', 'channels']\n",
      "Reduction order for nice/marker/PowerSpectralDensity/alpha: ['frequency', 'channels']\n",
      "Reduction order for nice/marker/PowerSpectralDensity/delta: ['frequency', 'channels']\n",
      "Reduction order for nice/marker/PowerSpectralDensity/delta: ['frequency', 'channels']\n",
      "Reduction order for nice/marker/PowerSpectralDensity/theta: ['frequency', 'channels']\n",
      "Reduction order for nice/marker/PowerSpectralDensity/theta: ['frequency', 'channels']\n",
      "Reduction order for nice/marker/PowerSpectralDensity/gamma: ['frequency', 'channels']\n",
      "Reduction order for nice/marker/PowerSpectralDensity/theta: ['frequency', 'channels']\n",
      "Reduction order for nice/marker/PowerSpectralDensity/beta: ['frequency', 'channels']\n",
      "Reduction order for nice/marker/PowerSpectralDensity/beta: ['frequency', 'channels']\n",
      "Running KolmogorovComplexity\n",
      "Elapsed time 0.1204681396484375 sec\n",
      "Reduction order for nice/marker/KolmogorovComplexity/default: ['channels']\n",
      "Filtering  at 10.42 Hz\n",
      "Performing symbolic transformation\n",
      "Reduction order for nice/marker/PermutationEntropy/default: ['channels']\n",
      "Autodetected number of jobs 2\n",
      "Computing CSD\n",
      "Using 10-5 locations for CSD\n",
      "Using 2 jobs\n"
     ]
    },
    {
     "name": "stderr",
     "output_type": "stream",
     "text": [
      "/home/nicolas.bruno/anaconda3/lib/python3.7/site-packages/nice-0.1.dev0-py3.7.egg/nice/algorithms/information_theory/permutation_entropy.py:75: RuntimeWarning: divide by zero encountered in log\n",
      "  pe = np.nan_to_num(-np.nansum(count * np.log(count), axis=1))\n",
      "/home/nicolas.bruno/anaconda3/lib/python3.7/site-packages/nice-0.1.dev0-py3.7.egg/nice/algorithms/information_theory/permutation_entropy.py:75: RuntimeWarning: invalid value encountered in multiply\n",
      "  pe = np.nan_to_num(-np.nansum(count * np.log(count), axis=1))\n",
      "[Parallel(n_jobs=2)]: Using backend LokyBackend with 2 concurrent workers.\n"
     ]
    },
    {
     "name": "stdout",
     "output_type": "stream",
     "text": [
      "Filtering  at 10.42 Hz\n"
     ]
    },
    {
     "name": "stderr",
     "output_type": "stream",
     "text": [
      "[Parallel(n_jobs=2)]: Done  18 tasks      | elapsed:    1.7s\n",
      "[Parallel(n_jobs=2)]: Done  84 out of  84 | elapsed:    1.8s finished\n"
     ]
    },
    {
     "name": "stdout",
     "output_type": "stream",
     "text": [
      "Reduction order for nice/marker/SymbolicMutualInformation/default: ['channels_y', 'channels']\n",
      "Reduction order for nice/marker/ContingentNegativeVariation/default: ['channels']\n",
      "Reduction order for nice/marker/TimeLockedTopography/p1: ['channels', 'times']\n",
      "Reduction order for nice/marker/TimeLockedTopography/p3a: ['channels', 'times']\n",
      "Reduction order for nice/marker/TimeLockedTopography/p3a: ['channels', 'times']\n",
      "Autodetected number of jobs 24\n",
      "Effective window size : 16.384 (s)\n"
     ]
    },
    {
     "name": "stderr",
     "output_type": "stream",
     "text": [
      "[Parallel(n_jobs=24)]: Using backend LokyBackend with 24 concurrent workers.\n",
      "[Parallel(n_jobs=24)]: Done   6 out of  24 | elapsed:    3.8s remaining:   11.3s\n",
      "[Parallel(n_jobs=24)]: Done  11 out of  24 | elapsed:    3.8s remaining:    4.5s\n",
      "[Parallel(n_jobs=24)]: Done  16 out of  24 | elapsed:    3.9s remaining:    1.9s\n",
      "[Parallel(n_jobs=24)]: Done  21 out of  24 | elapsed:    3.9s remaining:    0.6s\n"
     ]
    },
    {
     "name": "stdout",
     "output_type": "stream",
     "text": [
      "Reduction order for nice/marker/PowerSpectralDensity/alpha: ['frequency', 'channels']\n",
      "Reduction order for nice/marker/PowerSpectralDensity/alpha: ['frequency', 'channels']\n",
      "Reduction order for nice/marker/PowerSpectralDensity/delta: ['frequency', 'channels']\n",
      "Reduction order for nice/marker/PowerSpectralDensity/delta: ['frequency', 'channels']\n",
      "Reduction order for nice/marker/PowerSpectralDensity/theta: ['frequency', 'channels']\n",
      "Reduction order for nice/marker/PowerSpectralDensity/theta: ['frequency', 'channels']\n",
      "Reduction order for nice/marker/PowerSpectralDensity/gamma: ['frequency', 'channels']\n",
      "Reduction order for nice/marker/PowerSpectralDensity/theta: ['frequency', 'channels']\n",
      "Reduction order for nice/marker/PowerSpectralDensity/beta: ['frequency', 'channels']\n",
      "Reduction order for nice/marker/PowerSpectralDensity/beta: ['frequency', 'channels']\n",
      "Running KolmogorovComplexity\n",
      "Elapsed time 0.05218839645385742 sec\n",
      "Reduction order for nice/marker/KolmogorovComplexity/default: ['channels']\n",
      "Filtering  at 10.42 Hz\n",
      "Performing symbolic transformation\n"
     ]
    },
    {
     "name": "stderr",
     "output_type": "stream",
     "text": [
      "[Parallel(n_jobs=24)]: Done  24 out of  24 | elapsed:    4.0s finished\n"
     ]
    },
    {
     "name": "stdout",
     "output_type": "stream",
     "text": [
      "Reduction order for nice/marker/PermutationEntropy/default: ['channels']\n",
      "Autodetected number of jobs 2\n",
      "Computing CSD\n",
      "Using 10-5 locations for CSD\n",
      "Using 2 jobs\n"
     ]
    },
    {
     "name": "stderr",
     "output_type": "stream",
     "text": [
      "[Parallel(n_jobs=2)]: Using backend LokyBackend with 2 concurrent workers.\n"
     ]
    },
    {
     "name": "stdout",
     "output_type": "stream",
     "text": [
      "Filtering  at 10.42 Hz\n"
     ]
    },
    {
     "name": "stderr",
     "output_type": "stream",
     "text": [
      "[Parallel(n_jobs=2)]: Done  18 tasks      | elapsed:    1.7s\n",
      "[Parallel(n_jobs=2)]: Done  36 out of  36 | elapsed:    1.8s finished\n"
     ]
    },
    {
     "name": "stdout",
     "output_type": "stream",
     "text": [
      "Reduction order for nice/marker/SymbolicMutualInformation/default: ['channels_y', 'channels']\n",
      "Reduction order for nice/marker/ContingentNegativeVariation/default: ['channels']\n",
      "Reduction order for nice/marker/TimeLockedTopography/p1: ['channels', 'times']\n",
      "Reduction order for nice/marker/TimeLockedTopography/p3a: ['channels', 'times']\n",
      "Reduction order for nice/marker/TimeLockedTopography/p3a: ['channels', 'times']\n",
      "Autodetected number of jobs 24\n",
      "Effective window size : 16.384 (s)\n"
     ]
    },
    {
     "name": "stderr",
     "output_type": "stream",
     "text": [
      "[Parallel(n_jobs=24)]: Using backend LokyBackend with 24 concurrent workers.\n",
      "[Parallel(n_jobs=24)]: Done   6 out of  24 | elapsed:    3.7s remaining:   11.1s\n",
      "[Parallel(n_jobs=24)]: Done  11 out of  24 | elapsed:    3.8s remaining:    4.5s\n",
      "[Parallel(n_jobs=24)]: Done  16 out of  24 | elapsed:    3.8s remaining:    1.9s\n",
      "[Parallel(n_jobs=24)]: Done  21 out of  24 | elapsed:    3.9s remaining:    0.6s\n"
     ]
    },
    {
     "name": "stdout",
     "output_type": "stream",
     "text": [
      "Reduction order for nice/marker/PowerSpectralDensity/alpha: ['frequency', 'channels']\n",
      "Reduction order for nice/marker/PowerSpectralDensity/alpha: ['frequency', 'channels']\n",
      "Reduction order for nice/marker/PowerSpectralDensity/delta: ['frequency', 'channels']\n",
      "Reduction order for nice/marker/PowerSpectralDensity/delta: ['frequency', 'channels']\n",
      "Reduction order for nice/marker/PowerSpectralDensity/theta: ['frequency', 'channels']\n",
      "Reduction order for nice/marker/PowerSpectralDensity/theta: ['frequency', 'channels']\n",
      "Reduction order for nice/marker/PowerSpectralDensity/gamma: ['frequency', 'channels']\n",
      "Reduction order for nice/marker/PowerSpectralDensity/theta: ['frequency', 'channels']\n",
      "Reduction order for nice/marker/PowerSpectralDensity/beta: ['frequency', 'channels']\n",
      "Reduction order for nice/marker/PowerSpectralDensity/beta: ['frequency', 'channels']\n",
      "Running KolmogorovComplexity\n",
      "Elapsed time 0.02656841278076172 sec\n",
      "Reduction order for nice/marker/KolmogorovComplexity/default: ['channels']\n",
      "Filtering  at 10.42 Hz\n",
      "Performing symbolic transformation\n"
     ]
    },
    {
     "name": "stderr",
     "output_type": "stream",
     "text": [
      "[Parallel(n_jobs=24)]: Done  24 out of  24 | elapsed:    4.0s finished\n"
     ]
    },
    {
     "name": "stdout",
     "output_type": "stream",
     "text": [
      "Reduction order for nice/marker/PermutationEntropy/default: ['channels']\n",
      "Autodetected number of jobs 2\n",
      "Computing CSD\n",
      "Using 10-5 locations for CSD\n",
      "Using 2 jobs\n"
     ]
    },
    {
     "name": "stderr",
     "output_type": "stream",
     "text": [
      "[Parallel(n_jobs=2)]: Using backend LokyBackend with 2 concurrent workers.\n"
     ]
    },
    {
     "name": "stdout",
     "output_type": "stream",
     "text": [
      "Filtering  at 10.42 Hz\n",
      "Reduction order for nice/marker/SymbolicMutualInformation/default: ['channels_y', 'channels']\n",
      "Reduction order for nice/marker/ContingentNegativeVariation/default: ['channels']\n",
      "Reduction order for nice/marker/TimeLockedTopography/p1: ['channels', 'times']\n",
      "Reduction order for nice/marker/TimeLockedTopography/p3a: ['channels', 'times']\n",
      "Reduction order for nice/marker/TimeLockedTopography/p3a: ['channels', 'times']\n",
      "Autodetected number of jobs 24\n",
      "Effective window size : 16.384 (s)\n"
     ]
    },
    {
     "name": "stderr",
     "output_type": "stream",
     "text": [
      "[Parallel(n_jobs=2)]: Done  18 tasks      | elapsed:    1.6s\n",
      "[Parallel(n_jobs=2)]: Done  19 out of  19 | elapsed:    1.7s finished\n",
      "[Parallel(n_jobs=24)]: Using backend LokyBackend with 24 concurrent workers.\n",
      "[Parallel(n_jobs=24)]: Done   6 out of  24 | elapsed:    3.6s remaining:   10.9s\n",
      "[Parallel(n_jobs=24)]: Done  11 out of  24 | elapsed:    3.7s remaining:    4.3s\n",
      "[Parallel(n_jobs=24)]: Done  16 out of  24 | elapsed:    3.7s remaining:    1.9s\n",
      "[Parallel(n_jobs=24)]: Done  21 out of  24 | elapsed:    3.8s remaining:    0.5s\n"
     ]
    },
    {
     "name": "stdout",
     "output_type": "stream",
     "text": [
      "Reduction order for nice/marker/PowerSpectralDensity/alpha: ['frequency', 'channels']\n",
      "Reduction order for nice/marker/PowerSpectralDensity/alpha: ['frequency', 'channels']\n",
      "Reduction order for nice/marker/PowerSpectralDensity/delta: ['frequency', 'channels']\n",
      "Reduction order for nice/marker/PowerSpectralDensity/delta: ['frequency', 'channels']\n",
      "Reduction order for nice/marker/PowerSpectralDensity/theta: ['frequency', 'channels']\n",
      "Reduction order for nice/marker/PowerSpectralDensity/theta: ['frequency', 'channels']\n",
      "Reduction order for nice/marker/PowerSpectralDensity/gamma: ['frequency', 'channels']\n",
      "Reduction order for nice/marker/PowerSpectralDensity/theta: ['frequency', 'channels']\n",
      "Reduction order for nice/marker/PowerSpectralDensity/beta: ['frequency', 'channels']\n",
      "Reduction order for nice/marker/PowerSpectralDensity/beta: ['frequency', 'channels']\n",
      "Running KolmogorovComplexity\n",
      "Elapsed time 0.019633054733276367 sec\n",
      "Reduction order for nice/marker/KolmogorovComplexity/default: ['channels']\n",
      "Filtering  at 10.42 Hz\n",
      "Performing symbolic transformation\n"
     ]
    },
    {
     "name": "stderr",
     "output_type": "stream",
     "text": [
      "[Parallel(n_jobs=24)]: Done  24 out of  24 | elapsed:    3.9s finished\n"
     ]
    },
    {
     "name": "stdout",
     "output_type": "stream",
     "text": [
      "Reduction order for nice/marker/PermutationEntropy/default: ['channels']\n",
      "Autodetected number of jobs 2\n",
      "Computing CSD\n",
      "Using 10-5 locations for CSD\n",
      "Using 2 jobs\n"
     ]
    },
    {
     "name": "stderr",
     "output_type": "stream",
     "text": [
      "[Parallel(n_jobs=2)]: Using backend LokyBackend with 2 concurrent workers.\n"
     ]
    },
    {
     "name": "stdout",
     "output_type": "stream",
     "text": [
      "Filtering  at 10.42 Hz\n",
      "Reduction order for nice/marker/SymbolicMutualInformation/default: ['channels_y', 'channels']\n",
      "Reduction order for nice/marker/ContingentNegativeVariation/default: ['channels']\n",
      "Reduction order for nice/marker/TimeLockedTopography/p1: ['channels', 'times']\n",
      "Reduction order for nice/marker/TimeLockedTopography/p3a: ['channels', 'times']\n",
      "Reduction order for nice/marker/TimeLockedTopography/p3a: ['channels', 'times']\n",
      "\n",
      "#########################################\n",
      "Computing markers for participant VP20\n",
      "#########################################\n",
      "\n",
      "Reading /media/nicolas.bruno/63f8a366-34b7-4896-a7ce-b5fb4ee78535/Nico/MW_eeg_data/minmarker/VP20/VP20_evoked_ar_subtracted_epo.fif ...\n",
      "    Found the data of interest:\n",
      "        t =    -200.00 ...     600.00 ms\n",
      "        0 CTF compensation matrices available\n"
     ]
    },
    {
     "name": "stderr",
     "output_type": "stream",
     "text": [
      "[Parallel(n_jobs=2)]: Done  14 out of  14 | elapsed:    1.7s finished\n"
     ]
    },
    {
     "name": "stdout",
     "output_type": "stream",
     "text": [
      "Not setting metadata\n",
      "Not setting metadata\n",
      "261 matching events found\n",
      "No baseline correction applied\n",
      "0 projection items activated\n",
      "Reading /media/nicolas.bruno/63f8a366-34b7-4896-a7ce-b5fb4ee78535/Nico/MW_eeg_data/minmarker/VP20/VP20_evoked_ar_rereferenced_epo.fif ...\n",
      "    Found the data of interest:\n",
      "        t =    -200.00 ...     600.00 ms\n",
      "        0 CTF compensation matrices available\n",
      "Not setting metadata\n",
      "Not setting metadata\n",
      "261 matching events found\n",
      "No baseline correction applied\n",
      "0 projection items activated\n",
      "Autodetected number of jobs 24\n",
      "Effective window size : 16.384 (s)\n"
     ]
    },
    {
     "name": "stderr",
     "output_type": "stream",
     "text": [
      "[Parallel(n_jobs=24)]: Using backend LokyBackend with 24 concurrent workers.\n",
      "[Parallel(n_jobs=24)]: Done   6 out of  24 | elapsed:    3.7s remaining:   11.2s\n",
      "[Parallel(n_jobs=24)]: Done  11 out of  24 | elapsed:    3.8s remaining:    4.5s\n",
      "[Parallel(n_jobs=24)]: Done  16 out of  24 | elapsed:    3.8s remaining:    1.9s\n",
      "[Parallel(n_jobs=24)]: Done  21 out of  24 | elapsed:    3.9s remaining:    0.6s\n"
     ]
    },
    {
     "name": "stdout",
     "output_type": "stream",
     "text": [
      "Reduction order for nice/marker/PowerSpectralDensity/alpha: ['frequency', 'channels']\n",
      "Reduction order for nice/marker/PowerSpectralDensity/alpha: ['frequency', 'channels']\n",
      "Reduction order for nice/marker/PowerSpectralDensity/delta: ['frequency', 'channels']\n",
      "Reduction order for nice/marker/PowerSpectralDensity/delta: ['frequency', 'channels']\n",
      "Reduction order for nice/marker/PowerSpectralDensity/theta: ['frequency', 'channels']\n",
      "Reduction order for nice/marker/PowerSpectralDensity/theta: ['frequency', 'channels']\n",
      "Reduction order for nice/marker/PowerSpectralDensity/gamma: ['frequency', 'channels']\n",
      "Reduction order for nice/marker/PowerSpectralDensity/theta: ['frequency', 'channels']\n",
      "Reduction order for nice/marker/PowerSpectralDensity/beta: ['frequency', 'channels']\n",
      "Reduction order for nice/marker/PowerSpectralDensity/beta: ['frequency', 'channels']\n",
      "Running KolmogorovComplexity\n",
      "Elapsed time 0.09100198745727539 sec\n",
      "Reduction order for nice/marker/KolmogorovComplexity/default: ['channels']\n",
      "Filtering  at 10.42 Hz\n",
      "Performing symbolic transformation\n"
     ]
    },
    {
     "name": "stderr",
     "output_type": "stream",
     "text": [
      "[Parallel(n_jobs=24)]: Done  24 out of  24 | elapsed:    4.0s finished\n"
     ]
    },
    {
     "name": "stdout",
     "output_type": "stream",
     "text": [
      "Reduction order for nice/marker/PermutationEntropy/default: ['channels']\n",
      "Autodetected number of jobs 2\n",
      "Computing CSD\n",
      "Using 10-5 locations for CSD\n",
      "Using 2 jobs\n"
     ]
    },
    {
     "name": "stderr",
     "output_type": "stream",
     "text": [
      "[Parallel(n_jobs=2)]: Using backend LokyBackend with 2 concurrent workers.\n"
     ]
    },
    {
     "name": "stdout",
     "output_type": "stream",
     "text": [
      "Filtering  at 10.42 Hz\n"
     ]
    },
    {
     "name": "stderr",
     "output_type": "stream",
     "text": [
      "[Parallel(n_jobs=2)]: Done  18 tasks      | elapsed:    1.7s\n",
      "[Parallel(n_jobs=2)]: Done  63 out of  63 | elapsed:    1.8s finished\n"
     ]
    },
    {
     "name": "stdout",
     "output_type": "stream",
     "text": [
      "Reduction order for nice/marker/SymbolicMutualInformation/default: ['channels_y', 'channels']\n",
      "Reduction order for nice/marker/ContingentNegativeVariation/default: ['channels']\n",
      "Reduction order for nice/marker/TimeLockedTopography/p1: ['channels', 'times']\n",
      "Reduction order for nice/marker/TimeLockedTopography/p3a: ['channels', 'times']\n",
      "Reduction order for nice/marker/TimeLockedTopography/p3a: ['channels', 'times']\n",
      "Autodetected number of jobs 24\n",
      "Effective window size : 16.384 (s)\n"
     ]
    },
    {
     "name": "stderr",
     "output_type": "stream",
     "text": [
      "[Parallel(n_jobs=24)]: Using backend LokyBackend with 24 concurrent workers.\n",
      "[Parallel(n_jobs=24)]: Done   6 out of  24 | elapsed:    3.7s remaining:   11.2s\n",
      "[Parallel(n_jobs=24)]: Done  11 out of  24 | elapsed:    3.8s remaining:    4.5s\n",
      "[Parallel(n_jobs=24)]: Done  16 out of  24 | elapsed:    3.8s remaining:    1.9s\n",
      "[Parallel(n_jobs=24)]: Done  21 out of  24 | elapsed:    3.9s remaining:    0.6s\n"
     ]
    },
    {
     "name": "stdout",
     "output_type": "stream",
     "text": [
      "Reduction order for nice/marker/PowerSpectralDensity/alpha: ['frequency', 'channels']\n",
      "Reduction order for nice/marker/PowerSpectralDensity/alpha: ['frequency', 'channels']\n",
      "Reduction order for nice/marker/PowerSpectralDensity/delta: ['frequency', 'channels']\n",
      "Reduction order for nice/marker/PowerSpectralDensity/delta: ['frequency', 'channels']\n",
      "Reduction order for nice/marker/PowerSpectralDensity/theta: ['frequency', 'channels']\n",
      "Reduction order for nice/marker/PowerSpectralDensity/theta: ['frequency', 'channels']\n",
      "Reduction order for nice/marker/PowerSpectralDensity/gamma: ['frequency', 'channels']\n",
      "Reduction order for nice/marker/PowerSpectralDensity/theta: ['frequency', 'channels']\n",
      "Reduction order for nice/marker/PowerSpectralDensity/beta: ['frequency', 'channels']\n",
      "Reduction order for nice/marker/PowerSpectralDensity/beta: ['frequency', 'channels']\n",
      "Running KolmogorovComplexity\n",
      "Elapsed time 0.05562448501586914 sec\n",
      "Reduction order for nice/marker/KolmogorovComplexity/default: ['channels']\n",
      "Filtering  at 10.42 Hz\n",
      "Performing symbolic transformation\n"
     ]
    },
    {
     "name": "stderr",
     "output_type": "stream",
     "text": [
      "[Parallel(n_jobs=24)]: Done  24 out of  24 | elapsed:    4.0s finished\n"
     ]
    },
    {
     "name": "stdout",
     "output_type": "stream",
     "text": [
      "Reduction order for nice/marker/PermutationEntropy/default: ['channels']\n",
      "Autodetected number of jobs 2\n",
      "Computing CSD\n",
      "Using 10-5 locations for CSD\n",
      "Using 2 jobs\n"
     ]
    },
    {
     "name": "stderr",
     "output_type": "stream",
     "text": [
      "[Parallel(n_jobs=2)]: Using backend LokyBackend with 2 concurrent workers.\n"
     ]
    },
    {
     "name": "stdout",
     "output_type": "stream",
     "text": [
      "Filtering  at 10.42 Hz\n"
     ]
    },
    {
     "name": "stderr",
     "output_type": "stream",
     "text": [
      "[Parallel(n_jobs=2)]: Done  18 tasks      | elapsed:    1.7s\n",
      "[Parallel(n_jobs=2)]: Done  38 out of  38 | elapsed:    1.8s finished\n"
     ]
    },
    {
     "name": "stdout",
     "output_type": "stream",
     "text": [
      "Reduction order for nice/marker/SymbolicMutualInformation/default: ['channels_y', 'channels']\n",
      "Reduction order for nice/marker/ContingentNegativeVariation/default: ['channels']\n",
      "Reduction order for nice/marker/TimeLockedTopography/p1: ['channels', 'times']\n",
      "Reduction order for nice/marker/TimeLockedTopography/p3a: ['channels', 'times']\n",
      "Reduction order for nice/marker/TimeLockedTopography/p3a: ['channels', 'times']\n",
      "Autodetected number of jobs 24\n",
      "Effective window size : 16.384 (s)\n"
     ]
    },
    {
     "name": "stderr",
     "output_type": "stream",
     "text": [
      "[Parallel(n_jobs=24)]: Using backend LokyBackend with 24 concurrent workers.\n",
      "[Parallel(n_jobs=24)]: Done   6 out of  24 | elapsed:    3.8s remaining:   11.4s\n",
      "[Parallel(n_jobs=24)]: Done  11 out of  24 | elapsed:    3.8s remaining:    4.5s\n",
      "[Parallel(n_jobs=24)]: Done  16 out of  24 | elapsed:    3.9s remaining:    2.0s\n"
     ]
    },
    {
     "name": "stdout",
     "output_type": "stream",
     "text": [
      "Reduction order for nice/marker/PowerSpectralDensity/alpha: ['frequency', 'channels']\n",
      "Reduction order for nice/marker/PowerSpectralDensity/alpha: ['frequency', 'channels']\n",
      "Reduction order for nice/marker/PowerSpectralDensity/delta: ['frequency', 'channels']\n",
      "Reduction order for nice/marker/PowerSpectralDensity/delta: ['frequency', 'channels']\n",
      "Reduction order for nice/marker/PowerSpectralDensity/theta: ['frequency', 'channels']\n",
      "Reduction order for nice/marker/PowerSpectralDensity/theta: ['frequency', 'channels']\n",
      "Reduction order for nice/marker/PowerSpectralDensity/gamma: ['frequency', 'channels']\n",
      "Reduction order for nice/marker/PowerSpectralDensity/theta: ['frequency', 'channels']\n",
      "Reduction order for nice/marker/PowerSpectralDensity/beta: ['frequency', 'channels']\n",
      "Reduction order for nice/marker/PowerSpectralDensity/beta: ['frequency', 'channels']\n",
      "Running KolmogorovComplexity\n",
      "Elapsed time 0.01163625717163086 sec\n",
      "Reduction order for nice/marker/KolmogorovComplexity/default: ['channels']\n",
      "Filtering  at 10.42 Hz\n",
      "Performing symbolic transformation\n"
     ]
    },
    {
     "name": "stderr",
     "output_type": "stream",
     "text": [
      "[Parallel(n_jobs=24)]: Done  21 out of  24 | elapsed:    4.0s remaining:    0.6s\n",
      "[Parallel(n_jobs=24)]: Done  24 out of  24 | elapsed:    4.2s finished\n"
     ]
    },
    {
     "name": "stdout",
     "output_type": "stream",
     "text": [
      "Reduction order for nice/marker/PermutationEntropy/default: ['channels']\n",
      "Autodetected number of jobs 2\n",
      "Computing CSD\n",
      "Using 10-5 locations for CSD\n",
      "Using 2 jobs\n"
     ]
    },
    {
     "name": "stderr",
     "output_type": "stream",
     "text": [
      "[Parallel(n_jobs=2)]: Using backend LokyBackend with 2 concurrent workers.\n"
     ]
    },
    {
     "name": "stdout",
     "output_type": "stream",
     "text": [
      "Filtering  at 10.42 Hz\n",
      "Reduction order for nice/marker/SymbolicMutualInformation/default: ['channels_y', 'channels']\n",
      "Reduction order for nice/marker/ContingentNegativeVariation/default: ['channels']\n",
      "Reduction order for nice/marker/TimeLockedTopography/p1: ['channels', 'times']\n",
      "Reduction order for nice/marker/TimeLockedTopography/p3a: ['channels', 'times']\n",
      "Reduction order for nice/marker/TimeLockedTopography/p3a: ['channels', 'times']\n",
      "Autodetected number of jobs 24\n",
      "Effective window size : 16.384 (s)\n"
     ]
    },
    {
     "name": "stderr",
     "output_type": "stream",
     "text": [
      "[Parallel(n_jobs=2)]: Done   8 out of   8 | elapsed:    1.7s finished\n",
      "[Parallel(n_jobs=24)]: Using backend LokyBackend with 24 concurrent workers.\n",
      "[Parallel(n_jobs=24)]: Done   6 out of  24 | elapsed:    3.6s remaining:   10.7s\n",
      "[Parallel(n_jobs=24)]: Done  11 out of  24 | elapsed:    3.6s remaining:    4.3s\n",
      "[Parallel(n_jobs=24)]: Done  16 out of  24 | elapsed:    3.7s remaining:    1.8s\n",
      "[Parallel(n_jobs=24)]: Done  21 out of  24 | elapsed:    3.7s remaining:    0.5s\n"
     ]
    },
    {
     "name": "stdout",
     "output_type": "stream",
     "text": [
      "Reduction order for nice/marker/PowerSpectralDensity/alpha: ['frequency', 'channels']\n",
      "Reduction order for nice/marker/PowerSpectralDensity/alpha: ['frequency', 'channels']\n",
      "Reduction order for nice/marker/PowerSpectralDensity/delta: ['frequency', 'channels']\n",
      "Reduction order for nice/marker/PowerSpectralDensity/delta: ['frequency', 'channels']\n",
      "Reduction order for nice/marker/PowerSpectralDensity/theta: ['frequency', 'channels']\n",
      "Reduction order for nice/marker/PowerSpectralDensity/theta: ['frequency', 'channels']\n",
      "Reduction order for nice/marker/PowerSpectralDensity/gamma: ['frequency', 'channels']\n",
      "Reduction order for nice/marker/PowerSpectralDensity/theta: ['frequency', 'channels']\n",
      "Reduction order for nice/marker/PowerSpectralDensity/beta: ['frequency', 'channels']\n",
      "Reduction order for nice/marker/PowerSpectralDensity/beta: ['frequency', 'channels']\n",
      "Running KolmogorovComplexity\n",
      "Elapsed time 0.0028209686279296875 sec\n",
      "Reduction order for nice/marker/KolmogorovComplexity/default: ['channels']\n",
      "Filtering  at 10.42 Hz\n",
      "Performing symbolic transformation\n"
     ]
    },
    {
     "name": "stderr",
     "output_type": "stream",
     "text": [
      "[Parallel(n_jobs=24)]: Done  24 out of  24 | elapsed:    3.8s finished\n"
     ]
    },
    {
     "name": "stdout",
     "output_type": "stream",
     "text": [
      "Reduction order for nice/marker/PermutationEntropy/default: ['channels']\n",
      "Autodetected number of jobs 2\n",
      "Computing CSD\n",
      "Using 10-5 locations for CSD\n",
      "Using 2 jobs\n"
     ]
    },
    {
     "name": "stderr",
     "output_type": "stream",
     "text": [
      "[Parallel(n_jobs=2)]: Using backend LokyBackend with 2 concurrent workers.\n"
     ]
    },
    {
     "name": "stdout",
     "output_type": "stream",
     "text": [
      "Filtering  at 10.42 Hz\n",
      "Reduction order for nice/marker/SymbolicMutualInformation/default: ['channels_y', 'channels']\n",
      "Reduction order for nice/marker/ContingentNegativeVariation/default: ['channels']\n",
      "Reduction order for nice/marker/TimeLockedTopography/p1: ['channels', 'times']\n",
      "Reduction order for nice/marker/TimeLockedTopography/p3a: ['channels', 'times']\n",
      "Reduction order for nice/marker/TimeLockedTopography/p3a: ['channels', 'times']\n",
      "Autodetected number of jobs 24\n",
      "Effective window size : 16.384 (s)\n"
     ]
    },
    {
     "name": "stderr",
     "output_type": "stream",
     "text": [
      "[Parallel(n_jobs=2)]: Done   2 out of   2 | elapsed:    1.6s remaining:    0.0s\n",
      "[Parallel(n_jobs=2)]: Done   2 out of   2 | elapsed:    1.6s finished\n",
      "[Parallel(n_jobs=24)]: Using backend LokyBackend with 24 concurrent workers.\n",
      "[Parallel(n_jobs=24)]: Done   6 out of  24 | elapsed:    3.7s remaining:   11.1s\n",
      "[Parallel(n_jobs=24)]: Done  11 out of  24 | elapsed:    3.9s remaining:    4.6s\n",
      "[Parallel(n_jobs=24)]: Done  16 out of  24 | elapsed:    3.9s remaining:    2.0s\n",
      "[Parallel(n_jobs=24)]: Done  21 out of  24 | elapsed:    4.0s remaining:    0.6s\n",
      "[Parallel(n_jobs=24)]: Done  24 out of  24 | elapsed:    4.1s finished\n"
     ]
    },
    {
     "name": "stdout",
     "output_type": "stream",
     "text": [
      "Reduction order for nice/marker/PowerSpectralDensity/alpha: ['frequency', 'channels']\n",
      "Reduction order for nice/marker/PowerSpectralDensity/alpha: ['frequency', 'channels']\n",
      "Reduction order for nice/marker/PowerSpectralDensity/delta: ['frequency', 'channels']\n",
      "Reduction order for nice/marker/PowerSpectralDensity/delta: ['frequency', 'channels']\n",
      "Reduction order for nice/marker/PowerSpectralDensity/theta: ['frequency', 'channels']\n",
      "Reduction order for nice/marker/PowerSpectralDensity/theta: ['frequency', 'channels']\n",
      "Reduction order for nice/marker/PowerSpectralDensity/gamma: ['frequency', 'channels']\n",
      "Reduction order for nice/marker/PowerSpectralDensity/theta: ['frequency', 'channels']\n",
      "Reduction order for nice/marker/PowerSpectralDensity/beta: ['frequency', 'channels']\n",
      "Reduction order for nice/marker/PowerSpectralDensity/beta: ['frequency', 'channels']\n",
      "Running KolmogorovComplexity\n",
      "Elapsed time 0.02177572250366211 sec\n",
      "Reduction order for nice/marker/KolmogorovComplexity/default: ['channels']\n",
      "Filtering  at 10.42 Hz\n",
      "Performing symbolic transformation\n",
      "Reduction order for nice/marker/PermutationEntropy/default: ['channels']\n",
      "Autodetected number of jobs 2\n",
      "Computing CSD\n",
      "Using 10-5 locations for CSD\n",
      "Using 2 jobs\n"
     ]
    },
    {
     "name": "stderr",
     "output_type": "stream",
     "text": [
      "[Parallel(n_jobs=2)]: Using backend LokyBackend with 2 concurrent workers.\n"
     ]
    },
    {
     "name": "stdout",
     "output_type": "stream",
     "text": [
      "Filtering  at 10.42 Hz\n",
      "Reduction order for nice/marker/SymbolicMutualInformation/default: ['channels_y', 'channels']\n",
      "Reduction order for nice/marker/ContingentNegativeVariation/default: ['channels']\n",
      "Reduction order for nice/marker/TimeLockedTopography/p1: ['channels', 'times']\n",
      "Reduction order for nice/marker/TimeLockedTopography/p3a: ['channels', 'times']\n",
      "Reduction order for nice/marker/TimeLockedTopography/p3a: ['channels', 'times']\n",
      "Autodetected number of jobs 24\n",
      "Effective window size : 16.384 (s)\n"
     ]
    },
    {
     "name": "stderr",
     "output_type": "stream",
     "text": [
      "[Parallel(n_jobs=2)]: Done  15 out of  15 | elapsed:    1.7s finished\n",
      "[Parallel(n_jobs=24)]: Using backend LokyBackend with 24 concurrent workers.\n",
      "[Parallel(n_jobs=24)]: Done   6 out of  24 | elapsed:    3.7s remaining:   11.2s\n",
      "[Parallel(n_jobs=24)]: Done  11 out of  24 | elapsed:    3.8s remaining:    4.5s\n",
      "[Parallel(n_jobs=24)]: Done  16 out of  24 | elapsed:    3.8s remaining:    1.9s\n",
      "[Parallel(n_jobs=24)]: Done  21 out of  24 | elapsed:    3.9s remaining:    0.6s\n",
      "[Parallel(n_jobs=24)]: Done  24 out of  24 | elapsed:    3.9s finished\n"
     ]
    },
    {
     "name": "stdout",
     "output_type": "stream",
     "text": [
      "Reduction order for nice/marker/PowerSpectralDensity/alpha: ['frequency', 'channels']\n",
      "Reduction order for nice/marker/PowerSpectralDensity/alpha: ['frequency', 'channels']\n",
      "Reduction order for nice/marker/PowerSpectralDensity/delta: ['frequency', 'channels']\n",
      "Reduction order for nice/marker/PowerSpectralDensity/delta: ['frequency', 'channels']\n",
      "Reduction order for nice/marker/PowerSpectralDensity/theta: ['frequency', 'channels']\n",
      "Reduction order for nice/marker/PowerSpectralDensity/theta: ['frequency', 'channels']\n",
      "Reduction order for nice/marker/PowerSpectralDensity/gamma: ['frequency', 'channels']\n",
      "Reduction order for nice/marker/PowerSpectralDensity/theta: ['frequency', 'channels']\n",
      "Reduction order for nice/marker/PowerSpectralDensity/beta: ['frequency', 'channels']\n",
      "Reduction order for nice/marker/PowerSpectralDensity/beta: ['frequency', 'channels']\n",
      "Running KolmogorovComplexity\n",
      "Elapsed time 0.03752923011779785 sec\n",
      "Reduction order for nice/marker/KolmogorovComplexity/default: ['channels']\n",
      "Filtering  at 10.42 Hz\n",
      "Performing symbolic transformation\n",
      "Reduction order for nice/marker/PermutationEntropy/default: ['channels']\n",
      "Autodetected number of jobs 2\n",
      "Computing CSD\n",
      "Using 10-5 locations for CSD\n",
      "Using 2 jobs\n"
     ]
    },
    {
     "name": "stderr",
     "output_type": "stream",
     "text": [
      "[Parallel(n_jobs=2)]: Using backend LokyBackend with 2 concurrent workers.\n"
     ]
    },
    {
     "name": "stdout",
     "output_type": "stream",
     "text": [
      "Filtering  at 10.42 Hz\n",
      "Reduction order for nice/marker/SymbolicMutualInformation/default: ['channels_y', 'channels']\n"
     ]
    },
    {
     "name": "stderr",
     "output_type": "stream",
     "text": [
      "[Parallel(n_jobs=2)]: Done  16 tasks      | elapsed:    1.7s\n",
      "[Parallel(n_jobs=2)]: Done  26 out of  26 | elapsed:    1.7s finished\n"
     ]
    },
    {
     "name": "stdout",
     "output_type": "stream",
     "text": [
      "Reduction order for nice/marker/ContingentNegativeVariation/default: ['channels']\n",
      "Reduction order for nice/marker/TimeLockedTopography/p1: ['channels', 'times']\n",
      "Reduction order for nice/marker/TimeLockedTopography/p3a: ['channels', 'times']\n",
      "Reduction order for nice/marker/TimeLockedTopography/p3a: ['channels', 'times']\n",
      "Autodetected number of jobs 24\n",
      "Effective window size : 16.384 (s)\n"
     ]
    },
    {
     "name": "stderr",
     "output_type": "stream",
     "text": [
      "[Parallel(n_jobs=24)]: Using backend LokyBackend with 24 concurrent workers.\n",
      "[Parallel(n_jobs=24)]: Done   6 out of  24 | elapsed:    3.6s remaining:   10.7s\n",
      "[Parallel(n_jobs=24)]: Done  11 out of  24 | elapsed:    3.6s remaining:    4.3s\n",
      "[Parallel(n_jobs=24)]: Done  16 out of  24 | elapsed:    3.7s remaining:    1.9s\n"
     ]
    },
    {
     "name": "stdout",
     "output_type": "stream",
     "text": [
      "Reduction order for nice/marker/PowerSpectralDensity/alpha: ['frequency', 'channels']\n",
      "Reduction order for nice/marker/PowerSpectralDensity/alpha: ['frequency', 'channels']\n",
      "Reduction order for nice/marker/PowerSpectralDensity/delta: ['frequency', 'channels']\n",
      "Reduction order for nice/marker/PowerSpectralDensity/delta: ['frequency', 'channels']\n",
      "Reduction order for nice/marker/PowerSpectralDensity/theta: ['frequency', 'channels']\n",
      "Reduction order for nice/marker/PowerSpectralDensity/theta: ['frequency', 'channels']\n",
      "Reduction order for nice/marker/PowerSpectralDensity/gamma: ['frequency', 'channels']\n",
      "Reduction order for nice/marker/PowerSpectralDensity/theta: ['frequency', 'channels']\n",
      "Reduction order for nice/marker/PowerSpectralDensity/beta: ['frequency', 'channels']\n",
      "Reduction order for nice/marker/PowerSpectralDensity/beta: ['frequency', 'channels']\n",
      "Running KolmogorovComplexity\n",
      "Elapsed time 0.01964282989501953 sec\n",
      "Reduction order for nice/marker/KolmogorovComplexity/default: ['channels']\n",
      "Filtering  at 10.42 Hz\n",
      "Performing symbolic transformation\n"
     ]
    },
    {
     "name": "stderr",
     "output_type": "stream",
     "text": [
      "[Parallel(n_jobs=24)]: Done  21 out of  24 | elapsed:    3.8s remaining:    0.5s\n",
      "[Parallel(n_jobs=24)]: Done  24 out of  24 | elapsed:    3.8s finished\n"
     ]
    },
    {
     "name": "stdout",
     "output_type": "stream",
     "text": [
      "Reduction order for nice/marker/PermutationEntropy/default: ['channels']\n",
      "Autodetected number of jobs 2\n",
      "Computing CSD\n",
      "Using 10-5 locations for CSD\n",
      "Using 2 jobs\n"
     ]
    },
    {
     "name": "stderr",
     "output_type": "stream",
     "text": [
      "[Parallel(n_jobs=2)]: Using backend LokyBackend with 2 concurrent workers.\n"
     ]
    },
    {
     "name": "stdout",
     "output_type": "stream",
     "text": [
      "Filtering  at 10.42 Hz\n",
      "Reduction order for nice/marker/SymbolicMutualInformation/default: ['channels_y', 'channels']\n",
      "Reduction order for nice/marker/ContingentNegativeVariation/default: ['channels']\n",
      "Reduction order for nice/marker/TimeLockedTopography/p1: ['channels', 'times']\n",
      "Reduction order for nice/marker/TimeLockedTopography/p3a: ['channels', 'times']\n",
      "Reduction order for nice/marker/TimeLockedTopography/p3a: ['channels', 'times']\n",
      "Autodetected number of jobs 24\n",
      "Effective window size : 16.384 (s)\n"
     ]
    },
    {
     "name": "stderr",
     "output_type": "stream",
     "text": [
      "[Parallel(n_jobs=2)]: Done  14 out of  14 | elapsed:    1.7s finished\n",
      "[Parallel(n_jobs=24)]: Using backend LokyBackend with 24 concurrent workers.\n",
      "[Parallel(n_jobs=24)]: Done   6 out of  24 | elapsed:    3.6s remaining:   10.9s\n",
      "[Parallel(n_jobs=24)]: Done  11 out of  24 | elapsed:    3.7s remaining:    4.4s\n",
      "[Parallel(n_jobs=24)]: Done  16 out of  24 | elapsed:    3.8s remaining:    1.9s\n"
     ]
    },
    {
     "name": "stdout",
     "output_type": "stream",
     "text": [
      "Reduction order for nice/marker/PowerSpectralDensity/alpha: ['frequency', 'channels']\n",
      "Reduction order for nice/marker/PowerSpectralDensity/alpha: ['frequency', 'channels']\n",
      "Reduction order for nice/marker/PowerSpectralDensity/delta: ['frequency', 'channels']\n",
      "Reduction order for nice/marker/PowerSpectralDensity/delta: ['frequency', 'channels']\n",
      "Reduction order for nice/marker/PowerSpectralDensity/theta: ['frequency', 'channels']\n",
      "Reduction order for nice/marker/PowerSpectralDensity/theta: ['frequency', 'channels']\n",
      "Reduction order for nice/marker/PowerSpectralDensity/gamma: ['frequency', 'channels']\n",
      "Reduction order for nice/marker/PowerSpectralDensity/theta: ['frequency', 'channels']\n",
      "Reduction order for nice/marker/PowerSpectralDensity/beta: ['frequency', 'channels']\n",
      "Reduction order for nice/marker/PowerSpectralDensity/beta: ['frequency', 'channels']\n",
      "Running KolmogorovComplexity\n",
      "Elapsed time 0.005404949188232422 sec\n",
      "Reduction order for nice/marker/KolmogorovComplexity/default: ['channels']\n",
      "Filtering  at 10.42 Hz\n",
      "Performing symbolic transformation\n"
     ]
    },
    {
     "name": "stderr",
     "output_type": "stream",
     "text": [
      "[Parallel(n_jobs=24)]: Done  21 out of  24 | elapsed:    4.0s remaining:    0.6s\n",
      "[Parallel(n_jobs=24)]: Done  24 out of  24 | elapsed:    4.1s finished\n"
     ]
    },
    {
     "name": "stdout",
     "output_type": "stream",
     "text": [
      "Reduction order for nice/marker/PermutationEntropy/default: ['channels']\n",
      "Autodetected number of jobs 2\n",
      "Computing CSD\n",
      "Using 10-5 locations for CSD\n",
      "Using 2 jobs\n"
     ]
    },
    {
     "name": "stderr",
     "output_type": "stream",
     "text": [
      "[Parallel(n_jobs=2)]: Using backend LokyBackend with 2 concurrent workers.\n"
     ]
    },
    {
     "name": "stdout",
     "output_type": "stream",
     "text": [
      "Filtering  at 10.42 Hz\n",
      "Reduction order for nice/marker/SymbolicMutualInformation/default: ['channels_y', 'channels']\n",
      "Reduction order for nice/marker/ContingentNegativeVariation/default: ['channels']\n",
      "Reduction order for nice/marker/TimeLockedTopography/p1: ['channels', 'times']\n",
      "Reduction order for nice/marker/TimeLockedTopography/p3a: ['channels', 'times']\n",
      "Reduction order for nice/marker/TimeLockedTopography/p3a: ['channels', 'times']\n",
      "Autodetected number of jobs 24\n",
      "Effective window size : 16.384 (s)\n"
     ]
    },
    {
     "name": "stderr",
     "output_type": "stream",
     "text": [
      "[Parallel(n_jobs=2)]: Done   4 out of   4 | elapsed:    1.7s remaining:    0.0s\n",
      "[Parallel(n_jobs=2)]: Done   4 out of   4 | elapsed:    1.7s finished\n",
      "[Parallel(n_jobs=24)]: Using backend LokyBackend with 24 concurrent workers.\n",
      "[Parallel(n_jobs=24)]: Done   6 out of  24 | elapsed:    3.7s remaining:   11.1s\n",
      "[Parallel(n_jobs=24)]: Done  11 out of  24 | elapsed:    3.8s remaining:    4.4s\n",
      "[Parallel(n_jobs=24)]: Done  16 out of  24 | elapsed:    3.8s remaining:    1.9s\n",
      "[Parallel(n_jobs=24)]: Done  21 out of  24 | elapsed:    3.9s remaining:    0.6s\n"
     ]
    },
    {
     "name": "stdout",
     "output_type": "stream",
     "text": [
      "Reduction order for nice/marker/PowerSpectralDensity/alpha: ['frequency', 'channels']\n",
      "Reduction order for nice/marker/PowerSpectralDensity/alpha: ['frequency', 'channels']\n",
      "Reduction order for nice/marker/PowerSpectralDensity/delta: ['frequency', 'channels']\n",
      "Reduction order for nice/marker/PowerSpectralDensity/delta: ['frequency', 'channels']\n",
      "Reduction order for nice/marker/PowerSpectralDensity/theta: ['frequency', 'channels']\n",
      "Reduction order for nice/marker/PowerSpectralDensity/theta: ['frequency', 'channels']\n",
      "Reduction order for nice/marker/PowerSpectralDensity/gamma: ['frequency', 'channels']\n",
      "Reduction order for nice/marker/PowerSpectralDensity/theta: ['frequency', 'channels']\n",
      "Reduction order for nice/marker/PowerSpectralDensity/beta: ['frequency', 'channels']\n",
      "Reduction order for nice/marker/PowerSpectralDensity/beta: ['frequency', 'channels']\n",
      "Running KolmogorovComplexity\n",
      "Elapsed time 0.014148473739624023 sec\n",
      "Reduction order for nice/marker/KolmogorovComplexity/default: ['channels']\n",
      "Filtering  at 10.42 Hz\n",
      "Performing symbolic transformation\n"
     ]
    },
    {
     "name": "stderr",
     "output_type": "stream",
     "text": [
      "[Parallel(n_jobs=24)]: Done  24 out of  24 | elapsed:    3.9s finished\n"
     ]
    },
    {
     "name": "stdout",
     "output_type": "stream",
     "text": [
      "Reduction order for nice/marker/PermutationEntropy/default: ['channels']\n",
      "Autodetected number of jobs 2\n",
      "Computing CSD\n",
      "Using 10-5 locations for CSD\n",
      "Using 2 jobs\n"
     ]
    },
    {
     "name": "stderr",
     "output_type": "stream",
     "text": [
      "[Parallel(n_jobs=2)]: Using backend LokyBackend with 2 concurrent workers.\n"
     ]
    },
    {
     "name": "stdout",
     "output_type": "stream",
     "text": [
      "Filtering  at 10.42 Hz\n",
      "Reduction order for nice/marker/SymbolicMutualInformation/default: ['channels_y', 'channels']\n",
      "Reduction order for nice/marker/ContingentNegativeVariation/default: ['channels']\n",
      "Reduction order for nice/marker/TimeLockedTopography/p1: ['channels', 'times']\n",
      "Reduction order for nice/marker/TimeLockedTopography/p3a: ['channels', 'times']\n",
      "Reduction order for nice/marker/TimeLockedTopography/p3a: ['channels', 'times']\n",
      "\n",
      "#########################################\n",
      "Computing markers for participant VP22\n",
      "#########################################\n",
      "\n",
      "Reading /media/nicolas.bruno/63f8a366-34b7-4896-a7ce-b5fb4ee78535/Nico/MW_eeg_data/minmarker/VP22/VP22_evoked_ar_subtracted_epo.fif ...\n",
      "    Found the data of interest:\n",
      "        t =    -200.00 ...     600.00 ms\n",
      "        0 CTF compensation matrices available\n",
      "Not setting metadata\n",
      "Not setting metadata\n",
      "114 matching events found\n",
      "No baseline correction applied\n",
      "0 projection items activated\n",
      "Reading /media/nicolas.bruno/63f8a366-34b7-4896-a7ce-b5fb4ee78535/Nico/MW_eeg_data/minmarker/VP22/VP22_evoked_ar_rereferenced_epo.fif ...\n",
      "    Found the data of interest:\n",
      "        t =    -200.00 ...     600.00 ms\n",
      "        0 CTF compensation matrices available\n"
     ]
    },
    {
     "name": "stderr",
     "output_type": "stream",
     "text": [
      "[Parallel(n_jobs=2)]: Done   8 out of   8 | elapsed:    1.7s finished\n"
     ]
    },
    {
     "name": "stdout",
     "output_type": "stream",
     "text": [
      "Not setting metadata\n",
      "Not setting metadata\n",
      "114 matching events found\n",
      "No baseline correction applied\n",
      "0 projection items activated\n",
      "Autodetected number of jobs 24\n",
      "Effective window size : 16.384 (s)\n"
     ]
    },
    {
     "name": "stderr",
     "output_type": "stream",
     "text": [
      "[Parallel(n_jobs=24)]: Using backend LokyBackend with 24 concurrent workers.\n",
      "[Parallel(n_jobs=24)]: Done   6 out of  24 | elapsed:    3.8s remaining:   11.5s\n",
      "[Parallel(n_jobs=24)]: Done  11 out of  24 | elapsed:    3.9s remaining:    4.6s\n",
      "[Parallel(n_jobs=24)]: Done  16 out of  24 | elapsed:    3.9s remaining:    2.0s\n",
      "[Parallel(n_jobs=24)]: Done  21 out of  24 | elapsed:    4.0s remaining:    0.6s\n"
     ]
    },
    {
     "name": "stdout",
     "output_type": "stream",
     "text": [
      "Reduction order for nice/marker/PowerSpectralDensity/alpha: ['frequency', 'channels']\n",
      "Reduction order for nice/marker/PowerSpectralDensity/alpha: ['frequency', 'channels']\n",
      "Reduction order for nice/marker/PowerSpectralDensity/delta: ['frequency', 'channels']\n",
      "Reduction order for nice/marker/PowerSpectralDensity/delta: ['frequency', 'channels']\n",
      "Reduction order for nice/marker/PowerSpectralDensity/theta: ['frequency', 'channels']\n",
      "Reduction order for nice/marker/PowerSpectralDensity/theta: ['frequency', 'channels']\n",
      "Reduction order for nice/marker/PowerSpectralDensity/gamma: ['frequency', 'channels']\n",
      "Reduction order for nice/marker/PowerSpectralDensity/theta: ['frequency', 'channels']\n",
      "Reduction order for nice/marker/PowerSpectralDensity/beta: ['frequency', 'channels']\n",
      "Reduction order for nice/marker/PowerSpectralDensity/beta: ['frequency', 'channels']\n",
      "Running KolmogorovComplexity\n",
      "Elapsed time 0.09220123291015625 sec\n",
      "Reduction order for nice/marker/KolmogorovComplexity/default: ['channels']\n",
      "Filtering  at 10.42 Hz\n"
     ]
    },
    {
     "name": "stderr",
     "output_type": "stream",
     "text": [
      "[Parallel(n_jobs=24)]: Done  24 out of  24 | elapsed:    4.1s finished\n"
     ]
    },
    {
     "name": "stdout",
     "output_type": "stream",
     "text": [
      "Performing symbolic transformation\n",
      "Reduction order for nice/marker/PermutationEntropy/default: ['channels']\n",
      "Autodetected number of jobs 2\n",
      "Computing CSD\n",
      "Using 10-5 locations for CSD\n",
      "Using 2 jobs\n"
     ]
    },
    {
     "name": "stderr",
     "output_type": "stream",
     "text": [
      "[Parallel(n_jobs=2)]: Using backend LokyBackend with 2 concurrent workers.\n"
     ]
    },
    {
     "name": "stdout",
     "output_type": "stream",
     "text": [
      "Filtering  at 10.42 Hz\n"
     ]
    },
    {
     "name": "stderr",
     "output_type": "stream",
     "text": [
      "[Parallel(n_jobs=2)]: Done  18 tasks      | elapsed:    1.7s\n",
      "[Parallel(n_jobs=2)]: Done  63 out of  63 | elapsed:    1.8s finished\n"
     ]
    },
    {
     "name": "stdout",
     "output_type": "stream",
     "text": [
      "Reduction order for nice/marker/SymbolicMutualInformation/default: ['channels_y', 'channels']\n",
      "Reduction order for nice/marker/ContingentNegativeVariation/default: ['channels']\n",
      "Reduction order for nice/marker/TimeLockedTopography/p1: ['channels', 'times']\n",
      "Reduction order for nice/marker/TimeLockedTopography/p3a: ['channels', 'times']\n",
      "Reduction order for nice/marker/TimeLockedTopography/p3a: ['channels', 'times']\n",
      "Autodetected number of jobs 24\n",
      "Effective window size : 16.384 (s)\n"
     ]
    },
    {
     "name": "stderr",
     "output_type": "stream",
     "text": [
      "[Parallel(n_jobs=24)]: Using backend LokyBackend with 24 concurrent workers.\n",
      "[Parallel(n_jobs=24)]: Done   6 out of  24 | elapsed:    3.7s remaining:   11.1s\n",
      "[Parallel(n_jobs=24)]: Done  11 out of  24 | elapsed:    3.7s remaining:    4.4s\n",
      "[Parallel(n_jobs=24)]: Done  16 out of  24 | elapsed:    3.8s remaining:    1.9s\n",
      "[Parallel(n_jobs=24)]: Done  21 out of  24 | elapsed:    3.9s remaining:    0.6s\n"
     ]
    },
    {
     "name": "stdout",
     "output_type": "stream",
     "text": [
      "Reduction order for nice/marker/PowerSpectralDensity/alpha: ['frequency', 'channels']\n",
      "Reduction order for nice/marker/PowerSpectralDensity/alpha: ['frequency', 'channels']\n",
      "Reduction order for nice/marker/PowerSpectralDensity/delta: ['frequency', 'channels']\n",
      "Reduction order for nice/marker/PowerSpectralDensity/delta: ['frequency', 'channels']\n",
      "Reduction order for nice/marker/PowerSpectralDensity/theta: ['frequency', 'channels']\n",
      "Reduction order for nice/marker/PowerSpectralDensity/theta: ['frequency', 'channels']\n",
      "Reduction order for nice/marker/PowerSpectralDensity/gamma: ['frequency', 'channels']\n",
      "Reduction order for nice/marker/PowerSpectralDensity/theta: ['frequency', 'channels']\n",
      "Reduction order for nice/marker/PowerSpectralDensity/beta: ['frequency', 'channels']\n",
      "Reduction order for nice/marker/PowerSpectralDensity/beta: ['frequency', 'channels']\n",
      "Running KolmogorovComplexity\n",
      "Elapsed time 0.054315805435180664 sec\n",
      "Reduction order for nice/marker/KolmogorovComplexity/default: ['channels']\n",
      "Filtering  at 10.42 Hz\n",
      "Performing symbolic transformation\n"
     ]
    },
    {
     "name": "stderr",
     "output_type": "stream",
     "text": [
      "[Parallel(n_jobs=24)]: Done  24 out of  24 | elapsed:    4.0s finished\n"
     ]
    },
    {
     "name": "stdout",
     "output_type": "stream",
     "text": [
      "Reduction order for nice/marker/PermutationEntropy/default: ['channels']\n",
      "Autodetected number of jobs 2\n",
      "Computing CSD\n",
      "Using 10-5 locations for CSD\n",
      "Using 2 jobs\n"
     ]
    },
    {
     "name": "stderr",
     "output_type": "stream",
     "text": [
      "[Parallel(n_jobs=2)]: Using backend LokyBackend with 2 concurrent workers.\n"
     ]
    },
    {
     "name": "stdout",
     "output_type": "stream",
     "text": [
      "Filtering  at 10.42 Hz\n"
     ]
    },
    {
     "name": "stderr",
     "output_type": "stream",
     "text": [
      "[Parallel(n_jobs=2)]: Done  18 tasks      | elapsed:    1.7s\n",
      "[Parallel(n_jobs=2)]: Done  38 out of  38 | elapsed:    1.7s finished\n"
     ]
    },
    {
     "name": "stdout",
     "output_type": "stream",
     "text": [
      "Reduction order for nice/marker/SymbolicMutualInformation/default: ['channels_y', 'channels']\n",
      "Reduction order for nice/marker/ContingentNegativeVariation/default: ['channels']\n",
      "Reduction order for nice/marker/TimeLockedTopography/p1: ['channels', 'times']\n",
      "Reduction order for nice/marker/TimeLockedTopography/p3a: ['channels', 'times']\n",
      "Reduction order for nice/marker/TimeLockedTopography/p3a: ['channels', 'times']\n",
      "Autodetected number of jobs 24\n",
      "Effective window size : 16.384 (s)\n"
     ]
    },
    {
     "name": "stderr",
     "output_type": "stream",
     "text": [
      "[Parallel(n_jobs=24)]: Using backend LokyBackend with 24 concurrent workers.\n",
      "[Parallel(n_jobs=24)]: Done   6 out of  24 | elapsed:    3.7s remaining:   11.1s\n",
      "[Parallel(n_jobs=24)]: Done  11 out of  24 | elapsed:    3.8s remaining:    4.5s\n",
      "[Parallel(n_jobs=24)]: Done  16 out of  24 | elapsed:    3.9s remaining:    1.9s\n"
     ]
    },
    {
     "name": "stdout",
     "output_type": "stream",
     "text": [
      "Reduction order for nice/marker/PowerSpectralDensity/alpha: ['frequency', 'channels']\n",
      "Reduction order for nice/marker/PowerSpectralDensity/alpha: ['frequency', 'channels']\n",
      "Reduction order for nice/marker/PowerSpectralDensity/delta: ['frequency', 'channels']\n",
      "Reduction order for nice/marker/PowerSpectralDensity/delta: ['frequency', 'channels']\n",
      "Reduction order for nice/marker/PowerSpectralDensity/theta: ['frequency', 'channels']\n",
      "Reduction order for nice/marker/PowerSpectralDensity/theta: ['frequency', 'channels']\n",
      "Reduction order for nice/marker/PowerSpectralDensity/gamma: ['frequency', 'channels']\n",
      "Reduction order for nice/marker/PowerSpectralDensity/theta: ['frequency', 'channels']\n",
      "Reduction order for nice/marker/PowerSpectralDensity/beta: ['frequency', 'channels']\n",
      "Reduction order for nice/marker/PowerSpectralDensity/beta: ['frequency', 'channels']\n",
      "Running KolmogorovComplexity\n",
      "Elapsed time 0.011684179306030273 sec\n",
      "Reduction order for nice/marker/KolmogorovComplexity/default: ['channels']\n",
      "Filtering  at 10.42 Hz\n",
      "Performing symbolic transformation\n"
     ]
    },
    {
     "name": "stderr",
     "output_type": "stream",
     "text": [
      "[Parallel(n_jobs=24)]: Done  21 out of  24 | elapsed:    3.9s remaining:    0.6s\n",
      "[Parallel(n_jobs=24)]: Done  24 out of  24 | elapsed:    4.1s finished\n"
     ]
    },
    {
     "name": "stdout",
     "output_type": "stream",
     "text": [
      "Reduction order for nice/marker/PermutationEntropy/default: ['channels']\n",
      "Autodetected number of jobs 2\n",
      "Computing CSD\n",
      "Using 10-5 locations for CSD\n",
      "Using 2 jobs\n"
     ]
    },
    {
     "name": "stderr",
     "output_type": "stream",
     "text": [
      "[Parallel(n_jobs=2)]: Using backend LokyBackend with 2 concurrent workers.\n"
     ]
    },
    {
     "name": "stdout",
     "output_type": "stream",
     "text": [
      "Filtering  at 10.42 Hz\n",
      "Reduction order for nice/marker/SymbolicMutualInformation/default: ['channels_y', 'channels']\n",
      "Reduction order for nice/marker/ContingentNegativeVariation/default: ['channels']\n",
      "Reduction order for nice/marker/TimeLockedTopography/p1: ['channels', 'times']\n",
      "Reduction order for nice/marker/TimeLockedTopography/p3a: ['channels', 'times']\n",
      "Reduction order for nice/marker/TimeLockedTopography/p3a: ['channels', 'times']\n",
      "Autodetected number of jobs 24\n",
      "Effective window size : 16.384 (s)\n"
     ]
    },
    {
     "name": "stderr",
     "output_type": "stream",
     "text": [
      "[Parallel(n_jobs=2)]: Done   8 out of   8 | elapsed:    1.7s finished\n",
      "[Parallel(n_jobs=24)]: Using backend LokyBackend with 24 concurrent workers.\n",
      "[Parallel(n_jobs=24)]: Done   6 out of  24 | elapsed:    3.7s remaining:   11.0s\n",
      "[Parallel(n_jobs=24)]: Done  11 out of  24 | elapsed:    3.7s remaining:    4.4s\n",
      "[Parallel(n_jobs=24)]: Done  16 out of  24 | elapsed:    3.8s remaining:    1.9s\n",
      "[Parallel(n_jobs=24)]: Done  21 out of  24 | elapsed:    3.9s remaining:    0.6s\n"
     ]
    },
    {
     "name": "stdout",
     "output_type": "stream",
     "text": [
      "Reduction order for nice/marker/PowerSpectralDensity/alpha: ['frequency', 'channels']\n",
      "Reduction order for nice/marker/PowerSpectralDensity/alpha: ['frequency', 'channels']\n",
      "Reduction order for nice/marker/PowerSpectralDensity/delta: ['frequency', 'channels']\n",
      "Reduction order for nice/marker/PowerSpectralDensity/delta: ['frequency', 'channels']\n",
      "Reduction order for nice/marker/PowerSpectralDensity/theta: ['frequency', 'channels']\n",
      "Reduction order for nice/marker/PowerSpectralDensity/theta: ['frequency', 'channels']\n",
      "Reduction order for nice/marker/PowerSpectralDensity/gamma: ['frequency', 'channels']\n",
      "Reduction order for nice/marker/PowerSpectralDensity/theta: ['frequency', 'channels']\n",
      "Reduction order for nice/marker/PowerSpectralDensity/beta: ['frequency', 'channels']\n",
      "Reduction order for nice/marker/PowerSpectralDensity/beta: ['frequency', 'channels']\n",
      "Running KolmogorovComplexity\n",
      "Elapsed time 0.0036869049072265625 sec\n",
      "Reduction order for nice/marker/KolmogorovComplexity/default: ['channels']\n",
      "Filtering  at 10.42 Hz\n",
      "Performing symbolic transformation\n"
     ]
    },
    {
     "name": "stderr",
     "output_type": "stream",
     "text": [
      "[Parallel(n_jobs=24)]: Done  24 out of  24 | elapsed:    3.9s finished\n"
     ]
    },
    {
     "name": "stdout",
     "output_type": "stream",
     "text": [
      "Reduction order for nice/marker/PermutationEntropy/default: ['channels']\n",
      "Autodetected number of jobs 2\n",
      "Computing CSD\n",
      "Using 10-5 locations for CSD\n",
      "Using 2 jobs\n"
     ]
    },
    {
     "name": "stderr",
     "output_type": "stream",
     "text": [
      "[Parallel(n_jobs=2)]: Using backend LokyBackend with 2 concurrent workers.\n"
     ]
    },
    {
     "name": "stdout",
     "output_type": "stream",
     "text": [
      "Filtering  at 10.42 Hz\n",
      "Reduction order for nice/marker/SymbolicMutualInformation/default: ['channels_y', 'channels']\n",
      "Reduction order for nice/marker/ContingentNegativeVariation/default: ['channels']\n",
      "Reduction order for nice/marker/TimeLockedTopography/p1: ['channels', 'times']\n",
      "Reduction order for nice/marker/TimeLockedTopography/p3a: ['channels', 'times']\n",
      "Reduction order for nice/marker/TimeLockedTopography/p3a: ['channels', 'times']\n",
      "Autodetected number of jobs 24\n",
      "Effective window size : 16.384 (s)\n"
     ]
    },
    {
     "name": "stderr",
     "output_type": "stream",
     "text": [
      "[Parallel(n_jobs=2)]: Done   2 out of   2 | elapsed:    1.6s remaining:    0.0s\n",
      "[Parallel(n_jobs=2)]: Done   2 out of   2 | elapsed:    1.6s finished\n",
      "[Parallel(n_jobs=24)]: Using backend LokyBackend with 24 concurrent workers.\n",
      "[Parallel(n_jobs=24)]: Done   6 out of  24 | elapsed:    3.7s remaining:   11.0s\n",
      "[Parallel(n_jobs=24)]: Done  11 out of  24 | elapsed:    3.7s remaining:    4.4s\n",
      "[Parallel(n_jobs=24)]: Done  16 out of  24 | elapsed:    3.7s remaining:    1.9s\n",
      "[Parallel(n_jobs=24)]: Done  21 out of  24 | elapsed:    3.8s remaining:    0.5s\n"
     ]
    },
    {
     "name": "stdout",
     "output_type": "stream",
     "text": [
      "Reduction order for nice/marker/PowerSpectralDensity/alpha: ['frequency', 'channels']\n",
      "Reduction order for nice/marker/PowerSpectralDensity/alpha: ['frequency', 'channels']\n",
      "Reduction order for nice/marker/PowerSpectralDensity/delta: ['frequency', 'channels']\n",
      "Reduction order for nice/marker/PowerSpectralDensity/delta: ['frequency', 'channels']\n",
      "Reduction order for nice/marker/PowerSpectralDensity/theta: ['frequency', 'channels']\n",
      "Reduction order for nice/marker/PowerSpectralDensity/theta: ['frequency', 'channels']\n",
      "Reduction order for nice/marker/PowerSpectralDensity/gamma: ['frequency', 'channels']\n",
      "Reduction order for nice/marker/PowerSpectralDensity/theta: ['frequency', 'channels']\n",
      "Reduction order for nice/marker/PowerSpectralDensity/beta: ['frequency', 'channels']\n",
      "Reduction order for nice/marker/PowerSpectralDensity/beta: ['frequency', 'channels']\n",
      "Running KolmogorovComplexity\n",
      "Elapsed time 0.02133345603942871 sec\n",
      "Reduction order for nice/marker/KolmogorovComplexity/default: ['channels']\n",
      "Filtering  at 10.42 Hz\n",
      "Performing symbolic transformation\n"
     ]
    },
    {
     "name": "stderr",
     "output_type": "stream",
     "text": [
      "[Parallel(n_jobs=24)]: Done  24 out of  24 | elapsed:    3.9s finished\n"
     ]
    },
    {
     "name": "stdout",
     "output_type": "stream",
     "text": [
      "Reduction order for nice/marker/PermutationEntropy/default: ['channels']\n",
      "Autodetected number of jobs 2\n",
      "Computing CSD\n",
      "Using 10-5 locations for CSD\n",
      "Using 2 jobs\n"
     ]
    },
    {
     "name": "stderr",
     "output_type": "stream",
     "text": [
      "[Parallel(n_jobs=2)]: Using backend LokyBackend with 2 concurrent workers.\n"
     ]
    },
    {
     "name": "stdout",
     "output_type": "stream",
     "text": [
      "Filtering  at 10.42 Hz\n",
      "Reduction order for nice/marker/SymbolicMutualInformation/default: ['channels_y', 'channels']\n",
      "Reduction order for nice/marker/ContingentNegativeVariation/default: ['channels']\n",
      "Reduction order for nice/marker/TimeLockedTopography/p1: ['channels', 'times']\n",
      "Reduction order for nice/marker/TimeLockedTopography/p3a: ['channels', 'times']\n",
      "Reduction order for nice/marker/TimeLockedTopography/p3a: ['channels', 'times']\n",
      "Autodetected number of jobs 24\n",
      "Effective window size : 16.384 (s)\n"
     ]
    },
    {
     "name": "stderr",
     "output_type": "stream",
     "text": [
      "[Parallel(n_jobs=2)]: Done  15 out of  15 | elapsed:    1.7s finished\n",
      "[Parallel(n_jobs=24)]: Using backend LokyBackend with 24 concurrent workers.\n",
      "[Parallel(n_jobs=24)]: Done   6 out of  24 | elapsed:    3.7s remaining:   11.1s\n",
      "[Parallel(n_jobs=24)]: Done  11 out of  24 | elapsed:    3.7s remaining:    4.4s\n",
      "[Parallel(n_jobs=24)]: Done  16 out of  24 | elapsed:    3.8s remaining:    1.9s\n",
      "[Parallel(n_jobs=24)]: Done  21 out of  24 | elapsed:    3.9s remaining:    0.6s\n"
     ]
    },
    {
     "name": "stdout",
     "output_type": "stream",
     "text": [
      "Reduction order for nice/marker/PowerSpectralDensity/alpha: ['frequency', 'channels']\n",
      "Reduction order for nice/marker/PowerSpectralDensity/alpha: ['frequency', 'channels']\n",
      "Reduction order for nice/marker/PowerSpectralDensity/delta: ['frequency', 'channels']\n",
      "Reduction order for nice/marker/PowerSpectralDensity/delta: ['frequency', 'channels']\n",
      "Reduction order for nice/marker/PowerSpectralDensity/theta: ['frequency', 'channels']\n",
      "Reduction order for nice/marker/PowerSpectralDensity/theta: ['frequency', 'channels']\n",
      "Reduction order for nice/marker/PowerSpectralDensity/gamma: ['frequency', 'channels']\n",
      "Reduction order for nice/marker/PowerSpectralDensity/theta: ['frequency', 'channels']\n",
      "Reduction order for nice/marker/PowerSpectralDensity/beta: ['frequency', 'channels']\n",
      "Reduction order for nice/marker/PowerSpectralDensity/beta: ['frequency', 'channels']\n",
      "Running KolmogorovComplexity\n",
      "Elapsed time 0.013971090316772461 sec\n",
      "Reduction order for nice/marker/KolmogorovComplexity/default: ['channels']\n",
      "Filtering  at 10.42 Hz\n",
      "Performing symbolic transformation\n"
     ]
    },
    {
     "name": "stderr",
     "output_type": "stream",
     "text": [
      "[Parallel(n_jobs=24)]: Done  24 out of  24 | elapsed:    3.9s finished\n"
     ]
    },
    {
     "name": "stdout",
     "output_type": "stream",
     "text": [
      "Reduction order for nice/marker/PermutationEntropy/default: ['channels']\n",
      "Autodetected number of jobs 2\n",
      "Computing CSD\n",
      "Using 10-5 locations for CSD\n",
      "Using 2 jobs\n"
     ]
    },
    {
     "name": "stderr",
     "output_type": "stream",
     "text": [
      "/home/nicolas.bruno/anaconda3/lib/python3.7/site-packages/nice-0.1.dev0-py3.7.egg/nice/algorithms/information_theory/permutation_entropy.py:75: RuntimeWarning: divide by zero encountered in log\n",
      "  pe = np.nan_to_num(-np.nansum(count * np.log(count), axis=1))\n",
      "/home/nicolas.bruno/anaconda3/lib/python3.7/site-packages/nice-0.1.dev0-py3.7.egg/nice/algorithms/information_theory/permutation_entropy.py:75: RuntimeWarning: invalid value encountered in multiply\n",
      "  pe = np.nan_to_num(-np.nansum(count * np.log(count), axis=1))\n",
      "[Parallel(n_jobs=2)]: Using backend LokyBackend with 2 concurrent workers.\n"
     ]
    },
    {
     "name": "stdout",
     "output_type": "stream",
     "text": [
      "Filtering  at 10.42 Hz\n",
      "Reduction order for nice/marker/SymbolicMutualInformation/default: ['channels_y', 'channels']\n",
      "Reduction order for nice/marker/ContingentNegativeVariation/default: ['channels']\n",
      "Reduction order for nice/marker/TimeLockedTopography/p1: ['channels', 'times']\n",
      "Reduction order for nice/marker/TimeLockedTopography/p3a: ['channels', 'times']\n",
      "Reduction order for nice/marker/TimeLockedTopography/p3a: ['channels', 'times']\n",
      "Autodetected number of jobs 24\n",
      "Effective window size : 16.384 (s)\n"
     ]
    },
    {
     "name": "stderr",
     "output_type": "stream",
     "text": [
      "[Parallel(n_jobs=2)]: Done   8 out of   8 | elapsed:    1.7s finished\n",
      "[Parallel(n_jobs=24)]: Using backend LokyBackend with 24 concurrent workers.\n",
      "[Parallel(n_jobs=24)]: Done   6 out of  24 | elapsed:    3.6s remaining:   10.9s\n",
      "[Parallel(n_jobs=24)]: Done  11 out of  24 | elapsed:    3.7s remaining:    4.4s\n",
      "[Parallel(n_jobs=24)]: Done  16 out of  24 | elapsed:    3.8s remaining:    1.9s\n"
     ]
    },
    {
     "name": "stdout",
     "output_type": "stream",
     "text": [
      "Reduction order for nice/marker/PowerSpectralDensity/alpha: ['frequency', 'channels']\n",
      "Reduction order for nice/marker/PowerSpectralDensity/alpha: ['frequency', 'channels']\n",
      "Reduction order for nice/marker/PowerSpectralDensity/delta: ['frequency', 'channels']\n",
      "Reduction order for nice/marker/PowerSpectralDensity/delta: ['frequency', 'channels']\n",
      "Reduction order for nice/marker/PowerSpectralDensity/theta: ['frequency', 'channels']\n",
      "Reduction order for nice/marker/PowerSpectralDensity/theta: ['frequency', 'channels']\n",
      "Reduction order for nice/marker/PowerSpectralDensity/gamma: ['frequency', 'channels']\n",
      "Reduction order for nice/marker/PowerSpectralDensity/theta: ['frequency', 'channels']\n",
      "Reduction order for nice/marker/PowerSpectralDensity/beta: ['frequency', 'channels']\n",
      "Reduction order for nice/marker/PowerSpectralDensity/beta: ['frequency', 'channels']\n",
      "Running KolmogorovComplexity\n",
      "Elapsed time 0.009533882141113281 sec\n",
      "Reduction order for nice/marker/KolmogorovComplexity/default: ['channels']\n",
      "Filtering  at 10.42 Hz\n",
      "Performing symbolic transformation\n"
     ]
    },
    {
     "name": "stderr",
     "output_type": "stream",
     "text": [
      "[Parallel(n_jobs=24)]: Done  21 out of  24 | elapsed:    3.9s remaining:    0.6s\n",
      "[Parallel(n_jobs=24)]: Done  24 out of  24 | elapsed:    3.9s finished\n"
     ]
    },
    {
     "name": "stdout",
     "output_type": "stream",
     "text": [
      "Reduction order for nice/marker/PermutationEntropy/default: ['channels']\n",
      "Autodetected number of jobs 2\n",
      "Computing CSD\n",
      "Using 10-5 locations for CSD\n",
      "Using 2 jobs\n"
     ]
    },
    {
     "name": "stderr",
     "output_type": "stream",
     "text": [
      "[Parallel(n_jobs=2)]: Using backend LokyBackend with 2 concurrent workers.\n"
     ]
    },
    {
     "name": "stdout",
     "output_type": "stream",
     "text": [
      "Filtering  at 10.42 Hz\n",
      "Reduction order for nice/marker/SymbolicMutualInformation/default: ['channels_y', 'channels']\n",
      "Reduction order for nice/marker/ContingentNegativeVariation/default: ['channels']\n",
      "Reduction order for nice/marker/TimeLockedTopography/p1: ['channels', 'times']\n",
      "Reduction order for nice/marker/TimeLockedTopography/p3a: ['channels', 'times']\n",
      "Reduction order for nice/marker/TimeLockedTopography/p3a: ['channels', 'times']\n",
      "Autodetected number of jobs 24\n",
      "Effective window size : 16.384 (s)\n"
     ]
    },
    {
     "name": "stderr",
     "output_type": "stream",
     "text": [
      "[Parallel(n_jobs=2)]: Done   7 out of   7 | elapsed:    1.7s finished\n",
      "[Parallel(n_jobs=24)]: Using backend LokyBackend with 24 concurrent workers.\n",
      "[Parallel(n_jobs=24)]: Done   6 out of  24 | elapsed:    3.8s remaining:   11.4s\n",
      "[Parallel(n_jobs=24)]: Done  11 out of  24 | elapsed:    3.9s remaining:    4.6s\n",
      "[Parallel(n_jobs=24)]: Done  16 out of  24 | elapsed:    4.0s remaining:    2.0s\n"
     ]
    },
    {
     "name": "stdout",
     "output_type": "stream",
     "text": [
      "Reduction order for nice/marker/PowerSpectralDensity/alpha: ['frequency', 'channels']\n",
      "Reduction order for nice/marker/PowerSpectralDensity/alpha: ['frequency', 'channels']\n",
      "Reduction order for nice/marker/PowerSpectralDensity/delta: ['frequency', 'channels']\n",
      "Reduction order for nice/marker/PowerSpectralDensity/delta: ['frequency', 'channels']\n",
      "Reduction order for nice/marker/PowerSpectralDensity/theta: ['frequency', 'channels']\n",
      "Reduction order for nice/marker/PowerSpectralDensity/theta: ['frequency', 'channels']\n",
      "Reduction order for nice/marker/PowerSpectralDensity/gamma: ['frequency', 'channels']\n",
      "Reduction order for nice/marker/PowerSpectralDensity/theta: ['frequency', 'channels']\n",
      "Reduction order for nice/marker/PowerSpectralDensity/beta: ['frequency', 'channels']\n",
      "Reduction order for nice/marker/PowerSpectralDensity/beta: ['frequency', 'channels']\n",
      "Running KolmogorovComplexity\n",
      "Elapsed time 0.02971196174621582 sec\n"
     ]
    },
    {
     "name": "stderr",
     "output_type": "stream",
     "text": [
      "[Parallel(n_jobs=24)]: Done  21 out of  24 | elapsed:    4.1s remaining:    0.6s\n",
      "[Parallel(n_jobs=24)]: Done  24 out of  24 | elapsed:    4.2s finished\n"
     ]
    },
    {
     "name": "stdout",
     "output_type": "stream",
     "text": [
      "Reduction order for nice/marker/KolmogorovComplexity/default: ['channels']\n",
      "Filtering  at 10.42 Hz\n",
      "Performing symbolic transformation\n",
      "Reduction order for nice/marker/PermutationEntropy/default: ['channels']\n",
      "Autodetected number of jobs 2\n",
      "Computing CSD\n",
      "Using 10-5 locations for CSD\n",
      "Using 2 jobs\n"
     ]
    },
    {
     "name": "stderr",
     "output_type": "stream",
     "text": [
      "[Parallel(n_jobs=2)]: Using backend LokyBackend with 2 concurrent workers.\n"
     ]
    },
    {
     "name": "stdout",
     "output_type": "stream",
     "text": [
      "Filtering  at 10.42 Hz\n",
      "Reduction order for nice/marker/SymbolicMutualInformation/default: ['channels_y', 'channels']\n",
      "Reduction order for nice/marker/ContingentNegativeVariation/default: ['channels']\n",
      "Reduction order for nice/marker/TimeLockedTopography/p1: ['channels', 'times']\n",
      "Reduction order for nice/marker/TimeLockedTopography/p3a: ['channels', 'times']\n",
      "Reduction order for nice/marker/TimeLockedTopography/p3a: ['channels', 'times']\n",
      "\n",
      "#########################################\n",
      "Computing markers for participant VP23\n",
      "#########################################\n",
      "\n",
      "Reading /media/nicolas.bruno/63f8a366-34b7-4896-a7ce-b5fb4ee78535/Nico/MW_eeg_data/minmarker/VP23/VP23_evoked_ar_subtracted_epo.fif ...\n"
     ]
    },
    {
     "name": "stderr",
     "output_type": "stream",
     "text": [
      "[Parallel(n_jobs=2)]: Done  18 tasks      | elapsed:    1.7s\n",
      "[Parallel(n_jobs=2)]: Done  21 out of  21 | elapsed:    1.7s finished\n"
     ]
    },
    {
     "name": "stdout",
     "output_type": "stream",
     "text": [
      "    Found the data of interest:\n",
      "        t =    -200.00 ...     600.00 ms\n",
      "        0 CTF compensation matrices available\n",
      "Not setting metadata\n",
      "Not setting metadata\n",
      "439 matching events found\n",
      "No baseline correction applied\n",
      "0 projection items activated\n",
      "Reading /media/nicolas.bruno/63f8a366-34b7-4896-a7ce-b5fb4ee78535/Nico/MW_eeg_data/minmarker/VP23/VP23_evoked_ar_rereferenced_epo.fif ...\n",
      "    Found the data of interest:\n",
      "        t =    -200.00 ...     600.00 ms\n",
      "        0 CTF compensation matrices available\n",
      "Not setting metadata\n",
      "Not setting metadata\n",
      "439 matching events found\n",
      "No baseline correction applied\n",
      "0 projection items activated\n",
      "Autodetected number of jobs 24\n",
      "Effective window size : 16.384 (s)\n"
     ]
    },
    {
     "name": "stderr",
     "output_type": "stream",
     "text": [
      "[Parallel(n_jobs=24)]: Using backend LokyBackend with 24 concurrent workers.\n",
      "[Parallel(n_jobs=24)]: Done   6 out of  24 | elapsed:    3.7s remaining:   11.2s\n",
      "[Parallel(n_jobs=24)]: Done  11 out of  24 | elapsed:    3.8s remaining:    4.5s\n",
      "[Parallel(n_jobs=24)]: Done  16 out of  24 | elapsed:    3.8s remaining:    1.9s\n"
     ]
    },
    {
     "name": "stdout",
     "output_type": "stream",
     "text": [
      "Reduction order for nice/marker/PowerSpectralDensity/alpha: ['frequency', 'channels']\n",
      "Reduction order for nice/marker/PowerSpectralDensity/alpha: ['frequency', 'channels']\n",
      "Reduction order for nice/marker/PowerSpectralDensity/delta: ['frequency', 'channels']\n",
      "Reduction order for nice/marker/PowerSpectralDensity/delta: ['frequency', 'channels']\n",
      "Reduction order for nice/marker/PowerSpectralDensity/theta: ['frequency', 'channels']\n",
      "Reduction order for nice/marker/PowerSpectralDensity/theta: ['frequency', 'channels']\n",
      "Reduction order for nice/marker/PowerSpectralDensity/gamma: ['frequency', 'channels']\n",
      "Reduction order for nice/marker/PowerSpectralDensity/theta: ['frequency', 'channels']\n",
      "Reduction order for nice/marker/PowerSpectralDensity/beta: ['frequency', 'channels']\n",
      "Reduction order for nice/marker/PowerSpectralDensity/beta: ['frequency', 'channels']\n",
      "Running KolmogorovComplexity\n",
      "Elapsed time 0.08496689796447754 sec\n"
     ]
    },
    {
     "name": "stderr",
     "output_type": "stream",
     "text": [
      "[Parallel(n_jobs=24)]: Done  21 out of  24 | elapsed:    4.0s remaining:    0.6s\n",
      "[Parallel(n_jobs=24)]: Done  24 out of  24 | elapsed:    4.0s finished\n"
     ]
    },
    {
     "name": "stdout",
     "output_type": "stream",
     "text": [
      "Reduction order for nice/marker/KolmogorovComplexity/default: ['channels']\n",
      "Filtering  at 10.42 Hz\n",
      "Performing symbolic transformation\n",
      "Reduction order for nice/marker/PermutationEntropy/default: ['channels']\n",
      "Autodetected number of jobs 2\n",
      "Computing CSD\n",
      "Using 10-5 locations for CSD\n",
      "Using 2 jobs\n"
     ]
    },
    {
     "name": "stderr",
     "output_type": "stream",
     "text": [
      "[Parallel(n_jobs=2)]: Using backend LokyBackend with 2 concurrent workers.\n"
     ]
    },
    {
     "name": "stdout",
     "output_type": "stream",
     "text": [
      "Filtering  at 10.42 Hz\n"
     ]
    },
    {
     "name": "stderr",
     "output_type": "stream",
     "text": [
      "[Parallel(n_jobs=2)]: Done  18 tasks      | elapsed:    1.7s\n",
      "[Parallel(n_jobs=2)]: Done  63 out of  63 | elapsed:    1.8s finished\n"
     ]
    },
    {
     "name": "stdout",
     "output_type": "stream",
     "text": [
      "Reduction order for nice/marker/SymbolicMutualInformation/default: ['channels_y', 'channels']\n",
      "Reduction order for nice/marker/ContingentNegativeVariation/default: ['channels']\n",
      "Reduction order for nice/marker/TimeLockedTopography/p1: ['channels', 'times']\n",
      "Reduction order for nice/marker/TimeLockedTopography/p3a: ['channels', 'times']\n",
      "Reduction order for nice/marker/TimeLockedTopography/p3a: ['channels', 'times']\n",
      "Autodetected number of jobs 24\n",
      "Effective window size : 16.384 (s)\n"
     ]
    },
    {
     "name": "stderr",
     "output_type": "stream",
     "text": [
      "[Parallel(n_jobs=24)]: Using backend LokyBackend with 24 concurrent workers.\n",
      "[Parallel(n_jobs=24)]: Done   6 out of  24 | elapsed:    3.8s remaining:   11.5s\n",
      "[Parallel(n_jobs=24)]: Done  11 out of  24 | elapsed:    3.9s remaining:    4.6s\n",
      "[Parallel(n_jobs=24)]: Done  16 out of  24 | elapsed:    3.9s remaining:    2.0s\n"
     ]
    },
    {
     "name": "stdout",
     "output_type": "stream",
     "text": [
      "Reduction order for nice/marker/PowerSpectralDensity/alpha: ['frequency', 'channels']\n",
      "Reduction order for nice/marker/PowerSpectralDensity/alpha: ['frequency', 'channels']\n",
      "Reduction order for nice/marker/PowerSpectralDensity/delta: ['frequency', 'channels']\n",
      "Reduction order for nice/marker/PowerSpectralDensity/delta: ['frequency', 'channels']\n",
      "Reduction order for nice/marker/PowerSpectralDensity/theta: ['frequency', 'channels']\n",
      "Reduction order for nice/marker/PowerSpectralDensity/theta: ['frequency', 'channels']\n",
      "Reduction order for nice/marker/PowerSpectralDensity/gamma: ['frequency', 'channels']\n",
      "Reduction order for nice/marker/PowerSpectralDensity/theta: ['frequency', 'channels']\n",
      "Reduction order for nice/marker/PowerSpectralDensity/beta: ['frequency', 'channels']\n"
     ]
    },
    {
     "name": "stderr",
     "output_type": "stream",
     "text": [
      "[Parallel(n_jobs=24)]: Done  21 out of  24 | elapsed:    4.0s remaining:    0.6s\n",
      "[Parallel(n_jobs=24)]: Done  24 out of  24 | elapsed:    4.2s finished\n"
     ]
    },
    {
     "name": "stdout",
     "output_type": "stream",
     "text": [
      "Reduction order for nice/marker/PowerSpectralDensity/beta: ['frequency', 'channels']\n",
      "Running KolmogorovComplexity\n",
      "Elapsed time 0.05514812469482422 sec\n",
      "Reduction order for nice/marker/KolmogorovComplexity/default: ['channels']\n",
      "Filtering  at 10.42 Hz\n",
      "Performing symbolic transformation\n",
      "Reduction order for nice/marker/PermutationEntropy/default: ['channels']\n",
      "Autodetected number of jobs 2\n",
      "Computing CSD\n",
      "Using 10-5 locations for CSD\n",
      "Using 2 jobs\n"
     ]
    },
    {
     "name": "stderr",
     "output_type": "stream",
     "text": [
      "[Parallel(n_jobs=2)]: Using backend LokyBackend with 2 concurrent workers.\n"
     ]
    },
    {
     "name": "stdout",
     "output_type": "stream",
     "text": [
      "Filtering  at 10.42 Hz\n"
     ]
    },
    {
     "name": "stderr",
     "output_type": "stream",
     "text": [
      "[Parallel(n_jobs=2)]: Done  18 tasks      | elapsed:    1.7s\n",
      "[Parallel(n_jobs=2)]: Done  38 out of  38 | elapsed:    1.7s finished\n"
     ]
    },
    {
     "name": "stdout",
     "output_type": "stream",
     "text": [
      "Reduction order for nice/marker/SymbolicMutualInformation/default: ['channels_y', 'channels']\n",
      "Reduction order for nice/marker/ContingentNegativeVariation/default: ['channels']\n",
      "Reduction order for nice/marker/TimeLockedTopography/p1: ['channels', 'times']\n",
      "Reduction order for nice/marker/TimeLockedTopography/p3a: ['channels', 'times']\n",
      "Reduction order for nice/marker/TimeLockedTopography/p3a: ['channels', 'times']\n",
      "Autodetected number of jobs 24\n",
      "Effective window size : 16.384 (s)\n"
     ]
    },
    {
     "name": "stderr",
     "output_type": "stream",
     "text": [
      "[Parallel(n_jobs=24)]: Using backend LokyBackend with 24 concurrent workers.\n",
      "[Parallel(n_jobs=24)]: Done   6 out of  24 | elapsed:    3.6s remaining:   10.9s\n",
      "[Parallel(n_jobs=24)]: Done  11 out of  24 | elapsed:    3.7s remaining:    4.4s\n",
      "[Parallel(n_jobs=24)]: Done  16 out of  24 | elapsed:    3.8s remaining:    1.9s\n"
     ]
    },
    {
     "name": "stdout",
     "output_type": "stream",
     "text": [
      "Reduction order for nice/marker/PowerSpectralDensity/alpha: ['frequency', 'channels']\n",
      "Reduction order for nice/marker/PowerSpectralDensity/alpha: ['frequency', 'channels']\n",
      "Reduction order for nice/marker/PowerSpectralDensity/delta: ['frequency', 'channels']\n",
      "Reduction order for nice/marker/PowerSpectralDensity/delta: ['frequency', 'channels']\n",
      "Reduction order for nice/marker/PowerSpectralDensity/theta: ['frequency', 'channels']\n",
      "Reduction order for nice/marker/PowerSpectralDensity/theta: ['frequency', 'channels']\n",
      "Reduction order for nice/marker/PowerSpectralDensity/gamma: ['frequency', 'channels']\n",
      "Reduction order for nice/marker/PowerSpectralDensity/theta: ['frequency', 'channels']\n",
      "Reduction order for nice/marker/PowerSpectralDensity/beta: ['frequency', 'channels']\n",
      "Reduction order for nice/marker/PowerSpectralDensity/beta: ['frequency', 'channels']\n",
      "Running KolmogorovComplexity\n",
      "Elapsed time 0.013840675354003906 sec\n",
      "Reduction order for nice/marker/KolmogorovComplexity/default: ['channels']\n",
      "Filtering  at 10.42 Hz\n",
      "Performing symbolic transformation\n"
     ]
    },
    {
     "name": "stderr",
     "output_type": "stream",
     "text": [
      "[Parallel(n_jobs=24)]: Done  21 out of  24 | elapsed:    3.9s remaining:    0.6s\n",
      "[Parallel(n_jobs=24)]: Done  24 out of  24 | elapsed:    3.9s finished\n"
     ]
    },
    {
     "name": "stdout",
     "output_type": "stream",
     "text": [
      "Reduction order for nice/marker/PermutationEntropy/default: ['channels']\n",
      "Autodetected number of jobs 2\n",
      "Computing CSD\n",
      "Using 10-5 locations for CSD\n",
      "Using 2 jobs\n"
     ]
    },
    {
     "name": "stderr",
     "output_type": "stream",
     "text": [
      "[Parallel(n_jobs=2)]: Using backend LokyBackend with 2 concurrent workers.\n"
     ]
    },
    {
     "name": "stdout",
     "output_type": "stream",
     "text": [
      "Filtering  at 10.42 Hz\n",
      "Reduction order for nice/marker/SymbolicMutualInformation/default: ['channels_y', 'channels']\n",
      "Reduction order for nice/marker/ContingentNegativeVariation/default: ['channels']\n",
      "Reduction order for nice/marker/TimeLockedTopography/p1: ['channels', 'times']\n",
      "Reduction order for nice/marker/TimeLockedTopography/p3a: ['channels', 'times']\n",
      "Reduction order for nice/marker/TimeLockedTopography/p3a: ['channels', 'times']\n",
      "Autodetected number of jobs 24\n",
      "Effective window size : 16.384 (s)\n"
     ]
    },
    {
     "name": "stderr",
     "output_type": "stream",
     "text": [
      "[Parallel(n_jobs=2)]: Done   8 out of   8 | elapsed:    1.7s finished\n",
      "[Parallel(n_jobs=24)]: Using backend LokyBackend with 24 concurrent workers.\n",
      "[Parallel(n_jobs=24)]: Done   6 out of  24 | elapsed:    3.7s remaining:   11.0s\n",
      "[Parallel(n_jobs=24)]: Done  11 out of  24 | elapsed:    3.7s remaining:    4.4s\n",
      "[Parallel(n_jobs=24)]: Done  16 out of  24 | elapsed:    3.8s remaining:    1.9s\n",
      "[Parallel(n_jobs=24)]: Done  21 out of  24 | elapsed:    3.9s remaining:    0.6s\n"
     ]
    },
    {
     "name": "stdout",
     "output_type": "stream",
     "text": [
      "Reduction order for nice/marker/PowerSpectralDensity/alpha: ['frequency', 'channels']\n",
      "Reduction order for nice/marker/PowerSpectralDensity/alpha: ['frequency', 'channels']\n",
      "Reduction order for nice/marker/PowerSpectralDensity/delta: ['frequency', 'channels']\n",
      "Reduction order for nice/marker/PowerSpectralDensity/delta: ['frequency', 'channels']\n",
      "Reduction order for nice/marker/PowerSpectralDensity/theta: ['frequency', 'channels']\n",
      "Reduction order for nice/marker/PowerSpectralDensity/theta: ['frequency', 'channels']\n",
      "Reduction order for nice/marker/PowerSpectralDensity/gamma: ['frequency', 'channels']\n",
      "Reduction order for nice/marker/PowerSpectralDensity/theta: ['frequency', 'channels']\n",
      "Reduction order for nice/marker/PowerSpectralDensity/beta: ['frequency', 'channels']\n",
      "Reduction order for nice/marker/PowerSpectralDensity/beta: ['frequency', 'channels']\n",
      "Running KolmogorovComplexity\n",
      "Elapsed time 0.006117343902587891 sec\n",
      "Reduction order for nice/marker/KolmogorovComplexity/default: ['channels']\n",
      "Filtering  at 10.42 Hz\n",
      "Performing symbolic transformation\n"
     ]
    },
    {
     "name": "stderr",
     "output_type": "stream",
     "text": [
      "[Parallel(n_jobs=24)]: Done  24 out of  24 | elapsed:    3.9s finished\n"
     ]
    },
    {
     "name": "stdout",
     "output_type": "stream",
     "text": [
      "Reduction order for nice/marker/PermutationEntropy/default: ['channels']\n",
      "Autodetected number of jobs 2\n",
      "Computing CSD\n",
      "Using 10-5 locations for CSD\n",
      "Using 2 jobs\n"
     ]
    },
    {
     "name": "stderr",
     "output_type": "stream",
     "text": [
      "[Parallel(n_jobs=2)]: Using backend LokyBackend with 2 concurrent workers.\n"
     ]
    },
    {
     "name": "stdout",
     "output_type": "stream",
     "text": [
      "Filtering  at 10.42 Hz\n",
      "Reduction order for nice/marker/SymbolicMutualInformation/default: ['channels_y', 'channels']\n",
      "Reduction order for nice/marker/ContingentNegativeVariation/default: ['channels']\n",
      "Reduction order for nice/marker/TimeLockedTopography/p1: ['channels', 'times']\n",
      "Reduction order for nice/marker/TimeLockedTopography/p3a: ['channels', 'times']\n",
      "Reduction order for nice/marker/TimeLockedTopography/p3a: ['channels', 'times']\n",
      "Autodetected number of jobs 24\n",
      "Effective window size : 16.384 (s)\n"
     ]
    },
    {
     "name": "stderr",
     "output_type": "stream",
     "text": [
      "[Parallel(n_jobs=2)]: Done   2 out of   2 | elapsed:    1.6s remaining:    0.0s\n",
      "[Parallel(n_jobs=2)]: Done   2 out of   2 | elapsed:    1.6s finished\n",
      "[Parallel(n_jobs=24)]: Using backend LokyBackend with 24 concurrent workers.\n",
      "[Parallel(n_jobs=24)]: Done   6 out of  24 | elapsed:    3.7s remaining:   11.0s\n",
      "[Parallel(n_jobs=24)]: Done  11 out of  24 | elapsed:    3.7s remaining:    4.4s\n",
      "[Parallel(n_jobs=24)]: Done  16 out of  24 | elapsed:    3.8s remaining:    1.9s\n"
     ]
    },
    {
     "name": "stdout",
     "output_type": "stream",
     "text": [
      "Reduction order for nice/marker/PowerSpectralDensity/alpha: ['frequency', 'channels']\n",
      "Reduction order for nice/marker/PowerSpectralDensity/alpha: ['frequency', 'channels']\n",
      "Reduction order for nice/marker/PowerSpectralDensity/delta: ['frequency', 'channels']\n",
      "Reduction order for nice/marker/PowerSpectralDensity/delta: ['frequency', 'channels']\n",
      "Reduction order for nice/marker/PowerSpectralDensity/theta: ['frequency', 'channels']\n",
      "Reduction order for nice/marker/PowerSpectralDensity/theta: ['frequency', 'channels']\n",
      "Reduction order for nice/marker/PowerSpectralDensity/gamma: ['frequency', 'channels']\n",
      "Reduction order for nice/marker/PowerSpectralDensity/theta: ['frequency', 'channels']\n",
      "Reduction order for nice/marker/PowerSpectralDensity/beta: ['frequency', 'channels']\n",
      "Reduction order for nice/marker/PowerSpectralDensity/beta: ['frequency', 'channels']\n",
      "Running KolmogorovComplexity\n",
      "Elapsed time 0.02141857147216797 sec\n",
      "Reduction order for nice/marker/KolmogorovComplexity/default: ['channels']\n",
      "Filtering  at 10.42 Hz\n",
      "Performing symbolic transformation\n"
     ]
    },
    {
     "name": "stderr",
     "output_type": "stream",
     "text": [
      "[Parallel(n_jobs=24)]: Done  21 out of  24 | elapsed:    3.9s remaining:    0.6s\n",
      "[Parallel(n_jobs=24)]: Done  24 out of  24 | elapsed:    3.9s finished\n"
     ]
    },
    {
     "name": "stdout",
     "output_type": "stream",
     "text": [
      "Reduction order for nice/marker/PermutationEntropy/default: ['channels']\n",
      "Autodetected number of jobs 2\n",
      "Computing CSD\n",
      "Using 10-5 locations for CSD\n",
      "Using 2 jobs\n"
     ]
    },
    {
     "name": "stderr",
     "output_type": "stream",
     "text": [
      "[Parallel(n_jobs=2)]: Using backend LokyBackend with 2 concurrent workers.\n"
     ]
    },
    {
     "name": "stdout",
     "output_type": "stream",
     "text": [
      "Filtering  at 10.42 Hz\n",
      "Reduction order for nice/marker/SymbolicMutualInformation/default: ['channels_y', 'channels']\n",
      "Reduction order for nice/marker/ContingentNegativeVariation/default: ['channels']\n",
      "Reduction order for nice/marker/TimeLockedTopography/p1: ['channels', 'times']\n",
      "Reduction order for nice/marker/TimeLockedTopography/p3a: ['channels', 'times']\n",
      "Reduction order for nice/marker/TimeLockedTopography/p3a: ['channels', 'times']\n",
      "Autodetected number of jobs 24\n",
      "Effective window size : 16.384 (s)\n"
     ]
    },
    {
     "name": "stderr",
     "output_type": "stream",
     "text": [
      "[Parallel(n_jobs=2)]: Done  15 out of  15 | elapsed:    1.7s finished\n",
      "[Parallel(n_jobs=24)]: Using backend LokyBackend with 24 concurrent workers.\n",
      "[Parallel(n_jobs=24)]: Done   6 out of  24 | elapsed:    3.7s remaining:   11.1s\n",
      "[Parallel(n_jobs=24)]: Done  11 out of  24 | elapsed:    3.9s remaining:    4.6s\n"
     ]
    },
    {
     "name": "stdout",
     "output_type": "stream",
     "text": [
      "Reduction order for nice/marker/PowerSpectralDensity/alpha: ['frequency', 'channels']\n",
      "Reduction order for nice/marker/PowerSpectralDensity/alpha: ['frequency', 'channels']\n",
      "Reduction order for nice/marker/PowerSpectralDensity/delta: ['frequency', 'channels']\n",
      "Reduction order for nice/marker/PowerSpectralDensity/delta: ['frequency', 'channels']\n",
      "Reduction order for nice/marker/PowerSpectralDensity/theta: ['frequency', 'channels']\n",
      "Reduction order for nice/marker/PowerSpectralDensity/theta: ['frequency', 'channels']\n",
      "Reduction order for nice/marker/PowerSpectralDensity/gamma: ['frequency', 'channels']\n",
      "Reduction order for nice/marker/PowerSpectralDensity/theta: ['frequency', 'channels']\n",
      "Reduction order for nice/marker/PowerSpectralDensity/beta: ['frequency', 'channels']\n",
      "Reduction order for nice/marker/PowerSpectralDensity/beta: ['frequency', 'channels']\n"
     ]
    },
    {
     "name": "stderr",
     "output_type": "stream",
     "text": [
      "[Parallel(n_jobs=24)]: Done  16 out of  24 | elapsed:    3.9s remaining:    2.0s\n",
      "[Parallel(n_jobs=24)]: Done  21 out of  24 | elapsed:    4.1s remaining:    0.6s\n",
      "[Parallel(n_jobs=24)]: Done  24 out of  24 | elapsed:    4.1s finished\n"
     ]
    },
    {
     "name": "stdout",
     "output_type": "stream",
     "text": [
      "Running KolmogorovComplexity\n",
      "Elapsed time 0.03393197059631348 sec\n",
      "Reduction order for nice/marker/KolmogorovComplexity/default: ['channels']\n",
      "Filtering  at 10.42 Hz\n",
      "Performing symbolic transformation\n",
      "Reduction order for nice/marker/PermutationEntropy/default: ['channels']\n",
      "Autodetected number of jobs 2\n",
      "Computing CSD\n",
      "Using 10-5 locations for CSD\n",
      "Using 2 jobs\n"
     ]
    },
    {
     "name": "stderr",
     "output_type": "stream",
     "text": [
      "[Parallel(n_jobs=2)]: Using backend LokyBackend with 2 concurrent workers.\n"
     ]
    },
    {
     "name": "stdout",
     "output_type": "stream",
     "text": [
      "Filtering  at 10.42 Hz\n",
      "Reduction order for nice/marker/SymbolicMutualInformation/default: ['channels_y', 'channels']\n"
     ]
    },
    {
     "name": "stderr",
     "output_type": "stream",
     "text": [
      "[Parallel(n_jobs=2)]: Done  18 tasks      | elapsed:    1.7s\n",
      "[Parallel(n_jobs=2)]: Done  25 out of  25 | elapsed:    1.7s finished\n"
     ]
    },
    {
     "name": "stdout",
     "output_type": "stream",
     "text": [
      "Reduction order for nice/marker/ContingentNegativeVariation/default: ['channels']\n",
      "Reduction order for nice/marker/TimeLockedTopography/p1: ['channels', 'times']\n",
      "Reduction order for nice/marker/TimeLockedTopography/p3a: ['channels', 'times']\n",
      "Reduction order for nice/marker/TimeLockedTopography/p3a: ['channels', 'times']\n",
      "Autodetected number of jobs 24\n",
      "Effective window size : 16.384 (s)\n"
     ]
    },
    {
     "name": "stderr",
     "output_type": "stream",
     "text": [
      "[Parallel(n_jobs=24)]: Using backend LokyBackend with 24 concurrent workers.\n",
      "[Parallel(n_jobs=24)]: Done   6 out of  24 | elapsed:    3.9s remaining:   11.7s\n",
      "[Parallel(n_jobs=24)]: Done  11 out of  24 | elapsed:    4.0s remaining:    4.7s\n",
      "[Parallel(n_jobs=24)]: Done  16 out of  24 | elapsed:    4.0s remaining:    2.0s\n",
      "[Parallel(n_jobs=24)]: Done  21 out of  24 | elapsed:    4.1s remaining:    0.6s\n"
     ]
    },
    {
     "name": "stdout",
     "output_type": "stream",
     "text": [
      "Reduction order for nice/marker/PowerSpectralDensity/alpha: ['frequency', 'channels']\n",
      "Reduction order for nice/marker/PowerSpectralDensity/alpha: ['frequency', 'channels']\n",
      "Reduction order for nice/marker/PowerSpectralDensity/delta: ['frequency', 'channels']\n",
      "Reduction order for nice/marker/PowerSpectralDensity/delta: ['frequency', 'channels']\n",
      "Reduction order for nice/marker/PowerSpectralDensity/theta: ['frequency', 'channels']\n",
      "Reduction order for nice/marker/PowerSpectralDensity/theta: ['frequency', 'channels']\n",
      "Reduction order for nice/marker/PowerSpectralDensity/gamma: ['frequency', 'channels']\n",
      "Reduction order for nice/marker/PowerSpectralDensity/theta: ['frequency', 'channels']\n",
      "Reduction order for nice/marker/PowerSpectralDensity/beta: ['frequency', 'channels']\n",
      "Reduction order for nice/marker/PowerSpectralDensity/beta: ['frequency', 'channels']\n",
      "Running KolmogorovComplexity\n",
      "Elapsed time 0.11545443534851074 sec\n"
     ]
    },
    {
     "name": "stderr",
     "output_type": "stream",
     "text": [
      "[Parallel(n_jobs=24)]: Done  24 out of  24 | elapsed:    4.2s finished\n"
     ]
    },
    {
     "name": "stdout",
     "output_type": "stream",
     "text": [
      "Reduction order for nice/marker/KolmogorovComplexity/default: ['channels']\n",
      "Filtering  at 10.42 Hz\n",
      "Performing symbolic transformation\n",
      "Reduction order for nice/marker/PermutationEntropy/default: ['channels']\n",
      "Autodetected number of jobs 2\n",
      "Computing CSD\n",
      "Using 10-5 locations for CSD\n",
      "Using 2 jobs\n"
     ]
    },
    {
     "name": "stderr",
     "output_type": "stream",
     "text": [
      "[Parallel(n_jobs=2)]: Using backend LokyBackend with 2 concurrent workers.\n"
     ]
    },
    {
     "name": "stdout",
     "output_type": "stream",
     "text": [
      "Filtering  at 10.42 Hz\n"
     ]
    },
    {
     "name": "stderr",
     "output_type": "stream",
     "text": [
      "[Parallel(n_jobs=2)]: Done  18 tasks      | elapsed:    1.7s\n",
      "[Parallel(n_jobs=2)]: Done  81 out of  81 | elapsed:    1.8s finished\n"
     ]
    },
    {
     "name": "stdout",
     "output_type": "stream",
     "text": [
      "Reduction order for nice/marker/SymbolicMutualInformation/default: ['channels_y', 'channels']\n",
      "Reduction order for nice/marker/ContingentNegativeVariation/default: ['channels']\n",
      "Reduction order for nice/marker/TimeLockedTopography/p1: ['channels', 'times']\n",
      "Reduction order for nice/marker/TimeLockedTopography/p3a: ['channels', 'times']\n",
      "Reduction order for nice/marker/TimeLockedTopography/p3a: ['channels', 'times']\n",
      "Autodetected number of jobs 24\n",
      "Effective window size : 16.384 (s)\n"
     ]
    },
    {
     "name": "stderr",
     "output_type": "stream",
     "text": [
      "[Parallel(n_jobs=24)]: Using backend LokyBackend with 24 concurrent workers.\n"
     ]
    },
    {
     "name": "stdout",
     "output_type": "stream",
     "text": [
      "Reduction order for nice/marker/PowerSpectralDensity/alpha: ['frequency', 'channels']\n",
      "Reduction order for nice/marker/PowerSpectralDensity/alpha: ['frequency', 'channels']\n"
     ]
    },
    {
     "name": "stderr",
     "output_type": "stream",
     "text": [
      "[Parallel(n_jobs=24)]: Done   6 out of  24 | elapsed:    3.7s remaining:   11.1s\n",
      "[Parallel(n_jobs=24)]: Done  11 out of  24 | elapsed:    3.8s remaining:    4.4s\n",
      "[Parallel(n_jobs=24)]: Done  16 out of  24 | elapsed:    3.8s remaining:    1.9s\n",
      "[Parallel(n_jobs=24)]: Done  21 out of  24 | elapsed:    3.8s remaining:    0.5s\n",
      "[Parallel(n_jobs=24)]: Done  24 out of  24 | elapsed:    3.9s finished\n"
     ]
    },
    {
     "name": "stdout",
     "output_type": "stream",
     "text": [
      "Reduction order for nice/marker/PowerSpectralDensity/delta: ['frequency', 'channels']\n",
      "Reduction order for nice/marker/PowerSpectralDensity/delta: ['frequency', 'channels']\n",
      "Reduction order for nice/marker/PowerSpectralDensity/theta: ['frequency', 'channels']\n",
      "Reduction order for nice/marker/PowerSpectralDensity/theta: ['frequency', 'channels']\n",
      "Reduction order for nice/marker/PowerSpectralDensity/gamma: ['frequency', 'channels']\n",
      "Reduction order for nice/marker/PowerSpectralDensity/theta: ['frequency', 'channels']\n",
      "Reduction order for nice/marker/PowerSpectralDensity/beta: ['frequency', 'channels']\n",
      "Reduction order for nice/marker/PowerSpectralDensity/beta: ['frequency', 'channels']\n",
      "Running KolmogorovComplexity\n",
      "Elapsed time 0.006375789642333984 sec\n",
      "Reduction order for nice/marker/KolmogorovComplexity/default: ['channels']\n",
      "Filtering  at 10.42 Hz\n",
      "Performing symbolic transformation\n",
      "Reduction order for nice/marker/PermutationEntropy/default: ['channels']\n",
      "Autodetected number of jobs 2\n",
      "Computing CSD\n",
      "Using 10-5 locations for CSD\n",
      "Using 2 jobs\n"
     ]
    },
    {
     "name": "stderr",
     "output_type": "stream",
     "text": [
      "[Parallel(n_jobs=2)]: Using backend LokyBackend with 2 concurrent workers.\n"
     ]
    },
    {
     "name": "stdout",
     "output_type": "stream",
     "text": [
      "Filtering  at 10.42 Hz\n",
      "Reduction order for nice/marker/SymbolicMutualInformation/default: ['channels_y', 'channels']\n",
      "Reduction order for nice/marker/ContingentNegativeVariation/default: ['channels']\n",
      "Reduction order for nice/marker/TimeLockedTopography/p1: ['channels', 'times']\n",
      "Reduction order for nice/marker/TimeLockedTopography/p3a: ['channels', 'times']\n",
      "Reduction order for nice/marker/TimeLockedTopography/p3a: ['channels', 'times']\n",
      "Autodetected number of jobs 24\n",
      "Effective window size : 16.384 (s)\n"
     ]
    },
    {
     "name": "stderr",
     "output_type": "stream",
     "text": [
      "[Parallel(n_jobs=2)]: Done   4 out of   4 | elapsed:    1.6s remaining:    0.0s\n",
      "[Parallel(n_jobs=2)]: Done   4 out of   4 | elapsed:    1.6s finished\n",
      "[Parallel(n_jobs=24)]: Using backend LokyBackend with 24 concurrent workers.\n",
      "[Parallel(n_jobs=24)]: Done   6 out of  24 | elapsed:    3.7s remaining:   11.0s\n",
      "[Parallel(n_jobs=24)]: Done  11 out of  24 | elapsed:    3.7s remaining:    4.4s\n",
      "[Parallel(n_jobs=24)]: Done  16 out of  24 | elapsed:    3.8s remaining:    1.9s\n",
      "[Parallel(n_jobs=24)]: Done  21 out of  24 | elapsed:    3.8s remaining:    0.5s\n"
     ]
    },
    {
     "name": "stdout",
     "output_type": "stream",
     "text": [
      "Reduction order for nice/marker/PowerSpectralDensity/alpha: ['frequency', 'channels']\n",
      "Reduction order for nice/marker/PowerSpectralDensity/alpha: ['frequency', 'channels']\n",
      "Reduction order for nice/marker/PowerSpectralDensity/delta: ['frequency', 'channels']\n",
      "Reduction order for nice/marker/PowerSpectralDensity/delta: ['frequency', 'channels']\n",
      "Reduction order for nice/marker/PowerSpectralDensity/theta: ['frequency', 'channels']\n",
      "Reduction order for nice/marker/PowerSpectralDensity/theta: ['frequency', 'channels']\n",
      "Reduction order for nice/marker/PowerSpectralDensity/gamma: ['frequency', 'channels']\n",
      "Reduction order for nice/marker/PowerSpectralDensity/theta: ['frequency', 'channels']\n",
      "Reduction order for nice/marker/PowerSpectralDensity/beta: ['frequency', 'channels']\n",
      "Reduction order for nice/marker/PowerSpectralDensity/beta: ['frequency', 'channels']\n",
      "Running KolmogorovComplexity\n",
      "Elapsed time 0.004139900207519531 sec\n",
      "Reduction order for nice/marker/KolmogorovComplexity/default: ['channels']\n",
      "Filtering  at 10.42 Hz\n",
      "Performing symbolic transformation\n"
     ]
    },
    {
     "name": "stderr",
     "output_type": "stream",
     "text": [
      "[Parallel(n_jobs=24)]: Done  24 out of  24 | elapsed:    3.9s finished\n"
     ]
    },
    {
     "name": "stdout",
     "output_type": "stream",
     "text": [
      "Reduction order for nice/marker/PermutationEntropy/default: ['channels']\n",
      "Autodetected number of jobs 2\n",
      "Computing CSD\n",
      "Using 10-5 locations for CSD\n",
      "Using 2 jobs\n"
     ]
    },
    {
     "name": "stderr",
     "output_type": "stream",
     "text": [
      "[Parallel(n_jobs=2)]: Using backend LokyBackend with 2 concurrent workers.\n"
     ]
    },
    {
     "name": "stdout",
     "output_type": "stream",
     "text": [
      "Filtering  at 10.42 Hz\n",
      "Reduction order for nice/marker/SymbolicMutualInformation/default: ['channels_y', 'channels']\n",
      "Reduction order for nice/marker/ContingentNegativeVariation/default: ['channels']\n",
      "Reduction order for nice/marker/TimeLockedTopography/p1: ['channels', 'times']\n",
      "Reduction order for nice/marker/TimeLockedTopography/p3a: ['channels', 'times']\n",
      "Reduction order for nice/marker/TimeLockedTopography/p3a: ['channels', 'times']\n",
      "\n",
      "#########################################\n",
      "Computing markers for participant VP24\n",
      "#########################################\n",
      "\n",
      "Reading /media/nicolas.bruno/63f8a366-34b7-4896-a7ce-b5fb4ee78535/Nico/MW_eeg_data/minmarker/VP24/VP24_evoked_ar_subtracted_epo.fif ...\n",
      "    Found the data of interest:\n",
      "        t =    -200.00 ...     600.00 ms\n",
      "        0 CTF compensation matrices available\n",
      "Not setting metadata\n",
      "Not setting metadata\n",
      "133 matching events found\n",
      "No baseline correction applied\n",
      "0 projection items activated\n",
      "Reading /media/nicolas.bruno/63f8a366-34b7-4896-a7ce-b5fb4ee78535/Nico/MW_eeg_data/minmarker/VP24/VP24_evoked_ar_rereferenced_epo.fif ...\n",
      "    Found the data of interest:\n",
      "        t =    -200.00 ...     600.00 ms\n",
      "        0 CTF compensation matrices available\n",
      "Not setting metadata\n",
      "Not setting metadata\n",
      "133 matching events found\n",
      "No baseline correction applied\n",
      "0 projection items activated\n"
     ]
    },
    {
     "name": "stderr",
     "output_type": "stream",
     "text": [
      "[Parallel(n_jobs=2)]: Done   3 out of   3 | elapsed:    1.8s remaining:    0.0s\n",
      "[Parallel(n_jobs=2)]: Done   3 out of   3 | elapsed:    1.8s finished\n"
     ]
    },
    {
     "name": "stdout",
     "output_type": "stream",
     "text": [
      "Autodetected number of jobs 24\n",
      "Effective window size : 16.384 (s)\n"
     ]
    },
    {
     "name": "stderr",
     "output_type": "stream",
     "text": [
      "[Parallel(n_jobs=24)]: Using backend LokyBackend with 24 concurrent workers.\n",
      "[Parallel(n_jobs=24)]: Done   6 out of  24 | elapsed:    4.0s remaining:   12.0s\n",
      "[Parallel(n_jobs=24)]: Done  11 out of  24 | elapsed:    4.1s remaining:    4.9s\n",
      "[Parallel(n_jobs=24)]: Done  16 out of  24 | elapsed:    4.2s remaining:    2.1s\n",
      "[Parallel(n_jobs=24)]: Done  21 out of  24 | elapsed:    4.4s remaining:    0.6s\n"
     ]
    },
    {
     "name": "stdout",
     "output_type": "stream",
     "text": [
      "Reduction order for nice/marker/PowerSpectralDensity/alpha: ['frequency', 'channels']\n",
      "Reduction order for nice/marker/PowerSpectralDensity/alpha: ['frequency', 'channels']\n",
      "Reduction order for nice/marker/PowerSpectralDensity/delta: ['frequency', 'channels']\n",
      "Reduction order for nice/marker/PowerSpectralDensity/delta: ['frequency', 'channels']\n",
      "Reduction order for nice/marker/PowerSpectralDensity/theta: ['frequency', 'channels']\n",
      "Reduction order for nice/marker/PowerSpectralDensity/theta: ['frequency', 'channels']\n",
      "Reduction order for nice/marker/PowerSpectralDensity/gamma: ['frequency', 'channels']\n",
      "Reduction order for nice/marker/PowerSpectralDensity/theta: ['frequency', 'channels']\n",
      "Reduction order for nice/marker/PowerSpectralDensity/beta: ['frequency', 'channels']\n",
      "Reduction order for nice/marker/PowerSpectralDensity/beta: ['frequency', 'channels']\n",
      "Running KolmogorovComplexity\n",
      "Elapsed time 0.08893442153930664 sec\n",
      "Reduction order for nice/marker/KolmogorovComplexity/default: ['channels']\n",
      "Filtering  at 10.42 Hz\n",
      "Performing symbolic transformation\n"
     ]
    },
    {
     "name": "stderr",
     "output_type": "stream",
     "text": [
      "[Parallel(n_jobs=24)]: Done  24 out of  24 | elapsed:    4.4s finished\n"
     ]
    },
    {
     "name": "stdout",
     "output_type": "stream",
     "text": [
      "Reduction order for nice/marker/PermutationEntropy/default: ['channels']\n",
      "Autodetected number of jobs 2\n",
      "Computing CSD\n",
      "Using 10-5 locations for CSD\n",
      "Using 2 jobs\n"
     ]
    },
    {
     "name": "stderr",
     "output_type": "stream",
     "text": [
      "[Parallel(n_jobs=2)]: Using backend LokyBackend with 2 concurrent workers.\n"
     ]
    },
    {
     "name": "stdout",
     "output_type": "stream",
     "text": [
      "Filtering  at 10.42 Hz\n"
     ]
    },
    {
     "name": "stderr",
     "output_type": "stream",
     "text": [
      "[Parallel(n_jobs=2)]: Done  24 tasks      | elapsed:    1.8s\n",
      "[Parallel(n_jobs=2)]: Done  63 out of  63 | elapsed:    1.8s finished\n"
     ]
    },
    {
     "name": "stdout",
     "output_type": "stream",
     "text": [
      "Reduction order for nice/marker/SymbolicMutualInformation/default: ['channels_y', 'channels']\n",
      "Reduction order for nice/marker/ContingentNegativeVariation/default: ['channels']\n",
      "Reduction order for nice/marker/TimeLockedTopography/p1: ['channels', 'times']\n",
      "Reduction order for nice/marker/TimeLockedTopography/p3a: ['channels', 'times']\n",
      "Reduction order for nice/marker/TimeLockedTopography/p3a: ['channels', 'times']\n",
      "Autodetected number of jobs 24\n",
      "Effective window size : 16.384 (s)\n"
     ]
    },
    {
     "name": "stderr",
     "output_type": "stream",
     "text": [
      "[Parallel(n_jobs=24)]: Using backend LokyBackend with 24 concurrent workers.\n",
      "[Parallel(n_jobs=24)]: Done   6 out of  24 | elapsed:    3.8s remaining:   11.4s\n",
      "[Parallel(n_jobs=24)]: Done  11 out of  24 | elapsed:    3.9s remaining:    4.6s\n",
      "[Parallel(n_jobs=24)]: Done  16 out of  24 | elapsed:    4.0s remaining:    2.0s\n"
     ]
    },
    {
     "name": "stdout",
     "output_type": "stream",
     "text": [
      "Reduction order for nice/marker/PowerSpectralDensity/alpha: ['frequency', 'channels']\n",
      "Reduction order for nice/marker/PowerSpectralDensity/alpha: ['frequency', 'channels']\n",
      "Reduction order for nice/marker/PowerSpectralDensity/delta: ['frequency', 'channels']\n",
      "Reduction order for nice/marker/PowerSpectralDensity/delta: ['frequency', 'channels']\n",
      "Reduction order for nice/marker/PowerSpectralDensity/theta: ['frequency', 'channels']\n",
      "Reduction order for nice/marker/PowerSpectralDensity/theta: ['frequency', 'channels']\n",
      "Reduction order for nice/marker/PowerSpectralDensity/gamma: ['frequency', 'channels']\n",
      "Reduction order for nice/marker/PowerSpectralDensity/theta: ['frequency', 'channels']\n",
      "Reduction order for nice/marker/PowerSpectralDensity/beta: ['frequency', 'channels']\n",
      "Reduction order for nice/marker/PowerSpectralDensity/beta: ['frequency', 'channels']\n",
      "Running KolmogorovComplexity\n",
      "Elapsed time 0.0545504093170166 sec\n",
      "Reduction order for nice/marker/KolmogorovComplexity/default: ['channels']\n",
      "Filtering  at 10.42 Hz\n"
     ]
    },
    {
     "name": "stderr",
     "output_type": "stream",
     "text": [
      "[Parallel(n_jobs=24)]: Done  21 out of  24 | elapsed:    4.1s remaining:    0.6s\n",
      "[Parallel(n_jobs=24)]: Done  24 out of  24 | elapsed:    4.2s finished\n"
     ]
    },
    {
     "name": "stdout",
     "output_type": "stream",
     "text": [
      "Performing symbolic transformation\n",
      "Reduction order for nice/marker/PermutationEntropy/default: ['channels']\n",
      "Autodetected number of jobs 2\n",
      "Computing CSD\n",
      "Using 10-5 locations for CSD\n",
      "Using 2 jobs\n"
     ]
    },
    {
     "name": "stderr",
     "output_type": "stream",
     "text": [
      "[Parallel(n_jobs=2)]: Using backend LokyBackend with 2 concurrent workers.\n"
     ]
    },
    {
     "name": "stdout",
     "output_type": "stream",
     "text": [
      "Filtering  at 10.42 Hz\n"
     ]
    },
    {
     "name": "stderr",
     "output_type": "stream",
     "text": [
      "[Parallel(n_jobs=2)]: Done  18 tasks      | elapsed:    1.7s\n",
      "[Parallel(n_jobs=2)]: Done  38 out of  38 | elapsed:    1.8s finished\n"
     ]
    },
    {
     "name": "stdout",
     "output_type": "stream",
     "text": [
      "Reduction order for nice/marker/SymbolicMutualInformation/default: ['channels_y', 'channels']\n",
      "Reduction order for nice/marker/ContingentNegativeVariation/default: ['channels']\n",
      "Reduction order for nice/marker/TimeLockedTopography/p1: ['channels', 'times']\n",
      "Reduction order for nice/marker/TimeLockedTopography/p3a: ['channels', 'times']\n",
      "Reduction order for nice/marker/TimeLockedTopography/p3a: ['channels', 'times']\n",
      "Autodetected number of jobs 24\n",
      "Effective window size : 16.384 (s)\n"
     ]
    },
    {
     "name": "stderr",
     "output_type": "stream",
     "text": [
      "[Parallel(n_jobs=24)]: Using backend LokyBackend with 24 concurrent workers.\n",
      "[Parallel(n_jobs=24)]: Done   6 out of  24 | elapsed:    3.8s remaining:   11.3s\n",
      "[Parallel(n_jobs=24)]: Done  11 out of  24 | elapsed:    3.8s remaining:    4.5s\n",
      "[Parallel(n_jobs=24)]: Done  16 out of  24 | elapsed:    4.0s remaining:    2.0s\n",
      "[Parallel(n_jobs=24)]: Done  21 out of  24 | elapsed:    4.2s remaining:    0.6s\n"
     ]
    },
    {
     "name": "stdout",
     "output_type": "stream",
     "text": [
      "Reduction order for nice/marker/PowerSpectralDensity/alpha: ['frequency', 'channels']\n",
      "Reduction order for nice/marker/PowerSpectralDensity/alpha: ['frequency', 'channels']\n",
      "Reduction order for nice/marker/PowerSpectralDensity/delta: ['frequency', 'channels']\n",
      "Reduction order for nice/marker/PowerSpectralDensity/delta: ['frequency', 'channels']\n",
      "Reduction order for nice/marker/PowerSpectralDensity/theta: ['frequency', 'channels']\n",
      "Reduction order for nice/marker/PowerSpectralDensity/theta: ['frequency', 'channels']\n",
      "Reduction order for nice/marker/PowerSpectralDensity/gamma: ['frequency', 'channels']\n",
      "Reduction order for nice/marker/PowerSpectralDensity/theta: ['frequency', 'channels']\n",
      "Reduction order for nice/marker/PowerSpectralDensity/beta: ['frequency', 'channels']\n",
      "Reduction order for nice/marker/PowerSpectralDensity/beta: ['frequency', 'channels']\n",
      "Running KolmogorovComplexity\n",
      "Elapsed time 0.01166534423828125 sec\n",
      "Reduction order for nice/marker/KolmogorovComplexity/default: ['channels']\n",
      "Filtering  at 10.42 Hz\n",
      "Performing symbolic transformation\n"
     ]
    },
    {
     "name": "stderr",
     "output_type": "stream",
     "text": [
      "[Parallel(n_jobs=24)]: Done  24 out of  24 | elapsed:    4.2s finished\n"
     ]
    },
    {
     "name": "stdout",
     "output_type": "stream",
     "text": [
      "Reduction order for nice/marker/PermutationEntropy/default: ['channels']\n",
      "Autodetected number of jobs 2\n",
      "Computing CSD\n",
      "Using 10-5 locations for CSD\n",
      "Using 2 jobs\n"
     ]
    },
    {
     "name": "stderr",
     "output_type": "stream",
     "text": [
      "[Parallel(n_jobs=2)]: Using backend LokyBackend with 2 concurrent workers.\n"
     ]
    },
    {
     "name": "stdout",
     "output_type": "stream",
     "text": [
      "Filtering  at 10.42 Hz\n",
      "Reduction order for nice/marker/SymbolicMutualInformation/default: ['channels_y', 'channels']\n",
      "Reduction order for nice/marker/ContingentNegativeVariation/default: ['channels']\n",
      "Reduction order for nice/marker/TimeLockedTopography/p1: ['channels', 'times']\n",
      "Reduction order for nice/marker/TimeLockedTopography/p3a: ['channels', 'times']\n",
      "Reduction order for nice/marker/TimeLockedTopography/p3a: ['channels', 'times']\n",
      "Autodetected number of jobs 24\n",
      "Effective window size : 16.384 (s)\n"
     ]
    },
    {
     "name": "stderr",
     "output_type": "stream",
     "text": [
      "[Parallel(n_jobs=2)]: Done   8 out of   8 | elapsed:    1.7s finished\n",
      "[Parallel(n_jobs=24)]: Using backend LokyBackend with 24 concurrent workers.\n",
      "[Parallel(n_jobs=24)]: Done   6 out of  24 | elapsed:    3.6s remaining:   10.9s\n",
      "[Parallel(n_jobs=24)]: Done  11 out of  24 | elapsed:    3.7s remaining:    4.3s\n",
      "[Parallel(n_jobs=24)]: Done  16 out of  24 | elapsed:    3.7s remaining:    1.9s\n",
      "[Parallel(n_jobs=24)]: Done  21 out of  24 | elapsed:    3.8s remaining:    0.5s\n"
     ]
    },
    {
     "name": "stdout",
     "output_type": "stream",
     "text": [
      "Reduction order for nice/marker/PowerSpectralDensity/alpha: ['frequency', 'channels']\n",
      "Reduction order for nice/marker/PowerSpectralDensity/alpha: ['frequency', 'channels']\n",
      "Reduction order for nice/marker/PowerSpectralDensity/delta: ['frequency', 'channels']\n",
      "Reduction order for nice/marker/PowerSpectralDensity/delta: ['frequency', 'channels']\n",
      "Reduction order for nice/marker/PowerSpectralDensity/theta: ['frequency', 'channels']\n",
      "Reduction order for nice/marker/PowerSpectralDensity/theta: ['frequency', 'channels']\n",
      "Reduction order for nice/marker/PowerSpectralDensity/gamma: ['frequency', 'channels']\n",
      "Reduction order for nice/marker/PowerSpectralDensity/theta: ['frequency', 'channels']\n",
      "Reduction order for nice/marker/PowerSpectralDensity/beta: ['frequency', 'channels']\n",
      "Reduction order for nice/marker/PowerSpectralDensity/beta: ['frequency', 'channels']\n",
      "Running KolmogorovComplexity\n",
      "Elapsed time 0.0028383731842041016 sec\n",
      "Reduction order for nice/marker/KolmogorovComplexity/default: ['channels']\n",
      "Filtering  at 10.42 Hz\n",
      "Performing symbolic transformation\n"
     ]
    },
    {
     "name": "stderr",
     "output_type": "stream",
     "text": [
      "[Parallel(n_jobs=24)]: Done  24 out of  24 | elapsed:    4.0s finished\n"
     ]
    },
    {
     "name": "stdout",
     "output_type": "stream",
     "text": [
      "Reduction order for nice/marker/PermutationEntropy/default: ['channels']\n",
      "Autodetected number of jobs 2\n",
      "Computing CSD\n",
      "Using 10-5 locations for CSD\n",
      "Using 2 jobs\n"
     ]
    },
    {
     "name": "stderr",
     "output_type": "stream",
     "text": [
      "[Parallel(n_jobs=2)]: Using backend LokyBackend with 2 concurrent workers.\n"
     ]
    },
    {
     "name": "stdout",
     "output_type": "stream",
     "text": [
      "Filtering  at 10.42 Hz\n",
      "Reduction order for nice/marker/SymbolicMutualInformation/default: ['channels_y', 'channels']\n",
      "Reduction order for nice/marker/ContingentNegativeVariation/default: ['channels']\n",
      "Reduction order for nice/marker/TimeLockedTopography/p1: ['channels', 'times']\n",
      "Reduction order for nice/marker/TimeLockedTopography/p3a: ['channels', 'times']\n",
      "Reduction order for nice/marker/TimeLockedTopography/p3a: ['channels', 'times']\n",
      "Autodetected number of jobs 24\n",
      "Effective window size : 16.384 (s)\n"
     ]
    },
    {
     "name": "stderr",
     "output_type": "stream",
     "text": [
      "[Parallel(n_jobs=2)]: Done   2 out of   2 | elapsed:    1.6s remaining:    0.0s\n",
      "[Parallel(n_jobs=2)]: Done   2 out of   2 | elapsed:    1.6s finished\n",
      "[Parallel(n_jobs=24)]: Using backend LokyBackend with 24 concurrent workers.\n",
      "[Parallel(n_jobs=24)]: Done   6 out of  24 | elapsed:    3.7s remaining:   11.0s\n",
      "[Parallel(n_jobs=24)]: Done  11 out of  24 | elapsed:    3.7s remaining:    4.4s\n",
      "[Parallel(n_jobs=24)]: Done  16 out of  24 | elapsed:    3.8s remaining:    1.9s\n"
     ]
    },
    {
     "name": "stdout",
     "output_type": "stream",
     "text": [
      "Reduction order for nice/marker/PowerSpectralDensity/alpha: ['frequency', 'channels']\n",
      "Reduction order for nice/marker/PowerSpectralDensity/alpha: ['frequency', 'channels']\n",
      "Reduction order for nice/marker/PowerSpectralDensity/delta: ['frequency', 'channels']\n",
      "Reduction order for nice/marker/PowerSpectralDensity/delta: ['frequency', 'channels']\n",
      "Reduction order for nice/marker/PowerSpectralDensity/theta: ['frequency', 'channels']\n",
      "Reduction order for nice/marker/PowerSpectralDensity/theta: ['frequency', 'channels']\n",
      "Reduction order for nice/marker/PowerSpectralDensity/gamma: ['frequency', 'channels']\n",
      "Reduction order for nice/marker/PowerSpectralDensity/theta: ['frequency', 'channels']\n",
      "Reduction order for nice/marker/PowerSpectralDensity/beta: ['frequency', 'channels']\n",
      "Reduction order for nice/marker/PowerSpectralDensity/beta: ['frequency', 'channels']\n",
      "Running KolmogorovComplexity\n",
      "Elapsed time 0.023097991943359375 sec\n",
      "Reduction order for nice/marker/KolmogorovComplexity/default: ['channels']\n",
      "Filtering  at 10.42 Hz\n",
      "Performing symbolic transformation\n"
     ]
    },
    {
     "name": "stderr",
     "output_type": "stream",
     "text": [
      "[Parallel(n_jobs=24)]: Done  21 out of  24 | elapsed:    3.9s remaining:    0.6s\n",
      "[Parallel(n_jobs=24)]: Done  24 out of  24 | elapsed:    3.9s finished\n"
     ]
    },
    {
     "name": "stdout",
     "output_type": "stream",
     "text": [
      "Reduction order for nice/marker/PermutationEntropy/default: ['channels']\n",
      "Autodetected number of jobs 2\n",
      "Computing CSD\n",
      "Using 10-5 locations for CSD\n",
      "Using 2 jobs\n"
     ]
    },
    {
     "name": "stderr",
     "output_type": "stream",
     "text": [
      "[Parallel(n_jobs=2)]: Using backend LokyBackend with 2 concurrent workers.\n"
     ]
    },
    {
     "name": "stdout",
     "output_type": "stream",
     "text": [
      "Filtering  at 10.42 Hz\n",
      "Reduction order for nice/marker/SymbolicMutualInformation/default: ['channels_y', 'channels']\n",
      "Reduction order for nice/marker/ContingentNegativeVariation/default: ['channels']\n",
      "Reduction order for nice/marker/TimeLockedTopography/p1: ['channels', 'times']\n",
      "Reduction order for nice/marker/TimeLockedTopography/p3a: ['channels', 'times']\n",
      "Reduction order for nice/marker/TimeLockedTopography/p3a: ['channels', 'times']\n",
      "Autodetected number of jobs 24\n",
      "Effective window size : 16.384 (s)\n"
     ]
    },
    {
     "name": "stderr",
     "output_type": "stream",
     "text": [
      "[Parallel(n_jobs=2)]: Done  15 out of  15 | elapsed:    1.7s finished\n",
      "[Parallel(n_jobs=24)]: Using backend LokyBackend with 24 concurrent workers.\n",
      "[Parallel(n_jobs=24)]: Done   6 out of  24 | elapsed:    3.7s remaining:   11.0s\n",
      "[Parallel(n_jobs=24)]: Done  11 out of  24 | elapsed:    3.7s remaining:    4.4s\n",
      "[Parallel(n_jobs=24)]: Done  16 out of  24 | elapsed:    3.8s remaining:    1.9s\n"
     ]
    },
    {
     "name": "stdout",
     "output_type": "stream",
     "text": [
      "Reduction order for nice/marker/PowerSpectralDensity/alpha: ['frequency', 'channels']\n",
      "Reduction order for nice/marker/PowerSpectralDensity/alpha: ['frequency', 'channels']\n",
      "Reduction order for nice/marker/PowerSpectralDensity/delta: ['frequency', 'channels']\n",
      "Reduction order for nice/marker/PowerSpectralDensity/delta: ['frequency', 'channels']\n",
      "Reduction order for nice/marker/PowerSpectralDensity/theta: ['frequency', 'channels']\n",
      "Reduction order for nice/marker/PowerSpectralDensity/theta: ['frequency', 'channels']\n",
      "Reduction order for nice/marker/PowerSpectralDensity/gamma: ['frequency', 'channels']\n",
      "Reduction order for nice/marker/PowerSpectralDensity/theta: ['frequency', 'channels']\n",
      "Reduction order for nice/marker/PowerSpectralDensity/beta: ['frequency', 'channels']\n",
      "Reduction order for nice/marker/PowerSpectralDensity/beta: ['frequency', 'channels']\n",
      "Running KolmogorovComplexity\n",
      "Elapsed time 0.010047674179077148 sec\n",
      "Reduction order for nice/marker/KolmogorovComplexity/default: ['channels']\n",
      "Filtering  at 10.42 Hz\n",
      "Performing symbolic transformation\n"
     ]
    },
    {
     "name": "stderr",
     "output_type": "stream",
     "text": [
      "[Parallel(n_jobs=24)]: Done  21 out of  24 | elapsed:    3.9s remaining:    0.6s\n",
      "[Parallel(n_jobs=24)]: Done  24 out of  24 | elapsed:    4.0s finished\n"
     ]
    },
    {
     "name": "stdout",
     "output_type": "stream",
     "text": [
      "Reduction order for nice/marker/PermutationEntropy/default: ['channels']\n",
      "Autodetected number of jobs 2\n",
      "Computing CSD\n",
      "Using 10-5 locations for CSD\n",
      "Using 2 jobs\n"
     ]
    },
    {
     "name": "stderr",
     "output_type": "stream",
     "text": [
      "[Parallel(n_jobs=2)]: Using backend LokyBackend with 2 concurrent workers.\n"
     ]
    },
    {
     "name": "stdout",
     "output_type": "stream",
     "text": [
      "Filtering  at 10.42 Hz\n",
      "Reduction order for nice/marker/SymbolicMutualInformation/default: ['channels_y', 'channels']\n",
      "Reduction order for nice/marker/ContingentNegativeVariation/default: ['channels']\n",
      "Reduction order for nice/marker/TimeLockedTopography/p1: ['channels', 'times']\n",
      "Reduction order for nice/marker/TimeLockedTopography/p3a: ['channels', 'times']\n",
      "Reduction order for nice/marker/TimeLockedTopography/p3a: ['channels', 'times']\n",
      "Autodetected number of jobs 24\n",
      "Effective window size : 16.384 (s)\n"
     ]
    },
    {
     "name": "stderr",
     "output_type": "stream",
     "text": [
      "[Parallel(n_jobs=2)]: Done   7 out of   7 | elapsed:    1.7s finished\n",
      "[Parallel(n_jobs=24)]: Using backend LokyBackend with 24 concurrent workers.\n",
      "[Parallel(n_jobs=24)]: Done   6 out of  24 | elapsed:    3.8s remaining:   11.5s\n",
      "[Parallel(n_jobs=24)]: Done  11 out of  24 | elapsed:    3.9s remaining:    4.6s\n",
      "[Parallel(n_jobs=24)]: Done  16 out of  24 | elapsed:    3.9s remaining:    2.0s\n",
      "[Parallel(n_jobs=24)]: Done  21 out of  24 | elapsed:    4.0s remaining:    0.6s\n"
     ]
    },
    {
     "name": "stdout",
     "output_type": "stream",
     "text": [
      "Reduction order for nice/marker/PowerSpectralDensity/alpha: ['frequency', 'channels']\n",
      "Reduction order for nice/marker/PowerSpectralDensity/alpha: ['frequency', 'channels']\n",
      "Reduction order for nice/marker/PowerSpectralDensity/delta: ['frequency', 'channels']\n",
      "Reduction order for nice/marker/PowerSpectralDensity/delta: ['frequency', 'channels']\n",
      "Reduction order for nice/marker/PowerSpectralDensity/theta: ['frequency', 'channels']\n",
      "Reduction order for nice/marker/PowerSpectralDensity/theta: ['frequency', 'channels']\n",
      "Reduction order for nice/marker/PowerSpectralDensity/gamma: ['frequency', 'channels']\n",
      "Reduction order for nice/marker/PowerSpectralDensity/theta: ['frequency', 'channels']\n",
      "Reduction order for nice/marker/PowerSpectralDensity/beta: ['frequency', 'channels']\n",
      "Reduction order for nice/marker/PowerSpectralDensity/beta: ['frequency', 'channels']\n",
      "Running KolmogorovComplexity\n",
      "Elapsed time 0.07694721221923828 sec\n",
      "Reduction order for nice/marker/KolmogorovComplexity/default: ['channels']\n",
      "Filtering  at 10.42 Hz\n",
      "Performing symbolic transformation\n"
     ]
    },
    {
     "name": "stderr",
     "output_type": "stream",
     "text": [
      "[Parallel(n_jobs=24)]: Done  24 out of  24 | elapsed:    4.0s finished\n"
     ]
    },
    {
     "name": "stdout",
     "output_type": "stream",
     "text": [
      "Reduction order for nice/marker/PermutationEntropy/default: ['channels']\n",
      "Autodetected number of jobs 2\n",
      "Computing CSD\n",
      "Using 10-5 locations for CSD\n",
      "Using 2 jobs\n"
     ]
    },
    {
     "name": "stderr",
     "output_type": "stream",
     "text": [
      "[Parallel(n_jobs=2)]: Using backend LokyBackend with 2 concurrent workers.\n"
     ]
    },
    {
     "name": "stdout",
     "output_type": "stream",
     "text": [
      "Filtering  at 10.42 Hz\n"
     ]
    },
    {
     "name": "stderr",
     "output_type": "stream",
     "text": [
      "[Parallel(n_jobs=2)]: Done  18 tasks      | elapsed:    1.7s\n",
      "[Parallel(n_jobs=2)]: Done  52 out of  52 | elapsed:    1.7s finished\n"
     ]
    },
    {
     "name": "stdout",
     "output_type": "stream",
     "text": [
      "Reduction order for nice/marker/SymbolicMutualInformation/default: ['channels_y', 'channels']\n",
      "Reduction order for nice/marker/ContingentNegativeVariation/default: ['channels']\n",
      "Reduction order for nice/marker/TimeLockedTopography/p1: ['channels', 'times']\n",
      "Reduction order for nice/marker/TimeLockedTopography/p3a: ['channels', 'times']\n",
      "Reduction order for nice/marker/TimeLockedTopography/p3a: ['channels', 'times']\n",
      "Autodetected number of jobs 24\n",
      "Effective window size : 16.384 (s)\n"
     ]
    },
    {
     "name": "stderr",
     "output_type": "stream",
     "text": [
      "[Parallel(n_jobs=24)]: Using backend LokyBackend with 24 concurrent workers.\n",
      "[Parallel(n_jobs=24)]: Done   6 out of  24 | elapsed:    3.8s remaining:   11.4s\n",
      "[Parallel(n_jobs=24)]: Done  11 out of  24 | elapsed:    3.9s remaining:    4.6s\n",
      "[Parallel(n_jobs=24)]: Done  16 out of  24 | elapsed:    4.0s remaining:    2.0s\n"
     ]
    },
    {
     "name": "stdout",
     "output_type": "stream",
     "text": [
      "Reduction order for nice/marker/PowerSpectralDensity/alpha: ['frequency', 'channels']\n",
      "Reduction order for nice/marker/PowerSpectralDensity/alpha: ['frequency', 'channels']\n",
      "Reduction order for nice/marker/PowerSpectralDensity/delta: ['frequency', 'channels']\n",
      "Reduction order for nice/marker/PowerSpectralDensity/delta: ['frequency', 'channels']\n",
      "Reduction order for nice/marker/PowerSpectralDensity/theta: ['frequency', 'channels']\n",
      "Reduction order for nice/marker/PowerSpectralDensity/theta: ['frequency', 'channels']\n",
      "Reduction order for nice/marker/PowerSpectralDensity/gamma: ['frequency', 'channels']\n",
      "Reduction order for nice/marker/PowerSpectralDensity/theta: ['frequency', 'channels']\n",
      "Reduction order for nice/marker/PowerSpectralDensity/beta: ['frequency', 'channels']\n",
      "Reduction order for nice/marker/PowerSpectralDensity/beta: ['frequency', 'channels']\n",
      "Running KolmogorovComplexity\n",
      "Elapsed time 0.009818553924560547 sec\n",
      "Reduction order for nice/marker/KolmogorovComplexity/default: ['channels']\n",
      "Filtering  at 10.42 Hz\n",
      "Performing symbolic transformation\n"
     ]
    },
    {
     "name": "stderr",
     "output_type": "stream",
     "text": [
      "[Parallel(n_jobs=24)]: Done  21 out of  24 | elapsed:    4.0s remaining:    0.6s\n",
      "[Parallel(n_jobs=24)]: Done  24 out of  24 | elapsed:    4.1s finished\n"
     ]
    },
    {
     "name": "stdout",
     "output_type": "stream",
     "text": [
      "Reduction order for nice/marker/PermutationEntropy/default: ['channels']\n",
      "Autodetected number of jobs 2\n",
      "Computing CSD\n",
      "Using 10-5 locations for CSD\n",
      "Using 2 jobs\n"
     ]
    },
    {
     "name": "stderr",
     "output_type": "stream",
     "text": [
      "[Parallel(n_jobs=2)]: Using backend LokyBackend with 2 concurrent workers.\n"
     ]
    },
    {
     "name": "stdout",
     "output_type": "stream",
     "text": [
      "Filtering  at 10.42 Hz\n",
      "Reduction order for nice/marker/SymbolicMutualInformation/default: ['channels_y', 'channels']\n",
      "Reduction order for nice/marker/ContingentNegativeVariation/default: ['channels']\n",
      "Reduction order for nice/marker/TimeLockedTopography/p1: ['channels', 'times']\n",
      "Reduction order for nice/marker/TimeLockedTopography/p3a: ['channels', 'times']\n",
      "Reduction order for nice/marker/TimeLockedTopography/p3a: ['channels', 'times']\n",
      "Autodetected number of jobs 24\n",
      "Effective window size : 16.384 (s)\n"
     ]
    },
    {
     "name": "stderr",
     "output_type": "stream",
     "text": [
      "[Parallel(n_jobs=2)]: Done   7 out of   7 | elapsed:    1.7s finished\n",
      "[Parallel(n_jobs=24)]: Using backend LokyBackend with 24 concurrent workers.\n",
      "[Parallel(n_jobs=24)]: Done   6 out of  24 | elapsed:    3.7s remaining:   11.1s\n",
      "[Parallel(n_jobs=24)]: Done  11 out of  24 | elapsed:    3.8s remaining:    4.5s\n",
      "[Parallel(n_jobs=24)]: Done  16 out of  24 | elapsed:    4.0s remaining:    2.0s\n",
      "[Parallel(n_jobs=24)]: Done  21 out of  24 | elapsed:    4.1s remaining:    0.6s\n"
     ]
    },
    {
     "name": "stdout",
     "output_type": "stream",
     "text": [
      "Reduction order for nice/marker/PowerSpectralDensity/alpha: ['frequency', 'channels']\n",
      "Reduction order for nice/marker/PowerSpectralDensity/alpha: ['frequency', 'channels']\n",
      "Reduction order for nice/marker/PowerSpectralDensity/delta: ['frequency', 'channels']\n",
      "Reduction order for nice/marker/PowerSpectralDensity/delta: ['frequency', 'channels']\n",
      "Reduction order for nice/marker/PowerSpectralDensity/theta: ['frequency', 'channels']\n",
      "Reduction order for nice/marker/PowerSpectralDensity/theta: ['frequency', 'channels']\n",
      "Reduction order for nice/marker/PowerSpectralDensity/gamma: ['frequency', 'channels']\n",
      "Reduction order for nice/marker/PowerSpectralDensity/theta: ['frequency', 'channels']\n",
      "Reduction order for nice/marker/PowerSpectralDensity/beta: ['frequency', 'channels']\n",
      "Reduction order for nice/marker/PowerSpectralDensity/beta: ['frequency', 'channels']\n",
      "Running KolmogorovComplexity\n",
      "Elapsed time 0.024658679962158203 sec\n",
      "Reduction order for nice/marker/KolmogorovComplexity/default: ['channels']\n",
      "Filtering  at 10.42 Hz\n",
      "Performing symbolic transformation\n"
     ]
    },
    {
     "name": "stderr",
     "output_type": "stream",
     "text": [
      "[Parallel(n_jobs=24)]: Done  24 out of  24 | elapsed:    4.2s finished\n"
     ]
    },
    {
     "name": "stdout",
     "output_type": "stream",
     "text": [
      "Reduction order for nice/marker/PermutationEntropy/default: ['channels']\n",
      "Autodetected number of jobs 2\n",
      "Computing CSD\n",
      "Using 10-5 locations for CSD\n",
      "Using 2 jobs\n"
     ]
    },
    {
     "name": "stderr",
     "output_type": "stream",
     "text": [
      "[Parallel(n_jobs=2)]: Using backend LokyBackend with 2 concurrent workers.\n"
     ]
    },
    {
     "name": "stdout",
     "output_type": "stream",
     "text": [
      "Filtering  at 10.42 Hz\n",
      "Reduction order for nice/marker/SymbolicMutualInformation/default: ['channels_y', 'channels']\n",
      "Reduction order for nice/marker/ContingentNegativeVariation/default: ['channels']\n",
      "Reduction order for nice/marker/TimeLockedTopography/p1: ['channels', 'times']\n",
      "Reduction order for nice/marker/TimeLockedTopography/p3a: ['channels', 'times']\n",
      "Reduction order for nice/marker/TimeLockedTopography/p3a: ['channels', 'times']\n",
      "Autodetected number of jobs 24\n",
      "Effective window size : 16.384 (s)\n"
     ]
    },
    {
     "name": "stderr",
     "output_type": "stream",
     "text": [
      "[Parallel(n_jobs=2)]: Done  17 out of  17 | elapsed:    1.7s finished\n",
      "[Parallel(n_jobs=24)]: Using backend LokyBackend with 24 concurrent workers.\n",
      "[Parallel(n_jobs=24)]: Done   6 out of  24 | elapsed:    3.8s remaining:   11.3s\n",
      "[Parallel(n_jobs=24)]: Done  11 out of  24 | elapsed:    3.9s remaining:    4.6s\n",
      "[Parallel(n_jobs=24)]: Done  16 out of  24 | elapsed:    3.9s remaining:    2.0s\n"
     ]
    },
    {
     "name": "stdout",
     "output_type": "stream",
     "text": [
      "Reduction order for nice/marker/PowerSpectralDensity/alpha: ['frequency', 'channels']\n",
      "Reduction order for nice/marker/PowerSpectralDensity/alpha: ['frequency', 'channels']\n",
      "Reduction order for nice/marker/PowerSpectralDensity/delta: ['frequency', 'channels']\n",
      "Reduction order for nice/marker/PowerSpectralDensity/delta: ['frequency', 'channels']\n",
      "Reduction order for nice/marker/PowerSpectralDensity/theta: ['frequency', 'channels']\n",
      "Reduction order for nice/marker/PowerSpectralDensity/theta: ['frequency', 'channels']\n",
      "Reduction order for nice/marker/PowerSpectralDensity/gamma: ['frequency', 'channels']\n",
      "Reduction order for nice/marker/PowerSpectralDensity/theta: ['frequency', 'channels']\n",
      "Reduction order for nice/marker/PowerSpectralDensity/beta: ['frequency', 'channels']\n"
     ]
    },
    {
     "name": "stderr",
     "output_type": "stream",
     "text": [
      "[Parallel(n_jobs=24)]: Done  21 out of  24 | elapsed:    4.0s remaining:    0.6s\n",
      "[Parallel(n_jobs=24)]: Done  24 out of  24 | elapsed:    4.2s finished\n"
     ]
    },
    {
     "name": "stdout",
     "output_type": "stream",
     "text": [
      "Reduction order for nice/marker/PowerSpectralDensity/beta: ['frequency', 'channels']\n",
      "Running KolmogorovComplexity\n",
      "Elapsed time 0.015166521072387695 sec\n",
      "Reduction order for nice/marker/KolmogorovComplexity/default: ['channels']\n",
      "Filtering  at 10.42 Hz\n",
      "Performing symbolic transformation\n",
      "Reduction order for nice/marker/PermutationEntropy/default: ['channels']\n",
      "Autodetected number of jobs 2\n",
      "Computing CSD\n",
      "Using 10-5 locations for CSD\n",
      "Using 2 jobs\n"
     ]
    },
    {
     "name": "stderr",
     "output_type": "stream",
     "text": [
      "[Parallel(n_jobs=2)]: Using backend LokyBackend with 2 concurrent workers.\n"
     ]
    },
    {
     "name": "stdout",
     "output_type": "stream",
     "text": [
      "Filtering  at 10.42 Hz\n",
      "Reduction order for nice/marker/SymbolicMutualInformation/default: ['channels_y', 'channels']\n",
      "Reduction order for nice/marker/ContingentNegativeVariation/default: ['channels']\n",
      "Reduction order for nice/marker/TimeLockedTopography/p1: ['channels', 'times']\n",
      "Reduction order for nice/marker/TimeLockedTopography/p3a: ['channels', 'times']\n",
      "Reduction order for nice/marker/TimeLockedTopography/p3a: ['channels', 'times']\n",
      "\n",
      "#########################################\n",
      "Computing markers for participant VP25\n",
      "#########################################\n",
      "\n",
      "Reading /media/nicolas.bruno/63f8a366-34b7-4896-a7ce-b5fb4ee78535/Nico/MW_eeg_data/minmarker/VP25/VP25_evoked_ar_subtracted_epo.fif ...\n",
      "    Found the data of interest:\n",
      "        t =    -200.00 ...     600.00 ms\n",
      "        0 CTF compensation matrices available\n"
     ]
    },
    {
     "name": "stderr",
     "output_type": "stream",
     "text": [
      "[Parallel(n_jobs=2)]: Done  10 out of  10 | elapsed:    1.7s finished\n"
     ]
    },
    {
     "name": "stdout",
     "output_type": "stream",
     "text": [
      "Not setting metadata\n",
      "Not setting metadata\n",
      "171 matching events found\n",
      "No baseline correction applied\n",
      "0 projection items activated\n",
      "Reading /media/nicolas.bruno/63f8a366-34b7-4896-a7ce-b5fb4ee78535/Nico/MW_eeg_data/minmarker/VP25/VP25_evoked_ar_rereferenced_epo.fif ...\n",
      "    Found the data of interest:\n",
      "        t =    -200.00 ...     600.00 ms\n",
      "        0 CTF compensation matrices available\n",
      "Not setting metadata\n",
      "Not setting metadata\n",
      "171 matching events found\n",
      "No baseline correction applied\n",
      "0 projection items activated\n",
      "Autodetected number of jobs 24\n",
      "Effective window size : 16.384 (s)\n"
     ]
    },
    {
     "name": "stderr",
     "output_type": "stream",
     "text": [
      "[Parallel(n_jobs=24)]: Using backend LokyBackend with 24 concurrent workers.\n",
      "[Parallel(n_jobs=24)]: Done   6 out of  24 | elapsed:    3.8s remaining:   11.4s\n",
      "[Parallel(n_jobs=24)]: Done  11 out of  24 | elapsed:    3.9s remaining:    4.6s\n",
      "[Parallel(n_jobs=24)]: Done  16 out of  24 | elapsed:    3.9s remaining:    1.9s\n",
      "[Parallel(n_jobs=24)]: Done  21 out of  24 | elapsed:    4.0s remaining:    0.6s\n"
     ]
    },
    {
     "name": "stdout",
     "output_type": "stream",
     "text": [
      "Reduction order for nice/marker/PowerSpectralDensity/alpha: ['frequency', 'channels']\n",
      "Reduction order for nice/marker/PowerSpectralDensity/alpha: ['frequency', 'channels']\n",
      "Reduction order for nice/marker/PowerSpectralDensity/delta: ['frequency', 'channels']\n",
      "Reduction order for nice/marker/PowerSpectralDensity/delta: ['frequency', 'channels']\n",
      "Reduction order for nice/marker/PowerSpectralDensity/theta: ['frequency', 'channels']\n",
      "Reduction order for nice/marker/PowerSpectralDensity/theta: ['frequency', 'channels']\n",
      "Reduction order for nice/marker/PowerSpectralDensity/gamma: ['frequency', 'channels']\n",
      "Reduction order for nice/marker/PowerSpectralDensity/theta: ['frequency', 'channels']\n",
      "Reduction order for nice/marker/PowerSpectralDensity/beta: ['frequency', 'channels']\n",
      "Reduction order for nice/marker/PowerSpectralDensity/beta: ['frequency', 'channels']\n",
      "Running KolmogorovComplexity\n",
      "Elapsed time 0.08988308906555176 sec\n",
      "Reduction order for nice/marker/KolmogorovComplexity/default: ['channels']\n",
      "Filtering  at 10.42 Hz\n",
      "Performing symbolic transformation\n"
     ]
    },
    {
     "name": "stderr",
     "output_type": "stream",
     "text": [
      "[Parallel(n_jobs=24)]: Done  24 out of  24 | elapsed:    4.0s finished\n"
     ]
    },
    {
     "name": "stdout",
     "output_type": "stream",
     "text": [
      "Reduction order for nice/marker/PermutationEntropy/default: ['channels']\n",
      "Autodetected number of jobs 2\n",
      "Computing CSD\n",
      "Using 10-5 locations for CSD\n",
      "Using 2 jobs\n"
     ]
    },
    {
     "name": "stderr",
     "output_type": "stream",
     "text": [
      "[Parallel(n_jobs=2)]: Using backend LokyBackend with 2 concurrent workers.\n"
     ]
    },
    {
     "name": "stdout",
     "output_type": "stream",
     "text": [
      "Filtering  at 10.42 Hz\n"
     ]
    },
    {
     "name": "stderr",
     "output_type": "stream",
     "text": [
      "[Parallel(n_jobs=2)]: Done  18 tasks      | elapsed:    1.7s\n",
      "[Parallel(n_jobs=2)]: Done  63 out of  63 | elapsed:    1.8s finished\n"
     ]
    },
    {
     "name": "stdout",
     "output_type": "stream",
     "text": [
      "Reduction order for nice/marker/SymbolicMutualInformation/default: ['channels_y', 'channels']\n",
      "Reduction order for nice/marker/ContingentNegativeVariation/default: ['channels']\n",
      "Reduction order for nice/marker/TimeLockedTopography/p1: ['channels', 'times']\n",
      "Reduction order for nice/marker/TimeLockedTopography/p3a: ['channels', 'times']\n",
      "Reduction order for nice/marker/TimeLockedTopography/p3a: ['channels', 'times']\n",
      "Autodetected number of jobs 24\n",
      "Effective window size : 16.384 (s)\n"
     ]
    },
    {
     "name": "stderr",
     "output_type": "stream",
     "text": [
      "[Parallel(n_jobs=24)]: Using backend LokyBackend with 24 concurrent workers.\n",
      "[Parallel(n_jobs=24)]: Done   6 out of  24 | elapsed:    3.9s remaining:   11.8s\n",
      "[Parallel(n_jobs=24)]: Done  11 out of  24 | elapsed:    4.0s remaining:    4.7s\n",
      "[Parallel(n_jobs=24)]: Done  16 out of  24 | elapsed:    4.0s remaining:    2.0s\n"
     ]
    },
    {
     "name": "stdout",
     "output_type": "stream",
     "text": [
      "Reduction order for nice/marker/PowerSpectralDensity/alpha: ['frequency', 'channels']\n",
      "Reduction order for nice/marker/PowerSpectralDensity/alpha: ['frequency', 'channels']\n",
      "Reduction order for nice/marker/PowerSpectralDensity/delta: ['frequency', 'channels']\n",
      "Reduction order for nice/marker/PowerSpectralDensity/delta: ['frequency', 'channels']\n",
      "Reduction order for nice/marker/PowerSpectralDensity/theta: ['frequency', 'channels']\n",
      "Reduction order for nice/marker/PowerSpectralDensity/theta: ['frequency', 'channels']\n",
      "Reduction order for nice/marker/PowerSpectralDensity/gamma: ['frequency', 'channels']\n",
      "Reduction order for nice/marker/PowerSpectralDensity/theta: ['frequency', 'channels']\n",
      "Reduction order for nice/marker/PowerSpectralDensity/beta: ['frequency', 'channels']\n",
      "Reduction order for nice/marker/PowerSpectralDensity/beta: ['frequency', 'channels']\n",
      "Running KolmogorovComplexity\n",
      "Elapsed time 0.05420422554016113 sec\n"
     ]
    },
    {
     "name": "stderr",
     "output_type": "stream",
     "text": [
      "[Parallel(n_jobs=24)]: Done  21 out of  24 | elapsed:    4.2s remaining:    0.6s\n",
      "[Parallel(n_jobs=24)]: Done  24 out of  24 | elapsed:    4.3s finished\n"
     ]
    },
    {
     "name": "stdout",
     "output_type": "stream",
     "text": [
      "Reduction order for nice/marker/KolmogorovComplexity/default: ['channels']\n",
      "Filtering  at 10.42 Hz\n",
      "Performing symbolic transformation\n",
      "Reduction order for nice/marker/PermutationEntropy/default: ['channels']\n",
      "Autodetected number of jobs 2\n",
      "Computing CSD\n",
      "Using 10-5 locations for CSD\n",
      "Using 2 jobs\n"
     ]
    },
    {
     "name": "stderr",
     "output_type": "stream",
     "text": [
      "[Parallel(n_jobs=2)]: Using backend LokyBackend with 2 concurrent workers.\n"
     ]
    },
    {
     "name": "stdout",
     "output_type": "stream",
     "text": [
      "Filtering  at 10.42 Hz\n"
     ]
    },
    {
     "name": "stderr",
     "output_type": "stream",
     "text": [
      "[Parallel(n_jobs=2)]: Done  18 tasks      | elapsed:    1.7s\n",
      "[Parallel(n_jobs=2)]: Done  38 out of  38 | elapsed:    1.7s finished\n"
     ]
    },
    {
     "name": "stdout",
     "output_type": "stream",
     "text": [
      "Reduction order for nice/marker/SymbolicMutualInformation/default: ['channels_y', 'channels']\n",
      "Reduction order for nice/marker/ContingentNegativeVariation/default: ['channels']\n",
      "Reduction order for nice/marker/TimeLockedTopography/p1: ['channels', 'times']\n",
      "Reduction order for nice/marker/TimeLockedTopography/p3a: ['channels', 'times']\n",
      "Reduction order for nice/marker/TimeLockedTopography/p3a: ['channels', 'times']\n",
      "Autodetected number of jobs 24\n",
      "Effective window size : 16.384 (s)\n"
     ]
    },
    {
     "name": "stderr",
     "output_type": "stream",
     "text": [
      "[Parallel(n_jobs=24)]: Using backend LokyBackend with 24 concurrent workers.\n",
      "[Parallel(n_jobs=24)]: Done   6 out of  24 | elapsed:    3.7s remaining:   11.0s\n",
      "[Parallel(n_jobs=24)]: Done  11 out of  24 | elapsed:    3.7s remaining:    4.4s\n",
      "[Parallel(n_jobs=24)]: Done  16 out of  24 | elapsed:    3.8s remaining:    1.9s\n",
      "[Parallel(n_jobs=24)]: Done  21 out of  24 | elapsed:    3.9s remaining:    0.6s\n"
     ]
    },
    {
     "name": "stdout",
     "output_type": "stream",
     "text": [
      "Reduction order for nice/marker/PowerSpectralDensity/alpha: ['frequency', 'channels']\n",
      "Reduction order for nice/marker/PowerSpectralDensity/alpha: ['frequency', 'channels']\n",
      "Reduction order for nice/marker/PowerSpectralDensity/delta: ['frequency', 'channels']\n",
      "Reduction order for nice/marker/PowerSpectralDensity/delta: ['frequency', 'channels']\n",
      "Reduction order for nice/marker/PowerSpectralDensity/theta: ['frequency', 'channels']\n",
      "Reduction order for nice/marker/PowerSpectralDensity/theta: ['frequency', 'channels']\n",
      "Reduction order for nice/marker/PowerSpectralDensity/gamma: ['frequency', 'channels']\n",
      "Reduction order for nice/marker/PowerSpectralDensity/theta: ['frequency', 'channels']\n",
      "Reduction order for nice/marker/PowerSpectralDensity/beta: ['frequency', 'channels']\n",
      "Reduction order for nice/marker/PowerSpectralDensity/beta: ['frequency', 'channels']\n",
      "Running KolmogorovComplexity\n",
      "Elapsed time 0.01190495491027832 sec\n",
      "Reduction order for nice/marker/KolmogorovComplexity/default: ['channels']\n",
      "Filtering  at 10.42 Hz\n",
      "Performing symbolic transformation\n"
     ]
    },
    {
     "name": "stderr",
     "output_type": "stream",
     "text": [
      "[Parallel(n_jobs=24)]: Done  24 out of  24 | elapsed:    3.9s finished\n"
     ]
    },
    {
     "name": "stdout",
     "output_type": "stream",
     "text": [
      "Reduction order for nice/marker/PermutationEntropy/default: ['channels']\n",
      "Autodetected number of jobs 2\n",
      "Computing CSD\n",
      "Using 10-5 locations for CSD\n",
      "Using 2 jobs\n"
     ]
    },
    {
     "name": "stderr",
     "output_type": "stream",
     "text": [
      "[Parallel(n_jobs=2)]: Using backend LokyBackend with 2 concurrent workers.\n"
     ]
    },
    {
     "name": "stdout",
     "output_type": "stream",
     "text": [
      "Filtering  at 10.42 Hz\n",
      "Reduction order for nice/marker/SymbolicMutualInformation/default: ['channels_y', 'channels']\n",
      "Reduction order for nice/marker/ContingentNegativeVariation/default: ['channels']\n",
      "Reduction order for nice/marker/TimeLockedTopography/p1: ['channels', 'times']\n",
      "Reduction order for nice/marker/TimeLockedTopography/p3a: ['channels', 'times']\n",
      "Reduction order for nice/marker/TimeLockedTopography/p3a: ['channels', 'times']\n",
      "Autodetected number of jobs 24\n",
      "Effective window size : 16.384 (s)\n"
     ]
    },
    {
     "name": "stderr",
     "output_type": "stream",
     "text": [
      "[Parallel(n_jobs=2)]: Done   8 out of   8 | elapsed:    1.7s finished\n",
      "[Parallel(n_jobs=24)]: Using backend LokyBackend with 24 concurrent workers.\n",
      "[Parallel(n_jobs=24)]: Done   6 out of  24 | elapsed:    3.9s remaining:   11.7s\n",
      "[Parallel(n_jobs=24)]: Done  11 out of  24 | elapsed:    4.0s remaining:    4.7s\n",
      "[Parallel(n_jobs=24)]: Done  16 out of  24 | elapsed:    4.1s remaining:    2.0s\n"
     ]
    },
    {
     "name": "stdout",
     "output_type": "stream",
     "text": [
      "Reduction order for nice/marker/PowerSpectralDensity/alpha: ['frequency', 'channels']\n",
      "Reduction order for nice/marker/PowerSpectralDensity/alpha: ['frequency', 'channels']\n",
      "Reduction order for nice/marker/PowerSpectralDensity/delta: ['frequency', 'channels']\n",
      "Reduction order for nice/marker/PowerSpectralDensity/delta: ['frequency', 'channels']\n",
      "Reduction order for nice/marker/PowerSpectralDensity/theta: ['frequency', 'channels']\n",
      "Reduction order for nice/marker/PowerSpectralDensity/theta: ['frequency', 'channels']\n",
      "Reduction order for nice/marker/PowerSpectralDensity/gamma: ['frequency', 'channels']\n",
      "Reduction order for nice/marker/PowerSpectralDensity/theta: ['frequency', 'channels']\n",
      "Reduction order for nice/marker/PowerSpectralDensity/beta: ['frequency', 'channels']\n",
      "Reduction order for nice/marker/PowerSpectralDensity/beta: ['frequency', 'channels']\n",
      "Running KolmogorovComplexity\n",
      "Elapsed time 0.002863168716430664 sec\n",
      "Reduction order for nice/marker/KolmogorovComplexity/default: ['channels']\n",
      "Filtering  at 10.42 Hz\n",
      "Performing symbolic transformation\n"
     ]
    },
    {
     "name": "stderr",
     "output_type": "stream",
     "text": [
      "[Parallel(n_jobs=24)]: Done  21 out of  24 | elapsed:    4.2s remaining:    0.6s\n",
      "[Parallel(n_jobs=24)]: Done  24 out of  24 | elapsed:    4.3s finished\n"
     ]
    },
    {
     "name": "stdout",
     "output_type": "stream",
     "text": [
      "Reduction order for nice/marker/PermutationEntropy/default: ['channels']\n",
      "Autodetected number of jobs 2\n",
      "Computing CSD\n",
      "Using 10-5 locations for CSD\n",
      "Using 2 jobs\n"
     ]
    },
    {
     "name": "stderr",
     "output_type": "stream",
     "text": [
      "[Parallel(n_jobs=2)]: Using backend LokyBackend with 2 concurrent workers.\n"
     ]
    },
    {
     "name": "stdout",
     "output_type": "stream",
     "text": [
      "Filtering  at 10.42 Hz\n",
      "Reduction order for nice/marker/SymbolicMutualInformation/default: ['channels_y', 'channels']\n",
      "Reduction order for nice/marker/ContingentNegativeVariation/default: ['channels']\n",
      "Reduction order for nice/marker/TimeLockedTopography/p1: ['channels', 'times']\n",
      "Reduction order for nice/marker/TimeLockedTopography/p3a: ['channels', 'times']\n",
      "Reduction order for nice/marker/TimeLockedTopography/p3a: ['channels', 'times']\n",
      "Autodetected number of jobs 24\n",
      "Effective window size : 16.384 (s)\n"
     ]
    },
    {
     "name": "stderr",
     "output_type": "stream",
     "text": [
      "[Parallel(n_jobs=2)]: Done   2 out of   2 | elapsed:    1.7s remaining:    0.0s\n",
      "[Parallel(n_jobs=2)]: Done   2 out of   2 | elapsed:    1.7s finished\n",
      "[Parallel(n_jobs=24)]: Using backend LokyBackend with 24 concurrent workers.\n",
      "[Parallel(n_jobs=24)]: Done   6 out of  24 | elapsed:    3.8s remaining:   11.5s\n",
      "[Parallel(n_jobs=24)]: Done  11 out of  24 | elapsed:    3.9s remaining:    4.6s\n",
      "[Parallel(n_jobs=24)]: Done  16 out of  24 | elapsed:    4.0s remaining:    2.0s\n",
      "[Parallel(n_jobs=24)]: Done  21 out of  24 | elapsed:    4.0s remaining:    0.6s\n"
     ]
    },
    {
     "name": "stdout",
     "output_type": "stream",
     "text": [
      "Reduction order for nice/marker/PowerSpectralDensity/alpha: ['frequency', 'channels']\n",
      "Reduction order for nice/marker/PowerSpectralDensity/alpha: ['frequency', 'channels']\n",
      "Reduction order for nice/marker/PowerSpectralDensity/delta: ['frequency', 'channels']\n",
      "Reduction order for nice/marker/PowerSpectralDensity/delta: ['frequency', 'channels']\n",
      "Reduction order for nice/marker/PowerSpectralDensity/theta: ['frequency', 'channels']\n",
      "Reduction order for nice/marker/PowerSpectralDensity/theta: ['frequency', 'channels']\n",
      "Reduction order for nice/marker/PowerSpectralDensity/gamma: ['frequency', 'channels']\n",
      "Reduction order for nice/marker/PowerSpectralDensity/theta: ['frequency', 'channels']\n",
      "Reduction order for nice/marker/PowerSpectralDensity/beta: ['frequency', 'channels']\n",
      "Reduction order for nice/marker/PowerSpectralDensity/beta: ['frequency', 'channels']\n",
      "Running KolmogorovComplexity\n",
      "Elapsed time 0.020537137985229492 sec\n",
      "Reduction order for nice/marker/KolmogorovComplexity/default: ['channels']\n",
      "Filtering  at 10.42 Hz\n",
      "Performing symbolic transformation\n"
     ]
    },
    {
     "name": "stderr",
     "output_type": "stream",
     "text": [
      "[Parallel(n_jobs=24)]: Done  24 out of  24 | elapsed:    4.1s finished\n"
     ]
    },
    {
     "name": "stdout",
     "output_type": "stream",
     "text": [
      "Reduction order for nice/marker/PermutationEntropy/default: ['channels']\n",
      "Autodetected number of jobs 2\n",
      "Computing CSD\n",
      "Using 10-5 locations for CSD\n",
      "Using 2 jobs\n"
     ]
    },
    {
     "name": "stderr",
     "output_type": "stream",
     "text": [
      "[Parallel(n_jobs=2)]: Using backend LokyBackend with 2 concurrent workers.\n"
     ]
    },
    {
     "name": "stdout",
     "output_type": "stream",
     "text": [
      "Filtering  at 10.42 Hz\n",
      "Reduction order for nice/marker/SymbolicMutualInformation/default: ['channels_y', 'channels']\n",
      "Reduction order for nice/marker/ContingentNegativeVariation/default: ['channels']\n",
      "Reduction order for nice/marker/TimeLockedTopography/p1: ['channels', 'times']\n",
      "Reduction order for nice/marker/TimeLockedTopography/p3a: ['channels', 'times']\n",
      "Reduction order for nice/marker/TimeLockedTopography/p3a: ['channels', 'times']\n",
      "Autodetected number of jobs 24\n",
      "Effective window size : 16.384 (s)\n"
     ]
    },
    {
     "name": "stderr",
     "output_type": "stream",
     "text": [
      "[Parallel(n_jobs=2)]: Done  15 out of  15 | elapsed:    1.7s finished\n",
      "[Parallel(n_jobs=24)]: Using backend LokyBackend with 24 concurrent workers.\n",
      "[Parallel(n_jobs=24)]: Done   6 out of  24 | elapsed:    3.8s remaining:   11.4s\n",
      "[Parallel(n_jobs=24)]: Done  11 out of  24 | elapsed:    3.9s remaining:    4.6s\n"
     ]
    },
    {
     "name": "stdout",
     "output_type": "stream",
     "text": [
      "Reduction order for nice/marker/PowerSpectralDensity/alpha: ['frequency', 'channels']\n",
      "Reduction order for nice/marker/PowerSpectralDensity/alpha: ['frequency', 'channels']\n",
      "Reduction order for nice/marker/PowerSpectralDensity/delta: ['frequency', 'channels']\n",
      "Reduction order for nice/marker/PowerSpectralDensity/delta: ['frequency', 'channels']\n",
      "Reduction order for nice/marker/PowerSpectralDensity/theta: ['frequency', 'channels']\n",
      "Reduction order for nice/marker/PowerSpectralDensity/theta: ['frequency', 'channels']\n",
      "Reduction order for nice/marker/PowerSpectralDensity/gamma: ['frequency', 'channels']\n",
      "Reduction order for nice/marker/PowerSpectralDensity/theta: ['frequency', 'channels']\n",
      "Reduction order for nice/marker/PowerSpectralDensity/beta: ['frequency', 'channels']\n",
      "Reduction order for nice/marker/PowerSpectralDensity/beta: ['frequency', 'channels']\n",
      "Running KolmogorovComplexity\n",
      "Elapsed time 0.03827548027038574 sec\n"
     ]
    },
    {
     "name": "stderr",
     "output_type": "stream",
     "text": [
      "[Parallel(n_jobs=24)]: Done  16 out of  24 | elapsed:    4.1s remaining:    2.0s\n",
      "[Parallel(n_jobs=24)]: Done  21 out of  24 | elapsed:    4.1s remaining:    0.6s\n",
      "[Parallel(n_jobs=24)]: Done  24 out of  24 | elapsed:    4.2s finished\n"
     ]
    },
    {
     "name": "stdout",
     "output_type": "stream",
     "text": [
      "Reduction order for nice/marker/KolmogorovComplexity/default: ['channels']\n",
      "Filtering  at 10.42 Hz\n",
      "Performing symbolic transformation\n",
      "Reduction order for nice/marker/PermutationEntropy/default: ['channels']\n",
      "Autodetected number of jobs 2\n",
      "Computing CSD\n",
      "Using 10-5 locations for CSD\n",
      "Using 2 jobs\n"
     ]
    },
    {
     "name": "stderr",
     "output_type": "stream",
     "text": [
      "[Parallel(n_jobs=2)]: Using backend LokyBackend with 2 concurrent workers.\n"
     ]
    },
    {
     "name": "stdout",
     "output_type": "stream",
     "text": [
      "Filtering  at 10.42 Hz\n",
      "Reduction order for nice/marker/SymbolicMutualInformation/default: ['channels_y', 'channels']\n"
     ]
    },
    {
     "name": "stderr",
     "output_type": "stream",
     "text": [
      "[Parallel(n_jobs=2)]: Done  20 tasks      | elapsed:    1.7s\n",
      "[Parallel(n_jobs=2)]: Done  28 out of  28 | elapsed:    1.7s finished\n"
     ]
    },
    {
     "name": "stdout",
     "output_type": "stream",
     "text": [
      "Reduction order for nice/marker/ContingentNegativeVariation/default: ['channels']\n",
      "Reduction order for nice/marker/TimeLockedTopography/p1: ['channels', 'times']\n",
      "Reduction order for nice/marker/TimeLockedTopography/p3a: ['channels', 'times']\n",
      "Reduction order for nice/marker/TimeLockedTopography/p3a: ['channels', 'times']\n",
      "Autodetected number of jobs 24\n",
      "Effective window size : 16.384 (s)\n"
     ]
    },
    {
     "name": "stderr",
     "output_type": "stream",
     "text": [
      "[Parallel(n_jobs=24)]: Using backend LokyBackend with 24 concurrent workers.\n",
      "[Parallel(n_jobs=24)]: Done   6 out of  24 | elapsed:    3.8s remaining:   11.3s\n",
      "[Parallel(n_jobs=24)]: Done  11 out of  24 | elapsed:    3.8s remaining:    4.5s\n",
      "[Parallel(n_jobs=24)]: Done  16 out of  24 | elapsed:    3.9s remaining:    1.9s\n"
     ]
    },
    {
     "name": "stdout",
     "output_type": "stream",
     "text": [
      "Reduction order for nice/marker/PowerSpectralDensity/alpha: ['frequency', 'channels']\n",
      "Reduction order for nice/marker/PowerSpectralDensity/alpha: ['frequency', 'channels']\n",
      "Reduction order for nice/marker/PowerSpectralDensity/delta: ['frequency', 'channels']\n",
      "Reduction order for nice/marker/PowerSpectralDensity/delta: ['frequency', 'channels']\n",
      "Reduction order for nice/marker/PowerSpectralDensity/theta: ['frequency', 'channels']\n",
      "Reduction order for nice/marker/PowerSpectralDensity/theta: ['frequency', 'channels']\n",
      "Reduction order for nice/marker/PowerSpectralDensity/gamma: ['frequency', 'channels']\n",
      "Reduction order for nice/marker/PowerSpectralDensity/theta: ['frequency', 'channels']\n",
      "Reduction order for nice/marker/PowerSpectralDensity/beta: ['frequency', 'channels']\n",
      "Reduction order for nice/marker/PowerSpectralDensity/beta: ['frequency', 'channels']\n",
      "Running KolmogorovComplexity\n",
      "Elapsed time 0.03780508041381836 sec\n",
      "Reduction order for nice/marker/KolmogorovComplexity/default: ['channels']\n",
      "Filtering  at 10.42 Hz\n",
      "Performing symbolic transformation\n"
     ]
    },
    {
     "name": "stderr",
     "output_type": "stream",
     "text": [
      "[Parallel(n_jobs=24)]: Done  21 out of  24 | elapsed:    4.0s remaining:    0.6s\n",
      "[Parallel(n_jobs=24)]: Done  24 out of  24 | elapsed:    4.0s finished\n"
     ]
    },
    {
     "name": "stdout",
     "output_type": "stream",
     "text": [
      "Reduction order for nice/marker/PermutationEntropy/default: ['channels']\n",
      "Autodetected number of jobs 2\n",
      "Computing CSD\n",
      "Using 10-5 locations for CSD\n",
      "Using 2 jobs\n"
     ]
    },
    {
     "name": "stderr",
     "output_type": "stream",
     "text": [
      "/home/nicolas.bruno/anaconda3/lib/python3.7/site-packages/nice-0.1.dev0-py3.7.egg/nice/algorithms/information_theory/permutation_entropy.py:75: RuntimeWarning: divide by zero encountered in log\n",
      "  pe = np.nan_to_num(-np.nansum(count * np.log(count), axis=1))\n",
      "/home/nicolas.bruno/anaconda3/lib/python3.7/site-packages/nice-0.1.dev0-py3.7.egg/nice/algorithms/information_theory/permutation_entropy.py:75: RuntimeWarning: invalid value encountered in multiply\n",
      "  pe = np.nan_to_num(-np.nansum(count * np.log(count), axis=1))\n",
      "[Parallel(n_jobs=2)]: Using backend LokyBackend with 2 concurrent workers.\n"
     ]
    },
    {
     "name": "stdout",
     "output_type": "stream",
     "text": [
      "Filtering  at 10.42 Hz\n",
      "Reduction order for nice/marker/SymbolicMutualInformation/default: ['channels_y', 'channels']\n"
     ]
    },
    {
     "name": "stderr",
     "output_type": "stream",
     "text": [
      "[Parallel(n_jobs=2)]: Done  24 tasks      | elapsed:    1.7s\n",
      "[Parallel(n_jobs=2)]: Done  28 out of  28 | elapsed:    1.7s finished\n"
     ]
    },
    {
     "name": "stdout",
     "output_type": "stream",
     "text": [
      "Reduction order for nice/marker/ContingentNegativeVariation/default: ['channels']\n",
      "Reduction order for nice/marker/TimeLockedTopography/p1: ['channels', 'times']\n",
      "Reduction order for nice/marker/TimeLockedTopography/p3a: ['channels', 'times']\n",
      "Reduction order for nice/marker/TimeLockedTopography/p3a: ['channels', 'times']\n",
      "Autodetected number of jobs 24\n",
      "Effective window size : 16.384 (s)\n"
     ]
    },
    {
     "name": "stderr",
     "output_type": "stream",
     "text": [
      "[Parallel(n_jobs=24)]: Using backend LokyBackend with 24 concurrent workers.\n",
      "[Parallel(n_jobs=24)]: Done   6 out of  24 | elapsed:    3.7s remaining:   11.2s\n",
      "[Parallel(n_jobs=24)]: Done  11 out of  24 | elapsed:    3.8s remaining:    4.5s\n",
      "[Parallel(n_jobs=24)]: Done  16 out of  24 | elapsed:    3.8s remaining:    1.9s\n",
      "[Parallel(n_jobs=24)]: Done  21 out of  24 | elapsed:    3.9s remaining:    0.6s\n"
     ]
    },
    {
     "name": "stdout",
     "output_type": "stream",
     "text": [
      "Reduction order for nice/marker/PowerSpectralDensity/alpha: ['frequency', 'channels']\n",
      "Reduction order for nice/marker/PowerSpectralDensity/alpha: ['frequency', 'channels']\n",
      "Reduction order for nice/marker/PowerSpectralDensity/delta: ['frequency', 'channels']\n",
      "Reduction order for nice/marker/PowerSpectralDensity/delta: ['frequency', 'channels']\n",
      "Reduction order for nice/marker/PowerSpectralDensity/theta: ['frequency', 'channels']\n",
      "Reduction order for nice/marker/PowerSpectralDensity/theta: ['frequency', 'channels']\n",
      "Reduction order for nice/marker/PowerSpectralDensity/gamma: ['frequency', 'channels']\n",
      "Reduction order for nice/marker/PowerSpectralDensity/theta: ['frequency', 'channels']\n",
      "Reduction order for nice/marker/PowerSpectralDensity/beta: ['frequency', 'channels']\n",
      "Reduction order for nice/marker/PowerSpectralDensity/beta: ['frequency', 'channels']\n",
      "Running KolmogorovComplexity\n",
      "Elapsed time 0.0013878345489501953 sec\n",
      "Reduction order for nice/marker/KolmogorovComplexity/default: ['channels']\n",
      "Filtering  at 10.42 Hz\n",
      "Performing symbolic transformation\n",
      "Reduction order for nice/marker/PermutationEntropy/default: ['channels']\n",
      "Autodetected number of jobs 2\n",
      "Computing CSD\n",
      "Using 10-5 locations for CSD\n"
     ]
    },
    {
     "name": "stderr",
     "output_type": "stream",
     "text": [
      "[Parallel(n_jobs=24)]: Done  24 out of  24 | elapsed:    4.0s finished\n"
     ]
    },
    {
     "name": "stdout",
     "output_type": "stream",
     "text": [
      "Using 1 jobs\n",
      "Filtering  at 10.42 Hz\n",
      "Reduction order for nice/marker/SymbolicMutualInformation/default: ['channels_y', 'channels']\n",
      "Reduction order for nice/marker/ContingentNegativeVariation/default: ['channels']\n",
      "Reduction order for nice/marker/TimeLockedTopography/p1: ['channels', 'times']\n",
      "Reduction order for nice/marker/TimeLockedTopography/p3a: ['channels', 'times']\n",
      "Reduction order for nice/marker/TimeLockedTopography/p3a: ['channels', 'times']\n",
      "Autodetected number of jobs 24\n",
      "Effective window size : 16.384 (s)\n",
      "Reduction order for nice/marker/PowerSpectralDensity/alpha: ['frequency', 'channels']\n",
      "Reduction order for nice/marker/PowerSpectralDensity/alpha: ['frequency', 'channels']\n",
      "Reduction order for nice/marker/PowerSpectralDensity/delta: ['frequency', 'channels']\n",
      "Reduction order for nice/marker/PowerSpectralDensity/delta: ['frequency', 'channels']\n",
      "Reduction order for nice/marker/PowerSpectralDensity/theta: ['frequency', 'channels']\n",
      "Reduction order for nice/marker/PowerSpectralDensity/theta: ['frequency', 'channels']\n",
      "Reduction order for nice/marker/PowerSpectralDensity/gamma: ['frequency', 'channels']\n",
      "Reduction order for nice/marker/PowerSpectralDensity/theta: ['frequency', 'channels']\n",
      "Reduction order for nice/marker/PowerSpectralDensity/beta: ['frequency', 'channels']\n",
      "Reduction order for nice/marker/PowerSpectralDensity/beta: ['frequency', 'channels']\n",
      "Running KolmogorovComplexity\n",
      "Elapsed time 0.023447036743164062 sec\n",
      "Reduction order for nice/marker/KolmogorovComplexity/default: ['channels']\n",
      "Filtering  at 10.42 Hz\n",
      "Performing symbolic transformation\n"
     ]
    },
    {
     "name": "stderr",
     "output_type": "stream",
     "text": [
      "[Parallel(n_jobs=24)]: Using backend LokyBackend with 24 concurrent workers.\n",
      "[Parallel(n_jobs=24)]: Done   6 out of  24 | elapsed:    0.1s remaining:    0.2s\n",
      "[Parallel(n_jobs=24)]: Done  11 out of  24 | elapsed:    0.1s remaining:    0.1s\n",
      "[Parallel(n_jobs=24)]: Done  16 out of  24 | elapsed:    0.1s remaining:    0.0s\n",
      "[Parallel(n_jobs=24)]: Done  21 out of  24 | elapsed:    0.1s remaining:    0.0s\n",
      "[Parallel(n_jobs=24)]: Done  24 out of  24 | elapsed:    0.1s finished\n"
     ]
    },
    {
     "name": "stdout",
     "output_type": "stream",
     "text": [
      "Reduction order for nice/marker/PermutationEntropy/default: ['channels']\n",
      "Autodetected number of jobs 2\n",
      "Computing CSD\n",
      "Using 10-5 locations for CSD\n",
      "Using 2 jobs\n"
     ]
    },
    {
     "name": "stderr",
     "output_type": "stream",
     "text": [
      "[Parallel(n_jobs=2)]: Using backend LokyBackend with 2 concurrent workers.\n"
     ]
    },
    {
     "name": "stdout",
     "output_type": "stream",
     "text": [
      "Filtering  at 10.42 Hz\n",
      "Reduction order for nice/marker/SymbolicMutualInformation/default: ['channels_y', 'channels']\n",
      "Reduction order for nice/marker/ContingentNegativeVariation/default: ['channels']\n",
      "Reduction order for nice/marker/TimeLockedTopography/p1: ['channels', 'times']\n",
      "Reduction order for nice/marker/TimeLockedTopography/p3a: ['channels', 'times']\n",
      "Reduction order for nice/marker/TimeLockedTopography/p3a: ['channels', 'times']\n",
      "\n",
      "#########################################\n",
      "Computing markers for participant VP26\n",
      "#########################################\n",
      "\n",
      "Reading /media/nicolas.bruno/63f8a366-34b7-4896-a7ce-b5fb4ee78535/Nico/MW_eeg_data/minmarker/VP26/VP26_evoked_ar_subtracted_epo.fif ...\n",
      "    Found the data of interest:\n",
      "        t =    -200.00 ...     600.00 ms\n",
      "        0 CTF compensation matrices available\n"
     ]
    },
    {
     "name": "stderr",
     "output_type": "stream",
     "text": [
      "[Parallel(n_jobs=2)]: Done  15 out of  15 | elapsed:    1.7s finished\n"
     ]
    },
    {
     "name": "stdout",
     "output_type": "stream",
     "text": [
      "Not setting metadata\n",
      "Not setting metadata\n",
      "413 matching events found\n",
      "No baseline correction applied\n",
      "0 projection items activated\n",
      "Reading /media/nicolas.bruno/63f8a366-34b7-4896-a7ce-b5fb4ee78535/Nico/MW_eeg_data/minmarker/VP26/VP26_evoked_ar_rereferenced_epo.fif ...\n",
      "    Found the data of interest:\n",
      "        t =    -200.00 ...     600.00 ms\n",
      "        0 CTF compensation matrices available\n",
      "Not setting metadata\n",
      "Not setting metadata\n",
      "413 matching events found\n",
      "No baseline correction applied\n",
      "0 projection items activated\n",
      "Autodetected number of jobs 24\n",
      "Effective window size : 16.384 (s)\n"
     ]
    },
    {
     "name": "stderr",
     "output_type": "stream",
     "text": [
      "[Parallel(n_jobs=24)]: Using backend LokyBackend with 24 concurrent workers.\n",
      "[Parallel(n_jobs=24)]: Done   6 out of  24 | elapsed:    4.0s remaining:   11.9s\n",
      "[Parallel(n_jobs=24)]: Done  11 out of  24 | elapsed:    4.0s remaining:    4.8s\n",
      "[Parallel(n_jobs=24)]: Done  16 out of  24 | elapsed:    4.2s remaining:    2.1s\n",
      "[Parallel(n_jobs=24)]: Done  21 out of  24 | elapsed:    4.3s remaining:    0.6s\n"
     ]
    },
    {
     "name": "stdout",
     "output_type": "stream",
     "text": [
      "Reduction order for nice/marker/PowerSpectralDensity/alpha: ['frequency', 'channels']\n",
      "Reduction order for nice/marker/PowerSpectralDensity/alpha: ['frequency', 'channels']\n",
      "Reduction order for nice/marker/PowerSpectralDensity/delta: ['frequency', 'channels']\n",
      "Reduction order for nice/marker/PowerSpectralDensity/delta: ['frequency', 'channels']\n",
      "Reduction order for nice/marker/PowerSpectralDensity/theta: ['frequency', 'channels']\n",
      "Reduction order for nice/marker/PowerSpectralDensity/theta: ['frequency', 'channels']\n",
      "Reduction order for nice/marker/PowerSpectralDensity/gamma: ['frequency', 'channels']\n",
      "Reduction order for nice/marker/PowerSpectralDensity/theta: ['frequency', 'channels']\n",
      "Reduction order for nice/marker/PowerSpectralDensity/beta: ['frequency', 'channels']\n",
      "Reduction order for nice/marker/PowerSpectralDensity/beta: ['frequency', 'channels']\n",
      "Running KolmogorovComplexity\n",
      "Elapsed time 0.08946490287780762 sec\n",
      "Reduction order for nice/marker/KolmogorovComplexity/default: ['channels']\n",
      "Filtering  at 10.42 Hz\n",
      "Performing symbolic transformation\n"
     ]
    },
    {
     "name": "stderr",
     "output_type": "stream",
     "text": [
      "[Parallel(n_jobs=24)]: Done  24 out of  24 | elapsed:    4.6s finished\n"
     ]
    },
    {
     "name": "stdout",
     "output_type": "stream",
     "text": [
      "Reduction order for nice/marker/PermutationEntropy/default: ['channels']\n",
      "Autodetected number of jobs 2\n",
      "Computing CSD\n",
      "Using 10-5 locations for CSD\n",
      "Using 2 jobs\n"
     ]
    },
    {
     "name": "stderr",
     "output_type": "stream",
     "text": [
      "[Parallel(n_jobs=2)]: Using backend LokyBackend with 2 concurrent workers.\n"
     ]
    },
    {
     "name": "stdout",
     "output_type": "stream",
     "text": [
      "Filtering  at 10.42 Hz\n"
     ]
    },
    {
     "name": "stderr",
     "output_type": "stream",
     "text": [
      "[Parallel(n_jobs=2)]: Done  16 tasks      | elapsed:    1.7s\n",
      "[Parallel(n_jobs=2)]: Done  63 out of  63 | elapsed:    1.8s finished\n"
     ]
    },
    {
     "name": "stdout",
     "output_type": "stream",
     "text": [
      "Reduction order for nice/marker/SymbolicMutualInformation/default: ['channels_y', 'channels']\n",
      "Reduction order for nice/marker/ContingentNegativeVariation/default: ['channels']\n",
      "Reduction order for nice/marker/TimeLockedTopography/p1: ['channels', 'times']\n",
      "Reduction order for nice/marker/TimeLockedTopography/p3a: ['channels', 'times']\n",
      "Reduction order for nice/marker/TimeLockedTopography/p3a: ['channels', 'times']\n",
      "Autodetected number of jobs 24\n",
      "Effective window size : 16.384 (s)\n"
     ]
    },
    {
     "name": "stderr",
     "output_type": "stream",
     "text": [
      "[Parallel(n_jobs=24)]: Using backend LokyBackend with 24 concurrent workers.\n",
      "[Parallel(n_jobs=24)]: Done   6 out of  24 | elapsed:    3.8s remaining:   11.5s\n",
      "[Parallel(n_jobs=24)]: Done  11 out of  24 | elapsed:    3.9s remaining:    4.6s\n",
      "[Parallel(n_jobs=24)]: Done  16 out of  24 | elapsed:    4.0s remaining:    2.0s\n"
     ]
    },
    {
     "name": "stdout",
     "output_type": "stream",
     "text": [
      "Reduction order for nice/marker/PowerSpectralDensity/alpha: ['frequency', 'channels']\n",
      "Reduction order for nice/marker/PowerSpectralDensity/alpha: ['frequency', 'channels']\n",
      "Reduction order for nice/marker/PowerSpectralDensity/delta: ['frequency', 'channels']\n",
      "Reduction order for nice/marker/PowerSpectralDensity/delta: ['frequency', 'channels']\n",
      "Reduction order for nice/marker/PowerSpectralDensity/theta: ['frequency', 'channels']\n",
      "Reduction order for nice/marker/PowerSpectralDensity/theta: ['frequency', 'channels']\n",
      "Reduction order for nice/marker/PowerSpectralDensity/gamma: ['frequency', 'channels']\n",
      "Reduction order for nice/marker/PowerSpectralDensity/theta: ['frequency', 'channels']\n",
      "Reduction order for nice/marker/PowerSpectralDensity/beta: ['frequency', 'channels']\n",
      "Reduction order for nice/marker/PowerSpectralDensity/beta: ['frequency', 'channels']\n",
      "Running KolmogorovComplexity\n",
      "Elapsed time 0.06014728546142578 sec\n"
     ]
    },
    {
     "name": "stderr",
     "output_type": "stream",
     "text": [
      "[Parallel(n_jobs=24)]: Done  21 out of  24 | elapsed:    4.0s remaining:    0.6s\n",
      "[Parallel(n_jobs=24)]: Done  24 out of  24 | elapsed:    4.1s finished\n"
     ]
    },
    {
     "name": "stdout",
     "output_type": "stream",
     "text": [
      "Reduction order for nice/marker/KolmogorovComplexity/default: ['channels']\n",
      "Filtering  at 10.42 Hz\n",
      "Performing symbolic transformation\n",
      "Reduction order for nice/marker/PermutationEntropy/default: ['channels']\n",
      "Autodetected number of jobs 2\n",
      "Computing CSD\n",
      "Using 10-5 locations for CSD\n",
      "Using 2 jobs\n"
     ]
    },
    {
     "name": "stderr",
     "output_type": "stream",
     "text": [
      "[Parallel(n_jobs=2)]: Using backend LokyBackend with 2 concurrent workers.\n"
     ]
    },
    {
     "name": "stdout",
     "output_type": "stream",
     "text": [
      "Filtering  at 10.42 Hz\n"
     ]
    },
    {
     "name": "stderr",
     "output_type": "stream",
     "text": [
      "[Parallel(n_jobs=2)]: Done  18 tasks      | elapsed:    1.7s\n",
      "[Parallel(n_jobs=2)]: Done  38 out of  38 | elapsed:    1.7s finished\n"
     ]
    },
    {
     "name": "stdout",
     "output_type": "stream",
     "text": [
      "Reduction order for nice/marker/SymbolicMutualInformation/default: ['channels_y', 'channels']\n",
      "Reduction order for nice/marker/ContingentNegativeVariation/default: ['channels']\n",
      "Reduction order for nice/marker/TimeLockedTopography/p1: ['channels', 'times']\n",
      "Reduction order for nice/marker/TimeLockedTopography/p3a: ['channels', 'times']\n",
      "Reduction order for nice/marker/TimeLockedTopography/p3a: ['channels', 'times']\n",
      "Autodetected number of jobs 24\n",
      "Effective window size : 16.384 (s)\n"
     ]
    },
    {
     "name": "stderr",
     "output_type": "stream",
     "text": [
      "[Parallel(n_jobs=24)]: Using backend LokyBackend with 24 concurrent workers.\n"
     ]
    },
    {
     "name": "stdout",
     "output_type": "stream",
     "text": [
      "Reduction order for nice/marker/PowerSpectralDensity/alpha: ['frequency', 'channels']\n",
      "Reduction order for nice/marker/PowerSpectralDensity/alpha: ['frequency', 'channels']\n"
     ]
    },
    {
     "name": "stderr",
     "output_type": "stream",
     "text": [
      "[Parallel(n_jobs=24)]: Done   6 out of  24 | elapsed:    3.7s remaining:   11.1s\n",
      "[Parallel(n_jobs=24)]: Done  11 out of  24 | elapsed:    3.7s remaining:    4.4s\n",
      "[Parallel(n_jobs=24)]: Done  16 out of  24 | elapsed:    3.8s remaining:    1.9s\n",
      "[Parallel(n_jobs=24)]: Done  21 out of  24 | elapsed:    3.9s remaining:    0.6s\n",
      "[Parallel(n_jobs=24)]: Done  24 out of  24 | elapsed:    3.9s finished\n"
     ]
    },
    {
     "name": "stdout",
     "output_type": "stream",
     "text": [
      "Reduction order for nice/marker/PowerSpectralDensity/delta: ['frequency', 'channels']\n",
      "Reduction order for nice/marker/PowerSpectralDensity/delta: ['frequency', 'channels']\n",
      "Reduction order for nice/marker/PowerSpectralDensity/theta: ['frequency', 'channels']\n",
      "Reduction order for nice/marker/PowerSpectralDensity/theta: ['frequency', 'channels']\n",
      "Reduction order for nice/marker/PowerSpectralDensity/gamma: ['frequency', 'channels']\n",
      "Reduction order for nice/marker/PowerSpectralDensity/theta: ['frequency', 'channels']\n",
      "Reduction order for nice/marker/PowerSpectralDensity/beta: ['frequency', 'channels']\n",
      "Reduction order for nice/marker/PowerSpectralDensity/beta: ['frequency', 'channels']\n",
      "Running KolmogorovComplexity\n",
      "Elapsed time 0.011826515197753906 sec\n",
      "Reduction order for nice/marker/KolmogorovComplexity/default: ['channels']\n",
      "Filtering  at 10.42 Hz\n",
      "Performing symbolic transformation\n",
      "Reduction order for nice/marker/PermutationEntropy/default: ['channels']\n",
      "Autodetected number of jobs 2\n",
      "Computing CSD\n",
      "Using 10-5 locations for CSD\n",
      "Using 2 jobs\n"
     ]
    },
    {
     "name": "stderr",
     "output_type": "stream",
     "text": [
      "[Parallel(n_jobs=2)]: Using backend LokyBackend with 2 concurrent workers.\n"
     ]
    },
    {
     "name": "stdout",
     "output_type": "stream",
     "text": [
      "Filtering  at 10.42 Hz\n",
      "Reduction order for nice/marker/SymbolicMutualInformation/default: ['channels_y', 'channels']\n",
      "Reduction order for nice/marker/ContingentNegativeVariation/default: ['channels']\n",
      "Reduction order for nice/marker/TimeLockedTopography/p1: ['channels', 'times']\n",
      "Reduction order for nice/marker/TimeLockedTopography/p3a: ['channels', 'times']\n",
      "Reduction order for nice/marker/TimeLockedTopography/p3a: ['channels', 'times']\n",
      "Autodetected number of jobs 24\n",
      "Effective window size : 16.384 (s)\n"
     ]
    },
    {
     "name": "stderr",
     "output_type": "stream",
     "text": [
      "[Parallel(n_jobs=2)]: Done   8 out of   8 | elapsed:    1.7s finished\n",
      "[Parallel(n_jobs=24)]: Using backend LokyBackend with 24 concurrent workers.\n",
      "[Parallel(n_jobs=24)]: Done   6 out of  24 | elapsed:    3.8s remaining:   11.5s\n",
      "[Parallel(n_jobs=24)]: Done  11 out of  24 | elapsed:    3.9s remaining:    4.6s\n",
      "[Parallel(n_jobs=24)]: Done  16 out of  24 | elapsed:    4.0s remaining:    2.0s\n"
     ]
    },
    {
     "name": "stdout",
     "output_type": "stream",
     "text": [
      "Reduction order for nice/marker/PowerSpectralDensity/alpha: ['frequency', 'channels']\n",
      "Reduction order for nice/marker/PowerSpectralDensity/alpha: ['frequency', 'channels']\n",
      "Reduction order for nice/marker/PowerSpectralDensity/delta: ['frequency', 'channels']\n",
      "Reduction order for nice/marker/PowerSpectralDensity/delta: ['frequency', 'channels']\n",
      "Reduction order for nice/marker/PowerSpectralDensity/theta: ['frequency', 'channels']\n",
      "Reduction order for nice/marker/PowerSpectralDensity/theta: ['frequency', 'channels']\n",
      "Reduction order for nice/marker/PowerSpectralDensity/gamma: ['frequency', 'channels']\n",
      "Reduction order for nice/marker/PowerSpectralDensity/theta: ['frequency', 'channels']\n",
      "Reduction order for nice/marker/PowerSpectralDensity/beta: ['frequency', 'channels']\n",
      "Reduction order for nice/marker/PowerSpectralDensity/beta: ['frequency', 'channels']\n",
      "Running KolmogorovComplexity\n",
      "Elapsed time 0.003697633743286133 sec\n",
      "Reduction order for nice/marker/KolmogorovComplexity/default: ['channels']\n",
      "Filtering  at 10.42 Hz\n",
      "Performing symbolic transformation\n"
     ]
    },
    {
     "name": "stderr",
     "output_type": "stream",
     "text": [
      "[Parallel(n_jobs=24)]: Done  21 out of  24 | elapsed:    4.0s remaining:    0.6s\n",
      "[Parallel(n_jobs=24)]: Done  24 out of  24 | elapsed:    4.1s finished\n"
     ]
    },
    {
     "name": "stdout",
     "output_type": "stream",
     "text": [
      "Reduction order for nice/marker/PermutationEntropy/default: ['channels']\n",
      "Autodetected number of jobs 2\n",
      "Computing CSD\n",
      "Using 10-5 locations for CSD\n",
      "Using 2 jobs\n"
     ]
    },
    {
     "name": "stderr",
     "output_type": "stream",
     "text": [
      "[Parallel(n_jobs=2)]: Using backend LokyBackend with 2 concurrent workers.\n"
     ]
    },
    {
     "name": "stdout",
     "output_type": "stream",
     "text": [
      "Filtering  at 10.42 Hz\n",
      "Reduction order for nice/marker/SymbolicMutualInformation/default: ['channels_y', 'channels']\n",
      "Reduction order for nice/marker/ContingentNegativeVariation/default: ['channels']\n",
      "Reduction order for nice/marker/TimeLockedTopography/p1: ['channels', 'times']\n",
      "Reduction order for nice/marker/TimeLockedTopography/p3a: ['channels', 'times']\n",
      "Reduction order for nice/marker/TimeLockedTopography/p3a: ['channels', 'times']\n",
      "Autodetected number of jobs 24\n",
      "Effective window size : 16.384 (s)\n"
     ]
    },
    {
     "name": "stderr",
     "output_type": "stream",
     "text": [
      "[Parallel(n_jobs=2)]: Done   2 out of   2 | elapsed:    1.6s remaining:    0.0s\n",
      "[Parallel(n_jobs=2)]: Done   2 out of   2 | elapsed:    1.6s finished\n",
      "[Parallel(n_jobs=24)]: Using backend LokyBackend with 24 concurrent workers.\n",
      "[Parallel(n_jobs=24)]: Done   6 out of  24 | elapsed:    3.9s remaining:   11.6s\n",
      "[Parallel(n_jobs=24)]: Done  11 out of  24 | elapsed:    4.0s remaining:    4.7s\n",
      "[Parallel(n_jobs=24)]: Done  16 out of  24 | elapsed:    4.1s remaining:    2.0s\n",
      "[Parallel(n_jobs=24)]: Done  21 out of  24 | elapsed:    4.2s remaining:    0.6s\n"
     ]
    },
    {
     "name": "stdout",
     "output_type": "stream",
     "text": [
      "Reduction order for nice/marker/PowerSpectralDensity/alpha: ['frequency', 'channels']\n",
      "Reduction order for nice/marker/PowerSpectralDensity/alpha: ['frequency', 'channels']\n",
      "Reduction order for nice/marker/PowerSpectralDensity/delta: ['frequency', 'channels']\n",
      "Reduction order for nice/marker/PowerSpectralDensity/delta: ['frequency', 'channels']\n",
      "Reduction order for nice/marker/PowerSpectralDensity/theta: ['frequency', 'channels']\n",
      "Reduction order for nice/marker/PowerSpectralDensity/theta: ['frequency', 'channels']\n",
      "Reduction order for nice/marker/PowerSpectralDensity/gamma: ['frequency', 'channels']\n",
      "Reduction order for nice/marker/PowerSpectralDensity/theta: ['frequency', 'channels']\n",
      "Reduction order for nice/marker/PowerSpectralDensity/beta: ['frequency', 'channels']\n",
      "Reduction order for nice/marker/PowerSpectralDensity/beta: ['frequency', 'channels']\n",
      "Running KolmogorovComplexity\n",
      "Elapsed time 0.022272586822509766 sec\n",
      "Reduction order for nice/marker/KolmogorovComplexity/default: ['channels']\n",
      "Filtering  at 10.42 Hz\n",
      "Performing symbolic transformation\n"
     ]
    },
    {
     "name": "stderr",
     "output_type": "stream",
     "text": [
      "[Parallel(n_jobs=24)]: Done  24 out of  24 | elapsed:    4.3s finished\n"
     ]
    },
    {
     "name": "stdout",
     "output_type": "stream",
     "text": [
      "Reduction order for nice/marker/PermutationEntropy/default: ['channels']\n",
      "Autodetected number of jobs 2\n",
      "Computing CSD\n",
      "Using 10-5 locations for CSD\n",
      "Using 2 jobs\n"
     ]
    },
    {
     "name": "stderr",
     "output_type": "stream",
     "text": [
      "[Parallel(n_jobs=2)]: Using backend LokyBackend with 2 concurrent workers.\n"
     ]
    },
    {
     "name": "stdout",
     "output_type": "stream",
     "text": [
      "Filtering  at 10.42 Hz\n",
      "Reduction order for nice/marker/SymbolicMutualInformation/default: ['channels_y', 'channels']\n",
      "Reduction order for nice/marker/ContingentNegativeVariation/default: ['channels']\n",
      "Reduction order for nice/marker/TimeLockedTopography/p1: ['channels', 'times']\n",
      "Reduction order for nice/marker/TimeLockedTopography/p3a: ['channels', 'times']\n",
      "Reduction order for nice/marker/TimeLockedTopography/p3a: ['channels', 'times']\n",
      "Autodetected number of jobs 24\n",
      "Effective window size : 16.384 (s)\n"
     ]
    },
    {
     "name": "stderr",
     "output_type": "stream",
     "text": [
      "[Parallel(n_jobs=2)]: Done  15 out of  15 | elapsed:    1.7s finished\n",
      "[Parallel(n_jobs=24)]: Using backend LokyBackend with 24 concurrent workers.\n",
      "[Parallel(n_jobs=24)]: Done   6 out of  24 | elapsed:    4.0s remaining:   12.0s\n",
      "[Parallel(n_jobs=24)]: Done  11 out of  24 | elapsed:    4.0s remaining:    4.8s\n",
      "[Parallel(n_jobs=24)]: Done  16 out of  24 | elapsed:    4.1s remaining:    2.1s\n",
      "[Parallel(n_jobs=24)]: Done  21 out of  24 | elapsed:    4.1s remaining:    0.6s\n"
     ]
    },
    {
     "name": "stdout",
     "output_type": "stream",
     "text": [
      "Reduction order for nice/marker/PowerSpectralDensity/alpha: ['frequency', 'channels']\n",
      "Reduction order for nice/marker/PowerSpectralDensity/alpha: ['frequency', 'channels']\n",
      "Reduction order for nice/marker/PowerSpectralDensity/delta: ['frequency', 'channels']\n",
      "Reduction order for nice/marker/PowerSpectralDensity/delta: ['frequency', 'channels']\n",
      "Reduction order for nice/marker/PowerSpectralDensity/theta: ['frequency', 'channels']\n",
      "Reduction order for nice/marker/PowerSpectralDensity/theta: ['frequency', 'channels']\n",
      "Reduction order for nice/marker/PowerSpectralDensity/gamma: ['frequency', 'channels']\n",
      "Reduction order for nice/marker/PowerSpectralDensity/theta: ['frequency', 'channels']\n",
      "Reduction order for nice/marker/PowerSpectralDensity/beta: ['frequency', 'channels']\n",
      "Reduction order for nice/marker/PowerSpectralDensity/beta: ['frequency', 'channels']\n",
      "Running KolmogorovComplexity\n",
      "Elapsed time 0.13884925842285156 sec\n"
     ]
    },
    {
     "name": "stderr",
     "output_type": "stream",
     "text": [
      "[Parallel(n_jobs=24)]: Done  24 out of  24 | elapsed:    4.2s finished\n"
     ]
    },
    {
     "name": "stdout",
     "output_type": "stream",
     "text": [
      "Reduction order for nice/marker/KolmogorovComplexity/default: ['channels']\n",
      "Filtering  at 10.42 Hz\n",
      "Performing symbolic transformation\n",
      "Reduction order for nice/marker/PermutationEntropy/default: ['channels']\n",
      "Autodetected number of jobs 2\n",
      "Computing CSD\n",
      "Using 10-5 locations for CSD\n",
      "Using 2 jobs\n"
     ]
    },
    {
     "name": "stderr",
     "output_type": "stream",
     "text": [
      "[Parallel(n_jobs=2)]: Using backend LokyBackend with 2 concurrent workers.\n"
     ]
    },
    {
     "name": "stdout",
     "output_type": "stream",
     "text": [
      "Filtering  at 10.42 Hz\n"
     ]
    },
    {
     "name": "stderr",
     "output_type": "stream",
     "text": [
      "[Parallel(n_jobs=2)]: Done  18 tasks      | elapsed:    1.7s\n",
      "[Parallel(n_jobs=2)]: Done  98 out of  98 | elapsed:    1.9s finished\n"
     ]
    },
    {
     "name": "stdout",
     "output_type": "stream",
     "text": [
      "Reduction order for nice/marker/SymbolicMutualInformation/default: ['channels_y', 'channels']\n",
      "Reduction order for nice/marker/ContingentNegativeVariation/default: ['channels']\n",
      "Reduction order for nice/marker/TimeLockedTopography/p1: ['channels', 'times']\n",
      "Reduction order for nice/marker/TimeLockedTopography/p3a: ['channels', 'times']\n",
      "Reduction order for nice/marker/TimeLockedTopography/p3a: ['channels', 'times']\n",
      "Autodetected number of jobs 24\n",
      "Effective window size : 16.384 (s)\n"
     ]
    },
    {
     "name": "stderr",
     "output_type": "stream",
     "text": [
      "[Parallel(n_jobs=24)]: Using backend LokyBackend with 24 concurrent workers.\n",
      "[Parallel(n_jobs=24)]: Done   6 out of  24 | elapsed:    3.8s remaining:   11.5s\n",
      "[Parallel(n_jobs=24)]: Done  11 out of  24 | elapsed:    3.9s remaining:    4.6s\n",
      "[Parallel(n_jobs=24)]: Done  16 out of  24 | elapsed:    4.0s remaining:    2.0s\n",
      "[Parallel(n_jobs=24)]: Done  21 out of  24 | elapsed:    4.0s remaining:    0.6s\n"
     ]
    },
    {
     "name": "stdout",
     "output_type": "stream",
     "text": [
      "Reduction order for nice/marker/PowerSpectralDensity/alpha: ['frequency', 'channels']\n",
      "Reduction order for nice/marker/PowerSpectralDensity/alpha: ['frequency', 'channels']\n",
      "Reduction order for nice/marker/PowerSpectralDensity/delta: ['frequency', 'channels']\n",
      "Reduction order for nice/marker/PowerSpectralDensity/delta: ['frequency', 'channels']\n",
      "Reduction order for nice/marker/PowerSpectralDensity/theta: ['frequency', 'channels']\n",
      "Reduction order for nice/marker/PowerSpectralDensity/theta: ['frequency', 'channels']\n",
      "Reduction order for nice/marker/PowerSpectralDensity/gamma: ['frequency', 'channels']\n",
      "Reduction order for nice/marker/PowerSpectralDensity/theta: ['frequency', 'channels']\n",
      "Reduction order for nice/marker/PowerSpectralDensity/beta: ['frequency', 'channels']\n",
      "Reduction order for nice/marker/PowerSpectralDensity/beta: ['frequency', 'channels']\n",
      "Running KolmogorovComplexity\n",
      "Elapsed time 0.0887918472290039 sec\n",
      "Reduction order for nice/marker/KolmogorovComplexity/default: ['channels']\n",
      "Filtering  at 10.42 Hz\n",
      "Performing symbolic transformation\n"
     ]
    },
    {
     "name": "stderr",
     "output_type": "stream",
     "text": [
      "[Parallel(n_jobs=24)]: Done  24 out of  24 | elapsed:    4.1s finished\n"
     ]
    },
    {
     "name": "stdout",
     "output_type": "stream",
     "text": [
      "Reduction order for nice/marker/PermutationEntropy/default: ['channels']\n",
      "Autodetected number of jobs 2\n",
      "Computing CSD\n",
      "Using 10-5 locations for CSD\n",
      "Using 2 jobs\n"
     ]
    },
    {
     "name": "stderr",
     "output_type": "stream",
     "text": [
      "[Parallel(n_jobs=2)]: Using backend LokyBackend with 2 concurrent workers.\n"
     ]
    },
    {
     "name": "stdout",
     "output_type": "stream",
     "text": [
      "Filtering  at 10.42 Hz\n"
     ]
    },
    {
     "name": "stderr",
     "output_type": "stream",
     "text": [
      "[Parallel(n_jobs=2)]: Done  18 tasks      | elapsed:    1.7s\n",
      "[Parallel(n_jobs=2)]: Done  62 out of  62 | elapsed:    1.8s finished\n"
     ]
    },
    {
     "name": "stdout",
     "output_type": "stream",
     "text": [
      "Reduction order for nice/marker/SymbolicMutualInformation/default: ['channels_y', 'channels']\n",
      "Reduction order for nice/marker/ContingentNegativeVariation/default: ['channels']\n",
      "Reduction order for nice/marker/TimeLockedTopography/p1: ['channels', 'times']\n",
      "Reduction order for nice/marker/TimeLockedTopography/p3a: ['channels', 'times']\n",
      "Reduction order for nice/marker/TimeLockedTopography/p3a: ['channels', 'times']\n",
      "Autodetected number of jobs 24\n",
      "Effective window size : 16.384 (s)\n"
     ]
    },
    {
     "name": "stderr",
     "output_type": "stream",
     "text": [
      "[Parallel(n_jobs=24)]: Using backend LokyBackend with 24 concurrent workers.\n",
      "[Parallel(n_jobs=24)]: Done   6 out of  24 | elapsed:    3.8s remaining:   11.5s\n",
      "[Parallel(n_jobs=24)]: Done  11 out of  24 | elapsed:    3.9s remaining:    4.6s\n",
      "[Parallel(n_jobs=24)]: Done  16 out of  24 | elapsed:    4.0s remaining:    2.0s\n",
      "[Parallel(n_jobs=24)]: Done  21 out of  24 | elapsed:    4.0s remaining:    0.6s\n"
     ]
    },
    {
     "name": "stdout",
     "output_type": "stream",
     "text": [
      "Reduction order for nice/marker/PowerSpectralDensity/alpha: ['frequency', 'channels']\n",
      "Reduction order for nice/marker/PowerSpectralDensity/alpha: ['frequency', 'channels']\n",
      "Reduction order for nice/marker/PowerSpectralDensity/delta: ['frequency', 'channels']\n",
      "Reduction order for nice/marker/PowerSpectralDensity/delta: ['frequency', 'channels']\n",
      "Reduction order for nice/marker/PowerSpectralDensity/theta: ['frequency', 'channels']\n",
      "Reduction order for nice/marker/PowerSpectralDensity/theta: ['frequency', 'channels']\n",
      "Reduction order for nice/marker/PowerSpectralDensity/gamma: ['frequency', 'channels']\n",
      "Reduction order for nice/marker/PowerSpectralDensity/theta: ['frequency', 'channels']\n",
      "Reduction order for nice/marker/PowerSpectralDensity/beta: ['frequency', 'channels']\n",
      "Reduction order for nice/marker/PowerSpectralDensity/beta: ['frequency', 'channels']\n",
      "Running KolmogorovComplexity\n",
      "Elapsed time 0.03715348243713379 sec\n",
      "Reduction order for nice/marker/KolmogorovComplexity/default: ['channels']\n",
      "Filtering  at 10.42 Hz\n",
      "Performing symbolic transformation\n"
     ]
    },
    {
     "name": "stderr",
     "output_type": "stream",
     "text": [
      "[Parallel(n_jobs=24)]: Done  24 out of  24 | elapsed:    4.1s finished\n"
     ]
    },
    {
     "name": "stdout",
     "output_type": "stream",
     "text": [
      "Reduction order for nice/marker/PermutationEntropy/default: ['channels']\n",
      "Autodetected number of jobs 2\n",
      "Computing CSD\n",
      "Using 10-5 locations for CSD\n",
      "Using 2 jobs\n"
     ]
    },
    {
     "name": "stderr",
     "output_type": "stream",
     "text": [
      "[Parallel(n_jobs=2)]: Using backend LokyBackend with 2 concurrent workers.\n"
     ]
    },
    {
     "name": "stdout",
     "output_type": "stream",
     "text": [
      "Filtering  at 10.42 Hz\n",
      "Reduction order for nice/marker/SymbolicMutualInformation/default: ['channels_y', 'channels']\n"
     ]
    },
    {
     "name": "stderr",
     "output_type": "stream",
     "text": [
      "[Parallel(n_jobs=2)]: Done  18 tasks      | elapsed:    1.7s\n",
      "[Parallel(n_jobs=2)]: Done  27 out of  27 | elapsed:    1.7s finished\n"
     ]
    },
    {
     "name": "stdout",
     "output_type": "stream",
     "text": [
      "Reduction order for nice/marker/ContingentNegativeVariation/default: ['channels']\n",
      "Reduction order for nice/marker/TimeLockedTopography/p1: ['channels', 'times']\n",
      "Reduction order for nice/marker/TimeLockedTopography/p3a: ['channels', 'times']\n",
      "Reduction order for nice/marker/TimeLockedTopography/p3a: ['channels', 'times']\n",
      "Autodetected number of jobs 24\n",
      "Effective window size : 16.384 (s)\n"
     ]
    },
    {
     "name": "stderr",
     "output_type": "stream",
     "text": [
      "[Parallel(n_jobs=24)]: Using backend LokyBackend with 24 concurrent workers.\n",
      "[Parallel(n_jobs=24)]: Done   6 out of  24 | elapsed:    3.8s remaining:   11.3s\n",
      "[Parallel(n_jobs=24)]: Done  11 out of  24 | elapsed:    3.8s remaining:    4.5s\n",
      "[Parallel(n_jobs=24)]: Done  16 out of  24 | elapsed:    3.9s remaining:    2.0s\n",
      "[Parallel(n_jobs=24)]: Done  21 out of  24 | elapsed:    4.0s remaining:    0.6s\n"
     ]
    },
    {
     "name": "stdout",
     "output_type": "stream",
     "text": [
      "Reduction order for nice/marker/PowerSpectralDensity/alpha: ['frequency', 'channels']\n",
      "Reduction order for nice/marker/PowerSpectralDensity/alpha: ['frequency', 'channels']\n",
      "Reduction order for nice/marker/PowerSpectralDensity/delta: ['frequency', 'channels']\n",
      "Reduction order for nice/marker/PowerSpectralDensity/delta: ['frequency', 'channels']\n",
      "Reduction order for nice/marker/PowerSpectralDensity/theta: ['frequency', 'channels']\n",
      "Reduction order for nice/marker/PowerSpectralDensity/theta: ['frequency', 'channels']\n",
      "Reduction order for nice/marker/PowerSpectralDensity/gamma: ['frequency', 'channels']\n",
      "Reduction order for nice/marker/PowerSpectralDensity/theta: ['frequency', 'channels']\n",
      "Reduction order for nice/marker/PowerSpectralDensity/beta: ['frequency', 'channels']\n",
      "Reduction order for nice/marker/PowerSpectralDensity/beta: ['frequency', 'channels']\n",
      "Running KolmogorovComplexity\n",
      "Elapsed time 0.01674056053161621 sec\n",
      "Reduction order for nice/marker/KolmogorovComplexity/default: ['channels']\n",
      "Filtering  at 10.42 Hz\n",
      "Performing symbolic transformation\n"
     ]
    },
    {
     "name": "stderr",
     "output_type": "stream",
     "text": [
      "[Parallel(n_jobs=24)]: Done  24 out of  24 | elapsed:    4.0s finished\n"
     ]
    },
    {
     "name": "stdout",
     "output_type": "stream",
     "text": [
      "Reduction order for nice/marker/PermutationEntropy/default: ['channels']\n",
      "Autodetected number of jobs 2\n",
      "Computing CSD\n",
      "Using 10-5 locations for CSD\n",
      "Using 2 jobs\n"
     ]
    },
    {
     "name": "stderr",
     "output_type": "stream",
     "text": [
      "[Parallel(n_jobs=2)]: Using backend LokyBackend with 2 concurrent workers.\n"
     ]
    },
    {
     "name": "stdout",
     "output_type": "stream",
     "text": [
      "Filtering  at 10.42 Hz\n",
      "Reduction order for nice/marker/SymbolicMutualInformation/default: ['channels_y', 'channels']\n",
      "Reduction order for nice/marker/ContingentNegativeVariation/default: ['channels']\n",
      "Reduction order for nice/marker/TimeLockedTopography/p1: ['channels', 'times']\n",
      "Reduction order for nice/marker/TimeLockedTopography/p3a: ['channels', 'times']\n",
      "Reduction order for nice/marker/TimeLockedTopography/p3a: ['channels', 'times']\n",
      "\n",
      "#########################################\n",
      "Computing markers for participant VP27\n",
      "#########################################\n",
      "\n",
      "Reading /media/nicolas.bruno/63f8a366-34b7-4896-a7ce-b5fb4ee78535/Nico/MW_eeg_data/minmarker/VP27/VP27_evoked_ar_subtracted_epo.fif ...\n",
      "    Found the data of interest:\n",
      "        t =    -200.00 ...     600.00 ms\n",
      "        0 CTF compensation matrices available\n"
     ]
    },
    {
     "name": "stderr",
     "output_type": "stream",
     "text": [
      "[Parallel(n_jobs=2)]: Done  12 out of  12 | elapsed:    1.7s finished\n"
     ]
    },
    {
     "name": "stdout",
     "output_type": "stream",
     "text": [
      "Not setting metadata\n",
      "Not setting metadata\n",
      "123 matching events found\n",
      "No baseline correction applied\n",
      "0 projection items activated\n",
      "Reading /media/nicolas.bruno/63f8a366-34b7-4896-a7ce-b5fb4ee78535/Nico/MW_eeg_data/minmarker/VP27/VP27_evoked_ar_rereferenced_epo.fif ...\n",
      "    Found the data of interest:\n",
      "        t =    -200.00 ...     600.00 ms\n",
      "        0 CTF compensation matrices available\n",
      "Not setting metadata\n",
      "Not setting metadata\n",
      "123 matching events found\n",
      "No baseline correction applied\n",
      "0 projection items activated\n",
      "Autodetected number of jobs 24\n",
      "Effective window size : 16.384 (s)\n"
     ]
    },
    {
     "name": "stderr",
     "output_type": "stream",
     "text": [
      "[Parallel(n_jobs=24)]: Using backend LokyBackend with 24 concurrent workers.\n",
      "[Parallel(n_jobs=24)]: Done   6 out of  24 | elapsed:    3.8s remaining:   11.4s\n",
      "[Parallel(n_jobs=24)]: Done  11 out of  24 | elapsed:    3.9s remaining:    4.6s\n",
      "[Parallel(n_jobs=24)]: Done  16 out of  24 | elapsed:    3.9s remaining:    2.0s\n",
      "[Parallel(n_jobs=24)]: Done  21 out of  24 | elapsed:    4.0s remaining:    0.6s\n"
     ]
    },
    {
     "name": "stdout",
     "output_type": "stream",
     "text": [
      "Reduction order for nice/marker/PowerSpectralDensity/alpha: ['frequency', 'channels']\n",
      "Reduction order for nice/marker/PowerSpectralDensity/alpha: ['frequency', 'channels']\n",
      "Reduction order for nice/marker/PowerSpectralDensity/delta: ['frequency', 'channels']\n",
      "Reduction order for nice/marker/PowerSpectralDensity/delta: ['frequency', 'channels']\n",
      "Reduction order for nice/marker/PowerSpectralDensity/theta: ['frequency', 'channels']\n",
      "Reduction order for nice/marker/PowerSpectralDensity/theta: ['frequency', 'channels']\n",
      "Reduction order for nice/marker/PowerSpectralDensity/gamma: ['frequency', 'channels']\n",
      "Reduction order for nice/marker/PowerSpectralDensity/theta: ['frequency', 'channels']\n",
      "Reduction order for nice/marker/PowerSpectralDensity/beta: ['frequency', 'channels']\n",
      "Reduction order for nice/marker/PowerSpectralDensity/beta: ['frequency', 'channels']\n",
      "Running KolmogorovComplexity\n",
      "Elapsed time 0.08583378791809082 sec\n",
      "Reduction order for nice/marker/KolmogorovComplexity/default: ['channels']\n",
      "Filtering  at 10.42 Hz\n",
      "Performing symbolic transformation\n"
     ]
    },
    {
     "name": "stderr",
     "output_type": "stream",
     "text": [
      "[Parallel(n_jobs=24)]: Done  24 out of  24 | elapsed:    4.1s finished\n"
     ]
    },
    {
     "name": "stdout",
     "output_type": "stream",
     "text": [
      "Reduction order for nice/marker/PermutationEntropy/default: ['channels']\n",
      "Autodetected number of jobs 2\n",
      "Computing CSD\n",
      "Using 10-5 locations for CSD\n",
      "Using 2 jobs\n"
     ]
    },
    {
     "name": "stderr",
     "output_type": "stream",
     "text": [
      "[Parallel(n_jobs=2)]: Using backend LokyBackend with 2 concurrent workers.\n"
     ]
    },
    {
     "name": "stdout",
     "output_type": "stream",
     "text": [
      "Filtering  at 10.42 Hz\n"
     ]
    },
    {
     "name": "stderr",
     "output_type": "stream",
     "text": [
      "[Parallel(n_jobs=2)]: Done  18 tasks      | elapsed:    1.7s\n",
      "[Parallel(n_jobs=2)]: Done  63 out of  63 | elapsed:    1.8s finished\n"
     ]
    },
    {
     "name": "stdout",
     "output_type": "stream",
     "text": [
      "Reduction order for nice/marker/SymbolicMutualInformation/default: ['channels_y', 'channels']\n",
      "Reduction order for nice/marker/ContingentNegativeVariation/default: ['channels']\n",
      "Reduction order for nice/marker/TimeLockedTopography/p1: ['channels', 'times']\n",
      "Reduction order for nice/marker/TimeLockedTopography/p3a: ['channels', 'times']\n",
      "Reduction order for nice/marker/TimeLockedTopography/p3a: ['channels', 'times']\n",
      "Autodetected number of jobs 24\n",
      "Effective window size : 16.384 (s)\n"
     ]
    },
    {
     "name": "stderr",
     "output_type": "stream",
     "text": [
      "[Parallel(n_jobs=24)]: Using backend LokyBackend with 24 concurrent workers.\n",
      "[Parallel(n_jobs=24)]: Done   6 out of  24 | elapsed:    4.0s remaining:   12.0s\n",
      "[Parallel(n_jobs=24)]: Done  11 out of  24 | elapsed:    4.1s remaining:    4.9s\n",
      "[Parallel(n_jobs=24)]: Done  16 out of  24 | elapsed:    4.2s remaining:    2.1s\n"
     ]
    },
    {
     "name": "stdout",
     "output_type": "stream",
     "text": [
      "Reduction order for nice/marker/PowerSpectralDensity/alpha: ['frequency', 'channels']\n",
      "Reduction order for nice/marker/PowerSpectralDensity/alpha: ['frequency', 'channels']\n",
      "Reduction order for nice/marker/PowerSpectralDensity/delta: ['frequency', 'channels']\n",
      "Reduction order for nice/marker/PowerSpectralDensity/delta: ['frequency', 'channels']\n",
      "Reduction order for nice/marker/PowerSpectralDensity/theta: ['frequency', 'channels']\n",
      "Reduction order for nice/marker/PowerSpectralDensity/theta: ['frequency', 'channels']\n",
      "Reduction order for nice/marker/PowerSpectralDensity/gamma: ['frequency', 'channels']\n",
      "Reduction order for nice/marker/PowerSpectralDensity/theta: ['frequency', 'channels']\n",
      "Reduction order for nice/marker/PowerSpectralDensity/beta: ['frequency', 'channels']\n",
      "Reduction order for nice/marker/PowerSpectralDensity/beta: ['frequency', 'channels']\n",
      "Running KolmogorovComplexity\n"
     ]
    },
    {
     "name": "stderr",
     "output_type": "stream",
     "text": [
      "[Parallel(n_jobs=24)]: Done  21 out of  24 | elapsed:    4.3s remaining:    0.6s\n",
      "[Parallel(n_jobs=24)]: Done  24 out of  24 | elapsed:    4.4s finished\n"
     ]
    },
    {
     "name": "stdout",
     "output_type": "stream",
     "text": [
      "Elapsed time 0.054630279541015625 sec\n",
      "Reduction order for nice/marker/KolmogorovComplexity/default: ['channels']\n",
      "Filtering  at 10.42 Hz\n",
      "Performing symbolic transformation\n",
      "Reduction order for nice/marker/PermutationEntropy/default: ['channels']\n",
      "Autodetected number of jobs 2\n",
      "Computing CSD\n",
      "Using 10-5 locations for CSD\n",
      "Using 2 jobs\n"
     ]
    },
    {
     "name": "stderr",
     "output_type": "stream",
     "text": [
      "[Parallel(n_jobs=2)]: Using backend LokyBackend with 2 concurrent workers.\n"
     ]
    },
    {
     "name": "stdout",
     "output_type": "stream",
     "text": [
      "Filtering  at 10.42 Hz\n"
     ]
    },
    {
     "name": "stderr",
     "output_type": "stream",
     "text": [
      "[Parallel(n_jobs=2)]: Done  18 tasks      | elapsed:    1.7s\n",
      "[Parallel(n_jobs=2)]: Done  38 out of  38 | elapsed:    1.8s finished\n"
     ]
    },
    {
     "name": "stdout",
     "output_type": "stream",
     "text": [
      "Reduction order for nice/marker/SymbolicMutualInformation/default: ['channels_y', 'channels']\n",
      "Reduction order for nice/marker/ContingentNegativeVariation/default: ['channels']\n",
      "Reduction order for nice/marker/TimeLockedTopography/p1: ['channels', 'times']\n",
      "Reduction order for nice/marker/TimeLockedTopography/p3a: ['channels', 'times']\n",
      "Reduction order for nice/marker/TimeLockedTopography/p3a: ['channels', 'times']\n",
      "Autodetected number of jobs 24\n",
      "Effective window size : 16.384 (s)\n"
     ]
    },
    {
     "name": "stderr",
     "output_type": "stream",
     "text": [
      "[Parallel(n_jobs=24)]: Using backend LokyBackend with 24 concurrent workers.\n",
      "[Parallel(n_jobs=24)]: Done   6 out of  24 | elapsed:    3.8s remaining:   11.5s\n",
      "[Parallel(n_jobs=24)]: Done  11 out of  24 | elapsed:    3.9s remaining:    4.6s\n",
      "[Parallel(n_jobs=24)]: Done  16 out of  24 | elapsed:    4.0s remaining:    2.0s\n"
     ]
    },
    {
     "name": "stdout",
     "output_type": "stream",
     "text": [
      "Reduction order for nice/marker/PowerSpectralDensity/alpha: ['frequency', 'channels']\n",
      "Reduction order for nice/marker/PowerSpectralDensity/alpha: ['frequency', 'channels']\n",
      "Reduction order for nice/marker/PowerSpectralDensity/delta: ['frequency', 'channels']\n",
      "Reduction order for nice/marker/PowerSpectralDensity/delta: ['frequency', 'channels']\n",
      "Reduction order for nice/marker/PowerSpectralDensity/theta: ['frequency', 'channels']\n",
      "Reduction order for nice/marker/PowerSpectralDensity/theta: ['frequency', 'channels']\n",
      "Reduction order for nice/marker/PowerSpectralDensity/gamma: ['frequency', 'channels']\n",
      "Reduction order for nice/marker/PowerSpectralDensity/theta: ['frequency', 'channels']\n",
      "Reduction order for nice/marker/PowerSpectralDensity/beta: ['frequency', 'channels']\n",
      "Reduction order for nice/marker/PowerSpectralDensity/beta: ['frequency', 'channels']\n",
      "Running KolmogorovComplexity\n",
      "Elapsed time 0.014745950698852539 sec\n",
      "Reduction order for nice/marker/KolmogorovComplexity/default: ['channels']\n",
      "Filtering  at 10.42 Hz\n",
      "Performing symbolic transformation\n"
     ]
    },
    {
     "name": "stderr",
     "output_type": "stream",
     "text": [
      "[Parallel(n_jobs=24)]: Done  21 out of  24 | elapsed:    4.1s remaining:    0.6s\n",
      "[Parallel(n_jobs=24)]: Done  24 out of  24 | elapsed:    4.1s finished\n"
     ]
    },
    {
     "name": "stdout",
     "output_type": "stream",
     "text": [
      "Reduction order for nice/marker/PermutationEntropy/default: ['channels']\n",
      "Autodetected number of jobs 2\n",
      "Computing CSD\n",
      "Using 10-5 locations for CSD\n",
      "Using 2 jobs\n"
     ]
    },
    {
     "name": "stderr",
     "output_type": "stream",
     "text": [
      "[Parallel(n_jobs=2)]: Using backend LokyBackend with 2 concurrent workers.\n"
     ]
    },
    {
     "name": "stdout",
     "output_type": "stream",
     "text": [
      "Filtering  at 10.42 Hz\n",
      "Reduction order for nice/marker/SymbolicMutualInformation/default: ['channels_y', 'channels']\n",
      "Reduction order for nice/marker/ContingentNegativeVariation/default: ['channels']\n",
      "Reduction order for nice/marker/TimeLockedTopography/p1: ['channels', 'times']\n",
      "Reduction order for nice/marker/TimeLockedTopography/p3a: ['channels', 'times']\n",
      "Reduction order for nice/marker/TimeLockedTopography/p3a: ['channels', 'times']\n",
      "Autodetected number of jobs 24\n",
      "Effective window size : 16.384 (s)\n"
     ]
    },
    {
     "name": "stderr",
     "output_type": "stream",
     "text": [
      "[Parallel(n_jobs=2)]: Done   8 out of   8 | elapsed:    1.7s finished\n",
      "[Parallel(n_jobs=24)]: Using backend LokyBackend with 24 concurrent workers.\n",
      "[Parallel(n_jobs=24)]: Done   6 out of  24 | elapsed:    3.7s remaining:   11.2s\n",
      "[Parallel(n_jobs=24)]: Done  11 out of  24 | elapsed:    3.8s remaining:    4.4s\n",
      "[Parallel(n_jobs=24)]: Done  16 out of  24 | elapsed:    3.8s remaining:    1.9s\n",
      "[Parallel(n_jobs=24)]: Done  21 out of  24 | elapsed:    3.9s remaining:    0.6s\n"
     ]
    },
    {
     "name": "stdout",
     "output_type": "stream",
     "text": [
      "Reduction order for nice/marker/PowerSpectralDensity/alpha: ['frequency', 'channels']\n",
      "Reduction order for nice/marker/PowerSpectralDensity/alpha: ['frequency', 'channels']\n",
      "Reduction order for nice/marker/PowerSpectralDensity/delta: ['frequency', 'channels']\n",
      "Reduction order for nice/marker/PowerSpectralDensity/delta: ['frequency', 'channels']\n",
      "Reduction order for nice/marker/PowerSpectralDensity/theta: ['frequency', 'channels']\n",
      "Reduction order for nice/marker/PowerSpectralDensity/theta: ['frequency', 'channels']\n",
      "Reduction order for nice/marker/PowerSpectralDensity/gamma: ['frequency', 'channels']\n",
      "Reduction order for nice/marker/PowerSpectralDensity/theta: ['frequency', 'channels']\n",
      "Reduction order for nice/marker/PowerSpectralDensity/beta: ['frequency', 'channels']\n",
      "Reduction order for nice/marker/PowerSpectralDensity/beta: ['frequency', 'channels']\n",
      "Running KolmogorovComplexity\n",
      "Elapsed time 0.0028460025787353516 sec\n",
      "Reduction order for nice/marker/KolmogorovComplexity/default: ['channels']\n",
      "Filtering  at 10.42 Hz\n",
      "Performing symbolic transformation\n"
     ]
    },
    {
     "name": "stderr",
     "output_type": "stream",
     "text": [
      "[Parallel(n_jobs=24)]: Done  24 out of  24 | elapsed:    4.0s finished\n"
     ]
    },
    {
     "name": "stdout",
     "output_type": "stream",
     "text": [
      "Reduction order for nice/marker/PermutationEntropy/default: ['channels']\n",
      "Autodetected number of jobs 2\n",
      "Computing CSD\n",
      "Using 10-5 locations for CSD\n",
      "Using 2 jobs\n"
     ]
    },
    {
     "name": "stderr",
     "output_type": "stream",
     "text": [
      "[Parallel(n_jobs=2)]: Using backend LokyBackend with 2 concurrent workers.\n"
     ]
    },
    {
     "name": "stdout",
     "output_type": "stream",
     "text": [
      "Filtering  at 10.42 Hz\n",
      "Reduction order for nice/marker/SymbolicMutualInformation/default: ['channels_y', 'channels']\n",
      "Reduction order for nice/marker/ContingentNegativeVariation/default: ['channels']\n",
      "Reduction order for nice/marker/TimeLockedTopography/p1: ['channels', 'times']\n",
      "Reduction order for nice/marker/TimeLockedTopography/p3a: ['channels', 'times']\n",
      "Reduction order for nice/marker/TimeLockedTopography/p3a: ['channels', 'times']\n",
      "Autodetected number of jobs 24\n",
      "Effective window size : 16.384 (s)\n"
     ]
    },
    {
     "name": "stderr",
     "output_type": "stream",
     "text": [
      "[Parallel(n_jobs=2)]: Done   2 out of   2 | elapsed:    1.7s remaining:    0.0s\n",
      "[Parallel(n_jobs=2)]: Done   2 out of   2 | elapsed:    1.7s finished\n",
      "[Parallel(n_jobs=24)]: Using backend LokyBackend with 24 concurrent workers.\n",
      "[Parallel(n_jobs=24)]: Done   6 out of  24 | elapsed:    3.7s remaining:   11.2s\n",
      "[Parallel(n_jobs=24)]: Done  11 out of  24 | elapsed:    3.8s remaining:    4.5s\n",
      "[Parallel(n_jobs=24)]: Done  16 out of  24 | elapsed:    3.9s remaining:    1.9s\n"
     ]
    },
    {
     "name": "stdout",
     "output_type": "stream",
     "text": [
      "Reduction order for nice/marker/PowerSpectralDensity/alpha: ['frequency', 'channels']\n",
      "Reduction order for nice/marker/PowerSpectralDensity/alpha: ['frequency', 'channels']\n",
      "Reduction order for nice/marker/PowerSpectralDensity/delta: ['frequency', 'channels']\n",
      "Reduction order for nice/marker/PowerSpectralDensity/delta: ['frequency', 'channels']\n",
      "Reduction order for nice/marker/PowerSpectralDensity/theta: ['frequency', 'channels']\n",
      "Reduction order for nice/marker/PowerSpectralDensity/theta: ['frequency', 'channels']\n",
      "Reduction order for nice/marker/PowerSpectralDensity/gamma: ['frequency', 'channels']\n",
      "Reduction order for nice/marker/PowerSpectralDensity/theta: ['frequency', 'channels']\n",
      "Reduction order for nice/marker/PowerSpectralDensity/beta: ['frequency', 'channels']\n",
      "Reduction order for nice/marker/PowerSpectralDensity/beta: ['frequency', 'channels']\n",
      "Running KolmogorovComplexity\n",
      "Elapsed time 0.021371841430664062 sec\n",
      "Reduction order for nice/marker/KolmogorovComplexity/default: ['channels']\n",
      "Filtering  at 10.42 Hz\n",
      "Performing symbolic transformation\n"
     ]
    },
    {
     "name": "stderr",
     "output_type": "stream",
     "text": [
      "[Parallel(n_jobs=24)]: Done  21 out of  24 | elapsed:    3.9s remaining:    0.6s\n",
      "[Parallel(n_jobs=24)]: Done  24 out of  24 | elapsed:    4.0s finished\n"
     ]
    },
    {
     "name": "stdout",
     "output_type": "stream",
     "text": [
      "Reduction order for nice/marker/PermutationEntropy/default: ['channels']\n",
      "Autodetected number of jobs 2\n",
      "Computing CSD\n",
      "Using 10-5 locations for CSD\n",
      "Using 2 jobs\n"
     ]
    },
    {
     "name": "stderr",
     "output_type": "stream",
     "text": [
      "[Parallel(n_jobs=2)]: Using backend LokyBackend with 2 concurrent workers.\n"
     ]
    },
    {
     "name": "stdout",
     "output_type": "stream",
     "text": [
      "Filtering  at 10.42 Hz\n",
      "Reduction order for nice/marker/SymbolicMutualInformation/default: ['channels_y', 'channels']\n",
      "Reduction order for nice/marker/ContingentNegativeVariation/default: ['channels']\n",
      "Reduction order for nice/marker/TimeLockedTopography/p1: ['channels', 'times']\n",
      "Reduction order for nice/marker/TimeLockedTopography/p3a: ['channels', 'times']\n",
      "Reduction order for nice/marker/TimeLockedTopography/p3a: ['channels', 'times']\n",
      "Autodetected number of jobs 24\n",
      "Effective window size : 16.384 (s)\n"
     ]
    },
    {
     "name": "stderr",
     "output_type": "stream",
     "text": [
      "[Parallel(n_jobs=2)]: Done  15 out of  15 | elapsed:    1.7s finished\n",
      "[Parallel(n_jobs=24)]: Using backend LokyBackend with 24 concurrent workers.\n",
      "[Parallel(n_jobs=24)]: Done   6 out of  24 | elapsed:    3.7s remaining:   11.2s\n",
      "[Parallel(n_jobs=24)]: Done  11 out of  24 | elapsed:    3.7s remaining:    4.4s\n",
      "[Parallel(n_jobs=24)]: Done  16 out of  24 | elapsed:    3.8s remaining:    1.9s\n",
      "[Parallel(n_jobs=24)]: Done  21 out of  24 | elapsed:    3.9s remaining:    0.6s\n"
     ]
    },
    {
     "name": "stdout",
     "output_type": "stream",
     "text": [
      "Reduction order for nice/marker/PowerSpectralDensity/alpha: ['frequency', 'channels']\n",
      "Reduction order for nice/marker/PowerSpectralDensity/alpha: ['frequency', 'channels']\n",
      "Reduction order for nice/marker/PowerSpectralDensity/delta: ['frequency', 'channels']\n",
      "Reduction order for nice/marker/PowerSpectralDensity/delta: ['frequency', 'channels']\n",
      "Reduction order for nice/marker/PowerSpectralDensity/theta: ['frequency', 'channels']\n",
      "Reduction order for nice/marker/PowerSpectralDensity/theta: ['frequency', 'channels']\n",
      "Reduction order for nice/marker/PowerSpectralDensity/gamma: ['frequency', 'channels']\n",
      "Reduction order for nice/marker/PowerSpectralDensity/theta: ['frequency', 'channels']\n",
      "Reduction order for nice/marker/PowerSpectralDensity/beta: ['frequency', 'channels']\n",
      "Reduction order for nice/marker/PowerSpectralDensity/beta: ['frequency', 'channels']\n",
      "Running KolmogorovComplexity\n",
      "Elapsed time 0.023646831512451172 sec\n",
      "Reduction order for nice/marker/KolmogorovComplexity/default: ['channels']\n",
      "Filtering  at 10.42 Hz\n",
      "Performing symbolic transformation\n"
     ]
    },
    {
     "name": "stderr",
     "output_type": "stream",
     "text": [
      "[Parallel(n_jobs=24)]: Done  24 out of  24 | elapsed:    3.9s finished\n"
     ]
    },
    {
     "name": "stdout",
     "output_type": "stream",
     "text": [
      "Reduction order for nice/marker/PermutationEntropy/default: ['channels']\n",
      "Autodetected number of jobs 2\n",
      "Computing CSD\n",
      "Using 10-5 locations for CSD\n",
      "Using 2 jobs\n"
     ]
    },
    {
     "name": "stderr",
     "output_type": "stream",
     "text": [
      "/home/nicolas.bruno/anaconda3/lib/python3.7/site-packages/nice-0.1.dev0-py3.7.egg/nice/algorithms/information_theory/permutation_entropy.py:75: RuntimeWarning: divide by zero encountered in log\n",
      "  pe = np.nan_to_num(-np.nansum(count * np.log(count), axis=1))\n",
      "/home/nicolas.bruno/anaconda3/lib/python3.7/site-packages/nice-0.1.dev0-py3.7.egg/nice/algorithms/information_theory/permutation_entropy.py:75: RuntimeWarning: invalid value encountered in multiply\n",
      "  pe = np.nan_to_num(-np.nansum(count * np.log(count), axis=1))\n",
      "[Parallel(n_jobs=2)]: Using backend LokyBackend with 2 concurrent workers.\n"
     ]
    },
    {
     "name": "stdout",
     "output_type": "stream",
     "text": [
      "Filtering  at 10.42 Hz\n",
      "Reduction order for nice/marker/SymbolicMutualInformation/default: ['channels_y', 'channels']\n",
      "Reduction order for nice/marker/ContingentNegativeVariation/default: ['channels']\n",
      "Reduction order for nice/marker/TimeLockedTopography/p1: ['channels', 'times']\n",
      "Reduction order for nice/marker/TimeLockedTopography/p3a: ['channels', 'times']\n",
      "Reduction order for nice/marker/TimeLockedTopography/p3a: ['channels', 'times']\n",
      "Autodetected number of jobs 24\n",
      "Effective window size : 16.384 (s)\n"
     ]
    },
    {
     "name": "stderr",
     "output_type": "stream",
     "text": [
      "[Parallel(n_jobs=2)]: Done  16 tasks      | elapsed:    1.7s\n",
      "[Parallel(n_jobs=2)]: Done  17 out of  17 | elapsed:    1.7s finished\n",
      "[Parallel(n_jobs=24)]: Using backend LokyBackend with 24 concurrent workers.\n",
      "[Parallel(n_jobs=24)]: Done   6 out of  24 | elapsed:    3.8s remaining:   11.5s\n",
      "[Parallel(n_jobs=24)]: Done  11 out of  24 | elapsed:    3.9s remaining:    4.6s\n",
      "[Parallel(n_jobs=24)]: Done  16 out of  24 | elapsed:    4.0s remaining:    2.0s\n",
      "[Parallel(n_jobs=24)]: Done  21 out of  24 | elapsed:    4.0s remaining:    0.6s\n"
     ]
    },
    {
     "name": "stdout",
     "output_type": "stream",
     "text": [
      "Reduction order for nice/marker/PowerSpectralDensity/alpha: ['frequency', 'channels']\n",
      "Reduction order for nice/marker/PowerSpectralDensity/alpha: ['frequency', 'channels']\n",
      "Reduction order for nice/marker/PowerSpectralDensity/delta: ['frequency', 'channels']\n",
      "Reduction order for nice/marker/PowerSpectralDensity/delta: ['frequency', 'channels']\n",
      "Reduction order for nice/marker/PowerSpectralDensity/theta: ['frequency', 'channels']\n",
      "Reduction order for nice/marker/PowerSpectralDensity/theta: ['frequency', 'channels']\n",
      "Reduction order for nice/marker/PowerSpectralDensity/gamma: ['frequency', 'channels']\n",
      "Reduction order for nice/marker/PowerSpectralDensity/theta: ['frequency', 'channels']\n",
      "Reduction order for nice/marker/PowerSpectralDensity/beta: ['frequency', 'channels']\n",
      "Reduction order for nice/marker/PowerSpectralDensity/beta: ['frequency', 'channels']\n",
      "Running KolmogorovComplexity\n",
      "Elapsed time 0.0468134880065918 sec\n",
      "Reduction order for nice/marker/KolmogorovComplexity/default: ['channels']\n",
      "Filtering  at 10.42 Hz\n",
      "Performing symbolic transformation\n"
     ]
    },
    {
     "name": "stderr",
     "output_type": "stream",
     "text": [
      "[Parallel(n_jobs=24)]: Done  24 out of  24 | elapsed:    4.1s finished\n"
     ]
    },
    {
     "name": "stdout",
     "output_type": "stream",
     "text": [
      "Reduction order for nice/marker/PermutationEntropy/default: ['channels']\n",
      "Autodetected number of jobs 2\n",
      "Computing CSD\n",
      "Using 10-5 locations for CSD\n",
      "Using 2 jobs\n"
     ]
    },
    {
     "name": "stderr",
     "output_type": "stream",
     "text": [
      "[Parallel(n_jobs=2)]: Using backend LokyBackend with 2 concurrent workers.\n"
     ]
    },
    {
     "name": "stdout",
     "output_type": "stream",
     "text": [
      "Filtering  at 10.42 Hz\n"
     ]
    },
    {
     "name": "stderr",
     "output_type": "stream",
     "text": [
      "[Parallel(n_jobs=2)]: Done  18 tasks      | elapsed:    1.7s\n",
      "[Parallel(n_jobs=2)]: Done  34 out of  34 | elapsed:    1.8s finished\n"
     ]
    },
    {
     "name": "stdout",
     "output_type": "stream",
     "text": [
      "Reduction order for nice/marker/SymbolicMutualInformation/default: ['channels_y', 'channels']\n",
      "Reduction order for nice/marker/ContingentNegativeVariation/default: ['channels']\n",
      "Reduction order for nice/marker/TimeLockedTopography/p1: ['channels', 'times']\n",
      "Reduction order for nice/marker/TimeLockedTopography/p3a: ['channels', 'times']\n",
      "Reduction order for nice/marker/TimeLockedTopography/p3a: ['channels', 'times']\n",
      "\n",
      "#########################################\n",
      "Computing markers for participant VP28\n",
      "#########################################\n",
      "\n",
      "Reading /media/nicolas.bruno/63f8a366-34b7-4896-a7ce-b5fb4ee78535/Nico/MW_eeg_data/minmarker/VP28/VP28_evoked_ar_subtracted_epo.fif ...\n",
      "    Found the data of interest:\n",
      "        t =    -200.00 ...     600.00 ms\n",
      "        0 CTF compensation matrices available\n",
      "Not setting metadata\n",
      "Not setting metadata\n",
      "134 matching events found\n",
      "No baseline correction applied\n",
      "0 projection items activated\n",
      "Reading /media/nicolas.bruno/63f8a366-34b7-4896-a7ce-b5fb4ee78535/Nico/MW_eeg_data/minmarker/VP28/VP28_evoked_ar_rereferenced_epo.fif ...\n",
      "    Found the data of interest:\n",
      "        t =    -200.00 ...     600.00 ms\n",
      "        0 CTF compensation matrices available\n",
      "Not setting metadata\n",
      "Not setting metadata\n",
      "134 matching events found\n",
      "No baseline correction applied\n",
      "0 projection items activated\n",
      "Autodetected number of jobs 24\n",
      "Effective window size : 16.384 (s)\n"
     ]
    },
    {
     "name": "stderr",
     "output_type": "stream",
     "text": [
      "[Parallel(n_jobs=24)]: Using backend LokyBackend with 24 concurrent workers.\n",
      "[Parallel(n_jobs=24)]: Done   6 out of  24 | elapsed:    3.8s remaining:   11.4s\n",
      "[Parallel(n_jobs=24)]: Done  11 out of  24 | elapsed:    3.9s remaining:    4.6s\n",
      "[Parallel(n_jobs=24)]: Done  16 out of  24 | elapsed:    4.0s remaining:    2.0s\n"
     ]
    },
    {
     "name": "stdout",
     "output_type": "stream",
     "text": [
      "Reduction order for nice/marker/PowerSpectralDensity/alpha: ['frequency', 'channels']\n",
      "Reduction order for nice/marker/PowerSpectralDensity/alpha: ['frequency', 'channels']\n",
      "Reduction order for nice/marker/PowerSpectralDensity/delta: ['frequency', 'channels']\n",
      "Reduction order for nice/marker/PowerSpectralDensity/delta: ['frequency', 'channels']\n",
      "Reduction order for nice/marker/PowerSpectralDensity/theta: ['frequency', 'channels']\n",
      "Reduction order for nice/marker/PowerSpectralDensity/theta: ['frequency', 'channels']\n",
      "Reduction order for nice/marker/PowerSpectralDensity/gamma: ['frequency', 'channels']\n",
      "Reduction order for nice/marker/PowerSpectralDensity/theta: ['frequency', 'channels']\n",
      "Reduction order for nice/marker/PowerSpectralDensity/beta: ['frequency', 'channels']\n",
      "Reduction order for nice/marker/PowerSpectralDensity/beta: ['frequency', 'channels']\n",
      "Running KolmogorovComplexity\n",
      "Elapsed time 0.09433293342590332 sec\n"
     ]
    },
    {
     "name": "stderr",
     "output_type": "stream",
     "text": [
      "[Parallel(n_jobs=24)]: Done  21 out of  24 | elapsed:    4.0s remaining:    0.6s\n",
      "[Parallel(n_jobs=24)]: Done  24 out of  24 | elapsed:    4.1s finished\n"
     ]
    },
    {
     "name": "stdout",
     "output_type": "stream",
     "text": [
      "Reduction order for nice/marker/KolmogorovComplexity/default: ['channels']\n",
      "Filtering  at 10.42 Hz\n",
      "Performing symbolic transformation\n",
      "Reduction order for nice/marker/PermutationEntropy/default: ['channels']\n",
      "Autodetected number of jobs 2\n",
      "Computing CSD\n",
      "Using 10-5 locations for CSD\n",
      "Using 2 jobs\n"
     ]
    },
    {
     "name": "stderr",
     "output_type": "stream",
     "text": [
      "[Parallel(n_jobs=2)]: Using backend LokyBackend with 2 concurrent workers.\n"
     ]
    },
    {
     "name": "stdout",
     "output_type": "stream",
     "text": [
      "Filtering  at 10.42 Hz\n"
     ]
    },
    {
     "name": "stderr",
     "output_type": "stream",
     "text": [
      "[Parallel(n_jobs=2)]: Done  18 tasks      | elapsed:    1.7s\n",
      "[Parallel(n_jobs=2)]: Done  63 out of  63 | elapsed:    1.8s finished\n"
     ]
    },
    {
     "name": "stdout",
     "output_type": "stream",
     "text": [
      "Reduction order for nice/marker/SymbolicMutualInformation/default: ['channels_y', 'channels']\n",
      "Reduction order for nice/marker/ContingentNegativeVariation/default: ['channels']\n",
      "Reduction order for nice/marker/TimeLockedTopography/p1: ['channels', 'times']\n",
      "Reduction order for nice/marker/TimeLockedTopography/p3a: ['channels', 'times']\n",
      "Reduction order for nice/marker/TimeLockedTopography/p3a: ['channels', 'times']\n",
      "Autodetected number of jobs 24\n",
      "Effective window size : 16.384 (s)\n"
     ]
    },
    {
     "name": "stderr",
     "output_type": "stream",
     "text": [
      "[Parallel(n_jobs=24)]: Using backend LokyBackend with 24 concurrent workers.\n",
      "[Parallel(n_jobs=24)]: Done   6 out of  24 | elapsed:    3.8s remaining:   11.5s\n",
      "[Parallel(n_jobs=24)]: Done  11 out of  24 | elapsed:    3.9s remaining:    4.7s\n",
      "[Parallel(n_jobs=24)]: Done  16 out of  24 | elapsed:    4.0s remaining:    2.0s\n",
      "[Parallel(n_jobs=24)]: Done  21 out of  24 | elapsed:    4.1s remaining:    0.6s\n",
      "[Parallel(n_jobs=24)]: Done  24 out of  24 | elapsed:    4.3s finished\n"
     ]
    },
    {
     "name": "stdout",
     "output_type": "stream",
     "text": [
      "Reduction order for nice/marker/PowerSpectralDensity/alpha: ['frequency', 'channels']\n",
      "Reduction order for nice/marker/PowerSpectralDensity/alpha: ['frequency', 'channels']\n",
      "Reduction order for nice/marker/PowerSpectralDensity/delta: ['frequency', 'channels']\n",
      "Reduction order for nice/marker/PowerSpectralDensity/delta: ['frequency', 'channels']\n",
      "Reduction order for nice/marker/PowerSpectralDensity/theta: ['frequency', 'channels']\n",
      "Reduction order for nice/marker/PowerSpectralDensity/theta: ['frequency', 'channels']\n",
      "Reduction order for nice/marker/PowerSpectralDensity/gamma: ['frequency', 'channels']\n",
      "Reduction order for nice/marker/PowerSpectralDensity/theta: ['frequency', 'channels']\n",
      "Reduction order for nice/marker/PowerSpectralDensity/beta: ['frequency', 'channels']\n",
      "Reduction order for nice/marker/PowerSpectralDensity/beta: ['frequency', 'channels']\n",
      "Running KolmogorovComplexity\n",
      "Elapsed time 0.05428338050842285 sec\n",
      "Reduction order for nice/marker/KolmogorovComplexity/default: ['channels']\n",
      "Filtering  at 10.42 Hz\n",
      "Performing symbolic transformation\n",
      "Reduction order for nice/marker/PermutationEntropy/default: ['channels']\n",
      "Autodetected number of jobs 2\n",
      "Computing CSD\n",
      "Using 10-5 locations for CSD\n",
      "Using 2 jobs\n"
     ]
    },
    {
     "name": "stderr",
     "output_type": "stream",
     "text": [
      "[Parallel(n_jobs=2)]: Using backend LokyBackend with 2 concurrent workers.\n"
     ]
    },
    {
     "name": "stdout",
     "output_type": "stream",
     "text": [
      "Filtering  at 10.42 Hz\n"
     ]
    },
    {
     "name": "stderr",
     "output_type": "stream",
     "text": [
      "[Parallel(n_jobs=2)]: Done  18 tasks      | elapsed:    1.7s\n",
      "[Parallel(n_jobs=2)]: Done  38 out of  38 | elapsed:    1.7s finished\n"
     ]
    },
    {
     "name": "stdout",
     "output_type": "stream",
     "text": [
      "Reduction order for nice/marker/SymbolicMutualInformation/default: ['channels_y', 'channels']\n",
      "Reduction order for nice/marker/ContingentNegativeVariation/default: ['channels']\n",
      "Reduction order for nice/marker/TimeLockedTopography/p1: ['channels', 'times']\n",
      "Reduction order for nice/marker/TimeLockedTopography/p3a: ['channels', 'times']\n",
      "Reduction order for nice/marker/TimeLockedTopography/p3a: ['channels', 'times']\n",
      "Autodetected number of jobs 24\n",
      "Effective window size : 16.384 (s)\n"
     ]
    },
    {
     "name": "stderr",
     "output_type": "stream",
     "text": [
      "[Parallel(n_jobs=24)]: Using backend LokyBackend with 24 concurrent workers.\n",
      "[Parallel(n_jobs=24)]: Done   6 out of  24 | elapsed:    3.6s remaining:   10.8s\n",
      "[Parallel(n_jobs=24)]: Done  11 out of  24 | elapsed:    3.6s remaining:    4.3s\n",
      "[Parallel(n_jobs=24)]: Done  16 out of  24 | elapsed:    3.7s remaining:    1.9s\n"
     ]
    },
    {
     "name": "stdout",
     "output_type": "stream",
     "text": [
      "Reduction order for nice/marker/PowerSpectralDensity/alpha: ['frequency', 'channels']\n",
      "Reduction order for nice/marker/PowerSpectralDensity/alpha: ['frequency', 'channels']\n",
      "Reduction order for nice/marker/PowerSpectralDensity/delta: ['frequency', 'channels']\n",
      "Reduction order for nice/marker/PowerSpectralDensity/delta: ['frequency', 'channels']\n",
      "Reduction order for nice/marker/PowerSpectralDensity/theta: ['frequency', 'channels']\n",
      "Reduction order for nice/marker/PowerSpectralDensity/theta: ['frequency', 'channels']\n",
      "Reduction order for nice/marker/PowerSpectralDensity/gamma: ['frequency', 'channels']\n",
      "Reduction order for nice/marker/PowerSpectralDensity/theta: ['frequency', 'channels']\n",
      "Reduction order for nice/marker/PowerSpectralDensity/beta: ['frequency', 'channels']\n",
      "Reduction order for nice/marker/PowerSpectralDensity/beta: ['frequency', 'channels']\n",
      "Running KolmogorovComplexity\n",
      "Elapsed time 0.011485099792480469 sec\n",
      "Reduction order for nice/marker/KolmogorovComplexity/default: ['channels']\n",
      "Filtering  at 10.42 Hz\n",
      "Performing symbolic transformation\n"
     ]
    },
    {
     "name": "stderr",
     "output_type": "stream",
     "text": [
      "[Parallel(n_jobs=24)]: Done  21 out of  24 | elapsed:    3.8s remaining:    0.5s\n",
      "[Parallel(n_jobs=24)]: Done  24 out of  24 | elapsed:    3.9s finished\n"
     ]
    },
    {
     "name": "stdout",
     "output_type": "stream",
     "text": [
      "Reduction order for nice/marker/PermutationEntropy/default: ['channels']\n",
      "Autodetected number of jobs 2\n",
      "Computing CSD\n",
      "Using 10-5 locations for CSD\n",
      "Using 2 jobs\n"
     ]
    },
    {
     "name": "stderr",
     "output_type": "stream",
     "text": [
      "[Parallel(n_jobs=2)]: Using backend LokyBackend with 2 concurrent workers.\n"
     ]
    },
    {
     "name": "stdout",
     "output_type": "stream",
     "text": [
      "Filtering  at 10.42 Hz\n",
      "Reduction order for nice/marker/SymbolicMutualInformation/default: ['channels_y', 'channels']\n",
      "Reduction order for nice/marker/ContingentNegativeVariation/default: ['channels']\n",
      "Reduction order for nice/marker/TimeLockedTopography/p1: ['channels', 'times']\n",
      "Reduction order for nice/marker/TimeLockedTopography/p3a: ['channels', 'times']\n",
      "Reduction order for nice/marker/TimeLockedTopography/p3a: ['channels', 'times']\n",
      "Autodetected number of jobs 24\n",
      "Effective window size : 16.384 (s)\n"
     ]
    },
    {
     "name": "stderr",
     "output_type": "stream",
     "text": [
      "[Parallel(n_jobs=2)]: Done   8 out of   8 | elapsed:    1.7s finished\n",
      "[Parallel(n_jobs=24)]: Using backend LokyBackend with 24 concurrent workers.\n",
      "[Parallel(n_jobs=24)]: Done   6 out of  24 | elapsed:    3.7s remaining:   11.2s\n",
      "[Parallel(n_jobs=24)]: Done  11 out of  24 | elapsed:    3.8s remaining:    4.5s\n",
      "[Parallel(n_jobs=24)]: Done  16 out of  24 | elapsed:    3.8s remaining:    1.9s\n",
      "[Parallel(n_jobs=24)]: Done  21 out of  24 | elapsed:    3.9s remaining:    0.6s\n"
     ]
    },
    {
     "name": "stdout",
     "output_type": "stream",
     "text": [
      "Reduction order for nice/marker/PowerSpectralDensity/alpha: ['frequency', 'channels']\n",
      "Reduction order for nice/marker/PowerSpectralDensity/alpha: ['frequency', 'channels']\n",
      "Reduction order for nice/marker/PowerSpectralDensity/delta: ['frequency', 'channels']\n",
      "Reduction order for nice/marker/PowerSpectralDensity/delta: ['frequency', 'channels']\n",
      "Reduction order for nice/marker/PowerSpectralDensity/theta: ['frequency', 'channels']\n",
      "Reduction order for nice/marker/PowerSpectralDensity/theta: ['frequency', 'channels']\n",
      "Reduction order for nice/marker/PowerSpectralDensity/gamma: ['frequency', 'channels']\n",
      "Reduction order for nice/marker/PowerSpectralDensity/theta: ['frequency', 'channels']\n",
      "Reduction order for nice/marker/PowerSpectralDensity/beta: ['frequency', 'channels']\n",
      "Reduction order for nice/marker/PowerSpectralDensity/beta: ['frequency', 'channels']\n",
      "Running KolmogorovComplexity\n",
      "Elapsed time 0.002777099609375 sec\n",
      "Reduction order for nice/marker/KolmogorovComplexity/default: ['channels']\n",
      "Filtering  at 10.42 Hz\n",
      "Performing symbolic transformation\n"
     ]
    },
    {
     "name": "stderr",
     "output_type": "stream",
     "text": [
      "[Parallel(n_jobs=24)]: Done  24 out of  24 | elapsed:    4.0s finished\n"
     ]
    },
    {
     "name": "stdout",
     "output_type": "stream",
     "text": [
      "Reduction order for nice/marker/PermutationEntropy/default: ['channels']\n",
      "Autodetected number of jobs 2\n",
      "Computing CSD\n",
      "Using 10-5 locations for CSD\n",
      "Using 2 jobs\n"
     ]
    },
    {
     "name": "stderr",
     "output_type": "stream",
     "text": [
      "[Parallel(n_jobs=2)]: Using backend LokyBackend with 2 concurrent workers.\n"
     ]
    },
    {
     "name": "stdout",
     "output_type": "stream",
     "text": [
      "Filtering  at 10.42 Hz\n",
      "Reduction order for nice/marker/SymbolicMutualInformation/default: ['channels_y', 'channels']\n",
      "Reduction order for nice/marker/ContingentNegativeVariation/default: ['channels']\n",
      "Reduction order for nice/marker/TimeLockedTopography/p1: ['channels', 'times']\n",
      "Reduction order for nice/marker/TimeLockedTopography/p3a: ['channels', 'times']\n",
      "Reduction order for nice/marker/TimeLockedTopography/p3a: ['channels', 'times']\n",
      "Autodetected number of jobs 24\n",
      "Effective window size : 16.384 (s)\n"
     ]
    },
    {
     "name": "stderr",
     "output_type": "stream",
     "text": [
      "[Parallel(n_jobs=2)]: Done   2 out of   2 | elapsed:    1.7s remaining:    0.0s\n",
      "[Parallel(n_jobs=2)]: Done   2 out of   2 | elapsed:    1.7s finished\n",
      "[Parallel(n_jobs=24)]: Using backend LokyBackend with 24 concurrent workers.\n",
      "[Parallel(n_jobs=24)]: Done   6 out of  24 | elapsed:    3.8s remaining:   11.5s\n",
      "[Parallel(n_jobs=24)]: Done  11 out of  24 | elapsed:    3.9s remaining:    4.6s\n",
      "[Parallel(n_jobs=24)]: Done  16 out of  24 | elapsed:    4.0s remaining:    2.0s\n"
     ]
    },
    {
     "name": "stdout",
     "output_type": "stream",
     "text": [
      "Reduction order for nice/marker/PowerSpectralDensity/alpha: ['frequency', 'channels']\n",
      "Reduction order for nice/marker/PowerSpectralDensity/alpha: ['frequency', 'channels']\n",
      "Reduction order for nice/marker/PowerSpectralDensity/delta: ['frequency', 'channels']\n",
      "Reduction order for nice/marker/PowerSpectralDensity/delta: ['frequency', 'channels']\n",
      "Reduction order for nice/marker/PowerSpectralDensity/theta: ['frequency', 'channels']\n",
      "Reduction order for nice/marker/PowerSpectralDensity/theta: ['frequency', 'channels']\n",
      "Reduction order for nice/marker/PowerSpectralDensity/gamma: ['frequency', 'channels']\n",
      "Reduction order for nice/marker/PowerSpectralDensity/theta: ['frequency', 'channels']\n",
      "Reduction order for nice/marker/PowerSpectralDensity/beta: ['frequency', 'channels']\n",
      "Reduction order for nice/marker/PowerSpectralDensity/beta: ['frequency', 'channels']\n",
      "Running KolmogorovComplexity\n",
      "Elapsed time 0.020874977111816406 sec\n",
      "Reduction order for nice/marker/KolmogorovComplexity/default: ['channels']\n",
      "Filtering  at 10.42 Hz\n",
      "Performing symbolic transformation\n"
     ]
    },
    {
     "name": "stderr",
     "output_type": "stream",
     "text": [
      "[Parallel(n_jobs=24)]: Done  21 out of  24 | elapsed:    4.1s remaining:    0.6s\n",
      "[Parallel(n_jobs=24)]: Done  24 out of  24 | elapsed:    4.2s finished\n"
     ]
    },
    {
     "name": "stdout",
     "output_type": "stream",
     "text": [
      "Reduction order for nice/marker/PermutationEntropy/default: ['channels']\n",
      "Autodetected number of jobs 2\n",
      "Computing CSD\n",
      "Using 10-5 locations for CSD\n",
      "Using 2 jobs\n"
     ]
    },
    {
     "name": "stderr",
     "output_type": "stream",
     "text": [
      "[Parallel(n_jobs=2)]: Using backend LokyBackend with 2 concurrent workers.\n"
     ]
    },
    {
     "name": "stdout",
     "output_type": "stream",
     "text": [
      "Filtering  at 10.42 Hz\n",
      "Reduction order for nice/marker/SymbolicMutualInformation/default: ['channels_y', 'channels']\n",
      "Reduction order for nice/marker/ContingentNegativeVariation/default: ['channels']\n",
      "Reduction order for nice/marker/TimeLockedTopography/p1: ['channels', 'times']\n",
      "Reduction order for nice/marker/TimeLockedTopography/p3a: ['channels', 'times']\n",
      "Reduction order for nice/marker/TimeLockedTopography/p3a: ['channels', 'times']\n",
      "Autodetected number of jobs 24\n",
      "Effective window size : 16.384 (s)\n"
     ]
    },
    {
     "name": "stderr",
     "output_type": "stream",
     "text": [
      "[Parallel(n_jobs=2)]: Done  15 out of  15 | elapsed:    1.7s finished\n",
      "[Parallel(n_jobs=24)]: Using backend LokyBackend with 24 concurrent workers.\n",
      "[Parallel(n_jobs=24)]: Done   6 out of  24 | elapsed:    3.6s remaining:   10.9s\n",
      "[Parallel(n_jobs=24)]: Done  11 out of  24 | elapsed:    3.7s remaining:    4.3s\n",
      "[Parallel(n_jobs=24)]: Done  16 out of  24 | elapsed:    3.8s remaining:    1.9s\n"
     ]
    },
    {
     "name": "stdout",
     "output_type": "stream",
     "text": [
      "Reduction order for nice/marker/PowerSpectralDensity/alpha: ['frequency', 'channels']\n",
      "Reduction order for nice/marker/PowerSpectralDensity/alpha: ['frequency', 'channels']\n",
      "Reduction order for nice/marker/PowerSpectralDensity/delta: ['frequency', 'channels']\n",
      "Reduction order for nice/marker/PowerSpectralDensity/delta: ['frequency', 'channels']\n",
      "Reduction order for nice/marker/PowerSpectralDensity/theta: ['frequency', 'channels']\n",
      "Reduction order for nice/marker/PowerSpectralDensity/theta: ['frequency', 'channels']\n",
      "Reduction order for nice/marker/PowerSpectralDensity/gamma: ['frequency', 'channels']\n",
      "Reduction order for nice/marker/PowerSpectralDensity/theta: ['frequency', 'channels']\n",
      "Reduction order for nice/marker/PowerSpectralDensity/beta: ['frequency', 'channels']\n",
      "Reduction order for nice/marker/PowerSpectralDensity/beta: ['frequency', 'channels']\n",
      "Running KolmogorovComplexity\n",
      "Elapsed time 0.007172584533691406 sec\n",
      "Reduction order for nice/marker/KolmogorovComplexity/default: ['channels']\n",
      "Filtering  at 10.42 Hz\n",
      "Performing symbolic transformation\n"
     ]
    },
    {
     "name": "stderr",
     "output_type": "stream",
     "text": [
      "[Parallel(n_jobs=24)]: Done  21 out of  24 | elapsed:    3.9s remaining:    0.6s\n",
      "[Parallel(n_jobs=24)]: Done  24 out of  24 | elapsed:    3.9s finished\n"
     ]
    },
    {
     "name": "stdout",
     "output_type": "stream",
     "text": [
      "Reduction order for nice/marker/PermutationEntropy/default: ['channels']\n",
      "Autodetected number of jobs 2\n",
      "Computing CSD\n",
      "Using 10-5 locations for CSD\n",
      "Using 2 jobs\n"
     ]
    },
    {
     "name": "stderr",
     "output_type": "stream",
     "text": [
      "[Parallel(n_jobs=2)]: Using backend LokyBackend with 2 concurrent workers.\n"
     ]
    },
    {
     "name": "stdout",
     "output_type": "stream",
     "text": [
      "Filtering  at 10.42 Hz\n",
      "Reduction order for nice/marker/SymbolicMutualInformation/default: ['channels_y', 'channels']\n",
      "Reduction order for nice/marker/ContingentNegativeVariation/default: ['channels']\n",
      "Reduction order for nice/marker/TimeLockedTopography/p1: ['channels', 'times']\n",
      "Reduction order for nice/marker/TimeLockedTopography/p3a: ['channels', 'times']\n",
      "Reduction order for nice/marker/TimeLockedTopography/p3a: ['channels', 'times']\n",
      "Autodetected number of jobs 24\n",
      "Effective window size : 16.384 (s)\n"
     ]
    },
    {
     "name": "stderr",
     "output_type": "stream",
     "text": [
      "[Parallel(n_jobs=2)]: Done   5 out of   5 | elapsed:    1.7s finished\n",
      "[Parallel(n_jobs=24)]: Using backend LokyBackend with 24 concurrent workers.\n",
      "[Parallel(n_jobs=24)]: Done   6 out of  24 | elapsed:    3.7s remaining:   11.2s\n",
      "[Parallel(n_jobs=24)]: Done  11 out of  24 | elapsed:    3.8s remaining:    4.5s\n",
      "[Parallel(n_jobs=24)]: Done  16 out of  24 | elapsed:    3.9s remaining:    2.0s\n"
     ]
    },
    {
     "name": "stdout",
     "output_type": "stream",
     "text": [
      "Reduction order for nice/marker/PowerSpectralDensity/alpha: ['frequency', 'channels']\n",
      "Reduction order for nice/marker/PowerSpectralDensity/alpha: ['frequency', 'channels']\n",
      "Reduction order for nice/marker/PowerSpectralDensity/delta: ['frequency', 'channels']\n",
      "Reduction order for nice/marker/PowerSpectralDensity/delta: ['frequency', 'channels']\n",
      "Reduction order for nice/marker/PowerSpectralDensity/theta: ['frequency', 'channels']\n",
      "Reduction order for nice/marker/PowerSpectralDensity/theta: ['frequency', 'channels']\n",
      "Reduction order for nice/marker/PowerSpectralDensity/gamma: ['frequency', 'channels']\n",
      "Reduction order for nice/marker/PowerSpectralDensity/theta: ['frequency', 'channels']\n",
      "Reduction order for nice/marker/PowerSpectralDensity/beta: ['frequency', 'channels']\n",
      "Reduction order for nice/marker/PowerSpectralDensity/beta: ['frequency', 'channels']\n",
      "Running KolmogorovComplexity\n"
     ]
    },
    {
     "name": "stderr",
     "output_type": "stream",
     "text": [
      "[Parallel(n_jobs=24)]: Done  21 out of  24 | elapsed:    4.0s remaining:    0.6s\n",
      "[Parallel(n_jobs=24)]: Done  24 out of  24 | elapsed:    4.2s finished\n"
     ]
    },
    {
     "name": "stdout",
     "output_type": "stream",
     "text": [
      "Elapsed time 0.024771451950073242 sec\n",
      "Reduction order for nice/marker/KolmogorovComplexity/default: ['channels']\n",
      "Filtering  at 10.42 Hz\n",
      "Performing symbolic transformation\n",
      "Reduction order for nice/marker/PermutationEntropy/default: ['channels']\n",
      "Autodetected number of jobs 2\n",
      "Computing CSD\n",
      "Using 10-5 locations for CSD\n",
      "Using 2 jobs\n"
     ]
    },
    {
     "name": "stderr",
     "output_type": "stream",
     "text": [
      "[Parallel(n_jobs=2)]: Using backend LokyBackend with 2 concurrent workers.\n"
     ]
    },
    {
     "name": "stdout",
     "output_type": "stream",
     "text": [
      "Filtering  at 10.42 Hz\n",
      "Reduction order for nice/marker/SymbolicMutualInformation/default: ['channels_y', 'channels']\n",
      "Reduction order for nice/marker/ContingentNegativeVariation/default: ['channels']\n",
      "Reduction order for nice/marker/TimeLockedTopography/p1: ['channels', 'times']\n",
      "Reduction order for nice/marker/TimeLockedTopography/p3a: ['channels', 'times']\n",
      "Reduction order for nice/marker/TimeLockedTopography/p3a: ['channels', 'times']\n",
      "Autodetected number of jobs 24\n",
      "Effective window size : 16.384 (s)\n"
     ]
    },
    {
     "name": "stderr",
     "output_type": "stream",
     "text": [
      "[Parallel(n_jobs=2)]: Done  16 tasks      | elapsed:    1.8s\n",
      "[Parallel(n_jobs=2)]: Done  17 out of  17 | elapsed:    1.8s finished\n",
      "[Parallel(n_jobs=24)]: Using backend LokyBackend with 24 concurrent workers.\n",
      "[Parallel(n_jobs=24)]: Done   6 out of  24 | elapsed:    3.8s remaining:   11.3s\n",
      "[Parallel(n_jobs=24)]: Done  11 out of  24 | elapsed:    3.8s remaining:    4.5s\n",
      "[Parallel(n_jobs=24)]: Done  16 out of  24 | elapsed:    3.9s remaining:    1.9s\n"
     ]
    },
    {
     "name": "stdout",
     "output_type": "stream",
     "text": [
      "Reduction order for nice/marker/PowerSpectralDensity/alpha: ['frequency', 'channels']\n",
      "Reduction order for nice/marker/PowerSpectralDensity/alpha: ['frequency', 'channels']\n",
      "Reduction order for nice/marker/PowerSpectralDensity/delta: ['frequency', 'channels']\n",
      "Reduction order for nice/marker/PowerSpectralDensity/delta: ['frequency', 'channels']\n",
      "Reduction order for nice/marker/PowerSpectralDensity/theta: ['frequency', 'channels']\n",
      "Reduction order for nice/marker/PowerSpectralDensity/theta: ['frequency', 'channels']\n",
      "Reduction order for nice/marker/PowerSpectralDensity/gamma: ['frequency', 'channels']\n",
      "Reduction order for nice/marker/PowerSpectralDensity/theta: ['frequency', 'channels']\n",
      "Reduction order for nice/marker/PowerSpectralDensity/beta: ['frequency', 'channels']\n",
      "Reduction order for nice/marker/PowerSpectralDensity/beta: ['frequency', 'channels']\n",
      "Running KolmogorovComplexity\n",
      "Elapsed time 0.024805545806884766 sec\n"
     ]
    },
    {
     "name": "stderr",
     "output_type": "stream",
     "text": [
      "[Parallel(n_jobs=24)]: Done  21 out of  24 | elapsed:    4.0s remaining:    0.6s\n",
      "[Parallel(n_jobs=24)]: Done  24 out of  24 | elapsed:    4.2s finished\n"
     ]
    },
    {
     "name": "stdout",
     "output_type": "stream",
     "text": [
      "Reduction order for nice/marker/KolmogorovComplexity/default: ['channels']\n",
      "Filtering  at 10.42 Hz\n",
      "Performing symbolic transformation\n",
      "Reduction order for nice/marker/PermutationEntropy/default: ['channels']\n",
      "Autodetected number of jobs 2\n",
      "Computing CSD\n",
      "Using 10-5 locations for CSD\n",
      "Using 2 jobs\n"
     ]
    },
    {
     "name": "stderr",
     "output_type": "stream",
     "text": [
      "[Parallel(n_jobs=2)]: Using backend LokyBackend with 2 concurrent workers.\n"
     ]
    },
    {
     "name": "stdout",
     "output_type": "stream",
     "text": [
      "Filtering  at 10.42 Hz\n",
      "Reduction order for nice/marker/SymbolicMutualInformation/default: ['channels_y', 'channels']\n",
      "Reduction order for nice/marker/ContingentNegativeVariation/default: ['channels']\n",
      "Reduction order for nice/marker/TimeLockedTopography/p1: ['channels', 'times']\n",
      "Reduction order for nice/marker/TimeLockedTopography/p3a: ['channels', 'times']\n",
      "Reduction order for nice/marker/TimeLockedTopography/p3a: ['channels', 'times']\n",
      "Autodetected number of jobs 24\n",
      "Effective window size : 16.384 (s)\n"
     ]
    },
    {
     "name": "stderr",
     "output_type": "stream",
     "text": [
      "[Parallel(n_jobs=2)]: Done  16 tasks      | elapsed:    1.7s\n",
      "[Parallel(n_jobs=2)]: Done  17 out of  17 | elapsed:    1.7s finished\n",
      "[Parallel(n_jobs=24)]: Using backend LokyBackend with 24 concurrent workers.\n",
      "[Parallel(n_jobs=24)]: Done   6 out of  24 | elapsed:    3.8s remaining:   11.3s\n",
      "[Parallel(n_jobs=24)]: Done  11 out of  24 | elapsed:    3.8s remaining:    4.5s\n",
      "[Parallel(n_jobs=24)]: Done  16 out of  24 | elapsed:    3.9s remaining:    1.9s\n"
     ]
    },
    {
     "name": "stdout",
     "output_type": "stream",
     "text": [
      "Reduction order for nice/marker/PowerSpectralDensity/alpha: ['frequency', 'channels']\n",
      "Reduction order for nice/marker/PowerSpectralDensity/alpha: ['frequency', 'channels']\n",
      "Reduction order for nice/marker/PowerSpectralDensity/delta: ['frequency', 'channels']\n",
      "Reduction order for nice/marker/PowerSpectralDensity/delta: ['frequency', 'channels']\n",
      "Reduction order for nice/marker/PowerSpectralDensity/theta: ['frequency', 'channels']\n",
      "Reduction order for nice/marker/PowerSpectralDensity/theta: ['frequency', 'channels']\n",
      "Reduction order for nice/marker/PowerSpectralDensity/gamma: ['frequency', 'channels']\n",
      "Reduction order for nice/marker/PowerSpectralDensity/theta: ['frequency', 'channels']\n",
      "Reduction order for nice/marker/PowerSpectralDensity/beta: ['frequency', 'channels']\n",
      "Reduction order for nice/marker/PowerSpectralDensity/beta: ['frequency', 'channels']\n",
      "Running KolmogorovComplexity\n",
      "Elapsed time 0.022278785705566406 sec\n",
      "Reduction order for nice/marker/KolmogorovComplexity/default: ['channels']\n",
      "Filtering  at 10.42 Hz\n",
      "Performing symbolic transformation\n"
     ]
    },
    {
     "name": "stderr",
     "output_type": "stream",
     "text": [
      "[Parallel(n_jobs=24)]: Done  21 out of  24 | elapsed:    4.0s remaining:    0.6s\n",
      "[Parallel(n_jobs=24)]: Done  24 out of  24 | elapsed:    4.1s finished\n"
     ]
    },
    {
     "name": "stdout",
     "output_type": "stream",
     "text": [
      "Reduction order for nice/marker/PermutationEntropy/default: ['channels']\n",
      "Autodetected number of jobs 2\n",
      "Computing CSD\n",
      "Using 10-5 locations for CSD\n",
      "Using 2 jobs\n"
     ]
    },
    {
     "name": "stderr",
     "output_type": "stream",
     "text": [
      "/home/nicolas.bruno/anaconda3/lib/python3.7/site-packages/nice-0.1.dev0-py3.7.egg/nice/algorithms/information_theory/permutation_entropy.py:75: RuntimeWarning: divide by zero encountered in log\n",
      "  pe = np.nan_to_num(-np.nansum(count * np.log(count), axis=1))\n",
      "/home/nicolas.bruno/anaconda3/lib/python3.7/site-packages/nice-0.1.dev0-py3.7.egg/nice/algorithms/information_theory/permutation_entropy.py:75: RuntimeWarning: invalid value encountered in multiply\n",
      "  pe = np.nan_to_num(-np.nansum(count * np.log(count), axis=1))\n",
      "[Parallel(n_jobs=2)]: Using backend LokyBackend with 2 concurrent workers.\n"
     ]
    },
    {
     "name": "stdout",
     "output_type": "stream",
     "text": [
      "Filtering  at 10.42 Hz\n",
      "Reduction order for nice/marker/SymbolicMutualInformation/default: ['channels_y', 'channels']\n",
      "Reduction order for nice/marker/ContingentNegativeVariation/default: ['channels']\n",
      "Reduction order for nice/marker/TimeLockedTopography/p1: ['channels', 'times']\n",
      "Reduction order for nice/marker/TimeLockedTopography/p3a: ['channels', 'times']\n",
      "Reduction order for nice/marker/TimeLockedTopography/p3a: ['channels', 'times']\n",
      "\n",
      "#########################################\n",
      "Computing markers for participant VP29\n",
      "#########################################\n",
      "\n",
      "Reading /media/nicolas.bruno/63f8a366-34b7-4896-a7ce-b5fb4ee78535/Nico/MW_eeg_data/minmarker/VP29/VP29_evoked_ar_subtracted_epo.fif ...\n",
      "    Found the data of interest:\n",
      "        t =    -200.00 ...     600.00 ms\n",
      "        0 CTF compensation matrices available\n"
     ]
    },
    {
     "name": "stderr",
     "output_type": "stream",
     "text": [
      "[Parallel(n_jobs=2)]: Done  16 out of  16 | elapsed:    1.7s finished\n"
     ]
    },
    {
     "name": "stdout",
     "output_type": "stream",
     "text": [
      "Not setting metadata\n",
      "Not setting metadata\n",
      "287 matching events found\n",
      "No baseline correction applied\n",
      "0 projection items activated\n",
      "Reading /media/nicolas.bruno/63f8a366-34b7-4896-a7ce-b5fb4ee78535/Nico/MW_eeg_data/minmarker/VP29/VP29_evoked_ar_rereferenced_epo.fif ...\n",
      "    Found the data of interest:\n",
      "        t =    -200.00 ...     600.00 ms\n",
      "        0 CTF compensation matrices available\n",
      "Not setting metadata\n",
      "Not setting metadata\n",
      "287 matching events found\n",
      "No baseline correction applied\n",
      "0 projection items activated\n",
      "Autodetected number of jobs 24\n",
      "Effective window size : 16.384 (s)\n"
     ]
    },
    {
     "name": "stderr",
     "output_type": "stream",
     "text": [
      "[Parallel(n_jobs=24)]: Using backend LokyBackend with 24 concurrent workers.\n",
      "[Parallel(n_jobs=24)]: Done   6 out of  24 | elapsed:    3.8s remaining:   11.5s\n",
      "[Parallel(n_jobs=24)]: Done  11 out of  24 | elapsed:    3.9s remaining:    4.6s\n",
      "[Parallel(n_jobs=24)]: Done  16 out of  24 | elapsed:    4.0s remaining:    2.0s\n"
     ]
    },
    {
     "name": "stdout",
     "output_type": "stream",
     "text": [
      "Reduction order for nice/marker/PowerSpectralDensity/alpha: ['frequency', 'channels']\n",
      "Reduction order for nice/marker/PowerSpectralDensity/alpha: ['frequency', 'channels']\n"
     ]
    },
    {
     "name": "stderr",
     "output_type": "stream",
     "text": [
      "[Parallel(n_jobs=24)]: Done  21 out of  24 | elapsed:    4.2s remaining:    0.6s\n",
      "[Parallel(n_jobs=24)]: Done  24 out of  24 | elapsed:    4.3s finished\n"
     ]
    },
    {
     "name": "stdout",
     "output_type": "stream",
     "text": [
      "Reduction order for nice/marker/PowerSpectralDensity/delta: ['frequency', 'channels']\n",
      "Reduction order for nice/marker/PowerSpectralDensity/delta: ['frequency', 'channels']\n",
      "Reduction order for nice/marker/PowerSpectralDensity/theta: ['frequency', 'channels']\n",
      "Reduction order for nice/marker/PowerSpectralDensity/theta: ['frequency', 'channels']\n",
      "Reduction order for nice/marker/PowerSpectralDensity/gamma: ['frequency', 'channels']\n",
      "Reduction order for nice/marker/PowerSpectralDensity/theta: ['frequency', 'channels']\n",
      "Reduction order for nice/marker/PowerSpectralDensity/beta: ['frequency', 'channels']\n",
      "Reduction order for nice/marker/PowerSpectralDensity/beta: ['frequency', 'channels']\n",
      "Running KolmogorovComplexity\n",
      "Elapsed time 0.09029316902160645 sec\n",
      "Reduction order for nice/marker/KolmogorovComplexity/default: ['channels']\n",
      "Filtering  at 10.42 Hz\n",
      "Performing symbolic transformation\n",
      "Reduction order for nice/marker/PermutationEntropy/default: ['channels']\n",
      "Autodetected number of jobs 2\n",
      "Computing CSD\n",
      "Using 10-5 locations for CSD\n",
      "Using 2 jobs\n"
     ]
    },
    {
     "name": "stderr",
     "output_type": "stream",
     "text": [
      "[Parallel(n_jobs=2)]: Using backend LokyBackend with 2 concurrent workers.\n"
     ]
    },
    {
     "name": "stdout",
     "output_type": "stream",
     "text": [
      "Filtering  at 10.42 Hz\n"
     ]
    },
    {
     "name": "stderr",
     "output_type": "stream",
     "text": [
      "[Parallel(n_jobs=2)]: Done  18 tasks      | elapsed:    1.7s\n",
      "[Parallel(n_jobs=2)]: Done  63 out of  63 | elapsed:    1.8s finished\n"
     ]
    },
    {
     "name": "stdout",
     "output_type": "stream",
     "text": [
      "Reduction order for nice/marker/SymbolicMutualInformation/default: ['channels_y', 'channels']\n",
      "Reduction order for nice/marker/ContingentNegativeVariation/default: ['channels']\n",
      "Reduction order for nice/marker/TimeLockedTopography/p1: ['channels', 'times']\n",
      "Reduction order for nice/marker/TimeLockedTopography/p3a: ['channels', 'times']\n",
      "Reduction order for nice/marker/TimeLockedTopography/p3a: ['channels', 'times']\n",
      "Autodetected number of jobs 24\n",
      "Effective window size : 16.384 (s)\n"
     ]
    },
    {
     "name": "stderr",
     "output_type": "stream",
     "text": [
      "[Parallel(n_jobs=24)]: Using backend LokyBackend with 24 concurrent workers.\n",
      "[Parallel(n_jobs=24)]: Done   6 out of  24 | elapsed:    3.7s remaining:   11.1s\n",
      "[Parallel(n_jobs=24)]: Done  11 out of  24 | elapsed:    3.8s remaining:    4.5s\n",
      "[Parallel(n_jobs=24)]: Done  16 out of  24 | elapsed:    3.8s remaining:    1.9s\n",
      "[Parallel(n_jobs=24)]: Done  21 out of  24 | elapsed:    3.9s remaining:    0.6s\n"
     ]
    },
    {
     "name": "stdout",
     "output_type": "stream",
     "text": [
      "Reduction order for nice/marker/PowerSpectralDensity/alpha: ['frequency', 'channels']\n",
      "Reduction order for nice/marker/PowerSpectralDensity/alpha: ['frequency', 'channels']\n",
      "Reduction order for nice/marker/PowerSpectralDensity/delta: ['frequency', 'channels']\n",
      "Reduction order for nice/marker/PowerSpectralDensity/delta: ['frequency', 'channels']\n",
      "Reduction order for nice/marker/PowerSpectralDensity/theta: ['frequency', 'channels']\n",
      "Reduction order for nice/marker/PowerSpectralDensity/theta: ['frequency', 'channels']\n",
      "Reduction order for nice/marker/PowerSpectralDensity/gamma: ['frequency', 'channels']\n",
      "Reduction order for nice/marker/PowerSpectralDensity/theta: ['frequency', 'channels']\n",
      "Reduction order for nice/marker/PowerSpectralDensity/beta: ['frequency', 'channels']\n",
      "Reduction order for nice/marker/PowerSpectralDensity/beta: ['frequency', 'channels']\n",
      "Running KolmogorovComplexity\n",
      "Elapsed time 0.05487394332885742 sec\n",
      "Reduction order for nice/marker/KolmogorovComplexity/default: ['channels']\n",
      "Filtering  at 10.42 Hz\n",
      "Performing symbolic transformation\n"
     ]
    },
    {
     "name": "stderr",
     "output_type": "stream",
     "text": [
      "[Parallel(n_jobs=24)]: Done  24 out of  24 | elapsed:    4.0s finished\n"
     ]
    },
    {
     "name": "stdout",
     "output_type": "stream",
     "text": [
      "Reduction order for nice/marker/PermutationEntropy/default: ['channels']\n",
      "Autodetected number of jobs 2\n",
      "Computing CSD\n",
      "Using 10-5 locations for CSD\n",
      "Using 2 jobs\n"
     ]
    },
    {
     "name": "stderr",
     "output_type": "stream",
     "text": [
      "[Parallel(n_jobs=2)]: Using backend LokyBackend with 2 concurrent workers.\n"
     ]
    },
    {
     "name": "stdout",
     "output_type": "stream",
     "text": [
      "Filtering  at 10.42 Hz\n"
     ]
    },
    {
     "name": "stderr",
     "output_type": "stream",
     "text": [
      "[Parallel(n_jobs=2)]: Done  18 tasks      | elapsed:    1.8s\n",
      "[Parallel(n_jobs=2)]: Done  38 out of  38 | elapsed:    1.8s finished\n"
     ]
    },
    {
     "name": "stdout",
     "output_type": "stream",
     "text": [
      "Reduction order for nice/marker/SymbolicMutualInformation/default: ['channels_y', 'channels']\n",
      "Reduction order for nice/marker/ContingentNegativeVariation/default: ['channels']\n",
      "Reduction order for nice/marker/TimeLockedTopography/p1: ['channels', 'times']\n",
      "Reduction order for nice/marker/TimeLockedTopography/p3a: ['channels', 'times']\n",
      "Reduction order for nice/marker/TimeLockedTopography/p3a: ['channels', 'times']\n",
      "Autodetected number of jobs 24\n",
      "Effective window size : 16.384 (s)\n"
     ]
    },
    {
     "name": "stderr",
     "output_type": "stream",
     "text": [
      "[Parallel(n_jobs=24)]: Using backend LokyBackend with 24 concurrent workers.\n",
      "[Parallel(n_jobs=24)]: Done   6 out of  24 | elapsed:    3.7s remaining:   11.0s\n",
      "[Parallel(n_jobs=24)]: Done  11 out of  24 | elapsed:    3.7s remaining:    4.4s\n",
      "[Parallel(n_jobs=24)]: Done  16 out of  24 | elapsed:    3.8s remaining:    1.9s\n",
      "[Parallel(n_jobs=24)]: Done  21 out of  24 | elapsed:    3.8s remaining:    0.5s\n"
     ]
    },
    {
     "name": "stdout",
     "output_type": "stream",
     "text": [
      "Reduction order for nice/marker/PowerSpectralDensity/alpha: ['frequency', 'channels']\n",
      "Reduction order for nice/marker/PowerSpectralDensity/alpha: ['frequency', 'channels']\n",
      "Reduction order for nice/marker/PowerSpectralDensity/delta: ['frequency', 'channels']\n",
      "Reduction order for nice/marker/PowerSpectralDensity/delta: ['frequency', 'channels']\n",
      "Reduction order for nice/marker/PowerSpectralDensity/theta: ['frequency', 'channels']\n",
      "Reduction order for nice/marker/PowerSpectralDensity/theta: ['frequency', 'channels']\n",
      "Reduction order for nice/marker/PowerSpectralDensity/gamma: ['frequency', 'channels']\n",
      "Reduction order for nice/marker/PowerSpectralDensity/theta: ['frequency', 'channels']\n",
      "Reduction order for nice/marker/PowerSpectralDensity/beta: ['frequency', 'channels']\n",
      "Reduction order for nice/marker/PowerSpectralDensity/beta: ['frequency', 'channels']\n",
      "Running KolmogorovComplexity\n",
      "Elapsed time 0.013352632522583008 sec\n",
      "Reduction order for nice/marker/KolmogorovComplexity/default: ['channels']\n",
      "Filtering  at 10.42 Hz\n",
      "Performing symbolic transformation\n"
     ]
    },
    {
     "name": "stderr",
     "output_type": "stream",
     "text": [
      "[Parallel(n_jobs=24)]: Done  24 out of  24 | elapsed:    3.9s finished\n"
     ]
    },
    {
     "name": "stdout",
     "output_type": "stream",
     "text": [
      "Reduction order for nice/marker/PermutationEntropy/default: ['channels']\n",
      "Autodetected number of jobs 2\n",
      "Computing CSD\n",
      "Using 10-5 locations for CSD\n",
      "Using 2 jobs\n"
     ]
    },
    {
     "name": "stderr",
     "output_type": "stream",
     "text": [
      "[Parallel(n_jobs=2)]: Using backend LokyBackend with 2 concurrent workers.\n"
     ]
    },
    {
     "name": "stdout",
     "output_type": "stream",
     "text": [
      "Filtering  at 10.42 Hz\n",
      "Reduction order for nice/marker/SymbolicMutualInformation/default: ['channels_y', 'channels']\n",
      "Reduction order for nice/marker/ContingentNegativeVariation/default: ['channels']\n",
      "Reduction order for nice/marker/TimeLockedTopography/p1: ['channels', 'times']\n",
      "Reduction order for nice/marker/TimeLockedTopography/p3a: ['channels', 'times']\n",
      "Reduction order for nice/marker/TimeLockedTopography/p3a: ['channels', 'times']\n",
      "Autodetected number of jobs 24\n",
      "Effective window size : 16.384 (s)\n"
     ]
    },
    {
     "name": "stderr",
     "output_type": "stream",
     "text": [
      "[Parallel(n_jobs=2)]: Done   8 out of   8 | elapsed:    1.7s finished\n",
      "[Parallel(n_jobs=24)]: Using backend LokyBackend with 24 concurrent workers.\n",
      "[Parallel(n_jobs=24)]: Done   6 out of  24 | elapsed:    3.8s remaining:   11.4s\n",
      "[Parallel(n_jobs=24)]: Done  11 out of  24 | elapsed:    3.9s remaining:    4.6s\n",
      "[Parallel(n_jobs=24)]: Done  16 out of  24 | elapsed:    4.0s remaining:    2.0s\n",
      "[Parallel(n_jobs=24)]: Done  21 out of  24 | elapsed:    4.1s remaining:    0.6s\n"
     ]
    },
    {
     "name": "stdout",
     "output_type": "stream",
     "text": [
      "Reduction order for nice/marker/PowerSpectralDensity/alpha: ['frequency', 'channels']\n",
      "Reduction order for nice/marker/PowerSpectralDensity/alpha: ['frequency', 'channels']\n",
      "Reduction order for nice/marker/PowerSpectralDensity/delta: ['frequency', 'channels']\n",
      "Reduction order for nice/marker/PowerSpectralDensity/delta: ['frequency', 'channels']\n",
      "Reduction order for nice/marker/PowerSpectralDensity/theta: ['frequency', 'channels']\n",
      "Reduction order for nice/marker/PowerSpectralDensity/theta: ['frequency', 'channels']\n",
      "Reduction order for nice/marker/PowerSpectralDensity/gamma: ['frequency', 'channels']\n",
      "Reduction order for nice/marker/PowerSpectralDensity/theta: ['frequency', 'channels']\n",
      "Reduction order for nice/marker/PowerSpectralDensity/beta: ['frequency', 'channels']\n",
      "Reduction order for nice/marker/PowerSpectralDensity/beta: ['frequency', 'channels']\n",
      "Running KolmogorovComplexity\n",
      "Elapsed time 0.002826213836669922 sec\n",
      "Reduction order for nice/marker/KolmogorovComplexity/default: ['channels']\n",
      "Filtering  at 10.42 Hz\n",
      "Performing symbolic transformation\n"
     ]
    },
    {
     "name": "stderr",
     "output_type": "stream",
     "text": [
      "[Parallel(n_jobs=24)]: Done  24 out of  24 | elapsed:    4.3s finished\n"
     ]
    },
    {
     "name": "stdout",
     "output_type": "stream",
     "text": [
      "Reduction order for nice/marker/PermutationEntropy/default: ['channels']\n",
      "Autodetected number of jobs 2\n",
      "Computing CSD\n",
      "Using 10-5 locations for CSD\n",
      "Using 2 jobs\n"
     ]
    },
    {
     "name": "stderr",
     "output_type": "stream",
     "text": [
      "[Parallel(n_jobs=2)]: Using backend LokyBackend with 2 concurrent workers.\n"
     ]
    },
    {
     "name": "stdout",
     "output_type": "stream",
     "text": [
      "Filtering  at 10.42 Hz\n",
      "Reduction order for nice/marker/SymbolicMutualInformation/default: ['channels_y', 'channels']\n",
      "Reduction order for nice/marker/ContingentNegativeVariation/default: ['channels']\n",
      "Reduction order for nice/marker/TimeLockedTopography/p1: ['channels', 'times']\n",
      "Reduction order for nice/marker/TimeLockedTopography/p3a: ['channels', 'times']\n",
      "Reduction order for nice/marker/TimeLockedTopography/p3a: ['channels', 'times']\n",
      "Autodetected number of jobs 24\n",
      "Effective window size : 16.384 (s)\n"
     ]
    },
    {
     "name": "stderr",
     "output_type": "stream",
     "text": [
      "[Parallel(n_jobs=2)]: Done   2 out of   2 | elapsed:    1.7s remaining:    0.0s\n",
      "[Parallel(n_jobs=2)]: Done   2 out of   2 | elapsed:    1.7s finished\n",
      "[Parallel(n_jobs=24)]: Using backend LokyBackend with 24 concurrent workers.\n",
      "[Parallel(n_jobs=24)]: Done   6 out of  24 | elapsed:    3.8s remaining:   11.3s\n",
      "[Parallel(n_jobs=24)]: Done  11 out of  24 | elapsed:    3.9s remaining:    4.6s\n"
     ]
    },
    {
     "name": "stdout",
     "output_type": "stream",
     "text": [
      "Reduction order for nice/marker/PowerSpectralDensity/alpha: ['frequency', 'channels']\n",
      "Reduction order for nice/marker/PowerSpectralDensity/alpha: ['frequency', 'channels']\n",
      "Reduction order for nice/marker/PowerSpectralDensity/delta: ['frequency', 'channels']\n",
      "Reduction order for nice/marker/PowerSpectralDensity/delta: ['frequency', 'channels']\n",
      "Reduction order for nice/marker/PowerSpectralDensity/theta: ['frequency', 'channels']\n"
     ]
    },
    {
     "name": "stderr",
     "output_type": "stream",
     "text": [
      "[Parallel(n_jobs=24)]: Done  16 out of  24 | elapsed:    4.0s remaining:    2.0s\n",
      "[Parallel(n_jobs=24)]: Done  21 out of  24 | elapsed:    4.1s remaining:    0.6s\n",
      "[Parallel(n_jobs=24)]: Done  24 out of  24 | elapsed:    4.2s finished\n"
     ]
    },
    {
     "name": "stdout",
     "output_type": "stream",
     "text": [
      "Reduction order for nice/marker/PowerSpectralDensity/theta: ['frequency', 'channels']\n",
      "Reduction order for nice/marker/PowerSpectralDensity/gamma: ['frequency', 'channels']\n",
      "Reduction order for nice/marker/PowerSpectralDensity/theta: ['frequency', 'channels']\n",
      "Reduction order for nice/marker/PowerSpectralDensity/beta: ['frequency', 'channels']\n",
      "Reduction order for nice/marker/PowerSpectralDensity/beta: ['frequency', 'channels']\n",
      "Running KolmogorovComplexity\n",
      "Elapsed time 0.021358728408813477 sec\n",
      "Reduction order for nice/marker/KolmogorovComplexity/default: ['channels']\n",
      "Filtering  at 10.42 Hz\n",
      "Performing symbolic transformation\n",
      "Reduction order for nice/marker/PermutationEntropy/default: ['channels']\n",
      "Autodetected number of jobs 2\n",
      "Computing CSD\n",
      "Using 10-5 locations for CSD\n",
      "Using 2 jobs\n"
     ]
    },
    {
     "name": "stderr",
     "output_type": "stream",
     "text": [
      "[Parallel(n_jobs=2)]: Using backend LokyBackend with 2 concurrent workers.\n"
     ]
    },
    {
     "name": "stdout",
     "output_type": "stream",
     "text": [
      "Filtering  at 10.42 Hz\n",
      "Reduction order for nice/marker/SymbolicMutualInformation/default: ['channels_y', 'channels']\n",
      "Reduction order for nice/marker/ContingentNegativeVariation/default: ['channels']\n",
      "Reduction order for nice/marker/TimeLockedTopography/p1: ['channels', 'times']\n",
      "Reduction order for nice/marker/TimeLockedTopography/p3a: ['channels', 'times']\n",
      "Reduction order for nice/marker/TimeLockedTopography/p3a: ['channels', 'times']\n",
      "Autodetected number of jobs 24\n",
      "Effective window size : 16.384 (s)\n"
     ]
    },
    {
     "name": "stderr",
     "output_type": "stream",
     "text": [
      "[Parallel(n_jobs=2)]: Done  15 out of  15 | elapsed:    1.7s finished\n",
      "[Parallel(n_jobs=24)]: Using backend LokyBackend with 24 concurrent workers.\n",
      "[Parallel(n_jobs=24)]: Done   6 out of  24 | elapsed:    3.7s remaining:   11.1s\n",
      "[Parallel(n_jobs=24)]: Done  11 out of  24 | elapsed:    3.8s remaining:    4.5s\n",
      "[Parallel(n_jobs=24)]: Done  16 out of  24 | elapsed:    3.9s remaining:    1.9s\n"
     ]
    },
    {
     "name": "stdout",
     "output_type": "stream",
     "text": [
      "Reduction order for nice/marker/PowerSpectralDensity/alpha: ['frequency', 'channels']\n",
      "Reduction order for nice/marker/PowerSpectralDensity/alpha: ['frequency', 'channels']\n",
      "Reduction order for nice/marker/PowerSpectralDensity/delta: ['frequency', 'channels']\n",
      "Reduction order for nice/marker/PowerSpectralDensity/delta: ['frequency', 'channels']\n",
      "Reduction order for nice/marker/PowerSpectralDensity/theta: ['frequency', 'channels']\n",
      "Reduction order for nice/marker/PowerSpectralDensity/theta: ['frequency', 'channels']\n",
      "Reduction order for nice/marker/PowerSpectralDensity/gamma: ['frequency', 'channels']\n",
      "Reduction order for nice/marker/PowerSpectralDensity/theta: ['frequency', 'channels']\n",
      "Reduction order for nice/marker/PowerSpectralDensity/beta: ['frequency', 'channels']\n",
      "Reduction order for nice/marker/PowerSpectralDensity/beta: ['frequency', 'channels']\n",
      "Running KolmogorovComplexity\n",
      "Elapsed time 0.03636026382446289 sec\n",
      "Reduction order for nice/marker/KolmogorovComplexity/default: ['channels']\n",
      "Filtering  at 10.42 Hz\n",
      "Performing symbolic transformation\n"
     ]
    },
    {
     "name": "stderr",
     "output_type": "stream",
     "text": [
      "[Parallel(n_jobs=24)]: Done  21 out of  24 | elapsed:    3.9s remaining:    0.6s\n",
      "[Parallel(n_jobs=24)]: Done  24 out of  24 | elapsed:    4.0s finished\n"
     ]
    },
    {
     "name": "stdout",
     "output_type": "stream",
     "text": [
      "Reduction order for nice/marker/PermutationEntropy/default: ['channels']\n",
      "Autodetected number of jobs 2\n",
      "Computing CSD\n",
      "Using 10-5 locations for CSD\n",
      "Using 2 jobs\n"
     ]
    },
    {
     "name": "stderr",
     "output_type": "stream",
     "text": [
      "[Parallel(n_jobs=2)]: Using backend LokyBackend with 2 concurrent workers.\n"
     ]
    },
    {
     "name": "stdout",
     "output_type": "stream",
     "text": [
      "Filtering  at 10.42 Hz\n",
      "Reduction order for nice/marker/SymbolicMutualInformation/default: ['channels_y', 'channels']\n"
     ]
    },
    {
     "name": "stderr",
     "output_type": "stream",
     "text": [
      "[Parallel(n_jobs=2)]: Done  18 tasks      | elapsed:    1.7s\n",
      "[Parallel(n_jobs=2)]: Done  27 out of  27 | elapsed:    1.7s finished\n"
     ]
    },
    {
     "name": "stdout",
     "output_type": "stream",
     "text": [
      "Reduction order for nice/marker/ContingentNegativeVariation/default: ['channels']\n",
      "Reduction order for nice/marker/TimeLockedTopography/p1: ['channels', 'times']\n",
      "Reduction order for nice/marker/TimeLockedTopography/p3a: ['channels', 'times']\n",
      "Reduction order for nice/marker/TimeLockedTopography/p3a: ['channels', 'times']\n",
      "Autodetected number of jobs 24\n",
      "Effective window size : 16.384 (s)\n"
     ]
    },
    {
     "name": "stderr",
     "output_type": "stream",
     "text": [
      "[Parallel(n_jobs=24)]: Using backend LokyBackend with 24 concurrent workers.\n",
      "[Parallel(n_jobs=24)]: Done   6 out of  24 | elapsed:    4.0s remaining:   12.0s\n",
      "[Parallel(n_jobs=24)]: Done  11 out of  24 | elapsed:    4.1s remaining:    4.8s\n",
      "[Parallel(n_jobs=24)]: Done  16 out of  24 | elapsed:    4.2s remaining:    2.1s\n"
     ]
    },
    {
     "name": "stdout",
     "output_type": "stream",
     "text": [
      "Reduction order for nice/marker/PowerSpectralDensity/alpha: ['frequency', 'channels']\n",
      "Reduction order for nice/marker/PowerSpectralDensity/alpha: ['frequency', 'channels']\n",
      "Reduction order for nice/marker/PowerSpectralDensity/delta: ['frequency', 'channels']\n",
      "Reduction order for nice/marker/PowerSpectralDensity/delta: ['frequency', 'channels']\n",
      "Reduction order for nice/marker/PowerSpectralDensity/theta: ['frequency', 'channels']\n",
      "Reduction order for nice/marker/PowerSpectralDensity/theta: ['frequency', 'channels']\n",
      "Reduction order for nice/marker/PowerSpectralDensity/gamma: ['frequency', 'channels']\n",
      "Reduction order for nice/marker/PowerSpectralDensity/theta: ['frequency', 'channels']\n",
      "Reduction order for nice/marker/PowerSpectralDensity/beta: ['frequency', 'channels']\n",
      "Reduction order for nice/marker/PowerSpectralDensity/beta: ['frequency', 'channels']\n",
      "Running KolmogorovComplexity\n",
      "Elapsed time 0.09867048263549805 sec\n"
     ]
    },
    {
     "name": "stderr",
     "output_type": "stream",
     "text": [
      "[Parallel(n_jobs=24)]: Done  21 out of  24 | elapsed:    4.2s remaining:    0.6s\n",
      "[Parallel(n_jobs=24)]: Done  24 out of  24 | elapsed:    4.3s finished\n"
     ]
    },
    {
     "name": "stdout",
     "output_type": "stream",
     "text": [
      "Reduction order for nice/marker/KolmogorovComplexity/default: ['channels']\n",
      "Filtering  at 10.42 Hz\n",
      "Performing symbolic transformation\n",
      "Reduction order for nice/marker/PermutationEntropy/default: ['channels']\n",
      "Autodetected number of jobs 2\n",
      "Computing CSD\n",
      "Using 10-5 locations for CSD\n",
      "Using 2 jobs\n"
     ]
    },
    {
     "name": "stderr",
     "output_type": "stream",
     "text": [
      "/home/nicolas.bruno/anaconda3/lib/python3.7/site-packages/nice-0.1.dev0-py3.7.egg/nice/algorithms/information_theory/permutation_entropy.py:75: RuntimeWarning: divide by zero encountered in log\n",
      "  pe = np.nan_to_num(-np.nansum(count * np.log(count), axis=1))\n",
      "/home/nicolas.bruno/anaconda3/lib/python3.7/site-packages/nice-0.1.dev0-py3.7.egg/nice/algorithms/information_theory/permutation_entropy.py:75: RuntimeWarning: invalid value encountered in multiply\n",
      "  pe = np.nan_to_num(-np.nansum(count * np.log(count), axis=1))\n",
      "[Parallel(n_jobs=2)]: Using backend LokyBackend with 2 concurrent workers.\n"
     ]
    },
    {
     "name": "stdout",
     "output_type": "stream",
     "text": [
      "Filtering  at 10.42 Hz\n"
     ]
    },
    {
     "name": "stderr",
     "output_type": "stream",
     "text": [
      "[Parallel(n_jobs=2)]: Done  18 tasks      | elapsed:    1.7s\n",
      "[Parallel(n_jobs=2)]: Done  69 out of  69 | elapsed:    1.8s finished\n"
     ]
    },
    {
     "name": "stdout",
     "output_type": "stream",
     "text": [
      "Reduction order for nice/marker/SymbolicMutualInformation/default: ['channels_y', 'channels']\n",
      "Reduction order for nice/marker/ContingentNegativeVariation/default: ['channels']\n",
      "Reduction order for nice/marker/TimeLockedTopography/p1: ['channels', 'times']\n",
      "Reduction order for nice/marker/TimeLockedTopography/p3a: ['channels', 'times']\n",
      "Reduction order for nice/marker/TimeLockedTopography/p3a: ['channels', 'times']\n",
      "Autodetected number of jobs 24\n",
      "Effective window size : 16.384 (s)\n"
     ]
    },
    {
     "name": "stderr",
     "output_type": "stream",
     "text": [
      "[Parallel(n_jobs=24)]: Using backend LokyBackend with 24 concurrent workers.\n",
      "[Parallel(n_jobs=24)]: Done   6 out of  24 | elapsed:    3.7s remaining:   11.1s\n",
      "[Parallel(n_jobs=24)]: Done  11 out of  24 | elapsed:    3.8s remaining:    4.5s\n",
      "[Parallel(n_jobs=24)]: Done  16 out of  24 | elapsed:    3.9s remaining:    2.0s\n",
      "[Parallel(n_jobs=24)]: Done  21 out of  24 | elapsed:    4.0s remaining:    0.6s\n"
     ]
    },
    {
     "name": "stdout",
     "output_type": "stream",
     "text": [
      "Reduction order for nice/marker/PowerSpectralDensity/alpha: ['frequency', 'channels']\n",
      "Reduction order for nice/marker/PowerSpectralDensity/alpha: ['frequency', 'channels']\n",
      "Reduction order for nice/marker/PowerSpectralDensity/delta: ['frequency', 'channels']\n",
      "Reduction order for nice/marker/PowerSpectralDensity/delta: ['frequency', 'channels']\n",
      "Reduction order for nice/marker/PowerSpectralDensity/theta: ['frequency', 'channels']\n",
      "Reduction order for nice/marker/PowerSpectralDensity/theta: ['frequency', 'channels']\n",
      "Reduction order for nice/marker/PowerSpectralDensity/gamma: ['frequency', 'channels']\n",
      "Reduction order for nice/marker/PowerSpectralDensity/theta: ['frequency', 'channels']\n",
      "Reduction order for nice/marker/PowerSpectralDensity/beta: ['frequency', 'channels']\n",
      "Reduction order for nice/marker/PowerSpectralDensity/beta: ['frequency', 'channels']\n",
      "Running KolmogorovComplexity\n",
      "Elapsed time 0.002783060073852539 sec\n",
      "Reduction order for nice/marker/KolmogorovComplexity/default: ['channels']\n",
      "Filtering  at 10.42 Hz\n",
      "Performing symbolic transformation\n"
     ]
    },
    {
     "name": "stderr",
     "output_type": "stream",
     "text": [
      "[Parallel(n_jobs=24)]: Done  24 out of  24 | elapsed:    4.1s finished\n"
     ]
    },
    {
     "name": "stdout",
     "output_type": "stream",
     "text": [
      "Reduction order for nice/marker/PermutationEntropy/default: ['channels']\n",
      "Autodetected number of jobs 2\n",
      "Computing CSD\n",
      "Using 10-5 locations for CSD\n",
      "Using 2 jobs\n"
     ]
    },
    {
     "name": "stderr",
     "output_type": "stream",
     "text": [
      "[Parallel(n_jobs=2)]: Using backend LokyBackend with 2 concurrent workers.\n"
     ]
    },
    {
     "name": "stdout",
     "output_type": "stream",
     "text": [
      "Filtering  at 10.42 Hz\n",
      "Reduction order for nice/marker/SymbolicMutualInformation/default: ['channels_y', 'channels']\n",
      "Reduction order for nice/marker/ContingentNegativeVariation/default: ['channels']\n",
      "Reduction order for nice/marker/TimeLockedTopography/p1: ['channels', 'times']\n",
      "Reduction order for nice/marker/TimeLockedTopography/p3a: ['channels', 'times']\n",
      "Reduction order for nice/marker/TimeLockedTopography/p3a: ['channels', 'times']\n",
      "\n",
      "#########################################\n",
      "Computing markers for participant VP30\n",
      "#########################################\n",
      "\n",
      "Reading /media/nicolas.bruno/63f8a366-34b7-4896-a7ce-b5fb4ee78535/Nico/MW_eeg_data/minmarker/VP30/VP30_evoked_ar_subtracted_epo.fif ...\n",
      "    Found the data of interest:\n",
      "        t =    -200.00 ...     600.00 ms\n",
      "        0 CTF compensation matrices available\n"
     ]
    },
    {
     "name": "stderr",
     "output_type": "stream",
     "text": [
      "[Parallel(n_jobs=2)]: Done   2 out of   2 | elapsed:    1.7s remaining:    0.0s\n",
      "[Parallel(n_jobs=2)]: Done   2 out of   2 | elapsed:    1.7s finished\n"
     ]
    },
    {
     "name": "stdout",
     "output_type": "stream",
     "text": [
      "Not setting metadata\n",
      "Not setting metadata\n",
      "565 matching events found\n",
      "No baseline correction applied\n",
      "0 projection items activated\n",
      "Reading /media/nicolas.bruno/63f8a366-34b7-4896-a7ce-b5fb4ee78535/Nico/MW_eeg_data/minmarker/VP30/VP30_evoked_ar_rereferenced_epo.fif ...\n",
      "    Found the data of interest:\n",
      "        t =    -200.00 ...     600.00 ms\n",
      "        0 CTF compensation matrices available\n",
      "Not setting metadata\n",
      "Not setting metadata\n",
      "565 matching events found\n",
      "No baseline correction applied\n",
      "0 projection items activated\n",
      "Autodetected number of jobs 24\n",
      "Effective window size : 16.384 (s)\n"
     ]
    },
    {
     "name": "stderr",
     "output_type": "stream",
     "text": [
      "[Parallel(n_jobs=24)]: Using backend LokyBackend with 24 concurrent workers.\n",
      "[Parallel(n_jobs=24)]: Done   6 out of  24 | elapsed:    3.8s remaining:   11.4s\n",
      "[Parallel(n_jobs=24)]: Done  11 out of  24 | elapsed:    3.9s remaining:    4.6s\n",
      "[Parallel(n_jobs=24)]: Done  16 out of  24 | elapsed:    4.0s remaining:    2.0s\n",
      "[Parallel(n_jobs=24)]: Done  21 out of  24 | elapsed:    4.1s remaining:    0.6s\n"
     ]
    },
    {
     "name": "stdout",
     "output_type": "stream",
     "text": [
      "Reduction order for nice/marker/PowerSpectralDensity/alpha: ['frequency', 'channels']\n",
      "Reduction order for nice/marker/PowerSpectralDensity/alpha: ['frequency', 'channels']\n",
      "Reduction order for nice/marker/PowerSpectralDensity/delta: ['frequency', 'channels']\n",
      "Reduction order for nice/marker/PowerSpectralDensity/delta: ['frequency', 'channels']\n",
      "Reduction order for nice/marker/PowerSpectralDensity/theta: ['frequency', 'channels']\n",
      "Reduction order for nice/marker/PowerSpectralDensity/theta: ['frequency', 'channels']\n",
      "Reduction order for nice/marker/PowerSpectralDensity/gamma: ['frequency', 'channels']\n",
      "Reduction order for nice/marker/PowerSpectralDensity/theta: ['frequency', 'channels']\n",
      "Reduction order for nice/marker/PowerSpectralDensity/beta: ['frequency', 'channels']\n",
      "Reduction order for nice/marker/PowerSpectralDensity/beta: ['frequency', 'channels']\n",
      "Running KolmogorovComplexity\n",
      "Elapsed time 0.09431672096252441 sec\n",
      "Reduction order for nice/marker/KolmogorovComplexity/default: ['channels']\n",
      "Filtering  at 10.42 Hz\n",
      "Performing symbolic transformation\n"
     ]
    },
    {
     "name": "stderr",
     "output_type": "stream",
     "text": [
      "[Parallel(n_jobs=24)]: Done  24 out of  24 | elapsed:    4.3s finished\n"
     ]
    },
    {
     "name": "stdout",
     "output_type": "stream",
     "text": [
      "Reduction order for nice/marker/PermutationEntropy/default: ['channels']\n",
      "Autodetected number of jobs 2\n",
      "Computing CSD\n",
      "Using 10-5 locations for CSD\n",
      "Using 2 jobs\n"
     ]
    },
    {
     "name": "stderr",
     "output_type": "stream",
     "text": [
      "[Parallel(n_jobs=2)]: Using backend LokyBackend with 2 concurrent workers.\n"
     ]
    },
    {
     "name": "stdout",
     "output_type": "stream",
     "text": [
      "Filtering  at 10.42 Hz\n"
     ]
    },
    {
     "name": "stderr",
     "output_type": "stream",
     "text": [
      "[Parallel(n_jobs=2)]: Done  16 tasks      | elapsed:    1.7s\n",
      "[Parallel(n_jobs=2)]: Done  63 out of  63 | elapsed:    1.8s finished\n"
     ]
    },
    {
     "name": "stdout",
     "output_type": "stream",
     "text": [
      "Reduction order for nice/marker/SymbolicMutualInformation/default: ['channels_y', 'channels']\n",
      "Reduction order for nice/marker/ContingentNegativeVariation/default: ['channels']\n",
      "Reduction order for nice/marker/TimeLockedTopography/p1: ['channels', 'times']\n",
      "Reduction order for nice/marker/TimeLockedTopography/p3a: ['channels', 'times']\n",
      "Reduction order for nice/marker/TimeLockedTopography/p3a: ['channels', 'times']\n",
      "Autodetected number of jobs 24\n",
      "Effective window size : 16.384 (s)\n"
     ]
    },
    {
     "name": "stderr",
     "output_type": "stream",
     "text": [
      "[Parallel(n_jobs=24)]: Using backend LokyBackend with 24 concurrent workers.\n",
      "[Parallel(n_jobs=24)]: Done   6 out of  24 | elapsed:    3.7s remaining:   11.1s\n",
      "[Parallel(n_jobs=24)]: Done  11 out of  24 | elapsed:    3.8s remaining:    4.5s\n",
      "[Parallel(n_jobs=24)]: Done  16 out of  24 | elapsed:    3.9s remaining:    1.9s\n"
     ]
    },
    {
     "name": "stdout",
     "output_type": "stream",
     "text": [
      "Reduction order for nice/marker/PowerSpectralDensity/alpha: ['frequency', 'channels']\n",
      "Reduction order for nice/marker/PowerSpectralDensity/alpha: ['frequency', 'channels']\n",
      "Reduction order for nice/marker/PowerSpectralDensity/delta: ['frequency', 'channels']\n",
      "Reduction order for nice/marker/PowerSpectralDensity/delta: ['frequency', 'channels']\n",
      "Reduction order for nice/marker/PowerSpectralDensity/theta: ['frequency', 'channels']\n",
      "Reduction order for nice/marker/PowerSpectralDensity/theta: ['frequency', 'channels']\n",
      "Reduction order for nice/marker/PowerSpectralDensity/gamma: ['frequency', 'channels']\n",
      "Reduction order for nice/marker/PowerSpectralDensity/theta: ['frequency', 'channels']\n",
      "Reduction order for nice/marker/PowerSpectralDensity/beta: ['frequency', 'channels']\n",
      "Reduction order for nice/marker/PowerSpectralDensity/beta: ['frequency', 'channels']\n",
      "Running KolmogorovComplexity\n",
      "Elapsed time 0.05467844009399414 sec\n",
      "Reduction order for nice/marker/KolmogorovComplexity/default: ['channels']\n",
      "Filtering  at 10.42 Hz\n",
      "Performing symbolic transformation\n"
     ]
    },
    {
     "name": "stderr",
     "output_type": "stream",
     "text": [
      "[Parallel(n_jobs=24)]: Done  21 out of  24 | elapsed:    3.9s remaining:    0.6s\n",
      "[Parallel(n_jobs=24)]: Done  24 out of  24 | elapsed:    4.0s finished\n"
     ]
    },
    {
     "name": "stdout",
     "output_type": "stream",
     "text": [
      "Reduction order for nice/marker/PermutationEntropy/default: ['channels']\n",
      "Autodetected number of jobs 2\n",
      "Computing CSD\n",
      "Using 10-5 locations for CSD\n",
      "Using 2 jobs\n"
     ]
    },
    {
     "name": "stderr",
     "output_type": "stream",
     "text": [
      "[Parallel(n_jobs=2)]: Using backend LokyBackend with 2 concurrent workers.\n"
     ]
    },
    {
     "name": "stdout",
     "output_type": "stream",
     "text": [
      "Filtering  at 10.42 Hz\n"
     ]
    },
    {
     "name": "stderr",
     "output_type": "stream",
     "text": [
      "[Parallel(n_jobs=2)]: Done  18 tasks      | elapsed:    1.7s\n",
      "[Parallel(n_jobs=2)]: Done  38 out of  38 | elapsed:    1.7s finished\n"
     ]
    },
    {
     "name": "stdout",
     "output_type": "stream",
     "text": [
      "Reduction order for nice/marker/SymbolicMutualInformation/default: ['channels_y', 'channels']\n",
      "Reduction order for nice/marker/ContingentNegativeVariation/default: ['channels']\n",
      "Reduction order for nice/marker/TimeLockedTopography/p1: ['channels', 'times']\n",
      "Reduction order for nice/marker/TimeLockedTopography/p3a: ['channels', 'times']\n",
      "Reduction order for nice/marker/TimeLockedTopography/p3a: ['channels', 'times']\n",
      "Autodetected number of jobs 24\n",
      "Effective window size : 16.384 (s)\n"
     ]
    },
    {
     "name": "stderr",
     "output_type": "stream",
     "text": [
      "[Parallel(n_jobs=24)]: Using backend LokyBackend with 24 concurrent workers.\n",
      "[Parallel(n_jobs=24)]: Done   6 out of  24 | elapsed:    3.7s remaining:   11.1s\n",
      "[Parallel(n_jobs=24)]: Done  11 out of  24 | elapsed:    3.7s remaining:    4.4s\n",
      "[Parallel(n_jobs=24)]: Done  16 out of  24 | elapsed:    3.8s remaining:    1.9s\n",
      "[Parallel(n_jobs=24)]: Done  21 out of  24 | elapsed:    3.9s remaining:    0.6s\n"
     ]
    },
    {
     "name": "stdout",
     "output_type": "stream",
     "text": [
      "Reduction order for nice/marker/PowerSpectralDensity/alpha: ['frequency', 'channels']\n",
      "Reduction order for nice/marker/PowerSpectralDensity/alpha: ['frequency', 'channels']\n",
      "Reduction order for nice/marker/PowerSpectralDensity/delta: ['frequency', 'channels']\n",
      "Reduction order for nice/marker/PowerSpectralDensity/delta: ['frequency', 'channels']\n",
      "Reduction order for nice/marker/PowerSpectralDensity/theta: ['frequency', 'channels']\n",
      "Reduction order for nice/marker/PowerSpectralDensity/theta: ['frequency', 'channels']\n",
      "Reduction order for nice/marker/PowerSpectralDensity/gamma: ['frequency', 'channels']\n",
      "Reduction order for nice/marker/PowerSpectralDensity/theta: ['frequency', 'channels']\n",
      "Reduction order for nice/marker/PowerSpectralDensity/beta: ['frequency', 'channels']\n",
      "Reduction order for nice/marker/PowerSpectralDensity/beta: ['frequency', 'channels']\n",
      "Running KolmogorovComplexity\n",
      "Elapsed time 0.01148843765258789 sec\n",
      "Reduction order for nice/marker/KolmogorovComplexity/default: ['channels']\n",
      "Filtering  at 10.42 Hz\n",
      "Performing symbolic transformation\n"
     ]
    },
    {
     "name": "stderr",
     "output_type": "stream",
     "text": [
      "[Parallel(n_jobs=24)]: Done  24 out of  24 | elapsed:    3.9s finished\n"
     ]
    },
    {
     "name": "stdout",
     "output_type": "stream",
     "text": [
      "Reduction order for nice/marker/PermutationEntropy/default: ['channels']\n",
      "Autodetected number of jobs 2\n",
      "Computing CSD\n",
      "Using 10-5 locations for CSD\n",
      "Using 2 jobs\n"
     ]
    },
    {
     "name": "stderr",
     "output_type": "stream",
     "text": [
      "[Parallel(n_jobs=2)]: Using backend LokyBackend with 2 concurrent workers.\n"
     ]
    },
    {
     "name": "stdout",
     "output_type": "stream",
     "text": [
      "Filtering  at 10.42 Hz\n",
      "Reduction order for nice/marker/SymbolicMutualInformation/default: ['channels_y', 'channels']\n",
      "Reduction order for nice/marker/ContingentNegativeVariation/default: ['channels']\n",
      "Reduction order for nice/marker/TimeLockedTopography/p1: ['channels', 'times']\n",
      "Reduction order for nice/marker/TimeLockedTopography/p3a: ['channels', 'times']\n",
      "Reduction order for nice/marker/TimeLockedTopography/p3a: ['channels', 'times']\n",
      "Autodetected number of jobs 24\n",
      "Effective window size : 16.384 (s)\n"
     ]
    },
    {
     "name": "stderr",
     "output_type": "stream",
     "text": [
      "[Parallel(n_jobs=2)]: Done   8 out of   8 | elapsed:    1.7s finished\n",
      "[Parallel(n_jobs=24)]: Using backend LokyBackend with 24 concurrent workers.\n",
      "[Parallel(n_jobs=24)]: Done   6 out of  24 | elapsed:    3.7s remaining:   11.0s\n",
      "[Parallel(n_jobs=24)]: Done  11 out of  24 | elapsed:    3.8s remaining:    4.4s\n",
      "[Parallel(n_jobs=24)]: Done  16 out of  24 | elapsed:    3.8s remaining:    1.9s\n",
      "[Parallel(n_jobs=24)]: Done  21 out of  24 | elapsed:    3.9s remaining:    0.6s\n"
     ]
    },
    {
     "name": "stdout",
     "output_type": "stream",
     "text": [
      "Reduction order for nice/marker/PowerSpectralDensity/alpha: ['frequency', 'channels']\n",
      "Reduction order for nice/marker/PowerSpectralDensity/alpha: ['frequency', 'channels']\n",
      "Reduction order for nice/marker/PowerSpectralDensity/delta: ['frequency', 'channels']\n",
      "Reduction order for nice/marker/PowerSpectralDensity/delta: ['frequency', 'channels']\n",
      "Reduction order for nice/marker/PowerSpectralDensity/theta: ['frequency', 'channels']\n",
      "Reduction order for nice/marker/PowerSpectralDensity/theta: ['frequency', 'channels']\n",
      "Reduction order for nice/marker/PowerSpectralDensity/gamma: ['frequency', 'channels']\n",
      "Reduction order for nice/marker/PowerSpectralDensity/theta: ['frequency', 'channels']\n",
      "Reduction order for nice/marker/PowerSpectralDensity/beta: ['frequency', 'channels']\n",
      "Reduction order for nice/marker/PowerSpectralDensity/beta: ['frequency', 'channels']\n",
      "Running KolmogorovComplexity\n",
      "Elapsed time 0.002676725387573242 sec\n",
      "Reduction order for nice/marker/KolmogorovComplexity/default: ['channels']\n",
      "Filtering  at 10.42 Hz\n",
      "Performing symbolic transformation\n"
     ]
    },
    {
     "name": "stderr",
     "output_type": "stream",
     "text": [
      "[Parallel(n_jobs=24)]: Done  24 out of  24 | elapsed:    4.0s finished\n"
     ]
    },
    {
     "name": "stdout",
     "output_type": "stream",
     "text": [
      "Reduction order for nice/marker/PermutationEntropy/default: ['channels']\n",
      "Autodetected number of jobs 2\n",
      "Computing CSD\n",
      "Using 10-5 locations for CSD\n",
      "Using 2 jobs\n"
     ]
    },
    {
     "name": "stderr",
     "output_type": "stream",
     "text": [
      "[Parallel(n_jobs=2)]: Using backend LokyBackend with 2 concurrent workers.\n"
     ]
    },
    {
     "name": "stdout",
     "output_type": "stream",
     "text": [
      "Filtering  at 10.42 Hz\n",
      "Reduction order for nice/marker/SymbolicMutualInformation/default: ['channels_y', 'channels']\n",
      "Reduction order for nice/marker/ContingentNegativeVariation/default: ['channels']\n",
      "Reduction order for nice/marker/TimeLockedTopography/p1: ['channels', 'times']\n",
      "Reduction order for nice/marker/TimeLockedTopography/p3a: ['channels', 'times']\n",
      "Reduction order for nice/marker/TimeLockedTopography/p3a: ['channels', 'times']\n",
      "Autodetected number of jobs 24\n",
      "Effective window size : 16.384 (s)\n"
     ]
    },
    {
     "name": "stderr",
     "output_type": "stream",
     "text": [
      "[Parallel(n_jobs=2)]: Done   2 out of   2 | elapsed:    1.7s remaining:    0.0s\n",
      "[Parallel(n_jobs=2)]: Done   2 out of   2 | elapsed:    1.7s finished\n",
      "[Parallel(n_jobs=24)]: Using backend LokyBackend with 24 concurrent workers.\n",
      "[Parallel(n_jobs=24)]: Done   6 out of  24 | elapsed:    3.8s remaining:   11.5s\n",
      "[Parallel(n_jobs=24)]: Done  11 out of  24 | elapsed:    3.9s remaining:    4.6s\n",
      "[Parallel(n_jobs=24)]: Done  16 out of  24 | elapsed:    4.1s remaining:    2.1s\n",
      "[Parallel(n_jobs=24)]: Done  21 out of  24 | elapsed:    4.3s remaining:    0.6s\n"
     ]
    },
    {
     "name": "stdout",
     "output_type": "stream",
     "text": [
      "Reduction order for nice/marker/PowerSpectralDensity/alpha: ['frequency', 'channels']\n",
      "Reduction order for nice/marker/PowerSpectralDensity/alpha: ['frequency', 'channels']\n",
      "Reduction order for nice/marker/PowerSpectralDensity/delta: ['frequency', 'channels']\n",
      "Reduction order for nice/marker/PowerSpectralDensity/delta: ['frequency', 'channels']\n",
      "Reduction order for nice/marker/PowerSpectralDensity/theta: ['frequency', 'channels']\n",
      "Reduction order for nice/marker/PowerSpectralDensity/theta: ['frequency', 'channels']\n",
      "Reduction order for nice/marker/PowerSpectralDensity/gamma: ['frequency', 'channels']\n",
      "Reduction order for nice/marker/PowerSpectralDensity/theta: ['frequency', 'channels']\n",
      "Reduction order for nice/marker/PowerSpectralDensity/beta: ['frequency', 'channels']\n",
      "Reduction order for nice/marker/PowerSpectralDensity/beta: ['frequency', 'channels']\n",
      "Running KolmogorovComplexity\n",
      "Elapsed time 0.02673029899597168 sec\n",
      "Reduction order for nice/marker/KolmogorovComplexity/default: ['channels']\n",
      "Filtering  at 10.42 Hz\n",
      "Performing symbolic transformation\n"
     ]
    },
    {
     "name": "stderr",
     "output_type": "stream",
     "text": [
      "[Parallel(n_jobs=24)]: Done  24 out of  24 | elapsed:    4.4s finished\n"
     ]
    },
    {
     "name": "stdout",
     "output_type": "stream",
     "text": [
      "Reduction order for nice/marker/PermutationEntropy/default: ['channels']\n",
      "Autodetected number of jobs 2\n",
      "Computing CSD\n",
      "Using 10-5 locations for CSD\n",
      "Using 2 jobs\n"
     ]
    },
    {
     "name": "stderr",
     "output_type": "stream",
     "text": [
      "[Parallel(n_jobs=2)]: Using backend LokyBackend with 2 concurrent workers.\n"
     ]
    },
    {
     "name": "stdout",
     "output_type": "stream",
     "text": [
      "Filtering  at 10.42 Hz\n",
      "Reduction order for nice/marker/SymbolicMutualInformation/default: ['channels_y', 'channels']\n",
      "Reduction order for nice/marker/ContingentNegativeVariation/default: ['channels']\n",
      "Reduction order for nice/marker/TimeLockedTopography/p1: ['channels', 'times']\n",
      "Reduction order for nice/marker/TimeLockedTopography/p3a: ['channels', 'times']\n",
      "Reduction order for nice/marker/TimeLockedTopography/p3a: ['channels', 'times']\n"
     ]
    },
    {
     "name": "stderr",
     "output_type": "stream",
     "text": [
      "[Parallel(n_jobs=2)]: Done  15 out of  15 | elapsed:    1.7s finished\n"
     ]
    },
    {
     "name": "stdout",
     "output_type": "stream",
     "text": [
      "Autodetected number of jobs 24\n",
      "Effective window size : 16.384 (s)\n"
     ]
    },
    {
     "name": "stderr",
     "output_type": "stream",
     "text": [
      "[Parallel(n_jobs=24)]: Using backend LokyBackend with 24 concurrent workers.\n",
      "[Parallel(n_jobs=24)]: Done   6 out of  24 | elapsed:    4.4s remaining:   13.1s\n",
      "[Parallel(n_jobs=24)]: Done  11 out of  24 | elapsed:    4.4s remaining:    5.3s\n",
      "[Parallel(n_jobs=24)]: Done  16 out of  24 | elapsed:    4.6s remaining:    2.3s\n",
      "[Parallel(n_jobs=24)]: Done  21 out of  24 | elapsed:    4.7s remaining:    0.7s\n",
      "[Parallel(n_jobs=24)]: Done  24 out of  24 | elapsed:    4.7s finished\n"
     ]
    },
    {
     "name": "stdout",
     "output_type": "stream",
     "text": [
      "Reduction order for nice/marker/PowerSpectralDensity/alpha: ['frequency', 'channels']\n",
      "Reduction order for nice/marker/PowerSpectralDensity/alpha: ['frequency', 'channels']\n",
      "Reduction order for nice/marker/PowerSpectralDensity/delta: ['frequency', 'channels']\n",
      "Reduction order for nice/marker/PowerSpectralDensity/delta: ['frequency', 'channels']\n",
      "Reduction order for nice/marker/PowerSpectralDensity/theta: ['frequency', 'channels']\n",
      "Reduction order for nice/marker/PowerSpectralDensity/theta: ['frequency', 'channels']\n",
      "Reduction order for nice/marker/PowerSpectralDensity/gamma: ['frequency', 'channels']\n",
      "Reduction order for nice/marker/PowerSpectralDensity/theta: ['frequency', 'channels']\n",
      "Reduction order for nice/marker/PowerSpectralDensity/beta: ['frequency', 'channels']\n",
      "Reduction order for nice/marker/PowerSpectralDensity/beta: ['frequency', 'channels']\n",
      "Running KolmogorovComplexity\n",
      "Elapsed time 0.3373711109161377 sec\n",
      "Reduction order for nice/marker/KolmogorovComplexity/default: ['channels']\n",
      "Filtering  at 10.42 Hz\n",
      "Performing symbolic transformation\n",
      "Reduction order for nice/marker/PermutationEntropy/default: ['channels']\n",
      "Autodetected number of jobs 2\n",
      "Computing CSD\n",
      "Using 10-5 locations for CSD\n",
      "Using 2 jobs\n"
     ]
    },
    {
     "name": "stderr",
     "output_type": "stream",
     "text": [
      "[Parallel(n_jobs=2)]: Using backend LokyBackend with 2 concurrent workers.\n",
      "[Parallel(n_jobs=2)]: Done  18 tasks      | elapsed:    1.7s\n"
     ]
    },
    {
     "name": "stdout",
     "output_type": "stream",
     "text": [
      "Filtering  at 10.42 Hz\n"
     ]
    },
    {
     "name": "stderr",
     "output_type": "stream",
     "text": [
      "[Parallel(n_jobs=2)]: Done 234 out of 234 | elapsed:    1.9s finished\n"
     ]
    },
    {
     "name": "stdout",
     "output_type": "stream",
     "text": [
      "Reduction order for nice/marker/SymbolicMutualInformation/default: ['channels_y', 'channels']\n",
      "Reduction order for nice/marker/ContingentNegativeVariation/default: ['channels']\n",
      "Reduction order for nice/marker/TimeLockedTopography/p1: ['channels', 'times']\n",
      "Reduction order for nice/marker/TimeLockedTopography/p3a: ['channels', 'times']\n",
      "Reduction order for nice/marker/TimeLockedTopography/p3a: ['channels', 'times']\n",
      "Autodetected number of jobs 24\n",
      "Effective window size : 16.384 (s)\n"
     ]
    },
    {
     "name": "stderr",
     "output_type": "stream",
     "text": [
      "[Parallel(n_jobs=24)]: Using backend LokyBackend with 24 concurrent workers.\n",
      "[Parallel(n_jobs=24)]: Done   6 out of  24 | elapsed:    3.9s remaining:   11.6s\n",
      "[Parallel(n_jobs=24)]: Done  11 out of  24 | elapsed:    4.0s remaining:    4.7s\n",
      "[Parallel(n_jobs=24)]: Done  16 out of  24 | elapsed:    4.1s remaining:    2.0s\n"
     ]
    },
    {
     "name": "stdout",
     "output_type": "stream",
     "text": [
      "Reduction order for nice/marker/PowerSpectralDensity/alpha: ['frequency', 'channels']\n",
      "Reduction order for nice/marker/PowerSpectralDensity/alpha: ['frequency', 'channels']\n",
      "Reduction order for nice/marker/PowerSpectralDensity/delta: ['frequency', 'channels']\n",
      "Reduction order for nice/marker/PowerSpectralDensity/delta: ['frequency', 'channels']\n",
      "Reduction order for nice/marker/PowerSpectralDensity/theta: ['frequency', 'channels']\n",
      "Reduction order for nice/marker/PowerSpectralDensity/theta: ['frequency', 'channels']\n",
      "Reduction order for nice/marker/PowerSpectralDensity/gamma: ['frequency', 'channels']\n",
      "Reduction order for nice/marker/PowerSpectralDensity/theta: ['frequency', 'channels']\n",
      "Reduction order for nice/marker/PowerSpectralDensity/beta: ['frequency', 'channels']\n",
      "Reduction order for nice/marker/PowerSpectralDensity/beta: ['frequency', 'channels']\n",
      "Running KolmogorovComplexity\n"
     ]
    },
    {
     "name": "stderr",
     "output_type": "stream",
     "text": [
      "[Parallel(n_jobs=24)]: Done  21 out of  24 | elapsed:    4.1s remaining:    0.6s\n",
      "[Parallel(n_jobs=24)]: Done  24 out of  24 | elapsed:    4.2s finished\n"
     ]
    },
    {
     "name": "stdout",
     "output_type": "stream",
     "text": [
      "Elapsed time 0.08018326759338379 sec\n",
      "Reduction order for nice/marker/KolmogorovComplexity/default: ['channels']\n",
      "Filtering  at 10.42 Hz\n",
      "Performing symbolic transformation\n",
      "Reduction order for nice/marker/PermutationEntropy/default: ['channels']\n",
      "Autodetected number of jobs 2\n",
      "Computing CSD\n",
      "Using 10-5 locations for CSD\n",
      "Using 2 jobs\n"
     ]
    },
    {
     "name": "stderr",
     "output_type": "stream",
     "text": [
      "[Parallel(n_jobs=2)]: Using backend LokyBackend with 2 concurrent workers.\n"
     ]
    },
    {
     "name": "stdout",
     "output_type": "stream",
     "text": [
      "Filtering  at 10.42 Hz\n"
     ]
    },
    {
     "name": "stderr",
     "output_type": "stream",
     "text": [
      "[Parallel(n_jobs=2)]: Done  18 tasks      | elapsed:    1.8s\n",
      "[Parallel(n_jobs=2)]: Done  53 out of  53 | elapsed:    1.8s finished\n"
     ]
    },
    {
     "name": "stdout",
     "output_type": "stream",
     "text": [
      "Reduction order for nice/marker/SymbolicMutualInformation/default: ['channels_y', 'channels']\n",
      "Reduction order for nice/marker/ContingentNegativeVariation/default: ['channels']\n",
      "Reduction order for nice/marker/TimeLockedTopography/p1: ['channels', 'times']\n",
      "Reduction order for nice/marker/TimeLockedTopography/p3a: ['channels', 'times']\n",
      "Reduction order for nice/marker/TimeLockedTopography/p3a: ['channels', 'times']\n",
      "\n",
      "#########################################\n",
      "Computing markers for participant VP31\n",
      "#########################################\n",
      "\n",
      "Reading /media/nicolas.bruno/63f8a366-34b7-4896-a7ce-b5fb4ee78535/Nico/MW_eeg_data/minmarker/VP31/VP31_evoked_ar_subtracted_epo.fif ...\n",
      "    Found the data of interest:\n",
      "        t =    -200.00 ...     600.00 ms\n",
      "        0 CTF compensation matrices available\n",
      "Not setting metadata\n",
      "Not setting metadata\n",
      "169 matching events found\n",
      "No baseline correction applied\n",
      "0 projection items activated\n",
      "Reading /media/nicolas.bruno/63f8a366-34b7-4896-a7ce-b5fb4ee78535/Nico/MW_eeg_data/minmarker/VP31/VP31_evoked_ar_rereferenced_epo.fif ...\n",
      "    Found the data of interest:\n",
      "        t =    -200.00 ...     600.00 ms\n",
      "        0 CTF compensation matrices available\n",
      "Not setting metadata\n",
      "Not setting metadata\n",
      "169 matching events found\n",
      "No baseline correction applied\n",
      "0 projection items activated\n",
      "Autodetected number of jobs 24\n",
      "Effective window size : 16.384 (s)\n"
     ]
    },
    {
     "name": "stderr",
     "output_type": "stream",
     "text": [
      "[Parallel(n_jobs=24)]: Using backend LokyBackend with 24 concurrent workers.\n",
      "[Parallel(n_jobs=24)]: Done   6 out of  24 | elapsed:    4.0s remaining:   11.9s\n",
      "[Parallel(n_jobs=24)]: Done  11 out of  24 | elapsed:    4.0s remaining:    4.8s\n",
      "[Parallel(n_jobs=24)]: Done  16 out of  24 | elapsed:    4.1s remaining:    2.0s\n"
     ]
    },
    {
     "name": "stdout",
     "output_type": "stream",
     "text": [
      "Reduction order for nice/marker/PowerSpectralDensity/alpha: ['frequency', 'channels']\n",
      "Reduction order for nice/marker/PowerSpectralDensity/alpha: ['frequency', 'channels']\n",
      "Reduction order for nice/marker/PowerSpectralDensity/delta: ['frequency', 'channels']\n",
      "Reduction order for nice/marker/PowerSpectralDensity/delta: ['frequency', 'channels']\n",
      "Reduction order for nice/marker/PowerSpectralDensity/theta: ['frequency', 'channels']\n",
      "Reduction order for nice/marker/PowerSpectralDensity/theta: ['frequency', 'channels']\n",
      "Reduction order for nice/marker/PowerSpectralDensity/gamma: ['frequency', 'channels']\n",
      "Reduction order for nice/marker/PowerSpectralDensity/theta: ['frequency', 'channels']\n",
      "Reduction order for nice/marker/PowerSpectralDensity/beta: ['frequency', 'channels']\n",
      "Reduction order for nice/marker/PowerSpectralDensity/beta: ['frequency', 'channels']\n",
      "Running KolmogorovComplexity\n",
      "Elapsed time 0.08996891975402832 sec\n"
     ]
    },
    {
     "name": "stderr",
     "output_type": "stream",
     "text": [
      "[Parallel(n_jobs=24)]: Done  21 out of  24 | elapsed:    4.2s remaining:    0.6s\n",
      "[Parallel(n_jobs=24)]: Done  24 out of  24 | elapsed:    4.3s finished\n"
     ]
    },
    {
     "name": "stdout",
     "output_type": "stream",
     "text": [
      "Reduction order for nice/marker/KolmogorovComplexity/default: ['channels']\n",
      "Filtering  at 10.42 Hz\n",
      "Performing symbolic transformation\n",
      "Reduction order for nice/marker/PermutationEntropy/default: ['channels']\n",
      "Autodetected number of jobs 2\n",
      "Computing CSD\n",
      "Using 10-5 locations for CSD\n",
      "Using 2 jobs\n"
     ]
    },
    {
     "name": "stderr",
     "output_type": "stream",
     "text": [
      "[Parallel(n_jobs=2)]: Using backend LokyBackend with 2 concurrent workers.\n"
     ]
    },
    {
     "name": "stdout",
     "output_type": "stream",
     "text": [
      "Filtering  at 10.42 Hz\n"
     ]
    },
    {
     "name": "stderr",
     "output_type": "stream",
     "text": [
      "[Parallel(n_jobs=2)]: Done  18 tasks      | elapsed:    1.8s\n",
      "[Parallel(n_jobs=2)]: Done  63 out of  63 | elapsed:    1.9s finished\n"
     ]
    },
    {
     "name": "stdout",
     "output_type": "stream",
     "text": [
      "Reduction order for nice/marker/SymbolicMutualInformation/default: ['channels_y', 'channels']\n",
      "Reduction order for nice/marker/ContingentNegativeVariation/default: ['channels']\n",
      "Reduction order for nice/marker/TimeLockedTopography/p1: ['channels', 'times']\n",
      "Reduction order for nice/marker/TimeLockedTopography/p3a: ['channels', 'times']\n",
      "Reduction order for nice/marker/TimeLockedTopography/p3a: ['channels', 'times']\n",
      "Autodetected number of jobs 24\n",
      "Effective window size : 16.384 (s)\n"
     ]
    },
    {
     "name": "stderr",
     "output_type": "stream",
     "text": [
      "[Parallel(n_jobs=24)]: Using backend LokyBackend with 24 concurrent workers.\n",
      "[Parallel(n_jobs=24)]: Done   6 out of  24 | elapsed:    4.0s remaining:   12.1s\n",
      "[Parallel(n_jobs=24)]: Done  11 out of  24 | elapsed:    4.2s remaining:    5.0s\n",
      "[Parallel(n_jobs=24)]: Done  16 out of  24 | elapsed:    4.3s remaining:    2.2s\n"
     ]
    },
    {
     "name": "stdout",
     "output_type": "stream",
     "text": [
      "Reduction order for nice/marker/PowerSpectralDensity/alpha: ['frequency', 'channels']\n",
      "Reduction order for nice/marker/PowerSpectralDensity/alpha: ['frequency', 'channels']\n",
      "Reduction order for nice/marker/PowerSpectralDensity/delta: ['frequency', 'channels']\n",
      "Reduction order for nice/marker/PowerSpectralDensity/delta: ['frequency', 'channels']\n",
      "Reduction order for nice/marker/PowerSpectralDensity/theta: ['frequency', 'channels']\n",
      "Reduction order for nice/marker/PowerSpectralDensity/theta: ['frequency', 'channels']\n",
      "Reduction order for nice/marker/PowerSpectralDensity/gamma: ['frequency', 'channels']\n",
      "Reduction order for nice/marker/PowerSpectralDensity/theta: ['frequency', 'channels']\n",
      "Reduction order for nice/marker/PowerSpectralDensity/beta: ['frequency', 'channels']\n",
      "Reduction order for nice/marker/PowerSpectralDensity/beta: ['frequency', 'channels']\n",
      "Running KolmogorovComplexity\n",
      "Elapsed time 0.05169105529785156 sec\n",
      "Reduction order for nice/marker/KolmogorovComplexity/default: ['channels']\n",
      "Filtering  at 10.42 Hz\n",
      "Performing symbolic transformation\n"
     ]
    },
    {
     "name": "stderr",
     "output_type": "stream",
     "text": [
      "[Parallel(n_jobs=24)]: Done  21 out of  24 | elapsed:    4.5s remaining:    0.6s\n",
      "[Parallel(n_jobs=24)]: Done  24 out of  24 | elapsed:    4.6s finished\n"
     ]
    },
    {
     "name": "stdout",
     "output_type": "stream",
     "text": [
      "Reduction order for nice/marker/PermutationEntropy/default: ['channels']\n",
      "Autodetected number of jobs 2\n",
      "Computing CSD\n",
      "Using 10-5 locations for CSD\n",
      "Using 2 jobs\n"
     ]
    },
    {
     "name": "stderr",
     "output_type": "stream",
     "text": [
      "[Parallel(n_jobs=2)]: Using backend LokyBackend with 2 concurrent workers.\n"
     ]
    },
    {
     "name": "stdout",
     "output_type": "stream",
     "text": [
      "Filtering  at 10.42 Hz\n"
     ]
    },
    {
     "name": "stderr",
     "output_type": "stream",
     "text": [
      "[Parallel(n_jobs=2)]: Done  18 tasks      | elapsed:    1.7s\n",
      "[Parallel(n_jobs=2)]: Done  38 out of  38 | elapsed:    1.8s finished\n"
     ]
    },
    {
     "name": "stdout",
     "output_type": "stream",
     "text": [
      "Reduction order for nice/marker/SymbolicMutualInformation/default: ['channels_y', 'channels']\n",
      "Reduction order for nice/marker/ContingentNegativeVariation/default: ['channels']\n",
      "Reduction order for nice/marker/TimeLockedTopography/p1: ['channels', 'times']\n",
      "Reduction order for nice/marker/TimeLockedTopography/p3a: ['channels', 'times']\n",
      "Reduction order for nice/marker/TimeLockedTopography/p3a: ['channels', 'times']\n",
      "Autodetected number of jobs 24\n",
      "Effective window size : 16.384 (s)\n"
     ]
    },
    {
     "name": "stderr",
     "output_type": "stream",
     "text": [
      "[Parallel(n_jobs=24)]: Using backend LokyBackend with 24 concurrent workers.\n",
      "[Parallel(n_jobs=24)]: Done   6 out of  24 | elapsed:    3.9s remaining:   11.7s\n",
      "[Parallel(n_jobs=24)]: Done  11 out of  24 | elapsed:    4.0s remaining:    4.7s\n",
      "[Parallel(n_jobs=24)]: Done  16 out of  24 | elapsed:    4.1s remaining:    2.1s\n",
      "[Parallel(n_jobs=24)]: Done  21 out of  24 | elapsed:    4.3s remaining:    0.6s\n"
     ]
    },
    {
     "name": "stdout",
     "output_type": "stream",
     "text": [
      "Reduction order for nice/marker/PowerSpectralDensity/alpha: ['frequency', 'channels']\n",
      "Reduction order for nice/marker/PowerSpectralDensity/alpha: ['frequency', 'channels']\n",
      "Reduction order for nice/marker/PowerSpectralDensity/delta: ['frequency', 'channels']\n",
      "Reduction order for nice/marker/PowerSpectralDensity/delta: ['frequency', 'channels']\n",
      "Reduction order for nice/marker/PowerSpectralDensity/theta: ['frequency', 'channels']\n",
      "Reduction order for nice/marker/PowerSpectralDensity/theta: ['frequency', 'channels']\n",
      "Reduction order for nice/marker/PowerSpectralDensity/gamma: ['frequency', 'channels']\n",
      "Reduction order for nice/marker/PowerSpectralDensity/theta: ['frequency', 'channels']\n",
      "Reduction order for nice/marker/PowerSpectralDensity/beta: ['frequency', 'channels']\n",
      "Reduction order for nice/marker/PowerSpectralDensity/beta: ['frequency', 'channels']\n",
      "Running KolmogorovComplexity\n",
      "Elapsed time 0.011081695556640625 sec\n",
      "Reduction order for nice/marker/KolmogorovComplexity/default: ['channels']\n",
      "Filtering  at 10.42 Hz\n",
      "Performing symbolic transformation\n"
     ]
    },
    {
     "name": "stderr",
     "output_type": "stream",
     "text": [
      "[Parallel(n_jobs=24)]: Done  24 out of  24 | elapsed:    4.4s finished\n"
     ]
    },
    {
     "name": "stdout",
     "output_type": "stream",
     "text": [
      "Reduction order for nice/marker/PermutationEntropy/default: ['channels']\n",
      "Autodetected number of jobs 2\n",
      "Computing CSD\n",
      "Using 10-5 locations for CSD\n",
      "Using 2 jobs\n"
     ]
    },
    {
     "name": "stderr",
     "output_type": "stream",
     "text": [
      "[Parallel(n_jobs=2)]: Using backend LokyBackend with 2 concurrent workers.\n"
     ]
    },
    {
     "name": "stdout",
     "output_type": "stream",
     "text": [
      "Filtering  at 10.42 Hz\n",
      "Reduction order for nice/marker/SymbolicMutualInformation/default: ['channels_y', 'channels']\n",
      "Reduction order for nice/marker/ContingentNegativeVariation/default: ['channels']\n",
      "Reduction order for nice/marker/TimeLockedTopography/p1: ['channels', 'times']\n",
      "Reduction order for nice/marker/TimeLockedTopography/p3a: ['channels', 'times']\n",
      "Reduction order for nice/marker/TimeLockedTopography/p3a: ['channels', 'times']\n",
      "Autodetected number of jobs 24\n",
      "Effective window size : 16.384 (s)\n"
     ]
    },
    {
     "name": "stderr",
     "output_type": "stream",
     "text": [
      "[Parallel(n_jobs=2)]: Done   8 out of   8 | elapsed:    1.7s finished\n",
      "[Parallel(n_jobs=24)]: Using backend LokyBackend with 24 concurrent workers.\n",
      "[Parallel(n_jobs=24)]: Done   6 out of  24 | elapsed:    3.8s remaining:   11.5s\n",
      "[Parallel(n_jobs=24)]: Done  11 out of  24 | elapsed:    3.9s remaining:    4.6s\n",
      "[Parallel(n_jobs=24)]: Done  16 out of  24 | elapsed:    4.0s remaining:    2.0s\n"
     ]
    },
    {
     "name": "stdout",
     "output_type": "stream",
     "text": [
      "Reduction order for nice/marker/PowerSpectralDensity/alpha: ['frequency', 'channels']\n",
      "Reduction order for nice/marker/PowerSpectralDensity/alpha: ['frequency', 'channels']\n",
      "Reduction order for nice/marker/PowerSpectralDensity/delta: ['frequency', 'channels']\n",
      "Reduction order for nice/marker/PowerSpectralDensity/delta: ['frequency', 'channels']\n",
      "Reduction order for nice/marker/PowerSpectralDensity/theta: ['frequency', 'channels']\n",
      "Reduction order for nice/marker/PowerSpectralDensity/theta: ['frequency', 'channels']\n",
      "Reduction order for nice/marker/PowerSpectralDensity/gamma: ['frequency', 'channels']\n",
      "Reduction order for nice/marker/PowerSpectralDensity/theta: ['frequency', 'channels']\n",
      "Reduction order for nice/marker/PowerSpectralDensity/beta: ['frequency', 'channels']\n",
      "Reduction order for nice/marker/PowerSpectralDensity/beta: ['frequency', 'channels']\n",
      "Running KolmogorovComplexity\n",
      "Elapsed time 0.002798795700073242 sec\n",
      "Reduction order for nice/marker/KolmogorovComplexity/default: ['channels']\n",
      "Filtering  at 10.42 Hz\n",
      "Performing symbolic transformation\n"
     ]
    },
    {
     "name": "stderr",
     "output_type": "stream",
     "text": [
      "[Parallel(n_jobs=24)]: Done  21 out of  24 | elapsed:    4.1s remaining:    0.6s\n",
      "[Parallel(n_jobs=24)]: Done  24 out of  24 | elapsed:    4.2s finished\n"
     ]
    },
    {
     "name": "stdout",
     "output_type": "stream",
     "text": [
      "Reduction order for nice/marker/PermutationEntropy/default: ['channels']\n",
      "Autodetected number of jobs 2\n",
      "Computing CSD\n",
      "Using 10-5 locations for CSD\n",
      "Using 2 jobs\n"
     ]
    },
    {
     "name": "stderr",
     "output_type": "stream",
     "text": [
      "[Parallel(n_jobs=2)]: Using backend LokyBackend with 2 concurrent workers.\n"
     ]
    },
    {
     "name": "stdout",
     "output_type": "stream",
     "text": [
      "Filtering  at 10.42 Hz\n",
      "Reduction order for nice/marker/SymbolicMutualInformation/default: ['channels_y', 'channels']\n",
      "Reduction order for nice/marker/ContingentNegativeVariation/default: ['channels']\n",
      "Reduction order for nice/marker/TimeLockedTopography/p1: ['channels', 'times']\n",
      "Reduction order for nice/marker/TimeLockedTopography/p3a: ['channels', 'times']\n",
      "Reduction order for nice/marker/TimeLockedTopography/p3a: ['channels', 'times']\n",
      "Autodetected number of jobs 24\n",
      "Effective window size : 16.384 (s)\n"
     ]
    },
    {
     "name": "stderr",
     "output_type": "stream",
     "text": [
      "[Parallel(n_jobs=2)]: Done   2 out of   2 | elapsed:    1.6s remaining:    0.0s\n",
      "[Parallel(n_jobs=2)]: Done   2 out of   2 | elapsed:    1.6s finished\n",
      "[Parallel(n_jobs=24)]: Using backend LokyBackend with 24 concurrent workers.\n",
      "[Parallel(n_jobs=24)]: Done   6 out of  24 | elapsed:    3.7s remaining:   11.0s\n",
      "[Parallel(n_jobs=24)]: Done  11 out of  24 | elapsed:    3.7s remaining:    4.4s\n",
      "[Parallel(n_jobs=24)]: Done  16 out of  24 | elapsed:    3.8s remaining:    1.9s\n"
     ]
    },
    {
     "name": "stdout",
     "output_type": "stream",
     "text": [
      "Reduction order for nice/marker/PowerSpectralDensity/alpha: ['frequency', 'channels']\n",
      "Reduction order for nice/marker/PowerSpectralDensity/alpha: ['frequency', 'channels']\n",
      "Reduction order for nice/marker/PowerSpectralDensity/delta: ['frequency', 'channels']\n",
      "Reduction order for nice/marker/PowerSpectralDensity/delta: ['frequency', 'channels']\n",
      "Reduction order for nice/marker/PowerSpectralDensity/theta: ['frequency', 'channels']\n",
      "Reduction order for nice/marker/PowerSpectralDensity/theta: ['frequency', 'channels']\n",
      "Reduction order for nice/marker/PowerSpectralDensity/gamma: ['frequency', 'channels']\n",
      "Reduction order for nice/marker/PowerSpectralDensity/theta: ['frequency', 'channels']\n",
      "Reduction order for nice/marker/PowerSpectralDensity/beta: ['frequency', 'channels']\n",
      "Reduction order for nice/marker/PowerSpectralDensity/beta: ['frequency', 'channels']\n",
      "Running KolmogorovComplexity\n",
      "Elapsed time 0.021123647689819336 sec\n",
      "Reduction order for nice/marker/KolmogorovComplexity/default: ['channels']\n",
      "Filtering  at 10.42 Hz\n",
      "Performing symbolic transformation\n"
     ]
    },
    {
     "name": "stderr",
     "output_type": "stream",
     "text": [
      "[Parallel(n_jobs=24)]: Done  21 out of  24 | elapsed:    3.9s remaining:    0.6s\n",
      "[Parallel(n_jobs=24)]: Done  24 out of  24 | elapsed:    3.9s finished\n"
     ]
    },
    {
     "name": "stdout",
     "output_type": "stream",
     "text": [
      "Reduction order for nice/marker/PermutationEntropy/default: ['channels']\n",
      "Autodetected number of jobs 2\n",
      "Computing CSD\n",
      "Using 10-5 locations for CSD\n",
      "Using 2 jobs\n"
     ]
    },
    {
     "name": "stderr",
     "output_type": "stream",
     "text": [
      "[Parallel(n_jobs=2)]: Using backend LokyBackend with 2 concurrent workers.\n"
     ]
    },
    {
     "name": "stdout",
     "output_type": "stream",
     "text": [
      "Filtering  at 10.42 Hz\n",
      "Reduction order for nice/marker/SymbolicMutualInformation/default: ['channels_y', 'channels']\n",
      "Reduction order for nice/marker/ContingentNegativeVariation/default: ['channels']\n",
      "Reduction order for nice/marker/TimeLockedTopography/p1: ['channels', 'times']\n",
      "Reduction order for nice/marker/TimeLockedTopography/p3a: ['channels', 'times']\n",
      "Reduction order for nice/marker/TimeLockedTopography/p3a: ['channels', 'times']\n",
      "Autodetected number of jobs 24\n",
      "Effective window size : 16.384 (s)\n"
     ]
    },
    {
     "name": "stderr",
     "output_type": "stream",
     "text": [
      "[Parallel(n_jobs=2)]: Done  15 out of  15 | elapsed:    1.7s finished\n",
      "[Parallel(n_jobs=24)]: Using backend LokyBackend with 24 concurrent workers.\n",
      "[Parallel(n_jobs=24)]: Done   6 out of  24 | elapsed:    3.7s remaining:   11.1s\n",
      "[Parallel(n_jobs=24)]: Done  11 out of  24 | elapsed:    3.7s remaining:    4.4s\n",
      "[Parallel(n_jobs=24)]: Done  16 out of  24 | elapsed:    3.8s remaining:    1.9s\n",
      "[Parallel(n_jobs=24)]: Done  21 out of  24 | elapsed:    3.9s remaining:    0.6s\n"
     ]
    },
    {
     "name": "stdout",
     "output_type": "stream",
     "text": [
      "Reduction order for nice/marker/PowerSpectralDensity/alpha: ['frequency', 'channels']\n",
      "Reduction order for nice/marker/PowerSpectralDensity/alpha: ['frequency', 'channels']\n",
      "Reduction order for nice/marker/PowerSpectralDensity/delta: ['frequency', 'channels']\n",
      "Reduction order for nice/marker/PowerSpectralDensity/delta: ['frequency', 'channels']\n",
      "Reduction order for nice/marker/PowerSpectralDensity/theta: ['frequency', 'channels']\n",
      "Reduction order for nice/marker/PowerSpectralDensity/theta: ['frequency', 'channels']\n",
      "Reduction order for nice/marker/PowerSpectralDensity/gamma: ['frequency', 'channels']\n",
      "Reduction order for nice/marker/PowerSpectralDensity/theta: ['frequency', 'channels']\n",
      "Reduction order for nice/marker/PowerSpectralDensity/beta: ['frequency', 'channels']\n",
      "Reduction order for nice/marker/PowerSpectralDensity/beta: ['frequency', 'channels']\n",
      "Running KolmogorovComplexity\n",
      "Elapsed time 0.03290557861328125 sec\n",
      "Reduction order for nice/marker/KolmogorovComplexity/default: ['channels']\n",
      "Filtering  at 10.42 Hz\n",
      "Performing symbolic transformation\n"
     ]
    },
    {
     "name": "stderr",
     "output_type": "stream",
     "text": [
      "[Parallel(n_jobs=24)]: Done  24 out of  24 | elapsed:    3.9s finished\n"
     ]
    },
    {
     "name": "stdout",
     "output_type": "stream",
     "text": [
      "Reduction order for nice/marker/PermutationEntropy/default: ['channels']\n",
      "Autodetected number of jobs 2\n",
      "Computing CSD\n",
      "Using 10-5 locations for CSD\n",
      "Using 2 jobs\n"
     ]
    },
    {
     "name": "stderr",
     "output_type": "stream",
     "text": [
      "/home/nicolas.bruno/anaconda3/lib/python3.7/site-packages/nice-0.1.dev0-py3.7.egg/nice/algorithms/information_theory/permutation_entropy.py:75: RuntimeWarning: divide by zero encountered in log\n",
      "  pe = np.nan_to_num(-np.nansum(count * np.log(count), axis=1))\n",
      "/home/nicolas.bruno/anaconda3/lib/python3.7/site-packages/nice-0.1.dev0-py3.7.egg/nice/algorithms/information_theory/permutation_entropy.py:75: RuntimeWarning: invalid value encountered in multiply\n",
      "  pe = np.nan_to_num(-np.nansum(count * np.log(count), axis=1))\n",
      "[Parallel(n_jobs=2)]: Using backend LokyBackend with 2 concurrent workers.\n"
     ]
    },
    {
     "name": "stdout",
     "output_type": "stream",
     "text": [
      "Filtering  at 10.42 Hz\n",
      "Reduction order for nice/marker/SymbolicMutualInformation/default: ['channels_y', 'channels']\n",
      "Reduction order for nice/marker/ContingentNegativeVariation/default: ['channels']\n",
      "Reduction order for nice/marker/TimeLockedTopography/p1: ['channels', 'times']\n",
      "Reduction order for nice/marker/TimeLockedTopography/p3a: ['channels', 'times']\n",
      "Reduction order for nice/marker/TimeLockedTopography/p3a: ['channels', 'times']\n",
      "Autodetected number of jobs 24\n",
      "Effective window size : 16.384 (s)\n"
     ]
    },
    {
     "name": "stderr",
     "output_type": "stream",
     "text": [
      "[Parallel(n_jobs=2)]: Done  16 tasks      | elapsed:    1.7s\n",
      "[Parallel(n_jobs=2)]: Done  23 out of  23 | elapsed:    1.7s finished\n",
      "[Parallel(n_jobs=24)]: Using backend LokyBackend with 24 concurrent workers.\n",
      "[Parallel(n_jobs=24)]: Done   6 out of  24 | elapsed:    3.8s remaining:   11.3s\n",
      "[Parallel(n_jobs=24)]: Done  11 out of  24 | elapsed:    3.9s remaining:    4.6s\n",
      "[Parallel(n_jobs=24)]: Done  16 out of  24 | elapsed:    3.9s remaining:    2.0s\n"
     ]
    },
    {
     "name": "stdout",
     "output_type": "stream",
     "text": [
      "Reduction order for nice/marker/PowerSpectralDensity/alpha: ['frequency', 'channels']\n",
      "Reduction order for nice/marker/PowerSpectralDensity/alpha: ['frequency', 'channels']\n",
      "Reduction order for nice/marker/PowerSpectralDensity/delta: ['frequency', 'channels']\n",
      "Reduction order for nice/marker/PowerSpectralDensity/delta: ['frequency', 'channels']\n"
     ]
    },
    {
     "name": "stderr",
     "output_type": "stream",
     "text": [
      "[Parallel(n_jobs=24)]: Done  21 out of  24 | elapsed:    4.0s remaining:    0.6s\n",
      "[Parallel(n_jobs=24)]: Done  24 out of  24 | elapsed:    4.2s finished\n"
     ]
    },
    {
     "name": "stdout",
     "output_type": "stream",
     "text": [
      "Reduction order for nice/marker/PowerSpectralDensity/theta: ['frequency', 'channels']\n",
      "Reduction order for nice/marker/PowerSpectralDensity/theta: ['frequency', 'channels']\n",
      "Reduction order for nice/marker/PowerSpectralDensity/gamma: ['frequency', 'channels']\n",
      "Reduction order for nice/marker/PowerSpectralDensity/theta: ['frequency', 'channels']\n",
      "Reduction order for nice/marker/PowerSpectralDensity/beta: ['frequency', 'channels']\n",
      "Reduction order for nice/marker/PowerSpectralDensity/beta: ['frequency', 'channels']\n",
      "Running KolmogorovComplexity\n",
      "Elapsed time 0.04898786544799805 sec\n",
      "Reduction order for nice/marker/KolmogorovComplexity/default: ['channels']\n",
      "Filtering  at 10.42 Hz\n",
      "Performing symbolic transformation\n",
      "Reduction order for nice/marker/PermutationEntropy/default: ['channels']\n",
      "Autodetected number of jobs 2\n",
      "Computing CSD\n",
      "Using 10-5 locations for CSD\n",
      "Using 2 jobs\n"
     ]
    },
    {
     "name": "stderr",
     "output_type": "stream",
     "text": [
      "[Parallel(n_jobs=2)]: Using backend LokyBackend with 2 concurrent workers.\n"
     ]
    },
    {
     "name": "stdout",
     "output_type": "stream",
     "text": [
      "Filtering  at 10.42 Hz\n"
     ]
    },
    {
     "name": "stderr",
     "output_type": "stream",
     "text": [
      "[Parallel(n_jobs=2)]: Done  18 tasks      | elapsed:    1.7s\n",
      "[Parallel(n_jobs=2)]: Done  34 out of  34 | elapsed:    1.7s finished\n"
     ]
    },
    {
     "name": "stdout",
     "output_type": "stream",
     "text": [
      "Reduction order for nice/marker/SymbolicMutualInformation/default: ['channels_y', 'channels']\n",
      "Reduction order for nice/marker/ContingentNegativeVariation/default: ['channels']\n",
      "Reduction order for nice/marker/TimeLockedTopography/p1: ['channels', 'times']\n",
      "Reduction order for nice/marker/TimeLockedTopography/p3a: ['channels', 'times']\n",
      "Reduction order for nice/marker/TimeLockedTopography/p3a: ['channels', 'times']\n",
      "Autodetected number of jobs 24\n",
      "Effective window size : 16.384 (s)\n"
     ]
    },
    {
     "name": "stderr",
     "output_type": "stream",
     "text": [
      "[Parallel(n_jobs=24)]: Using backend LokyBackend with 24 concurrent workers.\n",
      "[Parallel(n_jobs=24)]: Done   6 out of  24 | elapsed:    3.8s remaining:   11.4s\n",
      "[Parallel(n_jobs=24)]: Done  11 out of  24 | elapsed:    3.9s remaining:    4.6s\n"
     ]
    },
    {
     "name": "stdout",
     "output_type": "stream",
     "text": [
      "Reduction order for nice/marker/PowerSpectralDensity/alpha: ['frequency', 'channels']\n"
     ]
    },
    {
     "name": "stderr",
     "output_type": "stream",
     "text": [
      "[Parallel(n_jobs=24)]: Done  16 out of  24 | elapsed:    4.0s remaining:    2.0s\n",
      "[Parallel(n_jobs=24)]: Done  21 out of  24 | elapsed:    4.1s remaining:    0.6s\n",
      "[Parallel(n_jobs=24)]: Done  24 out of  24 | elapsed:    4.2s finished\n"
     ]
    },
    {
     "name": "stdout",
     "output_type": "stream",
     "text": [
      "Reduction order for nice/marker/PowerSpectralDensity/alpha: ['frequency', 'channels']\n",
      "Reduction order for nice/marker/PowerSpectralDensity/delta: ['frequency', 'channels']\n",
      "Reduction order for nice/marker/PowerSpectralDensity/delta: ['frequency', 'channels']\n",
      "Reduction order for nice/marker/PowerSpectralDensity/theta: ['frequency', 'channels']\n",
      "Reduction order for nice/marker/PowerSpectralDensity/theta: ['frequency', 'channels']\n",
      "Reduction order for nice/marker/PowerSpectralDensity/gamma: ['frequency', 'channels']\n",
      "Reduction order for nice/marker/PowerSpectralDensity/theta: ['frequency', 'channels']\n",
      "Reduction order for nice/marker/PowerSpectralDensity/beta: ['frequency', 'channels']\n",
      "Reduction order for nice/marker/PowerSpectralDensity/beta: ['frequency', 'channels']\n",
      "Running KolmogorovComplexity\n",
      "Elapsed time 0.024903297424316406 sec\n",
      "Reduction order for nice/marker/KolmogorovComplexity/default: ['channels']\n",
      "Filtering  at 10.42 Hz\n",
      "Performing symbolic transformation\n",
      "Reduction order for nice/marker/PermutationEntropy/default: ['channels']\n",
      "Autodetected number of jobs 2\n",
      "Computing CSD\n",
      "Using 10-5 locations for CSD\n",
      "Using 2 jobs\n"
     ]
    },
    {
     "name": "stderr",
     "output_type": "stream",
     "text": [
      "[Parallel(n_jobs=2)]: Using backend LokyBackend with 2 concurrent workers.\n"
     ]
    },
    {
     "name": "stdout",
     "output_type": "stream",
     "text": [
      "Filtering  at 10.42 Hz\n",
      "Reduction order for nice/marker/SymbolicMutualInformation/default: ['channels_y', 'channels']\n",
      "Reduction order for nice/marker/ContingentNegativeVariation/default: ['channels']\n",
      "Reduction order for nice/marker/TimeLockedTopography/p1: ['channels', 'times']\n",
      "Reduction order for nice/marker/TimeLockedTopography/p3a: ['channels', 'times']\n",
      "Reduction order for nice/marker/TimeLockedTopography/p3a: ['channels', 'times']\n",
      "\n",
      "#########################################\n",
      "Computing markers for participant VP32\n",
      "#########################################\n",
      "\n",
      "Reading /media/nicolas.bruno/63f8a366-34b7-4896-a7ce-b5fb4ee78535/Nico/MW_eeg_data/minmarker/VP32/VP32_evoked_ar_subtracted_epo.fif ...\n"
     ]
    },
    {
     "name": "stderr",
     "output_type": "stream",
     "text": [
      "[Parallel(n_jobs=2)]: Done  16 tasks      | elapsed:    1.7s\n",
      "[Parallel(n_jobs=2)]: Done  17 out of  17 | elapsed:    1.7s finished\n"
     ]
    },
    {
     "name": "stdout",
     "output_type": "stream",
     "text": [
      "    Found the data of interest:\n",
      "        t =    -200.00 ...     600.00 ms\n",
      "        0 CTF compensation matrices available\n",
      "Not setting metadata\n",
      "Not setting metadata\n",
      "550 matching events found\n",
      "No baseline correction applied\n",
      "0 projection items activated\n",
      "Reading /media/nicolas.bruno/63f8a366-34b7-4896-a7ce-b5fb4ee78535/Nico/MW_eeg_data/minmarker/VP32/VP32_evoked_ar_rereferenced_epo.fif ...\n",
      "    Found the data of interest:\n",
      "        t =    -200.00 ...     600.00 ms\n",
      "        0 CTF compensation matrices available\n",
      "Not setting metadata\n",
      "Not setting metadata\n",
      "550 matching events found\n",
      "No baseline correction applied\n",
      "0 projection items activated\n",
      "Autodetected number of jobs 24\n",
      "Effective window size : 16.384 (s)\n"
     ]
    },
    {
     "name": "stderr",
     "output_type": "stream",
     "text": [
      "[Parallel(n_jobs=24)]: Using backend LokyBackend with 24 concurrent workers.\n",
      "[Parallel(n_jobs=24)]: Done   6 out of  24 | elapsed:    4.0s remaining:   12.0s\n",
      "[Parallel(n_jobs=24)]: Done  11 out of  24 | elapsed:    4.0s remaining:    4.8s\n",
      "[Parallel(n_jobs=24)]: Done  16 out of  24 | elapsed:    4.1s remaining:    2.1s\n"
     ]
    },
    {
     "name": "stdout",
     "output_type": "stream",
     "text": [
      "Reduction order for nice/marker/PowerSpectralDensity/alpha: ['frequency', 'channels']\n",
      "Reduction order for nice/marker/PowerSpectralDensity/alpha: ['frequency', 'channels']\n",
      "Reduction order for nice/marker/PowerSpectralDensity/delta: ['frequency', 'channels']\n",
      "Reduction order for nice/marker/PowerSpectralDensity/delta: ['frequency', 'channels']\n",
      "Reduction order for nice/marker/PowerSpectralDensity/theta: ['frequency', 'channels']\n",
      "Reduction order for nice/marker/PowerSpectralDensity/theta: ['frequency', 'channels']\n",
      "Reduction order for nice/marker/PowerSpectralDensity/gamma: ['frequency', 'channels']\n",
      "Reduction order for nice/marker/PowerSpectralDensity/theta: ['frequency', 'channels']\n",
      "Reduction order for nice/marker/PowerSpectralDensity/beta: ['frequency', 'channels']\n",
      "Reduction order for nice/marker/PowerSpectralDensity/beta: ['frequency', 'channels']\n",
      "Running KolmogorovComplexity\n",
      "Elapsed time 0.08470344543457031 sec\n"
     ]
    },
    {
     "name": "stderr",
     "output_type": "stream",
     "text": [
      "[Parallel(n_jobs=24)]: Done  21 out of  24 | elapsed:    4.2s remaining:    0.6s\n",
      "[Parallel(n_jobs=24)]: Done  24 out of  24 | elapsed:    4.3s finished\n"
     ]
    },
    {
     "name": "stdout",
     "output_type": "stream",
     "text": [
      "Reduction order for nice/marker/KolmogorovComplexity/default: ['channels']\n",
      "Filtering  at 10.42 Hz\n",
      "Performing symbolic transformation\n",
      "Reduction order for nice/marker/PermutationEntropy/default: ['channels']\n",
      "Autodetected number of jobs 2\n",
      "Computing CSD\n",
      "Using 10-5 locations for CSD\n",
      "Using 2 jobs\n"
     ]
    },
    {
     "name": "stderr",
     "output_type": "stream",
     "text": [
      "[Parallel(n_jobs=2)]: Using backend LokyBackend with 2 concurrent workers.\n"
     ]
    },
    {
     "name": "stdout",
     "output_type": "stream",
     "text": [
      "Filtering  at 10.42 Hz\n"
     ]
    },
    {
     "name": "stderr",
     "output_type": "stream",
     "text": [
      "[Parallel(n_jobs=2)]: Done  20 tasks      | elapsed:    1.7s\n",
      "[Parallel(n_jobs=2)]: Done  63 out of  63 | elapsed:    1.8s finished\n"
     ]
    },
    {
     "name": "stdout",
     "output_type": "stream",
     "text": [
      "Reduction order for nice/marker/SymbolicMutualInformation/default: ['channels_y', 'channels']\n",
      "Reduction order for nice/marker/ContingentNegativeVariation/default: ['channels']\n",
      "Reduction order for nice/marker/TimeLockedTopography/p1: ['channels', 'times']\n",
      "Reduction order for nice/marker/TimeLockedTopography/p3a: ['channels', 'times']\n",
      "Reduction order for nice/marker/TimeLockedTopography/p3a: ['channels', 'times']\n",
      "Autodetected number of jobs 24\n",
      "Effective window size : 16.384 (s)\n"
     ]
    },
    {
     "name": "stderr",
     "output_type": "stream",
     "text": [
      "[Parallel(n_jobs=24)]: Using backend LokyBackend with 24 concurrent workers.\n",
      "[Parallel(n_jobs=24)]: Done   6 out of  24 | elapsed:    4.1s remaining:   12.2s\n",
      "[Parallel(n_jobs=24)]: Done  11 out of  24 | elapsed:    4.1s remaining:    4.9s\n",
      "[Parallel(n_jobs=24)]: Done  16 out of  24 | elapsed:    4.2s remaining:    2.1s\n",
      "[Parallel(n_jobs=24)]: Done  21 out of  24 | elapsed:    4.3s remaining:    0.6s\n",
      "[Parallel(n_jobs=24)]: Done  24 out of  24 | elapsed:    4.5s finished\n"
     ]
    },
    {
     "name": "stdout",
     "output_type": "stream",
     "text": [
      "Reduction order for nice/marker/PowerSpectralDensity/alpha: ['frequency', 'channels']\n",
      "Reduction order for nice/marker/PowerSpectralDensity/alpha: ['frequency', 'channels']\n",
      "Reduction order for nice/marker/PowerSpectralDensity/delta: ['frequency', 'channels']\n",
      "Reduction order for nice/marker/PowerSpectralDensity/delta: ['frequency', 'channels']\n",
      "Reduction order for nice/marker/PowerSpectralDensity/theta: ['frequency', 'channels']\n",
      "Reduction order for nice/marker/PowerSpectralDensity/theta: ['frequency', 'channels']\n",
      "Reduction order for nice/marker/PowerSpectralDensity/gamma: ['frequency', 'channels']\n",
      "Reduction order for nice/marker/PowerSpectralDensity/theta: ['frequency', 'channels']\n",
      "Reduction order for nice/marker/PowerSpectralDensity/beta: ['frequency', 'channels']\n",
      "Reduction order for nice/marker/PowerSpectralDensity/beta: ['frequency', 'channels']\n",
      "Running KolmogorovComplexity\n",
      "Elapsed time 0.05489850044250488 sec\n",
      "Reduction order for nice/marker/KolmogorovComplexity/default: ['channels']\n",
      "Filtering  at 10.42 Hz\n",
      "Performing symbolic transformation\n",
      "Reduction order for nice/marker/PermutationEntropy/default: ['channels']\n",
      "Autodetected number of jobs 2\n",
      "Computing CSD\n",
      "Using 10-5 locations for CSD\n",
      "Using 2 jobs\n"
     ]
    },
    {
     "name": "stderr",
     "output_type": "stream",
     "text": [
      "[Parallel(n_jobs=2)]: Using backend LokyBackend with 2 concurrent workers.\n"
     ]
    },
    {
     "name": "stdout",
     "output_type": "stream",
     "text": [
      "Filtering  at 10.42 Hz\n"
     ]
    },
    {
     "name": "stderr",
     "output_type": "stream",
     "text": [
      "[Parallel(n_jobs=2)]: Done  18 tasks      | elapsed:    1.7s\n",
      "[Parallel(n_jobs=2)]: Done  38 out of  38 | elapsed:    1.7s finished\n"
     ]
    },
    {
     "name": "stdout",
     "output_type": "stream",
     "text": [
      "Reduction order for nice/marker/SymbolicMutualInformation/default: ['channels_y', 'channels']\n",
      "Reduction order for nice/marker/ContingentNegativeVariation/default: ['channels']\n",
      "Reduction order for nice/marker/TimeLockedTopography/p1: ['channels', 'times']\n",
      "Reduction order for nice/marker/TimeLockedTopography/p3a: ['channels', 'times']\n",
      "Reduction order for nice/marker/TimeLockedTopography/p3a: ['channels', 'times']\n",
      "Autodetected number of jobs 24\n",
      "Effective window size : 16.384 (s)\n"
     ]
    },
    {
     "name": "stderr",
     "output_type": "stream",
     "text": [
      "[Parallel(n_jobs=24)]: Using backend LokyBackend with 24 concurrent workers.\n",
      "[Parallel(n_jobs=24)]: Done   6 out of  24 | elapsed:    3.7s remaining:   11.1s\n",
      "[Parallel(n_jobs=24)]: Done  11 out of  24 | elapsed:    3.8s remaining:    4.5s\n",
      "[Parallel(n_jobs=24)]: Done  16 out of  24 | elapsed:    3.9s remaining:    1.9s\n"
     ]
    },
    {
     "name": "stdout",
     "output_type": "stream",
     "text": [
      "Reduction order for nice/marker/PowerSpectralDensity/alpha: ['frequency', 'channels']\n",
      "Reduction order for nice/marker/PowerSpectralDensity/alpha: ['frequency', 'channels']\n",
      "Reduction order for nice/marker/PowerSpectralDensity/delta: ['frequency', 'channels']\n",
      "Reduction order for nice/marker/PowerSpectralDensity/delta: ['frequency', 'channels']\n",
      "Reduction order for nice/marker/PowerSpectralDensity/theta: ['frequency', 'channels']\n",
      "Reduction order for nice/marker/PowerSpectralDensity/theta: ['frequency', 'channels']\n",
      "Reduction order for nice/marker/PowerSpectralDensity/gamma: ['frequency', 'channels']\n",
      "Reduction order for nice/marker/PowerSpectralDensity/theta: ['frequency', 'channels']\n",
      "Reduction order for nice/marker/PowerSpectralDensity/beta: ['frequency', 'channels']\n",
      "Reduction order for nice/marker/PowerSpectralDensity/beta: ['frequency', 'channels']\n",
      "Running KolmogorovComplexity\n",
      "Elapsed time 0.011322975158691406 sec\n",
      "Reduction order for nice/marker/KolmogorovComplexity/default: ['channels']\n",
      "Filtering  at 10.42 Hz\n",
      "Performing symbolic transformation\n"
     ]
    },
    {
     "name": "stderr",
     "output_type": "stream",
     "text": [
      "[Parallel(n_jobs=24)]: Done  21 out of  24 | elapsed:    3.9s remaining:    0.6s\n",
      "[Parallel(n_jobs=24)]: Done  24 out of  24 | elapsed:    4.0s finished\n"
     ]
    },
    {
     "name": "stdout",
     "output_type": "stream",
     "text": [
      "Reduction order for nice/marker/PermutationEntropy/default: ['channels']\n",
      "Autodetected number of jobs 2\n",
      "Computing CSD\n",
      "Using 10-5 locations for CSD\n",
      "Using 2 jobs\n"
     ]
    },
    {
     "name": "stderr",
     "output_type": "stream",
     "text": [
      "[Parallel(n_jobs=2)]: Using backend LokyBackend with 2 concurrent workers.\n"
     ]
    },
    {
     "name": "stdout",
     "output_type": "stream",
     "text": [
      "Filtering  at 10.42 Hz\n",
      "Reduction order for nice/marker/SymbolicMutualInformation/default: ['channels_y', 'channels']\n",
      "Reduction order for nice/marker/ContingentNegativeVariation/default: ['channels']\n",
      "Reduction order for nice/marker/TimeLockedTopography/p1: ['channels', 'times']\n",
      "Reduction order for nice/marker/TimeLockedTopography/p3a: ['channels', 'times']\n",
      "Reduction order for nice/marker/TimeLockedTopography/p3a: ['channels', 'times']\n",
      "Autodetected number of jobs 24\n",
      "Effective window size : 16.384 (s)\n"
     ]
    },
    {
     "name": "stderr",
     "output_type": "stream",
     "text": [
      "[Parallel(n_jobs=2)]: Done   8 out of   8 | elapsed:    1.7s finished\n",
      "[Parallel(n_jobs=24)]: Using backend LokyBackend with 24 concurrent workers.\n",
      "[Parallel(n_jobs=24)]: Done   6 out of  24 | elapsed:    3.7s remaining:   11.1s\n",
      "[Parallel(n_jobs=24)]: Done  11 out of  24 | elapsed:    3.8s remaining:    4.5s\n",
      "[Parallel(n_jobs=24)]: Done  16 out of  24 | elapsed:    3.8s remaining:    1.9s\n"
     ]
    },
    {
     "name": "stdout",
     "output_type": "stream",
     "text": [
      "Reduction order for nice/marker/PowerSpectralDensity/alpha: ['frequency', 'channels']\n",
      "Reduction order for nice/marker/PowerSpectralDensity/alpha: ['frequency', 'channels']\n",
      "Reduction order for nice/marker/PowerSpectralDensity/delta: ['frequency', 'channels']\n",
      "Reduction order for nice/marker/PowerSpectralDensity/delta: ['frequency', 'channels']\n",
      "Reduction order for nice/marker/PowerSpectralDensity/theta: ['frequency', 'channels']\n",
      "Reduction order for nice/marker/PowerSpectralDensity/theta: ['frequency', 'channels']\n",
      "Reduction order for nice/marker/PowerSpectralDensity/gamma: ['frequency', 'channels']\n",
      "Reduction order for nice/marker/PowerSpectralDensity/theta: ['frequency', 'channels']\n",
      "Reduction order for nice/marker/PowerSpectralDensity/beta: ['frequency', 'channels']\n",
      "Reduction order for nice/marker/PowerSpectralDensity/beta: ['frequency', 'channels']\n",
      "Running KolmogorovComplexity\n",
      "Elapsed time 0.0030040740966796875 sec\n",
      "Reduction order for nice/marker/KolmogorovComplexity/default: ['channels']\n",
      "Filtering  at 10.42 Hz\n",
      "Performing symbolic transformation\n"
     ]
    },
    {
     "name": "stderr",
     "output_type": "stream",
     "text": [
      "[Parallel(n_jobs=24)]: Done  21 out of  24 | elapsed:    4.0s remaining:    0.6s\n",
      "[Parallel(n_jobs=24)]: Done  24 out of  24 | elapsed:    4.0s finished\n"
     ]
    },
    {
     "name": "stdout",
     "output_type": "stream",
     "text": [
      "Reduction order for nice/marker/PermutationEntropy/default: ['channels']\n",
      "Autodetected number of jobs 2\n",
      "Computing CSD\n",
      "Using 10-5 locations for CSD\n",
      "Using 2 jobs\n"
     ]
    },
    {
     "name": "stderr",
     "output_type": "stream",
     "text": [
      "[Parallel(n_jobs=2)]: Using backend LokyBackend with 2 concurrent workers.\n"
     ]
    },
    {
     "name": "stdout",
     "output_type": "stream",
     "text": [
      "Filtering  at 10.42 Hz\n",
      "Reduction order for nice/marker/SymbolicMutualInformation/default: ['channels_y', 'channels']\n",
      "Reduction order for nice/marker/ContingentNegativeVariation/default: ['channels']\n",
      "Reduction order for nice/marker/TimeLockedTopography/p1: ['channels', 'times']\n",
      "Reduction order for nice/marker/TimeLockedTopography/p3a: ['channels', 'times']\n",
      "Reduction order for nice/marker/TimeLockedTopography/p3a: ['channels', 'times']\n",
      "Autodetected number of jobs 24\n",
      "Effective window size : 16.384 (s)\n"
     ]
    },
    {
     "name": "stderr",
     "output_type": "stream",
     "text": [
      "[Parallel(n_jobs=2)]: Done   2 out of   2 | elapsed:    1.7s remaining:    0.0s\n",
      "[Parallel(n_jobs=2)]: Done   2 out of   2 | elapsed:    1.7s finished\n",
      "[Parallel(n_jobs=24)]: Using backend LokyBackend with 24 concurrent workers.\n",
      "[Parallel(n_jobs=24)]: Done   6 out of  24 | elapsed:    3.6s remaining:   10.9s\n",
      "[Parallel(n_jobs=24)]: Done  11 out of  24 | elapsed:    3.7s remaining:    4.3s\n",
      "[Parallel(n_jobs=24)]: Done  16 out of  24 | elapsed:    3.8s remaining:    1.9s\n",
      "[Parallel(n_jobs=24)]: Done  21 out of  24 | elapsed:    3.8s remaining:    0.5s\n"
     ]
    },
    {
     "name": "stdout",
     "output_type": "stream",
     "text": [
      "Reduction order for nice/marker/PowerSpectralDensity/alpha: ['frequency', 'channels']\n",
      "Reduction order for nice/marker/PowerSpectralDensity/alpha: ['frequency', 'channels']\n",
      "Reduction order for nice/marker/PowerSpectralDensity/delta: ['frequency', 'channels']\n",
      "Reduction order for nice/marker/PowerSpectralDensity/delta: ['frequency', 'channels']\n",
      "Reduction order for nice/marker/PowerSpectralDensity/theta: ['frequency', 'channels']\n",
      "Reduction order for nice/marker/PowerSpectralDensity/theta: ['frequency', 'channels']\n",
      "Reduction order for nice/marker/PowerSpectralDensity/gamma: ['frequency', 'channels']\n",
      "Reduction order for nice/marker/PowerSpectralDensity/theta: ['frequency', 'channels']\n",
      "Reduction order for nice/marker/PowerSpectralDensity/beta: ['frequency', 'channels']\n",
      "Reduction order for nice/marker/PowerSpectralDensity/beta: ['frequency', 'channels']\n",
      "Running KolmogorovComplexity\n",
      "Elapsed time 0.02028179168701172 sec\n",
      "Reduction order for nice/marker/KolmogorovComplexity/default: ['channels']\n",
      "Filtering  at 10.42 Hz\n",
      "Performing symbolic transformation\n"
     ]
    },
    {
     "name": "stderr",
     "output_type": "stream",
     "text": [
      "[Parallel(n_jobs=24)]: Done  24 out of  24 | elapsed:    3.9s finished\n"
     ]
    },
    {
     "name": "stdout",
     "output_type": "stream",
     "text": [
      "Reduction order for nice/marker/PermutationEntropy/default: ['channels']\n",
      "Autodetected number of jobs 2\n",
      "Computing CSD\n",
      "Using 10-5 locations for CSD\n",
      "Using 2 jobs\n"
     ]
    },
    {
     "name": "stderr",
     "output_type": "stream",
     "text": [
      "[Parallel(n_jobs=2)]: Using backend LokyBackend with 2 concurrent workers.\n"
     ]
    },
    {
     "name": "stdout",
     "output_type": "stream",
     "text": [
      "Filtering  at 10.42 Hz\n",
      "Reduction order for nice/marker/SymbolicMutualInformation/default: ['channels_y', 'channels']\n",
      "Reduction order for nice/marker/ContingentNegativeVariation/default: ['channels']\n",
      "Reduction order for nice/marker/TimeLockedTopography/p1: ['channels', 'times']\n",
      "Reduction order for nice/marker/TimeLockedTopography/p3a: ['channels', 'times']\n",
      "Reduction order for nice/marker/TimeLockedTopography/p3a: ['channels', 'times']\n",
      "Autodetected number of jobs 24\n",
      "Effective window size : 16.384 (s)\n"
     ]
    },
    {
     "name": "stderr",
     "output_type": "stream",
     "text": [
      "[Parallel(n_jobs=2)]: Done  15 out of  15 | elapsed:    1.7s finished\n",
      "[Parallel(n_jobs=24)]: Using backend LokyBackend with 24 concurrent workers.\n",
      "[Parallel(n_jobs=24)]: Done   6 out of  24 | elapsed:    4.0s remaining:   12.0s\n",
      "[Parallel(n_jobs=24)]: Done  11 out of  24 | elapsed:    4.1s remaining:    4.8s\n",
      "[Parallel(n_jobs=24)]: Done  16 out of  24 | elapsed:    4.1s remaining:    2.1s\n"
     ]
    },
    {
     "name": "stdout",
     "output_type": "stream",
     "text": [
      "Reduction order for nice/marker/PowerSpectralDensity/alpha: ['frequency', 'channels']\n",
      "Reduction order for nice/marker/PowerSpectralDensity/alpha: ['frequency', 'channels']\n",
      "Reduction order for nice/marker/PowerSpectralDensity/delta: ['frequency', 'channels']\n",
      "Reduction order for nice/marker/PowerSpectralDensity/delta: ['frequency', 'channels']\n",
      "Reduction order for nice/marker/PowerSpectralDensity/theta: ['frequency', 'channels']\n",
      "Reduction order for nice/marker/PowerSpectralDensity/theta: ['frequency', 'channels']\n"
     ]
    },
    {
     "name": "stderr",
     "output_type": "stream",
     "text": [
      "[Parallel(n_jobs=24)]: Done  21 out of  24 | elapsed:    4.2s remaining:    0.6s\n",
      "[Parallel(n_jobs=24)]: Done  24 out of  24 | elapsed:    4.3s finished\n"
     ]
    },
    {
     "name": "stdout",
     "output_type": "stream",
     "text": [
      "Reduction order for nice/marker/PowerSpectralDensity/gamma: ['frequency', 'channels']\n",
      "Reduction order for nice/marker/PowerSpectralDensity/theta: ['frequency', 'channels']\n",
      "Reduction order for nice/marker/PowerSpectralDensity/beta: ['frequency', 'channels']\n",
      "Reduction order for nice/marker/PowerSpectralDensity/beta: ['frequency', 'channels']\n",
      "Running KolmogorovComplexity\n",
      "Elapsed time 0.18518304824829102 sec\n",
      "Reduction order for nice/marker/KolmogorovComplexity/default: ['channels']\n",
      "Filtering  at 10.42 Hz\n",
      "Performing symbolic transformation\n",
      "Reduction order for nice/marker/PermutationEntropy/default: ['channels']\n",
      "Autodetected number of jobs 2\n",
      "Computing CSD\n",
      "Using 10-5 locations for CSD\n",
      "Using 2 jobs\n"
     ]
    },
    {
     "name": "stderr",
     "output_type": "stream",
     "text": [
      "[Parallel(n_jobs=2)]: Using backend LokyBackend with 2 concurrent workers.\n"
     ]
    },
    {
     "name": "stdout",
     "output_type": "stream",
     "text": [
      "Filtering  at 10.42 Hz\n"
     ]
    },
    {
     "name": "stderr",
     "output_type": "stream",
     "text": [
      "[Parallel(n_jobs=2)]: Done  18 tasks      | elapsed:    1.7s\n",
      "[Parallel(n_jobs=2)]: Done 126 out of 126 | elapsed:    1.8s finished\n"
     ]
    },
    {
     "name": "stdout",
     "output_type": "stream",
     "text": [
      "Reduction order for nice/marker/SymbolicMutualInformation/default: ['channels_y', 'channels']\n",
      "Reduction order for nice/marker/ContingentNegativeVariation/default: ['channels']\n",
      "Reduction order for nice/marker/TimeLockedTopography/p1: ['channels', 'times']\n",
      "Reduction order for nice/marker/TimeLockedTopography/p3a: ['channels', 'times']\n",
      "Reduction order for nice/marker/TimeLockedTopography/p3a: ['channels', 'times']\n",
      "Autodetected number of jobs 24\n",
      "Effective window size : 16.384 (s)\n"
     ]
    },
    {
     "name": "stderr",
     "output_type": "stream",
     "text": [
      "[Parallel(n_jobs=24)]: Using backend LokyBackend with 24 concurrent workers.\n",
      "[Parallel(n_jobs=24)]: Done   6 out of  24 | elapsed:    3.8s remaining:   11.5s\n",
      "[Parallel(n_jobs=24)]: Done  11 out of  24 | elapsed:    3.9s remaining:    4.6s\n",
      "[Parallel(n_jobs=24)]: Done  16 out of  24 | elapsed:    4.0s remaining:    2.0s\n"
     ]
    },
    {
     "name": "stdout",
     "output_type": "stream",
     "text": [
      "Reduction order for nice/marker/PowerSpectralDensity/alpha: ['frequency', 'channels']\n",
      "Reduction order for nice/marker/PowerSpectralDensity/alpha: ['frequency', 'channels']\n",
      "Reduction order for nice/marker/PowerSpectralDensity/delta: ['frequency', 'channels']\n",
      "Reduction order for nice/marker/PowerSpectralDensity/delta: ['frequency', 'channels']\n",
      "Reduction order for nice/marker/PowerSpectralDensity/theta: ['frequency', 'channels']\n",
      "Reduction order for nice/marker/PowerSpectralDensity/theta: ['frequency', 'channels']\n",
      "Reduction order for nice/marker/PowerSpectralDensity/gamma: ['frequency', 'channels']\n",
      "Reduction order for nice/marker/PowerSpectralDensity/theta: ['frequency', 'channels']\n",
      "Reduction order for nice/marker/PowerSpectralDensity/beta: ['frequency', 'channels']\n",
      "Reduction order for nice/marker/PowerSpectralDensity/beta: ['frequency', 'channels']\n",
      "Running KolmogorovComplexity\n",
      "Elapsed time 0.11241698265075684 sec\n"
     ]
    },
    {
     "name": "stderr",
     "output_type": "stream",
     "text": [
      "[Parallel(n_jobs=24)]: Done  21 out of  24 | elapsed:    4.1s remaining:    0.6s\n",
      "[Parallel(n_jobs=24)]: Done  24 out of  24 | elapsed:    4.1s finished\n"
     ]
    },
    {
     "name": "stdout",
     "output_type": "stream",
     "text": [
      "Reduction order for nice/marker/KolmogorovComplexity/default: ['channels']\n",
      "Filtering  at 10.42 Hz\n",
      "Performing symbolic transformation\n",
      "Reduction order for nice/marker/PermutationEntropy/default: ['channels']\n",
      "Autodetected number of jobs 2\n",
      "Computing CSD\n",
      "Using 10-5 locations for CSD\n",
      "Using 2 jobs\n"
     ]
    },
    {
     "name": "stderr",
     "output_type": "stream",
     "text": [
      "[Parallel(n_jobs=2)]: Using backend LokyBackend with 2 concurrent workers.\n"
     ]
    },
    {
     "name": "stdout",
     "output_type": "stream",
     "text": [
      "Filtering  at 10.42 Hz\n"
     ]
    },
    {
     "name": "stderr",
     "output_type": "stream",
     "text": [
      "[Parallel(n_jobs=2)]: Done  18 tasks      | elapsed:    1.7s\n",
      "[Parallel(n_jobs=2)]: Done  78 out of  78 | elapsed:    1.8s finished\n"
     ]
    },
    {
     "name": "stdout",
     "output_type": "stream",
     "text": [
      "Reduction order for nice/marker/SymbolicMutualInformation/default: ['channels_y', 'channels']\n",
      "Reduction order for nice/marker/ContingentNegativeVariation/default: ['channels']\n",
      "Reduction order for nice/marker/TimeLockedTopography/p1: ['channels', 'times']\n",
      "Reduction order for nice/marker/TimeLockedTopography/p3a: ['channels', 'times']\n",
      "Reduction order for nice/marker/TimeLockedTopography/p3a: ['channels', 'times']\n",
      "Autodetected number of jobs 24\n",
      "Effective window size : 16.384 (s)\n"
     ]
    },
    {
     "name": "stderr",
     "output_type": "stream",
     "text": [
      "[Parallel(n_jobs=24)]: Using backend LokyBackend with 24 concurrent workers.\n",
      "[Parallel(n_jobs=24)]: Done   6 out of  24 | elapsed:    3.7s remaining:   11.0s\n",
      "[Parallel(n_jobs=24)]: Done  11 out of  24 | elapsed:    3.7s remaining:    4.4s\n",
      "[Parallel(n_jobs=24)]: Done  16 out of  24 | elapsed:    3.8s remaining:    1.9s\n",
      "[Parallel(n_jobs=24)]: Done  21 out of  24 | elapsed:    3.9s remaining:    0.6s\n"
     ]
    },
    {
     "name": "stdout",
     "output_type": "stream",
     "text": [
      "Reduction order for nice/marker/PowerSpectralDensity/alpha: ['frequency', 'channels']\n",
      "Reduction order for nice/marker/PowerSpectralDensity/alpha: ['frequency', 'channels']\n",
      "Reduction order for nice/marker/PowerSpectralDensity/delta: ['frequency', 'channels']\n",
      "Reduction order for nice/marker/PowerSpectralDensity/delta: ['frequency', 'channels']\n",
      "Reduction order for nice/marker/PowerSpectralDensity/theta: ['frequency', 'channels']\n",
      "Reduction order for nice/marker/PowerSpectralDensity/theta: ['frequency', 'channels']\n",
      "Reduction order for nice/marker/PowerSpectralDensity/gamma: ['frequency', 'channels']\n",
      "Reduction order for nice/marker/PowerSpectralDensity/theta: ['frequency', 'channels']\n",
      "Reduction order for nice/marker/PowerSpectralDensity/beta: ['frequency', 'channels']\n",
      "Reduction order for nice/marker/PowerSpectralDensity/beta: ['frequency', 'channels']\n",
      "Running KolmogorovComplexity\n",
      "Elapsed time 0.004757881164550781 sec\n",
      "Reduction order for nice/marker/KolmogorovComplexity/default: ['channels']\n",
      "Filtering  at 10.42 Hz\n",
      "Performing symbolic transformation\n"
     ]
    },
    {
     "name": "stderr",
     "output_type": "stream",
     "text": [
      "[Parallel(n_jobs=24)]: Done  24 out of  24 | elapsed:    4.0s finished\n"
     ]
    },
    {
     "name": "stdout",
     "output_type": "stream",
     "text": [
      "Reduction order for nice/marker/PermutationEntropy/default: ['channels']\n",
      "Autodetected number of jobs 2\n",
      "Computing CSD\n",
      "Using 10-5 locations for CSD\n",
      "Using 2 jobs\n"
     ]
    },
    {
     "name": "stderr",
     "output_type": "stream",
     "text": [
      "[Parallel(n_jobs=2)]: Using backend LokyBackend with 2 concurrent workers.\n"
     ]
    },
    {
     "name": "stdout",
     "output_type": "stream",
     "text": [
      "Filtering  at 10.42 Hz\n",
      "Reduction order for nice/marker/SymbolicMutualInformation/default: ['channels_y', 'channels']\n",
      "Reduction order for nice/marker/ContingentNegativeVariation/default: ['channels']\n",
      "Reduction order for nice/marker/TimeLockedTopography/p1: ['channels', 'times']\n",
      "Reduction order for nice/marker/TimeLockedTopography/p3a: ['channels', 'times']\n",
      "Reduction order for nice/marker/TimeLockedTopography/p3a: ['channels', 'times']\n",
      "Autodetected number of jobs 24\n",
      "Effective window size : 16.384 (s)\n"
     ]
    },
    {
     "name": "stderr",
     "output_type": "stream",
     "text": [
      "[Parallel(n_jobs=2)]: Done   3 out of   3 | elapsed:    1.7s remaining:    0.0s\n",
      "[Parallel(n_jobs=2)]: Done   3 out of   3 | elapsed:    1.7s finished\n",
      "[Parallel(n_jobs=24)]: Using backend LokyBackend with 24 concurrent workers.\n",
      "[Parallel(n_jobs=24)]: Done   6 out of  24 | elapsed:    3.7s remaining:   11.0s\n",
      "[Parallel(n_jobs=24)]: Done  11 out of  24 | elapsed:    3.7s remaining:    4.4s\n",
      "[Parallel(n_jobs=24)]: Done  16 out of  24 | elapsed:    3.8s remaining:    1.9s\n"
     ]
    },
    {
     "name": "stdout",
     "output_type": "stream",
     "text": [
      "Reduction order for nice/marker/PowerSpectralDensity/alpha: ['frequency', 'channels']\n",
      "Reduction order for nice/marker/PowerSpectralDensity/alpha: ['frequency', 'channels']\n",
      "Reduction order for nice/marker/PowerSpectralDensity/delta: ['frequency', 'channels']\n",
      "Reduction order for nice/marker/PowerSpectralDensity/delta: ['frequency', 'channels']\n",
      "Reduction order for nice/marker/PowerSpectralDensity/theta: ['frequency', 'channels']\n",
      "Reduction order for nice/marker/PowerSpectralDensity/theta: ['frequency', 'channels']\n",
      "Reduction order for nice/marker/PowerSpectralDensity/gamma: ['frequency', 'channels']\n",
      "Reduction order for nice/marker/PowerSpectralDensity/theta: ['frequency', 'channels']\n",
      "Reduction order for nice/marker/PowerSpectralDensity/beta: ['frequency', 'channels']\n",
      "Reduction order for nice/marker/PowerSpectralDensity/beta: ['frequency', 'channels']\n",
      "Running KolmogorovComplexity\n",
      "Elapsed time 0.019847393035888672 sec\n",
      "Reduction order for nice/marker/KolmogorovComplexity/default: ['channels']\n",
      "Filtering  at 10.42 Hz\n",
      "Performing symbolic transformation\n"
     ]
    },
    {
     "name": "stderr",
     "output_type": "stream",
     "text": [
      "[Parallel(n_jobs=24)]: Done  21 out of  24 | elapsed:    3.9s remaining:    0.6s\n",
      "[Parallel(n_jobs=24)]: Done  24 out of  24 | elapsed:    3.9s finished\n"
     ]
    },
    {
     "name": "stdout",
     "output_type": "stream",
     "text": [
      "Reduction order for nice/marker/PermutationEntropy/default: ['channels']\n",
      "Autodetected number of jobs 2\n",
      "Computing CSD\n",
      "Using 10-5 locations for CSD\n",
      "Using 2 jobs\n"
     ]
    },
    {
     "name": "stderr",
     "output_type": "stream",
     "text": [
      "[Parallel(n_jobs=2)]: Using backend LokyBackend with 2 concurrent workers.\n"
     ]
    },
    {
     "name": "stdout",
     "output_type": "stream",
     "text": [
      "Filtering  at 10.42 Hz\n",
      "Reduction order for nice/marker/SymbolicMutualInformation/default: ['channels_y', 'channels']\n",
      "Reduction order for nice/marker/ContingentNegativeVariation/default: ['channels']\n",
      "Reduction order for nice/marker/TimeLockedTopography/p1: ['channels', 'times']\n",
      "Reduction order for nice/marker/TimeLockedTopography/p3a: ['channels', 'times']\n",
      "Reduction order for nice/marker/TimeLockedTopography/p3a: ['channels', 'times']\n",
      "\n",
      "#########################################\n",
      "Computing markers for participant VP33\n",
      "#########################################\n",
      "\n",
      "Reading /media/nicolas.bruno/63f8a366-34b7-4896-a7ce-b5fb4ee78535/Nico/MW_eeg_data/minmarker/VP33/VP33_evoked_ar_subtracted_epo.fif ...\n",
      "    Found the data of interest:\n",
      "        t =    -200.00 ...     600.00 ms\n",
      "        0 CTF compensation matrices available\n"
     ]
    },
    {
     "name": "stderr",
     "output_type": "stream",
     "text": [
      "[Parallel(n_jobs=2)]: Done  14 out of  14 | elapsed:    1.7s finished\n"
     ]
    },
    {
     "name": "stdout",
     "output_type": "stream",
     "text": [
      "Not setting metadata\n",
      "Not setting metadata\n",
      "291 matching events found\n",
      "No baseline correction applied\n",
      "0 projection items activated\n",
      "Reading /media/nicolas.bruno/63f8a366-34b7-4896-a7ce-b5fb4ee78535/Nico/MW_eeg_data/minmarker/VP33/VP33_evoked_ar_rereferenced_epo.fif ...\n",
      "    Found the data of interest:\n",
      "        t =    -200.00 ...     600.00 ms\n",
      "        0 CTF compensation matrices available\n",
      "Not setting metadata\n",
      "Not setting metadata\n",
      "291 matching events found\n",
      "No baseline correction applied\n",
      "0 projection items activated\n",
      "Autodetected number of jobs 24\n",
      "Effective window size : 16.384 (s)\n"
     ]
    },
    {
     "name": "stderr",
     "output_type": "stream",
     "text": [
      "[Parallel(n_jobs=24)]: Using backend LokyBackend with 24 concurrent workers.\n",
      "[Parallel(n_jobs=24)]: Done   6 out of  24 | elapsed:    3.9s remaining:   11.7s\n",
      "[Parallel(n_jobs=24)]: Done  11 out of  24 | elapsed:    3.9s remaining:    4.7s\n",
      "[Parallel(n_jobs=24)]: Done  16 out of  24 | elapsed:    4.0s remaining:    2.0s\n",
      "[Parallel(n_jobs=24)]: Done  21 out of  24 | elapsed:    4.0s remaining:    0.6s\n"
     ]
    },
    {
     "name": "stdout",
     "output_type": "stream",
     "text": [
      "Reduction order for nice/marker/PowerSpectralDensity/alpha: ['frequency', 'channels']\n",
      "Reduction order for nice/marker/PowerSpectralDensity/alpha: ['frequency', 'channels']\n",
      "Reduction order for nice/marker/PowerSpectralDensity/delta: ['frequency', 'channels']\n",
      "Reduction order for nice/marker/PowerSpectralDensity/delta: ['frequency', 'channels']\n",
      "Reduction order for nice/marker/PowerSpectralDensity/theta: ['frequency', 'channels']\n",
      "Reduction order for nice/marker/PowerSpectralDensity/theta: ['frequency', 'channels']\n",
      "Reduction order for nice/marker/PowerSpectralDensity/gamma: ['frequency', 'channels']\n",
      "Reduction order for nice/marker/PowerSpectralDensity/theta: ['frequency', 'channels']\n",
      "Reduction order for nice/marker/PowerSpectralDensity/beta: ['frequency', 'channels']\n",
      "Reduction order for nice/marker/PowerSpectralDensity/beta: ['frequency', 'channels']\n",
      "Running KolmogorovComplexity\n",
      "Elapsed time 0.0894477367401123 sec\n",
      "Reduction order for nice/marker/KolmogorovComplexity/default: ['channels']\n",
      "Filtering  at 10.42 Hz\n",
      "Performing symbolic transformation\n"
     ]
    },
    {
     "name": "stderr",
     "output_type": "stream",
     "text": [
      "[Parallel(n_jobs=24)]: Done  24 out of  24 | elapsed:    4.2s finished\n"
     ]
    },
    {
     "name": "stdout",
     "output_type": "stream",
     "text": [
      "Reduction order for nice/marker/PermutationEntropy/default: ['channels']\n",
      "Autodetected number of jobs 2\n",
      "Computing CSD\n",
      "Using 10-5 locations for CSD\n",
      "Using 2 jobs\n"
     ]
    },
    {
     "name": "stderr",
     "output_type": "stream",
     "text": [
      "[Parallel(n_jobs=2)]: Using backend LokyBackend with 2 concurrent workers.\n"
     ]
    },
    {
     "name": "stdout",
     "output_type": "stream",
     "text": [
      "Filtering  at 10.42 Hz\n"
     ]
    },
    {
     "name": "stderr",
     "output_type": "stream",
     "text": [
      "[Parallel(n_jobs=2)]: Done  18 tasks      | elapsed:    1.7s\n",
      "[Parallel(n_jobs=2)]: Done  63 out of  63 | elapsed:    1.8s finished\n"
     ]
    },
    {
     "name": "stdout",
     "output_type": "stream",
     "text": [
      "Reduction order for nice/marker/SymbolicMutualInformation/default: ['channels_y', 'channels']\n",
      "Reduction order for nice/marker/ContingentNegativeVariation/default: ['channels']\n",
      "Reduction order for nice/marker/TimeLockedTopography/p1: ['channels', 'times']\n",
      "Reduction order for nice/marker/TimeLockedTopography/p3a: ['channels', 'times']\n",
      "Reduction order for nice/marker/TimeLockedTopography/p3a: ['channels', 'times']\n",
      "Autodetected number of jobs 24\n",
      "Effective window size : 16.384 (s)\n"
     ]
    },
    {
     "name": "stderr",
     "output_type": "stream",
     "text": [
      "[Parallel(n_jobs=24)]: Using backend LokyBackend with 24 concurrent workers.\n",
      "[Parallel(n_jobs=24)]: Done   6 out of  24 | elapsed:    3.8s remaining:   11.4s\n",
      "[Parallel(n_jobs=24)]: Done  11 out of  24 | elapsed:    3.8s remaining:    4.5s\n",
      "[Parallel(n_jobs=24)]: Done  16 out of  24 | elapsed:    3.9s remaining:    1.9s\n",
      "[Parallel(n_jobs=24)]: Done  21 out of  24 | elapsed:    3.9s remaining:    0.6s\n"
     ]
    },
    {
     "name": "stdout",
     "output_type": "stream",
     "text": [
      "Reduction order for nice/marker/PowerSpectralDensity/alpha: ['frequency', 'channels']\n",
      "Reduction order for nice/marker/PowerSpectralDensity/alpha: ['frequency', 'channels']\n",
      "Reduction order for nice/marker/PowerSpectralDensity/delta: ['frequency', 'channels']\n",
      "Reduction order for nice/marker/PowerSpectralDensity/delta: ['frequency', 'channels']\n",
      "Reduction order for nice/marker/PowerSpectralDensity/theta: ['frequency', 'channels']\n",
      "Reduction order for nice/marker/PowerSpectralDensity/theta: ['frequency', 'channels']\n",
      "Reduction order for nice/marker/PowerSpectralDensity/gamma: ['frequency', 'channels']\n",
      "Reduction order for nice/marker/PowerSpectralDensity/theta: ['frequency', 'channels']\n",
      "Reduction order for nice/marker/PowerSpectralDensity/beta: ['frequency', 'channels']\n",
      "Reduction order for nice/marker/PowerSpectralDensity/beta: ['frequency', 'channels']\n",
      "Running KolmogorovComplexity\n",
      "Elapsed time 0.050299644470214844 sec\n",
      "Reduction order for nice/marker/KolmogorovComplexity/default: ['channels']\n",
      "Filtering  at 10.42 Hz\n",
      "Performing symbolic transformation\n"
     ]
    },
    {
     "name": "stderr",
     "output_type": "stream",
     "text": [
      "[Parallel(n_jobs=24)]: Done  24 out of  24 | elapsed:    4.0s finished\n"
     ]
    },
    {
     "name": "stdout",
     "output_type": "stream",
     "text": [
      "Reduction order for nice/marker/PermutationEntropy/default: ['channels']\n",
      "Autodetected number of jobs 2\n",
      "Computing CSD\n",
      "Using 10-5 locations for CSD\n",
      "Using 2 jobs\n"
     ]
    },
    {
     "name": "stderr",
     "output_type": "stream",
     "text": [
      "[Parallel(n_jobs=2)]: Using backend LokyBackend with 2 concurrent workers.\n"
     ]
    },
    {
     "name": "stdout",
     "output_type": "stream",
     "text": [
      "Filtering  at 10.42 Hz\n"
     ]
    },
    {
     "name": "stderr",
     "output_type": "stream",
     "text": [
      "[Parallel(n_jobs=2)]: Done  18 tasks      | elapsed:    1.7s\n",
      "[Parallel(n_jobs=2)]: Done  38 out of  38 | elapsed:    1.7s finished\n"
     ]
    },
    {
     "name": "stdout",
     "output_type": "stream",
     "text": [
      "Reduction order for nice/marker/SymbolicMutualInformation/default: ['channels_y', 'channels']\n",
      "Reduction order for nice/marker/ContingentNegativeVariation/default: ['channels']\n",
      "Reduction order for nice/marker/TimeLockedTopography/p1: ['channels', 'times']\n",
      "Reduction order for nice/marker/TimeLockedTopography/p3a: ['channels', 'times']\n",
      "Reduction order for nice/marker/TimeLockedTopography/p3a: ['channels', 'times']\n",
      "Autodetected number of jobs 24\n",
      "Effective window size : 16.384 (s)\n"
     ]
    },
    {
     "name": "stderr",
     "output_type": "stream",
     "text": [
      "[Parallel(n_jobs=24)]: Using backend LokyBackend with 24 concurrent workers.\n",
      "[Parallel(n_jobs=24)]: Done   6 out of  24 | elapsed:    3.7s remaining:   11.1s\n",
      "[Parallel(n_jobs=24)]: Done  11 out of  24 | elapsed:    3.7s remaining:    4.4s\n",
      "[Parallel(n_jobs=24)]: Done  16 out of  24 | elapsed:    3.8s remaining:    1.9s\n",
      "[Parallel(n_jobs=24)]: Done  21 out of  24 | elapsed:    3.9s remaining:    0.6s\n"
     ]
    },
    {
     "name": "stdout",
     "output_type": "stream",
     "text": [
      "Reduction order for nice/marker/PowerSpectralDensity/alpha: ['frequency', 'channels']\n",
      "Reduction order for nice/marker/PowerSpectralDensity/alpha: ['frequency', 'channels']\n",
      "Reduction order for nice/marker/PowerSpectralDensity/delta: ['frequency', 'channels']\n",
      "Reduction order for nice/marker/PowerSpectralDensity/delta: ['frequency', 'channels']\n",
      "Reduction order for nice/marker/PowerSpectralDensity/theta: ['frequency', 'channels']\n",
      "Reduction order for nice/marker/PowerSpectralDensity/theta: ['frequency', 'channels']\n",
      "Reduction order for nice/marker/PowerSpectralDensity/gamma: ['frequency', 'channels']\n",
      "Reduction order for nice/marker/PowerSpectralDensity/theta: ['frequency', 'channels']\n",
      "Reduction order for nice/marker/PowerSpectralDensity/beta: ['frequency', 'channels']\n",
      "Reduction order for nice/marker/PowerSpectralDensity/beta: ['frequency', 'channels']\n",
      "Running KolmogorovComplexity\n",
      "Elapsed time 0.01468658447265625 sec\n",
      "Reduction order for nice/marker/KolmogorovComplexity/default: ['channels']\n",
      "Filtering  at 10.42 Hz\n",
      "Performing symbolic transformation\n"
     ]
    },
    {
     "name": "stderr",
     "output_type": "stream",
     "text": [
      "[Parallel(n_jobs=24)]: Done  24 out of  24 | elapsed:    4.0s finished\n"
     ]
    },
    {
     "name": "stdout",
     "output_type": "stream",
     "text": [
      "Reduction order for nice/marker/PermutationEntropy/default: ['channels']\n",
      "Autodetected number of jobs 2\n",
      "Computing CSD\n",
      "Using 10-5 locations for CSD\n",
      "Using 2 jobs\n"
     ]
    },
    {
     "name": "stderr",
     "output_type": "stream",
     "text": [
      "[Parallel(n_jobs=2)]: Using backend LokyBackend with 2 concurrent workers.\n"
     ]
    },
    {
     "name": "stdout",
     "output_type": "stream",
     "text": [
      "Filtering  at 10.42 Hz\n",
      "Reduction order for nice/marker/SymbolicMutualInformation/default: ['channels_y', 'channels']\n",
      "Reduction order for nice/marker/ContingentNegativeVariation/default: ['channels']\n",
      "Reduction order for nice/marker/TimeLockedTopography/p1: ['channels', 'times']\n",
      "Reduction order for nice/marker/TimeLockedTopography/p3a: ['channels', 'times']\n",
      "Reduction order for nice/marker/TimeLockedTopography/p3a: ['channels', 'times']\n",
      "Autodetected number of jobs 24\n",
      "Effective window size : 16.384 (s)\n"
     ]
    },
    {
     "name": "stderr",
     "output_type": "stream",
     "text": [
      "[Parallel(n_jobs=2)]: Done   8 out of   8 | elapsed:    1.7s finished\n",
      "[Parallel(n_jobs=24)]: Using backend LokyBackend with 24 concurrent workers.\n",
      "[Parallel(n_jobs=24)]: Done   6 out of  24 | elapsed:    3.6s remaining:   10.8s\n",
      "[Parallel(n_jobs=24)]: Done  11 out of  24 | elapsed:    3.6s remaining:    4.3s\n",
      "[Parallel(n_jobs=24)]: Done  16 out of  24 | elapsed:    3.6s remaining:    1.8s\n",
      "[Parallel(n_jobs=24)]: Done  21 out of  24 | elapsed:    3.8s remaining:    0.5s\n"
     ]
    },
    {
     "name": "stdout",
     "output_type": "stream",
     "text": [
      "Reduction order for nice/marker/PowerSpectralDensity/alpha: ['frequency', 'channels']\n",
      "Reduction order for nice/marker/PowerSpectralDensity/alpha: ['frequency', 'channels']\n",
      "Reduction order for nice/marker/PowerSpectralDensity/delta: ['frequency', 'channels']\n",
      "Reduction order for nice/marker/PowerSpectralDensity/delta: ['frequency', 'channels']\n",
      "Reduction order for nice/marker/PowerSpectralDensity/theta: ['frequency', 'channels']\n",
      "Reduction order for nice/marker/PowerSpectralDensity/theta: ['frequency', 'channels']\n",
      "Reduction order for nice/marker/PowerSpectralDensity/gamma: ['frequency', 'channels']\n",
      "Reduction order for nice/marker/PowerSpectralDensity/theta: ['frequency', 'channels']\n",
      "Reduction order for nice/marker/PowerSpectralDensity/beta: ['frequency', 'channels']\n",
      "Reduction order for nice/marker/PowerSpectralDensity/beta: ['frequency', 'channels']\n",
      "Running KolmogorovComplexity\n",
      "Elapsed time 0.0035390853881835938 sec\n",
      "Reduction order for nice/marker/KolmogorovComplexity/default: ['channels']\n",
      "Filtering  at 10.42 Hz\n",
      "Performing symbolic transformation\n"
     ]
    },
    {
     "name": "stderr",
     "output_type": "stream",
     "text": [
      "[Parallel(n_jobs=24)]: Done  24 out of  24 | elapsed:    3.8s finished\n"
     ]
    },
    {
     "name": "stdout",
     "output_type": "stream",
     "text": [
      "Reduction order for nice/marker/PermutationEntropy/default: ['channels']\n",
      "Autodetected number of jobs 2\n",
      "Computing CSD\n",
      "Using 10-5 locations for CSD\n",
      "Using 2 jobs\n"
     ]
    },
    {
     "name": "stderr",
     "output_type": "stream",
     "text": [
      "[Parallel(n_jobs=2)]: Using backend LokyBackend with 2 concurrent workers.\n"
     ]
    },
    {
     "name": "stdout",
     "output_type": "stream",
     "text": [
      "Filtering  at 10.42 Hz\n",
      "Reduction order for nice/marker/SymbolicMutualInformation/default: ['channels_y', 'channels']\n",
      "Reduction order for nice/marker/ContingentNegativeVariation/default: ['channels']\n",
      "Reduction order for nice/marker/TimeLockedTopography/p1: ['channels', 'times']\n",
      "Reduction order for nice/marker/TimeLockedTopography/p3a: ['channels', 'times']\n",
      "Reduction order for nice/marker/TimeLockedTopography/p3a: ['channels', 'times']\n",
      "Autodetected number of jobs 24\n",
      "Effective window size : 16.384 (s)\n"
     ]
    },
    {
     "name": "stderr",
     "output_type": "stream",
     "text": [
      "[Parallel(n_jobs=2)]: Done   2 out of   2 | elapsed:    1.7s remaining:    0.0s\n",
      "[Parallel(n_jobs=2)]: Done   2 out of   2 | elapsed:    1.7s finished\n",
      "[Parallel(n_jobs=24)]: Using backend LokyBackend with 24 concurrent workers.\n",
      "[Parallel(n_jobs=24)]: Done   6 out of  24 | elapsed:    3.7s remaining:   11.2s\n",
      "[Parallel(n_jobs=24)]: Done  11 out of  24 | elapsed:    3.7s remaining:    4.4s\n",
      "[Parallel(n_jobs=24)]: Done  16 out of  24 | elapsed:    3.8s remaining:    1.9s\n",
      "[Parallel(n_jobs=24)]: Done  21 out of  24 | elapsed:    3.9s remaining:    0.6s\n"
     ]
    },
    {
     "name": "stdout",
     "output_type": "stream",
     "text": [
      "Reduction order for nice/marker/PowerSpectralDensity/alpha: ['frequency', 'channels']\n",
      "Reduction order for nice/marker/PowerSpectralDensity/alpha: ['frequency', 'channels']\n",
      "Reduction order for nice/marker/PowerSpectralDensity/delta: ['frequency', 'channels']\n",
      "Reduction order for nice/marker/PowerSpectralDensity/delta: ['frequency', 'channels']\n",
      "Reduction order for nice/marker/PowerSpectralDensity/theta: ['frequency', 'channels']\n",
      "Reduction order for nice/marker/PowerSpectralDensity/theta: ['frequency', 'channels']\n",
      "Reduction order for nice/marker/PowerSpectralDensity/gamma: ['frequency', 'channels']\n",
      "Reduction order for nice/marker/PowerSpectralDensity/theta: ['frequency', 'channels']\n",
      "Reduction order for nice/marker/PowerSpectralDensity/beta: ['frequency', 'channels']\n",
      "Reduction order for nice/marker/PowerSpectralDensity/beta: ['frequency', 'channels']\n",
      "Running KolmogorovComplexity\n",
      "Elapsed time 0.021405935287475586 sec\n",
      "Reduction order for nice/marker/KolmogorovComplexity/default: ['channels']\n",
      "Filtering  at 10.42 Hz\n",
      "Performing symbolic transformation\n"
     ]
    },
    {
     "name": "stderr",
     "output_type": "stream",
     "text": [
      "[Parallel(n_jobs=24)]: Done  24 out of  24 | elapsed:    3.9s finished\n"
     ]
    },
    {
     "name": "stdout",
     "output_type": "stream",
     "text": [
      "Reduction order for nice/marker/PermutationEntropy/default: ['channels']\n",
      "Autodetected number of jobs 2\n",
      "Computing CSD\n",
      "Using 10-5 locations for CSD\n",
      "Using 2 jobs\n"
     ]
    },
    {
     "name": "stderr",
     "output_type": "stream",
     "text": [
      "[Parallel(n_jobs=2)]: Using backend LokyBackend with 2 concurrent workers.\n"
     ]
    },
    {
     "name": "stdout",
     "output_type": "stream",
     "text": [
      "Filtering  at 10.42 Hz\n",
      "Reduction order for nice/marker/SymbolicMutualInformation/default: ['channels_y', 'channels']\n",
      "Reduction order for nice/marker/ContingentNegativeVariation/default: ['channels']\n",
      "Reduction order for nice/marker/TimeLockedTopography/p1: ['channels', 'times']\n",
      "Reduction order for nice/marker/TimeLockedTopography/p3a: ['channels', 'times']\n",
      "Reduction order for nice/marker/TimeLockedTopography/p3a: ['channels', 'times']\n",
      "Autodetected number of jobs 24\n",
      "Effective window size : 16.384 (s)\n"
     ]
    },
    {
     "name": "stderr",
     "output_type": "stream",
     "text": [
      "[Parallel(n_jobs=2)]: Done  15 out of  15 | elapsed:    1.7s finished\n",
      "[Parallel(n_jobs=24)]: Using backend LokyBackend with 24 concurrent workers.\n",
      "[Parallel(n_jobs=24)]: Done   6 out of  24 | elapsed:    4.0s remaining:   12.0s\n",
      "[Parallel(n_jobs=24)]: Done  11 out of  24 | elapsed:    4.1s remaining:    4.8s\n",
      "[Parallel(n_jobs=24)]: Done  16 out of  24 | elapsed:    4.1s remaining:    2.1s\n",
      "[Parallel(n_jobs=24)]: Done  21 out of  24 | elapsed:    4.2s remaining:    0.6s\n"
     ]
    },
    {
     "name": "stdout",
     "output_type": "stream",
     "text": [
      "Reduction order for nice/marker/PowerSpectralDensity/alpha: ['frequency', 'channels']\n",
      "Reduction order for nice/marker/PowerSpectralDensity/alpha: ['frequency', 'channels']\n",
      "Reduction order for nice/marker/PowerSpectralDensity/delta: ['frequency', 'channels']\n",
      "Reduction order for nice/marker/PowerSpectralDensity/delta: ['frequency', 'channels']\n",
      "Reduction order for nice/marker/PowerSpectralDensity/theta: ['frequency', 'channels']\n",
      "Reduction order for nice/marker/PowerSpectralDensity/theta: ['frequency', 'channels']\n",
      "Reduction order for nice/marker/PowerSpectralDensity/gamma: ['frequency', 'channels']\n",
      "Reduction order for nice/marker/PowerSpectralDensity/theta: ['frequency', 'channels']\n",
      "Reduction order for nice/marker/PowerSpectralDensity/beta: ['frequency', 'channels']\n",
      "Reduction order for nice/marker/PowerSpectralDensity/beta: ['frequency', 'channels']\n",
      "Running KolmogorovComplexity\n",
      "Elapsed time 0.16475749015808105 sec\n"
     ]
    },
    {
     "name": "stderr",
     "output_type": "stream",
     "text": [
      "[Parallel(n_jobs=24)]: Done  24 out of  24 | elapsed:    4.3s finished\n"
     ]
    },
    {
     "name": "stdout",
     "output_type": "stream",
     "text": [
      "Reduction order for nice/marker/KolmogorovComplexity/default: ['channels']\n",
      "Filtering  at 10.42 Hz\n",
      "Performing symbolic transformation\n",
      "Reduction order for nice/marker/PermutationEntropy/default: ['channels']\n",
      "Autodetected number of jobs 2\n",
      "Computing CSD\n",
      "Using 10-5 locations for CSD\n",
      "Using 2 jobs\n"
     ]
    },
    {
     "name": "stderr",
     "output_type": "stream",
     "text": [
      "[Parallel(n_jobs=2)]: Using backend LokyBackend with 2 concurrent workers.\n",
      "[Parallel(n_jobs=2)]: Done  18 tasks      | elapsed:    1.7s\n"
     ]
    },
    {
     "name": "stdout",
     "output_type": "stream",
     "text": [
      "Filtering  at 10.42 Hz\n"
     ]
    },
    {
     "name": "stderr",
     "output_type": "stream",
     "text": [
      "[Parallel(n_jobs=2)]: Done 105 out of 105 | elapsed:    1.9s finished\n"
     ]
    },
    {
     "name": "stdout",
     "output_type": "stream",
     "text": [
      "Reduction order for nice/marker/SymbolicMutualInformation/default: ['channels_y', 'channels']\n",
      "Reduction order for nice/marker/ContingentNegativeVariation/default: ['channels']\n",
      "Reduction order for nice/marker/TimeLockedTopography/p1: ['channels', 'times']\n",
      "Reduction order for nice/marker/TimeLockedTopography/p3a: ['channels', 'times']\n",
      "Reduction order for nice/marker/TimeLockedTopography/p3a: ['channels', 'times']\n",
      "Autodetected number of jobs 24\n",
      "Effective window size : 16.384 (s)\n"
     ]
    },
    {
     "name": "stderr",
     "output_type": "stream",
     "text": [
      "[Parallel(n_jobs=24)]: Using backend LokyBackend with 24 concurrent workers.\n",
      "[Parallel(n_jobs=24)]: Done   6 out of  24 | elapsed:    3.8s remaining:   11.3s\n",
      "[Parallel(n_jobs=24)]: Done  11 out of  24 | elapsed:    3.8s remaining:    4.5s\n",
      "[Parallel(n_jobs=24)]: Done  16 out of  24 | elapsed:    3.8s remaining:    1.9s\n",
      "[Parallel(n_jobs=24)]: Done  21 out of  24 | elapsed:    3.9s remaining:    0.6s\n"
     ]
    },
    {
     "name": "stdout",
     "output_type": "stream",
     "text": [
      "Reduction order for nice/marker/PowerSpectralDensity/alpha: ['frequency', 'channels']\n",
      "Reduction order for nice/marker/PowerSpectralDensity/alpha: ['frequency', 'channels']\n",
      "Reduction order for nice/marker/PowerSpectralDensity/delta: ['frequency', 'channels']\n",
      "Reduction order for nice/marker/PowerSpectralDensity/delta: ['frequency', 'channels']\n",
      "Reduction order for nice/marker/PowerSpectralDensity/theta: ['frequency', 'channels']\n",
      "Reduction order for nice/marker/PowerSpectralDensity/theta: ['frequency', 'channels']\n",
      "Reduction order for nice/marker/PowerSpectralDensity/gamma: ['frequency', 'channels']\n",
      "Reduction order for nice/marker/PowerSpectralDensity/theta: ['frequency', 'channels']\n",
      "Reduction order for nice/marker/PowerSpectralDensity/beta: ['frequency', 'channels']\n",
      "Reduction order for nice/marker/PowerSpectralDensity/beta: ['frequency', 'channels']\n",
      "Running KolmogorovComplexity\n",
      "Elapsed time 0.041290283203125 sec\n",
      "Reduction order for nice/marker/KolmogorovComplexity/default: ['channels']\n",
      "Filtering  at 10.42 Hz\n",
      "Performing symbolic transformation\n"
     ]
    },
    {
     "name": "stderr",
     "output_type": "stream",
     "text": [
      "[Parallel(n_jobs=24)]: Done  24 out of  24 | elapsed:    4.1s finished\n"
     ]
    },
    {
     "name": "stdout",
     "output_type": "stream",
     "text": [
      "Reduction order for nice/marker/PermutationEntropy/default: ['channels']\n",
      "Autodetected number of jobs 2\n",
      "Computing CSD\n",
      "Using 10-5 locations for CSD\n",
      "Using 2 jobs\n"
     ]
    },
    {
     "name": "stderr",
     "output_type": "stream",
     "text": [
      "[Parallel(n_jobs=2)]: Using backend LokyBackend with 2 concurrent workers.\n"
     ]
    },
    {
     "name": "stdout",
     "output_type": "stream",
     "text": [
      "Filtering  at 10.42 Hz\n"
     ]
    },
    {
     "name": "stderr",
     "output_type": "stream",
     "text": [
      "[Parallel(n_jobs=2)]: Done  18 tasks      | elapsed:    1.7s\n",
      "[Parallel(n_jobs=2)]: Done  29 out of  29 | elapsed:    1.7s finished\n"
     ]
    },
    {
     "name": "stdout",
     "output_type": "stream",
     "text": [
      "Reduction order for nice/marker/SymbolicMutualInformation/default: ['channels_y', 'channels']\n",
      "Reduction order for nice/marker/ContingentNegativeVariation/default: ['channels']\n",
      "Reduction order for nice/marker/TimeLockedTopography/p1: ['channels', 'times']\n",
      "Reduction order for nice/marker/TimeLockedTopography/p3a: ['channels', 'times']\n",
      "Reduction order for nice/marker/TimeLockedTopography/p3a: ['channels', 'times']\n",
      "\n",
      "#########################################\n",
      "Computing markers for participant VP35\n",
      "#########################################\n",
      "\n",
      "Reading /media/nicolas.bruno/63f8a366-34b7-4896-a7ce-b5fb4ee78535/Nico/MW_eeg_data/minmarker/VP35/VP35_evoked_ar_subtracted_epo.fif ...\n",
      "    Found the data of interest:\n",
      "        t =    -200.00 ...     600.00 ms\n",
      "        0 CTF compensation matrices available\n",
      "Not setting metadata\n",
      "Not setting metadata\n",
      "169 matching events found\n",
      "No baseline correction applied\n",
      "0 projection items activated\n",
      "Reading /media/nicolas.bruno/63f8a366-34b7-4896-a7ce-b5fb4ee78535/Nico/MW_eeg_data/minmarker/VP35/VP35_evoked_ar_rereferenced_epo.fif ...\n",
      "    Found the data of interest:\n",
      "        t =    -200.00 ...     600.00 ms\n",
      "        0 CTF compensation matrices available\n",
      "Not setting metadata\n",
      "Not setting metadata\n",
      "169 matching events found\n",
      "No baseline correction applied\n",
      "0 projection items activated\n",
      "Autodetected number of jobs 24\n",
      "Effective window size : 16.384 (s)\n"
     ]
    },
    {
     "name": "stderr",
     "output_type": "stream",
     "text": [
      "[Parallel(n_jobs=24)]: Using backend LokyBackend with 24 concurrent workers.\n",
      "[Parallel(n_jobs=24)]: Done   6 out of  24 | elapsed:    3.8s remaining:   11.3s\n",
      "[Parallel(n_jobs=24)]: Done  11 out of  24 | elapsed:    3.8s remaining:    4.5s\n",
      "[Parallel(n_jobs=24)]: Done  16 out of  24 | elapsed:    3.9s remaining:    1.9s\n"
     ]
    },
    {
     "name": "stdout",
     "output_type": "stream",
     "text": [
      "Reduction order for nice/marker/PowerSpectralDensity/alpha: ['frequency', 'channels']\n",
      "Reduction order for nice/marker/PowerSpectralDensity/alpha: ['frequency', 'channels']\n",
      "Reduction order for nice/marker/PowerSpectralDensity/delta: ['frequency', 'channels']\n",
      "Reduction order for nice/marker/PowerSpectralDensity/delta: ['frequency', 'channels']\n",
      "Reduction order for nice/marker/PowerSpectralDensity/theta: ['frequency', 'channels']\n",
      "Reduction order for nice/marker/PowerSpectralDensity/theta: ['frequency', 'channels']\n",
      "Reduction order for nice/marker/PowerSpectralDensity/gamma: ['frequency', 'channels']\n",
      "Reduction order for nice/marker/PowerSpectralDensity/theta: ['frequency', 'channels']\n",
      "Reduction order for nice/marker/PowerSpectralDensity/beta: ['frequency', 'channels']\n",
      "Reduction order for nice/marker/PowerSpectralDensity/beta: ['frequency', 'channels']\n",
      "Running KolmogorovComplexity\n",
      "Elapsed time 0.09030675888061523 sec\n"
     ]
    },
    {
     "name": "stderr",
     "output_type": "stream",
     "text": [
      "[Parallel(n_jobs=24)]: Done  21 out of  24 | elapsed:    4.0s remaining:    0.6s\n",
      "[Parallel(n_jobs=24)]: Done  24 out of  24 | elapsed:    4.0s finished\n"
     ]
    },
    {
     "name": "stdout",
     "output_type": "stream",
     "text": [
      "Reduction order for nice/marker/KolmogorovComplexity/default: ['channels']\n",
      "Filtering  at 10.42 Hz\n",
      "Performing symbolic transformation\n",
      "Reduction order for nice/marker/PermutationEntropy/default: ['channels']\n",
      "Autodetected number of jobs 2\n",
      "Computing CSD\n",
      "Using 10-5 locations for CSD\n",
      "Using 2 jobs\n"
     ]
    },
    {
     "name": "stderr",
     "output_type": "stream",
     "text": [
      "[Parallel(n_jobs=2)]: Using backend LokyBackend with 2 concurrent workers.\n"
     ]
    },
    {
     "name": "stdout",
     "output_type": "stream",
     "text": [
      "Filtering  at 10.42 Hz\n"
     ]
    },
    {
     "name": "stderr",
     "output_type": "stream",
     "text": [
      "[Parallel(n_jobs=2)]: Done  18 tasks      | elapsed:    1.7s\n",
      "[Parallel(n_jobs=2)]: Done  63 out of  63 | elapsed:    1.8s finished\n"
     ]
    },
    {
     "name": "stdout",
     "output_type": "stream",
     "text": [
      "Reduction order for nice/marker/SymbolicMutualInformation/default: ['channels_y', 'channels']\n",
      "Reduction order for nice/marker/ContingentNegativeVariation/default: ['channels']\n",
      "Reduction order for nice/marker/TimeLockedTopography/p1: ['channels', 'times']\n",
      "Reduction order for nice/marker/TimeLockedTopography/p3a: ['channels', 'times']\n",
      "Reduction order for nice/marker/TimeLockedTopography/p3a: ['channels', 'times']\n",
      "Autodetected number of jobs 24\n",
      "Effective window size : 16.384 (s)\n"
     ]
    },
    {
     "name": "stderr",
     "output_type": "stream",
     "text": [
      "[Parallel(n_jobs=24)]: Using backend LokyBackend with 24 concurrent workers.\n",
      "[Parallel(n_jobs=24)]: Done   6 out of  24 | elapsed:    3.8s remaining:   11.3s\n",
      "[Parallel(n_jobs=24)]: Done  11 out of  24 | elapsed:    3.8s remaining:    4.5s\n",
      "[Parallel(n_jobs=24)]: Done  16 out of  24 | elapsed:    3.9s remaining:    2.0s\n",
      "[Parallel(n_jobs=24)]: Done  21 out of  24 | elapsed:    4.0s remaining:    0.6s\n"
     ]
    },
    {
     "name": "stdout",
     "output_type": "stream",
     "text": [
      "Reduction order for nice/marker/PowerSpectralDensity/alpha: ['frequency', 'channels']\n",
      "Reduction order for nice/marker/PowerSpectralDensity/alpha: ['frequency', 'channels']\n",
      "Reduction order for nice/marker/PowerSpectralDensity/delta: ['frequency', 'channels']\n",
      "Reduction order for nice/marker/PowerSpectralDensity/delta: ['frequency', 'channels']\n",
      "Reduction order for nice/marker/PowerSpectralDensity/theta: ['frequency', 'channels']\n",
      "Reduction order for nice/marker/PowerSpectralDensity/theta: ['frequency', 'channels']\n",
      "Reduction order for nice/marker/PowerSpectralDensity/gamma: ['frequency', 'channels']\n",
      "Reduction order for nice/marker/PowerSpectralDensity/theta: ['frequency', 'channels']\n",
      "Reduction order for nice/marker/PowerSpectralDensity/beta: ['frequency', 'channels']\n",
      "Reduction order for nice/marker/PowerSpectralDensity/beta: ['frequency', 'channels']\n",
      "Running KolmogorovComplexity\n",
      "Elapsed time 0.05442619323730469 sec\n",
      "Reduction order for nice/marker/KolmogorovComplexity/default: ['channels']\n",
      "Filtering  at 10.42 Hz\n",
      "Performing symbolic transformation\n"
     ]
    },
    {
     "name": "stderr",
     "output_type": "stream",
     "text": [
      "[Parallel(n_jobs=24)]: Done  24 out of  24 | elapsed:    4.1s finished\n"
     ]
    },
    {
     "name": "stdout",
     "output_type": "stream",
     "text": [
      "Reduction order for nice/marker/PermutationEntropy/default: ['channels']\n",
      "Autodetected number of jobs 2\n",
      "Computing CSD\n",
      "Using 10-5 locations for CSD\n",
      "Using 2 jobs\n"
     ]
    },
    {
     "name": "stderr",
     "output_type": "stream",
     "text": [
      "[Parallel(n_jobs=2)]: Using backend LokyBackend with 2 concurrent workers.\n"
     ]
    },
    {
     "name": "stdout",
     "output_type": "stream",
     "text": [
      "Filtering  at 10.42 Hz\n"
     ]
    },
    {
     "name": "stderr",
     "output_type": "stream",
     "text": [
      "[Parallel(n_jobs=2)]: Done  18 tasks      | elapsed:    1.7s\n",
      "[Parallel(n_jobs=2)]: Done  38 out of  38 | elapsed:    1.7s finished\n"
     ]
    },
    {
     "name": "stdout",
     "output_type": "stream",
     "text": [
      "Reduction order for nice/marker/SymbolicMutualInformation/default: ['channels_y', 'channels']\n",
      "Reduction order for nice/marker/ContingentNegativeVariation/default: ['channels']\n",
      "Reduction order for nice/marker/TimeLockedTopography/p1: ['channels', 'times']\n",
      "Reduction order for nice/marker/TimeLockedTopography/p3a: ['channels', 'times']\n",
      "Reduction order for nice/marker/TimeLockedTopography/p3a: ['channels', 'times']\n",
      "Autodetected number of jobs 24\n",
      "Effective window size : 16.384 (s)\n"
     ]
    },
    {
     "name": "stderr",
     "output_type": "stream",
     "text": [
      "[Parallel(n_jobs=24)]: Using backend LokyBackend with 24 concurrent workers.\n",
      "[Parallel(n_jobs=24)]: Done   6 out of  24 | elapsed:    3.7s remaining:   11.2s\n",
      "[Parallel(n_jobs=24)]: Done  11 out of  24 | elapsed:    3.8s remaining:    4.5s\n",
      "[Parallel(n_jobs=24)]: Done  16 out of  24 | elapsed:    3.9s remaining:    1.9s\n"
     ]
    },
    {
     "name": "stdout",
     "output_type": "stream",
     "text": [
      "Reduction order for nice/marker/PowerSpectralDensity/alpha: ['frequency', 'channels']\n",
      "Reduction order for nice/marker/PowerSpectralDensity/alpha: ['frequency', 'channels']\n",
      "Reduction order for nice/marker/PowerSpectralDensity/delta: ['frequency', 'channels']\n",
      "Reduction order for nice/marker/PowerSpectralDensity/delta: ['frequency', 'channels']\n",
      "Reduction order for nice/marker/PowerSpectralDensity/theta: ['frequency', 'channels']\n",
      "Reduction order for nice/marker/PowerSpectralDensity/theta: ['frequency', 'channels']\n",
      "Reduction order for nice/marker/PowerSpectralDensity/gamma: ['frequency', 'channels']\n",
      "Reduction order for nice/marker/PowerSpectralDensity/theta: ['frequency', 'channels']\n",
      "Reduction order for nice/marker/PowerSpectralDensity/beta: ['frequency', 'channels']\n",
      "Reduction order for nice/marker/PowerSpectralDensity/beta: ['frequency', 'channels']\n",
      "Running KolmogorovComplexity\n",
      "Elapsed time 0.011024236679077148 sec\n",
      "Reduction order for nice/marker/KolmogorovComplexity/default: ['channels']\n",
      "Filtering  at 10.42 Hz\n",
      "Performing symbolic transformation\n"
     ]
    },
    {
     "name": "stderr",
     "output_type": "stream",
     "text": [
      "[Parallel(n_jobs=24)]: Done  21 out of  24 | elapsed:    4.0s remaining:    0.6s\n",
      "[Parallel(n_jobs=24)]: Done  24 out of  24 | elapsed:    4.1s finished\n"
     ]
    },
    {
     "name": "stdout",
     "output_type": "stream",
     "text": [
      "Reduction order for nice/marker/PermutationEntropy/default: ['channels']\n",
      "Autodetected number of jobs 2\n",
      "Computing CSD\n",
      "Using 10-5 locations for CSD\n",
      "Using 2 jobs\n"
     ]
    },
    {
     "name": "stderr",
     "output_type": "stream",
     "text": [
      "[Parallel(n_jobs=2)]: Using backend LokyBackend with 2 concurrent workers.\n"
     ]
    },
    {
     "name": "stdout",
     "output_type": "stream",
     "text": [
      "Filtering  at 10.42 Hz\n",
      "Reduction order for nice/marker/SymbolicMutualInformation/default: ['channels_y', 'channels']\n",
      "Reduction order for nice/marker/ContingentNegativeVariation/default: ['channels']\n",
      "Reduction order for nice/marker/TimeLockedTopography/p1: ['channels', 'times']\n",
      "Reduction order for nice/marker/TimeLockedTopography/p3a: ['channels', 'times']\n",
      "Reduction order for nice/marker/TimeLockedTopography/p3a: ['channels', 'times']\n",
      "Autodetected number of jobs 24\n",
      "Effective window size : 16.384 (s)\n"
     ]
    },
    {
     "name": "stderr",
     "output_type": "stream",
     "text": [
      "[Parallel(n_jobs=2)]: Done   8 out of   8 | elapsed:    1.7s finished\n",
      "[Parallel(n_jobs=24)]: Using backend LokyBackend with 24 concurrent workers.\n",
      "[Parallel(n_jobs=24)]: Done   6 out of  24 | elapsed:    3.8s remaining:   11.3s\n",
      "[Parallel(n_jobs=24)]: Done  11 out of  24 | elapsed:    3.9s remaining:    4.6s\n",
      "[Parallel(n_jobs=24)]: Done  16 out of  24 | elapsed:    3.9s remaining:    2.0s\n"
     ]
    },
    {
     "name": "stdout",
     "output_type": "stream",
     "text": [
      "Reduction order for nice/marker/PowerSpectralDensity/alpha: ['frequency', 'channels']\n",
      "Reduction order for nice/marker/PowerSpectralDensity/alpha: ['frequency', 'channels']\n",
      "Reduction order for nice/marker/PowerSpectralDensity/delta: ['frequency', 'channels']\n",
      "Reduction order for nice/marker/PowerSpectralDensity/delta: ['frequency', 'channels']\n",
      "Reduction order for nice/marker/PowerSpectralDensity/theta: ['frequency', 'channels']\n",
      "Reduction order for nice/marker/PowerSpectralDensity/theta: ['frequency', 'channels']\n",
      "Reduction order for nice/marker/PowerSpectralDensity/gamma: ['frequency', 'channels']\n",
      "Reduction order for nice/marker/PowerSpectralDensity/theta: ['frequency', 'channels']\n",
      "Reduction order for nice/marker/PowerSpectralDensity/beta: ['frequency', 'channels']\n",
      "Reduction order for nice/marker/PowerSpectralDensity/beta: ['frequency', 'channels']\n",
      "Running KolmogorovComplexity\n",
      "Elapsed time 0.002978086471557617 sec\n",
      "Reduction order for nice/marker/KolmogorovComplexity/default: ['channels']\n",
      "Filtering  at 10.42 Hz\n",
      "Performing symbolic transformation\n"
     ]
    },
    {
     "name": "stderr",
     "output_type": "stream",
     "text": [
      "[Parallel(n_jobs=24)]: Done  21 out of  24 | elapsed:    4.0s remaining:    0.6s\n",
      "[Parallel(n_jobs=24)]: Done  24 out of  24 | elapsed:    4.1s finished\n"
     ]
    },
    {
     "name": "stdout",
     "output_type": "stream",
     "text": [
      "Reduction order for nice/marker/PermutationEntropy/default: ['channels']\n",
      "Autodetected number of jobs 2\n",
      "Computing CSD\n",
      "Using 10-5 locations for CSD\n",
      "Using 2 jobs\n"
     ]
    },
    {
     "name": "stderr",
     "output_type": "stream",
     "text": [
      "[Parallel(n_jobs=2)]: Using backend LokyBackend with 2 concurrent workers.\n"
     ]
    },
    {
     "name": "stdout",
     "output_type": "stream",
     "text": [
      "Filtering  at 10.42 Hz\n",
      "Reduction order for nice/marker/SymbolicMutualInformation/default: ['channels_y', 'channels']\n",
      "Reduction order for nice/marker/ContingentNegativeVariation/default: ['channels']\n",
      "Reduction order for nice/marker/TimeLockedTopography/p1: ['channels', 'times']\n",
      "Reduction order for nice/marker/TimeLockedTopography/p3a: ['channels', 'times']\n",
      "Reduction order for nice/marker/TimeLockedTopography/p3a: ['channels', 'times']\n",
      "Autodetected number of jobs 24\n",
      "Effective window size : 16.384 (s)\n"
     ]
    },
    {
     "name": "stderr",
     "output_type": "stream",
     "text": [
      "[Parallel(n_jobs=2)]: Done   2 out of   2 | elapsed:    1.7s remaining:    0.0s\n",
      "[Parallel(n_jobs=2)]: Done   2 out of   2 | elapsed:    1.7s finished\n",
      "[Parallel(n_jobs=24)]: Using backend LokyBackend with 24 concurrent workers.\n",
      "[Parallel(n_jobs=24)]: Done   6 out of  24 | elapsed:    3.8s remaining:   11.4s\n",
      "[Parallel(n_jobs=24)]: Done  11 out of  24 | elapsed:    3.9s remaining:    4.6s\n",
      "[Parallel(n_jobs=24)]: Done  16 out of  24 | elapsed:    4.0s remaining:    2.0s\n"
     ]
    },
    {
     "name": "stdout",
     "output_type": "stream",
     "text": [
      "Reduction order for nice/marker/PowerSpectralDensity/alpha: ['frequency', 'channels']\n",
      "Reduction order for nice/marker/PowerSpectralDensity/alpha: ['frequency', 'channels']\n",
      "Reduction order for nice/marker/PowerSpectralDensity/delta: ['frequency', 'channels']\n",
      "Reduction order for nice/marker/PowerSpectralDensity/delta: ['frequency', 'channels']\n",
      "Reduction order for nice/marker/PowerSpectralDensity/theta: ['frequency', 'channels']\n",
      "Reduction order for nice/marker/PowerSpectralDensity/theta: ['frequency', 'channels']\n",
      "Reduction order for nice/marker/PowerSpectralDensity/gamma: ['frequency', 'channels']\n",
      "Reduction order for nice/marker/PowerSpectralDensity/theta: ['frequency', 'channels']\n",
      "Reduction order for nice/marker/PowerSpectralDensity/beta: ['frequency', 'channels']\n",
      "Reduction order for nice/marker/PowerSpectralDensity/beta: ['frequency', 'channels']\n",
      "Running KolmogorovComplexity\n",
      "Elapsed time 0.021167755126953125 sec\n",
      "Reduction order for nice/marker/KolmogorovComplexity/default: ['channels']\n",
      "Filtering  at 10.42 Hz\n",
      "Performing symbolic transformation\n"
     ]
    },
    {
     "name": "stderr",
     "output_type": "stream",
     "text": [
      "[Parallel(n_jobs=24)]: Done  21 out of  24 | elapsed:    4.2s remaining:    0.6s\n",
      "[Parallel(n_jobs=24)]: Done  24 out of  24 | elapsed:    4.3s finished\n"
     ]
    },
    {
     "name": "stdout",
     "output_type": "stream",
     "text": [
      "Reduction order for nice/marker/PermutationEntropy/default: ['channels']\n",
      "Autodetected number of jobs 2\n",
      "Computing CSD\n",
      "Using 10-5 locations for CSD\n",
      "Using 2 jobs\n"
     ]
    },
    {
     "name": "stderr",
     "output_type": "stream",
     "text": [
      "[Parallel(n_jobs=2)]: Using backend LokyBackend with 2 concurrent workers.\n"
     ]
    },
    {
     "name": "stdout",
     "output_type": "stream",
     "text": [
      "Filtering  at 10.42 Hz\n",
      "Reduction order for nice/marker/SymbolicMutualInformation/default: ['channels_y', 'channels']\n",
      "Reduction order for nice/marker/ContingentNegativeVariation/default: ['channels']\n",
      "Reduction order for nice/marker/TimeLockedTopography/p1: ['channels', 'times']\n",
      "Reduction order for nice/marker/TimeLockedTopography/p3a: ['channels', 'times']\n",
      "Reduction order for nice/marker/TimeLockedTopography/p3a: ['channels', 'times']\n",
      "Autodetected number of jobs 24\n",
      "Effective window size : 16.384 (s)\n"
     ]
    },
    {
     "name": "stderr",
     "output_type": "stream",
     "text": [
      "[Parallel(n_jobs=2)]: Done  15 out of  15 | elapsed:    1.7s finished\n",
      "[Parallel(n_jobs=24)]: Using backend LokyBackend with 24 concurrent workers.\n",
      "[Parallel(n_jobs=24)]: Done   6 out of  24 | elapsed:    3.7s remaining:   11.0s\n",
      "[Parallel(n_jobs=24)]: Done  11 out of  24 | elapsed:    3.8s remaining:    4.4s\n",
      "[Parallel(n_jobs=24)]: Done  16 out of  24 | elapsed:    3.9s remaining:    1.9s\n"
     ]
    },
    {
     "name": "stdout",
     "output_type": "stream",
     "text": [
      "Reduction order for nice/marker/PowerSpectralDensity/alpha: ['frequency', 'channels']\n",
      "Reduction order for nice/marker/PowerSpectralDensity/alpha: ['frequency', 'channels']\n",
      "Reduction order for nice/marker/PowerSpectralDensity/delta: ['frequency', 'channels']\n",
      "Reduction order for nice/marker/PowerSpectralDensity/delta: ['frequency', 'channels']\n",
      "Reduction order for nice/marker/PowerSpectralDensity/theta: ['frequency', 'channels']\n",
      "Reduction order for nice/marker/PowerSpectralDensity/theta: ['frequency', 'channels']\n",
      "Reduction order for nice/marker/PowerSpectralDensity/gamma: ['frequency', 'channels']\n",
      "Reduction order for nice/marker/PowerSpectralDensity/theta: ['frequency', 'channels']\n",
      "Reduction order for nice/marker/PowerSpectralDensity/beta: ['frequency', 'channels']\n",
      "Reduction order for nice/marker/PowerSpectralDensity/beta: ['frequency', 'channels']\n",
      "Running KolmogorovComplexity\n",
      "Elapsed time 0.029061317443847656 sec\n",
      "Reduction order for nice/marker/KolmogorovComplexity/default: ['channels']\n",
      "Filtering  at 10.42 Hz\n",
      "Performing symbolic transformation\n"
     ]
    },
    {
     "name": "stderr",
     "output_type": "stream",
     "text": [
      "[Parallel(n_jobs=24)]: Done  21 out of  24 | elapsed:    3.9s remaining:    0.6s\n",
      "[Parallel(n_jobs=24)]: Done  24 out of  24 | elapsed:    4.0s finished\n"
     ]
    },
    {
     "name": "stdout",
     "output_type": "stream",
     "text": [
      "Reduction order for nice/marker/PermutationEntropy/default: ['channels']\n",
      "Autodetected number of jobs 2\n",
      "Computing CSD\n",
      "Using 10-5 locations for CSD\n",
      "Using 2 jobs\n"
     ]
    },
    {
     "name": "stderr",
     "output_type": "stream",
     "text": [
      "[Parallel(n_jobs=2)]: Using backend LokyBackend with 2 concurrent workers.\n"
     ]
    },
    {
     "name": "stdout",
     "output_type": "stream",
     "text": [
      "Filtering  at 10.42 Hz\n",
      "Reduction order for nice/marker/SymbolicMutualInformation/default: ['channels_y', 'channels']\n",
      "Reduction order for nice/marker/ContingentNegativeVariation/default: ['channels']\n",
      "Reduction order for nice/marker/TimeLockedTopography/p1: ['channels', 'times']\n",
      "Reduction order for nice/marker/TimeLockedTopography/p3a: ['channels', 'times']\n",
      "Reduction order for nice/marker/TimeLockedTopography/p3a: ['channels', 'times']\n",
      "Autodetected number of jobs 24\n",
      "Effective window size : 16.384 (s)\n"
     ]
    },
    {
     "name": "stderr",
     "output_type": "stream",
     "text": [
      "[Parallel(n_jobs=2)]: Done  18 tasks      | elapsed:    1.7s\n",
      "[Parallel(n_jobs=2)]: Done  20 out of  20 | elapsed:    1.7s finished\n",
      "[Parallel(n_jobs=24)]: Using backend LokyBackend with 24 concurrent workers.\n",
      "[Parallel(n_jobs=24)]: Done   6 out of  24 | elapsed:    3.7s remaining:   11.0s\n",
      "[Parallel(n_jobs=24)]: Done  11 out of  24 | elapsed:    3.7s remaining:    4.4s\n",
      "[Parallel(n_jobs=24)]: Done  16 out of  24 | elapsed:    3.8s remaining:    1.9s\n",
      "[Parallel(n_jobs=24)]: Done  21 out of  24 | elapsed:    3.8s remaining:    0.5s\n"
     ]
    },
    {
     "name": "stdout",
     "output_type": "stream",
     "text": [
      "Reduction order for nice/marker/PowerSpectralDensity/alpha: ['frequency', 'channels']\n",
      "Reduction order for nice/marker/PowerSpectralDensity/alpha: ['frequency', 'channels']\n",
      "Reduction order for nice/marker/PowerSpectralDensity/delta: ['frequency', 'channels']\n",
      "Reduction order for nice/marker/PowerSpectralDensity/delta: ['frequency', 'channels']\n",
      "Reduction order for nice/marker/PowerSpectralDensity/theta: ['frequency', 'channels']\n",
      "Reduction order for nice/marker/PowerSpectralDensity/theta: ['frequency', 'channels']\n",
      "Reduction order for nice/marker/PowerSpectralDensity/gamma: ['frequency', 'channels']\n",
      "Reduction order for nice/marker/PowerSpectralDensity/theta: ['frequency', 'channels']\n",
      "Reduction order for nice/marker/PowerSpectralDensity/beta: ['frequency', 'channels']\n",
      "Reduction order for nice/marker/PowerSpectralDensity/beta: ['frequency', 'channels']\n",
      "Running KolmogorovComplexity\n",
      "Elapsed time 0.029184341430664062 sec\n",
      "Reduction order for nice/marker/KolmogorovComplexity/default: ['channels']\n",
      "Filtering  at 10.42 Hz\n",
      "Performing symbolic transformation\n"
     ]
    },
    {
     "name": "stderr",
     "output_type": "stream",
     "text": [
      "[Parallel(n_jobs=24)]: Done  24 out of  24 | elapsed:    3.9s finished\n"
     ]
    },
    {
     "name": "stdout",
     "output_type": "stream",
     "text": [
      "Reduction order for nice/marker/PermutationEntropy/default: ['channels']\n",
      "Autodetected number of jobs 2\n",
      "Computing CSD\n",
      "Using 10-5 locations for CSD\n",
      "Using 2 jobs\n"
     ]
    },
    {
     "name": "stderr",
     "output_type": "stream",
     "text": [
      "/home/nicolas.bruno/anaconda3/lib/python3.7/site-packages/nice-0.1.dev0-py3.7.egg/nice/algorithms/information_theory/permutation_entropy.py:75: RuntimeWarning: divide by zero encountered in log\n",
      "  pe = np.nan_to_num(-np.nansum(count * np.log(count), axis=1))\n",
      "/home/nicolas.bruno/anaconda3/lib/python3.7/site-packages/nice-0.1.dev0-py3.7.egg/nice/algorithms/information_theory/permutation_entropy.py:75: RuntimeWarning: invalid value encountered in multiply\n",
      "  pe = np.nan_to_num(-np.nansum(count * np.log(count), axis=1))\n",
      "[Parallel(n_jobs=2)]: Using backend LokyBackend with 2 concurrent workers.\n"
     ]
    },
    {
     "name": "stdout",
     "output_type": "stream",
     "text": [
      "Filtering  at 10.42 Hz\n",
      "Reduction order for nice/marker/SymbolicMutualInformation/default: ['channels_y', 'channels']\n",
      "Reduction order for nice/marker/ContingentNegativeVariation/default: ['channels']\n",
      "Reduction order for nice/marker/TimeLockedTopography/p1: ['channels', 'times']\n",
      "Reduction order for nice/marker/TimeLockedTopography/p3a: ['channels', 'times']\n",
      "Reduction order for nice/marker/TimeLockedTopography/p3a: ['channels', 'times']\n",
      "Autodetected number of jobs 24\n",
      "Effective window size : 16.384 (s)\n"
     ]
    },
    {
     "name": "stderr",
     "output_type": "stream",
     "text": [
      "[Parallel(n_jobs=2)]: Done  18 tasks      | elapsed:    1.7s\n",
      "[Parallel(n_jobs=2)]: Done  19 out of  19 | elapsed:    1.7s finished\n",
      "[Parallel(n_jobs=24)]: Using backend LokyBackend with 24 concurrent workers.\n",
      "[Parallel(n_jobs=24)]: Done   6 out of  24 | elapsed:    3.7s remaining:   11.0s\n",
      "[Parallel(n_jobs=24)]: Done  11 out of  24 | elapsed:    3.8s remaining:    4.5s\n",
      "[Parallel(n_jobs=24)]: Done  16 out of  24 | elapsed:    3.8s remaining:    1.9s\n"
     ]
    },
    {
     "name": "stdout",
     "output_type": "stream",
     "text": [
      "Reduction order for nice/marker/PowerSpectralDensity/alpha: ['frequency', 'channels']\n",
      "Reduction order for nice/marker/PowerSpectralDensity/alpha: ['frequency', 'channels']\n",
      "Reduction order for nice/marker/PowerSpectralDensity/delta: ['frequency', 'channels']\n",
      "Reduction order for nice/marker/PowerSpectralDensity/delta: ['frequency', 'channels']\n",
      "Reduction order for nice/marker/PowerSpectralDensity/theta: ['frequency', 'channels']\n",
      "Reduction order for nice/marker/PowerSpectralDensity/theta: ['frequency', 'channels']\n",
      "Reduction order for nice/marker/PowerSpectralDensity/gamma: ['frequency', 'channels']\n",
      "Reduction order for nice/marker/PowerSpectralDensity/theta: ['frequency', 'channels']\n",
      "Reduction order for nice/marker/PowerSpectralDensity/beta: ['frequency', 'channels']\n",
      "Reduction order for nice/marker/PowerSpectralDensity/beta: ['frequency', 'channels']\n",
      "Running KolmogorovComplexity\n",
      "Elapsed time 0.005659341812133789 sec\n",
      "Reduction order for nice/marker/KolmogorovComplexity/default: ['channels']\n",
      "Filtering  at 10.42 Hz\n",
      "Performing symbolic transformation\n"
     ]
    },
    {
     "name": "stderr",
     "output_type": "stream",
     "text": [
      "[Parallel(n_jobs=24)]: Done  21 out of  24 | elapsed:    3.9s remaining:    0.6s\n",
      "[Parallel(n_jobs=24)]: Done  24 out of  24 | elapsed:    4.0s finished\n"
     ]
    },
    {
     "name": "stdout",
     "output_type": "stream",
     "text": [
      "Reduction order for nice/marker/PermutationEntropy/default: ['channels']\n",
      "Autodetected number of jobs 2\n",
      "Computing CSD\n",
      "Using 10-5 locations for CSD\n",
      "Using 2 jobs\n"
     ]
    },
    {
     "name": "stderr",
     "output_type": "stream",
     "text": [
      "[Parallel(n_jobs=2)]: Using backend LokyBackend with 2 concurrent workers.\n"
     ]
    },
    {
     "name": "stdout",
     "output_type": "stream",
     "text": [
      "Filtering  at 10.42 Hz\n",
      "Reduction order for nice/marker/SymbolicMutualInformation/default: ['channels_y', 'channels']\n",
      "Reduction order for nice/marker/ContingentNegativeVariation/default: ['channels']\n",
      "Reduction order for nice/marker/TimeLockedTopography/p1: ['channels', 'times']\n",
      "Reduction order for nice/marker/TimeLockedTopography/p3a: ['channels', 'times']\n",
      "Reduction order for nice/marker/TimeLockedTopography/p3a: ['channels', 'times']\n",
      "Autodetected number of jobs 24\n",
      "Effective window size : 16.384 (s)\n"
     ]
    },
    {
     "name": "stderr",
     "output_type": "stream",
     "text": [
      "[Parallel(n_jobs=2)]: Done   4 out of   4 | elapsed:    1.7s remaining:    0.0s\n",
      "[Parallel(n_jobs=2)]: Done   4 out of   4 | elapsed:    1.7s finished\n",
      "[Parallel(n_jobs=24)]: Using backend LokyBackend with 24 concurrent workers.\n",
      "[Parallel(n_jobs=24)]: Done   6 out of  24 | elapsed:    3.8s remaining:   11.5s\n",
      "[Parallel(n_jobs=24)]: Done  11 out of  24 | elapsed:    4.0s remaining:    4.7s\n"
     ]
    },
    {
     "name": "stdout",
     "output_type": "stream",
     "text": [
      "Reduction order for nice/marker/PowerSpectralDensity/alpha: ['frequency', 'channels']\n",
      "Reduction order for nice/marker/PowerSpectralDensity/alpha: ['frequency', 'channels']\n",
      "Reduction order for nice/marker/PowerSpectralDensity/delta: ['frequency', 'channels']\n",
      "Reduction order for nice/marker/PowerSpectralDensity/delta: ['frequency', 'channels']\n",
      "Reduction order for nice/marker/PowerSpectralDensity/theta: ['frequency', 'channels']\n",
      "Reduction order for nice/marker/PowerSpectralDensity/theta: ['frequency', 'channels']\n",
      "Reduction order for nice/marker/PowerSpectralDensity/gamma: ['frequency', 'channels']\n",
      "Reduction order for nice/marker/PowerSpectralDensity/theta: ['frequency', 'channels']\n",
      "Reduction order for nice/marker/PowerSpectralDensity/beta: ['frequency', 'channels']\n",
      "Reduction order for nice/marker/PowerSpectralDensity/beta: ['frequency', 'channels']\n",
      "Running KolmogorovComplexity\n",
      "Elapsed time 0.019231557846069336 sec\n"
     ]
    },
    {
     "name": "stderr",
     "output_type": "stream",
     "text": [
      "[Parallel(n_jobs=24)]: Done  16 out of  24 | elapsed:    4.0s remaining:    2.0s\n",
      "[Parallel(n_jobs=24)]: Done  21 out of  24 | elapsed:    4.2s remaining:    0.6s\n",
      "[Parallel(n_jobs=24)]: Done  24 out of  24 | elapsed:    4.2s finished\n"
     ]
    },
    {
     "name": "stdout",
     "output_type": "stream",
     "text": [
      "Reduction order for nice/marker/KolmogorovComplexity/default: ['channels']\n",
      "Filtering  at 10.42 Hz\n",
      "Performing symbolic transformation\n",
      "Reduction order for nice/marker/PermutationEntropy/default: ['channels']\n",
      "Autodetected number of jobs 2\n",
      "Computing CSD\n",
      "Using 10-5 locations for CSD\n",
      "Using 2 jobs\n"
     ]
    },
    {
     "name": "stderr",
     "output_type": "stream",
     "text": [
      "[Parallel(n_jobs=2)]: Using backend LokyBackend with 2 concurrent workers.\n"
     ]
    },
    {
     "name": "stdout",
     "output_type": "stream",
     "text": [
      "Filtering  at 10.42 Hz\n",
      "Reduction order for nice/marker/SymbolicMutualInformation/default: ['channels_y', 'channels']\n",
      "Reduction order for nice/marker/ContingentNegativeVariation/default: ['channels']\n",
      "Reduction order for nice/marker/TimeLockedTopography/p1: ['channels', 'times']\n",
      "Reduction order for nice/marker/TimeLockedTopography/p3a: ['channels', 'times']\n",
      "Reduction order for nice/marker/TimeLockedTopography/p3a: ['channels', 'times']\n",
      "Autodetected number of jobs 24\n",
      "Effective window size : 16.384 (s)\n"
     ]
    },
    {
     "name": "stderr",
     "output_type": "stream",
     "text": [
      "[Parallel(n_jobs=2)]: Done  12 out of  12 | elapsed:    1.7s finished\n",
      "[Parallel(n_jobs=24)]: Using backend LokyBackend with 24 concurrent workers.\n",
      "[Parallel(n_jobs=24)]: Done   6 out of  24 | elapsed:    3.7s remaining:   11.2s\n",
      "[Parallel(n_jobs=24)]: Done  11 out of  24 | elapsed:    3.9s remaining:    4.6s\n",
      "[Parallel(n_jobs=24)]: Done  16 out of  24 | elapsed:    4.0s remaining:    2.0s\n",
      "[Parallel(n_jobs=24)]: Done  21 out of  24 | elapsed:    4.0s remaining:    0.6s\n",
      "[Parallel(n_jobs=24)]: Done  24 out of  24 | elapsed:    4.2s finished\n"
     ]
    },
    {
     "name": "stdout",
     "output_type": "stream",
     "text": [
      "Reduction order for nice/marker/PowerSpectralDensity/alpha: ['frequency', 'channels']\n",
      "Reduction order for nice/marker/PowerSpectralDensity/alpha: ['frequency', 'channels']\n",
      "Reduction order for nice/marker/PowerSpectralDensity/delta: ['frequency', 'channels']\n",
      "Reduction order for nice/marker/PowerSpectralDensity/delta: ['frequency', 'channels']\n",
      "Reduction order for nice/marker/PowerSpectralDensity/theta: ['frequency', 'channels']\n",
      "Reduction order for nice/marker/PowerSpectralDensity/theta: ['frequency', 'channels']\n",
      "Reduction order for nice/marker/PowerSpectralDensity/gamma: ['frequency', 'channels']\n",
      "Reduction order for nice/marker/PowerSpectralDensity/theta: ['frequency', 'channels']\n",
      "Reduction order for nice/marker/PowerSpectralDensity/beta: ['frequency', 'channels']\n",
      "Reduction order for nice/marker/PowerSpectralDensity/beta: ['frequency', 'channels']\n",
      "Running KolmogorovComplexity\n",
      "Elapsed time 0.0446467399597168 sec\n",
      "Reduction order for nice/marker/KolmogorovComplexity/default: ['channels']\n",
      "Filtering  at 10.42 Hz\n",
      "Performing symbolic transformation\n",
      "Reduction order for nice/marker/PermutationEntropy/default: ['channels']\n",
      "Autodetected number of jobs 2\n",
      "Computing CSD\n",
      "Using 10-5 locations for CSD\n",
      "Using 2 jobs\n"
     ]
    },
    {
     "name": "stderr",
     "output_type": "stream",
     "text": [
      "[Parallel(n_jobs=2)]: Using backend LokyBackend with 2 concurrent workers.\n"
     ]
    },
    {
     "name": "stdout",
     "output_type": "stream",
     "text": [
      "Filtering  at 10.42 Hz\n",
      "Reduction order for nice/marker/SymbolicMutualInformation/default: ['channels_y', 'channels']\n"
     ]
    },
    {
     "name": "stderr",
     "output_type": "stream",
     "text": [
      "[Parallel(n_jobs=2)]: Done  18 tasks      | elapsed:    1.7s\n",
      "[Parallel(n_jobs=2)]: Done  28 out of  28 | elapsed:    1.7s finished\n"
     ]
    },
    {
     "name": "stdout",
     "output_type": "stream",
     "text": [
      "Reduction order for nice/marker/ContingentNegativeVariation/default: ['channels']\n",
      "Reduction order for nice/marker/TimeLockedTopography/p1: ['channels', 'times']\n",
      "Reduction order for nice/marker/TimeLockedTopography/p3a: ['channels', 'times']\n",
      "Reduction order for nice/marker/TimeLockedTopography/p3a: ['channels', 'times']\n",
      "\n",
      "#########################################\n",
      "Computing markers for participant VP36\n",
      "#########################################\n",
      "\n",
      "Reading /media/nicolas.bruno/63f8a366-34b7-4896-a7ce-b5fb4ee78535/Nico/MW_eeg_data/minmarker/VP36/VP36_evoked_ar_subtracted_epo.fif ...\n",
      "    Found the data of interest:\n",
      "        t =    -200.00 ...     600.00 ms\n",
      "        0 CTF compensation matrices available\n",
      "Not setting metadata\n",
      "Not setting metadata\n",
      "147 matching events found\n",
      "No baseline correction applied\n",
      "0 projection items activated\n",
      "Reading /media/nicolas.bruno/63f8a366-34b7-4896-a7ce-b5fb4ee78535/Nico/MW_eeg_data/minmarker/VP36/VP36_evoked_ar_rereferenced_epo.fif ...\n",
      "    Found the data of interest:\n",
      "        t =    -200.00 ...     600.00 ms\n",
      "        0 CTF compensation matrices available\n",
      "Not setting metadata\n",
      "Not setting metadata\n",
      "147 matching events found\n",
      "No baseline correction applied\n",
      "0 projection items activated\n",
      "Autodetected number of jobs 24\n",
      "Effective window size : 16.384 (s)\n"
     ]
    },
    {
     "name": "stderr",
     "output_type": "stream",
     "text": [
      "[Parallel(n_jobs=24)]: Using backend LokyBackend with 24 concurrent workers.\n",
      "[Parallel(n_jobs=24)]: Done   6 out of  24 | elapsed:    3.8s remaining:   11.3s\n",
      "[Parallel(n_jobs=24)]: Done  11 out of  24 | elapsed:    3.8s remaining:    4.5s\n",
      "[Parallel(n_jobs=24)]: Done  16 out of  24 | elapsed:    3.9s remaining:    1.9s\n"
     ]
    },
    {
     "name": "stdout",
     "output_type": "stream",
     "text": [
      "Reduction order for nice/marker/PowerSpectralDensity/alpha: ['frequency', 'channels']\n",
      "Reduction order for nice/marker/PowerSpectralDensity/alpha: ['frequency', 'channels']\n",
      "Reduction order for nice/marker/PowerSpectralDensity/delta: ['frequency', 'channels']\n",
      "Reduction order for nice/marker/PowerSpectralDensity/delta: ['frequency', 'channels']\n",
      "Reduction order for nice/marker/PowerSpectralDensity/theta: ['frequency', 'channels']\n",
      "Reduction order for nice/marker/PowerSpectralDensity/theta: ['frequency', 'channels']\n",
      "Reduction order for nice/marker/PowerSpectralDensity/gamma: ['frequency', 'channels']\n",
      "Reduction order for nice/marker/PowerSpectralDensity/theta: ['frequency', 'channels']\n",
      "Reduction order for nice/marker/PowerSpectralDensity/beta: ['frequency', 'channels']\n",
      "Reduction order for nice/marker/PowerSpectralDensity/beta: ['frequency', 'channels']\n",
      "Running KolmogorovComplexity\n",
      "Elapsed time 0.09015846252441406 sec\n"
     ]
    },
    {
     "name": "stderr",
     "output_type": "stream",
     "text": [
      "[Parallel(n_jobs=24)]: Done  21 out of  24 | elapsed:    4.0s remaining:    0.6s\n",
      "[Parallel(n_jobs=24)]: Done  24 out of  24 | elapsed:    4.0s finished\n"
     ]
    },
    {
     "name": "stdout",
     "output_type": "stream",
     "text": [
      "Reduction order for nice/marker/KolmogorovComplexity/default: ['channels']\n",
      "Filtering  at 10.42 Hz\n",
      "Performing symbolic transformation\n",
      "Reduction order for nice/marker/PermutationEntropy/default: ['channels']\n",
      "Autodetected number of jobs 2\n",
      "Computing CSD\n",
      "Using 10-5 locations for CSD\n",
      "Using 2 jobs\n"
     ]
    },
    {
     "name": "stderr",
     "output_type": "stream",
     "text": [
      "[Parallel(n_jobs=2)]: Using backend LokyBackend with 2 concurrent workers.\n"
     ]
    },
    {
     "name": "stdout",
     "output_type": "stream",
     "text": [
      "Filtering  at 10.42 Hz\n"
     ]
    },
    {
     "name": "stderr",
     "output_type": "stream",
     "text": [
      "[Parallel(n_jobs=2)]: Done  18 tasks      | elapsed:    1.7s\n",
      "[Parallel(n_jobs=2)]: Done  63 out of  63 | elapsed:    1.8s finished\n"
     ]
    },
    {
     "name": "stdout",
     "output_type": "stream",
     "text": [
      "Reduction order for nice/marker/SymbolicMutualInformation/default: ['channels_y', 'channels']\n",
      "Reduction order for nice/marker/ContingentNegativeVariation/default: ['channels']\n",
      "Reduction order for nice/marker/TimeLockedTopography/p1: ['channels', 'times']\n",
      "Reduction order for nice/marker/TimeLockedTopography/p3a: ['channels', 'times']\n",
      "Reduction order for nice/marker/TimeLockedTopography/p3a: ['channels', 'times']\n",
      "Autodetected number of jobs 24\n",
      "Effective window size : 16.384 (s)\n"
     ]
    },
    {
     "name": "stderr",
     "output_type": "stream",
     "text": [
      "[Parallel(n_jobs=24)]: Using backend LokyBackend with 24 concurrent workers.\n",
      "[Parallel(n_jobs=24)]: Done   6 out of  24 | elapsed:    3.7s remaining:   11.1s\n",
      "[Parallel(n_jobs=24)]: Done  11 out of  24 | elapsed:    3.7s remaining:    4.4s\n",
      "[Parallel(n_jobs=24)]: Done  16 out of  24 | elapsed:    3.8s remaining:    1.9s\n",
      "[Parallel(n_jobs=24)]: Done  21 out of  24 | elapsed:    3.8s remaining:    0.5s\n"
     ]
    },
    {
     "name": "stdout",
     "output_type": "stream",
     "text": [
      "Reduction order for nice/marker/PowerSpectralDensity/alpha: ['frequency', 'channels']\n",
      "Reduction order for nice/marker/PowerSpectralDensity/alpha: ['frequency', 'channels']\n",
      "Reduction order for nice/marker/PowerSpectralDensity/delta: ['frequency', 'channels']\n",
      "Reduction order for nice/marker/PowerSpectralDensity/delta: ['frequency', 'channels']\n",
      "Reduction order for nice/marker/PowerSpectralDensity/theta: ['frequency', 'channels']\n",
      "Reduction order for nice/marker/PowerSpectralDensity/theta: ['frequency', 'channels']\n",
      "Reduction order for nice/marker/PowerSpectralDensity/gamma: ['frequency', 'channels']\n",
      "Reduction order for nice/marker/PowerSpectralDensity/theta: ['frequency', 'channels']\n",
      "Reduction order for nice/marker/PowerSpectralDensity/beta: ['frequency', 'channels']\n",
      "Reduction order for nice/marker/PowerSpectralDensity/beta: ['frequency', 'channels']\n",
      "Running KolmogorovComplexity\n",
      "Elapsed time 0.05609726905822754 sec\n",
      "Reduction order for nice/marker/KolmogorovComplexity/default: ['channels']\n",
      "Filtering  at 10.42 Hz\n",
      "Performing symbolic transformation\n"
     ]
    },
    {
     "name": "stderr",
     "output_type": "stream",
     "text": [
      "[Parallel(n_jobs=24)]: Done  24 out of  24 | elapsed:    4.0s finished\n"
     ]
    },
    {
     "name": "stdout",
     "output_type": "stream",
     "text": [
      "Reduction order for nice/marker/PermutationEntropy/default: ['channels']\n",
      "Autodetected number of jobs 2\n",
      "Computing CSD\n",
      "Using 10-5 locations for CSD\n",
      "Using 2 jobs\n"
     ]
    },
    {
     "name": "stderr",
     "output_type": "stream",
     "text": [
      "[Parallel(n_jobs=2)]: Using backend LokyBackend with 2 concurrent workers.\n"
     ]
    },
    {
     "name": "stdout",
     "output_type": "stream",
     "text": [
      "Filtering  at 10.42 Hz\n"
     ]
    },
    {
     "name": "stderr",
     "output_type": "stream",
     "text": [
      "[Parallel(n_jobs=2)]: Done  18 tasks      | elapsed:    1.7s\n",
      "[Parallel(n_jobs=2)]: Done  38 out of  38 | elapsed:    1.7s finished\n"
     ]
    },
    {
     "name": "stdout",
     "output_type": "stream",
     "text": [
      "Reduction order for nice/marker/SymbolicMutualInformation/default: ['channels_y', 'channels']\n",
      "Reduction order for nice/marker/ContingentNegativeVariation/default: ['channels']\n",
      "Reduction order for nice/marker/TimeLockedTopography/p1: ['channels', 'times']\n",
      "Reduction order for nice/marker/TimeLockedTopography/p3a: ['channels', 'times']\n",
      "Reduction order for nice/marker/TimeLockedTopography/p3a: ['channels', 'times']\n",
      "Autodetected number of jobs 24\n",
      "Effective window size : 16.384 (s)\n"
     ]
    },
    {
     "name": "stderr",
     "output_type": "stream",
     "text": [
      "[Parallel(n_jobs=24)]: Using backend LokyBackend with 24 concurrent workers.\n",
      "[Parallel(n_jobs=24)]: Done   6 out of  24 | elapsed:    3.6s remaining:   10.9s\n",
      "[Parallel(n_jobs=24)]: Done  11 out of  24 | elapsed:    3.7s remaining:    4.4s\n",
      "[Parallel(n_jobs=24)]: Done  16 out of  24 | elapsed:    3.8s remaining:    1.9s\n"
     ]
    },
    {
     "name": "stdout",
     "output_type": "stream",
     "text": [
      "Reduction order for nice/marker/PowerSpectralDensity/alpha: ['frequency', 'channels']\n",
      "Reduction order for nice/marker/PowerSpectralDensity/alpha: ['frequency', 'channels']\n",
      "Reduction order for nice/marker/PowerSpectralDensity/delta: ['frequency', 'channels']\n",
      "Reduction order for nice/marker/PowerSpectralDensity/delta: ['frequency', 'channels']\n",
      "Reduction order for nice/marker/PowerSpectralDensity/theta: ['frequency', 'channels']\n",
      "Reduction order for nice/marker/PowerSpectralDensity/theta: ['frequency', 'channels']\n",
      "Reduction order for nice/marker/PowerSpectralDensity/gamma: ['frequency', 'channels']\n",
      "Reduction order for nice/marker/PowerSpectralDensity/theta: ['frequency', 'channels']\n",
      "Reduction order for nice/marker/PowerSpectralDensity/beta: ['frequency', 'channels']\n",
      "Reduction order for nice/marker/PowerSpectralDensity/beta: ['frequency', 'channels']\n",
      "Running KolmogorovComplexity\n",
      "Elapsed time 0.011322259902954102 sec\n",
      "Reduction order for nice/marker/KolmogorovComplexity/default: ['channels']\n",
      "Filtering  at 10.42 Hz\n",
      "Performing symbolic transformation\n"
     ]
    },
    {
     "name": "stderr",
     "output_type": "stream",
     "text": [
      "[Parallel(n_jobs=24)]: Done  21 out of  24 | elapsed:    3.8s remaining:    0.5s\n",
      "[Parallel(n_jobs=24)]: Done  24 out of  24 | elapsed:    3.9s finished\n"
     ]
    },
    {
     "name": "stdout",
     "output_type": "stream",
     "text": [
      "Reduction order for nice/marker/PermutationEntropy/default: ['channels']\n",
      "Autodetected number of jobs 2\n",
      "Computing CSD\n",
      "Using 10-5 locations for CSD\n",
      "Using 2 jobs\n"
     ]
    },
    {
     "name": "stderr",
     "output_type": "stream",
     "text": [
      "[Parallel(n_jobs=2)]: Using backend LokyBackend with 2 concurrent workers.\n"
     ]
    },
    {
     "name": "stdout",
     "output_type": "stream",
     "text": [
      "Filtering  at 10.42 Hz\n",
      "Reduction order for nice/marker/SymbolicMutualInformation/default: ['channels_y', 'channels']\n",
      "Reduction order for nice/marker/ContingentNegativeVariation/default: ['channels']\n",
      "Reduction order for nice/marker/TimeLockedTopography/p1: ['channels', 'times']\n",
      "Reduction order for nice/marker/TimeLockedTopography/p3a: ['channels', 'times']\n",
      "Reduction order for nice/marker/TimeLockedTopography/p3a: ['channels', 'times']\n",
      "Autodetected number of jobs 24\n",
      "Effective window size : 16.384 (s)\n"
     ]
    },
    {
     "name": "stderr",
     "output_type": "stream",
     "text": [
      "[Parallel(n_jobs=2)]: Done   8 out of   8 | elapsed:    1.6s finished\n",
      "[Parallel(n_jobs=24)]: Using backend LokyBackend with 24 concurrent workers.\n",
      "[Parallel(n_jobs=24)]: Done   6 out of  24 | elapsed:    3.6s remaining:   10.9s\n",
      "[Parallel(n_jobs=24)]: Done  11 out of  24 | elapsed:    3.7s remaining:    4.4s\n",
      "[Parallel(n_jobs=24)]: Done  16 out of  24 | elapsed:    3.7s remaining:    1.9s\n",
      "[Parallel(n_jobs=24)]: Done  21 out of  24 | elapsed:    3.8s remaining:    0.5s\n"
     ]
    },
    {
     "name": "stdout",
     "output_type": "stream",
     "text": [
      "Reduction order for nice/marker/PowerSpectralDensity/alpha: ['frequency', 'channels']\n",
      "Reduction order for nice/marker/PowerSpectralDensity/alpha: ['frequency', 'channels']\n",
      "Reduction order for nice/marker/PowerSpectralDensity/delta: ['frequency', 'channels']\n",
      "Reduction order for nice/marker/PowerSpectralDensity/delta: ['frequency', 'channels']\n",
      "Reduction order for nice/marker/PowerSpectralDensity/theta: ['frequency', 'channels']\n",
      "Reduction order for nice/marker/PowerSpectralDensity/theta: ['frequency', 'channels']\n",
      "Reduction order for nice/marker/PowerSpectralDensity/gamma: ['frequency', 'channels']\n",
      "Reduction order for nice/marker/PowerSpectralDensity/theta: ['frequency', 'channels']\n",
      "Reduction order for nice/marker/PowerSpectralDensity/beta: ['frequency', 'channels']\n",
      "Reduction order for nice/marker/PowerSpectralDensity/beta: ['frequency', 'channels']\n",
      "Running KolmogorovComplexity\n",
      "Elapsed time 0.0028307437896728516 sec\n",
      "Reduction order for nice/marker/KolmogorovComplexity/default: ['channels']\n",
      "Filtering  at 10.42 Hz\n",
      "Performing symbolic transformation\n"
     ]
    },
    {
     "name": "stderr",
     "output_type": "stream",
     "text": [
      "[Parallel(n_jobs=24)]: Done  24 out of  24 | elapsed:    3.9s finished\n"
     ]
    },
    {
     "name": "stdout",
     "output_type": "stream",
     "text": [
      "Reduction order for nice/marker/PermutationEntropy/default: ['channels']\n",
      "Autodetected number of jobs 2\n",
      "Computing CSD\n",
      "Using 10-5 locations for CSD\n",
      "Using 2 jobs\n"
     ]
    },
    {
     "name": "stderr",
     "output_type": "stream",
     "text": [
      "[Parallel(n_jobs=2)]: Using backend LokyBackend with 2 concurrent workers.\n"
     ]
    },
    {
     "name": "stdout",
     "output_type": "stream",
     "text": [
      "Filtering  at 10.42 Hz\n",
      "Reduction order for nice/marker/SymbolicMutualInformation/default: ['channels_y', 'channels']\n",
      "Reduction order for nice/marker/ContingentNegativeVariation/default: ['channels']\n",
      "Reduction order for nice/marker/TimeLockedTopography/p1: ['channels', 'times']\n",
      "Reduction order for nice/marker/TimeLockedTopography/p3a: ['channels', 'times']\n",
      "Reduction order for nice/marker/TimeLockedTopography/p3a: ['channels', 'times']\n",
      "Autodetected number of jobs 24\n",
      "Effective window size : 16.384 (s)\n"
     ]
    },
    {
     "name": "stderr",
     "output_type": "stream",
     "text": [
      "[Parallel(n_jobs=2)]: Done   2 out of   2 | elapsed:    1.6s remaining:    0.0s\n",
      "[Parallel(n_jobs=2)]: Done   2 out of   2 | elapsed:    1.6s finished\n",
      "[Parallel(n_jobs=24)]: Using backend LokyBackend with 24 concurrent workers.\n",
      "[Parallel(n_jobs=24)]: Done   6 out of  24 | elapsed:    3.8s remaining:   11.5s\n",
      "[Parallel(n_jobs=24)]: Done  11 out of  24 | elapsed:    3.9s remaining:    4.7s\n",
      "[Parallel(n_jobs=24)]: Done  16 out of  24 | elapsed:    4.0s remaining:    2.0s\n"
     ]
    },
    {
     "name": "stdout",
     "output_type": "stream",
     "text": [
      "Reduction order for nice/marker/PowerSpectralDensity/alpha: ['frequency', 'channels']\n",
      "Reduction order for nice/marker/PowerSpectralDensity/alpha: ['frequency', 'channels']\n",
      "Reduction order for nice/marker/PowerSpectralDensity/delta: ['frequency', 'channels']\n",
      "Reduction order for nice/marker/PowerSpectralDensity/delta: ['frequency', 'channels']\n",
      "Reduction order for nice/marker/PowerSpectralDensity/theta: ['frequency', 'channels']\n",
      "Reduction order for nice/marker/PowerSpectralDensity/theta: ['frequency', 'channels']\n",
      "Reduction order for nice/marker/PowerSpectralDensity/gamma: ['frequency', 'channels']\n",
      "Reduction order for nice/marker/PowerSpectralDensity/theta: ['frequency', 'channels']\n",
      "Reduction order for nice/marker/PowerSpectralDensity/beta: ['frequency', 'channels']\n",
      "Reduction order for nice/marker/PowerSpectralDensity/beta: ['frequency', 'channels']\n",
      "Running KolmogorovComplexity\n",
      "Elapsed time 0.021363258361816406 sec\n",
      "Reduction order for nice/marker/KolmogorovComplexity/default: ['channels']\n",
      "Filtering  at 10.42 Hz\n",
      "Performing symbolic transformation\n"
     ]
    },
    {
     "name": "stderr",
     "output_type": "stream",
     "text": [
      "[Parallel(n_jobs=24)]: Done  21 out of  24 | elapsed:    4.2s remaining:    0.6s\n",
      "[Parallel(n_jobs=24)]: Done  24 out of  24 | elapsed:    4.3s finished\n"
     ]
    },
    {
     "name": "stdout",
     "output_type": "stream",
     "text": [
      "Reduction order for nice/marker/PermutationEntropy/default: ['channels']\n",
      "Autodetected number of jobs 2\n",
      "Computing CSD\n",
      "Using 10-5 locations for CSD\n",
      "Using 2 jobs\n"
     ]
    },
    {
     "name": "stderr",
     "output_type": "stream",
     "text": [
      "[Parallel(n_jobs=2)]: Using backend LokyBackend with 2 concurrent workers.\n"
     ]
    },
    {
     "name": "stdout",
     "output_type": "stream",
     "text": [
      "Filtering  at 10.42 Hz\n",
      "Reduction order for nice/marker/SymbolicMutualInformation/default: ['channels_y', 'channels']\n",
      "Reduction order for nice/marker/ContingentNegativeVariation/default: ['channels']\n",
      "Reduction order for nice/marker/TimeLockedTopography/p1: ['channels', 'times']\n",
      "Reduction order for nice/marker/TimeLockedTopography/p3a: ['channels', 'times']\n",
      "Reduction order for nice/marker/TimeLockedTopography/p3a: ['channels', 'times']\n",
      "Autodetected number of jobs 24\n",
      "Effective window size : 16.384 (s)\n"
     ]
    },
    {
     "name": "stderr",
     "output_type": "stream",
     "text": [
      "[Parallel(n_jobs=2)]: Done  15 out of  15 | elapsed:    1.7s finished\n",
      "[Parallel(n_jobs=24)]: Using backend LokyBackend with 24 concurrent workers.\n",
      "[Parallel(n_jobs=24)]: Done   6 out of  24 | elapsed:    3.7s remaining:   11.1s\n",
      "[Parallel(n_jobs=24)]: Done  11 out of  24 | elapsed:    3.8s remaining:    4.4s\n",
      "[Parallel(n_jobs=24)]: Done  16 out of  24 | elapsed:    3.9s remaining:    2.0s\n"
     ]
    },
    {
     "name": "stdout",
     "output_type": "stream",
     "text": [
      "Reduction order for nice/marker/PowerSpectralDensity/alpha: ['frequency', 'channels']\n",
      "Reduction order for nice/marker/PowerSpectralDensity/alpha: ['frequency', 'channels']\n",
      "Reduction order for nice/marker/PowerSpectralDensity/delta: ['frequency', 'channels']\n",
      "Reduction order for nice/marker/PowerSpectralDensity/delta: ['frequency', 'channels']\n",
      "Reduction order for nice/marker/PowerSpectralDensity/theta: ['frequency', 'channels']\n",
      "Reduction order for nice/marker/PowerSpectralDensity/theta: ['frequency', 'channels']\n",
      "Reduction order for nice/marker/PowerSpectralDensity/gamma: ['frequency', 'channels']\n",
      "Reduction order for nice/marker/PowerSpectralDensity/theta: ['frequency', 'channels']\n",
      "Reduction order for nice/marker/PowerSpectralDensity/beta: ['frequency', 'channels']\n",
      "Reduction order for nice/marker/PowerSpectralDensity/beta: ['frequency', 'channels']\n",
      "Running KolmogorovComplexity\n",
      "Elapsed time 0.0045604705810546875 sec\n",
      "Reduction order for nice/marker/KolmogorovComplexity/default: ['channels']\n",
      "Filtering  at 10.42 Hz\n",
      "Performing symbolic transformation\n"
     ]
    },
    {
     "name": "stderr",
     "output_type": "stream",
     "text": [
      "[Parallel(n_jobs=24)]: Done  21 out of  24 | elapsed:    4.0s remaining:    0.6s\n",
      "[Parallel(n_jobs=24)]: Done  24 out of  24 | elapsed:    4.1s finished\n"
     ]
    },
    {
     "name": "stdout",
     "output_type": "stream",
     "text": [
      "Reduction order for nice/marker/PermutationEntropy/default: ['channels']\n",
      "Autodetected number of jobs 2\n",
      "Computing CSD\n",
      "Using 10-5 locations for CSD\n",
      "Using 2 jobs\n"
     ]
    },
    {
     "name": "stderr",
     "output_type": "stream",
     "text": [
      "[Parallel(n_jobs=2)]: Using backend LokyBackend with 2 concurrent workers.\n"
     ]
    },
    {
     "name": "stdout",
     "output_type": "stream",
     "text": [
      "Filtering  at 10.42 Hz\n",
      "Reduction order for nice/marker/SymbolicMutualInformation/default: ['channels_y', 'channels']\n",
      "Reduction order for nice/marker/ContingentNegativeVariation/default: ['channels']\n",
      "Reduction order for nice/marker/TimeLockedTopography/p1: ['channels', 'times']\n",
      "Reduction order for nice/marker/TimeLockedTopography/p3a: ['channels', 'times']\n",
      "Reduction order for nice/marker/TimeLockedTopography/p3a: ['channels', 'times']\n",
      "Autodetected number of jobs 24\n",
      "Effective window size : 16.384 (s)\n"
     ]
    },
    {
     "name": "stderr",
     "output_type": "stream",
     "text": [
      "[Parallel(n_jobs=2)]: Done   3 out of   3 | elapsed:    1.7s remaining:    0.0s\n",
      "[Parallel(n_jobs=2)]: Done   3 out of   3 | elapsed:    1.7s finished\n",
      "[Parallel(n_jobs=24)]: Using backend LokyBackend with 24 concurrent workers.\n",
      "[Parallel(n_jobs=24)]: Done   6 out of  24 | elapsed:    3.6s remaining:   10.9s\n",
      "[Parallel(n_jobs=24)]: Done  11 out of  24 | elapsed:    3.7s remaining:    4.4s\n",
      "[Parallel(n_jobs=24)]: Done  16 out of  24 | elapsed:    3.8s remaining:    1.9s\n"
     ]
    },
    {
     "name": "stdout",
     "output_type": "stream",
     "text": [
      "Reduction order for nice/marker/PowerSpectralDensity/alpha: ['frequency', 'channels']\n",
      "Reduction order for nice/marker/PowerSpectralDensity/alpha: ['frequency', 'channels']\n",
      "Reduction order for nice/marker/PowerSpectralDensity/delta: ['frequency', 'channels']\n",
      "Reduction order for nice/marker/PowerSpectralDensity/delta: ['frequency', 'channels']\n",
      "Reduction order for nice/marker/PowerSpectralDensity/theta: ['frequency', 'channels']\n",
      "Reduction order for nice/marker/PowerSpectralDensity/theta: ['frequency', 'channels']\n",
      "Reduction order for nice/marker/PowerSpectralDensity/gamma: ['frequency', 'channels']\n",
      "Reduction order for nice/marker/PowerSpectralDensity/theta: ['frequency', 'channels']\n",
      "Reduction order for nice/marker/PowerSpectralDensity/beta: ['frequency', 'channels']\n",
      "Reduction order for nice/marker/PowerSpectralDensity/beta: ['frequency', 'channels']\n",
      "Running KolmogorovComplexity\n",
      "Elapsed time 0.02196359634399414 sec\n",
      "Reduction order for nice/marker/KolmogorovComplexity/default: ['channels']\n",
      "Filtering  at 10.42 Hz\n",
      "Performing symbolic transformation\n"
     ]
    },
    {
     "name": "stderr",
     "output_type": "stream",
     "text": [
      "[Parallel(n_jobs=24)]: Done  21 out of  24 | elapsed:    3.9s remaining:    0.6s\n",
      "[Parallel(n_jobs=24)]: Done  24 out of  24 | elapsed:    4.0s finished\n"
     ]
    },
    {
     "name": "stdout",
     "output_type": "stream",
     "text": [
      "Reduction order for nice/marker/PermutationEntropy/default: ['channels']\n",
      "Autodetected number of jobs 2\n",
      "Computing CSD\n",
      "Using 10-5 locations for CSD\n",
      "Using 2 jobs\n"
     ]
    },
    {
     "name": "stderr",
     "output_type": "stream",
     "text": [
      "[Parallel(n_jobs=2)]: Using backend LokyBackend with 2 concurrent workers.\n"
     ]
    },
    {
     "name": "stdout",
     "output_type": "stream",
     "text": [
      "Filtering  at 10.42 Hz\n",
      "Reduction order for nice/marker/SymbolicMutualInformation/default: ['channels_y', 'channels']\n",
      "Reduction order for nice/marker/ContingentNegativeVariation/default: ['channels']\n",
      "Reduction order for nice/marker/TimeLockedTopography/p1: ['channels', 'times']\n",
      "Reduction order for nice/marker/TimeLockedTopography/p3a: ['channels', 'times']\n",
      "Reduction order for nice/marker/TimeLockedTopography/p3a: ['channels', 'times']\n",
      "Autodetected number of jobs 24\n",
      "Effective window size : 16.384 (s)\n"
     ]
    },
    {
     "name": "stderr",
     "output_type": "stream",
     "text": [
      "[Parallel(n_jobs=2)]: Done  13 out of  13 | elapsed:    1.7s finished\n",
      "[Parallel(n_jobs=24)]: Using backend LokyBackend with 24 concurrent workers.\n",
      "[Parallel(n_jobs=24)]: Done   6 out of  24 | elapsed:    3.6s remaining:   10.9s\n",
      "[Parallel(n_jobs=24)]: Done  11 out of  24 | elapsed:    3.7s remaining:    4.4s\n",
      "[Parallel(n_jobs=24)]: Done  16 out of  24 | elapsed:    3.8s remaining:    1.9s\n",
      "[Parallel(n_jobs=24)]: Done  21 out of  24 | elapsed:    3.8s remaining:    0.5s\n"
     ]
    },
    {
     "name": "stdout",
     "output_type": "stream",
     "text": [
      "Reduction order for nice/marker/PowerSpectralDensity/alpha: ['frequency', 'channels']\n",
      "Reduction order for nice/marker/PowerSpectralDensity/alpha: ['frequency', 'channels']\n",
      "Reduction order for nice/marker/PowerSpectralDensity/delta: ['frequency', 'channels']\n",
      "Reduction order for nice/marker/PowerSpectralDensity/delta: ['frequency', 'channels']\n",
      "Reduction order for nice/marker/PowerSpectralDensity/theta: ['frequency', 'channels']\n",
      "Reduction order for nice/marker/PowerSpectralDensity/theta: ['frequency', 'channels']\n",
      "Reduction order for nice/marker/PowerSpectralDensity/gamma: ['frequency', 'channels']\n",
      "Reduction order for nice/marker/PowerSpectralDensity/theta: ['frequency', 'channels']\n",
      "Reduction order for nice/marker/PowerSpectralDensity/beta: ['frequency', 'channels']\n",
      "Reduction order for nice/marker/PowerSpectralDensity/beta: ['frequency', 'channels']\n",
      "Running KolmogorovComplexity\n",
      "Elapsed time 0.0074634552001953125 sec\n",
      "Reduction order for nice/marker/KolmogorovComplexity/default: ['channels']\n",
      "Filtering  at 10.42 Hz\n",
      "Performing symbolic transformation\n"
     ]
    },
    {
     "name": "stderr",
     "output_type": "stream",
     "text": [
      "[Parallel(n_jobs=24)]: Done  24 out of  24 | elapsed:    3.9s finished\n"
     ]
    },
    {
     "name": "stdout",
     "output_type": "stream",
     "text": [
      "Reduction order for nice/marker/PermutationEntropy/default: ['channels']\n",
      "Autodetected number of jobs 2\n",
      "Computing CSD\n",
      "Using 10-5 locations for CSD\n",
      "Using 2 jobs\n"
     ]
    },
    {
     "name": "stderr",
     "output_type": "stream",
     "text": [
      "[Parallel(n_jobs=2)]: Using backend LokyBackend with 2 concurrent workers.\n"
     ]
    },
    {
     "name": "stdout",
     "output_type": "stream",
     "text": [
      "Filtering  at 10.42 Hz\n",
      "Reduction order for nice/marker/SymbolicMutualInformation/default: ['channels_y', 'channels']\n",
      "Reduction order for nice/marker/ContingentNegativeVariation/default: ['channels']\n",
      "Reduction order for nice/marker/TimeLockedTopography/p1: ['channels', 'times']\n",
      "Reduction order for nice/marker/TimeLockedTopography/p3a: ['channels', 'times']\n",
      "Reduction order for nice/marker/TimeLockedTopography/p3a: ['channels', 'times']\n",
      "Autodetected number of jobs 24\n",
      "Effective window size : 16.384 (s)\n"
     ]
    },
    {
     "name": "stderr",
     "output_type": "stream",
     "text": [
      "[Parallel(n_jobs=2)]: Done   5 out of   5 | elapsed:    1.7s finished\n",
      "[Parallel(n_jobs=24)]: Using backend LokyBackend with 24 concurrent workers.\n",
      "[Parallel(n_jobs=24)]: Done   6 out of  24 | elapsed:    3.7s remaining:   11.0s\n",
      "[Parallel(n_jobs=24)]: Done  11 out of  24 | elapsed:    3.7s remaining:    4.4s\n",
      "[Parallel(n_jobs=24)]: Done  16 out of  24 | elapsed:    3.8s remaining:    1.9s\n"
     ]
    },
    {
     "name": "stdout",
     "output_type": "stream",
     "text": [
      "Reduction order for nice/marker/PowerSpectralDensity/alpha: ['frequency', 'channels']\n",
      "Reduction order for nice/marker/PowerSpectralDensity/alpha: ['frequency', 'channels']\n",
      "Reduction order for nice/marker/PowerSpectralDensity/delta: ['frequency', 'channels']\n",
      "Reduction order for nice/marker/PowerSpectralDensity/delta: ['frequency', 'channels']\n",
      "Reduction order for nice/marker/PowerSpectralDensity/theta: ['frequency', 'channels']\n",
      "Reduction order for nice/marker/PowerSpectralDensity/theta: ['frequency', 'channels']\n",
      "Reduction order for nice/marker/PowerSpectralDensity/gamma: ['frequency', 'channels']\n",
      "Reduction order for nice/marker/PowerSpectralDensity/theta: ['frequency', 'channels']\n",
      "Reduction order for nice/marker/PowerSpectralDensity/beta: ['frequency', 'channels']\n",
      "Reduction order for nice/marker/PowerSpectralDensity/beta: ['frequency', 'channels']\n",
      "Running KolmogorovComplexity\n",
      "Elapsed time 0.012293815612792969 sec\n",
      "Reduction order for nice/marker/KolmogorovComplexity/default: ['channels']\n",
      "Filtering  at 10.42 Hz\n",
      "Performing symbolic transformation\n"
     ]
    },
    {
     "name": "stderr",
     "output_type": "stream",
     "text": [
      "[Parallel(n_jobs=24)]: Done  21 out of  24 | elapsed:    3.9s remaining:    0.6s\n",
      "[Parallel(n_jobs=24)]: Done  24 out of  24 | elapsed:    4.0s finished\n"
     ]
    },
    {
     "name": "stdout",
     "output_type": "stream",
     "text": [
      "Reduction order for nice/marker/PermutationEntropy/default: ['channels']\n",
      "Autodetected number of jobs 2\n",
      "Computing CSD\n",
      "Using 10-5 locations for CSD\n",
      "Using 2 jobs\n"
     ]
    },
    {
     "name": "stderr",
     "output_type": "stream",
     "text": [
      "[Parallel(n_jobs=2)]: Using backend LokyBackend with 2 concurrent workers.\n"
     ]
    },
    {
     "name": "stdout",
     "output_type": "stream",
     "text": [
      "Filtering  at 10.42 Hz\n",
      "Reduction order for nice/marker/SymbolicMutualInformation/default: ['channels_y', 'channels']\n",
      "Reduction order for nice/marker/ContingentNegativeVariation/default: ['channels']\n",
      "Reduction order for nice/marker/TimeLockedTopography/p1: ['channels', 'times']\n",
      "Reduction order for nice/marker/TimeLockedTopography/p3a: ['channels', 'times']\n",
      "Reduction order for nice/marker/TimeLockedTopography/p3a: ['channels', 'times']\n",
      "Autodetected number of jobs 24\n",
      "Effective window size : 16.384 (s)\n"
     ]
    },
    {
     "name": "stderr",
     "output_type": "stream",
     "text": [
      "[Parallel(n_jobs=2)]: Done   9 out of   9 | elapsed:    1.7s finished\n",
      "[Parallel(n_jobs=24)]: Using backend LokyBackend with 24 concurrent workers.\n",
      "[Parallel(n_jobs=24)]: Done   6 out of  24 | elapsed:    3.7s remaining:   11.2s\n",
      "[Parallel(n_jobs=24)]: Done  11 out of  24 | elapsed:    3.8s remaining:    4.5s\n",
      "[Parallel(n_jobs=24)]: Done  16 out of  24 | elapsed:    3.8s remaining:    1.9s\n",
      "[Parallel(n_jobs=24)]: Done  21 out of  24 | elapsed:    3.9s remaining:    0.6s\n"
     ]
    },
    {
     "name": "stdout",
     "output_type": "stream",
     "text": [
      "Reduction order for nice/marker/PowerSpectralDensity/alpha: ['frequency', 'channels']\n",
      "Reduction order for nice/marker/PowerSpectralDensity/alpha: ['frequency', 'channels']\n",
      "Reduction order for nice/marker/PowerSpectralDensity/delta: ['frequency', 'channels']\n",
      "Reduction order for nice/marker/PowerSpectralDensity/delta: ['frequency', 'channels']\n",
      "Reduction order for nice/marker/PowerSpectralDensity/theta: ['frequency', 'channels']\n",
      "Reduction order for nice/marker/PowerSpectralDensity/theta: ['frequency', 'channels']\n",
      "Reduction order for nice/marker/PowerSpectralDensity/gamma: ['frequency', 'channels']\n",
      "Reduction order for nice/marker/PowerSpectralDensity/theta: ['frequency', 'channels']\n",
      "Reduction order for nice/marker/PowerSpectralDensity/beta: ['frequency', 'channels']\n",
      "Reduction order for nice/marker/PowerSpectralDensity/beta: ['frequency', 'channels']\n",
      "Running KolmogorovComplexity\n",
      "Elapsed time 0.06314229965209961 sec\n",
      "Reduction order for nice/marker/KolmogorovComplexity/default: ['channels']\n",
      "Filtering  at 10.42 Hz\n",
      "Performing symbolic transformation\n"
     ]
    },
    {
     "name": "stderr",
     "output_type": "stream",
     "text": [
      "[Parallel(n_jobs=24)]: Done  24 out of  24 | elapsed:    4.0s finished\n"
     ]
    },
    {
     "name": "stdout",
     "output_type": "stream",
     "text": [
      "Reduction order for nice/marker/PermutationEntropy/default: ['channels']\n",
      "Autodetected number of jobs 2\n",
      "Computing CSD\n",
      "Using 10-5 locations for CSD\n",
      "Using 2 jobs\n"
     ]
    },
    {
     "name": "stderr",
     "output_type": "stream",
     "text": [
      "[Parallel(n_jobs=2)]: Using backend LokyBackend with 2 concurrent workers.\n"
     ]
    },
    {
     "name": "stdout",
     "output_type": "stream",
     "text": [
      "Filtering  at 10.42 Hz\n"
     ]
    },
    {
     "name": "stderr",
     "output_type": "stream",
     "text": [
      "[Parallel(n_jobs=2)]: Done  18 tasks      | elapsed:    1.7s\n",
      "[Parallel(n_jobs=2)]: Done  43 out of  43 | elapsed:    1.7s finished\n"
     ]
    },
    {
     "name": "stdout",
     "output_type": "stream",
     "text": [
      "Reduction order for nice/marker/SymbolicMutualInformation/default: ['channels_y', 'channels']\n",
      "Reduction order for nice/marker/ContingentNegativeVariation/default: ['channels']\n",
      "Reduction order for nice/marker/TimeLockedTopography/p1: ['channels', 'times']\n",
      "Reduction order for nice/marker/TimeLockedTopography/p3a: ['channels', 'times']\n",
      "Reduction order for nice/marker/TimeLockedTopography/p3a: ['channels', 'times']\n",
      "\n",
      "#########################################\n",
      "Computing markers for participant VP37\n",
      "#########################################\n",
      "\n",
      "Reading /media/nicolas.bruno/63f8a366-34b7-4896-a7ce-b5fb4ee78535/Nico/MW_eeg_data/minmarker/VP37/VP37_evoked_ar_subtracted_epo.fif ...\n",
      "    Found the data of interest:\n",
      "        t =    -200.00 ...     600.00 ms\n",
      "        0 CTF compensation matrices available\n",
      "Not setting metadata\n",
      "Not setting metadata\n",
      "181 matching events found\n",
      "No baseline correction applied\n",
      "0 projection items activated\n",
      "Reading /media/nicolas.bruno/63f8a366-34b7-4896-a7ce-b5fb4ee78535/Nico/MW_eeg_data/minmarker/VP37/VP37_evoked_ar_rereferenced_epo.fif ...\n",
      "    Found the data of interest:\n",
      "        t =    -200.00 ...     600.00 ms\n",
      "        0 CTF compensation matrices available\n",
      "Not setting metadata\n",
      "Not setting metadata\n",
      "181 matching events found\n",
      "No baseline correction applied\n",
      "0 projection items activated\n",
      "Autodetected number of jobs 24\n",
      "Effective window size : 16.384 (s)\n"
     ]
    },
    {
     "name": "stderr",
     "output_type": "stream",
     "text": [
      "[Parallel(n_jobs=24)]: Using backend LokyBackend with 24 concurrent workers.\n",
      "[Parallel(n_jobs=24)]: Done   6 out of  24 | elapsed:    3.9s remaining:   11.6s\n",
      "[Parallel(n_jobs=24)]: Done  11 out of  24 | elapsed:    4.0s remaining:    4.7s\n",
      "[Parallel(n_jobs=24)]: Done  16 out of  24 | elapsed:    4.1s remaining:    2.0s\n",
      "[Parallel(n_jobs=24)]: Done  21 out of  24 | elapsed:    4.2s remaining:    0.6s\n"
     ]
    },
    {
     "name": "stdout",
     "output_type": "stream",
     "text": [
      "Reduction order for nice/marker/PowerSpectralDensity/alpha: ['frequency', 'channels']\n",
      "Reduction order for nice/marker/PowerSpectralDensity/alpha: ['frequency', 'channels']\n",
      "Reduction order for nice/marker/PowerSpectralDensity/delta: ['frequency', 'channels']\n",
      "Reduction order for nice/marker/PowerSpectralDensity/delta: ['frequency', 'channels']\n",
      "Reduction order for nice/marker/PowerSpectralDensity/theta: ['frequency', 'channels']\n",
      "Reduction order for nice/marker/PowerSpectralDensity/theta: ['frequency', 'channels']\n",
      "Reduction order for nice/marker/PowerSpectralDensity/gamma: ['frequency', 'channels']\n",
      "Reduction order for nice/marker/PowerSpectralDensity/theta: ['frequency', 'channels']\n",
      "Reduction order for nice/marker/PowerSpectralDensity/beta: ['frequency', 'channels']\n",
      "Reduction order for nice/marker/PowerSpectralDensity/beta: ['frequency', 'channels']\n",
      "Running KolmogorovComplexity\n",
      "Elapsed time 0.09181094169616699 sec\n",
      "Reduction order for nice/marker/KolmogorovComplexity/default: ['channels']\n",
      "Filtering  at 10.42 Hz\n",
      "Performing symbolic transformation\n"
     ]
    },
    {
     "name": "stderr",
     "output_type": "stream",
     "text": [
      "[Parallel(n_jobs=24)]: Done  24 out of  24 | elapsed:    4.3s finished\n"
     ]
    },
    {
     "name": "stdout",
     "output_type": "stream",
     "text": [
      "Reduction order for nice/marker/PermutationEntropy/default: ['channels']\n",
      "Autodetected number of jobs 2\n",
      "Computing CSD\n",
      "Using 10-5 locations for CSD\n",
      "Using 2 jobs\n"
     ]
    },
    {
     "name": "stderr",
     "output_type": "stream",
     "text": [
      "[Parallel(n_jobs=2)]: Using backend LokyBackend with 2 concurrent workers.\n"
     ]
    },
    {
     "name": "stdout",
     "output_type": "stream",
     "text": [
      "Filtering  at 10.42 Hz\n"
     ]
    },
    {
     "name": "stderr",
     "output_type": "stream",
     "text": [
      "[Parallel(n_jobs=2)]: Done  18 tasks      | elapsed:    1.7s\n",
      "[Parallel(n_jobs=2)]: Done  63 out of  63 | elapsed:    1.8s finished\n"
     ]
    },
    {
     "name": "stdout",
     "output_type": "stream",
     "text": [
      "Reduction order for nice/marker/SymbolicMutualInformation/default: ['channels_y', 'channels']\n",
      "Reduction order for nice/marker/ContingentNegativeVariation/default: ['channels']\n",
      "Reduction order for nice/marker/TimeLockedTopography/p1: ['channels', 'times']\n",
      "Reduction order for nice/marker/TimeLockedTopography/p3a: ['channels', 'times']\n",
      "Reduction order for nice/marker/TimeLockedTopography/p3a: ['channels', 'times']\n",
      "Autodetected number of jobs 24\n",
      "Effective window size : 16.384 (s)\n"
     ]
    },
    {
     "name": "stderr",
     "output_type": "stream",
     "text": [
      "[Parallel(n_jobs=24)]: Using backend LokyBackend with 24 concurrent workers.\n",
      "[Parallel(n_jobs=24)]: Done   6 out of  24 | elapsed:    3.8s remaining:   11.3s\n",
      "[Parallel(n_jobs=24)]: Done  11 out of  24 | elapsed:    3.8s remaining:    4.5s\n",
      "[Parallel(n_jobs=24)]: Done  16 out of  24 | elapsed:    3.9s remaining:    1.9s\n",
      "[Parallel(n_jobs=24)]: Done  21 out of  24 | elapsed:    4.0s remaining:    0.6s\n"
     ]
    },
    {
     "name": "stdout",
     "output_type": "stream",
     "text": [
      "Reduction order for nice/marker/PowerSpectralDensity/alpha: ['frequency', 'channels']\n",
      "Reduction order for nice/marker/PowerSpectralDensity/alpha: ['frequency', 'channels']\n",
      "Reduction order for nice/marker/PowerSpectralDensity/delta: ['frequency', 'channels']\n",
      "Reduction order for nice/marker/PowerSpectralDensity/delta: ['frequency', 'channels']\n",
      "Reduction order for nice/marker/PowerSpectralDensity/theta: ['frequency', 'channels']\n",
      "Reduction order for nice/marker/PowerSpectralDensity/theta: ['frequency', 'channels']\n",
      "Reduction order for nice/marker/PowerSpectralDensity/gamma: ['frequency', 'channels']\n",
      "Reduction order for nice/marker/PowerSpectralDensity/theta: ['frequency', 'channels']\n",
      "Reduction order for nice/marker/PowerSpectralDensity/beta: ['frequency', 'channels']\n",
      "Reduction order for nice/marker/PowerSpectralDensity/beta: ['frequency', 'channels']\n",
      "Running KolmogorovComplexity\n",
      "Elapsed time 0.05276751518249512 sec\n",
      "Reduction order for nice/marker/KolmogorovComplexity/default: ['channels']\n",
      "Filtering  at 10.42 Hz\n",
      "Performing symbolic transformation\n"
     ]
    },
    {
     "name": "stderr",
     "output_type": "stream",
     "text": [
      "[Parallel(n_jobs=24)]: Done  24 out of  24 | elapsed:    4.1s finished\n"
     ]
    },
    {
     "name": "stdout",
     "output_type": "stream",
     "text": [
      "Reduction order for nice/marker/PermutationEntropy/default: ['channels']\n",
      "Autodetected number of jobs 2\n",
      "Computing CSD\n",
      "Using 10-5 locations for CSD\n",
      "Using 2 jobs\n"
     ]
    },
    {
     "name": "stderr",
     "output_type": "stream",
     "text": [
      "[Parallel(n_jobs=2)]: Using backend LokyBackend with 2 concurrent workers.\n"
     ]
    },
    {
     "name": "stdout",
     "output_type": "stream",
     "text": [
      "Filtering  at 10.42 Hz\n"
     ]
    },
    {
     "name": "stderr",
     "output_type": "stream",
     "text": [
      "[Parallel(n_jobs=2)]: Done  18 tasks      | elapsed:    1.7s\n",
      "[Parallel(n_jobs=2)]: Done  38 out of  38 | elapsed:    1.7s finished\n"
     ]
    },
    {
     "name": "stdout",
     "output_type": "stream",
     "text": [
      "Reduction order for nice/marker/SymbolicMutualInformation/default: ['channels_y', 'channels']\n",
      "Reduction order for nice/marker/ContingentNegativeVariation/default: ['channels']\n",
      "Reduction order for nice/marker/TimeLockedTopography/p1: ['channels', 'times']\n",
      "Reduction order for nice/marker/TimeLockedTopography/p3a: ['channels', 'times']\n",
      "Reduction order for nice/marker/TimeLockedTopography/p3a: ['channels', 'times']\n",
      "Autodetected number of jobs 24\n",
      "Effective window size : 16.384 (s)\n"
     ]
    },
    {
     "name": "stderr",
     "output_type": "stream",
     "text": [
      "[Parallel(n_jobs=24)]: Using backend LokyBackend with 24 concurrent workers.\n",
      "[Parallel(n_jobs=24)]: Done   6 out of  24 | elapsed:    3.6s remaining:   10.9s\n",
      "[Parallel(n_jobs=24)]: Done  11 out of  24 | elapsed:    3.7s remaining:    4.4s\n",
      "[Parallel(n_jobs=24)]: Done  16 out of  24 | elapsed:    3.7s remaining:    1.9s\n"
     ]
    },
    {
     "name": "stdout",
     "output_type": "stream",
     "text": [
      "Reduction order for nice/marker/PowerSpectralDensity/alpha: ['frequency', 'channels']\n",
      "Reduction order for nice/marker/PowerSpectralDensity/alpha: ['frequency', 'channels']\n",
      "Reduction order for nice/marker/PowerSpectralDensity/delta: ['frequency', 'channels']\n",
      "Reduction order for nice/marker/PowerSpectralDensity/delta: ['frequency', 'channels']\n",
      "Reduction order for nice/marker/PowerSpectralDensity/theta: ['frequency', 'channels']\n",
      "Reduction order for nice/marker/PowerSpectralDensity/theta: ['frequency', 'channels']\n",
      "Reduction order for nice/marker/PowerSpectralDensity/gamma: ['frequency', 'channels']\n",
      "Reduction order for nice/marker/PowerSpectralDensity/theta: ['frequency', 'channels']\n",
      "Reduction order for nice/marker/PowerSpectralDensity/beta: ['frequency', 'channels']\n",
      "Reduction order for nice/marker/PowerSpectralDensity/beta: ['frequency', 'channels']\n",
      "Running KolmogorovComplexity\n",
      "Elapsed time 0.01336669921875 sec\n",
      "Reduction order for nice/marker/KolmogorovComplexity/default: ['channels']\n",
      "Filtering  at 10.42 Hz\n",
      "Performing symbolic transformation\n"
     ]
    },
    {
     "name": "stderr",
     "output_type": "stream",
     "text": [
      "[Parallel(n_jobs=24)]: Done  21 out of  24 | elapsed:    3.8s remaining:    0.5s\n",
      "[Parallel(n_jobs=24)]: Done  24 out of  24 | elapsed:    3.9s finished\n"
     ]
    },
    {
     "name": "stdout",
     "output_type": "stream",
     "text": [
      "Reduction order for nice/marker/PermutationEntropy/default: ['channels']\n",
      "Autodetected number of jobs 2\n",
      "Computing CSD\n",
      "Using 10-5 locations for CSD\n",
      "Using 2 jobs\n"
     ]
    },
    {
     "name": "stderr",
     "output_type": "stream",
     "text": [
      "[Parallel(n_jobs=2)]: Using backend LokyBackend with 2 concurrent workers.\n"
     ]
    },
    {
     "name": "stdout",
     "output_type": "stream",
     "text": [
      "Filtering  at 10.42 Hz\n",
      "Reduction order for nice/marker/SymbolicMutualInformation/default: ['channels_y', 'channels']\n",
      "Reduction order for nice/marker/ContingentNegativeVariation/default: ['channels']\n",
      "Reduction order for nice/marker/TimeLockedTopography/p1: ['channels', 'times']\n",
      "Reduction order for nice/marker/TimeLockedTopography/p3a: ['channels', 'times']\n",
      "Reduction order for nice/marker/TimeLockedTopography/p3a: ['channels', 'times']\n",
      "Autodetected number of jobs 24\n",
      "Effective window size : 16.384 (s)\n"
     ]
    },
    {
     "name": "stderr",
     "output_type": "stream",
     "text": [
      "[Parallel(n_jobs=2)]: Done   8 out of   8 | elapsed:    1.7s finished\n",
      "[Parallel(n_jobs=24)]: Using backend LokyBackend with 24 concurrent workers.\n",
      "[Parallel(n_jobs=24)]: Done   6 out of  24 | elapsed:    3.7s remaining:   11.0s\n",
      "[Parallel(n_jobs=24)]: Done  11 out of  24 | elapsed:    3.7s remaining:    4.4s\n",
      "[Parallel(n_jobs=24)]: Done  16 out of  24 | elapsed:    3.8s remaining:    1.9s\n",
      "[Parallel(n_jobs=24)]: Done  21 out of  24 | elapsed:    3.8s remaining:    0.5s\n"
     ]
    },
    {
     "name": "stdout",
     "output_type": "stream",
     "text": [
      "Reduction order for nice/marker/PowerSpectralDensity/alpha: ['frequency', 'channels']\n",
      "Reduction order for nice/marker/PowerSpectralDensity/alpha: ['frequency', 'channels']\n",
      "Reduction order for nice/marker/PowerSpectralDensity/delta: ['frequency', 'channels']\n",
      "Reduction order for nice/marker/PowerSpectralDensity/delta: ['frequency', 'channels']\n",
      "Reduction order for nice/marker/PowerSpectralDensity/theta: ['frequency', 'channels']\n",
      "Reduction order for nice/marker/PowerSpectralDensity/theta: ['frequency', 'channels']\n",
      "Reduction order for nice/marker/PowerSpectralDensity/gamma: ['frequency', 'channels']\n",
      "Reduction order for nice/marker/PowerSpectralDensity/theta: ['frequency', 'channels']\n",
      "Reduction order for nice/marker/PowerSpectralDensity/beta: ['frequency', 'channels']\n",
      "Reduction order for nice/marker/PowerSpectralDensity/beta: ['frequency', 'channels']\n",
      "Running KolmogorovComplexity\n",
      "Elapsed time 0.0041561126708984375 sec\n",
      "Reduction order for nice/marker/KolmogorovComplexity/default: ['channels']\n",
      "Filtering  at 10.42 Hz\n",
      "Performing symbolic transformation\n"
     ]
    },
    {
     "name": "stderr",
     "output_type": "stream",
     "text": [
      "[Parallel(n_jobs=24)]: Done  24 out of  24 | elapsed:    3.9s finished\n"
     ]
    },
    {
     "name": "stdout",
     "output_type": "stream",
     "text": [
      "Reduction order for nice/marker/PermutationEntropy/default: ['channels']\n",
      "Autodetected number of jobs 2\n",
      "Computing CSD\n",
      "Using 10-5 locations for CSD\n",
      "Using 2 jobs\n"
     ]
    },
    {
     "name": "stderr",
     "output_type": "stream",
     "text": [
      "[Parallel(n_jobs=2)]: Using backend LokyBackend with 2 concurrent workers.\n"
     ]
    },
    {
     "name": "stdout",
     "output_type": "stream",
     "text": [
      "Filtering  at 10.42 Hz\n",
      "Reduction order for nice/marker/SymbolicMutualInformation/default: ['channels_y', 'channels']\n",
      "Reduction order for nice/marker/ContingentNegativeVariation/default: ['channels']\n",
      "Reduction order for nice/marker/TimeLockedTopography/p1: ['channels', 'times']\n",
      "Reduction order for nice/marker/TimeLockedTopography/p3a: ['channels', 'times']\n",
      "Reduction order for nice/marker/TimeLockedTopography/p3a: ['channels', 'times']\n",
      "Autodetected number of jobs 24\n",
      "Effective window size : 16.384 (s)\n"
     ]
    },
    {
     "name": "stderr",
     "output_type": "stream",
     "text": [
      "[Parallel(n_jobs=2)]: Done   2 out of   2 | elapsed:    1.6s remaining:    0.0s\n",
      "[Parallel(n_jobs=2)]: Done   2 out of   2 | elapsed:    1.6s finished\n",
      "[Parallel(n_jobs=24)]: Using backend LokyBackend with 24 concurrent workers.\n",
      "[Parallel(n_jobs=24)]: Done   6 out of  24 | elapsed:    3.7s remaining:   11.0s\n",
      "[Parallel(n_jobs=24)]: Done  11 out of  24 | elapsed:    3.7s remaining:    4.4s\n",
      "[Parallel(n_jobs=24)]: Done  16 out of  24 | elapsed:    3.8s remaining:    1.9s\n",
      "[Parallel(n_jobs=24)]: Done  21 out of  24 | elapsed:    3.9s remaining:    0.6s\n"
     ]
    },
    {
     "name": "stdout",
     "output_type": "stream",
     "text": [
      "Reduction order for nice/marker/PowerSpectralDensity/alpha: ['frequency', 'channels']\n",
      "Reduction order for nice/marker/PowerSpectralDensity/alpha: ['frequency', 'channels']\n",
      "Reduction order for nice/marker/PowerSpectralDensity/delta: ['frequency', 'channels']\n",
      "Reduction order for nice/marker/PowerSpectralDensity/delta: ['frequency', 'channels']\n",
      "Reduction order for nice/marker/PowerSpectralDensity/theta: ['frequency', 'channels']\n",
      "Reduction order for nice/marker/PowerSpectralDensity/theta: ['frequency', 'channels']\n",
      "Reduction order for nice/marker/PowerSpectralDensity/gamma: ['frequency', 'channels']\n",
      "Reduction order for nice/marker/PowerSpectralDensity/theta: ['frequency', 'channels']\n",
      "Reduction order for nice/marker/PowerSpectralDensity/beta: ['frequency', 'channels']\n",
      "Reduction order for nice/marker/PowerSpectralDensity/beta: ['frequency', 'channels']\n",
      "Running KolmogorovComplexity\n",
      "Elapsed time 0.02177262306213379 sec\n",
      "Reduction order for nice/marker/KolmogorovComplexity/default: ['channels']\n",
      "Filtering  at 10.42 Hz\n",
      "Performing symbolic transformation\n"
     ]
    },
    {
     "name": "stderr",
     "output_type": "stream",
     "text": [
      "[Parallel(n_jobs=24)]: Done  24 out of  24 | elapsed:    3.9s finished\n"
     ]
    },
    {
     "name": "stdout",
     "output_type": "stream",
     "text": [
      "Reduction order for nice/marker/PermutationEntropy/default: ['channels']\n",
      "Autodetected number of jobs 2\n",
      "Computing CSD\n",
      "Using 10-5 locations for CSD\n",
      "Using 2 jobs\n"
     ]
    },
    {
     "name": "stderr",
     "output_type": "stream",
     "text": [
      "[Parallel(n_jobs=2)]: Using backend LokyBackend with 2 concurrent workers.\n"
     ]
    },
    {
     "name": "stdout",
     "output_type": "stream",
     "text": [
      "Filtering  at 10.42 Hz\n",
      "Reduction order for nice/marker/SymbolicMutualInformation/default: ['channels_y', 'channels']\n",
      "Reduction order for nice/marker/ContingentNegativeVariation/default: ['channels']\n",
      "Reduction order for nice/marker/TimeLockedTopography/p1: ['channels', 'times']\n",
      "Reduction order for nice/marker/TimeLockedTopography/p3a: ['channels', 'times']\n",
      "Reduction order for nice/marker/TimeLockedTopography/p3a: ['channels', 'times']\n",
      "Autodetected number of jobs 24\n",
      "Effective window size : 16.384 (s)\n"
     ]
    },
    {
     "name": "stderr",
     "output_type": "stream",
     "text": [
      "[Parallel(n_jobs=2)]: Done  15 out of  15 | elapsed:    1.7s finished\n",
      "[Parallel(n_jobs=24)]: Using backend LokyBackend with 24 concurrent workers.\n",
      "[Parallel(n_jobs=24)]: Done   6 out of  24 | elapsed:    3.8s remaining:   11.5s\n",
      "[Parallel(n_jobs=24)]: Done  11 out of  24 | elapsed:    3.9s remaining:    4.6s\n",
      "[Parallel(n_jobs=24)]: Done  16 out of  24 | elapsed:    4.0s remaining:    2.0s\n",
      "[Parallel(n_jobs=24)]: Done  21 out of  24 | elapsed:    4.0s remaining:    0.6s\n"
     ]
    },
    {
     "name": "stdout",
     "output_type": "stream",
     "text": [
      "Reduction order for nice/marker/PowerSpectralDensity/alpha: ['frequency', 'channels']\n",
      "Reduction order for nice/marker/PowerSpectralDensity/alpha: ['frequency', 'channels']\n",
      "Reduction order for nice/marker/PowerSpectralDensity/delta: ['frequency', 'channels']\n",
      "Reduction order for nice/marker/PowerSpectralDensity/delta: ['frequency', 'channels']\n",
      "Reduction order for nice/marker/PowerSpectralDensity/theta: ['frequency', 'channels']\n",
      "Reduction order for nice/marker/PowerSpectralDensity/theta: ['frequency', 'channels']\n",
      "Reduction order for nice/marker/PowerSpectralDensity/gamma: ['frequency', 'channels']\n",
      "Reduction order for nice/marker/PowerSpectralDensity/theta: ['frequency', 'channels']\n",
      "Reduction order for nice/marker/PowerSpectralDensity/beta: ['frequency', 'channels']\n",
      "Reduction order for nice/marker/PowerSpectralDensity/beta: ['frequency', 'channels']\n",
      "Running KolmogorovComplexity\n",
      "Elapsed time 0.0903615951538086 sec\n",
      "Reduction order for nice/marker/KolmogorovComplexity/default: ['channels']\n",
      "Filtering  at 10.42 Hz\n",
      "Performing symbolic transformation\n"
     ]
    },
    {
     "name": "stderr",
     "output_type": "stream",
     "text": [
      "[Parallel(n_jobs=24)]: Done  24 out of  24 | elapsed:    4.1s finished\n"
     ]
    },
    {
     "name": "stdout",
     "output_type": "stream",
     "text": [
      "Reduction order for nice/marker/PermutationEntropy/default: ['channels']\n",
      "Autodetected number of jobs 2\n",
      "Computing CSD\n",
      "Using 10-5 locations for CSD\n",
      "Using 2 jobs\n"
     ]
    },
    {
     "name": "stderr",
     "output_type": "stream",
     "text": [
      "[Parallel(n_jobs=2)]: Using backend LokyBackend with 2 concurrent workers.\n"
     ]
    },
    {
     "name": "stdout",
     "output_type": "stream",
     "text": [
      "Filtering  at 10.42 Hz\n"
     ]
    },
    {
     "name": "stderr",
     "output_type": "stream",
     "text": [
      "[Parallel(n_jobs=2)]: Done  18 tasks      | elapsed:    1.7s\n",
      "[Parallel(n_jobs=2)]: Done  63 out of  63 | elapsed:    1.8s finished\n"
     ]
    },
    {
     "name": "stdout",
     "output_type": "stream",
     "text": [
      "Reduction order for nice/marker/SymbolicMutualInformation/default: ['channels_y', 'channels']\n",
      "Reduction order for nice/marker/ContingentNegativeVariation/default: ['channels']\n",
      "Reduction order for nice/marker/TimeLockedTopography/p1: ['channels', 'times']\n",
      "Reduction order for nice/marker/TimeLockedTopography/p3a: ['channels', 'times']\n",
      "Reduction order for nice/marker/TimeLockedTopography/p3a: ['channels', 'times']\n",
      "Autodetected number of jobs 24\n",
      "Effective window size : 16.384 (s)\n"
     ]
    },
    {
     "name": "stderr",
     "output_type": "stream",
     "text": [
      "[Parallel(n_jobs=24)]: Using backend LokyBackend with 24 concurrent workers.\n",
      "[Parallel(n_jobs=24)]: Done   6 out of  24 | elapsed:    3.7s remaining:   11.2s\n",
      "[Parallel(n_jobs=24)]: Done  11 out of  24 | elapsed:    3.8s remaining:    4.5s\n",
      "[Parallel(n_jobs=24)]: Done  16 out of  24 | elapsed:    3.9s remaining:    1.9s\n",
      "[Parallel(n_jobs=24)]: Done  21 out of  24 | elapsed:    3.9s remaining:    0.6s\n"
     ]
    },
    {
     "name": "stdout",
     "output_type": "stream",
     "text": [
      "Reduction order for nice/marker/PowerSpectralDensity/alpha: ['frequency', 'channels']\n",
      "Reduction order for nice/marker/PowerSpectralDensity/alpha: ['frequency', 'channels']\n",
      "Reduction order for nice/marker/PowerSpectralDensity/delta: ['frequency', 'channels']\n",
      "Reduction order for nice/marker/PowerSpectralDensity/delta: ['frequency', 'channels']\n",
      "Reduction order for nice/marker/PowerSpectralDensity/theta: ['frequency', 'channels']\n",
      "Reduction order for nice/marker/PowerSpectralDensity/theta: ['frequency', 'channels']\n",
      "Reduction order for nice/marker/PowerSpectralDensity/gamma: ['frequency', 'channels']\n",
      "Reduction order for nice/marker/PowerSpectralDensity/theta: ['frequency', 'channels']\n",
      "Reduction order for nice/marker/PowerSpectralDensity/beta: ['frequency', 'channels']\n",
      "Reduction order for nice/marker/PowerSpectralDensity/beta: ['frequency', 'channels']\n",
      "Running KolmogorovComplexity\n",
      "Elapsed time 0.055069923400878906 sec\n",
      "Reduction order for nice/marker/KolmogorovComplexity/default: ['channels']\n",
      "Filtering  at 10.42 Hz\n",
      "Performing symbolic transformation\n"
     ]
    },
    {
     "name": "stderr",
     "output_type": "stream",
     "text": [
      "[Parallel(n_jobs=24)]: Done  24 out of  24 | elapsed:    4.0s finished\n"
     ]
    },
    {
     "name": "stdout",
     "output_type": "stream",
     "text": [
      "Reduction order for nice/marker/PermutationEntropy/default: ['channels']\n",
      "Autodetected number of jobs 2\n",
      "Computing CSD\n",
      "Using 10-5 locations for CSD\n",
      "Using 2 jobs\n"
     ]
    },
    {
     "name": "stderr",
     "output_type": "stream",
     "text": [
      "[Parallel(n_jobs=2)]: Using backend LokyBackend with 2 concurrent workers.\n"
     ]
    },
    {
     "name": "stdout",
     "output_type": "stream",
     "text": [
      "Filtering  at 10.42 Hz\n"
     ]
    },
    {
     "name": "stderr",
     "output_type": "stream",
     "text": [
      "[Parallel(n_jobs=2)]: Done  18 tasks      | elapsed:    1.7s\n",
      "[Parallel(n_jobs=2)]: Done  38 out of  38 | elapsed:    1.7s finished\n"
     ]
    },
    {
     "name": "stdout",
     "output_type": "stream",
     "text": [
      "Reduction order for nice/marker/SymbolicMutualInformation/default: ['channels_y', 'channels']\n",
      "Reduction order for nice/marker/ContingentNegativeVariation/default: ['channels']\n",
      "Reduction order for nice/marker/TimeLockedTopography/p1: ['channels', 'times']\n",
      "Reduction order for nice/marker/TimeLockedTopography/p3a: ['channels', 'times']\n",
      "Reduction order for nice/marker/TimeLockedTopography/p3a: ['channels', 'times']\n",
      "Autodetected number of jobs 24\n",
      "Effective window size : 16.384 (s)\n"
     ]
    },
    {
     "name": "stderr",
     "output_type": "stream",
     "text": [
      "[Parallel(n_jobs=24)]: Using backend LokyBackend with 24 concurrent workers.\n",
      "[Parallel(n_jobs=24)]: Done   6 out of  24 | elapsed:    3.8s remaining:   11.5s\n",
      "[Parallel(n_jobs=24)]: Done  11 out of  24 | elapsed:    3.9s remaining:    4.6s\n",
      "[Parallel(n_jobs=24)]: Done  16 out of  24 | elapsed:    4.0s remaining:    2.0s\n"
     ]
    },
    {
     "name": "stdout",
     "output_type": "stream",
     "text": [
      "Reduction order for nice/marker/PowerSpectralDensity/alpha: ['frequency', 'channels']\n",
      "Reduction order for nice/marker/PowerSpectralDensity/alpha: ['frequency', 'channels']\n",
      "Reduction order for nice/marker/PowerSpectralDensity/delta: ['frequency', 'channels']\n",
      "Reduction order for nice/marker/PowerSpectralDensity/delta: ['frequency', 'channels']\n",
      "Reduction order for nice/marker/PowerSpectralDensity/theta: ['frequency', 'channels']\n",
      "Reduction order for nice/marker/PowerSpectralDensity/theta: ['frequency', 'channels']\n",
      "Reduction order for nice/marker/PowerSpectralDensity/gamma: ['frequency', 'channels']\n",
      "Reduction order for nice/marker/PowerSpectralDensity/theta: ['frequency', 'channels']\n",
      "Reduction order for nice/marker/PowerSpectralDensity/beta: ['frequency', 'channels']\n",
      "Reduction order for nice/marker/PowerSpectralDensity/beta: ['frequency', 'channels']\n",
      "Running KolmogorovComplexity\n",
      "Elapsed time 0.01108694076538086 sec\n",
      "Reduction order for nice/marker/KolmogorovComplexity/default: ['channels']\n",
      "Filtering  at 10.42 Hz\n",
      "Performing symbolic transformation\n"
     ]
    },
    {
     "name": "stderr",
     "output_type": "stream",
     "text": [
      "[Parallel(n_jobs=24)]: Done  21 out of  24 | elapsed:    4.2s remaining:    0.6s\n",
      "[Parallel(n_jobs=24)]: Done  24 out of  24 | elapsed:    4.2s finished\n"
     ]
    },
    {
     "name": "stdout",
     "output_type": "stream",
     "text": [
      "Reduction order for nice/marker/PermutationEntropy/default: ['channels']\n",
      "Autodetected number of jobs 2\n",
      "Computing CSD\n",
      "Using 10-5 locations for CSD\n",
      "Using 2 jobs\n"
     ]
    },
    {
     "name": "stderr",
     "output_type": "stream",
     "text": [
      "[Parallel(n_jobs=2)]: Using backend LokyBackend with 2 concurrent workers.\n"
     ]
    },
    {
     "name": "stdout",
     "output_type": "stream",
     "text": [
      "Filtering  at 10.42 Hz\n",
      "Reduction order for nice/marker/SymbolicMutualInformation/default: ['channels_y', 'channels']\n",
      "Reduction order for nice/marker/ContingentNegativeVariation/default: ['channels']\n",
      "Reduction order for nice/marker/TimeLockedTopography/p1: ['channels', 'times']\n",
      "Reduction order for nice/marker/TimeLockedTopography/p3a: ['channels', 'times']\n",
      "Reduction order for nice/marker/TimeLockedTopography/p3a: ['channels', 'times']\n",
      "Autodetected number of jobs 24\n",
      "Effective window size : 16.384 (s)\n"
     ]
    },
    {
     "name": "stderr",
     "output_type": "stream",
     "text": [
      "[Parallel(n_jobs=2)]: Done   8 out of   8 | elapsed:    1.7s finished\n",
      "[Parallel(n_jobs=24)]: Using backend LokyBackend with 24 concurrent workers.\n",
      "[Parallel(n_jobs=24)]: Done   6 out of  24 | elapsed:    3.6s remaining:   10.9s\n",
      "[Parallel(n_jobs=24)]: Done  11 out of  24 | elapsed:    3.7s remaining:    4.4s\n",
      "[Parallel(n_jobs=24)]: Done  16 out of  24 | elapsed:    3.8s remaining:    1.9s\n"
     ]
    },
    {
     "name": "stdout",
     "output_type": "stream",
     "text": [
      "Reduction order for nice/marker/PowerSpectralDensity/alpha: ['frequency', 'channels']\n",
      "Reduction order for nice/marker/PowerSpectralDensity/alpha: ['frequency', 'channels']\n",
      "Reduction order for nice/marker/PowerSpectralDensity/delta: ['frequency', 'channels']\n",
      "Reduction order for nice/marker/PowerSpectralDensity/delta: ['frequency', 'channels']\n",
      "Reduction order for nice/marker/PowerSpectralDensity/theta: ['frequency', 'channels']\n",
      "Reduction order for nice/marker/PowerSpectralDensity/theta: ['frequency', 'channels']\n",
      "Reduction order for nice/marker/PowerSpectralDensity/gamma: ['frequency', 'channels']\n",
      "Reduction order for nice/marker/PowerSpectralDensity/theta: ['frequency', 'channels']\n",
      "Reduction order for nice/marker/PowerSpectralDensity/beta: ['frequency', 'channels']\n",
      "Reduction order for nice/marker/PowerSpectralDensity/beta: ['frequency', 'channels']\n",
      "Running KolmogorovComplexity\n",
      "Elapsed time 0.002774477005004883 sec\n",
      "Reduction order for nice/marker/KolmogorovComplexity/default: ['channels']\n",
      "Filtering  at 10.42 Hz\n",
      "Performing symbolic transformation\n"
     ]
    },
    {
     "name": "stderr",
     "output_type": "stream",
     "text": [
      "[Parallel(n_jobs=24)]: Done  21 out of  24 | elapsed:    3.9s remaining:    0.6s\n",
      "[Parallel(n_jobs=24)]: Done  24 out of  24 | elapsed:    4.0s finished\n"
     ]
    },
    {
     "name": "stdout",
     "output_type": "stream",
     "text": [
      "Reduction order for nice/marker/PermutationEntropy/default: ['channels']\n",
      "Autodetected number of jobs 2\n",
      "Computing CSD\n",
      "Using 10-5 locations for CSD\n",
      "Using 2 jobs\n"
     ]
    },
    {
     "name": "stderr",
     "output_type": "stream",
     "text": [
      "[Parallel(n_jobs=2)]: Using backend LokyBackend with 2 concurrent workers.\n"
     ]
    },
    {
     "name": "stdout",
     "output_type": "stream",
     "text": [
      "Filtering  at 10.42 Hz\n",
      "Reduction order for nice/marker/SymbolicMutualInformation/default: ['channels_y', 'channels']\n",
      "Reduction order for nice/marker/ContingentNegativeVariation/default: ['channels']\n",
      "Reduction order for nice/marker/TimeLockedTopography/p1: ['channels', 'times']\n",
      "Reduction order for nice/marker/TimeLockedTopography/p3a: ['channels', 'times']\n",
      "Reduction order for nice/marker/TimeLockedTopography/p3a: ['channels', 'times']\n",
      "Autodetected number of jobs 24\n",
      "Effective window size : 16.384 (s)\n"
     ]
    },
    {
     "name": "stderr",
     "output_type": "stream",
     "text": [
      "[Parallel(n_jobs=2)]: Done   2 out of   2 | elapsed:    1.6s remaining:    0.0s\n",
      "[Parallel(n_jobs=2)]: Done   2 out of   2 | elapsed:    1.6s finished\n",
      "[Parallel(n_jobs=24)]: Using backend LokyBackend with 24 concurrent workers.\n",
      "[Parallel(n_jobs=24)]: Done   6 out of  24 | elapsed:    3.8s remaining:   11.3s\n",
      "[Parallel(n_jobs=24)]: Done  11 out of  24 | elapsed:    3.9s remaining:    4.6s\n"
     ]
    },
    {
     "name": "stdout",
     "output_type": "stream",
     "text": [
      "Reduction order for nice/marker/PowerSpectralDensity/alpha: ['frequency', 'channels']\n",
      "Reduction order for nice/marker/PowerSpectralDensity/alpha: ['frequency', 'channels']\n",
      "Reduction order for nice/marker/PowerSpectralDensity/delta: ['frequency', 'channels']\n",
      "Reduction order for nice/marker/PowerSpectralDensity/delta: ['frequency', 'channels']\n",
      "Reduction order for nice/marker/PowerSpectralDensity/theta: ['frequency', 'channels']\n",
      "Reduction order for nice/marker/PowerSpectralDensity/theta: ['frequency', 'channels']\n",
      "Reduction order for nice/marker/PowerSpectralDensity/gamma: ['frequency', 'channels']\n",
      "Reduction order for nice/marker/PowerSpectralDensity/theta: ['frequency', 'channels']\n",
      "Reduction order for nice/marker/PowerSpectralDensity/beta: ['frequency', 'channels']\n",
      "Reduction order for nice/marker/PowerSpectralDensity/beta: ['frequency', 'channels']\n",
      "Running KolmogorovComplexity\n",
      "Elapsed time 0.020546913146972656 sec\n"
     ]
    },
    {
     "name": "stderr",
     "output_type": "stream",
     "text": [
      "[Parallel(n_jobs=24)]: Done  16 out of  24 | elapsed:    4.0s remaining:    2.0s\n",
      "[Parallel(n_jobs=24)]: Done  21 out of  24 | elapsed:    4.1s remaining:    0.6s\n",
      "[Parallel(n_jobs=24)]: Done  24 out of  24 | elapsed:    4.2s finished\n"
     ]
    },
    {
     "name": "stdout",
     "output_type": "stream",
     "text": [
      "Reduction order for nice/marker/KolmogorovComplexity/default: ['channels']\n",
      "Filtering  at 10.42 Hz\n",
      "Performing symbolic transformation\n",
      "Reduction order for nice/marker/PermutationEntropy/default: ['channels']\n",
      "Autodetected number of jobs 2\n",
      "Computing CSD\n",
      "Using 10-5 locations for CSD\n",
      "Using 2 jobs\n"
     ]
    },
    {
     "name": "stderr",
     "output_type": "stream",
     "text": [
      "[Parallel(n_jobs=2)]: Using backend LokyBackend with 2 concurrent workers.\n"
     ]
    },
    {
     "name": "stdout",
     "output_type": "stream",
     "text": [
      "Filtering  at 10.42 Hz\n",
      "Reduction order for nice/marker/SymbolicMutualInformation/default: ['channels_y', 'channels']\n",
      "Reduction order for nice/marker/ContingentNegativeVariation/default: ['channels']\n",
      "Reduction order for nice/marker/TimeLockedTopography/p1: ['channels', 'times']\n",
      "Reduction order for nice/marker/TimeLockedTopography/p3a: ['channels', 'times']\n",
      "Reduction order for nice/marker/TimeLockedTopography/p3a: ['channels', 'times']\n"
     ]
    },
    {
     "name": "stderr",
     "output_type": "stream",
     "text": [
      "[Parallel(n_jobs=2)]: Done  15 out of  15 | elapsed:    1.7s finished\n"
     ]
    }
   ],
   "source": [
    "for i in all_participants:\n",
    "    participant = i\n",
    "    \n",
    "    print('')\n",
    "    print('#########################################')\n",
    "    print('Computing markers for participant {}'.format(participant))\n",
    "    print('#########################################')\n",
    "    print('')\n",
    "    \n",
    "\n",
    "    folder = path + participant +'/'\n",
    "    epochs_subtracted = mne.read_epochs(folder +  participant + '_' + epoch_type + '_' +  'ar_subtracted_epo.fif')\n",
    "    epochs_erp = mne.read_epochs(folder +  participant + '_' + epoch_type + '_' +  'ar_rereferenced_epo.fif')\n",
    "    \n",
    "    epochs_subtracted.info['description'] = 'biosemi/64' #necessary for wSMI\n",
    "    epochs_erp.info['description'] = 'biosemi/64' #necessary for wSMI\n",
    "    \n",
    "    epochs_subtracted =  epochs.pick_types(eeg = True) #EOGs break everything\\\n",
    "    epochs_erp =  epochs_erp.pick_types(eeg = True) #EOGs break everything\n",
    "    \n",
    "    df_markers = pd.DataFrame()\n",
    "    \n",
    "    #############################\n",
    "    #### With ERP SUBTRACTED ####\n",
    "    #############################\n",
    "    try:\n",
    "        df_ = pd.DataFrame.from_dict(all_markers(epochs_subtracted['SC/dMW/go/correct'], 0, 0.6))\n",
    "        df_['probe'] = 'SC'\n",
    "        df_['mind'] = 'dMW'\n",
    "        df_['preproc'] = 'subtracted'\n",
    "        df_markers = df_markers.append(df_)\n",
    "    except:\n",
    "        pass\n",
    "    try:\n",
    "        df_ = pd.DataFrame.from_dict(all_markers(epochs_subtracted['SC/sMW/go/correct'], 0, 0.6))\n",
    "        df_['probe'] = 'SC'\n",
    "        df_['mind'] = 'sMW'\n",
    "        df_['preproc'] = 'subtracted'\n",
    "        df_markers = df_markers.append(df_)\n",
    "    except:\n",
    "        pass\n",
    "\n",
    "    try:\n",
    "        df_ = pd.DataFrame.from_dict(all_markers(epochs_subtracted['PC/dMW/go/correct'], 0, 0.6))\n",
    "        df_['probe'] = 'PC'\n",
    "        df_['mind'] = 'dMW'\n",
    "        df_['preproc'] = 'subtracted'\n",
    "        df_markers = df_markers.append(df_)\n",
    "    except:\n",
    "        pass\n",
    "    \n",
    "    try:\n",
    "        df_ = pd.DataFrame.from_dict(all_markers(epochs_subtracted['PC/sMW/go/correct'], 0, 0.6))\n",
    "        df_['probe'] = 'PC'\n",
    "        df_['mind'] = 'sMW'\n",
    "        df_['preproc'] = 'subtracted'\n",
    "        df_markers = df_markers.append(df_)\n",
    "    except:\n",
    "        pass\n",
    "    try:\n",
    "        df_ = pd.DataFrame.from_dict(all_markers(epochs_subtracted['PC/on-task/go/correct'], 0, 0.6))\n",
    "        df_['probe'] = 'PC'\n",
    "        df_['mind'] = 'on-task'\n",
    "        df_['preproc'] = 'subtracted'\n",
    "        df_markers = df_markers.append(df_)\n",
    "    except:\n",
    "        pass\n",
    "        \n",
    "    ##################\n",
    "    #### With ERP ####\n",
    "    ##################\n",
    "    \n",
    "    try:\n",
    "        df_ = pd.DataFrame.from_dict(all_markers(epochs_erp['SC/dMW/go/correct'], 0, 0.6))\n",
    "        df_['probe'] = 'SC'\n",
    "        df_['mind'] = 'dMW'\n",
    "        df_['preproc'] = 'erp'\n",
    "        df_markers = df_markers.append(df_)\n",
    "    except:\n",
    "        pass\n",
    "    try:\n",
    "        df_ = pd.DataFrame.from_dict(all_markers(epochs_erp['SC/sMW/go/correct'], 0, 0.6))\n",
    "        df_['probe'] = 'SC'\n",
    "        df_['mind'] = 'sMW'\n",
    "        df_['preproc'] = 'erp'\n",
    "        df_markers = df_markers.append(df_)\n",
    "    except:\n",
    "        pass\n",
    "    try:\n",
    "        df_ = pd.DataFrame.from_dict(all_markers(epochs_erp['PC/dMW/go/correct'], 0, 0.6))\n",
    "        df_['probe'] = 'PC'\n",
    "        df_['mind'] = 'dMW'\n",
    "        df_['preproc'] = 'erp'\n",
    "        df_markers = df_markers.append(df_)\n",
    "    except:\n",
    "        pass\n",
    "    \n",
    "    try:\n",
    "        df_ = pd.DataFrame.from_dict(all_markers(epochs_erp['PC/sMW/go/correct'], 0, 0.6))\n",
    "        df_['probe'] = 'PC'\n",
    "        df_['mind'] = 'sMW'\n",
    "        df_['preproc'] = 'erp'\n",
    "        df_markers = df_markers.append(df_)\n",
    "    except:\n",
    "        pass\n",
    "    try:\n",
    "        df_ = pd.DataFrame.from_dict(all_markers(epochs_erp['PC/on-task/go/correct'], 0, 0.6))\n",
    "        df_['probe'] = 'PC'\n",
    "        df_['mind'] = 'on-task'\n",
    "        df_['preproc'] = 'erp'\n",
    "        df_markers = df_markers.append(df_)\n",
    "    except:\n",
    "        pass\n",
    "    \n",
    "    df_markers.to_csv(folder+ participant + '_' + epoch_type + '_all_marker.csv')\n"
   ]
  },
  {
   "cell_type": "code",
   "execution_count": null,
   "metadata": {},
   "outputs": [],
   "source": []
  }
 ],
 "metadata": {
  "kernelspec": {
   "display_name": "Python 3",
   "language": "python",
   "name": "python3"
  },
  "language_info": {
   "codemirror_mode": {
    "name": "ipython",
    "version": 3
   },
   "file_extension": ".py",
   "mimetype": "text/x-python",
   "name": "python",
   "nbconvert_exporter": "python",
   "pygments_lexer": "ipython3",
   "version": "3.7.4"
  }
 },
 "nbformat": 4,
 "nbformat_minor": 4
}
