{
 "cells": [
  {
   "cell_type": "code",
   "execution_count": 29,
   "metadata": {},
   "outputs": [],
   "source": [
    "import numpy as np\n",
    "import pandas as pd\n",
    "import matplotlib.pyplot as plt\n",
    "import mne \n",
    "from nice.markers import (KolmogorovComplexity, TimeLockedContrast, PowerSpectralDensityEstimator, \n",
    "                          PowerSpectralDensity, SymbolicMutualInformation, PermutationEntropy)\n",
    "\n",
    "import pycsd"
   ]
  },
  {
   "cell_type": "code",
   "execution_count": 40,
   "metadata": {},
   "outputs": [],
   "source": [
    "def all_markers(epochs, tmin, tmax):\n",
    "        \"\"\"\n",
    "        Computes all ther markers for given epochs.\n",
    "        epochs: the epochs from which to compute the markers\n",
    "        \n",
    "        \"\"\"\n",
    "        \n",
    "        \n",
    "\n",
    "        # =============================================================================\n",
    "        # SPECTRAL MARKERS\n",
    "        # =============================================================================\n",
    "          #PowerSpectralDensityL\n",
    "        psds_params = dict(n_fft=4096, n_overlap=100, n_jobs='auto', nperseg=128)\n",
    "        base_psd = PowerSpectralDensityEstimator(\n",
    "            psd_method='welch', tmin=tmin, tmax=tmax, fmin=1., fmax=45.,\n",
    "            psd_params=psds_params, comment='default')\n",
    "\n",
    "\n",
    "            #alpha normalized\n",
    "        alpha = PowerSpectralDensity(estimator=base_psd, fmin=8., fmax=13.,normalize=True, comment='alphan')\n",
    "        alpha.fit(epochs)\n",
    "        from scipy.stats import trim_mean\n",
    "        def trim_mean80(a, axis=0):\n",
    "            return trim_mean(a, proportiontocut=.1, axis=axis)\n",
    "\n",
    "\n",
    "        reduction_func = [{'axis': 'frequency', 'function': np.sum},\n",
    "             {'axis': 'channels', 'function': np.mean},\n",
    "             {'axis': 'epochs', 'function': trim_mean80}]\n",
    "        #alpha normalized\n",
    "        alpha = PowerSpectralDensity(estimator=base_psd, fmin=8., fmax=13.,normalize=True, comment='alpha')\n",
    "        alpha.fit(epochs)\n",
    "        dataalpha_n = alpha._reduce_to(reduction_func, target='epochs', picks=None)\n",
    "\n",
    "        #alpha\n",
    "        alpha = PowerSpectralDensity(estimator=base_psd, fmin=8., fmax=13.,normalize=False, comment='alpha')\n",
    "        alpha.fit(epochs)\n",
    "        dataalpha = alpha._reduce_to(reduction_func, target='epochs', picks=None)\n",
    "\n",
    "        #delta normalized\n",
    "        delta = PowerSpectralDensity(estimator=base_psd, fmin=1., fmax=4.,normalize=True, comment='delta')\n",
    "        delta.fit(epochs)\n",
    "        datadelta_n = delta._reduce_to(reduction_func, target='epochs', picks=None)\n",
    "\n",
    "\n",
    "        #delta\n",
    "        delta = PowerSpectralDensity(estimator=base_psd, fmin=1., fmax=4,normalize=False, comment='delta')\n",
    "        delta.fit(epochs)\n",
    "        datadelta = delta._reduce_to(reduction_func, target='epochs', picks=None)\n",
    "\n",
    "        #theta normalized\n",
    "        theta = PowerSpectralDensity(estimator=base_psd, fmin=4., fmax=8.,normalize=True, comment='theta')\n",
    "        theta.fit(epochs)\n",
    "        datatheta_n = theta._reduce_to(reduction_func, target='epochs', picks=None)\n",
    "\n",
    "\n",
    "        #theta\n",
    "        theta = PowerSpectralDensity(estimator=base_psd, fmin=4., fmax=8,normalize=False, comment='theta')\n",
    "        theta.fit(epochs)\n",
    "        datatheta = theta._reduce_to(reduction_func, target='epochs', picks=None)\n",
    "\n",
    "        #gamma normalized\n",
    "        gamma = PowerSpectralDensity(estimator=base_psd, fmin=30., fmax=45.,normalize=True, comment='gamma')\n",
    "        gamma.fit(epochs)\n",
    "        datagamma_n = gamma._reduce_to(reduction_func, target='epochs', picks=None)\n",
    "\n",
    "\n",
    "        #gamma\n",
    "        gamma = PowerSpectralDensity(estimator=base_psd, fmin=30., fmax=45,normalize=False, comment='theta')\n",
    "        gamma.fit(epochs)\n",
    "        datagamma = gamma._reduce_to(reduction_func, target='epochs', picks=None)\n",
    "\n",
    "        #beta normalized\n",
    "        beta = PowerSpectralDensity(estimator=base_psd, fmin=13., fmax=30.,normalize=True, comment='beta')\n",
    "        beta.fit(epochs)\n",
    "        databetaa_n = beta._reduce_to(reduction_func, target='epochs', picks=None)\n",
    "\n",
    "\n",
    "        #beta\n",
    "        beta = PowerSpectralDensity(estimator=base_psd, fmin=13., fmax=30,normalize=False, comment='beta')\n",
    "        beta.fit(epochs)\n",
    "        databeta = beta._reduce_to(reduction_func, target='epochs', picks=None)\n",
    "\n",
    "\n",
    "        # =============================================================================\n",
    "        # INFORMATION THEORY MARKERS\n",
    "        # =============================================================================\n",
    "\n",
    "        komplexity = KolmogorovComplexity(tmin=tmin, tmax=tmax, backend='openmp')\n",
    "        komplexity.fit(epochs)\n",
    "        komplexityobject=komplexity.data_ ###Object to save, number of channels*number of epochs, it's ndarray\n",
    "        reduction_func= [{'axis': 'channels', 'function': np.mean},\n",
    "             {'axis': 'epochs', 'function': trim_mean80}]\n",
    "\n",
    "\n",
    "        datakomplexity = komplexity._reduce_to(reduction_func, target='epochs', picks=None)\n",
    "\n",
    "\n",
    "        p_e = PermutationEntropy(tmin=tmin, tmax=tmax)\n",
    "        p_e.fit(epochs)\n",
    "        p_eobject = p_e.data_\n",
    "        datap_e = p_e._reduce_to(reduction_func, target='epochs', picks=None)\n",
    "\n",
    "        # =============================================================================\n",
    "        # wSMI MARKERS\n",
    "        # =============================================================================\n",
    "        wSMI = SymbolicMutualInformation(tmin=tmin, tmax=tmax, kernel=3, tau=8, backend=\"openmp\",\n",
    "                     method_params=None, method='weighted', comment='default')\n",
    "        wSMI.fit(epochs)\n",
    "        wSMIobject = wSMI.data_\n",
    "\n",
    "        reduction_func= [{'axis': 'channels_y', 'function': np.median},\n",
    "             {'axis': 'channels', 'function': np.mean},\n",
    "             {'axis': 'epochs', 'function': trim_mean80}]\n",
    "        \n",
    "        datawSMI = wSMI._reduce_to(reduction_func, target='epochs', picks={'epochs': None, 'channels': np.arange(64)})\n",
    "        \n",
    "        \n",
    "        return {'wSMI':datawSMI, 'p_e':datap_e, 'k':datakomplexity, 'b':databeta,'b_n':databetaa_n, 'g':datagamma, 'g_n':datagamma_n, 't':datatheta,'t_n': datatheta_n , 'd':datadelta,\n",
    "        'd_n':datadelta_n, 'a_n':dataalpha_n, 'a':dataalpha}\n"
   ]
  },
  {
   "cell_type": "code",
   "execution_count": 4,
   "metadata": {},
   "outputs": [],
   "source": [
    "epoch_type = 'evoked'\n",
    "# epoch_type = 'pseudo-rs'\n",
    "\n",
    "\n",
    "all_participants = ['VP07','VP08','VP09', 'VP10','VP11','VP12','VP13','VP14','VP18','VP19','VP20','VP22','VP23','VP24','VP25','VP26','VP27','VP28','VP29','VP30','VP31','VP32','VP33','VP35','VP36','VP37']\n",
    "\n",
    "\n",
    "path = '/media/nicolas.bruno/63f8a366-34b7-4896-a7ce-b5fb4ee78535/Nico/MW_eeg_data/minmarker/' #icm-linux\n",
    "# path = '/Users/nicobruno/ownCloud/MW_eeg_data/minmarker/' #nico-mac"
   ]
  },
  {
   "cell_type": "code",
   "execution_count": 39,
   "metadata": {},
   "outputs": [
    {
     "name": "stdout",
     "output_type": "stream",
     "text": [
      "Reading /media/nicolas.bruno/63f8a366-34b7-4896-a7ce-b5fb4ee78535/Nico/MW_eeg_data/minmarker/VP08/VP08evokedar-subtracted_epo.fif ...\n",
      "    Found the data of interest:\n",
      "        t =    -200.00 ...     600.00 ms\n",
      "        0 CTF compensation matrices available\n",
      "Not setting metadata\n",
      "Not setting metadata\n",
      "340 matching events found\n",
      "No baseline correction applied\n",
      "0 projection items activated\n",
      "Autodetected number of jobs 24\n",
      "Effective window size : 16.384 (s)\n"
     ]
    },
    {
     "name": "stderr",
     "output_type": "stream",
     "text": [
      "[Parallel(n_jobs=24)]: Using backend LokyBackend with 24 concurrent workers.\n",
      "[Parallel(n_jobs=24)]: Done   6 out of  24 | elapsed:    0.7s remaining:    2.0s\n",
      "[Parallel(n_jobs=24)]: Done  11 out of  24 | elapsed:    0.7s remaining:    0.9s\n",
      "[Parallel(n_jobs=24)]: Done  16 out of  24 | elapsed:    0.8s remaining:    0.4s\n",
      "[Parallel(n_jobs=24)]: Done  21 out of  24 | elapsed:    0.9s remaining:    0.1s\n"
     ]
    },
    {
     "name": "stdout",
     "output_type": "stream",
     "text": [
      "Reduction order for nice/marker/PowerSpectralDensity/alpha: ['frequency', 'channels']\n",
      "Reduction order for nice/marker/PowerSpectralDensity/alpha: ['frequency', 'channels']\n",
      "Reduction order for nice/marker/PowerSpectralDensity/delta: ['frequency', 'channels']\n",
      "Reduction order for nice/marker/PowerSpectralDensity/delta: ['frequency', 'channels']\n",
      "Reduction order for nice/marker/PowerSpectralDensity/theta: ['frequency', 'channels']\n",
      "Reduction order for nice/marker/PowerSpectralDensity/theta: ['frequency', 'channels']\n",
      "Reduction order for nice/marker/PowerSpectralDensity/gamma: ['frequency', 'channels']\n",
      "Reduction order for nice/marker/PowerSpectralDensity/theta: ['frequency', 'channels']\n",
      "Reduction order for nice/marker/PowerSpectralDensity/beta: ['frequency', 'channels']\n",
      "Reduction order for nice/marker/PowerSpectralDensity/beta: ['frequency', 'channels']\n"
     ]
    },
    {
     "name": "stderr",
     "output_type": "stream",
     "text": [
      "[Parallel(n_jobs=24)]: Done  24 out of  24 | elapsed:    0.9s finished\n"
     ]
    },
    {
     "name": "stdout",
     "output_type": "stream",
     "text": [
      "Running KolmogorovComplexity\n",
      "Elapsed time 0.3233320713043213 sec\n",
      "Reduction order for nice/marker/KolmogorovComplexity/default: ['channels']\n",
      "Filtering  at 10.42 Hz\n",
      "Performing symbolic transformation\n",
      "Reduction order for nice/marker/PermutationEntropy/default: ['channels']\n",
      "Autodetected number of jobs 24\n",
      "Computing CSD\n",
      "Using 10-5 locations for CSD\n",
      "Using 24 jobs\n"
     ]
    },
    {
     "name": "stderr",
     "output_type": "stream",
     "text": [
      "/home/nicolas.bruno/anaconda3/lib/python3.7/site-packages/nice-0.1.dev0-py3.7.egg/nice/algorithms/information_theory/permutation_entropy.py:75: RuntimeWarning: divide by zero encountered in log\n",
      "  pe = np.nan_to_num(-np.nansum(count * np.log(count), axis=1))\n",
      "/home/nicolas.bruno/anaconda3/lib/python3.7/site-packages/nice-0.1.dev0-py3.7.egg/nice/algorithms/information_theory/permutation_entropy.py:75: RuntimeWarning: invalid value encountered in multiply\n",
      "  pe = np.nan_to_num(-np.nansum(count * np.log(count), axis=1))\n",
      "[Parallel(n_jobs=24)]: Using backend LokyBackend with 24 concurrent workers.\n"
     ]
    },
    {
     "name": "stdout",
     "output_type": "stream",
     "text": [
      "Filtering  at 10.42 Hz\n"
     ]
    },
    {
     "name": "stderr",
     "output_type": "stream",
     "text": [
      "[Parallel(n_jobs=24)]: Done  72 tasks      | elapsed:    0.2s\n",
      "[Parallel(n_jobs=24)]: Done 224 out of 224 | elapsed:    0.3s finished\n"
     ]
    },
    {
     "name": "stdout",
     "output_type": "stream",
     "text": [
      "Reduction order for nice/marker/SymbolicMutualInformation/default: ['channels_y', 'channels']\n"
     ]
    }
   ],
   "source": [
    "participant = all_participants[1]\n",
    "\n",
    "folder = path + participant +'/'\n",
    "epochs_subtracted = mne.read_epochs(folder + participant + epoch_type + 'ar-subtracted_epo.fif')\n",
    "\n",
    "epochs_subtracted.info['description'] = 'biosemi/64'\n",
    "\n",
    "epochs =  epochs_subtracted.pick_types(eeg = True)\n",
    "\n",
    "SC = all_markers(epochs_subtracted['SC/go/correct'], 0, 0.6)"
   ]
  },
  {
   "cell_type": "code",
   "execution_count": 41,
   "metadata": {},
   "outputs": [
    {
     "name": "stdout",
     "output_type": "stream",
     "text": [
      "Reading /media/nicolas.bruno/63f8a366-34b7-4896-a7ce-b5fb4ee78535/Nico/MW_eeg_data/minmarker/VP07/VP07evokedar-subtracted_epo.fif ...\n",
      "    Found the data of interest:\n",
      "        t =    -200.00 ...     600.00 ms\n",
      "        0 CTF compensation matrices available\n",
      "Not setting metadata\n",
      "Not setting metadata\n",
      "123 matching events found\n",
      "No baseline correction applied\n",
      "0 projection items activated\n",
      "Autodetected number of jobs 24\n",
      "Effective window size : 16.384 (s)\n"
     ]
    },
    {
     "name": "stderr",
     "output_type": "stream",
     "text": [
      "[Parallel(n_jobs=24)]: Using backend LokyBackend with 24 concurrent workers.\n",
      "[Parallel(n_jobs=24)]: Done   6 out of  24 | elapsed:    4.1s remaining:   12.3s\n",
      "[Parallel(n_jobs=24)]: Done  11 out of  24 | elapsed:    4.2s remaining:    5.0s\n",
      "[Parallel(n_jobs=24)]: Done  16 out of  24 | elapsed:    4.3s remaining:    2.2s\n",
      "[Parallel(n_jobs=24)]: Done  21 out of  24 | elapsed:    4.4s remaining:    0.6s\n"
     ]
    },
    {
     "name": "stdout",
     "output_type": "stream",
     "text": [
      "Reduction order for nice/marker/PowerSpectralDensity/alpha: ['frequency', 'channels']\n",
      "Reduction order for nice/marker/PowerSpectralDensity/alpha: ['frequency', 'channels']\n",
      "Reduction order for nice/marker/PowerSpectralDensity/delta: ['frequency', 'channels']\n",
      "Reduction order for nice/marker/PowerSpectralDensity/delta: ['frequency', 'channels']\n",
      "Reduction order for nice/marker/PowerSpectralDensity/theta: ['frequency', 'channels']\n",
      "Reduction order for nice/marker/PowerSpectralDensity/theta: ['frequency', 'channels']\n",
      "Reduction order for nice/marker/PowerSpectralDensity/gamma: ['frequency', 'channels']\n",
      "Reduction order for nice/marker/PowerSpectralDensity/theta: ['frequency', 'channels']\n",
      "Reduction order for nice/marker/PowerSpectralDensity/beta: ['frequency', 'channels']\n",
      "Reduction order for nice/marker/PowerSpectralDensity/beta: ['frequency', 'channels']\n",
      "Running KolmogorovComplexity\n"
     ]
    },
    {
     "name": "stderr",
     "output_type": "stream",
     "text": [
      "[Parallel(n_jobs=24)]: Done  24 out of  24 | elapsed:    4.6s finished\n"
     ]
    },
    {
     "name": "stdout",
     "output_type": "stream",
     "text": [
      "Elapsed time 0.32912755012512207 sec\n",
      "Reduction order for nice/marker/KolmogorovComplexity/default: ['channels']\n",
      "Filtering  at 10.42 Hz\n",
      "Performing symbolic transformation\n",
      "Reduction order for nice/marker/PermutationEntropy/default: ['channels']\n",
      "Autodetected number of jobs 24\n",
      "Computing CSD\n",
      "Using 10-5 locations for CSD\n",
      "Using 24 jobs\n"
     ]
    },
    {
     "name": "stderr",
     "output_type": "stream",
     "text": [
      "/home/nicolas.bruno/anaconda3/lib/python3.7/site-packages/nice-0.1.dev0-py3.7.egg/nice/algorithms/information_theory/permutation_entropy.py:75: RuntimeWarning: divide by zero encountered in log\n",
      "  pe = np.nan_to_num(-np.nansum(count * np.log(count), axis=1))\n",
      "/home/nicolas.bruno/anaconda3/lib/python3.7/site-packages/nice-0.1.dev0-py3.7.egg/nice/algorithms/information_theory/permutation_entropy.py:75: RuntimeWarning: invalid value encountered in multiply\n",
      "  pe = np.nan_to_num(-np.nansum(count * np.log(count), axis=1))\n",
      "[Parallel(n_jobs=24)]: Using backend LokyBackend with 24 concurrent workers.\n"
     ]
    },
    {
     "name": "stdout",
     "output_type": "stream",
     "text": [
      "Filtering  at 10.42 Hz\n"
     ]
    },
    {
     "name": "stderr",
     "output_type": "stream",
     "text": [
      "[Parallel(n_jobs=24)]: Done  76 tasks      | elapsed:    0.2s\n",
      "[Parallel(n_jobs=24)]: Done 224 out of 224 | elapsed:    0.3s finished\n"
     ]
    },
    {
     "name": "stdout",
     "output_type": "stream",
     "text": [
      "Reduction order for nice/marker/SymbolicMutualInformation/default: ['channels_y', 'channels']\n",
      "Autodetected number of jobs 24\n",
      "Effective window size : 16.384 (s)\n",
      "Reduction order for nice/marker/PowerSpectralDensity/alpha: ['frequency', 'channels']\n",
      "Reduction order for nice/marker/PowerSpectralDensity/alpha: ['frequency', 'channels']\n",
      "Reduction order for nice/marker/PowerSpectralDensity/delta: ['frequency', 'channels']\n",
      "Reduction order for nice/marker/PowerSpectralDensity/delta: ['frequency', 'channels']\n",
      "Reduction order for nice/marker/PowerSpectralDensity/theta: ['frequency', 'channels']\n",
      "Reduction order for nice/marker/PowerSpectralDensity/theta: ['frequency', 'channels']\n",
      "Reduction order for nice/marker/PowerSpectralDensity/gamma: ['frequency', 'channels']\n",
      "Reduction order for nice/marker/PowerSpectralDensity/theta: ['frequency', 'channels']\n",
      "Reduction order for nice/marker/PowerSpectralDensity/beta: ['frequency', 'channels']\n",
      "Reduction order for nice/marker/PowerSpectralDensity/beta: ['frequency', 'channels']\n",
      "Running KolmogorovComplexity\n",
      "Elapsed time 0.0429384708404541 sec\n",
      "Reduction order for nice/marker/KolmogorovComplexity/default: ['channels']\n",
      "Filtering  at 10.42 Hz\n"
     ]
    },
    {
     "name": "stderr",
     "output_type": "stream",
     "text": [
      "[Parallel(n_jobs=24)]: Using backend LokyBackend with 24 concurrent workers.\n",
      "[Parallel(n_jobs=24)]: Done   6 out of  24 | elapsed:    0.1s remaining:    0.3s\n",
      "[Parallel(n_jobs=24)]: Done  11 out of  24 | elapsed:    0.1s remaining:    0.1s\n",
      "[Parallel(n_jobs=24)]: Done  16 out of  24 | elapsed:    0.1s remaining:    0.1s\n",
      "[Parallel(n_jobs=24)]: Done  21 out of  24 | elapsed:    0.1s remaining:    0.0s\n",
      "[Parallel(n_jobs=24)]: Done  24 out of  24 | elapsed:    0.1s finished\n"
     ]
    },
    {
     "name": "stdout",
     "output_type": "stream",
     "text": [
      "Performing symbolic transformation\n",
      "Reduction order for nice/marker/PermutationEntropy/default: ['channels']\n",
      "Autodetected number of jobs 24\n",
      "Computing CSD\n",
      "Using 10-5 locations for CSD\n",
      "Using 24 jobs\n",
      "Filtering  at 10.42 Hz\n"
     ]
    },
    {
     "name": "stderr",
     "output_type": "stream",
     "text": [
      "[Parallel(n_jobs=24)]: Using backend LokyBackend with 24 concurrent workers.\n",
      "[Parallel(n_jobs=24)]: Done  12 out of  29 | elapsed:    0.0s remaining:    0.1s\n",
      "[Parallel(n_jobs=24)]: Done  18 out of  29 | elapsed:    0.1s remaining:    0.0s\n",
      "[Parallel(n_jobs=24)]: Done  24 out of  29 | elapsed:    0.1s remaining:    0.0s\n",
      "[Parallel(n_jobs=24)]: Done  29 out of  29 | elapsed:    0.1s finished\n"
     ]
    },
    {
     "name": "stdout",
     "output_type": "stream",
     "text": [
      "Reduction order for nice/marker/SymbolicMutualInformation/default: ['channels_y', 'channels']\n",
      "Reading /media/nicolas.bruno/63f8a366-34b7-4896-a7ce-b5fb4ee78535/Nico/MW_eeg_data/minmarker/VP08/VP08evokedar-subtracted_epo.fif ...\n",
      "    Found the data of interest:\n",
      "        t =    -200.00 ...     600.00 ms\n",
      "        0 CTF compensation matrices available\n",
      "Not setting metadata\n",
      "Not setting metadata\n",
      "340 matching events found\n",
      "No baseline correction applied\n",
      "0 projection items activated\n",
      "Autodetected number of jobs 24\n",
      "Effective window size : 16.384 (s)\n"
     ]
    },
    {
     "name": "stderr",
     "output_type": "stream",
     "text": [
      "[Parallel(n_jobs=24)]: Using backend LokyBackend with 24 concurrent workers.\n",
      "[Parallel(n_jobs=24)]: Done   6 out of  24 | elapsed:    0.7s remaining:    2.0s\n",
      "[Parallel(n_jobs=24)]: Done  11 out of  24 | elapsed:    0.7s remaining:    0.9s\n",
      "[Parallel(n_jobs=24)]: Done  16 out of  24 | elapsed:    0.8s remaining:    0.4s\n",
      "[Parallel(n_jobs=24)]: Done  21 out of  24 | elapsed:    0.8s remaining:    0.1s\n",
      "[Parallel(n_jobs=24)]: Done  24 out of  24 | elapsed:    0.9s finished\n"
     ]
    },
    {
     "name": "stdout",
     "output_type": "stream",
     "text": [
      "Reduction order for nice/marker/PowerSpectralDensity/alpha: ['frequency', 'channels']\n",
      "Reduction order for nice/marker/PowerSpectralDensity/alpha: ['frequency', 'channels']\n",
      "Reduction order for nice/marker/PowerSpectralDensity/delta: ['frequency', 'channels']\n",
      "Reduction order for nice/marker/PowerSpectralDensity/delta: ['frequency', 'channels']\n",
      "Reduction order for nice/marker/PowerSpectralDensity/theta: ['frequency', 'channels']\n",
      "Reduction order for nice/marker/PowerSpectralDensity/theta: ['frequency', 'channels']\n",
      "Reduction order for nice/marker/PowerSpectralDensity/gamma: ['frequency', 'channels']\n",
      "Reduction order for nice/marker/PowerSpectralDensity/theta: ['frequency', 'channels']\n",
      "Reduction order for nice/marker/PowerSpectralDensity/beta: ['frequency', 'channels']\n",
      "Reduction order for nice/marker/PowerSpectralDensity/beta: ['frequency', 'channels']\n",
      "Running KolmogorovComplexity\n",
      "Elapsed time 0.32698845863342285 sec\n",
      "Reduction order for nice/marker/KolmogorovComplexity/default: ['channels']\n",
      "Filtering  at 10.42 Hz\n",
      "Performing symbolic transformation\n",
      "Reduction order for nice/marker/PermutationEntropy/default: ['channels']\n",
      "Autodetected number of jobs 24\n",
      "Computing CSD\n",
      "Using 10-5 locations for CSD\n",
      "Using 24 jobs\n"
     ]
    },
    {
     "name": "stderr",
     "output_type": "stream",
     "text": [
      "/home/nicolas.bruno/anaconda3/lib/python3.7/site-packages/nice-0.1.dev0-py3.7.egg/nice/algorithms/information_theory/permutation_entropy.py:75: RuntimeWarning: divide by zero encountered in log\n",
      "  pe = np.nan_to_num(-np.nansum(count * np.log(count), axis=1))\n",
      "/home/nicolas.bruno/anaconda3/lib/python3.7/site-packages/nice-0.1.dev0-py3.7.egg/nice/algorithms/information_theory/permutation_entropy.py:75: RuntimeWarning: invalid value encountered in multiply\n",
      "  pe = np.nan_to_num(-np.nansum(count * np.log(count), axis=1))\n",
      "[Parallel(n_jobs=24)]: Using backend LokyBackend with 24 concurrent workers.\n"
     ]
    },
    {
     "name": "stdout",
     "output_type": "stream",
     "text": [
      "Filtering  at 10.42 Hz\n"
     ]
    },
    {
     "name": "stderr",
     "output_type": "stream",
     "text": [
      "[Parallel(n_jobs=24)]: Done  74 tasks      | elapsed:    0.2s\n",
      "[Parallel(n_jobs=24)]: Done 224 out of 224 | elapsed:    0.3s finished\n"
     ]
    },
    {
     "name": "stdout",
     "output_type": "stream",
     "text": [
      "Reduction order for nice/marker/SymbolicMutualInformation/default: ['channels_y', 'channels']\n",
      "Autodetected number of jobs 24\n",
      "Effective window size : 16.384 (s)\n",
      "Reduction order for nice/marker/PowerSpectralDensity/alpha: ['frequency', 'channels']\n",
      "Reduction order for nice/marker/PowerSpectralDensity/alpha: ['frequency', 'channels']\n",
      "Reduction order for nice/marker/PowerSpectralDensity/delta: ['frequency', 'channels']\n",
      "Reduction order for nice/marker/PowerSpectralDensity/delta: ['frequency', 'channels']\n",
      "Reduction order for nice/marker/PowerSpectralDensity/theta: ['frequency', 'channels']\n",
      "Reduction order for nice/marker/PowerSpectralDensity/theta: ['frequency', 'channels']\n",
      "Reduction order for nice/marker/PowerSpectralDensity/gamma: ['frequency', 'channels']\n",
      "Reduction order for nice/marker/PowerSpectralDensity/theta: ['frequency', 'channels']\n",
      "Reduction order for nice/marker/PowerSpectralDensity/beta: ['frequency', 'channels']\n",
      "Reduction order for nice/marker/PowerSpectralDensity/beta: ['frequency', 'channels']\n",
      "Running KolmogorovComplexity\n"
     ]
    },
    {
     "name": "stderr",
     "output_type": "stream",
     "text": [
      "[Parallel(n_jobs=24)]: Using backend LokyBackend with 24 concurrent workers.\n",
      "[Parallel(n_jobs=24)]: Done   6 out of  24 | elapsed:    0.1s remaining:    0.2s\n",
      "[Parallel(n_jobs=24)]: Done  11 out of  24 | elapsed:    0.1s remaining:    0.1s\n",
      "[Parallel(n_jobs=24)]: Done  16 out of  24 | elapsed:    0.1s remaining:    0.1s\n",
      "[Parallel(n_jobs=24)]: Done  21 out of  24 | elapsed:    0.1s remaining:    0.0s\n",
      "[Parallel(n_jobs=24)]: Done  24 out of  24 | elapsed:    0.1s finished\n"
     ]
    },
    {
     "name": "stdout",
     "output_type": "stream",
     "text": [
      "Elapsed time 0.04234123229980469 sec\n",
      "Reduction order for nice/marker/KolmogorovComplexity/default: ['channels']\n",
      "Filtering  at 10.42 Hz\n",
      "Performing symbolic transformation\n",
      "Reduction order for nice/marker/PermutationEntropy/default: ['channels']\n",
      "Autodetected number of jobs 24\n",
      "Computing CSD\n",
      "Using 10-5 locations for CSD\n",
      "Using 24 jobs\n",
      "Filtering  at 10.42 Hz\n"
     ]
    },
    {
     "name": "stderr",
     "output_type": "stream",
     "text": [
      "[Parallel(n_jobs=24)]: Using backend LokyBackend with 24 concurrent workers.\n",
      "[Parallel(n_jobs=24)]: Done  12 out of  29 | elapsed:    0.0s remaining:    0.1s\n",
      "[Parallel(n_jobs=24)]: Done  18 out of  29 | elapsed:    0.1s remaining:    0.0s\n",
      "[Parallel(n_jobs=24)]: Done  24 out of  29 | elapsed:    0.1s remaining:    0.0s\n",
      "[Parallel(n_jobs=24)]: Done  29 out of  29 | elapsed:    0.1s finished\n"
     ]
    },
    {
     "name": "stdout",
     "output_type": "stream",
     "text": [
      "Reduction order for nice/marker/SymbolicMutualInformation/default: ['channels_y', 'channels']\n",
      "Reading /media/nicolas.bruno/63f8a366-34b7-4896-a7ce-b5fb4ee78535/Nico/MW_eeg_data/minmarker/VP09/VP09evokedar-subtracted_epo.fif ...\n",
      "    Found the data of interest:\n",
      "        t =    -200.00 ...     600.00 ms\n",
      "        0 CTF compensation matrices available\n",
      "Not setting metadata\n",
      "Not setting metadata\n",
      "246 matching events found\n",
      "No baseline correction applied\n",
      "0 projection items activated\n",
      "Autodetected number of jobs 24\n",
      "Effective window size : 16.384 (s)\n"
     ]
    },
    {
     "name": "stderr",
     "output_type": "stream",
     "text": [
      "[Parallel(n_jobs=24)]: Using backend LokyBackend with 24 concurrent workers.\n",
      "[Parallel(n_jobs=24)]: Done   6 out of  24 | elapsed:    0.6s remaining:    1.9s\n",
      "[Parallel(n_jobs=24)]: Done  11 out of  24 | elapsed:    0.7s remaining:    0.8s\n",
      "[Parallel(n_jobs=24)]: Done  16 out of  24 | elapsed:    0.8s remaining:    0.4s\n",
      "[Parallel(n_jobs=24)]: Done  21 out of  24 | elapsed:    0.8s remaining:    0.1s\n"
     ]
    },
    {
     "name": "stdout",
     "output_type": "stream",
     "text": [
      "Reduction order for nice/marker/PowerSpectralDensity/alpha: ['frequency', 'channels']\n",
      "Reduction order for nice/marker/PowerSpectralDensity/alpha: ['frequency', 'channels']\n",
      "Reduction order for nice/marker/PowerSpectralDensity/delta: ['frequency', 'channels']\n",
      "Reduction order for nice/marker/PowerSpectralDensity/delta: ['frequency', 'channels']\n",
      "Reduction order for nice/marker/PowerSpectralDensity/theta: ['frequency', 'channels']\n",
      "Reduction order for nice/marker/PowerSpectralDensity/theta: ['frequency', 'channels']\n",
      "Reduction order for nice/marker/PowerSpectralDensity/gamma: ['frequency', 'channels']\n",
      "Reduction order for nice/marker/PowerSpectralDensity/theta: ['frequency', 'channels']\n",
      "Reduction order for nice/marker/PowerSpectralDensity/beta: ['frequency', 'channels']\n",
      "Reduction order for nice/marker/PowerSpectralDensity/beta: ['frequency', 'channels']\n"
     ]
    },
    {
     "name": "stderr",
     "output_type": "stream",
     "text": [
      "[Parallel(n_jobs=24)]: Done  24 out of  24 | elapsed:    0.9s finished\n"
     ]
    },
    {
     "name": "stdout",
     "output_type": "stream",
     "text": [
      "Running KolmogorovComplexity\n",
      "Elapsed time 0.31908392906188965 sec\n",
      "Reduction order for nice/marker/KolmogorovComplexity/default: ['channels']\n",
      "Filtering  at 10.42 Hz\n",
      "Performing symbolic transformation\n",
      "Reduction order for nice/marker/PermutationEntropy/default: ['channels']\n",
      "Autodetected number of jobs 24\n",
      "Computing CSD\n",
      "Using 10-5 locations for CSD\n",
      "Using 24 jobs\n"
     ]
    },
    {
     "name": "stderr",
     "output_type": "stream",
     "text": [
      "/home/nicolas.bruno/anaconda3/lib/python3.7/site-packages/nice-0.1.dev0-py3.7.egg/nice/algorithms/information_theory/permutation_entropy.py:75: RuntimeWarning: divide by zero encountered in log\n",
      "  pe = np.nan_to_num(-np.nansum(count * np.log(count), axis=1))\n",
      "/home/nicolas.bruno/anaconda3/lib/python3.7/site-packages/nice-0.1.dev0-py3.7.egg/nice/algorithms/information_theory/permutation_entropy.py:75: RuntimeWarning: invalid value encountered in multiply\n",
      "  pe = np.nan_to_num(-np.nansum(count * np.log(count), axis=1))\n",
      "[Parallel(n_jobs=24)]: Using backend LokyBackend with 24 concurrent workers.\n",
      "[Parallel(n_jobs=24)]: Done  72 tasks      | elapsed:    0.2s\n"
     ]
    },
    {
     "name": "stdout",
     "output_type": "stream",
     "text": [
      "Filtering  at 10.42 Hz\n"
     ]
    },
    {
     "name": "stderr",
     "output_type": "stream",
     "text": [
      "[Parallel(n_jobs=24)]: Done 224 out of 224 | elapsed:    0.5s finished\n"
     ]
    },
    {
     "name": "stdout",
     "output_type": "stream",
     "text": [
      "Reduction order for nice/marker/SymbolicMutualInformation/default: ['channels_y', 'channels']\n",
      "Autodetected number of jobs 24\n",
      "Effective window size : 16.384 (s)\n",
      "Reduction order for nice/marker/PowerSpectralDensity/alpha: ['frequency', 'channels']\n",
      "Reduction order for nice/marker/PowerSpectralDensity/alpha: ['frequency', 'channels']\n",
      "Reduction order for nice/marker/PowerSpectralDensity/delta: ['frequency', 'channels']\n",
      "Reduction order for nice/marker/PowerSpectralDensity/delta: ['frequency', 'channels']\n",
      "Reduction order for nice/marker/PowerSpectralDensity/theta: ['frequency', 'channels']\n",
      "Reduction order for nice/marker/PowerSpectralDensity/theta: ['frequency', 'channels']\n",
      "Reduction order for nice/marker/PowerSpectralDensity/gamma: ['frequency', 'channels']\n",
      "Reduction order for nice/marker/PowerSpectralDensity/theta: ['frequency', 'channels']\n",
      "Reduction order for nice/marker/PowerSpectralDensity/beta: ['frequency', 'channels']\n",
      "Reduction order for nice/marker/PowerSpectralDensity/beta: ['frequency', 'channels']\n",
      "Running KolmogorovComplexity\n"
     ]
    },
    {
     "name": "stderr",
     "output_type": "stream",
     "text": [
      "[Parallel(n_jobs=24)]: Using backend LokyBackend with 24 concurrent workers.\n",
      "[Parallel(n_jobs=24)]: Done   6 out of  24 | elapsed:    0.1s remaining:    0.2s\n",
      "[Parallel(n_jobs=24)]: Done  11 out of  24 | elapsed:    0.1s remaining:    0.1s\n",
      "[Parallel(n_jobs=24)]: Done  16 out of  24 | elapsed:    0.1s remaining:    0.1s\n",
      "[Parallel(n_jobs=24)]: Done  21 out of  24 | elapsed:    0.1s remaining:    0.0s\n",
      "[Parallel(n_jobs=24)]: Done  24 out of  24 | elapsed:    0.1s finished\n"
     ]
    },
    {
     "name": "stdout",
     "output_type": "stream",
     "text": [
      "Elapsed time 0.04355669021606445 sec\n",
      "Reduction order for nice/marker/KolmogorovComplexity/default: ['channels']\n",
      "Filtering  at 10.42 Hz\n",
      "Performing symbolic transformation\n",
      "Reduction order for nice/marker/PermutationEntropy/default: ['channels']\n",
      "Autodetected number of jobs 24\n",
      "Computing CSD\n",
      "Using 10-5 locations for CSD\n",
      "Using 24 jobs\n",
      "Filtering  at 10.42 Hz\n"
     ]
    },
    {
     "name": "stderr",
     "output_type": "stream",
     "text": [
      "[Parallel(n_jobs=24)]: Using backend LokyBackend with 24 concurrent workers.\n",
      "[Parallel(n_jobs=24)]: Done   3 tasks      | elapsed:    0.0s\n",
      "[Parallel(n_jobs=24)]: Done  12 out of  29 | elapsed:    0.0s remaining:    0.1s\n",
      "[Parallel(n_jobs=24)]: Done  18 out of  29 | elapsed:    0.1s remaining:    0.0s\n",
      "[Parallel(n_jobs=24)]: Done  24 out of  29 | elapsed:    0.1s remaining:    0.0s\n",
      "[Parallel(n_jobs=24)]: Done  29 out of  29 | elapsed:    0.1s finished\n"
     ]
    },
    {
     "name": "stdout",
     "output_type": "stream",
     "text": [
      "Reduction order for nice/marker/SymbolicMutualInformation/default: ['channels_y', 'channels']\n",
      "Reading /media/nicolas.bruno/63f8a366-34b7-4896-a7ce-b5fb4ee78535/Nico/MW_eeg_data/minmarker/VP10/VP10evokedar-subtracted_epo.fif ...\n",
      "    Found the data of interest:\n",
      "        t =    -200.00 ...     600.00 ms\n",
      "        0 CTF compensation matrices available\n",
      "Not setting metadata\n",
      "Not setting metadata\n",
      "98 matching events found\n",
      "No baseline correction applied\n",
      "0 projection items activated\n",
      "Autodetected number of jobs 24\n",
      "Effective window size : 16.384 (s)\n"
     ]
    },
    {
     "name": "stderr",
     "output_type": "stream",
     "text": [
      "[Parallel(n_jobs=24)]: Using backend LokyBackend with 24 concurrent workers.\n",
      "[Parallel(n_jobs=24)]: Done   6 out of  24 | elapsed:    0.7s remaining:    2.0s\n",
      "[Parallel(n_jobs=24)]: Done  11 out of  24 | elapsed:    0.7s remaining:    0.9s\n",
      "[Parallel(n_jobs=24)]: Done  16 out of  24 | elapsed:    0.8s remaining:    0.4s\n",
      "[Parallel(n_jobs=24)]: Done  21 out of  24 | elapsed:    0.8s remaining:    0.1s\n",
      "[Parallel(n_jobs=24)]: Done  24 out of  24 | elapsed:    0.9s finished\n"
     ]
    },
    {
     "name": "stdout",
     "output_type": "stream",
     "text": [
      "Reduction order for nice/marker/PowerSpectralDensity/alpha: ['frequency', 'channels']\n",
      "Reduction order for nice/marker/PowerSpectralDensity/alpha: ['frequency', 'channels']\n",
      "Reduction order for nice/marker/PowerSpectralDensity/delta: ['frequency', 'channels']\n",
      "Reduction order for nice/marker/PowerSpectralDensity/delta: ['frequency', 'channels']\n",
      "Reduction order for nice/marker/PowerSpectralDensity/theta: ['frequency', 'channels']\n",
      "Reduction order for nice/marker/PowerSpectralDensity/theta: ['frequency', 'channels']\n",
      "Reduction order for nice/marker/PowerSpectralDensity/gamma: ['frequency', 'channels']\n",
      "Reduction order for nice/marker/PowerSpectralDensity/theta: ['frequency', 'channels']\n",
      "Reduction order for nice/marker/PowerSpectralDensity/beta: ['frequency', 'channels']\n",
      "Reduction order for nice/marker/PowerSpectralDensity/beta: ['frequency', 'channels']\n",
      "Running KolmogorovComplexity\n",
      "Elapsed time 0.32146787643432617 sec\n",
      "Reduction order for nice/marker/KolmogorovComplexity/default: ['channels']\n",
      "Filtering  at 10.42 Hz\n",
      "Performing symbolic transformation\n",
      "Reduction order for nice/marker/PermutationEntropy/default: ['channels']\n",
      "Autodetected number of jobs 24\n",
      "Computing CSD\n",
      "Using 10-5 locations for CSD\n",
      "Using 24 jobs\n"
     ]
    },
    {
     "name": "stderr",
     "output_type": "stream",
     "text": [
      "/home/nicolas.bruno/anaconda3/lib/python3.7/site-packages/nice-0.1.dev0-py3.7.egg/nice/algorithms/information_theory/permutation_entropy.py:75: RuntimeWarning: divide by zero encountered in log\n",
      "  pe = np.nan_to_num(-np.nansum(count * np.log(count), axis=1))\n",
      "/home/nicolas.bruno/anaconda3/lib/python3.7/site-packages/nice-0.1.dev0-py3.7.egg/nice/algorithms/information_theory/permutation_entropy.py:75: RuntimeWarning: invalid value encountered in multiply\n",
      "  pe = np.nan_to_num(-np.nansum(count * np.log(count), axis=1))\n",
      "[Parallel(n_jobs=24)]: Using backend LokyBackend with 24 concurrent workers.\n"
     ]
    },
    {
     "name": "stdout",
     "output_type": "stream",
     "text": [
      "Filtering  at 10.42 Hz\n"
     ]
    },
    {
     "name": "stderr",
     "output_type": "stream",
     "text": [
      "[Parallel(n_jobs=24)]: Done  72 tasks      | elapsed:    0.2s\n",
      "[Parallel(n_jobs=24)]: Done 224 out of 224 | elapsed:    0.3s finished\n"
     ]
    },
    {
     "name": "stdout",
     "output_type": "stream",
     "text": [
      "Reduction order for nice/marker/SymbolicMutualInformation/default: ['channels_y', 'channels']\n",
      "Autodetected number of jobs 24\n",
      "Effective window size : 16.384 (s)\n",
      "Reduction order for nice/marker/PowerSpectralDensity/alpha: ['frequency', 'channels']\n",
      "Reduction order for nice/marker/PowerSpectralDensity/alpha: ['frequency', 'channels']\n",
      "Reduction order for nice/marker/PowerSpectralDensity/delta: ['frequency', 'channels']\n",
      "Reduction order for nice/marker/PowerSpectralDensity/delta: ['frequency', 'channels']\n",
      "Reduction order for nice/marker/PowerSpectralDensity/theta: ['frequency', 'channels']\n",
      "Reduction order for nice/marker/PowerSpectralDensity/theta: ['frequency', 'channels']\n",
      "Reduction order for nice/marker/PowerSpectralDensity/gamma: ['frequency', 'channels']\n",
      "Reduction order for nice/marker/PowerSpectralDensity/theta: ['frequency', 'channels']\n",
      "Reduction order for nice/marker/PowerSpectralDensity/beta: ['frequency', 'channels']\n",
      "Reduction order for nice/marker/PowerSpectralDensity/beta: ['frequency', 'channels']\n",
      "Running KolmogorovComplexity\n",
      "Elapsed time 0.04105520248413086 sec\n"
     ]
    },
    {
     "name": "stderr",
     "output_type": "stream",
     "text": [
      "[Parallel(n_jobs=24)]: Using backend LokyBackend with 24 concurrent workers.\n",
      "[Parallel(n_jobs=24)]: Done   6 out of  24 | elapsed:    0.1s remaining:    0.2s\n",
      "[Parallel(n_jobs=24)]: Done  11 out of  24 | elapsed:    0.1s remaining:    0.1s\n",
      "[Parallel(n_jobs=24)]: Done  16 out of  24 | elapsed:    0.1s remaining:    0.1s\n",
      "[Parallel(n_jobs=24)]: Done  21 out of  24 | elapsed:    0.1s remaining:    0.0s\n",
      "[Parallel(n_jobs=24)]: Done  24 out of  24 | elapsed:    0.1s finished\n"
     ]
    },
    {
     "name": "stdout",
     "output_type": "stream",
     "text": [
      "Reduction order for nice/marker/KolmogorovComplexity/default: ['channels']\n",
      "Filtering  at 10.42 Hz\n",
      "Performing symbolic transformation\n",
      "Reduction order for nice/marker/PermutationEntropy/default: ['channels']\n",
      "Autodetected number of jobs 24\n",
      "Computing CSD\n",
      "Using 10-5 locations for CSD\n",
      "Using 24 jobs\n",
      "Filtering  at 10.42 Hz\n"
     ]
    },
    {
     "name": "stderr",
     "output_type": "stream",
     "text": [
      "[Parallel(n_jobs=24)]: Using backend LokyBackend with 24 concurrent workers.\n",
      "[Parallel(n_jobs=24)]: Done   5 tasks      | elapsed:    0.0s\n",
      "[Parallel(n_jobs=24)]: Done  18 out of  29 | elapsed:    0.1s remaining:    0.0s\n",
      "[Parallel(n_jobs=24)]: Done  24 out of  29 | elapsed:    0.1s remaining:    0.0s\n",
      "[Parallel(n_jobs=24)]: Done  29 out of  29 | elapsed:    0.1s finished\n"
     ]
    },
    {
     "name": "stdout",
     "output_type": "stream",
     "text": [
      "Reduction order for nice/marker/SymbolicMutualInformation/default: ['channels_y', 'channels']\n",
      "Reading /media/nicolas.bruno/63f8a366-34b7-4896-a7ce-b5fb4ee78535/Nico/MW_eeg_data/minmarker/VP11/VP11evokedar-subtracted_epo.fif ...\n",
      "    Found the data of interest:\n",
      "        t =    -200.00 ...     600.00 ms\n",
      "        0 CTF compensation matrices available\n",
      "Not setting metadata\n",
      "Not setting metadata\n",
      "145 matching events found\n",
      "No baseline correction applied\n",
      "0 projection items activated\n",
      "Autodetected number of jobs 24\n",
      "Effective window size : 16.384 (s)\n"
     ]
    },
    {
     "name": "stderr",
     "output_type": "stream",
     "text": [
      "[Parallel(n_jobs=24)]: Using backend LokyBackend with 24 concurrent workers.\n",
      "[Parallel(n_jobs=24)]: Done   6 out of  24 | elapsed:    0.6s remaining:    1.9s\n",
      "[Parallel(n_jobs=24)]: Done  11 out of  24 | elapsed:    0.7s remaining:    0.8s\n",
      "[Parallel(n_jobs=24)]: Done  16 out of  24 | elapsed:    0.7s remaining:    0.4s\n",
      "[Parallel(n_jobs=24)]: Done  21 out of  24 | elapsed:    0.8s remaining:    0.1s\n"
     ]
    },
    {
     "name": "stdout",
     "output_type": "stream",
     "text": [
      "Reduction order for nice/marker/PowerSpectralDensity/alpha: ['frequency', 'channels']\n",
      "Reduction order for nice/marker/PowerSpectralDensity/alpha: ['frequency', 'channels']\n",
      "Reduction order for nice/marker/PowerSpectralDensity/delta: ['frequency', 'channels']\n",
      "Reduction order for nice/marker/PowerSpectralDensity/delta: ['frequency', 'channels']\n",
      "Reduction order for nice/marker/PowerSpectralDensity/theta: ['frequency', 'channels']\n",
      "Reduction order for nice/marker/PowerSpectralDensity/theta: ['frequency', 'channels']\n",
      "Reduction order for nice/marker/PowerSpectralDensity/gamma: ['frequency', 'channels']\n",
      "Reduction order for nice/marker/PowerSpectralDensity/theta: ['frequency', 'channels']\n",
      "Reduction order for nice/marker/PowerSpectralDensity/beta: ['frequency', 'channels']\n",
      "Reduction order for nice/marker/PowerSpectralDensity/beta: ['frequency', 'channels']\n",
      "Running KolmogorovComplexity\n",
      "Elapsed time 0.3207361698150635 sec\n",
      "Reduction order for nice/marker/KolmogorovComplexity/default: ['channels']\n",
      "Filtering  at 10.42 Hz\n",
      "Performing symbolic transformation\n",
      "Reduction order for nice/marker/PermutationEntropy/default: ['channels']\n",
      "Autodetected number of jobs 24\n",
      "Computing CSD\n",
      "Using 10-5 locations for CSD\n",
      "Using 24 jobs\n"
     ]
    },
    {
     "name": "stderr",
     "output_type": "stream",
     "text": [
      "[Parallel(n_jobs=24)]: Done  24 out of  24 | elapsed:    0.8s finished\n",
      "/home/nicolas.bruno/anaconda3/lib/python3.7/site-packages/nice-0.1.dev0-py3.7.egg/nice/algorithms/information_theory/permutation_entropy.py:75: RuntimeWarning: divide by zero encountered in log\n",
      "  pe = np.nan_to_num(-np.nansum(count * np.log(count), axis=1))\n",
      "/home/nicolas.bruno/anaconda3/lib/python3.7/site-packages/nice-0.1.dev0-py3.7.egg/nice/algorithms/information_theory/permutation_entropy.py:75: RuntimeWarning: invalid value encountered in multiply\n",
      "  pe = np.nan_to_num(-np.nansum(count * np.log(count), axis=1))\n",
      "[Parallel(n_jobs=24)]: Using backend LokyBackend with 24 concurrent workers.\n"
     ]
    },
    {
     "name": "stdout",
     "output_type": "stream",
     "text": [
      "Filtering  at 10.42 Hz\n"
     ]
    },
    {
     "name": "stderr",
     "output_type": "stream",
     "text": [
      "[Parallel(n_jobs=24)]: Done  72 tasks      | elapsed:    0.2s\n",
      "[Parallel(n_jobs=24)]: Done 224 out of 224 | elapsed:    0.3s finished\n"
     ]
    },
    {
     "name": "stdout",
     "output_type": "stream",
     "text": [
      "Reduction order for nice/marker/SymbolicMutualInformation/default: ['channels_y', 'channels']\n",
      "Autodetected number of jobs 24\n",
      "Effective window size : 16.384 (s)\n",
      "Reduction order for nice/marker/PowerSpectralDensity/alpha: ['frequency', 'channels']\n",
      "Reduction order for nice/marker/PowerSpectralDensity/alpha: ['frequency', 'channels']\n",
      "Reduction order for nice/marker/PowerSpectralDensity/delta: ['frequency', 'channels']\n",
      "Reduction order for nice/marker/PowerSpectralDensity/delta: ['frequency', 'channels']\n",
      "Reduction order for nice/marker/PowerSpectralDensity/theta: ['frequency', 'channels']\n",
      "Reduction order for nice/marker/PowerSpectralDensity/theta: ['frequency', 'channels']\n",
      "Reduction order for nice/marker/PowerSpectralDensity/gamma: ['frequency', 'channels']\n",
      "Reduction order for nice/marker/PowerSpectralDensity/theta: ['frequency', 'channels']\n",
      "Reduction order for nice/marker/PowerSpectralDensity/beta: ['frequency', 'channels']\n",
      "Reduction order for nice/marker/PowerSpectralDensity/beta: ['frequency', 'channels']\n",
      "Running KolmogorovComplexity\n",
      "Elapsed time 0.043750762939453125 sec\n"
     ]
    },
    {
     "name": "stderr",
     "output_type": "stream",
     "text": [
      "[Parallel(n_jobs=24)]: Using backend LokyBackend with 24 concurrent workers.\n",
      "[Parallel(n_jobs=24)]: Done   6 out of  24 | elapsed:    0.1s remaining:    0.3s\n",
      "[Parallel(n_jobs=24)]: Done  11 out of  24 | elapsed:    0.1s remaining:    0.1s\n",
      "[Parallel(n_jobs=24)]: Done  16 out of  24 | elapsed:    0.1s remaining:    0.1s\n",
      "[Parallel(n_jobs=24)]: Done  21 out of  24 | elapsed:    0.1s remaining:    0.0s\n",
      "[Parallel(n_jobs=24)]: Done  24 out of  24 | elapsed:    0.1s finished\n"
     ]
    },
    {
     "name": "stdout",
     "output_type": "stream",
     "text": [
      "Reduction order for nice/marker/KolmogorovComplexity/default: ['channels']\n",
      "Filtering  at 10.42 Hz\n",
      "Performing symbolic transformation\n",
      "Reduction order for nice/marker/PermutationEntropy/default: ['channels']\n",
      "Autodetected number of jobs 24\n",
      "Computing CSD\n",
      "Using 10-5 locations for CSD\n",
      "Using 24 jobs\n",
      "Filtering  at 10.42 Hz\n"
     ]
    },
    {
     "name": "stderr",
     "output_type": "stream",
     "text": [
      "[Parallel(n_jobs=24)]: Using backend LokyBackend with 24 concurrent workers.\n",
      "[Parallel(n_jobs=24)]: Done  12 out of  29 | elapsed:    0.0s remaining:    0.1s\n",
      "[Parallel(n_jobs=24)]: Done  18 out of  29 | elapsed:    0.1s remaining:    0.0s\n",
      "[Parallel(n_jobs=24)]: Done  24 out of  29 | elapsed:    0.1s remaining:    0.0s\n",
      "[Parallel(n_jobs=24)]: Done  29 out of  29 | elapsed:    0.1s finished\n"
     ]
    },
    {
     "name": "stdout",
     "output_type": "stream",
     "text": [
      "Reduction order for nice/marker/SymbolicMutualInformation/default: ['channels_y', 'channels']\n",
      "Reading /media/nicolas.bruno/63f8a366-34b7-4896-a7ce-b5fb4ee78535/Nico/MW_eeg_data/minmarker/VP12/VP12evokedar-subtracted_epo.fif ...\n",
      "    Found the data of interest:\n",
      "        t =    -200.00 ...     600.00 ms\n",
      "        0 CTF compensation matrices available\n",
      "Not setting metadata\n",
      "Not setting metadata\n",
      "32 matching events found\n",
      "No baseline correction applied\n",
      "0 projection items activated\n",
      "Autodetected number of jobs 24\n",
      "Effective window size : 16.384 (s)\n"
     ]
    },
    {
     "name": "stderr",
     "output_type": "stream",
     "text": [
      "[Parallel(n_jobs=24)]: Using backend LokyBackend with 24 concurrent workers.\n",
      "[Parallel(n_jobs=24)]: Done   6 out of  24 | elapsed:    0.6s remaining:    1.9s\n",
      "[Parallel(n_jobs=24)]: Done  11 out of  24 | elapsed:    0.7s remaining:    0.8s\n",
      "[Parallel(n_jobs=24)]: Done  16 out of  24 | elapsed:    0.8s remaining:    0.4s\n",
      "[Parallel(n_jobs=24)]: Done  21 out of  24 | elapsed:    0.8s remaining:    0.1s\n"
     ]
    },
    {
     "name": "stdout",
     "output_type": "stream",
     "text": [
      "Reduction order for nice/marker/PowerSpectralDensity/alpha: ['frequency', 'channels']\n",
      "Reduction order for nice/marker/PowerSpectralDensity/alpha: ['frequency', 'channels']\n",
      "Reduction order for nice/marker/PowerSpectralDensity/delta: ['frequency', 'channels']\n",
      "Reduction order for nice/marker/PowerSpectralDensity/delta: ['frequency', 'channels']\n",
      "Reduction order for nice/marker/PowerSpectralDensity/theta: ['frequency', 'channels']\n",
      "Reduction order for nice/marker/PowerSpectralDensity/theta: ['frequency', 'channels']\n",
      "Reduction order for nice/marker/PowerSpectralDensity/gamma: ['frequency', 'channels']\n",
      "Reduction order for nice/marker/PowerSpectralDensity/theta: ['frequency', 'channels']\n",
      "Reduction order for nice/marker/PowerSpectralDensity/beta: ['frequency', 'channels']\n",
      "Reduction order for nice/marker/PowerSpectralDensity/beta: ['frequency', 'channels']\n",
      "Running KolmogorovComplexity\n",
      "Elapsed time 0.319591760635376 sec\n"
     ]
    },
    {
     "name": "stderr",
     "output_type": "stream",
     "text": [
      "[Parallel(n_jobs=24)]: Done  24 out of  24 | elapsed:    0.8s finished\n"
     ]
    },
    {
     "name": "stdout",
     "output_type": "stream",
     "text": [
      "Reduction order for nice/marker/KolmogorovComplexity/default: ['channels']\n",
      "Filtering  at 10.42 Hz\n",
      "Performing symbolic transformation\n",
      "Reduction order for nice/marker/PermutationEntropy/default: ['channels']\n",
      "Autodetected number of jobs 24\n",
      "Computing CSD\n",
      "Using 10-5 locations for CSD\n",
      "Using 24 jobs\n"
     ]
    },
    {
     "name": "stderr",
     "output_type": "stream",
     "text": [
      "/home/nicolas.bruno/anaconda3/lib/python3.7/site-packages/nice-0.1.dev0-py3.7.egg/nice/algorithms/information_theory/permutation_entropy.py:75: RuntimeWarning: divide by zero encountered in log\n",
      "  pe = np.nan_to_num(-np.nansum(count * np.log(count), axis=1))\n",
      "/home/nicolas.bruno/anaconda3/lib/python3.7/site-packages/nice-0.1.dev0-py3.7.egg/nice/algorithms/information_theory/permutation_entropy.py:75: RuntimeWarning: invalid value encountered in multiply\n",
      "  pe = np.nan_to_num(-np.nansum(count * np.log(count), axis=1))\n",
      "[Parallel(n_jobs=24)]: Using backend LokyBackend with 24 concurrent workers.\n"
     ]
    },
    {
     "name": "stdout",
     "output_type": "stream",
     "text": [
      "Filtering  at 10.42 Hz\n"
     ]
    },
    {
     "name": "stderr",
     "output_type": "stream",
     "text": [
      "[Parallel(n_jobs=24)]: Done  76 tasks      | elapsed:    0.2s\n",
      "[Parallel(n_jobs=24)]: Done 224 out of 224 | elapsed:    0.3s finished\n"
     ]
    },
    {
     "name": "stdout",
     "output_type": "stream",
     "text": [
      "Reduction order for nice/marker/SymbolicMutualInformation/default: ['channels_y', 'channels']\n",
      "Autodetected number of jobs 24\n",
      "Effective window size : 16.384 (s)\n",
      "Reduction order for nice/marker/PowerSpectralDensity/alpha: ['frequency', 'channels']\n",
      "Reduction order for nice/marker/PowerSpectralDensity/alpha: ['frequency', 'channels']\n",
      "Reduction order for nice/marker/PowerSpectralDensity/delta: ['frequency', 'channels']\n",
      "Reduction order for nice/marker/PowerSpectralDensity/delta: ['frequency', 'channels']\n",
      "Reduction order for nice/marker/PowerSpectralDensity/theta: ['frequency', 'channels']\n",
      "Reduction order for nice/marker/PowerSpectralDensity/theta: ['frequency', 'channels']\n",
      "Reduction order for nice/marker/PowerSpectralDensity/gamma: ['frequency', 'channels']\n",
      "Reduction order for nice/marker/PowerSpectralDensity/theta: ['frequency', 'channels']\n",
      "Reduction order for nice/marker/PowerSpectralDensity/beta: ['frequency', 'channels']\n",
      "Reduction order for nice/marker/PowerSpectralDensity/beta: ['frequency', 'channels']\n",
      "Running KolmogorovComplexity\n",
      "Elapsed time 0.04321742057800293 sec\n"
     ]
    },
    {
     "name": "stderr",
     "output_type": "stream",
     "text": [
      "[Parallel(n_jobs=24)]: Using backend LokyBackend with 24 concurrent workers.\n",
      "[Parallel(n_jobs=24)]: Done   6 out of  24 | elapsed:    0.1s remaining:    0.3s\n",
      "[Parallel(n_jobs=24)]: Done  11 out of  24 | elapsed:    0.1s remaining:    0.1s\n",
      "[Parallel(n_jobs=24)]: Done  16 out of  24 | elapsed:    0.1s remaining:    0.1s\n",
      "[Parallel(n_jobs=24)]: Done  21 out of  24 | elapsed:    0.1s remaining:    0.0s\n",
      "[Parallel(n_jobs=24)]: Done  24 out of  24 | elapsed:    0.1s finished\n"
     ]
    },
    {
     "name": "stdout",
     "output_type": "stream",
     "text": [
      "Reduction order for nice/marker/KolmogorovComplexity/default: ['channels']\n",
      "Filtering  at 10.42 Hz\n",
      "Performing symbolic transformation\n",
      "Reduction order for nice/marker/PermutationEntropy/default: ['channels']\n",
      "Autodetected number of jobs 24\n",
      "Computing CSD\n",
      "Using 10-5 locations for CSD\n",
      "Using 24 jobs\n",
      "Filtering  at 10.42 Hz\n"
     ]
    },
    {
     "name": "stderr",
     "output_type": "stream",
     "text": [
      "[Parallel(n_jobs=24)]: Using backend LokyBackend with 24 concurrent workers.\n",
      "[Parallel(n_jobs=24)]: Done  12 out of  29 | elapsed:    0.1s remaining:    0.1s\n",
      "[Parallel(n_jobs=24)]: Done  18 out of  29 | elapsed:    0.1s remaining:    0.0s\n",
      "[Parallel(n_jobs=24)]: Done  24 out of  29 | elapsed:    0.1s remaining:    0.0s\n",
      "[Parallel(n_jobs=24)]: Done  29 out of  29 | elapsed:    0.1s finished\n"
     ]
    },
    {
     "name": "stdout",
     "output_type": "stream",
     "text": [
      "Reduction order for nice/marker/SymbolicMutualInformation/default: ['channels_y', 'channels']\n",
      "Reading /media/nicolas.bruno/63f8a366-34b7-4896-a7ce-b5fb4ee78535/Nico/MW_eeg_data/minmarker/VP13/VP13evokedar-subtracted_epo.fif ...\n",
      "    Found the data of interest:\n",
      "        t =    -200.00 ...     600.00 ms\n",
      "        0 CTF compensation matrices available\n",
      "Not setting metadata\n",
      "Not setting metadata\n",
      "391 matching events found\n",
      "No baseline correction applied\n",
      "0 projection items activated\n",
      "Autodetected number of jobs 24\n",
      "Effective window size : 16.384 (s)\n"
     ]
    },
    {
     "name": "stderr",
     "output_type": "stream",
     "text": [
      "[Parallel(n_jobs=24)]: Using backend LokyBackend with 24 concurrent workers.\n",
      "[Parallel(n_jobs=24)]: Done   6 out of  24 | elapsed:    0.7s remaining:    2.0s\n",
      "[Parallel(n_jobs=24)]: Done  11 out of  24 | elapsed:    0.7s remaining:    0.8s\n",
      "[Parallel(n_jobs=24)]: Done  16 out of  24 | elapsed:    0.8s remaining:    0.4s\n",
      "[Parallel(n_jobs=24)]: Done  21 out of  24 | elapsed:    0.8s remaining:    0.1s\n",
      "[Parallel(n_jobs=24)]: Done  24 out of  24 | elapsed:    0.8s finished\n"
     ]
    },
    {
     "name": "stdout",
     "output_type": "stream",
     "text": [
      "Reduction order for nice/marker/PowerSpectralDensity/alpha: ['frequency', 'channels']\n",
      "Reduction order for nice/marker/PowerSpectralDensity/alpha: ['frequency', 'channels']\n",
      "Reduction order for nice/marker/PowerSpectralDensity/delta: ['frequency', 'channels']\n",
      "Reduction order for nice/marker/PowerSpectralDensity/delta: ['frequency', 'channels']\n",
      "Reduction order for nice/marker/PowerSpectralDensity/theta: ['frequency', 'channels']\n",
      "Reduction order for nice/marker/PowerSpectralDensity/theta: ['frequency', 'channels']\n",
      "Reduction order for nice/marker/PowerSpectralDensity/gamma: ['frequency', 'channels']\n",
      "Reduction order for nice/marker/PowerSpectralDensity/theta: ['frequency', 'channels']\n",
      "Reduction order for nice/marker/PowerSpectralDensity/beta: ['frequency', 'channels']\n",
      "Reduction order for nice/marker/PowerSpectralDensity/beta: ['frequency', 'channels']\n",
      "Running KolmogorovComplexity\n",
      "Elapsed time 0.3205864429473877 sec\n",
      "Reduction order for nice/marker/KolmogorovComplexity/default: ['channels']\n",
      "Filtering  at 10.42 Hz\n",
      "Performing symbolic transformation\n",
      "Reduction order for nice/marker/PermutationEntropy/default: ['channels']\n",
      "Autodetected number of jobs 24\n",
      "Computing CSD\n",
      "Using 10-5 locations for CSD\n",
      "Using 24 jobs\n"
     ]
    },
    {
     "name": "stderr",
     "output_type": "stream",
     "text": [
      "/home/nicolas.bruno/anaconda3/lib/python3.7/site-packages/nice-0.1.dev0-py3.7.egg/nice/algorithms/information_theory/permutation_entropy.py:75: RuntimeWarning: divide by zero encountered in log\n",
      "  pe = np.nan_to_num(-np.nansum(count * np.log(count), axis=1))\n",
      "/home/nicolas.bruno/anaconda3/lib/python3.7/site-packages/nice-0.1.dev0-py3.7.egg/nice/algorithms/information_theory/permutation_entropy.py:75: RuntimeWarning: invalid value encountered in multiply\n",
      "  pe = np.nan_to_num(-np.nansum(count * np.log(count), axis=1))\n",
      "[Parallel(n_jobs=24)]: Using backend LokyBackend with 24 concurrent workers.\n"
     ]
    },
    {
     "name": "stdout",
     "output_type": "stream",
     "text": [
      "Filtering  at 10.42 Hz\n"
     ]
    },
    {
     "name": "stderr",
     "output_type": "stream",
     "text": [
      "[Parallel(n_jobs=24)]: Done  80 tasks      | elapsed:    0.2s\n",
      "[Parallel(n_jobs=24)]: Done 224 out of 224 | elapsed:    0.3s finished\n"
     ]
    },
    {
     "name": "stdout",
     "output_type": "stream",
     "text": [
      "Reduction order for nice/marker/SymbolicMutualInformation/default: ['channels_y', 'channels']\n",
      "Autodetected number of jobs 24\n",
      "Effective window size : 16.384 (s)\n",
      "Reduction order for nice/marker/PowerSpectralDensity/alpha: ['frequency', 'channels']\n",
      "Reduction order for nice/marker/PowerSpectralDensity/alpha: ['frequency', 'channels']\n",
      "Reduction order for nice/marker/PowerSpectralDensity/delta: ['frequency', 'channels']\n",
      "Reduction order for nice/marker/PowerSpectralDensity/delta: ['frequency', 'channels']\n",
      "Reduction order for nice/marker/PowerSpectralDensity/theta: ['frequency', 'channels']\n",
      "Reduction order for nice/marker/PowerSpectralDensity/theta: ['frequency', 'channels']\n",
      "Reduction order for nice/marker/PowerSpectralDensity/gamma: ['frequency', 'channels']\n",
      "Reduction order for nice/marker/PowerSpectralDensity/theta: ['frequency', 'channels']\n",
      "Reduction order for nice/marker/PowerSpectralDensity/beta: ['frequency', 'channels']\n",
      "Reduction order for nice/marker/PowerSpectralDensity/beta: ['frequency', 'channels']\n",
      "Running KolmogorovComplexity\n",
      "Elapsed time 0.04583168029785156 sec\n"
     ]
    },
    {
     "name": "stderr",
     "output_type": "stream",
     "text": [
      "[Parallel(n_jobs=24)]: Using backend LokyBackend with 24 concurrent workers.\n",
      "[Parallel(n_jobs=24)]: Done   6 out of  24 | elapsed:    0.1s remaining:    0.3s\n",
      "[Parallel(n_jobs=24)]: Done  11 out of  24 | elapsed:    0.1s remaining:    0.1s\n",
      "[Parallel(n_jobs=24)]: Done  16 out of  24 | elapsed:    0.1s remaining:    0.1s\n",
      "[Parallel(n_jobs=24)]: Done  21 out of  24 | elapsed:    0.1s remaining:    0.0s\n",
      "[Parallel(n_jobs=24)]: Done  24 out of  24 | elapsed:    0.1s finished\n"
     ]
    },
    {
     "name": "stdout",
     "output_type": "stream",
     "text": [
      "Reduction order for nice/marker/KolmogorovComplexity/default: ['channels']\n",
      "Filtering  at 10.42 Hz\n",
      "Performing symbolic transformation\n",
      "Reduction order for nice/marker/PermutationEntropy/default: ['channels']\n",
      "Autodetected number of jobs 24\n",
      "Computing CSD\n",
      "Using 10-5 locations for CSD\n",
      "Using 24 jobs\n",
      "Filtering  at 10.42 Hz\n"
     ]
    },
    {
     "name": "stderr",
     "output_type": "stream",
     "text": [
      "[Parallel(n_jobs=24)]: Using backend LokyBackend with 24 concurrent workers.\n",
      "[Parallel(n_jobs=24)]: Done  12 out of  29 | elapsed:    0.0s remaining:    0.1s\n",
      "[Parallel(n_jobs=24)]: Done  18 out of  29 | elapsed:    0.1s remaining:    0.0s\n",
      "[Parallel(n_jobs=24)]: Done  24 out of  29 | elapsed:    0.1s remaining:    0.0s\n",
      "[Parallel(n_jobs=24)]: Done  29 out of  29 | elapsed:    0.1s finished\n"
     ]
    },
    {
     "name": "stdout",
     "output_type": "stream",
     "text": [
      "Reduction order for nice/marker/SymbolicMutualInformation/default: ['channels_y', 'channels']\n",
      "Reading /media/nicolas.bruno/63f8a366-34b7-4896-a7ce-b5fb4ee78535/Nico/MW_eeg_data/minmarker/VP14/VP14evokedar-subtracted_epo.fif ...\n",
      "    Found the data of interest:\n",
      "        t =    -200.00 ...     600.00 ms\n",
      "        0 CTF compensation matrices available\n",
      "Not setting metadata\n",
      "Not setting metadata\n",
      "343 matching events found\n",
      "No baseline correction applied\n",
      "0 projection items activated\n",
      "Autodetected number of jobs 24\n",
      "Effective window size : 16.384 (s)\n"
     ]
    },
    {
     "name": "stderr",
     "output_type": "stream",
     "text": [
      "[Parallel(n_jobs=24)]: Using backend LokyBackend with 24 concurrent workers.\n",
      "[Parallel(n_jobs=24)]: Done   6 out of  24 | elapsed:    0.6s remaining:    1.9s\n",
      "[Parallel(n_jobs=24)]: Done  11 out of  24 | elapsed:    0.7s remaining:    0.8s\n",
      "[Parallel(n_jobs=24)]: Done  16 out of  24 | elapsed:    0.7s remaining:    0.4s\n",
      "[Parallel(n_jobs=24)]: Done  21 out of  24 | elapsed:    0.8s remaining:    0.1s\n",
      "[Parallel(n_jobs=24)]: Done  24 out of  24 | elapsed:    0.8s finished\n"
     ]
    },
    {
     "name": "stdout",
     "output_type": "stream",
     "text": [
      "Reduction order for nice/marker/PowerSpectralDensity/alpha: ['frequency', 'channels']\n",
      "Reduction order for nice/marker/PowerSpectralDensity/alpha: ['frequency', 'channels']\n",
      "Reduction order for nice/marker/PowerSpectralDensity/delta: ['frequency', 'channels']\n",
      "Reduction order for nice/marker/PowerSpectralDensity/delta: ['frequency', 'channels']\n",
      "Reduction order for nice/marker/PowerSpectralDensity/theta: ['frequency', 'channels']\n",
      "Reduction order for nice/marker/PowerSpectralDensity/theta: ['frequency', 'channels']\n",
      "Reduction order for nice/marker/PowerSpectralDensity/gamma: ['frequency', 'channels']\n",
      "Reduction order for nice/marker/PowerSpectralDensity/theta: ['frequency', 'channels']\n",
      "Reduction order for nice/marker/PowerSpectralDensity/beta: ['frequency', 'channels']\n",
      "Reduction order for nice/marker/PowerSpectralDensity/beta: ['frequency', 'channels']\n",
      "Running KolmogorovComplexity\n",
      "Elapsed time 0.3224034309387207 sec\n",
      "Reduction order for nice/marker/KolmogorovComplexity/default: ['channels']\n",
      "Filtering  at 10.42 Hz\n",
      "Performing symbolic transformation\n",
      "Reduction order for nice/marker/PermutationEntropy/default: ['channels']\n",
      "Autodetected number of jobs 24\n",
      "Computing CSD\n",
      "Using 10-5 locations for CSD\n",
      "Using 24 jobs\n"
     ]
    },
    {
     "name": "stderr",
     "output_type": "stream",
     "text": [
      "/home/nicolas.bruno/anaconda3/lib/python3.7/site-packages/nice-0.1.dev0-py3.7.egg/nice/algorithms/information_theory/permutation_entropy.py:75: RuntimeWarning: divide by zero encountered in log\n",
      "  pe = np.nan_to_num(-np.nansum(count * np.log(count), axis=1))\n",
      "/home/nicolas.bruno/anaconda3/lib/python3.7/site-packages/nice-0.1.dev0-py3.7.egg/nice/algorithms/information_theory/permutation_entropy.py:75: RuntimeWarning: invalid value encountered in multiply\n",
      "  pe = np.nan_to_num(-np.nansum(count * np.log(count), axis=1))\n",
      "[Parallel(n_jobs=24)]: Using backend LokyBackend with 24 concurrent workers.\n"
     ]
    },
    {
     "name": "stdout",
     "output_type": "stream",
     "text": [
      "Filtering  at 10.42 Hz\n"
     ]
    },
    {
     "name": "stderr",
     "output_type": "stream",
     "text": [
      "[Parallel(n_jobs=24)]: Done  72 tasks      | elapsed:    0.2s\n",
      "[Parallel(n_jobs=24)]: Done 224 out of 224 | elapsed:    0.3s finished\n"
     ]
    },
    {
     "name": "stdout",
     "output_type": "stream",
     "text": [
      "Reduction order for nice/marker/SymbolicMutualInformation/default: ['channels_y', 'channels']\n",
      "Autodetected number of jobs 24\n",
      "Effective window size : 16.384 (s)\n",
      "Reduction order for nice/marker/PowerSpectralDensity/alpha: ['frequency', 'channels']\n",
      "Reduction order for nice/marker/PowerSpectralDensity/alpha: ['frequency', 'channels']\n",
      "Reduction order for nice/marker/PowerSpectralDensity/delta: ['frequency', 'channels']\n",
      "Reduction order for nice/marker/PowerSpectralDensity/delta: ['frequency', 'channels']\n",
      "Reduction order for nice/marker/PowerSpectralDensity/theta: ['frequency', 'channels']\n",
      "Reduction order for nice/marker/PowerSpectralDensity/theta: ['frequency', 'channels']\n",
      "Reduction order for nice/marker/PowerSpectralDensity/gamma: ['frequency', 'channels']\n",
      "Reduction order for nice/marker/PowerSpectralDensity/theta: ['frequency', 'channels']\n",
      "Reduction order for nice/marker/PowerSpectralDensity/beta: ['frequency', 'channels']\n",
      "Reduction order for nice/marker/PowerSpectralDensity/beta: ['frequency', 'channels']\n",
      "Running KolmogorovComplexity\n",
      "Elapsed time 0.043547868728637695 sec\n"
     ]
    },
    {
     "name": "stderr",
     "output_type": "stream",
     "text": [
      "[Parallel(n_jobs=24)]: Using backend LokyBackend with 24 concurrent workers.\n",
      "[Parallel(n_jobs=24)]: Done   6 out of  24 | elapsed:    0.1s remaining:    0.3s\n",
      "[Parallel(n_jobs=24)]: Done  11 out of  24 | elapsed:    0.1s remaining:    0.1s\n",
      "[Parallel(n_jobs=24)]: Done  16 out of  24 | elapsed:    0.1s remaining:    0.1s\n",
      "[Parallel(n_jobs=24)]: Done  21 out of  24 | elapsed:    0.1s remaining:    0.0s\n",
      "[Parallel(n_jobs=24)]: Done  24 out of  24 | elapsed:    0.1s finished\n"
     ]
    },
    {
     "name": "stdout",
     "output_type": "stream",
     "text": [
      "Reduction order for nice/marker/KolmogorovComplexity/default: ['channels']\n",
      "Filtering  at 10.42 Hz\n",
      "Performing symbolic transformation\n",
      "Reduction order for nice/marker/PermutationEntropy/default: ['channels']\n",
      "Autodetected number of jobs 24\n",
      "Computing CSD\n",
      "Using 10-5 locations for CSD\n",
      "Using 24 jobs\n",
      "Filtering  at 10.42 Hz\n"
     ]
    },
    {
     "name": "stderr",
     "output_type": "stream",
     "text": [
      "[Parallel(n_jobs=24)]: Using backend LokyBackend with 24 concurrent workers.\n",
      "[Parallel(n_jobs=24)]: Done  12 out of  29 | elapsed:    0.0s remaining:    0.1s\n",
      "[Parallel(n_jobs=24)]: Done  18 out of  29 | elapsed:    0.1s remaining:    0.0s\n",
      "[Parallel(n_jobs=24)]: Done  24 out of  29 | elapsed:    0.1s remaining:    0.0s\n",
      "[Parallel(n_jobs=24)]: Done  29 out of  29 | elapsed:    0.1s finished\n"
     ]
    },
    {
     "name": "stdout",
     "output_type": "stream",
     "text": [
      "Reduction order for nice/marker/SymbolicMutualInformation/default: ['channels_y', 'channels']\n",
      "Reading /media/nicolas.bruno/63f8a366-34b7-4896-a7ce-b5fb4ee78535/Nico/MW_eeg_data/minmarker/VP18/VP18evokedar-subtracted_epo.fif ...\n",
      "    Found the data of interest:\n",
      "        t =    -200.00 ...     600.00 ms\n",
      "        0 CTF compensation matrices available\n",
      "Not setting metadata\n",
      "Not setting metadata\n",
      "246 matching events found\n",
      "No baseline correction applied\n",
      "0 projection items activated\n",
      "Autodetected number of jobs 24\n",
      "Effective window size : 16.384 (s)\n"
     ]
    },
    {
     "name": "stderr",
     "output_type": "stream",
     "text": [
      "[Parallel(n_jobs=24)]: Using backend LokyBackend with 24 concurrent workers.\n",
      "[Parallel(n_jobs=24)]: Done   6 out of  24 | elapsed:    0.6s remaining:    1.9s\n",
      "[Parallel(n_jobs=24)]: Done  11 out of  24 | elapsed:    0.7s remaining:    0.8s\n",
      "[Parallel(n_jobs=24)]: Done  16 out of  24 | elapsed:    0.8s remaining:    0.4s\n",
      "[Parallel(n_jobs=24)]: Done  21 out of  24 | elapsed:    0.8s remaining:    0.1s\n"
     ]
    },
    {
     "name": "stdout",
     "output_type": "stream",
     "text": [
      "Reduction order for nice/marker/PowerSpectralDensity/alpha: ['frequency', 'channels']\n",
      "Reduction order for nice/marker/PowerSpectralDensity/alpha: ['frequency', 'channels']\n",
      "Reduction order for nice/marker/PowerSpectralDensity/delta: ['frequency', 'channels']\n",
      "Reduction order for nice/marker/PowerSpectralDensity/delta: ['frequency', 'channels']\n",
      "Reduction order for nice/marker/PowerSpectralDensity/theta: ['frequency', 'channels']\n",
      "Reduction order for nice/marker/PowerSpectralDensity/theta: ['frequency', 'channels']\n",
      "Reduction order for nice/marker/PowerSpectralDensity/gamma: ['frequency', 'channels']\n",
      "Reduction order for nice/marker/PowerSpectralDensity/theta: ['frequency', 'channels']\n",
      "Reduction order for nice/marker/PowerSpectralDensity/beta: ['frequency', 'channels']\n",
      "Reduction order for nice/marker/PowerSpectralDensity/beta: ['frequency', 'channels']\n",
      "Running KolmogorovComplexity\n",
      "Elapsed time 0.32060837745666504 sec\n"
     ]
    },
    {
     "name": "stderr",
     "output_type": "stream",
     "text": [
      "[Parallel(n_jobs=24)]: Done  24 out of  24 | elapsed:    0.9s finished\n"
     ]
    },
    {
     "name": "stdout",
     "output_type": "stream",
     "text": [
      "Reduction order for nice/marker/KolmogorovComplexity/default: ['channels']\n",
      "Filtering  at 10.42 Hz\n",
      "Performing symbolic transformation\n",
      "Reduction order for nice/marker/PermutationEntropy/default: ['channels']\n",
      "Autodetected number of jobs 24\n",
      "Computing CSD\n",
      "Using 10-5 locations for CSD\n",
      "Using 24 jobs\n"
     ]
    },
    {
     "name": "stderr",
     "output_type": "stream",
     "text": [
      "/home/nicolas.bruno/anaconda3/lib/python3.7/site-packages/nice-0.1.dev0-py3.7.egg/nice/algorithms/information_theory/permutation_entropy.py:75: RuntimeWarning: divide by zero encountered in log\n",
      "  pe = np.nan_to_num(-np.nansum(count * np.log(count), axis=1))\n",
      "/home/nicolas.bruno/anaconda3/lib/python3.7/site-packages/nice-0.1.dev0-py3.7.egg/nice/algorithms/information_theory/permutation_entropy.py:75: RuntimeWarning: invalid value encountered in multiply\n",
      "  pe = np.nan_to_num(-np.nansum(count * np.log(count), axis=1))\n",
      "[Parallel(n_jobs=24)]: Using backend LokyBackend with 24 concurrent workers.\n"
     ]
    },
    {
     "name": "stdout",
     "output_type": "stream",
     "text": [
      "Filtering  at 10.42 Hz\n"
     ]
    },
    {
     "name": "stderr",
     "output_type": "stream",
     "text": [
      "[Parallel(n_jobs=24)]: Done  72 tasks      | elapsed:    0.2s\n",
      "[Parallel(n_jobs=24)]: Done 224 out of 224 | elapsed:    0.3s finished\n"
     ]
    },
    {
     "name": "stdout",
     "output_type": "stream",
     "text": [
      "Reduction order for nice/marker/SymbolicMutualInformation/default: ['channels_y', 'channels']\n",
      "Autodetected number of jobs 24\n",
      "Effective window size : 16.384 (s)\n",
      "Reduction order for nice/marker/PowerSpectralDensity/alpha: ['frequency', 'channels']\n",
      "Reduction order for nice/marker/PowerSpectralDensity/alpha: ['frequency', 'channels']\n",
      "Reduction order for nice/marker/PowerSpectralDensity/delta: ['frequency', 'channels']\n",
      "Reduction order for nice/marker/PowerSpectralDensity/delta: ['frequency', 'channels']\n",
      "Reduction order for nice/marker/PowerSpectralDensity/theta: ['frequency', 'channels']\n",
      "Reduction order for nice/marker/PowerSpectralDensity/theta: ['frequency', 'channels']\n",
      "Reduction order for nice/marker/PowerSpectralDensity/gamma: ['frequency', 'channels']\n",
      "Reduction order for nice/marker/PowerSpectralDensity/theta: ['frequency', 'channels']\n",
      "Reduction order for nice/marker/PowerSpectralDensity/beta: ['frequency', 'channels']\n",
      "Reduction order for nice/marker/PowerSpectralDensity/beta: ['frequency', 'channels']\n",
      "Running KolmogorovComplexity\n",
      "Elapsed time 0.042935848236083984 sec\n"
     ]
    },
    {
     "name": "stderr",
     "output_type": "stream",
     "text": [
      "[Parallel(n_jobs=24)]: Using backend LokyBackend with 24 concurrent workers.\n",
      "[Parallel(n_jobs=24)]: Done   6 out of  24 | elapsed:    0.1s remaining:    0.3s\n",
      "[Parallel(n_jobs=24)]: Done  11 out of  24 | elapsed:    0.1s remaining:    0.1s\n",
      "[Parallel(n_jobs=24)]: Done  16 out of  24 | elapsed:    0.1s remaining:    0.1s\n",
      "[Parallel(n_jobs=24)]: Done  21 out of  24 | elapsed:    0.1s remaining:    0.0s\n",
      "[Parallel(n_jobs=24)]: Done  24 out of  24 | elapsed:    0.1s finished\n"
     ]
    },
    {
     "name": "stdout",
     "output_type": "stream",
     "text": [
      "Reduction order for nice/marker/KolmogorovComplexity/default: ['channels']\n",
      "Filtering  at 10.42 Hz\n",
      "Performing symbolic transformation\n",
      "Reduction order for nice/marker/PermutationEntropy/default: ['channels']\n",
      "Autodetected number of jobs 24\n",
      "Computing CSD\n",
      "Using 10-5 locations for CSD\n",
      "Using 24 jobs\n",
      "Filtering  at 10.42 Hz\n"
     ]
    },
    {
     "name": "stderr",
     "output_type": "stream",
     "text": [
      "[Parallel(n_jobs=24)]: Using backend LokyBackend with 24 concurrent workers.\n",
      "[Parallel(n_jobs=24)]: Done  12 out of  29 | elapsed:    0.0s remaining:    0.1s\n",
      "[Parallel(n_jobs=24)]: Done  18 out of  29 | elapsed:    0.1s remaining:    0.0s\n",
      "[Parallel(n_jobs=24)]: Done  24 out of  29 | elapsed:    0.1s remaining:    0.0s\n",
      "[Parallel(n_jobs=24)]: Done  29 out of  29 | elapsed:    0.1s finished\n"
     ]
    },
    {
     "name": "stdout",
     "output_type": "stream",
     "text": [
      "Reduction order for nice/marker/SymbolicMutualInformation/default: ['channels_y', 'channels']\n",
      "Reading /media/nicolas.bruno/63f8a366-34b7-4896-a7ce-b5fb4ee78535/Nico/MW_eeg_data/minmarker/VP19/VP19evokedar-subtracted_epo.fif ...\n",
      "    Found the data of interest:\n",
      "        t =    -200.00 ...     600.00 ms\n",
      "        0 CTF compensation matrices available\n",
      "Not setting metadata\n",
      "Not setting metadata\n",
      "289 matching events found\n",
      "No baseline correction applied\n",
      "0 projection items activated\n",
      "Autodetected number of jobs 24\n",
      "Effective window size : 16.384 (s)\n"
     ]
    },
    {
     "name": "stderr",
     "output_type": "stream",
     "text": [
      "[Parallel(n_jobs=24)]: Using backend LokyBackend with 24 concurrent workers.\n",
      "[Parallel(n_jobs=24)]: Done   6 out of  24 | elapsed:    0.6s remaining:    1.9s\n",
      "[Parallel(n_jobs=24)]: Done  11 out of  24 | elapsed:    0.7s remaining:    0.8s\n",
      "[Parallel(n_jobs=24)]: Done  16 out of  24 | elapsed:    0.8s remaining:    0.4s\n",
      "[Parallel(n_jobs=24)]: Done  21 out of  24 | elapsed:    0.8s remaining:    0.1s\n"
     ]
    },
    {
     "name": "stdout",
     "output_type": "stream",
     "text": [
      "Reduction order for nice/marker/PowerSpectralDensity/alpha: ['frequency', 'channels']\n",
      "Reduction order for nice/marker/PowerSpectralDensity/alpha: ['frequency', 'channels']\n",
      "Reduction order for nice/marker/PowerSpectralDensity/delta: ['frequency', 'channels']\n",
      "Reduction order for nice/marker/PowerSpectralDensity/delta: ['frequency', 'channels']\n",
      "Reduction order for nice/marker/PowerSpectralDensity/theta: ['frequency', 'channels']\n",
      "Reduction order for nice/marker/PowerSpectralDensity/theta: ['frequency', 'channels']\n",
      "Reduction order for nice/marker/PowerSpectralDensity/gamma: ['frequency', 'channels']\n",
      "Reduction order for nice/marker/PowerSpectralDensity/theta: ['frequency', 'channels']\n",
      "Reduction order for nice/marker/PowerSpectralDensity/beta: ['frequency', 'channels']\n",
      "Reduction order for nice/marker/PowerSpectralDensity/beta: ['frequency', 'channels']\n",
      "Running KolmogorovComplexity\n",
      "Elapsed time 0.3221769332885742 sec\n"
     ]
    },
    {
     "name": "stderr",
     "output_type": "stream",
     "text": [
      "[Parallel(n_jobs=24)]: Done  24 out of  24 | elapsed:    0.8s finished\n"
     ]
    },
    {
     "name": "stdout",
     "output_type": "stream",
     "text": [
      "Reduction order for nice/marker/KolmogorovComplexity/default: ['channels']\n",
      "Filtering  at 10.42 Hz\n",
      "Performing symbolic transformation\n",
      "Reduction order for nice/marker/PermutationEntropy/default: ['channels']\n",
      "Autodetected number of jobs 24\n",
      "Computing CSD\n",
      "Using 10-5 locations for CSD\n",
      "Using 24 jobs\n"
     ]
    },
    {
     "name": "stderr",
     "output_type": "stream",
     "text": [
      "/home/nicolas.bruno/anaconda3/lib/python3.7/site-packages/nice-0.1.dev0-py3.7.egg/nice/algorithms/information_theory/permutation_entropy.py:75: RuntimeWarning: divide by zero encountered in log\n",
      "  pe = np.nan_to_num(-np.nansum(count * np.log(count), axis=1))\n",
      "/home/nicolas.bruno/anaconda3/lib/python3.7/site-packages/nice-0.1.dev0-py3.7.egg/nice/algorithms/information_theory/permutation_entropy.py:75: RuntimeWarning: invalid value encountered in multiply\n",
      "  pe = np.nan_to_num(-np.nansum(count * np.log(count), axis=1))\n",
      "[Parallel(n_jobs=24)]: Using backend LokyBackend with 24 concurrent workers.\n"
     ]
    },
    {
     "name": "stdout",
     "output_type": "stream",
     "text": [
      "Filtering  at 10.42 Hz\n"
     ]
    },
    {
     "name": "stderr",
     "output_type": "stream",
     "text": [
      "[Parallel(n_jobs=24)]: Done  72 tasks      | elapsed:    0.2s\n",
      "[Parallel(n_jobs=24)]: Done 224 out of 224 | elapsed:    0.3s finished\n"
     ]
    },
    {
     "name": "stdout",
     "output_type": "stream",
     "text": [
      "Reduction order for nice/marker/SymbolicMutualInformation/default: ['channels_y', 'channels']\n",
      "Autodetected number of jobs 24\n",
      "Effective window size : 16.384 (s)\n",
      "Reduction order for nice/marker/PowerSpectralDensity/alpha: ['frequency', 'channels']\n",
      "Reduction order for nice/marker/PowerSpectralDensity/alpha: ['frequency', 'channels']\n",
      "Reduction order for nice/marker/PowerSpectralDensity/delta: ['frequency', 'channels']\n",
      "Reduction order for nice/marker/PowerSpectralDensity/delta: ['frequency', 'channels']\n",
      "Reduction order for nice/marker/PowerSpectralDensity/theta: ['frequency', 'channels']\n",
      "Reduction order for nice/marker/PowerSpectralDensity/theta: ['frequency', 'channels']\n",
      "Reduction order for nice/marker/PowerSpectralDensity/gamma: ['frequency', 'channels']\n",
      "Reduction order for nice/marker/PowerSpectralDensity/theta: ['frequency', 'channels']\n",
      "Reduction order for nice/marker/PowerSpectralDensity/beta: ['frequency', 'channels']\n",
      "Reduction order for nice/marker/PowerSpectralDensity/beta: ['frequency', 'channels']\n",
      "Running KolmogorovComplexity\n"
     ]
    },
    {
     "name": "stderr",
     "output_type": "stream",
     "text": [
      "[Parallel(n_jobs=24)]: Using backend LokyBackend with 24 concurrent workers.\n",
      "[Parallel(n_jobs=24)]: Done   6 out of  24 | elapsed:    0.1s remaining:    0.3s\n",
      "[Parallel(n_jobs=24)]: Done  11 out of  24 | elapsed:    0.1s remaining:    0.1s\n",
      "[Parallel(n_jobs=24)]: Done  16 out of  24 | elapsed:    0.1s remaining:    0.1s\n",
      "[Parallel(n_jobs=24)]: Done  21 out of  24 | elapsed:    0.1s remaining:    0.0s\n",
      "[Parallel(n_jobs=24)]: Done  24 out of  24 | elapsed:    0.2s finished\n"
     ]
    },
    {
     "name": "stdout",
     "output_type": "stream",
     "text": [
      "Elapsed time 0.044446468353271484 sec\n",
      "Reduction order for nice/marker/KolmogorovComplexity/default: ['channels']\n",
      "Filtering  at 10.42 Hz\n",
      "Performing symbolic transformation\n",
      "Reduction order for nice/marker/PermutationEntropy/default: ['channels']\n",
      "Autodetected number of jobs 24\n",
      "Computing CSD\n",
      "Using 10-5 locations for CSD\n",
      "Using 24 jobs\n",
      "Filtering  at 10.42 Hz\n"
     ]
    },
    {
     "name": "stderr",
     "output_type": "stream",
     "text": [
      "[Parallel(n_jobs=24)]: Using backend LokyBackend with 24 concurrent workers.\n",
      "[Parallel(n_jobs=24)]: Done  12 out of  29 | elapsed:    0.0s remaining:    0.1s\n",
      "[Parallel(n_jobs=24)]: Done  18 out of  29 | elapsed:    0.1s remaining:    0.0s\n",
      "[Parallel(n_jobs=24)]: Done  24 out of  29 | elapsed:    0.1s remaining:    0.0s\n",
      "[Parallel(n_jobs=24)]: Done  29 out of  29 | elapsed:    0.1s finished\n"
     ]
    },
    {
     "name": "stdout",
     "output_type": "stream",
     "text": [
      "Reduction order for nice/marker/SymbolicMutualInformation/default: ['channels_y', 'channels']\n",
      "Reading /media/nicolas.bruno/63f8a366-34b7-4896-a7ce-b5fb4ee78535/Nico/MW_eeg_data/minmarker/VP20/VP20evokedar-subtracted_epo.fif ...\n",
      "    Found the data of interest:\n",
      "        t =    -200.00 ...     600.00 ms\n",
      "        0 CTF compensation matrices available\n",
      "Not setting metadata\n",
      "Not setting metadata\n",
      "261 matching events found\n",
      "No baseline correction applied\n",
      "0 projection items activated\n",
      "Autodetected number of jobs 24\n",
      "Effective window size : 16.384 (s)\n"
     ]
    },
    {
     "name": "stderr",
     "output_type": "stream",
     "text": [
      "[Parallel(n_jobs=24)]: Using backend LokyBackend with 24 concurrent workers.\n",
      "[Parallel(n_jobs=24)]: Done   6 out of  24 | elapsed:    0.6s remaining:    1.9s\n",
      "[Parallel(n_jobs=24)]: Done  11 out of  24 | elapsed:    0.7s remaining:    0.8s\n",
      "[Parallel(n_jobs=24)]: Done  16 out of  24 | elapsed:    0.8s remaining:    0.4s\n",
      "[Parallel(n_jobs=24)]: Done  21 out of  24 | elapsed:    0.8s remaining:    0.1s\n"
     ]
    },
    {
     "name": "stdout",
     "output_type": "stream",
     "text": [
      "Reduction order for nice/marker/PowerSpectralDensity/alpha: ['frequency', 'channels']\n",
      "Reduction order for nice/marker/PowerSpectralDensity/alpha: ['frequency', 'channels']\n",
      "Reduction order for nice/marker/PowerSpectralDensity/delta: ['frequency', 'channels']\n",
      "Reduction order for nice/marker/PowerSpectralDensity/delta: ['frequency', 'channels']\n",
      "Reduction order for nice/marker/PowerSpectralDensity/theta: ['frequency', 'channels']\n",
      "Reduction order for nice/marker/PowerSpectralDensity/theta: ['frequency', 'channels']\n",
      "Reduction order for nice/marker/PowerSpectralDensity/gamma: ['frequency', 'channels']\n",
      "Reduction order for nice/marker/PowerSpectralDensity/theta: ['frequency', 'channels']\n",
      "Reduction order for nice/marker/PowerSpectralDensity/beta: ['frequency', 'channels']\n",
      "Reduction order for nice/marker/PowerSpectralDensity/beta: ['frequency', 'channels']\n",
      "Running KolmogorovComplexity\n",
      "Elapsed time 0.3220789432525635 sec\n"
     ]
    },
    {
     "name": "stderr",
     "output_type": "stream",
     "text": [
      "[Parallel(n_jobs=24)]: Done  24 out of  24 | elapsed:    0.9s finished\n"
     ]
    },
    {
     "name": "stdout",
     "output_type": "stream",
     "text": [
      "Reduction order for nice/marker/KolmogorovComplexity/default: ['channels']\n",
      "Filtering  at 10.42 Hz\n",
      "Performing symbolic transformation\n",
      "Reduction order for nice/marker/PermutationEntropy/default: ['channels']\n",
      "Autodetected number of jobs 24\n",
      "Computing CSD\n",
      "Using 10-5 locations for CSD\n",
      "Using 24 jobs\n"
     ]
    },
    {
     "name": "stderr",
     "output_type": "stream",
     "text": [
      "/home/nicolas.bruno/anaconda3/lib/python3.7/site-packages/nice-0.1.dev0-py3.7.egg/nice/algorithms/information_theory/permutation_entropy.py:75: RuntimeWarning: divide by zero encountered in log\n",
      "  pe = np.nan_to_num(-np.nansum(count * np.log(count), axis=1))\n",
      "/home/nicolas.bruno/anaconda3/lib/python3.7/site-packages/nice-0.1.dev0-py3.7.egg/nice/algorithms/information_theory/permutation_entropy.py:75: RuntimeWarning: invalid value encountered in multiply\n",
      "  pe = np.nan_to_num(-np.nansum(count * np.log(count), axis=1))\n",
      "[Parallel(n_jobs=24)]: Using backend LokyBackend with 24 concurrent workers.\n"
     ]
    },
    {
     "name": "stdout",
     "output_type": "stream",
     "text": [
      "Filtering  at 10.42 Hz\n"
     ]
    },
    {
     "name": "stderr",
     "output_type": "stream",
     "text": [
      "[Parallel(n_jobs=24)]: Done  72 tasks      | elapsed:    0.2s\n",
      "[Parallel(n_jobs=24)]: Done 224 out of 224 | elapsed:    0.3s finished\n"
     ]
    },
    {
     "name": "stdout",
     "output_type": "stream",
     "text": [
      "Reduction order for nice/marker/SymbolicMutualInformation/default: ['channels_y', 'channels']\n",
      "Autodetected number of jobs 24\n",
      "Effective window size : 16.384 (s)\n",
      "Reduction order for nice/marker/PowerSpectralDensity/alpha: ['frequency', 'channels']\n",
      "Reduction order for nice/marker/PowerSpectralDensity/alpha: ['frequency', 'channels']\n",
      "Reduction order for nice/marker/PowerSpectralDensity/delta: ['frequency', 'channels']\n",
      "Reduction order for nice/marker/PowerSpectralDensity/delta: ['frequency', 'channels']\n",
      "Reduction order for nice/marker/PowerSpectralDensity/theta: ['frequency', 'channels']\n",
      "Reduction order for nice/marker/PowerSpectralDensity/theta: ['frequency', 'channels']\n",
      "Reduction order for nice/marker/PowerSpectralDensity/gamma: ['frequency', 'channels']\n",
      "Reduction order for nice/marker/PowerSpectralDensity/theta: ['frequency', 'channels']\n",
      "Reduction order for nice/marker/PowerSpectralDensity/beta: ['frequency', 'channels']\n",
      "Reduction order for nice/marker/PowerSpectralDensity/beta: ['frequency', 'channels']\n",
      "Running KolmogorovComplexity\n",
      "Elapsed time 0.04313778877258301 sec\n"
     ]
    },
    {
     "name": "stderr",
     "output_type": "stream",
     "text": [
      "[Parallel(n_jobs=24)]: Using backend LokyBackend with 24 concurrent workers.\n",
      "[Parallel(n_jobs=24)]: Done   6 out of  24 | elapsed:    0.1s remaining:    0.3s\n",
      "[Parallel(n_jobs=24)]: Done  11 out of  24 | elapsed:    0.1s remaining:    0.1s\n",
      "[Parallel(n_jobs=24)]: Done  16 out of  24 | elapsed:    0.1s remaining:    0.1s\n",
      "[Parallel(n_jobs=24)]: Done  21 out of  24 | elapsed:    0.1s remaining:    0.0s\n",
      "[Parallel(n_jobs=24)]: Done  24 out of  24 | elapsed:    0.1s finished\n"
     ]
    },
    {
     "name": "stdout",
     "output_type": "stream",
     "text": [
      "Reduction order for nice/marker/KolmogorovComplexity/default: ['channels']\n",
      "Filtering  at 10.42 Hz\n",
      "Performing symbolic transformation\n",
      "Reduction order for nice/marker/PermutationEntropy/default: ['channels']\n",
      "Autodetected number of jobs 24\n",
      "Computing CSD\n",
      "Using 10-5 locations for CSD\n",
      "Using 24 jobs\n",
      "Filtering  at 10.42 Hz\n"
     ]
    },
    {
     "name": "stderr",
     "output_type": "stream",
     "text": [
      "[Parallel(n_jobs=24)]: Using backend LokyBackend with 24 concurrent workers.\n",
      "[Parallel(n_jobs=24)]: Done  12 out of  29 | elapsed:    0.1s remaining:    0.1s\n",
      "[Parallel(n_jobs=24)]: Done  18 out of  29 | elapsed:    0.1s remaining:    0.0s\n",
      "[Parallel(n_jobs=24)]: Done  24 out of  29 | elapsed:    0.1s remaining:    0.0s\n",
      "[Parallel(n_jobs=24)]: Done  29 out of  29 | elapsed:    0.1s finished\n"
     ]
    },
    {
     "name": "stdout",
     "output_type": "stream",
     "text": [
      "Reduction order for nice/marker/SymbolicMutualInformation/default: ['channels_y', 'channels']\n",
      "Reading /media/nicolas.bruno/63f8a366-34b7-4896-a7ce-b5fb4ee78535/Nico/MW_eeg_data/minmarker/VP22/VP22evokedar-subtracted_epo.fif ...\n",
      "    Found the data of interest:\n",
      "        t =    -200.00 ...     600.00 ms\n",
      "        0 CTF compensation matrices available\n",
      "Not setting metadata\n",
      "Not setting metadata\n",
      "114 matching events found\n",
      "No baseline correction applied\n",
      "0 projection items activated\n",
      "Autodetected number of jobs 24\n",
      "Effective window size : 16.384 (s)\n"
     ]
    },
    {
     "name": "stderr",
     "output_type": "stream",
     "text": [
      "[Parallel(n_jobs=24)]: Using backend LokyBackend with 24 concurrent workers.\n",
      "[Parallel(n_jobs=24)]: Done   6 out of  24 | elapsed:    0.6s remaining:    1.9s\n",
      "[Parallel(n_jobs=24)]: Done  11 out of  24 | elapsed:    0.7s remaining:    0.8s\n",
      "[Parallel(n_jobs=24)]: Done  16 out of  24 | elapsed:    0.8s remaining:    0.4s\n",
      "[Parallel(n_jobs=24)]: Done  21 out of  24 | elapsed:    0.8s remaining:    0.1s\n"
     ]
    },
    {
     "name": "stdout",
     "output_type": "stream",
     "text": [
      "Reduction order for nice/marker/PowerSpectralDensity/alpha: ['frequency', 'channels']\n",
      "Reduction order for nice/marker/PowerSpectralDensity/alpha: ['frequency', 'channels']\n",
      "Reduction order for nice/marker/PowerSpectralDensity/delta: ['frequency', 'channels']\n",
      "Reduction order for nice/marker/PowerSpectralDensity/delta: ['frequency', 'channels']\n",
      "Reduction order for nice/marker/PowerSpectralDensity/theta: ['frequency', 'channels']\n",
      "Reduction order for nice/marker/PowerSpectralDensity/theta: ['frequency', 'channels']\n",
      "Reduction order for nice/marker/PowerSpectralDensity/gamma: ['frequency', 'channels']\n",
      "Reduction order for nice/marker/PowerSpectralDensity/theta: ['frequency', 'channels']\n",
      "Reduction order for nice/marker/PowerSpectralDensity/beta: ['frequency', 'channels']\n",
      "Reduction order for nice/marker/PowerSpectralDensity/beta: ['frequency', 'channels']\n",
      "Running KolmogorovComplexity\n",
      "Elapsed time 0.3196713924407959 sec\n"
     ]
    },
    {
     "name": "stderr",
     "output_type": "stream",
     "text": [
      "[Parallel(n_jobs=24)]: Done  24 out of  24 | elapsed:    0.8s finished\n"
     ]
    },
    {
     "name": "stdout",
     "output_type": "stream",
     "text": [
      "Reduction order for nice/marker/KolmogorovComplexity/default: ['channels']\n",
      "Filtering  at 10.42 Hz\n",
      "Performing symbolic transformation\n",
      "Reduction order for nice/marker/PermutationEntropy/default: ['channels']\n",
      "Autodetected number of jobs 24\n",
      "Computing CSD\n",
      "Using 10-5 locations for CSD\n",
      "Using 24 jobs\n"
     ]
    },
    {
     "name": "stderr",
     "output_type": "stream",
     "text": [
      "/home/nicolas.bruno/anaconda3/lib/python3.7/site-packages/nice-0.1.dev0-py3.7.egg/nice/algorithms/information_theory/permutation_entropy.py:75: RuntimeWarning: divide by zero encountered in log\n",
      "  pe = np.nan_to_num(-np.nansum(count * np.log(count), axis=1))\n",
      "/home/nicolas.bruno/anaconda3/lib/python3.7/site-packages/nice-0.1.dev0-py3.7.egg/nice/algorithms/information_theory/permutation_entropy.py:75: RuntimeWarning: invalid value encountered in multiply\n",
      "  pe = np.nan_to_num(-np.nansum(count * np.log(count), axis=1))\n",
      "[Parallel(n_jobs=24)]: Using backend LokyBackend with 24 concurrent workers.\n"
     ]
    },
    {
     "name": "stdout",
     "output_type": "stream",
     "text": [
      "Filtering  at 10.42 Hz\n"
     ]
    },
    {
     "name": "stderr",
     "output_type": "stream",
     "text": [
      "[Parallel(n_jobs=24)]: Done  72 tasks      | elapsed:    0.2s\n",
      "[Parallel(n_jobs=24)]: Done 224 out of 224 | elapsed:    0.4s finished\n"
     ]
    },
    {
     "name": "stdout",
     "output_type": "stream",
     "text": [
      "Reduction order for nice/marker/SymbolicMutualInformation/default: ['channels_y', 'channels']\n",
      "Autodetected number of jobs 24\n",
      "Effective window size : 16.384 (s)\n",
      "Reduction order for nice/marker/PowerSpectralDensity/alpha: ['frequency', 'channels']\n",
      "Reduction order for nice/marker/PowerSpectralDensity/alpha: ['frequency', 'channels']\n",
      "Reduction order for nice/marker/PowerSpectralDensity/delta: ['frequency', 'channels']\n",
      "Reduction order for nice/marker/PowerSpectralDensity/delta: ['frequency', 'channels']\n",
      "Reduction order for nice/marker/PowerSpectralDensity/theta: ['frequency', 'channels']\n",
      "Reduction order for nice/marker/PowerSpectralDensity/theta: ['frequency', 'channels']\n",
      "Reduction order for nice/marker/PowerSpectralDensity/gamma: ['frequency', 'channels']\n",
      "Reduction order for nice/marker/PowerSpectralDensity/theta: ['frequency', 'channels']\n",
      "Reduction order for nice/marker/PowerSpectralDensity/beta: ['frequency', 'channels']\n",
      "Reduction order for nice/marker/PowerSpectralDensity/beta: ['frequency', 'channels']\n",
      "Running KolmogorovComplexity\n",
      "Elapsed time 0.042630672454833984 sec\n"
     ]
    },
    {
     "name": "stderr",
     "output_type": "stream",
     "text": [
      "[Parallel(n_jobs=24)]: Using backend LokyBackend with 24 concurrent workers.\n",
      "[Parallel(n_jobs=24)]: Done   6 out of  24 | elapsed:    0.1s remaining:    0.3s\n",
      "[Parallel(n_jobs=24)]: Done  11 out of  24 | elapsed:    0.1s remaining:    0.1s\n",
      "[Parallel(n_jobs=24)]: Done  16 out of  24 | elapsed:    0.1s remaining:    0.1s\n",
      "[Parallel(n_jobs=24)]: Done  21 out of  24 | elapsed:    0.1s remaining:    0.0s\n",
      "[Parallel(n_jobs=24)]: Done  24 out of  24 | elapsed:    0.1s finished\n"
     ]
    },
    {
     "name": "stdout",
     "output_type": "stream",
     "text": [
      "Reduction order for nice/marker/KolmogorovComplexity/default: ['channels']\n",
      "Filtering  at 10.42 Hz\n",
      "Performing symbolic transformation\n",
      "Reduction order for nice/marker/PermutationEntropy/default: ['channels']\n",
      "Autodetected number of jobs 24\n",
      "Computing CSD\n",
      "Using 10-5 locations for CSD\n",
      "Using 24 jobs\n",
      "Filtering  at 10.42 Hz\n"
     ]
    },
    {
     "name": "stderr",
     "output_type": "stream",
     "text": [
      "[Parallel(n_jobs=24)]: Using backend LokyBackend with 24 concurrent workers.\n",
      "[Parallel(n_jobs=24)]: Done   3 tasks      | elapsed:    0.0s\n",
      "[Parallel(n_jobs=24)]: Done  18 out of  29 | elapsed:    0.1s remaining:    0.0s\n",
      "[Parallel(n_jobs=24)]: Done  24 out of  29 | elapsed:    0.1s remaining:    0.0s\n",
      "[Parallel(n_jobs=24)]: Done  29 out of  29 | elapsed:    0.1s finished\n"
     ]
    },
    {
     "name": "stdout",
     "output_type": "stream",
     "text": [
      "Reduction order for nice/marker/SymbolicMutualInformation/default: ['channels_y', 'channels']\n",
      "Reading /media/nicolas.bruno/63f8a366-34b7-4896-a7ce-b5fb4ee78535/Nico/MW_eeg_data/minmarker/VP23/VP23evokedar-subtracted_epo.fif ...\n",
      "    Found the data of interest:\n",
      "        t =    -200.00 ...     600.00 ms\n",
      "        0 CTF compensation matrices available\n",
      "Not setting metadata\n",
      "Not setting metadata\n",
      "439 matching events found\n",
      "No baseline correction applied\n",
      "0 projection items activated\n",
      "Autodetected number of jobs 24\n",
      "Effective window size : 16.384 (s)\n"
     ]
    },
    {
     "name": "stderr",
     "output_type": "stream",
     "text": [
      "[Parallel(n_jobs=24)]: Using backend LokyBackend with 24 concurrent workers.\n",
      "[Parallel(n_jobs=24)]: Done   6 out of  24 | elapsed:    0.6s remaining:    1.9s\n",
      "[Parallel(n_jobs=24)]: Done  11 out of  24 | elapsed:    0.7s remaining:    0.8s\n",
      "[Parallel(n_jobs=24)]: Done  16 out of  24 | elapsed:    0.8s remaining:    0.4s\n",
      "[Parallel(n_jobs=24)]: Done  21 out of  24 | elapsed:    0.8s remaining:    0.1s\n",
      "[Parallel(n_jobs=24)]: Done  24 out of  24 | elapsed:    0.8s finished\n"
     ]
    },
    {
     "name": "stdout",
     "output_type": "stream",
     "text": [
      "Reduction order for nice/marker/PowerSpectralDensity/alpha: ['frequency', 'channels']\n",
      "Reduction order for nice/marker/PowerSpectralDensity/alpha: ['frequency', 'channels']\n",
      "Reduction order for nice/marker/PowerSpectralDensity/delta: ['frequency', 'channels']\n",
      "Reduction order for nice/marker/PowerSpectralDensity/delta: ['frequency', 'channels']\n",
      "Reduction order for nice/marker/PowerSpectralDensity/theta: ['frequency', 'channels']\n",
      "Reduction order for nice/marker/PowerSpectralDensity/theta: ['frequency', 'channels']\n",
      "Reduction order for nice/marker/PowerSpectralDensity/gamma: ['frequency', 'channels']\n",
      "Reduction order for nice/marker/PowerSpectralDensity/theta: ['frequency', 'channels']\n",
      "Reduction order for nice/marker/PowerSpectralDensity/beta: ['frequency', 'channels']\n",
      "Reduction order for nice/marker/PowerSpectralDensity/beta: ['frequency', 'channels']\n",
      "Running KolmogorovComplexity\n",
      "Elapsed time 0.3224029541015625 sec\n",
      "Reduction order for nice/marker/KolmogorovComplexity/default: ['channels']\n",
      "Filtering  at 10.42 Hz\n",
      "Performing symbolic transformation\n",
      "Reduction order for nice/marker/PermutationEntropy/default: ['channels']\n",
      "Autodetected number of jobs 24\n",
      "Computing CSD\n",
      "Using 10-5 locations for CSD\n",
      "Using 24 jobs\n"
     ]
    },
    {
     "name": "stderr",
     "output_type": "stream",
     "text": [
      "/home/nicolas.bruno/anaconda3/lib/python3.7/site-packages/nice-0.1.dev0-py3.7.egg/nice/algorithms/information_theory/permutation_entropy.py:75: RuntimeWarning: divide by zero encountered in log\n",
      "  pe = np.nan_to_num(-np.nansum(count * np.log(count), axis=1))\n",
      "/home/nicolas.bruno/anaconda3/lib/python3.7/site-packages/nice-0.1.dev0-py3.7.egg/nice/algorithms/information_theory/permutation_entropy.py:75: RuntimeWarning: invalid value encountered in multiply\n",
      "  pe = np.nan_to_num(-np.nansum(count * np.log(count), axis=1))\n",
      "[Parallel(n_jobs=24)]: Using backend LokyBackend with 24 concurrent workers.\n"
     ]
    },
    {
     "name": "stdout",
     "output_type": "stream",
     "text": [
      "Filtering  at 10.42 Hz\n"
     ]
    },
    {
     "name": "stderr",
     "output_type": "stream",
     "text": [
      "[Parallel(n_jobs=24)]: Done  72 tasks      | elapsed:    0.2s\n",
      "[Parallel(n_jobs=24)]: Done 224 out of 224 | elapsed:    0.3s finished\n"
     ]
    },
    {
     "name": "stdout",
     "output_type": "stream",
     "text": [
      "Reduction order for nice/marker/SymbolicMutualInformation/default: ['channels_y', 'channels']\n",
      "Autodetected number of jobs 24\n",
      "Effective window size : 16.384 (s)\n",
      "Reduction order for nice/marker/PowerSpectralDensity/alpha: ['frequency', 'channels']\n",
      "Reduction order for nice/marker/PowerSpectralDensity/alpha: ['frequency', 'channels']\n",
      "Reduction order for nice/marker/PowerSpectralDensity/delta: ['frequency', 'channels']\n",
      "Reduction order for nice/marker/PowerSpectralDensity/delta: ['frequency', 'channels']\n",
      "Reduction order for nice/marker/PowerSpectralDensity/theta: ['frequency', 'channels']\n",
      "Reduction order for nice/marker/PowerSpectralDensity/theta: ['frequency', 'channels']\n",
      "Reduction order for nice/marker/PowerSpectralDensity/gamma: ['frequency', 'channels']\n",
      "Reduction order for nice/marker/PowerSpectralDensity/theta: ['frequency', 'channels']\n",
      "Reduction order for nice/marker/PowerSpectralDensity/beta: ['frequency', 'channels']\n",
      "Reduction order for nice/marker/PowerSpectralDensity/beta: ['frequency', 'channels']\n",
      "Running KolmogorovComplexity\n",
      "Elapsed time 0.04442572593688965 sec\n"
     ]
    },
    {
     "name": "stderr",
     "output_type": "stream",
     "text": [
      "[Parallel(n_jobs=24)]: Using backend LokyBackend with 24 concurrent workers.\n",
      "[Parallel(n_jobs=24)]: Done   6 out of  24 | elapsed:    0.1s remaining:    0.3s\n",
      "[Parallel(n_jobs=24)]: Done  11 out of  24 | elapsed:    0.1s remaining:    0.1s\n",
      "[Parallel(n_jobs=24)]: Done  16 out of  24 | elapsed:    0.1s remaining:    0.1s\n",
      "[Parallel(n_jobs=24)]: Done  21 out of  24 | elapsed:    0.2s remaining:    0.0s\n",
      "[Parallel(n_jobs=24)]: Done  24 out of  24 | elapsed:    0.2s finished\n"
     ]
    },
    {
     "name": "stdout",
     "output_type": "stream",
     "text": [
      "Reduction order for nice/marker/KolmogorovComplexity/default: ['channels']\n",
      "Filtering  at 10.42 Hz\n",
      "Performing symbolic transformation\n",
      "Reduction order for nice/marker/PermutationEntropy/default: ['channels']\n",
      "Autodetected number of jobs 24\n",
      "Computing CSD\n",
      "Using 10-5 locations for CSD\n",
      "Using 24 jobs\n",
      "Filtering  at 10.42 Hz\n"
     ]
    },
    {
     "name": "stderr",
     "output_type": "stream",
     "text": [
      "[Parallel(n_jobs=24)]: Using backend LokyBackend with 24 concurrent workers.\n",
      "[Parallel(n_jobs=24)]: Done  18 out of  29 | elapsed:    0.1s remaining:    0.0s\n",
      "[Parallel(n_jobs=24)]: Done  24 out of  29 | elapsed:    0.1s remaining:    0.0s\n",
      "[Parallel(n_jobs=24)]: Done  29 out of  29 | elapsed:    0.1s finished\n"
     ]
    },
    {
     "name": "stdout",
     "output_type": "stream",
     "text": [
      "Reduction order for nice/marker/SymbolicMutualInformation/default: ['channels_y', 'channels']\n",
      "Reading /media/nicolas.bruno/63f8a366-34b7-4896-a7ce-b5fb4ee78535/Nico/MW_eeg_data/minmarker/VP24/VP24evokedar-subtracted_epo.fif ...\n",
      "    Found the data of interest:\n",
      "        t =    -200.00 ...     600.00 ms\n",
      "        0 CTF compensation matrices available\n",
      "Not setting metadata\n",
      "Not setting metadata\n",
      "133 matching events found\n",
      "No baseline correction applied\n",
      "0 projection items activated\n",
      "Autodetected number of jobs 24\n",
      "Effective window size : 16.384 (s)\n"
     ]
    },
    {
     "name": "stderr",
     "output_type": "stream",
     "text": [
      "[Parallel(n_jobs=24)]: Using backend LokyBackend with 24 concurrent workers.\n",
      "[Parallel(n_jobs=24)]: Done   6 out of  24 | elapsed:    0.6s remaining:    1.9s\n",
      "[Parallel(n_jobs=24)]: Done  11 out of  24 | elapsed:    0.7s remaining:    0.8s\n",
      "[Parallel(n_jobs=24)]: Done  16 out of  24 | elapsed:    0.7s remaining:    0.4s\n",
      "[Parallel(n_jobs=24)]: Done  21 out of  24 | elapsed:    0.8s remaining:    0.1s\n",
      "[Parallel(n_jobs=24)]: Done  24 out of  24 | elapsed:    0.8s finished\n"
     ]
    },
    {
     "name": "stdout",
     "output_type": "stream",
     "text": [
      "Reduction order for nice/marker/PowerSpectralDensity/alpha: ['frequency', 'channels']\n",
      "Reduction order for nice/marker/PowerSpectralDensity/alpha: ['frequency', 'channels']\n",
      "Reduction order for nice/marker/PowerSpectralDensity/delta: ['frequency', 'channels']\n",
      "Reduction order for nice/marker/PowerSpectralDensity/delta: ['frequency', 'channels']\n",
      "Reduction order for nice/marker/PowerSpectralDensity/theta: ['frequency', 'channels']\n",
      "Reduction order for nice/marker/PowerSpectralDensity/theta: ['frequency', 'channels']\n",
      "Reduction order for nice/marker/PowerSpectralDensity/gamma: ['frequency', 'channels']\n",
      "Reduction order for nice/marker/PowerSpectralDensity/theta: ['frequency', 'channels']\n",
      "Reduction order for nice/marker/PowerSpectralDensity/beta: ['frequency', 'channels']\n",
      "Reduction order for nice/marker/PowerSpectralDensity/beta: ['frequency', 'channels']\n",
      "Running KolmogorovComplexity\n",
      "Elapsed time 0.3215911388397217 sec\n",
      "Reduction order for nice/marker/KolmogorovComplexity/default: ['channels']\n",
      "Filtering  at 10.42 Hz\n",
      "Performing symbolic transformation\n",
      "Reduction order for nice/marker/PermutationEntropy/default: ['channels']\n",
      "Autodetected number of jobs 24\n",
      "Computing CSD\n",
      "Using 10-5 locations for CSD\n",
      "Using 24 jobs\n"
     ]
    },
    {
     "name": "stderr",
     "output_type": "stream",
     "text": [
      "/home/nicolas.bruno/anaconda3/lib/python3.7/site-packages/nice-0.1.dev0-py3.7.egg/nice/algorithms/information_theory/permutation_entropy.py:75: RuntimeWarning: divide by zero encountered in log\n",
      "  pe = np.nan_to_num(-np.nansum(count * np.log(count), axis=1))\n",
      "/home/nicolas.bruno/anaconda3/lib/python3.7/site-packages/nice-0.1.dev0-py3.7.egg/nice/algorithms/information_theory/permutation_entropy.py:75: RuntimeWarning: invalid value encountered in multiply\n",
      "  pe = np.nan_to_num(-np.nansum(count * np.log(count), axis=1))\n",
      "[Parallel(n_jobs=24)]: Using backend LokyBackend with 24 concurrent workers.\n"
     ]
    },
    {
     "name": "stdout",
     "output_type": "stream",
     "text": [
      "Filtering  at 10.42 Hz\n"
     ]
    },
    {
     "name": "stderr",
     "output_type": "stream",
     "text": [
      "[Parallel(n_jobs=24)]: Done  72 tasks      | elapsed:    0.2s\n",
      "[Parallel(n_jobs=24)]: Done 224 out of 224 | elapsed:    0.3s finished\n"
     ]
    },
    {
     "name": "stdout",
     "output_type": "stream",
     "text": [
      "Reduction order for nice/marker/SymbolicMutualInformation/default: ['channels_y', 'channels']\n",
      "Autodetected number of jobs 24\n",
      "Effective window size : 16.384 (s)\n",
      "Reduction order for nice/marker/PowerSpectralDensity/alpha: ['frequency', 'channels']\n",
      "Reduction order for nice/marker/PowerSpectralDensity/alpha: ['frequency', 'channels']\n",
      "Reduction order for nice/marker/PowerSpectralDensity/delta: ['frequency', 'channels']\n",
      "Reduction order for nice/marker/PowerSpectralDensity/delta: ['frequency', 'channels']\n",
      "Reduction order for nice/marker/PowerSpectralDensity/theta: ['frequency', 'channels']\n",
      "Reduction order for nice/marker/PowerSpectralDensity/theta: ['frequency', 'channels']\n",
      "Reduction order for nice/marker/PowerSpectralDensity/gamma: ['frequency', 'channels']\n",
      "Reduction order for nice/marker/PowerSpectralDensity/theta: ['frequency', 'channels']\n",
      "Reduction order for nice/marker/PowerSpectralDensity/beta: ['frequency', 'channels']\n",
      "Reduction order for nice/marker/PowerSpectralDensity/beta: ['frequency', 'channels']\n",
      "Running KolmogorovComplexity\n",
      "Elapsed time 0.04340529441833496 sec\n"
     ]
    },
    {
     "name": "stderr",
     "output_type": "stream",
     "text": [
      "[Parallel(n_jobs=24)]: Using backend LokyBackend with 24 concurrent workers.\n",
      "[Parallel(n_jobs=24)]: Done   6 out of  24 | elapsed:    0.1s remaining:    0.3s\n",
      "[Parallel(n_jobs=24)]: Done  11 out of  24 | elapsed:    0.1s remaining:    0.1s\n",
      "[Parallel(n_jobs=24)]: Done  16 out of  24 | elapsed:    0.1s remaining:    0.1s\n",
      "[Parallel(n_jobs=24)]: Done  21 out of  24 | elapsed:    0.1s remaining:    0.0s\n",
      "[Parallel(n_jobs=24)]: Done  24 out of  24 | elapsed:    0.1s finished\n"
     ]
    },
    {
     "name": "stdout",
     "output_type": "stream",
     "text": [
      "Reduction order for nice/marker/KolmogorovComplexity/default: ['channels']\n",
      "Filtering  at 10.42 Hz\n",
      "Performing symbolic transformation\n",
      "Reduction order for nice/marker/PermutationEntropy/default: ['channels']\n",
      "Autodetected number of jobs 24\n",
      "Computing CSD\n",
      "Using 10-5 locations for CSD\n",
      "Using 24 jobs\n",
      "Filtering  at 10.42 Hz\n"
     ]
    },
    {
     "name": "stderr",
     "output_type": "stream",
     "text": [
      "[Parallel(n_jobs=24)]: Using backend LokyBackend with 24 concurrent workers.\n",
      "[Parallel(n_jobs=24)]: Done  12 out of  29 | elapsed:    0.0s remaining:    0.1s\n",
      "[Parallel(n_jobs=24)]: Done  18 out of  29 | elapsed:    0.1s remaining:    0.0s\n",
      "[Parallel(n_jobs=24)]: Done  24 out of  29 | elapsed:    0.1s remaining:    0.0s\n",
      "[Parallel(n_jobs=24)]: Done  29 out of  29 | elapsed:    0.1s finished\n"
     ]
    },
    {
     "name": "stdout",
     "output_type": "stream",
     "text": [
      "Reduction order for nice/marker/SymbolicMutualInformation/default: ['channels_y', 'channels']\n",
      "Reading /media/nicolas.bruno/63f8a366-34b7-4896-a7ce-b5fb4ee78535/Nico/MW_eeg_data/minmarker/VP25/VP25evokedar-subtracted_epo.fif ...\n",
      "    Found the data of interest:\n",
      "        t =    -200.00 ...     600.00 ms\n",
      "        0 CTF compensation matrices available\n",
      "Not setting metadata\n",
      "Not setting metadata\n",
      "171 matching events found\n",
      "No baseline correction applied\n",
      "0 projection items activated\n",
      "Autodetected number of jobs 24\n",
      "Effective window size : 16.384 (s)\n"
     ]
    },
    {
     "name": "stderr",
     "output_type": "stream",
     "text": [
      "[Parallel(n_jobs=24)]: Using backend LokyBackend with 24 concurrent workers.\n",
      "[Parallel(n_jobs=24)]: Done   6 out of  24 | elapsed:    0.6s remaining:    1.9s\n",
      "[Parallel(n_jobs=24)]: Done  11 out of  24 | elapsed:    0.7s remaining:    0.8s\n",
      "[Parallel(n_jobs=24)]: Done  16 out of  24 | elapsed:    0.7s remaining:    0.4s\n",
      "[Parallel(n_jobs=24)]: Done  21 out of  24 | elapsed:    0.8s remaining:    0.1s\n"
     ]
    },
    {
     "name": "stdout",
     "output_type": "stream",
     "text": [
      "Reduction order for nice/marker/PowerSpectralDensity/alpha: ['frequency', 'channels']\n",
      "Reduction order for nice/marker/PowerSpectralDensity/alpha: ['frequency', 'channels']\n",
      "Reduction order for nice/marker/PowerSpectralDensity/delta: ['frequency', 'channels']\n",
      "Reduction order for nice/marker/PowerSpectralDensity/delta: ['frequency', 'channels']\n",
      "Reduction order for nice/marker/PowerSpectralDensity/theta: ['frequency', 'channels']\n",
      "Reduction order for nice/marker/PowerSpectralDensity/theta: ['frequency', 'channels']\n",
      "Reduction order for nice/marker/PowerSpectralDensity/gamma: ['frequency', 'channels']\n",
      "Reduction order for nice/marker/PowerSpectralDensity/theta: ['frequency', 'channels']\n",
      "Reduction order for nice/marker/PowerSpectralDensity/beta: ['frequency', 'channels']\n",
      "Reduction order for nice/marker/PowerSpectralDensity/beta: ['frequency', 'channels']\n",
      "Running KolmogorovComplexity\n",
      "Elapsed time 0.3203568458557129 sec\n"
     ]
    },
    {
     "name": "stderr",
     "output_type": "stream",
     "text": [
      "[Parallel(n_jobs=24)]: Done  24 out of  24 | elapsed:    0.8s finished\n"
     ]
    },
    {
     "name": "stdout",
     "output_type": "stream",
     "text": [
      "Reduction order for nice/marker/KolmogorovComplexity/default: ['channels']\n",
      "Filtering  at 10.42 Hz\n",
      "Performing symbolic transformation\n",
      "Reduction order for nice/marker/PermutationEntropy/default: ['channels']\n",
      "Autodetected number of jobs 24\n",
      "Computing CSD\n",
      "Using 10-5 locations for CSD\n",
      "Using 24 jobs\n"
     ]
    },
    {
     "name": "stderr",
     "output_type": "stream",
     "text": [
      "/home/nicolas.bruno/anaconda3/lib/python3.7/site-packages/nice-0.1.dev0-py3.7.egg/nice/algorithms/information_theory/permutation_entropy.py:75: RuntimeWarning: divide by zero encountered in log\n",
      "  pe = np.nan_to_num(-np.nansum(count * np.log(count), axis=1))\n",
      "/home/nicolas.bruno/anaconda3/lib/python3.7/site-packages/nice-0.1.dev0-py3.7.egg/nice/algorithms/information_theory/permutation_entropy.py:75: RuntimeWarning: invalid value encountered in multiply\n",
      "  pe = np.nan_to_num(-np.nansum(count * np.log(count), axis=1))\n",
      "[Parallel(n_jobs=24)]: Using backend LokyBackend with 24 concurrent workers.\n"
     ]
    },
    {
     "name": "stdout",
     "output_type": "stream",
     "text": [
      "Filtering  at 10.42 Hz\n"
     ]
    },
    {
     "name": "stderr",
     "output_type": "stream",
     "text": [
      "[Parallel(n_jobs=24)]: Done  72 tasks      | elapsed:    0.2s\n",
      "[Parallel(n_jobs=24)]: Done 224 out of 224 | elapsed:    0.3s finished\n"
     ]
    },
    {
     "name": "stdout",
     "output_type": "stream",
     "text": [
      "Reduction order for nice/marker/SymbolicMutualInformation/default: ['channels_y', 'channels']\n",
      "Autodetected number of jobs 24\n",
      "Effective window size : 16.384 (s)\n",
      "Reduction order for nice/marker/PowerSpectralDensity/alpha: ['frequency', 'channels']\n",
      "Reduction order for nice/marker/PowerSpectralDensity/alpha: ['frequency', 'channels']\n",
      "Reduction order for nice/marker/PowerSpectralDensity/delta: ['frequency', 'channels']\n",
      "Reduction order for nice/marker/PowerSpectralDensity/delta: ['frequency', 'channels']\n",
      "Reduction order for nice/marker/PowerSpectralDensity/theta: ['frequency', 'channels']\n",
      "Reduction order for nice/marker/PowerSpectralDensity/theta: ['frequency', 'channels']\n",
      "Reduction order for nice/marker/PowerSpectralDensity/gamma: ['frequency', 'channels']\n",
      "Reduction order for nice/marker/PowerSpectralDensity/theta: ['frequency', 'channels']\n",
      "Reduction order for nice/marker/PowerSpectralDensity/beta: ['frequency', 'channels']\n",
      "Reduction order for nice/marker/PowerSpectralDensity/beta: ['frequency', 'channels']\n",
      "Running KolmogorovComplexity\n",
      "Elapsed time 0.04557371139526367 sec\n"
     ]
    },
    {
     "name": "stderr",
     "output_type": "stream",
     "text": [
      "[Parallel(n_jobs=24)]: Using backend LokyBackend with 24 concurrent workers.\n",
      "[Parallel(n_jobs=24)]: Done   6 out of  24 | elapsed:    0.1s remaining:    0.3s\n",
      "[Parallel(n_jobs=24)]: Done  11 out of  24 | elapsed:    0.1s remaining:    0.1s\n",
      "[Parallel(n_jobs=24)]: Done  16 out of  24 | elapsed:    0.1s remaining:    0.1s\n",
      "[Parallel(n_jobs=24)]: Done  21 out of  24 | elapsed:    0.1s remaining:    0.0s\n",
      "[Parallel(n_jobs=24)]: Done  24 out of  24 | elapsed:    0.1s finished\n"
     ]
    },
    {
     "name": "stdout",
     "output_type": "stream",
     "text": [
      "Reduction order for nice/marker/KolmogorovComplexity/default: ['channels']\n",
      "Filtering  at 10.42 Hz\n",
      "Performing symbolic transformation\n",
      "Reduction order for nice/marker/PermutationEntropy/default: ['channels']\n",
      "Autodetected number of jobs 24\n",
      "Computing CSD\n",
      "Using 10-5 locations for CSD\n",
      "Using 24 jobs\n",
      "Filtering  at 10.42 Hz\n"
     ]
    },
    {
     "name": "stderr",
     "output_type": "stream",
     "text": [
      "[Parallel(n_jobs=24)]: Using backend LokyBackend with 24 concurrent workers.\n",
      "[Parallel(n_jobs=24)]: Done  12 out of  29 | elapsed:    0.1s remaining:    0.1s\n",
      "[Parallel(n_jobs=24)]: Done  18 out of  29 | elapsed:    0.1s remaining:    0.0s\n",
      "[Parallel(n_jobs=24)]: Done  24 out of  29 | elapsed:    0.1s remaining:    0.0s\n",
      "[Parallel(n_jobs=24)]: Done  29 out of  29 | elapsed:    0.1s finished\n"
     ]
    },
    {
     "name": "stdout",
     "output_type": "stream",
     "text": [
      "Reduction order for nice/marker/SymbolicMutualInformation/default: ['channels_y', 'channels']\n",
      "Reading /media/nicolas.bruno/63f8a366-34b7-4896-a7ce-b5fb4ee78535/Nico/MW_eeg_data/minmarker/VP26/VP26evokedar-subtracted_epo.fif ...\n",
      "    Found the data of interest:\n",
      "        t =    -200.00 ...     600.00 ms\n",
      "        0 CTF compensation matrices available\n",
      "Not setting metadata\n",
      "Not setting metadata\n",
      "413 matching events found\n",
      "No baseline correction applied\n",
      "0 projection items activated\n",
      "Autodetected number of jobs 24\n",
      "Effective window size : 16.384 (s)\n"
     ]
    },
    {
     "name": "stderr",
     "output_type": "stream",
     "text": [
      "[Parallel(n_jobs=24)]: Using backend LokyBackend with 24 concurrent workers.\n",
      "[Parallel(n_jobs=24)]: Done   6 out of  24 | elapsed:    0.6s remaining:    1.9s\n",
      "[Parallel(n_jobs=24)]: Done  11 out of  24 | elapsed:    0.7s remaining:    0.8s\n",
      "[Parallel(n_jobs=24)]: Done  16 out of  24 | elapsed:    0.8s remaining:    0.4s\n",
      "[Parallel(n_jobs=24)]: Done  21 out of  24 | elapsed:    0.8s remaining:    0.1s\n",
      "[Parallel(n_jobs=24)]: Done  24 out of  24 | elapsed:    0.8s finished\n"
     ]
    },
    {
     "name": "stdout",
     "output_type": "stream",
     "text": [
      "Reduction order for nice/marker/PowerSpectralDensity/alpha: ['frequency', 'channels']\n",
      "Reduction order for nice/marker/PowerSpectralDensity/alpha: ['frequency', 'channels']\n",
      "Reduction order for nice/marker/PowerSpectralDensity/delta: ['frequency', 'channels']\n",
      "Reduction order for nice/marker/PowerSpectralDensity/delta: ['frequency', 'channels']\n",
      "Reduction order for nice/marker/PowerSpectralDensity/theta: ['frequency', 'channels']\n",
      "Reduction order for nice/marker/PowerSpectralDensity/theta: ['frequency', 'channels']\n",
      "Reduction order for nice/marker/PowerSpectralDensity/gamma: ['frequency', 'channels']\n",
      "Reduction order for nice/marker/PowerSpectralDensity/theta: ['frequency', 'channels']\n",
      "Reduction order for nice/marker/PowerSpectralDensity/beta: ['frequency', 'channels']\n",
      "Reduction order for nice/marker/PowerSpectralDensity/beta: ['frequency', 'channels']\n",
      "Running KolmogorovComplexity\n",
      "Elapsed time 0.3216397762298584 sec\n",
      "Reduction order for nice/marker/KolmogorovComplexity/default: ['channels']\n",
      "Filtering  at 10.42 Hz\n",
      "Performing symbolic transformation\n",
      "Reduction order for nice/marker/PermutationEntropy/default: ['channels']\n",
      "Autodetected number of jobs 24\n",
      "Computing CSD\n",
      "Using 10-5 locations for CSD\n",
      "Using 24 jobs\n"
     ]
    },
    {
     "name": "stderr",
     "output_type": "stream",
     "text": [
      "/home/nicolas.bruno/anaconda3/lib/python3.7/site-packages/nice-0.1.dev0-py3.7.egg/nice/algorithms/information_theory/permutation_entropy.py:75: RuntimeWarning: divide by zero encountered in log\n",
      "  pe = np.nan_to_num(-np.nansum(count * np.log(count), axis=1))\n",
      "/home/nicolas.bruno/anaconda3/lib/python3.7/site-packages/nice-0.1.dev0-py3.7.egg/nice/algorithms/information_theory/permutation_entropy.py:75: RuntimeWarning: invalid value encountered in multiply\n",
      "  pe = np.nan_to_num(-np.nansum(count * np.log(count), axis=1))\n",
      "[Parallel(n_jobs=24)]: Using backend LokyBackend with 24 concurrent workers.\n"
     ]
    },
    {
     "name": "stdout",
     "output_type": "stream",
     "text": [
      "Filtering  at 10.42 Hz\n"
     ]
    },
    {
     "name": "stderr",
     "output_type": "stream",
     "text": [
      "[Parallel(n_jobs=24)]: Done  92 tasks      | elapsed:    0.2s\n",
      "[Parallel(n_jobs=24)]: Done 224 out of 224 | elapsed:    0.3s finished\n"
     ]
    },
    {
     "name": "stdout",
     "output_type": "stream",
     "text": [
      "Reduction order for nice/marker/SymbolicMutualInformation/default: ['channels_y', 'channels']\n",
      "Autodetected number of jobs 24\n",
      "Effective window size : 16.384 (s)\n",
      "Reduction order for nice/marker/PowerSpectralDensity/alpha: ['frequency', 'channels']\n",
      "Reduction order for nice/marker/PowerSpectralDensity/alpha: ['frequency', 'channels']\n",
      "Reduction order for nice/marker/PowerSpectralDensity/delta: ['frequency', 'channels']\n",
      "Reduction order for nice/marker/PowerSpectralDensity/delta: ['frequency', 'channels']\n",
      "Reduction order for nice/marker/PowerSpectralDensity/theta: ['frequency', 'channels']\n",
      "Reduction order for nice/marker/PowerSpectralDensity/theta: ['frequency', 'channels']\n",
      "Reduction order for nice/marker/PowerSpectralDensity/gamma: ['frequency', 'channels']\n",
      "Reduction order for nice/marker/PowerSpectralDensity/theta: ['frequency', 'channels']\n",
      "Reduction order for nice/marker/PowerSpectralDensity/beta: ['frequency', 'channels']\n",
      "Reduction order for nice/marker/PowerSpectralDensity/beta: ['frequency', 'channels']\n",
      "Running KolmogorovComplexity\n",
      "Elapsed time 0.04140734672546387 sec\n"
     ]
    },
    {
     "name": "stderr",
     "output_type": "stream",
     "text": [
      "[Parallel(n_jobs=24)]: Using backend LokyBackend with 24 concurrent workers.\n",
      "[Parallel(n_jobs=24)]: Done   6 out of  24 | elapsed:    0.1s remaining:    0.3s\n",
      "[Parallel(n_jobs=24)]: Done  11 out of  24 | elapsed:    0.1s remaining:    0.1s\n",
      "[Parallel(n_jobs=24)]: Done  16 out of  24 | elapsed:    0.1s remaining:    0.1s\n",
      "[Parallel(n_jobs=24)]: Done  21 out of  24 | elapsed:    0.1s remaining:    0.0s\n",
      "[Parallel(n_jobs=24)]: Done  24 out of  24 | elapsed:    0.1s finished\n"
     ]
    },
    {
     "name": "stdout",
     "output_type": "stream",
     "text": [
      "Reduction order for nice/marker/KolmogorovComplexity/default: ['channels']\n",
      "Filtering  at 10.42 Hz\n",
      "Performing symbolic transformation\n",
      "Reduction order for nice/marker/PermutationEntropy/default: ['channels']\n",
      "Autodetected number of jobs 24\n",
      "Computing CSD\n",
      "Using 10-5 locations for CSD\n",
      "Using 24 jobs\n",
      "Filtering  at 10.42 Hz\n"
     ]
    },
    {
     "name": "stderr",
     "output_type": "stream",
     "text": [
      "[Parallel(n_jobs=24)]: Using backend LokyBackend with 24 concurrent workers.\n",
      "[Parallel(n_jobs=24)]: Done  12 out of  29 | elapsed:    0.0s remaining:    0.1s\n",
      "[Parallel(n_jobs=24)]: Done  18 out of  29 | elapsed:    0.1s remaining:    0.0s\n",
      "[Parallel(n_jobs=24)]: Done  24 out of  29 | elapsed:    0.1s remaining:    0.0s\n",
      "[Parallel(n_jobs=24)]: Done  29 out of  29 | elapsed:    0.1s finished\n"
     ]
    },
    {
     "name": "stdout",
     "output_type": "stream",
     "text": [
      "Reduction order for nice/marker/SymbolicMutualInformation/default: ['channels_y', 'channels']\n",
      "Reading /media/nicolas.bruno/63f8a366-34b7-4896-a7ce-b5fb4ee78535/Nico/MW_eeg_data/minmarker/VP27/VP27evokedar-subtracted_epo.fif ...\n",
      "    Found the data of interest:\n",
      "        t =    -200.00 ...     600.00 ms\n",
      "        0 CTF compensation matrices available\n",
      "Not setting metadata\n",
      "Not setting metadata\n",
      "123 matching events found\n",
      "No baseline correction applied\n",
      "0 projection items activated\n",
      "Autodetected number of jobs 24\n",
      "Effective window size : 16.384 (s)\n"
     ]
    },
    {
     "name": "stderr",
     "output_type": "stream",
     "text": [
      "[Parallel(n_jobs=24)]: Using backend LokyBackend with 24 concurrent workers.\n",
      "[Parallel(n_jobs=24)]: Done   6 out of  24 | elapsed:    0.6s remaining:    1.9s\n",
      "[Parallel(n_jobs=24)]: Done  11 out of  24 | elapsed:    0.7s remaining:    0.8s\n",
      "[Parallel(n_jobs=24)]: Done  16 out of  24 | elapsed:    0.7s remaining:    0.4s\n",
      "[Parallel(n_jobs=24)]: Done  21 out of  24 | elapsed:    0.8s remaining:    0.1s\n"
     ]
    },
    {
     "name": "stdout",
     "output_type": "stream",
     "text": [
      "Reduction order for nice/marker/PowerSpectralDensity/alpha: ['frequency', 'channels']\n",
      "Reduction order for nice/marker/PowerSpectralDensity/alpha: ['frequency', 'channels']\n",
      "Reduction order for nice/marker/PowerSpectralDensity/delta: ['frequency', 'channels']\n",
      "Reduction order for nice/marker/PowerSpectralDensity/delta: ['frequency', 'channels']\n",
      "Reduction order for nice/marker/PowerSpectralDensity/theta: ['frequency', 'channels']\n",
      "Reduction order for nice/marker/PowerSpectralDensity/theta: ['frequency', 'channels']\n",
      "Reduction order for nice/marker/PowerSpectralDensity/gamma: ['frequency', 'channels']\n",
      "Reduction order for nice/marker/PowerSpectralDensity/theta: ['frequency', 'channels']\n",
      "Reduction order for nice/marker/PowerSpectralDensity/beta: ['frequency', 'channels']\n",
      "Reduction order for nice/marker/PowerSpectralDensity/beta: ['frequency', 'channels']\n",
      "Running KolmogorovComplexity\n",
      "Elapsed time 0.32056260108947754 sec\n"
     ]
    },
    {
     "name": "stderr",
     "output_type": "stream",
     "text": [
      "[Parallel(n_jobs=24)]: Done  24 out of  24 | elapsed:    0.8s finished\n"
     ]
    },
    {
     "name": "stdout",
     "output_type": "stream",
     "text": [
      "Reduction order for nice/marker/KolmogorovComplexity/default: ['channels']\n",
      "Filtering  at 10.42 Hz\n",
      "Performing symbolic transformation\n",
      "Reduction order for nice/marker/PermutationEntropy/default: ['channels']\n",
      "Autodetected number of jobs 24\n",
      "Computing CSD\n",
      "Using 10-5 locations for CSD\n",
      "Using 24 jobs\n"
     ]
    },
    {
     "name": "stderr",
     "output_type": "stream",
     "text": [
      "/home/nicolas.bruno/anaconda3/lib/python3.7/site-packages/nice-0.1.dev0-py3.7.egg/nice/algorithms/information_theory/permutation_entropy.py:75: RuntimeWarning: divide by zero encountered in log\n",
      "  pe = np.nan_to_num(-np.nansum(count * np.log(count), axis=1))\n",
      "/home/nicolas.bruno/anaconda3/lib/python3.7/site-packages/nice-0.1.dev0-py3.7.egg/nice/algorithms/information_theory/permutation_entropy.py:75: RuntimeWarning: invalid value encountered in multiply\n",
      "  pe = np.nan_to_num(-np.nansum(count * np.log(count), axis=1))\n",
      "[Parallel(n_jobs=24)]: Using backend LokyBackend with 24 concurrent workers.\n"
     ]
    },
    {
     "name": "stdout",
     "output_type": "stream",
     "text": [
      "Filtering  at 10.42 Hz\n"
     ]
    },
    {
     "name": "stderr",
     "output_type": "stream",
     "text": [
      "[Parallel(n_jobs=24)]: Done  72 tasks      | elapsed:    0.2s\n",
      "[Parallel(n_jobs=24)]: Done 224 out of 224 | elapsed:    0.3s finished\n"
     ]
    },
    {
     "name": "stdout",
     "output_type": "stream",
     "text": [
      "Reduction order for nice/marker/SymbolicMutualInformation/default: ['channels_y', 'channels']\n",
      "Autodetected number of jobs 24\n",
      "Effective window size : 16.384 (s)\n",
      "Reduction order for nice/marker/PowerSpectralDensity/alpha: ['frequency', 'channels']\n",
      "Reduction order for nice/marker/PowerSpectralDensity/alpha: ['frequency', 'channels']\n",
      "Reduction order for nice/marker/PowerSpectralDensity/delta: ['frequency', 'channels']\n",
      "Reduction order for nice/marker/PowerSpectralDensity/delta: ['frequency', 'channels']\n",
      "Reduction order for nice/marker/PowerSpectralDensity/theta: ['frequency', 'channels']\n",
      "Reduction order for nice/marker/PowerSpectralDensity/theta: ['frequency', 'channels']\n",
      "Reduction order for nice/marker/PowerSpectralDensity/gamma: ['frequency', 'channels']\n",
      "Reduction order for nice/marker/PowerSpectralDensity/theta: ['frequency', 'channels']\n",
      "Reduction order for nice/marker/PowerSpectralDensity/beta: ['frequency', 'channels']\n",
      "Reduction order for nice/marker/PowerSpectralDensity/beta: ['frequency', 'channels']\n",
      "Running KolmogorovComplexity\n"
     ]
    },
    {
     "name": "stderr",
     "output_type": "stream",
     "text": [
      "[Parallel(n_jobs=24)]: Using backend LokyBackend with 24 concurrent workers.\n",
      "[Parallel(n_jobs=24)]: Done   6 out of  24 | elapsed:    0.1s remaining:    0.3s\n",
      "[Parallel(n_jobs=24)]: Done  11 out of  24 | elapsed:    0.1s remaining:    0.1s\n",
      "[Parallel(n_jobs=24)]: Done  16 out of  24 | elapsed:    0.1s remaining:    0.1s\n",
      "[Parallel(n_jobs=24)]: Done  21 out of  24 | elapsed:    0.1s remaining:    0.0s\n",
      "[Parallel(n_jobs=24)]: Done  24 out of  24 | elapsed:    0.1s finished\n"
     ]
    },
    {
     "name": "stdout",
     "output_type": "stream",
     "text": [
      "Elapsed time 0.045882463455200195 sec\n",
      "Reduction order for nice/marker/KolmogorovComplexity/default: ['channels']\n",
      "Filtering  at 10.42 Hz\n",
      "Performing symbolic transformation\n",
      "Reduction order for nice/marker/PermutationEntropy/default: ['channels']\n",
      "Autodetected number of jobs 24\n",
      "Computing CSD\n",
      "Using 10-5 locations for CSD\n",
      "Using 24 jobs\n",
      "Filtering  at 10.42 Hz\n"
     ]
    },
    {
     "name": "stderr",
     "output_type": "stream",
     "text": [
      "[Parallel(n_jobs=24)]: Using backend LokyBackend with 24 concurrent workers.\n",
      "[Parallel(n_jobs=24)]: Done  12 out of  29 | elapsed:    0.0s remaining:    0.1s\n",
      "[Parallel(n_jobs=24)]: Done  18 out of  29 | elapsed:    0.1s remaining:    0.0s\n",
      "[Parallel(n_jobs=24)]: Done  24 out of  29 | elapsed:    0.1s remaining:    0.0s\n",
      "[Parallel(n_jobs=24)]: Done  29 out of  29 | elapsed:    0.1s finished\n"
     ]
    },
    {
     "name": "stdout",
     "output_type": "stream",
     "text": [
      "Reduction order for nice/marker/SymbolicMutualInformation/default: ['channels_y', 'channels']\n",
      "Reading /media/nicolas.bruno/63f8a366-34b7-4896-a7ce-b5fb4ee78535/Nico/MW_eeg_data/minmarker/VP28/VP28evokedar-subtracted_epo.fif ...\n",
      "    Found the data of interest:\n",
      "        t =    -200.00 ...     600.00 ms\n",
      "        0 CTF compensation matrices available\n",
      "Not setting metadata\n",
      "Not setting metadata\n",
      "134 matching events found\n",
      "No baseline correction applied\n",
      "0 projection items activated\n",
      "Autodetected number of jobs 24\n",
      "Effective window size : 16.384 (s)\n"
     ]
    },
    {
     "name": "stderr",
     "output_type": "stream",
     "text": [
      "[Parallel(n_jobs=24)]: Using backend LokyBackend with 24 concurrent workers.\n",
      "[Parallel(n_jobs=24)]: Done   6 out of  24 | elapsed:    0.7s remaining:    2.0s\n",
      "[Parallel(n_jobs=24)]: Done  11 out of  24 | elapsed:    0.7s remaining:    0.8s\n",
      "[Parallel(n_jobs=24)]: Done  16 out of  24 | elapsed:    0.8s remaining:    0.4s\n",
      "[Parallel(n_jobs=24)]: Done  21 out of  24 | elapsed:    0.8s remaining:    0.1s\n"
     ]
    },
    {
     "name": "stdout",
     "output_type": "stream",
     "text": [
      "Reduction order for nice/marker/PowerSpectralDensity/alpha: ['frequency', 'channels']\n",
      "Reduction order for nice/marker/PowerSpectralDensity/alpha: ['frequency', 'channels']\n",
      "Reduction order for nice/marker/PowerSpectralDensity/delta: ['frequency', 'channels']\n",
      "Reduction order for nice/marker/PowerSpectralDensity/delta: ['frequency', 'channels']\n",
      "Reduction order for nice/marker/PowerSpectralDensity/theta: ['frequency', 'channels']\n",
      "Reduction order for nice/marker/PowerSpectralDensity/theta: ['frequency', 'channels']\n",
      "Reduction order for nice/marker/PowerSpectralDensity/gamma: ['frequency', 'channels']\n",
      "Reduction order for nice/marker/PowerSpectralDensity/theta: ['frequency', 'channels']\n",
      "Reduction order for nice/marker/PowerSpectralDensity/beta: ['frequency', 'channels']\n",
      "Reduction order for nice/marker/PowerSpectralDensity/beta: ['frequency', 'channels']\n",
      "Running KolmogorovComplexity\n"
     ]
    },
    {
     "name": "stderr",
     "output_type": "stream",
     "text": [
      "[Parallel(n_jobs=24)]: Done  24 out of  24 | elapsed:    0.9s finished\n"
     ]
    },
    {
     "name": "stdout",
     "output_type": "stream",
     "text": [
      "Elapsed time 0.3245246410369873 sec\n",
      "Reduction order for nice/marker/KolmogorovComplexity/default: ['channels']\n",
      "Filtering  at 10.42 Hz\n",
      "Performing symbolic transformation\n",
      "Reduction order for nice/marker/PermutationEntropy/default: ['channels']\n",
      "Autodetected number of jobs 24\n",
      "Computing CSD\n",
      "Using 10-5 locations for CSD\n",
      "Using 24 jobs\n"
     ]
    },
    {
     "name": "stderr",
     "output_type": "stream",
     "text": [
      "/home/nicolas.bruno/anaconda3/lib/python3.7/site-packages/nice-0.1.dev0-py3.7.egg/nice/algorithms/information_theory/permutation_entropy.py:75: RuntimeWarning: divide by zero encountered in log\n",
      "  pe = np.nan_to_num(-np.nansum(count * np.log(count), axis=1))\n",
      "/home/nicolas.bruno/anaconda3/lib/python3.7/site-packages/nice-0.1.dev0-py3.7.egg/nice/algorithms/information_theory/permutation_entropy.py:75: RuntimeWarning: invalid value encountered in multiply\n",
      "  pe = np.nan_to_num(-np.nansum(count * np.log(count), axis=1))\n",
      "[Parallel(n_jobs=24)]: Using backend LokyBackend with 24 concurrent workers.\n"
     ]
    },
    {
     "name": "stdout",
     "output_type": "stream",
     "text": [
      "Filtering  at 10.42 Hz\n"
     ]
    },
    {
     "name": "stderr",
     "output_type": "stream",
     "text": [
      "[Parallel(n_jobs=24)]: Done  84 tasks      | elapsed:    0.2s\n",
      "[Parallel(n_jobs=24)]: Done 224 out of 224 | elapsed:    0.3s finished\n"
     ]
    },
    {
     "name": "stdout",
     "output_type": "stream",
     "text": [
      "Reduction order for nice/marker/SymbolicMutualInformation/default: ['channels_y', 'channels']\n",
      "Autodetected number of jobs 24\n",
      "Effective window size : 16.384 (s)\n",
      "Reduction order for nice/marker/PowerSpectralDensity/alpha: ['frequency', 'channels']\n",
      "Reduction order for nice/marker/PowerSpectralDensity/alpha: ['frequency', 'channels']\n",
      "Reduction order for nice/marker/PowerSpectralDensity/delta: ['frequency', 'channels']\n",
      "Reduction order for nice/marker/PowerSpectralDensity/delta: ['frequency', 'channels']\n",
      "Reduction order for nice/marker/PowerSpectralDensity/theta: ['frequency', 'channels']\n",
      "Reduction order for nice/marker/PowerSpectralDensity/theta: ['frequency', 'channels']\n",
      "Reduction order for nice/marker/PowerSpectralDensity/gamma: ['frequency', 'channels']\n",
      "Reduction order for nice/marker/PowerSpectralDensity/theta: ['frequency', 'channels']\n",
      "Reduction order for nice/marker/PowerSpectralDensity/beta: ['frequency', 'channels']\n",
      "Reduction order for nice/marker/PowerSpectralDensity/beta: ['frequency', 'channels']\n",
      "Running KolmogorovComplexity\n",
      "Elapsed time 0.04158353805541992 sec\n"
     ]
    },
    {
     "name": "stderr",
     "output_type": "stream",
     "text": [
      "[Parallel(n_jobs=24)]: Using backend LokyBackend with 24 concurrent workers.\n",
      "[Parallel(n_jobs=24)]: Done   6 out of  24 | elapsed:    0.1s remaining:    0.3s\n",
      "[Parallel(n_jobs=24)]: Done  11 out of  24 | elapsed:    0.1s remaining:    0.1s\n",
      "[Parallel(n_jobs=24)]: Done  16 out of  24 | elapsed:    0.1s remaining:    0.1s\n",
      "[Parallel(n_jobs=24)]: Done  21 out of  24 | elapsed:    0.1s remaining:    0.0s\n",
      "[Parallel(n_jobs=24)]: Done  24 out of  24 | elapsed:    0.2s finished\n"
     ]
    },
    {
     "name": "stdout",
     "output_type": "stream",
     "text": [
      "Reduction order for nice/marker/KolmogorovComplexity/default: ['channels']\n",
      "Filtering  at 10.42 Hz\n",
      "Performing symbolic transformation\n",
      "Reduction order for nice/marker/PermutationEntropy/default: ['channels']\n",
      "Autodetected number of jobs 24\n",
      "Computing CSD\n",
      "Using 10-5 locations for CSD\n",
      "Using 24 jobs\n",
      "Filtering  at 10.42 Hz\n"
     ]
    },
    {
     "name": "stderr",
     "output_type": "stream",
     "text": [
      "[Parallel(n_jobs=24)]: Using backend LokyBackend with 24 concurrent workers.\n",
      "[Parallel(n_jobs=24)]: Done  12 out of  29 | elapsed:    0.0s remaining:    0.1s\n",
      "[Parallel(n_jobs=24)]: Done  18 out of  29 | elapsed:    0.1s remaining:    0.0s\n",
      "[Parallel(n_jobs=24)]: Done  24 out of  29 | elapsed:    0.1s remaining:    0.0s\n",
      "[Parallel(n_jobs=24)]: Done  29 out of  29 | elapsed:    0.1s finished\n"
     ]
    },
    {
     "name": "stdout",
     "output_type": "stream",
     "text": [
      "Reduction order for nice/marker/SymbolicMutualInformation/default: ['channels_y', 'channels']\n",
      "Reading /media/nicolas.bruno/63f8a366-34b7-4896-a7ce-b5fb4ee78535/Nico/MW_eeg_data/minmarker/VP29/VP29evokedar-subtracted_epo.fif ...\n",
      "    Found the data of interest:\n",
      "        t =    -200.00 ...     600.00 ms\n",
      "        0 CTF compensation matrices available\n",
      "Not setting metadata\n",
      "Not setting metadata\n",
      "287 matching events found\n",
      "No baseline correction applied\n",
      "0 projection items activated\n",
      "Autodetected number of jobs 24\n",
      "Effective window size : 16.384 (s)\n"
     ]
    },
    {
     "name": "stderr",
     "output_type": "stream",
     "text": [
      "[Parallel(n_jobs=24)]: Using backend LokyBackend with 24 concurrent workers.\n",
      "[Parallel(n_jobs=24)]: Done   6 out of  24 | elapsed:    0.6s remaining:    1.9s\n",
      "[Parallel(n_jobs=24)]: Done  11 out of  24 | elapsed:    0.7s remaining:    0.8s\n",
      "[Parallel(n_jobs=24)]: Done  16 out of  24 | elapsed:    0.8s remaining:    0.4s\n",
      "[Parallel(n_jobs=24)]: Done  21 out of  24 | elapsed:    0.8s remaining:    0.1s\n",
      "[Parallel(n_jobs=24)]: Done  24 out of  24 | elapsed:    0.8s finished\n"
     ]
    },
    {
     "name": "stdout",
     "output_type": "stream",
     "text": [
      "Reduction order for nice/marker/PowerSpectralDensity/alpha: ['frequency', 'channels']\n",
      "Reduction order for nice/marker/PowerSpectralDensity/alpha: ['frequency', 'channels']\n",
      "Reduction order for nice/marker/PowerSpectralDensity/delta: ['frequency', 'channels']\n",
      "Reduction order for nice/marker/PowerSpectralDensity/delta: ['frequency', 'channels']\n",
      "Reduction order for nice/marker/PowerSpectralDensity/theta: ['frequency', 'channels']\n",
      "Reduction order for nice/marker/PowerSpectralDensity/theta: ['frequency', 'channels']\n",
      "Reduction order for nice/marker/PowerSpectralDensity/gamma: ['frequency', 'channels']\n",
      "Reduction order for nice/marker/PowerSpectralDensity/theta: ['frequency', 'channels']\n",
      "Reduction order for nice/marker/PowerSpectralDensity/beta: ['frequency', 'channels']\n",
      "Reduction order for nice/marker/PowerSpectralDensity/beta: ['frequency', 'channels']\n",
      "Running KolmogorovComplexity\n",
      "Elapsed time 0.3218843936920166 sec\n",
      "Reduction order for nice/marker/KolmogorovComplexity/default: ['channels']\n",
      "Filtering  at 10.42 Hz\n",
      "Performing symbolic transformation\n",
      "Reduction order for nice/marker/PermutationEntropy/default: ['channels']\n",
      "Autodetected number of jobs 24\n",
      "Computing CSD\n",
      "Using 10-5 locations for CSD\n",
      "Using 24 jobs\n"
     ]
    },
    {
     "name": "stderr",
     "output_type": "stream",
     "text": [
      "/home/nicolas.bruno/anaconda3/lib/python3.7/site-packages/nice-0.1.dev0-py3.7.egg/nice/algorithms/information_theory/permutation_entropy.py:75: RuntimeWarning: divide by zero encountered in log\n",
      "  pe = np.nan_to_num(-np.nansum(count * np.log(count), axis=1))\n",
      "/home/nicolas.bruno/anaconda3/lib/python3.7/site-packages/nice-0.1.dev0-py3.7.egg/nice/algorithms/information_theory/permutation_entropy.py:75: RuntimeWarning: invalid value encountered in multiply\n",
      "  pe = np.nan_to_num(-np.nansum(count * np.log(count), axis=1))\n",
      "[Parallel(n_jobs=24)]: Using backend LokyBackend with 24 concurrent workers.\n"
     ]
    },
    {
     "name": "stdout",
     "output_type": "stream",
     "text": [
      "Filtering  at 10.42 Hz\n"
     ]
    },
    {
     "name": "stderr",
     "output_type": "stream",
     "text": [
      "[Parallel(n_jobs=24)]: Done  72 tasks      | elapsed:    0.2s\n",
      "[Parallel(n_jobs=24)]: Done 224 out of 224 | elapsed:    0.3s finished\n"
     ]
    },
    {
     "name": "stdout",
     "output_type": "stream",
     "text": [
      "Reduction order for nice/marker/SymbolicMutualInformation/default: ['channels_y', 'channels']\n",
      "Autodetected number of jobs 24\n",
      "Effective window size : 16.384 (s)\n",
      "Reduction order for nice/marker/PowerSpectralDensity/alpha: ['frequency', 'channels']\n",
      "Reduction order for nice/marker/PowerSpectralDensity/alpha: ['frequency', 'channels']\n",
      "Reduction order for nice/marker/PowerSpectralDensity/delta: ['frequency', 'channels']\n",
      "Reduction order for nice/marker/PowerSpectralDensity/delta: ['frequency', 'channels']\n",
      "Reduction order for nice/marker/PowerSpectralDensity/theta: ['frequency', 'channels']\n",
      "Reduction order for nice/marker/PowerSpectralDensity/theta: ['frequency', 'channels']\n",
      "Reduction order for nice/marker/PowerSpectralDensity/gamma: ['frequency', 'channels']\n",
      "Reduction order for nice/marker/PowerSpectralDensity/theta: ['frequency', 'channels']\n",
      "Reduction order for nice/marker/PowerSpectralDensity/beta: ['frequency', 'channels']\n",
      "Reduction order for nice/marker/PowerSpectralDensity/beta: ['frequency', 'channels']\n",
      "Running KolmogorovComplexity\n"
     ]
    },
    {
     "name": "stderr",
     "output_type": "stream",
     "text": [
      "[Parallel(n_jobs=24)]: Using backend LokyBackend with 24 concurrent workers.\n",
      "[Parallel(n_jobs=24)]: Done   6 out of  24 | elapsed:    0.1s remaining:    0.3s\n",
      "[Parallel(n_jobs=24)]: Done  11 out of  24 | elapsed:    0.1s remaining:    0.1s\n",
      "[Parallel(n_jobs=24)]: Done  16 out of  24 | elapsed:    0.1s remaining:    0.1s\n",
      "[Parallel(n_jobs=24)]: Done  21 out of  24 | elapsed:    0.1s remaining:    0.0s\n",
      "[Parallel(n_jobs=24)]: Done  24 out of  24 | elapsed:    0.1s finished\n"
     ]
    },
    {
     "name": "stdout",
     "output_type": "stream",
     "text": [
      "Elapsed time 0.04350996017456055 sec\n",
      "Reduction order for nice/marker/KolmogorovComplexity/default: ['channels']\n",
      "Filtering  at 10.42 Hz\n",
      "Performing symbolic transformation\n",
      "Reduction order for nice/marker/PermutationEntropy/default: ['channels']\n",
      "Autodetected number of jobs 24\n",
      "Computing CSD\n",
      "Using 10-5 locations for CSD\n",
      "Using 24 jobs\n",
      "Filtering  at 10.42 Hz\n"
     ]
    },
    {
     "name": "stderr",
     "output_type": "stream",
     "text": [
      "[Parallel(n_jobs=24)]: Using backend LokyBackend with 24 concurrent workers.\n",
      "[Parallel(n_jobs=24)]: Done  12 out of  29 | elapsed:    0.0s remaining:    0.1s\n",
      "[Parallel(n_jobs=24)]: Done  18 out of  29 | elapsed:    0.1s remaining:    0.0s\n",
      "[Parallel(n_jobs=24)]: Done  24 out of  29 | elapsed:    0.1s remaining:    0.0s\n",
      "[Parallel(n_jobs=24)]: Done  29 out of  29 | elapsed:    0.1s finished\n"
     ]
    },
    {
     "name": "stdout",
     "output_type": "stream",
     "text": [
      "Reduction order for nice/marker/SymbolicMutualInformation/default: ['channels_y', 'channels']\n",
      "Reading /media/nicolas.bruno/63f8a366-34b7-4896-a7ce-b5fb4ee78535/Nico/MW_eeg_data/minmarker/VP30/VP30evokedar-subtracted_epo.fif ...\n",
      "    Found the data of interest:\n",
      "        t =    -200.00 ...     600.00 ms\n",
      "        0 CTF compensation matrices available\n",
      "Not setting metadata\n",
      "Not setting metadata\n",
      "537 matching events found\n",
      "No baseline correction applied\n",
      "0 projection items activated\n",
      "Autodetected number of jobs 24\n",
      "Effective window size : 16.384 (s)\n"
     ]
    },
    {
     "name": "stderr",
     "output_type": "stream",
     "text": [
      "[Parallel(n_jobs=24)]: Using backend LokyBackend with 24 concurrent workers.\n",
      "[Parallel(n_jobs=24)]: Done   6 out of  24 | elapsed:    0.6s remaining:    1.9s\n",
      "[Parallel(n_jobs=24)]: Done  11 out of  24 | elapsed:    0.7s remaining:    0.8s\n",
      "[Parallel(n_jobs=24)]: Done  16 out of  24 | elapsed:    0.8s remaining:    0.4s\n",
      "[Parallel(n_jobs=24)]: Done  21 out of  24 | elapsed:    0.8s remaining:    0.1s\n"
     ]
    },
    {
     "name": "stdout",
     "output_type": "stream",
     "text": [
      "Reduction order for nice/marker/PowerSpectralDensity/alpha: ['frequency', 'channels']\n",
      "Reduction order for nice/marker/PowerSpectralDensity/alpha: ['frequency', 'channels']\n",
      "Reduction order for nice/marker/PowerSpectralDensity/delta: ['frequency', 'channels']\n",
      "Reduction order for nice/marker/PowerSpectralDensity/delta: ['frequency', 'channels']\n",
      "Reduction order for nice/marker/PowerSpectralDensity/theta: ['frequency', 'channels']\n",
      "Reduction order for nice/marker/PowerSpectralDensity/theta: ['frequency', 'channels']\n",
      "Reduction order for nice/marker/PowerSpectralDensity/gamma: ['frequency', 'channels']\n",
      "Reduction order for nice/marker/PowerSpectralDensity/theta: ['frequency', 'channels']\n",
      "Reduction order for nice/marker/PowerSpectralDensity/beta: ['frequency', 'channels']\n",
      "Reduction order for nice/marker/PowerSpectralDensity/beta: ['frequency', 'channels']\n",
      "Running KolmogorovComplexity\n",
      "Elapsed time 0.322037935256958 sec\n"
     ]
    },
    {
     "name": "stderr",
     "output_type": "stream",
     "text": [
      "[Parallel(n_jobs=24)]: Done  24 out of  24 | elapsed:    0.9s finished\n"
     ]
    },
    {
     "name": "stdout",
     "output_type": "stream",
     "text": [
      "Reduction order for nice/marker/KolmogorovComplexity/default: ['channels']\n",
      "Filtering  at 10.42 Hz\n",
      "Performing symbolic transformation\n",
      "Reduction order for nice/marker/PermutationEntropy/default: ['channels']\n",
      "Autodetected number of jobs 24\n",
      "Computing CSD\n",
      "Using 10-5 locations for CSD\n",
      "Using 24 jobs\n"
     ]
    },
    {
     "name": "stderr",
     "output_type": "stream",
     "text": [
      "/home/nicolas.bruno/anaconda3/lib/python3.7/site-packages/nice-0.1.dev0-py3.7.egg/nice/algorithms/information_theory/permutation_entropy.py:75: RuntimeWarning: divide by zero encountered in log\n",
      "  pe = np.nan_to_num(-np.nansum(count * np.log(count), axis=1))\n",
      "/home/nicolas.bruno/anaconda3/lib/python3.7/site-packages/nice-0.1.dev0-py3.7.egg/nice/algorithms/information_theory/permutation_entropy.py:75: RuntimeWarning: invalid value encountered in multiply\n",
      "  pe = np.nan_to_num(-np.nansum(count * np.log(count), axis=1))\n",
      "[Parallel(n_jobs=24)]: Using backend LokyBackend with 24 concurrent workers.\n"
     ]
    },
    {
     "name": "stdout",
     "output_type": "stream",
     "text": [
      "Filtering  at 10.42 Hz\n"
     ]
    },
    {
     "name": "stderr",
     "output_type": "stream",
     "text": [
      "[Parallel(n_jobs=24)]: Done  72 tasks      | elapsed:    0.2s\n",
      "[Parallel(n_jobs=24)]: Done 224 out of 224 | elapsed:    0.3s finished\n"
     ]
    },
    {
     "name": "stdout",
     "output_type": "stream",
     "text": [
      "Reduction order for nice/marker/SymbolicMutualInformation/default: ['channels_y', 'channels']\n",
      "Autodetected number of jobs 24\n",
      "Effective window size : 16.384 (s)\n",
      "Reduction order for nice/marker/PowerSpectralDensity/alpha: ['frequency', 'channels']\n",
      "Reduction order for nice/marker/PowerSpectralDensity/alpha: ['frequency', 'channels']\n",
      "Reduction order for nice/marker/PowerSpectralDensity/delta: ['frequency', 'channels']\n",
      "Reduction order for nice/marker/PowerSpectralDensity/delta: ['frequency', 'channels']\n",
      "Reduction order for nice/marker/PowerSpectralDensity/theta: ['frequency', 'channels']\n",
      "Reduction order for nice/marker/PowerSpectralDensity/theta: ['frequency', 'channels']\n",
      "Reduction order for nice/marker/PowerSpectralDensity/gamma: ['frequency', 'channels']\n",
      "Reduction order for nice/marker/PowerSpectralDensity/theta: ['frequency', 'channels']\n",
      "Reduction order for nice/marker/PowerSpectralDensity/beta: ['frequency', 'channels']\n",
      "Reduction order for nice/marker/PowerSpectralDensity/beta: ['frequency', 'channels']\n",
      "Running KolmogorovComplexity\n",
      "Elapsed time 0.04513835906982422 sec\n"
     ]
    },
    {
     "name": "stderr",
     "output_type": "stream",
     "text": [
      "[Parallel(n_jobs=24)]: Using backend LokyBackend with 24 concurrent workers.\n",
      "[Parallel(n_jobs=24)]: Done   6 out of  24 | elapsed:    0.1s remaining:    0.3s\n",
      "[Parallel(n_jobs=24)]: Done  11 out of  24 | elapsed:    0.1s remaining:    0.1s\n",
      "[Parallel(n_jobs=24)]: Done  16 out of  24 | elapsed:    0.1s remaining:    0.1s\n",
      "[Parallel(n_jobs=24)]: Done  21 out of  24 | elapsed:    0.1s remaining:    0.0s\n",
      "[Parallel(n_jobs=24)]: Done  24 out of  24 | elapsed:    0.1s finished\n"
     ]
    },
    {
     "name": "stdout",
     "output_type": "stream",
     "text": [
      "Reduction order for nice/marker/KolmogorovComplexity/default: ['channels']\n",
      "Filtering  at 10.42 Hz\n",
      "Performing symbolic transformation\n",
      "Reduction order for nice/marker/PermutationEntropy/default: ['channels']\n",
      "Autodetected number of jobs 24\n",
      "Computing CSD\n",
      "Using 10-5 locations for CSD\n",
      "Using 24 jobs\n",
      "Filtering  at 10.42 Hz\n"
     ]
    },
    {
     "name": "stderr",
     "output_type": "stream",
     "text": [
      "[Parallel(n_jobs=24)]: Using backend LokyBackend with 24 concurrent workers.\n",
      "[Parallel(n_jobs=24)]: Done  12 out of  29 | elapsed:    0.0s remaining:    0.1s\n",
      "[Parallel(n_jobs=24)]: Done  18 out of  29 | elapsed:    0.1s remaining:    0.0s\n",
      "[Parallel(n_jobs=24)]: Done  24 out of  29 | elapsed:    0.1s remaining:    0.0s\n",
      "[Parallel(n_jobs=24)]: Done  29 out of  29 | elapsed:    0.1s finished\n"
     ]
    },
    {
     "name": "stdout",
     "output_type": "stream",
     "text": [
      "Reduction order for nice/marker/SymbolicMutualInformation/default: ['channels_y', 'channels']\n",
      "Reading /media/nicolas.bruno/63f8a366-34b7-4896-a7ce-b5fb4ee78535/Nico/MW_eeg_data/minmarker/VP31/VP31evokedar-subtracted_epo.fif ...\n",
      "    Found the data of interest:\n",
      "        t =    -200.00 ...     600.00 ms\n",
      "        0 CTF compensation matrices available\n",
      "Not setting metadata\n",
      "Not setting metadata\n",
      "169 matching events found\n",
      "No baseline correction applied\n",
      "0 projection items activated\n",
      "Autodetected number of jobs 24\n",
      "Effective window size : 16.384 (s)\n"
     ]
    },
    {
     "name": "stderr",
     "output_type": "stream",
     "text": [
      "[Parallel(n_jobs=24)]: Using backend LokyBackend with 24 concurrent workers.\n",
      "[Parallel(n_jobs=24)]: Done   6 out of  24 | elapsed:    0.6s remaining:    1.9s\n",
      "[Parallel(n_jobs=24)]: Done  11 out of  24 | elapsed:    0.7s remaining:    0.8s\n",
      "[Parallel(n_jobs=24)]: Done  16 out of  24 | elapsed:    0.8s remaining:    0.4s\n",
      "[Parallel(n_jobs=24)]: Done  21 out of  24 | elapsed:    0.8s remaining:    0.1s\n"
     ]
    },
    {
     "name": "stdout",
     "output_type": "stream",
     "text": [
      "Reduction order for nice/marker/PowerSpectralDensity/alpha: ['frequency', 'channels']\n",
      "Reduction order for nice/marker/PowerSpectralDensity/alpha: ['frequency', 'channels']\n",
      "Reduction order for nice/marker/PowerSpectralDensity/delta: ['frequency', 'channels']\n",
      "Reduction order for nice/marker/PowerSpectralDensity/delta: ['frequency', 'channels']\n",
      "Reduction order for nice/marker/PowerSpectralDensity/theta: ['frequency', 'channels']\n",
      "Reduction order for nice/marker/PowerSpectralDensity/theta: ['frequency', 'channels']\n",
      "Reduction order for nice/marker/PowerSpectralDensity/gamma: ['frequency', 'channels']\n",
      "Reduction order for nice/marker/PowerSpectralDensity/theta: ['frequency', 'channels']\n",
      "Reduction order for nice/marker/PowerSpectralDensity/beta: ['frequency', 'channels']\n",
      "Reduction order for nice/marker/PowerSpectralDensity/beta: ['frequency', 'channels']\n",
      "Running KolmogorovComplexity\n",
      "Elapsed time 0.32050228118896484 sec\n"
     ]
    },
    {
     "name": "stderr",
     "output_type": "stream",
     "text": [
      "[Parallel(n_jobs=24)]: Done  24 out of  24 | elapsed:    0.9s finished\n"
     ]
    },
    {
     "name": "stdout",
     "output_type": "stream",
     "text": [
      "Reduction order for nice/marker/KolmogorovComplexity/default: ['channels']\n",
      "Filtering  at 10.42 Hz\n",
      "Performing symbolic transformation\n",
      "Reduction order for nice/marker/PermutationEntropy/default: ['channels']\n",
      "Autodetected number of jobs 24\n",
      "Computing CSD\n",
      "Using 10-5 locations for CSD\n",
      "Using 24 jobs\n"
     ]
    },
    {
     "name": "stderr",
     "output_type": "stream",
     "text": [
      "/home/nicolas.bruno/anaconda3/lib/python3.7/site-packages/nice-0.1.dev0-py3.7.egg/nice/algorithms/information_theory/permutation_entropy.py:75: RuntimeWarning: divide by zero encountered in log\n",
      "  pe = np.nan_to_num(-np.nansum(count * np.log(count), axis=1))\n",
      "/home/nicolas.bruno/anaconda3/lib/python3.7/site-packages/nice-0.1.dev0-py3.7.egg/nice/algorithms/information_theory/permutation_entropy.py:75: RuntimeWarning: invalid value encountered in multiply\n",
      "  pe = np.nan_to_num(-np.nansum(count * np.log(count), axis=1))\n",
      "[Parallel(n_jobs=24)]: Using backend LokyBackend with 24 concurrent workers.\n"
     ]
    },
    {
     "name": "stdout",
     "output_type": "stream",
     "text": [
      "Filtering  at 10.42 Hz\n"
     ]
    },
    {
     "name": "stderr",
     "output_type": "stream",
     "text": [
      "[Parallel(n_jobs=24)]: Done  72 tasks      | elapsed:    0.2s\n",
      "[Parallel(n_jobs=24)]: Done 224 out of 224 | elapsed:    0.3s finished\n"
     ]
    },
    {
     "name": "stdout",
     "output_type": "stream",
     "text": [
      "Reduction order for nice/marker/SymbolicMutualInformation/default: ['channels_y', 'channels']\n",
      "Autodetected number of jobs 24\n",
      "Effective window size : 16.384 (s)\n",
      "Reduction order for nice/marker/PowerSpectralDensity/alpha: ['frequency', 'channels']\n",
      "Reduction order for nice/marker/PowerSpectralDensity/alpha: ['frequency', 'channels']\n",
      "Reduction order for nice/marker/PowerSpectralDensity/delta: ['frequency', 'channels']\n",
      "Reduction order for nice/marker/PowerSpectralDensity/delta: ['frequency', 'channels']\n",
      "Reduction order for nice/marker/PowerSpectralDensity/theta: ['frequency', 'channels']\n",
      "Reduction order for nice/marker/PowerSpectralDensity/theta: ['frequency', 'channels']\n",
      "Reduction order for nice/marker/PowerSpectralDensity/gamma: ['frequency', 'channels']\n",
      "Reduction order for nice/marker/PowerSpectralDensity/theta: ['frequency', 'channels']\n",
      "Reduction order for nice/marker/PowerSpectralDensity/beta: ['frequency', 'channels']\n",
      "Reduction order for nice/marker/PowerSpectralDensity/beta: ['frequency', 'channels']\n",
      "Running KolmogorovComplexity\n",
      "Elapsed time 0.04378557205200195 sec\n"
     ]
    },
    {
     "name": "stderr",
     "output_type": "stream",
     "text": [
      "[Parallel(n_jobs=24)]: Using backend LokyBackend with 24 concurrent workers.\n",
      "[Parallel(n_jobs=24)]: Done   6 out of  24 | elapsed:    0.1s remaining:    0.3s\n",
      "[Parallel(n_jobs=24)]: Done  11 out of  24 | elapsed:    0.1s remaining:    0.1s\n",
      "[Parallel(n_jobs=24)]: Done  16 out of  24 | elapsed:    0.1s remaining:    0.1s\n",
      "[Parallel(n_jobs=24)]: Done  21 out of  24 | elapsed:    0.1s remaining:    0.0s\n",
      "[Parallel(n_jobs=24)]: Done  24 out of  24 | elapsed:    0.1s finished\n"
     ]
    },
    {
     "name": "stdout",
     "output_type": "stream",
     "text": [
      "Reduction order for nice/marker/KolmogorovComplexity/default: ['channels']\n",
      "Filtering  at 10.42 Hz\n",
      "Performing symbolic transformation\n",
      "Reduction order for nice/marker/PermutationEntropy/default: ['channels']\n",
      "Autodetected number of jobs 24\n",
      "Computing CSD\n",
      "Using 10-5 locations for CSD\n",
      "Using 24 jobs\n",
      "Filtering  at 10.42 Hz\n"
     ]
    },
    {
     "name": "stderr",
     "output_type": "stream",
     "text": [
      "[Parallel(n_jobs=24)]: Using backend LokyBackend with 24 concurrent workers.\n",
      "[Parallel(n_jobs=24)]: Done  12 out of  29 | elapsed:    0.0s remaining:    0.1s\n",
      "[Parallel(n_jobs=24)]: Done  18 out of  29 | elapsed:    0.1s remaining:    0.0s\n",
      "[Parallel(n_jobs=24)]: Done  24 out of  29 | elapsed:    0.1s remaining:    0.0s\n",
      "[Parallel(n_jobs=24)]: Done  29 out of  29 | elapsed:    0.1s finished\n"
     ]
    },
    {
     "name": "stdout",
     "output_type": "stream",
     "text": [
      "Reduction order for nice/marker/SymbolicMutualInformation/default: ['channels_y', 'channels']\n",
      "Reading /media/nicolas.bruno/63f8a366-34b7-4896-a7ce-b5fb4ee78535/Nico/MW_eeg_data/minmarker/VP32/VP32evokedar-subtracted_epo.fif ...\n",
      "    Found the data of interest:\n",
      "        t =    -200.00 ...     600.00 ms\n",
      "        0 CTF compensation matrices available\n",
      "Not setting metadata\n",
      "Not setting metadata\n",
      "550 matching events found\n",
      "No baseline correction applied\n",
      "0 projection items activated\n",
      "Autodetected number of jobs 24\n",
      "Effective window size : 16.384 (s)\n"
     ]
    },
    {
     "name": "stderr",
     "output_type": "stream",
     "text": [
      "[Parallel(n_jobs=24)]: Using backend LokyBackend with 24 concurrent workers.\n",
      "[Parallel(n_jobs=24)]: Done   6 out of  24 | elapsed:    0.6s remaining:    1.9s\n",
      "[Parallel(n_jobs=24)]: Done  11 out of  24 | elapsed:    0.7s remaining:    0.8s\n",
      "[Parallel(n_jobs=24)]: Done  16 out of  24 | elapsed:    0.7s remaining:    0.4s\n",
      "[Parallel(n_jobs=24)]: Done  21 out of  24 | elapsed:    0.8s remaining:    0.1s\n",
      "[Parallel(n_jobs=24)]: Done  24 out of  24 | elapsed:    0.8s finished\n"
     ]
    },
    {
     "name": "stdout",
     "output_type": "stream",
     "text": [
      "Reduction order for nice/marker/PowerSpectralDensity/alpha: ['frequency', 'channels']\n",
      "Reduction order for nice/marker/PowerSpectralDensity/alpha: ['frequency', 'channels']\n",
      "Reduction order for nice/marker/PowerSpectralDensity/delta: ['frequency', 'channels']\n",
      "Reduction order for nice/marker/PowerSpectralDensity/delta: ['frequency', 'channels']\n",
      "Reduction order for nice/marker/PowerSpectralDensity/theta: ['frequency', 'channels']\n",
      "Reduction order for nice/marker/PowerSpectralDensity/theta: ['frequency', 'channels']\n",
      "Reduction order for nice/marker/PowerSpectralDensity/gamma: ['frequency', 'channels']\n",
      "Reduction order for nice/marker/PowerSpectralDensity/theta: ['frequency', 'channels']\n",
      "Reduction order for nice/marker/PowerSpectralDensity/beta: ['frequency', 'channels']\n",
      "Reduction order for nice/marker/PowerSpectralDensity/beta: ['frequency', 'channels']\n",
      "Running KolmogorovComplexity\n",
      "Elapsed time 0.32134056091308594 sec\n",
      "Reduction order for nice/marker/KolmogorovComplexity/default: ['channels']\n",
      "Filtering  at 10.42 Hz\n",
      "Performing symbolic transformation\n",
      "Reduction order for nice/marker/PermutationEntropy/default: ['channels']\n",
      "Autodetected number of jobs 24\n",
      "Computing CSD\n",
      "Using 10-5 locations for CSD\n",
      "Using 24 jobs\n"
     ]
    },
    {
     "name": "stderr",
     "output_type": "stream",
     "text": [
      "/home/nicolas.bruno/anaconda3/lib/python3.7/site-packages/nice-0.1.dev0-py3.7.egg/nice/algorithms/information_theory/permutation_entropy.py:75: RuntimeWarning: divide by zero encountered in log\n",
      "  pe = np.nan_to_num(-np.nansum(count * np.log(count), axis=1))\n",
      "/home/nicolas.bruno/anaconda3/lib/python3.7/site-packages/nice-0.1.dev0-py3.7.egg/nice/algorithms/information_theory/permutation_entropy.py:75: RuntimeWarning: invalid value encountered in multiply\n",
      "  pe = np.nan_to_num(-np.nansum(count * np.log(count), axis=1))\n",
      "[Parallel(n_jobs=24)]: Using backend LokyBackend with 24 concurrent workers.\n"
     ]
    },
    {
     "name": "stdout",
     "output_type": "stream",
     "text": [
      "Filtering  at 10.42 Hz\n"
     ]
    },
    {
     "name": "stderr",
     "output_type": "stream",
     "text": [
      "[Parallel(n_jobs=24)]: Done  92 tasks      | elapsed:    0.2s\n",
      "[Parallel(n_jobs=24)]: Done 224 out of 224 | elapsed:    0.3s finished\n"
     ]
    },
    {
     "name": "stdout",
     "output_type": "stream",
     "text": [
      "Reduction order for nice/marker/SymbolicMutualInformation/default: ['channels_y', 'channels']\n",
      "Autodetected number of jobs 24\n",
      "Effective window size : 16.384 (s)\n",
      "Reduction order for nice/marker/PowerSpectralDensity/alpha: ['frequency', 'channels']\n",
      "Reduction order for nice/marker/PowerSpectralDensity/alpha: ['frequency', 'channels']\n",
      "Reduction order for nice/marker/PowerSpectralDensity/delta: ['frequency', 'channels']\n",
      "Reduction order for nice/marker/PowerSpectralDensity/delta: ['frequency', 'channels']\n",
      "Reduction order for nice/marker/PowerSpectralDensity/theta: ['frequency', 'channels']\n",
      "Reduction order for nice/marker/PowerSpectralDensity/theta: ['frequency', 'channels']\n",
      "Reduction order for nice/marker/PowerSpectralDensity/gamma: ['frequency', 'channels']\n",
      "Reduction order for nice/marker/PowerSpectralDensity/theta: ['frequency', 'channels']\n",
      "Reduction order for nice/marker/PowerSpectralDensity/beta: ['frequency', 'channels']\n",
      "Reduction order for nice/marker/PowerSpectralDensity/beta: ['frequency', 'channels']\n",
      "Running KolmogorovComplexity\n",
      "Elapsed time 0.04321122169494629 sec\n"
     ]
    },
    {
     "name": "stderr",
     "output_type": "stream",
     "text": [
      "[Parallel(n_jobs=24)]: Using backend LokyBackend with 24 concurrent workers.\n",
      "[Parallel(n_jobs=24)]: Done   6 out of  24 | elapsed:    0.1s remaining:    0.3s\n",
      "[Parallel(n_jobs=24)]: Done  11 out of  24 | elapsed:    0.1s remaining:    0.1s\n",
      "[Parallel(n_jobs=24)]: Done  16 out of  24 | elapsed:    0.1s remaining:    0.1s\n",
      "[Parallel(n_jobs=24)]: Done  21 out of  24 | elapsed:    0.1s remaining:    0.0s\n",
      "[Parallel(n_jobs=24)]: Done  24 out of  24 | elapsed:    0.2s finished\n"
     ]
    },
    {
     "name": "stdout",
     "output_type": "stream",
     "text": [
      "Reduction order for nice/marker/KolmogorovComplexity/default: ['channels']\n",
      "Filtering  at 10.42 Hz\n",
      "Performing symbolic transformation\n",
      "Reduction order for nice/marker/PermutationEntropy/default: ['channels']\n",
      "Autodetected number of jobs 24\n",
      "Computing CSD\n",
      "Using 10-5 locations for CSD\n",
      "Using 24 jobs\n",
      "Filtering  at 10.42 Hz\n"
     ]
    },
    {
     "name": "stderr",
     "output_type": "stream",
     "text": [
      "[Parallel(n_jobs=24)]: Using backend LokyBackend with 24 concurrent workers.\n",
      "[Parallel(n_jobs=24)]: Done  12 out of  29 | elapsed:    0.0s remaining:    0.1s\n",
      "[Parallel(n_jobs=24)]: Done  18 out of  29 | elapsed:    0.1s remaining:    0.0s\n",
      "[Parallel(n_jobs=24)]: Done  24 out of  29 | elapsed:    0.1s remaining:    0.0s\n",
      "[Parallel(n_jobs=24)]: Done  29 out of  29 | elapsed:    0.1s finished\n"
     ]
    },
    {
     "name": "stdout",
     "output_type": "stream",
     "text": [
      "Reduction order for nice/marker/SymbolicMutualInformation/default: ['channels_y', 'channels']\n",
      "Reading /media/nicolas.bruno/63f8a366-34b7-4896-a7ce-b5fb4ee78535/Nico/MW_eeg_data/minmarker/VP33/VP33evokedar-subtracted_epo.fif ...\n",
      "    Found the data of interest:\n",
      "        t =    -200.00 ...     600.00 ms\n",
      "        0 CTF compensation matrices available\n",
      "Not setting metadata\n",
      "Not setting metadata\n",
      "291 matching events found\n",
      "No baseline correction applied\n",
      "0 projection items activated\n",
      "Autodetected number of jobs 24\n",
      "Effective window size : 16.384 (s)\n"
     ]
    },
    {
     "name": "stderr",
     "output_type": "stream",
     "text": [
      "[Parallel(n_jobs=24)]: Using backend LokyBackend with 24 concurrent workers.\n",
      "[Parallel(n_jobs=24)]: Done   6 out of  24 | elapsed:    0.6s remaining:    1.9s\n",
      "[Parallel(n_jobs=24)]: Done  11 out of  24 | elapsed:    0.7s remaining:    0.8s\n",
      "[Parallel(n_jobs=24)]: Done  16 out of  24 | elapsed:    0.7s remaining:    0.4s\n",
      "[Parallel(n_jobs=24)]: Done  21 out of  24 | elapsed:    0.8s remaining:    0.1s\n"
     ]
    },
    {
     "name": "stdout",
     "output_type": "stream",
     "text": [
      "Reduction order for nice/marker/PowerSpectralDensity/alpha: ['frequency', 'channels']\n",
      "Reduction order for nice/marker/PowerSpectralDensity/alpha: ['frequency', 'channels']\n",
      "Reduction order for nice/marker/PowerSpectralDensity/delta: ['frequency', 'channels']\n",
      "Reduction order for nice/marker/PowerSpectralDensity/delta: ['frequency', 'channels']\n",
      "Reduction order for nice/marker/PowerSpectralDensity/theta: ['frequency', 'channels']\n",
      "Reduction order for nice/marker/PowerSpectralDensity/theta: ['frequency', 'channels']\n",
      "Reduction order for nice/marker/PowerSpectralDensity/gamma: ['frequency', 'channels']\n",
      "Reduction order for nice/marker/PowerSpectralDensity/theta: ['frequency', 'channels']\n",
      "Reduction order for nice/marker/PowerSpectralDensity/beta: ['frequency', 'channels']\n",
      "Reduction order for nice/marker/PowerSpectralDensity/beta: ['frequency', 'channels']\n",
      "Running KolmogorovComplexity\n",
      "Elapsed time 0.3184499740600586 sec\n"
     ]
    },
    {
     "name": "stderr",
     "output_type": "stream",
     "text": [
      "[Parallel(n_jobs=24)]: Done  24 out of  24 | elapsed:    0.8s finished\n"
     ]
    },
    {
     "name": "stdout",
     "output_type": "stream",
     "text": [
      "Reduction order for nice/marker/KolmogorovComplexity/default: ['channels']\n",
      "Filtering  at 10.42 Hz\n",
      "Performing symbolic transformation\n",
      "Reduction order for nice/marker/PermutationEntropy/default: ['channels']\n",
      "Autodetected number of jobs 24\n",
      "Computing CSD\n",
      "Using 10-5 locations for CSD\n",
      "Using 24 jobs\n"
     ]
    },
    {
     "name": "stderr",
     "output_type": "stream",
     "text": [
      "/home/nicolas.bruno/anaconda3/lib/python3.7/site-packages/nice-0.1.dev0-py3.7.egg/nice/algorithms/information_theory/permutation_entropy.py:75: RuntimeWarning: divide by zero encountered in log\n",
      "  pe = np.nan_to_num(-np.nansum(count * np.log(count), axis=1))\n",
      "/home/nicolas.bruno/anaconda3/lib/python3.7/site-packages/nice-0.1.dev0-py3.7.egg/nice/algorithms/information_theory/permutation_entropy.py:75: RuntimeWarning: invalid value encountered in multiply\n",
      "  pe = np.nan_to_num(-np.nansum(count * np.log(count), axis=1))\n",
      "[Parallel(n_jobs=24)]: Using backend LokyBackend with 24 concurrent workers.\n"
     ]
    },
    {
     "name": "stdout",
     "output_type": "stream",
     "text": [
      "Filtering  at 10.42 Hz\n"
     ]
    },
    {
     "name": "stderr",
     "output_type": "stream",
     "text": [
      "[Parallel(n_jobs=24)]: Done  76 tasks      | elapsed:    0.2s\n",
      "[Parallel(n_jobs=24)]: Done 224 out of 224 | elapsed:    0.3s finished\n"
     ]
    },
    {
     "name": "stdout",
     "output_type": "stream",
     "text": [
      "Reduction order for nice/marker/SymbolicMutualInformation/default: ['channels_y', 'channels']\n",
      "Autodetected number of jobs 24\n",
      "Effective window size : 16.384 (s)\n",
      "Reduction order for nice/marker/PowerSpectralDensity/alpha: ['frequency', 'channels']\n",
      "Reduction order for nice/marker/PowerSpectralDensity/alpha: ['frequency', 'channels']\n",
      "Reduction order for nice/marker/PowerSpectralDensity/delta: ['frequency', 'channels']\n",
      "Reduction order for nice/marker/PowerSpectralDensity/delta: ['frequency', 'channels']\n",
      "Reduction order for nice/marker/PowerSpectralDensity/theta: ['frequency', 'channels']\n",
      "Reduction order for nice/marker/PowerSpectralDensity/theta: ['frequency', 'channels']\n",
      "Reduction order for nice/marker/PowerSpectralDensity/gamma: ['frequency', 'channels']\n",
      "Reduction order for nice/marker/PowerSpectralDensity/theta: ['frequency', 'channels']\n",
      "Reduction order for nice/marker/PowerSpectralDensity/beta: ['frequency', 'channels']\n",
      "Reduction order for nice/marker/PowerSpectralDensity/beta: ['frequency', 'channels']\n",
      "Running KolmogorovComplexity\n"
     ]
    },
    {
     "name": "stderr",
     "output_type": "stream",
     "text": [
      "[Parallel(n_jobs=24)]: Using backend LokyBackend with 24 concurrent workers.\n",
      "[Parallel(n_jobs=24)]: Done   6 out of  24 | elapsed:    0.1s remaining:    0.3s\n",
      "[Parallel(n_jobs=24)]: Done  11 out of  24 | elapsed:    0.1s remaining:    0.1s\n",
      "[Parallel(n_jobs=24)]: Done  16 out of  24 | elapsed:    0.1s remaining:    0.1s\n",
      "[Parallel(n_jobs=24)]: Done  21 out of  24 | elapsed:    0.1s remaining:    0.0s\n",
      "[Parallel(n_jobs=24)]: Done  24 out of  24 | elapsed:    0.1s finished\n"
     ]
    },
    {
     "name": "stdout",
     "output_type": "stream",
     "text": [
      "Elapsed time 0.04332232475280762 sec\n",
      "Reduction order for nice/marker/KolmogorovComplexity/default: ['channels']\n",
      "Filtering  at 10.42 Hz\n",
      "Performing symbolic transformation\n",
      "Reduction order for nice/marker/PermutationEntropy/default: ['channels']\n",
      "Autodetected number of jobs 24\n",
      "Computing CSD\n",
      "Using 10-5 locations for CSD\n",
      "Using 24 jobs\n",
      "Filtering  at 10.42 Hz\n"
     ]
    },
    {
     "name": "stderr",
     "output_type": "stream",
     "text": [
      "[Parallel(n_jobs=24)]: Using backend LokyBackend with 24 concurrent workers.\n",
      "[Parallel(n_jobs=24)]: Done  12 out of  29 | elapsed:    0.0s remaining:    0.1s\n",
      "[Parallel(n_jobs=24)]: Done  18 out of  29 | elapsed:    0.1s remaining:    0.0s\n",
      "[Parallel(n_jobs=24)]: Done  24 out of  29 | elapsed:    0.1s remaining:    0.0s\n",
      "[Parallel(n_jobs=24)]: Done  29 out of  29 | elapsed:    0.1s finished\n"
     ]
    },
    {
     "name": "stdout",
     "output_type": "stream",
     "text": [
      "Reduction order for nice/marker/SymbolicMutualInformation/default: ['channels_y', 'channels']\n",
      "Reading /media/nicolas.bruno/63f8a366-34b7-4896-a7ce-b5fb4ee78535/Nico/MW_eeg_data/minmarker/VP35/VP35evokedar-subtracted_epo.fif ...\n",
      "    Found the data of interest:\n",
      "        t =    -200.00 ...     600.00 ms\n",
      "        0 CTF compensation matrices available\n",
      "Not setting metadata\n",
      "Not setting metadata\n",
      "169 matching events found\n",
      "No baseline correction applied\n",
      "0 projection items activated\n",
      "Autodetected number of jobs 24\n",
      "Effective window size : 16.384 (s)\n"
     ]
    },
    {
     "name": "stderr",
     "output_type": "stream",
     "text": [
      "[Parallel(n_jobs=24)]: Using backend LokyBackend with 24 concurrent workers.\n",
      "[Parallel(n_jobs=24)]: Done   6 out of  24 | elapsed:    0.7s remaining:    2.1s\n",
      "[Parallel(n_jobs=24)]: Done  11 out of  24 | elapsed:    0.8s remaining:    0.9s\n",
      "[Parallel(n_jobs=24)]: Done  16 out of  24 | elapsed:    0.8s remaining:    0.4s\n",
      "[Parallel(n_jobs=24)]: Done  21 out of  24 | elapsed:    0.9s remaining:    0.1s\n"
     ]
    },
    {
     "name": "stdout",
     "output_type": "stream",
     "text": [
      "Reduction order for nice/marker/PowerSpectralDensity/alpha: ['frequency', 'channels']\n",
      "Reduction order for nice/marker/PowerSpectralDensity/alpha: ['frequency', 'channels']\n",
      "Reduction order for nice/marker/PowerSpectralDensity/delta: ['frequency', 'channels']\n",
      "Reduction order for nice/marker/PowerSpectralDensity/delta: ['frequency', 'channels']\n",
      "Reduction order for nice/marker/PowerSpectralDensity/theta: ['frequency', 'channels']\n",
      "Reduction order for nice/marker/PowerSpectralDensity/theta: ['frequency', 'channels']\n",
      "Reduction order for nice/marker/PowerSpectralDensity/gamma: ['frequency', 'channels']\n",
      "Reduction order for nice/marker/PowerSpectralDensity/theta: ['frequency', 'channels']\n",
      "Reduction order for nice/marker/PowerSpectralDensity/beta: ['frequency', 'channels']\n",
      "Reduction order for nice/marker/PowerSpectralDensity/beta: ['frequency', 'channels']\n",
      "Running KolmogorovComplexity\n"
     ]
    },
    {
     "name": "stderr",
     "output_type": "stream",
     "text": [
      "[Parallel(n_jobs=24)]: Done  24 out of  24 | elapsed:    0.9s finished\n"
     ]
    },
    {
     "name": "stdout",
     "output_type": "stream",
     "text": [
      "Elapsed time 0.32051610946655273 sec\n",
      "Reduction order for nice/marker/KolmogorovComplexity/default: ['channels']\n",
      "Filtering  at 10.42 Hz\n",
      "Performing symbolic transformation\n",
      "Reduction order for nice/marker/PermutationEntropy/default: ['channels']\n",
      "Autodetected number of jobs 24\n",
      "Computing CSD\n",
      "Using 10-5 locations for CSD\n",
      "Using 24 jobs\n"
     ]
    },
    {
     "name": "stderr",
     "output_type": "stream",
     "text": [
      "/home/nicolas.bruno/anaconda3/lib/python3.7/site-packages/nice-0.1.dev0-py3.7.egg/nice/algorithms/information_theory/permutation_entropy.py:75: RuntimeWarning: divide by zero encountered in log\n",
      "  pe = np.nan_to_num(-np.nansum(count * np.log(count), axis=1))\n",
      "/home/nicolas.bruno/anaconda3/lib/python3.7/site-packages/nice-0.1.dev0-py3.7.egg/nice/algorithms/information_theory/permutation_entropy.py:75: RuntimeWarning: invalid value encountered in multiply\n",
      "  pe = np.nan_to_num(-np.nansum(count * np.log(count), axis=1))\n",
      "[Parallel(n_jobs=24)]: Using backend LokyBackend with 24 concurrent workers.\n"
     ]
    },
    {
     "name": "stdout",
     "output_type": "stream",
     "text": [
      "Filtering  at 10.42 Hz\n"
     ]
    },
    {
     "name": "stderr",
     "output_type": "stream",
     "text": [
      "[Parallel(n_jobs=24)]: Done  74 tasks      | elapsed:    0.2s\n",
      "[Parallel(n_jobs=24)]: Done 224 out of 224 | elapsed:    0.3s finished\n"
     ]
    },
    {
     "name": "stdout",
     "output_type": "stream",
     "text": [
      "Reduction order for nice/marker/SymbolicMutualInformation/default: ['channels_y', 'channels']\n",
      "Autodetected number of jobs 24\n",
      "Effective window size : 16.384 (s)\n",
      "Reduction order for nice/marker/PowerSpectralDensity/alpha: ['frequency', 'channels']\n",
      "Reduction order for nice/marker/PowerSpectralDensity/alpha: ['frequency', 'channels']\n",
      "Reduction order for nice/marker/PowerSpectralDensity/delta: ['frequency', 'channels']\n",
      "Reduction order for nice/marker/PowerSpectralDensity/delta: ['frequency', 'channels']\n",
      "Reduction order for nice/marker/PowerSpectralDensity/theta: ['frequency', 'channels']\n",
      "Reduction order for nice/marker/PowerSpectralDensity/theta: ['frequency', 'channels']\n",
      "Reduction order for nice/marker/PowerSpectralDensity/gamma: ['frequency', 'channels']\n",
      "Reduction order for nice/marker/PowerSpectralDensity/theta: ['frequency', 'channels']\n",
      "Reduction order for nice/marker/PowerSpectralDensity/beta: ['frequency', 'channels']\n",
      "Reduction order for nice/marker/PowerSpectralDensity/beta: ['frequency', 'channels']\n",
      "Running KolmogorovComplexity\n",
      "Elapsed time 0.04134654998779297 sec\n",
      "Reduction order for nice/marker/KolmogorovComplexity/default: ['channels']\n",
      "Filtering  at 10.42 Hz\n",
      "Performing symbolic transformation\n"
     ]
    },
    {
     "name": "stderr",
     "output_type": "stream",
     "text": [
      "[Parallel(n_jobs=24)]: Using backend LokyBackend with 24 concurrent workers.\n",
      "[Parallel(n_jobs=24)]: Done   6 out of  24 | elapsed:    0.1s remaining:    0.3s\n",
      "[Parallel(n_jobs=24)]: Done  11 out of  24 | elapsed:    0.1s remaining:    0.1s\n",
      "[Parallel(n_jobs=24)]: Done  16 out of  24 | elapsed:    0.1s remaining:    0.1s\n",
      "[Parallel(n_jobs=24)]: Done  21 out of  24 | elapsed:    0.1s remaining:    0.0s\n",
      "[Parallel(n_jobs=24)]: Done  24 out of  24 | elapsed:    0.1s finished\n"
     ]
    },
    {
     "name": "stdout",
     "output_type": "stream",
     "text": [
      "Reduction order for nice/marker/PermutationEntropy/default: ['channels']\n",
      "Autodetected number of jobs 24\n",
      "Computing CSD\n",
      "Using 10-5 locations for CSD\n",
      "Using 24 jobs\n",
      "Filtering  at 10.42 Hz\n"
     ]
    },
    {
     "name": "stderr",
     "output_type": "stream",
     "text": [
      "[Parallel(n_jobs=24)]: Using backend LokyBackend with 24 concurrent workers.\n",
      "[Parallel(n_jobs=24)]: Done  18 out of  29 | elapsed:    0.1s remaining:    0.0s\n",
      "[Parallel(n_jobs=24)]: Done  24 out of  29 | elapsed:    0.1s remaining:    0.0s\n",
      "[Parallel(n_jobs=24)]: Done  29 out of  29 | elapsed:    0.1s finished\n"
     ]
    },
    {
     "name": "stdout",
     "output_type": "stream",
     "text": [
      "Reduction order for nice/marker/SymbolicMutualInformation/default: ['channels_y', 'channels']\n",
      "Reading /media/nicolas.bruno/63f8a366-34b7-4896-a7ce-b5fb4ee78535/Nico/MW_eeg_data/minmarker/VP36/VP36evokedar-subtracted_epo.fif ...\n",
      "    Found the data of interest:\n",
      "        t =    -200.00 ...     600.00 ms\n",
      "        0 CTF compensation matrices available\n",
      "Not setting metadata\n",
      "Not setting metadata\n",
      "147 matching events found\n",
      "No baseline correction applied\n",
      "0 projection items activated\n",
      "Autodetected number of jobs 24\n",
      "Effective window size : 16.384 (s)\n"
     ]
    },
    {
     "name": "stderr",
     "output_type": "stream",
     "text": [
      "[Parallel(n_jobs=24)]: Using backend LokyBackend with 24 concurrent workers.\n",
      "[Parallel(n_jobs=24)]: Done   6 out of  24 | elapsed:    0.7s remaining:    2.0s\n",
      "[Parallel(n_jobs=24)]: Done  11 out of  24 | elapsed:    0.7s remaining:    0.9s\n",
      "[Parallel(n_jobs=24)]: Done  16 out of  24 | elapsed:    0.8s remaining:    0.4s\n",
      "[Parallel(n_jobs=24)]: Done  21 out of  24 | elapsed:    0.8s remaining:    0.1s\n",
      "[Parallel(n_jobs=24)]: Done  24 out of  24 | elapsed:    0.9s finished\n"
     ]
    },
    {
     "name": "stdout",
     "output_type": "stream",
     "text": [
      "Reduction order for nice/marker/PowerSpectralDensity/alpha: ['frequency', 'channels']\n",
      "Reduction order for nice/marker/PowerSpectralDensity/alpha: ['frequency', 'channels']\n",
      "Reduction order for nice/marker/PowerSpectralDensity/delta: ['frequency', 'channels']\n",
      "Reduction order for nice/marker/PowerSpectralDensity/delta: ['frequency', 'channels']\n",
      "Reduction order for nice/marker/PowerSpectralDensity/theta: ['frequency', 'channels']\n",
      "Reduction order for nice/marker/PowerSpectralDensity/theta: ['frequency', 'channels']\n",
      "Reduction order for nice/marker/PowerSpectralDensity/gamma: ['frequency', 'channels']\n",
      "Reduction order for nice/marker/PowerSpectralDensity/theta: ['frequency', 'channels']\n",
      "Reduction order for nice/marker/PowerSpectralDensity/beta: ['frequency', 'channels']\n",
      "Reduction order for nice/marker/PowerSpectralDensity/beta: ['frequency', 'channels']\n",
      "Running KolmogorovComplexity\n",
      "Elapsed time 0.31983327865600586 sec\n",
      "Reduction order for nice/marker/KolmogorovComplexity/default: ['channels']\n",
      "Filtering  at 10.42 Hz\n",
      "Performing symbolic transformation\n",
      "Reduction order for nice/marker/PermutationEntropy/default: ['channels']\n",
      "Autodetected number of jobs 24\n",
      "Computing CSD\n",
      "Using 10-5 locations for CSD\n",
      "Using 24 jobs\n"
     ]
    },
    {
     "name": "stderr",
     "output_type": "stream",
     "text": [
      "/home/nicolas.bruno/anaconda3/lib/python3.7/site-packages/nice-0.1.dev0-py3.7.egg/nice/algorithms/information_theory/permutation_entropy.py:75: RuntimeWarning: divide by zero encountered in log\n",
      "  pe = np.nan_to_num(-np.nansum(count * np.log(count), axis=1))\n",
      "/home/nicolas.bruno/anaconda3/lib/python3.7/site-packages/nice-0.1.dev0-py3.7.egg/nice/algorithms/information_theory/permutation_entropy.py:75: RuntimeWarning: invalid value encountered in multiply\n",
      "  pe = np.nan_to_num(-np.nansum(count * np.log(count), axis=1))\n",
      "[Parallel(n_jobs=24)]: Using backend LokyBackend with 24 concurrent workers.\n"
     ]
    },
    {
     "name": "stdout",
     "output_type": "stream",
     "text": [
      "Filtering  at 10.42 Hz\n"
     ]
    },
    {
     "name": "stderr",
     "output_type": "stream",
     "text": [
      "[Parallel(n_jobs=24)]: Done  74 tasks      | elapsed:    0.2s\n",
      "[Parallel(n_jobs=24)]: Done 224 out of 224 | elapsed:    0.3s finished\n"
     ]
    },
    {
     "name": "stdout",
     "output_type": "stream",
     "text": [
      "Reduction order for nice/marker/SymbolicMutualInformation/default: ['channels_y', 'channels']\n",
      "Autodetected number of jobs 24\n",
      "Effective window size : 16.384 (s)\n",
      "Reduction order for nice/marker/PowerSpectralDensity/alpha: ['frequency', 'channels']\n",
      "Reduction order for nice/marker/PowerSpectralDensity/alpha: ['frequency', 'channels']\n",
      "Reduction order for nice/marker/PowerSpectralDensity/delta: ['frequency', 'channels']\n",
      "Reduction order for nice/marker/PowerSpectralDensity/delta: ['frequency', 'channels']\n",
      "Reduction order for nice/marker/PowerSpectralDensity/theta: ['frequency', 'channels']\n",
      "Reduction order for nice/marker/PowerSpectralDensity/theta: ['frequency', 'channels']\n",
      "Reduction order for nice/marker/PowerSpectralDensity/gamma: ['frequency', 'channels']\n",
      "Reduction order for nice/marker/PowerSpectralDensity/theta: ['frequency', 'channels']\n",
      "Reduction order for nice/marker/PowerSpectralDensity/beta: ['frequency', 'channels']\n",
      "Reduction order for nice/marker/PowerSpectralDensity/beta: ['frequency', 'channels']\n",
      "Running KolmogorovComplexity\n",
      "Elapsed time 0.04250836372375488 sec\n"
     ]
    },
    {
     "name": "stderr",
     "output_type": "stream",
     "text": [
      "[Parallel(n_jobs=24)]: Using backend LokyBackend with 24 concurrent workers.\n",
      "[Parallel(n_jobs=24)]: Done   6 out of  24 | elapsed:    0.1s remaining:    0.3s\n",
      "[Parallel(n_jobs=24)]: Done  11 out of  24 | elapsed:    0.1s remaining:    0.1s\n",
      "[Parallel(n_jobs=24)]: Done  16 out of  24 | elapsed:    0.1s remaining:    0.1s\n",
      "[Parallel(n_jobs=24)]: Done  21 out of  24 | elapsed:    0.1s remaining:    0.0s\n",
      "[Parallel(n_jobs=24)]: Done  24 out of  24 | elapsed:    0.2s finished\n"
     ]
    },
    {
     "name": "stdout",
     "output_type": "stream",
     "text": [
      "Reduction order for nice/marker/KolmogorovComplexity/default: ['channels']\n",
      "Filtering  at 10.42 Hz\n",
      "Performing symbolic transformation\n",
      "Reduction order for nice/marker/PermutationEntropy/default: ['channels']\n",
      "Autodetected number of jobs 24\n",
      "Computing CSD\n",
      "Using 10-5 locations for CSD\n",
      "Using 24 jobs\n",
      "Filtering  at 10.42 Hz\n"
     ]
    },
    {
     "name": "stderr",
     "output_type": "stream",
     "text": [
      "[Parallel(n_jobs=24)]: Using backend LokyBackend with 24 concurrent workers.\n",
      "[Parallel(n_jobs=24)]: Done  12 out of  29 | elapsed:    0.1s remaining:    0.1s\n",
      "[Parallel(n_jobs=24)]: Done  18 out of  29 | elapsed:    0.1s remaining:    0.0s\n",
      "[Parallel(n_jobs=24)]: Done  24 out of  29 | elapsed:    0.1s remaining:    0.0s\n",
      "[Parallel(n_jobs=24)]: Done  29 out of  29 | elapsed:    0.1s finished\n"
     ]
    },
    {
     "name": "stdout",
     "output_type": "stream",
     "text": [
      "Reduction order for nice/marker/SymbolicMutualInformation/default: ['channels_y', 'channels']\n",
      "Reading /media/nicolas.bruno/63f8a366-34b7-4896-a7ce-b5fb4ee78535/Nico/MW_eeg_data/minmarker/VP37/VP37evokedar-subtracted_epo.fif ...\n",
      "    Found the data of interest:\n",
      "        t =    -200.00 ...     600.00 ms\n",
      "        0 CTF compensation matrices available\n",
      "Not setting metadata\n",
      "Not setting metadata\n",
      "181 matching events found\n",
      "No baseline correction applied\n",
      "0 projection items activated\n",
      "Autodetected number of jobs 24\n",
      "Effective window size : 16.384 (s)\n"
     ]
    },
    {
     "name": "stderr",
     "output_type": "stream",
     "text": [
      "[Parallel(n_jobs=24)]: Using backend LokyBackend with 24 concurrent workers.\n",
      "[Parallel(n_jobs=24)]: Done   6 out of  24 | elapsed:    0.6s remaining:    1.9s\n",
      "[Parallel(n_jobs=24)]: Done  11 out of  24 | elapsed:    0.7s remaining:    0.8s\n",
      "[Parallel(n_jobs=24)]: Done  16 out of  24 | elapsed:    0.8s remaining:    0.4s\n",
      "[Parallel(n_jobs=24)]: Done  21 out of  24 | elapsed:    0.8s remaining:    0.1s\n"
     ]
    },
    {
     "name": "stdout",
     "output_type": "stream",
     "text": [
      "Reduction order for nice/marker/PowerSpectralDensity/alpha: ['frequency', 'channels']\n",
      "Reduction order for nice/marker/PowerSpectralDensity/alpha: ['frequency', 'channels']\n",
      "Reduction order for nice/marker/PowerSpectralDensity/delta: ['frequency', 'channels']\n",
      "Reduction order for nice/marker/PowerSpectralDensity/delta: ['frequency', 'channels']\n",
      "Reduction order for nice/marker/PowerSpectralDensity/theta: ['frequency', 'channels']\n",
      "Reduction order for nice/marker/PowerSpectralDensity/theta: ['frequency', 'channels']\n",
      "Reduction order for nice/marker/PowerSpectralDensity/gamma: ['frequency', 'channels']\n",
      "Reduction order for nice/marker/PowerSpectralDensity/theta: ['frequency', 'channels']\n",
      "Reduction order for nice/marker/PowerSpectralDensity/beta: ['frequency', 'channels']\n",
      "Reduction order for nice/marker/PowerSpectralDensity/beta: ['frequency', 'channels']\n",
      "Running KolmogorovComplexity\n",
      "Elapsed time 0.32102227210998535 sec\n"
     ]
    },
    {
     "name": "stderr",
     "output_type": "stream",
     "text": [
      "[Parallel(n_jobs=24)]: Done  24 out of  24 | elapsed:    0.9s finished\n"
     ]
    },
    {
     "name": "stdout",
     "output_type": "stream",
     "text": [
      "Reduction order for nice/marker/KolmogorovComplexity/default: ['channels']\n",
      "Filtering  at 10.42 Hz\n",
      "Performing symbolic transformation\n",
      "Reduction order for nice/marker/PermutationEntropy/default: ['channels']\n",
      "Autodetected number of jobs 24\n",
      "Computing CSD\n",
      "Using 10-5 locations for CSD\n",
      "Using 24 jobs\n"
     ]
    },
    {
     "name": "stderr",
     "output_type": "stream",
     "text": [
      "/home/nicolas.bruno/anaconda3/lib/python3.7/site-packages/nice-0.1.dev0-py3.7.egg/nice/algorithms/information_theory/permutation_entropy.py:75: RuntimeWarning: divide by zero encountered in log\n",
      "  pe = np.nan_to_num(-np.nansum(count * np.log(count), axis=1))\n",
      "/home/nicolas.bruno/anaconda3/lib/python3.7/site-packages/nice-0.1.dev0-py3.7.egg/nice/algorithms/information_theory/permutation_entropy.py:75: RuntimeWarning: invalid value encountered in multiply\n",
      "  pe = np.nan_to_num(-np.nansum(count * np.log(count), axis=1))\n",
      "[Parallel(n_jobs=24)]: Using backend LokyBackend with 24 concurrent workers.\n"
     ]
    },
    {
     "name": "stdout",
     "output_type": "stream",
     "text": [
      "Filtering  at 10.42 Hz\n"
     ]
    },
    {
     "name": "stderr",
     "output_type": "stream",
     "text": [
      "[Parallel(n_jobs=24)]: Done  72 tasks      | elapsed:    0.2s\n",
      "[Parallel(n_jobs=24)]: Done 224 out of 224 | elapsed:    0.3s finished\n"
     ]
    },
    {
     "name": "stdout",
     "output_type": "stream",
     "text": [
      "Reduction order for nice/marker/SymbolicMutualInformation/default: ['channels_y', 'channels']\n",
      "Autodetected number of jobs 24\n",
      "Effective window size : 16.384 (s)\n",
      "Reduction order for nice/marker/PowerSpectralDensity/alpha: ['frequency', 'channels']\n",
      "Reduction order for nice/marker/PowerSpectralDensity/alpha: ['frequency', 'channels']\n",
      "Reduction order for nice/marker/PowerSpectralDensity/delta: ['frequency', 'channels']\n",
      "Reduction order for nice/marker/PowerSpectralDensity/delta: ['frequency', 'channels']\n",
      "Reduction order for nice/marker/PowerSpectralDensity/theta: ['frequency', 'channels']\n",
      "Reduction order for nice/marker/PowerSpectralDensity/theta: ['frequency', 'channels']\n",
      "Reduction order for nice/marker/PowerSpectralDensity/gamma: ['frequency', 'channels']\n",
      "Reduction order for nice/marker/PowerSpectralDensity/theta: ['frequency', 'channels']\n",
      "Reduction order for nice/marker/PowerSpectralDensity/beta: ['frequency', 'channels']\n",
      "Reduction order for nice/marker/PowerSpectralDensity/beta: ['frequency', 'channels']\n",
      "Running KolmogorovComplexity\n",
      "Elapsed time 0.04414176940917969 sec\n"
     ]
    },
    {
     "name": "stderr",
     "output_type": "stream",
     "text": [
      "[Parallel(n_jobs=24)]: Using backend LokyBackend with 24 concurrent workers.\n",
      "[Parallel(n_jobs=24)]: Done   6 out of  24 | elapsed:    0.1s remaining:    0.3s\n",
      "[Parallel(n_jobs=24)]: Done  11 out of  24 | elapsed:    0.1s remaining:    0.1s\n",
      "[Parallel(n_jobs=24)]: Done  16 out of  24 | elapsed:    0.1s remaining:    0.1s\n",
      "[Parallel(n_jobs=24)]: Done  21 out of  24 | elapsed:    0.1s remaining:    0.0s\n",
      "[Parallel(n_jobs=24)]: Done  24 out of  24 | elapsed:    0.2s finished\n"
     ]
    },
    {
     "name": "stdout",
     "output_type": "stream",
     "text": [
      "Reduction order for nice/marker/KolmogorovComplexity/default: ['channels']\n",
      "Filtering  at 10.42 Hz\n",
      "Performing symbolic transformation\n",
      "Reduction order for nice/marker/PermutationEntropy/default: ['channels']\n",
      "Autodetected number of jobs 24\n",
      "Computing CSD\n",
      "Using 10-5 locations for CSD\n",
      "Using 24 jobs\n",
      "Filtering  at 10.42 Hz\n"
     ]
    },
    {
     "name": "stderr",
     "output_type": "stream",
     "text": [
      "[Parallel(n_jobs=24)]: Using backend LokyBackend with 24 concurrent workers.\n",
      "[Parallel(n_jobs=24)]: Done  12 out of  29 | elapsed:    0.0s remaining:    0.1s\n",
      "[Parallel(n_jobs=24)]: Done  18 out of  29 | elapsed:    0.1s remaining:    0.0s\n",
      "[Parallel(n_jobs=24)]: Done  24 out of  29 | elapsed:    0.1s remaining:    0.0s\n",
      "[Parallel(n_jobs=24)]: Done  29 out of  29 | elapsed:    0.1s finished\n"
     ]
    },
    {
     "name": "stdout",
     "output_type": "stream",
     "text": [
      "Reduction order for nice/marker/SymbolicMutualInformation/default: ['channels_y', 'channels']\n"
     ]
    }
   ],
   "source": [
    "for i in all_participants[:]:\n",
    "    participant = i\n",
    "\n",
    "    folder = path + participant +'/'\n",
    "    epochs = mne.read_epochs(folder + participant + epoch_type + 'ar-subtracted_epo.fif')\n",
    "    \n",
    "    epochs.info['description'] = 'biosemi/64' #necessary for wSMI\n",
    "    \n",
    "    epochs =  epochs_subtracted.pick_types(eeg = True) #EOGs break everything\n",
    "    \n",
    "    try:\n",
    "        np.save(folder +  participant + '_' + epoch_type + '_' + 'SC' ,all_markers(epochs['SC/go/correct'], 0, 0.6))\n",
    "    except:\n",
    "        pass\n",
    "\n",
    "    try:\n",
    "        np.save(folder +  participant + '_' + epoch_type + '_' + 'PC' ,all_markers(epochs['PC/go/correct'], 0, 0.6))\n",
    "    except:\n",
    "        pass\n"
   ]
  }
 ],
 "metadata": {
  "kernelspec": {
   "display_name": "Python 3",
   "language": "python",
   "name": "python3"
  },
  "language_info": {
   "codemirror_mode": {
    "name": "ipython",
    "version": 3
   },
   "file_extension": ".py",
   "mimetype": "text/x-python",
   "name": "python",
   "nbconvert_exporter": "python",
   "pygments_lexer": "ipython3",
   "version": "3.7.4"
  }
 },
 "nbformat": 4,
 "nbformat_minor": 4
}
