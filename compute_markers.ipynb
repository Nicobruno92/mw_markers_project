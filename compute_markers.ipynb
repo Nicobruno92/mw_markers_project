{
 "cells": [
  {
   "cell_type": "code",
   "execution_count": 1,
   "metadata": {},
   "outputs": [
    {
     "name": "stdout",
     "output_type": "stream",
     "text": [
      "Using MNE with API > 0.19\n"
     ]
    }
   ],
   "source": [
    "import numpy as np\n",
    "import pandas as pd\n",
    "import matplotlib.pyplot as plt\n",
    "import mne \n",
    "from nice.markers import (KolmogorovComplexity, TimeLockedContrast, PowerSpectralDensityEstimator, PowerSpectralDensitySummary,\n",
    "                          PowerSpectralDensity, SymbolicMutualInformation, PermutationEntropy, TimeLockedTopography, ContingentNegativeVariation)\n",
    "\n",
    "import pycsd\n",
    "\n",
    "from utils import make_str_label, all_markers"
   ]
  },
  {
   "cell_type": "markdown",
   "metadata": {},
   "source": [
    "# Compute markers function"
   ]
  },
  {
   "cell_type": "code",
   "execution_count": 2,
   "metadata": {},
   "outputs": [],
   "source": [
    "def all_markers(epochs, tmin, tmax, target, epochs_erp = None):\n",
    "        \"\"\"\n",
    "        Computes all ther markers for given epochs.\n",
    "        epochs: the epochs from which to compute the markers\n",
    "        tmin: min time for computing markers \n",
    "        tmax: max time to compute markers\n",
    "        target: reduction target, epochs or topography\n",
    "        epochs_erp: if a different preprocessed epochs are used for computing ERP\n",
    "        \n",
    "        Evoked markers have already defined times\n",
    "        \"\"\"\n",
    "        if epochs_erp ==None:\n",
    "            epochs_erp = epochs\n",
    "        \n",
    "        from scipy.stats import trim_mean\n",
    "        \n",
    "        def trim_mean80(a, axis=0):\n",
    "            return trim_mean(a, proportiontocut=.1, axis=axis)       \n",
    "\n",
    "        # =============================================================================\n",
    "        # SPECTRAL MARKERS\n",
    "        # =============================================================================\n",
    "          #PowerSpectralDensityL\n",
    "        psds_params = dict(n_fft=4096, n_overlap=100, n_jobs='auto', nperseg=128)\n",
    "        base_psd = PowerSpectralDensityEstimator(\n",
    "            psd_method='welch', tmin=tmin, tmax=tmax, fmin=1., fmax=45.,\n",
    "            psd_params=psds_params, comment='default')\n",
    "        \n",
    "\n",
    "\n",
    "        ###alpha normalized###\n",
    "        alpha = PowerSpectralDensity(estimator=base_psd, fmin=8., fmax=13.,normalize=True, comment='alphan')\n",
    "        alpha.fit(epochs)\n",
    "\n",
    "        reduction_func = [{'axis': 'frequency', 'function': np.sum},\n",
    "             {'axis': 'channels', 'function': np.mean},\n",
    "             {'axis': 'epochs', 'function': trim_mean80}]\n",
    "        ###alpha normalized###\n",
    "        alpha = PowerSpectralDensity(estimator=base_psd, fmin=8., fmax=13.,normalize=True, comment='alpha')\n",
    "        alpha.fit(epochs)\n",
    "        dataalpha_n = alpha._reduce_to(reduction_func, target=target, picks=None)\n",
    "\n",
    "        #alpha\n",
    "        alpha = PowerSpectralDensity(estimator=base_psd, fmin=8., fmax=13.,normalize=False, comment='alpha')\n",
    "        alpha.fit(epochs)\n",
    "        dataalpha = alpha._reduce_to(reduction_func, target=target, picks=None)\n",
    "\n",
    "        #delta normalized\n",
    "        delta = PowerSpectralDensity(estimator=base_psd, fmin=1., fmax=4.,normalize=True, comment='delta')\n",
    "        delta.fit(epochs)\n",
    "        datadelta_n = delta._reduce_to(reduction_func, target=target, picks=None)\n",
    "\n",
    "\n",
    "        #delta\n",
    "        delta = PowerSpectralDensity(estimator=base_psd, fmin=1., fmax=4,normalize=False, comment='delta')\n",
    "        delta.fit(epochs)\n",
    "        datadelta = delta._reduce_to(reduction_func, target=target, picks=None)\n",
    "\n",
    "        #theta normalized\n",
    "        theta = PowerSpectralDensity(estimator=base_psd, fmin=4., fmax=8.,normalize=True, comment='theta')\n",
    "        theta.fit(epochs)\n",
    "        datatheta_n = theta._reduce_to(reduction_func, target=target, picks=None)\n",
    "\n",
    "\n",
    "        #theta\n",
    "        theta = PowerSpectralDensity(estimator=base_psd, fmin=4., fmax=8,normalize=False, comment='theta')\n",
    "        theta.fit(epochs)\n",
    "        datatheta = theta._reduce_to(reduction_func, target=target, picks=None)\n",
    "\n",
    "        #gamma normalized\n",
    "        gamma = PowerSpectralDensity(estimator=base_psd, fmin=30., fmax=45.,normalize=True, comment='gamma')\n",
    "        gamma.fit(epochs)\n",
    "        datagamma_n = gamma._reduce_to(reduction_func, target=target, picks=None)\n",
    "\n",
    "\n",
    "        #gamma\n",
    "        gamma = PowerSpectralDensity(estimator=base_psd, fmin=30., fmax=45,normalize=False, comment='theta')\n",
    "        gamma.fit(epochs)\n",
    "        datagamma = gamma._reduce_to(reduction_func, target=target, picks=None)\n",
    "\n",
    "        #beta normalized\n",
    "        beta = PowerSpectralDensity(estimator=base_psd, fmin=13., fmax=30.,normalize=True, comment='beta')\n",
    "        beta.fit(epochs)\n",
    "        databetaa_n = beta._reduce_to(reduction_func, target=target, picks=None)\n",
    "\n",
    "\n",
    "        #beta\n",
    "        beta = PowerSpectralDensity(estimator=base_psd, fmin=13., fmax=30,normalize=False, comment='beta')\n",
    "        beta.fit(epochs)\n",
    "        databeta = beta._reduce_to(reduction_func, target=target, picks=None)\n",
    "        \n",
    "        \n",
    "        \n",
    "        #Spectral Entropy\n",
    "        se = PowerSpectralDensity(estimator=base_psd, fmin=1., fmax=45.,\n",
    "                         normalize=True, comment='summary_se')\n",
    "        se.fit(epochs)\n",
    "        datase = se._reduce_to(reduction_func, target=target, picks=None)\n",
    "        \n",
    "        \n",
    "        reduction_func= [{'axis': 'channels', 'function': np.mean},\n",
    "             {'axis': 'epochs', 'function': trim_mean80}]\n",
    "        \n",
    "        msf = PowerSpectralDensitySummary(estimator=base_psd, fmin=1., fmax=45.,\n",
    "                                percentile=.5, comment='summary_msf')\n",
    "        msf.fit(epochs)\n",
    "        datamsf = msf._reduce_to(reduction_func, target=target, picks=None)\n",
    "        \n",
    "        sef90 = PowerSpectralDensitySummary(estimator=base_psd, fmin=1., fmax=45.,\n",
    "                                percentile=.9, comment='summary_sef90')\n",
    "        sef90.fit(epochs)\n",
    "        datasef90 = sef90._reduce_to(reduction_func, target=target, picks=None)\n",
    "        \n",
    "        sef95 = PowerSpectralDensitySummary(estimator=base_psd, fmin=1., fmax=45.,\n",
    "                                percentile=.95, comment='summary_sef95')\n",
    "        sef95.fit(epochs)\n",
    "        datasef95 = sef95._reduce_to(reduction_func, target=target, picks=None)\n",
    "\n",
    "        # =============================================================================\n",
    "        # INFORMATION THEORY MARKERS\n",
    "        # =============================================================================\n",
    "\n",
    "        komplexity = KolmogorovComplexity(tmin=tmin, tmax=tmax, backend='openmp')\n",
    "        komplexity.fit(epochs)\n",
    "        komplexityobject=komplexity.data_ ###Object to save, number of channels*number of epochs, it's ndarray\n",
    "        reduction_func= [{'axis': 'channels', 'function': np.mean},\n",
    "             {'axis': 'epochs', 'function': trim_mean80}]\n",
    "\n",
    "\n",
    "        datakomplexity = komplexity._reduce_to(reduction_func, target=target, picks=None)\n",
    "\n",
    "        \n",
    "        \n",
    "        \n",
    "        ### Permuttion entropy ###\n",
    "        p_e = PermutationEntropy(tmin=tmin, tmax=tmax, kernel=3, tau=1)\n",
    "        p_e.fit(epochs)\n",
    "        p_eobject = p_e.data_\n",
    "        datap_e1 = p_e._reduce_to(reduction_func, target=target, picks=None)\n",
    "        \n",
    "        ### Permuttion entropy ###\n",
    "        p_e = PermutationEntropy(tmin=tmin, tmax=tmax, kernel=3, tau=2)\n",
    "        p_e.fit(epochs)\n",
    "        p_eobject = p_e.data_\n",
    "        datap_e2 = p_e._reduce_to(reduction_func, target=target, picks=None)\n",
    "        \n",
    "        ### Permuttion entropy ###\n",
    "        p_e = PermutationEntropy(tmin=tmin, tmax=tmax, kernel=3, tau=4)\n",
    "        p_e.fit(epochs)\n",
    "        p_eobject = p_e.data_\n",
    "        datap_e4 = p_e._reduce_to(reduction_func, target=target, picks=None)\n",
    "        \n",
    "        ### Permuttion entropy theta###\n",
    "        p_e = PermutationEntropy(tmin=tmin, tmax=tmax, kernel=3, tau=8)\n",
    "        p_e.fit(epochs)\n",
    "        p_eobject = p_e.data_\n",
    "        datap_e8 = p_e._reduce_to(reduction_func, target=target, picks=None)\n",
    "\n",
    "        # =============================================================================\n",
    "        # wSMI MARKERS\n",
    "        # =============================================================================\n",
    "        reduction_func= [{'axis': 'channels_y', 'function': np.median},\n",
    "             {'axis': 'channels', 'function': np.mean},\n",
    "             {'axis': 'epochs', 'function': trim_mean80}]\n",
    "        \n",
    "        ###wSMI ###\n",
    "        wSMI = SymbolicMutualInformation(tmin=tmin, tmax=tmax, kernel=3, tau=1, backend=\"openmp\",\n",
    "                     method_params=None, method='weighted', comment='default')\n",
    "        wSMI.fit(epochs)\n",
    "        wSMIobject = wSMI.data_\n",
    "        datawSMI1 = wSMI._reduce_to(reduction_func, target=target, picks=None)\n",
    "        \n",
    "        ###wSMI ###\n",
    "        wSMI = SymbolicMutualInformation(tmin=tmin, tmax=tmax, kernel=3, tau=2, backend=\"openmp\",\n",
    "                     method_params=None, method='weighted', comment='default')\n",
    "        wSMI.fit(epochs)\n",
    "        wSMIobject = wSMI.data_\n",
    "        datawSMI2 = wSMI._reduce_to(reduction_func, target=target, picks=None)\n",
    "        \n",
    "        ###wSMI ###\n",
    "        wSMI = SymbolicMutualInformation(tmin=tmin, tmax=tmax, kernel=3, tau=4, backend=\"openmp\",\n",
    "                     method_params=None, method='weighted', comment='default')\n",
    "        wSMI.fit(epochs)\n",
    "        wSMIobject = wSMI.data_\n",
    "        datawSMI4 = wSMI._reduce_to(reduction_func, target=target, picks=None)\n",
    "        \n",
    "        ###wSMI ###\n",
    "        wSMI = SymbolicMutualInformation(tmin=tmin, tmax=tmax, kernel=3, tau=8, backend=\"openmp\",\n",
    "                     method_params=None, method='weighted', comment='default')\n",
    "        wSMI.fit(epochs)\n",
    "        wSMIobject = wSMI.data_\n",
    "        datawSMI8 = wSMI._reduce_to(reduction_func, target=target, picks=None)\n",
    "        \n",
    "        \n",
    "        # =============================================================================\n",
    "        # EVOKED MARKERS\n",
    "        # =============================================================================\n",
    "        \n",
    "        ###Contingent Negative Variation (CNV)###\n",
    "        cnv = ContingentNegativeVariation(tmin=-0.004, tmax=0.596)\n",
    "        \n",
    "        reduction_func = [{'axis': 'epochs', 'function': trim_mean80},\n",
    "             {'axis': 'channels', 'function': np.mean}]\n",
    "        \n",
    "        cnv.fit(epochs_erp)\n",
    "        cnv_chs= ['AF3', 'AFz', 'AF4', 'F1', 'Fz', 'F2', 'FC1', 'FCz', 'FC2']\n",
    "        roi_cnv = np.array(mne.pick_channels(epochs_erp.info['ch_names'], include=cnv_chs))\n",
    "        dataCNV = cnv._reduce_to(reduction_func, target=target, picks={\n",
    "        'epochs': None,\n",
    "        'channels': roi_cnv})\n",
    "        \n",
    "        ###P1###\n",
    "        reduction_func = [{'axis': 'epochs', 'function': trim_mean80},\n",
    "         {'axis': 'channels', 'function': np.mean},\n",
    "         {'axis': 'times', 'function': np.mean}]\n",
    "        p1 = TimeLockedTopography(tmin=0.068, tmax=0.116, comment='p1')\n",
    "        p1.fit(epochs_erp)\n",
    "        p1_chs= ['AF3', 'AFz', 'AF4', 'F1', 'Fz', 'F2', 'FC1', 'FCz', 'FC2']\n",
    "        roi_p1 = np.array(mne.pick_channels(epochs_erp.info['ch_names'], include=p1_chs))\n",
    "        dataP1 = p1._reduce_to(reduction_func, target=target, picks={\n",
    "        'epochs': None,\n",
    "        'channels': roi_p1,\n",
    "        'times':None})\n",
    "        \n",
    "        ###P3a###\n",
    "        p3a = TimeLockedTopography(tmin=0.28, tmax=0.34, comment='p3a')\n",
    "        reduction_func = [{'axis': 'epochs', 'function': trim_mean80},\n",
    "         {'axis': 'channels', 'function': np.mean},\n",
    "         {'axis': 'times', 'function': np.mean}]\n",
    "        p3a.fit(epochs_erp)\n",
    "        p3a_chs= ['AF3', 'AFz', 'AF4', 'F1', 'Fz', 'F2', 'FC1', 'FCz', 'FC2']\n",
    "        roi_p3a = np.array(mne.pick_channels(epochs_erp.info['ch_names'], include=p3a_chs))\n",
    "        dataP3a= p3a._reduce_to(reduction_func, target=target, picks={\n",
    "        'epochs': None,\n",
    "        'channels': roi_p3a,\n",
    "        'times':None})\n",
    "        \n",
    "        ###P3b###\n",
    "        p3b = TimeLockedTopography(tmin=0.4, tmax=0.6, comment='p3b')\n",
    "        reduction_func = [{'axis': 'epochs', 'function': trim_mean80},\n",
    "         {'axis': 'channels', 'function': np.mean},\n",
    "         {'axis': 'times', 'function': np.mean}]\n",
    "        p3b.fit(epochs_erp)\n",
    "        p3b_chs= ['FC1', 'FCz', 'FC2', 'C1', 'Cz','C2', 'CP1', 'CPz', 'CP2']\n",
    "        roi_p3b = np.array(mne.pick_channels(epochs_erp.info['ch_names'], include=p3b_chs))\n",
    "        dataP3b= p3b._reduce_to(reduction_func, target=target, picks={\n",
    "        'epochs': None,\n",
    "        'channels': roi_p3b,\n",
    "        'times':None})\n",
    "        \n",
    "        ###Dictionary with all the markers###\n",
    "        return {'wSMI_1':datawSMI1,'wSMI_2':datawSMI2,'wSMI_4':datawSMI4,'wSMI_8':datawSMI8, \n",
    "                'p_e_1':datap_e1,'p_e_2':datap_e2,'p_e_4':datap_e4,'p_e_8':datap_e8, \n",
    "                'k':datakomplexity, 'se':datase,\n",
    "                'msf': datamsf, 'sef90':datasef90, 'sef95':datasef95,\n",
    "                'b':databeta,'b_n':databetaa_n, 'g':datagamma, 'g_n':datagamma_n, \n",
    "                't':datatheta,'t_n': datatheta_n , 'd':datadelta, 'd_n':datadelta_n, \n",
    "                'a_n':dataalpha_n, 'a':dataalpha, \n",
    "                'CNV':dataCNV, 'P1':dataP1, 'P3a': dataP3a, 'P3b': dataP3b}\n"
   ]
  },
  {
   "cell_type": "code",
   "execution_count": 4,
   "metadata": {},
   "outputs": [],
   "source": [
    "epoch_type = 'evoked'\n",
    "# epoch_type = 'pseudo-rs'\n",
    "\n",
    "\n",
    "all_participants = ['VP07','VP08','VP09', 'VP10','VP11','VP12','VP13','VP14','VP18','VP19','VP20','VP22','VP23','VP24','VP25','VP26','VP27','VP28','VP29','VP30','VP31','VP32','VP33','VP35','VP36','VP37']\n",
    "\n",
    "\n",
    "path = '/media/nicolas.bruno/63f8a366-34b7-4896-a7ce-b5fb4ee78535/Nico/MW_eeg_data/minmarker/' #icm-linux\n",
    "# path = '/Users/nicobruno/ownCloud/MW_eeg_data/minmarker/' #nico-mac"
   ]
  },
  {
   "cell_type": "markdown",
   "metadata": {},
   "source": [
    "# Compute markers for all subjects"
   ]
  },
  {
   "cell_type": "code",
   "execution_count": 6,
   "metadata": {},
   "outputs": [
    {
     "name": "stdout",
     "output_type": "stream",
     "text": [
      "\n",
      "#########################################\n",
      "Computing markers for participant VP07\n",
      "#########################################\n",
      "\n",
      "Reading /media/nicolas.bruno/63f8a366-34b7-4896-a7ce-b5fb4ee78535/Nico/MW_eeg_data/minmarker/VP07/VP07_evoked_ar_subtracted_epo.fif ...\n",
      "    Found the data of interest:\n",
      "        t =    -200.00 ...     600.00 ms\n",
      "        0 CTF compensation matrices available\n",
      "Not setting metadata\n",
      "Not setting metadata\n",
      "174 matching events found\n",
      "No baseline correction applied\n",
      "0 projection items activated\n",
      "Autodetected number of jobs 24\n",
      "Effective window size : 16.384 (s)\n"
     ]
    },
    {
     "name": "stderr",
     "output_type": "stream",
     "text": [
      "[Parallel(n_jobs=24)]: Using backend LokyBackend with 24 concurrent workers.\n",
      "[Parallel(n_jobs=24)]: Done   6 out of  24 | elapsed:    3.9s remaining:   11.7s\n",
      "[Parallel(n_jobs=24)]: Done  11 out of  24 | elapsed:    4.0s remaining:    4.7s\n",
      "[Parallel(n_jobs=24)]: Done  16 out of  24 | elapsed:    4.1s remaining:    2.0s\n"
     ]
    },
    {
     "name": "stdout",
     "output_type": "stream",
     "text": [
      "Reduction order for nice/marker/PowerSpectralDensity/alpha: ['frequency', 'channels']\n",
      "Reduction order for nice/marker/PowerSpectralDensity/alpha: ['frequency', 'channels']\n",
      "Reduction order for nice/marker/PowerSpectralDensity/delta: ['frequency', 'channels']\n",
      "Reduction order for nice/marker/PowerSpectralDensity/delta: ['frequency', 'channels']\n",
      "Reduction order for nice/marker/PowerSpectralDensity/theta: ['frequency', 'channels']\n",
      "Reduction order for nice/marker/PowerSpectralDensity/theta: ['frequency', 'channels']\n",
      "Reduction order for nice/marker/PowerSpectralDensity/gamma: ['frequency', 'channels']\n",
      "Reduction order for nice/marker/PowerSpectralDensity/theta: ['frequency', 'channels']\n",
      "Reduction order for nice/marker/PowerSpectralDensity/beta: ['frequency', 'channels']\n",
      "Reduction order for nice/marker/PowerSpectralDensity/beta: ['frequency', 'channels']\n",
      "Reduction order for nice/marker/PowerSpectralDensity/summary_se: ['frequency', 'channels']\n"
     ]
    },
    {
     "name": "stderr",
     "output_type": "stream",
     "text": [
      "[Parallel(n_jobs=24)]: Done  21 out of  24 | elapsed:    4.1s remaining:    0.6s\n",
      "[Parallel(n_jobs=24)]: Done  24 out of  24 | elapsed:    4.1s finished\n",
      "/home/nicolas.bruno/anaconda3/lib/python3.7/site-packages/nice-0.1.dev0-py3.7.egg/nice/markers/spectral.py:128: RuntimeWarning: invalid value encountered in true_divide\n",
      "  self.data_norm_ = self.data_ / self.data_.sum(axis=-1)[..., None]\n",
      "/home/nicolas.bruno/anaconda3/lib/python3.7/site-packages/nice-0.1.dev0-py3.7.egg/nice/markers/spectral.py:220: RuntimeWarning: divide by zero encountered in log10\n",
      "  out = 10 * np.log10(out)\n"
     ]
    },
    {
     "name": "stdout",
     "output_type": "stream",
     "text": [
      "Reduction order for nice/marker/PowerSpectralDensitySummary/summary_msf: ['channels']\n",
      "Reduction order for nice/marker/PowerSpectralDensitySummary/summary_sef90: ['channels']\n",
      "Reduction order for nice/marker/PowerSpectralDensitySummary/summary_sef95: ['channels']\n",
      "Running KolmogorovComplexity\n",
      "Elapsed time 0.2449636459350586 sec\n",
      "Reduction order for nice/marker/KolmogorovComplexity/default: ['channels']\n",
      "Filtering  at 83.33 Hz\n",
      "Performing symbolic transformation\n",
      "Reduction order for nice/marker/PermutationEntropy/default: ['channels']\n",
      "Filtering  at 41.67 Hz\n",
      "Performing symbolic transformation\n"
     ]
    },
    {
     "name": "stderr",
     "output_type": "stream",
     "text": [
      "/home/nicolas.bruno/anaconda3/lib/python3.7/site-packages/nice-0.1.dev0-py3.7.egg/nice/algorithms/information_theory/permutation_entropy.py:75: RuntimeWarning: divide by zero encountered in log\n",
      "  pe = np.nan_to_num(-np.nansum(count * np.log(count), axis=1))\n",
      "/home/nicolas.bruno/anaconda3/lib/python3.7/site-packages/nice-0.1.dev0-py3.7.egg/nice/algorithms/information_theory/permutation_entropy.py:75: RuntimeWarning: invalid value encountered in multiply\n",
      "  pe = np.nan_to_num(-np.nansum(count * np.log(count), axis=1))\n"
     ]
    },
    {
     "name": "stdout",
     "output_type": "stream",
     "text": [
      "Reduction order for nice/marker/PermutationEntropy/default: ['channels']\n",
      "Filtering  at 20.83 Hz\n",
      "Performing symbolic transformation\n",
      "Reduction order for nice/marker/PermutationEntropy/default: ['channels']\n",
      "Filtering  at 10.42 Hz\n",
      "Performing symbolic transformation\n",
      "Reduction order for nice/marker/PermutationEntropy/default: ['channels']\n",
      "Autodetected number of jobs 2\n",
      "Computing CSD\n",
      "Using 10-5 locations for CSD\n",
      "Using 2 jobs\n"
     ]
    },
    {
     "name": "stderr",
     "output_type": "stream",
     "text": [
      "[Parallel(n_jobs=2)]: Using backend LokyBackend with 2 concurrent workers.\n",
      "[Parallel(n_jobs=2)]: Done  24 tasks      | elapsed:    1.7s\n"
     ]
    },
    {
     "name": "stdout",
     "output_type": "stream",
     "text": [
      "Filtering  at 83.33 Hz\n"
     ]
    },
    {
     "name": "stderr",
     "output_type": "stream",
     "text": [
      "[Parallel(n_jobs=2)]: Done 174 out of 174 | elapsed:    2.0s finished\n"
     ]
    },
    {
     "name": "stdout",
     "output_type": "stream",
     "text": [
      "Reduction order for nice/marker/SymbolicMutualInformation/default: ['channels_y', 'channels']\n",
      "Autodetected number of jobs 2\n",
      "Computing CSD\n",
      "Using 10-5 locations for CSD\n",
      "Using 2 jobs\n"
     ]
    },
    {
     "name": "stderr",
     "output_type": "stream",
     "text": [
      "[Parallel(n_jobs=2)]: Using backend LokyBackend with 2 concurrent workers.\n",
      "[Parallel(n_jobs=2)]: Done  58 tasks      | elapsed:    0.1s\n"
     ]
    },
    {
     "name": "stdout",
     "output_type": "stream",
     "text": [
      "Filtering  at 41.67 Hz\n"
     ]
    },
    {
     "name": "stderr",
     "output_type": "stream",
     "text": [
      "[Parallel(n_jobs=2)]: Done 174 out of 174 | elapsed:    0.2s finished\n"
     ]
    },
    {
     "name": "stdout",
     "output_type": "stream",
     "text": [
      "Reduction order for nice/marker/SymbolicMutualInformation/default: ['channels_y', 'channels']\n",
      "Autodetected number of jobs 2\n",
      "Computing CSD\n",
      "Using 10-5 locations for CSD\n",
      "Using 2 jobs\n"
     ]
    },
    {
     "name": "stderr",
     "output_type": "stream",
     "text": [
      "[Parallel(n_jobs=2)]: Using backend LokyBackend with 2 concurrent workers.\n",
      "[Parallel(n_jobs=2)]: Done 102 tasks      | elapsed:    0.2s\n"
     ]
    },
    {
     "name": "stdout",
     "output_type": "stream",
     "text": [
      "Filtering  at 20.83 Hz\n"
     ]
    },
    {
     "name": "stderr",
     "output_type": "stream",
     "text": [
      "[Parallel(n_jobs=2)]: Done 174 out of 174 | elapsed:    0.3s finished\n"
     ]
    },
    {
     "name": "stdout",
     "output_type": "stream",
     "text": [
      "Reduction order for nice/marker/SymbolicMutualInformation/default: ['channels_y', 'channels']\n",
      "Autodetected number of jobs 2\n",
      "Computing CSD\n",
      "Using 10-5 locations for CSD\n",
      "Using 2 jobs\n"
     ]
    },
    {
     "name": "stderr",
     "output_type": "stream",
     "text": [
      "[Parallel(n_jobs=2)]: Using backend LokyBackend with 2 concurrent workers.\n"
     ]
    },
    {
     "name": "stdout",
     "output_type": "stream",
     "text": [
      "Filtering  at 10.42 Hz\n"
     ]
    },
    {
     "name": "stderr",
     "output_type": "stream",
     "text": [
      "[Parallel(n_jobs=2)]: Done 134 tasks      | elapsed:    0.2s\n",
      "[Parallel(n_jobs=2)]: Done 174 out of 174 | elapsed:    0.3s finished\n"
     ]
    },
    {
     "name": "stdout",
     "output_type": "stream",
     "text": [
      "Reduction order for nice/marker/SymbolicMutualInformation/default: ['channels_y', 'channels']\n",
      "Reduction order for nice/marker/ContingentNegativeVariation/default: ['channels']\n",
      "Reduction order for nice/marker/TimeLockedTopography/p1: ['channels', 'times']\n",
      "Reduction order for nice/marker/TimeLockedTopography/p3a: ['channels', 'times']\n",
      "Reduction order for nice/marker/TimeLockedTopography/p3b: ['channels', 'times']\n",
      "Reading /media/nicolas.bruno/63f8a366-34b7-4896-a7ce-b5fb4ee78535/Nico/MW_eeg_data/minmarker/VP07/VP07_evoked_ar_rereferenced_epo.fif ...\n",
      "    Found the data of interest:\n",
      "        t =    -200.00 ...     600.00 ms\n",
      "        0 CTF compensation matrices available\n",
      "Not setting metadata\n",
      "Not setting metadata\n",
      "174 matching events found\n",
      "No baseline correction applied\n",
      "0 projection items activated\n",
      "Autodetected number of jobs 24\n",
      "Effective window size : 16.384 (s)\n"
     ]
    },
    {
     "name": "stderr",
     "output_type": "stream",
     "text": [
      "[Parallel(n_jobs=24)]: Using backend LokyBackend with 24 concurrent workers.\n",
      "[Parallel(n_jobs=24)]: Done   6 out of  24 | elapsed:    3.9s remaining:   11.7s\n",
      "[Parallel(n_jobs=24)]: Done  11 out of  24 | elapsed:    4.0s remaining:    4.7s\n",
      "[Parallel(n_jobs=24)]: Done  16 out of  24 | elapsed:    4.1s remaining:    2.0s\n"
     ]
    },
    {
     "name": "stdout",
     "output_type": "stream",
     "text": [
      "Reduction order for nice/marker/PowerSpectralDensity/alpha: ['frequency', 'channels']\n",
      "Reduction order for nice/marker/PowerSpectralDensity/alpha: ['frequency', 'channels']\n",
      "Reduction order for nice/marker/PowerSpectralDensity/delta: ['frequency', 'channels']\n",
      "Reduction order for nice/marker/PowerSpectralDensity/delta: ['frequency', 'channels']\n",
      "Reduction order for nice/marker/PowerSpectralDensity/theta: ['frequency', 'channels']\n",
      "Reduction order for nice/marker/PowerSpectralDensity/theta: ['frequency', 'channels']\n",
      "Reduction order for nice/marker/PowerSpectralDensity/gamma: ['frequency', 'channels']\n",
      "Reduction order for nice/marker/PowerSpectralDensity/theta: ['frequency', 'channels']\n",
      "Reduction order for nice/marker/PowerSpectralDensity/beta: ['frequency', 'channels']\n",
      "Reduction order for nice/marker/PowerSpectralDensity/beta: ['frequency', 'channels']\n"
     ]
    },
    {
     "name": "stderr",
     "output_type": "stream",
     "text": [
      "[Parallel(n_jobs=24)]: Done  21 out of  24 | elapsed:    4.1s remaining:    0.6s\n",
      "[Parallel(n_jobs=24)]: Done  24 out of  24 | elapsed:    4.2s finished\n"
     ]
    },
    {
     "name": "stdout",
     "output_type": "stream",
     "text": [
      "Reduction order for nice/marker/PowerSpectralDensity/summary_se: ['frequency', 'channels']\n",
      "Reduction order for nice/marker/PowerSpectralDensitySummary/summary_msf: ['channels']\n",
      "Reduction order for nice/marker/PowerSpectralDensitySummary/summary_sef90: ['channels']\n",
      "Reduction order for nice/marker/PowerSpectralDensitySummary/summary_sef95: ['channels']\n",
      "Running KolmogorovComplexity\n",
      "Elapsed time 0.2467961311340332 sec\n",
      "Reduction order for nice/marker/KolmogorovComplexity/default: ['channels']\n",
      "Filtering  at 83.33 Hz\n",
      "Performing symbolic transformation\n",
      "Reduction order for nice/marker/PermutationEntropy/default: ['channels']\n",
      "Filtering  at 41.67 Hz\n",
      "Performing symbolic transformation\n"
     ]
    },
    {
     "name": "stderr",
     "output_type": "stream",
     "text": [
      "/home/nicolas.bruno/anaconda3/lib/python3.7/site-packages/nice-0.1.dev0-py3.7.egg/nice/algorithms/information_theory/permutation_entropy.py:75: RuntimeWarning: divide by zero encountered in log\n",
      "  pe = np.nan_to_num(-np.nansum(count * np.log(count), axis=1))\n",
      "/home/nicolas.bruno/anaconda3/lib/python3.7/site-packages/nice-0.1.dev0-py3.7.egg/nice/algorithms/information_theory/permutation_entropy.py:75: RuntimeWarning: invalid value encountered in multiply\n",
      "  pe = np.nan_to_num(-np.nansum(count * np.log(count), axis=1))\n"
     ]
    },
    {
     "name": "stdout",
     "output_type": "stream",
     "text": [
      "Reduction order for nice/marker/PermutationEntropy/default: ['channels']\n",
      "Filtering  at 20.83 Hz\n",
      "Performing symbolic transformation\n",
      "Reduction order for nice/marker/PermutationEntropy/default: ['channels']\n",
      "Filtering  at 10.42 Hz\n",
      "Performing symbolic transformation\n",
      "Reduction order for nice/marker/PermutationEntropy/default: ['channels']\n",
      "Autodetected number of jobs 2\n",
      "Computing CSD\n",
      "Using 10-5 locations for CSD\n",
      "Using 2 jobs\n"
     ]
    },
    {
     "name": "stderr",
     "output_type": "stream",
     "text": [
      "[Parallel(n_jobs=2)]: Using backend LokyBackend with 2 concurrent workers.\n",
      "[Parallel(n_jobs=2)]: Done  18 tasks      | elapsed:    1.7s\n"
     ]
    },
    {
     "name": "stdout",
     "output_type": "stream",
     "text": [
      "Filtering  at 83.33 Hz\n"
     ]
    },
    {
     "name": "stderr",
     "output_type": "stream",
     "text": [
      "[Parallel(n_jobs=2)]: Done 174 out of 174 | elapsed:    2.0s finished\n"
     ]
    },
    {
     "name": "stdout",
     "output_type": "stream",
     "text": [
      "Reduction order for nice/marker/SymbolicMutualInformation/default: ['channels_y', 'channels']\n",
      "Autodetected number of jobs 2\n",
      "Computing CSD\n",
      "Using 10-5 locations for CSD\n",
      "Using 2 jobs\n"
     ]
    },
    {
     "name": "stderr",
     "output_type": "stream",
     "text": [
      "[Parallel(n_jobs=2)]: Using backend LokyBackend with 2 concurrent workers.\n"
     ]
    },
    {
     "name": "stdout",
     "output_type": "stream",
     "text": [
      "Filtering  at 41.67 Hz\n"
     ]
    },
    {
     "name": "stderr",
     "output_type": "stream",
     "text": [
      "[Parallel(n_jobs=2)]: Done 136 tasks      | elapsed:    0.3s\n",
      "[Parallel(n_jobs=2)]: Done 174 out of 174 | elapsed:    0.3s finished\n"
     ]
    },
    {
     "name": "stdout",
     "output_type": "stream",
     "text": [
      "Reduction order for nice/marker/SymbolicMutualInformation/default: ['channels_y', 'channels']\n",
      "Autodetected number of jobs 2\n",
      "Computing CSD\n",
      "Using 10-5 locations for CSD\n",
      "Using 2 jobs\n"
     ]
    },
    {
     "name": "stderr",
     "output_type": "stream",
     "text": [
      "[Parallel(n_jobs=2)]: Using backend LokyBackend with 2 concurrent workers.\n",
      "[Parallel(n_jobs=2)]: Done 134 tasks      | elapsed:    0.2s\n"
     ]
    },
    {
     "name": "stdout",
     "output_type": "stream",
     "text": [
      "Filtering  at 20.83 Hz\n"
     ]
    },
    {
     "name": "stderr",
     "output_type": "stream",
     "text": [
      "[Parallel(n_jobs=2)]: Done 174 out of 174 | elapsed:    0.3s finished\n"
     ]
    },
    {
     "name": "stdout",
     "output_type": "stream",
     "text": [
      "Reduction order for nice/marker/SymbolicMutualInformation/default: ['channels_y', 'channels']\n",
      "Autodetected number of jobs 2\n",
      "Computing CSD\n",
      "Using 10-5 locations for CSD\n",
      "Using 2 jobs\n"
     ]
    },
    {
     "name": "stderr",
     "output_type": "stream",
     "text": [
      "[Parallel(n_jobs=2)]: Using backend LokyBackend with 2 concurrent workers.\n"
     ]
    },
    {
     "name": "stdout",
     "output_type": "stream",
     "text": [
      "Filtering  at 10.42 Hz\n"
     ]
    },
    {
     "name": "stderr",
     "output_type": "stream",
     "text": [
      "[Parallel(n_jobs=2)]: Done 104 tasks      | elapsed:    0.2s\n",
      "[Parallel(n_jobs=2)]: Done 174 out of 174 | elapsed:    0.3s finished\n"
     ]
    },
    {
     "name": "stdout",
     "output_type": "stream",
     "text": [
      "Reduction order for nice/marker/SymbolicMutualInformation/default: ['channels_y', 'channels']\n",
      "Reduction order for nice/marker/ContingentNegativeVariation/default: ['channels']\n",
      "Reduction order for nice/marker/TimeLockedTopography/p1: ['channels', 'times']\n",
      "Reduction order for nice/marker/TimeLockedTopography/p3a: ['channels', 'times']\n",
      "Reduction order for nice/marker/TimeLockedTopography/p3b: ['channels', 'times']\n",
      "\n",
      "#########################################\n",
      "Computing markers for participant VP08\n",
      "#########################################\n",
      "\n",
      "Reading /media/nicolas.bruno/63f8a366-34b7-4896-a7ce-b5fb4ee78535/Nico/MW_eeg_data/minmarker/VP08/VP08_evoked_ar_subtracted_epo.fif ...\n",
      "    Found the data of interest:\n",
      "        t =    -200.00 ...     600.00 ms\n",
      "        0 CTF compensation matrices available\n",
      "Not setting metadata\n",
      "Not setting metadata\n",
      "433 matching events found\n",
      "No baseline correction applied\n",
      "0 projection items activated\n",
      "Autodetected number of jobs 24\n",
      "Effective window size : 16.384 (s)\n"
     ]
    },
    {
     "name": "stderr",
     "output_type": "stream",
     "text": [
      "[Parallel(n_jobs=24)]: Using backend LokyBackend with 24 concurrent workers.\n",
      "[Parallel(n_jobs=24)]: Done   6 out of  24 | elapsed:    4.6s remaining:   13.9s\n",
      "[Parallel(n_jobs=24)]: Done  11 out of  24 | elapsed:    4.8s remaining:    5.7s\n",
      "[Parallel(n_jobs=24)]: Done  16 out of  24 | elapsed:    4.9s remaining:    2.5s\n",
      "[Parallel(n_jobs=24)]: Done  21 out of  24 | elapsed:    5.0s remaining:    0.7s\n",
      "[Parallel(n_jobs=24)]: Done  24 out of  24 | elapsed:    5.1s finished\n"
     ]
    },
    {
     "name": "stdout",
     "output_type": "stream",
     "text": [
      "Reduction order for nice/marker/PowerSpectralDensity/alpha: ['frequency', 'channels']\n",
      "Reduction order for nice/marker/PowerSpectralDensity/alpha: ['frequency', 'channels']\n",
      "Reduction order for nice/marker/PowerSpectralDensity/delta: ['frequency', 'channels']\n",
      "Reduction order for nice/marker/PowerSpectralDensity/delta: ['frequency', 'channels']\n",
      "Reduction order for nice/marker/PowerSpectralDensity/theta: ['frequency', 'channels']\n",
      "Reduction order for nice/marker/PowerSpectralDensity/theta: ['frequency', 'channels']\n",
      "Reduction order for nice/marker/PowerSpectralDensity/gamma: ['frequency', 'channels']\n",
      "Reduction order for nice/marker/PowerSpectralDensity/theta: ['frequency', 'channels']\n",
      "Reduction order for nice/marker/PowerSpectralDensity/beta: ['frequency', 'channels']\n",
      "Reduction order for nice/marker/PowerSpectralDensity/beta: ['frequency', 'channels']\n",
      "Reduction order for nice/marker/PowerSpectralDensity/summary_se: ['frequency', 'channels']\n"
     ]
    },
    {
     "name": "stderr",
     "output_type": "stream",
     "text": [
      "/home/nicolas.bruno/anaconda3/lib/python3.7/site-packages/nice-0.1.dev0-py3.7.egg/nice/markers/spectral.py:128: RuntimeWarning: invalid value encountered in true_divide\n",
      "  self.data_norm_ = self.data_ / self.data_.sum(axis=-1)[..., None]\n",
      "/home/nicolas.bruno/anaconda3/lib/python3.7/site-packages/nice-0.1.dev0-py3.7.egg/nice/markers/spectral.py:220: RuntimeWarning: divide by zero encountered in log10\n",
      "  out = 10 * np.log10(out)\n"
     ]
    },
    {
     "name": "stdout",
     "output_type": "stream",
     "text": [
      "Reduction order for nice/marker/PowerSpectralDensitySummary/summary_msf: ['channels']\n",
      "Reduction order for nice/marker/PowerSpectralDensitySummary/summary_sef90: ['channels']\n",
      "Reduction order for nice/marker/PowerSpectralDensitySummary/summary_sef95: ['channels']\n",
      "Running KolmogorovComplexity\n",
      "Elapsed time 0.636951208114624 sec\n",
      "Reduction order for nice/marker/KolmogorovComplexity/default: ['channels']\n",
      "Filtering  at 83.33 Hz\n",
      "Performing symbolic transformation\n",
      "Reduction order for nice/marker/PermutationEntropy/default: ['channels']\n",
      "Filtering  at 41.67 Hz\n"
     ]
    },
    {
     "name": "stderr",
     "output_type": "stream",
     "text": [
      "/home/nicolas.bruno/anaconda3/lib/python3.7/site-packages/nice-0.1.dev0-py3.7.egg/nice/algorithms/information_theory/permutation_entropy.py:75: RuntimeWarning: divide by zero encountered in log\n",
      "  pe = np.nan_to_num(-np.nansum(count * np.log(count), axis=1))\n",
      "/home/nicolas.bruno/anaconda3/lib/python3.7/site-packages/nice-0.1.dev0-py3.7.egg/nice/algorithms/information_theory/permutation_entropy.py:75: RuntimeWarning: invalid value encountered in multiply\n",
      "  pe = np.nan_to_num(-np.nansum(count * np.log(count), axis=1))\n"
     ]
    },
    {
     "name": "stdout",
     "output_type": "stream",
     "text": [
      "Performing symbolic transformation\n",
      "Reduction order for nice/marker/PermutationEntropy/default: ['channels']\n",
      "Filtering  at 20.83 Hz\n",
      "Performing symbolic transformation\n",
      "Reduction order for nice/marker/PermutationEntropy/default: ['channels']\n",
      "Filtering  at 10.42 Hz\n",
      "Performing symbolic transformation\n",
      "Reduction order for nice/marker/PermutationEntropy/default: ['channels']\n",
      "Autodetected number of jobs 2\n",
      "Computing CSD\n",
      "Using 10-5 locations for CSD\n",
      "Using 2 jobs\n"
     ]
    },
    {
     "name": "stderr",
     "output_type": "stream",
     "text": [
      "[Parallel(n_jobs=2)]: Using backend LokyBackend with 2 concurrent workers.\n",
      "[Parallel(n_jobs=2)]: Done  18 tasks      | elapsed:    1.7s\n"
     ]
    },
    {
     "name": "stdout",
     "output_type": "stream",
     "text": [
      "Filtering  at 83.33 Hz\n"
     ]
    },
    {
     "name": "stderr",
     "output_type": "stream",
     "text": [
      "[Parallel(n_jobs=2)]: Done 433 out of 433 | elapsed:    2.2s finished\n"
     ]
    },
    {
     "name": "stdout",
     "output_type": "stream",
     "text": [
      "Reduction order for nice/marker/SymbolicMutualInformation/default: ['channels_y', 'channels']\n",
      "Autodetected number of jobs 2\n",
      "Computing CSD\n",
      "Using 10-5 locations for CSD\n",
      "Using 2 jobs\n"
     ]
    },
    {
     "name": "stderr",
     "output_type": "stream",
     "text": [
      "[Parallel(n_jobs=2)]: Using backend LokyBackend with 2 concurrent workers.\n",
      "[Parallel(n_jobs=2)]: Done 270 tasks      | elapsed:    0.3s\n",
      "[Parallel(n_jobs=2)]: Done 433 out of 433 | elapsed:    0.5s finished\n"
     ]
    },
    {
     "name": "stdout",
     "output_type": "stream",
     "text": [
      "Filtering  at 41.67 Hz\n",
      "Reduction order for nice/marker/SymbolicMutualInformation/default: ['channels_y', 'channels']\n",
      "Autodetected number of jobs 2\n",
      "Computing CSD\n",
      "Using 10-5 locations for CSD\n",
      "Using 2 jobs\n"
     ]
    },
    {
     "name": "stderr",
     "output_type": "stream",
     "text": [
      "[Parallel(n_jobs=2)]: Using backend LokyBackend with 2 concurrent workers.\n",
      "[Parallel(n_jobs=2)]: Done 270 tasks      | elapsed:    0.3s\n",
      "[Parallel(n_jobs=2)]: Done 433 out of 433 | elapsed:    0.5s finished\n"
     ]
    },
    {
     "name": "stdout",
     "output_type": "stream",
     "text": [
      "Filtering  at 20.83 Hz\n",
      "Reduction order for nice/marker/SymbolicMutualInformation/default: ['channels_y', 'channels']\n",
      "Autodetected number of jobs 2\n",
      "Computing CSD\n",
      "Using 10-5 locations for CSD\n",
      "Using 2 jobs\n"
     ]
    },
    {
     "name": "stderr",
     "output_type": "stream",
     "text": [
      "[Parallel(n_jobs=2)]: Using backend LokyBackend with 2 concurrent workers.\n"
     ]
    },
    {
     "name": "stdout",
     "output_type": "stream",
     "text": [
      "Filtering  at 10.42 Hz\n"
     ]
    },
    {
     "name": "stderr",
     "output_type": "stream",
     "text": [
      "[Parallel(n_jobs=2)]: Done 270 tasks      | elapsed:    0.3s\n",
      "[Parallel(n_jobs=2)]: Done 433 out of 433 | elapsed:    0.5s finished\n"
     ]
    },
    {
     "name": "stdout",
     "output_type": "stream",
     "text": [
      "Reduction order for nice/marker/SymbolicMutualInformation/default: ['channels_y', 'channels']\n",
      "Reduction order for nice/marker/ContingentNegativeVariation/default: ['channels']\n",
      "Reduction order for nice/marker/TimeLockedTopography/p1: ['channels', 'times']\n",
      "Reduction order for nice/marker/TimeLockedTopography/p3a: ['channels', 'times']\n",
      "Reduction order for nice/marker/TimeLockedTopography/p3b: ['channels', 'times']\n",
      "Reading /media/nicolas.bruno/63f8a366-34b7-4896-a7ce-b5fb4ee78535/Nico/MW_eeg_data/minmarker/VP08/VP08_evoked_ar_rereferenced_epo.fif ...\n",
      "    Found the data of interest:\n",
      "        t =    -200.00 ...     600.00 ms\n",
      "        0 CTF compensation matrices available\n",
      "Not setting metadata\n",
      "Not setting metadata\n",
      "433 matching events found\n",
      "No baseline correction applied\n",
      "0 projection items activated\n",
      "Autodetected number of jobs 24\n",
      "Effective window size : 16.384 (s)\n"
     ]
    },
    {
     "name": "stderr",
     "output_type": "stream",
     "text": [
      "[Parallel(n_jobs=24)]: Using backend LokyBackend with 24 concurrent workers.\n",
      "[Parallel(n_jobs=24)]: Done   6 out of  24 | elapsed:    4.6s remaining:   13.9s\n",
      "[Parallel(n_jobs=24)]: Done  11 out of  24 | elapsed:    4.8s remaining:    5.6s\n",
      "[Parallel(n_jobs=24)]: Done  16 out of  24 | elapsed:    4.9s remaining:    2.5s\n",
      "[Parallel(n_jobs=24)]: Done  21 out of  24 | elapsed:    5.0s remaining:    0.7s\n",
      "[Parallel(n_jobs=24)]: Done  24 out of  24 | elapsed:    5.1s finished\n"
     ]
    },
    {
     "name": "stdout",
     "output_type": "stream",
     "text": [
      "Reduction order for nice/marker/PowerSpectralDensity/alpha: ['frequency', 'channels']\n",
      "Reduction order for nice/marker/PowerSpectralDensity/alpha: ['frequency', 'channels']\n",
      "Reduction order for nice/marker/PowerSpectralDensity/delta: ['frequency', 'channels']\n",
      "Reduction order for nice/marker/PowerSpectralDensity/delta: ['frequency', 'channels']\n",
      "Reduction order for nice/marker/PowerSpectralDensity/theta: ['frequency', 'channels']\n",
      "Reduction order for nice/marker/PowerSpectralDensity/theta: ['frequency', 'channels']\n",
      "Reduction order for nice/marker/PowerSpectralDensity/gamma: ['frequency', 'channels']\n",
      "Reduction order for nice/marker/PowerSpectralDensity/theta: ['frequency', 'channels']\n",
      "Reduction order for nice/marker/PowerSpectralDensity/beta: ['frequency', 'channels']\n",
      "Reduction order for nice/marker/PowerSpectralDensity/beta: ['frequency', 'channels']\n",
      "Reduction order for nice/marker/PowerSpectralDensity/summary_se: ['frequency', 'channels']\n",
      "Reduction order for nice/marker/PowerSpectralDensitySummary/summary_msf: ['channels']\n",
      "Reduction order for nice/marker/PowerSpectralDensitySummary/summary_sef90: ['channels']\n",
      "Reduction order for nice/marker/PowerSpectralDensitySummary/summary_sef95: ['channels']\n",
      "Running KolmogorovComplexity\n",
      "Elapsed time 0.628525972366333 sec\n",
      "Reduction order for nice/marker/KolmogorovComplexity/default: ['channels']\n",
      "Filtering  at 83.33 Hz\n",
      "Performing symbolic transformation\n",
      "Reduction order for nice/marker/PermutationEntropy/default: ['channels']\n",
      "Filtering  at 41.67 Hz\n"
     ]
    },
    {
     "name": "stderr",
     "output_type": "stream",
     "text": [
      "/home/nicolas.bruno/anaconda3/lib/python3.7/site-packages/nice-0.1.dev0-py3.7.egg/nice/algorithms/information_theory/permutation_entropy.py:75: RuntimeWarning: divide by zero encountered in log\n",
      "  pe = np.nan_to_num(-np.nansum(count * np.log(count), axis=1))\n",
      "/home/nicolas.bruno/anaconda3/lib/python3.7/site-packages/nice-0.1.dev0-py3.7.egg/nice/algorithms/information_theory/permutation_entropy.py:75: RuntimeWarning: invalid value encountered in multiply\n",
      "  pe = np.nan_to_num(-np.nansum(count * np.log(count), axis=1))\n"
     ]
    },
    {
     "name": "stdout",
     "output_type": "stream",
     "text": [
      "Performing symbolic transformation\n",
      "Reduction order for nice/marker/PermutationEntropy/default: ['channels']\n",
      "Filtering  at 20.83 Hz\n",
      "Performing symbolic transformation\n",
      "Reduction order for nice/marker/PermutationEntropy/default: ['channels']\n",
      "Filtering  at 10.42 Hz\n",
      "Performing symbolic transformation\n",
      "Reduction order for nice/marker/PermutationEntropy/default: ['channels']\n",
      "Autodetected number of jobs 2\n",
      "Computing CSD\n",
      "Using 10-5 locations for CSD\n",
      "Using 2 jobs\n"
     ]
    },
    {
     "name": "stderr",
     "output_type": "stream",
     "text": [
      "[Parallel(n_jobs=2)]: Using backend LokyBackend with 2 concurrent workers.\n",
      "[Parallel(n_jobs=2)]: Done  18 tasks      | elapsed:    1.7s\n"
     ]
    },
    {
     "name": "stdout",
     "output_type": "stream",
     "text": [
      "Filtering  at 83.33 Hz\n"
     ]
    },
    {
     "name": "stderr",
     "output_type": "stream",
     "text": [
      "[Parallel(n_jobs=2)]: Done 433 out of 433 | elapsed:    2.2s finished\n"
     ]
    },
    {
     "name": "stdout",
     "output_type": "stream",
     "text": [
      "Reduction order for nice/marker/SymbolicMutualInformation/default: ['channels_y', 'channels']\n",
      "Autodetected number of jobs 2\n",
      "Computing CSD\n",
      "Using 10-5 locations for CSD\n",
      "Using 2 jobs\n"
     ]
    },
    {
     "name": "stderr",
     "output_type": "stream",
     "text": [
      "[Parallel(n_jobs=2)]: Using backend LokyBackend with 2 concurrent workers.\n",
      "[Parallel(n_jobs=2)]: Done 270 tasks      | elapsed:    0.4s\n",
      "[Parallel(n_jobs=2)]: Done 433 out of 433 | elapsed:    0.6s finished\n"
     ]
    },
    {
     "name": "stdout",
     "output_type": "stream",
     "text": [
      "Filtering  at 41.67 Hz\n",
      "Reduction order for nice/marker/SymbolicMutualInformation/default: ['channels_y', 'channels']\n",
      "Autodetected number of jobs 2\n",
      "Computing CSD\n",
      "Using 10-5 locations for CSD\n",
      "Using 2 jobs\n"
     ]
    },
    {
     "name": "stderr",
     "output_type": "stream",
     "text": [
      "[Parallel(n_jobs=2)]: Using backend LokyBackend with 2 concurrent workers.\n"
     ]
    },
    {
     "name": "stdout",
     "output_type": "stream",
     "text": [
      "Filtering  at 20.83 Hz\n"
     ]
    },
    {
     "name": "stderr",
     "output_type": "stream",
     "text": [
      "[Parallel(n_jobs=2)]: Done 270 tasks      | elapsed:    0.3s\n",
      "[Parallel(n_jobs=2)]: Done 433 out of 433 | elapsed:    0.5s finished\n"
     ]
    },
    {
     "name": "stdout",
     "output_type": "stream",
     "text": [
      "Reduction order for nice/marker/SymbolicMutualInformation/default: ['channels_y', 'channels']\n",
      "Autodetected number of jobs 2\n",
      "Computing CSD\n",
      "Using 10-5 locations for CSD\n",
      "Using 2 jobs\n"
     ]
    },
    {
     "name": "stderr",
     "output_type": "stream",
     "text": [
      "[Parallel(n_jobs=2)]: Using backend LokyBackend with 2 concurrent workers.\n",
      "[Parallel(n_jobs=2)]: Done 270 tasks      | elapsed:    0.3s\n",
      "[Parallel(n_jobs=2)]: Done 433 out of 433 | elapsed:    0.5s finished\n"
     ]
    },
    {
     "name": "stdout",
     "output_type": "stream",
     "text": [
      "Filtering  at 10.42 Hz\n",
      "Reduction order for nice/marker/SymbolicMutualInformation/default: ['channels_y', 'channels']\n",
      "Reduction order for nice/marker/ContingentNegativeVariation/default: ['channels']\n",
      "Reduction order for nice/marker/TimeLockedTopography/p1: ['channels', 'times']\n",
      "Reduction order for nice/marker/TimeLockedTopography/p3a: ['channels', 'times']\n",
      "Reduction order for nice/marker/TimeLockedTopography/p3b: ['channels', 'times']\n",
      "\n",
      "#########################################\n",
      "Computing markers for participant VP09\n",
      "#########################################\n",
      "\n",
      "Reading /media/nicolas.bruno/63f8a366-34b7-4896-a7ce-b5fb4ee78535/Nico/MW_eeg_data/minmarker/VP09/VP09_evoked_ar_subtracted_epo.fif ...\n",
      "    Found the data of interest:\n",
      "        t =    -200.00 ...     600.00 ms\n",
      "        0 CTF compensation matrices available\n",
      "Not setting metadata\n",
      "Not setting metadata\n",
      "334 matching events found\n",
      "No baseline correction applied\n",
      "0 projection items activated\n",
      "Autodetected number of jobs 24\n",
      "Effective window size : 16.384 (s)\n"
     ]
    },
    {
     "name": "stderr",
     "output_type": "stream",
     "text": [
      "[Parallel(n_jobs=24)]: Using backend LokyBackend with 24 concurrent workers.\n",
      "[Parallel(n_jobs=24)]: Done   6 out of  24 | elapsed:    4.4s remaining:   13.3s\n",
      "[Parallel(n_jobs=24)]: Done  11 out of  24 | elapsed:    4.6s remaining:    5.4s\n",
      "[Parallel(n_jobs=24)]: Done  16 out of  24 | elapsed:    4.7s remaining:    2.3s\n",
      "[Parallel(n_jobs=24)]: Done  21 out of  24 | elapsed:    4.8s remaining:    0.7s\n",
      "[Parallel(n_jobs=24)]: Done  24 out of  24 | elapsed:    4.9s finished\n"
     ]
    },
    {
     "name": "stdout",
     "output_type": "stream",
     "text": [
      "Reduction order for nice/marker/PowerSpectralDensity/alpha: ['frequency', 'channels']\n",
      "Reduction order for nice/marker/PowerSpectralDensity/alpha: ['frequency', 'channels']\n",
      "Reduction order for nice/marker/PowerSpectralDensity/delta: ['frequency', 'channels']\n",
      "Reduction order for nice/marker/PowerSpectralDensity/delta: ['frequency', 'channels']\n",
      "Reduction order for nice/marker/PowerSpectralDensity/theta: ['frequency', 'channels']\n",
      "Reduction order for nice/marker/PowerSpectralDensity/theta: ['frequency', 'channels']\n",
      "Reduction order for nice/marker/PowerSpectralDensity/gamma: ['frequency', 'channels']\n",
      "Reduction order for nice/marker/PowerSpectralDensity/theta: ['frequency', 'channels']\n",
      "Reduction order for nice/marker/PowerSpectralDensity/beta: ['frequency', 'channels']\n",
      "Reduction order for nice/marker/PowerSpectralDensity/beta: ['frequency', 'channels']\n",
      "Reduction order for nice/marker/PowerSpectralDensity/summary_se: ['frequency', 'channels']\n"
     ]
    },
    {
     "name": "stderr",
     "output_type": "stream",
     "text": [
      "/home/nicolas.bruno/anaconda3/lib/python3.7/site-packages/nice-0.1.dev0-py3.7.egg/nice/markers/spectral.py:128: RuntimeWarning: invalid value encountered in true_divide\n",
      "  self.data_norm_ = self.data_ / self.data_.sum(axis=-1)[..., None]\n",
      "/home/nicolas.bruno/anaconda3/lib/python3.7/site-packages/nice-0.1.dev0-py3.7.egg/nice/markers/spectral.py:220: RuntimeWarning: divide by zero encountered in log10\n",
      "  out = 10 * np.log10(out)\n"
     ]
    },
    {
     "name": "stdout",
     "output_type": "stream",
     "text": [
      "Reduction order for nice/marker/PowerSpectralDensitySummary/summary_msf: ['channels']\n",
      "Reduction order for nice/marker/PowerSpectralDensitySummary/summary_sef90: ['channels']\n",
      "Reduction order for nice/marker/PowerSpectralDensitySummary/summary_sef95: ['channels']\n",
      "Running KolmogorovComplexity\n",
      "Elapsed time 0.46939706802368164 sec\n",
      "Reduction order for nice/marker/KolmogorovComplexity/default: ['channels']\n",
      "Filtering  at 83.33 Hz\n",
      "Performing symbolic transformation\n",
      "Reduction order for nice/marker/PermutationEntropy/default: ['channels']\n",
      "Filtering  at 41.67 Hz\n",
      "Performing symbolic transformation\n"
     ]
    },
    {
     "name": "stderr",
     "output_type": "stream",
     "text": [
      "/home/nicolas.bruno/anaconda3/lib/python3.7/site-packages/nice-0.1.dev0-py3.7.egg/nice/algorithms/information_theory/permutation_entropy.py:75: RuntimeWarning: divide by zero encountered in log\n",
      "  pe = np.nan_to_num(-np.nansum(count * np.log(count), axis=1))\n",
      "/home/nicolas.bruno/anaconda3/lib/python3.7/site-packages/nice-0.1.dev0-py3.7.egg/nice/algorithms/information_theory/permutation_entropy.py:75: RuntimeWarning: invalid value encountered in multiply\n",
      "  pe = np.nan_to_num(-np.nansum(count * np.log(count), axis=1))\n"
     ]
    },
    {
     "name": "stdout",
     "output_type": "stream",
     "text": [
      "Reduction order for nice/marker/PermutationEntropy/default: ['channels']\n",
      "Filtering  at 20.83 Hz\n",
      "Performing symbolic transformation\n",
      "Reduction order for nice/marker/PermutationEntropy/default: ['channels']\n",
      "Filtering  at 10.42 Hz\n",
      "Performing symbolic transformation\n",
      "Reduction order for nice/marker/PermutationEntropy/default: ['channels']\n",
      "Autodetected number of jobs 2\n",
      "Computing CSD\n",
      "Using 10-5 locations for CSD\n",
      "Using 2 jobs\n"
     ]
    },
    {
     "name": "stderr",
     "output_type": "stream",
     "text": [
      "[Parallel(n_jobs=2)]: Using backend LokyBackend with 2 concurrent workers.\n",
      "[Parallel(n_jobs=2)]: Done  18 tasks      | elapsed:    1.7s\n"
     ]
    },
    {
     "name": "stdout",
     "output_type": "stream",
     "text": [
      "Filtering  at 83.33 Hz\n"
     ]
    },
    {
     "name": "stderr",
     "output_type": "stream",
     "text": [
      "[Parallel(n_jobs=2)]: Done 334 out of 334 | elapsed:    2.1s finished\n"
     ]
    },
    {
     "name": "stdout",
     "output_type": "stream",
     "text": [
      "Reduction order for nice/marker/SymbolicMutualInformation/default: ['channels_y', 'channels']\n",
      "Autodetected number of jobs 2\n",
      "Computing CSD\n",
      "Using 10-5 locations for CSD\n",
      "Using 2 jobs\n"
     ]
    },
    {
     "name": "stderr",
     "output_type": "stream",
     "text": [
      "[Parallel(n_jobs=2)]: Using backend LokyBackend with 2 concurrent workers.\n"
     ]
    },
    {
     "name": "stdout",
     "output_type": "stream",
     "text": [
      "Filtering  at 41.67 Hz\n"
     ]
    },
    {
     "name": "stderr",
     "output_type": "stream",
     "text": [
      "[Parallel(n_jobs=2)]: Done 202 tasks      | elapsed:    0.3s\n",
      "[Parallel(n_jobs=2)]: Done 334 out of 334 | elapsed:    0.4s finished\n"
     ]
    },
    {
     "name": "stdout",
     "output_type": "stream",
     "text": [
      "Reduction order for nice/marker/SymbolicMutualInformation/default: ['channels_y', 'channels']\n",
      "Autodetected number of jobs 2\n",
      "Computing CSD\n",
      "Using 10-5 locations for CSD\n",
      "Using 2 jobs\n"
     ]
    },
    {
     "name": "stderr",
     "output_type": "stream",
     "text": [
      "[Parallel(n_jobs=2)]: Using backend LokyBackend with 2 concurrent workers.\n"
     ]
    },
    {
     "name": "stdout",
     "output_type": "stream",
     "text": [
      "Filtering  at 20.83 Hz\n"
     ]
    },
    {
     "name": "stderr",
     "output_type": "stream",
     "text": [
      "[Parallel(n_jobs=2)]: Done 202 tasks      | elapsed:    0.3s\n",
      "[Parallel(n_jobs=2)]: Done 334 out of 334 | elapsed:    0.4s finished\n"
     ]
    },
    {
     "name": "stdout",
     "output_type": "stream",
     "text": [
      "Reduction order for nice/marker/SymbolicMutualInformation/default: ['channels_y', 'channels']\n",
      "Autodetected number of jobs 2\n",
      "Computing CSD\n",
      "Using 10-5 locations for CSD\n",
      "Using 2 jobs\n"
     ]
    },
    {
     "name": "stderr",
     "output_type": "stream",
     "text": [
      "[Parallel(n_jobs=2)]: Using backend LokyBackend with 2 concurrent workers.\n"
     ]
    },
    {
     "name": "stdout",
     "output_type": "stream",
     "text": [
      "Filtering  at 10.42 Hz\n"
     ]
    },
    {
     "name": "stderr",
     "output_type": "stream",
     "text": [
      "[Parallel(n_jobs=2)]: Done 262 tasks      | elapsed:    0.4s\n",
      "[Parallel(n_jobs=2)]: Done 334 out of 334 | elapsed:    0.4s finished\n"
     ]
    },
    {
     "name": "stdout",
     "output_type": "stream",
     "text": [
      "Reduction order for nice/marker/SymbolicMutualInformation/default: ['channels_y', 'channels']\n",
      "Reduction order for nice/marker/ContingentNegativeVariation/default: ['channels']\n",
      "Reduction order for nice/marker/TimeLockedTopography/p1: ['channels', 'times']\n",
      "Reduction order for nice/marker/TimeLockedTopography/p3a: ['channels', 'times']\n",
      "Reduction order for nice/marker/TimeLockedTopography/p3b: ['channels', 'times']\n",
      "Reading /media/nicolas.bruno/63f8a366-34b7-4896-a7ce-b5fb4ee78535/Nico/MW_eeg_data/minmarker/VP09/VP09_evoked_ar_rereferenced_epo.fif ...\n",
      "    Found the data of interest:\n",
      "        t =    -200.00 ...     600.00 ms\n",
      "        0 CTF compensation matrices available\n",
      "Not setting metadata\n",
      "Not setting metadata\n",
      "334 matching events found\n",
      "No baseline correction applied\n",
      "0 projection items activated\n",
      "Autodetected number of jobs 24\n",
      "Effective window size : 16.384 (s)\n"
     ]
    },
    {
     "name": "stderr",
     "output_type": "stream",
     "text": [
      "[Parallel(n_jobs=24)]: Using backend LokyBackend with 24 concurrent workers.\n",
      "[Parallel(n_jobs=24)]: Done   6 out of  24 | elapsed:    4.4s remaining:   13.3s\n",
      "[Parallel(n_jobs=24)]: Done  11 out of  24 | elapsed:    4.5s remaining:    5.4s\n",
      "[Parallel(n_jobs=24)]: Done  16 out of  24 | elapsed:    4.6s remaining:    2.3s\n",
      "[Parallel(n_jobs=24)]: Done  21 out of  24 | elapsed:    4.8s remaining:    0.7s\n",
      "[Parallel(n_jobs=24)]: Done  24 out of  24 | elapsed:    4.8s finished\n"
     ]
    },
    {
     "name": "stdout",
     "output_type": "stream",
     "text": [
      "Reduction order for nice/marker/PowerSpectralDensity/alpha: ['frequency', 'channels']\n",
      "Reduction order for nice/marker/PowerSpectralDensity/alpha: ['frequency', 'channels']\n",
      "Reduction order for nice/marker/PowerSpectralDensity/delta: ['frequency', 'channels']\n",
      "Reduction order for nice/marker/PowerSpectralDensity/delta: ['frequency', 'channels']\n",
      "Reduction order for nice/marker/PowerSpectralDensity/theta: ['frequency', 'channels']\n",
      "Reduction order for nice/marker/PowerSpectralDensity/theta: ['frequency', 'channels']\n",
      "Reduction order for nice/marker/PowerSpectralDensity/gamma: ['frequency', 'channels']\n",
      "Reduction order for nice/marker/PowerSpectralDensity/theta: ['frequency', 'channels']\n",
      "Reduction order for nice/marker/PowerSpectralDensity/beta: ['frequency', 'channels']\n",
      "Reduction order for nice/marker/PowerSpectralDensity/beta: ['frequency', 'channels']\n",
      "Reduction order for nice/marker/PowerSpectralDensity/summary_se: ['frequency', 'channels']\n",
      "Reduction order for nice/marker/PowerSpectralDensitySummary/summary_msf: ['channels']\n",
      "Reduction order for nice/marker/PowerSpectralDensitySummary/summary_sef90: ['channels']\n",
      "Reduction order for nice/marker/PowerSpectralDensitySummary/summary_sef95: ['channels']\n",
      "Running KolmogorovComplexity\n",
      "Elapsed time 0.4773421287536621 sec\n",
      "Reduction order for nice/marker/KolmogorovComplexity/default: ['channels']\n",
      "Filtering  at 83.33 Hz\n",
      "Performing symbolic transformation\n",
      "Reduction order for nice/marker/PermutationEntropy/default: ['channels']\n",
      "Filtering  at 41.67 Hz\n",
      "Performing symbolic transformation\n",
      "Reduction order for nice/marker/PermutationEntropy/default: ['channels']\n",
      "Filtering  at 20.83 Hz\n",
      "Performing symbolic transformation\n",
      "Reduction order for nice/marker/PermutationEntropy/default: ['channels']\n",
      "Filtering  at 10.42 Hz\n",
      "Performing symbolic transformation\n"
     ]
    },
    {
     "name": "stderr",
     "output_type": "stream",
     "text": [
      "/home/nicolas.bruno/anaconda3/lib/python3.7/site-packages/nice-0.1.dev0-py3.7.egg/nice/algorithms/information_theory/permutation_entropy.py:75: RuntimeWarning: divide by zero encountered in log\n",
      "  pe = np.nan_to_num(-np.nansum(count * np.log(count), axis=1))\n",
      "/home/nicolas.bruno/anaconda3/lib/python3.7/site-packages/nice-0.1.dev0-py3.7.egg/nice/algorithms/information_theory/permutation_entropy.py:75: RuntimeWarning: invalid value encountered in multiply\n",
      "  pe = np.nan_to_num(-np.nansum(count * np.log(count), axis=1))\n"
     ]
    },
    {
     "name": "stdout",
     "output_type": "stream",
     "text": [
      "Reduction order for nice/marker/PermutationEntropy/default: ['channels']\n",
      "Autodetected number of jobs 2\n",
      "Computing CSD\n",
      "Using 10-5 locations for CSD\n",
      "Using 2 jobs\n"
     ]
    },
    {
     "name": "stderr",
     "output_type": "stream",
     "text": [
      "[Parallel(n_jobs=2)]: Using backend LokyBackend with 2 concurrent workers.\n",
      "[Parallel(n_jobs=2)]: Done  18 tasks      | elapsed:    1.7s\n"
     ]
    },
    {
     "name": "stdout",
     "output_type": "stream",
     "text": [
      "Filtering  at 83.33 Hz\n"
     ]
    },
    {
     "name": "stderr",
     "output_type": "stream",
     "text": [
      "[Parallel(n_jobs=2)]: Done 334 out of 334 | elapsed:    2.1s finished\n"
     ]
    },
    {
     "name": "stdout",
     "output_type": "stream",
     "text": [
      "Reduction order for nice/marker/SymbolicMutualInformation/default: ['channels_y', 'channels']\n",
      "Autodetected number of jobs 2\n",
      "Computing CSD\n",
      "Using 10-5 locations for CSD\n",
      "Using 2 jobs\n"
     ]
    },
    {
     "name": "stderr",
     "output_type": "stream",
     "text": [
      "[Parallel(n_jobs=2)]: Using backend LokyBackend with 2 concurrent workers.\n"
     ]
    },
    {
     "name": "stdout",
     "output_type": "stream",
     "text": [
      "Filtering  at 41.67 Hz\n"
     ]
    },
    {
     "name": "stderr",
     "output_type": "stream",
     "text": [
      "[Parallel(n_jobs=2)]: Done 262 tasks      | elapsed:    0.3s\n",
      "[Parallel(n_jobs=2)]: Done 334 out of 334 | elapsed:    0.4s finished\n"
     ]
    },
    {
     "name": "stdout",
     "output_type": "stream",
     "text": [
      "Reduction order for nice/marker/SymbolicMutualInformation/default: ['channels_y', 'channels']\n",
      "Autodetected number of jobs 2\n",
      "Computing CSD\n",
      "Using 10-5 locations for CSD\n",
      "Using 2 jobs\n"
     ]
    },
    {
     "name": "stderr",
     "output_type": "stream",
     "text": [
      "[Parallel(n_jobs=2)]: Using backend LokyBackend with 2 concurrent workers.\n"
     ]
    },
    {
     "name": "stdout",
     "output_type": "stream",
     "text": [
      "Filtering  at 20.83 Hz\n"
     ]
    },
    {
     "name": "stderr",
     "output_type": "stream",
     "text": [
      "[Parallel(n_jobs=2)]: Done 262 tasks      | elapsed:    0.3s\n",
      "[Parallel(n_jobs=2)]: Done 334 out of 334 | elapsed:    0.4s finished\n"
     ]
    },
    {
     "name": "stdout",
     "output_type": "stream",
     "text": [
      "Reduction order for nice/marker/SymbolicMutualInformation/default: ['channels_y', 'channels']\n",
      "Autodetected number of jobs 2\n",
      "Computing CSD\n",
      "Using 10-5 locations for CSD\n",
      "Using 2 jobs\n"
     ]
    },
    {
     "name": "stderr",
     "output_type": "stream",
     "text": [
      "[Parallel(n_jobs=2)]: Using backend LokyBackend with 2 concurrent workers.\n"
     ]
    },
    {
     "name": "stdout",
     "output_type": "stream",
     "text": [
      "Filtering  at 10.42 Hz\n"
     ]
    },
    {
     "name": "stderr",
     "output_type": "stream",
     "text": [
      "[Parallel(n_jobs=2)]: Done 262 tasks      | elapsed:    0.3s\n",
      "[Parallel(n_jobs=2)]: Done 334 out of 334 | elapsed:    0.4s finished\n"
     ]
    },
    {
     "name": "stdout",
     "output_type": "stream",
     "text": [
      "Reduction order for nice/marker/SymbolicMutualInformation/default: ['channels_y', 'channels']\n",
      "Reduction order for nice/marker/ContingentNegativeVariation/default: ['channels']\n",
      "Reduction order for nice/marker/TimeLockedTopography/p1: ['channels', 'times']\n",
      "Reduction order for nice/marker/TimeLockedTopography/p3a: ['channels', 'times']\n",
      "Reduction order for nice/marker/TimeLockedTopography/p3b: ['channels', 'times']\n",
      "\n",
      "#########################################\n",
      "Computing markers for participant VP10\n",
      "#########################################\n",
      "\n",
      "Reading /media/nicolas.bruno/63f8a366-34b7-4896-a7ce-b5fb4ee78535/Nico/MW_eeg_data/minmarker/VP10/VP10_evoked_ar_subtracted_epo.fif ...\n",
      "    Found the data of interest:\n",
      "        t =    -200.00 ...     600.00 ms\n",
      "        0 CTF compensation matrices available\n",
      "Not setting metadata\n",
      "Not setting metadata\n",
      "130 matching events found\n",
      "No baseline correction applied\n",
      "0 projection items activated\n",
      "Autodetected number of jobs 24\n",
      "Effective window size : 16.384 (s)\n"
     ]
    },
    {
     "name": "stderr",
     "output_type": "stream",
     "text": [
      "[Parallel(n_jobs=24)]: Using backend LokyBackend with 24 concurrent workers.\n",
      "[Parallel(n_jobs=24)]: Done   6 out of  24 | elapsed:    3.9s remaining:   11.6s\n",
      "[Parallel(n_jobs=24)]: Done  11 out of  24 | elapsed:    3.9s remaining:    4.6s\n",
      "[Parallel(n_jobs=24)]: Done  16 out of  24 | elapsed:    4.0s remaining:    2.0s\n"
     ]
    },
    {
     "name": "stdout",
     "output_type": "stream",
     "text": [
      "Reduction order for nice/marker/PowerSpectralDensity/alpha: ['frequency', 'channels']\n",
      "Reduction order for nice/marker/PowerSpectralDensity/alpha: ['frequency', 'channels']\n",
      "Reduction order for nice/marker/PowerSpectralDensity/delta: ['frequency', 'channels']\n",
      "Reduction order for nice/marker/PowerSpectralDensity/delta: ['frequency', 'channels']\n",
      "Reduction order for nice/marker/PowerSpectralDensity/theta: ['frequency', 'channels']\n",
      "Reduction order for nice/marker/PowerSpectralDensity/theta: ['frequency', 'channels']\n",
      "Reduction order for nice/marker/PowerSpectralDensity/gamma: ['frequency', 'channels']\n",
      "Reduction order for nice/marker/PowerSpectralDensity/theta: ['frequency', 'channels']\n",
      "Reduction order for nice/marker/PowerSpectralDensity/beta: ['frequency', 'channels']\n",
      "Reduction order for nice/marker/PowerSpectralDensity/beta: ['frequency', 'channels']\n",
      "Reduction order for nice/marker/PowerSpectralDensity/summary_se: ['frequency', 'channels']\n"
     ]
    },
    {
     "name": "stderr",
     "output_type": "stream",
     "text": [
      "[Parallel(n_jobs=24)]: Done  21 out of  24 | elapsed:    4.1s remaining:    0.6s\n",
      "[Parallel(n_jobs=24)]: Done  24 out of  24 | elapsed:    4.1s finished\n",
      "/home/nicolas.bruno/anaconda3/lib/python3.7/site-packages/nice-0.1.dev0-py3.7.egg/nice/markers/spectral.py:128: RuntimeWarning: invalid value encountered in true_divide\n",
      "  self.data_norm_ = self.data_ / self.data_.sum(axis=-1)[..., None]\n",
      "/home/nicolas.bruno/anaconda3/lib/python3.7/site-packages/nice-0.1.dev0-py3.7.egg/nice/markers/spectral.py:220: RuntimeWarning: divide by zero encountered in log10\n",
      "  out = 10 * np.log10(out)\n"
     ]
    },
    {
     "name": "stdout",
     "output_type": "stream",
     "text": [
      "Reduction order for nice/marker/PowerSpectralDensitySummary/summary_msf: ['channels']\n",
      "Reduction order for nice/marker/PowerSpectralDensitySummary/summary_sef90: ['channels']\n",
      "Reduction order for nice/marker/PowerSpectralDensitySummary/summary_sef95: ['channels']\n",
      "Running KolmogorovComplexity\n",
      "Elapsed time 0.18599700927734375 sec\n",
      "Reduction order for nice/marker/KolmogorovComplexity/default: ['channels']\n",
      "Filtering  at 83.33 Hz\n",
      "Performing symbolic transformation\n",
      "Reduction order for nice/marker/PermutationEntropy/default: ['channels']\n",
      "Filtering  at 41.67 Hz\n",
      "Performing symbolic transformation\n"
     ]
    },
    {
     "name": "stderr",
     "output_type": "stream",
     "text": [
      "/home/nicolas.bruno/anaconda3/lib/python3.7/site-packages/nice-0.1.dev0-py3.7.egg/nice/algorithms/information_theory/permutation_entropy.py:75: RuntimeWarning: divide by zero encountered in log\n",
      "  pe = np.nan_to_num(-np.nansum(count * np.log(count), axis=1))\n",
      "/home/nicolas.bruno/anaconda3/lib/python3.7/site-packages/nice-0.1.dev0-py3.7.egg/nice/algorithms/information_theory/permutation_entropy.py:75: RuntimeWarning: invalid value encountered in multiply\n",
      "  pe = np.nan_to_num(-np.nansum(count * np.log(count), axis=1))\n"
     ]
    },
    {
     "name": "stdout",
     "output_type": "stream",
     "text": [
      "Reduction order for nice/marker/PermutationEntropy/default: ['channels']\n",
      "Filtering  at 20.83 Hz\n",
      "Performing symbolic transformation\n",
      "Reduction order for nice/marker/PermutationEntropy/default: ['channels']\n",
      "Filtering  at 10.42 Hz\n",
      "Performing symbolic transformation\n",
      "Reduction order for nice/marker/PermutationEntropy/default: ['channels']\n",
      "Autodetected number of jobs 2\n",
      "Computing CSD\n",
      "Using 10-5 locations for CSD\n",
      "Using 2 jobs\n"
     ]
    },
    {
     "name": "stderr",
     "output_type": "stream",
     "text": [
      "[Parallel(n_jobs=2)]: Using backend LokyBackend with 2 concurrent workers.\n",
      "[Parallel(n_jobs=2)]: Done  18 tasks      | elapsed:    1.7s\n",
      "[Parallel(n_jobs=2)]: Done 130 out of 130 | elapsed:    1.9s finished\n"
     ]
    },
    {
     "name": "stdout",
     "output_type": "stream",
     "text": [
      "Filtering  at 83.33 Hz\n",
      "Reduction order for nice/marker/SymbolicMutualInformation/default: ['channels_y', 'channels']\n",
      "Autodetected number of jobs 2\n",
      "Computing CSD\n",
      "Using 10-5 locations for CSD\n",
      "Using 2 jobs\n"
     ]
    },
    {
     "name": "stderr",
     "output_type": "stream",
     "text": [
      "[Parallel(n_jobs=2)]: Using backend LokyBackend with 2 concurrent workers.\n"
     ]
    },
    {
     "name": "stdout",
     "output_type": "stream",
     "text": [
      "Filtering  at 41.67 Hz\n"
     ]
    },
    {
     "name": "stderr",
     "output_type": "stream",
     "text": [
      "[Parallel(n_jobs=2)]: Done 130 out of 130 | elapsed:    0.2s finished\n"
     ]
    },
    {
     "name": "stdout",
     "output_type": "stream",
     "text": [
      "Reduction order for nice/marker/SymbolicMutualInformation/default: ['channels_y', 'channels']\n",
      "Autodetected number of jobs 2\n",
      "Computing CSD\n",
      "Using 10-5 locations for CSD\n",
      "Using 2 jobs\n"
     ]
    },
    {
     "name": "stderr",
     "output_type": "stream",
     "text": [
      "[Parallel(n_jobs=2)]: Using backend LokyBackend with 2 concurrent workers.\n"
     ]
    },
    {
     "name": "stdout",
     "output_type": "stream",
     "text": [
      "Filtering  at 20.83 Hz\n"
     ]
    },
    {
     "name": "stderr",
     "output_type": "stream",
     "text": [
      "[Parallel(n_jobs=2)]: Done 130 out of 130 | elapsed:    0.3s finished\n"
     ]
    },
    {
     "name": "stdout",
     "output_type": "stream",
     "text": [
      "Reduction order for nice/marker/SymbolicMutualInformation/default: ['channels_y', 'channels']\n",
      "Autodetected number of jobs 2\n",
      "Computing CSD\n",
      "Using 10-5 locations for CSD\n",
      "Using 2 jobs\n"
     ]
    },
    {
     "name": "stderr",
     "output_type": "stream",
     "text": [
      "[Parallel(n_jobs=2)]: Using backend LokyBackend with 2 concurrent workers.\n"
     ]
    },
    {
     "name": "stdout",
     "output_type": "stream",
     "text": [
      "Filtering  at 10.42 Hz\n"
     ]
    },
    {
     "name": "stderr",
     "output_type": "stream",
     "text": [
      "[Parallel(n_jobs=2)]: Done 130 out of 130 | elapsed:    0.2s finished\n"
     ]
    },
    {
     "name": "stdout",
     "output_type": "stream",
     "text": [
      "Reduction order for nice/marker/SymbolicMutualInformation/default: ['channels_y', 'channels']\n",
      "Reduction order for nice/marker/ContingentNegativeVariation/default: ['channels']\n",
      "Reduction order for nice/marker/TimeLockedTopography/p1: ['channels', 'times']\n",
      "Reduction order for nice/marker/TimeLockedTopography/p3a: ['channels', 'times']\n",
      "Reduction order for nice/marker/TimeLockedTopography/p3b: ['channels', 'times']\n",
      "Reading /media/nicolas.bruno/63f8a366-34b7-4896-a7ce-b5fb4ee78535/Nico/MW_eeg_data/minmarker/VP10/VP10_evoked_ar_rereferenced_epo.fif ...\n",
      "    Found the data of interest:\n",
      "        t =    -200.00 ...     600.00 ms\n",
      "        0 CTF compensation matrices available\n",
      "Not setting metadata\n",
      "Not setting metadata\n",
      "130 matching events found\n",
      "No baseline correction applied\n",
      "0 projection items activated\n",
      "Autodetected number of jobs 24\n",
      "Effective window size : 16.384 (s)\n"
     ]
    },
    {
     "name": "stderr",
     "output_type": "stream",
     "text": [
      "[Parallel(n_jobs=24)]: Using backend LokyBackend with 24 concurrent workers.\n",
      "[Parallel(n_jobs=24)]: Done   6 out of  24 | elapsed:    3.9s remaining:   11.8s\n",
      "[Parallel(n_jobs=24)]: Done  11 out of  24 | elapsed:    4.0s remaining:    4.8s\n",
      "[Parallel(n_jobs=24)]: Done  16 out of  24 | elapsed:    4.1s remaining:    2.1s\n",
      "[Parallel(n_jobs=24)]: Done  21 out of  24 | elapsed:    4.2s remaining:    0.6s\n",
      "[Parallel(n_jobs=24)]: Done  24 out of  24 | elapsed:    4.4s finished\n"
     ]
    },
    {
     "name": "stdout",
     "output_type": "stream",
     "text": [
      "Reduction order for nice/marker/PowerSpectralDensity/alpha: ['frequency', 'channels']\n",
      "Reduction order for nice/marker/PowerSpectralDensity/alpha: ['frequency', 'channels']\n",
      "Reduction order for nice/marker/PowerSpectralDensity/delta: ['frequency', 'channels']\n",
      "Reduction order for nice/marker/PowerSpectralDensity/delta: ['frequency', 'channels']\n",
      "Reduction order for nice/marker/PowerSpectralDensity/theta: ['frequency', 'channels']\n",
      "Reduction order for nice/marker/PowerSpectralDensity/theta: ['frequency', 'channels']\n",
      "Reduction order for nice/marker/PowerSpectralDensity/gamma: ['frequency', 'channels']\n",
      "Reduction order for nice/marker/PowerSpectralDensity/theta: ['frequency', 'channels']\n",
      "Reduction order for nice/marker/PowerSpectralDensity/beta: ['frequency', 'channels']\n",
      "Reduction order for nice/marker/PowerSpectralDensity/beta: ['frequency', 'channels']\n",
      "Reduction order for nice/marker/PowerSpectralDensity/summary_se: ['frequency', 'channels']\n",
      "Reduction order for nice/marker/PowerSpectralDensitySummary/summary_msf: ['channels']\n",
      "Reduction order for nice/marker/PowerSpectralDensitySummary/summary_sef90: ['channels']\n",
      "Reduction order for nice/marker/PowerSpectralDensitySummary/summary_sef95: ['channels']\n",
      "Running KolmogorovComplexity\n",
      "Elapsed time 0.1895458698272705 sec\n",
      "Reduction order for nice/marker/KolmogorovComplexity/default: ['channels']\n",
      "Filtering  at 83.33 Hz\n",
      "Performing symbolic transformation\n",
      "Reduction order for nice/marker/PermutationEntropy/default: ['channels']\n",
      "Filtering  at 41.67 Hz\n",
      "Performing symbolic transformation\n"
     ]
    },
    {
     "name": "stderr",
     "output_type": "stream",
     "text": [
      "/home/nicolas.bruno/anaconda3/lib/python3.7/site-packages/nice-0.1.dev0-py3.7.egg/nice/algorithms/information_theory/permutation_entropy.py:75: RuntimeWarning: divide by zero encountered in log\n",
      "  pe = np.nan_to_num(-np.nansum(count * np.log(count), axis=1))\n",
      "/home/nicolas.bruno/anaconda3/lib/python3.7/site-packages/nice-0.1.dev0-py3.7.egg/nice/algorithms/information_theory/permutation_entropy.py:75: RuntimeWarning: invalid value encountered in multiply\n",
      "  pe = np.nan_to_num(-np.nansum(count * np.log(count), axis=1))\n"
     ]
    },
    {
     "name": "stdout",
     "output_type": "stream",
     "text": [
      "Reduction order for nice/marker/PermutationEntropy/default: ['channels']\n",
      "Filtering  at 20.83 Hz\n",
      "Performing symbolic transformation\n",
      "Reduction order for nice/marker/PermutationEntropy/default: ['channels']\n",
      "Filtering  at 10.42 Hz\n",
      "Performing symbolic transformation\n",
      "Reduction order for nice/marker/PermutationEntropy/default: ['channels']\n",
      "Autodetected number of jobs 2\n",
      "Computing CSD\n",
      "Using 10-5 locations for CSD\n",
      "Using 2 jobs\n"
     ]
    },
    {
     "name": "stderr",
     "output_type": "stream",
     "text": [
      "[Parallel(n_jobs=2)]: Using backend LokyBackend with 2 concurrent workers.\n"
     ]
    },
    {
     "name": "stdout",
     "output_type": "stream",
     "text": [
      "Filtering  at 83.33 Hz\n"
     ]
    },
    {
     "name": "stderr",
     "output_type": "stream",
     "text": [
      "[Parallel(n_jobs=2)]: Done  18 tasks      | elapsed:    1.7s\n",
      "[Parallel(n_jobs=2)]: Done 130 out of 130 | elapsed:    1.8s finished\n"
     ]
    },
    {
     "name": "stdout",
     "output_type": "stream",
     "text": [
      "Reduction order for nice/marker/SymbolicMutualInformation/default: ['channels_y', 'channels']\n",
      "Autodetected number of jobs 2\n",
      "Computing CSD\n",
      "Using 10-5 locations for CSD\n",
      "Using 2 jobs\n",
      "Filtering  at 41.67 Hz\n"
     ]
    },
    {
     "name": "stderr",
     "output_type": "stream",
     "text": [
      "[Parallel(n_jobs=2)]: Using backend LokyBackend with 2 concurrent workers.\n",
      "[Parallel(n_jobs=2)]: Done 130 out of 130 | elapsed:    0.2s finished\n"
     ]
    },
    {
     "name": "stdout",
     "output_type": "stream",
     "text": [
      "Reduction order for nice/marker/SymbolicMutualInformation/default: ['channels_y', 'channels']\n",
      "Autodetected number of jobs 2\n",
      "Computing CSD\n",
      "Using 10-5 locations for CSD\n",
      "Using 2 jobs\n",
      "Filtering  at 20.83 Hz\n"
     ]
    },
    {
     "name": "stderr",
     "output_type": "stream",
     "text": [
      "[Parallel(n_jobs=2)]: Using backend LokyBackend with 2 concurrent workers.\n",
      "[Parallel(n_jobs=2)]: Done 130 out of 130 | elapsed:    0.2s finished\n"
     ]
    },
    {
     "name": "stdout",
     "output_type": "stream",
     "text": [
      "Reduction order for nice/marker/SymbolicMutualInformation/default: ['channels_y', 'channels']\n",
      "Autodetected number of jobs 2\n",
      "Computing CSD\n",
      "Using 10-5 locations for CSD\n",
      "Using 2 jobs\n"
     ]
    },
    {
     "name": "stderr",
     "output_type": "stream",
     "text": [
      "[Parallel(n_jobs=2)]: Using backend LokyBackend with 2 concurrent workers.\n",
      "[Parallel(n_jobs=2)]: Done 130 out of 130 | elapsed:    0.2s finished\n"
     ]
    },
    {
     "name": "stdout",
     "output_type": "stream",
     "text": [
      "Filtering  at 10.42 Hz\n",
      "Reduction order for nice/marker/SymbolicMutualInformation/default: ['channels_y', 'channels']\n",
      "Reduction order for nice/marker/ContingentNegativeVariation/default: ['channels']\n",
      "Reduction order for nice/marker/TimeLockedTopography/p1: ['channels', 'times']\n",
      "Reduction order for nice/marker/TimeLockedTopography/p3a: ['channels', 'times']\n",
      "Reduction order for nice/marker/TimeLockedTopography/p3b: ['channels', 'times']\n",
      "\n",
      "#########################################\n",
      "Computing markers for participant VP11\n",
      "#########################################\n",
      "\n",
      "Reading /media/nicolas.bruno/63f8a366-34b7-4896-a7ce-b5fb4ee78535/Nico/MW_eeg_data/minmarker/VP11/VP11_evoked_ar_subtracted_epo.fif ...\n",
      "    Found the data of interest:\n",
      "        t =    -200.00 ...     600.00 ms\n",
      "        0 CTF compensation matrices available\n",
      "Not setting metadata\n",
      "Not setting metadata\n",
      "203 matching events found\n",
      "No baseline correction applied\n",
      "0 projection items activated\n",
      "Autodetected number of jobs 24\n",
      "Effective window size : 16.384 (s)\n"
     ]
    },
    {
     "name": "stderr",
     "output_type": "stream",
     "text": [
      "[Parallel(n_jobs=24)]: Using backend LokyBackend with 24 concurrent workers.\n",
      "[Parallel(n_jobs=24)]: Done   6 out of  24 | elapsed:    4.0s remaining:   12.0s\n",
      "[Parallel(n_jobs=24)]: Done  11 out of  24 | elapsed:    4.1s remaining:    4.8s\n",
      "[Parallel(n_jobs=24)]: Done  16 out of  24 | elapsed:    4.1s remaining:    2.1s\n"
     ]
    },
    {
     "name": "stdout",
     "output_type": "stream",
     "text": [
      "Reduction order for nice/marker/PowerSpectralDensity/alpha: ['frequency', 'channels']\n",
      "Reduction order for nice/marker/PowerSpectralDensity/alpha: ['frequency', 'channels']\n",
      "Reduction order for nice/marker/PowerSpectralDensity/delta: ['frequency', 'channels']\n",
      "Reduction order for nice/marker/PowerSpectralDensity/delta: ['frequency', 'channels']\n",
      "Reduction order for nice/marker/PowerSpectralDensity/theta: ['frequency', 'channels']\n",
      "Reduction order for nice/marker/PowerSpectralDensity/theta: ['frequency', 'channels']\n",
      "Reduction order for nice/marker/PowerSpectralDensity/gamma: ['frequency', 'channels']\n",
      "Reduction order for nice/marker/PowerSpectralDensity/theta: ['frequency', 'channels']\n"
     ]
    },
    {
     "name": "stderr",
     "output_type": "stream",
     "text": [
      "[Parallel(n_jobs=24)]: Done  21 out of  24 | elapsed:    4.2s remaining:    0.6s\n",
      "[Parallel(n_jobs=24)]: Done  24 out of  24 | elapsed:    4.3s finished\n",
      "/home/nicolas.bruno/anaconda3/lib/python3.7/site-packages/nice-0.1.dev0-py3.7.egg/nice/markers/spectral.py:128: RuntimeWarning: invalid value encountered in true_divide\n",
      "  self.data_norm_ = self.data_ / self.data_.sum(axis=-1)[..., None]\n",
      "/home/nicolas.bruno/anaconda3/lib/python3.7/site-packages/nice-0.1.dev0-py3.7.egg/nice/markers/spectral.py:220: RuntimeWarning: divide by zero encountered in log10\n",
      "  out = 10 * np.log10(out)\n"
     ]
    },
    {
     "name": "stdout",
     "output_type": "stream",
     "text": [
      "Reduction order for nice/marker/PowerSpectralDensity/beta: ['frequency', 'channels']\n",
      "Reduction order for nice/marker/PowerSpectralDensity/beta: ['frequency', 'channels']\n",
      "Reduction order for nice/marker/PowerSpectralDensity/summary_se: ['frequency', 'channels']\n",
      "Reduction order for nice/marker/PowerSpectralDensitySummary/summary_msf: ['channels']\n",
      "Reduction order for nice/marker/PowerSpectralDensitySummary/summary_sef90: ['channels']\n",
      "Reduction order for nice/marker/PowerSpectralDensitySummary/summary_sef95: ['channels']\n",
      "Running KolmogorovComplexity\n",
      "Elapsed time 0.28728818893432617 sec\n",
      "Reduction order for nice/marker/KolmogorovComplexity/default: ['channels']\n",
      "Filtering  at 83.33 Hz\n",
      "Performing symbolic transformation\n",
      "Reduction order for nice/marker/PermutationEntropy/default: ['channels']\n",
      "Filtering  at 41.67 Hz\n",
      "Performing symbolic transformation\n"
     ]
    },
    {
     "name": "stderr",
     "output_type": "stream",
     "text": [
      "/home/nicolas.bruno/anaconda3/lib/python3.7/site-packages/nice-0.1.dev0-py3.7.egg/nice/algorithms/information_theory/permutation_entropy.py:75: RuntimeWarning: divide by zero encountered in log\n",
      "  pe = np.nan_to_num(-np.nansum(count * np.log(count), axis=1))\n",
      "/home/nicolas.bruno/anaconda3/lib/python3.7/site-packages/nice-0.1.dev0-py3.7.egg/nice/algorithms/information_theory/permutation_entropy.py:75: RuntimeWarning: invalid value encountered in multiply\n",
      "  pe = np.nan_to_num(-np.nansum(count * np.log(count), axis=1))\n"
     ]
    },
    {
     "name": "stdout",
     "output_type": "stream",
     "text": [
      "Reduction order for nice/marker/PermutationEntropy/default: ['channels']\n",
      "Filtering  at 20.83 Hz\n",
      "Performing symbolic transformation\n",
      "Reduction order for nice/marker/PermutationEntropy/default: ['channels']\n",
      "Filtering  at 10.42 Hz\n",
      "Performing symbolic transformation\n",
      "Reduction order for nice/marker/PermutationEntropy/default: ['channels']\n",
      "Autodetected number of jobs 2\n",
      "Computing CSD\n",
      "Using 10-5 locations for CSD\n",
      "Using 2 jobs\n"
     ]
    },
    {
     "name": "stderr",
     "output_type": "stream",
     "text": [
      "[Parallel(n_jobs=2)]: Using backend LokyBackend with 2 concurrent workers.\n",
      "[Parallel(n_jobs=2)]: Done  18 tasks      | elapsed:    1.7s\n"
     ]
    },
    {
     "name": "stdout",
     "output_type": "stream",
     "text": [
      "Filtering  at 83.33 Hz\n"
     ]
    },
    {
     "name": "stderr",
     "output_type": "stream",
     "text": [
      "[Parallel(n_jobs=2)]: Done 203 out of 203 | elapsed:    2.0s finished\n"
     ]
    },
    {
     "name": "stdout",
     "output_type": "stream",
     "text": [
      "Reduction order for nice/marker/SymbolicMutualInformation/default: ['channels_y', 'channels']\n",
      "Autodetected number of jobs 2\n",
      "Computing CSD\n",
      "Using 10-5 locations for CSD\n",
      "Using 2 jobs\n"
     ]
    },
    {
     "name": "stderr",
     "output_type": "stream",
     "text": [
      "[Parallel(n_jobs=2)]: Using backend LokyBackend with 2 concurrent workers.\n"
     ]
    },
    {
     "name": "stdout",
     "output_type": "stream",
     "text": [
      "Filtering  at 41.67 Hz\n"
     ]
    },
    {
     "name": "stderr",
     "output_type": "stream",
     "text": [
      "[Parallel(n_jobs=2)]: Done 138 tasks      | elapsed:    0.2s\n",
      "[Parallel(n_jobs=2)]: Done 203 out of 203 | elapsed:    0.3s finished\n"
     ]
    },
    {
     "name": "stdout",
     "output_type": "stream",
     "text": [
      "Reduction order for nice/marker/SymbolicMutualInformation/default: ['channels_y', 'channels']\n",
      "Autodetected number of jobs 2\n",
      "Computing CSD\n",
      "Using 10-5 locations for CSD\n",
      "Using 2 jobs\n"
     ]
    },
    {
     "name": "stderr",
     "output_type": "stream",
     "text": [
      "[Parallel(n_jobs=2)]: Using backend LokyBackend with 2 concurrent workers.\n"
     ]
    },
    {
     "name": "stdout",
     "output_type": "stream",
     "text": [
      "Filtering  at 20.83 Hz\n"
     ]
    },
    {
     "name": "stderr",
     "output_type": "stream",
     "text": [
      "[Parallel(n_jobs=2)]: Done 138 tasks      | elapsed:    0.2s\n",
      "[Parallel(n_jobs=2)]: Done 203 out of 203 | elapsed:    0.3s finished\n"
     ]
    },
    {
     "name": "stdout",
     "output_type": "stream",
     "text": [
      "Reduction order for nice/marker/SymbolicMutualInformation/default: ['channels_y', 'channels']\n",
      "Autodetected number of jobs 2\n",
      "Computing CSD\n",
      "Using 10-5 locations for CSD\n",
      "Using 2 jobs\n"
     ]
    },
    {
     "name": "stderr",
     "output_type": "stream",
     "text": [
      "[Parallel(n_jobs=2)]: Using backend LokyBackend with 2 concurrent workers.\n",
      "[Parallel(n_jobs=2)]: Done 138 tasks      | elapsed:    0.2s\n"
     ]
    },
    {
     "name": "stdout",
     "output_type": "stream",
     "text": [
      "Filtering  at 10.42 Hz\n"
     ]
    },
    {
     "name": "stderr",
     "output_type": "stream",
     "text": [
      "[Parallel(n_jobs=2)]: Done 203 out of 203 | elapsed:    0.3s finished\n"
     ]
    },
    {
     "name": "stdout",
     "output_type": "stream",
     "text": [
      "Reduction order for nice/marker/SymbolicMutualInformation/default: ['channels_y', 'channels']\n",
      "Reduction order for nice/marker/ContingentNegativeVariation/default: ['channels']\n",
      "Reduction order for nice/marker/TimeLockedTopography/p1: ['channels', 'times']\n",
      "Reduction order for nice/marker/TimeLockedTopography/p3a: ['channels', 'times']\n",
      "Reduction order for nice/marker/TimeLockedTopography/p3b: ['channels', 'times']\n",
      "Reading /media/nicolas.bruno/63f8a366-34b7-4896-a7ce-b5fb4ee78535/Nico/MW_eeg_data/minmarker/VP11/VP11_evoked_ar_rereferenced_epo.fif ...\n",
      "    Found the data of interest:\n",
      "        t =    -200.00 ...     600.00 ms\n",
      "        0 CTF compensation matrices available\n",
      "Not setting metadata\n",
      "Not setting metadata\n",
      "203 matching events found\n",
      "No baseline correction applied\n",
      "0 projection items activated\n",
      "Autodetected number of jobs 24\n",
      "Effective window size : 16.384 (s)\n"
     ]
    },
    {
     "name": "stderr",
     "output_type": "stream",
     "text": [
      "[Parallel(n_jobs=24)]: Using backend LokyBackend with 24 concurrent workers.\n",
      "[Parallel(n_jobs=24)]: Done   6 out of  24 | elapsed:    4.0s remaining:   11.9s\n",
      "[Parallel(n_jobs=24)]: Done  11 out of  24 | elapsed:    4.1s remaining:    4.8s\n",
      "[Parallel(n_jobs=24)]: Done  16 out of  24 | elapsed:    4.1s remaining:    2.1s\n"
     ]
    },
    {
     "name": "stdout",
     "output_type": "stream",
     "text": [
      "Reduction order for nice/marker/PowerSpectralDensity/alpha: ['frequency', 'channels']\n",
      "Reduction order for nice/marker/PowerSpectralDensity/alpha: ['frequency', 'channels']\n",
      "Reduction order for nice/marker/PowerSpectralDensity/delta: ['frequency', 'channels']\n",
      "Reduction order for nice/marker/PowerSpectralDensity/delta: ['frequency', 'channels']\n",
      "Reduction order for nice/marker/PowerSpectralDensity/theta: ['frequency', 'channels']\n",
      "Reduction order for nice/marker/PowerSpectralDensity/theta: ['frequency', 'channels']\n",
      "Reduction order for nice/marker/PowerSpectralDensity/gamma: ['frequency', 'channels']\n",
      "Reduction order for nice/marker/PowerSpectralDensity/theta: ['frequency', 'channels']\n",
      "Reduction order for nice/marker/PowerSpectralDensity/beta: ['frequency', 'channels']\n"
     ]
    },
    {
     "name": "stderr",
     "output_type": "stream",
     "text": [
      "[Parallel(n_jobs=24)]: Done  21 out of  24 | elapsed:    4.2s remaining:    0.6s\n",
      "[Parallel(n_jobs=24)]: Done  24 out of  24 | elapsed:    4.3s finished\n"
     ]
    },
    {
     "name": "stdout",
     "output_type": "stream",
     "text": [
      "Reduction order for nice/marker/PowerSpectralDensity/beta: ['frequency', 'channels']\n",
      "Reduction order for nice/marker/PowerSpectralDensity/summary_se: ['frequency', 'channels']\n",
      "Reduction order for nice/marker/PowerSpectralDensitySummary/summary_msf: ['channels']\n",
      "Reduction order for nice/marker/PowerSpectralDensitySummary/summary_sef90: ['channels']\n",
      "Reduction order for nice/marker/PowerSpectralDensitySummary/summary_sef95: ['channels']\n",
      "Running KolmogorovComplexity\n",
      "Elapsed time 0.2895784378051758 sec\n",
      "Reduction order for nice/marker/KolmogorovComplexity/default: ['channels']\n",
      "Filtering  at 83.33 Hz\n",
      "Performing symbolic transformation\n",
      "Reduction order for nice/marker/PermutationEntropy/default: ['channels']\n",
      "Filtering  at 41.67 Hz\n",
      "Performing symbolic transformation\n",
      "Reduction order for nice/marker/PermutationEntropy/default: ['channels']\n",
      "Filtering  at 20.83 Hz\n",
      "Performing symbolic transformation\n",
      "Reduction order for nice/marker/PermutationEntropy/default: ['channels']\n",
      "Filtering  at 10.42 Hz\n",
      "Performing symbolic transformation\n",
      "Reduction order for nice/marker/PermutationEntropy/default: ['channels']\n",
      "Autodetected number of jobs 2\n",
      "Computing CSD\n",
      "Using 10-5 locations for CSD\n",
      "Using 2 jobs\n"
     ]
    },
    {
     "name": "stderr",
     "output_type": "stream",
     "text": [
      "[Parallel(n_jobs=2)]: Using backend LokyBackend with 2 concurrent workers.\n",
      "[Parallel(n_jobs=2)]: Done  18 tasks      | elapsed:    1.7s\n"
     ]
    },
    {
     "name": "stdout",
     "output_type": "stream",
     "text": [
      "Filtering  at 83.33 Hz\n"
     ]
    },
    {
     "name": "stderr",
     "output_type": "stream",
     "text": [
      "[Parallel(n_jobs=2)]: Done 203 out of 203 | elapsed:    1.9s finished\n"
     ]
    },
    {
     "name": "stdout",
     "output_type": "stream",
     "text": [
      "Reduction order for nice/marker/SymbolicMutualInformation/default: ['channels_y', 'channels']\n",
      "Autodetected number of jobs 2\n",
      "Computing CSD\n",
      "Using 10-5 locations for CSD\n",
      "Using 2 jobs\n"
     ]
    },
    {
     "name": "stderr",
     "output_type": "stream",
     "text": [
      "[Parallel(n_jobs=2)]: Using backend LokyBackend with 2 concurrent workers.\n",
      "[Parallel(n_jobs=2)]: Done 138 tasks      | elapsed:    0.2s\n"
     ]
    },
    {
     "name": "stdout",
     "output_type": "stream",
     "text": [
      "Filtering  at 41.67 Hz\n"
     ]
    },
    {
     "name": "stderr",
     "output_type": "stream",
     "text": [
      "[Parallel(n_jobs=2)]: Done 203 out of 203 | elapsed:    0.3s finished\n"
     ]
    },
    {
     "name": "stdout",
     "output_type": "stream",
     "text": [
      "Reduction order for nice/marker/SymbolicMutualInformation/default: ['channels_y', 'channels']\n",
      "Autodetected number of jobs 2\n",
      "Computing CSD\n",
      "Using 10-5 locations for CSD\n",
      "Using 2 jobs\n"
     ]
    },
    {
     "name": "stderr",
     "output_type": "stream",
     "text": [
      "[Parallel(n_jobs=2)]: Using backend LokyBackend with 2 concurrent workers.\n",
      "[Parallel(n_jobs=2)]: Done 138 tasks      | elapsed:    0.2s\n"
     ]
    },
    {
     "name": "stdout",
     "output_type": "stream",
     "text": [
      "Filtering  at 20.83 Hz\n"
     ]
    },
    {
     "name": "stderr",
     "output_type": "stream",
     "text": [
      "[Parallel(n_jobs=2)]: Done 203 out of 203 | elapsed:    0.3s finished\n"
     ]
    },
    {
     "name": "stdout",
     "output_type": "stream",
     "text": [
      "Reduction order for nice/marker/SymbolicMutualInformation/default: ['channels_y', 'channels']\n",
      "Autodetected number of jobs 2\n",
      "Computing CSD\n",
      "Using 10-5 locations for CSD\n",
      "Using 2 jobs\n"
     ]
    },
    {
     "name": "stderr",
     "output_type": "stream",
     "text": [
      "[Parallel(n_jobs=2)]: Using backend LokyBackend with 2 concurrent workers.\n"
     ]
    },
    {
     "name": "stdout",
     "output_type": "stream",
     "text": [
      "Filtering  at 10.42 Hz\n"
     ]
    },
    {
     "name": "stderr",
     "output_type": "stream",
     "text": [
      "[Parallel(n_jobs=2)]: Done 138 tasks      | elapsed:    0.2s\n",
      "[Parallel(n_jobs=2)]: Done 203 out of 203 | elapsed:    0.3s finished\n"
     ]
    },
    {
     "name": "stdout",
     "output_type": "stream",
     "text": [
      "Reduction order for nice/marker/SymbolicMutualInformation/default: ['channels_y', 'channels']\n",
      "Reduction order for nice/marker/ContingentNegativeVariation/default: ['channels']\n",
      "Reduction order for nice/marker/TimeLockedTopography/p1: ['channels', 'times']\n",
      "Reduction order for nice/marker/TimeLockedTopography/p3a: ['channels', 'times']\n",
      "Reduction order for nice/marker/TimeLockedTopography/p3b: ['channels', 'times']\n",
      "\n",
      "#########################################\n",
      "Computing markers for participant VP12\n",
      "#########################################\n",
      "\n",
      "Reading /media/nicolas.bruno/63f8a366-34b7-4896-a7ce-b5fb4ee78535/Nico/MW_eeg_data/minmarker/VP12/VP12_evoked_ar_subtracted_epo.fif ...\n",
      "    Found the data of interest:\n",
      "        t =    -200.00 ...     600.00 ms\n",
      "        0 CTF compensation matrices available\n",
      "Not setting metadata\n",
      "Not setting metadata\n",
      "54 matching events found\n",
      "No baseline correction applied\n",
      "0 projection items activated\n",
      "Autodetected number of jobs 24\n",
      "Effective window size : 16.384 (s)\n"
     ]
    },
    {
     "name": "stderr",
     "output_type": "stream",
     "text": [
      "[Parallel(n_jobs=24)]: Using backend LokyBackend with 24 concurrent workers.\n",
      "[Parallel(n_jobs=24)]: Done   6 out of  24 | elapsed:    3.6s remaining:   10.8s\n",
      "[Parallel(n_jobs=24)]: Done  11 out of  24 | elapsed:    3.7s remaining:    4.3s\n",
      "[Parallel(n_jobs=24)]: Done  16 out of  24 | elapsed:    3.7s remaining:    1.9s\n",
      "[Parallel(n_jobs=24)]: Done  21 out of  24 | elapsed:    3.8s remaining:    0.5s\n"
     ]
    },
    {
     "name": "stdout",
     "output_type": "stream",
     "text": [
      "Reduction order for nice/marker/PowerSpectralDensity/alpha: ['frequency', 'channels']\n",
      "Reduction order for nice/marker/PowerSpectralDensity/alpha: ['frequency', 'channels']\n",
      "Reduction order for nice/marker/PowerSpectralDensity/delta: ['frequency', 'channels']\n",
      "Reduction order for nice/marker/PowerSpectralDensity/delta: ['frequency', 'channels']\n",
      "Reduction order for nice/marker/PowerSpectralDensity/theta: ['frequency', 'channels']\n",
      "Reduction order for nice/marker/PowerSpectralDensity/theta: ['frequency', 'channels']\n",
      "Reduction order for nice/marker/PowerSpectralDensity/gamma: ['frequency', 'channels']\n",
      "Reduction order for nice/marker/PowerSpectralDensity/theta: ['frequency', 'channels']\n",
      "Reduction order for nice/marker/PowerSpectralDensity/beta: ['frequency', 'channels']\n",
      "Reduction order for nice/marker/PowerSpectralDensity/beta: ['frequency', 'channels']\n",
      "Reduction order for nice/marker/PowerSpectralDensity/summary_se: ['frequency', 'channels']\n",
      "Reduction order for nice/marker/PowerSpectralDensitySummary/summary_msf: ['channels']\n",
      "Reduction order for nice/marker/PowerSpectralDensitySummary/summary_sef90: ['channels']\n",
      "Reduction order for nice/marker/PowerSpectralDensitySummary/summary_sef95: ['channels']\n",
      "Running KolmogorovComplexity\n",
      "Elapsed time 0.08552980422973633 sec\n"
     ]
    },
    {
     "name": "stderr",
     "output_type": "stream",
     "text": [
      "[Parallel(n_jobs=24)]: Done  24 out of  24 | elapsed:    3.8s finished\n",
      "/home/nicolas.bruno/anaconda3/lib/python3.7/site-packages/nice-0.1.dev0-py3.7.egg/nice/markers/spectral.py:128: RuntimeWarning: invalid value encountered in true_divide\n",
      "  self.data_norm_ = self.data_ / self.data_.sum(axis=-1)[..., None]\n",
      "/home/nicolas.bruno/anaconda3/lib/python3.7/site-packages/nice-0.1.dev0-py3.7.egg/nice/markers/spectral.py:220: RuntimeWarning: divide by zero encountered in log10\n",
      "  out = 10 * np.log10(out)\n"
     ]
    },
    {
     "name": "stdout",
     "output_type": "stream",
     "text": [
      "Reduction order for nice/marker/KolmogorovComplexity/default: ['channels']\n",
      "Filtering  at 83.33 Hz\n",
      "Performing symbolic transformation\n",
      "Reduction order for nice/marker/PermutationEntropy/default: ['channels']\n",
      "Filtering  at 41.67 Hz\n",
      "Performing symbolic transformation\n"
     ]
    },
    {
     "name": "stderr",
     "output_type": "stream",
     "text": [
      "/home/nicolas.bruno/anaconda3/lib/python3.7/site-packages/nice-0.1.dev0-py3.7.egg/nice/algorithms/information_theory/permutation_entropy.py:75: RuntimeWarning: divide by zero encountered in log\n",
      "  pe = np.nan_to_num(-np.nansum(count * np.log(count), axis=1))\n",
      "/home/nicolas.bruno/anaconda3/lib/python3.7/site-packages/nice-0.1.dev0-py3.7.egg/nice/algorithms/information_theory/permutation_entropy.py:75: RuntimeWarning: invalid value encountered in multiply\n",
      "  pe = np.nan_to_num(-np.nansum(count * np.log(count), axis=1))\n"
     ]
    },
    {
     "name": "stdout",
     "output_type": "stream",
     "text": [
      "Reduction order for nice/marker/PermutationEntropy/default: ['channels']\n",
      "Filtering  at 20.83 Hz\n",
      "Performing symbolic transformation\n",
      "Reduction order for nice/marker/PermutationEntropy/default: ['channels']\n",
      "Filtering  at 10.42 Hz\n",
      "Performing symbolic transformation\n",
      "Reduction order for nice/marker/PermutationEntropy/default: ['channels']\n",
      "Autodetected number of jobs 2\n",
      "Computing CSD\n",
      "Using 10-5 locations for CSD\n",
      "Using 2 jobs\n"
     ]
    },
    {
     "name": "stderr",
     "output_type": "stream",
     "text": [
      "[Parallel(n_jobs=2)]: Using backend LokyBackend with 2 concurrent workers.\n"
     ]
    },
    {
     "name": "stdout",
     "output_type": "stream",
     "text": [
      "Filtering  at 83.33 Hz\n"
     ]
    },
    {
     "name": "stderr",
     "output_type": "stream",
     "text": [
      "[Parallel(n_jobs=2)]: Done  18 tasks      | elapsed:    1.7s\n",
      "[Parallel(n_jobs=2)]: Done  54 out of  54 | elapsed:    1.8s finished\n"
     ]
    },
    {
     "name": "stdout",
     "output_type": "stream",
     "text": [
      "Reduction order for nice/marker/SymbolicMutualInformation/default: ['channels_y', 'channels']\n",
      "Autodetected number of jobs 2\n",
      "Computing CSD\n",
      "Using 10-5 locations for CSD\n",
      "Using 2 jobs\n",
      "Filtering  at 41.67 Hz\n"
     ]
    },
    {
     "name": "stderr",
     "output_type": "stream",
     "text": [
      "[Parallel(n_jobs=2)]: Using backend LokyBackend with 2 concurrent workers.\n",
      "[Parallel(n_jobs=2)]: Done  38 tasks      | elapsed:    0.1s\n",
      "[Parallel(n_jobs=2)]: Done  54 out of  54 | elapsed:    0.1s finished\n"
     ]
    },
    {
     "name": "stdout",
     "output_type": "stream",
     "text": [
      "Reduction order for nice/marker/SymbolicMutualInformation/default: ['channels_y', 'channels']\n",
      "Autodetected number of jobs 2\n",
      "Computing CSD\n",
      "Using 10-5 locations for CSD\n",
      "Using 2 jobs\n",
      "Filtering  at 20.83 Hz\n"
     ]
    },
    {
     "name": "stderr",
     "output_type": "stream",
     "text": [
      "[Parallel(n_jobs=2)]: Using backend LokyBackend with 2 concurrent workers.\n",
      "[Parallel(n_jobs=2)]: Done  51 tasks      | elapsed:    0.1s\n",
      "[Parallel(n_jobs=2)]: Done  54 out of  54 | elapsed:    0.1s finished\n"
     ]
    },
    {
     "name": "stdout",
     "output_type": "stream",
     "text": [
      "Reduction order for nice/marker/SymbolicMutualInformation/default: ['channels_y', 'channels']\n",
      "Autodetected number of jobs 2\n",
      "Computing CSD\n",
      "Using 10-5 locations for CSD\n",
      "Using 2 jobs\n",
      "Filtering  at 10.42 Hz\n"
     ]
    },
    {
     "name": "stderr",
     "output_type": "stream",
     "text": [
      "[Parallel(n_jobs=2)]: Using backend LokyBackend with 2 concurrent workers.\n",
      "[Parallel(n_jobs=2)]: Done  38 tasks      | elapsed:    0.1s\n",
      "[Parallel(n_jobs=2)]: Done  54 out of  54 | elapsed:    0.2s finished\n"
     ]
    },
    {
     "name": "stdout",
     "output_type": "stream",
     "text": [
      "Reduction order for nice/marker/SymbolicMutualInformation/default: ['channels_y', 'channels']\n",
      "Reduction order for nice/marker/ContingentNegativeVariation/default: ['channels']\n",
      "Reduction order for nice/marker/TimeLockedTopography/p1: ['channels', 'times']\n",
      "Reduction order for nice/marker/TimeLockedTopography/p3a: ['channels', 'times']\n",
      "Reduction order for nice/marker/TimeLockedTopography/p3b: ['channels', 'times']\n",
      "Reading /media/nicolas.bruno/63f8a366-34b7-4896-a7ce-b5fb4ee78535/Nico/MW_eeg_data/minmarker/VP12/VP12_evoked_ar_rereferenced_epo.fif ...\n",
      "    Found the data of interest:\n",
      "        t =    -200.00 ...     600.00 ms\n",
      "        0 CTF compensation matrices available\n",
      "Not setting metadata\n",
      "Not setting metadata\n",
      "54 matching events found\n",
      "No baseline correction applied\n",
      "0 projection items activated\n",
      "Autodetected number of jobs 24\n",
      "Effective window size : 16.384 (s)\n"
     ]
    },
    {
     "name": "stderr",
     "output_type": "stream",
     "text": [
      "[Parallel(n_jobs=24)]: Using backend LokyBackend with 24 concurrent workers.\n",
      "[Parallel(n_jobs=24)]: Done   6 out of  24 | elapsed:    3.7s remaining:   11.2s\n",
      "[Parallel(n_jobs=24)]: Done  11 out of  24 | elapsed:    3.8s remaining:    4.5s\n",
      "[Parallel(n_jobs=24)]: Done  16 out of  24 | elapsed:    3.9s remaining:    2.0s\n",
      "[Parallel(n_jobs=24)]: Done  21 out of  24 | elapsed:    4.0s remaining:    0.6s\n"
     ]
    },
    {
     "name": "stdout",
     "output_type": "stream",
     "text": [
      "Reduction order for nice/marker/PowerSpectralDensity/alpha: ['frequency', 'channels']\n",
      "Reduction order for nice/marker/PowerSpectralDensity/alpha: ['frequency', 'channels']\n",
      "Reduction order for nice/marker/PowerSpectralDensity/delta: ['frequency', 'channels']\n",
      "Reduction order for nice/marker/PowerSpectralDensity/delta: ['frequency', 'channels']\n",
      "Reduction order for nice/marker/PowerSpectralDensity/theta: ['frequency', 'channels']\n",
      "Reduction order for nice/marker/PowerSpectralDensity/theta: ['frequency', 'channels']\n",
      "Reduction order for nice/marker/PowerSpectralDensity/gamma: ['frequency', 'channels']\n",
      "Reduction order for nice/marker/PowerSpectralDensity/theta: ['frequency', 'channels']\n",
      "Reduction order for nice/marker/PowerSpectralDensity/beta: ['frequency', 'channels']\n",
      "Reduction order for nice/marker/PowerSpectralDensity/beta: ['frequency', 'channels']\n",
      "Reduction order for nice/marker/PowerSpectralDensity/summary_se: ['frequency', 'channels']\n",
      "Reduction order for nice/marker/PowerSpectralDensitySummary/summary_msf: ['channels']\n",
      "Reduction order for nice/marker/PowerSpectralDensitySummary/summary_sef90: ['channels']\n",
      "Reduction order for nice/marker/PowerSpectralDensitySummary/summary_sef95: ['channels']\n",
      "Running KolmogorovComplexity\n",
      "Elapsed time 0.07582449913024902 sec\n"
     ]
    },
    {
     "name": "stderr",
     "output_type": "stream",
     "text": [
      "[Parallel(n_jobs=24)]: Done  24 out of  24 | elapsed:    4.3s finished\n"
     ]
    },
    {
     "name": "stdout",
     "output_type": "stream",
     "text": [
      "Reduction order for nice/marker/KolmogorovComplexity/default: ['channels']\n",
      "Filtering  at 83.33 Hz\n",
      "Performing symbolic transformation\n",
      "Reduction order for nice/marker/PermutationEntropy/default: ['channels']\n",
      "Filtering  at 41.67 Hz\n",
      "Performing symbolic transformation\n"
     ]
    },
    {
     "name": "stderr",
     "output_type": "stream",
     "text": [
      "/home/nicolas.bruno/anaconda3/lib/python3.7/site-packages/nice-0.1.dev0-py3.7.egg/nice/algorithms/information_theory/permutation_entropy.py:75: RuntimeWarning: divide by zero encountered in log\n",
      "  pe = np.nan_to_num(-np.nansum(count * np.log(count), axis=1))\n",
      "/home/nicolas.bruno/anaconda3/lib/python3.7/site-packages/nice-0.1.dev0-py3.7.egg/nice/algorithms/information_theory/permutation_entropy.py:75: RuntimeWarning: invalid value encountered in multiply\n",
      "  pe = np.nan_to_num(-np.nansum(count * np.log(count), axis=1))\n"
     ]
    },
    {
     "name": "stdout",
     "output_type": "stream",
     "text": [
      "Reduction order for nice/marker/PermutationEntropy/default: ['channels']\n",
      "Filtering  at 20.83 Hz\n",
      "Performing symbolic transformation\n",
      "Reduction order for nice/marker/PermutationEntropy/default: ['channels']\n",
      "Filtering  at 10.42 Hz\n",
      "Performing symbolic transformation\n",
      "Reduction order for nice/marker/PermutationEntropy/default: ['channels']\n",
      "Autodetected number of jobs 2\n",
      "Computing CSD\n",
      "Using 10-5 locations for CSD\n",
      "Using 2 jobs\n"
     ]
    },
    {
     "name": "stderr",
     "output_type": "stream",
     "text": [
      "[Parallel(n_jobs=2)]: Using backend LokyBackend with 2 concurrent workers.\n"
     ]
    },
    {
     "name": "stdout",
     "output_type": "stream",
     "text": [
      "Filtering  at 83.33 Hz\n"
     ]
    },
    {
     "name": "stderr",
     "output_type": "stream",
     "text": [
      "[Parallel(n_jobs=2)]: Done  16 tasks      | elapsed:    1.7s\n",
      "[Parallel(n_jobs=2)]: Done  54 out of  54 | elapsed:    1.8s finished\n"
     ]
    },
    {
     "name": "stdout",
     "output_type": "stream",
     "text": [
      "Reduction order for nice/marker/SymbolicMutualInformation/default: ['channels_y', 'channels']\n",
      "Autodetected number of jobs 2\n",
      "Computing CSD\n",
      "Using 10-5 locations for CSD\n",
      "Using 2 jobs\n",
      "Filtering  at 41.67 Hz\n"
     ]
    },
    {
     "name": "stderr",
     "output_type": "stream",
     "text": [
      "[Parallel(n_jobs=2)]: Using backend LokyBackend with 2 concurrent workers.\n",
      "[Parallel(n_jobs=2)]: Done  54 out of  54 | elapsed:    0.1s finished\n"
     ]
    },
    {
     "name": "stdout",
     "output_type": "stream",
     "text": [
      "Reduction order for nice/marker/SymbolicMutualInformation/default: ['channels_y', 'channels']\n",
      "Autodetected number of jobs 2\n",
      "Computing CSD\n",
      "Using 10-5 locations for CSD\n",
      "Using 2 jobs\n",
      "Filtering  at 20.83 Hz\n"
     ]
    },
    {
     "name": "stderr",
     "output_type": "stream",
     "text": [
      "[Parallel(n_jobs=2)]: Using backend LokyBackend with 2 concurrent workers.\n",
      "[Parallel(n_jobs=2)]: Done  38 tasks      | elapsed:    0.1s\n",
      "[Parallel(n_jobs=2)]: Done  54 out of  54 | elapsed:    0.1s finished\n"
     ]
    },
    {
     "name": "stdout",
     "output_type": "stream",
     "text": [
      "Reduction order for nice/marker/SymbolicMutualInformation/default: ['channels_y', 'channels']\n",
      "Autodetected number of jobs 2\n",
      "Computing CSD\n",
      "Using 10-5 locations for CSD\n",
      "Using 2 jobs\n",
      "Filtering  at 10.42 Hz\n"
     ]
    },
    {
     "name": "stderr",
     "output_type": "stream",
     "text": [
      "[Parallel(n_jobs=2)]: Using backend LokyBackend with 2 concurrent workers.\n",
      "[Parallel(n_jobs=2)]: Done  38 tasks      | elapsed:    0.1s\n",
      "[Parallel(n_jobs=2)]: Done  54 out of  54 | elapsed:    0.1s finished\n"
     ]
    },
    {
     "name": "stdout",
     "output_type": "stream",
     "text": [
      "Reduction order for nice/marker/SymbolicMutualInformation/default: ['channels_y', 'channels']\n",
      "Reduction order for nice/marker/ContingentNegativeVariation/default: ['channels']\n",
      "Reduction order for nice/marker/TimeLockedTopography/p1: ['channels', 'times']\n",
      "Reduction order for nice/marker/TimeLockedTopography/p3a: ['channels', 'times']\n",
      "Reduction order for nice/marker/TimeLockedTopography/p3b: ['channels', 'times']\n",
      "\n",
      "#########################################\n",
      "Computing markers for participant VP13\n",
      "#########################################\n",
      "\n",
      "Reading /media/nicolas.bruno/63f8a366-34b7-4896-a7ce-b5fb4ee78535/Nico/MW_eeg_data/minmarker/VP13/VP13_evoked_ar_subtracted_epo.fif ...\n",
      "    Found the data of interest:\n",
      "        t =    -200.00 ...     600.00 ms\n",
      "        0 CTF compensation matrices available\n",
      "Not setting metadata\n",
      "Not setting metadata\n",
      "493 matching events found\n",
      "No baseline correction applied\n",
      "0 projection items activated\n",
      "Autodetected number of jobs 24\n",
      "Effective window size : 16.384 (s)\n"
     ]
    },
    {
     "name": "stderr",
     "output_type": "stream",
     "text": [
      "[Parallel(n_jobs=24)]: Using backend LokyBackend with 24 concurrent workers.\n",
      "[Parallel(n_jobs=24)]: Done   6 out of  24 | elapsed:    4.9s remaining:   14.6s\n",
      "[Parallel(n_jobs=24)]: Done  11 out of  24 | elapsed:    5.0s remaining:    5.9s\n",
      "[Parallel(n_jobs=24)]: Done  16 out of  24 | elapsed:    5.2s remaining:    2.6s\n",
      "[Parallel(n_jobs=24)]: Done  21 out of  24 | elapsed:    5.3s remaining:    0.8s\n",
      "[Parallel(n_jobs=24)]: Done  24 out of  24 | elapsed:    5.4s finished\n"
     ]
    },
    {
     "name": "stdout",
     "output_type": "stream",
     "text": [
      "Reduction order for nice/marker/PowerSpectralDensity/alpha: ['frequency', 'channels']\n",
      "Reduction order for nice/marker/PowerSpectralDensity/alpha: ['frequency', 'channels']\n",
      "Reduction order for nice/marker/PowerSpectralDensity/delta: ['frequency', 'channels']\n",
      "Reduction order for nice/marker/PowerSpectralDensity/delta: ['frequency', 'channels']\n",
      "Reduction order for nice/marker/PowerSpectralDensity/theta: ['frequency', 'channels']\n",
      "Reduction order for nice/marker/PowerSpectralDensity/theta: ['frequency', 'channels']\n",
      "Reduction order for nice/marker/PowerSpectralDensity/gamma: ['frequency', 'channels']\n",
      "Reduction order for nice/marker/PowerSpectralDensity/theta: ['frequency', 'channels']\n",
      "Reduction order for nice/marker/PowerSpectralDensity/beta: ['frequency', 'channels']\n",
      "Reduction order for nice/marker/PowerSpectralDensity/beta: ['frequency', 'channels']\n",
      "Reduction order for nice/marker/PowerSpectralDensity/summary_se: ['frequency', 'channels']\n"
     ]
    },
    {
     "name": "stderr",
     "output_type": "stream",
     "text": [
      "/home/nicolas.bruno/anaconda3/lib/python3.7/site-packages/nice-0.1.dev0-py3.7.egg/nice/markers/spectral.py:128: RuntimeWarning: invalid value encountered in true_divide\n",
      "  self.data_norm_ = self.data_ / self.data_.sum(axis=-1)[..., None]\n",
      "/home/nicolas.bruno/anaconda3/lib/python3.7/site-packages/nice-0.1.dev0-py3.7.egg/nice/markers/spectral.py:220: RuntimeWarning: divide by zero encountered in log10\n",
      "  out = 10 * np.log10(out)\n"
     ]
    },
    {
     "name": "stdout",
     "output_type": "stream",
     "text": [
      "Reduction order for nice/marker/PowerSpectralDensitySummary/summary_msf: ['channels']\n",
      "Reduction order for nice/marker/PowerSpectralDensitySummary/summary_sef90: ['channels']\n",
      "Reduction order for nice/marker/PowerSpectralDensitySummary/summary_sef95: ['channels']\n",
      "Running KolmogorovComplexity\n",
      "Elapsed time 0.7511329650878906 sec\n",
      "Reduction order for nice/marker/KolmogorovComplexity/default: ['channels']\n",
      "Filtering  at 83.33 Hz\n",
      "Performing symbolic transformation\n",
      "Reduction order for nice/marker/PermutationEntropy/default: ['channels']\n",
      "Filtering  at 41.67 Hz\n"
     ]
    },
    {
     "name": "stderr",
     "output_type": "stream",
     "text": [
      "/home/nicolas.bruno/anaconda3/lib/python3.7/site-packages/nice-0.1.dev0-py3.7.egg/nice/algorithms/information_theory/permutation_entropy.py:75: RuntimeWarning: divide by zero encountered in log\n",
      "  pe = np.nan_to_num(-np.nansum(count * np.log(count), axis=1))\n",
      "/home/nicolas.bruno/anaconda3/lib/python3.7/site-packages/nice-0.1.dev0-py3.7.egg/nice/algorithms/information_theory/permutation_entropy.py:75: RuntimeWarning: invalid value encountered in multiply\n",
      "  pe = np.nan_to_num(-np.nansum(count * np.log(count), axis=1))\n"
     ]
    },
    {
     "name": "stdout",
     "output_type": "stream",
     "text": [
      "Performing symbolic transformation\n",
      "Reduction order for nice/marker/PermutationEntropy/default: ['channels']\n",
      "Filtering  at 20.83 Hz\n",
      "Performing symbolic transformation\n",
      "Reduction order for nice/marker/PermutationEntropy/default: ['channels']\n",
      "Filtering  at 10.42 Hz\n",
      "Performing symbolic transformation\n",
      "Reduction order for nice/marker/PermutationEntropy/default: ['channels']\n",
      "Autodetected number of jobs 2\n",
      "Computing CSD\n",
      "Using 10-5 locations for CSD\n",
      "Using 2 jobs\n"
     ]
    },
    {
     "name": "stderr",
     "output_type": "stream",
     "text": [
      "[Parallel(n_jobs=2)]: Using backend LokyBackend with 2 concurrent workers.\n",
      "[Parallel(n_jobs=2)]: Done  18 tasks      | elapsed:    1.7s\n"
     ]
    },
    {
     "name": "stdout",
     "output_type": "stream",
     "text": [
      "Filtering  at 83.33 Hz\n"
     ]
    },
    {
     "name": "stderr",
     "output_type": "stream",
     "text": [
      "[Parallel(n_jobs=2)]: Done 493 out of 493 | elapsed:    2.2s finished\n"
     ]
    },
    {
     "name": "stdout",
     "output_type": "stream",
     "text": [
      "Reduction order for nice/marker/SymbolicMutualInformation/default: ['channels_y', 'channels']\n",
      "Autodetected number of jobs 2\n",
      "Computing CSD\n",
      "Using 10-5 locations for CSD\n",
      "Using 2 jobs\n"
     ]
    },
    {
     "name": "stderr",
     "output_type": "stream",
     "text": [
      "[Parallel(n_jobs=2)]: Using backend LokyBackend with 2 concurrent workers.\n",
      "[Parallel(n_jobs=2)]: Done 276 tasks      | elapsed:    0.3s\n",
      "[Parallel(n_jobs=2)]: Done 493 out of 493 | elapsed:    0.5s finished\n"
     ]
    },
    {
     "name": "stdout",
     "output_type": "stream",
     "text": [
      "Filtering  at 41.67 Hz\n",
      "Reduction order for nice/marker/SymbolicMutualInformation/default: ['channels_y', 'channels']\n",
      "Autodetected number of jobs 2\n",
      "Computing CSD\n",
      "Using 10-5 locations for CSD\n",
      "Using 2 jobs\n"
     ]
    },
    {
     "name": "stderr",
     "output_type": "stream",
     "text": [
      "[Parallel(n_jobs=2)]: Using backend LokyBackend with 2 concurrent workers.\n",
      "[Parallel(n_jobs=2)]: Done 276 tasks      | elapsed:    0.4s\n",
      "[Parallel(n_jobs=2)]: Done 493 out of 493 | elapsed:    0.6s finished\n"
     ]
    },
    {
     "name": "stdout",
     "output_type": "stream",
     "text": [
      "Filtering  at 20.83 Hz\n",
      "Reduction order for nice/marker/SymbolicMutualInformation/default: ['channels_y', 'channels']\n",
      "Autodetected number of jobs 2\n",
      "Computing CSD\n",
      "Using 10-5 locations for CSD\n",
      "Using 2 jobs\n"
     ]
    },
    {
     "name": "stderr",
     "output_type": "stream",
     "text": [
      "[Parallel(n_jobs=2)]: Using backend LokyBackend with 2 concurrent workers.\n",
      "[Parallel(n_jobs=2)]: Done 276 tasks      | elapsed:    0.4s\n"
     ]
    },
    {
     "name": "stdout",
     "output_type": "stream",
     "text": [
      "Filtering  at 10.42 Hz\n"
     ]
    },
    {
     "name": "stderr",
     "output_type": "stream",
     "text": [
      "[Parallel(n_jobs=2)]: Done 493 out of 493 | elapsed:    0.6s finished\n"
     ]
    },
    {
     "name": "stdout",
     "output_type": "stream",
     "text": [
      "Reduction order for nice/marker/SymbolicMutualInformation/default: ['channels_y', 'channels']\n",
      "Reduction order for nice/marker/ContingentNegativeVariation/default: ['channels']\n",
      "Reduction order for nice/marker/TimeLockedTopography/p1: ['channels', 'times']\n",
      "Reduction order for nice/marker/TimeLockedTopography/p3a: ['channels', 'times']\n",
      "Reduction order for nice/marker/TimeLockedTopography/p3b: ['channels', 'times']\n",
      "Reading /media/nicolas.bruno/63f8a366-34b7-4896-a7ce-b5fb4ee78535/Nico/MW_eeg_data/minmarker/VP13/VP13_evoked_ar_rereferenced_epo.fif ...\n",
      "    Found the data of interest:\n",
      "        t =    -200.00 ...     600.00 ms\n",
      "        0 CTF compensation matrices available\n",
      "Not setting metadata\n",
      "Not setting metadata\n",
      "493 matching events found\n",
      "No baseline correction applied\n",
      "0 projection items activated\n",
      "Autodetected number of jobs 24\n",
      "Effective window size : 16.384 (s)\n"
     ]
    },
    {
     "name": "stderr",
     "output_type": "stream",
     "text": [
      "[Parallel(n_jobs=24)]: Using backend LokyBackend with 24 concurrent workers.\n",
      "[Parallel(n_jobs=24)]: Done   6 out of  24 | elapsed:    4.9s remaining:   14.8s\n",
      "[Parallel(n_jobs=24)]: Done  11 out of  24 | elapsed:    5.1s remaining:    6.0s\n",
      "[Parallel(n_jobs=24)]: Done  16 out of  24 | elapsed:    5.3s remaining:    2.6s\n",
      "[Parallel(n_jobs=24)]: Done  21 out of  24 | elapsed:    5.4s remaining:    0.8s\n",
      "[Parallel(n_jobs=24)]: Done  24 out of  24 | elapsed:    5.5s finished\n"
     ]
    },
    {
     "name": "stdout",
     "output_type": "stream",
     "text": [
      "Reduction order for nice/marker/PowerSpectralDensity/alpha: ['frequency', 'channels']\n",
      "Reduction order for nice/marker/PowerSpectralDensity/alpha: ['frequency', 'channels']\n",
      "Reduction order for nice/marker/PowerSpectralDensity/delta: ['frequency', 'channels']\n",
      "Reduction order for nice/marker/PowerSpectralDensity/delta: ['frequency', 'channels']\n",
      "Reduction order for nice/marker/PowerSpectralDensity/theta: ['frequency', 'channels']\n",
      "Reduction order for nice/marker/PowerSpectralDensity/theta: ['frequency', 'channels']\n",
      "Reduction order for nice/marker/PowerSpectralDensity/gamma: ['frequency', 'channels']\n",
      "Reduction order for nice/marker/PowerSpectralDensity/theta: ['frequency', 'channels']\n",
      "Reduction order for nice/marker/PowerSpectralDensity/beta: ['frequency', 'channels']\n",
      "Reduction order for nice/marker/PowerSpectralDensity/beta: ['frequency', 'channels']\n",
      "Reduction order for nice/marker/PowerSpectralDensity/summary_se: ['frequency', 'channels']\n",
      "Reduction order for nice/marker/PowerSpectralDensitySummary/summary_msf: ['channels']\n",
      "Reduction order for nice/marker/PowerSpectralDensitySummary/summary_sef90: ['channels']\n",
      "Reduction order for nice/marker/PowerSpectralDensitySummary/summary_sef95: ['channels']\n",
      "Running KolmogorovComplexity\n",
      "Elapsed time 0.7457945346832275 sec\n",
      "Reduction order for nice/marker/KolmogorovComplexity/default: ['channels']\n",
      "Filtering  at 83.33 Hz\n",
      "Performing symbolic transformation\n",
      "Reduction order for nice/marker/PermutationEntropy/default: ['channels']\n",
      "Filtering  at 41.67 Hz\n",
      "Performing symbolic transformation\n",
      "Reduction order for nice/marker/PermutationEntropy/default: ['channels']\n",
      "Filtering  at 20.83 Hz\n",
      "Performing symbolic transformation\n",
      "Reduction order for nice/marker/PermutationEntropy/default: ['channels']\n",
      "Filtering  at 10.42 Hz\n",
      "Performing symbolic transformation\n",
      "Reduction order for nice/marker/PermutationEntropy/default: ['channels']\n",
      "Autodetected number of jobs 2\n",
      "Computing CSD\n",
      "Using 10-5 locations for CSD\n",
      "Using 2 jobs\n"
     ]
    },
    {
     "name": "stderr",
     "output_type": "stream",
     "text": [
      "/home/nicolas.bruno/anaconda3/lib/python3.7/site-packages/nice-0.1.dev0-py3.7.egg/nice/algorithms/information_theory/permutation_entropy.py:75: RuntimeWarning: divide by zero encountered in log\n",
      "  pe = np.nan_to_num(-np.nansum(count * np.log(count), axis=1))\n",
      "/home/nicolas.bruno/anaconda3/lib/python3.7/site-packages/nice-0.1.dev0-py3.7.egg/nice/algorithms/information_theory/permutation_entropy.py:75: RuntimeWarning: invalid value encountered in multiply\n",
      "  pe = np.nan_to_num(-np.nansum(count * np.log(count), axis=1))\n",
      "[Parallel(n_jobs=2)]: Using backend LokyBackend with 2 concurrent workers.\n",
      "[Parallel(n_jobs=2)]: Done  18 tasks      | elapsed:    1.7s\n"
     ]
    },
    {
     "name": "stdout",
     "output_type": "stream",
     "text": [
      "Filtering  at 83.33 Hz\n"
     ]
    },
    {
     "name": "stderr",
     "output_type": "stream",
     "text": [
      "[Parallel(n_jobs=2)]: Done 493 out of 493 | elapsed:    2.2s finished\n"
     ]
    },
    {
     "name": "stdout",
     "output_type": "stream",
     "text": [
      "Reduction order for nice/marker/SymbolicMutualInformation/default: ['channels_y', 'channels']\n",
      "Autodetected number of jobs 2\n",
      "Computing CSD\n",
      "Using 10-5 locations for CSD\n",
      "Using 2 jobs\n"
     ]
    },
    {
     "name": "stderr",
     "output_type": "stream",
     "text": [
      "[Parallel(n_jobs=2)]: Using backend LokyBackend with 2 concurrent workers.\n",
      "[Parallel(n_jobs=2)]: Done  74 tasks      | elapsed:    0.1s\n"
     ]
    },
    {
     "name": "stdout",
     "output_type": "stream",
     "text": [
      "Filtering  at 41.67 Hz\n"
     ]
    },
    {
     "name": "stderr",
     "output_type": "stream",
     "text": [
      "[Parallel(n_jobs=2)]: Done 493 out of 493 | elapsed:    0.5s finished\n"
     ]
    },
    {
     "name": "stdout",
     "output_type": "stream",
     "text": [
      "Reduction order for nice/marker/SymbolicMutualInformation/default: ['channels_y', 'channels']\n",
      "Autodetected number of jobs 2\n",
      "Computing CSD\n",
      "Using 10-5 locations for CSD\n",
      "Using 2 jobs\n"
     ]
    },
    {
     "name": "stderr",
     "output_type": "stream",
     "text": [
      "[Parallel(n_jobs=2)]: Using backend LokyBackend with 2 concurrent workers.\n",
      "[Parallel(n_jobs=2)]: Done 276 tasks      | elapsed:    0.3s\n",
      "[Parallel(n_jobs=2)]: Done 493 out of 493 | elapsed:    0.5s finished\n"
     ]
    },
    {
     "name": "stdout",
     "output_type": "stream",
     "text": [
      "Filtering  at 20.83 Hz\n",
      "Reduction order for nice/marker/SymbolicMutualInformation/default: ['channels_y', 'channels']\n",
      "Autodetected number of jobs 2\n",
      "Computing CSD\n",
      "Using 10-5 locations for CSD\n",
      "Using 2 jobs\n"
     ]
    },
    {
     "name": "stderr",
     "output_type": "stream",
     "text": [
      "[Parallel(n_jobs=2)]: Using backend LokyBackend with 2 concurrent workers.\n",
      "[Parallel(n_jobs=2)]: Done 276 tasks      | elapsed:    0.3s\n",
      "[Parallel(n_jobs=2)]: Done 493 out of 493 | elapsed:    0.5s finished\n"
     ]
    },
    {
     "name": "stdout",
     "output_type": "stream",
     "text": [
      "Filtering  at 10.42 Hz\n",
      "Reduction order for nice/marker/SymbolicMutualInformation/default: ['channels_y', 'channels']\n",
      "Reduction order for nice/marker/ContingentNegativeVariation/default: ['channels']\n",
      "Reduction order for nice/marker/TimeLockedTopography/p1: ['channels', 'times']\n",
      "Reduction order for nice/marker/TimeLockedTopography/p3a: ['channels', 'times']\n",
      "Reduction order for nice/marker/TimeLockedTopography/p3b: ['channels', 'times']\n",
      "\n",
      "#########################################\n",
      "Computing markers for participant VP14\n",
      "#########################################\n",
      "\n",
      "Reading /media/nicolas.bruno/63f8a366-34b7-4896-a7ce-b5fb4ee78535/Nico/MW_eeg_data/minmarker/VP14/VP14_evoked_ar_subtracted_epo.fif ...\n",
      "    Found the data of interest:\n",
      "        t =    -200.00 ...     600.00 ms\n",
      "        0 CTF compensation matrices available\n",
      "Not setting metadata\n",
      "Not setting metadata\n",
      "486 matching events found\n",
      "No baseline correction applied\n",
      "0 projection items activated\n",
      "Autodetected number of jobs 24\n",
      "Effective window size : 16.384 (s)\n"
     ]
    },
    {
     "name": "stderr",
     "output_type": "stream",
     "text": [
      "[Parallel(n_jobs=24)]: Using backend LokyBackend with 24 concurrent workers.\n",
      "[Parallel(n_jobs=24)]: Done   6 out of  24 | elapsed:    4.8s remaining:   14.5s\n",
      "[Parallel(n_jobs=24)]: Done  11 out of  24 | elapsed:    5.0s remaining:    5.9s\n",
      "[Parallel(n_jobs=24)]: Done  16 out of  24 | elapsed:    5.1s remaining:    2.5s\n",
      "[Parallel(n_jobs=24)]: Done  21 out of  24 | elapsed:    5.3s remaining:    0.8s\n",
      "[Parallel(n_jobs=24)]: Done  24 out of  24 | elapsed:    5.3s finished\n"
     ]
    },
    {
     "name": "stdout",
     "output_type": "stream",
     "text": [
      "Reduction order for nice/marker/PowerSpectralDensity/alpha: ['frequency', 'channels']\n",
      "Reduction order for nice/marker/PowerSpectralDensity/alpha: ['frequency', 'channels']\n",
      "Reduction order for nice/marker/PowerSpectralDensity/delta: ['frequency', 'channels']\n",
      "Reduction order for nice/marker/PowerSpectralDensity/delta: ['frequency', 'channels']\n",
      "Reduction order for nice/marker/PowerSpectralDensity/theta: ['frequency', 'channels']\n",
      "Reduction order for nice/marker/PowerSpectralDensity/theta: ['frequency', 'channels']\n",
      "Reduction order for nice/marker/PowerSpectralDensity/gamma: ['frequency', 'channels']\n",
      "Reduction order for nice/marker/PowerSpectralDensity/theta: ['frequency', 'channels']\n",
      "Reduction order for nice/marker/PowerSpectralDensity/beta: ['frequency', 'channels']\n",
      "Reduction order for nice/marker/PowerSpectralDensity/beta: ['frequency', 'channels']\n",
      "Reduction order for nice/marker/PowerSpectralDensity/summary_se: ['frequency', 'channels']\n"
     ]
    },
    {
     "name": "stderr",
     "output_type": "stream",
     "text": [
      "/home/nicolas.bruno/anaconda3/lib/python3.7/site-packages/nice-0.1.dev0-py3.7.egg/nice/markers/spectral.py:128: RuntimeWarning: invalid value encountered in true_divide\n",
      "  self.data_norm_ = self.data_ / self.data_.sum(axis=-1)[..., None]\n",
      "/home/nicolas.bruno/anaconda3/lib/python3.7/site-packages/nice-0.1.dev0-py3.7.egg/nice/markers/spectral.py:220: RuntimeWarning: divide by zero encountered in log10\n",
      "  out = 10 * np.log10(out)\n"
     ]
    },
    {
     "name": "stdout",
     "output_type": "stream",
     "text": [
      "Reduction order for nice/marker/PowerSpectralDensitySummary/summary_msf: ['channels']\n",
      "Reduction order for nice/marker/PowerSpectralDensitySummary/summary_sef90: ['channels']\n",
      "Reduction order for nice/marker/PowerSpectralDensitySummary/summary_sef95: ['channels']\n",
      "Running KolmogorovComplexity\n",
      "Elapsed time 0.7300248146057129 sec\n",
      "Reduction order for nice/marker/KolmogorovComplexity/default: ['channels']\n",
      "Filtering  at 83.33 Hz\n",
      "Performing symbolic transformation\n",
      "Reduction order for nice/marker/PermutationEntropy/default: ['channels']\n",
      "Filtering  at 41.67 Hz\n"
     ]
    },
    {
     "name": "stderr",
     "output_type": "stream",
     "text": [
      "/home/nicolas.bruno/anaconda3/lib/python3.7/site-packages/nice-0.1.dev0-py3.7.egg/nice/algorithms/information_theory/permutation_entropy.py:75: RuntimeWarning: divide by zero encountered in log\n",
      "  pe = np.nan_to_num(-np.nansum(count * np.log(count), axis=1))\n",
      "/home/nicolas.bruno/anaconda3/lib/python3.7/site-packages/nice-0.1.dev0-py3.7.egg/nice/algorithms/information_theory/permutation_entropy.py:75: RuntimeWarning: invalid value encountered in multiply\n",
      "  pe = np.nan_to_num(-np.nansum(count * np.log(count), axis=1))\n"
     ]
    },
    {
     "name": "stdout",
     "output_type": "stream",
     "text": [
      "Performing symbolic transformation\n",
      "Reduction order for nice/marker/PermutationEntropy/default: ['channels']\n",
      "Filtering  at 20.83 Hz\n",
      "Performing symbolic transformation\n",
      "Reduction order for nice/marker/PermutationEntropy/default: ['channels']\n",
      "Filtering  at 10.42 Hz\n",
      "Performing symbolic transformation\n",
      "Reduction order for nice/marker/PermutationEntropy/default: ['channels']\n",
      "Autodetected number of jobs 2\n",
      "Computing CSD\n",
      "Using 10-5 locations for CSD\n",
      "Using 2 jobs\n"
     ]
    },
    {
     "name": "stderr",
     "output_type": "stream",
     "text": [
      "[Parallel(n_jobs=2)]: Using backend LokyBackend with 2 concurrent workers.\n",
      "[Parallel(n_jobs=2)]: Done  18 tasks      | elapsed:    1.7s\n"
     ]
    },
    {
     "name": "stdout",
     "output_type": "stream",
     "text": [
      "Filtering  at 83.33 Hz\n"
     ]
    },
    {
     "name": "stderr",
     "output_type": "stream",
     "text": [
      "[Parallel(n_jobs=2)]: Done 486 out of 486 | elapsed:    2.2s finished\n"
     ]
    },
    {
     "name": "stdout",
     "output_type": "stream",
     "text": [
      "Reduction order for nice/marker/SymbolicMutualInformation/default: ['channels_y', 'channels']\n",
      "Autodetected number of jobs 2\n",
      "Computing CSD\n",
      "Using 10-5 locations for CSD\n",
      "Using 2 jobs\n"
     ]
    },
    {
     "name": "stderr",
     "output_type": "stream",
     "text": [
      "[Parallel(n_jobs=2)]: Using backend LokyBackend with 2 concurrent workers.\n",
      "[Parallel(n_jobs=2)]: Done 276 tasks      | elapsed:    0.3s\n"
     ]
    },
    {
     "name": "stdout",
     "output_type": "stream",
     "text": [
      "Filtering  at 41.67 Hz\n"
     ]
    },
    {
     "name": "stderr",
     "output_type": "stream",
     "text": [
      "[Parallel(n_jobs=2)]: Done 486 out of 486 | elapsed:    0.5s finished\n"
     ]
    },
    {
     "name": "stdout",
     "output_type": "stream",
     "text": [
      "Reduction order for nice/marker/SymbolicMutualInformation/default: ['channels_y', 'channels']\n",
      "Autodetected number of jobs 2\n",
      "Computing CSD\n",
      "Using 10-5 locations for CSD\n",
      "Using 2 jobs\n"
     ]
    },
    {
     "name": "stderr",
     "output_type": "stream",
     "text": [
      "[Parallel(n_jobs=2)]: Using backend LokyBackend with 2 concurrent workers.\n",
      "[Parallel(n_jobs=2)]: Done 276 tasks      | elapsed:    0.3s\n",
      "[Parallel(n_jobs=2)]: Done 486 out of 486 | elapsed:    0.5s finished\n"
     ]
    },
    {
     "name": "stdout",
     "output_type": "stream",
     "text": [
      "Filtering  at 20.83 Hz\n",
      "Reduction order for nice/marker/SymbolicMutualInformation/default: ['channels_y', 'channels']\n",
      "Autodetected number of jobs 2\n",
      "Computing CSD\n",
      "Using 10-5 locations for CSD\n",
      "Using 2 jobs\n"
     ]
    },
    {
     "name": "stderr",
     "output_type": "stream",
     "text": [
      "[Parallel(n_jobs=2)]: Using backend LokyBackend with 2 concurrent workers.\n",
      "[Parallel(n_jobs=2)]: Done 276 tasks      | elapsed:    0.4s\n",
      "[Parallel(n_jobs=2)]: Done 486 out of 486 | elapsed:    0.6s finished\n"
     ]
    },
    {
     "name": "stdout",
     "output_type": "stream",
     "text": [
      "Filtering  at 10.42 Hz\n",
      "Reduction order for nice/marker/SymbolicMutualInformation/default: ['channels_y', 'channels']\n",
      "Reduction order for nice/marker/ContingentNegativeVariation/default: ['channels']\n",
      "Reduction order for nice/marker/TimeLockedTopography/p1: ['channels', 'times']\n",
      "Reduction order for nice/marker/TimeLockedTopography/p3a: ['channels', 'times']\n",
      "Reduction order for nice/marker/TimeLockedTopography/p3b: ['channels', 'times']\n",
      "Reading /media/nicolas.bruno/63f8a366-34b7-4896-a7ce-b5fb4ee78535/Nico/MW_eeg_data/minmarker/VP14/VP14_evoked_ar_rereferenced_epo.fif ...\n",
      "    Found the data of interest:\n",
      "        t =    -200.00 ...     600.00 ms\n",
      "        0 CTF compensation matrices available\n",
      "Not setting metadata\n",
      "Not setting metadata\n",
      "486 matching events found\n",
      "No baseline correction applied\n",
      "0 projection items activated\n",
      "Autodetected number of jobs 24\n",
      "Effective window size : 16.384 (s)\n"
     ]
    },
    {
     "name": "stderr",
     "output_type": "stream",
     "text": [
      "[Parallel(n_jobs=24)]: Using backend LokyBackend with 24 concurrent workers.\n",
      "[Parallel(n_jobs=24)]: Done   6 out of  24 | elapsed:    4.8s remaining:   14.4s\n",
      "[Parallel(n_jobs=24)]: Done  11 out of  24 | elapsed:    5.0s remaining:    5.9s\n",
      "[Parallel(n_jobs=24)]: Done  16 out of  24 | elapsed:    5.1s remaining:    2.5s\n",
      "[Parallel(n_jobs=24)]: Done  21 out of  24 | elapsed:    5.2s remaining:    0.7s\n",
      "[Parallel(n_jobs=24)]: Done  24 out of  24 | elapsed:    5.3s finished\n"
     ]
    },
    {
     "name": "stdout",
     "output_type": "stream",
     "text": [
      "Reduction order for nice/marker/PowerSpectralDensity/alpha: ['frequency', 'channels']\n",
      "Reduction order for nice/marker/PowerSpectralDensity/alpha: ['frequency', 'channels']\n",
      "Reduction order for nice/marker/PowerSpectralDensity/delta: ['frequency', 'channels']\n",
      "Reduction order for nice/marker/PowerSpectralDensity/delta: ['frequency', 'channels']\n",
      "Reduction order for nice/marker/PowerSpectralDensity/theta: ['frequency', 'channels']\n",
      "Reduction order for nice/marker/PowerSpectralDensity/theta: ['frequency', 'channels']\n",
      "Reduction order for nice/marker/PowerSpectralDensity/gamma: ['frequency', 'channels']\n",
      "Reduction order for nice/marker/PowerSpectralDensity/theta: ['frequency', 'channels']\n",
      "Reduction order for nice/marker/PowerSpectralDensity/beta: ['frequency', 'channels']\n",
      "Reduction order for nice/marker/PowerSpectralDensity/beta: ['frequency', 'channels']\n",
      "Reduction order for nice/marker/PowerSpectralDensity/summary_se: ['frequency', 'channels']\n",
      "Reduction order for nice/marker/PowerSpectralDensitySummary/summary_msf: ['channels']\n",
      "Reduction order for nice/marker/PowerSpectralDensitySummary/summary_sef90: ['channels']\n",
      "Reduction order for nice/marker/PowerSpectralDensitySummary/summary_sef95: ['channels']\n",
      "Running KolmogorovComplexity\n",
      "Elapsed time 0.7324972152709961 sec\n",
      "Reduction order for nice/marker/KolmogorovComplexity/default: ['channels']\n",
      "Filtering  at 83.33 Hz\n",
      "Performing symbolic transformation\n",
      "Reduction order for nice/marker/PermutationEntropy/default: ['channels']\n",
      "Filtering  at 41.67 Hz\n"
     ]
    },
    {
     "name": "stderr",
     "output_type": "stream",
     "text": [
      "/home/nicolas.bruno/anaconda3/lib/python3.7/site-packages/nice-0.1.dev0-py3.7.egg/nice/algorithms/information_theory/permutation_entropy.py:75: RuntimeWarning: divide by zero encountered in log\n",
      "  pe = np.nan_to_num(-np.nansum(count * np.log(count), axis=1))\n",
      "/home/nicolas.bruno/anaconda3/lib/python3.7/site-packages/nice-0.1.dev0-py3.7.egg/nice/algorithms/information_theory/permutation_entropy.py:75: RuntimeWarning: invalid value encountered in multiply\n",
      "  pe = np.nan_to_num(-np.nansum(count * np.log(count), axis=1))\n"
     ]
    },
    {
     "name": "stdout",
     "output_type": "stream",
     "text": [
      "Performing symbolic transformation\n",
      "Reduction order for nice/marker/PermutationEntropy/default: ['channels']\n",
      "Filtering  at 20.83 Hz\n",
      "Performing symbolic transformation\n",
      "Reduction order for nice/marker/PermutationEntropy/default: ['channels']\n",
      "Filtering  at 10.42 Hz\n",
      "Performing symbolic transformation\n",
      "Reduction order for nice/marker/PermutationEntropy/default: ['channels']\n",
      "Autodetected number of jobs 2\n",
      "Computing CSD\n",
      "Using 10-5 locations for CSD\n",
      "Using 2 jobs\n"
     ]
    },
    {
     "name": "stderr",
     "output_type": "stream",
     "text": [
      "[Parallel(n_jobs=2)]: Using backend LokyBackend with 2 concurrent workers.\n",
      "[Parallel(n_jobs=2)]: Done  18 tasks      | elapsed:    1.7s\n"
     ]
    },
    {
     "name": "stdout",
     "output_type": "stream",
     "text": [
      "Filtering  at 83.33 Hz\n"
     ]
    },
    {
     "name": "stderr",
     "output_type": "stream",
     "text": [
      "[Parallel(n_jobs=2)]: Done 486 out of 486 | elapsed:    2.2s finished\n"
     ]
    },
    {
     "name": "stdout",
     "output_type": "stream",
     "text": [
      "Reduction order for nice/marker/SymbolicMutualInformation/default: ['channels_y', 'channels']\n",
      "Autodetected number of jobs 2\n",
      "Computing CSD\n",
      "Using 10-5 locations for CSD\n",
      "Using 2 jobs\n"
     ]
    },
    {
     "name": "stderr",
     "output_type": "stream",
     "text": [
      "[Parallel(n_jobs=2)]: Using backend LokyBackend with 2 concurrent workers.\n",
      "[Parallel(n_jobs=2)]: Done 276 tasks      | elapsed:    0.4s\n",
      "[Parallel(n_jobs=2)]: Done 486 out of 486 | elapsed:    0.6s finished\n"
     ]
    },
    {
     "name": "stdout",
     "output_type": "stream",
     "text": [
      "Filtering  at 41.67 Hz\n",
      "Reduction order for nice/marker/SymbolicMutualInformation/default: ['channels_y', 'channels']\n",
      "Autodetected number of jobs 2\n",
      "Computing CSD\n",
      "Using 10-5 locations for CSD\n",
      "Using 2 jobs\n"
     ]
    },
    {
     "name": "stderr",
     "output_type": "stream",
     "text": [
      "[Parallel(n_jobs=2)]: Using backend LokyBackend with 2 concurrent workers.\n",
      "[Parallel(n_jobs=2)]: Done 276 tasks      | elapsed:    0.3s\n",
      "[Parallel(n_jobs=2)]: Done 486 out of 486 | elapsed:    0.5s finished\n"
     ]
    },
    {
     "name": "stdout",
     "output_type": "stream",
     "text": [
      "Filtering  at 20.83 Hz\n",
      "Reduction order for nice/marker/SymbolicMutualInformation/default: ['channels_y', 'channels']\n",
      "Autodetected number of jobs 2\n",
      "Computing CSD\n",
      "Using 10-5 locations for CSD\n",
      "Using 2 jobs\n"
     ]
    },
    {
     "name": "stderr",
     "output_type": "stream",
     "text": [
      "[Parallel(n_jobs=2)]: Using backend LokyBackend with 2 concurrent workers.\n",
      "[Parallel(n_jobs=2)]: Done 276 tasks      | elapsed:    0.4s\n",
      "[Parallel(n_jobs=2)]: Done 486 out of 486 | elapsed:    0.5s finished\n"
     ]
    },
    {
     "name": "stdout",
     "output_type": "stream",
     "text": [
      "Filtering  at 10.42 Hz\n",
      "Reduction order for nice/marker/SymbolicMutualInformation/default: ['channels_y', 'channels']\n",
      "Reduction order for nice/marker/ContingentNegativeVariation/default: ['channels']\n",
      "Reduction order for nice/marker/TimeLockedTopography/p1: ['channels', 'times']\n",
      "Reduction order for nice/marker/TimeLockedTopography/p3a: ['channels', 'times']\n",
      "Reduction order for nice/marker/TimeLockedTopography/p3b: ['channels', 'times']\n",
      "\n",
      "#########################################\n",
      "Computing markers for participant VP18\n",
      "#########################################\n",
      "\n",
      "Reading /media/nicolas.bruno/63f8a366-34b7-4896-a7ce-b5fb4ee78535/Nico/MW_eeg_data/minmarker/VP18/VP18_evoked_ar_subtracted_epo.fif ...\n",
      "    Found the data of interest:\n",
      "        t =    -200.00 ...     600.00 ms\n",
      "        0 CTF compensation matrices available\n",
      "Not setting metadata\n",
      "Not setting metadata\n",
      "331 matching events found\n",
      "No baseline correction applied\n",
      "0 projection items activated\n",
      "Autodetected number of jobs 24\n",
      "Effective window size : 16.384 (s)\n"
     ]
    },
    {
     "name": "stderr",
     "output_type": "stream",
     "text": [
      "[Parallel(n_jobs=24)]: Using backend LokyBackend with 24 concurrent workers.\n",
      "[Parallel(n_jobs=24)]: Done   6 out of  24 | elapsed:    4.4s remaining:   13.2s\n",
      "[Parallel(n_jobs=24)]: Done  11 out of  24 | elapsed:    4.5s remaining:    5.3s\n",
      "[Parallel(n_jobs=24)]: Done  16 out of  24 | elapsed:    4.6s remaining:    2.3s\n",
      "[Parallel(n_jobs=24)]: Done  21 out of  24 | elapsed:    4.7s remaining:    0.7s\n",
      "[Parallel(n_jobs=24)]: Done  24 out of  24 | elapsed:    4.8s finished\n"
     ]
    },
    {
     "name": "stdout",
     "output_type": "stream",
     "text": [
      "Reduction order for nice/marker/PowerSpectralDensity/alpha: ['frequency', 'channels']\n",
      "Reduction order for nice/marker/PowerSpectralDensity/alpha: ['frequency', 'channels']\n",
      "Reduction order for nice/marker/PowerSpectralDensity/delta: ['frequency', 'channels']\n",
      "Reduction order for nice/marker/PowerSpectralDensity/delta: ['frequency', 'channels']\n",
      "Reduction order for nice/marker/PowerSpectralDensity/theta: ['frequency', 'channels']\n",
      "Reduction order for nice/marker/PowerSpectralDensity/theta: ['frequency', 'channels']\n",
      "Reduction order for nice/marker/PowerSpectralDensity/gamma: ['frequency', 'channels']\n",
      "Reduction order for nice/marker/PowerSpectralDensity/theta: ['frequency', 'channels']\n",
      "Reduction order for nice/marker/PowerSpectralDensity/beta: ['frequency', 'channels']\n",
      "Reduction order for nice/marker/PowerSpectralDensity/beta: ['frequency', 'channels']\n",
      "Reduction order for nice/marker/PowerSpectralDensity/summary_se: ['frequency', 'channels']\n"
     ]
    },
    {
     "name": "stderr",
     "output_type": "stream",
     "text": [
      "/home/nicolas.bruno/anaconda3/lib/python3.7/site-packages/nice-0.1.dev0-py3.7.egg/nice/markers/spectral.py:128: RuntimeWarning: invalid value encountered in true_divide\n",
      "  self.data_norm_ = self.data_ / self.data_.sum(axis=-1)[..., None]\n",
      "/home/nicolas.bruno/anaconda3/lib/python3.7/site-packages/nice-0.1.dev0-py3.7.egg/nice/markers/spectral.py:220: RuntimeWarning: divide by zero encountered in log10\n",
      "  out = 10 * np.log10(out)\n"
     ]
    },
    {
     "name": "stdout",
     "output_type": "stream",
     "text": [
      "Reduction order for nice/marker/PowerSpectralDensitySummary/summary_msf: ['channels']\n",
      "Reduction order for nice/marker/PowerSpectralDensitySummary/summary_sef90: ['channels']\n",
      "Reduction order for nice/marker/PowerSpectralDensitySummary/summary_sef95: ['channels']\n",
      "Running KolmogorovComplexity\n",
      "Elapsed time 0.46802401542663574 sec\n",
      "Reduction order for nice/marker/KolmogorovComplexity/default: ['channels']\n",
      "Filtering  at 83.33 Hz\n",
      "Performing symbolic transformation\n",
      "Reduction order for nice/marker/PermutationEntropy/default: ['channels']\n",
      "Filtering  at 41.67 Hz\n",
      "Performing symbolic transformation\n"
     ]
    },
    {
     "name": "stderr",
     "output_type": "stream",
     "text": [
      "/home/nicolas.bruno/anaconda3/lib/python3.7/site-packages/nice-0.1.dev0-py3.7.egg/nice/algorithms/information_theory/permutation_entropy.py:75: RuntimeWarning: divide by zero encountered in log\n",
      "  pe = np.nan_to_num(-np.nansum(count * np.log(count), axis=1))\n",
      "/home/nicolas.bruno/anaconda3/lib/python3.7/site-packages/nice-0.1.dev0-py3.7.egg/nice/algorithms/information_theory/permutation_entropy.py:75: RuntimeWarning: invalid value encountered in multiply\n",
      "  pe = np.nan_to_num(-np.nansum(count * np.log(count), axis=1))\n"
     ]
    },
    {
     "name": "stdout",
     "output_type": "stream",
     "text": [
      "Reduction order for nice/marker/PermutationEntropy/default: ['channels']\n",
      "Filtering  at 20.83 Hz\n",
      "Performing symbolic transformation\n",
      "Reduction order for nice/marker/PermutationEntropy/default: ['channels']\n",
      "Filtering  at 10.42 Hz\n",
      "Performing symbolic transformation\n",
      "Reduction order for nice/marker/PermutationEntropy/default: ['channels']\n",
      "Autodetected number of jobs 2\n",
      "Computing CSD\n",
      "Using 10-5 locations for CSD\n",
      "Using 2 jobs\n"
     ]
    },
    {
     "name": "stderr",
     "output_type": "stream",
     "text": [
      "[Parallel(n_jobs=2)]: Using backend LokyBackend with 2 concurrent workers.\n",
      "[Parallel(n_jobs=2)]: Done  18 tasks      | elapsed:    1.7s\n"
     ]
    },
    {
     "name": "stdout",
     "output_type": "stream",
     "text": [
      "Filtering  at 83.33 Hz\n"
     ]
    },
    {
     "name": "stderr",
     "output_type": "stream",
     "text": [
      "[Parallel(n_jobs=2)]: Done 331 out of 331 | elapsed:    2.0s finished\n"
     ]
    },
    {
     "name": "stdout",
     "output_type": "stream",
     "text": [
      "Reduction order for nice/marker/SymbolicMutualInformation/default: ['channels_y', 'channels']\n",
      "Autodetected number of jobs 2\n",
      "Computing CSD\n",
      "Using 10-5 locations for CSD\n",
      "Using 2 jobs\n"
     ]
    },
    {
     "name": "stderr",
     "output_type": "stream",
     "text": [
      "[Parallel(n_jobs=2)]: Using backend LokyBackend with 2 concurrent workers.\n",
      "[Parallel(n_jobs=2)]: Done 110 tasks      | elapsed:    0.2s\n"
     ]
    },
    {
     "name": "stdout",
     "output_type": "stream",
     "text": [
      "Filtering  at 41.67 Hz\n"
     ]
    },
    {
     "name": "stderr",
     "output_type": "stream",
     "text": [
      "[Parallel(n_jobs=2)]: Done 331 out of 331 | elapsed:    0.3s finished\n"
     ]
    },
    {
     "name": "stdout",
     "output_type": "stream",
     "text": [
      "Reduction order for nice/marker/SymbolicMutualInformation/default: ['channels_y', 'channels']\n",
      "Autodetected number of jobs 2\n",
      "Computing CSD\n",
      "Using 10-5 locations for CSD\n",
      "Using 2 jobs\n"
     ]
    },
    {
     "name": "stderr",
     "output_type": "stream",
     "text": [
      "[Parallel(n_jobs=2)]: Using backend LokyBackend with 2 concurrent workers.\n"
     ]
    },
    {
     "name": "stdout",
     "output_type": "stream",
     "text": [
      "Filtering  at 20.83 Hz\n"
     ]
    },
    {
     "name": "stderr",
     "output_type": "stream",
     "text": [
      "[Parallel(n_jobs=2)]: Done 199 tasks      | elapsed:    0.3s\n",
      "[Parallel(n_jobs=2)]: Done 331 out of 331 | elapsed:    0.4s finished\n"
     ]
    },
    {
     "name": "stdout",
     "output_type": "stream",
     "text": [
      "Reduction order for nice/marker/SymbolicMutualInformation/default: ['channels_y', 'channels']\n",
      "Autodetected number of jobs 2\n",
      "Computing CSD\n",
      "Using 10-5 locations for CSD\n",
      "Using 2 jobs\n"
     ]
    },
    {
     "name": "stderr",
     "output_type": "stream",
     "text": [
      "[Parallel(n_jobs=2)]: Using backend LokyBackend with 2 concurrent workers.\n"
     ]
    },
    {
     "name": "stdout",
     "output_type": "stream",
     "text": [
      "Filtering  at 10.42 Hz\n"
     ]
    },
    {
     "name": "stderr",
     "output_type": "stream",
     "text": [
      "[Parallel(n_jobs=2)]: Done 199 tasks      | elapsed:    0.3s\n",
      "[Parallel(n_jobs=2)]: Done 331 out of 331 | elapsed:    0.4s finished\n"
     ]
    },
    {
     "name": "stdout",
     "output_type": "stream",
     "text": [
      "Reduction order for nice/marker/SymbolicMutualInformation/default: ['channels_y', 'channels']\n",
      "Reduction order for nice/marker/ContingentNegativeVariation/default: ['channels']\n",
      "Reduction order for nice/marker/TimeLockedTopography/p1: ['channels', 'times']\n",
      "Reduction order for nice/marker/TimeLockedTopography/p3a: ['channels', 'times']\n",
      "Reduction order for nice/marker/TimeLockedTopography/p3b: ['channels', 'times']\n",
      "Reading /media/nicolas.bruno/63f8a366-34b7-4896-a7ce-b5fb4ee78535/Nico/MW_eeg_data/minmarker/VP18/VP18_evoked_ar_rereferenced_epo.fif ...\n",
      "    Found the data of interest:\n",
      "        t =    -200.00 ...     600.00 ms\n",
      "        0 CTF compensation matrices available\n",
      "Not setting metadata\n",
      "Not setting metadata\n",
      "331 matching events found\n",
      "No baseline correction applied\n",
      "0 projection items activated\n",
      "Autodetected number of jobs 24\n",
      "Effective window size : 16.384 (s)\n"
     ]
    },
    {
     "name": "stderr",
     "output_type": "stream",
     "text": [
      "[Parallel(n_jobs=24)]: Using backend LokyBackend with 24 concurrent workers.\n",
      "[Parallel(n_jobs=24)]: Done   6 out of  24 | elapsed:    4.4s remaining:   13.3s\n",
      "[Parallel(n_jobs=24)]: Done  11 out of  24 | elapsed:    4.5s remaining:    5.3s\n",
      "[Parallel(n_jobs=24)]: Done  16 out of  24 | elapsed:    4.6s remaining:    2.3s\n",
      "[Parallel(n_jobs=24)]: Done  21 out of  24 | elapsed:    4.7s remaining:    0.7s\n",
      "[Parallel(n_jobs=24)]: Done  24 out of  24 | elapsed:    4.8s finished\n"
     ]
    },
    {
     "name": "stdout",
     "output_type": "stream",
     "text": [
      "Reduction order for nice/marker/PowerSpectralDensity/alpha: ['frequency', 'channels']\n",
      "Reduction order for nice/marker/PowerSpectralDensity/alpha: ['frequency', 'channels']\n",
      "Reduction order for nice/marker/PowerSpectralDensity/delta: ['frequency', 'channels']\n",
      "Reduction order for nice/marker/PowerSpectralDensity/delta: ['frequency', 'channels']\n",
      "Reduction order for nice/marker/PowerSpectralDensity/theta: ['frequency', 'channels']\n",
      "Reduction order for nice/marker/PowerSpectralDensity/theta: ['frequency', 'channels']\n",
      "Reduction order for nice/marker/PowerSpectralDensity/gamma: ['frequency', 'channels']\n",
      "Reduction order for nice/marker/PowerSpectralDensity/theta: ['frequency', 'channels']\n",
      "Reduction order for nice/marker/PowerSpectralDensity/beta: ['frequency', 'channels']\n",
      "Reduction order for nice/marker/PowerSpectralDensity/beta: ['frequency', 'channels']\n",
      "Reduction order for nice/marker/PowerSpectralDensity/summary_se: ['frequency', 'channels']\n",
      "Reduction order for nice/marker/PowerSpectralDensitySummary/summary_msf: ['channels']\n",
      "Reduction order for nice/marker/PowerSpectralDensitySummary/summary_sef90: ['channels']\n",
      "Reduction order for nice/marker/PowerSpectralDensitySummary/summary_sef95: ['channels']\n",
      "Running KolmogorovComplexity\n",
      "Elapsed time 0.4694178104400635 sec\n",
      "Reduction order for nice/marker/KolmogorovComplexity/default: ['channels']\n",
      "Filtering  at 83.33 Hz\n",
      "Performing symbolic transformation\n",
      "Reduction order for nice/marker/PermutationEntropy/default: ['channels']\n",
      "Filtering  at 41.67 Hz\n",
      "Performing symbolic transformation\n"
     ]
    },
    {
     "name": "stderr",
     "output_type": "stream",
     "text": [
      "/home/nicolas.bruno/anaconda3/lib/python3.7/site-packages/nice-0.1.dev0-py3.7.egg/nice/algorithms/information_theory/permutation_entropy.py:75: RuntimeWarning: divide by zero encountered in log\n",
      "  pe = np.nan_to_num(-np.nansum(count * np.log(count), axis=1))\n",
      "/home/nicolas.bruno/anaconda3/lib/python3.7/site-packages/nice-0.1.dev0-py3.7.egg/nice/algorithms/information_theory/permutation_entropy.py:75: RuntimeWarning: invalid value encountered in multiply\n",
      "  pe = np.nan_to_num(-np.nansum(count * np.log(count), axis=1))\n"
     ]
    },
    {
     "name": "stdout",
     "output_type": "stream",
     "text": [
      "Reduction order for nice/marker/PermutationEntropy/default: ['channels']\n",
      "Filtering  at 20.83 Hz\n",
      "Performing symbolic transformation\n",
      "Reduction order for nice/marker/PermutationEntropy/default: ['channels']\n",
      "Filtering  at 10.42 Hz\n",
      "Performing symbolic transformation\n",
      "Reduction order for nice/marker/PermutationEntropy/default: ['channels']\n",
      "Autodetected number of jobs 2\n",
      "Computing CSD\n",
      "Using 10-5 locations for CSD\n",
      "Using 2 jobs\n"
     ]
    },
    {
     "name": "stderr",
     "output_type": "stream",
     "text": [
      "[Parallel(n_jobs=2)]: Using backend LokyBackend with 2 concurrent workers.\n",
      "[Parallel(n_jobs=2)]: Done  16 tasks      | elapsed:    1.7s\n"
     ]
    },
    {
     "name": "stdout",
     "output_type": "stream",
     "text": [
      "Filtering  at 83.33 Hz\n"
     ]
    },
    {
     "name": "stderr",
     "output_type": "stream",
     "text": [
      "[Parallel(n_jobs=2)]: Done 331 out of 331 | elapsed:    2.0s finished\n"
     ]
    },
    {
     "name": "stdout",
     "output_type": "stream",
     "text": [
      "Reduction order for nice/marker/SymbolicMutualInformation/default: ['channels_y', 'channels']\n",
      "Autodetected number of jobs 2\n",
      "Computing CSD\n",
      "Using 10-5 locations for CSD\n",
      "Using 2 jobs\n"
     ]
    },
    {
     "name": "stderr",
     "output_type": "stream",
     "text": [
      "[Parallel(n_jobs=2)]: Using backend LokyBackend with 2 concurrent workers.\n"
     ]
    },
    {
     "name": "stdout",
     "output_type": "stream",
     "text": [
      "Filtering  at 41.67 Hz\n"
     ]
    },
    {
     "name": "stderr",
     "output_type": "stream",
     "text": [
      "[Parallel(n_jobs=2)]: Done 260 tasks      | elapsed:    0.3s\n",
      "[Parallel(n_jobs=2)]: Done 331 out of 331 | elapsed:    0.4s finished\n"
     ]
    },
    {
     "name": "stdout",
     "output_type": "stream",
     "text": [
      "Reduction order for nice/marker/SymbolicMutualInformation/default: ['channels_y', 'channels']\n",
      "Autodetected number of jobs 2\n",
      "Computing CSD\n",
      "Using 10-5 locations for CSD\n",
      "Using 2 jobs\n"
     ]
    },
    {
     "name": "stderr",
     "output_type": "stream",
     "text": [
      "[Parallel(n_jobs=2)]: Using backend LokyBackend with 2 concurrent workers.\n"
     ]
    },
    {
     "name": "stdout",
     "output_type": "stream",
     "text": [
      "Filtering  at 20.83 Hz\n"
     ]
    },
    {
     "name": "stderr",
     "output_type": "stream",
     "text": [
      "[Parallel(n_jobs=2)]: Done 199 tasks      | elapsed:    0.3s\n",
      "[Parallel(n_jobs=2)]: Done 331 out of 331 | elapsed:    0.4s finished\n"
     ]
    },
    {
     "name": "stdout",
     "output_type": "stream",
     "text": [
      "Reduction order for nice/marker/SymbolicMutualInformation/default: ['channels_y', 'channels']\n",
      "Autodetected number of jobs 2\n",
      "Computing CSD\n",
      "Using 10-5 locations for CSD\n",
      "Using 2 jobs\n"
     ]
    },
    {
     "name": "stderr",
     "output_type": "stream",
     "text": [
      "[Parallel(n_jobs=2)]: Using backend LokyBackend with 2 concurrent workers.\n",
      "[Parallel(n_jobs=2)]: Done 102 tasks      | elapsed:    0.2s\n"
     ]
    },
    {
     "name": "stdout",
     "output_type": "stream",
     "text": [
      "Filtering  at 10.42 Hz\n"
     ]
    },
    {
     "name": "stderr",
     "output_type": "stream",
     "text": [
      "[Parallel(n_jobs=2)]: Done 331 out of 331 | elapsed:    0.4s finished\n"
     ]
    },
    {
     "name": "stdout",
     "output_type": "stream",
     "text": [
      "Reduction order for nice/marker/SymbolicMutualInformation/default: ['channels_y', 'channels']\n",
      "Reduction order for nice/marker/ContingentNegativeVariation/default: ['channels']\n",
      "Reduction order for nice/marker/TimeLockedTopography/p1: ['channels', 'times']\n",
      "Reduction order for nice/marker/TimeLockedTopography/p3a: ['channels', 'times']\n",
      "Reduction order for nice/marker/TimeLockedTopography/p3b: ['channels', 'times']\n",
      "\n",
      "#########################################\n",
      "Computing markers for participant VP19\n",
      "#########################################\n",
      "\n",
      "Reading /media/nicolas.bruno/63f8a366-34b7-4896-a7ce-b5fb4ee78535/Nico/MW_eeg_data/minmarker/VP19/VP19_evoked_ar_subtracted_epo.fif ...\n",
      "    Found the data of interest:\n",
      "        t =    -200.00 ...     600.00 ms\n",
      "        0 CTF compensation matrices available\n",
      "Not setting metadata\n",
      "Not setting metadata\n",
      "294 matching events found\n",
      "No baseline correction applied\n",
      "0 projection items activated\n",
      "Autodetected number of jobs 24\n",
      "Effective window size : 16.384 (s)\n"
     ]
    },
    {
     "name": "stderr",
     "output_type": "stream",
     "text": [
      "[Parallel(n_jobs=24)]: Using backend LokyBackend with 24 concurrent workers.\n",
      "[Parallel(n_jobs=24)]: Done   6 out of  24 | elapsed:    4.4s remaining:   13.2s\n",
      "[Parallel(n_jobs=24)]: Done  11 out of  24 | elapsed:    4.5s remaining:    5.3s\n",
      "[Parallel(n_jobs=24)]: Done  16 out of  24 | elapsed:    4.6s remaining:    2.3s\n",
      "[Parallel(n_jobs=24)]: Done  21 out of  24 | elapsed:    4.7s remaining:    0.7s\n",
      "[Parallel(n_jobs=24)]: Done  24 out of  24 | elapsed:    4.7s finished\n"
     ]
    },
    {
     "name": "stdout",
     "output_type": "stream",
     "text": [
      "Reduction order for nice/marker/PowerSpectralDensity/alpha: ['frequency', 'channels']\n",
      "Reduction order for nice/marker/PowerSpectralDensity/alpha: ['frequency', 'channels']\n",
      "Reduction order for nice/marker/PowerSpectralDensity/delta: ['frequency', 'channels']\n",
      "Reduction order for nice/marker/PowerSpectralDensity/delta: ['frequency', 'channels']\n",
      "Reduction order for nice/marker/PowerSpectralDensity/theta: ['frequency', 'channels']\n",
      "Reduction order for nice/marker/PowerSpectralDensity/theta: ['frequency', 'channels']\n",
      "Reduction order for nice/marker/PowerSpectralDensity/gamma: ['frequency', 'channels']\n",
      "Reduction order for nice/marker/PowerSpectralDensity/theta: ['frequency', 'channels']\n",
      "Reduction order for nice/marker/PowerSpectralDensity/beta: ['frequency', 'channels']\n",
      "Reduction order for nice/marker/PowerSpectralDensity/beta: ['frequency', 'channels']\n",
      "Reduction order for nice/marker/PowerSpectralDensity/summary_se: ['frequency', 'channels']\n"
     ]
    },
    {
     "name": "stderr",
     "output_type": "stream",
     "text": [
      "/home/nicolas.bruno/anaconda3/lib/python3.7/site-packages/nice-0.1.dev0-py3.7.egg/nice/markers/spectral.py:128: RuntimeWarning: invalid value encountered in true_divide\n",
      "  self.data_norm_ = self.data_ / self.data_.sum(axis=-1)[..., None]\n",
      "/home/nicolas.bruno/anaconda3/lib/python3.7/site-packages/nice-0.1.dev0-py3.7.egg/nice/markers/spectral.py:220: RuntimeWarning: divide by zero encountered in log10\n",
      "  out = 10 * np.log10(out)\n"
     ]
    },
    {
     "name": "stdout",
     "output_type": "stream",
     "text": [
      "Reduction order for nice/marker/PowerSpectralDensitySummary/summary_msf: ['channels']\n",
      "Reduction order for nice/marker/PowerSpectralDensitySummary/summary_sef90: ['channels']\n",
      "Reduction order for nice/marker/PowerSpectralDensitySummary/summary_sef95: ['channels']\n",
      "Running KolmogorovComplexity\n",
      "Elapsed time 0.41910505294799805 sec\n",
      "Reduction order for nice/marker/KolmogorovComplexity/default: ['channels']\n",
      "Filtering  at 83.33 Hz\n",
      "Performing symbolic transformation\n",
      "Reduction order for nice/marker/PermutationEntropy/default: ['channels']\n",
      "Filtering  at 41.67 Hz\n",
      "Performing symbolic transformation\n",
      "Reduction order for nice/marker/PermutationEntropy/default: ['channels']\n",
      "Filtering  at 20.83 Hz\n",
      "Performing symbolic transformation\n",
      "Reduction order for nice/marker/PermutationEntropy/default: ['channels']\n",
      "Filtering  at 10.42 Hz\n",
      "Performing symbolic transformation\n",
      "Reduction order for nice/marker/PermutationEntropy/default: ['channels']\n",
      "Autodetected number of jobs 2\n",
      "Computing CSD\n",
      "Using 10-5 locations for CSD\n",
      "Using 2 jobs\n"
     ]
    },
    {
     "name": "stderr",
     "output_type": "stream",
     "text": [
      "/home/nicolas.bruno/anaconda3/lib/python3.7/site-packages/nice-0.1.dev0-py3.7.egg/nice/algorithms/information_theory/permutation_entropy.py:75: RuntimeWarning: divide by zero encountered in log\n",
      "  pe = np.nan_to_num(-np.nansum(count * np.log(count), axis=1))\n",
      "/home/nicolas.bruno/anaconda3/lib/python3.7/site-packages/nice-0.1.dev0-py3.7.egg/nice/algorithms/information_theory/permutation_entropy.py:75: RuntimeWarning: invalid value encountered in multiply\n",
      "  pe = np.nan_to_num(-np.nansum(count * np.log(count), axis=1))\n",
      "[Parallel(n_jobs=2)]: Using backend LokyBackend with 2 concurrent workers.\n",
      "[Parallel(n_jobs=2)]: Done  18 tasks      | elapsed:    1.7s\n"
     ]
    },
    {
     "name": "stdout",
     "output_type": "stream",
     "text": [
      "Filtering  at 83.33 Hz\n"
     ]
    },
    {
     "name": "stderr",
     "output_type": "stream",
     "text": [
      "[Parallel(n_jobs=2)]: Done 294 out of 294 | elapsed:    2.1s finished\n"
     ]
    },
    {
     "name": "stdout",
     "output_type": "stream",
     "text": [
      "Reduction order for nice/marker/SymbolicMutualInformation/default: ['channels_y', 'channels']\n",
      "Autodetected number of jobs 2\n",
      "Computing CSD\n",
      "Using 10-5 locations for CSD\n",
      "Using 2 jobs\n"
     ]
    },
    {
     "name": "stderr",
     "output_type": "stream",
     "text": [
      "[Parallel(n_jobs=2)]: Using backend LokyBackend with 2 concurrent workers.\n"
     ]
    },
    {
     "name": "stdout",
     "output_type": "stream",
     "text": [
      "Filtering  at 41.67 Hz\n"
     ]
    },
    {
     "name": "stderr",
     "output_type": "stream",
     "text": [
      "[Parallel(n_jobs=2)]: Done 258 tasks      | elapsed:    0.3s\n",
      "[Parallel(n_jobs=2)]: Done 294 out of 294 | elapsed:    0.4s finished\n"
     ]
    },
    {
     "name": "stdout",
     "output_type": "stream",
     "text": [
      "Reduction order for nice/marker/SymbolicMutualInformation/default: ['channels_y', 'channels']\n",
      "Autodetected number of jobs 2\n",
      "Computing CSD\n",
      "Using 10-5 locations for CSD\n",
      "Using 2 jobs\n"
     ]
    },
    {
     "name": "stderr",
     "output_type": "stream",
     "text": [
      "[Parallel(n_jobs=2)]: Using backend LokyBackend with 2 concurrent workers.\n"
     ]
    },
    {
     "name": "stdout",
     "output_type": "stream",
     "text": [
      "Filtering  at 20.83 Hz\n"
     ]
    },
    {
     "name": "stderr",
     "output_type": "stream",
     "text": [
      "[Parallel(n_jobs=2)]: Done 196 tasks      | elapsed:    0.3s\n",
      "[Parallel(n_jobs=2)]: Done 294 out of 294 | elapsed:    0.4s finished\n"
     ]
    },
    {
     "name": "stdout",
     "output_type": "stream",
     "text": [
      "Reduction order for nice/marker/SymbolicMutualInformation/default: ['channels_y', 'channels']\n",
      "Autodetected number of jobs 2\n",
      "Computing CSD\n",
      "Using 10-5 locations for CSD\n",
      "Using 2 jobs\n"
     ]
    },
    {
     "name": "stderr",
     "output_type": "stream",
     "text": [
      "[Parallel(n_jobs=2)]: Using backend LokyBackend with 2 concurrent workers.\n"
     ]
    },
    {
     "name": "stdout",
     "output_type": "stream",
     "text": [
      "Filtering  at 10.42 Hz\n"
     ]
    },
    {
     "name": "stderr",
     "output_type": "stream",
     "text": [
      "[Parallel(n_jobs=2)]: Done 196 tasks      | elapsed:    0.4s\n",
      "[Parallel(n_jobs=2)]: Done 294 out of 294 | elapsed:    0.4s finished\n"
     ]
    },
    {
     "name": "stdout",
     "output_type": "stream",
     "text": [
      "Reduction order for nice/marker/SymbolicMutualInformation/default: ['channels_y', 'channels']\n",
      "Reduction order for nice/marker/ContingentNegativeVariation/default: ['channels']\n",
      "Reduction order for nice/marker/TimeLockedTopography/p1: ['channels', 'times']\n",
      "Reduction order for nice/marker/TimeLockedTopography/p3a: ['channels', 'times']\n",
      "Reduction order for nice/marker/TimeLockedTopography/p3b: ['channels', 'times']\n",
      "Reading /media/nicolas.bruno/63f8a366-34b7-4896-a7ce-b5fb4ee78535/Nico/MW_eeg_data/minmarker/VP19/VP19_evoked_ar_rereferenced_epo.fif ...\n",
      "    Found the data of interest:\n",
      "        t =    -200.00 ...     600.00 ms\n",
      "        0 CTF compensation matrices available\n",
      "Not setting metadata\n",
      "Not setting metadata\n",
      "294 matching events found\n",
      "No baseline correction applied\n",
      "0 projection items activated\n",
      "Autodetected number of jobs 24\n",
      "Effective window size : 16.384 (s)\n"
     ]
    },
    {
     "name": "stderr",
     "output_type": "stream",
     "text": [
      "[Parallel(n_jobs=24)]: Using backend LokyBackend with 24 concurrent workers.\n",
      "[Parallel(n_jobs=24)]: Done   6 out of  24 | elapsed:    4.3s remaining:   12.9s\n",
      "[Parallel(n_jobs=24)]: Done  11 out of  24 | elapsed:    4.4s remaining:    5.2s\n",
      "[Parallel(n_jobs=24)]: Done  16 out of  24 | elapsed:    4.5s remaining:    2.2s\n",
      "[Parallel(n_jobs=24)]: Done  21 out of  24 | elapsed:    4.6s remaining:    0.7s\n",
      "[Parallel(n_jobs=24)]: Done  24 out of  24 | elapsed:    4.6s finished\n"
     ]
    },
    {
     "name": "stdout",
     "output_type": "stream",
     "text": [
      "Reduction order for nice/marker/PowerSpectralDensity/alpha: ['frequency', 'channels']\n",
      "Reduction order for nice/marker/PowerSpectralDensity/alpha: ['frequency', 'channels']\n",
      "Reduction order for nice/marker/PowerSpectralDensity/delta: ['frequency', 'channels']\n",
      "Reduction order for nice/marker/PowerSpectralDensity/delta: ['frequency', 'channels']\n",
      "Reduction order for nice/marker/PowerSpectralDensity/theta: ['frequency', 'channels']\n",
      "Reduction order for nice/marker/PowerSpectralDensity/theta: ['frequency', 'channels']\n",
      "Reduction order for nice/marker/PowerSpectralDensity/gamma: ['frequency', 'channels']\n",
      "Reduction order for nice/marker/PowerSpectralDensity/theta: ['frequency', 'channels']\n",
      "Reduction order for nice/marker/PowerSpectralDensity/beta: ['frequency', 'channels']\n",
      "Reduction order for nice/marker/PowerSpectralDensity/beta: ['frequency', 'channels']\n",
      "Reduction order for nice/marker/PowerSpectralDensity/summary_se: ['frequency', 'channels']\n",
      "Reduction order for nice/marker/PowerSpectralDensitySummary/summary_msf: ['channels']\n",
      "Reduction order for nice/marker/PowerSpectralDensitySummary/summary_sef90: ['channels']\n",
      "Reduction order for nice/marker/PowerSpectralDensitySummary/summary_sef95: ['channels']\n",
      "Running KolmogorovComplexity\n",
      "Elapsed time 0.4292006492614746 sec\n",
      "Reduction order for nice/marker/KolmogorovComplexity/default: ['channels']\n",
      "Filtering  at 83.33 Hz\n",
      "Performing symbolic transformation\n",
      "Reduction order for nice/marker/PermutationEntropy/default: ['channels']\n",
      "Filtering  at 41.67 Hz\n",
      "Performing symbolic transformation\n",
      "Reduction order for nice/marker/PermutationEntropy/default: ['channels']\n",
      "Filtering  at 20.83 Hz\n",
      "Performing symbolic transformation\n",
      "Reduction order for nice/marker/PermutationEntropy/default: ['channels']\n",
      "Filtering  at 10.42 Hz\n",
      "Performing symbolic transformation\n",
      "Reduction order for nice/marker/PermutationEntropy/default: ['channels']\n",
      "Autodetected number of jobs 2\n",
      "Computing CSD\n",
      "Using 10-5 locations for CSD\n",
      "Using 2 jobs\n"
     ]
    },
    {
     "name": "stderr",
     "output_type": "stream",
     "text": [
      "/home/nicolas.bruno/anaconda3/lib/python3.7/site-packages/nice-0.1.dev0-py3.7.egg/nice/algorithms/information_theory/permutation_entropy.py:75: RuntimeWarning: divide by zero encountered in log\n",
      "  pe = np.nan_to_num(-np.nansum(count * np.log(count), axis=1))\n",
      "/home/nicolas.bruno/anaconda3/lib/python3.7/site-packages/nice-0.1.dev0-py3.7.egg/nice/algorithms/information_theory/permutation_entropy.py:75: RuntimeWarning: invalid value encountered in multiply\n",
      "  pe = np.nan_to_num(-np.nansum(count * np.log(count), axis=1))\n",
      "[Parallel(n_jobs=2)]: Using backend LokyBackend with 2 concurrent workers.\n",
      "[Parallel(n_jobs=2)]: Done  18 tasks      | elapsed:    1.7s\n"
     ]
    },
    {
     "name": "stdout",
     "output_type": "stream",
     "text": [
      "Filtering  at 83.33 Hz\n"
     ]
    },
    {
     "name": "stderr",
     "output_type": "stream",
     "text": [
      "[Parallel(n_jobs=2)]: Done 294 out of 294 | elapsed:    2.1s finished\n"
     ]
    },
    {
     "name": "stdout",
     "output_type": "stream",
     "text": [
      "Reduction order for nice/marker/SymbolicMutualInformation/default: ['channels_y', 'channels']\n",
      "Autodetected number of jobs 2\n",
      "Computing CSD\n",
      "Using 10-5 locations for CSD\n",
      "Using 2 jobs\n"
     ]
    },
    {
     "name": "stderr",
     "output_type": "stream",
     "text": [
      "[Parallel(n_jobs=2)]: Using backend LokyBackend with 2 concurrent workers.\n"
     ]
    },
    {
     "name": "stdout",
     "output_type": "stream",
     "text": [
      "Filtering  at 41.67 Hz\n"
     ]
    },
    {
     "name": "stderr",
     "output_type": "stream",
     "text": [
      "[Parallel(n_jobs=2)]: Done 260 tasks      | elapsed:    0.4s\n",
      "[Parallel(n_jobs=2)]: Done 294 out of 294 | elapsed:    0.5s finished\n"
     ]
    },
    {
     "name": "stdout",
     "output_type": "stream",
     "text": [
      "Reduction order for nice/marker/SymbolicMutualInformation/default: ['channels_y', 'channels']\n",
      "Autodetected number of jobs 2\n",
      "Computing CSD\n",
      "Using 10-5 locations for CSD\n",
      "Using 2 jobs\n"
     ]
    },
    {
     "name": "stderr",
     "output_type": "stream",
     "text": [
      "[Parallel(n_jobs=2)]: Using backend LokyBackend with 2 concurrent workers.\n"
     ]
    },
    {
     "name": "stdout",
     "output_type": "stream",
     "text": [
      "Filtering  at 20.83 Hz\n"
     ]
    },
    {
     "name": "stderr",
     "output_type": "stream",
     "text": [
      "[Parallel(n_jobs=2)]: Done 196 tasks      | elapsed:    0.4s\n",
      "[Parallel(n_jobs=2)]: Done 294 out of 294 | elapsed:    0.4s finished\n"
     ]
    },
    {
     "name": "stdout",
     "output_type": "stream",
     "text": [
      "Reduction order for nice/marker/SymbolicMutualInformation/default: ['channels_y', 'channels']\n",
      "Autodetected number of jobs 2\n",
      "Computing CSD\n",
      "Using 10-5 locations for CSD\n",
      "Using 2 jobs\n"
     ]
    },
    {
     "name": "stderr",
     "output_type": "stream",
     "text": [
      "[Parallel(n_jobs=2)]: Using backend LokyBackend with 2 concurrent workers.\n"
     ]
    },
    {
     "name": "stdout",
     "output_type": "stream",
     "text": [
      "Filtering  at 10.42 Hz\n"
     ]
    },
    {
     "name": "stderr",
     "output_type": "stream",
     "text": [
      "[Parallel(n_jobs=2)]: Done 258 tasks      | elapsed:    0.3s\n",
      "[Parallel(n_jobs=2)]: Done 294 out of 294 | elapsed:    0.3s finished\n"
     ]
    },
    {
     "name": "stdout",
     "output_type": "stream",
     "text": [
      "Reduction order for nice/marker/SymbolicMutualInformation/default: ['channels_y', 'channels']\n",
      "Reduction order for nice/marker/ContingentNegativeVariation/default: ['channels']\n",
      "Reduction order for nice/marker/TimeLockedTopography/p1: ['channels', 'times']\n",
      "Reduction order for nice/marker/TimeLockedTopography/p3a: ['channels', 'times']\n",
      "Reduction order for nice/marker/TimeLockedTopography/p3b: ['channels', 'times']\n",
      "\n",
      "#########################################\n",
      "Computing markers for participant VP20\n",
      "#########################################\n",
      "\n",
      "Reading /media/nicolas.bruno/63f8a366-34b7-4896-a7ce-b5fb4ee78535/Nico/MW_eeg_data/minmarker/VP20/VP20_evoked_ar_subtracted_epo.fif ...\n",
      "    Found the data of interest:\n",
      "        t =    -200.00 ...     600.00 ms\n",
      "        0 CTF compensation matrices available\n",
      "Not setting metadata\n",
      "Not setting metadata\n",
      "262 matching events found\n",
      "No baseline correction applied\n",
      "0 projection items activated\n",
      "Autodetected number of jobs 24\n",
      "Effective window size : 16.384 (s)\n"
     ]
    },
    {
     "name": "stderr",
     "output_type": "stream",
     "text": [
      "[Parallel(n_jobs=24)]: Using backend LokyBackend with 24 concurrent workers.\n",
      "[Parallel(n_jobs=24)]: Done   6 out of  24 | elapsed:    4.2s remaining:   12.6s\n",
      "[Parallel(n_jobs=24)]: Done  11 out of  24 | elapsed:    4.3s remaining:    5.1s\n",
      "[Parallel(n_jobs=24)]: Done  16 out of  24 | elapsed:    4.4s remaining:    2.2s\n",
      "[Parallel(n_jobs=24)]: Done  21 out of  24 | elapsed:    4.5s remaining:    0.6s\n",
      "[Parallel(n_jobs=24)]: Done  24 out of  24 | elapsed:    4.6s finished\n"
     ]
    },
    {
     "name": "stdout",
     "output_type": "stream",
     "text": [
      "Reduction order for nice/marker/PowerSpectralDensity/alpha: ['frequency', 'channels']\n",
      "Reduction order for nice/marker/PowerSpectralDensity/alpha: ['frequency', 'channels']\n",
      "Reduction order for nice/marker/PowerSpectralDensity/delta: ['frequency', 'channels']\n",
      "Reduction order for nice/marker/PowerSpectralDensity/delta: ['frequency', 'channels']\n",
      "Reduction order for nice/marker/PowerSpectralDensity/theta: ['frequency', 'channels']\n",
      "Reduction order for nice/marker/PowerSpectralDensity/theta: ['frequency', 'channels']\n",
      "Reduction order for nice/marker/PowerSpectralDensity/gamma: ['frequency', 'channels']\n",
      "Reduction order for nice/marker/PowerSpectralDensity/theta: ['frequency', 'channels']\n",
      "Reduction order for nice/marker/PowerSpectralDensity/beta: ['frequency', 'channels']\n",
      "Reduction order for nice/marker/PowerSpectralDensity/beta: ['frequency', 'channels']\n",
      "Reduction order for nice/marker/PowerSpectralDensity/summary_se: ['frequency', 'channels']\n",
      "Reduction order for nice/marker/PowerSpectralDensitySummary/summary_msf: ['channels']\n"
     ]
    },
    {
     "name": "stderr",
     "output_type": "stream",
     "text": [
      "/home/nicolas.bruno/anaconda3/lib/python3.7/site-packages/nice-0.1.dev0-py3.7.egg/nice/markers/spectral.py:128: RuntimeWarning: invalid value encountered in true_divide\n",
      "  self.data_norm_ = self.data_ / self.data_.sum(axis=-1)[..., None]\n",
      "/home/nicolas.bruno/anaconda3/lib/python3.7/site-packages/nice-0.1.dev0-py3.7.egg/nice/markers/spectral.py:220: RuntimeWarning: divide by zero encountered in log10\n",
      "  out = 10 * np.log10(out)\n"
     ]
    },
    {
     "name": "stdout",
     "output_type": "stream",
     "text": [
      "Reduction order for nice/marker/PowerSpectralDensitySummary/summary_sef90: ['channels']\n",
      "Reduction order for nice/marker/PowerSpectralDensitySummary/summary_sef95: ['channels']\n",
      "Running KolmogorovComplexity\n",
      "Elapsed time 0.37541985511779785 sec\n",
      "Reduction order for nice/marker/KolmogorovComplexity/default: ['channels']\n",
      "Filtering  at 83.33 Hz\n",
      "Performing symbolic transformation\n",
      "Reduction order for nice/marker/PermutationEntropy/default: ['channels']\n",
      "Filtering  at 41.67 Hz\n",
      "Performing symbolic transformation\n",
      "Reduction order for nice/marker/PermutationEntropy/default: ['channels']\n",
      "Filtering  at 20.83 Hz\n",
      "Performing symbolic transformation\n",
      "Reduction order for nice/marker/PermutationEntropy/default: ['channels']\n",
      "Filtering  at 10.42 Hz\n",
      "Performing symbolic transformation\n",
      "Reduction order for nice/marker/PermutationEntropy/default: ['channels']\n",
      "Autodetected number of jobs 2\n",
      "Computing CSD\n",
      "Using 10-5 locations for CSD\n",
      "Using 2 jobs\n"
     ]
    },
    {
     "name": "stderr",
     "output_type": "stream",
     "text": [
      "/home/nicolas.bruno/anaconda3/lib/python3.7/site-packages/nice-0.1.dev0-py3.7.egg/nice/algorithms/information_theory/permutation_entropy.py:75: RuntimeWarning: divide by zero encountered in log\n",
      "  pe = np.nan_to_num(-np.nansum(count * np.log(count), axis=1))\n",
      "/home/nicolas.bruno/anaconda3/lib/python3.7/site-packages/nice-0.1.dev0-py3.7.egg/nice/algorithms/information_theory/permutation_entropy.py:75: RuntimeWarning: invalid value encountered in multiply\n",
      "  pe = np.nan_to_num(-np.nansum(count * np.log(count), axis=1))\n",
      "[Parallel(n_jobs=2)]: Using backend LokyBackend with 2 concurrent workers.\n",
      "[Parallel(n_jobs=2)]: Done  18 tasks      | elapsed:    1.7s\n"
     ]
    },
    {
     "name": "stdout",
     "output_type": "stream",
     "text": [
      "Filtering  at 83.33 Hz\n"
     ]
    },
    {
     "name": "stderr",
     "output_type": "stream",
     "text": [
      "[Parallel(n_jobs=2)]: Done 262 out of 262 | elapsed:    2.0s finished\n"
     ]
    },
    {
     "name": "stdout",
     "output_type": "stream",
     "text": [
      "Reduction order for nice/marker/SymbolicMutualInformation/default: ['channels_y', 'channels']\n",
      "Autodetected number of jobs 2\n",
      "Computing CSD\n",
      "Using 10-5 locations for CSD\n",
      "Using 2 jobs\n"
     ]
    },
    {
     "name": "stderr",
     "output_type": "stream",
     "text": [
      "[Parallel(n_jobs=2)]: Using backend LokyBackend with 2 concurrent workers.\n"
     ]
    },
    {
     "name": "stdout",
     "output_type": "stream",
     "text": [
      "Filtering  at 41.67 Hz\n"
     ]
    },
    {
     "name": "stderr",
     "output_type": "stream",
     "text": [
      "[Parallel(n_jobs=2)]: Done 193 tasks      | elapsed:    0.3s\n",
      "[Parallel(n_jobs=2)]: Done 262 out of 262 | elapsed:    0.3s finished\n"
     ]
    },
    {
     "name": "stdout",
     "output_type": "stream",
     "text": [
      "Reduction order for nice/marker/SymbolicMutualInformation/default: ['channels_y', 'channels']\n",
      "Autodetected number of jobs 2\n",
      "Computing CSD\n",
      "Using 10-5 locations for CSD\n",
      "Using 2 jobs\n"
     ]
    },
    {
     "name": "stderr",
     "output_type": "stream",
     "text": [
      "[Parallel(n_jobs=2)]: Using backend LokyBackend with 2 concurrent workers.\n"
     ]
    },
    {
     "name": "stdout",
     "output_type": "stream",
     "text": [
      "Filtering  at 20.83 Hz\n"
     ]
    },
    {
     "name": "stderr",
     "output_type": "stream",
     "text": [
      "[Parallel(n_jobs=2)]: Done 257 tasks      | elapsed:    0.4s\n",
      "[Parallel(n_jobs=2)]: Done 262 out of 262 | elapsed:    0.4s finished\n"
     ]
    },
    {
     "name": "stdout",
     "output_type": "stream",
     "text": [
      "Reduction order for nice/marker/SymbolicMutualInformation/default: ['channels_y', 'channels']\n",
      "Autodetected number of jobs 2\n",
      "Computing CSD\n",
      "Using 10-5 locations for CSD\n",
      "Using 2 jobs\n"
     ]
    },
    {
     "name": "stderr",
     "output_type": "stream",
     "text": [
      "[Parallel(n_jobs=2)]: Using backend LokyBackend with 2 concurrent workers.\n"
     ]
    },
    {
     "name": "stdout",
     "output_type": "stream",
     "text": [
      "Filtering  at 10.42 Hz\n"
     ]
    },
    {
     "name": "stderr",
     "output_type": "stream",
     "text": [
      "[Parallel(n_jobs=2)]: Done 256 tasks      | elapsed:    0.3s\n",
      "[Parallel(n_jobs=2)]: Done 262 out of 262 | elapsed:    0.3s finished\n"
     ]
    },
    {
     "name": "stdout",
     "output_type": "stream",
     "text": [
      "Reduction order for nice/marker/SymbolicMutualInformation/default: ['channels_y', 'channels']\n",
      "Reduction order for nice/marker/ContingentNegativeVariation/default: ['channels']\n",
      "Reduction order for nice/marker/TimeLockedTopography/p1: ['channels', 'times']\n",
      "Reduction order for nice/marker/TimeLockedTopography/p3a: ['channels', 'times']\n",
      "Reduction order for nice/marker/TimeLockedTopography/p3b: ['channels', 'times']\n",
      "Reading /media/nicolas.bruno/63f8a366-34b7-4896-a7ce-b5fb4ee78535/Nico/MW_eeg_data/minmarker/VP20/VP20_evoked_ar_rereferenced_epo.fif ...\n",
      "    Found the data of interest:\n",
      "        t =    -200.00 ...     600.00 ms\n",
      "        0 CTF compensation matrices available\n",
      "Not setting metadata\n",
      "Not setting metadata\n",
      "262 matching events found\n",
      "No baseline correction applied\n",
      "0 projection items activated\n",
      "Autodetected number of jobs 24\n",
      "Effective window size : 16.384 (s)\n"
     ]
    },
    {
     "name": "stderr",
     "output_type": "stream",
     "text": [
      "[Parallel(n_jobs=24)]: Using backend LokyBackend with 24 concurrent workers.\n",
      "[Parallel(n_jobs=24)]: Done   6 out of  24 | elapsed:    4.3s remaining:   12.9s\n",
      "[Parallel(n_jobs=24)]: Done  11 out of  24 | elapsed:    4.4s remaining:    5.2s\n",
      "[Parallel(n_jobs=24)]: Done  16 out of  24 | elapsed:    4.5s remaining:    2.2s\n",
      "[Parallel(n_jobs=24)]: Done  21 out of  24 | elapsed:    4.6s remaining:    0.7s\n",
      "[Parallel(n_jobs=24)]: Done  24 out of  24 | elapsed:    4.7s finished\n"
     ]
    },
    {
     "name": "stdout",
     "output_type": "stream",
     "text": [
      "Reduction order for nice/marker/PowerSpectralDensity/alpha: ['frequency', 'channels']\n",
      "Reduction order for nice/marker/PowerSpectralDensity/alpha: ['frequency', 'channels']\n",
      "Reduction order for nice/marker/PowerSpectralDensity/delta: ['frequency', 'channels']\n",
      "Reduction order for nice/marker/PowerSpectralDensity/delta: ['frequency', 'channels']\n",
      "Reduction order for nice/marker/PowerSpectralDensity/theta: ['frequency', 'channels']\n",
      "Reduction order for nice/marker/PowerSpectralDensity/theta: ['frequency', 'channels']\n",
      "Reduction order for nice/marker/PowerSpectralDensity/gamma: ['frequency', 'channels']\n",
      "Reduction order for nice/marker/PowerSpectralDensity/theta: ['frequency', 'channels']\n",
      "Reduction order for nice/marker/PowerSpectralDensity/beta: ['frequency', 'channels']\n",
      "Reduction order for nice/marker/PowerSpectralDensity/beta: ['frequency', 'channels']\n",
      "Reduction order for nice/marker/PowerSpectralDensity/summary_se: ['frequency', 'channels']\n",
      "Reduction order for nice/marker/PowerSpectralDensitySummary/summary_msf: ['channels']\n",
      "Reduction order for nice/marker/PowerSpectralDensitySummary/summary_sef90: ['channels']\n",
      "Reduction order for nice/marker/PowerSpectralDensitySummary/summary_sef95: ['channels']\n",
      "Running KolmogorovComplexity\n",
      "Elapsed time 0.3830857276916504 sec\n",
      "Reduction order for nice/marker/KolmogorovComplexity/default: ['channels']\n",
      "Filtering  at 83.33 Hz\n",
      "Performing symbolic transformation\n",
      "Reduction order for nice/marker/PermutationEntropy/default: ['channels']\n",
      "Filtering  at 41.67 Hz\n",
      "Performing symbolic transformation\n",
      "Reduction order for nice/marker/PermutationEntropy/default: ['channels']\n",
      "Filtering  at 20.83 Hz\n",
      "Performing symbolic transformation\n",
      "Reduction order for nice/marker/PermutationEntropy/default: ['channels']\n",
      "Filtering  at 10.42 Hz\n",
      "Performing symbolic transformation\n",
      "Reduction order for nice/marker/PermutationEntropy/default: ['channels']\n",
      "Autodetected number of jobs 2\n",
      "Computing CSD\n",
      "Using 10-5 locations for CSD\n",
      "Using 2 jobs\n"
     ]
    },
    {
     "name": "stderr",
     "output_type": "stream",
     "text": [
      "/home/nicolas.bruno/anaconda3/lib/python3.7/site-packages/nice-0.1.dev0-py3.7.egg/nice/algorithms/information_theory/permutation_entropy.py:75: RuntimeWarning: divide by zero encountered in log\n",
      "  pe = np.nan_to_num(-np.nansum(count * np.log(count), axis=1))\n",
      "/home/nicolas.bruno/anaconda3/lib/python3.7/site-packages/nice-0.1.dev0-py3.7.egg/nice/algorithms/information_theory/permutation_entropy.py:75: RuntimeWarning: invalid value encountered in multiply\n",
      "  pe = np.nan_to_num(-np.nansum(count * np.log(count), axis=1))\n",
      "[Parallel(n_jobs=2)]: Using backend LokyBackend with 2 concurrent workers.\n",
      "[Parallel(n_jobs=2)]: Done  18 tasks      | elapsed:    1.7s\n"
     ]
    },
    {
     "name": "stdout",
     "output_type": "stream",
     "text": [
      "Filtering  at 83.33 Hz\n"
     ]
    },
    {
     "name": "stderr",
     "output_type": "stream",
     "text": [
      "[Parallel(n_jobs=2)]: Done 262 out of 262 | elapsed:    2.0s finished\n"
     ]
    },
    {
     "name": "stdout",
     "output_type": "stream",
     "text": [
      "Reduction order for nice/marker/SymbolicMutualInformation/default: ['channels_y', 'channels']\n",
      "Autodetected number of jobs 2\n",
      "Computing CSD\n",
      "Using 10-5 locations for CSD\n",
      "Using 2 jobs\n"
     ]
    },
    {
     "name": "stderr",
     "output_type": "stream",
     "text": [
      "[Parallel(n_jobs=2)]: Using backend LokyBackend with 2 concurrent workers.\n"
     ]
    },
    {
     "name": "stdout",
     "output_type": "stream",
     "text": [
      "Filtering  at 41.67 Hz\n"
     ]
    },
    {
     "name": "stderr",
     "output_type": "stream",
     "text": [
      "[Parallel(n_jobs=2)]: Done 256 tasks      | elapsed:    0.3s\n",
      "[Parallel(n_jobs=2)]: Done 262 out of 262 | elapsed:    0.3s finished\n"
     ]
    },
    {
     "name": "stdout",
     "output_type": "stream",
     "text": [
      "Reduction order for nice/marker/SymbolicMutualInformation/default: ['channels_y', 'channels']\n",
      "Autodetected number of jobs 2\n",
      "Computing CSD\n",
      "Using 10-5 locations for CSD\n",
      "Using 2 jobs\n"
     ]
    },
    {
     "name": "stderr",
     "output_type": "stream",
     "text": [
      "[Parallel(n_jobs=2)]: Using backend LokyBackend with 2 concurrent workers.\n"
     ]
    },
    {
     "name": "stdout",
     "output_type": "stream",
     "text": [
      "Filtering  at 20.83 Hz\n"
     ]
    },
    {
     "name": "stderr",
     "output_type": "stream",
     "text": [
      "[Parallel(n_jobs=2)]: Done 256 tasks      | elapsed:    0.3s\n",
      "[Parallel(n_jobs=2)]: Done 262 out of 262 | elapsed:    0.3s finished\n"
     ]
    },
    {
     "name": "stdout",
     "output_type": "stream",
     "text": [
      "Reduction order for nice/marker/SymbolicMutualInformation/default: ['channels_y', 'channels']\n",
      "Autodetected number of jobs 2\n",
      "Computing CSD\n",
      "Using 10-5 locations for CSD\n",
      "Using 2 jobs\n"
     ]
    },
    {
     "name": "stderr",
     "output_type": "stream",
     "text": [
      "[Parallel(n_jobs=2)]: Using backend LokyBackend with 2 concurrent workers.\n"
     ]
    },
    {
     "name": "stdout",
     "output_type": "stream",
     "text": [
      "Filtering  at 10.42 Hz\n"
     ]
    },
    {
     "name": "stderr",
     "output_type": "stream",
     "text": [
      "[Parallel(n_jobs=2)]: Done 193 tasks      | elapsed:    0.3s\n",
      "[Parallel(n_jobs=2)]: Done 262 out of 262 | elapsed:    0.3s finished\n"
     ]
    },
    {
     "name": "stdout",
     "output_type": "stream",
     "text": [
      "Reduction order for nice/marker/SymbolicMutualInformation/default: ['channels_y', 'channels']\n",
      "Reduction order for nice/marker/ContingentNegativeVariation/default: ['channels']\n",
      "Reduction order for nice/marker/TimeLockedTopography/p1: ['channels', 'times']\n",
      "Reduction order for nice/marker/TimeLockedTopography/p3a: ['channels', 'times']\n",
      "Reduction order for nice/marker/TimeLockedTopography/p3b: ['channels', 'times']\n",
      "\n",
      "#########################################\n",
      "Computing markers for participant VP22\n",
      "#########################################\n",
      "\n",
      "Reading /media/nicolas.bruno/63f8a366-34b7-4896-a7ce-b5fb4ee78535/Nico/MW_eeg_data/minmarker/VP22/VP22_evoked_ar_subtracted_epo.fif ...\n",
      "    Found the data of interest:\n",
      "        t =    -200.00 ...     600.00 ms\n",
      "        0 CTF compensation matrices available\n",
      "Not setting metadata\n",
      "Not setting metadata\n",
      "182 matching events found\n",
      "No baseline correction applied\n",
      "0 projection items activated\n",
      "Autodetected number of jobs 24\n",
      "Effective window size : 16.384 (s)\n"
     ]
    },
    {
     "name": "stderr",
     "output_type": "stream",
     "text": [
      "[Parallel(n_jobs=24)]: Using backend LokyBackend with 24 concurrent workers.\n",
      "[Parallel(n_jobs=24)]: Done   6 out of  24 | elapsed:    4.0s remaining:   12.1s\n",
      "[Parallel(n_jobs=24)]: Done  11 out of  24 | elapsed:    4.1s remaining:    4.8s\n",
      "[Parallel(n_jobs=24)]: Done  16 out of  24 | elapsed:    4.2s remaining:    2.1s\n"
     ]
    },
    {
     "name": "stdout",
     "output_type": "stream",
     "text": [
      "Reduction order for nice/marker/PowerSpectralDensity/alpha: ['frequency', 'channels']\n",
      "Reduction order for nice/marker/PowerSpectralDensity/alpha: ['frequency', 'channels']\n",
      "Reduction order for nice/marker/PowerSpectralDensity/delta: ['frequency', 'channels']\n",
      "Reduction order for nice/marker/PowerSpectralDensity/delta: ['frequency', 'channels']\n",
      "Reduction order for nice/marker/PowerSpectralDensity/theta: ['frequency', 'channels']\n",
      "Reduction order for nice/marker/PowerSpectralDensity/theta: ['frequency', 'channels']\n",
      "Reduction order for nice/marker/PowerSpectralDensity/gamma: ['frequency', 'channels']\n",
      "Reduction order for nice/marker/PowerSpectralDensity/theta: ['frequency', 'channels']\n",
      "Reduction order for nice/marker/PowerSpectralDensity/beta: ['frequency', 'channels']\n",
      "Reduction order for nice/marker/PowerSpectralDensity/beta: ['frequency', 'channels']\n",
      "Reduction order for nice/marker/PowerSpectralDensity/summary_se: ['frequency', 'channels']\n"
     ]
    },
    {
     "name": "stderr",
     "output_type": "stream",
     "text": [
      "[Parallel(n_jobs=24)]: Done  21 out of  24 | elapsed:    4.2s remaining:    0.6s\n",
      "[Parallel(n_jobs=24)]: Done  24 out of  24 | elapsed:    4.3s finished\n",
      "/home/nicolas.bruno/anaconda3/lib/python3.7/site-packages/nice-0.1.dev0-py3.7.egg/nice/markers/spectral.py:128: RuntimeWarning: invalid value encountered in true_divide\n",
      "  self.data_norm_ = self.data_ / self.data_.sum(axis=-1)[..., None]\n",
      "/home/nicolas.bruno/anaconda3/lib/python3.7/site-packages/nice-0.1.dev0-py3.7.egg/nice/markers/spectral.py:220: RuntimeWarning: divide by zero encountered in log10\n",
      "  out = 10 * np.log10(out)\n"
     ]
    },
    {
     "name": "stdout",
     "output_type": "stream",
     "text": [
      "Reduction order for nice/marker/PowerSpectralDensitySummary/summary_msf: ['channels']\n",
      "Reduction order for nice/marker/PowerSpectralDensitySummary/summary_sef90: ['channels']\n",
      "Reduction order for nice/marker/PowerSpectralDensitySummary/summary_sef95: ['channels']\n",
      "Running KolmogorovComplexity\n",
      "Elapsed time 0.2619342803955078 sec\n",
      "Reduction order for nice/marker/KolmogorovComplexity/default: ['channels']\n",
      "Filtering  at 83.33 Hz\n",
      "Performing symbolic transformation\n",
      "Reduction order for nice/marker/PermutationEntropy/default: ['channels']\n",
      "Filtering  at 41.67 Hz\n",
      "Performing symbolic transformation\n",
      "Reduction order for nice/marker/PermutationEntropy/default: ['channels']\n",
      "Filtering  at 20.83 Hz\n",
      "Performing symbolic transformation\n",
      "Reduction order for nice/marker/PermutationEntropy/default: ['channels']\n",
      "Filtering  at 10.42 Hz\n",
      "Performing symbolic transformation\n",
      "Reduction order for nice/marker/PermutationEntropy/default: ['channels']\n",
      "Autodetected number of jobs 2\n",
      "Computing CSD\n",
      "Using 10-5 locations for CSD\n",
      "Using 2 jobs\n"
     ]
    },
    {
     "name": "stderr",
     "output_type": "stream",
     "text": [
      "/home/nicolas.bruno/anaconda3/lib/python3.7/site-packages/nice-0.1.dev0-py3.7.egg/nice/algorithms/information_theory/permutation_entropy.py:75: RuntimeWarning: divide by zero encountered in log\n",
      "  pe = np.nan_to_num(-np.nansum(count * np.log(count), axis=1))\n",
      "/home/nicolas.bruno/anaconda3/lib/python3.7/site-packages/nice-0.1.dev0-py3.7.egg/nice/algorithms/information_theory/permutation_entropy.py:75: RuntimeWarning: invalid value encountered in multiply\n",
      "  pe = np.nan_to_num(-np.nansum(count * np.log(count), axis=1))\n",
      "[Parallel(n_jobs=2)]: Using backend LokyBackend with 2 concurrent workers.\n",
      "[Parallel(n_jobs=2)]: Done  18 tasks      | elapsed:    1.7s\n"
     ]
    },
    {
     "name": "stdout",
     "output_type": "stream",
     "text": [
      "Filtering  at 83.33 Hz\n",
      "Reduction order for nice/marker/SymbolicMutualInformation/default: ['channels_y', 'channels']\n",
      "Autodetected number of jobs 2\n",
      "Computing CSD\n",
      "Using 10-5 locations for CSD\n",
      "Using 2 jobs\n"
     ]
    },
    {
     "name": "stderr",
     "output_type": "stream",
     "text": [
      "[Parallel(n_jobs=2)]: Done 182 out of 182 | elapsed:    1.9s finished\n",
      "[Parallel(n_jobs=2)]: Using backend LokyBackend with 2 concurrent workers.\n",
      "[Parallel(n_jobs=2)]: Done 134 tasks      | elapsed:    0.2s\n"
     ]
    },
    {
     "name": "stdout",
     "output_type": "stream",
     "text": [
      "Filtering  at 41.67 Hz\n"
     ]
    },
    {
     "name": "stderr",
     "output_type": "stream",
     "text": [
      "[Parallel(n_jobs=2)]: Done 182 out of 182 | elapsed:    0.3s finished\n"
     ]
    },
    {
     "name": "stdout",
     "output_type": "stream",
     "text": [
      "Reduction order for nice/marker/SymbolicMutualInformation/default: ['channels_y', 'channels']\n",
      "Autodetected number of jobs 2\n",
      "Computing CSD\n",
      "Using 10-5 locations for CSD\n",
      "Using 2 jobs\n"
     ]
    },
    {
     "name": "stderr",
     "output_type": "stream",
     "text": [
      "[Parallel(n_jobs=2)]: Using backend LokyBackend with 2 concurrent workers.\n",
      "[Parallel(n_jobs=2)]: Done 134 tasks      | elapsed:    0.2s\n"
     ]
    },
    {
     "name": "stdout",
     "output_type": "stream",
     "text": [
      "Filtering  at 20.83 Hz\n"
     ]
    },
    {
     "name": "stderr",
     "output_type": "stream",
     "text": [
      "[Parallel(n_jobs=2)]: Done 182 out of 182 | elapsed:    0.3s finished\n"
     ]
    },
    {
     "name": "stdout",
     "output_type": "stream",
     "text": [
      "Reduction order for nice/marker/SymbolicMutualInformation/default: ['channels_y', 'channels']\n",
      "Autodetected number of jobs 2\n",
      "Computing CSD\n",
      "Using 10-5 locations for CSD\n",
      "Using 2 jobs\n"
     ]
    },
    {
     "name": "stderr",
     "output_type": "stream",
     "text": [
      "[Parallel(n_jobs=2)]: Using backend LokyBackend with 2 concurrent workers.\n",
      "[Parallel(n_jobs=2)]: Done 134 tasks      | elapsed:    0.2s\n"
     ]
    },
    {
     "name": "stdout",
     "output_type": "stream",
     "text": [
      "Filtering  at 10.42 Hz\n"
     ]
    },
    {
     "name": "stderr",
     "output_type": "stream",
     "text": [
      "[Parallel(n_jobs=2)]: Done 182 out of 182 | elapsed:    0.3s finished\n"
     ]
    },
    {
     "name": "stdout",
     "output_type": "stream",
     "text": [
      "Reduction order for nice/marker/SymbolicMutualInformation/default: ['channels_y', 'channels']\n",
      "Reduction order for nice/marker/ContingentNegativeVariation/default: ['channels']\n",
      "Reduction order for nice/marker/TimeLockedTopography/p1: ['channels', 'times']\n",
      "Reduction order for nice/marker/TimeLockedTopography/p3a: ['channels', 'times']\n",
      "Reduction order for nice/marker/TimeLockedTopography/p3b: ['channels', 'times']\n",
      "Reading /media/nicolas.bruno/63f8a366-34b7-4896-a7ce-b5fb4ee78535/Nico/MW_eeg_data/minmarker/VP22/VP22_evoked_ar_rereferenced_epo.fif ...\n",
      "    Found the data of interest:\n",
      "        t =    -200.00 ...     600.00 ms\n",
      "        0 CTF compensation matrices available\n",
      "Not setting metadata\n",
      "Not setting metadata\n",
      "182 matching events found\n",
      "No baseline correction applied\n",
      "0 projection items activated\n",
      "Autodetected number of jobs 24\n",
      "Effective window size : 16.384 (s)\n"
     ]
    },
    {
     "name": "stderr",
     "output_type": "stream",
     "text": [
      "[Parallel(n_jobs=24)]: Using backend LokyBackend with 24 concurrent workers.\n",
      "[Parallel(n_jobs=24)]: Done   6 out of  24 | elapsed:    4.0s remaining:   12.0s\n",
      "[Parallel(n_jobs=24)]: Done  11 out of  24 | elapsed:    4.1s remaining:    4.8s\n",
      "[Parallel(n_jobs=24)]: Done  16 out of  24 | elapsed:    4.1s remaining:    2.1s\n",
      "[Parallel(n_jobs=24)]: Done  21 out of  24 | elapsed:    4.2s remaining:    0.6s\n"
     ]
    },
    {
     "name": "stdout",
     "output_type": "stream",
     "text": [
      "Reduction order for nice/marker/PowerSpectralDensity/alpha: ['frequency', 'channels']\n",
      "Reduction order for nice/marker/PowerSpectralDensity/alpha: ['frequency', 'channels']\n",
      "Reduction order for nice/marker/PowerSpectralDensity/delta: ['frequency', 'channels']\n",
      "Reduction order for nice/marker/PowerSpectralDensity/delta: ['frequency', 'channels']\n",
      "Reduction order for nice/marker/PowerSpectralDensity/theta: ['frequency', 'channels']\n",
      "Reduction order for nice/marker/PowerSpectralDensity/theta: ['frequency', 'channels']\n",
      "Reduction order for nice/marker/PowerSpectralDensity/gamma: ['frequency', 'channels']\n",
      "Reduction order for nice/marker/PowerSpectralDensity/theta: ['frequency', 'channels']\n",
      "Reduction order for nice/marker/PowerSpectralDensity/beta: ['frequency', 'channels']\n",
      "Reduction order for nice/marker/PowerSpectralDensity/beta: ['frequency', 'channels']\n",
      "Reduction order for nice/marker/PowerSpectralDensity/summary_se: ['frequency', 'channels']\n"
     ]
    },
    {
     "name": "stderr",
     "output_type": "stream",
     "text": [
      "[Parallel(n_jobs=24)]: Done  24 out of  24 | elapsed:    4.3s finished\n"
     ]
    },
    {
     "name": "stdout",
     "output_type": "stream",
     "text": [
      "Reduction order for nice/marker/PowerSpectralDensitySummary/summary_msf: ['channels']\n",
      "Reduction order for nice/marker/PowerSpectralDensitySummary/summary_sef90: ['channels']\n",
      "Reduction order for nice/marker/PowerSpectralDensitySummary/summary_sef95: ['channels']\n",
      "Running KolmogorovComplexity\n",
      "Elapsed time 0.26215624809265137 sec\n",
      "Reduction order for nice/marker/KolmogorovComplexity/default: ['channels']\n",
      "Filtering  at 83.33 Hz\n",
      "Performing symbolic transformation\n",
      "Reduction order for nice/marker/PermutationEntropy/default: ['channels']\n",
      "Filtering  at 41.67 Hz\n",
      "Performing symbolic transformation\n",
      "Reduction order for nice/marker/PermutationEntropy/default: ['channels']\n",
      "Filtering  at 20.83 Hz\n",
      "Performing symbolic transformation\n",
      "Reduction order for nice/marker/PermutationEntropy/default: ['channels']\n",
      "Filtering  at 10.42 Hz\n",
      "Performing symbolic transformation\n",
      "Reduction order for nice/marker/PermutationEntropy/default: ['channels']\n",
      "Autodetected number of jobs 2\n",
      "Computing CSD\n",
      "Using 10-5 locations for CSD\n",
      "Using 2 jobs\n"
     ]
    },
    {
     "name": "stderr",
     "output_type": "stream",
     "text": [
      "/home/nicolas.bruno/anaconda3/lib/python3.7/site-packages/nice-0.1.dev0-py3.7.egg/nice/algorithms/information_theory/permutation_entropy.py:75: RuntimeWarning: divide by zero encountered in log\n",
      "  pe = np.nan_to_num(-np.nansum(count * np.log(count), axis=1))\n",
      "/home/nicolas.bruno/anaconda3/lib/python3.7/site-packages/nice-0.1.dev0-py3.7.egg/nice/algorithms/information_theory/permutation_entropy.py:75: RuntimeWarning: invalid value encountered in multiply\n",
      "  pe = np.nan_to_num(-np.nansum(count * np.log(count), axis=1))\n",
      "[Parallel(n_jobs=2)]: Using backend LokyBackend with 2 concurrent workers.\n",
      "[Parallel(n_jobs=2)]: Done  18 tasks      | elapsed:    1.7s\n",
      "[Parallel(n_jobs=2)]: Done 182 out of 182 | elapsed:    1.9s finished\n"
     ]
    },
    {
     "name": "stdout",
     "output_type": "stream",
     "text": [
      "Filtering  at 83.33 Hz\n",
      "Reduction order for nice/marker/SymbolicMutualInformation/default: ['channels_y', 'channels']\n",
      "Autodetected number of jobs 2\n",
      "Computing CSD\n",
      "Using 10-5 locations for CSD\n",
      "Using 2 jobs\n"
     ]
    },
    {
     "name": "stderr",
     "output_type": "stream",
     "text": [
      "[Parallel(n_jobs=2)]: Using backend LokyBackend with 2 concurrent workers.\n",
      "[Parallel(n_jobs=2)]: Done 134 tasks      | elapsed:    0.2s\n"
     ]
    },
    {
     "name": "stdout",
     "output_type": "stream",
     "text": [
      "Filtering  at 41.67 Hz\n"
     ]
    },
    {
     "name": "stderr",
     "output_type": "stream",
     "text": [
      "[Parallel(n_jobs=2)]: Done 182 out of 182 | elapsed:    0.3s finished\n"
     ]
    },
    {
     "name": "stdout",
     "output_type": "stream",
     "text": [
      "Reduction order for nice/marker/SymbolicMutualInformation/default: ['channels_y', 'channels']\n",
      "Autodetected number of jobs 2\n",
      "Computing CSD\n",
      "Using 10-5 locations for CSD\n",
      "Using 2 jobs\n"
     ]
    },
    {
     "name": "stderr",
     "output_type": "stream",
     "text": [
      "[Parallel(n_jobs=2)]: Using backend LokyBackend with 2 concurrent workers.\n",
      "[Parallel(n_jobs=2)]: Done 134 tasks      | elapsed:    0.2s\n"
     ]
    },
    {
     "name": "stdout",
     "output_type": "stream",
     "text": [
      "Filtering  at 20.83 Hz\n"
     ]
    },
    {
     "name": "stderr",
     "output_type": "stream",
     "text": [
      "[Parallel(n_jobs=2)]: Done 182 out of 182 | elapsed:    0.3s finished\n"
     ]
    },
    {
     "name": "stdout",
     "output_type": "stream",
     "text": [
      "Reduction order for nice/marker/SymbolicMutualInformation/default: ['channels_y', 'channels']\n",
      "Autodetected number of jobs 2\n",
      "Computing CSD\n",
      "Using 10-5 locations for CSD\n",
      "Using 2 jobs\n"
     ]
    },
    {
     "name": "stderr",
     "output_type": "stream",
     "text": [
      "[Parallel(n_jobs=2)]: Using backend LokyBackend with 2 concurrent workers.\n",
      "[Parallel(n_jobs=2)]: Done 134 tasks      | elapsed:    0.2s\n"
     ]
    },
    {
     "name": "stdout",
     "output_type": "stream",
     "text": [
      "Filtering  at 10.42 Hz\n"
     ]
    },
    {
     "name": "stderr",
     "output_type": "stream",
     "text": [
      "[Parallel(n_jobs=2)]: Done 182 out of 182 | elapsed:    0.3s finished\n"
     ]
    },
    {
     "name": "stdout",
     "output_type": "stream",
     "text": [
      "Reduction order for nice/marker/SymbolicMutualInformation/default: ['channels_y', 'channels']\n",
      "Reduction order for nice/marker/ContingentNegativeVariation/default: ['channels']\n",
      "Reduction order for nice/marker/TimeLockedTopography/p1: ['channels', 'times']\n",
      "Reduction order for nice/marker/TimeLockedTopography/p3a: ['channels', 'times']\n",
      "Reduction order for nice/marker/TimeLockedTopography/p3b: ['channels', 'times']\n",
      "\n",
      "#########################################\n",
      "Computing markers for participant VP23\n",
      "#########################################\n",
      "\n",
      "Reading /media/nicolas.bruno/63f8a366-34b7-4896-a7ce-b5fb4ee78535/Nico/MW_eeg_data/minmarker/VP23/VP23_evoked_ar_subtracted_epo.fif ...\n",
      "    Found the data of interest:\n",
      "        t =    -200.00 ...     600.00 ms\n",
      "        0 CTF compensation matrices available\n",
      "Not setting metadata\n",
      "Not setting metadata\n",
      "563 matching events found\n",
      "No baseline correction applied\n",
      "0 projection items activated\n",
      "Autodetected number of jobs 24\n",
      "Effective window size : 16.384 (s)\n"
     ]
    },
    {
     "name": "stderr",
     "output_type": "stream",
     "text": [
      "[Parallel(n_jobs=24)]: Using backend LokyBackend with 24 concurrent workers.\n",
      "[Parallel(n_jobs=24)]: Done   6 out of  24 | elapsed:    5.2s remaining:   15.6s\n",
      "[Parallel(n_jobs=24)]: Done  11 out of  24 | elapsed:    5.4s remaining:    6.3s\n",
      "[Parallel(n_jobs=24)]: Done  16 out of  24 | elapsed:    5.6s remaining:    2.8s\n",
      "[Parallel(n_jobs=24)]: Done  21 out of  24 | elapsed:    5.7s remaining:    0.8s\n",
      "[Parallel(n_jobs=24)]: Done  24 out of  24 | elapsed:    5.8s finished\n"
     ]
    },
    {
     "name": "stdout",
     "output_type": "stream",
     "text": [
      "Reduction order for nice/marker/PowerSpectralDensity/alpha: ['frequency', 'channels']\n",
      "Reduction order for nice/marker/PowerSpectralDensity/alpha: ['frequency', 'channels']\n",
      "Reduction order for nice/marker/PowerSpectralDensity/delta: ['frequency', 'channels']\n",
      "Reduction order for nice/marker/PowerSpectralDensity/delta: ['frequency', 'channels']\n",
      "Reduction order for nice/marker/PowerSpectralDensity/theta: ['frequency', 'channels']\n",
      "Reduction order for nice/marker/PowerSpectralDensity/theta: ['frequency', 'channels']\n",
      "Reduction order for nice/marker/PowerSpectralDensity/gamma: ['frequency', 'channels']\n",
      "Reduction order for nice/marker/PowerSpectralDensity/theta: ['frequency', 'channels']\n",
      "Reduction order for nice/marker/PowerSpectralDensity/beta: ['frequency', 'channels']\n",
      "Reduction order for nice/marker/PowerSpectralDensity/beta: ['frequency', 'channels']\n",
      "Reduction order for nice/marker/PowerSpectralDensity/summary_se: ['frequency', 'channels']\n"
     ]
    },
    {
     "name": "stderr",
     "output_type": "stream",
     "text": [
      "/home/nicolas.bruno/anaconda3/lib/python3.7/site-packages/nice-0.1.dev0-py3.7.egg/nice/markers/spectral.py:128: RuntimeWarning: invalid value encountered in true_divide\n",
      "  self.data_norm_ = self.data_ / self.data_.sum(axis=-1)[..., None]\n",
      "/home/nicolas.bruno/anaconda3/lib/python3.7/site-packages/nice-0.1.dev0-py3.7.egg/nice/markers/spectral.py:220: RuntimeWarning: divide by zero encountered in log10\n",
      "  out = 10 * np.log10(out)\n"
     ]
    },
    {
     "name": "stdout",
     "output_type": "stream",
     "text": [
      "Reduction order for nice/marker/PowerSpectralDensitySummary/summary_msf: ['channels']\n",
      "Reduction order for nice/marker/PowerSpectralDensitySummary/summary_sef90: ['channels']\n",
      "Reduction order for nice/marker/PowerSpectralDensitySummary/summary_sef95: ['channels']\n",
      "Running KolmogorovComplexity\n",
      "Elapsed time 0.8426952362060547 sec\n",
      "Reduction order for nice/marker/KolmogorovComplexity/default: ['channels']\n",
      "Filtering  at 83.33 Hz\n",
      "Performing symbolic transformation\n",
      "Reduction order for nice/marker/PermutationEntropy/default: ['channels']\n",
      "Filtering  at 41.67 Hz\n"
     ]
    },
    {
     "name": "stderr",
     "output_type": "stream",
     "text": [
      "/home/nicolas.bruno/anaconda3/lib/python3.7/site-packages/nice-0.1.dev0-py3.7.egg/nice/algorithms/information_theory/permutation_entropy.py:75: RuntimeWarning: divide by zero encountered in log\n",
      "  pe = np.nan_to_num(-np.nansum(count * np.log(count), axis=1))\n",
      "/home/nicolas.bruno/anaconda3/lib/python3.7/site-packages/nice-0.1.dev0-py3.7.egg/nice/algorithms/information_theory/permutation_entropy.py:75: RuntimeWarning: invalid value encountered in multiply\n",
      "  pe = np.nan_to_num(-np.nansum(count * np.log(count), axis=1))\n"
     ]
    },
    {
     "name": "stdout",
     "output_type": "stream",
     "text": [
      "Performing symbolic transformation\n",
      "Reduction order for nice/marker/PermutationEntropy/default: ['channels']\n",
      "Filtering  at 20.83 Hz\n",
      "Performing symbolic transformation\n",
      "Reduction order for nice/marker/PermutationEntropy/default: ['channels']\n",
      "Filtering  at 10.42 Hz\n",
      "Performing symbolic transformation\n",
      "Reduction order for nice/marker/PermutationEntropy/default: ['channels']\n",
      "Autodetected number of jobs 2\n",
      "Computing CSD\n",
      "Using 10-5 locations for CSD\n",
      "Using 2 jobs\n"
     ]
    },
    {
     "name": "stderr",
     "output_type": "stream",
     "text": [
      "[Parallel(n_jobs=2)]: Using backend LokyBackend with 2 concurrent workers.\n",
      "[Parallel(n_jobs=2)]: Done  18 tasks      | elapsed:    1.7s\n"
     ]
    },
    {
     "name": "stdout",
     "output_type": "stream",
     "text": [
      "Filtering  at 83.33 Hz\n"
     ]
    },
    {
     "name": "stderr",
     "output_type": "stream",
     "text": [
      "[Parallel(n_jobs=2)]: Done 563 out of 563 | elapsed:    2.3s finished\n"
     ]
    },
    {
     "name": "stdout",
     "output_type": "stream",
     "text": [
      "Reduction order for nice/marker/SymbolicMutualInformation/default: ['channels_y', 'channels']\n",
      "Autodetected number of jobs 2\n",
      "Computing CSD\n",
      "Using 10-5 locations for CSD\n",
      "Using 2 jobs\n"
     ]
    },
    {
     "name": "stderr",
     "output_type": "stream",
     "text": [
      "[Parallel(n_jobs=2)]: Using backend LokyBackend with 2 concurrent workers.\n"
     ]
    },
    {
     "name": "stdout",
     "output_type": "stream",
     "text": [
      "Filtering  at 41.67 Hz\n"
     ]
    },
    {
     "name": "stderr",
     "output_type": "stream",
     "text": [
      "[Parallel(n_jobs=2)]: Done 384 tasks      | elapsed:    0.5s\n",
      "[Parallel(n_jobs=2)]: Done 563 out of 563 | elapsed:    0.6s finished\n"
     ]
    },
    {
     "name": "stdout",
     "output_type": "stream",
     "text": [
      "Reduction order for nice/marker/SymbolicMutualInformation/default: ['channels_y', 'channels']\n",
      "Autodetected number of jobs 2\n",
      "Computing CSD\n",
      "Using 10-5 locations for CSD\n",
      "Using 2 jobs\n"
     ]
    },
    {
     "name": "stderr",
     "output_type": "stream",
     "text": [
      "[Parallel(n_jobs=2)]: Using backend LokyBackend with 2 concurrent workers.\n"
     ]
    },
    {
     "name": "stdout",
     "output_type": "stream",
     "text": [
      "Filtering  at 20.83 Hz\n"
     ]
    },
    {
     "name": "stderr",
     "output_type": "stream",
     "text": [
      "[Parallel(n_jobs=2)]: Done 384 tasks      | elapsed:    0.6s\n",
      "[Parallel(n_jobs=2)]: Done 563 out of 563 | elapsed:    0.7s finished\n"
     ]
    },
    {
     "name": "stdout",
     "output_type": "stream",
     "text": [
      "Reduction order for nice/marker/SymbolicMutualInformation/default: ['channels_y', 'channels']\n",
      "Autodetected number of jobs 2\n",
      "Computing CSD\n",
      "Using 10-5 locations for CSD\n",
      "Using 2 jobs\n"
     ]
    },
    {
     "name": "stderr",
     "output_type": "stream",
     "text": [
      "[Parallel(n_jobs=2)]: Using backend LokyBackend with 2 concurrent workers.\n"
     ]
    },
    {
     "name": "stdout",
     "output_type": "stream",
     "text": [
      "Filtering  at 10.42 Hz\n"
     ]
    },
    {
     "name": "stderr",
     "output_type": "stream",
     "text": [
      "[Parallel(n_jobs=2)]: Done 384 tasks      | elapsed:    0.5s\n",
      "[Parallel(n_jobs=2)]: Done 563 out of 563 | elapsed:    0.6s finished\n"
     ]
    },
    {
     "name": "stdout",
     "output_type": "stream",
     "text": [
      "Reduction order for nice/marker/SymbolicMutualInformation/default: ['channels_y', 'channels']\n",
      "Reduction order for nice/marker/ContingentNegativeVariation/default: ['channels']\n",
      "Reduction order for nice/marker/TimeLockedTopography/p1: ['channels', 'times']\n",
      "Reduction order for nice/marker/TimeLockedTopography/p3a: ['channels', 'times']\n",
      "Reduction order for nice/marker/TimeLockedTopography/p3b: ['channels', 'times']\n",
      "Reading /media/nicolas.bruno/63f8a366-34b7-4896-a7ce-b5fb4ee78535/Nico/MW_eeg_data/minmarker/VP23/VP23_evoked_ar_rereferenced_epo.fif ...\n",
      "    Found the data of interest:\n",
      "        t =    -200.00 ...     600.00 ms\n",
      "        0 CTF compensation matrices available\n",
      "Not setting metadata\n",
      "Not setting metadata\n",
      "563 matching events found\n",
      "No baseline correction applied\n",
      "0 projection items activated\n",
      "Autodetected number of jobs 24\n",
      "Effective window size : 16.384 (s)\n"
     ]
    },
    {
     "name": "stderr",
     "output_type": "stream",
     "text": [
      "[Parallel(n_jobs=24)]: Using backend LokyBackend with 24 concurrent workers.\n",
      "[Parallel(n_jobs=24)]: Done   6 out of  24 | elapsed:    5.1s remaining:   15.4s\n",
      "[Parallel(n_jobs=24)]: Done  11 out of  24 | elapsed:    5.3s remaining:    6.2s\n",
      "[Parallel(n_jobs=24)]: Done  16 out of  24 | elapsed:    5.4s remaining:    2.7s\n",
      "[Parallel(n_jobs=24)]: Done  21 out of  24 | elapsed:    5.6s remaining:    0.8s\n",
      "[Parallel(n_jobs=24)]: Done  24 out of  24 | elapsed:    5.7s finished\n"
     ]
    },
    {
     "name": "stdout",
     "output_type": "stream",
     "text": [
      "Reduction order for nice/marker/PowerSpectralDensity/alpha: ['frequency', 'channels']\n",
      "Reduction order for nice/marker/PowerSpectralDensity/alpha: ['frequency', 'channels']\n",
      "Reduction order for nice/marker/PowerSpectralDensity/delta: ['frequency', 'channels']\n",
      "Reduction order for nice/marker/PowerSpectralDensity/delta: ['frequency', 'channels']\n",
      "Reduction order for nice/marker/PowerSpectralDensity/theta: ['frequency', 'channels']\n",
      "Reduction order for nice/marker/PowerSpectralDensity/theta: ['frequency', 'channels']\n",
      "Reduction order for nice/marker/PowerSpectralDensity/gamma: ['frequency', 'channels']\n",
      "Reduction order for nice/marker/PowerSpectralDensity/theta: ['frequency', 'channels']\n",
      "Reduction order for nice/marker/PowerSpectralDensity/beta: ['frequency', 'channels']\n",
      "Reduction order for nice/marker/PowerSpectralDensity/beta: ['frequency', 'channels']\n",
      "Reduction order for nice/marker/PowerSpectralDensity/summary_se: ['frequency', 'channels']\n",
      "Reduction order for nice/marker/PowerSpectralDensitySummary/summary_msf: ['channels']\n",
      "Reduction order for nice/marker/PowerSpectralDensitySummary/summary_sef90: ['channels']\n",
      "Reduction order for nice/marker/PowerSpectralDensitySummary/summary_sef95: ['channels']\n",
      "Running KolmogorovComplexity\n",
      "Elapsed time 0.8102648258209229 sec\n",
      "Reduction order for nice/marker/KolmogorovComplexity/default: ['channels']\n",
      "Filtering  at 83.33 Hz\n",
      "Performing symbolic transformation\n",
      "Reduction order for nice/marker/PermutationEntropy/default: ['channels']\n",
      "Filtering  at 41.67 Hz\n"
     ]
    },
    {
     "name": "stderr",
     "output_type": "stream",
     "text": [
      "/home/nicolas.bruno/anaconda3/lib/python3.7/site-packages/nice-0.1.dev0-py3.7.egg/nice/algorithms/information_theory/permutation_entropy.py:75: RuntimeWarning: divide by zero encountered in log\n",
      "  pe = np.nan_to_num(-np.nansum(count * np.log(count), axis=1))\n",
      "/home/nicolas.bruno/anaconda3/lib/python3.7/site-packages/nice-0.1.dev0-py3.7.egg/nice/algorithms/information_theory/permutation_entropy.py:75: RuntimeWarning: invalid value encountered in multiply\n",
      "  pe = np.nan_to_num(-np.nansum(count * np.log(count), axis=1))\n"
     ]
    },
    {
     "name": "stdout",
     "output_type": "stream",
     "text": [
      "Performing symbolic transformation\n",
      "Reduction order for nice/marker/PermutationEntropy/default: ['channels']\n",
      "Filtering  at 20.83 Hz\n",
      "Performing symbolic transformation\n",
      "Reduction order for nice/marker/PermutationEntropy/default: ['channels']\n",
      "Filtering  at 10.42 Hz\n",
      "Performing symbolic transformation\n",
      "Reduction order for nice/marker/PermutationEntropy/default: ['channels']\n",
      "Autodetected number of jobs 2\n",
      "Computing CSD\n",
      "Using 10-5 locations for CSD\n",
      "Using 2 jobs\n"
     ]
    },
    {
     "name": "stderr",
     "output_type": "stream",
     "text": [
      "[Parallel(n_jobs=2)]: Using backend LokyBackend with 2 concurrent workers.\n",
      "[Parallel(n_jobs=2)]: Done  18 tasks      | elapsed:    1.7s\n"
     ]
    },
    {
     "name": "stdout",
     "output_type": "stream",
     "text": [
      "Filtering  at 83.33 Hz\n"
     ]
    },
    {
     "name": "stderr",
     "output_type": "stream",
     "text": [
      "[Parallel(n_jobs=2)]: Done 563 out of 563 | elapsed:    2.3s finished\n"
     ]
    },
    {
     "name": "stdout",
     "output_type": "stream",
     "text": [
      "Reduction order for nice/marker/SymbolicMutualInformation/default: ['channels_y', 'channels']\n",
      "Autodetected number of jobs 2\n",
      "Computing CSD\n",
      "Using 10-5 locations for CSD\n",
      "Using 2 jobs\n"
     ]
    },
    {
     "name": "stderr",
     "output_type": "stream",
     "text": [
      "[Parallel(n_jobs=2)]: Using backend LokyBackend with 2 concurrent workers.\n"
     ]
    },
    {
     "name": "stdout",
     "output_type": "stream",
     "text": [
      "Filtering  at 41.67 Hz\n"
     ]
    },
    {
     "name": "stderr",
     "output_type": "stream",
     "text": [
      "[Parallel(n_jobs=2)]: Done 384 tasks      | elapsed:    0.6s\n",
      "[Parallel(n_jobs=2)]: Done 563 out of 563 | elapsed:    0.7s finished\n"
     ]
    },
    {
     "name": "stdout",
     "output_type": "stream",
     "text": [
      "Reduction order for nice/marker/SymbolicMutualInformation/default: ['channels_y', 'channels']\n",
      "Autodetected number of jobs 2\n",
      "Computing CSD\n",
      "Using 10-5 locations for CSD\n",
      "Using 2 jobs\n"
     ]
    },
    {
     "name": "stderr",
     "output_type": "stream",
     "text": [
      "[Parallel(n_jobs=2)]: Using backend LokyBackend with 2 concurrent workers.\n"
     ]
    },
    {
     "name": "stdout",
     "output_type": "stream",
     "text": [
      "Filtering  at 20.83 Hz\n"
     ]
    },
    {
     "name": "stderr",
     "output_type": "stream",
     "text": [
      "[Parallel(n_jobs=2)]: Done 384 tasks      | elapsed:    0.6s\n",
      "[Parallel(n_jobs=2)]: Done 563 out of 563 | elapsed:    0.7s finished\n"
     ]
    },
    {
     "name": "stdout",
     "output_type": "stream",
     "text": [
      "Reduction order for nice/marker/SymbolicMutualInformation/default: ['channels_y', 'channels']\n",
      "Autodetected number of jobs 2\n",
      "Computing CSD\n",
      "Using 10-5 locations for CSD\n",
      "Using 2 jobs\n"
     ]
    },
    {
     "name": "stderr",
     "output_type": "stream",
     "text": [
      "[Parallel(n_jobs=2)]: Using backend LokyBackend with 2 concurrent workers.\n"
     ]
    },
    {
     "name": "stdout",
     "output_type": "stream",
     "text": [
      "Filtering  at 10.42 Hz\n"
     ]
    },
    {
     "name": "stderr",
     "output_type": "stream",
     "text": [
      "[Parallel(n_jobs=2)]: Done 384 tasks      | elapsed:    0.5s\n",
      "[Parallel(n_jobs=2)]: Done 563 out of 563 | elapsed:    0.7s finished\n"
     ]
    },
    {
     "name": "stdout",
     "output_type": "stream",
     "text": [
      "Reduction order for nice/marker/SymbolicMutualInformation/default: ['channels_y', 'channels']\n",
      "Reduction order for nice/marker/ContingentNegativeVariation/default: ['channels']\n",
      "Reduction order for nice/marker/TimeLockedTopography/p1: ['channels', 'times']\n",
      "Reduction order for nice/marker/TimeLockedTopography/p3a: ['channels', 'times']\n",
      "Reduction order for nice/marker/TimeLockedTopography/p3b: ['channels', 'times']\n",
      "\n",
      "#########################################\n",
      "Computing markers for participant VP24\n",
      "#########################################\n",
      "\n",
      "Reading /media/nicolas.bruno/63f8a366-34b7-4896-a7ce-b5fb4ee78535/Nico/MW_eeg_data/minmarker/VP24/VP24_evoked_ar_subtracted_epo.fif ...\n",
      "    Found the data of interest:\n",
      "        t =    -200.00 ...     600.00 ms\n",
      "        0 CTF compensation matrices available\n",
      "Not setting metadata\n",
      "Not setting metadata\n",
      "224 matching events found\n",
      "No baseline correction applied\n",
      "0 projection items activated\n",
      "Autodetected number of jobs 24\n",
      "Effective window size : 16.384 (s)\n"
     ]
    },
    {
     "name": "stderr",
     "output_type": "stream",
     "text": [
      "[Parallel(n_jobs=24)]: Using backend LokyBackend with 24 concurrent workers.\n",
      "[Parallel(n_jobs=24)]: Done   6 out of  24 | elapsed:    4.1s remaining:   12.4s\n",
      "[Parallel(n_jobs=24)]: Done  11 out of  24 | elapsed:    4.3s remaining:    5.0s\n",
      "[Parallel(n_jobs=24)]: Done  16 out of  24 | elapsed:    4.3s remaining:    2.2s\n"
     ]
    },
    {
     "name": "stdout",
     "output_type": "stream",
     "text": [
      "Reduction order for nice/marker/PowerSpectralDensity/alpha: ['frequency', 'channels']\n",
      "Reduction order for nice/marker/PowerSpectralDensity/alpha: ['frequency', 'channels']\n",
      "Reduction order for nice/marker/PowerSpectralDensity/delta: ['frequency', 'channels']\n"
     ]
    },
    {
     "name": "stderr",
     "output_type": "stream",
     "text": [
      "[Parallel(n_jobs=24)]: Done  21 out of  24 | elapsed:    4.4s remaining:    0.6s\n",
      "[Parallel(n_jobs=24)]: Done  24 out of  24 | elapsed:    4.5s finished\n",
      "/home/nicolas.bruno/anaconda3/lib/python3.7/site-packages/nice-0.1.dev0-py3.7.egg/nice/markers/spectral.py:128: RuntimeWarning: invalid value encountered in true_divide\n",
      "  self.data_norm_ = self.data_ / self.data_.sum(axis=-1)[..., None]\n",
      "/home/nicolas.bruno/anaconda3/lib/python3.7/site-packages/nice-0.1.dev0-py3.7.egg/nice/markers/spectral.py:220: RuntimeWarning: divide by zero encountered in log10\n",
      "  out = 10 * np.log10(out)\n"
     ]
    },
    {
     "name": "stdout",
     "output_type": "stream",
     "text": [
      "Reduction order for nice/marker/PowerSpectralDensity/delta: ['frequency', 'channels']\n",
      "Reduction order for nice/marker/PowerSpectralDensity/theta: ['frequency', 'channels']\n",
      "Reduction order for nice/marker/PowerSpectralDensity/theta: ['frequency', 'channels']\n",
      "Reduction order for nice/marker/PowerSpectralDensity/gamma: ['frequency', 'channels']\n",
      "Reduction order for nice/marker/PowerSpectralDensity/theta: ['frequency', 'channels']\n",
      "Reduction order for nice/marker/PowerSpectralDensity/beta: ['frequency', 'channels']\n",
      "Reduction order for nice/marker/PowerSpectralDensity/beta: ['frequency', 'channels']\n",
      "Reduction order for nice/marker/PowerSpectralDensity/summary_se: ['frequency', 'channels']\n",
      "Reduction order for nice/marker/PowerSpectralDensitySummary/summary_msf: ['channels']\n",
      "Reduction order for nice/marker/PowerSpectralDensitySummary/summary_sef90: ['channels']\n",
      "Reduction order for nice/marker/PowerSpectralDensitySummary/summary_sef95: ['channels']\n",
      "Running KolmogorovComplexity\n",
      "Elapsed time 0.3220994472503662 sec\n",
      "Reduction order for nice/marker/KolmogorovComplexity/default: ['channels']\n",
      "Filtering  at 83.33 Hz\n",
      "Performing symbolic transformation\n",
      "Reduction order for nice/marker/PermutationEntropy/default: ['channels']\n",
      "Filtering  at 41.67 Hz\n",
      "Performing symbolic transformation\n"
     ]
    },
    {
     "name": "stderr",
     "output_type": "stream",
     "text": [
      "/home/nicolas.bruno/anaconda3/lib/python3.7/site-packages/nice-0.1.dev0-py3.7.egg/nice/algorithms/information_theory/permutation_entropy.py:75: RuntimeWarning: divide by zero encountered in log\n",
      "  pe = np.nan_to_num(-np.nansum(count * np.log(count), axis=1))\n",
      "/home/nicolas.bruno/anaconda3/lib/python3.7/site-packages/nice-0.1.dev0-py3.7.egg/nice/algorithms/information_theory/permutation_entropy.py:75: RuntimeWarning: invalid value encountered in multiply\n",
      "  pe = np.nan_to_num(-np.nansum(count * np.log(count), axis=1))\n"
     ]
    },
    {
     "name": "stdout",
     "output_type": "stream",
     "text": [
      "Reduction order for nice/marker/PermutationEntropy/default: ['channels']\n",
      "Filtering  at 20.83 Hz\n",
      "Performing symbolic transformation\n",
      "Reduction order for nice/marker/PermutationEntropy/default: ['channels']\n",
      "Filtering  at 10.42 Hz\n",
      "Performing symbolic transformation\n",
      "Reduction order for nice/marker/PermutationEntropy/default: ['channels']\n",
      "Autodetected number of jobs 2\n",
      "Computing CSD\n",
      "Using 10-5 locations for CSD\n",
      "Using 2 jobs\n"
     ]
    },
    {
     "name": "stderr",
     "output_type": "stream",
     "text": [
      "[Parallel(n_jobs=2)]: Using backend LokyBackend with 2 concurrent workers.\n",
      "[Parallel(n_jobs=2)]: Done  18 tasks      | elapsed:    1.7s\n"
     ]
    },
    {
     "name": "stdout",
     "output_type": "stream",
     "text": [
      "Filtering  at 83.33 Hz\n"
     ]
    },
    {
     "name": "stderr",
     "output_type": "stream",
     "text": [
      "[Parallel(n_jobs=2)]: Done 224 out of 224 | elapsed:    1.9s finished\n"
     ]
    },
    {
     "name": "stdout",
     "output_type": "stream",
     "text": [
      "Reduction order for nice/marker/SymbolicMutualInformation/default: ['channels_y', 'channels']\n",
      "Autodetected number of jobs 2\n",
      "Computing CSD\n",
      "Using 10-5 locations for CSD\n",
      "Using 2 jobs\n"
     ]
    },
    {
     "name": "stderr",
     "output_type": "stream",
     "text": [
      "[Parallel(n_jobs=2)]: Using backend LokyBackend with 2 concurrent workers.\n"
     ]
    },
    {
     "name": "stdout",
     "output_type": "stream",
     "text": [
      "Filtering  at 41.67 Hz\n"
     ]
    },
    {
     "name": "stderr",
     "output_type": "stream",
     "text": [
      "[Parallel(n_jobs=2)]: Done 190 tasks      | elapsed:    0.3s\n",
      "[Parallel(n_jobs=2)]: Done 224 out of 224 | elapsed:    0.3s finished\n"
     ]
    },
    {
     "name": "stdout",
     "output_type": "stream",
     "text": [
      "Reduction order for nice/marker/SymbolicMutualInformation/default: ['channels_y', 'channels']\n",
      "Autodetected number of jobs 2\n",
      "Computing CSD\n",
      "Using 10-5 locations for CSD\n",
      "Using 2 jobs\n"
     ]
    },
    {
     "name": "stderr",
     "output_type": "stream",
     "text": [
      "[Parallel(n_jobs=2)]: Using backend LokyBackend with 2 concurrent workers.\n",
      "[Parallel(n_jobs=2)]: Done 142 tasks      | elapsed:    0.2s\n"
     ]
    },
    {
     "name": "stdout",
     "output_type": "stream",
     "text": [
      "Filtering  at 20.83 Hz\n"
     ]
    },
    {
     "name": "stderr",
     "output_type": "stream",
     "text": [
      "[Parallel(n_jobs=2)]: Done 224 out of 224 | elapsed:    0.3s finished\n"
     ]
    },
    {
     "name": "stdout",
     "output_type": "stream",
     "text": [
      "Reduction order for nice/marker/SymbolicMutualInformation/default: ['channels_y', 'channels']\n",
      "Autodetected number of jobs 2\n",
      "Computing CSD\n",
      "Using 10-5 locations for CSD\n",
      "Using 2 jobs\n"
     ]
    },
    {
     "name": "stderr",
     "output_type": "stream",
     "text": [
      "[Parallel(n_jobs=2)]: Using backend LokyBackend with 2 concurrent workers.\n"
     ]
    },
    {
     "name": "stdout",
     "output_type": "stream",
     "text": [
      "Filtering  at 10.42 Hz\n"
     ]
    },
    {
     "name": "stderr",
     "output_type": "stream",
     "text": [
      "[Parallel(n_jobs=2)]: Done 142 tasks      | elapsed:    0.3s\n",
      "[Parallel(n_jobs=2)]: Done 224 out of 224 | elapsed:    0.4s finished\n"
     ]
    },
    {
     "name": "stdout",
     "output_type": "stream",
     "text": [
      "Reduction order for nice/marker/SymbolicMutualInformation/default: ['channels_y', 'channels']\n",
      "Reduction order for nice/marker/ContingentNegativeVariation/default: ['channels']\n",
      "Reduction order for nice/marker/TimeLockedTopography/p1: ['channels', 'times']\n",
      "Reduction order for nice/marker/TimeLockedTopography/p3a: ['channels', 'times']\n",
      "Reduction order for nice/marker/TimeLockedTopography/p3b: ['channels', 'times']\n",
      "Reading /media/nicolas.bruno/63f8a366-34b7-4896-a7ce-b5fb4ee78535/Nico/MW_eeg_data/minmarker/VP24/VP24_evoked_ar_rereferenced_epo.fif ...\n",
      "    Found the data of interest:\n",
      "        t =    -200.00 ...     600.00 ms\n",
      "        0 CTF compensation matrices available\n",
      "Not setting metadata\n",
      "Not setting metadata\n",
      "224 matching events found\n",
      "No baseline correction applied\n",
      "0 projection items activated\n",
      "Autodetected number of jobs 24\n",
      "Effective window size : 16.384 (s)\n"
     ]
    },
    {
     "name": "stderr",
     "output_type": "stream",
     "text": [
      "[Parallel(n_jobs=24)]: Using backend LokyBackend with 24 concurrent workers.\n",
      "[Parallel(n_jobs=24)]: Done   6 out of  24 | elapsed:    4.2s remaining:   12.6s\n",
      "[Parallel(n_jobs=24)]: Done  11 out of  24 | elapsed:    4.3s remaining:    5.1s\n",
      "[Parallel(n_jobs=24)]: Done  16 out of  24 | elapsed:    4.4s remaining:    2.2s\n"
     ]
    },
    {
     "name": "stdout",
     "output_type": "stream",
     "text": [
      "Reduction order for nice/marker/PowerSpectralDensity/alpha: ['frequency', 'channels']\n",
      "Reduction order for nice/marker/PowerSpectralDensity/alpha: ['frequency', 'channels']\n",
      "Reduction order for nice/marker/PowerSpectralDensity/delta: ['frequency', 'channels']\n",
      "Reduction order for nice/marker/PowerSpectralDensity/delta: ['frequency', 'channels']\n",
      "Reduction order for nice/marker/PowerSpectralDensity/theta: ['frequency', 'channels']\n"
     ]
    },
    {
     "name": "stderr",
     "output_type": "stream",
     "text": [
      "[Parallel(n_jobs=24)]: Done  21 out of  24 | elapsed:    4.5s remaining:    0.6s\n",
      "[Parallel(n_jobs=24)]: Done  24 out of  24 | elapsed:    4.5s finished\n"
     ]
    },
    {
     "name": "stdout",
     "output_type": "stream",
     "text": [
      "Reduction order for nice/marker/PowerSpectralDensity/theta: ['frequency', 'channels']\n",
      "Reduction order for nice/marker/PowerSpectralDensity/gamma: ['frequency', 'channels']\n",
      "Reduction order for nice/marker/PowerSpectralDensity/theta: ['frequency', 'channels']\n",
      "Reduction order for nice/marker/PowerSpectralDensity/beta: ['frequency', 'channels']\n",
      "Reduction order for nice/marker/PowerSpectralDensity/beta: ['frequency', 'channels']\n",
      "Reduction order for nice/marker/PowerSpectralDensity/summary_se: ['frequency', 'channels']\n",
      "Reduction order for nice/marker/PowerSpectralDensitySummary/summary_msf: ['channels']\n",
      "Reduction order for nice/marker/PowerSpectralDensitySummary/summary_sef90: ['channels']\n",
      "Reduction order for nice/marker/PowerSpectralDensitySummary/summary_sef95: ['channels']\n",
      "Running KolmogorovComplexity\n",
      "Elapsed time 0.31691694259643555 sec\n",
      "Reduction order for nice/marker/KolmogorovComplexity/default: ['channels']\n",
      "Filtering  at 83.33 Hz\n",
      "Performing symbolic transformation\n",
      "Reduction order for nice/marker/PermutationEntropy/default: ['channels']\n",
      "Filtering  at 41.67 Hz\n",
      "Performing symbolic transformation\n"
     ]
    },
    {
     "name": "stderr",
     "output_type": "stream",
     "text": [
      "/home/nicolas.bruno/anaconda3/lib/python3.7/site-packages/nice-0.1.dev0-py3.7.egg/nice/algorithms/information_theory/permutation_entropy.py:75: RuntimeWarning: divide by zero encountered in log\n",
      "  pe = np.nan_to_num(-np.nansum(count * np.log(count), axis=1))\n",
      "/home/nicolas.bruno/anaconda3/lib/python3.7/site-packages/nice-0.1.dev0-py3.7.egg/nice/algorithms/information_theory/permutation_entropy.py:75: RuntimeWarning: invalid value encountered in multiply\n",
      "  pe = np.nan_to_num(-np.nansum(count * np.log(count), axis=1))\n"
     ]
    },
    {
     "name": "stdout",
     "output_type": "stream",
     "text": [
      "Reduction order for nice/marker/PermutationEntropy/default: ['channels']\n",
      "Filtering  at 20.83 Hz\n",
      "Performing symbolic transformation\n",
      "Reduction order for nice/marker/PermutationEntropy/default: ['channels']\n",
      "Filtering  at 10.42 Hz\n",
      "Performing symbolic transformation\n",
      "Reduction order for nice/marker/PermutationEntropy/default: ['channels']\n",
      "Autodetected number of jobs 2\n",
      "Computing CSD\n",
      "Using 10-5 locations for CSD\n",
      "Using 2 jobs\n"
     ]
    },
    {
     "name": "stderr",
     "output_type": "stream",
     "text": [
      "[Parallel(n_jobs=2)]: Using backend LokyBackend with 2 concurrent workers.\n",
      "[Parallel(n_jobs=2)]: Done  18 tasks      | elapsed:    1.7s\n"
     ]
    },
    {
     "name": "stdout",
     "output_type": "stream",
     "text": [
      "Filtering  at 83.33 Hz\n"
     ]
    },
    {
     "name": "stderr",
     "output_type": "stream",
     "text": [
      "[Parallel(n_jobs=2)]: Done 224 out of 224 | elapsed:    2.0s finished\n"
     ]
    },
    {
     "name": "stdout",
     "output_type": "stream",
     "text": [
      "Reduction order for nice/marker/SymbolicMutualInformation/default: ['channels_y', 'channels']\n",
      "Autodetected number of jobs 2\n",
      "Computing CSD\n",
      "Using 10-5 locations for CSD\n",
      "Using 2 jobs\n"
     ]
    },
    {
     "name": "stderr",
     "output_type": "stream",
     "text": [
      "[Parallel(n_jobs=2)]: Using backend LokyBackend with 2 concurrent workers.\n",
      "[Parallel(n_jobs=2)]: Done 142 tasks      | elapsed:    0.2s\n"
     ]
    },
    {
     "name": "stdout",
     "output_type": "stream",
     "text": [
      "Filtering  at 41.67 Hz\n"
     ]
    },
    {
     "name": "stderr",
     "output_type": "stream",
     "text": [
      "[Parallel(n_jobs=2)]: Done 224 out of 224 | elapsed:    0.3s finished\n"
     ]
    },
    {
     "name": "stdout",
     "output_type": "stream",
     "text": [
      "Reduction order for nice/marker/SymbolicMutualInformation/default: ['channels_y', 'channels']\n",
      "Autodetected number of jobs 2\n",
      "Computing CSD\n",
      "Using 10-5 locations for CSD\n",
      "Using 2 jobs\n"
     ]
    },
    {
     "name": "stderr",
     "output_type": "stream",
     "text": [
      "[Parallel(n_jobs=2)]: Using backend LokyBackend with 2 concurrent workers.\n",
      "[Parallel(n_jobs=2)]: Done 142 tasks      | elapsed:    0.2s\n"
     ]
    },
    {
     "name": "stdout",
     "output_type": "stream",
     "text": [
      "Filtering  at 20.83 Hz\n"
     ]
    },
    {
     "name": "stderr",
     "output_type": "stream",
     "text": [
      "[Parallel(n_jobs=2)]: Done 224 out of 224 | elapsed:    0.3s finished\n"
     ]
    },
    {
     "name": "stdout",
     "output_type": "stream",
     "text": [
      "Reduction order for nice/marker/SymbolicMutualInformation/default: ['channels_y', 'channels']\n",
      "Autodetected number of jobs 2\n",
      "Computing CSD\n",
      "Using 10-5 locations for CSD\n",
      "Using 2 jobs\n"
     ]
    },
    {
     "name": "stderr",
     "output_type": "stream",
     "text": [
      "[Parallel(n_jobs=2)]: Using backend LokyBackend with 2 concurrent workers.\n"
     ]
    },
    {
     "name": "stdout",
     "output_type": "stream",
     "text": [
      "Filtering  at 10.42 Hz\n"
     ]
    },
    {
     "name": "stderr",
     "output_type": "stream",
     "text": [
      "[Parallel(n_jobs=2)]: Done 142 tasks      | elapsed:    0.3s\n",
      "[Parallel(n_jobs=2)]: Done 224 out of 224 | elapsed:    0.4s finished\n"
     ]
    },
    {
     "name": "stdout",
     "output_type": "stream",
     "text": [
      "Reduction order for nice/marker/SymbolicMutualInformation/default: ['channels_y', 'channels']\n",
      "Reduction order for nice/marker/ContingentNegativeVariation/default: ['channels']\n",
      "Reduction order for nice/marker/TimeLockedTopography/p1: ['channels', 'times']\n",
      "Reduction order for nice/marker/TimeLockedTopography/p3a: ['channels', 'times']\n",
      "Reduction order for nice/marker/TimeLockedTopography/p3b: ['channels', 'times']\n",
      "\n",
      "#########################################\n",
      "Computing markers for participant VP25\n",
      "#########################################\n",
      "\n",
      "Reading /media/nicolas.bruno/63f8a366-34b7-4896-a7ce-b5fb4ee78535/Nico/MW_eeg_data/minmarker/VP25/VP25_evoked_ar_subtracted_epo.fif ...\n",
      "    Found the data of interest:\n",
      "        t =    -200.00 ...     600.00 ms\n",
      "        0 CTF compensation matrices available\n",
      "Not setting metadata\n",
      "Not setting metadata\n",
      "274 matching events found\n",
      "No baseline correction applied\n",
      "0 projection items activated\n",
      "Autodetected number of jobs 24\n",
      "Effective window size : 16.384 (s)\n"
     ]
    },
    {
     "name": "stderr",
     "output_type": "stream",
     "text": [
      "[Parallel(n_jobs=24)]: Using backend LokyBackend with 24 concurrent workers.\n",
      "[Parallel(n_jobs=24)]: Done   6 out of  24 | elapsed:    4.4s remaining:   13.2s\n",
      "[Parallel(n_jobs=24)]: Done  11 out of  24 | elapsed:    4.5s remaining:    5.3s\n",
      "[Parallel(n_jobs=24)]: Done  16 out of  24 | elapsed:    4.6s remaining:    2.3s\n",
      "[Parallel(n_jobs=24)]: Done  21 out of  24 | elapsed:    4.7s remaining:    0.7s\n",
      "[Parallel(n_jobs=24)]: Done  24 out of  24 | elapsed:    4.8s finished\n"
     ]
    },
    {
     "name": "stdout",
     "output_type": "stream",
     "text": [
      "Reduction order for nice/marker/PowerSpectralDensity/alpha: ['frequency', 'channels']\n",
      "Reduction order for nice/marker/PowerSpectralDensity/alpha: ['frequency', 'channels']\n",
      "Reduction order for nice/marker/PowerSpectralDensity/delta: ['frequency', 'channels']\n",
      "Reduction order for nice/marker/PowerSpectralDensity/delta: ['frequency', 'channels']\n",
      "Reduction order for nice/marker/PowerSpectralDensity/theta: ['frequency', 'channels']\n",
      "Reduction order for nice/marker/PowerSpectralDensity/theta: ['frequency', 'channels']\n",
      "Reduction order for nice/marker/PowerSpectralDensity/gamma: ['frequency', 'channels']\n",
      "Reduction order for nice/marker/PowerSpectralDensity/theta: ['frequency', 'channels']\n",
      "Reduction order for nice/marker/PowerSpectralDensity/beta: ['frequency', 'channels']\n",
      "Reduction order for nice/marker/PowerSpectralDensity/beta: ['frequency', 'channels']\n",
      "Reduction order for nice/marker/PowerSpectralDensity/summary_se: ['frequency', 'channels']\n",
      "Reduction order for nice/marker/PowerSpectralDensitySummary/summary_msf: ['channels']\n"
     ]
    },
    {
     "name": "stderr",
     "output_type": "stream",
     "text": [
      "/home/nicolas.bruno/anaconda3/lib/python3.7/site-packages/nice-0.1.dev0-py3.7.egg/nice/markers/spectral.py:128: RuntimeWarning: invalid value encountered in true_divide\n",
      "  self.data_norm_ = self.data_ / self.data_.sum(axis=-1)[..., None]\n",
      "/home/nicolas.bruno/anaconda3/lib/python3.7/site-packages/nice-0.1.dev0-py3.7.egg/nice/markers/spectral.py:220: RuntimeWarning: divide by zero encountered in log10\n",
      "  out = 10 * np.log10(out)\n"
     ]
    },
    {
     "name": "stdout",
     "output_type": "stream",
     "text": [
      "Reduction order for nice/marker/PowerSpectralDensitySummary/summary_sef90: ['channels']\n",
      "Reduction order for nice/marker/PowerSpectralDensitySummary/summary_sef95: ['channels']\n",
      "Running KolmogorovComplexity\n",
      "Elapsed time 0.3884565830230713 sec\n",
      "Reduction order for nice/marker/KolmogorovComplexity/default: ['channels']\n",
      "Filtering  at 83.33 Hz\n",
      "Performing symbolic transformation\n",
      "Reduction order for nice/marker/PermutationEntropy/default: ['channels']\n",
      "Filtering  at 41.67 Hz\n",
      "Performing symbolic transformation\n",
      "Reduction order for nice/marker/PermutationEntropy/default: ['channels']\n",
      "Filtering  at 20.83 Hz\n",
      "Performing symbolic transformation\n",
      "Reduction order for nice/marker/PermutationEntropy/default: ['channels']\n",
      "Filtering  at 10.42 Hz\n",
      "Performing symbolic transformation\n",
      "Reduction order for nice/marker/PermutationEntropy/default: ['channels']\n",
      "Autodetected number of jobs 2\n",
      "Computing CSD\n",
      "Using 10-5 locations for CSD\n",
      "Using 2 jobs\n"
     ]
    },
    {
     "name": "stderr",
     "output_type": "stream",
     "text": [
      "/home/nicolas.bruno/anaconda3/lib/python3.7/site-packages/nice-0.1.dev0-py3.7.egg/nice/algorithms/information_theory/permutation_entropy.py:75: RuntimeWarning: divide by zero encountered in log\n",
      "  pe = np.nan_to_num(-np.nansum(count * np.log(count), axis=1))\n",
      "/home/nicolas.bruno/anaconda3/lib/python3.7/site-packages/nice-0.1.dev0-py3.7.egg/nice/algorithms/information_theory/permutation_entropy.py:75: RuntimeWarning: invalid value encountered in multiply\n",
      "  pe = np.nan_to_num(-np.nansum(count * np.log(count), axis=1))\n",
      "[Parallel(n_jobs=2)]: Using backend LokyBackend with 2 concurrent workers.\n",
      "[Parallel(n_jobs=2)]: Done  18 tasks      | elapsed:    1.7s\n"
     ]
    },
    {
     "name": "stdout",
     "output_type": "stream",
     "text": [
      "Filtering  at 83.33 Hz\n"
     ]
    },
    {
     "name": "stderr",
     "output_type": "stream",
     "text": [
      "[Parallel(n_jobs=2)]: Done 274 out of 274 | elapsed:    2.0s finished\n"
     ]
    },
    {
     "name": "stdout",
     "output_type": "stream",
     "text": [
      "Reduction order for nice/marker/SymbolicMutualInformation/default: ['channels_y', 'channels']\n",
      "Autodetected number of jobs 2\n",
      "Computing CSD\n",
      "Using 10-5 locations for CSD\n",
      "Using 2 jobs\n"
     ]
    },
    {
     "name": "stderr",
     "output_type": "stream",
     "text": [
      "[Parallel(n_jobs=2)]: Using backend LokyBackend with 2 concurrent workers.\n"
     ]
    },
    {
     "name": "stdout",
     "output_type": "stream",
     "text": [
      "Filtering  at 41.67 Hz\n"
     ]
    },
    {
     "name": "stderr",
     "output_type": "stream",
     "text": [
      "[Parallel(n_jobs=2)]: Done 193 tasks      | elapsed:    0.3s\n",
      "[Parallel(n_jobs=2)]: Done 274 out of 274 | elapsed:    0.4s finished\n"
     ]
    },
    {
     "name": "stdout",
     "output_type": "stream",
     "text": [
      "Reduction order for nice/marker/SymbolicMutualInformation/default: ['channels_y', 'channels']\n",
      "Autodetected number of jobs 2\n",
      "Computing CSD\n",
      "Using 10-5 locations for CSD\n",
      "Using 2 jobs\n"
     ]
    },
    {
     "name": "stderr",
     "output_type": "stream",
     "text": [
      "[Parallel(n_jobs=2)]: Using backend LokyBackend with 2 concurrent workers.\n"
     ]
    },
    {
     "name": "stdout",
     "output_type": "stream",
     "text": [
      "Filtering  at 20.83 Hz\n"
     ]
    },
    {
     "name": "stderr",
     "output_type": "stream",
     "text": [
      "[Parallel(n_jobs=2)]: Done 193 tasks      | elapsed:    0.3s\n",
      "[Parallel(n_jobs=2)]: Done 274 out of 274 | elapsed:    0.4s finished\n"
     ]
    },
    {
     "name": "stdout",
     "output_type": "stream",
     "text": [
      "Reduction order for nice/marker/SymbolicMutualInformation/default: ['channels_y', 'channels']\n",
      "Autodetected number of jobs 2\n",
      "Computing CSD\n",
      "Using 10-5 locations for CSD\n",
      "Using 2 jobs\n"
     ]
    },
    {
     "name": "stderr",
     "output_type": "stream",
     "text": [
      "[Parallel(n_jobs=2)]: Using backend LokyBackend with 2 concurrent workers.\n"
     ]
    },
    {
     "name": "stdout",
     "output_type": "stream",
     "text": [
      "Filtering  at 10.42 Hz\n"
     ]
    },
    {
     "name": "stderr",
     "output_type": "stream",
     "text": [
      "[Parallel(n_jobs=2)]: Done 193 tasks      | elapsed:    0.3s\n",
      "[Parallel(n_jobs=2)]: Done 274 out of 274 | elapsed:    0.4s finished\n"
     ]
    },
    {
     "name": "stdout",
     "output_type": "stream",
     "text": [
      "Reduction order for nice/marker/SymbolicMutualInformation/default: ['channels_y', 'channels']\n",
      "Reduction order for nice/marker/ContingentNegativeVariation/default: ['channels']\n",
      "Reduction order for nice/marker/TimeLockedTopography/p1: ['channels', 'times']\n",
      "Reduction order for nice/marker/TimeLockedTopography/p3a: ['channels', 'times']\n",
      "Reduction order for nice/marker/TimeLockedTopography/p3b: ['channels', 'times']\n",
      "Reading /media/nicolas.bruno/63f8a366-34b7-4896-a7ce-b5fb4ee78535/Nico/MW_eeg_data/minmarker/VP25/VP25_evoked_ar_rereferenced_epo.fif ...\n",
      "    Found the data of interest:\n",
      "        t =    -200.00 ...     600.00 ms\n",
      "        0 CTF compensation matrices available\n",
      "Not setting metadata\n",
      "Not setting metadata\n",
      "274 matching events found\n",
      "No baseline correction applied\n",
      "0 projection items activated\n",
      "Autodetected number of jobs 24\n",
      "Effective window size : 16.384 (s)\n"
     ]
    },
    {
     "name": "stderr",
     "output_type": "stream",
     "text": [
      "[Parallel(n_jobs=24)]: Using backend LokyBackend with 24 concurrent workers.\n",
      "[Parallel(n_jobs=24)]: Done   6 out of  24 | elapsed:    4.2s remaining:   12.7s\n",
      "[Parallel(n_jobs=24)]: Done  11 out of  24 | elapsed:    4.3s remaining:    5.1s\n",
      "[Parallel(n_jobs=24)]: Done  16 out of  24 | elapsed:    4.4s remaining:    2.2s\n",
      "[Parallel(n_jobs=24)]: Done  21 out of  24 | elapsed:    4.5s remaining:    0.6s\n",
      "[Parallel(n_jobs=24)]: Done  24 out of  24 | elapsed:    4.5s finished\n"
     ]
    },
    {
     "name": "stdout",
     "output_type": "stream",
     "text": [
      "Reduction order for nice/marker/PowerSpectralDensity/alpha: ['frequency', 'channels']\n",
      "Reduction order for nice/marker/PowerSpectralDensity/alpha: ['frequency', 'channels']\n",
      "Reduction order for nice/marker/PowerSpectralDensity/delta: ['frequency', 'channels']\n",
      "Reduction order for nice/marker/PowerSpectralDensity/delta: ['frequency', 'channels']\n",
      "Reduction order for nice/marker/PowerSpectralDensity/theta: ['frequency', 'channels']\n",
      "Reduction order for nice/marker/PowerSpectralDensity/theta: ['frequency', 'channels']\n",
      "Reduction order for nice/marker/PowerSpectralDensity/gamma: ['frequency', 'channels']\n",
      "Reduction order for nice/marker/PowerSpectralDensity/theta: ['frequency', 'channels']\n",
      "Reduction order for nice/marker/PowerSpectralDensity/beta: ['frequency', 'channels']\n",
      "Reduction order for nice/marker/PowerSpectralDensity/beta: ['frequency', 'channels']\n",
      "Reduction order for nice/marker/PowerSpectralDensity/summary_se: ['frequency', 'channels']\n",
      "Reduction order for nice/marker/PowerSpectralDensitySummary/summary_msf: ['channels']\n",
      "Reduction order for nice/marker/PowerSpectralDensitySummary/summary_sef90: ['channels']\n",
      "Reduction order for nice/marker/PowerSpectralDensitySummary/summary_sef95: ['channels']\n",
      "Running KolmogorovComplexity\n",
      "Elapsed time 0.3876039981842041 sec\n",
      "Reduction order for nice/marker/KolmogorovComplexity/default: ['channels']\n",
      "Filtering  at 83.33 Hz\n",
      "Performing symbolic transformation\n",
      "Reduction order for nice/marker/PermutationEntropy/default: ['channels']\n",
      "Filtering  at 41.67 Hz\n",
      "Performing symbolic transformation\n"
     ]
    },
    {
     "name": "stderr",
     "output_type": "stream",
     "text": [
      "/home/nicolas.bruno/anaconda3/lib/python3.7/site-packages/nice-0.1.dev0-py3.7.egg/nice/algorithms/information_theory/permutation_entropy.py:75: RuntimeWarning: divide by zero encountered in log\n",
      "  pe = np.nan_to_num(-np.nansum(count * np.log(count), axis=1))\n",
      "/home/nicolas.bruno/anaconda3/lib/python3.7/site-packages/nice-0.1.dev0-py3.7.egg/nice/algorithms/information_theory/permutation_entropy.py:75: RuntimeWarning: invalid value encountered in multiply\n",
      "  pe = np.nan_to_num(-np.nansum(count * np.log(count), axis=1))\n"
     ]
    },
    {
     "name": "stdout",
     "output_type": "stream",
     "text": [
      "Reduction order for nice/marker/PermutationEntropy/default: ['channels']\n",
      "Filtering  at 20.83 Hz\n",
      "Performing symbolic transformation\n",
      "Reduction order for nice/marker/PermutationEntropy/default: ['channels']\n",
      "Filtering  at 10.42 Hz\n",
      "Performing symbolic transformation\n",
      "Reduction order for nice/marker/PermutationEntropy/default: ['channels']\n",
      "Autodetected number of jobs 2\n",
      "Computing CSD\n",
      "Using 10-5 locations for CSD\n",
      "Using 2 jobs\n"
     ]
    },
    {
     "name": "stderr",
     "output_type": "stream",
     "text": [
      "[Parallel(n_jobs=2)]: Using backend LokyBackend with 2 concurrent workers.\n",
      "[Parallel(n_jobs=2)]: Done  18 tasks      | elapsed:    1.7s\n"
     ]
    },
    {
     "name": "stdout",
     "output_type": "stream",
     "text": [
      "Filtering  at 83.33 Hz\n"
     ]
    },
    {
     "name": "stderr",
     "output_type": "stream",
     "text": [
      "[Parallel(n_jobs=2)]: Done 274 out of 274 | elapsed:    2.0s finished\n"
     ]
    },
    {
     "name": "stdout",
     "output_type": "stream",
     "text": [
      "Reduction order for nice/marker/SymbolicMutualInformation/default: ['channels_y', 'channels']\n",
      "Autodetected number of jobs 2\n",
      "Computing CSD\n",
      "Using 10-5 locations for CSD\n",
      "Using 2 jobs\n"
     ]
    },
    {
     "name": "stderr",
     "output_type": "stream",
     "text": [
      "[Parallel(n_jobs=2)]: Using backend LokyBackend with 2 concurrent workers.\n"
     ]
    },
    {
     "name": "stdout",
     "output_type": "stream",
     "text": [
      "Filtering  at 41.67 Hz\n"
     ]
    },
    {
     "name": "stderr",
     "output_type": "stream",
     "text": [
      "[Parallel(n_jobs=2)]: Done 193 tasks      | elapsed:    0.3s\n",
      "[Parallel(n_jobs=2)]: Done 274 out of 274 | elapsed:    0.4s finished\n"
     ]
    },
    {
     "name": "stdout",
     "output_type": "stream",
     "text": [
      "Reduction order for nice/marker/SymbolicMutualInformation/default: ['channels_y', 'channels']\n",
      "Autodetected number of jobs 2\n",
      "Computing CSD\n",
      "Using 10-5 locations for CSD\n",
      "Using 2 jobs\n"
     ]
    },
    {
     "name": "stderr",
     "output_type": "stream",
     "text": [
      "[Parallel(n_jobs=2)]: Using backend LokyBackend with 2 concurrent workers.\n"
     ]
    },
    {
     "name": "stdout",
     "output_type": "stream",
     "text": [
      "Filtering  at 20.83 Hz\n"
     ]
    },
    {
     "name": "stderr",
     "output_type": "stream",
     "text": [
      "[Parallel(n_jobs=2)]: Done 142 tasks      | elapsed:    0.2s\n",
      "[Parallel(n_jobs=2)]: Done 274 out of 274 | elapsed:    0.4s finished\n"
     ]
    },
    {
     "name": "stdout",
     "output_type": "stream",
     "text": [
      "Reduction order for nice/marker/SymbolicMutualInformation/default: ['channels_y', 'channels']\n",
      "Autodetected number of jobs 2\n",
      "Computing CSD\n",
      "Using 10-5 locations for CSD\n",
      "Using 2 jobs\n"
     ]
    },
    {
     "name": "stderr",
     "output_type": "stream",
     "text": [
      "[Parallel(n_jobs=2)]: Using backend LokyBackend with 2 concurrent workers.\n"
     ]
    },
    {
     "name": "stdout",
     "output_type": "stream",
     "text": [
      "Filtering  at 10.42 Hz\n"
     ]
    },
    {
     "name": "stderr",
     "output_type": "stream",
     "text": [
      "[Parallel(n_jobs=2)]: Done 193 tasks      | elapsed:    0.3s\n",
      "[Parallel(n_jobs=2)]: Done 274 out of 274 | elapsed:    0.3s finished\n"
     ]
    },
    {
     "name": "stdout",
     "output_type": "stream",
     "text": [
      "Reduction order for nice/marker/SymbolicMutualInformation/default: ['channels_y', 'channels']\n",
      "Reduction order for nice/marker/ContingentNegativeVariation/default: ['channels']\n",
      "Reduction order for nice/marker/TimeLockedTopography/p1: ['channels', 'times']\n",
      "Reduction order for nice/marker/TimeLockedTopography/p3a: ['channels', 'times']\n",
      "Reduction order for nice/marker/TimeLockedTopography/p3b: ['channels', 'times']\n",
      "\n",
      "#########################################\n",
      "Computing markers for participant VP26\n",
      "#########################################\n",
      "\n",
      "Reading /media/nicolas.bruno/63f8a366-34b7-4896-a7ce-b5fb4ee78535/Nico/MW_eeg_data/minmarker/VP26/VP26_evoked_ar_subtracted_epo.fif ...\n",
      "    Found the data of interest:\n",
      "        t =    -200.00 ...     600.00 ms\n",
      "        0 CTF compensation matrices available\n",
      "Not setting metadata\n",
      "Not setting metadata\n",
      "544 matching events found\n",
      "No baseline correction applied\n",
      "0 projection items activated\n",
      "Autodetected number of jobs 24\n",
      "Effective window size : 16.384 (s)\n"
     ]
    },
    {
     "name": "stderr",
     "output_type": "stream",
     "text": [
      "[Parallel(n_jobs=24)]: Using backend LokyBackend with 24 concurrent workers.\n",
      "[Parallel(n_jobs=24)]: Done   6 out of  24 | elapsed:    5.1s remaining:   15.2s\n",
      "[Parallel(n_jobs=24)]: Done  11 out of  24 | elapsed:    5.2s remaining:    6.1s\n",
      "[Parallel(n_jobs=24)]: Done  16 out of  24 | elapsed:    5.4s remaining:    2.7s\n",
      "[Parallel(n_jobs=24)]: Done  21 out of  24 | elapsed:    5.5s remaining:    0.8s\n",
      "[Parallel(n_jobs=24)]: Done  24 out of  24 | elapsed:    5.6s finished\n"
     ]
    },
    {
     "name": "stdout",
     "output_type": "stream",
     "text": [
      "Reduction order for nice/marker/PowerSpectralDensity/alpha: ['frequency', 'channels']\n",
      "Reduction order for nice/marker/PowerSpectralDensity/alpha: ['frequency', 'channels']\n",
      "Reduction order for nice/marker/PowerSpectralDensity/delta: ['frequency', 'channels']\n",
      "Reduction order for nice/marker/PowerSpectralDensity/delta: ['frequency', 'channels']\n",
      "Reduction order for nice/marker/PowerSpectralDensity/theta: ['frequency', 'channels']\n",
      "Reduction order for nice/marker/PowerSpectralDensity/theta: ['frequency', 'channels']\n",
      "Reduction order for nice/marker/PowerSpectralDensity/gamma: ['frequency', 'channels']\n",
      "Reduction order for nice/marker/PowerSpectralDensity/theta: ['frequency', 'channels']\n",
      "Reduction order for nice/marker/PowerSpectralDensity/beta: ['frequency', 'channels']\n",
      "Reduction order for nice/marker/PowerSpectralDensity/beta: ['frequency', 'channels']\n",
      "Reduction order for nice/marker/PowerSpectralDensity/summary_se: ['frequency', 'channels']\n"
     ]
    },
    {
     "name": "stderr",
     "output_type": "stream",
     "text": [
      "/home/nicolas.bruno/anaconda3/lib/python3.7/site-packages/nice-0.1.dev0-py3.7.egg/nice/markers/spectral.py:128: RuntimeWarning: invalid value encountered in true_divide\n",
      "  self.data_norm_ = self.data_ / self.data_.sum(axis=-1)[..., None]\n",
      "/home/nicolas.bruno/anaconda3/lib/python3.7/site-packages/nice-0.1.dev0-py3.7.egg/nice/markers/spectral.py:220: RuntimeWarning: divide by zero encountered in log10\n",
      "  out = 10 * np.log10(out)\n"
     ]
    },
    {
     "name": "stdout",
     "output_type": "stream",
     "text": [
      "Reduction order for nice/marker/PowerSpectralDensitySummary/summary_msf: ['channels']\n",
      "Reduction order for nice/marker/PowerSpectralDensitySummary/summary_sef90: ['channels']\n",
      "Reduction order for nice/marker/PowerSpectralDensitySummary/summary_sef95: ['channels']\n",
      "Running KolmogorovComplexity\n",
      "Elapsed time 0.7885329723358154 sec\n",
      "Reduction order for nice/marker/KolmogorovComplexity/default: ['channels']\n",
      "Filtering  at 83.33 Hz\n",
      "Performing symbolic transformation\n",
      "Reduction order for nice/marker/PermutationEntropy/default: ['channels']\n",
      "Filtering  at 41.67 Hz\n"
     ]
    },
    {
     "name": "stderr",
     "output_type": "stream",
     "text": [
      "/home/nicolas.bruno/anaconda3/lib/python3.7/site-packages/nice-0.1.dev0-py3.7.egg/nice/algorithms/information_theory/permutation_entropy.py:75: RuntimeWarning: divide by zero encountered in log\n",
      "  pe = np.nan_to_num(-np.nansum(count * np.log(count), axis=1))\n",
      "/home/nicolas.bruno/anaconda3/lib/python3.7/site-packages/nice-0.1.dev0-py3.7.egg/nice/algorithms/information_theory/permutation_entropy.py:75: RuntimeWarning: invalid value encountered in multiply\n",
      "  pe = np.nan_to_num(-np.nansum(count * np.log(count), axis=1))\n"
     ]
    },
    {
     "name": "stdout",
     "output_type": "stream",
     "text": [
      "Performing symbolic transformation\n",
      "Reduction order for nice/marker/PermutationEntropy/default: ['channels']\n",
      "Filtering  at 20.83 Hz\n",
      "Performing symbolic transformation\n",
      "Reduction order for nice/marker/PermutationEntropy/default: ['channels']\n",
      "Filtering  at 10.42 Hz\n",
      "Performing symbolic transformation\n",
      "Reduction order for nice/marker/PermutationEntropy/default: ['channels']\n",
      "Autodetected number of jobs 2\n",
      "Computing CSD\n",
      "Using 10-5 locations for CSD\n",
      "Using 2 jobs\n"
     ]
    },
    {
     "name": "stderr",
     "output_type": "stream",
     "text": [
      "[Parallel(n_jobs=2)]: Using backend LokyBackend with 2 concurrent workers.\n",
      "[Parallel(n_jobs=2)]: Done  24 tasks      | elapsed:    1.7s\n"
     ]
    },
    {
     "name": "stdout",
     "output_type": "stream",
     "text": [
      "Filtering  at 83.33 Hz\n"
     ]
    },
    {
     "name": "stderr",
     "output_type": "stream",
     "text": [
      "[Parallel(n_jobs=2)]: Done 544 out of 544 | elapsed:    2.3s finished\n"
     ]
    },
    {
     "name": "stdout",
     "output_type": "stream",
     "text": [
      "Reduction order for nice/marker/SymbolicMutualInformation/default: ['channels_y', 'channels']\n",
      "Autodetected number of jobs 2\n",
      "Computing CSD\n",
      "Using 10-5 locations for CSD\n",
      "Using 2 jobs\n"
     ]
    },
    {
     "name": "stderr",
     "output_type": "stream",
     "text": [
      "[Parallel(n_jobs=2)]: Using backend LokyBackend with 2 concurrent workers.\n"
     ]
    },
    {
     "name": "stdout",
     "output_type": "stream",
     "text": [
      "Filtering  at 41.67 Hz\n"
     ]
    },
    {
     "name": "stderr",
     "output_type": "stream",
     "text": [
      "[Parallel(n_jobs=2)]: Done 510 tasks      | elapsed:    0.5s\n",
      "[Parallel(n_jobs=2)]: Done 544 out of 544 | elapsed:    0.6s finished\n"
     ]
    },
    {
     "name": "stdout",
     "output_type": "stream",
     "text": [
      "Reduction order for nice/marker/SymbolicMutualInformation/default: ['channels_y', 'channels']\n",
      "Autodetected number of jobs 2\n",
      "Computing CSD\n",
      "Using 10-5 locations for CSD\n",
      "Using 2 jobs\n"
     ]
    },
    {
     "name": "stderr",
     "output_type": "stream",
     "text": [
      "[Parallel(n_jobs=2)]: Using backend LokyBackend with 2 concurrent workers.\n"
     ]
    },
    {
     "name": "stdout",
     "output_type": "stream",
     "text": [
      "Filtering  at 20.83 Hz\n"
     ]
    },
    {
     "name": "stderr",
     "output_type": "stream",
     "text": [
      "[Parallel(n_jobs=2)]: Done 383 tasks      | elapsed:    0.6s\n",
      "[Parallel(n_jobs=2)]: Done 544 out of 544 | elapsed:    0.7s finished\n"
     ]
    },
    {
     "name": "stdout",
     "output_type": "stream",
     "text": [
      "Reduction order for nice/marker/SymbolicMutualInformation/default: ['channels_y', 'channels']\n",
      "Autodetected number of jobs 2\n",
      "Computing CSD\n",
      "Using 10-5 locations for CSD\n",
      "Using 2 jobs\n"
     ]
    },
    {
     "name": "stderr",
     "output_type": "stream",
     "text": [
      "[Parallel(n_jobs=2)]: Using backend LokyBackend with 2 concurrent workers.\n"
     ]
    },
    {
     "name": "stdout",
     "output_type": "stream",
     "text": [
      "Filtering  at 10.42 Hz\n"
     ]
    },
    {
     "name": "stderr",
     "output_type": "stream",
     "text": [
      "[Parallel(n_jobs=2)]: Done 383 tasks      | elapsed:    0.5s\n",
      "[Parallel(n_jobs=2)]: Done 544 out of 544 | elapsed:    0.6s finished\n"
     ]
    },
    {
     "name": "stdout",
     "output_type": "stream",
     "text": [
      "Reduction order for nice/marker/SymbolicMutualInformation/default: ['channels_y', 'channels']\n",
      "Reduction order for nice/marker/ContingentNegativeVariation/default: ['channels']\n",
      "Reduction order for nice/marker/TimeLockedTopography/p1: ['channels', 'times']\n",
      "Reduction order for nice/marker/TimeLockedTopography/p3a: ['channels', 'times']\n",
      "Reduction order for nice/marker/TimeLockedTopography/p3b: ['channels', 'times']\n",
      "Reading /media/nicolas.bruno/63f8a366-34b7-4896-a7ce-b5fb4ee78535/Nico/MW_eeg_data/minmarker/VP26/VP26_evoked_ar_rereferenced_epo.fif ...\n",
      "    Found the data of interest:\n",
      "        t =    -200.00 ...     600.00 ms\n",
      "        0 CTF compensation matrices available\n",
      "Not setting metadata\n",
      "Not setting metadata\n",
      "544 matching events found\n",
      "No baseline correction applied\n",
      "0 projection items activated\n",
      "Autodetected number of jobs 24\n",
      "Effective window size : 16.384 (s)\n"
     ]
    },
    {
     "name": "stderr",
     "output_type": "stream",
     "text": [
      "[Parallel(n_jobs=24)]: Using backend LokyBackend with 24 concurrent workers.\n",
      "[Parallel(n_jobs=24)]: Done   6 out of  24 | elapsed:    5.0s remaining:   15.0s\n",
      "[Parallel(n_jobs=24)]: Done  11 out of  24 | elapsed:    5.2s remaining:    6.1s\n",
      "[Parallel(n_jobs=24)]: Done  16 out of  24 | elapsed:    5.3s remaining:    2.7s\n",
      "[Parallel(n_jobs=24)]: Done  21 out of  24 | elapsed:    5.5s remaining:    0.8s\n",
      "[Parallel(n_jobs=24)]: Done  24 out of  24 | elapsed:    5.6s finished\n"
     ]
    },
    {
     "name": "stdout",
     "output_type": "stream",
     "text": [
      "Reduction order for nice/marker/PowerSpectralDensity/alpha: ['frequency', 'channels']\n",
      "Reduction order for nice/marker/PowerSpectralDensity/alpha: ['frequency', 'channels']\n",
      "Reduction order for nice/marker/PowerSpectralDensity/delta: ['frequency', 'channels']\n",
      "Reduction order for nice/marker/PowerSpectralDensity/delta: ['frequency', 'channels']\n",
      "Reduction order for nice/marker/PowerSpectralDensity/theta: ['frequency', 'channels']\n",
      "Reduction order for nice/marker/PowerSpectralDensity/theta: ['frequency', 'channels']\n",
      "Reduction order for nice/marker/PowerSpectralDensity/gamma: ['frequency', 'channels']\n",
      "Reduction order for nice/marker/PowerSpectralDensity/theta: ['frequency', 'channels']\n",
      "Reduction order for nice/marker/PowerSpectralDensity/beta: ['frequency', 'channels']\n",
      "Reduction order for nice/marker/PowerSpectralDensity/beta: ['frequency', 'channels']\n",
      "Reduction order for nice/marker/PowerSpectralDensity/summary_se: ['frequency', 'channels']\n",
      "Reduction order for nice/marker/PowerSpectralDensitySummary/summary_msf: ['channels']\n",
      "Reduction order for nice/marker/PowerSpectralDensitySummary/summary_sef90: ['channels']\n",
      "Reduction order for nice/marker/PowerSpectralDensitySummary/summary_sef95: ['channels']\n",
      "Running KolmogorovComplexity\n",
      "Elapsed time 0.7860252857208252 sec\n",
      "Reduction order for nice/marker/KolmogorovComplexity/default: ['channels']\n",
      "Filtering  at 83.33 Hz\n",
      "Performing symbolic transformation\n",
      "Reduction order for nice/marker/PermutationEntropy/default: ['channels']\n",
      "Filtering  at 41.67 Hz\n"
     ]
    },
    {
     "name": "stderr",
     "output_type": "stream",
     "text": [
      "/home/nicolas.bruno/anaconda3/lib/python3.7/site-packages/nice-0.1.dev0-py3.7.egg/nice/algorithms/information_theory/permutation_entropy.py:75: RuntimeWarning: divide by zero encountered in log\n",
      "  pe = np.nan_to_num(-np.nansum(count * np.log(count), axis=1))\n",
      "/home/nicolas.bruno/anaconda3/lib/python3.7/site-packages/nice-0.1.dev0-py3.7.egg/nice/algorithms/information_theory/permutation_entropy.py:75: RuntimeWarning: invalid value encountered in multiply\n",
      "  pe = np.nan_to_num(-np.nansum(count * np.log(count), axis=1))\n"
     ]
    },
    {
     "name": "stdout",
     "output_type": "stream",
     "text": [
      "Performing symbolic transformation\n",
      "Reduction order for nice/marker/PermutationEntropy/default: ['channels']\n",
      "Filtering  at 20.83 Hz\n",
      "Performing symbolic transformation\n",
      "Reduction order for nice/marker/PermutationEntropy/default: ['channels']\n",
      "Filtering  at 10.42 Hz\n",
      "Performing symbolic transformation\n",
      "Reduction order for nice/marker/PermutationEntropy/default: ['channels']\n",
      "Autodetected number of jobs 2\n",
      "Computing CSD\n",
      "Using 10-5 locations for CSD\n",
      "Using 2 jobs\n"
     ]
    },
    {
     "name": "stderr",
     "output_type": "stream",
     "text": [
      "[Parallel(n_jobs=2)]: Using backend LokyBackend with 2 concurrent workers.\n",
      "[Parallel(n_jobs=2)]: Done  18 tasks      | elapsed:    1.7s\n"
     ]
    },
    {
     "name": "stdout",
     "output_type": "stream",
     "text": [
      "Filtering  at 83.33 Hz\n"
     ]
    },
    {
     "name": "stderr",
     "output_type": "stream",
     "text": [
      "[Parallel(n_jobs=2)]: Done 544 out of 544 | elapsed:    2.4s finished\n"
     ]
    },
    {
     "name": "stdout",
     "output_type": "stream",
     "text": [
      "Reduction order for nice/marker/SymbolicMutualInformation/default: ['channels_y', 'channels']\n",
      "Autodetected number of jobs 2\n",
      "Computing CSD\n",
      "Using 10-5 locations for CSD\n",
      "Using 2 jobs\n"
     ]
    },
    {
     "name": "stderr",
     "output_type": "stream",
     "text": [
      "[Parallel(n_jobs=2)]: Using backend LokyBackend with 2 concurrent workers.\n"
     ]
    },
    {
     "name": "stdout",
     "output_type": "stream",
     "text": [
      "Filtering  at 41.67 Hz\n"
     ]
    },
    {
     "name": "stderr",
     "output_type": "stream",
     "text": [
      "[Parallel(n_jobs=2)]: Done 383 tasks      | elapsed:    0.5s\n",
      "[Parallel(n_jobs=2)]: Done 544 out of 544 | elapsed:    0.6s finished\n"
     ]
    },
    {
     "name": "stdout",
     "output_type": "stream",
     "text": [
      "Reduction order for nice/marker/SymbolicMutualInformation/default: ['channels_y', 'channels']\n",
      "Autodetected number of jobs 2\n",
      "Computing CSD\n",
      "Using 10-5 locations for CSD\n",
      "Using 2 jobs\n"
     ]
    },
    {
     "name": "stderr",
     "output_type": "stream",
     "text": [
      "[Parallel(n_jobs=2)]: Using backend LokyBackend with 2 concurrent workers.\n"
     ]
    },
    {
     "name": "stdout",
     "output_type": "stream",
     "text": [
      "Filtering  at 20.83 Hz\n"
     ]
    },
    {
     "name": "stderr",
     "output_type": "stream",
     "text": [
      "[Parallel(n_jobs=2)]: Done 383 tasks      | elapsed:    0.6s\n",
      "[Parallel(n_jobs=2)]: Done 544 out of 544 | elapsed:    0.7s finished\n"
     ]
    },
    {
     "name": "stdout",
     "output_type": "stream",
     "text": [
      "Reduction order for nice/marker/SymbolicMutualInformation/default: ['channels_y', 'channels']\n",
      "Autodetected number of jobs 2\n",
      "Computing CSD\n",
      "Using 10-5 locations for CSD\n",
      "Using 2 jobs\n"
     ]
    },
    {
     "name": "stderr",
     "output_type": "stream",
     "text": [
      "[Parallel(n_jobs=2)]: Using backend LokyBackend with 2 concurrent workers.\n"
     ]
    },
    {
     "name": "stdout",
     "output_type": "stream",
     "text": [
      "Filtering  at 10.42 Hz\n"
     ]
    },
    {
     "name": "stderr",
     "output_type": "stream",
     "text": [
      "[Parallel(n_jobs=2)]: Done 383 tasks      | elapsed:    0.5s\n",
      "[Parallel(n_jobs=2)]: Done 544 out of 544 | elapsed:    0.7s finished\n"
     ]
    },
    {
     "name": "stdout",
     "output_type": "stream",
     "text": [
      "Reduction order for nice/marker/SymbolicMutualInformation/default: ['channels_y', 'channels']\n",
      "Reduction order for nice/marker/ContingentNegativeVariation/default: ['channels']\n",
      "Reduction order for nice/marker/TimeLockedTopography/p1: ['channels', 'times']\n",
      "Reduction order for nice/marker/TimeLockedTopography/p3a: ['channels', 'times']\n",
      "Reduction order for nice/marker/TimeLockedTopography/p3b: ['channels', 'times']\n",
      "\n",
      "#########################################\n",
      "Computing markers for participant VP27\n",
      "#########################################\n",
      "\n",
      "Reading /media/nicolas.bruno/63f8a366-34b7-4896-a7ce-b5fb4ee78535/Nico/MW_eeg_data/minmarker/VP27/VP27_evoked_ar_subtracted_epo.fif ...\n",
      "    Found the data of interest:\n",
      "        t =    -200.00 ...     600.00 ms\n",
      "        0 CTF compensation matrices available\n",
      "Not setting metadata\n",
      "Not setting metadata\n",
      "166 matching events found\n",
      "No baseline correction applied\n",
      "0 projection items activated\n",
      "Autodetected number of jobs 24\n",
      "Effective window size : 16.384 (s)\n"
     ]
    },
    {
     "name": "stderr",
     "output_type": "stream",
     "text": [
      "[Parallel(n_jobs=24)]: Using backend LokyBackend with 24 concurrent workers.\n",
      "[Parallel(n_jobs=24)]: Done   6 out of  24 | elapsed:    3.9s remaining:   11.8s\n",
      "[Parallel(n_jobs=24)]: Done  11 out of  24 | elapsed:    4.0s remaining:    4.8s\n",
      "[Parallel(n_jobs=24)]: Done  16 out of  24 | elapsed:    4.1s remaining:    2.0s\n"
     ]
    },
    {
     "name": "stdout",
     "output_type": "stream",
     "text": [
      "Reduction order for nice/marker/PowerSpectralDensity/alpha: ['frequency', 'channels']\n",
      "Reduction order for nice/marker/PowerSpectralDensity/alpha: ['frequency', 'channels']\n",
      "Reduction order for nice/marker/PowerSpectralDensity/delta: ['frequency', 'channels']\n",
      "Reduction order for nice/marker/PowerSpectralDensity/delta: ['frequency', 'channels']\n",
      "Reduction order for nice/marker/PowerSpectralDensity/theta: ['frequency', 'channels']\n",
      "Reduction order for nice/marker/PowerSpectralDensity/theta: ['frequency', 'channels']\n",
      "Reduction order for nice/marker/PowerSpectralDensity/gamma: ['frequency', 'channels']\n",
      "Reduction order for nice/marker/PowerSpectralDensity/theta: ['frequency', 'channels']\n",
      "Reduction order for nice/marker/PowerSpectralDensity/beta: ['frequency', 'channels']\n",
      "Reduction order for nice/marker/PowerSpectralDensity/beta: ['frequency', 'channels']\n",
      "Reduction order for nice/marker/PowerSpectralDensity/summary_se: ['frequency', 'channels']\n"
     ]
    },
    {
     "name": "stderr",
     "output_type": "stream",
     "text": [
      "[Parallel(n_jobs=24)]: Done  21 out of  24 | elapsed:    4.2s remaining:    0.6s\n",
      "[Parallel(n_jobs=24)]: Done  24 out of  24 | elapsed:    4.2s finished\n",
      "/home/nicolas.bruno/anaconda3/lib/python3.7/site-packages/nice-0.1.dev0-py3.7.egg/nice/markers/spectral.py:128: RuntimeWarning: invalid value encountered in true_divide\n",
      "  self.data_norm_ = self.data_ / self.data_.sum(axis=-1)[..., None]\n",
      "/home/nicolas.bruno/anaconda3/lib/python3.7/site-packages/nice-0.1.dev0-py3.7.egg/nice/markers/spectral.py:220: RuntimeWarning: divide by zero encountered in log10\n",
      "  out = 10 * np.log10(out)\n"
     ]
    },
    {
     "name": "stdout",
     "output_type": "stream",
     "text": [
      "Reduction order for nice/marker/PowerSpectralDensitySummary/summary_msf: ['channels']\n",
      "Reduction order for nice/marker/PowerSpectralDensitySummary/summary_sef90: ['channels']\n",
      "Reduction order for nice/marker/PowerSpectralDensitySummary/summary_sef95: ['channels']\n",
      "Running KolmogorovComplexity\n",
      "Elapsed time 0.2372756004333496 sec\n",
      "Reduction order for nice/marker/KolmogorovComplexity/default: ['channels']\n",
      "Filtering  at 83.33 Hz\n",
      "Performing symbolic transformation\n",
      "Reduction order for nice/marker/PermutationEntropy/default: ['channels']\n",
      "Filtering  at 41.67 Hz\n",
      "Performing symbolic transformation\n",
      "Reduction order for nice/marker/PermutationEntropy/default: ['channels']\n",
      "Filtering  at 20.83 Hz\n",
      "Performing symbolic transformation\n",
      "Reduction order for nice/marker/PermutationEntropy/default: ['channels']\n",
      "Filtering  at 10.42 Hz\n",
      "Performing symbolic transformation\n",
      "Reduction order for nice/marker/PermutationEntropy/default: ['channels']\n",
      "Autodetected number of jobs 2\n",
      "Computing CSD\n",
      "Using 10-5 locations for CSD\n",
      "Using 2 jobs\n"
     ]
    },
    {
     "name": "stderr",
     "output_type": "stream",
     "text": [
      "/home/nicolas.bruno/anaconda3/lib/python3.7/site-packages/nice-0.1.dev0-py3.7.egg/nice/algorithms/information_theory/permutation_entropy.py:75: RuntimeWarning: divide by zero encountered in log\n",
      "  pe = np.nan_to_num(-np.nansum(count * np.log(count), axis=1))\n",
      "/home/nicolas.bruno/anaconda3/lib/python3.7/site-packages/nice-0.1.dev0-py3.7.egg/nice/algorithms/information_theory/permutation_entropy.py:75: RuntimeWarning: invalid value encountered in multiply\n",
      "  pe = np.nan_to_num(-np.nansum(count * np.log(count), axis=1))\n",
      "[Parallel(n_jobs=2)]: Using backend LokyBackend with 2 concurrent workers.\n",
      "[Parallel(n_jobs=2)]: Done  18 tasks      | elapsed:    1.7s\n",
      "[Parallel(n_jobs=2)]: Done 166 out of 166 | elapsed:    1.9s finished\n"
     ]
    },
    {
     "name": "stdout",
     "output_type": "stream",
     "text": [
      "Filtering  at 83.33 Hz\n",
      "Reduction order for nice/marker/SymbolicMutualInformation/default: ['channels_y', 'channels']\n",
      "Autodetected number of jobs 2\n",
      "Computing CSD\n",
      "Using 10-5 locations for CSD\n",
      "Using 2 jobs\n"
     ]
    },
    {
     "name": "stderr",
     "output_type": "stream",
     "text": [
      "[Parallel(n_jobs=2)]: Using backend LokyBackend with 2 concurrent workers.\n"
     ]
    },
    {
     "name": "stdout",
     "output_type": "stream",
     "text": [
      "Filtering  at 41.67 Hz\n"
     ]
    },
    {
     "name": "stderr",
     "output_type": "stream",
     "text": [
      "[Parallel(n_jobs=2)]: Done 136 tasks      | elapsed:    0.2s\n",
      "[Parallel(n_jobs=2)]: Done 166 out of 166 | elapsed:    0.3s finished\n"
     ]
    },
    {
     "name": "stdout",
     "output_type": "stream",
     "text": [
      "Reduction order for nice/marker/SymbolicMutualInformation/default: ['channels_y', 'channels']\n",
      "Autodetected number of jobs 2\n",
      "Computing CSD\n",
      "Using 10-5 locations for CSD\n",
      "Using 2 jobs\n"
     ]
    },
    {
     "name": "stderr",
     "output_type": "stream",
     "text": [
      "[Parallel(n_jobs=2)]: Using backend LokyBackend with 2 concurrent workers.\n",
      "[Parallel(n_jobs=2)]: Done 134 tasks      | elapsed:    0.2s\n"
     ]
    },
    {
     "name": "stdout",
     "output_type": "stream",
     "text": [
      "Filtering  at 20.83 Hz\n"
     ]
    },
    {
     "name": "stderr",
     "output_type": "stream",
     "text": [
      "[Parallel(n_jobs=2)]: Done 166 out of 166 | elapsed:    0.3s finished\n"
     ]
    },
    {
     "name": "stdout",
     "output_type": "stream",
     "text": [
      "Reduction order for nice/marker/SymbolicMutualInformation/default: ['channels_y', 'channels']\n",
      "Autodetected number of jobs 2\n",
      "Computing CSD\n",
      "Using 10-5 locations for CSD\n",
      "Using 2 jobs\n"
     ]
    },
    {
     "name": "stderr",
     "output_type": "stream",
     "text": [
      "[Parallel(n_jobs=2)]: Using backend LokyBackend with 2 concurrent workers.\n",
      "[Parallel(n_jobs=2)]: Done 134 tasks      | elapsed:    0.2s\n"
     ]
    },
    {
     "name": "stdout",
     "output_type": "stream",
     "text": [
      "Filtering  at 10.42 Hz\n"
     ]
    },
    {
     "name": "stderr",
     "output_type": "stream",
     "text": [
      "[Parallel(n_jobs=2)]: Done 166 out of 166 | elapsed:    0.2s finished\n"
     ]
    },
    {
     "name": "stdout",
     "output_type": "stream",
     "text": [
      "Reduction order for nice/marker/SymbolicMutualInformation/default: ['channels_y', 'channels']\n",
      "Reduction order for nice/marker/ContingentNegativeVariation/default: ['channels']\n",
      "Reduction order for nice/marker/TimeLockedTopography/p1: ['channels', 'times']\n",
      "Reduction order for nice/marker/TimeLockedTopography/p3a: ['channels', 'times']\n",
      "Reduction order for nice/marker/TimeLockedTopography/p3b: ['channels', 'times']\n",
      "Reading /media/nicolas.bruno/63f8a366-34b7-4896-a7ce-b5fb4ee78535/Nico/MW_eeg_data/minmarker/VP27/VP27_evoked_ar_rereferenced_epo.fif ...\n",
      "    Found the data of interest:\n",
      "        t =    -200.00 ...     600.00 ms\n",
      "        0 CTF compensation matrices available\n",
      "Not setting metadata\n",
      "Not setting metadata\n",
      "166 matching events found\n",
      "No baseline correction applied\n",
      "0 projection items activated\n",
      "Autodetected number of jobs 24\n",
      "Effective window size : 16.384 (s)\n"
     ]
    },
    {
     "name": "stderr",
     "output_type": "stream",
     "text": [
      "[Parallel(n_jobs=24)]: Using backend LokyBackend with 24 concurrent workers.\n",
      "[Parallel(n_jobs=24)]: Done   6 out of  24 | elapsed:    3.9s remaining:   11.8s\n",
      "[Parallel(n_jobs=24)]: Done  11 out of  24 | elapsed:    4.0s remaining:    4.7s\n",
      "[Parallel(n_jobs=24)]: Done  16 out of  24 | elapsed:    4.1s remaining:    2.0s\n"
     ]
    },
    {
     "name": "stdout",
     "output_type": "stream",
     "text": [
      "Reduction order for nice/marker/PowerSpectralDensity/alpha: ['frequency', 'channels']\n",
      "Reduction order for nice/marker/PowerSpectralDensity/alpha: ['frequency', 'channels']\n",
      "Reduction order for nice/marker/PowerSpectralDensity/delta: ['frequency', 'channels']\n",
      "Reduction order for nice/marker/PowerSpectralDensity/delta: ['frequency', 'channels']\n",
      "Reduction order for nice/marker/PowerSpectralDensity/theta: ['frequency', 'channels']\n",
      "Reduction order for nice/marker/PowerSpectralDensity/theta: ['frequency', 'channels']\n",
      "Reduction order for nice/marker/PowerSpectralDensity/gamma: ['frequency', 'channels']\n",
      "Reduction order for nice/marker/PowerSpectralDensity/theta: ['frequency', 'channels']\n",
      "Reduction order for nice/marker/PowerSpectralDensity/beta: ['frequency', 'channels']\n",
      "Reduction order for nice/marker/PowerSpectralDensity/beta: ['frequency', 'channels']\n",
      "Reduction order for nice/marker/PowerSpectralDensity/summary_se: ['frequency', 'channels']\n"
     ]
    },
    {
     "name": "stderr",
     "output_type": "stream",
     "text": [
      "[Parallel(n_jobs=24)]: Done  21 out of  24 | elapsed:    4.1s remaining:    0.6s\n",
      "[Parallel(n_jobs=24)]: Done  24 out of  24 | elapsed:    4.2s finished\n"
     ]
    },
    {
     "name": "stdout",
     "output_type": "stream",
     "text": [
      "Reduction order for nice/marker/PowerSpectralDensitySummary/summary_msf: ['channels']\n",
      "Reduction order for nice/marker/PowerSpectralDensitySummary/summary_sef90: ['channels']\n",
      "Reduction order for nice/marker/PowerSpectralDensitySummary/summary_sef95: ['channels']\n",
      "Running KolmogorovComplexity\n",
      "Elapsed time 0.24097061157226562 sec\n",
      "Reduction order for nice/marker/KolmogorovComplexity/default: ['channels']\n",
      "Filtering  at 83.33 Hz\n",
      "Performing symbolic transformation\n",
      "Reduction order for nice/marker/PermutationEntropy/default: ['channels']\n",
      "Filtering  at 41.67 Hz\n",
      "Performing symbolic transformation\n",
      "Reduction order for nice/marker/PermutationEntropy/default: ['channels']\n",
      "Filtering  at 20.83 Hz\n",
      "Performing symbolic transformation\n",
      "Reduction order for nice/marker/PermutationEntropy/default: ['channels']\n",
      "Filtering  at 10.42 Hz\n",
      "Performing symbolic transformation\n",
      "Reduction order for nice/marker/PermutationEntropy/default: ['channels']\n",
      "Autodetected number of jobs 2\n",
      "Computing CSD\n",
      "Using 10-5 locations for CSD\n",
      "Using 2 jobs\n"
     ]
    },
    {
     "name": "stderr",
     "output_type": "stream",
     "text": [
      "/home/nicolas.bruno/anaconda3/lib/python3.7/site-packages/nice-0.1.dev0-py3.7.egg/nice/algorithms/information_theory/permutation_entropy.py:75: RuntimeWarning: divide by zero encountered in log\n",
      "  pe = np.nan_to_num(-np.nansum(count * np.log(count), axis=1))\n",
      "/home/nicolas.bruno/anaconda3/lib/python3.7/site-packages/nice-0.1.dev0-py3.7.egg/nice/algorithms/information_theory/permutation_entropy.py:75: RuntimeWarning: invalid value encountered in multiply\n",
      "  pe = np.nan_to_num(-np.nansum(count * np.log(count), axis=1))\n",
      "[Parallel(n_jobs=2)]: Using backend LokyBackend with 2 concurrent workers.\n",
      "[Parallel(n_jobs=2)]: Done  18 tasks      | elapsed:    1.7s\n"
     ]
    },
    {
     "name": "stdout",
     "output_type": "stream",
     "text": [
      "Filtering  at 83.33 Hz\n"
     ]
    },
    {
     "name": "stderr",
     "output_type": "stream",
     "text": [
      "[Parallel(n_jobs=2)]: Done 166 out of 166 | elapsed:    1.9s finished\n"
     ]
    },
    {
     "name": "stdout",
     "output_type": "stream",
     "text": [
      "Reduction order for nice/marker/SymbolicMutualInformation/default: ['channels_y', 'channels']\n",
      "Autodetected number of jobs 2\n",
      "Computing CSD\n",
      "Using 10-5 locations for CSD\n",
      "Using 2 jobs\n"
     ]
    },
    {
     "name": "stderr",
     "output_type": "stream",
     "text": [
      "[Parallel(n_jobs=2)]: Using backend LokyBackend with 2 concurrent workers.\n"
     ]
    },
    {
     "name": "stdout",
     "output_type": "stream",
     "text": [
      "Filtering  at 41.67 Hz\n"
     ]
    },
    {
     "name": "stderr",
     "output_type": "stream",
     "text": [
      "[Parallel(n_jobs=2)]: Done 136 tasks      | elapsed:    0.3s\n",
      "[Parallel(n_jobs=2)]: Done 166 out of 166 | elapsed:    0.3s finished\n"
     ]
    },
    {
     "name": "stdout",
     "output_type": "stream",
     "text": [
      "Reduction order for nice/marker/SymbolicMutualInformation/default: ['channels_y', 'channels']\n",
      "Autodetected number of jobs 2\n",
      "Computing CSD\n",
      "Using 10-5 locations for CSD\n",
      "Using 2 jobs\n"
     ]
    },
    {
     "name": "stderr",
     "output_type": "stream",
     "text": [
      "[Parallel(n_jobs=2)]: Using backend LokyBackend with 2 concurrent workers.\n",
      "[Parallel(n_jobs=2)]: Done 134 tasks      | elapsed:    0.2s\n"
     ]
    },
    {
     "name": "stdout",
     "output_type": "stream",
     "text": [
      "Filtering  at 20.83 Hz\n"
     ]
    },
    {
     "name": "stderr",
     "output_type": "stream",
     "text": [
      "[Parallel(n_jobs=2)]: Done 166 out of 166 | elapsed:    0.3s finished\n"
     ]
    },
    {
     "name": "stdout",
     "output_type": "stream",
     "text": [
      "Reduction order for nice/marker/SymbolicMutualInformation/default: ['channels_y', 'channels']\n",
      "Autodetected number of jobs 2\n",
      "Computing CSD\n",
      "Using 10-5 locations for CSD\n",
      "Using 2 jobs\n"
     ]
    },
    {
     "name": "stderr",
     "output_type": "stream",
     "text": [
      "[Parallel(n_jobs=2)]: Using backend LokyBackend with 2 concurrent workers.\n"
     ]
    },
    {
     "name": "stdout",
     "output_type": "stream",
     "text": [
      "Filtering  at 10.42 Hz\n"
     ]
    },
    {
     "name": "stderr",
     "output_type": "stream",
     "text": [
      "[Parallel(n_jobs=2)]: Done 134 tasks      | elapsed:    0.3s\n",
      "[Parallel(n_jobs=2)]: Done 166 out of 166 | elapsed:    0.3s finished\n"
     ]
    },
    {
     "name": "stdout",
     "output_type": "stream",
     "text": [
      "Reduction order for nice/marker/SymbolicMutualInformation/default: ['channels_y', 'channels']\n",
      "Reduction order for nice/marker/ContingentNegativeVariation/default: ['channels']\n",
      "Reduction order for nice/marker/TimeLockedTopography/p1: ['channels', 'times']\n",
      "Reduction order for nice/marker/TimeLockedTopography/p3a: ['channels', 'times']\n",
      "Reduction order for nice/marker/TimeLockedTopography/p3b: ['channels', 'times']\n",
      "\n",
      "#########################################\n",
      "Computing markers for participant VP28\n",
      "#########################################\n",
      "\n",
      "Reading /media/nicolas.bruno/63f8a366-34b7-4896-a7ce-b5fb4ee78535/Nico/MW_eeg_data/minmarker/VP28/VP28_evoked_ar_subtracted_epo.fif ...\n",
      "    Found the data of interest:\n",
      "        t =    -200.00 ...     600.00 ms\n",
      "        0 CTF compensation matrices available\n",
      "Not setting metadata\n",
      "Not setting metadata\n",
      "164 matching events found\n",
      "No baseline correction applied\n",
      "0 projection items activated\n",
      "Autodetected number of jobs 24\n",
      "Effective window size : 16.384 (s)\n"
     ]
    },
    {
     "name": "stderr",
     "output_type": "stream",
     "text": [
      "[Parallel(n_jobs=24)]: Using backend LokyBackend with 24 concurrent workers.\n",
      "[Parallel(n_jobs=24)]: Done   6 out of  24 | elapsed:    3.9s remaining:   11.7s\n",
      "[Parallel(n_jobs=24)]: Done  11 out of  24 | elapsed:    4.0s remaining:    4.7s\n",
      "[Parallel(n_jobs=24)]: Done  16 out of  24 | elapsed:    4.0s remaining:    2.0s\n"
     ]
    },
    {
     "name": "stdout",
     "output_type": "stream",
     "text": [
      "Reduction order for nice/marker/PowerSpectralDensity/alpha: ['frequency', 'channels']\n",
      "Reduction order for nice/marker/PowerSpectralDensity/alpha: ['frequency', 'channels']\n",
      "Reduction order for nice/marker/PowerSpectralDensity/delta: ['frequency', 'channels']\n",
      "Reduction order for nice/marker/PowerSpectralDensity/delta: ['frequency', 'channels']\n",
      "Reduction order for nice/marker/PowerSpectralDensity/theta: ['frequency', 'channels']\n",
      "Reduction order for nice/marker/PowerSpectralDensity/theta: ['frequency', 'channels']\n",
      "Reduction order for nice/marker/PowerSpectralDensity/gamma: ['frequency', 'channels']\n",
      "Reduction order for nice/marker/PowerSpectralDensity/theta: ['frequency', 'channels']\n",
      "Reduction order for nice/marker/PowerSpectralDensity/beta: ['frequency', 'channels']\n",
      "Reduction order for nice/marker/PowerSpectralDensity/beta: ['frequency', 'channels']\n",
      "Reduction order for nice/marker/PowerSpectralDensity/summary_se: ['frequency', 'channels']\n"
     ]
    },
    {
     "name": "stderr",
     "output_type": "stream",
     "text": [
      "[Parallel(n_jobs=24)]: Done  21 out of  24 | elapsed:    4.1s remaining:    0.6s\n",
      "[Parallel(n_jobs=24)]: Done  24 out of  24 | elapsed:    4.1s finished\n",
      "/home/nicolas.bruno/anaconda3/lib/python3.7/site-packages/nice-0.1.dev0-py3.7.egg/nice/markers/spectral.py:128: RuntimeWarning: invalid value encountered in true_divide\n",
      "  self.data_norm_ = self.data_ / self.data_.sum(axis=-1)[..., None]\n",
      "/home/nicolas.bruno/anaconda3/lib/python3.7/site-packages/nice-0.1.dev0-py3.7.egg/nice/markers/spectral.py:220: RuntimeWarning: divide by zero encountered in log10\n",
      "  out = 10 * np.log10(out)\n"
     ]
    },
    {
     "name": "stdout",
     "output_type": "stream",
     "text": [
      "Reduction order for nice/marker/PowerSpectralDensitySummary/summary_msf: ['channels']\n",
      "Reduction order for nice/marker/PowerSpectralDensitySummary/summary_sef90: ['channels']\n",
      "Reduction order for nice/marker/PowerSpectralDensitySummary/summary_sef95: ['channels']\n",
      "Running KolmogorovComplexity\n",
      "Elapsed time 0.2310504913330078 sec\n",
      "Reduction order for nice/marker/KolmogorovComplexity/default: ['channels']\n",
      "Filtering  at 83.33 Hz\n",
      "Performing symbolic transformation\n",
      "Reduction order for nice/marker/PermutationEntropy/default: ['channels']\n",
      "Filtering  at 41.67 Hz\n",
      "Performing symbolic transformation\n"
     ]
    },
    {
     "name": "stderr",
     "output_type": "stream",
     "text": [
      "/home/nicolas.bruno/anaconda3/lib/python3.7/site-packages/nice-0.1.dev0-py3.7.egg/nice/algorithms/information_theory/permutation_entropy.py:75: RuntimeWarning: divide by zero encountered in log\n",
      "  pe = np.nan_to_num(-np.nansum(count * np.log(count), axis=1))\n",
      "/home/nicolas.bruno/anaconda3/lib/python3.7/site-packages/nice-0.1.dev0-py3.7.egg/nice/algorithms/information_theory/permutation_entropy.py:75: RuntimeWarning: invalid value encountered in multiply\n",
      "  pe = np.nan_to_num(-np.nansum(count * np.log(count), axis=1))\n"
     ]
    },
    {
     "name": "stdout",
     "output_type": "stream",
     "text": [
      "Reduction order for nice/marker/PermutationEntropy/default: ['channels']\n",
      "Filtering  at 20.83 Hz\n",
      "Performing symbolic transformation\n",
      "Reduction order for nice/marker/PermutationEntropy/default: ['channels']\n",
      "Filtering  at 10.42 Hz\n",
      "Performing symbolic transformation\n",
      "Reduction order for nice/marker/PermutationEntropy/default: ['channels']\n",
      "Autodetected number of jobs 2\n",
      "Computing CSD\n",
      "Using 10-5 locations for CSD\n",
      "Using 2 jobs\n"
     ]
    },
    {
     "name": "stderr",
     "output_type": "stream",
     "text": [
      "[Parallel(n_jobs=2)]: Using backend LokyBackend with 2 concurrent workers.\n",
      "[Parallel(n_jobs=2)]: Done  24 tasks      | elapsed:    1.7s\n",
      "[Parallel(n_jobs=2)]: Done 164 out of 164 | elapsed:    1.9s finished\n"
     ]
    },
    {
     "name": "stdout",
     "output_type": "stream",
     "text": [
      "Filtering  at 83.33 Hz\n",
      "Reduction order for nice/marker/SymbolicMutualInformation/default: ['channels_y', 'channels']\n",
      "Autodetected number of jobs 2\n",
      "Computing CSD\n",
      "Using 10-5 locations for CSD\n",
      "Using 2 jobs\n"
     ]
    },
    {
     "name": "stderr",
     "output_type": "stream",
     "text": [
      "[Parallel(n_jobs=2)]: Using backend LokyBackend with 2 concurrent workers.\n",
      "[Parallel(n_jobs=2)]: Done 130 tasks      | elapsed:    0.2s\n"
     ]
    },
    {
     "name": "stdout",
     "output_type": "stream",
     "text": [
      "Filtering  at 41.67 Hz\n"
     ]
    },
    {
     "name": "stderr",
     "output_type": "stream",
     "text": [
      "[Parallel(n_jobs=2)]: Done 164 out of 164 | elapsed:    0.3s finished\n"
     ]
    },
    {
     "name": "stdout",
     "output_type": "stream",
     "text": [
      "Reduction order for nice/marker/SymbolicMutualInformation/default: ['channels_y', 'channels']\n",
      "Autodetected number of jobs 2\n",
      "Computing CSD\n",
      "Using 10-5 locations for CSD\n",
      "Using 2 jobs\n"
     ]
    },
    {
     "name": "stderr",
     "output_type": "stream",
     "text": [
      "[Parallel(n_jobs=2)]: Using backend LokyBackend with 2 concurrent workers.\n",
      "[Parallel(n_jobs=2)]: Done  99 tasks      | elapsed:    0.2s\n"
     ]
    },
    {
     "name": "stdout",
     "output_type": "stream",
     "text": [
      "Filtering  at 20.83 Hz\n"
     ]
    },
    {
     "name": "stderr",
     "output_type": "stream",
     "text": [
      "[Parallel(n_jobs=2)]: Done 164 out of 164 | elapsed:    0.3s finished\n"
     ]
    },
    {
     "name": "stdout",
     "output_type": "stream",
     "text": [
      "Reduction order for nice/marker/SymbolicMutualInformation/default: ['channels_y', 'channels']\n",
      "Autodetected number of jobs 2\n",
      "Computing CSD\n",
      "Using 10-5 locations for CSD\n",
      "Using 2 jobs\n"
     ]
    },
    {
     "name": "stderr",
     "output_type": "stream",
     "text": [
      "[Parallel(n_jobs=2)]: Using backend LokyBackend with 2 concurrent workers.\n"
     ]
    },
    {
     "name": "stdout",
     "output_type": "stream",
     "text": [
      "Filtering  at 10.42 Hz\n"
     ]
    },
    {
     "name": "stderr",
     "output_type": "stream",
     "text": [
      "[Parallel(n_jobs=2)]: Done 131 tasks      | elapsed:    0.2s\n",
      "[Parallel(n_jobs=2)]: Done 164 out of 164 | elapsed:    0.3s finished\n"
     ]
    },
    {
     "name": "stdout",
     "output_type": "stream",
     "text": [
      "Reduction order for nice/marker/SymbolicMutualInformation/default: ['channels_y', 'channels']\n",
      "Reduction order for nice/marker/ContingentNegativeVariation/default: ['channels']\n",
      "Reduction order for nice/marker/TimeLockedTopography/p1: ['channels', 'times']\n",
      "Reduction order for nice/marker/TimeLockedTopography/p3a: ['channels', 'times']\n",
      "Reduction order for nice/marker/TimeLockedTopography/p3b: ['channels', 'times']\n",
      "Reading /media/nicolas.bruno/63f8a366-34b7-4896-a7ce-b5fb4ee78535/Nico/MW_eeg_data/minmarker/VP28/VP28_evoked_ar_rereferenced_epo.fif ...\n",
      "    Found the data of interest:\n",
      "        t =    -200.00 ...     600.00 ms\n",
      "        0 CTF compensation matrices available\n",
      "Not setting metadata\n",
      "Not setting metadata\n",
      "164 matching events found\n",
      "No baseline correction applied\n",
      "0 projection items activated\n",
      "Autodetected number of jobs 24\n",
      "Effective window size : 16.384 (s)\n"
     ]
    },
    {
     "name": "stderr",
     "output_type": "stream",
     "text": [
      "[Parallel(n_jobs=24)]: Using backend LokyBackend with 24 concurrent workers.\n",
      "[Parallel(n_jobs=24)]: Done   6 out of  24 | elapsed:    3.8s remaining:   11.5s\n",
      "[Parallel(n_jobs=24)]: Done  11 out of  24 | elapsed:    4.0s remaining:    4.7s\n",
      "[Parallel(n_jobs=24)]: Done  16 out of  24 | elapsed:    4.1s remaining:    2.0s\n",
      "[Parallel(n_jobs=24)]: Done  21 out of  24 | elapsed:    4.1s remaining:    0.6s\n",
      "[Parallel(n_jobs=24)]: Done  24 out of  24 | elapsed:    4.1s finished\n"
     ]
    },
    {
     "name": "stdout",
     "output_type": "stream",
     "text": [
      "Reduction order for nice/marker/PowerSpectralDensity/alpha: ['frequency', 'channels']\n",
      "Reduction order for nice/marker/PowerSpectralDensity/alpha: ['frequency', 'channels']\n",
      "Reduction order for nice/marker/PowerSpectralDensity/delta: ['frequency', 'channels']\n",
      "Reduction order for nice/marker/PowerSpectralDensity/delta: ['frequency', 'channels']\n",
      "Reduction order for nice/marker/PowerSpectralDensity/theta: ['frequency', 'channels']\n",
      "Reduction order for nice/marker/PowerSpectralDensity/theta: ['frequency', 'channels']\n",
      "Reduction order for nice/marker/PowerSpectralDensity/gamma: ['frequency', 'channels']\n",
      "Reduction order for nice/marker/PowerSpectralDensity/theta: ['frequency', 'channels']\n",
      "Reduction order for nice/marker/PowerSpectralDensity/beta: ['frequency', 'channels']\n",
      "Reduction order for nice/marker/PowerSpectralDensity/beta: ['frequency', 'channels']\n",
      "Reduction order for nice/marker/PowerSpectralDensity/summary_se: ['frequency', 'channels']\n",
      "Reduction order for nice/marker/PowerSpectralDensitySummary/summary_msf: ['channels']\n",
      "Reduction order for nice/marker/PowerSpectralDensitySummary/summary_sef90: ['channels']\n",
      "Reduction order for nice/marker/PowerSpectralDensitySummary/summary_sef95: ['channels']\n",
      "Running KolmogorovComplexity\n",
      "Elapsed time 0.23675942420959473 sec\n",
      "Reduction order for nice/marker/KolmogorovComplexity/default: ['channels']\n",
      "Filtering  at 83.33 Hz\n",
      "Performing symbolic transformation\n",
      "Reduction order for nice/marker/PermutationEntropy/default: ['channels']\n",
      "Filtering  at 41.67 Hz\n",
      "Performing symbolic transformation\n",
      "Reduction order for nice/marker/PermutationEntropy/default: ['channels']\n",
      "Filtering  at 20.83 Hz\n",
      "Performing symbolic transformation\n",
      "Reduction order for nice/marker/PermutationEntropy/default: ['channels']\n",
      "Filtering  at 10.42 Hz\n",
      "Performing symbolic transformation\n",
      "Reduction order for nice/marker/PermutationEntropy/default: ['channels']\n",
      "Autodetected number of jobs 2\n",
      "Computing CSD\n",
      "Using 10-5 locations for CSD\n",
      "Using 2 jobs\n"
     ]
    },
    {
     "name": "stderr",
     "output_type": "stream",
     "text": [
      "[Parallel(n_jobs=2)]: Using backend LokyBackend with 2 concurrent workers.\n",
      "[Parallel(n_jobs=2)]: Done  18 tasks      | elapsed:    1.7s\n",
      "[Parallel(n_jobs=2)]: Done 164 out of 164 | elapsed:    1.9s finished\n"
     ]
    },
    {
     "name": "stdout",
     "output_type": "stream",
     "text": [
      "Filtering  at 83.33 Hz\n",
      "Reduction order for nice/marker/SymbolicMutualInformation/default: ['channels_y', 'channels']\n",
      "Autodetected number of jobs 2\n",
      "Computing CSD\n",
      "Using 10-5 locations for CSD\n",
      "Using 2 jobs\n"
     ]
    },
    {
     "name": "stderr",
     "output_type": "stream",
     "text": [
      "[Parallel(n_jobs=2)]: Using backend LokyBackend with 2 concurrent workers.\n",
      "[Parallel(n_jobs=2)]: Done 130 tasks      | elapsed:    0.2s\n"
     ]
    },
    {
     "name": "stdout",
     "output_type": "stream",
     "text": [
      "Filtering  at 41.67 Hz\n"
     ]
    },
    {
     "name": "stderr",
     "output_type": "stream",
     "text": [
      "[Parallel(n_jobs=2)]: Done 164 out of 164 | elapsed:    0.3s finished\n"
     ]
    },
    {
     "name": "stdout",
     "output_type": "stream",
     "text": [
      "Reduction order for nice/marker/SymbolicMutualInformation/default: ['channels_y', 'channels']\n",
      "Autodetected number of jobs 2\n",
      "Computing CSD\n",
      "Using 10-5 locations for CSD\n",
      "Using 2 jobs\n"
     ]
    },
    {
     "name": "stderr",
     "output_type": "stream",
     "text": [
      "[Parallel(n_jobs=2)]: Using backend LokyBackend with 2 concurrent workers.\n"
     ]
    },
    {
     "name": "stdout",
     "output_type": "stream",
     "text": [
      "Filtering  at 20.83 Hz\n"
     ]
    },
    {
     "name": "stderr",
     "output_type": "stream",
     "text": [
      "[Parallel(n_jobs=2)]: Done 130 tasks      | elapsed:    0.2s\n",
      "[Parallel(n_jobs=2)]: Done 164 out of 164 | elapsed:    0.3s finished\n"
     ]
    },
    {
     "name": "stdout",
     "output_type": "stream",
     "text": [
      "Reduction order for nice/marker/SymbolicMutualInformation/default: ['channels_y', 'channels']\n",
      "Autodetected number of jobs 2\n",
      "Computing CSD\n",
      "Using 10-5 locations for CSD\n",
      "Using 2 jobs\n"
     ]
    },
    {
     "name": "stderr",
     "output_type": "stream",
     "text": [
      "[Parallel(n_jobs=2)]: Using backend LokyBackend with 2 concurrent workers.\n"
     ]
    },
    {
     "name": "stdout",
     "output_type": "stream",
     "text": [
      "Filtering  at 10.42 Hz\n"
     ]
    },
    {
     "name": "stderr",
     "output_type": "stream",
     "text": [
      "[Parallel(n_jobs=2)]: Done 130 tasks      | elapsed:    0.2s\n",
      "[Parallel(n_jobs=2)]: Done 164 out of 164 | elapsed:    0.3s finished\n"
     ]
    },
    {
     "name": "stdout",
     "output_type": "stream",
     "text": [
      "Reduction order for nice/marker/SymbolicMutualInformation/default: ['channels_y', 'channels']\n",
      "Reduction order for nice/marker/ContingentNegativeVariation/default: ['channels']\n",
      "Reduction order for nice/marker/TimeLockedTopography/p1: ['channels', 'times']\n",
      "Reduction order for nice/marker/TimeLockedTopography/p3a: ['channels', 'times']\n",
      "Reduction order for nice/marker/TimeLockedTopography/p3b: ['channels', 'times']\n",
      "\n",
      "#########################################\n",
      "Computing markers for participant VP29\n",
      "#########################################\n",
      "\n",
      "Reading /media/nicolas.bruno/63f8a366-34b7-4896-a7ce-b5fb4ee78535/Nico/MW_eeg_data/minmarker/VP29/VP29_evoked_ar_subtracted_epo.fif ...\n",
      "    Found the data of interest:\n",
      "        t =    -200.00 ...     600.00 ms\n",
      "        0 CTF compensation matrices available\n",
      "Not setting metadata\n",
      "Not setting metadata\n",
      "385 matching events found\n",
      "No baseline correction applied\n",
      "0 projection items activated\n",
      "Autodetected number of jobs 24\n",
      "Effective window size : 16.384 (s)\n"
     ]
    },
    {
     "name": "stderr",
     "output_type": "stream",
     "text": [
      "[Parallel(n_jobs=24)]: Using backend LokyBackend with 24 concurrent workers.\n",
      "[Parallel(n_jobs=24)]: Done   6 out of  24 | elapsed:    4.5s remaining:   13.5s\n",
      "[Parallel(n_jobs=24)]: Done  11 out of  24 | elapsed:    4.6s remaining:    5.5s\n",
      "[Parallel(n_jobs=24)]: Done  16 out of  24 | elapsed:    4.8s remaining:    2.4s\n",
      "[Parallel(n_jobs=24)]: Done  21 out of  24 | elapsed:    4.9s remaining:    0.7s\n",
      "[Parallel(n_jobs=24)]: Done  24 out of  24 | elapsed:    4.9s finished\n"
     ]
    },
    {
     "name": "stdout",
     "output_type": "stream",
     "text": [
      "Reduction order for nice/marker/PowerSpectralDensity/alpha: ['frequency', 'channels']\n",
      "Reduction order for nice/marker/PowerSpectralDensity/alpha: ['frequency', 'channels']\n",
      "Reduction order for nice/marker/PowerSpectralDensity/delta: ['frequency', 'channels']\n",
      "Reduction order for nice/marker/PowerSpectralDensity/delta: ['frequency', 'channels']\n",
      "Reduction order for nice/marker/PowerSpectralDensity/theta: ['frequency', 'channels']\n",
      "Reduction order for nice/marker/PowerSpectralDensity/theta: ['frequency', 'channels']\n",
      "Reduction order for nice/marker/PowerSpectralDensity/gamma: ['frequency', 'channels']\n",
      "Reduction order for nice/marker/PowerSpectralDensity/theta: ['frequency', 'channels']\n",
      "Reduction order for nice/marker/PowerSpectralDensity/beta: ['frequency', 'channels']\n",
      "Reduction order for nice/marker/PowerSpectralDensity/beta: ['frequency', 'channels']\n",
      "Reduction order for nice/marker/PowerSpectralDensity/summary_se: ['frequency', 'channels']\n"
     ]
    },
    {
     "name": "stderr",
     "output_type": "stream",
     "text": [
      "/home/nicolas.bruno/anaconda3/lib/python3.7/site-packages/nice-0.1.dev0-py3.7.egg/nice/markers/spectral.py:128: RuntimeWarning: invalid value encountered in true_divide\n",
      "  self.data_norm_ = self.data_ / self.data_.sum(axis=-1)[..., None]\n",
      "/home/nicolas.bruno/anaconda3/lib/python3.7/site-packages/nice-0.1.dev0-py3.7.egg/nice/markers/spectral.py:220: RuntimeWarning: divide by zero encountered in log10\n",
      "  out = 10 * np.log10(out)\n"
     ]
    },
    {
     "name": "stdout",
     "output_type": "stream",
     "text": [
      "Reduction order for nice/marker/PowerSpectralDensitySummary/summary_msf: ['channels']\n",
      "Reduction order for nice/marker/PowerSpectralDensitySummary/summary_sef90: ['channels']\n",
      "Reduction order for nice/marker/PowerSpectralDensitySummary/summary_sef95: ['channels']\n",
      "Running KolmogorovComplexity\n",
      "Elapsed time 0.5586264133453369 sec\n",
      "Reduction order for nice/marker/KolmogorovComplexity/default: ['channels']\n",
      "Filtering  at 83.33 Hz\n",
      "Performing symbolic transformation\n",
      "Reduction order for nice/marker/PermutationEntropy/default: ['channels']\n",
      "Filtering  at 41.67 Hz\n"
     ]
    },
    {
     "name": "stderr",
     "output_type": "stream",
     "text": [
      "/home/nicolas.bruno/anaconda3/lib/python3.7/site-packages/nice-0.1.dev0-py3.7.egg/nice/algorithms/information_theory/permutation_entropy.py:75: RuntimeWarning: divide by zero encountered in log\n",
      "  pe = np.nan_to_num(-np.nansum(count * np.log(count), axis=1))\n",
      "/home/nicolas.bruno/anaconda3/lib/python3.7/site-packages/nice-0.1.dev0-py3.7.egg/nice/algorithms/information_theory/permutation_entropy.py:75: RuntimeWarning: invalid value encountered in multiply\n",
      "  pe = np.nan_to_num(-np.nansum(count * np.log(count), axis=1))\n"
     ]
    },
    {
     "name": "stdout",
     "output_type": "stream",
     "text": [
      "Performing symbolic transformation\n",
      "Reduction order for nice/marker/PermutationEntropy/default: ['channels']\n",
      "Filtering  at 20.83 Hz\n",
      "Performing symbolic transformation\n",
      "Reduction order for nice/marker/PermutationEntropy/default: ['channels']\n",
      "Filtering  at 10.42 Hz\n",
      "Performing symbolic transformation\n",
      "Reduction order for nice/marker/PermutationEntropy/default: ['channels']\n",
      "Autodetected number of jobs 2\n",
      "Computing CSD\n",
      "Using 10-5 locations for CSD\n",
      "Using 2 jobs\n"
     ]
    },
    {
     "name": "stderr",
     "output_type": "stream",
     "text": [
      "[Parallel(n_jobs=2)]: Using backend LokyBackend with 2 concurrent workers.\n",
      "[Parallel(n_jobs=2)]: Done  16 tasks      | elapsed:    1.6s\n"
     ]
    },
    {
     "name": "stdout",
     "output_type": "stream",
     "text": [
      "Filtering  at 83.33 Hz\n"
     ]
    },
    {
     "name": "stderr",
     "output_type": "stream",
     "text": [
      "[Parallel(n_jobs=2)]: Done 385 out of 385 | elapsed:    2.0s finished\n"
     ]
    },
    {
     "name": "stdout",
     "output_type": "stream",
     "text": [
      "Reduction order for nice/marker/SymbolicMutualInformation/default: ['channels_y', 'channels']\n",
      "Autodetected number of jobs 2\n",
      "Computing CSD\n",
      "Using 10-5 locations for CSD\n",
      "Using 2 jobs\n"
     ]
    },
    {
     "name": "stderr",
     "output_type": "stream",
     "text": [
      "[Parallel(n_jobs=2)]: Using backend LokyBackend with 2 concurrent workers.\n",
      "[Parallel(n_jobs=2)]: Done  86 tasks      | elapsed:    0.1s\n"
     ]
    },
    {
     "name": "stdout",
     "output_type": "stream",
     "text": [
      "Filtering  at 41.67 Hz\n"
     ]
    },
    {
     "name": "stderr",
     "output_type": "stream",
     "text": [
      "[Parallel(n_jobs=2)]: Done 385 out of 385 | elapsed:    0.4s finished\n"
     ]
    },
    {
     "name": "stdout",
     "output_type": "stream",
     "text": [
      "Reduction order for nice/marker/SymbolicMutualInformation/default: ['channels_y', 'channels']\n",
      "Autodetected number of jobs 2\n",
      "Computing CSD\n",
      "Using 10-5 locations for CSD\n",
      "Using 2 jobs\n"
     ]
    },
    {
     "name": "stderr",
     "output_type": "stream",
     "text": [
      "[Parallel(n_jobs=2)]: Using backend LokyBackend with 2 concurrent workers.\n"
     ]
    },
    {
     "name": "stdout",
     "output_type": "stream",
     "text": [
      "Filtering  at 20.83 Hz\n"
     ]
    },
    {
     "name": "stderr",
     "output_type": "stream",
     "text": [
      "[Parallel(n_jobs=2)]: Done 266 tasks      | elapsed:    0.4s\n",
      "[Parallel(n_jobs=2)]: Done 385 out of 385 | elapsed:    0.5s finished\n"
     ]
    },
    {
     "name": "stdout",
     "output_type": "stream",
     "text": [
      "Reduction order for nice/marker/SymbolicMutualInformation/default: ['channels_y', 'channels']\n",
      "Autodetected number of jobs 2\n",
      "Computing CSD\n",
      "Using 10-5 locations for CSD\n",
      "Using 2 jobs\n"
     ]
    },
    {
     "name": "stderr",
     "output_type": "stream",
     "text": [
      "[Parallel(n_jobs=2)]: Using backend LokyBackend with 2 concurrent workers.\n"
     ]
    },
    {
     "name": "stdout",
     "output_type": "stream",
     "text": [
      "Filtering  at 10.42 Hz\n"
     ]
    },
    {
     "name": "stderr",
     "output_type": "stream",
     "text": [
      "[Parallel(n_jobs=2)]: Done 208 tasks      | elapsed:    0.3s\n",
      "[Parallel(n_jobs=2)]: Done 385 out of 385 | elapsed:    0.4s finished\n"
     ]
    },
    {
     "name": "stdout",
     "output_type": "stream",
     "text": [
      "Reduction order for nice/marker/SymbolicMutualInformation/default: ['channels_y', 'channels']\n",
      "Reduction order for nice/marker/ContingentNegativeVariation/default: ['channels']\n",
      "Reduction order for nice/marker/TimeLockedTopography/p1: ['channels', 'times']\n",
      "Reduction order for nice/marker/TimeLockedTopography/p3a: ['channels', 'times']\n",
      "Reduction order for nice/marker/TimeLockedTopography/p3b: ['channels', 'times']\n",
      "Reading /media/nicolas.bruno/63f8a366-34b7-4896-a7ce-b5fb4ee78535/Nico/MW_eeg_data/minmarker/VP29/VP29_evoked_ar_rereferenced_epo.fif ...\n",
      "    Found the data of interest:\n",
      "        t =    -200.00 ...     600.00 ms\n",
      "        0 CTF compensation matrices available\n",
      "Not setting metadata\n",
      "Not setting metadata\n",
      "385 matching events found\n",
      "No baseline correction applied\n",
      "0 projection items activated\n",
      "Autodetected number of jobs 24\n",
      "Effective window size : 16.384 (s)\n"
     ]
    },
    {
     "name": "stderr",
     "output_type": "stream",
     "text": [
      "[Parallel(n_jobs=24)]: Using backend LokyBackend with 24 concurrent workers.\n",
      "[Parallel(n_jobs=24)]: Done   6 out of  24 | elapsed:    4.5s remaining:   13.6s\n",
      "[Parallel(n_jobs=24)]: Done  11 out of  24 | elapsed:    4.7s remaining:    5.5s\n",
      "[Parallel(n_jobs=24)]: Done  16 out of  24 | elapsed:    4.8s remaining:    2.4s\n",
      "[Parallel(n_jobs=24)]: Done  21 out of  24 | elapsed:    4.9s remaining:    0.7s\n",
      "[Parallel(n_jobs=24)]: Done  24 out of  24 | elapsed:    4.9s finished\n"
     ]
    },
    {
     "name": "stdout",
     "output_type": "stream",
     "text": [
      "Reduction order for nice/marker/PowerSpectralDensity/alpha: ['frequency', 'channels']\n",
      "Reduction order for nice/marker/PowerSpectralDensity/alpha: ['frequency', 'channels']\n",
      "Reduction order for nice/marker/PowerSpectralDensity/delta: ['frequency', 'channels']\n",
      "Reduction order for nice/marker/PowerSpectralDensity/delta: ['frequency', 'channels']\n",
      "Reduction order for nice/marker/PowerSpectralDensity/theta: ['frequency', 'channels']\n",
      "Reduction order for nice/marker/PowerSpectralDensity/theta: ['frequency', 'channels']\n",
      "Reduction order for nice/marker/PowerSpectralDensity/gamma: ['frequency', 'channels']\n",
      "Reduction order for nice/marker/PowerSpectralDensity/theta: ['frequency', 'channels']\n",
      "Reduction order for nice/marker/PowerSpectralDensity/beta: ['frequency', 'channels']\n",
      "Reduction order for nice/marker/PowerSpectralDensity/beta: ['frequency', 'channels']\n",
      "Reduction order for nice/marker/PowerSpectralDensity/summary_se: ['frequency', 'channels']\n",
      "Reduction order for nice/marker/PowerSpectralDensitySummary/summary_msf: ['channels']\n",
      "Reduction order for nice/marker/PowerSpectralDensitySummary/summary_sef90: ['channels']\n",
      "Reduction order for nice/marker/PowerSpectralDensitySummary/summary_sef95: ['channels']\n",
      "Running KolmogorovComplexity\n",
      "Elapsed time 0.5484137535095215 sec\n",
      "Reduction order for nice/marker/KolmogorovComplexity/default: ['channels']\n",
      "Filtering  at 83.33 Hz\n",
      "Performing symbolic transformation\n",
      "Reduction order for nice/marker/PermutationEntropy/default: ['channels']\n",
      "Filtering  at 41.67 Hz\n"
     ]
    },
    {
     "name": "stderr",
     "output_type": "stream",
     "text": [
      "/home/nicolas.bruno/anaconda3/lib/python3.7/site-packages/nice-0.1.dev0-py3.7.egg/nice/algorithms/information_theory/permutation_entropy.py:75: RuntimeWarning: divide by zero encountered in log\n",
      "  pe = np.nan_to_num(-np.nansum(count * np.log(count), axis=1))\n",
      "/home/nicolas.bruno/anaconda3/lib/python3.7/site-packages/nice-0.1.dev0-py3.7.egg/nice/algorithms/information_theory/permutation_entropy.py:75: RuntimeWarning: invalid value encountered in multiply\n",
      "  pe = np.nan_to_num(-np.nansum(count * np.log(count), axis=1))\n"
     ]
    },
    {
     "name": "stdout",
     "output_type": "stream",
     "text": [
      "Performing symbolic transformation\n",
      "Reduction order for nice/marker/PermutationEntropy/default: ['channels']\n",
      "Filtering  at 20.83 Hz\n",
      "Performing symbolic transformation\n",
      "Reduction order for nice/marker/PermutationEntropy/default: ['channels']\n",
      "Filtering  at 10.42 Hz\n",
      "Performing symbolic transformation\n",
      "Reduction order for nice/marker/PermutationEntropy/default: ['channels']\n",
      "Autodetected number of jobs 2\n",
      "Computing CSD\n",
      "Using 10-5 locations for CSD\n",
      "Using 2 jobs\n"
     ]
    },
    {
     "name": "stderr",
     "output_type": "stream",
     "text": [
      "[Parallel(n_jobs=2)]: Using backend LokyBackend with 2 concurrent workers.\n",
      "[Parallel(n_jobs=2)]: Done  24 tasks      | elapsed:    1.6s\n"
     ]
    },
    {
     "name": "stdout",
     "output_type": "stream",
     "text": [
      "Filtering  at 83.33 Hz\n"
     ]
    },
    {
     "name": "stderr",
     "output_type": "stream",
     "text": [
      "[Parallel(n_jobs=2)]: Done 385 out of 385 | elapsed:    2.1s finished\n"
     ]
    },
    {
     "name": "stdout",
     "output_type": "stream",
     "text": [
      "Reduction order for nice/marker/SymbolicMutualInformation/default: ['channels_y', 'channels']\n",
      "Autodetected number of jobs 2\n",
      "Computing CSD\n",
      "Using 10-5 locations for CSD\n",
      "Using 2 jobs\n"
     ]
    },
    {
     "name": "stderr",
     "output_type": "stream",
     "text": [
      "[Parallel(n_jobs=2)]: Using backend LokyBackend with 2 concurrent workers.\n",
      "[Parallel(n_jobs=2)]: Done 272 tasks      | elapsed:    0.5s\n",
      "[Parallel(n_jobs=2)]: Done 385 out of 385 | elapsed:    0.7s finished\n"
     ]
    },
    {
     "name": "stdout",
     "output_type": "stream",
     "text": [
      "Filtering  at 41.67 Hz\n",
      "Reduction order for nice/marker/SymbolicMutualInformation/default: ['channels_y', 'channels']\n",
      "Autodetected number of jobs 2\n",
      "Computing CSD\n",
      "Using 10-5 locations for CSD\n",
      "Using 2 jobs\n"
     ]
    },
    {
     "name": "stderr",
     "output_type": "stream",
     "text": [
      "[Parallel(n_jobs=2)]: Using backend LokyBackend with 2 concurrent workers.\n"
     ]
    },
    {
     "name": "stdout",
     "output_type": "stream",
     "text": [
      "Filtering  at 20.83 Hz\n"
     ]
    },
    {
     "name": "stderr",
     "output_type": "stream",
     "text": [
      "[Parallel(n_jobs=2)]: Done 208 tasks      | elapsed:    0.3s\n",
      "[Parallel(n_jobs=2)]: Done 385 out of 385 | elapsed:    0.4s finished\n"
     ]
    },
    {
     "name": "stdout",
     "output_type": "stream",
     "text": [
      "Reduction order for nice/marker/SymbolicMutualInformation/default: ['channels_y', 'channels']\n",
      "Autodetected number of jobs 2\n",
      "Computing CSD\n",
      "Using 10-5 locations for CSD\n",
      "Using 2 jobs\n"
     ]
    },
    {
     "name": "stderr",
     "output_type": "stream",
     "text": [
      "[Parallel(n_jobs=2)]: Using backend LokyBackend with 2 concurrent workers.\n"
     ]
    },
    {
     "name": "stdout",
     "output_type": "stream",
     "text": [
      "Filtering  at 10.42 Hz\n"
     ]
    },
    {
     "name": "stderr",
     "output_type": "stream",
     "text": [
      "[Parallel(n_jobs=2)]: Done 208 tasks      | elapsed:    0.3s\n",
      "[Parallel(n_jobs=2)]: Done 385 out of 385 | elapsed:    0.5s finished\n"
     ]
    },
    {
     "name": "stdout",
     "output_type": "stream",
     "text": [
      "Reduction order for nice/marker/SymbolicMutualInformation/default: ['channels_y', 'channels']\n",
      "Reduction order for nice/marker/ContingentNegativeVariation/default: ['channels']\n",
      "Reduction order for nice/marker/TimeLockedTopography/p1: ['channels', 'times']\n",
      "Reduction order for nice/marker/TimeLockedTopography/p3a: ['channels', 'times']\n",
      "Reduction order for nice/marker/TimeLockedTopography/p3b: ['channels', 'times']\n",
      "\n",
      "#########################################\n",
      "Computing markers for participant VP30\n",
      "#########################################\n",
      "\n",
      "Reading /media/nicolas.bruno/63f8a366-34b7-4896-a7ce-b5fb4ee78535/Nico/MW_eeg_data/minmarker/VP30/VP30_evoked_ar_subtracted_epo.fif ...\n",
      "    Found the data of interest:\n",
      "        t =    -200.00 ...     600.00 ms\n",
      "        0 CTF compensation matrices available\n",
      "Not setting metadata\n",
      "Not setting metadata\n",
      "738 matching events found\n",
      "No baseline correction applied\n",
      "0 projection items activated\n",
      "Autodetected number of jobs 24\n",
      "Effective window size : 16.384 (s)\n"
     ]
    },
    {
     "name": "stderr",
     "output_type": "stream",
     "text": [
      "[Parallel(n_jobs=24)]: Using backend LokyBackend with 24 concurrent workers.\n",
      "[Parallel(n_jobs=24)]: Done   6 out of  24 | elapsed:    5.7s remaining:   17.0s\n",
      "[Parallel(n_jobs=24)]: Done  11 out of  24 | elapsed:    5.9s remaining:    6.9s\n",
      "[Parallel(n_jobs=24)]: Done  16 out of  24 | elapsed:    6.0s remaining:    3.0s\n",
      "[Parallel(n_jobs=24)]: Done  21 out of  24 | elapsed:    6.3s remaining:    0.9s\n",
      "[Parallel(n_jobs=24)]: Done  24 out of  24 | elapsed:    6.4s finished\n"
     ]
    },
    {
     "name": "stdout",
     "output_type": "stream",
     "text": [
      "Reduction order for nice/marker/PowerSpectralDensity/alpha: ['frequency', 'channels']\n",
      "Reduction order for nice/marker/PowerSpectralDensity/alpha: ['frequency', 'channels']\n",
      "Reduction order for nice/marker/PowerSpectralDensity/delta: ['frequency', 'channels']\n",
      "Reduction order for nice/marker/PowerSpectralDensity/delta: ['frequency', 'channels']\n",
      "Reduction order for nice/marker/PowerSpectralDensity/theta: ['frequency', 'channels']\n",
      "Reduction order for nice/marker/PowerSpectralDensity/theta: ['frequency', 'channels']\n",
      "Reduction order for nice/marker/PowerSpectralDensity/gamma: ['frequency', 'channels']\n",
      "Reduction order for nice/marker/PowerSpectralDensity/theta: ['frequency', 'channels']\n",
      "Reduction order for nice/marker/PowerSpectralDensity/beta: ['frequency', 'channels']\n",
      "Reduction order for nice/marker/PowerSpectralDensity/beta: ['frequency', 'channels']\n",
      "Reduction order for nice/marker/PowerSpectralDensity/summary_se: ['frequency', 'channels']\n"
     ]
    },
    {
     "name": "stderr",
     "output_type": "stream",
     "text": [
      "/home/nicolas.bruno/anaconda3/lib/python3.7/site-packages/nice-0.1.dev0-py3.7.egg/nice/markers/spectral.py:128: RuntimeWarning: invalid value encountered in true_divide\n",
      "  self.data_norm_ = self.data_ / self.data_.sum(axis=-1)[..., None]\n",
      "/home/nicolas.bruno/anaconda3/lib/python3.7/site-packages/nice-0.1.dev0-py3.7.egg/nice/markers/spectral.py:220: RuntimeWarning: divide by zero encountered in log10\n",
      "  out = 10 * np.log10(out)\n"
     ]
    },
    {
     "name": "stdout",
     "output_type": "stream",
     "text": [
      "Reduction order for nice/marker/PowerSpectralDensitySummary/summary_msf: ['channels']\n",
      "Reduction order for nice/marker/PowerSpectralDensitySummary/summary_sef90: ['channels']\n",
      "Reduction order for nice/marker/PowerSpectralDensitySummary/summary_sef95: ['channels']\n",
      "Running KolmogorovComplexity\n",
      "Elapsed time 1.0741031169891357 sec\n",
      "Reduction order for nice/marker/KolmogorovComplexity/default: ['channels']\n",
      "Filtering  at 83.33 Hz\n",
      "Performing symbolic transformation\n",
      "Reduction order for nice/marker/PermutationEntropy/default: ['channels']\n",
      "Filtering  at 41.67 Hz\n"
     ]
    },
    {
     "name": "stderr",
     "output_type": "stream",
     "text": [
      "/home/nicolas.bruno/anaconda3/lib/python3.7/site-packages/nice-0.1.dev0-py3.7.egg/nice/algorithms/information_theory/permutation_entropy.py:75: RuntimeWarning: divide by zero encountered in log\n",
      "  pe = np.nan_to_num(-np.nansum(count * np.log(count), axis=1))\n",
      "/home/nicolas.bruno/anaconda3/lib/python3.7/site-packages/nice-0.1.dev0-py3.7.egg/nice/algorithms/information_theory/permutation_entropy.py:75: RuntimeWarning: invalid value encountered in multiply\n",
      "  pe = np.nan_to_num(-np.nansum(count * np.log(count), axis=1))\n"
     ]
    },
    {
     "name": "stdout",
     "output_type": "stream",
     "text": [
      "Performing symbolic transformation\n",
      "Reduction order for nice/marker/PermutationEntropy/default: ['channels']\n",
      "Filtering  at 20.83 Hz\n",
      "Performing symbolic transformation\n",
      "Reduction order for nice/marker/PermutationEntropy/default: ['channels']\n",
      "Filtering  at 10.42 Hz\n",
      "Performing symbolic transformation\n",
      "Reduction order for nice/marker/PermutationEntropy/default: ['channels']\n",
      "Autodetected number of jobs 2\n",
      "Computing CSD\n",
      "Using 10-5 locations for CSD\n",
      "Using 2 jobs\n"
     ]
    },
    {
     "name": "stderr",
     "output_type": "stream",
     "text": [
      "[Parallel(n_jobs=2)]: Using backend LokyBackend with 2 concurrent workers.\n",
      "[Parallel(n_jobs=2)]: Done  16 tasks      | elapsed:    1.7s\n"
     ]
    },
    {
     "name": "stdout",
     "output_type": "stream",
     "text": [
      "Filtering  at 83.33 Hz\n"
     ]
    },
    {
     "name": "stderr",
     "output_type": "stream",
     "text": [
      "[Parallel(n_jobs=2)]: Done 738 out of 738 | elapsed:    2.4s finished\n"
     ]
    },
    {
     "name": "stdout",
     "output_type": "stream",
     "text": [
      "Reduction order for nice/marker/SymbolicMutualInformation/default: ['channels_y', 'channels']\n",
      "Autodetected number of jobs 2\n",
      "Computing CSD\n",
      "Using 10-5 locations for CSD\n",
      "Using 2 jobs\n"
     ]
    },
    {
     "name": "stderr",
     "output_type": "stream",
     "text": [
      "[Parallel(n_jobs=2)]: Using backend LokyBackend with 2 concurrent workers.\n",
      "[Parallel(n_jobs=2)]: Done 393 tasks      | elapsed:    0.5s\n"
     ]
    },
    {
     "name": "stdout",
     "output_type": "stream",
     "text": [
      "Filtering  at 41.67 Hz\n"
     ]
    },
    {
     "name": "stderr",
     "output_type": "stream",
     "text": [
      "[Parallel(n_jobs=2)]: Done 738 out of 738 | elapsed:    0.7s finished\n"
     ]
    },
    {
     "name": "stdout",
     "output_type": "stream",
     "text": [
      "Reduction order for nice/marker/SymbolicMutualInformation/default: ['channels_y', 'channels']\n",
      "Autodetected number of jobs 2\n",
      "Computing CSD\n",
      "Using 10-5 locations for CSD\n",
      "Using 2 jobs\n"
     ]
    },
    {
     "name": "stderr",
     "output_type": "stream",
     "text": [
      "[Parallel(n_jobs=2)]: Using backend LokyBackend with 2 concurrent workers.\n",
      "[Parallel(n_jobs=2)]: Done 510 tasks      | elapsed:    0.6s\n",
      "[Parallel(n_jobs=2)]: Done 738 out of 738 | elapsed:    0.8s finished\n"
     ]
    },
    {
     "name": "stdout",
     "output_type": "stream",
     "text": [
      "Filtering  at 20.83 Hz\n",
      "Reduction order for nice/marker/SymbolicMutualInformation/default: ['channels_y', 'channels']\n",
      "Autodetected number of jobs 2\n",
      "Computing CSD\n",
      "Using 10-5 locations for CSD\n",
      "Using 2 jobs\n"
     ]
    },
    {
     "name": "stderr",
     "output_type": "stream",
     "text": [
      "[Parallel(n_jobs=2)]: Using backend LokyBackend with 2 concurrent workers.\n",
      "[Parallel(n_jobs=2)]: Done 510 tasks      | elapsed:    0.6s\n",
      "[Parallel(n_jobs=2)]: Done 738 out of 738 | elapsed:    0.8s finished\n"
     ]
    },
    {
     "name": "stdout",
     "output_type": "stream",
     "text": [
      "Filtering  at 10.42 Hz\n",
      "Reduction order for nice/marker/SymbolicMutualInformation/default: ['channels_y', 'channels']\n",
      "Reduction order for nice/marker/ContingentNegativeVariation/default: ['channels']\n",
      "Reduction order for nice/marker/TimeLockedTopography/p1: ['channels', 'times']\n",
      "Reduction order for nice/marker/TimeLockedTopography/p3a: ['channels', 'times']\n",
      "Reduction order for nice/marker/TimeLockedTopography/p3b: ['channels', 'times']\n",
      "Reading /media/nicolas.bruno/63f8a366-34b7-4896-a7ce-b5fb4ee78535/Nico/MW_eeg_data/minmarker/VP30/VP30_evoked_ar_rereferenced_epo.fif ...\n",
      "    Found the data of interest:\n",
      "        t =    -200.00 ...     600.00 ms\n",
      "        0 CTF compensation matrices available\n",
      "Not setting metadata\n",
      "Not setting metadata\n",
      "738 matching events found\n",
      "No baseline correction applied\n",
      "0 projection items activated\n",
      "Autodetected number of jobs 24\n",
      "Effective window size : 16.384 (s)\n"
     ]
    },
    {
     "name": "stderr",
     "output_type": "stream",
     "text": [
      "[Parallel(n_jobs=24)]: Using backend LokyBackend with 24 concurrent workers.\n",
      "[Parallel(n_jobs=24)]: Done   6 out of  24 | elapsed:    5.8s remaining:   17.5s\n",
      "[Parallel(n_jobs=24)]: Done  11 out of  24 | elapsed:    6.0s remaining:    7.1s\n",
      "[Parallel(n_jobs=24)]: Done  16 out of  24 | elapsed:    6.2s remaining:    3.1s\n",
      "[Parallel(n_jobs=24)]: Done  21 out of  24 | elapsed:    6.4s remaining:    0.9s\n",
      "[Parallel(n_jobs=24)]: Done  24 out of  24 | elapsed:    6.6s finished\n"
     ]
    },
    {
     "name": "stdout",
     "output_type": "stream",
     "text": [
      "Reduction order for nice/marker/PowerSpectralDensity/alpha: ['frequency', 'channels']\n",
      "Reduction order for nice/marker/PowerSpectralDensity/alpha: ['frequency', 'channels']\n",
      "Reduction order for nice/marker/PowerSpectralDensity/delta: ['frequency', 'channels']\n",
      "Reduction order for nice/marker/PowerSpectralDensity/delta: ['frequency', 'channels']\n",
      "Reduction order for nice/marker/PowerSpectralDensity/theta: ['frequency', 'channels']\n",
      "Reduction order for nice/marker/PowerSpectralDensity/theta: ['frequency', 'channels']\n",
      "Reduction order for nice/marker/PowerSpectralDensity/gamma: ['frequency', 'channels']\n",
      "Reduction order for nice/marker/PowerSpectralDensity/theta: ['frequency', 'channels']\n",
      "Reduction order for nice/marker/PowerSpectralDensity/beta: ['frequency', 'channels']\n",
      "Reduction order for nice/marker/PowerSpectralDensity/beta: ['frequency', 'channels']\n",
      "Reduction order for nice/marker/PowerSpectralDensity/summary_se: ['frequency', 'channels']\n",
      "Reduction order for nice/marker/PowerSpectralDensitySummary/summary_msf: ['channels']\n",
      "Reduction order for nice/marker/PowerSpectralDensitySummary/summary_sef90: ['channels']\n",
      "Reduction order for nice/marker/PowerSpectralDensitySummary/summary_sef95: ['channels']\n",
      "Running KolmogorovComplexity\n",
      "Elapsed time 1.0703456401824951 sec\n",
      "Reduction order for nice/marker/KolmogorovComplexity/default: ['channels']\n",
      "Filtering  at 83.33 Hz\n",
      "Performing symbolic transformation\n",
      "Reduction order for nice/marker/PermutationEntropy/default: ['channels']\n",
      "Filtering  at 41.67 Hz\n"
     ]
    },
    {
     "name": "stderr",
     "output_type": "stream",
     "text": [
      "/home/nicolas.bruno/anaconda3/lib/python3.7/site-packages/nice-0.1.dev0-py3.7.egg/nice/algorithms/information_theory/permutation_entropy.py:75: RuntimeWarning: divide by zero encountered in log\n",
      "  pe = np.nan_to_num(-np.nansum(count * np.log(count), axis=1))\n",
      "/home/nicolas.bruno/anaconda3/lib/python3.7/site-packages/nice-0.1.dev0-py3.7.egg/nice/algorithms/information_theory/permutation_entropy.py:75: RuntimeWarning: invalid value encountered in multiply\n",
      "  pe = np.nan_to_num(-np.nansum(count * np.log(count), axis=1))\n"
     ]
    },
    {
     "name": "stdout",
     "output_type": "stream",
     "text": [
      "Performing symbolic transformation\n",
      "Reduction order for nice/marker/PermutationEntropy/default: ['channels']\n",
      "Filtering  at 20.83 Hz\n",
      "Performing symbolic transformation\n",
      "Reduction order for nice/marker/PermutationEntropy/default: ['channels']\n",
      "Filtering  at 10.42 Hz\n",
      "Performing symbolic transformation\n",
      "Reduction order for nice/marker/PermutationEntropy/default: ['channels']\n",
      "Autodetected number of jobs 2\n",
      "Computing CSD\n",
      "Using 10-5 locations for CSD\n",
      "Using 2 jobs\n"
     ]
    },
    {
     "name": "stderr",
     "output_type": "stream",
     "text": [
      "[Parallel(n_jobs=2)]: Using backend LokyBackend with 2 concurrent workers.\n",
      "[Parallel(n_jobs=2)]: Done  18 tasks      | elapsed:    1.7s\n"
     ]
    },
    {
     "name": "stdout",
     "output_type": "stream",
     "text": [
      "Filtering  at 83.33 Hz\n"
     ]
    },
    {
     "name": "stderr",
     "output_type": "stream",
     "text": [
      "[Parallel(n_jobs=2)]: Done 738 out of 738 | elapsed:    2.4s finished\n"
     ]
    },
    {
     "name": "stdout",
     "output_type": "stream",
     "text": [
      "Reduction order for nice/marker/SymbolicMutualInformation/default: ['channels_y', 'channels']\n",
      "Autodetected number of jobs 2\n",
      "Computing CSD\n",
      "Using 10-5 locations for CSD\n",
      "Using 2 jobs\n"
     ]
    },
    {
     "name": "stderr",
     "output_type": "stream",
     "text": [
      "[Parallel(n_jobs=2)]: Using backend LokyBackend with 2 concurrent workers.\n",
      "[Parallel(n_jobs=2)]: Done 393 tasks      | elapsed:    0.5s\n"
     ]
    },
    {
     "name": "stdout",
     "output_type": "stream",
     "text": [
      "Filtering  at 41.67 Hz\n"
     ]
    },
    {
     "name": "stderr",
     "output_type": "stream",
     "text": [
      "[Parallel(n_jobs=2)]: Done 738 out of 738 | elapsed:    0.8s finished\n"
     ]
    },
    {
     "name": "stdout",
     "output_type": "stream",
     "text": [
      "Reduction order for nice/marker/SymbolicMutualInformation/default: ['channels_y', 'channels']\n",
      "Autodetected number of jobs 2\n",
      "Computing CSD\n",
      "Using 10-5 locations for CSD\n",
      "Using 2 jobs\n"
     ]
    },
    {
     "name": "stderr",
     "output_type": "stream",
     "text": [
      "[Parallel(n_jobs=2)]: Using backend LokyBackend with 2 concurrent workers.\n",
      "[Parallel(n_jobs=2)]: Done 510 tasks      | elapsed:    0.6s\n"
     ]
    },
    {
     "name": "stdout",
     "output_type": "stream",
     "text": [
      "Filtering  at 20.83 Hz\n"
     ]
    },
    {
     "name": "stderr",
     "output_type": "stream",
     "text": [
      "[Parallel(n_jobs=2)]: Done 738 out of 738 | elapsed:    0.8s finished\n"
     ]
    },
    {
     "name": "stdout",
     "output_type": "stream",
     "text": [
      "Reduction order for nice/marker/SymbolicMutualInformation/default: ['channels_y', 'channels']\n",
      "Autodetected number of jobs 2\n",
      "Computing CSD\n",
      "Using 10-5 locations for CSD\n",
      "Using 2 jobs\n"
     ]
    },
    {
     "name": "stderr",
     "output_type": "stream",
     "text": [
      "[Parallel(n_jobs=2)]: Using backend LokyBackend with 2 concurrent workers.\n",
      "[Parallel(n_jobs=2)]: Done 510 tasks      | elapsed:    0.6s\n"
     ]
    },
    {
     "name": "stdout",
     "output_type": "stream",
     "text": [
      "Filtering  at 10.42 Hz\n"
     ]
    },
    {
     "name": "stderr",
     "output_type": "stream",
     "text": [
      "[Parallel(n_jobs=2)]: Done 738 out of 738 | elapsed:    0.8s finished\n"
     ]
    },
    {
     "name": "stdout",
     "output_type": "stream",
     "text": [
      "Reduction order for nice/marker/SymbolicMutualInformation/default: ['channels_y', 'channels']\n",
      "Reduction order for nice/marker/ContingentNegativeVariation/default: ['channels']\n",
      "Reduction order for nice/marker/TimeLockedTopography/p1: ['channels', 'times']\n",
      "Reduction order for nice/marker/TimeLockedTopography/p3a: ['channels', 'times']\n",
      "Reduction order for nice/marker/TimeLockedTopography/p3b: ['channels', 'times']\n",
      "\n",
      "#########################################\n",
      "Computing markers for participant VP31\n",
      "#########################################\n",
      "\n",
      "Reading /media/nicolas.bruno/63f8a366-34b7-4896-a7ce-b5fb4ee78535/Nico/MW_eeg_data/minmarker/VP31/VP31_evoked_ar_subtracted_epo.fif ...\n",
      "    Found the data of interest:\n",
      "        t =    -200.00 ...     600.00 ms\n",
      "        0 CTF compensation matrices available\n",
      "Not setting metadata\n",
      "Not setting metadata\n",
      "201 matching events found\n",
      "No baseline correction applied\n",
      "0 projection items activated\n",
      "Autodetected number of jobs 24\n",
      "Effective window size : 16.384 (s)\n"
     ]
    },
    {
     "name": "stderr",
     "output_type": "stream",
     "text": [
      "[Parallel(n_jobs=24)]: Using backend LokyBackend with 24 concurrent workers.\n",
      "[Parallel(n_jobs=24)]: Done   6 out of  24 | elapsed:    4.0s remaining:   12.1s\n",
      "[Parallel(n_jobs=24)]: Done  11 out of  24 | elapsed:    4.1s remaining:    4.9s\n",
      "[Parallel(n_jobs=24)]: Done  16 out of  24 | elapsed:    4.2s remaining:    2.1s\n"
     ]
    },
    {
     "name": "stdout",
     "output_type": "stream",
     "text": [
      "Reduction order for nice/marker/PowerSpectralDensity/alpha: ['frequency', 'channels']\n",
      "Reduction order for nice/marker/PowerSpectralDensity/alpha: ['frequency', 'channels']\n",
      "Reduction order for nice/marker/PowerSpectralDensity/delta: ['frequency', 'channels']\n",
      "Reduction order for nice/marker/PowerSpectralDensity/delta: ['frequency', 'channels']\n",
      "Reduction order for nice/marker/PowerSpectralDensity/theta: ['frequency', 'channels']\n",
      "Reduction order for nice/marker/PowerSpectralDensity/theta: ['frequency', 'channels']\n",
      "Reduction order for nice/marker/PowerSpectralDensity/gamma: ['frequency', 'channels']\n"
     ]
    },
    {
     "name": "stderr",
     "output_type": "stream",
     "text": [
      "[Parallel(n_jobs=24)]: Done  21 out of  24 | elapsed:    4.3s remaining:    0.6s\n",
      "[Parallel(n_jobs=24)]: Done  24 out of  24 | elapsed:    4.3s finished\n",
      "/home/nicolas.bruno/anaconda3/lib/python3.7/site-packages/nice-0.1.dev0-py3.7.egg/nice/markers/spectral.py:128: RuntimeWarning: invalid value encountered in true_divide\n",
      "  self.data_norm_ = self.data_ / self.data_.sum(axis=-1)[..., None]\n",
      "/home/nicolas.bruno/anaconda3/lib/python3.7/site-packages/nice-0.1.dev0-py3.7.egg/nice/markers/spectral.py:220: RuntimeWarning: divide by zero encountered in log10\n",
      "  out = 10 * np.log10(out)\n"
     ]
    },
    {
     "name": "stdout",
     "output_type": "stream",
     "text": [
      "Reduction order for nice/marker/PowerSpectralDensity/theta: ['frequency', 'channels']\n",
      "Reduction order for nice/marker/PowerSpectralDensity/beta: ['frequency', 'channels']\n",
      "Reduction order for nice/marker/PowerSpectralDensity/beta: ['frequency', 'channels']\n",
      "Reduction order for nice/marker/PowerSpectralDensity/summary_se: ['frequency', 'channels']\n",
      "Reduction order for nice/marker/PowerSpectralDensitySummary/summary_msf: ['channels']\n",
      "Reduction order for nice/marker/PowerSpectralDensitySummary/summary_sef90: ['channels']\n",
      "Reduction order for nice/marker/PowerSpectralDensitySummary/summary_sef95: ['channels']\n",
      "Running KolmogorovComplexity\n",
      "Elapsed time 0.2902519702911377 sec\n",
      "Reduction order for nice/marker/KolmogorovComplexity/default: ['channels']\n",
      "Filtering  at 83.33 Hz\n",
      "Performing symbolic transformation\n",
      "Reduction order for nice/marker/PermutationEntropy/default: ['channels']\n",
      "Filtering  at 41.67 Hz\n",
      "Performing symbolic transformation\n"
     ]
    },
    {
     "name": "stderr",
     "output_type": "stream",
     "text": [
      "/home/nicolas.bruno/anaconda3/lib/python3.7/site-packages/nice-0.1.dev0-py3.7.egg/nice/algorithms/information_theory/permutation_entropy.py:75: RuntimeWarning: divide by zero encountered in log\n",
      "  pe = np.nan_to_num(-np.nansum(count * np.log(count), axis=1))\n",
      "/home/nicolas.bruno/anaconda3/lib/python3.7/site-packages/nice-0.1.dev0-py3.7.egg/nice/algorithms/information_theory/permutation_entropy.py:75: RuntimeWarning: invalid value encountered in multiply\n",
      "  pe = np.nan_to_num(-np.nansum(count * np.log(count), axis=1))\n"
     ]
    },
    {
     "name": "stdout",
     "output_type": "stream",
     "text": [
      "Reduction order for nice/marker/PermutationEntropy/default: ['channels']\n",
      "Filtering  at 20.83 Hz\n",
      "Performing symbolic transformation\n",
      "Reduction order for nice/marker/PermutationEntropy/default: ['channels']\n",
      "Filtering  at 10.42 Hz\n",
      "Performing symbolic transformation\n",
      "Reduction order for nice/marker/PermutationEntropy/default: ['channels']\n",
      "Autodetected number of jobs 2\n",
      "Computing CSD\n",
      "Using 10-5 locations for CSD\n",
      "Using 2 jobs\n"
     ]
    },
    {
     "name": "stderr",
     "output_type": "stream",
     "text": [
      "[Parallel(n_jobs=2)]: Using backend LokyBackend with 2 concurrent workers.\n",
      "[Parallel(n_jobs=2)]: Done  16 tasks      | elapsed:    1.7s\n"
     ]
    },
    {
     "name": "stdout",
     "output_type": "stream",
     "text": [
      "Filtering  at 83.33 Hz\n"
     ]
    },
    {
     "name": "stderr",
     "output_type": "stream",
     "text": [
      "[Parallel(n_jobs=2)]: Done 201 out of 201 | elapsed:    2.0s finished\n"
     ]
    },
    {
     "name": "stdout",
     "output_type": "stream",
     "text": [
      "Reduction order for nice/marker/SymbolicMutualInformation/default: ['channels_y', 'channels']\n",
      "Autodetected number of jobs 2\n",
      "Computing CSD\n",
      "Using 10-5 locations for CSD\n",
      "Using 2 jobs\n"
     ]
    },
    {
     "name": "stderr",
     "output_type": "stream",
     "text": [
      "[Parallel(n_jobs=2)]: Using backend LokyBackend with 2 concurrent workers.\n",
      "[Parallel(n_jobs=2)]: Done 138 tasks      | elapsed:    0.2s\n"
     ]
    },
    {
     "name": "stdout",
     "output_type": "stream",
     "text": [
      "Filtering  at 41.67 Hz\n"
     ]
    },
    {
     "name": "stderr",
     "output_type": "stream",
     "text": [
      "[Parallel(n_jobs=2)]: Done 201 out of 201 | elapsed:    0.3s finished\n"
     ]
    },
    {
     "name": "stdout",
     "output_type": "stream",
     "text": [
      "Reduction order for nice/marker/SymbolicMutualInformation/default: ['channels_y', 'channels']\n",
      "Autodetected number of jobs 2\n",
      "Computing CSD\n",
      "Using 10-5 locations for CSD\n",
      "Using 2 jobs\n"
     ]
    },
    {
     "name": "stderr",
     "output_type": "stream",
     "text": [
      "[Parallel(n_jobs=2)]: Using backend LokyBackend with 2 concurrent workers.\n"
     ]
    },
    {
     "name": "stdout",
     "output_type": "stream",
     "text": [
      "Filtering  at 20.83 Hz\n"
     ]
    },
    {
     "name": "stderr",
     "output_type": "stream",
     "text": [
      "[Parallel(n_jobs=2)]: Done 138 tasks      | elapsed:    0.2s\n",
      "[Parallel(n_jobs=2)]: Done 201 out of 201 | elapsed:    0.3s finished\n"
     ]
    },
    {
     "name": "stdout",
     "output_type": "stream",
     "text": [
      "Reduction order for nice/marker/SymbolicMutualInformation/default: ['channels_y', 'channels']\n",
      "Autodetected number of jobs 2\n",
      "Computing CSD\n",
      "Using 10-5 locations for CSD\n",
      "Using 2 jobs\n"
     ]
    },
    {
     "name": "stderr",
     "output_type": "stream",
     "text": [
      "[Parallel(n_jobs=2)]: Using backend LokyBackend with 2 concurrent workers.\n"
     ]
    },
    {
     "name": "stdout",
     "output_type": "stream",
     "text": [
      "Filtering  at 10.42 Hz\n"
     ]
    },
    {
     "name": "stderr",
     "output_type": "stream",
     "text": [
      "[Parallel(n_jobs=2)]: Done 138 tasks      | elapsed:    0.2s\n",
      "[Parallel(n_jobs=2)]: Done 201 out of 201 | elapsed:    0.3s finished\n"
     ]
    },
    {
     "name": "stdout",
     "output_type": "stream",
     "text": [
      "Reduction order for nice/marker/SymbolicMutualInformation/default: ['channels_y', 'channels']\n",
      "Reduction order for nice/marker/ContingentNegativeVariation/default: ['channels']\n",
      "Reduction order for nice/marker/TimeLockedTopography/p1: ['channels', 'times']\n",
      "Reduction order for nice/marker/TimeLockedTopography/p3a: ['channels', 'times']\n",
      "Reduction order for nice/marker/TimeLockedTopography/p3b: ['channels', 'times']\n",
      "Reading /media/nicolas.bruno/63f8a366-34b7-4896-a7ce-b5fb4ee78535/Nico/MW_eeg_data/minmarker/VP31/VP31_evoked_ar_rereferenced_epo.fif ...\n",
      "    Found the data of interest:\n",
      "        t =    -200.00 ...     600.00 ms\n",
      "        0 CTF compensation matrices available\n",
      "Not setting metadata\n",
      "Not setting metadata\n",
      "201 matching events found\n",
      "No baseline correction applied\n",
      "0 projection items activated\n",
      "Autodetected number of jobs 24\n",
      "Effective window size : 16.384 (s)\n"
     ]
    },
    {
     "name": "stderr",
     "output_type": "stream",
     "text": [
      "[Parallel(n_jobs=24)]: Using backend LokyBackend with 24 concurrent workers.\n",
      "[Parallel(n_jobs=24)]: Done   6 out of  24 | elapsed:    4.1s remaining:   12.2s\n",
      "[Parallel(n_jobs=24)]: Done  11 out of  24 | elapsed:    4.2s remaining:    4.9s\n",
      "[Parallel(n_jobs=24)]: Done  16 out of  24 | elapsed:    4.2s remaining:    2.1s\n"
     ]
    },
    {
     "name": "stdout",
     "output_type": "stream",
     "text": [
      "Reduction order for nice/marker/PowerSpectralDensity/alpha: ['frequency', 'channels']\n",
      "Reduction order for nice/marker/PowerSpectralDensity/alpha: ['frequency', 'channels']\n",
      "Reduction order for nice/marker/PowerSpectralDensity/delta: ['frequency', 'channels']\n",
      "Reduction order for nice/marker/PowerSpectralDensity/delta: ['frequency', 'channels']\n",
      "Reduction order for nice/marker/PowerSpectralDensity/theta: ['frequency', 'channels']\n",
      "Reduction order for nice/marker/PowerSpectralDensity/theta: ['frequency', 'channels']\n",
      "Reduction order for nice/marker/PowerSpectralDensity/gamma: ['frequency', 'channels']\n",
      "Reduction order for nice/marker/PowerSpectralDensity/theta: ['frequency', 'channels']\n"
     ]
    },
    {
     "name": "stderr",
     "output_type": "stream",
     "text": [
      "[Parallel(n_jobs=24)]: Done  21 out of  24 | elapsed:    4.3s remaining:    0.6s\n",
      "[Parallel(n_jobs=24)]: Done  24 out of  24 | elapsed:    4.3s finished\n"
     ]
    },
    {
     "name": "stdout",
     "output_type": "stream",
     "text": [
      "Reduction order for nice/marker/PowerSpectralDensity/beta: ['frequency', 'channels']\n",
      "Reduction order for nice/marker/PowerSpectralDensity/beta: ['frequency', 'channels']\n",
      "Reduction order for nice/marker/PowerSpectralDensity/summary_se: ['frequency', 'channels']\n",
      "Reduction order for nice/marker/PowerSpectralDensitySummary/summary_msf: ['channels']\n",
      "Reduction order for nice/marker/PowerSpectralDensitySummary/summary_sef90: ['channels']\n",
      "Reduction order for nice/marker/PowerSpectralDensitySummary/summary_sef95: ['channels']\n",
      "Running KolmogorovComplexity\n",
      "Elapsed time 0.2864375114440918 sec\n",
      "Reduction order for nice/marker/KolmogorovComplexity/default: ['channels']\n",
      "Filtering  at 83.33 Hz\n",
      "Performing symbolic transformation\n",
      "Reduction order for nice/marker/PermutationEntropy/default: ['channels']\n",
      "Filtering  at 41.67 Hz\n",
      "Performing symbolic transformation\n",
      "Reduction order for nice/marker/PermutationEntropy/default: ['channels']\n",
      "Filtering  at 20.83 Hz\n",
      "Performing symbolic transformation\n",
      "Reduction order for nice/marker/PermutationEntropy/default: ['channels']\n",
      "Filtering  at 10.42 Hz\n",
      "Performing symbolic transformation\n",
      "Reduction order for nice/marker/PermutationEntropy/default: ['channels']\n",
      "Autodetected number of jobs 2\n",
      "Computing CSD\n",
      "Using 10-5 locations for CSD\n",
      "Using 2 jobs\n"
     ]
    },
    {
     "name": "stderr",
     "output_type": "stream",
     "text": [
      "/home/nicolas.bruno/anaconda3/lib/python3.7/site-packages/nice-0.1.dev0-py3.7.egg/nice/algorithms/information_theory/permutation_entropy.py:75: RuntimeWarning: divide by zero encountered in log\n",
      "  pe = np.nan_to_num(-np.nansum(count * np.log(count), axis=1))\n",
      "/home/nicolas.bruno/anaconda3/lib/python3.7/site-packages/nice-0.1.dev0-py3.7.egg/nice/algorithms/information_theory/permutation_entropy.py:75: RuntimeWarning: invalid value encountered in multiply\n",
      "  pe = np.nan_to_num(-np.nansum(count * np.log(count), axis=1))\n",
      "[Parallel(n_jobs=2)]: Using backend LokyBackend with 2 concurrent workers.\n",
      "[Parallel(n_jobs=2)]: Done  18 tasks      | elapsed:    1.7s\n"
     ]
    },
    {
     "name": "stdout",
     "output_type": "stream",
     "text": [
      "Filtering  at 83.33 Hz\n"
     ]
    },
    {
     "name": "stderr",
     "output_type": "stream",
     "text": [
      "[Parallel(n_jobs=2)]: Done 201 out of 201 | elapsed:    2.0s finished\n"
     ]
    },
    {
     "name": "stdout",
     "output_type": "stream",
     "text": [
      "Reduction order for nice/marker/SymbolicMutualInformation/default: ['channels_y', 'channels']\n",
      "Autodetected number of jobs 2\n",
      "Computing CSD\n",
      "Using 10-5 locations for CSD\n",
      "Using 2 jobs\n"
     ]
    },
    {
     "name": "stderr",
     "output_type": "stream",
     "text": [
      "[Parallel(n_jobs=2)]: Using backend LokyBackend with 2 concurrent workers.\n",
      "[Parallel(n_jobs=2)]: Done 138 tasks      | elapsed:    0.2s\n"
     ]
    },
    {
     "name": "stdout",
     "output_type": "stream",
     "text": [
      "Filtering  at 41.67 Hz\n"
     ]
    },
    {
     "name": "stderr",
     "output_type": "stream",
     "text": [
      "[Parallel(n_jobs=2)]: Done 201 out of 201 | elapsed:    0.3s finished\n"
     ]
    },
    {
     "name": "stdout",
     "output_type": "stream",
     "text": [
      "Reduction order for nice/marker/SymbolicMutualInformation/default: ['channels_y', 'channels']\n",
      "Autodetected number of jobs 2\n",
      "Computing CSD\n",
      "Using 10-5 locations for CSD\n",
      "Using 2 jobs\n"
     ]
    },
    {
     "name": "stderr",
     "output_type": "stream",
     "text": [
      "[Parallel(n_jobs=2)]: Using backend LokyBackend with 2 concurrent workers.\n"
     ]
    },
    {
     "name": "stdout",
     "output_type": "stream",
     "text": [
      "Filtering  at 20.83 Hz\n"
     ]
    },
    {
     "name": "stderr",
     "output_type": "stream",
     "text": [
      "[Parallel(n_jobs=2)]: Done 138 tasks      | elapsed:    0.3s\n",
      "[Parallel(n_jobs=2)]: Done 201 out of 201 | elapsed:    0.4s finished\n"
     ]
    },
    {
     "name": "stdout",
     "output_type": "stream",
     "text": [
      "Reduction order for nice/marker/SymbolicMutualInformation/default: ['channels_y', 'channels']\n",
      "Autodetected number of jobs 2\n",
      "Computing CSD\n",
      "Using 10-5 locations for CSD\n",
      "Using 2 jobs\n"
     ]
    },
    {
     "name": "stderr",
     "output_type": "stream",
     "text": [
      "[Parallel(n_jobs=2)]: Using backend LokyBackend with 2 concurrent workers.\n"
     ]
    },
    {
     "name": "stdout",
     "output_type": "stream",
     "text": [
      "Filtering  at 10.42 Hz\n"
     ]
    },
    {
     "name": "stderr",
     "output_type": "stream",
     "text": [
      "[Parallel(n_jobs=2)]: Done 138 tasks      | elapsed:    0.2s\n",
      "[Parallel(n_jobs=2)]: Done 201 out of 201 | elapsed:    0.3s finished\n"
     ]
    },
    {
     "name": "stdout",
     "output_type": "stream",
     "text": [
      "Reduction order for nice/marker/SymbolicMutualInformation/default: ['channels_y', 'channels']\n",
      "Reduction order for nice/marker/ContingentNegativeVariation/default: ['channels']\n",
      "Reduction order for nice/marker/TimeLockedTopography/p1: ['channels', 'times']\n",
      "Reduction order for nice/marker/TimeLockedTopography/p3a: ['channels', 'times']\n",
      "Reduction order for nice/marker/TimeLockedTopography/p3b: ['channels', 'times']\n",
      "\n",
      "#########################################\n",
      "Computing markers for participant VP32\n",
      "#########################################\n",
      "\n",
      "Reading /media/nicolas.bruno/63f8a366-34b7-4896-a7ce-b5fb4ee78535/Nico/MW_eeg_data/minmarker/VP32/VP32_evoked_ar_subtracted_epo.fif ...\n",
      "    Found the data of interest:\n",
      "        t =    -200.00 ...     600.00 ms\n",
      "        0 CTF compensation matrices available\n",
      "Not setting metadata\n",
      "Not setting metadata\n",
      "697 matching events found\n",
      "No baseline correction applied\n",
      "0 projection items activated\n",
      "Autodetected number of jobs 24\n",
      "Effective window size : 16.384 (s)\n"
     ]
    },
    {
     "name": "stderr",
     "output_type": "stream",
     "text": [
      "[Parallel(n_jobs=24)]: Using backend LokyBackend with 24 concurrent workers.\n",
      "[Parallel(n_jobs=24)]: Done   6 out of  24 | elapsed:    5.5s remaining:   16.4s\n",
      "[Parallel(n_jobs=24)]: Done  11 out of  24 | elapsed:    5.7s remaining:    6.7s\n",
      "[Parallel(n_jobs=24)]: Done  16 out of  24 | elapsed:    5.8s remaining:    2.9s\n",
      "[Parallel(n_jobs=24)]: Done  21 out of  24 | elapsed:    6.0s remaining:    0.9s\n",
      "[Parallel(n_jobs=24)]: Done  24 out of  24 | elapsed:    6.2s finished\n"
     ]
    },
    {
     "name": "stdout",
     "output_type": "stream",
     "text": [
      "Reduction order for nice/marker/PowerSpectralDensity/alpha: ['frequency', 'channels']\n",
      "Reduction order for nice/marker/PowerSpectralDensity/alpha: ['frequency', 'channels']\n",
      "Reduction order for nice/marker/PowerSpectralDensity/delta: ['frequency', 'channels']\n",
      "Reduction order for nice/marker/PowerSpectralDensity/delta: ['frequency', 'channels']\n",
      "Reduction order for nice/marker/PowerSpectralDensity/theta: ['frequency', 'channels']\n",
      "Reduction order for nice/marker/PowerSpectralDensity/theta: ['frequency', 'channels']\n",
      "Reduction order for nice/marker/PowerSpectralDensity/gamma: ['frequency', 'channels']\n",
      "Reduction order for nice/marker/PowerSpectralDensity/theta: ['frequency', 'channels']\n",
      "Reduction order for nice/marker/PowerSpectralDensity/beta: ['frequency', 'channels']\n",
      "Reduction order for nice/marker/PowerSpectralDensity/beta: ['frequency', 'channels']\n",
      "Reduction order for nice/marker/PowerSpectralDensity/summary_se: ['frequency', 'channels']\n"
     ]
    },
    {
     "name": "stderr",
     "output_type": "stream",
     "text": [
      "/home/nicolas.bruno/anaconda3/lib/python3.7/site-packages/nice-0.1.dev0-py3.7.egg/nice/markers/spectral.py:128: RuntimeWarning: invalid value encountered in true_divide\n",
      "  self.data_norm_ = self.data_ / self.data_.sum(axis=-1)[..., None]\n",
      "/home/nicolas.bruno/anaconda3/lib/python3.7/site-packages/nice-0.1.dev0-py3.7.egg/nice/markers/spectral.py:220: RuntimeWarning: divide by zero encountered in log10\n",
      "  out = 10 * np.log10(out)\n"
     ]
    },
    {
     "name": "stdout",
     "output_type": "stream",
     "text": [
      "Reduction order for nice/marker/PowerSpectralDensitySummary/summary_msf: ['channels']\n",
      "Reduction order for nice/marker/PowerSpectralDensitySummary/summary_sef90: ['channels']\n",
      "Reduction order for nice/marker/PowerSpectralDensitySummary/summary_sef95: ['channels']\n",
      "Running KolmogorovComplexity\n",
      "Elapsed time 1.0296311378479004 sec\n",
      "Reduction order for nice/marker/KolmogorovComplexity/default: ['channels']\n",
      "Filtering  at 83.33 Hz\n",
      "Performing symbolic transformation\n",
      "Reduction order for nice/marker/PermutationEntropy/default: ['channels']\n",
      "Filtering  at 41.67 Hz\n",
      "Performing symbolic transformation\n",
      "Reduction order for nice/marker/PermutationEntropy/default: ['channels']\n",
      "Filtering  at 20.83 Hz\n",
      "Performing symbolic transformation\n",
      "Reduction order for nice/marker/PermutationEntropy/default: ['channels']\n",
      "Filtering  at 10.42 Hz\n",
      "Performing symbolic transformation\n",
      "Reduction order for nice/marker/PermutationEntropy/default: ['channels']\n",
      "Autodetected number of jobs 2\n",
      "Computing CSD\n",
      "Using 10-5 locations for CSD\n",
      "Using 2 jobs\n"
     ]
    },
    {
     "name": "stderr",
     "output_type": "stream",
     "text": [
      "/home/nicolas.bruno/anaconda3/lib/python3.7/site-packages/nice-0.1.dev0-py3.7.egg/nice/algorithms/information_theory/permutation_entropy.py:75: RuntimeWarning: divide by zero encountered in log\n",
      "  pe = np.nan_to_num(-np.nansum(count * np.log(count), axis=1))\n",
      "/home/nicolas.bruno/anaconda3/lib/python3.7/site-packages/nice-0.1.dev0-py3.7.egg/nice/algorithms/information_theory/permutation_entropy.py:75: RuntimeWarning: invalid value encountered in multiply\n",
      "  pe = np.nan_to_num(-np.nansum(count * np.log(count), axis=1))\n",
      "[Parallel(n_jobs=2)]: Using backend LokyBackend with 2 concurrent workers.\n",
      "[Parallel(n_jobs=2)]: Done  18 tasks      | elapsed:    1.7s\n"
     ]
    },
    {
     "name": "stdout",
     "output_type": "stream",
     "text": [
      "Filtering  at 83.33 Hz\n"
     ]
    },
    {
     "name": "stderr",
     "output_type": "stream",
     "text": [
      "[Parallel(n_jobs=2)]: Done 697 out of 697 | elapsed:    2.5s finished\n"
     ]
    },
    {
     "name": "stdout",
     "output_type": "stream",
     "text": [
      "Reduction order for nice/marker/SymbolicMutualInformation/default: ['channels_y', 'channels']\n",
      "Autodetected number of jobs 2\n",
      "Computing CSD\n",
      "Using 10-5 locations for CSD\n",
      "Using 2 jobs\n"
     ]
    },
    {
     "name": "stderr",
     "output_type": "stream",
     "text": [
      "[Parallel(n_jobs=2)]: Using backend LokyBackend with 2 concurrent workers.\n",
      "[Parallel(n_jobs=2)]: Done 510 tasks      | elapsed:    0.6s\n",
      "[Parallel(n_jobs=2)]: Done 697 out of 697 | elapsed:    0.8s finished\n"
     ]
    },
    {
     "name": "stdout",
     "output_type": "stream",
     "text": [
      "Filtering  at 41.67 Hz\n",
      "Reduction order for nice/marker/SymbolicMutualInformation/default: ['channels_y', 'channels']\n",
      "Autodetected number of jobs 2\n",
      "Computing CSD\n",
      "Using 10-5 locations for CSD\n",
      "Using 2 jobs\n"
     ]
    },
    {
     "name": "stderr",
     "output_type": "stream",
     "text": [
      "[Parallel(n_jobs=2)]: Using backend LokyBackend with 2 concurrent workers.\n",
      "[Parallel(n_jobs=2)]: Done 391 tasks      | elapsed:    0.5s\n",
      "[Parallel(n_jobs=2)]: Done 697 out of 697 | elapsed:    0.7s finished\n"
     ]
    },
    {
     "name": "stdout",
     "output_type": "stream",
     "text": [
      "Filtering  at 20.83 Hz\n",
      "Reduction order for nice/marker/SymbolicMutualInformation/default: ['channels_y', 'channels']\n",
      "Autodetected number of jobs 2\n",
      "Computing CSD\n",
      "Using 10-5 locations for CSD\n",
      "Using 2 jobs\n"
     ]
    },
    {
     "name": "stderr",
     "output_type": "stream",
     "text": [
      "[Parallel(n_jobs=2)]: Using backend LokyBackend with 2 concurrent workers.\n",
      "[Parallel(n_jobs=2)]: Done 391 tasks      | elapsed:    0.6s\n",
      "[Parallel(n_jobs=2)]: Done 697 out of 697 | elapsed:    0.7s finished\n"
     ]
    },
    {
     "name": "stdout",
     "output_type": "stream",
     "text": [
      "Filtering  at 10.42 Hz\n",
      "Reduction order for nice/marker/SymbolicMutualInformation/default: ['channels_y', 'channels']\n",
      "Reduction order for nice/marker/ContingentNegativeVariation/default: ['channels']\n",
      "Reduction order for nice/marker/TimeLockedTopography/p1: ['channels', 'times']\n",
      "Reduction order for nice/marker/TimeLockedTopography/p3a: ['channels', 'times']\n",
      "Reduction order for nice/marker/TimeLockedTopography/p3b: ['channels', 'times']\n",
      "Reading /media/nicolas.bruno/63f8a366-34b7-4896-a7ce-b5fb4ee78535/Nico/MW_eeg_data/minmarker/VP32/VP32_evoked_ar_rereferenced_epo.fif ...\n",
      "    Found the data of interest:\n",
      "        t =    -200.00 ...     600.00 ms\n",
      "        0 CTF compensation matrices available\n",
      "Not setting metadata\n",
      "Not setting metadata\n",
      "697 matching events found\n",
      "No baseline correction applied\n",
      "0 projection items activated\n",
      "Autodetected number of jobs 24\n",
      "Effective window size : 16.384 (s)\n"
     ]
    },
    {
     "name": "stderr",
     "output_type": "stream",
     "text": [
      "[Parallel(n_jobs=24)]: Using backend LokyBackend with 24 concurrent workers.\n",
      "[Parallel(n_jobs=24)]: Done   6 out of  24 | elapsed:    5.6s remaining:   16.7s\n",
      "[Parallel(n_jobs=24)]: Done  11 out of  24 | elapsed:    5.7s remaining:    6.8s\n",
      "[Parallel(n_jobs=24)]: Done  16 out of  24 | elapsed:    5.9s remaining:    3.0s\n",
      "[Parallel(n_jobs=24)]: Done  21 out of  24 | elapsed:    6.1s remaining:    0.9s\n",
      "[Parallel(n_jobs=24)]: Done  24 out of  24 | elapsed:    6.2s finished\n"
     ]
    },
    {
     "name": "stdout",
     "output_type": "stream",
     "text": [
      "Reduction order for nice/marker/PowerSpectralDensity/alpha: ['frequency', 'channels']\n",
      "Reduction order for nice/marker/PowerSpectralDensity/alpha: ['frequency', 'channels']\n",
      "Reduction order for nice/marker/PowerSpectralDensity/delta: ['frequency', 'channels']\n",
      "Reduction order for nice/marker/PowerSpectralDensity/delta: ['frequency', 'channels']\n",
      "Reduction order for nice/marker/PowerSpectralDensity/theta: ['frequency', 'channels']\n",
      "Reduction order for nice/marker/PowerSpectralDensity/theta: ['frequency', 'channels']\n",
      "Reduction order for nice/marker/PowerSpectralDensity/gamma: ['frequency', 'channels']\n",
      "Reduction order for nice/marker/PowerSpectralDensity/theta: ['frequency', 'channels']\n",
      "Reduction order for nice/marker/PowerSpectralDensity/beta: ['frequency', 'channels']\n",
      "Reduction order for nice/marker/PowerSpectralDensity/beta: ['frequency', 'channels']\n",
      "Reduction order for nice/marker/PowerSpectralDensity/summary_se: ['frequency', 'channels']\n",
      "Reduction order for nice/marker/PowerSpectralDensitySummary/summary_msf: ['channels']\n",
      "Reduction order for nice/marker/PowerSpectralDensitySummary/summary_sef90: ['channels']\n",
      "Reduction order for nice/marker/PowerSpectralDensitySummary/summary_sef95: ['channels']\n",
      "Running KolmogorovComplexity\n",
      "Elapsed time 1.020594596862793 sec\n",
      "Reduction order for nice/marker/KolmogorovComplexity/default: ['channels']\n",
      "Filtering  at 83.33 Hz\n",
      "Performing symbolic transformation\n",
      "Reduction order for nice/marker/PermutationEntropy/default: ['channels']\n",
      "Filtering  at 41.67 Hz\n"
     ]
    },
    {
     "name": "stderr",
     "output_type": "stream",
     "text": [
      "/home/nicolas.bruno/anaconda3/lib/python3.7/site-packages/nice-0.1.dev0-py3.7.egg/nice/algorithms/information_theory/permutation_entropy.py:75: RuntimeWarning: divide by zero encountered in log\n",
      "  pe = np.nan_to_num(-np.nansum(count * np.log(count), axis=1))\n",
      "/home/nicolas.bruno/anaconda3/lib/python3.7/site-packages/nice-0.1.dev0-py3.7.egg/nice/algorithms/information_theory/permutation_entropy.py:75: RuntimeWarning: invalid value encountered in multiply\n",
      "  pe = np.nan_to_num(-np.nansum(count * np.log(count), axis=1))\n"
     ]
    },
    {
     "name": "stdout",
     "output_type": "stream",
     "text": [
      "Performing symbolic transformation\n",
      "Reduction order for nice/marker/PermutationEntropy/default: ['channels']\n",
      "Filtering  at 20.83 Hz\n",
      "Performing symbolic transformation\n",
      "Reduction order for nice/marker/PermutationEntropy/default: ['channels']\n",
      "Filtering  at 10.42 Hz\n",
      "Performing symbolic transformation\n",
      "Reduction order for nice/marker/PermutationEntropy/default: ['channels']\n",
      "Autodetected number of jobs 2\n",
      "Computing CSD\n",
      "Using 10-5 locations for CSD\n",
      "Using 2 jobs\n"
     ]
    },
    {
     "name": "stderr",
     "output_type": "stream",
     "text": [
      "[Parallel(n_jobs=2)]: Using backend LokyBackend with 2 concurrent workers.\n",
      "[Parallel(n_jobs=2)]: Done  18 tasks      | elapsed:    1.7s\n"
     ]
    },
    {
     "name": "stdout",
     "output_type": "stream",
     "text": [
      "Filtering  at 83.33 Hz\n"
     ]
    },
    {
     "name": "stderr",
     "output_type": "stream",
     "text": [
      "[Parallel(n_jobs=2)]: Done 697 out of 697 | elapsed:    2.4s finished\n"
     ]
    },
    {
     "name": "stdout",
     "output_type": "stream",
     "text": [
      "Reduction order for nice/marker/SymbolicMutualInformation/default: ['channels_y', 'channels']\n",
      "Autodetected number of jobs 2\n",
      "Computing CSD\n",
      "Using 10-5 locations for CSD\n",
      "Using 2 jobs\n"
     ]
    },
    {
     "name": "stderr",
     "output_type": "stream",
     "text": [
      "[Parallel(n_jobs=2)]: Using backend LokyBackend with 2 concurrent workers.\n",
      "[Parallel(n_jobs=2)]: Done 391 tasks      | elapsed:    0.5s\n",
      "[Parallel(n_jobs=2)]: Done 697 out of 697 | elapsed:    0.7s finished\n"
     ]
    },
    {
     "name": "stdout",
     "output_type": "stream",
     "text": [
      "Filtering  at 41.67 Hz\n",
      "Reduction order for nice/marker/SymbolicMutualInformation/default: ['channels_y', 'channels']\n",
      "Autodetected number of jobs 2\n",
      "Computing CSD\n",
      "Using 10-5 locations for CSD\n",
      "Using 2 jobs\n"
     ]
    },
    {
     "name": "stderr",
     "output_type": "stream",
     "text": [
      "[Parallel(n_jobs=2)]: Using backend LokyBackend with 2 concurrent workers.\n",
      "[Parallel(n_jobs=2)]: Done 391 tasks      | elapsed:    0.5s\n"
     ]
    },
    {
     "name": "stdout",
     "output_type": "stream",
     "text": [
      "Filtering  at 20.83 Hz\n"
     ]
    },
    {
     "name": "stderr",
     "output_type": "stream",
     "text": [
      "[Parallel(n_jobs=2)]: Done 697 out of 697 | elapsed:    0.8s finished\n"
     ]
    },
    {
     "name": "stdout",
     "output_type": "stream",
     "text": [
      "Reduction order for nice/marker/SymbolicMutualInformation/default: ['channels_y', 'channels']\n",
      "Autodetected number of jobs 2\n",
      "Computing CSD\n",
      "Using 10-5 locations for CSD\n",
      "Using 2 jobs\n"
     ]
    },
    {
     "name": "stderr",
     "output_type": "stream",
     "text": [
      "[Parallel(n_jobs=2)]: Using backend LokyBackend with 2 concurrent workers.\n",
      "[Parallel(n_jobs=2)]: Done 510 tasks      | elapsed:    0.5s\n",
      "[Parallel(n_jobs=2)]: Done 697 out of 697 | elapsed:    0.7s finished\n"
     ]
    },
    {
     "name": "stdout",
     "output_type": "stream",
     "text": [
      "Filtering  at 10.42 Hz\n",
      "Reduction order for nice/marker/SymbolicMutualInformation/default: ['channels_y', 'channels']\n",
      "Reduction order for nice/marker/ContingentNegativeVariation/default: ['channels']\n",
      "Reduction order for nice/marker/TimeLockedTopography/p1: ['channels', 'times']\n",
      "Reduction order for nice/marker/TimeLockedTopography/p3a: ['channels', 'times']\n",
      "Reduction order for nice/marker/TimeLockedTopography/p3b: ['channels', 'times']\n",
      "\n",
      "#########################################\n",
      "Computing markers for participant VP33\n",
      "#########################################\n",
      "\n",
      "Reading /media/nicolas.bruno/63f8a366-34b7-4896-a7ce-b5fb4ee78535/Nico/MW_eeg_data/minmarker/VP33/VP33_evoked_ar_subtracted_epo.fif ...\n",
      "    Found the data of interest:\n",
      "        t =    -200.00 ...     600.00 ms\n",
      "        0 CTF compensation matrices available\n",
      "Not setting metadata\n",
      "Not setting metadata\n",
      "287 matching events found\n",
      "No baseline correction applied\n",
      "0 projection items activated\n",
      "Autodetected number of jobs 24\n",
      "Effective window size : 16.384 (s)\n"
     ]
    },
    {
     "name": "stderr",
     "output_type": "stream",
     "text": [
      "[Parallel(n_jobs=24)]: Using backend LokyBackend with 24 concurrent workers.\n",
      "[Parallel(n_jobs=24)]: Done   6 out of  24 | elapsed:    4.3s remaining:   13.0s\n",
      "[Parallel(n_jobs=24)]: Done  11 out of  24 | elapsed:    4.4s remaining:    5.2s\n",
      "[Parallel(n_jobs=24)]: Done  16 out of  24 | elapsed:    4.5s remaining:    2.3s\n",
      "[Parallel(n_jobs=24)]: Done  21 out of  24 | elapsed:    4.6s remaining:    0.7s\n",
      "[Parallel(n_jobs=24)]: Done  24 out of  24 | elapsed:    4.7s finished\n"
     ]
    },
    {
     "name": "stdout",
     "output_type": "stream",
     "text": [
      "Reduction order for nice/marker/PowerSpectralDensity/alpha: ['frequency', 'channels']\n",
      "Reduction order for nice/marker/PowerSpectralDensity/alpha: ['frequency', 'channels']\n",
      "Reduction order for nice/marker/PowerSpectralDensity/delta: ['frequency', 'channels']\n",
      "Reduction order for nice/marker/PowerSpectralDensity/delta: ['frequency', 'channels']\n",
      "Reduction order for nice/marker/PowerSpectralDensity/theta: ['frequency', 'channels']\n",
      "Reduction order for nice/marker/PowerSpectralDensity/theta: ['frequency', 'channels']\n",
      "Reduction order for nice/marker/PowerSpectralDensity/gamma: ['frequency', 'channels']\n",
      "Reduction order for nice/marker/PowerSpectralDensity/theta: ['frequency', 'channels']\n",
      "Reduction order for nice/marker/PowerSpectralDensity/beta: ['frequency', 'channels']\n",
      "Reduction order for nice/marker/PowerSpectralDensity/beta: ['frequency', 'channels']\n",
      "Reduction order for nice/marker/PowerSpectralDensity/summary_se: ['frequency', 'channels']\n",
      "Reduction order for nice/marker/PowerSpectralDensitySummary/summary_msf: ['channels']\n"
     ]
    },
    {
     "name": "stderr",
     "output_type": "stream",
     "text": [
      "/home/nicolas.bruno/anaconda3/lib/python3.7/site-packages/nice-0.1.dev0-py3.7.egg/nice/markers/spectral.py:128: RuntimeWarning: invalid value encountered in true_divide\n",
      "  self.data_norm_ = self.data_ / self.data_.sum(axis=-1)[..., None]\n",
      "/home/nicolas.bruno/anaconda3/lib/python3.7/site-packages/nice-0.1.dev0-py3.7.egg/nice/markers/spectral.py:220: RuntimeWarning: divide by zero encountered in log10\n",
      "  out = 10 * np.log10(out)\n"
     ]
    },
    {
     "name": "stdout",
     "output_type": "stream",
     "text": [
      "Reduction order for nice/marker/PowerSpectralDensitySummary/summary_sef90: ['channels']\n",
      "Reduction order for nice/marker/PowerSpectralDensitySummary/summary_sef95: ['channels']\n",
      "Running KolmogorovComplexity\n",
      "Elapsed time 0.40384387969970703 sec\n",
      "Reduction order for nice/marker/KolmogorovComplexity/default: ['channels']\n",
      "Filtering  at 83.33 Hz\n",
      "Performing symbolic transformation\n",
      "Reduction order for nice/marker/PermutationEntropy/default: ['channels']\n",
      "Filtering  at 41.67 Hz\n",
      "Performing symbolic transformation\n"
     ]
    },
    {
     "name": "stderr",
     "output_type": "stream",
     "text": [
      "/home/nicolas.bruno/anaconda3/lib/python3.7/site-packages/nice-0.1.dev0-py3.7.egg/nice/algorithms/information_theory/permutation_entropy.py:75: RuntimeWarning: divide by zero encountered in log\n",
      "  pe = np.nan_to_num(-np.nansum(count * np.log(count), axis=1))\n",
      "/home/nicolas.bruno/anaconda3/lib/python3.7/site-packages/nice-0.1.dev0-py3.7.egg/nice/algorithms/information_theory/permutation_entropy.py:75: RuntimeWarning: invalid value encountered in multiply\n",
      "  pe = np.nan_to_num(-np.nansum(count * np.log(count), axis=1))\n"
     ]
    },
    {
     "name": "stdout",
     "output_type": "stream",
     "text": [
      "Reduction order for nice/marker/PermutationEntropy/default: ['channels']\n",
      "Filtering  at 20.83 Hz\n",
      "Performing symbolic transformation\n",
      "Reduction order for nice/marker/PermutationEntropy/default: ['channels']\n",
      "Filtering  at 10.42 Hz\n",
      "Performing symbolic transformation\n",
      "Reduction order for nice/marker/PermutationEntropy/default: ['channels']\n",
      "Autodetected number of jobs 2\n",
      "Computing CSD\n",
      "Using 10-5 locations for CSD\n",
      "Using 2 jobs\n"
     ]
    },
    {
     "name": "stderr",
     "output_type": "stream",
     "text": [
      "[Parallel(n_jobs=2)]: Using backend LokyBackend with 2 concurrent workers.\n",
      "[Parallel(n_jobs=2)]: Done  18 tasks      | elapsed:    1.7s\n"
     ]
    },
    {
     "name": "stdout",
     "output_type": "stream",
     "text": [
      "Filtering  at 83.33 Hz\n"
     ]
    },
    {
     "name": "stderr",
     "output_type": "stream",
     "text": [
      "[Parallel(n_jobs=2)]: Done 287 out of 287 | elapsed:    2.1s finished\n"
     ]
    },
    {
     "name": "stdout",
     "output_type": "stream",
     "text": [
      "Reduction order for nice/marker/SymbolicMutualInformation/default: ['channels_y', 'channels']\n",
      "Autodetected number of jobs 2\n",
      "Computing CSD\n",
      "Using 10-5 locations for CSD\n",
      "Using 2 jobs\n"
     ]
    },
    {
     "name": "stderr",
     "output_type": "stream",
     "text": [
      "[Parallel(n_jobs=2)]: Using backend LokyBackend with 2 concurrent workers.\n"
     ]
    },
    {
     "name": "stdout",
     "output_type": "stream",
     "text": [
      "Filtering  at 41.67 Hz\n"
     ]
    },
    {
     "name": "stderr",
     "output_type": "stream",
     "text": [
      "[Parallel(n_jobs=2)]: Done 142 tasks      | elapsed:    0.2s\n",
      "[Parallel(n_jobs=2)]: Done 287 out of 287 | elapsed:    0.3s finished\n"
     ]
    },
    {
     "name": "stdout",
     "output_type": "stream",
     "text": [
      "Reduction order for nice/marker/SymbolicMutualInformation/default: ['channels_y', 'channels']\n",
      "Autodetected number of jobs 2\n",
      "Computing CSD\n",
      "Using 10-5 locations for CSD\n",
      "Using 2 jobs\n"
     ]
    },
    {
     "name": "stderr",
     "output_type": "stream",
     "text": [
      "[Parallel(n_jobs=2)]: Using backend LokyBackend with 2 concurrent workers.\n"
     ]
    },
    {
     "name": "stdout",
     "output_type": "stream",
     "text": [
      "Filtering  at 20.83 Hz\n"
     ]
    },
    {
     "name": "stderr",
     "output_type": "stream",
     "text": [
      "[Parallel(n_jobs=2)]: Done 193 tasks      | elapsed:    0.3s\n",
      "[Parallel(n_jobs=2)]: Done 287 out of 287 | elapsed:    0.4s finished\n"
     ]
    },
    {
     "name": "stdout",
     "output_type": "stream",
     "text": [
      "Reduction order for nice/marker/SymbolicMutualInformation/default: ['channels_y', 'channels']\n",
      "Autodetected number of jobs 2\n",
      "Computing CSD\n",
      "Using 10-5 locations for CSD\n",
      "Using 2 jobs\n"
     ]
    },
    {
     "name": "stderr",
     "output_type": "stream",
     "text": [
      "[Parallel(n_jobs=2)]: Using backend LokyBackend with 2 concurrent workers.\n"
     ]
    },
    {
     "name": "stdout",
     "output_type": "stream",
     "text": [
      "Filtering  at 10.42 Hz\n"
     ]
    },
    {
     "name": "stderr",
     "output_type": "stream",
     "text": [
      "[Parallel(n_jobs=2)]: Done 256 tasks      | elapsed:    0.3s\n",
      "[Parallel(n_jobs=2)]: Done 287 out of 287 | elapsed:    0.4s finished\n"
     ]
    },
    {
     "name": "stdout",
     "output_type": "stream",
     "text": [
      "Reduction order for nice/marker/SymbolicMutualInformation/default: ['channels_y', 'channels']\n",
      "Reduction order for nice/marker/ContingentNegativeVariation/default: ['channels']\n",
      "Reduction order for nice/marker/TimeLockedTopography/p1: ['channels', 'times']\n",
      "Reduction order for nice/marker/TimeLockedTopography/p3a: ['channels', 'times']\n",
      "Reduction order for nice/marker/TimeLockedTopography/p3b: ['channels', 'times']\n",
      "Reading /media/nicolas.bruno/63f8a366-34b7-4896-a7ce-b5fb4ee78535/Nico/MW_eeg_data/minmarker/VP33/VP33_evoked_ar_rereferenced_epo.fif ...\n",
      "    Found the data of interest:\n",
      "        t =    -200.00 ...     600.00 ms\n",
      "        0 CTF compensation matrices available\n",
      "Not setting metadata\n",
      "Not setting metadata\n",
      "287 matching events found\n",
      "No baseline correction applied\n",
      "0 projection items activated\n",
      "Autodetected number of jobs 24\n",
      "Effective window size : 16.384 (s)\n"
     ]
    },
    {
     "name": "stderr",
     "output_type": "stream",
     "text": [
      "[Parallel(n_jobs=24)]: Using backend LokyBackend with 24 concurrent workers.\n",
      "[Parallel(n_jobs=24)]: Done   6 out of  24 | elapsed:    4.4s remaining:   13.2s\n",
      "[Parallel(n_jobs=24)]: Done  11 out of  24 | elapsed:    4.5s remaining:    5.3s\n",
      "[Parallel(n_jobs=24)]: Done  16 out of  24 | elapsed:    4.6s remaining:    2.3s\n",
      "[Parallel(n_jobs=24)]: Done  21 out of  24 | elapsed:    4.7s remaining:    0.7s\n",
      "[Parallel(n_jobs=24)]: Done  24 out of  24 | elapsed:    4.8s finished\n"
     ]
    },
    {
     "name": "stdout",
     "output_type": "stream",
     "text": [
      "Reduction order for nice/marker/PowerSpectralDensity/alpha: ['frequency', 'channels']\n",
      "Reduction order for nice/marker/PowerSpectralDensity/alpha: ['frequency', 'channels']\n",
      "Reduction order for nice/marker/PowerSpectralDensity/delta: ['frequency', 'channels']\n",
      "Reduction order for nice/marker/PowerSpectralDensity/delta: ['frequency', 'channels']\n",
      "Reduction order for nice/marker/PowerSpectralDensity/theta: ['frequency', 'channels']\n",
      "Reduction order for nice/marker/PowerSpectralDensity/theta: ['frequency', 'channels']\n",
      "Reduction order for nice/marker/PowerSpectralDensity/gamma: ['frequency', 'channels']\n",
      "Reduction order for nice/marker/PowerSpectralDensity/theta: ['frequency', 'channels']\n",
      "Reduction order for nice/marker/PowerSpectralDensity/beta: ['frequency', 'channels']\n",
      "Reduction order for nice/marker/PowerSpectralDensity/beta: ['frequency', 'channels']\n",
      "Reduction order for nice/marker/PowerSpectralDensity/summary_se: ['frequency', 'channels']\n",
      "Reduction order for nice/marker/PowerSpectralDensitySummary/summary_msf: ['channels']\n",
      "Reduction order for nice/marker/PowerSpectralDensitySummary/summary_sef90: ['channels']\n",
      "Reduction order for nice/marker/PowerSpectralDensitySummary/summary_sef95: ['channels']\n",
      "Running KolmogorovComplexity\n",
      "Elapsed time 0.4079446792602539 sec\n",
      "Reduction order for nice/marker/KolmogorovComplexity/default: ['channels']\n",
      "Filtering  at 83.33 Hz\n",
      "Performing symbolic transformation\n",
      "Reduction order for nice/marker/PermutationEntropy/default: ['channels']\n",
      "Filtering  at 41.67 Hz\n",
      "Performing symbolic transformation\n"
     ]
    },
    {
     "name": "stderr",
     "output_type": "stream",
     "text": [
      "/home/nicolas.bruno/anaconda3/lib/python3.7/site-packages/nice-0.1.dev0-py3.7.egg/nice/algorithms/information_theory/permutation_entropy.py:75: RuntimeWarning: divide by zero encountered in log\n",
      "  pe = np.nan_to_num(-np.nansum(count * np.log(count), axis=1))\n",
      "/home/nicolas.bruno/anaconda3/lib/python3.7/site-packages/nice-0.1.dev0-py3.7.egg/nice/algorithms/information_theory/permutation_entropy.py:75: RuntimeWarning: invalid value encountered in multiply\n",
      "  pe = np.nan_to_num(-np.nansum(count * np.log(count), axis=1))\n"
     ]
    },
    {
     "name": "stdout",
     "output_type": "stream",
     "text": [
      "Reduction order for nice/marker/PermutationEntropy/default: ['channels']\n",
      "Filtering  at 20.83 Hz\n",
      "Performing symbolic transformation\n",
      "Reduction order for nice/marker/PermutationEntropy/default: ['channels']\n",
      "Filtering  at 10.42 Hz\n",
      "Performing symbolic transformation\n",
      "Reduction order for nice/marker/PermutationEntropy/default: ['channels']\n",
      "Autodetected number of jobs 2\n",
      "Computing CSD\n",
      "Using 10-5 locations for CSD\n",
      "Using 2 jobs\n"
     ]
    },
    {
     "name": "stderr",
     "output_type": "stream",
     "text": [
      "[Parallel(n_jobs=2)]: Using backend LokyBackend with 2 concurrent workers.\n",
      "[Parallel(n_jobs=2)]: Done  16 tasks      | elapsed:    1.7s\n"
     ]
    },
    {
     "name": "stdout",
     "output_type": "stream",
     "text": [
      "Filtering  at 83.33 Hz\n"
     ]
    },
    {
     "name": "stderr",
     "output_type": "stream",
     "text": [
      "[Parallel(n_jobs=2)]: Done 287 out of 287 | elapsed:    2.0s finished\n"
     ]
    },
    {
     "name": "stdout",
     "output_type": "stream",
     "text": [
      "Reduction order for nice/marker/SymbolicMutualInformation/default: ['channels_y', 'channels']\n",
      "Autodetected number of jobs 2\n",
      "Computing CSD\n",
      "Using 10-5 locations for CSD\n",
      "Using 2 jobs\n"
     ]
    },
    {
     "name": "stderr",
     "output_type": "stream",
     "text": [
      "[Parallel(n_jobs=2)]: Using backend LokyBackend with 2 concurrent workers.\n"
     ]
    },
    {
     "name": "stdout",
     "output_type": "stream",
     "text": [
      "Filtering  at 41.67 Hz\n"
     ]
    },
    {
     "name": "stderr",
     "output_type": "stream",
     "text": [
      "[Parallel(n_jobs=2)]: Done 193 tasks      | elapsed:    0.3s\n",
      "[Parallel(n_jobs=2)]: Done 287 out of 287 | elapsed:    0.4s finished\n"
     ]
    },
    {
     "name": "stdout",
     "output_type": "stream",
     "text": [
      "Reduction order for nice/marker/SymbolicMutualInformation/default: ['channels_y', 'channels']\n",
      "Autodetected number of jobs 2\n",
      "Computing CSD\n",
      "Using 10-5 locations for CSD\n",
      "Using 2 jobs\n"
     ]
    },
    {
     "name": "stderr",
     "output_type": "stream",
     "text": [
      "[Parallel(n_jobs=2)]: Using backend LokyBackend with 2 concurrent workers.\n"
     ]
    },
    {
     "name": "stdout",
     "output_type": "stream",
     "text": [
      "Filtering  at 20.83 Hz\n"
     ]
    },
    {
     "name": "stderr",
     "output_type": "stream",
     "text": [
      "[Parallel(n_jobs=2)]: Done 193 tasks      | elapsed:    0.4s\n",
      "[Parallel(n_jobs=2)]: Done 287 out of 287 | elapsed:    0.5s finished\n"
     ]
    },
    {
     "name": "stdout",
     "output_type": "stream",
     "text": [
      "Reduction order for nice/marker/SymbolicMutualInformation/default: ['channels_y', 'channels']\n",
      "Autodetected number of jobs 2\n",
      "Computing CSD\n",
      "Using 10-5 locations for CSD\n",
      "Using 2 jobs\n"
     ]
    },
    {
     "name": "stderr",
     "output_type": "stream",
     "text": [
      "[Parallel(n_jobs=2)]: Using backend LokyBackend with 2 concurrent workers.\n"
     ]
    },
    {
     "name": "stdout",
     "output_type": "stream",
     "text": [
      "Filtering  at 10.42 Hz\n"
     ]
    },
    {
     "name": "stderr",
     "output_type": "stream",
     "text": [
      "[Parallel(n_jobs=2)]: Done 193 tasks      | elapsed:    0.3s\n",
      "[Parallel(n_jobs=2)]: Done 287 out of 287 | elapsed:    0.4s finished\n"
     ]
    },
    {
     "name": "stdout",
     "output_type": "stream",
     "text": [
      "Reduction order for nice/marker/SymbolicMutualInformation/default: ['channels_y', 'channels']\n",
      "Reduction order for nice/marker/ContingentNegativeVariation/default: ['channels']\n",
      "Reduction order for nice/marker/TimeLockedTopography/p1: ['channels', 'times']\n",
      "Reduction order for nice/marker/TimeLockedTopography/p3a: ['channels', 'times']\n",
      "Reduction order for nice/marker/TimeLockedTopography/p3b: ['channels', 'times']\n",
      "\n",
      "#########################################\n",
      "Computing markers for participant VP35\n",
      "#########################################\n",
      "\n",
      "Reading /media/nicolas.bruno/63f8a366-34b7-4896-a7ce-b5fb4ee78535/Nico/MW_eeg_data/minmarker/VP35/VP35_evoked_ar_subtracted_epo.fif ...\n",
      "    Found the data of interest:\n",
      "        t =    -200.00 ...     600.00 ms\n",
      "        0 CTF compensation matrices available\n",
      "Not setting metadata\n",
      "Not setting metadata\n",
      "231 matching events found\n",
      "No baseline correction applied\n",
      "0 projection items activated\n",
      "Autodetected number of jobs 24\n",
      "Effective window size : 16.384 (s)\n"
     ]
    },
    {
     "name": "stderr",
     "output_type": "stream",
     "text": [
      "[Parallel(n_jobs=24)]: Using backend LokyBackend with 24 concurrent workers.\n",
      "[Parallel(n_jobs=24)]: Done   6 out of  24 | elapsed:    4.2s remaining:   12.7s\n",
      "[Parallel(n_jobs=24)]: Done  11 out of  24 | elapsed:    4.3s remaining:    5.1s\n",
      "[Parallel(n_jobs=24)]: Done  16 out of  24 | elapsed:    4.4s remaining:    2.2s\n"
     ]
    },
    {
     "name": "stdout",
     "output_type": "stream",
     "text": [
      "Reduction order for nice/marker/PowerSpectralDensity/alpha: ['frequency', 'channels']\n",
      "Reduction order for nice/marker/PowerSpectralDensity/alpha: ['frequency', 'channels']\n",
      "Reduction order for nice/marker/PowerSpectralDensity/delta: ['frequency', 'channels']\n",
      "Reduction order for nice/marker/PowerSpectralDensity/delta: ['frequency', 'channels']\n",
      "Reduction order for nice/marker/PowerSpectralDensity/theta: ['frequency', 'channels']\n",
      "Reduction order for nice/marker/PowerSpectralDensity/theta: ['frequency', 'channels']\n"
     ]
    },
    {
     "name": "stderr",
     "output_type": "stream",
     "text": [
      "[Parallel(n_jobs=24)]: Done  21 out of  24 | elapsed:    4.5s remaining:    0.6s\n",
      "[Parallel(n_jobs=24)]: Done  24 out of  24 | elapsed:    4.6s finished\n",
      "/home/nicolas.bruno/anaconda3/lib/python3.7/site-packages/nice-0.1.dev0-py3.7.egg/nice/markers/spectral.py:128: RuntimeWarning: invalid value encountered in true_divide\n",
      "  self.data_norm_ = self.data_ / self.data_.sum(axis=-1)[..., None]\n",
      "/home/nicolas.bruno/anaconda3/lib/python3.7/site-packages/nice-0.1.dev0-py3.7.egg/nice/markers/spectral.py:220: RuntimeWarning: divide by zero encountered in log10\n",
      "  out = 10 * np.log10(out)\n"
     ]
    },
    {
     "name": "stdout",
     "output_type": "stream",
     "text": [
      "Reduction order for nice/marker/PowerSpectralDensity/gamma: ['frequency', 'channels']\n",
      "Reduction order for nice/marker/PowerSpectralDensity/theta: ['frequency', 'channels']\n",
      "Reduction order for nice/marker/PowerSpectralDensity/beta: ['frequency', 'channels']\n",
      "Reduction order for nice/marker/PowerSpectralDensity/beta: ['frequency', 'channels']\n",
      "Reduction order for nice/marker/PowerSpectralDensity/summary_se: ['frequency', 'channels']\n",
      "Reduction order for nice/marker/PowerSpectralDensitySummary/summary_msf: ['channels']\n",
      "Reduction order for nice/marker/PowerSpectralDensitySummary/summary_sef90: ['channels']\n",
      "Reduction order for nice/marker/PowerSpectralDensitySummary/summary_sef95: ['channels']\n",
      "Running KolmogorovComplexity\n",
      "Elapsed time 0.3258357048034668 sec\n",
      "Reduction order for nice/marker/KolmogorovComplexity/default: ['channels']\n",
      "Filtering  at 83.33 Hz\n",
      "Performing symbolic transformation\n",
      "Reduction order for nice/marker/PermutationEntropy/default: ['channels']\n",
      "Filtering  at 41.67 Hz\n",
      "Performing symbolic transformation\n"
     ]
    },
    {
     "name": "stderr",
     "output_type": "stream",
     "text": [
      "/home/nicolas.bruno/anaconda3/lib/python3.7/site-packages/nice-0.1.dev0-py3.7.egg/nice/algorithms/information_theory/permutation_entropy.py:75: RuntimeWarning: divide by zero encountered in log\n",
      "  pe = np.nan_to_num(-np.nansum(count * np.log(count), axis=1))\n",
      "/home/nicolas.bruno/anaconda3/lib/python3.7/site-packages/nice-0.1.dev0-py3.7.egg/nice/algorithms/information_theory/permutation_entropy.py:75: RuntimeWarning: invalid value encountered in multiply\n",
      "  pe = np.nan_to_num(-np.nansum(count * np.log(count), axis=1))\n"
     ]
    },
    {
     "name": "stdout",
     "output_type": "stream",
     "text": [
      "Reduction order for nice/marker/PermutationEntropy/default: ['channels']\n",
      "Filtering  at 20.83 Hz\n",
      "Performing symbolic transformation\n",
      "Reduction order for nice/marker/PermutationEntropy/default: ['channels']\n",
      "Filtering  at 10.42 Hz\n",
      "Performing symbolic transformation\n",
      "Reduction order for nice/marker/PermutationEntropy/default: ['channels']\n",
      "Autodetected number of jobs 2\n",
      "Computing CSD\n",
      "Using 10-5 locations for CSD\n",
      "Using 2 jobs\n"
     ]
    },
    {
     "name": "stderr",
     "output_type": "stream",
     "text": [
      "[Parallel(n_jobs=2)]: Using backend LokyBackend with 2 concurrent workers.\n",
      "[Parallel(n_jobs=2)]: Done  18 tasks      | elapsed:    1.7s\n"
     ]
    },
    {
     "name": "stdout",
     "output_type": "stream",
     "text": [
      "Filtering  at 83.33 Hz\n"
     ]
    },
    {
     "name": "stderr",
     "output_type": "stream",
     "text": [
      "[Parallel(n_jobs=2)]: Done 231 out of 231 | elapsed:    2.0s finished\n"
     ]
    },
    {
     "name": "stdout",
     "output_type": "stream",
     "text": [
      "Reduction order for nice/marker/SymbolicMutualInformation/default: ['channels_y', 'channels']\n",
      "Autodetected number of jobs 2\n",
      "Computing CSD\n",
      "Using 10-5 locations for CSD\n",
      "Using 2 jobs\n"
     ]
    },
    {
     "name": "stderr",
     "output_type": "stream",
     "text": [
      "[Parallel(n_jobs=2)]: Using backend LokyBackend with 2 concurrent workers.\n"
     ]
    },
    {
     "name": "stdout",
     "output_type": "stream",
     "text": [
      "Filtering  at 41.67 Hz\n"
     ]
    },
    {
     "name": "stderr",
     "output_type": "stream",
     "text": [
      "[Parallel(n_jobs=2)]: Done 151 tasks      | elapsed:    0.3s\n",
      "[Parallel(n_jobs=2)]: Done 231 out of 231 | elapsed:    0.4s finished\n"
     ]
    },
    {
     "name": "stdout",
     "output_type": "stream",
     "text": [
      "Reduction order for nice/marker/SymbolicMutualInformation/default: ['channels_y', 'channels']\n",
      "Autodetected number of jobs 2\n",
      "Computing CSD\n",
      "Using 10-5 locations for CSD\n",
      "Using 2 jobs\n"
     ]
    },
    {
     "name": "stderr",
     "output_type": "stream",
     "text": [
      "[Parallel(n_jobs=2)]: Using backend LokyBackend with 2 concurrent workers.\n"
     ]
    },
    {
     "name": "stdout",
     "output_type": "stream",
     "text": [
      "Filtering  at 20.83 Hz\n"
     ]
    },
    {
     "name": "stderr",
     "output_type": "stream",
     "text": [
      "[Parallel(n_jobs=2)]: Done 146 tasks      | elapsed:    0.3s\n",
      "[Parallel(n_jobs=2)]: Done 231 out of 231 | elapsed:    0.4s finished\n"
     ]
    },
    {
     "name": "stdout",
     "output_type": "stream",
     "text": [
      "Reduction order for nice/marker/SymbolicMutualInformation/default: ['channels_y', 'channels']\n",
      "Autodetected number of jobs 2\n",
      "Computing CSD\n",
      "Using 10-5 locations for CSD\n",
      "Using 2 jobs\n"
     ]
    },
    {
     "name": "stderr",
     "output_type": "stream",
     "text": [
      "[Parallel(n_jobs=2)]: Using backend LokyBackend with 2 concurrent workers.\n"
     ]
    },
    {
     "name": "stdout",
     "output_type": "stream",
     "text": [
      "Filtering  at 10.42 Hz\n"
     ]
    },
    {
     "name": "stderr",
     "output_type": "stream",
     "text": [
      "[Parallel(n_jobs=2)]: Done 146 tasks      | elapsed:    0.3s\n",
      "[Parallel(n_jobs=2)]: Done 231 out of 231 | elapsed:    0.4s finished\n"
     ]
    },
    {
     "name": "stdout",
     "output_type": "stream",
     "text": [
      "Reduction order for nice/marker/SymbolicMutualInformation/default: ['channels_y', 'channels']\n",
      "Reduction order for nice/marker/ContingentNegativeVariation/default: ['channels']\n",
      "Reduction order for nice/marker/TimeLockedTopography/p1: ['channels', 'times']\n",
      "Reduction order for nice/marker/TimeLockedTopography/p3a: ['channels', 'times']\n",
      "Reduction order for nice/marker/TimeLockedTopography/p3b: ['channels', 'times']\n",
      "Reading /media/nicolas.bruno/63f8a366-34b7-4896-a7ce-b5fb4ee78535/Nico/MW_eeg_data/minmarker/VP35/VP35_evoked_ar_rereferenced_epo.fif ...\n",
      "    Found the data of interest:\n",
      "        t =    -200.00 ...     600.00 ms\n",
      "        0 CTF compensation matrices available\n",
      "Not setting metadata\n",
      "Not setting metadata\n",
      "231 matching events found\n",
      "No baseline correction applied\n",
      "0 projection items activated\n",
      "Autodetected number of jobs 24\n",
      "Effective window size : 16.384 (s)\n"
     ]
    },
    {
     "name": "stderr",
     "output_type": "stream",
     "text": [
      "[Parallel(n_jobs=24)]: Using backend LokyBackend with 24 concurrent workers.\n",
      "[Parallel(n_jobs=24)]: Done   6 out of  24 | elapsed:    4.2s remaining:   12.7s\n",
      "[Parallel(n_jobs=24)]: Done  11 out of  24 | elapsed:    4.3s remaining:    5.1s\n",
      "[Parallel(n_jobs=24)]: Done  16 out of  24 | elapsed:    4.4s remaining:    2.2s\n"
     ]
    },
    {
     "name": "stdout",
     "output_type": "stream",
     "text": [
      "Reduction order for nice/marker/PowerSpectralDensity/alpha: ['frequency', 'channels']\n"
     ]
    },
    {
     "name": "stderr",
     "output_type": "stream",
     "text": [
      "[Parallel(n_jobs=24)]: Done  21 out of  24 | elapsed:    4.5s remaining:    0.6s\n",
      "[Parallel(n_jobs=24)]: Done  24 out of  24 | elapsed:    4.6s finished\n"
     ]
    },
    {
     "name": "stdout",
     "output_type": "stream",
     "text": [
      "Reduction order for nice/marker/PowerSpectralDensity/alpha: ['frequency', 'channels']\n",
      "Reduction order for nice/marker/PowerSpectralDensity/delta: ['frequency', 'channels']\n",
      "Reduction order for nice/marker/PowerSpectralDensity/delta: ['frequency', 'channels']\n",
      "Reduction order for nice/marker/PowerSpectralDensity/theta: ['frequency', 'channels']\n",
      "Reduction order for nice/marker/PowerSpectralDensity/theta: ['frequency', 'channels']\n",
      "Reduction order for nice/marker/PowerSpectralDensity/gamma: ['frequency', 'channels']\n",
      "Reduction order for nice/marker/PowerSpectralDensity/theta: ['frequency', 'channels']\n",
      "Reduction order for nice/marker/PowerSpectralDensity/beta: ['frequency', 'channels']\n",
      "Reduction order for nice/marker/PowerSpectralDensity/beta: ['frequency', 'channels']\n",
      "Reduction order for nice/marker/PowerSpectralDensity/summary_se: ['frequency', 'channels']\n",
      "Reduction order for nice/marker/PowerSpectralDensitySummary/summary_msf: ['channels']\n",
      "Reduction order for nice/marker/PowerSpectralDensitySummary/summary_sef90: ['channels']\n",
      "Reduction order for nice/marker/PowerSpectralDensitySummary/summary_sef95: ['channels']\n",
      "Running KolmogorovComplexity\n",
      "Elapsed time 0.33295631408691406 sec\n",
      "Reduction order for nice/marker/KolmogorovComplexity/default: ['channels']\n",
      "Filtering  at 83.33 Hz\n",
      "Performing symbolic transformation\n",
      "Reduction order for nice/marker/PermutationEntropy/default: ['channels']\n",
      "Filtering  at 41.67 Hz\n",
      "Performing symbolic transformation\n",
      "Reduction order for nice/marker/PermutationEntropy/default: ['channels']\n",
      "Filtering  at 20.83 Hz\n",
      "Performing symbolic transformation\n",
      "Reduction order for nice/marker/PermutationEntropy/default: ['channels']\n",
      "Filtering  at 10.42 Hz\n",
      "Performing symbolic transformation\n",
      "Reduction order for nice/marker/PermutationEntropy/default: ['channels']\n",
      "Autodetected number of jobs 2\n",
      "Computing CSD\n",
      "Using 10-5 locations for CSD\n",
      "Using 2 jobs\n"
     ]
    },
    {
     "name": "stderr",
     "output_type": "stream",
     "text": [
      "/home/nicolas.bruno/anaconda3/lib/python3.7/site-packages/nice-0.1.dev0-py3.7.egg/nice/algorithms/information_theory/permutation_entropy.py:75: RuntimeWarning: divide by zero encountered in log\n",
      "  pe = np.nan_to_num(-np.nansum(count * np.log(count), axis=1))\n",
      "/home/nicolas.bruno/anaconda3/lib/python3.7/site-packages/nice-0.1.dev0-py3.7.egg/nice/algorithms/information_theory/permutation_entropy.py:75: RuntimeWarning: invalid value encountered in multiply\n",
      "  pe = np.nan_to_num(-np.nansum(count * np.log(count), axis=1))\n",
      "[Parallel(n_jobs=2)]: Using backend LokyBackend with 2 concurrent workers.\n",
      "[Parallel(n_jobs=2)]: Done  18 tasks      | elapsed:    1.7s\n"
     ]
    },
    {
     "name": "stdout",
     "output_type": "stream",
     "text": [
      "Filtering  at 83.33 Hz\n"
     ]
    },
    {
     "name": "stderr",
     "output_type": "stream",
     "text": [
      "[Parallel(n_jobs=2)]: Done 231 out of 231 | elapsed:    2.0s finished\n"
     ]
    },
    {
     "name": "stdout",
     "output_type": "stream",
     "text": [
      "Reduction order for nice/marker/SymbolicMutualInformation/default: ['channels_y', 'channels']\n",
      "Autodetected number of jobs 2\n",
      "Computing CSD\n",
      "Using 10-5 locations for CSD\n",
      "Using 2 jobs\n"
     ]
    },
    {
     "name": "stderr",
     "output_type": "stream",
     "text": [
      "[Parallel(n_jobs=2)]: Using backend LokyBackend with 2 concurrent workers.\n"
     ]
    },
    {
     "name": "stdout",
     "output_type": "stream",
     "text": [
      "Filtering  at 41.67 Hz\n"
     ]
    },
    {
     "name": "stderr",
     "output_type": "stream",
     "text": [
      "[Parallel(n_jobs=2)]: Done 146 tasks      | elapsed:    0.2s\n",
      "[Parallel(n_jobs=2)]: Done 231 out of 231 | elapsed:    0.3s finished\n"
     ]
    },
    {
     "name": "stdout",
     "output_type": "stream",
     "text": [
      "Reduction order for nice/marker/SymbolicMutualInformation/default: ['channels_y', 'channels']\n",
      "Autodetected number of jobs 2\n",
      "Computing CSD\n",
      "Using 10-5 locations for CSD\n",
      "Using 2 jobs\n"
     ]
    },
    {
     "name": "stderr",
     "output_type": "stream",
     "text": [
      "[Parallel(n_jobs=2)]: Using backend LokyBackend with 2 concurrent workers.\n"
     ]
    },
    {
     "name": "stdout",
     "output_type": "stream",
     "text": [
      "Filtering  at 20.83 Hz\n"
     ]
    },
    {
     "name": "stderr",
     "output_type": "stream",
     "text": [
      "[Parallel(n_jobs=2)]: Done 146 tasks      | elapsed:    0.2s\n",
      "[Parallel(n_jobs=2)]: Done 231 out of 231 | elapsed:    0.3s finished\n"
     ]
    },
    {
     "name": "stdout",
     "output_type": "stream",
     "text": [
      "Reduction order for nice/marker/SymbolicMutualInformation/default: ['channels_y', 'channels']\n",
      "Autodetected number of jobs 2\n",
      "Computing CSD\n",
      "Using 10-5 locations for CSD\n",
      "Using 2 jobs\n"
     ]
    },
    {
     "name": "stderr",
     "output_type": "stream",
     "text": [
      "[Parallel(n_jobs=2)]: Using backend LokyBackend with 2 concurrent workers.\n"
     ]
    },
    {
     "name": "stdout",
     "output_type": "stream",
     "text": [
      "Filtering  at 10.42 Hz\n"
     ]
    },
    {
     "name": "stderr",
     "output_type": "stream",
     "text": [
      "[Parallel(n_jobs=2)]: Done 146 tasks      | elapsed:    0.2s\n",
      "[Parallel(n_jobs=2)]: Done 231 out of 231 | elapsed:    0.3s finished\n"
     ]
    },
    {
     "name": "stdout",
     "output_type": "stream",
     "text": [
      "Reduction order for nice/marker/SymbolicMutualInformation/default: ['channels_y', 'channels']\n",
      "Reduction order for nice/marker/ContingentNegativeVariation/default: ['channels']\n",
      "Reduction order for nice/marker/TimeLockedTopography/p1: ['channels', 'times']\n",
      "Reduction order for nice/marker/TimeLockedTopography/p3a: ['channels', 'times']\n",
      "Reduction order for nice/marker/TimeLockedTopography/p3b: ['channels', 'times']\n",
      "\n",
      "#########################################\n",
      "Computing markers for participant VP36\n",
      "#########################################\n",
      "\n",
      "Reading /media/nicolas.bruno/63f8a366-34b7-4896-a7ce-b5fb4ee78535/Nico/MW_eeg_data/minmarker/VP36/VP36_evoked_ar_subtracted_epo.fif ...\n",
      "    Found the data of interest:\n",
      "        t =    -200.00 ...     600.00 ms\n",
      "        0 CTF compensation matrices available\n",
      "Not setting metadata\n",
      "Not setting metadata\n",
      "202 matching events found\n",
      "No baseline correction applied\n",
      "0 projection items activated\n",
      "Autodetected number of jobs 24\n",
      "Effective window size : 16.384 (s)\n"
     ]
    },
    {
     "name": "stderr",
     "output_type": "stream",
     "text": [
      "[Parallel(n_jobs=24)]: Using backend LokyBackend with 24 concurrent workers.\n",
      "[Parallel(n_jobs=24)]: Done   6 out of  24 | elapsed:    4.2s remaining:   12.7s\n",
      "[Parallel(n_jobs=24)]: Done  11 out of  24 | elapsed:    4.3s remaining:    5.1s\n",
      "[Parallel(n_jobs=24)]: Done  16 out of  24 | elapsed:    4.4s remaining:    2.2s\n"
     ]
    },
    {
     "name": "stdout",
     "output_type": "stream",
     "text": [
      "Reduction order for nice/marker/PowerSpectralDensity/alpha: ['frequency', 'channels']\n",
      "Reduction order for nice/marker/PowerSpectralDensity/alpha: ['frequency', 'channels']\n",
      "Reduction order for nice/marker/PowerSpectralDensity/delta: ['frequency', 'channels']\n",
      "Reduction order for nice/marker/PowerSpectralDensity/delta: ['frequency', 'channels']\n",
      "Reduction order for nice/marker/PowerSpectralDensity/theta: ['frequency', 'channels']\n",
      "Reduction order for nice/marker/PowerSpectralDensity/theta: ['frequency', 'channels']\n",
      "Reduction order for nice/marker/PowerSpectralDensity/gamma: ['frequency', 'channels']\n",
      "Reduction order for nice/marker/PowerSpectralDensity/theta: ['frequency', 'channels']\n"
     ]
    },
    {
     "name": "stderr",
     "output_type": "stream",
     "text": [
      "[Parallel(n_jobs=24)]: Done  21 out of  24 | elapsed:    4.4s remaining:    0.6s\n",
      "[Parallel(n_jobs=24)]: Done  24 out of  24 | elapsed:    4.5s finished\n",
      "/home/nicolas.bruno/anaconda3/lib/python3.7/site-packages/nice-0.1.dev0-py3.7.egg/nice/markers/spectral.py:128: RuntimeWarning: invalid value encountered in true_divide\n",
      "  self.data_norm_ = self.data_ / self.data_.sum(axis=-1)[..., None]\n",
      "/home/nicolas.bruno/anaconda3/lib/python3.7/site-packages/nice-0.1.dev0-py3.7.egg/nice/markers/spectral.py:220: RuntimeWarning: divide by zero encountered in log10\n",
      "  out = 10 * np.log10(out)\n"
     ]
    },
    {
     "name": "stdout",
     "output_type": "stream",
     "text": [
      "Reduction order for nice/marker/PowerSpectralDensity/beta: ['frequency', 'channels']\n",
      "Reduction order for nice/marker/PowerSpectralDensity/beta: ['frequency', 'channels']\n",
      "Reduction order for nice/marker/PowerSpectralDensity/summary_se: ['frequency', 'channels']\n",
      "Reduction order for nice/marker/PowerSpectralDensitySummary/summary_msf: ['channels']\n",
      "Reduction order for nice/marker/PowerSpectralDensitySummary/summary_sef90: ['channels']\n",
      "Reduction order for nice/marker/PowerSpectralDensitySummary/summary_sef95: ['channels']\n",
      "Running KolmogorovComplexity\n",
      "Elapsed time 0.28923821449279785 sec\n",
      "Reduction order for nice/marker/KolmogorovComplexity/default: ['channels']\n",
      "Filtering  at 83.33 Hz\n",
      "Performing symbolic transformation\n",
      "Reduction order for nice/marker/PermutationEntropy/default: ['channels']\n",
      "Filtering  at 41.67 Hz\n",
      "Performing symbolic transformation\n"
     ]
    },
    {
     "name": "stderr",
     "output_type": "stream",
     "text": [
      "/home/nicolas.bruno/anaconda3/lib/python3.7/site-packages/nice-0.1.dev0-py3.7.egg/nice/algorithms/information_theory/permutation_entropy.py:75: RuntimeWarning: divide by zero encountered in log\n",
      "  pe = np.nan_to_num(-np.nansum(count * np.log(count), axis=1))\n",
      "/home/nicolas.bruno/anaconda3/lib/python3.7/site-packages/nice-0.1.dev0-py3.7.egg/nice/algorithms/information_theory/permutation_entropy.py:75: RuntimeWarning: invalid value encountered in multiply\n",
      "  pe = np.nan_to_num(-np.nansum(count * np.log(count), axis=1))\n"
     ]
    },
    {
     "name": "stdout",
     "output_type": "stream",
     "text": [
      "Reduction order for nice/marker/PermutationEntropy/default: ['channels']\n",
      "Filtering  at 20.83 Hz\n",
      "Performing symbolic transformation\n",
      "Reduction order for nice/marker/PermutationEntropy/default: ['channels']\n",
      "Filtering  at 10.42 Hz\n",
      "Performing symbolic transformation\n",
      "Reduction order for nice/marker/PermutationEntropy/default: ['channels']\n",
      "Autodetected number of jobs 2\n",
      "Computing CSD\n",
      "Using 10-5 locations for CSD\n",
      "Using 2 jobs\n"
     ]
    },
    {
     "name": "stderr",
     "output_type": "stream",
     "text": [
      "[Parallel(n_jobs=2)]: Using backend LokyBackend with 2 concurrent workers.\n",
      "[Parallel(n_jobs=2)]: Done  18 tasks      | elapsed:    1.7s\n"
     ]
    },
    {
     "name": "stdout",
     "output_type": "stream",
     "text": [
      "Filtering  at 83.33 Hz\n"
     ]
    },
    {
     "name": "stderr",
     "output_type": "stream",
     "text": [
      "[Parallel(n_jobs=2)]: Done 202 out of 202 | elapsed:    1.9s finished\n"
     ]
    },
    {
     "name": "stdout",
     "output_type": "stream",
     "text": [
      "Reduction order for nice/marker/SymbolicMutualInformation/default: ['channels_y', 'channels']\n",
      "Autodetected number of jobs 2\n",
      "Computing CSD\n",
      "Using 10-5 locations for CSD\n",
      "Using 2 jobs\n"
     ]
    },
    {
     "name": "stderr",
     "output_type": "stream",
     "text": [
      "[Parallel(n_jobs=2)]: Using backend LokyBackend with 2 concurrent workers.\n",
      "[Parallel(n_jobs=2)]: Done  74 tasks      | elapsed:    0.1s\n"
     ]
    },
    {
     "name": "stdout",
     "output_type": "stream",
     "text": [
      "Filtering  at 41.67 Hz\n"
     ]
    },
    {
     "name": "stderr",
     "output_type": "stream",
     "text": [
      "[Parallel(n_jobs=2)]: Done 202 out of 202 | elapsed:    0.3s finished\n"
     ]
    },
    {
     "name": "stdout",
     "output_type": "stream",
     "text": [
      "Reduction order for nice/marker/SymbolicMutualInformation/default: ['channels_y', 'channels']\n",
      "Autodetected number of jobs 2\n",
      "Computing CSD\n",
      "Using 10-5 locations for CSD\n",
      "Using 2 jobs\n"
     ]
    },
    {
     "name": "stderr",
     "output_type": "stream",
     "text": [
      "[Parallel(n_jobs=2)]: Using backend LokyBackend with 2 concurrent workers.\n"
     ]
    },
    {
     "name": "stdout",
     "output_type": "stream",
     "text": [
      "Filtering  at 20.83 Hz\n"
     ]
    },
    {
     "name": "stderr",
     "output_type": "stream",
     "text": [
      "[Parallel(n_jobs=2)]: Done 138 tasks      | elapsed:    0.3s\n",
      "[Parallel(n_jobs=2)]: Done 202 out of 202 | elapsed:    0.4s finished\n"
     ]
    },
    {
     "name": "stdout",
     "output_type": "stream",
     "text": [
      "Reduction order for nice/marker/SymbolicMutualInformation/default: ['channels_y', 'channels']\n",
      "Autodetected number of jobs 2\n",
      "Computing CSD\n",
      "Using 10-5 locations for CSD\n",
      "Using 2 jobs\n"
     ]
    },
    {
     "name": "stderr",
     "output_type": "stream",
     "text": [
      "[Parallel(n_jobs=2)]: Using backend LokyBackend with 2 concurrent workers.\n"
     ]
    },
    {
     "name": "stdout",
     "output_type": "stream",
     "text": [
      "Filtering  at 10.42 Hz\n"
     ]
    },
    {
     "name": "stderr",
     "output_type": "stream",
     "text": [
      "[Parallel(n_jobs=2)]: Done 138 tasks      | elapsed:    0.2s\n",
      "[Parallel(n_jobs=2)]: Done 202 out of 202 | elapsed:    0.3s finished\n"
     ]
    },
    {
     "name": "stdout",
     "output_type": "stream",
     "text": [
      "Reduction order for nice/marker/SymbolicMutualInformation/default: ['channels_y', 'channels']\n",
      "Reduction order for nice/marker/ContingentNegativeVariation/default: ['channels']\n",
      "Reduction order for nice/marker/TimeLockedTopography/p1: ['channels', 'times']\n",
      "Reduction order for nice/marker/TimeLockedTopography/p3a: ['channels', 'times']\n",
      "Reduction order for nice/marker/TimeLockedTopography/p3b: ['channels', 'times']\n",
      "Reading /media/nicolas.bruno/63f8a366-34b7-4896-a7ce-b5fb4ee78535/Nico/MW_eeg_data/minmarker/VP36/VP36_evoked_ar_rereferenced_epo.fif ...\n",
      "    Found the data of interest:\n",
      "        t =    -200.00 ...     600.00 ms\n",
      "        0 CTF compensation matrices available\n",
      "Not setting metadata\n",
      "Not setting metadata\n",
      "202 matching events found\n",
      "No baseline correction applied\n",
      "0 projection items activated\n",
      "Autodetected number of jobs 24\n",
      "Effective window size : 16.384 (s)\n"
     ]
    },
    {
     "name": "stderr",
     "output_type": "stream",
     "text": [
      "[Parallel(n_jobs=24)]: Using backend LokyBackend with 24 concurrent workers.\n",
      "[Parallel(n_jobs=24)]: Done   6 out of  24 | elapsed:    4.2s remaining:   12.6s\n",
      "[Parallel(n_jobs=24)]: Done  11 out of  24 | elapsed:    4.3s remaining:    5.0s\n",
      "[Parallel(n_jobs=24)]: Done  16 out of  24 | elapsed:    4.4s remaining:    2.2s\n"
     ]
    },
    {
     "name": "stdout",
     "output_type": "stream",
     "text": [
      "Reduction order for nice/marker/PowerSpectralDensity/alpha: ['frequency', 'channels']\n",
      "Reduction order for nice/marker/PowerSpectralDensity/alpha: ['frequency', 'channels']\n",
      "Reduction order for nice/marker/PowerSpectralDensity/delta: ['frequency', 'channels']\n",
      "Reduction order for nice/marker/PowerSpectralDensity/delta: ['frequency', 'channels']\n",
      "Reduction order for nice/marker/PowerSpectralDensity/theta: ['frequency', 'channels']\n",
      "Reduction order for nice/marker/PowerSpectralDensity/theta: ['frequency', 'channels']\n",
      "Reduction order for nice/marker/PowerSpectralDensity/gamma: ['frequency', 'channels']\n"
     ]
    },
    {
     "name": "stderr",
     "output_type": "stream",
     "text": [
      "[Parallel(n_jobs=24)]: Done  21 out of  24 | elapsed:    4.4s remaining:    0.6s\n",
      "[Parallel(n_jobs=24)]: Done  24 out of  24 | elapsed:    4.5s finished\n"
     ]
    },
    {
     "name": "stdout",
     "output_type": "stream",
     "text": [
      "Reduction order for nice/marker/PowerSpectralDensity/theta: ['frequency', 'channels']\n",
      "Reduction order for nice/marker/PowerSpectralDensity/beta: ['frequency', 'channels']\n",
      "Reduction order for nice/marker/PowerSpectralDensity/beta: ['frequency', 'channels']\n",
      "Reduction order for nice/marker/PowerSpectralDensity/summary_se: ['frequency', 'channels']\n",
      "Reduction order for nice/marker/PowerSpectralDensitySummary/summary_msf: ['channels']\n",
      "Reduction order for nice/marker/PowerSpectralDensitySummary/summary_sef90: ['channels']\n",
      "Reduction order for nice/marker/PowerSpectralDensitySummary/summary_sef95: ['channels']\n",
      "Running KolmogorovComplexity\n",
      "Elapsed time 0.2915346622467041 sec\n",
      "Reduction order for nice/marker/KolmogorovComplexity/default: ['channels']\n",
      "Filtering  at 83.33 Hz\n",
      "Performing symbolic transformation\n",
      "Reduction order for nice/marker/PermutationEntropy/default: ['channels']\n",
      "Filtering  at 41.67 Hz\n",
      "Performing symbolic transformation\n"
     ]
    },
    {
     "name": "stderr",
     "output_type": "stream",
     "text": [
      "/home/nicolas.bruno/anaconda3/lib/python3.7/site-packages/nice-0.1.dev0-py3.7.egg/nice/algorithms/information_theory/permutation_entropy.py:75: RuntimeWarning: divide by zero encountered in log\n",
      "  pe = np.nan_to_num(-np.nansum(count * np.log(count), axis=1))\n",
      "/home/nicolas.bruno/anaconda3/lib/python3.7/site-packages/nice-0.1.dev0-py3.7.egg/nice/algorithms/information_theory/permutation_entropy.py:75: RuntimeWarning: invalid value encountered in multiply\n",
      "  pe = np.nan_to_num(-np.nansum(count * np.log(count), axis=1))\n"
     ]
    },
    {
     "name": "stdout",
     "output_type": "stream",
     "text": [
      "Reduction order for nice/marker/PermutationEntropy/default: ['channels']\n",
      "Filtering  at 20.83 Hz\n",
      "Performing symbolic transformation\n",
      "Reduction order for nice/marker/PermutationEntropy/default: ['channels']\n",
      "Filtering  at 10.42 Hz\n",
      "Performing symbolic transformation\n",
      "Reduction order for nice/marker/PermutationEntropy/default: ['channels']\n",
      "Autodetected number of jobs 2\n",
      "Computing CSD\n",
      "Using 10-5 locations for CSD\n",
      "Using 2 jobs\n"
     ]
    },
    {
     "name": "stderr",
     "output_type": "stream",
     "text": [
      "[Parallel(n_jobs=2)]: Using backend LokyBackend with 2 concurrent workers.\n",
      "[Parallel(n_jobs=2)]: Done  18 tasks      | elapsed:    1.7s\n"
     ]
    },
    {
     "name": "stdout",
     "output_type": "stream",
     "text": [
      "Filtering  at 83.33 Hz\n"
     ]
    },
    {
     "name": "stderr",
     "output_type": "stream",
     "text": [
      "[Parallel(n_jobs=2)]: Done 202 out of 202 | elapsed:    1.9s finished\n"
     ]
    },
    {
     "name": "stdout",
     "output_type": "stream",
     "text": [
      "Reduction order for nice/marker/SymbolicMutualInformation/default: ['channels_y', 'channels']\n",
      "Autodetected number of jobs 2\n",
      "Computing CSD\n",
      "Using 10-5 locations for CSD\n",
      "Using 2 jobs\n"
     ]
    },
    {
     "name": "stderr",
     "output_type": "stream",
     "text": [
      "[Parallel(n_jobs=2)]: Using backend LokyBackend with 2 concurrent workers.\n"
     ]
    },
    {
     "name": "stdout",
     "output_type": "stream",
     "text": [
      "Filtering  at 41.67 Hz\n"
     ]
    },
    {
     "name": "stderr",
     "output_type": "stream",
     "text": [
      "[Parallel(n_jobs=2)]: Done 138 tasks      | elapsed:    0.3s\n",
      "[Parallel(n_jobs=2)]: Done 202 out of 202 | elapsed:    0.3s finished\n"
     ]
    },
    {
     "name": "stdout",
     "output_type": "stream",
     "text": [
      "Reduction order for nice/marker/SymbolicMutualInformation/default: ['channels_y', 'channels']\n",
      "Autodetected number of jobs 2\n",
      "Computing CSD\n",
      "Using 10-5 locations for CSD\n",
      "Using 2 jobs\n"
     ]
    },
    {
     "name": "stderr",
     "output_type": "stream",
     "text": [
      "[Parallel(n_jobs=2)]: Using backend LokyBackend with 2 concurrent workers.\n",
      "[Parallel(n_jobs=2)]: Done 138 tasks      | elapsed:    0.2s\n"
     ]
    },
    {
     "name": "stdout",
     "output_type": "stream",
     "text": [
      "Filtering  at 20.83 Hz\n"
     ]
    },
    {
     "name": "stderr",
     "output_type": "stream",
     "text": [
      "[Parallel(n_jobs=2)]: Done 202 out of 202 | elapsed:    0.3s finished\n"
     ]
    },
    {
     "name": "stdout",
     "output_type": "stream",
     "text": [
      "Reduction order for nice/marker/SymbolicMutualInformation/default: ['channels_y', 'channels']\n",
      "Autodetected number of jobs 2\n",
      "Computing CSD\n",
      "Using 10-5 locations for CSD\n",
      "Using 2 jobs\n"
     ]
    },
    {
     "name": "stderr",
     "output_type": "stream",
     "text": [
      "[Parallel(n_jobs=2)]: Using backend LokyBackend with 2 concurrent workers.\n"
     ]
    },
    {
     "name": "stdout",
     "output_type": "stream",
     "text": [
      "Filtering  at 10.42 Hz\n"
     ]
    },
    {
     "name": "stderr",
     "output_type": "stream",
     "text": [
      "[Parallel(n_jobs=2)]: Done 138 tasks      | elapsed:    0.3s\n",
      "[Parallel(n_jobs=2)]: Done 202 out of 202 | elapsed:    0.4s finished\n"
     ]
    },
    {
     "name": "stdout",
     "output_type": "stream",
     "text": [
      "Reduction order for nice/marker/SymbolicMutualInformation/default: ['channels_y', 'channels']\n",
      "Reduction order for nice/marker/ContingentNegativeVariation/default: ['channels']\n",
      "Reduction order for nice/marker/TimeLockedTopography/p1: ['channels', 'times']\n",
      "Reduction order for nice/marker/TimeLockedTopography/p3a: ['channels', 'times']\n",
      "Reduction order for nice/marker/TimeLockedTopography/p3b: ['channels', 'times']\n",
      "\n",
      "#########################################\n",
      "Computing markers for participant VP37\n",
      "#########################################\n",
      "\n",
      "Reading /media/nicolas.bruno/63f8a366-34b7-4896-a7ce-b5fb4ee78535/Nico/MW_eeg_data/minmarker/VP37/VP37_evoked_ar_subtracted_epo.fif ...\n",
      "    Found the data of interest:\n",
      "        t =    -200.00 ...     600.00 ms\n",
      "        0 CTF compensation matrices available\n",
      "Not setting metadata\n",
      "Not setting metadata\n",
      "220 matching events found\n",
      "No baseline correction applied\n",
      "0 projection items activated\n",
      "Autodetected number of jobs 24\n",
      "Effective window size : 16.384 (s)\n"
     ]
    },
    {
     "name": "stderr",
     "output_type": "stream",
     "text": [
      "[Parallel(n_jobs=24)]: Using backend LokyBackend with 24 concurrent workers.\n",
      "[Parallel(n_jobs=24)]: Done   6 out of  24 | elapsed:    4.1s remaining:   12.4s\n",
      "[Parallel(n_jobs=24)]: Done  11 out of  24 | elapsed:    4.2s remaining:    5.0s\n",
      "[Parallel(n_jobs=24)]: Done  16 out of  24 | elapsed:    4.3s remaining:    2.1s\n"
     ]
    },
    {
     "name": "stdout",
     "output_type": "stream",
     "text": [
      "Reduction order for nice/marker/PowerSpectralDensity/alpha: ['frequency', 'channels']\n",
      "Reduction order for nice/marker/PowerSpectralDensity/alpha: ['frequency', 'channels']\n",
      "Reduction order for nice/marker/PowerSpectralDensity/delta: ['frequency', 'channels']\n",
      "Reduction order for nice/marker/PowerSpectralDensity/delta: ['frequency', 'channels']\n"
     ]
    },
    {
     "name": "stderr",
     "output_type": "stream",
     "text": [
      "[Parallel(n_jobs=24)]: Done  21 out of  24 | elapsed:    4.4s remaining:    0.6s\n",
      "[Parallel(n_jobs=24)]: Done  24 out of  24 | elapsed:    4.4s finished\n",
      "/home/nicolas.bruno/anaconda3/lib/python3.7/site-packages/nice-0.1.dev0-py3.7.egg/nice/markers/spectral.py:128: RuntimeWarning: invalid value encountered in true_divide\n",
      "  self.data_norm_ = self.data_ / self.data_.sum(axis=-1)[..., None]\n",
      "/home/nicolas.bruno/anaconda3/lib/python3.7/site-packages/nice-0.1.dev0-py3.7.egg/nice/markers/spectral.py:220: RuntimeWarning: divide by zero encountered in log10\n",
      "  out = 10 * np.log10(out)\n"
     ]
    },
    {
     "name": "stdout",
     "output_type": "stream",
     "text": [
      "Reduction order for nice/marker/PowerSpectralDensity/theta: ['frequency', 'channels']\n",
      "Reduction order for nice/marker/PowerSpectralDensity/theta: ['frequency', 'channels']\n",
      "Reduction order for nice/marker/PowerSpectralDensity/gamma: ['frequency', 'channels']\n",
      "Reduction order for nice/marker/PowerSpectralDensity/theta: ['frequency', 'channels']\n",
      "Reduction order for nice/marker/PowerSpectralDensity/beta: ['frequency', 'channels']\n",
      "Reduction order for nice/marker/PowerSpectralDensity/beta: ['frequency', 'channels']\n",
      "Reduction order for nice/marker/PowerSpectralDensity/summary_se: ['frequency', 'channels']\n",
      "Reduction order for nice/marker/PowerSpectralDensitySummary/summary_msf: ['channels']\n",
      "Reduction order for nice/marker/PowerSpectralDensitySummary/summary_sef90: ['channels']\n",
      "Reduction order for nice/marker/PowerSpectralDensitySummary/summary_sef95: ['channels']\n",
      "Running KolmogorovComplexity\n",
      "Elapsed time 0.30852198600769043 sec\n",
      "Reduction order for nice/marker/KolmogorovComplexity/default: ['channels']\n",
      "Filtering  at 83.33 Hz\n",
      "Performing symbolic transformation\n",
      "Reduction order for nice/marker/PermutationEntropy/default: ['channels']\n",
      "Filtering  at 41.67 Hz\n",
      "Performing symbolic transformation\n"
     ]
    },
    {
     "name": "stderr",
     "output_type": "stream",
     "text": [
      "/home/nicolas.bruno/anaconda3/lib/python3.7/site-packages/nice-0.1.dev0-py3.7.egg/nice/algorithms/information_theory/permutation_entropy.py:75: RuntimeWarning: divide by zero encountered in log\n",
      "  pe = np.nan_to_num(-np.nansum(count * np.log(count), axis=1))\n",
      "/home/nicolas.bruno/anaconda3/lib/python3.7/site-packages/nice-0.1.dev0-py3.7.egg/nice/algorithms/information_theory/permutation_entropy.py:75: RuntimeWarning: invalid value encountered in multiply\n",
      "  pe = np.nan_to_num(-np.nansum(count * np.log(count), axis=1))\n"
     ]
    },
    {
     "name": "stdout",
     "output_type": "stream",
     "text": [
      "Reduction order for nice/marker/PermutationEntropy/default: ['channels']\n",
      "Filtering  at 20.83 Hz\n",
      "Performing symbolic transformation\n",
      "Reduction order for nice/marker/PermutationEntropy/default: ['channels']\n",
      "Filtering  at 10.42 Hz\n",
      "Performing symbolic transformation\n",
      "Reduction order for nice/marker/PermutationEntropy/default: ['channels']\n",
      "Autodetected number of jobs 2\n",
      "Computing CSD\n",
      "Using 10-5 locations for CSD\n",
      "Using 2 jobs\n"
     ]
    },
    {
     "name": "stderr",
     "output_type": "stream",
     "text": [
      "[Parallel(n_jobs=2)]: Using backend LokyBackend with 2 concurrent workers.\n",
      "[Parallel(n_jobs=2)]: Done  18 tasks      | elapsed:    1.7s\n"
     ]
    },
    {
     "name": "stdout",
     "output_type": "stream",
     "text": [
      "Filtering  at 83.33 Hz\n"
     ]
    },
    {
     "name": "stderr",
     "output_type": "stream",
     "text": [
      "[Parallel(n_jobs=2)]: Done 220 out of 220 | elapsed:    2.0s finished\n"
     ]
    },
    {
     "name": "stdout",
     "output_type": "stream",
     "text": [
      "Reduction order for nice/marker/SymbolicMutualInformation/default: ['channels_y', 'channels']\n",
      "Autodetected number of jobs 2\n",
      "Computing CSD\n",
      "Using 10-5 locations for CSD\n",
      "Using 2 jobs\n"
     ]
    },
    {
     "name": "stderr",
     "output_type": "stream",
     "text": [
      "[Parallel(n_jobs=2)]: Using backend LokyBackend with 2 concurrent workers.\n"
     ]
    },
    {
     "name": "stdout",
     "output_type": "stream",
     "text": [
      "Filtering  at 41.67 Hz\n"
     ]
    },
    {
     "name": "stderr",
     "output_type": "stream",
     "text": [
      "[Parallel(n_jobs=2)]: Done 142 tasks      | elapsed:    0.2s\n",
      "[Parallel(n_jobs=2)]: Done 220 out of 220 | elapsed:    0.3s finished\n"
     ]
    },
    {
     "name": "stdout",
     "output_type": "stream",
     "text": [
      "Reduction order for nice/marker/SymbolicMutualInformation/default: ['channels_y', 'channels']\n",
      "Autodetected number of jobs 2\n",
      "Computing CSD\n",
      "Using 10-5 locations for CSD\n",
      "Using 2 jobs\n"
     ]
    },
    {
     "name": "stderr",
     "output_type": "stream",
     "text": [
      "[Parallel(n_jobs=2)]: Using backend LokyBackend with 2 concurrent workers.\n"
     ]
    },
    {
     "name": "stdout",
     "output_type": "stream",
     "text": [
      "Filtering  at 20.83 Hz\n"
     ]
    },
    {
     "name": "stderr",
     "output_type": "stream",
     "text": [
      "[Parallel(n_jobs=2)]: Done 142 tasks      | elapsed:    0.2s\n",
      "[Parallel(n_jobs=2)]: Done 220 out of 220 | elapsed:    0.3s finished\n"
     ]
    },
    {
     "name": "stdout",
     "output_type": "stream",
     "text": [
      "Reduction order for nice/marker/SymbolicMutualInformation/default: ['channels_y', 'channels']\n",
      "Autodetected number of jobs 2\n",
      "Computing CSD\n",
      "Using 10-5 locations for CSD\n",
      "Using 2 jobs\n"
     ]
    },
    {
     "name": "stderr",
     "output_type": "stream",
     "text": [
      "[Parallel(n_jobs=2)]: Using backend LokyBackend with 2 concurrent workers.\n"
     ]
    },
    {
     "name": "stdout",
     "output_type": "stream",
     "text": [
      "Filtering  at 10.42 Hz\n"
     ]
    },
    {
     "name": "stderr",
     "output_type": "stream",
     "text": [
      "[Parallel(n_jobs=2)]: Done 142 tasks      | elapsed:    0.2s\n",
      "[Parallel(n_jobs=2)]: Done 220 out of 220 | elapsed:    0.3s finished\n"
     ]
    },
    {
     "name": "stdout",
     "output_type": "stream",
     "text": [
      "Reduction order for nice/marker/SymbolicMutualInformation/default: ['channels_y', 'channels']\n",
      "Reduction order for nice/marker/ContingentNegativeVariation/default: ['channels']\n",
      "Reduction order for nice/marker/TimeLockedTopography/p1: ['channels', 'times']\n",
      "Reduction order for nice/marker/TimeLockedTopography/p3a: ['channels', 'times']\n",
      "Reduction order for nice/marker/TimeLockedTopography/p3b: ['channels', 'times']\n",
      "Reading /media/nicolas.bruno/63f8a366-34b7-4896-a7ce-b5fb4ee78535/Nico/MW_eeg_data/minmarker/VP37/VP37_evoked_ar_rereferenced_epo.fif ...\n",
      "    Found the data of interest:\n",
      "        t =    -200.00 ...     600.00 ms\n",
      "        0 CTF compensation matrices available\n",
      "Not setting metadata\n",
      "Not setting metadata\n",
      "220 matching events found\n",
      "No baseline correction applied\n",
      "0 projection items activated\n",
      "Autodetected number of jobs 24\n",
      "Effective window size : 16.384 (s)\n"
     ]
    },
    {
     "name": "stderr",
     "output_type": "stream",
     "text": [
      "[Parallel(n_jobs=24)]: Using backend LokyBackend with 24 concurrent workers.\n",
      "[Parallel(n_jobs=24)]: Done   6 out of  24 | elapsed:    4.1s remaining:   12.4s\n",
      "[Parallel(n_jobs=24)]: Done  11 out of  24 | elapsed:    4.2s remaining:    5.0s\n",
      "[Parallel(n_jobs=24)]: Done  16 out of  24 | elapsed:    4.3s remaining:    2.2s\n"
     ]
    },
    {
     "name": "stdout",
     "output_type": "stream",
     "text": [
      "Reduction order for nice/marker/PowerSpectralDensity/alpha: ['frequency', 'channels']\n",
      "Reduction order for nice/marker/PowerSpectralDensity/alpha: ['frequency', 'channels']\n",
      "Reduction order for nice/marker/PowerSpectralDensity/delta: ['frequency', 'channels']\n",
      "Reduction order for nice/marker/PowerSpectralDensity/delta: ['frequency', 'channels']\n",
      "Reduction order for nice/marker/PowerSpectralDensity/theta: ['frequency', 'channels']\n",
      "Reduction order for nice/marker/PowerSpectralDensity/theta: ['frequency', 'channels']\n"
     ]
    },
    {
     "name": "stderr",
     "output_type": "stream",
     "text": [
      "[Parallel(n_jobs=24)]: Done  21 out of  24 | elapsed:    4.4s remaining:    0.6s\n",
      "[Parallel(n_jobs=24)]: Done  24 out of  24 | elapsed:    4.4s finished\n"
     ]
    },
    {
     "name": "stdout",
     "output_type": "stream",
     "text": [
      "Reduction order for nice/marker/PowerSpectralDensity/gamma: ['frequency', 'channels']\n",
      "Reduction order for nice/marker/PowerSpectralDensity/theta: ['frequency', 'channels']\n",
      "Reduction order for nice/marker/PowerSpectralDensity/beta: ['frequency', 'channels']\n",
      "Reduction order for nice/marker/PowerSpectralDensity/beta: ['frequency', 'channels']\n",
      "Reduction order for nice/marker/PowerSpectralDensity/summary_se: ['frequency', 'channels']\n",
      "Reduction order for nice/marker/PowerSpectralDensitySummary/summary_msf: ['channels']\n",
      "Reduction order for nice/marker/PowerSpectralDensitySummary/summary_sef90: ['channels']\n",
      "Reduction order for nice/marker/PowerSpectralDensitySummary/summary_sef95: ['channels']\n",
      "Running KolmogorovComplexity\n",
      "Elapsed time 0.3124709129333496 sec\n",
      "Reduction order for nice/marker/KolmogorovComplexity/default: ['channels']\n",
      "Filtering  at 83.33 Hz\n",
      "Performing symbolic transformation\n",
      "Reduction order for nice/marker/PermutationEntropy/default: ['channels']\n",
      "Filtering  at 41.67 Hz\n",
      "Performing symbolic transformation\n"
     ]
    },
    {
     "name": "stderr",
     "output_type": "stream",
     "text": [
      "/home/nicolas.bruno/anaconda3/lib/python3.7/site-packages/nice-0.1.dev0-py3.7.egg/nice/algorithms/information_theory/permutation_entropy.py:75: RuntimeWarning: divide by zero encountered in log\n",
      "  pe = np.nan_to_num(-np.nansum(count * np.log(count), axis=1))\n",
      "/home/nicolas.bruno/anaconda3/lib/python3.7/site-packages/nice-0.1.dev0-py3.7.egg/nice/algorithms/information_theory/permutation_entropy.py:75: RuntimeWarning: invalid value encountered in multiply\n",
      "  pe = np.nan_to_num(-np.nansum(count * np.log(count), axis=1))\n"
     ]
    },
    {
     "name": "stdout",
     "output_type": "stream",
     "text": [
      "Reduction order for nice/marker/PermutationEntropy/default: ['channels']\n",
      "Filtering  at 20.83 Hz\n",
      "Performing symbolic transformation\n",
      "Reduction order for nice/marker/PermutationEntropy/default: ['channels']\n",
      "Filtering  at 10.42 Hz\n",
      "Performing symbolic transformation\n",
      "Reduction order for nice/marker/PermutationEntropy/default: ['channels']\n",
      "Autodetected number of jobs 2\n",
      "Computing CSD\n",
      "Using 10-5 locations for CSD\n",
      "Using 2 jobs\n"
     ]
    },
    {
     "name": "stderr",
     "output_type": "stream",
     "text": [
      "[Parallel(n_jobs=2)]: Using backend LokyBackend with 2 concurrent workers.\n",
      "[Parallel(n_jobs=2)]: Done  24 tasks      | elapsed:    1.7s\n"
     ]
    },
    {
     "name": "stdout",
     "output_type": "stream",
     "text": [
      "Filtering  at 83.33 Hz\n"
     ]
    },
    {
     "name": "stderr",
     "output_type": "stream",
     "text": [
      "[Parallel(n_jobs=2)]: Done 220 out of 220 | elapsed:    2.0s finished\n"
     ]
    },
    {
     "name": "stdout",
     "output_type": "stream",
     "text": [
      "Reduction order for nice/marker/SymbolicMutualInformation/default: ['channels_y', 'channels']\n",
      "Autodetected number of jobs 2\n",
      "Computing CSD\n",
      "Using 10-5 locations for CSD\n",
      "Using 2 jobs\n"
     ]
    },
    {
     "name": "stderr",
     "output_type": "stream",
     "text": [
      "[Parallel(n_jobs=2)]: Using backend LokyBackend with 2 concurrent workers.\n",
      "[Parallel(n_jobs=2)]: Done  74 tasks      | elapsed:    0.2s\n"
     ]
    },
    {
     "name": "stdout",
     "output_type": "stream",
     "text": [
      "Filtering  at 41.67 Hz\n"
     ]
    },
    {
     "name": "stderr",
     "output_type": "stream",
     "text": [
      "[Parallel(n_jobs=2)]: Done 220 out of 220 | elapsed:    0.4s finished\n"
     ]
    },
    {
     "name": "stdout",
     "output_type": "stream",
     "text": [
      "Reduction order for nice/marker/SymbolicMutualInformation/default: ['channels_y', 'channels']\n",
      "Autodetected number of jobs 2\n",
      "Computing CSD\n",
      "Using 10-5 locations for CSD\n",
      "Using 2 jobs\n"
     ]
    },
    {
     "name": "stderr",
     "output_type": "stream",
     "text": [
      "[Parallel(n_jobs=2)]: Using backend LokyBackend with 2 concurrent workers.\n"
     ]
    },
    {
     "name": "stdout",
     "output_type": "stream",
     "text": [
      "Filtering  at 20.83 Hz\n"
     ]
    },
    {
     "name": "stderr",
     "output_type": "stream",
     "text": [
      "[Parallel(n_jobs=2)]: Done 142 tasks      | elapsed:    0.2s\n",
      "[Parallel(n_jobs=2)]: Done 220 out of 220 | elapsed:    0.3s finished\n"
     ]
    },
    {
     "name": "stdout",
     "output_type": "stream",
     "text": [
      "Reduction order for nice/marker/SymbolicMutualInformation/default: ['channels_y', 'channels']\n",
      "Autodetected number of jobs 2\n",
      "Computing CSD\n",
      "Using 10-5 locations for CSD\n",
      "Using 2 jobs\n"
     ]
    },
    {
     "name": "stderr",
     "output_type": "stream",
     "text": [
      "[Parallel(n_jobs=2)]: Using backend LokyBackend with 2 concurrent workers.\n"
     ]
    },
    {
     "name": "stdout",
     "output_type": "stream",
     "text": [
      "Filtering  at 10.42 Hz\n"
     ]
    },
    {
     "name": "stderr",
     "output_type": "stream",
     "text": [
      "[Parallel(n_jobs=2)]: Done 114 tasks      | elapsed:    0.2s\n",
      "[Parallel(n_jobs=2)]: Done 220 out of 220 | elapsed:    0.4s finished\n"
     ]
    },
    {
     "name": "stdout",
     "output_type": "stream",
     "text": [
      "Reduction order for nice/marker/SymbolicMutualInformation/default: ['channels_y', 'channels']\n",
      "Reduction order for nice/marker/ContingentNegativeVariation/default: ['channels']\n",
      "Reduction order for nice/marker/TimeLockedTopography/p1: ['channels', 'times']\n",
      "Reduction order for nice/marker/TimeLockedTopography/p3a: ['channels', 'times']\n",
      "Reduction order for nice/marker/TimeLockedTopography/p3b: ['channels', 'times']\n"
     ]
    }
   ],
   "source": [
    "target = 'epochs'\n",
    "\n",
    "for i in all_participants:\n",
    "    participant = i\n",
    "    \n",
    "    print('')\n",
    "    print('#########################################')\n",
    "    print(f'Computing markers for participant {participant}')\n",
    "    print('#########################################')\n",
    "    print('')\n",
    "    \n",
    "\n",
    "    folder = path + participant +'/'\n",
    "\n",
    "    \n",
    "    df_markers = pd.DataFrame()\n",
    "    df_markers['participant'] = participant\n",
    "    \n",
    "    #############################\n",
    "    #### With ERP SUBTRACTED ####\n",
    "    #############################\n",
    "    epochs_subtracted = mne.read_epochs(folder +  participant + '_' + epoch_type + '_' +  'ar_subtracted_epo.fif') \n",
    "    epochs_subtracted.info['description'] = 'biosemi/64' #necessary for wSMI \n",
    "    epochs_subtracted =  epochs_subtracted.pick_types(eeg = True) #EOGs break everything\\\n",
    "    \n",
    "    df_subtracted = pd.DataFrame.from_dict(all_markers(epochs_subtracted, 0, 0.6, target))\n",
    "    \n",
    "    df_subtracted = df_subtracted.assign(\n",
    "    events = epochs_subtracted.events[:,2],\n",
    "    label = lambda df: df.events.apply(lambda x: make_str_label(x)).str.split('/'), \n",
    "    probe = lambda df: df.label.apply(lambda x: x[0]),\n",
    "    mind = lambda df: df.label.apply(lambda x: x[1]),\n",
    "    stimuli = lambda df: df.label.apply(lambda x: x[2]),\n",
    "    correct = lambda df: df.label.apply(lambda x: x[3]), \n",
    "    prev_trial = lambda df: df.label.apply(lambda x: x[4]),\n",
    "    segment = lambda df: df.label.apply(lambda x: x[5]),\n",
    "    preproc = 'subtracted',\n",
    "    epoch_type = epoch_type\n",
    "    )\n",
    "    \n",
    "    df_markers = df_markers.append(df_subtracted)\n",
    "        \n",
    "    ##################\n",
    "    #### With ERP ####\n",
    "    ##################\n",
    "    epochs_erp = mne.read_epochs(folder +  participant + '_' + epoch_type + '_' +  'ar_rereferenced_epo.fif')\n",
    "    epochs_erp.info['description'] = 'biosemi/64' #necessary for wSMI\n",
    "    epochs_erp =  epochs_erp.pick_types(eeg = True) #EOGs break everything\n",
    "    \n",
    "    df_erp = pd.DataFrame.from_dict(all_markers(epochs_erp, 0, 0.6, target))\n",
    "    \n",
    "    df_erp = df_erp.assign(\n",
    "    events = epochs_erp.events[:,2],\n",
    "    label = lambda df: df.events.apply(lambda x: make_str_label(x)).str.split('/'), \n",
    "    probe = lambda df: df.label.apply(lambda x: x[0]),\n",
    "    mind = lambda df: df.label.apply(lambda x: x[1]),\n",
    "    stimuli = lambda df: df.label.apply(lambda x: x[2]),\n",
    "    correct = lambda df: df.label.apply(lambda x: x[3]), \n",
    "    prev_trial = lambda df: df.label.apply(lambda x: x[4]),\n",
    "    segment = lambda df: df.label.apply(lambda x: x[5]),\n",
    "    preproc = 'erp',\n",
    "    epoch_type = epoch_type\n",
    "    )\n",
    "    df_markers = df_markers.append(df_erp)\n",
    "    \n",
    "    \n",
    "    \n",
    "    \n",
    "    df_markers.to_csv(folder+ participant + '_' + epoch_type + '_all_marker.csv')\n"
   ]
  }
 ],
 "metadata": {
  "kernelspec": {
   "display_name": "Python 3",
   "language": "python",
   "name": "python3"
  },
  "language_info": {
   "codemirror_mode": {
    "name": "ipython",
    "version": 3
   },
   "file_extension": ".py",
   "mimetype": "text/x-python",
   "name": "python",
   "nbconvert_exporter": "python",
   "pygments_lexer": "ipython3",
   "version": "3.7.4"
  }
 },
 "nbformat": 4,
 "nbformat_minor": 4
}
