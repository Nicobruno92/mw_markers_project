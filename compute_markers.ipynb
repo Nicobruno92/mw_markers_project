{
 "cells": [
  {
   "cell_type": "code",
   "execution_count": 2,
   "metadata": {},
   "outputs": [
    {
     "name": "stdout",
     "output_type": "stream",
     "text": [
      "Using MNE with API > 0.19\n"
     ]
    }
   ],
   "source": [
    "import numpy as np\n",
    "import pandas as pd\n",
    "import matplotlib.pyplot as plt\n",
    "import mne \n",
    "from nice.markers import (KolmogorovComplexity, TimeLockedContrast, PowerSpectralDensityEstimator, \n",
    "                          PowerSpectralDensity, SymbolicMutualInformation, PermutationEntropy)\n",
    "\n",
    "import pycsd"
   ]
  },
  {
   "cell_type": "code",
   "execution_count": 3,
   "metadata": {},
   "outputs": [],
   "source": [
    "def all_markers(epochs, tmin, tmax):\n",
    "        \"\"\"\n",
    "        Computes all ther markers for given epochs.\n",
    "        epochs: the epochs from which to compute the markers\n",
    "        \n",
    "        \"\"\"\n",
    "        \n",
    "        \n",
    "\n",
    "        # =============================================================================\n",
    "        # SPECTRAL MARKERS\n",
    "        # =============================================================================\n",
    "          #PowerSpectralDensityL\n",
    "        psds_params = dict(n_fft=4096, n_overlap=100, n_jobs='auto', nperseg=128)\n",
    "        base_psd = PowerSpectralDensityEstimator(\n",
    "            psd_method='welch', tmin=tmin, tmax=tmax, fmin=1., fmax=45.,\n",
    "            psd_params=psds_params, comment='default')\n",
    "\n",
    "\n",
    "            #alpha normalized\n",
    "        alpha = PowerSpectralDensity(estimator=base_psd, fmin=8., fmax=13.,normalize=True, comment='alphan')\n",
    "        alpha.fit(epochs)\n",
    "        from scipy.stats import trim_mean\n",
    "        def trim_mean80(a, axis=0):\n",
    "            return trim_mean(a, proportiontocut=.1, axis=axis)\n",
    "\n",
    "\n",
    "        reduction_func = [{'axis': 'frequency', 'function': np.sum},\n",
    "             {'axis': 'channels', 'function': np.mean},\n",
    "             {'axis': 'epochs', 'function': trim_mean80}]\n",
    "        #alpha normalized\n",
    "        alpha = PowerSpectralDensity(estimator=base_psd, fmin=8., fmax=13.,normalize=True, comment='alpha')\n",
    "        alpha.fit(epochs)\n",
    "        dataalpha_n = alpha._reduce_to(reduction_func, target='epochs', picks=None)\n",
    "\n",
    "        #alpha\n",
    "        alpha = PowerSpectralDensity(estimator=base_psd, fmin=8., fmax=13.,normalize=False, comment='alpha')\n",
    "        alpha.fit(epochs)\n",
    "        dataalpha = alpha._reduce_to(reduction_func, target='epochs', picks=None)\n",
    "\n",
    "        #delta normalized\n",
    "        delta = PowerSpectralDensity(estimator=base_psd, fmin=1., fmax=4.,normalize=True, comment='delta')\n",
    "        delta.fit(epochs)\n",
    "        datadelta_n = delta._reduce_to(reduction_func, target='epochs', picks=None)\n",
    "\n",
    "\n",
    "        #delta\n",
    "        delta = PowerSpectralDensity(estimator=base_psd, fmin=1., fmax=4,normalize=False, comment='delta')\n",
    "        delta.fit(epochs)\n",
    "        datadelta = delta._reduce_to(reduction_func, target='epochs', picks=None)\n",
    "\n",
    "        #theta normalized\n",
    "        theta = PowerSpectralDensity(estimator=base_psd, fmin=4., fmax=8.,normalize=True, comment='theta')\n",
    "        theta.fit(epochs)\n",
    "        datatheta_n = theta._reduce_to(reduction_func, target='epochs', picks=None)\n",
    "\n",
    "\n",
    "        #theta\n",
    "        theta = PowerSpectralDensity(estimator=base_psd, fmin=4., fmax=8,normalize=False, comment='theta')\n",
    "        theta.fit(epochs)\n",
    "        datatheta = theta._reduce_to(reduction_func, target='epochs', picks=None)\n",
    "\n",
    "        #gamma normalized\n",
    "        gamma = PowerSpectralDensity(estimator=base_psd, fmin=30., fmax=45.,normalize=True, comment='gamma')\n",
    "        gamma.fit(epochs)\n",
    "        datagamma_n = gamma._reduce_to(reduction_func, target='epochs', picks=None)\n",
    "\n",
    "\n",
    "        #gamma\n",
    "        gamma = PowerSpectralDensity(estimator=base_psd, fmin=30., fmax=45,normalize=False, comment='theta')\n",
    "        gamma.fit(epochs)\n",
    "        datagamma = gamma._reduce_to(reduction_func, target='epochs', picks=None)\n",
    "\n",
    "        #beta normalized\n",
    "        beta = PowerSpectralDensity(estimator=base_psd, fmin=13., fmax=30.,normalize=True, comment='beta')\n",
    "        beta.fit(epochs)\n",
    "        databetaa_n = beta._reduce_to(reduction_func, target='epochs', picks=None)\n",
    "\n",
    "\n",
    "        #beta\n",
    "        beta = PowerSpectralDensity(estimator=base_psd, fmin=13., fmax=30,normalize=False, comment='beta')\n",
    "        beta.fit(epochs)\n",
    "        databeta = beta._reduce_to(reduction_func, target='epochs', picks=None)\n",
    "\n",
    "\n",
    "        # =============================================================================\n",
    "        # INFORMATION THEORY MARKERS\n",
    "        # =============================================================================\n",
    "\n",
    "        komplexity = KolmogorovComplexity(tmin=tmin, tmax=tmax, backend='openmp')\n",
    "        komplexity.fit(epochs)\n",
    "        komplexityobject=komplexity.data_ ###Object to save, number of channels*number of epochs, it's ndarray\n",
    "        reduction_func= [{'axis': 'channels', 'function': np.mean},\n",
    "             {'axis': 'epochs', 'function': trim_mean80}]\n",
    "\n",
    "\n",
    "        datakomplexity = komplexity._reduce_to(reduction_func, target='epochs', picks=None)\n",
    "\n",
    "\n",
    "        p_e = PermutationEntropy(tmin=tmin, tmax=tmax)\n",
    "        p_e.fit(epochs)\n",
    "        p_eobject = p_e.data_\n",
    "        datap_e = p_e._reduce_to(reduction_func, target='epochs', picks=None)\n",
    "\n",
    "        # =============================================================================\n",
    "        # wSMI MARKERS\n",
    "        # =============================================================================\n",
    "        wSMI = SymbolicMutualInformation(tmin=tmin, tmax=tmax, kernel=3, tau=8, backend=\"openmp\",\n",
    "                     method_params=None, method='weighted', comment='default')\n",
    "        wSMI.fit(epochs)\n",
    "        wSMIobject = wSMI.data_\n",
    "\n",
    "        reduction_func= [{'axis': 'channels_y', 'function': np.median},\n",
    "             {'axis': 'channels', 'function': np.mean},\n",
    "             {'axis': 'epochs', 'function': trim_mean80}]\n",
    "        \n",
    "        datawSMI = wSMI._reduce_to(reduction_func, target='epochs', picks=None)\n",
    "        \n",
    "        \n",
    "        return {'wSMI':datawSMI, 'p_e':datap_e, 'k':datakomplexity, 'b':databeta,'b_n':databetaa_n, 'g':datagamma, 'g_n':datagamma_n, 't':datatheta,'t_n': datatheta_n , 'd':datadelta,\n",
    "        'd_n':datadelta_n, 'a_n':dataalpha_n, 'a':dataalpha}\n"
   ]
  },
  {
   "cell_type": "code",
   "execution_count": 9,
   "metadata": {},
   "outputs": [],
   "source": [
    "epoch_type = 'evoked'\n",
    "# epoch_type = 'pseudo-rs'\n",
    "\n",
    "\n",
    "all_participants = ['VP07','VP08','VP09', 'VP10','VP11','VP12','VP13','VP14','VP18','VP19','VP20','VP22','VP23','VP24','VP25','VP26','VP27','VP28','VP29','VP30','VP31','VP32','VP33','VP35','VP36','VP37']\n",
    "\n",
    "\n",
    "path = '/media/nicolas.bruno/63f8a366-34b7-4896-a7ce-b5fb4ee78535/Nico/MW_eeg_data/minmarker/' #icm-linux\n",
    "# path = '/Users/nicobruno/ownCloud/MW_eeg_data/minmarker/' #nico-mac"
   ]
  },
  {
   "cell_type": "code",
   "execution_count": 20,
   "metadata": {},
   "outputs": [
    {
     "name": "stdout",
     "output_type": "stream",
     "text": [
      "Reading /media/nicolas.bruno/63f8a366-34b7-4896-a7ce-b5fb4ee78535/Nico/MW_eeg_data/minmarker/VP07/VP07_evoked_ar_clean_epo.fif ...\n",
      "    Found the data of interest:\n",
      "        t =    -200.00 ...     600.00 ms\n",
      "        0 CTF compensation matrices available\n",
      "Not setting metadata\n",
      "Not setting metadata\n",
      "123 matching events found\n",
      "No baseline correction applied\n",
      "0 projection items activated\n",
      "Autodetected number of jobs 24\n",
      "Effective window size : 16.384 (s)\n"
     ]
    },
    {
     "name": "stderr",
     "output_type": "stream",
     "text": [
      "[Parallel(n_jobs=24)]: Using backend LokyBackend with 24 concurrent workers.\n",
      "[Parallel(n_jobs=24)]: Done   6 out of  24 | elapsed:    3.5s remaining:   10.4s\n",
      "[Parallel(n_jobs=24)]: Done  11 out of  24 | elapsed:    3.6s remaining:    4.2s\n",
      "[Parallel(n_jobs=24)]: Done  16 out of  24 | elapsed:    3.6s remaining:    1.8s\n"
     ]
    },
    {
     "name": "stdout",
     "output_type": "stream",
     "text": [
      "Reduction order for nice/marker/PowerSpectralDensity/alpha: ['frequency', 'channels']\n",
      "Reduction order for nice/marker/PowerSpectralDensity/alpha: ['frequency', 'channels']\n",
      "Reduction order for nice/marker/PowerSpectralDensity/delta: ['frequency', 'channels']\n",
      "Reduction order for nice/marker/PowerSpectralDensity/delta: ['frequency', 'channels']\n",
      "Reduction order for nice/marker/PowerSpectralDensity/theta: ['frequency', 'channels']\n",
      "Reduction order for nice/marker/PowerSpectralDensity/theta: ['frequency', 'channels']\n",
      "Reduction order for nice/marker/PowerSpectralDensity/gamma: ['frequency', 'channels']\n",
      "Reduction order for nice/marker/PowerSpectralDensity/theta: ['frequency', 'channels']\n",
      "Reduction order for nice/marker/PowerSpectralDensity/beta: ['frequency', 'channels']\n",
      "Reduction order for nice/marker/PowerSpectralDensity/beta: ['frequency', 'channels']\n"
     ]
    },
    {
     "name": "stderr",
     "output_type": "stream",
     "text": [
      "[Parallel(n_jobs=24)]: Done  21 out of  24 | elapsed:    3.7s remaining:    0.5s\n",
      "[Parallel(n_jobs=24)]: Done  24 out of  24 | elapsed:    3.9s finished\n",
      "/home/nicolas.bruno/anaconda3/lib/python3.7/site-packages/nice-0.1.dev0-py3.7.egg/nice/markers/spectral.py:128: RuntimeWarning: invalid value encountered in true_divide\n",
      "  self.data_norm_ = self.data_ / self.data_.sum(axis=-1)[..., None]\n",
      "/home/nicolas.bruno/anaconda3/lib/python3.7/site-packages/nice-0.1.dev0-py3.7.egg/nice/markers/spectral.py:220: RuntimeWarning: divide by zero encountered in log10\n",
      "  out = 10 * np.log10(out)\n"
     ]
    },
    {
     "name": "stdout",
     "output_type": "stream",
     "text": [
      "Running KolmogorovComplexity\n",
      "Elapsed time 0.007952451705932617 sec\n",
      "Reduction order for nice/marker/KolmogorovComplexity/default: ['channels']\n",
      "Filtering  at 10.42 Hz\n",
      "Performing symbolic transformation\n",
      "Reduction order for nice/marker/PermutationEntropy/default: ['channels']\n",
      "Autodetected number of jobs 2\n",
      "Computing CSD\n",
      "Using 10-5 locations for CSD\n",
      "Using 2 jobs\n"
     ]
    },
    {
     "name": "stderr",
     "output_type": "stream",
     "text": [
      "/home/nicolas.bruno/anaconda3/lib/python3.7/site-packages/nice-0.1.dev0-py3.7.egg/nice/algorithms/information_theory/permutation_entropy.py:75: RuntimeWarning: divide by zero encountered in log\n",
      "  pe = np.nan_to_num(-np.nansum(count * np.log(count), axis=1))\n",
      "/home/nicolas.bruno/anaconda3/lib/python3.7/site-packages/nice-0.1.dev0-py3.7.egg/nice/algorithms/information_theory/permutation_entropy.py:75: RuntimeWarning: invalid value encountered in multiply\n",
      "  pe = np.nan_to_num(-np.nansum(count * np.log(count), axis=1))\n",
      "[Parallel(n_jobs=2)]: Using backend LokyBackend with 2 concurrent workers.\n"
     ]
    },
    {
     "name": "stdout",
     "output_type": "stream",
     "text": [
      "Filtering  at 10.42 Hz\n",
      "Reduction order for nice/marker/SymbolicMutualInformation/default: ['channels_y', 'channels']\n",
      "Autodetected number of jobs 24\n",
      "Effective window size : 16.384 (s)\n"
     ]
    },
    {
     "name": "stderr",
     "output_type": "stream",
     "text": [
      "[Parallel(n_jobs=2)]: Done   4 out of   4 | elapsed:    1.6s remaining:    0.0s\n",
      "[Parallel(n_jobs=2)]: Done   4 out of   4 | elapsed:    1.6s finished\n",
      "[Parallel(n_jobs=24)]: Using backend LokyBackend with 24 concurrent workers.\n",
      "[Parallel(n_jobs=24)]: Done   6 out of  24 | elapsed:    3.5s remaining:   10.4s\n",
      "[Parallel(n_jobs=24)]: Done  11 out of  24 | elapsed:    3.5s remaining:    4.1s\n",
      "[Parallel(n_jobs=24)]: Done  16 out of  24 | elapsed:    3.5s remaining:    1.8s\n",
      "[Parallel(n_jobs=24)]: Done  21 out of  24 | elapsed:    3.6s remaining:    0.5s\n"
     ]
    },
    {
     "name": "stdout",
     "output_type": "stream",
     "text": [
      "Reduction order for nice/marker/PowerSpectralDensity/alpha: ['frequency', 'channels']\n",
      "Reduction order for nice/marker/PowerSpectralDensity/alpha: ['frequency', 'channels']\n",
      "Reduction order for nice/marker/PowerSpectralDensity/delta: ['frequency', 'channels']\n",
      "Reduction order for nice/marker/PowerSpectralDensity/delta: ['frequency', 'channels']\n",
      "Reduction order for nice/marker/PowerSpectralDensity/theta: ['frequency', 'channels']\n",
      "Reduction order for nice/marker/PowerSpectralDensity/theta: ['frequency', 'channels']\n",
      "Reduction order for nice/marker/PowerSpectralDensity/gamma: ['frequency', 'channels']\n",
      "Reduction order for nice/marker/PowerSpectralDensity/theta: ['frequency', 'channels']\n",
      "Reduction order for nice/marker/PowerSpectralDensity/beta: ['frequency', 'channels']\n",
      "Reduction order for nice/marker/PowerSpectralDensity/beta: ['frequency', 'channels']\n",
      "Running KolmogorovComplexity\n",
      "Elapsed time 0.025072336196899414 sec\n",
      "Reduction order for nice/marker/KolmogorovComplexity/default: ['channels']\n",
      "Filtering  at 10.42 Hz\n",
      "Performing symbolic transformation\n"
     ]
    },
    {
     "name": "stderr",
     "output_type": "stream",
     "text": [
      "[Parallel(n_jobs=24)]: Done  24 out of  24 | elapsed:    3.7s finished\n"
     ]
    },
    {
     "name": "stdout",
     "output_type": "stream",
     "text": [
      "Reduction order for nice/marker/PermutationEntropy/default: ['channels']\n",
      "Autodetected number of jobs 2\n",
      "Computing CSD\n",
      "Using 10-5 locations for CSD\n",
      "Using 2 jobs\n"
     ]
    },
    {
     "name": "stderr",
     "output_type": "stream",
     "text": [
      "[Parallel(n_jobs=2)]: Using backend LokyBackend with 2 concurrent workers.\n"
     ]
    },
    {
     "name": "stdout",
     "output_type": "stream",
     "text": [
      "Filtering  at 10.42 Hz\n",
      "Reduction order for nice/marker/SymbolicMutualInformation/default: ['channels_y', 'channels']\n",
      "Autodetected number of jobs 24\n",
      "Effective window size : 16.384 (s)\n"
     ]
    },
    {
     "name": "stderr",
     "output_type": "stream",
     "text": [
      "[Parallel(n_jobs=2)]: Done  18 out of  18 | elapsed:    1.7s finished\n",
      "[Parallel(n_jobs=24)]: Using backend LokyBackend with 24 concurrent workers.\n",
      "[Parallel(n_jobs=24)]: Done   6 out of  24 | elapsed:    3.4s remaining:   10.1s\n",
      "[Parallel(n_jobs=24)]: Done  11 out of  24 | elapsed:    3.4s remaining:    4.0s\n",
      "[Parallel(n_jobs=24)]: Done  16 out of  24 | elapsed:    3.5s remaining:    1.7s\n",
      "[Parallel(n_jobs=24)]: Done  21 out of  24 | elapsed:    3.5s remaining:    0.5s\n"
     ]
    },
    {
     "name": "stdout",
     "output_type": "stream",
     "text": [
      "Reduction order for nice/marker/PowerSpectralDensity/alpha: ['frequency', 'channels']\n",
      "Reduction order for nice/marker/PowerSpectralDensity/alpha: ['frequency', 'channels']\n",
      "Reduction order for nice/marker/PowerSpectralDensity/delta: ['frequency', 'channels']\n",
      "Reduction order for nice/marker/PowerSpectralDensity/delta: ['frequency', 'channels']\n",
      "Reduction order for nice/marker/PowerSpectralDensity/theta: ['frequency', 'channels']\n",
      "Reduction order for nice/marker/PowerSpectralDensity/theta: ['frequency', 'channels']\n",
      "Reduction order for nice/marker/PowerSpectralDensity/gamma: ['frequency', 'channels']\n",
      "Reduction order for nice/marker/PowerSpectralDensity/theta: ['frequency', 'channels']\n",
      "Reduction order for nice/marker/PowerSpectralDensity/beta: ['frequency', 'channels']\n",
      "Reduction order for nice/marker/PowerSpectralDensity/beta: ['frequency', 'channels']\n",
      "Running KolmogorovComplexity\n",
      "Elapsed time 0.003969907760620117 sec\n",
      "Reduction order for nice/marker/KolmogorovComplexity/default: ['channels']\n",
      "Filtering  at 10.42 Hz\n",
      "Performing symbolic transformation\n"
     ]
    },
    {
     "name": "stderr",
     "output_type": "stream",
     "text": [
      "[Parallel(n_jobs=24)]: Done  24 out of  24 | elapsed:    3.6s finished\n"
     ]
    },
    {
     "name": "stdout",
     "output_type": "stream",
     "text": [
      "Reduction order for nice/marker/PermutationEntropy/default: ['channels']\n",
      "Autodetected number of jobs 2\n",
      "Computing CSD\n",
      "Using 10-5 locations for CSD\n",
      "Using 2 jobs\n"
     ]
    },
    {
     "name": "stderr",
     "output_type": "stream",
     "text": [
      "[Parallel(n_jobs=2)]: Using backend LokyBackend with 2 concurrent workers.\n"
     ]
    },
    {
     "name": "stdout",
     "output_type": "stream",
     "text": [
      "Filtering  at 10.42 Hz\n",
      "Reduction order for nice/marker/SymbolicMutualInformation/default: ['channels_y', 'channels']\n",
      "Autodetected number of jobs 24\n",
      "Effective window size : 16.384 (s)\n"
     ]
    },
    {
     "name": "stderr",
     "output_type": "stream",
     "text": [
      "[Parallel(n_jobs=2)]: Done   3 out of   3 | elapsed:    1.6s remaining:    0.0s\n",
      "[Parallel(n_jobs=2)]: Done   3 out of   3 | elapsed:    1.6s finished\n",
      "[Parallel(n_jobs=24)]: Using backend LokyBackend with 24 concurrent workers.\n",
      "[Parallel(n_jobs=24)]: Done   6 out of  24 | elapsed:    3.4s remaining:   10.1s\n",
      "[Parallel(n_jobs=24)]: Done  11 out of  24 | elapsed:    3.5s remaining:    4.1s\n",
      "[Parallel(n_jobs=24)]: Done  16 out of  24 | elapsed:    3.6s remaining:    1.8s\n"
     ]
    },
    {
     "name": "stdout",
     "output_type": "stream",
     "text": [
      "Reduction order for nice/marker/PowerSpectralDensity/alpha: ['frequency', 'channels']\n",
      "Reduction order for nice/marker/PowerSpectralDensity/alpha: ['frequency', 'channels']\n",
      "Reduction order for nice/marker/PowerSpectralDensity/delta: ['frequency', 'channels']\n",
      "Reduction order for nice/marker/PowerSpectralDensity/delta: ['frequency', 'channels']\n",
      "Reduction order for nice/marker/PowerSpectralDensity/theta: ['frequency', 'channels']\n",
      "Reduction order for nice/marker/PowerSpectralDensity/theta: ['frequency', 'channels']\n",
      "Reduction order for nice/marker/PowerSpectralDensity/gamma: ['frequency', 'channels']\n",
      "Reduction order for nice/marker/PowerSpectralDensity/theta: ['frequency', 'channels']\n",
      "Reduction order for nice/marker/PowerSpectralDensity/beta: ['frequency', 'channels']\n",
      "Reduction order for nice/marker/PowerSpectralDensity/beta: ['frequency', 'channels']\n",
      "Running KolmogorovComplexity\n",
      "Elapsed time 0.013092994689941406 sec\n",
      "Reduction order for nice/marker/KolmogorovComplexity/default: ['channels']\n",
      "Filtering  at 10.42 Hz\n",
      "Performing symbolic transformation\n"
     ]
    },
    {
     "name": "stderr",
     "output_type": "stream",
     "text": [
      "[Parallel(n_jobs=24)]: Done  21 out of  24 | elapsed:    3.6s remaining:    0.5s\n",
      "[Parallel(n_jobs=24)]: Done  24 out of  24 | elapsed:    3.7s finished\n"
     ]
    },
    {
     "name": "stdout",
     "output_type": "stream",
     "text": [
      "Reduction order for nice/marker/PermutationEntropy/default: ['channels']\n",
      "Autodetected number of jobs 2\n",
      "Computing CSD\n",
      "Using 10-5 locations for CSD\n",
      "Using 2 jobs\n"
     ]
    },
    {
     "name": "stderr",
     "output_type": "stream",
     "text": [
      "[Parallel(n_jobs=2)]: Using backend LokyBackend with 2 concurrent workers.\n"
     ]
    },
    {
     "name": "stdout",
     "output_type": "stream",
     "text": [
      "Filtering  at 10.42 Hz\n",
      "Reduction order for nice/marker/SymbolicMutualInformation/default: ['channels_y', 'channels']\n",
      "Reading /media/nicolas.bruno/63f8a366-34b7-4896-a7ce-b5fb4ee78535/Nico/MW_eeg_data/minmarker/VP08/VP08_evoked_ar_clean_epo.fif ...\n",
      "    Found the data of interest:\n",
      "        t =    -200.00 ...     600.00 ms\n",
      "        0 CTF compensation matrices available\n",
      "Not setting metadata\n",
      "Not setting metadata\n",
      "340 matching events found\n",
      "No baseline correction applied\n",
      "0 projection items activated\n",
      "Autodetected number of jobs 24\n",
      "Effective window size : 16.384 (s)\n"
     ]
    },
    {
     "name": "stderr",
     "output_type": "stream",
     "text": [
      "[Parallel(n_jobs=2)]: Done  10 out of  10 | elapsed:    1.6s finished\n",
      "[Parallel(n_jobs=24)]: Using backend LokyBackend with 24 concurrent workers.\n",
      "[Parallel(n_jobs=24)]: Done   6 out of  24 | elapsed:    3.4s remaining:   10.1s\n",
      "[Parallel(n_jobs=24)]: Done  11 out of  24 | elapsed:    3.4s remaining:    4.0s\n",
      "[Parallel(n_jobs=24)]: Done  16 out of  24 | elapsed:    3.5s remaining:    1.7s\n"
     ]
    },
    {
     "name": "stdout",
     "output_type": "stream",
     "text": [
      "Reduction order for nice/marker/PowerSpectralDensity/alpha: ['frequency', 'channels']\n",
      "Reduction order for nice/marker/PowerSpectralDensity/alpha: ['frequency', 'channels']\n",
      "Reduction order for nice/marker/PowerSpectralDensity/delta: ['frequency', 'channels']\n",
      "Reduction order for nice/marker/PowerSpectralDensity/delta: ['frequency', 'channels']\n",
      "Reduction order for nice/marker/PowerSpectralDensity/theta: ['frequency', 'channels']\n",
      "Reduction order for nice/marker/PowerSpectralDensity/theta: ['frequency', 'channels']\n",
      "Reduction order for nice/marker/PowerSpectralDensity/gamma: ['frequency', 'channels']\n",
      "Reduction order for nice/marker/PowerSpectralDensity/theta: ['frequency', 'channels']\n",
      "Reduction order for nice/marker/PowerSpectralDensity/beta: ['frequency', 'channels']\n",
      "Reduction order for nice/marker/PowerSpectralDensity/beta: ['frequency', 'channels']\n",
      "Running KolmogorovComplexity\n",
      "Elapsed time 0.017658472061157227 sec\n",
      "Reduction order for nice/marker/KolmogorovComplexity/default: ['channels']\n",
      "Filtering  at 10.42 Hz\n",
      "Performing symbolic transformation\n"
     ]
    },
    {
     "name": "stderr",
     "output_type": "stream",
     "text": [
      "[Parallel(n_jobs=24)]: Done  21 out of  24 | elapsed:    3.6s remaining:    0.5s\n",
      "[Parallel(n_jobs=24)]: Done  24 out of  24 | elapsed:    3.6s finished\n",
      "/home/nicolas.bruno/anaconda3/lib/python3.7/site-packages/nice-0.1.dev0-py3.7.egg/nice/markers/spectral.py:128: RuntimeWarning: invalid value encountered in true_divide\n",
      "  self.data_norm_ = self.data_ / self.data_.sum(axis=-1)[..., None]\n",
      "/home/nicolas.bruno/anaconda3/lib/python3.7/site-packages/nice-0.1.dev0-py3.7.egg/nice/markers/spectral.py:220: RuntimeWarning: divide by zero encountered in log10\n",
      "  out = 10 * np.log10(out)\n"
     ]
    },
    {
     "name": "stdout",
     "output_type": "stream",
     "text": [
      "Reduction order for nice/marker/PermutationEntropy/default: ['channels']\n",
      "Autodetected number of jobs 2\n",
      "Computing CSD\n",
      "Using 10-5 locations for CSD\n",
      "Using 2 jobs\n"
     ]
    },
    {
     "name": "stderr",
     "output_type": "stream",
     "text": [
      "/home/nicolas.bruno/anaconda3/lib/python3.7/site-packages/nice-0.1.dev0-py3.7.egg/nice/algorithms/information_theory/permutation_entropy.py:75: RuntimeWarning: divide by zero encountered in log\n",
      "  pe = np.nan_to_num(-np.nansum(count * np.log(count), axis=1))\n",
      "/home/nicolas.bruno/anaconda3/lib/python3.7/site-packages/nice-0.1.dev0-py3.7.egg/nice/algorithms/information_theory/permutation_entropy.py:75: RuntimeWarning: invalid value encountered in multiply\n",
      "  pe = np.nan_to_num(-np.nansum(count * np.log(count), axis=1))\n",
      "[Parallel(n_jobs=2)]: Using backend LokyBackend with 2 concurrent workers.\n"
     ]
    },
    {
     "name": "stdout",
     "output_type": "stream",
     "text": [
      "Filtering  at 10.42 Hz\n",
      "Reduction order for nice/marker/SymbolicMutualInformation/default: ['channels_y', 'channels']\n",
      "Autodetected number of jobs 24\n",
      "Effective window size : 16.384 (s)\n"
     ]
    },
    {
     "name": "stderr",
     "output_type": "stream",
     "text": [
      "[Parallel(n_jobs=2)]: Done  14 out of  14 | elapsed:    1.6s finished\n",
      "[Parallel(n_jobs=24)]: Using backend LokyBackend with 24 concurrent workers.\n",
      "[Parallel(n_jobs=24)]: Done   6 out of  24 | elapsed:    3.5s remaining:   10.6s\n",
      "[Parallel(n_jobs=24)]: Done  11 out of  24 | elapsed:    3.7s remaining:    4.3s\n"
     ]
    },
    {
     "name": "stdout",
     "output_type": "stream",
     "text": [
      "Reduction order for nice/marker/PowerSpectralDensity/alpha: ['frequency', 'channels']\n",
      "Reduction order for nice/marker/PowerSpectralDensity/alpha: ['frequency', 'channels']\n",
      "Reduction order for nice/marker/PowerSpectralDensity/delta: ['frequency', 'channels']\n",
      "Reduction order for nice/marker/PowerSpectralDensity/delta: ['frequency', 'channels']\n",
      "Reduction order for nice/marker/PowerSpectralDensity/theta: ['frequency', 'channels']\n",
      "Reduction order for nice/marker/PowerSpectralDensity/theta: ['frequency', 'channels']\n",
      "Reduction order for nice/marker/PowerSpectralDensity/gamma: ['frequency', 'channels']\n",
      "Reduction order for nice/marker/PowerSpectralDensity/theta: ['frequency', 'channels']\n",
      "Reduction order for nice/marker/PowerSpectralDensity/beta: ['frequency', 'channels']\n",
      "Reduction order for nice/marker/PowerSpectralDensity/beta: ['frequency', 'channels']\n",
      "Running KolmogorovComplexity\n",
      "Elapsed time 0.09251165390014648 sec\n"
     ]
    },
    {
     "name": "stderr",
     "output_type": "stream",
     "text": [
      "[Parallel(n_jobs=24)]: Done  16 out of  24 | elapsed:    3.8s remaining:    1.9s\n",
      "[Parallel(n_jobs=24)]: Done  21 out of  24 | elapsed:    3.8s remaining:    0.5s\n",
      "[Parallel(n_jobs=24)]: Done  24 out of  24 | elapsed:    3.9s finished\n"
     ]
    },
    {
     "name": "stdout",
     "output_type": "stream",
     "text": [
      "Reduction order for nice/marker/KolmogorovComplexity/default: ['channels']\n",
      "Filtering  at 10.42 Hz\n",
      "Performing symbolic transformation\n",
      "Reduction order for nice/marker/PermutationEntropy/default: ['channels']\n",
      "Autodetected number of jobs 2\n",
      "Computing CSD\n",
      "Using 10-5 locations for CSD\n",
      "Using 2 jobs\n"
     ]
    },
    {
     "name": "stderr",
     "output_type": "stream",
     "text": [
      "[Parallel(n_jobs=2)]: Using backend LokyBackend with 2 concurrent workers.\n"
     ]
    },
    {
     "name": "stdout",
     "output_type": "stream",
     "text": [
      "Filtering  at 10.42 Hz\n"
     ]
    },
    {
     "name": "stderr",
     "output_type": "stream",
     "text": [
      "[Parallel(n_jobs=2)]: Done  24 tasks      | elapsed:    1.7s\n",
      "[Parallel(n_jobs=2)]: Done  54 out of  54 | elapsed:    1.8s finished\n"
     ]
    },
    {
     "name": "stdout",
     "output_type": "stream",
     "text": [
      "Reduction order for nice/marker/SymbolicMutualInformation/default: ['channels_y', 'channels']\n",
      "Autodetected number of jobs 24\n",
      "Effective window size : 16.384 (s)\n"
     ]
    },
    {
     "name": "stderr",
     "output_type": "stream",
     "text": [
      "[Parallel(n_jobs=24)]: Using backend LokyBackend with 24 concurrent workers.\n",
      "[Parallel(n_jobs=24)]: Done   6 out of  24 | elapsed:    3.7s remaining:   11.1s\n",
      "[Parallel(n_jobs=24)]: Done  11 out of  24 | elapsed:    3.8s remaining:    4.5s\n",
      "[Parallel(n_jobs=24)]: Done  16 out of  24 | elapsed:    3.9s remaining:    1.9s\n"
     ]
    },
    {
     "name": "stdout",
     "output_type": "stream",
     "text": [
      "Reduction order for nice/marker/PowerSpectralDensity/alpha: ['frequency', 'channels']\n",
      "Reduction order for nice/marker/PowerSpectralDensity/alpha: ['frequency', 'channels']\n",
      "Reduction order for nice/marker/PowerSpectralDensity/delta: ['frequency', 'channels']\n",
      "Reduction order for nice/marker/PowerSpectralDensity/delta: ['frequency', 'channels']\n",
      "Reduction order for nice/marker/PowerSpectralDensity/theta: ['frequency', 'channels']\n",
      "Reduction order for nice/marker/PowerSpectralDensity/theta: ['frequency', 'channels']\n",
      "Reduction order for nice/marker/PowerSpectralDensity/gamma: ['frequency', 'channels']\n",
      "Reduction order for nice/marker/PowerSpectralDensity/theta: ['frequency', 'channels']\n"
     ]
    },
    {
     "name": "stderr",
     "output_type": "stream",
     "text": [
      "[Parallel(n_jobs=24)]: Done  21 out of  24 | elapsed:    4.0s remaining:    0.6s\n",
      "[Parallel(n_jobs=24)]: Done  24 out of  24 | elapsed:    4.2s finished\n"
     ]
    },
    {
     "name": "stdout",
     "output_type": "stream",
     "text": [
      "Reduction order for nice/marker/PowerSpectralDensity/beta: ['frequency', 'channels']\n",
      "Reduction order for nice/marker/PowerSpectralDensity/beta: ['frequency', 'channels']\n",
      "Running KolmogorovComplexity\n",
      "Elapsed time 0.03851914405822754 sec\n",
      "Reduction order for nice/marker/KolmogorovComplexity/default: ['channels']\n",
      "Filtering  at 10.42 Hz\n",
      "Performing symbolic transformation\n",
      "Reduction order for nice/marker/PermutationEntropy/default: ['channels']\n",
      "Autodetected number of jobs 2\n",
      "Computing CSD\n",
      "Using 10-5 locations for CSD\n",
      "Using 2 jobs\n"
     ]
    },
    {
     "name": "stderr",
     "output_type": "stream",
     "text": [
      "[Parallel(n_jobs=2)]: Using backend LokyBackend with 2 concurrent workers.\n"
     ]
    },
    {
     "name": "stdout",
     "output_type": "stream",
     "text": [
      "Filtering  at 10.42 Hz\n",
      "Reduction order for nice/marker/SymbolicMutualInformation/default: ['channels_y', 'channels']\n"
     ]
    },
    {
     "name": "stderr",
     "output_type": "stream",
     "text": [
      "[Parallel(n_jobs=2)]: Done  18 tasks      | elapsed:    1.7s\n",
      "[Parallel(n_jobs=2)]: Done  29 out of  29 | elapsed:    1.7s finished\n"
     ]
    },
    {
     "name": "stdout",
     "output_type": "stream",
     "text": [
      "Reading /media/nicolas.bruno/63f8a366-34b7-4896-a7ce-b5fb4ee78535/Nico/MW_eeg_data/minmarker/VP09/VP09_evoked_ar_clean_epo.fif ...\n",
      "    Found the data of interest:\n",
      "        t =    -200.00 ...     600.00 ms\n",
      "        0 CTF compensation matrices available\n",
      "Not setting metadata\n",
      "Not setting metadata\n",
      "246 matching events found\n",
      "No baseline correction applied\n",
      "0 projection items activated\n",
      "Autodetected number of jobs 24\n",
      "Effective window size : 16.384 (s)\n"
     ]
    },
    {
     "name": "stderr",
     "output_type": "stream",
     "text": [
      "[Parallel(n_jobs=24)]: Using backend LokyBackend with 24 concurrent workers.\n",
      "[Parallel(n_jobs=24)]: Done   6 out of  24 | elapsed:    3.5s remaining:   10.5s\n",
      "[Parallel(n_jobs=24)]: Done  11 out of  24 | elapsed:    3.6s remaining:    4.2s\n",
      "[Parallel(n_jobs=24)]: Done  16 out of  24 | elapsed:    3.6s remaining:    1.8s\n",
      "[Parallel(n_jobs=24)]: Done  21 out of  24 | elapsed:    3.7s remaining:    0.5s\n"
     ]
    },
    {
     "name": "stdout",
     "output_type": "stream",
     "text": [
      "Reduction order for nice/marker/PowerSpectralDensity/alpha: ['frequency', 'channels']\n",
      "Reduction order for nice/marker/PowerSpectralDensity/alpha: ['frequency', 'channels']\n",
      "Reduction order for nice/marker/PowerSpectralDensity/delta: ['frequency', 'channels']\n",
      "Reduction order for nice/marker/PowerSpectralDensity/delta: ['frequency', 'channels']\n",
      "Reduction order for nice/marker/PowerSpectralDensity/theta: ['frequency', 'channels']\n",
      "Reduction order for nice/marker/PowerSpectralDensity/theta: ['frequency', 'channels']\n",
      "Reduction order for nice/marker/PowerSpectralDensity/gamma: ['frequency', 'channels']\n",
      "Reduction order for nice/marker/PowerSpectralDensity/theta: ['frequency', 'channels']\n",
      "Reduction order for nice/marker/PowerSpectralDensity/beta: ['frequency', 'channels']\n",
      "Reduction order for nice/marker/PowerSpectralDensity/beta: ['frequency', 'channels']\n",
      "Running KolmogorovComplexity\n",
      "Elapsed time 0.06981849670410156 sec\n",
      "Reduction order for nice/marker/KolmogorovComplexity/default: ['channels']\n",
      "Filtering  at 10.42 Hz\n",
      "Performing symbolic transformation\n"
     ]
    },
    {
     "name": "stderr",
     "output_type": "stream",
     "text": [
      "[Parallel(n_jobs=24)]: Done  24 out of  24 | elapsed:    3.8s finished\n",
      "/home/nicolas.bruno/anaconda3/lib/python3.7/site-packages/nice-0.1.dev0-py3.7.egg/nice/markers/spectral.py:128: RuntimeWarning: invalid value encountered in true_divide\n",
      "  self.data_norm_ = self.data_ / self.data_.sum(axis=-1)[..., None]\n",
      "/home/nicolas.bruno/anaconda3/lib/python3.7/site-packages/nice-0.1.dev0-py3.7.egg/nice/markers/spectral.py:220: RuntimeWarning: divide by zero encountered in log10\n",
      "  out = 10 * np.log10(out)\n"
     ]
    },
    {
     "name": "stdout",
     "output_type": "stream",
     "text": [
      "Reduction order for nice/marker/PermutationEntropy/default: ['channels']\n",
      "Autodetected number of jobs 2\n",
      "Computing CSD\n",
      "Using 10-5 locations for CSD\n",
      "Using 2 jobs\n"
     ]
    },
    {
     "name": "stderr",
     "output_type": "stream",
     "text": [
      "/home/nicolas.bruno/anaconda3/lib/python3.7/site-packages/nice-0.1.dev0-py3.7.egg/nice/algorithms/information_theory/permutation_entropy.py:75: RuntimeWarning: divide by zero encountered in log\n",
      "  pe = np.nan_to_num(-np.nansum(count * np.log(count), axis=1))\n",
      "/home/nicolas.bruno/anaconda3/lib/python3.7/site-packages/nice-0.1.dev0-py3.7.egg/nice/algorithms/information_theory/permutation_entropy.py:75: RuntimeWarning: invalid value encountered in multiply\n",
      "  pe = np.nan_to_num(-np.nansum(count * np.log(count), axis=1))\n",
      "[Parallel(n_jobs=2)]: Using backend LokyBackend with 2 concurrent workers.\n"
     ]
    },
    {
     "name": "stdout",
     "output_type": "stream",
     "text": [
      "Filtering  at 10.42 Hz\n"
     ]
    },
    {
     "name": "stderr",
     "output_type": "stream",
     "text": [
      "[Parallel(n_jobs=2)]: Done  18 tasks      | elapsed:    1.7s\n",
      "[Parallel(n_jobs=2)]: Done  51 out of  51 | elapsed:    1.7s finished\n"
     ]
    },
    {
     "name": "stdout",
     "output_type": "stream",
     "text": [
      "Reduction order for nice/marker/SymbolicMutualInformation/default: ['channels_y', 'channels']\n",
      "Autodetected number of jobs 24\n",
      "Effective window size : 16.384 (s)\n"
     ]
    },
    {
     "name": "stderr",
     "output_type": "stream",
     "text": [
      "[Parallel(n_jobs=24)]: Using backend LokyBackend with 24 concurrent workers.\n",
      "[Parallel(n_jobs=24)]: Done   6 out of  24 | elapsed:    3.6s remaining:   10.8s\n",
      "[Parallel(n_jobs=24)]: Done  11 out of  24 | elapsed:    3.7s remaining:    4.3s\n",
      "[Parallel(n_jobs=24)]: Done  16 out of  24 | elapsed:    3.8s remaining:    1.9s\n"
     ]
    },
    {
     "name": "stdout",
     "output_type": "stream",
     "text": [
      "Reduction order for nice/marker/PowerSpectralDensity/alpha: ['frequency', 'channels']\n",
      "Reduction order for nice/marker/PowerSpectralDensity/alpha: ['frequency', 'channels']\n",
      "Reduction order for nice/marker/PowerSpectralDensity/delta: ['frequency', 'channels']\n",
      "Reduction order for nice/marker/PowerSpectralDensity/delta: ['frequency', 'channels']\n",
      "Reduction order for nice/marker/PowerSpectralDensity/theta: ['frequency', 'channels']\n",
      "Reduction order for nice/marker/PowerSpectralDensity/theta: ['frequency', 'channels']\n",
      "Reduction order for nice/marker/PowerSpectralDensity/gamma: ['frequency', 'channels']\n",
      "Reduction order for nice/marker/PowerSpectralDensity/theta: ['frequency', 'channels']\n",
      "Reduction order for nice/marker/PowerSpectralDensity/beta: ['frequency', 'channels']\n",
      "Reduction order for nice/marker/PowerSpectralDensity/beta: ['frequency', 'channels']\n",
      "Running KolmogorovComplexity\n",
      "Elapsed time 0.08938717842102051 sec\n",
      "Reduction order for nice/marker/KolmogorovComplexity/default: ['channels']\n",
      "Filtering  at 10.42 Hz\n"
     ]
    },
    {
     "name": "stderr",
     "output_type": "stream",
     "text": [
      "[Parallel(n_jobs=24)]: Done  21 out of  24 | elapsed:    3.8s remaining:    0.5s\n",
      "[Parallel(n_jobs=24)]: Done  24 out of  24 | elapsed:    3.9s finished\n"
     ]
    },
    {
     "name": "stdout",
     "output_type": "stream",
     "text": [
      "Performing symbolic transformation\n",
      "Reduction order for nice/marker/PermutationEntropy/default: ['channels']\n",
      "Autodetected number of jobs 2\n",
      "Computing CSD\n",
      "Using 10-5 locations for CSD\n",
      "Using 2 jobs\n"
     ]
    },
    {
     "name": "stderr",
     "output_type": "stream",
     "text": [
      "[Parallel(n_jobs=2)]: Using backend LokyBackend with 2 concurrent workers.\n"
     ]
    },
    {
     "name": "stdout",
     "output_type": "stream",
     "text": [
      "Filtering  at 10.42 Hz\n"
     ]
    },
    {
     "name": "stderr",
     "output_type": "stream",
     "text": [
      "[Parallel(n_jobs=2)]: Done  24 tasks      | elapsed:    1.7s\n",
      "[Parallel(n_jobs=2)]: Done  66 out of  66 | elapsed:    1.8s finished\n"
     ]
    },
    {
     "name": "stdout",
     "output_type": "stream",
     "text": [
      "Reduction order for nice/marker/SymbolicMutualInformation/default: ['channels_y', 'channels']\n",
      "Autodetected number of jobs 24\n",
      "Effective window size : 16.384 (s)\n"
     ]
    },
    {
     "name": "stderr",
     "output_type": "stream",
     "text": [
      "[Parallel(n_jobs=24)]: Using backend LokyBackend with 24 concurrent workers.\n",
      "[Parallel(n_jobs=24)]: Done   6 out of  24 | elapsed:    3.5s remaining:   10.4s\n",
      "[Parallel(n_jobs=24)]: Done  11 out of  24 | elapsed:    3.5s remaining:    4.2s\n",
      "[Parallel(n_jobs=24)]: Done  16 out of  24 | elapsed:    3.6s remaining:    1.8s\n",
      "[Parallel(n_jobs=24)]: Done  21 out of  24 | elapsed:    3.7s remaining:    0.5s\n"
     ]
    },
    {
     "name": "stdout",
     "output_type": "stream",
     "text": [
      "Reduction order for nice/marker/PowerSpectralDensity/alpha: ['frequency', 'channels']\n",
      "Reduction order for nice/marker/PowerSpectralDensity/alpha: ['frequency', 'channels']\n",
      "Reduction order for nice/marker/PowerSpectralDensity/delta: ['frequency', 'channels']\n",
      "Reduction order for nice/marker/PowerSpectralDensity/delta: ['frequency', 'channels']\n",
      "Reduction order for nice/marker/PowerSpectralDensity/theta: ['frequency', 'channels']\n",
      "Reduction order for nice/marker/PowerSpectralDensity/theta: ['frequency', 'channels']\n",
      "Reduction order for nice/marker/PowerSpectralDensity/gamma: ['frequency', 'channels']\n",
      "Reduction order for nice/marker/PowerSpectralDensity/theta: ['frequency', 'channels']\n",
      "Reduction order for nice/marker/PowerSpectralDensity/beta: ['frequency', 'channels']\n",
      "Reduction order for nice/marker/PowerSpectralDensity/beta: ['frequency', 'channels']\n",
      "Running KolmogorovComplexity\n",
      "Elapsed time 0.006875276565551758 sec\n",
      "Reduction order for nice/marker/KolmogorovComplexity/default: ['channels']\n",
      "Filtering  at 10.42 Hz\n",
      "Performing symbolic transformation\n"
     ]
    },
    {
     "name": "stderr",
     "output_type": "stream",
     "text": [
      "[Parallel(n_jobs=24)]: Done  24 out of  24 | elapsed:    3.8s finished\n"
     ]
    },
    {
     "name": "stdout",
     "output_type": "stream",
     "text": [
      "Reduction order for nice/marker/PermutationEntropy/default: ['channels']\n",
      "Autodetected number of jobs 2\n",
      "Computing CSD\n",
      "Using 10-5 locations for CSD\n",
      "Using 2 jobs\n"
     ]
    },
    {
     "name": "stderr",
     "output_type": "stream",
     "text": [
      "[Parallel(n_jobs=2)]: Using backend LokyBackend with 2 concurrent workers.\n"
     ]
    },
    {
     "name": "stdout",
     "output_type": "stream",
     "text": [
      "Filtering  at 10.42 Hz\n",
      "Reduction order for nice/marker/SymbolicMutualInformation/default: ['channels_y', 'channels']\n",
      "Autodetected number of jobs 24\n",
      "Effective window size : 16.384 (s)\n"
     ]
    },
    {
     "name": "stderr",
     "output_type": "stream",
     "text": [
      "[Parallel(n_jobs=2)]: Done   5 out of   5 | elapsed:    1.6s finished\n",
      "[Parallel(n_jobs=24)]: Using backend LokyBackend with 24 concurrent workers.\n",
      "[Parallel(n_jobs=24)]: Done   6 out of  24 | elapsed:    3.5s remaining:   10.4s\n",
      "[Parallel(n_jobs=24)]: Done  11 out of  24 | elapsed:    3.5s remaining:    4.2s\n",
      "[Parallel(n_jobs=24)]: Done  16 out of  24 | elapsed:    3.6s remaining:    1.8s\n"
     ]
    },
    {
     "name": "stdout",
     "output_type": "stream",
     "text": [
      "Reduction order for nice/marker/PowerSpectralDensity/alpha: ['frequency', 'channels']\n",
      "Reduction order for nice/marker/PowerSpectralDensity/alpha: ['frequency', 'channels']\n",
      "Reduction order for nice/marker/PowerSpectralDensity/delta: ['frequency', 'channels']\n",
      "Reduction order for nice/marker/PowerSpectralDensity/delta: ['frequency', 'channels']\n",
      "Reduction order for nice/marker/PowerSpectralDensity/theta: ['frequency', 'channels']\n",
      "Reduction order for nice/marker/PowerSpectralDensity/theta: ['frequency', 'channels']\n",
      "Reduction order for nice/marker/PowerSpectralDensity/gamma: ['frequency', 'channels']\n",
      "Reduction order for nice/marker/PowerSpectralDensity/theta: ['frequency', 'channels']\n",
      "Reduction order for nice/marker/PowerSpectralDensity/beta: ['frequency', 'channels']\n",
      "Reduction order for nice/marker/PowerSpectralDensity/beta: ['frequency', 'channels']\n",
      "Running KolmogorovComplexity\n",
      "Elapsed time 0.04963207244873047 sec\n",
      "Reduction order for nice/marker/KolmogorovComplexity/default: ['channels']\n",
      "Filtering  at 10.42 Hz\n"
     ]
    },
    {
     "name": "stderr",
     "output_type": "stream",
     "text": [
      "[Parallel(n_jobs=24)]: Done  21 out of  24 | elapsed:    3.7s remaining:    0.5s\n",
      "[Parallel(n_jobs=24)]: Done  24 out of  24 | elapsed:    3.8s finished\n"
     ]
    },
    {
     "name": "stdout",
     "output_type": "stream",
     "text": [
      "Performing symbolic transformation\n",
      "Reduction order for nice/marker/PermutationEntropy/default: ['channels']\n",
      "Autodetected number of jobs 2\n",
      "Computing CSD\n",
      "Using 10-5 locations for CSD\n",
      "Using 2 jobs\n"
     ]
    },
    {
     "name": "stderr",
     "output_type": "stream",
     "text": [
      "[Parallel(n_jobs=2)]: Using backend LokyBackend with 2 concurrent workers.\n"
     ]
    },
    {
     "name": "stdout",
     "output_type": "stream",
     "text": [
      "Filtering  at 10.42 Hz\n"
     ]
    },
    {
     "name": "stderr",
     "output_type": "stream",
     "text": [
      "[Parallel(n_jobs=2)]: Done  18 tasks      | elapsed:    1.7s\n",
      "[Parallel(n_jobs=2)]: Done  32 out of  32 | elapsed:    1.7s finished\n"
     ]
    },
    {
     "name": "stdout",
     "output_type": "stream",
     "text": [
      "Reduction order for nice/marker/SymbolicMutualInformation/default: ['channels_y', 'channels']\n",
      "Reading /media/nicolas.bruno/63f8a366-34b7-4896-a7ce-b5fb4ee78535/Nico/MW_eeg_data/minmarker/VP10/VP10_evoked_ar_clean_epo.fif ...\n",
      "    Found the data of interest:\n",
      "        t =    -200.00 ...     600.00 ms\n",
      "        0 CTF compensation matrices available\n",
      "Not setting metadata\n",
      "Not setting metadata\n",
      "98 matching events found\n",
      "No baseline correction applied\n",
      "0 projection items activated\n",
      "Autodetected number of jobs 24\n",
      "Effective window size : 16.384 (s)\n"
     ]
    },
    {
     "name": "stderr",
     "output_type": "stream",
     "text": [
      "[Parallel(n_jobs=24)]: Using backend LokyBackend with 24 concurrent workers.\n",
      "[Parallel(n_jobs=24)]: Done   6 out of  24 | elapsed:    3.4s remaining:   10.2s\n",
      "[Parallel(n_jobs=24)]: Done  11 out of  24 | elapsed:    3.5s remaining:    4.1s\n",
      "[Parallel(n_jobs=24)]: Done  16 out of  24 | elapsed:    3.5s remaining:    1.7s\n",
      "[Parallel(n_jobs=24)]: Done  21 out of  24 | elapsed:    3.6s remaining:    0.5s\n"
     ]
    },
    {
     "name": "stdout",
     "output_type": "stream",
     "text": [
      "Reduction order for nice/marker/PowerSpectralDensity/alpha: ['frequency', 'channels']\n",
      "Reduction order for nice/marker/PowerSpectralDensity/alpha: ['frequency', 'channels']\n",
      "Reduction order for nice/marker/PowerSpectralDensity/delta: ['frequency', 'channels']\n",
      "Reduction order for nice/marker/PowerSpectralDensity/delta: ['frequency', 'channels']\n",
      "Reduction order for nice/marker/PowerSpectralDensity/theta: ['frequency', 'channels']\n",
      "Reduction order for nice/marker/PowerSpectralDensity/theta: ['frequency', 'channels']\n",
      "Reduction order for nice/marker/PowerSpectralDensity/gamma: ['frequency', 'channels']\n",
      "Reduction order for nice/marker/PowerSpectralDensity/theta: ['frequency', 'channels']\n",
      "Reduction order for nice/marker/PowerSpectralDensity/beta: ['frequency', 'channels']\n",
      "Reduction order for nice/marker/PowerSpectralDensity/beta: ['frequency', 'channels']\n",
      "Running KolmogorovComplexity\n",
      "Elapsed time 0.020429611206054688 sec\n",
      "Reduction order for nice/marker/KolmogorovComplexity/default: ['channels']\n",
      "Filtering  at 10.42 Hz\n",
      "Performing symbolic transformation\n"
     ]
    },
    {
     "name": "stderr",
     "output_type": "stream",
     "text": [
      "[Parallel(n_jobs=24)]: Done  24 out of  24 | elapsed:    3.7s finished\n",
      "/home/nicolas.bruno/anaconda3/lib/python3.7/site-packages/nice-0.1.dev0-py3.7.egg/nice/markers/spectral.py:128: RuntimeWarning: invalid value encountered in true_divide\n",
      "  self.data_norm_ = self.data_ / self.data_.sum(axis=-1)[..., None]\n",
      "/home/nicolas.bruno/anaconda3/lib/python3.7/site-packages/nice-0.1.dev0-py3.7.egg/nice/markers/spectral.py:220: RuntimeWarning: divide by zero encountered in log10\n",
      "  out = 10 * np.log10(out)\n"
     ]
    },
    {
     "name": "stdout",
     "output_type": "stream",
     "text": [
      "Reduction order for nice/marker/PermutationEntropy/default: ['channels']\n",
      "Autodetected number of jobs 2\n",
      "Computing CSD\n",
      "Using 10-5 locations for CSD\n",
      "Using 2 jobs\n"
     ]
    },
    {
     "name": "stderr",
     "output_type": "stream",
     "text": [
      "/home/nicolas.bruno/anaconda3/lib/python3.7/site-packages/nice-0.1.dev0-py3.7.egg/nice/algorithms/information_theory/permutation_entropy.py:75: RuntimeWarning: divide by zero encountered in log\n",
      "  pe = np.nan_to_num(-np.nansum(count * np.log(count), axis=1))\n",
      "/home/nicolas.bruno/anaconda3/lib/python3.7/site-packages/nice-0.1.dev0-py3.7.egg/nice/algorithms/information_theory/permutation_entropy.py:75: RuntimeWarning: invalid value encountered in multiply\n",
      "  pe = np.nan_to_num(-np.nansum(count * np.log(count), axis=1))\n",
      "[Parallel(n_jobs=2)]: Using backend LokyBackend with 2 concurrent workers.\n"
     ]
    },
    {
     "name": "stdout",
     "output_type": "stream",
     "text": [
      "Filtering  at 10.42 Hz\n",
      "Reduction order for nice/marker/SymbolicMutualInformation/default: ['channels_y', 'channels']\n",
      "Autodetected number of jobs 24\n",
      "Effective window size : 16.384 (s)\n"
     ]
    },
    {
     "name": "stderr",
     "output_type": "stream",
     "text": [
      "[Parallel(n_jobs=2)]: Done  15 out of  15 | elapsed:    1.6s finished\n",
      "[Parallel(n_jobs=24)]: Using backend LokyBackend with 24 concurrent workers.\n",
      "[Parallel(n_jobs=24)]: Done   6 out of  24 | elapsed:    3.4s remaining:   10.2s\n",
      "[Parallel(n_jobs=24)]: Done  11 out of  24 | elapsed:    3.4s remaining:    4.0s\n",
      "[Parallel(n_jobs=24)]: Done  16 out of  24 | elapsed:    3.5s remaining:    1.7s\n"
     ]
    },
    {
     "name": "stdout",
     "output_type": "stream",
     "text": [
      "Reduction order for nice/marker/PowerSpectralDensity/alpha: ['frequency', 'channels']\n",
      "Reduction order for nice/marker/PowerSpectralDensity/alpha: ['frequency', 'channels']\n",
      "Reduction order for nice/marker/PowerSpectralDensity/delta: ['frequency', 'channels']\n",
      "Reduction order for nice/marker/PowerSpectralDensity/delta: ['frequency', 'channels']\n",
      "Reduction order for nice/marker/PowerSpectralDensity/theta: ['frequency', 'channels']\n",
      "Reduction order for nice/marker/PowerSpectralDensity/theta: ['frequency', 'channels']\n",
      "Reduction order for nice/marker/PowerSpectralDensity/gamma: ['frequency', 'channels']\n",
      "Reduction order for nice/marker/PowerSpectralDensity/theta: ['frequency', 'channels']\n",
      "Reduction order for nice/marker/PowerSpectralDensity/beta: ['frequency', 'channels']\n",
      "Reduction order for nice/marker/PowerSpectralDensity/beta: ['frequency', 'channels']\n",
      "Running KolmogorovComplexity\n",
      "Elapsed time 0.02229022979736328 sec\n",
      "Reduction order for nice/marker/KolmogorovComplexity/default: ['channels']\n",
      "Filtering  at 10.42 Hz\n",
      "Performing symbolic transformation\n"
     ]
    },
    {
     "name": "stderr",
     "output_type": "stream",
     "text": [
      "[Parallel(n_jobs=24)]: Done  21 out of  24 | elapsed:    3.6s remaining:    0.5s\n",
      "[Parallel(n_jobs=24)]: Done  24 out of  24 | elapsed:    3.7s finished\n"
     ]
    },
    {
     "name": "stdout",
     "output_type": "stream",
     "text": [
      "Reduction order for nice/marker/PermutationEntropy/default: ['channels']\n",
      "Autodetected number of jobs 2\n",
      "Computing CSD\n",
      "Using 10-5 locations for CSD\n",
      "Using 2 jobs\n"
     ]
    },
    {
     "name": "stderr",
     "output_type": "stream",
     "text": [
      "[Parallel(n_jobs=2)]: Using backend LokyBackend with 2 concurrent workers.\n"
     ]
    },
    {
     "name": "stdout",
     "output_type": "stream",
     "text": [
      "Filtering  at 10.42 Hz\n",
      "Reduction order for nice/marker/SymbolicMutualInformation/default: ['channels_y', 'channels']\n",
      "Autodetected number of jobs 24\n",
      "Effective window size : 16.384 (s)\n"
     ]
    },
    {
     "name": "stderr",
     "output_type": "stream",
     "text": [
      "[Parallel(n_jobs=2)]: Done  15 out of  15 | elapsed:    1.7s finished\n",
      "[Parallel(n_jobs=24)]: Using backend LokyBackend with 24 concurrent workers.\n",
      "[Parallel(n_jobs=24)]: Done   6 out of  24 | elapsed:    3.5s remaining:   10.6s\n",
      "[Parallel(n_jobs=24)]: Done  11 out of  24 | elapsed:    3.6s remaining:    4.3s\n",
      "[Parallel(n_jobs=24)]: Done  16 out of  24 | elapsed:    3.7s remaining:    1.8s\n",
      "[Parallel(n_jobs=24)]: Done  21 out of  24 | elapsed:    3.7s remaining:    0.5s\n"
     ]
    },
    {
     "name": "stdout",
     "output_type": "stream",
     "text": [
      "Reduction order for nice/marker/PowerSpectralDensity/alpha: ['frequency', 'channels']\n",
      "Reduction order for nice/marker/PowerSpectralDensity/alpha: ['frequency', 'channels']\n",
      "Reduction order for nice/marker/PowerSpectralDensity/delta: ['frequency', 'channels']\n",
      "Reduction order for nice/marker/PowerSpectralDensity/delta: ['frequency', 'channels']\n",
      "Reduction order for nice/marker/PowerSpectralDensity/theta: ['frequency', 'channels']\n",
      "Reduction order for nice/marker/PowerSpectralDensity/theta: ['frequency', 'channels']\n",
      "Reduction order for nice/marker/PowerSpectralDensity/gamma: ['frequency', 'channels']\n",
      "Reduction order for nice/marker/PowerSpectralDensity/theta: ['frequency', 'channels']\n",
      "Reduction order for nice/marker/PowerSpectralDensity/beta: ['frequency', 'channels']\n",
      "Reduction order for nice/marker/PowerSpectralDensity/beta: ['frequency', 'channels']\n",
      "Running KolmogorovComplexity\n",
      "Elapsed time 0.041997671127319336 sec\n",
      "Reduction order for nice/marker/KolmogorovComplexity/default: ['channels']\n",
      "Filtering  at 10.42 Hz\n",
      "Performing symbolic transformation\n"
     ]
    },
    {
     "name": "stderr",
     "output_type": "stream",
     "text": [
      "[Parallel(n_jobs=24)]: Done  24 out of  24 | elapsed:    3.9s finished\n"
     ]
    },
    {
     "name": "stdout",
     "output_type": "stream",
     "text": [
      "Reduction order for nice/marker/PermutationEntropy/default: ['channels']\n",
      "Autodetected number of jobs 2\n",
      "Computing CSD\n",
      "Using 10-5 locations for CSD\n",
      "Using 2 jobs\n"
     ]
    },
    {
     "name": "stderr",
     "output_type": "stream",
     "text": [
      "[Parallel(n_jobs=2)]: Using backend LokyBackend with 2 concurrent workers.\n"
     ]
    },
    {
     "name": "stdout",
     "output_type": "stream",
     "text": [
      "Filtering  at 10.42 Hz\n"
     ]
    },
    {
     "name": "stderr",
     "output_type": "stream",
     "text": [
      "[Parallel(n_jobs=2)]: Done  18 tasks      | elapsed:    1.7s\n",
      "[Parallel(n_jobs=2)]: Done  31 out of  31 | elapsed:    1.7s finished\n"
     ]
    },
    {
     "name": "stdout",
     "output_type": "stream",
     "text": [
      "Reduction order for nice/marker/SymbolicMutualInformation/default: ['channels_y', 'channels']\n",
      "Reading /media/nicolas.bruno/63f8a366-34b7-4896-a7ce-b5fb4ee78535/Nico/MW_eeg_data/minmarker/VP11/VP11_evoked_ar_clean_epo.fif ...\n",
      "    Found the data of interest:\n",
      "        t =    -200.00 ...     600.00 ms\n",
      "        0 CTF compensation matrices available\n",
      "Not setting metadata\n",
      "Not setting metadata\n",
      "145 matching events found\n",
      "No baseline correction applied\n",
      "0 projection items activated\n",
      "Autodetected number of jobs 24\n",
      "Effective window size : 16.384 (s)\n"
     ]
    },
    {
     "name": "stderr",
     "output_type": "stream",
     "text": [
      "[Parallel(n_jobs=24)]: Using backend LokyBackend with 24 concurrent workers.\n",
      "[Parallel(n_jobs=24)]: Done   6 out of  24 | elapsed:    3.5s remaining:   10.4s\n",
      "[Parallel(n_jobs=24)]: Done  11 out of  24 | elapsed:    3.5s remaining:    4.2s\n",
      "[Parallel(n_jobs=24)]: Done  16 out of  24 | elapsed:    3.6s remaining:    1.8s\n",
      "[Parallel(n_jobs=24)]: Done  21 out of  24 | elapsed:    3.7s remaining:    0.5s\n"
     ]
    },
    {
     "name": "stdout",
     "output_type": "stream",
     "text": [
      "Reduction order for nice/marker/PowerSpectralDensity/alpha: ['frequency', 'channels']\n",
      "Reduction order for nice/marker/PowerSpectralDensity/alpha: ['frequency', 'channels']\n",
      "Reduction order for nice/marker/PowerSpectralDensity/delta: ['frequency', 'channels']\n",
      "Reduction order for nice/marker/PowerSpectralDensity/delta: ['frequency', 'channels']\n",
      "Reduction order for nice/marker/PowerSpectralDensity/theta: ['frequency', 'channels']\n",
      "Reduction order for nice/marker/PowerSpectralDensity/theta: ['frequency', 'channels']\n",
      "Reduction order for nice/marker/PowerSpectralDensity/gamma: ['frequency', 'channels']\n",
      "Reduction order for nice/marker/PowerSpectralDensity/theta: ['frequency', 'channels']\n",
      "Reduction order for nice/marker/PowerSpectralDensity/beta: ['frequency', 'channels']\n",
      "Reduction order for nice/marker/PowerSpectralDensity/beta: ['frequency', 'channels']\n",
      "Running KolmogorovComplexity\n",
      "Elapsed time 0.031157255172729492 sec\n",
      "Reduction order for nice/marker/KolmogorovComplexity/default: ['channels']\n",
      "Filtering  at 10.42 Hz\n",
      "Performing symbolic transformation\n"
     ]
    },
    {
     "name": "stderr",
     "output_type": "stream",
     "text": [
      "[Parallel(n_jobs=24)]: Done  24 out of  24 | elapsed:    3.8s finished\n",
      "/home/nicolas.bruno/anaconda3/lib/python3.7/site-packages/nice-0.1.dev0-py3.7.egg/nice/markers/spectral.py:128: RuntimeWarning: invalid value encountered in true_divide\n",
      "  self.data_norm_ = self.data_ / self.data_.sum(axis=-1)[..., None]\n",
      "/home/nicolas.bruno/anaconda3/lib/python3.7/site-packages/nice-0.1.dev0-py3.7.egg/nice/markers/spectral.py:220: RuntimeWarning: divide by zero encountered in log10\n",
      "  out = 10 * np.log10(out)\n"
     ]
    },
    {
     "name": "stdout",
     "output_type": "stream",
     "text": [
      "Reduction order for nice/marker/PermutationEntropy/default: ['channels']\n",
      "Autodetected number of jobs 2\n",
      "Computing CSD\n",
      "Using 10-5 locations for CSD\n",
      "Using 2 jobs\n"
     ]
    },
    {
     "name": "stderr",
     "output_type": "stream",
     "text": [
      "/home/nicolas.bruno/anaconda3/lib/python3.7/site-packages/nice-0.1.dev0-py3.7.egg/nice/algorithms/information_theory/permutation_entropy.py:75: RuntimeWarning: divide by zero encountered in log\n",
      "  pe = np.nan_to_num(-np.nansum(count * np.log(count), axis=1))\n",
      "/home/nicolas.bruno/anaconda3/lib/python3.7/site-packages/nice-0.1.dev0-py3.7.egg/nice/algorithms/information_theory/permutation_entropy.py:75: RuntimeWarning: invalid value encountered in multiply\n",
      "  pe = np.nan_to_num(-np.nansum(count * np.log(count), axis=1))\n",
      "[Parallel(n_jobs=2)]: Using backend LokyBackend with 2 concurrent workers.\n"
     ]
    },
    {
     "name": "stdout",
     "output_type": "stream",
     "text": [
      "Filtering  at 10.42 Hz\n",
      "Reduction order for nice/marker/SymbolicMutualInformation/default: ['channels_y', 'channels']\n",
      "Autodetected number of jobs 24\n",
      "Effective window size : 16.384 (s)\n"
     ]
    },
    {
     "name": "stderr",
     "output_type": "stream",
     "text": [
      "[Parallel(n_jobs=2)]: Done  18 tasks      | elapsed:    1.6s\n",
      "[Parallel(n_jobs=2)]: Done  22 out of  22 | elapsed:    1.7s finished\n",
      "[Parallel(n_jobs=24)]: Using backend LokyBackend with 24 concurrent workers.\n",
      "[Parallel(n_jobs=24)]: Done   6 out of  24 | elapsed:    3.4s remaining:   10.2s\n",
      "[Parallel(n_jobs=24)]: Done  11 out of  24 | elapsed:    3.5s remaining:    4.1s\n",
      "[Parallel(n_jobs=24)]: Done  16 out of  24 | elapsed:    3.6s remaining:    1.8s\n"
     ]
    },
    {
     "name": "stdout",
     "output_type": "stream",
     "text": [
      "Reduction order for nice/marker/PowerSpectralDensity/alpha: ['frequency', 'channels']\n",
      "Reduction order for nice/marker/PowerSpectralDensity/alpha: ['frequency', 'channels']\n",
      "Reduction order for nice/marker/PowerSpectralDensity/delta: ['frequency', 'channels']\n",
      "Reduction order for nice/marker/PowerSpectralDensity/delta: ['frequency', 'channels']\n",
      "Reduction order for nice/marker/PowerSpectralDensity/theta: ['frequency', 'channels']\n",
      "Reduction order for nice/marker/PowerSpectralDensity/theta: ['frequency', 'channels']\n",
      "Reduction order for nice/marker/PowerSpectralDensity/gamma: ['frequency', 'channels']\n",
      "Reduction order for nice/marker/PowerSpectralDensity/theta: ['frequency', 'channels']\n",
      "Reduction order for nice/marker/PowerSpectralDensity/beta: ['frequency', 'channels']\n",
      "Reduction order for nice/marker/PowerSpectralDensity/beta: ['frequency', 'channels']\n",
      "Running KolmogorovComplexity\n",
      "Elapsed time 0.02655172348022461 sec\n",
      "Reduction order for nice/marker/KolmogorovComplexity/default: ['channels']\n",
      "Filtering  at 10.42 Hz\n",
      "Performing symbolic transformation\n"
     ]
    },
    {
     "name": "stderr",
     "output_type": "stream",
     "text": [
      "[Parallel(n_jobs=24)]: Done  21 out of  24 | elapsed:    3.7s remaining:    0.5s\n",
      "[Parallel(n_jobs=24)]: Done  24 out of  24 | elapsed:    3.7s finished\n"
     ]
    },
    {
     "name": "stdout",
     "output_type": "stream",
     "text": [
      "Reduction order for nice/marker/PermutationEntropy/default: ['channels']\n",
      "Autodetected number of jobs 2\n",
      "Computing CSD\n",
      "Using 10-5 locations for CSD\n",
      "Using 2 jobs\n"
     ]
    },
    {
     "name": "stderr",
     "output_type": "stream",
     "text": [
      "[Parallel(n_jobs=2)]: Using backend LokyBackend with 2 concurrent workers.\n"
     ]
    },
    {
     "name": "stdout",
     "output_type": "stream",
     "text": [
      "Filtering  at 10.42 Hz\n",
      "Reduction order for nice/marker/SymbolicMutualInformation/default: ['channels_y', 'channels']\n",
      "Autodetected number of jobs 24\n",
      "Effective window size : 16.384 (s)\n"
     ]
    },
    {
     "name": "stderr",
     "output_type": "stream",
     "text": [
      "[Parallel(n_jobs=2)]: Done  18 tasks      | elapsed:    1.7s\n",
      "[Parallel(n_jobs=2)]: Done  19 out of  19 | elapsed:    1.7s finished\n",
      "[Parallel(n_jobs=24)]: Using backend LokyBackend with 24 concurrent workers.\n",
      "[Parallel(n_jobs=24)]: Done   6 out of  24 | elapsed:    3.5s remaining:   10.4s\n",
      "[Parallel(n_jobs=24)]: Done  11 out of  24 | elapsed:    3.5s remaining:    4.2s\n",
      "[Parallel(n_jobs=24)]: Done  16 out of  24 | elapsed:    3.6s remaining:    1.8s\n"
     ]
    },
    {
     "name": "stdout",
     "output_type": "stream",
     "text": [
      "Reduction order for nice/marker/PowerSpectralDensity/alpha: ['frequency', 'channels']\n",
      "Reduction order for nice/marker/PowerSpectralDensity/alpha: ['frequency', 'channels']\n",
      "Reduction order for nice/marker/PowerSpectralDensity/delta: ['frequency', 'channels']\n",
      "Reduction order for nice/marker/PowerSpectralDensity/delta: ['frequency', 'channels']\n",
      "Reduction order for nice/marker/PowerSpectralDensity/theta: ['frequency', 'channels']\n",
      "Reduction order for nice/marker/PowerSpectralDensity/theta: ['frequency', 'channels']\n",
      "Reduction order for nice/marker/PowerSpectralDensity/gamma: ['frequency', 'channels']\n",
      "Reduction order for nice/marker/PowerSpectralDensity/theta: ['frequency', 'channels']\n",
      "Reduction order for nice/marker/PowerSpectralDensity/beta: ['frequency', 'channels']\n",
      "Reduction order for nice/marker/PowerSpectralDensity/beta: ['frequency', 'channels']\n",
      "Running KolmogorovComplexity\n",
      "Elapsed time 0.02561473846435547 sec\n",
      "Reduction order for nice/marker/KolmogorovComplexity/default: ['channels']\n",
      "Filtering  at 10.42 Hz\n",
      "Performing symbolic transformation\n"
     ]
    },
    {
     "name": "stderr",
     "output_type": "stream",
     "text": [
      "[Parallel(n_jobs=24)]: Done  21 out of  24 | elapsed:    3.7s remaining:    0.5s\n",
      "[Parallel(n_jobs=24)]: Done  24 out of  24 | elapsed:    3.7s finished\n"
     ]
    },
    {
     "name": "stdout",
     "output_type": "stream",
     "text": [
      "Reduction order for nice/marker/PermutationEntropy/default: ['channels']\n",
      "Autodetected number of jobs 2\n",
      "Computing CSD\n",
      "Using 10-5 locations for CSD\n",
      "Using 2 jobs\n"
     ]
    },
    {
     "name": "stderr",
     "output_type": "stream",
     "text": [
      "[Parallel(n_jobs=2)]: Using backend LokyBackend with 2 concurrent workers.\n"
     ]
    },
    {
     "name": "stdout",
     "output_type": "stream",
     "text": [
      "Filtering  at 10.42 Hz\n",
      "Reduction order for nice/marker/SymbolicMutualInformation/default: ['channels_y', 'channels']\n",
      "Reading /media/nicolas.bruno/63f8a366-34b7-4896-a7ce-b5fb4ee78535/Nico/MW_eeg_data/minmarker/VP12/VP12_evoked_ar_clean_epo.fif ...\n",
      "    Found the data of interest:\n",
      "        t =    -200.00 ...     600.00 ms\n",
      "        0 CTF compensation matrices available\n",
      "Not setting metadata\n",
      "Not setting metadata\n",
      "32 matching events found\n",
      "No baseline correction applied\n",
      "0 projection items activated\n",
      "Autodetected number of jobs 24\n",
      "Effective window size : 16.384 (s)\n"
     ]
    },
    {
     "name": "stderr",
     "output_type": "stream",
     "text": [
      "[Parallel(n_jobs=2)]: Done  13 out of  13 | elapsed:    1.7s finished\n",
      "[Parallel(n_jobs=24)]: Using backend LokyBackend with 24 concurrent workers.\n"
     ]
    },
    {
     "name": "stdout",
     "output_type": "stream",
     "text": [
      "Reduction order for nice/marker/PowerSpectralDensity/alpha: ['frequency', 'channels']\n",
      "Reduction order for nice/marker/PowerSpectralDensity/alpha: ['frequency', 'channels']\n",
      "Reduction order for nice/marker/PowerSpectralDensity/delta: ['frequency', 'channels']\n"
     ]
    },
    {
     "name": "stderr",
     "output_type": "stream",
     "text": [
      "[Parallel(n_jobs=24)]: Done   6 out of  24 | elapsed:    3.4s remaining:   10.3s\n",
      "[Parallel(n_jobs=24)]: Done  11 out of  24 | elapsed:    3.5s remaining:    4.1s\n",
      "[Parallel(n_jobs=24)]: Done  16 out of  24 | elapsed:    3.6s remaining:    1.8s\n",
      "[Parallel(n_jobs=24)]: Done  21 out of  24 | elapsed:    3.6s remaining:    0.5s\n",
      "[Parallel(n_jobs=24)]: Done  24 out of  24 | elapsed:    3.6s finished\n",
      "/home/nicolas.bruno/anaconda3/lib/python3.7/site-packages/nice-0.1.dev0-py3.7.egg/nice/markers/spectral.py:128: RuntimeWarning: invalid value encountered in true_divide\n",
      "  self.data_norm_ = self.data_ / self.data_.sum(axis=-1)[..., None]\n",
      "/home/nicolas.bruno/anaconda3/lib/python3.7/site-packages/nice-0.1.dev0-py3.7.egg/nice/markers/spectral.py:220: RuntimeWarning: divide by zero encountered in log10\n",
      "  out = 10 * np.log10(out)\n"
     ]
    },
    {
     "name": "stdout",
     "output_type": "stream",
     "text": [
      "Reduction order for nice/marker/PowerSpectralDensity/delta: ['frequency', 'channels']\n",
      "Reduction order for nice/marker/PowerSpectralDensity/theta: ['frequency', 'channels']\n",
      "Reduction order for nice/marker/PowerSpectralDensity/theta: ['frequency', 'channels']\n",
      "Reduction order for nice/marker/PowerSpectralDensity/gamma: ['frequency', 'channels']\n",
      "Reduction order for nice/marker/PowerSpectralDensity/theta: ['frequency', 'channels']\n",
      "Reduction order for nice/marker/PowerSpectralDensity/beta: ['frequency', 'channels']\n",
      "Reduction order for nice/marker/PowerSpectralDensity/beta: ['frequency', 'channels']\n",
      "Running KolmogorovComplexity\n",
      "Elapsed time 0.003938198089599609 sec\n",
      "Reduction order for nice/marker/KolmogorovComplexity/default: ['channels']\n",
      "Filtering  at 10.42 Hz\n",
      "Performing symbolic transformation\n",
      "Reduction order for nice/marker/PermutationEntropy/default: ['channels']\n",
      "Autodetected number of jobs 2\n",
      "Computing CSD\n",
      "Using 10-5 locations for CSD\n",
      "Using 2 jobs\n"
     ]
    },
    {
     "name": "stderr",
     "output_type": "stream",
     "text": [
      "/home/nicolas.bruno/anaconda3/lib/python3.7/site-packages/nice-0.1.dev0-py3.7.egg/nice/algorithms/information_theory/permutation_entropy.py:75: RuntimeWarning: divide by zero encountered in log\n",
      "  pe = np.nan_to_num(-np.nansum(count * np.log(count), axis=1))\n",
      "/home/nicolas.bruno/anaconda3/lib/python3.7/site-packages/nice-0.1.dev0-py3.7.egg/nice/algorithms/information_theory/permutation_entropy.py:75: RuntimeWarning: invalid value encountered in multiply\n",
      "  pe = np.nan_to_num(-np.nansum(count * np.log(count), axis=1))\n",
      "[Parallel(n_jobs=2)]: Using backend LokyBackend with 2 concurrent workers.\n"
     ]
    },
    {
     "name": "stdout",
     "output_type": "stream",
     "text": [
      "Filtering  at 10.42 Hz\n",
      "Reduction order for nice/marker/SymbolicMutualInformation/default: ['channels_y', 'channels']\n",
      "Autodetected number of jobs 24\n",
      "Effective window size : 16.384 (s)\n"
     ]
    },
    {
     "name": "stderr",
     "output_type": "stream",
     "text": [
      "[Parallel(n_jobs=2)]: Done   3 out of   3 | elapsed:    1.6s remaining:    0.0s\n",
      "[Parallel(n_jobs=2)]: Done   3 out of   3 | elapsed:    1.6s finished\n",
      "[Parallel(n_jobs=24)]: Using backend LokyBackend with 24 concurrent workers.\n",
      "[Parallel(n_jobs=24)]: Done   6 out of  24 | elapsed:    3.4s remaining:   10.2s\n",
      "[Parallel(n_jobs=24)]: Done  11 out of  24 | elapsed:    3.4s remaining:    4.0s\n",
      "[Parallel(n_jobs=24)]: Done  16 out of  24 | elapsed:    3.5s remaining:    1.7s\n",
      "[Parallel(n_jobs=24)]: Done  21 out of  24 | elapsed:    3.6s remaining:    0.5s\n"
     ]
    },
    {
     "name": "stdout",
     "output_type": "stream",
     "text": [
      "Reduction order for nice/marker/PowerSpectralDensity/alpha: ['frequency', 'channels']\n",
      "Reduction order for nice/marker/PowerSpectralDensity/alpha: ['frequency', 'channels']\n",
      "Reduction order for nice/marker/PowerSpectralDensity/delta: ['frequency', 'channels']\n",
      "Reduction order for nice/marker/PowerSpectralDensity/delta: ['frequency', 'channels']\n",
      "Reduction order for nice/marker/PowerSpectralDensity/theta: ['frequency', 'channels']\n",
      "Reduction order for nice/marker/PowerSpectralDensity/theta: ['frequency', 'channels']\n",
      "Reduction order for nice/marker/PowerSpectralDensity/gamma: ['frequency', 'channels']\n",
      "Reduction order for nice/marker/PowerSpectralDensity/theta: ['frequency', 'channels']\n",
      "Reduction order for nice/marker/PowerSpectralDensity/beta: ['frequency', 'channels']\n",
      "Reduction order for nice/marker/PowerSpectralDensity/beta: ['frequency', 'channels']\n",
      "Running KolmogorovComplexity\n",
      "Elapsed time 0.011688709259033203 sec\n",
      "Reduction order for nice/marker/KolmogorovComplexity/default: ['channels']\n",
      "Filtering  at 10.42 Hz\n",
      "Performing symbolic transformation\n"
     ]
    },
    {
     "name": "stderr",
     "output_type": "stream",
     "text": [
      "[Parallel(n_jobs=24)]: Done  24 out of  24 | elapsed:    3.6s finished\n"
     ]
    },
    {
     "name": "stdout",
     "output_type": "stream",
     "text": [
      "Reduction order for nice/marker/PermutationEntropy/default: ['channels']\n",
      "Autodetected number of jobs 2\n",
      "Computing CSD\n",
      "Using 10-5 locations for CSD\n",
      "Using 2 jobs\n"
     ]
    },
    {
     "name": "stderr",
     "output_type": "stream",
     "text": [
      "[Parallel(n_jobs=2)]: Using backend LokyBackend with 2 concurrent workers.\n"
     ]
    },
    {
     "name": "stdout",
     "output_type": "stream",
     "text": [
      "Filtering  at 10.42 Hz\n",
      "Reduction order for nice/marker/SymbolicMutualInformation/default: ['channels_y', 'channels']\n",
      "Autodetected number of jobs 24\n",
      "Effective window size : 16.384 (s)\n"
     ]
    },
    {
     "name": "stderr",
     "output_type": "stream",
     "text": [
      "[Parallel(n_jobs=2)]: Done   6 out of   6 | elapsed:    1.6s finished\n",
      "[Parallel(n_jobs=24)]: Using backend LokyBackend with 24 concurrent workers.\n",
      "[Parallel(n_jobs=24)]: Done   6 out of  24 | elapsed:    3.4s remaining:   10.3s\n",
      "[Parallel(n_jobs=24)]: Done  11 out of  24 | elapsed:    3.5s remaining:    4.1s\n",
      "[Parallel(n_jobs=24)]: Done  16 out of  24 | elapsed:    3.5s remaining:    1.8s\n",
      "[Parallel(n_jobs=24)]: Done  21 out of  24 | elapsed:    3.6s remaining:    0.5s\n",
      "[Parallel(n_jobs=24)]: Done  24 out of  24 | elapsed:    3.6s finished\n"
     ]
    },
    {
     "name": "stdout",
     "output_type": "stream",
     "text": [
      "Reduction order for nice/marker/PowerSpectralDensity/alpha: ['frequency', 'channels']\n",
      "Reduction order for nice/marker/PowerSpectralDensity/alpha: ['frequency', 'channels']\n",
      "Reduction order for nice/marker/PowerSpectralDensity/delta: ['frequency', 'channels']\n",
      "Reduction order for nice/marker/PowerSpectralDensity/delta: ['frequency', 'channels']\n",
      "Reduction order for nice/marker/PowerSpectralDensity/theta: ['frequency', 'channels']\n",
      "Reduction order for nice/marker/PowerSpectralDensity/theta: ['frequency', 'channels']\n",
      "Reduction order for nice/marker/PowerSpectralDensity/gamma: ['frequency', 'channels']\n",
      "Reduction order for nice/marker/PowerSpectralDensity/theta: ['frequency', 'channels']\n",
      "Reduction order for nice/marker/PowerSpectralDensity/beta: ['frequency', 'channels']\n",
      "Reduction order for nice/marker/PowerSpectralDensity/beta: ['frequency', 'channels']\n",
      "Running KolmogorovComplexity\n",
      "Elapsed time 0.013940095901489258 sec\n",
      "Reduction order for nice/marker/KolmogorovComplexity/default: ['channels']\n",
      "Filtering  at 10.42 Hz\n",
      "Performing symbolic transformation\n",
      "Reduction order for nice/marker/PermutationEntropy/default: ['channels']\n",
      "Autodetected number of jobs 2\n",
      "Computing CSD\n",
      "Using 10-5 locations for CSD\n",
      "Using 2 jobs\n"
     ]
    },
    {
     "name": "stderr",
     "output_type": "stream",
     "text": [
      "[Parallel(n_jobs=2)]: Using backend LokyBackend with 2 concurrent workers.\n"
     ]
    },
    {
     "name": "stdout",
     "output_type": "stream",
     "text": [
      "Filtering  at 10.42 Hz\n",
      "Reduction order for nice/marker/SymbolicMutualInformation/default: ['channels_y', 'channels']\n",
      "Reading /media/nicolas.bruno/63f8a366-34b7-4896-a7ce-b5fb4ee78535/Nico/MW_eeg_data/minmarker/VP13/VP13_evoked_ar_clean_epo.fif ...\n",
      "    Found the data of interest:\n",
      "        t =    -200.00 ...     600.00 ms\n",
      "        0 CTF compensation matrices available\n",
      "Not setting metadata\n",
      "Not setting metadata\n",
      "391 matching events found\n",
      "No baseline correction applied\n",
      "0 projection items activated\n",
      "Autodetected number of jobs 24\n",
      "Effective window size : 16.384 (s)\n"
     ]
    },
    {
     "name": "stderr",
     "output_type": "stream",
     "text": [
      "[Parallel(n_jobs=2)]: Done  11 out of  11 | elapsed:    1.6s finished\n",
      "[Parallel(n_jobs=24)]: Using backend LokyBackend with 24 concurrent workers.\n",
      "[Parallel(n_jobs=24)]: Done   6 out of  24 | elapsed:    3.4s remaining:   10.3s\n",
      "[Parallel(n_jobs=24)]: Done  11 out of  24 | elapsed:    3.5s remaining:    4.1s\n",
      "[Parallel(n_jobs=24)]: Done  16 out of  24 | elapsed:    3.6s remaining:    1.8s\n",
      "[Parallel(n_jobs=24)]: Done  21 out of  24 | elapsed:    3.6s remaining:    0.5s\n"
     ]
    },
    {
     "name": "stdout",
     "output_type": "stream",
     "text": [
      "Reduction order for nice/marker/PowerSpectralDensity/alpha: ['frequency', 'channels']\n",
      "Reduction order for nice/marker/PowerSpectralDensity/alpha: ['frequency', 'channels']\n",
      "Reduction order for nice/marker/PowerSpectralDensity/delta: ['frequency', 'channels']\n",
      "Reduction order for nice/marker/PowerSpectralDensity/delta: ['frequency', 'channels']\n",
      "Reduction order for nice/marker/PowerSpectralDensity/theta: ['frequency', 'channels']\n",
      "Reduction order for nice/marker/PowerSpectralDensity/theta: ['frequency', 'channels']\n",
      "Reduction order for nice/marker/PowerSpectralDensity/gamma: ['frequency', 'channels']\n",
      "Reduction order for nice/marker/PowerSpectralDensity/theta: ['frequency', 'channels']\n",
      "Reduction order for nice/marker/PowerSpectralDensity/beta: ['frequency', 'channels']\n",
      "Reduction order for nice/marker/PowerSpectralDensity/beta: ['frequency', 'channels']\n",
      "Running KolmogorovComplexity\n",
      "Elapsed time 0.05556225776672363 sec\n",
      "Reduction order for nice/marker/KolmogorovComplexity/default: ['channels']\n",
      "Filtering  at 10.42 Hz\n",
      "Performing symbolic transformation\n"
     ]
    },
    {
     "name": "stderr",
     "output_type": "stream",
     "text": [
      "[Parallel(n_jobs=24)]: Done  24 out of  24 | elapsed:    3.7s finished\n",
      "/home/nicolas.bruno/anaconda3/lib/python3.7/site-packages/nice-0.1.dev0-py3.7.egg/nice/markers/spectral.py:128: RuntimeWarning: invalid value encountered in true_divide\n",
      "  self.data_norm_ = self.data_ / self.data_.sum(axis=-1)[..., None]\n",
      "/home/nicolas.bruno/anaconda3/lib/python3.7/site-packages/nice-0.1.dev0-py3.7.egg/nice/markers/spectral.py:220: RuntimeWarning: divide by zero encountered in log10\n",
      "  out = 10 * np.log10(out)\n"
     ]
    },
    {
     "name": "stdout",
     "output_type": "stream",
     "text": [
      "Reduction order for nice/marker/PermutationEntropy/default: ['channels']\n",
      "Autodetected number of jobs 2\n",
      "Computing CSD\n",
      "Using 10-5 locations for CSD\n",
      "Using 2 jobs\n"
     ]
    },
    {
     "name": "stderr",
     "output_type": "stream",
     "text": [
      "/home/nicolas.bruno/anaconda3/lib/python3.7/site-packages/nice-0.1.dev0-py3.7.egg/nice/algorithms/information_theory/permutation_entropy.py:75: RuntimeWarning: divide by zero encountered in log\n",
      "  pe = np.nan_to_num(-np.nansum(count * np.log(count), axis=1))\n",
      "/home/nicolas.bruno/anaconda3/lib/python3.7/site-packages/nice-0.1.dev0-py3.7.egg/nice/algorithms/information_theory/permutation_entropy.py:75: RuntimeWarning: invalid value encountered in multiply\n",
      "  pe = np.nan_to_num(-np.nansum(count * np.log(count), axis=1))\n",
      "[Parallel(n_jobs=2)]: Using backend LokyBackend with 2 concurrent workers.\n"
     ]
    },
    {
     "name": "stdout",
     "output_type": "stream",
     "text": [
      "Filtering  at 10.42 Hz\n"
     ]
    },
    {
     "name": "stderr",
     "output_type": "stream",
     "text": [
      "[Parallel(n_jobs=2)]: Done  18 tasks      | elapsed:    1.6s\n",
      "[Parallel(n_jobs=2)]: Done  39 out of  39 | elapsed:    1.7s finished\n"
     ]
    },
    {
     "name": "stdout",
     "output_type": "stream",
     "text": [
      "Reduction order for nice/marker/SymbolicMutualInformation/default: ['channels_y', 'channels']\n",
      "Autodetected number of jobs 24\n",
      "Effective window size : 16.384 (s)\n"
     ]
    },
    {
     "name": "stderr",
     "output_type": "stream",
     "text": [
      "[Parallel(n_jobs=24)]: Using backend LokyBackend with 24 concurrent workers.\n",
      "[Parallel(n_jobs=24)]: Done   6 out of  24 | elapsed:    3.9s remaining:   11.6s\n",
      "[Parallel(n_jobs=24)]: Done  11 out of  24 | elapsed:    4.0s remaining:    4.7s\n",
      "[Parallel(n_jobs=24)]: Done  16 out of  24 | elapsed:    4.0s remaining:    2.0s\n"
     ]
    },
    {
     "name": "stdout",
     "output_type": "stream",
     "text": [
      "Reduction order for nice/marker/PowerSpectralDensity/alpha: ['frequency', 'channels']\n",
      "Reduction order for nice/marker/PowerSpectralDensity/alpha: ['frequency', 'channels']\n",
      "Reduction order for nice/marker/PowerSpectralDensity/delta: ['frequency', 'channels']\n",
      "Reduction order for nice/marker/PowerSpectralDensity/delta: ['frequency', 'channels']\n",
      "Reduction order for nice/marker/PowerSpectralDensity/theta: ['frequency', 'channels']\n",
      "Reduction order for nice/marker/PowerSpectralDensity/theta: ['frequency', 'channels']\n",
      "Reduction order for nice/marker/PowerSpectralDensity/gamma: ['frequency', 'channels']\n",
      "Reduction order for nice/marker/PowerSpectralDensity/theta: ['frequency', 'channels']\n"
     ]
    },
    {
     "name": "stderr",
     "output_type": "stream",
     "text": [
      "[Parallel(n_jobs=24)]: Done  21 out of  24 | elapsed:    4.1s remaining:    0.6s\n",
      "[Parallel(n_jobs=24)]: Done  24 out of  24 | elapsed:    4.1s finished\n"
     ]
    },
    {
     "name": "stdout",
     "output_type": "stream",
     "text": [
      "Reduction order for nice/marker/PowerSpectralDensity/beta: ['frequency', 'channels']\n",
      "Reduction order for nice/marker/PowerSpectralDensity/beta: ['frequency', 'channels']\n",
      "Running KolmogorovComplexity\n",
      "Elapsed time 0.2490677833557129 sec\n",
      "Reduction order for nice/marker/KolmogorovComplexity/default: ['channels']\n",
      "Filtering  at 10.42 Hz\n",
      "Performing symbolic transformation\n",
      "Reduction order for nice/marker/PermutationEntropy/default: ['channels']\n",
      "Autodetected number of jobs 2\n",
      "Computing CSD\n",
      "Using 10-5 locations for CSD\n",
      "Using 2 jobs\n"
     ]
    },
    {
     "name": "stderr",
     "output_type": "stream",
     "text": [
      "[Parallel(n_jobs=2)]: Using backend LokyBackend with 2 concurrent workers.\n",
      "[Parallel(n_jobs=2)]: Done  18 tasks      | elapsed:    1.7s\n",
      "[Parallel(n_jobs=2)]: Done 179 out of 179 | elapsed:    1.9s finished\n"
     ]
    },
    {
     "name": "stdout",
     "output_type": "stream",
     "text": [
      "Filtering  at 10.42 Hz\n",
      "Reduction order for nice/marker/SymbolicMutualInformation/default: ['channels_y', 'channels']\n",
      "Autodetected number of jobs 24\n",
      "Effective window size : 16.384 (s)\n"
     ]
    },
    {
     "name": "stderr",
     "output_type": "stream",
     "text": [
      "[Parallel(n_jobs=24)]: Using backend LokyBackend with 24 concurrent workers.\n",
      "[Parallel(n_jobs=24)]: Done   6 out of  24 | elapsed:    3.4s remaining:   10.3s\n",
      "[Parallel(n_jobs=24)]: Done  11 out of  24 | elapsed:    3.5s remaining:    4.2s\n"
     ]
    },
    {
     "name": "stdout",
     "output_type": "stream",
     "text": [
      "Reduction order for nice/marker/PowerSpectralDensity/alpha: ['frequency', 'channels']\n",
      "Reduction order for nice/marker/PowerSpectralDensity/alpha: ['frequency', 'channels']\n",
      "Reduction order for nice/marker/PowerSpectralDensity/delta: ['frequency', 'channels']\n",
      "Reduction order for nice/marker/PowerSpectralDensity/delta: ['frequency', 'channels']\n",
      "Reduction order for nice/marker/PowerSpectralDensity/theta: ['frequency', 'channels']\n",
      "Reduction order for nice/marker/PowerSpectralDensity/theta: ['frequency', 'channels']\n",
      "Reduction order for nice/marker/PowerSpectralDensity/gamma: ['frequency', 'channels']\n",
      "Reduction order for nice/marker/PowerSpectralDensity/theta: ['frequency', 'channels']\n",
      "Reduction order for nice/marker/PowerSpectralDensity/beta: ['frequency', 'channels']\n",
      "Reduction order for nice/marker/PowerSpectralDensity/beta: ['frequency', 'channels']\n",
      "Running KolmogorovComplexity\n",
      "Elapsed time 0.00687098503112793 sec\n",
      "Reduction order for nice/marker/KolmogorovComplexity/default: ['channels']\n",
      "Filtering  at 10.42 Hz\n",
      "Performing symbolic transformation\n"
     ]
    },
    {
     "name": "stderr",
     "output_type": "stream",
     "text": [
      "[Parallel(n_jobs=24)]: Done  16 out of  24 | elapsed:    3.7s remaining:    1.8s\n",
      "[Parallel(n_jobs=24)]: Done  21 out of  24 | elapsed:    3.7s remaining:    0.5s\n",
      "[Parallel(n_jobs=24)]: Done  24 out of  24 | elapsed:    3.8s finished\n"
     ]
    },
    {
     "name": "stdout",
     "output_type": "stream",
     "text": [
      "Reduction order for nice/marker/PermutationEntropy/default: ['channels']\n",
      "Autodetected number of jobs 2\n",
      "Computing CSD\n",
      "Using 10-5 locations for CSD\n",
      "Using 2 jobs\n"
     ]
    },
    {
     "name": "stderr",
     "output_type": "stream",
     "text": [
      "[Parallel(n_jobs=2)]: Using backend LokyBackend with 2 concurrent workers.\n"
     ]
    },
    {
     "name": "stdout",
     "output_type": "stream",
     "text": [
      "Filtering  at 10.42 Hz\n",
      "Reduction order for nice/marker/SymbolicMutualInformation/default: ['channels_y', 'channels']\n",
      "Autodetected number of jobs 24\n",
      "Effective window size : 16.384 (s)\n"
     ]
    },
    {
     "name": "stderr",
     "output_type": "stream",
     "text": [
      "[Parallel(n_jobs=2)]: Done   5 out of   5 | elapsed:    1.6s finished\n",
      "[Parallel(n_jobs=24)]: Using backend LokyBackend with 24 concurrent workers.\n",
      "[Parallel(n_jobs=24)]: Done   6 out of  24 | elapsed:    3.4s remaining:   10.2s\n",
      "[Parallel(n_jobs=24)]: Done  11 out of  24 | elapsed:    3.4s remaining:    4.0s\n",
      "[Parallel(n_jobs=24)]: Done  16 out of  24 | elapsed:    3.5s remaining:    1.8s\n"
     ]
    },
    {
     "name": "stdout",
     "output_type": "stream",
     "text": [
      "Reduction order for nice/marker/PowerSpectralDensity/alpha: ['frequency', 'channels']\n",
      "Reduction order for nice/marker/PowerSpectralDensity/alpha: ['frequency', 'channels']\n",
      "Reduction order for nice/marker/PowerSpectralDensity/delta: ['frequency', 'channels']\n",
      "Reduction order for nice/marker/PowerSpectralDensity/delta: ['frequency', 'channels']\n",
      "Reduction order for nice/marker/PowerSpectralDensity/theta: ['frequency', 'channels']\n",
      "Reduction order for nice/marker/PowerSpectralDensity/theta: ['frequency', 'channels']\n",
      "Reduction order for nice/marker/PowerSpectralDensity/gamma: ['frequency', 'channels']\n",
      "Reduction order for nice/marker/PowerSpectralDensity/theta: ['frequency', 'channels']\n",
      "Reduction order for nice/marker/PowerSpectralDensity/beta: ['frequency', 'channels']\n",
      "Reduction order for nice/marker/PowerSpectralDensity/beta: ['frequency', 'channels']\n",
      "Running KolmogorovComplexity\n",
      "Elapsed time 0.0166013240814209 sec\n",
      "Reduction order for nice/marker/KolmogorovComplexity/default: ['channels']\n",
      "Filtering  at 10.42 Hz\n",
      "Performing symbolic transformation\n"
     ]
    },
    {
     "name": "stderr",
     "output_type": "stream",
     "text": [
      "[Parallel(n_jobs=24)]: Done  21 out of  24 | elapsed:    3.6s remaining:    0.5s\n",
      "[Parallel(n_jobs=24)]: Done  24 out of  24 | elapsed:    3.7s finished\n"
     ]
    },
    {
     "name": "stdout",
     "output_type": "stream",
     "text": [
      "Reduction order for nice/marker/PermutationEntropy/default: ['channels']\n",
      "Autodetected number of jobs 2\n",
      "Computing CSD\n",
      "Using 10-5 locations for CSD\n",
      "Using 2 jobs\n"
     ]
    },
    {
     "name": "stderr",
     "output_type": "stream",
     "text": [
      "[Parallel(n_jobs=2)]: Using backend LokyBackend with 2 concurrent workers.\n"
     ]
    },
    {
     "name": "stdout",
     "output_type": "stream",
     "text": [
      "Filtering  at 10.42 Hz\n",
      "Reduction order for nice/marker/SymbolicMutualInformation/default: ['channels_y', 'channels']\n",
      "Autodetected number of jobs 24\n",
      "Effective window size : 16.384 (s)\n"
     ]
    },
    {
     "name": "stderr",
     "output_type": "stream",
     "text": [
      "[Parallel(n_jobs=2)]: Done  10 out of  10 | elapsed:    1.6s finished\n",
      "[Parallel(n_jobs=24)]: Using backend LokyBackend with 24 concurrent workers.\n",
      "[Parallel(n_jobs=24)]: Done   6 out of  24 | elapsed:    3.5s remaining:   10.5s\n",
      "[Parallel(n_jobs=24)]: Done  11 out of  24 | elapsed:    3.6s remaining:    4.2s\n",
      "[Parallel(n_jobs=24)]: Done  16 out of  24 | elapsed:    3.7s remaining:    1.8s\n"
     ]
    },
    {
     "name": "stdout",
     "output_type": "stream",
     "text": [
      "Reduction order for nice/marker/PowerSpectralDensity/alpha: ['frequency', 'channels']\n",
      "Reduction order for nice/marker/PowerSpectralDensity/alpha: ['frequency', 'channels']\n",
      "Reduction order for nice/marker/PowerSpectralDensity/delta: ['frequency', 'channels']\n",
      "Reduction order for nice/marker/PowerSpectralDensity/delta: ['frequency', 'channels']\n",
      "Reduction order for nice/marker/PowerSpectralDensity/theta: ['frequency', 'channels']\n",
      "Reduction order for nice/marker/PowerSpectralDensity/theta: ['frequency', 'channels']\n",
      "Reduction order for nice/marker/PowerSpectralDensity/gamma: ['frequency', 'channels']\n",
      "Reduction order for nice/marker/PowerSpectralDensity/theta: ['frequency', 'channels']\n",
      "Reduction order for nice/marker/PowerSpectralDensity/beta: ['frequency', 'channels']\n",
      "Reduction order for nice/marker/PowerSpectralDensity/beta: ['frequency', 'channels']\n",
      "Running KolmogorovComplexity\n",
      "Elapsed time 0.013364315032958984 sec\n",
      "Reduction order for nice/marker/KolmogorovComplexity/default: ['channels']\n",
      "Filtering  at 10.42 Hz\n",
      "Performing symbolic transformation\n"
     ]
    },
    {
     "name": "stderr",
     "output_type": "stream",
     "text": [
      "[Parallel(n_jobs=24)]: Done  21 out of  24 | elapsed:    3.7s remaining:    0.5s\n",
      "[Parallel(n_jobs=24)]: Done  24 out of  24 | elapsed:    3.8s finished\n"
     ]
    },
    {
     "name": "stdout",
     "output_type": "stream",
     "text": [
      "Reduction order for nice/marker/PermutationEntropy/default: ['channels']\n",
      "Autodetected number of jobs 2\n",
      "Computing CSD\n",
      "Using 10-5 locations for CSD\n",
      "Using 2 jobs\n"
     ]
    },
    {
     "name": "stderr",
     "output_type": "stream",
     "text": [
      "[Parallel(n_jobs=2)]: Using backend LokyBackend with 2 concurrent workers.\n"
     ]
    },
    {
     "name": "stdout",
     "output_type": "stream",
     "text": [
      "Filtering  at 10.42 Hz\n",
      "Reduction order for nice/marker/SymbolicMutualInformation/default: ['channels_y', 'channels']\n",
      "Reading /media/nicolas.bruno/63f8a366-34b7-4896-a7ce-b5fb4ee78535/Nico/MW_eeg_data/minmarker/VP14/VP14_evoked_ar_clean_epo.fif ...\n",
      "    Found the data of interest:\n",
      "        t =    -200.00 ...     600.00 ms\n",
      "        0 CTF compensation matrices available\n",
      "Not setting metadata\n",
      "Not setting metadata\n",
      "343 matching events found\n",
      "No baseline correction applied\n",
      "0 projection items activated\n"
     ]
    },
    {
     "name": "stderr",
     "output_type": "stream",
     "text": [
      "[Parallel(n_jobs=2)]: Done   9 out of   9 | elapsed:    1.7s finished\n"
     ]
    },
    {
     "name": "stdout",
     "output_type": "stream",
     "text": [
      "Autodetected number of jobs 24\n",
      "Effective window size : 16.384 (s)\n"
     ]
    },
    {
     "name": "stderr",
     "output_type": "stream",
     "text": [
      "[Parallel(n_jobs=24)]: Using backend LokyBackend with 24 concurrent workers.\n",
      "[Parallel(n_jobs=24)]: Done   6 out of  24 | elapsed:    3.9s remaining:   11.8s\n",
      "[Parallel(n_jobs=24)]: Done  11 out of  24 | elapsed:    4.0s remaining:    4.8s\n",
      "[Parallel(n_jobs=24)]: Done  16 out of  24 | elapsed:    4.1s remaining:    2.1s\n",
      "[Parallel(n_jobs=24)]: Done  21 out of  24 | elapsed:    4.2s remaining:    0.6s\n",
      "[Parallel(n_jobs=24)]: Done  24 out of  24 | elapsed:    4.3s finished\n"
     ]
    },
    {
     "name": "stdout",
     "output_type": "stream",
     "text": [
      "Reduction order for nice/marker/PowerSpectralDensity/alpha: ['frequency', 'channels']\n",
      "Reduction order for nice/marker/PowerSpectralDensity/alpha: ['frequency', 'channels']\n",
      "Reduction order for nice/marker/PowerSpectralDensity/delta: ['frequency', 'channels']\n",
      "Reduction order for nice/marker/PowerSpectralDensity/delta: ['frequency', 'channels']\n",
      "Reduction order for nice/marker/PowerSpectralDensity/theta: ['frequency', 'channels']\n",
      "Reduction order for nice/marker/PowerSpectralDensity/theta: ['frequency', 'channels']\n",
      "Reduction order for nice/marker/PowerSpectralDensity/gamma: ['frequency', 'channels']\n",
      "Reduction order for nice/marker/PowerSpectralDensity/theta: ['frequency', 'channels']\n",
      "Reduction order for nice/marker/PowerSpectralDensity/beta: ['frequency', 'channels']\n",
      "Reduction order for nice/marker/PowerSpectralDensity/beta: ['frequency', 'channels']\n",
      "Running KolmogorovComplexity\n",
      "Elapsed time 0.18636608123779297 sec\n"
     ]
    },
    {
     "name": "stderr",
     "output_type": "stream",
     "text": [
      "/home/nicolas.bruno/anaconda3/lib/python3.7/site-packages/nice-0.1.dev0-py3.7.egg/nice/markers/spectral.py:128: RuntimeWarning: invalid value encountered in true_divide\n",
      "  self.data_norm_ = self.data_ / self.data_.sum(axis=-1)[..., None]\n",
      "/home/nicolas.bruno/anaconda3/lib/python3.7/site-packages/nice-0.1.dev0-py3.7.egg/nice/markers/spectral.py:220: RuntimeWarning: divide by zero encountered in log10\n",
      "  out = 10 * np.log10(out)\n"
     ]
    },
    {
     "name": "stdout",
     "output_type": "stream",
     "text": [
      "Reduction order for nice/marker/KolmogorovComplexity/default: ['channels']\n",
      "Filtering  at 10.42 Hz\n",
      "Performing symbolic transformation\n",
      "Reduction order for nice/marker/PermutationEntropy/default: ['channels']\n",
      "Autodetected number of jobs 2\n",
      "Computing CSD\n",
      "Using 10-5 locations for CSD\n",
      "Using 2 jobs\n"
     ]
    },
    {
     "name": "stderr",
     "output_type": "stream",
     "text": [
      "/home/nicolas.bruno/anaconda3/lib/python3.7/site-packages/nice-0.1.dev0-py3.7.egg/nice/algorithms/information_theory/permutation_entropy.py:75: RuntimeWarning: divide by zero encountered in log\n",
      "  pe = np.nan_to_num(-np.nansum(count * np.log(count), axis=1))\n",
      "/home/nicolas.bruno/anaconda3/lib/python3.7/site-packages/nice-0.1.dev0-py3.7.egg/nice/algorithms/information_theory/permutation_entropy.py:75: RuntimeWarning: invalid value encountered in multiply\n",
      "  pe = np.nan_to_num(-np.nansum(count * np.log(count), axis=1))\n",
      "[Parallel(n_jobs=2)]: Using backend LokyBackend with 2 concurrent workers.\n"
     ]
    },
    {
     "name": "stdout",
     "output_type": "stream",
     "text": [
      "Filtering  at 10.42 Hz\n"
     ]
    },
    {
     "name": "stderr",
     "output_type": "stream",
     "text": [
      "[Parallel(n_jobs=2)]: Done  18 tasks      | elapsed:    1.7s\n",
      "[Parallel(n_jobs=2)]: Done 133 out of 133 | elapsed:    1.8s finished\n"
     ]
    },
    {
     "name": "stdout",
     "output_type": "stream",
     "text": [
      "Reduction order for nice/marker/SymbolicMutualInformation/default: ['channels_y', 'channels']\n",
      "Autodetected number of jobs 24\n",
      "Effective window size : 16.384 (s)\n"
     ]
    },
    {
     "name": "stderr",
     "output_type": "stream",
     "text": [
      "[Parallel(n_jobs=24)]: Using backend LokyBackend with 24 concurrent workers.\n",
      "[Parallel(n_jobs=24)]: Done   6 out of  24 | elapsed:    3.5s remaining:   10.6s\n",
      "[Parallel(n_jobs=24)]: Done  11 out of  24 | elapsed:    3.6s remaining:    4.2s\n",
      "[Parallel(n_jobs=24)]: Done  16 out of  24 | elapsed:    3.7s remaining:    1.8s\n"
     ]
    },
    {
     "name": "stdout",
     "output_type": "stream",
     "text": [
      "Reduction order for nice/marker/PowerSpectralDensity/alpha: ['frequency', 'channels']\n",
      "Reduction order for nice/marker/PowerSpectralDensity/alpha: ['frequency', 'channels']\n",
      "Reduction order for nice/marker/PowerSpectralDensity/delta: ['frequency', 'channels']\n",
      "Reduction order for nice/marker/PowerSpectralDensity/delta: ['frequency', 'channels']\n",
      "Reduction order for nice/marker/PowerSpectralDensity/theta: ['frequency', 'channels']\n",
      "Reduction order for nice/marker/PowerSpectralDensity/theta: ['frequency', 'channels']\n",
      "Reduction order for nice/marker/PowerSpectralDensity/gamma: ['frequency', 'channels']\n",
      "Reduction order for nice/marker/PowerSpectralDensity/theta: ['frequency', 'channels']\n",
      "Reduction order for nice/marker/PowerSpectralDensity/beta: ['frequency', 'channels']\n",
      "Reduction order for nice/marker/PowerSpectralDensity/beta: ['frequency', 'channels']\n",
      "Running KolmogorovComplexity\n",
      "Elapsed time 0.07372856140136719 sec\n",
      "Reduction order for nice/marker/KolmogorovComplexity/default: ['channels']\n",
      "Filtering  at 10.42 Hz\n",
      "Performing symbolic transformation\n"
     ]
    },
    {
     "name": "stderr",
     "output_type": "stream",
     "text": [
      "[Parallel(n_jobs=24)]: Done  21 out of  24 | elapsed:    3.8s remaining:    0.5s\n",
      "[Parallel(n_jobs=24)]: Done  24 out of  24 | elapsed:    3.8s finished\n"
     ]
    },
    {
     "name": "stdout",
     "output_type": "stream",
     "text": [
      "Reduction order for nice/marker/PermutationEntropy/default: ['channels']\n",
      "Autodetected number of jobs 2\n",
      "Computing CSD\n",
      "Using 10-5 locations for CSD\n",
      "Using 2 jobs\n"
     ]
    },
    {
     "name": "stderr",
     "output_type": "stream",
     "text": [
      "[Parallel(n_jobs=2)]: Using backend LokyBackend with 2 concurrent workers.\n"
     ]
    },
    {
     "name": "stdout",
     "output_type": "stream",
     "text": [
      "Filtering  at 10.42 Hz\n"
     ]
    },
    {
     "name": "stderr",
     "output_type": "stream",
     "text": [
      "[Parallel(n_jobs=2)]: Done  18 tasks      | elapsed:    1.7s\n",
      "[Parallel(n_jobs=2)]: Done  53 out of  53 | elapsed:    1.7s finished\n"
     ]
    },
    {
     "name": "stdout",
     "output_type": "stream",
     "text": [
      "Reduction order for nice/marker/SymbolicMutualInformation/default: ['channels_y', 'channels']\n",
      "Autodetected number of jobs 24\n",
      "Effective window size : 16.384 (s)\n"
     ]
    },
    {
     "name": "stderr",
     "output_type": "stream",
     "text": [
      "[Parallel(n_jobs=24)]: Using backend LokyBackend with 24 concurrent workers.\n",
      "[Parallel(n_jobs=24)]: Done   6 out of  24 | elapsed:    3.4s remaining:   10.2s\n",
      "[Parallel(n_jobs=24)]: Done  11 out of  24 | elapsed:    3.5s remaining:    4.1s\n",
      "[Parallel(n_jobs=24)]: Done  16 out of  24 | elapsed:    3.5s remaining:    1.8s\n",
      "[Parallel(n_jobs=24)]: Done  21 out of  24 | elapsed:    3.6s remaining:    0.5s\n"
     ]
    },
    {
     "name": "stdout",
     "output_type": "stream",
     "text": [
      "Reduction order for nice/marker/PowerSpectralDensity/alpha: ['frequency', 'channels']\n",
      "Reduction order for nice/marker/PowerSpectralDensity/alpha: ['frequency', 'channels']\n",
      "Reduction order for nice/marker/PowerSpectralDensity/delta: ['frequency', 'channels']\n",
      "Reduction order for nice/marker/PowerSpectralDensity/delta: ['frequency', 'channels']\n",
      "Reduction order for nice/marker/PowerSpectralDensity/theta: ['frequency', 'channels']\n",
      "Reduction order for nice/marker/PowerSpectralDensity/theta: ['frequency', 'channels']\n",
      "Reduction order for nice/marker/PowerSpectralDensity/gamma: ['frequency', 'channels']\n",
      "Reduction order for nice/marker/PowerSpectralDensity/theta: ['frequency', 'channels']\n",
      "Reduction order for nice/marker/PowerSpectralDensity/beta: ['frequency', 'channels']\n",
      "Reduction order for nice/marker/PowerSpectralDensity/beta: ['frequency', 'channels']\n",
      "Running KolmogorovComplexity\n",
      "Elapsed time 0.00907588005065918 sec\n",
      "Reduction order for nice/marker/KolmogorovComplexity/default: ['channels']\n",
      "Filtering  at 10.42 Hz\n",
      "Performing symbolic transformation\n"
     ]
    },
    {
     "name": "stderr",
     "output_type": "stream",
     "text": [
      "[Parallel(n_jobs=24)]: Done  24 out of  24 | elapsed:    3.7s finished\n"
     ]
    },
    {
     "name": "stdout",
     "output_type": "stream",
     "text": [
      "Reduction order for nice/marker/PermutationEntropy/default: ['channels']\n",
      "Autodetected number of jobs 2\n",
      "Computing CSD\n",
      "Using 10-5 locations for CSD\n",
      "Using 2 jobs\n"
     ]
    },
    {
     "name": "stderr",
     "output_type": "stream",
     "text": [
      "[Parallel(n_jobs=2)]: Using backend LokyBackend with 2 concurrent workers.\n"
     ]
    },
    {
     "name": "stdout",
     "output_type": "stream",
     "text": [
      "Filtering  at 10.42 Hz\n",
      "Reduction order for nice/marker/SymbolicMutualInformation/default: ['channels_y', 'channels']\n",
      "Autodetected number of jobs 24\n",
      "Effective window size : 16.384 (s)\n"
     ]
    },
    {
     "name": "stderr",
     "output_type": "stream",
     "text": [
      "[Parallel(n_jobs=2)]: Done   4 out of   4 | elapsed:    1.6s remaining:    0.0s\n",
      "[Parallel(n_jobs=2)]: Done   4 out of   4 | elapsed:    1.6s finished\n",
      "[Parallel(n_jobs=24)]: Using backend LokyBackend with 24 concurrent workers.\n",
      "[Parallel(n_jobs=24)]: Done   6 out of  24 | elapsed:    3.4s remaining:   10.2s\n",
      "[Parallel(n_jobs=24)]: Done  11 out of  24 | elapsed:    3.5s remaining:    4.1s\n",
      "[Parallel(n_jobs=24)]: Done  16 out of  24 | elapsed:    3.5s remaining:    1.7s\n",
      "[Parallel(n_jobs=24)]: Done  21 out of  24 | elapsed:    3.6s remaining:    0.5s\n"
     ]
    },
    {
     "name": "stdout",
     "output_type": "stream",
     "text": [
      "Reduction order for nice/marker/PowerSpectralDensity/alpha: ['frequency', 'channels']\n",
      "Reduction order for nice/marker/PowerSpectralDensity/alpha: ['frequency', 'channels']\n",
      "Reduction order for nice/marker/PowerSpectralDensity/delta: ['frequency', 'channels']\n",
      "Reduction order for nice/marker/PowerSpectralDensity/delta: ['frequency', 'channels']\n",
      "Reduction order for nice/marker/PowerSpectralDensity/theta: ['frequency', 'channels']\n",
      "Reduction order for nice/marker/PowerSpectralDensity/theta: ['frequency', 'channels']\n",
      "Reduction order for nice/marker/PowerSpectralDensity/gamma: ['frequency', 'channels']\n",
      "Reduction order for nice/marker/PowerSpectralDensity/theta: ['frequency', 'channels']\n",
      "Reduction order for nice/marker/PowerSpectralDensity/beta: ['frequency', 'channels']\n",
      "Reduction order for nice/marker/PowerSpectralDensity/beta: ['frequency', 'channels']\n",
      "Running KolmogorovComplexity\n",
      "Elapsed time 0.0068590641021728516 sec\n",
      "Reduction order for nice/marker/KolmogorovComplexity/default: ['channels']\n",
      "Filtering  at 10.42 Hz\n",
      "Performing symbolic transformation\n"
     ]
    },
    {
     "name": "stderr",
     "output_type": "stream",
     "text": [
      "[Parallel(n_jobs=24)]: Done  24 out of  24 | elapsed:    3.6s finished\n"
     ]
    },
    {
     "name": "stdout",
     "output_type": "stream",
     "text": [
      "Reduction order for nice/marker/PermutationEntropy/default: ['channels']\n",
      "Autodetected number of jobs 2\n",
      "Computing CSD\n",
      "Using 10-5 locations for CSD\n",
      "Using 2 jobs\n"
     ]
    },
    {
     "name": "stderr",
     "output_type": "stream",
     "text": [
      "[Parallel(n_jobs=2)]: Using backend LokyBackend with 2 concurrent workers.\n"
     ]
    },
    {
     "name": "stdout",
     "output_type": "stream",
     "text": [
      "Filtering  at 10.42 Hz\n",
      "Reduction order for nice/marker/SymbolicMutualInformation/default: ['channels_y', 'channels']\n",
      "Reading /media/nicolas.bruno/63f8a366-34b7-4896-a7ce-b5fb4ee78535/Nico/MW_eeg_data/minmarker/VP18/VP18_evoked_ar_clean_epo.fif ...\n",
      "    Found the data of interest:\n",
      "        t =    -200.00 ...     600.00 ms\n",
      "        0 CTF compensation matrices available\n",
      "Not setting metadata\n",
      "Not setting metadata\n",
      "246 matching events found\n",
      "No baseline correction applied\n",
      "0 projection items activated\n",
      "Autodetected number of jobs 24\n",
      "Effective window size : 16.384 (s)\n"
     ]
    },
    {
     "name": "stderr",
     "output_type": "stream",
     "text": [
      "[Parallel(n_jobs=2)]: Done   5 out of   5 | elapsed:    1.6s finished\n",
      "[Parallel(n_jobs=24)]: Using backend LokyBackend with 24 concurrent workers.\n",
      "[Parallel(n_jobs=24)]: Done   6 out of  24 | elapsed:    3.5s remaining:   10.6s\n",
      "[Parallel(n_jobs=24)]: Done  11 out of  24 | elapsed:    3.7s remaining:    4.3s\n",
      "[Parallel(n_jobs=24)]: Done  16 out of  24 | elapsed:    3.7s remaining:    1.9s\n"
     ]
    },
    {
     "name": "stdout",
     "output_type": "stream",
     "text": [
      "Reduction order for nice/marker/PowerSpectralDensity/alpha: ['frequency', 'channels']\n",
      "Reduction order for nice/marker/PowerSpectralDensity/alpha: ['frequency', 'channels']\n",
      "Reduction order for nice/marker/PowerSpectralDensity/delta: ['frequency', 'channels']\n",
      "Reduction order for nice/marker/PowerSpectralDensity/delta: ['frequency', 'channels']\n",
      "Reduction order for nice/marker/PowerSpectralDensity/theta: ['frequency', 'channels']\n",
      "Reduction order for nice/marker/PowerSpectralDensity/theta: ['frequency', 'channels']\n",
      "Reduction order for nice/marker/PowerSpectralDensity/gamma: ['frequency', 'channels']\n",
      "Reduction order for nice/marker/PowerSpectralDensity/theta: ['frequency', 'channels']\n",
      "Reduction order for nice/marker/PowerSpectralDensity/beta: ['frequency', 'channels']\n",
      "Reduction order for nice/marker/PowerSpectralDensity/beta: ['frequency', 'channels']\n",
      "Running KolmogorovComplexity\n",
      "Elapsed time 0.04011058807373047 sec\n",
      "Reduction order for nice/marker/KolmogorovComplexity/default: ['channels']\n",
      "Filtering  at 10.42 Hz\n",
      "Performing symbolic transformation\n"
     ]
    },
    {
     "name": "stderr",
     "output_type": "stream",
     "text": [
      "[Parallel(n_jobs=24)]: Done  21 out of  24 | elapsed:    3.8s remaining:    0.5s\n",
      "[Parallel(n_jobs=24)]: Done  24 out of  24 | elapsed:    3.9s finished\n",
      "/home/nicolas.bruno/anaconda3/lib/python3.7/site-packages/nice-0.1.dev0-py3.7.egg/nice/markers/spectral.py:128: RuntimeWarning: invalid value encountered in true_divide\n",
      "  self.data_norm_ = self.data_ / self.data_.sum(axis=-1)[..., None]\n",
      "/home/nicolas.bruno/anaconda3/lib/python3.7/site-packages/nice-0.1.dev0-py3.7.egg/nice/markers/spectral.py:220: RuntimeWarning: divide by zero encountered in log10\n",
      "  out = 10 * np.log10(out)\n"
     ]
    },
    {
     "name": "stdout",
     "output_type": "stream",
     "text": [
      "Reduction order for nice/marker/PermutationEntropy/default: ['channels']\n",
      "Autodetected number of jobs 2\n",
      "Computing CSD\n",
      "Using 10-5 locations for CSD\n",
      "Using 2 jobs\n"
     ]
    },
    {
     "name": "stderr",
     "output_type": "stream",
     "text": [
      "/home/nicolas.bruno/anaconda3/lib/python3.7/site-packages/nice-0.1.dev0-py3.7.egg/nice/algorithms/information_theory/permutation_entropy.py:75: RuntimeWarning: divide by zero encountered in log\n",
      "  pe = np.nan_to_num(-np.nansum(count * np.log(count), axis=1))\n",
      "/home/nicolas.bruno/anaconda3/lib/python3.7/site-packages/nice-0.1.dev0-py3.7.egg/nice/algorithms/information_theory/permutation_entropy.py:75: RuntimeWarning: invalid value encountered in multiply\n",
      "  pe = np.nan_to_num(-np.nansum(count * np.log(count), axis=1))\n",
      "[Parallel(n_jobs=2)]: Using backend LokyBackend with 2 concurrent workers.\n"
     ]
    },
    {
     "name": "stdout",
     "output_type": "stream",
     "text": [
      "Filtering  at 10.42 Hz\n",
      "Reduction order for nice/marker/SymbolicMutualInformation/default: ['channels_y', 'channels']\n",
      "Autodetected number of jobs 24\n",
      "Effective window size : 16.384 (s)\n"
     ]
    },
    {
     "name": "stderr",
     "output_type": "stream",
     "text": [
      "[Parallel(n_jobs=2)]: Done  18 tasks      | elapsed:    1.7s\n",
      "[Parallel(n_jobs=2)]: Done  30 out of  30 | elapsed:    1.7s finished\n",
      "[Parallel(n_jobs=24)]: Using backend LokyBackend with 24 concurrent workers.\n",
      "[Parallel(n_jobs=24)]: Done   6 out of  24 | elapsed:    3.8s remaining:   11.3s\n",
      "[Parallel(n_jobs=24)]: Done  11 out of  24 | elapsed:    3.8s remaining:    4.5s\n",
      "[Parallel(n_jobs=24)]: Done  16 out of  24 | elapsed:    3.9s remaining:    1.9s\n",
      "[Parallel(n_jobs=24)]: Done  21 out of  24 | elapsed:    4.0s remaining:    0.6s\n"
     ]
    },
    {
     "name": "stdout",
     "output_type": "stream",
     "text": [
      "Reduction order for nice/marker/PowerSpectralDensity/alpha: ['frequency', 'channels']\n",
      "Reduction order for nice/marker/PowerSpectralDensity/alpha: ['frequency', 'channels']\n",
      "Reduction order for nice/marker/PowerSpectralDensity/delta: ['frequency', 'channels']\n",
      "Reduction order for nice/marker/PowerSpectralDensity/delta: ['frequency', 'channels']\n",
      "Reduction order for nice/marker/PowerSpectralDensity/theta: ['frequency', 'channels']\n",
      "Reduction order for nice/marker/PowerSpectralDensity/theta: ['frequency', 'channels']\n",
      "Reduction order for nice/marker/PowerSpectralDensity/gamma: ['frequency', 'channels']\n",
      "Reduction order for nice/marker/PowerSpectralDensity/theta: ['frequency', 'channels']\n",
      "Reduction order for nice/marker/PowerSpectralDensity/beta: ['frequency', 'channels']\n",
      "Reduction order for nice/marker/PowerSpectralDensity/beta: ['frequency', 'channels']\n",
      "Running KolmogorovComplexity\n",
      "Elapsed time 0.06121993064880371 sec\n",
      "Reduction order for nice/marker/KolmogorovComplexity/default: ['channels']\n",
      "Filtering  at 10.42 Hz\n",
      "Performing symbolic transformation\n"
     ]
    },
    {
     "name": "stderr",
     "output_type": "stream",
     "text": [
      "[Parallel(n_jobs=24)]: Done  24 out of  24 | elapsed:    4.1s finished\n"
     ]
    },
    {
     "name": "stdout",
     "output_type": "stream",
     "text": [
      "Reduction order for nice/marker/PermutationEntropy/default: ['channels']\n",
      "Autodetected number of jobs 2\n",
      "Computing CSD\n",
      "Using 10-5 locations for CSD\n",
      "Using 2 jobs\n"
     ]
    },
    {
     "name": "stderr",
     "output_type": "stream",
     "text": [
      "[Parallel(n_jobs=2)]: Using backend LokyBackend with 2 concurrent workers.\n"
     ]
    },
    {
     "name": "stdout",
     "output_type": "stream",
     "text": [
      "Filtering  at 10.42 Hz\n"
     ]
    },
    {
     "name": "stderr",
     "output_type": "stream",
     "text": [
      "[Parallel(n_jobs=2)]: Done  18 tasks      | elapsed:    1.7s\n",
      "[Parallel(n_jobs=2)]: Done  47 out of  47 | elapsed:    1.7s finished\n"
     ]
    },
    {
     "name": "stdout",
     "output_type": "stream",
     "text": [
      "Reduction order for nice/marker/SymbolicMutualInformation/default: ['channels_y', 'channels']\n",
      "Autodetected number of jobs 24\n",
      "Effective window size : 16.384 (s)\n"
     ]
    },
    {
     "name": "stderr",
     "output_type": "stream",
     "text": [
      "[Parallel(n_jobs=24)]: Using backend LokyBackend with 24 concurrent workers.\n",
      "[Parallel(n_jobs=24)]: Done   6 out of  24 | elapsed:    3.4s remaining:   10.3s\n",
      "[Parallel(n_jobs=24)]: Done  11 out of  24 | elapsed:    3.5s remaining:    4.1s\n",
      "[Parallel(n_jobs=24)]: Done  16 out of  24 | elapsed:    3.6s remaining:    1.8s\n",
      "[Parallel(n_jobs=24)]: Done  21 out of  24 | elapsed:    3.6s remaining:    0.5s\n"
     ]
    },
    {
     "name": "stdout",
     "output_type": "stream",
     "text": [
      "Reduction order for nice/marker/PowerSpectralDensity/alpha: ['frequency', 'channels']\n",
      "Reduction order for nice/marker/PowerSpectralDensity/alpha: ['frequency', 'channels']\n",
      "Reduction order for nice/marker/PowerSpectralDensity/delta: ['frequency', 'channels']\n",
      "Reduction order for nice/marker/PowerSpectralDensity/delta: ['frequency', 'channels']\n",
      "Reduction order for nice/marker/PowerSpectralDensity/theta: ['frequency', 'channels']\n",
      "Reduction order for nice/marker/PowerSpectralDensity/theta: ['frequency', 'channels']\n",
      "Reduction order for nice/marker/PowerSpectralDensity/gamma: ['frequency', 'channels']\n",
      "Reduction order for nice/marker/PowerSpectralDensity/theta: ['frequency', 'channels']\n",
      "Reduction order for nice/marker/PowerSpectralDensity/beta: ['frequency', 'channels']\n",
      "Reduction order for nice/marker/PowerSpectralDensity/beta: ['frequency', 'channels']\n",
      "Running KolmogorovComplexity\n",
      "Elapsed time 0.018036365509033203 sec\n",
      "Reduction order for nice/marker/KolmogorovComplexity/default: ['channels']\n",
      "Filtering  at 10.42 Hz\n",
      "Performing symbolic transformation\n"
     ]
    },
    {
     "name": "stderr",
     "output_type": "stream",
     "text": [
      "[Parallel(n_jobs=24)]: Done  24 out of  24 | elapsed:    3.7s finished\n"
     ]
    },
    {
     "name": "stdout",
     "output_type": "stream",
     "text": [
      "Reduction order for nice/marker/PermutationEntropy/default: ['channels']\n",
      "Autodetected number of jobs 2\n",
      "Computing CSD\n",
      "Using 10-5 locations for CSD\n",
      "Using 2 jobs\n"
     ]
    },
    {
     "name": "stderr",
     "output_type": "stream",
     "text": [
      "[Parallel(n_jobs=2)]: Using backend LokyBackend with 2 concurrent workers.\n"
     ]
    },
    {
     "name": "stdout",
     "output_type": "stream",
     "text": [
      "Filtering  at 10.42 Hz\n",
      "Reduction order for nice/marker/SymbolicMutualInformation/default: ['channels_y', 'channels']\n",
      "Autodetected number of jobs 24\n",
      "Effective window size : 16.384 (s)\n"
     ]
    },
    {
     "name": "stderr",
     "output_type": "stream",
     "text": [
      "[Parallel(n_jobs=2)]: Done  14 out of  14 | elapsed:    1.6s finished\n",
      "[Parallel(n_jobs=24)]: Using backend LokyBackend with 24 concurrent workers.\n",
      "[Parallel(n_jobs=24)]: Done   6 out of  24 | elapsed:    3.3s remaining:   10.0s\n",
      "[Parallel(n_jobs=24)]: Done  11 out of  24 | elapsed:    3.4s remaining:    4.0s\n",
      "[Parallel(n_jobs=24)]: Done  16 out of  24 | elapsed:    3.5s remaining:    1.7s\n"
     ]
    },
    {
     "name": "stdout",
     "output_type": "stream",
     "text": [
      "Reduction order for nice/marker/PowerSpectralDensity/alpha: ['frequency', 'channels']\n",
      "Reduction order for nice/marker/PowerSpectralDensity/alpha: ['frequency', 'channels']\n",
      "Reduction order for nice/marker/PowerSpectralDensity/delta: ['frequency', 'channels']\n",
      "Reduction order for nice/marker/PowerSpectralDensity/delta: ['frequency', 'channels']\n",
      "Reduction order for nice/marker/PowerSpectralDensity/theta: ['frequency', 'channels']\n",
      "Reduction order for nice/marker/PowerSpectralDensity/theta: ['frequency', 'channels']\n",
      "Reduction order for nice/marker/PowerSpectralDensity/gamma: ['frequency', 'channels']\n",
      "Reduction order for nice/marker/PowerSpectralDensity/theta: ['frequency', 'channels']\n",
      "Reduction order for nice/marker/PowerSpectralDensity/beta: ['frequency', 'channels']\n",
      "Reduction order for nice/marker/PowerSpectralDensity/beta: ['frequency', 'channels']\n",
      "Running KolmogorovComplexity\n",
      "Elapsed time 0.01399540901184082 sec\n",
      "Reduction order for nice/marker/KolmogorovComplexity/default: ['channels']\n",
      "Filtering  at 10.42 Hz\n",
      "Performing symbolic transformation\n"
     ]
    },
    {
     "name": "stderr",
     "output_type": "stream",
     "text": [
      "[Parallel(n_jobs=24)]: Done  21 out of  24 | elapsed:    3.6s remaining:    0.5s\n",
      "[Parallel(n_jobs=24)]: Done  24 out of  24 | elapsed:    3.6s finished\n"
     ]
    },
    {
     "name": "stdout",
     "output_type": "stream",
     "text": [
      "Reduction order for nice/marker/PermutationEntropy/default: ['channels']\n",
      "Autodetected number of jobs 2\n",
      "Computing CSD\n",
      "Using 10-5 locations for CSD\n",
      "Using 2 jobs\n"
     ]
    },
    {
     "name": "stderr",
     "output_type": "stream",
     "text": [
      "[Parallel(n_jobs=2)]: Using backend LokyBackend with 2 concurrent workers.\n"
     ]
    },
    {
     "name": "stdout",
     "output_type": "stream",
     "text": [
      "Filtering  at 10.42 Hz\n",
      "Reduction order for nice/marker/SymbolicMutualInformation/default: ['channels_y', 'channels']\n",
      "Reading /media/nicolas.bruno/63f8a366-34b7-4896-a7ce-b5fb4ee78535/Nico/MW_eeg_data/minmarker/VP19/VP19_evoked_ar_clean_epo.fif ...\n",
      "    Found the data of interest:\n",
      "        t =    -200.00 ...     600.00 ms\n",
      "        0 CTF compensation matrices available\n",
      "Not setting metadata\n",
      "Not setting metadata\n",
      "289 matching events found\n",
      "No baseline correction applied\n",
      "0 projection items activated\n",
      "Autodetected number of jobs 24\n",
      "Effective window size : 16.384 (s)\n"
     ]
    },
    {
     "name": "stderr",
     "output_type": "stream",
     "text": [
      "[Parallel(n_jobs=2)]: Done  11 out of  11 | elapsed:    1.6s finished\n",
      "[Parallel(n_jobs=24)]: Using backend LokyBackend with 24 concurrent workers.\n",
      "[Parallel(n_jobs=24)]: Done   6 out of  24 | elapsed:    3.6s remaining:   10.7s\n",
      "[Parallel(n_jobs=24)]: Done  11 out of  24 | elapsed:    3.6s remaining:    4.3s\n",
      "[Parallel(n_jobs=24)]: Done  16 out of  24 | elapsed:    3.7s remaining:    1.9s\n"
     ]
    },
    {
     "name": "stdout",
     "output_type": "stream",
     "text": [
      "Reduction order for nice/marker/PowerSpectralDensity/alpha: ['frequency', 'channels']\n",
      "Reduction order for nice/marker/PowerSpectralDensity/alpha: ['frequency', 'channels']\n",
      "Reduction order for nice/marker/PowerSpectralDensity/delta: ['frequency', 'channels']\n",
      "Reduction order for nice/marker/PowerSpectralDensity/delta: ['frequency', 'channels']\n",
      "Reduction order for nice/marker/PowerSpectralDensity/theta: ['frequency', 'channels']\n",
      "Reduction order for nice/marker/PowerSpectralDensity/theta: ['frequency', 'channels']\n",
      "Reduction order for nice/marker/PowerSpectralDensity/gamma: ['frequency', 'channels']\n",
      "Reduction order for nice/marker/PowerSpectralDensity/theta: ['frequency', 'channels']\n",
      "Reduction order for nice/marker/PowerSpectralDensity/beta: ['frequency', 'channels']\n",
      "Reduction order for nice/marker/PowerSpectralDensity/beta: ['frequency', 'channels']\n",
      "Running KolmogorovComplexity\n",
      "Elapsed time 0.11040616035461426 sec\n"
     ]
    },
    {
     "name": "stderr",
     "output_type": "stream",
     "text": [
      "[Parallel(n_jobs=24)]: Done  21 out of  24 | elapsed:    3.8s remaining:    0.5s\n",
      "[Parallel(n_jobs=24)]: Done  24 out of  24 | elapsed:    3.8s finished\n",
      "/home/nicolas.bruno/anaconda3/lib/python3.7/site-packages/nice-0.1.dev0-py3.7.egg/nice/markers/spectral.py:128: RuntimeWarning: invalid value encountered in true_divide\n",
      "  self.data_norm_ = self.data_ / self.data_.sum(axis=-1)[..., None]\n",
      "/home/nicolas.bruno/anaconda3/lib/python3.7/site-packages/nice-0.1.dev0-py3.7.egg/nice/markers/spectral.py:220: RuntimeWarning: divide by zero encountered in log10\n",
      "  out = 10 * np.log10(out)\n"
     ]
    },
    {
     "name": "stdout",
     "output_type": "stream",
     "text": [
      "Reduction order for nice/marker/KolmogorovComplexity/default: ['channels']\n",
      "Filtering  at 10.42 Hz\n",
      "Performing symbolic transformation\n",
      "Reduction order for nice/marker/PermutationEntropy/default: ['channels']\n",
      "Autodetected number of jobs 2\n",
      "Computing CSD\n",
      "Using 10-5 locations for CSD\n",
      "Using 2 jobs\n"
     ]
    },
    {
     "name": "stderr",
     "output_type": "stream",
     "text": [
      "/home/nicolas.bruno/anaconda3/lib/python3.7/site-packages/nice-0.1.dev0-py3.7.egg/nice/algorithms/information_theory/permutation_entropy.py:75: RuntimeWarning: divide by zero encountered in log\n",
      "  pe = np.nan_to_num(-np.nansum(count * np.log(count), axis=1))\n",
      "/home/nicolas.bruno/anaconda3/lib/python3.7/site-packages/nice-0.1.dev0-py3.7.egg/nice/algorithms/information_theory/permutation_entropy.py:75: RuntimeWarning: invalid value encountered in multiply\n",
      "  pe = np.nan_to_num(-np.nansum(count * np.log(count), axis=1))\n",
      "[Parallel(n_jobs=2)]: Using backend LokyBackend with 2 concurrent workers.\n"
     ]
    },
    {
     "name": "stdout",
     "output_type": "stream",
     "text": [
      "Filtering  at 10.42 Hz\n"
     ]
    },
    {
     "name": "stderr",
     "output_type": "stream",
     "text": [
      "[Parallel(n_jobs=2)]: Done  18 tasks      | elapsed:    1.7s\n",
      "[Parallel(n_jobs=2)]: Done  84 out of  84 | elapsed:    1.8s finished\n"
     ]
    },
    {
     "name": "stdout",
     "output_type": "stream",
     "text": [
      "Reduction order for nice/marker/SymbolicMutualInformation/default: ['channels_y', 'channels']\n",
      "Autodetected number of jobs 24\n",
      "Effective window size : 16.384 (s)\n"
     ]
    },
    {
     "name": "stderr",
     "output_type": "stream",
     "text": [
      "[Parallel(n_jobs=24)]: Using backend LokyBackend with 24 concurrent workers.\n",
      "[Parallel(n_jobs=24)]: Done   6 out of  24 | elapsed:    3.4s remaining:   10.3s\n",
      "[Parallel(n_jobs=24)]: Done  11 out of  24 | elapsed:    3.5s remaining:    4.1s\n",
      "[Parallel(n_jobs=24)]: Done  16 out of  24 | elapsed:    3.5s remaining:    1.8s\n",
      "[Parallel(n_jobs=24)]: Done  21 out of  24 | elapsed:    3.6s remaining:    0.5s\n"
     ]
    },
    {
     "name": "stdout",
     "output_type": "stream",
     "text": [
      "Reduction order for nice/marker/PowerSpectralDensity/alpha: ['frequency', 'channels']\n",
      "Reduction order for nice/marker/PowerSpectralDensity/alpha: ['frequency', 'channels']\n",
      "Reduction order for nice/marker/PowerSpectralDensity/delta: ['frequency', 'channels']\n",
      "Reduction order for nice/marker/PowerSpectralDensity/delta: ['frequency', 'channels']\n",
      "Reduction order for nice/marker/PowerSpectralDensity/theta: ['frequency', 'channels']\n",
      "Reduction order for nice/marker/PowerSpectralDensity/theta: ['frequency', 'channels']\n",
      "Reduction order for nice/marker/PowerSpectralDensity/gamma: ['frequency', 'channels']\n",
      "Reduction order for nice/marker/PowerSpectralDensity/theta: ['frequency', 'channels']\n",
      "Reduction order for nice/marker/PowerSpectralDensity/beta: ['frequency', 'channels']\n",
      "Reduction order for nice/marker/PowerSpectralDensity/beta: ['frequency', 'channels']\n",
      "Running KolmogorovComplexity\n",
      "Elapsed time 0.04990983009338379 sec\n",
      "Reduction order for nice/marker/KolmogorovComplexity/default: ['channels']\n",
      "Filtering  at 10.42 Hz\n",
      "Performing symbolic transformation\n"
     ]
    },
    {
     "name": "stderr",
     "output_type": "stream",
     "text": [
      "[Parallel(n_jobs=24)]: Done  24 out of  24 | elapsed:    3.7s finished\n"
     ]
    },
    {
     "name": "stdout",
     "output_type": "stream",
     "text": [
      "Reduction order for nice/marker/PermutationEntropy/default: ['channels']\n",
      "Autodetected number of jobs 2\n",
      "Computing CSD\n",
      "Using 10-5 locations for CSD\n",
      "Using 2 jobs\n"
     ]
    },
    {
     "name": "stderr",
     "output_type": "stream",
     "text": [
      "[Parallel(n_jobs=2)]: Using backend LokyBackend with 2 concurrent workers.\n"
     ]
    },
    {
     "name": "stdout",
     "output_type": "stream",
     "text": [
      "Filtering  at 10.42 Hz\n"
     ]
    },
    {
     "name": "stderr",
     "output_type": "stream",
     "text": [
      "[Parallel(n_jobs=2)]: Done  18 tasks      | elapsed:    1.7s\n",
      "[Parallel(n_jobs=2)]: Done  36 out of  36 | elapsed:    1.7s finished\n"
     ]
    },
    {
     "name": "stdout",
     "output_type": "stream",
     "text": [
      "Reduction order for nice/marker/SymbolicMutualInformation/default: ['channels_y', 'channels']\n",
      "Autodetected number of jobs 24\n",
      "Effective window size : 16.384 (s)\n"
     ]
    },
    {
     "name": "stderr",
     "output_type": "stream",
     "text": [
      "[Parallel(n_jobs=24)]: Using backend LokyBackend with 24 concurrent workers.\n",
      "[Parallel(n_jobs=24)]: Done   6 out of  24 | elapsed:    3.4s remaining:   10.2s\n",
      "[Parallel(n_jobs=24)]: Done  11 out of  24 | elapsed:    3.5s remaining:    4.1s\n",
      "[Parallel(n_jobs=24)]: Done  16 out of  24 | elapsed:    3.5s remaining:    1.7s\n",
      "[Parallel(n_jobs=24)]: Done  21 out of  24 | elapsed:    3.6s remaining:    0.5s\n"
     ]
    },
    {
     "name": "stdout",
     "output_type": "stream",
     "text": [
      "Reduction order for nice/marker/PowerSpectralDensity/alpha: ['frequency', 'channels']\n",
      "Reduction order for nice/marker/PowerSpectralDensity/alpha: ['frequency', 'channels']\n",
      "Reduction order for nice/marker/PowerSpectralDensity/delta: ['frequency', 'channels']\n",
      "Reduction order for nice/marker/PowerSpectralDensity/delta: ['frequency', 'channels']\n",
      "Reduction order for nice/marker/PowerSpectralDensity/theta: ['frequency', 'channels']\n",
      "Reduction order for nice/marker/PowerSpectralDensity/theta: ['frequency', 'channels']\n",
      "Reduction order for nice/marker/PowerSpectralDensity/gamma: ['frequency', 'channels']\n",
      "Reduction order for nice/marker/PowerSpectralDensity/theta: ['frequency', 'channels']\n",
      "Reduction order for nice/marker/PowerSpectralDensity/beta: ['frequency', 'channels']\n",
      "Reduction order for nice/marker/PowerSpectralDensity/beta: ['frequency', 'channels']\n",
      "Running KolmogorovComplexity\n",
      "Elapsed time 0.024991512298583984 sec\n",
      "Reduction order for nice/marker/KolmogorovComplexity/default: ['channels']\n",
      "Filtering  at 10.42 Hz\n",
      "Performing symbolic transformation\n"
     ]
    },
    {
     "name": "stderr",
     "output_type": "stream",
     "text": [
      "[Parallel(n_jobs=24)]: Done  24 out of  24 | elapsed:    3.7s finished\n"
     ]
    },
    {
     "name": "stdout",
     "output_type": "stream",
     "text": [
      "Reduction order for nice/marker/PermutationEntropy/default: ['channels']\n",
      "Autodetected number of jobs 2\n",
      "Computing CSD\n",
      "Using 10-5 locations for CSD\n",
      "Using 2 jobs\n"
     ]
    },
    {
     "name": "stderr",
     "output_type": "stream",
     "text": [
      "[Parallel(n_jobs=2)]: Using backend LokyBackend with 2 concurrent workers.\n"
     ]
    },
    {
     "name": "stdout",
     "output_type": "stream",
     "text": [
      "Filtering  at 10.42 Hz\n",
      "Reduction order for nice/marker/SymbolicMutualInformation/default: ['channels_y', 'channels']\n",
      "Autodetected number of jobs 24\n",
      "Effective window size : 16.384 (s)\n"
     ]
    },
    {
     "name": "stderr",
     "output_type": "stream",
     "text": [
      "[Parallel(n_jobs=2)]: Done  18 tasks      | elapsed:    1.7s\n",
      "[Parallel(n_jobs=2)]: Done  19 out of  19 | elapsed:    1.7s finished\n",
      "[Parallel(n_jobs=24)]: Using backend LokyBackend with 24 concurrent workers.\n",
      "[Parallel(n_jobs=24)]: Done   6 out of  24 | elapsed:    3.5s remaining:   10.4s\n",
      "[Parallel(n_jobs=24)]: Done  11 out of  24 | elapsed:    3.5s remaining:    4.1s\n",
      "[Parallel(n_jobs=24)]: Done  16 out of  24 | elapsed:    3.5s remaining:    1.8s\n",
      "[Parallel(n_jobs=24)]: Done  21 out of  24 | elapsed:    3.6s remaining:    0.5s\n"
     ]
    },
    {
     "name": "stdout",
     "output_type": "stream",
     "text": [
      "Reduction order for nice/marker/PowerSpectralDensity/alpha: ['frequency', 'channels']\n",
      "Reduction order for nice/marker/PowerSpectralDensity/alpha: ['frequency', 'channels']\n",
      "Reduction order for nice/marker/PowerSpectralDensity/delta: ['frequency', 'channels']\n",
      "Reduction order for nice/marker/PowerSpectralDensity/delta: ['frequency', 'channels']\n",
      "Reduction order for nice/marker/PowerSpectralDensity/theta: ['frequency', 'channels']\n",
      "Reduction order for nice/marker/PowerSpectralDensity/theta: ['frequency', 'channels']\n",
      "Reduction order for nice/marker/PowerSpectralDensity/gamma: ['frequency', 'channels']\n",
      "Reduction order for nice/marker/PowerSpectralDensity/theta: ['frequency', 'channels']\n",
      "Reduction order for nice/marker/PowerSpectralDensity/beta: ['frequency', 'channels']\n",
      "Reduction order for nice/marker/PowerSpectralDensity/beta: ['frequency', 'channels']\n",
      "Running KolmogorovComplexity\n",
      "Elapsed time 0.0184175968170166 sec\n",
      "Reduction order for nice/marker/KolmogorovComplexity/default: ['channels']\n",
      "Filtering  at 10.42 Hz\n",
      "Performing symbolic transformation\n"
     ]
    },
    {
     "name": "stderr",
     "output_type": "stream",
     "text": [
      "[Parallel(n_jobs=24)]: Done  24 out of  24 | elapsed:    3.7s finished\n"
     ]
    },
    {
     "name": "stdout",
     "output_type": "stream",
     "text": [
      "Reduction order for nice/marker/PermutationEntropy/default: ['channels']\n",
      "Autodetected number of jobs 2\n",
      "Computing CSD\n",
      "Using 10-5 locations for CSD\n",
      "Using 2 jobs\n"
     ]
    },
    {
     "name": "stderr",
     "output_type": "stream",
     "text": [
      "[Parallel(n_jobs=2)]: Using backend LokyBackend with 2 concurrent workers.\n"
     ]
    },
    {
     "name": "stdout",
     "output_type": "stream",
     "text": [
      "Filtering  at 10.42 Hz\n",
      "Reduction order for nice/marker/SymbolicMutualInformation/default: ['channels_y', 'channels']\n",
      "Reading /media/nicolas.bruno/63f8a366-34b7-4896-a7ce-b5fb4ee78535/Nico/MW_eeg_data/minmarker/VP20/VP20_evoked_ar_clean_epo.fif ...\n",
      "    Found the data of interest:\n",
      "        t =    -200.00 ...     600.00 ms\n",
      "        0 CTF compensation matrices available\n",
      "Not setting metadata\n",
      "Not setting metadata\n",
      "261 matching events found\n",
      "No baseline correction applied\n",
      "0 projection items activated\n",
      "Autodetected number of jobs 24\n",
      "Effective window size : 16.384 (s)\n"
     ]
    },
    {
     "name": "stderr",
     "output_type": "stream",
     "text": [
      "[Parallel(n_jobs=2)]: Done  14 out of  14 | elapsed:    1.6s finished\n",
      "[Parallel(n_jobs=24)]: Using backend LokyBackend with 24 concurrent workers.\n",
      "[Parallel(n_jobs=24)]: Done   6 out of  24 | elapsed:    3.5s remaining:   10.5s\n",
      "[Parallel(n_jobs=24)]: Done  11 out of  24 | elapsed:    3.5s remaining:    4.2s\n",
      "[Parallel(n_jobs=24)]: Done  16 out of  24 | elapsed:    3.6s remaining:    1.8s\n",
      "[Parallel(n_jobs=24)]: Done  21 out of  24 | elapsed:    3.7s remaining:    0.5s\n"
     ]
    },
    {
     "name": "stdout",
     "output_type": "stream",
     "text": [
      "Reduction order for nice/marker/PowerSpectralDensity/alpha: ['frequency', 'channels']\n",
      "Reduction order for nice/marker/PowerSpectralDensity/alpha: ['frequency', 'channels']\n",
      "Reduction order for nice/marker/PowerSpectralDensity/delta: ['frequency', 'channels']\n",
      "Reduction order for nice/marker/PowerSpectralDensity/delta: ['frequency', 'channels']\n",
      "Reduction order for nice/marker/PowerSpectralDensity/theta: ['frequency', 'channels']\n",
      "Reduction order for nice/marker/PowerSpectralDensity/theta: ['frequency', 'channels']\n",
      "Reduction order for nice/marker/PowerSpectralDensity/gamma: ['frequency', 'channels']\n",
      "Reduction order for nice/marker/PowerSpectralDensity/theta: ['frequency', 'channels']\n",
      "Reduction order for nice/marker/PowerSpectralDensity/beta: ['frequency', 'channels']\n",
      "Reduction order for nice/marker/PowerSpectralDensity/beta: ['frequency', 'channels']\n",
      "Running KolmogorovComplexity\n",
      "Elapsed time 0.029421567916870117 sec\n",
      "Reduction order for nice/marker/KolmogorovComplexity/default: ['channels']\n",
      "Filtering  at 10.42 Hz\n",
      "Performing symbolic transformation\n"
     ]
    },
    {
     "name": "stderr",
     "output_type": "stream",
     "text": [
      "[Parallel(n_jobs=24)]: Done  24 out of  24 | elapsed:    3.8s finished\n",
      "/home/nicolas.bruno/anaconda3/lib/python3.7/site-packages/nice-0.1.dev0-py3.7.egg/nice/markers/spectral.py:128: RuntimeWarning: invalid value encountered in true_divide\n",
      "  self.data_norm_ = self.data_ / self.data_.sum(axis=-1)[..., None]\n",
      "/home/nicolas.bruno/anaconda3/lib/python3.7/site-packages/nice-0.1.dev0-py3.7.egg/nice/markers/spectral.py:220: RuntimeWarning: divide by zero encountered in log10\n",
      "  out = 10 * np.log10(out)\n"
     ]
    },
    {
     "name": "stdout",
     "output_type": "stream",
     "text": [
      "Reduction order for nice/marker/PermutationEntropy/default: ['channels']\n",
      "Autodetected number of jobs 2\n",
      "Computing CSD\n",
      "Using 10-5 locations for CSD\n",
      "Using 2 jobs\n"
     ]
    },
    {
     "name": "stderr",
     "output_type": "stream",
     "text": [
      "/home/nicolas.bruno/anaconda3/lib/python3.7/site-packages/nice-0.1.dev0-py3.7.egg/nice/algorithms/information_theory/permutation_entropy.py:75: RuntimeWarning: divide by zero encountered in log\n",
      "  pe = np.nan_to_num(-np.nansum(count * np.log(count), axis=1))\n",
      "/home/nicolas.bruno/anaconda3/lib/python3.7/site-packages/nice-0.1.dev0-py3.7.egg/nice/algorithms/information_theory/permutation_entropy.py:75: RuntimeWarning: invalid value encountered in multiply\n",
      "  pe = np.nan_to_num(-np.nansum(count * np.log(count), axis=1))\n",
      "[Parallel(n_jobs=2)]: Using backend LokyBackend with 2 concurrent workers.\n"
     ]
    },
    {
     "name": "stdout",
     "output_type": "stream",
     "text": [
      "Filtering  at 10.42 Hz\n",
      "Reduction order for nice/marker/SymbolicMutualInformation/default: ['channels_y', 'channels']\n",
      "Autodetected number of jobs 24\n",
      "Effective window size : 16.384 (s)\n"
     ]
    },
    {
     "name": "stderr",
     "output_type": "stream",
     "text": [
      "[Parallel(n_jobs=2)]: Done  18 tasks      | elapsed:    1.7s\n",
      "[Parallel(n_jobs=2)]: Done  26 out of  26 | elapsed:    1.7s finished\n",
      "[Parallel(n_jobs=24)]: Using backend LokyBackend with 24 concurrent workers.\n",
      "[Parallel(n_jobs=24)]: Done   6 out of  24 | elapsed:    3.4s remaining:   10.3s\n",
      "[Parallel(n_jobs=24)]: Done  11 out of  24 | elapsed:    3.5s remaining:    4.1s\n",
      "[Parallel(n_jobs=24)]: Done  16 out of  24 | elapsed:    3.6s remaining:    1.8s\n"
     ]
    },
    {
     "name": "stdout",
     "output_type": "stream",
     "text": [
      "Reduction order for nice/marker/PowerSpectralDensity/alpha: ['frequency', 'channels']\n",
      "Reduction order for nice/marker/PowerSpectralDensity/alpha: ['frequency', 'channels']\n",
      "Reduction order for nice/marker/PowerSpectralDensity/delta: ['frequency', 'channels']\n",
      "Reduction order for nice/marker/PowerSpectralDensity/delta: ['frequency', 'channels']\n",
      "Reduction order for nice/marker/PowerSpectralDensity/theta: ['frequency', 'channels']\n",
      "Reduction order for nice/marker/PowerSpectralDensity/theta: ['frequency', 'channels']\n",
      "Reduction order for nice/marker/PowerSpectralDensity/gamma: ['frequency', 'channels']\n",
      "Reduction order for nice/marker/PowerSpectralDensity/theta: ['frequency', 'channels']\n",
      "Reduction order for nice/marker/PowerSpectralDensity/beta: ['frequency', 'channels']\n",
      "Reduction order for nice/marker/PowerSpectralDensity/beta: ['frequency', 'channels']\n",
      "Running KolmogorovComplexity\n",
      "Elapsed time 0.016701936721801758 sec\n",
      "Reduction order for nice/marker/KolmogorovComplexity/default: ['channels']\n",
      "Filtering  at 10.42 Hz\n",
      "Performing symbolic transformation\n"
     ]
    },
    {
     "name": "stderr",
     "output_type": "stream",
     "text": [
      "[Parallel(n_jobs=24)]: Done  21 out of  24 | elapsed:    3.7s remaining:    0.5s\n",
      "[Parallel(n_jobs=24)]: Done  24 out of  24 | elapsed:    3.8s finished\n"
     ]
    },
    {
     "name": "stdout",
     "output_type": "stream",
     "text": [
      "Reduction order for nice/marker/PermutationEntropy/default: ['channels']\n",
      "Autodetected number of jobs 2\n",
      "Computing CSD\n",
      "Using 10-5 locations for CSD\n",
      "Using 2 jobs\n"
     ]
    },
    {
     "name": "stderr",
     "output_type": "stream",
     "text": [
      "[Parallel(n_jobs=2)]: Using backend LokyBackend with 2 concurrent workers.\n"
     ]
    },
    {
     "name": "stdout",
     "output_type": "stream",
     "text": [
      "Filtering  at 10.42 Hz\n",
      "Reduction order for nice/marker/SymbolicMutualInformation/default: ['channels_y', 'channels']\n",
      "Autodetected number of jobs 24\n",
      "Effective window size : 16.384 (s)\n"
     ]
    },
    {
     "name": "stderr",
     "output_type": "stream",
     "text": [
      "[Parallel(n_jobs=2)]: Done  14 out of  14 | elapsed:    1.7s finished\n",
      "[Parallel(n_jobs=24)]: Using backend LokyBackend with 24 concurrent workers.\n",
      "[Parallel(n_jobs=24)]: Done   6 out of  24 | elapsed:    3.4s remaining:   10.2s\n",
      "[Parallel(n_jobs=24)]: Done  11 out of  24 | elapsed:    3.4s remaining:    4.0s\n",
      "[Parallel(n_jobs=24)]: Done  16 out of  24 | elapsed:    3.5s remaining:    1.7s\n",
      "[Parallel(n_jobs=24)]: Done  21 out of  24 | elapsed:    3.6s remaining:    0.5s\n"
     ]
    },
    {
     "name": "stdout",
     "output_type": "stream",
     "text": [
      "Reduction order for nice/marker/PowerSpectralDensity/alpha: ['frequency', 'channels']\n",
      "Reduction order for nice/marker/PowerSpectralDensity/alpha: ['frequency', 'channels']\n",
      "Reduction order for nice/marker/PowerSpectralDensity/delta: ['frequency', 'channels']\n",
      "Reduction order for nice/marker/PowerSpectralDensity/delta: ['frequency', 'channels']\n",
      "Reduction order for nice/marker/PowerSpectralDensity/theta: ['frequency', 'channels']\n",
      "Reduction order for nice/marker/PowerSpectralDensity/theta: ['frequency', 'channels']\n",
      "Reduction order for nice/marker/PowerSpectralDensity/gamma: ['frequency', 'channels']\n",
      "Reduction order for nice/marker/PowerSpectralDensity/theta: ['frequency', 'channels']\n",
      "Reduction order for nice/marker/PowerSpectralDensity/beta: ['frequency', 'channels']\n",
      "Reduction order for nice/marker/PowerSpectralDensity/beta: ['frequency', 'channels']\n",
      "Running KolmogorovComplexity\n",
      "Elapsed time 0.004650592803955078 sec\n",
      "Reduction order for nice/marker/KolmogorovComplexity/default: ['channels']\n",
      "Filtering  at 10.42 Hz\n",
      "Performing symbolic transformation\n"
     ]
    },
    {
     "name": "stderr",
     "output_type": "stream",
     "text": [
      "[Parallel(n_jobs=24)]: Done  24 out of  24 | elapsed:    3.6s finished\n"
     ]
    },
    {
     "name": "stdout",
     "output_type": "stream",
     "text": [
      "Reduction order for nice/marker/PermutationEntropy/default: ['channels']\n",
      "Autodetected number of jobs 2\n",
      "Computing CSD\n",
      "Using 10-5 locations for CSD\n",
      "Using 2 jobs\n"
     ]
    },
    {
     "name": "stderr",
     "output_type": "stream",
     "text": [
      "[Parallel(n_jobs=2)]: Using backend LokyBackend with 2 concurrent workers.\n"
     ]
    },
    {
     "name": "stdout",
     "output_type": "stream",
     "text": [
      "Filtering  at 10.42 Hz\n",
      "Reduction order for nice/marker/SymbolicMutualInformation/default: ['channels_y', 'channels']\n",
      "Autodetected number of jobs 24\n",
      "Effective window size : 16.384 (s)\n"
     ]
    },
    {
     "name": "stderr",
     "output_type": "stream",
     "text": [
      "[Parallel(n_jobs=2)]: Done   4 out of   4 | elapsed:    1.6s remaining:    0.0s\n",
      "[Parallel(n_jobs=2)]: Done   4 out of   4 | elapsed:    1.6s finished\n",
      "[Parallel(n_jobs=24)]: Using backend LokyBackend with 24 concurrent workers.\n",
      "[Parallel(n_jobs=24)]: Done   6 out of  24 | elapsed:    3.4s remaining:   10.2s\n",
      "[Parallel(n_jobs=24)]: Done  11 out of  24 | elapsed:    3.4s remaining:    4.0s\n",
      "[Parallel(n_jobs=24)]: Done  16 out of  24 | elapsed:    3.5s remaining:    1.7s\n",
      "[Parallel(n_jobs=24)]: Done  21 out of  24 | elapsed:    3.6s remaining:    0.5s\n"
     ]
    },
    {
     "name": "stdout",
     "output_type": "stream",
     "text": [
      "Reduction order for nice/marker/PowerSpectralDensity/alpha: ['frequency', 'channels']\n",
      "Reduction order for nice/marker/PowerSpectralDensity/alpha: ['frequency', 'channels']\n",
      "Reduction order for nice/marker/PowerSpectralDensity/delta: ['frequency', 'channels']\n",
      "Reduction order for nice/marker/PowerSpectralDensity/delta: ['frequency', 'channels']\n",
      "Reduction order for nice/marker/PowerSpectralDensity/theta: ['frequency', 'channels']\n",
      "Reduction order for nice/marker/PowerSpectralDensity/theta: ['frequency', 'channels']\n",
      "Reduction order for nice/marker/PowerSpectralDensity/gamma: ['frequency', 'channels']\n",
      "Reduction order for nice/marker/PowerSpectralDensity/theta: ['frequency', 'channels']\n",
      "Reduction order for nice/marker/PowerSpectralDensity/beta: ['frequency', 'channels']\n",
      "Reduction order for nice/marker/PowerSpectralDensity/beta: ['frequency', 'channels']\n",
      "Running KolmogorovComplexity\n",
      "Elapsed time 0.00972890853881836 sec\n",
      "Reduction order for nice/marker/KolmogorovComplexity/default: ['channels']\n",
      "Filtering  at 10.42 Hz\n",
      "Performing symbolic transformation\n"
     ]
    },
    {
     "name": "stderr",
     "output_type": "stream",
     "text": [
      "[Parallel(n_jobs=24)]: Done  24 out of  24 | elapsed:    3.7s finished\n"
     ]
    },
    {
     "name": "stdout",
     "output_type": "stream",
     "text": [
      "Reduction order for nice/marker/PermutationEntropy/default: ['channels']\n",
      "Autodetected number of jobs 2\n",
      "Computing CSD\n",
      "Using 10-5 locations for CSD\n",
      "Using 2 jobs\n"
     ]
    },
    {
     "name": "stderr",
     "output_type": "stream",
     "text": [
      "[Parallel(n_jobs=2)]: Using backend LokyBackend with 2 concurrent workers.\n"
     ]
    },
    {
     "name": "stdout",
     "output_type": "stream",
     "text": [
      "Filtering  at 10.42 Hz\n",
      "Reduction order for nice/marker/SymbolicMutualInformation/default: ['channels_y', 'channels']\n",
      "Reading /media/nicolas.bruno/63f8a366-34b7-4896-a7ce-b5fb4ee78535/Nico/MW_eeg_data/minmarker/VP22/VP22_evoked_ar_clean_epo.fif ...\n",
      "    Found the data of interest:\n",
      "        t =    -200.00 ...     600.00 ms\n",
      "        0 CTF compensation matrices available\n",
      "Not setting metadata\n",
      "Not setting metadata\n",
      "114 matching events found\n",
      "No baseline correction applied\n",
      "0 projection items activated\n",
      "Autodetected number of jobs 24\n",
      "Effective window size : 16.384 (s)\n"
     ]
    },
    {
     "name": "stderr",
     "output_type": "stream",
     "text": [
      "[Parallel(n_jobs=2)]: Done   8 out of   8 | elapsed:    1.6s finished\n",
      "[Parallel(n_jobs=24)]: Using backend LokyBackend with 24 concurrent workers.\n",
      "[Parallel(n_jobs=24)]: Done   6 out of  24 | elapsed:    3.4s remaining:   10.1s\n",
      "[Parallel(n_jobs=24)]: Done  11 out of  24 | elapsed:    3.4s remaining:    4.1s\n",
      "[Parallel(n_jobs=24)]: Done  16 out of  24 | elapsed:    3.5s remaining:    1.8s\n"
     ]
    },
    {
     "name": "stdout",
     "output_type": "stream",
     "text": [
      "Reduction order for nice/marker/PowerSpectralDensity/alpha: ['frequency', 'channels']\n",
      "Reduction order for nice/marker/PowerSpectralDensity/alpha: ['frequency', 'channels']\n",
      "Reduction order for nice/marker/PowerSpectralDensity/delta: ['frequency', 'channels']\n",
      "Reduction order for nice/marker/PowerSpectralDensity/delta: ['frequency', 'channels']\n",
      "Reduction order for nice/marker/PowerSpectralDensity/theta: ['frequency', 'channels']\n",
      "Reduction order for nice/marker/PowerSpectralDensity/theta: ['frequency', 'channels']\n",
      "Reduction order for nice/marker/PowerSpectralDensity/gamma: ['frequency', 'channels']\n",
      "Reduction order for nice/marker/PowerSpectralDensity/theta: ['frequency', 'channels']\n",
      "Reduction order for nice/marker/PowerSpectralDensity/beta: ['frequency', 'channels']\n",
      "Reduction order for nice/marker/PowerSpectralDensity/beta: ['frequency', 'channels']\n",
      "Running KolmogorovComplexity\n",
      "Elapsed time 0.013983726501464844 sec\n",
      "Reduction order for nice/marker/KolmogorovComplexity/default: ['channels']\n",
      "Filtering  at 10.42 Hz\n",
      "Performing symbolic transformation\n"
     ]
    },
    {
     "name": "stderr",
     "output_type": "stream",
     "text": [
      "[Parallel(n_jobs=24)]: Done  21 out of  24 | elapsed:    3.6s remaining:    0.5s\n",
      "[Parallel(n_jobs=24)]: Done  24 out of  24 | elapsed:    3.7s finished\n",
      "/home/nicolas.bruno/anaconda3/lib/python3.7/site-packages/nice-0.1.dev0-py3.7.egg/nice/markers/spectral.py:128: RuntimeWarning: invalid value encountered in true_divide\n",
      "  self.data_norm_ = self.data_ / self.data_.sum(axis=-1)[..., None]\n",
      "/home/nicolas.bruno/anaconda3/lib/python3.7/site-packages/nice-0.1.dev0-py3.7.egg/nice/markers/spectral.py:220: RuntimeWarning: divide by zero encountered in log10\n",
      "  out = 10 * np.log10(out)\n"
     ]
    },
    {
     "name": "stdout",
     "output_type": "stream",
     "text": [
      "Reduction order for nice/marker/PermutationEntropy/default: ['channels']\n",
      "Autodetected number of jobs 2\n",
      "Computing CSD\n",
      "Using 10-5 locations for CSD\n",
      "Using 2 jobs\n"
     ]
    },
    {
     "name": "stderr",
     "output_type": "stream",
     "text": [
      "/home/nicolas.bruno/anaconda3/lib/python3.7/site-packages/nice-0.1.dev0-py3.7.egg/nice/algorithms/information_theory/permutation_entropy.py:75: RuntimeWarning: divide by zero encountered in log\n",
      "  pe = np.nan_to_num(-np.nansum(count * np.log(count), axis=1))\n",
      "/home/nicolas.bruno/anaconda3/lib/python3.7/site-packages/nice-0.1.dev0-py3.7.egg/nice/algorithms/information_theory/permutation_entropy.py:75: RuntimeWarning: invalid value encountered in multiply\n",
      "  pe = np.nan_to_num(-np.nansum(count * np.log(count), axis=1))\n",
      "[Parallel(n_jobs=2)]: Using backend LokyBackend with 2 concurrent workers.\n"
     ]
    },
    {
     "name": "stdout",
     "output_type": "stream",
     "text": [
      "Filtering  at 10.42 Hz\n",
      "Reduction order for nice/marker/SymbolicMutualInformation/default: ['channels_y', 'channels']\n",
      "Autodetected number of jobs 24\n",
      "Effective window size : 16.384 (s)\n"
     ]
    },
    {
     "name": "stderr",
     "output_type": "stream",
     "text": [
      "[Parallel(n_jobs=2)]: Done   8 out of   8 | elapsed:    1.6s finished\n",
      "[Parallel(n_jobs=24)]: Using backend LokyBackend with 24 concurrent workers.\n",
      "[Parallel(n_jobs=24)]: Done   6 out of  24 | elapsed:    3.4s remaining:   10.2s\n",
      "[Parallel(n_jobs=24)]: Done  11 out of  24 | elapsed:    3.5s remaining:    4.1s\n",
      "[Parallel(n_jobs=24)]: Done  16 out of  24 | elapsed:    3.5s remaining:    1.8s\n",
      "[Parallel(n_jobs=24)]: Done  21 out of  24 | elapsed:    3.6s remaining:    0.5s\n"
     ]
    },
    {
     "name": "stdout",
     "output_type": "stream",
     "text": [
      "Reduction order for nice/marker/PowerSpectralDensity/alpha: ['frequency', 'channels']\n",
      "Reduction order for nice/marker/PowerSpectralDensity/alpha: ['frequency', 'channels']\n",
      "Reduction order for nice/marker/PowerSpectralDensity/delta: ['frequency', 'channels']\n",
      "Reduction order for nice/marker/PowerSpectralDensity/delta: ['frequency', 'channels']\n",
      "Reduction order for nice/marker/PowerSpectralDensity/theta: ['frequency', 'channels']\n",
      "Reduction order for nice/marker/PowerSpectralDensity/theta: ['frequency', 'channels']\n",
      "Reduction order for nice/marker/PowerSpectralDensity/gamma: ['frequency', 'channels']\n",
      "Reduction order for nice/marker/PowerSpectralDensity/theta: ['frequency', 'channels']\n",
      "Reduction order for nice/marker/PowerSpectralDensity/beta: ['frequency', 'channels']\n",
      "Reduction order for nice/marker/PowerSpectralDensity/beta: ['frequency', 'channels']\n",
      "Running KolmogorovComplexity\n",
      "Elapsed time 0.011810302734375 sec\n",
      "Reduction order for nice/marker/KolmogorovComplexity/default: ['channels']\n",
      "Filtering  at 10.42 Hz\n",
      "Performing symbolic transformation\n"
     ]
    },
    {
     "name": "stderr",
     "output_type": "stream",
     "text": [
      "[Parallel(n_jobs=24)]: Done  24 out of  24 | elapsed:    3.6s finished\n"
     ]
    },
    {
     "name": "stdout",
     "output_type": "stream",
     "text": [
      "Reduction order for nice/marker/PermutationEntropy/default: ['channels']\n",
      "Autodetected number of jobs 2\n",
      "Computing CSD\n",
      "Using 10-5 locations for CSD\n",
      "Using 2 jobs\n"
     ]
    },
    {
     "name": "stderr",
     "output_type": "stream",
     "text": [
      "[Parallel(n_jobs=2)]: Using backend LokyBackend with 2 concurrent workers.\n"
     ]
    },
    {
     "name": "stdout",
     "output_type": "stream",
     "text": [
      "Filtering  at 10.42 Hz\n",
      "Reduction order for nice/marker/SymbolicMutualInformation/default: ['channels_y', 'channels']\n",
      "Autodetected number of jobs 24\n",
      "Effective window size : 16.384 (s)\n"
     ]
    },
    {
     "name": "stderr",
     "output_type": "stream",
     "text": [
      "[Parallel(n_jobs=2)]: Done   7 out of   7 | elapsed:    1.7s finished\n",
      "[Parallel(n_jobs=24)]: Using backend LokyBackend with 24 concurrent workers.\n",
      "[Parallel(n_jobs=24)]: Done   6 out of  24 | elapsed:    3.4s remaining:   10.3s\n",
      "[Parallel(n_jobs=24)]: Done  11 out of  24 | elapsed:    3.5s remaining:    4.2s\n",
      "[Parallel(n_jobs=24)]: Done  16 out of  24 | elapsed:    3.6s remaining:    1.8s\n"
     ]
    },
    {
     "name": "stdout",
     "output_type": "stream",
     "text": [
      "Reduction order for nice/marker/PowerSpectralDensity/alpha: ['frequency', 'channels']\n",
      "Reduction order for nice/marker/PowerSpectralDensity/alpha: ['frequency', 'channels']\n",
      "Reduction order for nice/marker/PowerSpectralDensity/delta: ['frequency', 'channels']\n",
      "Reduction order for nice/marker/PowerSpectralDensity/delta: ['frequency', 'channels']\n",
      "Reduction order for nice/marker/PowerSpectralDensity/theta: ['frequency', 'channels']\n",
      "Reduction order for nice/marker/PowerSpectralDensity/theta: ['frequency', 'channels']\n",
      "Reduction order for nice/marker/PowerSpectralDensity/gamma: ['frequency', 'channels']\n",
      "Reduction order for nice/marker/PowerSpectralDensity/theta: ['frequency', 'channels']\n",
      "Reduction order for nice/marker/PowerSpectralDensity/beta: ['frequency', 'channels']\n",
      "Reduction order for nice/marker/PowerSpectralDensity/beta: ['frequency', 'channels']\n",
      "Running KolmogorovComplexity\n",
      "Elapsed time 0.028656482696533203 sec\n",
      "Reduction order for nice/marker/KolmogorovComplexity/default: ['channels']\n",
      "Filtering  at 10.42 Hz\n",
      "Performing symbolic transformation\n"
     ]
    },
    {
     "name": "stderr",
     "output_type": "stream",
     "text": [
      "[Parallel(n_jobs=24)]: Done  21 out of  24 | elapsed:    3.7s remaining:    0.5s\n",
      "[Parallel(n_jobs=24)]: Done  24 out of  24 | elapsed:    3.7s finished\n"
     ]
    },
    {
     "name": "stdout",
     "output_type": "stream",
     "text": [
      "Reduction order for nice/marker/PermutationEntropy/default: ['channels']\n",
      "Autodetected number of jobs 2\n",
      "Computing CSD\n",
      "Using 10-5 locations for CSD\n",
      "Using 2 jobs\n"
     ]
    },
    {
     "name": "stderr",
     "output_type": "stream",
     "text": [
      "[Parallel(n_jobs=2)]: Using backend LokyBackend with 2 concurrent workers.\n"
     ]
    },
    {
     "name": "stdout",
     "output_type": "stream",
     "text": [
      "Filtering  at 10.42 Hz\n",
      "Reduction order for nice/marker/SymbolicMutualInformation/default: ['channels_y', 'channels']\n",
      "Reading /media/nicolas.bruno/63f8a366-34b7-4896-a7ce-b5fb4ee78535/Nico/MW_eeg_data/minmarker/VP23/VP23_evoked_ar_clean_epo.fif ...\n",
      "    Found the data of interest:\n",
      "        t =    -200.00 ...     600.00 ms\n",
      "        0 CTF compensation matrices available\n"
     ]
    },
    {
     "name": "stderr",
     "output_type": "stream",
     "text": [
      "[Parallel(n_jobs=2)]: Done  18 tasks      | elapsed:    1.7s\n",
      "[Parallel(n_jobs=2)]: Done  21 out of  21 | elapsed:    1.7s finished\n"
     ]
    },
    {
     "name": "stdout",
     "output_type": "stream",
     "text": [
      "Not setting metadata\n",
      "Not setting metadata\n",
      "439 matching events found\n",
      "No baseline correction applied\n",
      "0 projection items activated\n",
      "Autodetected number of jobs 24\n",
      "Effective window size : 16.384 (s)\n"
     ]
    },
    {
     "name": "stderr",
     "output_type": "stream",
     "text": [
      "[Parallel(n_jobs=24)]: Using backend LokyBackend with 24 concurrent workers.\n",
      "[Parallel(n_jobs=24)]: Done   6 out of  24 | elapsed:    3.5s remaining:   10.4s\n",
      "[Parallel(n_jobs=24)]: Done  11 out of  24 | elapsed:    3.5s remaining:    4.1s\n",
      "[Parallel(n_jobs=24)]: Done  16 out of  24 | elapsed:    3.6s remaining:    1.8s\n"
     ]
    },
    {
     "name": "stdout",
     "output_type": "stream",
     "text": [
      "Reduction order for nice/marker/PowerSpectralDensity/alpha: ['frequency', 'channels']\n",
      "Reduction order for nice/marker/PowerSpectralDensity/alpha: ['frequency', 'channels']\n",
      "Reduction order for nice/marker/PowerSpectralDensity/delta: ['frequency', 'channels']\n",
      "Reduction order for nice/marker/PowerSpectralDensity/delta: ['frequency', 'channels']\n",
      "Reduction order for nice/marker/PowerSpectralDensity/theta: ['frequency', 'channels']\n",
      "Reduction order for nice/marker/PowerSpectralDensity/theta: ['frequency', 'channels']\n",
      "Reduction order for nice/marker/PowerSpectralDensity/gamma: ['frequency', 'channels']\n",
      "Reduction order for nice/marker/PowerSpectralDensity/theta: ['frequency', 'channels']\n",
      "Reduction order for nice/marker/PowerSpectralDensity/beta: ['frequency', 'channels']\n",
      "Reduction order for nice/marker/PowerSpectralDensity/beta: ['frequency', 'channels']\n",
      "Running KolmogorovComplexity\n",
      "Elapsed time 0.032471656799316406 sec\n",
      "Reduction order for nice/marker/KolmogorovComplexity/default: ['channels']\n",
      "Filtering  at 10.42 Hz\n",
      "Performing symbolic transformation\n"
     ]
    },
    {
     "name": "stderr",
     "output_type": "stream",
     "text": [
      "[Parallel(n_jobs=24)]: Done  21 out of  24 | elapsed:    3.7s remaining:    0.5s\n",
      "[Parallel(n_jobs=24)]: Done  24 out of  24 | elapsed:    3.7s finished\n",
      "/home/nicolas.bruno/anaconda3/lib/python3.7/site-packages/nice-0.1.dev0-py3.7.egg/nice/markers/spectral.py:128: RuntimeWarning: invalid value encountered in true_divide\n",
      "  self.data_norm_ = self.data_ / self.data_.sum(axis=-1)[..., None]\n",
      "/home/nicolas.bruno/anaconda3/lib/python3.7/site-packages/nice-0.1.dev0-py3.7.egg/nice/markers/spectral.py:220: RuntimeWarning: divide by zero encountered in log10\n",
      "  out = 10 * np.log10(out)\n"
     ]
    },
    {
     "name": "stdout",
     "output_type": "stream",
     "text": [
      "Reduction order for nice/marker/PermutationEntropy/default: ['channels']\n",
      "Autodetected number of jobs 2\n",
      "Computing CSD\n",
      "Using 10-5 locations for CSD\n",
      "Using 2 jobs\n"
     ]
    },
    {
     "name": "stderr",
     "output_type": "stream",
     "text": [
      "/home/nicolas.bruno/anaconda3/lib/python3.7/site-packages/nice-0.1.dev0-py3.7.egg/nice/algorithms/information_theory/permutation_entropy.py:75: RuntimeWarning: divide by zero encountered in log\n",
      "  pe = np.nan_to_num(-np.nansum(count * np.log(count), axis=1))\n",
      "/home/nicolas.bruno/anaconda3/lib/python3.7/site-packages/nice-0.1.dev0-py3.7.egg/nice/algorithms/information_theory/permutation_entropy.py:75: RuntimeWarning: invalid value encountered in multiply\n",
      "  pe = np.nan_to_num(-np.nansum(count * np.log(count), axis=1))\n",
      "[Parallel(n_jobs=2)]: Using backend LokyBackend with 2 concurrent workers.\n"
     ]
    },
    {
     "name": "stdout",
     "output_type": "stream",
     "text": [
      "Filtering  at 10.42 Hz\n",
      "Reduction order for nice/marker/SymbolicMutualInformation/default: ['channels_y', 'channels']\n",
      "Autodetected number of jobs 24\n",
      "Effective window size : 16.384 (s)\n"
     ]
    },
    {
     "name": "stderr",
     "output_type": "stream",
     "text": [
      "[Parallel(n_jobs=2)]: Done  18 tasks      | elapsed:    1.7s\n",
      "[Parallel(n_jobs=2)]: Done  25 out of  25 | elapsed:    1.7s finished\n",
      "[Parallel(n_jobs=24)]: Using backend LokyBackend with 24 concurrent workers.\n",
      "[Parallel(n_jobs=24)]: Done   6 out of  24 | elapsed:    3.5s remaining:   10.6s\n",
      "[Parallel(n_jobs=24)]: Done  11 out of  24 | elapsed:    3.6s remaining:    4.3s\n",
      "[Parallel(n_jobs=24)]: Done  16 out of  24 | elapsed:    3.7s remaining:    1.8s\n"
     ]
    },
    {
     "name": "stdout",
     "output_type": "stream",
     "text": [
      "Reduction order for nice/marker/PowerSpectralDensity/alpha: ['frequency', 'channels']\n",
      "Reduction order for nice/marker/PowerSpectralDensity/alpha: ['frequency', 'channels']\n",
      "Reduction order for nice/marker/PowerSpectralDensity/delta: ['frequency', 'channels']\n",
      "Reduction order for nice/marker/PowerSpectralDensity/delta: ['frequency', 'channels']\n",
      "Reduction order for nice/marker/PowerSpectralDensity/theta: ['frequency', 'channels']\n",
      "Reduction order for nice/marker/PowerSpectralDensity/theta: ['frequency', 'channels']\n",
      "Reduction order for nice/marker/PowerSpectralDensity/gamma: ['frequency', 'channels']\n",
      "Reduction order for nice/marker/PowerSpectralDensity/theta: ['frequency', 'channels']\n",
      "Reduction order for nice/marker/PowerSpectralDensity/beta: ['frequency', 'channels']\n",
      "Reduction order for nice/marker/PowerSpectralDensity/beta: ['frequency', 'channels']\n",
      "Running KolmogorovComplexity\n"
     ]
    },
    {
     "name": "stderr",
     "output_type": "stream",
     "text": [
      "[Parallel(n_jobs=24)]: Done  21 out of  24 | elapsed:    3.8s remaining:    0.5s\n",
      "[Parallel(n_jobs=24)]: Done  24 out of  24 | elapsed:    3.8s finished\n"
     ]
    },
    {
     "name": "stdout",
     "output_type": "stream",
     "text": [
      "Elapsed time 0.10795331001281738 sec\n",
      "Reduction order for nice/marker/KolmogorovComplexity/default: ['channels']\n",
      "Filtering  at 10.42 Hz\n",
      "Performing symbolic transformation\n",
      "Reduction order for nice/marker/PermutationEntropy/default: ['channels']\n",
      "Autodetected number of jobs 2\n",
      "Computing CSD\n",
      "Using 10-5 locations for CSD\n",
      "Using 2 jobs\n"
     ]
    },
    {
     "name": "stderr",
     "output_type": "stream",
     "text": [
      "[Parallel(n_jobs=2)]: Using backend LokyBackend with 2 concurrent workers.\n"
     ]
    },
    {
     "name": "stdout",
     "output_type": "stream",
     "text": [
      "Filtering  at 10.42 Hz\n"
     ]
    },
    {
     "name": "stderr",
     "output_type": "stream",
     "text": [
      "[Parallel(n_jobs=2)]: Done  18 tasks      | elapsed:    1.6s\n",
      "[Parallel(n_jobs=2)]: Done  81 out of  81 | elapsed:    1.7s finished\n"
     ]
    },
    {
     "name": "stdout",
     "output_type": "stream",
     "text": [
      "Reduction order for nice/marker/SymbolicMutualInformation/default: ['channels_y', 'channels']\n",
      "Autodetected number of jobs 24\n",
      "Effective window size : 16.384 (s)\n"
     ]
    },
    {
     "name": "stderr",
     "output_type": "stream",
     "text": [
      "[Parallel(n_jobs=24)]: Using backend LokyBackend with 24 concurrent workers.\n",
      "[Parallel(n_jobs=24)]: Done   6 out of  24 | elapsed:    3.4s remaining:   10.1s\n",
      "[Parallel(n_jobs=24)]: Done  11 out of  24 | elapsed:    3.4s remaining:    4.0s\n",
      "[Parallel(n_jobs=24)]: Done  16 out of  24 | elapsed:    3.5s remaining:    1.7s\n",
      "[Parallel(n_jobs=24)]: Done  21 out of  24 | elapsed:    3.5s remaining:    0.5s\n"
     ]
    },
    {
     "name": "stdout",
     "output_type": "stream",
     "text": [
      "Reduction order for nice/marker/PowerSpectralDensity/alpha: ['frequency', 'channels']\n",
      "Reduction order for nice/marker/PowerSpectralDensity/alpha: ['frequency', 'channels']\n",
      "Reduction order for nice/marker/PowerSpectralDensity/delta: ['frequency', 'channels']\n",
      "Reduction order for nice/marker/PowerSpectralDensity/delta: ['frequency', 'channels']\n",
      "Reduction order for nice/marker/PowerSpectralDensity/theta: ['frequency', 'channels']\n",
      "Reduction order for nice/marker/PowerSpectralDensity/theta: ['frequency', 'channels']\n",
      "Reduction order for nice/marker/PowerSpectralDensity/gamma: ['frequency', 'channels']\n",
      "Reduction order for nice/marker/PowerSpectralDensity/theta: ['frequency', 'channels']\n",
      "Reduction order for nice/marker/PowerSpectralDensity/beta: ['frequency', 'channels']\n",
      "Reduction order for nice/marker/PowerSpectralDensity/beta: ['frequency', 'channels']\n",
      "Running KolmogorovComplexity\n",
      "Elapsed time 0.004995584487915039 sec\n",
      "Reduction order for nice/marker/KolmogorovComplexity/default: ['channels']\n",
      "Filtering  at 10.42 Hz\n",
      "Performing symbolic transformation\n"
     ]
    },
    {
     "name": "stderr",
     "output_type": "stream",
     "text": [
      "[Parallel(n_jobs=24)]: Done  24 out of  24 | elapsed:    3.6s finished\n"
     ]
    },
    {
     "name": "stdout",
     "output_type": "stream",
     "text": [
      "Reduction order for nice/marker/PermutationEntropy/default: ['channels']\n",
      "Autodetected number of jobs 2\n",
      "Computing CSD\n",
      "Using 10-5 locations for CSD\n",
      "Using 2 jobs\n"
     ]
    },
    {
     "name": "stderr",
     "output_type": "stream",
     "text": [
      "[Parallel(n_jobs=2)]: Using backend LokyBackend with 2 concurrent workers.\n"
     ]
    },
    {
     "name": "stdout",
     "output_type": "stream",
     "text": [
      "Filtering  at 10.42 Hz\n",
      "Reduction order for nice/marker/SymbolicMutualInformation/default: ['channels_y', 'channels']\n",
      "Autodetected number of jobs 24\n",
      "Effective window size : 16.384 (s)\n"
     ]
    },
    {
     "name": "stderr",
     "output_type": "stream",
     "text": [
      "[Parallel(n_jobs=2)]: Done   4 out of   4 | elapsed:    1.7s remaining:    0.0s\n",
      "[Parallel(n_jobs=2)]: Done   4 out of   4 | elapsed:    1.7s finished\n",
      "[Parallel(n_jobs=24)]: Using backend LokyBackend with 24 concurrent workers.\n",
      "[Parallel(n_jobs=24)]: Done   6 out of  24 | elapsed:    3.4s remaining:   10.2s\n",
      "[Parallel(n_jobs=24)]: Done  11 out of  24 | elapsed:    3.5s remaining:    4.2s\n",
      "[Parallel(n_jobs=24)]: Done  16 out of  24 | elapsed:    3.6s remaining:    1.8s\n"
     ]
    },
    {
     "name": "stdout",
     "output_type": "stream",
     "text": [
      "Reduction order for nice/marker/PowerSpectralDensity/alpha: ['frequency', 'channels']\n",
      "Reduction order for nice/marker/PowerSpectralDensity/alpha: ['frequency', 'channels']\n",
      "Reduction order for nice/marker/PowerSpectralDensity/delta: ['frequency', 'channels']\n",
      "Reduction order for nice/marker/PowerSpectralDensity/delta: ['frequency', 'channels']\n",
      "Reduction order for nice/marker/PowerSpectralDensity/theta: ['frequency', 'channels']\n",
      "Reduction order for nice/marker/PowerSpectralDensity/theta: ['frequency', 'channels']\n",
      "Reduction order for nice/marker/PowerSpectralDensity/gamma: ['frequency', 'channels']\n",
      "Reduction order for nice/marker/PowerSpectralDensity/theta: ['frequency', 'channels']\n",
      "Reduction order for nice/marker/PowerSpectralDensity/beta: ['frequency', 'channels']\n",
      "Reduction order for nice/marker/PowerSpectralDensity/beta: ['frequency', 'channels']\n",
      "Running KolmogorovComplexity\n",
      "Elapsed time 0.005198240280151367 sec\n",
      "Reduction order for nice/marker/KolmogorovComplexity/default: ['channels']\n",
      "Filtering  at 10.42 Hz\n",
      "Performing symbolic transformation\n"
     ]
    },
    {
     "name": "stderr",
     "output_type": "stream",
     "text": [
      "[Parallel(n_jobs=24)]: Done  21 out of  24 | elapsed:    3.7s remaining:    0.5s\n",
      "[Parallel(n_jobs=24)]: Done  24 out of  24 | elapsed:    3.8s finished\n"
     ]
    },
    {
     "name": "stdout",
     "output_type": "stream",
     "text": [
      "Reduction order for nice/marker/PermutationEntropy/default: ['channels']\n",
      "Autodetected number of jobs 2\n",
      "Computing CSD\n",
      "Using 10-5 locations for CSD\n",
      "Using 2 jobs\n"
     ]
    },
    {
     "name": "stderr",
     "output_type": "stream",
     "text": [
      "[Parallel(n_jobs=2)]: Using backend LokyBackend with 2 concurrent workers.\n"
     ]
    },
    {
     "name": "stdout",
     "output_type": "stream",
     "text": [
      "Filtering  at 10.42 Hz\n",
      "Reduction order for nice/marker/SymbolicMutualInformation/default: ['channels_y', 'channels']\n",
      "Reading /media/nicolas.bruno/63f8a366-34b7-4896-a7ce-b5fb4ee78535/Nico/MW_eeg_data/minmarker/VP24/VP24_evoked_ar_clean_epo.fif ...\n",
      "    Found the data of interest:\n",
      "        t =    -200.00 ...     600.00 ms\n",
      "        0 CTF compensation matrices available\n",
      "Not setting metadata\n",
      "Not setting metadata\n",
      "133 matching events found\n",
      "No baseline correction applied\n",
      "0 projection items activated\n",
      "Autodetected number of jobs 24\n",
      "Effective window size : 16.384 (s)\n"
     ]
    },
    {
     "name": "stderr",
     "output_type": "stream",
     "text": [
      "[Parallel(n_jobs=2)]: Done   3 out of   3 | elapsed:    1.7s remaining:    0.0s\n",
      "[Parallel(n_jobs=2)]: Done   3 out of   3 | elapsed:    1.7s finished\n",
      "[Parallel(n_jobs=24)]: Using backend LokyBackend with 24 concurrent workers.\n",
      "[Parallel(n_jobs=24)]: Done   6 out of  24 | elapsed:    3.5s remaining:   10.5s\n",
      "[Parallel(n_jobs=24)]: Done  11 out of  24 | elapsed:    3.6s remaining:    4.3s\n",
      "[Parallel(n_jobs=24)]: Done  16 out of  24 | elapsed:    3.7s remaining:    1.9s\n",
      "[Parallel(n_jobs=24)]: Done  21 out of  24 | elapsed:    3.8s remaining:    0.5s\n"
     ]
    },
    {
     "name": "stdout",
     "output_type": "stream",
     "text": [
      "Reduction order for nice/marker/PowerSpectralDensity/alpha: ['frequency', 'channels']\n",
      "Reduction order for nice/marker/PowerSpectralDensity/alpha: ['frequency', 'channels']\n",
      "Reduction order for nice/marker/PowerSpectralDensity/delta: ['frequency', 'channels']\n",
      "Reduction order for nice/marker/PowerSpectralDensity/delta: ['frequency', 'channels']\n",
      "Reduction order for nice/marker/PowerSpectralDensity/theta: ['frequency', 'channels']\n",
      "Reduction order for nice/marker/PowerSpectralDensity/theta: ['frequency', 'channels']\n",
      "Reduction order for nice/marker/PowerSpectralDensity/gamma: ['frequency', 'channels']\n",
      "Reduction order for nice/marker/PowerSpectralDensity/theta: ['frequency', 'channels']\n",
      "Reduction order for nice/marker/PowerSpectralDensity/beta: ['frequency', 'channels']\n",
      "Reduction order for nice/marker/PowerSpectralDensity/beta: ['frequency', 'channels']\n",
      "Running KolmogorovComplexity\n",
      "Elapsed time 0.009276151657104492 sec\n",
      "Reduction order for nice/marker/KolmogorovComplexity/default: ['channels']\n",
      "Filtering  at 10.42 Hz\n",
      "Performing symbolic transformation\n"
     ]
    },
    {
     "name": "stderr",
     "output_type": "stream",
     "text": [
      "[Parallel(n_jobs=24)]: Done  24 out of  24 | elapsed:    4.0s finished\n",
      "/home/nicolas.bruno/anaconda3/lib/python3.7/site-packages/nice-0.1.dev0-py3.7.egg/nice/markers/spectral.py:128: RuntimeWarning: invalid value encountered in true_divide\n",
      "  self.data_norm_ = self.data_ / self.data_.sum(axis=-1)[..., None]\n",
      "/home/nicolas.bruno/anaconda3/lib/python3.7/site-packages/nice-0.1.dev0-py3.7.egg/nice/markers/spectral.py:220: RuntimeWarning: divide by zero encountered in log10\n",
      "  out = 10 * np.log10(out)\n"
     ]
    },
    {
     "name": "stdout",
     "output_type": "stream",
     "text": [
      "Reduction order for nice/marker/PermutationEntropy/default: ['channels']\n",
      "Autodetected number of jobs 2\n",
      "Computing CSD\n",
      "Using 10-5 locations for CSD\n",
      "Using 2 jobs\n"
     ]
    },
    {
     "name": "stderr",
     "output_type": "stream",
     "text": [
      "/home/nicolas.bruno/anaconda3/lib/python3.7/site-packages/nice-0.1.dev0-py3.7.egg/nice/algorithms/information_theory/permutation_entropy.py:75: RuntimeWarning: divide by zero encountered in log\n",
      "  pe = np.nan_to_num(-np.nansum(count * np.log(count), axis=1))\n",
      "/home/nicolas.bruno/anaconda3/lib/python3.7/site-packages/nice-0.1.dev0-py3.7.egg/nice/algorithms/information_theory/permutation_entropy.py:75: RuntimeWarning: invalid value encountered in multiply\n",
      "  pe = np.nan_to_num(-np.nansum(count * np.log(count), axis=1))\n",
      "[Parallel(n_jobs=2)]: Using backend LokyBackend with 2 concurrent workers.\n"
     ]
    },
    {
     "name": "stdout",
     "output_type": "stream",
     "text": [
      "Filtering  at 10.42 Hz\n",
      "Reduction order for nice/marker/SymbolicMutualInformation/default: ['channels_y', 'channels']\n",
      "Autodetected number of jobs 24\n",
      "Effective window size : 16.384 (s)\n"
     ]
    },
    {
     "name": "stderr",
     "output_type": "stream",
     "text": [
      "[Parallel(n_jobs=2)]: Done   7 out of   7 | elapsed:    1.6s finished\n",
      "[Parallel(n_jobs=24)]: Using backend LokyBackend with 24 concurrent workers.\n",
      "[Parallel(n_jobs=24)]: Done   6 out of  24 | elapsed:    3.4s remaining:   10.3s\n",
      "[Parallel(n_jobs=24)]: Done  11 out of  24 | elapsed:    3.5s remaining:    4.2s\n",
      "[Parallel(n_jobs=24)]: Done  16 out of  24 | elapsed:    3.6s remaining:    1.8s\n"
     ]
    },
    {
     "name": "stdout",
     "output_type": "stream",
     "text": [
      "Reduction order for nice/marker/PowerSpectralDensity/alpha: ['frequency', 'channels']\n",
      "Reduction order for nice/marker/PowerSpectralDensity/alpha: ['frequency', 'channels']\n",
      "Reduction order for nice/marker/PowerSpectralDensity/delta: ['frequency', 'channels']\n",
      "Reduction order for nice/marker/PowerSpectralDensity/delta: ['frequency', 'channels']\n",
      "Reduction order for nice/marker/PowerSpectralDensity/theta: ['frequency', 'channels']\n",
      "Reduction order for nice/marker/PowerSpectralDensity/theta: ['frequency', 'channels']\n",
      "Reduction order for nice/marker/PowerSpectralDensity/gamma: ['frequency', 'channels']\n",
      "Reduction order for nice/marker/PowerSpectralDensity/theta: ['frequency', 'channels']\n",
      "Reduction order for nice/marker/PowerSpectralDensity/beta: ['frequency', 'channels']\n",
      "Reduction order for nice/marker/PowerSpectralDensity/beta: ['frequency', 'channels']\n",
      "Running KolmogorovComplexity\n",
      "Elapsed time 0.06818699836730957 sec\n"
     ]
    },
    {
     "name": "stderr",
     "output_type": "stream",
     "text": [
      "[Parallel(n_jobs=24)]: Done  21 out of  24 | elapsed:    3.7s remaining:    0.5s\n",
      "[Parallel(n_jobs=24)]: Done  24 out of  24 | elapsed:    3.8s finished\n"
     ]
    },
    {
     "name": "stdout",
     "output_type": "stream",
     "text": [
      "Reduction order for nice/marker/KolmogorovComplexity/default: ['channels']\n",
      "Filtering  at 10.42 Hz\n",
      "Performing symbolic transformation\n",
      "Reduction order for nice/marker/PermutationEntropy/default: ['channels']\n",
      "Autodetected number of jobs 2\n",
      "Computing CSD\n",
      "Using 10-5 locations for CSD\n",
      "Using 2 jobs\n"
     ]
    },
    {
     "name": "stderr",
     "output_type": "stream",
     "text": [
      "[Parallel(n_jobs=2)]: Using backend LokyBackend with 2 concurrent workers.\n"
     ]
    },
    {
     "name": "stdout",
     "output_type": "stream",
     "text": [
      "Filtering  at 10.42 Hz\n"
     ]
    },
    {
     "name": "stderr",
     "output_type": "stream",
     "text": [
      "[Parallel(n_jobs=2)]: Done  18 tasks      | elapsed:    1.7s\n",
      "[Parallel(n_jobs=2)]: Done  52 out of  52 | elapsed:    1.7s finished\n"
     ]
    },
    {
     "name": "stdout",
     "output_type": "stream",
     "text": [
      "Reduction order for nice/marker/SymbolicMutualInformation/default: ['channels_y', 'channels']\n",
      "Autodetected number of jobs 24\n",
      "Effective window size : 16.384 (s)\n"
     ]
    },
    {
     "name": "stderr",
     "output_type": "stream",
     "text": [
      "[Parallel(n_jobs=24)]: Using backend LokyBackend with 24 concurrent workers.\n",
      "[Parallel(n_jobs=24)]: Done   6 out of  24 | elapsed:    3.5s remaining:   10.6s\n",
      "[Parallel(n_jobs=24)]: Done  11 out of  24 | elapsed:    3.6s remaining:    4.3s\n",
      "[Parallel(n_jobs=24)]: Done  16 out of  24 | elapsed:    3.7s remaining:    1.9s\n"
     ]
    },
    {
     "name": "stdout",
     "output_type": "stream",
     "text": [
      "Reduction order for nice/marker/PowerSpectralDensity/alpha: ['frequency', 'channels']\n",
      "Reduction order for nice/marker/PowerSpectralDensity/alpha: ['frequency', 'channels']\n",
      "Reduction order for nice/marker/PowerSpectralDensity/delta: ['frequency', 'channels']\n",
      "Reduction order for nice/marker/PowerSpectralDensity/delta: ['frequency', 'channels']\n",
      "Reduction order for nice/marker/PowerSpectralDensity/theta: ['frequency', 'channels']\n",
      "Reduction order for nice/marker/PowerSpectralDensity/theta: ['frequency', 'channels']\n",
      "Reduction order for nice/marker/PowerSpectralDensity/gamma: ['frequency', 'channels']\n",
      "Reduction order for nice/marker/PowerSpectralDensity/theta: ['frequency', 'channels']\n",
      "Reduction order for nice/marker/PowerSpectralDensity/beta: ['frequency', 'channels']\n",
      "Reduction order for nice/marker/PowerSpectralDensity/beta: ['frequency', 'channels']\n",
      "Running KolmogorovComplexity\n",
      "Elapsed time 0.009168624877929688 sec\n",
      "Reduction order for nice/marker/KolmogorovComplexity/default: ['channels']\n",
      "Filtering  at 10.42 Hz\n",
      "Performing symbolic transformation\n"
     ]
    },
    {
     "name": "stderr",
     "output_type": "stream",
     "text": [
      "[Parallel(n_jobs=24)]: Done  21 out of  24 | elapsed:    3.8s remaining:    0.5s\n",
      "[Parallel(n_jobs=24)]: Done  24 out of  24 | elapsed:    3.9s finished\n"
     ]
    },
    {
     "name": "stdout",
     "output_type": "stream",
     "text": [
      "Reduction order for nice/marker/PermutationEntropy/default: ['channels']\n",
      "Autodetected number of jobs 2\n",
      "Computing CSD\n",
      "Using 10-5 locations for CSD\n",
      "Using 2 jobs\n"
     ]
    },
    {
     "name": "stderr",
     "output_type": "stream",
     "text": [
      "[Parallel(n_jobs=2)]: Using backend LokyBackend with 2 concurrent workers.\n"
     ]
    },
    {
     "name": "stdout",
     "output_type": "stream",
     "text": [
      "Filtering  at 10.42 Hz\n",
      "Reduction order for nice/marker/SymbolicMutualInformation/default: ['channels_y', 'channels']\n",
      "Autodetected number of jobs 24\n",
      "Effective window size : 16.384 (s)\n"
     ]
    },
    {
     "name": "stderr",
     "output_type": "stream",
     "text": [
      "[Parallel(n_jobs=2)]: Done   7 out of   7 | elapsed:    1.6s finished\n",
      "[Parallel(n_jobs=24)]: Using backend LokyBackend with 24 concurrent workers.\n",
      "[Parallel(n_jobs=24)]: Done   6 out of  24 | elapsed:    3.5s remaining:   10.5s\n",
      "[Parallel(n_jobs=24)]: Done  11 out of  24 | elapsed:    3.6s remaining:    4.3s\n"
     ]
    },
    {
     "name": "stdout",
     "output_type": "stream",
     "text": [
      "Reduction order for nice/marker/PowerSpectralDensity/alpha: ['frequency', 'channels']\n",
      "Reduction order for nice/marker/PowerSpectralDensity/alpha: ['frequency', 'channels']\n",
      "Reduction order for nice/marker/PowerSpectralDensity/delta: ['frequency', 'channels']\n",
      "Reduction order for nice/marker/PowerSpectralDensity/delta: ['frequency', 'channels']\n",
      "Reduction order for nice/marker/PowerSpectralDensity/theta: ['frequency', 'channels']\n",
      "Reduction order for nice/marker/PowerSpectralDensity/theta: ['frequency', 'channels']\n",
      "Reduction order for nice/marker/PowerSpectralDensity/gamma: ['frequency', 'channels']\n",
      "Reduction order for nice/marker/PowerSpectralDensity/theta: ['frequency', 'channels']\n"
     ]
    },
    {
     "name": "stderr",
     "output_type": "stream",
     "text": [
      "[Parallel(n_jobs=24)]: Done  16 out of  24 | elapsed:    3.8s remaining:    1.9s\n",
      "[Parallel(n_jobs=24)]: Done  21 out of  24 | elapsed:    3.8s remaining:    0.5s\n",
      "[Parallel(n_jobs=24)]: Done  24 out of  24 | elapsed:    3.9s finished\n"
     ]
    },
    {
     "name": "stdout",
     "output_type": "stream",
     "text": [
      "Reduction order for nice/marker/PowerSpectralDensity/beta: ['frequency', 'channels']\n",
      "Reduction order for nice/marker/PowerSpectralDensity/beta: ['frequency', 'channels']\n",
      "Running KolmogorovComplexity\n",
      "Elapsed time 0.022363662719726562 sec\n",
      "Reduction order for nice/marker/KolmogorovComplexity/default: ['channels']\n",
      "Filtering  at 10.42 Hz\n",
      "Performing symbolic transformation\n",
      "Reduction order for nice/marker/PermutationEntropy/default: ['channels']\n",
      "Autodetected number of jobs 2\n",
      "Computing CSD\n",
      "Using 10-5 locations for CSD\n",
      "Using 2 jobs\n"
     ]
    },
    {
     "name": "stderr",
     "output_type": "stream",
     "text": [
      "[Parallel(n_jobs=2)]: Using backend LokyBackend with 2 concurrent workers.\n"
     ]
    },
    {
     "name": "stdout",
     "output_type": "stream",
     "text": [
      "Filtering  at 10.42 Hz\n",
      "Reduction order for nice/marker/SymbolicMutualInformation/default: ['channels_y', 'channels']\n",
      "Autodetected number of jobs 24\n",
      "Effective window size : 16.384 (s)\n"
     ]
    },
    {
     "name": "stderr",
     "output_type": "stream",
     "text": [
      "[Parallel(n_jobs=2)]: Done  16 tasks      | elapsed:    1.7s\n",
      "[Parallel(n_jobs=2)]: Done  17 out of  17 | elapsed:    1.7s finished\n",
      "[Parallel(n_jobs=24)]: Using backend LokyBackend with 24 concurrent workers.\n",
      "[Parallel(n_jobs=24)]: Done   6 out of  24 | elapsed:    3.5s remaining:   10.6s\n",
      "[Parallel(n_jobs=24)]: Done  11 out of  24 | elapsed:    3.6s remaining:    4.3s\n",
      "[Parallel(n_jobs=24)]: Done  16 out of  24 | elapsed:    3.7s remaining:    1.8s\n"
     ]
    },
    {
     "name": "stdout",
     "output_type": "stream",
     "text": [
      "Reduction order for nice/marker/PowerSpectralDensity/alpha: ['frequency', 'channels']\n",
      "Reduction order for nice/marker/PowerSpectralDensity/alpha: ['frequency', 'channels']\n",
      "Reduction order for nice/marker/PowerSpectralDensity/delta: ['frequency', 'channels']\n",
      "Reduction order for nice/marker/PowerSpectralDensity/delta: ['frequency', 'channels']\n",
      "Reduction order for nice/marker/PowerSpectralDensity/theta: ['frequency', 'channels']\n",
      "Reduction order for nice/marker/PowerSpectralDensity/theta: ['frequency', 'channels']\n",
      "Reduction order for nice/marker/PowerSpectralDensity/gamma: ['frequency', 'channels']\n",
      "Reduction order for nice/marker/PowerSpectralDensity/theta: ['frequency', 'channels']\n",
      "Reduction order for nice/marker/PowerSpectralDensity/beta: ['frequency', 'channels']\n",
      "Reduction order for nice/marker/PowerSpectralDensity/beta: ['frequency', 'channels']\n",
      "Running KolmogorovComplexity\n",
      "Elapsed time 0.013592958450317383 sec\n",
      "Reduction order for nice/marker/KolmogorovComplexity/default: ['channels']\n",
      "Filtering  at 10.42 Hz\n",
      "Performing symbolic transformation\n"
     ]
    },
    {
     "name": "stderr",
     "output_type": "stream",
     "text": [
      "[Parallel(n_jobs=24)]: Done  21 out of  24 | elapsed:    3.8s remaining:    0.5s\n",
      "[Parallel(n_jobs=24)]: Done  24 out of  24 | elapsed:    3.9s finished\n"
     ]
    },
    {
     "name": "stdout",
     "output_type": "stream",
     "text": [
      "Reduction order for nice/marker/PermutationEntropy/default: ['channels']\n",
      "Autodetected number of jobs 2\n",
      "Computing CSD\n",
      "Using 10-5 locations for CSD\n",
      "Using 2 jobs\n"
     ]
    },
    {
     "name": "stderr",
     "output_type": "stream",
     "text": [
      "[Parallel(n_jobs=2)]: Using backend LokyBackend with 2 concurrent workers.\n"
     ]
    },
    {
     "name": "stdout",
     "output_type": "stream",
     "text": [
      "Filtering  at 10.42 Hz\n",
      "Reduction order for nice/marker/SymbolicMutualInformation/default: ['channels_y', 'channels']\n",
      "Reading /media/nicolas.bruno/63f8a366-34b7-4896-a7ce-b5fb4ee78535/Nico/MW_eeg_data/minmarker/VP25/VP25_evoked_ar_clean_epo.fif ...\n",
      "    Found the data of interest:\n",
      "        t =    -200.00 ...     600.00 ms\n",
      "        0 CTF compensation matrices available\n",
      "Not setting metadata\n",
      "Not setting metadata\n",
      "171 matching events found\n",
      "No baseline correction applied\n",
      "0 projection items activated\n",
      "Autodetected number of jobs 24\n",
      "Effective window size : 16.384 (s)\n"
     ]
    },
    {
     "name": "stderr",
     "output_type": "stream",
     "text": [
      "[Parallel(n_jobs=2)]: Done  10 out of  10 | elapsed:    1.7s finished\n",
      "[Parallel(n_jobs=24)]: Using backend LokyBackend with 24 concurrent workers.\n",
      "[Parallel(n_jobs=24)]: Done   6 out of  24 | elapsed:    3.7s remaining:   11.1s\n",
      "[Parallel(n_jobs=24)]: Done  11 out of  24 | elapsed:    3.9s remaining:    4.6s\n",
      "[Parallel(n_jobs=24)]: Done  16 out of  24 | elapsed:    4.0s remaining:    2.0s\n",
      "[Parallel(n_jobs=24)]: Done  21 out of  24 | elapsed:    4.1s remaining:    0.6s\n"
     ]
    },
    {
     "name": "stdout",
     "output_type": "stream",
     "text": [
      "Reduction order for nice/marker/PowerSpectralDensity/alpha: ['frequency', 'channels']\n",
      "Reduction order for nice/marker/PowerSpectralDensity/alpha: ['frequency', 'channels']\n",
      "Reduction order for nice/marker/PowerSpectralDensity/delta: ['frequency', 'channels']\n",
      "Reduction order for nice/marker/PowerSpectralDensity/delta: ['frequency', 'channels']\n",
      "Reduction order for nice/marker/PowerSpectralDensity/theta: ['frequency', 'channels']\n",
      "Reduction order for nice/marker/PowerSpectralDensity/theta: ['frequency', 'channels']\n",
      "Reduction order for nice/marker/PowerSpectralDensity/gamma: ['frequency', 'channels']\n",
      "Reduction order for nice/marker/PowerSpectralDensity/theta: ['frequency', 'channels']\n",
      "Reduction order for nice/marker/PowerSpectralDensity/beta: ['frequency', 'channels']\n",
      "Reduction order for nice/marker/PowerSpectralDensity/beta: ['frequency', 'channels']\n",
      "Running KolmogorovComplexity\n",
      "Elapsed time 0.03646564483642578 sec\n",
      "Reduction order for nice/marker/KolmogorovComplexity/default: ['channels']\n",
      "Filtering  at 10.42 Hz\n",
      "Performing symbolic transformation\n"
     ]
    },
    {
     "name": "stderr",
     "output_type": "stream",
     "text": [
      "[Parallel(n_jobs=24)]: Done  24 out of  24 | elapsed:    4.3s finished\n",
      "/home/nicolas.bruno/anaconda3/lib/python3.7/site-packages/nice-0.1.dev0-py3.7.egg/nice/markers/spectral.py:128: RuntimeWarning: invalid value encountered in true_divide\n",
      "  self.data_norm_ = self.data_ / self.data_.sum(axis=-1)[..., None]\n",
      "/home/nicolas.bruno/anaconda3/lib/python3.7/site-packages/nice-0.1.dev0-py3.7.egg/nice/markers/spectral.py:220: RuntimeWarning: divide by zero encountered in log10\n",
      "  out = 10 * np.log10(out)\n"
     ]
    },
    {
     "name": "stdout",
     "output_type": "stream",
     "text": [
      "Reduction order for nice/marker/PermutationEntropy/default: ['channels']\n",
      "Autodetected number of jobs 2\n",
      "Computing CSD\n",
      "Using 10-5 locations for CSD\n",
      "Using 2 jobs\n"
     ]
    },
    {
     "name": "stderr",
     "output_type": "stream",
     "text": [
      "/home/nicolas.bruno/anaconda3/lib/python3.7/site-packages/nice-0.1.dev0-py3.7.egg/nice/algorithms/information_theory/permutation_entropy.py:75: RuntimeWarning: divide by zero encountered in log\n",
      "  pe = np.nan_to_num(-np.nansum(count * np.log(count), axis=1))\n",
      "/home/nicolas.bruno/anaconda3/lib/python3.7/site-packages/nice-0.1.dev0-py3.7.egg/nice/algorithms/information_theory/permutation_entropy.py:75: RuntimeWarning: invalid value encountered in multiply\n",
      "  pe = np.nan_to_num(-np.nansum(count * np.log(count), axis=1))\n",
      "[Parallel(n_jobs=2)]: Using backend LokyBackend with 2 concurrent workers.\n"
     ]
    },
    {
     "name": "stdout",
     "output_type": "stream",
     "text": [
      "Filtering  at 10.42 Hz\n",
      "Reduction order for nice/marker/SymbolicMutualInformation/default: ['channels_y', 'channels']\n",
      "Autodetected number of jobs 24\n",
      "Effective window size : 16.384 (s)\n"
     ]
    },
    {
     "name": "stderr",
     "output_type": "stream",
     "text": [
      "[Parallel(n_jobs=2)]: Done  18 tasks      | elapsed:    1.7s\n",
      "[Parallel(n_jobs=2)]: Done  28 out of  28 | elapsed:    1.7s finished\n",
      "[Parallel(n_jobs=24)]: Using backend LokyBackend with 24 concurrent workers.\n",
      "[Parallel(n_jobs=24)]: Done   6 out of  24 | elapsed:    3.5s remaining:   10.5s\n",
      "[Parallel(n_jobs=24)]: Done  11 out of  24 | elapsed:    3.6s remaining:    4.2s\n",
      "[Parallel(n_jobs=24)]: Done  16 out of  24 | elapsed:    3.7s remaining:    1.8s\n"
     ]
    },
    {
     "name": "stdout",
     "output_type": "stream",
     "text": [
      "Reduction order for nice/marker/PowerSpectralDensity/alpha: ['frequency', 'channels']\n",
      "Reduction order for nice/marker/PowerSpectralDensity/alpha: ['frequency', 'channels']\n",
      "Reduction order for nice/marker/PowerSpectralDensity/delta: ['frequency', 'channels']\n",
      "Reduction order for nice/marker/PowerSpectralDensity/delta: ['frequency', 'channels']\n",
      "Reduction order for nice/marker/PowerSpectralDensity/theta: ['frequency', 'channels']\n",
      "Reduction order for nice/marker/PowerSpectralDensity/theta: ['frequency', 'channels']\n",
      "Reduction order for nice/marker/PowerSpectralDensity/gamma: ['frequency', 'channels']\n",
      "Reduction order for nice/marker/PowerSpectralDensity/theta: ['frequency', 'channels']\n",
      "Reduction order for nice/marker/PowerSpectralDensity/beta: ['frequency', 'channels']\n",
      "Reduction order for nice/marker/PowerSpectralDensity/beta: ['frequency', 'channels']\n",
      "Running KolmogorovComplexity\n"
     ]
    },
    {
     "name": "stderr",
     "output_type": "stream",
     "text": [
      "[Parallel(n_jobs=24)]: Done  21 out of  24 | elapsed:    3.7s remaining:    0.5s\n",
      "[Parallel(n_jobs=24)]: Done  24 out of  24 | elapsed:    3.9s finished\n"
     ]
    },
    {
     "name": "stdout",
     "output_type": "stream",
     "text": [
      "Elapsed time 0.03706550598144531 sec\n",
      "Reduction order for nice/marker/KolmogorovComplexity/default: ['channels']\n",
      "Filtering  at 10.42 Hz\n",
      "Performing symbolic transformation\n",
      "Reduction order for nice/marker/PermutationEntropy/default: ['channels']\n",
      "Autodetected number of jobs 2\n",
      "Computing CSD\n",
      "Using 10-5 locations for CSD\n",
      "Using 2 jobs\n"
     ]
    },
    {
     "name": "stderr",
     "output_type": "stream",
     "text": [
      "[Parallel(n_jobs=2)]: Using backend LokyBackend with 2 concurrent workers.\n"
     ]
    },
    {
     "name": "stdout",
     "output_type": "stream",
     "text": [
      "Filtering  at 10.42 Hz\n",
      "Reduction order for nice/marker/SymbolicMutualInformation/default: ['channels_y', 'channels']\n",
      "Autodetected number of jobs 24\n",
      "Effective window size : 16.384 (s)\n"
     ]
    },
    {
     "name": "stderr",
     "output_type": "stream",
     "text": [
      "[Parallel(n_jobs=2)]: Done  18 tasks      | elapsed:    1.7s\n",
      "[Parallel(n_jobs=2)]: Done  28 out of  28 | elapsed:    1.8s finished\n",
      "[Parallel(n_jobs=24)]: Using backend LokyBackend with 24 concurrent workers.\n",
      "[Parallel(n_jobs=24)]: Done   6 out of  24 | elapsed:    3.4s remaining:   10.3s\n",
      "[Parallel(n_jobs=24)]: Done  11 out of  24 | elapsed:    3.5s remaining:    4.1s\n",
      "[Parallel(n_jobs=24)]: Done  16 out of  24 | elapsed:    3.6s remaining:    1.8s\n"
     ]
    },
    {
     "name": "stdout",
     "output_type": "stream",
     "text": [
      "Reduction order for nice/marker/PowerSpectralDensity/alpha: ['frequency', 'channels']\n",
      "Reduction order for nice/marker/PowerSpectralDensity/alpha: ['frequency', 'channels']\n",
      "Reduction order for nice/marker/PowerSpectralDensity/delta: ['frequency', 'channels']\n",
      "Reduction order for nice/marker/PowerSpectralDensity/delta: ['frequency', 'channels']\n",
      "Reduction order for nice/marker/PowerSpectralDensity/theta: ['frequency', 'channels']\n",
      "Reduction order for nice/marker/PowerSpectralDensity/theta: ['frequency', 'channels']\n",
      "Reduction order for nice/marker/PowerSpectralDensity/gamma: ['frequency', 'channels']\n",
      "Reduction order for nice/marker/PowerSpectralDensity/theta: ['frequency', 'channels']\n",
      "Reduction order for nice/marker/PowerSpectralDensity/beta: ['frequency', 'channels']\n",
      "Reduction order for nice/marker/PowerSpectralDensity/beta: ['frequency', 'channels']\n",
      "Running KolmogorovComplexity\n",
      "Elapsed time 0.0013239383697509766 sec\n",
      "Reduction order for nice/marker/KolmogorovComplexity/default: ['channels']\n",
      "Filtering  at 10.42 Hz\n",
      "Performing symbolic transformation\n",
      "Reduction order for nice/marker/PermutationEntropy/default: ['channels']\n",
      "Autodetected number of jobs 2\n",
      "Computing CSD\n",
      "Using 10-5 locations for CSD\n",
      "Using 1 jobs\n",
      "Filtering  at 10.42 Hz\n",
      "Reduction order for nice/marker/SymbolicMutualInformation/default: ['channels_y', 'channels']\n"
     ]
    },
    {
     "name": "stderr",
     "output_type": "stream",
     "text": [
      "[Parallel(n_jobs=24)]: Done  21 out of  24 | elapsed:    3.7s remaining:    0.5s\n",
      "[Parallel(n_jobs=24)]: Done  24 out of  24 | elapsed:    3.7s finished\n"
     ]
    },
    {
     "name": "stdout",
     "output_type": "stream",
     "text": [
      "Autodetected number of jobs 24\n",
      "Effective window size : 16.384 (s)\n",
      "Reduction order for nice/marker/PowerSpectralDensity/alpha: ['frequency', 'channels']\n",
      "Reduction order for nice/marker/PowerSpectralDensity/alpha: ['frequency', 'channels']\n",
      "Reduction order for nice/marker/PowerSpectralDensity/delta: ['frequency', 'channels']\n",
      "Reduction order for nice/marker/PowerSpectralDensity/delta: ['frequency', 'channels']\n",
      "Reduction order for nice/marker/PowerSpectralDensity/theta: ['frequency', 'channels']\n",
      "Reduction order for nice/marker/PowerSpectralDensity/theta: ['frequency', 'channels']\n",
      "Reduction order for nice/marker/PowerSpectralDensity/gamma: ['frequency', 'channels']\n",
      "Reduction order for nice/marker/PowerSpectralDensity/theta: ['frequency', 'channels']\n",
      "Reduction order for nice/marker/PowerSpectralDensity/beta: ['frequency', 'channels']\n",
      "Reduction order for nice/marker/PowerSpectralDensity/beta: ['frequency', 'channels']\n",
      "Running KolmogorovComplexity\n",
      "Elapsed time 0.021308183670043945 sec\n",
      "Reduction order for nice/marker/KolmogorovComplexity/default: ['channels']\n",
      "Filtering  at 10.42 Hz\n",
      "Performing symbolic transformation\n"
     ]
    },
    {
     "name": "stderr",
     "output_type": "stream",
     "text": [
      "[Parallel(n_jobs=24)]: Using backend LokyBackend with 24 concurrent workers.\n",
      "[Parallel(n_jobs=24)]: Done   6 out of  24 | elapsed:    0.1s remaining:    0.2s\n",
      "[Parallel(n_jobs=24)]: Done  11 out of  24 | elapsed:    0.1s remaining:    0.1s\n",
      "[Parallel(n_jobs=24)]: Done  16 out of  24 | elapsed:    0.1s remaining:    0.0s\n",
      "[Parallel(n_jobs=24)]: Done  21 out of  24 | elapsed:    0.1s remaining:    0.0s\n",
      "[Parallel(n_jobs=24)]: Done  24 out of  24 | elapsed:    0.1s finished\n"
     ]
    },
    {
     "name": "stdout",
     "output_type": "stream",
     "text": [
      "Reduction order for nice/marker/PermutationEntropy/default: ['channels']\n",
      "Autodetected number of jobs 2\n",
      "Computing CSD\n",
      "Using 10-5 locations for CSD\n",
      "Using 2 jobs\n"
     ]
    },
    {
     "name": "stderr",
     "output_type": "stream",
     "text": [
      "[Parallel(n_jobs=2)]: Using backend LokyBackend with 2 concurrent workers.\n"
     ]
    },
    {
     "name": "stdout",
     "output_type": "stream",
     "text": [
      "Filtering  at 10.42 Hz\n",
      "Reduction order for nice/marker/SymbolicMutualInformation/default: ['channels_y', 'channels']\n",
      "Reading /media/nicolas.bruno/63f8a366-34b7-4896-a7ce-b5fb4ee78535/Nico/MW_eeg_data/minmarker/VP26/VP26_evoked_ar_clean_epo.fif ...\n",
      "    Found the data of interest:\n",
      "        t =    -200.00 ...     600.00 ms\n",
      "        0 CTF compensation matrices available\n",
      "Not setting metadata\n",
      "Not setting metadata\n",
      "413 matching events found\n",
      "No baseline correction applied\n",
      "0 projection items activated\n"
     ]
    },
    {
     "name": "stderr",
     "output_type": "stream",
     "text": [
      "[Parallel(n_jobs=2)]: Done  15 out of  15 | elapsed:    1.7s finished\n"
     ]
    },
    {
     "name": "stdout",
     "output_type": "stream",
     "text": [
      "Autodetected number of jobs 24\n",
      "Effective window size : 16.384 (s)\n"
     ]
    },
    {
     "name": "stderr",
     "output_type": "stream",
     "text": [
      "[Parallel(n_jobs=24)]: Using backend LokyBackend with 24 concurrent workers.\n",
      "[Parallel(n_jobs=24)]: Done   6 out of  24 | elapsed:    3.7s remaining:   11.0s\n",
      "[Parallel(n_jobs=24)]: Done  11 out of  24 | elapsed:    3.7s remaining:    4.4s\n",
      "[Parallel(n_jobs=24)]: Done  16 out of  24 | elapsed:    3.8s remaining:    1.9s\n"
     ]
    },
    {
     "name": "stdout",
     "output_type": "stream",
     "text": [
      "Reduction order for nice/marker/PowerSpectralDensity/alpha: ['frequency', 'channels']\n",
      "Reduction order for nice/marker/PowerSpectralDensity/alpha: ['frequency', 'channels']\n",
      "Reduction order for nice/marker/PowerSpectralDensity/delta: ['frequency', 'channels']\n",
      "Reduction order for nice/marker/PowerSpectralDensity/delta: ['frequency', 'channels']\n",
      "Reduction order for nice/marker/PowerSpectralDensity/theta: ['frequency', 'channels']\n",
      "Reduction order for nice/marker/PowerSpectralDensity/theta: ['frequency', 'channels']\n",
      "Reduction order for nice/marker/PowerSpectralDensity/gamma: ['frequency', 'channels']\n",
      "Reduction order for nice/marker/PowerSpectralDensity/theta: ['frequency', 'channels']\n",
      "Reduction order for nice/marker/PowerSpectralDensity/beta: ['frequency', 'channels']\n",
      "Reduction order for nice/marker/PowerSpectralDensity/beta: ['frequency', 'channels']\n",
      "Running KolmogorovComplexity\n",
      "Elapsed time 0.12659549713134766 sec\n"
     ]
    },
    {
     "name": "stderr",
     "output_type": "stream",
     "text": [
      "[Parallel(n_jobs=24)]: Done  21 out of  24 | elapsed:    3.9s remaining:    0.6s\n",
      "[Parallel(n_jobs=24)]: Done  24 out of  24 | elapsed:    4.0s finished\n",
      "/home/nicolas.bruno/anaconda3/lib/python3.7/site-packages/nice-0.1.dev0-py3.7.egg/nice/markers/spectral.py:128: RuntimeWarning: invalid value encountered in true_divide\n",
      "  self.data_norm_ = self.data_ / self.data_.sum(axis=-1)[..., None]\n",
      "/home/nicolas.bruno/anaconda3/lib/python3.7/site-packages/nice-0.1.dev0-py3.7.egg/nice/markers/spectral.py:220: RuntimeWarning: divide by zero encountered in log10\n",
      "  out = 10 * np.log10(out)\n"
     ]
    },
    {
     "name": "stdout",
     "output_type": "stream",
     "text": [
      "Reduction order for nice/marker/KolmogorovComplexity/default: ['channels']\n",
      "Filtering  at 10.42 Hz\n",
      "Performing symbolic transformation\n",
      "Reduction order for nice/marker/PermutationEntropy/default: ['channels']\n",
      "Autodetected number of jobs 2\n",
      "Computing CSD\n",
      "Using 10-5 locations for CSD\n",
      "Using 2 jobs\n"
     ]
    },
    {
     "name": "stderr",
     "output_type": "stream",
     "text": [
      "/home/nicolas.bruno/anaconda3/lib/python3.7/site-packages/nice-0.1.dev0-py3.7.egg/nice/algorithms/information_theory/permutation_entropy.py:75: RuntimeWarning: divide by zero encountered in log\n",
      "  pe = np.nan_to_num(-np.nansum(count * np.log(count), axis=1))\n",
      "/home/nicolas.bruno/anaconda3/lib/python3.7/site-packages/nice-0.1.dev0-py3.7.egg/nice/algorithms/information_theory/permutation_entropy.py:75: RuntimeWarning: invalid value encountered in multiply\n",
      "  pe = np.nan_to_num(-np.nansum(count * np.log(count), axis=1))\n",
      "[Parallel(n_jobs=2)]: Using backend LokyBackend with 2 concurrent workers.\n"
     ]
    },
    {
     "name": "stdout",
     "output_type": "stream",
     "text": [
      "Filtering  at 10.42 Hz\n"
     ]
    },
    {
     "name": "stderr",
     "output_type": "stream",
     "text": [
      "[Parallel(n_jobs=2)]: Done  18 tasks      | elapsed:    1.7s\n",
      "[Parallel(n_jobs=2)]: Done  98 out of  98 | elapsed:    1.8s finished\n"
     ]
    },
    {
     "name": "stdout",
     "output_type": "stream",
     "text": [
      "Reduction order for nice/marker/SymbolicMutualInformation/default: ['channels_y', 'channels']\n",
      "Autodetected number of jobs 24\n",
      "Effective window size : 16.384 (s)\n"
     ]
    },
    {
     "name": "stderr",
     "output_type": "stream",
     "text": [
      "[Parallel(n_jobs=24)]: Using backend LokyBackend with 24 concurrent workers.\n",
      "[Parallel(n_jobs=24)]: Done   6 out of  24 | elapsed:    3.6s remaining:   10.8s\n",
      "[Parallel(n_jobs=24)]: Done  11 out of  24 | elapsed:    3.7s remaining:    4.4s\n",
      "[Parallel(n_jobs=24)]: Done  16 out of  24 | elapsed:    3.7s remaining:    1.9s\n",
      "[Parallel(n_jobs=24)]: Done  21 out of  24 | elapsed:    3.8s remaining:    0.5s\n"
     ]
    },
    {
     "name": "stdout",
     "output_type": "stream",
     "text": [
      "Reduction order for nice/marker/PowerSpectralDensity/alpha: ['frequency', 'channels']\n",
      "Reduction order for nice/marker/PowerSpectralDensity/alpha: ['frequency', 'channels']\n",
      "Reduction order for nice/marker/PowerSpectralDensity/delta: ['frequency', 'channels']\n",
      "Reduction order for nice/marker/PowerSpectralDensity/delta: ['frequency', 'channels']\n",
      "Reduction order for nice/marker/PowerSpectralDensity/theta: ['frequency', 'channels']\n",
      "Reduction order for nice/marker/PowerSpectralDensity/theta: ['frequency', 'channels']\n",
      "Reduction order for nice/marker/PowerSpectralDensity/gamma: ['frequency', 'channels']\n",
      "Reduction order for nice/marker/PowerSpectralDensity/theta: ['frequency', 'channels']\n",
      "Reduction order for nice/marker/PowerSpectralDensity/beta: ['frequency', 'channels']\n",
      "Reduction order for nice/marker/PowerSpectralDensity/beta: ['frequency', 'channels']\n",
      "Running KolmogorovComplexity\n",
      "Elapsed time 0.08022189140319824 sec\n",
      "Reduction order for nice/marker/KolmogorovComplexity/default: ['channels']\n",
      "Filtering  at 10.42 Hz\n",
      "Performing symbolic transformation\n"
     ]
    },
    {
     "name": "stderr",
     "output_type": "stream",
     "text": [
      "[Parallel(n_jobs=24)]: Done  24 out of  24 | elapsed:    3.9s finished\n"
     ]
    },
    {
     "name": "stdout",
     "output_type": "stream",
     "text": [
      "Reduction order for nice/marker/PermutationEntropy/default: ['channels']\n",
      "Autodetected number of jobs 2\n",
      "Computing CSD\n",
      "Using 10-5 locations for CSD\n",
      "Using 2 jobs\n"
     ]
    },
    {
     "name": "stderr",
     "output_type": "stream",
     "text": [
      "[Parallel(n_jobs=2)]: Using backend LokyBackend with 2 concurrent workers.\n"
     ]
    },
    {
     "name": "stdout",
     "output_type": "stream",
     "text": [
      "Filtering  at 10.42 Hz\n"
     ]
    },
    {
     "name": "stderr",
     "output_type": "stream",
     "text": [
      "[Parallel(n_jobs=2)]: Done  18 tasks      | elapsed:    1.7s\n",
      "[Parallel(n_jobs=2)]: Done  62 out of  62 | elapsed:    1.7s finished\n"
     ]
    },
    {
     "name": "stdout",
     "output_type": "stream",
     "text": [
      "Reduction order for nice/marker/SymbolicMutualInformation/default: ['channels_y', 'channels']\n",
      "Autodetected number of jobs 24\n",
      "Effective window size : 16.384 (s)\n"
     ]
    },
    {
     "name": "stderr",
     "output_type": "stream",
     "text": [
      "[Parallel(n_jobs=24)]: Using backend LokyBackend with 24 concurrent workers.\n",
      "[Parallel(n_jobs=24)]: Done   6 out of  24 | elapsed:    3.4s remaining:   10.2s\n",
      "[Parallel(n_jobs=24)]: Done  11 out of  24 | elapsed:    3.4s remaining:    4.1s\n",
      "[Parallel(n_jobs=24)]: Done  16 out of  24 | elapsed:    3.5s remaining:    1.8s\n"
     ]
    },
    {
     "name": "stdout",
     "output_type": "stream",
     "text": [
      "Reduction order for nice/marker/PowerSpectralDensity/alpha: ['frequency', 'channels']\n",
      "Reduction order for nice/marker/PowerSpectralDensity/alpha: ['frequency', 'channels']\n",
      "Reduction order for nice/marker/PowerSpectralDensity/delta: ['frequency', 'channels']\n",
      "Reduction order for nice/marker/PowerSpectralDensity/delta: ['frequency', 'channels']\n",
      "Reduction order for nice/marker/PowerSpectralDensity/theta: ['frequency', 'channels']\n",
      "Reduction order for nice/marker/PowerSpectralDensity/theta: ['frequency', 'channels']\n",
      "Reduction order for nice/marker/PowerSpectralDensity/gamma: ['frequency', 'channels']\n",
      "Reduction order for nice/marker/PowerSpectralDensity/theta: ['frequency', 'channels']\n",
      "Reduction order for nice/marker/PowerSpectralDensity/beta: ['frequency', 'channels']\n",
      "Reduction order for nice/marker/PowerSpectralDensity/beta: ['frequency', 'channels']\n",
      "Running KolmogorovComplexity\n",
      "Elapsed time 0.0349583625793457 sec\n",
      "Reduction order for nice/marker/KolmogorovComplexity/default: ['channels']\n",
      "Filtering  at 10.42 Hz\n",
      "Performing symbolic transformation\n"
     ]
    },
    {
     "name": "stderr",
     "output_type": "stream",
     "text": [
      "[Parallel(n_jobs=24)]: Done  21 out of  24 | elapsed:    3.6s remaining:    0.5s\n",
      "[Parallel(n_jobs=24)]: Done  24 out of  24 | elapsed:    3.7s finished\n"
     ]
    },
    {
     "name": "stdout",
     "output_type": "stream",
     "text": [
      "Reduction order for nice/marker/PermutationEntropy/default: ['channels']\n",
      "Autodetected number of jobs 2\n",
      "Computing CSD\n",
      "Using 10-5 locations for CSD\n",
      "Using 2 jobs\n"
     ]
    },
    {
     "name": "stderr",
     "output_type": "stream",
     "text": [
      "[Parallel(n_jobs=2)]: Using backend LokyBackend with 2 concurrent workers.\n"
     ]
    },
    {
     "name": "stdout",
     "output_type": "stream",
     "text": [
      "Filtering  at 10.42 Hz\n",
      "Reduction order for nice/marker/SymbolicMutualInformation/default: ['channels_y', 'channels']\n",
      "Autodetected number of jobs 24\n",
      "Effective window size : 16.384 (s)\n"
     ]
    },
    {
     "name": "stderr",
     "output_type": "stream",
     "text": [
      "[Parallel(n_jobs=2)]: Done  18 tasks      | elapsed:    1.7s\n",
      "[Parallel(n_jobs=2)]: Done  27 out of  27 | elapsed:    1.7s finished\n",
      "[Parallel(n_jobs=24)]: Using backend LokyBackend with 24 concurrent workers.\n",
      "[Parallel(n_jobs=24)]: Done   6 out of  24 | elapsed:    3.4s remaining:   10.3s\n",
      "[Parallel(n_jobs=24)]: Done  11 out of  24 | elapsed:    3.5s remaining:    4.1s\n",
      "[Parallel(n_jobs=24)]: Done  16 out of  24 | elapsed:    3.6s remaining:    1.8s\n",
      "[Parallel(n_jobs=24)]: Done  21 out of  24 | elapsed:    3.6s remaining:    0.5s\n"
     ]
    },
    {
     "name": "stdout",
     "output_type": "stream",
     "text": [
      "Reduction order for nice/marker/PowerSpectralDensity/alpha: ['frequency', 'channels']\n",
      "Reduction order for nice/marker/PowerSpectralDensity/alpha: ['frequency', 'channels']\n",
      "Reduction order for nice/marker/PowerSpectralDensity/delta: ['frequency', 'channels']\n",
      "Reduction order for nice/marker/PowerSpectralDensity/delta: ['frequency', 'channels']\n",
      "Reduction order for nice/marker/PowerSpectralDensity/theta: ['frequency', 'channels']\n",
      "Reduction order for nice/marker/PowerSpectralDensity/theta: ['frequency', 'channels']\n",
      "Reduction order for nice/marker/PowerSpectralDensity/gamma: ['frequency', 'channels']\n",
      "Reduction order for nice/marker/PowerSpectralDensity/theta: ['frequency', 'channels']\n",
      "Reduction order for nice/marker/PowerSpectralDensity/beta: ['frequency', 'channels']\n",
      "Reduction order for nice/marker/PowerSpectralDensity/beta: ['frequency', 'channels']\n",
      "Running KolmogorovComplexity\n",
      "Elapsed time 0.015505552291870117 sec\n",
      "Reduction order for nice/marker/KolmogorovComplexity/default: ['channels']\n",
      "Filtering  at 10.42 Hz\n",
      "Performing symbolic transformation\n"
     ]
    },
    {
     "name": "stderr",
     "output_type": "stream",
     "text": [
      "[Parallel(n_jobs=24)]: Done  24 out of  24 | elapsed:    3.7s finished\n"
     ]
    },
    {
     "name": "stdout",
     "output_type": "stream",
     "text": [
      "Reduction order for nice/marker/PermutationEntropy/default: ['channels']\n",
      "Autodetected number of jobs 2\n",
      "Computing CSD\n",
      "Using 10-5 locations for CSD\n",
      "Using 2 jobs\n"
     ]
    },
    {
     "name": "stderr",
     "output_type": "stream",
     "text": [
      "[Parallel(n_jobs=2)]: Using backend LokyBackend with 2 concurrent workers.\n"
     ]
    },
    {
     "name": "stdout",
     "output_type": "stream",
     "text": [
      "Filtering  at 10.42 Hz\n",
      "Reduction order for nice/marker/SymbolicMutualInformation/default: ['channels_y', 'channels']\n",
      "Reading /media/nicolas.bruno/63f8a366-34b7-4896-a7ce-b5fb4ee78535/Nico/MW_eeg_data/minmarker/VP27/VP27_evoked_ar_clean_epo.fif ...\n",
      "    Found the data of interest:\n",
      "        t =    -200.00 ...     600.00 ms\n",
      "        0 CTF compensation matrices available\n",
      "Not setting metadata\n",
      "Not setting metadata\n",
      "123 matching events found\n",
      "No baseline correction applied\n",
      "0 projection items activated\n",
      "Autodetected number of jobs 24\n",
      "Effective window size : 16.384 (s)\n"
     ]
    },
    {
     "name": "stderr",
     "output_type": "stream",
     "text": [
      "[Parallel(n_jobs=2)]: Done  12 out of  12 | elapsed:    1.7s finished\n",
      "[Parallel(n_jobs=24)]: Using backend LokyBackend with 24 concurrent workers.\n",
      "[Parallel(n_jobs=24)]: Done   6 out of  24 | elapsed:    3.4s remaining:   10.3s\n",
      "[Parallel(n_jobs=24)]: Done  11 out of  24 | elapsed:    3.5s remaining:    4.2s\n",
      "[Parallel(n_jobs=24)]: Done  16 out of  24 | elapsed:    3.6s remaining:    1.8s\n"
     ]
    },
    {
     "name": "stdout",
     "output_type": "stream",
     "text": [
      "Reduction order for nice/marker/PowerSpectralDensity/alpha: ['frequency', 'channels']\n",
      "Reduction order for nice/marker/PowerSpectralDensity/alpha: ['frequency', 'channels']\n",
      "Reduction order for nice/marker/PowerSpectralDensity/delta: ['frequency', 'channels']\n",
      "Reduction order for nice/marker/PowerSpectralDensity/delta: ['frequency', 'channels']\n",
      "Reduction order for nice/marker/PowerSpectralDensity/theta: ['frequency', 'channels']\n",
      "Reduction order for nice/marker/PowerSpectralDensity/theta: ['frequency', 'channels']\n",
      "Reduction order for nice/marker/PowerSpectralDensity/gamma: ['frequency', 'channels']\n",
      "Reduction order for nice/marker/PowerSpectralDensity/theta: ['frequency', 'channels']\n",
      "Reduction order for nice/marker/PowerSpectralDensity/beta: ['frequency', 'channels']\n",
      "Reduction order for nice/marker/PowerSpectralDensity/beta: ['frequency', 'channels']\n",
      "Running KolmogorovComplexity\n",
      "Elapsed time 0.023617982864379883 sec\n",
      "Reduction order for nice/marker/KolmogorovComplexity/default: ['channels']\n",
      "Filtering  at 10.42 Hz\n",
      "Performing symbolic transformation\n"
     ]
    },
    {
     "name": "stderr",
     "output_type": "stream",
     "text": [
      "[Parallel(n_jobs=24)]: Done  21 out of  24 | elapsed:    3.7s remaining:    0.5s\n",
      "[Parallel(n_jobs=24)]: Done  24 out of  24 | elapsed:    3.8s finished\n",
      "/home/nicolas.bruno/anaconda3/lib/python3.7/site-packages/nice-0.1.dev0-py3.7.egg/nice/markers/spectral.py:128: RuntimeWarning: invalid value encountered in true_divide\n",
      "  self.data_norm_ = self.data_ / self.data_.sum(axis=-1)[..., None]\n",
      "/home/nicolas.bruno/anaconda3/lib/python3.7/site-packages/nice-0.1.dev0-py3.7.egg/nice/markers/spectral.py:220: RuntimeWarning: divide by zero encountered in log10\n",
      "  out = 10 * np.log10(out)\n"
     ]
    },
    {
     "name": "stdout",
     "output_type": "stream",
     "text": [
      "Reduction order for nice/marker/PermutationEntropy/default: ['channels']\n",
      "Autodetected number of jobs 2\n",
      "Computing CSD\n",
      "Using 10-5 locations for CSD\n",
      "Using 2 jobs\n"
     ]
    },
    {
     "name": "stderr",
     "output_type": "stream",
     "text": [
      "/home/nicolas.bruno/anaconda3/lib/python3.7/site-packages/nice-0.1.dev0-py3.7.egg/nice/algorithms/information_theory/permutation_entropy.py:75: RuntimeWarning: divide by zero encountered in log\n",
      "  pe = np.nan_to_num(-np.nansum(count * np.log(count), axis=1))\n",
      "/home/nicolas.bruno/anaconda3/lib/python3.7/site-packages/nice-0.1.dev0-py3.7.egg/nice/algorithms/information_theory/permutation_entropy.py:75: RuntimeWarning: invalid value encountered in multiply\n",
      "  pe = np.nan_to_num(-np.nansum(count * np.log(count), axis=1))\n",
      "[Parallel(n_jobs=2)]: Using backend LokyBackend with 2 concurrent workers.\n"
     ]
    },
    {
     "name": "stdout",
     "output_type": "stream",
     "text": [
      "Filtering  at 10.42 Hz\n",
      "Reduction order for nice/marker/SymbolicMutualInformation/default: ['channels_y', 'channels']\n",
      "Autodetected number of jobs 24\n",
      "Effective window size : 16.384 (s)\n"
     ]
    },
    {
     "name": "stderr",
     "output_type": "stream",
     "text": [
      "[Parallel(n_jobs=2)]: Done  16 tasks      | elapsed:    1.7s\n",
      "[Parallel(n_jobs=2)]: Done  17 out of  17 | elapsed:    1.7s finished\n",
      "[Parallel(n_jobs=24)]: Using backend LokyBackend with 24 concurrent workers.\n",
      "[Parallel(n_jobs=24)]: Done   6 out of  24 | elapsed:    3.5s remaining:   10.4s\n",
      "[Parallel(n_jobs=24)]: Done  11 out of  24 | elapsed:    3.6s remaining:    4.2s\n",
      "[Parallel(n_jobs=24)]: Done  16 out of  24 | elapsed:    3.6s remaining:    1.8s\n"
     ]
    },
    {
     "name": "stdout",
     "output_type": "stream",
     "text": [
      "Reduction order for nice/marker/PowerSpectralDensity/alpha: ['frequency', 'channels']\n",
      "Reduction order for nice/marker/PowerSpectralDensity/alpha: ['frequency', 'channels']\n",
      "Reduction order for nice/marker/PowerSpectralDensity/delta: ['frequency', 'channels']\n",
      "Reduction order for nice/marker/PowerSpectralDensity/delta: ['frequency', 'channels']\n",
      "Reduction order for nice/marker/PowerSpectralDensity/theta: ['frequency', 'channels']\n",
      "Reduction order for nice/marker/PowerSpectralDensity/theta: ['frequency', 'channels']\n",
      "Reduction order for nice/marker/PowerSpectralDensity/gamma: ['frequency', 'channels']\n",
      "Reduction order for nice/marker/PowerSpectralDensity/theta: ['frequency', 'channels']\n",
      "Reduction order for nice/marker/PowerSpectralDensity/beta: ['frequency', 'channels']\n",
      "Reduction order for nice/marker/PowerSpectralDensity/beta: ['frequency', 'channels']\n",
      "Running KolmogorovComplexity\n",
      "Elapsed time 0.04682135581970215 sec\n",
      "Reduction order for nice/marker/KolmogorovComplexity/default: ['channels']\n",
      "Filtering  at 10.42 Hz\n"
     ]
    },
    {
     "name": "stderr",
     "output_type": "stream",
     "text": [
      "[Parallel(n_jobs=24)]: Done  21 out of  24 | elapsed:    3.7s remaining:    0.5s\n",
      "[Parallel(n_jobs=24)]: Done  24 out of  24 | elapsed:    3.8s finished\n"
     ]
    },
    {
     "name": "stdout",
     "output_type": "stream",
     "text": [
      "Performing symbolic transformation\n",
      "Reduction order for nice/marker/PermutationEntropy/default: ['channels']\n",
      "Autodetected number of jobs 2\n",
      "Computing CSD\n",
      "Using 10-5 locations for CSD\n",
      "Using 2 jobs\n"
     ]
    },
    {
     "name": "stderr",
     "output_type": "stream",
     "text": [
      "[Parallel(n_jobs=2)]: Using backend LokyBackend with 2 concurrent workers.\n"
     ]
    },
    {
     "name": "stdout",
     "output_type": "stream",
     "text": [
      "Filtering  at 10.42 Hz\n"
     ]
    },
    {
     "name": "stderr",
     "output_type": "stream",
     "text": [
      "[Parallel(n_jobs=2)]: Done  18 tasks      | elapsed:    1.6s\n",
      "[Parallel(n_jobs=2)]: Done  34 out of  34 | elapsed:    1.7s finished\n"
     ]
    },
    {
     "name": "stdout",
     "output_type": "stream",
     "text": [
      "Reduction order for nice/marker/SymbolicMutualInformation/default: ['channels_y', 'channels']\n",
      "Reading /media/nicolas.bruno/63f8a366-34b7-4896-a7ce-b5fb4ee78535/Nico/MW_eeg_data/minmarker/VP28/VP28_evoked_ar_clean_epo.fif ...\n",
      "    Found the data of interest:\n",
      "        t =    -200.00 ...     600.00 ms\n",
      "        0 CTF compensation matrices available\n",
      "Not setting metadata\n",
      "Not setting metadata\n",
      "134 matching events found\n",
      "No baseline correction applied\n",
      "0 projection items activated\n",
      "Autodetected number of jobs 24\n",
      "Effective window size : 16.384 (s)\n"
     ]
    },
    {
     "name": "stderr",
     "output_type": "stream",
     "text": [
      "[Parallel(n_jobs=24)]: Using backend LokyBackend with 24 concurrent workers.\n",
      "[Parallel(n_jobs=24)]: Done   6 out of  24 | elapsed:    3.4s remaining:   10.2s\n",
      "[Parallel(n_jobs=24)]: Done  11 out of  24 | elapsed:    3.4s remaining:    4.1s\n",
      "[Parallel(n_jobs=24)]: Done  16 out of  24 | elapsed:    3.5s remaining:    1.8s\n",
      "[Parallel(n_jobs=24)]: Done  21 out of  24 | elapsed:    3.6s remaining:    0.5s\n"
     ]
    },
    {
     "name": "stdout",
     "output_type": "stream",
     "text": [
      "Reduction order for nice/marker/PowerSpectralDensity/alpha: ['frequency', 'channels']\n",
      "Reduction order for nice/marker/PowerSpectralDensity/alpha: ['frequency', 'channels']\n",
      "Reduction order for nice/marker/PowerSpectralDensity/delta: ['frequency', 'channels']\n",
      "Reduction order for nice/marker/PowerSpectralDensity/delta: ['frequency', 'channels']\n",
      "Reduction order for nice/marker/PowerSpectralDensity/theta: ['frequency', 'channels']\n",
      "Reduction order for nice/marker/PowerSpectralDensity/theta: ['frequency', 'channels']\n",
      "Reduction order for nice/marker/PowerSpectralDensity/gamma: ['frequency', 'channels']\n",
      "Reduction order for nice/marker/PowerSpectralDensity/theta: ['frequency', 'channels']\n",
      "Reduction order for nice/marker/PowerSpectralDensity/beta: ['frequency', 'channels']\n",
      "Reduction order for nice/marker/PowerSpectralDensity/beta: ['frequency', 'channels']\n",
      "Running KolmogorovComplexity\n",
      "Elapsed time 0.006311178207397461 sec\n",
      "Reduction order for nice/marker/KolmogorovComplexity/default: ['channels']\n",
      "Filtering  at 10.42 Hz\n",
      "Performing symbolic transformation\n"
     ]
    },
    {
     "name": "stderr",
     "output_type": "stream",
     "text": [
      "[Parallel(n_jobs=24)]: Done  24 out of  24 | elapsed:    3.6s finished\n",
      "/home/nicolas.bruno/anaconda3/lib/python3.7/site-packages/nice-0.1.dev0-py3.7.egg/nice/markers/spectral.py:128: RuntimeWarning: invalid value encountered in true_divide\n",
      "  self.data_norm_ = self.data_ / self.data_.sum(axis=-1)[..., None]\n",
      "/home/nicolas.bruno/anaconda3/lib/python3.7/site-packages/nice-0.1.dev0-py3.7.egg/nice/markers/spectral.py:220: RuntimeWarning: divide by zero encountered in log10\n",
      "  out = 10 * np.log10(out)\n"
     ]
    },
    {
     "name": "stdout",
     "output_type": "stream",
     "text": [
      "Reduction order for nice/marker/PermutationEntropy/default: ['channels']\n",
      "Autodetected number of jobs 2\n",
      "Computing CSD\n",
      "Using 10-5 locations for CSD\n",
      "Using 2 jobs\n"
     ]
    },
    {
     "name": "stderr",
     "output_type": "stream",
     "text": [
      "/home/nicolas.bruno/anaconda3/lib/python3.7/site-packages/nice-0.1.dev0-py3.7.egg/nice/algorithms/information_theory/permutation_entropy.py:75: RuntimeWarning: divide by zero encountered in log\n",
      "  pe = np.nan_to_num(-np.nansum(count * np.log(count), axis=1))\n",
      "/home/nicolas.bruno/anaconda3/lib/python3.7/site-packages/nice-0.1.dev0-py3.7.egg/nice/algorithms/information_theory/permutation_entropy.py:75: RuntimeWarning: invalid value encountered in multiply\n",
      "  pe = np.nan_to_num(-np.nansum(count * np.log(count), axis=1))\n",
      "[Parallel(n_jobs=2)]: Using backend LokyBackend with 2 concurrent workers.\n"
     ]
    },
    {
     "name": "stdout",
     "output_type": "stream",
     "text": [
      "Filtering  at 10.42 Hz\n",
      "Reduction order for nice/marker/SymbolicMutualInformation/default: ['channels_y', 'channels']\n",
      "Autodetected number of jobs 24\n",
      "Effective window size : 16.384 (s)\n"
     ]
    },
    {
     "name": "stderr",
     "output_type": "stream",
     "text": [
      "[Parallel(n_jobs=2)]: Done   5 out of   5 | elapsed:    1.6s finished\n",
      "[Parallel(n_jobs=24)]: Using backend LokyBackend with 24 concurrent workers.\n",
      "[Parallel(n_jobs=24)]: Done   6 out of  24 | elapsed:    3.4s remaining:   10.1s\n",
      "[Parallel(n_jobs=24)]: Done  11 out of  24 | elapsed:    3.4s remaining:    4.0s\n",
      "[Parallel(n_jobs=24)]: Done  16 out of  24 | elapsed:    3.5s remaining:    1.8s\n"
     ]
    },
    {
     "name": "stdout",
     "output_type": "stream",
     "text": [
      "Reduction order for nice/marker/PowerSpectralDensity/alpha: ['frequency', 'channels']\n",
      "Reduction order for nice/marker/PowerSpectralDensity/alpha: ['frequency', 'channels']\n",
      "Reduction order for nice/marker/PowerSpectralDensity/delta: ['frequency', 'channels']\n",
      "Reduction order for nice/marker/PowerSpectralDensity/delta: ['frequency', 'channels']\n",
      "Reduction order for nice/marker/PowerSpectralDensity/theta: ['frequency', 'channels']\n",
      "Reduction order for nice/marker/PowerSpectralDensity/theta: ['frequency', 'channels']\n",
      "Reduction order for nice/marker/PowerSpectralDensity/gamma: ['frequency', 'channels']\n",
      "Reduction order for nice/marker/PowerSpectralDensity/theta: ['frequency', 'channels']\n",
      "Reduction order for nice/marker/PowerSpectralDensity/beta: ['frequency', 'channels']\n",
      "Reduction order for nice/marker/PowerSpectralDensity/beta: ['frequency', 'channels']\n",
      "Running KolmogorovComplexity\n",
      "Elapsed time 0.022150278091430664 sec\n",
      "Reduction order for nice/marker/KolmogorovComplexity/default: ['channels']\n",
      "Filtering  at 10.42 Hz\n",
      "Performing symbolic transformation\n"
     ]
    },
    {
     "name": "stderr",
     "output_type": "stream",
     "text": [
      "[Parallel(n_jobs=24)]: Done  21 out of  24 | elapsed:    3.6s remaining:    0.5s\n",
      "[Parallel(n_jobs=24)]: Done  24 out of  24 | elapsed:    3.7s finished\n"
     ]
    },
    {
     "name": "stdout",
     "output_type": "stream",
     "text": [
      "Reduction order for nice/marker/PermutationEntropy/default: ['channels']\n",
      "Autodetected number of jobs 2\n",
      "Computing CSD\n",
      "Using 10-5 locations for CSD\n",
      "Using 2 jobs\n"
     ]
    },
    {
     "name": "stderr",
     "output_type": "stream",
     "text": [
      "[Parallel(n_jobs=2)]: Using backend LokyBackend with 2 concurrent workers.\n"
     ]
    },
    {
     "name": "stdout",
     "output_type": "stream",
     "text": [
      "Filtering  at 10.42 Hz\n",
      "Reduction order for nice/marker/SymbolicMutualInformation/default: ['channels_y', 'channels']\n",
      "Autodetected number of jobs 24\n",
      "Effective window size : 16.384 (s)\n"
     ]
    },
    {
     "name": "stderr",
     "output_type": "stream",
     "text": [
      "[Parallel(n_jobs=2)]: Done  16 tasks      | elapsed:    1.7s\n",
      "[Parallel(n_jobs=2)]: Done  17 out of  17 | elapsed:    1.7s finished\n",
      "[Parallel(n_jobs=24)]: Using backend LokyBackend with 24 concurrent workers.\n",
      "[Parallel(n_jobs=24)]: Done   6 out of  24 | elapsed:    3.4s remaining:   10.3s\n",
      "[Parallel(n_jobs=24)]: Done  11 out of  24 | elapsed:    3.5s remaining:    4.2s\n",
      "[Parallel(n_jobs=24)]: Done  16 out of  24 | elapsed:    3.6s remaining:    1.8s\n"
     ]
    },
    {
     "name": "stdout",
     "output_type": "stream",
     "text": [
      "Reduction order for nice/marker/PowerSpectralDensity/alpha: ['frequency', 'channels']\n",
      "Reduction order for nice/marker/PowerSpectralDensity/alpha: ['frequency', 'channels']\n",
      "Reduction order for nice/marker/PowerSpectralDensity/delta: ['frequency', 'channels']\n",
      "Reduction order for nice/marker/PowerSpectralDensity/delta: ['frequency', 'channels']\n",
      "Reduction order for nice/marker/PowerSpectralDensity/theta: ['frequency', 'channels']\n",
      "Reduction order for nice/marker/PowerSpectralDensity/theta: ['frequency', 'channels']\n",
      "Reduction order for nice/marker/PowerSpectralDensity/gamma: ['frequency', 'channels']\n",
      "Reduction order for nice/marker/PowerSpectralDensity/theta: ['frequency', 'channels']\n",
      "Reduction order for nice/marker/PowerSpectralDensity/beta: ['frequency', 'channels']\n",
      "Reduction order for nice/marker/PowerSpectralDensity/beta: ['frequency', 'channels']\n",
      "Running KolmogorovComplexity\n",
      "Elapsed time 0.02368307113647461 sec\n",
      "Reduction order for nice/marker/KolmogorovComplexity/default: ['channels']\n",
      "Filtering  at 10.42 Hz\n",
      "Performing symbolic transformation\n"
     ]
    },
    {
     "name": "stderr",
     "output_type": "stream",
     "text": [
      "[Parallel(n_jobs=24)]: Done  21 out of  24 | elapsed:    3.7s remaining:    0.5s\n",
      "[Parallel(n_jobs=24)]: Done  24 out of  24 | elapsed:    3.8s finished\n"
     ]
    },
    {
     "name": "stdout",
     "output_type": "stream",
     "text": [
      "Reduction order for nice/marker/PermutationEntropy/default: ['channels']\n",
      "Autodetected number of jobs 2\n",
      "Computing CSD\n",
      "Using 10-5 locations for CSD\n",
      "Using 2 jobs\n"
     ]
    },
    {
     "name": "stderr",
     "output_type": "stream",
     "text": [
      "[Parallel(n_jobs=2)]: Using backend LokyBackend with 2 concurrent workers.\n"
     ]
    },
    {
     "name": "stdout",
     "output_type": "stream",
     "text": [
      "Filtering  at 10.42 Hz\n",
      "Reduction order for nice/marker/SymbolicMutualInformation/default: ['channels_y', 'channels']\n",
      "Autodetected number of jobs 24\n",
      "Effective window size : 16.384 (s)\n"
     ]
    },
    {
     "name": "stderr",
     "output_type": "stream",
     "text": [
      "[Parallel(n_jobs=2)]: Done  16 tasks      | elapsed:    1.7s\n",
      "[Parallel(n_jobs=2)]: Done  17 out of  17 | elapsed:    1.7s finished\n",
      "[Parallel(n_jobs=24)]: Using backend LokyBackend with 24 concurrent workers.\n",
      "[Parallel(n_jobs=24)]: Done   6 out of  24 | elapsed:    3.4s remaining:   10.1s\n",
      "[Parallel(n_jobs=24)]: Done  11 out of  24 | elapsed:    3.4s remaining:    4.1s\n",
      "[Parallel(n_jobs=24)]: Done  16 out of  24 | elapsed:    3.5s remaining:    1.8s\n"
     ]
    },
    {
     "name": "stdout",
     "output_type": "stream",
     "text": [
      "Reduction order for nice/marker/PowerSpectralDensity/alpha: ['frequency', 'channels']\n",
      "Reduction order for nice/marker/PowerSpectralDensity/alpha: ['frequency', 'channels']\n",
      "Reduction order for nice/marker/PowerSpectralDensity/delta: ['frequency', 'channels']\n",
      "Reduction order for nice/marker/PowerSpectralDensity/delta: ['frequency', 'channels']\n",
      "Reduction order for nice/marker/PowerSpectralDensity/theta: ['frequency', 'channels']\n",
      "Reduction order for nice/marker/PowerSpectralDensity/theta: ['frequency', 'channels']\n",
      "Reduction order for nice/marker/PowerSpectralDensity/gamma: ['frequency', 'channels']\n",
      "Reduction order for nice/marker/PowerSpectralDensity/theta: ['frequency', 'channels']\n",
      "Reduction order for nice/marker/PowerSpectralDensity/beta: ['frequency', 'channels']\n",
      "Reduction order for nice/marker/PowerSpectralDensity/beta: ['frequency', 'channels']\n",
      "Running KolmogorovComplexity\n",
      "Elapsed time 0.02069544792175293 sec\n",
      "Reduction order for nice/marker/KolmogorovComplexity/default: ['channels']\n",
      "Filtering  at 10.42 Hz\n",
      "Performing symbolic transformation\n"
     ]
    },
    {
     "name": "stderr",
     "output_type": "stream",
     "text": [
      "[Parallel(n_jobs=24)]: Done  21 out of  24 | elapsed:    3.6s remaining:    0.5s\n",
      "[Parallel(n_jobs=24)]: Done  24 out of  24 | elapsed:    3.6s finished\n"
     ]
    },
    {
     "name": "stdout",
     "output_type": "stream",
     "text": [
      "Reduction order for nice/marker/PermutationEntropy/default: ['channels']\n",
      "Autodetected number of jobs 2\n",
      "Computing CSD\n",
      "Using 10-5 locations for CSD\n",
      "Using 2 jobs\n"
     ]
    },
    {
     "name": "stderr",
     "output_type": "stream",
     "text": [
      "[Parallel(n_jobs=2)]: Using backend LokyBackend with 2 concurrent workers.\n"
     ]
    },
    {
     "name": "stdout",
     "output_type": "stream",
     "text": [
      "Filtering  at 10.42 Hz\n",
      "Reduction order for nice/marker/SymbolicMutualInformation/default: ['channels_y', 'channels']\n",
      "Reading /media/nicolas.bruno/63f8a366-34b7-4896-a7ce-b5fb4ee78535/Nico/MW_eeg_data/minmarker/VP29/VP29_evoked_ar_clean_epo.fif ...\n",
      "    Found the data of interest:\n",
      "        t =    -200.00 ...     600.00 ms\n",
      "        0 CTF compensation matrices available\n",
      "Not setting metadata\n",
      "Not setting metadata\n",
      "287 matching events found\n",
      "No baseline correction applied\n",
      "0 projection items activated\n"
     ]
    },
    {
     "name": "stderr",
     "output_type": "stream",
     "text": [
      "[Parallel(n_jobs=2)]: Done  16 out of  16 | elapsed:    1.6s finished\n"
     ]
    },
    {
     "name": "stdout",
     "output_type": "stream",
     "text": [
      "Autodetected number of jobs 24\n",
      "Effective window size : 16.384 (s)\n"
     ]
    },
    {
     "name": "stderr",
     "output_type": "stream",
     "text": [
      "[Parallel(n_jobs=24)]: Using backend LokyBackend with 24 concurrent workers.\n",
      "[Parallel(n_jobs=24)]: Done   6 out of  24 | elapsed:    3.5s remaining:   10.5s\n",
      "[Parallel(n_jobs=24)]: Done  11 out of  24 | elapsed:    3.6s remaining:    4.2s\n",
      "[Parallel(n_jobs=24)]: Done  16 out of  24 | elapsed:    3.6s remaining:    1.8s\n",
      "[Parallel(n_jobs=24)]: Done  21 out of  24 | elapsed:    3.7s remaining:    0.5s\n"
     ]
    },
    {
     "name": "stdout",
     "output_type": "stream",
     "text": [
      "Reduction order for nice/marker/PowerSpectralDensity/alpha: ['frequency', 'channels']\n",
      "Reduction order for nice/marker/PowerSpectralDensity/alpha: ['frequency', 'channels']\n",
      "Reduction order for nice/marker/PowerSpectralDensity/delta: ['frequency', 'channels']\n",
      "Reduction order for nice/marker/PowerSpectralDensity/delta: ['frequency', 'channels']\n",
      "Reduction order for nice/marker/PowerSpectralDensity/theta: ['frequency', 'channels']\n",
      "Reduction order for nice/marker/PowerSpectralDensity/theta: ['frequency', 'channels']\n",
      "Reduction order for nice/marker/PowerSpectralDensity/gamma: ['frequency', 'channels']\n",
      "Reduction order for nice/marker/PowerSpectralDensity/theta: ['frequency', 'channels']\n",
      "Reduction order for nice/marker/PowerSpectralDensity/beta: ['frequency', 'channels']\n",
      "Reduction order for nice/marker/PowerSpectralDensity/beta: ['frequency', 'channels']\n",
      "Running KolmogorovComplexity\n",
      "Elapsed time 0.0383908748626709 sec\n",
      "Reduction order for nice/marker/KolmogorovComplexity/default: ['channels']\n",
      "Filtering  at 10.42 Hz\n",
      "Performing symbolic transformation\n"
     ]
    },
    {
     "name": "stderr",
     "output_type": "stream",
     "text": [
      "[Parallel(n_jobs=24)]: Done  24 out of  24 | elapsed:    3.7s finished\n",
      "/home/nicolas.bruno/anaconda3/lib/python3.7/site-packages/nice-0.1.dev0-py3.7.egg/nice/markers/spectral.py:128: RuntimeWarning: invalid value encountered in true_divide\n",
      "  self.data_norm_ = self.data_ / self.data_.sum(axis=-1)[..., None]\n",
      "/home/nicolas.bruno/anaconda3/lib/python3.7/site-packages/nice-0.1.dev0-py3.7.egg/nice/markers/spectral.py:220: RuntimeWarning: divide by zero encountered in log10\n",
      "  out = 10 * np.log10(out)\n"
     ]
    },
    {
     "name": "stdout",
     "output_type": "stream",
     "text": [
      "Reduction order for nice/marker/PermutationEntropy/default: ['channels']\n",
      "Autodetected number of jobs 2\n",
      "Computing CSD\n",
      "Using 10-5 locations for CSD\n",
      "Using 2 jobs\n"
     ]
    },
    {
     "name": "stderr",
     "output_type": "stream",
     "text": [
      "/home/nicolas.bruno/anaconda3/lib/python3.7/site-packages/nice-0.1.dev0-py3.7.egg/nice/algorithms/information_theory/permutation_entropy.py:75: RuntimeWarning: divide by zero encountered in log\n",
      "  pe = np.nan_to_num(-np.nansum(count * np.log(count), axis=1))\n",
      "/home/nicolas.bruno/anaconda3/lib/python3.7/site-packages/nice-0.1.dev0-py3.7.egg/nice/algorithms/information_theory/permutation_entropy.py:75: RuntimeWarning: invalid value encountered in multiply\n",
      "  pe = np.nan_to_num(-np.nansum(count * np.log(count), axis=1))\n",
      "[Parallel(n_jobs=2)]: Using backend LokyBackend with 2 concurrent workers.\n"
     ]
    },
    {
     "name": "stdout",
     "output_type": "stream",
     "text": [
      "Filtering  at 10.42 Hz\n",
      "Reduction order for nice/marker/SymbolicMutualInformation/default: ['channels_y', 'channels']\n",
      "Autodetected number of jobs 24\n",
      "Effective window size : 16.384 (s)\n"
     ]
    },
    {
     "name": "stderr",
     "output_type": "stream",
     "text": [
      "[Parallel(n_jobs=2)]: Done  18 tasks      | elapsed:    1.7s\n",
      "[Parallel(n_jobs=2)]: Done  27 out of  27 | elapsed:    1.7s finished\n",
      "[Parallel(n_jobs=24)]: Using backend LokyBackend with 24 concurrent workers.\n",
      "[Parallel(n_jobs=24)]: Done   6 out of  24 | elapsed:    3.5s remaining:   10.6s\n",
      "[Parallel(n_jobs=24)]: Done  11 out of  24 | elapsed:    3.6s remaining:    4.3s\n",
      "[Parallel(n_jobs=24)]: Done  16 out of  24 | elapsed:    3.7s remaining:    1.8s\n"
     ]
    },
    {
     "name": "stdout",
     "output_type": "stream",
     "text": [
      "Reduction order for nice/marker/PowerSpectralDensity/alpha: ['frequency', 'channels']\n",
      "Reduction order for nice/marker/PowerSpectralDensity/alpha: ['frequency', 'channels']\n",
      "Reduction order for nice/marker/PowerSpectralDensity/delta: ['frequency', 'channels']\n",
      "Reduction order for nice/marker/PowerSpectralDensity/delta: ['frequency', 'channels']\n",
      "Reduction order for nice/marker/PowerSpectralDensity/theta: ['frequency', 'channels']\n",
      "Reduction order for nice/marker/PowerSpectralDensity/theta: ['frequency', 'channels']\n",
      "Reduction order for nice/marker/PowerSpectralDensity/gamma: ['frequency', 'channels']\n",
      "Reduction order for nice/marker/PowerSpectralDensity/theta: ['frequency', 'channels']\n",
      "Reduction order for nice/marker/PowerSpectralDensity/beta: ['frequency', 'channels']\n",
      "Reduction order for nice/marker/PowerSpectralDensity/beta: ['frequency', 'channels']\n",
      "Running KolmogorovComplexity\n",
      "Elapsed time 0.09715652465820312 sec\n"
     ]
    },
    {
     "name": "stderr",
     "output_type": "stream",
     "text": [
      "[Parallel(n_jobs=24)]: Done  21 out of  24 | elapsed:    3.7s remaining:    0.5s\n",
      "[Parallel(n_jobs=24)]: Done  24 out of  24 | elapsed:    3.8s finished\n"
     ]
    },
    {
     "name": "stdout",
     "output_type": "stream",
     "text": [
      "Reduction order for nice/marker/KolmogorovComplexity/default: ['channels']\n",
      "Filtering  at 10.42 Hz\n",
      "Performing symbolic transformation\n",
      "Reduction order for nice/marker/PermutationEntropy/default: ['channels']\n",
      "Autodetected number of jobs 2\n",
      "Computing CSD\n",
      "Using 10-5 locations for CSD\n",
      "Using 2 jobs\n"
     ]
    },
    {
     "name": "stderr",
     "output_type": "stream",
     "text": [
      "[Parallel(n_jobs=2)]: Using backend LokyBackend with 2 concurrent workers.\n"
     ]
    },
    {
     "name": "stdout",
     "output_type": "stream",
     "text": [
      "Filtering  at 10.42 Hz\n"
     ]
    },
    {
     "name": "stderr",
     "output_type": "stream",
     "text": [
      "[Parallel(n_jobs=2)]: Done  16 tasks      | elapsed:    1.6s\n",
      "[Parallel(n_jobs=2)]: Done  69 out of  69 | elapsed:    1.7s finished\n"
     ]
    },
    {
     "name": "stdout",
     "output_type": "stream",
     "text": [
      "Reduction order for nice/marker/SymbolicMutualInformation/default: ['channels_y', 'channels']\n",
      "Autodetected number of jobs 24\n",
      "Effective window size : 16.384 (s)\n"
     ]
    },
    {
     "name": "stderr",
     "output_type": "stream",
     "text": [
      "[Parallel(n_jobs=24)]: Using backend LokyBackend with 24 concurrent workers.\n",
      "[Parallel(n_jobs=24)]: Done   6 out of  24 | elapsed:    3.4s remaining:   10.3s\n",
      "[Parallel(n_jobs=24)]: Done  11 out of  24 | elapsed:    3.5s remaining:    4.1s\n",
      "[Parallel(n_jobs=24)]: Done  16 out of  24 | elapsed:    3.6s remaining:    1.8s\n"
     ]
    },
    {
     "name": "stdout",
     "output_type": "stream",
     "text": [
      "Reduction order for nice/marker/PowerSpectralDensity/alpha: ['frequency', 'channels']\n",
      "Reduction order for nice/marker/PowerSpectralDensity/alpha: ['frequency', 'channels']\n",
      "Reduction order for nice/marker/PowerSpectralDensity/delta: ['frequency', 'channels']\n",
      "Reduction order for nice/marker/PowerSpectralDensity/delta: ['frequency', 'channels']\n",
      "Reduction order for nice/marker/PowerSpectralDensity/theta: ['frequency', 'channels']\n",
      "Reduction order for nice/marker/PowerSpectralDensity/theta: ['frequency', 'channels']\n",
      "Reduction order for nice/marker/PowerSpectralDensity/gamma: ['frequency', 'channels']\n",
      "Reduction order for nice/marker/PowerSpectralDensity/theta: ['frequency', 'channels']\n",
      "Reduction order for nice/marker/PowerSpectralDensity/beta: ['frequency', 'channels']\n",
      "Reduction order for nice/marker/PowerSpectralDensity/beta: ['frequency', 'channels']\n",
      "Running KolmogorovComplexity\n",
      "Elapsed time 0.003456592559814453 sec\n",
      "Reduction order for nice/marker/KolmogorovComplexity/default: ['channels']\n",
      "Filtering  at 10.42 Hz\n",
      "Performing symbolic transformation\n"
     ]
    },
    {
     "name": "stderr",
     "output_type": "stream",
     "text": [
      "[Parallel(n_jobs=24)]: Done  21 out of  24 | elapsed:    3.7s remaining:    0.5s\n",
      "[Parallel(n_jobs=24)]: Done  24 out of  24 | elapsed:    3.7s finished\n"
     ]
    },
    {
     "name": "stdout",
     "output_type": "stream",
     "text": [
      "Reduction order for nice/marker/PermutationEntropy/default: ['channels']\n",
      "Autodetected number of jobs 2\n",
      "Computing CSD\n",
      "Using 10-5 locations for CSD\n",
      "Using 2 jobs\n"
     ]
    },
    {
     "name": "stderr",
     "output_type": "stream",
     "text": [
      "[Parallel(n_jobs=2)]: Using backend LokyBackend with 2 concurrent workers.\n"
     ]
    },
    {
     "name": "stdout",
     "output_type": "stream",
     "text": [
      "Filtering  at 10.42 Hz\n",
      "Reduction order for nice/marker/SymbolicMutualInformation/default: ['channels_y', 'channels']\n",
      "Reading /media/nicolas.bruno/63f8a366-34b7-4896-a7ce-b5fb4ee78535/Nico/MW_eeg_data/minmarker/VP30/VP30_evoked_ar_clean_epo.fif ...\n",
      "    Found the data of interest:\n",
      "        t =    -200.00 ...     600.00 ms\n",
      "        0 CTF compensation matrices available\n"
     ]
    },
    {
     "name": "stderr",
     "output_type": "stream",
     "text": [
      "[Parallel(n_jobs=2)]: Done   2 out of   2 | elapsed:    1.6s remaining:    0.0s\n",
      "[Parallel(n_jobs=2)]: Done   2 out of   2 | elapsed:    1.6s finished\n"
     ]
    },
    {
     "name": "stdout",
     "output_type": "stream",
     "text": [
      "Not setting metadata\n",
      "Not setting metadata\n",
      "565 matching events found\n",
      "No baseline correction applied\n",
      "0 projection items activated\n",
      "Autodetected number of jobs 24\n",
      "Effective window size : 16.384 (s)\n"
     ]
    },
    {
     "name": "stderr",
     "output_type": "stream",
     "text": [
      "[Parallel(n_jobs=24)]: Using backend LokyBackend with 24 concurrent workers.\n",
      "[Parallel(n_jobs=24)]: Done   6 out of  24 | elapsed:    4.1s remaining:   12.2s\n",
      "[Parallel(n_jobs=24)]: Done  11 out of  24 | elapsed:    4.2s remaining:    4.9s\n",
      "[Parallel(n_jobs=24)]: Done  16 out of  24 | elapsed:    4.3s remaining:    2.1s\n",
      "[Parallel(n_jobs=24)]: Done  21 out of  24 | elapsed:    4.4s remaining:    0.6s\n",
      "[Parallel(n_jobs=24)]: Done  24 out of  24 | elapsed:    4.4s finished\n"
     ]
    },
    {
     "name": "stdout",
     "output_type": "stream",
     "text": [
      "Reduction order for nice/marker/PowerSpectralDensity/alpha: ['frequency', 'channels']\n",
      "Reduction order for nice/marker/PowerSpectralDensity/alpha: ['frequency', 'channels']\n",
      "Reduction order for nice/marker/PowerSpectralDensity/delta: ['frequency', 'channels']\n",
      "Reduction order for nice/marker/PowerSpectralDensity/delta: ['frequency', 'channels']\n",
      "Reduction order for nice/marker/PowerSpectralDensity/theta: ['frequency', 'channels']\n",
      "Reduction order for nice/marker/PowerSpectralDensity/theta: ['frequency', 'channels']\n",
      "Reduction order for nice/marker/PowerSpectralDensity/gamma: ['frequency', 'channels']\n",
      "Reduction order for nice/marker/PowerSpectralDensity/theta: ['frequency', 'channels']\n",
      "Reduction order for nice/marker/PowerSpectralDensity/beta: ['frequency', 'channels']\n",
      "Reduction order for nice/marker/PowerSpectralDensity/beta: ['frequency', 'channels']\n",
      "Running KolmogorovComplexity\n",
      "Elapsed time 0.33618903160095215 sec\n"
     ]
    },
    {
     "name": "stderr",
     "output_type": "stream",
     "text": [
      "/home/nicolas.bruno/anaconda3/lib/python3.7/site-packages/nice-0.1.dev0-py3.7.egg/nice/markers/spectral.py:128: RuntimeWarning: invalid value encountered in true_divide\n",
      "  self.data_norm_ = self.data_ / self.data_.sum(axis=-1)[..., None]\n",
      "/home/nicolas.bruno/anaconda3/lib/python3.7/site-packages/nice-0.1.dev0-py3.7.egg/nice/markers/spectral.py:220: RuntimeWarning: divide by zero encountered in log10\n",
      "  out = 10 * np.log10(out)\n"
     ]
    },
    {
     "name": "stdout",
     "output_type": "stream",
     "text": [
      "Reduction order for nice/marker/KolmogorovComplexity/default: ['channels']\n",
      "Filtering  at 10.42 Hz\n",
      "Performing symbolic transformation\n",
      "Reduction order for nice/marker/PermutationEntropy/default: ['channels']\n",
      "Autodetected number of jobs 2\n",
      "Computing CSD\n",
      "Using 10-5 locations for CSD\n",
      "Using 2 jobs\n"
     ]
    },
    {
     "name": "stderr",
     "output_type": "stream",
     "text": [
      "/home/nicolas.bruno/anaconda3/lib/python3.7/site-packages/nice-0.1.dev0-py3.7.egg/nice/algorithms/information_theory/permutation_entropy.py:75: RuntimeWarning: divide by zero encountered in log\n",
      "  pe = np.nan_to_num(-np.nansum(count * np.log(count), axis=1))\n",
      "/home/nicolas.bruno/anaconda3/lib/python3.7/site-packages/nice-0.1.dev0-py3.7.egg/nice/algorithms/information_theory/permutation_entropy.py:75: RuntimeWarning: invalid value encountered in multiply\n",
      "  pe = np.nan_to_num(-np.nansum(count * np.log(count), axis=1))\n",
      "[Parallel(n_jobs=2)]: Using backend LokyBackend with 2 concurrent workers.\n",
      "[Parallel(n_jobs=2)]: Done  18 tasks      | elapsed:    1.7s\n"
     ]
    },
    {
     "name": "stdout",
     "output_type": "stream",
     "text": [
      "Filtering  at 10.42 Hz\n"
     ]
    },
    {
     "name": "stderr",
     "output_type": "stream",
     "text": [
      "[Parallel(n_jobs=2)]: Done 234 out of 234 | elapsed:    2.0s finished\n"
     ]
    },
    {
     "name": "stdout",
     "output_type": "stream",
     "text": [
      "Reduction order for nice/marker/SymbolicMutualInformation/default: ['channels_y', 'channels']\n",
      "Autodetected number of jobs 24\n",
      "Effective window size : 16.384 (s)\n"
     ]
    },
    {
     "name": "stderr",
     "output_type": "stream",
     "text": [
      "[Parallel(n_jobs=24)]: Using backend LokyBackend with 24 concurrent workers.\n",
      "[Parallel(n_jobs=24)]: Done   6 out of  24 | elapsed:    3.6s remaining:   10.7s\n",
      "[Parallel(n_jobs=24)]: Done  11 out of  24 | elapsed:    3.7s remaining:    4.3s\n",
      "[Parallel(n_jobs=24)]: Done  16 out of  24 | elapsed:    3.7s remaining:    1.9s\n"
     ]
    },
    {
     "name": "stdout",
     "output_type": "stream",
     "text": [
      "Reduction order for nice/marker/PowerSpectralDensity/alpha: ['frequency', 'channels']\n",
      "Reduction order for nice/marker/PowerSpectralDensity/alpha: ['frequency', 'channels']\n",
      "Reduction order for nice/marker/PowerSpectralDensity/delta: ['frequency', 'channels']\n",
      "Reduction order for nice/marker/PowerSpectralDensity/delta: ['frequency', 'channels']\n",
      "Reduction order for nice/marker/PowerSpectralDensity/theta: ['frequency', 'channels']\n",
      "Reduction order for nice/marker/PowerSpectralDensity/theta: ['frequency', 'channels']\n",
      "Reduction order for nice/marker/PowerSpectralDensity/gamma: ['frequency', 'channels']\n",
      "Reduction order for nice/marker/PowerSpectralDensity/theta: ['frequency', 'channels']\n",
      "Reduction order for nice/marker/PowerSpectralDensity/beta: ['frequency', 'channels']\n",
      "Reduction order for nice/marker/PowerSpectralDensity/beta: ['frequency', 'channels']\n",
      "Running KolmogorovComplexity\n",
      "Elapsed time 0.07916450500488281 sec\n"
     ]
    },
    {
     "name": "stderr",
     "output_type": "stream",
     "text": [
      "[Parallel(n_jobs=24)]: Done  21 out of  24 | elapsed:    3.8s remaining:    0.5s\n",
      "[Parallel(n_jobs=24)]: Done  24 out of  24 | elapsed:    3.9s finished\n"
     ]
    },
    {
     "name": "stdout",
     "output_type": "stream",
     "text": [
      "Reduction order for nice/marker/KolmogorovComplexity/default: ['channels']\n",
      "Filtering  at 10.42 Hz\n",
      "Performing symbolic transformation\n",
      "Reduction order for nice/marker/PermutationEntropy/default: ['channels']\n",
      "Autodetected number of jobs 2\n",
      "Computing CSD\n",
      "Using 10-5 locations for CSD\n",
      "Using 2 jobs\n"
     ]
    },
    {
     "name": "stderr",
     "output_type": "stream",
     "text": [
      "[Parallel(n_jobs=2)]: Using backend LokyBackend with 2 concurrent workers.\n"
     ]
    },
    {
     "name": "stdout",
     "output_type": "stream",
     "text": [
      "Filtering  at 10.42 Hz\n"
     ]
    },
    {
     "name": "stderr",
     "output_type": "stream",
     "text": [
      "[Parallel(n_jobs=2)]: Done  24 tasks      | elapsed:    1.7s\n",
      "[Parallel(n_jobs=2)]: Done  53 out of  53 | elapsed:    1.7s finished\n"
     ]
    },
    {
     "name": "stdout",
     "output_type": "stream",
     "text": [
      "Reduction order for nice/marker/SymbolicMutualInformation/default: ['channels_y', 'channels']\n",
      "Reading /media/nicolas.bruno/63f8a366-34b7-4896-a7ce-b5fb4ee78535/Nico/MW_eeg_data/minmarker/VP31/VP31_evoked_ar_clean_epo.fif ...\n",
      "    Found the data of interest:\n",
      "        t =    -200.00 ...     600.00 ms\n",
      "        0 CTF compensation matrices available\n",
      "Not setting metadata\n",
      "Not setting metadata\n",
      "169 matching events found\n",
      "No baseline correction applied\n",
      "0 projection items activated\n",
      "Autodetected number of jobs 24\n",
      "Effective window size : 16.384 (s)\n"
     ]
    },
    {
     "name": "stderr",
     "output_type": "stream",
     "text": [
      "[Parallel(n_jobs=24)]: Using backend LokyBackend with 24 concurrent workers.\n",
      "[Parallel(n_jobs=24)]: Done   6 out of  24 | elapsed:    3.6s remaining:   10.7s\n",
      "[Parallel(n_jobs=24)]: Done  11 out of  24 | elapsed:    3.6s remaining:    4.3s\n",
      "[Parallel(n_jobs=24)]: Done  16 out of  24 | elapsed:    3.6s remaining:    1.8s\n",
      "[Parallel(n_jobs=24)]: Done  21 out of  24 | elapsed:    3.8s remaining:    0.5s\n"
     ]
    },
    {
     "name": "stdout",
     "output_type": "stream",
     "text": [
      "Reduction order for nice/marker/PowerSpectralDensity/alpha: ['frequency', 'channels']\n",
      "Reduction order for nice/marker/PowerSpectralDensity/alpha: ['frequency', 'channels']\n",
      "Reduction order for nice/marker/PowerSpectralDensity/delta: ['frequency', 'channels']\n",
      "Reduction order for nice/marker/PowerSpectralDensity/delta: ['frequency', 'channels']\n",
      "Reduction order for nice/marker/PowerSpectralDensity/theta: ['frequency', 'channels']\n",
      "Reduction order for nice/marker/PowerSpectralDensity/theta: ['frequency', 'channels']\n",
      "Reduction order for nice/marker/PowerSpectralDensity/gamma: ['frequency', 'channels']\n",
      "Reduction order for nice/marker/PowerSpectralDensity/theta: ['frequency', 'channels']\n",
      "Reduction order for nice/marker/PowerSpectralDensity/beta: ['frequency', 'channels']\n",
      "Reduction order for nice/marker/PowerSpectralDensity/beta: ['frequency', 'channels']\n",
      "Running KolmogorovComplexity\n",
      "Elapsed time 0.03300738334655762 sec\n",
      "Reduction order for nice/marker/KolmogorovComplexity/default: ['channels']\n",
      "Filtering  at 10.42 Hz\n",
      "Performing symbolic transformation\n"
     ]
    },
    {
     "name": "stderr",
     "output_type": "stream",
     "text": [
      "[Parallel(n_jobs=24)]: Done  24 out of  24 | elapsed:    3.9s finished\n",
      "/home/nicolas.bruno/anaconda3/lib/python3.7/site-packages/nice-0.1.dev0-py3.7.egg/nice/markers/spectral.py:128: RuntimeWarning: invalid value encountered in true_divide\n",
      "  self.data_norm_ = self.data_ / self.data_.sum(axis=-1)[..., None]\n",
      "/home/nicolas.bruno/anaconda3/lib/python3.7/site-packages/nice-0.1.dev0-py3.7.egg/nice/markers/spectral.py:220: RuntimeWarning: divide by zero encountered in log10\n",
      "  out = 10 * np.log10(out)\n"
     ]
    },
    {
     "name": "stdout",
     "output_type": "stream",
     "text": [
      "Reduction order for nice/marker/PermutationEntropy/default: ['channels']\n",
      "Autodetected number of jobs 2\n",
      "Computing CSD\n",
      "Using 10-5 locations for CSD\n",
      "Using 2 jobs\n"
     ]
    },
    {
     "name": "stderr",
     "output_type": "stream",
     "text": [
      "/home/nicolas.bruno/anaconda3/lib/python3.7/site-packages/nice-0.1.dev0-py3.7.egg/nice/algorithms/information_theory/permutation_entropy.py:75: RuntimeWarning: divide by zero encountered in log\n",
      "  pe = np.nan_to_num(-np.nansum(count * np.log(count), axis=1))\n",
      "/home/nicolas.bruno/anaconda3/lib/python3.7/site-packages/nice-0.1.dev0-py3.7.egg/nice/algorithms/information_theory/permutation_entropy.py:75: RuntimeWarning: invalid value encountered in multiply\n",
      "  pe = np.nan_to_num(-np.nansum(count * np.log(count), axis=1))\n",
      "[Parallel(n_jobs=2)]: Using backend LokyBackend with 2 concurrent workers.\n"
     ]
    },
    {
     "name": "stdout",
     "output_type": "stream",
     "text": [
      "Filtering  at 10.42 Hz\n",
      "Reduction order for nice/marker/SymbolicMutualInformation/default: ['channels_y', 'channels']\n",
      "Autodetected number of jobs 24\n",
      "Effective window size : 16.384 (s)\n"
     ]
    },
    {
     "name": "stderr",
     "output_type": "stream",
     "text": [
      "[Parallel(n_jobs=2)]: Done  16 tasks      | elapsed:    1.7s\n",
      "[Parallel(n_jobs=2)]: Done  23 out of  23 | elapsed:    1.7s finished\n",
      "[Parallel(n_jobs=24)]: Using backend LokyBackend with 24 concurrent workers.\n",
      "[Parallel(n_jobs=24)]: Done   6 out of  24 | elapsed:    3.6s remaining:   10.7s\n",
      "[Parallel(n_jobs=24)]: Done  11 out of  24 | elapsed:    3.7s remaining:    4.4s\n",
      "[Parallel(n_jobs=24)]: Done  16 out of  24 | elapsed:    3.7s remaining:    1.9s\n"
     ]
    },
    {
     "name": "stdout",
     "output_type": "stream",
     "text": [
      "Reduction order for nice/marker/PowerSpectralDensity/alpha: ['frequency', 'channels']\n",
      "Reduction order for nice/marker/PowerSpectralDensity/alpha: ['frequency', 'channels']\n",
      "Reduction order for nice/marker/PowerSpectralDensity/delta: ['frequency', 'channels']\n",
      "Reduction order for nice/marker/PowerSpectralDensity/delta: ['frequency', 'channels']\n",
      "Reduction order for nice/marker/PowerSpectralDensity/theta: ['frequency', 'channels']\n",
      "Reduction order for nice/marker/PowerSpectralDensity/theta: ['frequency', 'channels']\n",
      "Reduction order for nice/marker/PowerSpectralDensity/gamma: ['frequency', 'channels']\n",
      "Reduction order for nice/marker/PowerSpectralDensity/theta: ['frequency', 'channels']\n",
      "Reduction order for nice/marker/PowerSpectralDensity/beta: ['frequency', 'channels']\n",
      "Reduction order for nice/marker/PowerSpectralDensity/beta: ['frequency', 'channels']\n",
      "Running KolmogorovComplexity\n",
      "Elapsed time 0.04357743263244629 sec\n",
      "Reduction order for nice/marker/KolmogorovComplexity/default: ['channels']\n",
      "Filtering  at 10.42 Hz\n",
      "Performing symbolic transformation\n"
     ]
    },
    {
     "name": "stderr",
     "output_type": "stream",
     "text": [
      "[Parallel(n_jobs=24)]: Done  21 out of  24 | elapsed:    3.8s remaining:    0.5s\n",
      "[Parallel(n_jobs=24)]: Done  24 out of  24 | elapsed:    3.8s finished\n"
     ]
    },
    {
     "name": "stdout",
     "output_type": "stream",
     "text": [
      "Reduction order for nice/marker/PermutationEntropy/default: ['channels']\n",
      "Autodetected number of jobs 2\n",
      "Computing CSD\n",
      "Using 10-5 locations for CSD\n",
      "Using 2 jobs\n"
     ]
    },
    {
     "name": "stderr",
     "output_type": "stream",
     "text": [
      "[Parallel(n_jobs=2)]: Using backend LokyBackend with 2 concurrent workers.\n"
     ]
    },
    {
     "name": "stdout",
     "output_type": "stream",
     "text": [
      "Filtering  at 10.42 Hz\n",
      "Reduction order for nice/marker/SymbolicMutualInformation/default: ['channels_y', 'channels']\n",
      "Autodetected number of jobs 24\n",
      "Effective window size : 16.384 (s)\n"
     ]
    },
    {
     "name": "stderr",
     "output_type": "stream",
     "text": [
      "[Parallel(n_jobs=2)]: Done  18 tasks      | elapsed:    1.7s\n",
      "[Parallel(n_jobs=2)]: Done  34 out of  34 | elapsed:    1.7s finished\n",
      "[Parallel(n_jobs=24)]: Using backend LokyBackend with 24 concurrent workers.\n",
      "[Parallel(n_jobs=24)]: Done   6 out of  24 | elapsed:    3.5s remaining:   10.4s\n",
      "[Parallel(n_jobs=24)]: Done  11 out of  24 | elapsed:    3.5s remaining:    4.2s\n",
      "[Parallel(n_jobs=24)]: Done  16 out of  24 | elapsed:    3.6s remaining:    1.8s\n"
     ]
    },
    {
     "name": "stdout",
     "output_type": "stream",
     "text": [
      "Reduction order for nice/marker/PowerSpectralDensity/alpha: ['frequency', 'channels']\n",
      "Reduction order for nice/marker/PowerSpectralDensity/alpha: ['frequency', 'channels']\n",
      "Reduction order for nice/marker/PowerSpectralDensity/delta: ['frequency', 'channels']\n",
      "Reduction order for nice/marker/PowerSpectralDensity/delta: ['frequency', 'channels']\n",
      "Reduction order for nice/marker/PowerSpectralDensity/theta: ['frequency', 'channels']\n",
      "Reduction order for nice/marker/PowerSpectralDensity/theta: ['frequency', 'channels']\n",
      "Reduction order for nice/marker/PowerSpectralDensity/gamma: ['frequency', 'channels']\n",
      "Reduction order for nice/marker/PowerSpectralDensity/theta: ['frequency', 'channels']\n",
      "Reduction order for nice/marker/PowerSpectralDensity/beta: ['frequency', 'channels']\n",
      "Reduction order for nice/marker/PowerSpectralDensity/beta: ['frequency', 'channels']\n",
      "Running KolmogorovComplexity\n",
      "Elapsed time 0.020085811614990234 sec\n",
      "Reduction order for nice/marker/KolmogorovComplexity/default: ['channels']\n",
      "Filtering  at 10.42 Hz\n",
      "Performing symbolic transformation\n"
     ]
    },
    {
     "name": "stderr",
     "output_type": "stream",
     "text": [
      "[Parallel(n_jobs=24)]: Done  21 out of  24 | elapsed:    3.7s remaining:    0.5s\n",
      "[Parallel(n_jobs=24)]: Done  24 out of  24 | elapsed:    3.8s finished\n"
     ]
    },
    {
     "name": "stdout",
     "output_type": "stream",
     "text": [
      "Reduction order for nice/marker/PermutationEntropy/default: ['channels']\n",
      "Autodetected number of jobs 2\n",
      "Computing CSD\n",
      "Using 10-5 locations for CSD\n",
      "Using 2 jobs\n"
     ]
    },
    {
     "name": "stderr",
     "output_type": "stream",
     "text": [
      "[Parallel(n_jobs=2)]: Using backend LokyBackend with 2 concurrent workers.\n"
     ]
    },
    {
     "name": "stdout",
     "output_type": "stream",
     "text": [
      "Filtering  at 10.42 Hz\n",
      "Reduction order for nice/marker/SymbolicMutualInformation/default: ['channels_y', 'channels']\n",
      "Reading /media/nicolas.bruno/63f8a366-34b7-4896-a7ce-b5fb4ee78535/Nico/MW_eeg_data/minmarker/VP32/VP32_evoked_ar_clean_epo.fif ...\n",
      "    Found the data of interest:\n",
      "        t =    -200.00 ...     600.00 ms\n",
      "        0 CTF compensation matrices available\n"
     ]
    },
    {
     "name": "stderr",
     "output_type": "stream",
     "text": [
      "[Parallel(n_jobs=2)]: Done  16 tasks      | elapsed:    1.7s\n",
      "[Parallel(n_jobs=2)]: Done  17 out of  17 | elapsed:    1.7s finished\n"
     ]
    },
    {
     "name": "stdout",
     "output_type": "stream",
     "text": [
      "Not setting metadata\n",
      "Not setting metadata\n",
      "550 matching events found\n",
      "No baseline correction applied\n",
      "0 projection items activated\n",
      "Autodetected number of jobs 24\n",
      "Effective window size : 16.384 (s)\n"
     ]
    },
    {
     "name": "stderr",
     "output_type": "stream",
     "text": [
      "[Parallel(n_jobs=24)]: Using backend LokyBackend with 24 concurrent workers.\n",
      "[Parallel(n_jobs=24)]: Done   6 out of  24 | elapsed:    3.7s remaining:   11.1s\n",
      "[Parallel(n_jobs=24)]: Done  11 out of  24 | elapsed:    3.8s remaining:    4.5s\n",
      "[Parallel(n_jobs=24)]: Done  16 out of  24 | elapsed:    3.9s remaining:    1.9s\n"
     ]
    },
    {
     "name": "stdout",
     "output_type": "stream",
     "text": [
      "Reduction order for nice/marker/PowerSpectralDensity/alpha: ['frequency', 'channels']\n",
      "Reduction order for nice/marker/PowerSpectralDensity/alpha: ['frequency', 'channels']\n",
      "Reduction order for nice/marker/PowerSpectralDensity/delta: ['frequency', 'channels']\n",
      "Reduction order for nice/marker/PowerSpectralDensity/delta: ['frequency', 'channels']\n",
      "Reduction order for nice/marker/PowerSpectralDensity/theta: ['frequency', 'channels']\n",
      "Reduction order for nice/marker/PowerSpectralDensity/theta: ['frequency', 'channels']\n",
      "Reduction order for nice/marker/PowerSpectralDensity/gamma: ['frequency', 'channels']\n",
      "Reduction order for nice/marker/PowerSpectralDensity/theta: ['frequency', 'channels']\n",
      "Reduction order for nice/marker/PowerSpectralDensity/beta: ['frequency', 'channels']\n",
      "Reduction order for nice/marker/PowerSpectralDensity/beta: ['frequency', 'channels']\n",
      "Running KolmogorovComplexity\n"
     ]
    },
    {
     "name": "stderr",
     "output_type": "stream",
     "text": [
      "[Parallel(n_jobs=24)]: Done  21 out of  24 | elapsed:    3.9s remaining:    0.6s\n",
      "[Parallel(n_jobs=24)]: Done  24 out of  24 | elapsed:    4.0s finished\n",
      "/home/nicolas.bruno/anaconda3/lib/python3.7/site-packages/nice-0.1.dev0-py3.7.egg/nice/markers/spectral.py:128: RuntimeWarning: invalid value encountered in true_divide\n",
      "  self.data_norm_ = self.data_ / self.data_.sum(axis=-1)[..., None]\n",
      "/home/nicolas.bruno/anaconda3/lib/python3.7/site-packages/nice-0.1.dev0-py3.7.egg/nice/markers/spectral.py:220: RuntimeWarning: divide by zero encountered in log10\n",
      "  out = 10 * np.log10(out)\n"
     ]
    },
    {
     "name": "stdout",
     "output_type": "stream",
     "text": [
      "Elapsed time 0.15773844718933105 sec\n",
      "Reduction order for nice/marker/KolmogorovComplexity/default: ['channels']\n",
      "Filtering  at 10.42 Hz\n",
      "Performing symbolic transformation\n",
      "Reduction order for nice/marker/PermutationEntropy/default: ['channels']\n",
      "Autodetected number of jobs 2\n",
      "Computing CSD\n",
      "Using 10-5 locations for CSD\n",
      "Using 2 jobs\n"
     ]
    },
    {
     "name": "stderr",
     "output_type": "stream",
     "text": [
      "/home/nicolas.bruno/anaconda3/lib/python3.7/site-packages/nice-0.1.dev0-py3.7.egg/nice/algorithms/information_theory/permutation_entropy.py:75: RuntimeWarning: divide by zero encountered in log\n",
      "  pe = np.nan_to_num(-np.nansum(count * np.log(count), axis=1))\n",
      "/home/nicolas.bruno/anaconda3/lib/python3.7/site-packages/nice-0.1.dev0-py3.7.egg/nice/algorithms/information_theory/permutation_entropy.py:75: RuntimeWarning: invalid value encountered in multiply\n",
      "  pe = np.nan_to_num(-np.nansum(count * np.log(count), axis=1))\n",
      "[Parallel(n_jobs=2)]: Using backend LokyBackend with 2 concurrent workers.\n"
     ]
    },
    {
     "name": "stdout",
     "output_type": "stream",
     "text": [
      "Filtering  at 10.42 Hz\n"
     ]
    },
    {
     "name": "stderr",
     "output_type": "stream",
     "text": [
      "[Parallel(n_jobs=2)]: Done  16 tasks      | elapsed:    1.6s\n",
      "[Parallel(n_jobs=2)]: Done 126 out of 126 | elapsed:    1.8s finished\n"
     ]
    },
    {
     "name": "stdout",
     "output_type": "stream",
     "text": [
      "Reduction order for nice/marker/SymbolicMutualInformation/default: ['channels_y', 'channels']\n",
      "Autodetected number of jobs 24\n",
      "Effective window size : 16.384 (s)\n"
     ]
    },
    {
     "name": "stderr",
     "output_type": "stream",
     "text": [
      "[Parallel(n_jobs=24)]: Using backend LokyBackend with 24 concurrent workers.\n",
      "[Parallel(n_jobs=24)]: Done   6 out of  24 | elapsed:    3.5s remaining:   10.6s\n",
      "[Parallel(n_jobs=24)]: Done  11 out of  24 | elapsed:    3.6s remaining:    4.3s\n",
      "[Parallel(n_jobs=24)]: Done  16 out of  24 | elapsed:    3.7s remaining:    1.8s\n"
     ]
    },
    {
     "name": "stdout",
     "output_type": "stream",
     "text": [
      "Reduction order for nice/marker/PowerSpectralDensity/alpha: ['frequency', 'channels']\n",
      "Reduction order for nice/marker/PowerSpectralDensity/alpha: ['frequency', 'channels']\n",
      "Reduction order for nice/marker/PowerSpectralDensity/delta: ['frequency', 'channels']\n",
      "Reduction order for nice/marker/PowerSpectralDensity/delta: ['frequency', 'channels']\n",
      "Reduction order for nice/marker/PowerSpectralDensity/theta: ['frequency', 'channels']\n",
      "Reduction order for nice/marker/PowerSpectralDensity/theta: ['frequency', 'channels']\n",
      "Reduction order for nice/marker/PowerSpectralDensity/gamma: ['frequency', 'channels']\n",
      "Reduction order for nice/marker/PowerSpectralDensity/theta: ['frequency', 'channels']\n",
      "Reduction order for nice/marker/PowerSpectralDensity/beta: ['frequency', 'channels']\n",
      "Reduction order for nice/marker/PowerSpectralDensity/beta: ['frequency', 'channels']\n",
      "Running KolmogorovComplexity\n",
      "Elapsed time 0.09571313858032227 sec\n",
      "Reduction order for nice/marker/KolmogorovComplexity/default: ['channels']\n",
      "Filtering  at 10.42 Hz\n"
     ]
    },
    {
     "name": "stderr",
     "output_type": "stream",
     "text": [
      "[Parallel(n_jobs=24)]: Done  21 out of  24 | elapsed:    3.7s remaining:    0.5s\n",
      "[Parallel(n_jobs=24)]: Done  24 out of  24 | elapsed:    3.9s finished\n"
     ]
    },
    {
     "name": "stdout",
     "output_type": "stream",
     "text": [
      "Performing symbolic transformation\n",
      "Reduction order for nice/marker/PermutationEntropy/default: ['channels']\n",
      "Autodetected number of jobs 2\n",
      "Computing CSD\n",
      "Using 10-5 locations for CSD\n",
      "Using 2 jobs\n"
     ]
    },
    {
     "name": "stderr",
     "output_type": "stream",
     "text": [
      "[Parallel(n_jobs=2)]: Using backend LokyBackend with 2 concurrent workers.\n"
     ]
    },
    {
     "name": "stdout",
     "output_type": "stream",
     "text": [
      "Filtering  at 10.42 Hz\n"
     ]
    },
    {
     "name": "stderr",
     "output_type": "stream",
     "text": [
      "[Parallel(n_jobs=2)]: Done  24 tasks      | elapsed:    1.6s\n",
      "[Parallel(n_jobs=2)]: Done  78 out of  78 | elapsed:    1.7s finished\n"
     ]
    },
    {
     "name": "stdout",
     "output_type": "stream",
     "text": [
      "Reduction order for nice/marker/SymbolicMutualInformation/default: ['channels_y', 'channels']\n",
      "Autodetected number of jobs 24\n",
      "Effective window size : 16.384 (s)\n"
     ]
    },
    {
     "name": "stderr",
     "output_type": "stream",
     "text": [
      "[Parallel(n_jobs=24)]: Using backend LokyBackend with 24 concurrent workers.\n",
      "[Parallel(n_jobs=24)]: Done   6 out of  24 | elapsed:    3.5s remaining:   10.5s\n",
      "[Parallel(n_jobs=24)]: Done  11 out of  24 | elapsed:    3.6s remaining:    4.3s\n",
      "[Parallel(n_jobs=24)]: Done  16 out of  24 | elapsed:    3.7s remaining:    1.9s\n",
      "[Parallel(n_jobs=24)]: Done  21 out of  24 | elapsed:    3.8s remaining:    0.5s\n"
     ]
    },
    {
     "name": "stdout",
     "output_type": "stream",
     "text": [
      "Reduction order for nice/marker/PowerSpectralDensity/alpha: ['frequency', 'channels']\n",
      "Reduction order for nice/marker/PowerSpectralDensity/alpha: ['frequency', 'channels']\n",
      "Reduction order for nice/marker/PowerSpectralDensity/delta: ['frequency', 'channels']\n",
      "Reduction order for nice/marker/PowerSpectralDensity/delta: ['frequency', 'channels']\n",
      "Reduction order for nice/marker/PowerSpectralDensity/theta: ['frequency', 'channels']\n",
      "Reduction order for nice/marker/PowerSpectralDensity/theta: ['frequency', 'channels']\n",
      "Reduction order for nice/marker/PowerSpectralDensity/gamma: ['frequency', 'channels']\n",
      "Reduction order for nice/marker/PowerSpectralDensity/theta: ['frequency', 'channels']\n",
      "Reduction order for nice/marker/PowerSpectralDensity/beta: ['frequency', 'channels']\n",
      "Reduction order for nice/marker/PowerSpectralDensity/beta: ['frequency', 'channels']\n",
      "Running KolmogorovComplexity\n",
      "Elapsed time 0.0035784244537353516 sec\n",
      "Reduction order for nice/marker/KolmogorovComplexity/default: ['channels']\n",
      "Filtering  at 10.42 Hz\n",
      "Performing symbolic transformation\n"
     ]
    },
    {
     "name": "stderr",
     "output_type": "stream",
     "text": [
      "[Parallel(n_jobs=24)]: Done  24 out of  24 | elapsed:    4.0s finished\n"
     ]
    },
    {
     "name": "stdout",
     "output_type": "stream",
     "text": [
      "Reduction order for nice/marker/PermutationEntropy/default: ['channels']\n",
      "Autodetected number of jobs 2\n",
      "Computing CSD\n",
      "Using 10-5 locations for CSD\n",
      "Using 2 jobs\n"
     ]
    },
    {
     "name": "stderr",
     "output_type": "stream",
     "text": [
      "[Parallel(n_jobs=2)]: Using backend LokyBackend with 2 concurrent workers.\n"
     ]
    },
    {
     "name": "stdout",
     "output_type": "stream",
     "text": [
      "Filtering  at 10.42 Hz\n",
      "Reduction order for nice/marker/SymbolicMutualInformation/default: ['channels_y', 'channels']\n",
      "Autodetected number of jobs 24\n",
      "Effective window size : 16.384 (s)\n"
     ]
    },
    {
     "name": "stderr",
     "output_type": "stream",
     "text": [
      "[Parallel(n_jobs=2)]: Done   3 out of   3 | elapsed:    1.6s remaining:    0.0s\n",
      "[Parallel(n_jobs=2)]: Done   3 out of   3 | elapsed:    1.6s finished\n",
      "[Parallel(n_jobs=24)]: Using backend LokyBackend with 24 concurrent workers.\n"
     ]
    },
    {
     "name": "stdout",
     "output_type": "stream",
     "text": [
      "Reduction order for nice/marker/PowerSpectralDensity/alpha: ['frequency', 'channels']\n",
      "Reduction order for nice/marker/PowerSpectralDensity/alpha: ['frequency', 'channels']\n",
      "Reduction order for nice/marker/PowerSpectralDensity/delta: ['frequency', 'channels']\n",
      "Reduction order for nice/marker/PowerSpectralDensity/delta: ['frequency', 'channels']\n",
      "Reduction order for nice/marker/PowerSpectralDensity/theta: ['frequency', 'channels']\n",
      "Reduction order for nice/marker/PowerSpectralDensity/theta: ['frequency', 'channels']\n",
      "Reduction order for nice/marker/PowerSpectralDensity/gamma: ['frequency', 'channels']\n",
      "Reduction order for nice/marker/PowerSpectralDensity/theta: ['frequency', 'channels']\n",
      "Reduction order for nice/marker/PowerSpectralDensity/beta: ['frequency', 'channels']\n",
      "Reduction order for nice/marker/PowerSpectralDensity/beta: ['frequency', 'channels']\n",
      "Running KolmogorovComplexity\n"
     ]
    },
    {
     "name": "stderr",
     "output_type": "stream",
     "text": [
      "[Parallel(n_jobs=24)]: Done   6 out of  24 | elapsed:    3.5s remaining:   10.5s\n",
      "[Parallel(n_jobs=24)]: Done  11 out of  24 | elapsed:    3.5s remaining:    4.2s\n",
      "[Parallel(n_jobs=24)]: Done  16 out of  24 | elapsed:    3.6s remaining:    1.8s\n",
      "[Parallel(n_jobs=24)]: Done  21 out of  24 | elapsed:    3.6s remaining:    0.5s\n",
      "[Parallel(n_jobs=24)]: Done  24 out of  24 | elapsed:    3.7s finished\n"
     ]
    },
    {
     "name": "stdout",
     "output_type": "stream",
     "text": [
      "Elapsed time 0.016895055770874023 sec\n",
      "Reduction order for nice/marker/KolmogorovComplexity/default: ['channels']\n",
      "Filtering  at 10.42 Hz\n",
      "Performing symbolic transformation\n",
      "Reduction order for nice/marker/PermutationEntropy/default: ['channels']\n",
      "Autodetected number of jobs 2\n",
      "Computing CSD\n",
      "Using 10-5 locations for CSD\n",
      "Using 2 jobs\n"
     ]
    },
    {
     "name": "stderr",
     "output_type": "stream",
     "text": [
      "[Parallel(n_jobs=2)]: Using backend LokyBackend with 2 concurrent workers.\n"
     ]
    },
    {
     "name": "stdout",
     "output_type": "stream",
     "text": [
      "Filtering  at 10.42 Hz\n",
      "Reduction order for nice/marker/SymbolicMutualInformation/default: ['channels_y', 'channels']\n",
      "Reading /media/nicolas.bruno/63f8a366-34b7-4896-a7ce-b5fb4ee78535/Nico/MW_eeg_data/minmarker/VP33/VP33_evoked_ar_clean_epo.fif ...\n",
      "    Found the data of interest:\n",
      "        t =    -200.00 ...     600.00 ms\n",
      "        0 CTF compensation matrices available\n",
      "Not setting metadata\n",
      "Not setting metadata\n",
      "291 matching events found\n",
      "No baseline correction applied\n",
      "0 projection items activated\n",
      "Autodetected number of jobs 24\n",
      "Effective window size : 16.384 (s)\n"
     ]
    },
    {
     "name": "stderr",
     "output_type": "stream",
     "text": [
      "[Parallel(n_jobs=2)]: Done  14 out of  14 | elapsed:    1.6s finished\n",
      "[Parallel(n_jobs=24)]: Using backend LokyBackend with 24 concurrent workers.\n",
      "[Parallel(n_jobs=24)]: Done   6 out of  24 | elapsed:    3.7s remaining:   11.0s\n",
      "[Parallel(n_jobs=24)]: Done  11 out of  24 | elapsed:    3.7s remaining:    4.4s\n",
      "[Parallel(n_jobs=24)]: Done  16 out of  24 | elapsed:    3.8s remaining:    1.9s\n"
     ]
    },
    {
     "name": "stdout",
     "output_type": "stream",
     "text": [
      "Reduction order for nice/marker/PowerSpectralDensity/alpha: ['frequency', 'channels']\n",
      "Reduction order for nice/marker/PowerSpectralDensity/alpha: ['frequency', 'channels']\n",
      "Reduction order for nice/marker/PowerSpectralDensity/delta: ['frequency', 'channels']\n",
      "Reduction order for nice/marker/PowerSpectralDensity/delta: ['frequency', 'channels']\n",
      "Reduction order for nice/marker/PowerSpectralDensity/theta: ['frequency', 'channels']\n",
      "Reduction order for nice/marker/PowerSpectralDensity/theta: ['frequency', 'channels']\n",
      "Reduction order for nice/marker/PowerSpectralDensity/gamma: ['frequency', 'channels']\n",
      "Reduction order for nice/marker/PowerSpectralDensity/theta: ['frequency', 'channels']\n",
      "Reduction order for nice/marker/PowerSpectralDensity/beta: ['frequency', 'channels']\n",
      "Reduction order for nice/marker/PowerSpectralDensity/beta: ['frequency', 'channels']\n",
      "Running KolmogorovComplexity\n",
      "Elapsed time 0.14887380599975586 sec\n"
     ]
    },
    {
     "name": "stderr",
     "output_type": "stream",
     "text": [
      "[Parallel(n_jobs=24)]: Done  21 out of  24 | elapsed:    3.9s remaining:    0.6s\n",
      "[Parallel(n_jobs=24)]: Done  24 out of  24 | elapsed:    4.0s finished\n",
      "/home/nicolas.bruno/anaconda3/lib/python3.7/site-packages/nice-0.1.dev0-py3.7.egg/nice/markers/spectral.py:128: RuntimeWarning: invalid value encountered in true_divide\n",
      "  self.data_norm_ = self.data_ / self.data_.sum(axis=-1)[..., None]\n",
      "/home/nicolas.bruno/anaconda3/lib/python3.7/site-packages/nice-0.1.dev0-py3.7.egg/nice/markers/spectral.py:220: RuntimeWarning: divide by zero encountered in log10\n",
      "  out = 10 * np.log10(out)\n"
     ]
    },
    {
     "name": "stdout",
     "output_type": "stream",
     "text": [
      "Reduction order for nice/marker/KolmogorovComplexity/default: ['channels']\n",
      "Filtering  at 10.42 Hz\n",
      "Performing symbolic transformation\n",
      "Reduction order for nice/marker/PermutationEntropy/default: ['channels']\n",
      "Autodetected number of jobs 2\n",
      "Computing CSD\n",
      "Using 10-5 locations for CSD\n",
      "Using 2 jobs\n"
     ]
    },
    {
     "name": "stderr",
     "output_type": "stream",
     "text": [
      "/home/nicolas.bruno/anaconda3/lib/python3.7/site-packages/nice-0.1.dev0-py3.7.egg/nice/algorithms/information_theory/permutation_entropy.py:75: RuntimeWarning: divide by zero encountered in log\n",
      "  pe = np.nan_to_num(-np.nansum(count * np.log(count), axis=1))\n",
      "/home/nicolas.bruno/anaconda3/lib/python3.7/site-packages/nice-0.1.dev0-py3.7.egg/nice/algorithms/information_theory/permutation_entropy.py:75: RuntimeWarning: invalid value encountered in multiply\n",
      "  pe = np.nan_to_num(-np.nansum(count * np.log(count), axis=1))\n",
      "[Parallel(n_jobs=2)]: Using backend LokyBackend with 2 concurrent workers.\n"
     ]
    },
    {
     "name": "stdout",
     "output_type": "stream",
     "text": [
      "Filtering  at 10.42 Hz\n"
     ]
    },
    {
     "name": "stderr",
     "output_type": "stream",
     "text": [
      "[Parallel(n_jobs=2)]: Done  18 tasks      | elapsed:    1.7s\n",
      "[Parallel(n_jobs=2)]: Done 105 out of 105 | elapsed:    1.8s finished\n"
     ]
    },
    {
     "name": "stdout",
     "output_type": "stream",
     "text": [
      "Reduction order for nice/marker/SymbolicMutualInformation/default: ['channels_y', 'channels']\n",
      "Autodetected number of jobs 24\n",
      "Effective window size : 16.384 (s)\n"
     ]
    },
    {
     "name": "stderr",
     "output_type": "stream",
     "text": [
      "[Parallel(n_jobs=24)]: Using backend LokyBackend with 24 concurrent workers.\n",
      "[Parallel(n_jobs=24)]: Done   6 out of  24 | elapsed:    3.6s remaining:   10.8s\n",
      "[Parallel(n_jobs=24)]: Done  11 out of  24 | elapsed:    3.7s remaining:    4.3s\n",
      "[Parallel(n_jobs=24)]: Done  16 out of  24 | elapsed:    3.7s remaining:    1.9s\n"
     ]
    },
    {
     "name": "stdout",
     "output_type": "stream",
     "text": [
      "Reduction order for nice/marker/PowerSpectralDensity/alpha: ['frequency', 'channels']\n",
      "Reduction order for nice/marker/PowerSpectralDensity/alpha: ['frequency', 'channels']\n",
      "Reduction order for nice/marker/PowerSpectralDensity/delta: ['frequency', 'channels']\n",
      "Reduction order for nice/marker/PowerSpectralDensity/delta: ['frequency', 'channels']\n",
      "Reduction order for nice/marker/PowerSpectralDensity/theta: ['frequency', 'channels']\n",
      "Reduction order for nice/marker/PowerSpectralDensity/theta: ['frequency', 'channels']\n",
      "Reduction order for nice/marker/PowerSpectralDensity/gamma: ['frequency', 'channels']\n",
      "Reduction order for nice/marker/PowerSpectralDensity/theta: ['frequency', 'channels']\n",
      "Reduction order for nice/marker/PowerSpectralDensity/beta: ['frequency', 'channels']\n",
      "Reduction order for nice/marker/PowerSpectralDensity/beta: ['frequency', 'channels']\n",
      "Running KolmogorovComplexity\n",
      "Elapsed time 0.03617143630981445 sec\n",
      "Reduction order for nice/marker/KolmogorovComplexity/default: ['channels']\n",
      "Filtering  at 10.42 Hz\n",
      "Performing symbolic transformation\n"
     ]
    },
    {
     "name": "stderr",
     "output_type": "stream",
     "text": [
      "[Parallel(n_jobs=24)]: Done  21 out of  24 | elapsed:    3.8s remaining:    0.5s\n",
      "[Parallel(n_jobs=24)]: Done  24 out of  24 | elapsed:    3.9s finished\n"
     ]
    },
    {
     "name": "stdout",
     "output_type": "stream",
     "text": [
      "Reduction order for nice/marker/PermutationEntropy/default: ['channels']\n",
      "Autodetected number of jobs 2\n",
      "Computing CSD\n",
      "Using 10-5 locations for CSD\n",
      "Using 2 jobs\n"
     ]
    },
    {
     "name": "stderr",
     "output_type": "stream",
     "text": [
      "[Parallel(n_jobs=2)]: Using backend LokyBackend with 2 concurrent workers.\n"
     ]
    },
    {
     "name": "stdout",
     "output_type": "stream",
     "text": [
      "Filtering  at 10.42 Hz\n",
      "Reduction order for nice/marker/SymbolicMutualInformation/default: ['channels_y', 'channels']\n",
      "Reading /media/nicolas.bruno/63f8a366-34b7-4896-a7ce-b5fb4ee78535/Nico/MW_eeg_data/minmarker/VP35/VP35_evoked_ar_clean_epo.fif ...\n",
      "    Found the data of interest:\n",
      "        t =    -200.00 ...     600.00 ms\n",
      "        0 CTF compensation matrices available\n"
     ]
    },
    {
     "name": "stderr",
     "output_type": "stream",
     "text": [
      "[Parallel(n_jobs=2)]: Done  18 tasks      | elapsed:    1.7s\n",
      "[Parallel(n_jobs=2)]: Done  29 out of  29 | elapsed:    1.7s finished\n"
     ]
    },
    {
     "name": "stdout",
     "output_type": "stream",
     "text": [
      "Not setting metadata\n",
      "Not setting metadata\n",
      "169 matching events found\n",
      "No baseline correction applied\n",
      "0 projection items activated\n",
      "Autodetected number of jobs 24\n",
      "Effective window size : 16.384 (s)\n"
     ]
    },
    {
     "name": "stderr",
     "output_type": "stream",
     "text": [
      "[Parallel(n_jobs=24)]: Using backend LokyBackend with 24 concurrent workers.\n",
      "[Parallel(n_jobs=24)]: Done   6 out of  24 | elapsed:    3.4s remaining:   10.2s\n",
      "[Parallel(n_jobs=24)]: Done  11 out of  24 | elapsed:    3.5s remaining:    4.1s\n",
      "[Parallel(n_jobs=24)]: Done  16 out of  24 | elapsed:    3.5s remaining:    1.8s\n"
     ]
    },
    {
     "name": "stdout",
     "output_type": "stream",
     "text": [
      "Reduction order for nice/marker/PowerSpectralDensity/alpha: ['frequency', 'channels']\n",
      "Reduction order for nice/marker/PowerSpectralDensity/alpha: ['frequency', 'channels']\n",
      "Reduction order for nice/marker/PowerSpectralDensity/delta: ['frequency', 'channels']\n",
      "Reduction order for nice/marker/PowerSpectralDensity/delta: ['frequency', 'channels']\n",
      "Reduction order for nice/marker/PowerSpectralDensity/theta: ['frequency', 'channels']\n",
      "Reduction order for nice/marker/PowerSpectralDensity/theta: ['frequency', 'channels']\n",
      "Reduction order for nice/marker/PowerSpectralDensity/gamma: ['frequency', 'channels']\n",
      "Reduction order for nice/marker/PowerSpectralDensity/theta: ['frequency', 'channels']\n",
      "Reduction order for nice/marker/PowerSpectralDensity/beta: ['frequency', 'channels']\n",
      "Reduction order for nice/marker/PowerSpectralDensity/beta: ['frequency', 'channels']\n",
      "Running KolmogorovComplexity\n",
      "Elapsed time 0.026004552841186523 sec\n",
      "Reduction order for nice/marker/KolmogorovComplexity/default: ['channels']\n",
      "Filtering  at 10.42 Hz\n",
      "Performing symbolic transformation\n"
     ]
    },
    {
     "name": "stderr",
     "output_type": "stream",
     "text": [
      "[Parallel(n_jobs=24)]: Done  21 out of  24 | elapsed:    3.7s remaining:    0.5s\n",
      "[Parallel(n_jobs=24)]: Done  24 out of  24 | elapsed:    3.7s finished\n",
      "/home/nicolas.bruno/anaconda3/lib/python3.7/site-packages/nice-0.1.dev0-py3.7.egg/nice/markers/spectral.py:128: RuntimeWarning: invalid value encountered in true_divide\n",
      "  self.data_norm_ = self.data_ / self.data_.sum(axis=-1)[..., None]\n",
      "/home/nicolas.bruno/anaconda3/lib/python3.7/site-packages/nice-0.1.dev0-py3.7.egg/nice/markers/spectral.py:220: RuntimeWarning: divide by zero encountered in log10\n",
      "  out = 10 * np.log10(out)\n"
     ]
    },
    {
     "name": "stdout",
     "output_type": "stream",
     "text": [
      "Reduction order for nice/marker/PermutationEntropy/default: ['channels']\n",
      "Autodetected number of jobs 2\n",
      "Computing CSD\n",
      "Using 10-5 locations for CSD\n",
      "Using 2 jobs\n"
     ]
    },
    {
     "name": "stderr",
     "output_type": "stream",
     "text": [
      "/home/nicolas.bruno/anaconda3/lib/python3.7/site-packages/nice-0.1.dev0-py3.7.egg/nice/algorithms/information_theory/permutation_entropy.py:75: RuntimeWarning: divide by zero encountered in log\n",
      "  pe = np.nan_to_num(-np.nansum(count * np.log(count), axis=1))\n",
      "/home/nicolas.bruno/anaconda3/lib/python3.7/site-packages/nice-0.1.dev0-py3.7.egg/nice/algorithms/information_theory/permutation_entropy.py:75: RuntimeWarning: invalid value encountered in multiply\n",
      "  pe = np.nan_to_num(-np.nansum(count * np.log(count), axis=1))\n",
      "[Parallel(n_jobs=2)]: Using backend LokyBackend with 2 concurrent workers.\n"
     ]
    },
    {
     "name": "stdout",
     "output_type": "stream",
     "text": [
      "Filtering  at 10.42 Hz\n",
      "Reduction order for nice/marker/SymbolicMutualInformation/default: ['channels_y', 'channels']\n",
      "Autodetected number of jobs 24\n",
      "Effective window size : 16.384 (s)\n"
     ]
    },
    {
     "name": "stderr",
     "output_type": "stream",
     "text": [
      "[Parallel(n_jobs=2)]: Done  16 tasks      | elapsed:    1.6s\n",
      "[Parallel(n_jobs=2)]: Done  20 out of  20 | elapsed:    1.6s finished\n",
      "[Parallel(n_jobs=24)]: Using backend LokyBackend with 24 concurrent workers.\n",
      "[Parallel(n_jobs=24)]: Done   6 out of  24 | elapsed:    3.5s remaining:   10.4s\n",
      "[Parallel(n_jobs=24)]: Done  11 out of  24 | elapsed:    3.5s remaining:    4.2s\n",
      "[Parallel(n_jobs=24)]: Done  16 out of  24 | elapsed:    3.5s remaining:    1.8s\n",
      "[Parallel(n_jobs=24)]: Done  21 out of  24 | elapsed:    3.6s remaining:    0.5s\n"
     ]
    },
    {
     "name": "stdout",
     "output_type": "stream",
     "text": [
      "Reduction order for nice/marker/PowerSpectralDensity/alpha: ['frequency', 'channels']\n",
      "Reduction order for nice/marker/PowerSpectralDensity/alpha: ['frequency', 'channels']\n",
      "Reduction order for nice/marker/PowerSpectralDensity/delta: ['frequency', 'channels']\n",
      "Reduction order for nice/marker/PowerSpectralDensity/delta: ['frequency', 'channels']\n",
      "Reduction order for nice/marker/PowerSpectralDensity/theta: ['frequency', 'channels']\n",
      "Reduction order for nice/marker/PowerSpectralDensity/theta: ['frequency', 'channels']\n",
      "Reduction order for nice/marker/PowerSpectralDensity/gamma: ['frequency', 'channels']\n",
      "Reduction order for nice/marker/PowerSpectralDensity/theta: ['frequency', 'channels']\n",
      "Reduction order for nice/marker/PowerSpectralDensity/beta: ['frequency', 'channels']\n",
      "Reduction order for nice/marker/PowerSpectralDensity/beta: ['frequency', 'channels']\n",
      "Running KolmogorovComplexity\n",
      "Elapsed time 0.02434539794921875 sec\n",
      "Reduction order for nice/marker/KolmogorovComplexity/default: ['channels']\n",
      "Filtering  at 10.42 Hz\n",
      "Performing symbolic transformation\n"
     ]
    },
    {
     "name": "stderr",
     "output_type": "stream",
     "text": [
      "[Parallel(n_jobs=24)]: Done  24 out of  24 | elapsed:    3.7s finished\n"
     ]
    },
    {
     "name": "stdout",
     "output_type": "stream",
     "text": [
      "Reduction order for nice/marker/PermutationEntropy/default: ['channels']\n",
      "Autodetected number of jobs 2\n",
      "Computing CSD\n",
      "Using 10-5 locations for CSD\n",
      "Using 2 jobs\n"
     ]
    },
    {
     "name": "stderr",
     "output_type": "stream",
     "text": [
      "[Parallel(n_jobs=2)]: Using backend LokyBackend with 2 concurrent workers.\n"
     ]
    },
    {
     "name": "stdout",
     "output_type": "stream",
     "text": [
      "Filtering  at 10.42 Hz\n",
      "Reduction order for nice/marker/SymbolicMutualInformation/default: ['channels_y', 'channels']\n",
      "Autodetected number of jobs 24\n",
      "Effective window size : 16.384 (s)\n"
     ]
    },
    {
     "name": "stderr",
     "output_type": "stream",
     "text": [
      "[Parallel(n_jobs=2)]: Done  18 tasks      | elapsed:    1.7s\n",
      "[Parallel(n_jobs=2)]: Done  19 out of  19 | elapsed:    1.7s finished\n",
      "[Parallel(n_jobs=24)]: Using backend LokyBackend with 24 concurrent workers.\n",
      "[Parallel(n_jobs=24)]: Done   6 out of  24 | elapsed:    3.4s remaining:   10.2s\n",
      "[Parallel(n_jobs=24)]: Done  11 out of  24 | elapsed:    3.5s remaining:    4.1s\n",
      "[Parallel(n_jobs=24)]: Done  16 out of  24 | elapsed:    3.5s remaining:    1.8s\n"
     ]
    },
    {
     "name": "stdout",
     "output_type": "stream",
     "text": [
      "Reduction order for nice/marker/PowerSpectralDensity/alpha: ['frequency', 'channels']\n",
      "Reduction order for nice/marker/PowerSpectralDensity/alpha: ['frequency', 'channels']\n",
      "Reduction order for nice/marker/PowerSpectralDensity/delta: ['frequency', 'channels']\n",
      "Reduction order for nice/marker/PowerSpectralDensity/delta: ['frequency', 'channels']\n",
      "Reduction order for nice/marker/PowerSpectralDensity/theta: ['frequency', 'channels']\n",
      "Reduction order for nice/marker/PowerSpectralDensity/theta: ['frequency', 'channels']\n",
      "Reduction order for nice/marker/PowerSpectralDensity/gamma: ['frequency', 'channels']\n",
      "Reduction order for nice/marker/PowerSpectralDensity/theta: ['frequency', 'channels']\n",
      "Reduction order for nice/marker/PowerSpectralDensity/beta: ['frequency', 'channels']\n",
      "Reduction order for nice/marker/PowerSpectralDensity/beta: ['frequency', 'channels']\n",
      "Running KolmogorovComplexity\n",
      "Elapsed time 0.005401134490966797 sec\n",
      "Reduction order for nice/marker/KolmogorovComplexity/default: ['channels']\n",
      "Filtering  at 10.42 Hz\n",
      "Performing symbolic transformation\n"
     ]
    },
    {
     "name": "stderr",
     "output_type": "stream",
     "text": [
      "[Parallel(n_jobs=24)]: Done  21 out of  24 | elapsed:    3.6s remaining:    0.5s\n",
      "[Parallel(n_jobs=24)]: Done  24 out of  24 | elapsed:    3.7s finished\n"
     ]
    },
    {
     "name": "stdout",
     "output_type": "stream",
     "text": [
      "Reduction order for nice/marker/PermutationEntropy/default: ['channels']\n",
      "Autodetected number of jobs 2\n",
      "Computing CSD\n",
      "Using 10-5 locations for CSD\n",
      "Using 2 jobs\n"
     ]
    },
    {
     "name": "stderr",
     "output_type": "stream",
     "text": [
      "[Parallel(n_jobs=2)]: Using backend LokyBackend with 2 concurrent workers.\n"
     ]
    },
    {
     "name": "stdout",
     "output_type": "stream",
     "text": [
      "Filtering  at 10.42 Hz\n",
      "Reduction order for nice/marker/SymbolicMutualInformation/default: ['channels_y', 'channels']\n",
      "Autodetected number of jobs 24\n",
      "Effective window size : 16.384 (s)\n"
     ]
    },
    {
     "name": "stderr",
     "output_type": "stream",
     "text": [
      "[Parallel(n_jobs=2)]: Done   4 out of   4 | elapsed:    1.6s remaining:    0.0s\n",
      "[Parallel(n_jobs=2)]: Done   4 out of   4 | elapsed:    1.6s finished\n",
      "[Parallel(n_jobs=24)]: Using backend LokyBackend with 24 concurrent workers.\n",
      "[Parallel(n_jobs=24)]: Done   6 out of  24 | elapsed:    3.4s remaining:   10.2s\n",
      "[Parallel(n_jobs=24)]: Done  11 out of  24 | elapsed:    3.5s remaining:    4.1s\n",
      "[Parallel(n_jobs=24)]: Done  16 out of  24 | elapsed:    3.6s remaining:    1.8s\n"
     ]
    },
    {
     "name": "stdout",
     "output_type": "stream",
     "text": [
      "Reduction order for nice/marker/PowerSpectralDensity/alpha: ['frequency', 'channels']\n",
      "Reduction order for nice/marker/PowerSpectralDensity/alpha: ['frequency', 'channels']\n",
      "Reduction order for nice/marker/PowerSpectralDensity/delta: ['frequency', 'channels']\n",
      "Reduction order for nice/marker/PowerSpectralDensity/delta: ['frequency', 'channels']\n",
      "Reduction order for nice/marker/PowerSpectralDensity/theta: ['frequency', 'channels']\n",
      "Reduction order for nice/marker/PowerSpectralDensity/theta: ['frequency', 'channels']\n",
      "Reduction order for nice/marker/PowerSpectralDensity/gamma: ['frequency', 'channels']\n",
      "Reduction order for nice/marker/PowerSpectralDensity/theta: ['frequency', 'channels']\n",
      "Reduction order for nice/marker/PowerSpectralDensity/beta: ['frequency', 'channels']\n",
      "Reduction order for nice/marker/PowerSpectralDensity/beta: ['frequency', 'channels']\n",
      "Running KolmogorovComplexity\n",
      "Elapsed time 0.01683831214904785 sec\n",
      "Reduction order for nice/marker/KolmogorovComplexity/default: ['channels']\n",
      "Filtering  at 10.42 Hz\n",
      "Performing symbolic transformation\n"
     ]
    },
    {
     "name": "stderr",
     "output_type": "stream",
     "text": [
      "[Parallel(n_jobs=24)]: Done  21 out of  24 | elapsed:    3.7s remaining:    0.5s\n",
      "[Parallel(n_jobs=24)]: Done  24 out of  24 | elapsed:    3.7s finished\n"
     ]
    },
    {
     "name": "stdout",
     "output_type": "stream",
     "text": [
      "Reduction order for nice/marker/PermutationEntropy/default: ['channels']\n",
      "Autodetected number of jobs 2\n",
      "Computing CSD\n",
      "Using 10-5 locations for CSD\n",
      "Using 2 jobs\n"
     ]
    },
    {
     "name": "stderr",
     "output_type": "stream",
     "text": [
      "[Parallel(n_jobs=2)]: Using backend LokyBackend with 2 concurrent workers.\n"
     ]
    },
    {
     "name": "stdout",
     "output_type": "stream",
     "text": [
      "Filtering  at 10.42 Hz\n",
      "Reduction order for nice/marker/SymbolicMutualInformation/default: ['channels_y', 'channels']\n",
      "Autodetected number of jobs 24\n",
      "Effective window size : 16.384 (s)\n"
     ]
    },
    {
     "name": "stderr",
     "output_type": "stream",
     "text": [
      "[Parallel(n_jobs=2)]: Done  12 out of  12 | elapsed:    1.6s finished\n",
      "[Parallel(n_jobs=24)]: Using backend LokyBackend with 24 concurrent workers.\n",
      "[Parallel(n_jobs=24)]: Done   6 out of  24 | elapsed:    3.4s remaining:   10.2s\n",
      "[Parallel(n_jobs=24)]: Done  11 out of  24 | elapsed:    3.5s remaining:    4.1s\n",
      "[Parallel(n_jobs=24)]: Done  16 out of  24 | elapsed:    3.5s remaining:    1.8s\n",
      "[Parallel(n_jobs=24)]: Done  21 out of  24 | elapsed:    3.6s remaining:    0.5s\n"
     ]
    },
    {
     "name": "stdout",
     "output_type": "stream",
     "text": [
      "Reduction order for nice/marker/PowerSpectralDensity/alpha: ['frequency', 'channels']\n",
      "Reduction order for nice/marker/PowerSpectralDensity/alpha: ['frequency', 'channels']\n",
      "Reduction order for nice/marker/PowerSpectralDensity/delta: ['frequency', 'channels']\n",
      "Reduction order for nice/marker/PowerSpectralDensity/delta: ['frequency', 'channels']\n",
      "Reduction order for nice/marker/PowerSpectralDensity/theta: ['frequency', 'channels']\n",
      "Reduction order for nice/marker/PowerSpectralDensity/theta: ['frequency', 'channels']\n",
      "Reduction order for nice/marker/PowerSpectralDensity/gamma: ['frequency', 'channels']\n",
      "Reduction order for nice/marker/PowerSpectralDensity/theta: ['frequency', 'channels']\n",
      "Reduction order for nice/marker/PowerSpectralDensity/beta: ['frequency', 'channels']\n",
      "Reduction order for nice/marker/PowerSpectralDensity/beta: ['frequency', 'channels']\n",
      "Running KolmogorovComplexity\n",
      "Elapsed time 0.03571128845214844 sec\n",
      "Reduction order for nice/marker/KolmogorovComplexity/default: ['channels']\n",
      "Filtering  at 10.42 Hz\n",
      "Performing symbolic transformation\n"
     ]
    },
    {
     "name": "stderr",
     "output_type": "stream",
     "text": [
      "[Parallel(n_jobs=24)]: Done  24 out of  24 | elapsed:    3.7s finished\n"
     ]
    },
    {
     "name": "stdout",
     "output_type": "stream",
     "text": [
      "Reduction order for nice/marker/PermutationEntropy/default: ['channels']\n",
      "Autodetected number of jobs 2\n",
      "Computing CSD\n",
      "Using 10-5 locations for CSD\n",
      "Using 2 jobs\n"
     ]
    },
    {
     "name": "stderr",
     "output_type": "stream",
     "text": [
      "[Parallel(n_jobs=2)]: Using backend LokyBackend with 2 concurrent workers.\n"
     ]
    },
    {
     "name": "stdout",
     "output_type": "stream",
     "text": [
      "Filtering  at 10.42 Hz\n",
      "Reduction order for nice/marker/SymbolicMutualInformation/default: ['channels_y', 'channels']\n",
      "Reading /media/nicolas.bruno/63f8a366-34b7-4896-a7ce-b5fb4ee78535/Nico/MW_eeg_data/minmarker/VP36/VP36_evoked_ar_clean_epo.fif ...\n"
     ]
    },
    {
     "name": "stderr",
     "output_type": "stream",
     "text": [
      "[Parallel(n_jobs=2)]: Done  18 tasks      | elapsed:    1.7s\n",
      "[Parallel(n_jobs=2)]: Done  28 out of  28 | elapsed:    1.7s finished\n"
     ]
    },
    {
     "name": "stdout",
     "output_type": "stream",
     "text": [
      "    Found the data of interest:\n",
      "        t =    -200.00 ...     600.00 ms\n",
      "        0 CTF compensation matrices available\n",
      "Not setting metadata\n",
      "Not setting metadata\n",
      "147 matching events found\n",
      "No baseline correction applied\n",
      "0 projection items activated\n",
      "Autodetected number of jobs 24\n",
      "Effective window size : 16.384 (s)\n"
     ]
    },
    {
     "name": "stderr",
     "output_type": "stream",
     "text": [
      "[Parallel(n_jobs=24)]: Using backend LokyBackend with 24 concurrent workers.\n",
      "[Parallel(n_jobs=24)]: Done   6 out of  24 | elapsed:    3.4s remaining:   10.2s\n",
      "[Parallel(n_jobs=24)]: Done  11 out of  24 | elapsed:    3.5s remaining:    4.1s\n",
      "[Parallel(n_jobs=24)]: Done  16 out of  24 | elapsed:    3.5s remaining:    1.8s\n",
      "[Parallel(n_jobs=24)]: Done  21 out of  24 | elapsed:    3.5s remaining:    0.5s\n"
     ]
    },
    {
     "name": "stdout",
     "output_type": "stream",
     "text": [
      "Reduction order for nice/marker/PowerSpectralDensity/alpha: ['frequency', 'channels']\n",
      "Reduction order for nice/marker/PowerSpectralDensity/alpha: ['frequency', 'channels']\n",
      "Reduction order for nice/marker/PowerSpectralDensity/delta: ['frequency', 'channels']\n",
      "Reduction order for nice/marker/PowerSpectralDensity/delta: ['frequency', 'channels']\n",
      "Reduction order for nice/marker/PowerSpectralDensity/theta: ['frequency', 'channels']\n",
      "Reduction order for nice/marker/PowerSpectralDensity/theta: ['frequency', 'channels']\n",
      "Reduction order for nice/marker/PowerSpectralDensity/gamma: ['frequency', 'channels']\n",
      "Reduction order for nice/marker/PowerSpectralDensity/theta: ['frequency', 'channels']\n",
      "Reduction order for nice/marker/PowerSpectralDensity/beta: ['frequency', 'channels']\n",
      "Reduction order for nice/marker/PowerSpectralDensity/beta: ['frequency', 'channels']\n",
      "Running KolmogorovComplexity\n",
      "Elapsed time 0.0039310455322265625 sec\n",
      "Reduction order for nice/marker/KolmogorovComplexity/default: ['channels']\n",
      "Filtering  at 10.42 Hz\n",
      "Performing symbolic transformation\n"
     ]
    },
    {
     "name": "stderr",
     "output_type": "stream",
     "text": [
      "[Parallel(n_jobs=24)]: Done  24 out of  24 | elapsed:    3.6s finished\n",
      "/home/nicolas.bruno/anaconda3/lib/python3.7/site-packages/nice-0.1.dev0-py3.7.egg/nice/markers/spectral.py:128: RuntimeWarning: invalid value encountered in true_divide\n",
      "  self.data_norm_ = self.data_ / self.data_.sum(axis=-1)[..., None]\n",
      "/home/nicolas.bruno/anaconda3/lib/python3.7/site-packages/nice-0.1.dev0-py3.7.egg/nice/markers/spectral.py:220: RuntimeWarning: divide by zero encountered in log10\n",
      "  out = 10 * np.log10(out)\n"
     ]
    },
    {
     "name": "stdout",
     "output_type": "stream",
     "text": [
      "Reduction order for nice/marker/PermutationEntropy/default: ['channels']\n",
      "Autodetected number of jobs 2\n",
      "Computing CSD\n",
      "Using 10-5 locations for CSD\n",
      "Using 2 jobs\n"
     ]
    },
    {
     "name": "stderr",
     "output_type": "stream",
     "text": [
      "/home/nicolas.bruno/anaconda3/lib/python3.7/site-packages/nice-0.1.dev0-py3.7.egg/nice/algorithms/information_theory/permutation_entropy.py:75: RuntimeWarning: divide by zero encountered in log\n",
      "  pe = np.nan_to_num(-np.nansum(count * np.log(count), axis=1))\n",
      "/home/nicolas.bruno/anaconda3/lib/python3.7/site-packages/nice-0.1.dev0-py3.7.egg/nice/algorithms/information_theory/permutation_entropy.py:75: RuntimeWarning: invalid value encountered in multiply\n",
      "  pe = np.nan_to_num(-np.nansum(count * np.log(count), axis=1))\n",
      "[Parallel(n_jobs=2)]: Using backend LokyBackend with 2 concurrent workers.\n"
     ]
    },
    {
     "name": "stdout",
     "output_type": "stream",
     "text": [
      "Filtering  at 10.42 Hz\n",
      "Reduction order for nice/marker/SymbolicMutualInformation/default: ['channels_y', 'channels']\n",
      "Autodetected number of jobs 24\n",
      "Effective window size : 16.384 (s)\n"
     ]
    },
    {
     "name": "stderr",
     "output_type": "stream",
     "text": [
      "[Parallel(n_jobs=2)]: Done   3 out of   3 | elapsed:    1.6s remaining:    0.0s\n",
      "[Parallel(n_jobs=2)]: Done   3 out of   3 | elapsed:    1.6s finished\n",
      "[Parallel(n_jobs=24)]: Using backend LokyBackend with 24 concurrent workers.\n",
      "[Parallel(n_jobs=24)]: Done   6 out of  24 | elapsed:    3.5s remaining:   10.4s\n",
      "[Parallel(n_jobs=24)]: Done  11 out of  24 | elapsed:    3.5s remaining:    4.1s\n",
      "[Parallel(n_jobs=24)]: Done  16 out of  24 | elapsed:    3.6s remaining:    1.8s\n",
      "[Parallel(n_jobs=24)]: Done  21 out of  24 | elapsed:    3.6s remaining:    0.5s\n",
      "[Parallel(n_jobs=24)]: Done  24 out of  24 | elapsed:    3.7s finished\n"
     ]
    },
    {
     "name": "stdout",
     "output_type": "stream",
     "text": [
      "Reduction order for nice/marker/PowerSpectralDensity/alpha: ['frequency', 'channels']\n",
      "Reduction order for nice/marker/PowerSpectralDensity/alpha: ['frequency', 'channels']\n",
      "Reduction order for nice/marker/PowerSpectralDensity/delta: ['frequency', 'channels']\n",
      "Reduction order for nice/marker/PowerSpectralDensity/delta: ['frequency', 'channels']\n",
      "Reduction order for nice/marker/PowerSpectralDensity/theta: ['frequency', 'channels']\n",
      "Reduction order for nice/marker/PowerSpectralDensity/theta: ['frequency', 'channels']\n",
      "Reduction order for nice/marker/PowerSpectralDensity/gamma: ['frequency', 'channels']\n",
      "Reduction order for nice/marker/PowerSpectralDensity/theta: ['frequency', 'channels']\n",
      "Reduction order for nice/marker/PowerSpectralDensity/beta: ['frequency', 'channels']\n",
      "Reduction order for nice/marker/PowerSpectralDensity/beta: ['frequency', 'channels']\n",
      "Running KolmogorovComplexity\n",
      "Elapsed time 0.01803874969482422 sec\n",
      "Reduction order for nice/marker/KolmogorovComplexity/default: ['channels']\n",
      "Filtering  at 10.42 Hz\n",
      "Performing symbolic transformation\n",
      "Reduction order for nice/marker/PermutationEntropy/default: ['channels']\n",
      "Autodetected number of jobs 2\n",
      "Computing CSD\n",
      "Using 10-5 locations for CSD\n",
      "Using 2 jobs\n"
     ]
    },
    {
     "name": "stderr",
     "output_type": "stream",
     "text": [
      "[Parallel(n_jobs=2)]: Using backend LokyBackend with 2 concurrent workers.\n"
     ]
    },
    {
     "name": "stdout",
     "output_type": "stream",
     "text": [
      "Filtering  at 10.42 Hz\n",
      "Reduction order for nice/marker/SymbolicMutualInformation/default: ['channels_y', 'channels']\n",
      "Autodetected number of jobs 24\n",
      "Effective window size : 16.384 (s)\n"
     ]
    },
    {
     "name": "stderr",
     "output_type": "stream",
     "text": [
      "[Parallel(n_jobs=2)]: Done  13 out of  13 | elapsed:    1.6s finished\n",
      "[Parallel(n_jobs=24)]: Using backend LokyBackend with 24 concurrent workers.\n",
      "[Parallel(n_jobs=24)]: Done   6 out of  24 | elapsed:    3.5s remaining:   10.4s\n",
      "[Parallel(n_jobs=24)]: Done  11 out of  24 | elapsed:    3.5s remaining:    4.1s\n",
      "[Parallel(n_jobs=24)]: Done  16 out of  24 | elapsed:    3.6s remaining:    1.8s\n",
      "[Parallel(n_jobs=24)]: Done  21 out of  24 | elapsed:    3.7s remaining:    0.5s\n"
     ]
    },
    {
     "name": "stdout",
     "output_type": "stream",
     "text": [
      "Reduction order for nice/marker/PowerSpectralDensity/alpha: ['frequency', 'channels']\n",
      "Reduction order for nice/marker/PowerSpectralDensity/alpha: ['frequency', 'channels']\n",
      "Reduction order for nice/marker/PowerSpectralDensity/delta: ['frequency', 'channels']\n",
      "Reduction order for nice/marker/PowerSpectralDensity/delta: ['frequency', 'channels']\n",
      "Reduction order for nice/marker/PowerSpectralDensity/theta: ['frequency', 'channels']\n",
      "Reduction order for nice/marker/PowerSpectralDensity/theta: ['frequency', 'channels']\n",
      "Reduction order for nice/marker/PowerSpectralDensity/gamma: ['frequency', 'channels']\n",
      "Reduction order for nice/marker/PowerSpectralDensity/theta: ['frequency', 'channels']\n",
      "Reduction order for nice/marker/PowerSpectralDensity/beta: ['frequency', 'channels']\n",
      "Reduction order for nice/marker/PowerSpectralDensity/beta: ['frequency', 'channels']\n",
      "Running KolmogorovComplexity\n",
      "Elapsed time 0.006849050521850586 sec\n",
      "Reduction order for nice/marker/KolmogorovComplexity/default: ['channels']\n",
      "Filtering  at 10.42 Hz\n",
      "Performing symbolic transformation\n"
     ]
    },
    {
     "name": "stderr",
     "output_type": "stream",
     "text": [
      "[Parallel(n_jobs=24)]: Done  24 out of  24 | elapsed:    3.7s finished\n"
     ]
    },
    {
     "name": "stdout",
     "output_type": "stream",
     "text": [
      "Reduction order for nice/marker/PermutationEntropy/default: ['channels']\n",
      "Autodetected number of jobs 2\n",
      "Computing CSD\n",
      "Using 10-5 locations for CSD\n",
      "Using 2 jobs\n"
     ]
    },
    {
     "name": "stderr",
     "output_type": "stream",
     "text": [
      "[Parallel(n_jobs=2)]: Using backend LokyBackend with 2 concurrent workers.\n"
     ]
    },
    {
     "name": "stdout",
     "output_type": "stream",
     "text": [
      "Filtering  at 10.42 Hz\n",
      "Reduction order for nice/marker/SymbolicMutualInformation/default: ['channels_y', 'channels']\n",
      "Autodetected number of jobs 24\n",
      "Effective window size : 16.384 (s)\n"
     ]
    },
    {
     "name": "stderr",
     "output_type": "stream",
     "text": [
      "[Parallel(n_jobs=2)]: Done   5 out of   5 | elapsed:    1.6s finished\n",
      "[Parallel(n_jobs=24)]: Using backend LokyBackend with 24 concurrent workers.\n",
      "[Parallel(n_jobs=24)]: Done   6 out of  24 | elapsed:    3.5s remaining:   10.4s\n",
      "[Parallel(n_jobs=24)]: Done  11 out of  24 | elapsed:    3.5s remaining:    4.1s\n",
      "[Parallel(n_jobs=24)]: Done  16 out of  24 | elapsed:    3.5s remaining:    1.8s\n",
      "[Parallel(n_jobs=24)]: Done  21 out of  24 | elapsed:    3.6s remaining:    0.5s\n"
     ]
    },
    {
     "name": "stdout",
     "output_type": "stream",
     "text": [
      "Reduction order for nice/marker/PowerSpectralDensity/alpha: ['frequency', 'channels']\n",
      "Reduction order for nice/marker/PowerSpectralDensity/alpha: ['frequency', 'channels']\n",
      "Reduction order for nice/marker/PowerSpectralDensity/delta: ['frequency', 'channels']\n",
      "Reduction order for nice/marker/PowerSpectralDensity/delta: ['frequency', 'channels']\n",
      "Reduction order for nice/marker/PowerSpectralDensity/theta: ['frequency', 'channels']\n",
      "Reduction order for nice/marker/PowerSpectralDensity/theta: ['frequency', 'channels']\n",
      "Reduction order for nice/marker/PowerSpectralDensity/gamma: ['frequency', 'channels']\n",
      "Reduction order for nice/marker/PowerSpectralDensity/theta: ['frequency', 'channels']\n",
      "Reduction order for nice/marker/PowerSpectralDensity/beta: ['frequency', 'channels']\n",
      "Reduction order for nice/marker/PowerSpectralDensity/beta: ['frequency', 'channels']\n",
      "Running KolmogorovComplexity\n",
      "Elapsed time 0.01470041275024414 sec\n",
      "Reduction order for nice/marker/KolmogorovComplexity/default: ['channels']\n",
      "Filtering  at 10.42 Hz\n",
      "Performing symbolic transformation\n"
     ]
    },
    {
     "name": "stderr",
     "output_type": "stream",
     "text": [
      "[Parallel(n_jobs=24)]: Done  24 out of  24 | elapsed:    3.7s finished\n"
     ]
    },
    {
     "name": "stdout",
     "output_type": "stream",
     "text": [
      "Reduction order for nice/marker/PermutationEntropy/default: ['channels']\n",
      "Autodetected number of jobs 2\n",
      "Computing CSD\n",
      "Using 10-5 locations for CSD\n",
      "Using 2 jobs\n"
     ]
    },
    {
     "name": "stderr",
     "output_type": "stream",
     "text": [
      "[Parallel(n_jobs=2)]: Using backend LokyBackend with 2 concurrent workers.\n"
     ]
    },
    {
     "name": "stdout",
     "output_type": "stream",
     "text": [
      "Filtering  at 10.42 Hz\n",
      "Reduction order for nice/marker/SymbolicMutualInformation/default: ['channels_y', 'channels']\n",
      "Autodetected number of jobs 24\n",
      "Effective window size : 16.384 (s)\n"
     ]
    },
    {
     "name": "stderr",
     "output_type": "stream",
     "text": [
      "[Parallel(n_jobs=2)]: Done   9 out of   9 | elapsed:    1.7s finished\n",
      "[Parallel(n_jobs=24)]: Using backend LokyBackend with 24 concurrent workers.\n",
      "[Parallel(n_jobs=24)]: Done   6 out of  24 | elapsed:    3.5s remaining:   10.5s\n",
      "[Parallel(n_jobs=24)]: Done  11 out of  24 | elapsed:    3.6s remaining:    4.2s\n",
      "[Parallel(n_jobs=24)]: Done  16 out of  24 | elapsed:    3.6s remaining:    1.8s\n",
      "[Parallel(n_jobs=24)]: Done  21 out of  24 | elapsed:    3.7s remaining:    0.5s\n"
     ]
    },
    {
     "name": "stdout",
     "output_type": "stream",
     "text": [
      "Reduction order for nice/marker/PowerSpectralDensity/alpha: ['frequency', 'channels']\n",
      "Reduction order for nice/marker/PowerSpectralDensity/alpha: ['frequency', 'channels']\n",
      "Reduction order for nice/marker/PowerSpectralDensity/delta: ['frequency', 'channels']\n",
      "Reduction order for nice/marker/PowerSpectralDensity/delta: ['frequency', 'channels']\n",
      "Reduction order for nice/marker/PowerSpectralDensity/theta: ['frequency', 'channels']\n",
      "Reduction order for nice/marker/PowerSpectralDensity/theta: ['frequency', 'channels']\n",
      "Reduction order for nice/marker/PowerSpectralDensity/gamma: ['frequency', 'channels']\n",
      "Reduction order for nice/marker/PowerSpectralDensity/theta: ['frequency', 'channels']\n",
      "Reduction order for nice/marker/PowerSpectralDensity/beta: ['frequency', 'channels']\n",
      "Reduction order for nice/marker/PowerSpectralDensity/beta: ['frequency', 'channels']\n",
      "Running KolmogorovComplexity\n",
      "Elapsed time 0.06017136573791504 sec\n",
      "Reduction order for nice/marker/KolmogorovComplexity/default: ['channels']\n",
      "Filtering  at 10.42 Hz\n",
      "Performing symbolic transformation\n"
     ]
    },
    {
     "name": "stderr",
     "output_type": "stream",
     "text": [
      "[Parallel(n_jobs=24)]: Done  24 out of  24 | elapsed:    3.8s finished\n"
     ]
    },
    {
     "name": "stdout",
     "output_type": "stream",
     "text": [
      "Reduction order for nice/marker/PermutationEntropy/default: ['channels']\n",
      "Autodetected number of jobs 2\n",
      "Computing CSD\n",
      "Using 10-5 locations for CSD\n",
      "Using 2 jobs\n"
     ]
    },
    {
     "name": "stderr",
     "output_type": "stream",
     "text": [
      "[Parallel(n_jobs=2)]: Using backend LokyBackend with 2 concurrent workers.\n"
     ]
    },
    {
     "name": "stdout",
     "output_type": "stream",
     "text": [
      "Filtering  at 10.42 Hz\n"
     ]
    },
    {
     "name": "stderr",
     "output_type": "stream",
     "text": [
      "[Parallel(n_jobs=2)]: Done  18 tasks      | elapsed:    1.7s\n",
      "[Parallel(n_jobs=2)]: Done  43 out of  43 | elapsed:    1.7s finished\n"
     ]
    },
    {
     "name": "stdout",
     "output_type": "stream",
     "text": [
      "Reduction order for nice/marker/SymbolicMutualInformation/default: ['channels_y', 'channels']\n",
      "Reading /media/nicolas.bruno/63f8a366-34b7-4896-a7ce-b5fb4ee78535/Nico/MW_eeg_data/minmarker/VP37/VP37_evoked_ar_clean_epo.fif ...\n",
      "    Found the data of interest:\n",
      "        t =    -200.00 ...     600.00 ms\n",
      "        0 CTF compensation matrices available\n",
      "Not setting metadata\n",
      "Not setting metadata\n",
      "181 matching events found\n",
      "No baseline correction applied\n",
      "0 projection items activated\n",
      "Autodetected number of jobs 24\n",
      "Effective window size : 16.384 (s)\n"
     ]
    },
    {
     "name": "stderr",
     "output_type": "stream",
     "text": [
      "[Parallel(n_jobs=24)]: Using backend LokyBackend with 24 concurrent workers.\n",
      "[Parallel(n_jobs=24)]: Done   6 out of  24 | elapsed:    3.6s remaining:   10.7s\n",
      "[Parallel(n_jobs=24)]: Done  11 out of  24 | elapsed:    3.6s remaining:    4.3s\n",
      "[Parallel(n_jobs=24)]: Done  16 out of  24 | elapsed:    3.7s remaining:    1.8s\n",
      "[Parallel(n_jobs=24)]: Done  21 out of  24 | elapsed:    3.7s remaining:    0.5s\n"
     ]
    },
    {
     "name": "stdout",
     "output_type": "stream",
     "text": [
      "Reduction order for nice/marker/PowerSpectralDensity/alpha: ['frequency', 'channels']\n",
      "Reduction order for nice/marker/PowerSpectralDensity/alpha: ['frequency', 'channels']\n",
      "Reduction order for nice/marker/PowerSpectralDensity/delta: ['frequency', 'channels']\n",
      "Reduction order for nice/marker/PowerSpectralDensity/delta: ['frequency', 'channels']\n",
      "Reduction order for nice/marker/PowerSpectralDensity/theta: ['frequency', 'channels']\n",
      "Reduction order for nice/marker/PowerSpectralDensity/theta: ['frequency', 'channels']\n",
      "Reduction order for nice/marker/PowerSpectralDensity/gamma: ['frequency', 'channels']\n",
      "Reduction order for nice/marker/PowerSpectralDensity/theta: ['frequency', 'channels']\n",
      "Reduction order for nice/marker/PowerSpectralDensity/beta: ['frequency', 'channels']\n",
      "Reduction order for nice/marker/PowerSpectralDensity/beta: ['frequency', 'channels']\n",
      "Running KolmogorovComplexity\n",
      "Elapsed time 0.0818479061126709 sec\n",
      "Reduction order for nice/marker/KolmogorovComplexity/default: ['channels']\n",
      "Filtering  at 10.42 Hz\n",
      "Performing symbolic transformation\n"
     ]
    },
    {
     "name": "stderr",
     "output_type": "stream",
     "text": [
      "[Parallel(n_jobs=24)]: Done  24 out of  24 | elapsed:    3.8s finished\n",
      "/home/nicolas.bruno/anaconda3/lib/python3.7/site-packages/nice-0.1.dev0-py3.7.egg/nice/markers/spectral.py:128: RuntimeWarning: invalid value encountered in true_divide\n",
      "  self.data_norm_ = self.data_ / self.data_.sum(axis=-1)[..., None]\n",
      "/home/nicolas.bruno/anaconda3/lib/python3.7/site-packages/nice-0.1.dev0-py3.7.egg/nice/markers/spectral.py:220: RuntimeWarning: divide by zero encountered in log10\n",
      "  out = 10 * np.log10(out)\n"
     ]
    },
    {
     "name": "stdout",
     "output_type": "stream",
     "text": [
      "Reduction order for nice/marker/PermutationEntropy/default: ['channels']\n",
      "Autodetected number of jobs 2\n",
      "Computing CSD\n",
      "Using 10-5 locations for CSD\n",
      "Using 2 jobs\n"
     ]
    },
    {
     "name": "stderr",
     "output_type": "stream",
     "text": [
      "/home/nicolas.bruno/anaconda3/lib/python3.7/site-packages/nice-0.1.dev0-py3.7.egg/nice/algorithms/information_theory/permutation_entropy.py:75: RuntimeWarning: divide by zero encountered in log\n",
      "  pe = np.nan_to_num(-np.nansum(count * np.log(count), axis=1))\n",
      "/home/nicolas.bruno/anaconda3/lib/python3.7/site-packages/nice-0.1.dev0-py3.7.egg/nice/algorithms/information_theory/permutation_entropy.py:75: RuntimeWarning: invalid value encountered in multiply\n",
      "  pe = np.nan_to_num(-np.nansum(count * np.log(count), axis=1))\n",
      "[Parallel(n_jobs=2)]: Using backend LokyBackend with 2 concurrent workers.\n"
     ]
    },
    {
     "name": "stdout",
     "output_type": "stream",
     "text": [
      "Filtering  at 10.42 Hz\n"
     ]
    },
    {
     "name": "stderr",
     "output_type": "stream",
     "text": [
      "[Parallel(n_jobs=2)]: Done  16 tasks      | elapsed:    1.7s\n",
      "[Parallel(n_jobs=2)]: Done  63 out of  63 | elapsed:    1.8s finished\n"
     ]
    },
    {
     "name": "stdout",
     "output_type": "stream",
     "text": [
      "Reduction order for nice/marker/SymbolicMutualInformation/default: ['channels_y', 'channels']\n",
      "Autodetected number of jobs 24\n",
      "Effective window size : 16.384 (s)\n"
     ]
    },
    {
     "name": "stderr",
     "output_type": "stream",
     "text": [
      "[Parallel(n_jobs=24)]: Using backend LokyBackend with 24 concurrent workers.\n",
      "[Parallel(n_jobs=24)]: Done   6 out of  24 | elapsed:    3.7s remaining:   11.0s\n",
      "[Parallel(n_jobs=24)]: Done  11 out of  24 | elapsed:    3.8s remaining:    4.5s\n",
      "[Parallel(n_jobs=24)]: Done  16 out of  24 | elapsed:    3.8s remaining:    1.9s\n"
     ]
    },
    {
     "name": "stdout",
     "output_type": "stream",
     "text": [
      "Reduction order for nice/marker/PowerSpectralDensity/alpha: ['frequency', 'channels']\n",
      "Reduction order for nice/marker/PowerSpectralDensity/alpha: ['frequency', 'channels']\n",
      "Reduction order for nice/marker/PowerSpectralDensity/delta: ['frequency', 'channels']\n",
      "Reduction order for nice/marker/PowerSpectralDensity/delta: ['frequency', 'channels']\n",
      "Reduction order for nice/marker/PowerSpectralDensity/theta: ['frequency', 'channels']\n",
      "Reduction order for nice/marker/PowerSpectralDensity/theta: ['frequency', 'channels']\n",
      "Reduction order for nice/marker/PowerSpectralDensity/gamma: ['frequency', 'channels']\n",
      "Reduction order for nice/marker/PowerSpectralDensity/theta: ['frequency', 'channels']\n",
      "Reduction order for nice/marker/PowerSpectralDensity/beta: ['frequency', 'channels']\n",
      "Reduction order for nice/marker/PowerSpectralDensity/beta: ['frequency', 'channels']\n",
      "Running KolmogorovComplexity\n",
      "Elapsed time 0.04996538162231445 sec\n",
      "Reduction order for nice/marker/KolmogorovComplexity/default: ['channels']\n",
      "Filtering  at 10.42 Hz\n",
      "Performing symbolic transformation\n"
     ]
    },
    {
     "name": "stderr",
     "output_type": "stream",
     "text": [
      "[Parallel(n_jobs=24)]: Done  21 out of  24 | elapsed:    4.0s remaining:    0.6s\n",
      "[Parallel(n_jobs=24)]: Done  24 out of  24 | elapsed:    4.0s finished\n"
     ]
    },
    {
     "name": "stdout",
     "output_type": "stream",
     "text": [
      "Reduction order for nice/marker/PermutationEntropy/default: ['channels']\n",
      "Autodetected number of jobs 2\n",
      "Computing CSD\n",
      "Using 10-5 locations for CSD\n",
      "Using 2 jobs\n"
     ]
    },
    {
     "name": "stderr",
     "output_type": "stream",
     "text": [
      "[Parallel(n_jobs=2)]: Using backend LokyBackend with 2 concurrent workers.\n"
     ]
    },
    {
     "name": "stdout",
     "output_type": "stream",
     "text": [
      "Filtering  at 10.42 Hz\n"
     ]
    },
    {
     "name": "stderr",
     "output_type": "stream",
     "text": [
      "[Parallel(n_jobs=2)]: Done  24 tasks      | elapsed:    1.7s\n",
      "[Parallel(n_jobs=2)]: Done  38 out of  38 | elapsed:    1.7s finished\n"
     ]
    },
    {
     "name": "stdout",
     "output_type": "stream",
     "text": [
      "Reduction order for nice/marker/SymbolicMutualInformation/default: ['channels_y', 'channels']\n",
      "Autodetected number of jobs 24\n",
      "Effective window size : 16.384 (s)\n"
     ]
    },
    {
     "name": "stderr",
     "output_type": "stream",
     "text": [
      "[Parallel(n_jobs=24)]: Using backend LokyBackend with 24 concurrent workers.\n",
      "[Parallel(n_jobs=24)]: Done   6 out of  24 | elapsed:    3.7s remaining:   11.1s\n",
      "[Parallel(n_jobs=24)]: Done  11 out of  24 | elapsed:    3.8s remaining:    4.4s\n",
      "[Parallel(n_jobs=24)]: Done  16 out of  24 | elapsed:    3.8s remaining:    1.9s\n"
     ]
    },
    {
     "name": "stdout",
     "output_type": "stream",
     "text": [
      "Reduction order for nice/marker/PowerSpectralDensity/alpha: ['frequency', 'channels']\n",
      "Reduction order for nice/marker/PowerSpectralDensity/alpha: ['frequency', 'channels']\n",
      "Reduction order for nice/marker/PowerSpectralDensity/delta: ['frequency', 'channels']\n",
      "Reduction order for nice/marker/PowerSpectralDensity/delta: ['frequency', 'channels']\n",
      "Reduction order for nice/marker/PowerSpectralDensity/theta: ['frequency', 'channels']\n",
      "Reduction order for nice/marker/PowerSpectralDensity/theta: ['frequency', 'channels']\n",
      "Reduction order for nice/marker/PowerSpectralDensity/gamma: ['frequency', 'channels']\n",
      "Reduction order for nice/marker/PowerSpectralDensity/theta: ['frequency', 'channels']\n",
      "Reduction order for nice/marker/PowerSpectralDensity/beta: ['frequency', 'channels']\n",
      "Reduction order for nice/marker/PowerSpectralDensity/beta: ['frequency', 'channels']\n",
      "Running KolmogorovComplexity\n",
      "Elapsed time 0.01024317741394043 sec\n",
      "Reduction order for nice/marker/KolmogorovComplexity/default: ['channels']\n",
      "Filtering  at 10.42 Hz\n",
      "Performing symbolic transformation\n"
     ]
    },
    {
     "name": "stderr",
     "output_type": "stream",
     "text": [
      "[Parallel(n_jobs=24)]: Done  21 out of  24 | elapsed:    3.9s remaining:    0.6s\n",
      "[Parallel(n_jobs=24)]: Done  24 out of  24 | elapsed:    4.0s finished\n"
     ]
    },
    {
     "name": "stdout",
     "output_type": "stream",
     "text": [
      "Reduction order for nice/marker/PermutationEntropy/default: ['channels']\n",
      "Autodetected number of jobs 2\n",
      "Computing CSD\n",
      "Using 10-5 locations for CSD\n",
      "Using 2 jobs\n"
     ]
    },
    {
     "name": "stderr",
     "output_type": "stream",
     "text": [
      "[Parallel(n_jobs=2)]: Using backend LokyBackend with 2 concurrent workers.\n"
     ]
    },
    {
     "name": "stdout",
     "output_type": "stream",
     "text": [
      "Filtering  at 10.42 Hz\n",
      "Reduction order for nice/marker/SymbolicMutualInformation/default: ['channels_y', 'channels']\n",
      "Autodetected number of jobs 24\n",
      "Effective window size : 16.384 (s)\n"
     ]
    },
    {
     "name": "stderr",
     "output_type": "stream",
     "text": [
      "[Parallel(n_jobs=2)]: Done   8 out of   8 | elapsed:    1.7s finished\n",
      "[Parallel(n_jobs=24)]: Using backend LokyBackend with 24 concurrent workers.\n",
      "[Parallel(n_jobs=24)]: Done   6 out of  24 | elapsed:    3.4s remaining:   10.3s\n",
      "[Parallel(n_jobs=24)]: Done  11 out of  24 | elapsed:    3.5s remaining:    4.2s\n",
      "[Parallel(n_jobs=24)]: Done  16 out of  24 | elapsed:    3.6s remaining:    1.8s\n"
     ]
    },
    {
     "name": "stdout",
     "output_type": "stream",
     "text": [
      "Reduction order for nice/marker/PowerSpectralDensity/alpha: ['frequency', 'channels']\n",
      "Reduction order for nice/marker/PowerSpectralDensity/alpha: ['frequency', 'channels']\n",
      "Reduction order for nice/marker/PowerSpectralDensity/delta: ['frequency', 'channels']\n",
      "Reduction order for nice/marker/PowerSpectralDensity/delta: ['frequency', 'channels']\n",
      "Reduction order for nice/marker/PowerSpectralDensity/theta: ['frequency', 'channels']\n",
      "Reduction order for nice/marker/PowerSpectralDensity/theta: ['frequency', 'channels']\n",
      "Reduction order for nice/marker/PowerSpectralDensity/gamma: ['frequency', 'channels']\n",
      "Reduction order for nice/marker/PowerSpectralDensity/theta: ['frequency', 'channels']\n",
      "Reduction order for nice/marker/PowerSpectralDensity/beta: ['frequency', 'channels']\n",
      "Reduction order for nice/marker/PowerSpectralDensity/beta: ['frequency', 'channels']\n",
      "Running KolmogorovComplexity\n",
      "Elapsed time 0.002548694610595703 sec\n",
      "Reduction order for nice/marker/KolmogorovComplexity/default: ['channels']\n",
      "Filtering  at 10.42 Hz\n",
      "Performing symbolic transformation\n"
     ]
    },
    {
     "name": "stderr",
     "output_type": "stream",
     "text": [
      "[Parallel(n_jobs=24)]: Done  21 out of  24 | elapsed:    3.7s remaining:    0.5s\n",
      "[Parallel(n_jobs=24)]: Done  24 out of  24 | elapsed:    3.7s finished\n"
     ]
    },
    {
     "name": "stdout",
     "output_type": "stream",
     "text": [
      "Reduction order for nice/marker/PermutationEntropy/default: ['channels']\n",
      "Autodetected number of jobs 2\n",
      "Computing CSD\n",
      "Using 10-5 locations for CSD\n",
      "Using 2 jobs\n"
     ]
    },
    {
     "name": "stderr",
     "output_type": "stream",
     "text": [
      "[Parallel(n_jobs=2)]: Using backend LokyBackend with 2 concurrent workers.\n"
     ]
    },
    {
     "name": "stdout",
     "output_type": "stream",
     "text": [
      "Filtering  at 10.42 Hz\n",
      "Reduction order for nice/marker/SymbolicMutualInformation/default: ['channels_y', 'channels']\n",
      "Autodetected number of jobs 24\n",
      "Effective window size : 16.384 (s)\n"
     ]
    },
    {
     "name": "stderr",
     "output_type": "stream",
     "text": [
      "[Parallel(n_jobs=2)]: Done   2 out of   2 | elapsed:    1.6s remaining:    0.0s\n",
      "[Parallel(n_jobs=2)]: Done   2 out of   2 | elapsed:    1.6s finished\n",
      "[Parallel(n_jobs=24)]: Using backend LokyBackend with 24 concurrent workers.\n",
      "[Parallel(n_jobs=24)]: Done   6 out of  24 | elapsed:    3.5s remaining:   10.6s\n",
      "[Parallel(n_jobs=24)]: Done  11 out of  24 | elapsed:    3.6s remaining:    4.3s\n",
      "[Parallel(n_jobs=24)]: Done  16 out of  24 | elapsed:    3.7s remaining:    1.8s\n",
      "[Parallel(n_jobs=24)]: Done  21 out of  24 | elapsed:    3.7s remaining:    0.5s\n"
     ]
    },
    {
     "name": "stdout",
     "output_type": "stream",
     "text": [
      "Reduction order for nice/marker/PowerSpectralDensity/alpha: ['frequency', 'channels']\n",
      "Reduction order for nice/marker/PowerSpectralDensity/alpha: ['frequency', 'channels']\n",
      "Reduction order for nice/marker/PowerSpectralDensity/delta: ['frequency', 'channels']\n",
      "Reduction order for nice/marker/PowerSpectralDensity/delta: ['frequency', 'channels']\n",
      "Reduction order for nice/marker/PowerSpectralDensity/theta: ['frequency', 'channels']\n",
      "Reduction order for nice/marker/PowerSpectralDensity/theta: ['frequency', 'channels']\n",
      "Reduction order for nice/marker/PowerSpectralDensity/gamma: ['frequency', 'channels']\n",
      "Reduction order for nice/marker/PowerSpectralDensity/theta: ['frequency', 'channels']\n",
      "Reduction order for nice/marker/PowerSpectralDensity/beta: ['frequency', 'channels']\n",
      "Reduction order for nice/marker/PowerSpectralDensity/beta: ['frequency', 'channels']\n",
      "Running KolmogorovComplexity\n",
      "Elapsed time 0.018919944763183594 sec\n",
      "Reduction order for nice/marker/KolmogorovComplexity/default: ['channels']\n",
      "Filtering  at 10.42 Hz\n",
      "Performing symbolic transformation\n"
     ]
    },
    {
     "name": "stderr",
     "output_type": "stream",
     "text": [
      "[Parallel(n_jobs=24)]: Done  24 out of  24 | elapsed:    3.8s finished\n"
     ]
    },
    {
     "name": "stdout",
     "output_type": "stream",
     "text": [
      "Reduction order for nice/marker/PermutationEntropy/default: ['channels']\n",
      "Autodetected number of jobs 2\n",
      "Computing CSD\n",
      "Using 10-5 locations for CSD\n",
      "Using 2 jobs\n"
     ]
    },
    {
     "name": "stderr",
     "output_type": "stream",
     "text": [
      "[Parallel(n_jobs=2)]: Using backend LokyBackend with 2 concurrent workers.\n"
     ]
    },
    {
     "name": "stdout",
     "output_type": "stream",
     "text": [
      "Filtering  at 10.42 Hz\n",
      "Reduction order for nice/marker/SymbolicMutualInformation/default: ['channels_y', 'channels']\n"
     ]
    },
    {
     "name": "stderr",
     "output_type": "stream",
     "text": [
      "[Parallel(n_jobs=2)]: Done  15 out of  15 | elapsed:    1.7s finished\n"
     ]
    }
   ],
   "source": [
    "for i in all_participants:\n",
    "    participant = i\n",
    "\n",
    "    folder = path + participant +'/'\n",
    "    epochs = mne.read_epochs(folder +  participant + '_' + epoch_type + '_' +  'ar_clean_epo.fif')\n",
    "    \n",
    "    epochs.info['description'] = 'biosemi/64' #necessary for wSMI\n",
    "    \n",
    "    epochs =  epochs.pick_types(eeg = True) #EOGs break everything\n",
    "    \n",
    "    df_markers = pd.DataFrame()\n",
    "    \n",
    "    try:\n",
    "        df_ = pd.DataFrame.from_dict(all_markers(epochs['SC/dMW/go/correct'], 0, 0.6))\n",
    "        df_['probe'] = 'SC'\n",
    "        df_['mind'] = 'dMW'\n",
    "        df_markers = df_markers.append(df_)\n",
    "    except:\n",
    "        pass\n",
    "    try:\n",
    "        df_ = pd.DataFrame.from_dict(all_markers(epochs['SC/sMW/go/correct'], 0, 0.6))\n",
    "        df_['probe'] = 'SC'\n",
    "        df_['mind'] = 'sMW'\n",
    "        df_markers = df_markers.append(df_)\n",
    "    except:\n",
    "        pass\n",
    "\n",
    "    try:\n",
    "        df_ = pd.DataFrame.from_dict(all_markers(epochs['PC/dMW/go/correct'], 0, 0.6))\n",
    "        df_['probe'] = 'PC'\n",
    "        df_['mind'] = 'dMW'\n",
    "        df_markers = df_markers.append(df_)\n",
    "    except:\n",
    "        pass\n",
    "    \n",
    "    try:\n",
    "        df_ = pd.DataFrame.from_dict(all_markers(epochs['PC/sMW/go/correct'], 0, 0.6))\n",
    "        df_['probe'] = 'PC'\n",
    "        df_['mind'] = 'sMW'\n",
    "        df_markers = df_markers.append(df_)\n",
    "    except:\n",
    "        pass\n",
    "    try:\n",
    "        df_ = pd.DataFrame.from_dict(all_markers(epochs['PC/on-task/go/correct'], 0, 0.6))\n",
    "        df_['probe'] = 'PC'\n",
    "        df_['mind'] = 'on-task'\n",
    "        df_markers = df_markers.append(df_)\n",
    "    except:\n",
    "        pass\n",
    "    \n",
    "    df_markers.to_csv(folder+ participant + '_' + epoch_type + '_all_marker.csv')\n"
   ]
  },
  {
   "cell_type": "code",
   "execution_count": 17,
   "metadata": {},
   "outputs": [
    {
     "name": "stdout",
     "output_type": "stream",
     "text": [
      "Autodetected number of jobs 24\n",
      "Effective window size : 16.384 (s)\n"
     ]
    },
    {
     "name": "stderr",
     "output_type": "stream",
     "text": [
      "[Parallel(n_jobs=24)]: Using backend LokyBackend with 24 concurrent workers.\n",
      "[Parallel(n_jobs=24)]: Done   6 out of  24 | elapsed:    3.4s remaining:   10.2s\n",
      "[Parallel(n_jobs=24)]: Done  11 out of  24 | elapsed:    3.5s remaining:    4.1s\n",
      "[Parallel(n_jobs=24)]: Done  16 out of  24 | elapsed:    3.5s remaining:    1.8s\n"
     ]
    },
    {
     "name": "stdout",
     "output_type": "stream",
     "text": [
      "Reduction order for nice/marker/PowerSpectralDensity/alpha: ['frequency', 'channels']\n",
      "Reduction order for nice/marker/PowerSpectralDensity/alpha: ['frequency', 'channels']\n",
      "Reduction order for nice/marker/PowerSpectralDensity/delta: ['frequency', 'channels']\n",
      "Reduction order for nice/marker/PowerSpectralDensity/delta: ['frequency', 'channels']\n",
      "Reduction order for nice/marker/PowerSpectralDensity/theta: ['frequency', 'channels']\n",
      "Reduction order for nice/marker/PowerSpectralDensity/theta: ['frequency', 'channels']\n",
      "Reduction order for nice/marker/PowerSpectralDensity/gamma: ['frequency', 'channels']\n",
      "Reduction order for nice/marker/PowerSpectralDensity/theta: ['frequency', 'channels']\n",
      "Reduction order for nice/marker/PowerSpectralDensity/beta: ['frequency', 'channels']\n",
      "Reduction order for nice/marker/PowerSpectralDensity/beta: ['frequency', 'channels']\n",
      "Running KolmogorovComplexity\n"
     ]
    },
    {
     "name": "stderr",
     "output_type": "stream",
     "text": [
      "[Parallel(n_jobs=24)]: Done  21 out of  24 | elapsed:    3.6s remaining:    0.5s\n",
      "[Parallel(n_jobs=24)]: Done  24 out of  24 | elapsed:    3.8s finished\n"
     ]
    },
    {
     "name": "stdout",
     "output_type": "stream",
     "text": [
      "Elapsed time 0.05859518051147461 sec\n",
      "Reduction order for nice/marker/KolmogorovComplexity/default: ['channels']\n",
      "Filtering  at 10.42 Hz\n",
      "Performing symbolic transformation\n",
      "Reduction order for nice/marker/PermutationEntropy/default: ['channels']\n",
      "Autodetected number of jobs 2\n",
      "Computing CSD\n",
      "Using 10-5 locations for CSD\n",
      "Using 2 jobs\n"
     ]
    },
    {
     "name": "stderr",
     "output_type": "stream",
     "text": [
      "[Parallel(n_jobs=2)]: Using backend LokyBackend with 2 concurrent workers.\n"
     ]
    },
    {
     "name": "stdout",
     "output_type": "stream",
     "text": [
      "Filtering  at 10.42 Hz\n"
     ]
    },
    {
     "name": "stderr",
     "output_type": "stream",
     "text": [
      "[Parallel(n_jobs=2)]: Done  18 tasks      | elapsed:    1.6s\n",
      "[Parallel(n_jobs=2)]: Done  38 out of  38 | elapsed:    1.7s finished\n"
     ]
    },
    {
     "name": "stdout",
     "output_type": "stream",
     "text": [
      "Reduction order for nice/marker/SymbolicMutualInformation/default: ['channels_y', 'channels']\n"
     ]
    }
   ],
   "source": [
    "try:\n",
    "    df_ = pd.DataFrame.from_dict(all_markers(epochs['SC/sMW/go/correct'], 0, 0.6))\n",
    "    df_['probe'] = 'SC'\n",
    "    df_['mind'] = 'sMW'\n",
    "    df_markers.append(df_)\n",
    "except:\n",
    "    pass"
   ]
  }
 ],
 "metadata": {
  "kernelspec": {
   "display_name": "Python 3",
   "language": "python",
   "name": "python3"
  },
  "language_info": {
   "codemirror_mode": {
    "name": "ipython",
    "version": 3
   },
   "file_extension": ".py",
   "mimetype": "text/x-python",
   "name": "python",
   "nbconvert_exporter": "python",
   "pygments_lexer": "ipython3",
   "version": "3.7.4"
  }
 },
 "nbformat": 4,
 "nbformat_minor": 4
}
