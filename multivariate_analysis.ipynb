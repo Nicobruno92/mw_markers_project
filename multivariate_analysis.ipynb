{
 "cells": [
  {
   "cell_type": "code",
   "execution_count": 1,
   "id": "thousand-european",
   "metadata": {},
   "outputs": [
    {
     "data": {
      "text/html": [
       "        <script type=\"text/javascript\">\n",
       "        window.PlotlyConfig = {MathJaxConfig: 'local'};\n",
       "        if (window.MathJax) {MathJax.Hub.Config({SVG: {font: \"STIX-Web\"}});}\n",
       "        if (typeof require !== 'undefined') {\n",
       "        require.undef(\"plotly\");\n",
       "        requirejs.config({\n",
       "            paths: {\n",
       "                'plotly': ['https://cdn.plot.ly/plotly-2.9.0.min']\n",
       "            }\n",
       "        });\n",
       "        require(['plotly'], function(Plotly) {\n",
       "            window._Plotly = Plotly;\n",
       "        });\n",
       "        }\n",
       "        </script>\n",
       "        "
      ]
     },
     "metadata": {},
     "output_type": "display_data"
    },
    {
     "data": {
      "text/html": [
       "        <script type=\"text/javascript\">\n",
       "        window.PlotlyConfig = {MathJaxConfig: 'local'};\n",
       "        if (window.MathJax) {MathJax.Hub.Config({SVG: {font: \"STIX-Web\"}});}\n",
       "        if (typeof require !== 'undefined') {\n",
       "        require.undef(\"plotly\");\n",
       "        requirejs.config({\n",
       "            paths: {\n",
       "                'plotly': ['https://cdn.plot.ly/plotly-2.9.0.min']\n",
       "            }\n",
       "        });\n",
       "        require(['plotly'], function(Plotly) {\n",
       "            window._Plotly = Plotly;\n",
       "        });\n",
       "        }\n",
       "        </script>\n",
       "        "
      ]
     },
     "metadata": {},
     "output_type": "display_data"
    }
   ],
   "source": [
    "import numpy as np\n",
    "import seaborn as sns\n",
    "import pandas as pd\n",
    "import matplotlib.pyplot as plt\n",
    "\n",
    "import plotly.express as px\n",
    "import plotly.graph_objects as go\n",
    "import plotly.offline as pyo\n",
    "import plotly.io as pio\n",
    "from plotly.subplots import make_subplots\n",
    "\n",
    "pyo.init_notebook_mode(connected = True)\n",
    "\n",
    "\n",
    "from sklearn.metrics import roc_auc_score\n",
    "from sklearn.svm import SVC\n",
    "from sklearn.preprocessing import StandardScaler, RobustScaler\n",
    "from sklearn.pipeline import Pipeline, make_pipeline\n",
    "from sklearn.model_selection import (\n",
    "    GridSearchCV,\n",
    "    train_test_split,\n",
    "    cross_val_score,\n",
    "    GroupShuffleSplit,\n",
    "    permutation_test_score,\n",
    "    StratifiedKFold,\n",
    "    KFold,\n",
    "    cross_validate\n",
    ")\n",
    "\n",
    "from tqdm import tqdm \n",
    "\n",
    "from imblearn.under_sampling import RandomUnderSampler\n",
    "from imblearn.over_sampling import RandomOverSampler, SMOTE\n",
    "from imblearn.pipeline import Pipeline as imb_pipeline\n",
    "\n",
    "from sklearn.ensemble import ExtraTreesClassifier\n",
    "\n",
    "from utils import multivariate_classifier, correct_name_markers, plot_univariate"
   ]
  },
  {
   "cell_type": "code",
   "execution_count": 2,
   "id": "completed-fountain",
   "metadata": {
    "pycharm": {
     "is_executing": false
    }
   },
   "outputs": [],
   "source": [
    "# plotting parameters\n",
    "grey = \"#21201F\"\n",
    "green = \"#9AC529\"\n",
    "lblue = \"#42B9B2\"\n",
    "pink = \"#DE237B\"\n",
    "orange = \"#F38A31\"\n",
    "\n",
    "nt_colors = [green, lblue, pink, orange]\n",
    "\n",
    "plt.style.use(\"ggplot\")\n",
    "fig_width = 12  # width in inches\n",
    "fig_height = 9  # height in inches\n",
    "fig_size = [fig_width, fig_height]\n",
    "plt.rcParams[\"figure.figsize\"] = fig_size\n",
    "plt.rcParams[\"figure.autolayout\"] = True\n",
    "\n",
    "sns.set(\n",
    "    style=\"white\",\n",
    "    context=\"notebook\",\n",
    "    font_scale=1,\n",
    "    rc={\n",
    "        \"axes.labelcolor\": grey,\n",
    "        \"text.color\": grey,\n",
    "        \"axes.edgecolor\": grey,\n",
    "        \"xtick.color\": grey,\n",
    "        \"ytick.color\": grey,\n",
    "    },\n",
    ")\n",
    "\n",
    "sns.set_palette(sns.color_palette\n",
    "(nt_colors))"
   ]
  },
  {
   "cell_type": "markdown",
   "id": "available-academy",
   "metadata": {},
   "source": [
    "# Load Data"
   ]
  },
  {
   "cell_type": "code",
   "execution_count": 3,
   "id": "living-great",
   "metadata": {},
   "outputs": [],
   "source": [
    "epoch_type = \"evoked\"\n",
    "# epoch_type = 'pseudo-rs'\n",
    "\n",
    "all_participants = [\n",
    "    \"VP07\",\n",
    "    \"VP08\",\n",
    "    \"VP09\",\n",
    "    \"VP10\",\n",
    "    \"VP11\",\n",
    "    \"VP12\",\n",
    "    \"VP13\",\n",
    "    \"VP14\",\n",
    "    \"VP18\",\n",
    "    \"VP19\",\n",
    "    \"VP20\",\n",
    "    \"VP22\",\n",
    "    \"VP23\",\n",
    "    \"VP24\",\n",
    "    \"VP25\",\n",
    "    \"VP26\",\n",
    "    \"VP27\",\n",
    "    \"VP28\",\n",
    "    \"VP29\",\n",
    "    \"VP30\",\n",
    "    \"VP31\",\n",
    "    \"VP32\",\n",
    "    \"VP33\",\n",
    "    \"VP35\",\n",
    "    \"VP36\",\n",
    "    \"VP37\",\n",
    "]\n",
    "\n",
    "# path = \"/media/nicolas.bruno/63f8a366-34b7-4896-a7ce-b5fb4ee78535/Nico/MW_eeg_data/minmarker/\"  # icm-linux\n",
    "path = '/Users/nicobruno/ownCloud/MW_eeg_data/minmarker/' #nico-mac"
   ]
  },
  {
   "cell_type": "code",
   "execution_count": 4,
   "id": "impressive-classification",
   "metadata": {},
   "outputs": [
    {
     "data": {
      "text/plain": [
       "14"
      ]
     },
     "execution_count": 4,
     "metadata": {},
     "output_type": "execute_result"
    }
   ],
   "source": [
    "good_participants = all_participants[1:2] +  all_participants[6:10] +  all_participants[12:15]  + all_participants[18:23] + [all_participants[25]]\n",
    "len(good_participants)"
   ]
  },
  {
   "cell_type": "code",
   "execution_count": 5,
   "id": "literary-brighton",
   "metadata": {},
   "outputs": [],
   "source": [
    "df = pd.DataFrame()\n",
    "\n",
    "for i, v in enumerate(all_participants):\n",
    "    participant = v\n",
    "\n",
    "    folder = path + participant + \"/\"\n",
    "\n",
    "    df_ = pd.read_csv(folder + participant + \"_\" + epoch_type + \"_all_marker.csv\", index_col=0)\n",
    "#     df_ = pd.read_csv(folder + participant + \"_\" + epoch_type + \"noica_all_marker.csv\", index_col=0)\n",
    "    \n",
    "    df_[\"participant\"] = i\n",
    "    df = df.append(df_)\n",
    "\n"
   ]
  },
  {
   "cell_type": "code",
   "execution_count": 6,
   "id": "simple-quick",
   "metadata": {},
   "outputs": [],
   "source": [
    "markers = ['wSMI_1', 'wSMI_2', 'wSMI_4', 'wSMI_8', 'p_e_1', 'p_e_2',\n",
    "       'p_e_4', 'p_e_8', 'k', 'se','msf', 'sef90', 'sef95', 'b', 'b_n', 'g',\n",
    "       'g_n', 't', 't_n', 'd', 'd_n', 'a_n', 'a', 'CNV', 'P1', 'P3a', 'P3b',]\n",
    "#           'ft', 'ft_n']\n",
    "erps =['CNV', 'P1', 'P3a', 'P3b']\n",
    "# erps = [r'$CNV$', r'$P1$', r'$P3a$',r'$P3b$']\n",
    "\n",
    "# markers =  [r'$\\delta$',r'$|\\delta|$',r'$\\theta$', r'$|\\theta|$',r'$\\alpha$', r'$|\\alpha|$',r'$\\beta$', r'$|\\beta|$',r'$\\gamma$', r'$|\\gamma|$',\n",
    "#             r'$PE\\gamma$',r'$PE\\beta$',r'$PE\\alpha$',r'$PE\\theta$',\n",
    "#             r'$wSMI\\gamma$',r'$wSMI\\beta$',r'$wSMI\\alpha$',r'$wSMI\\theta$', \n",
    "#             r'$K$',r'$SE$',r'$MSF$', r'$SEF90$', r'$SEF95$', \n",
    "#             r'$CNV$', r'$P1$', r'$P3a$',r'$P3b$'\n",
    "#            ]\n",
    "\n",
    "\n",
    "# df_subtracted = df.query(\"preproc == 'subtracted'\").drop(columns = erps+['preproc'])\n",
    "# df_erp = df.query(\"preproc == 'erp'\").drop(columns = np.setdiff1d(markers,erps).tolist()+['preproc'])\n",
    "\n",
    "# df_markers = df_subtracted.merge(df_erp, 'inner', on =np.setdiff1d(df_subtracted.columns, markers).tolist() )\n",
    "\n",
    "df_markers = (df\n",
    "              .query(\"stimuli == 'go'\")\n",
    "              .query(\"correct == 'correct'\")\n",
    "            .query('prev_trial < 5')\n",
    "              .drop(['stimuli', 'correct', 'prev_trial', 'label', 'events',  'epoch_type', 'preproc', 'ft', 'ft_n'], axis = 1)\n",
    "              .query(\"mind in ['on-task','dMW', 'sMW']\")\n",
    "              .groupby(['segment', 'participant']).filter(lambda x: len(x) > 1)\n",
    "             )\n",
    "\n",
    "# df_markers.to_csv('Data/all_markers.csv')"
   ]
  },
  {
   "cell_type": "markdown",
   "id": "obvious-lloyd",
   "metadata": {},
   "source": [
    "# By segment Mulivariate analysis"
   ]
  },
  {
   "cell_type": "markdown",
   "id": "interpreted-sessions",
   "metadata": {
    "tags": []
   },
   "source": [
    "## On-task Vs Mind- Wandering\n",
    "This can only be performed for PC probes  as they are the only ones with On-task reports."
   ]
  },
  {
   "cell_type": "code",
   "execution_count": 7,
   "id": "parental-breakdown",
   "metadata": {},
   "outputs": [],
   "source": [
    "variance = lambda x: np.std(x)/np.mean(x)\n",
    "\n",
    "agg_dict = {k: [\"mean\", 'std'] for k in markers}\n",
    "agg_dict.update({k: \"first\" for k in df_markers.drop(markers, axis=1).columns})\n",
    "\n",
    "df_mind = (\n",
    "    df_markers.query(\"probe == 'PC'\")\n",
    "    .groupby([\"segment\", \"participant\"], as_index=False)\n",
    "    .agg(agg_dict)\n",
    "    #     .query(\"mind != 'sMW'\") #if you want to test against just one of the mw\n",
    "    .assign(mind2=lambda df: np.where(df.mind == \"on-task\", \"on-task\", \"mw\"))\n",
    ")\n",
    "\n",
    "# df_mind.columns = df_mind.columns.map(\"_\".join)\n",
    "\n",
    "# df_mind = df_mind.rename(\n",
    "#     columns={\n",
    "#         \"participant_first\": \"participant\",\n",
    "#         \"probe_first\": \"probe\",\n",
    "#         \"mind_first\": \"mind\",\n",
    "#         \"segment_first\": \"segment\",\n",
    "#         \"mind2_\": \"mind2\",\n",
    "#     }\n",
    "# ).drop([\"participant\", \"probe\", \"mind\", \"segment\"], axis=1)\n",
    "\n",
    "\n",
    "#### Use latex command for nmaes###\n",
    "##it slow downs the computer, just for final figures.\n",
    "\n",
    "df_mind = correct_name_markers(df_mind)\n",
    "\n",
    "df_mind.columns = df_mind.columns.map(\"$_{\".join).map(lambda x: x + '}$').map(lambda x: x.replace('$$', ''))\n",
    "\n",
    "df_mind  = (df_mind\n",
    "            .rename(columns = {'participant$_{first}$':'participant', 'probe$_{first}$':'probe', 'mind$_{first}$':'mind', 'segment$_{first}$':'segment', 'mind2$_{}$':'mind2'})\n",
    "#             .query(\"mind != 'dMW'\") #if you want to test against just one of the mw            \n",
    "            .drop(['participant', 'probe', 'mind', 'segment'], axis = 1) \n",
    "           )\n"
   ]
  },
  {
   "cell_type": "code",
   "execution_count": 8,
   "id": "0b853da6",
   "metadata": {},
   "outputs": [
    {
     "name": "stderr",
     "output_type": "stream",
     "text": [
      "/var/folders/3p/z_m37csj5cs4hp5x2z1hsfrc0000gq/T/ipykernel_4250/553579587.py:33: FutureWarning:\n",
      "\n",
      "Dropping of nuisance columns in DataFrame reductions (with 'numeric_only=None') is deprecated; in a future version this will raise TypeError.  Select only valid columns before calling the reduction.\n",
      "\n"
     ]
    }
   ],
   "source": [
    "data = df_mind\n",
    "label = 'mind2'\n",
    "features = df_mind.drop('mind2', axis = 1).columns\n",
    "model = 'forest'\n",
    "n_components = 10\n",
    "cv_splits= 5 \n",
    "\n",
    "y, lbl = pd.factorize(data[label])\n",
    "X = data[features].astype(\"float32\").values\n",
    "\n",
    "steps = [(\"scaler\", StandardScaler())]\n",
    "\n",
    "n_estimators = 1000\n",
    "steps.append(('Forest',ExtraTreesClassifier(\n",
    "        n_estimators=n_estimators, max_features=1, criterion='entropy',\n",
    "        max_depth=None, random_state=42, class_weight=None)))\n",
    "\n",
    "pipe_cv = Pipeline(steps)\n",
    "\n",
    "cv = KFold(cv_splits, shuffle=True, random_state = 42)\n",
    "\n",
    "\n",
    "output = cross_validate(\n",
    "    X=X, y=y, estimator=pipe_cv,\n",
    "    scoring='roc_auc', cv=cv,  n_jobs = -1, return_estimator =True)\n",
    "\n",
    "output['test_score']\n",
    "\n",
    "feature_importances = pd.DataFrame(features, columns = ['features'])\n",
    "for idx,estimator in enumerate(output['estimator']):\n",
    "    feature_importances[idx] = estimator.named_steps['Forest'].feature_importances_ \n",
    "\n",
    "feature_importances['mean_importance'] = feature_importances.iloc[:, [0,1,2,3,4]].mean(axis=1)"
   ]
  },
  {
   "cell_type": "code",
   "execution_count": 9,
   "id": "dental-imaging",
   "metadata": {},
   "outputs": [],
   "source": [
    "def multivariate_classifier(\n",
    "    data, label, features, model ,pca = False, n_components = 3,  cv_splits = 5,grid_search=False,plot = True, permutation=False, n_permutations = 1000 \n",
    "):\n",
    "    \"\"\"\n",
    "    data: dataframe with features and labels\n",
    "    label: name of the column with the labels for the classification\n",
    "    features: feaure or list of features corresponding to the columns of the data frame with the markers\n",
    "    model: type of classifier model {SVM or forest}\n",
    "    pca: if use pca as reduction\n",
    "    n_components: number of components of the pca\n",
    "    cv_splits: number of crossvalidations splits\n",
    "    grid_search: if true it will apply grid search 5cv to find the best parameters of C and gamma, only for the SVM. Deafault: False\n",
    "    n_permutations: number of permutations\n",
    "    \"\"\"\n",
    "    #pipeline steps init\n",
    "    steps = [(\"scaler\", StandardScaler())]\n",
    "    \n",
    "    if pca == True:\n",
    "        steps.append(('pca', PCA(n_components = n_components)))\n",
    "        \n",
    "    C= 0.001\n",
    "    gamma=0.1\n",
    "    \n",
    "    y, lbl = pd.factorize(data[label])\n",
    "    X = data[features].astype(\"float32\").values\n",
    "        \n",
    "    if grid_search == True:\n",
    " \n",
    "\n",
    "        steps_grid = steps.copy()\n",
    "        steps_grid.append((\"SVM\", SVC(probability=True)))\n",
    "        pipe_grid = Pipeline(steps_grid)\n",
    "\n",
    "        parameteres = {\n",
    "            \"SVM__C\": [0.001, 0.1, 10, 100, 10e5],\n",
    "            \"SVM__gamma\": [1,0.5, 0.1, 0.01, 0.001],\n",
    "        }\n",
    "        \n",
    "        grid = GridSearchCV(pipe_grid, param_grid=parameteres, cv=cv_splits, n_jobs=-1)\n",
    "        grid.fit(X, y)\n",
    "        \n",
    "        print(grid.best_params_)\n",
    "        \n",
    "        C=grid.best_params_[\"SVM__C\"]\n",
    "        gamma=grid.best_params_[\"SVM__gamma\"]\n",
    "        \n",
    "    if model == 'SVM':\n",
    "        steps.append(('SVM', SVC(C = C, gamma = gamma, probability = True)))       \n",
    "\n",
    "        pipe_cv = Pipeline(steps)\n",
    "\n",
    "        cv = KFold(cv_splits, shuffle=True, random_state = 42)\n",
    "\n",
    "        aucs = cross_val_score(\n",
    "            X=X,\n",
    "            y=y,\n",
    "            estimator=pipe_cv,\n",
    "            scoring=\"roc_auc\",\n",
    "            cv=cv,\n",
    "        )\n",
    "\n",
    "  \n",
    "    if model == 'forest':\n",
    "        n_estimators = 1000\n",
    "        steps.append(('Forest',ExtraTreesClassifier(\n",
    "                n_estimators=n_estimators, max_features=1, criterion='entropy',\n",
    "                max_depth=None, random_state=42, class_weight=None)))\n",
    "        \n",
    "        pipe_cv = Pipeline(steps)\n",
    "        \n",
    "        cv = KFold(cv_splits, shuffle=True, random_state = 42)\n",
    "\n",
    "\n",
    "        output = cross_validate(\n",
    "            X=X, y=y, estimator=pipe_cv,\n",
    "            scoring='roc_auc', cv=cv,  n_jobs = -1, return_estimator =True)\n",
    "\n",
    "        aucs = output['test_score']\n",
    "\n",
    "        feature_importances = pd.DataFrame(features, columns = ['features'])\n",
    "        for idx,estimator in enumerate(output['estimator']):\n",
    "            feature_importances[idx] = estimator.named_steps['Forest'].feature_importances_ \n",
    "\n",
    "        feature_importances['mean_importance'] = feature_importances.iloc[:, [1,2,3,4,5]].mean(axis=1)\n",
    "            \n",
    "        \n",
    "        df_auc = pd.DataFrame(aucs, columns=[\"auc\"])\n",
    "    \n",
    "    \n",
    "    if plot == True:\n",
    "        sns.catplot(x = 'auc', orient = 'h', data = df_auc, kind = 'violin')\n",
    "        plt.title(f'Mean = {np.mean(df_auc.auc)}; SD = {np.std(df_auc.auc)}')\n",
    "        plt.axvline(x = 0.5, linestyle = 'dashed')\n",
    "        plt.show()\n",
    "        \n",
    "     \n",
    "    if permutation == True:\n",
    "        score, perm_scores, pvalue = permutation_test_score(\n",
    "            pipe_cv, X, y, scoring=\"roc_auc\", cv=cv, n_permutations=n_permutations, random_state = 42, n_jobs= -1\n",
    "        )\n",
    "            \n",
    "\n",
    "        print(f\"p_value = {pvalue}\")\n",
    "        \n",
    "        plt.hist(perm_scores, bins=20, density=True)\n",
    "        plt.axvline(score, ls=\"--\", color=\"r\")\n",
    "        score_label = (\n",
    "            f\"Score on original\\ndata: {score:.2f}\\n\" f\"(p-value: {pvalue:.3f})\"\n",
    "        )\n",
    "        plt.text(score, np.max(perm_scores), score_label, fontsize=12)\n",
    "        plt.xlabel(\"Accuracy score\")\n",
    "        plt.ylabel(\"Probability\")\n",
    "        plt.show()\n",
    "        \n",
    "    if model == 'forest':\n",
    "        if permutation == True:\n",
    "            return df_auc, feature_importances, perm_scores, pvalue\n",
    "        \n",
    "        else:\n",
    "            return df_auc, feature_importances\n",
    "    \n",
    "    else:\n",
    "        return df_auc, "
   ]
  },
  {
   "cell_type": "code",
   "execution_count": 10,
   "id": "communist-excess",
   "metadata": {
    "tags": []
   },
   "outputs": [
    {
     "data": {
      "image/png": "[encoded data removed]",
      "text/plain": [
       "<Figure size 360x360 with 1 Axes>"
      ]
     },
     "metadata": {},
     "output_type": "display_data"
    },
    {
     "name": "stdout",
     "output_type": "stream",
     "text": [
      "p_value = 0.041916167664670656\n"
     ]
    },
    {
     "data": {
      "image/png": "[encoded data removed]",
      "text/plain": [
       "<Figure size 864x648 with 1 Axes>"
      ]
     },
     "metadata": {},
     "output_type": "display_data"
    }
   ],
   "source": [
    "df_forest_mind, feat_import_mind, perm_scores_mind, pvalue_mind = multivariate_classifier(data = df_mind, label = 'mind2', features = df_mind.drop('mind2', axis = 1).columns, \n",
    "                                 model = 'forest', pca =False, n_components = 10,\n",
    "                                 cv_splits= 5, \n",
    "                                 permutation = True, n_permutations = 500)\n",
    "\n",
    "df_forest_mind.to_csv('Data/multivariate_forest_mind_segment.csv')\n",
    "feat_import_mind.to_csv('Data/feat_import_multivariate_mind.csv')\n",
    "\n"
   ]
  },
  {
   "cell_type": "code",
   "execution_count": 28,
   "id": "b528690e",
   "metadata": {},
   "outputs": [],
   "source": [
    "df_perm_mind = pd.DataFrame(perm_scores_mind, columns = ['auc']).assign(Model = 'Shuffled')\n",
    "df_forest_mind['Model'] = 'Original'\n",
    "df_perm_mind.to_csv('Data/multivariate_permutation_mind_segment.csv')"
   ]
  },
  {
   "cell_type": "code",
   "execution_count": 64,
   "id": "2cee6142",
   "metadata": {},
   "outputs": [
    {
     "data": {
      "application/vnd.plotly.v1+json": {
       "config": {
        "plotlyServerURL": "https://plot.ly"
       },
       "data": [
        {
         "alignmentgroup": "True",
         "bingroup": "x",
         "hovertemplate": "Model=Shuffled<br>auc=%{x}<br>count=%{y}<extra></extra>",
         "legendgroup": "Shuffled",
         "marker": {
          "color": "#DE237B",
          "pattern": {
           "shape": ""
          }
         },
         "name": "Shuffled",
         "nbinsx": 25,
         "offsetgroup": "Shuffled",
         "orientation": "v",
         "showlegend": true,
         "type": "histogram",
         "x": [
          0.42121026212088264,
          0.5689862401100791,
          0.4881016081871345,
          0.5053710994887466,
          0.5536143755747912,
          0.5890999509031343,
          0.5215734293717487,
          0.5848666313047117,
          0.5880268943913108,
          0.44110307017543865,
          0.46627345537757436,
          0.5272727114155685,
          0.5622776696510965,
          0.3914455829497109,
          0.585870898644699,
          0.4394471127427784,
          0.5416579544098341,
          0.4244574537949151,
          0.46062508117282003,
          0.5008559025440841,
          0.5132977861031691,
          0.48291212755498475,
          0.41321526110444173,
          0.46883122157244966,
          0.6056900413674242,
          0.491019342027082,
          0.5581859061990639,
          0.49847650349231987,
          0.4194883076037432,
          0.4505919370036344,
          0.5490733894438969,
          0.5693730825663599,
          0.5270107722722956,
          0.5127595949065432,
          0.5050216157401175,
          0.5199663332238798,
          0.4062091503267974,
          0.4512268170426065,
          0.4433081504961204,
          0.4614127667848222,
          0.3273864809081527,
          0.39459903381642514,
          0.5090508445802564,
          0.5209036836179693,
          0.5307632263431687,
          0.4179462507613768,
          0.5790920754266619,
          0.5136652906776746,
          0.3686686077939948,
          0.5987595125769606,
          0.5882057178165095,
          0.5199916281456897,
          0.6534930901422353,
          0.6366830065359478,
          0.5119262985896114,
          0.5247960369332919,
          0.39352868467961344,
          0.47157091592617906,
          0.5613531746031746,
          0.47874109907120743,
          0.46791178972855985,
          0.5400760144568194,
          0.4346262887439358,
          0.576484692122463,
          0.5210212190630148,
          0.428544220485397,
          0.5336190476190477,
          0.5756879944960441,
          0.4866429909959322,
          0.5038343163776232,
          0.4863816206527204,
          0.532343395252838,
          0.42951180472188877,
          0.5517973856209151,
          0.4468662607234036,
          0.4445236179369306,
          0.43881101920853477,
          0.4894383318779604,
          0.4794344404428438,
          0.4789105488349185,
          0.5191537356170539,
          0.4817556198680846,
          0.4888881961802435,
          0.44204339924082053,
          0.4016426276948507,
          0.34516096951294317,
          0.5173187585548267,
          0.6011443195239081,
          0.5267562667324748,
          0.5319831441348469,
          0.6148636732941244,
          0.4511638635387265,
          0.5919168124915871,
          0.6051785714285715,
          0.4727555631503,
          0.523265597028285,
          0.5467840293330489,
          0.456811048005947,
          0.5508963905181432,
          0.4926651184437225,
          0.4910247565845561,
          0.44105744754041976,
          0.46504177109440265,
          0.45926393867570336,
          0.6334815604263341,
          0.353009847288743,
          0.42865025823849356,
          0.41623729940694226,
          0.6310421821750143,
          0.46715187478500175,
          0.49571212692536226,
          0.5311739687900678,
          0.531842069629553,
          0.4291813429075334,
          0.43087772220899156,
          0.3837093057318621,
          0.5392626528750752,
          0.5315135756056809,
          0.6158208410636983,
          0.4575394870867007,
          0.47813029454205924,
          0.3894020137737888,
          0.46688936188510494,
          0.5730217703349283,
          0.4794765468769853,
          0.4863005981729923,
          0.5060663272245897,
          0.597483918128655,
          0.5592463652127517,
          0.5826036372681116,
          0.5372409924342698,
          0.4888317519990452,
          0.46575065689011036,
          0.49234800401734047,
          0.45710674533734164,
          0.48773342169115497,
          0.5647993421052632,
          0.4702834337527319,
          0.5005677672860335,
          0.5113105339601728,
          0.5003539769484042,
          0.4273945410850173,
          0.4018728070175438,
          0.38538029924021483,
          0.3860210079369743,
          0.42767492962097114,
          0.4255836014802565,
          0.5653336929668199,
          0.5751654952865699,
          0.5065076371856557,
          0.4701892732684225,
          0.40420107811864775,
          0.5439024788862914,
          0.5679502063983488,
          0.46287092029794374,
          0.4205010275242474,
          0.3404166666666667,
          0.5153023490097793,
          0.41301783723522856,
          0.5366415470494419,
          0.5134681672405458,
          0.4842790075679394,
          0.4057075623464942,
          0.6376634957013108,
          0.6275948789959087,
          0.46578042195899333,
          0.5015976830187355,
          0.5006937441643323,
          0.4929314880166274,
          0.4644585114747654,
          0.4922927631578948,
          0.4471860357415277,
          0.4414425570615501,
          0.5645784071204238,
          0.5245462399411979,
          0.5080155064878362,
          0.4964042397660819,
          0.5017300651091009,
          0.4109630334392239,
          0.48166444723822543,
          0.3777227158806106,
          0.4774394167555379,
          0.4404549569827931,
          0.43634570144767515,
          0.5149705022359821,
          0.47018435795370783,
          0.5786664665866347,
          0.4421231455545181,
          0.4903070019076211,
          0.5283156244954123,
          0.4934877534745955,
          0.47425530585147013,
          0.48934012713477,
          0.5072779977375566,
          0.4559179504419443,
          0.5037098721998102,
          0.4620430900621118,
          0.3993642938656944,
          0.572750021061056,
          0.3355043453278747,
          0.5291144963690297,
          0.5498131805676563,
          0.5532482677281438,
          0.544919021037442,
          0.584957952010449,
          0.4948935232294366,
          0.4634415204678362,
          0.5090443075156698,
          0.4904753774739642,
          0.48822137451471825,
          0.5482917096663227,
          0.43212934296525624,
          0.5605772565436431,
          0.5706784783414041,
          0.4494008129567616,
          0.562974447912336,
          0.4598593314365374,
          0.40567094074471893,
          0.4627515302679776,
          0.536621729148045,
          0.47844739894178756,
          0.4579465944272446,
          0.5371512605042017,
          0.49766250854408745,
          0.5147915166066427,
          0.6160068137666966,
          0.4357497457411646,
          0.5876873573131866,
          0.4751428715858541,
          0.5847143773743361,
          0.5572091668565353,
          0.5398982259570495,
          0.548359428711983,
          0.37198041098417034,
          0.5004104021193805,
          0.4287368580087878,
          0.48100494682999057,
          0.5112443240454076,
          0.5820715011574593,
          0.44328063362506087,
          0.515141447368421,
          0.4871156445034154,
          0.46683141788183813,
          0.5992006089148946,
          0.40996092982647603,
          0.5871632426860318,
          0.5271242800150363,
          0.553811350929772,
          0.5298242131062951,
          0.5813806024802265,
          0.47121976218614875,
          0.4617247816191868,
          0.4366314892089559,
          0.4697888650736948,
          0.47681089405459154,
          0.5496626983605367,
          0.527249699879952,
          0.49395642701525055,
          0.5966555944055945,
          0.44805025694488326,
          0.4230064513134688,
          0.4365531300239393,
          0.5091306092092202,
          0.4690914696160691,
          0.4369107515813343,
          0.6091825572334197,
          0.5563073593073593,
          0.4590052459580324,
          0.47849225479665547,
          0.5251057565622783,
          0.66373516428341,
          0.4605945087763973,
          0.5340449419002051,
          0.5251029149878255,
          0.563076088943736,
          0.4970176169495392,
          0.49178054379646596,
          0.45586600412943123,
          0.5355711981762402,
          0.505686894055868,
          0.45694145311173173,
          0.49505214175677903,
          0.44711787346517556,
          0.5038531988046054,
          0.46325363648298545,
          0.45086311498283527,
          0.4682518256597204,
          0.6644935500515996,
          0.5283104575163398,
          0.43129678030208607,
          0.5088487588017664,
          0.548438328937813,
          0.5366582510197062,
          0.4336896161973562,
          0.5245895052697113,
          0.348046587055875,
          0.48151620297241704,
          0.5416764485690878,
          0.38939067986687037,
          0.5813972193588514,
          0.5338308906896092,
          0.530176136213288,
          0.46437992354345736,
          0.5811680033416875,
          0.508449676166763,
          0.43053227498093055,
          0.4605348893943543,
          0.5725800254757382,
          0.5172769217336057,
          0.5611127853914232,
          0.5487060957105954,
          0.5159281319906092,
          0.5129257166981626,
          0.3933944367220573,
          0.5474491129785248,
          0.5149965558305701,
          0.4611978052944199,
          0.5759345760233918,
          0.4923526744030946,
          0.6022263817807825,
          0.4198702064158997,
          0.601138974449429,
          0.5152476923997317,
          0.4954387088168601,
          0.4636947854347236,
          0.5435601433555879,
          0.5183717105263158,
          0.5207123227458625,
          0.4301013071895426,
          0.5239102307589703,
          0.3580976201253253,
          0.5499804232425716,
          0.5019116120132263,
          0.43124348991222056,
          0.39269634239095136,
          0.44146412797728585,
          0.5380388542398907,
          0.48432372949179675,
          0.41765820363233014,
          0.5587627998567849,
          0.45077876116121507,
          0.5753375767679174,
          0.5310282871890015,
          0.42999501821339503,
          0.4971680900430348,
          0.3970326288410101,
          0.5509750929707071,
          0.4699992595124174,
          0.3369402731808506,
          0.5414880952380953,
          0.47897125494567944,
          0.5068782911275171,
          0.4916790355419557,
          0.5835516425868593,
          0.4216822474603877,
          0.5404633520074695,
          0.5757007865145652,
          0.5691962695242495,
          0.6101423685533593,
          0.506304802558235,
          0.5254239217356729,
          0.42228144552815605,
          0.581920923632611,
          0.5011537948512739,
          0.45358090385276917,
          0.4798299319727891,
          0.485274653451124,
          0.45136466165413536,
          0.4406347862535583,
          0.6071679039914335,
          0.535221341523973,
          0.5303703990368077,
          0.5623452802173501,
          0.4887119496921576,
          0.45276650812880453,
          0.40681282687423037,
          0.4339977486036367,
          0.5155050287658923,
          0.5221761363636364,
          0.42028478752966575,
          0.47035122119023054,
          0.4803070175438596,
          0.5891359728349903,
          0.5259629342965256,
          0.4682551704892483,
          0.5466245367764331,
          0.42868124628247123,
          0.4864313725490196,
          0.42317412850307584,
          0.46718740452873586,
          0.4748111689651937,
          0.50001389748882,
          0.5634695369989486,
          0.3790608164079029,
          0.47342282527045904,
          0.5773439789409973,
          0.446671293517407,
          0.6392270241429905,
          0.6080262391410851,
          0.5273425464770195,
          0.3566165145631311,
          0.6034138355923253,
          0.5564419996068602,
          0.5078164774681803,
          0.5248582057777105,
          0.52199536746897,
          0.45614719834688877,
          0.46455555796113074,
          0.47887348027789206,
          0.5618651264431315,
          0.49986658874075945,
          0.5761379804358094,
          0.5403545668666192,
          0.5602837538524181,
          0.5574543965734442,
          0.5277795871753191,
          0.48420585047907033,
          0.5055255336768495,
          0.49262198212618385,
          0.5301553095802658,
          0.5123929478551328,
          0.48164884374802563,
          0.5294408991666841,
          0.5097599609589879,
          0.4994136996904025,
          0.5490875472996215,
          0.48899321498934506,
          0.47909379277413333,
          0.38181863622642037,
          0.415375483526744,
          0.4149961300309598,
          0.4899775653968682,
          0.5305648570617059,
          0.5460176442812059,
          0.5146435328517371,
          0.538013542483451,
          0.5340571755017796,
          0.4562986569673876,
          0.5110404843755684,
          0.5885111035260786,
          0.5412630256781075,
          0.5157813635751782,
          0.5455294865467163,
          0.4441133190118153,
          0.5099914860681114,
          0.4768078560371517,
          0.49932839802587703,
          0.424363650465707,
          0.5179400707651481,
          0.5463053020251163,
          0.528917500628027,
          0.4525637252951863,
          0.4561255570672496,
          0.42750052613638045,
          0.6517075122282996,
          0.49048140309982413,
          0.5141490196078431,
          0.47018071582700066,
          0.5650140096172248,
          0.5513427006430103,
          0.5686645491529945,
          0.4165287141484428,
          0.4839092920151743,
          0.4724863399414483,
          0.5344595404595405,
          0.49105229460205135,
          0.42887861811391226,
          0.542960393158026,
          0.5158301828890064,
          0.43573433759468705,
          0.5389352819400365,
          0.5474607747582464,
          0.46325903188229045,
          0.5859278645822211,
          0.42371592935419783,
          0.41775682219663013,
          0.5239375689669806,
          0.45215817730601016,
          0.37802774443110576,
          0.49520632016762045,
          0.5903993614989855,
          0.3401276172749802,
          0.5348944452616357,
          0.4708234560880883,
          0.4756451585527953,
          0.4756846569173935,
          0.4989000546237389,
          0.5307407120743034,
          0.5253758084236027,
          0.5643000515995873,
          0.5318845811051693,
          0.42227786509340576,
          0.5675829346092505,
          0.4654729285653655,
          0.5171684524625701,
          0.44134509066784605,
          0.5367265520243185,
          0.5137523415163165,
          0.5467557661636608,
          0.5459228826728827
         ],
         "xaxis": "x",
         "yaxis": "y"
        }
       ],
       "layout": {
        "annotations": [
         {
          "align": "left",
          "arrowhead": 1,
          "showarrow": false,
          "text": "Score on original labels: <br>Mean AUC: 0.603<br>p = 0.042",
          "x": 0.7029272894342922,
          "y": 50
         }
        ],
        "autosize": false,
        "bargap": 0.05,
        "barmode": "relative",
        "font": {
         "color": "black",
         "family": "Times new roman",
         "size": 20
        },
        "height": 800,
        "legend": {
         "title": {
          "text": "Model"
         },
         "tracegroupgap": 0
        },
        "margin": {
         "t": 60
        },
        "shapes": [
         {
          "line": {
           "color": "grey",
           "dash": "dash",
           "width": 3
          },
          "type": "line",
          "x0": 0.6029272894342922,
          "x1": 0.6029272894342922,
          "xref": "x",
          "y0": 0,
          "y1": 1,
          "yref": "y domain"
         }
        ],
        "template": {
         "data": {
          "bar": [
           {
            "error_x": {
             "color": "#2a3f5f"
            },
            "error_y": {
             "color": "#2a3f5f"
            },
            "marker": {
             "line": {
              "color": "white",
              "width": 0.5
             },
             "pattern": {
              "fillmode": "overlay",
              "size": 10,
              "solidity": 0.2
             }
            },
            "type": "bar"
           }
          ],
          "barpolar": [
           {
            "marker": {
             "line": {
              "color": "white",
              "width": 0.5
             },
             "pattern": {
              "fillmode": "overlay",
              "size": 10,
              "solidity": 0.2
             }
            },
            "type": "barpolar"
           }
          ],
          "carpet": [
           {
            "aaxis": {
             "endlinecolor": "#2a3f5f",
             "gridcolor": "#C8D4E3",
             "linecolor": "#C8D4E3",
             "minorgridcolor": "#C8D4E3",
             "startlinecolor": "#2a3f5f"
            },
            "baxis": {
             "endlinecolor": "#2a3f5f",
             "gridcolor": "#C8D4E3",
             "linecolor": "#C8D4E3",
             "minorgridcolor": "#C8D4E3",
             "startlinecolor": "#2a3f5f"
            },
            "type": "carpet"
           }
          ],
          "choropleth": [
           {
            "colorbar": {
             "outlinewidth": 0,
             "ticks": ""
            },
            "type": "choropleth"
           }
          ],
          "contour": [
           {
            "colorbar": {
             "outlinewidth": 0,
             "ticks": ""
            },
            "colorscale": [
             [
              0,
              "#0d0887"
             ],
             [
              0.1111111111111111,
              "#46039f"
             ],
             [
              0.2222222222222222,
              "#7201a8"
             ],
             [
              0.3333333333333333,
              "#9c179e"
             ],
             [
              0.4444444444444444,
              "#bd3786"
             ],
             [
              0.5555555555555556,
              "#d8576b"
             ],
             [
              0.6666666666666666,
              "#ed7953"
             ],
             [
              0.7777777777777778,
              "#fb9f3a"
             ],
             [
              0.8888888888888888,
              "#fdca26"
             ],
             [
              1,
              "#f0f921"
             ]
            ],
            "type": "contour"
           }
          ],
          "contourcarpet": [
           {
            "colorbar": {
             "outlinewidth": 0,
             "ticks": ""
            },
            "type": "contourcarpet"
           }
          ],
          "heatmap": [
           {
            "colorbar": {
             "outlinewidth": 0,
             "ticks": ""
            },
            "colorscale": [
             [
              0,
              "#0d0887"
             ],
             [
              0.1111111111111111,
              "#46039f"
             ],
             [
              0.2222222222222222,
              "#7201a8"
             ],
             [
              0.3333333333333333,
              "#9c179e"
             ],
             [
              0.4444444444444444,
              "#bd3786"
             ],
             [
              0.5555555555555556,
              "#d8576b"
             ],
             [
              0.6666666666666666,
              "#ed7953"
             ],
             [
              0.7777777777777778,
              "#fb9f3a"
             ],
             [
              0.8888888888888888,
              "#fdca26"
             ],
             [
              1,
              "#f0f921"
             ]
            ],
            "type": "heatmap"
           }
          ],
          "heatmapgl": [
           {
            "colorbar": {
             "outlinewidth": 0,
             "ticks": ""
            },
            "colorscale": [
             [
              0,
              "#0d0887"
             ],
             [
              0.1111111111111111,
              "#46039f"
             ],
             [
              0.2222222222222222,
              "#7201a8"
             ],
             [
              0.3333333333333333,
              "#9c179e"
             ],
             [
              0.4444444444444444,
              "#bd3786"
             ],
             [
              0.5555555555555556,
              "#d8576b"
             ],
             [
              0.6666666666666666,
              "#ed7953"
             ],
             [
              0.7777777777777778,
              "#fb9f3a"
             ],
             [
              0.8888888888888888,
              "#fdca26"
             ],
             [
              1,
              "#f0f921"
             ]
            ],
            "type": "heatmapgl"
           }
          ],
          "histogram": [
           {
            "marker": {
             "pattern": {
              "fillmode": "overlay",
              "size": 10,
              "solidity": 0.2
             }
            },
            "type": "histogram"
           }
          ],
          "histogram2d": [
           {
            "colorbar": {
             "outlinewidth": 0,
             "ticks": ""
            },
            "colorscale": [
             [
              0,
              "#0d0887"
             ],
             [
              0.1111111111111111,
              "#46039f"
             ],
             [
              0.2222222222222222,
              "#7201a8"
             ],
             [
              0.3333333333333333,
              "#9c179e"
             ],
             [
              0.4444444444444444,
              "#bd3786"
             ],
             [
              0.5555555555555556,
              "#d8576b"
             ],
             [
              0.6666666666666666,
              "#ed7953"
             ],
             [
              0.7777777777777778,
              "#fb9f3a"
             ],
             [
              0.8888888888888888,
              "#fdca26"
             ],
             [
              1,
              "#f0f921"
             ]
            ],
            "type": "histogram2d"
           }
          ],
          "histogram2dcontour": [
           {
            "colorbar": {
             "outlinewidth": 0,
             "ticks": ""
            },
            "colorscale": [
             [
              0,
              "#0d0887"
             ],
             [
              0.1111111111111111,
              "#46039f"
             ],
             [
              0.2222222222222222,
              "#7201a8"
             ],
             [
              0.3333333333333333,
              "#9c179e"
             ],
             [
              0.4444444444444444,
              "#bd3786"
             ],
             [
              0.5555555555555556,
              "#d8576b"
             ],
             [
              0.6666666666666666,
              "#ed7953"
             ],
             [
              0.7777777777777778,
              "#fb9f3a"
             ],
             [
              0.8888888888888888,
              "#fdca26"
             ],
             [
              1,
              "#f0f921"
             ]
            ],
            "type": "histogram2dcontour"
           }
          ],
          "mesh3d": [
           {
            "colorbar": {
             "outlinewidth": 0,
             "ticks": ""
            },
            "type": "mesh3d"
           }
          ],
          "parcoords": [
           {
            "line": {
             "colorbar": {
              "outlinewidth": 0,
              "ticks": ""
             }
            },
            "type": "parcoords"
           }
          ],
          "pie": [
           {
            "automargin": true,
            "type": "pie"
           }
          ],
          "scatter": [
           {
            "marker": {
             "colorbar": {
              "outlinewidth": 0,
              "ticks": ""
             }
            },
            "type": "scatter"
           }
          ],
          "scatter3d": [
           {
            "line": {
             "colorbar": {
              "outlinewidth": 0,
              "ticks": ""
             }
            },
            "marker": {
             "colorbar": {
              "outlinewidth": 0,
              "ticks": ""
             }
            },
            "type": "scatter3d"
           }
          ],
          "scattercarpet": [
           {
            "marker": {
             "colorbar": {
              "outlinewidth": 0,
              "ticks": ""
             }
            },
            "type": "scattercarpet"
           }
          ],
          "scattergeo": [
           {
            "marker": {
             "colorbar": {
              "outlinewidth": 0,
              "ticks": ""
             }
            },
            "type": "scattergeo"
           }
          ],
          "scattergl": [
           {
            "marker": {
             "colorbar": {
              "outlinewidth": 0,
              "ticks": ""
             }
            },
            "type": "scattergl"
           }
          ],
          "scattermapbox": [
           {
            "marker": {
             "colorbar": {
              "outlinewidth": 0,
              "ticks": ""
             }
            },
            "type": "scattermapbox"
           }
          ],
          "scatterpolar": [
           {
            "marker": {
             "colorbar": {
              "outlinewidth": 0,
              "ticks": ""
             }
            },
            "type": "scatterpolar"
           }
          ],
          "scatterpolargl": [
           {
            "marker": {
             "colorbar": {
              "outlinewidth": 0,
              "ticks": ""
             }
            },
            "type": "scatterpolargl"
           }
          ],
          "scatterternary": [
           {
            "marker": {
             "colorbar": {
              "outlinewidth": 0,
              "ticks": ""
             }
            },
            "type": "scatterternary"
           }
          ],
          "surface": [
           {
            "colorbar": {
             "outlinewidth": 0,
             "ticks": ""
            },
            "colorscale": [
             [
              0,
              "#0d0887"
             ],
             [
              0.1111111111111111,
              "#46039f"
             ],
             [
              0.2222222222222222,
              "#7201a8"
             ],
             [
              0.3333333333333333,
              "#9c179e"
             ],
             [
              0.4444444444444444,
              "#bd3786"
             ],
             [
              0.5555555555555556,
              "#d8576b"
             ],
             [
              0.6666666666666666,
              "#ed7953"
             ],
             [
              0.7777777777777778,
              "#fb9f3a"
             ],
             [
              0.8888888888888888,
              "#fdca26"
             ],
             [
              1,
              "#f0f921"
             ]
            ],
            "type": "surface"
           }
          ],
          "table": [
           {
            "cells": {
             "fill": {
              "color": "#EBF0F8"
             },
             "line": {
              "color": "white"
             }
            },
            "header": {
             "fill": {
              "color": "#C8D4E3"
             },
             "line": {
              "color": "white"
             }
            },
            "type": "table"
           }
          ]
         },
         "layout": {
          "annotationdefaults": {
           "arrowcolor": "#2a3f5f",
           "arrowhead": 0,
           "arrowwidth": 1
          },
          "autotypenumbers": "strict",
          "coloraxis": {
           "colorbar": {
            "outlinewidth": 0,
            "ticks": ""
           }
          },
          "colorscale": {
           "diverging": [
            [
             0,
             "#8e0152"
            ],
            [
             0.1,
             "#c51b7d"
            ],
            [
             0.2,
             "#de77ae"
            ],
            [
             0.3,
             "#f1b6da"
            ],
            [
             0.4,
             "#fde0ef"
            ],
            [
             0.5,
             "#f7f7f7"
            ],
            [
             0.6,
             "#e6f5d0"
            ],
            [
             0.7,
             "#b8e186"
            ],
            [
             0.8,
             "#7fbc41"
            ],
            [
             0.9,
             "#4d9221"
            ],
            [
             1,
             "#276419"
            ]
           ],
           "sequential": [
            [
             0,
             "#0d0887"
            ],
            [
             0.1111111111111111,
             "#46039f"
            ],
            [
             0.2222222222222222,
             "#7201a8"
            ],
            [
             0.3333333333333333,
             "#9c179e"
            ],
            [
             0.4444444444444444,
             "#bd3786"
            ],
            [
             0.5555555555555556,
             "#d8576b"
            ],
            [
             0.6666666666666666,
             "#ed7953"
            ],
            [
             0.7777777777777778,
             "#fb9f3a"
            ],
            [
             0.8888888888888888,
             "#fdca26"
            ],
            [
             1,
             "#f0f921"
            ]
           ],
           "sequentialminus": [
            [
             0,
             "#0d0887"
            ],
            [
             0.1111111111111111,
             "#46039f"
            ],
            [
             0.2222222222222222,
             "#7201a8"
            ],
            [
             0.3333333333333333,
             "#9c179e"
            ],
            [
             0.4444444444444444,
             "#bd3786"
            ],
            [
             0.5555555555555556,
             "#d8576b"
            ],
            [
             0.6666666666666666,
             "#ed7953"
            ],
            [
             0.7777777777777778,
             "#fb9f3a"
            ],
            [
             0.8888888888888888,
             "#fdca26"
            ],
            [
             1,
             "#f0f921"
            ]
           ]
          },
          "colorway": [
           "#636efa",
           "#EF553B",
           "#00cc96",
           "#ab63fa",
           "#FFA15A",
           "#19d3f3",
           "#FF6692",
           "#B6E880",
           "#FF97FF",
           "#FECB52"
          ],
          "font": {
           "color": "#2a3f5f"
          },
          "geo": {
           "bgcolor": "white",
           "lakecolor": "white",
           "landcolor": "white",
           "showlakes": true,
           "showland": true,
           "subunitcolor": "#C8D4E3"
          },
          "hoverlabel": {
           "align": "left"
          },
          "hovermode": "closest",
          "mapbox": {
           "style": "light"
          },
          "paper_bgcolor": "white",
          "plot_bgcolor": "white",
          "polar": {
           "angularaxis": {
            "gridcolor": "#EBF0F8",
            "linecolor": "#EBF0F8",
            "ticks": ""
           },
           "bgcolor": "white",
           "radialaxis": {
            "gridcolor": "#EBF0F8",
            "linecolor": "#EBF0F8",
            "ticks": ""
           }
          },
          "scene": {
           "xaxis": {
            "backgroundcolor": "white",
            "gridcolor": "#DFE8F3",
            "gridwidth": 2,
            "linecolor": "#EBF0F8",
            "showbackground": true,
            "ticks": "",
            "zerolinecolor": "#EBF0F8"
           },
           "yaxis": {
            "backgroundcolor": "white",
            "gridcolor": "#DFE8F3",
            "gridwidth": 2,
            "linecolor": "#EBF0F8",
            "showbackground": true,
            "ticks": "",
            "zerolinecolor": "#EBF0F8"
           },
           "zaxis": {
            "backgroundcolor": "white",
            "gridcolor": "#DFE8F3",
            "gridwidth": 2,
            "linecolor": "#EBF0F8",
            "showbackground": true,
            "ticks": "",
            "zerolinecolor": "#EBF0F8"
           }
          },
          "shapedefaults": {
           "line": {
            "color": "#2a3f5f"
           }
          },
          "ternary": {
           "aaxis": {
            "gridcolor": "#DFE8F3",
            "linecolor": "#A2B1C6",
            "ticks": ""
           },
           "baxis": {
            "gridcolor": "#DFE8F3",
            "linecolor": "#A2B1C6",
            "ticks": ""
           },
           "bgcolor": "white",
           "caxis": {
            "gridcolor": "#DFE8F3",
            "linecolor": "#A2B1C6",
            "ticks": ""
           }
          },
          "title": {
           "x": 0.05
          },
          "xaxis": {
           "automargin": true,
           "gridcolor": "#EBF0F8",
           "linecolor": "#EBF0F8",
           "ticks": "",
           "title": {
            "standoff": 15
           },
           "zerolinecolor": "#EBF0F8",
           "zerolinewidth": 2
          },
          "yaxis": {
           "automargin": true,
           "gridcolor": "#EBF0F8",
           "linecolor": "#EBF0F8",
           "ticks": "",
           "title": {
            "standoff": 15
           },
           "zerolinecolor": "#EBF0F8",
           "zerolinewidth": 2
          }
         }
        },
        "width": 800,
        "xaxis": {
         "anchor": "y",
         "domain": [
          0,
          1
         ],
         "range": [
          0.25,
          0.75
         ],
         "tickfont": {
          "size": 20
         },
         "title": {
          "text": "CV AUC"
         }
        },
        "yaxis": {
         "anchor": "x",
         "domain": [
          0,
          1
         ],
         "tickfont": {
          "size": 20
         },
         "title": {
          "text": ""
         }
        }
       }
      },
      "text/html": [
       "<div>                            <div id=\"cdd33168-883d-40cd-92a3-70ef70581a57\" class=\"plotly-graph-div\" style=\"height:800px; width:800px;\"></div>            <script type=\"text/javascript\">                require([\"plotly\"], function(Plotly) {                    window.PLOTLYENV=window.PLOTLYENV || {};                                    if (document.getElementById(\"cdd33168-883d-40cd-92a3-70ef70581a57\")) {                    Plotly.newPlot(                        \"cdd33168-883d-40cd-92a3-70ef70581a57\",                        [{\"alignmentgroup\":\"True\",\"bingroup\":\"x\",\"hovertemplate\":\"Model=Shuffled<br>auc=%{x}<br>count=%{y}<extra></extra>\",\"legendgroup\":\"Shuffled\",\"marker\":{\"color\":\"#DE237B\",\"pattern\":{\"shape\":\"\"}},\"name\":\"Shuffled\",\"nbinsx\":25,\"offsetgroup\":\"Shuffled\",\"orientation\":\"v\",\"showlegend\":true,\"x\":[0.42121026212088264,0.5689862401100791,0.4881016081871345,0.5053710994887466,0.5536143755747912,0.5890999509031343,0.5215734293717487,0.5848666313047117,0.5880268943913108,0.44110307017543865,0.46627345537757436,0.5272727114155685,0.5622776696510965,0.3914455829497109,0.585870898644699,0.4394471127427784,0.5416579544098341,0.4244574537949151,0.46062508117282003,0.5008559025440841,0.5132977861031691,0.48291212755498475,0.41321526110444173,0.46883122157244966,0.6056900413674242,0.491019342027082,0.5581859061990639,0.49847650349231987,0.4194883076037432,0.4505919370036344,0.5490733894438969,0.5693730825663599,0.5270107722722956,0.5127595949065432,0.5050216157401175,0.5199663332238798,0.4062091503267974,0.4512268170426065,0.4433081504961204,0.4614127667848222,0.3273864809081527,0.39459903381642514,0.5090508445802564,0.5209036836179693,0.5307632263431687,0.4179462507613768,0.5790920754266619,0.5136652906776746,0.3686686077939948,0.5987595125769606,0.5882057178165095,0.5199916281456897,0.6534930901422353,0.6366830065359478,0.5119262985896114,0.5247960369332919,0.39352868467961344,0.47157091592617906,0.5613531746031746,0.47874109907120743,0.46791178972855985,0.5400760144568194,0.4346262887439358,0.576484692122463,0.5210212190630148,0.428544220485397,0.5336190476190477,0.5756879944960441,0.4866429909959322,0.5038343163776232,0.4863816206527204,0.532343395252838,0.42951180472188877,0.5517973856209151,0.4468662607234036,0.4445236179369306,0.43881101920853477,0.4894383318779604,0.4794344404428438,0.4789105488349185,0.5191537356170539,0.4817556198680846,0.4888881961802435,0.44204339924082053,0.4016426276948507,0.34516096951294317,0.5173187585548267,0.6011443195239081,0.5267562667324748,0.5319831441348469,0.6148636732941244,0.4511638635387265,0.5919168124915871,0.6051785714285715,0.4727555631503,0.523265597028285,0.5467840293330489,0.456811048005947,0.5508963905181432,0.4926651184437225,0.4910247565845561,0.44105744754041976,0.46504177109440265,0.45926393867570336,0.6334815604263341,0.353009847288743,0.42865025823849356,0.41623729940694226,0.6310421821750143,0.46715187478500175,0.49571212692536226,0.5311739687900678,0.531842069629553,0.4291813429075334,0.43087772220899156,0.3837093057318621,0.5392626528750752,0.5315135756056809,0.6158208410636983,0.4575394870867007,0.47813029454205924,0.3894020137737888,0.46688936188510494,0.5730217703349283,0.4794765468769853,0.4863005981729923,0.5060663272245897,0.597483918128655,0.5592463652127517,0.5826036372681116,0.5372409924342698,0.4888317519990452,0.46575065689011036,0.49234800401734047,0.45710674533734164,0.48773342169115497,0.5647993421052632,0.4702834337527319,0.5005677672860335,0.5113105339601728,0.5003539769484042,0.4273945410850173,0.4018728070175438,0.38538029924021483,0.3860210079369743,0.42767492962097114,0.4255836014802565,0.5653336929668199,0.5751654952865699,0.5065076371856557,0.4701892732684225,0.40420107811864775,0.5439024788862914,0.5679502063983488,0.46287092029794374,0.4205010275242474,0.3404166666666667,0.5153023490097793,0.41301783723522856,0.5366415470494419,0.5134681672405458,0.4842790075679394,0.4057075623464942,0.6376634957013108,0.6275948789959087,0.46578042195899333,0.5015976830187355,0.5006937441643323,0.4929314880166274,0.4644585114747654,0.4922927631578948,0.4471860357415277,0.4414425570615501,0.5645784071204238,0.5245462399411979,0.5080155064878362,0.4964042397660819,0.5017300651091009,0.4109630334392239,0.48166444723822543,0.3777227158806106,0.4774394167555379,0.4404549569827931,0.43634570144767515,0.5149705022359821,0.47018435795370783,0.5786664665866347,0.4421231455545181,0.4903070019076211,0.5283156244954123,0.4934877534745955,0.47425530585147013,0.48934012713477,0.5072779977375566,0.4559179504419443,0.5037098721998102,0.4620430900621118,0.3993642938656944,0.572750021061056,0.3355043453278747,0.5291144963690297,0.5498131805676563,0.5532482677281438,0.544919021037442,0.584957952010449,0.4948935232294366,0.4634415204678362,0.5090443075156698,0.4904753774739642,0.48822137451471825,0.5482917096663227,0.43212934296525624,0.5605772565436431,0.5706784783414041,0.4494008129567616,0.562974447912336,0.4598593314365374,0.40567094074471893,0.4627515302679776,0.536621729148045,0.47844739894178756,0.4579465944272446,0.5371512605042017,0.49766250854408745,0.5147915166066427,0.6160068137666966,0.4357497457411646,0.5876873573131866,0.4751428715858541,0.5847143773743361,0.5572091668565353,0.5398982259570495,0.548359428711983,0.37198041098417034,0.5004104021193805,0.4287368580087878,0.48100494682999057,0.5112443240454076,0.5820715011574593,0.44328063362506087,0.515141447368421,0.4871156445034154,0.46683141788183813,0.5992006089148946,0.40996092982647603,0.5871632426860318,0.5271242800150363,0.553811350929772,0.5298242131062951,0.5813806024802265,0.47121976218614875,0.4617247816191868,0.4366314892089559,0.4697888650736948,0.47681089405459154,0.5496626983605367,0.527249699879952,0.49395642701525055,0.5966555944055945,0.44805025694488326,0.4230064513134688,0.4365531300239393,0.5091306092092202,0.4690914696160691,0.4369107515813343,0.6091825572334197,0.5563073593073593,0.4590052459580324,0.47849225479665547,0.5251057565622783,0.66373516428341,0.4605945087763973,0.5340449419002051,0.5251029149878255,0.563076088943736,0.4970176169495392,0.49178054379646596,0.45586600412943123,0.5355711981762402,0.505686894055868,0.45694145311173173,0.49505214175677903,0.44711787346517556,0.5038531988046054,0.46325363648298545,0.45086311498283527,0.4682518256597204,0.6644935500515996,0.5283104575163398,0.43129678030208607,0.5088487588017664,0.548438328937813,0.5366582510197062,0.4336896161973562,0.5245895052697113,0.348046587055875,0.48151620297241704,0.5416764485690878,0.38939067986687037,0.5813972193588514,0.5338308906896092,0.530176136213288,0.46437992354345736,0.5811680033416875,0.508449676166763,0.43053227498093055,0.4605348893943543,0.5725800254757382,0.5172769217336057,0.5611127853914232,0.5487060957105954,0.5159281319906092,0.5129257166981626,0.3933944367220573,0.5474491129785248,0.5149965558305701,0.4611978052944199,0.5759345760233918,0.4923526744030946,0.6022263817807825,0.4198702064158997,0.601138974449429,0.5152476923997317,0.4954387088168601,0.4636947854347236,0.5435601433555879,0.5183717105263158,0.5207123227458625,0.4301013071895426,0.5239102307589703,0.3580976201253253,0.5499804232425716,0.5019116120132263,0.43124348991222056,0.39269634239095136,0.44146412797728585,0.5380388542398907,0.48432372949179675,0.41765820363233014,0.5587627998567849,0.45077876116121507,0.5753375767679174,0.5310282871890015,0.42999501821339503,0.4971680900430348,0.3970326288410101,0.5509750929707071,0.4699992595124174,0.3369402731808506,0.5414880952380953,0.47897125494567944,0.5068782911275171,0.4916790355419557,0.5835516425868593,0.4216822474603877,0.5404633520074695,0.5757007865145652,0.5691962695242495,0.6101423685533593,0.506304802558235,0.5254239217356729,0.42228144552815605,0.581920923632611,0.5011537948512739,0.45358090385276917,0.4798299319727891,0.485274653451124,0.45136466165413536,0.4406347862535583,0.6071679039914335,0.535221341523973,0.5303703990368077,0.5623452802173501,0.4887119496921576,0.45276650812880453,0.40681282687423037,0.4339977486036367,0.5155050287658923,0.5221761363636364,0.42028478752966575,0.47035122119023054,0.4803070175438596,0.5891359728349903,0.5259629342965256,0.4682551704892483,0.5466245367764331,0.42868124628247123,0.4864313725490196,0.42317412850307584,0.46718740452873586,0.4748111689651937,0.50001389748882,0.5634695369989486,0.3790608164079029,0.47342282527045904,0.5773439789409973,0.446671293517407,0.6392270241429905,0.6080262391410851,0.5273425464770195,0.3566165145631311,0.6034138355923253,0.5564419996068602,0.5078164774681803,0.5248582057777105,0.52199536746897,0.45614719834688877,0.46455555796113074,0.47887348027789206,0.5618651264431315,0.49986658874075945,0.5761379804358094,0.5403545668666192,0.5602837538524181,0.5574543965734442,0.5277795871753191,0.48420585047907033,0.5055255336768495,0.49262198212618385,0.5301553095802658,0.5123929478551328,0.48164884374802563,0.5294408991666841,0.5097599609589879,0.4994136996904025,0.5490875472996215,0.48899321498934506,0.47909379277413333,0.38181863622642037,0.415375483526744,0.4149961300309598,0.4899775653968682,0.5305648570617059,0.5460176442812059,0.5146435328517371,0.538013542483451,0.5340571755017796,0.4562986569673876,0.5110404843755684,0.5885111035260786,0.5412630256781075,0.5157813635751782,0.5455294865467163,0.4441133190118153,0.5099914860681114,0.4768078560371517,0.49932839802587703,0.424363650465707,0.5179400707651481,0.5463053020251163,0.528917500628027,0.4525637252951863,0.4561255570672496,0.42750052613638045,0.6517075122282996,0.49048140309982413,0.5141490196078431,0.47018071582700066,0.5650140096172248,0.5513427006430103,0.5686645491529945,0.4165287141484428,0.4839092920151743,0.4724863399414483,0.5344595404595405,0.49105229460205135,0.42887861811391226,0.542960393158026,0.5158301828890064,0.43573433759468705,0.5389352819400365,0.5474607747582464,0.46325903188229045,0.5859278645822211,0.42371592935419783,0.41775682219663013,0.5239375689669806,0.45215817730601016,0.37802774443110576,0.49520632016762045,0.5903993614989855,0.3401276172749802,0.5348944452616357,0.4708234560880883,0.4756451585527953,0.4756846569173935,0.4989000546237389,0.5307407120743034,0.5253758084236027,0.5643000515995873,0.5318845811051693,0.42227786509340576,0.5675829346092505,0.4654729285653655,0.5171684524625701,0.44134509066784605,0.5367265520243185,0.5137523415163165,0.5467557661636608,0.5459228826728827],\"xaxis\":\"x\",\"yaxis\":\"y\",\"type\":\"histogram\"}],                        {\"template\":{\"data\":{\"barpolar\":[{\"marker\":{\"line\":{\"color\":\"white\",\"width\":0.5},\"pattern\":{\"fillmode\":\"overlay\",\"size\":10,\"solidity\":0.2}},\"type\":\"barpolar\"}],\"bar\":[{\"error_x\":{\"color\":\"#2a3f5f\"},\"error_y\":{\"color\":\"#2a3f5f\"},\"marker\":{\"line\":{\"color\":\"white\",\"width\":0.5},\"pattern\":{\"fillmode\":\"overlay\",\"size\":10,\"solidity\":0.2}},\"type\":\"bar\"}],\"carpet\":[{\"aaxis\":{\"endlinecolor\":\"#2a3f5f\",\"gridcolor\":\"#C8D4E3\",\"linecolor\":\"#C8D4E3\",\"minorgridcolor\":\"#C8D4E3\",\"startlinecolor\":\"#2a3f5f\"},\"baxis\":{\"endlinecolor\":\"#2a3f5f\",\"gridcolor\":\"#C8D4E3\",\"linecolor\":\"#C8D4E3\",\"minorgridcolor\":\"#C8D4E3\",\"startlinecolor\":\"#2a3f5f\"},\"type\":\"carpet\"}],\"choropleth\":[{\"colorbar\":{\"outlinewidth\":0,\"ticks\":\"\"},\"type\":\"choropleth\"}],\"contourcarpet\":[{\"colorbar\":{\"outlinewidth\":0,\"ticks\":\"\"},\"type\":\"contourcarpet\"}],\"contour\":[{\"colorbar\":{\"outlinewidth\":0,\"ticks\":\"\"},\"colorscale\":[[0.0,\"#0d0887\"],[0.1111111111111111,\"#46039f\"],[0.2222222222222222,\"#7201a8\"],[0.3333333333333333,\"#9c179e\"],[0.4444444444444444,\"#bd3786\"],[0.5555555555555556,\"#d8576b\"],[0.6666666666666666,\"#ed7953\"],[0.7777777777777778,\"#fb9f3a\"],[0.8888888888888888,\"#fdca26\"],[1.0,\"#f0f921\"]],\"type\":\"contour\"}],\"heatmapgl\":[{\"colorbar\":{\"outlinewidth\":0,\"ticks\":\"\"},\"colorscale\":[[0.0,\"#0d0887\"],[0.1111111111111111,\"#46039f\"],[0.2222222222222222,\"#7201a8\"],[0.3333333333333333,\"#9c179e\"],[0.4444444444444444,\"#bd3786\"],[0.5555555555555556,\"#d8576b\"],[0.6666666666666666,\"#ed7953\"],[0.7777777777777778,\"#fb9f3a\"],[0.8888888888888888,\"#fdca26\"],[1.0,\"#f0f921\"]],\"type\":\"heatmapgl\"}],\"heatmap\":[{\"colorbar\":{\"outlinewidth\":0,\"ticks\":\"\"},\"colorscale\":[[0.0,\"#0d0887\"],[0.1111111111111111,\"#46039f\"],[0.2222222222222222,\"#7201a8\"],[0.3333333333333333,\"#9c179e\"],[0.4444444444444444,\"#bd3786\"],[0.5555555555555556,\"#d8576b\"],[0.6666666666666666,\"#ed7953\"],[0.7777777777777778,\"#fb9f3a\"],[0.8888888888888888,\"#fdca26\"],[1.0,\"#f0f921\"]],\"type\":\"heatmap\"}],\"histogram2dcontour\":[{\"colorbar\":{\"outlinewidth\":0,\"ticks\":\"\"},\"colorscale\":[[0.0,\"#0d0887\"],[0.1111111111111111,\"#46039f\"],[0.2222222222222222,\"#7201a8\"],[0.3333333333333333,\"#9c179e\"],[0.4444444444444444,\"#bd3786\"],[0.5555555555555556,\"#d8576b\"],[0.6666666666666666,\"#ed7953\"],[0.7777777777777778,\"#fb9f3a\"],[0.8888888888888888,\"#fdca26\"],[1.0,\"#f0f921\"]],\"type\":\"histogram2dcontour\"}],\"histogram2d\":[{\"colorbar\":{\"outlinewidth\":0,\"ticks\":\"\"},\"colorscale\":[[0.0,\"#0d0887\"],[0.1111111111111111,\"#46039f\"],[0.2222222222222222,\"#7201a8\"],[0.3333333333333333,\"#9c179e\"],[0.4444444444444444,\"#bd3786\"],[0.5555555555555556,\"#d8576b\"],[0.6666666666666666,\"#ed7953\"],[0.7777777777777778,\"#fb9f3a\"],[0.8888888888888888,\"#fdca26\"],[1.0,\"#f0f921\"]],\"type\":\"histogram2d\"}],\"histogram\":[{\"marker\":{\"pattern\":{\"fillmode\":\"overlay\",\"size\":10,\"solidity\":0.2}},\"type\":\"histogram\"}],\"mesh3d\":[{\"colorbar\":{\"outlinewidth\":0,\"ticks\":\"\"},\"type\":\"mesh3d\"}],\"parcoords\":[{\"line\":{\"colorbar\":{\"outlinewidth\":0,\"ticks\":\"\"}},\"type\":\"parcoords\"}],\"pie\":[{\"automargin\":true,\"type\":\"pie\"}],\"scatter3d\":[{\"line\":{\"colorbar\":{\"outlinewidth\":0,\"ticks\":\"\"}},\"marker\":{\"colorbar\":{\"outlinewidth\":0,\"ticks\":\"\"}},\"type\":\"scatter3d\"}],\"scattercarpet\":[{\"marker\":{\"colorbar\":{\"outlinewidth\":0,\"ticks\":\"\"}},\"type\":\"scattercarpet\"}],\"scattergeo\":[{\"marker\":{\"colorbar\":{\"outlinewidth\":0,\"ticks\":\"\"}},\"type\":\"scattergeo\"}],\"scattergl\":[{\"marker\":{\"colorbar\":{\"outlinewidth\":0,\"ticks\":\"\"}},\"type\":\"scattergl\"}],\"scattermapbox\":[{\"marker\":{\"colorbar\":{\"outlinewidth\":0,\"ticks\":\"\"}},\"type\":\"scattermapbox\"}],\"scatterpolargl\":[{\"marker\":{\"colorbar\":{\"outlinewidth\":0,\"ticks\":\"\"}},\"type\":\"scatterpolargl\"}],\"scatterpolar\":[{\"marker\":{\"colorbar\":{\"outlinewidth\":0,\"ticks\":\"\"}},\"type\":\"scatterpolar\"}],\"scatter\":[{\"marker\":{\"colorbar\":{\"outlinewidth\":0,\"ticks\":\"\"}},\"type\":\"scatter\"}],\"scatterternary\":[{\"marker\":{\"colorbar\":{\"outlinewidth\":0,\"ticks\":\"\"}},\"type\":\"scatterternary\"}],\"surface\":[{\"colorbar\":{\"outlinewidth\":0,\"ticks\":\"\"},\"colorscale\":[[0.0,\"#0d0887\"],[0.1111111111111111,\"#46039f\"],[0.2222222222222222,\"#7201a8\"],[0.3333333333333333,\"#9c179e\"],[0.4444444444444444,\"#bd3786\"],[0.5555555555555556,\"#d8576b\"],[0.6666666666666666,\"#ed7953\"],[0.7777777777777778,\"#fb9f3a\"],[0.8888888888888888,\"#fdca26\"],[1.0,\"#f0f921\"]],\"type\":\"surface\"}],\"table\":[{\"cells\":{\"fill\":{\"color\":\"#EBF0F8\"},\"line\":{\"color\":\"white\"}},\"header\":{\"fill\":{\"color\":\"#C8D4E3\"},\"line\":{\"color\":\"white\"}},\"type\":\"table\"}]},\"layout\":{\"annotationdefaults\":{\"arrowcolor\":\"#2a3f5f\",\"arrowhead\":0,\"arrowwidth\":1},\"autotypenumbers\":\"strict\",\"coloraxis\":{\"colorbar\":{\"outlinewidth\":0,\"ticks\":\"\"}},\"colorscale\":{\"diverging\":[[0,\"#8e0152\"],[0.1,\"#c51b7d\"],[0.2,\"#de77ae\"],[0.3,\"#f1b6da\"],[0.4,\"#fde0ef\"],[0.5,\"#f7f7f7\"],[0.6,\"#e6f5d0\"],[0.7,\"#b8e186\"],[0.8,\"#7fbc41\"],[0.9,\"#4d9221\"],[1,\"#276419\"]],\"sequential\":[[0.0,\"#0d0887\"],[0.1111111111111111,\"#46039f\"],[0.2222222222222222,\"#7201a8\"],[0.3333333333333333,\"#9c179e\"],[0.4444444444444444,\"#bd3786\"],[0.5555555555555556,\"#d8576b\"],[0.6666666666666666,\"#ed7953\"],[0.7777777777777778,\"#fb9f3a\"],[0.8888888888888888,\"#fdca26\"],[1.0,\"#f0f921\"]],\"sequentialminus\":[[0.0,\"#0d0887\"],[0.1111111111111111,\"#46039f\"],[0.2222222222222222,\"#7201a8\"],[0.3333333333333333,\"#9c179e\"],[0.4444444444444444,\"#bd3786\"],[0.5555555555555556,\"#d8576b\"],[0.6666666666666666,\"#ed7953\"],[0.7777777777777778,\"#fb9f3a\"],[0.8888888888888888,\"#fdca26\"],[1.0,\"#f0f921\"]]},\"colorway\":[\"#636efa\",\"#EF553B\",\"#00cc96\",\"#ab63fa\",\"#FFA15A\",\"#19d3f3\",\"#FF6692\",\"#B6E880\",\"#FF97FF\",\"#FECB52\"],\"font\":{\"color\":\"#2a3f5f\"},\"geo\":{\"bgcolor\":\"white\",\"lakecolor\":\"white\",\"landcolor\":\"white\",\"showlakes\":true,\"showland\":true,\"subunitcolor\":\"#C8D4E3\"},\"hoverlabel\":{\"align\":\"left\"},\"hovermode\":\"closest\",\"mapbox\":{\"style\":\"light\"},\"paper_bgcolor\":\"white\",\"plot_bgcolor\":\"white\",\"polar\":{\"angularaxis\":{\"gridcolor\":\"#EBF0F8\",\"linecolor\":\"#EBF0F8\",\"ticks\":\"\"},\"bgcolor\":\"white\",\"radialaxis\":{\"gridcolor\":\"#EBF0F8\",\"linecolor\":\"#EBF0F8\",\"ticks\":\"\"}},\"scene\":{\"xaxis\":{\"backgroundcolor\":\"white\",\"gridcolor\":\"#DFE8F3\",\"gridwidth\":2,\"linecolor\":\"#EBF0F8\",\"showbackground\":true,\"ticks\":\"\",\"zerolinecolor\":\"#EBF0F8\"},\"yaxis\":{\"backgroundcolor\":\"white\",\"gridcolor\":\"#DFE8F3\",\"gridwidth\":2,\"linecolor\":\"#EBF0F8\",\"showbackground\":true,\"ticks\":\"\",\"zerolinecolor\":\"#EBF0F8\"},\"zaxis\":{\"backgroundcolor\":\"white\",\"gridcolor\":\"#DFE8F3\",\"gridwidth\":2,\"linecolor\":\"#EBF0F8\",\"showbackground\":true,\"ticks\":\"\",\"zerolinecolor\":\"#EBF0F8\"}},\"shapedefaults\":{\"line\":{\"color\":\"#2a3f5f\"}},\"ternary\":{\"aaxis\":{\"gridcolor\":\"#DFE8F3\",\"linecolor\":\"#A2B1C6\",\"ticks\":\"\"},\"baxis\":{\"gridcolor\":\"#DFE8F3\",\"linecolor\":\"#A2B1C6\",\"ticks\":\"\"},\"bgcolor\":\"white\",\"caxis\":{\"gridcolor\":\"#DFE8F3\",\"linecolor\":\"#A2B1C6\",\"ticks\":\"\"}},\"title\":{\"x\":0.05},\"xaxis\":{\"automargin\":true,\"gridcolor\":\"#EBF0F8\",\"linecolor\":\"#EBF0F8\",\"ticks\":\"\",\"title\":{\"standoff\":15},\"zerolinecolor\":\"#EBF0F8\",\"zerolinewidth\":2},\"yaxis\":{\"automargin\":true,\"gridcolor\":\"#EBF0F8\",\"linecolor\":\"#EBF0F8\",\"ticks\":\"\",\"title\":{\"standoff\":15},\"zerolinecolor\":\"#EBF0F8\",\"zerolinewidth\":2}}},\"xaxis\":{\"anchor\":\"y\",\"domain\":[0.0,1.0],\"title\":{\"text\":\"CV AUC\"},\"tickfont\":{\"size\":20},\"range\":[0.25,0.75]},\"yaxis\":{\"anchor\":\"x\",\"domain\":[0.0,1.0],\"title\":{\"text\":\"\"},\"tickfont\":{\"size\":20}},\"legend\":{\"title\":{\"text\":\"Model\"},\"tracegroupgap\":0},\"margin\":{\"t\":60},\"barmode\":\"relative\",\"shapes\":[{\"line\":{\"color\":\"grey\",\"dash\":\"dash\",\"width\":3},\"type\":\"line\",\"x0\":0.6029272894342922,\"x1\":0.6029272894342922,\"xref\":\"x\",\"y0\":0,\"y1\":1,\"yref\":\"y domain\"}],\"annotations\":[{\"align\":\"left\",\"arrowhead\":1,\"showarrow\":false,\"text\":\"Score on original labels: <br>Mean AUC: 0.603<br>p = 0.042\",\"x\":0.7029272894342922,\"y\":50}],\"font\":{\"family\":\"Times new roman\",\"size\":20,\"color\":\"black\"},\"autosize\":false,\"width\":800,\"height\":800,\"bargap\":0.05},                        {\"responsive\": true}                    ).then(function(){\n",
       "                            \n",
       "var gd = document.getElementById('cdd33168-883d-40cd-92a3-70ef70581a57');\n",
       "var x = new MutationObserver(function (mutations, observer) {{\n",
       "        var display = window.getComputedStyle(gd).display;\n",
       "        if (!display || display === 'none') {{\n",
       "            console.log([gd, 'removed!']);\n",
       "            Plotly.purge(gd);\n",
       "            observer.disconnect();\n",
       "        }}\n",
       "}});\n",
       "\n",
       "// Listen for the removal of the full notebook cells\n",
       "var notebookContainer = gd.closest('#notebook-container');\n",
       "if (notebookContainer) {{\n",
       "    x.observe(notebookContainer, {childList: true});\n",
       "}}\n",
       "\n",
       "// Listen for the clearing of the current output cell\n",
       "var outputEl = gd.closest('.output');\n",
       "if (outputEl) {{\n",
       "    x.observe(outputEl, {childList: true});\n",
       "}}\n",
       "\n",
       "                        })                };                });            </script>        </div>"
      ]
     },
     "metadata": {},
     "output_type": "display_data"
    }
   ],
   "source": [
    "df = pd.concat([df_perm_mind, df_forest_mind])\n",
    "fig = px.histogram(df_perm_mind, x='auc', color=\"Model\",nbins = 25,  color_discrete_sequence = [pink])\n",
    "\n",
    "fig.add_vline(x=df_forest_mind.auc.mean(), line_width=3, line_dash=\"dash\", line_color=\"grey\")\n",
    "\n",
    "fig.add_annotation(x=df_forest_mind.auc.mean() + 0.1, y=50,\n",
    "            text=f\"Score on original labels: <br>Mean AUC: {df_forest_mind.auc.mean():.3f}<br>p = {pvalue_mind:.3f}\",\n",
    "            showarrow=False,\n",
    "            arrowhead=1,\n",
    "            align = 'left',\n",
    "            )\n",
    "\n",
    "\n",
    "fig.update_layout(\n",
    "#     title = f'Mean AUC = {df_forest_mind.auc.mean()}',\n",
    "    autosize=False,\n",
    "    template = \"plotly_white\",\n",
    "    font=dict(\n",
    "        family=\"Times new roman\",\n",
    "        size=20,\n",
    "        color=\"black\"\n",
    "    ),\n",
    "    width=800,\n",
    "    height=800,\n",
    "    bargap=0.05,\n",
    "    yaxis = {'title': '',\n",
    "             'tickfont': {\"size\": 20},\n",
    "    },\n",
    "    xaxis ={'title':'CV AUC',\n",
    "             'range':[0.25, 0.75],\n",
    "             'tickfont':{\"size\": 20}\n",
    "        }\n",
    ")\n",
    "fig.show()\n",
    "\n",
    "fig.write_image('Figs/multivariate_perm_mind.png')\n",
    "fig.write_image(\"Figs/multivariate_perm_mind.svg\")"
   ]
  },
  {
   "cell_type": "code",
   "execution_count": 13,
   "id": "arranged-facility",
   "metadata": {},
   "outputs": [
    {
     "data": {
      "application/vnd.plotly.v1+json": {
       "config": {
        "plotlyServerURL": "https://plot.ly"
       },
       "data": [
        {
         "alignmentgroup": "True",
         "box": {
          "visible": true
         },
         "hovertemplate": "AUC=%{x}<extra></extra>",
         "legendgroup": "",
         "marker": {
          "color": "#DE237B"
         },
         "name": "",
         "offsetgroup": "",
         "orientation": "h",
         "points": "all",
         "scalegroup": "True",
         "showlegend": false,
         "type": "violin",
         "x": [
          0.6126543209876543,
          0.5272108843537414,
          0.6966666666666667,
          0.607843137254902,
          0.5702614379084967
         ],
         "x0": " ",
         "xaxis": "x",
         "y0": " ",
         "yaxis": "y"
        }
       ],
       "layout": {
        "autosize": false,
        "height": 800,
        "legend": {
         "tracegroupgap": 0
        },
        "margin": {
         "t": 60
        },
        "shapes": [
         {
          "line": {
           "color": "grey",
           "dash": "dash",
           "width": 3
          },
          "type": "line",
          "x0": 0.5,
          "x1": 0.5,
          "xref": "x",
          "y0": 0,
          "y1": 1,
          "yref": "y domain"
         }
        ],
        "template": {
         "data": {
          "bar": [
           {
            "error_x": {
             "color": "#2a3f5f"
            },
            "error_y": {
             "color": "#2a3f5f"
            },
            "marker": {
             "line": {
              "color": "white",
              "width": 0.5
             },
             "pattern": {
              "fillmode": "overlay",
              "size": 10,
              "solidity": 0.2
             }
            },
            "type": "bar"
           }
          ],
          "barpolar": [
           {
            "marker": {
             "line": {
              "color": "white",
              "width": 0.5
             },
             "pattern": {
              "fillmode": "overlay",
              "size": 10,
              "solidity": 0.2
             }
            },
            "type": "barpolar"
           }
          ],
          "carpet": [
           {
            "aaxis": {
             "endlinecolor": "#2a3f5f",
             "gridcolor": "#C8D4E3",
             "linecolor": "#C8D4E3",
             "minorgridcolor": "#C8D4E3",
             "startlinecolor": "#2a3f5f"
            },
            "baxis": {
             "endlinecolor": "#2a3f5f",
             "gridcolor": "#C8D4E3",
             "linecolor": "#C8D4E3",
             "minorgridcolor": "#C8D4E3",
             "startlinecolor": "#2a3f5f"
            },
            "type": "carpet"
           }
          ],
          "choropleth": [
           {
            "colorbar": {
             "outlinewidth": 0,
             "ticks": ""
            },
            "type": "choropleth"
           }
          ],
          "contour": [
           {
            "colorbar": {
             "outlinewidth": 0,
             "ticks": ""
            },
            "colorscale": [
             [
              0,
              "#0d0887"
             ],
             [
              0.1111111111111111,
              "#46039f"
             ],
             [
              0.2222222222222222,
              "#7201a8"
             ],
             [
              0.3333333333333333,
              "#9c179e"
             ],
             [
              0.4444444444444444,
              "#bd3786"
             ],
             [
              0.5555555555555556,
              "#d8576b"
             ],
             [
              0.6666666666666666,
              "#ed7953"
             ],
             [
              0.7777777777777778,
              "#fb9f3a"
             ],
             [
              0.8888888888888888,
              "#fdca26"
             ],
             [
              1,
              "#f0f921"
             ]
            ],
            "type": "contour"
           }
          ],
          "contourcarpet": [
           {
            "colorbar": {
             "outlinewidth": 0,
             "ticks": ""
            },
            "type": "contourcarpet"
           }
          ],
          "heatmap": [
           {
            "colorbar": {
             "outlinewidth": 0,
             "ticks": ""
            },
            "colorscale": [
             [
              0,
              "#0d0887"
             ],
             [
              0.1111111111111111,
              "#46039f"
             ],
             [
              0.2222222222222222,
              "#7201a8"
             ],
             [
              0.3333333333333333,
              "#9c179e"
             ],
             [
              0.4444444444444444,
              "#bd3786"
             ],
             [
              0.5555555555555556,
              "#d8576b"
             ],
             [
              0.6666666666666666,
              "#ed7953"
             ],
             [
              0.7777777777777778,
              "#fb9f3a"
             ],
             [
              0.8888888888888888,
              "#fdca26"
             ],
             [
              1,
              "#f0f921"
             ]
            ],
            "type": "heatmap"
           }
          ],
          "heatmapgl": [
           {
            "colorbar": {
             "outlinewidth": 0,
             "ticks": ""
            },
            "colorscale": [
             [
              0,
              "#0d0887"
             ],
             [
              0.1111111111111111,
              "#46039f"
             ],
             [
              0.2222222222222222,
              "#7201a8"
             ],
             [
              0.3333333333333333,
              "#9c179e"
             ],
             [
              0.4444444444444444,
              "#bd3786"
             ],
             [
              0.5555555555555556,
              "#d8576b"
             ],
             [
              0.6666666666666666,
              "#ed7953"
             ],
             [
              0.7777777777777778,
              "#fb9f3a"
             ],
             [
              0.8888888888888888,
              "#fdca26"
             ],
             [
              1,
              "#f0f921"
             ]
            ],
            "type": "heatmapgl"
           }
          ],
          "histogram": [
           {
            "marker": {
             "pattern": {
              "fillmode": "overlay",
              "size": 10,
              "solidity": 0.2
             }
            },
            "type": "histogram"
           }
          ],
          "histogram2d": [
           {
            "colorbar": {
             "outlinewidth": 0,
             "ticks": ""
            },
            "colorscale": [
             [
              0,
              "#0d0887"
             ],
             [
              0.1111111111111111,
              "#46039f"
             ],
             [
              0.2222222222222222,
              "#7201a8"
             ],
             [
              0.3333333333333333,
              "#9c179e"
             ],
             [
              0.4444444444444444,
              "#bd3786"
             ],
             [
              0.5555555555555556,
              "#d8576b"
             ],
             [
              0.6666666666666666,
              "#ed7953"
             ],
             [
              0.7777777777777778,
              "#fb9f3a"
             ],
             [
              0.8888888888888888,
              "#fdca26"
             ],
             [
              1,
              "#f0f921"
             ]
            ],
            "type": "histogram2d"
           }
          ],
          "histogram2dcontour": [
           {
            "colorbar": {
             "outlinewidth": 0,
             "ticks": ""
            },
            "colorscale": [
             [
              0,
              "#0d0887"
             ],
             [
              0.1111111111111111,
              "#46039f"
             ],
             [
              0.2222222222222222,
              "#7201a8"
             ],
             [
              0.3333333333333333,
              "#9c179e"
             ],
             [
              0.4444444444444444,
              "#bd3786"
             ],
             [
              0.5555555555555556,
              "#d8576b"
             ],
             [
              0.6666666666666666,
              "#ed7953"
             ],
             [
              0.7777777777777778,
              "#fb9f3a"
             ],
             [
              0.8888888888888888,
              "#fdca26"
             ],
             [
              1,
              "#f0f921"
             ]
            ],
            "type": "histogram2dcontour"
           }
          ],
          "mesh3d": [
           {
            "colorbar": {
             "outlinewidth": 0,
             "ticks": ""
            },
            "type": "mesh3d"
           }
          ],
          "parcoords": [
           {
            "line": {
             "colorbar": {
              "outlinewidth": 0,
              "ticks": ""
             }
            },
            "type": "parcoords"
           }
          ],
          "pie": [
           {
            "automargin": true,
            "type": "pie"
           }
          ],
          "scatter": [
           {
            "marker": {
             "colorbar": {
              "outlinewidth": 0,
              "ticks": ""
             }
            },
            "type": "scatter"
           }
          ],
          "scatter3d": [
           {
            "line": {
             "colorbar": {
              "outlinewidth": 0,
              "ticks": ""
             }
            },
            "marker": {
             "colorbar": {
              "outlinewidth": 0,
              "ticks": ""
             }
            },
            "type": "scatter3d"
           }
          ],
          "scattercarpet": [
           {
            "marker": {
             "colorbar": {
              "outlinewidth": 0,
              "ticks": ""
             }
            },
            "type": "scattercarpet"
           }
          ],
          "scattergeo": [
           {
            "marker": {
             "colorbar": {
              "outlinewidth": 0,
              "ticks": ""
             }
            },
            "type": "scattergeo"
           }
          ],
          "scattergl": [
           {
            "marker": {
             "colorbar": {
              "outlinewidth": 0,
              "ticks": ""
             }
            },
            "type": "scattergl"
           }
          ],
          "scattermapbox": [
           {
            "marker": {
             "colorbar": {
              "outlinewidth": 0,
              "ticks": ""
             }
            },
            "type": "scattermapbox"
           }
          ],
          "scatterpolar": [
           {
            "marker": {
             "colorbar": {
              "outlinewidth": 0,
              "ticks": ""
             }
            },
            "type": "scatterpolar"
           }
          ],
          "scatterpolargl": [
           {
            "marker": {
             "colorbar": {
              "outlinewidth": 0,
              "ticks": ""
             }
            },
            "type": "scatterpolargl"
           }
          ],
          "scatterternary": [
           {
            "marker": {
             "colorbar": {
              "outlinewidth": 0,
              "ticks": ""
             }
            },
            "type": "scatterternary"
           }
          ],
          "surface": [
           {
            "colorbar": {
             "outlinewidth": 0,
             "ticks": ""
            },
            "colorscale": [
             [
              0,
              "#0d0887"
             ],
             [
              0.1111111111111111,
              "#46039f"
             ],
             [
              0.2222222222222222,
              "#7201a8"
             ],
             [
              0.3333333333333333,
              "#9c179e"
             ],
             [
              0.4444444444444444,
              "#bd3786"
             ],
             [
              0.5555555555555556,
              "#d8576b"
             ],
             [
              0.6666666666666666,
              "#ed7953"
             ],
             [
              0.7777777777777778,
              "#fb9f3a"
             ],
             [
              0.8888888888888888,
              "#fdca26"
             ],
             [
              1,
              "#f0f921"
             ]
            ],
            "type": "surface"
           }
          ],
          "table": [
           {
            "cells": {
             "fill": {
              "color": "#EBF0F8"
             },
             "line": {
              "color": "white"
             }
            },
            "header": {
             "fill": {
              "color": "#C8D4E3"
             },
             "line": {
              "color": "white"
             }
            },
            "type": "table"
           }
          ]
         },
         "layout": {
          "annotationdefaults": {
           "arrowcolor": "#2a3f5f",
           "arrowhead": 0,
           "arrowwidth": 1
          },
          "autotypenumbers": "strict",
          "coloraxis": {
           "colorbar": {
            "outlinewidth": 0,
            "ticks": ""
           }
          },
          "colorscale": {
           "diverging": [
            [
             0,
             "#8e0152"
            ],
            [
             0.1,
             "#c51b7d"
            ],
            [
             0.2,
             "#de77ae"
            ],
            [
             0.3,
             "#f1b6da"
            ],
            [
             0.4,
             "#fde0ef"
            ],
            [
             0.5,
             "#f7f7f7"
            ],
            [
             0.6,
             "#e6f5d0"
            ],
            [
             0.7,
             "#b8e186"
            ],
            [
             0.8,
             "#7fbc41"
            ],
            [
             0.9,
             "#4d9221"
            ],
            [
             1,
             "#276419"
            ]
           ],
           "sequential": [
            [
             0,
             "#0d0887"
            ],
            [
             0.1111111111111111,
             "#46039f"
            ],
            [
             0.2222222222222222,
             "#7201a8"
            ],
            [
             0.3333333333333333,
             "#9c179e"
            ],
            [
             0.4444444444444444,
             "#bd3786"
            ],
            [
             0.5555555555555556,
             "#d8576b"
            ],
            [
             0.6666666666666666,
             "#ed7953"
            ],
            [
             0.7777777777777778,
             "#fb9f3a"
            ],
            [
             0.8888888888888888,
             "#fdca26"
            ],
            [
             1,
             "#f0f921"
            ]
           ],
           "sequentialminus": [
            [
             0,
             "#0d0887"
            ],
            [
             0.1111111111111111,
             "#46039f"
            ],
            [
             0.2222222222222222,
             "#7201a8"
            ],
            [
             0.3333333333333333,
             "#9c179e"
            ],
            [
             0.4444444444444444,
             "#bd3786"
            ],
            [
             0.5555555555555556,
             "#d8576b"
            ],
            [
             0.6666666666666666,
             "#ed7953"
            ],
            [
             0.7777777777777778,
             "#fb9f3a"
            ],
            [
             0.8888888888888888,
             "#fdca26"
            ],
            [
             1,
             "#f0f921"
            ]
           ]
          },
          "colorway": [
           "#636efa",
           "#EF553B",
           "#00cc96",
           "#ab63fa",
           "#FFA15A",
           "#19d3f3",
           "#FF6692",
           "#B6E880",
           "#FF97FF",
           "#FECB52"
          ],
          "font": {
           "color": "#2a3f5f"
          },
          "geo": {
           "bgcolor": "white",
           "lakecolor": "white",
           "landcolor": "white",
           "showlakes": true,
           "showland": true,
           "subunitcolor": "#C8D4E3"
          },
          "hoverlabel": {
           "align": "left"
          },
          "hovermode": "closest",
          "mapbox": {
           "style": "light"
          },
          "paper_bgcolor": "white",
          "plot_bgcolor": "white",
          "polar": {
           "angularaxis": {
            "gridcolor": "#EBF0F8",
            "linecolor": "#EBF0F8",
            "ticks": ""
           },
           "bgcolor": "white",
           "radialaxis": {
            "gridcolor": "#EBF0F8",
            "linecolor": "#EBF0F8",
            "ticks": ""
           }
          },
          "scene": {
           "xaxis": {
            "backgroundcolor": "white",
            "gridcolor": "#DFE8F3",
            "gridwidth": 2,
            "linecolor": "#EBF0F8",
            "showbackground": true,
            "ticks": "",
            "zerolinecolor": "#EBF0F8"
           },
           "yaxis": {
            "backgroundcolor": "white",
            "gridcolor": "#DFE8F3",
            "gridwidth": 2,
            "linecolor": "#EBF0F8",
            "showbackground": true,
            "ticks": "",
            "zerolinecolor": "#EBF0F8"
           },
           "zaxis": {
            "backgroundcolor": "white",
            "gridcolor": "#DFE8F3",
            "gridwidth": 2,
            "linecolor": "#EBF0F8",
            "showbackground": true,
            "ticks": "",
            "zerolinecolor": "#EBF0F8"
           }
          },
          "shapedefaults": {
           "line": {
            "color": "#2a3f5f"
           }
          },
          "ternary": {
           "aaxis": {
            "gridcolor": "#DFE8F3",
            "linecolor": "#A2B1C6",
            "ticks": ""
           },
           "baxis": {
            "gridcolor": "#DFE8F3",
            "linecolor": "#A2B1C6",
            "ticks": ""
           },
           "bgcolor": "white",
           "caxis": {
            "gridcolor": "#DFE8F3",
            "linecolor": "#A2B1C6",
            "ticks": ""
           }
          },
          "title": {
           "x": 0.05
          },
          "xaxis": {
           "automargin": true,
           "gridcolor": "#EBF0F8",
           "linecolor": "#EBF0F8",
           "ticks": "",
           "title": {
            "standoff": 15
           },
           "zerolinecolor": "#EBF0F8",
           "zerolinewidth": 2
          },
          "yaxis": {
           "automargin": true,
           "gridcolor": "#EBF0F8",
           "linecolor": "#EBF0F8",
           "ticks": "",
           "title": {
            "standoff": 15
           },
           "zerolinecolor": "#EBF0F8",
           "zerolinewidth": 2
          }
         }
        },
        "violinmode": "group",
        "width": 800,
        "xaxis": {
         "anchor": "y",
         "domain": [
          0,
          1
         ],
         "range": [
          0.2,
          1
         ],
         "title": {
          "text": "AUC"
         }
        },
        "yaxis": {
         "anchor": "x",
         "domain": [
          0,
          1
         ],
         "showticklabels": true,
         "tickmode": "linear",
         "title": {
          "text": "Whole model"
         }
        }
       }
      },
      "text/html": [
       "<div>                            <div id=\"359fc2a2-1082-44dc-9ea3-43fb462408a4\" class=\"plotly-graph-div\" style=\"height:800px; width:800px;\"></div>            <script type=\"text/javascript\">                require([\"plotly\"], function(Plotly) {                    window.PLOTLYENV=window.PLOTLYENV || {};                                    if (document.getElementById(\"359fc2a2-1082-44dc-9ea3-43fb462408a4\")) {                    Plotly.newPlot(                        \"359fc2a2-1082-44dc-9ea3-43fb462408a4\",                        [{\"alignmentgroup\":\"True\",\"box\":{\"visible\":true},\"hovertemplate\":\"AUC=%{x}<extra></extra>\",\"legendgroup\":\"\",\"marker\":{\"color\":\"#DE237B\"},\"name\":\"\",\"offsetgroup\":\"\",\"orientation\":\"h\",\"points\":\"all\",\"scalegroup\":\"True\",\"showlegend\":false,\"x\":[0.6126543209876543,0.5272108843537414,0.6966666666666667,0.607843137254902,0.5702614379084967],\"x0\":\" \",\"xaxis\":\"x\",\"y0\":\" \",\"yaxis\":\"y\",\"type\":\"violin\"}],                        {\"template\":{\"data\":{\"barpolar\":[{\"marker\":{\"line\":{\"color\":\"white\",\"width\":0.5},\"pattern\":{\"fillmode\":\"overlay\",\"size\":10,\"solidity\":0.2}},\"type\":\"barpolar\"}],\"bar\":[{\"error_x\":{\"color\":\"#2a3f5f\"},\"error_y\":{\"color\":\"#2a3f5f\"},\"marker\":{\"line\":{\"color\":\"white\",\"width\":0.5},\"pattern\":{\"fillmode\":\"overlay\",\"size\":10,\"solidity\":0.2}},\"type\":\"bar\"}],\"carpet\":[{\"aaxis\":{\"endlinecolor\":\"#2a3f5f\",\"gridcolor\":\"#C8D4E3\",\"linecolor\":\"#C8D4E3\",\"minorgridcolor\":\"#C8D4E3\",\"startlinecolor\":\"#2a3f5f\"},\"baxis\":{\"endlinecolor\":\"#2a3f5f\",\"gridcolor\":\"#C8D4E3\",\"linecolor\":\"#C8D4E3\",\"minorgridcolor\":\"#C8D4E3\",\"startlinecolor\":\"#2a3f5f\"},\"type\":\"carpet\"}],\"choropleth\":[{\"colorbar\":{\"outlinewidth\":0,\"ticks\":\"\"},\"type\":\"choropleth\"}],\"contourcarpet\":[{\"colorbar\":{\"outlinewidth\":0,\"ticks\":\"\"},\"type\":\"contourcarpet\"}],\"contour\":[{\"colorbar\":{\"outlinewidth\":0,\"ticks\":\"\"},\"colorscale\":[[0.0,\"#0d0887\"],[0.1111111111111111,\"#46039f\"],[0.2222222222222222,\"#7201a8\"],[0.3333333333333333,\"#9c179e\"],[0.4444444444444444,\"#bd3786\"],[0.5555555555555556,\"#d8576b\"],[0.6666666666666666,\"#ed7953\"],[0.7777777777777778,\"#fb9f3a\"],[0.8888888888888888,\"#fdca26\"],[1.0,\"#f0f921\"]],\"type\":\"contour\"}],\"heatmapgl\":[{\"colorbar\":{\"outlinewidth\":0,\"ticks\":\"\"},\"colorscale\":[[0.0,\"#0d0887\"],[0.1111111111111111,\"#46039f\"],[0.2222222222222222,\"#7201a8\"],[0.3333333333333333,\"#9c179e\"],[0.4444444444444444,\"#bd3786\"],[0.5555555555555556,\"#d8576b\"],[0.6666666666666666,\"#ed7953\"],[0.7777777777777778,\"#fb9f3a\"],[0.8888888888888888,\"#fdca26\"],[1.0,\"#f0f921\"]],\"type\":\"heatmapgl\"}],\"heatmap\":[{\"colorbar\":{\"outlinewidth\":0,\"ticks\":\"\"},\"colorscale\":[[0.0,\"#0d0887\"],[0.1111111111111111,\"#46039f\"],[0.2222222222222222,\"#7201a8\"],[0.3333333333333333,\"#9c179e\"],[0.4444444444444444,\"#bd3786\"],[0.5555555555555556,\"#d8576b\"],[0.6666666666666666,\"#ed7953\"],[0.7777777777777778,\"#fb9f3a\"],[0.8888888888888888,\"#fdca26\"],[1.0,\"#f0f921\"]],\"type\":\"heatmap\"}],\"histogram2dcontour\":[{\"colorbar\":{\"outlinewidth\":0,\"ticks\":\"\"},\"colorscale\":[[0.0,\"#0d0887\"],[0.1111111111111111,\"#46039f\"],[0.2222222222222222,\"#7201a8\"],[0.3333333333333333,\"#9c179e\"],[0.4444444444444444,\"#bd3786\"],[0.5555555555555556,\"#d8576b\"],[0.6666666666666666,\"#ed7953\"],[0.7777777777777778,\"#fb9f3a\"],[0.8888888888888888,\"#fdca26\"],[1.0,\"#f0f921\"]],\"type\":\"histogram2dcontour\"}],\"histogram2d\":[{\"colorbar\":{\"outlinewidth\":0,\"ticks\":\"\"},\"colorscale\":[[0.0,\"#0d0887\"],[0.1111111111111111,\"#46039f\"],[0.2222222222222222,\"#7201a8\"],[0.3333333333333333,\"#9c179e\"],[0.4444444444444444,\"#bd3786\"],[0.5555555555555556,\"#d8576b\"],[0.6666666666666666,\"#ed7953\"],[0.7777777777777778,\"#fb9f3a\"],[0.8888888888888888,\"#fdca26\"],[1.0,\"#f0f921\"]],\"type\":\"histogram2d\"}],\"histogram\":[{\"marker\":{\"pattern\":{\"fillmode\":\"overlay\",\"size\":10,\"solidity\":0.2}},\"type\":\"histogram\"}],\"mesh3d\":[{\"colorbar\":{\"outlinewidth\":0,\"ticks\":\"\"},\"type\":\"mesh3d\"}],\"parcoords\":[{\"line\":{\"colorbar\":{\"outlinewidth\":0,\"ticks\":\"\"}},\"type\":\"parcoords\"}],\"pie\":[{\"automargin\":true,\"type\":\"pie\"}],\"scatter3d\":[{\"line\":{\"colorbar\":{\"outlinewidth\":0,\"ticks\":\"\"}},\"marker\":{\"colorbar\":{\"outlinewidth\":0,\"ticks\":\"\"}},\"type\":\"scatter3d\"}],\"scattercarpet\":[{\"marker\":{\"colorbar\":{\"outlinewidth\":0,\"ticks\":\"\"}},\"type\":\"scattercarpet\"}],\"scattergeo\":[{\"marker\":{\"colorbar\":{\"outlinewidth\":0,\"ticks\":\"\"}},\"type\":\"scattergeo\"}],\"scattergl\":[{\"marker\":{\"colorbar\":{\"outlinewidth\":0,\"ticks\":\"\"}},\"type\":\"scattergl\"}],\"scattermapbox\":[{\"marker\":{\"colorbar\":{\"outlinewidth\":0,\"ticks\":\"\"}},\"type\":\"scattermapbox\"}],\"scatterpolargl\":[{\"marker\":{\"colorbar\":{\"outlinewidth\":0,\"ticks\":\"\"}},\"type\":\"scatterpolargl\"}],\"scatterpolar\":[{\"marker\":{\"colorbar\":{\"outlinewidth\":0,\"ticks\":\"\"}},\"type\":\"scatterpolar\"}],\"scatter\":[{\"marker\":{\"colorbar\":{\"outlinewidth\":0,\"ticks\":\"\"}},\"type\":\"scatter\"}],\"scatterternary\":[{\"marker\":{\"colorbar\":{\"outlinewidth\":0,\"ticks\":\"\"}},\"type\":\"scatterternary\"}],\"surface\":[{\"colorbar\":{\"outlinewidth\":0,\"ticks\":\"\"},\"colorscale\":[[0.0,\"#0d0887\"],[0.1111111111111111,\"#46039f\"],[0.2222222222222222,\"#7201a8\"],[0.3333333333333333,\"#9c179e\"],[0.4444444444444444,\"#bd3786\"],[0.5555555555555556,\"#d8576b\"],[0.6666666666666666,\"#ed7953\"],[0.7777777777777778,\"#fb9f3a\"],[0.8888888888888888,\"#fdca26\"],[1.0,\"#f0f921\"]],\"type\":\"surface\"}],\"table\":[{\"cells\":{\"fill\":{\"color\":\"#EBF0F8\"},\"line\":{\"color\":\"white\"}},\"header\":{\"fill\":{\"color\":\"#C8D4E3\"},\"line\":{\"color\":\"white\"}},\"type\":\"table\"}]},\"layout\":{\"annotationdefaults\":{\"arrowcolor\":\"#2a3f5f\",\"arrowhead\":0,\"arrowwidth\":1},\"autotypenumbers\":\"strict\",\"coloraxis\":{\"colorbar\":{\"outlinewidth\":0,\"ticks\":\"\"}},\"colorscale\":{\"diverging\":[[0,\"#8e0152\"],[0.1,\"#c51b7d\"],[0.2,\"#de77ae\"],[0.3,\"#f1b6da\"],[0.4,\"#fde0ef\"],[0.5,\"#f7f7f7\"],[0.6,\"#e6f5d0\"],[0.7,\"#b8e186\"],[0.8,\"#7fbc41\"],[0.9,\"#4d9221\"],[1,\"#276419\"]],\"sequential\":[[0.0,\"#0d0887\"],[0.1111111111111111,\"#46039f\"],[0.2222222222222222,\"#7201a8\"],[0.3333333333333333,\"#9c179e\"],[0.4444444444444444,\"#bd3786\"],[0.5555555555555556,\"#d8576b\"],[0.6666666666666666,\"#ed7953\"],[0.7777777777777778,\"#fb9f3a\"],[0.8888888888888888,\"#fdca26\"],[1.0,\"#f0f921\"]],\"sequentialminus\":[[0.0,\"#0d0887\"],[0.1111111111111111,\"#46039f\"],[0.2222222222222222,\"#7201a8\"],[0.3333333333333333,\"#9c179e\"],[0.4444444444444444,\"#bd3786\"],[0.5555555555555556,\"#d8576b\"],[0.6666666666666666,\"#ed7953\"],[0.7777777777777778,\"#fb9f3a\"],[0.8888888888888888,\"#fdca26\"],[1.0,\"#f0f921\"]]},\"colorway\":[\"#636efa\",\"#EF553B\",\"#00cc96\",\"#ab63fa\",\"#FFA15A\",\"#19d3f3\",\"#FF6692\",\"#B6E880\",\"#FF97FF\",\"#FECB52\"],\"font\":{\"color\":\"#2a3f5f\"},\"geo\":{\"bgcolor\":\"white\",\"lakecolor\":\"white\",\"landcolor\":\"white\",\"showlakes\":true,\"showland\":true,\"subunitcolor\":\"#C8D4E3\"},\"hoverlabel\":{\"align\":\"left\"},\"hovermode\":\"closest\",\"mapbox\":{\"style\":\"light\"},\"paper_bgcolor\":\"white\",\"plot_bgcolor\":\"white\",\"polar\":{\"angularaxis\":{\"gridcolor\":\"#EBF0F8\",\"linecolor\":\"#EBF0F8\",\"ticks\":\"\"},\"bgcolor\":\"white\",\"radialaxis\":{\"gridcolor\":\"#EBF0F8\",\"linecolor\":\"#EBF0F8\",\"ticks\":\"\"}},\"scene\":{\"xaxis\":{\"backgroundcolor\":\"white\",\"gridcolor\":\"#DFE8F3\",\"gridwidth\":2,\"linecolor\":\"#EBF0F8\",\"showbackground\":true,\"ticks\":\"\",\"zerolinecolor\":\"#EBF0F8\"},\"yaxis\":{\"backgroundcolor\":\"white\",\"gridcolor\":\"#DFE8F3\",\"gridwidth\":2,\"linecolor\":\"#EBF0F8\",\"showbackground\":true,\"ticks\":\"\",\"zerolinecolor\":\"#EBF0F8\"},\"zaxis\":{\"backgroundcolor\":\"white\",\"gridcolor\":\"#DFE8F3\",\"gridwidth\":2,\"linecolor\":\"#EBF0F8\",\"showbackground\":true,\"ticks\":\"\",\"zerolinecolor\":\"#EBF0F8\"}},\"shapedefaults\":{\"line\":{\"color\":\"#2a3f5f\"}},\"ternary\":{\"aaxis\":{\"gridcolor\":\"#DFE8F3\",\"linecolor\":\"#A2B1C6\",\"ticks\":\"\"},\"baxis\":{\"gridcolor\":\"#DFE8F3\",\"linecolor\":\"#A2B1C6\",\"ticks\":\"\"},\"bgcolor\":\"white\",\"caxis\":{\"gridcolor\":\"#DFE8F3\",\"linecolor\":\"#A2B1C6\",\"ticks\":\"\"}},\"title\":{\"x\":0.05},\"xaxis\":{\"automargin\":true,\"gridcolor\":\"#EBF0F8\",\"linecolor\":\"#EBF0F8\",\"ticks\":\"\",\"title\":{\"standoff\":15},\"zerolinecolor\":\"#EBF0F8\",\"zerolinewidth\":2},\"yaxis\":{\"automargin\":true,\"gridcolor\":\"#EBF0F8\",\"linecolor\":\"#EBF0F8\",\"ticks\":\"\",\"title\":{\"standoff\":15},\"zerolinecolor\":\"#EBF0F8\",\"zerolinewidth\":2}}},\"xaxis\":{\"anchor\":\"y\",\"domain\":[0.0,1.0],\"title\":{\"text\":\"AUC\"},\"range\":[0.2,1]},\"yaxis\":{\"anchor\":\"x\",\"domain\":[0.0,1.0],\"title\":{\"text\":\"Whole model\"},\"showticklabels\":true,\"tickmode\":\"linear\"},\"legend\":{\"tracegroupgap\":0},\"margin\":{\"t\":60},\"violinmode\":\"group\",\"shapes\":[{\"line\":{\"color\":\"grey\",\"dash\":\"dash\",\"width\":3},\"type\":\"line\",\"x0\":0.5,\"x1\":0.5,\"xref\":\"x\",\"y0\":0,\"y1\":1,\"yref\":\"y domain\"}],\"autosize\":false,\"width\":800,\"height\":800},                        {\"responsive\": true}                    ).then(function(){\n",
       "                            \n",
       "var gd = document.getElementById('359fc2a2-1082-44dc-9ea3-43fb462408a4');\n",
       "var x = new MutationObserver(function (mutations, observer) {{\n",
       "        var display = window.getComputedStyle(gd).display;\n",
       "        if (!display || display === 'none') {{\n",
       "            console.log([gd, 'removed!']);\n",
       "            Plotly.purge(gd);\n",
       "            observer.disconnect();\n",
       "        }}\n",
       "}});\n",
       "\n",
       "// Listen for the removal of the full notebook cells\n",
       "var notebookContainer = gd.closest('#notebook-container');\n",
       "if (notebookContainer) {{\n",
       "    x.observe(notebookContainer, {childList: true});\n",
       "}}\n",
       "\n",
       "// Listen for the clearing of the current output cell\n",
       "var outputEl = gd.closest('.output');\n",
       "if (outputEl) {{\n",
       "    x.observe(outputEl, {childList: true});\n",
       "}}\n",
       "\n",
       "                        })                };                });            </script>        </div>"
      ]
     },
     "metadata": {},
     "output_type": "display_data"
    }
   ],
   "source": [
    "fig =px.violin(df_forest_mind, x = 'auc', box = True, points = 'all',template = \"plotly_white\", color_discrete_sequence = [pink], labels = {'auc': 'AUC'})\n",
    "fig.add_vline(x=0.5, line_width=3, line_dash=\"dash\", line_color=\"grey\")\n",
    "\n",
    "fig.update_layout(\n",
    "#     title = f'Mean AUC = {df_forest_mind.auc.mean()}',\n",
    "    autosize=False,\n",
    "    width=800,\n",
    "    height=800,\n",
    "    yaxis = {'title': 'Whole model',\n",
    "            'showticklabels': True,\n",
    "            'tickmode': 'linear',},\n",
    "    xaxis ={\n",
    "             'range':[0.2, 1]\n",
    "        }\n",
    ")\n",
    "fig.show()"
   ]
  },
  {
   "cell_type": "code",
   "execution_count": 59,
   "id": "challenging-crawford",
   "metadata": {},
   "outputs": [
    {
     "data": {
      "application/vnd.plotly.v1+json": {
       "config": {
        "plotlyServerURL": "https://plot.ly"
       },
       "data": [
        {
         "hovertemplate": "mean_importance=%{x}<br>Markers=%{y}<extra></extra>",
         "legendgroup": "",
         "marker": {
          "color": "#DE237B",
          "size": 8,
          "symbol": "circle"
         },
         "mode": "markers",
         "name": "",
         "orientation": "h",
         "showlegend": false,
         "type": "scatter",
         "x": [
          0.019260589681104754,
          0.01928260236313232,
          0.019315028666920916,
          0.019340853102349932,
          0.019365969483525293,
          0.019448184067527623,
          0.019551577491168946,
          0.01971112970844176,
          0.01973328295364714,
          0.019734084594974822
         ],
         "xaxis": "x",
         "y": [
          "$P1_{std}$",
          "$MSF_{std}$",
          "$wSMI\\alpha_{mean}$",
          "$PE\\alpha_{mean}$",
          "$wSMI\\gamma_{std}$",
          "$CNV_{std}$",
          "$K_{std}$",
          "$|\\theta|_{std}$",
          "$|\\beta|_{mean}$",
          "$|\\theta|_{mean}$"
         ],
         "yaxis": "y"
        }
       ],
       "layout": {
        "font": {
         "color": "black",
         "family": "Times new roman",
         "size": 20
        },
        "height": 900,
        "legend": {
         "tracegroupgap": 0
        },
        "margin": {
         "t": 60
        },
        "showlegend": true,
        "template": {
         "data": {
          "bar": [
           {
            "error_x": {
             "color": "#2a3f5f"
            },
            "error_y": {
             "color": "#2a3f5f"
            },
            "marker": {
             "line": {
              "color": "white",
              "width": 0.5
             },
             "pattern": {
              "fillmode": "overlay",
              "size": 10,
              "solidity": 0.2
             }
            },
            "type": "bar"
           }
          ],
          "barpolar": [
           {
            "marker": {
             "line": {
              "color": "white",
              "width": 0.5
             },
             "pattern": {
              "fillmode": "overlay",
              "size": 10,
              "solidity": 0.2
             }
            },
            "type": "barpolar"
           }
          ],
          "carpet": [
           {
            "aaxis": {
             "endlinecolor": "#2a3f5f",
             "gridcolor": "#C8D4E3",
             "linecolor": "#C8D4E3",
             "minorgridcolor": "#C8D4E3",
             "startlinecolor": "#2a3f5f"
            },
            "baxis": {
             "endlinecolor": "#2a3f5f",
             "gridcolor": "#C8D4E3",
             "linecolor": "#C8D4E3",
             "minorgridcolor": "#C8D4E3",
             "startlinecolor": "#2a3f5f"
            },
            "type": "carpet"
           }
          ],
          "choropleth": [
           {
            "colorbar": {
             "outlinewidth": 0,
             "ticks": ""
            },
            "type": "choropleth"
           }
          ],
          "contour": [
           {
            "colorbar": {
             "outlinewidth": 0,
             "ticks": ""
            },
            "colorscale": [
             [
              0,
              "#0d0887"
             ],
             [
              0.1111111111111111,
              "#46039f"
             ],
             [
              0.2222222222222222,
              "#7201a8"
             ],
             [
              0.3333333333333333,
              "#9c179e"
             ],
             [
              0.4444444444444444,
              "#bd3786"
             ],
             [
              0.5555555555555556,
              "#d8576b"
             ],
             [
              0.6666666666666666,
              "#ed7953"
             ],
             [
              0.7777777777777778,
              "#fb9f3a"
             ],
             [
              0.8888888888888888,
              "#fdca26"
             ],
             [
              1,
              "#f0f921"
             ]
            ],
            "type": "contour"
           }
          ],
          "contourcarpet": [
           {
            "colorbar": {
             "outlinewidth": 0,
             "ticks": ""
            },
            "type": "contourcarpet"
           }
          ],
          "heatmap": [
           {
            "colorbar": {
             "outlinewidth": 0,
             "ticks": ""
            },
            "colorscale": [
             [
              0,
              "#0d0887"
             ],
             [
              0.1111111111111111,
              "#46039f"
             ],
             [
              0.2222222222222222,
              "#7201a8"
             ],
             [
              0.3333333333333333,
              "#9c179e"
             ],
             [
              0.4444444444444444,
              "#bd3786"
             ],
             [
              0.5555555555555556,
              "#d8576b"
             ],
             [
              0.6666666666666666,
              "#ed7953"
             ],
             [
              0.7777777777777778,
              "#fb9f3a"
             ],
             [
              0.8888888888888888,
              "#fdca26"
             ],
             [
              1,
              "#f0f921"
             ]
            ],
            "type": "heatmap"
           }
          ],
          "heatmapgl": [
           {
            "colorbar": {
             "outlinewidth": 0,
             "ticks": ""
            },
            "colorscale": [
             [
              0,
              "#0d0887"
             ],
             [
              0.1111111111111111,
              "#46039f"
             ],
             [
              0.2222222222222222,
              "#7201a8"
             ],
             [
              0.3333333333333333,
              "#9c179e"
             ],
             [
              0.4444444444444444,
              "#bd3786"
             ],
             [
              0.5555555555555556,
              "#d8576b"
             ],
             [
              0.6666666666666666,
              "#ed7953"
             ],
             [
              0.7777777777777778,
              "#fb9f3a"
             ],
             [
              0.8888888888888888,
              "#fdca26"
             ],
             [
              1,
              "#f0f921"
             ]
            ],
            "type": "heatmapgl"
           }
          ],
          "histogram": [
           {
            "marker": {
             "pattern": {
              "fillmode": "overlay",
              "size": 10,
              "solidity": 0.2
             }
            },
            "type": "histogram"
           }
          ],
          "histogram2d": [
           {
            "colorbar": {
             "outlinewidth": 0,
             "ticks": ""
            },
            "colorscale": [
             [
              0,
              "#0d0887"
             ],
             [
              0.1111111111111111,
              "#46039f"
             ],
             [
              0.2222222222222222,
              "#7201a8"
             ],
             [
              0.3333333333333333,
              "#9c179e"
             ],
             [
              0.4444444444444444,
              "#bd3786"
             ],
             [
              0.5555555555555556,
              "#d8576b"
             ],
             [
              0.6666666666666666,
              "#ed7953"
             ],
             [
              0.7777777777777778,
              "#fb9f3a"
             ],
             [
              0.8888888888888888,
              "#fdca26"
             ],
             [
              1,
              "#f0f921"
             ]
            ],
            "type": "histogram2d"
           }
          ],
          "histogram2dcontour": [
           {
            "colorbar": {
             "outlinewidth": 0,
             "ticks": ""
            },
            "colorscale": [
             [
              0,
              "#0d0887"
             ],
             [
              0.1111111111111111,
              "#46039f"
             ],
             [
              0.2222222222222222,
              "#7201a8"
             ],
             [
              0.3333333333333333,
              "#9c179e"
             ],
             [
              0.4444444444444444,
              "#bd3786"
             ],
             [
              0.5555555555555556,
              "#d8576b"
             ],
             [
              0.6666666666666666,
              "#ed7953"
             ],
             [
              0.7777777777777778,
              "#fb9f3a"
             ],
             [
              0.8888888888888888,
              "#fdca26"
             ],
             [
              1,
              "#f0f921"
             ]
            ],
            "type": "histogram2dcontour"
           }
          ],
          "mesh3d": [
           {
            "colorbar": {
             "outlinewidth": 0,
             "ticks": ""
            },
            "type": "mesh3d"
           }
          ],
          "parcoords": [
           {
            "line": {
             "colorbar": {
              "outlinewidth": 0,
              "ticks": ""
             }
            },
            "type": "parcoords"
           }
          ],
          "pie": [
           {
            "automargin": true,
            "type": "pie"
           }
          ],
          "scatter": [
           {
            "marker": {
             "colorbar": {
              "outlinewidth": 0,
              "ticks": ""
             }
            },
            "type": "scatter"
           }
          ],
          "scatter3d": [
           {
            "line": {
             "colorbar": {
              "outlinewidth": 0,
              "ticks": ""
             }
            },
            "marker": {
             "colorbar": {
              "outlinewidth": 0,
              "ticks": ""
             }
            },
            "type": "scatter3d"
           }
          ],
          "scattercarpet": [
           {
            "marker": {
             "colorbar": {
              "outlinewidth": 0,
              "ticks": ""
             }
            },
            "type": "scattercarpet"
           }
          ],
          "scattergeo": [
           {
            "marker": {
             "colorbar": {
              "outlinewidth": 0,
              "ticks": ""
             }
            },
            "type": "scattergeo"
           }
          ],
          "scattergl": [
           {
            "marker": {
             "colorbar": {
              "outlinewidth": 0,
              "ticks": ""
             }
            },
            "type": "scattergl"
           }
          ],
          "scattermapbox": [
           {
            "marker": {
             "colorbar": {
              "outlinewidth": 0,
              "ticks": ""
             }
            },
            "type": "scattermapbox"
           }
          ],
          "scatterpolar": [
           {
            "marker": {
             "colorbar": {
              "outlinewidth": 0,
              "ticks": ""
             }
            },
            "type": "scatterpolar"
           }
          ],
          "scatterpolargl": [
           {
            "marker": {
             "colorbar": {
              "outlinewidth": 0,
              "ticks": ""
             }
            },
            "type": "scatterpolargl"
           }
          ],
          "scatterternary": [
           {
            "marker": {
             "colorbar": {
              "outlinewidth": 0,
              "ticks": ""
             }
            },
            "type": "scatterternary"
           }
          ],
          "surface": [
           {
            "colorbar": {
             "outlinewidth": 0,
             "ticks": ""
            },
            "colorscale": [
             [
              0,
              "#0d0887"
             ],
             [
              0.1111111111111111,
              "#46039f"
             ],
             [
              0.2222222222222222,
              "#7201a8"
             ],
             [
              0.3333333333333333,
              "#9c179e"
             ],
             [
              0.4444444444444444,
              "#bd3786"
             ],
             [
              0.5555555555555556,
              "#d8576b"
             ],
             [
              0.6666666666666666,
              "#ed7953"
             ],
             [
              0.7777777777777778,
              "#fb9f3a"
             ],
             [
              0.8888888888888888,
              "#fdca26"
             ],
             [
              1,
              "#f0f921"
             ]
            ],
            "type": "surface"
           }
          ],
          "table": [
           {
            "cells": {
             "fill": {
              "color": "#EBF0F8"
             },
             "line": {
              "color": "white"
             }
            },
            "header": {
             "fill": {
              "color": "#C8D4E3"
             },
             "line": {
              "color": "white"
             }
            },
            "type": "table"
           }
          ]
         },
         "layout": {
          "annotationdefaults": {
           "arrowcolor": "#2a3f5f",
           "arrowhead": 0,
           "arrowwidth": 1
          },
          "autotypenumbers": "strict",
          "coloraxis": {
           "colorbar": {
            "outlinewidth": 0,
            "ticks": ""
           }
          },
          "colorscale": {
           "diverging": [
            [
             0,
             "#8e0152"
            ],
            [
             0.1,
             "#c51b7d"
            ],
            [
             0.2,
             "#de77ae"
            ],
            [
             0.3,
             "#f1b6da"
            ],
            [
             0.4,
             "#fde0ef"
            ],
            [
             0.5,
             "#f7f7f7"
            ],
            [
             0.6,
             "#e6f5d0"
            ],
            [
             0.7,
             "#b8e186"
            ],
            [
             0.8,
             "#7fbc41"
            ],
            [
             0.9,
             "#4d9221"
            ],
            [
             1,
             "#276419"
            ]
           ],
           "sequential": [
            [
             0,
             "#0d0887"
            ],
            [
             0.1111111111111111,
             "#46039f"
            ],
            [
             0.2222222222222222,
             "#7201a8"
            ],
            [
             0.3333333333333333,
             "#9c179e"
            ],
            [
             0.4444444444444444,
             "#bd3786"
            ],
            [
             0.5555555555555556,
             "#d8576b"
            ],
            [
             0.6666666666666666,
             "#ed7953"
            ],
            [
             0.7777777777777778,
             "#fb9f3a"
            ],
            [
             0.8888888888888888,
             "#fdca26"
            ],
            [
             1,
             "#f0f921"
            ]
           ],
           "sequentialminus": [
            [
             0,
             "#0d0887"
            ],
            [
             0.1111111111111111,
             "#46039f"
            ],
            [
             0.2222222222222222,
             "#7201a8"
            ],
            [
             0.3333333333333333,
             "#9c179e"
            ],
            [
             0.4444444444444444,
             "#bd3786"
            ],
            [
             0.5555555555555556,
             "#d8576b"
            ],
            [
             0.6666666666666666,
             "#ed7953"
            ],
            [
             0.7777777777777778,
             "#fb9f3a"
            ],
            [
             0.8888888888888888,
             "#fdca26"
            ],
            [
             1,
             "#f0f921"
            ]
           ]
          },
          "colorway": [
           "#636efa",
           "#EF553B",
           "#00cc96",
           "#ab63fa",
           "#FFA15A",
           "#19d3f3",
           "#FF6692",
           "#B6E880",
           "#FF97FF",
           "#FECB52"
          ],
          "font": {
           "color": "#2a3f5f"
          },
          "geo": {
           "bgcolor": "white",
           "lakecolor": "white",
           "landcolor": "white",
           "showlakes": true,
           "showland": true,
           "subunitcolor": "#C8D4E3"
          },
          "hoverlabel": {
           "align": "left"
          },
          "hovermode": "closest",
          "mapbox": {
           "style": "light"
          },
          "paper_bgcolor": "white",
          "plot_bgcolor": "white",
          "polar": {
           "angularaxis": {
            "gridcolor": "#EBF0F8",
            "linecolor": "#EBF0F8",
            "ticks": ""
           },
           "bgcolor": "white",
           "radialaxis": {
            "gridcolor": "#EBF0F8",
            "linecolor": "#EBF0F8",
            "ticks": ""
           }
          },
          "scene": {
           "xaxis": {
            "backgroundcolor": "white",
            "gridcolor": "#DFE8F3",
            "gridwidth": 2,
            "linecolor": "#EBF0F8",
            "showbackground": true,
            "ticks": "",
            "zerolinecolor": "#EBF0F8"
           },
           "yaxis": {
            "backgroundcolor": "white",
            "gridcolor": "#DFE8F3",
            "gridwidth": 2,
            "linecolor": "#EBF0F8",
            "showbackground": true,
            "ticks": "",
            "zerolinecolor": "#EBF0F8"
           },
           "zaxis": {
            "backgroundcolor": "white",
            "gridcolor": "#DFE8F3",
            "gridwidth": 2,
            "linecolor": "#EBF0F8",
            "showbackground": true,
            "ticks": "",
            "zerolinecolor": "#EBF0F8"
           }
          },
          "shapedefaults": {
           "line": {
            "color": "#2a3f5f"
           }
          },
          "ternary": {
           "aaxis": {
            "gridcolor": "#DFE8F3",
            "linecolor": "#A2B1C6",
            "ticks": ""
           },
           "baxis": {
            "gridcolor": "#DFE8F3",
            "linecolor": "#A2B1C6",
            "ticks": ""
           },
           "bgcolor": "white",
           "caxis": {
            "gridcolor": "#DFE8F3",
            "linecolor": "#A2B1C6",
            "ticks": ""
           }
          },
          "title": {
           "x": 0.05
          },
          "xaxis": {
           "automargin": true,
           "gridcolor": "#EBF0F8",
           "linecolor": "#EBF0F8",
           "ticks": "",
           "title": {
            "standoff": 15
           },
           "zerolinecolor": "#EBF0F8",
           "zerolinewidth": 2
          },
          "yaxis": {
           "automargin": true,
           "gridcolor": "#EBF0F8",
           "linecolor": "#EBF0F8",
           "ticks": "",
           "title": {
            "standoff": 15
           },
           "zerolinecolor": "#EBF0F8",
           "zerolinewidth": 2
          }
         }
        },
        "width": 650,
        "xaxis": {
         "anchor": "y",
         "domain": [
          0,
          1
         ],
         "tickfont": {
          "size": 20
         },
         "title": {
          "text": "Feature Importance"
         },
         "visible": true
        },
        "yaxis": {
         "anchor": "x",
         "automargin": true,
         "domain": [
          0,
          1
         ],
         "dtick": 1,
         "tickfont": {
          "size": 20
         },
         "title": {
          "text": "Markers"
         }
        }
       }
      },
      "text/html": [
       "<div>                            <div id=\"bcec4811-c4d8-4547-a037-6d2acc1034f4\" class=\"plotly-graph-div\" style=\"height:900px; width:650px;\"></div>            <script type=\"text/javascript\">                require([\"plotly\"], function(Plotly) {                    window.PLOTLYENV=window.PLOTLYENV || {};                                    if (document.getElementById(\"bcec4811-c4d8-4547-a037-6d2acc1034f4\")) {                    Plotly.newPlot(                        \"bcec4811-c4d8-4547-a037-6d2acc1034f4\",                        [{\"hovertemplate\":\"mean_importance=%{x}<br>Markers=%{y}<extra></extra>\",\"legendgroup\":\"\",\"marker\":{\"color\":\"#DE237B\",\"symbol\":\"circle\",\"size\":8},\"mode\":\"markers\",\"name\":\"\",\"orientation\":\"h\",\"showlegend\":false,\"x\":[0.019260589681104754,0.01928260236313232,0.019315028666920916,0.019340853102349932,0.019365969483525293,0.019448184067527623,0.019551577491168946,0.01971112970844176,0.01973328295364714,0.019734084594974822],\"xaxis\":\"x\",\"y\":[\"$P1_{std}$\",\"$MSF_{std}$\",\"$wSMI\\\\alpha_{mean}$\",\"$PE\\\\alpha_{mean}$\",\"$wSMI\\\\gamma_{std}$\",\"$CNV_{std}$\",\"$K_{std}$\",\"$|\\\\theta|_{std}$\",\"$|\\\\beta|_{mean}$\",\"$|\\\\theta|_{mean}$\"],\"yaxis\":\"y\",\"type\":\"scatter\"}],                        {\"template\":{\"data\":{\"barpolar\":[{\"marker\":{\"line\":{\"color\":\"white\",\"width\":0.5},\"pattern\":{\"fillmode\":\"overlay\",\"size\":10,\"solidity\":0.2}},\"type\":\"barpolar\"}],\"bar\":[{\"error_x\":{\"color\":\"#2a3f5f\"},\"error_y\":{\"color\":\"#2a3f5f\"},\"marker\":{\"line\":{\"color\":\"white\",\"width\":0.5},\"pattern\":{\"fillmode\":\"overlay\",\"size\":10,\"solidity\":0.2}},\"type\":\"bar\"}],\"carpet\":[{\"aaxis\":{\"endlinecolor\":\"#2a3f5f\",\"gridcolor\":\"#C8D4E3\",\"linecolor\":\"#C8D4E3\",\"minorgridcolor\":\"#C8D4E3\",\"startlinecolor\":\"#2a3f5f\"},\"baxis\":{\"endlinecolor\":\"#2a3f5f\",\"gridcolor\":\"#C8D4E3\",\"linecolor\":\"#C8D4E3\",\"minorgridcolor\":\"#C8D4E3\",\"startlinecolor\":\"#2a3f5f\"},\"type\":\"carpet\"}],\"choropleth\":[{\"colorbar\":{\"outlinewidth\":0,\"ticks\":\"\"},\"type\":\"choropleth\"}],\"contourcarpet\":[{\"colorbar\":{\"outlinewidth\":0,\"ticks\":\"\"},\"type\":\"contourcarpet\"}],\"contour\":[{\"colorbar\":{\"outlinewidth\":0,\"ticks\":\"\"},\"colorscale\":[[0.0,\"#0d0887\"],[0.1111111111111111,\"#46039f\"],[0.2222222222222222,\"#7201a8\"],[0.3333333333333333,\"#9c179e\"],[0.4444444444444444,\"#bd3786\"],[0.5555555555555556,\"#d8576b\"],[0.6666666666666666,\"#ed7953\"],[0.7777777777777778,\"#fb9f3a\"],[0.8888888888888888,\"#fdca26\"],[1.0,\"#f0f921\"]],\"type\":\"contour\"}],\"heatmapgl\":[{\"colorbar\":{\"outlinewidth\":0,\"ticks\":\"\"},\"colorscale\":[[0.0,\"#0d0887\"],[0.1111111111111111,\"#46039f\"],[0.2222222222222222,\"#7201a8\"],[0.3333333333333333,\"#9c179e\"],[0.4444444444444444,\"#bd3786\"],[0.5555555555555556,\"#d8576b\"],[0.6666666666666666,\"#ed7953\"],[0.7777777777777778,\"#fb9f3a\"],[0.8888888888888888,\"#fdca26\"],[1.0,\"#f0f921\"]],\"type\":\"heatmapgl\"}],\"heatmap\":[{\"colorbar\":{\"outlinewidth\":0,\"ticks\":\"\"},\"colorscale\":[[0.0,\"#0d0887\"],[0.1111111111111111,\"#46039f\"],[0.2222222222222222,\"#7201a8\"],[0.3333333333333333,\"#9c179e\"],[0.4444444444444444,\"#bd3786\"],[0.5555555555555556,\"#d8576b\"],[0.6666666666666666,\"#ed7953\"],[0.7777777777777778,\"#fb9f3a\"],[0.8888888888888888,\"#fdca26\"],[1.0,\"#f0f921\"]],\"type\":\"heatmap\"}],\"histogram2dcontour\":[{\"colorbar\":{\"outlinewidth\":0,\"ticks\":\"\"},\"colorscale\":[[0.0,\"#0d0887\"],[0.1111111111111111,\"#46039f\"],[0.2222222222222222,\"#7201a8\"],[0.3333333333333333,\"#9c179e\"],[0.4444444444444444,\"#bd3786\"],[0.5555555555555556,\"#d8576b\"],[0.6666666666666666,\"#ed7953\"],[0.7777777777777778,\"#fb9f3a\"],[0.8888888888888888,\"#fdca26\"],[1.0,\"#f0f921\"]],\"type\":\"histogram2dcontour\"}],\"histogram2d\":[{\"colorbar\":{\"outlinewidth\":0,\"ticks\":\"\"},\"colorscale\":[[0.0,\"#0d0887\"],[0.1111111111111111,\"#46039f\"],[0.2222222222222222,\"#7201a8\"],[0.3333333333333333,\"#9c179e\"],[0.4444444444444444,\"#bd3786\"],[0.5555555555555556,\"#d8576b\"],[0.6666666666666666,\"#ed7953\"],[0.7777777777777778,\"#fb9f3a\"],[0.8888888888888888,\"#fdca26\"],[1.0,\"#f0f921\"]],\"type\":\"histogram2d\"}],\"histogram\":[{\"marker\":{\"pattern\":{\"fillmode\":\"overlay\",\"size\":10,\"solidity\":0.2}},\"type\":\"histogram\"}],\"mesh3d\":[{\"colorbar\":{\"outlinewidth\":0,\"ticks\":\"\"},\"type\":\"mesh3d\"}],\"parcoords\":[{\"line\":{\"colorbar\":{\"outlinewidth\":0,\"ticks\":\"\"}},\"type\":\"parcoords\"}],\"pie\":[{\"automargin\":true,\"type\":\"pie\"}],\"scatter3d\":[{\"line\":{\"colorbar\":{\"outlinewidth\":0,\"ticks\":\"\"}},\"marker\":{\"colorbar\":{\"outlinewidth\":0,\"ticks\":\"\"}},\"type\":\"scatter3d\"}],\"scattercarpet\":[{\"marker\":{\"colorbar\":{\"outlinewidth\":0,\"ticks\":\"\"}},\"type\":\"scattercarpet\"}],\"scattergeo\":[{\"marker\":{\"colorbar\":{\"outlinewidth\":0,\"ticks\":\"\"}},\"type\":\"scattergeo\"}],\"scattergl\":[{\"marker\":{\"colorbar\":{\"outlinewidth\":0,\"ticks\":\"\"}},\"type\":\"scattergl\"}],\"scattermapbox\":[{\"marker\":{\"colorbar\":{\"outlinewidth\":0,\"ticks\":\"\"}},\"type\":\"scattermapbox\"}],\"scatterpolargl\":[{\"marker\":{\"colorbar\":{\"outlinewidth\":0,\"ticks\":\"\"}},\"type\":\"scatterpolargl\"}],\"scatterpolar\":[{\"marker\":{\"colorbar\":{\"outlinewidth\":0,\"ticks\":\"\"}},\"type\":\"scatterpolar\"}],\"scatter\":[{\"marker\":{\"colorbar\":{\"outlinewidth\":0,\"ticks\":\"\"}},\"type\":\"scatter\"}],\"scatterternary\":[{\"marker\":{\"colorbar\":{\"outlinewidth\":0,\"ticks\":\"\"}},\"type\":\"scatterternary\"}],\"surface\":[{\"colorbar\":{\"outlinewidth\":0,\"ticks\":\"\"},\"colorscale\":[[0.0,\"#0d0887\"],[0.1111111111111111,\"#46039f\"],[0.2222222222222222,\"#7201a8\"],[0.3333333333333333,\"#9c179e\"],[0.4444444444444444,\"#bd3786\"],[0.5555555555555556,\"#d8576b\"],[0.6666666666666666,\"#ed7953\"],[0.7777777777777778,\"#fb9f3a\"],[0.8888888888888888,\"#fdca26\"],[1.0,\"#f0f921\"]],\"type\":\"surface\"}],\"table\":[{\"cells\":{\"fill\":{\"color\":\"#EBF0F8\"},\"line\":{\"color\":\"white\"}},\"header\":{\"fill\":{\"color\":\"#C8D4E3\"},\"line\":{\"color\":\"white\"}},\"type\":\"table\"}]},\"layout\":{\"annotationdefaults\":{\"arrowcolor\":\"#2a3f5f\",\"arrowhead\":0,\"arrowwidth\":1},\"autotypenumbers\":\"strict\",\"coloraxis\":{\"colorbar\":{\"outlinewidth\":0,\"ticks\":\"\"}},\"colorscale\":{\"diverging\":[[0,\"#8e0152\"],[0.1,\"#c51b7d\"],[0.2,\"#de77ae\"],[0.3,\"#f1b6da\"],[0.4,\"#fde0ef\"],[0.5,\"#f7f7f7\"],[0.6,\"#e6f5d0\"],[0.7,\"#b8e186\"],[0.8,\"#7fbc41\"],[0.9,\"#4d9221\"],[1,\"#276419\"]],\"sequential\":[[0.0,\"#0d0887\"],[0.1111111111111111,\"#46039f\"],[0.2222222222222222,\"#7201a8\"],[0.3333333333333333,\"#9c179e\"],[0.4444444444444444,\"#bd3786\"],[0.5555555555555556,\"#d8576b\"],[0.6666666666666666,\"#ed7953\"],[0.7777777777777778,\"#fb9f3a\"],[0.8888888888888888,\"#fdca26\"],[1.0,\"#f0f921\"]],\"sequentialminus\":[[0.0,\"#0d0887\"],[0.1111111111111111,\"#46039f\"],[0.2222222222222222,\"#7201a8\"],[0.3333333333333333,\"#9c179e\"],[0.4444444444444444,\"#bd3786\"],[0.5555555555555556,\"#d8576b\"],[0.6666666666666666,\"#ed7953\"],[0.7777777777777778,\"#fb9f3a\"],[0.8888888888888888,\"#fdca26\"],[1.0,\"#f0f921\"]]},\"colorway\":[\"#636efa\",\"#EF553B\",\"#00cc96\",\"#ab63fa\",\"#FFA15A\",\"#19d3f3\",\"#FF6692\",\"#B6E880\",\"#FF97FF\",\"#FECB52\"],\"font\":{\"color\":\"#2a3f5f\"},\"geo\":{\"bgcolor\":\"white\",\"lakecolor\":\"white\",\"landcolor\":\"white\",\"showlakes\":true,\"showland\":true,\"subunitcolor\":\"#C8D4E3\"},\"hoverlabel\":{\"align\":\"left\"},\"hovermode\":\"closest\",\"mapbox\":{\"style\":\"light\"},\"paper_bgcolor\":\"white\",\"plot_bgcolor\":\"white\",\"polar\":{\"angularaxis\":{\"gridcolor\":\"#EBF0F8\",\"linecolor\":\"#EBF0F8\",\"ticks\":\"\"},\"bgcolor\":\"white\",\"radialaxis\":{\"gridcolor\":\"#EBF0F8\",\"linecolor\":\"#EBF0F8\",\"ticks\":\"\"}},\"scene\":{\"xaxis\":{\"backgroundcolor\":\"white\",\"gridcolor\":\"#DFE8F3\",\"gridwidth\":2,\"linecolor\":\"#EBF0F8\",\"showbackground\":true,\"ticks\":\"\",\"zerolinecolor\":\"#EBF0F8\"},\"yaxis\":{\"backgroundcolor\":\"white\",\"gridcolor\":\"#DFE8F3\",\"gridwidth\":2,\"linecolor\":\"#EBF0F8\",\"showbackground\":true,\"ticks\":\"\",\"zerolinecolor\":\"#EBF0F8\"},\"zaxis\":{\"backgroundcolor\":\"white\",\"gridcolor\":\"#DFE8F3\",\"gridwidth\":2,\"linecolor\":\"#EBF0F8\",\"showbackground\":true,\"ticks\":\"\",\"zerolinecolor\":\"#EBF0F8\"}},\"shapedefaults\":{\"line\":{\"color\":\"#2a3f5f\"}},\"ternary\":{\"aaxis\":{\"gridcolor\":\"#DFE8F3\",\"linecolor\":\"#A2B1C6\",\"ticks\":\"\"},\"baxis\":{\"gridcolor\":\"#DFE8F3\",\"linecolor\":\"#A2B1C6\",\"ticks\":\"\"},\"bgcolor\":\"white\",\"caxis\":{\"gridcolor\":\"#DFE8F3\",\"linecolor\":\"#A2B1C6\",\"ticks\":\"\"}},\"title\":{\"x\":0.05},\"xaxis\":{\"automargin\":true,\"gridcolor\":\"#EBF0F8\",\"linecolor\":\"#EBF0F8\",\"ticks\":\"\",\"title\":{\"standoff\":15},\"zerolinecolor\":\"#EBF0F8\",\"zerolinewidth\":2},\"yaxis\":{\"automargin\":true,\"gridcolor\":\"#EBF0F8\",\"linecolor\":\"#EBF0F8\",\"ticks\":\"\",\"title\":{\"standoff\":15},\"zerolinecolor\":\"#EBF0F8\",\"zerolinewidth\":2}}},\"xaxis\":{\"anchor\":\"y\",\"domain\":[0.0,1.0],\"title\":{\"text\":\"Feature Importance\"},\"tickfont\":{\"size\":20},\"visible\":true},\"yaxis\":{\"anchor\":\"x\",\"domain\":[0.0,1.0],\"title\":{\"text\":\"Markers\"},\"tickfont\":{\"size\":20},\"automargin\":true,\"dtick\":1},\"legend\":{\"tracegroupgap\":0},\"margin\":{\"t\":60},\"font\":{\"family\":\"Times new roman\",\"size\":20,\"color\":\"black\"},\"width\":650,\"height\":900,\"showlegend\":true},                        {\"responsive\": true}                    ).then(function(){\n",
       "                            \n",
       "var gd = document.getElementById('bcec4811-c4d8-4547-a037-6d2acc1034f4');\n",
       "var x = new MutationObserver(function (mutations, observer) {{\n",
       "        var display = window.getComputedStyle(gd).display;\n",
       "        if (!display || display === 'none') {{\n",
       "            console.log([gd, 'removed!']);\n",
       "            Plotly.purge(gd);\n",
       "            observer.disconnect();\n",
       "        }}\n",
       "}});\n",
       "\n",
       "// Listen for the removal of the full notebook cells\n",
       "var notebookContainer = gd.closest('#notebook-container');\n",
       "if (notebookContainer) {{\n",
       "    x.observe(notebookContainer, {childList: true});\n",
       "}}\n",
       "\n",
       "// Listen for the clearing of the current output cell\n",
       "var outputEl = gd.closest('.output');\n",
       "if (outputEl) {{\n",
       "    x.observe(outputEl, {childList: true});\n",
       "}}\n",
       "\n",
       "                        })                };                });            </script>        </div>"
      ]
     },
     "metadata": {},
     "output_type": "display_data"
    }
   ],
   "source": [
    "top_10 = feat_import_mind.sort_values(by = 'mean_importance').tail(10)\n",
    "fig = px.scatter(top_10,x = 'mean_importance', y = 'features', template = \"plotly_white\",\n",
    "                  color_discrete_sequence = [pink],\n",
    "\n",
    "                 category_orders = {'significant': ['p > 0.05','p < 0.05 uncorrected', 'p < 0.05 FDR corrected']}, \n",
    "                 labels = {'value':'Feature importance', 'features': 'Markers'}\n",
    "\n",
    "                )\n",
    "\n",
    "fig.update_traces(marker=dict(size = 8))\n",
    "\n",
    "fig.update_layout(\n",
    "    width=650,\n",
    "    height=900,\n",
    "#     autosize = True, \n",
    "    template = 'plotly_white',\n",
    "        font=dict(\n",
    "        family=\"Times new roman\",\n",
    "        size=20,\n",
    "        color=\"black\"\n",
    "    ),\n",
    "    xaxis = dict(\n",
    "            visible=True,\n",
    "            # range = [0.37,0.63], \n",
    "            tickfont = {\"size\": 20},\n",
    "            title = 'Feature Importance'\n",
    "        ),\n",
    "    yaxis = dict(\n",
    "        tickfont = {\"size\": 20},\n",
    "        # autorange = False,    \n",
    "        automargin = True,\n",
    "        # range = [-1,len(feat_import_mw)],\n",
    "        dtick = 1\n",
    "        ),\n",
    "    showlegend=True, \n",
    "\n",
    ")\n",
    "\n",
    "fig.show()\n",
    "# pio.write_json(fig, 'Figs/univariate_roc_mw_segment.plotly')\n",
    "fig.write_image('Figs/feat_importance_mind.png')\n",
    "fig.write_image(\"Figs/feat_importance_mind.svg\")"
   ]
  },
  {
   "cell_type": "markdown",
   "id": "wrong-technology",
   "metadata": {},
   "source": [
    "## dMW Vs sMW\n",
    "This will be only performed in SC as they have more trials"
   ]
  },
  {
   "cell_type": "code",
   "execution_count": 15,
   "id": "documented-villa",
   "metadata": {},
   "outputs": [],
   "source": [
    "agg_dict = {k:['mean','std'] for k in markers }\n",
    "agg_dict.update({k:'first' for k in df_markers.drop(markers, axis=1).columns})\n",
    "\n",
    "df_mw = (\n",
    "    df_markers\n",
    "    .query(\"probe == 'SC'\")\n",
    "    .query(\"mind != 'on-task'\")\n",
    "    .groupby(['segment', 'participant'], as_index = False).agg(agg_dict)\n",
    ")\n",
    "\n",
    "# df_mw.columns = df_mw.columns.map(\"_\".join)\n",
    "\n",
    "# df_mw  = (df_mw\n",
    "#             .rename(columns = {'participant_first':'participant', 'probe_first':'probe', 'mind_first':'mind', 'segment_first':'segment'})\n",
    "#             .drop(['participant', 'probe', 'segment'], axis = 1) \n",
    "#            )\n",
    "\n",
    "\n",
    "\n",
    "#### Use latex command for nmaes###\n",
    "####it slow downs the computer, just for final figures.\n",
    "\n",
    "df_mw = correct_name_markers(df_mw)\n",
    "\n",
    "df_mw.columns = df_mw.columns.map(\"$_{\".join).map(lambda x: x + '}$').map(lambda x: x.replace('$$', ''))\n",
    "\n",
    "df_mw  = (df_mw\n",
    "            .rename(columns = {'participant$_{first}$':'participant', 'probe$_{first}$':'probe', 'mind$_{first}$':'mind', 'segment$_{first}$':'segment', 'mind$_{}$':'mind'})\n",
    "#             .query(\"mind != 'dMW'\") #if you want to test against just one of the mw   \n",
    "            .drop(['participant', 'probe',  'segment'], axis = 1)\n",
    "\n",
    "           )"
   ]
  },
  {
   "cell_type": "raw",
   "id": "consecutive-feeling",
   "metadata": {},
   "source": [
    "df_auc_mw = multivariate_classifier(data = df_mw, label = 'mind', features = df_mw.drop('mind', axis = 1).columns, \n",
    "                                 model = 'SVM', pca =False, n_components = 20,\n",
    "                                 cv_splits= 10,grid_search = True, \n",
    "                                 permutation = True, n_permutations = 1000)\n",
    "df_auc_mw.to_csv('Data/multivariate_mw_segment.csv')"
   ]
  },
  {
   "cell_type": "code",
   "execution_count": 16,
   "id": "missing-external",
   "metadata": {},
   "outputs": [
    {
     "data": {
      "image/png": "[encoded data removed]",
      "text/plain": [
       "<Figure size 360x360 with 1 Axes>"
      ]
     },
     "metadata": {},
     "output_type": "display_data"
    },
    {
     "name": "stdout",
     "output_type": "stream",
     "text": [
      "p_value = 0.001996007984031936\n"
     ]
    },
    {
     "data": {
      "image/png": "[encoded data removed]",
      "text/plain": [
       "<Figure size 864x648 with 1 Axes>"
      ]
     },
     "metadata": {},
     "output_type": "display_data"
    }
   ],
   "source": [
    "df_forest_mw, feat_import_mw, perm_scores_mw, pvalue_mw= multivariate_classifier(data = df_mw, label = 'mind', features = df_mw.drop('mind', axis = 1).columns, \n",
    "                                 model = 'forest', pca =False, n_components = 10,\n",
    "                                 cv_splits= 5, \n",
    "                                 permutation = True, n_permutations = 500)\n",
    "\n",
    "df_forest_mw.to_csv('Data/multivariate_forest_mw_segment.csv')\n",
    "feat_import_mw.to_csv('Data/feat_import_multivariate_mw.csv')"
   ]
  },
  {
   "cell_type": "code",
   "execution_count": 17,
   "id": "b528690e",
   "metadata": {},
   "outputs": [],
   "source": [
    "df_perm_mw= pd.DataFrame(perm_scores_mw, columns = ['auc']).assign(Model = 'Shuffled')\n",
    "df_forest_mw['Model'] = 'Original'\n",
    "\n",
    "df_perm_mw.to_csv('Data/multivariate_permutation_mw_segment.csv')"
   ]
  },
  {
   "cell_type": "code",
   "execution_count": 65,
   "id": "2cee6142",
   "metadata": {},
   "outputs": [
    {
     "data": {
      "application/vnd.plotly.v1+json": {
       "config": {
        "plotlyServerURL": "https://plot.ly"
       },
       "data": [
        {
         "alignmentgroup": "True",
         "bingroup": "x",
         "hovertemplate": "Model=Shuffled<br>auc=%{x}<br>count=%{y}<extra></extra>",
         "legendgroup": "Shuffled",
         "marker": {
          "color": "#42B9B2",
          "pattern": {
           "shape": ""
          }
         },
         "name": "Shuffled",
         "nbinsx": 25,
         "offsetgroup": "Shuffled",
         "orientation": "v",
         "showlegend": true,
         "type": "histogram",
         "x": [
          0.42121026212088264,
          0.5689862401100791,
          0.4881016081871345,
          0.5053710994887466,
          0.5536143755747912,
          0.5890999509031343,
          0.5215734293717487,
          0.5848666313047117,
          0.5880268943913108,
          0.44110307017543865,
          0.46627345537757436,
          0.5272727114155685,
          0.5622776696510965,
          0.3914455829497109,
          0.585870898644699,
          0.4394471127427784,
          0.5416579544098341,
          0.4244574537949151,
          0.46062508117282003,
          0.5008559025440841,
          0.5132977861031691,
          0.48291212755498475,
          0.41321526110444173,
          0.46883122157244966,
          0.6056900413674242,
          0.491019342027082,
          0.5581859061990639,
          0.49847650349231987,
          0.4194883076037432,
          0.4505919370036344,
          0.5490733894438969,
          0.5693730825663599,
          0.5270107722722956,
          0.5127595949065432,
          0.5050216157401175,
          0.5199663332238798,
          0.4062091503267974,
          0.4512268170426065,
          0.4433081504961204,
          0.4614127667848222,
          0.3273864809081527,
          0.39459903381642514,
          0.5090508445802564,
          0.5209036836179693,
          0.5307632263431687,
          0.4179462507613768,
          0.5790920754266619,
          0.5136652906776746,
          0.3686686077939948,
          0.5987595125769606,
          0.5882057178165095,
          0.5199916281456897,
          0.6534930901422353,
          0.6366830065359478,
          0.5119262985896114,
          0.5247960369332919,
          0.39352868467961344,
          0.47157091592617906,
          0.5613531746031746,
          0.47874109907120743,
          0.46791178972855985,
          0.5400760144568194,
          0.4346262887439358,
          0.576484692122463,
          0.5210212190630148,
          0.428544220485397,
          0.5336190476190477,
          0.5756879944960441,
          0.4866429909959322,
          0.5038343163776232,
          0.4863816206527204,
          0.532343395252838,
          0.42951180472188877,
          0.5517973856209151,
          0.4468662607234036,
          0.4445236179369306,
          0.43881101920853477,
          0.4894383318779604,
          0.4794344404428438,
          0.4789105488349185,
          0.5191537356170539,
          0.4817556198680846,
          0.4888881961802435,
          0.44204339924082053,
          0.4016426276948507,
          0.34516096951294317,
          0.5173187585548267,
          0.6011443195239081,
          0.5267562667324748,
          0.5319831441348469,
          0.6148636732941244,
          0.4511638635387265,
          0.5919168124915871,
          0.6051785714285715,
          0.4727555631503,
          0.523265597028285,
          0.5467840293330489,
          0.456811048005947,
          0.5508963905181432,
          0.4926651184437225,
          0.4910247565845561,
          0.44105744754041976,
          0.46504177109440265,
          0.45926393867570336,
          0.6334815604263341,
          0.353009847288743,
          0.42865025823849356,
          0.41623729940694226,
          0.6310421821750143,
          0.46715187478500175,
          0.49571212692536226,
          0.5311739687900678,
          0.531842069629553,
          0.4291813429075334,
          0.43087772220899156,
          0.3837093057318621,
          0.5392626528750752,
          0.5315135756056809,
          0.6158208410636983,
          0.4575394870867007,
          0.47813029454205924,
          0.3894020137737888,
          0.46688936188510494,
          0.5730217703349283,
          0.4794765468769853,
          0.4863005981729923,
          0.5060663272245897,
          0.597483918128655,
          0.5592463652127517,
          0.5826036372681116,
          0.5372409924342698,
          0.4888317519990452,
          0.46575065689011036,
          0.49234800401734047,
          0.45710674533734164,
          0.48773342169115497,
          0.5647993421052632,
          0.4702834337527319,
          0.5005677672860335,
          0.5113105339601728,
          0.5003539769484042,
          0.4273945410850173,
          0.4018728070175438,
          0.38538029924021483,
          0.3860210079369743,
          0.42767492962097114,
          0.4255836014802565,
          0.5653336929668199,
          0.5751654952865699,
          0.5065076371856557,
          0.4701892732684225,
          0.40420107811864775,
          0.5439024788862914,
          0.5679502063983488,
          0.46287092029794374,
          0.4205010275242474,
          0.3404166666666667,
          0.5153023490097793,
          0.41301783723522856,
          0.5366415470494419,
          0.5134681672405458,
          0.4842790075679394,
          0.4057075623464942,
          0.6376634957013108,
          0.6275948789959087,
          0.46578042195899333,
          0.5015976830187355,
          0.5006937441643323,
          0.4929314880166274,
          0.4644585114747654,
          0.4922927631578948,
          0.4471860357415277,
          0.4414425570615501,
          0.5645784071204238,
          0.5245462399411979,
          0.5080155064878362,
          0.4964042397660819,
          0.5017300651091009,
          0.4109630334392239,
          0.48166444723822543,
          0.3777227158806106,
          0.4774394167555379,
          0.4404549569827931,
          0.43634570144767515,
          0.5149705022359821,
          0.47018435795370783,
          0.5786664665866347,
          0.4421231455545181,
          0.4903070019076211,
          0.5283156244954123,
          0.4934877534745955,
          0.47425530585147013,
          0.48934012713477,
          0.5072779977375566,
          0.4559179504419443,
          0.5037098721998102,
          0.4620430900621118,
          0.3993642938656944,
          0.572750021061056,
          0.3355043453278747,
          0.5291144963690297,
          0.5498131805676563,
          0.5532482677281438,
          0.544919021037442,
          0.584957952010449,
          0.4948935232294366,
          0.4634415204678362,
          0.5090443075156698,
          0.4904753774739642,
          0.48822137451471825,
          0.5482917096663227,
          0.43212934296525624,
          0.5605772565436431,
          0.5706784783414041,
          0.4494008129567616,
          0.562974447912336,
          0.4598593314365374,
          0.40567094074471893,
          0.4627515302679776,
          0.536621729148045,
          0.47844739894178756,
          0.4579465944272446,
          0.5371512605042017,
          0.49766250854408745,
          0.5147915166066427,
          0.6160068137666966,
          0.4357497457411646,
          0.5876873573131866,
          0.4751428715858541,
          0.5847143773743361,
          0.5572091668565353,
          0.5398982259570495,
          0.548359428711983,
          0.37198041098417034,
          0.5004104021193805,
          0.4287368580087878,
          0.48100494682999057,
          0.5112443240454076,
          0.5820715011574593,
          0.44328063362506087,
          0.515141447368421,
          0.4871156445034154,
          0.46683141788183813,
          0.5992006089148946,
          0.40996092982647603,
          0.5871632426860318,
          0.5271242800150363,
          0.553811350929772,
          0.5298242131062951,
          0.5813806024802265,
          0.47121976218614875,
          0.4617247816191868,
          0.4366314892089559,
          0.4697888650736948,
          0.47681089405459154,
          0.5496626983605367,
          0.527249699879952,
          0.49395642701525055,
          0.5966555944055945,
          0.44805025694488326,
          0.4230064513134688,
          0.4365531300239393,
          0.5091306092092202,
          0.4690914696160691,
          0.4369107515813343,
          0.6091825572334197,
          0.5563073593073593,
          0.4590052459580324,
          0.47849225479665547,
          0.5251057565622783,
          0.66373516428341,
          0.4605945087763973,
          0.5340449419002051,
          0.5251029149878255,
          0.563076088943736,
          0.4970176169495392,
          0.49178054379646596,
          0.45586600412943123,
          0.5355711981762402,
          0.505686894055868,
          0.45694145311173173,
          0.49505214175677903,
          0.44711787346517556,
          0.5038531988046054,
          0.46325363648298545,
          0.45086311498283527,
          0.4682518256597204,
          0.6644935500515996,
          0.5283104575163398,
          0.43129678030208607,
          0.5088487588017664,
          0.548438328937813,
          0.5366582510197062,
          0.4336896161973562,
          0.5245895052697113,
          0.348046587055875,
          0.48151620297241704,
          0.5416764485690878,
          0.38939067986687037,
          0.5813972193588514,
          0.5338308906896092,
          0.530176136213288,
          0.46437992354345736,
          0.5811680033416875,
          0.508449676166763,
          0.43053227498093055,
          0.4605348893943543,
          0.5725800254757382,
          0.5172769217336057,
          0.5611127853914232,
          0.5487060957105954,
          0.5159281319906092,
          0.5129257166981626,
          0.3933944367220573,
          0.5474491129785248,
          0.5149965558305701,
          0.4611978052944199,
          0.5759345760233918,
          0.4923526744030946,
          0.6022263817807825,
          0.4198702064158997,
          0.601138974449429,
          0.5152476923997317,
          0.4954387088168601,
          0.4636947854347236,
          0.5435601433555879,
          0.5183717105263158,
          0.5207123227458625,
          0.4301013071895426,
          0.5239102307589703,
          0.3580976201253253,
          0.5499804232425716,
          0.5019116120132263,
          0.43124348991222056,
          0.39269634239095136,
          0.44146412797728585,
          0.5380388542398907,
          0.48432372949179675,
          0.41765820363233014,
          0.5587627998567849,
          0.45077876116121507,
          0.5753375767679174,
          0.5310282871890015,
          0.42999501821339503,
          0.4971680900430348,
          0.3970326288410101,
          0.5509750929707071,
          0.4699992595124174,
          0.3369402731808506,
          0.5414880952380953,
          0.47897125494567944,
          0.5068782911275171,
          0.4916790355419557,
          0.5835516425868593,
          0.4216822474603877,
          0.5404633520074695,
          0.5757007865145652,
          0.5691962695242495,
          0.6101423685533593,
          0.506304802558235,
          0.5254239217356729,
          0.42228144552815605,
          0.581920923632611,
          0.5011537948512739,
          0.45358090385276917,
          0.4798299319727891,
          0.485274653451124,
          0.45136466165413536,
          0.4406347862535583,
          0.6071679039914335,
          0.535221341523973,
          0.5303703990368077,
          0.5623452802173501,
          0.4887119496921576,
          0.45276650812880453,
          0.40681282687423037,
          0.4339977486036367,
          0.5155050287658923,
          0.5221761363636364,
          0.42028478752966575,
          0.47035122119023054,
          0.4803070175438596,
          0.5891359728349903,
          0.5259629342965256,
          0.4682551704892483,
          0.5466245367764331,
          0.42868124628247123,
          0.4864313725490196,
          0.42317412850307584,
          0.46718740452873586,
          0.4748111689651937,
          0.50001389748882,
          0.5634695369989486,
          0.3790608164079029,
          0.47342282527045904,
          0.5773439789409973,
          0.446671293517407,
          0.6392270241429905,
          0.6080262391410851,
          0.5273425464770195,
          0.3566165145631311,
          0.6034138355923253,
          0.5564419996068602,
          0.5078164774681803,
          0.5248582057777105,
          0.52199536746897,
          0.45614719834688877,
          0.46455555796113074,
          0.47887348027789206,
          0.5618651264431315,
          0.49986658874075945,
          0.5761379804358094,
          0.5403545668666192,
          0.5602837538524181,
          0.5574543965734442,
          0.5277795871753191,
          0.48420585047907033,
          0.5055255336768495,
          0.49262198212618385,
          0.5301553095802658,
          0.5123929478551328,
          0.48164884374802563,
          0.5294408991666841,
          0.5097599609589879,
          0.4994136996904025,
          0.5490875472996215,
          0.48899321498934506,
          0.47909379277413333,
          0.38181863622642037,
          0.415375483526744,
          0.4149961300309598,
          0.4899775653968682,
          0.5305648570617059,
          0.5460176442812059,
          0.5146435328517371,
          0.538013542483451,
          0.5340571755017796,
          0.4562986569673876,
          0.5110404843755684,
          0.5885111035260786,
          0.5412630256781075,
          0.5157813635751782,
          0.5455294865467163,
          0.4441133190118153,
          0.5099914860681114,
          0.4768078560371517,
          0.49932839802587703,
          0.424363650465707,
          0.5179400707651481,
          0.5463053020251163,
          0.528917500628027,
          0.4525637252951863,
          0.4561255570672496,
          0.42750052613638045,
          0.6517075122282996,
          0.49048140309982413,
          0.5141490196078431,
          0.47018071582700066,
          0.5650140096172248,
          0.5513427006430103,
          0.5686645491529945,
          0.4165287141484428,
          0.4839092920151743,
          0.4724863399414483,
          0.5344595404595405,
          0.49105229460205135,
          0.42887861811391226,
          0.542960393158026,
          0.5158301828890064,
          0.43573433759468705,
          0.5389352819400365,
          0.5474607747582464,
          0.46325903188229045,
          0.5859278645822211,
          0.42371592935419783,
          0.41775682219663013,
          0.5239375689669806,
          0.45215817730601016,
          0.37802774443110576,
          0.49520632016762045,
          0.5903993614989855,
          0.3401276172749802,
          0.5348944452616357,
          0.4708234560880883,
          0.4756451585527953,
          0.4756846569173935,
          0.4989000546237389,
          0.5307407120743034,
          0.5253758084236027,
          0.5643000515995873,
          0.5318845811051693,
          0.42227786509340576,
          0.5675829346092505,
          0.4654729285653655,
          0.5171684524625701,
          0.44134509066784605,
          0.5367265520243185,
          0.5137523415163165,
          0.5467557661636608,
          0.5459228826728827
         ],
         "xaxis": "x",
         "yaxis": "y"
        }
       ],
       "layout": {
        "annotations": [
         {
          "align": "left",
          "arrowhead": 1,
          "showarrow": false,
          "text": "Score on original labels: <br>Mean AUC: 0.632<br>p = 0.002",
          "x": 0.7322351802084474,
          "y": 50
         }
        ],
        "autosize": false,
        "bargap": 0.05,
        "barmode": "relative",
        "font": {
         "color": "black",
         "family": "Times new roman",
         "size": 20
        },
        "height": 800,
        "legend": {
         "title": {
          "text": "Model"
         },
         "tracegroupgap": 0
        },
        "margin": {
         "t": 60
        },
        "shapes": [
         {
          "line": {
           "color": "grey",
           "dash": "dash",
           "width": 3
          },
          "type": "line",
          "x0": 0.6322351802084474,
          "x1": 0.6322351802084474,
          "xref": "x",
          "y0": 0,
          "y1": 1,
          "yref": "y domain"
         }
        ],
        "template": {
         "data": {
          "bar": [
           {
            "error_x": {
             "color": "#2a3f5f"
            },
            "error_y": {
             "color": "#2a3f5f"
            },
            "marker": {
             "line": {
              "color": "white",
              "width": 0.5
             },
             "pattern": {
              "fillmode": "overlay",
              "size": 10,
              "solidity": 0.2
             }
            },
            "type": "bar"
           }
          ],
          "barpolar": [
           {
            "marker": {
             "line": {
              "color": "white",
              "width": 0.5
             },
             "pattern": {
              "fillmode": "overlay",
              "size": 10,
              "solidity": 0.2
             }
            },
            "type": "barpolar"
           }
          ],
          "carpet": [
           {
            "aaxis": {
             "endlinecolor": "#2a3f5f",
             "gridcolor": "#C8D4E3",
             "linecolor": "#C8D4E3",
             "minorgridcolor": "#C8D4E3",
             "startlinecolor": "#2a3f5f"
            },
            "baxis": {
             "endlinecolor": "#2a3f5f",
             "gridcolor": "#C8D4E3",
             "linecolor": "#C8D4E3",
             "minorgridcolor": "#C8D4E3",
             "startlinecolor": "#2a3f5f"
            },
            "type": "carpet"
           }
          ],
          "choropleth": [
           {
            "colorbar": {
             "outlinewidth": 0,
             "ticks": ""
            },
            "type": "choropleth"
           }
          ],
          "contour": [
           {
            "colorbar": {
             "outlinewidth": 0,
             "ticks": ""
            },
            "colorscale": [
             [
              0,
              "#0d0887"
             ],
             [
              0.1111111111111111,
              "#46039f"
             ],
             [
              0.2222222222222222,
              "#7201a8"
             ],
             [
              0.3333333333333333,
              "#9c179e"
             ],
             [
              0.4444444444444444,
              "#bd3786"
             ],
             [
              0.5555555555555556,
              "#d8576b"
             ],
             [
              0.6666666666666666,
              "#ed7953"
             ],
             [
              0.7777777777777778,
              "#fb9f3a"
             ],
             [
              0.8888888888888888,
              "#fdca26"
             ],
             [
              1,
              "#f0f921"
             ]
            ],
            "type": "contour"
           }
          ],
          "contourcarpet": [
           {
            "colorbar": {
             "outlinewidth": 0,
             "ticks": ""
            },
            "type": "contourcarpet"
           }
          ],
          "heatmap": [
           {
            "colorbar": {
             "outlinewidth": 0,
             "ticks": ""
            },
            "colorscale": [
             [
              0,
              "#0d0887"
             ],
             [
              0.1111111111111111,
              "#46039f"
             ],
             [
              0.2222222222222222,
              "#7201a8"
             ],
             [
              0.3333333333333333,
              "#9c179e"
             ],
             [
              0.4444444444444444,
              "#bd3786"
             ],
             [
              0.5555555555555556,
              "#d8576b"
             ],
             [
              0.6666666666666666,
              "#ed7953"
             ],
             [
              0.7777777777777778,
              "#fb9f3a"
             ],
             [
              0.8888888888888888,
              "#fdca26"
             ],
             [
              1,
              "#f0f921"
             ]
            ],
            "type": "heatmap"
           }
          ],
          "heatmapgl": [
           {
            "colorbar": {
             "outlinewidth": 0,
             "ticks": ""
            },
            "colorscale": [
             [
              0,
              "#0d0887"
             ],
             [
              0.1111111111111111,
              "#46039f"
             ],
             [
              0.2222222222222222,
              "#7201a8"
             ],
             [
              0.3333333333333333,
              "#9c179e"
             ],
             [
              0.4444444444444444,
              "#bd3786"
             ],
             [
              0.5555555555555556,
              "#d8576b"
             ],
             [
              0.6666666666666666,
              "#ed7953"
             ],
             [
              0.7777777777777778,
              "#fb9f3a"
             ],
             [
              0.8888888888888888,
              "#fdca26"
             ],
             [
              1,
              "#f0f921"
             ]
            ],
            "type": "heatmapgl"
           }
          ],
          "histogram": [
           {
            "marker": {
             "pattern": {
              "fillmode": "overlay",
              "size": 10,
              "solidity": 0.2
             }
            },
            "type": "histogram"
           }
          ],
          "histogram2d": [
           {
            "colorbar": {
             "outlinewidth": 0,
             "ticks": ""
            },
            "colorscale": [
             [
              0,
              "#0d0887"
             ],
             [
              0.1111111111111111,
              "#46039f"
             ],
             [
              0.2222222222222222,
              "#7201a8"
             ],
             [
              0.3333333333333333,
              "#9c179e"
             ],
             [
              0.4444444444444444,
              "#bd3786"
             ],
             [
              0.5555555555555556,
              "#d8576b"
             ],
             [
              0.6666666666666666,
              "#ed7953"
             ],
             [
              0.7777777777777778,
              "#fb9f3a"
             ],
             [
              0.8888888888888888,
              "#fdca26"
             ],
             [
              1,
              "#f0f921"
             ]
            ],
            "type": "histogram2d"
           }
          ],
          "histogram2dcontour": [
           {
            "colorbar": {
             "outlinewidth": 0,
             "ticks": ""
            },
            "colorscale": [
             [
              0,
              "#0d0887"
             ],
             [
              0.1111111111111111,
              "#46039f"
             ],
             [
              0.2222222222222222,
              "#7201a8"
             ],
             [
              0.3333333333333333,
              "#9c179e"
             ],
             [
              0.4444444444444444,
              "#bd3786"
             ],
             [
              0.5555555555555556,
              "#d8576b"
             ],
             [
              0.6666666666666666,
              "#ed7953"
             ],
             [
              0.7777777777777778,
              "#fb9f3a"
             ],
             [
              0.8888888888888888,
              "#fdca26"
             ],
             [
              1,
              "#f0f921"
             ]
            ],
            "type": "histogram2dcontour"
           }
          ],
          "mesh3d": [
           {
            "colorbar": {
             "outlinewidth": 0,
             "ticks": ""
            },
            "type": "mesh3d"
           }
          ],
          "parcoords": [
           {
            "line": {
             "colorbar": {
              "outlinewidth": 0,
              "ticks": ""
             }
            },
            "type": "parcoords"
           }
          ],
          "pie": [
           {
            "automargin": true,
            "type": "pie"
           }
          ],
          "scatter": [
           {
            "marker": {
             "colorbar": {
              "outlinewidth": 0,
              "ticks": ""
             }
            },
            "type": "scatter"
           }
          ],
          "scatter3d": [
           {
            "line": {
             "colorbar": {
              "outlinewidth": 0,
              "ticks": ""
             }
            },
            "marker": {
             "colorbar": {
              "outlinewidth": 0,
              "ticks": ""
             }
            },
            "type": "scatter3d"
           }
          ],
          "scattercarpet": [
           {
            "marker": {
             "colorbar": {
              "outlinewidth": 0,
              "ticks": ""
             }
            },
            "type": "scattercarpet"
           }
          ],
          "scattergeo": [
           {
            "marker": {
             "colorbar": {
              "outlinewidth": 0,
              "ticks": ""
             }
            },
            "type": "scattergeo"
           }
          ],
          "scattergl": [
           {
            "marker": {
             "colorbar": {
              "outlinewidth": 0,
              "ticks": ""
             }
            },
            "type": "scattergl"
           }
          ],
          "scattermapbox": [
           {
            "marker": {
             "colorbar": {
              "outlinewidth": 0,
              "ticks": ""
             }
            },
            "type": "scattermapbox"
           }
          ],
          "scatterpolar": [
           {
            "marker": {
             "colorbar": {
              "outlinewidth": 0,
              "ticks": ""
             }
            },
            "type": "scatterpolar"
           }
          ],
          "scatterpolargl": [
           {
            "marker": {
             "colorbar": {
              "outlinewidth": 0,
              "ticks": ""
             }
            },
            "type": "scatterpolargl"
           }
          ],
          "scatterternary": [
           {
            "marker": {
             "colorbar": {
              "outlinewidth": 0,
              "ticks": ""
             }
            },
            "type": "scatterternary"
           }
          ],
          "surface": [
           {
            "colorbar": {
             "outlinewidth": 0,
             "ticks": ""
            },
            "colorscale": [
             [
              0,
              "#0d0887"
             ],
             [
              0.1111111111111111,
              "#46039f"
             ],
             [
              0.2222222222222222,
              "#7201a8"
             ],
             [
              0.3333333333333333,
              "#9c179e"
             ],
             [
              0.4444444444444444,
              "#bd3786"
             ],
             [
              0.5555555555555556,
              "#d8576b"
             ],
             [
              0.6666666666666666,
              "#ed7953"
             ],
             [
              0.7777777777777778,
              "#fb9f3a"
             ],
             [
              0.8888888888888888,
              "#fdca26"
             ],
             [
              1,
              "#f0f921"
             ]
            ],
            "type": "surface"
           }
          ],
          "table": [
           {
            "cells": {
             "fill": {
              "color": "#EBF0F8"
             },
             "line": {
              "color": "white"
             }
            },
            "header": {
             "fill": {
              "color": "#C8D4E3"
             },
             "line": {
              "color": "white"
             }
            },
            "type": "table"
           }
          ]
         },
         "layout": {
          "annotationdefaults": {
           "arrowcolor": "#2a3f5f",
           "arrowhead": 0,
           "arrowwidth": 1
          },
          "autotypenumbers": "strict",
          "coloraxis": {
           "colorbar": {
            "outlinewidth": 0,
            "ticks": ""
           }
          },
          "colorscale": {
           "diverging": [
            [
             0,
             "#8e0152"
            ],
            [
             0.1,
             "#c51b7d"
            ],
            [
             0.2,
             "#de77ae"
            ],
            [
             0.3,
             "#f1b6da"
            ],
            [
             0.4,
             "#fde0ef"
            ],
            [
             0.5,
             "#f7f7f7"
            ],
            [
             0.6,
             "#e6f5d0"
            ],
            [
             0.7,
             "#b8e186"
            ],
            [
             0.8,
             "#7fbc41"
            ],
            [
             0.9,
             "#4d9221"
            ],
            [
             1,
             "#276419"
            ]
           ],
           "sequential": [
            [
             0,
             "#0d0887"
            ],
            [
             0.1111111111111111,
             "#46039f"
            ],
            [
             0.2222222222222222,
             "#7201a8"
            ],
            [
             0.3333333333333333,
             "#9c179e"
            ],
            [
             0.4444444444444444,
             "#bd3786"
            ],
            [
             0.5555555555555556,
             "#d8576b"
            ],
            [
             0.6666666666666666,
             "#ed7953"
            ],
            [
             0.7777777777777778,
             "#fb9f3a"
            ],
            [
             0.8888888888888888,
             "#fdca26"
            ],
            [
             1,
             "#f0f921"
            ]
           ],
           "sequentialminus": [
            [
             0,
             "#0d0887"
            ],
            [
             0.1111111111111111,
             "#46039f"
            ],
            [
             0.2222222222222222,
             "#7201a8"
            ],
            [
             0.3333333333333333,
             "#9c179e"
            ],
            [
             0.4444444444444444,
             "#bd3786"
            ],
            [
             0.5555555555555556,
             "#d8576b"
            ],
            [
             0.6666666666666666,
             "#ed7953"
            ],
            [
             0.7777777777777778,
             "#fb9f3a"
            ],
            [
             0.8888888888888888,
             "#fdca26"
            ],
            [
             1,
             "#f0f921"
            ]
           ]
          },
          "colorway": [
           "#636efa",
           "#EF553B",
           "#00cc96",
           "#ab63fa",
           "#FFA15A",
           "#19d3f3",
           "#FF6692",
           "#B6E880",
           "#FF97FF",
           "#FECB52"
          ],
          "font": {
           "color": "#2a3f5f"
          },
          "geo": {
           "bgcolor": "white",
           "lakecolor": "white",
           "landcolor": "white",
           "showlakes": true,
           "showland": true,
           "subunitcolor": "#C8D4E3"
          },
          "hoverlabel": {
           "align": "left"
          },
          "hovermode": "closest",
          "mapbox": {
           "style": "light"
          },
          "paper_bgcolor": "white",
          "plot_bgcolor": "white",
          "polar": {
           "angularaxis": {
            "gridcolor": "#EBF0F8",
            "linecolor": "#EBF0F8",
            "ticks": ""
           },
           "bgcolor": "white",
           "radialaxis": {
            "gridcolor": "#EBF0F8",
            "linecolor": "#EBF0F8",
            "ticks": ""
           }
          },
          "scene": {
           "xaxis": {
            "backgroundcolor": "white",
            "gridcolor": "#DFE8F3",
            "gridwidth": 2,
            "linecolor": "#EBF0F8",
            "showbackground": true,
            "ticks": "",
            "zerolinecolor": "#EBF0F8"
           },
           "yaxis": {
            "backgroundcolor": "white",
            "gridcolor": "#DFE8F3",
            "gridwidth": 2,
            "linecolor": "#EBF0F8",
            "showbackground": true,
            "ticks": "",
            "zerolinecolor": "#EBF0F8"
           },
           "zaxis": {
            "backgroundcolor": "white",
            "gridcolor": "#DFE8F3",
            "gridwidth": 2,
            "linecolor": "#EBF0F8",
            "showbackground": true,
            "ticks": "",
            "zerolinecolor": "#EBF0F8"
           }
          },
          "shapedefaults": {
           "line": {
            "color": "#2a3f5f"
           }
          },
          "ternary": {
           "aaxis": {
            "gridcolor": "#DFE8F3",
            "linecolor": "#A2B1C6",
            "ticks": ""
           },
           "baxis": {
            "gridcolor": "#DFE8F3",
            "linecolor": "#A2B1C6",
            "ticks": ""
           },
           "bgcolor": "white",
           "caxis": {
            "gridcolor": "#DFE8F3",
            "linecolor": "#A2B1C6",
            "ticks": ""
           }
          },
          "title": {
           "x": 0.05
          },
          "xaxis": {
           "automargin": true,
           "gridcolor": "#EBF0F8",
           "linecolor": "#EBF0F8",
           "ticks": "",
           "title": {
            "standoff": 15
           },
           "zerolinecolor": "#EBF0F8",
           "zerolinewidth": 2
          },
          "yaxis": {
           "automargin": true,
           "gridcolor": "#EBF0F8",
           "linecolor": "#EBF0F8",
           "ticks": "",
           "title": {
            "standoff": 15
           },
           "zerolinecolor": "#EBF0F8",
           "zerolinewidth": 2
          }
         }
        },
        "width": 800,
        "xaxis": {
         "anchor": "y",
         "domain": [
          0,
          1
         ],
         "range": [
          0.25,
          0.75
         ],
         "tickfont": {
          "size": 20
         },
         "title": {
          "text": "CV AUC"
         }
        },
        "yaxis": {
         "anchor": "x",
         "domain": [
          0,
          1
         ],
         "tickfont": {
          "size": 20
         },
         "title": {
          "text": ""
         }
        }
       }
      },
      "text/html": [
       "<div>                            <div id=\"d2d84bd1-61c9-43ac-b818-5921b95716b0\" class=\"plotly-graph-div\" style=\"height:800px; width:800px;\"></div>            <script type=\"text/javascript\">                require([\"plotly\"], function(Plotly) {                    window.PLOTLYENV=window.PLOTLYENV || {};                                    if (document.getElementById(\"d2d84bd1-61c9-43ac-b818-5921b95716b0\")) {                    Plotly.newPlot(                        \"d2d84bd1-61c9-43ac-b818-5921b95716b0\",                        [{\"alignmentgroup\":\"True\",\"bingroup\":\"x\",\"hovertemplate\":\"Model=Shuffled<br>auc=%{x}<br>count=%{y}<extra></extra>\",\"legendgroup\":\"Shuffled\",\"marker\":{\"color\":\"#42B9B2\",\"pattern\":{\"shape\":\"\"}},\"name\":\"Shuffled\",\"nbinsx\":25,\"offsetgroup\":\"Shuffled\",\"orientation\":\"v\",\"showlegend\":true,\"x\":[0.42121026212088264,0.5689862401100791,0.4881016081871345,0.5053710994887466,0.5536143755747912,0.5890999509031343,0.5215734293717487,0.5848666313047117,0.5880268943913108,0.44110307017543865,0.46627345537757436,0.5272727114155685,0.5622776696510965,0.3914455829497109,0.585870898644699,0.4394471127427784,0.5416579544098341,0.4244574537949151,0.46062508117282003,0.5008559025440841,0.5132977861031691,0.48291212755498475,0.41321526110444173,0.46883122157244966,0.6056900413674242,0.491019342027082,0.5581859061990639,0.49847650349231987,0.4194883076037432,0.4505919370036344,0.5490733894438969,0.5693730825663599,0.5270107722722956,0.5127595949065432,0.5050216157401175,0.5199663332238798,0.4062091503267974,0.4512268170426065,0.4433081504961204,0.4614127667848222,0.3273864809081527,0.39459903381642514,0.5090508445802564,0.5209036836179693,0.5307632263431687,0.4179462507613768,0.5790920754266619,0.5136652906776746,0.3686686077939948,0.5987595125769606,0.5882057178165095,0.5199916281456897,0.6534930901422353,0.6366830065359478,0.5119262985896114,0.5247960369332919,0.39352868467961344,0.47157091592617906,0.5613531746031746,0.47874109907120743,0.46791178972855985,0.5400760144568194,0.4346262887439358,0.576484692122463,0.5210212190630148,0.428544220485397,0.5336190476190477,0.5756879944960441,0.4866429909959322,0.5038343163776232,0.4863816206527204,0.532343395252838,0.42951180472188877,0.5517973856209151,0.4468662607234036,0.4445236179369306,0.43881101920853477,0.4894383318779604,0.4794344404428438,0.4789105488349185,0.5191537356170539,0.4817556198680846,0.4888881961802435,0.44204339924082053,0.4016426276948507,0.34516096951294317,0.5173187585548267,0.6011443195239081,0.5267562667324748,0.5319831441348469,0.6148636732941244,0.4511638635387265,0.5919168124915871,0.6051785714285715,0.4727555631503,0.523265597028285,0.5467840293330489,0.456811048005947,0.5508963905181432,0.4926651184437225,0.4910247565845561,0.44105744754041976,0.46504177109440265,0.45926393867570336,0.6334815604263341,0.353009847288743,0.42865025823849356,0.41623729940694226,0.6310421821750143,0.46715187478500175,0.49571212692536226,0.5311739687900678,0.531842069629553,0.4291813429075334,0.43087772220899156,0.3837093057318621,0.5392626528750752,0.5315135756056809,0.6158208410636983,0.4575394870867007,0.47813029454205924,0.3894020137737888,0.46688936188510494,0.5730217703349283,0.4794765468769853,0.4863005981729923,0.5060663272245897,0.597483918128655,0.5592463652127517,0.5826036372681116,0.5372409924342698,0.4888317519990452,0.46575065689011036,0.49234800401734047,0.45710674533734164,0.48773342169115497,0.5647993421052632,0.4702834337527319,0.5005677672860335,0.5113105339601728,0.5003539769484042,0.4273945410850173,0.4018728070175438,0.38538029924021483,0.3860210079369743,0.42767492962097114,0.4255836014802565,0.5653336929668199,0.5751654952865699,0.5065076371856557,0.4701892732684225,0.40420107811864775,0.5439024788862914,0.5679502063983488,0.46287092029794374,0.4205010275242474,0.3404166666666667,0.5153023490097793,0.41301783723522856,0.5366415470494419,0.5134681672405458,0.4842790075679394,0.4057075623464942,0.6376634957013108,0.6275948789959087,0.46578042195899333,0.5015976830187355,0.5006937441643323,0.4929314880166274,0.4644585114747654,0.4922927631578948,0.4471860357415277,0.4414425570615501,0.5645784071204238,0.5245462399411979,0.5080155064878362,0.4964042397660819,0.5017300651091009,0.4109630334392239,0.48166444723822543,0.3777227158806106,0.4774394167555379,0.4404549569827931,0.43634570144767515,0.5149705022359821,0.47018435795370783,0.5786664665866347,0.4421231455545181,0.4903070019076211,0.5283156244954123,0.4934877534745955,0.47425530585147013,0.48934012713477,0.5072779977375566,0.4559179504419443,0.5037098721998102,0.4620430900621118,0.3993642938656944,0.572750021061056,0.3355043453278747,0.5291144963690297,0.5498131805676563,0.5532482677281438,0.544919021037442,0.584957952010449,0.4948935232294366,0.4634415204678362,0.5090443075156698,0.4904753774739642,0.48822137451471825,0.5482917096663227,0.43212934296525624,0.5605772565436431,0.5706784783414041,0.4494008129567616,0.562974447912336,0.4598593314365374,0.40567094074471893,0.4627515302679776,0.536621729148045,0.47844739894178756,0.4579465944272446,0.5371512605042017,0.49766250854408745,0.5147915166066427,0.6160068137666966,0.4357497457411646,0.5876873573131866,0.4751428715858541,0.5847143773743361,0.5572091668565353,0.5398982259570495,0.548359428711983,0.37198041098417034,0.5004104021193805,0.4287368580087878,0.48100494682999057,0.5112443240454076,0.5820715011574593,0.44328063362506087,0.515141447368421,0.4871156445034154,0.46683141788183813,0.5992006089148946,0.40996092982647603,0.5871632426860318,0.5271242800150363,0.553811350929772,0.5298242131062951,0.5813806024802265,0.47121976218614875,0.4617247816191868,0.4366314892089559,0.4697888650736948,0.47681089405459154,0.5496626983605367,0.527249699879952,0.49395642701525055,0.5966555944055945,0.44805025694488326,0.4230064513134688,0.4365531300239393,0.5091306092092202,0.4690914696160691,0.4369107515813343,0.6091825572334197,0.5563073593073593,0.4590052459580324,0.47849225479665547,0.5251057565622783,0.66373516428341,0.4605945087763973,0.5340449419002051,0.5251029149878255,0.563076088943736,0.4970176169495392,0.49178054379646596,0.45586600412943123,0.5355711981762402,0.505686894055868,0.45694145311173173,0.49505214175677903,0.44711787346517556,0.5038531988046054,0.46325363648298545,0.45086311498283527,0.4682518256597204,0.6644935500515996,0.5283104575163398,0.43129678030208607,0.5088487588017664,0.548438328937813,0.5366582510197062,0.4336896161973562,0.5245895052697113,0.348046587055875,0.48151620297241704,0.5416764485690878,0.38939067986687037,0.5813972193588514,0.5338308906896092,0.530176136213288,0.46437992354345736,0.5811680033416875,0.508449676166763,0.43053227498093055,0.4605348893943543,0.5725800254757382,0.5172769217336057,0.5611127853914232,0.5487060957105954,0.5159281319906092,0.5129257166981626,0.3933944367220573,0.5474491129785248,0.5149965558305701,0.4611978052944199,0.5759345760233918,0.4923526744030946,0.6022263817807825,0.4198702064158997,0.601138974449429,0.5152476923997317,0.4954387088168601,0.4636947854347236,0.5435601433555879,0.5183717105263158,0.5207123227458625,0.4301013071895426,0.5239102307589703,0.3580976201253253,0.5499804232425716,0.5019116120132263,0.43124348991222056,0.39269634239095136,0.44146412797728585,0.5380388542398907,0.48432372949179675,0.41765820363233014,0.5587627998567849,0.45077876116121507,0.5753375767679174,0.5310282871890015,0.42999501821339503,0.4971680900430348,0.3970326288410101,0.5509750929707071,0.4699992595124174,0.3369402731808506,0.5414880952380953,0.47897125494567944,0.5068782911275171,0.4916790355419557,0.5835516425868593,0.4216822474603877,0.5404633520074695,0.5757007865145652,0.5691962695242495,0.6101423685533593,0.506304802558235,0.5254239217356729,0.42228144552815605,0.581920923632611,0.5011537948512739,0.45358090385276917,0.4798299319727891,0.485274653451124,0.45136466165413536,0.4406347862535583,0.6071679039914335,0.535221341523973,0.5303703990368077,0.5623452802173501,0.4887119496921576,0.45276650812880453,0.40681282687423037,0.4339977486036367,0.5155050287658923,0.5221761363636364,0.42028478752966575,0.47035122119023054,0.4803070175438596,0.5891359728349903,0.5259629342965256,0.4682551704892483,0.5466245367764331,0.42868124628247123,0.4864313725490196,0.42317412850307584,0.46718740452873586,0.4748111689651937,0.50001389748882,0.5634695369989486,0.3790608164079029,0.47342282527045904,0.5773439789409973,0.446671293517407,0.6392270241429905,0.6080262391410851,0.5273425464770195,0.3566165145631311,0.6034138355923253,0.5564419996068602,0.5078164774681803,0.5248582057777105,0.52199536746897,0.45614719834688877,0.46455555796113074,0.47887348027789206,0.5618651264431315,0.49986658874075945,0.5761379804358094,0.5403545668666192,0.5602837538524181,0.5574543965734442,0.5277795871753191,0.48420585047907033,0.5055255336768495,0.49262198212618385,0.5301553095802658,0.5123929478551328,0.48164884374802563,0.5294408991666841,0.5097599609589879,0.4994136996904025,0.5490875472996215,0.48899321498934506,0.47909379277413333,0.38181863622642037,0.415375483526744,0.4149961300309598,0.4899775653968682,0.5305648570617059,0.5460176442812059,0.5146435328517371,0.538013542483451,0.5340571755017796,0.4562986569673876,0.5110404843755684,0.5885111035260786,0.5412630256781075,0.5157813635751782,0.5455294865467163,0.4441133190118153,0.5099914860681114,0.4768078560371517,0.49932839802587703,0.424363650465707,0.5179400707651481,0.5463053020251163,0.528917500628027,0.4525637252951863,0.4561255570672496,0.42750052613638045,0.6517075122282996,0.49048140309982413,0.5141490196078431,0.47018071582700066,0.5650140096172248,0.5513427006430103,0.5686645491529945,0.4165287141484428,0.4839092920151743,0.4724863399414483,0.5344595404595405,0.49105229460205135,0.42887861811391226,0.542960393158026,0.5158301828890064,0.43573433759468705,0.5389352819400365,0.5474607747582464,0.46325903188229045,0.5859278645822211,0.42371592935419783,0.41775682219663013,0.5239375689669806,0.45215817730601016,0.37802774443110576,0.49520632016762045,0.5903993614989855,0.3401276172749802,0.5348944452616357,0.4708234560880883,0.4756451585527953,0.4756846569173935,0.4989000546237389,0.5307407120743034,0.5253758084236027,0.5643000515995873,0.5318845811051693,0.42227786509340576,0.5675829346092505,0.4654729285653655,0.5171684524625701,0.44134509066784605,0.5367265520243185,0.5137523415163165,0.5467557661636608,0.5459228826728827],\"xaxis\":\"x\",\"yaxis\":\"y\",\"type\":\"histogram\"}],                        {\"template\":{\"data\":{\"barpolar\":[{\"marker\":{\"line\":{\"color\":\"white\",\"width\":0.5},\"pattern\":{\"fillmode\":\"overlay\",\"size\":10,\"solidity\":0.2}},\"type\":\"barpolar\"}],\"bar\":[{\"error_x\":{\"color\":\"#2a3f5f\"},\"error_y\":{\"color\":\"#2a3f5f\"},\"marker\":{\"line\":{\"color\":\"white\",\"width\":0.5},\"pattern\":{\"fillmode\":\"overlay\",\"size\":10,\"solidity\":0.2}},\"type\":\"bar\"}],\"carpet\":[{\"aaxis\":{\"endlinecolor\":\"#2a3f5f\",\"gridcolor\":\"#C8D4E3\",\"linecolor\":\"#C8D4E3\",\"minorgridcolor\":\"#C8D4E3\",\"startlinecolor\":\"#2a3f5f\"},\"baxis\":{\"endlinecolor\":\"#2a3f5f\",\"gridcolor\":\"#C8D4E3\",\"linecolor\":\"#C8D4E3\",\"minorgridcolor\":\"#C8D4E3\",\"startlinecolor\":\"#2a3f5f\"},\"type\":\"carpet\"}],\"choropleth\":[{\"colorbar\":{\"outlinewidth\":0,\"ticks\":\"\"},\"type\":\"choropleth\"}],\"contourcarpet\":[{\"colorbar\":{\"outlinewidth\":0,\"ticks\":\"\"},\"type\":\"contourcarpet\"}],\"contour\":[{\"colorbar\":{\"outlinewidth\":0,\"ticks\":\"\"},\"colorscale\":[[0.0,\"#0d0887\"],[0.1111111111111111,\"#46039f\"],[0.2222222222222222,\"#7201a8\"],[0.3333333333333333,\"#9c179e\"],[0.4444444444444444,\"#bd3786\"],[0.5555555555555556,\"#d8576b\"],[0.6666666666666666,\"#ed7953\"],[0.7777777777777778,\"#fb9f3a\"],[0.8888888888888888,\"#fdca26\"],[1.0,\"#f0f921\"]],\"type\":\"contour\"}],\"heatmapgl\":[{\"colorbar\":{\"outlinewidth\":0,\"ticks\":\"\"},\"colorscale\":[[0.0,\"#0d0887\"],[0.1111111111111111,\"#46039f\"],[0.2222222222222222,\"#7201a8\"],[0.3333333333333333,\"#9c179e\"],[0.4444444444444444,\"#bd3786\"],[0.5555555555555556,\"#d8576b\"],[0.6666666666666666,\"#ed7953\"],[0.7777777777777778,\"#fb9f3a\"],[0.8888888888888888,\"#fdca26\"],[1.0,\"#f0f921\"]],\"type\":\"heatmapgl\"}],\"heatmap\":[{\"colorbar\":{\"outlinewidth\":0,\"ticks\":\"\"},\"colorscale\":[[0.0,\"#0d0887\"],[0.1111111111111111,\"#46039f\"],[0.2222222222222222,\"#7201a8\"],[0.3333333333333333,\"#9c179e\"],[0.4444444444444444,\"#bd3786\"],[0.5555555555555556,\"#d8576b\"],[0.6666666666666666,\"#ed7953\"],[0.7777777777777778,\"#fb9f3a\"],[0.8888888888888888,\"#fdca26\"],[1.0,\"#f0f921\"]],\"type\":\"heatmap\"}],\"histogram2dcontour\":[{\"colorbar\":{\"outlinewidth\":0,\"ticks\":\"\"},\"colorscale\":[[0.0,\"#0d0887\"],[0.1111111111111111,\"#46039f\"],[0.2222222222222222,\"#7201a8\"],[0.3333333333333333,\"#9c179e\"],[0.4444444444444444,\"#bd3786\"],[0.5555555555555556,\"#d8576b\"],[0.6666666666666666,\"#ed7953\"],[0.7777777777777778,\"#fb9f3a\"],[0.8888888888888888,\"#fdca26\"],[1.0,\"#f0f921\"]],\"type\":\"histogram2dcontour\"}],\"histogram2d\":[{\"colorbar\":{\"outlinewidth\":0,\"ticks\":\"\"},\"colorscale\":[[0.0,\"#0d0887\"],[0.1111111111111111,\"#46039f\"],[0.2222222222222222,\"#7201a8\"],[0.3333333333333333,\"#9c179e\"],[0.4444444444444444,\"#bd3786\"],[0.5555555555555556,\"#d8576b\"],[0.6666666666666666,\"#ed7953\"],[0.7777777777777778,\"#fb9f3a\"],[0.8888888888888888,\"#fdca26\"],[1.0,\"#f0f921\"]],\"type\":\"histogram2d\"}],\"histogram\":[{\"marker\":{\"pattern\":{\"fillmode\":\"overlay\",\"size\":10,\"solidity\":0.2}},\"type\":\"histogram\"}],\"mesh3d\":[{\"colorbar\":{\"outlinewidth\":0,\"ticks\":\"\"},\"type\":\"mesh3d\"}],\"parcoords\":[{\"line\":{\"colorbar\":{\"outlinewidth\":0,\"ticks\":\"\"}},\"type\":\"parcoords\"}],\"pie\":[{\"automargin\":true,\"type\":\"pie\"}],\"scatter3d\":[{\"line\":{\"colorbar\":{\"outlinewidth\":0,\"ticks\":\"\"}},\"marker\":{\"colorbar\":{\"outlinewidth\":0,\"ticks\":\"\"}},\"type\":\"scatter3d\"}],\"scattercarpet\":[{\"marker\":{\"colorbar\":{\"outlinewidth\":0,\"ticks\":\"\"}},\"type\":\"scattercarpet\"}],\"scattergeo\":[{\"marker\":{\"colorbar\":{\"outlinewidth\":0,\"ticks\":\"\"}},\"type\":\"scattergeo\"}],\"scattergl\":[{\"marker\":{\"colorbar\":{\"outlinewidth\":0,\"ticks\":\"\"}},\"type\":\"scattergl\"}],\"scattermapbox\":[{\"marker\":{\"colorbar\":{\"outlinewidth\":0,\"ticks\":\"\"}},\"type\":\"scattermapbox\"}],\"scatterpolargl\":[{\"marker\":{\"colorbar\":{\"outlinewidth\":0,\"ticks\":\"\"}},\"type\":\"scatterpolargl\"}],\"scatterpolar\":[{\"marker\":{\"colorbar\":{\"outlinewidth\":0,\"ticks\":\"\"}},\"type\":\"scatterpolar\"}],\"scatter\":[{\"marker\":{\"colorbar\":{\"outlinewidth\":0,\"ticks\":\"\"}},\"type\":\"scatter\"}],\"scatterternary\":[{\"marker\":{\"colorbar\":{\"outlinewidth\":0,\"ticks\":\"\"}},\"type\":\"scatterternary\"}],\"surface\":[{\"colorbar\":{\"outlinewidth\":0,\"ticks\":\"\"},\"colorscale\":[[0.0,\"#0d0887\"],[0.1111111111111111,\"#46039f\"],[0.2222222222222222,\"#7201a8\"],[0.3333333333333333,\"#9c179e\"],[0.4444444444444444,\"#bd3786\"],[0.5555555555555556,\"#d8576b\"],[0.6666666666666666,\"#ed7953\"],[0.7777777777777778,\"#fb9f3a\"],[0.8888888888888888,\"#fdca26\"],[1.0,\"#f0f921\"]],\"type\":\"surface\"}],\"table\":[{\"cells\":{\"fill\":{\"color\":\"#EBF0F8\"},\"line\":{\"color\":\"white\"}},\"header\":{\"fill\":{\"color\":\"#C8D4E3\"},\"line\":{\"color\":\"white\"}},\"type\":\"table\"}]},\"layout\":{\"annotationdefaults\":{\"arrowcolor\":\"#2a3f5f\",\"arrowhead\":0,\"arrowwidth\":1},\"autotypenumbers\":\"strict\",\"coloraxis\":{\"colorbar\":{\"outlinewidth\":0,\"ticks\":\"\"}},\"colorscale\":{\"diverging\":[[0,\"#8e0152\"],[0.1,\"#c51b7d\"],[0.2,\"#de77ae\"],[0.3,\"#f1b6da\"],[0.4,\"#fde0ef\"],[0.5,\"#f7f7f7\"],[0.6,\"#e6f5d0\"],[0.7,\"#b8e186\"],[0.8,\"#7fbc41\"],[0.9,\"#4d9221\"],[1,\"#276419\"]],\"sequential\":[[0.0,\"#0d0887\"],[0.1111111111111111,\"#46039f\"],[0.2222222222222222,\"#7201a8\"],[0.3333333333333333,\"#9c179e\"],[0.4444444444444444,\"#bd3786\"],[0.5555555555555556,\"#d8576b\"],[0.6666666666666666,\"#ed7953\"],[0.7777777777777778,\"#fb9f3a\"],[0.8888888888888888,\"#fdca26\"],[1.0,\"#f0f921\"]],\"sequentialminus\":[[0.0,\"#0d0887\"],[0.1111111111111111,\"#46039f\"],[0.2222222222222222,\"#7201a8\"],[0.3333333333333333,\"#9c179e\"],[0.4444444444444444,\"#bd3786\"],[0.5555555555555556,\"#d8576b\"],[0.6666666666666666,\"#ed7953\"],[0.7777777777777778,\"#fb9f3a\"],[0.8888888888888888,\"#fdca26\"],[1.0,\"#f0f921\"]]},\"colorway\":[\"#636efa\",\"#EF553B\",\"#00cc96\",\"#ab63fa\",\"#FFA15A\",\"#19d3f3\",\"#FF6692\",\"#B6E880\",\"#FF97FF\",\"#FECB52\"],\"font\":{\"color\":\"#2a3f5f\"},\"geo\":{\"bgcolor\":\"white\",\"lakecolor\":\"white\",\"landcolor\":\"white\",\"showlakes\":true,\"showland\":true,\"subunitcolor\":\"#C8D4E3\"},\"hoverlabel\":{\"align\":\"left\"},\"hovermode\":\"closest\",\"mapbox\":{\"style\":\"light\"},\"paper_bgcolor\":\"white\",\"plot_bgcolor\":\"white\",\"polar\":{\"angularaxis\":{\"gridcolor\":\"#EBF0F8\",\"linecolor\":\"#EBF0F8\",\"ticks\":\"\"},\"bgcolor\":\"white\",\"radialaxis\":{\"gridcolor\":\"#EBF0F8\",\"linecolor\":\"#EBF0F8\",\"ticks\":\"\"}},\"scene\":{\"xaxis\":{\"backgroundcolor\":\"white\",\"gridcolor\":\"#DFE8F3\",\"gridwidth\":2,\"linecolor\":\"#EBF0F8\",\"showbackground\":true,\"ticks\":\"\",\"zerolinecolor\":\"#EBF0F8\"},\"yaxis\":{\"backgroundcolor\":\"white\",\"gridcolor\":\"#DFE8F3\",\"gridwidth\":2,\"linecolor\":\"#EBF0F8\",\"showbackground\":true,\"ticks\":\"\",\"zerolinecolor\":\"#EBF0F8\"},\"zaxis\":{\"backgroundcolor\":\"white\",\"gridcolor\":\"#DFE8F3\",\"gridwidth\":2,\"linecolor\":\"#EBF0F8\",\"showbackground\":true,\"ticks\":\"\",\"zerolinecolor\":\"#EBF0F8\"}},\"shapedefaults\":{\"line\":{\"color\":\"#2a3f5f\"}},\"ternary\":{\"aaxis\":{\"gridcolor\":\"#DFE8F3\",\"linecolor\":\"#A2B1C6\",\"ticks\":\"\"},\"baxis\":{\"gridcolor\":\"#DFE8F3\",\"linecolor\":\"#A2B1C6\",\"ticks\":\"\"},\"bgcolor\":\"white\",\"caxis\":{\"gridcolor\":\"#DFE8F3\",\"linecolor\":\"#A2B1C6\",\"ticks\":\"\"}},\"title\":{\"x\":0.05},\"xaxis\":{\"automargin\":true,\"gridcolor\":\"#EBF0F8\",\"linecolor\":\"#EBF0F8\",\"ticks\":\"\",\"title\":{\"standoff\":15},\"zerolinecolor\":\"#EBF0F8\",\"zerolinewidth\":2},\"yaxis\":{\"automargin\":true,\"gridcolor\":\"#EBF0F8\",\"linecolor\":\"#EBF0F8\",\"ticks\":\"\",\"title\":{\"standoff\":15},\"zerolinecolor\":\"#EBF0F8\",\"zerolinewidth\":2}}},\"xaxis\":{\"anchor\":\"y\",\"domain\":[0.0,1.0],\"title\":{\"text\":\"CV AUC\"},\"tickfont\":{\"size\":20},\"range\":[0.25,0.75]},\"yaxis\":{\"anchor\":\"x\",\"domain\":[0.0,1.0],\"title\":{\"text\":\"\"},\"tickfont\":{\"size\":20}},\"legend\":{\"title\":{\"text\":\"Model\"},\"tracegroupgap\":0},\"margin\":{\"t\":60},\"barmode\":\"relative\",\"shapes\":[{\"line\":{\"color\":\"grey\",\"dash\":\"dash\",\"width\":3},\"type\":\"line\",\"x0\":0.6322351802084474,\"x1\":0.6322351802084474,\"xref\":\"x\",\"y0\":0,\"y1\":1,\"yref\":\"y domain\"}],\"annotations\":[{\"align\":\"left\",\"arrowhead\":1,\"showarrow\":false,\"text\":\"Score on original labels: <br>Mean AUC: 0.632<br>p = 0.002\",\"x\":0.7322351802084474,\"y\":50}],\"font\":{\"family\":\"Times new roman\",\"size\":20,\"color\":\"black\"},\"autosize\":false,\"width\":800,\"height\":800,\"bargap\":0.05},                        {\"responsive\": true}                    ).then(function(){\n",
       "                            \n",
       "var gd = document.getElementById('d2d84bd1-61c9-43ac-b818-5921b95716b0');\n",
       "var x = new MutationObserver(function (mutations, observer) {{\n",
       "        var display = window.getComputedStyle(gd).display;\n",
       "        if (!display || display === 'none') {{\n",
       "            console.log([gd, 'removed!']);\n",
       "            Plotly.purge(gd);\n",
       "            observer.disconnect();\n",
       "        }}\n",
       "}});\n",
       "\n",
       "// Listen for the removal of the full notebook cells\n",
       "var notebookContainer = gd.closest('#notebook-container');\n",
       "if (notebookContainer) {{\n",
       "    x.observe(notebookContainer, {childList: true});\n",
       "}}\n",
       "\n",
       "// Listen for the clearing of the current output cell\n",
       "var outputEl = gd.closest('.output');\n",
       "if (outputEl) {{\n",
       "    x.observe(outputEl, {childList: true});\n",
       "}}\n",
       "\n",
       "                        })                };                });            </script>        </div>"
      ]
     },
     "metadata": {},
     "output_type": "display_data"
    }
   ],
   "source": [
    "df = pd.concat([df_perm_mw, df_forest_mw])\n",
    "fig = px.histogram(df_perm_mind, x='auc', color=\"Model\",nbins = 25,  color_discrete_sequence = [lblue])\n",
    "\n",
    "fig.add_vline(x=df_forest_mw.auc.mean(), line_width=3, line_dash=\"dash\", line_color=\"grey\")\n",
    "\n",
    "fig.add_annotation(x=df_forest_mw.auc.mean() + 0.1, y=50,\n",
    "            text=f\"Score on original labels: <br>Mean AUC: {df_forest_mw.auc.mean():.3f}<br>p = {pvalue_mw:.3f}\",\n",
    "            showarrow=False,\n",
    "            arrowhead=1,\n",
    "            align = 'left',\n",
    "            )\n",
    "\n",
    "\n",
    "fig.update_layout(\n",
    "#     title = f'Mean AUC = {df_forest_mind.auc.mean()}',\n",
    "    autosize=False,\n",
    "    template = \"plotly_white\",\n",
    "    font=dict(\n",
    "        family=\"Times new roman\",\n",
    "        size=20,\n",
    "        color=\"black\"\n",
    "    ),\n",
    "    width=800,\n",
    "    height=800,\n",
    "    bargap=0.05,\n",
    "    yaxis = {'title': '',\n",
    "             'tickfont': {\"size\": 20},\n",
    "    },\n",
    "    xaxis ={'title':'CV AUC',\n",
    "             'range':[0.25, 0.75],\n",
    "             'tickfont':{\"size\": 20}\n",
    "        }\n",
    ")\n",
    "fig.show()\n",
    "\n",
    "fig.write_image('Figs/multivariate_perm_mw.png')\n",
    "fig.write_image(\"Figs/multivariate_perm_mw.svg\")"
   ]
  },
  {
   "cell_type": "code",
   "execution_count": 19,
   "id": "rocky-university",
   "metadata": {},
   "outputs": [
    {
     "data": {
      "application/vnd.plotly.v1+json": {
       "config": {
        "plotlyServerURL": "https://plot.ly"
       },
       "data": [
        {
         "alignmentgroup": "True",
         "box": {
          "visible": true
         },
         "hovertemplate": "AUC=%{x}<extra></extra>",
         "legendgroup": "",
         "marker": {
          "color": "#42B9B2"
         },
         "name": "",
         "offsetgroup": "",
         "orientation": "h",
         "points": "all",
         "scalegroup": "True",
         "showlegend": false,
         "type": "violin",
         "x": [
          0.6636206896551723,
          0.6692927170868347,
          0.5637665967854647,
          0.6451737451737452,
          0.6193221523410203
         ],
         "x0": " ",
         "xaxis": "x",
         "y0": " ",
         "yaxis": "y"
        }
       ],
       "layout": {
        "autosize": false,
        "height": 800,
        "legend": {
         "tracegroupgap": 0
        },
        "margin": {
         "t": 60
        },
        "shapes": [
         {
          "line": {
           "color": "grey",
           "dash": "dash",
           "width": 3
          },
          "type": "line",
          "x0": 0.5,
          "x1": 0.5,
          "xref": "x",
          "y0": 0,
          "y1": 1,
          "yref": "y domain"
         }
        ],
        "template": {
         "data": {
          "bar": [
           {
            "error_x": {
             "color": "#2a3f5f"
            },
            "error_y": {
             "color": "#2a3f5f"
            },
            "marker": {
             "line": {
              "color": "white",
              "width": 0.5
             },
             "pattern": {
              "fillmode": "overlay",
              "size": 10,
              "solidity": 0.2
             }
            },
            "type": "bar"
           }
          ],
          "barpolar": [
           {
            "marker": {
             "line": {
              "color": "white",
              "width": 0.5
             },
             "pattern": {
              "fillmode": "overlay",
              "size": 10,
              "solidity": 0.2
             }
            },
            "type": "barpolar"
           }
          ],
          "carpet": [
           {
            "aaxis": {
             "endlinecolor": "#2a3f5f",
             "gridcolor": "#C8D4E3",
             "linecolor": "#C8D4E3",
             "minorgridcolor": "#C8D4E3",
             "startlinecolor": "#2a3f5f"
            },
            "baxis": {
             "endlinecolor": "#2a3f5f",
             "gridcolor": "#C8D4E3",
             "linecolor": "#C8D4E3",
             "minorgridcolor": "#C8D4E3",
             "startlinecolor": "#2a3f5f"
            },
            "type": "carpet"
           }
          ],
          "choropleth": [
           {
            "colorbar": {
             "outlinewidth": 0,
             "ticks": ""
            },
            "type": "choropleth"
           }
          ],
          "contour": [
           {
            "colorbar": {
             "outlinewidth": 0,
             "ticks": ""
            },
            "colorscale": [
             [
              0,
              "#0d0887"
             ],
             [
              0.1111111111111111,
              "#46039f"
             ],
             [
              0.2222222222222222,
              "#7201a8"
             ],
             [
              0.3333333333333333,
              "#9c179e"
             ],
             [
              0.4444444444444444,
              "#bd3786"
             ],
             [
              0.5555555555555556,
              "#d8576b"
             ],
             [
              0.6666666666666666,
              "#ed7953"
             ],
             [
              0.7777777777777778,
              "#fb9f3a"
             ],
             [
              0.8888888888888888,
              "#fdca26"
             ],
             [
              1,
              "#f0f921"
             ]
            ],
            "type": "contour"
           }
          ],
          "contourcarpet": [
           {
            "colorbar": {
             "outlinewidth": 0,
             "ticks": ""
            },
            "type": "contourcarpet"
           }
          ],
          "heatmap": [
           {
            "colorbar": {
             "outlinewidth": 0,
             "ticks": ""
            },
            "colorscale": [
             [
              0,
              "#0d0887"
             ],
             [
              0.1111111111111111,
              "#46039f"
             ],
             [
              0.2222222222222222,
              "#7201a8"
             ],
             [
              0.3333333333333333,
              "#9c179e"
             ],
             [
              0.4444444444444444,
              "#bd3786"
             ],
             [
              0.5555555555555556,
              "#d8576b"
             ],
             [
              0.6666666666666666,
              "#ed7953"
             ],
             [
              0.7777777777777778,
              "#fb9f3a"
             ],
             [
              0.8888888888888888,
              "#fdca26"
             ],
             [
              1,
              "#f0f921"
             ]
            ],
            "type": "heatmap"
           }
          ],
          "heatmapgl": [
           {
            "colorbar": {
             "outlinewidth": 0,
             "ticks": ""
            },
            "colorscale": [
             [
              0,
              "#0d0887"
             ],
             [
              0.1111111111111111,
              "#46039f"
             ],
             [
              0.2222222222222222,
              "#7201a8"
             ],
             [
              0.3333333333333333,
              "#9c179e"
             ],
             [
              0.4444444444444444,
              "#bd3786"
             ],
             [
              0.5555555555555556,
              "#d8576b"
             ],
             [
              0.6666666666666666,
              "#ed7953"
             ],
             [
              0.7777777777777778,
              "#fb9f3a"
             ],
             [
              0.8888888888888888,
              "#fdca26"
             ],
             [
              1,
              "#f0f921"
             ]
            ],
            "type": "heatmapgl"
           }
          ],
          "histogram": [
           {
            "marker": {
             "pattern": {
              "fillmode": "overlay",
              "size": 10,
              "solidity": 0.2
             }
            },
            "type": "histogram"
           }
          ],
          "histogram2d": [
           {
            "colorbar": {
             "outlinewidth": 0,
             "ticks": ""
            },
            "colorscale": [
             [
              0,
              "#0d0887"
             ],
             [
              0.1111111111111111,
              "#46039f"
             ],
             [
              0.2222222222222222,
              "#7201a8"
             ],
             [
              0.3333333333333333,
              "#9c179e"
             ],
             [
              0.4444444444444444,
              "#bd3786"
             ],
             [
              0.5555555555555556,
              "#d8576b"
             ],
             [
              0.6666666666666666,
              "#ed7953"
             ],
             [
              0.7777777777777778,
              "#fb9f3a"
             ],
             [
              0.8888888888888888,
              "#fdca26"
             ],
             [
              1,
              "#f0f921"
             ]
            ],
            "type": "histogram2d"
           }
          ],
          "histogram2dcontour": [
           {
            "colorbar": {
             "outlinewidth": 0,
             "ticks": ""
            },
            "colorscale": [
             [
              0,
              "#0d0887"
             ],
             [
              0.1111111111111111,
              "#46039f"
             ],
             [
              0.2222222222222222,
              "#7201a8"
             ],
             [
              0.3333333333333333,
              "#9c179e"
             ],
             [
              0.4444444444444444,
              "#bd3786"
             ],
             [
              0.5555555555555556,
              "#d8576b"
             ],
             [
              0.6666666666666666,
              "#ed7953"
             ],
             [
              0.7777777777777778,
              "#fb9f3a"
             ],
             [
              0.8888888888888888,
              "#fdca26"
             ],
             [
              1,
              "#f0f921"
             ]
            ],
            "type": "histogram2dcontour"
           }
          ],
          "mesh3d": [
           {
            "colorbar": {
             "outlinewidth": 0,
             "ticks": ""
            },
            "type": "mesh3d"
           }
          ],
          "parcoords": [
           {
            "line": {
             "colorbar": {
              "outlinewidth": 0,
              "ticks": ""
             }
            },
            "type": "parcoords"
           }
          ],
          "pie": [
           {
            "automargin": true,
            "type": "pie"
           }
          ],
          "scatter": [
           {
            "marker": {
             "colorbar": {
              "outlinewidth": 0,
              "ticks": ""
             }
            },
            "type": "scatter"
           }
          ],
          "scatter3d": [
           {
            "line": {
             "colorbar": {
              "outlinewidth": 0,
              "ticks": ""
             }
            },
            "marker": {
             "colorbar": {
              "outlinewidth": 0,
              "ticks": ""
             }
            },
            "type": "scatter3d"
           }
          ],
          "scattercarpet": [
           {
            "marker": {
             "colorbar": {
              "outlinewidth": 0,
              "ticks": ""
             }
            },
            "type": "scattercarpet"
           }
          ],
          "scattergeo": [
           {
            "marker": {
             "colorbar": {
              "outlinewidth": 0,
              "ticks": ""
             }
            },
            "type": "scattergeo"
           }
          ],
          "scattergl": [
           {
            "marker": {
             "colorbar": {
              "outlinewidth": 0,
              "ticks": ""
             }
            },
            "type": "scattergl"
           }
          ],
          "scattermapbox": [
           {
            "marker": {
             "colorbar": {
              "outlinewidth": 0,
              "ticks": ""
             }
            },
            "type": "scattermapbox"
           }
          ],
          "scatterpolar": [
           {
            "marker": {
             "colorbar": {
              "outlinewidth": 0,
              "ticks": ""
             }
            },
            "type": "scatterpolar"
           }
          ],
          "scatterpolargl": [
           {
            "marker": {
             "colorbar": {
              "outlinewidth": 0,
              "ticks": ""
             }
            },
            "type": "scatterpolargl"
           }
          ],
          "scatterternary": [
           {
            "marker": {
             "colorbar": {
              "outlinewidth": 0,
              "ticks": ""
             }
            },
            "type": "scatterternary"
           }
          ],
          "surface": [
           {
            "colorbar": {
             "outlinewidth": 0,
             "ticks": ""
            },
            "colorscale": [
             [
              0,
              "#0d0887"
             ],
             [
              0.1111111111111111,
              "#46039f"
             ],
             [
              0.2222222222222222,
              "#7201a8"
             ],
             [
              0.3333333333333333,
              "#9c179e"
             ],
             [
              0.4444444444444444,
              "#bd3786"
             ],
             [
              0.5555555555555556,
              "#d8576b"
             ],
             [
              0.6666666666666666,
              "#ed7953"
             ],
             [
              0.7777777777777778,
              "#fb9f3a"
             ],
             [
              0.8888888888888888,
              "#fdca26"
             ],
             [
              1,
              "#f0f921"
             ]
            ],
            "type": "surface"
           }
          ],
          "table": [
           {
            "cells": {
             "fill": {
              "color": "#EBF0F8"
             },
             "line": {
              "color": "white"
             }
            },
            "header": {
             "fill": {
              "color": "#C8D4E3"
             },
             "line": {
              "color": "white"
             }
            },
            "type": "table"
           }
          ]
         },
         "layout": {
          "annotationdefaults": {
           "arrowcolor": "#2a3f5f",
           "arrowhead": 0,
           "arrowwidth": 1
          },
          "autotypenumbers": "strict",
          "coloraxis": {
           "colorbar": {
            "outlinewidth": 0,
            "ticks": ""
           }
          },
          "colorscale": {
           "diverging": [
            [
             0,
             "#8e0152"
            ],
            [
             0.1,
             "#c51b7d"
            ],
            [
             0.2,
             "#de77ae"
            ],
            [
             0.3,
             "#f1b6da"
            ],
            [
             0.4,
             "#fde0ef"
            ],
            [
             0.5,
             "#f7f7f7"
            ],
            [
             0.6,
             "#e6f5d0"
            ],
            [
             0.7,
             "#b8e186"
            ],
            [
             0.8,
             "#7fbc41"
            ],
            [
             0.9,
             "#4d9221"
            ],
            [
             1,
             "#276419"
            ]
           ],
           "sequential": [
            [
             0,
             "#0d0887"
            ],
            [
             0.1111111111111111,
             "#46039f"
            ],
            [
             0.2222222222222222,
             "#7201a8"
            ],
            [
             0.3333333333333333,
             "#9c179e"
            ],
            [
             0.4444444444444444,
             "#bd3786"
            ],
            [
             0.5555555555555556,
             "#d8576b"
            ],
            [
             0.6666666666666666,
             "#ed7953"
            ],
            [
             0.7777777777777778,
             "#fb9f3a"
            ],
            [
             0.8888888888888888,
             "#fdca26"
            ],
            [
             1,
             "#f0f921"
            ]
           ],
           "sequentialminus": [
            [
             0,
             "#0d0887"
            ],
            [
             0.1111111111111111,
             "#46039f"
            ],
            [
             0.2222222222222222,
             "#7201a8"
            ],
            [
             0.3333333333333333,
             "#9c179e"
            ],
            [
             0.4444444444444444,
             "#bd3786"
            ],
            [
             0.5555555555555556,
             "#d8576b"
            ],
            [
             0.6666666666666666,
             "#ed7953"
            ],
            [
             0.7777777777777778,
             "#fb9f3a"
            ],
            [
             0.8888888888888888,
             "#fdca26"
            ],
            [
             1,
             "#f0f921"
            ]
           ]
          },
          "colorway": [
           "#636efa",
           "#EF553B",
           "#00cc96",
           "#ab63fa",
           "#FFA15A",
           "#19d3f3",
           "#FF6692",
           "#B6E880",
           "#FF97FF",
           "#FECB52"
          ],
          "font": {
           "color": "#2a3f5f"
          },
          "geo": {
           "bgcolor": "white",
           "lakecolor": "white",
           "landcolor": "white",
           "showlakes": true,
           "showland": true,
           "subunitcolor": "#C8D4E3"
          },
          "hoverlabel": {
           "align": "left"
          },
          "hovermode": "closest",
          "mapbox": {
           "style": "light"
          },
          "paper_bgcolor": "white",
          "plot_bgcolor": "white",
          "polar": {
           "angularaxis": {
            "gridcolor": "#EBF0F8",
            "linecolor": "#EBF0F8",
            "ticks": ""
           },
           "bgcolor": "white",
           "radialaxis": {
            "gridcolor": "#EBF0F8",
            "linecolor": "#EBF0F8",
            "ticks": ""
           }
          },
          "scene": {
           "xaxis": {
            "backgroundcolor": "white",
            "gridcolor": "#DFE8F3",
            "gridwidth": 2,
            "linecolor": "#EBF0F8",
            "showbackground": true,
            "ticks": "",
            "zerolinecolor": "#EBF0F8"
           },
           "yaxis": {
            "backgroundcolor": "white",
            "gridcolor": "#DFE8F3",
            "gridwidth": 2,
            "linecolor": "#EBF0F8",
            "showbackground": true,
            "ticks": "",
            "zerolinecolor": "#EBF0F8"
           },
           "zaxis": {
            "backgroundcolor": "white",
            "gridcolor": "#DFE8F3",
            "gridwidth": 2,
            "linecolor": "#EBF0F8",
            "showbackground": true,
            "ticks": "",
            "zerolinecolor": "#EBF0F8"
           }
          },
          "shapedefaults": {
           "line": {
            "color": "#2a3f5f"
           }
          },
          "ternary": {
           "aaxis": {
            "gridcolor": "#DFE8F3",
            "linecolor": "#A2B1C6",
            "ticks": ""
           },
           "baxis": {
            "gridcolor": "#DFE8F3",
            "linecolor": "#A2B1C6",
            "ticks": ""
           },
           "bgcolor": "white",
           "caxis": {
            "gridcolor": "#DFE8F3",
            "linecolor": "#A2B1C6",
            "ticks": ""
           }
          },
          "title": {
           "x": 0.05
          },
          "xaxis": {
           "automargin": true,
           "gridcolor": "#EBF0F8",
           "linecolor": "#EBF0F8",
           "ticks": "",
           "title": {
            "standoff": 15
           },
           "zerolinecolor": "#EBF0F8",
           "zerolinewidth": 2
          },
          "yaxis": {
           "automargin": true,
           "gridcolor": "#EBF0F8",
           "linecolor": "#EBF0F8",
           "ticks": "",
           "title": {
            "standoff": 15
           },
           "zerolinecolor": "#EBF0F8",
           "zerolinewidth": 2
          }
         }
        },
        "violinmode": "group",
        "width": 800,
        "xaxis": {
         "anchor": "y",
         "domain": [
          0,
          1
         ],
         "range": [
          0.2,
          1
         ],
         "title": {
          "text": "AUC"
         }
        },
        "yaxis": {
         "anchor": "x",
         "domain": [
          0,
          1
         ],
         "showticklabels": true,
         "tickmode": "linear",
         "title": {
          "text": "Whole model"
         }
        }
       }
      },
      "text/html": [
       "<div>                            <div id=\"00ad8675-af3e-4fdf-b63f-2cb575faf68f\" class=\"plotly-graph-div\" style=\"height:800px; width:800px;\"></div>            <script type=\"text/javascript\">                require([\"plotly\"], function(Plotly) {                    window.PLOTLYENV=window.PLOTLYENV || {};                                    if (document.getElementById(\"00ad8675-af3e-4fdf-b63f-2cb575faf68f\")) {                    Plotly.newPlot(                        \"00ad8675-af3e-4fdf-b63f-2cb575faf68f\",                        [{\"alignmentgroup\":\"True\",\"box\":{\"visible\":true},\"hovertemplate\":\"AUC=%{x}<extra></extra>\",\"legendgroup\":\"\",\"marker\":{\"color\":\"#42B9B2\"},\"name\":\"\",\"offsetgroup\":\"\",\"orientation\":\"h\",\"points\":\"all\",\"scalegroup\":\"True\",\"showlegend\":false,\"x\":[0.6636206896551723,0.6692927170868347,0.5637665967854647,0.6451737451737452,0.6193221523410203],\"x0\":\" \",\"xaxis\":\"x\",\"y0\":\" \",\"yaxis\":\"y\",\"type\":\"violin\"}],                        {\"template\":{\"data\":{\"barpolar\":[{\"marker\":{\"line\":{\"color\":\"white\",\"width\":0.5},\"pattern\":{\"fillmode\":\"overlay\",\"size\":10,\"solidity\":0.2}},\"type\":\"barpolar\"}],\"bar\":[{\"error_x\":{\"color\":\"#2a3f5f\"},\"error_y\":{\"color\":\"#2a3f5f\"},\"marker\":{\"line\":{\"color\":\"white\",\"width\":0.5},\"pattern\":{\"fillmode\":\"overlay\",\"size\":10,\"solidity\":0.2}},\"type\":\"bar\"}],\"carpet\":[{\"aaxis\":{\"endlinecolor\":\"#2a3f5f\",\"gridcolor\":\"#C8D4E3\",\"linecolor\":\"#C8D4E3\",\"minorgridcolor\":\"#C8D4E3\",\"startlinecolor\":\"#2a3f5f\"},\"baxis\":{\"endlinecolor\":\"#2a3f5f\",\"gridcolor\":\"#C8D4E3\",\"linecolor\":\"#C8D4E3\",\"minorgridcolor\":\"#C8D4E3\",\"startlinecolor\":\"#2a3f5f\"},\"type\":\"carpet\"}],\"choropleth\":[{\"colorbar\":{\"outlinewidth\":0,\"ticks\":\"\"},\"type\":\"choropleth\"}],\"contourcarpet\":[{\"colorbar\":{\"outlinewidth\":0,\"ticks\":\"\"},\"type\":\"contourcarpet\"}],\"contour\":[{\"colorbar\":{\"outlinewidth\":0,\"ticks\":\"\"},\"colorscale\":[[0.0,\"#0d0887\"],[0.1111111111111111,\"#46039f\"],[0.2222222222222222,\"#7201a8\"],[0.3333333333333333,\"#9c179e\"],[0.4444444444444444,\"#bd3786\"],[0.5555555555555556,\"#d8576b\"],[0.6666666666666666,\"#ed7953\"],[0.7777777777777778,\"#fb9f3a\"],[0.8888888888888888,\"#fdca26\"],[1.0,\"#f0f921\"]],\"type\":\"contour\"}],\"heatmapgl\":[{\"colorbar\":{\"outlinewidth\":0,\"ticks\":\"\"},\"colorscale\":[[0.0,\"#0d0887\"],[0.1111111111111111,\"#46039f\"],[0.2222222222222222,\"#7201a8\"],[0.3333333333333333,\"#9c179e\"],[0.4444444444444444,\"#bd3786\"],[0.5555555555555556,\"#d8576b\"],[0.6666666666666666,\"#ed7953\"],[0.7777777777777778,\"#fb9f3a\"],[0.8888888888888888,\"#fdca26\"],[1.0,\"#f0f921\"]],\"type\":\"heatmapgl\"}],\"heatmap\":[{\"colorbar\":{\"outlinewidth\":0,\"ticks\":\"\"},\"colorscale\":[[0.0,\"#0d0887\"],[0.1111111111111111,\"#46039f\"],[0.2222222222222222,\"#7201a8\"],[0.3333333333333333,\"#9c179e\"],[0.4444444444444444,\"#bd3786\"],[0.5555555555555556,\"#d8576b\"],[0.6666666666666666,\"#ed7953\"],[0.7777777777777778,\"#fb9f3a\"],[0.8888888888888888,\"#fdca26\"],[1.0,\"#f0f921\"]],\"type\":\"heatmap\"}],\"histogram2dcontour\":[{\"colorbar\":{\"outlinewidth\":0,\"ticks\":\"\"},\"colorscale\":[[0.0,\"#0d0887\"],[0.1111111111111111,\"#46039f\"],[0.2222222222222222,\"#7201a8\"],[0.3333333333333333,\"#9c179e\"],[0.4444444444444444,\"#bd3786\"],[0.5555555555555556,\"#d8576b\"],[0.6666666666666666,\"#ed7953\"],[0.7777777777777778,\"#fb9f3a\"],[0.8888888888888888,\"#fdca26\"],[1.0,\"#f0f921\"]],\"type\":\"histogram2dcontour\"}],\"histogram2d\":[{\"colorbar\":{\"outlinewidth\":0,\"ticks\":\"\"},\"colorscale\":[[0.0,\"#0d0887\"],[0.1111111111111111,\"#46039f\"],[0.2222222222222222,\"#7201a8\"],[0.3333333333333333,\"#9c179e\"],[0.4444444444444444,\"#bd3786\"],[0.5555555555555556,\"#d8576b\"],[0.6666666666666666,\"#ed7953\"],[0.7777777777777778,\"#fb9f3a\"],[0.8888888888888888,\"#fdca26\"],[1.0,\"#f0f921\"]],\"type\":\"histogram2d\"}],\"histogram\":[{\"marker\":{\"pattern\":{\"fillmode\":\"overlay\",\"size\":10,\"solidity\":0.2}},\"type\":\"histogram\"}],\"mesh3d\":[{\"colorbar\":{\"outlinewidth\":0,\"ticks\":\"\"},\"type\":\"mesh3d\"}],\"parcoords\":[{\"line\":{\"colorbar\":{\"outlinewidth\":0,\"ticks\":\"\"}},\"type\":\"parcoords\"}],\"pie\":[{\"automargin\":true,\"type\":\"pie\"}],\"scatter3d\":[{\"line\":{\"colorbar\":{\"outlinewidth\":0,\"ticks\":\"\"}},\"marker\":{\"colorbar\":{\"outlinewidth\":0,\"ticks\":\"\"}},\"type\":\"scatter3d\"}],\"scattercarpet\":[{\"marker\":{\"colorbar\":{\"outlinewidth\":0,\"ticks\":\"\"}},\"type\":\"scattercarpet\"}],\"scattergeo\":[{\"marker\":{\"colorbar\":{\"outlinewidth\":0,\"ticks\":\"\"}},\"type\":\"scattergeo\"}],\"scattergl\":[{\"marker\":{\"colorbar\":{\"outlinewidth\":0,\"ticks\":\"\"}},\"type\":\"scattergl\"}],\"scattermapbox\":[{\"marker\":{\"colorbar\":{\"outlinewidth\":0,\"ticks\":\"\"}},\"type\":\"scattermapbox\"}],\"scatterpolargl\":[{\"marker\":{\"colorbar\":{\"outlinewidth\":0,\"ticks\":\"\"}},\"type\":\"scatterpolargl\"}],\"scatterpolar\":[{\"marker\":{\"colorbar\":{\"outlinewidth\":0,\"ticks\":\"\"}},\"type\":\"scatterpolar\"}],\"scatter\":[{\"marker\":{\"colorbar\":{\"outlinewidth\":0,\"ticks\":\"\"}},\"type\":\"scatter\"}],\"scatterternary\":[{\"marker\":{\"colorbar\":{\"outlinewidth\":0,\"ticks\":\"\"}},\"type\":\"scatterternary\"}],\"surface\":[{\"colorbar\":{\"outlinewidth\":0,\"ticks\":\"\"},\"colorscale\":[[0.0,\"#0d0887\"],[0.1111111111111111,\"#46039f\"],[0.2222222222222222,\"#7201a8\"],[0.3333333333333333,\"#9c179e\"],[0.4444444444444444,\"#bd3786\"],[0.5555555555555556,\"#d8576b\"],[0.6666666666666666,\"#ed7953\"],[0.7777777777777778,\"#fb9f3a\"],[0.8888888888888888,\"#fdca26\"],[1.0,\"#f0f921\"]],\"type\":\"surface\"}],\"table\":[{\"cells\":{\"fill\":{\"color\":\"#EBF0F8\"},\"line\":{\"color\":\"white\"}},\"header\":{\"fill\":{\"color\":\"#C8D4E3\"},\"line\":{\"color\":\"white\"}},\"type\":\"table\"}]},\"layout\":{\"annotationdefaults\":{\"arrowcolor\":\"#2a3f5f\",\"arrowhead\":0,\"arrowwidth\":1},\"autotypenumbers\":\"strict\",\"coloraxis\":{\"colorbar\":{\"outlinewidth\":0,\"ticks\":\"\"}},\"colorscale\":{\"diverging\":[[0,\"#8e0152\"],[0.1,\"#c51b7d\"],[0.2,\"#de77ae\"],[0.3,\"#f1b6da\"],[0.4,\"#fde0ef\"],[0.5,\"#f7f7f7\"],[0.6,\"#e6f5d0\"],[0.7,\"#b8e186\"],[0.8,\"#7fbc41\"],[0.9,\"#4d9221\"],[1,\"#276419\"]],\"sequential\":[[0.0,\"#0d0887\"],[0.1111111111111111,\"#46039f\"],[0.2222222222222222,\"#7201a8\"],[0.3333333333333333,\"#9c179e\"],[0.4444444444444444,\"#bd3786\"],[0.5555555555555556,\"#d8576b\"],[0.6666666666666666,\"#ed7953\"],[0.7777777777777778,\"#fb9f3a\"],[0.8888888888888888,\"#fdca26\"],[1.0,\"#f0f921\"]],\"sequentialminus\":[[0.0,\"#0d0887\"],[0.1111111111111111,\"#46039f\"],[0.2222222222222222,\"#7201a8\"],[0.3333333333333333,\"#9c179e\"],[0.4444444444444444,\"#bd3786\"],[0.5555555555555556,\"#d8576b\"],[0.6666666666666666,\"#ed7953\"],[0.7777777777777778,\"#fb9f3a\"],[0.8888888888888888,\"#fdca26\"],[1.0,\"#f0f921\"]]},\"colorway\":[\"#636efa\",\"#EF553B\",\"#00cc96\",\"#ab63fa\",\"#FFA15A\",\"#19d3f3\",\"#FF6692\",\"#B6E880\",\"#FF97FF\",\"#FECB52\"],\"font\":{\"color\":\"#2a3f5f\"},\"geo\":{\"bgcolor\":\"white\",\"lakecolor\":\"white\",\"landcolor\":\"white\",\"showlakes\":true,\"showland\":true,\"subunitcolor\":\"#C8D4E3\"},\"hoverlabel\":{\"align\":\"left\"},\"hovermode\":\"closest\",\"mapbox\":{\"style\":\"light\"},\"paper_bgcolor\":\"white\",\"plot_bgcolor\":\"white\",\"polar\":{\"angularaxis\":{\"gridcolor\":\"#EBF0F8\",\"linecolor\":\"#EBF0F8\",\"ticks\":\"\"},\"bgcolor\":\"white\",\"radialaxis\":{\"gridcolor\":\"#EBF0F8\",\"linecolor\":\"#EBF0F8\",\"ticks\":\"\"}},\"scene\":{\"xaxis\":{\"backgroundcolor\":\"white\",\"gridcolor\":\"#DFE8F3\",\"gridwidth\":2,\"linecolor\":\"#EBF0F8\",\"showbackground\":true,\"ticks\":\"\",\"zerolinecolor\":\"#EBF0F8\"},\"yaxis\":{\"backgroundcolor\":\"white\",\"gridcolor\":\"#DFE8F3\",\"gridwidth\":2,\"linecolor\":\"#EBF0F8\",\"showbackground\":true,\"ticks\":\"\",\"zerolinecolor\":\"#EBF0F8\"},\"zaxis\":{\"backgroundcolor\":\"white\",\"gridcolor\":\"#DFE8F3\",\"gridwidth\":2,\"linecolor\":\"#EBF0F8\",\"showbackground\":true,\"ticks\":\"\",\"zerolinecolor\":\"#EBF0F8\"}},\"shapedefaults\":{\"line\":{\"color\":\"#2a3f5f\"}},\"ternary\":{\"aaxis\":{\"gridcolor\":\"#DFE8F3\",\"linecolor\":\"#A2B1C6\",\"ticks\":\"\"},\"baxis\":{\"gridcolor\":\"#DFE8F3\",\"linecolor\":\"#A2B1C6\",\"ticks\":\"\"},\"bgcolor\":\"white\",\"caxis\":{\"gridcolor\":\"#DFE8F3\",\"linecolor\":\"#A2B1C6\",\"ticks\":\"\"}},\"title\":{\"x\":0.05},\"xaxis\":{\"automargin\":true,\"gridcolor\":\"#EBF0F8\",\"linecolor\":\"#EBF0F8\",\"ticks\":\"\",\"title\":{\"standoff\":15},\"zerolinecolor\":\"#EBF0F8\",\"zerolinewidth\":2},\"yaxis\":{\"automargin\":true,\"gridcolor\":\"#EBF0F8\",\"linecolor\":\"#EBF0F8\",\"ticks\":\"\",\"title\":{\"standoff\":15},\"zerolinecolor\":\"#EBF0F8\",\"zerolinewidth\":2}}},\"xaxis\":{\"anchor\":\"y\",\"domain\":[0.0,1.0],\"title\":{\"text\":\"AUC\"},\"range\":[0.2,1]},\"yaxis\":{\"anchor\":\"x\",\"domain\":[0.0,1.0],\"title\":{\"text\":\"Whole model\"},\"showticklabels\":true,\"tickmode\":\"linear\"},\"legend\":{\"tracegroupgap\":0},\"margin\":{\"t\":60},\"violinmode\":\"group\",\"shapes\":[{\"line\":{\"color\":\"grey\",\"dash\":\"dash\",\"width\":3},\"type\":\"line\",\"x0\":0.5,\"x1\":0.5,\"xref\":\"x\",\"y0\":0,\"y1\":1,\"yref\":\"y domain\"}],\"autosize\":false,\"width\":800,\"height\":800},                        {\"responsive\": true}                    ).then(function(){\n",
       "                            \n",
       "var gd = document.getElementById('00ad8675-af3e-4fdf-b63f-2cb575faf68f');\n",
       "var x = new MutationObserver(function (mutations, observer) {{\n",
       "        var display = window.getComputedStyle(gd).display;\n",
       "        if (!display || display === 'none') {{\n",
       "            console.log([gd, 'removed!']);\n",
       "            Plotly.purge(gd);\n",
       "            observer.disconnect();\n",
       "        }}\n",
       "}});\n",
       "\n",
       "// Listen for the removal of the full notebook cells\n",
       "var notebookContainer = gd.closest('#notebook-container');\n",
       "if (notebookContainer) {{\n",
       "    x.observe(notebookContainer, {childList: true});\n",
       "}}\n",
       "\n",
       "// Listen for the clearing of the current output cell\n",
       "var outputEl = gd.closest('.output');\n",
       "if (outputEl) {{\n",
       "    x.observe(outputEl, {childList: true});\n",
       "}}\n",
       "\n",
       "                        })                };                });            </script>        </div>"
      ]
     },
     "metadata": {},
     "output_type": "display_data"
    }
   ],
   "source": [
    "fig =px.violin(df_forest_mw, x = 'auc', box = True, points = 'all',template = \"plotly_white\", color_discrete_sequence = [lblue], labels = {'auc': 'AUC'})\n",
    "fig.add_vline(x=0.5, line_width=3, line_dash=\"dash\", line_color=\"grey\")\n",
    "\n",
    "fig.update_layout(\n",
    "#     title = f'Mean AUC = {df_forest_mw.auc.mean()}',\n",
    "    autosize=False,\n",
    "    width=800,\n",
    "    height=800,\n",
    "    yaxis = {'title': 'Whole model',\n",
    "            'showticklabels': True,\n",
    "            'tickmode': 'linear',},\n",
    "    xaxis ={\n",
    "             'range':[0.2, 1]\n",
    "        }\n",
    ")\n",
    "fig.show()"
   ]
  },
  {
   "cell_type": "code",
   "execution_count": 20,
   "id": "35be6907",
   "metadata": {},
   "outputs": [
    {
     "data": {
      "text/html": [
       "<div>\n",
       "<style scoped>\n",
       "    .dataframe tbody tr th:only-of-type {\n",
       "        vertical-align: middle;\n",
       "    }\n",
       "\n",
       "    .dataframe tbody tr th {\n",
       "        vertical-align: top;\n",
       "    }\n",
       "\n",
       "    .dataframe thead th {\n",
       "        text-align: right;\n",
       "    }\n",
       "</style>\n",
       "<table border=\"1\" class=\"dataframe\">\n",
       "  <thead>\n",
       "    <tr style=\"text-align: right;\">\n",
       "      <th></th>\n",
       "      <th>features</th>\n",
       "      <th>0</th>\n",
       "      <th>1</th>\n",
       "      <th>2</th>\n",
       "      <th>3</th>\n",
       "      <th>4</th>\n",
       "      <th>mean_importance</th>\n",
       "    </tr>\n",
       "  </thead>\n",
       "  <tbody>\n",
       "    <tr>\n",
       "      <th>0</th>\n",
       "      <td>$wSMI\\gamma_{mean}$</td>\n",
       "      <td>0.018089</td>\n",
       "      <td>0.018097</td>\n",
       "      <td>0.018056</td>\n",
       "      <td>0.017904</td>\n",
       "      <td>0.017965</td>\n",
       "      <td>0.018022</td>\n",
       "    </tr>\n",
       "    <tr>\n",
       "      <th>1</th>\n",
       "      <td>$wSMI\\gamma_{std}$</td>\n",
       "      <td>0.018636</td>\n",
       "      <td>0.018285</td>\n",
       "      <td>0.018435</td>\n",
       "      <td>0.018388</td>\n",
       "      <td>0.018143</td>\n",
       "      <td>0.018377</td>\n",
       "    </tr>\n",
       "    <tr>\n",
       "      <th>2</th>\n",
       "      <td>$wSMI\\beta_{mean}$</td>\n",
       "      <td>0.018199</td>\n",
       "      <td>0.018430</td>\n",
       "      <td>0.017798</td>\n",
       "      <td>0.018301</td>\n",
       "      <td>0.018029</td>\n",
       "      <td>0.018151</td>\n",
       "    </tr>\n",
       "    <tr>\n",
       "      <th>3</th>\n",
       "      <td>$wSMI\\beta_{std}$</td>\n",
       "      <td>0.018534</td>\n",
       "      <td>0.017765</td>\n",
       "      <td>0.017851</td>\n",
       "      <td>0.017726</td>\n",
       "      <td>0.017949</td>\n",
       "      <td>0.017965</td>\n",
       "    </tr>\n",
       "    <tr>\n",
       "      <th>4</th>\n",
       "      <td>$wSMI\\alpha_{mean}$</td>\n",
       "      <td>0.018434</td>\n",
       "      <td>0.017933</td>\n",
       "      <td>0.017881</td>\n",
       "      <td>0.018245</td>\n",
       "      <td>0.018102</td>\n",
       "      <td>0.018119</td>\n",
       "    </tr>\n",
       "    <tr>\n",
       "      <th>5</th>\n",
       "      <td>$wSMI\\alpha_{std}$</td>\n",
       "      <td>0.018643</td>\n",
       "      <td>0.018244</td>\n",
       "      <td>0.017758</td>\n",
       "      <td>0.018545</td>\n",
       "      <td>0.017999</td>\n",
       "      <td>0.018238</td>\n",
       "    </tr>\n",
       "    <tr>\n",
       "      <th>6</th>\n",
       "      <td>$wSMI\\theta_{mean}$</td>\n",
       "      <td>0.018610</td>\n",
       "      <td>0.018625</td>\n",
       "      <td>0.018416</td>\n",
       "      <td>0.018675</td>\n",
       "      <td>0.018263</td>\n",
       "      <td>0.018518</td>\n",
       "    </tr>\n",
       "    <tr>\n",
       "      <th>7</th>\n",
       "      <td>$wSMI\\theta_{std}$</td>\n",
       "      <td>0.017712</td>\n",
       "      <td>0.018373</td>\n",
       "      <td>0.017907</td>\n",
       "      <td>0.017806</td>\n",
       "      <td>0.017805</td>\n",
       "      <td>0.017920</td>\n",
       "    </tr>\n",
       "    <tr>\n",
       "      <th>8</th>\n",
       "      <td>$PE\\gamma_{mean}$</td>\n",
       "      <td>0.019396</td>\n",
       "      <td>0.018958</td>\n",
       "      <td>0.020131</td>\n",
       "      <td>0.019403</td>\n",
       "      <td>0.019462</td>\n",
       "      <td>0.019470</td>\n",
       "    </tr>\n",
       "    <tr>\n",
       "      <th>9</th>\n",
       "      <td>$PE\\gamma_{std}$</td>\n",
       "      <td>0.017929</td>\n",
       "      <td>0.017743</td>\n",
       "      <td>0.017736</td>\n",
       "      <td>0.017881</td>\n",
       "      <td>0.017926</td>\n",
       "      <td>0.017843</td>\n",
       "    </tr>\n",
       "    <tr>\n",
       "      <th>10</th>\n",
       "      <td>$PE\\beta_{mean}$</td>\n",
       "      <td>0.019535</td>\n",
       "      <td>0.020127</td>\n",
       "      <td>0.020073</td>\n",
       "      <td>0.019980</td>\n",
       "      <td>0.019399</td>\n",
       "      <td>0.019823</td>\n",
       "    </tr>\n",
       "    <tr>\n",
       "      <th>11</th>\n",
       "      <td>$PE\\beta_{std}$</td>\n",
       "      <td>0.018707</td>\n",
       "      <td>0.018347</td>\n",
       "      <td>0.017960</td>\n",
       "      <td>0.018757</td>\n",
       "      <td>0.018594</td>\n",
       "      <td>0.018473</td>\n",
       "    </tr>\n",
       "    <tr>\n",
       "      <th>12</th>\n",
       "      <td>$PE\\alpha_{mean}$</td>\n",
       "      <td>0.019139</td>\n",
       "      <td>0.019239</td>\n",
       "      <td>0.019476</td>\n",
       "      <td>0.018993</td>\n",
       "      <td>0.019123</td>\n",
       "      <td>0.019194</td>\n",
       "    </tr>\n",
       "    <tr>\n",
       "      <th>13</th>\n",
       "      <td>$PE\\alpha_{std}$</td>\n",
       "      <td>0.018283</td>\n",
       "      <td>0.017934</td>\n",
       "      <td>0.017702</td>\n",
       "      <td>0.017888</td>\n",
       "      <td>0.017721</td>\n",
       "      <td>0.017906</td>\n",
       "    </tr>\n",
       "    <tr>\n",
       "      <th>14</th>\n",
       "      <td>$PE\\theta_{mean}$</td>\n",
       "      <td>0.020440</td>\n",
       "      <td>0.022564</td>\n",
       "      <td>0.021951</td>\n",
       "      <td>0.021246</td>\n",
       "      <td>0.020795</td>\n",
       "      <td>0.021399</td>\n",
       "    </tr>\n",
       "    <tr>\n",
       "      <th>15</th>\n",
       "      <td>$PE\\theta_{std}$</td>\n",
       "      <td>0.017530</td>\n",
       "      <td>0.018531</td>\n",
       "      <td>0.018049</td>\n",
       "      <td>0.018204</td>\n",
       "      <td>0.017770</td>\n",
       "      <td>0.018017</td>\n",
       "    </tr>\n",
       "    <tr>\n",
       "      <th>16</th>\n",
       "      <td>$K_{mean}$</td>\n",
       "      <td>0.018714</td>\n",
       "      <td>0.018701</td>\n",
       "      <td>0.018634</td>\n",
       "      <td>0.018604</td>\n",
       "      <td>0.018891</td>\n",
       "      <td>0.018709</td>\n",
       "    </tr>\n",
       "    <tr>\n",
       "      <th>17</th>\n",
       "      <td>$K_{std}$</td>\n",
       "      <td>0.018087</td>\n",
       "      <td>0.018100</td>\n",
       "      <td>0.017833</td>\n",
       "      <td>0.018336</td>\n",
       "      <td>0.018112</td>\n",
       "      <td>0.018094</td>\n",
       "    </tr>\n",
       "    <tr>\n",
       "      <th>18</th>\n",
       "      <td>$SE_{mean}$</td>\n",
       "      <td>0.018870</td>\n",
       "      <td>0.018511</td>\n",
       "      <td>0.018197</td>\n",
       "      <td>0.018544</td>\n",
       "      <td>0.018314</td>\n",
       "      <td>0.018487</td>\n",
       "    </tr>\n",
       "    <tr>\n",
       "      <th>19</th>\n",
       "      <td>$SE_{std}$</td>\n",
       "      <td>0.018088</td>\n",
       "      <td>0.017985</td>\n",
       "      <td>0.017521</td>\n",
       "      <td>0.018244</td>\n",
       "      <td>0.017746</td>\n",
       "      <td>0.017917</td>\n",
       "    </tr>\n",
       "    <tr>\n",
       "      <th>20</th>\n",
       "      <td>$MSF_{mean}$</td>\n",
       "      <td>0.019198</td>\n",
       "      <td>0.018983</td>\n",
       "      <td>0.018801</td>\n",
       "      <td>0.018711</td>\n",
       "      <td>0.018965</td>\n",
       "      <td>0.018931</td>\n",
       "    </tr>\n",
       "    <tr>\n",
       "      <th>21</th>\n",
       "      <td>$MSF_{std}$</td>\n",
       "      <td>0.018026</td>\n",
       "      <td>0.018283</td>\n",
       "      <td>0.018226</td>\n",
       "      <td>0.018093</td>\n",
       "      <td>0.018193</td>\n",
       "      <td>0.018164</td>\n",
       "    </tr>\n",
       "    <tr>\n",
       "      <th>22</th>\n",
       "      <td>$SEF90_{mean}$</td>\n",
       "      <td>0.018895</td>\n",
       "      <td>0.018443</td>\n",
       "      <td>0.018960</td>\n",
       "      <td>0.018145</td>\n",
       "      <td>0.018533</td>\n",
       "      <td>0.018595</td>\n",
       "    </tr>\n",
       "    <tr>\n",
       "      <th>23</th>\n",
       "      <td>$SEF90_{std}$</td>\n",
       "      <td>0.017951</td>\n",
       "      <td>0.018084</td>\n",
       "      <td>0.017723</td>\n",
       "      <td>0.017847</td>\n",
       "      <td>0.017720</td>\n",
       "      <td>0.017865</td>\n",
       "    </tr>\n",
       "    <tr>\n",
       "      <th>24</th>\n",
       "      <td>$SEF95_{mean}$</td>\n",
       "      <td>0.019473</td>\n",
       "      <td>0.018992</td>\n",
       "      <td>0.019162</td>\n",
       "      <td>0.018891</td>\n",
       "      <td>0.019401</td>\n",
       "      <td>0.019184</td>\n",
       "    </tr>\n",
       "    <tr>\n",
       "      <th>25</th>\n",
       "      <td>$SEF95_{std}$</td>\n",
       "      <td>0.017552</td>\n",
       "      <td>0.018272</td>\n",
       "      <td>0.017776</td>\n",
       "      <td>0.018447</td>\n",
       "      <td>0.018143</td>\n",
       "      <td>0.018038</td>\n",
       "    </tr>\n",
       "    <tr>\n",
       "      <th>26</th>\n",
       "      <td>$\\beta_{mean}$</td>\n",
       "      <td>0.020344</td>\n",
       "      <td>0.020657</td>\n",
       "      <td>0.020430</td>\n",
       "      <td>0.020253</td>\n",
       "      <td>0.020650</td>\n",
       "      <td>0.020467</td>\n",
       "    </tr>\n",
       "    <tr>\n",
       "      <th>27</th>\n",
       "      <td>$\\beta_{std}$</td>\n",
       "      <td>0.017709</td>\n",
       "      <td>0.018158</td>\n",
       "      <td>0.017780</td>\n",
       "      <td>0.018677</td>\n",
       "      <td>0.018143</td>\n",
       "      <td>0.018094</td>\n",
       "    </tr>\n",
       "    <tr>\n",
       "      <th>28</th>\n",
       "      <td>$|\\beta|_{mean}$</td>\n",
       "      <td>0.018659</td>\n",
       "      <td>0.018715</td>\n",
       "      <td>0.018754</td>\n",
       "      <td>0.018568</td>\n",
       "      <td>0.018448</td>\n",
       "      <td>0.018629</td>\n",
       "    </tr>\n",
       "    <tr>\n",
       "      <th>29</th>\n",
       "      <td>$|\\beta|_{std}$</td>\n",
       "      <td>0.018111</td>\n",
       "      <td>0.017820</td>\n",
       "      <td>0.017645</td>\n",
       "      <td>0.017566</td>\n",
       "      <td>0.017801</td>\n",
       "      <td>0.017788</td>\n",
       "    </tr>\n",
       "    <tr>\n",
       "      <th>30</th>\n",
       "      <td>$\\gamma_{mean}$</td>\n",
       "      <td>0.018544</td>\n",
       "      <td>0.018834</td>\n",
       "      <td>0.018767</td>\n",
       "      <td>0.018978</td>\n",
       "      <td>0.019305</td>\n",
       "      <td>0.018886</td>\n",
       "    </tr>\n",
       "    <tr>\n",
       "      <th>31</th>\n",
       "      <td>$\\gamma_{std}$</td>\n",
       "      <td>0.018265</td>\n",
       "      <td>0.018418</td>\n",
       "      <td>0.018162</td>\n",
       "      <td>0.018230</td>\n",
       "      <td>0.018093</td>\n",
       "      <td>0.018234</td>\n",
       "    </tr>\n",
       "    <tr>\n",
       "      <th>32</th>\n",
       "      <td>$|\\gamma|_{mean}$</td>\n",
       "      <td>0.018512</td>\n",
       "      <td>0.018333</td>\n",
       "      <td>0.018408</td>\n",
       "      <td>0.018692</td>\n",
       "      <td>0.018974</td>\n",
       "      <td>0.018584</td>\n",
       "    </tr>\n",
       "    <tr>\n",
       "      <th>33</th>\n",
       "      <td>$|\\gamma|_{std}$</td>\n",
       "      <td>0.018159</td>\n",
       "      <td>0.017969</td>\n",
       "      <td>0.018015</td>\n",
       "      <td>0.018144</td>\n",
       "      <td>0.017913</td>\n",
       "      <td>0.018040</td>\n",
       "    </tr>\n",
       "    <tr>\n",
       "      <th>34</th>\n",
       "      <td>$\\theta_{mean}$</td>\n",
       "      <td>0.019738</td>\n",
       "      <td>0.018996</td>\n",
       "      <td>0.019981</td>\n",
       "      <td>0.018841</td>\n",
       "      <td>0.019746</td>\n",
       "      <td>0.019460</td>\n",
       "    </tr>\n",
       "    <tr>\n",
       "      <th>35</th>\n",
       "      <td>$\\theta_{std}$</td>\n",
       "      <td>0.018083</td>\n",
       "      <td>0.018045</td>\n",
       "      <td>0.018089</td>\n",
       "      <td>0.018009</td>\n",
       "      <td>0.018124</td>\n",
       "      <td>0.018070</td>\n",
       "    </tr>\n",
       "    <tr>\n",
       "      <th>36</th>\n",
       "      <td>$|\\theta|_{mean}$</td>\n",
       "      <td>0.018397</td>\n",
       "      <td>0.018025</td>\n",
       "      <td>0.018421</td>\n",
       "      <td>0.018360</td>\n",
       "      <td>0.018394</td>\n",
       "      <td>0.018319</td>\n",
       "    </tr>\n",
       "    <tr>\n",
       "      <th>37</th>\n",
       "      <td>$|\\theta|_{std}$</td>\n",
       "      <td>0.018204</td>\n",
       "      <td>0.017996</td>\n",
       "      <td>0.017640</td>\n",
       "      <td>0.018027</td>\n",
       "      <td>0.018308</td>\n",
       "      <td>0.018035</td>\n",
       "    </tr>\n",
       "    <tr>\n",
       "      <th>38</th>\n",
       "      <td>$\\delta_{mean}$</td>\n",
       "      <td>0.018102</td>\n",
       "      <td>0.018171</td>\n",
       "      <td>0.018034</td>\n",
       "      <td>0.018236</td>\n",
       "      <td>0.018313</td>\n",
       "      <td>0.018171</td>\n",
       "    </tr>\n",
       "    <tr>\n",
       "      <th>39</th>\n",
       "      <td>$\\delta_{std}$</td>\n",
       "      <td>0.018407</td>\n",
       "      <td>0.018070</td>\n",
       "      <td>0.017947</td>\n",
       "      <td>0.017867</td>\n",
       "      <td>0.018151</td>\n",
       "      <td>0.018088</td>\n",
       "    </tr>\n",
       "    <tr>\n",
       "      <th>40</th>\n",
       "      <td>$|\\delta|_{mean}$</td>\n",
       "      <td>0.019329</td>\n",
       "      <td>0.019340</td>\n",
       "      <td>0.019722</td>\n",
       "      <td>0.019118</td>\n",
       "      <td>0.019710</td>\n",
       "      <td>0.019444</td>\n",
       "    </tr>\n",
       "    <tr>\n",
       "      <th>41</th>\n",
       "      <td>$|\\delta|_{std}$</td>\n",
       "      <td>0.017794</td>\n",
       "      <td>0.017521</td>\n",
       "      <td>0.017750</td>\n",
       "      <td>0.017627</td>\n",
       "      <td>0.017813</td>\n",
       "      <td>0.017701</td>\n",
       "    </tr>\n",
       "    <tr>\n",
       "      <th>42</th>\n",
       "      <td>$|\\alpha|_{mean}$</td>\n",
       "      <td>0.019468</td>\n",
       "      <td>0.019809</td>\n",
       "      <td>0.020985</td>\n",
       "      <td>0.020194</td>\n",
       "      <td>0.020552</td>\n",
       "      <td>0.020202</td>\n",
       "    </tr>\n",
       "    <tr>\n",
       "      <th>43</th>\n",
       "      <td>$|\\alpha|_{std}$</td>\n",
       "      <td>0.018475</td>\n",
       "      <td>0.018361</td>\n",
       "      <td>0.019161</td>\n",
       "      <td>0.019147</td>\n",
       "      <td>0.019009</td>\n",
       "      <td>0.018830</td>\n",
       "    </tr>\n",
       "    <tr>\n",
       "      <th>44</th>\n",
       "      <td>$\\alpha_{mean}$</td>\n",
       "      <td>0.019572</td>\n",
       "      <td>0.019729</td>\n",
       "      <td>0.022063</td>\n",
       "      <td>0.020047</td>\n",
       "      <td>0.021347</td>\n",
       "      <td>0.020552</td>\n",
       "    </tr>\n",
       "    <tr>\n",
       "      <th>45</th>\n",
       "      <td>$\\alpha_{std}$</td>\n",
       "      <td>0.018566</td>\n",
       "      <td>0.017954</td>\n",
       "      <td>0.018131</td>\n",
       "      <td>0.018465</td>\n",
       "      <td>0.018033</td>\n",
       "      <td>0.018230</td>\n",
       "    </tr>\n",
       "    <tr>\n",
       "      <th>46</th>\n",
       "      <td>$CNV_{mean}$</td>\n",
       "      <td>0.017760</td>\n",
       "      <td>0.017871</td>\n",
       "      <td>0.017471</td>\n",
       "      <td>0.017682</td>\n",
       "      <td>0.017582</td>\n",
       "      <td>0.017673</td>\n",
       "    </tr>\n",
       "    <tr>\n",
       "      <th>47</th>\n",
       "      <td>$CNV_{std}$</td>\n",
       "      <td>0.017952</td>\n",
       "      <td>0.017900</td>\n",
       "      <td>0.017458</td>\n",
       "      <td>0.017821</td>\n",
       "      <td>0.017839</td>\n",
       "      <td>0.017794</td>\n",
       "    </tr>\n",
       "    <tr>\n",
       "      <th>48</th>\n",
       "      <td>$P1_{mean}$</td>\n",
       "      <td>0.017516</td>\n",
       "      <td>0.017999</td>\n",
       "      <td>0.017718</td>\n",
       "      <td>0.018575</td>\n",
       "      <td>0.018066</td>\n",
       "      <td>0.017975</td>\n",
       "    </tr>\n",
       "    <tr>\n",
       "      <th>49</th>\n",
       "      <td>$P1_{std}$</td>\n",
       "      <td>0.018187</td>\n",
       "      <td>0.018117</td>\n",
       "      <td>0.019130</td>\n",
       "      <td>0.018487</td>\n",
       "      <td>0.018431</td>\n",
       "      <td>0.018471</td>\n",
       "    </tr>\n",
       "    <tr>\n",
       "      <th>50</th>\n",
       "      <td>$P3a_{mean}$</td>\n",
       "      <td>0.017660</td>\n",
       "      <td>0.018159</td>\n",
       "      <td>0.018126</td>\n",
       "      <td>0.017894</td>\n",
       "      <td>0.017428</td>\n",
       "      <td>0.017853</td>\n",
       "    </tr>\n",
       "    <tr>\n",
       "      <th>51</th>\n",
       "      <td>$P3a_{std}$</td>\n",
       "      <td>0.018580</td>\n",
       "      <td>0.018934</td>\n",
       "      <td>0.018225</td>\n",
       "      <td>0.018524</td>\n",
       "      <td>0.018280</td>\n",
       "      <td>0.018508</td>\n",
       "    </tr>\n",
       "    <tr>\n",
       "      <th>52</th>\n",
       "      <td>$P3b_{mean}$</td>\n",
       "      <td>0.018822</td>\n",
       "      <td>0.018433</td>\n",
       "      <td>0.017904</td>\n",
       "      <td>0.017852</td>\n",
       "      <td>0.018284</td>\n",
       "      <td>0.018259</td>\n",
       "    </tr>\n",
       "    <tr>\n",
       "      <th>53</th>\n",
       "      <td>$P3b_{std}$</td>\n",
       "      <td>0.018417</td>\n",
       "      <td>0.018117</td>\n",
       "      <td>0.018074</td>\n",
       "      <td>0.018315</td>\n",
       "      <td>0.018201</td>\n",
       "      <td>0.018225</td>\n",
       "    </tr>\n",
       "  </tbody>\n",
       "</table>\n",
       "</div>"
      ],
      "text/plain": [
       "               features         0         1         2         3         4  \\\n",
       "0   $wSMI\\gamma_{mean}$  0.018089  0.018097  0.018056  0.017904  0.017965   \n",
       "1    $wSMI\\gamma_{std}$  0.018636  0.018285  0.018435  0.018388  0.018143   \n",
       "2    $wSMI\\beta_{mean}$  0.018199  0.018430  0.017798  0.018301  0.018029   \n",
       "3     $wSMI\\beta_{std}$  0.018534  0.017765  0.017851  0.017726  0.017949   \n",
       "4   $wSMI\\alpha_{mean}$  0.018434  0.017933  0.017881  0.018245  0.018102   \n",
       "5    $wSMI\\alpha_{std}$  0.018643  0.018244  0.017758  0.018545  0.017999   \n",
       "6   $wSMI\\theta_{mean}$  0.018610  0.018625  0.018416  0.018675  0.018263   \n",
       "7    $wSMI\\theta_{std}$  0.017712  0.018373  0.017907  0.017806  0.017805   \n",
       "8     $PE\\gamma_{mean}$  0.019396  0.018958  0.020131  0.019403  0.019462   \n",
       "9      $PE\\gamma_{std}$  0.017929  0.017743  0.017736  0.017881  0.017926   \n",
       "10     $PE\\beta_{mean}$  0.019535  0.020127  0.020073  0.019980  0.019399   \n",
       "11      $PE\\beta_{std}$  0.018707  0.018347  0.017960  0.018757  0.018594   \n",
       "12    $PE\\alpha_{mean}$  0.019139  0.019239  0.019476  0.018993  0.019123   \n",
       "13     $PE\\alpha_{std}$  0.018283  0.017934  0.017702  0.017888  0.017721   \n",
       "14    $PE\\theta_{mean}$  0.020440  0.022564  0.021951  0.021246  0.020795   \n",
       "15     $PE\\theta_{std}$  0.017530  0.018531  0.018049  0.018204  0.017770   \n",
       "16           $K_{mean}$  0.018714  0.018701  0.018634  0.018604  0.018891   \n",
       "17            $K_{std}$  0.018087  0.018100  0.017833  0.018336  0.018112   \n",
       "18          $SE_{mean}$  0.018870  0.018511  0.018197  0.018544  0.018314   \n",
       "19           $SE_{std}$  0.018088  0.017985  0.017521  0.018244  0.017746   \n",
       "20         $MSF_{mean}$  0.019198  0.018983  0.018801  0.018711  0.018965   \n",
       "21          $MSF_{std}$  0.018026  0.018283  0.018226  0.018093  0.018193   \n",
       "22       $SEF90_{mean}$  0.018895  0.018443  0.018960  0.018145  0.018533   \n",
       "23        $SEF90_{std}$  0.017951  0.018084  0.017723  0.017847  0.017720   \n",
       "24       $SEF95_{mean}$  0.019473  0.018992  0.019162  0.018891  0.019401   \n",
       "25        $SEF95_{std}$  0.017552  0.018272  0.017776  0.018447  0.018143   \n",
       "26       $\\beta_{mean}$  0.020344  0.020657  0.020430  0.020253  0.020650   \n",
       "27        $\\beta_{std}$  0.017709  0.018158  0.017780  0.018677  0.018143   \n",
       "28     $|\\beta|_{mean}$  0.018659  0.018715  0.018754  0.018568  0.018448   \n",
       "29      $|\\beta|_{std}$  0.018111  0.017820  0.017645  0.017566  0.017801   \n",
       "30      $\\gamma_{mean}$  0.018544  0.018834  0.018767  0.018978  0.019305   \n",
       "31       $\\gamma_{std}$  0.018265  0.018418  0.018162  0.018230  0.018093   \n",
       "32    $|\\gamma|_{mean}$  0.018512  0.018333  0.018408  0.018692  0.018974   \n",
       "33     $|\\gamma|_{std}$  0.018159  0.017969  0.018015  0.018144  0.017913   \n",
       "34      $\\theta_{mean}$  0.019738  0.018996  0.019981  0.018841  0.019746   \n",
       "35       $\\theta_{std}$  0.018083  0.018045  0.018089  0.018009  0.018124   \n",
       "36    $|\\theta|_{mean}$  0.018397  0.018025  0.018421  0.018360  0.018394   \n",
       "37     $|\\theta|_{std}$  0.018204  0.017996  0.017640  0.018027  0.018308   \n",
       "38      $\\delta_{mean}$  0.018102  0.018171  0.018034  0.018236  0.018313   \n",
       "39       $\\delta_{std}$  0.018407  0.018070  0.017947  0.017867  0.018151   \n",
       "40    $|\\delta|_{mean}$  0.019329  0.019340  0.019722  0.019118  0.019710   \n",
       "41     $|\\delta|_{std}$  0.017794  0.017521  0.017750  0.017627  0.017813   \n",
       "42    $|\\alpha|_{mean}$  0.019468  0.019809  0.020985  0.020194  0.020552   \n",
       "43     $|\\alpha|_{std}$  0.018475  0.018361  0.019161  0.019147  0.019009   \n",
       "44      $\\alpha_{mean}$  0.019572  0.019729  0.022063  0.020047  0.021347   \n",
       "45       $\\alpha_{std}$  0.018566  0.017954  0.018131  0.018465  0.018033   \n",
       "46         $CNV_{mean}$  0.017760  0.017871  0.017471  0.017682  0.017582   \n",
       "47          $CNV_{std}$  0.017952  0.017900  0.017458  0.017821  0.017839   \n",
       "48          $P1_{mean}$  0.017516  0.017999  0.017718  0.018575  0.018066   \n",
       "49           $P1_{std}$  0.018187  0.018117  0.019130  0.018487  0.018431   \n",
       "50         $P3a_{mean}$  0.017660  0.018159  0.018126  0.017894  0.017428   \n",
       "51          $P3a_{std}$  0.018580  0.018934  0.018225  0.018524  0.018280   \n",
       "52         $P3b_{mean}$  0.018822  0.018433  0.017904  0.017852  0.018284   \n",
       "53          $P3b_{std}$  0.018417  0.018117  0.018074  0.018315  0.018201   \n",
       "\n",
       "    mean_importance  \n",
       "0          0.018022  \n",
       "1          0.018377  \n",
       "2          0.018151  \n",
       "3          0.017965  \n",
       "4          0.018119  \n",
       "5          0.018238  \n",
       "6          0.018518  \n",
       "7          0.017920  \n",
       "8          0.019470  \n",
       "9          0.017843  \n",
       "10         0.019823  \n",
       "11         0.018473  \n",
       "12         0.019194  \n",
       "13         0.017906  \n",
       "14         0.021399  \n",
       "15         0.018017  \n",
       "16         0.018709  \n",
       "17         0.018094  \n",
       "18         0.018487  \n",
       "19         0.017917  \n",
       "20         0.018931  \n",
       "21         0.018164  \n",
       "22         0.018595  \n",
       "23         0.017865  \n",
       "24         0.019184  \n",
       "25         0.018038  \n",
       "26         0.020467  \n",
       "27         0.018094  \n",
       "28         0.018629  \n",
       "29         0.017788  \n",
       "30         0.018886  \n",
       "31         0.018234  \n",
       "32         0.018584  \n",
       "33         0.018040  \n",
       "34         0.019460  \n",
       "35         0.018070  \n",
       "36         0.018319  \n",
       "37         0.018035  \n",
       "38         0.018171  \n",
       "39         0.018088  \n",
       "40         0.019444  \n",
       "41         0.017701  \n",
       "42         0.020202  \n",
       "43         0.018830  \n",
       "44         0.020552  \n",
       "45         0.018230  \n",
       "46         0.017673  \n",
       "47         0.017794  \n",
       "48         0.017975  \n",
       "49         0.018471  \n",
       "50         0.017853  \n",
       "51         0.018508  \n",
       "52         0.018259  \n",
       "53         0.018225  "
      ]
     },
     "execution_count": 20,
     "metadata": {},
     "output_type": "execute_result"
    }
   ],
   "source": [
    "feat_import_mw"
   ]
  },
  {
   "cell_type": "code",
   "execution_count": 58,
   "id": "challenging-crawford",
   "metadata": {},
   "outputs": [
    {
     "data": {
      "application/vnd.plotly.v1+json": {
       "config": {
        "plotlyServerURL": "https://plot.ly"
       },
       "data": [
        {
         "hovertemplate": "mean_importance=%{x}<br>Markers=%{y}<extra></extra>",
         "legendgroup": "",
         "marker": {
          "color": "#42B9B2",
          "size": 8,
          "symbol": "circle"
         },
         "mode": "markers",
         "name": "",
         "orientation": "h",
         "showlegend": false,
         "type": "scatter",
         "x": [
          0.0191837434708501,
          0.019193857122672634,
          0.01944396311038483,
          0.019460248865091352,
          0.019469800998608063,
          0.019822815402240224,
          0.020201541362664985,
          0.02046682758991957,
          0.020551690886792217,
          0.021399066548900912
         ],
         "xaxis": "x",
         "y": [
          "$SEF95_{mean}$",
          "$PE\\alpha_{mean}$",
          "$|\\delta|_{mean}$",
          "$\\theta_{mean}$",
          "$PE\\gamma_{mean}$",
          "$PE\\beta_{mean}$",
          "$|\\alpha|_{mean}$",
          "$\\beta_{mean}$",
          "$\\alpha_{mean}$",
          "$PE\\theta_{mean}$"
         ],
         "yaxis": "y"
        }
       ],
       "layout": {
        "font": {
         "color": "black",
         "family": "Times new roman",
         "size": 20
        },
        "height": 900,
        "legend": {
         "tracegroupgap": 0
        },
        "margin": {
         "t": 60
        },
        "showlegend": true,
        "template": {
         "data": {
          "bar": [
           {
            "error_x": {
             "color": "#2a3f5f"
            },
            "error_y": {
             "color": "#2a3f5f"
            },
            "marker": {
             "line": {
              "color": "white",
              "width": 0.5
             },
             "pattern": {
              "fillmode": "overlay",
              "size": 10,
              "solidity": 0.2
             }
            },
            "type": "bar"
           }
          ],
          "barpolar": [
           {
            "marker": {
             "line": {
              "color": "white",
              "width": 0.5
             },
             "pattern": {
              "fillmode": "overlay",
              "size": 10,
              "solidity": 0.2
             }
            },
            "type": "barpolar"
           }
          ],
          "carpet": [
           {
            "aaxis": {
             "endlinecolor": "#2a3f5f",
             "gridcolor": "#C8D4E3",
             "linecolor": "#C8D4E3",
             "minorgridcolor": "#C8D4E3",
             "startlinecolor": "#2a3f5f"
            },
            "baxis": {
             "endlinecolor": "#2a3f5f",
             "gridcolor": "#C8D4E3",
             "linecolor": "#C8D4E3",
             "minorgridcolor": "#C8D4E3",
             "startlinecolor": "#2a3f5f"
            },
            "type": "carpet"
           }
          ],
          "choropleth": [
           {
            "colorbar": {
             "outlinewidth": 0,
             "ticks": ""
            },
            "type": "choropleth"
           }
          ],
          "contour": [
           {
            "colorbar": {
             "outlinewidth": 0,
             "ticks": ""
            },
            "colorscale": [
             [
              0,
              "#0d0887"
             ],
             [
              0.1111111111111111,
              "#46039f"
             ],
             [
              0.2222222222222222,
              "#7201a8"
             ],
             [
              0.3333333333333333,
              "#9c179e"
             ],
             [
              0.4444444444444444,
              "#bd3786"
             ],
             [
              0.5555555555555556,
              "#d8576b"
             ],
             [
              0.6666666666666666,
              "#ed7953"
             ],
             [
              0.7777777777777778,
              "#fb9f3a"
             ],
             [
              0.8888888888888888,
              "#fdca26"
             ],
             [
              1,
              "#f0f921"
             ]
            ],
            "type": "contour"
           }
          ],
          "contourcarpet": [
           {
            "colorbar": {
             "outlinewidth": 0,
             "ticks": ""
            },
            "type": "contourcarpet"
           }
          ],
          "heatmap": [
           {
            "colorbar": {
             "outlinewidth": 0,
             "ticks": ""
            },
            "colorscale": [
             [
              0,
              "#0d0887"
             ],
             [
              0.1111111111111111,
              "#46039f"
             ],
             [
              0.2222222222222222,
              "#7201a8"
             ],
             [
              0.3333333333333333,
              "#9c179e"
             ],
             [
              0.4444444444444444,
              "#bd3786"
             ],
             [
              0.5555555555555556,
              "#d8576b"
             ],
             [
              0.6666666666666666,
              "#ed7953"
             ],
             [
              0.7777777777777778,
              "#fb9f3a"
             ],
             [
              0.8888888888888888,
              "#fdca26"
             ],
             [
              1,
              "#f0f921"
             ]
            ],
            "type": "heatmap"
           }
          ],
          "heatmapgl": [
           {
            "colorbar": {
             "outlinewidth": 0,
             "ticks": ""
            },
            "colorscale": [
             [
              0,
              "#0d0887"
             ],
             [
              0.1111111111111111,
              "#46039f"
             ],
             [
              0.2222222222222222,
              "#7201a8"
             ],
             [
              0.3333333333333333,
              "#9c179e"
             ],
             [
              0.4444444444444444,
              "#bd3786"
             ],
             [
              0.5555555555555556,
              "#d8576b"
             ],
             [
              0.6666666666666666,
              "#ed7953"
             ],
             [
              0.7777777777777778,
              "#fb9f3a"
             ],
             [
              0.8888888888888888,
              "#fdca26"
             ],
             [
              1,
              "#f0f921"
             ]
            ],
            "type": "heatmapgl"
           }
          ],
          "histogram": [
           {
            "marker": {
             "pattern": {
              "fillmode": "overlay",
              "size": 10,
              "solidity": 0.2
             }
            },
            "type": "histogram"
           }
          ],
          "histogram2d": [
           {
            "colorbar": {
             "outlinewidth": 0,
             "ticks": ""
            },
            "colorscale": [
             [
              0,
              "#0d0887"
             ],
             [
              0.1111111111111111,
              "#46039f"
             ],
             [
              0.2222222222222222,
              "#7201a8"
             ],
             [
              0.3333333333333333,
              "#9c179e"
             ],
             [
              0.4444444444444444,
              "#bd3786"
             ],
             [
              0.5555555555555556,
              "#d8576b"
             ],
             [
              0.6666666666666666,
              "#ed7953"
             ],
             [
              0.7777777777777778,
              "#fb9f3a"
             ],
             [
              0.8888888888888888,
              "#fdca26"
             ],
             [
              1,
              "#f0f921"
             ]
            ],
            "type": "histogram2d"
           }
          ],
          "histogram2dcontour": [
           {
            "colorbar": {
             "outlinewidth": 0,
             "ticks": ""
            },
            "colorscale": [
             [
              0,
              "#0d0887"
             ],
             [
              0.1111111111111111,
              "#46039f"
             ],
             [
              0.2222222222222222,
              "#7201a8"
             ],
             [
              0.3333333333333333,
              "#9c179e"
             ],
             [
              0.4444444444444444,
              "#bd3786"
             ],
             [
              0.5555555555555556,
              "#d8576b"
             ],
             [
              0.6666666666666666,
              "#ed7953"
             ],
             [
              0.7777777777777778,
              "#fb9f3a"
             ],
             [
              0.8888888888888888,
              "#fdca26"
             ],
             [
              1,
              "#f0f921"
             ]
            ],
            "type": "histogram2dcontour"
           }
          ],
          "mesh3d": [
           {
            "colorbar": {
             "outlinewidth": 0,
             "ticks": ""
            },
            "type": "mesh3d"
           }
          ],
          "parcoords": [
           {
            "line": {
             "colorbar": {
              "outlinewidth": 0,
              "ticks": ""
             }
            },
            "type": "parcoords"
           }
          ],
          "pie": [
           {
            "automargin": true,
            "type": "pie"
           }
          ],
          "scatter": [
           {
            "marker": {
             "colorbar": {
              "outlinewidth": 0,
              "ticks": ""
             }
            },
            "type": "scatter"
           }
          ],
          "scatter3d": [
           {
            "line": {
             "colorbar": {
              "outlinewidth": 0,
              "ticks": ""
             }
            },
            "marker": {
             "colorbar": {
              "outlinewidth": 0,
              "ticks": ""
             }
            },
            "type": "scatter3d"
           }
          ],
          "scattercarpet": [
           {
            "marker": {
             "colorbar": {
              "outlinewidth": 0,
              "ticks": ""
             }
            },
            "type": "scattercarpet"
           }
          ],
          "scattergeo": [
           {
            "marker": {
             "colorbar": {
              "outlinewidth": 0,
              "ticks": ""
             }
            },
            "type": "scattergeo"
           }
          ],
          "scattergl": [
           {
            "marker": {
             "colorbar": {
              "outlinewidth": 0,
              "ticks": ""
             }
            },
            "type": "scattergl"
           }
          ],
          "scattermapbox": [
           {
            "marker": {
             "colorbar": {
              "outlinewidth": 0,
              "ticks": ""
             }
            },
            "type": "scattermapbox"
           }
          ],
          "scatterpolar": [
           {
            "marker": {
             "colorbar": {
              "outlinewidth": 0,
              "ticks": ""
             }
            },
            "type": "scatterpolar"
           }
          ],
          "scatterpolargl": [
           {
            "marker": {
             "colorbar": {
              "outlinewidth": 0,
              "ticks": ""
             }
            },
            "type": "scatterpolargl"
           }
          ],
          "scatterternary": [
           {
            "marker": {
             "colorbar": {
              "outlinewidth": 0,
              "ticks": ""
             }
            },
            "type": "scatterternary"
           }
          ],
          "surface": [
           {
            "colorbar": {
             "outlinewidth": 0,
             "ticks": ""
            },
            "colorscale": [
             [
              0,
              "#0d0887"
             ],
             [
              0.1111111111111111,
              "#46039f"
             ],
             [
              0.2222222222222222,
              "#7201a8"
             ],
             [
              0.3333333333333333,
              "#9c179e"
             ],
             [
              0.4444444444444444,
              "#bd3786"
             ],
             [
              0.5555555555555556,
              "#d8576b"
             ],
             [
              0.6666666666666666,
              "#ed7953"
             ],
             [
              0.7777777777777778,
              "#fb9f3a"
             ],
             [
              0.8888888888888888,
              "#fdca26"
             ],
             [
              1,
              "#f0f921"
             ]
            ],
            "type": "surface"
           }
          ],
          "table": [
           {
            "cells": {
             "fill": {
              "color": "#EBF0F8"
             },
             "line": {
              "color": "white"
             }
            },
            "header": {
             "fill": {
              "color": "#C8D4E3"
             },
             "line": {
              "color": "white"
             }
            },
            "type": "table"
           }
          ]
         },
         "layout": {
          "annotationdefaults": {
           "arrowcolor": "#2a3f5f",
           "arrowhead": 0,
           "arrowwidth": 1
          },
          "autotypenumbers": "strict",
          "coloraxis": {
           "colorbar": {
            "outlinewidth": 0,
            "ticks": ""
           }
          },
          "colorscale": {
           "diverging": [
            [
             0,
             "#8e0152"
            ],
            [
             0.1,
             "#c51b7d"
            ],
            [
             0.2,
             "#de77ae"
            ],
            [
             0.3,
             "#f1b6da"
            ],
            [
             0.4,
             "#fde0ef"
            ],
            [
             0.5,
             "#f7f7f7"
            ],
            [
             0.6,
             "#e6f5d0"
            ],
            [
             0.7,
             "#b8e186"
            ],
            [
             0.8,
             "#7fbc41"
            ],
            [
             0.9,
             "#4d9221"
            ],
            [
             1,
             "#276419"
            ]
           ],
           "sequential": [
            [
             0,
             "#0d0887"
            ],
            [
             0.1111111111111111,
             "#46039f"
            ],
            [
             0.2222222222222222,
             "#7201a8"
            ],
            [
             0.3333333333333333,
             "#9c179e"
            ],
            [
             0.4444444444444444,
             "#bd3786"
            ],
            [
             0.5555555555555556,
             "#d8576b"
            ],
            [
             0.6666666666666666,
             "#ed7953"
            ],
            [
             0.7777777777777778,
             "#fb9f3a"
            ],
            [
             0.8888888888888888,
             "#fdca26"
            ],
            [
             1,
             "#f0f921"
            ]
           ],
           "sequentialminus": [
            [
             0,
             "#0d0887"
            ],
            [
             0.1111111111111111,
             "#46039f"
            ],
            [
             0.2222222222222222,
             "#7201a8"
            ],
            [
             0.3333333333333333,
             "#9c179e"
            ],
            [
             0.4444444444444444,
             "#bd3786"
            ],
            [
             0.5555555555555556,
             "#d8576b"
            ],
            [
             0.6666666666666666,
             "#ed7953"
            ],
            [
             0.7777777777777778,
             "#fb9f3a"
            ],
            [
             0.8888888888888888,
             "#fdca26"
            ],
            [
             1,
             "#f0f921"
            ]
           ]
          },
          "colorway": [
           "#636efa",
           "#EF553B",
           "#00cc96",
           "#ab63fa",
           "#FFA15A",
           "#19d3f3",
           "#FF6692",
           "#B6E880",
           "#FF97FF",
           "#FECB52"
          ],
          "font": {
           "color": "#2a3f5f"
          },
          "geo": {
           "bgcolor": "white",
           "lakecolor": "white",
           "landcolor": "white",
           "showlakes": true,
           "showland": true,
           "subunitcolor": "#C8D4E3"
          },
          "hoverlabel": {
           "align": "left"
          },
          "hovermode": "closest",
          "mapbox": {
           "style": "light"
          },
          "paper_bgcolor": "white",
          "plot_bgcolor": "white",
          "polar": {
           "angularaxis": {
            "gridcolor": "#EBF0F8",
            "linecolor": "#EBF0F8",
            "ticks": ""
           },
           "bgcolor": "white",
           "radialaxis": {
            "gridcolor": "#EBF0F8",
            "linecolor": "#EBF0F8",
            "ticks": ""
           }
          },
          "scene": {
           "xaxis": {
            "backgroundcolor": "white",
            "gridcolor": "#DFE8F3",
            "gridwidth": 2,
            "linecolor": "#EBF0F8",
            "showbackground": true,
            "ticks": "",
            "zerolinecolor": "#EBF0F8"
           },
           "yaxis": {
            "backgroundcolor": "white",
            "gridcolor": "#DFE8F3",
            "gridwidth": 2,
            "linecolor": "#EBF0F8",
            "showbackground": true,
            "ticks": "",
            "zerolinecolor": "#EBF0F8"
           },
           "zaxis": {
            "backgroundcolor": "white",
            "gridcolor": "#DFE8F3",
            "gridwidth": 2,
            "linecolor": "#EBF0F8",
            "showbackground": true,
            "ticks": "",
            "zerolinecolor": "#EBF0F8"
           }
          },
          "shapedefaults": {
           "line": {
            "color": "#2a3f5f"
           }
          },
          "ternary": {
           "aaxis": {
            "gridcolor": "#DFE8F3",
            "linecolor": "#A2B1C6",
            "ticks": ""
           },
           "baxis": {
            "gridcolor": "#DFE8F3",
            "linecolor": "#A2B1C6",
            "ticks": ""
           },
           "bgcolor": "white",
           "caxis": {
            "gridcolor": "#DFE8F3",
            "linecolor": "#A2B1C6",
            "ticks": ""
           }
          },
          "title": {
           "x": 0.05
          },
          "xaxis": {
           "automargin": true,
           "gridcolor": "#EBF0F8",
           "linecolor": "#EBF0F8",
           "ticks": "",
           "title": {
            "standoff": 15
           },
           "zerolinecolor": "#EBF0F8",
           "zerolinewidth": 2
          },
          "yaxis": {
           "automargin": true,
           "gridcolor": "#EBF0F8",
           "linecolor": "#EBF0F8",
           "ticks": "",
           "title": {
            "standoff": 15
           },
           "zerolinecolor": "#EBF0F8",
           "zerolinewidth": 2
          }
         }
        },
        "width": 650,
        "xaxis": {
         "anchor": "y",
         "domain": [
          0,
          1
         ],
         "tickfont": {
          "size": 20
         },
         "title": {
          "text": "Feature Importance"
         },
         "visible": true
        },
        "yaxis": {
         "anchor": "x",
         "automargin": true,
         "domain": [
          0,
          1
         ],
         "tickfont": {
          "size": 20
         },
         "title": {
          "text": "Markers"
         }
        }
       }
      },
      "text/html": [
       "<div>                            <div id=\"e7f0c1c8-83d4-4fdb-904e-cc795dd57211\" class=\"plotly-graph-div\" style=\"height:900px; width:650px;\"></div>            <script type=\"text/javascript\">                require([\"plotly\"], function(Plotly) {                    window.PLOTLYENV=window.PLOTLYENV || {};                                    if (document.getElementById(\"e7f0c1c8-83d4-4fdb-904e-cc795dd57211\")) {                    Plotly.newPlot(                        \"e7f0c1c8-83d4-4fdb-904e-cc795dd57211\",                        [{\"hovertemplate\":\"mean_importance=%{x}<br>Markers=%{y}<extra></extra>\",\"legendgroup\":\"\",\"marker\":{\"color\":\"#42B9B2\",\"symbol\":\"circle\",\"size\":8},\"mode\":\"markers\",\"name\":\"\",\"orientation\":\"h\",\"showlegend\":false,\"x\":[0.0191837434708501,0.019193857122672634,0.01944396311038483,0.019460248865091352,0.019469800998608063,0.019822815402240224,0.020201541362664985,0.02046682758991957,0.020551690886792217,0.021399066548900912],\"xaxis\":\"x\",\"y\":[\"$SEF95_{mean}$\",\"$PE\\\\alpha_{mean}$\",\"$|\\\\delta|_{mean}$\",\"$\\\\theta_{mean}$\",\"$PE\\\\gamma_{mean}$\",\"$PE\\\\beta_{mean}$\",\"$|\\\\alpha|_{mean}$\",\"$\\\\beta_{mean}$\",\"$\\\\alpha_{mean}$\",\"$PE\\\\theta_{mean}$\"],\"yaxis\":\"y\",\"type\":\"scatter\"}],                        {\"template\":{\"data\":{\"barpolar\":[{\"marker\":{\"line\":{\"color\":\"white\",\"width\":0.5},\"pattern\":{\"fillmode\":\"overlay\",\"size\":10,\"solidity\":0.2}},\"type\":\"barpolar\"}],\"bar\":[{\"error_x\":{\"color\":\"#2a3f5f\"},\"error_y\":{\"color\":\"#2a3f5f\"},\"marker\":{\"line\":{\"color\":\"white\",\"width\":0.5},\"pattern\":{\"fillmode\":\"overlay\",\"size\":10,\"solidity\":0.2}},\"type\":\"bar\"}],\"carpet\":[{\"aaxis\":{\"endlinecolor\":\"#2a3f5f\",\"gridcolor\":\"#C8D4E3\",\"linecolor\":\"#C8D4E3\",\"minorgridcolor\":\"#C8D4E3\",\"startlinecolor\":\"#2a3f5f\"},\"baxis\":{\"endlinecolor\":\"#2a3f5f\",\"gridcolor\":\"#C8D4E3\",\"linecolor\":\"#C8D4E3\",\"minorgridcolor\":\"#C8D4E3\",\"startlinecolor\":\"#2a3f5f\"},\"type\":\"carpet\"}],\"choropleth\":[{\"colorbar\":{\"outlinewidth\":0,\"ticks\":\"\"},\"type\":\"choropleth\"}],\"contourcarpet\":[{\"colorbar\":{\"outlinewidth\":0,\"ticks\":\"\"},\"type\":\"contourcarpet\"}],\"contour\":[{\"colorbar\":{\"outlinewidth\":0,\"ticks\":\"\"},\"colorscale\":[[0.0,\"#0d0887\"],[0.1111111111111111,\"#46039f\"],[0.2222222222222222,\"#7201a8\"],[0.3333333333333333,\"#9c179e\"],[0.4444444444444444,\"#bd3786\"],[0.5555555555555556,\"#d8576b\"],[0.6666666666666666,\"#ed7953\"],[0.7777777777777778,\"#fb9f3a\"],[0.8888888888888888,\"#fdca26\"],[1.0,\"#f0f921\"]],\"type\":\"contour\"}],\"heatmapgl\":[{\"colorbar\":{\"outlinewidth\":0,\"ticks\":\"\"},\"colorscale\":[[0.0,\"#0d0887\"],[0.1111111111111111,\"#46039f\"],[0.2222222222222222,\"#7201a8\"],[0.3333333333333333,\"#9c179e\"],[0.4444444444444444,\"#bd3786\"],[0.5555555555555556,\"#d8576b\"],[0.6666666666666666,\"#ed7953\"],[0.7777777777777778,\"#fb9f3a\"],[0.8888888888888888,\"#fdca26\"],[1.0,\"#f0f921\"]],\"type\":\"heatmapgl\"}],\"heatmap\":[{\"colorbar\":{\"outlinewidth\":0,\"ticks\":\"\"},\"colorscale\":[[0.0,\"#0d0887\"],[0.1111111111111111,\"#46039f\"],[0.2222222222222222,\"#7201a8\"],[0.3333333333333333,\"#9c179e\"],[0.4444444444444444,\"#bd3786\"],[0.5555555555555556,\"#d8576b\"],[0.6666666666666666,\"#ed7953\"],[0.7777777777777778,\"#fb9f3a\"],[0.8888888888888888,\"#fdca26\"],[1.0,\"#f0f921\"]],\"type\":\"heatmap\"}],\"histogram2dcontour\":[{\"colorbar\":{\"outlinewidth\":0,\"ticks\":\"\"},\"colorscale\":[[0.0,\"#0d0887\"],[0.1111111111111111,\"#46039f\"],[0.2222222222222222,\"#7201a8\"],[0.3333333333333333,\"#9c179e\"],[0.4444444444444444,\"#bd3786\"],[0.5555555555555556,\"#d8576b\"],[0.6666666666666666,\"#ed7953\"],[0.7777777777777778,\"#fb9f3a\"],[0.8888888888888888,\"#fdca26\"],[1.0,\"#f0f921\"]],\"type\":\"histogram2dcontour\"}],\"histogram2d\":[{\"colorbar\":{\"outlinewidth\":0,\"ticks\":\"\"},\"colorscale\":[[0.0,\"#0d0887\"],[0.1111111111111111,\"#46039f\"],[0.2222222222222222,\"#7201a8\"],[0.3333333333333333,\"#9c179e\"],[0.4444444444444444,\"#bd3786\"],[0.5555555555555556,\"#d8576b\"],[0.6666666666666666,\"#ed7953\"],[0.7777777777777778,\"#fb9f3a\"],[0.8888888888888888,\"#fdca26\"],[1.0,\"#f0f921\"]],\"type\":\"histogram2d\"}],\"histogram\":[{\"marker\":{\"pattern\":{\"fillmode\":\"overlay\",\"size\":10,\"solidity\":0.2}},\"type\":\"histogram\"}],\"mesh3d\":[{\"colorbar\":{\"outlinewidth\":0,\"ticks\":\"\"},\"type\":\"mesh3d\"}],\"parcoords\":[{\"line\":{\"colorbar\":{\"outlinewidth\":0,\"ticks\":\"\"}},\"type\":\"parcoords\"}],\"pie\":[{\"automargin\":true,\"type\":\"pie\"}],\"scatter3d\":[{\"line\":{\"colorbar\":{\"outlinewidth\":0,\"ticks\":\"\"}},\"marker\":{\"colorbar\":{\"outlinewidth\":0,\"ticks\":\"\"}},\"type\":\"scatter3d\"}],\"scattercarpet\":[{\"marker\":{\"colorbar\":{\"outlinewidth\":0,\"ticks\":\"\"}},\"type\":\"scattercarpet\"}],\"scattergeo\":[{\"marker\":{\"colorbar\":{\"outlinewidth\":0,\"ticks\":\"\"}},\"type\":\"scattergeo\"}],\"scattergl\":[{\"marker\":{\"colorbar\":{\"outlinewidth\":0,\"ticks\":\"\"}},\"type\":\"scattergl\"}],\"scattermapbox\":[{\"marker\":{\"colorbar\":{\"outlinewidth\":0,\"ticks\":\"\"}},\"type\":\"scattermapbox\"}],\"scatterpolargl\":[{\"marker\":{\"colorbar\":{\"outlinewidth\":0,\"ticks\":\"\"}},\"type\":\"scatterpolargl\"}],\"scatterpolar\":[{\"marker\":{\"colorbar\":{\"outlinewidth\":0,\"ticks\":\"\"}},\"type\":\"scatterpolar\"}],\"scatter\":[{\"marker\":{\"colorbar\":{\"outlinewidth\":0,\"ticks\":\"\"}},\"type\":\"scatter\"}],\"scatterternary\":[{\"marker\":{\"colorbar\":{\"outlinewidth\":0,\"ticks\":\"\"}},\"type\":\"scatterternary\"}],\"surface\":[{\"colorbar\":{\"outlinewidth\":0,\"ticks\":\"\"},\"colorscale\":[[0.0,\"#0d0887\"],[0.1111111111111111,\"#46039f\"],[0.2222222222222222,\"#7201a8\"],[0.3333333333333333,\"#9c179e\"],[0.4444444444444444,\"#bd3786\"],[0.5555555555555556,\"#d8576b\"],[0.6666666666666666,\"#ed7953\"],[0.7777777777777778,\"#fb9f3a\"],[0.8888888888888888,\"#fdca26\"],[1.0,\"#f0f921\"]],\"type\":\"surface\"}],\"table\":[{\"cells\":{\"fill\":{\"color\":\"#EBF0F8\"},\"line\":{\"color\":\"white\"}},\"header\":{\"fill\":{\"color\":\"#C8D4E3\"},\"line\":{\"color\":\"white\"}},\"type\":\"table\"}]},\"layout\":{\"annotationdefaults\":{\"arrowcolor\":\"#2a3f5f\",\"arrowhead\":0,\"arrowwidth\":1},\"autotypenumbers\":\"strict\",\"coloraxis\":{\"colorbar\":{\"outlinewidth\":0,\"ticks\":\"\"}},\"colorscale\":{\"diverging\":[[0,\"#8e0152\"],[0.1,\"#c51b7d\"],[0.2,\"#de77ae\"],[0.3,\"#f1b6da\"],[0.4,\"#fde0ef\"],[0.5,\"#f7f7f7\"],[0.6,\"#e6f5d0\"],[0.7,\"#b8e186\"],[0.8,\"#7fbc41\"],[0.9,\"#4d9221\"],[1,\"#276419\"]],\"sequential\":[[0.0,\"#0d0887\"],[0.1111111111111111,\"#46039f\"],[0.2222222222222222,\"#7201a8\"],[0.3333333333333333,\"#9c179e\"],[0.4444444444444444,\"#bd3786\"],[0.5555555555555556,\"#d8576b\"],[0.6666666666666666,\"#ed7953\"],[0.7777777777777778,\"#fb9f3a\"],[0.8888888888888888,\"#fdca26\"],[1.0,\"#f0f921\"]],\"sequentialminus\":[[0.0,\"#0d0887\"],[0.1111111111111111,\"#46039f\"],[0.2222222222222222,\"#7201a8\"],[0.3333333333333333,\"#9c179e\"],[0.4444444444444444,\"#bd3786\"],[0.5555555555555556,\"#d8576b\"],[0.6666666666666666,\"#ed7953\"],[0.7777777777777778,\"#fb9f3a\"],[0.8888888888888888,\"#fdca26\"],[1.0,\"#f0f921\"]]},\"colorway\":[\"#636efa\",\"#EF553B\",\"#00cc96\",\"#ab63fa\",\"#FFA15A\",\"#19d3f3\",\"#FF6692\",\"#B6E880\",\"#FF97FF\",\"#FECB52\"],\"font\":{\"color\":\"#2a3f5f\"},\"geo\":{\"bgcolor\":\"white\",\"lakecolor\":\"white\",\"landcolor\":\"white\",\"showlakes\":true,\"showland\":true,\"subunitcolor\":\"#C8D4E3\"},\"hoverlabel\":{\"align\":\"left\"},\"hovermode\":\"closest\",\"mapbox\":{\"style\":\"light\"},\"paper_bgcolor\":\"white\",\"plot_bgcolor\":\"white\",\"polar\":{\"angularaxis\":{\"gridcolor\":\"#EBF0F8\",\"linecolor\":\"#EBF0F8\",\"ticks\":\"\"},\"bgcolor\":\"white\",\"radialaxis\":{\"gridcolor\":\"#EBF0F8\",\"linecolor\":\"#EBF0F8\",\"ticks\":\"\"}},\"scene\":{\"xaxis\":{\"backgroundcolor\":\"white\",\"gridcolor\":\"#DFE8F3\",\"gridwidth\":2,\"linecolor\":\"#EBF0F8\",\"showbackground\":true,\"ticks\":\"\",\"zerolinecolor\":\"#EBF0F8\"},\"yaxis\":{\"backgroundcolor\":\"white\",\"gridcolor\":\"#DFE8F3\",\"gridwidth\":2,\"linecolor\":\"#EBF0F8\",\"showbackground\":true,\"ticks\":\"\",\"zerolinecolor\":\"#EBF0F8\"},\"zaxis\":{\"backgroundcolor\":\"white\",\"gridcolor\":\"#DFE8F3\",\"gridwidth\":2,\"linecolor\":\"#EBF0F8\",\"showbackground\":true,\"ticks\":\"\",\"zerolinecolor\":\"#EBF0F8\"}},\"shapedefaults\":{\"line\":{\"color\":\"#2a3f5f\"}},\"ternary\":{\"aaxis\":{\"gridcolor\":\"#DFE8F3\",\"linecolor\":\"#A2B1C6\",\"ticks\":\"\"},\"baxis\":{\"gridcolor\":\"#DFE8F3\",\"linecolor\":\"#A2B1C6\",\"ticks\":\"\"},\"bgcolor\":\"white\",\"caxis\":{\"gridcolor\":\"#DFE8F3\",\"linecolor\":\"#A2B1C6\",\"ticks\":\"\"}},\"title\":{\"x\":0.05},\"xaxis\":{\"automargin\":true,\"gridcolor\":\"#EBF0F8\",\"linecolor\":\"#EBF0F8\",\"ticks\":\"\",\"title\":{\"standoff\":15},\"zerolinecolor\":\"#EBF0F8\",\"zerolinewidth\":2},\"yaxis\":{\"automargin\":true,\"gridcolor\":\"#EBF0F8\",\"linecolor\":\"#EBF0F8\",\"ticks\":\"\",\"title\":{\"standoff\":15},\"zerolinecolor\":\"#EBF0F8\",\"zerolinewidth\":2}}},\"xaxis\":{\"anchor\":\"y\",\"domain\":[0.0,1.0],\"title\":{\"text\":\"Feature Importance\"},\"tickfont\":{\"size\":20},\"visible\":true},\"yaxis\":{\"anchor\":\"x\",\"domain\":[0.0,1.0],\"title\":{\"text\":\"Markers\"},\"tickfont\":{\"size\":20},\"automargin\":true},\"legend\":{\"tracegroupgap\":0},\"margin\":{\"t\":60},\"font\":{\"family\":\"Times new roman\",\"size\":20,\"color\":\"black\"},\"width\":650,\"height\":900,\"showlegend\":true},                        {\"responsive\": true}                    ).then(function(){\n",
       "                            \n",
       "var gd = document.getElementById('e7f0c1c8-83d4-4fdb-904e-cc795dd57211');\n",
       "var x = new MutationObserver(function (mutations, observer) {{\n",
       "        var display = window.getComputedStyle(gd).display;\n",
       "        if (!display || display === 'none') {{\n",
       "            console.log([gd, 'removed!']);\n",
       "            Plotly.purge(gd);\n",
       "            observer.disconnect();\n",
       "        }}\n",
       "}});\n",
       "\n",
       "// Listen for the removal of the full notebook cells\n",
       "var notebookContainer = gd.closest('#notebook-container');\n",
       "if (notebookContainer) {{\n",
       "    x.observe(notebookContainer, {childList: true});\n",
       "}}\n",
       "\n",
       "// Listen for the clearing of the current output cell\n",
       "var outputEl = gd.closest('.output');\n",
       "if (outputEl) {{\n",
       "    x.observe(outputEl, {childList: true});\n",
       "}}\n",
       "\n",
       "                        })                };                });            </script>        </div>"
      ]
     },
     "metadata": {},
     "output_type": "display_data"
    }
   ],
   "source": [
    "fig = px.scatter(feat_import_mw.sort_values(by = 'mean_importance').tail(10),x = 'mean_importance', y = 'features', template = \"plotly_white\",\n",
    "                  color_discrete_sequence = [lblue],\n",
    "\n",
    "                 category_orders = {'significant': ['p > 0.05','p < 0.05 uncorrected', 'p < 0.05 FDR corrected']}, \n",
    "                 labels = {'value':'Feature importance', 'features': 'Markers'}\n",
    "\n",
    "                )\n",
    "\n",
    "fig.update_traces(marker=dict(size = 8))\n",
    "\n",
    "fig.update_layout(\n",
    "    width=650,\n",
    "    height=900,\n",
    "#     autosize = True, \n",
    "    template = 'plotly_white',\n",
    "        font=dict(\n",
    "        family=\"Times new roman\",\n",
    "        size=20,\n",
    "        color=\"black\"\n",
    "    ),\n",
    "    xaxis = dict(\n",
    "            visible=True,\n",
    "            # range = [0.37,0.63], \n",
    "            tickfont = {\"size\": 20},\n",
    "            title = 'Feature Importance'\n",
    "        ),\n",
    "    yaxis = dict(\n",
    "        tickfont = {\"size\": 20},\n",
    "        # autorange = False,    \n",
    "        automargin = True,\n",
    "        # range = [-1,len(feat_import_mw)],\n",
    "        # dtick = 1\n",
    "        ),\n",
    "    showlegend=True, \n",
    "\n",
    ")\n",
    "\n",
    "fig.show()\n",
    "# pio.write_json(fig, 'Figs/univariate_roc_mw_segment.plotly')\n",
    "fig.write_image('Figs/feat_importance_mw.png')\n",
    "fig.write_image(\"Figs/feat_importance_mw.svg\")"
   ]
  },
  {
   "cell_type": "markdown",
   "id": "humanitarian-locator",
   "metadata": {},
   "source": [
    "## Probe Caught vs Self-Caught\n"
   ]
  },
  {
   "cell_type": "code",
   "execution_count": 22,
   "id": "fresh-fellow",
   "metadata": {},
   "outputs": [],
   "source": [
    "agg_dict = {k:['mean', 'std'] for k in markers }\n",
    "agg_dict.update({k:'first' for k in df_markers.drop(markers, axis=1).columns})\n",
    "\n",
    "df_probe = (\n",
    "    df_markers\n",
    "    .query(\"mind != 'on-task'\")\n",
    "    .groupby(['segment', 'participant'], as_index = False).agg(agg_dict)\n",
    ")\n",
    "\n",
    "# df_probe.columns = df_probe.columns.map(\"_\".join)\n",
    "\n",
    "# df_probe  = (df_probe\n",
    "#             .rename(columns = {'participant_first':'participant', 'probe_first':'probe', 'mind_first':'mind', 'segment_first':'segment'})\n",
    "#             .drop(['participant', 'mind', 'segment'], axis = 1) \n",
    "#            )\n",
    "\n",
    "#### Use latex command for nmaes###\n",
    "##it slow downs the computer, just for final figures.\n",
    "\n",
    "df_probe = correct_name_markers(df_probe)\n",
    "\n",
    "df_probe.columns = df_probe.columns.map(\"$_{\".join).map(lambda x: x + '}$').map(lambda x: x.replace('$$', ''))\n",
    "\n",
    "df_probe  = (df_probe\n",
    "            .rename(columns = {'participant$_{first}$':'participant', 'probe$_{first}$':'probe', 'mind$_{first}$':'mind', 'segment$_{first}$':'segment'})\n",
    "           \n",
    "            .drop(['participant', 'mind', 'segment'], axis = 1) \n",
    "           )\n",
    "\n",
    "\n",
    "rus = RandomUnderSampler(random_state=42, replacement=True)# fit predictor and target variable\n",
    "\n",
    "probe_rus = rus.fit_resample(df_probe.drop('probe', axis = 1).astype(\"float32\").values, df_probe.probe)\n",
    "\n",
    "df_probe_rus = pd.DataFrame(probe_rus[0], columns =df_probe.drop('probe', axis = 1).columns ).assign(probe = probe_rus[1])\n",
    "\n",
    "\n",
    "ros = SMOTE(random_state=42)# fit predictor and target variable\n",
    "\n",
    "probe_ros = ros.fit_resample(df_probe.drop('probe', axis = 1).astype(\"float32\").values, df_probe.probe)\n",
    "\n",
    "df_probe_ros = pd.DataFrame(probe_ros[0], columns =df_probe.drop('probe', axis = 1).columns ).assign(probe = probe_ros[1])"
   ]
  },
  {
   "cell_type": "code",
   "execution_count": 23,
   "id": "imperial-oxide",
   "metadata": {},
   "outputs": [
    {
     "ename": "NameError",
     "evalue": "name 'df_auc' is not defined",
     "output_type": "error",
     "traceback": [
      "\u001b[0;31m---------------------------------------------------------------------------\u001b[0m",
      "\u001b[0;31mNameError\u001b[0m                                 Traceback (most recent call last)",
      "\u001b[1;32m/Users/nicobruno/mw_markers_project/multivariate_analysis.ipynb Cell 31\u001b[0m in \u001b[0;36m<module>\u001b[0;34m\u001b[0m\n\u001b[1;32m     <a href='vscode-notebook-cell:/Users/nicobruno/mw_markers_project/multivariate_analysis.ipynb#ch0000030?line=26'>27</a>\u001b[0m aucs \u001b[39m=\u001b[39m cross_val_score(\n\u001b[1;32m     <a href='vscode-notebook-cell:/Users/nicobruno/mw_markers_project/multivariate_analysis.ipynb#ch0000030?line=27'>28</a>\u001b[0m     X\u001b[39m=\u001b[39mX, y\u001b[39m=\u001b[39my, estimator\u001b[39m=\u001b[39mpipe_cv,\n\u001b[1;32m     <a href='vscode-notebook-cell:/Users/nicobruno/mw_markers_project/multivariate_analysis.ipynb#ch0000030?line=28'>29</a>\u001b[0m     scoring\u001b[39m=\u001b[39m\u001b[39m'\u001b[39m\u001b[39mroc_auc\u001b[39m\u001b[39m'\u001b[39m, cv\u001b[39m=\u001b[39mcv,  n_jobs \u001b[39m=\u001b[39m \u001b[39m-\u001b[39m\u001b[39m1\u001b[39m)\n\u001b[1;32m     <a href='vscode-notebook-cell:/Users/nicobruno/mw_markers_project/multivariate_analysis.ipynb#ch0000030?line=31'>32</a>\u001b[0m df_forest_probe_rus \u001b[39m=\u001b[39m pd\u001b[39m.\u001b[39mDataFrame(aucs, columns\u001b[39m=\u001b[39m[\u001b[39m\"\u001b[39m\u001b[39mauc\u001b[39m\u001b[39m\"\u001b[39m])\n\u001b[0;32m---> <a href='vscode-notebook-cell:/Users/nicobruno/mw_markers_project/multivariate_analysis.ipynb#ch0000030?line=34'>35</a>\u001b[0m sns\u001b[39m.\u001b[39mcatplot(x \u001b[39m=\u001b[39m \u001b[39m'\u001b[39m\u001b[39mauc\u001b[39m\u001b[39m'\u001b[39m, orient \u001b[39m=\u001b[39m \u001b[39m'\u001b[39m\u001b[39mh\u001b[39m\u001b[39m'\u001b[39m, data \u001b[39m=\u001b[39m df_auc, kind \u001b[39m=\u001b[39m \u001b[39m'\u001b[39m\u001b[39mviolin\u001b[39m\u001b[39m'\u001b[39m)\n\u001b[1;32m     <a href='vscode-notebook-cell:/Users/nicobruno/mw_markers_project/multivariate_analysis.ipynb#ch0000030?line=35'>36</a>\u001b[0m plt\u001b[39m.\u001b[39mtitle(\u001b[39mf\u001b[39m\u001b[39m'\u001b[39m\u001b[39mMean = \u001b[39m\u001b[39m{\u001b[39;00mnp\u001b[39m.\u001b[39mmean(df_auc\u001b[39m.\u001b[39mauc)\u001b[39m}\u001b[39;00m\u001b[39m; SD = \u001b[39m\u001b[39m{\u001b[39;00mnp\u001b[39m.\u001b[39mstd(df_auc\u001b[39m.\u001b[39mauc)\u001b[39m}\u001b[39;00m\u001b[39m'\u001b[39m)\n\u001b[1;32m     <a href='vscode-notebook-cell:/Users/nicobruno/mw_markers_project/multivariate_analysis.ipynb#ch0000030?line=36'>37</a>\u001b[0m plt\u001b[39m.\u001b[39maxvline(x \u001b[39m=\u001b[39m \u001b[39m0.5\u001b[39m, linestyle \u001b[39m=\u001b[39m \u001b[39m'\u001b[39m\u001b[39mdashed\u001b[39m\u001b[39m'\u001b[39m)\n",
      "\u001b[0;31mNameError\u001b[0m: name 'df_auc' is not defined"
     ]
    }
   ],
   "source": [
    "data = df_probe\n",
    "label = 'probe'\n",
    "features = df_probe.drop('probe', axis = 1).columns\n",
    "cv_splits = 5\n",
    "n_permutations = 1000\n",
    "\n",
    "#pipeline steps init\n",
    "steps = [(\"scaler\", StandardScaler())]\n",
    "\n",
    "steps.append(('rus', RandomUnderSampler(random_state=42, replacement=True) ))\n",
    "\n",
    "\n",
    "\n",
    "y, lbl = pd.factorize(data[label])\n",
    "X = data[features].astype(\"float32\").values\n",
    "    \n",
    "n_estimators = 1000\n",
    "steps.append(('Forest',ExtraTreesClassifier(\n",
    "        n_estimators=n_estimators, max_features=1, criterion='entropy',\n",
    "        max_depth=None, random_state=42, class_weight=None)))\n",
    "\n",
    "pipe_cv = imb_pipeline(steps)\n",
    "\n",
    "cv = KFold(cv_splits, shuffle=True, random_state = 42)\n",
    "\n",
    "\n",
    "aucs = cross_val_score(\n",
    "    X=X, y=y, estimator=pipe_cv,\n",
    "    scoring='roc_auc', cv=cv,  n_jobs = -1)\n",
    "\n",
    "\n",
    "df_forest_probe_rus = pd.DataFrame(aucs, columns=[\"auc\"])\n",
    "\n",
    "\n",
    "sns.catplot(x = 'auc', orient = 'h', data = df_auc, kind = 'violin')\n",
    "plt.title(f'Mean = {np.mean(df_auc.auc)}; SD = {np.std(df_auc.auc)}')\n",
    "plt.axvline(x = 0.5, linestyle = 'dashed')\n",
    "plt.show()\n",
    "\n",
    "\n",
    "# Feature importance\n",
    "\n",
    "pipe_cv.fit(X, y)\n",
    "variable_importance = pipe_cv.steps[-1][-1].feature_importances_\n",
    "sorter = variable_importance.argsort()\n",
    "\n",
    "feat_imp_probe_rus = pd.DataFrame(np.array([features,variable_importance]).T, \n",
    "                           columns = ['features', 'value']).sort_values('value', ascending = False)\n",
    "\n",
    "sns.scatterplot(x = feat_import.value, y =feat_import.features)\n",
    "plt.title(f'AUC = {np.mean(df_auc.auc)}')\n",
    "plt.show()\n",
    "\n",
    "\n",
    "score, perm_scores, pvalue = permutation_test_score(\n",
    "    pipe_cv, X, y, scoring=\"roc_auc\", cv=cv, n_permutations=n_permutations, random_state = 42, n_jobs= -1\n",
    ")\n",
    "\n",
    "\n",
    "print(f\"p_value = {pvalue}\")\n",
    "\n",
    "plt.hist(perm_scores, bins=20, density=True)\n",
    "plt.axvline(score, ls=\"--\", color=\"r\")\n",
    "score_label = (\n",
    "    f\"Score on original\\ndata: {score:.2f}\\n\" f\"(p-value: {pvalue:.3f})\"\n",
    ")\n",
    "plt.text(score, np.max(perm_scores), score_label, fontsize=12)\n",
    "plt.xlabel(\"Accuracy score\")\n",
    "plt.ylabel(\"Probability\")\n",
    "plt.show()"
   ]
  },
  {
   "cell_type": "code",
   "execution_count": null,
   "id": "decreased-elizabeth",
   "metadata": {},
   "outputs": [
    {
     "data": {
      "image/png": "[encoded data removed]",
      "text/plain": [
       "<Figure size 360x360 with 1 Axes>"
      ]
     },
     "metadata": {},
     "output_type": "display_data"
    },
    {
     "data": {
      "image/png": "[encoded data removed]",
      "text/plain": [
       "<Figure size 864x648 with 1 Axes>"
      ]
     },
     "metadata": {},
     "output_type": "display_data"
    }
   ],
   "source": [
    "data = df_probe\n",
    "label = 'probe'\n",
    "features = df_probe.drop('probe', axis = 1).columns\n",
    "cv_splits = 5\n",
    "n_permutations = 1000\n",
    "\n",
    "#pipeline steps init\n",
    "steps = [(\"scaler\", StandardScaler())]\n",
    "\n",
    "steps.append(('ros', SMOTE(random_state=42)))\n",
    "\n",
    "\n",
    "\n",
    "y, lbl = pd.factorize(data[label])\n",
    "X = data[features].astype(\"float32\").values\n",
    "    \n",
    "n_estimators = 1000\n",
    "steps.append(('Forest',ExtraTreesClassifier(\n",
    "        n_estimators=n_estimators, max_features=1, criterion='entropy',\n",
    "        max_depth=None, random_state=42, class_weight=None)))\n",
    "\n",
    "pipe_cv = imb_pipeline(steps)\n",
    "\n",
    "cv = KFold(cv_splits, shuffle=True, random_state = 42)\n",
    "\n",
    "\n",
    "aucs = cross_val_score(\n",
    "    X=X, y=y, estimator=pipe_cv,\n",
    "    scoring='roc_auc', cv=cv,  n_jobs = -1)\n",
    "\n",
    "\n",
    "df_forest_probe_ros = pd.DataFrame(aucs, columns=[\"auc\"])\n",
    "\n",
    "\n",
    "sns.catplot(x = 'auc', orient = 'h', data = df_forest_probe_ros, kind = 'violin')\n",
    "plt.title(f'Mean = {np.mean(df_forest_probe_ros.auc)}; SD = {np.std(df_forest_probe_ros.auc)}')\n",
    "plt.axvline(x = 0.5, linestyle = 'dashed')\n",
    "plt.show()\n",
    "\n",
    "\n",
    "# Feature importance\n",
    "\n",
    "pipe_cv.fit(X, y)\n",
    "variable_importance = pipe_cv.steps[-1][-1].feature_importances_\n",
    "sorter = variable_importance.argsort()\n",
    "\n",
    "feat_imp_probe_ros = pd.DataFrame(np.array([features,variable_importance]).T, \n",
    "                           columns = ['features', 'value']).sort_values('value', ascending = False)\n",
    "\n",
    "sns.scatterplot(x = feat_imp_probe_ros.value, y =feat_imp_probe_ros.features)\n",
    "plt.title(f'AUC = {np.mean(df_auc.auc)}')\n",
    "plt.show()\n",
    "\n",
    "\n",
    "# score, perm_scores, pvalue = permutation_test_score(\n",
    "#     pipe_cv, X, y, scoring=\"roc_auc\", cv=cv, n_permutations=n_permutations, random_state = 42, n_jobs= -1\n",
    "# )\n",
    "\n",
    "\n",
    "# print(f\"p_value = {pvalue}\")\n",
    "\n",
    "# plt.hist(perm_scores, bins=20, density=True)\n",
    "# plt.axvline(score, ls=\"--\", color=\"r\")\n",
    "# score_label = (\n",
    "#     f\"Score on original\\ndata: {score:.2f}\\n\" f\"(p-value: {pvalue:.3f})\"\n",
    "# )\n",
    "# plt.text(score, np.max(perm_scores), score_label, fontsize=12)\n",
    "# plt.xlabel(\"Accuracy score\")\n",
    "# plt.ylabel(\"Probability\")\n",
    "# plt.show()"
   ]
  },
  {
   "cell_type": "code",
   "execution_count": null,
   "id": "differential-classification",
   "metadata": {},
   "outputs": [],
   "source": [
    "df_forest_probe_ros['balance'] = 'over-sample' \n",
    "df_forest_probe_rus['balance'] = 'under-sample' \n",
    "\n",
    "df_forest_probe = pd.concat([df_forest_probe_rus, df_forest_probe_ros])"
   ]
  },
  {
   "cell_type": "code",
   "execution_count": null,
   "id": "celtic-linux",
   "metadata": {},
   "outputs": [
    {
     "data": {
      "application/vnd.plotly.v1+json": {
       "config": {
        "plotlyServerURL": "https://plot.ly"
       },
       "data": [
        {
         "alignmentgroup": "True",
         "box": {
          "visible": true
         },
         "hovertemplate": "balance=under-sample<br>AUC=%{x}<extra></extra>",
         "legendgroup": "",
         "marker": {
          "color": "#F38A31"
         },
         "name": "",
         "offsetgroup": "",
         "orientation": "h",
         "points": "all",
         "scalegroup": "True",
         "showlegend": false,
         "type": "violin",
         "x": [
          0.5720175920835625,
          0.7345387840670861,
          0.7366898148148147,
          0.6814814814814815,
          0.7982517482517482
         ],
         "x0": " ",
         "xaxis": "x",
         "y0": " ",
         "yaxis": "y"
        },
        {
         "alignmentgroup": "True",
         "box": {
          "visible": true
         },
         "hovertemplate": "balance=over-sample<br>AUC=%{x}<extra></extra>",
         "legendgroup": "",
         "marker": {
          "color": "#F38A31"
         },
         "name": "",
         "offsetgroup": "",
         "orientation": "h",
         "points": "all",
         "scalegroup": "True",
         "showlegend": false,
         "type": "violin",
         "x": [
          0.5420560747663552,
          0.7927148846960167,
          0.7285879629629629,
          0.7134920634920635,
          0.7986013986013987
         ],
         "x0": " ",
         "xaxis": "x2",
         "y0": " ",
         "yaxis": "y2"
        }
       ],
       "layout": {
        "annotations": [
         {
          "showarrow": false,
          "text": "balance=under-sample",
          "x": 0.245,
          "xanchor": "center",
          "xref": "paper",
          "y": 1,
          "yanchor": "bottom",
          "yref": "paper"
         },
         {
          "showarrow": false,
          "text": "balance=over-sample",
          "x": 0.755,
          "xanchor": "center",
          "xref": "paper",
          "y": 1,
          "yanchor": "bottom",
          "yref": "paper"
         }
        ],
        "autosize": true,
        "height": 800,
        "legend": {
         "tracegroupgap": 0
        },
        "margin": {
         "t": 60
        },
        "shapes": [
         {
          "line": {
           "color": "grey",
           "dash": "dash",
           "width": 3
          },
          "type": "line",
          "x0": 0.5,
          "x1": 0.5,
          "xref": "x",
          "y0": 0,
          "y1": 1,
          "yref": "y domain"
         },
         {
          "line": {
           "color": "grey",
           "dash": "dash",
           "width": 3
          },
          "type": "line",
          "x0": 0.5,
          "x1": 0.5,
          "xref": "x2",
          "y0": 0,
          "y1": 1,
          "yref": "y2 domain"
         }
        ],
        "template": {
         "data": {
          "bar": [
           {
            "error_x": {
             "color": "#2a3f5f"
            },
            "error_y": {
             "color": "#2a3f5f"
            },
            "marker": {
             "line": {
              "color": "white",
              "width": 0.5
             }
            },
            "type": "bar"
           }
          ],
          "barpolar": [
           {
            "marker": {
             "line": {
              "color": "white",
              "width": 0.5
             }
            },
            "type": "barpolar"
           }
          ],
          "carpet": [
           {
            "aaxis": {
             "endlinecolor": "#2a3f5f",
             "gridcolor": "#C8D4E3",
             "linecolor": "#C8D4E3",
             "minorgridcolor": "#C8D4E3",
             "startlinecolor": "#2a3f5f"
            },
            "baxis": {
             "endlinecolor": "#2a3f5f",
             "gridcolor": "#C8D4E3",
             "linecolor": "#C8D4E3",
             "minorgridcolor": "#C8D4E3",
             "startlinecolor": "#2a3f5f"
            },
            "type": "carpet"
           }
          ],
          "choropleth": [
           {
            "colorbar": {
             "outlinewidth": 0,
             "ticks": ""
            },
            "type": "choropleth"
           }
          ],
          "contour": [
           {
            "colorbar": {
             "outlinewidth": 0,
             "ticks": ""
            },
            "colorscale": [
             [
              0,
              "#0d0887"
             ],
             [
              0.1111111111111111,
              "#46039f"
             ],
             [
              0.2222222222222222,
              "#7201a8"
             ],
             [
              0.3333333333333333,
              "#9c179e"
             ],
             [
              0.4444444444444444,
              "#bd3786"
             ],
             [
              0.5555555555555556,
              "#d8576b"
             ],
             [
              0.6666666666666666,
              "#ed7953"
             ],
             [
              0.7777777777777778,
              "#fb9f3a"
             ],
             [
              0.8888888888888888,
              "#fdca26"
             ],
             [
              1,
              "#f0f921"
             ]
            ],
            "type": "contour"
           }
          ],
          "contourcarpet": [
           {
            "colorbar": {
             "outlinewidth": 0,
             "ticks": ""
            },
            "type": "contourcarpet"
           }
          ],
          "heatmap": [
           {
            "colorbar": {
             "outlinewidth": 0,
             "ticks": ""
            },
            "colorscale": [
             [
              0,
              "#0d0887"
             ],
             [
              0.1111111111111111,
              "#46039f"
             ],
             [
              0.2222222222222222,
              "#7201a8"
             ],
             [
              0.3333333333333333,
              "#9c179e"
             ],
             [
              0.4444444444444444,
              "#bd3786"
             ],
             [
              0.5555555555555556,
              "#d8576b"
             ],
             [
              0.6666666666666666,
              "#ed7953"
             ],
             [
              0.7777777777777778,
              "#fb9f3a"
             ],
             [
              0.8888888888888888,
              "#fdca26"
             ],
             [
              1,
              "#f0f921"
             ]
            ],
            "type": "heatmap"
           }
          ],
          "heatmapgl": [
           {
            "colorbar": {
             "outlinewidth": 0,
             "ticks": ""
            },
            "colorscale": [
             [
              0,
              "#0d0887"
             ],
             [
              0.1111111111111111,
              "#46039f"
             ],
             [
              0.2222222222222222,
              "#7201a8"
             ],
             [
              0.3333333333333333,
              "#9c179e"
             ],
             [
              0.4444444444444444,
              "#bd3786"
             ],
             [
              0.5555555555555556,
              "#d8576b"
             ],
             [
              0.6666666666666666,
              "#ed7953"
             ],
             [
              0.7777777777777778,
              "#fb9f3a"
             ],
             [
              0.8888888888888888,
              "#fdca26"
             ],
             [
              1,
              "#f0f921"
             ]
            ],
            "type": "heatmapgl"
           }
          ],
          "histogram": [
           {
            "marker": {
             "colorbar": {
              "outlinewidth": 0,
              "ticks": ""
             }
            },
            "type": "histogram"
           }
          ],
          "histogram2d": [
           {
            "colorbar": {
             "outlinewidth": 0,
             "ticks": ""
            },
            "colorscale": [
             [
              0,
              "#0d0887"
             ],
             [
              0.1111111111111111,
              "#46039f"
             ],
             [
              0.2222222222222222,
              "#7201a8"
             ],
             [
              0.3333333333333333,
              "#9c179e"
             ],
             [
              0.4444444444444444,
              "#bd3786"
             ],
             [
              0.5555555555555556,
              "#d8576b"
             ],
             [
              0.6666666666666666,
              "#ed7953"
             ],
             [
              0.7777777777777778,
              "#fb9f3a"
             ],
             [
              0.8888888888888888,
              "#fdca26"
             ],
             [
              1,
              "#f0f921"
             ]
            ],
            "type": "histogram2d"
           }
          ],
          "histogram2dcontour": [
           {
            "colorbar": {
             "outlinewidth": 0,
             "ticks": ""
            },
            "colorscale": [
             [
              0,
              "#0d0887"
             ],
             [
              0.1111111111111111,
              "#46039f"
             ],
             [
              0.2222222222222222,
              "#7201a8"
             ],
             [
              0.3333333333333333,
              "#9c179e"
             ],
             [
              0.4444444444444444,
              "#bd3786"
             ],
             [
              0.5555555555555556,
              "#d8576b"
             ],
             [
              0.6666666666666666,
              "#ed7953"
             ],
             [
              0.7777777777777778,
              "#fb9f3a"
             ],
             [
              0.8888888888888888,
              "#fdca26"
             ],
             [
              1,
              "#f0f921"
             ]
            ],
            "type": "histogram2dcontour"
           }
          ],
          "mesh3d": [
           {
            "colorbar": {
             "outlinewidth": 0,
             "ticks": ""
            },
            "type": "mesh3d"
           }
          ],
          "parcoords": [
           {
            "line": {
             "colorbar": {
              "outlinewidth": 0,
              "ticks": ""
             }
            },
            "type": "parcoords"
           }
          ],
          "pie": [
           {
            "automargin": true,
            "type": "pie"
           }
          ],
          "scatter": [
           {
            "marker": {
             "colorbar": {
              "outlinewidth": 0,
              "ticks": ""
             }
            },
            "type": "scatter"
           }
          ],
          "scatter3d": [
           {
            "line": {
             "colorbar": {
              "outlinewidth": 0,
              "ticks": ""
             }
            },
            "marker": {
             "colorbar": {
              "outlinewidth": 0,
              "ticks": ""
             }
            },
            "type": "scatter3d"
           }
          ],
          "scattercarpet": [
           {
            "marker": {
             "colorbar": {
              "outlinewidth": 0,
              "ticks": ""
             }
            },
            "type": "scattercarpet"
           }
          ],
          "scattergeo": [
           {
            "marker": {
             "colorbar": {
              "outlinewidth": 0,
              "ticks": ""
             }
            },
            "type": "scattergeo"
           }
          ],
          "scattergl": [
           {
            "marker": {
             "colorbar": {
              "outlinewidth": 0,
              "ticks": ""
             }
            },
            "type": "scattergl"
           }
          ],
          "scattermapbox": [
           {
            "marker": {
             "colorbar": {
              "outlinewidth": 0,
              "ticks": ""
             }
            },
            "type": "scattermapbox"
           }
          ],
          "scatterpolar": [
           {
            "marker": {
             "colorbar": {
              "outlinewidth": 0,
              "ticks": ""
             }
            },
            "type": "scatterpolar"
           }
          ],
          "scatterpolargl": [
           {
            "marker": {
             "colorbar": {
              "outlinewidth": 0,
              "ticks": ""
             }
            },
            "type": "scatterpolargl"
           }
          ],
          "scatterternary": [
           {
            "marker": {
             "colorbar": {
              "outlinewidth": 0,
              "ticks": ""
             }
            },
            "type": "scatterternary"
           }
          ],
          "surface": [
           {
            "colorbar": {
             "outlinewidth": 0,
             "ticks": ""
            },
            "colorscale": [
             [
              0,
              "#0d0887"
             ],
             [
              0.1111111111111111,
              "#46039f"
             ],
             [
              0.2222222222222222,
              "#7201a8"
             ],
             [
              0.3333333333333333,
              "#9c179e"
             ],
             [
              0.4444444444444444,
              "#bd3786"
             ],
             [
              0.5555555555555556,
              "#d8576b"
             ],
             [
              0.6666666666666666,
              "#ed7953"
             ],
             [
              0.7777777777777778,
              "#fb9f3a"
             ],
             [
              0.8888888888888888,
              "#fdca26"
             ],
             [
              1,
              "#f0f921"
             ]
            ],
            "type": "surface"
           }
          ],
          "table": [
           {
            "cells": {
             "fill": {
              "color": "#EBF0F8"
             },
             "line": {
              "color": "white"
             }
            },
            "header": {
             "fill": {
              "color": "#C8D4E3"
             },
             "line": {
              "color": "white"
             }
            },
            "type": "table"
           }
          ]
         },
         "layout": {
          "annotationdefaults": {
           "arrowcolor": "#2a3f5f",
           "arrowhead": 0,
           "arrowwidth": 1
          },
          "autotypenumbers": "strict",
          "coloraxis": {
           "colorbar": {
            "outlinewidth": 0,
            "ticks": ""
           }
          },
          "colorscale": {
           "diverging": [
            [
             0,
             "#8e0152"
            ],
            [
             0.1,
             "#c51b7d"
            ],
            [
             0.2,
             "#de77ae"
            ],
            [
             0.3,
             "#f1b6da"
            ],
            [
             0.4,
             "#fde0ef"
            ],
            [
             0.5,
             "#f7f7f7"
            ],
            [
             0.6,
             "#e6f5d0"
            ],
            [
             0.7,
             "#b8e186"
            ],
            [
             0.8,
             "#7fbc41"
            ],
            [
             0.9,
             "#4d9221"
            ],
            [
             1,
             "#276419"
            ]
           ],
           "sequential": [
            [
             0,
             "#0d0887"
            ],
            [
             0.1111111111111111,
             "#46039f"
            ],
            [
             0.2222222222222222,
             "#7201a8"
            ],
            [
             0.3333333333333333,
             "#9c179e"
            ],
            [
             0.4444444444444444,
             "#bd3786"
            ],
            [
             0.5555555555555556,
             "#d8576b"
            ],
            [
             0.6666666666666666,
             "#ed7953"
            ],
            [
             0.7777777777777778,
             "#fb9f3a"
            ],
            [
             0.8888888888888888,
             "#fdca26"
            ],
            [
             1,
             "#f0f921"
            ]
           ],
           "sequentialminus": [
            [
             0,
             "#0d0887"
            ],
            [
             0.1111111111111111,
             "#46039f"
            ],
            [
             0.2222222222222222,
             "#7201a8"
            ],
            [
             0.3333333333333333,
             "#9c179e"
            ],
            [
             0.4444444444444444,
             "#bd3786"
            ],
            [
             0.5555555555555556,
             "#d8576b"
            ],
            [
             0.6666666666666666,
             "#ed7953"
            ],
            [
             0.7777777777777778,
             "#fb9f3a"
            ],
            [
             0.8888888888888888,
             "#fdca26"
            ],
            [
             1,
             "#f0f921"
            ]
           ]
          },
          "colorway": [
           "#636efa",
           "#EF553B",
           "#00cc96",
           "#ab63fa",
           "#FFA15A",
           "#19d3f3",
           "#FF6692",
           "#B6E880",
           "#FF97FF",
           "#FECB52"
          ],
          "font": {
           "color": "#2a3f5f"
          },
          "geo": {
           "bgcolor": "white",
           "lakecolor": "white",
           "landcolor": "white",
           "showlakes": true,
           "showland": true,
           "subunitcolor": "#C8D4E3"
          },
          "hoverlabel": {
           "align": "left"
          },
          "hovermode": "closest",
          "mapbox": {
           "style": "light"
          },
          "paper_bgcolor": "white",
          "plot_bgcolor": "white",
          "polar": {
           "angularaxis": {
            "gridcolor": "#EBF0F8",
            "linecolor": "#EBF0F8",
            "ticks": ""
           },
           "bgcolor": "white",
           "radialaxis": {
            "gridcolor": "#EBF0F8",
            "linecolor": "#EBF0F8",
            "ticks": ""
           }
          },
          "scene": {
           "xaxis": {
            "backgroundcolor": "white",
            "gridcolor": "#DFE8F3",
            "gridwidth": 2,
            "linecolor": "#EBF0F8",
            "showbackground": true,
            "ticks": "",
            "zerolinecolor": "#EBF0F8"
           },
           "yaxis": {
            "backgroundcolor": "white",
            "gridcolor": "#DFE8F3",
            "gridwidth": 2,
            "linecolor": "#EBF0F8",
            "showbackground": true,
            "ticks": "",
            "zerolinecolor": "#EBF0F8"
           },
           "zaxis": {
            "backgroundcolor": "white",
            "gridcolor": "#DFE8F3",
            "gridwidth": 2,
            "linecolor": "#EBF0F8",
            "showbackground": true,
            "ticks": "",
            "zerolinecolor": "#EBF0F8"
           }
          },
          "shapedefaults": {
           "line": {
            "color": "#2a3f5f"
           }
          },
          "ternary": {
           "aaxis": {
            "gridcolor": "#DFE8F3",
            "linecolor": "#A2B1C6",
            "ticks": ""
           },
           "baxis": {
            "gridcolor": "#DFE8F3",
            "linecolor": "#A2B1C6",
            "ticks": ""
           },
           "bgcolor": "white",
           "caxis": {
            "gridcolor": "#DFE8F3",
            "linecolor": "#A2B1C6",
            "ticks": ""
           }
          },
          "title": {
           "x": 0.05
          },
          "xaxis": {
           "automargin": true,
           "gridcolor": "#EBF0F8",
           "linecolor": "#EBF0F8",
           "ticks": "",
           "title": {
            "standoff": 15
           },
           "zerolinecolor": "#EBF0F8",
           "zerolinewidth": 2
          },
          "yaxis": {
           "automargin": true,
           "gridcolor": "#EBF0F8",
           "linecolor": "#EBF0F8",
           "ticks": "",
           "title": {
            "standoff": 15
           },
           "zerolinecolor": "#EBF0F8",
           "zerolinewidth": 2
          }
         }
        },
        "violinmode": "group",
        "width": 800,
        "xaxis": {
         "anchor": "y",
         "autorange": true,
         "domain": [
          0,
          0.49
         ],
         "range": [
          0.3715850934252868,
          0.9690723799424671
         ],
         "title": {
          "text": "AUC"
         },
         "type": "linear"
        },
        "xaxis2": {
         "anchor": "y2",
         "autorange": true,
         "domain": [
          0.51,
          1
         ],
         "matches": "x",
         "range": [
          0.3715850934252868,
          0.9690723799424671
         ],
         "title": {
          "text": "AUC"
         },
         "type": "linear"
        },
        "yaxis": {
         "anchor": "x",
         "autorange": true,
         "domain": [
          0,
          1
         ],
         "range": [
          -0.5985761421319796,
          0.5578197969543147
         ],
         "showticklabels": true,
         "tickmode": "linear",
         "title": {
          "text": "Whole model"
         },
         "type": "category"
        },
        "yaxis2": {
         "anchor": "x2",
         "autorange": true,
         "domain": [
          0,
          1
         ],
         "matches": "y",
         "range": [
          -0.5985761421319796,
          0.5578197969543147
         ],
         "showticklabels": false,
         "type": "category"
        }
       }
      },
      "image/png": "[encoded data removed]",
      "text/html": [
       "<div>                            <div id=\"7b3d8e01-5148-407f-afa3-db28e46ff680\" class=\"plotly-graph-div\" style=\"height:800px; width:800px;\"></div>            <script type=\"text/javascript\">                require([\"plotly\"], function(Plotly) {                    window.PLOTLYENV=window.PLOTLYENV || {};                                    if (document.getElementById(\"7b3d8e01-5148-407f-afa3-db28e46ff680\")) {                    Plotly.newPlot(                        \"7b3d8e01-5148-407f-afa3-db28e46ff680\",                        [{\"alignmentgroup\": \"True\", \"box\": {\"visible\": true}, \"hovertemplate\": \"balance=under-sample<br>AUC=%{x}<extra></extra>\", \"legendgroup\": \"\", \"marker\": {\"color\": \"#F38A31\"}, \"name\": \"\", \"offsetgroup\": \"\", \"orientation\": \"h\", \"points\": \"all\", \"scalegroup\": \"True\", \"showlegend\": false, \"type\": \"violin\", \"x\": [0.5720175920835625, 0.7345387840670861, 0.7366898148148147, 0.6814814814814815, 0.7982517482517482], \"x0\": \" \", \"xaxis\": \"x\", \"y0\": \" \", \"yaxis\": \"y\"}, {\"alignmentgroup\": \"True\", \"box\": {\"visible\": true}, \"hovertemplate\": \"balance=over-sample<br>AUC=%{x}<extra></extra>\", \"legendgroup\": \"\", \"marker\": {\"color\": \"#F38A31\"}, \"name\": \"\", \"offsetgroup\": \"\", \"orientation\": \"h\", \"points\": \"all\", \"scalegroup\": \"True\", \"showlegend\": false, \"type\": \"violin\", \"x\": [0.5420560747663552, 0.7927148846960167, 0.7285879629629629, 0.7134920634920635, 0.7986013986013987], \"x0\": \" \", \"xaxis\": \"x2\", \"y0\": \" \", \"yaxis\": \"y2\"}],                        {\"annotations\": [{\"showarrow\": false, \"text\": \"balance=under-sample\", \"x\": 0.245, \"xanchor\": \"center\", \"xref\": \"paper\", \"y\": 1.0, \"yanchor\": \"bottom\", \"yref\": \"paper\"}, {\"showarrow\": false, \"text\": \"balance=over-sample\", \"x\": 0.755, \"xanchor\": \"center\", \"xref\": \"paper\", \"y\": 1.0, \"yanchor\": \"bottom\", \"yref\": \"paper\"}], \"autosize\": true, \"height\": 800, \"legend\": {\"tracegroupgap\": 0}, \"margin\": {\"t\": 60}, \"shapes\": [{\"line\": {\"color\": \"grey\", \"dash\": \"dash\", \"width\": 3}, \"type\": \"line\", \"x0\": 0.5, \"x1\": 0.5, \"xref\": \"x\", \"y0\": 0, \"y1\": 1, \"yref\": \"y domain\"}, {\"line\": {\"color\": \"grey\", \"dash\": \"dash\", \"width\": 3}, \"type\": \"line\", \"x0\": 0.5, \"x1\": 0.5, \"xref\": \"x2\", \"y0\": 0, \"y1\": 1, \"yref\": \"y2 domain\"}], \"template\": {\"data\": {\"bar\": [{\"error_x\": {\"color\": \"#2a3f5f\"}, \"error_y\": {\"color\": \"#2a3f5f\"}, \"marker\": {\"line\": {\"color\": \"white\", \"width\": 0.5}}, \"type\": \"bar\"}], \"barpolar\": [{\"marker\": {\"line\": {\"color\": \"white\", \"width\": 0.5}}, \"type\": \"barpolar\"}], \"carpet\": [{\"aaxis\": {\"endlinecolor\": \"#2a3f5f\", \"gridcolor\": \"#C8D4E3\", \"linecolor\": \"#C8D4E3\", \"minorgridcolor\": \"#C8D4E3\", \"startlinecolor\": \"#2a3f5f\"}, \"baxis\": {\"endlinecolor\": \"#2a3f5f\", \"gridcolor\": \"#C8D4E3\", \"linecolor\": \"#C8D4E3\", \"minorgridcolor\": \"#C8D4E3\", \"startlinecolor\": \"#2a3f5f\"}, \"type\": \"carpet\"}], \"choropleth\": [{\"colorbar\": {\"outlinewidth\": 0, \"ticks\": \"\"}, \"type\": \"choropleth\"}], \"contour\": [{\"colorbar\": {\"outlinewidth\": 0, \"ticks\": \"\"}, \"colorscale\": [[0.0, \"#0d0887\"], [0.1111111111111111, \"#46039f\"], [0.2222222222222222, \"#7201a8\"], [0.3333333333333333, \"#9c179e\"], [0.4444444444444444, \"#bd3786\"], [0.5555555555555556, \"#d8576b\"], [0.6666666666666666, \"#ed7953\"], [0.7777777777777778, \"#fb9f3a\"], [0.8888888888888888, \"#fdca26\"], [1.0, \"#f0f921\"]], \"type\": \"contour\"}], \"contourcarpet\": [{\"colorbar\": {\"outlinewidth\": 0, \"ticks\": \"\"}, \"type\": \"contourcarpet\"}], \"heatmap\": [{\"colorbar\": {\"outlinewidth\": 0, \"ticks\": \"\"}, \"colorscale\": [[0.0, \"#0d0887\"], [0.1111111111111111, \"#46039f\"], [0.2222222222222222, \"#7201a8\"], [0.3333333333333333, \"#9c179e\"], [0.4444444444444444, \"#bd3786\"], [0.5555555555555556, \"#d8576b\"], [0.6666666666666666, \"#ed7953\"], [0.7777777777777778, \"#fb9f3a\"], [0.8888888888888888, \"#fdca26\"], [1.0, \"#f0f921\"]], \"type\": \"heatmap\"}], \"heatmapgl\": [{\"colorbar\": {\"outlinewidth\": 0, \"ticks\": \"\"}, \"colorscale\": [[0.0, \"#0d0887\"], [0.1111111111111111, \"#46039f\"], [0.2222222222222222, \"#7201a8\"], [0.3333333333333333, \"#9c179e\"], [0.4444444444444444, \"#bd3786\"], [0.5555555555555556, \"#d8576b\"], [0.6666666666666666, \"#ed7953\"], [0.7777777777777778, \"#fb9f3a\"], [0.8888888888888888, \"#fdca26\"], [1.0, \"#f0f921\"]], \"type\": \"heatmapgl\"}], \"histogram\": [{\"marker\": {\"colorbar\": {\"outlinewidth\": 0, \"ticks\": \"\"}}, \"type\": \"histogram\"}], \"histogram2d\": [{\"colorbar\": {\"outlinewidth\": 0, \"ticks\": \"\"}, \"colorscale\": [[0.0, \"#0d0887\"], [0.1111111111111111, \"#46039f\"], [0.2222222222222222, \"#7201a8\"], [0.3333333333333333, \"#9c179e\"], [0.4444444444444444, \"#bd3786\"], [0.5555555555555556, \"#d8576b\"], [0.6666666666666666, \"#ed7953\"], [0.7777777777777778, \"#fb9f3a\"], [0.8888888888888888, \"#fdca26\"], [1.0, \"#f0f921\"]], \"type\": \"histogram2d\"}], \"histogram2dcontour\": [{\"colorbar\": {\"outlinewidth\": 0, \"ticks\": \"\"}, \"colorscale\": [[0.0, \"#0d0887\"], [0.1111111111111111, \"#46039f\"], [0.2222222222222222, \"#7201a8\"], [0.3333333333333333, \"#9c179e\"], [0.4444444444444444, \"#bd3786\"], [0.5555555555555556, \"#d8576b\"], [0.6666666666666666, \"#ed7953\"], [0.7777777777777778, \"#fb9f3a\"], [0.8888888888888888, \"#fdca26\"], [1.0, \"#f0f921\"]], \"type\": \"histogram2dcontour\"}], \"mesh3d\": [{\"colorbar\": {\"outlinewidth\": 0, \"ticks\": \"\"}, \"type\": \"mesh3d\"}], \"parcoords\": [{\"line\": {\"colorbar\": {\"outlinewidth\": 0, \"ticks\": \"\"}}, \"type\": \"parcoords\"}], \"pie\": [{\"automargin\": true, \"type\": \"pie\"}], \"scatter\": [{\"marker\": {\"colorbar\": {\"outlinewidth\": 0, \"ticks\": \"\"}}, \"type\": \"scatter\"}], \"scatter3d\": [{\"line\": {\"colorbar\": {\"outlinewidth\": 0, \"ticks\": \"\"}}, \"marker\": {\"colorbar\": {\"outlinewidth\": 0, \"ticks\": \"\"}}, \"type\": \"scatter3d\"}], \"scattercarpet\": [{\"marker\": {\"colorbar\": {\"outlinewidth\": 0, \"ticks\": \"\"}}, \"type\": \"scattercarpet\"}], \"scattergeo\": [{\"marker\": {\"colorbar\": {\"outlinewidth\": 0, \"ticks\": \"\"}}, \"type\": \"scattergeo\"}], \"scattergl\": [{\"marker\": {\"colorbar\": {\"outlinewidth\": 0, \"ticks\": \"\"}}, \"type\": \"scattergl\"}], \"scattermapbox\": [{\"marker\": {\"colorbar\": {\"outlinewidth\": 0, \"ticks\": \"\"}}, \"type\": \"scattermapbox\"}], \"scatterpolar\": [{\"marker\": {\"colorbar\": {\"outlinewidth\": 0, \"ticks\": \"\"}}, \"type\": \"scatterpolar\"}], \"scatterpolargl\": [{\"marker\": {\"colorbar\": {\"outlinewidth\": 0, \"ticks\": \"\"}}, \"type\": \"scatterpolargl\"}], \"scatterternary\": [{\"marker\": {\"colorbar\": {\"outlinewidth\": 0, \"ticks\": \"\"}}, \"type\": \"scatterternary\"}], \"surface\": [{\"colorbar\": {\"outlinewidth\": 0, \"ticks\": \"\"}, \"colorscale\": [[0.0, \"#0d0887\"], [0.1111111111111111, \"#46039f\"], [0.2222222222222222, \"#7201a8\"], [0.3333333333333333, \"#9c179e\"], [0.4444444444444444, \"#bd3786\"], [0.5555555555555556, \"#d8576b\"], [0.6666666666666666, \"#ed7953\"], [0.7777777777777778, \"#fb9f3a\"], [0.8888888888888888, \"#fdca26\"], [1.0, \"#f0f921\"]], \"type\": \"surface\"}], \"table\": [{\"cells\": {\"fill\": {\"color\": \"#EBF0F8\"}, \"line\": {\"color\": \"white\"}}, \"header\": {\"fill\": {\"color\": \"#C8D4E3\"}, \"line\": {\"color\": \"white\"}}, \"type\": \"table\"}]}, \"layout\": {\"annotationdefaults\": {\"arrowcolor\": \"#2a3f5f\", \"arrowhead\": 0, \"arrowwidth\": 1}, \"autotypenumbers\": \"strict\", \"coloraxis\": {\"colorbar\": {\"outlinewidth\": 0, \"ticks\": \"\"}}, \"colorscale\": {\"diverging\": [[0, \"#8e0152\"], [0.1, \"#c51b7d\"], [0.2, \"#de77ae\"], [0.3, \"#f1b6da\"], [0.4, \"#fde0ef\"], [0.5, \"#f7f7f7\"], [0.6, \"#e6f5d0\"], [0.7, \"#b8e186\"], [0.8, \"#7fbc41\"], [0.9, \"#4d9221\"], [1, \"#276419\"]], \"sequential\": [[0.0, \"#0d0887\"], [0.1111111111111111, \"#46039f\"], [0.2222222222222222, \"#7201a8\"], [0.3333333333333333, \"#9c179e\"], [0.4444444444444444, \"#bd3786\"], [0.5555555555555556, \"#d8576b\"], [0.6666666666666666, \"#ed7953\"], [0.7777777777777778, \"#fb9f3a\"], [0.8888888888888888, \"#fdca26\"], [1.0, \"#f0f921\"]], \"sequentialminus\": [[0.0, \"#0d0887\"], [0.1111111111111111, \"#46039f\"], [0.2222222222222222, \"#7201a8\"], [0.3333333333333333, \"#9c179e\"], [0.4444444444444444, \"#bd3786\"], [0.5555555555555556, \"#d8576b\"], [0.6666666666666666, \"#ed7953\"], [0.7777777777777778, \"#fb9f3a\"], [0.8888888888888888, \"#fdca26\"], [1.0, \"#f0f921\"]]}, \"colorway\": [\"#636efa\", \"#EF553B\", \"#00cc96\", \"#ab63fa\", \"#FFA15A\", \"#19d3f3\", \"#FF6692\", \"#B6E880\", \"#FF97FF\", \"#FECB52\"], \"font\": {\"color\": \"#2a3f5f\"}, \"geo\": {\"bgcolor\": \"white\", \"lakecolor\": \"white\", \"landcolor\": \"white\", \"showlakes\": true, \"showland\": true, \"subunitcolor\": \"#C8D4E3\"}, \"hoverlabel\": {\"align\": \"left\"}, \"hovermode\": \"closest\", \"mapbox\": {\"style\": \"light\"}, \"paper_bgcolor\": \"white\", \"plot_bgcolor\": \"white\", \"polar\": {\"angularaxis\": {\"gridcolor\": \"#EBF0F8\", \"linecolor\": \"#EBF0F8\", \"ticks\": \"\"}, \"bgcolor\": \"white\", \"radialaxis\": {\"gridcolor\": \"#EBF0F8\", \"linecolor\": \"#EBF0F8\", \"ticks\": \"\"}}, \"scene\": {\"xaxis\": {\"backgroundcolor\": \"white\", \"gridcolor\": \"#DFE8F3\", \"gridwidth\": 2, \"linecolor\": \"#EBF0F8\", \"showbackground\": true, \"ticks\": \"\", \"zerolinecolor\": \"#EBF0F8\"}, \"yaxis\": {\"backgroundcolor\": \"white\", \"gridcolor\": \"#DFE8F3\", \"gridwidth\": 2, \"linecolor\": \"#EBF0F8\", \"showbackground\": true, \"ticks\": \"\", \"zerolinecolor\": \"#EBF0F8\"}, \"zaxis\": {\"backgroundcolor\": \"white\", \"gridcolor\": \"#DFE8F3\", \"gridwidth\": 2, \"linecolor\": \"#EBF0F8\", \"showbackground\": true, \"ticks\": \"\", \"zerolinecolor\": \"#EBF0F8\"}}, \"shapedefaults\": {\"line\": {\"color\": \"#2a3f5f\"}}, \"ternary\": {\"aaxis\": {\"gridcolor\": \"#DFE8F3\", \"linecolor\": \"#A2B1C6\", \"ticks\": \"\"}, \"baxis\": {\"gridcolor\": \"#DFE8F3\", \"linecolor\": \"#A2B1C6\", \"ticks\": \"\"}, \"bgcolor\": \"white\", \"caxis\": {\"gridcolor\": \"#DFE8F3\", \"linecolor\": \"#A2B1C6\", \"ticks\": \"\"}}, \"title\": {\"x\": 0.05}, \"xaxis\": {\"automargin\": true, \"gridcolor\": \"#EBF0F8\", \"linecolor\": \"#EBF0F8\", \"ticks\": \"\", \"title\": {\"standoff\": 15}, \"zerolinecolor\": \"#EBF0F8\", \"zerolinewidth\": 2}, \"yaxis\": {\"automargin\": true, \"gridcolor\": \"#EBF0F8\", \"linecolor\": \"#EBF0F8\", \"ticks\": \"\", \"title\": {\"standoff\": 15}, \"zerolinecolor\": \"#EBF0F8\", \"zerolinewidth\": 2}}}, \"violinmode\": \"group\", \"width\": 800, \"xaxis\": {\"anchor\": \"y\", \"domain\": [0.0, 0.49], \"range\": [0.2, 1], \"title\": {\"text\": \"AUC\"}}, \"xaxis2\": {\"anchor\": \"y2\", \"domain\": [0.51, 1.0], \"matches\": \"x\", \"title\": {\"text\": \"AUC\"}}, \"yaxis\": {\"anchor\": \"x\", \"domain\": [0.0, 1.0], \"showticklabels\": true, \"tickmode\": \"linear\", \"title\": {\"text\": \"Whole model\"}}, \"yaxis2\": {\"anchor\": \"x2\", \"domain\": [0.0, 1.0], \"matches\": \"y\", \"showticklabels\": false}},                        {\"responsive\": true}                    ).then(function(){\n",
       "                            \n",
       "var gd = document.getElementById('7b3d8e01-5148-407f-afa3-db28e46ff680');\n",
       "var x = new MutationObserver(function (mutations, observer) {{\n",
       "        var display = window.getComputedStyle(gd).display;\n",
       "        if (!display || display === 'none') {{\n",
       "            console.log([gd, 'removed!']);\n",
       "            Plotly.purge(gd);\n",
       "            observer.disconnect();\n",
       "        }}\n",
       "}});\n",
       "\n",
       "// Listen for the removal of the full notebook cells\n",
       "var notebookContainer = gd.closest('#notebook-container');\n",
       "if (notebookContainer) {{\n",
       "    x.observe(notebookContainer, {childList: true});\n",
       "}}\n",
       "\n",
       "// Listen for the clearing of the current output cell\n",
       "var outputEl = gd.closest('.output');\n",
       "if (outputEl) {{\n",
       "    x.observe(outputEl, {childList: true});\n",
       "}}\n",
       "\n",
       "                        })                };                });            </script>        </div>"
      ]
     },
     "metadata": {},
     "output_type": "display_data"
    }
   ],
   "source": [
    "fig =px.violin(df_forest_probe, x = 'auc', box = True, points = 'all',template = \"plotly_white\", \n",
    "               color_discrete_sequence = [orange, green], labels = {'auc': 'AUC'},\n",
    "              facet_col = 'balance')\n",
    "fig.add_vline(x=0.5, line_width=3, line_dash=\"dash\", line_color=\"grey\")\n",
    "\n",
    "fig.update_layout(\n",
    "#     title = f'Mean AUC = {df_forest_mw.auc.mean()}',\n",
    "    autosize=True,\n",
    "    width=800,\n",
    "    height=800,\n",
    "    yaxis = {'title': 'Whole model',\n",
    "            'showticklabels': True,\n",
    "            'tickmode': 'linear',},\n",
    "    xaxis ={\n",
    "             'range':[0.2, 1]\n",
    "        }\n",
    ")\n",
    "fig.show()"
   ]
  },
  {
   "cell_type": "code",
   "execution_count": null,
   "id": "front-oliver",
   "metadata": {},
   "outputs": [
    {
     "data": {
      "application/vnd.plotly.v1+json": {
       "config": {
        "plotlyServerURL": "https://plot.ly"
       },
       "data": [
        {
         "hovertemplate": "Feature importance=%{x}<br>Markers=%{y}<extra></extra>",
         "legendgroup": "",
         "marker": {
          "color": "#F38A31",
          "size": 8,
          "symbol": "circle"
         },
         "mode": "markers",
         "name": "",
         "orientation": "v",
         "showlegend": false,
         "type": "scatter",
         "x": [
          0.01676044978157263,
          0.016795480591685962,
          0.016810757333093656,
          0.01689426212337079,
          0.017044410450741683,
          0.01705098932547984,
          0.017065654572275657,
          0.017074534321304864,
          0.017094255226554438,
          0.017178724828783055,
          0.017280244979691606,
          0.01728336809729247,
          0.01738754650884702,
          0.01750834528406582,
          0.017529883989904627,
          0.01769412671735985,
          0.0177115189122118,
          0.01772030017342686,
          0.017791068331417262,
          0.01781547448400655,
          0.017836625843572478,
          0.01792462311760852,
          0.018118020529761355,
          0.01816090555096711,
          0.018261071168618657,
          0.018330273259140294,
          0.01833821882628511,
          0.018381191921703583,
          0.018439902460658734,
          0.01856118478624442,
          0.018562264523933017,
          0.018571566026058726,
          0.018658710723617578,
          0.018660880328254484,
          0.01873008090373685,
          0.018831943054353786,
          0.01884717728074599,
          0.018929581865704995,
          0.019075275116400857,
          0.019202565168736533,
          0.01940327057137399,
          0.019420999996320864,
          0.019562500193673584,
          0.01958419636285616,
          0.019690354852760418,
          0.01983372783036598,
          0.020124129731878073,
          0.020155686349985717,
          0.020409111384093313,
          0.02042191591969584,
          0.020461859067518927,
          0.021265134046356077,
          0.02177082062691051,
          0.021982834577020913
         ],
         "xaxis": "x",
         "y": [
          "$wSMI\\alpha_{mean}$",
          "$CNV_{std}$",
          "$PE\\theta_{std}$",
          "$\\delta_{std}$",
          "$SEF90_{std}$",
          "$|\\gamma|_{std}$",
          "$P1_{mean}$",
          "$P1_{std}$",
          "$P3b_{mean}$",
          "$SEF95_{std}$",
          "$P3a_{mean}$",
          "$wSMI\\beta_{std}$",
          "$\\alpha_{std}$",
          "$|\\alpha|_{std}$",
          "$\\gamma_{std}$",
          "$\\theta_{std}$",
          "$|\\delta|_{std}$",
          "$wSMI\\theta_{std}$",
          "$P3a_{std}$",
          "$wSMI\\alpha_{std}$",
          "$wSMI\\beta_{mean}$",
          "$PE\\beta_{std}$",
          "$MSF_{std}$",
          "$SE_{std}$",
          "$P3b_{std}$",
          "$\\theta_{mean}$",
          "$MSF_{mean}$",
          "$\\delta_{mean}$",
          "$K_{std}$",
          "$wSMI\\gamma_{std}$",
          "$SE_{mean}$",
          "$\\beta_{std}$",
          "$PE\\beta_{mean}$",
          "$|\\beta|_{mean}$",
          "$|\\beta|_{std}$",
          "$wSMI\\theta_{mean}$",
          "$SEF90_{mean}$",
          "$PE\\gamma_{std}$",
          "$PE\\alpha_{std}$",
          "$PE\\theta_{mean}$",
          "$PE\\gamma_{mean}$",
          "$SEF95_{mean}$",
          "$wSMI\\gamma_{mean}$",
          "$K_{mean}$",
          "$|\\gamma|_{mean}$",
          "$|\\delta|_{mean}$",
          "$|\\alpha|_{mean}$",
          "$|\\theta|_{mean}$",
          "$\\beta_{mean}$",
          "$\\alpha_{mean}$",
          "$PE\\alpha_{mean}$",
          "$\\gamma_{mean}$",
          "$CNV_{mean}$",
          "$|\\theta|_{std}$"
         ],
         "yaxis": "y"
        }
       ],
       "layout": {
        "autosize": false,
        "height": 1000,
        "legend": {
         "tracegroupgap": 0
        },
        "margin": {
         "t": 60
        },
        "template": {
         "data": {
          "bar": [
           {
            "error_x": {
             "color": "#2a3f5f"
            },
            "error_y": {
             "color": "#2a3f5f"
            },
            "marker": {
             "line": {
              "color": "white",
              "width": 0.5
             }
            },
            "type": "bar"
           }
          ],
          "barpolar": [
           {
            "marker": {
             "line": {
              "color": "white",
              "width": 0.5
             }
            },
            "type": "barpolar"
           }
          ],
          "carpet": [
           {
            "aaxis": {
             "endlinecolor": "#2a3f5f",
             "gridcolor": "#C8D4E3",
             "linecolor": "#C8D4E3",
             "minorgridcolor": "#C8D4E3",
             "startlinecolor": "#2a3f5f"
            },
            "baxis": {
             "endlinecolor": "#2a3f5f",
             "gridcolor": "#C8D4E3",
             "linecolor": "#C8D4E3",
             "minorgridcolor": "#C8D4E3",
             "startlinecolor": "#2a3f5f"
            },
            "type": "carpet"
           }
          ],
          "choropleth": [
           {
            "colorbar": {
             "outlinewidth": 0,
             "ticks": ""
            },
            "type": "choropleth"
           }
          ],
          "contour": [
           {
            "colorbar": {
             "outlinewidth": 0,
             "ticks": ""
            },
            "colorscale": [
             [
              0,
              "#0d0887"
             ],
             [
              0.1111111111111111,
              "#46039f"
             ],
             [
              0.2222222222222222,
              "#7201a8"
             ],
             [
              0.3333333333333333,
              "#9c179e"
             ],
             [
              0.4444444444444444,
              "#bd3786"
             ],
             [
              0.5555555555555556,
              "#d8576b"
             ],
             [
              0.6666666666666666,
              "#ed7953"
             ],
             [
              0.7777777777777778,
              "#fb9f3a"
             ],
             [
              0.8888888888888888,
              "#fdca26"
             ],
             [
              1,
              "#f0f921"
             ]
            ],
            "type": "contour"
           }
          ],
          "contourcarpet": [
           {
            "colorbar": {
             "outlinewidth": 0,
             "ticks": ""
            },
            "type": "contourcarpet"
           }
          ],
          "heatmap": [
           {
            "colorbar": {
             "outlinewidth": 0,
             "ticks": ""
            },
            "colorscale": [
             [
              0,
              "#0d0887"
             ],
             [
              0.1111111111111111,
              "#46039f"
             ],
             [
              0.2222222222222222,
              "#7201a8"
             ],
             [
              0.3333333333333333,
              "#9c179e"
             ],
             [
              0.4444444444444444,
              "#bd3786"
             ],
             [
              0.5555555555555556,
              "#d8576b"
             ],
             [
              0.6666666666666666,
              "#ed7953"
             ],
             [
              0.7777777777777778,
              "#fb9f3a"
             ],
             [
              0.8888888888888888,
              "#fdca26"
             ],
             [
              1,
              "#f0f921"
             ]
            ],
            "type": "heatmap"
           }
          ],
          "heatmapgl": [
           {
            "colorbar": {
             "outlinewidth": 0,
             "ticks": ""
            },
            "colorscale": [
             [
              0,
              "#0d0887"
             ],
             [
              0.1111111111111111,
              "#46039f"
             ],
             [
              0.2222222222222222,
              "#7201a8"
             ],
             [
              0.3333333333333333,
              "#9c179e"
             ],
             [
              0.4444444444444444,
              "#bd3786"
             ],
             [
              0.5555555555555556,
              "#d8576b"
             ],
             [
              0.6666666666666666,
              "#ed7953"
             ],
             [
              0.7777777777777778,
              "#fb9f3a"
             ],
             [
              0.8888888888888888,
              "#fdca26"
             ],
             [
              1,
              "#f0f921"
             ]
            ],
            "type": "heatmapgl"
           }
          ],
          "histogram": [
           {
            "marker": {
             "colorbar": {
              "outlinewidth": 0,
              "ticks": ""
             }
            },
            "type": "histogram"
           }
          ],
          "histogram2d": [
           {
            "colorbar": {
             "outlinewidth": 0,
             "ticks": ""
            },
            "colorscale": [
             [
              0,
              "#0d0887"
             ],
             [
              0.1111111111111111,
              "#46039f"
             ],
             [
              0.2222222222222222,
              "#7201a8"
             ],
             [
              0.3333333333333333,
              "#9c179e"
             ],
             [
              0.4444444444444444,
              "#bd3786"
             ],
             [
              0.5555555555555556,
              "#d8576b"
             ],
             [
              0.6666666666666666,
              "#ed7953"
             ],
             [
              0.7777777777777778,
              "#fb9f3a"
             ],
             [
              0.8888888888888888,
              "#fdca26"
             ],
             [
              1,
              "#f0f921"
             ]
            ],
            "type": "histogram2d"
           }
          ],
          "histogram2dcontour": [
           {
            "colorbar": {
             "outlinewidth": 0,
             "ticks": ""
            },
            "colorscale": [
             [
              0,
              "#0d0887"
             ],
             [
              0.1111111111111111,
              "#46039f"
             ],
             [
              0.2222222222222222,
              "#7201a8"
             ],
             [
              0.3333333333333333,
              "#9c179e"
             ],
             [
              0.4444444444444444,
              "#bd3786"
             ],
             [
              0.5555555555555556,
              "#d8576b"
             ],
             [
              0.6666666666666666,
              "#ed7953"
             ],
             [
              0.7777777777777778,
              "#fb9f3a"
             ],
             [
              0.8888888888888888,
              "#fdca26"
             ],
             [
              1,
              "#f0f921"
             ]
            ],
            "type": "histogram2dcontour"
           }
          ],
          "mesh3d": [
           {
            "colorbar": {
             "outlinewidth": 0,
             "ticks": ""
            },
            "type": "mesh3d"
           }
          ],
          "parcoords": [
           {
            "line": {
             "colorbar": {
              "outlinewidth": 0,
              "ticks": ""
             }
            },
            "type": "parcoords"
           }
          ],
          "pie": [
           {
            "automargin": true,
            "type": "pie"
           }
          ],
          "scatter": [
           {
            "marker": {
             "colorbar": {
              "outlinewidth": 0,
              "ticks": ""
             }
            },
            "type": "scatter"
           }
          ],
          "scatter3d": [
           {
            "line": {
             "colorbar": {
              "outlinewidth": 0,
              "ticks": ""
             }
            },
            "marker": {
             "colorbar": {
              "outlinewidth": 0,
              "ticks": ""
             }
            },
            "type": "scatter3d"
           }
          ],
          "scattercarpet": [
           {
            "marker": {
             "colorbar": {
              "outlinewidth": 0,
              "ticks": ""
             }
            },
            "type": "scattercarpet"
           }
          ],
          "scattergeo": [
           {
            "marker": {
             "colorbar": {
              "outlinewidth": 0,
              "ticks": ""
             }
            },
            "type": "scattergeo"
           }
          ],
          "scattergl": [
           {
            "marker": {
             "colorbar": {
              "outlinewidth": 0,
              "ticks": ""
             }
            },
            "type": "scattergl"
           }
          ],
          "scattermapbox": [
           {
            "marker": {
             "colorbar": {
              "outlinewidth": 0,
              "ticks": ""
             }
            },
            "type": "scattermapbox"
           }
          ],
          "scatterpolar": [
           {
            "marker": {
             "colorbar": {
              "outlinewidth": 0,
              "ticks": ""
             }
            },
            "type": "scatterpolar"
           }
          ],
          "scatterpolargl": [
           {
            "marker": {
             "colorbar": {
              "outlinewidth": 0,
              "ticks": ""
             }
            },
            "type": "scatterpolargl"
           }
          ],
          "scatterternary": [
           {
            "marker": {
             "colorbar": {
              "outlinewidth": 0,
              "ticks": ""
             }
            },
            "type": "scatterternary"
           }
          ],
          "surface": [
           {
            "colorbar": {
             "outlinewidth": 0,
             "ticks": ""
            },
            "colorscale": [
             [
              0,
              "#0d0887"
             ],
             [
              0.1111111111111111,
              "#46039f"
             ],
             [
              0.2222222222222222,
              "#7201a8"
             ],
             [
              0.3333333333333333,
              "#9c179e"
             ],
             [
              0.4444444444444444,
              "#bd3786"
             ],
             [
              0.5555555555555556,
              "#d8576b"
             ],
             [
              0.6666666666666666,
              "#ed7953"
             ],
             [
              0.7777777777777778,
              "#fb9f3a"
             ],
             [
              0.8888888888888888,
              "#fdca26"
             ],
             [
              1,
              "#f0f921"
             ]
            ],
            "type": "surface"
           }
          ],
          "table": [
           {
            "cells": {
             "fill": {
              "color": "#EBF0F8"
             },
             "line": {
              "color": "white"
             }
            },
            "header": {
             "fill": {
              "color": "#C8D4E3"
             },
             "line": {
              "color": "white"
             }
            },
            "type": "table"
           }
          ]
         },
         "layout": {
          "annotationdefaults": {
           "arrowcolor": "#2a3f5f",
           "arrowhead": 0,
           "arrowwidth": 1
          },
          "autotypenumbers": "strict",
          "coloraxis": {
           "colorbar": {
            "outlinewidth": 0,
            "ticks": ""
           }
          },
          "colorscale": {
           "diverging": [
            [
             0,
             "#8e0152"
            ],
            [
             0.1,
             "#c51b7d"
            ],
            [
             0.2,
             "#de77ae"
            ],
            [
             0.3,
             "#f1b6da"
            ],
            [
             0.4,
             "#fde0ef"
            ],
            [
             0.5,
             "#f7f7f7"
            ],
            [
             0.6,
             "#e6f5d0"
            ],
            [
             0.7,
             "#b8e186"
            ],
            [
             0.8,
             "#7fbc41"
            ],
            [
             0.9,
             "#4d9221"
            ],
            [
             1,
             "#276419"
            ]
           ],
           "sequential": [
            [
             0,
             "#0d0887"
            ],
            [
             0.1111111111111111,
             "#46039f"
            ],
            [
             0.2222222222222222,
             "#7201a8"
            ],
            [
             0.3333333333333333,
             "#9c179e"
            ],
            [
             0.4444444444444444,
             "#bd3786"
            ],
            [
             0.5555555555555556,
             "#d8576b"
            ],
            [
             0.6666666666666666,
             "#ed7953"
            ],
            [
             0.7777777777777778,
             "#fb9f3a"
            ],
            [
             0.8888888888888888,
             "#fdca26"
            ],
            [
             1,
             "#f0f921"
            ]
           ],
           "sequentialminus": [
            [
             0,
             "#0d0887"
            ],
            [
             0.1111111111111111,
             "#46039f"
            ],
            [
             0.2222222222222222,
             "#7201a8"
            ],
            [
             0.3333333333333333,
             "#9c179e"
            ],
            [
             0.4444444444444444,
             "#bd3786"
            ],
            [
             0.5555555555555556,
             "#d8576b"
            ],
            [
             0.6666666666666666,
             "#ed7953"
            ],
            [
             0.7777777777777778,
             "#fb9f3a"
            ],
            [
             0.8888888888888888,
             "#fdca26"
            ],
            [
             1,
             "#f0f921"
            ]
           ]
          },
          "colorway": [
           "#636efa",
           "#EF553B",
           "#00cc96",
           "#ab63fa",
           "#FFA15A",
           "#19d3f3",
           "#FF6692",
           "#B6E880",
           "#FF97FF",
           "#FECB52"
          ],
          "font": {
           "color": "#2a3f5f"
          },
          "geo": {
           "bgcolor": "white",
           "lakecolor": "white",
           "landcolor": "white",
           "showlakes": true,
           "showland": true,
           "subunitcolor": "#C8D4E3"
          },
          "hoverlabel": {
           "align": "left"
          },
          "hovermode": "closest",
          "mapbox": {
           "style": "light"
          },
          "paper_bgcolor": "white",
          "plot_bgcolor": "white",
          "polar": {
           "angularaxis": {
            "gridcolor": "#EBF0F8",
            "linecolor": "#EBF0F8",
            "ticks": ""
           },
           "bgcolor": "white",
           "radialaxis": {
            "gridcolor": "#EBF0F8",
            "linecolor": "#EBF0F8",
            "ticks": ""
           }
          },
          "scene": {
           "xaxis": {
            "backgroundcolor": "white",
            "gridcolor": "#DFE8F3",
            "gridwidth": 2,
            "linecolor": "#EBF0F8",
            "showbackground": true,
            "ticks": "",
            "zerolinecolor": "#EBF0F8"
           },
           "yaxis": {
            "backgroundcolor": "white",
            "gridcolor": "#DFE8F3",
            "gridwidth": 2,
            "linecolor": "#EBF0F8",
            "showbackground": true,
            "ticks": "",
            "zerolinecolor": "#EBF0F8"
           },
           "zaxis": {
            "backgroundcolor": "white",
            "gridcolor": "#DFE8F3",
            "gridwidth": 2,
            "linecolor": "#EBF0F8",
            "showbackground": true,
            "ticks": "",
            "zerolinecolor": "#EBF0F8"
           }
          },
          "shapedefaults": {
           "line": {
            "color": "#2a3f5f"
           }
          },
          "ternary": {
           "aaxis": {
            "gridcolor": "#DFE8F3",
            "linecolor": "#A2B1C6",
            "ticks": ""
           },
           "baxis": {
            "gridcolor": "#DFE8F3",
            "linecolor": "#A2B1C6",
            "ticks": ""
           },
           "bgcolor": "white",
           "caxis": {
            "gridcolor": "#DFE8F3",
            "linecolor": "#A2B1C6",
            "ticks": ""
           }
          },
          "title": {
           "x": 0.05
          },
          "xaxis": {
           "automargin": true,
           "gridcolor": "#EBF0F8",
           "linecolor": "#EBF0F8",
           "ticks": "",
           "title": {
            "standoff": 15
           },
           "zerolinecolor": "#EBF0F8",
           "zerolinewidth": 2
          },
          "yaxis": {
           "automargin": true,
           "gridcolor": "#EBF0F8",
           "linecolor": "#EBF0F8",
           "ticks": "",
           "title": {
            "standoff": 15
           },
           "zerolinecolor": "#EBF0F8",
           "zerolinewidth": 2
          }
         }
        },
        "width": 800,
        "xaxis": {
         "anchor": "y",
         "autorange": true,
         "domain": [
          0,
          1
         ],
         "range": [
          0.01641648937296704,
          0.022326794985626505
         ],
         "title": {
          "text": "Feature importance"
         },
         "type": "linear"
        },
        "yaxis": {
         "anchor": "x",
         "autorange": true,
         "domain": [
          0,
          1
         ],
         "range": [
          -3.329842931937173,
          56.32984293193717
         ],
         "showticklabels": true,
         "tickmode": "linear",
         "title": {
          "text": "Markers"
         },
         "type": "category"
        }
       }
      },
      "text/html": [
       "<div>                            <div id=\"4e976302-6c3d-4622-b6f0-d34f34211b02\" class=\"plotly-graph-div\" style=\"height:1000px; width:800px;\"></div>            <script type=\"text/javascript\">                require([\"plotly\"], function(Plotly) {                    window.PLOTLYENV=window.PLOTLYENV || {};                                    if (document.getElementById(\"4e976302-6c3d-4622-b6f0-d34f34211b02\")) {                    Plotly.newPlot(                        \"4e976302-6c3d-4622-b6f0-d34f34211b02\",                        [{\"hovertemplate\": \"Feature importance=%{x}<br>Markers=%{y}<extra></extra>\", \"legendgroup\": \"\", \"marker\": {\"color\": \"#F38A31\", \"size\": 8, \"symbol\": \"circle\"}, \"mode\": \"markers\", \"name\": \"\", \"orientation\": \"v\", \"showlegend\": false, \"type\": \"scatter\", \"x\": [0.01676044978157263, 0.016795480591685962, 0.016810757333093656, 0.01689426212337079, 0.017044410450741683, 0.01705098932547984, 0.017065654572275657, 0.017074534321304864, 0.017094255226554438, 0.017178724828783055, 0.017280244979691606, 0.01728336809729247, 0.01738754650884702, 0.01750834528406582, 0.017529883989904627, 0.01769412671735985, 0.0177115189122118, 0.01772030017342686, 0.017791068331417262, 0.01781547448400655, 0.017836625843572478, 0.01792462311760852, 0.018118020529761355, 0.01816090555096711, 0.018261071168618657, 0.018330273259140294, 0.01833821882628511, 0.018381191921703583, 0.018439902460658734, 0.01856118478624442, 0.018562264523933017, 0.018571566026058726, 0.018658710723617578, 0.018660880328254484, 0.01873008090373685, 0.018831943054353786, 0.01884717728074599, 0.018929581865704995, 0.019075275116400857, 0.019202565168736533, 0.01940327057137399, 0.019420999996320864, 0.019562500193673584, 0.01958419636285616, 0.019690354852760418, 0.01983372783036598, 0.020124129731878073, 0.020155686349985717, 0.020409111384093313, 0.02042191591969584, 0.020461859067518927, 0.021265134046356077, 0.02177082062691051, 0.021982834577020913], \"xaxis\": \"x\", \"y\": [\"$wSMI\\\\alpha_{mean}$\", \"$CNV_{std}$\", \"$PE\\\\theta_{std}$\", \"$\\\\delta_{std}$\", \"$SEF90_{std}$\", \"$|\\\\gamma|_{std}$\", \"$P1_{mean}$\", \"$P1_{std}$\", \"$P3b_{mean}$\", \"$SEF95_{std}$\", \"$P3a_{mean}$\", \"$wSMI\\\\beta_{std}$\", \"$\\\\alpha_{std}$\", \"$|\\\\alpha|_{std}$\", \"$\\\\gamma_{std}$\", \"$\\\\theta_{std}$\", \"$|\\\\delta|_{std}$\", \"$wSMI\\\\theta_{std}$\", \"$P3a_{std}$\", \"$wSMI\\\\alpha_{std}$\", \"$wSMI\\\\beta_{mean}$\", \"$PE\\\\beta_{std}$\", \"$MSF_{std}$\", \"$SE_{std}$\", \"$P3b_{std}$\", \"$\\\\theta_{mean}$\", \"$MSF_{mean}$\", \"$\\\\delta_{mean}$\", \"$K_{std}$\", \"$wSMI\\\\gamma_{std}$\", \"$SE_{mean}$\", \"$\\\\beta_{std}$\", \"$PE\\\\beta_{mean}$\", \"$|\\\\beta|_{mean}$\", \"$|\\\\beta|_{std}$\", \"$wSMI\\\\theta_{mean}$\", \"$SEF90_{mean}$\", \"$PE\\\\gamma_{std}$\", \"$PE\\\\alpha_{std}$\", \"$PE\\\\theta_{mean}$\", \"$PE\\\\gamma_{mean}$\", \"$SEF95_{mean}$\", \"$wSMI\\\\gamma_{mean}$\", \"$K_{mean}$\", \"$|\\\\gamma|_{mean}$\", \"$|\\\\delta|_{mean}$\", \"$|\\\\alpha|_{mean}$\", \"$|\\\\theta|_{mean}$\", \"$\\\\beta_{mean}$\", \"$\\\\alpha_{mean}$\", \"$PE\\\\alpha_{mean}$\", \"$\\\\gamma_{mean}$\", \"$CNV_{mean}$\", \"$|\\\\theta|_{std}$\"], \"yaxis\": \"y\"}],                        {\"autosize\": false, \"height\": 1000, \"legend\": {\"tracegroupgap\": 0}, \"margin\": {\"t\": 60}, \"template\": {\"data\": {\"bar\": [{\"error_x\": {\"color\": \"#2a3f5f\"}, \"error_y\": {\"color\": \"#2a3f5f\"}, \"marker\": {\"line\": {\"color\": \"white\", \"width\": 0.5}}, \"type\": \"bar\"}], \"barpolar\": [{\"marker\": {\"line\": {\"color\": \"white\", \"width\": 0.5}}, \"type\": \"barpolar\"}], \"carpet\": [{\"aaxis\": {\"endlinecolor\": \"#2a3f5f\", \"gridcolor\": \"#C8D4E3\", \"linecolor\": \"#C8D4E3\", \"minorgridcolor\": \"#C8D4E3\", \"startlinecolor\": \"#2a3f5f\"}, \"baxis\": {\"endlinecolor\": \"#2a3f5f\", \"gridcolor\": \"#C8D4E3\", \"linecolor\": \"#C8D4E3\", \"minorgridcolor\": \"#C8D4E3\", \"startlinecolor\": \"#2a3f5f\"}, \"type\": \"carpet\"}], \"choropleth\": [{\"colorbar\": {\"outlinewidth\": 0, \"ticks\": \"\"}, \"type\": \"choropleth\"}], \"contour\": [{\"colorbar\": {\"outlinewidth\": 0, \"ticks\": \"\"}, \"colorscale\": [[0.0, \"#0d0887\"], [0.1111111111111111, \"#46039f\"], [0.2222222222222222, \"#7201a8\"], [0.3333333333333333, \"#9c179e\"], [0.4444444444444444, \"#bd3786\"], [0.5555555555555556, \"#d8576b\"], [0.6666666666666666, \"#ed7953\"], [0.7777777777777778, \"#fb9f3a\"], [0.8888888888888888, \"#fdca26\"], [1.0, \"#f0f921\"]], \"type\": \"contour\"}], \"contourcarpet\": [{\"colorbar\": {\"outlinewidth\": 0, \"ticks\": \"\"}, \"type\": \"contourcarpet\"}], \"heatmap\": [{\"colorbar\": {\"outlinewidth\": 0, \"ticks\": \"\"}, \"colorscale\": [[0.0, \"#0d0887\"], [0.1111111111111111, \"#46039f\"], [0.2222222222222222, \"#7201a8\"], [0.3333333333333333, \"#9c179e\"], [0.4444444444444444, \"#bd3786\"], [0.5555555555555556, \"#d8576b\"], [0.6666666666666666, \"#ed7953\"], [0.7777777777777778, \"#fb9f3a\"], [0.8888888888888888, \"#fdca26\"], [1.0, \"#f0f921\"]], \"type\": \"heatmap\"}], \"heatmapgl\": [{\"colorbar\": {\"outlinewidth\": 0, \"ticks\": \"\"}, \"colorscale\": [[0.0, \"#0d0887\"], [0.1111111111111111, \"#46039f\"], [0.2222222222222222, \"#7201a8\"], [0.3333333333333333, \"#9c179e\"], [0.4444444444444444, \"#bd3786\"], [0.5555555555555556, \"#d8576b\"], [0.6666666666666666, \"#ed7953\"], [0.7777777777777778, \"#fb9f3a\"], [0.8888888888888888, \"#fdca26\"], [1.0, \"#f0f921\"]], \"type\": \"heatmapgl\"}], \"histogram\": [{\"marker\": {\"colorbar\": {\"outlinewidth\": 0, \"ticks\": \"\"}}, \"type\": \"histogram\"}], \"histogram2d\": [{\"colorbar\": {\"outlinewidth\": 0, \"ticks\": \"\"}, \"colorscale\": [[0.0, \"#0d0887\"], [0.1111111111111111, \"#46039f\"], [0.2222222222222222, \"#7201a8\"], [0.3333333333333333, \"#9c179e\"], [0.4444444444444444, \"#bd3786\"], [0.5555555555555556, \"#d8576b\"], [0.6666666666666666, \"#ed7953\"], [0.7777777777777778, \"#fb9f3a\"], [0.8888888888888888, \"#fdca26\"], [1.0, \"#f0f921\"]], \"type\": \"histogram2d\"}], \"histogram2dcontour\": [{\"colorbar\": {\"outlinewidth\": 0, \"ticks\": \"\"}, \"colorscale\": [[0.0, \"#0d0887\"], [0.1111111111111111, \"#46039f\"], [0.2222222222222222, \"#7201a8\"], [0.3333333333333333, \"#9c179e\"], [0.4444444444444444, \"#bd3786\"], [0.5555555555555556, \"#d8576b\"], [0.6666666666666666, \"#ed7953\"], [0.7777777777777778, \"#fb9f3a\"], [0.8888888888888888, \"#fdca26\"], [1.0, \"#f0f921\"]], \"type\": \"histogram2dcontour\"}], \"mesh3d\": [{\"colorbar\": {\"outlinewidth\": 0, \"ticks\": \"\"}, \"type\": \"mesh3d\"}], \"parcoords\": [{\"line\": {\"colorbar\": {\"outlinewidth\": 0, \"ticks\": \"\"}}, \"type\": \"parcoords\"}], \"pie\": [{\"automargin\": true, \"type\": \"pie\"}], \"scatter\": [{\"marker\": {\"colorbar\": {\"outlinewidth\": 0, \"ticks\": \"\"}}, \"type\": \"scatter\"}], \"scatter3d\": [{\"line\": {\"colorbar\": {\"outlinewidth\": 0, \"ticks\": \"\"}}, \"marker\": {\"colorbar\": {\"outlinewidth\": 0, \"ticks\": \"\"}}, \"type\": \"scatter3d\"}], \"scattercarpet\": [{\"marker\": {\"colorbar\": {\"outlinewidth\": 0, \"ticks\": \"\"}}, \"type\": \"scattercarpet\"}], \"scattergeo\": [{\"marker\": {\"colorbar\": {\"outlinewidth\": 0, \"ticks\": \"\"}}, \"type\": \"scattergeo\"}], \"scattergl\": [{\"marker\": {\"colorbar\": {\"outlinewidth\": 0, \"ticks\": \"\"}}, \"type\": \"scattergl\"}], \"scattermapbox\": [{\"marker\": {\"colorbar\": {\"outlinewidth\": 0, \"ticks\": \"\"}}, \"type\": \"scattermapbox\"}], \"scatterpolar\": [{\"marker\": {\"colorbar\": {\"outlinewidth\": 0, \"ticks\": \"\"}}, \"type\": \"scatterpolar\"}], \"scatterpolargl\": [{\"marker\": {\"colorbar\": {\"outlinewidth\": 0, \"ticks\": \"\"}}, \"type\": \"scatterpolargl\"}], \"scatterternary\": [{\"marker\": {\"colorbar\": {\"outlinewidth\": 0, \"ticks\": \"\"}}, \"type\": \"scatterternary\"}], \"surface\": [{\"colorbar\": {\"outlinewidth\": 0, \"ticks\": \"\"}, \"colorscale\": [[0.0, \"#0d0887\"], [0.1111111111111111, \"#46039f\"], [0.2222222222222222, \"#7201a8\"], [0.3333333333333333, \"#9c179e\"], [0.4444444444444444, \"#bd3786\"], [0.5555555555555556, \"#d8576b\"], [0.6666666666666666, \"#ed7953\"], [0.7777777777777778, \"#fb9f3a\"], [0.8888888888888888, \"#fdca26\"], [1.0, \"#f0f921\"]], \"type\": \"surface\"}], \"table\": [{\"cells\": {\"fill\": {\"color\": \"#EBF0F8\"}, \"line\": {\"color\": \"white\"}}, \"header\": {\"fill\": {\"color\": \"#C8D4E3\"}, \"line\": {\"color\": \"white\"}}, \"type\": \"table\"}]}, \"layout\": {\"annotationdefaults\": {\"arrowcolor\": \"#2a3f5f\", \"arrowhead\": 0, \"arrowwidth\": 1}, \"autotypenumbers\": \"strict\", \"coloraxis\": {\"colorbar\": {\"outlinewidth\": 0, \"ticks\": \"\"}}, \"colorscale\": {\"diverging\": [[0, \"#8e0152\"], [0.1, \"#c51b7d\"], [0.2, \"#de77ae\"], [0.3, \"#f1b6da\"], [0.4, \"#fde0ef\"], [0.5, \"#f7f7f7\"], [0.6, \"#e6f5d0\"], [0.7, \"#b8e186\"], [0.8, \"#7fbc41\"], [0.9, \"#4d9221\"], [1, \"#276419\"]], \"sequential\": [[0.0, \"#0d0887\"], [0.1111111111111111, \"#46039f\"], [0.2222222222222222, \"#7201a8\"], [0.3333333333333333, \"#9c179e\"], [0.4444444444444444, \"#bd3786\"], [0.5555555555555556, \"#d8576b\"], [0.6666666666666666, \"#ed7953\"], [0.7777777777777778, \"#fb9f3a\"], [0.8888888888888888, \"#fdca26\"], [1.0, \"#f0f921\"]], \"sequentialminus\": [[0.0, \"#0d0887\"], [0.1111111111111111, \"#46039f\"], [0.2222222222222222, \"#7201a8\"], [0.3333333333333333, \"#9c179e\"], [0.4444444444444444, \"#bd3786\"], [0.5555555555555556, \"#d8576b\"], [0.6666666666666666, \"#ed7953\"], [0.7777777777777778, \"#fb9f3a\"], [0.8888888888888888, \"#fdca26\"], [1.0, \"#f0f921\"]]}, \"colorway\": [\"#636efa\", \"#EF553B\", \"#00cc96\", \"#ab63fa\", \"#FFA15A\", \"#19d3f3\", \"#FF6692\", \"#B6E880\", \"#FF97FF\", \"#FECB52\"], \"font\": {\"color\": \"#2a3f5f\"}, \"geo\": {\"bgcolor\": \"white\", \"lakecolor\": \"white\", \"landcolor\": \"white\", \"showlakes\": true, \"showland\": true, \"subunitcolor\": \"#C8D4E3\"}, \"hoverlabel\": {\"align\": \"left\"}, \"hovermode\": \"closest\", \"mapbox\": {\"style\": \"light\"}, \"paper_bgcolor\": \"white\", \"plot_bgcolor\": \"white\", \"polar\": {\"angularaxis\": {\"gridcolor\": \"#EBF0F8\", \"linecolor\": \"#EBF0F8\", \"ticks\": \"\"}, \"bgcolor\": \"white\", \"radialaxis\": {\"gridcolor\": \"#EBF0F8\", \"linecolor\": \"#EBF0F8\", \"ticks\": \"\"}}, \"scene\": {\"xaxis\": {\"backgroundcolor\": \"white\", \"gridcolor\": \"#DFE8F3\", \"gridwidth\": 2, \"linecolor\": \"#EBF0F8\", \"showbackground\": true, \"ticks\": \"\", \"zerolinecolor\": \"#EBF0F8\"}, \"yaxis\": {\"backgroundcolor\": \"white\", \"gridcolor\": \"#DFE8F3\", \"gridwidth\": 2, \"linecolor\": \"#EBF0F8\", \"showbackground\": true, \"ticks\": \"\", \"zerolinecolor\": \"#EBF0F8\"}, \"zaxis\": {\"backgroundcolor\": \"white\", \"gridcolor\": \"#DFE8F3\", \"gridwidth\": 2, \"linecolor\": \"#EBF0F8\", \"showbackground\": true, \"ticks\": \"\", \"zerolinecolor\": \"#EBF0F8\"}}, \"shapedefaults\": {\"line\": {\"color\": \"#2a3f5f\"}}, \"ternary\": {\"aaxis\": {\"gridcolor\": \"#DFE8F3\", \"linecolor\": \"#A2B1C6\", \"ticks\": \"\"}, \"baxis\": {\"gridcolor\": \"#DFE8F3\", \"linecolor\": \"#A2B1C6\", \"ticks\": \"\"}, \"bgcolor\": \"white\", \"caxis\": {\"gridcolor\": \"#DFE8F3\", \"linecolor\": \"#A2B1C6\", \"ticks\": \"\"}}, \"title\": {\"x\": 0.05}, \"xaxis\": {\"automargin\": true, \"gridcolor\": \"#EBF0F8\", \"linecolor\": \"#EBF0F8\", \"ticks\": \"\", \"title\": {\"standoff\": 15}, \"zerolinecolor\": \"#EBF0F8\", \"zerolinewidth\": 2}, \"yaxis\": {\"automargin\": true, \"gridcolor\": \"#EBF0F8\", \"linecolor\": \"#EBF0F8\", \"ticks\": \"\", \"title\": {\"standoff\": 15}, \"zerolinecolor\": \"#EBF0F8\", \"zerolinewidth\": 2}}}, \"width\": 800, \"xaxis\": {\"anchor\": \"y\", \"domain\": [0.0, 1.0], \"title\": {\"text\": \"Feature importance\"}}, \"yaxis\": {\"anchor\": \"x\", \"domain\": [0.0, 1.0], \"showticklabels\": true, \"tickmode\": \"linear\", \"title\": {\"text\": \"Markers\"}}},                        {\"responsive\": true}                    ).then(function(){\n",
       "                            \n",
       "var gd = document.getElementById('4e976302-6c3d-4622-b6f0-d34f34211b02');\n",
       "var x = new MutationObserver(function (mutations, observer) {{\n",
       "        var display = window.getComputedStyle(gd).display;\n",
       "        if (!display || display === 'none') {{\n",
       "            console.log([gd, 'removed!']);\n",
       "            Plotly.purge(gd);\n",
       "            observer.disconnect();\n",
       "        }}\n",
       "}});\n",
       "\n",
       "// Listen for the removal of the full notebook cells\n",
       "var notebookContainer = gd.closest('#notebook-container');\n",
       "if (notebookContainer) {{\n",
       "    x.observe(notebookContainer, {childList: true});\n",
       "}}\n",
       "\n",
       "// Listen for the clearing of the current output cell\n",
       "var outputEl = gd.closest('.output');\n",
       "if (outputEl) {{\n",
       "    x.observe(outputEl, {childList: true});\n",
       "}}\n",
       "\n",
       "                        })                };                });            </script>        </div>"
      ]
     },
     "metadata": {},
     "output_type": "display_data"
    }
   ],
   "source": [
    "fig = px.scatter(feat_imp_probe_ros.sort_values(by = 'value'),x = 'value', y = 'features', template = \"plotly_white\",\n",
    "                  color_discrete_sequence = [orange],\n",
    "\n",
    "                 category_orders = {'significant': ['p > 0.05','p < 0.05 uncorrected', 'p < 0.05 FDR corrected']}, \n",
    "                 labels = {'value':'Feature importance', 'features': 'Markers'}\n",
    "\n",
    "                )\n",
    "\n",
    "fig.update_traces(marker=dict(size = 8))\n",
    "\n",
    "fig.update_layout(\n",
    "    autosize=False,\n",
    "    width=800,\n",
    "    height=1000,\n",
    "#     xaxis= {'range': (0.34, 0.66)},\n",
    "    yaxis = {\n",
    "            'showticklabels': True,\n",
    "            'tickmode': 'linear',\n",
    "        }\n",
    "\n",
    ")\n",
    "\n",
    "fig.show()"
   ]
  },
  {
   "cell_type": "markdown",
   "id": "excellent-liberal",
   "metadata": {},
   "source": [
    "# By Trial Mulivariate analysis"
   ]
  },
  {
   "cell_type": "markdown",
   "id": "overall-giving",
   "metadata": {
    "tags": []
   },
   "source": [
    "## On-task Vs Mind- Wandering\n",
    "This can only be performed for PC probes  as they are the only ones with On-task reports."
   ]
  },
  {
   "cell_type": "code",
   "execution_count": null,
   "id": "organizational-listing",
   "metadata": {},
   "outputs": [],
   "source": [
    "df_mind = (\n",
    "    df_markers\n",
    "    .query(\"probe == 'PC'\")\n",
    "    .assign(\n",
    "    mind2 = lambda df: np.where(df.mind == 'on-task', 'on-task', 'mw'))\n",
    "#     .query(\"mind != 'dMW'\") #if you want to test against just one of the mw\n",
    "    .drop(['participant', 'probe', 'mind', 'segment'], axis = 1) # drop mind or mind2 also\n",
    ")"
   ]
  },
  {
   "cell_type": "code",
   "execution_count": null,
   "id": "sunset-philippines",
   "metadata": {},
   "outputs": [
    {
     "data": {
      "image/png": "[encoded data removed]",
      "text/plain": [
       "<Figure size 360x360 with 1 Axes>"
      ]
     },
     "metadata": {},
     "output_type": "display_data"
    },
    {
     "data": {
      "image/png": "[encoded data removed]",
      "text/plain": [
       "<Figure size 864x648 with 1 Axes>"
      ]
     },
     "metadata": {},
     "output_type": "display_data"
    }
   ],
   "source": [
    "df_auc_mind_trial = multivariate_classifier(data = df_mind, label = 'mind2', features = df_mind.drop('mind2', axis = 1).columns, \n",
    "                                 model = 'forest', pca =False, n_components = 10,\n",
    "                                 cv_splits= 5,grid_search = False, \n",
    "                                 permutation = True, n_permutations = 1000)\n",
    "\n",
    "df_auc_mind_trial.to_csv('Data/multivariate_mind_trial.csv')"
   ]
  },
  {
   "cell_type": "markdown",
   "id": "continuous-newman",
   "metadata": {},
   "source": [
    "## dMW Vs sMW\n",
    "This will be only performed in SC as they have more trials"
   ]
  },
  {
   "cell_type": "code",
   "execution_count": null,
   "id": "mounted-structure",
   "metadata": {},
   "outputs": [],
   "source": [
    "df_mw = (\n",
    "    df_markers\n",
    "    .query(\"probe == 'SC'\")\n",
    "    .query(\"mind != 'on-task'\")\n",
    "    .drop(['participant', 'probe','segment'], axis = 1)\n",
    ")"
   ]
  },
  {
   "cell_type": "code",
   "execution_count": null,
   "id": "exclusive-folder",
   "metadata": {},
   "outputs": [],
   "source": [
    "df_auc_mw_trial = multivariate_classifier(data = df_mw, label = 'mind', features =  df_mw.drop('mind', axis = 1).columns,\n",
    "                                          model = 'forest', grid_search = False, plot = True, permutation = True, n_permutations = 1000)\n",
    "\n",
    "df_auc_mw_trial.to_csv('Data/multivariate_mw_trial.csv')"
   ]
  },
  {
   "cell_type": "markdown",
   "id": "scenic-branch",
   "metadata": {},
   "source": [
    "# Multivariate only wih significant markers"
   ]
  },
  {
   "cell_type": "code",
   "execution_count": null,
   "id": "figured-dallas",
   "metadata": {},
   "outputs": [],
   "source": [
    "svm_mind = pd.read_csv('Data/univariate_roc_mind_segment.csv')\n",
    "aucs_mind = svm_mind.groupby('markers', as_index= False).agg({'AUC':'mean', 'significant':'first'})\n",
    "\n",
    "svm_mw = pd.read_csv('Data/univariate_roc_mw_segment.csv')\n",
    "aucs_mw = svm_mw.groupby('markers', as_index= False).agg({'AUC':'mean', 'significant':'first'})\n",
    "\n",
    "\n",
    "significant_mind = aucs_mind.query(\"significant != 'p > 0.05'\").markers.to_list()\n",
    "# significant_mw = aucs_mw.query(\"significant != 'p > 0.05'\").markers.to_list()\n",
    "significant_mw = aucs_mw.query(\"significant == 'p < 0.05 FDR corrected'\").markers.to_list()\n",
    "\n",
    "\n",
    "significant_markers = significant_mind + significant_mw"
   ]
  },
  {
   "cell_type": "code",
   "execution_count": null,
   "id": "parental-tenant",
   "metadata": {},
   "outputs": [
    {
     "data": {
      "image/png": "[encoded data removed]",
      "text/plain": [
       "<Figure size 360x360 with 1 Axes>"
      ]
     },
     "metadata": {},
     "output_type": "display_data"
    },
    {
     "data": {
      "image/png": "[encoded data removed]",
      "text/plain": [
       "<Figure size 864x648 with 1 Axes>"
      ]
     },
     "metadata": {},
     "output_type": "display_data"
    }
   ],
   "source": [
    "df_auc_mind_significants = multivariate_classifier(data = df_mind, label = 'mind2', features = df_mind[significant_mind].columns, \n",
    "                                 model = 'forest', pca =False, n_components = 10,\n",
    "                                 cv_splits= 5,\n",
    "                                 permutation = False, n_permutations = 1000)\n",
    "\n",
    "df_auc_mind_significants.to_csv('Data/multivariate_mind_segment_significants.csv')"
   ]
  },
  {
   "cell_type": "markdown",
   "id": "continental-marriage",
   "metadata": {},
   "source": [
    "# Multivariate only wih 2 most important markers"
   ]
  },
  {
   "cell_type": "code",
   "execution_count": null,
   "id": "numerical-extreme",
   "metadata": {},
   "outputs": [],
   "source": [
    "svm_mind = pd.read_csv('Data/univariate_roc_mind_segment.csv')\n",
    "aucs_mind = svm_mind.groupby('markers', as_index= False).agg({'AUC':'mean', 'significant':'first'})\n",
    "\n",
    "svm_mw = pd.read_csv('Data/univariate_roc_mw_segment.csv')\n",
    "aucs_mw = svm_mw.groupby('markers', as_index= False).agg({'AUC':'mean', 'significant':'first'})\n",
    "\n",
    "\n",
    "significant_mind = aucs_mind.query(\"significant != 'p > 0.05'\").markers.to_list()\n",
    "# significant_mw = aucs_mw.query(\"significant != 'p > 0.05'\").markers.to_list()\n",
    "significant_mw = aucs_mw.query(\"significant == 'p < 0.05 FDR corrected'\").markers.to_list()\n",
    "\n",
    "\n",
    "significant_markers = significant_mind + significant_mw"
   ]
  },
  {
   "cell_type": "code",
   "execution_count": null,
   "id": "alternative-exclusion",
   "metadata": {},
   "outputs": [
    {
     "data": {
      "image/png": "[encoded data removed]",
      "text/plain": [
       "<Figure size 360x360 with 1 Axes>"
      ]
     },
     "metadata": {},
     "output_type": "display_data"
    }
   ],
   "source": [
    "df_auc_mind_significants = multivariate_classifier(data = df_mind, label = 'mind2', features = df_mind[['t_n_std', 't_n_mean']].columns, \n",
    "                                 model = 'SVM', pca =False, n_components = 10,\n",
    "                                 cv_splits= 5, grid_search  =False,\n",
    "                                 permutation = False, n_permutations = 1000)\n",
    "\n",
    "df_auc_mind_significants.to_csv('Data/multivariate_mind_segment_significants.csv')"
   ]
  },
  {
   "cell_type": "code",
   "execution_count": null,
   "id": "unavailable-dependence",
   "metadata": {},
   "outputs": [],
   "source": []
  }
 ],
 "metadata": {
  "interpreter": {
   "hash": "b9ecc02849e84b87e80586ea27bc0eed086bed80b3a52d2dc611431340e96268"
  },
  "kernelspec": {
   "display_name": "Python 3.9.7 ('mne')",
   "language": "python",
   "name": "python3"
  },
  "language_info": {
   "codemirror_mode": {
    "name": "ipython",
    "version": 3
   },
   "file_extension": ".py",
   "mimetype": "text/x-python",
   "name": "python",
   "nbconvert_exporter": "python",
   "pygments_lexer": "ipython3",
   "version": "3.9.7"
  }
 },
 "nbformat": 4,
 "nbformat_minor": 5
}
