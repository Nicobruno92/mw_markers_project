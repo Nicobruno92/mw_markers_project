{
 "cells": [
  {
   "cell_type": "code",
   "execution_count": 1,
   "id": "earlier-steering",
   "metadata": {},
   "outputs": [],
   "source": [
    "import numpy as np\n",
    "import seaborn as sns\n",
    "import pandas as pd \n",
    "import matplotlib.pyplot as plt\n",
    "from sklearn.metrics import roc_auc_score\n",
    "from sklearn.svm import SVC\n",
    "from sklearn.preprocessing import StandardScaler, RobustScaler\n",
    "from sklearn.pipeline import Pipeline\n",
    "from sklearn.model_selection import GridSearchCV, train_test_split, cross_val_score, GroupShuffleSplit"
   ]
  },
  {
   "cell_type": "code",
   "execution_count": 2,
   "id": "perceived-synthetic",
   "metadata": {},
   "outputs": [],
   "source": [
    "epoch_type = 'evoked'\n",
    "# epoch_type = 'pseudo-rs'\n",
    "\n",
    "all_participants = ['VP07','VP08','VP09', 'VP10','VP11','VP12','VP13','VP14','VP18','VP19','VP20','VP22','VP23','VP24','VP25','VP26','VP27','VP28','VP29','VP30','VP31','VP32','VP33','VP35','VP36','VP37']\n",
    "\n",
    "path = '/media/nicolas.bruno/63f8a366-34b7-4896-a7ce-b5fb4ee78535/Nico/MW_eeg_data/minmarker/' #icm-linux\n",
    "# path = '/Users/nicobruno/ownCloud/MW_eeg_data/minmarker/' #nico-mac"
   ]
  },
  {
   "cell_type": "code",
   "execution_count": 3,
   "id": "particular-selling",
   "metadata": {},
   "outputs": [],
   "source": [
    "df_markers = pd.DataFrame()\n",
    "\n",
    "for i,v in enumerate(all_participants): \n",
    "    participant = v\n",
    "    \n",
    "    folder = path + participant +'/'\n",
    "    \n",
    "    df_ = pd.read_csv(folder+ participant + '_' + epoch_type + '_all_marker.csv', index_col = 0)\n",
    "    df_['participant'] = i\n",
    "    df_markers = df_markers.append(df_)\n",
    "    \n",
    "df_markers.to_csv('all_markers.csv')"
   ]
  },
  {
   "cell_type": "markdown",
   "id": "conservative-prophet",
   "metadata": {},
   "source": [
    "# Mulivariate analysis: On-task Vs Mind- Wandering\n",
    "This can only be performed for PC probes  as they are the only ones with On-task reports."
   ]
  },
  {
   "cell_type": "code",
   "execution_count": 5,
   "id": "historical-thread",
   "metadata": {},
   "outputs": [],
   "source": [
    "df_mind = (\n",
    "    df_markers\n",
    "    .query(\"probe == 'PC'\")\n",
    "    .assign(\n",
    "    mind2 = lambda df: np.where(df.mind == 'on-task', 'on-task', 'mw'))\n",
    "#     .query(\"mind != 'sMW'\") #if you want to test against just one of the mw\n",
    "    .drop(['participant', 'probe', 'mind'], axis = 1) # drop mind or mind2 also\n",
    ")"
   ]
  },
  {
   "cell_type": "code",
   "execution_count": 121,
   "id": "aboriginal-privilege",
   "metadata": {},
   "outputs": [
    {
     "name": "stdout",
     "output_type": "stream",
     "text": [
      "{'SVM__C': 0.001, 'SVM__gamma': 0.1}\n",
      "AUC whole_model = 0.6036953242835595\n",
      "Index(['mw', 'on-task'], dtype='object')\n"
     ]
    },
    {
     "data": {
      "image/png": "[encoded data removed]",
      "text/plain": [
       "<Figure size 360x360 with 1 Axes>"
      ]
     },
     "metadata": {
      "needs_background": "light"
     },
     "output_type": "display_data"
    }
   ],
   "source": [
    "AUC = []\n",
    "y, label = pd.factorize(df_mind['mind2'])\n",
    "X = df_mind.drop('mind2', axis=1).astype('float32').values\n",
    "steps = [('scaler', StandardScaler()), ('SVM', SVC(probability=True))]\n",
    "pipe = Pipeline(steps)\n",
    "X_train, X_test, y_train, y_test = train_test_split(X,y,test_size=0.2, stratify=y)\n",
    "parameteres = {'SVM__C':[0.001,0.1,10,100,10e5], 'SVM__gamma':[0.1,0.01, 0.001]}\n",
    "grid = GridSearchCV(pipe, param_grid=parameteres, cv=5)\n",
    "grid.fit(X_train, y_train)\n",
    "y_proba = grid.predict_proba(X_test)\n",
    "auc = roc_auc_score(y_test, y_proba[:,1])\n",
    "print(grid.best_params_)\n",
    "print(f'AUC whole_model = {auc}')\n",
    "AUC.append(['whole_model', auc])\n",
    "\n",
    "print(label)\n",
    "df_auc = pd.DataFrame(AUC, columns = ['marker', 'AUC'])\n",
    "\n",
    "sns.catplot(x = 'AUC', y = 'marker', data = df_auc, orient = 'h')\n",
    "plt.axvline(x = 0.5, linestyle = 'dashed')\n",
    "plt.show()"
   ]
  },
  {
   "cell_type": "code",
   "execution_count": 19,
   "id": "frequent-island",
   "metadata": {},
   "outputs": [
    {
     "name": "stdout",
     "output_type": "stream",
     "text": [
      "Index(['mw', 'on-task'], dtype='object')\n",
      "0.591970832258805\n"
     ]
    }
   ],
   "source": [
    "y, label = pd.factorize(df_mind['mind2'])\n",
    "X = df_mind.drop('mind2', axis=1).astype('float32').values\n",
    "steps = [('scaler', StandardScaler()), ('SVM', SVC(C = 0.001, gamma = 0.1, probability=True))]\n",
    "pipe = Pipeline(steps)\n",
    "cv = GroupShuffleSplit(n_splits=50, train_size=0.8, test_size=0.2,\n",
    "                       random_state=42)\n",
    "\n",
    "aucs = cross_val_score(\n",
    "    X=X, y=y, estimator=pipe,\n",
    "    scoring='roc_auc', cv=cv, groups=np.arange(len(X)))\n",
    "\n",
    "\n",
    "print(label)\n",
    "print(np.mean(aucs))\n",
    "\n"
   ]
  },
  {
   "cell_type": "code",
   "execution_count": 39,
   "id": "unavailable-amsterdam",
   "metadata": {},
   "outputs": [
    {
     "data": {
      "image/png": "[encoded data removed]",
      "text/plain": [
       "<Figure size 360x360 with 1 Axes>"
      ]
     },
     "metadata": {
      "needs_background": "light"
     },
     "output_type": "display_data"
    }
   ],
   "source": [
    "auc = pd.DataFrame(aucs, columns = ['auc'])\n",
    "sns.catplot(x = 'auc', orient = 'h', data = auc, kind = 'violin')\n",
    "plt.axvline(x = 0.5, linestyle = 'dashed')\n",
    "plt.show()"
   ]
  },
  {
   "cell_type": "markdown",
   "id": "pending-lebanon",
   "metadata": {},
   "source": [
    "# Univariate analysis: dMW Vs sMW\n",
    "This will be only performed in SC as they have more trials"
   ]
  },
  {
   "cell_type": "code",
   "execution_count": 38,
   "id": "north-contrary",
   "metadata": {},
   "outputs": [],
   "source": [
    "df_mw = (\n",
    "    df_markers\n",
    "    .query(\"probe == 'SC'\")\n",
    "    .query(\"mind != 'on-task'\")\n",
    "    .drop(['participant', 'probe'], axis = 1)\n",
    ")"
   ]
  },
  {
   "cell_type": "code",
   "execution_count": null,
   "id": "desperate-allocation",
   "metadata": {},
   "outputs": [],
   "source": [
    "AUC = []\n",
    "y, label = pd.factorize(df_mw['mind'])\n",
    "X = df_mw.drop('mind', axis=1).astype('float32').values\n",
    "steps = [('scaler', StandardScaler()), ('SVM', SVC(probability=True))]\n",
    "pipe = Pipeline(steps)\n",
    "X_train, X_test, y_train, y_test = train_test_split(X,y,test_size=0.2, stratify=y)\n",
    "parameteres = {'SVM__C':[0.001,0.1,10,100,10e5], 'SVM__gamma':[0.1,0.01, 0.001]}\n",
    "grid = GridSearchCV(pipe, param_grid=parameteres, cv=5)\n",
    "grid.fit(X_train, y_train)\n",
    "y_proba = grid.predict_proba(X_test)\n",
    "auc = roc_auc_score(y_test, y_proba[:,1])\n",
    "print(f'AUC whole_model = {auc}')\n",
    "AUC.append(['whole_model', auc])\n",
    "\n",
    "print(label)\n",
    "df_auc = pd.DataFrame(AUC, columns = ['marker', 'AUC'])\n",
    "\n",
    "sns.catplot(x = 'AUC', y = 'marker', data = df_auc, orient = 'h')\n",
    "plt.axvline(x = 0.5, linestyle = 'dashed')\n",
    "plt.show()"
   ]
  },
  {
   "cell_type": "code",
   "execution_count": null,
   "id": "fitted-voice",
   "metadata": {},
   "outputs": [],
   "source": []
  }
 ],
 "metadata": {
  "kernelspec": {
   "display_name": "Python 3",
   "language": "python",
   "name": "python3"
  },
  "language_info": {
   "codemirror_mode": {
    "name": "ipython",
    "version": 3
   },
   "file_extension": ".py",
   "mimetype": "text/x-python",
   "name": "python",
   "nbconvert_exporter": "python",
   "pygments_lexer": "ipython3",
   "version": "3.7.4"
  }
 },
 "nbformat": 4,
 "nbformat_minor": 5
}
