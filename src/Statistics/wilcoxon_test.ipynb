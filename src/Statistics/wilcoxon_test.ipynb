{
 "cells": [
  {
   "cell_type": "code",
   "execution_count": 6,
   "metadata": {},
   "outputs": [],
   "source": [
    "# %%\n",
    "import os\n",
    "import numpy as np\n",
    "import seaborn as sns\n",
    "import pandas as pd\n",
    "import matplotlib.pyplot as plt\n",
    "\n",
    "import plotly.express as px\n",
    "import plotly.graph_objects as go\n",
    "import plotly.offline as pyo\n",
    "import plotly.io as pio\n",
    "from plotly.subplots import make_subplots\n",
    "\n",
    "from scipy.stats import wilcoxon, mannwhitneyu, trim_mean, rankdata\n",
    "from pingouin import wilcoxon\n",
    "from statsmodels.stats.multitest import multipletests\n",
    "from sklearn.metrics import roc_auc_score\n",
    "\n",
    "# from impact_SE import impact\n",
    "\n",
    "\n",
    "import sys\n",
    "sys.path.insert(0, '../../')\n",
    "\n",
    "\n",
    "# %%\n",
    "# plotting parameters\n",
    "grey = \"#21201F\"\n",
    "green = \"#9AC529\"\n",
    "lblue = \"#42B9B2\"\n",
    "pink = \"#DE237B\"\n",
    "orange = \"#F38A31\"\n",
    "\n",
    "colors = [pink,  green, orange, lblue]\n",
    "\n",
    "comparisons = ['on-task_vs_mw','on-task_vs_dMW', 'on-task_vs_sMW', 'dMW_vs_sMW']\n",
    "\n",
    "# %% [markdown]\n",
    "# # Load Data\n",
    "# Loads data from the computed markers. From `Data` directory\n",
    "data_path = \"../../Data/\"\n",
    "results_path = \"../..//Results/Stats/\"\n",
    "fig_path = results_path + \"Figs/\"\n",
    "\n",
    "df = pd.read_csv(os.path.join(data_path, 'all_markers.csv'), index_col = 0)\n",
    "\n",
    "# %%\n",
    "markers = ['wSMI_1', 'wSMI_2', 'wSMI_4', 'wSMI_8', 'p_e_1', 'p_e_2',\n",
    "       'p_e_4', 'p_e_8', 'k', 'se','msf', 'sef90', 'sef95', 'b', 'b_n', 'g',\n",
    "       'g_n', 't', 't_n', 'd', 'd_n', 'a_n', 'a', 'CNV', 'P1', 'P3a', 'P3b',]\n",
    "\n",
    "erps =['CNV', 'P1', 'P3a', 'P3b']\n",
    "\n",
    "df_markers = (df\n",
    "              .dropna()\n",
    "              .query(\"stimuli == 'go'\") # only go trials\n",
    "              .query(\"correct == 'correct'\") #only correct trials\n",
    "              .query('prev_trial < 6') # only last 5 trials before each probe. \n",
    "              .drop(['stimuli', 'correct', 'prev_trial', 'label', 'events',  'epoch_type', 'preproc', 'ft', 'ft_n'], axis = 1) # drop unnecessary columns\n",
    "              .query(\"mind in ['on-task','dMW', 'sMW']\") # only mind wandering and on-task trials\n",
    "            #   .groupby(['segment', 'participant']).filter(lambda x: len(x) > 1) # drop participants with less than 2 trials per segment\n",
    "             )\n",
    "\n",
    "\n",
    "comparisons = ['on-task_vs_mw','on-task_vs_dMW', 'on-task_vs_sMW', 'dMW_vs_sMW']\n",
    "\n",
    "def preprocess_data(df_markers, markers, probe_type, comparison=None, only_full_participants=False, average_participants = False,latex_names=False, results_path=None):\n",
    "    # Filtering and grouping\n",
    "    df = df_markers.query(f\"probe == '{probe_type}'\")\n",
    "    mind_types = comparison.split('_vs_')    \n",
    "\n",
    "    # Adjust mind categories based on comparison type\n",
    "    if comparison:\n",
    "        if comparison == 'on-task_vs_mw':\n",
    "            df['mind_category'] = df['mind'].replace({'dMW': 'mw', 'sMW': 'mw'})\n",
    "        elif comparison in ['on-task_vs_dMW', 'on-task_vs_sMW', 'dMW_vs_sMW']:\n",
    "            df = df[df['mind'].isin(mind_types)]\n",
    "            df['mind_category'] = df['mind']\n",
    "    else:\n",
    "        df['mind_category'] = df['mind']\n",
    "\n",
    "    # Aggregation dictionary\n",
    "    agg_dict = {k: [apply_trim_mean,'std'] for k in markers}\n",
    "    agg_dict.update({k: 'first' for k in df.drop(markers, axis=1).columns})\n",
    "    df = df.groupby(['segment', 'participant'], as_index=False).agg(agg_dict)\n",
    "    # df = df.groupby(['mind_category', 'participant'], as_index=False).agg(agg_dict)\n",
    "    \n",
    "\n",
    "    # Renaming columns\n",
    "    df.columns = df.columns.map(\"_\".join)\n",
    "    rename_dict = {\n",
    "        'participant_first': 'participant',\n",
    "        'probe_first': 'probe',\n",
    "        'segment_first': 'segment',\n",
    "        'mind_first': 'mind',\n",
    "        'mind_category_first': 'mind_category'\n",
    "    }\n",
    "        # Update rename_dict for mean columns\n",
    "    for marker in markers:\n",
    "        rename_dict[f\"{marker}_apply_trim_mean\"] = f\"{marker}_mean\"\n",
    "        \n",
    "    df = df.rename(columns=rename_dict)\n",
    "\n",
    "    # Dropping unnecessary columns\n",
    "    df = df.drop(['probe', 'segment'], axis=1)\n",
    "\n",
    "    if latex_names:\n",
    "        # Apply latex naming\n",
    "        df = correct_name_markers(df)\n",
    "        df.columns = df.columns.map(\"$_{\".join).map(lambda x: x + '}$').map(lambda x: x.replace('$$', ''))\n",
    "\n",
    "    # Convert mind category to numeric for analysis\n",
    "    # mind_categories = df['mind_category'].unique()\n",
    "    mind_category_numeric = {cat: i for i, cat in enumerate(mind_types)}\n",
    "    df['mind_numeric'] = df['mind_category'].map(mind_category_numeric)\n",
    "\n",
    "    # Remove outliers\n",
    "    columns_to_check = df.drop(['mind_category', 'mind_numeric', 'participant'], axis=1).columns\n",
    "    # df = replace_outliers_with_participant_mean(df, columns_to_check, z_threshold=3)\n",
    "\n",
    "    if only_full_participants:\n",
    "        # Filter participants\n",
    "        df = df.dropna().groupby('participant').filter(lambda group: filter_participants(group, 'mind_numeric'))\n",
    "        \n",
    "    if average_participants:\n",
    "        df = df.drop(['mind', 'mind_category'], axis = 1).groupby(['participant', 'mind_numeric']).mean().reset_index()\n",
    "\n",
    "    # Save to CSV if a path is provided\n",
    "    if results_path:\n",
    "        df.to_csv(os.path.join(results_path, f'data_{comparison}.csv'))\n",
    "\n",
    "    return df\n",
    "\n",
    "# Helper functions\n",
    "from scipy.stats import zscore\n",
    "def replace_outliers_with_participant_mean(df, columns, participant_column='participant', z_threshold=3):\n",
    "    df_copy = df.copy()\n",
    "\n",
    "    # Identify numeric columns\n",
    "    numeric_cols = df_copy.select_dtypes(include=[np.number]).columns\n",
    "\n",
    "    for col in columns:\n",
    "        if col in numeric_cols:\n",
    "            for participant in df_copy[participant_column].unique():\n",
    "                subset = df_copy[df_copy[participant_column] == participant]\n",
    "                col_zscore = zscore(subset[col])\n",
    "                mean_value = np.mean(subset[col][np.abs(col_zscore) < z_threshold])\n",
    "\n",
    "                # Count the outliers for each participant\n",
    "                outlier_count = np.sum(np.abs(col_zscore) >= z_threshold)\n",
    "                total = len(col_zscore)\n",
    "\n",
    "                # Replace outliers with the mean value for each participant\n",
    "                subset_indices = subset.index[np.abs(col_zscore) >= z_threshold]\n",
    "                df_copy.loc[subset_indices, col] = mean_value\n",
    "\n",
    "                if outlier_count > 0:\n",
    "                    print(f\"Replaced {outlier_count} outliers in column '{col}' out of {total} observations for participant {participant} with the mean value.\")\n",
    "    return df_copy\n",
    "\n",
    "\n",
    "def filter_participants(group, mind_col_numeric):\n",
    "    counts = group[mind_col_numeric].value_counts()\n",
    "    # Check if there is only one level of mind state for the participant\n",
    "    if len(counts) == 1:\n",
    "        return False\n",
    "    return all(count >= 1 for count in counts)\n",
    "\n",
    "# Define a function to apply the trimmed mean\n",
    "def apply_trim_mean(group):\n",
    "    return trim_mean(group, 0.1)\n",
    "\n",
    "\n",
    "# Function to calculate Cliff's Delta\n",
    "def cliffs_delta(lst1, lst2):\n",
    "    all_data = np.concatenate([lst1, lst2])\n",
    "    ranks = rankdata(all_data)\n",
    "    rank1 = ranks[:len(lst1)]\n",
    "    rank2 = ranks[len(lst1):]\n",
    "    delta = 2 * np.mean(rank1 > rank2) - 1\n",
    "    return delta\n",
    "\n",
    "def cohens_d(group1, group2):\n",
    "    # Calculate the size of each group\n",
    "    n1, n2 = len(group1), len(group2)\n",
    "    \n",
    "    # Calculate the variance of each group\n",
    "    var1, var2 = np.var(group1, ddof=1), np.var(group2, ddof=1)\n",
    "    \n",
    "    # Calculate the pooled standard deviation (using unbiased estimator)\n",
    "    pooled_std = np.sqrt(((n1 - 1) * var1 + (n2 - 1) * var2) / (n1 + n2 - 2))\n",
    "    \n",
    "    # Calculate Cohen's d\n",
    "    d = (np.mean(group1) - np.mean(group2)) / pooled_std\n",
    "    return d\n",
    "\n",
    "def rosenthals_r(statistic, n_pairs):    \n",
    "    # Calculate the mean and standard deviation of the rank sum distribution under the null hypothesis\n",
    "    mean_rank_sum = n_pairs * (n_pairs + 1) / 4\n",
    "    std_rank_sum = np.sqrt(n_pairs * (n_pairs + 1) * (2 * n_pairs + 1) / 24)\n",
    "    \n",
    "    # Calculate the Z-score\n",
    "    z = (statistic - mean_rank_sum) / std_rank_sum\n",
    "    \n",
    "    # Calculate Rosenthal's r\n",
    "    r = z / np.sqrt(n_pairs)\n",
    "    return r\n"
   ]
  },
  {
   "cell_type": "markdown",
   "metadata": {},
   "source": [
    "# On-task vs Off-task "
   ]
  },
  {
   "cell_type": "code",
   "execution_count": 17,
   "metadata": {},
   "outputs": [
    {
     "name": "stderr",
     "output_type": "stream",
     "text": [
      "/var/folders/12/vc8ry6qs78n5ks6ypt4cpx580000gq/T/ipykernel_10437/378568630.py:75: SettingWithCopyWarning:\n",
      "\n",
      "\n",
      "A value is trying to be set on a copy of a slice from a DataFrame.\n",
      "Try using .loc[row_indexer,col_indexer] = value instead\n",
      "\n",
      "See the caveats in the documentation: https://pandas.pydata.org/pandas-docs/stable/user_guide/indexing.html#returning-a-view-versus-a-copy\n",
      "\n"
     ]
    },
    {
     "data": {
      "text/html": [
       "<div>\n",
       "<style scoped>\n",
       "    .dataframe tbody tr th:only-of-type {\n",
       "        vertical-align: middle;\n",
       "    }\n",
       "\n",
       "    .dataframe tbody tr th {\n",
       "        vertical-align: top;\n",
       "    }\n",
       "\n",
       "    .dataframe thead th {\n",
       "        text-align: right;\n",
       "    }\n",
       "</style>\n",
       "<table border=\"1\" class=\"dataframe\">\n",
       "  <thead>\n",
       "    <tr style=\"text-align: right;\">\n",
       "      <th></th>\n",
       "      <th>mind_numeric</th>\n",
       "      <th>wSMI_1_mean</th>\n",
       "      <th>wSMI_1_std</th>\n",
       "      <th>wSMI_2_mean</th>\n",
       "      <th>wSMI_2_std</th>\n",
       "      <th>wSMI_4_mean</th>\n",
       "      <th>wSMI_4_std</th>\n",
       "      <th>wSMI_8_mean</th>\n",
       "      <th>wSMI_8_std</th>\n",
       "      <th>p_e_1_mean</th>\n",
       "      <th>...</th>\n",
       "      <th>a_mean</th>\n",
       "      <th>a_std</th>\n",
       "      <th>CNV_mean</th>\n",
       "      <th>CNV_std</th>\n",
       "      <th>P1_mean</th>\n",
       "      <th>P1_std</th>\n",
       "      <th>P3a_mean</th>\n",
       "      <th>P3a_std</th>\n",
       "      <th>P3b_mean</th>\n",
       "      <th>P3b_std</th>\n",
       "    </tr>\n",
       "    <tr>\n",
       "      <th>participant</th>\n",
       "      <th></th>\n",
       "      <th></th>\n",
       "      <th></th>\n",
       "      <th></th>\n",
       "      <th></th>\n",
       "      <th></th>\n",
       "      <th></th>\n",
       "      <th></th>\n",
       "      <th></th>\n",
       "      <th></th>\n",
       "      <th></th>\n",
       "      <th></th>\n",
       "      <th></th>\n",
       "      <th></th>\n",
       "      <th></th>\n",
       "      <th></th>\n",
       "      <th></th>\n",
       "      <th></th>\n",
       "      <th></th>\n",
       "      <th></th>\n",
       "      <th></th>\n",
       "    </tr>\n",
       "  </thead>\n",
       "  <tbody>\n",
       "    <tr>\n",
       "      <th>0</th>\n",
       "      <td>1</td>\n",
       "      <td>0.035260</td>\n",
       "      <td>0.002631</td>\n",
       "      <td>0.032374</td>\n",
       "      <td>0.001109</td>\n",
       "      <td>0.055226</td>\n",
       "      <td>0.003070</td>\n",
       "      <td>0.108343</td>\n",
       "      <td>0.004707</td>\n",
       "      <td>0.804606</td>\n",
       "      <td>...</td>\n",
       "      <td>-105.218480</td>\n",
       "      <td>2.021775</td>\n",
       "      <td>7.372615</td>\n",
       "      <td>6.438771</td>\n",
       "      <td>-2.258319e-06</td>\n",
       "      <td>0.000003</td>\n",
       "      <td>1.440249e-06</td>\n",
       "      <td>0.000004</td>\n",
       "      <td>1.983164e-06</td>\n",
       "      <td>0.000003</td>\n",
       "    </tr>\n",
       "    <tr>\n",
       "      <th>2</th>\n",
       "      <td>1</td>\n",
       "      <td>0.031381</td>\n",
       "      <td>0.001118</td>\n",
       "      <td>0.032023</td>\n",
       "      <td>0.001014</td>\n",
       "      <td>0.055475</td>\n",
       "      <td>0.001349</td>\n",
       "      <td>0.105680</td>\n",
       "      <td>0.002303</td>\n",
       "      <td>0.782346</td>\n",
       "      <td>...</td>\n",
       "      <td>-104.445523</td>\n",
       "      <td>2.499929</td>\n",
       "      <td>2.131507</td>\n",
       "      <td>14.555517</td>\n",
       "      <td>1.760297e-06</td>\n",
       "      <td>0.000008</td>\n",
       "      <td>7.006339e-06</td>\n",
       "      <td>0.000010</td>\n",
       "      <td>1.320102e-06</td>\n",
       "      <td>0.000002</td>\n",
       "    </tr>\n",
       "    <tr>\n",
       "      <th>3</th>\n",
       "      <td>1</td>\n",
       "      <td>0.029532</td>\n",
       "      <td>0.000878</td>\n",
       "      <td>0.032137</td>\n",
       "      <td>0.001648</td>\n",
       "      <td>0.055839</td>\n",
       "      <td>0.004185</td>\n",
       "      <td>0.115148</td>\n",
       "      <td>0.008252</td>\n",
       "      <td>0.761386</td>\n",
       "      <td>...</td>\n",
       "      <td>-96.807127</td>\n",
       "      <td>1.960061</td>\n",
       "      <td>-1.135250</td>\n",
       "      <td>8.542869</td>\n",
       "      <td>1.093961e-06</td>\n",
       "      <td>0.000005</td>\n",
       "      <td>-2.553166e-06</td>\n",
       "      <td>0.000004</td>\n",
       "      <td>-4.490205e-07</td>\n",
       "      <td>0.000003</td>\n",
       "    </tr>\n",
       "    <tr>\n",
       "      <th>4</th>\n",
       "      <td>1</td>\n",
       "      <td>0.031747</td>\n",
       "      <td>0.001319</td>\n",
       "      <td>0.033116</td>\n",
       "      <td>0.002059</td>\n",
       "      <td>0.056242</td>\n",
       "      <td>0.003158</td>\n",
       "      <td>0.111114</td>\n",
       "      <td>0.006824</td>\n",
       "      <td>0.801987</td>\n",
       "      <td>...</td>\n",
       "      <td>-100.223712</td>\n",
       "      <td>2.952559</td>\n",
       "      <td>12.886093</td>\n",
       "      <td>15.574864</td>\n",
       "      <td>1.443556e-06</td>\n",
       "      <td>0.000005</td>\n",
       "      <td>-1.480354e-06</td>\n",
       "      <td>0.000006</td>\n",
       "      <td>1.289769e-06</td>\n",
       "      <td>0.000003</td>\n",
       "    </tr>\n",
       "    <tr>\n",
       "      <th>6</th>\n",
       "      <td>1</td>\n",
       "      <td>0.032024</td>\n",
       "      <td>0.001464</td>\n",
       "      <td>0.032897</td>\n",
       "      <td>0.002124</td>\n",
       "      <td>0.054947</td>\n",
       "      <td>0.003825</td>\n",
       "      <td>0.106744</td>\n",
       "      <td>0.003403</td>\n",
       "      <td>0.807027</td>\n",
       "      <td>...</td>\n",
       "      <td>-107.866187</td>\n",
       "      <td>1.567244</td>\n",
       "      <td>5.174705</td>\n",
       "      <td>4.682918</td>\n",
       "      <td>1.626837e-07</td>\n",
       "      <td>0.000003</td>\n",
       "      <td>1.091704e-06</td>\n",
       "      <td>0.000003</td>\n",
       "      <td>2.832966e-06</td>\n",
       "      <td>0.000002</td>\n",
       "    </tr>\n",
       "    <tr>\n",
       "      <th>7</th>\n",
       "      <td>1</td>\n",
       "      <td>0.031444</td>\n",
       "      <td>0.000964</td>\n",
       "      <td>0.033931</td>\n",
       "      <td>0.001608</td>\n",
       "      <td>0.055553</td>\n",
       "      <td>0.003949</td>\n",
       "      <td>0.105947</td>\n",
       "      <td>0.004960</td>\n",
       "      <td>0.774167</td>\n",
       "      <td>...</td>\n",
       "      <td>-103.764451</td>\n",
       "      <td>1.552007</td>\n",
       "      <td>-3.083084</td>\n",
       "      <td>5.142349</td>\n",
       "      <td>2.015279e-06</td>\n",
       "      <td>0.000004</td>\n",
       "      <td>3.418528e-07</td>\n",
       "      <td>0.000009</td>\n",
       "      <td>1.594977e-06</td>\n",
       "      <td>0.000005</td>\n",
       "    </tr>\n",
       "    <tr>\n",
       "      <th>8</th>\n",
       "      <td>1</td>\n",
       "      <td>0.031381</td>\n",
       "      <td>0.001385</td>\n",
       "      <td>0.034383</td>\n",
       "      <td>0.002334</td>\n",
       "      <td>0.054442</td>\n",
       "      <td>0.002421</td>\n",
       "      <td>0.105632</td>\n",
       "      <td>0.005775</td>\n",
       "      <td>0.789446</td>\n",
       "      <td>...</td>\n",
       "      <td>-103.835895</td>\n",
       "      <td>1.706943</td>\n",
       "      <td>-5.248216</td>\n",
       "      <td>18.368933</td>\n",
       "      <td>5.712698e-06</td>\n",
       "      <td>0.000005</td>\n",
       "      <td>2.820454e-06</td>\n",
       "      <td>0.000009</td>\n",
       "      <td>-1.826481e-06</td>\n",
       "      <td>0.000004</td>\n",
       "    </tr>\n",
       "    <tr>\n",
       "      <th>10</th>\n",
       "      <td>1</td>\n",
       "      <td>0.032444</td>\n",
       "      <td>0.001150</td>\n",
       "      <td>0.032053</td>\n",
       "      <td>0.004578</td>\n",
       "      <td>0.054339</td>\n",
       "      <td>0.002348</td>\n",
       "      <td>0.110670</td>\n",
       "      <td>0.005128</td>\n",
       "      <td>0.834386</td>\n",
       "      <td>...</td>\n",
       "      <td>-109.673334</td>\n",
       "      <td>0.643078</td>\n",
       "      <td>-0.354065</td>\n",
       "      <td>6.711098</td>\n",
       "      <td>-1.123084e-06</td>\n",
       "      <td>0.000004</td>\n",
       "      <td>-3.227328e-06</td>\n",
       "      <td>0.000003</td>\n",
       "      <td>-2.027792e-06</td>\n",
       "      <td>0.000004</td>\n",
       "    </tr>\n",
       "    <tr>\n",
       "      <th>11</th>\n",
       "      <td>1</td>\n",
       "      <td>0.031866</td>\n",
       "      <td>0.001850</td>\n",
       "      <td>0.032988</td>\n",
       "      <td>0.002108</td>\n",
       "      <td>0.057132</td>\n",
       "      <td>0.005187</td>\n",
       "      <td>0.108444</td>\n",
       "      <td>0.005211</td>\n",
       "      <td>0.838234</td>\n",
       "      <td>...</td>\n",
       "      <td>-106.293638</td>\n",
       "      <td>1.818996</td>\n",
       "      <td>19.819837</td>\n",
       "      <td>10.299144</td>\n",
       "      <td>-3.279119e-07</td>\n",
       "      <td>0.000006</td>\n",
       "      <td>1.081052e-05</td>\n",
       "      <td>0.000008</td>\n",
       "      <td>6.444694e-06</td>\n",
       "      <td>0.000003</td>\n",
       "    </tr>\n",
       "    <tr>\n",
       "      <th>13</th>\n",
       "      <td>1</td>\n",
       "      <td>0.029736</td>\n",
       "      <td>0.001246</td>\n",
       "      <td>0.032692</td>\n",
       "      <td>0.001704</td>\n",
       "      <td>0.056835</td>\n",
       "      <td>0.004664</td>\n",
       "      <td>0.116877</td>\n",
       "      <td>0.010334</td>\n",
       "      <td>0.759379</td>\n",
       "      <td>...</td>\n",
       "      <td>-99.951133</td>\n",
       "      <td>2.666778</td>\n",
       "      <td>-2.071904</td>\n",
       "      <td>12.019245</td>\n",
       "      <td>-1.593570e-06</td>\n",
       "      <td>0.000005</td>\n",
       "      <td>-1.968770e-06</td>\n",
       "      <td>0.000006</td>\n",
       "      <td>-7.897685e-07</td>\n",
       "      <td>0.000004</td>\n",
       "    </tr>\n",
       "    <tr>\n",
       "      <th>15</th>\n",
       "      <td>1</td>\n",
       "      <td>0.029720</td>\n",
       "      <td>0.001906</td>\n",
       "      <td>0.031889</td>\n",
       "      <td>0.003049</td>\n",
       "      <td>0.054770</td>\n",
       "      <td>0.004335</td>\n",
       "      <td>0.108051</td>\n",
       "      <td>0.008370</td>\n",
       "      <td>0.787634</td>\n",
       "      <td>...</td>\n",
       "      <td>-104.696219</td>\n",
       "      <td>2.325060</td>\n",
       "      <td>6.045294</td>\n",
       "      <td>4.772580</td>\n",
       "      <td>-3.184302e-07</td>\n",
       "      <td>0.000002</td>\n",
       "      <td>2.158009e-06</td>\n",
       "      <td>0.000003</td>\n",
       "      <td>8.395127e-07</td>\n",
       "      <td>0.000002</td>\n",
       "    </tr>\n",
       "    <tr>\n",
       "      <th>16</th>\n",
       "      <td>1</td>\n",
       "      <td>0.031320</td>\n",
       "      <td>0.000770</td>\n",
       "      <td>0.033335</td>\n",
       "      <td>0.002190</td>\n",
       "      <td>0.053808</td>\n",
       "      <td>0.001781</td>\n",
       "      <td>0.106911</td>\n",
       "      <td>0.004895</td>\n",
       "      <td>0.788788</td>\n",
       "      <td>...</td>\n",
       "      <td>-106.001928</td>\n",
       "      <td>1.545480</td>\n",
       "      <td>-0.028536</td>\n",
       "      <td>4.037715</td>\n",
       "      <td>1.605302e-06</td>\n",
       "      <td>0.000003</td>\n",
       "      <td>2.779050e-06</td>\n",
       "      <td>0.000004</td>\n",
       "      <td>6.541016e-07</td>\n",
       "      <td>0.000002</td>\n",
       "    </tr>\n",
       "    <tr>\n",
       "      <th>17</th>\n",
       "      <td>1</td>\n",
       "      <td>0.031158</td>\n",
       "      <td>0.000819</td>\n",
       "      <td>0.033547</td>\n",
       "      <td>0.002151</td>\n",
       "      <td>0.055679</td>\n",
       "      <td>0.002990</td>\n",
       "      <td>0.107711</td>\n",
       "      <td>0.004411</td>\n",
       "      <td>0.787303</td>\n",
       "      <td>...</td>\n",
       "      <td>-104.818374</td>\n",
       "      <td>1.704199</td>\n",
       "      <td>1.008465</td>\n",
       "      <td>10.991791</td>\n",
       "      <td>-1.766166e-06</td>\n",
       "      <td>0.000004</td>\n",
       "      <td>-2.558709e-06</td>\n",
       "      <td>0.000005</td>\n",
       "      <td>3.148693e-06</td>\n",
       "      <td>0.000003</td>\n",
       "    </tr>\n",
       "    <tr>\n",
       "      <th>21</th>\n",
       "      <td>1</td>\n",
       "      <td>0.029155</td>\n",
       "      <td>0.001912</td>\n",
       "      <td>0.026941</td>\n",
       "      <td>0.006284</td>\n",
       "      <td>0.065253</td>\n",
       "      <td>0.005207</td>\n",
       "      <td>0.108064</td>\n",
       "      <td>0.004270</td>\n",
       "      <td>0.843585</td>\n",
       "      <td>...</td>\n",
       "      <td>-103.251565</td>\n",
       "      <td>2.284799</td>\n",
       "      <td>-6.981014</td>\n",
       "      <td>11.623037</td>\n",
       "      <td>-4.480798e-07</td>\n",
       "      <td>0.000004</td>\n",
       "      <td>-3.608485e-06</td>\n",
       "      <td>0.000002</td>\n",
       "      <td>3.802313e-06</td>\n",
       "      <td>0.000002</td>\n",
       "    </tr>\n",
       "    <tr>\n",
       "      <th>23</th>\n",
       "      <td>1</td>\n",
       "      <td>0.032202</td>\n",
       "      <td>0.001895</td>\n",
       "      <td>0.032222</td>\n",
       "      <td>0.002310</td>\n",
       "      <td>0.056296</td>\n",
       "      <td>0.008827</td>\n",
       "      <td>0.102911</td>\n",
       "      <td>0.007069</td>\n",
       "      <td>0.805901</td>\n",
       "      <td>...</td>\n",
       "      <td>-104.095182</td>\n",
       "      <td>2.804271</td>\n",
       "      <td>1.056887</td>\n",
       "      <td>4.610360</td>\n",
       "      <td>5.331106e-06</td>\n",
       "      <td>0.000002</td>\n",
       "      <td>5.125518e-06</td>\n",
       "      <td>0.000002</td>\n",
       "      <td>-1.564180e-06</td>\n",
       "      <td>0.000003</td>\n",
       "    </tr>\n",
       "    <tr>\n",
       "      <th>24</th>\n",
       "      <td>1</td>\n",
       "      <td>0.031504</td>\n",
       "      <td>0.001189</td>\n",
       "      <td>0.034523</td>\n",
       "      <td>0.001964</td>\n",
       "      <td>0.057143</td>\n",
       "      <td>0.003370</td>\n",
       "      <td>0.112797</td>\n",
       "      <td>0.008333</td>\n",
       "      <td>0.800593</td>\n",
       "      <td>...</td>\n",
       "      <td>-101.361632</td>\n",
       "      <td>1.750406</td>\n",
       "      <td>-1.946047</td>\n",
       "      <td>8.194195</td>\n",
       "      <td>2.815161e-06</td>\n",
       "      <td>0.000005</td>\n",
       "      <td>-2.230888e-06</td>\n",
       "      <td>0.000003</td>\n",
       "      <td>-4.662408e-07</td>\n",
       "      <td>0.000003</td>\n",
       "    </tr>\n",
       "    <tr>\n",
       "      <th>25</th>\n",
       "      <td>1</td>\n",
       "      <td>0.029319</td>\n",
       "      <td>0.001102</td>\n",
       "      <td>0.032660</td>\n",
       "      <td>0.001498</td>\n",
       "      <td>0.054271</td>\n",
       "      <td>0.002406</td>\n",
       "      <td>0.113206</td>\n",
       "      <td>0.007862</td>\n",
       "      <td>0.741280</td>\n",
       "      <td>...</td>\n",
       "      <td>-99.171475</td>\n",
       "      <td>2.111132</td>\n",
       "      <td>-0.917245</td>\n",
       "      <td>5.122524</td>\n",
       "      <td>-1.225116e-06</td>\n",
       "      <td>0.000007</td>\n",
       "      <td>-4.413133e-06</td>\n",
       "      <td>0.000005</td>\n",
       "      <td>7.856926e-08</td>\n",
       "      <td>0.000008</td>\n",
       "    </tr>\n",
       "  </tbody>\n",
       "</table>\n",
       "<p>17 rows × 55 columns</p>\n",
       "</div>"
      ],
      "text/plain": [
       "             mind_numeric  wSMI_1_mean  wSMI_1_std  wSMI_2_mean  wSMI_2_std  \\\n",
       "participant                                                                   \n",
       "0                       1     0.035260    0.002631     0.032374    0.001109   \n",
       "2                       1     0.031381    0.001118     0.032023    0.001014   \n",
       "3                       1     0.029532    0.000878     0.032137    0.001648   \n",
       "4                       1     0.031747    0.001319     0.033116    0.002059   \n",
       "6                       1     0.032024    0.001464     0.032897    0.002124   \n",
       "7                       1     0.031444    0.000964     0.033931    0.001608   \n",
       "8                       1     0.031381    0.001385     0.034383    0.002334   \n",
       "10                      1     0.032444    0.001150     0.032053    0.004578   \n",
       "11                      1     0.031866    0.001850     0.032988    0.002108   \n",
       "13                      1     0.029736    0.001246     0.032692    0.001704   \n",
       "15                      1     0.029720    0.001906     0.031889    0.003049   \n",
       "16                      1     0.031320    0.000770     0.033335    0.002190   \n",
       "17                      1     0.031158    0.000819     0.033547    0.002151   \n",
       "21                      1     0.029155    0.001912     0.026941    0.006284   \n",
       "23                      1     0.032202    0.001895     0.032222    0.002310   \n",
       "24                      1     0.031504    0.001189     0.034523    0.001964   \n",
       "25                      1     0.029319    0.001102     0.032660    0.001498   \n",
       "\n",
       "             wSMI_4_mean  wSMI_4_std  wSMI_8_mean  wSMI_8_std  p_e_1_mean  \\\n",
       "participant                                                                 \n",
       "0               0.055226    0.003070     0.108343    0.004707    0.804606   \n",
       "2               0.055475    0.001349     0.105680    0.002303    0.782346   \n",
       "3               0.055839    0.004185     0.115148    0.008252    0.761386   \n",
       "4               0.056242    0.003158     0.111114    0.006824    0.801987   \n",
       "6               0.054947    0.003825     0.106744    0.003403    0.807027   \n",
       "7               0.055553    0.003949     0.105947    0.004960    0.774167   \n",
       "8               0.054442    0.002421     0.105632    0.005775    0.789446   \n",
       "10              0.054339    0.002348     0.110670    0.005128    0.834386   \n",
       "11              0.057132    0.005187     0.108444    0.005211    0.838234   \n",
       "13              0.056835    0.004664     0.116877    0.010334    0.759379   \n",
       "15              0.054770    0.004335     0.108051    0.008370    0.787634   \n",
       "16              0.053808    0.001781     0.106911    0.004895    0.788788   \n",
       "17              0.055679    0.002990     0.107711    0.004411    0.787303   \n",
       "21              0.065253    0.005207     0.108064    0.004270    0.843585   \n",
       "23              0.056296    0.008827     0.102911    0.007069    0.805901   \n",
       "24              0.057143    0.003370     0.112797    0.008333    0.800593   \n",
       "25              0.054271    0.002406     0.113206    0.007862    0.741280   \n",
       "\n",
       "             ...      a_mean     a_std   CNV_mean    CNV_std       P1_mean  \\\n",
       "participant  ...                                                             \n",
       "0            ... -105.218480  2.021775   7.372615   6.438771 -2.258319e-06   \n",
       "2            ... -104.445523  2.499929   2.131507  14.555517  1.760297e-06   \n",
       "3            ...  -96.807127  1.960061  -1.135250   8.542869  1.093961e-06   \n",
       "4            ... -100.223712  2.952559  12.886093  15.574864  1.443556e-06   \n",
       "6            ... -107.866187  1.567244   5.174705   4.682918  1.626837e-07   \n",
       "7            ... -103.764451  1.552007  -3.083084   5.142349  2.015279e-06   \n",
       "8            ... -103.835895  1.706943  -5.248216  18.368933  5.712698e-06   \n",
       "10           ... -109.673334  0.643078  -0.354065   6.711098 -1.123084e-06   \n",
       "11           ... -106.293638  1.818996  19.819837  10.299144 -3.279119e-07   \n",
       "13           ...  -99.951133  2.666778  -2.071904  12.019245 -1.593570e-06   \n",
       "15           ... -104.696219  2.325060   6.045294   4.772580 -3.184302e-07   \n",
       "16           ... -106.001928  1.545480  -0.028536   4.037715  1.605302e-06   \n",
       "17           ... -104.818374  1.704199   1.008465  10.991791 -1.766166e-06   \n",
       "21           ... -103.251565  2.284799  -6.981014  11.623037 -4.480798e-07   \n",
       "23           ... -104.095182  2.804271   1.056887   4.610360  5.331106e-06   \n",
       "24           ... -101.361632  1.750406  -1.946047   8.194195  2.815161e-06   \n",
       "25           ...  -99.171475  2.111132  -0.917245   5.122524 -1.225116e-06   \n",
       "\n",
       "               P1_std      P3a_mean   P3a_std      P3b_mean   P3b_std  \n",
       "participant                                                            \n",
       "0            0.000003  1.440249e-06  0.000004  1.983164e-06  0.000003  \n",
       "2            0.000008  7.006339e-06  0.000010  1.320102e-06  0.000002  \n",
       "3            0.000005 -2.553166e-06  0.000004 -4.490205e-07  0.000003  \n",
       "4            0.000005 -1.480354e-06  0.000006  1.289769e-06  0.000003  \n",
       "6            0.000003  1.091704e-06  0.000003  2.832966e-06  0.000002  \n",
       "7            0.000004  3.418528e-07  0.000009  1.594977e-06  0.000005  \n",
       "8            0.000005  2.820454e-06  0.000009 -1.826481e-06  0.000004  \n",
       "10           0.000004 -3.227328e-06  0.000003 -2.027792e-06  0.000004  \n",
       "11           0.000006  1.081052e-05  0.000008  6.444694e-06  0.000003  \n",
       "13           0.000005 -1.968770e-06  0.000006 -7.897685e-07  0.000004  \n",
       "15           0.000002  2.158009e-06  0.000003  8.395127e-07  0.000002  \n",
       "16           0.000003  2.779050e-06  0.000004  6.541016e-07  0.000002  \n",
       "17           0.000004 -2.558709e-06  0.000005  3.148693e-06  0.000003  \n",
       "21           0.000004 -3.608485e-06  0.000002  3.802313e-06  0.000002  \n",
       "23           0.000002  5.125518e-06  0.000002 -1.564180e-06  0.000003  \n",
       "24           0.000005 -2.230888e-06  0.000003 -4.662408e-07  0.000003  \n",
       "25           0.000007 -4.413133e-06  0.000005  7.856926e-08  0.000008  \n",
       "\n",
       "[17 rows x 55 columns]"
      ]
     },
     "execution_count": 17,
     "metadata": {},
     "output_type": "execute_result"
    }
   ],
   "source": [
    "df_mind = preprocess_data(df_markers, markers, probe_type = 'PC', comparison= \"on-task_vs_mw\", only_full_participants=True, average_participants=True,latex_names=False, results_path=None)\n",
    "\n",
    "df_mind.query(\"mind_numeric == 1\").groupby('participant').first()"
   ]
  },
  {
   "cell_type": "code",
   "execution_count": 10,
   "metadata": {},
   "outputs": [
    {
     "name": "stderr",
     "output_type": "stream",
     "text": [
      "/tmp/ipykernel_35154/1415872997.py:75: SettingWithCopyWarning:\n",
      "\n",
      "\n",
      "A value is trying to be set on a copy of a slice from a DataFrame.\n",
      "Try using .loc[row_indexer,col_indexer] = value instead\n",
      "\n",
      "See the caveats in the documentation: https://pandas.pydata.org/pandas-docs/stable/user_guide/indexing.html#returning-a-view-versus-a-copy\n",
      "\n"
     ]
    },
    {
     "name": "stdout",
     "output_type": "stream",
     "text": [
      "Participants included in analysis: 17.0\n"
     ]
    },
    {
     "data": {
      "application/vnd.plotly.v1+json": {
       "config": {
        "plotlyServerURL": "https://plot.ly"
       },
       "data": [
        {
         "hovertemplate": "Statistical Significance=p > 0.05<br>Rank_Biserial=%{x}<br>=%{y}<extra></extra>",
         "legendgroup": "p > 0.05",
         "marker": {
          "color": "#DE237B",
          "size": 13,
          "symbol": "circle-open"
         },
         "mode": "markers",
         "name": "p > 0.05",
         "orientation": "h",
         "showlegend": true,
         "type": "scatter",
         "x": [
          -0.5294117647058822,
          -0.4640522875816993,
          -0.43790849673202614,
          -0.37254901960784315,
          -0.3594771241830066,
          -0.2810457516339869,
          -0.2810457516339869,
          -0.2549019607843137,
          -0.24183006535947715,
          -0.22875816993464054,
          -0.22875816993464054,
          -0.21568627450980388,
          -0.20261437908496727,
          -0.20261437908496727,
          -0.20261437908496727,
          -0.1895424836601307,
          -0.1895424836601307,
          -0.17647058823529416,
          -0.17647058823529416,
          -0.15032679738562088,
          -0.11111111111111116,
          -0.09803921568627455,
          -0.08496732026143788,
          -0.05882352941176472,
          -0.04575163398692811,
          -0.032679738562091554,
          -0.032679738562091554,
          -0.006535947712418277,
          -0.006535947712418277,
          0.07189542483660127,
          0.07189542483660127,
          0.08496732026143788,
          0.08496732026143788,
          0.09803921568627455,
          0.09803921568627455,
          0.11111111111111116,
          0.11111111111111116,
          0.12418300653594772,
          0.13725490196078427,
          0.13725490196078427,
          0.16339869281045755,
          0.16339869281045755,
          0.17647058823529416,
          0.1895424836601307,
          0.20261437908496727,
          0.20261437908496727,
          0.21568627450980388,
          0.21568627450980388,
          0.2810457516339869,
          0.3202614379084967,
          0.3856209150326797
         ],
         "xaxis": "x",
         "y": [
          "msf_mean",
          "se_mean",
          "P1_std",
          "msf_std",
          "P3b_std",
          "p_e_4_mean",
          "P3a_std",
          "sef90_mean",
          "g_std",
          "P3a_mean",
          "b_n_std",
          "k_mean",
          "b_mean",
          "a_std",
          "g_n_std",
          "sef90_std",
          "p_e_8_mean",
          "d_std",
          "CNV_std",
          "sef95_std",
          "sef95_mean",
          "wSMI_8_std",
          "g_n_mean",
          "se_std",
          "CNV_mean",
          "p_e_2_std",
          "d_n_mean",
          "wSMI_2_std",
          "wSMI_4_mean",
          "a_n_mean",
          "p_e_4_std",
          "g_mean",
          "p_e_1_mean",
          "a_mean",
          "b_std",
          "p_e_1_std",
          "a_n_std",
          "P3b_mean",
          "wSMI_1_mean",
          "t_std",
          "d_n_std",
          "k_std",
          "p_e_2_mean",
          "wSMI_1_std",
          "P1_mean",
          "p_e_8_std",
          "wSMI_2_mean",
          "d_mean",
          "t_n_std",
          "wSMI_8_mean",
          "wSMI_4_std"
         ],
         "yaxis": "y"
        },
        {
         "hovertemplate": "Statistical Significance=p < 0.05 uncorrected<br>Rank_Biserial=%{x}<br>=%{y}<extra></extra>",
         "legendgroup": "p < 0.05 uncorrected",
         "marker": {
          "color": "#DE237B",
          "size": 13,
          "symbol": "circle"
         },
         "mode": "markers",
         "name": "p < 0.05 uncorrected",
         "orientation": "h",
         "showlegend": true,
         "type": "scatter",
         "x": [
          -0.5816993464052287,
          0.6470588235294117,
          0.7254901960784315
         ],
         "xaxis": "x",
         "y": [
          "b_n_mean",
          "t_mean",
          "t_n_mean"
         ],
         "yaxis": "y"
        }
       ],
       "layout": {
        "font": {
         "color": "black",
         "family": "Times new roman",
         "size": 20
        },
        "height": 1300,
        "legend": {
         "title": {
          "text": "Statistical Significance"
         },
         "tracegroupgap": 0
        },
        "shapes": [
         {
          "line": {
           "color": "grey",
           "dash": "dash",
           "width": 3
          },
          "type": "line",
          "x0": 0,
          "x1": 0,
          "xref": "x",
          "y0": 0,
          "y1": 1,
          "yref": "y domain"
         }
        ],
        "showlegend": true,
        "template": {
         "data": {
          "bar": [
           {
            "error_x": {
             "color": "#2a3f5f"
            },
            "error_y": {
             "color": "#2a3f5f"
            },
            "marker": {
             "line": {
              "color": "white",
              "width": 0.5
             },
             "pattern": {
              "fillmode": "overlay",
              "size": 10,
              "solidity": 0.2
             }
            },
            "type": "bar"
           }
          ],
          "barpolar": [
           {
            "marker": {
             "line": {
              "color": "white",
              "width": 0.5
             },
             "pattern": {
              "fillmode": "overlay",
              "size": 10,
              "solidity": 0.2
             }
            },
            "type": "barpolar"
           }
          ],
          "carpet": [
           {
            "aaxis": {
             "endlinecolor": "#2a3f5f",
             "gridcolor": "#C8D4E3",
             "linecolor": "#C8D4E3",
             "minorgridcolor": "#C8D4E3",
             "startlinecolor": "#2a3f5f"
            },
            "baxis": {
             "endlinecolor": "#2a3f5f",
             "gridcolor": "#C8D4E3",
             "linecolor": "#C8D4E3",
             "minorgridcolor": "#C8D4E3",
             "startlinecolor": "#2a3f5f"
            },
            "type": "carpet"
           }
          ],
          "choropleth": [
           {
            "colorbar": {
             "outlinewidth": 0,
             "ticks": ""
            },
            "type": "choropleth"
           }
          ],
          "contour": [
           {
            "colorbar": {
             "outlinewidth": 0,
             "ticks": ""
            },
            "colorscale": [
             [
              0,
              "#0d0887"
             ],
             [
              0.1111111111111111,
              "#46039f"
             ],
             [
              0.2222222222222222,
              "#7201a8"
             ],
             [
              0.3333333333333333,
              "#9c179e"
             ],
             [
              0.4444444444444444,
              "#bd3786"
             ],
             [
              0.5555555555555556,
              "#d8576b"
             ],
             [
              0.6666666666666666,
              "#ed7953"
             ],
             [
              0.7777777777777778,
              "#fb9f3a"
             ],
             [
              0.8888888888888888,
              "#fdca26"
             ],
             [
              1,
              "#f0f921"
             ]
            ],
            "type": "contour"
           }
          ],
          "contourcarpet": [
           {
            "colorbar": {
             "outlinewidth": 0,
             "ticks": ""
            },
            "type": "contourcarpet"
           }
          ],
          "heatmap": [
           {
            "colorbar": {
             "outlinewidth": 0,
             "ticks": ""
            },
            "colorscale": [
             [
              0,
              "#0d0887"
             ],
             [
              0.1111111111111111,
              "#46039f"
             ],
             [
              0.2222222222222222,
              "#7201a8"
             ],
             [
              0.3333333333333333,
              "#9c179e"
             ],
             [
              0.4444444444444444,
              "#bd3786"
             ],
             [
              0.5555555555555556,
              "#d8576b"
             ],
             [
              0.6666666666666666,
              "#ed7953"
             ],
             [
              0.7777777777777778,
              "#fb9f3a"
             ],
             [
              0.8888888888888888,
              "#fdca26"
             ],
             [
              1,
              "#f0f921"
             ]
            ],
            "type": "heatmap"
           }
          ],
          "heatmapgl": [
           {
            "colorbar": {
             "outlinewidth": 0,
             "ticks": ""
            },
            "colorscale": [
             [
              0,
              "#0d0887"
             ],
             [
              0.1111111111111111,
              "#46039f"
             ],
             [
              0.2222222222222222,
              "#7201a8"
             ],
             [
              0.3333333333333333,
              "#9c179e"
             ],
             [
              0.4444444444444444,
              "#bd3786"
             ],
             [
              0.5555555555555556,
              "#d8576b"
             ],
             [
              0.6666666666666666,
              "#ed7953"
             ],
             [
              0.7777777777777778,
              "#fb9f3a"
             ],
             [
              0.8888888888888888,
              "#fdca26"
             ],
             [
              1,
              "#f0f921"
             ]
            ],
            "type": "heatmapgl"
           }
          ],
          "histogram": [
           {
            "marker": {
             "pattern": {
              "fillmode": "overlay",
              "size": 10,
              "solidity": 0.2
             }
            },
            "type": "histogram"
           }
          ],
          "histogram2d": [
           {
            "colorbar": {
             "outlinewidth": 0,
             "ticks": ""
            },
            "colorscale": [
             [
              0,
              "#0d0887"
             ],
             [
              0.1111111111111111,
              "#46039f"
             ],
             [
              0.2222222222222222,
              "#7201a8"
             ],
             [
              0.3333333333333333,
              "#9c179e"
             ],
             [
              0.4444444444444444,
              "#bd3786"
             ],
             [
              0.5555555555555556,
              "#d8576b"
             ],
             [
              0.6666666666666666,
              "#ed7953"
             ],
             [
              0.7777777777777778,
              "#fb9f3a"
             ],
             [
              0.8888888888888888,
              "#fdca26"
             ],
             [
              1,
              "#f0f921"
             ]
            ],
            "type": "histogram2d"
           }
          ],
          "histogram2dcontour": [
           {
            "colorbar": {
             "outlinewidth": 0,
             "ticks": ""
            },
            "colorscale": [
             [
              0,
              "#0d0887"
             ],
             [
              0.1111111111111111,
              "#46039f"
             ],
             [
              0.2222222222222222,
              "#7201a8"
             ],
             [
              0.3333333333333333,
              "#9c179e"
             ],
             [
              0.4444444444444444,
              "#bd3786"
             ],
             [
              0.5555555555555556,
              "#d8576b"
             ],
             [
              0.6666666666666666,
              "#ed7953"
             ],
             [
              0.7777777777777778,
              "#fb9f3a"
             ],
             [
              0.8888888888888888,
              "#fdca26"
             ],
             [
              1,
              "#f0f921"
             ]
            ],
            "type": "histogram2dcontour"
           }
          ],
          "mesh3d": [
           {
            "colorbar": {
             "outlinewidth": 0,
             "ticks": ""
            },
            "type": "mesh3d"
           }
          ],
          "parcoords": [
           {
            "line": {
             "colorbar": {
              "outlinewidth": 0,
              "ticks": ""
             }
            },
            "type": "parcoords"
           }
          ],
          "pie": [
           {
            "automargin": true,
            "type": "pie"
           }
          ],
          "scatter": [
           {
            "fillpattern": {
             "fillmode": "overlay",
             "size": 10,
             "solidity": 0.2
            },
            "type": "scatter"
           }
          ],
          "scatter3d": [
           {
            "line": {
             "colorbar": {
              "outlinewidth": 0,
              "ticks": ""
             }
            },
            "marker": {
             "colorbar": {
              "outlinewidth": 0,
              "ticks": ""
             }
            },
            "type": "scatter3d"
           }
          ],
          "scattercarpet": [
           {
            "marker": {
             "colorbar": {
              "outlinewidth": 0,
              "ticks": ""
             }
            },
            "type": "scattercarpet"
           }
          ],
          "scattergeo": [
           {
            "marker": {
             "colorbar": {
              "outlinewidth": 0,
              "ticks": ""
             }
            },
            "type": "scattergeo"
           }
          ],
          "scattergl": [
           {
            "marker": {
             "colorbar": {
              "outlinewidth": 0,
              "ticks": ""
             }
            },
            "type": "scattergl"
           }
          ],
          "scattermapbox": [
           {
            "marker": {
             "colorbar": {
              "outlinewidth": 0,
              "ticks": ""
             }
            },
            "type": "scattermapbox"
           }
          ],
          "scatterpolar": [
           {
            "marker": {
             "colorbar": {
              "outlinewidth": 0,
              "ticks": ""
             }
            },
            "type": "scatterpolar"
           }
          ],
          "scatterpolargl": [
           {
            "marker": {
             "colorbar": {
              "outlinewidth": 0,
              "ticks": ""
             }
            },
            "type": "scatterpolargl"
           }
          ],
          "scatterternary": [
           {
            "marker": {
             "colorbar": {
              "outlinewidth": 0,
              "ticks": ""
             }
            },
            "type": "scatterternary"
           }
          ],
          "surface": [
           {
            "colorbar": {
             "outlinewidth": 0,
             "ticks": ""
            },
            "colorscale": [
             [
              0,
              "#0d0887"
             ],
             [
              0.1111111111111111,
              "#46039f"
             ],
             [
              0.2222222222222222,
              "#7201a8"
             ],
             [
              0.3333333333333333,
              "#9c179e"
             ],
             [
              0.4444444444444444,
              "#bd3786"
             ],
             [
              0.5555555555555556,
              "#d8576b"
             ],
             [
              0.6666666666666666,
              "#ed7953"
             ],
             [
              0.7777777777777778,
              "#fb9f3a"
             ],
             [
              0.8888888888888888,
              "#fdca26"
             ],
             [
              1,
              "#f0f921"
             ]
            ],
            "type": "surface"
           }
          ],
          "table": [
           {
            "cells": {
             "fill": {
              "color": "#EBF0F8"
             },
             "line": {
              "color": "white"
             }
            },
            "header": {
             "fill": {
              "color": "#C8D4E3"
             },
             "line": {
              "color": "white"
             }
            },
            "type": "table"
           }
          ]
         },
         "layout": {
          "annotationdefaults": {
           "arrowcolor": "#2a3f5f",
           "arrowhead": 0,
           "arrowwidth": 1
          },
          "autotypenumbers": "strict",
          "coloraxis": {
           "colorbar": {
            "outlinewidth": 0,
            "ticks": ""
           }
          },
          "colorscale": {
           "diverging": [
            [
             0,
             "#8e0152"
            ],
            [
             0.1,
             "#c51b7d"
            ],
            [
             0.2,
             "#de77ae"
            ],
            [
             0.3,
             "#f1b6da"
            ],
            [
             0.4,
             "#fde0ef"
            ],
            [
             0.5,
             "#f7f7f7"
            ],
            [
             0.6,
             "#e6f5d0"
            ],
            [
             0.7,
             "#b8e186"
            ],
            [
             0.8,
             "#7fbc41"
            ],
            [
             0.9,
             "#4d9221"
            ],
            [
             1,
             "#276419"
            ]
           ],
           "sequential": [
            [
             0,
             "#0d0887"
            ],
            [
             0.1111111111111111,
             "#46039f"
            ],
            [
             0.2222222222222222,
             "#7201a8"
            ],
            [
             0.3333333333333333,
             "#9c179e"
            ],
            [
             0.4444444444444444,
             "#bd3786"
            ],
            [
             0.5555555555555556,
             "#d8576b"
            ],
            [
             0.6666666666666666,
             "#ed7953"
            ],
            [
             0.7777777777777778,
             "#fb9f3a"
            ],
            [
             0.8888888888888888,
             "#fdca26"
            ],
            [
             1,
             "#f0f921"
            ]
           ],
           "sequentialminus": [
            [
             0,
             "#0d0887"
            ],
            [
             0.1111111111111111,
             "#46039f"
            ],
            [
             0.2222222222222222,
             "#7201a8"
            ],
            [
             0.3333333333333333,
             "#9c179e"
            ],
            [
             0.4444444444444444,
             "#bd3786"
            ],
            [
             0.5555555555555556,
             "#d8576b"
            ],
            [
             0.6666666666666666,
             "#ed7953"
            ],
            [
             0.7777777777777778,
             "#fb9f3a"
            ],
            [
             0.8888888888888888,
             "#fdca26"
            ],
            [
             1,
             "#f0f921"
            ]
           ]
          },
          "colorway": [
           "#636efa",
           "#EF553B",
           "#00cc96",
           "#ab63fa",
           "#FFA15A",
           "#19d3f3",
           "#FF6692",
           "#B6E880",
           "#FF97FF",
           "#FECB52"
          ],
          "font": {
           "color": "#2a3f5f"
          },
          "geo": {
           "bgcolor": "white",
           "lakecolor": "white",
           "landcolor": "white",
           "showlakes": true,
           "showland": true,
           "subunitcolor": "#C8D4E3"
          },
          "hoverlabel": {
           "align": "left"
          },
          "hovermode": "closest",
          "mapbox": {
           "style": "light"
          },
          "paper_bgcolor": "white",
          "plot_bgcolor": "white",
          "polar": {
           "angularaxis": {
            "gridcolor": "#EBF0F8",
            "linecolor": "#EBF0F8",
            "ticks": ""
           },
           "bgcolor": "white",
           "radialaxis": {
            "gridcolor": "#EBF0F8",
            "linecolor": "#EBF0F8",
            "ticks": ""
           }
          },
          "scene": {
           "xaxis": {
            "backgroundcolor": "white",
            "gridcolor": "#DFE8F3",
            "gridwidth": 2,
            "linecolor": "#EBF0F8",
            "showbackground": true,
            "ticks": "",
            "zerolinecolor": "#EBF0F8"
           },
           "yaxis": {
            "backgroundcolor": "white",
            "gridcolor": "#DFE8F3",
            "gridwidth": 2,
            "linecolor": "#EBF0F8",
            "showbackground": true,
            "ticks": "",
            "zerolinecolor": "#EBF0F8"
           },
           "zaxis": {
            "backgroundcolor": "white",
            "gridcolor": "#DFE8F3",
            "gridwidth": 2,
            "linecolor": "#EBF0F8",
            "showbackground": true,
            "ticks": "",
            "zerolinecolor": "#EBF0F8"
           }
          },
          "shapedefaults": {
           "line": {
            "color": "#2a3f5f"
           }
          },
          "ternary": {
           "aaxis": {
            "gridcolor": "#DFE8F3",
            "linecolor": "#A2B1C6",
            "ticks": ""
           },
           "baxis": {
            "gridcolor": "#DFE8F3",
            "linecolor": "#A2B1C6",
            "ticks": ""
           },
           "bgcolor": "white",
           "caxis": {
            "gridcolor": "#DFE8F3",
            "linecolor": "#A2B1C6",
            "ticks": ""
           }
          },
          "title": {
           "x": 0.05
          },
          "xaxis": {
           "automargin": true,
           "gridcolor": "#EBF0F8",
           "linecolor": "#EBF0F8",
           "ticks": "",
           "title": {
            "standoff": 15
           },
           "zerolinecolor": "#EBF0F8",
           "zerolinewidth": 2
          },
          "yaxis": {
           "automargin": true,
           "gridcolor": "#EBF0F8",
           "linecolor": "#EBF0F8",
           "ticks": "",
           "title": {
            "standoff": 15
           },
           "zerolinecolor": "#EBF0F8",
           "zerolinewidth": 2
          }
         }
        },
        "title": {
         "text": "Wilcoxon size effect for on-task_vs_mw (n = 17)"
        },
        "width": 850,
        "xaxis": {
         "anchor": "y",
         "domain": [
          0,
          1
         ],
         "range": [
          -0.75,
          0.75
         ],
         "tickfont": {
          "size": 20
         },
         "title": {
          "text": "Rank_Biserial"
         },
         "visible": true
        },
        "yaxis": {
         "anchor": "x",
         "automargin": true,
         "autorange": false,
         "domain": [
          0,
          1
         ],
         "dtick": 1,
         "range": [
          -1,
          54
         ],
         "tickfont": {
          "size": 20
         },
         "title": {
          "text": ""
         }
        }
       }
      },
      "text/html": [
       "<div>                            <div id=\"b9b0a011-b986-4111-9205-763f26d0603f\" class=\"plotly-graph-div\" style=\"height:1300px; width:850px;\"></div>            <script type=\"text/javascript\">                require([\"plotly\"], function(Plotly) {                    window.PLOTLYENV=window.PLOTLYENV || {};                                    if (document.getElementById(\"b9b0a011-b986-4111-9205-763f26d0603f\")) {                    Plotly.newPlot(                        \"b9b0a011-b986-4111-9205-763f26d0603f\",                        [{\"hovertemplate\":\"Statistical Significance=p \\u003e 0.05\\u003cbr\\u003eRank_Biserial=%{x}\\u003cbr\\u003e=%{y}\\u003cextra\\u003e\\u003c\\u002fextra\\u003e\",\"legendgroup\":\"p \\u003e 0.05\",\"marker\":{\"color\":\"#DE237B\",\"symbol\":\"circle-open\",\"size\":13},\"mode\":\"markers\",\"name\":\"p \\u003e 0.05\",\"orientation\":\"h\",\"showlegend\":true,\"x\":[-0.5294117647058822,-0.4640522875816993,-0.43790849673202614,-0.37254901960784315,-0.3594771241830066,-0.2810457516339869,-0.2810457516339869,-0.2549019607843137,-0.24183006535947715,-0.22875816993464054,-0.22875816993464054,-0.21568627450980388,-0.20261437908496727,-0.20261437908496727,-0.20261437908496727,-0.1895424836601307,-0.1895424836601307,-0.17647058823529416,-0.17647058823529416,-0.15032679738562088,-0.11111111111111116,-0.09803921568627455,-0.08496732026143788,-0.05882352941176472,-0.04575163398692811,-0.032679738562091554,-0.032679738562091554,-0.006535947712418277,-0.006535947712418277,0.07189542483660127,0.07189542483660127,0.08496732026143788,0.08496732026143788,0.09803921568627455,0.09803921568627455,0.11111111111111116,0.11111111111111116,0.12418300653594772,0.13725490196078427,0.13725490196078427,0.16339869281045755,0.16339869281045755,0.17647058823529416,0.1895424836601307,0.20261437908496727,0.20261437908496727,0.21568627450980388,0.21568627450980388,0.2810457516339869,0.3202614379084967,0.3856209150326797],\"xaxis\":\"x\",\"y\":[\"msf_mean\",\"se_mean\",\"P1_std\",\"msf_std\",\"P3b_std\",\"p_e_4_mean\",\"P3a_std\",\"sef90_mean\",\"g_std\",\"P3a_mean\",\"b_n_std\",\"k_mean\",\"b_mean\",\"a_std\",\"g_n_std\",\"sef90_std\",\"p_e_8_mean\",\"d_std\",\"CNV_std\",\"sef95_std\",\"sef95_mean\",\"wSMI_8_std\",\"g_n_mean\",\"se_std\",\"CNV_mean\",\"p_e_2_std\",\"d_n_mean\",\"wSMI_2_std\",\"wSMI_4_mean\",\"a_n_mean\",\"p_e_4_std\",\"g_mean\",\"p_e_1_mean\",\"a_mean\",\"b_std\",\"p_e_1_std\",\"a_n_std\",\"P3b_mean\",\"wSMI_1_mean\",\"t_std\",\"d_n_std\",\"k_std\",\"p_e_2_mean\",\"wSMI_1_std\",\"P1_mean\",\"p_e_8_std\",\"wSMI_2_mean\",\"d_mean\",\"t_n_std\",\"wSMI_8_mean\",\"wSMI_4_std\"],\"yaxis\":\"y\",\"type\":\"scatter\"},{\"hovertemplate\":\"Statistical Significance=p \\u003c 0.05 uncorrected\\u003cbr\\u003eRank_Biserial=%{x}\\u003cbr\\u003e=%{y}\\u003cextra\\u003e\\u003c\\u002fextra\\u003e\",\"legendgroup\":\"p \\u003c 0.05 uncorrected\",\"marker\":{\"color\":\"#DE237B\",\"symbol\":\"circle\",\"size\":13},\"mode\":\"markers\",\"name\":\"p \\u003c 0.05 uncorrected\",\"orientation\":\"h\",\"showlegend\":true,\"x\":[-0.5816993464052287,0.6470588235294117,0.7254901960784315],\"xaxis\":\"x\",\"y\":[\"b_n_mean\",\"t_mean\",\"t_n_mean\"],\"yaxis\":\"y\",\"type\":\"scatter\"}],                        {\"template\":{\"data\":{\"barpolar\":[{\"marker\":{\"line\":{\"color\":\"white\",\"width\":0.5},\"pattern\":{\"fillmode\":\"overlay\",\"size\":10,\"solidity\":0.2}},\"type\":\"barpolar\"}],\"bar\":[{\"error_x\":{\"color\":\"#2a3f5f\"},\"error_y\":{\"color\":\"#2a3f5f\"},\"marker\":{\"line\":{\"color\":\"white\",\"width\":0.5},\"pattern\":{\"fillmode\":\"overlay\",\"size\":10,\"solidity\":0.2}},\"type\":\"bar\"}],\"carpet\":[{\"aaxis\":{\"endlinecolor\":\"#2a3f5f\",\"gridcolor\":\"#C8D4E3\",\"linecolor\":\"#C8D4E3\",\"minorgridcolor\":\"#C8D4E3\",\"startlinecolor\":\"#2a3f5f\"},\"baxis\":{\"endlinecolor\":\"#2a3f5f\",\"gridcolor\":\"#C8D4E3\",\"linecolor\":\"#C8D4E3\",\"minorgridcolor\":\"#C8D4E3\",\"startlinecolor\":\"#2a3f5f\"},\"type\":\"carpet\"}],\"choropleth\":[{\"colorbar\":{\"outlinewidth\":0,\"ticks\":\"\"},\"type\":\"choropleth\"}],\"contourcarpet\":[{\"colorbar\":{\"outlinewidth\":0,\"ticks\":\"\"},\"type\":\"contourcarpet\"}],\"contour\":[{\"colorbar\":{\"outlinewidth\":0,\"ticks\":\"\"},\"colorscale\":[[0.0,\"#0d0887\"],[0.1111111111111111,\"#46039f\"],[0.2222222222222222,\"#7201a8\"],[0.3333333333333333,\"#9c179e\"],[0.4444444444444444,\"#bd3786\"],[0.5555555555555556,\"#d8576b\"],[0.6666666666666666,\"#ed7953\"],[0.7777777777777778,\"#fb9f3a\"],[0.8888888888888888,\"#fdca26\"],[1.0,\"#f0f921\"]],\"type\":\"contour\"}],\"heatmapgl\":[{\"colorbar\":{\"outlinewidth\":0,\"ticks\":\"\"},\"colorscale\":[[0.0,\"#0d0887\"],[0.1111111111111111,\"#46039f\"],[0.2222222222222222,\"#7201a8\"],[0.3333333333333333,\"#9c179e\"],[0.4444444444444444,\"#bd3786\"],[0.5555555555555556,\"#d8576b\"],[0.6666666666666666,\"#ed7953\"],[0.7777777777777778,\"#fb9f3a\"],[0.8888888888888888,\"#fdca26\"],[1.0,\"#f0f921\"]],\"type\":\"heatmapgl\"}],\"heatmap\":[{\"colorbar\":{\"outlinewidth\":0,\"ticks\":\"\"},\"colorscale\":[[0.0,\"#0d0887\"],[0.1111111111111111,\"#46039f\"],[0.2222222222222222,\"#7201a8\"],[0.3333333333333333,\"#9c179e\"],[0.4444444444444444,\"#bd3786\"],[0.5555555555555556,\"#d8576b\"],[0.6666666666666666,\"#ed7953\"],[0.7777777777777778,\"#fb9f3a\"],[0.8888888888888888,\"#fdca26\"],[1.0,\"#f0f921\"]],\"type\":\"heatmap\"}],\"histogram2dcontour\":[{\"colorbar\":{\"outlinewidth\":0,\"ticks\":\"\"},\"colorscale\":[[0.0,\"#0d0887\"],[0.1111111111111111,\"#46039f\"],[0.2222222222222222,\"#7201a8\"],[0.3333333333333333,\"#9c179e\"],[0.4444444444444444,\"#bd3786\"],[0.5555555555555556,\"#d8576b\"],[0.6666666666666666,\"#ed7953\"],[0.7777777777777778,\"#fb9f3a\"],[0.8888888888888888,\"#fdca26\"],[1.0,\"#f0f921\"]],\"type\":\"histogram2dcontour\"}],\"histogram2d\":[{\"colorbar\":{\"outlinewidth\":0,\"ticks\":\"\"},\"colorscale\":[[0.0,\"#0d0887\"],[0.1111111111111111,\"#46039f\"],[0.2222222222222222,\"#7201a8\"],[0.3333333333333333,\"#9c179e\"],[0.4444444444444444,\"#bd3786\"],[0.5555555555555556,\"#d8576b\"],[0.6666666666666666,\"#ed7953\"],[0.7777777777777778,\"#fb9f3a\"],[0.8888888888888888,\"#fdca26\"],[1.0,\"#f0f921\"]],\"type\":\"histogram2d\"}],\"histogram\":[{\"marker\":{\"pattern\":{\"fillmode\":\"overlay\",\"size\":10,\"solidity\":0.2}},\"type\":\"histogram\"}],\"mesh3d\":[{\"colorbar\":{\"outlinewidth\":0,\"ticks\":\"\"},\"type\":\"mesh3d\"}],\"parcoords\":[{\"line\":{\"colorbar\":{\"outlinewidth\":0,\"ticks\":\"\"}},\"type\":\"parcoords\"}],\"pie\":[{\"automargin\":true,\"type\":\"pie\"}],\"scatter3d\":[{\"line\":{\"colorbar\":{\"outlinewidth\":0,\"ticks\":\"\"}},\"marker\":{\"colorbar\":{\"outlinewidth\":0,\"ticks\":\"\"}},\"type\":\"scatter3d\"}],\"scattercarpet\":[{\"marker\":{\"colorbar\":{\"outlinewidth\":0,\"ticks\":\"\"}},\"type\":\"scattercarpet\"}],\"scattergeo\":[{\"marker\":{\"colorbar\":{\"outlinewidth\":0,\"ticks\":\"\"}},\"type\":\"scattergeo\"}],\"scattergl\":[{\"marker\":{\"colorbar\":{\"outlinewidth\":0,\"ticks\":\"\"}},\"type\":\"scattergl\"}],\"scattermapbox\":[{\"marker\":{\"colorbar\":{\"outlinewidth\":0,\"ticks\":\"\"}},\"type\":\"scattermapbox\"}],\"scatterpolargl\":[{\"marker\":{\"colorbar\":{\"outlinewidth\":0,\"ticks\":\"\"}},\"type\":\"scatterpolargl\"}],\"scatterpolar\":[{\"marker\":{\"colorbar\":{\"outlinewidth\":0,\"ticks\":\"\"}},\"type\":\"scatterpolar\"}],\"scatter\":[{\"fillpattern\":{\"fillmode\":\"overlay\",\"size\":10,\"solidity\":0.2},\"type\":\"scatter\"}],\"scatterternary\":[{\"marker\":{\"colorbar\":{\"outlinewidth\":0,\"ticks\":\"\"}},\"type\":\"scatterternary\"}],\"surface\":[{\"colorbar\":{\"outlinewidth\":0,\"ticks\":\"\"},\"colorscale\":[[0.0,\"#0d0887\"],[0.1111111111111111,\"#46039f\"],[0.2222222222222222,\"#7201a8\"],[0.3333333333333333,\"#9c179e\"],[0.4444444444444444,\"#bd3786\"],[0.5555555555555556,\"#d8576b\"],[0.6666666666666666,\"#ed7953\"],[0.7777777777777778,\"#fb9f3a\"],[0.8888888888888888,\"#fdca26\"],[1.0,\"#f0f921\"]],\"type\":\"surface\"}],\"table\":[{\"cells\":{\"fill\":{\"color\":\"#EBF0F8\"},\"line\":{\"color\":\"white\"}},\"header\":{\"fill\":{\"color\":\"#C8D4E3\"},\"line\":{\"color\":\"white\"}},\"type\":\"table\"}]},\"layout\":{\"annotationdefaults\":{\"arrowcolor\":\"#2a3f5f\",\"arrowhead\":0,\"arrowwidth\":1},\"autotypenumbers\":\"strict\",\"coloraxis\":{\"colorbar\":{\"outlinewidth\":0,\"ticks\":\"\"}},\"colorscale\":{\"diverging\":[[0,\"#8e0152\"],[0.1,\"#c51b7d\"],[0.2,\"#de77ae\"],[0.3,\"#f1b6da\"],[0.4,\"#fde0ef\"],[0.5,\"#f7f7f7\"],[0.6,\"#e6f5d0\"],[0.7,\"#b8e186\"],[0.8,\"#7fbc41\"],[0.9,\"#4d9221\"],[1,\"#276419\"]],\"sequential\":[[0.0,\"#0d0887\"],[0.1111111111111111,\"#46039f\"],[0.2222222222222222,\"#7201a8\"],[0.3333333333333333,\"#9c179e\"],[0.4444444444444444,\"#bd3786\"],[0.5555555555555556,\"#d8576b\"],[0.6666666666666666,\"#ed7953\"],[0.7777777777777778,\"#fb9f3a\"],[0.8888888888888888,\"#fdca26\"],[1.0,\"#f0f921\"]],\"sequentialminus\":[[0.0,\"#0d0887\"],[0.1111111111111111,\"#46039f\"],[0.2222222222222222,\"#7201a8\"],[0.3333333333333333,\"#9c179e\"],[0.4444444444444444,\"#bd3786\"],[0.5555555555555556,\"#d8576b\"],[0.6666666666666666,\"#ed7953\"],[0.7777777777777778,\"#fb9f3a\"],[0.8888888888888888,\"#fdca26\"],[1.0,\"#f0f921\"]]},\"colorway\":[\"#636efa\",\"#EF553B\",\"#00cc96\",\"#ab63fa\",\"#FFA15A\",\"#19d3f3\",\"#FF6692\",\"#B6E880\",\"#FF97FF\",\"#FECB52\"],\"font\":{\"color\":\"#2a3f5f\"},\"geo\":{\"bgcolor\":\"white\",\"lakecolor\":\"white\",\"landcolor\":\"white\",\"showlakes\":true,\"showland\":true,\"subunitcolor\":\"#C8D4E3\"},\"hoverlabel\":{\"align\":\"left\"},\"hovermode\":\"closest\",\"mapbox\":{\"style\":\"light\"},\"paper_bgcolor\":\"white\",\"plot_bgcolor\":\"white\",\"polar\":{\"angularaxis\":{\"gridcolor\":\"#EBF0F8\",\"linecolor\":\"#EBF0F8\",\"ticks\":\"\"},\"bgcolor\":\"white\",\"radialaxis\":{\"gridcolor\":\"#EBF0F8\",\"linecolor\":\"#EBF0F8\",\"ticks\":\"\"}},\"scene\":{\"xaxis\":{\"backgroundcolor\":\"white\",\"gridcolor\":\"#DFE8F3\",\"gridwidth\":2,\"linecolor\":\"#EBF0F8\",\"showbackground\":true,\"ticks\":\"\",\"zerolinecolor\":\"#EBF0F8\"},\"yaxis\":{\"backgroundcolor\":\"white\",\"gridcolor\":\"#DFE8F3\",\"gridwidth\":2,\"linecolor\":\"#EBF0F8\",\"showbackground\":true,\"ticks\":\"\",\"zerolinecolor\":\"#EBF0F8\"},\"zaxis\":{\"backgroundcolor\":\"white\",\"gridcolor\":\"#DFE8F3\",\"gridwidth\":2,\"linecolor\":\"#EBF0F8\",\"showbackground\":true,\"ticks\":\"\",\"zerolinecolor\":\"#EBF0F8\"}},\"shapedefaults\":{\"line\":{\"color\":\"#2a3f5f\"}},\"ternary\":{\"aaxis\":{\"gridcolor\":\"#DFE8F3\",\"linecolor\":\"#A2B1C6\",\"ticks\":\"\"},\"baxis\":{\"gridcolor\":\"#DFE8F3\",\"linecolor\":\"#A2B1C6\",\"ticks\":\"\"},\"bgcolor\":\"white\",\"caxis\":{\"gridcolor\":\"#DFE8F3\",\"linecolor\":\"#A2B1C6\",\"ticks\":\"\"}},\"title\":{\"x\":0.05},\"xaxis\":{\"automargin\":true,\"gridcolor\":\"#EBF0F8\",\"linecolor\":\"#EBF0F8\",\"ticks\":\"\",\"title\":{\"standoff\":15},\"zerolinecolor\":\"#EBF0F8\",\"zerolinewidth\":2},\"yaxis\":{\"automargin\":true,\"gridcolor\":\"#EBF0F8\",\"linecolor\":\"#EBF0F8\",\"ticks\":\"\",\"title\":{\"standoff\":15},\"zerolinecolor\":\"#EBF0F8\",\"zerolinewidth\":2}}},\"xaxis\":{\"anchor\":\"y\",\"domain\":[0.0,1.0],\"title\":{\"text\":\"Rank_Biserial\"},\"tickfont\":{\"size\":20},\"visible\":true,\"range\":[-0.75,0.75]},\"yaxis\":{\"anchor\":\"x\",\"domain\":[0.0,1.0],\"title\":{\"text\":\"\"},\"tickfont\":{\"size\":20},\"autorange\":false,\"automargin\":true,\"range\":[-1,54],\"dtick\":1},\"legend\":{\"title\":{\"text\":\"Statistical Significance\"},\"tracegroupgap\":0},\"title\":{\"text\":\"Wilcoxon size effect for on-task_vs_mw (n = 17)\"},\"shapes\":[{\"line\":{\"color\":\"grey\",\"dash\":\"dash\",\"width\":3},\"type\":\"line\",\"x0\":0,\"x1\":0,\"xref\":\"x\",\"y0\":0,\"y1\":1,\"yref\":\"y domain\"}],\"font\":{\"family\":\"Times new roman\",\"size\":20,\"color\":\"black\"},\"width\":850,\"height\":1300,\"showlegend\":true},                        {\"responsive\": true}                    ).then(function(){\n",
       "                            \n",
       "var gd = document.getElementById('b9b0a011-b986-4111-9205-763f26d0603f');\n",
       "var x = new MutationObserver(function (mutations, observer) {{\n",
       "        var display = window.getComputedStyle(gd).display;\n",
       "        if (!display || display === 'none') {{\n",
       "            console.log([gd, 'removed!']);\n",
       "            Plotly.purge(gd);\n",
       "            observer.disconnect();\n",
       "        }}\n",
       "}});\n",
       "\n",
       "// Listen for the removal of the full notebook cells\n",
       "var notebookContainer = gd.closest('#notebook-container');\n",
       "if (notebookContainer) {{\n",
       "    x.observe(notebookContainer, {childList: true});\n",
       "}}\n",
       "\n",
       "// Listen for the clearing of the current output cell\n",
       "var outputEl = gd.closest('.output');\n",
       "if (outputEl) {{\n",
       "    x.observe(outputEl, {childList: true});\n",
       "}}\n",
       "\n",
       "                        })                };                });            </script>        </div>"
      ]
     },
     "metadata": {},
     "output_type": "display_data"
    },
    {
     "name": "stdout",
     "output_type": "stream",
     "text": [
      "Participants included in analysis: 14.0\n"
     ]
    },
    {
     "name": "stderr",
     "output_type": "stream",
     "text": [
      "/home/nicobruno/mw_markers_project/src/Statistics/impact_SE.py:28: RuntimeWarning:\n",
      "\n",
      "ks_2samp: Exact calculation unsuccessful. Switching to method=asymp.\n",
      "\n",
      "/home/nicobruno/mw_markers_project/src/Statistics/impact_SE.py:28: RuntimeWarning:\n",
      "\n",
      "ks_2samp: Exact calculation unsuccessful. Switching to method=asymp.\n",
      "\n"
     ]
    },
    {
     "data": {
      "application/vnd.plotly.v1+json": {
       "config": {
        "plotlyServerURL": "https://plot.ly"
       },
       "data": [
        {
         "hovertemplate": "Statistical Significance=p > 0.05<br>Rank_Biserial=%{x}<br>=%{y}<extra></extra>",
         "legendgroup": "p > 0.05",
         "marker": {
          "color": "#9AC529",
          "size": 13,
          "symbol": "circle-open"
         },
         "mode": "markers",
         "name": "p > 0.05",
         "orientation": "h",
         "showlegend": true,
         "type": "scatter",
         "x": [
          -0.5428571428571429,
          -0.3523809523809524,
          -0.3142857142857143,
          -0.27619047619047615,
          -0.27619047619047615,
          -0.19999999999999996,
          -0.19999999999999996,
          -0.18095238095238098,
          -0.18095238095238098,
          -0.16190476190476194,
          -0.16190476190476194,
          -0.14285714285714285,
          -0.10476190476190478,
          -0.10476190476190478,
          -0.10476190476190478,
          -0.10476190476190478,
          -0.08571428571428569,
          -0.08571428571428569,
          -0.06666666666666665,
          -0.06666666666666665,
          -0.04761904761904767,
          -0.04761904761904767,
          -0.00952380952380949,
          -0.00952380952380949,
          0.04761904761904767,
          0.04761904761904767,
          0.06666666666666665,
          0.06666666666666665,
          0.06666666666666665,
          0.08571428571428569,
          0.10476190476190478,
          0.12380952380952381,
          0.14285714285714285,
          0.14285714285714285,
          0.14285714285714285,
          0.16190476190476194,
          0.16190476190476194,
          0.16190476190476194,
          0.19999999999999996,
          0.19999999999999996,
          0.2190476190476191,
          0.2190476190476191,
          0.2571428571428571,
          0.29523809523809524,
          0.29523809523809524,
          0.29523809523809524,
          0.3142857142857143,
          0.3142857142857143,
          0.4476190476190476,
          0.4666666666666666,
          0.5047619047619047,
          0.5047619047619047
         ],
         "xaxis": "x",
         "y": [
          "msf_std",
          "g_std",
          "b_n_std",
          "b_n_mean",
          "d_std",
          "wSMI_2_std",
          "P3b_std",
          "wSMI_8_std",
          "d_n_mean",
          "P3a_mean",
          "se_mean",
          "P3a_std",
          "se_std",
          "msf_mean",
          "sef90_mean",
          "p_e_8_mean",
          "CNV_std",
          "g_n_std",
          "g_n_mean",
          "P1_std",
          "sef90_std",
          "p_e_4_mean",
          "p_e_4_std",
          "wSMI_2_mean",
          "sef95_mean",
          "p_e_1_mean",
          "k_mean",
          "sef95_std",
          "P1_mean",
          "d_n_std",
          "wSMI_1_std",
          "p_e_2_mean",
          "b_std",
          "b_mean",
          "a_mean",
          "p_e_8_std",
          "a_n_mean",
          "a_n_std",
          "a_std",
          "wSMI_1_mean",
          "wSMI_4_std",
          "P3b_mean",
          "d_mean",
          "CNV_mean",
          "g_mean",
          "k_std",
          "t_std",
          "wSMI_4_mean",
          "p_e_2_std",
          "t_n_std",
          "t_mean",
          "t_n_mean"
         ],
         "yaxis": "y"
        },
        {
         "hovertemplate": "Statistical Significance=p < 0.05 uncorrected<br>Rank_Biserial=%{x}<br>=%{y}<extra></extra>",
         "legendgroup": "p < 0.05 uncorrected",
         "marker": {
          "color": "#9AC529",
          "size": 13,
          "symbol": "circle"
         },
         "mode": "markers",
         "name": "p < 0.05 uncorrected",
         "orientation": "h",
         "showlegend": true,
         "type": "scatter",
         "x": [
          0.638095238095238,
          0.6761904761904762
         ],
         "xaxis": "x",
         "y": [
          "p_e_1_std",
          "wSMI_8_mean"
         ],
         "yaxis": "y"
        }
       ],
       "layout": {
        "font": {
         "color": "black",
         "family": "Times new roman",
         "size": 20
        },
        "height": 1300,
        "legend": {
         "title": {
          "text": "Statistical Significance"
         },
         "tracegroupgap": 0
        },
        "shapes": [
         {
          "line": {
           "color": "grey",
           "dash": "dash",
           "width": 3
          },
          "type": "line",
          "x0": 0,
          "x1": 0,
          "xref": "x",
          "y0": 0,
          "y1": 1,
          "yref": "y domain"
         }
        ],
        "showlegend": true,
        "template": {
         "data": {
          "bar": [
           {
            "error_x": {
             "color": "#2a3f5f"
            },
            "error_y": {
             "color": "#2a3f5f"
            },
            "marker": {
             "line": {
              "color": "white",
              "width": 0.5
             },
             "pattern": {
              "fillmode": "overlay",
              "size": 10,
              "solidity": 0.2
             }
            },
            "type": "bar"
           }
          ],
          "barpolar": [
           {
            "marker": {
             "line": {
              "color": "white",
              "width": 0.5
             },
             "pattern": {
              "fillmode": "overlay",
              "size": 10,
              "solidity": 0.2
             }
            },
            "type": "barpolar"
           }
          ],
          "carpet": [
           {
            "aaxis": {
             "endlinecolor": "#2a3f5f",
             "gridcolor": "#C8D4E3",
             "linecolor": "#C8D4E3",
             "minorgridcolor": "#C8D4E3",
             "startlinecolor": "#2a3f5f"
            },
            "baxis": {
             "endlinecolor": "#2a3f5f",
             "gridcolor": "#C8D4E3",
             "linecolor": "#C8D4E3",
             "minorgridcolor": "#C8D4E3",
             "startlinecolor": "#2a3f5f"
            },
            "type": "carpet"
           }
          ],
          "choropleth": [
           {
            "colorbar": {
             "outlinewidth": 0,
             "ticks": ""
            },
            "type": "choropleth"
           }
          ],
          "contour": [
           {
            "colorbar": {
             "outlinewidth": 0,
             "ticks": ""
            },
            "colorscale": [
             [
              0,
              "#0d0887"
             ],
             [
              0.1111111111111111,
              "#46039f"
             ],
             [
              0.2222222222222222,
              "#7201a8"
             ],
             [
              0.3333333333333333,
              "#9c179e"
             ],
             [
              0.4444444444444444,
              "#bd3786"
             ],
             [
              0.5555555555555556,
              "#d8576b"
             ],
             [
              0.6666666666666666,
              "#ed7953"
             ],
             [
              0.7777777777777778,
              "#fb9f3a"
             ],
             [
              0.8888888888888888,
              "#fdca26"
             ],
             [
              1,
              "#f0f921"
             ]
            ],
            "type": "contour"
           }
          ],
          "contourcarpet": [
           {
            "colorbar": {
             "outlinewidth": 0,
             "ticks": ""
            },
            "type": "contourcarpet"
           }
          ],
          "heatmap": [
           {
            "colorbar": {
             "outlinewidth": 0,
             "ticks": ""
            },
            "colorscale": [
             [
              0,
              "#0d0887"
             ],
             [
              0.1111111111111111,
              "#46039f"
             ],
             [
              0.2222222222222222,
              "#7201a8"
             ],
             [
              0.3333333333333333,
              "#9c179e"
             ],
             [
              0.4444444444444444,
              "#bd3786"
             ],
             [
              0.5555555555555556,
              "#d8576b"
             ],
             [
              0.6666666666666666,
              "#ed7953"
             ],
             [
              0.7777777777777778,
              "#fb9f3a"
             ],
             [
              0.8888888888888888,
              "#fdca26"
             ],
             [
              1,
              "#f0f921"
             ]
            ],
            "type": "heatmap"
           }
          ],
          "heatmapgl": [
           {
            "colorbar": {
             "outlinewidth": 0,
             "ticks": ""
            },
            "colorscale": [
             [
              0,
              "#0d0887"
             ],
             [
              0.1111111111111111,
              "#46039f"
             ],
             [
              0.2222222222222222,
              "#7201a8"
             ],
             [
              0.3333333333333333,
              "#9c179e"
             ],
             [
              0.4444444444444444,
              "#bd3786"
             ],
             [
              0.5555555555555556,
              "#d8576b"
             ],
             [
              0.6666666666666666,
              "#ed7953"
             ],
             [
              0.7777777777777778,
              "#fb9f3a"
             ],
             [
              0.8888888888888888,
              "#fdca26"
             ],
             [
              1,
              "#f0f921"
             ]
            ],
            "type": "heatmapgl"
           }
          ],
          "histogram": [
           {
            "marker": {
             "pattern": {
              "fillmode": "overlay",
              "size": 10,
              "solidity": 0.2
             }
            },
            "type": "histogram"
           }
          ],
          "histogram2d": [
           {
            "colorbar": {
             "outlinewidth": 0,
             "ticks": ""
            },
            "colorscale": [
             [
              0,
              "#0d0887"
             ],
             [
              0.1111111111111111,
              "#46039f"
             ],
             [
              0.2222222222222222,
              "#7201a8"
             ],
             [
              0.3333333333333333,
              "#9c179e"
             ],
             [
              0.4444444444444444,
              "#bd3786"
             ],
             [
              0.5555555555555556,
              "#d8576b"
             ],
             [
              0.6666666666666666,
              "#ed7953"
             ],
             [
              0.7777777777777778,
              "#fb9f3a"
             ],
             [
              0.8888888888888888,
              "#fdca26"
             ],
             [
              1,
              "#f0f921"
             ]
            ],
            "type": "histogram2d"
           }
          ],
          "histogram2dcontour": [
           {
            "colorbar": {
             "outlinewidth": 0,
             "ticks": ""
            },
            "colorscale": [
             [
              0,
              "#0d0887"
             ],
             [
              0.1111111111111111,
              "#46039f"
             ],
             [
              0.2222222222222222,
              "#7201a8"
             ],
             [
              0.3333333333333333,
              "#9c179e"
             ],
             [
              0.4444444444444444,
              "#bd3786"
             ],
             [
              0.5555555555555556,
              "#d8576b"
             ],
             [
              0.6666666666666666,
              "#ed7953"
             ],
             [
              0.7777777777777778,
              "#fb9f3a"
             ],
             [
              0.8888888888888888,
              "#fdca26"
             ],
             [
              1,
              "#f0f921"
             ]
            ],
            "type": "histogram2dcontour"
           }
          ],
          "mesh3d": [
           {
            "colorbar": {
             "outlinewidth": 0,
             "ticks": ""
            },
            "type": "mesh3d"
           }
          ],
          "parcoords": [
           {
            "line": {
             "colorbar": {
              "outlinewidth": 0,
              "ticks": ""
             }
            },
            "type": "parcoords"
           }
          ],
          "pie": [
           {
            "automargin": true,
            "type": "pie"
           }
          ],
          "scatter": [
           {
            "fillpattern": {
             "fillmode": "overlay",
             "size": 10,
             "solidity": 0.2
            },
            "type": "scatter"
           }
          ],
          "scatter3d": [
           {
            "line": {
             "colorbar": {
              "outlinewidth": 0,
              "ticks": ""
             }
            },
            "marker": {
             "colorbar": {
              "outlinewidth": 0,
              "ticks": ""
             }
            },
            "type": "scatter3d"
           }
          ],
          "scattercarpet": [
           {
            "marker": {
             "colorbar": {
              "outlinewidth": 0,
              "ticks": ""
             }
            },
            "type": "scattercarpet"
           }
          ],
          "scattergeo": [
           {
            "marker": {
             "colorbar": {
              "outlinewidth": 0,
              "ticks": ""
             }
            },
            "type": "scattergeo"
           }
          ],
          "scattergl": [
           {
            "marker": {
             "colorbar": {
              "outlinewidth": 0,
              "ticks": ""
             }
            },
            "type": "scattergl"
           }
          ],
          "scattermapbox": [
           {
            "marker": {
             "colorbar": {
              "outlinewidth": 0,
              "ticks": ""
             }
            },
            "type": "scattermapbox"
           }
          ],
          "scatterpolar": [
           {
            "marker": {
             "colorbar": {
              "outlinewidth": 0,
              "ticks": ""
             }
            },
            "type": "scatterpolar"
           }
          ],
          "scatterpolargl": [
           {
            "marker": {
             "colorbar": {
              "outlinewidth": 0,
              "ticks": ""
             }
            },
            "type": "scatterpolargl"
           }
          ],
          "scatterternary": [
           {
            "marker": {
             "colorbar": {
              "outlinewidth": 0,
              "ticks": ""
             }
            },
            "type": "scatterternary"
           }
          ],
          "surface": [
           {
            "colorbar": {
             "outlinewidth": 0,
             "ticks": ""
            },
            "colorscale": [
             [
              0,
              "#0d0887"
             ],
             [
              0.1111111111111111,
              "#46039f"
             ],
             [
              0.2222222222222222,
              "#7201a8"
             ],
             [
              0.3333333333333333,
              "#9c179e"
             ],
             [
              0.4444444444444444,
              "#bd3786"
             ],
             [
              0.5555555555555556,
              "#d8576b"
             ],
             [
              0.6666666666666666,
              "#ed7953"
             ],
             [
              0.7777777777777778,
              "#fb9f3a"
             ],
             [
              0.8888888888888888,
              "#fdca26"
             ],
             [
              1,
              "#f0f921"
             ]
            ],
            "type": "surface"
           }
          ],
          "table": [
           {
            "cells": {
             "fill": {
              "color": "#EBF0F8"
             },
             "line": {
              "color": "white"
             }
            },
            "header": {
             "fill": {
              "color": "#C8D4E3"
             },
             "line": {
              "color": "white"
             }
            },
            "type": "table"
           }
          ]
         },
         "layout": {
          "annotationdefaults": {
           "arrowcolor": "#2a3f5f",
           "arrowhead": 0,
           "arrowwidth": 1
          },
          "autotypenumbers": "strict",
          "coloraxis": {
           "colorbar": {
            "outlinewidth": 0,
            "ticks": ""
           }
          },
          "colorscale": {
           "diverging": [
            [
             0,
             "#8e0152"
            ],
            [
             0.1,
             "#c51b7d"
            ],
            [
             0.2,
             "#de77ae"
            ],
            [
             0.3,
             "#f1b6da"
            ],
            [
             0.4,
             "#fde0ef"
            ],
            [
             0.5,
             "#f7f7f7"
            ],
            [
             0.6,
             "#e6f5d0"
            ],
            [
             0.7,
             "#b8e186"
            ],
            [
             0.8,
             "#7fbc41"
            ],
            [
             0.9,
             "#4d9221"
            ],
            [
             1,
             "#276419"
            ]
           ],
           "sequential": [
            [
             0,
             "#0d0887"
            ],
            [
             0.1111111111111111,
             "#46039f"
            ],
            [
             0.2222222222222222,
             "#7201a8"
            ],
            [
             0.3333333333333333,
             "#9c179e"
            ],
            [
             0.4444444444444444,
             "#bd3786"
            ],
            [
             0.5555555555555556,
             "#d8576b"
            ],
            [
             0.6666666666666666,
             "#ed7953"
            ],
            [
             0.7777777777777778,
             "#fb9f3a"
            ],
            [
             0.8888888888888888,
             "#fdca26"
            ],
            [
             1,
             "#f0f921"
            ]
           ],
           "sequentialminus": [
            [
             0,
             "#0d0887"
            ],
            [
             0.1111111111111111,
             "#46039f"
            ],
            [
             0.2222222222222222,
             "#7201a8"
            ],
            [
             0.3333333333333333,
             "#9c179e"
            ],
            [
             0.4444444444444444,
             "#bd3786"
            ],
            [
             0.5555555555555556,
             "#d8576b"
            ],
            [
             0.6666666666666666,
             "#ed7953"
            ],
            [
             0.7777777777777778,
             "#fb9f3a"
            ],
            [
             0.8888888888888888,
             "#fdca26"
            ],
            [
             1,
             "#f0f921"
            ]
           ]
          },
          "colorway": [
           "#636efa",
           "#EF553B",
           "#00cc96",
           "#ab63fa",
           "#FFA15A",
           "#19d3f3",
           "#FF6692",
           "#B6E880",
           "#FF97FF",
           "#FECB52"
          ],
          "font": {
           "color": "#2a3f5f"
          },
          "geo": {
           "bgcolor": "white",
           "lakecolor": "white",
           "landcolor": "white",
           "showlakes": true,
           "showland": true,
           "subunitcolor": "#C8D4E3"
          },
          "hoverlabel": {
           "align": "left"
          },
          "hovermode": "closest",
          "mapbox": {
           "style": "light"
          },
          "paper_bgcolor": "white",
          "plot_bgcolor": "white",
          "polar": {
           "angularaxis": {
            "gridcolor": "#EBF0F8",
            "linecolor": "#EBF0F8",
            "ticks": ""
           },
           "bgcolor": "white",
           "radialaxis": {
            "gridcolor": "#EBF0F8",
            "linecolor": "#EBF0F8",
            "ticks": ""
           }
          },
          "scene": {
           "xaxis": {
            "backgroundcolor": "white",
            "gridcolor": "#DFE8F3",
            "gridwidth": 2,
            "linecolor": "#EBF0F8",
            "showbackground": true,
            "ticks": "",
            "zerolinecolor": "#EBF0F8"
           },
           "yaxis": {
            "backgroundcolor": "white",
            "gridcolor": "#DFE8F3",
            "gridwidth": 2,
            "linecolor": "#EBF0F8",
            "showbackground": true,
            "ticks": "",
            "zerolinecolor": "#EBF0F8"
           },
           "zaxis": {
            "backgroundcolor": "white",
            "gridcolor": "#DFE8F3",
            "gridwidth": 2,
            "linecolor": "#EBF0F8",
            "showbackground": true,
            "ticks": "",
            "zerolinecolor": "#EBF0F8"
           }
          },
          "shapedefaults": {
           "line": {
            "color": "#2a3f5f"
           }
          },
          "ternary": {
           "aaxis": {
            "gridcolor": "#DFE8F3",
            "linecolor": "#A2B1C6",
            "ticks": ""
           },
           "baxis": {
            "gridcolor": "#DFE8F3",
            "linecolor": "#A2B1C6",
            "ticks": ""
           },
           "bgcolor": "white",
           "caxis": {
            "gridcolor": "#DFE8F3",
            "linecolor": "#A2B1C6",
            "ticks": ""
           }
          },
          "title": {
           "x": 0.05
          },
          "xaxis": {
           "automargin": true,
           "gridcolor": "#EBF0F8",
           "linecolor": "#EBF0F8",
           "ticks": "",
           "title": {
            "standoff": 15
           },
           "zerolinecolor": "#EBF0F8",
           "zerolinewidth": 2
          },
          "yaxis": {
           "automargin": true,
           "gridcolor": "#EBF0F8",
           "linecolor": "#EBF0F8",
           "ticks": "",
           "title": {
            "standoff": 15
           },
           "zerolinecolor": "#EBF0F8",
           "zerolinewidth": 2
          }
         }
        },
        "title": {
         "text": "Wilcoxon size effect for on-task_vs_dMW (n = 14)"
        },
        "width": 850,
        "xaxis": {
         "anchor": "y",
         "domain": [
          0,
          1
         ],
         "range": [
          -0.75,
          0.75
         ],
         "tickfont": {
          "size": 20
         },
         "title": {
          "text": "Rank_Biserial"
         },
         "visible": true
        },
        "yaxis": {
         "anchor": "x",
         "automargin": true,
         "autorange": false,
         "domain": [
          0,
          1
         ],
         "dtick": 1,
         "range": [
          -1,
          54
         ],
         "tickfont": {
          "size": 20
         },
         "title": {
          "text": ""
         }
        }
       }
      },
      "text/html": [
       "<div>                            <div id=\"d241cca5-4b67-4512-9c3a-078dd87448ad\" class=\"plotly-graph-div\" style=\"height:1300px; width:850px;\"></div>            <script type=\"text/javascript\">                require([\"plotly\"], function(Plotly) {                    window.PLOTLYENV=window.PLOTLYENV || {};                                    if (document.getElementById(\"d241cca5-4b67-4512-9c3a-078dd87448ad\")) {                    Plotly.newPlot(                        \"d241cca5-4b67-4512-9c3a-078dd87448ad\",                        [{\"hovertemplate\":\"Statistical Significance=p \\u003e 0.05\\u003cbr\\u003eRank_Biserial=%{x}\\u003cbr\\u003e=%{y}\\u003cextra\\u003e\\u003c\\u002fextra\\u003e\",\"legendgroup\":\"p \\u003e 0.05\",\"marker\":{\"color\":\"#9AC529\",\"symbol\":\"circle-open\",\"size\":13},\"mode\":\"markers\",\"name\":\"p \\u003e 0.05\",\"orientation\":\"h\",\"showlegend\":true,\"x\":[-0.5428571428571429,-0.3523809523809524,-0.3142857142857143,-0.27619047619047615,-0.27619047619047615,-0.19999999999999996,-0.19999999999999996,-0.18095238095238098,-0.18095238095238098,-0.16190476190476194,-0.16190476190476194,-0.14285714285714285,-0.10476190476190478,-0.10476190476190478,-0.10476190476190478,-0.10476190476190478,-0.08571428571428569,-0.08571428571428569,-0.06666666666666665,-0.06666666666666665,-0.04761904761904767,-0.04761904761904767,-0.00952380952380949,-0.00952380952380949,0.04761904761904767,0.04761904761904767,0.06666666666666665,0.06666666666666665,0.06666666666666665,0.08571428571428569,0.10476190476190478,0.12380952380952381,0.14285714285714285,0.14285714285714285,0.14285714285714285,0.16190476190476194,0.16190476190476194,0.16190476190476194,0.19999999999999996,0.19999999999999996,0.2190476190476191,0.2190476190476191,0.2571428571428571,0.29523809523809524,0.29523809523809524,0.29523809523809524,0.3142857142857143,0.3142857142857143,0.4476190476190476,0.4666666666666666,0.5047619047619047,0.5047619047619047],\"xaxis\":\"x\",\"y\":[\"msf_std\",\"g_std\",\"b_n_std\",\"b_n_mean\",\"d_std\",\"wSMI_2_std\",\"P3b_std\",\"wSMI_8_std\",\"d_n_mean\",\"P3a_mean\",\"se_mean\",\"P3a_std\",\"se_std\",\"msf_mean\",\"sef90_mean\",\"p_e_8_mean\",\"CNV_std\",\"g_n_std\",\"g_n_mean\",\"P1_std\",\"sef90_std\",\"p_e_4_mean\",\"p_e_4_std\",\"wSMI_2_mean\",\"sef95_mean\",\"p_e_1_mean\",\"k_mean\",\"sef95_std\",\"P1_mean\",\"d_n_std\",\"wSMI_1_std\",\"p_e_2_mean\",\"b_std\",\"b_mean\",\"a_mean\",\"p_e_8_std\",\"a_n_mean\",\"a_n_std\",\"a_std\",\"wSMI_1_mean\",\"wSMI_4_std\",\"P3b_mean\",\"d_mean\",\"CNV_mean\",\"g_mean\",\"k_std\",\"t_std\",\"wSMI_4_mean\",\"p_e_2_std\",\"t_n_std\",\"t_mean\",\"t_n_mean\"],\"yaxis\":\"y\",\"type\":\"scatter\"},{\"hovertemplate\":\"Statistical Significance=p \\u003c 0.05 uncorrected\\u003cbr\\u003eRank_Biserial=%{x}\\u003cbr\\u003e=%{y}\\u003cextra\\u003e\\u003c\\u002fextra\\u003e\",\"legendgroup\":\"p \\u003c 0.05 uncorrected\",\"marker\":{\"color\":\"#9AC529\",\"symbol\":\"circle\",\"size\":13},\"mode\":\"markers\",\"name\":\"p \\u003c 0.05 uncorrected\",\"orientation\":\"h\",\"showlegend\":true,\"x\":[0.638095238095238,0.6761904761904762],\"xaxis\":\"x\",\"y\":[\"p_e_1_std\",\"wSMI_8_mean\"],\"yaxis\":\"y\",\"type\":\"scatter\"}],                        {\"template\":{\"data\":{\"barpolar\":[{\"marker\":{\"line\":{\"color\":\"white\",\"width\":0.5},\"pattern\":{\"fillmode\":\"overlay\",\"size\":10,\"solidity\":0.2}},\"type\":\"barpolar\"}],\"bar\":[{\"error_x\":{\"color\":\"#2a3f5f\"},\"error_y\":{\"color\":\"#2a3f5f\"},\"marker\":{\"line\":{\"color\":\"white\",\"width\":0.5},\"pattern\":{\"fillmode\":\"overlay\",\"size\":10,\"solidity\":0.2}},\"type\":\"bar\"}],\"carpet\":[{\"aaxis\":{\"endlinecolor\":\"#2a3f5f\",\"gridcolor\":\"#C8D4E3\",\"linecolor\":\"#C8D4E3\",\"minorgridcolor\":\"#C8D4E3\",\"startlinecolor\":\"#2a3f5f\"},\"baxis\":{\"endlinecolor\":\"#2a3f5f\",\"gridcolor\":\"#C8D4E3\",\"linecolor\":\"#C8D4E3\",\"minorgridcolor\":\"#C8D4E3\",\"startlinecolor\":\"#2a3f5f\"},\"type\":\"carpet\"}],\"choropleth\":[{\"colorbar\":{\"outlinewidth\":0,\"ticks\":\"\"},\"type\":\"choropleth\"}],\"contourcarpet\":[{\"colorbar\":{\"outlinewidth\":0,\"ticks\":\"\"},\"type\":\"contourcarpet\"}],\"contour\":[{\"colorbar\":{\"outlinewidth\":0,\"ticks\":\"\"},\"colorscale\":[[0.0,\"#0d0887\"],[0.1111111111111111,\"#46039f\"],[0.2222222222222222,\"#7201a8\"],[0.3333333333333333,\"#9c179e\"],[0.4444444444444444,\"#bd3786\"],[0.5555555555555556,\"#d8576b\"],[0.6666666666666666,\"#ed7953\"],[0.7777777777777778,\"#fb9f3a\"],[0.8888888888888888,\"#fdca26\"],[1.0,\"#f0f921\"]],\"type\":\"contour\"}],\"heatmapgl\":[{\"colorbar\":{\"outlinewidth\":0,\"ticks\":\"\"},\"colorscale\":[[0.0,\"#0d0887\"],[0.1111111111111111,\"#46039f\"],[0.2222222222222222,\"#7201a8\"],[0.3333333333333333,\"#9c179e\"],[0.4444444444444444,\"#bd3786\"],[0.5555555555555556,\"#d8576b\"],[0.6666666666666666,\"#ed7953\"],[0.7777777777777778,\"#fb9f3a\"],[0.8888888888888888,\"#fdca26\"],[1.0,\"#f0f921\"]],\"type\":\"heatmapgl\"}],\"heatmap\":[{\"colorbar\":{\"outlinewidth\":0,\"ticks\":\"\"},\"colorscale\":[[0.0,\"#0d0887\"],[0.1111111111111111,\"#46039f\"],[0.2222222222222222,\"#7201a8\"],[0.3333333333333333,\"#9c179e\"],[0.4444444444444444,\"#bd3786\"],[0.5555555555555556,\"#d8576b\"],[0.6666666666666666,\"#ed7953\"],[0.7777777777777778,\"#fb9f3a\"],[0.8888888888888888,\"#fdca26\"],[1.0,\"#f0f921\"]],\"type\":\"heatmap\"}],\"histogram2dcontour\":[{\"colorbar\":{\"outlinewidth\":0,\"ticks\":\"\"},\"colorscale\":[[0.0,\"#0d0887\"],[0.1111111111111111,\"#46039f\"],[0.2222222222222222,\"#7201a8\"],[0.3333333333333333,\"#9c179e\"],[0.4444444444444444,\"#bd3786\"],[0.5555555555555556,\"#d8576b\"],[0.6666666666666666,\"#ed7953\"],[0.7777777777777778,\"#fb9f3a\"],[0.8888888888888888,\"#fdca26\"],[1.0,\"#f0f921\"]],\"type\":\"histogram2dcontour\"}],\"histogram2d\":[{\"colorbar\":{\"outlinewidth\":0,\"ticks\":\"\"},\"colorscale\":[[0.0,\"#0d0887\"],[0.1111111111111111,\"#46039f\"],[0.2222222222222222,\"#7201a8\"],[0.3333333333333333,\"#9c179e\"],[0.4444444444444444,\"#bd3786\"],[0.5555555555555556,\"#d8576b\"],[0.6666666666666666,\"#ed7953\"],[0.7777777777777778,\"#fb9f3a\"],[0.8888888888888888,\"#fdca26\"],[1.0,\"#f0f921\"]],\"type\":\"histogram2d\"}],\"histogram\":[{\"marker\":{\"pattern\":{\"fillmode\":\"overlay\",\"size\":10,\"solidity\":0.2}},\"type\":\"histogram\"}],\"mesh3d\":[{\"colorbar\":{\"outlinewidth\":0,\"ticks\":\"\"},\"type\":\"mesh3d\"}],\"parcoords\":[{\"line\":{\"colorbar\":{\"outlinewidth\":0,\"ticks\":\"\"}},\"type\":\"parcoords\"}],\"pie\":[{\"automargin\":true,\"type\":\"pie\"}],\"scatter3d\":[{\"line\":{\"colorbar\":{\"outlinewidth\":0,\"ticks\":\"\"}},\"marker\":{\"colorbar\":{\"outlinewidth\":0,\"ticks\":\"\"}},\"type\":\"scatter3d\"}],\"scattercarpet\":[{\"marker\":{\"colorbar\":{\"outlinewidth\":0,\"ticks\":\"\"}},\"type\":\"scattercarpet\"}],\"scattergeo\":[{\"marker\":{\"colorbar\":{\"outlinewidth\":0,\"ticks\":\"\"}},\"type\":\"scattergeo\"}],\"scattergl\":[{\"marker\":{\"colorbar\":{\"outlinewidth\":0,\"ticks\":\"\"}},\"type\":\"scattergl\"}],\"scattermapbox\":[{\"marker\":{\"colorbar\":{\"outlinewidth\":0,\"ticks\":\"\"}},\"type\":\"scattermapbox\"}],\"scatterpolargl\":[{\"marker\":{\"colorbar\":{\"outlinewidth\":0,\"ticks\":\"\"}},\"type\":\"scatterpolargl\"}],\"scatterpolar\":[{\"marker\":{\"colorbar\":{\"outlinewidth\":0,\"ticks\":\"\"}},\"type\":\"scatterpolar\"}],\"scatter\":[{\"fillpattern\":{\"fillmode\":\"overlay\",\"size\":10,\"solidity\":0.2},\"type\":\"scatter\"}],\"scatterternary\":[{\"marker\":{\"colorbar\":{\"outlinewidth\":0,\"ticks\":\"\"}},\"type\":\"scatterternary\"}],\"surface\":[{\"colorbar\":{\"outlinewidth\":0,\"ticks\":\"\"},\"colorscale\":[[0.0,\"#0d0887\"],[0.1111111111111111,\"#46039f\"],[0.2222222222222222,\"#7201a8\"],[0.3333333333333333,\"#9c179e\"],[0.4444444444444444,\"#bd3786\"],[0.5555555555555556,\"#d8576b\"],[0.6666666666666666,\"#ed7953\"],[0.7777777777777778,\"#fb9f3a\"],[0.8888888888888888,\"#fdca26\"],[1.0,\"#f0f921\"]],\"type\":\"surface\"}],\"table\":[{\"cells\":{\"fill\":{\"color\":\"#EBF0F8\"},\"line\":{\"color\":\"white\"}},\"header\":{\"fill\":{\"color\":\"#C8D4E3\"},\"line\":{\"color\":\"white\"}},\"type\":\"table\"}]},\"layout\":{\"annotationdefaults\":{\"arrowcolor\":\"#2a3f5f\",\"arrowhead\":0,\"arrowwidth\":1},\"autotypenumbers\":\"strict\",\"coloraxis\":{\"colorbar\":{\"outlinewidth\":0,\"ticks\":\"\"}},\"colorscale\":{\"diverging\":[[0,\"#8e0152\"],[0.1,\"#c51b7d\"],[0.2,\"#de77ae\"],[0.3,\"#f1b6da\"],[0.4,\"#fde0ef\"],[0.5,\"#f7f7f7\"],[0.6,\"#e6f5d0\"],[0.7,\"#b8e186\"],[0.8,\"#7fbc41\"],[0.9,\"#4d9221\"],[1,\"#276419\"]],\"sequential\":[[0.0,\"#0d0887\"],[0.1111111111111111,\"#46039f\"],[0.2222222222222222,\"#7201a8\"],[0.3333333333333333,\"#9c179e\"],[0.4444444444444444,\"#bd3786\"],[0.5555555555555556,\"#d8576b\"],[0.6666666666666666,\"#ed7953\"],[0.7777777777777778,\"#fb9f3a\"],[0.8888888888888888,\"#fdca26\"],[1.0,\"#f0f921\"]],\"sequentialminus\":[[0.0,\"#0d0887\"],[0.1111111111111111,\"#46039f\"],[0.2222222222222222,\"#7201a8\"],[0.3333333333333333,\"#9c179e\"],[0.4444444444444444,\"#bd3786\"],[0.5555555555555556,\"#d8576b\"],[0.6666666666666666,\"#ed7953\"],[0.7777777777777778,\"#fb9f3a\"],[0.8888888888888888,\"#fdca26\"],[1.0,\"#f0f921\"]]},\"colorway\":[\"#636efa\",\"#EF553B\",\"#00cc96\",\"#ab63fa\",\"#FFA15A\",\"#19d3f3\",\"#FF6692\",\"#B6E880\",\"#FF97FF\",\"#FECB52\"],\"font\":{\"color\":\"#2a3f5f\"},\"geo\":{\"bgcolor\":\"white\",\"lakecolor\":\"white\",\"landcolor\":\"white\",\"showlakes\":true,\"showland\":true,\"subunitcolor\":\"#C8D4E3\"},\"hoverlabel\":{\"align\":\"left\"},\"hovermode\":\"closest\",\"mapbox\":{\"style\":\"light\"},\"paper_bgcolor\":\"white\",\"plot_bgcolor\":\"white\",\"polar\":{\"angularaxis\":{\"gridcolor\":\"#EBF0F8\",\"linecolor\":\"#EBF0F8\",\"ticks\":\"\"},\"bgcolor\":\"white\",\"radialaxis\":{\"gridcolor\":\"#EBF0F8\",\"linecolor\":\"#EBF0F8\",\"ticks\":\"\"}},\"scene\":{\"xaxis\":{\"backgroundcolor\":\"white\",\"gridcolor\":\"#DFE8F3\",\"gridwidth\":2,\"linecolor\":\"#EBF0F8\",\"showbackground\":true,\"ticks\":\"\",\"zerolinecolor\":\"#EBF0F8\"},\"yaxis\":{\"backgroundcolor\":\"white\",\"gridcolor\":\"#DFE8F3\",\"gridwidth\":2,\"linecolor\":\"#EBF0F8\",\"showbackground\":true,\"ticks\":\"\",\"zerolinecolor\":\"#EBF0F8\"},\"zaxis\":{\"backgroundcolor\":\"white\",\"gridcolor\":\"#DFE8F3\",\"gridwidth\":2,\"linecolor\":\"#EBF0F8\",\"showbackground\":true,\"ticks\":\"\",\"zerolinecolor\":\"#EBF0F8\"}},\"shapedefaults\":{\"line\":{\"color\":\"#2a3f5f\"}},\"ternary\":{\"aaxis\":{\"gridcolor\":\"#DFE8F3\",\"linecolor\":\"#A2B1C6\",\"ticks\":\"\"},\"baxis\":{\"gridcolor\":\"#DFE8F3\",\"linecolor\":\"#A2B1C6\",\"ticks\":\"\"},\"bgcolor\":\"white\",\"caxis\":{\"gridcolor\":\"#DFE8F3\",\"linecolor\":\"#A2B1C6\",\"ticks\":\"\"}},\"title\":{\"x\":0.05},\"xaxis\":{\"automargin\":true,\"gridcolor\":\"#EBF0F8\",\"linecolor\":\"#EBF0F8\",\"ticks\":\"\",\"title\":{\"standoff\":15},\"zerolinecolor\":\"#EBF0F8\",\"zerolinewidth\":2},\"yaxis\":{\"automargin\":true,\"gridcolor\":\"#EBF0F8\",\"linecolor\":\"#EBF0F8\",\"ticks\":\"\",\"title\":{\"standoff\":15},\"zerolinecolor\":\"#EBF0F8\",\"zerolinewidth\":2}}},\"xaxis\":{\"anchor\":\"y\",\"domain\":[0.0,1.0],\"title\":{\"text\":\"Rank_Biserial\"},\"tickfont\":{\"size\":20},\"visible\":true,\"range\":[-0.75,0.75]},\"yaxis\":{\"anchor\":\"x\",\"domain\":[0.0,1.0],\"title\":{\"text\":\"\"},\"tickfont\":{\"size\":20},\"autorange\":false,\"automargin\":true,\"range\":[-1,54],\"dtick\":1},\"legend\":{\"title\":{\"text\":\"Statistical Significance\"},\"tracegroupgap\":0},\"title\":{\"text\":\"Wilcoxon size effect for on-task_vs_dMW (n = 14)\"},\"shapes\":[{\"line\":{\"color\":\"grey\",\"dash\":\"dash\",\"width\":3},\"type\":\"line\",\"x0\":0,\"x1\":0,\"xref\":\"x\",\"y0\":0,\"y1\":1,\"yref\":\"y domain\"}],\"font\":{\"family\":\"Times new roman\",\"size\":20,\"color\":\"black\"},\"width\":850,\"height\":1300,\"showlegend\":true},                        {\"responsive\": true}                    ).then(function(){\n",
       "                            \n",
       "var gd = document.getElementById('d241cca5-4b67-4512-9c3a-078dd87448ad');\n",
       "var x = new MutationObserver(function (mutations, observer) {{\n",
       "        var display = window.getComputedStyle(gd).display;\n",
       "        if (!display || display === 'none') {{\n",
       "            console.log([gd, 'removed!']);\n",
       "            Plotly.purge(gd);\n",
       "            observer.disconnect();\n",
       "        }}\n",
       "}});\n",
       "\n",
       "// Listen for the removal of the full notebook cells\n",
       "var notebookContainer = gd.closest('#notebook-container');\n",
       "if (notebookContainer) {{\n",
       "    x.observe(notebookContainer, {childList: true});\n",
       "}}\n",
       "\n",
       "// Listen for the clearing of the current output cell\n",
       "var outputEl = gd.closest('.output');\n",
       "if (outputEl) {{\n",
       "    x.observe(outputEl, {childList: true});\n",
       "}}\n",
       "\n",
       "                        })                };                });            </script>        </div>"
      ]
     },
     "metadata": {},
     "output_type": "display_data"
    },
    {
     "name": "stdout",
     "output_type": "stream",
     "text": [
      "Participants included in analysis: 13.0\n"
     ]
    },
    {
     "data": {
      "application/vnd.plotly.v1+json": {
       "config": {
        "plotlyServerURL": "https://plot.ly"
       },
       "data": [
        {
         "hovertemplate": "Statistical Significance=p > 0.05<br>Rank_Biserial=%{x}<br>=%{y}<extra></extra>",
         "legendgroup": "p > 0.05",
         "marker": {
          "color": "#F38A31",
          "size": 13,
          "symbol": "circle-open"
         },
         "mode": "markers",
         "name": "p > 0.05",
         "orientation": "h",
         "showlegend": true,
         "type": "scatter",
         "x": [
          -0.6043956043956045,
          -0.5604395604395604,
          -0.5164835164835164,
          -0.5164835164835164,
          -0.47252747252747257,
          -0.4285714285714286,
          -0.4285714285714286,
          -0.4285714285714286,
          -0.40659340659340665,
          -0.3846153846153846,
          -0.31868131868131866,
          -0.31868131868131866,
          -0.2967032967032967,
          -0.2747252747252747,
          -0.25274725274725274,
          -0.25274725274725274,
          -0.25274725274725274,
          -0.23076923076923078,
          -0.20879120879120877,
          -0.20879120879120877,
          -0.18681318681318682,
          -0.18681318681318682,
          -0.14285714285714285,
          -0.14285714285714285,
          -0.1208791208791209,
          -0.1208791208791209,
          -0.1208791208791209,
          -0.09890109890109894,
          -0.07692307692307687,
          -0.05494505494505497,
          -0.05494505494505497,
          0.01098901098901095,
          0.01098901098901095,
          0.01098901098901095,
          0.05494505494505497,
          0.07692307692307687,
          0.09890109890109894,
          0.1208791208791209,
          0.16483516483516486,
          0.20879120879120877,
          0.23076923076923078,
          0.23076923076923078,
          0.25274725274725274,
          0.25274725274725274,
          0.2747252747252747,
          0.3626373626373627,
          0.3626373626373627,
          0.40659340659340665,
          0.4285714285714286,
          0.47252747252747257,
          0.5384615384615385
         ],
         "xaxis": "x",
         "y": [
          "P1_std",
          "se_mean",
          "b_n_mean",
          "k_mean",
          "a_std",
          "sef90_std",
          "sef95_std",
          "P3b_std",
          "p_e_4_mean",
          "sef90_mean",
          "p_e_2_std",
          "p_e_1_mean",
          "CNV_mean",
          "g_n_std",
          "se_std",
          "P3a_std",
          "b_mean",
          "sef95_mean",
          "CNV_std",
          "d_n_mean",
          "g_std",
          "msf_std",
          "d_std",
          "b_n_std",
          "wSMI_4_mean",
          "t_std",
          "p_e_8_mean",
          "d_mean",
          "g_n_mean",
          "p_e_1_std",
          "a_n_mean",
          "p_e_4_std",
          "P3a_mean",
          "wSMI_1_mean",
          "wSMI_8_mean",
          "b_std",
          "k_std",
          "g_mean",
          "a_n_std",
          "p_e_2_mean",
          "a_mean",
          "P3b_mean",
          "t_n_std",
          "wSMI_8_std",
          "wSMI_2_mean",
          "d_n_std",
          "P1_mean",
          "wSMI_4_std",
          "wSMI_2_std",
          "wSMI_1_std",
          "p_e_8_std"
         ],
         "yaxis": "y"
        },
        {
         "hovertemplate": "Statistical Significance=p < 0.05 uncorrected<br>Rank_Biserial=%{x}<br>=%{y}<extra></extra>",
         "legendgroup": "p < 0.05 uncorrected",
         "marker": {
          "color": "#F38A31",
          "size": 13,
          "symbol": "circle"
         },
         "mode": "markers",
         "name": "p < 0.05 uncorrected",
         "orientation": "h",
         "showlegend": true,
         "type": "scatter",
         "x": [
          -0.6263736263736264,
          0.6703296703296704,
          0.7582417582417582
         ],
         "xaxis": "x",
         "y": [
          "msf_mean",
          "t_mean",
          "t_n_mean"
         ],
         "yaxis": "y"
        }
       ],
       "layout": {
        "font": {
         "color": "black",
         "family": "Times new roman",
         "size": 20
        },
        "height": 1300,
        "legend": {
         "title": {
          "text": "Statistical Significance"
         },
         "tracegroupgap": 0
        },
        "shapes": [
         {
          "line": {
           "color": "grey",
           "dash": "dash",
           "width": 3
          },
          "type": "line",
          "x0": 0,
          "x1": 0,
          "xref": "x",
          "y0": 0,
          "y1": 1,
          "yref": "y domain"
         }
        ],
        "showlegend": true,
        "template": {
         "data": {
          "bar": [
           {
            "error_x": {
             "color": "#2a3f5f"
            },
            "error_y": {
             "color": "#2a3f5f"
            },
            "marker": {
             "line": {
              "color": "white",
              "width": 0.5
             },
             "pattern": {
              "fillmode": "overlay",
              "size": 10,
              "solidity": 0.2
             }
            },
            "type": "bar"
           }
          ],
          "barpolar": [
           {
            "marker": {
             "line": {
              "color": "white",
              "width": 0.5
             },
             "pattern": {
              "fillmode": "overlay",
              "size": 10,
              "solidity": 0.2
             }
            },
            "type": "barpolar"
           }
          ],
          "carpet": [
           {
            "aaxis": {
             "endlinecolor": "#2a3f5f",
             "gridcolor": "#C8D4E3",
             "linecolor": "#C8D4E3",
             "minorgridcolor": "#C8D4E3",
             "startlinecolor": "#2a3f5f"
            },
            "baxis": {
             "endlinecolor": "#2a3f5f",
             "gridcolor": "#C8D4E3",
             "linecolor": "#C8D4E3",
             "minorgridcolor": "#C8D4E3",
             "startlinecolor": "#2a3f5f"
            },
            "type": "carpet"
           }
          ],
          "choropleth": [
           {
            "colorbar": {
             "outlinewidth": 0,
             "ticks": ""
            },
            "type": "choropleth"
           }
          ],
          "contour": [
           {
            "colorbar": {
             "outlinewidth": 0,
             "ticks": ""
            },
            "colorscale": [
             [
              0,
              "#0d0887"
             ],
             [
              0.1111111111111111,
              "#46039f"
             ],
             [
              0.2222222222222222,
              "#7201a8"
             ],
             [
              0.3333333333333333,
              "#9c179e"
             ],
             [
              0.4444444444444444,
              "#bd3786"
             ],
             [
              0.5555555555555556,
              "#d8576b"
             ],
             [
              0.6666666666666666,
              "#ed7953"
             ],
             [
              0.7777777777777778,
              "#fb9f3a"
             ],
             [
              0.8888888888888888,
              "#fdca26"
             ],
             [
              1,
              "#f0f921"
             ]
            ],
            "type": "contour"
           }
          ],
          "contourcarpet": [
           {
            "colorbar": {
             "outlinewidth": 0,
             "ticks": ""
            },
            "type": "contourcarpet"
           }
          ],
          "heatmap": [
           {
            "colorbar": {
             "outlinewidth": 0,
             "ticks": ""
            },
            "colorscale": [
             [
              0,
              "#0d0887"
             ],
             [
              0.1111111111111111,
              "#46039f"
             ],
             [
              0.2222222222222222,
              "#7201a8"
             ],
             [
              0.3333333333333333,
              "#9c179e"
             ],
             [
              0.4444444444444444,
              "#bd3786"
             ],
             [
              0.5555555555555556,
              "#d8576b"
             ],
             [
              0.6666666666666666,
              "#ed7953"
             ],
             [
              0.7777777777777778,
              "#fb9f3a"
             ],
             [
              0.8888888888888888,
              "#fdca26"
             ],
             [
              1,
              "#f0f921"
             ]
            ],
            "type": "heatmap"
           }
          ],
          "heatmapgl": [
           {
            "colorbar": {
             "outlinewidth": 0,
             "ticks": ""
            },
            "colorscale": [
             [
              0,
              "#0d0887"
             ],
             [
              0.1111111111111111,
              "#46039f"
             ],
             [
              0.2222222222222222,
              "#7201a8"
             ],
             [
              0.3333333333333333,
              "#9c179e"
             ],
             [
              0.4444444444444444,
              "#bd3786"
             ],
             [
              0.5555555555555556,
              "#d8576b"
             ],
             [
              0.6666666666666666,
              "#ed7953"
             ],
             [
              0.7777777777777778,
              "#fb9f3a"
             ],
             [
              0.8888888888888888,
              "#fdca26"
             ],
             [
              1,
              "#f0f921"
             ]
            ],
            "type": "heatmapgl"
           }
          ],
          "histogram": [
           {
            "marker": {
             "pattern": {
              "fillmode": "overlay",
              "size": 10,
              "solidity": 0.2
             }
            },
            "type": "histogram"
           }
          ],
          "histogram2d": [
           {
            "colorbar": {
             "outlinewidth": 0,
             "ticks": ""
            },
            "colorscale": [
             [
              0,
              "#0d0887"
             ],
             [
              0.1111111111111111,
              "#46039f"
             ],
             [
              0.2222222222222222,
              "#7201a8"
             ],
             [
              0.3333333333333333,
              "#9c179e"
             ],
             [
              0.4444444444444444,
              "#bd3786"
             ],
             [
              0.5555555555555556,
              "#d8576b"
             ],
             [
              0.6666666666666666,
              "#ed7953"
             ],
             [
              0.7777777777777778,
              "#fb9f3a"
             ],
             [
              0.8888888888888888,
              "#fdca26"
             ],
             [
              1,
              "#f0f921"
             ]
            ],
            "type": "histogram2d"
           }
          ],
          "histogram2dcontour": [
           {
            "colorbar": {
             "outlinewidth": 0,
             "ticks": ""
            },
            "colorscale": [
             [
              0,
              "#0d0887"
             ],
             [
              0.1111111111111111,
              "#46039f"
             ],
             [
              0.2222222222222222,
              "#7201a8"
             ],
             [
              0.3333333333333333,
              "#9c179e"
             ],
             [
              0.4444444444444444,
              "#bd3786"
             ],
             [
              0.5555555555555556,
              "#d8576b"
             ],
             [
              0.6666666666666666,
              "#ed7953"
             ],
             [
              0.7777777777777778,
              "#fb9f3a"
             ],
             [
              0.8888888888888888,
              "#fdca26"
             ],
             [
              1,
              "#f0f921"
             ]
            ],
            "type": "histogram2dcontour"
           }
          ],
          "mesh3d": [
           {
            "colorbar": {
             "outlinewidth": 0,
             "ticks": ""
            },
            "type": "mesh3d"
           }
          ],
          "parcoords": [
           {
            "line": {
             "colorbar": {
              "outlinewidth": 0,
              "ticks": ""
             }
            },
            "type": "parcoords"
           }
          ],
          "pie": [
           {
            "automargin": true,
            "type": "pie"
           }
          ],
          "scatter": [
           {
            "fillpattern": {
             "fillmode": "overlay",
             "size": 10,
             "solidity": 0.2
            },
            "type": "scatter"
           }
          ],
          "scatter3d": [
           {
            "line": {
             "colorbar": {
              "outlinewidth": 0,
              "ticks": ""
             }
            },
            "marker": {
             "colorbar": {
              "outlinewidth": 0,
              "ticks": ""
             }
            },
            "type": "scatter3d"
           }
          ],
          "scattercarpet": [
           {
            "marker": {
             "colorbar": {
              "outlinewidth": 0,
              "ticks": ""
             }
            },
            "type": "scattercarpet"
           }
          ],
          "scattergeo": [
           {
            "marker": {
             "colorbar": {
              "outlinewidth": 0,
              "ticks": ""
             }
            },
            "type": "scattergeo"
           }
          ],
          "scattergl": [
           {
            "marker": {
             "colorbar": {
              "outlinewidth": 0,
              "ticks": ""
             }
            },
            "type": "scattergl"
           }
          ],
          "scattermapbox": [
           {
            "marker": {
             "colorbar": {
              "outlinewidth": 0,
              "ticks": ""
             }
            },
            "type": "scattermapbox"
           }
          ],
          "scatterpolar": [
           {
            "marker": {
             "colorbar": {
              "outlinewidth": 0,
              "ticks": ""
             }
            },
            "type": "scatterpolar"
           }
          ],
          "scatterpolargl": [
           {
            "marker": {
             "colorbar": {
              "outlinewidth": 0,
              "ticks": ""
             }
            },
            "type": "scatterpolargl"
           }
          ],
          "scatterternary": [
           {
            "marker": {
             "colorbar": {
              "outlinewidth": 0,
              "ticks": ""
             }
            },
            "type": "scatterternary"
           }
          ],
          "surface": [
           {
            "colorbar": {
             "outlinewidth": 0,
             "ticks": ""
            },
            "colorscale": [
             [
              0,
              "#0d0887"
             ],
             [
              0.1111111111111111,
              "#46039f"
             ],
             [
              0.2222222222222222,
              "#7201a8"
             ],
             [
              0.3333333333333333,
              "#9c179e"
             ],
             [
              0.4444444444444444,
              "#bd3786"
             ],
             [
              0.5555555555555556,
              "#d8576b"
             ],
             [
              0.6666666666666666,
              "#ed7953"
             ],
             [
              0.7777777777777778,
              "#fb9f3a"
             ],
             [
              0.8888888888888888,
              "#fdca26"
             ],
             [
              1,
              "#f0f921"
             ]
            ],
            "type": "surface"
           }
          ],
          "table": [
           {
            "cells": {
             "fill": {
              "color": "#EBF0F8"
             },
             "line": {
              "color": "white"
             }
            },
            "header": {
             "fill": {
              "color": "#C8D4E3"
             },
             "line": {
              "color": "white"
             }
            },
            "type": "table"
           }
          ]
         },
         "layout": {
          "annotationdefaults": {
           "arrowcolor": "#2a3f5f",
           "arrowhead": 0,
           "arrowwidth": 1
          },
          "autotypenumbers": "strict",
          "coloraxis": {
           "colorbar": {
            "outlinewidth": 0,
            "ticks": ""
           }
          },
          "colorscale": {
           "diverging": [
            [
             0,
             "#8e0152"
            ],
            [
             0.1,
             "#c51b7d"
            ],
            [
             0.2,
             "#de77ae"
            ],
            [
             0.3,
             "#f1b6da"
            ],
            [
             0.4,
             "#fde0ef"
            ],
            [
             0.5,
             "#f7f7f7"
            ],
            [
             0.6,
             "#e6f5d0"
            ],
            [
             0.7,
             "#b8e186"
            ],
            [
             0.8,
             "#7fbc41"
            ],
            [
             0.9,
             "#4d9221"
            ],
            [
             1,
             "#276419"
            ]
           ],
           "sequential": [
            [
             0,
             "#0d0887"
            ],
            [
             0.1111111111111111,
             "#46039f"
            ],
            [
             0.2222222222222222,
             "#7201a8"
            ],
            [
             0.3333333333333333,
             "#9c179e"
            ],
            [
             0.4444444444444444,
             "#bd3786"
            ],
            [
             0.5555555555555556,
             "#d8576b"
            ],
            [
             0.6666666666666666,
             "#ed7953"
            ],
            [
             0.7777777777777778,
             "#fb9f3a"
            ],
            [
             0.8888888888888888,
             "#fdca26"
            ],
            [
             1,
             "#f0f921"
            ]
           ],
           "sequentialminus": [
            [
             0,
             "#0d0887"
            ],
            [
             0.1111111111111111,
             "#46039f"
            ],
            [
             0.2222222222222222,
             "#7201a8"
            ],
            [
             0.3333333333333333,
             "#9c179e"
            ],
            [
             0.4444444444444444,
             "#bd3786"
            ],
            [
             0.5555555555555556,
             "#d8576b"
            ],
            [
             0.6666666666666666,
             "#ed7953"
            ],
            [
             0.7777777777777778,
             "#fb9f3a"
            ],
            [
             0.8888888888888888,
             "#fdca26"
            ],
            [
             1,
             "#f0f921"
            ]
           ]
          },
          "colorway": [
           "#636efa",
           "#EF553B",
           "#00cc96",
           "#ab63fa",
           "#FFA15A",
           "#19d3f3",
           "#FF6692",
           "#B6E880",
           "#FF97FF",
           "#FECB52"
          ],
          "font": {
           "color": "#2a3f5f"
          },
          "geo": {
           "bgcolor": "white",
           "lakecolor": "white",
           "landcolor": "white",
           "showlakes": true,
           "showland": true,
           "subunitcolor": "#C8D4E3"
          },
          "hoverlabel": {
           "align": "left"
          },
          "hovermode": "closest",
          "mapbox": {
           "style": "light"
          },
          "paper_bgcolor": "white",
          "plot_bgcolor": "white",
          "polar": {
           "angularaxis": {
            "gridcolor": "#EBF0F8",
            "linecolor": "#EBF0F8",
            "ticks": ""
           },
           "bgcolor": "white",
           "radialaxis": {
            "gridcolor": "#EBF0F8",
            "linecolor": "#EBF0F8",
            "ticks": ""
           }
          },
          "scene": {
           "xaxis": {
            "backgroundcolor": "white",
            "gridcolor": "#DFE8F3",
            "gridwidth": 2,
            "linecolor": "#EBF0F8",
            "showbackground": true,
            "ticks": "",
            "zerolinecolor": "#EBF0F8"
           },
           "yaxis": {
            "backgroundcolor": "white",
            "gridcolor": "#DFE8F3",
            "gridwidth": 2,
            "linecolor": "#EBF0F8",
            "showbackground": true,
            "ticks": "",
            "zerolinecolor": "#EBF0F8"
           },
           "zaxis": {
            "backgroundcolor": "white",
            "gridcolor": "#DFE8F3",
            "gridwidth": 2,
            "linecolor": "#EBF0F8",
            "showbackground": true,
            "ticks": "",
            "zerolinecolor": "#EBF0F8"
           }
          },
          "shapedefaults": {
           "line": {
            "color": "#2a3f5f"
           }
          },
          "ternary": {
           "aaxis": {
            "gridcolor": "#DFE8F3",
            "linecolor": "#A2B1C6",
            "ticks": ""
           },
           "baxis": {
            "gridcolor": "#DFE8F3",
            "linecolor": "#A2B1C6",
            "ticks": ""
           },
           "bgcolor": "white",
           "caxis": {
            "gridcolor": "#DFE8F3",
            "linecolor": "#A2B1C6",
            "ticks": ""
           }
          },
          "title": {
           "x": 0.05
          },
          "xaxis": {
           "automargin": true,
           "gridcolor": "#EBF0F8",
           "linecolor": "#EBF0F8",
           "ticks": "",
           "title": {
            "standoff": 15
           },
           "zerolinecolor": "#EBF0F8",
           "zerolinewidth": 2
          },
          "yaxis": {
           "automargin": true,
           "gridcolor": "#EBF0F8",
           "linecolor": "#EBF0F8",
           "ticks": "",
           "title": {
            "standoff": 15
           },
           "zerolinecolor": "#EBF0F8",
           "zerolinewidth": 2
          }
         }
        },
        "title": {
         "text": "Wilcoxon size effect for on-task_vs_sMW (n = 13)"
        },
        "width": 850,
        "xaxis": {
         "anchor": "y",
         "domain": [
          0,
          1
         ],
         "range": [
          -0.75,
          0.75
         ],
         "tickfont": {
          "size": 20
         },
         "title": {
          "text": "Rank_Biserial"
         },
         "visible": true
        },
        "yaxis": {
         "anchor": "x",
         "automargin": true,
         "autorange": false,
         "domain": [
          0,
          1
         ],
         "dtick": 1,
         "range": [
          -1,
          54
         ],
         "tickfont": {
          "size": 20
         },
         "title": {
          "text": ""
         }
        }
       }
      },
      "text/html": [
       "<div>                            <div id=\"91cd0f2d-519c-4343-b052-f2bae2316917\" class=\"plotly-graph-div\" style=\"height:1300px; width:850px;\"></div>            <script type=\"text/javascript\">                require([\"plotly\"], function(Plotly) {                    window.PLOTLYENV=window.PLOTLYENV || {};                                    if (document.getElementById(\"91cd0f2d-519c-4343-b052-f2bae2316917\")) {                    Plotly.newPlot(                        \"91cd0f2d-519c-4343-b052-f2bae2316917\",                        [{\"hovertemplate\":\"Statistical Significance=p \\u003e 0.05\\u003cbr\\u003eRank_Biserial=%{x}\\u003cbr\\u003e=%{y}\\u003cextra\\u003e\\u003c\\u002fextra\\u003e\",\"legendgroup\":\"p \\u003e 0.05\",\"marker\":{\"color\":\"#F38A31\",\"symbol\":\"circle-open\",\"size\":13},\"mode\":\"markers\",\"name\":\"p \\u003e 0.05\",\"orientation\":\"h\",\"showlegend\":true,\"x\":[-0.6043956043956045,-0.5604395604395604,-0.5164835164835164,-0.5164835164835164,-0.47252747252747257,-0.4285714285714286,-0.4285714285714286,-0.4285714285714286,-0.40659340659340665,-0.3846153846153846,-0.31868131868131866,-0.31868131868131866,-0.2967032967032967,-0.2747252747252747,-0.25274725274725274,-0.25274725274725274,-0.25274725274725274,-0.23076923076923078,-0.20879120879120877,-0.20879120879120877,-0.18681318681318682,-0.18681318681318682,-0.14285714285714285,-0.14285714285714285,-0.1208791208791209,-0.1208791208791209,-0.1208791208791209,-0.09890109890109894,-0.07692307692307687,-0.05494505494505497,-0.05494505494505497,0.01098901098901095,0.01098901098901095,0.01098901098901095,0.05494505494505497,0.07692307692307687,0.09890109890109894,0.1208791208791209,0.16483516483516486,0.20879120879120877,0.23076923076923078,0.23076923076923078,0.25274725274725274,0.25274725274725274,0.2747252747252747,0.3626373626373627,0.3626373626373627,0.40659340659340665,0.4285714285714286,0.47252747252747257,0.5384615384615385],\"xaxis\":\"x\",\"y\":[\"P1_std\",\"se_mean\",\"b_n_mean\",\"k_mean\",\"a_std\",\"sef90_std\",\"sef95_std\",\"P3b_std\",\"p_e_4_mean\",\"sef90_mean\",\"p_e_2_std\",\"p_e_1_mean\",\"CNV_mean\",\"g_n_std\",\"se_std\",\"P3a_std\",\"b_mean\",\"sef95_mean\",\"CNV_std\",\"d_n_mean\",\"g_std\",\"msf_std\",\"d_std\",\"b_n_std\",\"wSMI_4_mean\",\"t_std\",\"p_e_8_mean\",\"d_mean\",\"g_n_mean\",\"p_e_1_std\",\"a_n_mean\",\"p_e_4_std\",\"P3a_mean\",\"wSMI_1_mean\",\"wSMI_8_mean\",\"b_std\",\"k_std\",\"g_mean\",\"a_n_std\",\"p_e_2_mean\",\"a_mean\",\"P3b_mean\",\"t_n_std\",\"wSMI_8_std\",\"wSMI_2_mean\",\"d_n_std\",\"P1_mean\",\"wSMI_4_std\",\"wSMI_2_std\",\"wSMI_1_std\",\"p_e_8_std\"],\"yaxis\":\"y\",\"type\":\"scatter\"},{\"hovertemplate\":\"Statistical Significance=p \\u003c 0.05 uncorrected\\u003cbr\\u003eRank_Biserial=%{x}\\u003cbr\\u003e=%{y}\\u003cextra\\u003e\\u003c\\u002fextra\\u003e\",\"legendgroup\":\"p \\u003c 0.05 uncorrected\",\"marker\":{\"color\":\"#F38A31\",\"symbol\":\"circle\",\"size\":13},\"mode\":\"markers\",\"name\":\"p \\u003c 0.05 uncorrected\",\"orientation\":\"h\",\"showlegend\":true,\"x\":[-0.6263736263736264,0.6703296703296704,0.7582417582417582],\"xaxis\":\"x\",\"y\":[\"msf_mean\",\"t_mean\",\"t_n_mean\"],\"yaxis\":\"y\",\"type\":\"scatter\"}],                        {\"template\":{\"data\":{\"barpolar\":[{\"marker\":{\"line\":{\"color\":\"white\",\"width\":0.5},\"pattern\":{\"fillmode\":\"overlay\",\"size\":10,\"solidity\":0.2}},\"type\":\"barpolar\"}],\"bar\":[{\"error_x\":{\"color\":\"#2a3f5f\"},\"error_y\":{\"color\":\"#2a3f5f\"},\"marker\":{\"line\":{\"color\":\"white\",\"width\":0.5},\"pattern\":{\"fillmode\":\"overlay\",\"size\":10,\"solidity\":0.2}},\"type\":\"bar\"}],\"carpet\":[{\"aaxis\":{\"endlinecolor\":\"#2a3f5f\",\"gridcolor\":\"#C8D4E3\",\"linecolor\":\"#C8D4E3\",\"minorgridcolor\":\"#C8D4E3\",\"startlinecolor\":\"#2a3f5f\"},\"baxis\":{\"endlinecolor\":\"#2a3f5f\",\"gridcolor\":\"#C8D4E3\",\"linecolor\":\"#C8D4E3\",\"minorgridcolor\":\"#C8D4E3\",\"startlinecolor\":\"#2a3f5f\"},\"type\":\"carpet\"}],\"choropleth\":[{\"colorbar\":{\"outlinewidth\":0,\"ticks\":\"\"},\"type\":\"choropleth\"}],\"contourcarpet\":[{\"colorbar\":{\"outlinewidth\":0,\"ticks\":\"\"},\"type\":\"contourcarpet\"}],\"contour\":[{\"colorbar\":{\"outlinewidth\":0,\"ticks\":\"\"},\"colorscale\":[[0.0,\"#0d0887\"],[0.1111111111111111,\"#46039f\"],[0.2222222222222222,\"#7201a8\"],[0.3333333333333333,\"#9c179e\"],[0.4444444444444444,\"#bd3786\"],[0.5555555555555556,\"#d8576b\"],[0.6666666666666666,\"#ed7953\"],[0.7777777777777778,\"#fb9f3a\"],[0.8888888888888888,\"#fdca26\"],[1.0,\"#f0f921\"]],\"type\":\"contour\"}],\"heatmapgl\":[{\"colorbar\":{\"outlinewidth\":0,\"ticks\":\"\"},\"colorscale\":[[0.0,\"#0d0887\"],[0.1111111111111111,\"#46039f\"],[0.2222222222222222,\"#7201a8\"],[0.3333333333333333,\"#9c179e\"],[0.4444444444444444,\"#bd3786\"],[0.5555555555555556,\"#d8576b\"],[0.6666666666666666,\"#ed7953\"],[0.7777777777777778,\"#fb9f3a\"],[0.8888888888888888,\"#fdca26\"],[1.0,\"#f0f921\"]],\"type\":\"heatmapgl\"}],\"heatmap\":[{\"colorbar\":{\"outlinewidth\":0,\"ticks\":\"\"},\"colorscale\":[[0.0,\"#0d0887\"],[0.1111111111111111,\"#46039f\"],[0.2222222222222222,\"#7201a8\"],[0.3333333333333333,\"#9c179e\"],[0.4444444444444444,\"#bd3786\"],[0.5555555555555556,\"#d8576b\"],[0.6666666666666666,\"#ed7953\"],[0.7777777777777778,\"#fb9f3a\"],[0.8888888888888888,\"#fdca26\"],[1.0,\"#f0f921\"]],\"type\":\"heatmap\"}],\"histogram2dcontour\":[{\"colorbar\":{\"outlinewidth\":0,\"ticks\":\"\"},\"colorscale\":[[0.0,\"#0d0887\"],[0.1111111111111111,\"#46039f\"],[0.2222222222222222,\"#7201a8\"],[0.3333333333333333,\"#9c179e\"],[0.4444444444444444,\"#bd3786\"],[0.5555555555555556,\"#d8576b\"],[0.6666666666666666,\"#ed7953\"],[0.7777777777777778,\"#fb9f3a\"],[0.8888888888888888,\"#fdca26\"],[1.0,\"#f0f921\"]],\"type\":\"histogram2dcontour\"}],\"histogram2d\":[{\"colorbar\":{\"outlinewidth\":0,\"ticks\":\"\"},\"colorscale\":[[0.0,\"#0d0887\"],[0.1111111111111111,\"#46039f\"],[0.2222222222222222,\"#7201a8\"],[0.3333333333333333,\"#9c179e\"],[0.4444444444444444,\"#bd3786\"],[0.5555555555555556,\"#d8576b\"],[0.6666666666666666,\"#ed7953\"],[0.7777777777777778,\"#fb9f3a\"],[0.8888888888888888,\"#fdca26\"],[1.0,\"#f0f921\"]],\"type\":\"histogram2d\"}],\"histogram\":[{\"marker\":{\"pattern\":{\"fillmode\":\"overlay\",\"size\":10,\"solidity\":0.2}},\"type\":\"histogram\"}],\"mesh3d\":[{\"colorbar\":{\"outlinewidth\":0,\"ticks\":\"\"},\"type\":\"mesh3d\"}],\"parcoords\":[{\"line\":{\"colorbar\":{\"outlinewidth\":0,\"ticks\":\"\"}},\"type\":\"parcoords\"}],\"pie\":[{\"automargin\":true,\"type\":\"pie\"}],\"scatter3d\":[{\"line\":{\"colorbar\":{\"outlinewidth\":0,\"ticks\":\"\"}},\"marker\":{\"colorbar\":{\"outlinewidth\":0,\"ticks\":\"\"}},\"type\":\"scatter3d\"}],\"scattercarpet\":[{\"marker\":{\"colorbar\":{\"outlinewidth\":0,\"ticks\":\"\"}},\"type\":\"scattercarpet\"}],\"scattergeo\":[{\"marker\":{\"colorbar\":{\"outlinewidth\":0,\"ticks\":\"\"}},\"type\":\"scattergeo\"}],\"scattergl\":[{\"marker\":{\"colorbar\":{\"outlinewidth\":0,\"ticks\":\"\"}},\"type\":\"scattergl\"}],\"scattermapbox\":[{\"marker\":{\"colorbar\":{\"outlinewidth\":0,\"ticks\":\"\"}},\"type\":\"scattermapbox\"}],\"scatterpolargl\":[{\"marker\":{\"colorbar\":{\"outlinewidth\":0,\"ticks\":\"\"}},\"type\":\"scatterpolargl\"}],\"scatterpolar\":[{\"marker\":{\"colorbar\":{\"outlinewidth\":0,\"ticks\":\"\"}},\"type\":\"scatterpolar\"}],\"scatter\":[{\"fillpattern\":{\"fillmode\":\"overlay\",\"size\":10,\"solidity\":0.2},\"type\":\"scatter\"}],\"scatterternary\":[{\"marker\":{\"colorbar\":{\"outlinewidth\":0,\"ticks\":\"\"}},\"type\":\"scatterternary\"}],\"surface\":[{\"colorbar\":{\"outlinewidth\":0,\"ticks\":\"\"},\"colorscale\":[[0.0,\"#0d0887\"],[0.1111111111111111,\"#46039f\"],[0.2222222222222222,\"#7201a8\"],[0.3333333333333333,\"#9c179e\"],[0.4444444444444444,\"#bd3786\"],[0.5555555555555556,\"#d8576b\"],[0.6666666666666666,\"#ed7953\"],[0.7777777777777778,\"#fb9f3a\"],[0.8888888888888888,\"#fdca26\"],[1.0,\"#f0f921\"]],\"type\":\"surface\"}],\"table\":[{\"cells\":{\"fill\":{\"color\":\"#EBF0F8\"},\"line\":{\"color\":\"white\"}},\"header\":{\"fill\":{\"color\":\"#C8D4E3\"},\"line\":{\"color\":\"white\"}},\"type\":\"table\"}]},\"layout\":{\"annotationdefaults\":{\"arrowcolor\":\"#2a3f5f\",\"arrowhead\":0,\"arrowwidth\":1},\"autotypenumbers\":\"strict\",\"coloraxis\":{\"colorbar\":{\"outlinewidth\":0,\"ticks\":\"\"}},\"colorscale\":{\"diverging\":[[0,\"#8e0152\"],[0.1,\"#c51b7d\"],[0.2,\"#de77ae\"],[0.3,\"#f1b6da\"],[0.4,\"#fde0ef\"],[0.5,\"#f7f7f7\"],[0.6,\"#e6f5d0\"],[0.7,\"#b8e186\"],[0.8,\"#7fbc41\"],[0.9,\"#4d9221\"],[1,\"#276419\"]],\"sequential\":[[0.0,\"#0d0887\"],[0.1111111111111111,\"#46039f\"],[0.2222222222222222,\"#7201a8\"],[0.3333333333333333,\"#9c179e\"],[0.4444444444444444,\"#bd3786\"],[0.5555555555555556,\"#d8576b\"],[0.6666666666666666,\"#ed7953\"],[0.7777777777777778,\"#fb9f3a\"],[0.8888888888888888,\"#fdca26\"],[1.0,\"#f0f921\"]],\"sequentialminus\":[[0.0,\"#0d0887\"],[0.1111111111111111,\"#46039f\"],[0.2222222222222222,\"#7201a8\"],[0.3333333333333333,\"#9c179e\"],[0.4444444444444444,\"#bd3786\"],[0.5555555555555556,\"#d8576b\"],[0.6666666666666666,\"#ed7953\"],[0.7777777777777778,\"#fb9f3a\"],[0.8888888888888888,\"#fdca26\"],[1.0,\"#f0f921\"]]},\"colorway\":[\"#636efa\",\"#EF553B\",\"#00cc96\",\"#ab63fa\",\"#FFA15A\",\"#19d3f3\",\"#FF6692\",\"#B6E880\",\"#FF97FF\",\"#FECB52\"],\"font\":{\"color\":\"#2a3f5f\"},\"geo\":{\"bgcolor\":\"white\",\"lakecolor\":\"white\",\"landcolor\":\"white\",\"showlakes\":true,\"showland\":true,\"subunitcolor\":\"#C8D4E3\"},\"hoverlabel\":{\"align\":\"left\"},\"hovermode\":\"closest\",\"mapbox\":{\"style\":\"light\"},\"paper_bgcolor\":\"white\",\"plot_bgcolor\":\"white\",\"polar\":{\"angularaxis\":{\"gridcolor\":\"#EBF0F8\",\"linecolor\":\"#EBF0F8\",\"ticks\":\"\"},\"bgcolor\":\"white\",\"radialaxis\":{\"gridcolor\":\"#EBF0F8\",\"linecolor\":\"#EBF0F8\",\"ticks\":\"\"}},\"scene\":{\"xaxis\":{\"backgroundcolor\":\"white\",\"gridcolor\":\"#DFE8F3\",\"gridwidth\":2,\"linecolor\":\"#EBF0F8\",\"showbackground\":true,\"ticks\":\"\",\"zerolinecolor\":\"#EBF0F8\"},\"yaxis\":{\"backgroundcolor\":\"white\",\"gridcolor\":\"#DFE8F3\",\"gridwidth\":2,\"linecolor\":\"#EBF0F8\",\"showbackground\":true,\"ticks\":\"\",\"zerolinecolor\":\"#EBF0F8\"},\"zaxis\":{\"backgroundcolor\":\"white\",\"gridcolor\":\"#DFE8F3\",\"gridwidth\":2,\"linecolor\":\"#EBF0F8\",\"showbackground\":true,\"ticks\":\"\",\"zerolinecolor\":\"#EBF0F8\"}},\"shapedefaults\":{\"line\":{\"color\":\"#2a3f5f\"}},\"ternary\":{\"aaxis\":{\"gridcolor\":\"#DFE8F3\",\"linecolor\":\"#A2B1C6\",\"ticks\":\"\"},\"baxis\":{\"gridcolor\":\"#DFE8F3\",\"linecolor\":\"#A2B1C6\",\"ticks\":\"\"},\"bgcolor\":\"white\",\"caxis\":{\"gridcolor\":\"#DFE8F3\",\"linecolor\":\"#A2B1C6\",\"ticks\":\"\"}},\"title\":{\"x\":0.05},\"xaxis\":{\"automargin\":true,\"gridcolor\":\"#EBF0F8\",\"linecolor\":\"#EBF0F8\",\"ticks\":\"\",\"title\":{\"standoff\":15},\"zerolinecolor\":\"#EBF0F8\",\"zerolinewidth\":2},\"yaxis\":{\"automargin\":true,\"gridcolor\":\"#EBF0F8\",\"linecolor\":\"#EBF0F8\",\"ticks\":\"\",\"title\":{\"standoff\":15},\"zerolinecolor\":\"#EBF0F8\",\"zerolinewidth\":2}}},\"xaxis\":{\"anchor\":\"y\",\"domain\":[0.0,1.0],\"title\":{\"text\":\"Rank_Biserial\"},\"tickfont\":{\"size\":20},\"visible\":true,\"range\":[-0.75,0.75]},\"yaxis\":{\"anchor\":\"x\",\"domain\":[0.0,1.0],\"title\":{\"text\":\"\"},\"tickfont\":{\"size\":20},\"autorange\":false,\"automargin\":true,\"range\":[-1,54],\"dtick\":1},\"legend\":{\"title\":{\"text\":\"Statistical Significance\"},\"tracegroupgap\":0},\"title\":{\"text\":\"Wilcoxon size effect for on-task_vs_sMW (n = 13)\"},\"shapes\":[{\"line\":{\"color\":\"grey\",\"dash\":\"dash\",\"width\":3},\"type\":\"line\",\"x0\":0,\"x1\":0,\"xref\":\"x\",\"y0\":0,\"y1\":1,\"yref\":\"y domain\"}],\"font\":{\"family\":\"Times new roman\",\"size\":20,\"color\":\"black\"},\"width\":850,\"height\":1300,\"showlegend\":true},                        {\"responsive\": true}                    ).then(function(){\n",
       "                            \n",
       "var gd = document.getElementById('91cd0f2d-519c-4343-b052-f2bae2316917');\n",
       "var x = new MutationObserver(function (mutations, observer) {{\n",
       "        var display = window.getComputedStyle(gd).display;\n",
       "        if (!display || display === 'none') {{\n",
       "            console.log([gd, 'removed!']);\n",
       "            Plotly.purge(gd);\n",
       "            observer.disconnect();\n",
       "        }}\n",
       "}});\n",
       "\n",
       "// Listen for the removal of the full notebook cells\n",
       "var notebookContainer = gd.closest('#notebook-container');\n",
       "if (notebookContainer) {{\n",
       "    x.observe(notebookContainer, {childList: true});\n",
       "}}\n",
       "\n",
       "// Listen for the clearing of the current output cell\n",
       "var outputEl = gd.closest('.output');\n",
       "if (outputEl) {{\n",
       "    x.observe(outputEl, {childList: true});\n",
       "}}\n",
       "\n",
       "                        })                };                });            </script>        </div>"
      ]
     },
     "metadata": {},
     "output_type": "display_data"
    },
    {
     "name": "stdout",
     "output_type": "stream",
     "text": [
      "Participants included in analysis: 12.0\n"
     ]
    },
    {
     "data": {
      "application/vnd.plotly.v1+json": {
       "config": {
        "plotlyServerURL": "https://plot.ly"
       },
       "data": [
        {
         "hovertemplate": "Statistical Significance=p > 0.05<br>Rank_Biserial=%{x}<br>=%{y}<extra></extra>",
         "legendgroup": "p > 0.05",
         "marker": {
          "color": "#42B9B2",
          "size": 13,
          "symbol": "circle-open"
         },
         "mode": "markers",
         "name": "p > 0.05",
         "orientation": "h",
         "showlegend": true,
         "type": "scatter",
         "x": [
          -0.641025641025641,
          -0.641025641025641,
          -0.641025641025641,
          -0.641025641025641,
          -0.6153846153846154,
          -0.6153846153846154,
          -0.6153846153846154,
          -0.5128205128205128,
          -0.4871794871794872,
          -0.4871794871794872,
          -0.4615384615384615,
          -0.4358974358974359,
          -0.4358974358974359,
          -0.4102564102564103,
          -0.3333333333333333,
          -0.3076923076923077,
          -0.2820512820512821,
          -0.2820512820512821,
          -0.2820512820512821,
          -0.2564102564102564,
          -0.2564102564102564,
          -0.23076923076923078,
          -0.23076923076923078,
          -0.23076923076923078,
          -0.17948717948717952,
          -0.17948717948717952,
          -0.17948717948717952,
          -0.1538461538461538,
          -0.10256410256410259,
          -0.07692307692307687,
          -0.07692307692307687,
          -0.07692307692307687,
          -0.025641025641025605,
          -0.025641025641025605,
          0.025641025641025605,
          0.07692307692307687,
          0.10256410256410259,
          0.17948717948717952,
          0.17948717948717952,
          0.17948717948717952,
          0.20512820512820512,
          0.2564102564102564,
          0.2564102564102564,
          0.2564102564102564,
          0.3333333333333333,
          0.3333333333333333,
          0.3333333333333333,
          0.358974358974359,
          0.3846153846153846,
          0.3846153846153846,
          0.4615384615384615,
          0.5128205128205128,
          0.5897435897435896,
          0.5897435897435896
         ],
         "xaxis": "x",
         "y": [
          "sef95_mean",
          "g_mean",
          "a_std",
          "g_n_mean",
          "sef90_mean",
          "k_mean",
          "msf_mean",
          "p_e_4_mean",
          "p_e_1_mean",
          "P3b_mean",
          "p_e_1_std",
          "b_n_mean",
          "p_e_2_std",
          "se_mean",
          "b_mean",
          "p_e_2_mean",
          "P1_std",
          "p_e_8_mean",
          "P3b_std",
          "CNV_mean",
          "t_std",
          "wSMI_8_mean",
          "wSMI_1_mean",
          "wSMI_4_mean",
          "g_n_std",
          "wSMI_4_std",
          "a_n_std",
          "P3a_std",
          "sef95_std",
          "a_mean",
          "d_mean",
          "k_std",
          "wSMI_8_std",
          "sef90_std",
          "t_n_std",
          "p_e_8_std",
          "a_n_mean",
          "wSMI_2_mean",
          "g_std",
          "p_e_4_std",
          "d_n_mean",
          "msf_std",
          "se_std",
          "t_mean",
          "P3a_mean",
          "CNV_std",
          "b_n_std",
          "wSMI_1_std",
          "P1_mean",
          "b_std",
          "d_n_std",
          "wSMI_2_std",
          "t_n_mean",
          "d_std"
         ],
         "yaxis": "y"
        }
       ],
       "layout": {
        "font": {
         "color": "black",
         "family": "Times new roman",
         "size": 20
        },
        "height": 1300,
        "legend": {
         "title": {
          "text": "Statistical Significance"
         },
         "tracegroupgap": 0
        },
        "shapes": [
         {
          "line": {
           "color": "grey",
           "dash": "dash",
           "width": 3
          },
          "type": "line",
          "x0": 0,
          "x1": 0,
          "xref": "x",
          "y0": 0,
          "y1": 1,
          "yref": "y domain"
         }
        ],
        "showlegend": true,
        "template": {
         "data": {
          "bar": [
           {
            "error_x": {
             "color": "#2a3f5f"
            },
            "error_y": {
             "color": "#2a3f5f"
            },
            "marker": {
             "line": {
              "color": "white",
              "width": 0.5
             },
             "pattern": {
              "fillmode": "overlay",
              "size": 10,
              "solidity": 0.2
             }
            },
            "type": "bar"
           }
          ],
          "barpolar": [
           {
            "marker": {
             "line": {
              "color": "white",
              "width": 0.5
             },
             "pattern": {
              "fillmode": "overlay",
              "size": 10,
              "solidity": 0.2
             }
            },
            "type": "barpolar"
           }
          ],
          "carpet": [
           {
            "aaxis": {
             "endlinecolor": "#2a3f5f",
             "gridcolor": "#C8D4E3",
             "linecolor": "#C8D4E3",
             "minorgridcolor": "#C8D4E3",
             "startlinecolor": "#2a3f5f"
            },
            "baxis": {
             "endlinecolor": "#2a3f5f",
             "gridcolor": "#C8D4E3",
             "linecolor": "#C8D4E3",
             "minorgridcolor": "#C8D4E3",
             "startlinecolor": "#2a3f5f"
            },
            "type": "carpet"
           }
          ],
          "choropleth": [
           {
            "colorbar": {
             "outlinewidth": 0,
             "ticks": ""
            },
            "type": "choropleth"
           }
          ],
          "contour": [
           {
            "colorbar": {
             "outlinewidth": 0,
             "ticks": ""
            },
            "colorscale": [
             [
              0,
              "#0d0887"
             ],
             [
              0.1111111111111111,
              "#46039f"
             ],
             [
              0.2222222222222222,
              "#7201a8"
             ],
             [
              0.3333333333333333,
              "#9c179e"
             ],
             [
              0.4444444444444444,
              "#bd3786"
             ],
             [
              0.5555555555555556,
              "#d8576b"
             ],
             [
              0.6666666666666666,
              "#ed7953"
             ],
             [
              0.7777777777777778,
              "#fb9f3a"
             ],
             [
              0.8888888888888888,
              "#fdca26"
             ],
             [
              1,
              "#f0f921"
             ]
            ],
            "type": "contour"
           }
          ],
          "contourcarpet": [
           {
            "colorbar": {
             "outlinewidth": 0,
             "ticks": ""
            },
            "type": "contourcarpet"
           }
          ],
          "heatmap": [
           {
            "colorbar": {
             "outlinewidth": 0,
             "ticks": ""
            },
            "colorscale": [
             [
              0,
              "#0d0887"
             ],
             [
              0.1111111111111111,
              "#46039f"
             ],
             [
              0.2222222222222222,
              "#7201a8"
             ],
             [
              0.3333333333333333,
              "#9c179e"
             ],
             [
              0.4444444444444444,
              "#bd3786"
             ],
             [
              0.5555555555555556,
              "#d8576b"
             ],
             [
              0.6666666666666666,
              "#ed7953"
             ],
             [
              0.7777777777777778,
              "#fb9f3a"
             ],
             [
              0.8888888888888888,
              "#fdca26"
             ],
             [
              1,
              "#f0f921"
             ]
            ],
            "type": "heatmap"
           }
          ],
          "heatmapgl": [
           {
            "colorbar": {
             "outlinewidth": 0,
             "ticks": ""
            },
            "colorscale": [
             [
              0,
              "#0d0887"
             ],
             [
              0.1111111111111111,
              "#46039f"
             ],
             [
              0.2222222222222222,
              "#7201a8"
             ],
             [
              0.3333333333333333,
              "#9c179e"
             ],
             [
              0.4444444444444444,
              "#bd3786"
             ],
             [
              0.5555555555555556,
              "#d8576b"
             ],
             [
              0.6666666666666666,
              "#ed7953"
             ],
             [
              0.7777777777777778,
              "#fb9f3a"
             ],
             [
              0.8888888888888888,
              "#fdca26"
             ],
             [
              1,
              "#f0f921"
             ]
            ],
            "type": "heatmapgl"
           }
          ],
          "histogram": [
           {
            "marker": {
             "pattern": {
              "fillmode": "overlay",
              "size": 10,
              "solidity": 0.2
             }
            },
            "type": "histogram"
           }
          ],
          "histogram2d": [
           {
            "colorbar": {
             "outlinewidth": 0,
             "ticks": ""
            },
            "colorscale": [
             [
              0,
              "#0d0887"
             ],
             [
              0.1111111111111111,
              "#46039f"
             ],
             [
              0.2222222222222222,
              "#7201a8"
             ],
             [
              0.3333333333333333,
              "#9c179e"
             ],
             [
              0.4444444444444444,
              "#bd3786"
             ],
             [
              0.5555555555555556,
              "#d8576b"
             ],
             [
              0.6666666666666666,
              "#ed7953"
             ],
             [
              0.7777777777777778,
              "#fb9f3a"
             ],
             [
              0.8888888888888888,
              "#fdca26"
             ],
             [
              1,
              "#f0f921"
             ]
            ],
            "type": "histogram2d"
           }
          ],
          "histogram2dcontour": [
           {
            "colorbar": {
             "outlinewidth": 0,
             "ticks": ""
            },
            "colorscale": [
             [
              0,
              "#0d0887"
             ],
             [
              0.1111111111111111,
              "#46039f"
             ],
             [
              0.2222222222222222,
              "#7201a8"
             ],
             [
              0.3333333333333333,
              "#9c179e"
             ],
             [
              0.4444444444444444,
              "#bd3786"
             ],
             [
              0.5555555555555556,
              "#d8576b"
             ],
             [
              0.6666666666666666,
              "#ed7953"
             ],
             [
              0.7777777777777778,
              "#fb9f3a"
             ],
             [
              0.8888888888888888,
              "#fdca26"
             ],
             [
              1,
              "#f0f921"
             ]
            ],
            "type": "histogram2dcontour"
           }
          ],
          "mesh3d": [
           {
            "colorbar": {
             "outlinewidth": 0,
             "ticks": ""
            },
            "type": "mesh3d"
           }
          ],
          "parcoords": [
           {
            "line": {
             "colorbar": {
              "outlinewidth": 0,
              "ticks": ""
             }
            },
            "type": "parcoords"
           }
          ],
          "pie": [
           {
            "automargin": true,
            "type": "pie"
           }
          ],
          "scatter": [
           {
            "fillpattern": {
             "fillmode": "overlay",
             "size": 10,
             "solidity": 0.2
            },
            "type": "scatter"
           }
          ],
          "scatter3d": [
           {
            "line": {
             "colorbar": {
              "outlinewidth": 0,
              "ticks": ""
             }
            },
            "marker": {
             "colorbar": {
              "outlinewidth": 0,
              "ticks": ""
             }
            },
            "type": "scatter3d"
           }
          ],
          "scattercarpet": [
           {
            "marker": {
             "colorbar": {
              "outlinewidth": 0,
              "ticks": ""
             }
            },
            "type": "scattercarpet"
           }
          ],
          "scattergeo": [
           {
            "marker": {
             "colorbar": {
              "outlinewidth": 0,
              "ticks": ""
             }
            },
            "type": "scattergeo"
           }
          ],
          "scattergl": [
           {
            "marker": {
             "colorbar": {
              "outlinewidth": 0,
              "ticks": ""
             }
            },
            "type": "scattergl"
           }
          ],
          "scattermapbox": [
           {
            "marker": {
             "colorbar": {
              "outlinewidth": 0,
              "ticks": ""
             }
            },
            "type": "scattermapbox"
           }
          ],
          "scatterpolar": [
           {
            "marker": {
             "colorbar": {
              "outlinewidth": 0,
              "ticks": ""
             }
            },
            "type": "scatterpolar"
           }
          ],
          "scatterpolargl": [
           {
            "marker": {
             "colorbar": {
              "outlinewidth": 0,
              "ticks": ""
             }
            },
            "type": "scatterpolargl"
           }
          ],
          "scatterternary": [
           {
            "marker": {
             "colorbar": {
              "outlinewidth": 0,
              "ticks": ""
             }
            },
            "type": "scatterternary"
           }
          ],
          "surface": [
           {
            "colorbar": {
             "outlinewidth": 0,
             "ticks": ""
            },
            "colorscale": [
             [
              0,
              "#0d0887"
             ],
             [
              0.1111111111111111,
              "#46039f"
             ],
             [
              0.2222222222222222,
              "#7201a8"
             ],
             [
              0.3333333333333333,
              "#9c179e"
             ],
             [
              0.4444444444444444,
              "#bd3786"
             ],
             [
              0.5555555555555556,
              "#d8576b"
             ],
             [
              0.6666666666666666,
              "#ed7953"
             ],
             [
              0.7777777777777778,
              "#fb9f3a"
             ],
             [
              0.8888888888888888,
              "#fdca26"
             ],
             [
              1,
              "#f0f921"
             ]
            ],
            "type": "surface"
           }
          ],
          "table": [
           {
            "cells": {
             "fill": {
              "color": "#EBF0F8"
             },
             "line": {
              "color": "white"
             }
            },
            "header": {
             "fill": {
              "color": "#C8D4E3"
             },
             "line": {
              "color": "white"
             }
            },
            "type": "table"
           }
          ]
         },
         "layout": {
          "annotationdefaults": {
           "arrowcolor": "#2a3f5f",
           "arrowhead": 0,
           "arrowwidth": 1
          },
          "autotypenumbers": "strict",
          "coloraxis": {
           "colorbar": {
            "outlinewidth": 0,
            "ticks": ""
           }
          },
          "colorscale": {
           "diverging": [
            [
             0,
             "#8e0152"
            ],
            [
             0.1,
             "#c51b7d"
            ],
            [
             0.2,
             "#de77ae"
            ],
            [
             0.3,
             "#f1b6da"
            ],
            [
             0.4,
             "#fde0ef"
            ],
            [
             0.5,
             "#f7f7f7"
            ],
            [
             0.6,
             "#e6f5d0"
            ],
            [
             0.7,
             "#b8e186"
            ],
            [
             0.8,
             "#7fbc41"
            ],
            [
             0.9,
             "#4d9221"
            ],
            [
             1,
             "#276419"
            ]
           ],
           "sequential": [
            [
             0,
             "#0d0887"
            ],
            [
             0.1111111111111111,
             "#46039f"
            ],
            [
             0.2222222222222222,
             "#7201a8"
            ],
            [
             0.3333333333333333,
             "#9c179e"
            ],
            [
             0.4444444444444444,
             "#bd3786"
            ],
            [
             0.5555555555555556,
             "#d8576b"
            ],
            [
             0.6666666666666666,
             "#ed7953"
            ],
            [
             0.7777777777777778,
             "#fb9f3a"
            ],
            [
             0.8888888888888888,
             "#fdca26"
            ],
            [
             1,
             "#f0f921"
            ]
           ],
           "sequentialminus": [
            [
             0,
             "#0d0887"
            ],
            [
             0.1111111111111111,
             "#46039f"
            ],
            [
             0.2222222222222222,
             "#7201a8"
            ],
            [
             0.3333333333333333,
             "#9c179e"
            ],
            [
             0.4444444444444444,
             "#bd3786"
            ],
            [
             0.5555555555555556,
             "#d8576b"
            ],
            [
             0.6666666666666666,
             "#ed7953"
            ],
            [
             0.7777777777777778,
             "#fb9f3a"
            ],
            [
             0.8888888888888888,
             "#fdca26"
            ],
            [
             1,
             "#f0f921"
            ]
           ]
          },
          "colorway": [
           "#636efa",
           "#EF553B",
           "#00cc96",
           "#ab63fa",
           "#FFA15A",
           "#19d3f3",
           "#FF6692",
           "#B6E880",
           "#FF97FF",
           "#FECB52"
          ],
          "font": {
           "color": "#2a3f5f"
          },
          "geo": {
           "bgcolor": "white",
           "lakecolor": "white",
           "landcolor": "white",
           "showlakes": true,
           "showland": true,
           "subunitcolor": "#C8D4E3"
          },
          "hoverlabel": {
           "align": "left"
          },
          "hovermode": "closest",
          "mapbox": {
           "style": "light"
          },
          "paper_bgcolor": "white",
          "plot_bgcolor": "white",
          "polar": {
           "angularaxis": {
            "gridcolor": "#EBF0F8",
            "linecolor": "#EBF0F8",
            "ticks": ""
           },
           "bgcolor": "white",
           "radialaxis": {
            "gridcolor": "#EBF0F8",
            "linecolor": "#EBF0F8",
            "ticks": ""
           }
          },
          "scene": {
           "xaxis": {
            "backgroundcolor": "white",
            "gridcolor": "#DFE8F3",
            "gridwidth": 2,
            "linecolor": "#EBF0F8",
            "showbackground": true,
            "ticks": "",
            "zerolinecolor": "#EBF0F8"
           },
           "yaxis": {
            "backgroundcolor": "white",
            "gridcolor": "#DFE8F3",
            "gridwidth": 2,
            "linecolor": "#EBF0F8",
            "showbackground": true,
            "ticks": "",
            "zerolinecolor": "#EBF0F8"
           },
           "zaxis": {
            "backgroundcolor": "white",
            "gridcolor": "#DFE8F3",
            "gridwidth": 2,
            "linecolor": "#EBF0F8",
            "showbackground": true,
            "ticks": "",
            "zerolinecolor": "#EBF0F8"
           }
          },
          "shapedefaults": {
           "line": {
            "color": "#2a3f5f"
           }
          },
          "ternary": {
           "aaxis": {
            "gridcolor": "#DFE8F3",
            "linecolor": "#A2B1C6",
            "ticks": ""
           },
           "baxis": {
            "gridcolor": "#DFE8F3",
            "linecolor": "#A2B1C6",
            "ticks": ""
           },
           "bgcolor": "white",
           "caxis": {
            "gridcolor": "#DFE8F3",
            "linecolor": "#A2B1C6",
            "ticks": ""
           }
          },
          "title": {
           "x": 0.05
          },
          "xaxis": {
           "automargin": true,
           "gridcolor": "#EBF0F8",
           "linecolor": "#EBF0F8",
           "ticks": "",
           "title": {
            "standoff": 15
           },
           "zerolinecolor": "#EBF0F8",
           "zerolinewidth": 2
          },
          "yaxis": {
           "automargin": true,
           "gridcolor": "#EBF0F8",
           "linecolor": "#EBF0F8",
           "ticks": "",
           "title": {
            "standoff": 15
           },
           "zerolinecolor": "#EBF0F8",
           "zerolinewidth": 2
          }
         }
        },
        "title": {
         "text": "Wilcoxon size effect for dMW_vs_sMW (n = 12)"
        },
        "width": 850,
        "xaxis": {
         "anchor": "y",
         "domain": [
          0,
          1
         ],
         "range": [
          -0.75,
          0.75
         ],
         "tickfont": {
          "size": 20
         },
         "title": {
          "text": "Rank_Biserial"
         },
         "visible": true
        },
        "yaxis": {
         "anchor": "x",
         "automargin": true,
         "autorange": false,
         "domain": [
          0,
          1
         ],
         "dtick": 1,
         "range": [
          -1,
          54
         ],
         "tickfont": {
          "size": 20
         },
         "title": {
          "text": ""
         }
        }
       }
      },
      "text/html": [
       "<div>                            <div id=\"253cdb9f-d76d-4ac1-b6e2-eb023848e84e\" class=\"plotly-graph-div\" style=\"height:1300px; width:850px;\"></div>            <script type=\"text/javascript\">                require([\"plotly\"], function(Plotly) {                    window.PLOTLYENV=window.PLOTLYENV || {};                                    if (document.getElementById(\"253cdb9f-d76d-4ac1-b6e2-eb023848e84e\")) {                    Plotly.newPlot(                        \"253cdb9f-d76d-4ac1-b6e2-eb023848e84e\",                        [{\"hovertemplate\":\"Statistical Significance=p \\u003e 0.05\\u003cbr\\u003eRank_Biserial=%{x}\\u003cbr\\u003e=%{y}\\u003cextra\\u003e\\u003c\\u002fextra\\u003e\",\"legendgroup\":\"p \\u003e 0.05\",\"marker\":{\"color\":\"#42B9B2\",\"symbol\":\"circle-open\",\"size\":13},\"mode\":\"markers\",\"name\":\"p \\u003e 0.05\",\"orientation\":\"h\",\"showlegend\":true,\"x\":[-0.641025641025641,-0.641025641025641,-0.641025641025641,-0.641025641025641,-0.6153846153846154,-0.6153846153846154,-0.6153846153846154,-0.5128205128205128,-0.4871794871794872,-0.4871794871794872,-0.4615384615384615,-0.4358974358974359,-0.4358974358974359,-0.4102564102564103,-0.3333333333333333,-0.3076923076923077,-0.2820512820512821,-0.2820512820512821,-0.2820512820512821,-0.2564102564102564,-0.2564102564102564,-0.23076923076923078,-0.23076923076923078,-0.23076923076923078,-0.17948717948717952,-0.17948717948717952,-0.17948717948717952,-0.1538461538461538,-0.10256410256410259,-0.07692307692307687,-0.07692307692307687,-0.07692307692307687,-0.025641025641025605,-0.025641025641025605,0.025641025641025605,0.07692307692307687,0.10256410256410259,0.17948717948717952,0.17948717948717952,0.17948717948717952,0.20512820512820512,0.2564102564102564,0.2564102564102564,0.2564102564102564,0.3333333333333333,0.3333333333333333,0.3333333333333333,0.358974358974359,0.3846153846153846,0.3846153846153846,0.4615384615384615,0.5128205128205128,0.5897435897435896,0.5897435897435896],\"xaxis\":\"x\",\"y\":[\"sef95_mean\",\"g_mean\",\"a_std\",\"g_n_mean\",\"sef90_mean\",\"k_mean\",\"msf_mean\",\"p_e_4_mean\",\"p_e_1_mean\",\"P3b_mean\",\"p_e_1_std\",\"b_n_mean\",\"p_e_2_std\",\"se_mean\",\"b_mean\",\"p_e_2_mean\",\"P1_std\",\"p_e_8_mean\",\"P3b_std\",\"CNV_mean\",\"t_std\",\"wSMI_8_mean\",\"wSMI_1_mean\",\"wSMI_4_mean\",\"g_n_std\",\"wSMI_4_std\",\"a_n_std\",\"P3a_std\",\"sef95_std\",\"a_mean\",\"d_mean\",\"k_std\",\"wSMI_8_std\",\"sef90_std\",\"t_n_std\",\"p_e_8_std\",\"a_n_mean\",\"wSMI_2_mean\",\"g_std\",\"p_e_4_std\",\"d_n_mean\",\"msf_std\",\"se_std\",\"t_mean\",\"P3a_mean\",\"CNV_std\",\"b_n_std\",\"wSMI_1_std\",\"P1_mean\",\"b_std\",\"d_n_std\",\"wSMI_2_std\",\"t_n_mean\",\"d_std\"],\"yaxis\":\"y\",\"type\":\"scatter\"}],                        {\"template\":{\"data\":{\"barpolar\":[{\"marker\":{\"line\":{\"color\":\"white\",\"width\":0.5},\"pattern\":{\"fillmode\":\"overlay\",\"size\":10,\"solidity\":0.2}},\"type\":\"barpolar\"}],\"bar\":[{\"error_x\":{\"color\":\"#2a3f5f\"},\"error_y\":{\"color\":\"#2a3f5f\"},\"marker\":{\"line\":{\"color\":\"white\",\"width\":0.5},\"pattern\":{\"fillmode\":\"overlay\",\"size\":10,\"solidity\":0.2}},\"type\":\"bar\"}],\"carpet\":[{\"aaxis\":{\"endlinecolor\":\"#2a3f5f\",\"gridcolor\":\"#C8D4E3\",\"linecolor\":\"#C8D4E3\",\"minorgridcolor\":\"#C8D4E3\",\"startlinecolor\":\"#2a3f5f\"},\"baxis\":{\"endlinecolor\":\"#2a3f5f\",\"gridcolor\":\"#C8D4E3\",\"linecolor\":\"#C8D4E3\",\"minorgridcolor\":\"#C8D4E3\",\"startlinecolor\":\"#2a3f5f\"},\"type\":\"carpet\"}],\"choropleth\":[{\"colorbar\":{\"outlinewidth\":0,\"ticks\":\"\"},\"type\":\"choropleth\"}],\"contourcarpet\":[{\"colorbar\":{\"outlinewidth\":0,\"ticks\":\"\"},\"type\":\"contourcarpet\"}],\"contour\":[{\"colorbar\":{\"outlinewidth\":0,\"ticks\":\"\"},\"colorscale\":[[0.0,\"#0d0887\"],[0.1111111111111111,\"#46039f\"],[0.2222222222222222,\"#7201a8\"],[0.3333333333333333,\"#9c179e\"],[0.4444444444444444,\"#bd3786\"],[0.5555555555555556,\"#d8576b\"],[0.6666666666666666,\"#ed7953\"],[0.7777777777777778,\"#fb9f3a\"],[0.8888888888888888,\"#fdca26\"],[1.0,\"#f0f921\"]],\"type\":\"contour\"}],\"heatmapgl\":[{\"colorbar\":{\"outlinewidth\":0,\"ticks\":\"\"},\"colorscale\":[[0.0,\"#0d0887\"],[0.1111111111111111,\"#46039f\"],[0.2222222222222222,\"#7201a8\"],[0.3333333333333333,\"#9c179e\"],[0.4444444444444444,\"#bd3786\"],[0.5555555555555556,\"#d8576b\"],[0.6666666666666666,\"#ed7953\"],[0.7777777777777778,\"#fb9f3a\"],[0.8888888888888888,\"#fdca26\"],[1.0,\"#f0f921\"]],\"type\":\"heatmapgl\"}],\"heatmap\":[{\"colorbar\":{\"outlinewidth\":0,\"ticks\":\"\"},\"colorscale\":[[0.0,\"#0d0887\"],[0.1111111111111111,\"#46039f\"],[0.2222222222222222,\"#7201a8\"],[0.3333333333333333,\"#9c179e\"],[0.4444444444444444,\"#bd3786\"],[0.5555555555555556,\"#d8576b\"],[0.6666666666666666,\"#ed7953\"],[0.7777777777777778,\"#fb9f3a\"],[0.8888888888888888,\"#fdca26\"],[1.0,\"#f0f921\"]],\"type\":\"heatmap\"}],\"histogram2dcontour\":[{\"colorbar\":{\"outlinewidth\":0,\"ticks\":\"\"},\"colorscale\":[[0.0,\"#0d0887\"],[0.1111111111111111,\"#46039f\"],[0.2222222222222222,\"#7201a8\"],[0.3333333333333333,\"#9c179e\"],[0.4444444444444444,\"#bd3786\"],[0.5555555555555556,\"#d8576b\"],[0.6666666666666666,\"#ed7953\"],[0.7777777777777778,\"#fb9f3a\"],[0.8888888888888888,\"#fdca26\"],[1.0,\"#f0f921\"]],\"type\":\"histogram2dcontour\"}],\"histogram2d\":[{\"colorbar\":{\"outlinewidth\":0,\"ticks\":\"\"},\"colorscale\":[[0.0,\"#0d0887\"],[0.1111111111111111,\"#46039f\"],[0.2222222222222222,\"#7201a8\"],[0.3333333333333333,\"#9c179e\"],[0.4444444444444444,\"#bd3786\"],[0.5555555555555556,\"#d8576b\"],[0.6666666666666666,\"#ed7953\"],[0.7777777777777778,\"#fb9f3a\"],[0.8888888888888888,\"#fdca26\"],[1.0,\"#f0f921\"]],\"type\":\"histogram2d\"}],\"histogram\":[{\"marker\":{\"pattern\":{\"fillmode\":\"overlay\",\"size\":10,\"solidity\":0.2}},\"type\":\"histogram\"}],\"mesh3d\":[{\"colorbar\":{\"outlinewidth\":0,\"ticks\":\"\"},\"type\":\"mesh3d\"}],\"parcoords\":[{\"line\":{\"colorbar\":{\"outlinewidth\":0,\"ticks\":\"\"}},\"type\":\"parcoords\"}],\"pie\":[{\"automargin\":true,\"type\":\"pie\"}],\"scatter3d\":[{\"line\":{\"colorbar\":{\"outlinewidth\":0,\"ticks\":\"\"}},\"marker\":{\"colorbar\":{\"outlinewidth\":0,\"ticks\":\"\"}},\"type\":\"scatter3d\"}],\"scattercarpet\":[{\"marker\":{\"colorbar\":{\"outlinewidth\":0,\"ticks\":\"\"}},\"type\":\"scattercarpet\"}],\"scattergeo\":[{\"marker\":{\"colorbar\":{\"outlinewidth\":0,\"ticks\":\"\"}},\"type\":\"scattergeo\"}],\"scattergl\":[{\"marker\":{\"colorbar\":{\"outlinewidth\":0,\"ticks\":\"\"}},\"type\":\"scattergl\"}],\"scattermapbox\":[{\"marker\":{\"colorbar\":{\"outlinewidth\":0,\"ticks\":\"\"}},\"type\":\"scattermapbox\"}],\"scatterpolargl\":[{\"marker\":{\"colorbar\":{\"outlinewidth\":0,\"ticks\":\"\"}},\"type\":\"scatterpolargl\"}],\"scatterpolar\":[{\"marker\":{\"colorbar\":{\"outlinewidth\":0,\"ticks\":\"\"}},\"type\":\"scatterpolar\"}],\"scatter\":[{\"fillpattern\":{\"fillmode\":\"overlay\",\"size\":10,\"solidity\":0.2},\"type\":\"scatter\"}],\"scatterternary\":[{\"marker\":{\"colorbar\":{\"outlinewidth\":0,\"ticks\":\"\"}},\"type\":\"scatterternary\"}],\"surface\":[{\"colorbar\":{\"outlinewidth\":0,\"ticks\":\"\"},\"colorscale\":[[0.0,\"#0d0887\"],[0.1111111111111111,\"#46039f\"],[0.2222222222222222,\"#7201a8\"],[0.3333333333333333,\"#9c179e\"],[0.4444444444444444,\"#bd3786\"],[0.5555555555555556,\"#d8576b\"],[0.6666666666666666,\"#ed7953\"],[0.7777777777777778,\"#fb9f3a\"],[0.8888888888888888,\"#fdca26\"],[1.0,\"#f0f921\"]],\"type\":\"surface\"}],\"table\":[{\"cells\":{\"fill\":{\"color\":\"#EBF0F8\"},\"line\":{\"color\":\"white\"}},\"header\":{\"fill\":{\"color\":\"#C8D4E3\"},\"line\":{\"color\":\"white\"}},\"type\":\"table\"}]},\"layout\":{\"annotationdefaults\":{\"arrowcolor\":\"#2a3f5f\",\"arrowhead\":0,\"arrowwidth\":1},\"autotypenumbers\":\"strict\",\"coloraxis\":{\"colorbar\":{\"outlinewidth\":0,\"ticks\":\"\"}},\"colorscale\":{\"diverging\":[[0,\"#8e0152\"],[0.1,\"#c51b7d\"],[0.2,\"#de77ae\"],[0.3,\"#f1b6da\"],[0.4,\"#fde0ef\"],[0.5,\"#f7f7f7\"],[0.6,\"#e6f5d0\"],[0.7,\"#b8e186\"],[0.8,\"#7fbc41\"],[0.9,\"#4d9221\"],[1,\"#276419\"]],\"sequential\":[[0.0,\"#0d0887\"],[0.1111111111111111,\"#46039f\"],[0.2222222222222222,\"#7201a8\"],[0.3333333333333333,\"#9c179e\"],[0.4444444444444444,\"#bd3786\"],[0.5555555555555556,\"#d8576b\"],[0.6666666666666666,\"#ed7953\"],[0.7777777777777778,\"#fb9f3a\"],[0.8888888888888888,\"#fdca26\"],[1.0,\"#f0f921\"]],\"sequentialminus\":[[0.0,\"#0d0887\"],[0.1111111111111111,\"#46039f\"],[0.2222222222222222,\"#7201a8\"],[0.3333333333333333,\"#9c179e\"],[0.4444444444444444,\"#bd3786\"],[0.5555555555555556,\"#d8576b\"],[0.6666666666666666,\"#ed7953\"],[0.7777777777777778,\"#fb9f3a\"],[0.8888888888888888,\"#fdca26\"],[1.0,\"#f0f921\"]]},\"colorway\":[\"#636efa\",\"#EF553B\",\"#00cc96\",\"#ab63fa\",\"#FFA15A\",\"#19d3f3\",\"#FF6692\",\"#B6E880\",\"#FF97FF\",\"#FECB52\"],\"font\":{\"color\":\"#2a3f5f\"},\"geo\":{\"bgcolor\":\"white\",\"lakecolor\":\"white\",\"landcolor\":\"white\",\"showlakes\":true,\"showland\":true,\"subunitcolor\":\"#C8D4E3\"},\"hoverlabel\":{\"align\":\"left\"},\"hovermode\":\"closest\",\"mapbox\":{\"style\":\"light\"},\"paper_bgcolor\":\"white\",\"plot_bgcolor\":\"white\",\"polar\":{\"angularaxis\":{\"gridcolor\":\"#EBF0F8\",\"linecolor\":\"#EBF0F8\",\"ticks\":\"\"},\"bgcolor\":\"white\",\"radialaxis\":{\"gridcolor\":\"#EBF0F8\",\"linecolor\":\"#EBF0F8\",\"ticks\":\"\"}},\"scene\":{\"xaxis\":{\"backgroundcolor\":\"white\",\"gridcolor\":\"#DFE8F3\",\"gridwidth\":2,\"linecolor\":\"#EBF0F8\",\"showbackground\":true,\"ticks\":\"\",\"zerolinecolor\":\"#EBF0F8\"},\"yaxis\":{\"backgroundcolor\":\"white\",\"gridcolor\":\"#DFE8F3\",\"gridwidth\":2,\"linecolor\":\"#EBF0F8\",\"showbackground\":true,\"ticks\":\"\",\"zerolinecolor\":\"#EBF0F8\"},\"zaxis\":{\"backgroundcolor\":\"white\",\"gridcolor\":\"#DFE8F3\",\"gridwidth\":2,\"linecolor\":\"#EBF0F8\",\"showbackground\":true,\"ticks\":\"\",\"zerolinecolor\":\"#EBF0F8\"}},\"shapedefaults\":{\"line\":{\"color\":\"#2a3f5f\"}},\"ternary\":{\"aaxis\":{\"gridcolor\":\"#DFE8F3\",\"linecolor\":\"#A2B1C6\",\"ticks\":\"\"},\"baxis\":{\"gridcolor\":\"#DFE8F3\",\"linecolor\":\"#A2B1C6\",\"ticks\":\"\"},\"bgcolor\":\"white\",\"caxis\":{\"gridcolor\":\"#DFE8F3\",\"linecolor\":\"#A2B1C6\",\"ticks\":\"\"}},\"title\":{\"x\":0.05},\"xaxis\":{\"automargin\":true,\"gridcolor\":\"#EBF0F8\",\"linecolor\":\"#EBF0F8\",\"ticks\":\"\",\"title\":{\"standoff\":15},\"zerolinecolor\":\"#EBF0F8\",\"zerolinewidth\":2},\"yaxis\":{\"automargin\":true,\"gridcolor\":\"#EBF0F8\",\"linecolor\":\"#EBF0F8\",\"ticks\":\"\",\"title\":{\"standoff\":15},\"zerolinecolor\":\"#EBF0F8\",\"zerolinewidth\":2}}},\"xaxis\":{\"anchor\":\"y\",\"domain\":[0.0,1.0],\"title\":{\"text\":\"Rank_Biserial\"},\"tickfont\":{\"size\":20},\"visible\":true,\"range\":[-0.75,0.75]},\"yaxis\":{\"anchor\":\"x\",\"domain\":[0.0,1.0],\"title\":{\"text\":\"\"},\"tickfont\":{\"size\":20},\"autorange\":false,\"automargin\":true,\"range\":[-1,54],\"dtick\":1},\"legend\":{\"title\":{\"text\":\"Statistical Significance\"},\"tracegroupgap\":0},\"title\":{\"text\":\"Wilcoxon size effect for dMW_vs_sMW (n = 12)\"},\"shapes\":[{\"line\":{\"color\":\"grey\",\"dash\":\"dash\",\"width\":3},\"type\":\"line\",\"x0\":0,\"x1\":0,\"xref\":\"x\",\"y0\":0,\"y1\":1,\"yref\":\"y domain\"}],\"font\":{\"family\":\"Times new roman\",\"size\":20,\"color\":\"black\"},\"width\":850,\"height\":1300,\"showlegend\":true},                        {\"responsive\": true}                    ).then(function(){\n",
       "                            \n",
       "var gd = document.getElementById('253cdb9f-d76d-4ac1-b6e2-eb023848e84e');\n",
       "var x = new MutationObserver(function (mutations, observer) {{\n",
       "        var display = window.getComputedStyle(gd).display;\n",
       "        if (!display || display === 'none') {{\n",
       "            console.log([gd, 'removed!']);\n",
       "            Plotly.purge(gd);\n",
       "            observer.disconnect();\n",
       "        }}\n",
       "}});\n",
       "\n",
       "// Listen for the removal of the full notebook cells\n",
       "var notebookContainer = gd.closest('#notebook-container');\n",
       "if (notebookContainer) {{\n",
       "    x.observe(notebookContainer, {childList: true});\n",
       "}}\n",
       "\n",
       "// Listen for the clearing of the current output cell\n",
       "var outputEl = gd.closest('.output');\n",
       "if (outputEl) {{\n",
       "    x.observe(outputEl, {childList: true});\n",
       "}}\n",
       "\n",
       "                        })                };                });            </script>        </div>"
      ]
     },
     "metadata": {},
     "output_type": "display_data"
    }
   ],
   "source": [
    "for idx, contrast in enumerate(comparisons):\n",
    "\n",
    "    df_mind = preprocess_data(df_markers, markers, probe_type = 'PC', comparison= contrast, only_full_participants=True, average_participants=True,latex_names=False, results_path=None)\n",
    "    print('Participants included in analysis:', df_mind.shape[0]/2)\n",
    "\n",
    "\n",
    "    AUC = []\n",
    "    pvalues = {}\n",
    "    effect_sizes = {}\n",
    "    for i in df_mind.drop(['participant', 'mind_numeric'], axis=1).columns:\n",
    "        mind_0 = df_mind.query(\"mind_numeric == 0\")[i]\n",
    "        mind_1 = df_mind.query(\"mind_numeric == 1\")[i]\n",
    "        auc = roc_auc_score(df_mind['mind_numeric'], df_mind[i])\n",
    "        AUC.append([i, auc])\n",
    "        test_result = wilcoxon(x=mind_0, y=mind_1,)\n",
    "        pvalues[i] = test_result['p-val'][0]\n",
    "        n1 = len(mind_0) \n",
    "        n2 = len(mind_1)\n",
    "        rank_biserial =  test_result['RBC'][0]\n",
    "        delta = cliffs_delta(mind_0, mind_1)\n",
    "        d = cohens_d(mind_0, mind_1)\n",
    "        r = rosenthals_r(test_result['W-val'][0], n1)\n",
    "        cles = test_result['CLES'][0]\n",
    "        \n",
    "        # Calculate the impact effect size measure\n",
    "        impact_result = impact(np.concatenate([mind_0, mind_1]), np.concatenate([np.zeros(len(mind_0)), np.ones(len(mind_1))]))\n",
    "        impact_value = impact_result.get('Impact', np.nan)  # Using .get to avoid KeyError if 'Impact' is not present\n",
    "\n",
    "        effect_sizes[i] = (rank_biserial, delta, d, r, cles,impact_value)\n",
    "\n",
    "    wilcoxon_df = pd.DataFrame.from_dict(pvalues, orient='index', columns=['p_value']).reset_index().rename(columns={'index': 'markers'})\n",
    "    wilcoxon_df['AUC'] = wilcoxon_df['markers'].map(dict(AUC))\n",
    "\n",
    "    # Adding effect sizes to the DataFrame\n",
    "    wilcoxon_df['Rank_Biserial'] = wilcoxon_df['markers'].apply(lambda x: effect_sizes[x][0])\n",
    "    wilcoxon_df['Cliffs_Delta'] = wilcoxon_df['markers'].apply(lambda x: effect_sizes[x][1])\n",
    "    wilcoxon_df['Cohens_d'] = wilcoxon_df['markers'].apply(lambda x: effect_sizes[x][2])\n",
    "    wilcoxon_df['Rosenthals_r'] = wilcoxon_df['markers'].apply(lambda x: effect_sizes[x][3])\n",
    "    wilcoxon_df['Common_lanaguage'] = wilcoxon_df['markers'].apply(lambda x: effect_sizes[x][4])\n",
    "    wilcoxon_df['Impact'] = wilcoxon_df['markers'].apply(lambda x: effect_sizes[x][5])\n",
    "\n",
    "    \n",
    "\n",
    "\n",
    "    wilcoxon_df = (wilcoxon_df\n",
    "                .assign(\n",
    "                        p_corrected = lambda df: multipletests(df.p_value, method='fdr_bh')[1],\n",
    "                        significant = lambda df: np.select([(df.p_value < 0.05) & (df.p_corrected < 0.05), (df.p_value < 0.05) & (df.p_corrected > 0.05),  \n",
    "                                                    (df.p_value > 0.05) & (df.p_corrected > 0.05)], ['p < 0.05 FDR corrected','p < 0.05 uncorrected', 'p > 0.05'])\n",
    "                    )\n",
    "            )\n",
    "\n",
    "\n",
    "    wilcoxon_df.to_csv(os.path.join(results_path,f'wilcoxon_{contrast}.csv'))\n",
    "\n",
    "\n",
    "    # segment_mind_roc = segment_mind_roc.sort_values(by = 'AUC', ascending = False).head(10).append(segment_mind_roc.sort_values(by = 'AUC', ascending = False).tail(10))\n",
    "\n",
    "    fig = px.scatter(wilcoxon_df.sort_values(by = 'Rank_Biserial'),x = 'Rank_Biserial', y = 'markers', template = \"plotly_white\", symbol = 'significant', \n",
    "                    symbol_sequence = ['circle-open','circle','hexagram' ],\n",
    "    #                  color = 'significant',\n",
    "                    color_discrete_sequence = [colors[idx]], \n",
    "                    title= f'Wilcoxon size effect for {contrast} (n = {int(df_mind.shape[0]/2)})',\n",
    "                    \n",
    "                    category_orders = {'significant': ['p > 0.05','p < 0.05 uncorrected', 'p < 0.05 FDR corrected']},\n",
    "                    labels = {\n",
    "                        'AUC': '1>0                      0<1', \n",
    "                            'significant': 'Statistical Significance', 'markers':''}\n",
    "                    )\n",
    "    fig.add_vline(x=0, line_width=3, line_dash=\"dash\", line_color=\"grey\")\n",
    "    fig.update_traces(marker=dict(size = 13))\n",
    "\n",
    "    fig.update_layout(\n",
    "        width=850,\n",
    "        height=1300,\n",
    "    #     autosize = True, \n",
    "        template = 'plotly_white',\n",
    "            font=dict(\n",
    "            family=\"Times new roman\",\n",
    "            size=20,\n",
    "            color=\"black\"\n",
    "        ),\n",
    "        xaxis = dict(\n",
    "                visible=True,\n",
    "                range = [-0.75,0.75], \n",
    "                tickfont = {\"size\": 20},\n",
    "            ),\n",
    "        yaxis = dict(\n",
    "            tickfont = {\"size\": 20},\n",
    "            autorange = False,    \n",
    "            automargin = True,\n",
    "            range = [-1,len(wilcoxon_df)],\n",
    "            dtick = 1\n",
    "            ),\n",
    "        showlegend=True, \n",
    "\n",
    "    )\n",
    "\n",
    "    fig.show()\n",
    "\n",
    "    fig.write_image(os.path.join(fig_path,f'wilcoxon_{contrast}.png'))\n",
    "    fig.write_image(os.path.join(fig_path,f'wilcoxon_{contrast}.pdf'))\n",
    "    fig.write_image(os.path.join(fig_path,f'wilcoxon_{contrast}.svg'))\n",
    "    # fig.write_image(os.path.join(fig_path,f'wilcoxon_{contrast}.eps'))\n",
    "    \n",
    "    \n"
   ]
  },
  {
   "cell_type": "code",
   "execution_count": null,
   "metadata": {},
   "outputs": [],
   "source": []
  }
 ],
 "metadata": {
  "kernelspec": {
   "display_name": "EEG",
   "language": "python",
   "name": "python3"
  },
  "language_info": {
   "codemirror_mode": {
    "name": "ipython",
    "version": 3
   },
   "file_extension": ".py",
   "mimetype": "text/x-python",
   "name": "python",
   "nbconvert_exporter": "python",
   "pygments_lexer": "ipython3",
   "version": "3.11.10"
  }
 },
 "nbformat": 4,
 "nbformat_minor": 2
}
