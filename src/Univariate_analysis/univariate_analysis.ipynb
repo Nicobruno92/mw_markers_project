{
 "cells": [
  {
   "cell_type": "code",
   "execution_count": 2,
   "id": "comic-runner",
   "metadata": {},
   "outputs": [
    {
     "data": {
      "text/html": [
       "        <script type=\"text/javascript\">\n",
       "        window.PlotlyConfig = {MathJaxConfig: 'local'};\n",
       "        if (window.MathJax) {MathJax.Hub.Config({SVG: {font: \"STIX-Web\"}});}\n",
       "        if (typeof require !== 'undefined') {\n",
       "        require.undef(\"plotly\");\n",
       "        requirejs.config({\n",
       "            paths: {\n",
       "                'plotly': ['https://cdn.plot.ly/plotly-2.9.0.min']\n",
       "            }\n",
       "        });\n",
       "        require(['plotly'], function(Plotly) {\n",
       "            window._Plotly = Plotly;\n",
       "        });\n",
       "        }\n",
       "        </script>\n",
       "        "
      ]
     },
     "metadata": {},
     "output_type": "display_data"
    }
   ],
   "source": [
    "import sys\n",
    "sys.path.insert(0, '../')\n",
    "from utils import balance_sample, univariate_classifier, bad_participant, correct_name_markers\n",
    "\n",
    "import os\n",
    "import numpy as np\n",
    "import pandas as pd \n",
    "\n",
    "import seaborn as sns\n",
    "import matplotlib.pyplot as plt\n",
    "import plotly.express as px\n",
    "import plotly.graph_objects as pgo\n",
    "import plotly.offline as pyo\n",
    "import plotly.io as pio\n",
    "from plotly.subplots import make_subplots\n",
    "\n",
    "pyo.init_notebook_mode(connected = True)\n",
    "\n",
    "\n",
    "from sklearn.metrics import roc_auc_score\n",
    "from sklearn.svm import SVC\n",
    "from sklearn.preprocessing import StandardScaler, RobustScaler\n",
    "from sklearn.pipeline import Pipeline, make_pipeline\n",
    "from sklearn.model_selection import (\n",
    "    GridSearchCV,\n",
    "    train_test_split,\n",
    "    cross_val_score,\n",
    "    GroupShuffleSplit,\n",
    "    permutation_test_score,\n",
    "    StratifiedKFold,\n",
    ")\n",
    "from sklearn.ensemble import ExtraTreesClassifier\n",
    "\n",
    "from imblearn.under_sampling import RandomUnderSampler\n",
    "from imblearn.over_sampling import RandomOverSampler, SMOTE\n",
    "\n",
    "from scipy.stats import wilcoxon, mannwhitneyu\n",
    "from statsmodels.stats.multitest import multipletests\n",
    "\n",
    "import mne"
   ]
  },
  {
   "cell_type": "code",
   "execution_count": 3,
   "id": "rapid-robinson",
   "metadata": {
    "pycharm": {
     "is_executing": false
    }
   },
   "outputs": [],
   "source": [
    "# plotting parameters\n",
    "grey = \"#21201F\"\n",
    "green = \"#9AC529\"\n",
    "lblue = \"#42B9B2\"\n",
    "pink = \"#DE237B\"\n",
    "orange = \"#F38A31\"\n",
    "\n",
    "nt_colors = [green, lblue, pink, orange]\n",
    "\n",
    "plt.style.use(\"ggplot\")\n",
    "fig_width = 2  # width in inches\n",
    "fig_height = 8  # height in inches\n",
    "fig_size = [fig_width, fig_height]\n",
    "plt.rcParams[\"figure.figsize\"] = fig_size\n",
    "plt.rcParams[\"figure.autolayout\"] = True\n",
    "\n",
    "sns.set(\n",
    "    style=\"white\",\n",
    "    context=\"notebook\",\n",
    "    font_scale=1.5,\n",
    "    rc={\n",
    "        \"axes.labelcolor\": grey,\n",
    "        \"text.color\": grey,\n",
    "        \"axes.edgecolor\": grey,\n",
    "        \"xtick.color\": grey,\n",
    "        \"ytick.color\": grey,\n",
    "        'figure.figsize': fig_size\n",
    "    },\n",
    ")\n",
    "\n",
    "sns.set_palette(sns.color_palette(nt_colors))"
   ]
  },
  {
   "cell_type": "markdown",
   "id": "peaceful-perfume",
   "metadata": {},
   "source": [
    "# Load Data"
   ]
  },
  {
   "cell_type": "code",
   "execution_count": 4,
   "id": "short-herald",
   "metadata": {},
   "outputs": [],
   "source": [
    "data_path = \"../../Data/\"\n",
    "results_path = \"../../Results/\"\n",
    "fig_path = \"../../Results/Figs/\"\n",
    "\n",
    "df = pd.read_csv(os.path.join(data_path, 'all_markers.csv'), index_col = 0)"
   ]
  },
  {
   "cell_type": "code",
   "execution_count": null,
   "id": "heavy-flight",
   "metadata": {},
   "outputs": [
    {
     "data": {
      "text/plain": [
       "14"
      ]
     },
     "execution_count": 4,
     "metadata": {},
     "output_type": "execute_result"
    }
   ],
   "source": [
    "#markers names\n",
    "all_participants = ['VP07','VP08','VP09', 'VP10','VP11','VP12','VP13','VP14','VP18','VP19','VP20','VP22','VP23','VP24','VP25','VP26','VP27','VP28','VP29','VP30','VP31','VP32','VP33','VP35','VP36','VP37']\n",
    "#selection of good participants. Not used.\n",
    "good_participants = all_participants[1:2] +  all_participants[6:10] +  all_participants[12:15]  + all_participants[18:23] + [all_participants[25]]\n",
    "len(good_participants)"
   ]
  },
  {
   "cell_type": "code",
   "execution_count": 5,
   "id": "certified-affect",
   "metadata": {},
   "outputs": [],
   "source": [
    "markers = ['wSMI_1', 'wSMI_2', 'wSMI_4', 'wSMI_8', 'p_e_1', 'p_e_2',\n",
    "       'p_e_4', 'p_e_8', 'k', 'se','msf', 'sef90', 'sef95', 'b', 'b_n', 'g',\n",
    "       'g_n', 't', 't_n', 'd', 'd_n', 'a_n', 'a', 'CNV', 'P1', 'P3a', 'P3b',]\n",
    "#           'ft', 'ft_n']\n",
    "erps =['CNV', 'P1', 'P3a', 'P3b']\n",
    "# erps = [r'$CNV$', r'$P1$', r'$P3a$',r'$P3b$']\n",
    "\n",
    "# markers =  [r'$\\delta$',r'$|\\delta|$',r'$\\theta$', r'$|\\theta|$',r'$\\alpha$', r'$|\\alpha|$',r'$\\beta$', r'$|\\beta|$',r'$\\gamma$', r'$|\\gamma|$',\n",
    "#             r'$PE\\gamma$',r'$PE\\beta$',r'$PE\\alpha$',r'$PE\\theta$',\n",
    "#             r'$wSMI\\gamma$',r'$wSMI\\beta$',r'$wSMI\\alpha$',r'$wSMI\\theta$', \n",
    "#             r'$K$',r'$SE$',r'$MSF$', r'$SEF90$', r'$SEF95$', \n",
    "#             r'$CNV$', r'$P1$', r'$P3a$',r'$P3b$'\n",
    "#            ]\n",
    "\n",
    "\n",
    "# df_subtracted = df.query(\"preproc == 'subtracted'\").drop(columns = erps+['preproc'])\n",
    "# df_erp = df.query(\"preproc == 'erp'\").drop(columns = np.setdiff1d(markers,erps).tolist()+['preproc'])\n",
    "\n",
    "# df_markers = df_subtracted.merge(df_erp, 'inner', on =np.setdiff1d(df_subtracted.columns, markers).tolist() )\n",
    "\n",
    "df_markers = (df\n",
    "              .query(\"stimuli == 'go'\")\n",
    "              .query(\"correct == 'correct'\")\n",
    "              .query('prev_trial < 5')\n",
    "              .drop(['stimuli', 'correct', 'prev_trial', 'label', 'events',  'epoch_type', 'preproc', 'ft', 'ft_n'], axis = 1)\n",
    "              .query(\"mind in ['on-task','dMW', 'sMW']\")\n",
    "              .groupby(['segment', 'participant']).filter(lambda x: len(x) > 1)\n",
    "             )"
   ]
  },
  {
   "cell_type": "markdown",
   "id": "federal-diary",
   "metadata": {},
   "source": [
    "# By Segment Univariate analyses"
   ]
  },
  {
   "cell_type": "markdown",
   "id": "extraordinary-trade",
   "metadata": {},
   "source": [
    "## On-task Vs Mind- Wandering\n",
    "This can only be performed for PC probes  as they are the only ones with On-task reports."
   ]
  },
  {
   "cell_type": "code",
   "execution_count": 7,
   "id": "framed-origin",
   "metadata": {
    "tags": []
   },
   "outputs": [],
   "source": [
    "agg_dict = {k:['mean', 'std'] for k in markers }\n",
    "agg_dict.update({k:'first' for k in df_markers.drop(markers, axis=1).columns})\n",
    "\n",
    "df_mind = (\n",
    "    df_markers\n",
    "    .query(\"probe == 'PC'\")\n",
    "    .groupby(['segment', 'participant'], as_index = False).agg(agg_dict)\n",
    "    .assign(\n",
    "    mind2 = lambda df: np.where(df.mind == 'on-task', 'on-task', 'mw'))\n",
    ")\n",
    "\n",
    "#### Use normal names###\n",
    "\n",
    "# df_mind.columns = df_mind.columns.map(\"_\".join)\n",
    "\n",
    "# df_mind  = (df_mind\n",
    "#             .rename(columns = {'participant_first':'participant', 'probe_first':'probe', 'mind_first':'mind', 'segment_first':'segment', 'mind2_':'mind2'})\n",
    "# #             .query(\"mind != 'dMW'\") #if you want to test against just one of the mw            \n",
    "#             .drop(['participant', 'probe', 'mind', 'segment'], axis = 1) \n",
    "#            )\n",
    "\n",
    "\n",
    "#### Use latex command for nmaes###\n",
    "##it slow downs the computer, just for final figures.\n",
    "\n",
    "df_mind = correct_name_markers(df_mind)\n",
    "\n",
    "df_mind.columns = df_mind.columns.map(\"$_{\".join).map(lambda x: x + '}$').map(lambda x: x.replace('$$', ''))\n",
    "\n",
    "df_mind  = (df_mind\n",
    "            .rename(columns = {'participant$_{first}$':'participant', 'probe$_{first}$':'probe', 'mind$_{first}$':'mind', 'segment$_{first}$':'segment', 'mind2$_{}$':'mind2'})\n",
    "#             .query(\"mind != 'dMW'\") #if you want to test against just one of the mw            \n",
    "            .drop(['participant', 'probe', 'mind', 'segment'], axis = 1) \n",
    "           )"
   ]
  },
  {
   "cell_type": "code",
   "execution_count": 8,
   "id": "abroad-greek",
   "metadata": {},
   "outputs": [
    {
     "name": "stdout",
     "output_type": "stream",
     "text": [
      "AUC $wSMI\\gamma_{mean}$ = 0.5107680332122471 MannwhitneyuResult(statistic=3937.0, pvalue=0.8067091825718332)\n"
     ]
    },
    {
     "name": "stdout",
     "output_type": "stream",
     "text": [
      "AUC $wSMI\\gamma_{std}$ = 0.5546185781006746 MannwhitneyuResult(statistic=4275.0, pvalue=0.21236308826860772)\n",
      "AUC $wSMI\\beta_{mean}$ = 0.5332122470160872 MannwhitneyuResult(statistic=4110.0, pvalue=0.4486026489781989)\n",
      "AUC $wSMI\\beta_{std}$ = 0.4577062791904515 MannwhitneyuResult(statistic=3528.0, pvalue=0.3343702830196804)\n",
      "AUC $wSMI\\alpha_{mean}$ = 0.5464452516865594 MannwhitneyuResult(statistic=4212.0, pvalue=0.28902987819949444)\n",
      "AUC $wSMI\\alpha_{std}$ = 0.5444992215879606 MannwhitneyuResult(statistic=4197.0, pvalue=0.30974078495375323)\n",
      "AUC $wSMI\\theta_{mean}$ = 0.5459263103269332 MannwhitneyuResult(statistic=4208.0, pvalue=0.2944593089505566)\n",
      "AUC $wSMI\\theta_{std}$ = 0.4910482615464452 MannwhitneyuResult(statistic=3785.0, pvalue=0.8390152760940158)\n",
      "AUC $PE\\gamma_{mean}$ = 0.516476388168137 MannwhitneyuResult(statistic=3981.0, pvalue=0.7075368928796884)\n",
      "AUC $PE\\gamma_{std}$ = 0.5662947586922678 MannwhitneyuResult(statistic=4365.0, pvalue=0.13002317981037037)\n",
      "AUC $PE\\beta_{mean}$ = 0.5179034769071095 MannwhitneyuResult(statistic=3992.0, pvalue=0.6834283636925591)\n",
      "AUC $PE\\beta_{std}$ = 0.5477426050856252 MannwhitneyuResult(statistic=4222.0, pvalue=0.27575296473770394)\n",
      "AUC $PE\\alpha_{mean}$ = 0.42890503373118843 MannwhitneyuResult(statistic=3306.0, pvalue=0.10443069481679819)\n",
      "AUC $PE\\alpha_{std}$ = 0.5220550077841204 MannwhitneyuResult(statistic=4024.0, pvalue=0.6151801305917143)\n",
      "AUC $PE\\theta_{mean}$ = 0.4661390762843799 MannwhitneyuResult(statistic=3593.0, pvalue=0.4397737193785889)\n",
      "AUC $PE\\theta_{std}$ = 0.5155682407887909 MannwhitneyuResult(statistic=3974.0, pvalue=0.7230346531064931)\n",
      "AUC $K_{mean}$ = 0.46451738453554753 MannwhitneyuResult(statistic=3580.5, pvalue=0.41814198449791706)\n",
      "AUC $K_{std}$ = 0.5806953814218994 MannwhitneyuResult(statistic=4476.0, pvalue=0.06529869492277617)\n",
      "AUC $SE_{mean}$ = 0.4449922158796056 MannwhitneyuResult(statistic=3430.0, pvalue=0.20911920788184768)\n",
      "AUC $SE_{std}$ = 0.5651271406331084 MannwhitneyuResult(statistic=4356.0, pvalue=0.13693062545053317)\n",
      "AUC $MSF_{mean}$ = 0.43435391800726514 MannwhitneyuResult(statistic=3348.0, pvalue=0.13382647923196944)\n",
      "AUC $MSF_{std}$ = 0.537104307213285 MannwhitneyuResult(statistic=4140.0, pvalue=0.39715182645552005)\n",
      "AUC $SEF90_{mean}$ = 0.4731447846393358 MannwhitneyuResult(statistic=3647.0, pvalue=0.5402563424654445)\n",
      "AUC $SEF90_{std}$ = 0.5364556305137519 MannwhitneyuResult(statistic=4135.0, pvalue=0.40547093014207813)\n",
      "AUC $SEF95_{mean}$ = 0.4867669953295278 MannwhitneyuResult(statistic=3752.0, pvalue=0.76339722055977)\n",
      "AUC $SEF95_{std}$ = 0.5219252724442138 MannwhitneyuResult(statistic=4023.0, pvalue=0.617267134076158)\n",
      "AUC $\\beta_{mean}$ = 0.4423975090814738 MannwhitneyuResult(statistic=3410.0, pvalue=0.18840712337250864)\n",
      "AUC $\\beta_{std}$ = 0.5037623248572911 MannwhitneyuResult(statistic=3883.0, pvalue=0.9326401382259317)\n",
      "AUC $|\\beta|_{mean}$ = 0.4150233523611832 MannwhitneyuResult(statistic=3199.0, pvalue=0.052248925305562965)\n",
      "AUC $|\\beta|_{std}$ = 0.5127140633108459 MannwhitneyuResult(statistic=3952.0, pvalue=0.7724591764457369)\n",
      "AUC $\\gamma_{mean}$ = 0.46717695900363254 MannwhitneyuResult(statistic=3601.0, pvalue=0.4539479466934647)\n",
      "AUC $\\gamma_{std}$ = 0.5483912817851583 MannwhitneyuResult(statistic=4227.0, pvalue=0.26927299902320834)\n",
      "AUC $|\\gamma|_{mean}$ = 0.49338349766476386 MannwhitneyuResult(statistic=3803.0, pvalue=0.88094616453927)\n",
      "AUC $|\\gamma|_{std}$ = 0.5342501297353399 MannwhitneyuResult(statistic=4118.0, pvalue=0.4345245848543834)\n",
      "AUC $\\theta_{mean}$ = 0.5313959522573949 MannwhitneyuResult(statistic=4096.0, pvalue=0.4738516183029938)\n",
      "AUC $\\theta_{std}$ = 0.5306175402179554 MannwhitneyuResult(statistic=4090.0, pvalue=0.484907151287152)\n",
      "AUC $|\\theta|_{mean}$ = 0.6117021276595744 MannwhitneyuResult(statistic=4715.0, pvalue=0.010710048277433541)\n",
      "AUC $|\\theta|_{std}$ = 0.5996367410482616 MannwhitneyuResult(statistic=4622.0, pvalue=0.022833696396507938)\n",
      "AUC $\\delta_{mean}$ = 0.5085625324338349 MannwhitneyuResult(statistic=3920.0, pvalue=0.8459754379553701)\n",
      "AUC $\\delta_{std}$ = 0.4635443694862481 MannwhitneyuResult(statistic=3573.0, pvalue=0.40547093014207813)\n",
      "AUC $|\\delta|_{mean}$ = 0.5099896211728074 MannwhitneyuResult(statistic=3931.0, pvalue=0.8205177210706077)\n",
      "AUC $|\\delta|_{std}$ = 0.49091852620653864 MannwhitneyuResult(statistic=3784.0, pvalue=0.836697989210638)\n",
      "AUC $|\\alpha|_{mean}$ = 0.4521276595744681 MannwhitneyuResult(statistic=3485.0, pvalue=0.2744485340751165)\n",
      "AUC $|\\alpha|_{std}$ = 0.4998702646600934 MannwhitneyuResult(statistic=3853.0, pvalue=0.9988168411856244)\n",
      "AUC $\\alpha_{mean}$ = 0.4737934613388687 MannwhitneyuResult(statistic=3652.0, pvalue=0.5501090696753064)\n",
      "AUC $\\alpha_{std}$ = 0.4723663725998962 MannwhitneyuResult(statistic=3641.0, pvalue=0.5285507602456947)\n",
      "AUC $CNV_{mean}$ = 0.45744680851063835 MannwhitneyuResult(statistic=3526.0, pvalue=0.3314088709139502)\n",
      "AUC $CNV_{std}$ = 0.43007265179034776 MannwhitneyuResult(statistic=3315.0, pvalue=0.11025429066672571)\n",
      "AUC $P1_{mean}$ = 0.5634405812143227 MannwhitneyuResult(statistic=4343.0, pvalue=0.14740344541534)\n",
      "AUC $P1_{std}$ = 0.4302023871302542 MannwhitneyuResult(statistic=3316.0, pvalue=0.11091689103031839)\n",
      "AUC $P3a_{mean}$ = 0.5276336274001039 MannwhitneyuResult(statistic=4067.0, pvalue=0.5285507602456947)\n",
      "AUC $P3a_{std}$ = 0.49377270368448367 MannwhitneyuResult(statistic=3806.0, pvalue=0.887970532862835)\n",
      "AUC $P3b_{mean}$ = 0.5853658536585366 MannwhitneyuResult(statistic=4512.0, pvalue=0.05117917882701519)\n",
      "AUC $P3b_{std}$ = 0.46315516346652824 MannwhitneyuResult(statistic=3570.0, pvalue=0.40046704132454136)\n"
     ]
    }
   ],
   "source": [
    "AUC = []\n",
    "pvalues = {}\n",
    "for i in df_mind.drop('mind2', axis = 1).columns:\n",
    "    ot = df_mind.query(\"mind2 == 'on-task'\")[i]\n",
    "    mw = df_mind.query(\"mind2 == 'mw'\")[i]\n",
    "    auc = roc_auc_score(df_mind['mind2'], df_mind[i])\n",
    "    print(f'AUC {i} = {auc}', f'{mannwhitneyu(x = ot, y = mw)}')\n",
    "    AUC.append([i, auc])\n",
    "    pvalues[i] = mannwhitneyu(x = ot, y = mw, alternative = 'two-sided', method = 'exact').pvalue \n",
    "        \n",
    "segment_mind_roc = pd.DataFrame(AUC, columns = ['markers', 'AUC'])\n",
    "\n",
    "p_df =pd.DataFrame.from_dict(pvalues, orient = 'index', columns = ['p_value']).reset_index().rename(columns ={'index': 'markers'})\n",
    "segment_mind_roc = (segment_mind_roc\n",
    "            .merge(p_df, on = 'markers', how = 'inner')\n",
    "            .assign(\n",
    "                    p_corrected = lambda df: multipletests(df.p_value, method = 'fdr_bh')[1],\n",
    "                    significant = lambda df: np.select([(df.p_value < 0.05) & (df.p_corrected < 0.05), (df.p_value < 0.05) & (df.p_corrected > 0.05),  \n",
    "                                                 (df.p_value > 0.05) & (df.p_corrected > 0.05)], ['p < 0.05 FDR corrected','p < 0.05 uncorrected', 'p > 0.05'])\n",
    "                   )\n",
    "           )\n",
    "segment_mind_roc.to_csv(os.path.join(results_path,'univariate_roc_mind_segment.csv'))"
   ]
  },
  {
   "cell_type": "code",
   "execution_count": 9,
   "id": "73bdc9c4",
   "metadata": {
    "tags": []
   },
   "outputs": [
    {
     "data": {
      "application/vnd.plotly.v1+json": {
       "config": {
        "plotlyServerURL": "https://plot.ly"
       },
       "data": [
        {
         "hovertemplate": "Statistical Significance=p > 0.05<br>TUT>OT                      TUT<OT=%{x}<br>=%{y}<extra></extra>",
         "legendgroup": "p > 0.05",
         "marker": {
          "color": "#DE237B",
          "size": 13,
          "symbol": "circle-open"
         },
         "mode": "markers",
         "name": "p > 0.05",
         "orientation": "h",
         "showlegend": true,
         "type": "scatter",
         "x": [
          0.4150233523611832,
          0.4289050337311884,
          0.4300726517903477,
          0.4302023871302542,
          0.4343539180072651,
          0.4423975090814738,
          0.4449922158796056,
          0.4521276595744681,
          0.4574468085106383,
          0.4577062791904515,
          0.4631551634665282,
          0.4635443694862481,
          0.4645173845355475,
          0.4661390762843799,
          0.4671769590036325,
          0.4723663725998962,
          0.4731447846393358,
          0.4737934613388687,
          0.4867669953295278,
          0.4909185262065386,
          0.4910482615464452,
          0.4933834976647638,
          0.4937727036844836,
          0.4998702646600934,
          0.5037623248572911,
          0.5085625324338349,
          0.5099896211728074,
          0.5107680332122471,
          0.5127140633108459,
          0.5155682407887909,
          0.516476388168137,
          0.5179034769071095,
          0.5219252724442138,
          0.5220550077841204,
          0.5276336274001039,
          0.5306175402179554,
          0.5313959522573949,
          0.5332122470160872,
          0.5342501297353399,
          0.5364556305137519,
          0.537104307213285,
          0.5444992215879606,
          0.5459263103269332,
          0.5464452516865594,
          0.5477426050856252,
          0.5483912817851583,
          0.5546185781006746,
          0.5634405812143227,
          0.5651271406331084,
          0.5662947586922678,
          0.5806953814218994,
          0.5853658536585366
         ],
         "xaxis": "x",
         "y": [
          "$|\\beta|_{mean}$",
          "$PE\\alpha_{mean}$",
          "$CNV_{std}$",
          "$P1_{std}$",
          "$MSF_{mean}$",
          "$\\beta_{mean}$",
          "$SE_{mean}$",
          "$|\\alpha|_{mean}$",
          "$CNV_{mean}$",
          "$wSMI\\beta_{std}$",
          "$P3b_{std}$",
          "$\\delta_{std}$",
          "$K_{mean}$",
          "$PE\\theta_{mean}$",
          "$\\gamma_{mean}$",
          "$\\alpha_{std}$",
          "$SEF90_{mean}$",
          "$\\alpha_{mean}$",
          "$SEF95_{mean}$",
          "$|\\delta|_{std}$",
          "$wSMI\\theta_{std}$",
          "$|\\gamma|_{mean}$",
          "$P3a_{std}$",
          "$|\\alpha|_{std}$",
          "$\\beta_{std}$",
          "$\\delta_{mean}$",
          "$|\\delta|_{mean}$",
          "$wSMI\\gamma_{mean}$",
          "$|\\beta|_{std}$",
          "$PE\\theta_{std}$",
          "$PE\\gamma_{mean}$",
          "$PE\\beta_{mean}$",
          "$SEF95_{std}$",
          "$PE\\alpha_{std}$",
          "$P3a_{mean}$",
          "$\\theta_{std}$",
          "$\\theta_{mean}$",
          "$wSMI\\beta_{mean}$",
          "$|\\gamma|_{std}$",
          "$SEF90_{std}$",
          "$MSF_{std}$",
          "$wSMI\\alpha_{std}$",
          "$wSMI\\theta_{mean}$",
          "$wSMI\\alpha_{mean}$",
          "$PE\\beta_{std}$",
          "$\\gamma_{std}$",
          "$wSMI\\gamma_{std}$",
          "$P1_{mean}$",
          "$SE_{std}$",
          "$PE\\gamma_{std}$",
          "$K_{std}$",
          "$P3b_{mean}$"
         ],
         "yaxis": "y"
        },
        {
         "hovertemplate": "Statistical Significance=p < 0.05 uncorrected<br>TUT>OT                      TUT<OT=%{x}<br>=%{y}<extra></extra>",
         "legendgroup": "p < 0.05 uncorrected",
         "marker": {
          "color": "#DE237B",
          "size": 13,
          "symbol": "circle"
         },
         "mode": "markers",
         "name": "p < 0.05 uncorrected",
         "orientation": "h",
         "showlegend": true,
         "type": "scatter",
         "x": [
          0.5996367410482616,
          0.6117021276595744
         ],
         "xaxis": "x",
         "y": [
          "$|\\theta|_{std}$",
          "$|\\theta|_{mean}$"
         ],
         "yaxis": "y"
        }
       ],
       "layout": {
        "font": {
         "color": "black",
         "family": "Times new roman",
         "size": 20
        },
        "height": 1300,
        "legend": {
         "title": {
          "text": "Statistical Significance"
         },
         "tracegroupgap": 0
        },
        "margin": {
         "t": 60
        },
        "shapes": [
         {
          "line": {
           "color": "grey",
           "dash": "dash",
           "width": 3
          },
          "type": "line",
          "x0": 0.5,
          "x1": 0.5,
          "xref": "x",
          "y0": 0,
          "y1": 1,
          "yref": "y domain"
         }
        ],
        "showlegend": true,
        "template": {
         "data": {
          "bar": [
           {
            "error_x": {
             "color": "#2a3f5f"
            },
            "error_y": {
             "color": "#2a3f5f"
            },
            "marker": {
             "line": {
              "color": "white",
              "width": 0.5
             },
             "pattern": {
              "fillmode": "overlay",
              "size": 10,
              "solidity": 0.2
             }
            },
            "type": "bar"
           }
          ],
          "barpolar": [
           {
            "marker": {
             "line": {
              "color": "white",
              "width": 0.5
             },
             "pattern": {
              "fillmode": "overlay",
              "size": 10,
              "solidity": 0.2
             }
            },
            "type": "barpolar"
           }
          ],
          "carpet": [
           {
            "aaxis": {
             "endlinecolor": "#2a3f5f",
             "gridcolor": "#C8D4E3",
             "linecolor": "#C8D4E3",
             "minorgridcolor": "#C8D4E3",
             "startlinecolor": "#2a3f5f"
            },
            "baxis": {
             "endlinecolor": "#2a3f5f",
             "gridcolor": "#C8D4E3",
             "linecolor": "#C8D4E3",
             "minorgridcolor": "#C8D4E3",
             "startlinecolor": "#2a3f5f"
            },
            "type": "carpet"
           }
          ],
          "choropleth": [
           {
            "colorbar": {
             "outlinewidth": 0,
             "ticks": ""
            },
            "type": "choropleth"
           }
          ],
          "contour": [
           {
            "colorbar": {
             "outlinewidth": 0,
             "ticks": ""
            },
            "colorscale": [
             [
              0,
              "#0d0887"
             ],
             [
              0.1111111111111111,
              "#46039f"
             ],
             [
              0.2222222222222222,
              "#7201a8"
             ],
             [
              0.3333333333333333,
              "#9c179e"
             ],
             [
              0.4444444444444444,
              "#bd3786"
             ],
             [
              0.5555555555555556,
              "#d8576b"
             ],
             [
              0.6666666666666666,
              "#ed7953"
             ],
             [
              0.7777777777777778,
              "#fb9f3a"
             ],
             [
              0.8888888888888888,
              "#fdca26"
             ],
             [
              1,
              "#f0f921"
             ]
            ],
            "type": "contour"
           }
          ],
          "contourcarpet": [
           {
            "colorbar": {
             "outlinewidth": 0,
             "ticks": ""
            },
            "type": "contourcarpet"
           }
          ],
          "heatmap": [
           {
            "colorbar": {
             "outlinewidth": 0,
             "ticks": ""
            },
            "colorscale": [
             [
              0,
              "#0d0887"
             ],
             [
              0.1111111111111111,
              "#46039f"
             ],
             [
              0.2222222222222222,
              "#7201a8"
             ],
             [
              0.3333333333333333,
              "#9c179e"
             ],
             [
              0.4444444444444444,
              "#bd3786"
             ],
             [
              0.5555555555555556,
              "#d8576b"
             ],
             [
              0.6666666666666666,
              "#ed7953"
             ],
             [
              0.7777777777777778,
              "#fb9f3a"
             ],
             [
              0.8888888888888888,
              "#fdca26"
             ],
             [
              1,
              "#f0f921"
             ]
            ],
            "type": "heatmap"
           }
          ],
          "heatmapgl": [
           {
            "colorbar": {
             "outlinewidth": 0,
             "ticks": ""
            },
            "colorscale": [
             [
              0,
              "#0d0887"
             ],
             [
              0.1111111111111111,
              "#46039f"
             ],
             [
              0.2222222222222222,
              "#7201a8"
             ],
             [
              0.3333333333333333,
              "#9c179e"
             ],
             [
              0.4444444444444444,
              "#bd3786"
             ],
             [
              0.5555555555555556,
              "#d8576b"
             ],
             [
              0.6666666666666666,
              "#ed7953"
             ],
             [
              0.7777777777777778,
              "#fb9f3a"
             ],
             [
              0.8888888888888888,
              "#fdca26"
             ],
             [
              1,
              "#f0f921"
             ]
            ],
            "type": "heatmapgl"
           }
          ],
          "histogram": [
           {
            "marker": {
             "pattern": {
              "fillmode": "overlay",
              "size": 10,
              "solidity": 0.2
             }
            },
            "type": "histogram"
           }
          ],
          "histogram2d": [
           {
            "colorbar": {
             "outlinewidth": 0,
             "ticks": ""
            },
            "colorscale": [
             [
              0,
              "#0d0887"
             ],
             [
              0.1111111111111111,
              "#46039f"
             ],
             [
              0.2222222222222222,
              "#7201a8"
             ],
             [
              0.3333333333333333,
              "#9c179e"
             ],
             [
              0.4444444444444444,
              "#bd3786"
             ],
             [
              0.5555555555555556,
              "#d8576b"
             ],
             [
              0.6666666666666666,
              "#ed7953"
             ],
             [
              0.7777777777777778,
              "#fb9f3a"
             ],
             [
              0.8888888888888888,
              "#fdca26"
             ],
             [
              1,
              "#f0f921"
             ]
            ],
            "type": "histogram2d"
           }
          ],
          "histogram2dcontour": [
           {
            "colorbar": {
             "outlinewidth": 0,
             "ticks": ""
            },
            "colorscale": [
             [
              0,
              "#0d0887"
             ],
             [
              0.1111111111111111,
              "#46039f"
             ],
             [
              0.2222222222222222,
              "#7201a8"
             ],
             [
              0.3333333333333333,
              "#9c179e"
             ],
             [
              0.4444444444444444,
              "#bd3786"
             ],
             [
              0.5555555555555556,
              "#d8576b"
             ],
             [
              0.6666666666666666,
              "#ed7953"
             ],
             [
              0.7777777777777778,
              "#fb9f3a"
             ],
             [
              0.8888888888888888,
              "#fdca26"
             ],
             [
              1,
              "#f0f921"
             ]
            ],
            "type": "histogram2dcontour"
           }
          ],
          "mesh3d": [
           {
            "colorbar": {
             "outlinewidth": 0,
             "ticks": ""
            },
            "type": "mesh3d"
           }
          ],
          "parcoords": [
           {
            "line": {
             "colorbar": {
              "outlinewidth": 0,
              "ticks": ""
             }
            },
            "type": "parcoords"
           }
          ],
          "pie": [
           {
            "automargin": true,
            "type": "pie"
           }
          ],
          "scatter": [
           {
            "marker": {
             "colorbar": {
              "outlinewidth": 0,
              "ticks": ""
             }
            },
            "type": "scatter"
           }
          ],
          "scatter3d": [
           {
            "line": {
             "colorbar": {
              "outlinewidth": 0,
              "ticks": ""
             }
            },
            "marker": {
             "colorbar": {
              "outlinewidth": 0,
              "ticks": ""
             }
            },
            "type": "scatter3d"
           }
          ],
          "scattercarpet": [
           {
            "marker": {
             "colorbar": {
              "outlinewidth": 0,
              "ticks": ""
             }
            },
            "type": "scattercarpet"
           }
          ],
          "scattergeo": [
           {
            "marker": {
             "colorbar": {
              "outlinewidth": 0,
              "ticks": ""
             }
            },
            "type": "scattergeo"
           }
          ],
          "scattergl": [
           {
            "marker": {
             "colorbar": {
              "outlinewidth": 0,
              "ticks": ""
             }
            },
            "type": "scattergl"
           }
          ],
          "scattermapbox": [
           {
            "marker": {
             "colorbar": {
              "outlinewidth": 0,
              "ticks": ""
             }
            },
            "type": "scattermapbox"
           }
          ],
          "scatterpolar": [
           {
            "marker": {
             "colorbar": {
              "outlinewidth": 0,
              "ticks": ""
             }
            },
            "type": "scatterpolar"
           }
          ],
          "scatterpolargl": [
           {
            "marker": {
             "colorbar": {
              "outlinewidth": 0,
              "ticks": ""
             }
            },
            "type": "scatterpolargl"
           }
          ],
          "scatterternary": [
           {
            "marker": {
             "colorbar": {
              "outlinewidth": 0,
              "ticks": ""
             }
            },
            "type": "scatterternary"
           }
          ],
          "surface": [
           {
            "colorbar": {
             "outlinewidth": 0,
             "ticks": ""
            },
            "colorscale": [
             [
              0,
              "#0d0887"
             ],
             [
              0.1111111111111111,
              "#46039f"
             ],
             [
              0.2222222222222222,
              "#7201a8"
             ],
             [
              0.3333333333333333,
              "#9c179e"
             ],
             [
              0.4444444444444444,
              "#bd3786"
             ],
             [
              0.5555555555555556,
              "#d8576b"
             ],
             [
              0.6666666666666666,
              "#ed7953"
             ],
             [
              0.7777777777777778,
              "#fb9f3a"
             ],
             [
              0.8888888888888888,
              "#fdca26"
             ],
             [
              1,
              "#f0f921"
             ]
            ],
            "type": "surface"
           }
          ],
          "table": [
           {
            "cells": {
             "fill": {
              "color": "#EBF0F8"
             },
             "line": {
              "color": "white"
             }
            },
            "header": {
             "fill": {
              "color": "#C8D4E3"
             },
             "line": {
              "color": "white"
             }
            },
            "type": "table"
           }
          ]
         },
         "layout": {
          "annotationdefaults": {
           "arrowcolor": "#2a3f5f",
           "arrowhead": 0,
           "arrowwidth": 1
          },
          "autotypenumbers": "strict",
          "coloraxis": {
           "colorbar": {
            "outlinewidth": 0,
            "ticks": ""
           }
          },
          "colorscale": {
           "diverging": [
            [
             0,
             "#8e0152"
            ],
            [
             0.1,
             "#c51b7d"
            ],
            [
             0.2,
             "#de77ae"
            ],
            [
             0.3,
             "#f1b6da"
            ],
            [
             0.4,
             "#fde0ef"
            ],
            [
             0.5,
             "#f7f7f7"
            ],
            [
             0.6,
             "#e6f5d0"
            ],
            [
             0.7,
             "#b8e186"
            ],
            [
             0.8,
             "#7fbc41"
            ],
            [
             0.9,
             "#4d9221"
            ],
            [
             1,
             "#276419"
            ]
           ],
           "sequential": [
            [
             0,
             "#0d0887"
            ],
            [
             0.1111111111111111,
             "#46039f"
            ],
            [
             0.2222222222222222,
             "#7201a8"
            ],
            [
             0.3333333333333333,
             "#9c179e"
            ],
            [
             0.4444444444444444,
             "#bd3786"
            ],
            [
             0.5555555555555556,
             "#d8576b"
            ],
            [
             0.6666666666666666,
             "#ed7953"
            ],
            [
             0.7777777777777778,
             "#fb9f3a"
            ],
            [
             0.8888888888888888,
             "#fdca26"
            ],
            [
             1,
             "#f0f921"
            ]
           ],
           "sequentialminus": [
            [
             0,
             "#0d0887"
            ],
            [
             0.1111111111111111,
             "#46039f"
            ],
            [
             0.2222222222222222,
             "#7201a8"
            ],
            [
             0.3333333333333333,
             "#9c179e"
            ],
            [
             0.4444444444444444,
             "#bd3786"
            ],
            [
             0.5555555555555556,
             "#d8576b"
            ],
            [
             0.6666666666666666,
             "#ed7953"
            ],
            [
             0.7777777777777778,
             "#fb9f3a"
            ],
            [
             0.8888888888888888,
             "#fdca26"
            ],
            [
             1,
             "#f0f921"
            ]
           ]
          },
          "colorway": [
           "#636efa",
           "#EF553B",
           "#00cc96",
           "#ab63fa",
           "#FFA15A",
           "#19d3f3",
           "#FF6692",
           "#B6E880",
           "#FF97FF",
           "#FECB52"
          ],
          "font": {
           "color": "#2a3f5f"
          },
          "geo": {
           "bgcolor": "white",
           "lakecolor": "white",
           "landcolor": "white",
           "showlakes": true,
           "showland": true,
           "subunitcolor": "#C8D4E3"
          },
          "hoverlabel": {
           "align": "left"
          },
          "hovermode": "closest",
          "mapbox": {
           "style": "light"
          },
          "paper_bgcolor": "white",
          "plot_bgcolor": "white",
          "polar": {
           "angularaxis": {
            "gridcolor": "#EBF0F8",
            "linecolor": "#EBF0F8",
            "ticks": ""
           },
           "bgcolor": "white",
           "radialaxis": {
            "gridcolor": "#EBF0F8",
            "linecolor": "#EBF0F8",
            "ticks": ""
           }
          },
          "scene": {
           "xaxis": {
            "backgroundcolor": "white",
            "gridcolor": "#DFE8F3",
            "gridwidth": 2,
            "linecolor": "#EBF0F8",
            "showbackground": true,
            "ticks": "",
            "zerolinecolor": "#EBF0F8"
           },
           "yaxis": {
            "backgroundcolor": "white",
            "gridcolor": "#DFE8F3",
            "gridwidth": 2,
            "linecolor": "#EBF0F8",
            "showbackground": true,
            "ticks": "",
            "zerolinecolor": "#EBF0F8"
           },
           "zaxis": {
            "backgroundcolor": "white",
            "gridcolor": "#DFE8F3",
            "gridwidth": 2,
            "linecolor": "#EBF0F8",
            "showbackground": true,
            "ticks": "",
            "zerolinecolor": "#EBF0F8"
           }
          },
          "shapedefaults": {
           "line": {
            "color": "#2a3f5f"
           }
          },
          "ternary": {
           "aaxis": {
            "gridcolor": "#DFE8F3",
            "linecolor": "#A2B1C6",
            "ticks": ""
           },
           "baxis": {
            "gridcolor": "#DFE8F3",
            "linecolor": "#A2B1C6",
            "ticks": ""
           },
           "bgcolor": "white",
           "caxis": {
            "gridcolor": "#DFE8F3",
            "linecolor": "#A2B1C6",
            "ticks": ""
           }
          },
          "title": {
           "x": 0.05
          },
          "xaxis": {
           "automargin": true,
           "gridcolor": "#EBF0F8",
           "linecolor": "#EBF0F8",
           "ticks": "",
           "title": {
            "standoff": 15
           },
           "zerolinecolor": "#EBF0F8",
           "zerolinewidth": 2
          },
          "yaxis": {
           "automargin": true,
           "gridcolor": "#EBF0F8",
           "linecolor": "#EBF0F8",
           "ticks": "",
           "title": {
            "standoff": 15
           },
           "zerolinecolor": "#EBF0F8",
           "zerolinewidth": 2
          }
         }
        },
        "width": 850,
        "xaxis": {
         "anchor": "y",
         "domain": [
          0,
          1
         ],
         "range": [
          0.37,
          0.63
         ],
         "tickfont": {
          "size": 20
         },
         "title": {
          "text": "TUT>OT                      TUT<OT"
         },
         "visible": true
        },
        "yaxis": {
         "anchor": "x",
         "automargin": true,
         "autorange": false,
         "domain": [
          0,
          1
         ],
         "dtick": 1,
         "range": [
          -1,
          54
         ],
         "tickfont": {
          "size": 20
         },
         "title": {
          "text": ""
         }
        }
       }
      },
      "text/html": [
       "<div>                            <div id=\"ea659b00-a9ce-4a81-a91e-37829f505653\" class=\"plotly-graph-div\" style=\"height:1300px; width:850px;\"></div>            <script type=\"text/javascript\">                require([\"plotly\"], function(Plotly) {                    window.PLOTLYENV=window.PLOTLYENV || {};                                    if (document.getElementById(\"ea659b00-a9ce-4a81-a91e-37829f505653\")) {                    Plotly.newPlot(                        \"ea659b00-a9ce-4a81-a91e-37829f505653\",                        [{\"hovertemplate\":\"Statistical Significance=p > 0.05<br>TUT>OT                      TUT<OT=%{x}<br>=%{y}<extra></extra>\",\"legendgroup\":\"p > 0.05\",\"marker\":{\"color\":\"#DE237B\",\"symbol\":\"circle-open\",\"size\":13},\"mode\":\"markers\",\"name\":\"p > 0.05\",\"orientation\":\"h\",\"showlegend\":true,\"x\":[0.4150233523611832,0.4289050337311884,0.4300726517903477,0.4302023871302542,0.4343539180072651,0.4423975090814738,0.4449922158796056,0.4521276595744681,0.4574468085106383,0.4577062791904515,0.4631551634665282,0.4635443694862481,0.4645173845355475,0.4661390762843799,0.4671769590036325,0.4723663725998962,0.4731447846393358,0.4737934613388687,0.4867669953295278,0.4909185262065386,0.4910482615464452,0.4933834976647638,0.4937727036844836,0.4998702646600934,0.5037623248572911,0.5085625324338349,0.5099896211728074,0.5107680332122471,0.5127140633108459,0.5155682407887909,0.516476388168137,0.5179034769071095,0.5219252724442138,0.5220550077841204,0.5276336274001039,0.5306175402179554,0.5313959522573949,0.5332122470160872,0.5342501297353399,0.5364556305137519,0.537104307213285,0.5444992215879606,0.5459263103269332,0.5464452516865594,0.5477426050856252,0.5483912817851583,0.5546185781006746,0.5634405812143227,0.5651271406331084,0.5662947586922678,0.5806953814218994,0.5853658536585366],\"xaxis\":\"x\",\"y\":[\"$|\\\\beta|_{mean}$\",\"$PE\\\\alpha_{mean}$\",\"$CNV_{std}$\",\"$P1_{std}$\",\"$MSF_{mean}$\",\"$\\\\beta_{mean}$\",\"$SE_{mean}$\",\"$|\\\\alpha|_{mean}$\",\"$CNV_{mean}$\",\"$wSMI\\\\beta_{std}$\",\"$P3b_{std}$\",\"$\\\\delta_{std}$\",\"$K_{mean}$\",\"$PE\\\\theta_{mean}$\",\"$\\\\gamma_{mean}$\",\"$\\\\alpha_{std}$\",\"$SEF90_{mean}$\",\"$\\\\alpha_{mean}$\",\"$SEF95_{mean}$\",\"$|\\\\delta|_{std}$\",\"$wSMI\\\\theta_{std}$\",\"$|\\\\gamma|_{mean}$\",\"$P3a_{std}$\",\"$|\\\\alpha|_{std}$\",\"$\\\\beta_{std}$\",\"$\\\\delta_{mean}$\",\"$|\\\\delta|_{mean}$\",\"$wSMI\\\\gamma_{mean}$\",\"$|\\\\beta|_{std}$\",\"$PE\\\\theta_{std}$\",\"$PE\\\\gamma_{mean}$\",\"$PE\\\\beta_{mean}$\",\"$SEF95_{std}$\",\"$PE\\\\alpha_{std}$\",\"$P3a_{mean}$\",\"$\\\\theta_{std}$\",\"$\\\\theta_{mean}$\",\"$wSMI\\\\beta_{mean}$\",\"$|\\\\gamma|_{std}$\",\"$SEF90_{std}$\",\"$MSF_{std}$\",\"$wSMI\\\\alpha_{std}$\",\"$wSMI\\\\theta_{mean}$\",\"$wSMI\\\\alpha_{mean}$\",\"$PE\\\\beta_{std}$\",\"$\\\\gamma_{std}$\",\"$wSMI\\\\gamma_{std}$\",\"$P1_{mean}$\",\"$SE_{std}$\",\"$PE\\\\gamma_{std}$\",\"$K_{std}$\",\"$P3b_{mean}$\"],\"yaxis\":\"y\",\"type\":\"scatter\"},{\"hovertemplate\":\"Statistical Significance=p < 0.05 uncorrected<br>TUT>OT                      TUT<OT=%{x}<br>=%{y}<extra></extra>\",\"legendgroup\":\"p < 0.05 uncorrected\",\"marker\":{\"color\":\"#DE237B\",\"symbol\":\"circle\",\"size\":13},\"mode\":\"markers\",\"name\":\"p < 0.05 uncorrected\",\"orientation\":\"h\",\"showlegend\":true,\"x\":[0.5996367410482616,0.6117021276595744],\"xaxis\":\"x\",\"y\":[\"$|\\\\theta|_{std}$\",\"$|\\\\theta|_{mean}$\"],\"yaxis\":\"y\",\"type\":\"scatter\"}],                        {\"template\":{\"data\":{\"barpolar\":[{\"marker\":{\"line\":{\"color\":\"white\",\"width\":0.5},\"pattern\":{\"fillmode\":\"overlay\",\"size\":10,\"solidity\":0.2}},\"type\":\"barpolar\"}],\"bar\":[{\"error_x\":{\"color\":\"#2a3f5f\"},\"error_y\":{\"color\":\"#2a3f5f\"},\"marker\":{\"line\":{\"color\":\"white\",\"width\":0.5},\"pattern\":{\"fillmode\":\"overlay\",\"size\":10,\"solidity\":0.2}},\"type\":\"bar\"}],\"carpet\":[{\"aaxis\":{\"endlinecolor\":\"#2a3f5f\",\"gridcolor\":\"#C8D4E3\",\"linecolor\":\"#C8D4E3\",\"minorgridcolor\":\"#C8D4E3\",\"startlinecolor\":\"#2a3f5f\"},\"baxis\":{\"endlinecolor\":\"#2a3f5f\",\"gridcolor\":\"#C8D4E3\",\"linecolor\":\"#C8D4E3\",\"minorgridcolor\":\"#C8D4E3\",\"startlinecolor\":\"#2a3f5f\"},\"type\":\"carpet\"}],\"choropleth\":[{\"colorbar\":{\"outlinewidth\":0,\"ticks\":\"\"},\"type\":\"choropleth\"}],\"contourcarpet\":[{\"colorbar\":{\"outlinewidth\":0,\"ticks\":\"\"},\"type\":\"contourcarpet\"}],\"contour\":[{\"colorbar\":{\"outlinewidth\":0,\"ticks\":\"\"},\"colorscale\":[[0.0,\"#0d0887\"],[0.1111111111111111,\"#46039f\"],[0.2222222222222222,\"#7201a8\"],[0.3333333333333333,\"#9c179e\"],[0.4444444444444444,\"#bd3786\"],[0.5555555555555556,\"#d8576b\"],[0.6666666666666666,\"#ed7953\"],[0.7777777777777778,\"#fb9f3a\"],[0.8888888888888888,\"#fdca26\"],[1.0,\"#f0f921\"]],\"type\":\"contour\"}],\"heatmapgl\":[{\"colorbar\":{\"outlinewidth\":0,\"ticks\":\"\"},\"colorscale\":[[0.0,\"#0d0887\"],[0.1111111111111111,\"#46039f\"],[0.2222222222222222,\"#7201a8\"],[0.3333333333333333,\"#9c179e\"],[0.4444444444444444,\"#bd3786\"],[0.5555555555555556,\"#d8576b\"],[0.6666666666666666,\"#ed7953\"],[0.7777777777777778,\"#fb9f3a\"],[0.8888888888888888,\"#fdca26\"],[1.0,\"#f0f921\"]],\"type\":\"heatmapgl\"}],\"heatmap\":[{\"colorbar\":{\"outlinewidth\":0,\"ticks\":\"\"},\"colorscale\":[[0.0,\"#0d0887\"],[0.1111111111111111,\"#46039f\"],[0.2222222222222222,\"#7201a8\"],[0.3333333333333333,\"#9c179e\"],[0.4444444444444444,\"#bd3786\"],[0.5555555555555556,\"#d8576b\"],[0.6666666666666666,\"#ed7953\"],[0.7777777777777778,\"#fb9f3a\"],[0.8888888888888888,\"#fdca26\"],[1.0,\"#f0f921\"]],\"type\":\"heatmap\"}],\"histogram2dcontour\":[{\"colorbar\":{\"outlinewidth\":0,\"ticks\":\"\"},\"colorscale\":[[0.0,\"#0d0887\"],[0.1111111111111111,\"#46039f\"],[0.2222222222222222,\"#7201a8\"],[0.3333333333333333,\"#9c179e\"],[0.4444444444444444,\"#bd3786\"],[0.5555555555555556,\"#d8576b\"],[0.6666666666666666,\"#ed7953\"],[0.7777777777777778,\"#fb9f3a\"],[0.8888888888888888,\"#fdca26\"],[1.0,\"#f0f921\"]],\"type\":\"histogram2dcontour\"}],\"histogram2d\":[{\"colorbar\":{\"outlinewidth\":0,\"ticks\":\"\"},\"colorscale\":[[0.0,\"#0d0887\"],[0.1111111111111111,\"#46039f\"],[0.2222222222222222,\"#7201a8\"],[0.3333333333333333,\"#9c179e\"],[0.4444444444444444,\"#bd3786\"],[0.5555555555555556,\"#d8576b\"],[0.6666666666666666,\"#ed7953\"],[0.7777777777777778,\"#fb9f3a\"],[0.8888888888888888,\"#fdca26\"],[1.0,\"#f0f921\"]],\"type\":\"histogram2d\"}],\"histogram\":[{\"marker\":{\"pattern\":{\"fillmode\":\"overlay\",\"size\":10,\"solidity\":0.2}},\"type\":\"histogram\"}],\"mesh3d\":[{\"colorbar\":{\"outlinewidth\":0,\"ticks\":\"\"},\"type\":\"mesh3d\"}],\"parcoords\":[{\"line\":{\"colorbar\":{\"outlinewidth\":0,\"ticks\":\"\"}},\"type\":\"parcoords\"}],\"pie\":[{\"automargin\":true,\"type\":\"pie\"}],\"scatter3d\":[{\"line\":{\"colorbar\":{\"outlinewidth\":0,\"ticks\":\"\"}},\"marker\":{\"colorbar\":{\"outlinewidth\":0,\"ticks\":\"\"}},\"type\":\"scatter3d\"}],\"scattercarpet\":[{\"marker\":{\"colorbar\":{\"outlinewidth\":0,\"ticks\":\"\"}},\"type\":\"scattercarpet\"}],\"scattergeo\":[{\"marker\":{\"colorbar\":{\"outlinewidth\":0,\"ticks\":\"\"}},\"type\":\"scattergeo\"}],\"scattergl\":[{\"marker\":{\"colorbar\":{\"outlinewidth\":0,\"ticks\":\"\"}},\"type\":\"scattergl\"}],\"scattermapbox\":[{\"marker\":{\"colorbar\":{\"outlinewidth\":0,\"ticks\":\"\"}},\"type\":\"scattermapbox\"}],\"scatterpolargl\":[{\"marker\":{\"colorbar\":{\"outlinewidth\":0,\"ticks\":\"\"}},\"type\":\"scatterpolargl\"}],\"scatterpolar\":[{\"marker\":{\"colorbar\":{\"outlinewidth\":0,\"ticks\":\"\"}},\"type\":\"scatterpolar\"}],\"scatter\":[{\"marker\":{\"colorbar\":{\"outlinewidth\":0,\"ticks\":\"\"}},\"type\":\"scatter\"}],\"scatterternary\":[{\"marker\":{\"colorbar\":{\"outlinewidth\":0,\"ticks\":\"\"}},\"type\":\"scatterternary\"}],\"surface\":[{\"colorbar\":{\"outlinewidth\":0,\"ticks\":\"\"},\"colorscale\":[[0.0,\"#0d0887\"],[0.1111111111111111,\"#46039f\"],[0.2222222222222222,\"#7201a8\"],[0.3333333333333333,\"#9c179e\"],[0.4444444444444444,\"#bd3786\"],[0.5555555555555556,\"#d8576b\"],[0.6666666666666666,\"#ed7953\"],[0.7777777777777778,\"#fb9f3a\"],[0.8888888888888888,\"#fdca26\"],[1.0,\"#f0f921\"]],\"type\":\"surface\"}],\"table\":[{\"cells\":{\"fill\":{\"color\":\"#EBF0F8\"},\"line\":{\"color\":\"white\"}},\"header\":{\"fill\":{\"color\":\"#C8D4E3\"},\"line\":{\"color\":\"white\"}},\"type\":\"table\"}]},\"layout\":{\"annotationdefaults\":{\"arrowcolor\":\"#2a3f5f\",\"arrowhead\":0,\"arrowwidth\":1},\"autotypenumbers\":\"strict\",\"coloraxis\":{\"colorbar\":{\"outlinewidth\":0,\"ticks\":\"\"}},\"colorscale\":{\"diverging\":[[0,\"#8e0152\"],[0.1,\"#c51b7d\"],[0.2,\"#de77ae\"],[0.3,\"#f1b6da\"],[0.4,\"#fde0ef\"],[0.5,\"#f7f7f7\"],[0.6,\"#e6f5d0\"],[0.7,\"#b8e186\"],[0.8,\"#7fbc41\"],[0.9,\"#4d9221\"],[1,\"#276419\"]],\"sequential\":[[0.0,\"#0d0887\"],[0.1111111111111111,\"#46039f\"],[0.2222222222222222,\"#7201a8\"],[0.3333333333333333,\"#9c179e\"],[0.4444444444444444,\"#bd3786\"],[0.5555555555555556,\"#d8576b\"],[0.6666666666666666,\"#ed7953\"],[0.7777777777777778,\"#fb9f3a\"],[0.8888888888888888,\"#fdca26\"],[1.0,\"#f0f921\"]],\"sequentialminus\":[[0.0,\"#0d0887\"],[0.1111111111111111,\"#46039f\"],[0.2222222222222222,\"#7201a8\"],[0.3333333333333333,\"#9c179e\"],[0.4444444444444444,\"#bd3786\"],[0.5555555555555556,\"#d8576b\"],[0.6666666666666666,\"#ed7953\"],[0.7777777777777778,\"#fb9f3a\"],[0.8888888888888888,\"#fdca26\"],[1.0,\"#f0f921\"]]},\"colorway\":[\"#636efa\",\"#EF553B\",\"#00cc96\",\"#ab63fa\",\"#FFA15A\",\"#19d3f3\",\"#FF6692\",\"#B6E880\",\"#FF97FF\",\"#FECB52\"],\"font\":{\"color\":\"#2a3f5f\"},\"geo\":{\"bgcolor\":\"white\",\"lakecolor\":\"white\",\"landcolor\":\"white\",\"showlakes\":true,\"showland\":true,\"subunitcolor\":\"#C8D4E3\"},\"hoverlabel\":{\"align\":\"left\"},\"hovermode\":\"closest\",\"mapbox\":{\"style\":\"light\"},\"paper_bgcolor\":\"white\",\"plot_bgcolor\":\"white\",\"polar\":{\"angularaxis\":{\"gridcolor\":\"#EBF0F8\",\"linecolor\":\"#EBF0F8\",\"ticks\":\"\"},\"bgcolor\":\"white\",\"radialaxis\":{\"gridcolor\":\"#EBF0F8\",\"linecolor\":\"#EBF0F8\",\"ticks\":\"\"}},\"scene\":{\"xaxis\":{\"backgroundcolor\":\"white\",\"gridcolor\":\"#DFE8F3\",\"gridwidth\":2,\"linecolor\":\"#EBF0F8\",\"showbackground\":true,\"ticks\":\"\",\"zerolinecolor\":\"#EBF0F8\"},\"yaxis\":{\"backgroundcolor\":\"white\",\"gridcolor\":\"#DFE8F3\",\"gridwidth\":2,\"linecolor\":\"#EBF0F8\",\"showbackground\":true,\"ticks\":\"\",\"zerolinecolor\":\"#EBF0F8\"},\"zaxis\":{\"backgroundcolor\":\"white\",\"gridcolor\":\"#DFE8F3\",\"gridwidth\":2,\"linecolor\":\"#EBF0F8\",\"showbackground\":true,\"ticks\":\"\",\"zerolinecolor\":\"#EBF0F8\"}},\"shapedefaults\":{\"line\":{\"color\":\"#2a3f5f\"}},\"ternary\":{\"aaxis\":{\"gridcolor\":\"#DFE8F3\",\"linecolor\":\"#A2B1C6\",\"ticks\":\"\"},\"baxis\":{\"gridcolor\":\"#DFE8F3\",\"linecolor\":\"#A2B1C6\",\"ticks\":\"\"},\"bgcolor\":\"white\",\"caxis\":{\"gridcolor\":\"#DFE8F3\",\"linecolor\":\"#A2B1C6\",\"ticks\":\"\"}},\"title\":{\"x\":0.05},\"xaxis\":{\"automargin\":true,\"gridcolor\":\"#EBF0F8\",\"linecolor\":\"#EBF0F8\",\"ticks\":\"\",\"title\":{\"standoff\":15},\"zerolinecolor\":\"#EBF0F8\",\"zerolinewidth\":2},\"yaxis\":{\"automargin\":true,\"gridcolor\":\"#EBF0F8\",\"linecolor\":\"#EBF0F8\",\"ticks\":\"\",\"title\":{\"standoff\":15},\"zerolinecolor\":\"#EBF0F8\",\"zerolinewidth\":2}}},\"xaxis\":{\"anchor\":\"y\",\"domain\":[0.0,1.0],\"title\":{\"text\":\"TUT>OT                      TUT<OT\"},\"tickfont\":{\"size\":20},\"visible\":true,\"range\":[0.37,0.63]},\"yaxis\":{\"anchor\":\"x\",\"domain\":[0.0,1.0],\"title\":{\"text\":\"\"},\"tickfont\":{\"size\":20},\"autorange\":false,\"automargin\":true,\"range\":[-1,54],\"dtick\":1},\"legend\":{\"title\":{\"text\":\"Statistical Significance\"},\"tracegroupgap\":0},\"margin\":{\"t\":60},\"shapes\":[{\"line\":{\"color\":\"grey\",\"dash\":\"dash\",\"width\":3},\"type\":\"line\",\"x0\":0.5,\"x1\":0.5,\"xref\":\"x\",\"y0\":0,\"y1\":1,\"yref\":\"y domain\"}],\"font\":{\"family\":\"Times new roman\",\"size\":20,\"color\":\"black\"},\"width\":850,\"height\":1300,\"showlegend\":true},                        {\"responsive\": true}                    ).then(function(){\n",
       "                            \n",
       "var gd = document.getElementById('ea659b00-a9ce-4a81-a91e-37829f505653');\n",
       "var x = new MutationObserver(function (mutations, observer) {{\n",
       "        var display = window.getComputedStyle(gd).display;\n",
       "        if (!display || display === 'none') {{\n",
       "            console.log([gd, 'removed!']);\n",
       "            Plotly.purge(gd);\n",
       "            observer.disconnect();\n",
       "        }}\n",
       "}});\n",
       "\n",
       "// Listen for the removal of the full notebook cells\n",
       "var notebookContainer = gd.closest('#notebook-container');\n",
       "if (notebookContainer) {{\n",
       "    x.observe(notebookContainer, {childList: true});\n",
       "}}\n",
       "\n",
       "// Listen for the clearing of the current output cell\n",
       "var outputEl = gd.closest('.output');\n",
       "if (outputEl) {{\n",
       "    x.observe(outputEl, {childList: true});\n",
       "}}\n",
       "\n",
       "                        })                };                });            </script>        </div>"
      ]
     },
     "metadata": {},
     "output_type": "display_data"
    }
   ],
   "source": [
    "segment_mind_roc = pd.read_csv(os.path.join(results_path,'univariate_roc_mind_segment.csv'))\n",
    "\n",
    "# segment_mind_roc = segment_mind_roc.sort_values(by = 'AUC', ascending = False).head(10).append(segment_mind_roc.sort_values(by = 'AUC', ascending = False).tail(10))\n",
    "\n",
    "fig = px.scatter(segment_mind_roc.sort_values(by = 'AUC'),x = 'AUC', y = 'markers', template = \"plotly_white\", symbol = 'significant', \n",
    "                 symbol_sequence = ['circle-open','circle','hexagram' ],\n",
    "#                  color = 'significant',\n",
    "                 color_discrete_sequence = [pink, green,orange, pink], \n",
    "                 \n",
    "                 category_orders = {'significant': ['p > 0.05','p < 0.05 uncorrected', 'p < 0.05 FDR corrected']},\n",
    "                 labels = {'AUC': 'TUT>OT                      TUT<OT', 'significant': 'Statistical Significance', 'markers':''}\n",
    "                )\n",
    "fig.add_vline(x=0.5, line_width=3, line_dash=\"dash\", line_color=\"grey\")\n",
    "fig.update_traces(marker=dict(size = 13))\n",
    "\n",
    "fig.update_layout(\n",
    "    width=850,\n",
    "    height=1300,\n",
    "#     autosize = True, \n",
    "    template = 'plotly_white',\n",
    "        font=dict(\n",
    "        family=\"Times new roman\",\n",
    "        size=20,\n",
    "        color=\"black\"\n",
    "    ),\n",
    "    xaxis = dict(\n",
    "            visible=True,\n",
    "            range = [0.37,0.63], \n",
    "            tickfont = {\"size\": 20},\n",
    "        ),\n",
    "    yaxis = dict(\n",
    "        tickfont = {\"size\": 20},\n",
    "        autorange = False,    \n",
    "        automargin = True,\n",
    "        range = [-1,len(segment_mind_roc)],\n",
    "        dtick = 1\n",
    "        ),\n",
    "    showlegend=True, \n",
    "\n",
    ")\n",
    "\n",
    "fig.show()\n",
    "\n",
    "fig.write_image(os.path.join(fig_path,'univariate_roc_mind_segment.png'))\n",
    "fig.write_image(os.path.join(fig_path,'univariate_roc_mind_segment.pdf'))"
   ]
  },
  {
   "cell_type": "markdown",
   "id": "opponent-whole",
   "metadata": {
    "toc-hr-collapsed": true
   },
   "source": [
    "## dMW Vs sMW\n",
    "This will be only performed in SC as they have more trials"
   ]
  },
  {
   "cell_type": "code",
   "execution_count": 10,
   "id": "violent-motel",
   "metadata": {},
   "outputs": [],
   "source": [
    "agg_dict = {k:['mean', 'std'] for k in markers }\n",
    "agg_dict.update({k:'first' for k in df_markers.drop(markers, axis=1).columns})\n",
    "\n",
    "df_mw = (\n",
    "    df_markers\n",
    "    .query(\"probe == 'SC'\")\n",
    "    .query(\"mind != 'on-task'\")\n",
    "    .groupby(['segment', 'participant'], as_index = False).agg(agg_dict)\n",
    ")\n",
    "\n",
    "# df_mw.columns = df_mw.columns.map(\"_\".join)\n",
    "\n",
    "# df_mw  = (df_mw\n",
    "#             .rename(columns = {'participant_first':'participant', 'probe_first':'probe', 'mind_first':'mind', 'segment_first':'segment'})\n",
    "#             .drop(['participant', 'probe', 'segment'], axis = 1) \n",
    "#            )\n",
    "\n",
    "\n",
    "#### Use latex command for nmaes###\n",
    "####it slow downs the computer, just for final figures.\n",
    "\n",
    "df_mw = correct_name_markers(df_mw)\n",
    "\n",
    "df_mw.columns = df_mw.columns.map(\"$_{\".join).map(lambda x: x + '}$').map(lambda x: x.replace('$$', ''))\n",
    "\n",
    "df_mw  = (df_mw\n",
    "            .rename(columns = {'participant$_{first}$':'participant', 'probe$_{first}$':'probe', 'mind$_{first}$':'mind', 'segment$_{first}$':'segment', 'mind$_{}$':'mind'})\n",
    "#             .query(\"mind != 'dMW'\") #if you want to test against just one of the mw   \n",
    "            .drop(['participant', 'probe',  'segment'], axis = 1)\n",
    "\n",
    "           )"
   ]
  },
  {
   "cell_type": "code",
   "execution_count": 11,
   "id": "broadband-forth",
   "metadata": {},
   "outputs": [
    {
     "name": "stdout",
     "output_type": "stream",
     "text": [
      "AUC $wSMI\\gamma_{mean}$ = 0.46493706293706294 MannwhitneyuResult(statistic=38257.0, pvalue=0.16113687488792117)\n",
      "AUC $wSMI\\gamma_{std}$ = 0.4743496503496504 MannwhitneyuResult(statistic=37584.0, pvalue=0.3053548263685433)\n",
      "AUC $wSMI\\beta_{mean}$ = 0.4983496503496503 MannwhitneyuResult(statistic=35868.0, pvalue=0.9476259510151257)\n"
     ]
    },
    {
     "name": "stdout",
     "output_type": "stream",
     "text": [
      "AUC $wSMI\\beta_{std}$ = 0.4823356643356644 MannwhitneyuResult(statistic=37013.0, pvalue=0.48031232796606194)\n",
      "AUC $wSMI\\alpha_{mean}$ = 0.4939020979020979 MannwhitneyuResult(statistic=36186.0, pvalue=0.8076442914496428)\n",
      "AUC $wSMI\\alpha_{std}$ = 0.52 MannwhitneyuResult(statistic=34320.0, pvalue=0.4241967028392747)\n",
      "AUC $wSMI\\theta_{mean}$ = 0.5207132867132866 MannwhitneyuResult(statistic=34269.0, pvalue=0.40785562440254153)\n",
      "AUC $wSMI\\theta_{std}$ = 0.5153706293706294 MannwhitneyuResult(statistic=34651.0, pvalue=0.5391385750807288)\n",
      "AUC $PE\\gamma_{mean}$ = 0.44167832167832166 MannwhitneyuResult(statistic=39920.0, pvalue=0.019755577526908936)\n",
      "AUC $PE\\gamma_{std}$ = 0.5178321678321679 MannwhitneyuResult(statistic=34475.0, pvalue=0.47614969654940353)\n",
      "AUC $PE\\beta_{mean}$ = 0.43097902097902097 MannwhitneyuResult(statistic=40685.0, pvalue=0.005804403518839296)\n",
      "AUC $PE\\beta_{std}$ = 0.5073986013986014 MannwhitneyuResult(statistic=35221.0, pvalue=0.7676441894015158)\n",
      "AUC $PE\\alpha_{mean}$ = 0.5056643356643358 MannwhitneyuResult(statistic=35345.0, pvalue=0.8210959376047403)\n",
      "AUC $PE\\alpha_{std}$ = 0.49855944055944057 MannwhitneyuResult(statistic=35853.0, pvalue=0.9543041495796336)\n",
      "AUC $PE\\theta_{mean}$ = 0.6251468531468533 MannwhitneyuResult(statistic=26802.0, pvalue=5.670984868768802e-07)\n",
      "AUC $PE\\theta_{std}$ = 0.47531468531468535 MannwhitneyuResult(statistic=37515.0, pvalue=0.323915631957964)\n",
      "AUC $K_{mean}$ = 0.49604195804195805 MannwhitneyuResult(statistic=36033.0, pvalue=0.8745106164319382)\n",
      "AUC $K_{std}$ = 0.48258041958041964 MannwhitneyuResult(statistic=36995.5, pvalue=0.4864179654202968)\n",
      "AUC $SE_{mean}$ = 0.5129510489510489 MannwhitneyuResult(statistic=34824.0, pvalue=0.6048765788872017)\n",
      "AUC $SE_{std}$ = 0.5208111888111888 MannwhitneyuResult(statistic=34262.0, pvalue=0.40564238118162566)\n",
      "AUC $MSF_{mean}$ = 0.5432097902097902 MannwhitneyuResult(statistic=32660.5, pvalue=0.0841847407061906)\n",
      "AUC $MSF_{std}$ = 0.5310349650349651 MannwhitneyuResult(statistic=33531.0, pvalue=0.21488224648326504)\n",
      "AUC $SEF90_{mean}$ = 0.47887412587412587 MannwhitneyuResult(statistic=37260.5, pvalue=0.3985771209878116)\n",
      "AUC $SEF90_{std}$ = 0.5013846153846153 MannwhitneyuResult(statistic=35651.0, pvalue=0.956085563959179)\n",
      "AUC $SEF95_{mean}$ = 0.4757552447552448 MannwhitneyuResult(statistic=37483.5, pvalue=0.33262838041444365)\n",
      "AUC $SEF95_{std}$ = 0.5065174825174825 MannwhitneyuResult(statistic=35284.0, pvalue=0.7946804565293762)\n",
      "AUC $\\beta_{mean}$ = 0.5759440559440561 MannwhitneyuResult(statistic=30320.0, pvalue=0.0024024823093282154)\n",
      "AUC $\\beta_{std}$ = 0.5313986013986014 MannwhitneyuResult(statistic=33505.0, pvalue=0.20955603179547821)\n",
      "AUC $|\\beta|_{mean}$ = 0.521146853146853 MannwhitneyuResult(statistic=34238.0, pvalue=0.39810877300859004)\n",
      "AUC $|\\beta|_{std}$ = 0.5244755244755245 MannwhitneyuResult(statistic=34000.0, pvalue=0.32804586569052707)\n",
      "AUC $\\gamma_{mean}$ = 0.5146293706293706 MannwhitneyuResult(statistic=34704.0, pvalue=0.5588930346517682)\n",
      "AUC $\\gamma_{std}$ = 0.507972027972028 MannwhitneyuResult(statistic=35180.0, pvalue=0.7501975917567085)\n",
      "AUC $|\\gamma|_{mean}$ = 0.47545454545454546 MannwhitneyuResult(statistic=37505.0, pvalue=0.32666534115115087)\n",
      "AUC $|\\gamma|_{std}$ = 0.4965034965034965 MannwhitneyuResult(statistic=36000.0, pvalue=0.8890685572686036)\n",
      "AUC $\\theta_{mean}$ = 0.5395524475524476 MannwhitneyuResult(statistic=32922.0, pvalue=0.11394363472910186)\n",
      "AUC $\\theta_{std}$ = 0.48618181818181816 MannwhitneyuResult(statistic=36738.0, pvalue=0.5809061291121358)\n",
      "AUC $|\\theta|_{mean}$ = 0.4886293706293706 MannwhitneyuResult(statistic=36563.0, pvalue=0.6496647869251331)\n",
      "AUC $|\\theta|_{std}$ = 0.4707832167832168 MannwhitneyuResult(statistic=37839.0, pvalue=0.24297807488664547)\n",
      "AUC $\\delta_{mean}$ = 0.4808251748251748 MannwhitneyuResult(statistic=37121.0, pvalue=0.4435705840165032)\n",
      "AUC $\\delta_{std}$ = 0.525020979020979 MannwhitneyuResult(statistic=33961.0, pvalue=0.3173780312461433)\n",
      "AUC $|\\delta|_{mean}$ = 0.41130069930069935 MannwhitneyuResult(statistic=42092.0, pvalue=0.00039229444562451435)\n",
      "AUC $|\\delta|_{std}$ = 0.4896783216783217 MannwhitneyuResult(statistic=36488.0, pvalue=0.6801201406480502)\n",
      "AUC $|\\alpha|_{mean}$ = 0.5925034965034965 MannwhitneyuResult(statistic=29136.0, pvalue=0.00021792576674579538)\n",
      "AUC $|\\alpha|_{std}$ = 0.5575664335664337 MannwhitneyuResult(statistic=31634.0, pvalue=0.02140467714819007)\n",
      "AUC $\\alpha_{mean}$ = 0.5980279720279721 MannwhitneyuResult(statistic=28741.0, pvalue=8.924961232587402e-05)\n",
      "AUC $\\alpha_{std}$ = 0.5513146853146853 MannwhitneyuResult(statistic=32081.0, pvalue=0.04027921719625192)\n",
      "AUC $CNV_{mean}$ = 0.49647552447552445 MannwhitneyuResult(statistic=36002.0, pvalue=0.8881851481931597)\n",
      "AUC $CNV_{std}$ = 0.49633566433566434 MannwhitneyuResult(statistic=36012.0, pvalue=0.8837702074455049)\n",
      "AUC $P1_{mean}$ = 0.5232027972027973 MannwhitneyuResult(statistic=34091.0, pvalue=0.3538310014080168)\n",
      "AUC $P1_{std}$ = 0.5379020979020979 MannwhitneyuResult(statistic=33040.0, pvalue=0.12983691679969595)\n",
      "AUC $P3a_{mean}$ = 0.45704895104895105 MannwhitneyuResult(statistic=38821.0, pvalue=0.08605918233377907)\n",
      "AUC $P3a_{std}$ = 0.5286573426573427 MannwhitneyuResult(statistic=33701.0, pvalue=0.25212076167574393)\n",
      "AUC $P3b_{mean}$ = 0.5296223776223776 MannwhitneyuResult(statistic=33632.0, pvalue=0.23649705291605438)\n",
      "AUC $P3b_{std}$ = 0.5105034965034965 MannwhitneyuResult(statistic=34999.0, pvalue=0.674801917566568)\n"
     ]
    }
   ],
   "source": [
    "AUC = []\n",
    "pvalues = {}\n",
    "for i in df_mw.drop('mind', axis = 1).columns:\n",
    "    df_mw = df_mw.assign(mind_order = lambda df: np.select([df.mind == 'dMW', df.mind == 'sMW'], [2,1]))\n",
    "    smw = df_mw.query(\"mind == 'sMW'\")[i]\n",
    "    dmw = df_mw.query(\"mind == 'dMW'\")[i]\n",
    "    auc = roc_auc_score(df_mw['mind_order'], df_mw[i])\n",
    "    print(f'AUC {i} = {auc}', f'{mannwhitneyu(x = smw, y = dmw)}')\n",
    "    AUC.append([i, auc])\n",
    "    pvalues[i] = mannwhitneyu(x = smw, y =dmw).pvalue \n",
    "        \n",
    "segment_mw_roc = pd.DataFrame(AUC, columns = ['markers', 'AUC'])\n",
    "\n",
    "p_df =pd.DataFrame.from_dict(pvalues, orient = 'index', columns = ['p_value']).reset_index().rename(columns ={'index': 'markers'})\n",
    "segment_mw_roc = (segment_mw_roc\n",
    "            .merge(p_df, on = 'markers', how = 'inner')\n",
    "            .assign(\n",
    "                    p_corrected = lambda df: multipletests(df.p_value, method = 'fdr_bh')[1],\n",
    "                    significant = lambda df: np.select([(df.p_value < 0.05) & (df.p_corrected < 0.05), (df.p_value < 0.05) & (df.p_corrected > 0.05),  \n",
    "                                                 (df.p_value > 0.05) & (df.p_corrected > 0.05)], ['p < 0.05 FDR corrected','p < 0.05 uncorrected', 'p > 0.05']),\n",
    "                   )\n",
    "           )\n",
    "\n",
    "segment_mw_roc.to_csv(os.path.join(results_path, 'univariate_roc_mw_segment.csv'))"
   ]
  },
  {
   "cell_type": "code",
   "execution_count": 16,
   "id": "74976d73-f432-4d13-a73e-2aedfbcff3cf",
   "metadata": {},
   "outputs": [
    {
     "data": {
      "application/vnd.plotly.v1+json": {
       "config": {
        "plotlyServerURL": "https://plot.ly"
       },
       "data": [
        {
         "hovertemplate": "Statistical Significance=p > 0.05<br>sTUT>dTUT              sTUT<dTUT=%{x}<br>=%{y}<extra></extra>",
         "legendgroup": "p > 0.05",
         "marker": {
          "color": "#42B9B2",
          "size": 13,
          "symbol": "circle-open"
         },
         "mode": "markers",
         "name": "p > 0.05",
         "orientation": "h",
         "showlegend": true,
         "type": "scatter",
         "x": [
          0.457048951048951,
          0.4649370629370629,
          0.4707832167832168,
          0.4743496503496504,
          0.4753146853146853,
          0.4754545454545454,
          0.4757552447552448,
          0.4788741258741258,
          0.4808251748251748,
          0.4823356643356644,
          0.4825804195804196,
          0.4861818181818181,
          0.4886293706293706,
          0.4896783216783217,
          0.4939020979020979,
          0.496041958041958,
          0.4963356643356643,
          0.4964755244755244,
          0.4965034965034965,
          0.4983496503496503,
          0.4985594405594405,
          0.5013846153846153,
          0.5056643356643358,
          0.5065174825174825,
          0.5073986013986014,
          0.507972027972028,
          0.5105034965034965,
          0.5129510489510489,
          0.5146293706293706,
          0.5153706293706294,
          0.5178321678321679,
          0.52,
          0.5207132867132866,
          0.5208111888111888,
          0.521146853146853,
          0.5232027972027973,
          0.5244755244755245,
          0.525020979020979,
          0.5286573426573427,
          0.5296223776223776,
          0.5310349650349651,
          0.5313986013986014,
          0.5379020979020979,
          0.5395524475524476,
          0.5432097902097902
         ],
         "xaxis": "x",
         "y": [
          "$P3a_{mean}$",
          "$wSMI\\gamma_{mean}$",
          "$|\\theta|_{std}$",
          "$wSMI\\gamma_{std}$",
          "$PE\\theta_{std}$",
          "$|\\gamma|_{mean}$",
          "$SEF95_{mean}$",
          "$SEF90_{mean}$",
          "$\\delta_{mean}$",
          "$wSMI\\beta_{std}$",
          "$K_{std}$",
          "$\\theta_{std}$",
          "$|\\theta|_{mean}$",
          "$|\\delta|_{std}$",
          "$wSMI\\alpha_{mean}$",
          "$K_{mean}$",
          "$CNV_{std}$",
          "$CNV_{mean}$",
          "$|\\gamma|_{std}$",
          "$wSMI\\beta_{mean}$",
          "$PE\\alpha_{std}$",
          "$SEF90_{std}$",
          "$PE\\alpha_{mean}$",
          "$SEF95_{std}$",
          "$PE\\beta_{std}$",
          "$\\gamma_{std}$",
          "$P3b_{std}$",
          "$SE_{mean}$",
          "$\\gamma_{mean}$",
          "$wSMI\\theta_{std}$",
          "$PE\\gamma_{std}$",
          "$wSMI\\alpha_{std}$",
          "$wSMI\\theta_{mean}$",
          "$SE_{std}$",
          "$|\\beta|_{mean}$",
          "$P1_{mean}$",
          "$|\\beta|_{std}$",
          "$\\delta_{std}$",
          "$P3a_{std}$",
          "$P3b_{mean}$",
          "$MSF_{std}$",
          "$\\beta_{std}$",
          "$P1_{std}$",
          "$\\theta_{mean}$",
          "$MSF_{mean}$"
         ],
         "yaxis": "y"
        },
        {
         "hovertemplate": "Statistical Significance=p < 0.05 uncorrected<br>sTUT>dTUT              sTUT<dTUT=%{x}<br>=%{y}<extra></extra>",
         "legendgroup": "p < 0.05 uncorrected",
         "marker": {
          "color": "#42B9B2",
          "size": 13,
          "symbol": "circle"
         },
         "mode": "markers",
         "name": "p < 0.05 uncorrected",
         "orientation": "h",
         "showlegend": true,
         "type": "scatter",
         "x": [
          0.4309790209790209,
          0.4416783216783216,
          0.5513146853146853,
          0.5575664335664337
         ],
         "xaxis": "x",
         "y": [
          "$PE\\beta_{mean}$",
          "$PE\\gamma_{mean}$",
          "$\\alpha_{std}$",
          "$|\\alpha|_{std}$"
         ],
         "yaxis": "y"
        },
        {
         "hovertemplate": "Statistical Significance=p < 0.05 FDR corrected<br>sTUT>dTUT              sTUT<dTUT=%{x}<br>=%{y}<extra></extra>",
         "legendgroup": "p < 0.05 FDR corrected",
         "marker": {
          "color": "#42B9B2",
          "size": 13,
          "symbol": "hexagram"
         },
         "mode": "markers",
         "name": "p < 0.05 FDR corrected",
         "orientation": "h",
         "showlegend": true,
         "type": "scatter",
         "x": [
          0.4113006993006993,
          0.5759440559440561,
          0.5925034965034965,
          0.5980279720279721,
          0.6251468531468533
         ],
         "xaxis": "x",
         "y": [
          "$|\\delta|_{mean}$",
          "$\\beta_{mean}$",
          "$|\\alpha|_{mean}$",
          "$\\alpha_{mean}$",
          "$PE\\theta_{mean}$"
         ],
         "yaxis": "y"
        }
       ],
       "layout": {
        "font": {
         "color": "black",
         "family": "Times new roman",
         "size": 20
        },
        "height": 1300,
        "legend": {
         "title": {
          "text": "Statistical Significance"
         },
         "tracegroupgap": 0
        },
        "margin": {
         "t": 60
        },
        "shapes": [
         {
          "line": {
           "color": "grey",
           "dash": "dash",
           "width": 3
          },
          "type": "line",
          "x0": 0.5,
          "x1": 0.5,
          "xref": "x",
          "y0": 0,
          "y1": 1,
          "yref": "y domain"
         }
        ],
        "showlegend": true,
        "template": {
         "data": {
          "bar": [
           {
            "error_x": {
             "color": "#2a3f5f"
            },
            "error_y": {
             "color": "#2a3f5f"
            },
            "marker": {
             "line": {
              "color": "white",
              "width": 0.5
             },
             "pattern": {
              "fillmode": "overlay",
              "size": 10,
              "solidity": 0.2
             }
            },
            "type": "bar"
           }
          ],
          "barpolar": [
           {
            "marker": {
             "line": {
              "color": "white",
              "width": 0.5
             },
             "pattern": {
              "fillmode": "overlay",
              "size": 10,
              "solidity": 0.2
             }
            },
            "type": "barpolar"
           }
          ],
          "carpet": [
           {
            "aaxis": {
             "endlinecolor": "#2a3f5f",
             "gridcolor": "#C8D4E3",
             "linecolor": "#C8D4E3",
             "minorgridcolor": "#C8D4E3",
             "startlinecolor": "#2a3f5f"
            },
            "baxis": {
             "endlinecolor": "#2a3f5f",
             "gridcolor": "#C8D4E3",
             "linecolor": "#C8D4E3",
             "minorgridcolor": "#C8D4E3",
             "startlinecolor": "#2a3f5f"
            },
            "type": "carpet"
           }
          ],
          "choropleth": [
           {
            "colorbar": {
             "outlinewidth": 0,
             "ticks": ""
            },
            "type": "choropleth"
           }
          ],
          "contour": [
           {
            "colorbar": {
             "outlinewidth": 0,
             "ticks": ""
            },
            "colorscale": [
             [
              0,
              "#0d0887"
             ],
             [
              0.1111111111111111,
              "#46039f"
             ],
             [
              0.2222222222222222,
              "#7201a8"
             ],
             [
              0.3333333333333333,
              "#9c179e"
             ],
             [
              0.4444444444444444,
              "#bd3786"
             ],
             [
              0.5555555555555556,
              "#d8576b"
             ],
             [
              0.6666666666666666,
              "#ed7953"
             ],
             [
              0.7777777777777778,
              "#fb9f3a"
             ],
             [
              0.8888888888888888,
              "#fdca26"
             ],
             [
              1,
              "#f0f921"
             ]
            ],
            "type": "contour"
           }
          ],
          "contourcarpet": [
           {
            "colorbar": {
             "outlinewidth": 0,
             "ticks": ""
            },
            "type": "contourcarpet"
           }
          ],
          "heatmap": [
           {
            "colorbar": {
             "outlinewidth": 0,
             "ticks": ""
            },
            "colorscale": [
             [
              0,
              "#0d0887"
             ],
             [
              0.1111111111111111,
              "#46039f"
             ],
             [
              0.2222222222222222,
              "#7201a8"
             ],
             [
              0.3333333333333333,
              "#9c179e"
             ],
             [
              0.4444444444444444,
              "#bd3786"
             ],
             [
              0.5555555555555556,
              "#d8576b"
             ],
             [
              0.6666666666666666,
              "#ed7953"
             ],
             [
              0.7777777777777778,
              "#fb9f3a"
             ],
             [
              0.8888888888888888,
              "#fdca26"
             ],
             [
              1,
              "#f0f921"
             ]
            ],
            "type": "heatmap"
           }
          ],
          "heatmapgl": [
           {
            "colorbar": {
             "outlinewidth": 0,
             "ticks": ""
            },
            "colorscale": [
             [
              0,
              "#0d0887"
             ],
             [
              0.1111111111111111,
              "#46039f"
             ],
             [
              0.2222222222222222,
              "#7201a8"
             ],
             [
              0.3333333333333333,
              "#9c179e"
             ],
             [
              0.4444444444444444,
              "#bd3786"
             ],
             [
              0.5555555555555556,
              "#d8576b"
             ],
             [
              0.6666666666666666,
              "#ed7953"
             ],
             [
              0.7777777777777778,
              "#fb9f3a"
             ],
             [
              0.8888888888888888,
              "#fdca26"
             ],
             [
              1,
              "#f0f921"
             ]
            ],
            "type": "heatmapgl"
           }
          ],
          "histogram": [
           {
            "marker": {
             "pattern": {
              "fillmode": "overlay",
              "size": 10,
              "solidity": 0.2
             }
            },
            "type": "histogram"
           }
          ],
          "histogram2d": [
           {
            "colorbar": {
             "outlinewidth": 0,
             "ticks": ""
            },
            "colorscale": [
             [
              0,
              "#0d0887"
             ],
             [
              0.1111111111111111,
              "#46039f"
             ],
             [
              0.2222222222222222,
              "#7201a8"
             ],
             [
              0.3333333333333333,
              "#9c179e"
             ],
             [
              0.4444444444444444,
              "#bd3786"
             ],
             [
              0.5555555555555556,
              "#d8576b"
             ],
             [
              0.6666666666666666,
              "#ed7953"
             ],
             [
              0.7777777777777778,
              "#fb9f3a"
             ],
             [
              0.8888888888888888,
              "#fdca26"
             ],
             [
              1,
              "#f0f921"
             ]
            ],
            "type": "histogram2d"
           }
          ],
          "histogram2dcontour": [
           {
            "colorbar": {
             "outlinewidth": 0,
             "ticks": ""
            },
            "colorscale": [
             [
              0,
              "#0d0887"
             ],
             [
              0.1111111111111111,
              "#46039f"
             ],
             [
              0.2222222222222222,
              "#7201a8"
             ],
             [
              0.3333333333333333,
              "#9c179e"
             ],
             [
              0.4444444444444444,
              "#bd3786"
             ],
             [
              0.5555555555555556,
              "#d8576b"
             ],
             [
              0.6666666666666666,
              "#ed7953"
             ],
             [
              0.7777777777777778,
              "#fb9f3a"
             ],
             [
              0.8888888888888888,
              "#fdca26"
             ],
             [
              1,
              "#f0f921"
             ]
            ],
            "type": "histogram2dcontour"
           }
          ],
          "mesh3d": [
           {
            "colorbar": {
             "outlinewidth": 0,
             "ticks": ""
            },
            "type": "mesh3d"
           }
          ],
          "parcoords": [
           {
            "line": {
             "colorbar": {
              "outlinewidth": 0,
              "ticks": ""
             }
            },
            "type": "parcoords"
           }
          ],
          "pie": [
           {
            "automargin": true,
            "type": "pie"
           }
          ],
          "scatter": [
           {
            "marker": {
             "colorbar": {
              "outlinewidth": 0,
              "ticks": ""
             }
            },
            "type": "scatter"
           }
          ],
          "scatter3d": [
           {
            "line": {
             "colorbar": {
              "outlinewidth": 0,
              "ticks": ""
             }
            },
            "marker": {
             "colorbar": {
              "outlinewidth": 0,
              "ticks": ""
             }
            },
            "type": "scatter3d"
           }
          ],
          "scattercarpet": [
           {
            "marker": {
             "colorbar": {
              "outlinewidth": 0,
              "ticks": ""
             }
            },
            "type": "scattercarpet"
           }
          ],
          "scattergeo": [
           {
            "marker": {
             "colorbar": {
              "outlinewidth": 0,
              "ticks": ""
             }
            },
            "type": "scattergeo"
           }
          ],
          "scattergl": [
           {
            "marker": {
             "colorbar": {
              "outlinewidth": 0,
              "ticks": ""
             }
            },
            "type": "scattergl"
           }
          ],
          "scattermapbox": [
           {
            "marker": {
             "colorbar": {
              "outlinewidth": 0,
              "ticks": ""
             }
            },
            "type": "scattermapbox"
           }
          ],
          "scatterpolar": [
           {
            "marker": {
             "colorbar": {
              "outlinewidth": 0,
              "ticks": ""
             }
            },
            "type": "scatterpolar"
           }
          ],
          "scatterpolargl": [
           {
            "marker": {
             "colorbar": {
              "outlinewidth": 0,
              "ticks": ""
             }
            },
            "type": "scatterpolargl"
           }
          ],
          "scatterternary": [
           {
            "marker": {
             "colorbar": {
              "outlinewidth": 0,
              "ticks": ""
             }
            },
            "type": "scatterternary"
           }
          ],
          "surface": [
           {
            "colorbar": {
             "outlinewidth": 0,
             "ticks": ""
            },
            "colorscale": [
             [
              0,
              "#0d0887"
             ],
             [
              0.1111111111111111,
              "#46039f"
             ],
             [
              0.2222222222222222,
              "#7201a8"
             ],
             [
              0.3333333333333333,
              "#9c179e"
             ],
             [
              0.4444444444444444,
              "#bd3786"
             ],
             [
              0.5555555555555556,
              "#d8576b"
             ],
             [
              0.6666666666666666,
              "#ed7953"
             ],
             [
              0.7777777777777778,
              "#fb9f3a"
             ],
             [
              0.8888888888888888,
              "#fdca26"
             ],
             [
              1,
              "#f0f921"
             ]
            ],
            "type": "surface"
           }
          ],
          "table": [
           {
            "cells": {
             "fill": {
              "color": "#EBF0F8"
             },
             "line": {
              "color": "white"
             }
            },
            "header": {
             "fill": {
              "color": "#C8D4E3"
             },
             "line": {
              "color": "white"
             }
            },
            "type": "table"
           }
          ]
         },
         "layout": {
          "annotationdefaults": {
           "arrowcolor": "#2a3f5f",
           "arrowhead": 0,
           "arrowwidth": 1
          },
          "autotypenumbers": "strict",
          "coloraxis": {
           "colorbar": {
            "outlinewidth": 0,
            "ticks": ""
           }
          },
          "colorscale": {
           "diverging": [
            [
             0,
             "#8e0152"
            ],
            [
             0.1,
             "#c51b7d"
            ],
            [
             0.2,
             "#de77ae"
            ],
            [
             0.3,
             "#f1b6da"
            ],
            [
             0.4,
             "#fde0ef"
            ],
            [
             0.5,
             "#f7f7f7"
            ],
            [
             0.6,
             "#e6f5d0"
            ],
            [
             0.7,
             "#b8e186"
            ],
            [
             0.8,
             "#7fbc41"
            ],
            [
             0.9,
             "#4d9221"
            ],
            [
             1,
             "#276419"
            ]
           ],
           "sequential": [
            [
             0,
             "#0d0887"
            ],
            [
             0.1111111111111111,
             "#46039f"
            ],
            [
             0.2222222222222222,
             "#7201a8"
            ],
            [
             0.3333333333333333,
             "#9c179e"
            ],
            [
             0.4444444444444444,
             "#bd3786"
            ],
            [
             0.5555555555555556,
             "#d8576b"
            ],
            [
             0.6666666666666666,
             "#ed7953"
            ],
            [
             0.7777777777777778,
             "#fb9f3a"
            ],
            [
             0.8888888888888888,
             "#fdca26"
            ],
            [
             1,
             "#f0f921"
            ]
           ],
           "sequentialminus": [
            [
             0,
             "#0d0887"
            ],
            [
             0.1111111111111111,
             "#46039f"
            ],
            [
             0.2222222222222222,
             "#7201a8"
            ],
            [
             0.3333333333333333,
             "#9c179e"
            ],
            [
             0.4444444444444444,
             "#bd3786"
            ],
            [
             0.5555555555555556,
             "#d8576b"
            ],
            [
             0.6666666666666666,
             "#ed7953"
            ],
            [
             0.7777777777777778,
             "#fb9f3a"
            ],
            [
             0.8888888888888888,
             "#fdca26"
            ],
            [
             1,
             "#f0f921"
            ]
           ]
          },
          "colorway": [
           "#636efa",
           "#EF553B",
           "#00cc96",
           "#ab63fa",
           "#FFA15A",
           "#19d3f3",
           "#FF6692",
           "#B6E880",
           "#FF97FF",
           "#FECB52"
          ],
          "font": {
           "color": "#2a3f5f"
          },
          "geo": {
           "bgcolor": "white",
           "lakecolor": "white",
           "landcolor": "white",
           "showlakes": true,
           "showland": true,
           "subunitcolor": "#C8D4E3"
          },
          "hoverlabel": {
           "align": "left"
          },
          "hovermode": "closest",
          "mapbox": {
           "style": "light"
          },
          "paper_bgcolor": "white",
          "plot_bgcolor": "white",
          "polar": {
           "angularaxis": {
            "gridcolor": "#EBF0F8",
            "linecolor": "#EBF0F8",
            "ticks": ""
           },
           "bgcolor": "white",
           "radialaxis": {
            "gridcolor": "#EBF0F8",
            "linecolor": "#EBF0F8",
            "ticks": ""
           }
          },
          "scene": {
           "xaxis": {
            "backgroundcolor": "white",
            "gridcolor": "#DFE8F3",
            "gridwidth": 2,
            "linecolor": "#EBF0F8",
            "showbackground": true,
            "ticks": "",
            "zerolinecolor": "#EBF0F8"
           },
           "yaxis": {
            "backgroundcolor": "white",
            "gridcolor": "#DFE8F3",
            "gridwidth": 2,
            "linecolor": "#EBF0F8",
            "showbackground": true,
            "ticks": "",
            "zerolinecolor": "#EBF0F8"
           },
           "zaxis": {
            "backgroundcolor": "white",
            "gridcolor": "#DFE8F3",
            "gridwidth": 2,
            "linecolor": "#EBF0F8",
            "showbackground": true,
            "ticks": "",
            "zerolinecolor": "#EBF0F8"
           }
          },
          "shapedefaults": {
           "line": {
            "color": "#2a3f5f"
           }
          },
          "ternary": {
           "aaxis": {
            "gridcolor": "#DFE8F3",
            "linecolor": "#A2B1C6",
            "ticks": ""
           },
           "baxis": {
            "gridcolor": "#DFE8F3",
            "linecolor": "#A2B1C6",
            "ticks": ""
           },
           "bgcolor": "white",
           "caxis": {
            "gridcolor": "#DFE8F3",
            "linecolor": "#A2B1C6",
            "ticks": ""
           }
          },
          "title": {
           "x": 0.05
          },
          "xaxis": {
           "automargin": true,
           "gridcolor": "#EBF0F8",
           "linecolor": "#EBF0F8",
           "ticks": "",
           "title": {
            "standoff": 15
           },
           "zerolinecolor": "#EBF0F8",
           "zerolinewidth": 2
          },
          "yaxis": {
           "automargin": true,
           "gridcolor": "#EBF0F8",
           "linecolor": "#EBF0F8",
           "ticks": "",
           "title": {
            "standoff": 15
           },
           "zerolinecolor": "#EBF0F8",
           "zerolinewidth": 2
          }
         }
        },
        "width": 850,
        "xaxis": {
         "anchor": "y",
         "domain": [
          0,
          1
         ],
         "range": [
          0.37,
          0.63
         ],
         "tickfont": {
          "size": 20
         },
         "title": {
          "text": "sTUT>dTUT              sTUT<dTUT"
         },
         "visible": true
        },
        "yaxis": {
         "anchor": "x",
         "automargin": true,
         "autorange": false,
         "domain": [
          0,
          1
         ],
         "dtick": 1,
         "range": [
          -1,
          54
         ],
         "tickfont": {
          "size": 20
         },
         "title": {
          "text": ""
         }
        }
       }
      },
      "text/html": [
       "<div>                            <div id=\"17edc2d1-4ca4-4f93-b8c3-1333e8245a7a\" class=\"plotly-graph-div\" style=\"height:1300px; width:850px;\"></div>            <script type=\"text/javascript\">                require([\"plotly\"], function(Plotly) {                    window.PLOTLYENV=window.PLOTLYENV || {};                                    if (document.getElementById(\"17edc2d1-4ca4-4f93-b8c3-1333e8245a7a\")) {                    Plotly.newPlot(                        \"17edc2d1-4ca4-4f93-b8c3-1333e8245a7a\",                        [{\"hovertemplate\":\"Statistical Significance=p > 0.05<br>sTUT>dTUT              sTUT<dTUT=%{x}<br>=%{y}<extra></extra>\",\"legendgroup\":\"p > 0.05\",\"marker\":{\"color\":\"#42B9B2\",\"symbol\":\"circle-open\",\"size\":13},\"mode\":\"markers\",\"name\":\"p > 0.05\",\"orientation\":\"h\",\"showlegend\":true,\"x\":[0.457048951048951,0.4649370629370629,0.4707832167832168,0.4743496503496504,0.4753146853146853,0.4754545454545454,0.4757552447552448,0.4788741258741258,0.4808251748251748,0.4823356643356644,0.4825804195804196,0.4861818181818181,0.4886293706293706,0.4896783216783217,0.4939020979020979,0.496041958041958,0.4963356643356643,0.4964755244755244,0.4965034965034965,0.4983496503496503,0.4985594405594405,0.5013846153846153,0.5056643356643358,0.5065174825174825,0.5073986013986014,0.507972027972028,0.5105034965034965,0.5129510489510489,0.5146293706293706,0.5153706293706294,0.5178321678321679,0.52,0.5207132867132866,0.5208111888111888,0.521146853146853,0.5232027972027973,0.5244755244755245,0.525020979020979,0.5286573426573427,0.5296223776223776,0.5310349650349651,0.5313986013986014,0.5379020979020979,0.5395524475524476,0.5432097902097902],\"xaxis\":\"x\",\"y\":[\"$P3a_{mean}$\",\"$wSMI\\\\gamma_{mean}$\",\"$|\\\\theta|_{std}$\",\"$wSMI\\\\gamma_{std}$\",\"$PE\\\\theta_{std}$\",\"$|\\\\gamma|_{mean}$\",\"$SEF95_{mean}$\",\"$SEF90_{mean}$\",\"$\\\\delta_{mean}$\",\"$wSMI\\\\beta_{std}$\",\"$K_{std}$\",\"$\\\\theta_{std}$\",\"$|\\\\theta|_{mean}$\",\"$|\\\\delta|_{std}$\",\"$wSMI\\\\alpha_{mean}$\",\"$K_{mean}$\",\"$CNV_{std}$\",\"$CNV_{mean}$\",\"$|\\\\gamma|_{std}$\",\"$wSMI\\\\beta_{mean}$\",\"$PE\\\\alpha_{std}$\",\"$SEF90_{std}$\",\"$PE\\\\alpha_{mean}$\",\"$SEF95_{std}$\",\"$PE\\\\beta_{std}$\",\"$\\\\gamma_{std}$\",\"$P3b_{std}$\",\"$SE_{mean}$\",\"$\\\\gamma_{mean}$\",\"$wSMI\\\\theta_{std}$\",\"$PE\\\\gamma_{std}$\",\"$wSMI\\\\alpha_{std}$\",\"$wSMI\\\\theta_{mean}$\",\"$SE_{std}$\",\"$|\\\\beta|_{mean}$\",\"$P1_{mean}$\",\"$|\\\\beta|_{std}$\",\"$\\\\delta_{std}$\",\"$P3a_{std}$\",\"$P3b_{mean}$\",\"$MSF_{std}$\",\"$\\\\beta_{std}$\",\"$P1_{std}$\",\"$\\\\theta_{mean}$\",\"$MSF_{mean}$\"],\"yaxis\":\"y\",\"type\":\"scatter\"},{\"hovertemplate\":\"Statistical Significance=p < 0.05 uncorrected<br>sTUT>dTUT              sTUT<dTUT=%{x}<br>=%{y}<extra></extra>\",\"legendgroup\":\"p < 0.05 uncorrected\",\"marker\":{\"color\":\"#42B9B2\",\"symbol\":\"circle\",\"size\":13},\"mode\":\"markers\",\"name\":\"p < 0.05 uncorrected\",\"orientation\":\"h\",\"showlegend\":true,\"x\":[0.4309790209790209,0.4416783216783216,0.5513146853146853,0.5575664335664337],\"xaxis\":\"x\",\"y\":[\"$PE\\\\beta_{mean}$\",\"$PE\\\\gamma_{mean}$\",\"$\\\\alpha_{std}$\",\"$|\\\\alpha|_{std}$\"],\"yaxis\":\"y\",\"type\":\"scatter\"},{\"hovertemplate\":\"Statistical Significance=p < 0.05 FDR corrected<br>sTUT>dTUT              sTUT<dTUT=%{x}<br>=%{y}<extra></extra>\",\"legendgroup\":\"p < 0.05 FDR corrected\",\"marker\":{\"color\":\"#42B9B2\",\"symbol\":\"hexagram\",\"size\":13},\"mode\":\"markers\",\"name\":\"p < 0.05 FDR corrected\",\"orientation\":\"h\",\"showlegend\":true,\"x\":[0.4113006993006993,0.5759440559440561,0.5925034965034965,0.5980279720279721,0.6251468531468533],\"xaxis\":\"x\",\"y\":[\"$|\\\\delta|_{mean}$\",\"$\\\\beta_{mean}$\",\"$|\\\\alpha|_{mean}$\",\"$\\\\alpha_{mean}$\",\"$PE\\\\theta_{mean}$\"],\"yaxis\":\"y\",\"type\":\"scatter\"}],                        {\"template\":{\"data\":{\"barpolar\":[{\"marker\":{\"line\":{\"color\":\"white\",\"width\":0.5},\"pattern\":{\"fillmode\":\"overlay\",\"size\":10,\"solidity\":0.2}},\"type\":\"barpolar\"}],\"bar\":[{\"error_x\":{\"color\":\"#2a3f5f\"},\"error_y\":{\"color\":\"#2a3f5f\"},\"marker\":{\"line\":{\"color\":\"white\",\"width\":0.5},\"pattern\":{\"fillmode\":\"overlay\",\"size\":10,\"solidity\":0.2}},\"type\":\"bar\"}],\"carpet\":[{\"aaxis\":{\"endlinecolor\":\"#2a3f5f\",\"gridcolor\":\"#C8D4E3\",\"linecolor\":\"#C8D4E3\",\"minorgridcolor\":\"#C8D4E3\",\"startlinecolor\":\"#2a3f5f\"},\"baxis\":{\"endlinecolor\":\"#2a3f5f\",\"gridcolor\":\"#C8D4E3\",\"linecolor\":\"#C8D4E3\",\"minorgridcolor\":\"#C8D4E3\",\"startlinecolor\":\"#2a3f5f\"},\"type\":\"carpet\"}],\"choropleth\":[{\"colorbar\":{\"outlinewidth\":0,\"ticks\":\"\"},\"type\":\"choropleth\"}],\"contourcarpet\":[{\"colorbar\":{\"outlinewidth\":0,\"ticks\":\"\"},\"type\":\"contourcarpet\"}],\"contour\":[{\"colorbar\":{\"outlinewidth\":0,\"ticks\":\"\"},\"colorscale\":[[0.0,\"#0d0887\"],[0.1111111111111111,\"#46039f\"],[0.2222222222222222,\"#7201a8\"],[0.3333333333333333,\"#9c179e\"],[0.4444444444444444,\"#bd3786\"],[0.5555555555555556,\"#d8576b\"],[0.6666666666666666,\"#ed7953\"],[0.7777777777777778,\"#fb9f3a\"],[0.8888888888888888,\"#fdca26\"],[1.0,\"#f0f921\"]],\"type\":\"contour\"}],\"heatmapgl\":[{\"colorbar\":{\"outlinewidth\":0,\"ticks\":\"\"},\"colorscale\":[[0.0,\"#0d0887\"],[0.1111111111111111,\"#46039f\"],[0.2222222222222222,\"#7201a8\"],[0.3333333333333333,\"#9c179e\"],[0.4444444444444444,\"#bd3786\"],[0.5555555555555556,\"#d8576b\"],[0.6666666666666666,\"#ed7953\"],[0.7777777777777778,\"#fb9f3a\"],[0.8888888888888888,\"#fdca26\"],[1.0,\"#f0f921\"]],\"type\":\"heatmapgl\"}],\"heatmap\":[{\"colorbar\":{\"outlinewidth\":0,\"ticks\":\"\"},\"colorscale\":[[0.0,\"#0d0887\"],[0.1111111111111111,\"#46039f\"],[0.2222222222222222,\"#7201a8\"],[0.3333333333333333,\"#9c179e\"],[0.4444444444444444,\"#bd3786\"],[0.5555555555555556,\"#d8576b\"],[0.6666666666666666,\"#ed7953\"],[0.7777777777777778,\"#fb9f3a\"],[0.8888888888888888,\"#fdca26\"],[1.0,\"#f0f921\"]],\"type\":\"heatmap\"}],\"histogram2dcontour\":[{\"colorbar\":{\"outlinewidth\":0,\"ticks\":\"\"},\"colorscale\":[[0.0,\"#0d0887\"],[0.1111111111111111,\"#46039f\"],[0.2222222222222222,\"#7201a8\"],[0.3333333333333333,\"#9c179e\"],[0.4444444444444444,\"#bd3786\"],[0.5555555555555556,\"#d8576b\"],[0.6666666666666666,\"#ed7953\"],[0.7777777777777778,\"#fb9f3a\"],[0.8888888888888888,\"#fdca26\"],[1.0,\"#f0f921\"]],\"type\":\"histogram2dcontour\"}],\"histogram2d\":[{\"colorbar\":{\"outlinewidth\":0,\"ticks\":\"\"},\"colorscale\":[[0.0,\"#0d0887\"],[0.1111111111111111,\"#46039f\"],[0.2222222222222222,\"#7201a8\"],[0.3333333333333333,\"#9c179e\"],[0.4444444444444444,\"#bd3786\"],[0.5555555555555556,\"#d8576b\"],[0.6666666666666666,\"#ed7953\"],[0.7777777777777778,\"#fb9f3a\"],[0.8888888888888888,\"#fdca26\"],[1.0,\"#f0f921\"]],\"type\":\"histogram2d\"}],\"histogram\":[{\"marker\":{\"pattern\":{\"fillmode\":\"overlay\",\"size\":10,\"solidity\":0.2}},\"type\":\"histogram\"}],\"mesh3d\":[{\"colorbar\":{\"outlinewidth\":0,\"ticks\":\"\"},\"type\":\"mesh3d\"}],\"parcoords\":[{\"line\":{\"colorbar\":{\"outlinewidth\":0,\"ticks\":\"\"}},\"type\":\"parcoords\"}],\"pie\":[{\"automargin\":true,\"type\":\"pie\"}],\"scatter3d\":[{\"line\":{\"colorbar\":{\"outlinewidth\":0,\"ticks\":\"\"}},\"marker\":{\"colorbar\":{\"outlinewidth\":0,\"ticks\":\"\"}},\"type\":\"scatter3d\"}],\"scattercarpet\":[{\"marker\":{\"colorbar\":{\"outlinewidth\":0,\"ticks\":\"\"}},\"type\":\"scattercarpet\"}],\"scattergeo\":[{\"marker\":{\"colorbar\":{\"outlinewidth\":0,\"ticks\":\"\"}},\"type\":\"scattergeo\"}],\"scattergl\":[{\"marker\":{\"colorbar\":{\"outlinewidth\":0,\"ticks\":\"\"}},\"type\":\"scattergl\"}],\"scattermapbox\":[{\"marker\":{\"colorbar\":{\"outlinewidth\":0,\"ticks\":\"\"}},\"type\":\"scattermapbox\"}],\"scatterpolargl\":[{\"marker\":{\"colorbar\":{\"outlinewidth\":0,\"ticks\":\"\"}},\"type\":\"scatterpolargl\"}],\"scatterpolar\":[{\"marker\":{\"colorbar\":{\"outlinewidth\":0,\"ticks\":\"\"}},\"type\":\"scatterpolar\"}],\"scatter\":[{\"marker\":{\"colorbar\":{\"outlinewidth\":0,\"ticks\":\"\"}},\"type\":\"scatter\"}],\"scatterternary\":[{\"marker\":{\"colorbar\":{\"outlinewidth\":0,\"ticks\":\"\"}},\"type\":\"scatterternary\"}],\"surface\":[{\"colorbar\":{\"outlinewidth\":0,\"ticks\":\"\"},\"colorscale\":[[0.0,\"#0d0887\"],[0.1111111111111111,\"#46039f\"],[0.2222222222222222,\"#7201a8\"],[0.3333333333333333,\"#9c179e\"],[0.4444444444444444,\"#bd3786\"],[0.5555555555555556,\"#d8576b\"],[0.6666666666666666,\"#ed7953\"],[0.7777777777777778,\"#fb9f3a\"],[0.8888888888888888,\"#fdca26\"],[1.0,\"#f0f921\"]],\"type\":\"surface\"}],\"table\":[{\"cells\":{\"fill\":{\"color\":\"#EBF0F8\"},\"line\":{\"color\":\"white\"}},\"header\":{\"fill\":{\"color\":\"#C8D4E3\"},\"line\":{\"color\":\"white\"}},\"type\":\"table\"}]},\"layout\":{\"annotationdefaults\":{\"arrowcolor\":\"#2a3f5f\",\"arrowhead\":0,\"arrowwidth\":1},\"autotypenumbers\":\"strict\",\"coloraxis\":{\"colorbar\":{\"outlinewidth\":0,\"ticks\":\"\"}},\"colorscale\":{\"diverging\":[[0,\"#8e0152\"],[0.1,\"#c51b7d\"],[0.2,\"#de77ae\"],[0.3,\"#f1b6da\"],[0.4,\"#fde0ef\"],[0.5,\"#f7f7f7\"],[0.6,\"#e6f5d0\"],[0.7,\"#b8e186\"],[0.8,\"#7fbc41\"],[0.9,\"#4d9221\"],[1,\"#276419\"]],\"sequential\":[[0.0,\"#0d0887\"],[0.1111111111111111,\"#46039f\"],[0.2222222222222222,\"#7201a8\"],[0.3333333333333333,\"#9c179e\"],[0.4444444444444444,\"#bd3786\"],[0.5555555555555556,\"#d8576b\"],[0.6666666666666666,\"#ed7953\"],[0.7777777777777778,\"#fb9f3a\"],[0.8888888888888888,\"#fdca26\"],[1.0,\"#f0f921\"]],\"sequentialminus\":[[0.0,\"#0d0887\"],[0.1111111111111111,\"#46039f\"],[0.2222222222222222,\"#7201a8\"],[0.3333333333333333,\"#9c179e\"],[0.4444444444444444,\"#bd3786\"],[0.5555555555555556,\"#d8576b\"],[0.6666666666666666,\"#ed7953\"],[0.7777777777777778,\"#fb9f3a\"],[0.8888888888888888,\"#fdca26\"],[1.0,\"#f0f921\"]]},\"colorway\":[\"#636efa\",\"#EF553B\",\"#00cc96\",\"#ab63fa\",\"#FFA15A\",\"#19d3f3\",\"#FF6692\",\"#B6E880\",\"#FF97FF\",\"#FECB52\"],\"font\":{\"color\":\"#2a3f5f\"},\"geo\":{\"bgcolor\":\"white\",\"lakecolor\":\"white\",\"landcolor\":\"white\",\"showlakes\":true,\"showland\":true,\"subunitcolor\":\"#C8D4E3\"},\"hoverlabel\":{\"align\":\"left\"},\"hovermode\":\"closest\",\"mapbox\":{\"style\":\"light\"},\"paper_bgcolor\":\"white\",\"plot_bgcolor\":\"white\",\"polar\":{\"angularaxis\":{\"gridcolor\":\"#EBF0F8\",\"linecolor\":\"#EBF0F8\",\"ticks\":\"\"},\"bgcolor\":\"white\",\"radialaxis\":{\"gridcolor\":\"#EBF0F8\",\"linecolor\":\"#EBF0F8\",\"ticks\":\"\"}},\"scene\":{\"xaxis\":{\"backgroundcolor\":\"white\",\"gridcolor\":\"#DFE8F3\",\"gridwidth\":2,\"linecolor\":\"#EBF0F8\",\"showbackground\":true,\"ticks\":\"\",\"zerolinecolor\":\"#EBF0F8\"},\"yaxis\":{\"backgroundcolor\":\"white\",\"gridcolor\":\"#DFE8F3\",\"gridwidth\":2,\"linecolor\":\"#EBF0F8\",\"showbackground\":true,\"ticks\":\"\",\"zerolinecolor\":\"#EBF0F8\"},\"zaxis\":{\"backgroundcolor\":\"white\",\"gridcolor\":\"#DFE8F3\",\"gridwidth\":2,\"linecolor\":\"#EBF0F8\",\"showbackground\":true,\"ticks\":\"\",\"zerolinecolor\":\"#EBF0F8\"}},\"shapedefaults\":{\"line\":{\"color\":\"#2a3f5f\"}},\"ternary\":{\"aaxis\":{\"gridcolor\":\"#DFE8F3\",\"linecolor\":\"#A2B1C6\",\"ticks\":\"\"},\"baxis\":{\"gridcolor\":\"#DFE8F3\",\"linecolor\":\"#A2B1C6\",\"ticks\":\"\"},\"bgcolor\":\"white\",\"caxis\":{\"gridcolor\":\"#DFE8F3\",\"linecolor\":\"#A2B1C6\",\"ticks\":\"\"}},\"title\":{\"x\":0.05},\"xaxis\":{\"automargin\":true,\"gridcolor\":\"#EBF0F8\",\"linecolor\":\"#EBF0F8\",\"ticks\":\"\",\"title\":{\"standoff\":15},\"zerolinecolor\":\"#EBF0F8\",\"zerolinewidth\":2},\"yaxis\":{\"automargin\":true,\"gridcolor\":\"#EBF0F8\",\"linecolor\":\"#EBF0F8\",\"ticks\":\"\",\"title\":{\"standoff\":15},\"zerolinecolor\":\"#EBF0F8\",\"zerolinewidth\":2}}},\"xaxis\":{\"anchor\":\"y\",\"domain\":[0.0,1.0],\"title\":{\"text\":\"sTUT>dTUT              sTUT<dTUT\"},\"tickfont\":{\"size\":20},\"visible\":true,\"range\":[0.37,0.63]},\"yaxis\":{\"anchor\":\"x\",\"domain\":[0.0,1.0],\"title\":{\"text\":\"\"},\"tickfont\":{\"size\":20},\"autorange\":false,\"automargin\":true,\"range\":[-1,54],\"dtick\":1},\"legend\":{\"title\":{\"text\":\"Statistical Significance\"},\"tracegroupgap\":0},\"margin\":{\"t\":60},\"shapes\":[{\"line\":{\"color\":\"grey\",\"dash\":\"dash\",\"width\":3},\"type\":\"line\",\"x0\":0.5,\"x1\":0.5,\"xref\":\"x\",\"y0\":0,\"y1\":1,\"yref\":\"y domain\"}],\"font\":{\"family\":\"Times new roman\",\"size\":20,\"color\":\"black\"},\"width\":850,\"height\":1300,\"showlegend\":true},                        {\"responsive\": true}                    ).then(function(){\n",
       "                            \n",
       "var gd = document.getElementById('17edc2d1-4ca4-4f93-b8c3-1333e8245a7a');\n",
       "var x = new MutationObserver(function (mutations, observer) {{\n",
       "        var display = window.getComputedStyle(gd).display;\n",
       "        if (!display || display === 'none') {{\n",
       "            console.log([gd, 'removed!']);\n",
       "            Plotly.purge(gd);\n",
       "            observer.disconnect();\n",
       "        }}\n",
       "}});\n",
       "\n",
       "// Listen for the removal of the full notebook cells\n",
       "var notebookContainer = gd.closest('#notebook-container');\n",
       "if (notebookContainer) {{\n",
       "    x.observe(notebookContainer, {childList: true});\n",
       "}}\n",
       "\n",
       "// Listen for the clearing of the current output cell\n",
       "var outputEl = gd.closest('.output');\n",
       "if (outputEl) {{\n",
       "    x.observe(outputEl, {childList: true});\n",
       "}}\n",
       "\n",
       "                        })                };                });            </script>        </div>"
      ]
     },
     "metadata": {},
     "output_type": "display_data"
    }
   ],
   "source": [
    "segment_mw_roc = pd.read_csv(os.path.join(results_path, 'univariate_roc_mw_segment.csv'))\n",
    "\n",
    "# segment_mw_roc = segment_mw_roc.sort_values(by = 'AUC', ascending = False).head(10).append(segment_mw_roc.sort_values(by = 'AUC', ascending = False).tail(10))\n",
    "\n",
    "fig = px.scatter(segment_mw_roc.sort_values(by = 'AUC'),x = 'AUC', y = 'markers', template = \"plotly_white\", symbol = 'significant', \n",
    "                 symbol_sequence = ['circle-open','circle','hexagram' ],\n",
    "#                  color = 'significant',\n",
    "                 color_discrete_sequence = [lblue, green,orange, pink], \n",
    "                 \n",
    "                 category_orders = {'significant': ['p > 0.05','p < 0.05 uncorrected', 'p < 0.05 FDR corrected']},\n",
    "                 labels = {'AUC': 'sTUT>dTUT              sTUT<dTUT', 'significant': 'Statistical Significance', 'markers':''}\n",
    "                )\n",
    "fig.add_vline(x=0.5, line_width=3, line_dash=\"dash\", line_color=\"grey\")\n",
    "fig.update_traces(marker=dict(size = 13))\n",
    "\n",
    "fig.update_layout(\n",
    "    width=850,\n",
    "    height=1300,\n",
    "#     autosize = True, \n",
    "    template = 'plotly_white',\n",
    "        font=dict(\n",
    "        family=\"Times new roman\",\n",
    "        size=20,\n",
    "        color=\"black\"\n",
    "    ),\n",
    "    xaxis = dict(\n",
    "            visible=True,\n",
    "            range = [0.37,0.63], \n",
    "            tickfont = {\"size\": 20},\n",
    "        ),\n",
    "    yaxis = dict(\n",
    "        tickfont = {\"size\": 20},\n",
    "        autorange = False,    \n",
    "        automargin = True,\n",
    "        range = [-1,len(segment_mind_roc)],\n",
    "        dtick = 1\n",
    "        ),\n",
    "    showlegend=True, \n",
    "\n",
    ")\n",
    "\n",
    "fig.show()\n",
    "# pio.write_json(fig, 'Figs/univariate_roc_mw_segment.plotly')\n",
    "fig.write_image( os.path.join(fig_path, 'univariate_roc_mw_segment.png'))\n",
    "fig.write_image( os.path.join(fig_path, 'univariate_roc_mw_segment.pdf'))"
   ]
  },
  {
   "cell_type": "markdown",
   "id": "blind-register",
   "metadata": {},
   "source": [
    "## Probe Caught vs Self-Caught\n"
   ]
  },
  {
   "cell_type": "code",
   "execution_count": 17,
   "id": "ranking-moderator",
   "metadata": {},
   "outputs": [],
   "source": [
    "agg_dict = {k:['mean', 'std'] for k in markers }\n",
    "agg_dict.update({k:'first' for k in df_markers.drop(markers, axis=1).columns})\n",
    "\n",
    "df_probe = (\n",
    "    df_markers\n",
    "    .query(\"mind != 'on-task'\")\n",
    "    .groupby(['segment', 'participant'], as_index = False).agg(agg_dict)\n",
    ")\n",
    "\n",
    "# df_probe.columns = df_probe.columns.map(\"_\".join)\n",
    "\n",
    "# df_probe  = (df_probe\n",
    "#             .rename(columns = {'participant_first':'participant', 'probe_first':'probe', 'mind_first':'mind', 'segment_first':'segment'})\n",
    "#             .drop(['participant', 'mind', 'segment'], axis = 1) \n",
    "#            )\n",
    "\n",
    "#### Use latex command for nmaes###\n",
    "##it slow downs the computer, just for final figures.\n",
    "\n",
    "df_probe = correct_name_markers(df_probe)\n",
    "\n",
    "df_probe.columns = df_probe.columns.map(\"$_{\".join).map(lambda x: x + '}$').map(lambda x: x.replace('$$', ''))\n",
    "\n",
    "df_probe  = (df_probe\n",
    "            .rename(columns = {'participant$_{first}$':'participant', 'probe$_{first}$':'probe', 'mind$_{first}$':'mind', 'segment$_{first}$':'segment'})\n",
    "           \n",
    "            .drop(['participant', 'mind', 'segment'], axis = 1) \n",
    "           )"
   ]
  },
  {
   "cell_type": "code",
   "execution_count": 19,
   "id": "preliminary-variable",
   "metadata": {},
   "outputs": [
    {
     "name": "stdout",
     "output_type": "stream",
     "text": [
      "SC 536, PC: 82\n",
      "AUC $wSMI\\gamma_{mean}$ = 0.4805175490779299 MannwhitneyuResult(statistic=3231.0, pvalue=0.6677869786100235)\n",
      "AUC $wSMI\\gamma_{std}$ = 0.46519928613920286 MannwhitneyuResult(statistic=3128.0, pvalue=0.44252716973948825)\n",
      "AUC $wSMI\\beta_{mean}$ = 0.5001487209994051 MannwhitneyuResult(statistic=3363.0, pvalue=0.9986879628094777)\n",
      "AUC $wSMI\\beta_{std}$ = 0.5028256989886972 MannwhitneyuResult(statistic=3381.0, pvalue=0.9514845365519969)\n",
      "AUC $wSMI\\alpha_{mean}$ = 0.5355443188578228 MannwhitneyuResult(statistic=3601.0, pvalue=0.43281913312030584)\n",
      "AUC $wSMI\\alpha_{std}$ = 0.5093694229625223 MannwhitneyuResult(statistic=3425.0, pvalue=0.8371428769757068)\n",
      "AUC $wSMI\\theta_{mean}$ = 0.5553242117787031 MannwhitneyuResult(statistic=3734.0, pvalue=0.22178861827367669)\n",
      "AUC $wSMI\\theta_{std}$ = 0.48393813206424746 MannwhitneyuResult(statistic=3254.0, pvalue=0.7236798744881828)\n",
      "AUC $PE\\gamma_{mean}$ = 0.4867638310529447 MannwhitneyuResult(statistic=3273.0, pvalue=0.7710069583144967)\n",
      "AUC $PE\\gamma_{std}$ = 0.49345627602617487 MannwhitneyuResult(statistic=3318.0, pvalue=0.8862408931225517)\n",
      "AUC $PE\\beta_{mean}$ = 0.5160618679357525 MannwhitneyuResult(statistic=3470.0, pvalue=0.7236798744881828)\n",
      "AUC $PE\\beta_{std}$ = 0.5220107079119573 MannwhitneyuResult(statistic=3510.0, pvalue=0.6276077721853395)\n",
      "AUC $PE\\alpha_{mean}$ = 0.4886972040452112 MannwhitneyuResult(statistic=3286.0, pvalue=0.8038994205142501)\n",
      "AUC $PE\\alpha_{std}$ = 0.5044616299821535 MannwhitneyuResult(statistic=3392.0, pvalue=0.9227110401398467)\n",
      "AUC $PE\\theta_{mean}$ = 0.49895895300416415 MannwhitneyuResult(statistic=3355.0, pvalue=0.9829448078326892)\n",
      "AUC $PE\\theta_{std}$ = 0.5508625817965497 MannwhitneyuResult(statistic=3704.0, pvalue=0.2613856298449827)\n",
      "AUC $K_{mean}$ = 0.4453450327186199 MannwhitneyuResult(statistic=2994.5, pvalue=0.22743457559145897)\n",
      "AUC $K_{std}$ = 0.5074360499702558 MannwhitneyuResult(statistic=3412.0, pvalue=0.8706792875518846)\n",
      "AUC $SE_{mean}$ = 0.47471743010113027 MannwhitneyuResult(statistic=3192.0, pvalue=0.5772199607699021)\n",
      "AUC $SE_{std}$ = 0.4303985722784057 MannwhitneyuResult(statistic=2894.0, pvalue=0.12416851874821175)\n",
      "AUC $MSF_{mean}$ = 0.46936347412254614 MannwhitneyuResult(statistic=3156.0, pvalue=0.4991380758483822)\n"
     ]
    },
    {
     "name": "stdout",
     "output_type": "stream",
     "text": [
      "AUC $MSF_{std}$ = 0.46460440214158233 MannwhitneyuResult(statistic=3124.0, pvalue=0.43475081989767006)\n",
      "AUC $SEF90_{mean}$ = 0.4884741225461035 MannwhitneyuResult(statistic=3284.5, pvalue=0.8000850149280309)\n",
      "AUC $SEF90_{std}$ = 0.45226055919095776 MannwhitneyuResult(statistic=3041.0, pvalue=0.2918565852096886)\n",
      "AUC $SEF95_{mean}$ = 0.4842355740630577 MannwhitneyuResult(statistic=3256.0, pvalue=0.7286157721304451)\n",
      "AUC $SEF95_{std}$ = 0.470553242117787 MannwhitneyuResult(statistic=3164.0, pvalue=0.5159918412210651)\n",
      "AUC $\\beta_{mean}$ = 0.5132361689470553 MannwhitneyuResult(statistic=3451.0, pvalue=0.7710069583144967)\n",
      "AUC $\\beta_{std}$ = 0.4950922070196312 MannwhitneyuResult(statistic=3329.0, pvalue=0.9148796519591063)\n",
      "AUC $|\\beta|_{mean}$ = 0.4629684711481261 MannwhitneyuResult(statistic=3113.0, pvalue=0.4137772529749967)\n",
      "AUC $|\\beta|_{std}$ = 0.46460440214158244 MannwhitneyuResult(statistic=3124.0, pvalue=0.43475081989767006)\n",
      "AUC $\\gamma_{mean}$ = 0.4863176680547293 MannwhitneyuResult(statistic=3270.0, pvalue=0.7634721615203954)\n",
      "AUC $\\gamma_{std}$ = 0.49256395002974424 MannwhitneyuResult(statistic=3312.0, pvalue=0.8706797234727477)\n",
      "AUC $|\\gamma|_{mean}$ = 0.48557406305770373 MannwhitneyuResult(statistic=3265.0, pvalue=0.7509641337963732)\n",
      "AUC $|\\gamma|_{std}$ = 0.4821534800713861 MannwhitneyuResult(statistic=3242.0, pvalue=0.6943117080246863)\n",
      "AUC $\\theta_{mean}$ = 0.5325698988697204 MannwhitneyuResult(statistic=3581.0, pvalue=0.4723868995118994)\n",
      "AUC $\\theta_{std}$ = 0.49717430101130283 MannwhitneyuResult(statistic=3343.0, pvalue=0.9514845365519969)\n",
      "AUC $|\\theta|_{mean}$ = 0.579417013682332 MannwhitneyuResult(statistic=3896.0, pvalue=0.07933288682382571)\n",
      "AUC $|\\theta|_{std}$ = 0.6067816775728734 MannwhitneyuResult(statistic=4080.0, pvalue=0.01828934718695914)\n",
      "AUC $\\delta_{mean}$ = 0.565288518738846 MannwhitneyuResult(statistic=3801.0, pvalue=0.1492643342051341)\n",
      "AUC $\\delta_{std}$ = 0.4582093991671624 MannwhitneyuResult(statistic=3081.0, pvalue=0.35626476683245134)\n",
      "AUC $|\\delta|_{mean}$ = 0.5148720999405116 MannwhitneyuResult(statistic=3462.0, pvalue=0.7434903740338905)\n",
      "AUC $|\\delta|_{std}$ = 0.5022308149910768 MannwhitneyuResult(statistic=3377.0, pvalue=0.9619653206173335)\n",
      "AUC $|\\alpha|_{mean}$ = 0.45582986317668056 MannwhitneyuResult(statistic=3065.0, pvalue=0.3294974992787124)\n",
      "AUC $|\\alpha|_{std}$ = 0.5148720999405115 MannwhitneyuResult(statistic=3462.0, pvalue=0.7434903740338905)\n",
      "AUC $\\alpha_{mean}$ = 0.5127900059488399 MannwhitneyuResult(statistic=3448.0, pvalue=0.7785634236072163)\n",
      "AUC $\\alpha_{std}$ = 0.5148720999405116 MannwhitneyuResult(statistic=3462.0, pvalue=0.7434903740338905)\n",
      "AUC $CNV_{mean}$ = 0.35276621058893515 MannwhitneyuResult(statistic=2372.0, pvalue=0.0011368869891657473)\n",
      "AUC $CNV_{std}$ = 0.4906305770374777 MannwhitneyuResult(statistic=3299.0, pvalue=0.8371428769757068)\n",
      "AUC $P1_{mean}$ = 0.5487804878048781 MannwhitneyuResult(statistic=3690.0, pvalue=0.2814449502919618)\n",
      "AUC $P1_{std}$ = 0.48364069006543725 MannwhitneyuResult(statistic=3252.0, pvalue=0.7187554417577724)\n",
      "AUC $P3a_{mean}$ = 0.44690660321237363 MannwhitneyuResult(statistic=3005.0, pvalue=0.24101483335813323)\n",
      "AUC $P3a_{std}$ = 0.5356930398572278 MannwhitneyuResult(statistic=3602.0, pvalue=0.43089242299418107)\n",
      "AUC $P3b_{mean}$ = 0.5261748958953004 MannwhitneyuResult(statistic=3538.0, pvalue=0.5638159609206187)\n",
      "AUC $P3b_{std}$ = 0.5510113027959549 MannwhitneyuResult(statistic=3705.0, pvalue=0.259991627600757)\n",
      "AUC $wSMI\\gamma_{mean}$ = 0.427800943974159 MannwhitneyuResult(statistic=122905.5, pvalue=4.269569329332867e-05)\n",
      "AUC $wSMI\\gamma_{std}$ = 0.43507393071953665 MannwhitneyuResult(statistic=124995.0, pvalue=0.0002331161594680313)\n",
      "AUC $wSMI\\beta_{mean}$ = 0.4799022610826465 MannwhitneyuResult(statistic=137874.0, pvalue=0.2546578468904096)\n",
      "AUC $wSMI\\beta_{std}$ = 0.4637133827132992 MannwhitneyuResult(statistic=133223.0, pvalue=0.039710416603978664)\n",
      "AUC $wSMI\\alpha_{mean}$ = 0.48971444085542437 MannwhitneyuResult(statistic=140693.0, pvalue=0.5599462432043114)\n",
      "AUC $wSMI\\alpha_{std}$ = 0.4942881209623524 MannwhitneyuResult(statistic=142007.0, pvalue=0.7461880215848147)\n",
      "AUC $wSMI\\theta_{mean}$ = 0.5124871212965025 MannwhitneyuResult(statistic=147235.5, pvalue=0.47912332374906286)\n",
      "AUC $wSMI\\theta_{std}$ = 0.48989543885052345 MannwhitneyuResult(statistic=140745.0, pvalue=0.5668737187449617)\n",
      "AUC $PE\\gamma_{mean}$ = 0.4506954499888617 MannwhitneyuResult(statistic=129483.0, pvalue=0.005195614096968986)\n",
      "AUC $PE\\gamma_{std}$ = 0.5678881710848741 MannwhitneyuResult(statistic=163152.0, pvalue=0.00011907113996192662)\n",
      "AUC $PE\\beta_{mean}$ = 0.4882455725105814 MannwhitneyuResult(statistic=140271.0, pvalue=0.5052949410458035)\n",
      "AUC $PE\\beta_{std}$ = 0.5308775618177768 MannwhitneyuResult(statistic=152519.0, pvalue=0.08009326798955858)\n",
      "AUC $PE\\alpha_{mean}$ = 0.4552621686344398 MannwhitneyuResult(statistic=130795.0, pvalue=0.011219342977118369)\n",
      "AUC $PE\\alpha_{std}$ = 0.5123670360882157 MannwhitneyuResult(statistic=147201.0, pvalue=0.483361396499722)\n",
      "AUC $PE\\theta_{mean}$ = 0.48985889117843623 MannwhitneyuResult(statistic=140734.5, pvalue=0.5654715947369124)\n",
      "AUC $PE\\theta_{std}$ = 0.5131362775673869 MannwhitneyuResult(statistic=147422.0, pvalue=0.4565682100949723)\n",
      "AUC $K_{mean}$ = 0.41417736411227446 MannwhitneyuResult(statistic=118991.5, pvalue=1.1467787286397783e-06)\n",
      "AUC $K_{std}$ = 0.5019874972154155 MannwhitneyuResult(statistic=144219.0, pvalue=0.9103798634964813)\n",
      "AUC $SE_{mean}$ = 0.43853029627979506 MannwhitneyuResult(statistic=125988.0, pvalue=0.0004935912640998331)\n",
      "AUC $SE_{std}$ = 0.466257796836712 MannwhitneyuResult(statistic=133954.0, pvalue=0.05580919039671123)\n",
      "AUC $MSF_{mean}$ = 0.44079973267988415 MannwhitneyuResult(statistic=126640.0, pvalue=0.0007920126142057196)\n",
      "AUC $MSF_{std}$ = 0.49617989808420576 MannwhitneyuResult(statistic=142550.5, pvalue=0.8286467023855293)\n",
      "AUC $SEF90_{mean}$ = 0.44177955836489197 MannwhitneyuResult(statistic=126921.5, pvalue=0.0009667402247175589)\n",
      "AUC $SEF90_{std}$ = 0.45792840833147697 MannwhitneyuResult(statistic=131561.0, pvalue=0.01709489643638612)\n",
      "AUC $SEF95_{mean}$ = 0.439181192916017 MannwhitneyuResult(statistic=126175.0, pvalue=0.0005661870965477945)\n",
      "AUC $SEF95_{std}$ = 0.4615361856760971 MannwhitneyuResult(statistic=132597.5, pvalue=0.029245646576560924)\n",
      "AUC $\\beta_{mean}$ = 0.4852260386500334 MannwhitneyuResult(statistic=139403.5, pvalue=0.40240201045170243)\n",
      "AUC $\\beta_{std}$ = 0.5498614669191356 MannwhitneyuResult(statistic=157973.0, pvalue=0.004710140130715354)\n",
      "AUC $|\\beta|_{mean}$ = 0.4529648863889507 MannwhitneyuResult(statistic=130135.0, pvalue=0.0076757542580768254)\n",
      "AUC $|\\beta|_{std}$ = 0.5065402929382936 MannwhitneyuResult(statistic=145527.0, pvalue=0.710915294347337)\n",
      "AUC $\\gamma_{mean}$ = 0.4315583927378035 MannwhitneyuResult(statistic=123985.0, pvalue=0.00010471387514937406)\n",
      "AUC $\\gamma_{std}$ = 0.5135957340164847 MannwhitneyuResult(statistic=147554.0, pvalue=0.4409718247251945)\n",
      "AUC $|\\gamma|_{mean}$ = 0.44475036199599016 MannwhitneyuResult(statistic=127775.0, pvalue=0.0017383511924476788)\n",
      "AUC $|\\gamma|_{std}$ = 0.4662995656048118 MannwhitneyuResult(statistic=133966.0, pvalue=0.056113252103471435)\n",
      "AUC $\\theta_{mean}$ = 0.5281904377366896 MannwhitneyuResult(statistic=151747.0, pvalue=0.11008082602904061)\n",
      "AUC $\\theta_{std}$ = 0.5105674983292492 MannwhitneyuResult(statistic=146684.0, pvalue=0.5492378273557865)\n",
      "AUC $|\\theta|_{mean}$ = 0.6146448262419247 MannwhitneyuResult(statistic=176585.0, pvalue=8.120311694840918e-11)\n",
      "AUC $|\\theta|_{std}$ = 0.5654655825350858 MannwhitneyuResult(statistic=162456.0, pvalue=0.00020667856661045115)\n",
      "AUC $\\delta_{mean}$ = 0.519171864557808 MannwhitneyuResult(statistic=149156.0, pvalue=0.2772017028804302)\n",
      "AUC $\\delta_{std}$ = 0.45964092782356875 MannwhitneyuResult(statistic=132053.0, pvalue=0.022161467793646746)\n",
      "AUC $|\\delta|_{mean}$ = 0.5093492425930051 MannwhitneyuResult(statistic=146334.0, pvalue=0.5962174660853048)\n",
      "AUC $|\\delta|_{std}$ = 0.4993560648251281 MannwhitneyuResult(statistic=143463.0, pvalue=0.970962013450659)\n",
      "AUC $|\\alpha|_{mean}$ = 0.4605772443751392 MannwhitneyuResult(statistic=132322.0, pvalue=0.0254491788361989)\n",
      "AUC $|\\alpha|_{std}$ = 0.508545193807084 MannwhitneyuResult(statistic=146103.0, pvalue=0.6281931221053625)\n",
      "AUC $\\alpha_{mean}$ = 0.4981030017821341 MannwhitneyuResult(statistic=143103.0, pvalue=0.9144481926311596)\n",
      "AUC $\\alpha_{std}$ = 0.4975426041434618 MannwhitneyuResult(statistic=142942.0, pvalue=0.8892962227928264)\n",
      "AUC $CNV_{mean}$ = 0.3944955725105814 MannwhitneyuResult(statistic=113337.0, pvalue=2.2280044402244465e-09)\n",
      "AUC $CNV_{std}$ = 0.47956463020717305 MannwhitneyuResult(statistic=137777.0, pvalue=0.2467633829509437)\n",
      "AUC $P1_{mean}$ = 0.5014027344620182 MannwhitneyuResult(statistic=144051.0, pvalue=0.9367040918092825)\n",
      "AUC $P1_{std}$ = 0.48525562486077073 MannwhitneyuResult(statistic=139412.0, pvalue=0.4033450738272417)\n",
      "AUC $P3a_{mean}$ = 0.45074766094898644 MannwhitneyuResult(statistic=129498.0, pvalue=0.005243369399142303)\n",
      "AUC $P3a_{std}$ = 0.4737413677879261 MannwhitneyuResult(statistic=136104.0, pvalue=0.1366642202120325)\n",
      "AUC $P3b_{mean}$ = 0.5234636054800623 MannwhitneyuResult(statistic=150389.0, pvalue=0.18355213024211137)\n",
      "AUC $P3b_{std}$ = 0.5342364669191356 MannwhitneyuResult(statistic=153484.0, pvalue=0.0523141977488794)\n"
     ]
    }
   ],
   "source": [
    "sc = df_probe[df_probe.probe == 'SC']\n",
    "pc = df_probe[df_probe.probe == 'PC']\n",
    "print(f'SC {len(sc)}, PC: {len(pc)}')\n",
    "\n",
    "AUC = []\n",
    "pvalues = {}\n",
    "for i in df_probe.drop('probe', axis = 1).columns:\n",
    "    rus = RandomUnderSampler(random_state=42, replacement=True)# fit predictor and target variable\n",
    "\n",
    "    probe_rus = rus.fit_resample(df_probe[i].astype(\"float32\").values.reshape(-1,1), df_probe.probe)\n",
    "\n",
    "    df_probe_rus = pd.DataFrame(probe_rus[0], columns =['marker']).assign(probe = probe_rus[1])\n",
    "    \n",
    "    sc = df_probe_rus.query(\"probe == 'SC'\")['marker']\n",
    "    pc = df_probe_rus.query(\"probe == 'PC'\")['marker']\n",
    "    auc = roc_auc_score(df_probe_rus['probe'], df_probe_rus['marker'])\n",
    "    print(f'AUC {i} = {auc}', f'{mannwhitneyu(x = sc, y = pc)}')\n",
    "    AUC.append([i, auc])\n",
    "    pvalues[i] = mannwhitneyu(x = sc, y =pc).pvalue \n",
    "        \n",
    "probe_roc = pd.DataFrame(AUC, columns = ['markers', 'AUC'])\n",
    "\n",
    "p_df =pd.DataFrame.from_dict(pvalues, orient = 'index', columns = ['p_value']).reset_index().rename(columns ={'index': 'markers'})\n",
    "probe_roc_rus = (probe_roc\n",
    "            .merge(p_df, on = 'markers', how = 'inner')\n",
    "            .assign(\n",
    "                    p_corrected = lambda df: multipletests(df.p_value, method = 'fdr_bh')[1],\n",
    "                    significant = lambda df: np.select([(df.p_value < 0.05) & (df.p_corrected < 0.05), (df.p_value < 0.05) & (df.p_corrected > 0.05),  \n",
    "                                                 (df.p_value > 0.05) & (df.p_corrected > 0.05)], ['p < 0.05 FDR corrected','p < 0.05 uncorrected', 'p > 0.05']),\n",
    "                                    balance = 'under-sample'\n",
    "                   )\n",
    "           )\n",
    "\n",
    "AUC = []\n",
    "pvalues = {}\n",
    "for i in df_probe.drop('probe', axis = 1).columns:\n",
    "    ros = SMOTE(random_state=42)# fit predictor and target variable\n",
    "\n",
    "    probe_ros = ros.fit_resample(df_probe[i].astype(\"float32\").values.reshape(-1,1), df_probe.probe)\n",
    "\n",
    "    df_probe_ros = pd.DataFrame(probe_ros[0], columns =['marker']).assign(probe = probe_ros[1])\n",
    "    \n",
    "    sc = df_probe_ros.query(\"probe == 'SC'\")['marker']\n",
    "    pc = df_probe_ros.query(\"probe == 'PC'\")['marker']\n",
    "    auc = roc_auc_score(df_probe_ros['probe'], df_probe_ros['marker'])\n",
    "    print(f'AUC {i} = {auc}', f'{mannwhitneyu(x = sc, y = pc)}')\n",
    "    AUC.append([i, auc])\n",
    "    pvalues[i] = mannwhitneyu(x = sc, y =pc).pvalue \n",
    "        \n",
    "probe_roc = pd.DataFrame(AUC, columns = ['markers', 'AUC'])\n",
    "\n",
    "p_df =pd.DataFrame.from_dict(pvalues, orient = 'index', columns = ['p_value']).reset_index().rename(columns ={'index': 'markers'})\n",
    "probe_roc_ros = (probe_roc\n",
    "            .merge(p_df, on = 'markers', how = 'inner')\n",
    "            .assign(\n",
    "                    p_corrected = lambda df: multipletests(df.p_value, method = 'fdr_bh')[1],\n",
    "                    significant = lambda df: np.select([(df.p_value < 0.05) & (df.p_corrected < 0.05), (df.p_value < 0.05) & (df.p_corrected > 0.05),  \n",
    "                                                 (df.p_value > 0.05) & (df.p_corrected > 0.05)], ['p < 0.05 FDR corrected','p < 0.05 uncorrected', 'p > 0.05']),\n",
    "                    balance = 'over-sample'\n",
    "                   )\n",
    "           )"
   ]
  },
  {
   "cell_type": "code",
   "execution_count": 21,
   "id": "sixth-racing",
   "metadata": {},
   "outputs": [
    {
     "data": {
      "application/vnd.plotly.v1+json": {
       "config": {
        "plotlyServerURL": "https://plot.ly"
       },
       "data": [
        {
         "hovertemplate": "significant=p > 0.05<br>balance=under-sample<br>PC>SC                PC<SC=%{x}<br>markers=%{y}<extra></extra>",
         "legendgroup": "p > 0.05",
         "marker": {
          "color": "#F38A31",
          "size": 8,
          "symbol": "circle-open"
         },
         "mode": "markers",
         "name": "p > 0.05",
         "orientation": "h",
         "showlegend": true,
         "type": "scatter",
         "x": [
          0.4303985722784057,
          0.4453450327186199,
          0.44690660321237363,
          0.45226055919095776,
          0.45582986317668056,
          0.4582093991671624,
          0.4629684711481261,
          0.46460440214158233,
          0.46460440214158244,
          0.46519928613920286,
          0.46936347412254614,
          0.470553242117787,
          0.47471743010113027,
          0.4805175490779299,
          0.4821534800713861,
          0.48364069006543725,
          0.48393813206424746,
          0.4842355740630577,
          0.48557406305770373,
          0.4863176680547293,
          0.4867638310529447,
          0.4884741225461035,
          0.4886972040452112,
          0.4906305770374777,
          0.49256395002974424,
          0.49345627602617487,
          0.4950922070196312,
          0.49717430101130283,
          0.49895895300416415,
          0.5001487209994051,
          0.5022308149910768,
          0.5028256989886972,
          0.5044616299821535,
          0.5074360499702558,
          0.5093694229625223,
          0.5127900059488399,
          0.5132361689470553,
          0.5148720999405115,
          0.5148720999405116,
          0.5148720999405116,
          0.5160618679357525,
          0.5220107079119573,
          0.5261748958953004,
          0.5325698988697204,
          0.5355443188578228,
          0.5356930398572278,
          0.5487804878048781,
          0.5508625817965497,
          0.5510113027959549,
          0.5553242117787031,
          0.565288518738846,
          0.579417013682332
         ],
         "xaxis": "x",
         "y": [
          "$SE_{std}$",
          "$K_{mean}$",
          "$P3a_{mean}$",
          "$SEF90_{std}$",
          "$|\\alpha|_{mean}$",
          "$\\delta_{std}$",
          "$|\\beta|_{mean}$",
          "$MSF_{std}$",
          "$|\\beta|_{std}$",
          "$wSMI\\gamma_{std}$",
          "$MSF_{mean}$",
          "$SEF95_{std}$",
          "$SE_{mean}$",
          "$wSMI\\gamma_{mean}$",
          "$|\\gamma|_{std}$",
          "$P1_{std}$",
          "$wSMI\\theta_{std}$",
          "$SEF95_{mean}$",
          "$|\\gamma|_{mean}$",
          "$\\gamma_{mean}$",
          "$PE\\gamma_{mean}$",
          "$SEF90_{mean}$",
          "$PE\\alpha_{mean}$",
          "$CNV_{std}$",
          "$\\gamma_{std}$",
          "$PE\\gamma_{std}$",
          "$\\beta_{std}$",
          "$\\theta_{std}$",
          "$PE\\theta_{mean}$",
          "$wSMI\\beta_{mean}$",
          "$|\\delta|_{std}$",
          "$wSMI\\beta_{std}$",
          "$PE\\alpha_{std}$",
          "$K_{std}$",
          "$wSMI\\alpha_{std}$",
          "$\\alpha_{mean}$",
          "$\\beta_{mean}$",
          "$|\\alpha|_{std}$",
          "$|\\delta|_{mean}$",
          "$\\alpha_{std}$",
          "$PE\\beta_{mean}$",
          "$PE\\beta_{std}$",
          "$P3b_{mean}$",
          "$\\theta_{mean}$",
          "$wSMI\\alpha_{mean}$",
          "$P3a_{std}$",
          "$P1_{mean}$",
          "$PE\\theta_{std}$",
          "$P3b_{std}$",
          "$wSMI\\theta_{mean}$",
          "$\\delta_{mean}$",
          "$|\\theta|_{mean}$"
         ],
         "yaxis": "y"
        },
        {
         "hovertemplate": "significant=p > 0.05<br>balance=over-sample<br>PC>SC                PC<SC=%{x}<br>markers=%{y}<extra></extra>",
         "legendgroup": "p > 0.05",
         "marker": {
          "color": "#F38A31",
          "size": 8,
          "symbol": "circle-open"
         },
         "mode": "markers",
         "name": "p > 0.05",
         "orientation": "h",
         "showlegend": false,
         "type": "scatter",
         "x": [
          0.466257796836712,
          0.4662995656048118,
          0.4737413677879261,
          0.47956463020717305,
          0.4799022610826465,
          0.4852260386500334,
          0.48525562486077073,
          0.4882455725105814,
          0.48971444085542437,
          0.48985889117843623,
          0.48989543885052345,
          0.4942881209623524,
          0.49617989808420576,
          0.4975426041434618,
          0.4981030017821341,
          0.4993560648251281,
          0.5014027344620182,
          0.5019874972154155,
          0.5065402929382936,
          0.508545193807084,
          0.5093492425930051,
          0.5105674983292492,
          0.5123670360882157,
          0.5124871212965025,
          0.5131362775673869,
          0.5135957340164847,
          0.519171864557808,
          0.5234636054800623,
          0.5281904377366896,
          0.5308775618177768,
          0.5342364669191356
         ],
         "xaxis": "x2",
         "y": [
          "$SE_{std}$",
          "$|\\gamma|_{std}$",
          "$P3a_{std}$",
          "$CNV_{std}$",
          "$wSMI\\beta_{mean}$",
          "$\\beta_{mean}$",
          "$P1_{std}$",
          "$PE\\beta_{mean}$",
          "$wSMI\\alpha_{mean}$",
          "$PE\\theta_{mean}$",
          "$wSMI\\theta_{std}$",
          "$wSMI\\alpha_{std}$",
          "$MSF_{std}$",
          "$\\alpha_{std}$",
          "$\\alpha_{mean}$",
          "$|\\delta|_{std}$",
          "$P1_{mean}$",
          "$K_{std}$",
          "$|\\beta|_{std}$",
          "$|\\alpha|_{std}$",
          "$|\\delta|_{mean}$",
          "$\\theta_{std}$",
          "$PE\\alpha_{std}$",
          "$wSMI\\theta_{mean}$",
          "$PE\\theta_{std}$",
          "$\\gamma_{std}$",
          "$\\delta_{mean}$",
          "$P3b_{mean}$",
          "$\\theta_{mean}$",
          "$PE\\beta_{std}$",
          "$P3b_{std}$"
         ],
         "yaxis": "y2"
        },
        {
         "hovertemplate": "significant=p < 0.05 uncorrected<br>balance=under-sample<br>PC>SC                PC<SC=%{x}<br>markers=%{y}<extra></extra>",
         "legendgroup": "p < 0.05 uncorrected",
         "marker": {
          "color": "#F38A31",
          "size": 8,
          "symbol": "circle"
         },
         "mode": "markers",
         "name": "p < 0.05 uncorrected",
         "orientation": "h",
         "showlegend": true,
         "type": "scatter",
         "x": [
          0.35276621058893515,
          0.6067816775728734
         ],
         "xaxis": "x",
         "y": [
          "$CNV_{mean}$",
          "$|\\theta|_{std}$"
         ],
         "yaxis": "y"
        },
        {
         "hovertemplate": "significant=p < 0.05 uncorrected<br>balance=over-sample<br>PC>SC                PC<SC=%{x}<br>markers=%{y}<extra></extra>",
         "legendgroup": "p < 0.05 uncorrected",
         "marker": {
          "color": "#F38A31",
          "size": 8,
          "symbol": "circle"
         },
         "mode": "markers",
         "name": "p < 0.05 uncorrected",
         "orientation": "h",
         "showlegend": false,
         "type": "scatter",
         "x": [
          0.45964092782356875,
          0.4605772443751392,
          0.4615361856760971,
          0.4637133827132992
         ],
         "xaxis": "x2",
         "y": [
          "$\\delta_{std}$",
          "$|\\alpha|_{mean}$",
          "$SEF95_{std}$",
          "$wSMI\\beta_{std}$"
         ],
         "yaxis": "y2"
        },
        {
         "hovertemplate": "significant=p < 0.05 FDR corrected<br>balance=over-sample<br>PC>SC                PC<SC=%{x}<br>markers=%{y}<extra></extra>",
         "legendgroup": "p < 0.05 FDR corrected",
         "marker": {
          "color": "#F38A31",
          "size": 8,
          "symbol": "hexagram"
         },
         "mode": "markers",
         "name": "p < 0.05 FDR corrected",
         "orientation": "h",
         "showlegend": true,
         "type": "scatter",
         "x": [
          0.3944955725105814,
          0.41417736411227446,
          0.427800943974159,
          0.4315583927378035,
          0.43507393071953665,
          0.43853029627979506,
          0.439181192916017,
          0.44079973267988415,
          0.44177955836489197,
          0.44475036199599016,
          0.4506954499888617,
          0.45074766094898644,
          0.4529648863889507,
          0.4552621686344398,
          0.45792840833147697,
          0.5498614669191356,
          0.5654655825350858,
          0.5678881710848741,
          0.6146448262419247
         ],
         "xaxis": "x2",
         "y": [
          "$CNV_{mean}$",
          "$K_{mean}$",
          "$wSMI\\gamma_{mean}$",
          "$\\gamma_{mean}$",
          "$wSMI\\gamma_{std}$",
          "$SE_{mean}$",
          "$SEF95_{mean}$",
          "$MSF_{mean}$",
          "$SEF90_{mean}$",
          "$|\\gamma|_{mean}$",
          "$PE\\gamma_{mean}$",
          "$P3a_{mean}$",
          "$|\\beta|_{mean}$",
          "$PE\\alpha_{mean}$",
          "$SEF90_{std}$",
          "$\\beta_{std}$",
          "$|\\theta|_{std}$",
          "$PE\\gamma_{std}$",
          "$|\\theta|_{mean}$"
         ],
         "yaxis": "y2"
        }
       ],
       "layout": {
        "annotations": [
         {
          "showarrow": false,
          "text": "balance=under-sample",
          "x": 0.245,
          "xanchor": "center",
          "xref": "paper",
          "y": 1,
          "yanchor": "bottom",
          "yref": "paper"
         },
         {
          "showarrow": false,
          "text": "balance=over-sample",
          "x": 0.755,
          "xanchor": "center",
          "xref": "paper",
          "y": 1,
          "yanchor": "bottom",
          "yref": "paper"
         }
        ],
        "autosize": false,
        "height": 800,
        "legend": {
         "title": {
          "text": "significant"
         },
         "tracegroupgap": 0
        },
        "margin": {
         "t": 60
        },
        "shapes": [
         {
          "line": {
           "color": "black",
           "dash": "dash",
           "width": 3
          },
          "type": "line",
          "x0": 0.5,
          "x1": 0.5,
          "xref": "x",
          "y0": 0,
          "y1": 1,
          "yref": "y domain"
         },
         {
          "line": {
           "color": "black",
           "dash": "dash",
           "width": 3
          },
          "type": "line",
          "x0": 0.5,
          "x1": 0.5,
          "xref": "x2",
          "y0": 0,
          "y1": 1,
          "yref": "y2 domain"
         }
        ],
        "template": {
         "data": {
          "bar": [
           {
            "error_x": {
             "color": "#2a3f5f"
            },
            "error_y": {
             "color": "#2a3f5f"
            },
            "marker": {
             "line": {
              "color": "white",
              "width": 0.5
             },
             "pattern": {
              "fillmode": "overlay",
              "size": 10,
              "solidity": 0.2
             }
            },
            "type": "bar"
           }
          ],
          "barpolar": [
           {
            "marker": {
             "line": {
              "color": "white",
              "width": 0.5
             },
             "pattern": {
              "fillmode": "overlay",
              "size": 10,
              "solidity": 0.2
             }
            },
            "type": "barpolar"
           }
          ],
          "carpet": [
           {
            "aaxis": {
             "endlinecolor": "#2a3f5f",
             "gridcolor": "#C8D4E3",
             "linecolor": "#C8D4E3",
             "minorgridcolor": "#C8D4E3",
             "startlinecolor": "#2a3f5f"
            },
            "baxis": {
             "endlinecolor": "#2a3f5f",
             "gridcolor": "#C8D4E3",
             "linecolor": "#C8D4E3",
             "minorgridcolor": "#C8D4E3",
             "startlinecolor": "#2a3f5f"
            },
            "type": "carpet"
           }
          ],
          "choropleth": [
           {
            "colorbar": {
             "outlinewidth": 0,
             "ticks": ""
            },
            "type": "choropleth"
           }
          ],
          "contour": [
           {
            "colorbar": {
             "outlinewidth": 0,
             "ticks": ""
            },
            "colorscale": [
             [
              0,
              "#0d0887"
             ],
             [
              0.1111111111111111,
              "#46039f"
             ],
             [
              0.2222222222222222,
              "#7201a8"
             ],
             [
              0.3333333333333333,
              "#9c179e"
             ],
             [
              0.4444444444444444,
              "#bd3786"
             ],
             [
              0.5555555555555556,
              "#d8576b"
             ],
             [
              0.6666666666666666,
              "#ed7953"
             ],
             [
              0.7777777777777778,
              "#fb9f3a"
             ],
             [
              0.8888888888888888,
              "#fdca26"
             ],
             [
              1,
              "#f0f921"
             ]
            ],
            "type": "contour"
           }
          ],
          "contourcarpet": [
           {
            "colorbar": {
             "outlinewidth": 0,
             "ticks": ""
            },
            "type": "contourcarpet"
           }
          ],
          "heatmap": [
           {
            "colorbar": {
             "outlinewidth": 0,
             "ticks": ""
            },
            "colorscale": [
             [
              0,
              "#0d0887"
             ],
             [
              0.1111111111111111,
              "#46039f"
             ],
             [
              0.2222222222222222,
              "#7201a8"
             ],
             [
              0.3333333333333333,
              "#9c179e"
             ],
             [
              0.4444444444444444,
              "#bd3786"
             ],
             [
              0.5555555555555556,
              "#d8576b"
             ],
             [
              0.6666666666666666,
              "#ed7953"
             ],
             [
              0.7777777777777778,
              "#fb9f3a"
             ],
             [
              0.8888888888888888,
              "#fdca26"
             ],
             [
              1,
              "#f0f921"
             ]
            ],
            "type": "heatmap"
           }
          ],
          "heatmapgl": [
           {
            "colorbar": {
             "outlinewidth": 0,
             "ticks": ""
            },
            "colorscale": [
             [
              0,
              "#0d0887"
             ],
             [
              0.1111111111111111,
              "#46039f"
             ],
             [
              0.2222222222222222,
              "#7201a8"
             ],
             [
              0.3333333333333333,
              "#9c179e"
             ],
             [
              0.4444444444444444,
              "#bd3786"
             ],
             [
              0.5555555555555556,
              "#d8576b"
             ],
             [
              0.6666666666666666,
              "#ed7953"
             ],
             [
              0.7777777777777778,
              "#fb9f3a"
             ],
             [
              0.8888888888888888,
              "#fdca26"
             ],
             [
              1,
              "#f0f921"
             ]
            ],
            "type": "heatmapgl"
           }
          ],
          "histogram": [
           {
            "marker": {
             "pattern": {
              "fillmode": "overlay",
              "size": 10,
              "solidity": 0.2
             }
            },
            "type": "histogram"
           }
          ],
          "histogram2d": [
           {
            "colorbar": {
             "outlinewidth": 0,
             "ticks": ""
            },
            "colorscale": [
             [
              0,
              "#0d0887"
             ],
             [
              0.1111111111111111,
              "#46039f"
             ],
             [
              0.2222222222222222,
              "#7201a8"
             ],
             [
              0.3333333333333333,
              "#9c179e"
             ],
             [
              0.4444444444444444,
              "#bd3786"
             ],
             [
              0.5555555555555556,
              "#d8576b"
             ],
             [
              0.6666666666666666,
              "#ed7953"
             ],
             [
              0.7777777777777778,
              "#fb9f3a"
             ],
             [
              0.8888888888888888,
              "#fdca26"
             ],
             [
              1,
              "#f0f921"
             ]
            ],
            "type": "histogram2d"
           }
          ],
          "histogram2dcontour": [
           {
            "colorbar": {
             "outlinewidth": 0,
             "ticks": ""
            },
            "colorscale": [
             [
              0,
              "#0d0887"
             ],
             [
              0.1111111111111111,
              "#46039f"
             ],
             [
              0.2222222222222222,
              "#7201a8"
             ],
             [
              0.3333333333333333,
              "#9c179e"
             ],
             [
              0.4444444444444444,
              "#bd3786"
             ],
             [
              0.5555555555555556,
              "#d8576b"
             ],
             [
              0.6666666666666666,
              "#ed7953"
             ],
             [
              0.7777777777777778,
              "#fb9f3a"
             ],
             [
              0.8888888888888888,
              "#fdca26"
             ],
             [
              1,
              "#f0f921"
             ]
            ],
            "type": "histogram2dcontour"
           }
          ],
          "mesh3d": [
           {
            "colorbar": {
             "outlinewidth": 0,
             "ticks": ""
            },
            "type": "mesh3d"
           }
          ],
          "parcoords": [
           {
            "line": {
             "colorbar": {
              "outlinewidth": 0,
              "ticks": ""
             }
            },
            "type": "parcoords"
           }
          ],
          "pie": [
           {
            "automargin": true,
            "type": "pie"
           }
          ],
          "scatter": [
           {
            "marker": {
             "colorbar": {
              "outlinewidth": 0,
              "ticks": ""
             }
            },
            "type": "scatter"
           }
          ],
          "scatter3d": [
           {
            "line": {
             "colorbar": {
              "outlinewidth": 0,
              "ticks": ""
             }
            },
            "marker": {
             "colorbar": {
              "outlinewidth": 0,
              "ticks": ""
             }
            },
            "type": "scatter3d"
           }
          ],
          "scattercarpet": [
           {
            "marker": {
             "colorbar": {
              "outlinewidth": 0,
              "ticks": ""
             }
            },
            "type": "scattercarpet"
           }
          ],
          "scattergeo": [
           {
            "marker": {
             "colorbar": {
              "outlinewidth": 0,
              "ticks": ""
             }
            },
            "type": "scattergeo"
           }
          ],
          "scattergl": [
           {
            "marker": {
             "colorbar": {
              "outlinewidth": 0,
              "ticks": ""
             }
            },
            "type": "scattergl"
           }
          ],
          "scattermapbox": [
           {
            "marker": {
             "colorbar": {
              "outlinewidth": 0,
              "ticks": ""
             }
            },
            "type": "scattermapbox"
           }
          ],
          "scatterpolar": [
           {
            "marker": {
             "colorbar": {
              "outlinewidth": 0,
              "ticks": ""
             }
            },
            "type": "scatterpolar"
           }
          ],
          "scatterpolargl": [
           {
            "marker": {
             "colorbar": {
              "outlinewidth": 0,
              "ticks": ""
             }
            },
            "type": "scatterpolargl"
           }
          ],
          "scatterternary": [
           {
            "marker": {
             "colorbar": {
              "outlinewidth": 0,
              "ticks": ""
             }
            },
            "type": "scatterternary"
           }
          ],
          "surface": [
           {
            "colorbar": {
             "outlinewidth": 0,
             "ticks": ""
            },
            "colorscale": [
             [
              0,
              "#0d0887"
             ],
             [
              0.1111111111111111,
              "#46039f"
             ],
             [
              0.2222222222222222,
              "#7201a8"
             ],
             [
              0.3333333333333333,
              "#9c179e"
             ],
             [
              0.4444444444444444,
              "#bd3786"
             ],
             [
              0.5555555555555556,
              "#d8576b"
             ],
             [
              0.6666666666666666,
              "#ed7953"
             ],
             [
              0.7777777777777778,
              "#fb9f3a"
             ],
             [
              0.8888888888888888,
              "#fdca26"
             ],
             [
              1,
              "#f0f921"
             ]
            ],
            "type": "surface"
           }
          ],
          "table": [
           {
            "cells": {
             "fill": {
              "color": "#EBF0F8"
             },
             "line": {
              "color": "white"
             }
            },
            "header": {
             "fill": {
              "color": "#C8D4E3"
             },
             "line": {
              "color": "white"
             }
            },
            "type": "table"
           }
          ]
         },
         "layout": {
          "annotationdefaults": {
           "arrowcolor": "#2a3f5f",
           "arrowhead": 0,
           "arrowwidth": 1
          },
          "autotypenumbers": "strict",
          "coloraxis": {
           "colorbar": {
            "outlinewidth": 0,
            "ticks": ""
           }
          },
          "colorscale": {
           "diverging": [
            [
             0,
             "#8e0152"
            ],
            [
             0.1,
             "#c51b7d"
            ],
            [
             0.2,
             "#de77ae"
            ],
            [
             0.3,
             "#f1b6da"
            ],
            [
             0.4,
             "#fde0ef"
            ],
            [
             0.5,
             "#f7f7f7"
            ],
            [
             0.6,
             "#e6f5d0"
            ],
            [
             0.7,
             "#b8e186"
            ],
            [
             0.8,
             "#7fbc41"
            ],
            [
             0.9,
             "#4d9221"
            ],
            [
             1,
             "#276419"
            ]
           ],
           "sequential": [
            [
             0,
             "#0d0887"
            ],
            [
             0.1111111111111111,
             "#46039f"
            ],
            [
             0.2222222222222222,
             "#7201a8"
            ],
            [
             0.3333333333333333,
             "#9c179e"
            ],
            [
             0.4444444444444444,
             "#bd3786"
            ],
            [
             0.5555555555555556,
             "#d8576b"
            ],
            [
             0.6666666666666666,
             "#ed7953"
            ],
            [
             0.7777777777777778,
             "#fb9f3a"
            ],
            [
             0.8888888888888888,
             "#fdca26"
            ],
            [
             1,
             "#f0f921"
            ]
           ],
           "sequentialminus": [
            [
             0,
             "#0d0887"
            ],
            [
             0.1111111111111111,
             "#46039f"
            ],
            [
             0.2222222222222222,
             "#7201a8"
            ],
            [
             0.3333333333333333,
             "#9c179e"
            ],
            [
             0.4444444444444444,
             "#bd3786"
            ],
            [
             0.5555555555555556,
             "#d8576b"
            ],
            [
             0.6666666666666666,
             "#ed7953"
            ],
            [
             0.7777777777777778,
             "#fb9f3a"
            ],
            [
             0.8888888888888888,
             "#fdca26"
            ],
            [
             1,
             "#f0f921"
            ]
           ]
          },
          "colorway": [
           "#636efa",
           "#EF553B",
           "#00cc96",
           "#ab63fa",
           "#FFA15A",
           "#19d3f3",
           "#FF6692",
           "#B6E880",
           "#FF97FF",
           "#FECB52"
          ],
          "font": {
           "color": "#2a3f5f"
          },
          "geo": {
           "bgcolor": "white",
           "lakecolor": "white",
           "landcolor": "white",
           "showlakes": true,
           "showland": true,
           "subunitcolor": "#C8D4E3"
          },
          "hoverlabel": {
           "align": "left"
          },
          "hovermode": "closest",
          "mapbox": {
           "style": "light"
          },
          "paper_bgcolor": "white",
          "plot_bgcolor": "white",
          "polar": {
           "angularaxis": {
            "gridcolor": "#EBF0F8",
            "linecolor": "#EBF0F8",
            "ticks": ""
           },
           "bgcolor": "white",
           "radialaxis": {
            "gridcolor": "#EBF0F8",
            "linecolor": "#EBF0F8",
            "ticks": ""
           }
          },
          "scene": {
           "xaxis": {
            "backgroundcolor": "white",
            "gridcolor": "#DFE8F3",
            "gridwidth": 2,
            "linecolor": "#EBF0F8",
            "showbackground": true,
            "ticks": "",
            "zerolinecolor": "#EBF0F8"
           },
           "yaxis": {
            "backgroundcolor": "white",
            "gridcolor": "#DFE8F3",
            "gridwidth": 2,
            "linecolor": "#EBF0F8",
            "showbackground": true,
            "ticks": "",
            "zerolinecolor": "#EBF0F8"
           },
           "zaxis": {
            "backgroundcolor": "white",
            "gridcolor": "#DFE8F3",
            "gridwidth": 2,
            "linecolor": "#EBF0F8",
            "showbackground": true,
            "ticks": "",
            "zerolinecolor": "#EBF0F8"
           }
          },
          "shapedefaults": {
           "line": {
            "color": "#2a3f5f"
           }
          },
          "ternary": {
           "aaxis": {
            "gridcolor": "#DFE8F3",
            "linecolor": "#A2B1C6",
            "ticks": ""
           },
           "baxis": {
            "gridcolor": "#DFE8F3",
            "linecolor": "#A2B1C6",
            "ticks": ""
           },
           "bgcolor": "white",
           "caxis": {
            "gridcolor": "#DFE8F3",
            "linecolor": "#A2B1C6",
            "ticks": ""
           }
          },
          "title": {
           "x": 0.05
          },
          "xaxis": {
           "automargin": true,
           "gridcolor": "#EBF0F8",
           "linecolor": "#EBF0F8",
           "ticks": "",
           "title": {
            "standoff": 15
           },
           "zerolinecolor": "#EBF0F8",
           "zerolinewidth": 2
          },
          "yaxis": {
           "automargin": true,
           "gridcolor": "#EBF0F8",
           "linecolor": "#EBF0F8",
           "ticks": "",
           "title": {
            "standoff": 15
           },
           "zerolinecolor": "#EBF0F8",
           "zerolinewidth": 2
          }
         }
        },
        "width": 800,
        "xaxis": {
         "anchor": "y",
         "domain": [
          0,
          0.49
         ],
         "title": {
          "text": "PC>SC                PC<SC"
         }
        },
        "xaxis2": {
         "anchor": "y2",
         "domain": [
          0.51,
          1
         ],
         "matches": "x",
         "title": {
          "text": "PC>SC                PC<SC"
         }
        },
        "yaxis": {
         "anchor": "x",
         "domain": [
          0,
          1
         ],
         "showticklabels": true,
         "tickmode": "linear",
         "title": {
          "text": "markers"
         }
        },
        "yaxis2": {
         "anchor": "x2",
         "domain": [
          0,
          1
         ],
         "matches": "y",
         "showticklabels": false
        }
       }
      },
      "text/html": [
       "<div>                            <div id=\"ce354949-07df-4cc3-a882-10e2589d9682\" class=\"plotly-graph-div\" style=\"height:800px; width:800px;\"></div>            <script type=\"text/javascript\">                require([\"plotly\"], function(Plotly) {                    window.PLOTLYENV=window.PLOTLYENV || {};                                    if (document.getElementById(\"ce354949-07df-4cc3-a882-10e2589d9682\")) {                    Plotly.newPlot(                        \"ce354949-07df-4cc3-a882-10e2589d9682\",                        [{\"hovertemplate\":\"significant=p > 0.05<br>balance=under-sample<br>PC>SC                PC<SC=%{x}<br>markers=%{y}<extra></extra>\",\"legendgroup\":\"p > 0.05\",\"marker\":{\"color\":\"#F38A31\",\"symbol\":\"circle-open\",\"size\":8},\"mode\":\"markers\",\"name\":\"p > 0.05\",\"orientation\":\"h\",\"showlegend\":true,\"x\":[0.4303985722784057,0.4453450327186199,0.44690660321237363,0.45226055919095776,0.45582986317668056,0.4582093991671624,0.4629684711481261,0.46460440214158233,0.46460440214158244,0.46519928613920286,0.46936347412254614,0.470553242117787,0.47471743010113027,0.4805175490779299,0.4821534800713861,0.48364069006543725,0.48393813206424746,0.4842355740630577,0.48557406305770373,0.4863176680547293,0.4867638310529447,0.4884741225461035,0.4886972040452112,0.4906305770374777,0.49256395002974424,0.49345627602617487,0.4950922070196312,0.49717430101130283,0.49895895300416415,0.5001487209994051,0.5022308149910768,0.5028256989886972,0.5044616299821535,0.5074360499702558,0.5093694229625223,0.5127900059488399,0.5132361689470553,0.5148720999405115,0.5148720999405116,0.5148720999405116,0.5160618679357525,0.5220107079119573,0.5261748958953004,0.5325698988697204,0.5355443188578228,0.5356930398572278,0.5487804878048781,0.5508625817965497,0.5510113027959549,0.5553242117787031,0.565288518738846,0.579417013682332],\"xaxis\":\"x\",\"y\":[\"$SE_{std}$\",\"$K_{mean}$\",\"$P3a_{mean}$\",\"$SEF90_{std}$\",\"$|\\\\alpha|_{mean}$\",\"$\\\\delta_{std}$\",\"$|\\\\beta|_{mean}$\",\"$MSF_{std}$\",\"$|\\\\beta|_{std}$\",\"$wSMI\\\\gamma_{std}$\",\"$MSF_{mean}$\",\"$SEF95_{std}$\",\"$SE_{mean}$\",\"$wSMI\\\\gamma_{mean}$\",\"$|\\\\gamma|_{std}$\",\"$P1_{std}$\",\"$wSMI\\\\theta_{std}$\",\"$SEF95_{mean}$\",\"$|\\\\gamma|_{mean}$\",\"$\\\\gamma_{mean}$\",\"$PE\\\\gamma_{mean}$\",\"$SEF90_{mean}$\",\"$PE\\\\alpha_{mean}$\",\"$CNV_{std}$\",\"$\\\\gamma_{std}$\",\"$PE\\\\gamma_{std}$\",\"$\\\\beta_{std}$\",\"$\\\\theta_{std}$\",\"$PE\\\\theta_{mean}$\",\"$wSMI\\\\beta_{mean}$\",\"$|\\\\delta|_{std}$\",\"$wSMI\\\\beta_{std}$\",\"$PE\\\\alpha_{std}$\",\"$K_{std}$\",\"$wSMI\\\\alpha_{std}$\",\"$\\\\alpha_{mean}$\",\"$\\\\beta_{mean}$\",\"$|\\\\alpha|_{std}$\",\"$|\\\\delta|_{mean}$\",\"$\\\\alpha_{std}$\",\"$PE\\\\beta_{mean}$\",\"$PE\\\\beta_{std}$\",\"$P3b_{mean}$\",\"$\\\\theta_{mean}$\",\"$wSMI\\\\alpha_{mean}$\",\"$P3a_{std}$\",\"$P1_{mean}$\",\"$PE\\\\theta_{std}$\",\"$P3b_{std}$\",\"$wSMI\\\\theta_{mean}$\",\"$\\\\delta_{mean}$\",\"$|\\\\theta|_{mean}$\"],\"yaxis\":\"y\",\"type\":\"scatter\"},{\"hovertemplate\":\"significant=p > 0.05<br>balance=over-sample<br>PC>SC                PC<SC=%{x}<br>markers=%{y}<extra></extra>\",\"legendgroup\":\"p > 0.05\",\"marker\":{\"color\":\"#F38A31\",\"symbol\":\"circle-open\",\"size\":8},\"mode\":\"markers\",\"name\":\"p > 0.05\",\"orientation\":\"h\",\"showlegend\":false,\"x\":[0.466257796836712,0.4662995656048118,0.4737413677879261,0.47956463020717305,0.4799022610826465,0.4852260386500334,0.48525562486077073,0.4882455725105814,0.48971444085542437,0.48985889117843623,0.48989543885052345,0.4942881209623524,0.49617989808420576,0.4975426041434618,0.4981030017821341,0.4993560648251281,0.5014027344620182,0.5019874972154155,0.5065402929382936,0.508545193807084,0.5093492425930051,0.5105674983292492,0.5123670360882157,0.5124871212965025,0.5131362775673869,0.5135957340164847,0.519171864557808,0.5234636054800623,0.5281904377366896,0.5308775618177768,0.5342364669191356],\"xaxis\":\"x2\",\"y\":[\"$SE_{std}$\",\"$|\\\\gamma|_{std}$\",\"$P3a_{std}$\",\"$CNV_{std}$\",\"$wSMI\\\\beta_{mean}$\",\"$\\\\beta_{mean}$\",\"$P1_{std}$\",\"$PE\\\\beta_{mean}$\",\"$wSMI\\\\alpha_{mean}$\",\"$PE\\\\theta_{mean}$\",\"$wSMI\\\\theta_{std}$\",\"$wSMI\\\\alpha_{std}$\",\"$MSF_{std}$\",\"$\\\\alpha_{std}$\",\"$\\\\alpha_{mean}$\",\"$|\\\\delta|_{std}$\",\"$P1_{mean}$\",\"$K_{std}$\",\"$|\\\\beta|_{std}$\",\"$|\\\\alpha|_{std}$\",\"$|\\\\delta|_{mean}$\",\"$\\\\theta_{std}$\",\"$PE\\\\alpha_{std}$\",\"$wSMI\\\\theta_{mean}$\",\"$PE\\\\theta_{std}$\",\"$\\\\gamma_{std}$\",\"$\\\\delta_{mean}$\",\"$P3b_{mean}$\",\"$\\\\theta_{mean}$\",\"$PE\\\\beta_{std}$\",\"$P3b_{std}$\"],\"yaxis\":\"y2\",\"type\":\"scatter\"},{\"hovertemplate\":\"significant=p < 0.05 uncorrected<br>balance=under-sample<br>PC>SC                PC<SC=%{x}<br>markers=%{y}<extra></extra>\",\"legendgroup\":\"p < 0.05 uncorrected\",\"marker\":{\"color\":\"#F38A31\",\"symbol\":\"circle\",\"size\":8},\"mode\":\"markers\",\"name\":\"p < 0.05 uncorrected\",\"orientation\":\"h\",\"showlegend\":true,\"x\":[0.35276621058893515,0.6067816775728734],\"xaxis\":\"x\",\"y\":[\"$CNV_{mean}$\",\"$|\\\\theta|_{std}$\"],\"yaxis\":\"y\",\"type\":\"scatter\"},{\"hovertemplate\":\"significant=p < 0.05 uncorrected<br>balance=over-sample<br>PC>SC                PC<SC=%{x}<br>markers=%{y}<extra></extra>\",\"legendgroup\":\"p < 0.05 uncorrected\",\"marker\":{\"color\":\"#F38A31\",\"symbol\":\"circle\",\"size\":8},\"mode\":\"markers\",\"name\":\"p < 0.05 uncorrected\",\"orientation\":\"h\",\"showlegend\":false,\"x\":[0.45964092782356875,0.4605772443751392,0.4615361856760971,0.4637133827132992],\"xaxis\":\"x2\",\"y\":[\"$\\\\delta_{std}$\",\"$|\\\\alpha|_{mean}$\",\"$SEF95_{std}$\",\"$wSMI\\\\beta_{std}$\"],\"yaxis\":\"y2\",\"type\":\"scatter\"},{\"hovertemplate\":\"significant=p < 0.05 FDR corrected<br>balance=over-sample<br>PC>SC                PC<SC=%{x}<br>markers=%{y}<extra></extra>\",\"legendgroup\":\"p < 0.05 FDR corrected\",\"marker\":{\"color\":\"#F38A31\",\"symbol\":\"hexagram\",\"size\":8},\"mode\":\"markers\",\"name\":\"p < 0.05 FDR corrected\",\"orientation\":\"h\",\"showlegend\":true,\"x\":[0.3944955725105814,0.41417736411227446,0.427800943974159,0.4315583927378035,0.43507393071953665,0.43853029627979506,0.439181192916017,0.44079973267988415,0.44177955836489197,0.44475036199599016,0.4506954499888617,0.45074766094898644,0.4529648863889507,0.4552621686344398,0.45792840833147697,0.5498614669191356,0.5654655825350858,0.5678881710848741,0.6146448262419247],\"xaxis\":\"x2\",\"y\":[\"$CNV_{mean}$\",\"$K_{mean}$\",\"$wSMI\\\\gamma_{mean}$\",\"$\\\\gamma_{mean}$\",\"$wSMI\\\\gamma_{std}$\",\"$SE_{mean}$\",\"$SEF95_{mean}$\",\"$MSF_{mean}$\",\"$SEF90_{mean}$\",\"$|\\\\gamma|_{mean}$\",\"$PE\\\\gamma_{mean}$\",\"$P3a_{mean}$\",\"$|\\\\beta|_{mean}$\",\"$PE\\\\alpha_{mean}$\",\"$SEF90_{std}$\",\"$\\\\beta_{std}$\",\"$|\\\\theta|_{std}$\",\"$PE\\\\gamma_{std}$\",\"$|\\\\theta|_{mean}$\"],\"yaxis\":\"y2\",\"type\":\"scatter\"}],                        {\"template\":{\"data\":{\"barpolar\":[{\"marker\":{\"line\":{\"color\":\"white\",\"width\":0.5},\"pattern\":{\"fillmode\":\"overlay\",\"size\":10,\"solidity\":0.2}},\"type\":\"barpolar\"}],\"bar\":[{\"error_x\":{\"color\":\"#2a3f5f\"},\"error_y\":{\"color\":\"#2a3f5f\"},\"marker\":{\"line\":{\"color\":\"white\",\"width\":0.5},\"pattern\":{\"fillmode\":\"overlay\",\"size\":10,\"solidity\":0.2}},\"type\":\"bar\"}],\"carpet\":[{\"aaxis\":{\"endlinecolor\":\"#2a3f5f\",\"gridcolor\":\"#C8D4E3\",\"linecolor\":\"#C8D4E3\",\"minorgridcolor\":\"#C8D4E3\",\"startlinecolor\":\"#2a3f5f\"},\"baxis\":{\"endlinecolor\":\"#2a3f5f\",\"gridcolor\":\"#C8D4E3\",\"linecolor\":\"#C8D4E3\",\"minorgridcolor\":\"#C8D4E3\",\"startlinecolor\":\"#2a3f5f\"},\"type\":\"carpet\"}],\"choropleth\":[{\"colorbar\":{\"outlinewidth\":0,\"ticks\":\"\"},\"type\":\"choropleth\"}],\"contourcarpet\":[{\"colorbar\":{\"outlinewidth\":0,\"ticks\":\"\"},\"type\":\"contourcarpet\"}],\"contour\":[{\"colorbar\":{\"outlinewidth\":0,\"ticks\":\"\"},\"colorscale\":[[0.0,\"#0d0887\"],[0.1111111111111111,\"#46039f\"],[0.2222222222222222,\"#7201a8\"],[0.3333333333333333,\"#9c179e\"],[0.4444444444444444,\"#bd3786\"],[0.5555555555555556,\"#d8576b\"],[0.6666666666666666,\"#ed7953\"],[0.7777777777777778,\"#fb9f3a\"],[0.8888888888888888,\"#fdca26\"],[1.0,\"#f0f921\"]],\"type\":\"contour\"}],\"heatmapgl\":[{\"colorbar\":{\"outlinewidth\":0,\"ticks\":\"\"},\"colorscale\":[[0.0,\"#0d0887\"],[0.1111111111111111,\"#46039f\"],[0.2222222222222222,\"#7201a8\"],[0.3333333333333333,\"#9c179e\"],[0.4444444444444444,\"#bd3786\"],[0.5555555555555556,\"#d8576b\"],[0.6666666666666666,\"#ed7953\"],[0.7777777777777778,\"#fb9f3a\"],[0.8888888888888888,\"#fdca26\"],[1.0,\"#f0f921\"]],\"type\":\"heatmapgl\"}],\"heatmap\":[{\"colorbar\":{\"outlinewidth\":0,\"ticks\":\"\"},\"colorscale\":[[0.0,\"#0d0887\"],[0.1111111111111111,\"#46039f\"],[0.2222222222222222,\"#7201a8\"],[0.3333333333333333,\"#9c179e\"],[0.4444444444444444,\"#bd3786\"],[0.5555555555555556,\"#d8576b\"],[0.6666666666666666,\"#ed7953\"],[0.7777777777777778,\"#fb9f3a\"],[0.8888888888888888,\"#fdca26\"],[1.0,\"#f0f921\"]],\"type\":\"heatmap\"}],\"histogram2dcontour\":[{\"colorbar\":{\"outlinewidth\":0,\"ticks\":\"\"},\"colorscale\":[[0.0,\"#0d0887\"],[0.1111111111111111,\"#46039f\"],[0.2222222222222222,\"#7201a8\"],[0.3333333333333333,\"#9c179e\"],[0.4444444444444444,\"#bd3786\"],[0.5555555555555556,\"#d8576b\"],[0.6666666666666666,\"#ed7953\"],[0.7777777777777778,\"#fb9f3a\"],[0.8888888888888888,\"#fdca26\"],[1.0,\"#f0f921\"]],\"type\":\"histogram2dcontour\"}],\"histogram2d\":[{\"colorbar\":{\"outlinewidth\":0,\"ticks\":\"\"},\"colorscale\":[[0.0,\"#0d0887\"],[0.1111111111111111,\"#46039f\"],[0.2222222222222222,\"#7201a8\"],[0.3333333333333333,\"#9c179e\"],[0.4444444444444444,\"#bd3786\"],[0.5555555555555556,\"#d8576b\"],[0.6666666666666666,\"#ed7953\"],[0.7777777777777778,\"#fb9f3a\"],[0.8888888888888888,\"#fdca26\"],[1.0,\"#f0f921\"]],\"type\":\"histogram2d\"}],\"histogram\":[{\"marker\":{\"pattern\":{\"fillmode\":\"overlay\",\"size\":10,\"solidity\":0.2}},\"type\":\"histogram\"}],\"mesh3d\":[{\"colorbar\":{\"outlinewidth\":0,\"ticks\":\"\"},\"type\":\"mesh3d\"}],\"parcoords\":[{\"line\":{\"colorbar\":{\"outlinewidth\":0,\"ticks\":\"\"}},\"type\":\"parcoords\"}],\"pie\":[{\"automargin\":true,\"type\":\"pie\"}],\"scatter3d\":[{\"line\":{\"colorbar\":{\"outlinewidth\":0,\"ticks\":\"\"}},\"marker\":{\"colorbar\":{\"outlinewidth\":0,\"ticks\":\"\"}},\"type\":\"scatter3d\"}],\"scattercarpet\":[{\"marker\":{\"colorbar\":{\"outlinewidth\":0,\"ticks\":\"\"}},\"type\":\"scattercarpet\"}],\"scattergeo\":[{\"marker\":{\"colorbar\":{\"outlinewidth\":0,\"ticks\":\"\"}},\"type\":\"scattergeo\"}],\"scattergl\":[{\"marker\":{\"colorbar\":{\"outlinewidth\":0,\"ticks\":\"\"}},\"type\":\"scattergl\"}],\"scattermapbox\":[{\"marker\":{\"colorbar\":{\"outlinewidth\":0,\"ticks\":\"\"}},\"type\":\"scattermapbox\"}],\"scatterpolargl\":[{\"marker\":{\"colorbar\":{\"outlinewidth\":0,\"ticks\":\"\"}},\"type\":\"scatterpolargl\"}],\"scatterpolar\":[{\"marker\":{\"colorbar\":{\"outlinewidth\":0,\"ticks\":\"\"}},\"type\":\"scatterpolar\"}],\"scatter\":[{\"marker\":{\"colorbar\":{\"outlinewidth\":0,\"ticks\":\"\"}},\"type\":\"scatter\"}],\"scatterternary\":[{\"marker\":{\"colorbar\":{\"outlinewidth\":0,\"ticks\":\"\"}},\"type\":\"scatterternary\"}],\"surface\":[{\"colorbar\":{\"outlinewidth\":0,\"ticks\":\"\"},\"colorscale\":[[0.0,\"#0d0887\"],[0.1111111111111111,\"#46039f\"],[0.2222222222222222,\"#7201a8\"],[0.3333333333333333,\"#9c179e\"],[0.4444444444444444,\"#bd3786\"],[0.5555555555555556,\"#d8576b\"],[0.6666666666666666,\"#ed7953\"],[0.7777777777777778,\"#fb9f3a\"],[0.8888888888888888,\"#fdca26\"],[1.0,\"#f0f921\"]],\"type\":\"surface\"}],\"table\":[{\"cells\":{\"fill\":{\"color\":\"#EBF0F8\"},\"line\":{\"color\":\"white\"}},\"header\":{\"fill\":{\"color\":\"#C8D4E3\"},\"line\":{\"color\":\"white\"}},\"type\":\"table\"}]},\"layout\":{\"annotationdefaults\":{\"arrowcolor\":\"#2a3f5f\",\"arrowhead\":0,\"arrowwidth\":1},\"autotypenumbers\":\"strict\",\"coloraxis\":{\"colorbar\":{\"outlinewidth\":0,\"ticks\":\"\"}},\"colorscale\":{\"diverging\":[[0,\"#8e0152\"],[0.1,\"#c51b7d\"],[0.2,\"#de77ae\"],[0.3,\"#f1b6da\"],[0.4,\"#fde0ef\"],[0.5,\"#f7f7f7\"],[0.6,\"#e6f5d0\"],[0.7,\"#b8e186\"],[0.8,\"#7fbc41\"],[0.9,\"#4d9221\"],[1,\"#276419\"]],\"sequential\":[[0.0,\"#0d0887\"],[0.1111111111111111,\"#46039f\"],[0.2222222222222222,\"#7201a8\"],[0.3333333333333333,\"#9c179e\"],[0.4444444444444444,\"#bd3786\"],[0.5555555555555556,\"#d8576b\"],[0.6666666666666666,\"#ed7953\"],[0.7777777777777778,\"#fb9f3a\"],[0.8888888888888888,\"#fdca26\"],[1.0,\"#f0f921\"]],\"sequentialminus\":[[0.0,\"#0d0887\"],[0.1111111111111111,\"#46039f\"],[0.2222222222222222,\"#7201a8\"],[0.3333333333333333,\"#9c179e\"],[0.4444444444444444,\"#bd3786\"],[0.5555555555555556,\"#d8576b\"],[0.6666666666666666,\"#ed7953\"],[0.7777777777777778,\"#fb9f3a\"],[0.8888888888888888,\"#fdca26\"],[1.0,\"#f0f921\"]]},\"colorway\":[\"#636efa\",\"#EF553B\",\"#00cc96\",\"#ab63fa\",\"#FFA15A\",\"#19d3f3\",\"#FF6692\",\"#B6E880\",\"#FF97FF\",\"#FECB52\"],\"font\":{\"color\":\"#2a3f5f\"},\"geo\":{\"bgcolor\":\"white\",\"lakecolor\":\"white\",\"landcolor\":\"white\",\"showlakes\":true,\"showland\":true,\"subunitcolor\":\"#C8D4E3\"},\"hoverlabel\":{\"align\":\"left\"},\"hovermode\":\"closest\",\"mapbox\":{\"style\":\"light\"},\"paper_bgcolor\":\"white\",\"plot_bgcolor\":\"white\",\"polar\":{\"angularaxis\":{\"gridcolor\":\"#EBF0F8\",\"linecolor\":\"#EBF0F8\",\"ticks\":\"\"},\"bgcolor\":\"white\",\"radialaxis\":{\"gridcolor\":\"#EBF0F8\",\"linecolor\":\"#EBF0F8\",\"ticks\":\"\"}},\"scene\":{\"xaxis\":{\"backgroundcolor\":\"white\",\"gridcolor\":\"#DFE8F3\",\"gridwidth\":2,\"linecolor\":\"#EBF0F8\",\"showbackground\":true,\"ticks\":\"\",\"zerolinecolor\":\"#EBF0F8\"},\"yaxis\":{\"backgroundcolor\":\"white\",\"gridcolor\":\"#DFE8F3\",\"gridwidth\":2,\"linecolor\":\"#EBF0F8\",\"showbackground\":true,\"ticks\":\"\",\"zerolinecolor\":\"#EBF0F8\"},\"zaxis\":{\"backgroundcolor\":\"white\",\"gridcolor\":\"#DFE8F3\",\"gridwidth\":2,\"linecolor\":\"#EBF0F8\",\"showbackground\":true,\"ticks\":\"\",\"zerolinecolor\":\"#EBF0F8\"}},\"shapedefaults\":{\"line\":{\"color\":\"#2a3f5f\"}},\"ternary\":{\"aaxis\":{\"gridcolor\":\"#DFE8F3\",\"linecolor\":\"#A2B1C6\",\"ticks\":\"\"},\"baxis\":{\"gridcolor\":\"#DFE8F3\",\"linecolor\":\"#A2B1C6\",\"ticks\":\"\"},\"bgcolor\":\"white\",\"caxis\":{\"gridcolor\":\"#DFE8F3\",\"linecolor\":\"#A2B1C6\",\"ticks\":\"\"}},\"title\":{\"x\":0.05},\"xaxis\":{\"automargin\":true,\"gridcolor\":\"#EBF0F8\",\"linecolor\":\"#EBF0F8\",\"ticks\":\"\",\"title\":{\"standoff\":15},\"zerolinecolor\":\"#EBF0F8\",\"zerolinewidth\":2},\"yaxis\":{\"automargin\":true,\"gridcolor\":\"#EBF0F8\",\"linecolor\":\"#EBF0F8\",\"ticks\":\"\",\"title\":{\"standoff\":15},\"zerolinecolor\":\"#EBF0F8\",\"zerolinewidth\":2}}},\"xaxis\":{\"anchor\":\"y\",\"domain\":[0.0,0.49],\"title\":{\"text\":\"PC>SC                PC<SC\"}},\"yaxis\":{\"anchor\":\"x\",\"domain\":[0.0,1.0],\"title\":{\"text\":\"markers\"},\"showticklabels\":true,\"tickmode\":\"linear\"},\"xaxis2\":{\"anchor\":\"y2\",\"domain\":[0.51,1.0],\"matches\":\"x\",\"title\":{\"text\":\"PC>SC                PC<SC\"}},\"yaxis2\":{\"anchor\":\"x2\",\"domain\":[0.0,1.0],\"matches\":\"y\",\"showticklabels\":false},\"annotations\":[{\"showarrow\":false,\"text\":\"balance=under-sample\",\"x\":0.245,\"xanchor\":\"center\",\"xref\":\"paper\",\"y\":1.0,\"yanchor\":\"bottom\",\"yref\":\"paper\"},{\"showarrow\":false,\"text\":\"balance=over-sample\",\"x\":0.755,\"xanchor\":\"center\",\"xref\":\"paper\",\"y\":1.0,\"yanchor\":\"bottom\",\"yref\":\"paper\"}],\"legend\":{\"title\":{\"text\":\"significant\"},\"tracegroupgap\":0},\"margin\":{\"t\":60},\"shapes\":[{\"line\":{\"color\":\"black\",\"dash\":\"dash\",\"width\":3},\"type\":\"line\",\"x0\":0.5,\"x1\":0.5,\"xref\":\"x\",\"y0\":0,\"y1\":1,\"yref\":\"y domain\"},{\"line\":{\"color\":\"black\",\"dash\":\"dash\",\"width\":3},\"type\":\"line\",\"x0\":0.5,\"x1\":0.5,\"xref\":\"x2\",\"y0\":0,\"y1\":1,\"yref\":\"y2 domain\"}],\"autosize\":false,\"width\":800,\"height\":800},                        {\"responsive\": true}                    ).then(function(){\n",
       "                            \n",
       "var gd = document.getElementById('ce354949-07df-4cc3-a882-10e2589d9682');\n",
       "var x = new MutationObserver(function (mutations, observer) {{\n",
       "        var display = window.getComputedStyle(gd).display;\n",
       "        if (!display || display === 'none') {{\n",
       "            console.log([gd, 'removed!']);\n",
       "            Plotly.purge(gd);\n",
       "            observer.disconnect();\n",
       "        }}\n",
       "}});\n",
       "\n",
       "// Listen for the removal of the full notebook cells\n",
       "var notebookContainer = gd.closest('#notebook-container');\n",
       "if (notebookContainer) {{\n",
       "    x.observe(notebookContainer, {childList: true});\n",
       "}}\n",
       "\n",
       "// Listen for the clearing of the current output cell\n",
       "var outputEl = gd.closest('.output');\n",
       "if (outputEl) {{\n",
       "    x.observe(outputEl, {childList: true});\n",
       "}}\n",
       "\n",
       "                        })                };                });            </script>        </div>"
      ]
     },
     "metadata": {},
     "output_type": "display_data"
    }
   ],
   "source": [
    "probe_roc = pd.concat([probe_roc_ros, probe_roc_rus])\n",
    "fig = px.scatter(probe_roc.sort_values(by = 'AUC'),x = 'AUC', y = 'markers', template = \"plotly_white\", symbol = 'significant', \n",
    "                 symbol_sequence = ['circle-open','circle','hexagram' ],\n",
    "                 facet_col = 'balance',\n",
    "#                  color = 'significant',\n",
    "                 color_discrete_sequence = [orange], \n",
    "                 labels = {'AUC': 'PC>SC                PC<SC'},\n",
    "                 \n",
    "                 \n",
    "                 category_orders = {'significant': ['p > 0.05','p < 0.05 uncorrected', 'p < 0.05 FDR corrected']})\n",
    "fig.add_vline(x=0.5, line_width=3, line_dash=\"dash\", line_color=\"black\")\n",
    "\n",
    "fig.update_traces(marker=dict(size = 8))\n",
    "fig.update_layout(\n",
    "    autosize=False,\n",
    "    width=800,\n",
    "    height=800,\n",
    "    yaxis = {\n",
    "            'showticklabels': True,\n",
    "            'tickmode': 'linear',\n",
    "        }\n",
    "    \n",
    ")\n",
    "fig.show()\n",
    "# pio.write_json(fig, 'Figs/univariate_roc_probe.plotly')\n",
    "# fig.write_image('Figs/univariate_roc_mw_segment.png')"
   ]
  }
 ],
 "metadata": {
  "interpreter": {
   "hash": "b9ecc02849e84b87e80586ea27bc0eed086bed80b3a52d2dc611431340e96268"
  },
  "kernelspec": {
   "display_name": "mne",
   "language": "python",
   "name": "python3"
  },
  "language_info": {
   "codemirror_mode": {
    "name": "ipython",
    "version": 3
   },
   "file_extension": ".py",
   "mimetype": "text/x-python",
   "name": "python",
   "nbconvert_exporter": "python",
   "pygments_lexer": "ipython3",
   "version": "3.9.7"
  },
  "toc-autonumbering": true,
  "toc-showcode": false,
  "toc-showmarkdowntxt": false
 },
 "nbformat": 4,
 "nbformat_minor": 5
}
