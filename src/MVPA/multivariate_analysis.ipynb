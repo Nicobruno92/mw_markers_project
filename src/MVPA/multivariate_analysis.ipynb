{
 "cells": [
  {
   "cell_type": "code",
   "execution_count": 3,
   "id": "thousand-european",
   "metadata": {},
   "outputs": [
    {
     "data": {
      "text/html": [
       "        <script type=\"text/javascript\">\n",
       "        window.PlotlyConfig = {MathJaxConfig: 'local'};\n",
       "        if (window.MathJax) {MathJax.Hub.Config({SVG: {font: \"STIX-Web\"}});}\n",
       "        if (typeof require !== 'undefined') {\n",
       "        require.undef(\"plotly\");\n",
       "        requirejs.config({\n",
       "            paths: {\n",
       "                'plotly': ['https://cdn.plot.ly/plotly-2.9.0.min']\n",
       "            }\n",
       "        });\n",
       "        require(['plotly'], function(Plotly) {\n",
       "            window._Plotly = Plotly;\n",
       "        });\n",
       "        }\n",
       "        </script>\n",
       "        "
      ]
     },
     "metadata": {},
     "output_type": "display_data"
    },
    {
     "data": {
      "text/html": [
       "        <script type=\"text/javascript\">\n",
       "        window.PlotlyConfig = {MathJaxConfig: 'local'};\n",
       "        if (window.MathJax) {MathJax.Hub.Config({SVG: {font: \"STIX-Web\"}});}\n",
       "        if (typeof require !== 'undefined') {\n",
       "        require.undef(\"plotly\");\n",
       "        requirejs.config({\n",
       "            paths: {\n",
       "                'plotly': ['https://cdn.plot.ly/plotly-2.9.0.min']\n",
       "            }\n",
       "        });\n",
       "        require(['plotly'], function(Plotly) {\n",
       "            window._Plotly = Plotly;\n",
       "        });\n",
       "        }\n",
       "        </script>\n",
       "        "
      ]
     },
     "metadata": {},
     "output_type": "display_data"
    },
    {
     "name": "stdout",
     "output_type": "stream",
     "text": [
      "Using MNE with API > 0.19\n"
     ]
    }
   ],
   "source": [
    "import os\n",
    "import numpy as np\n",
    "import seaborn as sns\n",
    "import pandas as pd\n",
    "import matplotlib.pyplot as plt\n",
    "\n",
    "import plotly.express as px\n",
    "import plotly.graph_objects as go\n",
    "import plotly.offline as pyo\n",
    "import plotly.io as pio\n",
    "from plotly.subplots import make_subplots\n",
    "\n",
    "pyo.init_notebook_mode(connected = True)\n",
    "\n",
    "\n",
    "from sklearn.metrics import roc_auc_score\n",
    "from sklearn.svm import SVC\n",
    "from sklearn.preprocessing import StandardScaler, RobustScaler\n",
    "from sklearn.pipeline import Pipeline, make_pipeline\n",
    "from sklearn.model_selection import (\n",
    "    GridSearchCV,\n",
    "    train_test_split,\n",
    "    cross_val_score,\n",
    "    GroupShuffleSplit,\n",
    "    permutation_test_score,\n",
    "    StratifiedKFold,\n",
    "    KFold,\n",
    "    cross_validate\n",
    ")\n",
    "\n",
    "from tqdm import tqdm \n",
    "\n",
    "from imblearn.under_sampling import RandomUnderSampler\n",
    "from imblearn.over_sampling import RandomOverSampler, SMOTE\n",
    "from imblearn.pipeline import Pipeline as imb_pipeline\n",
    "\n",
    "from sklearn.ensemble import ExtraTreesClassifier\n",
    "\n",
    "import sys\n",
    "sys.path.insert(0, '../')\n",
    "from utils import multivariate_classifier, correct_name_markers, plot_univariate"
   ]
  },
  {
   "cell_type": "code",
   "execution_count": 4,
   "id": "completed-fountain",
   "metadata": {
    "pycharm": {
     "is_executing": false
    }
   },
   "outputs": [],
   "source": [
    "# plotting parameters\n",
    "grey = \"#21201F\"\n",
    "green = \"#9AC529\"\n",
    "lblue = \"#42B9B2\"\n",
    "pink = \"#DE237B\"\n",
    "orange = \"#F38A31\"\n",
    "\n",
    "nt_colors = [green, lblue, pink, orange]\n",
    "\n",
    "plt.style.use(\"ggplot\")\n",
    "fig_width = 12  # width in inches\n",
    "fig_height = 9  # height in inches\n",
    "fig_size = [fig_width, fig_height]\n",
    "plt.rcParams[\"figure.figsize\"] = fig_size\n",
    "plt.rcParams[\"figure.autolayout\"] = True\n",
    "\n",
    "sns.set(\n",
    "    style=\"white\",\n",
    "    context=\"notebook\",\n",
    "    font_scale=1,\n",
    "    rc={\n",
    "        \"axes.labelcolor\": grey,\n",
    "        \"text.color\": grey,\n",
    "        \"axes.edgecolor\": grey,\n",
    "        \"xtick.color\": grey,\n",
    "        \"ytick.color\": grey,\n",
    "    },\n",
    ")\n",
    "\n",
    "sns.set_palette(sns.color_palette\n",
    "(nt_colors))"
   ]
  },
  {
   "attachments": {},
   "cell_type": "markdown",
   "id": "available-academy",
   "metadata": {},
   "source": [
    "# Load Data\n",
    "Loads data from the computed markers. From `Data` directory"
   ]
  },
  {
   "cell_type": "code",
   "execution_count": 5,
   "id": "53ab16c9",
   "metadata": {},
   "outputs": [],
   "source": [
    "data_path = \"../../Data/\"\n",
    "results_path = \"../../Results/\"\n",
    "fig_path = \"../../Results/Figs/\"\n",
    "\n",
    "df = pd.read_csv(os.path.join(data_path, 'all_markers.csv'), index_col = 0)"
   ]
  },
  {
   "cell_type": "code",
   "execution_count": 6,
   "id": "simple-quick",
   "metadata": {},
   "outputs": [],
   "source": [
    "markers = ['wSMI_1', 'wSMI_2', 'wSMI_4', 'wSMI_8', 'p_e_1', 'p_e_2',\n",
    "       'p_e_4', 'p_e_8', 'k', 'se','msf', 'sef90', 'sef95', 'b', 'b_n', 'g',\n",
    "       'g_n', 't', 't_n', 'd', 'd_n', 'a_n', 'a', 'CNV', 'P1', 'P3a', 'P3b',]\n",
    "\n",
    "erps =['CNV', 'P1', 'P3a', 'P3b']\n",
    "\n",
    "df_markers = (df\n",
    "              .query(\"stimuli == 'go'\") # only go trials\n",
    "              .query(\"correct == 'correct'\") #only correct trials\n",
    "              .query('prev_trial < 5') # only last 5 trials before each probe. \n",
    "              .drop(['stimuli', 'correct', 'prev_trial', 'label', 'events',  'epoch_type', 'preproc', 'ft', 'ft_n'], axis = 1) # drop unnecessary columns\n",
    "              .query(\"mind in ['on-task','dMW', 'sMW']\") # only mind wandering and on-task trials\n",
    "              .groupby(['segment', 'participant']).filter(lambda x: len(x) > 1) # drop participants with less than 2 trials per segment\n",
    "             )"
   ]
  },
  {
   "cell_type": "markdown",
   "id": "obvious-lloyd",
   "metadata": {},
   "source": [
    "# By segment Mulivariate analysis"
   ]
  },
  {
   "attachments": {},
   "cell_type": "markdown",
   "id": "interpreted-sessions",
   "metadata": {
    "tags": []
   },
   "source": [
    "## On-task Vs Mind- Wandering\n",
    "This can only be performed for PC probes  as they are the only ones with On-task reports.\n",
    "\n",
    "\n",
    "Prepares the dataframe for the analysis"
   ]
  },
  {
   "cell_type": "code",
   "execution_count": 7,
   "id": "parental-breakdown",
   "metadata": {},
   "outputs": [],
   "source": [
    "variance = lambda x: np.std(x)/np.mean(x)\n",
    "\n",
    "agg_dict = {k: [\"mean\", 'std'] for k in markers}\n",
    "agg_dict.update({k: \"first\" for k in df_markers.drop(markers, axis=1).columns})\n",
    "\n",
    "df_mind = (\n",
    "    df_markers.query(\"probe == 'PC'\")\n",
    "    .groupby([\"segment\", \"participant\"], as_index=False)\n",
    "    .agg(agg_dict)\n",
    "    #     .query(\"mind != 'sMW'\") #if you want to test against just one of the mw\n",
    "    .assign(mind2=lambda df: np.where(df.mind == \"on-task\", \"on-task\", \"mw\"))\n",
    ")\n",
    "\n",
    "#### Use latex command for nmaes###\n",
    "##it slow downs the computer, just for final figures.\n",
    "\n",
    "df_mind = correct_name_markers(df_mind) #correct names for latex\n",
    "\n",
    "df_mind.columns = df_mind.columns.map(\"$_{\".join).map(lambda x: x + '}$').map(lambda x: x.replace('$$', ''))\n",
    "\n",
    "df_mind  = (df_mind\n",
    "            .rename(columns = {'participant$_{first}$':'participant', 'probe$_{first}$':'probe', 'mind$_{first}$':'mind', 'segment$_{first}$':'segment', 'mind2$_{}$':'mind2'})\n",
    "#             .query(\"mind != 'dMW'\") #if you want to test against just one of the mw            \n",
    "            .drop(['participant', 'probe', 'mind', 'segment'], axis = 1) \n",
    "           )\n"
   ]
  },
  {
   "cell_type": "code",
   "execution_count": 8,
   "id": "dental-imaging",
   "metadata": {},
   "outputs": [],
   "source": [
    "def multivariate_classifier(\n",
    "    data, label, features, model ,pca = False, n_components = 3,  cv_splits = 5,grid_search=False,plot = True, permutation=False, n_permutations = 1000 \n",
    "):\n",
    "    \"\"\"\n",
    "    data: dataframe with features and labels\n",
    "    label: name of the column with the labels for the classification\n",
    "    features: feaure or list of features corresponding to the columns of the data frame with the markers\n",
    "    model: type of classifier model {SVM or forest}\n",
    "    pca: if use pca as reduction\n",
    "    n_components: number of components of the pca\n",
    "    cv_splits: number of crossvalidations splits\n",
    "    grid_search: if true it will apply grid search 5cv to find the best parameters of C and gamma, only for the SVM. Deafault: False\n",
    "    n_permutations: number of permutations\n",
    "    \"\"\"\n",
    "    #pipeline steps init\n",
    "    steps = [(\"scaler\", StandardScaler())]\n",
    "    \n",
    "    if pca == True:\n",
    "        steps.append(('pca', PCA(n_components = n_components)))\n",
    "        \n",
    "    C= 0.001\n",
    "    gamma=0.1\n",
    "    \n",
    "    y, lbl = pd.factorize(data[label])\n",
    "    X = data[features].astype(\"float32\").values\n",
    "        \n",
    "    if grid_search == True:\n",
    " \n",
    "\n",
    "        steps_grid = steps.copy()\n",
    "        steps_grid.append((\"SVM\", SVC(probability=True)))\n",
    "        pipe_grid = Pipeline(steps_grid)\n",
    "\n",
    "        parameteres = {\n",
    "            \"SVM__C\": [0.001, 0.1, 10, 100, 10e5],\n",
    "            \"SVM__gamma\": [1,0.5, 0.1, 0.01, 0.001],\n",
    "        }\n",
    "        \n",
    "        grid = GridSearchCV(pipe_grid, param_grid=parameteres, cv=cv_splits, n_jobs=-1)\n",
    "        grid.fit(X, y)\n",
    "        \n",
    "        print(grid.best_params_)\n",
    "        \n",
    "        C=grid.best_params_[\"SVM__C\"]\n",
    "        gamma=grid.best_params_[\"SVM__gamma\"]\n",
    "        \n",
    "    if model == 'SVM':\n",
    "        steps.append(('SVM', SVC(C = C, gamma = gamma, probability = True)))       \n",
    "\n",
    "        pipe_cv = Pipeline(steps)\n",
    "\n",
    "        cv = KFold(cv_splits, shuffle=True, random_state = 42)\n",
    "\n",
    "        aucs = cross_val_score(\n",
    "            X=X,\n",
    "            y=y,\n",
    "            estimator=pipe_cv,\n",
    "            scoring=\"roc_auc\",\n",
    "            cv=cv,\n",
    "        )\n",
    "\n",
    "  \n",
    "    if model == 'forest':\n",
    "        n_estimators = 1000\n",
    "        steps.append(('Forest',ExtraTreesClassifier(\n",
    "                n_estimators=n_estimators, max_features=1, criterion='entropy',\n",
    "                max_depth=None, random_state=42, class_weight=None)))\n",
    "        \n",
    "        pipe_cv = Pipeline(steps)\n",
    "        \n",
    "        cv = KFold(cv_splits, shuffle=True, random_state = 42)\n",
    "\n",
    "\n",
    "        output = cross_validate(\n",
    "            X=X, y=y, estimator=pipe_cv,\n",
    "            scoring='roc_auc', cv=cv,  n_jobs = -1, return_estimator =True)\n",
    "\n",
    "        aucs = output['test_score']\n",
    "\n",
    "        feature_importances = pd.DataFrame(features, columns = ['features'])\n",
    "        for idx,estimator in enumerate(output['estimator']):\n",
    "            feature_importances[idx] = estimator.named_steps['Forest'].feature_importances_ \n",
    "\n",
    "        feature_importances['mean_importance'] = feature_importances.iloc[:, [1,2,3,4,5]].mean(axis=1)\n",
    "            \n",
    "        \n",
    "        df_auc = pd.DataFrame(aucs, columns=[\"auc\"])\n",
    "    \n",
    "    \n",
    "    if plot == True:\n",
    "        sns.catplot(x = 'auc', orient = 'h', data = df_auc, kind = 'violin')\n",
    "        plt.title(f'Mean = {np.mean(df_auc.auc)}; SD = {np.std(df_auc.auc)}')\n",
    "        plt.axvline(x = 0.5, linestyle = 'dashed')\n",
    "        plt.show()\n",
    "        \n",
    "     \n",
    "    if permutation == True:\n",
    "        score, perm_scores, pvalue = permutation_test_score(\n",
    "            pipe_cv, X, y, scoring=\"roc_auc\", cv=cv, n_permutations=n_permutations, random_state = 42, n_jobs= -1\n",
    "        )\n",
    "            \n",
    "\n",
    "        print(f\"p_value = {pvalue}\")\n",
    "        \n",
    "        plt.hist(perm_scores, bins=20, density=True)\n",
    "        plt.axvline(score, ls=\"--\", color=\"r\")\n",
    "        score_label = (\n",
    "            f\"Score on original\\ndata: {score:.2f}\\n\" f\"(p-value: {pvalue:.3f})\"\n",
    "        )\n",
    "        plt.text(score, np.max(perm_scores), score_label, fontsize=12)\n",
    "        plt.xlabel(\"Accuracy score\")\n",
    "        plt.ylabel(\"Probability\")\n",
    "        plt.show()\n",
    "        \n",
    "    if model == 'forest':\n",
    "        if permutation == True:\n",
    "            return df_auc, feature_importances, perm_scores, pvalue\n",
    "        \n",
    "        else:\n",
    "            return df_auc, feature_importances\n",
    "    \n",
    "    else:\n",
    "        return df_auc, "
   ]
  },
  {
   "cell_type": "code",
   "execution_count": 9,
   "id": "communist-excess",
   "metadata": {
    "tags": []
   },
   "outputs": [
    {
     "data": {
      "image/png": "[encoded data removed]",
      "text/plain": [
       "<Figure size 360x360 with 1 Axes>"
      ]
     },
     "metadata": {},
     "output_type": "display_data"
    },
    {
     "name": "stdout",
     "output_type": "stream",
     "text": [
      "p_value = 0.03796203796203796\n"
     ]
    },
    {
     "data": {
      "image/png": "[encoded data removed]",
      "text/plain": [
       "<Figure size 864x648 with 1 Axes>"
      ]
     },
     "metadata": {},
     "output_type": "display_data"
    }
   ],
   "source": [
    "df_forest_mind, feat_import_mind, perm_scores_mind, pvalue_mind = multivariate_classifier(data = df_mind, label = 'mind2', features = df_mind.drop('mind2', axis = 1).columns, \n",
    "                                 model = 'forest', pca =False, n_components = 10,\n",
    "                                 cv_splits= 5, \n",
    "                                 permutation = True, n_permutations = 1000)\n",
    "\n",
    "df_forest_mind.to_csv(os.path.join(results_path, 'multivariate_forest_mind_segment.csv'))\n",
    "feat_import_mind.to_csv(os.path.join(results_path, 'feat_import_multivariate_mind.csv'))\n",
    "\n"
   ]
  },
  {
   "cell_type": "code",
   "execution_count": 10,
   "id": "b528690e",
   "metadata": {},
   "outputs": [],
   "source": [
    "df_perm_mind = pd.DataFrame(perm_scores_mind, columns = ['auc']).assign(Model = 'Shuffled')\n",
    "df_forest_mind['Model'] = 'Original'\n",
    "df_perm_mind.to_csv(os.path.join(results_path, 'multivariate_permutation_mind_segment.csv'))"
   ]
  },
  {
   "cell_type": "code",
   "execution_count": 11,
   "id": "2cee6142",
   "metadata": {},
   "outputs": [
    {
     "data": {
      "application/vnd.plotly.v1+json": {
       "config": {
        "plotlyServerURL": "https://plot.ly"
       },
       "data": [
        {
         "alignmentgroup": "True",
         "bingroup": "x",
         "hovertemplate": "Model=Shuffled<br>auc=%{x}<br>count=%{y}<extra></extra>",
         "legendgroup": "Shuffled",
         "marker": {
          "color": "#DE237B",
          "pattern": {
           "shape": ""
          }
         },
         "name": "Shuffled",
         "nbinsx": 25,
         "offsetgroup": "Shuffled",
         "orientation": "v",
         "showlegend": true,
         "type": "histogram",
         "x": [
          0.42121026212088264,
          0.5689862401100791,
          0.4881016081871345,
          0.5053710994887466,
          0.5536143755747912,
          0.5890999509031343,
          0.5215734293717487,
          0.5848666313047117,
          0.5880268943913108,
          0.44110307017543865,
          0.46627345537757436,
          0.5272727114155685,
          0.5622776696510965,
          0.3914455829497109,
          0.585870898644699,
          0.4394471127427784,
          0.5416579544098341,
          0.4244574537949151,
          0.46062508117282003,
          0.5008559025440841,
          0.5132977861031691,
          0.48291212755498475,
          0.41321526110444173,
          0.46883122157244966,
          0.6056900413674242,
          0.491019342027082,
          0.5581859061990639,
          0.49847650349231987,
          0.4194883076037432,
          0.4505919370036344,
          0.5490733894438969,
          0.5693730825663599,
          0.5270107722722956,
          0.5127595949065432,
          0.5050216157401175,
          0.5199663332238798,
          0.4062091503267974,
          0.4512268170426065,
          0.4433081504961204,
          0.4614127667848222,
          0.3273864809081527,
          0.39459903381642514,
          0.5090508445802564,
          0.5209036836179693,
          0.5307632263431687,
          0.4179462507613768,
          0.5790920754266619,
          0.5136652906776746,
          0.3686686077939948,
          0.5987595125769606,
          0.5882057178165095,
          0.5199916281456897,
          0.6534930901422353,
          0.6366830065359478,
          0.5119262985896114,
          0.5247960369332919,
          0.39352868467961344,
          0.47157091592617906,
          0.5613531746031746,
          0.47874109907120743,
          0.46791178972855985,
          0.5400760144568194,
          0.4346262887439358,
          0.576484692122463,
          0.5210212190630148,
          0.428544220485397,
          0.5336190476190477,
          0.5756879944960441,
          0.4866429909959322,
          0.5038343163776232,
          0.4863816206527204,
          0.532343395252838,
          0.42951180472188877,
          0.5517973856209151,
          0.4468662607234036,
          0.4445236179369306,
          0.43881101920853477,
          0.4894383318779604,
          0.4794344404428438,
          0.4789105488349185,
          0.5191537356170539,
          0.4817556198680846,
          0.4888881961802435,
          0.44204339924082053,
          0.4016426276948507,
          0.34516096951294317,
          0.5173187585548267,
          0.6011443195239081,
          0.5267562667324748,
          0.5319831441348469,
          0.6148636732941244,
          0.4511638635387265,
          0.5919168124915871,
          0.6051785714285715,
          0.4727555631503,
          0.523265597028285,
          0.5467840293330489,
          0.456811048005947,
          0.5508963905181432,
          0.4926651184437225,
          0.4910247565845561,
          0.44105744754041976,
          0.46504177109440265,
          0.45926393867570336,
          0.6334815604263341,
          0.353009847288743,
          0.42865025823849356,
          0.41623729940694226,
          0.6310421821750143,
          0.46715187478500175,
          0.49571212692536226,
          0.5311739687900678,
          0.531842069629553,
          0.4291813429075334,
          0.43087772220899156,
          0.3837093057318621,
          0.5392626528750752,
          0.5315135756056809,
          0.6158208410636983,
          0.4575394870867007,
          0.47813029454205924,
          0.3894020137737888,
          0.46688936188510494,
          0.5730217703349283,
          0.4794765468769853,
          0.4863005981729923,
          0.5060663272245897,
          0.597483918128655,
          0.5592463652127517,
          0.5826036372681116,
          0.5372409924342698,
          0.4888317519990452,
          0.46575065689011036,
          0.49234800401734047,
          0.45710674533734164,
          0.48773342169115497,
          0.5647993421052632,
          0.4702834337527319,
          0.5005677672860335,
          0.5113105339601728,
          0.5003539769484042,
          0.4273945410850173,
          0.4018728070175438,
          0.38538029924021483,
          0.3860210079369743,
          0.42767492962097114,
          0.4255836014802565,
          0.5653336929668199,
          0.5751654952865699,
          0.5065076371856557,
          0.4701892732684225,
          0.40420107811864775,
          0.5439024788862914,
          0.5679502063983488,
          0.46287092029794374,
          0.4205010275242474,
          0.3404166666666667,
          0.5153023490097793,
          0.41301783723522856,
          0.5366415470494419,
          0.5134681672405458,
          0.4842790075679394,
          0.4057075623464942,
          0.6376634957013108,
          0.6275948789959087,
          0.46578042195899333,
          0.5015976830187355,
          0.5006937441643323,
          0.4929314880166274,
          0.4644585114747654,
          0.4922927631578948,
          0.4471860357415277,
          0.4414425570615501,
          0.5645784071204238,
          0.5245462399411979,
          0.5080155064878362,
          0.4964042397660819,
          0.5017300651091009,
          0.4109630334392239,
          0.48166444723822543,
          0.3777227158806106,
          0.4774394167555379,
          0.4404549569827931,
          0.43634570144767515,
          0.5149705022359821,
          0.47018435795370783,
          0.5786664665866347,
          0.4421231455545181,
          0.4903070019076211,
          0.5283156244954123,
          0.4934877534745955,
          0.47425530585147013,
          0.48934012713477,
          0.5072779977375566,
          0.4559179504419443,
          0.5037098721998102,
          0.4620430900621118,
          0.3993642938656944,
          0.572750021061056,
          0.3355043453278747,
          0.5291144963690297,
          0.5498131805676563,
          0.5532482677281438,
          0.544919021037442,
          0.584957952010449,
          0.4948935232294366,
          0.4634415204678362,
          0.5090443075156698,
          0.4904753774739642,
          0.48822137451471825,
          0.5482917096663227,
          0.43212934296525624,
          0.5605772565436431,
          0.5706784783414041,
          0.4494008129567616,
          0.562974447912336,
          0.4598593314365374,
          0.40567094074471893,
          0.4627515302679776,
          0.536621729148045,
          0.47844739894178756,
          0.4579465944272446,
          0.5371512605042017,
          0.49766250854408745,
          0.5147915166066427,
          0.6160068137666966,
          0.4357497457411646,
          0.5876873573131866,
          0.4751428715858541,
          0.5847143773743361,
          0.5572091668565353,
          0.5398982259570495,
          0.548359428711983,
          0.37198041098417034,
          0.5004104021193805,
          0.4287368580087878,
          0.48100494682999057,
          0.5112443240454076,
          0.5820715011574593,
          0.44328063362506087,
          0.515141447368421,
          0.4871156445034154,
          0.46683141788183813,
          0.5992006089148946,
          0.40996092982647603,
          0.5871632426860318,
          0.5271242800150363,
          0.553811350929772,
          0.5298242131062951,
          0.5813806024802265,
          0.47121976218614875,
          0.4617247816191868,
          0.4366314892089559,
          0.4697888650736948,
          0.47681089405459154,
          0.5496626983605367,
          0.527249699879952,
          0.49395642701525055,
          0.5966555944055945,
          0.44805025694488326,
          0.4230064513134688,
          0.4365531300239393,
          0.5091306092092202,
          0.4690914696160691,
          0.4369107515813343,
          0.6091825572334197,
          0.5563073593073593,
          0.4590052459580324,
          0.47849225479665547,
          0.5251057565622783,
          0.66373516428341,
          0.4605945087763973,
          0.5340449419002051,
          0.5251029149878255,
          0.563076088943736,
          0.4970176169495392,
          0.49178054379646596,
          0.45586600412943123,
          0.5355711981762402,
          0.505686894055868,
          0.45694145311173173,
          0.49505214175677903,
          0.44711787346517556,
          0.5038531988046054,
          0.46325363648298545,
          0.45086311498283527,
          0.4682518256597204,
          0.6644935500515996,
          0.5283104575163398,
          0.43129678030208607,
          0.5088487588017664,
          0.548438328937813,
          0.5366582510197062,
          0.4336896161973562,
          0.5245895052697113,
          0.348046587055875,
          0.48151620297241704,
          0.5416764485690878,
          0.38939067986687037,
          0.5813972193588514,
          0.5338308906896092,
          0.530176136213288,
          0.46437992354345736,
          0.5811680033416875,
          0.508449676166763,
          0.43053227498093055,
          0.4605348893943543,
          0.5725800254757382,
          0.5172769217336057,
          0.5611127853914232,
          0.5487060957105954,
          0.5159281319906092,
          0.5129257166981626,
          0.3933944367220573,
          0.5474491129785248,
          0.5149965558305701,
          0.4611978052944199,
          0.5759345760233918,
          0.4923526744030946,
          0.6022263817807825,
          0.4198702064158997,
          0.601138974449429,
          0.5152476923997317,
          0.4954387088168601,
          0.4636947854347236,
          0.5435601433555879,
          0.5183717105263158,
          0.5207123227458625,
          0.4301013071895426,
          0.5239102307589703,
          0.3580976201253253,
          0.5499804232425716,
          0.5019116120132263,
          0.43124348991222056,
          0.39269634239095136,
          0.44146412797728585,
          0.5380388542398907,
          0.48432372949179675,
          0.41765820363233014,
          0.5587627998567849,
          0.45077876116121507,
          0.5753375767679174,
          0.5310282871890015,
          0.42999501821339503,
          0.4971680900430348,
          0.3970326288410101,
          0.5509750929707071,
          0.4699992595124174,
          0.3369402731808506,
          0.5414880952380953,
          0.47897125494567944,
          0.5068782911275171,
          0.4916790355419557,
          0.5835516425868593,
          0.4216822474603877,
          0.5404633520074695,
          0.5757007865145652,
          0.5691962695242495,
          0.6101423685533593,
          0.506304802558235,
          0.5254239217356729,
          0.42228144552815605,
          0.581920923632611,
          0.5011537948512739,
          0.45358090385276917,
          0.4798299319727891,
          0.485274653451124,
          0.45136466165413536,
          0.4406347862535583,
          0.6071679039914335,
          0.535221341523973,
          0.5303703990368077,
          0.5623452802173501,
          0.4887119496921576,
          0.45276650812880453,
          0.40681282687423037,
          0.4339977486036367,
          0.5155050287658923,
          0.5221761363636364,
          0.42028478752966575,
          0.47035122119023054,
          0.4803070175438596,
          0.5891359728349903,
          0.5259629342965256,
          0.4682551704892483,
          0.5466245367764331,
          0.42868124628247123,
          0.4864313725490196,
          0.42317412850307584,
          0.46718740452873586,
          0.4748111689651937,
          0.50001389748882,
          0.5634695369989486,
          0.3790608164079029,
          0.47342282527045904,
          0.5773439789409973,
          0.446671293517407,
          0.6392270241429905,
          0.6080262391410851,
          0.5273425464770195,
          0.3566165145631311,
          0.6034138355923253,
          0.5564419996068602,
          0.5078164774681803,
          0.5248582057777105,
          0.52199536746897,
          0.45614719834688877,
          0.46455555796113074,
          0.47887348027789206,
          0.5618651264431315,
          0.49986658874075945,
          0.5761379804358094,
          0.5403545668666192,
          0.5602837538524181,
          0.5574543965734442,
          0.5277795871753191,
          0.48420585047907033,
          0.5055255336768495,
          0.49262198212618385,
          0.5301553095802658,
          0.5123929478551328,
          0.48164884374802563,
          0.5294408991666841,
          0.5097599609589879,
          0.4994136996904025,
          0.5490875472996215,
          0.48899321498934506,
          0.47909379277413333,
          0.38181863622642037,
          0.415375483526744,
          0.4149961300309598,
          0.4899775653968682,
          0.5305648570617059,
          0.5460176442812059,
          0.5146435328517371,
          0.538013542483451,
          0.5340571755017796,
          0.4562986569673876,
          0.5110404843755684,
          0.5885111035260786,
          0.5412630256781075,
          0.5157813635751782,
          0.5455294865467163,
          0.4441133190118153,
          0.5099914860681114,
          0.4768078560371517,
          0.49932839802587703,
          0.424363650465707,
          0.5179400707651481,
          0.5463053020251163,
          0.528917500628027,
          0.4525637252951863,
          0.4561255570672496,
          0.42750052613638045,
          0.6517075122282996,
          0.49048140309982413,
          0.5141490196078431,
          0.47018071582700066,
          0.5650140096172248,
          0.5513427006430103,
          0.5686645491529945,
          0.4165287141484428,
          0.4839092920151743,
          0.4724863399414483,
          0.5344595404595405,
          0.49105229460205135,
          0.42887861811391226,
          0.542960393158026,
          0.5158301828890064,
          0.43573433759468705,
          0.5389352819400365,
          0.5474607747582464,
          0.46325903188229045,
          0.5859278645822211,
          0.42371592935419783,
          0.41775682219663013,
          0.5239375689669806,
          0.45215817730601016,
          0.37802774443110576,
          0.49520632016762045,
          0.5903993614989855,
          0.3401276172749802,
          0.5348944452616357,
          0.4708234560880883,
          0.4756451585527953,
          0.4756846569173935,
          0.4989000546237389,
          0.5307407120743034,
          0.5253758084236027,
          0.5643000515995873,
          0.5318845811051693,
          0.42227786509340576,
          0.5675829346092505,
          0.4654729285653655,
          0.5171684524625701,
          0.44134509066784605,
          0.5367265520243185,
          0.5137523415163165,
          0.5467557661636608,
          0.5459228826728827,
          0.49236091901995793,
          0.5131425903694811,
          0.4198641355204823,
          0.4731358880508726,
          0.40796009200488276,
          0.4032715107875509,
          0.5383974673202614,
          0.44656468909073926,
          0.48458476724022936,
          0.3935300763048441,
          0.5492675736961452,
          0.4822444137838202,
          0.5335842346507982,
          0.4707858734645651,
          0.5373624634191333,
          0.49931213450292394,
          0.38914879792072776,
          0.4556811934004917,
          0.5474168424043911,
          0.4159651579930218,
          0.48833882405863827,
          0.5093269020804355,
          0.5132755421008983,
          0.5597883605043048,
          0.4424670899276162,
          0.4173746867167919,
          0.5316403792286145,
          0.4388259278370218,
          0.5571661998132587,
          0.46785013128058245,
          0.4474256807986352,
          0.45447079150639524,
          0.49667515602732326,
          0.5259474066429691,
          0.46054491972227485,
          0.4621252149982801,
          0.47478827647406385,
          0.4764402629534209,
          0.4601419133841735,
          0.5127599026232567,
          0.5337689096617668,
          0.5455031166840966,
          0.48742212854161204,
          0.41889999684084156,
          0.504155572792238,
          0.40741074670574895,
          0.4933209404974111,
          0.4743122582366279,
          0.513296485260771,
          0.5315981331803977,
          0.39670746548050106,
          0.4931199690402476,
          0.6269341639952871,
          0.48172138037562473,
          0.5695408426528505,
          0.46397085949004113,
          0.5220144066288029,
          0.5287950000747821,
          0.45398864809081535,
          0.6076191643705536,
          0.648234474491551,
          0.4970676602986385,
          0.3669611856438482,
          0.54531303091412,
          0.5261067106268345,
          0.49465497778058587,
          0.5786599567363178,
          0.5480918544819474,
          0.6019267196511779,
          0.5191711976895043,
          0.48170753756047874,
          0.49233640633980513,
          0.48670277422563224,
          0.43707300740195476,
          0.316200915027002,
          0.5634204087293332,
          0.5373432093015579,
          0.4666135490046514,
          0.41976720360150155,
          0.3895980737891589,
          0.4686164215686274,
          0.3885259901061874,
          0.5317736603413296,
          0.5015634441835816,
          0.4784549687321323,
          0.4614156920077973,
          0.49459690893901415,
          0.5290166661683691,
          0.4654030959362302,
          0.5165865509956896,
          0.4839058985605038,
          0.5012111511271176,
          0.5024620374465576,
          0.4810132981544967,
          0.5442894491129786,
          0.5518365526988827,
          0.4746420968801921,
          0.5199095022624435,
          0.3865855580362436,
          0.5216618629908105,
          0.47730572228891555,
          0.47338523557571177,
          0.4672597407384006,
          0.5115284851518819,
          0.5092550353474723,
          0.5209573459013235,
          0.48047682709447415,
          0.5341137770897832,
          0.550751253132832,
          0.46534911141490093,
          0.4298670602488327,
          0.45292540017956506,
          0.43924428291530193,
          0.4506519975739252,
          0.44769561157796456,
          0.5609298533573336,
          0.49096452528379775,
          0.5635903149138443,
          0.4425677711969609,
          0.42293670319004795,
          0.5158498825922436,
          0.5667466990039149,
          0.5065010822510823,
          0.46425321005595216,
          0.5909166629275662,
          0.3935319138927712,
          0.523218990763428,
          0.5196271947866375,
          0.5865224489795918,
          0.46110699762361074,
          0.5009670247046186,
          0.5099407425126735,
          0.4517855455267192,
          0.48773031916729404,
          0.5255173901728524,
          0.5076623105382504,
          0.4441066777588228,
          0.40717956656346743,
          0.6596243325705567,
          0.5899604739683821,
          0.5626980828523287,
          0.45518454267498554,
          0.5640710041592394,
          0.49756685862750905,
          0.5085980269300703,
          0.4981897546897547,
          0.4553646275651929,
          0.45749740422484775,
          0.5367551020408163,
          0.4739718032001651,
          0.5108873926211388,
          0.4592397959183673,
          0.5166859591789932,
          0.4007075930605343,
          0.49064244645226507,
          0.49528288378288376,
          0.5242564136765818,
          0.4737822462318261,
          0.6371211985938541,
          0.4421015256673151,
          0.5280494186853983,
          0.38999500540957127,
          0.47355293024528605,
          0.4514899527062287,
          0.49109466467746526,
          0.47544808746710565,
          0.6097372119624442,
          0.48477704678362576,
          0.5391332989336085,
          0.5511998624011009,
          0.461411720243653,
          0.5422617731303048,
          0.47101059592037037,
          0.5021119956754632,
          0.5109667916362963,
          0.5086744331888073,
          0.5689969554255269,
          0.4933477143293964,
          0.4612571637649155,
          0.6073968429231588,
          0.6241237367054627,
          0.5677434886998277,
          0.44139616102851403,
          0.5552885902367327,
          0.48802760017050295,
          0.544058951809322,
          0.5077258221102205,
          0.6472527818144801,
          0.42419701916160885,
          0.5098694951664876,
          0.41302166400850615,
          0.5340522688861966,
          0.5079599489777509,
          0.5364671981174876,
          0.5085937034615524,
          0.5091533894054903,
          0.43615297948509485,
          0.4485630555743338,
          0.41953646370829034,
          0.5884938080495357,
          0.49505981339904387,
          0.47711352040816324,
          0.49603519597018053,
          0.5442156750572082,
          0.4130238498908335,
          0.5294815865249303,
          0.5032892648287386,
          0.5579498720540848,
          0.5131186656384722,
          0.5622538934602181,
          0.536225907262672,
          0.547639188232648,
          0.5275510502446593,
          0.4851554007567939,
          0.4912107386814375,
          0.4603659342524889,
          0.6042710417500334,
          0.41454793900752546,
          0.47726168617367204,
          0.5259277991898514,
          0.5839378869969041,
          0.5764938993141115,
          0.432937648743708,
          0.48290226178190565,
          0.5227998844905561,
          0.598646113246553,
          0.42532240360258927,
          0.5038445326603223,
          0.5807485102303029,
          0.4396566094079639,
          0.5076784766121968,
          0.5812434210526316,
          0.524564167772372,
          0.4833694727891157,
          0.5272697078831532,
          0.4204502737021582,
          0.5233824845727765,
          0.5406125359234603,
          0.6287865729137659,
          0.6349096994950598,
          0.5538960012124099,
          0.5525912061794415,
          0.45701144492884876,
          0.49202984912833986,
          0.47256679953296504,
          0.5441384551532283,
          0.38835953694979136,
          0.49871340666955827,
          0.44039025969853035,
          0.49985393679002704,
          0.47097477806912236,
          0.4046849882144,
          0.5285641957133185,
          0.46995782016510307,
          0.4461366051293812,
          0.5179031554142125,
          0.5497381847475833,
          0.6034127401420635,
          0.524028710088501,
          0.5213678626865126,
          0.4578128256133372,
          0.38985176482873857,
          0.4375254443698716,
          0.5475595821876781,
          0.4326909430438842,
          0.3976322347120666,
          0.5372147852147853,
          0.5124720965309201,
          0.47679573934837094,
          0.46861378044040586,
          0.5463213305657191,
          0.513042356336474,
          0.5590664379480169,
          0.5872059678180961,
          0.5438563865614949,
          0.6048764532680941,
          0.4998660172555044,
          0.5085665900515525,
          0.4890849673202614,
          0.4949797383068059,
          0.5717802186848239,
          0.4475987280730517,
          0.5450285087719299,
          0.4522364164521028,
          0.5199073973841776,
          0.4643687535620309,
          0.41283034560898335,
          0.49562452173852006,
          0.59971877522939,
          0.5763922506801764,
          0.587590017825312,
          0.4880722664128994,
          0.5684309969601876,
          0.4051307911215032,
          0.4672968815672721,
          0.4456258321510423,
          0.5960406092261467,
          0.4393518536601243,
          0.45272666961521446,
          0.4797069523109367,
          0.5482361694742647,
          0.5408971455433519,
          0.5297361270022884,
          0.46549350558506575,
          0.44014044581149847,
          0.552297815617475,
          0.466140041875336,
          0.44118989716405255,
          0.38800646905935865,
          0.5417272727272727,
          0.5489799231095948,
          0.5001885927521276,
          0.4691649984002925,
          0.4421835839598997,
          0.48029419242906923,
          0.46587860196219333,
          0.5629422031834312,
          0.5559088266885702,
          0.47109838772338775,
          0.49492593309253535,
          0.47922683941997857,
          0.5045791284554552,
          0.5116309892378004,
          0.47533754729962163,
          0.4759587471352177,
          0.5572685916471852,
          0.510673202614379,
          0.5416274005615005,
          0.5079943714327837,
          0.4774707658425689,
          0.49352398766524147,
          0.5214625902992778,
          0.4217603599653577,
          0.4714052287581699,
          0.537029878618114,
          0.4007878326769304,
          0.4952155064577665,
          0.4194250486542518,
          0.5374343470126364,
          0.4065108026853423,
          0.49330140911719855,
          0.5530791529218304,
          0.4246970266575529,
          0.5000793639338531,
          0.5300924608587148,
          0.5337847463546822,
          0.5319711042311661,
          0.5654787062046018,
          0.5439990025949357,
          0.48864496356756415,
          0.5028215683126398,
          0.4677450234479757,
          0.3481808186279851,
          0.5234826281389748,
          0.47687831097351213,
          0.5604342320261437,
          0.49772232205359146,
          0.5290946455813447,
          0.4777005262440598,
          0.49727517868745946,
          0.547373366013072,
          0.4598221964224286,
          0.5387087764167452,
          0.42720168067226894,
          0.5503900742115029,
          0.4889904832962613,
          0.4649230722592067,
          0.44715784946048104,
          0.5383046551954115,
          0.5441846405228759,
          0.49380789352778154,
          0.47889224286205706,
          0.44345182974375524,
          0.48397258039518104,
          0.4214212278153626,
          0.5180157327753235,
          0.45688187994496043,
          0.4776953532609216,
          0.5554609305125559,
          0.5255958793773919,
          0.4996413023298988,
          0.4846626875630635,
          0.4752119711042312,
          0.4475993114676588,
          0.4846129297013861,
          0.47185722242113215,
          0.5147297223545289,
          0.4781919785458043,
          0.5367859398145224,
          0.47438148468133756,
          0.5493401574345848,
          0.5080196078431373,
          0.3989353286891987,
          0.5581395041147362,
          0.4102859913134681,
          0.39463498030791266,
          0.5219405039405041,
          0.541358422279475,
          0.43093295636252293,
          0.5743668409238586,
          0.5799644454763871,
          0.45583444969203485,
          0.49379073559248265,
          0.49051324696545284,
          0.5205844513243894,
          0.5591984645710136,
          0.48198174664602683,
          0.4112721693797545,
          0.5183006535947712,
          0.511535071180969,
          0.5049780742133684,
          0.5184508583760389,
          0.5998885031595484,
          0.44678249382196755,
          0.49805986613647074,
          0.5609814241486069,
          0.5087933006535948,
          0.5236453712266406,
          0.5011828307982231,
          0.4735988334727831,
          0.48321169418464294,
          0.4767820769333374,
          0.5062382847875992,
          0.6215425161133034,
          0.5266092200610222,
          0.45566908342284285,
          0.5392676807565132,
          0.4269305913384861,
          0.49365376155038676,
          0.48828581871345034,
          0.5207626811594204,
          0.5067384760921912,
          0.6028985533607382,
          0.5271529664497379,
          0.3405510210463771,
          0.5842527798998387,
          0.42880670013577094,
          0.5580542056639589,
          0.5095020903098082,
          0.4444439770568792,
          0.5750154359989611,
          0.5906038181589652,
          0.5325455939951739,
          0.4994735702893598,
          0.42679713318893986,
          0.3286861455108359,
          0.5357356572258534,
          0.5837521428997178,
          0.5499576791672379,
          0.47496655293696427,
          0.41696996342396614,
          0.4715686274509804,
          0.5092106911467813,
          0.4608623894002045,
          0.6025198263515932,
          0.41727001633986927,
          0.45357609710550895,
          0.5356982418801641,
          0.5032705713864493,
          0.45923449862401106,
          0.5479984583110633,
          0.5538322575406974,
          0.6036027583527585,
          0.5547398520811834,
          0.5019955350561277,
          0.5366060627149409,
          0.48143640350877187,
          0.48541367164714855,
          0.46744354759447637,
          0.5957987593546805,
          0.46316246161669505,
          0.4899867016982231,
          0.5178857069143448,
          0.5601733920993146,
          0.4082935617014565,
          0.4780284635998922,
          0.4964083313303238,
          0.5153016372240904,
          0.4244775803144224,
          0.4623925653594771,
          0.4329512145748987,
          0.5083502527631953,
          0.5407394471052257,
          0.503240294053324,
          0.5149846605308791,
          0.5099113861745165,
          0.5527809915034594,
          0.496698157523879,
          0.45769000239956126,
          0.40696163843111616,
          0.472045288045288,
          0.44325034399724805,
          0.5259254587097724,
          0.46254205385858044,
          0.5129246868318412,
          0.5037243230625583,
          0.4674346635327252,
          0.46235896149651123,
          0.5689275289062994,
          0.6430510323010322
         ],
         "xaxis": "x",
         "yaxis": "y"
        }
       ],
       "layout": {
        "annotations": [
         {
          "align": "left",
          "arrowhead": 1,
          "showarrow": false,
          "text": "Score on original labels: <br>Mean AUC: 0.603<br>p = 0.038",
          "x": 0.7029272894342922,
          "y": 50
         }
        ],
        "autosize": false,
        "bargap": 0.05,
        "barmode": "relative",
        "font": {
         "color": "black",
         "family": "Times new roman",
         "size": 20
        },
        "height": 800,
        "legend": {
         "title": {
          "text": "Model"
         },
         "tracegroupgap": 0
        },
        "margin": {
         "t": 60
        },
        "shapes": [
         {
          "line": {
           "color": "grey",
           "dash": "dash",
           "width": 3
          },
          "type": "line",
          "x0": 0.6029272894342922,
          "x1": 0.6029272894342922,
          "xref": "x",
          "y0": 0,
          "y1": 1,
          "yref": "y domain"
         }
        ],
        "template": {
         "data": {
          "bar": [
           {
            "error_x": {
             "color": "#2a3f5f"
            },
            "error_y": {
             "color": "#2a3f5f"
            },
            "marker": {
             "line": {
              "color": "white",
              "width": 0.5
             },
             "pattern": {
              "fillmode": "overlay",
              "size": 10,
              "solidity": 0.2
             }
            },
            "type": "bar"
           }
          ],
          "barpolar": [
           {
            "marker": {
             "line": {
              "color": "white",
              "width": 0.5
             },
             "pattern": {
              "fillmode": "overlay",
              "size": 10,
              "solidity": 0.2
             }
            },
            "type": "barpolar"
           }
          ],
          "carpet": [
           {
            "aaxis": {
             "endlinecolor": "#2a3f5f",
             "gridcolor": "#C8D4E3",
             "linecolor": "#C8D4E3",
             "minorgridcolor": "#C8D4E3",
             "startlinecolor": "#2a3f5f"
            },
            "baxis": {
             "endlinecolor": "#2a3f5f",
             "gridcolor": "#C8D4E3",
             "linecolor": "#C8D4E3",
             "minorgridcolor": "#C8D4E3",
             "startlinecolor": "#2a3f5f"
            },
            "type": "carpet"
           }
          ],
          "choropleth": [
           {
            "colorbar": {
             "outlinewidth": 0,
             "ticks": ""
            },
            "type": "choropleth"
           }
          ],
          "contour": [
           {
            "colorbar": {
             "outlinewidth": 0,
             "ticks": ""
            },
            "colorscale": [
             [
              0,
              "#0d0887"
             ],
             [
              0.1111111111111111,
              "#46039f"
             ],
             [
              0.2222222222222222,
              "#7201a8"
             ],
             [
              0.3333333333333333,
              "#9c179e"
             ],
             [
              0.4444444444444444,
              "#bd3786"
             ],
             [
              0.5555555555555556,
              "#d8576b"
             ],
             [
              0.6666666666666666,
              "#ed7953"
             ],
             [
              0.7777777777777778,
              "#fb9f3a"
             ],
             [
              0.8888888888888888,
              "#fdca26"
             ],
             [
              1,
              "#f0f921"
             ]
            ],
            "type": "contour"
           }
          ],
          "contourcarpet": [
           {
            "colorbar": {
             "outlinewidth": 0,
             "ticks": ""
            },
            "type": "contourcarpet"
           }
          ],
          "heatmap": [
           {
            "colorbar": {
             "outlinewidth": 0,
             "ticks": ""
            },
            "colorscale": [
             [
              0,
              "#0d0887"
             ],
             [
              0.1111111111111111,
              "#46039f"
             ],
             [
              0.2222222222222222,
              "#7201a8"
             ],
             [
              0.3333333333333333,
              "#9c179e"
             ],
             [
              0.4444444444444444,
              "#bd3786"
             ],
             [
              0.5555555555555556,
              "#d8576b"
             ],
             [
              0.6666666666666666,
              "#ed7953"
             ],
             [
              0.7777777777777778,
              "#fb9f3a"
             ],
             [
              0.8888888888888888,
              "#fdca26"
             ],
             [
              1,
              "#f0f921"
             ]
            ],
            "type": "heatmap"
           }
          ],
          "heatmapgl": [
           {
            "colorbar": {
             "outlinewidth": 0,
             "ticks": ""
            },
            "colorscale": [
             [
              0,
              "#0d0887"
             ],
             [
              0.1111111111111111,
              "#46039f"
             ],
             [
              0.2222222222222222,
              "#7201a8"
             ],
             [
              0.3333333333333333,
              "#9c179e"
             ],
             [
              0.4444444444444444,
              "#bd3786"
             ],
             [
              0.5555555555555556,
              "#d8576b"
             ],
             [
              0.6666666666666666,
              "#ed7953"
             ],
             [
              0.7777777777777778,
              "#fb9f3a"
             ],
             [
              0.8888888888888888,
              "#fdca26"
             ],
             [
              1,
              "#f0f921"
             ]
            ],
            "type": "heatmapgl"
           }
          ],
          "histogram": [
           {
            "marker": {
             "pattern": {
              "fillmode": "overlay",
              "size": 10,
              "solidity": 0.2
             }
            },
            "type": "histogram"
           }
          ],
          "histogram2d": [
           {
            "colorbar": {
             "outlinewidth": 0,
             "ticks": ""
            },
            "colorscale": [
             [
              0,
              "#0d0887"
             ],
             [
              0.1111111111111111,
              "#46039f"
             ],
             [
              0.2222222222222222,
              "#7201a8"
             ],
             [
              0.3333333333333333,
              "#9c179e"
             ],
             [
              0.4444444444444444,
              "#bd3786"
             ],
             [
              0.5555555555555556,
              "#d8576b"
             ],
             [
              0.6666666666666666,
              "#ed7953"
             ],
             [
              0.7777777777777778,
              "#fb9f3a"
             ],
             [
              0.8888888888888888,
              "#fdca26"
             ],
             [
              1,
              "#f0f921"
             ]
            ],
            "type": "histogram2d"
           }
          ],
          "histogram2dcontour": [
           {
            "colorbar": {
             "outlinewidth": 0,
             "ticks": ""
            },
            "colorscale": [
             [
              0,
              "#0d0887"
             ],
             [
              0.1111111111111111,
              "#46039f"
             ],
             [
              0.2222222222222222,
              "#7201a8"
             ],
             [
              0.3333333333333333,
              "#9c179e"
             ],
             [
              0.4444444444444444,
              "#bd3786"
             ],
             [
              0.5555555555555556,
              "#d8576b"
             ],
             [
              0.6666666666666666,
              "#ed7953"
             ],
             [
              0.7777777777777778,
              "#fb9f3a"
             ],
             [
              0.8888888888888888,
              "#fdca26"
             ],
             [
              1,
              "#f0f921"
             ]
            ],
            "type": "histogram2dcontour"
           }
          ],
          "mesh3d": [
           {
            "colorbar": {
             "outlinewidth": 0,
             "ticks": ""
            },
            "type": "mesh3d"
           }
          ],
          "parcoords": [
           {
            "line": {
             "colorbar": {
              "outlinewidth": 0,
              "ticks": ""
             }
            },
            "type": "parcoords"
           }
          ],
          "pie": [
           {
            "automargin": true,
            "type": "pie"
           }
          ],
          "scatter": [
           {
            "marker": {
             "colorbar": {
              "outlinewidth": 0,
              "ticks": ""
             }
            },
            "type": "scatter"
           }
          ],
          "scatter3d": [
           {
            "line": {
             "colorbar": {
              "outlinewidth": 0,
              "ticks": ""
             }
            },
            "marker": {
             "colorbar": {
              "outlinewidth": 0,
              "ticks": ""
             }
            },
            "type": "scatter3d"
           }
          ],
          "scattercarpet": [
           {
            "marker": {
             "colorbar": {
              "outlinewidth": 0,
              "ticks": ""
             }
            },
            "type": "scattercarpet"
           }
          ],
          "scattergeo": [
           {
            "marker": {
             "colorbar": {
              "outlinewidth": 0,
              "ticks": ""
             }
            },
            "type": "scattergeo"
           }
          ],
          "scattergl": [
           {
            "marker": {
             "colorbar": {
              "outlinewidth": 0,
              "ticks": ""
             }
            },
            "type": "scattergl"
           }
          ],
          "scattermapbox": [
           {
            "marker": {
             "colorbar": {
              "outlinewidth": 0,
              "ticks": ""
             }
            },
            "type": "scattermapbox"
           }
          ],
          "scatterpolar": [
           {
            "marker": {
             "colorbar": {
              "outlinewidth": 0,
              "ticks": ""
             }
            },
            "type": "scatterpolar"
           }
          ],
          "scatterpolargl": [
           {
            "marker": {
             "colorbar": {
              "outlinewidth": 0,
              "ticks": ""
             }
            },
            "type": "scatterpolargl"
           }
          ],
          "scatterternary": [
           {
            "marker": {
             "colorbar": {
              "outlinewidth": 0,
              "ticks": ""
             }
            },
            "type": "scatterternary"
           }
          ],
          "surface": [
           {
            "colorbar": {
             "outlinewidth": 0,
             "ticks": ""
            },
            "colorscale": [
             [
              0,
              "#0d0887"
             ],
             [
              0.1111111111111111,
              "#46039f"
             ],
             [
              0.2222222222222222,
              "#7201a8"
             ],
             [
              0.3333333333333333,
              "#9c179e"
             ],
             [
              0.4444444444444444,
              "#bd3786"
             ],
             [
              0.5555555555555556,
              "#d8576b"
             ],
             [
              0.6666666666666666,
              "#ed7953"
             ],
             [
              0.7777777777777778,
              "#fb9f3a"
             ],
             [
              0.8888888888888888,
              "#fdca26"
             ],
             [
              1,
              "#f0f921"
             ]
            ],
            "type": "surface"
           }
          ],
          "table": [
           {
            "cells": {
             "fill": {
              "color": "#EBF0F8"
             },
             "line": {
              "color": "white"
             }
            },
            "header": {
             "fill": {
              "color": "#C8D4E3"
             },
             "line": {
              "color": "white"
             }
            },
            "type": "table"
           }
          ]
         },
         "layout": {
          "annotationdefaults": {
           "arrowcolor": "#2a3f5f",
           "arrowhead": 0,
           "arrowwidth": 1
          },
          "autotypenumbers": "strict",
          "coloraxis": {
           "colorbar": {
            "outlinewidth": 0,
            "ticks": ""
           }
          },
          "colorscale": {
           "diverging": [
            [
             0,
             "#8e0152"
            ],
            [
             0.1,
             "#c51b7d"
            ],
            [
             0.2,
             "#de77ae"
            ],
            [
             0.3,
             "#f1b6da"
            ],
            [
             0.4,
             "#fde0ef"
            ],
            [
             0.5,
             "#f7f7f7"
            ],
            [
             0.6,
             "#e6f5d0"
            ],
            [
             0.7,
             "#b8e186"
            ],
            [
             0.8,
             "#7fbc41"
            ],
            [
             0.9,
             "#4d9221"
            ],
            [
             1,
             "#276419"
            ]
           ],
           "sequential": [
            [
             0,
             "#0d0887"
            ],
            [
             0.1111111111111111,
             "#46039f"
            ],
            [
             0.2222222222222222,
             "#7201a8"
            ],
            [
             0.3333333333333333,
             "#9c179e"
            ],
            [
             0.4444444444444444,
             "#bd3786"
            ],
            [
             0.5555555555555556,
             "#d8576b"
            ],
            [
             0.6666666666666666,
             "#ed7953"
            ],
            [
             0.7777777777777778,
             "#fb9f3a"
            ],
            [
             0.8888888888888888,
             "#fdca26"
            ],
            [
             1,
             "#f0f921"
            ]
           ],
           "sequentialminus": [
            [
             0,
             "#0d0887"
            ],
            [
             0.1111111111111111,
             "#46039f"
            ],
            [
             0.2222222222222222,
             "#7201a8"
            ],
            [
             0.3333333333333333,
             "#9c179e"
            ],
            [
             0.4444444444444444,
             "#bd3786"
            ],
            [
             0.5555555555555556,
             "#d8576b"
            ],
            [
             0.6666666666666666,
             "#ed7953"
            ],
            [
             0.7777777777777778,
             "#fb9f3a"
            ],
            [
             0.8888888888888888,
             "#fdca26"
            ],
            [
             1,
             "#f0f921"
            ]
           ]
          },
          "colorway": [
           "#636efa",
           "#EF553B",
           "#00cc96",
           "#ab63fa",
           "#FFA15A",
           "#19d3f3",
           "#FF6692",
           "#B6E880",
           "#FF97FF",
           "#FECB52"
          ],
          "font": {
           "color": "#2a3f5f"
          },
          "geo": {
           "bgcolor": "white",
           "lakecolor": "white",
           "landcolor": "white",
           "showlakes": true,
           "showland": true,
           "subunitcolor": "#C8D4E3"
          },
          "hoverlabel": {
           "align": "left"
          },
          "hovermode": "closest",
          "mapbox": {
           "style": "light"
          },
          "paper_bgcolor": "white",
          "plot_bgcolor": "white",
          "polar": {
           "angularaxis": {
            "gridcolor": "#EBF0F8",
            "linecolor": "#EBF0F8",
            "ticks": ""
           },
           "bgcolor": "white",
           "radialaxis": {
            "gridcolor": "#EBF0F8",
            "linecolor": "#EBF0F8",
            "ticks": ""
           }
          },
          "scene": {
           "xaxis": {
            "backgroundcolor": "white",
            "gridcolor": "#DFE8F3",
            "gridwidth": 2,
            "linecolor": "#EBF0F8",
            "showbackground": true,
            "ticks": "",
            "zerolinecolor": "#EBF0F8"
           },
           "yaxis": {
            "backgroundcolor": "white",
            "gridcolor": "#DFE8F3",
            "gridwidth": 2,
            "linecolor": "#EBF0F8",
            "showbackground": true,
            "ticks": "",
            "zerolinecolor": "#EBF0F8"
           },
           "zaxis": {
            "backgroundcolor": "white",
            "gridcolor": "#DFE8F3",
            "gridwidth": 2,
            "linecolor": "#EBF0F8",
            "showbackground": true,
            "ticks": "",
            "zerolinecolor": "#EBF0F8"
           }
          },
          "shapedefaults": {
           "line": {
            "color": "#2a3f5f"
           }
          },
          "ternary": {
           "aaxis": {
            "gridcolor": "#DFE8F3",
            "linecolor": "#A2B1C6",
            "ticks": ""
           },
           "baxis": {
            "gridcolor": "#DFE8F3",
            "linecolor": "#A2B1C6",
            "ticks": ""
           },
           "bgcolor": "white",
           "caxis": {
            "gridcolor": "#DFE8F3",
            "linecolor": "#A2B1C6",
            "ticks": ""
           }
          },
          "title": {
           "x": 0.05
          },
          "xaxis": {
           "automargin": true,
           "gridcolor": "#EBF0F8",
           "linecolor": "#EBF0F8",
           "ticks": "",
           "title": {
            "standoff": 15
           },
           "zerolinecolor": "#EBF0F8",
           "zerolinewidth": 2
          },
          "yaxis": {
           "automargin": true,
           "gridcolor": "#EBF0F8",
           "linecolor": "#EBF0F8",
           "ticks": "",
           "title": {
            "standoff": 15
           },
           "zerolinecolor": "#EBF0F8",
           "zerolinewidth": 2
          }
         }
        },
        "width": 800,
        "xaxis": {
         "anchor": "y",
         "domain": [
          0,
          1
         ],
         "range": [
          0.25,
          0.75
         ],
         "tickfont": {
          "size": 20
         },
         "title": {
          "text": "CV AUC"
         }
        },
        "yaxis": {
         "anchor": "x",
         "domain": [
          0,
          1
         ],
         "tickfont": {
          "size": 20
         },
         "title": {
          "text": ""
         }
        }
       }
      },
      "text/html": [
       "<div>                            <div id=\"fbb380f0-9136-497b-9906-98ab7c9fa601\" class=\"plotly-graph-div\" style=\"height:800px; width:800px;\"></div>            <script type=\"text/javascript\">                require([\"plotly\"], function(Plotly) {                    window.PLOTLYENV=window.PLOTLYENV || {};                                    if (document.getElementById(\"fbb380f0-9136-497b-9906-98ab7c9fa601\")) {                    Plotly.newPlot(                        \"fbb380f0-9136-497b-9906-98ab7c9fa601\",                        [{\"alignmentgroup\":\"True\",\"bingroup\":\"x\",\"hovertemplate\":\"Model=Shuffled<br>auc=%{x}<br>count=%{y}<extra></extra>\",\"legendgroup\":\"Shuffled\",\"marker\":{\"color\":\"#DE237B\",\"pattern\":{\"shape\":\"\"}},\"name\":\"Shuffled\",\"nbinsx\":25,\"offsetgroup\":\"Shuffled\",\"orientation\":\"v\",\"showlegend\":true,\"x\":[0.42121026212088264,0.5689862401100791,0.4881016081871345,0.5053710994887466,0.5536143755747912,0.5890999509031343,0.5215734293717487,0.5848666313047117,0.5880268943913108,0.44110307017543865,0.46627345537757436,0.5272727114155685,0.5622776696510965,0.3914455829497109,0.585870898644699,0.4394471127427784,0.5416579544098341,0.4244574537949151,0.46062508117282003,0.5008559025440841,0.5132977861031691,0.48291212755498475,0.41321526110444173,0.46883122157244966,0.6056900413674242,0.491019342027082,0.5581859061990639,0.49847650349231987,0.4194883076037432,0.4505919370036344,0.5490733894438969,0.5693730825663599,0.5270107722722956,0.5127595949065432,0.5050216157401175,0.5199663332238798,0.4062091503267974,0.4512268170426065,0.4433081504961204,0.4614127667848222,0.3273864809081527,0.39459903381642514,0.5090508445802564,0.5209036836179693,0.5307632263431687,0.4179462507613768,0.5790920754266619,0.5136652906776746,0.3686686077939948,0.5987595125769606,0.5882057178165095,0.5199916281456897,0.6534930901422353,0.6366830065359478,0.5119262985896114,0.5247960369332919,0.39352868467961344,0.47157091592617906,0.5613531746031746,0.47874109907120743,0.46791178972855985,0.5400760144568194,0.4346262887439358,0.576484692122463,0.5210212190630148,0.428544220485397,0.5336190476190477,0.5756879944960441,0.4866429909959322,0.5038343163776232,0.4863816206527204,0.532343395252838,0.42951180472188877,0.5517973856209151,0.4468662607234036,0.4445236179369306,0.43881101920853477,0.4894383318779604,0.4794344404428438,0.4789105488349185,0.5191537356170539,0.4817556198680846,0.4888881961802435,0.44204339924082053,0.4016426276948507,0.34516096951294317,0.5173187585548267,0.6011443195239081,0.5267562667324748,0.5319831441348469,0.6148636732941244,0.4511638635387265,0.5919168124915871,0.6051785714285715,0.4727555631503,0.523265597028285,0.5467840293330489,0.456811048005947,0.5508963905181432,0.4926651184437225,0.4910247565845561,0.44105744754041976,0.46504177109440265,0.45926393867570336,0.6334815604263341,0.353009847288743,0.42865025823849356,0.41623729940694226,0.6310421821750143,0.46715187478500175,0.49571212692536226,0.5311739687900678,0.531842069629553,0.4291813429075334,0.43087772220899156,0.3837093057318621,0.5392626528750752,0.5315135756056809,0.6158208410636983,0.4575394870867007,0.47813029454205924,0.3894020137737888,0.46688936188510494,0.5730217703349283,0.4794765468769853,0.4863005981729923,0.5060663272245897,0.597483918128655,0.5592463652127517,0.5826036372681116,0.5372409924342698,0.4888317519990452,0.46575065689011036,0.49234800401734047,0.45710674533734164,0.48773342169115497,0.5647993421052632,0.4702834337527319,0.5005677672860335,0.5113105339601728,0.5003539769484042,0.4273945410850173,0.4018728070175438,0.38538029924021483,0.3860210079369743,0.42767492962097114,0.4255836014802565,0.5653336929668199,0.5751654952865699,0.5065076371856557,0.4701892732684225,0.40420107811864775,0.5439024788862914,0.5679502063983488,0.46287092029794374,0.4205010275242474,0.3404166666666667,0.5153023490097793,0.41301783723522856,0.5366415470494419,0.5134681672405458,0.4842790075679394,0.4057075623464942,0.6376634957013108,0.6275948789959087,0.46578042195899333,0.5015976830187355,0.5006937441643323,0.4929314880166274,0.4644585114747654,0.4922927631578948,0.4471860357415277,0.4414425570615501,0.5645784071204238,0.5245462399411979,0.5080155064878362,0.4964042397660819,0.5017300651091009,0.4109630334392239,0.48166444723822543,0.3777227158806106,0.4774394167555379,0.4404549569827931,0.43634570144767515,0.5149705022359821,0.47018435795370783,0.5786664665866347,0.4421231455545181,0.4903070019076211,0.5283156244954123,0.4934877534745955,0.47425530585147013,0.48934012713477,0.5072779977375566,0.4559179504419443,0.5037098721998102,0.4620430900621118,0.3993642938656944,0.572750021061056,0.3355043453278747,0.5291144963690297,0.5498131805676563,0.5532482677281438,0.544919021037442,0.584957952010449,0.4948935232294366,0.4634415204678362,0.5090443075156698,0.4904753774739642,0.48822137451471825,0.5482917096663227,0.43212934296525624,0.5605772565436431,0.5706784783414041,0.4494008129567616,0.562974447912336,0.4598593314365374,0.40567094074471893,0.4627515302679776,0.536621729148045,0.47844739894178756,0.4579465944272446,0.5371512605042017,0.49766250854408745,0.5147915166066427,0.6160068137666966,0.4357497457411646,0.5876873573131866,0.4751428715858541,0.5847143773743361,0.5572091668565353,0.5398982259570495,0.548359428711983,0.37198041098417034,0.5004104021193805,0.4287368580087878,0.48100494682999057,0.5112443240454076,0.5820715011574593,0.44328063362506087,0.515141447368421,0.4871156445034154,0.46683141788183813,0.5992006089148946,0.40996092982647603,0.5871632426860318,0.5271242800150363,0.553811350929772,0.5298242131062951,0.5813806024802265,0.47121976218614875,0.4617247816191868,0.4366314892089559,0.4697888650736948,0.47681089405459154,0.5496626983605367,0.527249699879952,0.49395642701525055,0.5966555944055945,0.44805025694488326,0.4230064513134688,0.4365531300239393,0.5091306092092202,0.4690914696160691,0.4369107515813343,0.6091825572334197,0.5563073593073593,0.4590052459580324,0.47849225479665547,0.5251057565622783,0.66373516428341,0.4605945087763973,0.5340449419002051,0.5251029149878255,0.563076088943736,0.4970176169495392,0.49178054379646596,0.45586600412943123,0.5355711981762402,0.505686894055868,0.45694145311173173,0.49505214175677903,0.44711787346517556,0.5038531988046054,0.46325363648298545,0.45086311498283527,0.4682518256597204,0.6644935500515996,0.5283104575163398,0.43129678030208607,0.5088487588017664,0.548438328937813,0.5366582510197062,0.4336896161973562,0.5245895052697113,0.348046587055875,0.48151620297241704,0.5416764485690878,0.38939067986687037,0.5813972193588514,0.5338308906896092,0.530176136213288,0.46437992354345736,0.5811680033416875,0.508449676166763,0.43053227498093055,0.4605348893943543,0.5725800254757382,0.5172769217336057,0.5611127853914232,0.5487060957105954,0.5159281319906092,0.5129257166981626,0.3933944367220573,0.5474491129785248,0.5149965558305701,0.4611978052944199,0.5759345760233918,0.4923526744030946,0.6022263817807825,0.4198702064158997,0.601138974449429,0.5152476923997317,0.4954387088168601,0.4636947854347236,0.5435601433555879,0.5183717105263158,0.5207123227458625,0.4301013071895426,0.5239102307589703,0.3580976201253253,0.5499804232425716,0.5019116120132263,0.43124348991222056,0.39269634239095136,0.44146412797728585,0.5380388542398907,0.48432372949179675,0.41765820363233014,0.5587627998567849,0.45077876116121507,0.5753375767679174,0.5310282871890015,0.42999501821339503,0.4971680900430348,0.3970326288410101,0.5509750929707071,0.4699992595124174,0.3369402731808506,0.5414880952380953,0.47897125494567944,0.5068782911275171,0.4916790355419557,0.5835516425868593,0.4216822474603877,0.5404633520074695,0.5757007865145652,0.5691962695242495,0.6101423685533593,0.506304802558235,0.5254239217356729,0.42228144552815605,0.581920923632611,0.5011537948512739,0.45358090385276917,0.4798299319727891,0.485274653451124,0.45136466165413536,0.4406347862535583,0.6071679039914335,0.535221341523973,0.5303703990368077,0.5623452802173501,0.4887119496921576,0.45276650812880453,0.40681282687423037,0.4339977486036367,0.5155050287658923,0.5221761363636364,0.42028478752966575,0.47035122119023054,0.4803070175438596,0.5891359728349903,0.5259629342965256,0.4682551704892483,0.5466245367764331,0.42868124628247123,0.4864313725490196,0.42317412850307584,0.46718740452873586,0.4748111689651937,0.50001389748882,0.5634695369989486,0.3790608164079029,0.47342282527045904,0.5773439789409973,0.446671293517407,0.6392270241429905,0.6080262391410851,0.5273425464770195,0.3566165145631311,0.6034138355923253,0.5564419996068602,0.5078164774681803,0.5248582057777105,0.52199536746897,0.45614719834688877,0.46455555796113074,0.47887348027789206,0.5618651264431315,0.49986658874075945,0.5761379804358094,0.5403545668666192,0.5602837538524181,0.5574543965734442,0.5277795871753191,0.48420585047907033,0.5055255336768495,0.49262198212618385,0.5301553095802658,0.5123929478551328,0.48164884374802563,0.5294408991666841,0.5097599609589879,0.4994136996904025,0.5490875472996215,0.48899321498934506,0.47909379277413333,0.38181863622642037,0.415375483526744,0.4149961300309598,0.4899775653968682,0.5305648570617059,0.5460176442812059,0.5146435328517371,0.538013542483451,0.5340571755017796,0.4562986569673876,0.5110404843755684,0.5885111035260786,0.5412630256781075,0.5157813635751782,0.5455294865467163,0.4441133190118153,0.5099914860681114,0.4768078560371517,0.49932839802587703,0.424363650465707,0.5179400707651481,0.5463053020251163,0.528917500628027,0.4525637252951863,0.4561255570672496,0.42750052613638045,0.6517075122282996,0.49048140309982413,0.5141490196078431,0.47018071582700066,0.5650140096172248,0.5513427006430103,0.5686645491529945,0.4165287141484428,0.4839092920151743,0.4724863399414483,0.5344595404595405,0.49105229460205135,0.42887861811391226,0.542960393158026,0.5158301828890064,0.43573433759468705,0.5389352819400365,0.5474607747582464,0.46325903188229045,0.5859278645822211,0.42371592935419783,0.41775682219663013,0.5239375689669806,0.45215817730601016,0.37802774443110576,0.49520632016762045,0.5903993614989855,0.3401276172749802,0.5348944452616357,0.4708234560880883,0.4756451585527953,0.4756846569173935,0.4989000546237389,0.5307407120743034,0.5253758084236027,0.5643000515995873,0.5318845811051693,0.42227786509340576,0.5675829346092505,0.4654729285653655,0.5171684524625701,0.44134509066784605,0.5367265520243185,0.5137523415163165,0.5467557661636608,0.5459228826728827,0.49236091901995793,0.5131425903694811,0.4198641355204823,0.4731358880508726,0.40796009200488276,0.4032715107875509,0.5383974673202614,0.44656468909073926,0.48458476724022936,0.3935300763048441,0.5492675736961452,0.4822444137838202,0.5335842346507982,0.4707858734645651,0.5373624634191333,0.49931213450292394,0.38914879792072776,0.4556811934004917,0.5474168424043911,0.4159651579930218,0.48833882405863827,0.5093269020804355,0.5132755421008983,0.5597883605043048,0.4424670899276162,0.4173746867167919,0.5316403792286145,0.4388259278370218,0.5571661998132587,0.46785013128058245,0.4474256807986352,0.45447079150639524,0.49667515602732326,0.5259474066429691,0.46054491972227485,0.4621252149982801,0.47478827647406385,0.4764402629534209,0.4601419133841735,0.5127599026232567,0.5337689096617668,0.5455031166840966,0.48742212854161204,0.41889999684084156,0.504155572792238,0.40741074670574895,0.4933209404974111,0.4743122582366279,0.513296485260771,0.5315981331803977,0.39670746548050106,0.4931199690402476,0.6269341639952871,0.48172138037562473,0.5695408426528505,0.46397085949004113,0.5220144066288029,0.5287950000747821,0.45398864809081535,0.6076191643705536,0.648234474491551,0.4970676602986385,0.3669611856438482,0.54531303091412,0.5261067106268345,0.49465497778058587,0.5786599567363178,0.5480918544819474,0.6019267196511779,0.5191711976895043,0.48170753756047874,0.49233640633980513,0.48670277422563224,0.43707300740195476,0.316200915027002,0.5634204087293332,0.5373432093015579,0.4666135490046514,0.41976720360150155,0.3895980737891589,0.4686164215686274,0.3885259901061874,0.5317736603413296,0.5015634441835816,0.4784549687321323,0.4614156920077973,0.49459690893901415,0.5290166661683691,0.4654030959362302,0.5165865509956896,0.4839058985605038,0.5012111511271176,0.5024620374465576,0.4810132981544967,0.5442894491129786,0.5518365526988827,0.4746420968801921,0.5199095022624435,0.3865855580362436,0.5216618629908105,0.47730572228891555,0.47338523557571177,0.4672597407384006,0.5115284851518819,0.5092550353474723,0.5209573459013235,0.48047682709447415,0.5341137770897832,0.550751253132832,0.46534911141490093,0.4298670602488327,0.45292540017956506,0.43924428291530193,0.4506519975739252,0.44769561157796456,0.5609298533573336,0.49096452528379775,0.5635903149138443,0.4425677711969609,0.42293670319004795,0.5158498825922436,0.5667466990039149,0.5065010822510823,0.46425321005595216,0.5909166629275662,0.3935319138927712,0.523218990763428,0.5196271947866375,0.5865224489795918,0.46110699762361074,0.5009670247046186,0.5099407425126735,0.4517855455267192,0.48773031916729404,0.5255173901728524,0.5076623105382504,0.4441066777588228,0.40717956656346743,0.6596243325705567,0.5899604739683821,0.5626980828523287,0.45518454267498554,0.5640710041592394,0.49756685862750905,0.5085980269300703,0.4981897546897547,0.4553646275651929,0.45749740422484775,0.5367551020408163,0.4739718032001651,0.5108873926211388,0.4592397959183673,0.5166859591789932,0.4007075930605343,0.49064244645226507,0.49528288378288376,0.5242564136765818,0.4737822462318261,0.6371211985938541,0.4421015256673151,0.5280494186853983,0.38999500540957127,0.47355293024528605,0.4514899527062287,0.49109466467746526,0.47544808746710565,0.6097372119624442,0.48477704678362576,0.5391332989336085,0.5511998624011009,0.461411720243653,0.5422617731303048,0.47101059592037037,0.5021119956754632,0.5109667916362963,0.5086744331888073,0.5689969554255269,0.4933477143293964,0.4612571637649155,0.6073968429231588,0.6241237367054627,0.5677434886998277,0.44139616102851403,0.5552885902367327,0.48802760017050295,0.544058951809322,0.5077258221102205,0.6472527818144801,0.42419701916160885,0.5098694951664876,0.41302166400850615,0.5340522688861966,0.5079599489777509,0.5364671981174876,0.5085937034615524,0.5091533894054903,0.43615297948509485,0.4485630555743338,0.41953646370829034,0.5884938080495357,0.49505981339904387,0.47711352040816324,0.49603519597018053,0.5442156750572082,0.4130238498908335,0.5294815865249303,0.5032892648287386,0.5579498720540848,0.5131186656384722,0.5622538934602181,0.536225907262672,0.547639188232648,0.5275510502446593,0.4851554007567939,0.4912107386814375,0.4603659342524889,0.6042710417500334,0.41454793900752546,0.47726168617367204,0.5259277991898514,0.5839378869969041,0.5764938993141115,0.432937648743708,0.48290226178190565,0.5227998844905561,0.598646113246553,0.42532240360258927,0.5038445326603223,0.5807485102303029,0.4396566094079639,0.5076784766121968,0.5812434210526316,0.524564167772372,0.4833694727891157,0.5272697078831532,0.4204502737021582,0.5233824845727765,0.5406125359234603,0.6287865729137659,0.6349096994950598,0.5538960012124099,0.5525912061794415,0.45701144492884876,0.49202984912833986,0.47256679953296504,0.5441384551532283,0.38835953694979136,0.49871340666955827,0.44039025969853035,0.49985393679002704,0.47097477806912236,0.4046849882144,0.5285641957133185,0.46995782016510307,0.4461366051293812,0.5179031554142125,0.5497381847475833,0.6034127401420635,0.524028710088501,0.5213678626865126,0.4578128256133372,0.38985176482873857,0.4375254443698716,0.5475595821876781,0.4326909430438842,0.3976322347120666,0.5372147852147853,0.5124720965309201,0.47679573934837094,0.46861378044040586,0.5463213305657191,0.513042356336474,0.5590664379480169,0.5872059678180961,0.5438563865614949,0.6048764532680941,0.4998660172555044,0.5085665900515525,0.4890849673202614,0.4949797383068059,0.5717802186848239,0.4475987280730517,0.5450285087719299,0.4522364164521028,0.5199073973841776,0.4643687535620309,0.41283034560898335,0.49562452173852006,0.59971877522939,0.5763922506801764,0.587590017825312,0.4880722664128994,0.5684309969601876,0.4051307911215032,0.4672968815672721,0.4456258321510423,0.5960406092261467,0.4393518536601243,0.45272666961521446,0.4797069523109367,0.5482361694742647,0.5408971455433519,0.5297361270022884,0.46549350558506575,0.44014044581149847,0.552297815617475,0.466140041875336,0.44118989716405255,0.38800646905935865,0.5417272727272727,0.5489799231095948,0.5001885927521276,0.4691649984002925,0.4421835839598997,0.48029419242906923,0.46587860196219333,0.5629422031834312,0.5559088266885702,0.47109838772338775,0.49492593309253535,0.47922683941997857,0.5045791284554552,0.5116309892378004,0.47533754729962163,0.4759587471352177,0.5572685916471852,0.510673202614379,0.5416274005615005,0.5079943714327837,0.4774707658425689,0.49352398766524147,0.5214625902992778,0.4217603599653577,0.4714052287581699,0.537029878618114,0.4007878326769304,0.4952155064577665,0.4194250486542518,0.5374343470126364,0.4065108026853423,0.49330140911719855,0.5530791529218304,0.4246970266575529,0.5000793639338531,0.5300924608587148,0.5337847463546822,0.5319711042311661,0.5654787062046018,0.5439990025949357,0.48864496356756415,0.5028215683126398,0.4677450234479757,0.3481808186279851,0.5234826281389748,0.47687831097351213,0.5604342320261437,0.49772232205359146,0.5290946455813447,0.4777005262440598,0.49727517868745946,0.547373366013072,0.4598221964224286,0.5387087764167452,0.42720168067226894,0.5503900742115029,0.4889904832962613,0.4649230722592067,0.44715784946048104,0.5383046551954115,0.5441846405228759,0.49380789352778154,0.47889224286205706,0.44345182974375524,0.48397258039518104,0.4214212278153626,0.5180157327753235,0.45688187994496043,0.4776953532609216,0.5554609305125559,0.5255958793773919,0.4996413023298988,0.4846626875630635,0.4752119711042312,0.4475993114676588,0.4846129297013861,0.47185722242113215,0.5147297223545289,0.4781919785458043,0.5367859398145224,0.47438148468133756,0.5493401574345848,0.5080196078431373,0.3989353286891987,0.5581395041147362,0.4102859913134681,0.39463498030791266,0.5219405039405041,0.541358422279475,0.43093295636252293,0.5743668409238586,0.5799644454763871,0.45583444969203485,0.49379073559248265,0.49051324696545284,0.5205844513243894,0.5591984645710136,0.48198174664602683,0.4112721693797545,0.5183006535947712,0.511535071180969,0.5049780742133684,0.5184508583760389,0.5998885031595484,0.44678249382196755,0.49805986613647074,0.5609814241486069,0.5087933006535948,0.5236453712266406,0.5011828307982231,0.4735988334727831,0.48321169418464294,0.4767820769333374,0.5062382847875992,0.6215425161133034,0.5266092200610222,0.45566908342284285,0.5392676807565132,0.4269305913384861,0.49365376155038676,0.48828581871345034,0.5207626811594204,0.5067384760921912,0.6028985533607382,0.5271529664497379,0.3405510210463771,0.5842527798998387,0.42880670013577094,0.5580542056639589,0.5095020903098082,0.4444439770568792,0.5750154359989611,0.5906038181589652,0.5325455939951739,0.4994735702893598,0.42679713318893986,0.3286861455108359,0.5357356572258534,0.5837521428997178,0.5499576791672379,0.47496655293696427,0.41696996342396614,0.4715686274509804,0.5092106911467813,0.4608623894002045,0.6025198263515932,0.41727001633986927,0.45357609710550895,0.5356982418801641,0.5032705713864493,0.45923449862401106,0.5479984583110633,0.5538322575406974,0.6036027583527585,0.5547398520811834,0.5019955350561277,0.5366060627149409,0.48143640350877187,0.48541367164714855,0.46744354759447637,0.5957987593546805,0.46316246161669505,0.4899867016982231,0.5178857069143448,0.5601733920993146,0.4082935617014565,0.4780284635998922,0.4964083313303238,0.5153016372240904,0.4244775803144224,0.4623925653594771,0.4329512145748987,0.5083502527631953,0.5407394471052257,0.503240294053324,0.5149846605308791,0.5099113861745165,0.5527809915034594,0.496698157523879,0.45769000239956126,0.40696163843111616,0.472045288045288,0.44325034399724805,0.5259254587097724,0.46254205385858044,0.5129246868318412,0.5037243230625583,0.4674346635327252,0.46235896149651123,0.5689275289062994,0.6430510323010322],\"xaxis\":\"x\",\"yaxis\":\"y\",\"type\":\"histogram\"}],                        {\"template\":{\"data\":{\"barpolar\":[{\"marker\":{\"line\":{\"color\":\"white\",\"width\":0.5},\"pattern\":{\"fillmode\":\"overlay\",\"size\":10,\"solidity\":0.2}},\"type\":\"barpolar\"}],\"bar\":[{\"error_x\":{\"color\":\"#2a3f5f\"},\"error_y\":{\"color\":\"#2a3f5f\"},\"marker\":{\"line\":{\"color\":\"white\",\"width\":0.5},\"pattern\":{\"fillmode\":\"overlay\",\"size\":10,\"solidity\":0.2}},\"type\":\"bar\"}],\"carpet\":[{\"aaxis\":{\"endlinecolor\":\"#2a3f5f\",\"gridcolor\":\"#C8D4E3\",\"linecolor\":\"#C8D4E3\",\"minorgridcolor\":\"#C8D4E3\",\"startlinecolor\":\"#2a3f5f\"},\"baxis\":{\"endlinecolor\":\"#2a3f5f\",\"gridcolor\":\"#C8D4E3\",\"linecolor\":\"#C8D4E3\",\"minorgridcolor\":\"#C8D4E3\",\"startlinecolor\":\"#2a3f5f\"},\"type\":\"carpet\"}],\"choropleth\":[{\"colorbar\":{\"outlinewidth\":0,\"ticks\":\"\"},\"type\":\"choropleth\"}],\"contourcarpet\":[{\"colorbar\":{\"outlinewidth\":0,\"ticks\":\"\"},\"type\":\"contourcarpet\"}],\"contour\":[{\"colorbar\":{\"outlinewidth\":0,\"ticks\":\"\"},\"colorscale\":[[0.0,\"#0d0887\"],[0.1111111111111111,\"#46039f\"],[0.2222222222222222,\"#7201a8\"],[0.3333333333333333,\"#9c179e\"],[0.4444444444444444,\"#bd3786\"],[0.5555555555555556,\"#d8576b\"],[0.6666666666666666,\"#ed7953\"],[0.7777777777777778,\"#fb9f3a\"],[0.8888888888888888,\"#fdca26\"],[1.0,\"#f0f921\"]],\"type\":\"contour\"}],\"heatmapgl\":[{\"colorbar\":{\"outlinewidth\":0,\"ticks\":\"\"},\"colorscale\":[[0.0,\"#0d0887\"],[0.1111111111111111,\"#46039f\"],[0.2222222222222222,\"#7201a8\"],[0.3333333333333333,\"#9c179e\"],[0.4444444444444444,\"#bd3786\"],[0.5555555555555556,\"#d8576b\"],[0.6666666666666666,\"#ed7953\"],[0.7777777777777778,\"#fb9f3a\"],[0.8888888888888888,\"#fdca26\"],[1.0,\"#f0f921\"]],\"type\":\"heatmapgl\"}],\"heatmap\":[{\"colorbar\":{\"outlinewidth\":0,\"ticks\":\"\"},\"colorscale\":[[0.0,\"#0d0887\"],[0.1111111111111111,\"#46039f\"],[0.2222222222222222,\"#7201a8\"],[0.3333333333333333,\"#9c179e\"],[0.4444444444444444,\"#bd3786\"],[0.5555555555555556,\"#d8576b\"],[0.6666666666666666,\"#ed7953\"],[0.7777777777777778,\"#fb9f3a\"],[0.8888888888888888,\"#fdca26\"],[1.0,\"#f0f921\"]],\"type\":\"heatmap\"}],\"histogram2dcontour\":[{\"colorbar\":{\"outlinewidth\":0,\"ticks\":\"\"},\"colorscale\":[[0.0,\"#0d0887\"],[0.1111111111111111,\"#46039f\"],[0.2222222222222222,\"#7201a8\"],[0.3333333333333333,\"#9c179e\"],[0.4444444444444444,\"#bd3786\"],[0.5555555555555556,\"#d8576b\"],[0.6666666666666666,\"#ed7953\"],[0.7777777777777778,\"#fb9f3a\"],[0.8888888888888888,\"#fdca26\"],[1.0,\"#f0f921\"]],\"type\":\"histogram2dcontour\"}],\"histogram2d\":[{\"colorbar\":{\"outlinewidth\":0,\"ticks\":\"\"},\"colorscale\":[[0.0,\"#0d0887\"],[0.1111111111111111,\"#46039f\"],[0.2222222222222222,\"#7201a8\"],[0.3333333333333333,\"#9c179e\"],[0.4444444444444444,\"#bd3786\"],[0.5555555555555556,\"#d8576b\"],[0.6666666666666666,\"#ed7953\"],[0.7777777777777778,\"#fb9f3a\"],[0.8888888888888888,\"#fdca26\"],[1.0,\"#f0f921\"]],\"type\":\"histogram2d\"}],\"histogram\":[{\"marker\":{\"pattern\":{\"fillmode\":\"overlay\",\"size\":10,\"solidity\":0.2}},\"type\":\"histogram\"}],\"mesh3d\":[{\"colorbar\":{\"outlinewidth\":0,\"ticks\":\"\"},\"type\":\"mesh3d\"}],\"parcoords\":[{\"line\":{\"colorbar\":{\"outlinewidth\":0,\"ticks\":\"\"}},\"type\":\"parcoords\"}],\"pie\":[{\"automargin\":true,\"type\":\"pie\"}],\"scatter3d\":[{\"line\":{\"colorbar\":{\"outlinewidth\":0,\"ticks\":\"\"}},\"marker\":{\"colorbar\":{\"outlinewidth\":0,\"ticks\":\"\"}},\"type\":\"scatter3d\"}],\"scattercarpet\":[{\"marker\":{\"colorbar\":{\"outlinewidth\":0,\"ticks\":\"\"}},\"type\":\"scattercarpet\"}],\"scattergeo\":[{\"marker\":{\"colorbar\":{\"outlinewidth\":0,\"ticks\":\"\"}},\"type\":\"scattergeo\"}],\"scattergl\":[{\"marker\":{\"colorbar\":{\"outlinewidth\":0,\"ticks\":\"\"}},\"type\":\"scattergl\"}],\"scattermapbox\":[{\"marker\":{\"colorbar\":{\"outlinewidth\":0,\"ticks\":\"\"}},\"type\":\"scattermapbox\"}],\"scatterpolargl\":[{\"marker\":{\"colorbar\":{\"outlinewidth\":0,\"ticks\":\"\"}},\"type\":\"scatterpolargl\"}],\"scatterpolar\":[{\"marker\":{\"colorbar\":{\"outlinewidth\":0,\"ticks\":\"\"}},\"type\":\"scatterpolar\"}],\"scatter\":[{\"marker\":{\"colorbar\":{\"outlinewidth\":0,\"ticks\":\"\"}},\"type\":\"scatter\"}],\"scatterternary\":[{\"marker\":{\"colorbar\":{\"outlinewidth\":0,\"ticks\":\"\"}},\"type\":\"scatterternary\"}],\"surface\":[{\"colorbar\":{\"outlinewidth\":0,\"ticks\":\"\"},\"colorscale\":[[0.0,\"#0d0887\"],[0.1111111111111111,\"#46039f\"],[0.2222222222222222,\"#7201a8\"],[0.3333333333333333,\"#9c179e\"],[0.4444444444444444,\"#bd3786\"],[0.5555555555555556,\"#d8576b\"],[0.6666666666666666,\"#ed7953\"],[0.7777777777777778,\"#fb9f3a\"],[0.8888888888888888,\"#fdca26\"],[1.0,\"#f0f921\"]],\"type\":\"surface\"}],\"table\":[{\"cells\":{\"fill\":{\"color\":\"#EBF0F8\"},\"line\":{\"color\":\"white\"}},\"header\":{\"fill\":{\"color\":\"#C8D4E3\"},\"line\":{\"color\":\"white\"}},\"type\":\"table\"}]},\"layout\":{\"annotationdefaults\":{\"arrowcolor\":\"#2a3f5f\",\"arrowhead\":0,\"arrowwidth\":1},\"autotypenumbers\":\"strict\",\"coloraxis\":{\"colorbar\":{\"outlinewidth\":0,\"ticks\":\"\"}},\"colorscale\":{\"diverging\":[[0,\"#8e0152\"],[0.1,\"#c51b7d\"],[0.2,\"#de77ae\"],[0.3,\"#f1b6da\"],[0.4,\"#fde0ef\"],[0.5,\"#f7f7f7\"],[0.6,\"#e6f5d0\"],[0.7,\"#b8e186\"],[0.8,\"#7fbc41\"],[0.9,\"#4d9221\"],[1,\"#276419\"]],\"sequential\":[[0.0,\"#0d0887\"],[0.1111111111111111,\"#46039f\"],[0.2222222222222222,\"#7201a8\"],[0.3333333333333333,\"#9c179e\"],[0.4444444444444444,\"#bd3786\"],[0.5555555555555556,\"#d8576b\"],[0.6666666666666666,\"#ed7953\"],[0.7777777777777778,\"#fb9f3a\"],[0.8888888888888888,\"#fdca26\"],[1.0,\"#f0f921\"]],\"sequentialminus\":[[0.0,\"#0d0887\"],[0.1111111111111111,\"#46039f\"],[0.2222222222222222,\"#7201a8\"],[0.3333333333333333,\"#9c179e\"],[0.4444444444444444,\"#bd3786\"],[0.5555555555555556,\"#d8576b\"],[0.6666666666666666,\"#ed7953\"],[0.7777777777777778,\"#fb9f3a\"],[0.8888888888888888,\"#fdca26\"],[1.0,\"#f0f921\"]]},\"colorway\":[\"#636efa\",\"#EF553B\",\"#00cc96\",\"#ab63fa\",\"#FFA15A\",\"#19d3f3\",\"#FF6692\",\"#B6E880\",\"#FF97FF\",\"#FECB52\"],\"font\":{\"color\":\"#2a3f5f\"},\"geo\":{\"bgcolor\":\"white\",\"lakecolor\":\"white\",\"landcolor\":\"white\",\"showlakes\":true,\"showland\":true,\"subunitcolor\":\"#C8D4E3\"},\"hoverlabel\":{\"align\":\"left\"},\"hovermode\":\"closest\",\"mapbox\":{\"style\":\"light\"},\"paper_bgcolor\":\"white\",\"plot_bgcolor\":\"white\",\"polar\":{\"angularaxis\":{\"gridcolor\":\"#EBF0F8\",\"linecolor\":\"#EBF0F8\",\"ticks\":\"\"},\"bgcolor\":\"white\",\"radialaxis\":{\"gridcolor\":\"#EBF0F8\",\"linecolor\":\"#EBF0F8\",\"ticks\":\"\"}},\"scene\":{\"xaxis\":{\"backgroundcolor\":\"white\",\"gridcolor\":\"#DFE8F3\",\"gridwidth\":2,\"linecolor\":\"#EBF0F8\",\"showbackground\":true,\"ticks\":\"\",\"zerolinecolor\":\"#EBF0F8\"},\"yaxis\":{\"backgroundcolor\":\"white\",\"gridcolor\":\"#DFE8F3\",\"gridwidth\":2,\"linecolor\":\"#EBF0F8\",\"showbackground\":true,\"ticks\":\"\",\"zerolinecolor\":\"#EBF0F8\"},\"zaxis\":{\"backgroundcolor\":\"white\",\"gridcolor\":\"#DFE8F3\",\"gridwidth\":2,\"linecolor\":\"#EBF0F8\",\"showbackground\":true,\"ticks\":\"\",\"zerolinecolor\":\"#EBF0F8\"}},\"shapedefaults\":{\"line\":{\"color\":\"#2a3f5f\"}},\"ternary\":{\"aaxis\":{\"gridcolor\":\"#DFE8F3\",\"linecolor\":\"#A2B1C6\",\"ticks\":\"\"},\"baxis\":{\"gridcolor\":\"#DFE8F3\",\"linecolor\":\"#A2B1C6\",\"ticks\":\"\"},\"bgcolor\":\"white\",\"caxis\":{\"gridcolor\":\"#DFE8F3\",\"linecolor\":\"#A2B1C6\",\"ticks\":\"\"}},\"title\":{\"x\":0.05},\"xaxis\":{\"automargin\":true,\"gridcolor\":\"#EBF0F8\",\"linecolor\":\"#EBF0F8\",\"ticks\":\"\",\"title\":{\"standoff\":15},\"zerolinecolor\":\"#EBF0F8\",\"zerolinewidth\":2},\"yaxis\":{\"automargin\":true,\"gridcolor\":\"#EBF0F8\",\"linecolor\":\"#EBF0F8\",\"ticks\":\"\",\"title\":{\"standoff\":15},\"zerolinecolor\":\"#EBF0F8\",\"zerolinewidth\":2}}},\"xaxis\":{\"anchor\":\"y\",\"domain\":[0.0,1.0],\"title\":{\"text\":\"CV AUC\"},\"tickfont\":{\"size\":20},\"range\":[0.25,0.75]},\"yaxis\":{\"anchor\":\"x\",\"domain\":[0.0,1.0],\"title\":{\"text\":\"\"},\"tickfont\":{\"size\":20}},\"legend\":{\"title\":{\"text\":\"Model\"},\"tracegroupgap\":0},\"margin\":{\"t\":60},\"barmode\":\"relative\",\"shapes\":[{\"line\":{\"color\":\"grey\",\"dash\":\"dash\",\"width\":3},\"type\":\"line\",\"x0\":0.6029272894342922,\"x1\":0.6029272894342922,\"xref\":\"x\",\"y0\":0,\"y1\":1,\"yref\":\"y domain\"}],\"annotations\":[{\"align\":\"left\",\"arrowhead\":1,\"showarrow\":false,\"text\":\"Score on original labels: <br>Mean AUC: 0.603<br>p = 0.038\",\"x\":0.7029272894342922,\"y\":50}],\"font\":{\"family\":\"Times new roman\",\"size\":20,\"color\":\"black\"},\"autosize\":false,\"width\":800,\"height\":800,\"bargap\":0.05},                        {\"responsive\": true}                    ).then(function(){\n",
       "                            \n",
       "var gd = document.getElementById('fbb380f0-9136-497b-9906-98ab7c9fa601');\n",
       "var x = new MutationObserver(function (mutations, observer) {{\n",
       "        var display = window.getComputedStyle(gd).display;\n",
       "        if (!display || display === 'none') {{\n",
       "            console.log([gd, 'removed!']);\n",
       "            Plotly.purge(gd);\n",
       "            observer.disconnect();\n",
       "        }}\n",
       "}});\n",
       "\n",
       "// Listen for the removal of the full notebook cells\n",
       "var notebookContainer = gd.closest('#notebook-container');\n",
       "if (notebookContainer) {{\n",
       "    x.observe(notebookContainer, {childList: true});\n",
       "}}\n",
       "\n",
       "// Listen for the clearing of the current output cell\n",
       "var outputEl = gd.closest('.output');\n",
       "if (outputEl) {{\n",
       "    x.observe(outputEl, {childList: true});\n",
       "}}\n",
       "\n",
       "                        })                };                });            </script>        </div>"
      ]
     },
     "metadata": {},
     "output_type": "display_data"
    }
   ],
   "source": [
    "df = pd.concat([df_perm_mind, df_forest_mind])\n",
    "fig = px.histogram(df_perm_mind, x='auc', color=\"Model\",nbins = 25,  color_discrete_sequence = [pink])\n",
    "\n",
    "fig.add_vline(x=df_forest_mind.auc.mean(), line_width=3, line_dash=\"dash\", line_color=\"grey\")\n",
    "\n",
    "fig.add_annotation(x=df_forest_mind.auc.mean() + 0.1, y=50,\n",
    "            text=f\"Score on original labels: <br>Mean AUC: {df_forest_mind.auc.mean():.3f}<br>p = {pvalue_mind:.3f}\",\n",
    "            showarrow=False,\n",
    "            arrowhead=1,\n",
    "            align = 'left',\n",
    "            )\n",
    "\n",
    "\n",
    "fig.update_layout(\n",
    "#     title = f'Mean AUC = {df_forest_mind.auc.mean()}',\n",
    "    autosize=False,\n",
    "    template = \"plotly_white\",\n",
    "    font=dict(\n",
    "        family=\"Times new roman\",\n",
    "        size=20,\n",
    "        color=\"black\"\n",
    "    ),\n",
    "    width=800,\n",
    "    height=800,\n",
    "    bargap=0.05,\n",
    "    yaxis = {'title': '',\n",
    "             'tickfont': {\"size\": 20},\n",
    "    },\n",
    "    xaxis ={'title':'CV AUC',\n",
    "             'range':[0.25, 0.75],\n",
    "             'tickfont':{\"size\": 20}\n",
    "        }\n",
    ")\n",
    "fig.show()\n",
    "\n",
    "fig.write_image(os.path.join(fig_path, 'multivariate_perm_mind.png'))\n",
    "fig.write_image(os.path.join(fig_path, 'multivariate_perm_mind.svg'))"
   ]
  },
  {
   "cell_type": "code",
   "execution_count": 12,
   "id": "arranged-facility",
   "metadata": {},
   "outputs": [
    {
     "data": {
      "application/vnd.plotly.v1+json": {
       "config": {
        "plotlyServerURL": "https://plot.ly"
       },
       "data": [
        {
         "alignmentgroup": "True",
         "box": {
          "visible": true
         },
         "hovertemplate": "AUC=%{x}<extra></extra>",
         "legendgroup": "",
         "marker": {
          "color": "#DE237B"
         },
         "name": "",
         "offsetgroup": "",
         "orientation": "h",
         "points": "all",
         "scalegroup": "True",
         "showlegend": false,
         "type": "violin",
         "x": [
          0.6126543209876543,
          0.5272108843537414,
          0.6966666666666667,
          0.607843137254902,
          0.5702614379084967
         ],
         "x0": " ",
         "xaxis": "x",
         "y0": " ",
         "yaxis": "y"
        }
       ],
       "layout": {
        "autosize": false,
        "height": 800,
        "legend": {
         "tracegroupgap": 0
        },
        "margin": {
         "t": 60
        },
        "shapes": [
         {
          "line": {
           "color": "grey",
           "dash": "dash",
           "width": 3
          },
          "type": "line",
          "x0": 0.5,
          "x1": 0.5,
          "xref": "x",
          "y0": 0,
          "y1": 1,
          "yref": "y domain"
         }
        ],
        "template": {
         "data": {
          "bar": [
           {
            "error_x": {
             "color": "#2a3f5f"
            },
            "error_y": {
             "color": "#2a3f5f"
            },
            "marker": {
             "line": {
              "color": "white",
              "width": 0.5
             },
             "pattern": {
              "fillmode": "overlay",
              "size": 10,
              "solidity": 0.2
             }
            },
            "type": "bar"
           }
          ],
          "barpolar": [
           {
            "marker": {
             "line": {
              "color": "white",
              "width": 0.5
             },
             "pattern": {
              "fillmode": "overlay",
              "size": 10,
              "solidity": 0.2
             }
            },
            "type": "barpolar"
           }
          ],
          "carpet": [
           {
            "aaxis": {
             "endlinecolor": "#2a3f5f",
             "gridcolor": "#C8D4E3",
             "linecolor": "#C8D4E3",
             "minorgridcolor": "#C8D4E3",
             "startlinecolor": "#2a3f5f"
            },
            "baxis": {
             "endlinecolor": "#2a3f5f",
             "gridcolor": "#C8D4E3",
             "linecolor": "#C8D4E3",
             "minorgridcolor": "#C8D4E3",
             "startlinecolor": "#2a3f5f"
            },
            "type": "carpet"
           }
          ],
          "choropleth": [
           {
            "colorbar": {
             "outlinewidth": 0,
             "ticks": ""
            },
            "type": "choropleth"
           }
          ],
          "contour": [
           {
            "colorbar": {
             "outlinewidth": 0,
             "ticks": ""
            },
            "colorscale": [
             [
              0,
              "#0d0887"
             ],
             [
              0.1111111111111111,
              "#46039f"
             ],
             [
              0.2222222222222222,
              "#7201a8"
             ],
             [
              0.3333333333333333,
              "#9c179e"
             ],
             [
              0.4444444444444444,
              "#bd3786"
             ],
             [
              0.5555555555555556,
              "#d8576b"
             ],
             [
              0.6666666666666666,
              "#ed7953"
             ],
             [
              0.7777777777777778,
              "#fb9f3a"
             ],
             [
              0.8888888888888888,
              "#fdca26"
             ],
             [
              1,
              "#f0f921"
             ]
            ],
            "type": "contour"
           }
          ],
          "contourcarpet": [
           {
            "colorbar": {
             "outlinewidth": 0,
             "ticks": ""
            },
            "type": "contourcarpet"
           }
          ],
          "heatmap": [
           {
            "colorbar": {
             "outlinewidth": 0,
             "ticks": ""
            },
            "colorscale": [
             [
              0,
              "#0d0887"
             ],
             [
              0.1111111111111111,
              "#46039f"
             ],
             [
              0.2222222222222222,
              "#7201a8"
             ],
             [
              0.3333333333333333,
              "#9c179e"
             ],
             [
              0.4444444444444444,
              "#bd3786"
             ],
             [
              0.5555555555555556,
              "#d8576b"
             ],
             [
              0.6666666666666666,
              "#ed7953"
             ],
             [
              0.7777777777777778,
              "#fb9f3a"
             ],
             [
              0.8888888888888888,
              "#fdca26"
             ],
             [
              1,
              "#f0f921"
             ]
            ],
            "type": "heatmap"
           }
          ],
          "heatmapgl": [
           {
            "colorbar": {
             "outlinewidth": 0,
             "ticks": ""
            },
            "colorscale": [
             [
              0,
              "#0d0887"
             ],
             [
              0.1111111111111111,
              "#46039f"
             ],
             [
              0.2222222222222222,
              "#7201a8"
             ],
             [
              0.3333333333333333,
              "#9c179e"
             ],
             [
              0.4444444444444444,
              "#bd3786"
             ],
             [
              0.5555555555555556,
              "#d8576b"
             ],
             [
              0.6666666666666666,
              "#ed7953"
             ],
             [
              0.7777777777777778,
              "#fb9f3a"
             ],
             [
              0.8888888888888888,
              "#fdca26"
             ],
             [
              1,
              "#f0f921"
             ]
            ],
            "type": "heatmapgl"
           }
          ],
          "histogram": [
           {
            "marker": {
             "pattern": {
              "fillmode": "overlay",
              "size": 10,
              "solidity": 0.2
             }
            },
            "type": "histogram"
           }
          ],
          "histogram2d": [
           {
            "colorbar": {
             "outlinewidth": 0,
             "ticks": ""
            },
            "colorscale": [
             [
              0,
              "#0d0887"
             ],
             [
              0.1111111111111111,
              "#46039f"
             ],
             [
              0.2222222222222222,
              "#7201a8"
             ],
             [
              0.3333333333333333,
              "#9c179e"
             ],
             [
              0.4444444444444444,
              "#bd3786"
             ],
             [
              0.5555555555555556,
              "#d8576b"
             ],
             [
              0.6666666666666666,
              "#ed7953"
             ],
             [
              0.7777777777777778,
              "#fb9f3a"
             ],
             [
              0.8888888888888888,
              "#fdca26"
             ],
             [
              1,
              "#f0f921"
             ]
            ],
            "type": "histogram2d"
           }
          ],
          "histogram2dcontour": [
           {
            "colorbar": {
             "outlinewidth": 0,
             "ticks": ""
            },
            "colorscale": [
             [
              0,
              "#0d0887"
             ],
             [
              0.1111111111111111,
              "#46039f"
             ],
             [
              0.2222222222222222,
              "#7201a8"
             ],
             [
              0.3333333333333333,
              "#9c179e"
             ],
             [
              0.4444444444444444,
              "#bd3786"
             ],
             [
              0.5555555555555556,
              "#d8576b"
             ],
             [
              0.6666666666666666,
              "#ed7953"
             ],
             [
              0.7777777777777778,
              "#fb9f3a"
             ],
             [
              0.8888888888888888,
              "#fdca26"
             ],
             [
              1,
              "#f0f921"
             ]
            ],
            "type": "histogram2dcontour"
           }
          ],
          "mesh3d": [
           {
            "colorbar": {
             "outlinewidth": 0,
             "ticks": ""
            },
            "type": "mesh3d"
           }
          ],
          "parcoords": [
           {
            "line": {
             "colorbar": {
              "outlinewidth": 0,
              "ticks": ""
             }
            },
            "type": "parcoords"
           }
          ],
          "pie": [
           {
            "automargin": true,
            "type": "pie"
           }
          ],
          "scatter": [
           {
            "marker": {
             "colorbar": {
              "outlinewidth": 0,
              "ticks": ""
             }
            },
            "type": "scatter"
           }
          ],
          "scatter3d": [
           {
            "line": {
             "colorbar": {
              "outlinewidth": 0,
              "ticks": ""
             }
            },
            "marker": {
             "colorbar": {
              "outlinewidth": 0,
              "ticks": ""
             }
            },
            "type": "scatter3d"
           }
          ],
          "scattercarpet": [
           {
            "marker": {
             "colorbar": {
              "outlinewidth": 0,
              "ticks": ""
             }
            },
            "type": "scattercarpet"
           }
          ],
          "scattergeo": [
           {
            "marker": {
             "colorbar": {
              "outlinewidth": 0,
              "ticks": ""
             }
            },
            "type": "scattergeo"
           }
          ],
          "scattergl": [
           {
            "marker": {
             "colorbar": {
              "outlinewidth": 0,
              "ticks": ""
             }
            },
            "type": "scattergl"
           }
          ],
          "scattermapbox": [
           {
            "marker": {
             "colorbar": {
              "outlinewidth": 0,
              "ticks": ""
             }
            },
            "type": "scattermapbox"
           }
          ],
          "scatterpolar": [
           {
            "marker": {
             "colorbar": {
              "outlinewidth": 0,
              "ticks": ""
             }
            },
            "type": "scatterpolar"
           }
          ],
          "scatterpolargl": [
           {
            "marker": {
             "colorbar": {
              "outlinewidth": 0,
              "ticks": ""
             }
            },
            "type": "scatterpolargl"
           }
          ],
          "scatterternary": [
           {
            "marker": {
             "colorbar": {
              "outlinewidth": 0,
              "ticks": ""
             }
            },
            "type": "scatterternary"
           }
          ],
          "surface": [
           {
            "colorbar": {
             "outlinewidth": 0,
             "ticks": ""
            },
            "colorscale": [
             [
              0,
              "#0d0887"
             ],
             [
              0.1111111111111111,
              "#46039f"
             ],
             [
              0.2222222222222222,
              "#7201a8"
             ],
             [
              0.3333333333333333,
              "#9c179e"
             ],
             [
              0.4444444444444444,
              "#bd3786"
             ],
             [
              0.5555555555555556,
              "#d8576b"
             ],
             [
              0.6666666666666666,
              "#ed7953"
             ],
             [
              0.7777777777777778,
              "#fb9f3a"
             ],
             [
              0.8888888888888888,
              "#fdca26"
             ],
             [
              1,
              "#f0f921"
             ]
            ],
            "type": "surface"
           }
          ],
          "table": [
           {
            "cells": {
             "fill": {
              "color": "#EBF0F8"
             },
             "line": {
              "color": "white"
             }
            },
            "header": {
             "fill": {
              "color": "#C8D4E3"
             },
             "line": {
              "color": "white"
             }
            },
            "type": "table"
           }
          ]
         },
         "layout": {
          "annotationdefaults": {
           "arrowcolor": "#2a3f5f",
           "arrowhead": 0,
           "arrowwidth": 1
          },
          "autotypenumbers": "strict",
          "coloraxis": {
           "colorbar": {
            "outlinewidth": 0,
            "ticks": ""
           }
          },
          "colorscale": {
           "diverging": [
            [
             0,
             "#8e0152"
            ],
            [
             0.1,
             "#c51b7d"
            ],
            [
             0.2,
             "#de77ae"
            ],
            [
             0.3,
             "#f1b6da"
            ],
            [
             0.4,
             "#fde0ef"
            ],
            [
             0.5,
             "#f7f7f7"
            ],
            [
             0.6,
             "#e6f5d0"
            ],
            [
             0.7,
             "#b8e186"
            ],
            [
             0.8,
             "#7fbc41"
            ],
            [
             0.9,
             "#4d9221"
            ],
            [
             1,
             "#276419"
            ]
           ],
           "sequential": [
            [
             0,
             "#0d0887"
            ],
            [
             0.1111111111111111,
             "#46039f"
            ],
            [
             0.2222222222222222,
             "#7201a8"
            ],
            [
             0.3333333333333333,
             "#9c179e"
            ],
            [
             0.4444444444444444,
             "#bd3786"
            ],
            [
             0.5555555555555556,
             "#d8576b"
            ],
            [
             0.6666666666666666,
             "#ed7953"
            ],
            [
             0.7777777777777778,
             "#fb9f3a"
            ],
            [
             0.8888888888888888,
             "#fdca26"
            ],
            [
             1,
             "#f0f921"
            ]
           ],
           "sequentialminus": [
            [
             0,
             "#0d0887"
            ],
            [
             0.1111111111111111,
             "#46039f"
            ],
            [
             0.2222222222222222,
             "#7201a8"
            ],
            [
             0.3333333333333333,
             "#9c179e"
            ],
            [
             0.4444444444444444,
             "#bd3786"
            ],
            [
             0.5555555555555556,
             "#d8576b"
            ],
            [
             0.6666666666666666,
             "#ed7953"
            ],
            [
             0.7777777777777778,
             "#fb9f3a"
            ],
            [
             0.8888888888888888,
             "#fdca26"
            ],
            [
             1,
             "#f0f921"
            ]
           ]
          },
          "colorway": [
           "#636efa",
           "#EF553B",
           "#00cc96",
           "#ab63fa",
           "#FFA15A",
           "#19d3f3",
           "#FF6692",
           "#B6E880",
           "#FF97FF",
           "#FECB52"
          ],
          "font": {
           "color": "#2a3f5f"
          },
          "geo": {
           "bgcolor": "white",
           "lakecolor": "white",
           "landcolor": "white",
           "showlakes": true,
           "showland": true,
           "subunitcolor": "#C8D4E3"
          },
          "hoverlabel": {
           "align": "left"
          },
          "hovermode": "closest",
          "mapbox": {
           "style": "light"
          },
          "paper_bgcolor": "white",
          "plot_bgcolor": "white",
          "polar": {
           "angularaxis": {
            "gridcolor": "#EBF0F8",
            "linecolor": "#EBF0F8",
            "ticks": ""
           },
           "bgcolor": "white",
           "radialaxis": {
            "gridcolor": "#EBF0F8",
            "linecolor": "#EBF0F8",
            "ticks": ""
           }
          },
          "scene": {
           "xaxis": {
            "backgroundcolor": "white",
            "gridcolor": "#DFE8F3",
            "gridwidth": 2,
            "linecolor": "#EBF0F8",
            "showbackground": true,
            "ticks": "",
            "zerolinecolor": "#EBF0F8"
           },
           "yaxis": {
            "backgroundcolor": "white",
            "gridcolor": "#DFE8F3",
            "gridwidth": 2,
            "linecolor": "#EBF0F8",
            "showbackground": true,
            "ticks": "",
            "zerolinecolor": "#EBF0F8"
           },
           "zaxis": {
            "backgroundcolor": "white",
            "gridcolor": "#DFE8F3",
            "gridwidth": 2,
            "linecolor": "#EBF0F8",
            "showbackground": true,
            "ticks": "",
            "zerolinecolor": "#EBF0F8"
           }
          },
          "shapedefaults": {
           "line": {
            "color": "#2a3f5f"
           }
          },
          "ternary": {
           "aaxis": {
            "gridcolor": "#DFE8F3",
            "linecolor": "#A2B1C6",
            "ticks": ""
           },
           "baxis": {
            "gridcolor": "#DFE8F3",
            "linecolor": "#A2B1C6",
            "ticks": ""
           },
           "bgcolor": "white",
           "caxis": {
            "gridcolor": "#DFE8F3",
            "linecolor": "#A2B1C6",
            "ticks": ""
           }
          },
          "title": {
           "x": 0.05
          },
          "xaxis": {
           "automargin": true,
           "gridcolor": "#EBF0F8",
           "linecolor": "#EBF0F8",
           "ticks": "",
           "title": {
            "standoff": 15
           },
           "zerolinecolor": "#EBF0F8",
           "zerolinewidth": 2
          },
          "yaxis": {
           "automargin": true,
           "gridcolor": "#EBF0F8",
           "linecolor": "#EBF0F8",
           "ticks": "",
           "title": {
            "standoff": 15
           },
           "zerolinecolor": "#EBF0F8",
           "zerolinewidth": 2
          }
         }
        },
        "violinmode": "group",
        "width": 800,
        "xaxis": {
         "anchor": "y",
         "domain": [
          0,
          1
         ],
         "range": [
          0.2,
          1
         ],
         "title": {
          "text": "AUC"
         }
        },
        "yaxis": {
         "anchor": "x",
         "domain": [
          0,
          1
         ],
         "showticklabels": true,
         "tickmode": "linear",
         "title": {
          "text": "Whole model"
         }
        }
       }
      },
      "text/html": [
       "<div>                            <div id=\"695daff8-1ad4-48fc-8c55-2739f0935f8e\" class=\"plotly-graph-div\" style=\"height:800px; width:800px;\"></div>            <script type=\"text/javascript\">                require([\"plotly\"], function(Plotly) {                    window.PLOTLYENV=window.PLOTLYENV || {};                                    if (document.getElementById(\"695daff8-1ad4-48fc-8c55-2739f0935f8e\")) {                    Plotly.newPlot(                        \"695daff8-1ad4-48fc-8c55-2739f0935f8e\",                        [{\"alignmentgroup\":\"True\",\"box\":{\"visible\":true},\"hovertemplate\":\"AUC=%{x}<extra></extra>\",\"legendgroup\":\"\",\"marker\":{\"color\":\"#DE237B\"},\"name\":\"\",\"offsetgroup\":\"\",\"orientation\":\"h\",\"points\":\"all\",\"scalegroup\":\"True\",\"showlegend\":false,\"x\":[0.6126543209876543,0.5272108843537414,0.6966666666666667,0.607843137254902,0.5702614379084967],\"x0\":\" \",\"xaxis\":\"x\",\"y0\":\" \",\"yaxis\":\"y\",\"type\":\"violin\"}],                        {\"template\":{\"data\":{\"barpolar\":[{\"marker\":{\"line\":{\"color\":\"white\",\"width\":0.5},\"pattern\":{\"fillmode\":\"overlay\",\"size\":10,\"solidity\":0.2}},\"type\":\"barpolar\"}],\"bar\":[{\"error_x\":{\"color\":\"#2a3f5f\"},\"error_y\":{\"color\":\"#2a3f5f\"},\"marker\":{\"line\":{\"color\":\"white\",\"width\":0.5},\"pattern\":{\"fillmode\":\"overlay\",\"size\":10,\"solidity\":0.2}},\"type\":\"bar\"}],\"carpet\":[{\"aaxis\":{\"endlinecolor\":\"#2a3f5f\",\"gridcolor\":\"#C8D4E3\",\"linecolor\":\"#C8D4E3\",\"minorgridcolor\":\"#C8D4E3\",\"startlinecolor\":\"#2a3f5f\"},\"baxis\":{\"endlinecolor\":\"#2a3f5f\",\"gridcolor\":\"#C8D4E3\",\"linecolor\":\"#C8D4E3\",\"minorgridcolor\":\"#C8D4E3\",\"startlinecolor\":\"#2a3f5f\"},\"type\":\"carpet\"}],\"choropleth\":[{\"colorbar\":{\"outlinewidth\":0,\"ticks\":\"\"},\"type\":\"choropleth\"}],\"contourcarpet\":[{\"colorbar\":{\"outlinewidth\":0,\"ticks\":\"\"},\"type\":\"contourcarpet\"}],\"contour\":[{\"colorbar\":{\"outlinewidth\":0,\"ticks\":\"\"},\"colorscale\":[[0.0,\"#0d0887\"],[0.1111111111111111,\"#46039f\"],[0.2222222222222222,\"#7201a8\"],[0.3333333333333333,\"#9c179e\"],[0.4444444444444444,\"#bd3786\"],[0.5555555555555556,\"#d8576b\"],[0.6666666666666666,\"#ed7953\"],[0.7777777777777778,\"#fb9f3a\"],[0.8888888888888888,\"#fdca26\"],[1.0,\"#f0f921\"]],\"type\":\"contour\"}],\"heatmapgl\":[{\"colorbar\":{\"outlinewidth\":0,\"ticks\":\"\"},\"colorscale\":[[0.0,\"#0d0887\"],[0.1111111111111111,\"#46039f\"],[0.2222222222222222,\"#7201a8\"],[0.3333333333333333,\"#9c179e\"],[0.4444444444444444,\"#bd3786\"],[0.5555555555555556,\"#d8576b\"],[0.6666666666666666,\"#ed7953\"],[0.7777777777777778,\"#fb9f3a\"],[0.8888888888888888,\"#fdca26\"],[1.0,\"#f0f921\"]],\"type\":\"heatmapgl\"}],\"heatmap\":[{\"colorbar\":{\"outlinewidth\":0,\"ticks\":\"\"},\"colorscale\":[[0.0,\"#0d0887\"],[0.1111111111111111,\"#46039f\"],[0.2222222222222222,\"#7201a8\"],[0.3333333333333333,\"#9c179e\"],[0.4444444444444444,\"#bd3786\"],[0.5555555555555556,\"#d8576b\"],[0.6666666666666666,\"#ed7953\"],[0.7777777777777778,\"#fb9f3a\"],[0.8888888888888888,\"#fdca26\"],[1.0,\"#f0f921\"]],\"type\":\"heatmap\"}],\"histogram2dcontour\":[{\"colorbar\":{\"outlinewidth\":0,\"ticks\":\"\"},\"colorscale\":[[0.0,\"#0d0887\"],[0.1111111111111111,\"#46039f\"],[0.2222222222222222,\"#7201a8\"],[0.3333333333333333,\"#9c179e\"],[0.4444444444444444,\"#bd3786\"],[0.5555555555555556,\"#d8576b\"],[0.6666666666666666,\"#ed7953\"],[0.7777777777777778,\"#fb9f3a\"],[0.8888888888888888,\"#fdca26\"],[1.0,\"#f0f921\"]],\"type\":\"histogram2dcontour\"}],\"histogram2d\":[{\"colorbar\":{\"outlinewidth\":0,\"ticks\":\"\"},\"colorscale\":[[0.0,\"#0d0887\"],[0.1111111111111111,\"#46039f\"],[0.2222222222222222,\"#7201a8\"],[0.3333333333333333,\"#9c179e\"],[0.4444444444444444,\"#bd3786\"],[0.5555555555555556,\"#d8576b\"],[0.6666666666666666,\"#ed7953\"],[0.7777777777777778,\"#fb9f3a\"],[0.8888888888888888,\"#fdca26\"],[1.0,\"#f0f921\"]],\"type\":\"histogram2d\"}],\"histogram\":[{\"marker\":{\"pattern\":{\"fillmode\":\"overlay\",\"size\":10,\"solidity\":0.2}},\"type\":\"histogram\"}],\"mesh3d\":[{\"colorbar\":{\"outlinewidth\":0,\"ticks\":\"\"},\"type\":\"mesh3d\"}],\"parcoords\":[{\"line\":{\"colorbar\":{\"outlinewidth\":0,\"ticks\":\"\"}},\"type\":\"parcoords\"}],\"pie\":[{\"automargin\":true,\"type\":\"pie\"}],\"scatter3d\":[{\"line\":{\"colorbar\":{\"outlinewidth\":0,\"ticks\":\"\"}},\"marker\":{\"colorbar\":{\"outlinewidth\":0,\"ticks\":\"\"}},\"type\":\"scatter3d\"}],\"scattercarpet\":[{\"marker\":{\"colorbar\":{\"outlinewidth\":0,\"ticks\":\"\"}},\"type\":\"scattercarpet\"}],\"scattergeo\":[{\"marker\":{\"colorbar\":{\"outlinewidth\":0,\"ticks\":\"\"}},\"type\":\"scattergeo\"}],\"scattergl\":[{\"marker\":{\"colorbar\":{\"outlinewidth\":0,\"ticks\":\"\"}},\"type\":\"scattergl\"}],\"scattermapbox\":[{\"marker\":{\"colorbar\":{\"outlinewidth\":0,\"ticks\":\"\"}},\"type\":\"scattermapbox\"}],\"scatterpolargl\":[{\"marker\":{\"colorbar\":{\"outlinewidth\":0,\"ticks\":\"\"}},\"type\":\"scatterpolargl\"}],\"scatterpolar\":[{\"marker\":{\"colorbar\":{\"outlinewidth\":0,\"ticks\":\"\"}},\"type\":\"scatterpolar\"}],\"scatter\":[{\"marker\":{\"colorbar\":{\"outlinewidth\":0,\"ticks\":\"\"}},\"type\":\"scatter\"}],\"scatterternary\":[{\"marker\":{\"colorbar\":{\"outlinewidth\":0,\"ticks\":\"\"}},\"type\":\"scatterternary\"}],\"surface\":[{\"colorbar\":{\"outlinewidth\":0,\"ticks\":\"\"},\"colorscale\":[[0.0,\"#0d0887\"],[0.1111111111111111,\"#46039f\"],[0.2222222222222222,\"#7201a8\"],[0.3333333333333333,\"#9c179e\"],[0.4444444444444444,\"#bd3786\"],[0.5555555555555556,\"#d8576b\"],[0.6666666666666666,\"#ed7953\"],[0.7777777777777778,\"#fb9f3a\"],[0.8888888888888888,\"#fdca26\"],[1.0,\"#f0f921\"]],\"type\":\"surface\"}],\"table\":[{\"cells\":{\"fill\":{\"color\":\"#EBF0F8\"},\"line\":{\"color\":\"white\"}},\"header\":{\"fill\":{\"color\":\"#C8D4E3\"},\"line\":{\"color\":\"white\"}},\"type\":\"table\"}]},\"layout\":{\"annotationdefaults\":{\"arrowcolor\":\"#2a3f5f\",\"arrowhead\":0,\"arrowwidth\":1},\"autotypenumbers\":\"strict\",\"coloraxis\":{\"colorbar\":{\"outlinewidth\":0,\"ticks\":\"\"}},\"colorscale\":{\"diverging\":[[0,\"#8e0152\"],[0.1,\"#c51b7d\"],[0.2,\"#de77ae\"],[0.3,\"#f1b6da\"],[0.4,\"#fde0ef\"],[0.5,\"#f7f7f7\"],[0.6,\"#e6f5d0\"],[0.7,\"#b8e186\"],[0.8,\"#7fbc41\"],[0.9,\"#4d9221\"],[1,\"#276419\"]],\"sequential\":[[0.0,\"#0d0887\"],[0.1111111111111111,\"#46039f\"],[0.2222222222222222,\"#7201a8\"],[0.3333333333333333,\"#9c179e\"],[0.4444444444444444,\"#bd3786\"],[0.5555555555555556,\"#d8576b\"],[0.6666666666666666,\"#ed7953\"],[0.7777777777777778,\"#fb9f3a\"],[0.8888888888888888,\"#fdca26\"],[1.0,\"#f0f921\"]],\"sequentialminus\":[[0.0,\"#0d0887\"],[0.1111111111111111,\"#46039f\"],[0.2222222222222222,\"#7201a8\"],[0.3333333333333333,\"#9c179e\"],[0.4444444444444444,\"#bd3786\"],[0.5555555555555556,\"#d8576b\"],[0.6666666666666666,\"#ed7953\"],[0.7777777777777778,\"#fb9f3a\"],[0.8888888888888888,\"#fdca26\"],[1.0,\"#f0f921\"]]},\"colorway\":[\"#636efa\",\"#EF553B\",\"#00cc96\",\"#ab63fa\",\"#FFA15A\",\"#19d3f3\",\"#FF6692\",\"#B6E880\",\"#FF97FF\",\"#FECB52\"],\"font\":{\"color\":\"#2a3f5f\"},\"geo\":{\"bgcolor\":\"white\",\"lakecolor\":\"white\",\"landcolor\":\"white\",\"showlakes\":true,\"showland\":true,\"subunitcolor\":\"#C8D4E3\"},\"hoverlabel\":{\"align\":\"left\"},\"hovermode\":\"closest\",\"mapbox\":{\"style\":\"light\"},\"paper_bgcolor\":\"white\",\"plot_bgcolor\":\"white\",\"polar\":{\"angularaxis\":{\"gridcolor\":\"#EBF0F8\",\"linecolor\":\"#EBF0F8\",\"ticks\":\"\"},\"bgcolor\":\"white\",\"radialaxis\":{\"gridcolor\":\"#EBF0F8\",\"linecolor\":\"#EBF0F8\",\"ticks\":\"\"}},\"scene\":{\"xaxis\":{\"backgroundcolor\":\"white\",\"gridcolor\":\"#DFE8F3\",\"gridwidth\":2,\"linecolor\":\"#EBF0F8\",\"showbackground\":true,\"ticks\":\"\",\"zerolinecolor\":\"#EBF0F8\"},\"yaxis\":{\"backgroundcolor\":\"white\",\"gridcolor\":\"#DFE8F3\",\"gridwidth\":2,\"linecolor\":\"#EBF0F8\",\"showbackground\":true,\"ticks\":\"\",\"zerolinecolor\":\"#EBF0F8\"},\"zaxis\":{\"backgroundcolor\":\"white\",\"gridcolor\":\"#DFE8F3\",\"gridwidth\":2,\"linecolor\":\"#EBF0F8\",\"showbackground\":true,\"ticks\":\"\",\"zerolinecolor\":\"#EBF0F8\"}},\"shapedefaults\":{\"line\":{\"color\":\"#2a3f5f\"}},\"ternary\":{\"aaxis\":{\"gridcolor\":\"#DFE8F3\",\"linecolor\":\"#A2B1C6\",\"ticks\":\"\"},\"baxis\":{\"gridcolor\":\"#DFE8F3\",\"linecolor\":\"#A2B1C6\",\"ticks\":\"\"},\"bgcolor\":\"white\",\"caxis\":{\"gridcolor\":\"#DFE8F3\",\"linecolor\":\"#A2B1C6\",\"ticks\":\"\"}},\"title\":{\"x\":0.05},\"xaxis\":{\"automargin\":true,\"gridcolor\":\"#EBF0F8\",\"linecolor\":\"#EBF0F8\",\"ticks\":\"\",\"title\":{\"standoff\":15},\"zerolinecolor\":\"#EBF0F8\",\"zerolinewidth\":2},\"yaxis\":{\"automargin\":true,\"gridcolor\":\"#EBF0F8\",\"linecolor\":\"#EBF0F8\",\"ticks\":\"\",\"title\":{\"standoff\":15},\"zerolinecolor\":\"#EBF0F8\",\"zerolinewidth\":2}}},\"xaxis\":{\"anchor\":\"y\",\"domain\":[0.0,1.0],\"title\":{\"text\":\"AUC\"},\"range\":[0.2,1]},\"yaxis\":{\"anchor\":\"x\",\"domain\":[0.0,1.0],\"title\":{\"text\":\"Whole model\"},\"showticklabels\":true,\"tickmode\":\"linear\"},\"legend\":{\"tracegroupgap\":0},\"margin\":{\"t\":60},\"violinmode\":\"group\",\"shapes\":[{\"line\":{\"color\":\"grey\",\"dash\":\"dash\",\"width\":3},\"type\":\"line\",\"x0\":0.5,\"x1\":0.5,\"xref\":\"x\",\"y0\":0,\"y1\":1,\"yref\":\"y domain\"}],\"autosize\":false,\"width\":800,\"height\":800},                        {\"responsive\": true}                    ).then(function(){\n",
       "                            \n",
       "var gd = document.getElementById('695daff8-1ad4-48fc-8c55-2739f0935f8e');\n",
       "var x = new MutationObserver(function (mutations, observer) {{\n",
       "        var display = window.getComputedStyle(gd).display;\n",
       "        if (!display || display === 'none') {{\n",
       "            console.log([gd, 'removed!']);\n",
       "            Plotly.purge(gd);\n",
       "            observer.disconnect();\n",
       "        }}\n",
       "}});\n",
       "\n",
       "// Listen for the removal of the full notebook cells\n",
       "var notebookContainer = gd.closest('#notebook-container');\n",
       "if (notebookContainer) {{\n",
       "    x.observe(notebookContainer, {childList: true});\n",
       "}}\n",
       "\n",
       "// Listen for the clearing of the current output cell\n",
       "var outputEl = gd.closest('.output');\n",
       "if (outputEl) {{\n",
       "    x.observe(outputEl, {childList: true});\n",
       "}}\n",
       "\n",
       "                        })                };                });            </script>        </div>"
      ]
     },
     "metadata": {},
     "output_type": "display_data"
    }
   ],
   "source": [
    "fig =px.violin(df_forest_mind, x = 'auc', box = True, points = 'all',template = \"plotly_white\", color_discrete_sequence = [pink], labels = {'auc': 'AUC'})\n",
    "fig.add_vline(x=0.5, line_width=3, line_dash=\"dash\", line_color=\"grey\")\n",
    "\n",
    "fig.update_layout(\n",
    "#     title = f'Mean AUC = {df_forest_mind.auc.mean()}',\n",
    "    autosize=False,\n",
    "    width=800,\n",
    "    height=800,\n",
    "    yaxis = {'title': 'Whole model',\n",
    "            'showticklabels': True,\n",
    "            'tickmode': 'linear',},\n",
    "    xaxis ={\n",
    "             'range':[0.2, 1]\n",
    "        }\n",
    ")\n",
    "fig.show()"
   ]
  },
  {
   "cell_type": "code",
   "execution_count": 13,
   "id": "challenging-crawford",
   "metadata": {},
   "outputs": [
    {
     "data": {
      "application/vnd.plotly.v1+json": {
       "config": {
        "plotlyServerURL": "https://plot.ly"
       },
       "data": [
        {
         "hovertemplate": "mean_importance=%{x}<br>Markers=%{y}<extra></extra>",
         "legendgroup": "",
         "marker": {
          "color": "#DE237B",
          "size": 8,
          "symbol": "circle"
         },
         "mode": "markers",
         "name": "",
         "orientation": "h",
         "showlegend": false,
         "type": "scatter",
         "x": [
          0.019260589681104754,
          0.01928260236313232,
          0.019315028666920916,
          0.019340853102349932,
          0.019365969483525293,
          0.019448184067527623,
          0.019551577491168946,
          0.01971112970844176,
          0.01973328295364714,
          0.019734084594974822
         ],
         "xaxis": "x",
         "y": [
          "$P1_{std}$",
          "$MSF_{std}$",
          "$wSMI\\alpha_{mean}$",
          "$PE\\alpha_{mean}$",
          "$wSMI\\gamma_{std}$",
          "$CNV_{std}$",
          "$K_{std}$",
          "$|\\theta|_{std}$",
          "$|\\beta|_{mean}$",
          "$|\\theta|_{mean}$"
         ],
         "yaxis": "y"
        }
       ],
       "layout": {
        "font": {
         "color": "black",
         "family": "Times new roman",
         "size": 20
        },
        "height": 900,
        "legend": {
         "tracegroupgap": 0
        },
        "margin": {
         "t": 60
        },
        "showlegend": true,
        "template": {
         "data": {
          "bar": [
           {
            "error_x": {
             "color": "#2a3f5f"
            },
            "error_y": {
             "color": "#2a3f5f"
            },
            "marker": {
             "line": {
              "color": "white",
              "width": 0.5
             },
             "pattern": {
              "fillmode": "overlay",
              "size": 10,
              "solidity": 0.2
             }
            },
            "type": "bar"
           }
          ],
          "barpolar": [
           {
            "marker": {
             "line": {
              "color": "white",
              "width": 0.5
             },
             "pattern": {
              "fillmode": "overlay",
              "size": 10,
              "solidity": 0.2
             }
            },
            "type": "barpolar"
           }
          ],
          "carpet": [
           {
            "aaxis": {
             "endlinecolor": "#2a3f5f",
             "gridcolor": "#C8D4E3",
             "linecolor": "#C8D4E3",
             "minorgridcolor": "#C8D4E3",
             "startlinecolor": "#2a3f5f"
            },
            "baxis": {
             "endlinecolor": "#2a3f5f",
             "gridcolor": "#C8D4E3",
             "linecolor": "#C8D4E3",
             "minorgridcolor": "#C8D4E3",
             "startlinecolor": "#2a3f5f"
            },
            "type": "carpet"
           }
          ],
          "choropleth": [
           {
            "colorbar": {
             "outlinewidth": 0,
             "ticks": ""
            },
            "type": "choropleth"
           }
          ],
          "contour": [
           {
            "colorbar": {
             "outlinewidth": 0,
             "ticks": ""
            },
            "colorscale": [
             [
              0,
              "#0d0887"
             ],
             [
              0.1111111111111111,
              "#46039f"
             ],
             [
              0.2222222222222222,
              "#7201a8"
             ],
             [
              0.3333333333333333,
              "#9c179e"
             ],
             [
              0.4444444444444444,
              "#bd3786"
             ],
             [
              0.5555555555555556,
              "#d8576b"
             ],
             [
              0.6666666666666666,
              "#ed7953"
             ],
             [
              0.7777777777777778,
              "#fb9f3a"
             ],
             [
              0.8888888888888888,
              "#fdca26"
             ],
             [
              1,
              "#f0f921"
             ]
            ],
            "type": "contour"
           }
          ],
          "contourcarpet": [
           {
            "colorbar": {
             "outlinewidth": 0,
             "ticks": ""
            },
            "type": "contourcarpet"
           }
          ],
          "heatmap": [
           {
            "colorbar": {
             "outlinewidth": 0,
             "ticks": ""
            },
            "colorscale": [
             [
              0,
              "#0d0887"
             ],
             [
              0.1111111111111111,
              "#46039f"
             ],
             [
              0.2222222222222222,
              "#7201a8"
             ],
             [
              0.3333333333333333,
              "#9c179e"
             ],
             [
              0.4444444444444444,
              "#bd3786"
             ],
             [
              0.5555555555555556,
              "#d8576b"
             ],
             [
              0.6666666666666666,
              "#ed7953"
             ],
             [
              0.7777777777777778,
              "#fb9f3a"
             ],
             [
              0.8888888888888888,
              "#fdca26"
             ],
             [
              1,
              "#f0f921"
             ]
            ],
            "type": "heatmap"
           }
          ],
          "heatmapgl": [
           {
            "colorbar": {
             "outlinewidth": 0,
             "ticks": ""
            },
            "colorscale": [
             [
              0,
              "#0d0887"
             ],
             [
              0.1111111111111111,
              "#46039f"
             ],
             [
              0.2222222222222222,
              "#7201a8"
             ],
             [
              0.3333333333333333,
              "#9c179e"
             ],
             [
              0.4444444444444444,
              "#bd3786"
             ],
             [
              0.5555555555555556,
              "#d8576b"
             ],
             [
              0.6666666666666666,
              "#ed7953"
             ],
             [
              0.7777777777777778,
              "#fb9f3a"
             ],
             [
              0.8888888888888888,
              "#fdca26"
             ],
             [
              1,
              "#f0f921"
             ]
            ],
            "type": "heatmapgl"
           }
          ],
          "histogram": [
           {
            "marker": {
             "pattern": {
              "fillmode": "overlay",
              "size": 10,
              "solidity": 0.2
             }
            },
            "type": "histogram"
           }
          ],
          "histogram2d": [
           {
            "colorbar": {
             "outlinewidth": 0,
             "ticks": ""
            },
            "colorscale": [
             [
              0,
              "#0d0887"
             ],
             [
              0.1111111111111111,
              "#46039f"
             ],
             [
              0.2222222222222222,
              "#7201a8"
             ],
             [
              0.3333333333333333,
              "#9c179e"
             ],
             [
              0.4444444444444444,
              "#bd3786"
             ],
             [
              0.5555555555555556,
              "#d8576b"
             ],
             [
              0.6666666666666666,
              "#ed7953"
             ],
             [
              0.7777777777777778,
              "#fb9f3a"
             ],
             [
              0.8888888888888888,
              "#fdca26"
             ],
             [
              1,
              "#f0f921"
             ]
            ],
            "type": "histogram2d"
           }
          ],
          "histogram2dcontour": [
           {
            "colorbar": {
             "outlinewidth": 0,
             "ticks": ""
            },
            "colorscale": [
             [
              0,
              "#0d0887"
             ],
             [
              0.1111111111111111,
              "#46039f"
             ],
             [
              0.2222222222222222,
              "#7201a8"
             ],
             [
              0.3333333333333333,
              "#9c179e"
             ],
             [
              0.4444444444444444,
              "#bd3786"
             ],
             [
              0.5555555555555556,
              "#d8576b"
             ],
             [
              0.6666666666666666,
              "#ed7953"
             ],
             [
              0.7777777777777778,
              "#fb9f3a"
             ],
             [
              0.8888888888888888,
              "#fdca26"
             ],
             [
              1,
              "#f0f921"
             ]
            ],
            "type": "histogram2dcontour"
           }
          ],
          "mesh3d": [
           {
            "colorbar": {
             "outlinewidth": 0,
             "ticks": ""
            },
            "type": "mesh3d"
           }
          ],
          "parcoords": [
           {
            "line": {
             "colorbar": {
              "outlinewidth": 0,
              "ticks": ""
             }
            },
            "type": "parcoords"
           }
          ],
          "pie": [
           {
            "automargin": true,
            "type": "pie"
           }
          ],
          "scatter": [
           {
            "marker": {
             "colorbar": {
              "outlinewidth": 0,
              "ticks": ""
             }
            },
            "type": "scatter"
           }
          ],
          "scatter3d": [
           {
            "line": {
             "colorbar": {
              "outlinewidth": 0,
              "ticks": ""
             }
            },
            "marker": {
             "colorbar": {
              "outlinewidth": 0,
              "ticks": ""
             }
            },
            "type": "scatter3d"
           }
          ],
          "scattercarpet": [
           {
            "marker": {
             "colorbar": {
              "outlinewidth": 0,
              "ticks": ""
             }
            },
            "type": "scattercarpet"
           }
          ],
          "scattergeo": [
           {
            "marker": {
             "colorbar": {
              "outlinewidth": 0,
              "ticks": ""
             }
            },
            "type": "scattergeo"
           }
          ],
          "scattergl": [
           {
            "marker": {
             "colorbar": {
              "outlinewidth": 0,
              "ticks": ""
             }
            },
            "type": "scattergl"
           }
          ],
          "scattermapbox": [
           {
            "marker": {
             "colorbar": {
              "outlinewidth": 0,
              "ticks": ""
             }
            },
            "type": "scattermapbox"
           }
          ],
          "scatterpolar": [
           {
            "marker": {
             "colorbar": {
              "outlinewidth": 0,
              "ticks": ""
             }
            },
            "type": "scatterpolar"
           }
          ],
          "scatterpolargl": [
           {
            "marker": {
             "colorbar": {
              "outlinewidth": 0,
              "ticks": ""
             }
            },
            "type": "scatterpolargl"
           }
          ],
          "scatterternary": [
           {
            "marker": {
             "colorbar": {
              "outlinewidth": 0,
              "ticks": ""
             }
            },
            "type": "scatterternary"
           }
          ],
          "surface": [
           {
            "colorbar": {
             "outlinewidth": 0,
             "ticks": ""
            },
            "colorscale": [
             [
              0,
              "#0d0887"
             ],
             [
              0.1111111111111111,
              "#46039f"
             ],
             [
              0.2222222222222222,
              "#7201a8"
             ],
             [
              0.3333333333333333,
              "#9c179e"
             ],
             [
              0.4444444444444444,
              "#bd3786"
             ],
             [
              0.5555555555555556,
              "#d8576b"
             ],
             [
              0.6666666666666666,
              "#ed7953"
             ],
             [
              0.7777777777777778,
              "#fb9f3a"
             ],
             [
              0.8888888888888888,
              "#fdca26"
             ],
             [
              1,
              "#f0f921"
             ]
            ],
            "type": "surface"
           }
          ],
          "table": [
           {
            "cells": {
             "fill": {
              "color": "#EBF0F8"
             },
             "line": {
              "color": "white"
             }
            },
            "header": {
             "fill": {
              "color": "#C8D4E3"
             },
             "line": {
              "color": "white"
             }
            },
            "type": "table"
           }
          ]
         },
         "layout": {
          "annotationdefaults": {
           "arrowcolor": "#2a3f5f",
           "arrowhead": 0,
           "arrowwidth": 1
          },
          "autotypenumbers": "strict",
          "coloraxis": {
           "colorbar": {
            "outlinewidth": 0,
            "ticks": ""
           }
          },
          "colorscale": {
           "diverging": [
            [
             0,
             "#8e0152"
            ],
            [
             0.1,
             "#c51b7d"
            ],
            [
             0.2,
             "#de77ae"
            ],
            [
             0.3,
             "#f1b6da"
            ],
            [
             0.4,
             "#fde0ef"
            ],
            [
             0.5,
             "#f7f7f7"
            ],
            [
             0.6,
             "#e6f5d0"
            ],
            [
             0.7,
             "#b8e186"
            ],
            [
             0.8,
             "#7fbc41"
            ],
            [
             0.9,
             "#4d9221"
            ],
            [
             1,
             "#276419"
            ]
           ],
           "sequential": [
            [
             0,
             "#0d0887"
            ],
            [
             0.1111111111111111,
             "#46039f"
            ],
            [
             0.2222222222222222,
             "#7201a8"
            ],
            [
             0.3333333333333333,
             "#9c179e"
            ],
            [
             0.4444444444444444,
             "#bd3786"
            ],
            [
             0.5555555555555556,
             "#d8576b"
            ],
            [
             0.6666666666666666,
             "#ed7953"
            ],
            [
             0.7777777777777778,
             "#fb9f3a"
            ],
            [
             0.8888888888888888,
             "#fdca26"
            ],
            [
             1,
             "#f0f921"
            ]
           ],
           "sequentialminus": [
            [
             0,
             "#0d0887"
            ],
            [
             0.1111111111111111,
             "#46039f"
            ],
            [
             0.2222222222222222,
             "#7201a8"
            ],
            [
             0.3333333333333333,
             "#9c179e"
            ],
            [
             0.4444444444444444,
             "#bd3786"
            ],
            [
             0.5555555555555556,
             "#d8576b"
            ],
            [
             0.6666666666666666,
             "#ed7953"
            ],
            [
             0.7777777777777778,
             "#fb9f3a"
            ],
            [
             0.8888888888888888,
             "#fdca26"
            ],
            [
             1,
             "#f0f921"
            ]
           ]
          },
          "colorway": [
           "#636efa",
           "#EF553B",
           "#00cc96",
           "#ab63fa",
           "#FFA15A",
           "#19d3f3",
           "#FF6692",
           "#B6E880",
           "#FF97FF",
           "#FECB52"
          ],
          "font": {
           "color": "#2a3f5f"
          },
          "geo": {
           "bgcolor": "white",
           "lakecolor": "white",
           "landcolor": "white",
           "showlakes": true,
           "showland": true,
           "subunitcolor": "#C8D4E3"
          },
          "hoverlabel": {
           "align": "left"
          },
          "hovermode": "closest",
          "mapbox": {
           "style": "light"
          },
          "paper_bgcolor": "white",
          "plot_bgcolor": "white",
          "polar": {
           "angularaxis": {
            "gridcolor": "#EBF0F8",
            "linecolor": "#EBF0F8",
            "ticks": ""
           },
           "bgcolor": "white",
           "radialaxis": {
            "gridcolor": "#EBF0F8",
            "linecolor": "#EBF0F8",
            "ticks": ""
           }
          },
          "scene": {
           "xaxis": {
            "backgroundcolor": "white",
            "gridcolor": "#DFE8F3",
            "gridwidth": 2,
            "linecolor": "#EBF0F8",
            "showbackground": true,
            "ticks": "",
            "zerolinecolor": "#EBF0F8"
           },
           "yaxis": {
            "backgroundcolor": "white",
            "gridcolor": "#DFE8F3",
            "gridwidth": 2,
            "linecolor": "#EBF0F8",
            "showbackground": true,
            "ticks": "",
            "zerolinecolor": "#EBF0F8"
           },
           "zaxis": {
            "backgroundcolor": "white",
            "gridcolor": "#DFE8F3",
            "gridwidth": 2,
            "linecolor": "#EBF0F8",
            "showbackground": true,
            "ticks": "",
            "zerolinecolor": "#EBF0F8"
           }
          },
          "shapedefaults": {
           "line": {
            "color": "#2a3f5f"
           }
          },
          "ternary": {
           "aaxis": {
            "gridcolor": "#DFE8F3",
            "linecolor": "#A2B1C6",
            "ticks": ""
           },
           "baxis": {
            "gridcolor": "#DFE8F3",
            "linecolor": "#A2B1C6",
            "ticks": ""
           },
           "bgcolor": "white",
           "caxis": {
            "gridcolor": "#DFE8F3",
            "linecolor": "#A2B1C6",
            "ticks": ""
           }
          },
          "title": {
           "x": 0.05
          },
          "xaxis": {
           "automargin": true,
           "gridcolor": "#EBF0F8",
           "linecolor": "#EBF0F8",
           "ticks": "",
           "title": {
            "standoff": 15
           },
           "zerolinecolor": "#EBF0F8",
           "zerolinewidth": 2
          },
          "yaxis": {
           "automargin": true,
           "gridcolor": "#EBF0F8",
           "linecolor": "#EBF0F8",
           "ticks": "",
           "title": {
            "standoff": 15
           },
           "zerolinecolor": "#EBF0F8",
           "zerolinewidth": 2
          }
         }
        },
        "width": 650,
        "xaxis": {
         "anchor": "y",
         "domain": [
          0,
          1
         ],
         "tickfont": {
          "size": 20
         },
         "title": {
          "text": "Feature Importance"
         },
         "visible": true
        },
        "yaxis": {
         "anchor": "x",
         "automargin": true,
         "domain": [
          0,
          1
         ],
         "dtick": 1,
         "tickfont": {
          "size": 20
         },
         "title": {
          "text": "Markers"
         }
        }
       }
      },
      "text/html": [
       "<div>                            <div id=\"6a4c2009-e049-4da1-949f-33489ca33826\" class=\"plotly-graph-div\" style=\"height:900px; width:650px;\"></div>            <script type=\"text/javascript\">                require([\"plotly\"], function(Plotly) {                    window.PLOTLYENV=window.PLOTLYENV || {};                                    if (document.getElementById(\"6a4c2009-e049-4da1-949f-33489ca33826\")) {                    Plotly.newPlot(                        \"6a4c2009-e049-4da1-949f-33489ca33826\",                        [{\"hovertemplate\":\"mean_importance=%{x}<br>Markers=%{y}<extra></extra>\",\"legendgroup\":\"\",\"marker\":{\"color\":\"#DE237B\",\"symbol\":\"circle\",\"size\":8},\"mode\":\"markers\",\"name\":\"\",\"orientation\":\"h\",\"showlegend\":false,\"x\":[0.019260589681104754,0.01928260236313232,0.019315028666920916,0.019340853102349932,0.019365969483525293,0.019448184067527623,0.019551577491168946,0.01971112970844176,0.01973328295364714,0.019734084594974822],\"xaxis\":\"x\",\"y\":[\"$P1_{std}$\",\"$MSF_{std}$\",\"$wSMI\\\\alpha_{mean}$\",\"$PE\\\\alpha_{mean}$\",\"$wSMI\\\\gamma_{std}$\",\"$CNV_{std}$\",\"$K_{std}$\",\"$|\\\\theta|_{std}$\",\"$|\\\\beta|_{mean}$\",\"$|\\\\theta|_{mean}$\"],\"yaxis\":\"y\",\"type\":\"scatter\"}],                        {\"template\":{\"data\":{\"barpolar\":[{\"marker\":{\"line\":{\"color\":\"white\",\"width\":0.5},\"pattern\":{\"fillmode\":\"overlay\",\"size\":10,\"solidity\":0.2}},\"type\":\"barpolar\"}],\"bar\":[{\"error_x\":{\"color\":\"#2a3f5f\"},\"error_y\":{\"color\":\"#2a3f5f\"},\"marker\":{\"line\":{\"color\":\"white\",\"width\":0.5},\"pattern\":{\"fillmode\":\"overlay\",\"size\":10,\"solidity\":0.2}},\"type\":\"bar\"}],\"carpet\":[{\"aaxis\":{\"endlinecolor\":\"#2a3f5f\",\"gridcolor\":\"#C8D4E3\",\"linecolor\":\"#C8D4E3\",\"minorgridcolor\":\"#C8D4E3\",\"startlinecolor\":\"#2a3f5f\"},\"baxis\":{\"endlinecolor\":\"#2a3f5f\",\"gridcolor\":\"#C8D4E3\",\"linecolor\":\"#C8D4E3\",\"minorgridcolor\":\"#C8D4E3\",\"startlinecolor\":\"#2a3f5f\"},\"type\":\"carpet\"}],\"choropleth\":[{\"colorbar\":{\"outlinewidth\":0,\"ticks\":\"\"},\"type\":\"choropleth\"}],\"contourcarpet\":[{\"colorbar\":{\"outlinewidth\":0,\"ticks\":\"\"},\"type\":\"contourcarpet\"}],\"contour\":[{\"colorbar\":{\"outlinewidth\":0,\"ticks\":\"\"},\"colorscale\":[[0.0,\"#0d0887\"],[0.1111111111111111,\"#46039f\"],[0.2222222222222222,\"#7201a8\"],[0.3333333333333333,\"#9c179e\"],[0.4444444444444444,\"#bd3786\"],[0.5555555555555556,\"#d8576b\"],[0.6666666666666666,\"#ed7953\"],[0.7777777777777778,\"#fb9f3a\"],[0.8888888888888888,\"#fdca26\"],[1.0,\"#f0f921\"]],\"type\":\"contour\"}],\"heatmapgl\":[{\"colorbar\":{\"outlinewidth\":0,\"ticks\":\"\"},\"colorscale\":[[0.0,\"#0d0887\"],[0.1111111111111111,\"#46039f\"],[0.2222222222222222,\"#7201a8\"],[0.3333333333333333,\"#9c179e\"],[0.4444444444444444,\"#bd3786\"],[0.5555555555555556,\"#d8576b\"],[0.6666666666666666,\"#ed7953\"],[0.7777777777777778,\"#fb9f3a\"],[0.8888888888888888,\"#fdca26\"],[1.0,\"#f0f921\"]],\"type\":\"heatmapgl\"}],\"heatmap\":[{\"colorbar\":{\"outlinewidth\":0,\"ticks\":\"\"},\"colorscale\":[[0.0,\"#0d0887\"],[0.1111111111111111,\"#46039f\"],[0.2222222222222222,\"#7201a8\"],[0.3333333333333333,\"#9c179e\"],[0.4444444444444444,\"#bd3786\"],[0.5555555555555556,\"#d8576b\"],[0.6666666666666666,\"#ed7953\"],[0.7777777777777778,\"#fb9f3a\"],[0.8888888888888888,\"#fdca26\"],[1.0,\"#f0f921\"]],\"type\":\"heatmap\"}],\"histogram2dcontour\":[{\"colorbar\":{\"outlinewidth\":0,\"ticks\":\"\"},\"colorscale\":[[0.0,\"#0d0887\"],[0.1111111111111111,\"#46039f\"],[0.2222222222222222,\"#7201a8\"],[0.3333333333333333,\"#9c179e\"],[0.4444444444444444,\"#bd3786\"],[0.5555555555555556,\"#d8576b\"],[0.6666666666666666,\"#ed7953\"],[0.7777777777777778,\"#fb9f3a\"],[0.8888888888888888,\"#fdca26\"],[1.0,\"#f0f921\"]],\"type\":\"histogram2dcontour\"}],\"histogram2d\":[{\"colorbar\":{\"outlinewidth\":0,\"ticks\":\"\"},\"colorscale\":[[0.0,\"#0d0887\"],[0.1111111111111111,\"#46039f\"],[0.2222222222222222,\"#7201a8\"],[0.3333333333333333,\"#9c179e\"],[0.4444444444444444,\"#bd3786\"],[0.5555555555555556,\"#d8576b\"],[0.6666666666666666,\"#ed7953\"],[0.7777777777777778,\"#fb9f3a\"],[0.8888888888888888,\"#fdca26\"],[1.0,\"#f0f921\"]],\"type\":\"histogram2d\"}],\"histogram\":[{\"marker\":{\"pattern\":{\"fillmode\":\"overlay\",\"size\":10,\"solidity\":0.2}},\"type\":\"histogram\"}],\"mesh3d\":[{\"colorbar\":{\"outlinewidth\":0,\"ticks\":\"\"},\"type\":\"mesh3d\"}],\"parcoords\":[{\"line\":{\"colorbar\":{\"outlinewidth\":0,\"ticks\":\"\"}},\"type\":\"parcoords\"}],\"pie\":[{\"automargin\":true,\"type\":\"pie\"}],\"scatter3d\":[{\"line\":{\"colorbar\":{\"outlinewidth\":0,\"ticks\":\"\"}},\"marker\":{\"colorbar\":{\"outlinewidth\":0,\"ticks\":\"\"}},\"type\":\"scatter3d\"}],\"scattercarpet\":[{\"marker\":{\"colorbar\":{\"outlinewidth\":0,\"ticks\":\"\"}},\"type\":\"scattercarpet\"}],\"scattergeo\":[{\"marker\":{\"colorbar\":{\"outlinewidth\":0,\"ticks\":\"\"}},\"type\":\"scattergeo\"}],\"scattergl\":[{\"marker\":{\"colorbar\":{\"outlinewidth\":0,\"ticks\":\"\"}},\"type\":\"scattergl\"}],\"scattermapbox\":[{\"marker\":{\"colorbar\":{\"outlinewidth\":0,\"ticks\":\"\"}},\"type\":\"scattermapbox\"}],\"scatterpolargl\":[{\"marker\":{\"colorbar\":{\"outlinewidth\":0,\"ticks\":\"\"}},\"type\":\"scatterpolargl\"}],\"scatterpolar\":[{\"marker\":{\"colorbar\":{\"outlinewidth\":0,\"ticks\":\"\"}},\"type\":\"scatterpolar\"}],\"scatter\":[{\"marker\":{\"colorbar\":{\"outlinewidth\":0,\"ticks\":\"\"}},\"type\":\"scatter\"}],\"scatterternary\":[{\"marker\":{\"colorbar\":{\"outlinewidth\":0,\"ticks\":\"\"}},\"type\":\"scatterternary\"}],\"surface\":[{\"colorbar\":{\"outlinewidth\":0,\"ticks\":\"\"},\"colorscale\":[[0.0,\"#0d0887\"],[0.1111111111111111,\"#46039f\"],[0.2222222222222222,\"#7201a8\"],[0.3333333333333333,\"#9c179e\"],[0.4444444444444444,\"#bd3786\"],[0.5555555555555556,\"#d8576b\"],[0.6666666666666666,\"#ed7953\"],[0.7777777777777778,\"#fb9f3a\"],[0.8888888888888888,\"#fdca26\"],[1.0,\"#f0f921\"]],\"type\":\"surface\"}],\"table\":[{\"cells\":{\"fill\":{\"color\":\"#EBF0F8\"},\"line\":{\"color\":\"white\"}},\"header\":{\"fill\":{\"color\":\"#C8D4E3\"},\"line\":{\"color\":\"white\"}},\"type\":\"table\"}]},\"layout\":{\"annotationdefaults\":{\"arrowcolor\":\"#2a3f5f\",\"arrowhead\":0,\"arrowwidth\":1},\"autotypenumbers\":\"strict\",\"coloraxis\":{\"colorbar\":{\"outlinewidth\":0,\"ticks\":\"\"}},\"colorscale\":{\"diverging\":[[0,\"#8e0152\"],[0.1,\"#c51b7d\"],[0.2,\"#de77ae\"],[0.3,\"#f1b6da\"],[0.4,\"#fde0ef\"],[0.5,\"#f7f7f7\"],[0.6,\"#e6f5d0\"],[0.7,\"#b8e186\"],[0.8,\"#7fbc41\"],[0.9,\"#4d9221\"],[1,\"#276419\"]],\"sequential\":[[0.0,\"#0d0887\"],[0.1111111111111111,\"#46039f\"],[0.2222222222222222,\"#7201a8\"],[0.3333333333333333,\"#9c179e\"],[0.4444444444444444,\"#bd3786\"],[0.5555555555555556,\"#d8576b\"],[0.6666666666666666,\"#ed7953\"],[0.7777777777777778,\"#fb9f3a\"],[0.8888888888888888,\"#fdca26\"],[1.0,\"#f0f921\"]],\"sequentialminus\":[[0.0,\"#0d0887\"],[0.1111111111111111,\"#46039f\"],[0.2222222222222222,\"#7201a8\"],[0.3333333333333333,\"#9c179e\"],[0.4444444444444444,\"#bd3786\"],[0.5555555555555556,\"#d8576b\"],[0.6666666666666666,\"#ed7953\"],[0.7777777777777778,\"#fb9f3a\"],[0.8888888888888888,\"#fdca26\"],[1.0,\"#f0f921\"]]},\"colorway\":[\"#636efa\",\"#EF553B\",\"#00cc96\",\"#ab63fa\",\"#FFA15A\",\"#19d3f3\",\"#FF6692\",\"#B6E880\",\"#FF97FF\",\"#FECB52\"],\"font\":{\"color\":\"#2a3f5f\"},\"geo\":{\"bgcolor\":\"white\",\"lakecolor\":\"white\",\"landcolor\":\"white\",\"showlakes\":true,\"showland\":true,\"subunitcolor\":\"#C8D4E3\"},\"hoverlabel\":{\"align\":\"left\"},\"hovermode\":\"closest\",\"mapbox\":{\"style\":\"light\"},\"paper_bgcolor\":\"white\",\"plot_bgcolor\":\"white\",\"polar\":{\"angularaxis\":{\"gridcolor\":\"#EBF0F8\",\"linecolor\":\"#EBF0F8\",\"ticks\":\"\"},\"bgcolor\":\"white\",\"radialaxis\":{\"gridcolor\":\"#EBF0F8\",\"linecolor\":\"#EBF0F8\",\"ticks\":\"\"}},\"scene\":{\"xaxis\":{\"backgroundcolor\":\"white\",\"gridcolor\":\"#DFE8F3\",\"gridwidth\":2,\"linecolor\":\"#EBF0F8\",\"showbackground\":true,\"ticks\":\"\",\"zerolinecolor\":\"#EBF0F8\"},\"yaxis\":{\"backgroundcolor\":\"white\",\"gridcolor\":\"#DFE8F3\",\"gridwidth\":2,\"linecolor\":\"#EBF0F8\",\"showbackground\":true,\"ticks\":\"\",\"zerolinecolor\":\"#EBF0F8\"},\"zaxis\":{\"backgroundcolor\":\"white\",\"gridcolor\":\"#DFE8F3\",\"gridwidth\":2,\"linecolor\":\"#EBF0F8\",\"showbackground\":true,\"ticks\":\"\",\"zerolinecolor\":\"#EBF0F8\"}},\"shapedefaults\":{\"line\":{\"color\":\"#2a3f5f\"}},\"ternary\":{\"aaxis\":{\"gridcolor\":\"#DFE8F3\",\"linecolor\":\"#A2B1C6\",\"ticks\":\"\"},\"baxis\":{\"gridcolor\":\"#DFE8F3\",\"linecolor\":\"#A2B1C6\",\"ticks\":\"\"},\"bgcolor\":\"white\",\"caxis\":{\"gridcolor\":\"#DFE8F3\",\"linecolor\":\"#A2B1C6\",\"ticks\":\"\"}},\"title\":{\"x\":0.05},\"xaxis\":{\"automargin\":true,\"gridcolor\":\"#EBF0F8\",\"linecolor\":\"#EBF0F8\",\"ticks\":\"\",\"title\":{\"standoff\":15},\"zerolinecolor\":\"#EBF0F8\",\"zerolinewidth\":2},\"yaxis\":{\"automargin\":true,\"gridcolor\":\"#EBF0F8\",\"linecolor\":\"#EBF0F8\",\"ticks\":\"\",\"title\":{\"standoff\":15},\"zerolinecolor\":\"#EBF0F8\",\"zerolinewidth\":2}}},\"xaxis\":{\"anchor\":\"y\",\"domain\":[0.0,1.0],\"title\":{\"text\":\"Feature Importance\"},\"tickfont\":{\"size\":20},\"visible\":true},\"yaxis\":{\"anchor\":\"x\",\"domain\":[0.0,1.0],\"title\":{\"text\":\"Markers\"},\"tickfont\":{\"size\":20},\"automargin\":true,\"dtick\":1},\"legend\":{\"tracegroupgap\":0},\"margin\":{\"t\":60},\"font\":{\"family\":\"Times new roman\",\"size\":20,\"color\":\"black\"},\"width\":650,\"height\":900,\"showlegend\":true},                        {\"responsive\": true}                    ).then(function(){\n",
       "                            \n",
       "var gd = document.getElementById('6a4c2009-e049-4da1-949f-33489ca33826');\n",
       "var x = new MutationObserver(function (mutations, observer) {{\n",
       "        var display = window.getComputedStyle(gd).display;\n",
       "        if (!display || display === 'none') {{\n",
       "            console.log([gd, 'removed!']);\n",
       "            Plotly.purge(gd);\n",
       "            observer.disconnect();\n",
       "        }}\n",
       "}});\n",
       "\n",
       "// Listen for the removal of the full notebook cells\n",
       "var notebookContainer = gd.closest('#notebook-container');\n",
       "if (notebookContainer) {{\n",
       "    x.observe(notebookContainer, {childList: true});\n",
       "}}\n",
       "\n",
       "// Listen for the clearing of the current output cell\n",
       "var outputEl = gd.closest('.output');\n",
       "if (outputEl) {{\n",
       "    x.observe(outputEl, {childList: true});\n",
       "}}\n",
       "\n",
       "                        })                };                });            </script>        </div>"
      ]
     },
     "metadata": {},
     "output_type": "display_data"
    }
   ],
   "source": [
    "top_10 = feat_import_mind.sort_values(by = 'mean_importance').tail(10)\n",
    "fig = px.scatter(top_10,x = 'mean_importance', y = 'features', template = \"plotly_white\",\n",
    "                  color_discrete_sequence = [pink],\n",
    "\n",
    "                 category_orders = {'significant': ['p > 0.05','p < 0.05 uncorrected', 'p < 0.05 FDR corrected']}, \n",
    "                 labels = {'value':'Feature importance', 'features': 'Markers'}\n",
    "\n",
    "                )\n",
    "\n",
    "fig.update_traces(marker=dict(size = 8))\n",
    "\n",
    "fig.update_layout(\n",
    "    width=650,\n",
    "    height=900,\n",
    "#     autosize = True, \n",
    "    template = 'plotly_white',\n",
    "        font=dict(\n",
    "        family=\"Times new roman\",\n",
    "        size=20,\n",
    "        color=\"black\"\n",
    "    ),\n",
    "    xaxis = dict(\n",
    "            visible=True,\n",
    "            # range = [0.37,0.63], \n",
    "            tickfont = {\"size\": 20},\n",
    "            title = 'Feature Importance'\n",
    "        ),\n",
    "    yaxis = dict(\n",
    "        tickfont = {\"size\": 20},\n",
    "        # autorange = False,    \n",
    "        automargin = True,\n",
    "        # range = [-1,len(feat_import_mw)],\n",
    "        dtick = 1\n",
    "        ),\n",
    "    showlegend=True, \n",
    "\n",
    ")\n",
    "\n",
    "fig.show()\n",
    "# pio.write_json(fig, 'Figs/univariate_roc_mw_segment.plotly')\n",
    "fig.write_image(os.path.join(fig_path, 'feat_importance_mind.png'))\n",
    "fig.write_image(os.path.join(fig_path, 'feat_importance_mind.svg'))"
   ]
  },
  {
   "cell_type": "markdown",
   "id": "wrong-technology",
   "metadata": {},
   "source": [
    "## dMW Vs sMW\n",
    "This will be only performed in SC as they have more trials"
   ]
  },
  {
   "cell_type": "code",
   "execution_count": 14,
   "id": "documented-villa",
   "metadata": {},
   "outputs": [],
   "source": [
    "agg_dict = {k:['mean','std'] for k in markers }\n",
    "agg_dict.update({k:'first' for k in df_markers.drop(markers, axis=1).columns})\n",
    "\n",
    "df_mw = (\n",
    "    df_markers\n",
    "    .query(\"probe == 'SC'\")\n",
    "    .query(\"mind != 'on-task'\")\n",
    "    .groupby(['segment', 'participant'], as_index = False).agg(agg_dict)\n",
    ")\n",
    "\n",
    "# df_mw.columns = df_mw.columns.map(\"_\".join)\n",
    "\n",
    "# df_mw  = (df_mw\n",
    "#             .rename(columns = {'participant_first':'participant', 'probe_first':'probe', 'mind_first':'mind', 'segment_first':'segment'})\n",
    "#             .drop(['participant', 'probe', 'segment'], axis = 1) \n",
    "#            )\n",
    "\n",
    "\n",
    "\n",
    "#### Use latex command for nmaes###\n",
    "####it slow downs the computer, just for final figures.\n",
    "\n",
    "df_mw = correct_name_markers(df_mw)\n",
    "\n",
    "df_mw.columns = df_mw.columns.map(\"$_{\".join).map(lambda x: x + '}$').map(lambda x: x.replace('$$', ''))\n",
    "\n",
    "df_mw  = (df_mw\n",
    "            .rename(columns = {'participant$_{first}$':'participant', 'probe$_{first}$':'probe', 'mind$_{first}$':'mind', 'segment$_{first}$':'segment', 'mind$_{}$':'mind'})\n",
    "#             .query(\"mind != 'dMW'\") #if you want to test against just one of the mw   \n",
    "            .drop(['participant', 'probe',  'segment'], axis = 1)\n",
    "\n",
    "           )"
   ]
  },
  {
   "cell_type": "code",
   "execution_count": null,
   "id": "missing-external",
   "metadata": {},
   "outputs": [
    {
     "data": {
      "image/png": "[encoded data removed]",
      "text/plain": [
       "<Figure size 360x360 with 1 Axes>"
      ]
     },
     "metadata": {},
     "output_type": "display_data"
    },
    {
     "name": "stdout",
     "output_type": "stream",
     "text": [
      "p_value = 0.000999000999000999\n"
     ]
    },
    {
     "data": {
      "image/png": "[encoded data removed]",
      "text/plain": [
       "<Figure size 864x648 with 1 Axes>"
      ]
     },
     "metadata": {},
     "output_type": "display_data"
    }
   ],
   "source": [
    "df_forest_mw, feat_import_mw, perm_scores_mw, pvalue_mw= multivariate_classifier(data = df_mw, label = 'mind', features = df_mw.drop('mind', axis = 1).columns, \n",
    "                                 model = 'forest', pca =False, n_components = 10,\n",
    "                                 cv_splits= 5, \n",
    "                                 permutation = True, n_permutations = 1000)\n",
    "\n",
    "df_forest_mw.to_csv(os.path.join(results_path, 'multivariate_forest_mw_segment.csv'))\n",
    "feat_import_mw.to_csv(os.path.join(results_path, 'feat_import_multivariate_mw.csv'))"
   ]
  },
  {
   "cell_type": "code",
   "execution_count": 16,
   "id": "b528690e",
   "metadata": {},
   "outputs": [],
   "source": [
    "df_perm_mw= pd.DataFrame(perm_scores_mw, columns = ['auc']).assign(Model = 'Shuffled')\n",
    "df_forest_mw['Model'] = 'Original'\n",
    "\n",
    "\n",
    "df_perm_mw.to_csv(os.path.join(results_path,'multivariate_permutation_mw_segment.csv'))"
   ]
  },
  {
   "cell_type": "code",
   "execution_count": 17,
   "id": "2cee6142",
   "metadata": {},
   "outputs": [
    {
     "data": {
      "application/vnd.plotly.v1+json": {
       "config": {
        "plotlyServerURL": "https://plot.ly"
       },
       "data": [
        {
         "alignmentgroup": "True",
         "bingroup": "x",
         "hovertemplate": "Model=Shuffled<br>auc=%{x}<br>count=%{y}<extra></extra>",
         "legendgroup": "Shuffled",
         "marker": {
          "color": "#42B9B2",
          "pattern": {
           "shape": ""
          }
         },
         "name": "Shuffled",
         "nbinsx": 25,
         "offsetgroup": "Shuffled",
         "orientation": "v",
         "showlegend": true,
         "type": "histogram",
         "x": [
          0.42121026212088264,
          0.5689862401100791,
          0.4881016081871345,
          0.5053710994887466,
          0.5536143755747912,
          0.5890999509031343,
          0.5215734293717487,
          0.5848666313047117,
          0.5880268943913108,
          0.44110307017543865,
          0.46627345537757436,
          0.5272727114155685,
          0.5622776696510965,
          0.3914455829497109,
          0.585870898644699,
          0.4394471127427784,
          0.5416579544098341,
          0.4244574537949151,
          0.46062508117282003,
          0.5008559025440841,
          0.5132977861031691,
          0.48291212755498475,
          0.41321526110444173,
          0.46883122157244966,
          0.6056900413674242,
          0.491019342027082,
          0.5581859061990639,
          0.49847650349231987,
          0.4194883076037432,
          0.4505919370036344,
          0.5490733894438969,
          0.5693730825663599,
          0.5270107722722956,
          0.5127595949065432,
          0.5050216157401175,
          0.5199663332238798,
          0.4062091503267974,
          0.4512268170426065,
          0.4433081504961204,
          0.4614127667848222,
          0.3273864809081527,
          0.39459903381642514,
          0.5090508445802564,
          0.5209036836179693,
          0.5307632263431687,
          0.4179462507613768,
          0.5790920754266619,
          0.5136652906776746,
          0.3686686077939948,
          0.5987595125769606,
          0.5882057178165095,
          0.5199916281456897,
          0.6534930901422353,
          0.6366830065359478,
          0.5119262985896114,
          0.5247960369332919,
          0.39352868467961344,
          0.47157091592617906,
          0.5613531746031746,
          0.47874109907120743,
          0.46791178972855985,
          0.5400760144568194,
          0.4346262887439358,
          0.576484692122463,
          0.5210212190630148,
          0.428544220485397,
          0.5336190476190477,
          0.5756879944960441,
          0.4866429909959322,
          0.5038343163776232,
          0.4863816206527204,
          0.532343395252838,
          0.42951180472188877,
          0.5517973856209151,
          0.4468662607234036,
          0.4445236179369306,
          0.43881101920853477,
          0.4894383318779604,
          0.4794344404428438,
          0.4789105488349185,
          0.5191537356170539,
          0.4817556198680846,
          0.4888881961802435,
          0.44204339924082053,
          0.4016426276948507,
          0.34516096951294317,
          0.5173187585548267,
          0.6011443195239081,
          0.5267562667324748,
          0.5319831441348469,
          0.6148636732941244,
          0.4511638635387265,
          0.5919168124915871,
          0.6051785714285715,
          0.4727555631503,
          0.523265597028285,
          0.5467840293330489,
          0.456811048005947,
          0.5508963905181432,
          0.4926651184437225,
          0.4910247565845561,
          0.44105744754041976,
          0.46504177109440265,
          0.45926393867570336,
          0.6334815604263341,
          0.353009847288743,
          0.42865025823849356,
          0.41623729940694226,
          0.6310421821750143,
          0.46715187478500175,
          0.49571212692536226,
          0.5311739687900678,
          0.531842069629553,
          0.4291813429075334,
          0.43087772220899156,
          0.3837093057318621,
          0.5392626528750752,
          0.5315135756056809,
          0.6158208410636983,
          0.4575394870867007,
          0.47813029454205924,
          0.3894020137737888,
          0.46688936188510494,
          0.5730217703349283,
          0.4794765468769853,
          0.4863005981729923,
          0.5060663272245897,
          0.597483918128655,
          0.5592463652127517,
          0.5826036372681116,
          0.5372409924342698,
          0.4888317519990452,
          0.46575065689011036,
          0.49234800401734047,
          0.45710674533734164,
          0.48773342169115497,
          0.5647993421052632,
          0.4702834337527319,
          0.5005677672860335,
          0.5113105339601728,
          0.5003539769484042,
          0.4273945410850173,
          0.4018728070175438,
          0.38538029924021483,
          0.3860210079369743,
          0.42767492962097114,
          0.4255836014802565,
          0.5653336929668199,
          0.5751654952865699,
          0.5065076371856557,
          0.4701892732684225,
          0.40420107811864775,
          0.5439024788862914,
          0.5679502063983488,
          0.46287092029794374,
          0.4205010275242474,
          0.3404166666666667,
          0.5153023490097793,
          0.41301783723522856,
          0.5366415470494419,
          0.5134681672405458,
          0.4842790075679394,
          0.4057075623464942,
          0.6376634957013108,
          0.6275948789959087,
          0.46578042195899333,
          0.5015976830187355,
          0.5006937441643323,
          0.4929314880166274,
          0.4644585114747654,
          0.4922927631578948,
          0.4471860357415277,
          0.4414425570615501,
          0.5645784071204238,
          0.5245462399411979,
          0.5080155064878362,
          0.4964042397660819,
          0.5017300651091009,
          0.4109630334392239,
          0.48166444723822543,
          0.3777227158806106,
          0.4774394167555379,
          0.4404549569827931,
          0.43634570144767515,
          0.5149705022359821,
          0.47018435795370783,
          0.5786664665866347,
          0.4421231455545181,
          0.4903070019076211,
          0.5283156244954123,
          0.4934877534745955,
          0.47425530585147013,
          0.48934012713477,
          0.5072779977375566,
          0.4559179504419443,
          0.5037098721998102,
          0.4620430900621118,
          0.3993642938656944,
          0.572750021061056,
          0.3355043453278747,
          0.5291144963690297,
          0.5498131805676563,
          0.5532482677281438,
          0.544919021037442,
          0.584957952010449,
          0.4948935232294366,
          0.4634415204678362,
          0.5090443075156698,
          0.4904753774739642,
          0.48822137451471825,
          0.5482917096663227,
          0.43212934296525624,
          0.5605772565436431,
          0.5706784783414041,
          0.4494008129567616,
          0.562974447912336,
          0.4598593314365374,
          0.40567094074471893,
          0.4627515302679776,
          0.536621729148045,
          0.47844739894178756,
          0.4579465944272446,
          0.5371512605042017,
          0.49766250854408745,
          0.5147915166066427,
          0.6160068137666966,
          0.4357497457411646,
          0.5876873573131866,
          0.4751428715858541,
          0.5847143773743361,
          0.5572091668565353,
          0.5398982259570495,
          0.548359428711983,
          0.37198041098417034,
          0.5004104021193805,
          0.4287368580087878,
          0.48100494682999057,
          0.5112443240454076,
          0.5820715011574593,
          0.44328063362506087,
          0.515141447368421,
          0.4871156445034154,
          0.46683141788183813,
          0.5992006089148946,
          0.40996092982647603,
          0.5871632426860318,
          0.5271242800150363,
          0.553811350929772,
          0.5298242131062951,
          0.5813806024802265,
          0.47121976218614875,
          0.4617247816191868,
          0.4366314892089559,
          0.4697888650736948,
          0.47681089405459154,
          0.5496626983605367,
          0.527249699879952,
          0.49395642701525055,
          0.5966555944055945,
          0.44805025694488326,
          0.4230064513134688,
          0.4365531300239393,
          0.5091306092092202,
          0.4690914696160691,
          0.4369107515813343,
          0.6091825572334197,
          0.5563073593073593,
          0.4590052459580324,
          0.47849225479665547,
          0.5251057565622783,
          0.66373516428341,
          0.4605945087763973,
          0.5340449419002051,
          0.5251029149878255,
          0.563076088943736,
          0.4970176169495392,
          0.49178054379646596,
          0.45586600412943123,
          0.5355711981762402,
          0.505686894055868,
          0.45694145311173173,
          0.49505214175677903,
          0.44711787346517556,
          0.5038531988046054,
          0.46325363648298545,
          0.45086311498283527,
          0.4682518256597204,
          0.6644935500515996,
          0.5283104575163398,
          0.43129678030208607,
          0.5088487588017664,
          0.548438328937813,
          0.5366582510197062,
          0.4336896161973562,
          0.5245895052697113,
          0.348046587055875,
          0.48151620297241704,
          0.5416764485690878,
          0.38939067986687037,
          0.5813972193588514,
          0.5338308906896092,
          0.530176136213288,
          0.46437992354345736,
          0.5811680033416875,
          0.508449676166763,
          0.43053227498093055,
          0.4605348893943543,
          0.5725800254757382,
          0.5172769217336057,
          0.5611127853914232,
          0.5487060957105954,
          0.5159281319906092,
          0.5129257166981626,
          0.3933944367220573,
          0.5474491129785248,
          0.5149965558305701,
          0.4611978052944199,
          0.5759345760233918,
          0.4923526744030946,
          0.6022263817807825,
          0.4198702064158997,
          0.601138974449429,
          0.5152476923997317,
          0.4954387088168601,
          0.4636947854347236,
          0.5435601433555879,
          0.5183717105263158,
          0.5207123227458625,
          0.4301013071895426,
          0.5239102307589703,
          0.3580976201253253,
          0.5499804232425716,
          0.5019116120132263,
          0.43124348991222056,
          0.39269634239095136,
          0.44146412797728585,
          0.5380388542398907,
          0.48432372949179675,
          0.41765820363233014,
          0.5587627998567849,
          0.45077876116121507,
          0.5753375767679174,
          0.5310282871890015,
          0.42999501821339503,
          0.4971680900430348,
          0.3970326288410101,
          0.5509750929707071,
          0.4699992595124174,
          0.3369402731808506,
          0.5414880952380953,
          0.47897125494567944,
          0.5068782911275171,
          0.4916790355419557,
          0.5835516425868593,
          0.4216822474603877,
          0.5404633520074695,
          0.5757007865145652,
          0.5691962695242495,
          0.6101423685533593,
          0.506304802558235,
          0.5254239217356729,
          0.42228144552815605,
          0.581920923632611,
          0.5011537948512739,
          0.45358090385276917,
          0.4798299319727891,
          0.485274653451124,
          0.45136466165413536,
          0.4406347862535583,
          0.6071679039914335,
          0.535221341523973,
          0.5303703990368077,
          0.5623452802173501,
          0.4887119496921576,
          0.45276650812880453,
          0.40681282687423037,
          0.4339977486036367,
          0.5155050287658923,
          0.5221761363636364,
          0.42028478752966575,
          0.47035122119023054,
          0.4803070175438596,
          0.5891359728349903,
          0.5259629342965256,
          0.4682551704892483,
          0.5466245367764331,
          0.42868124628247123,
          0.4864313725490196,
          0.42317412850307584,
          0.46718740452873586,
          0.4748111689651937,
          0.50001389748882,
          0.5634695369989486,
          0.3790608164079029,
          0.47342282527045904,
          0.5773439789409973,
          0.446671293517407,
          0.6392270241429905,
          0.6080262391410851,
          0.5273425464770195,
          0.3566165145631311,
          0.6034138355923253,
          0.5564419996068602,
          0.5078164774681803,
          0.5248582057777105,
          0.52199536746897,
          0.45614719834688877,
          0.46455555796113074,
          0.47887348027789206,
          0.5618651264431315,
          0.49986658874075945,
          0.5761379804358094,
          0.5403545668666192,
          0.5602837538524181,
          0.5574543965734442,
          0.5277795871753191,
          0.48420585047907033,
          0.5055255336768495,
          0.49262198212618385,
          0.5301553095802658,
          0.5123929478551328,
          0.48164884374802563,
          0.5294408991666841,
          0.5097599609589879,
          0.4994136996904025,
          0.5490875472996215,
          0.48899321498934506,
          0.47909379277413333,
          0.38181863622642037,
          0.415375483526744,
          0.4149961300309598,
          0.4899775653968682,
          0.5305648570617059,
          0.5460176442812059,
          0.5146435328517371,
          0.538013542483451,
          0.5340571755017796,
          0.4562986569673876,
          0.5110404843755684,
          0.5885111035260786,
          0.5412630256781075,
          0.5157813635751782,
          0.5455294865467163,
          0.4441133190118153,
          0.5099914860681114,
          0.4768078560371517,
          0.49932839802587703,
          0.424363650465707,
          0.5179400707651481,
          0.5463053020251163,
          0.528917500628027,
          0.4525637252951863,
          0.4561255570672496,
          0.42750052613638045,
          0.6517075122282996,
          0.49048140309982413,
          0.5141490196078431,
          0.47018071582700066,
          0.5650140096172248,
          0.5513427006430103,
          0.5686645491529945,
          0.4165287141484428,
          0.4839092920151743,
          0.4724863399414483,
          0.5344595404595405,
          0.49105229460205135,
          0.42887861811391226,
          0.542960393158026,
          0.5158301828890064,
          0.43573433759468705,
          0.5389352819400365,
          0.5474607747582464,
          0.46325903188229045,
          0.5859278645822211,
          0.42371592935419783,
          0.41775682219663013,
          0.5239375689669806,
          0.45215817730601016,
          0.37802774443110576,
          0.49520632016762045,
          0.5903993614989855,
          0.3401276172749802,
          0.5348944452616357,
          0.4708234560880883,
          0.4756451585527953,
          0.4756846569173935,
          0.4989000546237389,
          0.5307407120743034,
          0.5253758084236027,
          0.5643000515995873,
          0.5318845811051693,
          0.42227786509340576,
          0.5675829346092505,
          0.4654729285653655,
          0.5171684524625701,
          0.44134509066784605,
          0.5367265520243185,
          0.5137523415163165,
          0.5467557661636608,
          0.5459228826728827,
          0.49236091901995793,
          0.5131425903694811,
          0.4198641355204823,
          0.4731358880508726,
          0.40796009200488276,
          0.4032715107875509,
          0.5383974673202614,
          0.44656468909073926,
          0.48458476724022936,
          0.3935300763048441,
          0.5492675736961452,
          0.4822444137838202,
          0.5335842346507982,
          0.4707858734645651,
          0.5373624634191333,
          0.49931213450292394,
          0.38914879792072776,
          0.4556811934004917,
          0.5474168424043911,
          0.4159651579930218,
          0.48833882405863827,
          0.5093269020804355,
          0.5132755421008983,
          0.5597883605043048,
          0.4424670899276162,
          0.4173746867167919,
          0.5316403792286145,
          0.4388259278370218,
          0.5571661998132587,
          0.46785013128058245,
          0.4474256807986352,
          0.45447079150639524,
          0.49667515602732326,
          0.5259474066429691,
          0.46054491972227485,
          0.4621252149982801,
          0.47478827647406385,
          0.4764402629534209,
          0.4601419133841735,
          0.5127599026232567,
          0.5337689096617668,
          0.5455031166840966,
          0.48742212854161204,
          0.41889999684084156,
          0.504155572792238,
          0.40741074670574895,
          0.4933209404974111,
          0.4743122582366279,
          0.513296485260771,
          0.5315981331803977,
          0.39670746548050106,
          0.4931199690402476,
          0.6269341639952871,
          0.48172138037562473,
          0.5695408426528505,
          0.46397085949004113,
          0.5220144066288029,
          0.5287950000747821,
          0.45398864809081535,
          0.6076191643705536,
          0.648234474491551,
          0.4970676602986385,
          0.3669611856438482,
          0.54531303091412,
          0.5261067106268345,
          0.49465497778058587,
          0.5786599567363178,
          0.5480918544819474,
          0.6019267196511779,
          0.5191711976895043,
          0.48170753756047874,
          0.49233640633980513,
          0.48670277422563224,
          0.43707300740195476,
          0.316200915027002,
          0.5634204087293332,
          0.5373432093015579,
          0.4666135490046514,
          0.41976720360150155,
          0.3895980737891589,
          0.4686164215686274,
          0.3885259901061874,
          0.5317736603413296,
          0.5015634441835816,
          0.4784549687321323,
          0.4614156920077973,
          0.49459690893901415,
          0.5290166661683691,
          0.4654030959362302,
          0.5165865509956896,
          0.4839058985605038,
          0.5012111511271176,
          0.5024620374465576,
          0.4810132981544967,
          0.5442894491129786,
          0.5518365526988827,
          0.4746420968801921,
          0.5199095022624435,
          0.3865855580362436,
          0.5216618629908105,
          0.47730572228891555,
          0.47338523557571177,
          0.4672597407384006,
          0.5115284851518819,
          0.5092550353474723,
          0.5209573459013235,
          0.48047682709447415,
          0.5341137770897832,
          0.550751253132832,
          0.46534911141490093,
          0.4298670602488327,
          0.45292540017956506,
          0.43924428291530193,
          0.4506519975739252,
          0.44769561157796456,
          0.5609298533573336,
          0.49096452528379775,
          0.5635903149138443,
          0.4425677711969609,
          0.42293670319004795,
          0.5158498825922436,
          0.5667466990039149,
          0.5065010822510823,
          0.46425321005595216,
          0.5909166629275662,
          0.3935319138927712,
          0.523218990763428,
          0.5196271947866375,
          0.5865224489795918,
          0.46110699762361074,
          0.5009670247046186,
          0.5099407425126735,
          0.4517855455267192,
          0.48773031916729404,
          0.5255173901728524,
          0.5076623105382504,
          0.4441066777588228,
          0.40717956656346743,
          0.6596243325705567,
          0.5899604739683821,
          0.5626980828523287,
          0.45518454267498554,
          0.5640710041592394,
          0.49756685862750905,
          0.5085980269300703,
          0.4981897546897547,
          0.4553646275651929,
          0.45749740422484775,
          0.5367551020408163,
          0.4739718032001651,
          0.5108873926211388,
          0.4592397959183673,
          0.5166859591789932,
          0.4007075930605343,
          0.49064244645226507,
          0.49528288378288376,
          0.5242564136765818,
          0.4737822462318261,
          0.6371211985938541,
          0.4421015256673151,
          0.5280494186853983,
          0.38999500540957127,
          0.47355293024528605,
          0.4514899527062287,
          0.49109466467746526,
          0.47544808746710565,
          0.6097372119624442,
          0.48477704678362576,
          0.5391332989336085,
          0.5511998624011009,
          0.461411720243653,
          0.5422617731303048,
          0.47101059592037037,
          0.5021119956754632,
          0.5109667916362963,
          0.5086744331888073,
          0.5689969554255269,
          0.4933477143293964,
          0.4612571637649155,
          0.6073968429231588,
          0.6241237367054627,
          0.5677434886998277,
          0.44139616102851403,
          0.5552885902367327,
          0.48802760017050295,
          0.544058951809322,
          0.5077258221102205,
          0.6472527818144801,
          0.42419701916160885,
          0.5098694951664876,
          0.41302166400850615,
          0.5340522688861966,
          0.5079599489777509,
          0.5364671981174876,
          0.5085937034615524,
          0.5091533894054903,
          0.43615297948509485,
          0.4485630555743338,
          0.41953646370829034,
          0.5884938080495357,
          0.49505981339904387,
          0.47711352040816324,
          0.49603519597018053,
          0.5442156750572082,
          0.4130238498908335,
          0.5294815865249303,
          0.5032892648287386,
          0.5579498720540848,
          0.5131186656384722,
          0.5622538934602181,
          0.536225907262672,
          0.547639188232648,
          0.5275510502446593,
          0.4851554007567939,
          0.4912107386814375,
          0.4603659342524889,
          0.6042710417500334,
          0.41454793900752546,
          0.47726168617367204,
          0.5259277991898514,
          0.5839378869969041,
          0.5764938993141115,
          0.432937648743708,
          0.48290226178190565,
          0.5227998844905561,
          0.598646113246553,
          0.42532240360258927,
          0.5038445326603223,
          0.5807485102303029,
          0.4396566094079639,
          0.5076784766121968,
          0.5812434210526316,
          0.524564167772372,
          0.4833694727891157,
          0.5272697078831532,
          0.4204502737021582,
          0.5233824845727765,
          0.5406125359234603,
          0.6287865729137659,
          0.6349096994950598,
          0.5538960012124099,
          0.5525912061794415,
          0.45701144492884876,
          0.49202984912833986,
          0.47256679953296504,
          0.5441384551532283,
          0.38835953694979136,
          0.49871340666955827,
          0.44039025969853035,
          0.49985393679002704,
          0.47097477806912236,
          0.4046849882144,
          0.5285641957133185,
          0.46995782016510307,
          0.4461366051293812,
          0.5179031554142125,
          0.5497381847475833,
          0.6034127401420635,
          0.524028710088501,
          0.5213678626865126,
          0.4578128256133372,
          0.38985176482873857,
          0.4375254443698716,
          0.5475595821876781,
          0.4326909430438842,
          0.3976322347120666,
          0.5372147852147853,
          0.5124720965309201,
          0.47679573934837094,
          0.46861378044040586,
          0.5463213305657191,
          0.513042356336474,
          0.5590664379480169,
          0.5872059678180961,
          0.5438563865614949,
          0.6048764532680941,
          0.4998660172555044,
          0.5085665900515525,
          0.4890849673202614,
          0.4949797383068059,
          0.5717802186848239,
          0.4475987280730517,
          0.5450285087719299,
          0.4522364164521028,
          0.5199073973841776,
          0.4643687535620309,
          0.41283034560898335,
          0.49562452173852006,
          0.59971877522939,
          0.5763922506801764,
          0.587590017825312,
          0.4880722664128994,
          0.5684309969601876,
          0.4051307911215032,
          0.4672968815672721,
          0.4456258321510423,
          0.5960406092261467,
          0.4393518536601243,
          0.45272666961521446,
          0.4797069523109367,
          0.5482361694742647,
          0.5408971455433519,
          0.5297361270022884,
          0.46549350558506575,
          0.44014044581149847,
          0.552297815617475,
          0.466140041875336,
          0.44118989716405255,
          0.38800646905935865,
          0.5417272727272727,
          0.5489799231095948,
          0.5001885927521276,
          0.4691649984002925,
          0.4421835839598997,
          0.48029419242906923,
          0.46587860196219333,
          0.5629422031834312,
          0.5559088266885702,
          0.47109838772338775,
          0.49492593309253535,
          0.47922683941997857,
          0.5045791284554552,
          0.5116309892378004,
          0.47533754729962163,
          0.4759587471352177,
          0.5572685916471852,
          0.510673202614379,
          0.5416274005615005,
          0.5079943714327837,
          0.4774707658425689,
          0.49352398766524147,
          0.5214625902992778,
          0.4217603599653577,
          0.4714052287581699,
          0.537029878618114,
          0.4007878326769304,
          0.4952155064577665,
          0.4194250486542518,
          0.5374343470126364,
          0.4065108026853423,
          0.49330140911719855,
          0.5530791529218304,
          0.4246970266575529,
          0.5000793639338531,
          0.5300924608587148,
          0.5337847463546822,
          0.5319711042311661,
          0.5654787062046018,
          0.5439990025949357,
          0.48864496356756415,
          0.5028215683126398,
          0.4677450234479757,
          0.3481808186279851,
          0.5234826281389748,
          0.47687831097351213,
          0.5604342320261437,
          0.49772232205359146,
          0.5290946455813447,
          0.4777005262440598,
          0.49727517868745946,
          0.547373366013072,
          0.4598221964224286,
          0.5387087764167452,
          0.42720168067226894,
          0.5503900742115029,
          0.4889904832962613,
          0.4649230722592067,
          0.44715784946048104,
          0.5383046551954115,
          0.5441846405228759,
          0.49380789352778154,
          0.47889224286205706,
          0.44345182974375524,
          0.48397258039518104,
          0.4214212278153626,
          0.5180157327753235,
          0.45688187994496043,
          0.4776953532609216,
          0.5554609305125559,
          0.5255958793773919,
          0.4996413023298988,
          0.4846626875630635,
          0.4752119711042312,
          0.4475993114676588,
          0.4846129297013861,
          0.47185722242113215,
          0.5147297223545289,
          0.4781919785458043,
          0.5367859398145224,
          0.47438148468133756,
          0.5493401574345848,
          0.5080196078431373,
          0.3989353286891987,
          0.5581395041147362,
          0.4102859913134681,
          0.39463498030791266,
          0.5219405039405041,
          0.541358422279475,
          0.43093295636252293,
          0.5743668409238586,
          0.5799644454763871,
          0.45583444969203485,
          0.49379073559248265,
          0.49051324696545284,
          0.5205844513243894,
          0.5591984645710136,
          0.48198174664602683,
          0.4112721693797545,
          0.5183006535947712,
          0.511535071180969,
          0.5049780742133684,
          0.5184508583760389,
          0.5998885031595484,
          0.44678249382196755,
          0.49805986613647074,
          0.5609814241486069,
          0.5087933006535948,
          0.5236453712266406,
          0.5011828307982231,
          0.4735988334727831,
          0.48321169418464294,
          0.4767820769333374,
          0.5062382847875992,
          0.6215425161133034,
          0.5266092200610222,
          0.45566908342284285,
          0.5392676807565132,
          0.4269305913384861,
          0.49365376155038676,
          0.48828581871345034,
          0.5207626811594204,
          0.5067384760921912,
          0.6028985533607382,
          0.5271529664497379,
          0.3405510210463771,
          0.5842527798998387,
          0.42880670013577094,
          0.5580542056639589,
          0.5095020903098082,
          0.4444439770568792,
          0.5750154359989611,
          0.5906038181589652,
          0.5325455939951739,
          0.4994735702893598,
          0.42679713318893986,
          0.3286861455108359,
          0.5357356572258534,
          0.5837521428997178,
          0.5499576791672379,
          0.47496655293696427,
          0.41696996342396614,
          0.4715686274509804,
          0.5092106911467813,
          0.4608623894002045,
          0.6025198263515932,
          0.41727001633986927,
          0.45357609710550895,
          0.5356982418801641,
          0.5032705713864493,
          0.45923449862401106,
          0.5479984583110633,
          0.5538322575406974,
          0.6036027583527585,
          0.5547398520811834,
          0.5019955350561277,
          0.5366060627149409,
          0.48143640350877187,
          0.48541367164714855,
          0.46744354759447637,
          0.5957987593546805,
          0.46316246161669505,
          0.4899867016982231,
          0.5178857069143448,
          0.5601733920993146,
          0.4082935617014565,
          0.4780284635998922,
          0.4964083313303238,
          0.5153016372240904,
          0.4244775803144224,
          0.4623925653594771,
          0.4329512145748987,
          0.5083502527631953,
          0.5407394471052257,
          0.503240294053324,
          0.5149846605308791,
          0.5099113861745165,
          0.5527809915034594,
          0.496698157523879,
          0.45769000239956126,
          0.40696163843111616,
          0.472045288045288,
          0.44325034399724805,
          0.5259254587097724,
          0.46254205385858044,
          0.5129246868318412,
          0.5037243230625583,
          0.4674346635327252,
          0.46235896149651123,
          0.5689275289062994,
          0.6430510323010322
         ],
         "xaxis": "x",
         "yaxis": "y"
        }
       ],
       "layout": {
        "annotations": [
         {
          "align": "left",
          "arrowhead": 1,
          "showarrow": false,
          "text": "Score on original labels: <br>Mean AUC: 0.632<br>p = 0.001",
          "x": 0.7322351802084474,
          "y": 50
         }
        ],
        "autosize": false,
        "bargap": 0.05,
        "barmode": "relative",
        "font": {
         "color": "black",
         "family": "Times new roman",
         "size": 20
        },
        "height": 800,
        "legend": {
         "title": {
          "text": "Model"
         },
         "tracegroupgap": 0
        },
        "margin": {
         "t": 60
        },
        "shapes": [
         {
          "line": {
           "color": "grey",
           "dash": "dash",
           "width": 3
          },
          "type": "line",
          "x0": 0.6322351802084474,
          "x1": 0.6322351802084474,
          "xref": "x",
          "y0": 0,
          "y1": 1,
          "yref": "y domain"
         }
        ],
        "template": {
         "data": {
          "bar": [
           {
            "error_x": {
             "color": "#2a3f5f"
            },
            "error_y": {
             "color": "#2a3f5f"
            },
            "marker": {
             "line": {
              "color": "white",
              "width": 0.5
             },
             "pattern": {
              "fillmode": "overlay",
              "size": 10,
              "solidity": 0.2
             }
            },
            "type": "bar"
           }
          ],
          "barpolar": [
           {
            "marker": {
             "line": {
              "color": "white",
              "width": 0.5
             },
             "pattern": {
              "fillmode": "overlay",
              "size": 10,
              "solidity": 0.2
             }
            },
            "type": "barpolar"
           }
          ],
          "carpet": [
           {
            "aaxis": {
             "endlinecolor": "#2a3f5f",
             "gridcolor": "#C8D4E3",
             "linecolor": "#C8D4E3",
             "minorgridcolor": "#C8D4E3",
             "startlinecolor": "#2a3f5f"
            },
            "baxis": {
             "endlinecolor": "#2a3f5f",
             "gridcolor": "#C8D4E3",
             "linecolor": "#C8D4E3",
             "minorgridcolor": "#C8D4E3",
             "startlinecolor": "#2a3f5f"
            },
            "type": "carpet"
           }
          ],
          "choropleth": [
           {
            "colorbar": {
             "outlinewidth": 0,
             "ticks": ""
            },
            "type": "choropleth"
           }
          ],
          "contour": [
           {
            "colorbar": {
             "outlinewidth": 0,
             "ticks": ""
            },
            "colorscale": [
             [
              0,
              "#0d0887"
             ],
             [
              0.1111111111111111,
              "#46039f"
             ],
             [
              0.2222222222222222,
              "#7201a8"
             ],
             [
              0.3333333333333333,
              "#9c179e"
             ],
             [
              0.4444444444444444,
              "#bd3786"
             ],
             [
              0.5555555555555556,
              "#d8576b"
             ],
             [
              0.6666666666666666,
              "#ed7953"
             ],
             [
              0.7777777777777778,
              "#fb9f3a"
             ],
             [
              0.8888888888888888,
              "#fdca26"
             ],
             [
              1,
              "#f0f921"
             ]
            ],
            "type": "contour"
           }
          ],
          "contourcarpet": [
           {
            "colorbar": {
             "outlinewidth": 0,
             "ticks": ""
            },
            "type": "contourcarpet"
           }
          ],
          "heatmap": [
           {
            "colorbar": {
             "outlinewidth": 0,
             "ticks": ""
            },
            "colorscale": [
             [
              0,
              "#0d0887"
             ],
             [
              0.1111111111111111,
              "#46039f"
             ],
             [
              0.2222222222222222,
              "#7201a8"
             ],
             [
              0.3333333333333333,
              "#9c179e"
             ],
             [
              0.4444444444444444,
              "#bd3786"
             ],
             [
              0.5555555555555556,
              "#d8576b"
             ],
             [
              0.6666666666666666,
              "#ed7953"
             ],
             [
              0.7777777777777778,
              "#fb9f3a"
             ],
             [
              0.8888888888888888,
              "#fdca26"
             ],
             [
              1,
              "#f0f921"
             ]
            ],
            "type": "heatmap"
           }
          ],
          "heatmapgl": [
           {
            "colorbar": {
             "outlinewidth": 0,
             "ticks": ""
            },
            "colorscale": [
             [
              0,
              "#0d0887"
             ],
             [
              0.1111111111111111,
              "#46039f"
             ],
             [
              0.2222222222222222,
              "#7201a8"
             ],
             [
              0.3333333333333333,
              "#9c179e"
             ],
             [
              0.4444444444444444,
              "#bd3786"
             ],
             [
              0.5555555555555556,
              "#d8576b"
             ],
             [
              0.6666666666666666,
              "#ed7953"
             ],
             [
              0.7777777777777778,
              "#fb9f3a"
             ],
             [
              0.8888888888888888,
              "#fdca26"
             ],
             [
              1,
              "#f0f921"
             ]
            ],
            "type": "heatmapgl"
           }
          ],
          "histogram": [
           {
            "marker": {
             "pattern": {
              "fillmode": "overlay",
              "size": 10,
              "solidity": 0.2
             }
            },
            "type": "histogram"
           }
          ],
          "histogram2d": [
           {
            "colorbar": {
             "outlinewidth": 0,
             "ticks": ""
            },
            "colorscale": [
             [
              0,
              "#0d0887"
             ],
             [
              0.1111111111111111,
              "#46039f"
             ],
             [
              0.2222222222222222,
              "#7201a8"
             ],
             [
              0.3333333333333333,
              "#9c179e"
             ],
             [
              0.4444444444444444,
              "#bd3786"
             ],
             [
              0.5555555555555556,
              "#d8576b"
             ],
             [
              0.6666666666666666,
              "#ed7953"
             ],
             [
              0.7777777777777778,
              "#fb9f3a"
             ],
             [
              0.8888888888888888,
              "#fdca26"
             ],
             [
              1,
              "#f0f921"
             ]
            ],
            "type": "histogram2d"
           }
          ],
          "histogram2dcontour": [
           {
            "colorbar": {
             "outlinewidth": 0,
             "ticks": ""
            },
            "colorscale": [
             [
              0,
              "#0d0887"
             ],
             [
              0.1111111111111111,
              "#46039f"
             ],
             [
              0.2222222222222222,
              "#7201a8"
             ],
             [
              0.3333333333333333,
              "#9c179e"
             ],
             [
              0.4444444444444444,
              "#bd3786"
             ],
             [
              0.5555555555555556,
              "#d8576b"
             ],
             [
              0.6666666666666666,
              "#ed7953"
             ],
             [
              0.7777777777777778,
              "#fb9f3a"
             ],
             [
              0.8888888888888888,
              "#fdca26"
             ],
             [
              1,
              "#f0f921"
             ]
            ],
            "type": "histogram2dcontour"
           }
          ],
          "mesh3d": [
           {
            "colorbar": {
             "outlinewidth": 0,
             "ticks": ""
            },
            "type": "mesh3d"
           }
          ],
          "parcoords": [
           {
            "line": {
             "colorbar": {
              "outlinewidth": 0,
              "ticks": ""
             }
            },
            "type": "parcoords"
           }
          ],
          "pie": [
           {
            "automargin": true,
            "type": "pie"
           }
          ],
          "scatter": [
           {
            "marker": {
             "colorbar": {
              "outlinewidth": 0,
              "ticks": ""
             }
            },
            "type": "scatter"
           }
          ],
          "scatter3d": [
           {
            "line": {
             "colorbar": {
              "outlinewidth": 0,
              "ticks": ""
             }
            },
            "marker": {
             "colorbar": {
              "outlinewidth": 0,
              "ticks": ""
             }
            },
            "type": "scatter3d"
           }
          ],
          "scattercarpet": [
           {
            "marker": {
             "colorbar": {
              "outlinewidth": 0,
              "ticks": ""
             }
            },
            "type": "scattercarpet"
           }
          ],
          "scattergeo": [
           {
            "marker": {
             "colorbar": {
              "outlinewidth": 0,
              "ticks": ""
             }
            },
            "type": "scattergeo"
           }
          ],
          "scattergl": [
           {
            "marker": {
             "colorbar": {
              "outlinewidth": 0,
              "ticks": ""
             }
            },
            "type": "scattergl"
           }
          ],
          "scattermapbox": [
           {
            "marker": {
             "colorbar": {
              "outlinewidth": 0,
              "ticks": ""
             }
            },
            "type": "scattermapbox"
           }
          ],
          "scatterpolar": [
           {
            "marker": {
             "colorbar": {
              "outlinewidth": 0,
              "ticks": ""
             }
            },
            "type": "scatterpolar"
           }
          ],
          "scatterpolargl": [
           {
            "marker": {
             "colorbar": {
              "outlinewidth": 0,
              "ticks": ""
             }
            },
            "type": "scatterpolargl"
           }
          ],
          "scatterternary": [
           {
            "marker": {
             "colorbar": {
              "outlinewidth": 0,
              "ticks": ""
             }
            },
            "type": "scatterternary"
           }
          ],
          "surface": [
           {
            "colorbar": {
             "outlinewidth": 0,
             "ticks": ""
            },
            "colorscale": [
             [
              0,
              "#0d0887"
             ],
             [
              0.1111111111111111,
              "#46039f"
             ],
             [
              0.2222222222222222,
              "#7201a8"
             ],
             [
              0.3333333333333333,
              "#9c179e"
             ],
             [
              0.4444444444444444,
              "#bd3786"
             ],
             [
              0.5555555555555556,
              "#d8576b"
             ],
             [
              0.6666666666666666,
              "#ed7953"
             ],
             [
              0.7777777777777778,
              "#fb9f3a"
             ],
             [
              0.8888888888888888,
              "#fdca26"
             ],
             [
              1,
              "#f0f921"
             ]
            ],
            "type": "surface"
           }
          ],
          "table": [
           {
            "cells": {
             "fill": {
              "color": "#EBF0F8"
             },
             "line": {
              "color": "white"
             }
            },
            "header": {
             "fill": {
              "color": "#C8D4E3"
             },
             "line": {
              "color": "white"
             }
            },
            "type": "table"
           }
          ]
         },
         "layout": {
          "annotationdefaults": {
           "arrowcolor": "#2a3f5f",
           "arrowhead": 0,
           "arrowwidth": 1
          },
          "autotypenumbers": "strict",
          "coloraxis": {
           "colorbar": {
            "outlinewidth": 0,
            "ticks": ""
           }
          },
          "colorscale": {
           "diverging": [
            [
             0,
             "#8e0152"
            ],
            [
             0.1,
             "#c51b7d"
            ],
            [
             0.2,
             "#de77ae"
            ],
            [
             0.3,
             "#f1b6da"
            ],
            [
             0.4,
             "#fde0ef"
            ],
            [
             0.5,
             "#f7f7f7"
            ],
            [
             0.6,
             "#e6f5d0"
            ],
            [
             0.7,
             "#b8e186"
            ],
            [
             0.8,
             "#7fbc41"
            ],
            [
             0.9,
             "#4d9221"
            ],
            [
             1,
             "#276419"
            ]
           ],
           "sequential": [
            [
             0,
             "#0d0887"
            ],
            [
             0.1111111111111111,
             "#46039f"
            ],
            [
             0.2222222222222222,
             "#7201a8"
            ],
            [
             0.3333333333333333,
             "#9c179e"
            ],
            [
             0.4444444444444444,
             "#bd3786"
            ],
            [
             0.5555555555555556,
             "#d8576b"
            ],
            [
             0.6666666666666666,
             "#ed7953"
            ],
            [
             0.7777777777777778,
             "#fb9f3a"
            ],
            [
             0.8888888888888888,
             "#fdca26"
            ],
            [
             1,
             "#f0f921"
            ]
           ],
           "sequentialminus": [
            [
             0,
             "#0d0887"
            ],
            [
             0.1111111111111111,
             "#46039f"
            ],
            [
             0.2222222222222222,
             "#7201a8"
            ],
            [
             0.3333333333333333,
             "#9c179e"
            ],
            [
             0.4444444444444444,
             "#bd3786"
            ],
            [
             0.5555555555555556,
             "#d8576b"
            ],
            [
             0.6666666666666666,
             "#ed7953"
            ],
            [
             0.7777777777777778,
             "#fb9f3a"
            ],
            [
             0.8888888888888888,
             "#fdca26"
            ],
            [
             1,
             "#f0f921"
            ]
           ]
          },
          "colorway": [
           "#636efa",
           "#EF553B",
           "#00cc96",
           "#ab63fa",
           "#FFA15A",
           "#19d3f3",
           "#FF6692",
           "#B6E880",
           "#FF97FF",
           "#FECB52"
          ],
          "font": {
           "color": "#2a3f5f"
          },
          "geo": {
           "bgcolor": "white",
           "lakecolor": "white",
           "landcolor": "white",
           "showlakes": true,
           "showland": true,
           "subunitcolor": "#C8D4E3"
          },
          "hoverlabel": {
           "align": "left"
          },
          "hovermode": "closest",
          "mapbox": {
           "style": "light"
          },
          "paper_bgcolor": "white",
          "plot_bgcolor": "white",
          "polar": {
           "angularaxis": {
            "gridcolor": "#EBF0F8",
            "linecolor": "#EBF0F8",
            "ticks": ""
           },
           "bgcolor": "white",
           "radialaxis": {
            "gridcolor": "#EBF0F8",
            "linecolor": "#EBF0F8",
            "ticks": ""
           }
          },
          "scene": {
           "xaxis": {
            "backgroundcolor": "white",
            "gridcolor": "#DFE8F3",
            "gridwidth": 2,
            "linecolor": "#EBF0F8",
            "showbackground": true,
            "ticks": "",
            "zerolinecolor": "#EBF0F8"
           },
           "yaxis": {
            "backgroundcolor": "white",
            "gridcolor": "#DFE8F3",
            "gridwidth": 2,
            "linecolor": "#EBF0F8",
            "showbackground": true,
            "ticks": "",
            "zerolinecolor": "#EBF0F8"
           },
           "zaxis": {
            "backgroundcolor": "white",
            "gridcolor": "#DFE8F3",
            "gridwidth": 2,
            "linecolor": "#EBF0F8",
            "showbackground": true,
            "ticks": "",
            "zerolinecolor": "#EBF0F8"
           }
          },
          "shapedefaults": {
           "line": {
            "color": "#2a3f5f"
           }
          },
          "ternary": {
           "aaxis": {
            "gridcolor": "#DFE8F3",
            "linecolor": "#A2B1C6",
            "ticks": ""
           },
           "baxis": {
            "gridcolor": "#DFE8F3",
            "linecolor": "#A2B1C6",
            "ticks": ""
           },
           "bgcolor": "white",
           "caxis": {
            "gridcolor": "#DFE8F3",
            "linecolor": "#A2B1C6",
            "ticks": ""
           }
          },
          "title": {
           "x": 0.05
          },
          "xaxis": {
           "automargin": true,
           "gridcolor": "#EBF0F8",
           "linecolor": "#EBF0F8",
           "ticks": "",
           "title": {
            "standoff": 15
           },
           "zerolinecolor": "#EBF0F8",
           "zerolinewidth": 2
          },
          "yaxis": {
           "automargin": true,
           "gridcolor": "#EBF0F8",
           "linecolor": "#EBF0F8",
           "ticks": "",
           "title": {
            "standoff": 15
           },
           "zerolinecolor": "#EBF0F8",
           "zerolinewidth": 2
          }
         }
        },
        "width": 800,
        "xaxis": {
         "anchor": "y",
         "domain": [
          0,
          1
         ],
         "range": [
          0.25,
          0.75
         ],
         "tickfont": {
          "size": 20
         },
         "title": {
          "text": "CV AUC"
         }
        },
        "yaxis": {
         "anchor": "x",
         "domain": [
          0,
          1
         ],
         "tickfont": {
          "size": 20
         },
         "title": {
          "text": ""
         }
        }
       }
      },
      "text/html": [
       "<div>                            <div id=\"bbb9cf30-bb3a-40c8-b500-7013398f2932\" class=\"plotly-graph-div\" style=\"height:800px; width:800px;\"></div>            <script type=\"text/javascript\">                require([\"plotly\"], function(Plotly) {                    window.PLOTLYENV=window.PLOTLYENV || {};                                    if (document.getElementById(\"bbb9cf30-bb3a-40c8-b500-7013398f2932\")) {                    Plotly.newPlot(                        \"bbb9cf30-bb3a-40c8-b500-7013398f2932\",                        [{\"alignmentgroup\":\"True\",\"bingroup\":\"x\",\"hovertemplate\":\"Model=Shuffled<br>auc=%{x}<br>count=%{y}<extra></extra>\",\"legendgroup\":\"Shuffled\",\"marker\":{\"color\":\"#42B9B2\",\"pattern\":{\"shape\":\"\"}},\"name\":\"Shuffled\",\"nbinsx\":25,\"offsetgroup\":\"Shuffled\",\"orientation\":\"v\",\"showlegend\":true,\"x\":[0.42121026212088264,0.5689862401100791,0.4881016081871345,0.5053710994887466,0.5536143755747912,0.5890999509031343,0.5215734293717487,0.5848666313047117,0.5880268943913108,0.44110307017543865,0.46627345537757436,0.5272727114155685,0.5622776696510965,0.3914455829497109,0.585870898644699,0.4394471127427784,0.5416579544098341,0.4244574537949151,0.46062508117282003,0.5008559025440841,0.5132977861031691,0.48291212755498475,0.41321526110444173,0.46883122157244966,0.6056900413674242,0.491019342027082,0.5581859061990639,0.49847650349231987,0.4194883076037432,0.4505919370036344,0.5490733894438969,0.5693730825663599,0.5270107722722956,0.5127595949065432,0.5050216157401175,0.5199663332238798,0.4062091503267974,0.4512268170426065,0.4433081504961204,0.4614127667848222,0.3273864809081527,0.39459903381642514,0.5090508445802564,0.5209036836179693,0.5307632263431687,0.4179462507613768,0.5790920754266619,0.5136652906776746,0.3686686077939948,0.5987595125769606,0.5882057178165095,0.5199916281456897,0.6534930901422353,0.6366830065359478,0.5119262985896114,0.5247960369332919,0.39352868467961344,0.47157091592617906,0.5613531746031746,0.47874109907120743,0.46791178972855985,0.5400760144568194,0.4346262887439358,0.576484692122463,0.5210212190630148,0.428544220485397,0.5336190476190477,0.5756879944960441,0.4866429909959322,0.5038343163776232,0.4863816206527204,0.532343395252838,0.42951180472188877,0.5517973856209151,0.4468662607234036,0.4445236179369306,0.43881101920853477,0.4894383318779604,0.4794344404428438,0.4789105488349185,0.5191537356170539,0.4817556198680846,0.4888881961802435,0.44204339924082053,0.4016426276948507,0.34516096951294317,0.5173187585548267,0.6011443195239081,0.5267562667324748,0.5319831441348469,0.6148636732941244,0.4511638635387265,0.5919168124915871,0.6051785714285715,0.4727555631503,0.523265597028285,0.5467840293330489,0.456811048005947,0.5508963905181432,0.4926651184437225,0.4910247565845561,0.44105744754041976,0.46504177109440265,0.45926393867570336,0.6334815604263341,0.353009847288743,0.42865025823849356,0.41623729940694226,0.6310421821750143,0.46715187478500175,0.49571212692536226,0.5311739687900678,0.531842069629553,0.4291813429075334,0.43087772220899156,0.3837093057318621,0.5392626528750752,0.5315135756056809,0.6158208410636983,0.4575394870867007,0.47813029454205924,0.3894020137737888,0.46688936188510494,0.5730217703349283,0.4794765468769853,0.4863005981729923,0.5060663272245897,0.597483918128655,0.5592463652127517,0.5826036372681116,0.5372409924342698,0.4888317519990452,0.46575065689011036,0.49234800401734047,0.45710674533734164,0.48773342169115497,0.5647993421052632,0.4702834337527319,0.5005677672860335,0.5113105339601728,0.5003539769484042,0.4273945410850173,0.4018728070175438,0.38538029924021483,0.3860210079369743,0.42767492962097114,0.4255836014802565,0.5653336929668199,0.5751654952865699,0.5065076371856557,0.4701892732684225,0.40420107811864775,0.5439024788862914,0.5679502063983488,0.46287092029794374,0.4205010275242474,0.3404166666666667,0.5153023490097793,0.41301783723522856,0.5366415470494419,0.5134681672405458,0.4842790075679394,0.4057075623464942,0.6376634957013108,0.6275948789959087,0.46578042195899333,0.5015976830187355,0.5006937441643323,0.4929314880166274,0.4644585114747654,0.4922927631578948,0.4471860357415277,0.4414425570615501,0.5645784071204238,0.5245462399411979,0.5080155064878362,0.4964042397660819,0.5017300651091009,0.4109630334392239,0.48166444723822543,0.3777227158806106,0.4774394167555379,0.4404549569827931,0.43634570144767515,0.5149705022359821,0.47018435795370783,0.5786664665866347,0.4421231455545181,0.4903070019076211,0.5283156244954123,0.4934877534745955,0.47425530585147013,0.48934012713477,0.5072779977375566,0.4559179504419443,0.5037098721998102,0.4620430900621118,0.3993642938656944,0.572750021061056,0.3355043453278747,0.5291144963690297,0.5498131805676563,0.5532482677281438,0.544919021037442,0.584957952010449,0.4948935232294366,0.4634415204678362,0.5090443075156698,0.4904753774739642,0.48822137451471825,0.5482917096663227,0.43212934296525624,0.5605772565436431,0.5706784783414041,0.4494008129567616,0.562974447912336,0.4598593314365374,0.40567094074471893,0.4627515302679776,0.536621729148045,0.47844739894178756,0.4579465944272446,0.5371512605042017,0.49766250854408745,0.5147915166066427,0.6160068137666966,0.4357497457411646,0.5876873573131866,0.4751428715858541,0.5847143773743361,0.5572091668565353,0.5398982259570495,0.548359428711983,0.37198041098417034,0.5004104021193805,0.4287368580087878,0.48100494682999057,0.5112443240454076,0.5820715011574593,0.44328063362506087,0.515141447368421,0.4871156445034154,0.46683141788183813,0.5992006089148946,0.40996092982647603,0.5871632426860318,0.5271242800150363,0.553811350929772,0.5298242131062951,0.5813806024802265,0.47121976218614875,0.4617247816191868,0.4366314892089559,0.4697888650736948,0.47681089405459154,0.5496626983605367,0.527249699879952,0.49395642701525055,0.5966555944055945,0.44805025694488326,0.4230064513134688,0.4365531300239393,0.5091306092092202,0.4690914696160691,0.4369107515813343,0.6091825572334197,0.5563073593073593,0.4590052459580324,0.47849225479665547,0.5251057565622783,0.66373516428341,0.4605945087763973,0.5340449419002051,0.5251029149878255,0.563076088943736,0.4970176169495392,0.49178054379646596,0.45586600412943123,0.5355711981762402,0.505686894055868,0.45694145311173173,0.49505214175677903,0.44711787346517556,0.5038531988046054,0.46325363648298545,0.45086311498283527,0.4682518256597204,0.6644935500515996,0.5283104575163398,0.43129678030208607,0.5088487588017664,0.548438328937813,0.5366582510197062,0.4336896161973562,0.5245895052697113,0.348046587055875,0.48151620297241704,0.5416764485690878,0.38939067986687037,0.5813972193588514,0.5338308906896092,0.530176136213288,0.46437992354345736,0.5811680033416875,0.508449676166763,0.43053227498093055,0.4605348893943543,0.5725800254757382,0.5172769217336057,0.5611127853914232,0.5487060957105954,0.5159281319906092,0.5129257166981626,0.3933944367220573,0.5474491129785248,0.5149965558305701,0.4611978052944199,0.5759345760233918,0.4923526744030946,0.6022263817807825,0.4198702064158997,0.601138974449429,0.5152476923997317,0.4954387088168601,0.4636947854347236,0.5435601433555879,0.5183717105263158,0.5207123227458625,0.4301013071895426,0.5239102307589703,0.3580976201253253,0.5499804232425716,0.5019116120132263,0.43124348991222056,0.39269634239095136,0.44146412797728585,0.5380388542398907,0.48432372949179675,0.41765820363233014,0.5587627998567849,0.45077876116121507,0.5753375767679174,0.5310282871890015,0.42999501821339503,0.4971680900430348,0.3970326288410101,0.5509750929707071,0.4699992595124174,0.3369402731808506,0.5414880952380953,0.47897125494567944,0.5068782911275171,0.4916790355419557,0.5835516425868593,0.4216822474603877,0.5404633520074695,0.5757007865145652,0.5691962695242495,0.6101423685533593,0.506304802558235,0.5254239217356729,0.42228144552815605,0.581920923632611,0.5011537948512739,0.45358090385276917,0.4798299319727891,0.485274653451124,0.45136466165413536,0.4406347862535583,0.6071679039914335,0.535221341523973,0.5303703990368077,0.5623452802173501,0.4887119496921576,0.45276650812880453,0.40681282687423037,0.4339977486036367,0.5155050287658923,0.5221761363636364,0.42028478752966575,0.47035122119023054,0.4803070175438596,0.5891359728349903,0.5259629342965256,0.4682551704892483,0.5466245367764331,0.42868124628247123,0.4864313725490196,0.42317412850307584,0.46718740452873586,0.4748111689651937,0.50001389748882,0.5634695369989486,0.3790608164079029,0.47342282527045904,0.5773439789409973,0.446671293517407,0.6392270241429905,0.6080262391410851,0.5273425464770195,0.3566165145631311,0.6034138355923253,0.5564419996068602,0.5078164774681803,0.5248582057777105,0.52199536746897,0.45614719834688877,0.46455555796113074,0.47887348027789206,0.5618651264431315,0.49986658874075945,0.5761379804358094,0.5403545668666192,0.5602837538524181,0.5574543965734442,0.5277795871753191,0.48420585047907033,0.5055255336768495,0.49262198212618385,0.5301553095802658,0.5123929478551328,0.48164884374802563,0.5294408991666841,0.5097599609589879,0.4994136996904025,0.5490875472996215,0.48899321498934506,0.47909379277413333,0.38181863622642037,0.415375483526744,0.4149961300309598,0.4899775653968682,0.5305648570617059,0.5460176442812059,0.5146435328517371,0.538013542483451,0.5340571755017796,0.4562986569673876,0.5110404843755684,0.5885111035260786,0.5412630256781075,0.5157813635751782,0.5455294865467163,0.4441133190118153,0.5099914860681114,0.4768078560371517,0.49932839802587703,0.424363650465707,0.5179400707651481,0.5463053020251163,0.528917500628027,0.4525637252951863,0.4561255570672496,0.42750052613638045,0.6517075122282996,0.49048140309982413,0.5141490196078431,0.47018071582700066,0.5650140096172248,0.5513427006430103,0.5686645491529945,0.4165287141484428,0.4839092920151743,0.4724863399414483,0.5344595404595405,0.49105229460205135,0.42887861811391226,0.542960393158026,0.5158301828890064,0.43573433759468705,0.5389352819400365,0.5474607747582464,0.46325903188229045,0.5859278645822211,0.42371592935419783,0.41775682219663013,0.5239375689669806,0.45215817730601016,0.37802774443110576,0.49520632016762045,0.5903993614989855,0.3401276172749802,0.5348944452616357,0.4708234560880883,0.4756451585527953,0.4756846569173935,0.4989000546237389,0.5307407120743034,0.5253758084236027,0.5643000515995873,0.5318845811051693,0.42227786509340576,0.5675829346092505,0.4654729285653655,0.5171684524625701,0.44134509066784605,0.5367265520243185,0.5137523415163165,0.5467557661636608,0.5459228826728827,0.49236091901995793,0.5131425903694811,0.4198641355204823,0.4731358880508726,0.40796009200488276,0.4032715107875509,0.5383974673202614,0.44656468909073926,0.48458476724022936,0.3935300763048441,0.5492675736961452,0.4822444137838202,0.5335842346507982,0.4707858734645651,0.5373624634191333,0.49931213450292394,0.38914879792072776,0.4556811934004917,0.5474168424043911,0.4159651579930218,0.48833882405863827,0.5093269020804355,0.5132755421008983,0.5597883605043048,0.4424670899276162,0.4173746867167919,0.5316403792286145,0.4388259278370218,0.5571661998132587,0.46785013128058245,0.4474256807986352,0.45447079150639524,0.49667515602732326,0.5259474066429691,0.46054491972227485,0.4621252149982801,0.47478827647406385,0.4764402629534209,0.4601419133841735,0.5127599026232567,0.5337689096617668,0.5455031166840966,0.48742212854161204,0.41889999684084156,0.504155572792238,0.40741074670574895,0.4933209404974111,0.4743122582366279,0.513296485260771,0.5315981331803977,0.39670746548050106,0.4931199690402476,0.6269341639952871,0.48172138037562473,0.5695408426528505,0.46397085949004113,0.5220144066288029,0.5287950000747821,0.45398864809081535,0.6076191643705536,0.648234474491551,0.4970676602986385,0.3669611856438482,0.54531303091412,0.5261067106268345,0.49465497778058587,0.5786599567363178,0.5480918544819474,0.6019267196511779,0.5191711976895043,0.48170753756047874,0.49233640633980513,0.48670277422563224,0.43707300740195476,0.316200915027002,0.5634204087293332,0.5373432093015579,0.4666135490046514,0.41976720360150155,0.3895980737891589,0.4686164215686274,0.3885259901061874,0.5317736603413296,0.5015634441835816,0.4784549687321323,0.4614156920077973,0.49459690893901415,0.5290166661683691,0.4654030959362302,0.5165865509956896,0.4839058985605038,0.5012111511271176,0.5024620374465576,0.4810132981544967,0.5442894491129786,0.5518365526988827,0.4746420968801921,0.5199095022624435,0.3865855580362436,0.5216618629908105,0.47730572228891555,0.47338523557571177,0.4672597407384006,0.5115284851518819,0.5092550353474723,0.5209573459013235,0.48047682709447415,0.5341137770897832,0.550751253132832,0.46534911141490093,0.4298670602488327,0.45292540017956506,0.43924428291530193,0.4506519975739252,0.44769561157796456,0.5609298533573336,0.49096452528379775,0.5635903149138443,0.4425677711969609,0.42293670319004795,0.5158498825922436,0.5667466990039149,0.5065010822510823,0.46425321005595216,0.5909166629275662,0.3935319138927712,0.523218990763428,0.5196271947866375,0.5865224489795918,0.46110699762361074,0.5009670247046186,0.5099407425126735,0.4517855455267192,0.48773031916729404,0.5255173901728524,0.5076623105382504,0.4441066777588228,0.40717956656346743,0.6596243325705567,0.5899604739683821,0.5626980828523287,0.45518454267498554,0.5640710041592394,0.49756685862750905,0.5085980269300703,0.4981897546897547,0.4553646275651929,0.45749740422484775,0.5367551020408163,0.4739718032001651,0.5108873926211388,0.4592397959183673,0.5166859591789932,0.4007075930605343,0.49064244645226507,0.49528288378288376,0.5242564136765818,0.4737822462318261,0.6371211985938541,0.4421015256673151,0.5280494186853983,0.38999500540957127,0.47355293024528605,0.4514899527062287,0.49109466467746526,0.47544808746710565,0.6097372119624442,0.48477704678362576,0.5391332989336085,0.5511998624011009,0.461411720243653,0.5422617731303048,0.47101059592037037,0.5021119956754632,0.5109667916362963,0.5086744331888073,0.5689969554255269,0.4933477143293964,0.4612571637649155,0.6073968429231588,0.6241237367054627,0.5677434886998277,0.44139616102851403,0.5552885902367327,0.48802760017050295,0.544058951809322,0.5077258221102205,0.6472527818144801,0.42419701916160885,0.5098694951664876,0.41302166400850615,0.5340522688861966,0.5079599489777509,0.5364671981174876,0.5085937034615524,0.5091533894054903,0.43615297948509485,0.4485630555743338,0.41953646370829034,0.5884938080495357,0.49505981339904387,0.47711352040816324,0.49603519597018053,0.5442156750572082,0.4130238498908335,0.5294815865249303,0.5032892648287386,0.5579498720540848,0.5131186656384722,0.5622538934602181,0.536225907262672,0.547639188232648,0.5275510502446593,0.4851554007567939,0.4912107386814375,0.4603659342524889,0.6042710417500334,0.41454793900752546,0.47726168617367204,0.5259277991898514,0.5839378869969041,0.5764938993141115,0.432937648743708,0.48290226178190565,0.5227998844905561,0.598646113246553,0.42532240360258927,0.5038445326603223,0.5807485102303029,0.4396566094079639,0.5076784766121968,0.5812434210526316,0.524564167772372,0.4833694727891157,0.5272697078831532,0.4204502737021582,0.5233824845727765,0.5406125359234603,0.6287865729137659,0.6349096994950598,0.5538960012124099,0.5525912061794415,0.45701144492884876,0.49202984912833986,0.47256679953296504,0.5441384551532283,0.38835953694979136,0.49871340666955827,0.44039025969853035,0.49985393679002704,0.47097477806912236,0.4046849882144,0.5285641957133185,0.46995782016510307,0.4461366051293812,0.5179031554142125,0.5497381847475833,0.6034127401420635,0.524028710088501,0.5213678626865126,0.4578128256133372,0.38985176482873857,0.4375254443698716,0.5475595821876781,0.4326909430438842,0.3976322347120666,0.5372147852147853,0.5124720965309201,0.47679573934837094,0.46861378044040586,0.5463213305657191,0.513042356336474,0.5590664379480169,0.5872059678180961,0.5438563865614949,0.6048764532680941,0.4998660172555044,0.5085665900515525,0.4890849673202614,0.4949797383068059,0.5717802186848239,0.4475987280730517,0.5450285087719299,0.4522364164521028,0.5199073973841776,0.4643687535620309,0.41283034560898335,0.49562452173852006,0.59971877522939,0.5763922506801764,0.587590017825312,0.4880722664128994,0.5684309969601876,0.4051307911215032,0.4672968815672721,0.4456258321510423,0.5960406092261467,0.4393518536601243,0.45272666961521446,0.4797069523109367,0.5482361694742647,0.5408971455433519,0.5297361270022884,0.46549350558506575,0.44014044581149847,0.552297815617475,0.466140041875336,0.44118989716405255,0.38800646905935865,0.5417272727272727,0.5489799231095948,0.5001885927521276,0.4691649984002925,0.4421835839598997,0.48029419242906923,0.46587860196219333,0.5629422031834312,0.5559088266885702,0.47109838772338775,0.49492593309253535,0.47922683941997857,0.5045791284554552,0.5116309892378004,0.47533754729962163,0.4759587471352177,0.5572685916471852,0.510673202614379,0.5416274005615005,0.5079943714327837,0.4774707658425689,0.49352398766524147,0.5214625902992778,0.4217603599653577,0.4714052287581699,0.537029878618114,0.4007878326769304,0.4952155064577665,0.4194250486542518,0.5374343470126364,0.4065108026853423,0.49330140911719855,0.5530791529218304,0.4246970266575529,0.5000793639338531,0.5300924608587148,0.5337847463546822,0.5319711042311661,0.5654787062046018,0.5439990025949357,0.48864496356756415,0.5028215683126398,0.4677450234479757,0.3481808186279851,0.5234826281389748,0.47687831097351213,0.5604342320261437,0.49772232205359146,0.5290946455813447,0.4777005262440598,0.49727517868745946,0.547373366013072,0.4598221964224286,0.5387087764167452,0.42720168067226894,0.5503900742115029,0.4889904832962613,0.4649230722592067,0.44715784946048104,0.5383046551954115,0.5441846405228759,0.49380789352778154,0.47889224286205706,0.44345182974375524,0.48397258039518104,0.4214212278153626,0.5180157327753235,0.45688187994496043,0.4776953532609216,0.5554609305125559,0.5255958793773919,0.4996413023298988,0.4846626875630635,0.4752119711042312,0.4475993114676588,0.4846129297013861,0.47185722242113215,0.5147297223545289,0.4781919785458043,0.5367859398145224,0.47438148468133756,0.5493401574345848,0.5080196078431373,0.3989353286891987,0.5581395041147362,0.4102859913134681,0.39463498030791266,0.5219405039405041,0.541358422279475,0.43093295636252293,0.5743668409238586,0.5799644454763871,0.45583444969203485,0.49379073559248265,0.49051324696545284,0.5205844513243894,0.5591984645710136,0.48198174664602683,0.4112721693797545,0.5183006535947712,0.511535071180969,0.5049780742133684,0.5184508583760389,0.5998885031595484,0.44678249382196755,0.49805986613647074,0.5609814241486069,0.5087933006535948,0.5236453712266406,0.5011828307982231,0.4735988334727831,0.48321169418464294,0.4767820769333374,0.5062382847875992,0.6215425161133034,0.5266092200610222,0.45566908342284285,0.5392676807565132,0.4269305913384861,0.49365376155038676,0.48828581871345034,0.5207626811594204,0.5067384760921912,0.6028985533607382,0.5271529664497379,0.3405510210463771,0.5842527798998387,0.42880670013577094,0.5580542056639589,0.5095020903098082,0.4444439770568792,0.5750154359989611,0.5906038181589652,0.5325455939951739,0.4994735702893598,0.42679713318893986,0.3286861455108359,0.5357356572258534,0.5837521428997178,0.5499576791672379,0.47496655293696427,0.41696996342396614,0.4715686274509804,0.5092106911467813,0.4608623894002045,0.6025198263515932,0.41727001633986927,0.45357609710550895,0.5356982418801641,0.5032705713864493,0.45923449862401106,0.5479984583110633,0.5538322575406974,0.6036027583527585,0.5547398520811834,0.5019955350561277,0.5366060627149409,0.48143640350877187,0.48541367164714855,0.46744354759447637,0.5957987593546805,0.46316246161669505,0.4899867016982231,0.5178857069143448,0.5601733920993146,0.4082935617014565,0.4780284635998922,0.4964083313303238,0.5153016372240904,0.4244775803144224,0.4623925653594771,0.4329512145748987,0.5083502527631953,0.5407394471052257,0.503240294053324,0.5149846605308791,0.5099113861745165,0.5527809915034594,0.496698157523879,0.45769000239956126,0.40696163843111616,0.472045288045288,0.44325034399724805,0.5259254587097724,0.46254205385858044,0.5129246868318412,0.5037243230625583,0.4674346635327252,0.46235896149651123,0.5689275289062994,0.6430510323010322],\"xaxis\":\"x\",\"yaxis\":\"y\",\"type\":\"histogram\"}],                        {\"template\":{\"data\":{\"barpolar\":[{\"marker\":{\"line\":{\"color\":\"white\",\"width\":0.5},\"pattern\":{\"fillmode\":\"overlay\",\"size\":10,\"solidity\":0.2}},\"type\":\"barpolar\"}],\"bar\":[{\"error_x\":{\"color\":\"#2a3f5f\"},\"error_y\":{\"color\":\"#2a3f5f\"},\"marker\":{\"line\":{\"color\":\"white\",\"width\":0.5},\"pattern\":{\"fillmode\":\"overlay\",\"size\":10,\"solidity\":0.2}},\"type\":\"bar\"}],\"carpet\":[{\"aaxis\":{\"endlinecolor\":\"#2a3f5f\",\"gridcolor\":\"#C8D4E3\",\"linecolor\":\"#C8D4E3\",\"minorgridcolor\":\"#C8D4E3\",\"startlinecolor\":\"#2a3f5f\"},\"baxis\":{\"endlinecolor\":\"#2a3f5f\",\"gridcolor\":\"#C8D4E3\",\"linecolor\":\"#C8D4E3\",\"minorgridcolor\":\"#C8D4E3\",\"startlinecolor\":\"#2a3f5f\"},\"type\":\"carpet\"}],\"choropleth\":[{\"colorbar\":{\"outlinewidth\":0,\"ticks\":\"\"},\"type\":\"choropleth\"}],\"contourcarpet\":[{\"colorbar\":{\"outlinewidth\":0,\"ticks\":\"\"},\"type\":\"contourcarpet\"}],\"contour\":[{\"colorbar\":{\"outlinewidth\":0,\"ticks\":\"\"},\"colorscale\":[[0.0,\"#0d0887\"],[0.1111111111111111,\"#46039f\"],[0.2222222222222222,\"#7201a8\"],[0.3333333333333333,\"#9c179e\"],[0.4444444444444444,\"#bd3786\"],[0.5555555555555556,\"#d8576b\"],[0.6666666666666666,\"#ed7953\"],[0.7777777777777778,\"#fb9f3a\"],[0.8888888888888888,\"#fdca26\"],[1.0,\"#f0f921\"]],\"type\":\"contour\"}],\"heatmapgl\":[{\"colorbar\":{\"outlinewidth\":0,\"ticks\":\"\"},\"colorscale\":[[0.0,\"#0d0887\"],[0.1111111111111111,\"#46039f\"],[0.2222222222222222,\"#7201a8\"],[0.3333333333333333,\"#9c179e\"],[0.4444444444444444,\"#bd3786\"],[0.5555555555555556,\"#d8576b\"],[0.6666666666666666,\"#ed7953\"],[0.7777777777777778,\"#fb9f3a\"],[0.8888888888888888,\"#fdca26\"],[1.0,\"#f0f921\"]],\"type\":\"heatmapgl\"}],\"heatmap\":[{\"colorbar\":{\"outlinewidth\":0,\"ticks\":\"\"},\"colorscale\":[[0.0,\"#0d0887\"],[0.1111111111111111,\"#46039f\"],[0.2222222222222222,\"#7201a8\"],[0.3333333333333333,\"#9c179e\"],[0.4444444444444444,\"#bd3786\"],[0.5555555555555556,\"#d8576b\"],[0.6666666666666666,\"#ed7953\"],[0.7777777777777778,\"#fb9f3a\"],[0.8888888888888888,\"#fdca26\"],[1.0,\"#f0f921\"]],\"type\":\"heatmap\"}],\"histogram2dcontour\":[{\"colorbar\":{\"outlinewidth\":0,\"ticks\":\"\"},\"colorscale\":[[0.0,\"#0d0887\"],[0.1111111111111111,\"#46039f\"],[0.2222222222222222,\"#7201a8\"],[0.3333333333333333,\"#9c179e\"],[0.4444444444444444,\"#bd3786\"],[0.5555555555555556,\"#d8576b\"],[0.6666666666666666,\"#ed7953\"],[0.7777777777777778,\"#fb9f3a\"],[0.8888888888888888,\"#fdca26\"],[1.0,\"#f0f921\"]],\"type\":\"histogram2dcontour\"}],\"histogram2d\":[{\"colorbar\":{\"outlinewidth\":0,\"ticks\":\"\"},\"colorscale\":[[0.0,\"#0d0887\"],[0.1111111111111111,\"#46039f\"],[0.2222222222222222,\"#7201a8\"],[0.3333333333333333,\"#9c179e\"],[0.4444444444444444,\"#bd3786\"],[0.5555555555555556,\"#d8576b\"],[0.6666666666666666,\"#ed7953\"],[0.7777777777777778,\"#fb9f3a\"],[0.8888888888888888,\"#fdca26\"],[1.0,\"#f0f921\"]],\"type\":\"histogram2d\"}],\"histogram\":[{\"marker\":{\"pattern\":{\"fillmode\":\"overlay\",\"size\":10,\"solidity\":0.2}},\"type\":\"histogram\"}],\"mesh3d\":[{\"colorbar\":{\"outlinewidth\":0,\"ticks\":\"\"},\"type\":\"mesh3d\"}],\"parcoords\":[{\"line\":{\"colorbar\":{\"outlinewidth\":0,\"ticks\":\"\"}},\"type\":\"parcoords\"}],\"pie\":[{\"automargin\":true,\"type\":\"pie\"}],\"scatter3d\":[{\"line\":{\"colorbar\":{\"outlinewidth\":0,\"ticks\":\"\"}},\"marker\":{\"colorbar\":{\"outlinewidth\":0,\"ticks\":\"\"}},\"type\":\"scatter3d\"}],\"scattercarpet\":[{\"marker\":{\"colorbar\":{\"outlinewidth\":0,\"ticks\":\"\"}},\"type\":\"scattercarpet\"}],\"scattergeo\":[{\"marker\":{\"colorbar\":{\"outlinewidth\":0,\"ticks\":\"\"}},\"type\":\"scattergeo\"}],\"scattergl\":[{\"marker\":{\"colorbar\":{\"outlinewidth\":0,\"ticks\":\"\"}},\"type\":\"scattergl\"}],\"scattermapbox\":[{\"marker\":{\"colorbar\":{\"outlinewidth\":0,\"ticks\":\"\"}},\"type\":\"scattermapbox\"}],\"scatterpolargl\":[{\"marker\":{\"colorbar\":{\"outlinewidth\":0,\"ticks\":\"\"}},\"type\":\"scatterpolargl\"}],\"scatterpolar\":[{\"marker\":{\"colorbar\":{\"outlinewidth\":0,\"ticks\":\"\"}},\"type\":\"scatterpolar\"}],\"scatter\":[{\"marker\":{\"colorbar\":{\"outlinewidth\":0,\"ticks\":\"\"}},\"type\":\"scatter\"}],\"scatterternary\":[{\"marker\":{\"colorbar\":{\"outlinewidth\":0,\"ticks\":\"\"}},\"type\":\"scatterternary\"}],\"surface\":[{\"colorbar\":{\"outlinewidth\":0,\"ticks\":\"\"},\"colorscale\":[[0.0,\"#0d0887\"],[0.1111111111111111,\"#46039f\"],[0.2222222222222222,\"#7201a8\"],[0.3333333333333333,\"#9c179e\"],[0.4444444444444444,\"#bd3786\"],[0.5555555555555556,\"#d8576b\"],[0.6666666666666666,\"#ed7953\"],[0.7777777777777778,\"#fb9f3a\"],[0.8888888888888888,\"#fdca26\"],[1.0,\"#f0f921\"]],\"type\":\"surface\"}],\"table\":[{\"cells\":{\"fill\":{\"color\":\"#EBF0F8\"},\"line\":{\"color\":\"white\"}},\"header\":{\"fill\":{\"color\":\"#C8D4E3\"},\"line\":{\"color\":\"white\"}},\"type\":\"table\"}]},\"layout\":{\"annotationdefaults\":{\"arrowcolor\":\"#2a3f5f\",\"arrowhead\":0,\"arrowwidth\":1},\"autotypenumbers\":\"strict\",\"coloraxis\":{\"colorbar\":{\"outlinewidth\":0,\"ticks\":\"\"}},\"colorscale\":{\"diverging\":[[0,\"#8e0152\"],[0.1,\"#c51b7d\"],[0.2,\"#de77ae\"],[0.3,\"#f1b6da\"],[0.4,\"#fde0ef\"],[0.5,\"#f7f7f7\"],[0.6,\"#e6f5d0\"],[0.7,\"#b8e186\"],[0.8,\"#7fbc41\"],[0.9,\"#4d9221\"],[1,\"#276419\"]],\"sequential\":[[0.0,\"#0d0887\"],[0.1111111111111111,\"#46039f\"],[0.2222222222222222,\"#7201a8\"],[0.3333333333333333,\"#9c179e\"],[0.4444444444444444,\"#bd3786\"],[0.5555555555555556,\"#d8576b\"],[0.6666666666666666,\"#ed7953\"],[0.7777777777777778,\"#fb9f3a\"],[0.8888888888888888,\"#fdca26\"],[1.0,\"#f0f921\"]],\"sequentialminus\":[[0.0,\"#0d0887\"],[0.1111111111111111,\"#46039f\"],[0.2222222222222222,\"#7201a8\"],[0.3333333333333333,\"#9c179e\"],[0.4444444444444444,\"#bd3786\"],[0.5555555555555556,\"#d8576b\"],[0.6666666666666666,\"#ed7953\"],[0.7777777777777778,\"#fb9f3a\"],[0.8888888888888888,\"#fdca26\"],[1.0,\"#f0f921\"]]},\"colorway\":[\"#636efa\",\"#EF553B\",\"#00cc96\",\"#ab63fa\",\"#FFA15A\",\"#19d3f3\",\"#FF6692\",\"#B6E880\",\"#FF97FF\",\"#FECB52\"],\"font\":{\"color\":\"#2a3f5f\"},\"geo\":{\"bgcolor\":\"white\",\"lakecolor\":\"white\",\"landcolor\":\"white\",\"showlakes\":true,\"showland\":true,\"subunitcolor\":\"#C8D4E3\"},\"hoverlabel\":{\"align\":\"left\"},\"hovermode\":\"closest\",\"mapbox\":{\"style\":\"light\"},\"paper_bgcolor\":\"white\",\"plot_bgcolor\":\"white\",\"polar\":{\"angularaxis\":{\"gridcolor\":\"#EBF0F8\",\"linecolor\":\"#EBF0F8\",\"ticks\":\"\"},\"bgcolor\":\"white\",\"radialaxis\":{\"gridcolor\":\"#EBF0F8\",\"linecolor\":\"#EBF0F8\",\"ticks\":\"\"}},\"scene\":{\"xaxis\":{\"backgroundcolor\":\"white\",\"gridcolor\":\"#DFE8F3\",\"gridwidth\":2,\"linecolor\":\"#EBF0F8\",\"showbackground\":true,\"ticks\":\"\",\"zerolinecolor\":\"#EBF0F8\"},\"yaxis\":{\"backgroundcolor\":\"white\",\"gridcolor\":\"#DFE8F3\",\"gridwidth\":2,\"linecolor\":\"#EBF0F8\",\"showbackground\":true,\"ticks\":\"\",\"zerolinecolor\":\"#EBF0F8\"},\"zaxis\":{\"backgroundcolor\":\"white\",\"gridcolor\":\"#DFE8F3\",\"gridwidth\":2,\"linecolor\":\"#EBF0F8\",\"showbackground\":true,\"ticks\":\"\",\"zerolinecolor\":\"#EBF0F8\"}},\"shapedefaults\":{\"line\":{\"color\":\"#2a3f5f\"}},\"ternary\":{\"aaxis\":{\"gridcolor\":\"#DFE8F3\",\"linecolor\":\"#A2B1C6\",\"ticks\":\"\"},\"baxis\":{\"gridcolor\":\"#DFE8F3\",\"linecolor\":\"#A2B1C6\",\"ticks\":\"\"},\"bgcolor\":\"white\",\"caxis\":{\"gridcolor\":\"#DFE8F3\",\"linecolor\":\"#A2B1C6\",\"ticks\":\"\"}},\"title\":{\"x\":0.05},\"xaxis\":{\"automargin\":true,\"gridcolor\":\"#EBF0F8\",\"linecolor\":\"#EBF0F8\",\"ticks\":\"\",\"title\":{\"standoff\":15},\"zerolinecolor\":\"#EBF0F8\",\"zerolinewidth\":2},\"yaxis\":{\"automargin\":true,\"gridcolor\":\"#EBF0F8\",\"linecolor\":\"#EBF0F8\",\"ticks\":\"\",\"title\":{\"standoff\":15},\"zerolinecolor\":\"#EBF0F8\",\"zerolinewidth\":2}}},\"xaxis\":{\"anchor\":\"y\",\"domain\":[0.0,1.0],\"title\":{\"text\":\"CV AUC\"},\"tickfont\":{\"size\":20},\"range\":[0.25,0.75]},\"yaxis\":{\"anchor\":\"x\",\"domain\":[0.0,1.0],\"title\":{\"text\":\"\"},\"tickfont\":{\"size\":20}},\"legend\":{\"title\":{\"text\":\"Model\"},\"tracegroupgap\":0},\"margin\":{\"t\":60},\"barmode\":\"relative\",\"shapes\":[{\"line\":{\"color\":\"grey\",\"dash\":\"dash\",\"width\":3},\"type\":\"line\",\"x0\":0.6322351802084474,\"x1\":0.6322351802084474,\"xref\":\"x\",\"y0\":0,\"y1\":1,\"yref\":\"y domain\"}],\"annotations\":[{\"align\":\"left\",\"arrowhead\":1,\"showarrow\":false,\"text\":\"Score on original labels: <br>Mean AUC: 0.632<br>p = 0.001\",\"x\":0.7322351802084474,\"y\":50}],\"font\":{\"family\":\"Times new roman\",\"size\":20,\"color\":\"black\"},\"autosize\":false,\"width\":800,\"height\":800,\"bargap\":0.05},                        {\"responsive\": true}                    ).then(function(){\n",
       "                            \n",
       "var gd = document.getElementById('bbb9cf30-bb3a-40c8-b500-7013398f2932');\n",
       "var x = new MutationObserver(function (mutations, observer) {{\n",
       "        var display = window.getComputedStyle(gd).display;\n",
       "        if (!display || display === 'none') {{\n",
       "            console.log([gd, 'removed!']);\n",
       "            Plotly.purge(gd);\n",
       "            observer.disconnect();\n",
       "        }}\n",
       "}});\n",
       "\n",
       "// Listen for the removal of the full notebook cells\n",
       "var notebookContainer = gd.closest('#notebook-container');\n",
       "if (notebookContainer) {{\n",
       "    x.observe(notebookContainer, {childList: true});\n",
       "}}\n",
       "\n",
       "// Listen for the clearing of the current output cell\n",
       "var outputEl = gd.closest('.output');\n",
       "if (outputEl) {{\n",
       "    x.observe(outputEl, {childList: true});\n",
       "}}\n",
       "\n",
       "                        })                };                });            </script>        </div>"
      ]
     },
     "metadata": {},
     "output_type": "display_data"
    }
   ],
   "source": [
    "df = pd.concat([df_perm_mw, df_forest_mw])\n",
    "fig = px.histogram(df_perm_mind, x='auc', color=\"Model\",nbins = 25,  color_discrete_sequence = [lblue])\n",
    "\n",
    "fig.add_vline(x=df_forest_mw.auc.mean(), line_width=3, line_dash=\"dash\", line_color=\"grey\")\n",
    "\n",
    "fig.add_annotation(x=df_forest_mw.auc.mean() + 0.1, y=50,\n",
    "            text=f\"Score on original labels: <br>Mean AUC: {df_forest_mw.auc.mean():.3f}<br>p = {pvalue_mw:.3f}\",\n",
    "            showarrow=False,\n",
    "            arrowhead=1,\n",
    "            align = 'left',\n",
    "            )\n",
    "\n",
    "\n",
    "fig.update_layout(\n",
    "#     title = f'Mean AUC = {df_forest_mind.auc.mean()}',\n",
    "    autosize=False,\n",
    "    template = \"plotly_white\",\n",
    "    font=dict(\n",
    "        family=\"Times new roman\",\n",
    "        size=20,\n",
    "        color=\"black\"\n",
    "    ),\n",
    "    width=800,\n",
    "    height=800,\n",
    "    bargap=0.05,\n",
    "    yaxis = {'title': '',\n",
    "             'tickfont': {\"size\": 20},\n",
    "    },\n",
    "    xaxis ={'title':'CV AUC',\n",
    "             'range':[0.25, 0.75],\n",
    "             'tickfont':{\"size\": 20}\n",
    "        }\n",
    ")\n",
    "fig.show()\n",
    "\n",
    "fig.write_image(os.path.join(fig_path, 'multivariate_perm_mw.png'))\n",
    "fig.write_image(os.path.join(fig_path, 'multivariate_perm_mw.svg'))"
   ]
  },
  {
   "cell_type": "code",
   "execution_count": 18,
   "id": "rocky-university",
   "metadata": {},
   "outputs": [
    {
     "data": {
      "application/vnd.plotly.v1+json": {
       "config": {
        "plotlyServerURL": "https://plot.ly"
       },
       "data": [
        {
         "alignmentgroup": "True",
         "box": {
          "visible": true
         },
         "hovertemplate": "AUC=%{x}<extra></extra>",
         "legendgroup": "",
         "marker": {
          "color": "#42B9B2"
         },
         "name": "",
         "offsetgroup": "",
         "orientation": "h",
         "points": "all",
         "scalegroup": "True",
         "showlegend": false,
         "type": "violin",
         "x": [
          0.6636206896551723,
          0.6692927170868347,
          0.5637665967854647,
          0.6451737451737452,
          0.6193221523410203
         ],
         "x0": " ",
         "xaxis": "x",
         "y0": " ",
         "yaxis": "y"
        }
       ],
       "layout": {
        "autosize": false,
        "height": 800,
        "legend": {
         "tracegroupgap": 0
        },
        "margin": {
         "t": 60
        },
        "shapes": [
         {
          "line": {
           "color": "grey",
           "dash": "dash",
           "width": 3
          },
          "type": "line",
          "x0": 0.5,
          "x1": 0.5,
          "xref": "x",
          "y0": 0,
          "y1": 1,
          "yref": "y domain"
         }
        ],
        "template": {
         "data": {
          "bar": [
           {
            "error_x": {
             "color": "#2a3f5f"
            },
            "error_y": {
             "color": "#2a3f5f"
            },
            "marker": {
             "line": {
              "color": "white",
              "width": 0.5
             },
             "pattern": {
              "fillmode": "overlay",
              "size": 10,
              "solidity": 0.2
             }
            },
            "type": "bar"
           }
          ],
          "barpolar": [
           {
            "marker": {
             "line": {
              "color": "white",
              "width": 0.5
             },
             "pattern": {
              "fillmode": "overlay",
              "size": 10,
              "solidity": 0.2
             }
            },
            "type": "barpolar"
           }
          ],
          "carpet": [
           {
            "aaxis": {
             "endlinecolor": "#2a3f5f",
             "gridcolor": "#C8D4E3",
             "linecolor": "#C8D4E3",
             "minorgridcolor": "#C8D4E3",
             "startlinecolor": "#2a3f5f"
            },
            "baxis": {
             "endlinecolor": "#2a3f5f",
             "gridcolor": "#C8D4E3",
             "linecolor": "#C8D4E3",
             "minorgridcolor": "#C8D4E3",
             "startlinecolor": "#2a3f5f"
            },
            "type": "carpet"
           }
          ],
          "choropleth": [
           {
            "colorbar": {
             "outlinewidth": 0,
             "ticks": ""
            },
            "type": "choropleth"
           }
          ],
          "contour": [
           {
            "colorbar": {
             "outlinewidth": 0,
             "ticks": ""
            },
            "colorscale": [
             [
              0,
              "#0d0887"
             ],
             [
              0.1111111111111111,
              "#46039f"
             ],
             [
              0.2222222222222222,
              "#7201a8"
             ],
             [
              0.3333333333333333,
              "#9c179e"
             ],
             [
              0.4444444444444444,
              "#bd3786"
             ],
             [
              0.5555555555555556,
              "#d8576b"
             ],
             [
              0.6666666666666666,
              "#ed7953"
             ],
             [
              0.7777777777777778,
              "#fb9f3a"
             ],
             [
              0.8888888888888888,
              "#fdca26"
             ],
             [
              1,
              "#f0f921"
             ]
            ],
            "type": "contour"
           }
          ],
          "contourcarpet": [
           {
            "colorbar": {
             "outlinewidth": 0,
             "ticks": ""
            },
            "type": "contourcarpet"
           }
          ],
          "heatmap": [
           {
            "colorbar": {
             "outlinewidth": 0,
             "ticks": ""
            },
            "colorscale": [
             [
              0,
              "#0d0887"
             ],
             [
              0.1111111111111111,
              "#46039f"
             ],
             [
              0.2222222222222222,
              "#7201a8"
             ],
             [
              0.3333333333333333,
              "#9c179e"
             ],
             [
              0.4444444444444444,
              "#bd3786"
             ],
             [
              0.5555555555555556,
              "#d8576b"
             ],
             [
              0.6666666666666666,
              "#ed7953"
             ],
             [
              0.7777777777777778,
              "#fb9f3a"
             ],
             [
              0.8888888888888888,
              "#fdca26"
             ],
             [
              1,
              "#f0f921"
             ]
            ],
            "type": "heatmap"
           }
          ],
          "heatmapgl": [
           {
            "colorbar": {
             "outlinewidth": 0,
             "ticks": ""
            },
            "colorscale": [
             [
              0,
              "#0d0887"
             ],
             [
              0.1111111111111111,
              "#46039f"
             ],
             [
              0.2222222222222222,
              "#7201a8"
             ],
             [
              0.3333333333333333,
              "#9c179e"
             ],
             [
              0.4444444444444444,
              "#bd3786"
             ],
             [
              0.5555555555555556,
              "#d8576b"
             ],
             [
              0.6666666666666666,
              "#ed7953"
             ],
             [
              0.7777777777777778,
              "#fb9f3a"
             ],
             [
              0.8888888888888888,
              "#fdca26"
             ],
             [
              1,
              "#f0f921"
             ]
            ],
            "type": "heatmapgl"
           }
          ],
          "histogram": [
           {
            "marker": {
             "pattern": {
              "fillmode": "overlay",
              "size": 10,
              "solidity": 0.2
             }
            },
            "type": "histogram"
           }
          ],
          "histogram2d": [
           {
            "colorbar": {
             "outlinewidth": 0,
             "ticks": ""
            },
            "colorscale": [
             [
              0,
              "#0d0887"
             ],
             [
              0.1111111111111111,
              "#46039f"
             ],
             [
              0.2222222222222222,
              "#7201a8"
             ],
             [
              0.3333333333333333,
              "#9c179e"
             ],
             [
              0.4444444444444444,
              "#bd3786"
             ],
             [
              0.5555555555555556,
              "#d8576b"
             ],
             [
              0.6666666666666666,
              "#ed7953"
             ],
             [
              0.7777777777777778,
              "#fb9f3a"
             ],
             [
              0.8888888888888888,
              "#fdca26"
             ],
             [
              1,
              "#f0f921"
             ]
            ],
            "type": "histogram2d"
           }
          ],
          "histogram2dcontour": [
           {
            "colorbar": {
             "outlinewidth": 0,
             "ticks": ""
            },
            "colorscale": [
             [
              0,
              "#0d0887"
             ],
             [
              0.1111111111111111,
              "#46039f"
             ],
             [
              0.2222222222222222,
              "#7201a8"
             ],
             [
              0.3333333333333333,
              "#9c179e"
             ],
             [
              0.4444444444444444,
              "#bd3786"
             ],
             [
              0.5555555555555556,
              "#d8576b"
             ],
             [
              0.6666666666666666,
              "#ed7953"
             ],
             [
              0.7777777777777778,
              "#fb9f3a"
             ],
             [
              0.8888888888888888,
              "#fdca26"
             ],
             [
              1,
              "#f0f921"
             ]
            ],
            "type": "histogram2dcontour"
           }
          ],
          "mesh3d": [
           {
            "colorbar": {
             "outlinewidth": 0,
             "ticks": ""
            },
            "type": "mesh3d"
           }
          ],
          "parcoords": [
           {
            "line": {
             "colorbar": {
              "outlinewidth": 0,
              "ticks": ""
             }
            },
            "type": "parcoords"
           }
          ],
          "pie": [
           {
            "automargin": true,
            "type": "pie"
           }
          ],
          "scatter": [
           {
            "marker": {
             "colorbar": {
              "outlinewidth": 0,
              "ticks": ""
             }
            },
            "type": "scatter"
           }
          ],
          "scatter3d": [
           {
            "line": {
             "colorbar": {
              "outlinewidth": 0,
              "ticks": ""
             }
            },
            "marker": {
             "colorbar": {
              "outlinewidth": 0,
              "ticks": ""
             }
            },
            "type": "scatter3d"
           }
          ],
          "scattercarpet": [
           {
            "marker": {
             "colorbar": {
              "outlinewidth": 0,
              "ticks": ""
             }
            },
            "type": "scattercarpet"
           }
          ],
          "scattergeo": [
           {
            "marker": {
             "colorbar": {
              "outlinewidth": 0,
              "ticks": ""
             }
            },
            "type": "scattergeo"
           }
          ],
          "scattergl": [
           {
            "marker": {
             "colorbar": {
              "outlinewidth": 0,
              "ticks": ""
             }
            },
            "type": "scattergl"
           }
          ],
          "scattermapbox": [
           {
            "marker": {
             "colorbar": {
              "outlinewidth": 0,
              "ticks": ""
             }
            },
            "type": "scattermapbox"
           }
          ],
          "scatterpolar": [
           {
            "marker": {
             "colorbar": {
              "outlinewidth": 0,
              "ticks": ""
             }
            },
            "type": "scatterpolar"
           }
          ],
          "scatterpolargl": [
           {
            "marker": {
             "colorbar": {
              "outlinewidth": 0,
              "ticks": ""
             }
            },
            "type": "scatterpolargl"
           }
          ],
          "scatterternary": [
           {
            "marker": {
             "colorbar": {
              "outlinewidth": 0,
              "ticks": ""
             }
            },
            "type": "scatterternary"
           }
          ],
          "surface": [
           {
            "colorbar": {
             "outlinewidth": 0,
             "ticks": ""
            },
            "colorscale": [
             [
              0,
              "#0d0887"
             ],
             [
              0.1111111111111111,
              "#46039f"
             ],
             [
              0.2222222222222222,
              "#7201a8"
             ],
             [
              0.3333333333333333,
              "#9c179e"
             ],
             [
              0.4444444444444444,
              "#bd3786"
             ],
             [
              0.5555555555555556,
              "#d8576b"
             ],
             [
              0.6666666666666666,
              "#ed7953"
             ],
             [
              0.7777777777777778,
              "#fb9f3a"
             ],
             [
              0.8888888888888888,
              "#fdca26"
             ],
             [
              1,
              "#f0f921"
             ]
            ],
            "type": "surface"
           }
          ],
          "table": [
           {
            "cells": {
             "fill": {
              "color": "#EBF0F8"
             },
             "line": {
              "color": "white"
             }
            },
            "header": {
             "fill": {
              "color": "#C8D4E3"
             },
             "line": {
              "color": "white"
             }
            },
            "type": "table"
           }
          ]
         },
         "layout": {
          "annotationdefaults": {
           "arrowcolor": "#2a3f5f",
           "arrowhead": 0,
           "arrowwidth": 1
          },
          "autotypenumbers": "strict",
          "coloraxis": {
           "colorbar": {
            "outlinewidth": 0,
            "ticks": ""
           }
          },
          "colorscale": {
           "diverging": [
            [
             0,
             "#8e0152"
            ],
            [
             0.1,
             "#c51b7d"
            ],
            [
             0.2,
             "#de77ae"
            ],
            [
             0.3,
             "#f1b6da"
            ],
            [
             0.4,
             "#fde0ef"
            ],
            [
             0.5,
             "#f7f7f7"
            ],
            [
             0.6,
             "#e6f5d0"
            ],
            [
             0.7,
             "#b8e186"
            ],
            [
             0.8,
             "#7fbc41"
            ],
            [
             0.9,
             "#4d9221"
            ],
            [
             1,
             "#276419"
            ]
           ],
           "sequential": [
            [
             0,
             "#0d0887"
            ],
            [
             0.1111111111111111,
             "#46039f"
            ],
            [
             0.2222222222222222,
             "#7201a8"
            ],
            [
             0.3333333333333333,
             "#9c179e"
            ],
            [
             0.4444444444444444,
             "#bd3786"
            ],
            [
             0.5555555555555556,
             "#d8576b"
            ],
            [
             0.6666666666666666,
             "#ed7953"
            ],
            [
             0.7777777777777778,
             "#fb9f3a"
            ],
            [
             0.8888888888888888,
             "#fdca26"
            ],
            [
             1,
             "#f0f921"
            ]
           ],
           "sequentialminus": [
            [
             0,
             "#0d0887"
            ],
            [
             0.1111111111111111,
             "#46039f"
            ],
            [
             0.2222222222222222,
             "#7201a8"
            ],
            [
             0.3333333333333333,
             "#9c179e"
            ],
            [
             0.4444444444444444,
             "#bd3786"
            ],
            [
             0.5555555555555556,
             "#d8576b"
            ],
            [
             0.6666666666666666,
             "#ed7953"
            ],
            [
             0.7777777777777778,
             "#fb9f3a"
            ],
            [
             0.8888888888888888,
             "#fdca26"
            ],
            [
             1,
             "#f0f921"
            ]
           ]
          },
          "colorway": [
           "#636efa",
           "#EF553B",
           "#00cc96",
           "#ab63fa",
           "#FFA15A",
           "#19d3f3",
           "#FF6692",
           "#B6E880",
           "#FF97FF",
           "#FECB52"
          ],
          "font": {
           "color": "#2a3f5f"
          },
          "geo": {
           "bgcolor": "white",
           "lakecolor": "white",
           "landcolor": "white",
           "showlakes": true,
           "showland": true,
           "subunitcolor": "#C8D4E3"
          },
          "hoverlabel": {
           "align": "left"
          },
          "hovermode": "closest",
          "mapbox": {
           "style": "light"
          },
          "paper_bgcolor": "white",
          "plot_bgcolor": "white",
          "polar": {
           "angularaxis": {
            "gridcolor": "#EBF0F8",
            "linecolor": "#EBF0F8",
            "ticks": ""
           },
           "bgcolor": "white",
           "radialaxis": {
            "gridcolor": "#EBF0F8",
            "linecolor": "#EBF0F8",
            "ticks": ""
           }
          },
          "scene": {
           "xaxis": {
            "backgroundcolor": "white",
            "gridcolor": "#DFE8F3",
            "gridwidth": 2,
            "linecolor": "#EBF0F8",
            "showbackground": true,
            "ticks": "",
            "zerolinecolor": "#EBF0F8"
           },
           "yaxis": {
            "backgroundcolor": "white",
            "gridcolor": "#DFE8F3",
            "gridwidth": 2,
            "linecolor": "#EBF0F8",
            "showbackground": true,
            "ticks": "",
            "zerolinecolor": "#EBF0F8"
           },
           "zaxis": {
            "backgroundcolor": "white",
            "gridcolor": "#DFE8F3",
            "gridwidth": 2,
            "linecolor": "#EBF0F8",
            "showbackground": true,
            "ticks": "",
            "zerolinecolor": "#EBF0F8"
           }
          },
          "shapedefaults": {
           "line": {
            "color": "#2a3f5f"
           }
          },
          "ternary": {
           "aaxis": {
            "gridcolor": "#DFE8F3",
            "linecolor": "#A2B1C6",
            "ticks": ""
           },
           "baxis": {
            "gridcolor": "#DFE8F3",
            "linecolor": "#A2B1C6",
            "ticks": ""
           },
           "bgcolor": "white",
           "caxis": {
            "gridcolor": "#DFE8F3",
            "linecolor": "#A2B1C6",
            "ticks": ""
           }
          },
          "title": {
           "x": 0.05
          },
          "xaxis": {
           "automargin": true,
           "gridcolor": "#EBF0F8",
           "linecolor": "#EBF0F8",
           "ticks": "",
           "title": {
            "standoff": 15
           },
           "zerolinecolor": "#EBF0F8",
           "zerolinewidth": 2
          },
          "yaxis": {
           "automargin": true,
           "gridcolor": "#EBF0F8",
           "linecolor": "#EBF0F8",
           "ticks": "",
           "title": {
            "standoff": 15
           },
           "zerolinecolor": "#EBF0F8",
           "zerolinewidth": 2
          }
         }
        },
        "violinmode": "group",
        "width": 800,
        "xaxis": {
         "anchor": "y",
         "domain": [
          0,
          1
         ],
         "range": [
          0.2,
          1
         ],
         "title": {
          "text": "AUC"
         }
        },
        "yaxis": {
         "anchor": "x",
         "domain": [
          0,
          1
         ],
         "showticklabels": true,
         "tickmode": "linear",
         "title": {
          "text": "Whole model"
         }
        }
       }
      },
      "text/html": [
       "<div>                            <div id=\"46da22c9-b2f5-4c0f-ada6-432ec7849d3c\" class=\"plotly-graph-div\" style=\"height:800px; width:800px;\"></div>            <script type=\"text/javascript\">                require([\"plotly\"], function(Plotly) {                    window.PLOTLYENV=window.PLOTLYENV || {};                                    if (document.getElementById(\"46da22c9-b2f5-4c0f-ada6-432ec7849d3c\")) {                    Plotly.newPlot(                        \"46da22c9-b2f5-4c0f-ada6-432ec7849d3c\",                        [{\"alignmentgroup\":\"True\",\"box\":{\"visible\":true},\"hovertemplate\":\"AUC=%{x}<extra></extra>\",\"legendgroup\":\"\",\"marker\":{\"color\":\"#42B9B2\"},\"name\":\"\",\"offsetgroup\":\"\",\"orientation\":\"h\",\"points\":\"all\",\"scalegroup\":\"True\",\"showlegend\":false,\"x\":[0.6636206896551723,0.6692927170868347,0.5637665967854647,0.6451737451737452,0.6193221523410203],\"x0\":\" \",\"xaxis\":\"x\",\"y0\":\" \",\"yaxis\":\"y\",\"type\":\"violin\"}],                        {\"template\":{\"data\":{\"barpolar\":[{\"marker\":{\"line\":{\"color\":\"white\",\"width\":0.5},\"pattern\":{\"fillmode\":\"overlay\",\"size\":10,\"solidity\":0.2}},\"type\":\"barpolar\"}],\"bar\":[{\"error_x\":{\"color\":\"#2a3f5f\"},\"error_y\":{\"color\":\"#2a3f5f\"},\"marker\":{\"line\":{\"color\":\"white\",\"width\":0.5},\"pattern\":{\"fillmode\":\"overlay\",\"size\":10,\"solidity\":0.2}},\"type\":\"bar\"}],\"carpet\":[{\"aaxis\":{\"endlinecolor\":\"#2a3f5f\",\"gridcolor\":\"#C8D4E3\",\"linecolor\":\"#C8D4E3\",\"minorgridcolor\":\"#C8D4E3\",\"startlinecolor\":\"#2a3f5f\"},\"baxis\":{\"endlinecolor\":\"#2a3f5f\",\"gridcolor\":\"#C8D4E3\",\"linecolor\":\"#C8D4E3\",\"minorgridcolor\":\"#C8D4E3\",\"startlinecolor\":\"#2a3f5f\"},\"type\":\"carpet\"}],\"choropleth\":[{\"colorbar\":{\"outlinewidth\":0,\"ticks\":\"\"},\"type\":\"choropleth\"}],\"contourcarpet\":[{\"colorbar\":{\"outlinewidth\":0,\"ticks\":\"\"},\"type\":\"contourcarpet\"}],\"contour\":[{\"colorbar\":{\"outlinewidth\":0,\"ticks\":\"\"},\"colorscale\":[[0.0,\"#0d0887\"],[0.1111111111111111,\"#46039f\"],[0.2222222222222222,\"#7201a8\"],[0.3333333333333333,\"#9c179e\"],[0.4444444444444444,\"#bd3786\"],[0.5555555555555556,\"#d8576b\"],[0.6666666666666666,\"#ed7953\"],[0.7777777777777778,\"#fb9f3a\"],[0.8888888888888888,\"#fdca26\"],[1.0,\"#f0f921\"]],\"type\":\"contour\"}],\"heatmapgl\":[{\"colorbar\":{\"outlinewidth\":0,\"ticks\":\"\"},\"colorscale\":[[0.0,\"#0d0887\"],[0.1111111111111111,\"#46039f\"],[0.2222222222222222,\"#7201a8\"],[0.3333333333333333,\"#9c179e\"],[0.4444444444444444,\"#bd3786\"],[0.5555555555555556,\"#d8576b\"],[0.6666666666666666,\"#ed7953\"],[0.7777777777777778,\"#fb9f3a\"],[0.8888888888888888,\"#fdca26\"],[1.0,\"#f0f921\"]],\"type\":\"heatmapgl\"}],\"heatmap\":[{\"colorbar\":{\"outlinewidth\":0,\"ticks\":\"\"},\"colorscale\":[[0.0,\"#0d0887\"],[0.1111111111111111,\"#46039f\"],[0.2222222222222222,\"#7201a8\"],[0.3333333333333333,\"#9c179e\"],[0.4444444444444444,\"#bd3786\"],[0.5555555555555556,\"#d8576b\"],[0.6666666666666666,\"#ed7953\"],[0.7777777777777778,\"#fb9f3a\"],[0.8888888888888888,\"#fdca26\"],[1.0,\"#f0f921\"]],\"type\":\"heatmap\"}],\"histogram2dcontour\":[{\"colorbar\":{\"outlinewidth\":0,\"ticks\":\"\"},\"colorscale\":[[0.0,\"#0d0887\"],[0.1111111111111111,\"#46039f\"],[0.2222222222222222,\"#7201a8\"],[0.3333333333333333,\"#9c179e\"],[0.4444444444444444,\"#bd3786\"],[0.5555555555555556,\"#d8576b\"],[0.6666666666666666,\"#ed7953\"],[0.7777777777777778,\"#fb9f3a\"],[0.8888888888888888,\"#fdca26\"],[1.0,\"#f0f921\"]],\"type\":\"histogram2dcontour\"}],\"histogram2d\":[{\"colorbar\":{\"outlinewidth\":0,\"ticks\":\"\"},\"colorscale\":[[0.0,\"#0d0887\"],[0.1111111111111111,\"#46039f\"],[0.2222222222222222,\"#7201a8\"],[0.3333333333333333,\"#9c179e\"],[0.4444444444444444,\"#bd3786\"],[0.5555555555555556,\"#d8576b\"],[0.6666666666666666,\"#ed7953\"],[0.7777777777777778,\"#fb9f3a\"],[0.8888888888888888,\"#fdca26\"],[1.0,\"#f0f921\"]],\"type\":\"histogram2d\"}],\"histogram\":[{\"marker\":{\"pattern\":{\"fillmode\":\"overlay\",\"size\":10,\"solidity\":0.2}},\"type\":\"histogram\"}],\"mesh3d\":[{\"colorbar\":{\"outlinewidth\":0,\"ticks\":\"\"},\"type\":\"mesh3d\"}],\"parcoords\":[{\"line\":{\"colorbar\":{\"outlinewidth\":0,\"ticks\":\"\"}},\"type\":\"parcoords\"}],\"pie\":[{\"automargin\":true,\"type\":\"pie\"}],\"scatter3d\":[{\"line\":{\"colorbar\":{\"outlinewidth\":0,\"ticks\":\"\"}},\"marker\":{\"colorbar\":{\"outlinewidth\":0,\"ticks\":\"\"}},\"type\":\"scatter3d\"}],\"scattercarpet\":[{\"marker\":{\"colorbar\":{\"outlinewidth\":0,\"ticks\":\"\"}},\"type\":\"scattercarpet\"}],\"scattergeo\":[{\"marker\":{\"colorbar\":{\"outlinewidth\":0,\"ticks\":\"\"}},\"type\":\"scattergeo\"}],\"scattergl\":[{\"marker\":{\"colorbar\":{\"outlinewidth\":0,\"ticks\":\"\"}},\"type\":\"scattergl\"}],\"scattermapbox\":[{\"marker\":{\"colorbar\":{\"outlinewidth\":0,\"ticks\":\"\"}},\"type\":\"scattermapbox\"}],\"scatterpolargl\":[{\"marker\":{\"colorbar\":{\"outlinewidth\":0,\"ticks\":\"\"}},\"type\":\"scatterpolargl\"}],\"scatterpolar\":[{\"marker\":{\"colorbar\":{\"outlinewidth\":0,\"ticks\":\"\"}},\"type\":\"scatterpolar\"}],\"scatter\":[{\"marker\":{\"colorbar\":{\"outlinewidth\":0,\"ticks\":\"\"}},\"type\":\"scatter\"}],\"scatterternary\":[{\"marker\":{\"colorbar\":{\"outlinewidth\":0,\"ticks\":\"\"}},\"type\":\"scatterternary\"}],\"surface\":[{\"colorbar\":{\"outlinewidth\":0,\"ticks\":\"\"},\"colorscale\":[[0.0,\"#0d0887\"],[0.1111111111111111,\"#46039f\"],[0.2222222222222222,\"#7201a8\"],[0.3333333333333333,\"#9c179e\"],[0.4444444444444444,\"#bd3786\"],[0.5555555555555556,\"#d8576b\"],[0.6666666666666666,\"#ed7953\"],[0.7777777777777778,\"#fb9f3a\"],[0.8888888888888888,\"#fdca26\"],[1.0,\"#f0f921\"]],\"type\":\"surface\"}],\"table\":[{\"cells\":{\"fill\":{\"color\":\"#EBF0F8\"},\"line\":{\"color\":\"white\"}},\"header\":{\"fill\":{\"color\":\"#C8D4E3\"},\"line\":{\"color\":\"white\"}},\"type\":\"table\"}]},\"layout\":{\"annotationdefaults\":{\"arrowcolor\":\"#2a3f5f\",\"arrowhead\":0,\"arrowwidth\":1},\"autotypenumbers\":\"strict\",\"coloraxis\":{\"colorbar\":{\"outlinewidth\":0,\"ticks\":\"\"}},\"colorscale\":{\"diverging\":[[0,\"#8e0152\"],[0.1,\"#c51b7d\"],[0.2,\"#de77ae\"],[0.3,\"#f1b6da\"],[0.4,\"#fde0ef\"],[0.5,\"#f7f7f7\"],[0.6,\"#e6f5d0\"],[0.7,\"#b8e186\"],[0.8,\"#7fbc41\"],[0.9,\"#4d9221\"],[1,\"#276419\"]],\"sequential\":[[0.0,\"#0d0887\"],[0.1111111111111111,\"#46039f\"],[0.2222222222222222,\"#7201a8\"],[0.3333333333333333,\"#9c179e\"],[0.4444444444444444,\"#bd3786\"],[0.5555555555555556,\"#d8576b\"],[0.6666666666666666,\"#ed7953\"],[0.7777777777777778,\"#fb9f3a\"],[0.8888888888888888,\"#fdca26\"],[1.0,\"#f0f921\"]],\"sequentialminus\":[[0.0,\"#0d0887\"],[0.1111111111111111,\"#46039f\"],[0.2222222222222222,\"#7201a8\"],[0.3333333333333333,\"#9c179e\"],[0.4444444444444444,\"#bd3786\"],[0.5555555555555556,\"#d8576b\"],[0.6666666666666666,\"#ed7953\"],[0.7777777777777778,\"#fb9f3a\"],[0.8888888888888888,\"#fdca26\"],[1.0,\"#f0f921\"]]},\"colorway\":[\"#636efa\",\"#EF553B\",\"#00cc96\",\"#ab63fa\",\"#FFA15A\",\"#19d3f3\",\"#FF6692\",\"#B6E880\",\"#FF97FF\",\"#FECB52\"],\"font\":{\"color\":\"#2a3f5f\"},\"geo\":{\"bgcolor\":\"white\",\"lakecolor\":\"white\",\"landcolor\":\"white\",\"showlakes\":true,\"showland\":true,\"subunitcolor\":\"#C8D4E3\"},\"hoverlabel\":{\"align\":\"left\"},\"hovermode\":\"closest\",\"mapbox\":{\"style\":\"light\"},\"paper_bgcolor\":\"white\",\"plot_bgcolor\":\"white\",\"polar\":{\"angularaxis\":{\"gridcolor\":\"#EBF0F8\",\"linecolor\":\"#EBF0F8\",\"ticks\":\"\"},\"bgcolor\":\"white\",\"radialaxis\":{\"gridcolor\":\"#EBF0F8\",\"linecolor\":\"#EBF0F8\",\"ticks\":\"\"}},\"scene\":{\"xaxis\":{\"backgroundcolor\":\"white\",\"gridcolor\":\"#DFE8F3\",\"gridwidth\":2,\"linecolor\":\"#EBF0F8\",\"showbackground\":true,\"ticks\":\"\",\"zerolinecolor\":\"#EBF0F8\"},\"yaxis\":{\"backgroundcolor\":\"white\",\"gridcolor\":\"#DFE8F3\",\"gridwidth\":2,\"linecolor\":\"#EBF0F8\",\"showbackground\":true,\"ticks\":\"\",\"zerolinecolor\":\"#EBF0F8\"},\"zaxis\":{\"backgroundcolor\":\"white\",\"gridcolor\":\"#DFE8F3\",\"gridwidth\":2,\"linecolor\":\"#EBF0F8\",\"showbackground\":true,\"ticks\":\"\",\"zerolinecolor\":\"#EBF0F8\"}},\"shapedefaults\":{\"line\":{\"color\":\"#2a3f5f\"}},\"ternary\":{\"aaxis\":{\"gridcolor\":\"#DFE8F3\",\"linecolor\":\"#A2B1C6\",\"ticks\":\"\"},\"baxis\":{\"gridcolor\":\"#DFE8F3\",\"linecolor\":\"#A2B1C6\",\"ticks\":\"\"},\"bgcolor\":\"white\",\"caxis\":{\"gridcolor\":\"#DFE8F3\",\"linecolor\":\"#A2B1C6\",\"ticks\":\"\"}},\"title\":{\"x\":0.05},\"xaxis\":{\"automargin\":true,\"gridcolor\":\"#EBF0F8\",\"linecolor\":\"#EBF0F8\",\"ticks\":\"\",\"title\":{\"standoff\":15},\"zerolinecolor\":\"#EBF0F8\",\"zerolinewidth\":2},\"yaxis\":{\"automargin\":true,\"gridcolor\":\"#EBF0F8\",\"linecolor\":\"#EBF0F8\",\"ticks\":\"\",\"title\":{\"standoff\":15},\"zerolinecolor\":\"#EBF0F8\",\"zerolinewidth\":2}}},\"xaxis\":{\"anchor\":\"y\",\"domain\":[0.0,1.0],\"title\":{\"text\":\"AUC\"},\"range\":[0.2,1]},\"yaxis\":{\"anchor\":\"x\",\"domain\":[0.0,1.0],\"title\":{\"text\":\"Whole model\"},\"showticklabels\":true,\"tickmode\":\"linear\"},\"legend\":{\"tracegroupgap\":0},\"margin\":{\"t\":60},\"violinmode\":\"group\",\"shapes\":[{\"line\":{\"color\":\"grey\",\"dash\":\"dash\",\"width\":3},\"type\":\"line\",\"x0\":0.5,\"x1\":0.5,\"xref\":\"x\",\"y0\":0,\"y1\":1,\"yref\":\"y domain\"}],\"autosize\":false,\"width\":800,\"height\":800},                        {\"responsive\": true}                    ).then(function(){\n",
       "                            \n",
       "var gd = document.getElementById('46da22c9-b2f5-4c0f-ada6-432ec7849d3c');\n",
       "var x = new MutationObserver(function (mutations, observer) {{\n",
       "        var display = window.getComputedStyle(gd).display;\n",
       "        if (!display || display === 'none') {{\n",
       "            console.log([gd, 'removed!']);\n",
       "            Plotly.purge(gd);\n",
       "            observer.disconnect();\n",
       "        }}\n",
       "}});\n",
       "\n",
       "// Listen for the removal of the full notebook cells\n",
       "var notebookContainer = gd.closest('#notebook-container');\n",
       "if (notebookContainer) {{\n",
       "    x.observe(notebookContainer, {childList: true});\n",
       "}}\n",
       "\n",
       "// Listen for the clearing of the current output cell\n",
       "var outputEl = gd.closest('.output');\n",
       "if (outputEl) {{\n",
       "    x.observe(outputEl, {childList: true});\n",
       "}}\n",
       "\n",
       "                        })                };                });            </script>        </div>"
      ]
     },
     "metadata": {},
     "output_type": "display_data"
    }
   ],
   "source": [
    "fig =px.violin(df_forest_mw, x = 'auc', box = True, points = 'all',template = \"plotly_white\", color_discrete_sequence = [lblue], labels = {'auc': 'AUC'})\n",
    "fig.add_vline(x=0.5, line_width=3, line_dash=\"dash\", line_color=\"grey\")\n",
    "\n",
    "fig.update_layout(\n",
    "#     title = f'Mean AUC = {df_forest_mw.auc.mean()}',\n",
    "    autosize=False,\n",
    "    width=800,\n",
    "    height=800,\n",
    "    yaxis = {'title': 'Whole model',\n",
    "            'showticklabels': True,\n",
    "            'tickmode': 'linear',},\n",
    "    xaxis ={\n",
    "             'range':[0.2, 1]\n",
    "        }\n",
    ")\n",
    "fig.show()"
   ]
  },
  {
   "cell_type": "code",
   "execution_count": 19,
   "id": "challenging-crawford",
   "metadata": {},
   "outputs": [
    {
     "data": {
      "application/vnd.plotly.v1+json": {
       "config": {
        "plotlyServerURL": "https://plot.ly"
       },
       "data": [
        {
         "hovertemplate": "mean_importance=%{x}<br>Markers=%{y}<extra></extra>",
         "legendgroup": "",
         "marker": {
          "color": "#42B9B2",
          "size": 8,
          "symbol": "circle"
         },
         "mode": "markers",
         "name": "",
         "orientation": "h",
         "showlegend": false,
         "type": "scatter",
         "x": [
          0.0191837434708501,
          0.019193857122672634,
          0.01944396311038483,
          0.019460248865091352,
          0.019469800998608063,
          0.019822815402240224,
          0.020201541362664985,
          0.02046682758991957,
          0.020551690886792217,
          0.021399066548900912
         ],
         "xaxis": "x",
         "y": [
          "$SEF95_{mean}$",
          "$PE\\alpha_{mean}$",
          "$|\\delta|_{mean}$",
          "$\\theta_{mean}$",
          "$PE\\gamma_{mean}$",
          "$PE\\beta_{mean}$",
          "$|\\alpha|_{mean}$",
          "$\\beta_{mean}$",
          "$\\alpha_{mean}$",
          "$PE\\theta_{mean}$"
         ],
         "yaxis": "y"
        }
       ],
       "layout": {
        "font": {
         "color": "black",
         "family": "Times new roman",
         "size": 20
        },
        "height": 900,
        "legend": {
         "tracegroupgap": 0
        },
        "margin": {
         "t": 60
        },
        "showlegend": true,
        "template": {
         "data": {
          "bar": [
           {
            "error_x": {
             "color": "#2a3f5f"
            },
            "error_y": {
             "color": "#2a3f5f"
            },
            "marker": {
             "line": {
              "color": "white",
              "width": 0.5
             },
             "pattern": {
              "fillmode": "overlay",
              "size": 10,
              "solidity": 0.2
             }
            },
            "type": "bar"
           }
          ],
          "barpolar": [
           {
            "marker": {
             "line": {
              "color": "white",
              "width": 0.5
             },
             "pattern": {
              "fillmode": "overlay",
              "size": 10,
              "solidity": 0.2
             }
            },
            "type": "barpolar"
           }
          ],
          "carpet": [
           {
            "aaxis": {
             "endlinecolor": "#2a3f5f",
             "gridcolor": "#C8D4E3",
             "linecolor": "#C8D4E3",
             "minorgridcolor": "#C8D4E3",
             "startlinecolor": "#2a3f5f"
            },
            "baxis": {
             "endlinecolor": "#2a3f5f",
             "gridcolor": "#C8D4E3",
             "linecolor": "#C8D4E3",
             "minorgridcolor": "#C8D4E3",
             "startlinecolor": "#2a3f5f"
            },
            "type": "carpet"
           }
          ],
          "choropleth": [
           {
            "colorbar": {
             "outlinewidth": 0,
             "ticks": ""
            },
            "type": "choropleth"
           }
          ],
          "contour": [
           {
            "colorbar": {
             "outlinewidth": 0,
             "ticks": ""
            },
            "colorscale": [
             [
              0,
              "#0d0887"
             ],
             [
              0.1111111111111111,
              "#46039f"
             ],
             [
              0.2222222222222222,
              "#7201a8"
             ],
             [
              0.3333333333333333,
              "#9c179e"
             ],
             [
              0.4444444444444444,
              "#bd3786"
             ],
             [
              0.5555555555555556,
              "#d8576b"
             ],
             [
              0.6666666666666666,
              "#ed7953"
             ],
             [
              0.7777777777777778,
              "#fb9f3a"
             ],
             [
              0.8888888888888888,
              "#fdca26"
             ],
             [
              1,
              "#f0f921"
             ]
            ],
            "type": "contour"
           }
          ],
          "contourcarpet": [
           {
            "colorbar": {
             "outlinewidth": 0,
             "ticks": ""
            },
            "type": "contourcarpet"
           }
          ],
          "heatmap": [
           {
            "colorbar": {
             "outlinewidth": 0,
             "ticks": ""
            },
            "colorscale": [
             [
              0,
              "#0d0887"
             ],
             [
              0.1111111111111111,
              "#46039f"
             ],
             [
              0.2222222222222222,
              "#7201a8"
             ],
             [
              0.3333333333333333,
              "#9c179e"
             ],
             [
              0.4444444444444444,
              "#bd3786"
             ],
             [
              0.5555555555555556,
              "#d8576b"
             ],
             [
              0.6666666666666666,
              "#ed7953"
             ],
             [
              0.7777777777777778,
              "#fb9f3a"
             ],
             [
              0.8888888888888888,
              "#fdca26"
             ],
             [
              1,
              "#f0f921"
             ]
            ],
            "type": "heatmap"
           }
          ],
          "heatmapgl": [
           {
            "colorbar": {
             "outlinewidth": 0,
             "ticks": ""
            },
            "colorscale": [
             [
              0,
              "#0d0887"
             ],
             [
              0.1111111111111111,
              "#46039f"
             ],
             [
              0.2222222222222222,
              "#7201a8"
             ],
             [
              0.3333333333333333,
              "#9c179e"
             ],
             [
              0.4444444444444444,
              "#bd3786"
             ],
             [
              0.5555555555555556,
              "#d8576b"
             ],
             [
              0.6666666666666666,
              "#ed7953"
             ],
             [
              0.7777777777777778,
              "#fb9f3a"
             ],
             [
              0.8888888888888888,
              "#fdca26"
             ],
             [
              1,
              "#f0f921"
             ]
            ],
            "type": "heatmapgl"
           }
          ],
          "histogram": [
           {
            "marker": {
             "pattern": {
              "fillmode": "overlay",
              "size": 10,
              "solidity": 0.2
             }
            },
            "type": "histogram"
           }
          ],
          "histogram2d": [
           {
            "colorbar": {
             "outlinewidth": 0,
             "ticks": ""
            },
            "colorscale": [
             [
              0,
              "#0d0887"
             ],
             [
              0.1111111111111111,
              "#46039f"
             ],
             [
              0.2222222222222222,
              "#7201a8"
             ],
             [
              0.3333333333333333,
              "#9c179e"
             ],
             [
              0.4444444444444444,
              "#bd3786"
             ],
             [
              0.5555555555555556,
              "#d8576b"
             ],
             [
              0.6666666666666666,
              "#ed7953"
             ],
             [
              0.7777777777777778,
              "#fb9f3a"
             ],
             [
              0.8888888888888888,
              "#fdca26"
             ],
             [
              1,
              "#f0f921"
             ]
            ],
            "type": "histogram2d"
           }
          ],
          "histogram2dcontour": [
           {
            "colorbar": {
             "outlinewidth": 0,
             "ticks": ""
            },
            "colorscale": [
             [
              0,
              "#0d0887"
             ],
             [
              0.1111111111111111,
              "#46039f"
             ],
             [
              0.2222222222222222,
              "#7201a8"
             ],
             [
              0.3333333333333333,
              "#9c179e"
             ],
             [
              0.4444444444444444,
              "#bd3786"
             ],
             [
              0.5555555555555556,
              "#d8576b"
             ],
             [
              0.6666666666666666,
              "#ed7953"
             ],
             [
              0.7777777777777778,
              "#fb9f3a"
             ],
             [
              0.8888888888888888,
              "#fdca26"
             ],
             [
              1,
              "#f0f921"
             ]
            ],
            "type": "histogram2dcontour"
           }
          ],
          "mesh3d": [
           {
            "colorbar": {
             "outlinewidth": 0,
             "ticks": ""
            },
            "type": "mesh3d"
           }
          ],
          "parcoords": [
           {
            "line": {
             "colorbar": {
              "outlinewidth": 0,
              "ticks": ""
             }
            },
            "type": "parcoords"
           }
          ],
          "pie": [
           {
            "automargin": true,
            "type": "pie"
           }
          ],
          "scatter": [
           {
            "marker": {
             "colorbar": {
              "outlinewidth": 0,
              "ticks": ""
             }
            },
            "type": "scatter"
           }
          ],
          "scatter3d": [
           {
            "line": {
             "colorbar": {
              "outlinewidth": 0,
              "ticks": ""
             }
            },
            "marker": {
             "colorbar": {
              "outlinewidth": 0,
              "ticks": ""
             }
            },
            "type": "scatter3d"
           }
          ],
          "scattercarpet": [
           {
            "marker": {
             "colorbar": {
              "outlinewidth": 0,
              "ticks": ""
             }
            },
            "type": "scattercarpet"
           }
          ],
          "scattergeo": [
           {
            "marker": {
             "colorbar": {
              "outlinewidth": 0,
              "ticks": ""
             }
            },
            "type": "scattergeo"
           }
          ],
          "scattergl": [
           {
            "marker": {
             "colorbar": {
              "outlinewidth": 0,
              "ticks": ""
             }
            },
            "type": "scattergl"
           }
          ],
          "scattermapbox": [
           {
            "marker": {
             "colorbar": {
              "outlinewidth": 0,
              "ticks": ""
             }
            },
            "type": "scattermapbox"
           }
          ],
          "scatterpolar": [
           {
            "marker": {
             "colorbar": {
              "outlinewidth": 0,
              "ticks": ""
             }
            },
            "type": "scatterpolar"
           }
          ],
          "scatterpolargl": [
           {
            "marker": {
             "colorbar": {
              "outlinewidth": 0,
              "ticks": ""
             }
            },
            "type": "scatterpolargl"
           }
          ],
          "scatterternary": [
           {
            "marker": {
             "colorbar": {
              "outlinewidth": 0,
              "ticks": ""
             }
            },
            "type": "scatterternary"
           }
          ],
          "surface": [
           {
            "colorbar": {
             "outlinewidth": 0,
             "ticks": ""
            },
            "colorscale": [
             [
              0,
              "#0d0887"
             ],
             [
              0.1111111111111111,
              "#46039f"
             ],
             [
              0.2222222222222222,
              "#7201a8"
             ],
             [
              0.3333333333333333,
              "#9c179e"
             ],
             [
              0.4444444444444444,
              "#bd3786"
             ],
             [
              0.5555555555555556,
              "#d8576b"
             ],
             [
              0.6666666666666666,
              "#ed7953"
             ],
             [
              0.7777777777777778,
              "#fb9f3a"
             ],
             [
              0.8888888888888888,
              "#fdca26"
             ],
             [
              1,
              "#f0f921"
             ]
            ],
            "type": "surface"
           }
          ],
          "table": [
           {
            "cells": {
             "fill": {
              "color": "#EBF0F8"
             },
             "line": {
              "color": "white"
             }
            },
            "header": {
             "fill": {
              "color": "#C8D4E3"
             },
             "line": {
              "color": "white"
             }
            },
            "type": "table"
           }
          ]
         },
         "layout": {
          "annotationdefaults": {
           "arrowcolor": "#2a3f5f",
           "arrowhead": 0,
           "arrowwidth": 1
          },
          "autotypenumbers": "strict",
          "coloraxis": {
           "colorbar": {
            "outlinewidth": 0,
            "ticks": ""
           }
          },
          "colorscale": {
           "diverging": [
            [
             0,
             "#8e0152"
            ],
            [
             0.1,
             "#c51b7d"
            ],
            [
             0.2,
             "#de77ae"
            ],
            [
             0.3,
             "#f1b6da"
            ],
            [
             0.4,
             "#fde0ef"
            ],
            [
             0.5,
             "#f7f7f7"
            ],
            [
             0.6,
             "#e6f5d0"
            ],
            [
             0.7,
             "#b8e186"
            ],
            [
             0.8,
             "#7fbc41"
            ],
            [
             0.9,
             "#4d9221"
            ],
            [
             1,
             "#276419"
            ]
           ],
           "sequential": [
            [
             0,
             "#0d0887"
            ],
            [
             0.1111111111111111,
             "#46039f"
            ],
            [
             0.2222222222222222,
             "#7201a8"
            ],
            [
             0.3333333333333333,
             "#9c179e"
            ],
            [
             0.4444444444444444,
             "#bd3786"
            ],
            [
             0.5555555555555556,
             "#d8576b"
            ],
            [
             0.6666666666666666,
             "#ed7953"
            ],
            [
             0.7777777777777778,
             "#fb9f3a"
            ],
            [
             0.8888888888888888,
             "#fdca26"
            ],
            [
             1,
             "#f0f921"
            ]
           ],
           "sequentialminus": [
            [
             0,
             "#0d0887"
            ],
            [
             0.1111111111111111,
             "#46039f"
            ],
            [
             0.2222222222222222,
             "#7201a8"
            ],
            [
             0.3333333333333333,
             "#9c179e"
            ],
            [
             0.4444444444444444,
             "#bd3786"
            ],
            [
             0.5555555555555556,
             "#d8576b"
            ],
            [
             0.6666666666666666,
             "#ed7953"
            ],
            [
             0.7777777777777778,
             "#fb9f3a"
            ],
            [
             0.8888888888888888,
             "#fdca26"
            ],
            [
             1,
             "#f0f921"
            ]
           ]
          },
          "colorway": [
           "#636efa",
           "#EF553B",
           "#00cc96",
           "#ab63fa",
           "#FFA15A",
           "#19d3f3",
           "#FF6692",
           "#B6E880",
           "#FF97FF",
           "#FECB52"
          ],
          "font": {
           "color": "#2a3f5f"
          },
          "geo": {
           "bgcolor": "white",
           "lakecolor": "white",
           "landcolor": "white",
           "showlakes": true,
           "showland": true,
           "subunitcolor": "#C8D4E3"
          },
          "hoverlabel": {
           "align": "left"
          },
          "hovermode": "closest",
          "mapbox": {
           "style": "light"
          },
          "paper_bgcolor": "white",
          "plot_bgcolor": "white",
          "polar": {
           "angularaxis": {
            "gridcolor": "#EBF0F8",
            "linecolor": "#EBF0F8",
            "ticks": ""
           },
           "bgcolor": "white",
           "radialaxis": {
            "gridcolor": "#EBF0F8",
            "linecolor": "#EBF0F8",
            "ticks": ""
           }
          },
          "scene": {
           "xaxis": {
            "backgroundcolor": "white",
            "gridcolor": "#DFE8F3",
            "gridwidth": 2,
            "linecolor": "#EBF0F8",
            "showbackground": true,
            "ticks": "",
            "zerolinecolor": "#EBF0F8"
           },
           "yaxis": {
            "backgroundcolor": "white",
            "gridcolor": "#DFE8F3",
            "gridwidth": 2,
            "linecolor": "#EBF0F8",
            "showbackground": true,
            "ticks": "",
            "zerolinecolor": "#EBF0F8"
           },
           "zaxis": {
            "backgroundcolor": "white",
            "gridcolor": "#DFE8F3",
            "gridwidth": 2,
            "linecolor": "#EBF0F8",
            "showbackground": true,
            "ticks": "",
            "zerolinecolor": "#EBF0F8"
           }
          },
          "shapedefaults": {
           "line": {
            "color": "#2a3f5f"
           }
          },
          "ternary": {
           "aaxis": {
            "gridcolor": "#DFE8F3",
            "linecolor": "#A2B1C6",
            "ticks": ""
           },
           "baxis": {
            "gridcolor": "#DFE8F3",
            "linecolor": "#A2B1C6",
            "ticks": ""
           },
           "bgcolor": "white",
           "caxis": {
            "gridcolor": "#DFE8F3",
            "linecolor": "#A2B1C6",
            "ticks": ""
           }
          },
          "title": {
           "x": 0.05
          },
          "xaxis": {
           "automargin": true,
           "gridcolor": "#EBF0F8",
           "linecolor": "#EBF0F8",
           "ticks": "",
           "title": {
            "standoff": 15
           },
           "zerolinecolor": "#EBF0F8",
           "zerolinewidth": 2
          },
          "yaxis": {
           "automargin": true,
           "gridcolor": "#EBF0F8",
           "linecolor": "#EBF0F8",
           "ticks": "",
           "title": {
            "standoff": 15
           },
           "zerolinecolor": "#EBF0F8",
           "zerolinewidth": 2
          }
         }
        },
        "width": 650,
        "xaxis": {
         "anchor": "y",
         "domain": [
          0,
          1
         ],
         "tickfont": {
          "size": 20
         },
         "title": {
          "text": "Feature Importance"
         },
         "visible": true
        },
        "yaxis": {
         "anchor": "x",
         "automargin": true,
         "domain": [
          0,
          1
         ],
         "tickfont": {
          "size": 20
         },
         "title": {
          "text": "Markers"
         }
        }
       }
      },
      "text/html": [
       "<div>                            <div id=\"1fca7202-24fc-4adc-998e-013a5cd234a4\" class=\"plotly-graph-div\" style=\"height:900px; width:650px;\"></div>            <script type=\"text/javascript\">                require([\"plotly\"], function(Plotly) {                    window.PLOTLYENV=window.PLOTLYENV || {};                                    if (document.getElementById(\"1fca7202-24fc-4adc-998e-013a5cd234a4\")) {                    Plotly.newPlot(                        \"1fca7202-24fc-4adc-998e-013a5cd234a4\",                        [{\"hovertemplate\":\"mean_importance=%{x}<br>Markers=%{y}<extra></extra>\",\"legendgroup\":\"\",\"marker\":{\"color\":\"#42B9B2\",\"symbol\":\"circle\",\"size\":8},\"mode\":\"markers\",\"name\":\"\",\"orientation\":\"h\",\"showlegend\":false,\"x\":[0.0191837434708501,0.019193857122672634,0.01944396311038483,0.019460248865091352,0.019469800998608063,0.019822815402240224,0.020201541362664985,0.02046682758991957,0.020551690886792217,0.021399066548900912],\"xaxis\":\"x\",\"y\":[\"$SEF95_{mean}$\",\"$PE\\\\alpha_{mean}$\",\"$|\\\\delta|_{mean}$\",\"$\\\\theta_{mean}$\",\"$PE\\\\gamma_{mean}$\",\"$PE\\\\beta_{mean}$\",\"$|\\\\alpha|_{mean}$\",\"$\\\\beta_{mean}$\",\"$\\\\alpha_{mean}$\",\"$PE\\\\theta_{mean}$\"],\"yaxis\":\"y\",\"type\":\"scatter\"}],                        {\"template\":{\"data\":{\"barpolar\":[{\"marker\":{\"line\":{\"color\":\"white\",\"width\":0.5},\"pattern\":{\"fillmode\":\"overlay\",\"size\":10,\"solidity\":0.2}},\"type\":\"barpolar\"}],\"bar\":[{\"error_x\":{\"color\":\"#2a3f5f\"},\"error_y\":{\"color\":\"#2a3f5f\"},\"marker\":{\"line\":{\"color\":\"white\",\"width\":0.5},\"pattern\":{\"fillmode\":\"overlay\",\"size\":10,\"solidity\":0.2}},\"type\":\"bar\"}],\"carpet\":[{\"aaxis\":{\"endlinecolor\":\"#2a3f5f\",\"gridcolor\":\"#C8D4E3\",\"linecolor\":\"#C8D4E3\",\"minorgridcolor\":\"#C8D4E3\",\"startlinecolor\":\"#2a3f5f\"},\"baxis\":{\"endlinecolor\":\"#2a3f5f\",\"gridcolor\":\"#C8D4E3\",\"linecolor\":\"#C8D4E3\",\"minorgridcolor\":\"#C8D4E3\",\"startlinecolor\":\"#2a3f5f\"},\"type\":\"carpet\"}],\"choropleth\":[{\"colorbar\":{\"outlinewidth\":0,\"ticks\":\"\"},\"type\":\"choropleth\"}],\"contourcarpet\":[{\"colorbar\":{\"outlinewidth\":0,\"ticks\":\"\"},\"type\":\"contourcarpet\"}],\"contour\":[{\"colorbar\":{\"outlinewidth\":0,\"ticks\":\"\"},\"colorscale\":[[0.0,\"#0d0887\"],[0.1111111111111111,\"#46039f\"],[0.2222222222222222,\"#7201a8\"],[0.3333333333333333,\"#9c179e\"],[0.4444444444444444,\"#bd3786\"],[0.5555555555555556,\"#d8576b\"],[0.6666666666666666,\"#ed7953\"],[0.7777777777777778,\"#fb9f3a\"],[0.8888888888888888,\"#fdca26\"],[1.0,\"#f0f921\"]],\"type\":\"contour\"}],\"heatmapgl\":[{\"colorbar\":{\"outlinewidth\":0,\"ticks\":\"\"},\"colorscale\":[[0.0,\"#0d0887\"],[0.1111111111111111,\"#46039f\"],[0.2222222222222222,\"#7201a8\"],[0.3333333333333333,\"#9c179e\"],[0.4444444444444444,\"#bd3786\"],[0.5555555555555556,\"#d8576b\"],[0.6666666666666666,\"#ed7953\"],[0.7777777777777778,\"#fb9f3a\"],[0.8888888888888888,\"#fdca26\"],[1.0,\"#f0f921\"]],\"type\":\"heatmapgl\"}],\"heatmap\":[{\"colorbar\":{\"outlinewidth\":0,\"ticks\":\"\"},\"colorscale\":[[0.0,\"#0d0887\"],[0.1111111111111111,\"#46039f\"],[0.2222222222222222,\"#7201a8\"],[0.3333333333333333,\"#9c179e\"],[0.4444444444444444,\"#bd3786\"],[0.5555555555555556,\"#d8576b\"],[0.6666666666666666,\"#ed7953\"],[0.7777777777777778,\"#fb9f3a\"],[0.8888888888888888,\"#fdca26\"],[1.0,\"#f0f921\"]],\"type\":\"heatmap\"}],\"histogram2dcontour\":[{\"colorbar\":{\"outlinewidth\":0,\"ticks\":\"\"},\"colorscale\":[[0.0,\"#0d0887\"],[0.1111111111111111,\"#46039f\"],[0.2222222222222222,\"#7201a8\"],[0.3333333333333333,\"#9c179e\"],[0.4444444444444444,\"#bd3786\"],[0.5555555555555556,\"#d8576b\"],[0.6666666666666666,\"#ed7953\"],[0.7777777777777778,\"#fb9f3a\"],[0.8888888888888888,\"#fdca26\"],[1.0,\"#f0f921\"]],\"type\":\"histogram2dcontour\"}],\"histogram2d\":[{\"colorbar\":{\"outlinewidth\":0,\"ticks\":\"\"},\"colorscale\":[[0.0,\"#0d0887\"],[0.1111111111111111,\"#46039f\"],[0.2222222222222222,\"#7201a8\"],[0.3333333333333333,\"#9c179e\"],[0.4444444444444444,\"#bd3786\"],[0.5555555555555556,\"#d8576b\"],[0.6666666666666666,\"#ed7953\"],[0.7777777777777778,\"#fb9f3a\"],[0.8888888888888888,\"#fdca26\"],[1.0,\"#f0f921\"]],\"type\":\"histogram2d\"}],\"histogram\":[{\"marker\":{\"pattern\":{\"fillmode\":\"overlay\",\"size\":10,\"solidity\":0.2}},\"type\":\"histogram\"}],\"mesh3d\":[{\"colorbar\":{\"outlinewidth\":0,\"ticks\":\"\"},\"type\":\"mesh3d\"}],\"parcoords\":[{\"line\":{\"colorbar\":{\"outlinewidth\":0,\"ticks\":\"\"}},\"type\":\"parcoords\"}],\"pie\":[{\"automargin\":true,\"type\":\"pie\"}],\"scatter3d\":[{\"line\":{\"colorbar\":{\"outlinewidth\":0,\"ticks\":\"\"}},\"marker\":{\"colorbar\":{\"outlinewidth\":0,\"ticks\":\"\"}},\"type\":\"scatter3d\"}],\"scattercarpet\":[{\"marker\":{\"colorbar\":{\"outlinewidth\":0,\"ticks\":\"\"}},\"type\":\"scattercarpet\"}],\"scattergeo\":[{\"marker\":{\"colorbar\":{\"outlinewidth\":0,\"ticks\":\"\"}},\"type\":\"scattergeo\"}],\"scattergl\":[{\"marker\":{\"colorbar\":{\"outlinewidth\":0,\"ticks\":\"\"}},\"type\":\"scattergl\"}],\"scattermapbox\":[{\"marker\":{\"colorbar\":{\"outlinewidth\":0,\"ticks\":\"\"}},\"type\":\"scattermapbox\"}],\"scatterpolargl\":[{\"marker\":{\"colorbar\":{\"outlinewidth\":0,\"ticks\":\"\"}},\"type\":\"scatterpolargl\"}],\"scatterpolar\":[{\"marker\":{\"colorbar\":{\"outlinewidth\":0,\"ticks\":\"\"}},\"type\":\"scatterpolar\"}],\"scatter\":[{\"marker\":{\"colorbar\":{\"outlinewidth\":0,\"ticks\":\"\"}},\"type\":\"scatter\"}],\"scatterternary\":[{\"marker\":{\"colorbar\":{\"outlinewidth\":0,\"ticks\":\"\"}},\"type\":\"scatterternary\"}],\"surface\":[{\"colorbar\":{\"outlinewidth\":0,\"ticks\":\"\"},\"colorscale\":[[0.0,\"#0d0887\"],[0.1111111111111111,\"#46039f\"],[0.2222222222222222,\"#7201a8\"],[0.3333333333333333,\"#9c179e\"],[0.4444444444444444,\"#bd3786\"],[0.5555555555555556,\"#d8576b\"],[0.6666666666666666,\"#ed7953\"],[0.7777777777777778,\"#fb9f3a\"],[0.8888888888888888,\"#fdca26\"],[1.0,\"#f0f921\"]],\"type\":\"surface\"}],\"table\":[{\"cells\":{\"fill\":{\"color\":\"#EBF0F8\"},\"line\":{\"color\":\"white\"}},\"header\":{\"fill\":{\"color\":\"#C8D4E3\"},\"line\":{\"color\":\"white\"}},\"type\":\"table\"}]},\"layout\":{\"annotationdefaults\":{\"arrowcolor\":\"#2a3f5f\",\"arrowhead\":0,\"arrowwidth\":1},\"autotypenumbers\":\"strict\",\"coloraxis\":{\"colorbar\":{\"outlinewidth\":0,\"ticks\":\"\"}},\"colorscale\":{\"diverging\":[[0,\"#8e0152\"],[0.1,\"#c51b7d\"],[0.2,\"#de77ae\"],[0.3,\"#f1b6da\"],[0.4,\"#fde0ef\"],[0.5,\"#f7f7f7\"],[0.6,\"#e6f5d0\"],[0.7,\"#b8e186\"],[0.8,\"#7fbc41\"],[0.9,\"#4d9221\"],[1,\"#276419\"]],\"sequential\":[[0.0,\"#0d0887\"],[0.1111111111111111,\"#46039f\"],[0.2222222222222222,\"#7201a8\"],[0.3333333333333333,\"#9c179e\"],[0.4444444444444444,\"#bd3786\"],[0.5555555555555556,\"#d8576b\"],[0.6666666666666666,\"#ed7953\"],[0.7777777777777778,\"#fb9f3a\"],[0.8888888888888888,\"#fdca26\"],[1.0,\"#f0f921\"]],\"sequentialminus\":[[0.0,\"#0d0887\"],[0.1111111111111111,\"#46039f\"],[0.2222222222222222,\"#7201a8\"],[0.3333333333333333,\"#9c179e\"],[0.4444444444444444,\"#bd3786\"],[0.5555555555555556,\"#d8576b\"],[0.6666666666666666,\"#ed7953\"],[0.7777777777777778,\"#fb9f3a\"],[0.8888888888888888,\"#fdca26\"],[1.0,\"#f0f921\"]]},\"colorway\":[\"#636efa\",\"#EF553B\",\"#00cc96\",\"#ab63fa\",\"#FFA15A\",\"#19d3f3\",\"#FF6692\",\"#B6E880\",\"#FF97FF\",\"#FECB52\"],\"font\":{\"color\":\"#2a3f5f\"},\"geo\":{\"bgcolor\":\"white\",\"lakecolor\":\"white\",\"landcolor\":\"white\",\"showlakes\":true,\"showland\":true,\"subunitcolor\":\"#C8D4E3\"},\"hoverlabel\":{\"align\":\"left\"},\"hovermode\":\"closest\",\"mapbox\":{\"style\":\"light\"},\"paper_bgcolor\":\"white\",\"plot_bgcolor\":\"white\",\"polar\":{\"angularaxis\":{\"gridcolor\":\"#EBF0F8\",\"linecolor\":\"#EBF0F8\",\"ticks\":\"\"},\"bgcolor\":\"white\",\"radialaxis\":{\"gridcolor\":\"#EBF0F8\",\"linecolor\":\"#EBF0F8\",\"ticks\":\"\"}},\"scene\":{\"xaxis\":{\"backgroundcolor\":\"white\",\"gridcolor\":\"#DFE8F3\",\"gridwidth\":2,\"linecolor\":\"#EBF0F8\",\"showbackground\":true,\"ticks\":\"\",\"zerolinecolor\":\"#EBF0F8\"},\"yaxis\":{\"backgroundcolor\":\"white\",\"gridcolor\":\"#DFE8F3\",\"gridwidth\":2,\"linecolor\":\"#EBF0F8\",\"showbackground\":true,\"ticks\":\"\",\"zerolinecolor\":\"#EBF0F8\"},\"zaxis\":{\"backgroundcolor\":\"white\",\"gridcolor\":\"#DFE8F3\",\"gridwidth\":2,\"linecolor\":\"#EBF0F8\",\"showbackground\":true,\"ticks\":\"\",\"zerolinecolor\":\"#EBF0F8\"}},\"shapedefaults\":{\"line\":{\"color\":\"#2a3f5f\"}},\"ternary\":{\"aaxis\":{\"gridcolor\":\"#DFE8F3\",\"linecolor\":\"#A2B1C6\",\"ticks\":\"\"},\"baxis\":{\"gridcolor\":\"#DFE8F3\",\"linecolor\":\"#A2B1C6\",\"ticks\":\"\"},\"bgcolor\":\"white\",\"caxis\":{\"gridcolor\":\"#DFE8F3\",\"linecolor\":\"#A2B1C6\",\"ticks\":\"\"}},\"title\":{\"x\":0.05},\"xaxis\":{\"automargin\":true,\"gridcolor\":\"#EBF0F8\",\"linecolor\":\"#EBF0F8\",\"ticks\":\"\",\"title\":{\"standoff\":15},\"zerolinecolor\":\"#EBF0F8\",\"zerolinewidth\":2},\"yaxis\":{\"automargin\":true,\"gridcolor\":\"#EBF0F8\",\"linecolor\":\"#EBF0F8\",\"ticks\":\"\",\"title\":{\"standoff\":15},\"zerolinecolor\":\"#EBF0F8\",\"zerolinewidth\":2}}},\"xaxis\":{\"anchor\":\"y\",\"domain\":[0.0,1.0],\"title\":{\"text\":\"Feature Importance\"},\"tickfont\":{\"size\":20},\"visible\":true},\"yaxis\":{\"anchor\":\"x\",\"domain\":[0.0,1.0],\"title\":{\"text\":\"Markers\"},\"tickfont\":{\"size\":20},\"automargin\":true},\"legend\":{\"tracegroupgap\":0},\"margin\":{\"t\":60},\"font\":{\"family\":\"Times new roman\",\"size\":20,\"color\":\"black\"},\"width\":650,\"height\":900,\"showlegend\":true},                        {\"responsive\": true}                    ).then(function(){\n",
       "                            \n",
       "var gd = document.getElementById('1fca7202-24fc-4adc-998e-013a5cd234a4');\n",
       "var x = new MutationObserver(function (mutations, observer) {{\n",
       "        var display = window.getComputedStyle(gd).display;\n",
       "        if (!display || display === 'none') {{\n",
       "            console.log([gd, 'removed!']);\n",
       "            Plotly.purge(gd);\n",
       "            observer.disconnect();\n",
       "        }}\n",
       "}});\n",
       "\n",
       "// Listen for the removal of the full notebook cells\n",
       "var notebookContainer = gd.closest('#notebook-container');\n",
       "if (notebookContainer) {{\n",
       "    x.observe(notebookContainer, {childList: true});\n",
       "}}\n",
       "\n",
       "// Listen for the clearing of the current output cell\n",
       "var outputEl = gd.closest('.output');\n",
       "if (outputEl) {{\n",
       "    x.observe(outputEl, {childList: true});\n",
       "}}\n",
       "\n",
       "                        })                };                });            </script>        </div>"
      ]
     },
     "metadata": {},
     "output_type": "display_data"
    }
   ],
   "source": [
    "fig = px.scatter(feat_import_mw.sort_values(by = 'mean_importance').tail(10),x = 'mean_importance', y = 'features', template = \"plotly_white\",\n",
    "                  color_discrete_sequence = [lblue],\n",
    "\n",
    "                 category_orders = {'significant': ['p > 0.05','p < 0.05 uncorrected', 'p < 0.05 FDR corrected']}, \n",
    "                 labels = {'value':'Feature importance', 'features': 'Markers'}\n",
    "\n",
    "                )\n",
    "\n",
    "fig.update_traces(marker=dict(size = 8))\n",
    "\n",
    "fig.update_layout(\n",
    "    width=650,\n",
    "    height=900,\n",
    "#     autosize = True, \n",
    "    template = 'plotly_white',\n",
    "        font=dict(\n",
    "        family=\"Times new roman\",\n",
    "        size=20,\n",
    "        color=\"black\"\n",
    "    ),\n",
    "    xaxis = dict(\n",
    "            visible=True,\n",
    "            # range = [0.37,0.63], \n",
    "            tickfont = {\"size\": 20},\n",
    "            title = 'Feature Importance'\n",
    "        ),\n",
    "    yaxis = dict(\n",
    "        tickfont = {\"size\": 20},\n",
    "        # autorange = False,    \n",
    "        automargin = True,\n",
    "        # range = [-1,len(feat_import_mw)],\n",
    "        # dtick = 1\n",
    "        ),\n",
    "    showlegend=True, \n",
    "\n",
    ")\n",
    "\n",
    "fig.show()\n",
    "# pio.write_json(fig, 'Figs/univariate_roc_mw_segment.plotly')\n",
    "fig.write_image(os.path.join(fig_path, 'feat_importance_mw.png'))\n",
    "fig.write_image(os.path.join(fig_path, 'feat_importance_mw.png'))\n"
   ]
  },
  {
   "cell_type": "markdown",
   "id": "humanitarian-locator",
   "metadata": {},
   "source": [
    "## Probe Caught vs Self-Caught\n"
   ]
  },
  {
   "cell_type": "code",
   "execution_count": 20,
   "id": "fresh-fellow",
   "metadata": {},
   "outputs": [],
   "source": [
    "agg_dict = {k:['mean', 'std'] for k in markers }\n",
    "agg_dict.update({k:'first' for k in df_markers.drop(markers, axis=1).columns})\n",
    "\n",
    "df_probe = (\n",
    "    df_markers\n",
    "    .query(\"mind != 'on-task'\")\n",
    "    .groupby(['segment', 'participant'], as_index = False).agg(agg_dict)\n",
    ")\n",
    "\n",
    "# df_probe.columns = df_probe.columns.map(\"_\".join)\n",
    "\n",
    "# df_probe  = (df_probe\n",
    "#             .rename(columns = {'participant_first':'participant', 'probe_first':'probe', 'mind_first':'mind', 'segment_first':'segment'})\n",
    "#             .drop(['participant', 'mind', 'segment'], axis = 1) \n",
    "#            )\n",
    "\n",
    "#### Use latex command for nmaes###\n",
    "##it slow downs the computer, just for final figures.\n",
    "\n",
    "df_probe = correct_name_markers(df_probe)\n",
    "\n",
    "df_probe.columns = df_probe.columns.map(\"$_{\".join).map(lambda x: x + '}$').map(lambda x: x.replace('$$', ''))\n",
    "\n",
    "df_probe  = (df_probe\n",
    "            .rename(columns = {'participant$_{first}$':'participant', 'probe$_{first}$':'probe', 'mind$_{first}$':'mind', 'segment$_{first}$':'segment'})\n",
    "           \n",
    "            .drop(['participant', 'mind', 'segment'], axis = 1) \n",
    "           )\n",
    "\n",
    "\n",
    "rus = RandomUnderSampler(random_state=42, replacement=True)# fit predictor and target variable\n",
    "\n",
    "probe_rus = rus.fit_resample(df_probe.drop('probe', axis = 1).astype(\"float32\").values, df_probe.probe)\n",
    "\n",
    "df_probe_rus = pd.DataFrame(probe_rus[0], columns =df_probe.drop('probe', axis = 1).columns ).assign(probe = probe_rus[1])\n",
    "\n",
    "\n",
    "ros = SMOTE(random_state=42)# fit predictor and target variable\n",
    "\n",
    "probe_ros = ros.fit_resample(df_probe.drop('probe', axis = 1).astype(\"float32\").values, df_probe.probe)\n",
    "\n",
    "df_probe_ros = pd.DataFrame(probe_ros[0], columns =df_probe.drop('probe', axis = 1).columns ).assign(probe = probe_ros[1])"
   ]
  },
  {
   "cell_type": "code",
   "execution_count": 21,
   "id": "imperial-oxide",
   "metadata": {},
   "outputs": [
    {
     "ename": "",
     "evalue": "",
     "output_type": "error",
     "traceback": [
      "\u001b[1;31mCanceled future for execute_request message before replies were done"
     ]
    }
   ],
   "source": [
    "data = df_probe\n",
    "label = 'probe'\n",
    "features = df_probe.drop('probe', axis = 1).columns\n",
    "cv_splits = 5\n",
    "n_permutations = 1000\n",
    "\n",
    "#pipeline steps init\n",
    "steps = [(\"scaler\", StandardScaler())]\n",
    "\n",
    "steps.append(('rus', RandomUnderSampler(random_state=42, replacement=True) ))\n",
    "\n",
    "\n",
    "\n",
    "y, lbl = pd.factorize(data[label])\n",
    "X = data[features].astype(\"float32\").values\n",
    "    \n",
    "n_estimators = 1000\n",
    "steps.append(('Forest',ExtraTreesClassifier(\n",
    "        n_estimators=n_estimators, max_features=1, criterion='entropy',\n",
    "        max_depth=None, random_state=42, class_weight=None)))\n",
    "\n",
    "pipe_cv = imb_pipeline(steps)\n",
    "\n",
    "cv = KFold(cv_splits, shuffle=True, random_state = 42)\n",
    "\n",
    "\n",
    "aucs = cross_val_score(\n",
    "    X=X, y=y, estimator=pipe_cv,\n",
    "    scoring='roc_auc', cv=cv,  n_jobs = -1)\n",
    "\n",
    "\n",
    "df_forest_probe_rus = pd.DataFrame(aucs, columns=[\"auc\"])\n",
    "\n",
    "\n",
    "sns.catplot(x = 'auc', orient = 'h', data = df_auc, kind = 'violin')\n",
    "plt.title(f'Mean = {np.mean(df_auc.auc)}; SD = {np.std(df_auc.auc)}')\n",
    "plt.axvline(x = 0.5, linestyle = 'dashed')\n",
    "plt.show()\n",
    "\n",
    "\n",
    "# Feature importance\n",
    "\n",
    "pipe_cv.fit(X, y)\n",
    "variable_importance = pipe_cv.steps[-1][-1].feature_importances_\n",
    "sorter = variable_importance.argsort()\n",
    "\n",
    "feat_imp_probe_rus = pd.DataFrame(np.array([features,variable_importance]).T, \n",
    "                           columns = ['features', 'value']).sort_values('value', ascending = False)\n",
    "\n",
    "sns.scatterplot(x = feat_import.value, y =feat_import.features)\n",
    "plt.title(f'AUC = {np.mean(df_auc.auc)}')\n",
    "plt.show()\n",
    "\n",
    "\n",
    "score, perm_scores, pvalue = permutation_test_score(\n",
    "    pipe_cv, X, y, scoring=\"roc_auc\", cv=cv, n_permutations=n_permutations, random_state = 42, n_jobs= -1\n",
    ")\n",
    "\n",
    "\n",
    "print(f\"p_value = {pvalue}\")\n",
    "\n",
    "plt.hist(perm_scores, bins=20, density=True)\n",
    "plt.axvline(score, ls=\"--\", color=\"r\")\n",
    "score_label = (\n",
    "    f\"Score on original\\ndata: {score:.2f}\\n\" f\"(p-value: {pvalue:.3f})\"\n",
    ")\n",
    "plt.text(score, np.max(perm_scores), score_label, fontsize=12)\n",
    "plt.xlabel(\"Accuracy score\")\n",
    "plt.ylabel(\"Probability\")\n",
    "plt.show()"
   ]
  },
  {
   "cell_type": "code",
   "execution_count": null,
   "id": "decreased-elizabeth",
   "metadata": {},
   "outputs": [
    {
     "data": {
      "image/png": "[encoded data removed]",
      "text/plain": [
       "<Figure size 360x360 with 1 Axes>"
      ]
     },
     "metadata": {},
     "output_type": "display_data"
    },
    {
     "data": {
      "image/png": "[encoded data removed]",
      "text/plain": [
       "<Figure size 864x648 with 1 Axes>"
      ]
     },
     "metadata": {},
     "output_type": "display_data"
    }
   ],
   "source": [
    "data = df_probe\n",
    "label = 'probe'\n",
    "features = df_probe.drop('probe', axis = 1).columns\n",
    "cv_splits = 5\n",
    "n_permutations = 1000\n",
    "\n",
    "#pipeline steps init\n",
    "steps = [(\"scaler\", StandardScaler())]\n",
    "\n",
    "steps.append(('ros', SMOTE(random_state=42)))\n",
    "\n",
    "\n",
    "\n",
    "y, lbl = pd.factorize(data[label])\n",
    "X = data[features].astype(\"float32\").values\n",
    "    \n",
    "n_estimators = 1000\n",
    "steps.append(('Forest',ExtraTreesClassifier(\n",
    "        n_estimators=n_estimators, max_features=1, criterion='entropy',\n",
    "        max_depth=None, random_state=42, class_weight=None)))\n",
    "\n",
    "pipe_cv = imb_pipeline(steps)\n",
    "\n",
    "cv = KFold(cv_splits, shuffle=True, random_state = 42)\n",
    "\n",
    "\n",
    "aucs = cross_val_score(\n",
    "    X=X, y=y, estimator=pipe_cv,\n",
    "    scoring='roc_auc', cv=cv,  n_jobs = -1)\n",
    "\n",
    "\n",
    "df_forest_probe_ros = pd.DataFrame(aucs, columns=[\"auc\"])\n",
    "\n",
    "\n",
    "sns.catplot(x = 'auc', orient = 'h', data = df_forest_probe_ros, kind = 'violin')\n",
    "plt.title(f'Mean = {np.mean(df_forest_probe_ros.auc)}; SD = {np.std(df_forest_probe_ros.auc)}')\n",
    "plt.axvline(x = 0.5, linestyle = 'dashed')\n",
    "plt.show()\n",
    "\n",
    "\n",
    "# Feature importance\n",
    "\n",
    "pipe_cv.fit(X, y)\n",
    "variable_importance = pipe_cv.steps[-1][-1].feature_importances_\n",
    "sorter = variable_importance.argsort()\n",
    "\n",
    "feat_imp_probe_ros = pd.DataFrame(np.array([features,variable_importance]).T, \n",
    "                           columns = ['features', 'value']).sort_values('value', ascending = False)\n",
    "\n",
    "sns.scatterplot(x = feat_imp_probe_ros.value, y =feat_imp_probe_ros.features)\n",
    "plt.title(f'AUC = {np.mean(df_auc.auc)}')\n",
    "plt.show()\n",
    "\n",
    "\n",
    "# score, perm_scores, pvalue = permutation_test_score(\n",
    "#     pipe_cv, X, y, scoring=\"roc_auc\", cv=cv, n_permutations=n_permutations, random_state = 42, n_jobs= -1\n",
    "# )\n",
    "\n",
    "\n",
    "# print(f\"p_value = {pvalue}\")\n",
    "\n",
    "# plt.hist(perm_scores, bins=20, density=True)\n",
    "# plt.axvline(score, ls=\"--\", color=\"r\")\n",
    "# score_label = (\n",
    "#     f\"Score on original\\ndata: {score:.2f}\\n\" f\"(p-value: {pvalue:.3f})\"\n",
    "# )\n",
    "# plt.text(score, np.max(perm_scores), score_label, fontsize=12)\n",
    "# plt.xlabel(\"Accuracy score\")\n",
    "# plt.ylabel(\"Probability\")\n",
    "# plt.show()"
   ]
  },
  {
   "cell_type": "code",
   "execution_count": null,
   "id": "differential-classification",
   "metadata": {},
   "outputs": [],
   "source": [
    "df_forest_probe_ros['balance'] = 'over-sample' \n",
    "df_forest_probe_rus['balance'] = 'under-sample' \n",
    "\n",
    "df_forest_probe = pd.concat([df_forest_probe_rus, df_forest_probe_ros])"
   ]
  },
  {
   "cell_type": "code",
   "execution_count": null,
   "id": "celtic-linux",
   "metadata": {},
   "outputs": [
    {
     "data": {
      "application/vnd.plotly.v1+json": {
       "config": {
        "plotlyServerURL": "https://plot.ly"
       },
       "data": [
        {
         "alignmentgroup": "True",
         "box": {
          "visible": true
         },
         "hovertemplate": "balance=under-sample<br>AUC=%{x}<extra></extra>",
         "legendgroup": "",
         "marker": {
          "color": "#F38A31"
         },
         "name": "",
         "offsetgroup": "",
         "orientation": "h",
         "points": "all",
         "scalegroup": "True",
         "showlegend": false,
         "type": "violin",
         "x": [
          0.5720175920835625,
          0.7345387840670861,
          0.7366898148148147,
          0.6814814814814815,
          0.7982517482517482
         ],
         "x0": " ",
         "xaxis": "x",
         "y0": " ",
         "yaxis": "y"
        },
        {
         "alignmentgroup": "True",
         "box": {
          "visible": true
         },
         "hovertemplate": "balance=over-sample<br>AUC=%{x}<extra></extra>",
         "legendgroup": "",
         "marker": {
          "color": "#F38A31"
         },
         "name": "",
         "offsetgroup": "",
         "orientation": "h",
         "points": "all",
         "scalegroup": "True",
         "showlegend": false,
         "type": "violin",
         "x": [
          0.5420560747663552,
          0.7927148846960167,
          0.7285879629629629,
          0.7134920634920635,
          0.7986013986013987
         ],
         "x0": " ",
         "xaxis": "x2",
         "y0": " ",
         "yaxis": "y2"
        }
       ],
       "layout": {
        "annotations": [
         {
          "showarrow": false,
          "text": "balance=under-sample",
          "x": 0.245,
          "xanchor": "center",
          "xref": "paper",
          "y": 1,
          "yanchor": "bottom",
          "yref": "paper"
         },
         {
          "showarrow": false,
          "text": "balance=over-sample",
          "x": 0.755,
          "xanchor": "center",
          "xref": "paper",
          "y": 1,
          "yanchor": "bottom",
          "yref": "paper"
         }
        ],
        "autosize": true,
        "height": 800,
        "legend": {
         "tracegroupgap": 0
        },
        "margin": {
         "t": 60
        },
        "shapes": [
         {
          "line": {
           "color": "grey",
           "dash": "dash",
           "width": 3
          },
          "type": "line",
          "x0": 0.5,
          "x1": 0.5,
          "xref": "x",
          "y0": 0,
          "y1": 1,
          "yref": "y domain"
         },
         {
          "line": {
           "color": "grey",
           "dash": "dash",
           "width": 3
          },
          "type": "line",
          "x0": 0.5,
          "x1": 0.5,
          "xref": "x2",
          "y0": 0,
          "y1": 1,
          "yref": "y2 domain"
         }
        ],
        "template": {
         "data": {
          "bar": [
           {
            "error_x": {
             "color": "#2a3f5f"
            },
            "error_y": {
             "color": "#2a3f5f"
            },
            "marker": {
             "line": {
              "color": "white",
              "width": 0.5
             }
            },
            "type": "bar"
           }
          ],
          "barpolar": [
           {
            "marker": {
             "line": {
              "color": "white",
              "width": 0.5
             }
            },
            "type": "barpolar"
           }
          ],
          "carpet": [
           {
            "aaxis": {
             "endlinecolor": "#2a3f5f",
             "gridcolor": "#C8D4E3",
             "linecolor": "#C8D4E3",
             "minorgridcolor": "#C8D4E3",
             "startlinecolor": "#2a3f5f"
            },
            "baxis": {
             "endlinecolor": "#2a3f5f",
             "gridcolor": "#C8D4E3",
             "linecolor": "#C8D4E3",
             "minorgridcolor": "#C8D4E3",
             "startlinecolor": "#2a3f5f"
            },
            "type": "carpet"
           }
          ],
          "choropleth": [
           {
            "colorbar": {
             "outlinewidth": 0,
             "ticks": ""
            },
            "type": "choropleth"
           }
          ],
          "contour": [
           {
            "colorbar": {
             "outlinewidth": 0,
             "ticks": ""
            },
            "colorscale": [
             [
              0,
              "#0d0887"
             ],
             [
              0.1111111111111111,
              "#46039f"
             ],
             [
              0.2222222222222222,
              "#7201a8"
             ],
             [
              0.3333333333333333,
              "#9c179e"
             ],
             [
              0.4444444444444444,
              "#bd3786"
             ],
             [
              0.5555555555555556,
              "#d8576b"
             ],
             [
              0.6666666666666666,
              "#ed7953"
             ],
             [
              0.7777777777777778,
              "#fb9f3a"
             ],
             [
              0.8888888888888888,
              "#fdca26"
             ],
             [
              1,
              "#f0f921"
             ]
            ],
            "type": "contour"
           }
          ],
          "contourcarpet": [
           {
            "colorbar": {
             "outlinewidth": 0,
             "ticks": ""
            },
            "type": "contourcarpet"
           }
          ],
          "heatmap": [
           {
            "colorbar": {
             "outlinewidth": 0,
             "ticks": ""
            },
            "colorscale": [
             [
              0,
              "#0d0887"
             ],
             [
              0.1111111111111111,
              "#46039f"
             ],
             [
              0.2222222222222222,
              "#7201a8"
             ],
             [
              0.3333333333333333,
              "#9c179e"
             ],
             [
              0.4444444444444444,
              "#bd3786"
             ],
             [
              0.5555555555555556,
              "#d8576b"
             ],
             [
              0.6666666666666666,
              "#ed7953"
             ],
             [
              0.7777777777777778,
              "#fb9f3a"
             ],
             [
              0.8888888888888888,
              "#fdca26"
             ],
             [
              1,
              "#f0f921"
             ]
            ],
            "type": "heatmap"
           }
          ],
          "heatmapgl": [
           {
            "colorbar": {
             "outlinewidth": 0,
             "ticks": ""
            },
            "colorscale": [
             [
              0,
              "#0d0887"
             ],
             [
              0.1111111111111111,
              "#46039f"
             ],
             [
              0.2222222222222222,
              "#7201a8"
             ],
             [
              0.3333333333333333,
              "#9c179e"
             ],
             [
              0.4444444444444444,
              "#bd3786"
             ],
             [
              0.5555555555555556,
              "#d8576b"
             ],
             [
              0.6666666666666666,
              "#ed7953"
             ],
             [
              0.7777777777777778,
              "#fb9f3a"
             ],
             [
              0.8888888888888888,
              "#fdca26"
             ],
             [
              1,
              "#f0f921"
             ]
            ],
            "type": "heatmapgl"
           }
          ],
          "histogram": [
           {
            "marker": {
             "colorbar": {
              "outlinewidth": 0,
              "ticks": ""
             }
            },
            "type": "histogram"
           }
          ],
          "histogram2d": [
           {
            "colorbar": {
             "outlinewidth": 0,
             "ticks": ""
            },
            "colorscale": [
             [
              0,
              "#0d0887"
             ],
             [
              0.1111111111111111,
              "#46039f"
             ],
             [
              0.2222222222222222,
              "#7201a8"
             ],
             [
              0.3333333333333333,
              "#9c179e"
             ],
             [
              0.4444444444444444,
              "#bd3786"
             ],
             [
              0.5555555555555556,
              "#d8576b"
             ],
             [
              0.6666666666666666,
              "#ed7953"
             ],
             [
              0.7777777777777778,
              "#fb9f3a"
             ],
             [
              0.8888888888888888,
              "#fdca26"
             ],
             [
              1,
              "#f0f921"
             ]
            ],
            "type": "histogram2d"
           }
          ],
          "histogram2dcontour": [
           {
            "colorbar": {
             "outlinewidth": 0,
             "ticks": ""
            },
            "colorscale": [
             [
              0,
              "#0d0887"
             ],
             [
              0.1111111111111111,
              "#46039f"
             ],
             [
              0.2222222222222222,
              "#7201a8"
             ],
             [
              0.3333333333333333,
              "#9c179e"
             ],
             [
              0.4444444444444444,
              "#bd3786"
             ],
             [
              0.5555555555555556,
              "#d8576b"
             ],
             [
              0.6666666666666666,
              "#ed7953"
             ],
             [
              0.7777777777777778,
              "#fb9f3a"
             ],
             [
              0.8888888888888888,
              "#fdca26"
             ],
             [
              1,
              "#f0f921"
             ]
            ],
            "type": "histogram2dcontour"
           }
          ],
          "mesh3d": [
           {
            "colorbar": {
             "outlinewidth": 0,
             "ticks": ""
            },
            "type": "mesh3d"
           }
          ],
          "parcoords": [
           {
            "line": {
             "colorbar": {
              "outlinewidth": 0,
              "ticks": ""
             }
            },
            "type": "parcoords"
           }
          ],
          "pie": [
           {
            "automargin": true,
            "type": "pie"
           }
          ],
          "scatter": [
           {
            "marker": {
             "colorbar": {
              "outlinewidth": 0,
              "ticks": ""
             }
            },
            "type": "scatter"
           }
          ],
          "scatter3d": [
           {
            "line": {
             "colorbar": {
              "outlinewidth": 0,
              "ticks": ""
             }
            },
            "marker": {
             "colorbar": {
              "outlinewidth": 0,
              "ticks": ""
             }
            },
            "type": "scatter3d"
           }
          ],
          "scattercarpet": [
           {
            "marker": {
             "colorbar": {
              "outlinewidth": 0,
              "ticks": ""
             }
            },
            "type": "scattercarpet"
           }
          ],
          "scattergeo": [
           {
            "marker": {
             "colorbar": {
              "outlinewidth": 0,
              "ticks": ""
             }
            },
            "type": "scattergeo"
           }
          ],
          "scattergl": [
           {
            "marker": {
             "colorbar": {
              "outlinewidth": 0,
              "ticks": ""
             }
            },
            "type": "scattergl"
           }
          ],
          "scattermapbox": [
           {
            "marker": {
             "colorbar": {
              "outlinewidth": 0,
              "ticks": ""
             }
            },
            "type": "scattermapbox"
           }
          ],
          "scatterpolar": [
           {
            "marker": {
             "colorbar": {
              "outlinewidth": 0,
              "ticks": ""
             }
            },
            "type": "scatterpolar"
           }
          ],
          "scatterpolargl": [
           {
            "marker": {
             "colorbar": {
              "outlinewidth": 0,
              "ticks": ""
             }
            },
            "type": "scatterpolargl"
           }
          ],
          "scatterternary": [
           {
            "marker": {
             "colorbar": {
              "outlinewidth": 0,
              "ticks": ""
             }
            },
            "type": "scatterternary"
           }
          ],
          "surface": [
           {
            "colorbar": {
             "outlinewidth": 0,
             "ticks": ""
            },
            "colorscale": [
             [
              0,
              "#0d0887"
             ],
             [
              0.1111111111111111,
              "#46039f"
             ],
             [
              0.2222222222222222,
              "#7201a8"
             ],
             [
              0.3333333333333333,
              "#9c179e"
             ],
             [
              0.4444444444444444,
              "#bd3786"
             ],
             [
              0.5555555555555556,
              "#d8576b"
             ],
             [
              0.6666666666666666,
              "#ed7953"
             ],
             [
              0.7777777777777778,
              "#fb9f3a"
             ],
             [
              0.8888888888888888,
              "#fdca26"
             ],
             [
              1,
              "#f0f921"
             ]
            ],
            "type": "surface"
           }
          ],
          "table": [
           {
            "cells": {
             "fill": {
              "color": "#EBF0F8"
             },
             "line": {
              "color": "white"
             }
            },
            "header": {
             "fill": {
              "color": "#C8D4E3"
             },
             "line": {
              "color": "white"
             }
            },
            "type": "table"
           }
          ]
         },
         "layout": {
          "annotationdefaults": {
           "arrowcolor": "#2a3f5f",
           "arrowhead": 0,
           "arrowwidth": 1
          },
          "autotypenumbers": "strict",
          "coloraxis": {
           "colorbar": {
            "outlinewidth": 0,
            "ticks": ""
           }
          },
          "colorscale": {
           "diverging": [
            [
             0,
             "#8e0152"
            ],
            [
             0.1,
             "#c51b7d"
            ],
            [
             0.2,
             "#de77ae"
            ],
            [
             0.3,
             "#f1b6da"
            ],
            [
             0.4,
             "#fde0ef"
            ],
            [
             0.5,
             "#f7f7f7"
            ],
            [
             0.6,
             "#e6f5d0"
            ],
            [
             0.7,
             "#b8e186"
            ],
            [
             0.8,
             "#7fbc41"
            ],
            [
             0.9,
             "#4d9221"
            ],
            [
             1,
             "#276419"
            ]
           ],
           "sequential": [
            [
             0,
             "#0d0887"
            ],
            [
             0.1111111111111111,
             "#46039f"
            ],
            [
             0.2222222222222222,
             "#7201a8"
            ],
            [
             0.3333333333333333,
             "#9c179e"
            ],
            [
             0.4444444444444444,
             "#bd3786"
            ],
            [
             0.5555555555555556,
             "#d8576b"
            ],
            [
             0.6666666666666666,
             "#ed7953"
            ],
            [
             0.7777777777777778,
             "#fb9f3a"
            ],
            [
             0.8888888888888888,
             "#fdca26"
            ],
            [
             1,
             "#f0f921"
            ]
           ],
           "sequentialminus": [
            [
             0,
             "#0d0887"
            ],
            [
             0.1111111111111111,
             "#46039f"
            ],
            [
             0.2222222222222222,
             "#7201a8"
            ],
            [
             0.3333333333333333,
             "#9c179e"
            ],
            [
             0.4444444444444444,
             "#bd3786"
            ],
            [
             0.5555555555555556,
             "#d8576b"
            ],
            [
             0.6666666666666666,
             "#ed7953"
            ],
            [
             0.7777777777777778,
             "#fb9f3a"
            ],
            [
             0.8888888888888888,
             "#fdca26"
            ],
            [
             1,
             "#f0f921"
            ]
           ]
          },
          "colorway": [
           "#636efa",
           "#EF553B",
           "#00cc96",
           "#ab63fa",
           "#FFA15A",
           "#19d3f3",
           "#FF6692",
           "#B6E880",
           "#FF97FF",
           "#FECB52"
          ],
          "font": {
           "color": "#2a3f5f"
          },
          "geo": {
           "bgcolor": "white",
           "lakecolor": "white",
           "landcolor": "white",
           "showlakes": true,
           "showland": true,
           "subunitcolor": "#C8D4E3"
          },
          "hoverlabel": {
           "align": "left"
          },
          "hovermode": "closest",
          "mapbox": {
           "style": "light"
          },
          "paper_bgcolor": "white",
          "plot_bgcolor": "white",
          "polar": {
           "angularaxis": {
            "gridcolor": "#EBF0F8",
            "linecolor": "#EBF0F8",
            "ticks": ""
           },
           "bgcolor": "white",
           "radialaxis": {
            "gridcolor": "#EBF0F8",
            "linecolor": "#EBF0F8",
            "ticks": ""
           }
          },
          "scene": {
           "xaxis": {
            "backgroundcolor": "white",
            "gridcolor": "#DFE8F3",
            "gridwidth": 2,
            "linecolor": "#EBF0F8",
            "showbackground": true,
            "ticks": "",
            "zerolinecolor": "#EBF0F8"
           },
           "yaxis": {
            "backgroundcolor": "white",
            "gridcolor": "#DFE8F3",
            "gridwidth": 2,
            "linecolor": "#EBF0F8",
            "showbackground": true,
            "ticks": "",
            "zerolinecolor": "#EBF0F8"
           },
           "zaxis": {
            "backgroundcolor": "white",
            "gridcolor": "#DFE8F3",
            "gridwidth": 2,
            "linecolor": "#EBF0F8",
            "showbackground": true,
            "ticks": "",
            "zerolinecolor": "#EBF0F8"
           }
          },
          "shapedefaults": {
           "line": {
            "color": "#2a3f5f"
           }
          },
          "ternary": {
           "aaxis": {
            "gridcolor": "#DFE8F3",
            "linecolor": "#A2B1C6",
            "ticks": ""
           },
           "baxis": {
            "gridcolor": "#DFE8F3",
            "linecolor": "#A2B1C6",
            "ticks": ""
           },
           "bgcolor": "white",
           "caxis": {
            "gridcolor": "#DFE8F3",
            "linecolor": "#A2B1C6",
            "ticks": ""
           }
          },
          "title": {
           "x": 0.05
          },
          "xaxis": {
           "automargin": true,
           "gridcolor": "#EBF0F8",
           "linecolor": "#EBF0F8",
           "ticks": "",
           "title": {
            "standoff": 15
           },
           "zerolinecolor": "#EBF0F8",
           "zerolinewidth": 2
          },
          "yaxis": {
           "automargin": true,
           "gridcolor": "#EBF0F8",
           "linecolor": "#EBF0F8",
           "ticks": "",
           "title": {
            "standoff": 15
           },
           "zerolinecolor": "#EBF0F8",
           "zerolinewidth": 2
          }
         }
        },
        "violinmode": "group",
        "width": 800,
        "xaxis": {
         "anchor": "y",
         "autorange": true,
         "domain": [
          0,
          0.49
         ],
         "range": [
          0.3715850934252868,
          0.9690723799424671
         ],
         "title": {
          "text": "AUC"
         },
         "type": "linear"
        },
        "xaxis2": {
         "anchor": "y2",
         "autorange": true,
         "domain": [
          0.51,
          1
         ],
         "matches": "x",
         "range": [
          0.3715850934252868,
          0.9690723799424671
         ],
         "title": {
          "text": "AUC"
         },
         "type": "linear"
        },
        "yaxis": {
         "anchor": "x",
         "autorange": true,
         "domain": [
          0,
          1
         ],
         "range": [
          -0.5985761421319796,
          0.5578197969543147
         ],
         "showticklabels": true,
         "tickmode": "linear",
         "title": {
          "text": "Whole model"
         },
         "type": "category"
        },
        "yaxis2": {
         "anchor": "x2",
         "autorange": true,
         "domain": [
          0,
          1
         ],
         "matches": "y",
         "range": [
          -0.5985761421319796,
          0.5578197969543147
         ],
         "showticklabels": false,
         "type": "category"
        }
       }
      },
      "image/png": "[encoded data removed]",
      "text/html": [
       "<div>                            <div id=\"7b3d8e01-5148-407f-afa3-db28e46ff680\" class=\"plotly-graph-div\" style=\"height:800px; width:800px;\"></div>            <script type=\"text/javascript\">                require([\"plotly\"], function(Plotly) {                    window.PLOTLYENV=window.PLOTLYENV || {};                                    if (document.getElementById(\"7b3d8e01-5148-407f-afa3-db28e46ff680\")) {                    Plotly.newPlot(                        \"7b3d8e01-5148-407f-afa3-db28e46ff680\",                        [{\"alignmentgroup\": \"True\", \"box\": {\"visible\": true}, \"hovertemplate\": \"balance=under-sample<br>AUC=%{x}<extra></extra>\", \"legendgroup\": \"\", \"marker\": {\"color\": \"#F38A31\"}, \"name\": \"\", \"offsetgroup\": \"\", \"orientation\": \"h\", \"points\": \"all\", \"scalegroup\": \"True\", \"showlegend\": false, \"type\": \"violin\", \"x\": [0.5720175920835625, 0.7345387840670861, 0.7366898148148147, 0.6814814814814815, 0.7982517482517482], \"x0\": \" \", \"xaxis\": \"x\", \"y0\": \" \", \"yaxis\": \"y\"}, {\"alignmentgroup\": \"True\", \"box\": {\"visible\": true}, \"hovertemplate\": \"balance=over-sample<br>AUC=%{x}<extra></extra>\", \"legendgroup\": \"\", \"marker\": {\"color\": \"#F38A31\"}, \"name\": \"\", \"offsetgroup\": \"\", \"orientation\": \"h\", \"points\": \"all\", \"scalegroup\": \"True\", \"showlegend\": false, \"type\": \"violin\", \"x\": [0.5420560747663552, 0.7927148846960167, 0.7285879629629629, 0.7134920634920635, 0.7986013986013987], \"x0\": \" \", \"xaxis\": \"x2\", \"y0\": \" \", \"yaxis\": \"y2\"}],                        {\"annotations\": [{\"showarrow\": false, \"text\": \"balance=under-sample\", \"x\": 0.245, \"xanchor\": \"center\", \"xref\": \"paper\", \"y\": 1.0, \"yanchor\": \"bottom\", \"yref\": \"paper\"}, {\"showarrow\": false, \"text\": \"balance=over-sample\", \"x\": 0.755, \"xanchor\": \"center\", \"xref\": \"paper\", \"y\": 1.0, \"yanchor\": \"bottom\", \"yref\": \"paper\"}], \"autosize\": true, \"height\": 800, \"legend\": {\"tracegroupgap\": 0}, \"margin\": {\"t\": 60}, \"shapes\": [{\"line\": {\"color\": \"grey\", \"dash\": \"dash\", \"width\": 3}, \"type\": \"line\", \"x0\": 0.5, \"x1\": 0.5, \"xref\": \"x\", \"y0\": 0, \"y1\": 1, \"yref\": \"y domain\"}, {\"line\": {\"color\": \"grey\", \"dash\": \"dash\", \"width\": 3}, \"type\": \"line\", \"x0\": 0.5, \"x1\": 0.5, \"xref\": \"x2\", \"y0\": 0, \"y1\": 1, \"yref\": \"y2 domain\"}], \"template\": {\"data\": {\"bar\": [{\"error_x\": {\"color\": \"#2a3f5f\"}, \"error_y\": {\"color\": \"#2a3f5f\"}, \"marker\": {\"line\": {\"color\": \"white\", \"width\": 0.5}}, \"type\": \"bar\"}], \"barpolar\": [{\"marker\": {\"line\": {\"color\": \"white\", \"width\": 0.5}}, \"type\": \"barpolar\"}], \"carpet\": [{\"aaxis\": {\"endlinecolor\": \"#2a3f5f\", \"gridcolor\": \"#C8D4E3\", \"linecolor\": \"#C8D4E3\", \"minorgridcolor\": \"#C8D4E3\", \"startlinecolor\": \"#2a3f5f\"}, \"baxis\": {\"endlinecolor\": \"#2a3f5f\", \"gridcolor\": \"#C8D4E3\", \"linecolor\": \"#C8D4E3\", \"minorgridcolor\": \"#C8D4E3\", \"startlinecolor\": \"#2a3f5f\"}, \"type\": \"carpet\"}], \"choropleth\": [{\"colorbar\": {\"outlinewidth\": 0, \"ticks\": \"\"}, \"type\": \"choropleth\"}], \"contour\": [{\"colorbar\": {\"outlinewidth\": 0, \"ticks\": \"\"}, \"colorscale\": [[0.0, \"#0d0887\"], [0.1111111111111111, \"#46039f\"], [0.2222222222222222, \"#7201a8\"], [0.3333333333333333, \"#9c179e\"], [0.4444444444444444, \"#bd3786\"], [0.5555555555555556, \"#d8576b\"], [0.6666666666666666, \"#ed7953\"], [0.7777777777777778, \"#fb9f3a\"], [0.8888888888888888, \"#fdca26\"], [1.0, \"#f0f921\"]], \"type\": \"contour\"}], \"contourcarpet\": [{\"colorbar\": {\"outlinewidth\": 0, \"ticks\": \"\"}, \"type\": \"contourcarpet\"}], \"heatmap\": [{\"colorbar\": {\"outlinewidth\": 0, \"ticks\": \"\"}, \"colorscale\": [[0.0, \"#0d0887\"], [0.1111111111111111, \"#46039f\"], [0.2222222222222222, \"#7201a8\"], [0.3333333333333333, \"#9c179e\"], [0.4444444444444444, \"#bd3786\"], [0.5555555555555556, \"#d8576b\"], [0.6666666666666666, \"#ed7953\"], [0.7777777777777778, \"#fb9f3a\"], [0.8888888888888888, \"#fdca26\"], [1.0, \"#f0f921\"]], \"type\": \"heatmap\"}], \"heatmapgl\": [{\"colorbar\": {\"outlinewidth\": 0, \"ticks\": \"\"}, \"colorscale\": [[0.0, \"#0d0887\"], [0.1111111111111111, \"#46039f\"], [0.2222222222222222, \"#7201a8\"], [0.3333333333333333, \"#9c179e\"], [0.4444444444444444, \"#bd3786\"], [0.5555555555555556, \"#d8576b\"], [0.6666666666666666, \"#ed7953\"], [0.7777777777777778, \"#fb9f3a\"], [0.8888888888888888, \"#fdca26\"], [1.0, \"#f0f921\"]], \"type\": \"heatmapgl\"}], \"histogram\": [{\"marker\": {\"colorbar\": {\"outlinewidth\": 0, \"ticks\": \"\"}}, \"type\": \"histogram\"}], \"histogram2d\": [{\"colorbar\": {\"outlinewidth\": 0, \"ticks\": \"\"}, \"colorscale\": [[0.0, \"#0d0887\"], [0.1111111111111111, \"#46039f\"], [0.2222222222222222, \"#7201a8\"], [0.3333333333333333, \"#9c179e\"], [0.4444444444444444, \"#bd3786\"], [0.5555555555555556, \"#d8576b\"], [0.6666666666666666, \"#ed7953\"], [0.7777777777777778, \"#fb9f3a\"], [0.8888888888888888, \"#fdca26\"], [1.0, \"#f0f921\"]], \"type\": \"histogram2d\"}], \"histogram2dcontour\": [{\"colorbar\": {\"outlinewidth\": 0, \"ticks\": \"\"}, \"colorscale\": [[0.0, \"#0d0887\"], [0.1111111111111111, \"#46039f\"], [0.2222222222222222, \"#7201a8\"], [0.3333333333333333, \"#9c179e\"], [0.4444444444444444, \"#bd3786\"], [0.5555555555555556, \"#d8576b\"], [0.6666666666666666, \"#ed7953\"], [0.7777777777777778, \"#fb9f3a\"], [0.8888888888888888, \"#fdca26\"], [1.0, \"#f0f921\"]], \"type\": \"histogram2dcontour\"}], \"mesh3d\": [{\"colorbar\": {\"outlinewidth\": 0, \"ticks\": \"\"}, \"type\": \"mesh3d\"}], \"parcoords\": [{\"line\": {\"colorbar\": {\"outlinewidth\": 0, \"ticks\": \"\"}}, \"type\": \"parcoords\"}], \"pie\": [{\"automargin\": true, \"type\": \"pie\"}], \"scatter\": [{\"marker\": {\"colorbar\": {\"outlinewidth\": 0, \"ticks\": \"\"}}, \"type\": \"scatter\"}], \"scatter3d\": [{\"line\": {\"colorbar\": {\"outlinewidth\": 0, \"ticks\": \"\"}}, \"marker\": {\"colorbar\": {\"outlinewidth\": 0, \"ticks\": \"\"}}, \"type\": \"scatter3d\"}], \"scattercarpet\": [{\"marker\": {\"colorbar\": {\"outlinewidth\": 0, \"ticks\": \"\"}}, \"type\": \"scattercarpet\"}], \"scattergeo\": [{\"marker\": {\"colorbar\": {\"outlinewidth\": 0, \"ticks\": \"\"}}, \"type\": \"scattergeo\"}], \"scattergl\": [{\"marker\": {\"colorbar\": {\"outlinewidth\": 0, \"ticks\": \"\"}}, \"type\": \"scattergl\"}], \"scattermapbox\": [{\"marker\": {\"colorbar\": {\"outlinewidth\": 0, \"ticks\": \"\"}}, \"type\": \"scattermapbox\"}], \"scatterpolar\": [{\"marker\": {\"colorbar\": {\"outlinewidth\": 0, \"ticks\": \"\"}}, \"type\": \"scatterpolar\"}], \"scatterpolargl\": [{\"marker\": {\"colorbar\": {\"outlinewidth\": 0, \"ticks\": \"\"}}, \"type\": \"scatterpolargl\"}], \"scatterternary\": [{\"marker\": {\"colorbar\": {\"outlinewidth\": 0, \"ticks\": \"\"}}, \"type\": \"scatterternary\"}], \"surface\": [{\"colorbar\": {\"outlinewidth\": 0, \"ticks\": \"\"}, \"colorscale\": [[0.0, \"#0d0887\"], [0.1111111111111111, \"#46039f\"], [0.2222222222222222, \"#7201a8\"], [0.3333333333333333, \"#9c179e\"], [0.4444444444444444, \"#bd3786\"], [0.5555555555555556, \"#d8576b\"], [0.6666666666666666, \"#ed7953\"], [0.7777777777777778, \"#fb9f3a\"], [0.8888888888888888, \"#fdca26\"], [1.0, \"#f0f921\"]], \"type\": \"surface\"}], \"table\": [{\"cells\": {\"fill\": {\"color\": \"#EBF0F8\"}, \"line\": {\"color\": \"white\"}}, \"header\": {\"fill\": {\"color\": \"#C8D4E3\"}, \"line\": {\"color\": \"white\"}}, \"type\": \"table\"}]}, \"layout\": {\"annotationdefaults\": {\"arrowcolor\": \"#2a3f5f\", \"arrowhead\": 0, \"arrowwidth\": 1}, \"autotypenumbers\": \"strict\", \"coloraxis\": {\"colorbar\": {\"outlinewidth\": 0, \"ticks\": \"\"}}, \"colorscale\": {\"diverging\": [[0, \"#8e0152\"], [0.1, \"#c51b7d\"], [0.2, \"#de77ae\"], [0.3, \"#f1b6da\"], [0.4, \"#fde0ef\"], [0.5, \"#f7f7f7\"], [0.6, \"#e6f5d0\"], [0.7, \"#b8e186\"], [0.8, \"#7fbc41\"], [0.9, \"#4d9221\"], [1, \"#276419\"]], \"sequential\": [[0.0, \"#0d0887\"], [0.1111111111111111, \"#46039f\"], [0.2222222222222222, \"#7201a8\"], [0.3333333333333333, \"#9c179e\"], [0.4444444444444444, \"#bd3786\"], [0.5555555555555556, \"#d8576b\"], [0.6666666666666666, \"#ed7953\"], [0.7777777777777778, \"#fb9f3a\"], [0.8888888888888888, \"#fdca26\"], [1.0, \"#f0f921\"]], \"sequentialminus\": [[0.0, \"#0d0887\"], [0.1111111111111111, \"#46039f\"], [0.2222222222222222, \"#7201a8\"], [0.3333333333333333, \"#9c179e\"], [0.4444444444444444, \"#bd3786\"], [0.5555555555555556, \"#d8576b\"], [0.6666666666666666, \"#ed7953\"], [0.7777777777777778, \"#fb9f3a\"], [0.8888888888888888, \"#fdca26\"], [1.0, \"#f0f921\"]]}, \"colorway\": [\"#636efa\", \"#EF553B\", \"#00cc96\", \"#ab63fa\", \"#FFA15A\", \"#19d3f3\", \"#FF6692\", \"#B6E880\", \"#FF97FF\", \"#FECB52\"], \"font\": {\"color\": \"#2a3f5f\"}, \"geo\": {\"bgcolor\": \"white\", \"lakecolor\": \"white\", \"landcolor\": \"white\", \"showlakes\": true, \"showland\": true, \"subunitcolor\": \"#C8D4E3\"}, \"hoverlabel\": {\"align\": \"left\"}, \"hovermode\": \"closest\", \"mapbox\": {\"style\": \"light\"}, \"paper_bgcolor\": \"white\", \"plot_bgcolor\": \"white\", \"polar\": {\"angularaxis\": {\"gridcolor\": \"#EBF0F8\", \"linecolor\": \"#EBF0F8\", \"ticks\": \"\"}, \"bgcolor\": \"white\", \"radialaxis\": {\"gridcolor\": \"#EBF0F8\", \"linecolor\": \"#EBF0F8\", \"ticks\": \"\"}}, \"scene\": {\"xaxis\": {\"backgroundcolor\": \"white\", \"gridcolor\": \"#DFE8F3\", \"gridwidth\": 2, \"linecolor\": \"#EBF0F8\", \"showbackground\": true, \"ticks\": \"\", \"zerolinecolor\": \"#EBF0F8\"}, \"yaxis\": {\"backgroundcolor\": \"white\", \"gridcolor\": \"#DFE8F3\", \"gridwidth\": 2, \"linecolor\": \"#EBF0F8\", \"showbackground\": true, \"ticks\": \"\", \"zerolinecolor\": \"#EBF0F8\"}, \"zaxis\": {\"backgroundcolor\": \"white\", \"gridcolor\": \"#DFE8F3\", \"gridwidth\": 2, \"linecolor\": \"#EBF0F8\", \"showbackground\": true, \"ticks\": \"\", \"zerolinecolor\": \"#EBF0F8\"}}, \"shapedefaults\": {\"line\": {\"color\": \"#2a3f5f\"}}, \"ternary\": {\"aaxis\": {\"gridcolor\": \"#DFE8F3\", \"linecolor\": \"#A2B1C6\", \"ticks\": \"\"}, \"baxis\": {\"gridcolor\": \"#DFE8F3\", \"linecolor\": \"#A2B1C6\", \"ticks\": \"\"}, \"bgcolor\": \"white\", \"caxis\": {\"gridcolor\": \"#DFE8F3\", \"linecolor\": \"#A2B1C6\", \"ticks\": \"\"}}, \"title\": {\"x\": 0.05}, \"xaxis\": {\"automargin\": true, \"gridcolor\": \"#EBF0F8\", \"linecolor\": \"#EBF0F8\", \"ticks\": \"\", \"title\": {\"standoff\": 15}, \"zerolinecolor\": \"#EBF0F8\", \"zerolinewidth\": 2}, \"yaxis\": {\"automargin\": true, \"gridcolor\": \"#EBF0F8\", \"linecolor\": \"#EBF0F8\", \"ticks\": \"\", \"title\": {\"standoff\": 15}, \"zerolinecolor\": \"#EBF0F8\", \"zerolinewidth\": 2}}}, \"violinmode\": \"group\", \"width\": 800, \"xaxis\": {\"anchor\": \"y\", \"domain\": [0.0, 0.49], \"range\": [0.2, 1], \"title\": {\"text\": \"AUC\"}}, \"xaxis2\": {\"anchor\": \"y2\", \"domain\": [0.51, 1.0], \"matches\": \"x\", \"title\": {\"text\": \"AUC\"}}, \"yaxis\": {\"anchor\": \"x\", \"domain\": [0.0, 1.0], \"showticklabels\": true, \"tickmode\": \"linear\", \"title\": {\"text\": \"Whole model\"}}, \"yaxis2\": {\"anchor\": \"x2\", \"domain\": [0.0, 1.0], \"matches\": \"y\", \"showticklabels\": false}},                        {\"responsive\": true}                    ).then(function(){\n",
       "                            \n",
       "var gd = document.getElementById('7b3d8e01-5148-407f-afa3-db28e46ff680');\n",
       "var x = new MutationObserver(function (mutations, observer) {{\n",
       "        var display = window.getComputedStyle(gd).display;\n",
       "        if (!display || display === 'none') {{\n",
       "            console.log([gd, 'removed!']);\n",
       "            Plotly.purge(gd);\n",
       "            observer.disconnect();\n",
       "        }}\n",
       "}});\n",
       "\n",
       "// Listen for the removal of the full notebook cells\n",
       "var notebookContainer = gd.closest('#notebook-container');\n",
       "if (notebookContainer) {{\n",
       "    x.observe(notebookContainer, {childList: true});\n",
       "}}\n",
       "\n",
       "// Listen for the clearing of the current output cell\n",
       "var outputEl = gd.closest('.output');\n",
       "if (outputEl) {{\n",
       "    x.observe(outputEl, {childList: true});\n",
       "}}\n",
       "\n",
       "                        })                };                });            </script>        </div>"
      ]
     },
     "metadata": {},
     "output_type": "display_data"
    }
   ],
   "source": [
    "fig =px.violin(df_forest_probe, x = 'auc', box = True, points = 'all',template = \"plotly_white\", \n",
    "               color_discrete_sequence = [orange, green], labels = {'auc': 'AUC'},\n",
    "              facet_col = 'balance')\n",
    "fig.add_vline(x=0.5, line_width=3, line_dash=\"dash\", line_color=\"grey\")\n",
    "\n",
    "fig.update_layout(\n",
    "#     title = f'Mean AUC = {df_forest_mw.auc.mean()}',\n",
    "    autosize=True,\n",
    "    width=800,\n",
    "    height=800,\n",
    "    yaxis = {'title': 'Whole model',\n",
    "            'showticklabels': True,\n",
    "            'tickmode': 'linear',},\n",
    "    xaxis ={\n",
    "             'range':[0.2, 1]\n",
    "        }\n",
    ")\n",
    "fig.show()"
   ]
  },
  {
   "cell_type": "code",
   "execution_count": null,
   "id": "front-oliver",
   "metadata": {},
   "outputs": [
    {
     "data": {
      "application/vnd.plotly.v1+json": {
       "config": {
        "plotlyServerURL": "https://plot.ly"
       },
       "data": [
        {
         "hovertemplate": "Feature importance=%{x}<br>Markers=%{y}<extra></extra>",
         "legendgroup": "",
         "marker": {
          "color": "#F38A31",
          "size": 8,
          "symbol": "circle"
         },
         "mode": "markers",
         "name": "",
         "orientation": "v",
         "showlegend": false,
         "type": "scatter",
         "x": [
          0.01676044978157263,
          0.016795480591685962,
          0.016810757333093656,
          0.01689426212337079,
          0.017044410450741683,
          0.01705098932547984,
          0.017065654572275657,
          0.017074534321304864,
          0.017094255226554438,
          0.017178724828783055,
          0.017280244979691606,
          0.01728336809729247,
          0.01738754650884702,
          0.01750834528406582,
          0.017529883989904627,
          0.01769412671735985,
          0.0177115189122118,
          0.01772030017342686,
          0.017791068331417262,
          0.01781547448400655,
          0.017836625843572478,
          0.01792462311760852,
          0.018118020529761355,
          0.01816090555096711,
          0.018261071168618657,
          0.018330273259140294,
          0.01833821882628511,
          0.018381191921703583,
          0.018439902460658734,
          0.01856118478624442,
          0.018562264523933017,
          0.018571566026058726,
          0.018658710723617578,
          0.018660880328254484,
          0.01873008090373685,
          0.018831943054353786,
          0.01884717728074599,
          0.018929581865704995,
          0.019075275116400857,
          0.019202565168736533,
          0.01940327057137399,
          0.019420999996320864,
          0.019562500193673584,
          0.01958419636285616,
          0.019690354852760418,
          0.01983372783036598,
          0.020124129731878073,
          0.020155686349985717,
          0.020409111384093313,
          0.02042191591969584,
          0.020461859067518927,
          0.021265134046356077,
          0.02177082062691051,
          0.021982834577020913
         ],
         "xaxis": "x",
         "y": [
          "$wSMI\\alpha_{mean}$",
          "$CNV_{std}$",
          "$PE\\theta_{std}$",
          "$\\delta_{std}$",
          "$SEF90_{std}$",
          "$|\\gamma|_{std}$",
          "$P1_{mean}$",
          "$P1_{std}$",
          "$P3b_{mean}$",
          "$SEF95_{std}$",
          "$P3a_{mean}$",
          "$wSMI\\beta_{std}$",
          "$\\alpha_{std}$",
          "$|\\alpha|_{std}$",
          "$\\gamma_{std}$",
          "$\\theta_{std}$",
          "$|\\delta|_{std}$",
          "$wSMI\\theta_{std}$",
          "$P3a_{std}$",
          "$wSMI\\alpha_{std}$",
          "$wSMI\\beta_{mean}$",
          "$PE\\beta_{std}$",
          "$MSF_{std}$",
          "$SE_{std}$",
          "$P3b_{std}$",
          "$\\theta_{mean}$",
          "$MSF_{mean}$",
          "$\\delta_{mean}$",
          "$K_{std}$",
          "$wSMI\\gamma_{std}$",
          "$SE_{mean}$",
          "$\\beta_{std}$",
          "$PE\\beta_{mean}$",
          "$|\\beta|_{mean}$",
          "$|\\beta|_{std}$",
          "$wSMI\\theta_{mean}$",
          "$SEF90_{mean}$",
          "$PE\\gamma_{std}$",
          "$PE\\alpha_{std}$",
          "$PE\\theta_{mean}$",
          "$PE\\gamma_{mean}$",
          "$SEF95_{mean}$",
          "$wSMI\\gamma_{mean}$",
          "$K_{mean}$",
          "$|\\gamma|_{mean}$",
          "$|\\delta|_{mean}$",
          "$|\\alpha|_{mean}$",
          "$|\\theta|_{mean}$",
          "$\\beta_{mean}$",
          "$\\alpha_{mean}$",
          "$PE\\alpha_{mean}$",
          "$\\gamma_{mean}$",
          "$CNV_{mean}$",
          "$|\\theta|_{std}$"
         ],
         "yaxis": "y"
        }
       ],
       "layout": {
        "autosize": false,
        "height": 1000,
        "legend": {
         "tracegroupgap": 0
        },
        "margin": {
         "t": 60
        },
        "template": {
         "data": {
          "bar": [
           {
            "error_x": {
             "color": "#2a3f5f"
            },
            "error_y": {
             "color": "#2a3f5f"
            },
            "marker": {
             "line": {
              "color": "white",
              "width": 0.5
             }
            },
            "type": "bar"
           }
          ],
          "barpolar": [
           {
            "marker": {
             "line": {
              "color": "white",
              "width": 0.5
             }
            },
            "type": "barpolar"
           }
          ],
          "carpet": [
           {
            "aaxis": {
             "endlinecolor": "#2a3f5f",
             "gridcolor": "#C8D4E3",
             "linecolor": "#C8D4E3",
             "minorgridcolor": "#C8D4E3",
             "startlinecolor": "#2a3f5f"
            },
            "baxis": {
             "endlinecolor": "#2a3f5f",
             "gridcolor": "#C8D4E3",
             "linecolor": "#C8D4E3",
             "minorgridcolor": "#C8D4E3",
             "startlinecolor": "#2a3f5f"
            },
            "type": "carpet"
           }
          ],
          "choropleth": [
           {
            "colorbar": {
             "outlinewidth": 0,
             "ticks": ""
            },
            "type": "choropleth"
           }
          ],
          "contour": [
           {
            "colorbar": {
             "outlinewidth": 0,
             "ticks": ""
            },
            "colorscale": [
             [
              0,
              "#0d0887"
             ],
             [
              0.1111111111111111,
              "#46039f"
             ],
             [
              0.2222222222222222,
              "#7201a8"
             ],
             [
              0.3333333333333333,
              "#9c179e"
             ],
             [
              0.4444444444444444,
              "#bd3786"
             ],
             [
              0.5555555555555556,
              "#d8576b"
             ],
             [
              0.6666666666666666,
              "#ed7953"
             ],
             [
              0.7777777777777778,
              "#fb9f3a"
             ],
             [
              0.8888888888888888,
              "#fdca26"
             ],
             [
              1,
              "#f0f921"
             ]
            ],
            "type": "contour"
           }
          ],
          "contourcarpet": [
           {
            "colorbar": {
             "outlinewidth": 0,
             "ticks": ""
            },
            "type": "contourcarpet"
           }
          ],
          "heatmap": [
           {
            "colorbar": {
             "outlinewidth": 0,
             "ticks": ""
            },
            "colorscale": [
             [
              0,
              "#0d0887"
             ],
             [
              0.1111111111111111,
              "#46039f"
             ],
             [
              0.2222222222222222,
              "#7201a8"
             ],
             [
              0.3333333333333333,
              "#9c179e"
             ],
             [
              0.4444444444444444,
              "#bd3786"
             ],
             [
              0.5555555555555556,
              "#d8576b"
             ],
             [
              0.6666666666666666,
              "#ed7953"
             ],
             [
              0.7777777777777778,
              "#fb9f3a"
             ],
             [
              0.8888888888888888,
              "#fdca26"
             ],
             [
              1,
              "#f0f921"
             ]
            ],
            "type": "heatmap"
           }
          ],
          "heatmapgl": [
           {
            "colorbar": {
             "outlinewidth": 0,
             "ticks": ""
            },
            "colorscale": [
             [
              0,
              "#0d0887"
             ],
             [
              0.1111111111111111,
              "#46039f"
             ],
             [
              0.2222222222222222,
              "#7201a8"
             ],
             [
              0.3333333333333333,
              "#9c179e"
             ],
             [
              0.4444444444444444,
              "#bd3786"
             ],
             [
              0.5555555555555556,
              "#d8576b"
             ],
             [
              0.6666666666666666,
              "#ed7953"
             ],
             [
              0.7777777777777778,
              "#fb9f3a"
             ],
             [
              0.8888888888888888,
              "#fdca26"
             ],
             [
              1,
              "#f0f921"
             ]
            ],
            "type": "heatmapgl"
           }
          ],
          "histogram": [
           {
            "marker": {
             "colorbar": {
              "outlinewidth": 0,
              "ticks": ""
             }
            },
            "type": "histogram"
           }
          ],
          "histogram2d": [
           {
            "colorbar": {
             "outlinewidth": 0,
             "ticks": ""
            },
            "colorscale": [
             [
              0,
              "#0d0887"
             ],
             [
              0.1111111111111111,
              "#46039f"
             ],
             [
              0.2222222222222222,
              "#7201a8"
             ],
             [
              0.3333333333333333,
              "#9c179e"
             ],
             [
              0.4444444444444444,
              "#bd3786"
             ],
             [
              0.5555555555555556,
              "#d8576b"
             ],
             [
              0.6666666666666666,
              "#ed7953"
             ],
             [
              0.7777777777777778,
              "#fb9f3a"
             ],
             [
              0.8888888888888888,
              "#fdca26"
             ],
             [
              1,
              "#f0f921"
             ]
            ],
            "type": "histogram2d"
           }
          ],
          "histogram2dcontour": [
           {
            "colorbar": {
             "outlinewidth": 0,
             "ticks": ""
            },
            "colorscale": [
             [
              0,
              "#0d0887"
             ],
             [
              0.1111111111111111,
              "#46039f"
             ],
             [
              0.2222222222222222,
              "#7201a8"
             ],
             [
              0.3333333333333333,
              "#9c179e"
             ],
             [
              0.4444444444444444,
              "#bd3786"
             ],
             [
              0.5555555555555556,
              "#d8576b"
             ],
             [
              0.6666666666666666,
              "#ed7953"
             ],
             [
              0.7777777777777778,
              "#fb9f3a"
             ],
             [
              0.8888888888888888,
              "#fdca26"
             ],
             [
              1,
              "#f0f921"
             ]
            ],
            "type": "histogram2dcontour"
           }
          ],
          "mesh3d": [
           {
            "colorbar": {
             "outlinewidth": 0,
             "ticks": ""
            },
            "type": "mesh3d"
           }
          ],
          "parcoords": [
           {
            "line": {
             "colorbar": {
              "outlinewidth": 0,
              "ticks": ""
             }
            },
            "type": "parcoords"
           }
          ],
          "pie": [
           {
            "automargin": true,
            "type": "pie"
           }
          ],
          "scatter": [
           {
            "marker": {
             "colorbar": {
              "outlinewidth": 0,
              "ticks": ""
             }
            },
            "type": "scatter"
           }
          ],
          "scatter3d": [
           {
            "line": {
             "colorbar": {
              "outlinewidth": 0,
              "ticks": ""
             }
            },
            "marker": {
             "colorbar": {
              "outlinewidth": 0,
              "ticks": ""
             }
            },
            "type": "scatter3d"
           }
          ],
          "scattercarpet": [
           {
            "marker": {
             "colorbar": {
              "outlinewidth": 0,
              "ticks": ""
             }
            },
            "type": "scattercarpet"
           }
          ],
          "scattergeo": [
           {
            "marker": {
             "colorbar": {
              "outlinewidth": 0,
              "ticks": ""
             }
            },
            "type": "scattergeo"
           }
          ],
          "scattergl": [
           {
            "marker": {
             "colorbar": {
              "outlinewidth": 0,
              "ticks": ""
             }
            },
            "type": "scattergl"
           }
          ],
          "scattermapbox": [
           {
            "marker": {
             "colorbar": {
              "outlinewidth": 0,
              "ticks": ""
             }
            },
            "type": "scattermapbox"
           }
          ],
          "scatterpolar": [
           {
            "marker": {
             "colorbar": {
              "outlinewidth": 0,
              "ticks": ""
             }
            },
            "type": "scatterpolar"
           }
          ],
          "scatterpolargl": [
           {
            "marker": {
             "colorbar": {
              "outlinewidth": 0,
              "ticks": ""
             }
            },
            "type": "scatterpolargl"
           }
          ],
          "scatterternary": [
           {
            "marker": {
             "colorbar": {
              "outlinewidth": 0,
              "ticks": ""
             }
            },
            "type": "scatterternary"
           }
          ],
          "surface": [
           {
            "colorbar": {
             "outlinewidth": 0,
             "ticks": ""
            },
            "colorscale": [
             [
              0,
              "#0d0887"
             ],
             [
              0.1111111111111111,
              "#46039f"
             ],
             [
              0.2222222222222222,
              "#7201a8"
             ],
             [
              0.3333333333333333,
              "#9c179e"
             ],
             [
              0.4444444444444444,
              "#bd3786"
             ],
             [
              0.5555555555555556,
              "#d8576b"
             ],
             [
              0.6666666666666666,
              "#ed7953"
             ],
             [
              0.7777777777777778,
              "#fb9f3a"
             ],
             [
              0.8888888888888888,
              "#fdca26"
             ],
             [
              1,
              "#f0f921"
             ]
            ],
            "type": "surface"
           }
          ],
          "table": [
           {
            "cells": {
             "fill": {
              "color": "#EBF0F8"
             },
             "line": {
              "color": "white"
             }
            },
            "header": {
             "fill": {
              "color": "#C8D4E3"
             },
             "line": {
              "color": "white"
             }
            },
            "type": "table"
           }
          ]
         },
         "layout": {
          "annotationdefaults": {
           "arrowcolor": "#2a3f5f",
           "arrowhead": 0,
           "arrowwidth": 1
          },
          "autotypenumbers": "strict",
          "coloraxis": {
           "colorbar": {
            "outlinewidth": 0,
            "ticks": ""
           }
          },
          "colorscale": {
           "diverging": [
            [
             0,
             "#8e0152"
            ],
            [
             0.1,
             "#c51b7d"
            ],
            [
             0.2,
             "#de77ae"
            ],
            [
             0.3,
             "#f1b6da"
            ],
            [
             0.4,
             "#fde0ef"
            ],
            [
             0.5,
             "#f7f7f7"
            ],
            [
             0.6,
             "#e6f5d0"
            ],
            [
             0.7,
             "#b8e186"
            ],
            [
             0.8,
             "#7fbc41"
            ],
            [
             0.9,
             "#4d9221"
            ],
            [
             1,
             "#276419"
            ]
           ],
           "sequential": [
            [
             0,
             "#0d0887"
            ],
            [
             0.1111111111111111,
             "#46039f"
            ],
            [
             0.2222222222222222,
             "#7201a8"
            ],
            [
             0.3333333333333333,
             "#9c179e"
            ],
            [
             0.4444444444444444,
             "#bd3786"
            ],
            [
             0.5555555555555556,
             "#d8576b"
            ],
            [
             0.6666666666666666,
             "#ed7953"
            ],
            [
             0.7777777777777778,
             "#fb9f3a"
            ],
            [
             0.8888888888888888,
             "#fdca26"
            ],
            [
             1,
             "#f0f921"
            ]
           ],
           "sequentialminus": [
            [
             0,
             "#0d0887"
            ],
            [
             0.1111111111111111,
             "#46039f"
            ],
            [
             0.2222222222222222,
             "#7201a8"
            ],
            [
             0.3333333333333333,
             "#9c179e"
            ],
            [
             0.4444444444444444,
             "#bd3786"
            ],
            [
             0.5555555555555556,
             "#d8576b"
            ],
            [
             0.6666666666666666,
             "#ed7953"
            ],
            [
             0.7777777777777778,
             "#fb9f3a"
            ],
            [
             0.8888888888888888,
             "#fdca26"
            ],
            [
             1,
             "#f0f921"
            ]
           ]
          },
          "colorway": [
           "#636efa",
           "#EF553B",
           "#00cc96",
           "#ab63fa",
           "#FFA15A",
           "#19d3f3",
           "#FF6692",
           "#B6E880",
           "#FF97FF",
           "#FECB52"
          ],
          "font": {
           "color": "#2a3f5f"
          },
          "geo": {
           "bgcolor": "white",
           "lakecolor": "white",
           "landcolor": "white",
           "showlakes": true,
           "showland": true,
           "subunitcolor": "#C8D4E3"
          },
          "hoverlabel": {
           "align": "left"
          },
          "hovermode": "closest",
          "mapbox": {
           "style": "light"
          },
          "paper_bgcolor": "white",
          "plot_bgcolor": "white",
          "polar": {
           "angularaxis": {
            "gridcolor": "#EBF0F8",
            "linecolor": "#EBF0F8",
            "ticks": ""
           },
           "bgcolor": "white",
           "radialaxis": {
            "gridcolor": "#EBF0F8",
            "linecolor": "#EBF0F8",
            "ticks": ""
           }
          },
          "scene": {
           "xaxis": {
            "backgroundcolor": "white",
            "gridcolor": "#DFE8F3",
            "gridwidth": 2,
            "linecolor": "#EBF0F8",
            "showbackground": true,
            "ticks": "",
            "zerolinecolor": "#EBF0F8"
           },
           "yaxis": {
            "backgroundcolor": "white",
            "gridcolor": "#DFE8F3",
            "gridwidth": 2,
            "linecolor": "#EBF0F8",
            "showbackground": true,
            "ticks": "",
            "zerolinecolor": "#EBF0F8"
           },
           "zaxis": {
            "backgroundcolor": "white",
            "gridcolor": "#DFE8F3",
            "gridwidth": 2,
            "linecolor": "#EBF0F8",
            "showbackground": true,
            "ticks": "",
            "zerolinecolor": "#EBF0F8"
           }
          },
          "shapedefaults": {
           "line": {
            "color": "#2a3f5f"
           }
          },
          "ternary": {
           "aaxis": {
            "gridcolor": "#DFE8F3",
            "linecolor": "#A2B1C6",
            "ticks": ""
           },
           "baxis": {
            "gridcolor": "#DFE8F3",
            "linecolor": "#A2B1C6",
            "ticks": ""
           },
           "bgcolor": "white",
           "caxis": {
            "gridcolor": "#DFE8F3",
            "linecolor": "#A2B1C6",
            "ticks": ""
           }
          },
          "title": {
           "x": 0.05
          },
          "xaxis": {
           "automargin": true,
           "gridcolor": "#EBF0F8",
           "linecolor": "#EBF0F8",
           "ticks": "",
           "title": {
            "standoff": 15
           },
           "zerolinecolor": "#EBF0F8",
           "zerolinewidth": 2
          },
          "yaxis": {
           "automargin": true,
           "gridcolor": "#EBF0F8",
           "linecolor": "#EBF0F8",
           "ticks": "",
           "title": {
            "standoff": 15
           },
           "zerolinecolor": "#EBF0F8",
           "zerolinewidth": 2
          }
         }
        },
        "width": 800,
        "xaxis": {
         "anchor": "y",
         "autorange": true,
         "domain": [
          0,
          1
         ],
         "range": [
          0.01641648937296704,
          0.022326794985626505
         ],
         "title": {
          "text": "Feature importance"
         },
         "type": "linear"
        },
        "yaxis": {
         "anchor": "x",
         "autorange": true,
         "domain": [
          0,
          1
         ],
         "range": [
          -3.329842931937173,
          56.32984293193717
         ],
         "showticklabels": true,
         "tickmode": "linear",
         "title": {
          "text": "Markers"
         },
         "type": "category"
        }
       }
      },
      "text/html": [
       "<div>                            <div id=\"4e976302-6c3d-4622-b6f0-d34f34211b02\" class=\"plotly-graph-div\" style=\"height:1000px; width:800px;\"></div>            <script type=\"text/javascript\">                require([\"plotly\"], function(Plotly) {                    window.PLOTLYENV=window.PLOTLYENV || {};                                    if (document.getElementById(\"4e976302-6c3d-4622-b6f0-d34f34211b02\")) {                    Plotly.newPlot(                        \"4e976302-6c3d-4622-b6f0-d34f34211b02\",                        [{\"hovertemplate\": \"Feature importance=%{x}<br>Markers=%{y}<extra></extra>\", \"legendgroup\": \"\", \"marker\": {\"color\": \"#F38A31\", \"size\": 8, \"symbol\": \"circle\"}, \"mode\": \"markers\", \"name\": \"\", \"orientation\": \"v\", \"showlegend\": false, \"type\": \"scatter\", \"x\": [0.01676044978157263, 0.016795480591685962, 0.016810757333093656, 0.01689426212337079, 0.017044410450741683, 0.01705098932547984, 0.017065654572275657, 0.017074534321304864, 0.017094255226554438, 0.017178724828783055, 0.017280244979691606, 0.01728336809729247, 0.01738754650884702, 0.01750834528406582, 0.017529883989904627, 0.01769412671735985, 0.0177115189122118, 0.01772030017342686, 0.017791068331417262, 0.01781547448400655, 0.017836625843572478, 0.01792462311760852, 0.018118020529761355, 0.01816090555096711, 0.018261071168618657, 0.018330273259140294, 0.01833821882628511, 0.018381191921703583, 0.018439902460658734, 0.01856118478624442, 0.018562264523933017, 0.018571566026058726, 0.018658710723617578, 0.018660880328254484, 0.01873008090373685, 0.018831943054353786, 0.01884717728074599, 0.018929581865704995, 0.019075275116400857, 0.019202565168736533, 0.01940327057137399, 0.019420999996320864, 0.019562500193673584, 0.01958419636285616, 0.019690354852760418, 0.01983372783036598, 0.020124129731878073, 0.020155686349985717, 0.020409111384093313, 0.02042191591969584, 0.020461859067518927, 0.021265134046356077, 0.02177082062691051, 0.021982834577020913], \"xaxis\": \"x\", \"y\": [\"$wSMI\\\\alpha_{mean}$\", \"$CNV_{std}$\", \"$PE\\\\theta_{std}$\", \"$\\\\delta_{std}$\", \"$SEF90_{std}$\", \"$|\\\\gamma|_{std}$\", \"$P1_{mean}$\", \"$P1_{std}$\", \"$P3b_{mean}$\", \"$SEF95_{std}$\", \"$P3a_{mean}$\", \"$wSMI\\\\beta_{std}$\", \"$\\\\alpha_{std}$\", \"$|\\\\alpha|_{std}$\", \"$\\\\gamma_{std}$\", \"$\\\\theta_{std}$\", \"$|\\\\delta|_{std}$\", \"$wSMI\\\\theta_{std}$\", \"$P3a_{std}$\", \"$wSMI\\\\alpha_{std}$\", \"$wSMI\\\\beta_{mean}$\", \"$PE\\\\beta_{std}$\", \"$MSF_{std}$\", \"$SE_{std}$\", \"$P3b_{std}$\", \"$\\\\theta_{mean}$\", \"$MSF_{mean}$\", \"$\\\\delta_{mean}$\", \"$K_{std}$\", \"$wSMI\\\\gamma_{std}$\", \"$SE_{mean}$\", \"$\\\\beta_{std}$\", \"$PE\\\\beta_{mean}$\", \"$|\\\\beta|_{mean}$\", \"$|\\\\beta|_{std}$\", \"$wSMI\\\\theta_{mean}$\", \"$SEF90_{mean}$\", \"$PE\\\\gamma_{std}$\", \"$PE\\\\alpha_{std}$\", \"$PE\\\\theta_{mean}$\", \"$PE\\\\gamma_{mean}$\", \"$SEF95_{mean}$\", \"$wSMI\\\\gamma_{mean}$\", \"$K_{mean}$\", \"$|\\\\gamma|_{mean}$\", \"$|\\\\delta|_{mean}$\", \"$|\\\\alpha|_{mean}$\", \"$|\\\\theta|_{mean}$\", \"$\\\\beta_{mean}$\", \"$\\\\alpha_{mean}$\", \"$PE\\\\alpha_{mean}$\", \"$\\\\gamma_{mean}$\", \"$CNV_{mean}$\", \"$|\\\\theta|_{std}$\"], \"yaxis\": \"y\"}],                        {\"autosize\": false, \"height\": 1000, \"legend\": {\"tracegroupgap\": 0}, \"margin\": {\"t\": 60}, \"template\": {\"data\": {\"bar\": [{\"error_x\": {\"color\": \"#2a3f5f\"}, \"error_y\": {\"color\": \"#2a3f5f\"}, \"marker\": {\"line\": {\"color\": \"white\", \"width\": 0.5}}, \"type\": \"bar\"}], \"barpolar\": [{\"marker\": {\"line\": {\"color\": \"white\", \"width\": 0.5}}, \"type\": \"barpolar\"}], \"carpet\": [{\"aaxis\": {\"endlinecolor\": \"#2a3f5f\", \"gridcolor\": \"#C8D4E3\", \"linecolor\": \"#C8D4E3\", \"minorgridcolor\": \"#C8D4E3\", \"startlinecolor\": \"#2a3f5f\"}, \"baxis\": {\"endlinecolor\": \"#2a3f5f\", \"gridcolor\": \"#C8D4E3\", \"linecolor\": \"#C8D4E3\", \"minorgridcolor\": \"#C8D4E3\", \"startlinecolor\": \"#2a3f5f\"}, \"type\": \"carpet\"}], \"choropleth\": [{\"colorbar\": {\"outlinewidth\": 0, \"ticks\": \"\"}, \"type\": \"choropleth\"}], \"contour\": [{\"colorbar\": {\"outlinewidth\": 0, \"ticks\": \"\"}, \"colorscale\": [[0.0, \"#0d0887\"], [0.1111111111111111, \"#46039f\"], [0.2222222222222222, \"#7201a8\"], [0.3333333333333333, \"#9c179e\"], [0.4444444444444444, \"#bd3786\"], [0.5555555555555556, \"#d8576b\"], [0.6666666666666666, \"#ed7953\"], [0.7777777777777778, \"#fb9f3a\"], [0.8888888888888888, \"#fdca26\"], [1.0, \"#f0f921\"]], \"type\": \"contour\"}], \"contourcarpet\": [{\"colorbar\": {\"outlinewidth\": 0, \"ticks\": \"\"}, \"type\": \"contourcarpet\"}], \"heatmap\": [{\"colorbar\": {\"outlinewidth\": 0, \"ticks\": \"\"}, \"colorscale\": [[0.0, \"#0d0887\"], [0.1111111111111111, \"#46039f\"], [0.2222222222222222, \"#7201a8\"], [0.3333333333333333, \"#9c179e\"], [0.4444444444444444, \"#bd3786\"], [0.5555555555555556, \"#d8576b\"], [0.6666666666666666, \"#ed7953\"], [0.7777777777777778, \"#fb9f3a\"], [0.8888888888888888, \"#fdca26\"], [1.0, \"#f0f921\"]], \"type\": \"heatmap\"}], \"heatmapgl\": [{\"colorbar\": {\"outlinewidth\": 0, \"ticks\": \"\"}, \"colorscale\": [[0.0, \"#0d0887\"], [0.1111111111111111, \"#46039f\"], [0.2222222222222222, \"#7201a8\"], [0.3333333333333333, \"#9c179e\"], [0.4444444444444444, \"#bd3786\"], [0.5555555555555556, \"#d8576b\"], [0.6666666666666666, \"#ed7953\"], [0.7777777777777778, \"#fb9f3a\"], [0.8888888888888888, \"#fdca26\"], [1.0, \"#f0f921\"]], \"type\": \"heatmapgl\"}], \"histogram\": [{\"marker\": {\"colorbar\": {\"outlinewidth\": 0, \"ticks\": \"\"}}, \"type\": \"histogram\"}], \"histogram2d\": [{\"colorbar\": {\"outlinewidth\": 0, \"ticks\": \"\"}, \"colorscale\": [[0.0, \"#0d0887\"], [0.1111111111111111, \"#46039f\"], [0.2222222222222222, \"#7201a8\"], [0.3333333333333333, \"#9c179e\"], [0.4444444444444444, \"#bd3786\"], [0.5555555555555556, \"#d8576b\"], [0.6666666666666666, \"#ed7953\"], [0.7777777777777778, \"#fb9f3a\"], [0.8888888888888888, \"#fdca26\"], [1.0, \"#f0f921\"]], \"type\": \"histogram2d\"}], \"histogram2dcontour\": [{\"colorbar\": {\"outlinewidth\": 0, \"ticks\": \"\"}, \"colorscale\": [[0.0, \"#0d0887\"], [0.1111111111111111, \"#46039f\"], [0.2222222222222222, \"#7201a8\"], [0.3333333333333333, \"#9c179e\"], [0.4444444444444444, \"#bd3786\"], [0.5555555555555556, \"#d8576b\"], [0.6666666666666666, \"#ed7953\"], [0.7777777777777778, \"#fb9f3a\"], [0.8888888888888888, \"#fdca26\"], [1.0, \"#f0f921\"]], \"type\": \"histogram2dcontour\"}], \"mesh3d\": [{\"colorbar\": {\"outlinewidth\": 0, \"ticks\": \"\"}, \"type\": \"mesh3d\"}], \"parcoords\": [{\"line\": {\"colorbar\": {\"outlinewidth\": 0, \"ticks\": \"\"}}, \"type\": \"parcoords\"}], \"pie\": [{\"automargin\": true, \"type\": \"pie\"}], \"scatter\": [{\"marker\": {\"colorbar\": {\"outlinewidth\": 0, \"ticks\": \"\"}}, \"type\": \"scatter\"}], \"scatter3d\": [{\"line\": {\"colorbar\": {\"outlinewidth\": 0, \"ticks\": \"\"}}, \"marker\": {\"colorbar\": {\"outlinewidth\": 0, \"ticks\": \"\"}}, \"type\": \"scatter3d\"}], \"scattercarpet\": [{\"marker\": {\"colorbar\": {\"outlinewidth\": 0, \"ticks\": \"\"}}, \"type\": \"scattercarpet\"}], \"scattergeo\": [{\"marker\": {\"colorbar\": {\"outlinewidth\": 0, \"ticks\": \"\"}}, \"type\": \"scattergeo\"}], \"scattergl\": [{\"marker\": {\"colorbar\": {\"outlinewidth\": 0, \"ticks\": \"\"}}, \"type\": \"scattergl\"}], \"scattermapbox\": [{\"marker\": {\"colorbar\": {\"outlinewidth\": 0, \"ticks\": \"\"}}, \"type\": \"scattermapbox\"}], \"scatterpolar\": [{\"marker\": {\"colorbar\": {\"outlinewidth\": 0, \"ticks\": \"\"}}, \"type\": \"scatterpolar\"}], \"scatterpolargl\": [{\"marker\": {\"colorbar\": {\"outlinewidth\": 0, \"ticks\": \"\"}}, \"type\": \"scatterpolargl\"}], \"scatterternary\": [{\"marker\": {\"colorbar\": {\"outlinewidth\": 0, \"ticks\": \"\"}}, \"type\": \"scatterternary\"}], \"surface\": [{\"colorbar\": {\"outlinewidth\": 0, \"ticks\": \"\"}, \"colorscale\": [[0.0, \"#0d0887\"], [0.1111111111111111, \"#46039f\"], [0.2222222222222222, \"#7201a8\"], [0.3333333333333333, \"#9c179e\"], [0.4444444444444444, \"#bd3786\"], [0.5555555555555556, \"#d8576b\"], [0.6666666666666666, \"#ed7953\"], [0.7777777777777778, \"#fb9f3a\"], [0.8888888888888888, \"#fdca26\"], [1.0, \"#f0f921\"]], \"type\": \"surface\"}], \"table\": [{\"cells\": {\"fill\": {\"color\": \"#EBF0F8\"}, \"line\": {\"color\": \"white\"}}, \"header\": {\"fill\": {\"color\": \"#C8D4E3\"}, \"line\": {\"color\": \"white\"}}, \"type\": \"table\"}]}, \"layout\": {\"annotationdefaults\": {\"arrowcolor\": \"#2a3f5f\", \"arrowhead\": 0, \"arrowwidth\": 1}, \"autotypenumbers\": \"strict\", \"coloraxis\": {\"colorbar\": {\"outlinewidth\": 0, \"ticks\": \"\"}}, \"colorscale\": {\"diverging\": [[0, \"#8e0152\"], [0.1, \"#c51b7d\"], [0.2, \"#de77ae\"], [0.3, \"#f1b6da\"], [0.4, \"#fde0ef\"], [0.5, \"#f7f7f7\"], [0.6, \"#e6f5d0\"], [0.7, \"#b8e186\"], [0.8, \"#7fbc41\"], [0.9, \"#4d9221\"], [1, \"#276419\"]], \"sequential\": [[0.0, \"#0d0887\"], [0.1111111111111111, \"#46039f\"], [0.2222222222222222, \"#7201a8\"], [0.3333333333333333, \"#9c179e\"], [0.4444444444444444, \"#bd3786\"], [0.5555555555555556, \"#d8576b\"], [0.6666666666666666, \"#ed7953\"], [0.7777777777777778, \"#fb9f3a\"], [0.8888888888888888, \"#fdca26\"], [1.0, \"#f0f921\"]], \"sequentialminus\": [[0.0, \"#0d0887\"], [0.1111111111111111, \"#46039f\"], [0.2222222222222222, \"#7201a8\"], [0.3333333333333333, \"#9c179e\"], [0.4444444444444444, \"#bd3786\"], [0.5555555555555556, \"#d8576b\"], [0.6666666666666666, \"#ed7953\"], [0.7777777777777778, \"#fb9f3a\"], [0.8888888888888888, \"#fdca26\"], [1.0, \"#f0f921\"]]}, \"colorway\": [\"#636efa\", \"#EF553B\", \"#00cc96\", \"#ab63fa\", \"#FFA15A\", \"#19d3f3\", \"#FF6692\", \"#B6E880\", \"#FF97FF\", \"#FECB52\"], \"font\": {\"color\": \"#2a3f5f\"}, \"geo\": {\"bgcolor\": \"white\", \"lakecolor\": \"white\", \"landcolor\": \"white\", \"showlakes\": true, \"showland\": true, \"subunitcolor\": \"#C8D4E3\"}, \"hoverlabel\": {\"align\": \"left\"}, \"hovermode\": \"closest\", \"mapbox\": {\"style\": \"light\"}, \"paper_bgcolor\": \"white\", \"plot_bgcolor\": \"white\", \"polar\": {\"angularaxis\": {\"gridcolor\": \"#EBF0F8\", \"linecolor\": \"#EBF0F8\", \"ticks\": \"\"}, \"bgcolor\": \"white\", \"radialaxis\": {\"gridcolor\": \"#EBF0F8\", \"linecolor\": \"#EBF0F8\", \"ticks\": \"\"}}, \"scene\": {\"xaxis\": {\"backgroundcolor\": \"white\", \"gridcolor\": \"#DFE8F3\", \"gridwidth\": 2, \"linecolor\": \"#EBF0F8\", \"showbackground\": true, \"ticks\": \"\", \"zerolinecolor\": \"#EBF0F8\"}, \"yaxis\": {\"backgroundcolor\": \"white\", \"gridcolor\": \"#DFE8F3\", \"gridwidth\": 2, \"linecolor\": \"#EBF0F8\", \"showbackground\": true, \"ticks\": \"\", \"zerolinecolor\": \"#EBF0F8\"}, \"zaxis\": {\"backgroundcolor\": \"white\", \"gridcolor\": \"#DFE8F3\", \"gridwidth\": 2, \"linecolor\": \"#EBF0F8\", \"showbackground\": true, \"ticks\": \"\", \"zerolinecolor\": \"#EBF0F8\"}}, \"shapedefaults\": {\"line\": {\"color\": \"#2a3f5f\"}}, \"ternary\": {\"aaxis\": {\"gridcolor\": \"#DFE8F3\", \"linecolor\": \"#A2B1C6\", \"ticks\": \"\"}, \"baxis\": {\"gridcolor\": \"#DFE8F3\", \"linecolor\": \"#A2B1C6\", \"ticks\": \"\"}, \"bgcolor\": \"white\", \"caxis\": {\"gridcolor\": \"#DFE8F3\", \"linecolor\": \"#A2B1C6\", \"ticks\": \"\"}}, \"title\": {\"x\": 0.05}, \"xaxis\": {\"automargin\": true, \"gridcolor\": \"#EBF0F8\", \"linecolor\": \"#EBF0F8\", \"ticks\": \"\", \"title\": {\"standoff\": 15}, \"zerolinecolor\": \"#EBF0F8\", \"zerolinewidth\": 2}, \"yaxis\": {\"automargin\": true, \"gridcolor\": \"#EBF0F8\", \"linecolor\": \"#EBF0F8\", \"ticks\": \"\", \"title\": {\"standoff\": 15}, \"zerolinecolor\": \"#EBF0F8\", \"zerolinewidth\": 2}}}, \"width\": 800, \"xaxis\": {\"anchor\": \"y\", \"domain\": [0.0, 1.0], \"title\": {\"text\": \"Feature importance\"}}, \"yaxis\": {\"anchor\": \"x\", \"domain\": [0.0, 1.0], \"showticklabels\": true, \"tickmode\": \"linear\", \"title\": {\"text\": \"Markers\"}}},                        {\"responsive\": true}                    ).then(function(){\n",
       "                            \n",
       "var gd = document.getElementById('4e976302-6c3d-4622-b6f0-d34f34211b02');\n",
       "var x = new MutationObserver(function (mutations, observer) {{\n",
       "        var display = window.getComputedStyle(gd).display;\n",
       "        if (!display || display === 'none') {{\n",
       "            console.log([gd, 'removed!']);\n",
       "            Plotly.purge(gd);\n",
       "            observer.disconnect();\n",
       "        }}\n",
       "}});\n",
       "\n",
       "// Listen for the removal of the full notebook cells\n",
       "var notebookContainer = gd.closest('#notebook-container');\n",
       "if (notebookContainer) {{\n",
       "    x.observe(notebookContainer, {childList: true});\n",
       "}}\n",
       "\n",
       "// Listen for the clearing of the current output cell\n",
       "var outputEl = gd.closest('.output');\n",
       "if (outputEl) {{\n",
       "    x.observe(outputEl, {childList: true});\n",
       "}}\n",
       "\n",
       "                        })                };                });            </script>        </div>"
      ]
     },
     "metadata": {},
     "output_type": "display_data"
    }
   ],
   "source": [
    "fig = px.scatter(feat_imp_probe_ros.sort_values(by = 'value'),x = 'value', y = 'features', template = \"plotly_white\",\n",
    "                  color_discrete_sequence = [orange],\n",
    "\n",
    "                 category_orders = {'significant': ['p > 0.05','p < 0.05 uncorrected', 'p < 0.05 FDR corrected']}, \n",
    "                 labels = {'value':'Feature importance', 'features': 'Markers'}\n",
    "\n",
    "                )\n",
    "\n",
    "fig.update_traces(marker=dict(size = 8))\n",
    "\n",
    "fig.update_layout(\n",
    "    autosize=False,\n",
    "    width=800,\n",
    "    height=1000,\n",
    "#     xaxis= {'range': (0.34, 0.66)},\n",
    "    yaxis = {\n",
    "            'showticklabels': True,\n",
    "            'tickmode': 'linear',\n",
    "        }\n",
    "\n",
    ")\n",
    "\n",
    "fig.show()"
   ]
  },
  {
   "cell_type": "markdown",
   "id": "scenic-branch",
   "metadata": {},
   "source": [
    "# Multivariate only wih significant markers"
   ]
  },
  {
   "cell_type": "code",
   "execution_count": null,
   "id": "figured-dallas",
   "metadata": {},
   "outputs": [],
   "source": [
    "svm_mind = pd.read_csv('Data/univariate_roc_mind_segment.csv')\n",
    "aucs_mind = svm_mind.groupby('markers', as_index= False).agg({'AUC':'mean', 'significant':'first'})\n",
    "\n",
    "svm_mw = pd.read_csv('Data/univariate_roc_mw_segment.csv')\n",
    "aucs_mw = svm_mw.groupby('markers', as_index= False).agg({'AUC':'mean', 'significant':'first'})\n",
    "\n",
    "\n",
    "significant_mind = aucs_mind.query(\"significant != 'p > 0.05'\").markers.to_list()\n",
    "# significant_mw = aucs_mw.query(\"significant != 'p > 0.05'\").markers.to_list()\n",
    "significant_mw = aucs_mw.query(\"significant == 'p < 0.05 FDR corrected'\").markers.to_list()\n",
    "\n",
    "\n",
    "significant_markers = significant_mind + significant_mw"
   ]
  },
  {
   "cell_type": "code",
   "execution_count": null,
   "id": "parental-tenant",
   "metadata": {},
   "outputs": [
    {
     "data": {
      "image/png": "[encoded data removed]",
      "text/plain": [
       "<Figure size 360x360 with 1 Axes>"
      ]
     },
     "metadata": {},
     "output_type": "display_data"
    },
    {
     "data": {
      "image/png": "[encoded data removed]",
      "text/plain": [
       "<Figure size 864x648 with 1 Axes>"
      ]
     },
     "metadata": {},
     "output_type": "display_data"
    }
   ],
   "source": [
    "df_auc_mind_significants = multivariate_classifier(data = df_mind, label = 'mind2', features = df_mind[significant_mind].columns, \n",
    "                                 model = 'forest', pca =False, n_components = 10,\n",
    "                                 cv_splits= 5,\n",
    "                                 permutation = False, n_permutations = 1000)\n",
    "\n",
    "df_auc_mind_significants.to_csv('Data/multivariate_mind_segment_significants.csv')"
   ]
  },
  {
   "cell_type": "markdown",
   "id": "continental-marriage",
   "metadata": {},
   "source": [
    "# Multivariate only wih 2 most important markers"
   ]
  },
  {
   "cell_type": "code",
   "execution_count": null,
   "id": "numerical-extreme",
   "metadata": {},
   "outputs": [],
   "source": [
    "svm_mind = pd.read_csv('Data/univariate_roc_mind_segment.csv')\n",
    "aucs_mind = svm_mind.groupby('markers', as_index= False).agg({'AUC':'mean', 'significant':'first'})\n",
    "\n",
    "svm_mw = pd.read_csv('Data/univariate_roc_mw_segment.csv')\n",
    "aucs_mw = svm_mw.groupby('markers', as_index= False).agg({'AUC':'mean', 'significant':'first'})\n",
    "\n",
    "\n",
    "significant_mind = aucs_mind.query(\"significant != 'p > 0.05'\").markers.to_list()\n",
    "# significant_mw = aucs_mw.query(\"significant != 'p > 0.05'\").markers.to_list()\n",
    "significant_mw = aucs_mw.query(\"significant == 'p < 0.05 FDR corrected'\").markers.to_list()\n",
    "\n",
    "\n",
    "significant_markers = significant_mind + significant_mw"
   ]
  },
  {
   "cell_type": "code",
   "execution_count": null,
   "id": "alternative-exclusion",
   "metadata": {},
   "outputs": [
    {
     "data": {
      "image/png": "[encoded data removed]",
      "text/plain": [
       "<Figure size 360x360 with 1 Axes>"
      ]
     },
     "metadata": {},
     "output_type": "display_data"
    }
   ],
   "source": [
    "df_auc_mind_significants = multivariate_classifier(data = df_mind, label = 'mind2', features = df_mind[['t_n_std', 't_n_mean']].columns, \n",
    "                                 model = 'SVM', pca =False, n_components = 10,\n",
    "                                 cv_splits= 5, grid_search  =False,\n",
    "                                 permutation = False, n_permutations = 1000)\n",
    "\n",
    "df_auc_mind_significants.to_csv('Data/multivariate_mind_segment_significants.csv')"
   ]
  },
  {
   "cell_type": "code",
   "execution_count": null,
   "id": "unavailable-dependence",
   "metadata": {},
   "outputs": [],
   "source": []
  }
 ],
 "metadata": {
  "interpreter": {
   "hash": "b9ecc02849e84b87e80586ea27bc0eed086bed80b3a52d2dc611431340e96268"
  },
  "kernelspec": {
   "display_name": "Python 3.9.7 ('mne')",
   "language": "python",
   "name": "python3"
  },
  "language_info": {
   "codemirror_mode": {
    "name": "ipython",
    "version": 3
   },
   "file_extension": ".py",
   "mimetype": "text/x-python",
   "name": "python",
   "nbconvert_exporter": "python",
   "pygments_lexer": "ipython3",
   "version": "3.9.7"
  }
 },
 "nbformat": 4,
 "nbformat_minor": 5
}
