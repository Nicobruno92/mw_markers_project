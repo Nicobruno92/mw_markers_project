{
 "cells": [
  {
   "cell_type": "code",
   "execution_count": 1,
   "id": "thousand-european",
   "metadata": {},
   "outputs": [
    {
     "data": {
      "text/html": [
       "        <script type=\"text/javascript\">\n",
       "        window.PlotlyConfig = {MathJaxConfig: 'local'};\n",
       "        if (window.MathJax && window.MathJax.Hub && window.MathJax.Hub.Config) {window.MathJax.Hub.Config({SVG: {font: \"STIX-Web\"}});}\n",
       "        if (typeof require !== 'undefined') {\n",
       "        require.undef(\"plotly\");\n",
       "        requirejs.config({\n",
       "            paths: {\n",
       "                'plotly': ['https://cdn.plot.ly/plotly-2.27.0.min']\n",
       "            }\n",
       "        });\n",
       "        require(['plotly'], function(Plotly) {\n",
       "            window._Plotly = Plotly;\n",
       "        });\n",
       "        }\n",
       "        </script>\n",
       "        "
      ]
     },
     "metadata": {},
     "output_type": "display_data"
    },
    {
     "name": "stderr",
     "output_type": "stream",
     "text": [
      "INFO     [situation.py:41] cffi mode is CFFI_MODE.ANY\n",
      "INFO     [situation.py:227] R home found: /home/nicobruno/anaconda3/lib/R\n",
      "INFO     [situation.py:161] R library path: \n",
      "INFO     [situation.py:174] LD_LIBRARY_PATH: \n",
      "INFO     [embedded.py:20] Default options to initialize R: rpy2, --quiet, --no-save\n",
      "INFO     [embedded.py:269] R is already initialized. No need to initialize.\n"
     ]
    }
   ],
   "source": [
    "import os\n",
    "import numpy as np\n",
    "import seaborn as sns\n",
    "import pandas as pd\n",
    "import matplotlib.pyplot as plt\n",
    "\n",
    "from scipy.special import expit \n",
    "\n",
    "import plotly.express as px\n",
    "import plotly.graph_objects as go\n",
    "import plotly.offline as pyo\n",
    "import plotly.io as pio\n",
    "from plotly.subplots import make_subplots\n",
    "\n",
    "pyo.init_notebook_mode(connected = True)\n",
    "\n",
    "\n",
    "from sklearn.metrics import roc_auc_score, f1_score, cohen_kappa_score\n",
    "from sklearn.svm import SVC\n",
    "from sklearn.preprocessing import StandardScaler, RobustScaler\n",
    "from sklearn.pipeline import Pipeline, make_pipeline\n",
    "from sklearn.model_selection import (\n",
    "    GridSearchCV,\n",
    "    train_test_split,\n",
    "    cross_val_score,\n",
    "    GroupShuffleSplit,\n",
    "    permutation_test_score,\n",
    "    StratifiedKFold,\n",
    "    KFold,\n",
    "    cross_validate\n",
    ")\n",
    "\n",
    "from tqdm import tqdm \n",
    "\n",
    "\n",
    "from sklearn.ensemble import ExtraTreesClassifier, RandomForestRegressor\n",
    "\n",
    "from merf import MERF\n",
    "from sklearn.metrics import roc_auc_score\n",
    "from sklearn.model_selection import StratifiedKFold\n",
    "from pymer4.models import Lmer\n",
    "\n",
    "\n",
    "import sys\n",
    "sys.path.insert(0, '../')\n",
    "# from utils import multivariate_classifier, correct_name_markers, plot_univariate"
   ]
  },
  {
   "cell_type": "code",
   "execution_count": null,
   "id": "completed-fountain",
   "metadata": {
    "pycharm": {
     "is_executing": false
    }
   },
   "outputs": [],
   "source": [
    "# plotting parameters\n",
    "grey = \"#21201F\"\n",
    "green = \"#9AC529\"\n",
    "lblue = \"#42B9B2\"\n",
    "pink = \"#DE237B\"\n",
    "orange = \"#F38A31\"\n",
    "\n",
    "nt_colors = [green, lblue, pink, orange]\n",
    "\n",
    "plt.style.use(\"ggplot\")\n",
    "fig_width = 12  # width in inches\n",
    "fig_height = 9  # height in inches\n",
    "fig_size = [fig_width, fig_height]\n",
    "plt.rcParams[\"figure.figsize\"] = fig_size\n",
    "plt.rcParams[\"figure.autolayout\"] = True\n",
    "\n",
    "sns.set(\n",
    "    style=\"white\",\n",
    "    context=\"notebook\",\n",
    "    font_scale=1,\n",
    "    rc={\n",
    "        \"axes.labelcolor\": grey,\n",
    "        \"text.color\": grey,\n",
    "        \"axes.edgecolor\": grey,\n",
    "        \"xtick.color\": grey,\n",
    "        \"ytick.color\": grey,\n",
    "    },\n",
    ")\n",
    "\n",
    "sns.set_palette(sns.color_palette\n",
    "(nt_colors))"
   ]
  },
  {
   "attachments": {},
   "cell_type": "markdown",
   "id": "available-academy",
   "metadata": {},
   "source": [
    "# Load Data\n",
    "Loads data from the computed markers. From `Data` directory"
   ]
  },
  {
   "cell_type": "code",
   "execution_count": 5,
   "id": "53ab16c9",
   "metadata": {},
   "outputs": [],
   "source": [
    "data_path = \"../../Data/\"\n",
    "results_path = \"../../Results/\"\n",
    "fig_path = \"../../Results/Figs/\"\n",
    "\n",
    "df = pd.read_csv(os.path.join(data_path, 'all_markers.csv'), index_col = 0)"
   ]
  },
  {
   "cell_type": "code",
   "execution_count": 6,
   "id": "simple-quick",
   "metadata": {},
   "outputs": [],
   "source": [
    "markers = ['wSMI_1', 'wSMI_2', 'wSMI_4', 'wSMI_8', 'p_e_1', 'p_e_2',\n",
    "       'p_e_4', 'p_e_8', 'k', 'se','msf', 'sef90', 'sef95', 'b', 'b_n', 'g',\n",
    "       'g_n', 't', 't_n', 'd', 'd_n', 'a_n', 'a', 'CNV', 'P1', 'P3a', 'P3b',]\n",
    "#           'ft', 'ft_n']\n",
    "erps =['CNV', 'P1', 'P3a', 'P3b']\n",
    "# erps = [r'$CNV$', r'$P1$', r'$P3a$',r'$P3b$']\n",
    "\n",
    "# markers =  [r'$\\delta$',r'$|\\delta|$',r'$\\theta$', r'$|\\theta|$',r'$\\alpha$', r'$|\\alpha|$',r'$\\beta$', r'$|\\beta|$',r'$\\gamma$', r'$|\\gamma|$',\n",
    "#             r'$PE\\gamma$',r'$PE\\beta$',r'$PE\\alpha$',r'$PE\\theta$',\n",
    "#             r'$wSMI\\gamma$',r'$wSMI\\beta$',r'$wSMI\\alpha$',r'$wSMI\\theta$', \n",
    "#             r'$K$',r'$SE$',r'$MSF$', r'$SEF90$', r'$SEF95$', \n",
    "#             r'$CNV$', r'$P1$', r'$P3a$',r'$P3b$'\n",
    "#            ]\n",
    "\n",
    "\n",
    "# df_subtracted = df.query(\"preproc == 'subtracted'\").drop(columns = erps+['preproc'])\n",
    "# df_erp = df.query(\"preproc == 'erp'\").drop(columns = np.setdiff1d(markers,erps).tolist()+['preproc'])\n",
    "\n",
    "# df_markers = df_subtracted.merge(df_erp, 'inner', on =np.setdiff1d(df_subtracted.columns, markers).tolist() )\n",
    "\n",
    "df_markers = (df\n",
    "              .query(\"stimuli == 'go'\")\n",
    "              .query(\"correct == 'correct'\")\n",
    "              .query('prev_trial < 5')\n",
    "              .drop(['stimuli', 'correct', 'prev_trial', 'label', 'events',  'epoch_type', 'preproc', 'ft', 'ft_n'], axis = 1)\n",
    "              .query(\"mind in ['on-task','dMW', 'sMW']\")\n",
    "              .groupby(['segment', 'participant']).filter(lambda x: len(x) > 1)\n",
    "             )\n",
    "\n",
    "df_markers['segment'] = df_markers['segment'].str.replace('s', '').astype(int)"
   ]
  },
  {
   "cell_type": "code",
   "execution_count": 8,
   "metadata": {},
   "outputs": [],
   "source": [
    "from scipy.stats import zscore\n",
    "def replace_outliers_with_participant_mean(df, columns, participant_column='participant', z_threshold=3):\n",
    "    for col in columns:\n",
    "        for participant in df[participant_column].unique():\n",
    "            subset = df[df[participant_column] == participant]\n",
    "            col_zscore = zscore(subset[col])\n",
    "            mean_value = np.mean(subset[col][np.abs(col_zscore) < z_threshold])\n",
    "            \n",
    "            # Count the outliers for each participant\n",
    "            outlier_count = np.sum(np.abs(col_zscore) >= z_threshold)\n",
    "            \n",
    "            total = len(col_zscore)\n",
    "            \n",
    "            \n",
    "            # Replace outliers with the mean value for each participant\n",
    "            df.loc[(np.abs(col_zscore) >= z_threshold) & (df[participant_column] == participant), col] = mean_value\n",
    "            \n",
    "            # Print the number of outliers replaced for each participant and column\n",
    "            if outlier_count > 0:\n",
    "                print(f\"Replaced {outlier_count} outliers in column '{col}' out of {total} observations for participant {participant} with the mean value.\")\n",
    "                \n",
    "    return df\n",
    "\n",
    "def perform_permutation(formula, df_train, df_test, y_test, label, metric = 'auc'):\n",
    "    y_perm = np.random.permutation(df_train[label])\n",
    "    df_train[label] = y_perm\n",
    "    model_perm = Lmer(formula, data=df_train, family=\"binomial\")\n",
    "    model_perm.fit(verbose=False, summary = False)\n",
    "\n",
    "    # Make predictions and compute AUC for permuted labels\n",
    "    predicted_probabilities_perm = model_perm.predict(df_test, use_rfx=True, verify_predictions=False)\n",
    "    predicted_labels = [1 if prob > 0.5 else 0 for prob in predicted_probabilities_perm]\n",
    "    \n",
    "    \n",
    "    perm_auc = roc_auc_score(y_test, predicted_probabilities_perm)\n",
    "    perm_f1 = f1_score(y_test, predicted_labels)\n",
    "    perm_kappa = cohen_kappa_score(y_test, predicted_labels)\n",
    "    \n",
    "    return perm_auc, perm_f1, perm_kappa"
   ]
  },
  {
   "cell_type": "markdown",
   "id": "obvious-lloyd",
   "metadata": {},
   "source": [
    "# By segment Mulivariate analysis"
   ]
  },
  {
   "attachments": {},
   "cell_type": "markdown",
   "id": "interpreted-sessions",
   "metadata": {
    "tags": []
   },
   "source": [
    "## On-task Vs Mind- Wandering\n",
    "This can only be performed for PC probes  as they are the only ones with On-task reports.\n",
    "\n",
    "\n",
    "Prepares the dataframe for the analysis"
   ]
  },
  {
   "cell_type": "code",
   "execution_count": 7,
   "id": "8eae6625",
   "metadata": {},
   "outputs": [],
   "source": [
    "agg_dict = {k:['mean', 'std'] for k in markers }\n",
    "agg_dict.update({k:'first' for k in df_markers.drop(markers, axis=1).columns})\n",
    "\n",
    "df_mind = (\n",
    "    df_markers\n",
    "    .query(\"probe == 'PC'\")\n",
    "    .groupby(['segment', 'participant'], as_index = False).agg(agg_dict)\n",
    "    .assign(\n",
    "    mind2 = lambda df: np.where(df.mind == 'on-task', 'on-task', 'mw'))\n",
    ")\n",
    "\n",
    "############################################################\n",
    "################ Use normal names################\n",
    "############################################################\n",
    "\n",
    "df_mind.columns = df_mind.columns.map(\"_\".join)\n",
    "\n",
    "df_mind  = (df_mind\n",
    "            .rename(columns = {'participant_first':'participant', 'probe_first':'probe', 'mind_first':'mind', 'segment_first':'segment', 'mind2_':'mind2'})\n",
    "#             .query(\"mind != 'dMW'\") #if you want to test against just one of the mw            \n",
    "            .drop([ 'probe', 'mind',], axis = 1) \n",
    "           )\n",
    "\n",
    "############################################################\n",
    "################ Use latex command for nmaes################\n",
    "############################################################\n",
    "\n",
    "##it slow downs the computer, just for final figures.\n",
    "\n",
    "# df_mind = correct_name_markers(df_mind)\n",
    "\n",
    "# df_mind.columns = df_mind.columns.map(\"$_{\".join).map(lambda x: x + '}$').map(lambda x: x.replace('$$', ''))\n",
    "\n",
    "# df_mind  = (df_mind\n",
    "#             .rename(columns = {'participant$_{first}$':'participant', 'probe$_{first}$':'probe', 'mind$_{first}$':'mind', 'segment$_{first}$':'segment', 'mind2$_{}$':'mind2'})\n",
    "# #             .query(\"mind != 'dMW'\") #if you want to test against just one of the mw            \n",
    "#             .drop(['probe', 'mind', 'segment'], axis = 1) \n",
    "        #    )\n",
    "        \n",
    "df_mind['mind2_numeric'] = (df_mind['mind2'] == 'mw').astype(int)\n"
   ]
  },
  {
   "cell_type": "code",
   "execution_count": 1,
   "id": "73b4034d",
   "metadata": {},
   "outputs": [
    {
     "ename": "NameError",
     "evalue": "name 'df_mind' is not defined",
     "output_type": "error",
     "traceback": [
      "\u001b[0;31m---------------------------------------------------------------------------\u001b[0m",
      "\u001b[0;31mNameError\u001b[0m                                 Traceback (most recent call last)",
      "\u001b[1;32m/home/nicobruno/mw_markers_project/src/MVPA/multivariate_analysis_glmm copy.ipynb Cell 9\u001b[0m line \u001b[0;36m1\n\u001b[1;32m      <a href='vscode-notebook-cell://ssh-remote%2Barete.df.uba.ar/home/nicobruno/mw_markers_project/src/MVPA/multivariate_analysis_glmm%20copy.ipynb#X11sdnNjb2RlLXJlbW90ZQ%3D%3D?line=7'>8</a>\u001b[0m \u001b[39mfrom\u001b[39;00m \u001b[39mscipy\u001b[39;00m\u001b[39m.\u001b[39;00m\u001b[39mspecial\u001b[39;00m \u001b[39mimport\u001b[39;00m expit  \u001b[39m# For the logistic sigmoid function\u001b[39;00m\n\u001b[1;32m     <a href='vscode-notebook-cell://ssh-remote%2Barete.df.uba.ar/home/nicobruno/mw_markers_project/src/MVPA/multivariate_analysis_glmm%20copy.ipynb#X11sdnNjb2RlLXJlbW90ZQ%3D%3D?line=9'>10</a>\u001b[0m \u001b[39m# Prepare data\u001b[39;00m\n\u001b[0;32m---> <a href='vscode-notebook-cell://ssh-remote%2Barete.df.uba.ar/home/nicobruno/mw_markers_project/src/MVPA/multivariate_analysis_glmm%20copy.ipynb#X11sdnNjb2RlLXJlbW90ZQ%3D%3D?line=10'>11</a>\u001b[0m X \u001b[39m=\u001b[39m df_mind\u001b[39m.\u001b[39mdrop([\u001b[39m'\u001b[39m\u001b[39mmind2\u001b[39m\u001b[39m'\u001b[39m, \u001b[39m'\u001b[39m\u001b[39mmind2_numeric\u001b[39m\u001b[39m'\u001b[39m, \u001b[39m'\u001b[39m\u001b[39mparticipant\u001b[39m\u001b[39m'\u001b[39m], axis\u001b[39m=\u001b[39m\u001b[39m1\u001b[39m)\n\u001b[1;32m     <a href='vscode-notebook-cell://ssh-remote%2Barete.df.uba.ar/home/nicobruno/mw_markers_project/src/MVPA/multivariate_analysis_glmm%20copy.ipynb#X11sdnNjb2RlLXJlbW90ZQ%3D%3D?line=11'>12</a>\u001b[0m clusters \u001b[39m=\u001b[39m df_mind[\u001b[39m'\u001b[39m\u001b[39mparticipant\u001b[39m\u001b[39m'\u001b[39m]\n\u001b[1;32m     <a href='vscode-notebook-cell://ssh-remote%2Barete.df.uba.ar/home/nicobruno/mw_markers_project/src/MVPA/multivariate_analysis_glmm%20copy.ipynb#X11sdnNjb2RlLXJlbW90ZQ%3D%3D?line=12'>13</a>\u001b[0m y \u001b[39m=\u001b[39m df_mind[\u001b[39m'\u001b[39m\u001b[39mmind2_numeric\u001b[39m\u001b[39m'\u001b[39m]\n",
      "\u001b[0;31mNameError\u001b[0m: name 'df_mind' is not defined"
     ]
    }
   ],
   "source": [
    "from pymer4.models import Lmer\n",
    "from sklearn.metrics import roc_auc_score, f1_score\n",
    "from sklearn.model_selection import StratifiedKFold\n",
    "import pandas as pd\n",
    "import numpy as np\n",
    "from tqdm import tqdm\n",
    "import os\n",
    "from scipy.special import expit  # For the logistic sigmoid function\n",
    "from statsmodels.stats.outliers_influence import variance_inflation_factor\n",
    "from statsmodels.tools.tools import add_constant\n",
    "\n",
    "# Prepare data\n",
    "X = df_mind.drop(['mind2', 'mind2_numeric', 'participant'], axis=1)\n",
    "clusters = df_mind['participant']\n",
    "y = df_mind['mind2_numeric']\n",
    "\n",
    "\n",
    "X_const = add_constant(X)\n",
    "# Calculate VIF for each predictor variable\n",
    "vif_data = pd.DataFrame()\n",
    "vif_data[\"feature\"] = X_const.columns\n",
    "vif_data[\"VIF\"] = [variance_inflation_factor(X_const.values, i) for i in range(len(X_const.columns))]\n",
    "selected_features = vif_data[vif_data[\"VIF\"] <= 10][\"feature\"].tolist()\n",
    "if 'const' in selected_features:\n",
    "    selected_features.remove('const')\n",
    "X = X[selected_features]\n",
    "\n",
    "# Generate fixed effects formula dynamically\n",
    "fixed_effects_formula = ' + '.join(X.columns)\n",
    "\n",
    "# Initialize StratifiedKFold, and lists for actual AUC and permutation AUC scores\n",
    "skf = StratifiedKFold(n_splits=5)\n",
    "actual_auc_scores = []\n",
    "perm_auc_scores_all = []\n",
    "\n",
    "for train_index, test_index in tqdm(skf.split(X, y), desc=\"KFold Iteration\"):\n",
    "    df_train = df_mind.iloc[train_index]\n",
    "    df_test = df_mind.iloc[test_index]\n",
    "    y_test = y.iloc[test_index]\n",
    "    \n",
    "    # Fitting the GLMM model\n",
    "    formula = f\"mind2_numeric ~ {fixed_effects_formula} + (1|participant)\"\n",
    "    model = Lmer(formula, data=df_train, family=\"binomial\")\n",
    "    model.fit(verbose=False)\n",
    "    \n",
    "    # Make predictions and compute AUC\n",
    "    predicted_probabilities = model.predict(df_test, use_rfx=True, verify_predictions=False)\n",
    "    auc = roc_auc_score(y_test, predicted_probabilities)\n",
    "    actual_auc_scores.append(auc)\n",
    "    \n",
    "    # Initialize list to store permutation AUC scores for this fold\n",
    "    perm_auc_scores = []\n",
    "    # Permutation test (500 permutations)\n",
    "    for i in tqdm(range(100), desc=\"Permutation Test\"):\n",
    "        y_perm = np.random.permutation(df_train['mind2_numeric'])\n",
    "        model_perm = Lmer(formula, data=df_train.assign(mind2_numeric=y_perm), family=\"binomial\")\n",
    "        model_perm.fit(verbose=False)\n",
    "        \n",
    "        # Make predictions and compute AUC for permuted labels\n",
    "        predicted_probabilities_perm = model_perm.predict(df_test, use_rfx=True, verify_predictions=False)\n",
    "        perm_auc = roc_auc_score(y_test, predicted_probabilities_perm)\n",
    "        perm_auc_scores.append(perm_auc)\n",
    "    \n",
    "    # Add the list of scores for this fold to the master list\n",
    "    perm_auc_scores_all.append(perm_auc_scores)\n",
    "\n",
    "# Convert 2D list to DataFrame\n",
    "df_perm_mind = pd.DataFrame(perm_auc_scores_all).T\n",
    "\n",
    "# Average across folds for each permutation run\n",
    "df_perm_mind['Mean_AUC'] = df_perm_mind.mean(axis=1)\n",
    "\n",
    "# Save DataFrames to CSV\n",
    "# Assuming results_path is defined\n",
    "df_auc_mind = pd.DataFrame({'auc': actual_auc_scores, 'Model': 'Actual'})\n",
    "df_auc_mind.to_csv(os.path.join(results_path, 'GLMM_mvpa_actual_mind.csv'), index=False)\n",
    "df_perm_mind.to_csv(os.path.join(results_path, 'GLMM_mvpa_perm_mind.csv'), index=False)"
   ]
  },
  {
   "cell_type": "code",
   "execution_count": 12,
   "metadata": {},
   "outputs": [
    {
     "data": {
      "text/plain": [
       "'wSMI_1_mean + wSMI_1_std + wSMI_2_mean + wSMI_2_std + wSMI_4_mean + wSMI_4_std + wSMI_8_mean + wSMI_8_std + p_e_1_std + p_e_2_std + p_e_4_std + p_e_8_std + k_std + se_std + msf_std + b_std + b_n_std + g_std + g_n_std + t_std + t_n_std + d_std + d_n_std + a_n_std + a_std + CNV_mean + CNV_std + P1_mean + P1_std + P3a_mean + P3a_std + P3b_mean + P3b_std + segment'"
      ]
     },
     "execution_count": 12,
     "metadata": {},
     "output_type": "execute_result"
    }
   ],
   "source": [
    "formula"
   ]
  },
  {
   "cell_type": "code",
   "execution_count": 14,
   "metadata": {},
   "outputs": [
    {
     "name": "stderr",
     "output_type": "stream",
     "text": [
      "/home/nicobruno/anaconda3/lib/python3.10/site-packages/statsmodels/regression/linear_model.py:1752: RuntimeWarning:\n",
      "\n",
      "divide by zero encountered in scalar divide\n",
      "\n",
      "/home/nicobruno/anaconda3/lib/python3.10/site-packages/statsmodels/stats/outliers_influence.py:195: RuntimeWarning:\n",
      "\n",
      "divide by zero encountered in scalar divide\n",
      "\n"
     ]
    },
    {
     "name": "stdout",
     "output_type": "stream",
     "text": [
      "[1] \"failure to converge in 10000 evaluations\"\n",
      "[2] \" \\n\"                                     \n",
      "\n",
      "unable to evaluate scaled gradient \n",
      "\n",
      "Model failed to converge: degenerate  Hessian with 2 negative eigenvalues \n",
      "\n",
      "[1] \"failure to converge in 10000 evaluations\"\n",
      "[2] \" \\n\"                                     \n",
      "\n",
      "unable to evaluate scaled gradient \n",
      "\n",
      "Model failed to converge: degenerate  Hessian with 2 negative eigenvalues \n",
      "\n",
      "boundary (singular) fit: see help('isSingular') \n",
      "\n",
      "boundary (singular) fit: see help('isSingular') \n",
      "\n",
      "boundary (singular) fit: see help('isSingular') \n",
      "\n",
      "boundary (singular) fit: see help('isSingular') \n",
      "\n",
      "boundary (singular) fit: see help('isSingular') \n",
      "\n",
      "boundary (singular) fit: see help('isSingular') \n",
      "\n",
      "boundary (singular) fit: see help('isSingular') \n",
      "boundary (singular) fit: see help('isSingular') \n",
      "boundary (singular) fit: see help('isSingular') \n",
      "\n",
      "\n",
      "\n",
      "boundary (singular) fit: see help('isSingular') \n",
      "\n",
      "boundary (singular) fit: see help('isSingular') \n",
      "\n",
      "boundary (singular) fit: see help('isSingular') \n",
      "\n",
      "boundary (singular) fit: see help('isSingular') \n",
      "\n",
      "boundary (singular) fit: see help('isSingular') \n",
      "boundary (singular) fit: see help('isSingular') \n",
      "\n",
      "\n",
      "boundary (singular) fit: see help('isSingular') \n",
      "boundary (singular) fit: see help('isSingular') \n",
      "\n",
      "\n",
      "boundary (singular) fit: see help('isSingular') \n",
      "\n",
      "boundary (singular) fit: see help('isSingular') \n",
      "\n",
      "boundary (singular) fit: see help('isSingular') \n",
      "\n",
      "boundary (singular) fit: see help('isSingular') \n",
      "boundary (singular) fit: see help('isSingular') \n",
      "\n",
      "boundary (singular) fit: see help('isSingular') \n",
      "\n",
      "\n",
      "boundary (singular) fit: see help('isSingular') \n",
      "\n",
      "boundary (singular) fit: see help('isSingular') \n",
      "\n",
      "boundary (singular) fit: see help('isSingular') \n",
      "\n",
      "boundary (singular) fit: see help('isSingular') \n",
      "\n",
      "boundary (singular) fit: see help('isSingular') \n",
      "boundary (singular) fit: see help('isSingular') \n",
      "\n",
      "boundary (singular) fit: see help('isSingular') \n",
      "\n",
      "\n",
      "boundary (singular) fit: see help('isSingular') \n",
      "boundary (singular) fit: see help('isSingular') \n",
      "\n",
      "\n",
      "boundary (singular) fit: see help('isSingular') \n",
      "\n",
      "boundary (singular) fit: see help('isSingular') \n",
      "\n",
      "boundary (singular) fit: see help('isSingular') \n",
      "\n",
      "boundary (singular) fit: see help('isSingular') \n",
      "boundary (singular) fit: see help('isSingular') \n",
      "\n",
      "\n",
      "boundary (singular) fit: see help('isSingular') \n",
      "\n",
      "boundary (singular) fit: see help('isSingular') \n",
      "\n",
      "boundary (singular) fit: see help('isSingular') \n",
      "\n",
      "boundary (singular) fit: see help('isSingular') \n",
      "\n",
      "boundary (singular) fit: see help('isSingular') \n",
      "\n",
      "boundary (singular) fit: see help('isSingular') \n",
      "\n",
      "boundary (singular) fit: see help('isSingular') \n",
      "\n",
      "boundary (singular) fit: see help('isSingular') \n",
      "\n",
      "boundary (singular) fit: see help('isSingular') \n",
      "\n",
      "boundary (singular) fit: see help('isSingular') \n",
      "\n",
      "boundary (singular) fit: see help('isSingular') \n",
      "\n",
      "boundary (singular) fit: see help('isSingular') \n",
      "\n",
      "boundary (singular) fit: see help('isSingular') \n",
      "\n",
      "boundary (singular) fit: see help('isSingular') \n",
      "\n",
      "boundary (singular) fit: see help('isSingular') \n",
      "\n",
      "boundary (singular) fit: see help('isSingular') \n",
      "\n",
      "boundary (singular) fit: see help('isSingular') \n",
      "\n",
      "boundary (singular) fit: see help('isSingular') \n",
      "\n",
      "boundary (singular) fit: see help('isSingular') \n",
      "\n",
      "boundary (singular) fit: see help('isSingular') \n",
      "\n",
      "boundary (singular) fit: see help('isSingular') \n",
      "\n",
      "boundary (singular) fit: see help('isSingular') \n",
      "\n",
      "boundary (singular) fit: see help('isSingular') \n",
      "\n",
      "boundary (singular) fit: see help('isSingular') \n",
      "\n",
      "boundary (singular) fit: see help('isSingular') \n",
      "\n",
      "boundary (singular) fit: see help('isSingular') \n",
      "boundary (singular) fit: see help('isSingular') \n",
      "\n",
      "\n",
      "boundary (singular) fit: see help('isSingular') \n",
      "\n",
      "boundary (singular) fit: see help('isSingular') \n",
      "\n",
      "boundary (singular) fit: see help('isSingular') \n",
      "\n",
      "boundary (singular) fit: see help('isSingular') \n",
      "\n",
      "boundary (singular) fit: see help('isSingular') \n",
      "\n",
      "boundary (singular) fit: see help('isSingular') \n",
      "\n",
      "boundary (singular) fit: see help('isSingular') \n",
      "\n",
      "boundary (singular) fit: see help('isSingular') \n",
      "\n",
      "boundary (singular) fit: see help('isSingular') \n",
      "\n",
      "boundary (singular) fit: see help('isSingular') \n",
      "\n",
      "boundary (singular) fit: see help('isSingular') \n",
      "\n",
      "boundary (singular) fit: see help('isSingular') \n",
      "\n",
      "boundary (singular) fit: see help('isSingular') \n",
      "\n",
      "boundary (singular) fit: see help('isSingular') \n",
      "\n",
      "boundary (singular) fit: see help('isSingular') \n",
      "\n",
      "boundary (singular) fit: see help('isSingular') \n",
      "\n",
      "boundary (singular) fit: see help('isSingular') \n",
      "\n",
      "boundary (singular) fit: see help('isSingular') \n",
      "\n",
      "[1] \"failure to converge in 10000 evaluations\"\n",
      "[2] \" \\n\"                                     \n",
      "\n",
      "unable to evaluate scaled gradient \n",
      "\n",
      "Model failed to converge: degenerate  Hessian with 2 negative eigenvalues \n",
      "\n",
      "[1] \"failure to converge in 10000 evaluations\"\n",
      "[2] \" \\n\"                                     \n",
      "\n",
      "Model failed to converge with max|grad| = 0.0243847 (tol = 0.002, component 1) \n",
      "\n",
      " Hessian is numerically singular: parameters are not uniquely determined \n",
      "\n",
      "[1] \"failure to converge in 10000 evaluations\"\n",
      "[2] \" \\n\"                                     \n",
      "\n",
      "unable to evaluate scaled gradient \n",
      "\n",
      "Model failed to converge: degenerate  Hessian with 3 negative eigenvalues \n",
      "\n",
      "[1] \"failure to converge in 10000 evaluations\"\n",
      "[2] \" \\n\"                                     \n",
      "\n",
      "unable to evaluate scaled gradient \n",
      "\n",
      "Model failed to converge: degenerate  Hessian with 6 negative eigenvalues \n",
      "\n",
      "[1] \"failure to converge in 10000 evaluations\"\n",
      "[2] \" \\n\"                                     \n",
      "\n",
      "unable to evaluate scaled gradient \n",
      "\n",
      "Model failed to converge: degenerate  Hessian with 6 negative eigenvalues \n",
      "\n",
      "boundary (singular) fit: see help('isSingular') \n",
      "\n",
      "boundary (singular) fit: see help('isSingular') \n",
      "\n",
      "boundary (singular) fit: see help('isSingular') \n",
      "\n",
      "boundary (singular) fit: see help('isSingular') \n",
      "\n",
      "boundary (singular) fit: see help('isSingular') \n",
      "\n",
      "boundary (singular) fit: see help('isSingular') \n",
      "\n",
      "boundary (singular) fit: see help('isSingular') \n",
      "\n",
      "boundary (singular) fit: see help('isSingular') \n",
      "\n",
      "[1] \"failure to converge in 10000 evaluations\"\n",
      "[2] \" \\n\"                                     \n",
      "\n",
      "unable to evaluate scaled gradient \n",
      "\n",
      "Model failed to converge: degenerate  Hessian with 5 negative eigenvalues \n",
      "\n",
      "[1] \"failure to converge in 10000 evaluations\"\n",
      "[2] \" \\n\"                                     \n",
      "\n",
      "unable to evaluate scaled gradient \n",
      "\n",
      "Model failed to converge: degenerate  Hessian with 1 negative eigenvalues \n",
      "\n",
      "[1] \"failure to converge in 10000 evaluations\"\n",
      "[2] \" \\n\"                                     \n",
      "\n",
      "unable to evaluate scaled gradient \n",
      "\n",
      "Model failed to converge: degenerate  Hessian with 3 negative eigenvalues \n",
      "\n",
      "[1] \"failure to converge in 10000 evaluations\"\n",
      "[2] \" \\n\"                                     \n",
      "\n",
      "unable to evaluate scaled gradient \n",
      "\n",
      "Model failed to converge: degenerate  Hessian with 2 negative eigenvalues \n",
      "\n",
      "[1] \"failure to converge in 10000 evaluations\"\n",
      "[2] \" \\n\"                                     \n",
      "\n",
      "unable to evaluate scaled gradient \n",
      "\n",
      "Model failed to converge: degenerate  Hessian with 7 negative eigenvalues \n",
      "\n",
      "unable to evaluate scaled gradient \n",
      "\n",
      "Model failed to converge: degenerate  Hessian with 3 negative eigenvalues \n",
      "\n",
      "boundary (singular) fit: see help('isSingular') \n",
      "\n",
      "boundary (singular) fit: see help('isSingular') \n",
      "\n",
      "boundary (singular) fit: see help('isSingular') \n",
      "\n",
      "boundary (singular) fit: see help('isSingular') \n",
      "\n",
      "boundary (singular) fit: see help('isSingular') \n",
      "\n",
      "boundary (singular) fit: see help('isSingular') \n",
      "\n",
      "boundary (singular) fit: see help('isSingular') \n",
      "\n",
      "boundary (singular) fit: see help('isSingular') \n",
      "\n",
      "boundary (singular) fit: see help('isSingular') \n",
      "\n",
      "boundary (singular) fit: see help('isSingular') \n",
      "\n",
      "boundary (singular) fit: see help('isSingular') \n",
      "\n",
      "boundary (singular) fit: see help('isSingular') \n",
      "\n",
      "boundary (singular) fit: see help('isSingular') \n",
      "\n",
      "boundary (singular) fit: see help('isSingular') \n",
      "\n",
      "boundary (singular) fit: see help('isSingular') \n",
      "\n",
      "boundary (singular) fit: see help('isSingular') \n",
      "\n",
      "boundary (singular) fit: see help('isSingular') \n",
      "\n",
      "boundary (singular) fit: see help('isSingular') \n",
      "\n",
      "boundary (singular) fit: see help('isSingular') \n",
      "\n",
      "boundary (singular) fit: see help('isSingular') \n",
      "\n",
      "boundary (singular) fit: see help('isSingular') \n",
      "\n",
      "boundary (singular) fit: see help('isSingular') \n",
      "\n",
      "boundary (singular) fit: see help('isSingular') \n",
      "\n",
      "boundary (singular) fit: see help('isSingular') \n",
      "\n",
      "boundary (singular) fit: see help('isSingular') \n",
      "\n",
      "boundary (singular) fit: see help('isSingular') \n",
      "\n",
      "boundary (singular) fit: see help('isSingular') \n",
      "\n",
      "boundary (singular) fit: see help('isSingular') \n",
      "\n",
      "boundary (singular) fit: see help('isSingular') \n",
      "\n",
      "boundary (singular) fit: see help('isSingular') \n",
      "\n",
      "boundary (singular) fit: see help('isSingular') \n",
      "\n",
      "boundary (singular) fit: see help('isSingular') \n",
      "\n",
      "boundary (singular) fit: see help('isSingular') \n",
      "\n",
      "boundary (singular) fit: see help('isSingular') \n",
      "\n",
      "boundary (singular) fit: see help('isSingular') \n",
      "\n",
      "boundary (singular) fit: see help('isSingular') \n",
      "\n",
      "boundary (singular) fit: see help('isSingular') \n",
      "\n",
      "boundary (singular) fit: see help('isSingular') \n",
      "\n",
      "boundary (singular) fit: see help('isSingular') \n",
      "\n",
      "boundary (singular) fit: see help('isSingular') \n",
      "\n",
      "boundary (singular) fit: see help('isSingular') \n",
      "\n",
      "boundary (singular) fit: see help('isSingular') \n",
      "\n",
      "boundary (singular) fit: see help('isSingular') \n",
      "\n",
      "boundary (singular) fit: see help('isSingular') \n",
      "\n",
      "boundary (singular) fit: see help('isSingular') \n",
      "\n",
      "boundary (singular) fit: see help('isSingular') \n",
      "\n",
      "boundary (singular) fit: see help('isSingular') \n",
      "\n",
      "boundary (singular) fit: see help('isSingular') \n",
      "\n",
      "boundary (singular) fit: see help('isSingular') \n",
      "\n",
      "boundary (singular) fit: see help('isSingular') \n",
      "\n",
      "boundary (singular) fit: see help('isSingular') \n",
      "\n",
      "boundary (singular) fit: see help('isSingular') \n",
      "\n",
      "boundary (singular) fit: see help('isSingular') \n",
      "\n",
      "boundary (singular) fit: see help('isSingular') \n",
      "\n",
      "boundary (singular) fit: see help('isSingular') \n",
      "boundary (singular) fit: see help('isSingular') \n",
      "\n",
      "\n",
      "boundary (singular) fit: see help('isSingular') \n",
      "\n",
      "boundary (singular) fit: see help('isSingular') \n",
      "\n",
      "boundary (singular) fit: see help('isSingular') \n",
      "\n",
      "boundary (singular) fit: see help('isSingular') \n",
      "boundary (singular) fit: see help('isSingular') \n",
      "\n",
      "\n",
      "boundary (singular) fit: see help('isSingular') \n",
      "\n",
      "boundary (singular) fit: see help('isSingular') \n",
      "\n",
      "boundary (singular) fit: see help('isSingular') \n",
      "\n",
      "boundary (singular) fit: see help('isSingular') \n",
      "\n",
      "boundary (singular) fit: see help('isSingular') \n",
      "\n",
      "boundary (singular) fit: see help('isSingular') \n",
      "\n",
      "boundary (singular) fit: see help('isSingular') \n",
      "\n",
      "boundary (singular) fit: see help('isSingular') \n",
      "\n",
      "boundary (singular) fit: see help('isSingular') \n",
      "\n",
      "boundary (singular) fit: see help('isSingular') \n",
      "\n",
      "boundary (singular) fit: see help('isSingular') \n",
      "\n",
      "boundary (singular) fit: see help('isSingular') \n",
      "\n",
      "boundary (singular) fit: see help('isSingular') \n",
      "\n",
      "boundary (singular) fit: see help('isSingular') \n",
      "\n",
      "boundary (singular) fit: see help('isSingular') \n",
      "\n",
      "boundary (singular) fit: see help('isSingular') \n",
      "\n",
      "boundary (singular) fit: see help('isSingular') \n",
      "\n",
      "boundary (singular) fit: see help('isSingular') \n",
      "\n",
      "boundary (singular) fit: see help('isSingular') \n",
      "\n",
      "boundary (singular) fit: see help('isSingular') \n",
      "\n",
      "boundary (singular) fit: see help('isSingular') \n",
      "\n",
      "boundary (singular) fit: see help('isSingular') \n",
      "\n",
      "boundary (singular) fit: see help('isSingular') \n",
      "\n",
      "boundary (singular) fit: see help('isSingular') \n",
      "\n",
      "[1] \"failure to converge in 10000 evaluations\"\n",
      "[2] \" \\n\"                                     \n",
      "\n",
      "unable to evaluate scaled gradient \n",
      "\n",
      "Model failed to converge: degenerate  Hessian with 2 negative eigenvalues \n",
      "\n",
      "[1] \"failure to converge in 10000 evaluations\"\n",
      "[2] \" \\n\"                                     \n",
      "\n",
      "unable to evaluate scaled gradient \n",
      "\n",
      "Model failed to converge: degenerate  Hessian with 2 negative eigenvalues \n",
      "\n",
      "[1] \"failure to converge in 10000 evaluations\"\n",
      "[2] \" \\n\"                                     \n",
      "\n",
      "unable to evaluate scaled gradient \n",
      "\n",
      "Model failed to converge: degenerate  Hessian with 1 negative eigenvalues \n",
      "\n",
      "boundary (singular) fit: see help('isSingular') \n",
      "\n",
      "boundary (singular) fit: see help('isSingular') \n",
      "\n",
      "boundary (singular) fit: see help('isSingular') \n",
      "\n",
      "boundary (singular) fit: see help('isSingular') \n",
      "\n",
      "boundary (singular) fit: see help('isSingular') \n",
      "\n",
      "boundary (singular) fit: see help('isSingular') \n",
      "\n",
      "boundary (singular) fit: see help('isSingular') \n",
      "\n",
      "boundary (singular) fit: see help('isSingular') \n",
      "\n",
      "[1] \"failure to converge in 10000 evaluations\"\n",
      "[2] \" \\n\"                                     \n",
      "\n",
      "[1] \"Model failed to converge with max|grad| = 0.0285031 (tol = 0.002, component 1)\"\n",
      "[2] \" \\n\"                                                                           \n",
      "\n",
      "[1] \"Model is nearly unidentifiable: large eigenvalue ratio\\n - Rescale variables?\"\n",
      "[2] \" \\n\"                                                                          \n",
      "\n",
      "[1] \"failure to converge in 10000 evaluations\"\n",
      "[2] \" \\n\"                                     \n",
      "\n",
      "unable to evaluate scaled gradient \n",
      "\n",
      "Model failed to converge: degenerate  Hessian with 1 negative eigenvalues \n",
      "\n",
      "[1] \"failure to converge in 10000 evaluations\"\n",
      "[2] \" \\n\"                                     \n",
      "\n",
      "unable to evaluate scaled gradient \n",
      "\n",
      "Model failed to converge: degenerate  Hessian with 2 negative eigenvalues \n",
      "\n",
      "[1] \"failure to converge in 10000 evaluations\"\n",
      "[2] \" \\n\"                                     \n",
      "\n",
      "[1] \"Model failed to converge with max|grad| = 0.12451 (tol = 0.002, component 1)\"\n",
      "[2] \" \\n\"                                                                         \n",
      "\n",
      "[1] \"Model is nearly unidentifiable: large eigenvalue ratio\\n - Rescale variables?\"\n",
      "[2] \" \\n\"                                                                          \n",
      "\n",
      "[1] \"failure to converge in 10000 evaluations\"\n",
      "[2] \" \\n\"                                     \n",
      "\n",
      "unable to evaluate scaled gradient \n",
      "\n",
      "Model failed to converge: degenerate  Hessian with 3 negative eigenvalues \n",
      "\n",
      "boundary (singular) fit: see help('isSingular') \n",
      "\n",
      "boundary (singular) fit: see help('isSingular') \n",
      "\n",
      "boundary (singular) fit: see help('isSingular') \n",
      "\n",
      "boundary (singular) fit: see help('isSingular') \n",
      "\n",
      "boundary (singular) fit: see help('isSingular') \n",
      "\n",
      "boundary (singular) fit: see help('isSingular') \n",
      "\n",
      "boundary (singular) fit: see help('isSingular') \n",
      "\n",
      "boundary (singular) fit: see help('isSingular') \n",
      "\n",
      "boundary (singular) fit: see help('isSingular') \n",
      "\n",
      "boundary (singular) fit: see help('isSingular') \n",
      "\n",
      "boundary (singular) fit: see help('isSingular') \n",
      "\n",
      "boundary (singular) fit: see help('isSingular') \n",
      "\n",
      "boundary (singular) fit: see help('isSingular') \n",
      "\n",
      "boundary (singular) fit: see help('isSingular') \n",
      "boundary (singular) fit: see help('isSingular') \n",
      "\n",
      "\n",
      "boundary (singular) fit: see help('isSingular') \n",
      "\n",
      "boundary (singular) fit: see help('isSingular') \n",
      "\n",
      "boundary (singular) fit: see help('isSingular') \n",
      "\n",
      "boundary (singular) fit: see help('isSingular') \n",
      "\n",
      "boundary (singular) fit: see help('isSingular') \n",
      "\n",
      "boundary (singular) fit: see help('isSingular') \n",
      "\n",
      "boundary (singular) fit: see help('isSingular') \n",
      "\n",
      "boundary (singular) fit: see help('isSingular') \n",
      "\n",
      "boundary (singular) fit: see help('isSingular') \n",
      "\n",
      "boundary (singular) fit: see help('isSingular') \n",
      "\n",
      "boundary (singular) fit: see help('isSingular') \n",
      "\n",
      "boundary (singular) fit: see help('isSingular') \n",
      "\n",
      "boundary (singular) fit: see help('isSingular') \n",
      "\n",
      "boundary (singular) fit: see help('isSingular') \n",
      "\n",
      "boundary (singular) fit: see help('isSingular') \n",
      "\n",
      "boundary (singular) fit: see help('isSingular') \n",
      "\n",
      "boundary (singular) fit: see help('isSingular') \n",
      "\n",
      "boundary (singular) fit: see help('isSingular') \n",
      "\n",
      "boundary (singular) fit: see help('isSingular') \n",
      "\n",
      "boundary (singular) fit: see help('isSingular') \n",
      "\n",
      "boundary (singular) fit: see help('isSingular') \n",
      "\n",
      "boundary (singular) fit: see help('isSingular') \n",
      "\n",
      "boundary (singular) fit: see help('isSingular') \n",
      "\n",
      "boundary (singular) fit: see help('isSingular') \n",
      "\n",
      "boundary (singular) fit: see help('isSingular') \n",
      "\n",
      "boundary (singular) fit: see help('isSingular') \n",
      "\n",
      "boundary (singular) fit: see help('isSingular') \n",
      "\n",
      "boundary (singular) fit: see help('isSingular') \n",
      "\n",
      "boundary (singular) fit: see help('isSingular') \n",
      "\n",
      "boundary (singular) fit: see help('isSingular') \n",
      "\n",
      "boundary (singular) fit: see help('isSingular') \n",
      "\n",
      "boundary (singular) fit: see help('isSingular') \n",
      "\n",
      "boundary (singular) fit: see help('isSingular') \n",
      "\n",
      "boundary (singular) fit: see help('isSingular') \n",
      "\n",
      "boundary (singular) fit: see help('isSingular') \n",
      "\n",
      "boundary (singular) fit: see help('isSingular') \n",
      "\n",
      "boundary (singular) fit: see help('isSingular') \n",
      "\n",
      "boundary (singular) fit: see help('isSingular') \n",
      "boundary (singular) fit: see help('isSingular') \n",
      "\n",
      "\n",
      "boundary (singular) fit: see help('isSingular') \n",
      "\n",
      "boundary (singular) fit: see help('isSingular') \n",
      "\n",
      "boundary (singular) fit: see help('isSingular') \n",
      "\n",
      "boundary (singular) fit: see help('isSingular') \n",
      "\n",
      "boundary (singular) fit: see help('isSingular') \n",
      "\n",
      "boundary (singular) fit: see help('isSingular') \n",
      "\n",
      "boundary (singular) fit: see help('isSingular') \n",
      "\n",
      "boundary (singular) fit: see help('isSingular') \n",
      "\n",
      "boundary (singular) fit: see help('isSingular') \n",
      "\n",
      "boundary (singular) fit: see help('isSingular') \n",
      "\n",
      "boundary (singular) fit: see help('isSingular') \n",
      "boundary (singular) fit: see help('isSingular') \n",
      "\n",
      "\n",
      "boundary (singular) fit: see help('isSingular') \n",
      "\n",
      "boundary (singular) fit: see help('isSingular') \n",
      "\n",
      "boundary (singular) fit: see help('isSingular') \n",
      "\n",
      "boundary (singular) fit: see help('isSingular') \n",
      "\n",
      "boundary (singular) fit: see help('isSingular') \n",
      "\n",
      "boundary (singular) fit: see help('isSingular') \n",
      "\n",
      "boundary (singular) fit: see help('isSingular') \n",
      "\n",
      "boundary (singular) fit: see help('isSingular') \n",
      "\n",
      "boundary (singular) fit: see help('isSingular') \n",
      "\n",
      "boundary (singular) fit: see help('isSingular') \n",
      "\n",
      "boundary (singular) fit: see help('isSingular') \n",
      "\n",
      "boundary (singular) fit: see help('isSingular') \n",
      "\n",
      "[1] \"failure to converge in 10000 evaluations\"\n",
      "[2] \" \\n\"                                     \n",
      "\n",
      "unable to evaluate scaled gradient \n",
      "\n",
      "Model failed to converge: degenerate  Hessian with 3 negative eigenvalues \n",
      "\n",
      "[1] \"failure to converge in 10000 evaluations\"\n",
      "[2] \" \\n\"                                     \n",
      "\n",
      "unable to evaluate scaled gradient \n",
      "\n",
      "Model failed to converge: degenerate  Hessian with 1 negative eigenvalues \n",
      "\n",
      "[1] \"failure to converge in 10000 evaluations\"\n",
      "[2] \" \\n\"                                     \n",
      "\n",
      "[1] \"Model is nearly unidentifiable: large eigenvalue ratio\\n - Rescale variables?\"\n",
      "[2] \" \\n\"                                                                          \n",
      "\n",
      "boundary (singular) fit: see help('isSingular') \n",
      "\n",
      "boundary (singular) fit: see help('isSingular') \n",
      "\n",
      "boundary (singular) fit: see help('isSingular') \n",
      "\n",
      "boundary (singular) fit: see help('isSingular') \n",
      "\n",
      "boundary (singular) fit: see help('isSingular') \n",
      "\n",
      "boundary (singular) fit: see help('isSingular') \n",
      "\n",
      "[1] \"failure to converge in 10000 evaluations\"\n",
      "[2] \" \\n\"                                     \n",
      "\n",
      "unable to evaluate scaled gradient \n",
      "\n",
      "Model failed to converge: degenerate  Hessian with 1 negative eigenvalues \n",
      "\n",
      "boundary (singular) fit: see help('isSingular') \n",
      "\n",
      "[1] \"failure to converge in 10000 evaluations\"\n",
      "[2] \" \\n\"                                     \n",
      "\n",
      "unable to evaluate scaled gradient \n",
      "\n",
      "Model failed to converge: degenerate  Hessian with 4 negative eigenvalues \n",
      "\n",
      "[1] \"failure to converge in 10000 evaluations\"\n",
      "[2] \" \\n\"                                     \n",
      "\n",
      "unable to evaluate scaled gradient \n",
      "\n",
      "Model failed to converge: degenerate  Hessian with 2 negative eigenvalues \n",
      "\n",
      "[1] \"failure to converge in 10000 evaluations\"\n",
      "[2] \" \\n\"                                     \n",
      "\n",
      "unable to evaluate scaled gradient \n",
      "\n",
      "Model failed to converge: degenerate  Hessian with 7 negative eigenvalues \n",
      "\n",
      "[1] \"failure to converge in 10000 evaluations\"\n",
      "[2] \" \\n\"                                     \n",
      "\n",
      " Hessian is numerically singular: parameters are not uniquely determined \n",
      "\n",
      "[1] \"failure to converge in 10000 evaluations\"\n",
      "[2] \" \\n\"                                     \n",
      "\n",
      "unable to evaluate scaled gradient \n",
      "\n",
      "Model failed to converge: degenerate  Hessian with 2 negative eigenvalues \n",
      "\n",
      "[1] \"failure to converge in 10000 evaluations\"\n",
      "[2] \" \\n\"                                     \n",
      "\n",
      "unable to evaluate scaled gradient \n",
      "\n",
      "Model failed to converge: degenerate  Hessian with 2 negative eigenvalues \n",
      "\n",
      "[1] \"failure to converge in 10000 evaluations\"\n",
      "[2] \" \\n\"                                     \n",
      "\n",
      "unable to evaluate scaled gradient \n",
      "\n",
      "Model failed to converge: degenerate  Hessian with 1 negative eigenvalues \n",
      "\n",
      "[1] \"failure to converge in 10000 evaluations\"\n",
      "[2] \" \\n\"                                     \n",
      "\n",
      "unable to evaluate scaled gradient \n",
      "\n",
      "Model failed to converge: degenerate  Hessian with 2 negative eigenvalues \n",
      "\n",
      "[1] \"failure to converge in 10000 evaluations\"\n",
      "[2] \" \\n\"                                     \n",
      "\n",
      "unable to evaluate scaled gradient \n",
      "\n",
      "Model failed to converge: degenerate  Hessian with 2 negative eigenvalues \n",
      "\n",
      "[1] \"failure to converge in 10000 evaluations\"\n",
      "[2] \" \\n\"                                     \n",
      "\n",
      "unable to evaluate scaled gradient \n",
      "\n",
      "Model failed to converge: degenerate  Hessian with 1 negative eigenvalues \n",
      "\n",
      "[1] \"failure to converge in 10000 evaluations\"\n",
      "[2] \" \\n\"                                     \n",
      "\n",
      "unable to evaluate scaled gradient \n",
      "\n",
      "Model failed to converge: degenerate  Hessian with 3 negative eigenvalues \n",
      "\n",
      "[1] \"failure to converge in 10000 evaluations\"\n",
      "[2] \" \\n\"                                     \n",
      "\n",
      "unable to evaluate scaled gradient \n",
      "\n",
      "Model failed to converge: degenerate  Hessian with 4 negative eigenvalues \n",
      "\n",
      "boundary (singular) fit: see help('isSingular') \n",
      "\n",
      "boundary (singular) fit: see help('isSingular') \n",
      "\n",
      "boundary (singular) fit: see help('isSingular') \n",
      "\n",
      "boundary (singular) fit: see help('isSingular') \n",
      "\n",
      "boundary (singular) fit: see help('isSingular') \n",
      "\n",
      "boundary (singular) fit: see help('isSingular') \n",
      "\n",
      "boundary (singular) fit: see help('isSingular') \n",
      "\n",
      "boundary (singular) fit: see help('isSingular') \n",
      "\n",
      "boundary (singular) fit: see help('isSingular') \n",
      "\n",
      "boundary (singular) fit: see help('isSingular') \n",
      "\n",
      "boundary (singular) fit: see help('isSingular') \n",
      "\n",
      "boundary (singular) fit: see help('isSingular') \n",
      "\n",
      "boundary (singular) fit: see help('isSingular') \n",
      "\n",
      "boundary (singular) fit: see help('isSingular') \n",
      "\n",
      "boundary (singular) fit: see help('isSingular') \n",
      "\n",
      "boundary (singular) fit: see help('isSingular') \n",
      "\n",
      "boundary (singular) fit: see help('isSingular') \n",
      "\n",
      "boundary (singular) fit: see help('isSingular') \n",
      "\n",
      "boundary (singular) fit: see help('isSingular') \n",
      "\n",
      "boundary (singular) fit: see help('isSingular') \n",
      "\n",
      "boundary (singular) fit: see help('isSingular') \n",
      "\n",
      "boundary (singular) fit: see help('isSingular') \n",
      "\n",
      "boundary (singular) fit: see help('isSingular') \n",
      "\n",
      "boundary (singular) fit: see help('isSingular') \n",
      "\n",
      "boundary (singular) fit: see help('isSingular') \n",
      "\n",
      "boundary (singular) fit: see help('isSingular') \n",
      "\n",
      "boundary (singular) fit: see help('isSingular') \n",
      "\n",
      "boundary (singular) fit: see help('isSingular') \n",
      "\n",
      "boundary (singular) fit: see help('isSingular') \n",
      "\n",
      "boundary (singular) fit: see help('isSingular') \n",
      "\n",
      "boundary (singular) fit: see help('isSingular') \n",
      "\n",
      "boundary (singular) fit: see help('isSingular') \n",
      "boundary (singular) fit: see help('isSingular') \n",
      "\n",
      "\n",
      "boundary (singular) fit: see help('isSingular') \n",
      "\n",
      "boundary (singular) fit: see help('isSingular') \n",
      "\n",
      "boundary (singular) fit: see help('isSingular') \n",
      "\n",
      "boundary (singular) fit: see help('isSingular') \n",
      "\n",
      "boundary (singular) fit: see help('isSingular') \n",
      "\n",
      "boundary (singular) fit: see help('isSingular') \n",
      "\n",
      "boundary (singular) fit: see help('isSingular') \n",
      "\n",
      "boundary (singular) fit: see help('isSingular') \n",
      "\n",
      "boundary (singular) fit: see help('isSingular') \n",
      "\n",
      "boundary (singular) fit: see help('isSingular') \n",
      "\n",
      "boundary (singular) fit: see help('isSingular') \n",
      "\n",
      "boundary (singular) fit: see help('isSingular') \n",
      "\n",
      "boundary (singular) fit: see help('isSingular') \n",
      "\n",
      "boundary (singular) fit: see help('isSingular') \n",
      "\n",
      "boundary (singular) fit: see help('isSingular') \n",
      "\n",
      "boundary (singular) fit: see help('isSingular') \n",
      "\n",
      "boundary (singular) fit: see help('isSingular') \n",
      "\n",
      "boundary (singular) fit: see help('isSingular') \n",
      "\n",
      "boundary (singular) fit: see help('isSingular') \n",
      "\n",
      "boundary (singular) fit: see help('isSingular') \n",
      "\n",
      "boundary (singular) fit: see help('isSingular') \n",
      "\n",
      "boundary (singular) fit: see help('isSingular') \n",
      "\n",
      "boundary (singular) fit: see help('isSingular') \n",
      "\n",
      "boundary (singular) fit: see help('isSingular') \n",
      "\n",
      "boundary (singular) fit: see help('isSingular') \n",
      "\n",
      "boundary (singular) fit: see help('isSingular') \n",
      "\n",
      "boundary (singular) fit: see help('isSingular') \n",
      "\n",
      "boundary (singular) fit: see help('isSingular') \n",
      "boundary (singular) fit: see help('isSingular') \n",
      "boundary (singular) fit: see help('isSingular') \n",
      "\n",
      "\n",
      "\n",
      "boundary (singular) fit: see help('isSingular') \n",
      "\n",
      "boundary (singular) fit: see help('isSingular') \n",
      "\n",
      "boundary (singular) fit: see help('isSingular') \n",
      "\n",
      "boundary (singular) fit: see help('isSingular') \n",
      "boundary (singular) fit: see help('isSingular') \n",
      "\n",
      "\n",
      "boundary (singular) fit: see help('isSingular') \n",
      "\n",
      "boundary (singular) fit: see help('isSingular') \n",
      "\n",
      "boundary (singular) fit: see help('isSingular') \n",
      "\n",
      "boundary (singular) fit: see help('isSingular') \n",
      "\n",
      "boundary (singular) fit: see help('isSingular') \n",
      "\n",
      "boundary (singular) fit: see help('isSingular') \n",
      "boundary (singular) fit: see help('isSingular') \n",
      "\n",
      "\n",
      "boundary (singular) fit: see help('isSingular') \n",
      "\n",
      "boundary (singular) fit: see help('isSingular') \n",
      "\n",
      "boundary (singular) fit: see help('isSingular') \n",
      "\n",
      "[1] \"failure to converge in 10000 evaluations\"\n",
      "[2] \" \\n\"                                     \n",
      "\n",
      " Hessian is numerically singular: parameters are not uniquely determined \n",
      "\n",
      "[1] \"failure to converge in 10000 evaluations\"\n",
      "[2] \" \\n\"                                     \n",
      "\n",
      "unable to evaluate scaled gradient \n",
      "\n",
      "Model failed to converge: degenerate  Hessian with 1 negative eigenvalues \n",
      "\n",
      "[1] \"failure to converge in 10000 evaluations\"\n",
      "[2] \" \\n\"                                     \n",
      "\n",
      "unable to evaluate scaled gradient \n",
      "\n",
      "Model failed to converge: degenerate  Hessian with 3 negative eigenvalues \n",
      "\n",
      "[1] \"failure to converge in 10000 evaluations\"\n",
      "[2] \" \\n\"                                     \n",
      "\n",
      "unable to evaluate scaled gradient \n",
      "\n",
      "Model failed to converge: degenerate  Hessian with 2 negative eigenvalues \n",
      "\n",
      "[1] \"failure to converge in 10000 evaluations\"\n",
      "[2] \" \\n\"                                     \n",
      "\n",
      "unable to evaluate scaled gradient \n",
      "\n",
      "Model failed to converge: degenerate  Hessian with 3 negative eigenvalues \n",
      "\n",
      "boundary (singular) fit: see help('isSingular') \n",
      "\n",
      "boundary (singular) fit: see help('isSingular') \n",
      "\n",
      "boundary (singular) fit: see help('isSingular') \n",
      "\n",
      "boundary (singular) fit: see help('isSingular') \n",
      "\n",
      "boundary (singular) fit: see help('isSingular') \n",
      "\n",
      "boundary (singular) fit: see help('isSingular') \n",
      "\n",
      "boundary (singular) fit: see help('isSingular') \n",
      "\n",
      "[1] \"failure to converge in 10000 evaluations\"\n",
      "[2] \" \\n\"                                     \n",
      "\n",
      "unable to evaluate scaled gradient \n",
      "\n",
      "Model failed to converge: degenerate  Hessian with 3 negative eigenvalues \n",
      "\n",
      "[1] \"failure to converge in 10000 evaluations\"\n",
      "[2] \" \\n\"                                     \n",
      "\n",
      "unable to evaluate scaled gradient \n",
      "\n",
      "Model failed to converge: degenerate  Hessian with 2 negative eigenvalues \n",
      "\n",
      "[1] \"failure to converge in 10000 evaluations\"\n",
      "[2] \" \\n\"                                     \n",
      "\n",
      "unable to evaluate scaled gradient \n",
      "\n",
      "Model failed to converge: degenerate  Hessian with 5 negative eigenvalues \n",
      "\n",
      "[1] \"failure to converge in 10000 evaluations\"\n",
      "[2] \" \\n\"                                     \n",
      "\n",
      "unable to evaluate scaled gradient \n",
      "\n",
      "Model failed to converge: degenerate  Hessian with 6 negative eigenvalues \n",
      "\n",
      "[1] \"failure to converge in 10000 evaluations\"\n",
      "[2] \" \\n\"                                     \n",
      "\n",
      "[1] \"Model failed to converge with max|grad| = 0.0383104 (tol = 0.002, component 1)\"\n",
      "[2] \" \\n\"                                                                           \n",
      "\n",
      "[1] \"Model is nearly unidentifiable: large eigenvalue ratio\\n - Rescale variables?\"\n",
      "[2] \" \\n\"                                                                          \n",
      "\n",
      "[1] \"failure to converge in 10000 evaluations\"\n",
      "[2] \" \\n\"                                     \n",
      "\n",
      "[1] \"Model failed to converge with max|grad| = 0.0104902 (tol = 0.002, component 1)\"\n",
      "[2] \" \\n\"                                                                           \n",
      "\n",
      "[1] \"Model is nearly unidentifiable: large eigenvalue ratio\\n - Rescale variables?\"\n",
      "[2] \" \\n\"                                                                          \n",
      "\n",
      "[1] \"failure to converge in 10000 evaluations\"\n",
      "[2] \" \\n\"                                     \n",
      "\n",
      "unable to evaluate scaled gradient \n",
      "\n",
      "Model failed to converge: degenerate  Hessian with 3 negative eigenvalues \n",
      "\n",
      "[1] \"failure to converge in 10000 evaluations\"\n",
      "[2] \" \\n\"                                     \n",
      "\n",
      "unable to evaluate scaled gradient \n",
      "\n",
      " Hessian is numerically singular: parameters are not uniquely determined \n",
      "\n",
      "[1] \"failure to converge in 10000 evaluations\"\n",
      "[2] \" \\n\"                                     \n",
      "\n",
      "unable to evaluate scaled gradient \n",
      "\n",
      "Model failed to converge: degenerate  Hessian with 2 negative eigenvalues \n",
      "\n",
      "[1] \"failure to converge in 10000 evaluations\"\n",
      "[2] \" \\n\"                                     \n",
      "\n",
      "[1] \"Model failed to converge with max|grad| = 0.0262723 (tol = 0.002, component 1)\"\n",
      "[2] \" \\n\"                                                                           \n",
      "\n",
      "[1] \"Model is nearly unidentifiable: large eigenvalue ratio\\n - Rescale variables?\"\n",
      "[2] \" \\n\"                                                                          \n",
      "\n",
      "[1] \"failure to converge in 10000 evaluations\"\n",
      "[2] \" \\n\"                                     \n",
      "\n",
      "unable to evaluate scaled gradient \n",
      "\n",
      "Model failed to converge: degenerate  Hessian with 5 negative eigenvalues \n",
      "\n",
      "boundary (singular) fit: see help('isSingular') \n",
      "\n",
      "boundary (singular) fit: see help('isSingular') \n",
      "\n",
      "boundary (singular) fit: see help('isSingular') \n",
      "\n",
      "boundary (singular) fit: see help('isSingular') \n",
      "\n",
      "boundary (singular) fit: see help('isSingular') \n",
      "\n",
      "boundary (singular) fit: see help('isSingular') \n",
      "\n",
      "boundary (singular) fit: see help('isSingular') \n",
      "\n",
      "boundary (singular) fit: see help('isSingular') \n",
      "\n",
      "boundary (singular) fit: see help('isSingular') \n",
      "\n",
      "boundary (singular) fit: see help('isSingular') \n",
      "\n",
      "boundary (singular) fit: see help('isSingular') \n",
      "\n",
      "boundary (singular) fit: see help('isSingular') \n",
      "\n",
      "boundary (singular) fit: see help('isSingular') \n",
      "\n",
      "boundary (singular) fit: see help('isSingular') \n",
      "\n",
      "boundary (singular) fit: see help('isSingular') \n",
      "\n",
      "boundary (singular) fit: see help('isSingular') \n",
      "\n",
      "boundary (singular) fit: see help('isSingular') \n",
      "\n",
      "boundary (singular) fit: see help('isSingular') \n",
      "\n",
      "boundary (singular) fit: see help('isSingular') \n",
      "\n",
      "boundary (singular) fit: see help('isSingular') \n",
      "\n",
      "boundary (singular) fit: see help('isSingular') \n",
      "\n",
      "boundary (singular) fit: see help('isSingular') \n",
      "\n",
      "boundary (singular) fit: see help('isSingular') \n",
      "\n",
      "boundary (singular) fit: see help('isSingular') \n",
      "\n",
      "boundary (singular) fit: see help('isSingular') \n",
      "\n",
      "boundary (singular) fit: see help('isSingular') \n",
      "\n",
      "boundary (singular) fit: see help('isSingular') \n",
      "\n",
      "boundary (singular) fit: see help('isSingular') \n",
      "\n",
      "boundary (singular) fit: see help('isSingular') \n",
      "\n",
      "boundary (singular) fit: see help('isSingular') \n",
      "\n",
      "boundary (singular) fit: see help('isSingular') \n",
      "\n",
      "boundary (singular) fit: see help('isSingular') \n",
      "\n",
      "boundary (singular) fit: see help('isSingular') \n",
      "\n",
      "boundary (singular) fit: see help('isSingular') \n",
      "\n",
      "boundary (singular) fit: see help('isSingular') \n",
      "\n",
      "boundary (singular) fit: see help('isSingular') \n",
      "\n",
      "boundary (singular) fit: see help('isSingular') \n",
      "\n",
      "boundary (singular) fit: see help('isSingular') \n",
      "\n",
      "boundary (singular) fit: see help('isSingular') \n",
      "\n",
      "boundary (singular) fit: see help('isSingular') \n",
      "\n",
      "boundary (singular) fit: see help('isSingular') \n",
      "\n",
      "boundary (singular) fit: see help('isSingular') \n",
      "\n",
      "boundary (singular) fit: see help('isSingular') \n",
      "\n",
      "boundary (singular) fit: see help('isSingular') \n",
      "\n",
      "boundary (singular) fit: see help('isSingular') \n",
      "\n",
      "boundary (singular) fit: see help('isSingular') \n",
      "\n",
      "boundary (singular) fit: see help('isSingular') \n",
      "\n",
      "boundary (singular) fit: see help('isSingular') \n",
      "\n",
      "boundary (singular) fit: see help('isSingular') \n",
      "\n",
      "boundary (singular) fit: see help('isSingular') \n",
      "\n",
      "boundary (singular) fit: see help('isSingular') \n",
      "\n",
      "boundary (singular) fit: see help('isSingular') \n",
      "\n",
      "boundary (singular) fit: see help('isSingular') \n",
      "\n",
      "boundary (singular) fit: see help('isSingular') \n",
      "\n",
      "boundary (singular) fit: see help('isSingular') \n",
      "\n",
      "boundary (singular) fit: see help('isSingular') \n",
      "\n",
      "boundary (singular) fit: see help('isSingular') \n",
      "boundary (singular) fit: see help('isSingular') \n",
      "\n",
      "\n",
      "boundary (singular) fit: see help('isSingular') \n",
      "\n",
      "boundary (singular) fit: see help('isSingular') \n",
      "\n",
      "boundary (singular) fit: see help('isSingular') \n",
      "\n",
      "boundary (singular) fit: see help('isSingular') \n",
      "\n",
      "boundary (singular) fit: see help('isSingular') \n",
      "\n",
      "boundary (singular) fit: see help('isSingular') \n",
      "\n",
      "boundary (singular) fit: see help('isSingular') \n",
      "\n",
      "boundary (singular) fit: see help('isSingular') \n",
      "\n",
      "boundary (singular) fit: see help('isSingular') \n",
      "\n",
      "boundary (singular) fit: see help('isSingular') \n",
      "\n",
      "boundary (singular) fit: see help('isSingular') \n",
      "\n",
      "boundary (singular) fit: see help('isSingular') \n",
      "boundary (singular) fit: see help('isSingular') \n",
      "\n",
      "\n",
      "boundary (singular) fit: see help('isSingular') \n",
      "\n",
      "boundary (singular) fit: see help('isSingular') \n",
      "\n",
      "boundary (singular) fit: see help('isSingular') \n",
      "\n",
      "boundary (singular) fit: see help('isSingular') \n",
      "\n",
      "boundary (singular) fit: see help('isSingular') \n",
      "\n",
      "boundary (singular) fit: see help('isSingular') \n",
      "\n",
      "boundary (singular) fit: see help('isSingular') \n",
      "\n",
      "boundary (singular) fit: see help('isSingular') \n",
      "\n",
      "boundary (singular) fit: see help('isSingular') \n",
      "\n",
      "boundary (singular) fit: see help('isSingular') \n",
      "\n",
      "boundary (singular) fit: see help('isSingular') \n",
      "\n",
      "boundary (singular) fit: see help('isSingular') \n",
      "\n",
      "boundary (singular) fit: see help('isSingular') \n",
      "\n",
      "boundary (singular) fit: see help('isSingular') \n",
      "\n",
      "boundary (singular) fit: see help('isSingular') \n",
      "\n",
      "[1] \"failure to converge in 10000 evaluations\"\n",
      "[2] \" \\n\"                                     \n",
      "\n",
      "unable to evaluate scaled gradient \n",
      "\n",
      "Model failed to converge: degenerate  Hessian with 3 negative eigenvalues \n",
      "\n",
      "[1] \"failure to converge in 10000 evaluations\"\n",
      "[2] \" \\n\"                                     \n",
      "\n",
      "unable to evaluate scaled gradient \n",
      "\n",
      "Model failed to converge: degenerate  Hessian with 6 negative eigenvalues \n",
      "\n",
      "boundary (singular) fit: see help('isSingular') \n",
      "boundary (singular) fit: see help('isSingular') \n",
      "\n",
      "\n",
      "[1] \"failure to converge in 10000 evaluations\"\n",
      "[2] \" \\n\"                                     \n",
      "\n",
      "unable to evaluate scaled gradient \n",
      "\n",
      "Model failed to converge: degenerate  Hessian with 8 negative eigenvalues \n",
      "\n",
      "boundary (singular) fit: see help('isSingular') \n",
      "\n",
      "boundary (singular) fit: see help('isSingular') \n",
      "\n",
      "boundary (singular) fit: see help('isSingular') \n",
      "\n",
      "boundary (singular) fit: see help('isSingular') \n",
      "\n",
      "boundary (singular) fit: see help('isSingular') \n",
      "\n",
      "[1] \"failure to converge in 10000 evaluations\"\n",
      "[2] \" \\n\"                                     \n",
      "\n",
      "[1] \"Model failed to converge with max|grad| = 0.014579 (tol = 0.002, component 1)\"\n",
      "[2] \" \\n\"                                                                          \n",
      "\n",
      "[1] \"Model is nearly unidentifiable: large eigenvalue ratio\\n - Rescale variables?\"\n",
      "[2] \" \\n\"                                                                          \n",
      "\n",
      "[1] \"failure to converge in 10000 evaluations\"\n",
      "[2] \" \\n\"                                     \n",
      "\n",
      "unable to evaluate scaled gradient \n",
      "\n",
      "Model failed to converge: degenerate  Hessian with 5 negative eigenvalues \n",
      "\n",
      "[1] \"failure to converge in 10000 evaluations\"\n",
      "[2] \" \\n\"                                     \n",
      "\n",
      "unable to evaluate scaled gradient \n",
      "\n",
      "Model failed to converge: degenerate  Hessian with 5 negative eigenvalues \n",
      "\n",
      "[1] \"failure to converge in 10000 evaluations\"\n",
      "[2] \" \\n\"                                     \n",
      "\n",
      "unable to evaluate scaled gradient \n",
      "\n",
      "Model failed to converge: degenerate  Hessian with 1 negative eigenvalues \n",
      "\n"
     ]
    }
   ],
   "source": [
    "from pymer4.models import Lmer\n",
    "from sklearn.metrics import roc_auc_score, f1_score\n",
    "from sklearn.model_selection import GroupKFold\n",
    "import pandas as pd\n",
    "import numpy as np\n",
    "from tqdm import tqdm\n",
    "import os\n",
    "from scipy.special import expit  # For the logistic sigmoid function\n",
    "from statsmodels.stats.outliers_influence import variance_inflation_factor\n",
    "from statsmodels.tools.tools import add_constant\n",
    "from joblib import Parallel, delayed\n",
    "\n",
    "# Prepare data\n",
    "X = df_mind.drop(['mind2', 'mind2_numeric', 'participant', 'segment'], axis=1)\n",
    "clusters = df_mind['participant']\n",
    "y = df_mind['mind2_numeric']\n",
    "\n",
    "\n",
    "X_const = add_constant(X)\n",
    "# Calculate VIF for each predictor variable\n",
    "vif_data = pd.DataFrame()\n",
    "vif_data[\"feature\"] = X_const.columns\n",
    "vif_data[\"VIF\"] = [variance_inflation_factor(X_const.values, i) for i in range(len(X_const.columns))]\n",
    "selected_features = vif_data[vif_data[\"VIF\"] <= 10][\"feature\"].tolist()\n",
    "if 'const' in selected_features:\n",
    "    selected_features.remove('const')\n",
    "X = X[selected_features]\n",
    "\n",
    "\n",
    "# Generate fixed effects formula dynamically\n",
    "formula_fixed_effects = ' + '.join(X.columns)\n",
    "formula = f\"mind2_numeric ~ {formula_fixed_effects} + (1|participant)\"\n",
    "\n",
    "# Fitting the LMER model\n",
    "model_all = Lmer(formula, data=df_mind, family=\"binomial\")\n",
    "model_all.fit(verbose = False, summary = False)\n",
    "# Initialize StratifiedKFold, and lists for actual AUC and permutation AUC scores\n",
    "auc_scores = []\n",
    "f1_scores = []\n",
    "kappa_scores = []\n",
    "\n",
    "perm_auc = []\n",
    "perm_f1 = []\n",
    "perm_kappa = []\n",
    "\n",
    "\n",
    "n_splits = 5\n",
    "group_kfold = GroupKFold(n_splits=n_splits)\n",
    "\n",
    "# Assuming df_mw['participant'] contains the participant IDs\n",
    "groups = df_mind['participant'].values\n",
    "\n",
    "for train_index, test_index in group_kfold.split(X, y, groups):\n",
    "    df_train = df_mind.iloc[train_index]\n",
    "    # df_train[marker] = StandardScaler().fit_transform(df_train[marker].values.reshape(-1, 1))\n",
    "    df_test = df_mind.iloc[test_index]\n",
    "    # df_test[marker] = StandardScaler().fit_transform(df_test[marker].values.reshape(-1, 1))\n",
    "    y_test = y[test_index]\n",
    "    model = Lmer(formula, data=df_train, family=\"binomial\")\n",
    "    model.fit(verbose = False, summary = False)\n",
    "    \n",
    "\n",
    "    predicted_probabilities = model.predict(df_test, use_rfx=True, verify_predictions=False)\n",
    "    predicted_labels = [1 if prob > 0.5 else 0 for prob in predicted_probabilities]\n",
    "\n",
    "    auc = roc_auc_score(y_test, predicted_probabilities)\n",
    "    auc_scores.append(auc)\n",
    "    f1 = f1_score(y_test, predicted_labels)\n",
    "    f1_scores.append(f1)\n",
    "    kappa = cohen_kappa_score(y_test, predicted_labels)\n",
    "    kappa_scores.append(kappa)\n",
    "    \n",
    "    perm_scores = Parallel(n_jobs=-1)(\n",
    "                            delayed(perform_permutation)(formula, df_train, df_test, y_test, label = 'mind2_numeric')\n",
    "                            for _ in range(100)\n",
    "                        )\n",
    "    \n",
    "    # Add the list of scores for this fold to the master list\n",
    "    perm_auc.append(perm_scores[0])\n",
    "    perm_f1.append(perm_scores[1])\n",
    "    perm_kappa.append(perm_scores[2])\n",
    "    \n",
    "\n",
    "# Convert 2D list to DataFrame\n",
    "df_perm_auc = pd.DataFrame(perm_auc).T\n",
    "df_perm_f1 = pd.DataFrame(perm_f1).T\n",
    "df_perm_kappa = pd.DataFrame(perm_kappa).T\n",
    "\n",
    "\n",
    "# Average across folds for each permutation run\n",
    "df_perm_auc['Mean_score'] = df_perm_auc.mean(axis=1)\n",
    "df_perm_f1['Mean_score'] = df_perm_f1.mean(axis=1)\n",
    "df_perm_kappa['Mean_score'] = df_perm_kappa.mean(axis=1)\n",
    "    \n",
    "\n",
    "# Compute AUC statistics\n",
    "auc_mean = np.mean(auc_scores)\n",
    "auc_std = np.std(auc_scores)\n",
    "auc_pvalue = np.mean(df_perm_kappa['Mean_score'] >= auc_mean)\n",
    "\n",
    "# Compute F1 statistics\n",
    "f1_mean = np.mean(f1_scores)\n",
    "f1_std = np.std(f1_scores)\n",
    "f1_pvalue = np.mean(df_perm_f1['Mean_score'] >= f1_mean)\n",
    "\n",
    "# Compute F1 statistics\n",
    "kappa_mean = np.mean(kappa_scores)\n",
    "kappa_std = np.std(kappa_scores)\n",
    "kappa_pvalue = np.mean(df_perm_kappa['Mean_score'] >= kappa_mean)\n",
    "        \n",
    "\n",
    "# Save DataFrames to CSV\n",
    "# Assuming results_path is defined\n",
    "# df_auc_mind = pd.DataFrame({'auc': actual_auc_scores, 'Model': 'Actual'})\n",
    "# df_auc_mind.to_csv(os.path.join(results_path, 'GLMM_mvpa_actual_mind.csv'), index=False)\n",
    "# df_perm_mind.to_csv(os.path.join(results_path, 'GLMM_mvpa_perm_mind.csv'), index=False)"
   ]
  },
  {
   "cell_type": "code",
   "execution_count": 18,
   "metadata": {},
   "outputs": [
    {
     "data": {
      "text/plain": [
       "0.5718846951304554"
      ]
     },
     "execution_count": 18,
     "metadata": {},
     "output_type": "execute_result"
    }
   ],
   "source": [
    "auc_mean"
   ]
  },
  {
   "cell_type": "code",
   "execution_count": 16,
   "id": "arranged-facility",
   "metadata": {},
   "outputs": [
    {
     "name": "stdout",
     "output_type": "stream",
     "text": [
      "0.5947583419332645\n"
     ]
    },
    {
     "data": {
      "application/vnd.plotly.v1+json": {
       "config": {
        "plotlyServerURL": "https://plot.ly"
       },
       "data": [
        {
         "alignmentgroup": "True",
         "box": {
          "visible": true
         },
         "hovertemplate": "AUC=%{x}<extra></extra>",
         "legendgroup": "",
         "marker": {
          "color": "#DE237B"
         },
         "name": "",
         "offsetgroup": "",
         "orientation": "h",
         "points": "all",
         "scalegroup": "True",
         "showlegend": false,
         "type": "violin",
         "x": [
          0.6842105263157894,
          0.6546052631578947,
          0.5953947368421053,
          0.555921052631579,
          0.4836601307189542
         ],
         "x0": " ",
         "xaxis": "x",
         "y0": " ",
         "yaxis": "y"
        }
       ],
       "layout": {
        "autosize": false,
        "height": 800,
        "legend": {
         "tracegroupgap": 0
        },
        "margin": {
         "t": 60
        },
        "shapes": [
         {
          "line": {
           "color": "grey",
           "dash": "dash",
           "width": 3
          },
          "type": "line",
          "x0": 0.5,
          "x1": 0.5,
          "xref": "x",
          "y0": 0,
          "y1": 1,
          "yref": "y domain"
         }
        ],
        "template": {
         "data": {
          "bar": [
           {
            "error_x": {
             "color": "#2a3f5f"
            },
            "error_y": {
             "color": "#2a3f5f"
            },
            "marker": {
             "line": {
              "color": "white",
              "width": 0.5
             },
             "pattern": {
              "fillmode": "overlay",
              "size": 10,
              "solidity": 0.2
             }
            },
            "type": "bar"
           }
          ],
          "barpolar": [
           {
            "marker": {
             "line": {
              "color": "white",
              "width": 0.5
             },
             "pattern": {
              "fillmode": "overlay",
              "size": 10,
              "solidity": 0.2
             }
            },
            "type": "barpolar"
           }
          ],
          "carpet": [
           {
            "aaxis": {
             "endlinecolor": "#2a3f5f",
             "gridcolor": "#C8D4E3",
             "linecolor": "#C8D4E3",
             "minorgridcolor": "#C8D4E3",
             "startlinecolor": "#2a3f5f"
            },
            "baxis": {
             "endlinecolor": "#2a3f5f",
             "gridcolor": "#C8D4E3",
             "linecolor": "#C8D4E3",
             "minorgridcolor": "#C8D4E3",
             "startlinecolor": "#2a3f5f"
            },
            "type": "carpet"
           }
          ],
          "choropleth": [
           {
            "colorbar": {
             "outlinewidth": 0,
             "ticks": ""
            },
            "type": "choropleth"
           }
          ],
          "contour": [
           {
            "colorbar": {
             "outlinewidth": 0,
             "ticks": ""
            },
            "colorscale": [
             [
              0,
              "#0d0887"
             ],
             [
              0.1111111111111111,
              "#46039f"
             ],
             [
              0.2222222222222222,
              "#7201a8"
             ],
             [
              0.3333333333333333,
              "#9c179e"
             ],
             [
              0.4444444444444444,
              "#bd3786"
             ],
             [
              0.5555555555555556,
              "#d8576b"
             ],
             [
              0.6666666666666666,
              "#ed7953"
             ],
             [
              0.7777777777777778,
              "#fb9f3a"
             ],
             [
              0.8888888888888888,
              "#fdca26"
             ],
             [
              1,
              "#f0f921"
             ]
            ],
            "type": "contour"
           }
          ],
          "contourcarpet": [
           {
            "colorbar": {
             "outlinewidth": 0,
             "ticks": ""
            },
            "type": "contourcarpet"
           }
          ],
          "heatmap": [
           {
            "colorbar": {
             "outlinewidth": 0,
             "ticks": ""
            },
            "colorscale": [
             [
              0,
              "#0d0887"
             ],
             [
              0.1111111111111111,
              "#46039f"
             ],
             [
              0.2222222222222222,
              "#7201a8"
             ],
             [
              0.3333333333333333,
              "#9c179e"
             ],
             [
              0.4444444444444444,
              "#bd3786"
             ],
             [
              0.5555555555555556,
              "#d8576b"
             ],
             [
              0.6666666666666666,
              "#ed7953"
             ],
             [
              0.7777777777777778,
              "#fb9f3a"
             ],
             [
              0.8888888888888888,
              "#fdca26"
             ],
             [
              1,
              "#f0f921"
             ]
            ],
            "type": "heatmap"
           }
          ],
          "heatmapgl": [
           {
            "colorbar": {
             "outlinewidth": 0,
             "ticks": ""
            },
            "colorscale": [
             [
              0,
              "#0d0887"
             ],
             [
              0.1111111111111111,
              "#46039f"
             ],
             [
              0.2222222222222222,
              "#7201a8"
             ],
             [
              0.3333333333333333,
              "#9c179e"
             ],
             [
              0.4444444444444444,
              "#bd3786"
             ],
             [
              0.5555555555555556,
              "#d8576b"
             ],
             [
              0.6666666666666666,
              "#ed7953"
             ],
             [
              0.7777777777777778,
              "#fb9f3a"
             ],
             [
              0.8888888888888888,
              "#fdca26"
             ],
             [
              1,
              "#f0f921"
             ]
            ],
            "type": "heatmapgl"
           }
          ],
          "histogram": [
           {
            "marker": {
             "pattern": {
              "fillmode": "overlay",
              "size": 10,
              "solidity": 0.2
             }
            },
            "type": "histogram"
           }
          ],
          "histogram2d": [
           {
            "colorbar": {
             "outlinewidth": 0,
             "ticks": ""
            },
            "colorscale": [
             [
              0,
              "#0d0887"
             ],
             [
              0.1111111111111111,
              "#46039f"
             ],
             [
              0.2222222222222222,
              "#7201a8"
             ],
             [
              0.3333333333333333,
              "#9c179e"
             ],
             [
              0.4444444444444444,
              "#bd3786"
             ],
             [
              0.5555555555555556,
              "#d8576b"
             ],
             [
              0.6666666666666666,
              "#ed7953"
             ],
             [
              0.7777777777777778,
              "#fb9f3a"
             ],
             [
              0.8888888888888888,
              "#fdca26"
             ],
             [
              1,
              "#f0f921"
             ]
            ],
            "type": "histogram2d"
           }
          ],
          "histogram2dcontour": [
           {
            "colorbar": {
             "outlinewidth": 0,
             "ticks": ""
            },
            "colorscale": [
             [
              0,
              "#0d0887"
             ],
             [
              0.1111111111111111,
              "#46039f"
             ],
             [
              0.2222222222222222,
              "#7201a8"
             ],
             [
              0.3333333333333333,
              "#9c179e"
             ],
             [
              0.4444444444444444,
              "#bd3786"
             ],
             [
              0.5555555555555556,
              "#d8576b"
             ],
             [
              0.6666666666666666,
              "#ed7953"
             ],
             [
              0.7777777777777778,
              "#fb9f3a"
             ],
             [
              0.8888888888888888,
              "#fdca26"
             ],
             [
              1,
              "#f0f921"
             ]
            ],
            "type": "histogram2dcontour"
           }
          ],
          "mesh3d": [
           {
            "colorbar": {
             "outlinewidth": 0,
             "ticks": ""
            },
            "type": "mesh3d"
           }
          ],
          "parcoords": [
           {
            "line": {
             "colorbar": {
              "outlinewidth": 0,
              "ticks": ""
             }
            },
            "type": "parcoords"
           }
          ],
          "pie": [
           {
            "automargin": true,
            "type": "pie"
           }
          ],
          "scatter": [
           {
            "marker": {
             "colorbar": {
              "outlinewidth": 0,
              "ticks": ""
             }
            },
            "type": "scatter"
           }
          ],
          "scatter3d": [
           {
            "line": {
             "colorbar": {
              "outlinewidth": 0,
              "ticks": ""
             }
            },
            "marker": {
             "colorbar": {
              "outlinewidth": 0,
              "ticks": ""
             }
            },
            "type": "scatter3d"
           }
          ],
          "scattercarpet": [
           {
            "marker": {
             "colorbar": {
              "outlinewidth": 0,
              "ticks": ""
             }
            },
            "type": "scattercarpet"
           }
          ],
          "scattergeo": [
           {
            "marker": {
             "colorbar": {
              "outlinewidth": 0,
              "ticks": ""
             }
            },
            "type": "scattergeo"
           }
          ],
          "scattergl": [
           {
            "marker": {
             "colorbar": {
              "outlinewidth": 0,
              "ticks": ""
             }
            },
            "type": "scattergl"
           }
          ],
          "scattermapbox": [
           {
            "marker": {
             "colorbar": {
              "outlinewidth": 0,
              "ticks": ""
             }
            },
            "type": "scattermapbox"
           }
          ],
          "scatterpolar": [
           {
            "marker": {
             "colorbar": {
              "outlinewidth": 0,
              "ticks": ""
             }
            },
            "type": "scatterpolar"
           }
          ],
          "scatterpolargl": [
           {
            "marker": {
             "colorbar": {
              "outlinewidth": 0,
              "ticks": ""
             }
            },
            "type": "scatterpolargl"
           }
          ],
          "scatterternary": [
           {
            "marker": {
             "colorbar": {
              "outlinewidth": 0,
              "ticks": ""
             }
            },
            "type": "scatterternary"
           }
          ],
          "surface": [
           {
            "colorbar": {
             "outlinewidth": 0,
             "ticks": ""
            },
            "colorscale": [
             [
              0,
              "#0d0887"
             ],
             [
              0.1111111111111111,
              "#46039f"
             ],
             [
              0.2222222222222222,
              "#7201a8"
             ],
             [
              0.3333333333333333,
              "#9c179e"
             ],
             [
              0.4444444444444444,
              "#bd3786"
             ],
             [
              0.5555555555555556,
              "#d8576b"
             ],
             [
              0.6666666666666666,
              "#ed7953"
             ],
             [
              0.7777777777777778,
              "#fb9f3a"
             ],
             [
              0.8888888888888888,
              "#fdca26"
             ],
             [
              1,
              "#f0f921"
             ]
            ],
            "type": "surface"
           }
          ],
          "table": [
           {
            "cells": {
             "fill": {
              "color": "#EBF0F8"
             },
             "line": {
              "color": "white"
             }
            },
            "header": {
             "fill": {
              "color": "#C8D4E3"
             },
             "line": {
              "color": "white"
             }
            },
            "type": "table"
           }
          ]
         },
         "layout": {
          "annotationdefaults": {
           "arrowcolor": "#2a3f5f",
           "arrowhead": 0,
           "arrowwidth": 1
          },
          "autotypenumbers": "strict",
          "coloraxis": {
           "colorbar": {
            "outlinewidth": 0,
            "ticks": ""
           }
          },
          "colorscale": {
           "diverging": [
            [
             0,
             "#8e0152"
            ],
            [
             0.1,
             "#c51b7d"
            ],
            [
             0.2,
             "#de77ae"
            ],
            [
             0.3,
             "#f1b6da"
            ],
            [
             0.4,
             "#fde0ef"
            ],
            [
             0.5,
             "#f7f7f7"
            ],
            [
             0.6,
             "#e6f5d0"
            ],
            [
             0.7,
             "#b8e186"
            ],
            [
             0.8,
             "#7fbc41"
            ],
            [
             0.9,
             "#4d9221"
            ],
            [
             1,
             "#276419"
            ]
           ],
           "sequential": [
            [
             0,
             "#0d0887"
            ],
            [
             0.1111111111111111,
             "#46039f"
            ],
            [
             0.2222222222222222,
             "#7201a8"
            ],
            [
             0.3333333333333333,
             "#9c179e"
            ],
            [
             0.4444444444444444,
             "#bd3786"
            ],
            [
             0.5555555555555556,
             "#d8576b"
            ],
            [
             0.6666666666666666,
             "#ed7953"
            ],
            [
             0.7777777777777778,
             "#fb9f3a"
            ],
            [
             0.8888888888888888,
             "#fdca26"
            ],
            [
             1,
             "#f0f921"
            ]
           ],
           "sequentialminus": [
            [
             0,
             "#0d0887"
            ],
            [
             0.1111111111111111,
             "#46039f"
            ],
            [
             0.2222222222222222,
             "#7201a8"
            ],
            [
             0.3333333333333333,
             "#9c179e"
            ],
            [
             0.4444444444444444,
             "#bd3786"
            ],
            [
             0.5555555555555556,
             "#d8576b"
            ],
            [
             0.6666666666666666,
             "#ed7953"
            ],
            [
             0.7777777777777778,
             "#fb9f3a"
            ],
            [
             0.8888888888888888,
             "#fdca26"
            ],
            [
             1,
             "#f0f921"
            ]
           ]
          },
          "colorway": [
           "#636efa",
           "#EF553B",
           "#00cc96",
           "#ab63fa",
           "#FFA15A",
           "#19d3f3",
           "#FF6692",
           "#B6E880",
           "#FF97FF",
           "#FECB52"
          ],
          "font": {
           "color": "#2a3f5f"
          },
          "geo": {
           "bgcolor": "white",
           "lakecolor": "white",
           "landcolor": "white",
           "showlakes": true,
           "showland": true,
           "subunitcolor": "#C8D4E3"
          },
          "hoverlabel": {
           "align": "left"
          },
          "hovermode": "closest",
          "mapbox": {
           "style": "light"
          },
          "paper_bgcolor": "white",
          "plot_bgcolor": "white",
          "polar": {
           "angularaxis": {
            "gridcolor": "#EBF0F8",
            "linecolor": "#EBF0F8",
            "ticks": ""
           },
           "bgcolor": "white",
           "radialaxis": {
            "gridcolor": "#EBF0F8",
            "linecolor": "#EBF0F8",
            "ticks": ""
           }
          },
          "scene": {
           "xaxis": {
            "backgroundcolor": "white",
            "gridcolor": "#DFE8F3",
            "gridwidth": 2,
            "linecolor": "#EBF0F8",
            "showbackground": true,
            "ticks": "",
            "zerolinecolor": "#EBF0F8"
           },
           "yaxis": {
            "backgroundcolor": "white",
            "gridcolor": "#DFE8F3",
            "gridwidth": 2,
            "linecolor": "#EBF0F8",
            "showbackground": true,
            "ticks": "",
            "zerolinecolor": "#EBF0F8"
           },
           "zaxis": {
            "backgroundcolor": "white",
            "gridcolor": "#DFE8F3",
            "gridwidth": 2,
            "linecolor": "#EBF0F8",
            "showbackground": true,
            "ticks": "",
            "zerolinecolor": "#EBF0F8"
           }
          },
          "shapedefaults": {
           "line": {
            "color": "#2a3f5f"
           }
          },
          "ternary": {
           "aaxis": {
            "gridcolor": "#DFE8F3",
            "linecolor": "#A2B1C6",
            "ticks": ""
           },
           "baxis": {
            "gridcolor": "#DFE8F3",
            "linecolor": "#A2B1C6",
            "ticks": ""
           },
           "bgcolor": "white",
           "caxis": {
            "gridcolor": "#DFE8F3",
            "linecolor": "#A2B1C6",
            "ticks": ""
           }
          },
          "title": {
           "x": 0.05
          },
          "xaxis": {
           "automargin": true,
           "gridcolor": "#EBF0F8",
           "linecolor": "#EBF0F8",
           "ticks": "",
           "title": {
            "standoff": 15
           },
           "zerolinecolor": "#EBF0F8",
           "zerolinewidth": 2
          },
          "yaxis": {
           "automargin": true,
           "gridcolor": "#EBF0F8",
           "linecolor": "#EBF0F8",
           "ticks": "",
           "title": {
            "standoff": 15
           },
           "zerolinecolor": "#EBF0F8",
           "zerolinewidth": 2
          }
         }
        },
        "violinmode": "group",
        "width": 800,
        "xaxis": {
         "anchor": "y",
         "domain": [
          0,
          1
         ],
         "range": [
          0.2,
          1
         ],
         "title": {
          "text": "AUC"
         }
        },
        "yaxis": {
         "anchor": "x",
         "domain": [
          0,
          1
         ],
         "showticklabels": true,
         "tickmode": "linear",
         "title": {
          "text": "Whole model"
         }
        }
       }
      },
      "text/html": [
       "<div>                            <div id=\"ff7b34b0-cd82-46dc-bd1c-fae6add9cb66\" class=\"plotly-graph-div\" style=\"height:800px; width:800px;\"></div>            <script type=\"text/javascript\">                require([\"plotly\"], function(Plotly) {                    window.PLOTLYENV=window.PLOTLYENV || {};                                    if (document.getElementById(\"ff7b34b0-cd82-46dc-bd1c-fae6add9cb66\")) {                    Plotly.newPlot(                        \"ff7b34b0-cd82-46dc-bd1c-fae6add9cb66\",                        [{\"alignmentgroup\":\"True\",\"box\":{\"visible\":true},\"hovertemplate\":\"AUC=%{x}<extra></extra>\",\"legendgroup\":\"\",\"marker\":{\"color\":\"#DE237B\"},\"name\":\"\",\"offsetgroup\":\"\",\"orientation\":\"h\",\"points\":\"all\",\"scalegroup\":\"True\",\"showlegend\":false,\"x\":[0.6842105263157894,0.6546052631578947,0.5953947368421053,0.555921052631579,0.4836601307189542],\"x0\":\" \",\"xaxis\":\"x\",\"y0\":\" \",\"yaxis\":\"y\",\"type\":\"violin\"}],                        {\"template\":{\"data\":{\"barpolar\":[{\"marker\":{\"line\":{\"color\":\"white\",\"width\":0.5},\"pattern\":{\"fillmode\":\"overlay\",\"size\":10,\"solidity\":0.2}},\"type\":\"barpolar\"}],\"bar\":[{\"error_x\":{\"color\":\"#2a3f5f\"},\"error_y\":{\"color\":\"#2a3f5f\"},\"marker\":{\"line\":{\"color\":\"white\",\"width\":0.5},\"pattern\":{\"fillmode\":\"overlay\",\"size\":10,\"solidity\":0.2}},\"type\":\"bar\"}],\"carpet\":[{\"aaxis\":{\"endlinecolor\":\"#2a3f5f\",\"gridcolor\":\"#C8D4E3\",\"linecolor\":\"#C8D4E3\",\"minorgridcolor\":\"#C8D4E3\",\"startlinecolor\":\"#2a3f5f\"},\"baxis\":{\"endlinecolor\":\"#2a3f5f\",\"gridcolor\":\"#C8D4E3\",\"linecolor\":\"#C8D4E3\",\"minorgridcolor\":\"#C8D4E3\",\"startlinecolor\":\"#2a3f5f\"},\"type\":\"carpet\"}],\"choropleth\":[{\"colorbar\":{\"outlinewidth\":0,\"ticks\":\"\"},\"type\":\"choropleth\"}],\"contourcarpet\":[{\"colorbar\":{\"outlinewidth\":0,\"ticks\":\"\"},\"type\":\"contourcarpet\"}],\"contour\":[{\"colorbar\":{\"outlinewidth\":0,\"ticks\":\"\"},\"colorscale\":[[0.0,\"#0d0887\"],[0.1111111111111111,\"#46039f\"],[0.2222222222222222,\"#7201a8\"],[0.3333333333333333,\"#9c179e\"],[0.4444444444444444,\"#bd3786\"],[0.5555555555555556,\"#d8576b\"],[0.6666666666666666,\"#ed7953\"],[0.7777777777777778,\"#fb9f3a\"],[0.8888888888888888,\"#fdca26\"],[1.0,\"#f0f921\"]],\"type\":\"contour\"}],\"heatmapgl\":[{\"colorbar\":{\"outlinewidth\":0,\"ticks\":\"\"},\"colorscale\":[[0.0,\"#0d0887\"],[0.1111111111111111,\"#46039f\"],[0.2222222222222222,\"#7201a8\"],[0.3333333333333333,\"#9c179e\"],[0.4444444444444444,\"#bd3786\"],[0.5555555555555556,\"#d8576b\"],[0.6666666666666666,\"#ed7953\"],[0.7777777777777778,\"#fb9f3a\"],[0.8888888888888888,\"#fdca26\"],[1.0,\"#f0f921\"]],\"type\":\"heatmapgl\"}],\"heatmap\":[{\"colorbar\":{\"outlinewidth\":0,\"ticks\":\"\"},\"colorscale\":[[0.0,\"#0d0887\"],[0.1111111111111111,\"#46039f\"],[0.2222222222222222,\"#7201a8\"],[0.3333333333333333,\"#9c179e\"],[0.4444444444444444,\"#bd3786\"],[0.5555555555555556,\"#d8576b\"],[0.6666666666666666,\"#ed7953\"],[0.7777777777777778,\"#fb9f3a\"],[0.8888888888888888,\"#fdca26\"],[1.0,\"#f0f921\"]],\"type\":\"heatmap\"}],\"histogram2dcontour\":[{\"colorbar\":{\"outlinewidth\":0,\"ticks\":\"\"},\"colorscale\":[[0.0,\"#0d0887\"],[0.1111111111111111,\"#46039f\"],[0.2222222222222222,\"#7201a8\"],[0.3333333333333333,\"#9c179e\"],[0.4444444444444444,\"#bd3786\"],[0.5555555555555556,\"#d8576b\"],[0.6666666666666666,\"#ed7953\"],[0.7777777777777778,\"#fb9f3a\"],[0.8888888888888888,\"#fdca26\"],[1.0,\"#f0f921\"]],\"type\":\"histogram2dcontour\"}],\"histogram2d\":[{\"colorbar\":{\"outlinewidth\":0,\"ticks\":\"\"},\"colorscale\":[[0.0,\"#0d0887\"],[0.1111111111111111,\"#46039f\"],[0.2222222222222222,\"#7201a8\"],[0.3333333333333333,\"#9c179e\"],[0.4444444444444444,\"#bd3786\"],[0.5555555555555556,\"#d8576b\"],[0.6666666666666666,\"#ed7953\"],[0.7777777777777778,\"#fb9f3a\"],[0.8888888888888888,\"#fdca26\"],[1.0,\"#f0f921\"]],\"type\":\"histogram2d\"}],\"histogram\":[{\"marker\":{\"pattern\":{\"fillmode\":\"overlay\",\"size\":10,\"solidity\":0.2}},\"type\":\"histogram\"}],\"mesh3d\":[{\"colorbar\":{\"outlinewidth\":0,\"ticks\":\"\"},\"type\":\"mesh3d\"}],\"parcoords\":[{\"line\":{\"colorbar\":{\"outlinewidth\":0,\"ticks\":\"\"}},\"type\":\"parcoords\"}],\"pie\":[{\"automargin\":true,\"type\":\"pie\"}],\"scatter3d\":[{\"line\":{\"colorbar\":{\"outlinewidth\":0,\"ticks\":\"\"}},\"marker\":{\"colorbar\":{\"outlinewidth\":0,\"ticks\":\"\"}},\"type\":\"scatter3d\"}],\"scattercarpet\":[{\"marker\":{\"colorbar\":{\"outlinewidth\":0,\"ticks\":\"\"}},\"type\":\"scattercarpet\"}],\"scattergeo\":[{\"marker\":{\"colorbar\":{\"outlinewidth\":0,\"ticks\":\"\"}},\"type\":\"scattergeo\"}],\"scattergl\":[{\"marker\":{\"colorbar\":{\"outlinewidth\":0,\"ticks\":\"\"}},\"type\":\"scattergl\"}],\"scattermapbox\":[{\"marker\":{\"colorbar\":{\"outlinewidth\":0,\"ticks\":\"\"}},\"type\":\"scattermapbox\"}],\"scatterpolargl\":[{\"marker\":{\"colorbar\":{\"outlinewidth\":0,\"ticks\":\"\"}},\"type\":\"scatterpolargl\"}],\"scatterpolar\":[{\"marker\":{\"colorbar\":{\"outlinewidth\":0,\"ticks\":\"\"}},\"type\":\"scatterpolar\"}],\"scatter\":[{\"marker\":{\"colorbar\":{\"outlinewidth\":0,\"ticks\":\"\"}},\"type\":\"scatter\"}],\"scatterternary\":[{\"marker\":{\"colorbar\":{\"outlinewidth\":0,\"ticks\":\"\"}},\"type\":\"scatterternary\"}],\"surface\":[{\"colorbar\":{\"outlinewidth\":0,\"ticks\":\"\"},\"colorscale\":[[0.0,\"#0d0887\"],[0.1111111111111111,\"#46039f\"],[0.2222222222222222,\"#7201a8\"],[0.3333333333333333,\"#9c179e\"],[0.4444444444444444,\"#bd3786\"],[0.5555555555555556,\"#d8576b\"],[0.6666666666666666,\"#ed7953\"],[0.7777777777777778,\"#fb9f3a\"],[0.8888888888888888,\"#fdca26\"],[1.0,\"#f0f921\"]],\"type\":\"surface\"}],\"table\":[{\"cells\":{\"fill\":{\"color\":\"#EBF0F8\"},\"line\":{\"color\":\"white\"}},\"header\":{\"fill\":{\"color\":\"#C8D4E3\"},\"line\":{\"color\":\"white\"}},\"type\":\"table\"}]},\"layout\":{\"annotationdefaults\":{\"arrowcolor\":\"#2a3f5f\",\"arrowhead\":0,\"arrowwidth\":1},\"autotypenumbers\":\"strict\",\"coloraxis\":{\"colorbar\":{\"outlinewidth\":0,\"ticks\":\"\"}},\"colorscale\":{\"diverging\":[[0,\"#8e0152\"],[0.1,\"#c51b7d\"],[0.2,\"#de77ae\"],[0.3,\"#f1b6da\"],[0.4,\"#fde0ef\"],[0.5,\"#f7f7f7\"],[0.6,\"#e6f5d0\"],[0.7,\"#b8e186\"],[0.8,\"#7fbc41\"],[0.9,\"#4d9221\"],[1,\"#276419\"]],\"sequential\":[[0.0,\"#0d0887\"],[0.1111111111111111,\"#46039f\"],[0.2222222222222222,\"#7201a8\"],[0.3333333333333333,\"#9c179e\"],[0.4444444444444444,\"#bd3786\"],[0.5555555555555556,\"#d8576b\"],[0.6666666666666666,\"#ed7953\"],[0.7777777777777778,\"#fb9f3a\"],[0.8888888888888888,\"#fdca26\"],[1.0,\"#f0f921\"]],\"sequentialminus\":[[0.0,\"#0d0887\"],[0.1111111111111111,\"#46039f\"],[0.2222222222222222,\"#7201a8\"],[0.3333333333333333,\"#9c179e\"],[0.4444444444444444,\"#bd3786\"],[0.5555555555555556,\"#d8576b\"],[0.6666666666666666,\"#ed7953\"],[0.7777777777777778,\"#fb9f3a\"],[0.8888888888888888,\"#fdca26\"],[1.0,\"#f0f921\"]]},\"colorway\":[\"#636efa\",\"#EF553B\",\"#00cc96\",\"#ab63fa\",\"#FFA15A\",\"#19d3f3\",\"#FF6692\",\"#B6E880\",\"#FF97FF\",\"#FECB52\"],\"font\":{\"color\":\"#2a3f5f\"},\"geo\":{\"bgcolor\":\"white\",\"lakecolor\":\"white\",\"landcolor\":\"white\",\"showlakes\":true,\"showland\":true,\"subunitcolor\":\"#C8D4E3\"},\"hoverlabel\":{\"align\":\"left\"},\"hovermode\":\"closest\",\"mapbox\":{\"style\":\"light\"},\"paper_bgcolor\":\"white\",\"plot_bgcolor\":\"white\",\"polar\":{\"angularaxis\":{\"gridcolor\":\"#EBF0F8\",\"linecolor\":\"#EBF0F8\",\"ticks\":\"\"},\"bgcolor\":\"white\",\"radialaxis\":{\"gridcolor\":\"#EBF0F8\",\"linecolor\":\"#EBF0F8\",\"ticks\":\"\"}},\"scene\":{\"xaxis\":{\"backgroundcolor\":\"white\",\"gridcolor\":\"#DFE8F3\",\"gridwidth\":2,\"linecolor\":\"#EBF0F8\",\"showbackground\":true,\"ticks\":\"\",\"zerolinecolor\":\"#EBF0F8\"},\"yaxis\":{\"backgroundcolor\":\"white\",\"gridcolor\":\"#DFE8F3\",\"gridwidth\":2,\"linecolor\":\"#EBF0F8\",\"showbackground\":true,\"ticks\":\"\",\"zerolinecolor\":\"#EBF0F8\"},\"zaxis\":{\"backgroundcolor\":\"white\",\"gridcolor\":\"#DFE8F3\",\"gridwidth\":2,\"linecolor\":\"#EBF0F8\",\"showbackground\":true,\"ticks\":\"\",\"zerolinecolor\":\"#EBF0F8\"}},\"shapedefaults\":{\"line\":{\"color\":\"#2a3f5f\"}},\"ternary\":{\"aaxis\":{\"gridcolor\":\"#DFE8F3\",\"linecolor\":\"#A2B1C6\",\"ticks\":\"\"},\"baxis\":{\"gridcolor\":\"#DFE8F3\",\"linecolor\":\"#A2B1C6\",\"ticks\":\"\"},\"bgcolor\":\"white\",\"caxis\":{\"gridcolor\":\"#DFE8F3\",\"linecolor\":\"#A2B1C6\",\"ticks\":\"\"}},\"title\":{\"x\":0.05},\"xaxis\":{\"automargin\":true,\"gridcolor\":\"#EBF0F8\",\"linecolor\":\"#EBF0F8\",\"ticks\":\"\",\"title\":{\"standoff\":15},\"zerolinecolor\":\"#EBF0F8\",\"zerolinewidth\":2},\"yaxis\":{\"automargin\":true,\"gridcolor\":\"#EBF0F8\",\"linecolor\":\"#EBF0F8\",\"ticks\":\"\",\"title\":{\"standoff\":15},\"zerolinecolor\":\"#EBF0F8\",\"zerolinewidth\":2}}},\"xaxis\":{\"anchor\":\"y\",\"domain\":[0.0,1.0],\"title\":{\"text\":\"AUC\"},\"range\":[0.2,1]},\"yaxis\":{\"anchor\":\"x\",\"domain\":[0.0,1.0],\"title\":{\"text\":\"Whole model\"},\"showticklabels\":true,\"tickmode\":\"linear\"},\"legend\":{\"tracegroupgap\":0},\"margin\":{\"t\":60},\"violinmode\":\"group\",\"shapes\":[{\"line\":{\"color\":\"grey\",\"dash\":\"dash\",\"width\":3},\"type\":\"line\",\"x0\":0.5,\"x1\":0.5,\"xref\":\"x\",\"y0\":0,\"y1\":1,\"yref\":\"y domain\"}],\"autosize\":false,\"width\":800,\"height\":800},                        {\"responsive\": true}                    ).then(function(){\n",
       "                            \n",
       "var gd = document.getElementById('ff7b34b0-cd82-46dc-bd1c-fae6add9cb66');\n",
       "var x = new MutationObserver(function (mutations, observer) {{\n",
       "        var display = window.getComputedStyle(gd).display;\n",
       "        if (!display || display === 'none') {{\n",
       "            console.log([gd, 'removed!']);\n",
       "            Plotly.purge(gd);\n",
       "            observer.disconnect();\n",
       "        }}\n",
       "}});\n",
       "\n",
       "// Listen for the removal of the full notebook cells\n",
       "var notebookContainer = gd.closest('#notebook-container');\n",
       "if (notebookContainer) {{\n",
       "    x.observe(notebookContainer, {childList: true});\n",
       "}}\n",
       "\n",
       "// Listen for the clearing of the current output cell\n",
       "var outputEl = gd.closest('.output');\n",
       "if (outputEl) {{\n",
       "    x.observe(outputEl, {childList: true});\n",
       "}}\n",
       "\n",
       "                        })                };                });            </script>        </div>"
      ]
     },
     "metadata": {},
     "output_type": "display_data"
    }
   ],
   "source": [
    "df_auc_mind = pd.read_csv(os.path.join(results_path, 'GLMM_mvpa_actual_mind.csv'))\n",
    "df_perm_mind = pd.read_csv(os.path.join(results_path, 'GLMM_mvpa_perm_mind.csv'))\n",
    "\n",
    "print(df_auc_mind.auc.mean())\n",
    "\n",
    "fig =px.violin(df_auc_mind, x = 'auc', box = True, points = 'all',template = \"plotly_white\", color_discrete_sequence = [pink], labels = {'auc': 'AUC'})\n",
    "fig.add_vline(x=0.5, line_width=3, line_dash=\"dash\", line_color=\"grey\")\n",
    "\n",
    "fig.update_layout(\n",
    "#     title = f'Mean AUC = {df_forest_mind.auc.mean()}',\n",
    "    autosize=False,\n",
    "    width=800,\n",
    "    height=800,\n",
    "    yaxis = {'title': 'Whole model',\n",
    "            'showticklabels': True,\n",
    "            'tickmode': 'linear',},\n",
    "    xaxis ={\n",
    "             'range':[0.2, 1]\n",
    "        }\n",
    ")\n",
    "fig.show()\n",
    "\n",
    "fig.write_image(os.path.join(fig_path, 'multivariate_glmm_cv_mind.png'))"
   ]
  },
  {
   "cell_type": "code",
   "execution_count": 15,
   "id": "9e48f567",
   "metadata": {},
   "outputs": [
    {
     "data": {
      "application/vnd.plotly.v1+json": {
       "config": {
        "plotlyServerURL": "https://plot.ly"
       },
       "data": [
        {
         "alignmentgroup": "True",
         "bingroup": "x",
         "hovertemplate": "Mean_AUC=%{x}<br>count=%{y}<extra></extra>",
         "legendgroup": "",
         "marker": {
          "color": "#DE237B",
          "pattern": {
           "shape": ""
          }
         },
         "name": "",
         "nbinsx": 25,
         "offsetgroup": "",
         "orientation": "v",
         "showlegend": false,
         "type": "histogram",
         "x": [
          0.4223727210182318,
          0.4612057103543171,
          0.5077055383556932,
          0.4690918472652218,
          0.5465944272445821,
          0.5360724114207087,
          0.5290978672170623,
          0.5125429996560028,
          0.5589181286549708,
          0.4318455452356381,
          0.5284399724802201,
          0.4444917440660474,
          0.4916924664602683,
          0.5051857585139319,
          0.5581957344341245,
          0.5208634330925352,
          0.5692681458548331,
          0.5244582043343653,
          0.6019349845201238,
          0.5137555899552804,
          0.4386308909528724,
          0.4070132438940488,
          0.4360380116959065,
          0.5901831785345717,
          0.4696594427244582,
          0.4734176126590988,
          0.6087676298589612,
          0.5826754385964913,
          0.5579764361885104,
          0.5664559683522532,
          0.4594341245270038,
          0.4964611283109735,
          0.4688639490884073,
          0.5113691090471276,
          0.4534786721706226,
          0.4816047471620227,
          0.5100318197454421,
          0.4935672514619883,
          0.5556501547987617,
          0.513063295493636,
          0.4488304093567251,
          0.4590342277261782,
          0.4489551083591331,
          0.5298073615411077,
          0.518889748882009,
          0.608531131750946,
          0.4716460268317853,
          0.457890436876505,
          0.5268790849673202,
          0.4386394908840729,
          0.440673374613003,
          0.5763630890952872,
          0.5107886136910904,
          0.5194487444100447,
          0.5768102855177158,
          0.4446551427588579,
          0.4039000687994497,
          0.4821852425180598,
          0.5218094255245959,
          0.5052545579635364,
          0.3993292053663571,
          0.56156260749914,
          0.485061919504644,
          0.5655185758513932,
          0.5393661850705194,
          0.5541537667698658,
          0.4769908840729274,
          0.5020080839353286,
          0.5949346405228757,
          0.5703861369109047,
          0.5116142070863433,
          0.5157249742002064,
          0.4206097351221191,
          0.5648563811489509,
          0.4973340213278294,
          0.525421396628827,
          0.5602210182318542,
          0.4917010663914689,
          0.5663011695906432,
          0.4555641554867561,
          0.4722308221534227,
          0.4634889920880633,
          0.516107671138631,
          0.5339955280357757,
          0.5023950808393532,
          0.447265221878225,
          0.5284657722738217,
          0.4738949088407292,
          0.5317724458204334,
          0.5603973168214654,
          0.4906862745098039,
          0.5196035431716547,
          0.5246818025455797,
          0.5193197454420364,
          0.5393833849329206,
          0.5220631234950119,
          0.4708720330237358,
          0.4999785001719987,
          0.4385190918472652,
          0.5204592363261094
         ],
         "xaxis": "x",
         "yaxis": "y"
        }
       ],
       "layout": {
        "annotations": [
         {
          "align": "left",
          "arrowhead": 1,
          "showarrow": false,
          "text": "Score on original labels: <br>Mean AUC: 0.595<br>p = 0.040",
          "x": 0.6947583419332645,
          "y": 5
         }
        ],
        "autosize": false,
        "bargap": 0.05,
        "barmode": "relative",
        "font": {
         "color": "black",
         "family": "Times new roman",
         "size": 20
        },
        "height": 800,
        "legend": {
         "tracegroupgap": 0
        },
        "margin": {
         "t": 60
        },
        "shapes": [
         {
          "line": {
           "color": "grey",
           "dash": "dash",
           "width": 3
          },
          "type": "line",
          "x0": 0.5947583419332645,
          "x1": 0.5947583419332645,
          "xref": "x",
          "y0": 0,
          "y1": 1,
          "yref": "y domain"
         }
        ],
        "template": {
         "data": {
          "bar": [
           {
            "error_x": {
             "color": "#2a3f5f"
            },
            "error_y": {
             "color": "#2a3f5f"
            },
            "marker": {
             "line": {
              "color": "white",
              "width": 0.5
             },
             "pattern": {
              "fillmode": "overlay",
              "size": 10,
              "solidity": 0.2
             }
            },
            "type": "bar"
           }
          ],
          "barpolar": [
           {
            "marker": {
             "line": {
              "color": "white",
              "width": 0.5
             },
             "pattern": {
              "fillmode": "overlay",
              "size": 10,
              "solidity": 0.2
             }
            },
            "type": "barpolar"
           }
          ],
          "carpet": [
           {
            "aaxis": {
             "endlinecolor": "#2a3f5f",
             "gridcolor": "#C8D4E3",
             "linecolor": "#C8D4E3",
             "minorgridcolor": "#C8D4E3",
             "startlinecolor": "#2a3f5f"
            },
            "baxis": {
             "endlinecolor": "#2a3f5f",
             "gridcolor": "#C8D4E3",
             "linecolor": "#C8D4E3",
             "minorgridcolor": "#C8D4E3",
             "startlinecolor": "#2a3f5f"
            },
            "type": "carpet"
           }
          ],
          "choropleth": [
           {
            "colorbar": {
             "outlinewidth": 0,
             "ticks": ""
            },
            "type": "choropleth"
           }
          ],
          "contour": [
           {
            "colorbar": {
             "outlinewidth": 0,
             "ticks": ""
            },
            "colorscale": [
             [
              0,
              "#0d0887"
             ],
             [
              0.1111111111111111,
              "#46039f"
             ],
             [
              0.2222222222222222,
              "#7201a8"
             ],
             [
              0.3333333333333333,
              "#9c179e"
             ],
             [
              0.4444444444444444,
              "#bd3786"
             ],
             [
              0.5555555555555556,
              "#d8576b"
             ],
             [
              0.6666666666666666,
              "#ed7953"
             ],
             [
              0.7777777777777778,
              "#fb9f3a"
             ],
             [
              0.8888888888888888,
              "#fdca26"
             ],
             [
              1,
              "#f0f921"
             ]
            ],
            "type": "contour"
           }
          ],
          "contourcarpet": [
           {
            "colorbar": {
             "outlinewidth": 0,
             "ticks": ""
            },
            "type": "contourcarpet"
           }
          ],
          "heatmap": [
           {
            "colorbar": {
             "outlinewidth": 0,
             "ticks": ""
            },
            "colorscale": [
             [
              0,
              "#0d0887"
             ],
             [
              0.1111111111111111,
              "#46039f"
             ],
             [
              0.2222222222222222,
              "#7201a8"
             ],
             [
              0.3333333333333333,
              "#9c179e"
             ],
             [
              0.4444444444444444,
              "#bd3786"
             ],
             [
              0.5555555555555556,
              "#d8576b"
             ],
             [
              0.6666666666666666,
              "#ed7953"
             ],
             [
              0.7777777777777778,
              "#fb9f3a"
             ],
             [
              0.8888888888888888,
              "#fdca26"
             ],
             [
              1,
              "#f0f921"
             ]
            ],
            "type": "heatmap"
           }
          ],
          "heatmapgl": [
           {
            "colorbar": {
             "outlinewidth": 0,
             "ticks": ""
            },
            "colorscale": [
             [
              0,
              "#0d0887"
             ],
             [
              0.1111111111111111,
              "#46039f"
             ],
             [
              0.2222222222222222,
              "#7201a8"
             ],
             [
              0.3333333333333333,
              "#9c179e"
             ],
             [
              0.4444444444444444,
              "#bd3786"
             ],
             [
              0.5555555555555556,
              "#d8576b"
             ],
             [
              0.6666666666666666,
              "#ed7953"
             ],
             [
              0.7777777777777778,
              "#fb9f3a"
             ],
             [
              0.8888888888888888,
              "#fdca26"
             ],
             [
              1,
              "#f0f921"
             ]
            ],
            "type": "heatmapgl"
           }
          ],
          "histogram": [
           {
            "marker": {
             "pattern": {
              "fillmode": "overlay",
              "size": 10,
              "solidity": 0.2
             }
            },
            "type": "histogram"
           }
          ],
          "histogram2d": [
           {
            "colorbar": {
             "outlinewidth": 0,
             "ticks": ""
            },
            "colorscale": [
             [
              0,
              "#0d0887"
             ],
             [
              0.1111111111111111,
              "#46039f"
             ],
             [
              0.2222222222222222,
              "#7201a8"
             ],
             [
              0.3333333333333333,
              "#9c179e"
             ],
             [
              0.4444444444444444,
              "#bd3786"
             ],
             [
              0.5555555555555556,
              "#d8576b"
             ],
             [
              0.6666666666666666,
              "#ed7953"
             ],
             [
              0.7777777777777778,
              "#fb9f3a"
             ],
             [
              0.8888888888888888,
              "#fdca26"
             ],
             [
              1,
              "#f0f921"
             ]
            ],
            "type": "histogram2d"
           }
          ],
          "histogram2dcontour": [
           {
            "colorbar": {
             "outlinewidth": 0,
             "ticks": ""
            },
            "colorscale": [
             [
              0,
              "#0d0887"
             ],
             [
              0.1111111111111111,
              "#46039f"
             ],
             [
              0.2222222222222222,
              "#7201a8"
             ],
             [
              0.3333333333333333,
              "#9c179e"
             ],
             [
              0.4444444444444444,
              "#bd3786"
             ],
             [
              0.5555555555555556,
              "#d8576b"
             ],
             [
              0.6666666666666666,
              "#ed7953"
             ],
             [
              0.7777777777777778,
              "#fb9f3a"
             ],
             [
              0.8888888888888888,
              "#fdca26"
             ],
             [
              1,
              "#f0f921"
             ]
            ],
            "type": "histogram2dcontour"
           }
          ],
          "mesh3d": [
           {
            "colorbar": {
             "outlinewidth": 0,
             "ticks": ""
            },
            "type": "mesh3d"
           }
          ],
          "parcoords": [
           {
            "line": {
             "colorbar": {
              "outlinewidth": 0,
              "ticks": ""
             }
            },
            "type": "parcoords"
           }
          ],
          "pie": [
           {
            "automargin": true,
            "type": "pie"
           }
          ],
          "scatter": [
           {
            "marker": {
             "colorbar": {
              "outlinewidth": 0,
              "ticks": ""
             }
            },
            "type": "scatter"
           }
          ],
          "scatter3d": [
           {
            "line": {
             "colorbar": {
              "outlinewidth": 0,
              "ticks": ""
             }
            },
            "marker": {
             "colorbar": {
              "outlinewidth": 0,
              "ticks": ""
             }
            },
            "type": "scatter3d"
           }
          ],
          "scattercarpet": [
           {
            "marker": {
             "colorbar": {
              "outlinewidth": 0,
              "ticks": ""
             }
            },
            "type": "scattercarpet"
           }
          ],
          "scattergeo": [
           {
            "marker": {
             "colorbar": {
              "outlinewidth": 0,
              "ticks": ""
             }
            },
            "type": "scattergeo"
           }
          ],
          "scattergl": [
           {
            "marker": {
             "colorbar": {
              "outlinewidth": 0,
              "ticks": ""
             }
            },
            "type": "scattergl"
           }
          ],
          "scattermapbox": [
           {
            "marker": {
             "colorbar": {
              "outlinewidth": 0,
              "ticks": ""
             }
            },
            "type": "scattermapbox"
           }
          ],
          "scatterpolar": [
           {
            "marker": {
             "colorbar": {
              "outlinewidth": 0,
              "ticks": ""
             }
            },
            "type": "scatterpolar"
           }
          ],
          "scatterpolargl": [
           {
            "marker": {
             "colorbar": {
              "outlinewidth": 0,
              "ticks": ""
             }
            },
            "type": "scatterpolargl"
           }
          ],
          "scatterternary": [
           {
            "marker": {
             "colorbar": {
              "outlinewidth": 0,
              "ticks": ""
             }
            },
            "type": "scatterternary"
           }
          ],
          "surface": [
           {
            "colorbar": {
             "outlinewidth": 0,
             "ticks": ""
            },
            "colorscale": [
             [
              0,
              "#0d0887"
             ],
             [
              0.1111111111111111,
              "#46039f"
             ],
             [
              0.2222222222222222,
              "#7201a8"
             ],
             [
              0.3333333333333333,
              "#9c179e"
             ],
             [
              0.4444444444444444,
              "#bd3786"
             ],
             [
              0.5555555555555556,
              "#d8576b"
             ],
             [
              0.6666666666666666,
              "#ed7953"
             ],
             [
              0.7777777777777778,
              "#fb9f3a"
             ],
             [
              0.8888888888888888,
              "#fdca26"
             ],
             [
              1,
              "#f0f921"
             ]
            ],
            "type": "surface"
           }
          ],
          "table": [
           {
            "cells": {
             "fill": {
              "color": "#EBF0F8"
             },
             "line": {
              "color": "white"
             }
            },
            "header": {
             "fill": {
              "color": "#C8D4E3"
             },
             "line": {
              "color": "white"
             }
            },
            "type": "table"
           }
          ]
         },
         "layout": {
          "annotationdefaults": {
           "arrowcolor": "#2a3f5f",
           "arrowhead": 0,
           "arrowwidth": 1
          },
          "autotypenumbers": "strict",
          "coloraxis": {
           "colorbar": {
            "outlinewidth": 0,
            "ticks": ""
           }
          },
          "colorscale": {
           "diverging": [
            [
             0,
             "#8e0152"
            ],
            [
             0.1,
             "#c51b7d"
            ],
            [
             0.2,
             "#de77ae"
            ],
            [
             0.3,
             "#f1b6da"
            ],
            [
             0.4,
             "#fde0ef"
            ],
            [
             0.5,
             "#f7f7f7"
            ],
            [
             0.6,
             "#e6f5d0"
            ],
            [
             0.7,
             "#b8e186"
            ],
            [
             0.8,
             "#7fbc41"
            ],
            [
             0.9,
             "#4d9221"
            ],
            [
             1,
             "#276419"
            ]
           ],
           "sequential": [
            [
             0,
             "#0d0887"
            ],
            [
             0.1111111111111111,
             "#46039f"
            ],
            [
             0.2222222222222222,
             "#7201a8"
            ],
            [
             0.3333333333333333,
             "#9c179e"
            ],
            [
             0.4444444444444444,
             "#bd3786"
            ],
            [
             0.5555555555555556,
             "#d8576b"
            ],
            [
             0.6666666666666666,
             "#ed7953"
            ],
            [
             0.7777777777777778,
             "#fb9f3a"
            ],
            [
             0.8888888888888888,
             "#fdca26"
            ],
            [
             1,
             "#f0f921"
            ]
           ],
           "sequentialminus": [
            [
             0,
             "#0d0887"
            ],
            [
             0.1111111111111111,
             "#46039f"
            ],
            [
             0.2222222222222222,
             "#7201a8"
            ],
            [
             0.3333333333333333,
             "#9c179e"
            ],
            [
             0.4444444444444444,
             "#bd3786"
            ],
            [
             0.5555555555555556,
             "#d8576b"
            ],
            [
             0.6666666666666666,
             "#ed7953"
            ],
            [
             0.7777777777777778,
             "#fb9f3a"
            ],
            [
             0.8888888888888888,
             "#fdca26"
            ],
            [
             1,
             "#f0f921"
            ]
           ]
          },
          "colorway": [
           "#636efa",
           "#EF553B",
           "#00cc96",
           "#ab63fa",
           "#FFA15A",
           "#19d3f3",
           "#FF6692",
           "#B6E880",
           "#FF97FF",
           "#FECB52"
          ],
          "font": {
           "color": "#2a3f5f"
          },
          "geo": {
           "bgcolor": "white",
           "lakecolor": "white",
           "landcolor": "white",
           "showlakes": true,
           "showland": true,
           "subunitcolor": "#C8D4E3"
          },
          "hoverlabel": {
           "align": "left"
          },
          "hovermode": "closest",
          "mapbox": {
           "style": "light"
          },
          "paper_bgcolor": "white",
          "plot_bgcolor": "white",
          "polar": {
           "angularaxis": {
            "gridcolor": "#EBF0F8",
            "linecolor": "#EBF0F8",
            "ticks": ""
           },
           "bgcolor": "white",
           "radialaxis": {
            "gridcolor": "#EBF0F8",
            "linecolor": "#EBF0F8",
            "ticks": ""
           }
          },
          "scene": {
           "xaxis": {
            "backgroundcolor": "white",
            "gridcolor": "#DFE8F3",
            "gridwidth": 2,
            "linecolor": "#EBF0F8",
            "showbackground": true,
            "ticks": "",
            "zerolinecolor": "#EBF0F8"
           },
           "yaxis": {
            "backgroundcolor": "white",
            "gridcolor": "#DFE8F3",
            "gridwidth": 2,
            "linecolor": "#EBF0F8",
            "showbackground": true,
            "ticks": "",
            "zerolinecolor": "#EBF0F8"
           },
           "zaxis": {
            "backgroundcolor": "white",
            "gridcolor": "#DFE8F3",
            "gridwidth": 2,
            "linecolor": "#EBF0F8",
            "showbackground": true,
            "ticks": "",
            "zerolinecolor": "#EBF0F8"
           }
          },
          "shapedefaults": {
           "line": {
            "color": "#2a3f5f"
           }
          },
          "ternary": {
           "aaxis": {
            "gridcolor": "#DFE8F3",
            "linecolor": "#A2B1C6",
            "ticks": ""
           },
           "baxis": {
            "gridcolor": "#DFE8F3",
            "linecolor": "#A2B1C6",
            "ticks": ""
           },
           "bgcolor": "white",
           "caxis": {
            "gridcolor": "#DFE8F3",
            "linecolor": "#A2B1C6",
            "ticks": ""
           }
          },
          "title": {
           "x": 0.05
          },
          "xaxis": {
           "automargin": true,
           "gridcolor": "#EBF0F8",
           "linecolor": "#EBF0F8",
           "ticks": "",
           "title": {
            "standoff": 15
           },
           "zerolinecolor": "#EBF0F8",
           "zerolinewidth": 2
          },
          "yaxis": {
           "automargin": true,
           "gridcolor": "#EBF0F8",
           "linecolor": "#EBF0F8",
           "ticks": "",
           "title": {
            "standoff": 15
           },
           "zerolinecolor": "#EBF0F8",
           "zerolinewidth": 2
          }
         }
        },
        "width": 800,
        "xaxis": {
         "anchor": "y",
         "domain": [
          0,
          1
         ],
         "range": [
          0.25,
          0.75
         ],
         "tickfont": {
          "size": 20
         },
         "title": {
          "text": "CV AUC"
         }
        },
        "yaxis": {
         "anchor": "x",
         "domain": [
          0,
          1
         ],
         "tickfont": {
          "size": 20
         },
         "title": {
          "text": ""
         }
        }
       }
      },
      "text/html": [
       "<div>                            <div id=\"6de459c6-8937-4270-afd7-abce1fa84fd4\" class=\"plotly-graph-div\" style=\"height:800px; width:800px;\"></div>            <script type=\"text/javascript\">                require([\"plotly\"], function(Plotly) {                    window.PLOTLYENV=window.PLOTLYENV || {};                                    if (document.getElementById(\"6de459c6-8937-4270-afd7-abce1fa84fd4\")) {                    Plotly.newPlot(                        \"6de459c6-8937-4270-afd7-abce1fa84fd4\",                        [{\"alignmentgroup\":\"True\",\"bingroup\":\"x\",\"hovertemplate\":\"Mean_AUC=%{x}<br>count=%{y}<extra></extra>\",\"legendgroup\":\"\",\"marker\":{\"color\":\"#DE237B\",\"pattern\":{\"shape\":\"\"}},\"name\":\"\",\"nbinsx\":25,\"offsetgroup\":\"\",\"orientation\":\"v\",\"showlegend\":false,\"x\":[0.4223727210182318,0.4612057103543171,0.5077055383556932,0.4690918472652218,0.5465944272445821,0.5360724114207087,0.5290978672170623,0.5125429996560028,0.5589181286549708,0.4318455452356381,0.5284399724802201,0.4444917440660474,0.4916924664602683,0.5051857585139319,0.5581957344341245,0.5208634330925352,0.5692681458548331,0.5244582043343653,0.6019349845201238,0.5137555899552804,0.4386308909528724,0.4070132438940488,0.4360380116959065,0.5901831785345717,0.4696594427244582,0.4734176126590988,0.6087676298589612,0.5826754385964913,0.5579764361885104,0.5664559683522532,0.4594341245270038,0.4964611283109735,0.4688639490884073,0.5113691090471276,0.4534786721706226,0.4816047471620227,0.5100318197454421,0.4935672514619883,0.5556501547987617,0.513063295493636,0.4488304093567251,0.4590342277261782,0.4489551083591331,0.5298073615411077,0.518889748882009,0.608531131750946,0.4716460268317853,0.457890436876505,0.5268790849673202,0.4386394908840729,0.440673374613003,0.5763630890952872,0.5107886136910904,0.5194487444100447,0.5768102855177158,0.4446551427588579,0.4039000687994497,0.4821852425180598,0.5218094255245959,0.5052545579635364,0.3993292053663571,0.56156260749914,0.485061919504644,0.5655185758513932,0.5393661850705194,0.5541537667698658,0.4769908840729274,0.5020080839353286,0.5949346405228757,0.5703861369109047,0.5116142070863433,0.5157249742002064,0.4206097351221191,0.5648563811489509,0.4973340213278294,0.525421396628827,0.5602210182318542,0.4917010663914689,0.5663011695906432,0.4555641554867561,0.4722308221534227,0.4634889920880633,0.516107671138631,0.5339955280357757,0.5023950808393532,0.447265221878225,0.5284657722738217,0.4738949088407292,0.5317724458204334,0.5603973168214654,0.4906862745098039,0.5196035431716547,0.5246818025455797,0.5193197454420364,0.5393833849329206,0.5220631234950119,0.4708720330237358,0.4999785001719987,0.4385190918472652,0.5204592363261094],\"xaxis\":\"x\",\"yaxis\":\"y\",\"type\":\"histogram\"}],                        {\"template\":{\"data\":{\"barpolar\":[{\"marker\":{\"line\":{\"color\":\"white\",\"width\":0.5},\"pattern\":{\"fillmode\":\"overlay\",\"size\":10,\"solidity\":0.2}},\"type\":\"barpolar\"}],\"bar\":[{\"error_x\":{\"color\":\"#2a3f5f\"},\"error_y\":{\"color\":\"#2a3f5f\"},\"marker\":{\"line\":{\"color\":\"white\",\"width\":0.5},\"pattern\":{\"fillmode\":\"overlay\",\"size\":10,\"solidity\":0.2}},\"type\":\"bar\"}],\"carpet\":[{\"aaxis\":{\"endlinecolor\":\"#2a3f5f\",\"gridcolor\":\"#C8D4E3\",\"linecolor\":\"#C8D4E3\",\"minorgridcolor\":\"#C8D4E3\",\"startlinecolor\":\"#2a3f5f\"},\"baxis\":{\"endlinecolor\":\"#2a3f5f\",\"gridcolor\":\"#C8D4E3\",\"linecolor\":\"#C8D4E3\",\"minorgridcolor\":\"#C8D4E3\",\"startlinecolor\":\"#2a3f5f\"},\"type\":\"carpet\"}],\"choropleth\":[{\"colorbar\":{\"outlinewidth\":0,\"ticks\":\"\"},\"type\":\"choropleth\"}],\"contourcarpet\":[{\"colorbar\":{\"outlinewidth\":0,\"ticks\":\"\"},\"type\":\"contourcarpet\"}],\"contour\":[{\"colorbar\":{\"outlinewidth\":0,\"ticks\":\"\"},\"colorscale\":[[0.0,\"#0d0887\"],[0.1111111111111111,\"#46039f\"],[0.2222222222222222,\"#7201a8\"],[0.3333333333333333,\"#9c179e\"],[0.4444444444444444,\"#bd3786\"],[0.5555555555555556,\"#d8576b\"],[0.6666666666666666,\"#ed7953\"],[0.7777777777777778,\"#fb9f3a\"],[0.8888888888888888,\"#fdca26\"],[1.0,\"#f0f921\"]],\"type\":\"contour\"}],\"heatmapgl\":[{\"colorbar\":{\"outlinewidth\":0,\"ticks\":\"\"},\"colorscale\":[[0.0,\"#0d0887\"],[0.1111111111111111,\"#46039f\"],[0.2222222222222222,\"#7201a8\"],[0.3333333333333333,\"#9c179e\"],[0.4444444444444444,\"#bd3786\"],[0.5555555555555556,\"#d8576b\"],[0.6666666666666666,\"#ed7953\"],[0.7777777777777778,\"#fb9f3a\"],[0.8888888888888888,\"#fdca26\"],[1.0,\"#f0f921\"]],\"type\":\"heatmapgl\"}],\"heatmap\":[{\"colorbar\":{\"outlinewidth\":0,\"ticks\":\"\"},\"colorscale\":[[0.0,\"#0d0887\"],[0.1111111111111111,\"#46039f\"],[0.2222222222222222,\"#7201a8\"],[0.3333333333333333,\"#9c179e\"],[0.4444444444444444,\"#bd3786\"],[0.5555555555555556,\"#d8576b\"],[0.6666666666666666,\"#ed7953\"],[0.7777777777777778,\"#fb9f3a\"],[0.8888888888888888,\"#fdca26\"],[1.0,\"#f0f921\"]],\"type\":\"heatmap\"}],\"histogram2dcontour\":[{\"colorbar\":{\"outlinewidth\":0,\"ticks\":\"\"},\"colorscale\":[[0.0,\"#0d0887\"],[0.1111111111111111,\"#46039f\"],[0.2222222222222222,\"#7201a8\"],[0.3333333333333333,\"#9c179e\"],[0.4444444444444444,\"#bd3786\"],[0.5555555555555556,\"#d8576b\"],[0.6666666666666666,\"#ed7953\"],[0.7777777777777778,\"#fb9f3a\"],[0.8888888888888888,\"#fdca26\"],[1.0,\"#f0f921\"]],\"type\":\"histogram2dcontour\"}],\"histogram2d\":[{\"colorbar\":{\"outlinewidth\":0,\"ticks\":\"\"},\"colorscale\":[[0.0,\"#0d0887\"],[0.1111111111111111,\"#46039f\"],[0.2222222222222222,\"#7201a8\"],[0.3333333333333333,\"#9c179e\"],[0.4444444444444444,\"#bd3786\"],[0.5555555555555556,\"#d8576b\"],[0.6666666666666666,\"#ed7953\"],[0.7777777777777778,\"#fb9f3a\"],[0.8888888888888888,\"#fdca26\"],[1.0,\"#f0f921\"]],\"type\":\"histogram2d\"}],\"histogram\":[{\"marker\":{\"pattern\":{\"fillmode\":\"overlay\",\"size\":10,\"solidity\":0.2}},\"type\":\"histogram\"}],\"mesh3d\":[{\"colorbar\":{\"outlinewidth\":0,\"ticks\":\"\"},\"type\":\"mesh3d\"}],\"parcoords\":[{\"line\":{\"colorbar\":{\"outlinewidth\":0,\"ticks\":\"\"}},\"type\":\"parcoords\"}],\"pie\":[{\"automargin\":true,\"type\":\"pie\"}],\"scatter3d\":[{\"line\":{\"colorbar\":{\"outlinewidth\":0,\"ticks\":\"\"}},\"marker\":{\"colorbar\":{\"outlinewidth\":0,\"ticks\":\"\"}},\"type\":\"scatter3d\"}],\"scattercarpet\":[{\"marker\":{\"colorbar\":{\"outlinewidth\":0,\"ticks\":\"\"}},\"type\":\"scattercarpet\"}],\"scattergeo\":[{\"marker\":{\"colorbar\":{\"outlinewidth\":0,\"ticks\":\"\"}},\"type\":\"scattergeo\"}],\"scattergl\":[{\"marker\":{\"colorbar\":{\"outlinewidth\":0,\"ticks\":\"\"}},\"type\":\"scattergl\"}],\"scattermapbox\":[{\"marker\":{\"colorbar\":{\"outlinewidth\":0,\"ticks\":\"\"}},\"type\":\"scattermapbox\"}],\"scatterpolargl\":[{\"marker\":{\"colorbar\":{\"outlinewidth\":0,\"ticks\":\"\"}},\"type\":\"scatterpolargl\"}],\"scatterpolar\":[{\"marker\":{\"colorbar\":{\"outlinewidth\":0,\"ticks\":\"\"}},\"type\":\"scatterpolar\"}],\"scatter\":[{\"marker\":{\"colorbar\":{\"outlinewidth\":0,\"ticks\":\"\"}},\"type\":\"scatter\"}],\"scatterternary\":[{\"marker\":{\"colorbar\":{\"outlinewidth\":0,\"ticks\":\"\"}},\"type\":\"scatterternary\"}],\"surface\":[{\"colorbar\":{\"outlinewidth\":0,\"ticks\":\"\"},\"colorscale\":[[0.0,\"#0d0887\"],[0.1111111111111111,\"#46039f\"],[0.2222222222222222,\"#7201a8\"],[0.3333333333333333,\"#9c179e\"],[0.4444444444444444,\"#bd3786\"],[0.5555555555555556,\"#d8576b\"],[0.6666666666666666,\"#ed7953\"],[0.7777777777777778,\"#fb9f3a\"],[0.8888888888888888,\"#fdca26\"],[1.0,\"#f0f921\"]],\"type\":\"surface\"}],\"table\":[{\"cells\":{\"fill\":{\"color\":\"#EBF0F8\"},\"line\":{\"color\":\"white\"}},\"header\":{\"fill\":{\"color\":\"#C8D4E3\"},\"line\":{\"color\":\"white\"}},\"type\":\"table\"}]},\"layout\":{\"annotationdefaults\":{\"arrowcolor\":\"#2a3f5f\",\"arrowhead\":0,\"arrowwidth\":1},\"autotypenumbers\":\"strict\",\"coloraxis\":{\"colorbar\":{\"outlinewidth\":0,\"ticks\":\"\"}},\"colorscale\":{\"diverging\":[[0,\"#8e0152\"],[0.1,\"#c51b7d\"],[0.2,\"#de77ae\"],[0.3,\"#f1b6da\"],[0.4,\"#fde0ef\"],[0.5,\"#f7f7f7\"],[0.6,\"#e6f5d0\"],[0.7,\"#b8e186\"],[0.8,\"#7fbc41\"],[0.9,\"#4d9221\"],[1,\"#276419\"]],\"sequential\":[[0.0,\"#0d0887\"],[0.1111111111111111,\"#46039f\"],[0.2222222222222222,\"#7201a8\"],[0.3333333333333333,\"#9c179e\"],[0.4444444444444444,\"#bd3786\"],[0.5555555555555556,\"#d8576b\"],[0.6666666666666666,\"#ed7953\"],[0.7777777777777778,\"#fb9f3a\"],[0.8888888888888888,\"#fdca26\"],[1.0,\"#f0f921\"]],\"sequentialminus\":[[0.0,\"#0d0887\"],[0.1111111111111111,\"#46039f\"],[0.2222222222222222,\"#7201a8\"],[0.3333333333333333,\"#9c179e\"],[0.4444444444444444,\"#bd3786\"],[0.5555555555555556,\"#d8576b\"],[0.6666666666666666,\"#ed7953\"],[0.7777777777777778,\"#fb9f3a\"],[0.8888888888888888,\"#fdca26\"],[1.0,\"#f0f921\"]]},\"colorway\":[\"#636efa\",\"#EF553B\",\"#00cc96\",\"#ab63fa\",\"#FFA15A\",\"#19d3f3\",\"#FF6692\",\"#B6E880\",\"#FF97FF\",\"#FECB52\"],\"font\":{\"color\":\"#2a3f5f\"},\"geo\":{\"bgcolor\":\"white\",\"lakecolor\":\"white\",\"landcolor\":\"white\",\"showlakes\":true,\"showland\":true,\"subunitcolor\":\"#C8D4E3\"},\"hoverlabel\":{\"align\":\"left\"},\"hovermode\":\"closest\",\"mapbox\":{\"style\":\"light\"},\"paper_bgcolor\":\"white\",\"plot_bgcolor\":\"white\",\"polar\":{\"angularaxis\":{\"gridcolor\":\"#EBF0F8\",\"linecolor\":\"#EBF0F8\",\"ticks\":\"\"},\"bgcolor\":\"white\",\"radialaxis\":{\"gridcolor\":\"#EBF0F8\",\"linecolor\":\"#EBF0F8\",\"ticks\":\"\"}},\"scene\":{\"xaxis\":{\"backgroundcolor\":\"white\",\"gridcolor\":\"#DFE8F3\",\"gridwidth\":2,\"linecolor\":\"#EBF0F8\",\"showbackground\":true,\"ticks\":\"\",\"zerolinecolor\":\"#EBF0F8\"},\"yaxis\":{\"backgroundcolor\":\"white\",\"gridcolor\":\"#DFE8F3\",\"gridwidth\":2,\"linecolor\":\"#EBF0F8\",\"showbackground\":true,\"ticks\":\"\",\"zerolinecolor\":\"#EBF0F8\"},\"zaxis\":{\"backgroundcolor\":\"white\",\"gridcolor\":\"#DFE8F3\",\"gridwidth\":2,\"linecolor\":\"#EBF0F8\",\"showbackground\":true,\"ticks\":\"\",\"zerolinecolor\":\"#EBF0F8\"}},\"shapedefaults\":{\"line\":{\"color\":\"#2a3f5f\"}},\"ternary\":{\"aaxis\":{\"gridcolor\":\"#DFE8F3\",\"linecolor\":\"#A2B1C6\",\"ticks\":\"\"},\"baxis\":{\"gridcolor\":\"#DFE8F3\",\"linecolor\":\"#A2B1C6\",\"ticks\":\"\"},\"bgcolor\":\"white\",\"caxis\":{\"gridcolor\":\"#DFE8F3\",\"linecolor\":\"#A2B1C6\",\"ticks\":\"\"}},\"title\":{\"x\":0.05},\"xaxis\":{\"automargin\":true,\"gridcolor\":\"#EBF0F8\",\"linecolor\":\"#EBF0F8\",\"ticks\":\"\",\"title\":{\"standoff\":15},\"zerolinecolor\":\"#EBF0F8\",\"zerolinewidth\":2},\"yaxis\":{\"automargin\":true,\"gridcolor\":\"#EBF0F8\",\"linecolor\":\"#EBF0F8\",\"ticks\":\"\",\"title\":{\"standoff\":15},\"zerolinecolor\":\"#EBF0F8\",\"zerolinewidth\":2}}},\"xaxis\":{\"anchor\":\"y\",\"domain\":[0.0,1.0],\"title\":{\"text\":\"CV AUC\"},\"tickfont\":{\"size\":20},\"range\":[0.25,0.75]},\"yaxis\":{\"anchor\":\"x\",\"domain\":[0.0,1.0],\"title\":{\"text\":\"\"},\"tickfont\":{\"size\":20}},\"legend\":{\"tracegroupgap\":0},\"margin\":{\"t\":60},\"barmode\":\"relative\",\"shapes\":[{\"line\":{\"color\":\"grey\",\"dash\":\"dash\",\"width\":3},\"type\":\"line\",\"x0\":0.5947583419332645,\"x1\":0.5947583419332645,\"xref\":\"x\",\"y0\":0,\"y1\":1,\"yref\":\"y domain\"}],\"annotations\":[{\"align\":\"left\",\"arrowhead\":1,\"showarrow\":false,\"text\":\"Score on original labels: <br>Mean AUC: 0.595<br>p = 0.040\",\"x\":0.6947583419332645,\"y\":5}],\"font\":{\"family\":\"Times new roman\",\"size\":20,\"color\":\"black\"},\"autosize\":false,\"width\":800,\"height\":800,\"bargap\":0.05},                        {\"responsive\": true}                    ).then(function(){\n",
       "                            \n",
       "var gd = document.getElementById('6de459c6-8937-4270-afd7-abce1fa84fd4');\n",
       "var x = new MutationObserver(function (mutations, observer) {{\n",
       "        var display = window.getComputedStyle(gd).display;\n",
       "        if (!display || display === 'none') {{\n",
       "            console.log([gd, 'removed!']);\n",
       "            Plotly.purge(gd);\n",
       "            observer.disconnect();\n",
       "        }}\n",
       "}});\n",
       "\n",
       "// Listen for the removal of the full notebook cells\n",
       "var notebookContainer = gd.closest('#notebook-container');\n",
       "if (notebookContainer) {{\n",
       "    x.observe(notebookContainer, {childList: true});\n",
       "}}\n",
       "\n",
       "// Listen for the clearing of the current output cell\n",
       "var outputEl = gd.closest('.output');\n",
       "if (outputEl) {{\n",
       "    x.observe(outputEl, {childList: true});\n",
       "}}\n",
       "\n",
       "                        })                };                });            </script>        </div>"
      ]
     },
     "metadata": {},
     "output_type": "display_data"
    }
   ],
   "source": [
    "# Calculate p-value\n",
    "pvalue_mind = np.mean(df_perm_mind['Mean_AUC'] >= np.mean(df_auc_mind['auc']))\n",
    "\n",
    "df = pd.concat([df_perm_mind, df_auc_mind])\n",
    "fig = px.histogram(df_perm_mind, x='Mean_AUC',nbins = 25,  color_discrete_sequence = [pink])\n",
    "\n",
    "fig.add_vline(x=df_auc_mind.auc.mean(), line_width=3, line_dash=\"dash\", line_color=\"grey\")\n",
    "\n",
    "fig.add_annotation(x=df_auc_mind.auc.mean() + 0.1, y=5,\n",
    "            text=f\"Score on original labels: <br>Mean AUC: {df_auc_mind.auc.mean():.3f}<br>p = {pvalue_mind:.3f}\",\n",
    "            showarrow=False,\n",
    "            arrowhead=1,\n",
    "            align = 'left',\n",
    "            )\n",
    "\n",
    "\n",
    "fig.update_layout(\n",
    "#     title = f'Mean AUC = {df_forest_mind.auc.mean()}',\n",
    "    autosize=False,\n",
    "    template = \"plotly_white\",\n",
    "    font=dict(\n",
    "        family=\"Times new roman\",\n",
    "        size=20,\n",
    "        color=\"black\"\n",
    "    ),\n",
    "    width=800,\n",
    "    height=800,\n",
    "    bargap=0.05,\n",
    "    yaxis = {'title': '',\n",
    "             'tickfont': {\"size\": 20},\n",
    "    },\n",
    "    xaxis ={'title':'CV AUC',\n",
    "             'range':[0.25, 0.75],\n",
    "             'tickfont':{\"size\": 20}\n",
    "        }\n",
    ")\n",
    "fig.show()\n",
    "\n",
    "fig.write_image(os.path.join(fig_path, 'multivariate_glmm_perm_mind.png'))\n",
    "fig.write_image(os.path.join(fig_path, 'multivariate_glmm_perm_mind.svg'))"
   ]
  },
  {
   "cell_type": "code",
   "execution_count": null,
   "id": "challenging-crawford",
   "metadata": {},
   "outputs": [
    {
     "data": {
      "application/vnd.plotly.v1+json": {
       "config": {
        "plotlyServerURL": "https://plot.ly"
       },
       "data": [
        {
         "hovertemplate": "mean_importance=%{x}<br>Markers=%{y}<extra></extra>",
         "legendgroup": "",
         "marker": {
          "color": "#DE237B",
          "size": 8,
          "symbol": "circle"
         },
         "mode": "markers",
         "name": "",
         "orientation": "h",
         "showlegend": false,
         "type": "scatter",
         "x": [
          0.019260589681104754,
          0.01928260236313232,
          0.019315028666920916,
          0.019340853102349932,
          0.019365969483525293,
          0.019448184067527623,
          0.019551577491168946,
          0.01971112970844176,
          0.01973328295364714,
          0.019734084594974822
         ],
         "xaxis": "x",
         "y": [
          "$P1_{std}$",
          "$MSF_{std}$",
          "$wSMI\\alpha_{mean}$",
          "$PE\\alpha_{mean}$",
          "$wSMI\\gamma_{std}$",
          "$CNV_{std}$",
          "$K_{std}$",
          "$|\\theta|_{std}$",
          "$|\\beta|_{mean}$",
          "$|\\theta|_{mean}$"
         ],
         "yaxis": "y"
        }
       ],
       "layout": {
        "font": {
         "color": "black",
         "family": "Times new roman",
         "size": 20
        },
        "height": 900,
        "legend": {
         "tracegroupgap": 0
        },
        "margin": {
         "t": 60
        },
        "showlegend": true,
        "template": {
         "data": {
          "bar": [
           {
            "error_x": {
             "color": "#2a3f5f"
            },
            "error_y": {
             "color": "#2a3f5f"
            },
            "marker": {
             "line": {
              "color": "white",
              "width": 0.5
             },
             "pattern": {
              "fillmode": "overlay",
              "size": 10,
              "solidity": 0.2
             }
            },
            "type": "bar"
           }
          ],
          "barpolar": [
           {
            "marker": {
             "line": {
              "color": "white",
              "width": 0.5
             },
             "pattern": {
              "fillmode": "overlay",
              "size": 10,
              "solidity": 0.2
             }
            },
            "type": "barpolar"
           }
          ],
          "carpet": [
           {
            "aaxis": {
             "endlinecolor": "#2a3f5f",
             "gridcolor": "#C8D4E3",
             "linecolor": "#C8D4E3",
             "minorgridcolor": "#C8D4E3",
             "startlinecolor": "#2a3f5f"
            },
            "baxis": {
             "endlinecolor": "#2a3f5f",
             "gridcolor": "#C8D4E3",
             "linecolor": "#C8D4E3",
             "minorgridcolor": "#C8D4E3",
             "startlinecolor": "#2a3f5f"
            },
            "type": "carpet"
           }
          ],
          "choropleth": [
           {
            "colorbar": {
             "outlinewidth": 0,
             "ticks": ""
            },
            "type": "choropleth"
           }
          ],
          "contour": [
           {
            "colorbar": {
             "outlinewidth": 0,
             "ticks": ""
            },
            "colorscale": [
             [
              0,
              "#0d0887"
             ],
             [
              0.1111111111111111,
              "#46039f"
             ],
             [
              0.2222222222222222,
              "#7201a8"
             ],
             [
              0.3333333333333333,
              "#9c179e"
             ],
             [
              0.4444444444444444,
              "#bd3786"
             ],
             [
              0.5555555555555556,
              "#d8576b"
             ],
             [
              0.6666666666666666,
              "#ed7953"
             ],
             [
              0.7777777777777778,
              "#fb9f3a"
             ],
             [
              0.8888888888888888,
              "#fdca26"
             ],
             [
              1,
              "#f0f921"
             ]
            ],
            "type": "contour"
           }
          ],
          "contourcarpet": [
           {
            "colorbar": {
             "outlinewidth": 0,
             "ticks": ""
            },
            "type": "contourcarpet"
           }
          ],
          "heatmap": [
           {
            "colorbar": {
             "outlinewidth": 0,
             "ticks": ""
            },
            "colorscale": [
             [
              0,
              "#0d0887"
             ],
             [
              0.1111111111111111,
              "#46039f"
             ],
             [
              0.2222222222222222,
              "#7201a8"
             ],
             [
              0.3333333333333333,
              "#9c179e"
             ],
             [
              0.4444444444444444,
              "#bd3786"
             ],
             [
              0.5555555555555556,
              "#d8576b"
             ],
             [
              0.6666666666666666,
              "#ed7953"
             ],
             [
              0.7777777777777778,
              "#fb9f3a"
             ],
             [
              0.8888888888888888,
              "#fdca26"
             ],
             [
              1,
              "#f0f921"
             ]
            ],
            "type": "heatmap"
           }
          ],
          "heatmapgl": [
           {
            "colorbar": {
             "outlinewidth": 0,
             "ticks": ""
            },
            "colorscale": [
             [
              0,
              "#0d0887"
             ],
             [
              0.1111111111111111,
              "#46039f"
             ],
             [
              0.2222222222222222,
              "#7201a8"
             ],
             [
              0.3333333333333333,
              "#9c179e"
             ],
             [
              0.4444444444444444,
              "#bd3786"
             ],
             [
              0.5555555555555556,
              "#d8576b"
             ],
             [
              0.6666666666666666,
              "#ed7953"
             ],
             [
              0.7777777777777778,
              "#fb9f3a"
             ],
             [
              0.8888888888888888,
              "#fdca26"
             ],
             [
              1,
              "#f0f921"
             ]
            ],
            "type": "heatmapgl"
           }
          ],
          "histogram": [
           {
            "marker": {
             "pattern": {
              "fillmode": "overlay",
              "size": 10,
              "solidity": 0.2
             }
            },
            "type": "histogram"
           }
          ],
          "histogram2d": [
           {
            "colorbar": {
             "outlinewidth": 0,
             "ticks": ""
            },
            "colorscale": [
             [
              0,
              "#0d0887"
             ],
             [
              0.1111111111111111,
              "#46039f"
             ],
             [
              0.2222222222222222,
              "#7201a8"
             ],
             [
              0.3333333333333333,
              "#9c179e"
             ],
             [
              0.4444444444444444,
              "#bd3786"
             ],
             [
              0.5555555555555556,
              "#d8576b"
             ],
             [
              0.6666666666666666,
              "#ed7953"
             ],
             [
              0.7777777777777778,
              "#fb9f3a"
             ],
             [
              0.8888888888888888,
              "#fdca26"
             ],
             [
              1,
              "#f0f921"
             ]
            ],
            "type": "histogram2d"
           }
          ],
          "histogram2dcontour": [
           {
            "colorbar": {
             "outlinewidth": 0,
             "ticks": ""
            },
            "colorscale": [
             [
              0,
              "#0d0887"
             ],
             [
              0.1111111111111111,
              "#46039f"
             ],
             [
              0.2222222222222222,
              "#7201a8"
             ],
             [
              0.3333333333333333,
              "#9c179e"
             ],
             [
              0.4444444444444444,
              "#bd3786"
             ],
             [
              0.5555555555555556,
              "#d8576b"
             ],
             [
              0.6666666666666666,
              "#ed7953"
             ],
             [
              0.7777777777777778,
              "#fb9f3a"
             ],
             [
              0.8888888888888888,
              "#fdca26"
             ],
             [
              1,
              "#f0f921"
             ]
            ],
            "type": "histogram2dcontour"
           }
          ],
          "mesh3d": [
           {
            "colorbar": {
             "outlinewidth": 0,
             "ticks": ""
            },
            "type": "mesh3d"
           }
          ],
          "parcoords": [
           {
            "line": {
             "colorbar": {
              "outlinewidth": 0,
              "ticks": ""
             }
            },
            "type": "parcoords"
           }
          ],
          "pie": [
           {
            "automargin": true,
            "type": "pie"
           }
          ],
          "scatter": [
           {
            "marker": {
             "colorbar": {
              "outlinewidth": 0,
              "ticks": ""
             }
            },
            "type": "scatter"
           }
          ],
          "scatter3d": [
           {
            "line": {
             "colorbar": {
              "outlinewidth": 0,
              "ticks": ""
             }
            },
            "marker": {
             "colorbar": {
              "outlinewidth": 0,
              "ticks": ""
             }
            },
            "type": "scatter3d"
           }
          ],
          "scattercarpet": [
           {
            "marker": {
             "colorbar": {
              "outlinewidth": 0,
              "ticks": ""
             }
            },
            "type": "scattercarpet"
           }
          ],
          "scattergeo": [
           {
            "marker": {
             "colorbar": {
              "outlinewidth": 0,
              "ticks": ""
             }
            },
            "type": "scattergeo"
           }
          ],
          "scattergl": [
           {
            "marker": {
             "colorbar": {
              "outlinewidth": 0,
              "ticks": ""
             }
            },
            "type": "scattergl"
           }
          ],
          "scattermapbox": [
           {
            "marker": {
             "colorbar": {
              "outlinewidth": 0,
              "ticks": ""
             }
            },
            "type": "scattermapbox"
           }
          ],
          "scatterpolar": [
           {
            "marker": {
             "colorbar": {
              "outlinewidth": 0,
              "ticks": ""
             }
            },
            "type": "scatterpolar"
           }
          ],
          "scatterpolargl": [
           {
            "marker": {
             "colorbar": {
              "outlinewidth": 0,
              "ticks": ""
             }
            },
            "type": "scatterpolargl"
           }
          ],
          "scatterternary": [
           {
            "marker": {
             "colorbar": {
              "outlinewidth": 0,
              "ticks": ""
             }
            },
            "type": "scatterternary"
           }
          ],
          "surface": [
           {
            "colorbar": {
             "outlinewidth": 0,
             "ticks": ""
            },
            "colorscale": [
             [
              0,
              "#0d0887"
             ],
             [
              0.1111111111111111,
              "#46039f"
             ],
             [
              0.2222222222222222,
              "#7201a8"
             ],
             [
              0.3333333333333333,
              "#9c179e"
             ],
             [
              0.4444444444444444,
              "#bd3786"
             ],
             [
              0.5555555555555556,
              "#d8576b"
             ],
             [
              0.6666666666666666,
              "#ed7953"
             ],
             [
              0.7777777777777778,
              "#fb9f3a"
             ],
             [
              0.8888888888888888,
              "#fdca26"
             ],
             [
              1,
              "#f0f921"
             ]
            ],
            "type": "surface"
           }
          ],
          "table": [
           {
            "cells": {
             "fill": {
              "color": "#EBF0F8"
             },
             "line": {
              "color": "white"
             }
            },
            "header": {
             "fill": {
              "color": "#C8D4E3"
             },
             "line": {
              "color": "white"
             }
            },
            "type": "table"
           }
          ]
         },
         "layout": {
          "annotationdefaults": {
           "arrowcolor": "#2a3f5f",
           "arrowhead": 0,
           "arrowwidth": 1
          },
          "autotypenumbers": "strict",
          "coloraxis": {
           "colorbar": {
            "outlinewidth": 0,
            "ticks": ""
           }
          },
          "colorscale": {
           "diverging": [
            [
             0,
             "#8e0152"
            ],
            [
             0.1,
             "#c51b7d"
            ],
            [
             0.2,
             "#de77ae"
            ],
            [
             0.3,
             "#f1b6da"
            ],
            [
             0.4,
             "#fde0ef"
            ],
            [
             0.5,
             "#f7f7f7"
            ],
            [
             0.6,
             "#e6f5d0"
            ],
            [
             0.7,
             "#b8e186"
            ],
            [
             0.8,
             "#7fbc41"
            ],
            [
             0.9,
             "#4d9221"
            ],
            [
             1,
             "#276419"
            ]
           ],
           "sequential": [
            [
             0,
             "#0d0887"
            ],
            [
             0.1111111111111111,
             "#46039f"
            ],
            [
             0.2222222222222222,
             "#7201a8"
            ],
            [
             0.3333333333333333,
             "#9c179e"
            ],
            [
             0.4444444444444444,
             "#bd3786"
            ],
            [
             0.5555555555555556,
             "#d8576b"
            ],
            [
             0.6666666666666666,
             "#ed7953"
            ],
            [
             0.7777777777777778,
             "#fb9f3a"
            ],
            [
             0.8888888888888888,
             "#fdca26"
            ],
            [
             1,
             "#f0f921"
            ]
           ],
           "sequentialminus": [
            [
             0,
             "#0d0887"
            ],
            [
             0.1111111111111111,
             "#46039f"
            ],
            [
             0.2222222222222222,
             "#7201a8"
            ],
            [
             0.3333333333333333,
             "#9c179e"
            ],
            [
             0.4444444444444444,
             "#bd3786"
            ],
            [
             0.5555555555555556,
             "#d8576b"
            ],
            [
             0.6666666666666666,
             "#ed7953"
            ],
            [
             0.7777777777777778,
             "#fb9f3a"
            ],
            [
             0.8888888888888888,
             "#fdca26"
            ],
            [
             1,
             "#f0f921"
            ]
           ]
          },
          "colorway": [
           "#636efa",
           "#EF553B",
           "#00cc96",
           "#ab63fa",
           "#FFA15A",
           "#19d3f3",
           "#FF6692",
           "#B6E880",
           "#FF97FF",
           "#FECB52"
          ],
          "font": {
           "color": "#2a3f5f"
          },
          "geo": {
           "bgcolor": "white",
           "lakecolor": "white",
           "landcolor": "white",
           "showlakes": true,
           "showland": true,
           "subunitcolor": "#C8D4E3"
          },
          "hoverlabel": {
           "align": "left"
          },
          "hovermode": "closest",
          "mapbox": {
           "style": "light"
          },
          "paper_bgcolor": "white",
          "plot_bgcolor": "white",
          "polar": {
           "angularaxis": {
            "gridcolor": "#EBF0F8",
            "linecolor": "#EBF0F8",
            "ticks": ""
           },
           "bgcolor": "white",
           "radialaxis": {
            "gridcolor": "#EBF0F8",
            "linecolor": "#EBF0F8",
            "ticks": ""
           }
          },
          "scene": {
           "xaxis": {
            "backgroundcolor": "white",
            "gridcolor": "#DFE8F3",
            "gridwidth": 2,
            "linecolor": "#EBF0F8",
            "showbackground": true,
            "ticks": "",
            "zerolinecolor": "#EBF0F8"
           },
           "yaxis": {
            "backgroundcolor": "white",
            "gridcolor": "#DFE8F3",
            "gridwidth": 2,
            "linecolor": "#EBF0F8",
            "showbackground": true,
            "ticks": "",
            "zerolinecolor": "#EBF0F8"
           },
           "zaxis": {
            "backgroundcolor": "white",
            "gridcolor": "#DFE8F3",
            "gridwidth": 2,
            "linecolor": "#EBF0F8",
            "showbackground": true,
            "ticks": "",
            "zerolinecolor": "#EBF0F8"
           }
          },
          "shapedefaults": {
           "line": {
            "color": "#2a3f5f"
           }
          },
          "ternary": {
           "aaxis": {
            "gridcolor": "#DFE8F3",
            "linecolor": "#A2B1C6",
            "ticks": ""
           },
           "baxis": {
            "gridcolor": "#DFE8F3",
            "linecolor": "#A2B1C6",
            "ticks": ""
           },
           "bgcolor": "white",
           "caxis": {
            "gridcolor": "#DFE8F3",
            "linecolor": "#A2B1C6",
            "ticks": ""
           }
          },
          "title": {
           "x": 0.05
          },
          "xaxis": {
           "automargin": true,
           "gridcolor": "#EBF0F8",
           "linecolor": "#EBF0F8",
           "ticks": "",
           "title": {
            "standoff": 15
           },
           "zerolinecolor": "#EBF0F8",
           "zerolinewidth": 2
          },
          "yaxis": {
           "automargin": true,
           "gridcolor": "#EBF0F8",
           "linecolor": "#EBF0F8",
           "ticks": "",
           "title": {
            "standoff": 15
           },
           "zerolinecolor": "#EBF0F8",
           "zerolinewidth": 2
          }
         }
        },
        "width": 650,
        "xaxis": {
         "anchor": "y",
         "domain": [
          0,
          1
         ],
         "tickfont": {
          "size": 20
         },
         "title": {
          "text": "Feature Importance"
         },
         "visible": true
        },
        "yaxis": {
         "anchor": "x",
         "automargin": true,
         "domain": [
          0,
          1
         ],
         "dtick": 1,
         "tickfont": {
          "size": 20
         },
         "title": {
          "text": "Markers"
         }
        }
       }
      },
      "text/html": [
       "<div>                            <div id=\"6a4c2009-e049-4da1-949f-33489ca33826\" class=\"plotly-graph-div\" style=\"height:900px; width:650px;\"></div>            <script type=\"text/javascript\">                require([\"plotly\"], function(Plotly) {                    window.PLOTLYENV=window.PLOTLYENV || {};                                    if (document.getElementById(\"6a4c2009-e049-4da1-949f-33489ca33826\")) {                    Plotly.newPlot(                        \"6a4c2009-e049-4da1-949f-33489ca33826\",                        [{\"hovertemplate\":\"mean_importance=%{x}<br>Markers=%{y}<extra></extra>\",\"legendgroup\":\"\",\"marker\":{\"color\":\"#DE237B\",\"symbol\":\"circle\",\"size\":8},\"mode\":\"markers\",\"name\":\"\",\"orientation\":\"h\",\"showlegend\":false,\"x\":[0.019260589681104754,0.01928260236313232,0.019315028666920916,0.019340853102349932,0.019365969483525293,0.019448184067527623,0.019551577491168946,0.01971112970844176,0.01973328295364714,0.019734084594974822],\"xaxis\":\"x\",\"y\":[\"$P1_{std}$\",\"$MSF_{std}$\",\"$wSMI\\\\alpha_{mean}$\",\"$PE\\\\alpha_{mean}$\",\"$wSMI\\\\gamma_{std}$\",\"$CNV_{std}$\",\"$K_{std}$\",\"$|\\\\theta|_{std}$\",\"$|\\\\beta|_{mean}$\",\"$|\\\\theta|_{mean}$\"],\"yaxis\":\"y\",\"type\":\"scatter\"}],                        {\"template\":{\"data\":{\"barpolar\":[{\"marker\":{\"line\":{\"color\":\"white\",\"width\":0.5},\"pattern\":{\"fillmode\":\"overlay\",\"size\":10,\"solidity\":0.2}},\"type\":\"barpolar\"}],\"bar\":[{\"error_x\":{\"color\":\"#2a3f5f\"},\"error_y\":{\"color\":\"#2a3f5f\"},\"marker\":{\"line\":{\"color\":\"white\",\"width\":0.5},\"pattern\":{\"fillmode\":\"overlay\",\"size\":10,\"solidity\":0.2}},\"type\":\"bar\"}],\"carpet\":[{\"aaxis\":{\"endlinecolor\":\"#2a3f5f\",\"gridcolor\":\"#C8D4E3\",\"linecolor\":\"#C8D4E3\",\"minorgridcolor\":\"#C8D4E3\",\"startlinecolor\":\"#2a3f5f\"},\"baxis\":{\"endlinecolor\":\"#2a3f5f\",\"gridcolor\":\"#C8D4E3\",\"linecolor\":\"#C8D4E3\",\"minorgridcolor\":\"#C8D4E3\",\"startlinecolor\":\"#2a3f5f\"},\"type\":\"carpet\"}],\"choropleth\":[{\"colorbar\":{\"outlinewidth\":0,\"ticks\":\"\"},\"type\":\"choropleth\"}],\"contourcarpet\":[{\"colorbar\":{\"outlinewidth\":0,\"ticks\":\"\"},\"type\":\"contourcarpet\"}],\"contour\":[{\"colorbar\":{\"outlinewidth\":0,\"ticks\":\"\"},\"colorscale\":[[0.0,\"#0d0887\"],[0.1111111111111111,\"#46039f\"],[0.2222222222222222,\"#7201a8\"],[0.3333333333333333,\"#9c179e\"],[0.4444444444444444,\"#bd3786\"],[0.5555555555555556,\"#d8576b\"],[0.6666666666666666,\"#ed7953\"],[0.7777777777777778,\"#fb9f3a\"],[0.8888888888888888,\"#fdca26\"],[1.0,\"#f0f921\"]],\"type\":\"contour\"}],\"heatmapgl\":[{\"colorbar\":{\"outlinewidth\":0,\"ticks\":\"\"},\"colorscale\":[[0.0,\"#0d0887\"],[0.1111111111111111,\"#46039f\"],[0.2222222222222222,\"#7201a8\"],[0.3333333333333333,\"#9c179e\"],[0.4444444444444444,\"#bd3786\"],[0.5555555555555556,\"#d8576b\"],[0.6666666666666666,\"#ed7953\"],[0.7777777777777778,\"#fb9f3a\"],[0.8888888888888888,\"#fdca26\"],[1.0,\"#f0f921\"]],\"type\":\"heatmapgl\"}],\"heatmap\":[{\"colorbar\":{\"outlinewidth\":0,\"ticks\":\"\"},\"colorscale\":[[0.0,\"#0d0887\"],[0.1111111111111111,\"#46039f\"],[0.2222222222222222,\"#7201a8\"],[0.3333333333333333,\"#9c179e\"],[0.4444444444444444,\"#bd3786\"],[0.5555555555555556,\"#d8576b\"],[0.6666666666666666,\"#ed7953\"],[0.7777777777777778,\"#fb9f3a\"],[0.8888888888888888,\"#fdca26\"],[1.0,\"#f0f921\"]],\"type\":\"heatmap\"}],\"histogram2dcontour\":[{\"colorbar\":{\"outlinewidth\":0,\"ticks\":\"\"},\"colorscale\":[[0.0,\"#0d0887\"],[0.1111111111111111,\"#46039f\"],[0.2222222222222222,\"#7201a8\"],[0.3333333333333333,\"#9c179e\"],[0.4444444444444444,\"#bd3786\"],[0.5555555555555556,\"#d8576b\"],[0.6666666666666666,\"#ed7953\"],[0.7777777777777778,\"#fb9f3a\"],[0.8888888888888888,\"#fdca26\"],[1.0,\"#f0f921\"]],\"type\":\"histogram2dcontour\"}],\"histogram2d\":[{\"colorbar\":{\"outlinewidth\":0,\"ticks\":\"\"},\"colorscale\":[[0.0,\"#0d0887\"],[0.1111111111111111,\"#46039f\"],[0.2222222222222222,\"#7201a8\"],[0.3333333333333333,\"#9c179e\"],[0.4444444444444444,\"#bd3786\"],[0.5555555555555556,\"#d8576b\"],[0.6666666666666666,\"#ed7953\"],[0.7777777777777778,\"#fb9f3a\"],[0.8888888888888888,\"#fdca26\"],[1.0,\"#f0f921\"]],\"type\":\"histogram2d\"}],\"histogram\":[{\"marker\":{\"pattern\":{\"fillmode\":\"overlay\",\"size\":10,\"solidity\":0.2}},\"type\":\"histogram\"}],\"mesh3d\":[{\"colorbar\":{\"outlinewidth\":0,\"ticks\":\"\"},\"type\":\"mesh3d\"}],\"parcoords\":[{\"line\":{\"colorbar\":{\"outlinewidth\":0,\"ticks\":\"\"}},\"type\":\"parcoords\"}],\"pie\":[{\"automargin\":true,\"type\":\"pie\"}],\"scatter3d\":[{\"line\":{\"colorbar\":{\"outlinewidth\":0,\"ticks\":\"\"}},\"marker\":{\"colorbar\":{\"outlinewidth\":0,\"ticks\":\"\"}},\"type\":\"scatter3d\"}],\"scattercarpet\":[{\"marker\":{\"colorbar\":{\"outlinewidth\":0,\"ticks\":\"\"}},\"type\":\"scattercarpet\"}],\"scattergeo\":[{\"marker\":{\"colorbar\":{\"outlinewidth\":0,\"ticks\":\"\"}},\"type\":\"scattergeo\"}],\"scattergl\":[{\"marker\":{\"colorbar\":{\"outlinewidth\":0,\"ticks\":\"\"}},\"type\":\"scattergl\"}],\"scattermapbox\":[{\"marker\":{\"colorbar\":{\"outlinewidth\":0,\"ticks\":\"\"}},\"type\":\"scattermapbox\"}],\"scatterpolargl\":[{\"marker\":{\"colorbar\":{\"outlinewidth\":0,\"ticks\":\"\"}},\"type\":\"scatterpolargl\"}],\"scatterpolar\":[{\"marker\":{\"colorbar\":{\"outlinewidth\":0,\"ticks\":\"\"}},\"type\":\"scatterpolar\"}],\"scatter\":[{\"marker\":{\"colorbar\":{\"outlinewidth\":0,\"ticks\":\"\"}},\"type\":\"scatter\"}],\"scatterternary\":[{\"marker\":{\"colorbar\":{\"outlinewidth\":0,\"ticks\":\"\"}},\"type\":\"scatterternary\"}],\"surface\":[{\"colorbar\":{\"outlinewidth\":0,\"ticks\":\"\"},\"colorscale\":[[0.0,\"#0d0887\"],[0.1111111111111111,\"#46039f\"],[0.2222222222222222,\"#7201a8\"],[0.3333333333333333,\"#9c179e\"],[0.4444444444444444,\"#bd3786\"],[0.5555555555555556,\"#d8576b\"],[0.6666666666666666,\"#ed7953\"],[0.7777777777777778,\"#fb9f3a\"],[0.8888888888888888,\"#fdca26\"],[1.0,\"#f0f921\"]],\"type\":\"surface\"}],\"table\":[{\"cells\":{\"fill\":{\"color\":\"#EBF0F8\"},\"line\":{\"color\":\"white\"}},\"header\":{\"fill\":{\"color\":\"#C8D4E3\"},\"line\":{\"color\":\"white\"}},\"type\":\"table\"}]},\"layout\":{\"annotationdefaults\":{\"arrowcolor\":\"#2a3f5f\",\"arrowhead\":0,\"arrowwidth\":1},\"autotypenumbers\":\"strict\",\"coloraxis\":{\"colorbar\":{\"outlinewidth\":0,\"ticks\":\"\"}},\"colorscale\":{\"diverging\":[[0,\"#8e0152\"],[0.1,\"#c51b7d\"],[0.2,\"#de77ae\"],[0.3,\"#f1b6da\"],[0.4,\"#fde0ef\"],[0.5,\"#f7f7f7\"],[0.6,\"#e6f5d0\"],[0.7,\"#b8e186\"],[0.8,\"#7fbc41\"],[0.9,\"#4d9221\"],[1,\"#276419\"]],\"sequential\":[[0.0,\"#0d0887\"],[0.1111111111111111,\"#46039f\"],[0.2222222222222222,\"#7201a8\"],[0.3333333333333333,\"#9c179e\"],[0.4444444444444444,\"#bd3786\"],[0.5555555555555556,\"#d8576b\"],[0.6666666666666666,\"#ed7953\"],[0.7777777777777778,\"#fb9f3a\"],[0.8888888888888888,\"#fdca26\"],[1.0,\"#f0f921\"]],\"sequentialminus\":[[0.0,\"#0d0887\"],[0.1111111111111111,\"#46039f\"],[0.2222222222222222,\"#7201a8\"],[0.3333333333333333,\"#9c179e\"],[0.4444444444444444,\"#bd3786\"],[0.5555555555555556,\"#d8576b\"],[0.6666666666666666,\"#ed7953\"],[0.7777777777777778,\"#fb9f3a\"],[0.8888888888888888,\"#fdca26\"],[1.0,\"#f0f921\"]]},\"colorway\":[\"#636efa\",\"#EF553B\",\"#00cc96\",\"#ab63fa\",\"#FFA15A\",\"#19d3f3\",\"#FF6692\",\"#B6E880\",\"#FF97FF\",\"#FECB52\"],\"font\":{\"color\":\"#2a3f5f\"},\"geo\":{\"bgcolor\":\"white\",\"lakecolor\":\"white\",\"landcolor\":\"white\",\"showlakes\":true,\"showland\":true,\"subunitcolor\":\"#C8D4E3\"},\"hoverlabel\":{\"align\":\"left\"},\"hovermode\":\"closest\",\"mapbox\":{\"style\":\"light\"},\"paper_bgcolor\":\"white\",\"plot_bgcolor\":\"white\",\"polar\":{\"angularaxis\":{\"gridcolor\":\"#EBF0F8\",\"linecolor\":\"#EBF0F8\",\"ticks\":\"\"},\"bgcolor\":\"white\",\"radialaxis\":{\"gridcolor\":\"#EBF0F8\",\"linecolor\":\"#EBF0F8\",\"ticks\":\"\"}},\"scene\":{\"xaxis\":{\"backgroundcolor\":\"white\",\"gridcolor\":\"#DFE8F3\",\"gridwidth\":2,\"linecolor\":\"#EBF0F8\",\"showbackground\":true,\"ticks\":\"\",\"zerolinecolor\":\"#EBF0F8\"},\"yaxis\":{\"backgroundcolor\":\"white\",\"gridcolor\":\"#DFE8F3\",\"gridwidth\":2,\"linecolor\":\"#EBF0F8\",\"showbackground\":true,\"ticks\":\"\",\"zerolinecolor\":\"#EBF0F8\"},\"zaxis\":{\"backgroundcolor\":\"white\",\"gridcolor\":\"#DFE8F3\",\"gridwidth\":2,\"linecolor\":\"#EBF0F8\",\"showbackground\":true,\"ticks\":\"\",\"zerolinecolor\":\"#EBF0F8\"}},\"shapedefaults\":{\"line\":{\"color\":\"#2a3f5f\"}},\"ternary\":{\"aaxis\":{\"gridcolor\":\"#DFE8F3\",\"linecolor\":\"#A2B1C6\",\"ticks\":\"\"},\"baxis\":{\"gridcolor\":\"#DFE8F3\",\"linecolor\":\"#A2B1C6\",\"ticks\":\"\"},\"bgcolor\":\"white\",\"caxis\":{\"gridcolor\":\"#DFE8F3\",\"linecolor\":\"#A2B1C6\",\"ticks\":\"\"}},\"title\":{\"x\":0.05},\"xaxis\":{\"automargin\":true,\"gridcolor\":\"#EBF0F8\",\"linecolor\":\"#EBF0F8\",\"ticks\":\"\",\"title\":{\"standoff\":15},\"zerolinecolor\":\"#EBF0F8\",\"zerolinewidth\":2},\"yaxis\":{\"automargin\":true,\"gridcolor\":\"#EBF0F8\",\"linecolor\":\"#EBF0F8\",\"ticks\":\"\",\"title\":{\"standoff\":15},\"zerolinecolor\":\"#EBF0F8\",\"zerolinewidth\":2}}},\"xaxis\":{\"anchor\":\"y\",\"domain\":[0.0,1.0],\"title\":{\"text\":\"Feature Importance\"},\"tickfont\":{\"size\":20},\"visible\":true},\"yaxis\":{\"anchor\":\"x\",\"domain\":[0.0,1.0],\"title\":{\"text\":\"Markers\"},\"tickfont\":{\"size\":20},\"automargin\":true,\"dtick\":1},\"legend\":{\"tracegroupgap\":0},\"margin\":{\"t\":60},\"font\":{\"family\":\"Times new roman\",\"size\":20,\"color\":\"black\"},\"width\":650,\"height\":900,\"showlegend\":true},                        {\"responsive\": true}                    ).then(function(){\n",
       "                            \n",
       "var gd = document.getElementById('6a4c2009-e049-4da1-949f-33489ca33826');\n",
       "var x = new MutationObserver(function (mutations, observer) {{\n",
       "        var display = window.getComputedStyle(gd).display;\n",
       "        if (!display || display === 'none') {{\n",
       "            console.log([gd, 'removed!']);\n",
       "            Plotly.purge(gd);\n",
       "            observer.disconnect();\n",
       "        }}\n",
       "}});\n",
       "\n",
       "// Listen for the removal of the full notebook cells\n",
       "var notebookContainer = gd.closest('#notebook-container');\n",
       "if (notebookContainer) {{\n",
       "    x.observe(notebookContainer, {childList: true});\n",
       "}}\n",
       "\n",
       "// Listen for the clearing of the current output cell\n",
       "var outputEl = gd.closest('.output');\n",
       "if (outputEl) {{\n",
       "    x.observe(outputEl, {childList: true});\n",
       "}}\n",
       "\n",
       "                        })                };                });            </script>        </div>"
      ]
     },
     "metadata": {},
     "output_type": "display_data"
    }
   ],
   "source": [
    "top_10 = feat_import_mind.sort_values(by = 'mean_importance').tail(10)\n",
    "fig = px.scatter(top_10,x = 'mean_importance', y = 'features', template = \"plotly_white\",\n",
    "                  color_discrete_sequence = [pink],\n",
    "\n",
    "                 category_orders = {'significant': ['p > 0.05','p < 0.05 uncorrected', 'p < 0.05 FDR corrected']}, \n",
    "                 labels = {'value':'Feature importance', 'features': 'Markers'}\n",
    "\n",
    "                )\n",
    "\n",
    "fig.update_traces(marker=dict(size = 8))\n",
    "\n",
    "fig.update_layout(\n",
    "    width=650,\n",
    "    height=900,\n",
    "#     autosize = True, \n",
    "    template = 'plotly_white',\n",
    "        font=dict(\n",
    "        family=\"Times new roman\",\n",
    "        size=20,\n",
    "        color=\"black\"\n",
    "    ),\n",
    "    xaxis = dict(\n",
    "            visible=True,\n",
    "            # range = [0.37,0.63], \n",
    "            tickfont = {\"size\": 20},\n",
    "            title = 'Feature Importance'\n",
    "        ),\n",
    "    yaxis = dict(\n",
    "        tickfont = {\"size\": 20},\n",
    "        # autorange = False,    \n",
    "        automargin = True,\n",
    "        # range = [-1,len(feat_import_mw)],\n",
    "        dtick = 1\n",
    "        ),\n",
    "    showlegend=True, \n",
    "\n",
    ")\n",
    "\n",
    "fig.show()\n",
    "# pio.write_json(fig, 'Figs/univariate_roc_mw_segment.plotly')\n",
    "fig.write_image(os.path.join(fig_path, 'feat_importance_mind.png'))\n",
    "fig.write_image(os.path.join(fig_path, 'feat_importance_mind.svg'))"
   ]
  },
  {
   "cell_type": "markdown",
   "id": "wrong-technology",
   "metadata": {},
   "source": [
    "## dMW Vs sMW\n",
    "This will be only performed in SC as they have more trials"
   ]
  },
  {
   "cell_type": "code",
   "execution_count": 46,
   "id": "documented-villa",
   "metadata": {},
   "outputs": [],
   "source": [
    "agg_dict = {k:['mean', 'std'] for k in markers }\n",
    "agg_dict.update({k:'first' for k in df_markers.drop(markers, axis=1).columns})\n",
    "\n",
    "df_mw = (\n",
    "    df_markers\n",
    "    .query(\"probe == 'SC'\")\n",
    "    .query(\"mind != 'on-task'\")\n",
    "    .groupby(['segment', 'participant'], as_index = False).agg(agg_dict)\n",
    ")\n",
    "\n",
    "############################################################\n",
    "################ Use normal names################\n",
    "############################################################\n",
    "df_mw.columns = df_mw.columns.map(\"_\".join)\n",
    "\n",
    "df_mw  = (df_mw\n",
    "            .rename(columns = {'participant_first':'participant', 'probe_first':'probe', 'mind_first':'mind', 'segment_first':'segment'})\n",
    "            .drop([ 'probe',], axis = 1) \n",
    "           )\n",
    "\n",
    "\n",
    "############################################################\n",
    "################ Use latex command for nmaes################\n",
    "############################################################\n",
    "\n",
    "# df_mw = correct_name_markers(df_mw)\n",
    "\n",
    "# df_mw.columns = df_mw.columns.map(\"$_{\".join).map(lambda x: x + '}$').map(lambda x: x.replace('$$', ''))\n",
    "\n",
    "# df_mw  = (df_mw\n",
    "#             .rename(columns = {'participant$_{first}$':'participant', 'probe$_{first}$':'probe', 'mind$_{first}$':'mind', 'segment$_{first}$':'segment', 'mind$_{}$':'mind'})\n",
    "# #             .query(\"mind != 'dMW'\") #if you want to test against just one of the mw   \n",
    "#             .drop(['participant', 'probe',  'segment'], axis = 1)\n",
    "\n",
    "#            )\n",
    "\n",
    "\n",
    "df_mw['mind_numeric'] = (df_mw['mind'] == 'sMW').astype(int)\n",
    "\n",
    "df_mw.to_csv(os.path.join(results_path,'data_mw.csv'))\n"
   ]
  },
  {
   "cell_type": "code",
   "execution_count": 83,
   "id": "78f842d8",
   "metadata": {},
   "outputs": [
    {
     "name": "stderr",
     "output_type": "stream",
     "text": [
      "KFold Iteration: 0it [00:00, ?it/s]"
     ]
    },
    {
     "name": "stdout",
     "output_type": "stream",
     "text": [
      "[1] \"failure to converge in 10000 evaluations\"\n",
      "[2] \" \\n\"                                     \n",
      "\n",
      "unable to evaluate scaled gradient \n",
      "\n",
      "Model failed to converge: degenerate  Hessian with 3 negative eigenvalues \n",
      "\n",
      "Linear mixed model fit by maximum likelihood  ['lmerMod']\n",
      "Formula: mind_numeric~wSMI_1_mean+wSMI_1_std+wSMI_2_mean+wSMI_2_std+wSMI_4_mean+wSMI_4_std+wSMI_8_mean+wSMI_8_std+p_e_1_mean+p_e_1_std+p_e_2_mean+p_e_2_std+p_e_4_mean+p_e_4_std+p_e_8_mean+p_e_8_std+k_mean+k_std+se_mean+se_std+msf_std+sef90_std+sef95_std+b_std+b_n_std+g_std+g_n_std+t_std+t_n_std+d_mean+d_std+d_n_std+a_n_std+a_std+CNV_mean+CNV_std+P1_mean+P1_std+P3a_mean+P3a_std+P3b_mean+P3b_std+(1|participant)\n",
      "\n",
      "Family: binomial\t Inference: parametric\n",
      "\n",
      "Number of observations: 428\t Groups: {'participant': 19.0}\n",
      "\n",
      "Log-likelihood: -237.035 \t AIC: 562.071\n",
      "\n",
      "Random effects:\n",
      "\n",
      "                    Name    Var   Std\n",
      "participant  (Intercept)  1.299  1.14\n",
      "\n",
      "No random effect correlations specified\n",
      "\n",
      "Fixed effects:\n",
      "\n"
     ]
    },
    {
     "name": "stderr",
     "output_type": "stream",
     "text": []
    },
    {
     "name": "stdout",
     "output_type": "stream",
     "text": [
      "boundary (singular) fit: see ?isSingular \n",
      "\n",
      "Linear mixed model fit by maximum likelihood  ['lmerMod']\n",
      "Formula: mind_numeric~wSMI_1_mean+wSMI_1_std+wSMI_2_mean+wSMI_2_std+wSMI_4_mean+wSMI_4_std+wSMI_8_mean+wSMI_8_std+p_e_1_mean+p_e_1_std+p_e_2_mean+p_e_2_std+p_e_4_mean+p_e_4_std+p_e_8_mean+p_e_8_std+k_mean+k_std+se_mean+se_std+msf_std+sef90_std+sef95_std+b_std+b_n_std+g_std+g_n_std+t_std+t_n_std+d_mean+d_std+d_n_std+a_n_std+a_std+CNV_mean+CNV_std+P1_mean+P1_std+P3a_mean+P3a_std+P3b_mean+P3b_std+(1|participant)\n",
      "\n",
      "Family: binomial\t Inference: parametric\n",
      "\n",
      "Number of observations: 428\t Groups: {'participant': 19.0}\n",
      "\n",
      "Log-likelihood: -279.199 \t AIC: 646.398\n",
      "\n",
      "Random effects:\n",
      "\n",
      "                    Name  Var  Std\n",
      "participant  (Intercept)  0.0  0.0\n",
      "\n",
      "No random effect correlations specified\n",
      "\n",
      "Fixed effects:\n",
      "\n"
     ]
    },
    {
     "name": "stderr",
     "output_type": "stream",
     "text": []
    },
    {
     "name": "stdout",
     "output_type": "stream",
     "text": [
      "boundary (singular) fit: see ?isSingular \n",
      "\n",
      "Linear mixed model fit by maximum likelihood  ['lmerMod']\n",
      "Formula: mind_numeric~wSMI_1_mean+wSMI_1_std+wSMI_2_mean+wSMI_2_std+wSMI_4_mean+wSMI_4_std+wSMI_8_mean+wSMI_8_std+p_e_1_mean+p_e_1_std+p_e_2_mean+p_e_2_std+p_e_4_mean+p_e_4_std+p_e_8_mean+p_e_8_std+k_mean+k_std+se_mean+se_std+msf_std+sef90_std+sef95_std+b_std+b_n_std+g_std+g_n_std+t_std+t_n_std+d_mean+d_std+d_n_std+a_n_std+a_std+CNV_mean+CNV_std+P1_mean+P1_std+P3a_mean+P3a_std+P3b_mean+P3b_std+(1|participant)\n",
      "\n",
      "Family: binomial\t Inference: parametric\n",
      "\n",
      "Number of observations: 428\t Groups: {'participant': 19.0}\n",
      "\n",
      "Log-likelihood: -277.257 \t AIC: 642.513\n",
      "\n",
      "Random effects:\n",
      "\n",
      "                    Name  Var  Std\n",
      "participant  (Intercept)  0.0  0.0\n",
      "\n",
      "No random effect correlations specified\n",
      "\n",
      "Fixed effects:\n",
      "\n"
     ]
    },
    {
     "name": "stderr",
     "output_type": "stream",
     "text": []
    },
    {
     "name": "stdout",
     "output_type": "stream",
     "text": [
      "boundary (singular) fit: see ?isSingular \n",
      "\n",
      "Linear mixed model fit by maximum likelihood  ['lmerMod']\n",
      "Formula: mind_numeric~wSMI_1_mean+wSMI_1_std+wSMI_2_mean+wSMI_2_std+wSMI_4_mean+wSMI_4_std+wSMI_8_mean+wSMI_8_std+p_e_1_mean+p_e_1_std+p_e_2_mean+p_e_2_std+p_e_4_mean+p_e_4_std+p_e_8_mean+p_e_8_std+k_mean+k_std+se_mean+se_std+msf_std+sef90_std+sef95_std+b_std+b_n_std+g_std+g_n_std+t_std+t_n_std+d_mean+d_std+d_n_std+a_n_std+a_std+CNV_mean+CNV_std+P1_mean+P1_std+P3a_mean+P3a_std+P3b_mean+P3b_std+(1|participant)\n",
      "\n",
      "Family: binomial\t Inference: parametric\n",
      "\n",
      "Number of observations: 428\t Groups: {'participant': 19.0}\n",
      "\n",
      "Log-likelihood: -275.895 \t AIC: 639.790\n",
      "\n",
      "Random effects:\n",
      "\n",
      "                    Name  Var  Std\n",
      "participant  (Intercept)  0.0  0.0\n",
      "\n",
      "No random effect correlations specified\n",
      "\n",
      "Fixed effects:\n",
      "\n"
     ]
    },
    {
     "name": "stderr",
     "output_type": "stream",
     "text": [
      "\n"
     ]
    },
    {
     "name": "stdout",
     "output_type": "stream",
     "text": [
      "boundary (singular) fit: see ?isSingular \n",
      "\n",
      "Linear mixed model fit by maximum likelihood  ['lmerMod']\n",
      "Formula: mind_numeric~wSMI_1_mean+wSMI_1_std+wSMI_2_mean+wSMI_2_std+wSMI_4_mean+wSMI_4_std+wSMI_8_mean+wSMI_8_std+p_e_1_mean+p_e_1_std+p_e_2_mean+p_e_2_std+p_e_4_mean+p_e_4_std+p_e_8_mean+p_e_8_std+k_mean+k_std+se_mean+se_std+msf_std+sef90_std+sef95_std+b_std+b_n_std+g_std+g_n_std+t_std+t_n_std+d_mean+d_std+d_n_std+a_n_std+a_std+CNV_mean+CNV_std+P1_mean+P1_std+P3a_mean+P3a_std+P3b_mean+P3b_std+(1|participant)\n",
      "\n",
      "Family: binomial\t Inference: parametric\n",
      "\n",
      "Number of observations: 428\t Groups: {'participant': 19.0}\n",
      "\n",
      "Log-likelihood: -280.545 \t AIC: 649.091\n",
      "\n",
      "Random effects:\n",
      "\n",
      "                    Name  Var  Std\n",
      "participant  (Intercept)  0.0  0.0\n",
      "\n",
      "No random effect correlations specified\n",
      "\n",
      "Fixed effects:\n",
      "\n"
     ]
    },
    {
     "name": "stderr",
     "output_type": "stream",
     "text": [
      "Permutation Test:   4%|▍         | 4/100 [00:49<20:06, 12.57s/it]\u001b[A"
     ]
    },
    {
     "name": "stdout",
     "output_type": "stream",
     "text": [
      "boundary (singular) fit: see ?isSingular \n",
      "\n",
      "Linear mixed model fit by maximum likelihood  ['lmerMod']\n",
      "Formula: mind_numeric~wSMI_1_mean+wSMI_1_std+wSMI_2_mean+wSMI_2_std+wSMI_4_mean+wSMI_4_std+wSMI_8_mean+wSMI_8_std+p_e_1_mean+p_e_1_std+p_e_2_mean+p_e_2_std+p_e_4_mean+p_e_4_std+p_e_8_mean+p_e_8_std+k_mean+k_std+se_mean+se_std+msf_std+sef90_std+sef95_std+b_std+b_n_std+g_std+g_n_std+t_std+t_n_std+d_mean+d_std+d_n_std+a_n_std+a_std+CNV_mean+CNV_std+P1_mean+P1_std+P3a_mean+P3a_std+P3b_mean+P3b_std+(1|participant)\n",
      "\n",
      "Family: binomial\t Inference: parametric\n",
      "\n",
      "Number of observations: 428\t Groups: {'participant': 19.0}\n",
      "\n",
      "Log-likelihood: -279.758 \t AIC: 647.517\n",
      "\n",
      "Random effects:\n",
      "\n",
      "                    Name  Var  Std\n",
      "participant  (Intercept)  0.0  0.0\n",
      "\n",
      "No random effect correlations specified\n",
      "\n",
      "Fixed effects:\n",
      "\n"
     ]
    },
    {
     "name": "stderr",
     "output_type": "stream",
     "text": []
    },
    {
     "name": "stdout",
     "output_type": "stream",
     "text": [
      "boundary (singular) fit: see ?isSingular \n",
      "\n",
      "Linear mixed model fit by maximum likelihood  ['lmerMod']\n",
      "Formula: mind_numeric~wSMI_1_mean+wSMI_1_std+wSMI_2_mean+wSMI_2_std+wSMI_4_mean+wSMI_4_std+wSMI_8_mean+wSMI_8_std+p_e_1_mean+p_e_1_std+p_e_2_mean+p_e_2_std+p_e_4_mean+p_e_4_std+p_e_8_mean+p_e_8_std+k_mean+k_std+se_mean+se_std+msf_std+sef90_std+sef95_std+b_std+b_n_std+g_std+g_n_std+t_std+t_n_std+d_mean+d_std+d_n_std+a_n_std+a_std+CNV_mean+CNV_std+P1_mean+P1_std+P3a_mean+P3a_std+P3b_mean+P3b_std+(1|participant)\n",
      "\n",
      "Family: binomial\t Inference: parametric\n",
      "\n",
      "Number of observations: 428\t Groups: {'participant': 19.0}\n",
      "\n",
      "Log-likelihood: -269.057 \t AIC: 626.114\n",
      "\n",
      "Random effects:\n",
      "\n",
      "                    Name  Var  Std\n",
      "participant  (Intercept)  0.0  0.0\n",
      "\n",
      "No random effect correlations specified\n",
      "\n",
      "Fixed effects:\n",
      "\n",
      "boundary (singular) fit: see ?isSingular \n",
      "\n",
      "Linear mixed model fit by maximum likelihood  ['lmerMod']\n",
      "Formula: mind_numeric~wSMI_1_mean+wSMI_1_std+wSMI_2_mean+wSMI_2_std+wSMI_4_mean+wSMI_4_std+wSMI_8_mean+wSMI_8_std+p_e_1_mean+p_e_1_std+p_e_2_mean+p_e_2_std+p_e_4_mean+p_e_4_std+p_e_8_mean+p_e_8_std+k_mean+k_std+se_mean+se_std+msf_std+sef90_std+sef95_std+b_std+b_n_std+g_std+g_n_std+t_std+t_n_std+d_mean+d_std+d_n_std+a_n_std+a_std+CNV_mean+CNV_std+P1_mean+P1_std+P3a_mean+P3a_std+P3b_mean+P3b_std+(1|participant)\n",
      "\n",
      "Family: binomial\t Inference: parametric\n",
      "\n",
      "Number of observations: 428\t Groups: {'participant': 19.0}\n",
      "\n",
      "Log-likelihood: -275.505 \t AIC: 639.010\n",
      "\n",
      "Random effects:\n",
      "\n",
      "                    Name  Var  Std\n",
      "participant  (Intercept)  0.0  0.0\n",
      "\n",
      "No random effect correlations specified\n",
      "\n",
      "Fixed effects:\n",
      "\n"
     ]
    },
    {
     "name": "stderr",
     "output_type": "stream",
     "text": []
    },
    {
     "name": "stdout",
     "output_type": "stream",
     "text": [
      "[1] \"failure to converge in 10000 evaluations\"\n",
      "[2] \" \\n\"                                     \n",
      "\n",
      "unable to evaluate scaled gradient \n",
      "\n",
      "Model failed to converge: degenerate  Hessian with 5 negative eigenvalues \n",
      "\n",
      "Linear mixed model fit by maximum likelihood  ['lmerMod']\n",
      "Formula: mind_numeric~wSMI_1_mean+wSMI_1_std+wSMI_2_mean+wSMI_2_std+wSMI_4_mean+wSMI_4_std+wSMI_8_mean+wSMI_8_std+p_e_1_mean+p_e_1_std+p_e_2_mean+p_e_2_std+p_e_4_mean+p_e_4_std+p_e_8_mean+p_e_8_std+k_mean+k_std+se_mean+se_std+msf_std+sef90_std+sef95_std+b_std+b_n_std+g_std+g_n_std+t_std+t_n_std+d_mean+d_std+d_n_std+a_n_std+a_std+CNV_mean+CNV_std+P1_mean+P1_std+P3a_mean+P3a_std+P3b_mean+P3b_std+(1|participant)\n",
      "\n",
      "Family: binomial\t Inference: parametric\n",
      "\n",
      "Number of observations: 428\t Groups: {'participant': 19.0}\n",
      "\n",
      "Log-likelihood: -271.327 \t AIC: 630.654\n",
      "\n",
      "Random effects:\n",
      "\n",
      "                    Name    Var    Std\n",
      "participant  (Intercept)  0.123  0.351\n",
      "\n",
      "No random effect correlations specified\n",
      "\n",
      "Fixed effects:\n",
      "\n"
     ]
    },
    {
     "name": "stderr",
     "output_type": "stream",
     "text": []
    },
    {
     "name": "stdout",
     "output_type": "stream",
     "text": [
      "boundary (singular) fit: see ?isSingular \n",
      "\n",
      "Linear mixed model fit by maximum likelihood  ['lmerMod']\n",
      "Formula: mind_numeric~wSMI_1_mean+wSMI_1_std+wSMI_2_mean+wSMI_2_std+wSMI_4_mean+wSMI_4_std+wSMI_8_mean+wSMI_8_std+p_e_1_mean+p_e_1_std+p_e_2_mean+p_e_2_std+p_e_4_mean+p_e_4_std+p_e_8_mean+p_e_8_std+k_mean+k_std+se_mean+se_std+msf_std+sef90_std+sef95_std+b_std+b_n_std+g_std+g_n_std+t_std+t_n_std+d_mean+d_std+d_n_std+a_n_std+a_std+CNV_mean+CNV_std+P1_mean+P1_std+P3a_mean+P3a_std+P3b_mean+P3b_std+(1|participant)\n",
      "\n",
      "Family: binomial\t Inference: parametric\n",
      "\n",
      "Number of observations: 428\t Groups: {'participant': 19.0}\n",
      "\n",
      "Log-likelihood: -281.718 \t AIC: 651.435\n",
      "\n",
      "Random effects:\n",
      "\n",
      "                    Name  Var  Std\n",
      "participant  (Intercept)  0.0  0.0\n",
      "\n",
      "No random effect correlations specified\n",
      "\n",
      "Fixed effects:\n",
      "\n"
     ]
    },
    {
     "name": "stderr",
     "output_type": "stream",
     "text": []
    },
    {
     "name": "stdout",
     "output_type": "stream",
     "text": [
      "boundary (singular) fit: see ?isSingular \n",
      "\n",
      "Linear mixed model fit by maximum likelihood  ['lmerMod']\n",
      "Formula: mind_numeric~wSMI_1_mean+wSMI_1_std+wSMI_2_mean+wSMI_2_std+wSMI_4_mean+wSMI_4_std+wSMI_8_mean+wSMI_8_std+p_e_1_mean+p_e_1_std+p_e_2_mean+p_e_2_std+p_e_4_mean+p_e_4_std+p_e_8_mean+p_e_8_std+k_mean+k_std+se_mean+se_std+msf_std+sef90_std+sef95_std+b_std+b_n_std+g_std+g_n_std+t_std+t_n_std+d_mean+d_std+d_n_std+a_n_std+a_std+CNV_mean+CNV_std+P1_mean+P1_std+P3a_mean+P3a_std+P3b_mean+P3b_std+(1|participant)\n",
      "\n",
      "Family: binomial\t Inference: parametric\n",
      "\n",
      "Number of observations: 428\t Groups: {'participant': 19.0}\n",
      "\n",
      "Log-likelihood: -281.206 \t AIC: 650.411\n",
      "\n",
      "Random effects:\n",
      "\n",
      "                    Name  Var  Std\n",
      "participant  (Intercept)  0.0  0.0\n",
      "\n",
      "No random effect correlations specified\n",
      "\n",
      "Fixed effects:\n",
      "\n"
     ]
    },
    {
     "name": "stderr",
     "output_type": "stream",
     "text": []
    },
    {
     "name": "stdout",
     "output_type": "stream",
     "text": [
      "boundary (singular) fit: see ?isSingular \n",
      "\n",
      "Linear mixed model fit by maximum likelihood  ['lmerMod']\n",
      "Formula: mind_numeric~wSMI_1_mean+wSMI_1_std+wSMI_2_mean+wSMI_2_std+wSMI_4_mean+wSMI_4_std+wSMI_8_mean+wSMI_8_std+p_e_1_mean+p_e_1_std+p_e_2_mean+p_e_2_std+p_e_4_mean+p_e_4_std+p_e_8_mean+p_e_8_std+k_mean+k_std+se_mean+se_std+msf_std+sef90_std+sef95_std+b_std+b_n_std+g_std+g_n_std+t_std+t_n_std+d_mean+d_std+d_n_std+a_n_std+a_std+CNV_mean+CNV_std+P1_mean+P1_std+P3a_mean+P3a_std+P3b_mean+P3b_std+(1|participant)\n",
      "\n",
      "Family: binomial\t Inference: parametric\n",
      "\n",
      "Number of observations: 428\t Groups: {'participant': 19.0}\n",
      "\n",
      "Log-likelihood: -277.429 \t AIC: 642.858\n",
      "\n",
      "Random effects:\n",
      "\n",
      "                    Name  Var  Std\n",
      "participant  (Intercept)  0.0  0.0\n",
      "\n",
      "No random effect correlations specified\n",
      "\n",
      "Fixed effects:\n",
      "\n"
     ]
    },
    {
     "name": "stderr",
     "output_type": "stream",
     "text": []
    },
    {
     "name": "stdout",
     "output_type": "stream",
     "text": [
      "boundary (singular) fit: see ?isSingular \n",
      "\n",
      "Linear mixed model fit by maximum likelihood  ['lmerMod']\n",
      "Formula: mind_numeric~wSMI_1_mean+wSMI_1_std+wSMI_2_mean+wSMI_2_std+wSMI_4_mean+wSMI_4_std+wSMI_8_mean+wSMI_8_std+p_e_1_mean+p_e_1_std+p_e_2_mean+p_e_2_std+p_e_4_mean+p_e_4_std+p_e_8_mean+p_e_8_std+k_mean+k_std+se_mean+se_std+msf_std+sef90_std+sef95_std+b_std+b_n_std+g_std+g_n_std+t_std+t_n_std+d_mean+d_std+d_n_std+a_n_std+a_std+CNV_mean+CNV_std+P1_mean+P1_std+P3a_mean+P3a_std+P3b_mean+P3b_std+(1|participant)\n",
      "\n",
      "Family: binomial\t Inference: parametric\n",
      "\n",
      "Number of observations: 428\t Groups: {'participant': 19.0}\n",
      "\n",
      "Log-likelihood: -272.934 \t AIC: 633.867\n",
      "\n",
      "Random effects:\n",
      "\n",
      "                    Name  Var  Std\n",
      "participant  (Intercept)  0.0  0.0\n",
      "\n",
      "No random effect correlations specified\n",
      "\n",
      "Fixed effects:\n",
      "\n",
      "boundary (singular) fit: see ?isSingular \n",
      "\n",
      "Linear mixed model fit by maximum likelihood  ['lmerMod']\n",
      "Formula: mind_numeric~wSMI_1_mean+wSMI_1_std+wSMI_2_mean+wSMI_2_std+wSMI_4_mean+wSMI_4_std+wSMI_8_mean+wSMI_8_std+p_e_1_mean+p_e_1_std+p_e_2_mean+p_e_2_std+p_e_4_mean+p_e_4_std+p_e_8_mean+p_e_8_std+k_mean+k_std+se_mean+se_std+msf_std+sef90_std+sef95_std+b_std+b_n_std+g_std+g_n_std+t_std+t_n_std+d_mean+d_std+d_n_std+a_n_std+a_std+CNV_mean+CNV_std+P1_mean+P1_std+P3a_mean+P3a_std+P3b_mean+P3b_std+(1|participant)\n",
      "\n",
      "Family: binomial\t Inference: parametric\n",
      "\n",
      "Number of observations: 428\t Groups: {'participant': 19.0}\n",
      "\n",
      "Log-likelihood: -271.098 \t AIC: 630.196\n",
      "\n",
      "Random effects:\n",
      "\n",
      "                    Name  Var  Std\n",
      "participant  (Intercept)  0.0  0.0\n",
      "\n",
      "No random effect correlations specified\n",
      "\n",
      "Fixed effects:\n",
      "\n"
     ]
    },
    {
     "name": "stderr",
     "output_type": "stream",
     "text": []
    },
    {
     "name": "stdout",
     "output_type": "stream",
     "text": [
      "boundary (singular) fit: see ?isSingular \n",
      "\n",
      "Linear mixed model fit by maximum likelihood  ['lmerMod']\n",
      "Formula: mind_numeric~wSMI_1_mean+wSMI_1_std+wSMI_2_mean+wSMI_2_std+wSMI_4_mean+wSMI_4_std+wSMI_8_mean+wSMI_8_std+p_e_1_mean+p_e_1_std+p_e_2_mean+p_e_2_std+p_e_4_mean+p_e_4_std+p_e_8_mean+p_e_8_std+k_mean+k_std+se_mean+se_std+msf_std+sef90_std+sef95_std+b_std+b_n_std+g_std+g_n_std+t_std+t_n_std+d_mean+d_std+d_n_std+a_n_std+a_std+CNV_mean+CNV_std+P1_mean+P1_std+P3a_mean+P3a_std+P3b_mean+P3b_std+(1|participant)\n",
      "\n",
      "Family: binomial\t Inference: parametric\n",
      "\n",
      "Number of observations: 428\t Groups: {'participant': 19.0}\n",
      "\n",
      "Log-likelihood: -277.338 \t AIC: 642.675\n",
      "\n",
      "Random effects:\n",
      "\n",
      "                    Name  Var  Std\n",
      "participant  (Intercept)  0.0  0.0\n",
      "\n",
      "No random effect correlations specified\n",
      "\n",
      "Fixed effects:\n",
      "\n"
     ]
    },
    {
     "name": "stderr",
     "output_type": "stream",
     "text": []
    },
    {
     "name": "stdout",
     "output_type": "stream",
     "text": [
      "boundary (singular) fit: see ?isSingular \n",
      "\n",
      "Linear mixed model fit by maximum likelihood  ['lmerMod']\n",
      "Formula: mind_numeric~wSMI_1_mean+wSMI_1_std+wSMI_2_mean+wSMI_2_std+wSMI_4_mean+wSMI_4_std+wSMI_8_mean+wSMI_8_std+p_e_1_mean+p_e_1_std+p_e_2_mean+p_e_2_std+p_e_4_mean+p_e_4_std+p_e_8_mean+p_e_8_std+k_mean+k_std+se_mean+se_std+msf_std+sef90_std+sef95_std+b_std+b_n_std+g_std+g_n_std+t_std+t_n_std+d_mean+d_std+d_n_std+a_n_std+a_std+CNV_mean+CNV_std+P1_mean+P1_std+P3a_mean+P3a_std+P3b_mean+P3b_std+(1|participant)\n",
      "\n",
      "Family: binomial\t Inference: parametric\n",
      "\n",
      "Number of observations: 428\t Groups: {'participant': 19.0}\n",
      "\n",
      "Log-likelihood: -277.248 \t AIC: 642.495\n",
      "\n",
      "Random effects:\n",
      "\n",
      "                    Name  Var  Std\n",
      "participant  (Intercept)  0.0  0.0\n",
      "\n",
      "No random effect correlations specified\n",
      "\n",
      "Fixed effects:\n",
      "\n",
      "boundary (singular) fit: see ?isSingular \n",
      "\n",
      "Linear mixed model fit by maximum likelihood  ['lmerMod']\n",
      "Formula: mind_numeric~wSMI_1_mean+wSMI_1_std+wSMI_2_mean+wSMI_2_std+wSMI_4_mean+wSMI_4_std+wSMI_8_mean+wSMI_8_std+p_e_1_mean+p_e_1_std+p_e_2_mean+p_e_2_std+p_e_4_mean+p_e_4_std+p_e_8_mean+p_e_8_std+k_mean+k_std+se_mean+se_std+msf_std+sef90_std+sef95_std+b_std+b_n_std+g_std+g_n_std+t_std+t_n_std+d_mean+d_std+d_n_std+a_n_std+a_std+CNV_mean+CNV_std+P1_mean+P1_std+P3a_mean+P3a_std+P3b_mean+P3b_std+(1|participant)\n",
      "\n",
      "Family: binomial\t Inference: parametric\n",
      "\n",
      "Number of observations: 428\t Groups: {'participant': 19.0}\n",
      "\n",
      "Log-likelihood: -269.385 \t AIC: 626.770\n",
      "\n",
      "Random effects:\n",
      "\n",
      "                    Name  Var  Std\n",
      "participant  (Intercept)  0.0  0.0\n",
      "\n",
      "No random effect correlations specified\n",
      "\n",
      "Fixed effects:\n",
      "\n"
     ]
    },
    {
     "name": "stderr",
     "output_type": "stream",
     "text": []
    },
    {
     "name": "stdout",
     "output_type": "stream",
     "text": [
      "boundary (singular) fit: see ?isSingular \n",
      "\n",
      "Linear mixed model fit by maximum likelihood  ['lmerMod']\n",
      "Formula: mind_numeric~wSMI_1_mean+wSMI_1_std+wSMI_2_mean+wSMI_2_std+wSMI_4_mean+wSMI_4_std+wSMI_8_mean+wSMI_8_std+p_e_1_mean+p_e_1_std+p_e_2_mean+p_e_2_std+p_e_4_mean+p_e_4_std+p_e_8_mean+p_e_8_std+k_mean+k_std+se_mean+se_std+msf_std+sef90_std+sef95_std+b_std+b_n_std+g_std+g_n_std+t_std+t_n_std+d_mean+d_std+d_n_std+a_n_std+a_std+CNV_mean+CNV_std+P1_mean+P1_std+P3a_mean+P3a_std+P3b_mean+P3b_std+(1|participant)\n",
      "\n",
      "Family: binomial\t Inference: parametric\n",
      "\n",
      "Number of observations: 428\t Groups: {'participant': 19.0}\n",
      "\n",
      "Log-likelihood: -276.499 \t AIC: 640.997\n",
      "\n",
      "Random effects:\n",
      "\n",
      "                    Name  Var  Std\n",
      "participant  (Intercept)  0.0  0.0\n",
      "\n",
      "No random effect correlations specified\n",
      "\n",
      "Fixed effects:\n",
      "\n"
     ]
    },
    {
     "name": "stderr",
     "output_type": "stream",
     "text": []
    },
    {
     "name": "stdout",
     "output_type": "stream",
     "text": [
      "boundary (singular) fit: see ?isSingular \n",
      "\n",
      "Linear mixed model fit by maximum likelihood  ['lmerMod']\n",
      "Formula: mind_numeric~wSMI_1_mean+wSMI_1_std+wSMI_2_mean+wSMI_2_std+wSMI_4_mean+wSMI_4_std+wSMI_8_mean+wSMI_8_std+p_e_1_mean+p_e_1_std+p_e_2_mean+p_e_2_std+p_e_4_mean+p_e_4_std+p_e_8_mean+p_e_8_std+k_mean+k_std+se_mean+se_std+msf_std+sef90_std+sef95_std+b_std+b_n_std+g_std+g_n_std+t_std+t_n_std+d_mean+d_std+d_n_std+a_n_std+a_std+CNV_mean+CNV_std+P1_mean+P1_std+P3a_mean+P3a_std+P3b_mean+P3b_std+(1|participant)\n",
      "\n",
      "Family: binomial\t Inference: parametric\n",
      "\n",
      "Number of observations: 428\t Groups: {'participant': 19.0}\n",
      "\n",
      "Log-likelihood: -273.030 \t AIC: 634.061\n",
      "\n",
      "Random effects:\n",
      "\n",
      "                    Name  Var  Std\n",
      "participant  (Intercept)  0.0  0.0\n",
      "\n",
      "No random effect correlations specified\n",
      "\n",
      "Fixed effects:\n",
      "\n"
     ]
    },
    {
     "name": "stderr",
     "output_type": "stream",
     "text": []
    },
    {
     "name": "stdout",
     "output_type": "stream",
     "text": [
      "boundary (singular) fit: see ?isSingular \n",
      "\n",
      "Linear mixed model fit by maximum likelihood  ['lmerMod']\n",
      "Formula: mind_numeric~wSMI_1_mean+wSMI_1_std+wSMI_2_mean+wSMI_2_std+wSMI_4_mean+wSMI_4_std+wSMI_8_mean+wSMI_8_std+p_e_1_mean+p_e_1_std+p_e_2_mean+p_e_2_std+p_e_4_mean+p_e_4_std+p_e_8_mean+p_e_8_std+k_mean+k_std+se_mean+se_std+msf_std+sef90_std+sef95_std+b_std+b_n_std+g_std+g_n_std+t_std+t_n_std+d_mean+d_std+d_n_std+a_n_std+a_std+CNV_mean+CNV_std+P1_mean+P1_std+P3a_mean+P3a_std+P3b_mean+P3b_std+(1|participant)\n",
      "\n",
      "Family: binomial\t Inference: parametric\n",
      "\n",
      "Number of observations: 428\t Groups: {'participant': 19.0}\n",
      "\n",
      "Log-likelihood: -281.616 \t AIC: 651.231\n",
      "\n",
      "Random effects:\n",
      "\n",
      "                    Name  Var  Std\n",
      "participant  (Intercept)  0.0  0.0\n",
      "\n",
      "No random effect correlations specified\n",
      "\n",
      "Fixed effects:\n",
      "\n"
     ]
    },
    {
     "name": "stderr",
     "output_type": "stream",
     "text": []
    },
    {
     "name": "stdout",
     "output_type": "stream",
     "text": [
      "boundary (singular) fit: see ?isSingular \n",
      "\n",
      "Linear mixed model fit by maximum likelihood  ['lmerMod']\n",
      "Formula: mind_numeric~wSMI_1_mean+wSMI_1_std+wSMI_2_mean+wSMI_2_std+wSMI_4_mean+wSMI_4_std+wSMI_8_mean+wSMI_8_std+p_e_1_mean+p_e_1_std+p_e_2_mean+p_e_2_std+p_e_4_mean+p_e_4_std+p_e_8_mean+p_e_8_std+k_mean+k_std+se_mean+se_std+msf_std+sef90_std+sef95_std+b_std+b_n_std+g_std+g_n_std+t_std+t_n_std+d_mean+d_std+d_n_std+a_n_std+a_std+CNV_mean+CNV_std+P1_mean+P1_std+P3a_mean+P3a_std+P3b_mean+P3b_std+(1|participant)\n",
      "\n",
      "Family: binomial\t Inference: parametric\n",
      "\n",
      "Number of observations: 428\t Groups: {'participant': 19.0}\n",
      "\n",
      "Log-likelihood: -270.211 \t AIC: 628.421\n",
      "\n",
      "Random effects:\n",
      "\n",
      "                    Name  Var  Std\n",
      "participant  (Intercept)  0.0  0.0\n",
      "\n",
      "No random effect correlations specified\n",
      "\n",
      "Fixed effects:\n",
      "\n",
      "boundary (singular) fit: see ?isSingular \n",
      "\n",
      "Linear mixed model fit by maximum likelihood  ['lmerMod']\n",
      "Formula: mind_numeric~wSMI_1_mean+wSMI_1_std+wSMI_2_mean+wSMI_2_std+wSMI_4_mean+wSMI_4_std+wSMI_8_mean+wSMI_8_std+p_e_1_mean+p_e_1_std+p_e_2_mean+p_e_2_std+p_e_4_mean+p_e_4_std+p_e_8_mean+p_e_8_std+k_mean+k_std+se_mean+se_std+msf_std+sef90_std+sef95_std+b_std+b_n_std+g_std+g_n_std+t_std+t_n_std+d_mean+d_std+d_n_std+a_n_std+a_std+CNV_mean+CNV_std+P1_mean+P1_std+P3a_mean+P3a_std+P3b_mean+P3b_std+(1|participant)\n",
      "\n",
      "Family: binomial\t Inference: parametric\n",
      "\n",
      "Number of observations: 428\t Groups: {'participant': 19.0}\n",
      "\n",
      "Log-likelihood: -279.035 \t AIC: 646.071\n",
      "\n",
      "Random effects:\n",
      "\n",
      "                    Name  Var  Std\n",
      "participant  (Intercept)  0.0  0.0\n",
      "\n",
      "No random effect correlations specified\n",
      "\n",
      "Fixed effects:\n",
      "\n"
     ]
    },
    {
     "name": "stderr",
     "output_type": "stream",
     "text": []
    },
    {
     "name": "stdout",
     "output_type": "stream",
     "text": [
      "boundary (singular) fit: see ?isSingular \n",
      "\n",
      "Linear mixed model fit by maximum likelihood  ['lmerMod']\n",
      "Formula: mind_numeric~wSMI_1_mean+wSMI_1_std+wSMI_2_mean+wSMI_2_std+wSMI_4_mean+wSMI_4_std+wSMI_8_mean+wSMI_8_std+p_e_1_mean+p_e_1_std+p_e_2_mean+p_e_2_std+p_e_4_mean+p_e_4_std+p_e_8_mean+p_e_8_std+k_mean+k_std+se_mean+se_std+msf_std+sef90_std+sef95_std+b_std+b_n_std+g_std+g_n_std+t_std+t_n_std+d_mean+d_std+d_n_std+a_n_std+a_std+CNV_mean+CNV_std+P1_mean+P1_std+P3a_mean+P3a_std+P3b_mean+P3b_std+(1|participant)\n",
      "\n",
      "Family: binomial\t Inference: parametric\n",
      "\n",
      "Number of observations: 428\t Groups: {'participant': 19.0}\n",
      "\n",
      "Log-likelihood: -275.723 \t AIC: 639.446\n",
      "\n",
      "Random effects:\n",
      "\n",
      "                    Name  Var  Std\n",
      "participant  (Intercept)  0.0  0.0\n",
      "\n",
      "No random effect correlations specified\n",
      "\n",
      "Fixed effects:\n",
      "\n"
     ]
    },
    {
     "name": "stderr",
     "output_type": "stream",
     "text": []
    },
    {
     "name": "stdout",
     "output_type": "stream",
     "text": [
      "boundary (singular) fit: see ?isSingular \n",
      "\n",
      "Linear mixed model fit by maximum likelihood  ['lmerMod']\n",
      "Formula: mind_numeric~wSMI_1_mean+wSMI_1_std+wSMI_2_mean+wSMI_2_std+wSMI_4_mean+wSMI_4_std+wSMI_8_mean+wSMI_8_std+p_e_1_mean+p_e_1_std+p_e_2_mean+p_e_2_std+p_e_4_mean+p_e_4_std+p_e_8_mean+p_e_8_std+k_mean+k_std+se_mean+se_std+msf_std+sef90_std+sef95_std+b_std+b_n_std+g_std+g_n_std+t_std+t_n_std+d_mean+d_std+d_n_std+a_n_std+a_std+CNV_mean+CNV_std+P1_mean+P1_std+P3a_mean+P3a_std+P3b_mean+P3b_std+(1|participant)\n",
      "\n",
      "Family: binomial\t Inference: parametric\n",
      "\n",
      "Number of observations: 428\t Groups: {'participant': 19.0}\n",
      "\n",
      "Log-likelihood: -275.576 \t AIC: 639.152\n",
      "\n",
      "Random effects:\n",
      "\n",
      "                    Name  Var  Std\n",
      "participant  (Intercept)  0.0  0.0\n",
      "\n",
      "No random effect correlations specified\n",
      "\n",
      "Fixed effects:\n",
      "\n"
     ]
    },
    {
     "name": "stderr",
     "output_type": "stream",
     "text": [
      "\n",
      "Permutation Test:  24%|██▍       | 24/100 [07:15<28:42, 22.66s/it]"
     ]
    },
    {
     "name": "stdout",
     "output_type": "stream",
     "text": [
      "boundary (singular) fit: see ?isSingular \n",
      "\n",
      "Linear mixed model fit by maximum likelihood  ['lmerMod']\n",
      "Formula: mind_numeric~wSMI_1_mean+wSMI_1_std+wSMI_2_mean+wSMI_2_std+wSMI_4_mean+wSMI_4_std+wSMI_8_mean+wSMI_8_std+p_e_1_mean+p_e_1_std+p_e_2_mean+p_e_2_std+p_e_4_mean+p_e_4_std+p_e_8_mean+p_e_8_std+k_mean+k_std+se_mean+se_std+msf_std+sef90_std+sef95_std+b_std+b_n_std+g_std+g_n_std+t_std+t_n_std+d_mean+d_std+d_n_std+a_n_std+a_std+CNV_mean+CNV_std+P1_mean+P1_std+P3a_mean+P3a_std+P3b_mean+P3b_std+(1|participant)\n",
      "\n",
      "Family: binomial\t Inference: parametric\n",
      "\n",
      "Number of observations: 428\t Groups: {'participant': 19.0}\n",
      "\n",
      "Log-likelihood: -278.206 \t AIC: 644.412\n",
      "\n",
      "Random effects:\n",
      "\n",
      "                    Name  Var  Std\n",
      "participant  (Intercept)  0.0  0.0\n",
      "\n",
      "No random effect correlations specified\n",
      "\n",
      "Fixed effects:\n",
      "\n"
     ]
    },
    {
     "name": "stderr",
     "output_type": "stream",
     "text": [
      "\u001b[A"
     ]
    },
    {
     "name": "stdout",
     "output_type": "stream",
     "text": [
      "boundary (singular) fit: see ?isSingular \n",
      "\n",
      "Linear mixed model fit by maximum likelihood  ['lmerMod']\n",
      "Formula: mind_numeric~wSMI_1_mean+wSMI_1_std+wSMI_2_mean+wSMI_2_std+wSMI_4_mean+wSMI_4_std+wSMI_8_mean+wSMI_8_std+p_e_1_mean+p_e_1_std+p_e_2_mean+p_e_2_std+p_e_4_mean+p_e_4_std+p_e_8_mean+p_e_8_std+k_mean+k_std+se_mean+se_std+msf_std+sef90_std+sef95_std+b_std+b_n_std+g_std+g_n_std+t_std+t_n_std+d_mean+d_std+d_n_std+a_n_std+a_std+CNV_mean+CNV_std+P1_mean+P1_std+P3a_mean+P3a_std+P3b_mean+P3b_std+(1|participant)\n",
      "\n",
      "Family: binomial\t Inference: parametric\n",
      "\n",
      "Number of observations: 428\t Groups: {'participant': 19.0}\n",
      "\n",
      "Log-likelihood: -271.459 \t AIC: 630.919\n",
      "\n",
      "Random effects:\n",
      "\n",
      "                    Name  Var  Std\n",
      "participant  (Intercept)  0.0  0.0\n",
      "\n",
      "No random effect correlations specified\n",
      "\n",
      "Fixed effects:\n",
      "\n"
     ]
    },
    {
     "name": "stderr",
     "output_type": "stream",
     "text": []
    },
    {
     "name": "stdout",
     "output_type": "stream",
     "text": [
      "boundary (singular) fit: see ?isSingular \n",
      "\n",
      "Linear mixed model fit by maximum likelihood  ['lmerMod']\n",
      "Formula: mind_numeric~wSMI_1_mean+wSMI_1_std+wSMI_2_mean+wSMI_2_std+wSMI_4_mean+wSMI_4_std+wSMI_8_mean+wSMI_8_std+p_e_1_mean+p_e_1_std+p_e_2_mean+p_e_2_std+p_e_4_mean+p_e_4_std+p_e_8_mean+p_e_8_std+k_mean+k_std+se_mean+se_std+msf_std+sef90_std+sef95_std+b_std+b_n_std+g_std+g_n_std+t_std+t_n_std+d_mean+d_std+d_n_std+a_n_std+a_std+CNV_mean+CNV_std+P1_mean+P1_std+P3a_mean+P3a_std+P3b_mean+P3b_std+(1|participant)\n",
      "\n",
      "Family: binomial\t Inference: parametric\n",
      "\n",
      "Number of observations: 428\t Groups: {'participant': 19.0}\n",
      "\n",
      "Log-likelihood: -265.729 \t AIC: 619.458\n",
      "\n",
      "Random effects:\n",
      "\n",
      "                    Name  Var  Std\n",
      "participant  (Intercept)  0.0  0.0\n",
      "\n",
      "No random effect correlations specified\n",
      "\n",
      "Fixed effects:\n",
      "\n"
     ]
    },
    {
     "name": "stderr",
     "output_type": "stream",
     "text": []
    },
    {
     "name": "stdout",
     "output_type": "stream",
     "text": [
      "boundary (singular) fit: see ?isSingular \n",
      "\n",
      "Linear mixed model fit by maximum likelihood  ['lmerMod']\n",
      "Formula: mind_numeric~wSMI_1_mean+wSMI_1_std+wSMI_2_mean+wSMI_2_std+wSMI_4_mean+wSMI_4_std+wSMI_8_mean+wSMI_8_std+p_e_1_mean+p_e_1_std+p_e_2_mean+p_e_2_std+p_e_4_mean+p_e_4_std+p_e_8_mean+p_e_8_std+k_mean+k_std+se_mean+se_std+msf_std+sef90_std+sef95_std+b_std+b_n_std+g_std+g_n_std+t_std+t_n_std+d_mean+d_std+d_n_std+a_n_std+a_std+CNV_mean+CNV_std+P1_mean+P1_std+P3a_mean+P3a_std+P3b_mean+P3b_std+(1|participant)\n",
      "\n",
      "Family: binomial\t Inference: parametric\n",
      "\n",
      "Number of observations: 428\t Groups: {'participant': 19.0}\n",
      "\n",
      "Log-likelihood: -271.946 \t AIC: 631.893\n",
      "\n",
      "Random effects:\n",
      "\n",
      "                    Name  Var  Std\n",
      "participant  (Intercept)  0.0  0.0\n",
      "\n",
      "No random effect correlations specified\n",
      "\n",
      "Fixed effects:\n",
      "\n",
      "boundary (singular) fit: see ?isSingular \n",
      "\n",
      "Linear mixed model fit by maximum likelihood  ['lmerMod']\n",
      "Formula: mind_numeric~wSMI_1_mean+wSMI_1_std+wSMI_2_mean+wSMI_2_std+wSMI_4_mean+wSMI_4_std+wSMI_8_mean+wSMI_8_std+p_e_1_mean+p_e_1_std+p_e_2_mean+p_e_2_std+p_e_4_mean+p_e_4_std+p_e_8_mean+p_e_8_std+k_mean+k_std+se_mean+se_std+msf_std+sef90_std+sef95_std+b_std+b_n_std+g_std+g_n_std+t_std+t_n_std+d_mean+d_std+d_n_std+a_n_std+a_std+CNV_mean+CNV_std+P1_mean+P1_std+P3a_mean+P3a_std+P3b_mean+P3b_std+(1|participant)\n",
      "\n",
      "Family: binomial\t Inference: parametric\n",
      "\n",
      "Number of observations: 428\t Groups: {'participant': 19.0}\n",
      "\n",
      "Log-likelihood: -270.573 \t AIC: 629.147\n",
      "\n",
      "Random effects:\n",
      "\n",
      "                    Name  Var  Std\n",
      "participant  (Intercept)  0.0  0.0\n",
      "\n",
      "No random effect correlations specified\n",
      "\n",
      "Fixed effects:\n",
      "\n"
     ]
    },
    {
     "name": "stderr",
     "output_type": "stream",
     "text": []
    },
    {
     "name": "stdout",
     "output_type": "stream",
     "text": [
      "boundary (singular) fit: see ?isSingular \n",
      "\n",
      "Linear mixed model fit by maximum likelihood  ['lmerMod']\n",
      "Formula: mind_numeric~wSMI_1_mean+wSMI_1_std+wSMI_2_mean+wSMI_2_std+wSMI_4_mean+wSMI_4_std+wSMI_8_mean+wSMI_8_std+p_e_1_mean+p_e_1_std+p_e_2_mean+p_e_2_std+p_e_4_mean+p_e_4_std+p_e_8_mean+p_e_8_std+k_mean+k_std+se_mean+se_std+msf_std+sef90_std+sef95_std+b_std+b_n_std+g_std+g_n_std+t_std+t_n_std+d_mean+d_std+d_n_std+a_n_std+a_std+CNV_mean+CNV_std+P1_mean+P1_std+P3a_mean+P3a_std+P3b_mean+P3b_std+(1|participant)\n",
      "\n",
      "Family: binomial\t Inference: parametric\n",
      "\n",
      "Number of observations: 428\t Groups: {'participant': 19.0}\n",
      "\n",
      "Log-likelihood: -275.994 \t AIC: 639.989\n",
      "\n",
      "Random effects:\n",
      "\n",
      "                    Name  Var  Std\n",
      "participant  (Intercept)  0.0  0.0\n",
      "\n",
      "No random effect correlations specified\n",
      "\n",
      "Fixed effects:\n",
      "\n",
      "boundary (singular) fit: see ?isSingular \n",
      "\n",
      "Linear mixed model fit by maximum likelihood  ['lmerMod']\n",
      "Formula: mind_numeric~wSMI_1_mean+wSMI_1_std+wSMI_2_mean+wSMI_2_std+wSMI_4_mean+wSMI_4_std+wSMI_8_mean+wSMI_8_std+p_e_1_mean+p_e_1_std+p_e_2_mean+p_e_2_std+p_e_4_mean+p_e_4_std+p_e_8_mean+p_e_8_std+k_mean+k_std+se_mean+se_std+msf_std+sef90_std+sef95_std+b_std+b_n_std+g_std+g_n_std+t_std+t_n_std+d_mean+d_std+d_n_std+a_n_std+a_std+CNV_mean+CNV_std+P1_mean+P1_std+P3a_mean+P3a_std+P3b_mean+P3b_std+(1|participant)\n",
      "\n",
      "Family: binomial\t Inference: parametric\n",
      "\n",
      "Number of observations: 428\t Groups: {'participant': 19.0}\n",
      "\n",
      "Log-likelihood: -280.484 \t AIC: 648.968\n",
      "\n",
      "Random effects:\n",
      "\n",
      "                    Name  Var  Std\n",
      "participant  (Intercept)  0.0  0.0\n",
      "\n",
      "No random effect correlations specified\n",
      "\n",
      "Fixed effects:\n",
      "\n"
     ]
    },
    {
     "name": "stderr",
     "output_type": "stream",
     "text": []
    },
    {
     "name": "stdout",
     "output_type": "stream",
     "text": [
      "boundary (singular) fit: see ?isSingular \n",
      "\n",
      "Linear mixed model fit by maximum likelihood  ['lmerMod']\n",
      "Formula: mind_numeric~wSMI_1_mean+wSMI_1_std+wSMI_2_mean+wSMI_2_std+wSMI_4_mean+wSMI_4_std+wSMI_8_mean+wSMI_8_std+p_e_1_mean+p_e_1_std+p_e_2_mean+p_e_2_std+p_e_4_mean+p_e_4_std+p_e_8_mean+p_e_8_std+k_mean+k_std+se_mean+se_std+msf_std+sef90_std+sef95_std+b_std+b_n_std+g_std+g_n_std+t_std+t_n_std+d_mean+d_std+d_n_std+a_n_std+a_std+CNV_mean+CNV_std+P1_mean+P1_std+P3a_mean+P3a_std+P3b_mean+P3b_std+(1|participant)\n",
      "\n",
      "Family: binomial\t Inference: parametric\n",
      "\n",
      "Number of observations: 428\t Groups: {'participant': 19.0}\n",
      "\n",
      "Log-likelihood: -272.320 \t AIC: 632.641\n",
      "\n",
      "Random effects:\n",
      "\n",
      "                    Name  Var  Std\n",
      "participant  (Intercept)  0.0  0.0\n",
      "\n",
      "No random effect correlations specified\n",
      "\n",
      "Fixed effects:\n",
      "\n"
     ]
    },
    {
     "name": "stderr",
     "output_type": "stream",
     "text": []
    },
    {
     "name": "stdout",
     "output_type": "stream",
     "text": [
      "boundary (singular) fit: see ?isSingular \n",
      "\n",
      "Linear mixed model fit by maximum likelihood  ['lmerMod']\n",
      "Formula: mind_numeric~wSMI_1_mean+wSMI_1_std+wSMI_2_mean+wSMI_2_std+wSMI_4_mean+wSMI_4_std+wSMI_8_mean+wSMI_8_std+p_e_1_mean+p_e_1_std+p_e_2_mean+p_e_2_std+p_e_4_mean+p_e_4_std+p_e_8_mean+p_e_8_std+k_mean+k_std+se_mean+se_std+msf_std+sef90_std+sef95_std+b_std+b_n_std+g_std+g_n_std+t_std+t_n_std+d_mean+d_std+d_n_std+a_n_std+a_std+CNV_mean+CNV_std+P1_mean+P1_std+P3a_mean+P3a_std+P3b_mean+P3b_std+(1|participant)\n",
      "\n",
      "Family: binomial\t Inference: parametric\n",
      "\n",
      "Number of observations: 428\t Groups: {'participant': 19.0}\n",
      "\n",
      "Log-likelihood: -273.495 \t AIC: 634.990\n",
      "\n",
      "Random effects:\n",
      "\n",
      "                    Name  Var  Std\n",
      "participant  (Intercept)  0.0  0.0\n",
      "\n",
      "No random effect correlations specified\n",
      "\n",
      "Fixed effects:\n",
      "\n"
     ]
    },
    {
     "name": "stderr",
     "output_type": "stream",
     "text": []
    },
    {
     "name": "stdout",
     "output_type": "stream",
     "text": [
      "boundary (singular) fit: see ?isSingular \n",
      "\n",
      "Linear mixed model fit by maximum likelihood  ['lmerMod']\n",
      "Formula: mind_numeric~wSMI_1_mean+wSMI_1_std+wSMI_2_mean+wSMI_2_std+wSMI_4_mean+wSMI_4_std+wSMI_8_mean+wSMI_8_std+p_e_1_mean+p_e_1_std+p_e_2_mean+p_e_2_std+p_e_4_mean+p_e_4_std+p_e_8_mean+p_e_8_std+k_mean+k_std+se_mean+se_std+msf_std+sef90_std+sef95_std+b_std+b_n_std+g_std+g_n_std+t_std+t_n_std+d_mean+d_std+d_n_std+a_n_std+a_std+CNV_mean+CNV_std+P1_mean+P1_std+P3a_mean+P3a_std+P3b_mean+P3b_std+(1|participant)\n",
      "\n",
      "Family: binomial\t Inference: parametric\n",
      "\n",
      "Number of observations: 428\t Groups: {'participant': 19.0}\n",
      "\n",
      "Log-likelihood: -277.715 \t AIC: 643.429\n",
      "\n",
      "Random effects:\n",
      "\n",
      "                    Name  Var  Std\n",
      "participant  (Intercept)  0.0  0.0\n",
      "\n",
      "No random effect correlations specified\n",
      "\n",
      "Fixed effects:\n",
      "\n"
     ]
    },
    {
     "name": "stderr",
     "output_type": "stream",
     "text": []
    },
    {
     "name": "stdout",
     "output_type": "stream",
     "text": [
      "boundary (singular) fit: see ?isSingular \n",
      "\n",
      "Linear mixed model fit by maximum likelihood  ['lmerMod']\n",
      "Formula: mind_numeric~wSMI_1_mean+wSMI_1_std+wSMI_2_mean+wSMI_2_std+wSMI_4_mean+wSMI_4_std+wSMI_8_mean+wSMI_8_std+p_e_1_mean+p_e_1_std+p_e_2_mean+p_e_2_std+p_e_4_mean+p_e_4_std+p_e_8_mean+p_e_8_std+k_mean+k_std+se_mean+se_std+msf_std+sef90_std+sef95_std+b_std+b_n_std+g_std+g_n_std+t_std+t_n_std+d_mean+d_std+d_n_std+a_n_std+a_std+CNV_mean+CNV_std+P1_mean+P1_std+P3a_mean+P3a_std+P3b_mean+P3b_std+(1|participant)\n",
      "\n",
      "Family: binomial\t Inference: parametric\n",
      "\n",
      "Number of observations: 428\t Groups: {'participant': 19.0}\n",
      "\n",
      "Log-likelihood: -274.120 \t AIC: 636.240\n",
      "\n",
      "Random effects:\n",
      "\n",
      "                    Name  Var  Std\n",
      "participant  (Intercept)  0.0  0.0\n",
      "\n",
      "No random effect correlations specified\n",
      "\n",
      "Fixed effects:\n",
      "\n",
      "boundary (singular) fit: see ?isSingular \n",
      "\n",
      "Linear mixed model fit by maximum likelihood  ['lmerMod']\n",
      "Formula: mind_numeric~wSMI_1_mean+wSMI_1_std+wSMI_2_mean+wSMI_2_std+wSMI_4_mean+wSMI_4_std+wSMI_8_mean+wSMI_8_std+p_e_1_mean+p_e_1_std+p_e_2_mean+p_e_2_std+p_e_4_mean+p_e_4_std+p_e_8_mean+p_e_8_std+k_mean+k_std+se_mean+se_std+msf_std+sef90_std+sef95_std+b_std+b_n_std+g_std+g_n_std+t_std+t_n_std+d_mean+d_std+d_n_std+a_n_std+a_std+CNV_mean+CNV_std+P1_mean+P1_std+P3a_mean+P3a_std+P3b_mean+P3b_std+(1|participant)\n",
      "\n",
      "Family: binomial\t Inference: parametric\n",
      "\n",
      "Number of observations: 428\t Groups: {'participant': 19.0}\n",
      "\n",
      "Log-likelihood: -252.838 \t AIC: 593.676\n",
      "\n",
      "Random effects:\n",
      "\n",
      "                    Name  Var  Std\n",
      "participant  (Intercept)  0.0  0.0\n",
      "\n",
      "No random effect correlations specified\n",
      "\n",
      "Fixed effects:\n",
      "\n"
     ]
    },
    {
     "name": "stderr",
     "output_type": "stream",
     "text": []
    },
    {
     "name": "stdout",
     "output_type": "stream",
     "text": [
      "boundary (singular) fit: see ?isSingular \n",
      "\n",
      "Linear mixed model fit by maximum likelihood  ['lmerMod']\n",
      "Formula: mind_numeric~wSMI_1_mean+wSMI_1_std+wSMI_2_mean+wSMI_2_std+wSMI_4_mean+wSMI_4_std+wSMI_8_mean+wSMI_8_std+p_e_1_mean+p_e_1_std+p_e_2_mean+p_e_2_std+p_e_4_mean+p_e_4_std+p_e_8_mean+p_e_8_std+k_mean+k_std+se_mean+se_std+msf_std+sef90_std+sef95_std+b_std+b_n_std+g_std+g_n_std+t_std+t_n_std+d_mean+d_std+d_n_std+a_n_std+a_std+CNV_mean+CNV_std+P1_mean+P1_std+P3a_mean+P3a_std+P3b_mean+P3b_std+(1|participant)\n",
      "\n",
      "Family: binomial\t Inference: parametric\n",
      "\n",
      "Number of observations: 428\t Groups: {'participant': 19.0}\n",
      "\n",
      "Log-likelihood: -267.272 \t AIC: 622.544\n",
      "\n",
      "Random effects:\n",
      "\n",
      "                    Name  Var  Std\n",
      "participant  (Intercept)  0.0  0.0\n",
      "\n",
      "No random effect correlations specified\n",
      "\n",
      "Fixed effects:\n",
      "\n"
     ]
    },
    {
     "name": "stderr",
     "output_type": "stream",
     "text": []
    },
    {
     "name": "stdout",
     "output_type": "stream",
     "text": [
      "boundary (singular) fit: see ?isSingular \n",
      "\n",
      "Linear mixed model fit by maximum likelihood  ['lmerMod']\n",
      "Formula: mind_numeric~wSMI_1_mean+wSMI_1_std+wSMI_2_mean+wSMI_2_std+wSMI_4_mean+wSMI_4_std+wSMI_8_mean+wSMI_8_std+p_e_1_mean+p_e_1_std+p_e_2_mean+p_e_2_std+p_e_4_mean+p_e_4_std+p_e_8_mean+p_e_8_std+k_mean+k_std+se_mean+se_std+msf_std+sef90_std+sef95_std+b_std+b_n_std+g_std+g_n_std+t_std+t_n_std+d_mean+d_std+d_n_std+a_n_std+a_std+CNV_mean+CNV_std+P1_mean+P1_std+P3a_mean+P3a_std+P3b_mean+P3b_std+(1|participant)\n",
      "\n",
      "Family: binomial\t Inference: parametric\n",
      "\n",
      "Number of observations: 428\t Groups: {'participant': 19.0}\n",
      "\n",
      "Log-likelihood: -262.244 \t AIC: 612.487\n",
      "\n",
      "Random effects:\n",
      "\n",
      "                    Name  Var  Std\n",
      "participant  (Intercept)  0.0  0.0\n",
      "\n",
      "No random effect correlations specified\n",
      "\n",
      "Fixed effects:\n",
      "\n"
     ]
    },
    {
     "name": "stderr",
     "output_type": "stream",
     "text": []
    },
    {
     "name": "stdout",
     "output_type": "stream",
     "text": [
      "boundary (singular) fit: see ?isSingular \n",
      "\n",
      "Linear mixed model fit by maximum likelihood  ['lmerMod']\n",
      "Formula: mind_numeric~wSMI_1_mean+wSMI_1_std+wSMI_2_mean+wSMI_2_std+wSMI_4_mean+wSMI_4_std+wSMI_8_mean+wSMI_8_std+p_e_1_mean+p_e_1_std+p_e_2_mean+p_e_2_std+p_e_4_mean+p_e_4_std+p_e_8_mean+p_e_8_std+k_mean+k_std+se_mean+se_std+msf_std+sef90_std+sef95_std+b_std+b_n_std+g_std+g_n_std+t_std+t_n_std+d_mean+d_std+d_n_std+a_n_std+a_std+CNV_mean+CNV_std+P1_mean+P1_std+P3a_mean+P3a_std+P3b_mean+P3b_std+(1|participant)\n",
      "\n",
      "Family: binomial\t Inference: parametric\n",
      "\n",
      "Number of observations: 428\t Groups: {'participant': 19.0}\n",
      "\n",
      "Log-likelihood: -276.548 \t AIC: 641.096\n",
      "\n",
      "Random effects:\n",
      "\n",
      "                    Name  Var  Std\n",
      "participant  (Intercept)  0.0  0.0\n",
      "\n",
      "No random effect correlations specified\n",
      "\n",
      "Fixed effects:\n",
      "\n"
     ]
    },
    {
     "name": "stderr",
     "output_type": "stream",
     "text": []
    },
    {
     "name": "stdout",
     "output_type": "stream",
     "text": [
      "boundary (singular) fit: see ?isSingular \n",
      "\n",
      "Linear mixed model fit by maximum likelihood  ['lmerMod']\n",
      "Formula: mind_numeric~wSMI_1_mean+wSMI_1_std+wSMI_2_mean+wSMI_2_std+wSMI_4_mean+wSMI_4_std+wSMI_8_mean+wSMI_8_std+p_e_1_mean+p_e_1_std+p_e_2_mean+p_e_2_std+p_e_4_mean+p_e_4_std+p_e_8_mean+p_e_8_std+k_mean+k_std+se_mean+se_std+msf_std+sef90_std+sef95_std+b_std+b_n_std+g_std+g_n_std+t_std+t_n_std+d_mean+d_std+d_n_std+a_n_std+a_std+CNV_mean+CNV_std+P1_mean+P1_std+P3a_mean+P3a_std+P3b_mean+P3b_std+(1|participant)\n",
      "\n",
      "Family: binomial\t Inference: parametric\n",
      "\n",
      "Number of observations: 428\t Groups: {'participant': 19.0}\n",
      "\n",
      "Log-likelihood: -272.263 \t AIC: 632.527\n",
      "\n",
      "Random effects:\n",
      "\n",
      "                    Name  Var  Std\n",
      "participant  (Intercept)  0.0  0.0\n",
      "\n",
      "No random effect correlations specified\n",
      "\n",
      "Fixed effects:\n",
      "\n",
      "boundary (singular) fit: see ?isSingular \n",
      "\n",
      "Linear mixed model fit by maximum likelihood  ['lmerMod']\n"
     ]
    },
    {
     "name": "stderr",
     "output_type": "stream",
     "text": []
    },
    {
     "name": "stdout",
     "output_type": "stream",
     "text": [
      "Formula: mind_numeric~wSMI_1_mean+wSMI_1_std+wSMI_2_mean+wSMI_2_std+wSMI_4_mean+wSMI_4_std+wSMI_8_mean+wSMI_8_std+p_e_1_mean+p_e_1_std+p_e_2_mean+p_e_2_std+p_e_4_mean+p_e_4_std+p_e_8_mean+p_e_8_std+k_mean+k_std+se_mean+se_std+msf_std+sef90_std+sef95_std+b_std+b_n_std+g_std+g_n_std+t_std+t_n_std+d_mean+d_std+d_n_std+a_n_std+a_std+CNV_mean+CNV_std+P1_mean+P1_std+P3a_mean+P3a_std+P3b_mean+P3b_std+(1|participant)\n",
      "\n",
      "Family: binomial\t Inference: parametric\n",
      "\n",
      "Number of observations: 428\t Groups: {'participant': 19.0}\n",
      "\n",
      "Log-likelihood: -287.042 \t AIC: 662.084\n",
      "\n",
      "Random effects:\n",
      "\n",
      "                    Name  Var  Std\n",
      "participant  (Intercept)  0.0  0.0\n",
      "\n",
      "No random effect correlations specified\n",
      "\n",
      "Fixed effects:\n",
      "\n"
     ]
    },
    {
     "name": "stderr",
     "output_type": "stream",
     "text": []
    },
    {
     "name": "stdout",
     "output_type": "stream",
     "text": [
      "boundary (singular) fit: see ?isSingular \n",
      "\n",
      "Linear mixed model fit by maximum likelihood  ['lmerMod']\n",
      "Formula: mind_numeric~wSMI_1_mean+wSMI_1_std+wSMI_2_mean+wSMI_2_std+wSMI_4_mean+wSMI_4_std+wSMI_8_mean+wSMI_8_std+p_e_1_mean+p_e_1_std+p_e_2_mean+p_e_2_std+p_e_4_mean+p_e_4_std+p_e_8_mean+p_e_8_std+k_mean+k_std+se_mean+se_std+msf_std+sef90_std+sef95_std+b_std+b_n_std+g_std+g_n_std+t_std+t_n_std+d_mean+d_std+d_n_std+a_n_std+a_std+CNV_mean+CNV_std+P1_mean+P1_std+P3a_mean+P3a_std+P3b_mean+P3b_std+(1|participant)\n",
      "\n",
      "Family: binomial\t Inference: parametric\n",
      "\n",
      "Number of observations: 428\t Groups: {'participant': 19.0}\n",
      "\n",
      "Log-likelihood: -262.663 \t AIC: 613.326\n",
      "\n",
      "Random effects:\n",
      "\n",
      "                    Name  Var  Std\n",
      "participant  (Intercept)  0.0  0.0\n",
      "\n",
      "No random effect correlations specified\n",
      "\n",
      "Fixed effects:\n",
      "\n"
     ]
    },
    {
     "name": "stderr",
     "output_type": "stream",
     "text": []
    },
    {
     "name": "stdout",
     "output_type": "stream",
     "text": [
      "boundary (singular) fit: see ?isSingular \n",
      "\n",
      "Linear mixed model fit by maximum likelihood  ['lmerMod']\n",
      "Formula: mind_numeric~wSMI_1_mean+wSMI_1_std+wSMI_2_mean+wSMI_2_std+wSMI_4_mean+wSMI_4_std+wSMI_8_mean+wSMI_8_std+p_e_1_mean+p_e_1_std+p_e_2_mean+p_e_2_std+p_e_4_mean+p_e_4_std+p_e_8_mean+p_e_8_std+k_mean+k_std+se_mean+se_std+msf_std+sef90_std+sef95_std+b_std+b_n_std+g_std+g_n_std+t_std+t_n_std+d_mean+d_std+d_n_std+a_n_std+a_std+CNV_mean+CNV_std+P1_mean+P1_std+P3a_mean+P3a_std+P3b_mean+P3b_std+(1|participant)\n",
      "\n",
      "Family: binomial\t Inference: parametric\n",
      "\n",
      "Number of observations: 428\t Groups: {'participant': 19.0}\n",
      "\n",
      "Log-likelihood: -269.742 \t AIC: 627.485\n",
      "\n",
      "Random effects:\n",
      "\n",
      "                    Name  Var  Std\n",
      "participant  (Intercept)  0.0  0.0\n",
      "\n",
      "No random effect correlations specified\n",
      "\n",
      "Fixed effects:\n",
      "\n",
      "boundary (singular) fit: see ?isSingular \n",
      "\n"
     ]
    },
    {
     "name": "stderr",
     "output_type": "stream",
     "text": []
    },
    {
     "name": "stdout",
     "output_type": "stream",
     "text": [
      "Linear mixed model fit by maximum likelihood  ['lmerMod']\n",
      "Formula: mind_numeric~wSMI_1_mean+wSMI_1_std+wSMI_2_mean+wSMI_2_std+wSMI_4_mean+wSMI_4_std+wSMI_8_mean+wSMI_8_std+p_e_1_mean+p_e_1_std+p_e_2_mean+p_e_2_std+p_e_4_mean+p_e_4_std+p_e_8_mean+p_e_8_std+k_mean+k_std+se_mean+se_std+msf_std+sef90_std+sef95_std+b_std+b_n_std+g_std+g_n_std+t_std+t_n_std+d_mean+d_std+d_n_std+a_n_std+a_std+CNV_mean+CNV_std+P1_mean+P1_std+P3a_mean+P3a_std+P3b_mean+P3b_std+(1|participant)\n",
      "\n",
      "Family: binomial\t Inference: parametric\n",
      "\n",
      "Number of observations: 428\t Groups: {'participant': 19.0}\n",
      "\n",
      "Log-likelihood: -268.661 \t AIC: 625.322\n",
      "\n",
      "Random effects:\n",
      "\n",
      "                    Name  Var  Std\n",
      "participant  (Intercept)  0.0  0.0\n",
      "\n",
      "No random effect correlations specified\n",
      "\n",
      "Fixed effects:\n",
      "\n"
     ]
    },
    {
     "name": "stderr",
     "output_type": "stream",
     "text": []
    },
    {
     "name": "stdout",
     "output_type": "stream",
     "text": [
      "[1] \"failure to converge in 10000 evaluations\"\n",
      "[2] \" \\n\"                                     \n",
      "\n",
      "unable to evaluate scaled gradient \n",
      "\n",
      "Model failed to converge: degenerate  Hessian with 4 negative eigenvalues \n",
      "\n",
      "Linear mixed model fit by maximum likelihood  ['lmerMod']\n",
      "Formula: mind_numeric~wSMI_1_mean+wSMI_1_std+wSMI_2_mean+wSMI_2_std+wSMI_4_mean+wSMI_4_std+wSMI_8_mean+wSMI_8_std+p_e_1_mean+p_e_1_std+p_e_2_mean+p_e_2_std+p_e_4_mean+p_e_4_std+p_e_8_mean+p_e_8_std+k_mean+k_std+se_mean+se_std+msf_std+sef90_std+sef95_std+b_std+b_n_std+g_std+g_n_std+t_std+t_n_std+d_mean+d_std+d_n_std+a_n_std+a_std+CNV_mean+CNV_std+P1_mean+P1_std+P3a_mean+P3a_std+P3b_mean+P3b_std+(1|participant)\n",
      "\n",
      "Family: binomial\t Inference: parametric\n",
      "\n",
      "Number of observations: 428\t Groups: {'participant': 19.0}\n",
      "\n",
      "Log-likelihood: -270.495 \t AIC: 628.990\n",
      "\n",
      "Random effects:\n",
      "\n",
      "                    Name    Var    Std\n",
      "participant  (Intercept)  0.126  0.355\n",
      "\n",
      "No random effect correlations specified\n",
      "\n",
      "Fixed effects:\n",
      "\n",
      "boundary (singular) fit: see ?isSingular \n",
      "\n",
      "Linear mixed model fit by maximum likelihood  ['lmerMod']\n",
      "Formula: mind_numeric~wSMI_1_mean+wSMI_1_std+wSMI_2_mean+wSMI_2_std+wSMI_4_mean+wSMI_4_std+wSMI_8_mean+wSMI_8_std+p_e_1_mean+p_e_1_std+p_e_2_mean+p_e_2_std+p_e_4_mean+p_e_4_std+p_e_8_mean+p_e_8_std+k_mean+k_std+se_mean+se_std+msf_std+sef90_std+sef95_std+b_std+b_n_std+g_std+g_n_std+t_std+t_n_std+d_mean+d_std+d_n_std+a_n_std+a_std+CNV_mean+CNV_std+P1_mean+P1_std+P3a_mean+P3a_std+P3b_mean+P3b_std+(1|participant)\n",
      "\n",
      "Family: binomial\t Inference: parametric\n",
      "\n",
      "Number of observations: 428\t Groups: {'participant': 19.0}\n",
      "\n",
      "Log-likelihood: -278.007 \t AIC: 644.015\n",
      "\n",
      "Random effects:\n",
      "\n",
      "                    Name  Var  Std\n",
      "participant  (Intercept)  0.0  0.0\n",
      "\n",
      "No random effect correlations specified\n",
      "\n",
      "Fixed effects:\n",
      "\n"
     ]
    },
    {
     "name": "stderr",
     "output_type": "stream",
     "text": []
    },
    {
     "name": "stdout",
     "output_type": "stream",
     "text": [
      "boundary (singular) fit: see ?isSingular \n",
      "\n",
      "Linear mixed model fit by maximum likelihood  ['lmerMod']\n",
      "Formula: mind_numeric~wSMI_1_mean+wSMI_1_std+wSMI_2_mean+wSMI_2_std+wSMI_4_mean+wSMI_4_std+wSMI_8_mean+wSMI_8_std+p_e_1_mean+p_e_1_std+p_e_2_mean+p_e_2_std+p_e_4_mean+p_e_4_std+p_e_8_mean+p_e_8_std+k_mean+k_std+se_mean+se_std+msf_std+sef90_std+sef95_std+b_std+b_n_std+g_std+g_n_std+t_std+t_n_std+d_mean+d_std+d_n_std+a_n_std+a_std+CNV_mean+CNV_std+P1_mean+P1_std+P3a_mean+P3a_std+P3b_mean+P3b_std+(1|participant)\n",
      "\n",
      "Family: binomial\t Inference: parametric\n",
      "\n",
      "Number of observations: 428\t Groups: {'participant': 19.0}\n",
      "\n",
      "Log-likelihood: -273.761 \t AIC: 635.521\n",
      "\n",
      "Random effects:\n",
      "\n",
      "                    Name  Var  Std\n",
      "participant  (Intercept)  0.0  0.0\n",
      "\n",
      "No random effect correlations specified\n",
      "\n",
      "Fixed effects:\n",
      "\n"
     ]
    },
    {
     "name": "stderr",
     "output_type": "stream",
     "text": []
    },
    {
     "name": "stdout",
     "output_type": "stream",
     "text": [
      "boundary (singular) fit: see ?isSingular \n",
      "\n",
      "Linear mixed model fit by maximum likelihood  ['lmerMod']\n",
      "Formula: mind_numeric~wSMI_1_mean+wSMI_1_std+wSMI_2_mean+wSMI_2_std+wSMI_4_mean+wSMI_4_std+wSMI_8_mean+wSMI_8_std+p_e_1_mean+p_e_1_std+p_e_2_mean+p_e_2_std+p_e_4_mean+p_e_4_std+p_e_8_mean+p_e_8_std+k_mean+k_std+se_mean+se_std+msf_std+sef90_std+sef95_std+b_std+b_n_std+g_std+g_n_std+t_std+t_n_std+d_mean+d_std+d_n_std+a_n_std+a_std+CNV_mean+CNV_std+P1_mean+P1_std+P3a_mean+P3a_std+P3b_mean+P3b_std+(1|participant)\n",
      "\n",
      "Family: binomial\t Inference: parametric\n",
      "\n",
      "Number of observations: 428\t Groups: {'participant': 19.0}\n",
      "\n",
      "Log-likelihood: -269.954 \t AIC: 627.907\n",
      "\n",
      "Random effects:\n",
      "\n",
      "                    Name  Var  Std\n",
      "participant  (Intercept)  0.0  0.0\n",
      "\n",
      "No random effect correlations specified\n",
      "\n",
      "Fixed effects:\n",
      "\n",
      "[1] \"failure to converge in 10000 evaluations\"\n",
      "[2] \" \\n\"                                     \n",
      "\n",
      "unable to evaluate scaled gradient \n",
      "\n",
      "Model failed to converge: degenerate  Hessian with 5 negative eigenvalues \n",
      "\n",
      "Linear mixed model fit by maximum likelihood  ['lmerMod']\n",
      "Formula: mind_numeric~wSMI_1_mean+wSMI_1_std+wSMI_2_mean+wSMI_2_std+wSMI_4_mean+wSMI_4_std+wSMI_8_mean+wSMI_8_std+p_e_1_mean+p_e_1_std+p_e_2_mean+p_e_2_std+p_e_4_mean+p_e_4_std+p_e_8_mean+p_e_8_std+k_mean+k_std+se_mean+se_std+msf_std+sef90_std+sef95_std+b_std+b_n_std+g_std+g_n_std+t_std+t_n_std+d_mean+d_std+d_n_std+a_n_std+a_std+CNV_mean+CNV_std+P1_mean+P1_std+P3a_mean+P3a_std+P3b_mean+P3b_std+(1|participant)\n",
      "\n",
      "Family: binomial\t Inference: parametric\n",
      "\n",
      "Number of observations: 428\t Groups: {'participant': 19.0}\n",
      "\n",
      "Log-likelihood: -274.687 \t AIC: 637.374\n",
      "\n",
      "Random effects:\n",
      "\n",
      "                    Name    Var   Std\n",
      "participant  (Intercept)  0.032  0.18\n",
      "\n",
      "No random effect correlations specified\n",
      "\n",
      "Fixed effects:\n",
      "\n"
     ]
    },
    {
     "name": "stderr",
     "output_type": "stream",
     "text": [
      "\n",
      "Permutation Test:  49%|████▉     | 49/100 [12:52<13:57, 16.42s/it]"
     ]
    },
    {
     "name": "stdout",
     "output_type": "stream",
     "text": [
      "boundary (singular) fit: see ?isSingular \n",
      "\n",
      "Linear mixed model fit by maximum likelihood  ['lmerMod']\n",
      "Formula: mind_numeric~wSMI_1_mean+wSMI_1_std+wSMI_2_mean+wSMI_2_std+wSMI_4_mean+wSMI_4_std+wSMI_8_mean+wSMI_8_std+p_e_1_mean+p_e_1_std+p_e_2_mean+p_e_2_std+p_e_4_mean+p_e_4_std+p_e_8_mean+p_e_8_std+k_mean+k_std+se_mean+se_std+msf_std+sef90_std+sef95_std+b_std+b_n_std+g_std+g_n_std+t_std+t_n_std+d_mean+d_std+d_n_std+a_n_std+a_std+CNV_mean+CNV_std+P1_mean+P1_std+P3a_mean+P3a_std+P3b_mean+P3b_std+(1|participant)\n",
      "\n",
      "Family: binomial\t Inference: parametric\n",
      "\n",
      "Number of observations: 428\t Groups: {'participant': 19.0}\n",
      "\n",
      "Log-likelihood: -275.513 \t AIC: 639.026\n",
      "\n",
      "Random effects:\n",
      "\n",
      "                    Name  Var  Std\n",
      "participant  (Intercept)  0.0  0.0\n",
      "\n",
      "No random effect correlations specified\n",
      "\n",
      "Fixed effects:\n",
      "\n"
     ]
    },
    {
     "name": "stderr",
     "output_type": "stream",
     "text": [
      "\u001b[A"
     ]
    },
    {
     "name": "stdout",
     "output_type": "stream",
     "text": [
      "boundary (singular) fit: see ?isSingular \n",
      "\n",
      "Linear mixed model fit by maximum likelihood  ['lmerMod']\n",
      "Formula: mind_numeric~wSMI_1_mean+wSMI_1_std+wSMI_2_mean+wSMI_2_std+wSMI_4_mean+wSMI_4_std+wSMI_8_mean+wSMI_8_std+p_e_1_mean+p_e_1_std+p_e_2_mean+p_e_2_std+p_e_4_mean+p_e_4_std+p_e_8_mean+p_e_8_std+k_mean+k_std+se_mean+se_std+msf_std+sef90_std+sef95_std+b_std+b_n_std+g_std+g_n_std+t_std+t_n_std+d_mean+d_std+d_n_std+a_n_std+a_std+CNV_mean+CNV_std+P1_mean+P1_std+P3a_mean+P3a_std+P3b_mean+P3b_std+(1|participant)\n",
      "\n",
      "Family: binomial\t Inference: parametric\n",
      "\n",
      "Number of observations: 428\t Groups: {'participant': 19.0}\n",
      "\n",
      "Log-likelihood: -270.889 \t AIC: 629.778\n",
      "\n",
      "Random effects:\n",
      "\n",
      "                    Name  Var  Std\n",
      "participant  (Intercept)  0.0  0.0\n",
      "\n",
      "No random effect correlations specified\n",
      "\n",
      "Fixed effects:\n",
      "\n"
     ]
    },
    {
     "name": "stderr",
     "output_type": "stream",
     "text": []
    },
    {
     "name": "stdout",
     "output_type": "stream",
     "text": [
      "boundary (singular) fit: see ?isSingular \n",
      "\n",
      "Linear mixed model fit by maximum likelihood  ['lmerMod']\n",
      "Formula: mind_numeric~wSMI_1_mean+wSMI_1_std+wSMI_2_mean+wSMI_2_std+wSMI_4_mean+wSMI_4_std+wSMI_8_mean+wSMI_8_std+p_e_1_mean+p_e_1_std+p_e_2_mean+p_e_2_std+p_e_4_mean+p_e_4_std+p_e_8_mean+p_e_8_std+k_mean+k_std+se_mean+se_std+msf_std+sef90_std+sef95_std+b_std+b_n_std+g_std+g_n_std+t_std+t_n_std+d_mean+d_std+d_n_std+a_n_std+a_std+CNV_mean+CNV_std+P1_mean+P1_std+P3a_mean+P3a_std+P3b_mean+P3b_std+(1|participant)\n",
      "\n",
      "Family: binomial\t Inference: parametric\n",
      "\n",
      "Number of observations: 428\t Groups: {'participant': 19.0}\n",
      "\n",
      "Log-likelihood: -276.214 \t AIC: 640.428\n",
      "\n",
      "Random effects:\n",
      "\n",
      "                    Name  Var  Std\n",
      "participant  (Intercept)  0.0  0.0\n",
      "\n",
      "No random effect correlations specified\n",
      "\n",
      "Fixed effects:\n",
      "\n",
      "boundary (singular) fit: see ?isSingular \n",
      "\n",
      "Linear mixed model fit by maximum likelihood  ['lmerMod']\n",
      "Formula: mind_numeric~wSMI_1_mean+wSMI_1_std+wSMI_2_mean+wSMI_2_std+wSMI_4_mean+wSMI_4_std+wSMI_8_mean+wSMI_8_std+p_e_1_mean+p_e_1_std+p_e_2_mean+p_e_2_std+p_e_4_mean+p_e_4_std+p_e_8_mean+p_e_8_std+k_mean+k_std+se_mean+se_std+msf_std+sef90_std+sef95_std+b_std+b_n_std+g_std+g_n_std+t_std+t_n_std+d_mean+d_std+d_n_std+a_n_std+a_std+CNV_mean+CNV_std+P1_mean+P1_std+P3a_mean+P3a_std+P3b_mean+P3b_std+(1|participant)\n",
      "\n",
      "Family: binomial\t Inference: parametric\n",
      "\n",
      "Number of observations: 428\t Groups: {'participant': 19.0}\n",
      "\n",
      "Log-likelihood: -274.585 \t AIC: 637.171\n",
      "\n",
      "Random effects:\n",
      "\n",
      "                    Name  Var  Std\n",
      "participant  (Intercept)  0.0  0.0\n",
      "\n",
      "No random effect correlations specified\n",
      "\n",
      "Fixed effects:\n",
      "\n"
     ]
    },
    {
     "name": "stderr",
     "output_type": "stream",
     "text": []
    },
    {
     "name": "stdout",
     "output_type": "stream",
     "text": [
      "[1] \"failure to converge in 10000 evaluations\"\n",
      "[2] \" \\n\"                                     \n",
      "\n",
      "unable to evaluate scaled gradient \n",
      "\n",
      "Model failed to converge: degenerate  Hessian with 3 negative eigenvalues \n",
      "\n",
      "Linear mixed model fit by maximum likelihood  ['lmerMod']\n",
      "Formula: mind_numeric~wSMI_1_mean+wSMI_1_std+wSMI_2_mean+wSMI_2_std+wSMI_4_mean+wSMI_4_std+wSMI_8_mean+wSMI_8_std+p_e_1_mean+p_e_1_std+p_e_2_mean+p_e_2_std+p_e_4_mean+p_e_4_std+p_e_8_mean+p_e_8_std+k_mean+k_std+se_mean+se_std+msf_std+sef90_std+sef95_std+b_std+b_n_std+g_std+g_n_std+t_std+t_n_std+d_mean+d_std+d_n_std+a_n_std+a_std+CNV_mean+CNV_std+P1_mean+P1_std+P3a_mean+P3a_std+P3b_mean+P3b_std+(1|participant)\n",
      "\n",
      "Family: binomial\t Inference: parametric\n",
      "\n",
      "Number of observations: 428\t Groups: {'participant': 19.0}\n",
      "\n",
      "Log-likelihood: -272.603 \t AIC: 633.207\n",
      "\n",
      "Random effects:\n",
      "\n",
      "                    Name    Var    Std\n",
      "participant  (Intercept)  0.055  0.234\n",
      "\n",
      "No random effect correlations specified\n",
      "\n",
      "Fixed effects:\n",
      "\n"
     ]
    },
    {
     "name": "stderr",
     "output_type": "stream",
     "text": []
    },
    {
     "name": "stdout",
     "output_type": "stream",
     "text": [
      "boundary (singular) fit: see ?isSingular \n",
      "\n",
      "Linear mixed model fit by maximum likelihood  ['lmerMod']\n",
      "Formula: mind_numeric~wSMI_1_mean+wSMI_1_std+wSMI_2_mean+wSMI_2_std+wSMI_4_mean+wSMI_4_std+wSMI_8_mean+wSMI_8_std+p_e_1_mean+p_e_1_std+p_e_2_mean+p_e_2_std+p_e_4_mean+p_e_4_std+p_e_8_mean+p_e_8_std+k_mean+k_std+se_mean+se_std+msf_std+sef90_std+sef95_std+b_std+b_n_std+g_std+g_n_std+t_std+t_n_std+d_mean+d_std+d_n_std+a_n_std+a_std+CNV_mean+CNV_std+P1_mean+P1_std+P3a_mean+P3a_std+P3b_mean+P3b_std+(1|participant)\n",
      "\n",
      "Family: binomial\t Inference: parametric\n",
      "\n",
      "Number of observations: 428\t Groups: {'participant': 19.0}\n",
      "\n",
      "Log-likelihood: -278.023 \t AIC: 644.047\n",
      "\n",
      "Random effects:\n",
      "\n",
      "                    Name  Var  Std\n",
      "participant  (Intercept)  0.0  0.0\n",
      "\n",
      "No random effect correlations specified\n",
      "\n",
      "Fixed effects:\n",
      "\n",
      "boundary (singular) fit: see ?isSingular \n",
      "\n",
      "Linear mixed model fit by maximum likelihood  ['lmerMod']\n",
      "Formula: mind_numeric~wSMI_1_mean+wSMI_1_std+wSMI_2_mean+wSMI_2_std+wSMI_4_mean+wSMI_4_std+wSMI_8_mean+wSMI_8_std+p_e_1_mean+p_e_1_std+p_e_2_mean+p_e_2_std+p_e_4_mean+p_e_4_std+p_e_8_mean+p_e_8_std+k_mean+k_std+se_mean+se_std+msf_std+sef90_std+sef95_std+b_std+b_n_std+g_std+g_n_std+t_std+t_n_std+d_mean+d_std+d_n_std+a_n_std+a_std+CNV_mean+CNV_std+P1_mean+P1_std+P3a_mean+P3a_std+P3b_mean+P3b_std+(1|participant)\n",
      "\n",
      "Family: binomial\t Inference: parametric\n",
      "\n",
      "Number of observations: 428\t Groups: {'participant': 19.0}\n",
      "\n",
      "Log-likelihood: -277.993 \t AIC: 643.987\n",
      "\n",
      "Random effects:\n",
      "\n",
      "                    Name  Var  Std\n",
      "participant  (Intercept)  0.0  0.0\n",
      "\n",
      "No random effect correlations specified\n",
      "\n",
      "Fixed effects:\n",
      "\n"
     ]
    },
    {
     "name": "stderr",
     "output_type": "stream",
     "text": []
    },
    {
     "name": "stdout",
     "output_type": "stream",
     "text": [
      "boundary (singular) fit: see ?isSingular \n",
      "\n",
      "Linear mixed model fit by maximum likelihood  ['lmerMod']\n",
      "Formula: mind_numeric~wSMI_1_mean+wSMI_1_std+wSMI_2_mean+wSMI_2_std+wSMI_4_mean+wSMI_4_std+wSMI_8_mean+wSMI_8_std+p_e_1_mean+p_e_1_std+p_e_2_mean+p_e_2_std+p_e_4_mean+p_e_4_std+p_e_8_mean+p_e_8_std+k_mean+k_std+se_mean+se_std+msf_std+sef90_std+sef95_std+b_std+b_n_std+g_std+g_n_std+t_std+t_n_std+d_mean+d_std+d_n_std+a_n_std+a_std+CNV_mean+CNV_std+P1_mean+P1_std+P3a_mean+P3a_std+P3b_mean+P3b_std+(1|participant)\n",
      "\n",
      "Family: binomial\t Inference: parametric\n",
      "\n",
      "Number of observations: 428\t Groups: {'participant': 19.0}\n",
      "\n",
      "Log-likelihood: -271.341 \t AIC: 630.681\n",
      "\n",
      "Random effects:\n",
      "\n",
      "                    Name  Var  Std\n",
      "participant  (Intercept)  0.0  0.0\n",
      "\n",
      "No random effect correlations specified\n",
      "\n",
      "Fixed effects:\n",
      "\n"
     ]
    },
    {
     "name": "stderr",
     "output_type": "stream",
     "text": []
    },
    {
     "name": "stdout",
     "output_type": "stream",
     "text": [
      "boundary (singular) fit: see ?isSingular \n",
      "\n",
      "Linear mixed model fit by maximum likelihood  ['lmerMod']\n",
      "Formula: mind_numeric~wSMI_1_mean+wSMI_1_std+wSMI_2_mean+wSMI_2_std+wSMI_4_mean+wSMI_4_std+wSMI_8_mean+wSMI_8_std+p_e_1_mean+p_e_1_std+p_e_2_mean+p_e_2_std+p_e_4_mean+p_e_4_std+p_e_8_mean+p_e_8_std+k_mean+k_std+se_mean+se_std+msf_std+sef90_std+sef95_std+b_std+b_n_std+g_std+g_n_std+t_std+t_n_std+d_mean+d_std+d_n_std+a_n_std+a_std+CNV_mean+CNV_std+P1_mean+P1_std+P3a_mean+P3a_std+P3b_mean+P3b_std+(1|participant)\n",
      "\n",
      "Family: binomial\t Inference: parametric\n",
      "\n",
      "Number of observations: 428\t Groups: {'participant': 19.0}\n",
      "\n",
      "Log-likelihood: -271.429 \t AIC: 630.858\n",
      "\n",
      "Random effects:\n",
      "\n",
      "                    Name  Var  Std\n",
      "participant  (Intercept)  0.0  0.0\n",
      "\n",
      "No random effect correlations specified\n",
      "\n",
      "Fixed effects:\n",
      "\n",
      "boundary (singular) fit: see ?isSingular \n",
      "\n",
      "Linear mixed model fit by maximum likelihood  ['lmerMod']\n",
      "Formula: mind_numeric~wSMI_1_mean+wSMI_1_std+wSMI_2_mean+wSMI_2_std+wSMI_4_mean+wSMI_4_std+wSMI_8_mean+wSMI_8_std+p_e_1_mean+p_e_1_std+p_e_2_mean+p_e_2_std+p_e_4_mean+p_e_4_std+p_e_8_mean+p_e_8_std+k_mean+k_std+se_mean+se_std+msf_std+sef90_std+sef95_std+b_std+b_n_std+g_std+g_n_std+t_std+t_n_std+d_mean+d_std+d_n_std+a_n_std+a_std+CNV_mean+CNV_std+P1_mean+P1_std+P3a_mean+P3a_std+P3b_mean+P3b_std+(1|participant)\n",
      "\n",
      "Family: binomial\t Inference: parametric\n",
      "\n",
      "Number of observations: 428\t Groups: {'participant': 19.0}\n",
      "\n",
      "Log-likelihood: -278.031 \t AIC: 644.063\n",
      "\n",
      "Random effects:\n",
      "\n",
      "                    Name  Var  Std\n",
      "participant  (Intercept)  0.0  0.0\n",
      "\n",
      "No random effect correlations specified\n",
      "\n",
      "Fixed effects:\n",
      "\n"
     ]
    },
    {
     "name": "stderr",
     "output_type": "stream",
     "text": []
    },
    {
     "name": "stdout",
     "output_type": "stream",
     "text": [
      "boundary (singular) fit: see ?isSingular \n",
      "\n",
      "Linear mixed model fit by maximum likelihood  ['lmerMod']\n",
      "Formula: mind_numeric~wSMI_1_mean+wSMI_1_std+wSMI_2_mean+wSMI_2_std+wSMI_4_mean+wSMI_4_std+wSMI_8_mean+wSMI_8_std+p_e_1_mean+p_e_1_std+p_e_2_mean+p_e_2_std+p_e_4_mean+p_e_4_std+p_e_8_mean+p_e_8_std+k_mean+k_std+se_mean+se_std+msf_std+sef90_std+sef95_std+b_std+b_n_std+g_std+g_n_std+t_std+t_n_std+d_mean+d_std+d_n_std+a_n_std+a_std+CNV_mean+CNV_std+P1_mean+P1_std+P3a_mean+P3a_std+P3b_mean+P3b_std+(1|participant)\n",
      "\n",
      "Family: binomial\t Inference: parametric\n",
      "\n",
      "Number of observations: 428\t Groups: {'participant': 19.0}\n",
      "\n",
      "Log-likelihood: -265.817 \t AIC: 619.634\n",
      "\n",
      "Random effects:\n",
      "\n",
      "                    Name  Var  Std\n",
      "participant  (Intercept)  0.0  0.0\n",
      "\n",
      "No random effect correlations specified\n",
      "\n",
      "Fixed effects:\n",
      "\n"
     ]
    },
    {
     "name": "stderr",
     "output_type": "stream",
     "text": []
    },
    {
     "name": "stdout",
     "output_type": "stream",
     "text": [
      "boundary (singular) fit: see ?isSingular \n",
      "\n",
      "Linear mixed model fit by maximum likelihood  ['lmerMod']\n",
      "Formula: mind_numeric~wSMI_1_mean+wSMI_1_std+wSMI_2_mean+wSMI_2_std+wSMI_4_mean+wSMI_4_std+wSMI_8_mean+wSMI_8_std+p_e_1_mean+p_e_1_std+p_e_2_mean+p_e_2_std+p_e_4_mean+p_e_4_std+p_e_8_mean+p_e_8_std+k_mean+k_std+se_mean+se_std+msf_std+sef90_std+sef95_std+b_std+b_n_std+g_std+g_n_std+t_std+t_n_std+d_mean+d_std+d_n_std+a_n_std+a_std+CNV_mean+CNV_std+P1_mean+P1_std+P3a_mean+P3a_std+P3b_mean+P3b_std+(1|participant)\n",
      "\n",
      "Family: binomial\t Inference: parametric\n",
      "\n",
      "Number of observations: 428\t Groups: {'participant': 19.0}\n",
      "\n",
      "Log-likelihood: -271.414 \t AIC: 630.828\n",
      "\n",
      "Random effects:\n",
      "\n",
      "                    Name  Var  Std\n",
      "participant  (Intercept)  0.0  0.0\n",
      "\n",
      "No random effect correlations specified\n",
      "\n",
      "Fixed effects:\n",
      "\n"
     ]
    },
    {
     "name": "stderr",
     "output_type": "stream",
     "text": []
    },
    {
     "name": "stdout",
     "output_type": "stream",
     "text": [
      "boundary (singular) fit: see ?isSingular \n",
      "\n",
      "Linear mixed model fit by maximum likelihood  ['lmerMod']\n",
      "Formula: mind_numeric~wSMI_1_mean+wSMI_1_std+wSMI_2_mean+wSMI_2_std+wSMI_4_mean+wSMI_4_std+wSMI_8_mean+wSMI_8_std+p_e_1_mean+p_e_1_std+p_e_2_mean+p_e_2_std+p_e_4_mean+p_e_4_std+p_e_8_mean+p_e_8_std+k_mean+k_std+se_mean+se_std+msf_std+sef90_std+sef95_std+b_std+b_n_std+g_std+g_n_std+t_std+t_n_std+d_mean+d_std+d_n_std+a_n_std+a_std+CNV_mean+CNV_std+P1_mean+P1_std+P3a_mean+P3a_std+P3b_mean+P3b_std+(1|participant)\n",
      "\n",
      "Family: binomial\t Inference: parametric\n",
      "\n",
      "Number of observations: 428\t Groups: {'participant': 19.0}\n",
      "\n",
      "Log-likelihood: -277.951 \t AIC: 643.901\n",
      "\n",
      "Random effects:\n",
      "\n",
      "                    Name  Var  Std\n",
      "participant  (Intercept)  0.0  0.0\n",
      "\n",
      "No random effect correlations specified\n",
      "\n",
      "Fixed effects:\n",
      "\n"
     ]
    },
    {
     "name": "stderr",
     "output_type": "stream",
     "text": []
    },
    {
     "name": "stdout",
     "output_type": "stream",
     "text": [
      "boundary (singular) fit: see ?isSingular \n",
      "\n",
      "Linear mixed model fit by maximum likelihood  ['lmerMod']\n",
      "Formula: mind_numeric~wSMI_1_mean+wSMI_1_std+wSMI_2_mean+wSMI_2_std+wSMI_4_mean+wSMI_4_std+wSMI_8_mean+wSMI_8_std+p_e_1_mean+p_e_1_std+p_e_2_mean+p_e_2_std+p_e_4_mean+p_e_4_std+p_e_8_mean+p_e_8_std+k_mean+k_std+se_mean+se_std+msf_std+sef90_std+sef95_std+b_std+b_n_std+g_std+g_n_std+t_std+t_n_std+d_mean+d_std+d_n_std+a_n_std+a_std+CNV_mean+CNV_std+P1_mean+P1_std+P3a_mean+P3a_std+P3b_mean+P3b_std+(1|participant)\n",
      "\n",
      "Family: binomial\t Inference: parametric\n",
      "\n",
      "Number of observations: 428\t Groups: {'participant': 19.0}\n",
      "\n",
      "Log-likelihood: -265.445 \t AIC: 618.889\n",
      "\n",
      "Random effects:\n",
      "\n",
      "                    Name  Var  Std\n",
      "participant  (Intercept)  0.0  0.0\n",
      "\n",
      "No random effect correlations specified\n",
      "\n",
      "Fixed effects:\n",
      "\n",
      "boundary (singular) fit: see ?isSingular \n",
      "\n",
      "Linear mixed model fit by maximum likelihood  ['lmerMod']\n",
      "Formula: mind_numeric~wSMI_1_mean+wSMI_1_std+wSMI_2_mean+wSMI_2_std+wSMI_4_mean+wSMI_4_std+wSMI_8_mean+wSMI_8_std+p_e_1_mean+p_e_1_std+p_e_2_mean+p_e_2_std+p_e_4_mean+p_e_4_std+p_e_8_mean+p_e_8_std+k_mean+k_std+se_mean+se_std+msf_std+sef90_std+sef95_std+b_std+b_n_std+g_std+g_n_std+t_std+t_n_std+d_mean+d_std+d_n_std+a_n_std+a_std+CNV_mean+CNV_std+P1_mean+P1_std+P3a_mean+P3a_std+P3b_mean+P3b_std+(1|participant)\n",
      "\n",
      "Family: binomial\t Inference: parametric\n",
      "\n",
      "Number of observations: 428\t Groups: {'participant': 19.0}\n",
      "\n",
      "Log-likelihood: -272.356 \t AIC: 632.712\n",
      "\n",
      "Random effects:\n",
      "\n",
      "                    Name  Var  Std\n",
      "participant  (Intercept)  0.0  0.0\n"
     ]
    },
    {
     "name": "stderr",
     "output_type": "stream",
     "text": []
    },
    {
     "name": "stdout",
     "output_type": "stream",
     "text": [
      "\n",
      "No random effect correlations specified\n",
      "\n",
      "Fixed effects:\n",
      "\n"
     ]
    },
    {
     "name": "stderr",
     "output_type": "stream",
     "text": []
    },
    {
     "name": "stdout",
     "output_type": "stream",
     "text": [
      "boundary (singular) fit: see ?isSingular \n",
      "\n",
      "Linear mixed model fit by maximum likelihood  ['lmerMod']\n",
      "Formula: mind_numeric~wSMI_1_mean+wSMI_1_std+wSMI_2_mean+wSMI_2_std+wSMI_4_mean+wSMI_4_std+wSMI_8_mean+wSMI_8_std+p_e_1_mean+p_e_1_std+p_e_2_mean+p_e_2_std+p_e_4_mean+p_e_4_std+p_e_8_mean+p_e_8_std+k_mean+k_std+se_mean+se_std+msf_std+sef90_std+sef95_std+b_std+b_n_std+g_std+g_n_std+t_std+t_n_std+d_mean+d_std+d_n_std+a_n_std+a_std+CNV_mean+CNV_std+P1_mean+P1_std+P3a_mean+P3a_std+P3b_mean+P3b_std+(1|participant)\n",
      "\n",
      "Family: binomial\t Inference: parametric\n",
      "\n",
      "Number of observations: 428\t Groups: {'participant': 19.0}\n",
      "\n",
      "Log-likelihood: -268.847 \t AIC: 625.694\n",
      "\n",
      "Random effects:\n",
      "\n",
      "                    Name  Var  Std\n",
      "participant  (Intercept)  0.0  0.0\n",
      "\n",
      "No random effect correlations specified\n",
      "\n",
      "Fixed effects:\n",
      "\n"
     ]
    },
    {
     "name": "stderr",
     "output_type": "stream",
     "text": []
    },
    {
     "name": "stdout",
     "output_type": "stream",
     "text": [
      "boundary (singular) fit: see ?isSingular \n",
      "\n",
      "Linear mixed model fit by maximum likelihood  ['lmerMod']\n",
      "Formula: mind_numeric~wSMI_1_mean+wSMI_1_std+wSMI_2_mean+wSMI_2_std+wSMI_4_mean+wSMI_4_std+wSMI_8_mean+wSMI_8_std+p_e_1_mean+p_e_1_std+p_e_2_mean+p_e_2_std+p_e_4_mean+p_e_4_std+p_e_8_mean+p_e_8_std+k_mean+k_std+se_mean+se_std+msf_std+sef90_std+sef95_std+b_std+b_n_std+g_std+g_n_std+t_std+t_n_std+d_mean+d_std+d_n_std+a_n_std+a_std+CNV_mean+CNV_std+P1_mean+P1_std+P3a_mean+P3a_std+P3b_mean+P3b_std+(1|participant)\n",
      "\n",
      "Family: binomial\t Inference: parametric\n",
      "\n",
      "Number of observations: 428\t Groups: {'participant': 19.0}\n",
      "\n",
      "Log-likelihood: -274.186 \t AIC: 636.373\n",
      "\n",
      "Random effects:\n",
      "\n",
      "                    Name  Var  Std\n",
      "participant  (Intercept)  0.0  0.0\n",
      "\n",
      "No random effect correlations specified\n",
      "\n",
      "Fixed effects:\n",
      "\n"
     ]
    },
    {
     "name": "stderr",
     "output_type": "stream",
     "text": []
    },
    {
     "name": "stdout",
     "output_type": "stream",
     "text": [
      "boundary (singular) fit: see ?isSingular \n",
      "\n",
      "Linear mixed model fit by maximum likelihood  ['lmerMod']\n",
      "Formula: mind_numeric~wSMI_1_mean+wSMI_1_std+wSMI_2_mean+wSMI_2_std+wSMI_4_mean+wSMI_4_std+wSMI_8_mean+wSMI_8_std+p_e_1_mean+p_e_1_std+p_e_2_mean+p_e_2_std+p_e_4_mean+p_e_4_std+p_e_8_mean+p_e_8_std+k_mean+k_std+se_mean+se_std+msf_std+sef90_std+sef95_std+b_std+b_n_std+g_std+g_n_std+t_std+t_n_std+d_mean+d_std+d_n_std+a_n_std+a_std+CNV_mean+CNV_std+P1_mean+P1_std+P3a_mean+P3a_std+P3b_mean+P3b_std+(1|participant)\n",
      "\n",
      "Family: binomial\t Inference: parametric\n",
      "\n",
      "Number of observations: 428\t Groups: {'participant': 19.0}\n",
      "\n",
      "Log-likelihood: -276.211 \t AIC: 640.423\n",
      "\n",
      "Random effects:\n",
      "\n",
      "                    Name  Var  Std\n",
      "participant  (Intercept)  0.0  0.0\n",
      "\n",
      "No random effect correlations specified\n",
      "\n",
      "Fixed effects:\n",
      "\n",
      "boundary (singular) fit: see ?isSingular \n",
      "\n",
      "Linear mixed model fit by maximum likelihood  ['lmerMod']\n",
      "Formula: mind_numeric~wSMI_1_mean+wSMI_1_std+wSMI_2_mean+wSMI_2_std+wSMI_4_mean+wSMI_4_std+wSMI_8_mean+wSMI_8_std+p_e_1_mean+p_e_1_std+p_e_2_mean+p_e_2_std+p_e_4_mean+p_e_4_std+p_e_8_mean+p_e_8_std+k_mean+k_std+se_mean+se_std+msf_std+sef90_std+sef95_std+b_std+b_n_std+g_std+g_n_std+t_std+t_n_std+d_mean+d_std+d_n_std+a_n_std+a_std+CNV_mean+CNV_std+P1_mean+P1_std+P3a_mean+P3a_std+P3b_mean+P3b_std+(1|participant)\n",
      "\n",
      "Family: binomial\t Inference: parametric\n",
      "\n",
      "Number of observations: 428\t Groups: {'participant': 19.0}\n",
      "\n",
      "Log-likelihood: -268.405 \t AIC: 624.809\n",
      "\n",
      "Random effects:\n",
      "\n",
      "                    Name  Var  Std\n",
      "participant  (Intercept)  0.0  0.0\n",
      "\n",
      "No random effect correlations specified\n",
      "\n",
      "Fixed effects:\n",
      "\n"
     ]
    },
    {
     "name": "stderr",
     "output_type": "stream",
     "text": [
      "\n",
      "Permutation Test:  68%|██████▊   | 68/100 [17:32<06:26, 12.08s/it]"
     ]
    },
    {
     "name": "stdout",
     "output_type": "stream",
     "text": [
      "boundary (singular) fit: see ?isSingular \n",
      "\n",
      "Linear mixed model fit by maximum likelihood  ['lmerMod']\n",
      "Formula: mind_numeric~wSMI_1_mean+wSMI_1_std+wSMI_2_mean+wSMI_2_std+wSMI_4_mean+wSMI_4_std+wSMI_8_mean+wSMI_8_std+p_e_1_mean+p_e_1_std+p_e_2_mean+p_e_2_std+p_e_4_mean+p_e_4_std+p_e_8_mean+p_e_8_std+k_mean+k_std+se_mean+se_std+msf_std+sef90_std+sef95_std+b_std+b_n_std+g_std+g_n_std+t_std+t_n_std+d_mean+d_std+d_n_std+a_n_std+a_std+CNV_mean+CNV_std+P1_mean+P1_std+P3a_mean+P3a_std+P3b_mean+P3b_std+(1|participant)\n",
      "\n",
      "Family: binomial\t Inference: parametric\n",
      "\n",
      "Number of observations: 428\t Groups: {'participant': 19.0}\n",
      "\n",
      "Log-likelihood: -272.572 \t AIC: 633.144\n",
      "\n",
      "Random effects:\n",
      "\n",
      "                    Name  Var  Std\n",
      "participant  (Intercept)  0.0  0.0\n",
      "\n",
      "No random effect correlations specified\n",
      "\n",
      "Fixed effects:\n",
      "\n"
     ]
    },
    {
     "name": "stderr",
     "output_type": "stream",
     "text": [
      "\u001b[A"
     ]
    },
    {
     "name": "stdout",
     "output_type": "stream",
     "text": [
      "boundary (singular) fit: see ?isSingular \n",
      "\n",
      "Linear mixed model fit by maximum likelihood  ['lmerMod']\n",
      "Formula: mind_numeric~wSMI_1_mean+wSMI_1_std+wSMI_2_mean+wSMI_2_std+wSMI_4_mean+wSMI_4_std+wSMI_8_mean+wSMI_8_std+p_e_1_mean+p_e_1_std+p_e_2_mean+p_e_2_std+p_e_4_mean+p_e_4_std+p_e_8_mean+p_e_8_std+k_mean+k_std+se_mean+se_std+msf_std+sef90_std+sef95_std+b_std+b_n_std+g_std+g_n_std+t_std+t_n_std+d_mean+d_std+d_n_std+a_n_std+a_std+CNV_mean+CNV_std+P1_mean+P1_std+P3a_mean+P3a_std+P3b_mean+P3b_std+(1|participant)\n",
      "\n",
      "Family: binomial\t Inference: parametric\n",
      "\n",
      "Number of observations: 428\t Groups: {'participant': 19.0}\n",
      "\n",
      "Log-likelihood: -275.896 \t AIC: 639.793\n",
      "\n",
      "Random effects:\n",
      "\n",
      "                    Name  Var  Std\n",
      "participant  (Intercept)  0.0  0.0\n",
      "\n",
      "No random effect correlations specified\n",
      "\n",
      "Fixed effects:\n",
      "\n"
     ]
    },
    {
     "name": "stderr",
     "output_type": "stream",
     "text": []
    },
    {
     "name": "stdout",
     "output_type": "stream",
     "text": [
      "boundary (singular) fit: see ?isSingular \n",
      "\n",
      "Linear mixed model fit by maximum likelihood  ['lmerMod']\n",
      "Formula: mind_numeric~wSMI_1_mean+wSMI_1_std+wSMI_2_mean+wSMI_2_std+wSMI_4_mean+wSMI_4_std+wSMI_8_mean+wSMI_8_std+p_e_1_mean+p_e_1_std+p_e_2_mean+p_e_2_std+p_e_4_mean+p_e_4_std+p_e_8_mean+p_e_8_std+k_mean+k_std+se_mean+se_std+msf_std+sef90_std+sef95_std+b_std+b_n_std+g_std+g_n_std+t_std+t_n_std+d_mean+d_std+d_n_std+a_n_std+a_std+CNV_mean+CNV_std+P1_mean+P1_std+P3a_mean+P3a_std+P3b_mean+P3b_std+(1|participant)\n",
      "\n",
      "Family: binomial\t Inference: parametric\n",
      "\n",
      "Number of observations: 428\t Groups: {'participant': 19.0}\n",
      "\n",
      "Log-likelihood: -270.378 \t AIC: 628.757\n",
      "\n",
      "Random effects:\n",
      "\n",
      "                    Name  Var  Std\n",
      "participant  (Intercept)  0.0  0.0\n",
      "\n",
      "No random effect correlations specified\n",
      "\n",
      "Fixed effects:\n",
      "\n"
     ]
    },
    {
     "name": "stderr",
     "output_type": "stream",
     "text": []
    },
    {
     "name": "stdout",
     "output_type": "stream",
     "text": [
      "boundary (singular) fit: see ?isSingular \n",
      "\n",
      "Linear mixed model fit by maximum likelihood  ['lmerMod']\n",
      "Formula: mind_numeric~wSMI_1_mean+wSMI_1_std+wSMI_2_mean+wSMI_2_std+wSMI_4_mean+wSMI_4_std+wSMI_8_mean+wSMI_8_std+p_e_1_mean+p_e_1_std+p_e_2_mean+p_e_2_std+p_e_4_mean+p_e_4_std+p_e_8_mean+p_e_8_std+k_mean+k_std+se_mean+se_std+msf_std+sef90_std+sef95_std+b_std+b_n_std+g_std+g_n_std+t_std+t_n_std+d_mean+d_std+d_n_std+a_n_std+a_std+CNV_mean+CNV_std+P1_mean+P1_std+P3a_mean+P3a_std+P3b_mean+P3b_std+(1|participant)\n",
      "\n",
      "Family: binomial\t Inference: parametric\n",
      "\n",
      "Number of observations: 428\t Groups: {'participant': 19.0}\n",
      "\n",
      "Log-likelihood: -276.066 \t AIC: 640.132\n",
      "\n",
      "Random effects:\n",
      "\n",
      "                    Name  Var  Std\n",
      "participant  (Intercept)  0.0  0.0\n",
      "\n",
      "No random effect correlations specified\n",
      "\n",
      "Fixed effects:\n",
      "\n"
     ]
    },
    {
     "name": "stderr",
     "output_type": "stream",
     "text": []
    },
    {
     "name": "stdout",
     "output_type": "stream",
     "text": [
      "boundary (singular) fit: see ?isSingular \n",
      "\n",
      "Linear mixed model fit by maximum likelihood  ['lmerMod']\n",
      "Formula: mind_numeric~wSMI_1_mean+wSMI_1_std+wSMI_2_mean+wSMI_2_std+wSMI_4_mean+wSMI_4_std+wSMI_8_mean+wSMI_8_std+p_e_1_mean+p_e_1_std+p_e_2_mean+p_e_2_std+p_e_4_mean+p_e_4_std+p_e_8_mean+p_e_8_std+k_mean+k_std+se_mean+se_std+msf_std+sef90_std+sef95_std+b_std+b_n_std+g_std+g_n_std+t_std+t_n_std+d_mean+d_std+d_n_std+a_n_std+a_std+CNV_mean+CNV_std+P1_mean+P1_std+P3a_mean+P3a_std+P3b_mean+P3b_std+(1|participant)\n",
      "\n",
      "Family: binomial\t Inference: parametric\n",
      "\n",
      "Number of observations: 428\t Groups: {'participant': 19.0}\n",
      "\n",
      "Log-likelihood: -266.640 \t AIC: 621.281\n",
      "\n",
      "Random effects:\n",
      "\n",
      "                    Name  Var  Std\n",
      "participant  (Intercept)  0.0  0.0\n",
      "\n",
      "No random effect correlations specified\n",
      "\n",
      "Fixed effects:\n",
      "\n"
     ]
    },
    {
     "name": "stderr",
     "output_type": "stream",
     "text": []
    },
    {
     "name": "stdout",
     "output_type": "stream",
     "text": [
      "[1] \"failure to converge in 10000 evaluations\"\n",
      "[2] \" \\n\"                                     \n",
      "\n",
      "unable to evaluate scaled gradient \n",
      "\n",
      "Model failed to converge: degenerate  Hessian with 3 negative eigenvalues \n",
      "\n",
      "Linear mixed model fit by maximum likelihood  ['lmerMod']\n",
      "Formula: mind_numeric~wSMI_1_mean+wSMI_1_std+wSMI_2_mean+wSMI_2_std+wSMI_4_mean+wSMI_4_std+wSMI_8_mean+wSMI_8_std+p_e_1_mean+p_e_1_std+p_e_2_mean+p_e_2_std+p_e_4_mean+p_e_4_std+p_e_8_mean+p_e_8_std+k_mean+k_std+se_mean+se_std+msf_std+sef90_std+sef95_std+b_std+b_n_std+g_std+g_n_std+t_std+t_n_std+d_mean+d_std+d_n_std+a_n_std+a_std+CNV_mean+CNV_std+P1_mean+P1_std+P3a_mean+P3a_std+P3b_mean+P3b_std+(1|participant)\n",
      "\n",
      "Family: binomial\t Inference: parametric\n",
      "\n",
      "Number of observations: 428\t Groups: {'participant': 19.0}\n",
      "\n",
      "Log-likelihood: -278.421 \t AIC: 644.843\n",
      "\n",
      "Random effects:\n",
      "\n",
      "                    Name    Var    Std\n",
      "participant  (Intercept)  0.022  0.147\n",
      "\n",
      "No random effect correlations specified\n",
      "\n",
      "Fixed effects:\n",
      "\n"
     ]
    },
    {
     "name": "stderr",
     "output_type": "stream",
     "text": []
    },
    {
     "name": "stdout",
     "output_type": "stream",
     "text": [
      "boundary (singular) fit: see ?isSingular \n",
      "\n",
      "Linear mixed model fit by maximum likelihood  ['lmerMod']\n",
      "Formula: mind_numeric~wSMI_1_mean+wSMI_1_std+wSMI_2_mean+wSMI_2_std+wSMI_4_mean+wSMI_4_std+wSMI_8_mean+wSMI_8_std+p_e_1_mean+p_e_1_std+p_e_2_mean+p_e_2_std+p_e_4_mean+p_e_4_std+p_e_8_mean+p_e_8_std+k_mean+k_std+se_mean+se_std+msf_std+sef90_std+sef95_std+b_std+b_n_std+g_std+g_n_std+t_std+t_n_std+d_mean+d_std+d_n_std+a_n_std+a_std+CNV_mean+CNV_std+P1_mean+P1_std+P3a_mean+P3a_std+P3b_mean+P3b_std+(1|participant)\n",
      "\n",
      "Family: binomial\t Inference: parametric\n",
      "\n",
      "Number of observations: 428\t Groups: {'participant': 19.0}\n",
      "\n",
      "Log-likelihood: -276.807 \t AIC: 641.614\n",
      "\n",
      "Random effects:\n",
      "\n",
      "                    Name  Var  Std\n",
      "participant  (Intercept)  0.0  0.0\n",
      "\n",
      "No random effect correlations specified\n",
      "\n",
      "Fixed effects:\n",
      "\n"
     ]
    },
    {
     "name": "stderr",
     "output_type": "stream",
     "text": []
    },
    {
     "name": "stdout",
     "output_type": "stream",
     "text": [
      "[1] \"failure to converge in 10000 evaluations\"\n",
      "[2] \" \\n\"                                     \n",
      "\n",
      "unable to evaluate scaled gradient \n",
      "\n",
      "Model failed to converge: degenerate  Hessian with 5 negative eigenvalues \n",
      "\n",
      "Linear mixed model fit by maximum likelihood  ['lmerMod']\n",
      "Formula: mind_numeric~wSMI_1_mean+wSMI_1_std+wSMI_2_mean+wSMI_2_std+wSMI_4_mean+wSMI_4_std+wSMI_8_mean+wSMI_8_std+p_e_1_mean+p_e_1_std+p_e_2_mean+p_e_2_std+p_e_4_mean+p_e_4_std+p_e_8_mean+p_e_8_std+k_mean+k_std+se_mean+se_std+msf_std+sef90_std+sef95_std+b_std+b_n_std+g_std+g_n_std+t_std+t_n_std+d_mean+d_std+d_n_std+a_n_std+a_std+CNV_mean+CNV_std+P1_mean+P1_std+P3a_mean+P3a_std+P3b_mean+P3b_std+(1|participant)\n",
      "\n",
      "Family: binomial\t Inference: parametric\n",
      "\n",
      "Number of observations: 428\t Groups: {'participant': 19.0}\n",
      "\n",
      "Log-likelihood: -269.913 \t AIC: 627.825\n",
      "\n",
      "Random effects:\n",
      "\n",
      "                    Name    Var    Std\n",
      "participant  (Intercept)  0.111  0.333\n",
      "\n",
      "No random effect correlations specified\n",
      "\n",
      "Fixed effects:\n",
      "\n",
      "boundary (singular) fit: see ?isSingular \n",
      "\n",
      "Linear mixed model fit by maximum likelihood  ['lmerMod']\n",
      "Formula: mind_numeric~wSMI_1_mean+wSMI_1_std+wSMI_2_mean+wSMI_2_std+wSMI_4_mean+wSMI_4_std+wSMI_8_mean+wSMI_8_std+p_e_1_mean+p_e_1_std+p_e_2_mean+p_e_2_std+p_e_4_mean+p_e_4_std+p_e_8_mean+p_e_8_std+k_mean+k_std+se_mean+se_std+msf_std+sef90_std+sef95_std+b_std+b_n_std+g_std+g_n_std+t_std+t_n_std+d_mean+d_std+d_n_std+a_n_std+a_std+CNV_mean+CNV_std+P1_mean+P1_std+P3a_mean+P3a_std+P3b_mean+P3b_std+(1|participant)\n",
      "\n",
      "Family: binomial\t Inference: parametric\n",
      "\n",
      "Number of observations: 428\t Groups: {'participant': 19.0}\n",
      "\n",
      "Log-likelihood: -280.296 \t AIC: 648.592\n",
      "\n",
      "Random effects:\n",
      "\n",
      "                    Name  Var  Std\n",
      "participant  (Intercept)  0.0  0.0\n",
      "\n",
      "No random effect correlations specified\n",
      "\n",
      "Fixed effects:\n",
      "\n"
     ]
    },
    {
     "name": "stderr",
     "output_type": "stream",
     "text": []
    },
    {
     "name": "stdout",
     "output_type": "stream",
     "text": [
      "boundary (singular) fit: see ?isSingular \n",
      "\n",
      "Linear mixed model fit by maximum likelihood  ['lmerMod']\n",
      "Formula: mind_numeric~wSMI_1_mean+wSMI_1_std+wSMI_2_mean+wSMI_2_std+wSMI_4_mean+wSMI_4_std+wSMI_8_mean+wSMI_8_std+p_e_1_mean+p_e_1_std+p_e_2_mean+p_e_2_std+p_e_4_mean+p_e_4_std+p_e_8_mean+p_e_8_std+k_mean+k_std+se_mean+se_std+msf_std+sef90_std+sef95_std+b_std+b_n_std+g_std+g_n_std+t_std+t_n_std+d_mean+d_std+d_n_std+a_n_std+a_std+CNV_mean+CNV_std+P1_mean+P1_std+P3a_mean+P3a_std+P3b_mean+P3b_std+(1|participant)\n",
      "\n",
      "Family: binomial\t Inference: parametric\n",
      "\n",
      "Number of observations: 428\t Groups: {'participant': 19.0}\n",
      "\n",
      "Log-likelihood: -275.872 \t AIC: 639.743\n",
      "\n",
      "Random effects:\n",
      "\n",
      "                    Name  Var  Std\n",
      "participant  (Intercept)  0.0  0.0\n",
      "\n",
      "No random effect correlations specified\n",
      "\n",
      "Fixed effects:\n",
      "\n"
     ]
    },
    {
     "name": "stderr",
     "output_type": "stream",
     "text": []
    },
    {
     "name": "stdout",
     "output_type": "stream",
     "text": [
      "boundary (singular) fit: see ?isSingular \n",
      "\n",
      "Linear mixed model fit by maximum likelihood  ['lmerMod']\n",
      "Formula: mind_numeric~wSMI_1_mean+wSMI_1_std+wSMI_2_mean+wSMI_2_std+wSMI_4_mean+wSMI_4_std+wSMI_8_mean+wSMI_8_std+p_e_1_mean+p_e_1_std+p_e_2_mean+p_e_2_std+p_e_4_mean+p_e_4_std+p_e_8_mean+p_e_8_std+k_mean+k_std+se_mean+se_std+msf_std+sef90_std+sef95_std+b_std+b_n_std+g_std+g_n_std+t_std+t_n_std+d_mean+d_std+d_n_std+a_n_std+a_std+CNV_mean+CNV_std+P1_mean+P1_std+P3a_mean+P3a_std+P3b_mean+P3b_std+(1|participant)\n",
      "\n",
      "Family: binomial\t Inference: parametric\n",
      "\n",
      "Number of observations: 428\t Groups: {'participant': 19.0}\n",
      "\n",
      "Log-likelihood: -279.705 \t AIC: 647.411\n",
      "\n",
      "Random effects:\n",
      "\n",
      "                    Name  Var  Std\n",
      "participant  (Intercept)  0.0  0.0\n",
      "\n",
      "No random effect correlations specified\n",
      "\n",
      "Fixed effects:\n",
      "\n",
      "boundary (singular) fit: see ?isSingular \n",
      "\n",
      "Linear mixed model fit by maximum likelihood  ['lmerMod']\n",
      "Formula: mind_numeric~wSMI_1_mean+wSMI_1_std+wSMI_2_mean+wSMI_2_std+wSMI_4_mean+wSMI_4_std+wSMI_8_mean+wSMI_8_std+p_e_1_mean+p_e_1_std+p_e_2_mean+p_e_2_std+p_e_4_mean+p_e_4_std+p_e_8_mean+p_e_8_std+k_mean+k_std+se_mean+se_std+msf_std+sef90_std+sef95_std+b_std+b_n_std+g_std+g_n_std+t_std+t_n_std+d_mean+d_std+d_n_std+a_n_std+a_std+CNV_mean+CNV_std+P1_mean+P1_std+P3a_mean+P3a_std+P3b_mean+P3b_std+(1|participant)\n",
      "\n",
      "Family: binomial\t Inference: parametric\n",
      "\n",
      "Number of observations: 428\t Groups: {'participant': 19.0}\n",
      "\n",
      "Log-likelihood: -270.955 \t AIC: 629.910\n",
      "\n",
      "Random effects:\n",
      "\n",
      "                    Name  Var  Std\n",
      "participant  (Intercept)  0.0  0.0\n",
      "\n",
      "No random effect correlations specified\n",
      "\n",
      "Fixed effects:\n",
      "\n"
     ]
    },
    {
     "name": "stderr",
     "output_type": "stream",
     "text": []
    },
    {
     "name": "stdout",
     "output_type": "stream",
     "text": [
      "boundary (singular) fit: see ?isSingular \n",
      "\n",
      "Linear mixed model fit by maximum likelihood  ['lmerMod']\n",
      "Formula: mind_numeric~wSMI_1_mean+wSMI_1_std+wSMI_2_mean+wSMI_2_std+wSMI_4_mean+wSMI_4_std+wSMI_8_mean+wSMI_8_std+p_e_1_mean+p_e_1_std+p_e_2_mean+p_e_2_std+p_e_4_mean+p_e_4_std+p_e_8_mean+p_e_8_std+k_mean+k_std+se_mean+se_std+msf_std+sef90_std+sef95_std+b_std+b_n_std+g_std+g_n_std+t_std+t_n_std+d_mean+d_std+d_n_std+a_n_std+a_std+CNV_mean+CNV_std+P1_mean+P1_std+P3a_mean+P3a_std+P3b_mean+P3b_std+(1|participant)\n",
      "\n",
      "Family: binomial\t Inference: parametric\n",
      "\n",
      "Number of observations: 428\t Groups: {'participant': 19.0}\n",
      "\n",
      "Log-likelihood: -280.012 \t AIC: 648.025\n",
      "\n",
      "Random effects:\n",
      "\n",
      "                    Name  Var  Std\n",
      "participant  (Intercept)  0.0  0.0\n",
      "\n",
      "No random effect correlations specified\n",
      "\n",
      "Fixed effects:\n",
      "\n",
      "boundary (singular) fit: see ?isSingular \n",
      "\n",
      "Linear mixed model fit by maximum likelihood  ['lmerMod']\n",
      "Formula: mind_numeric~wSMI_1_mean+wSMI_1_std+wSMI_2_mean+wSMI_2_std+wSMI_4_mean+wSMI_4_std+wSMI_8_mean+wSMI_8_std+p_e_1_mean+p_e_1_std+p_e_2_mean+p_e_2_std+p_e_4_mean+p_e_4_std+p_e_8_mean+p_e_8_std+k_mean+k_std+se_mean+se_std+msf_std+sef90_std+sef95_std+b_std+b_n_std+g_std+g_n_std+t_std+t_n_std+d_mean+d_std+d_n_std+a_n_std+a_std+CNV_mean+CNV_std+P1_mean+P1_std+P3a_mean+P3a_std+P3b_mean+P3b_std+(1|participant)\n",
      "\n",
      "Family: binomial\t Inference: parametric\n",
      "\n",
      "Number of observations: 428\t Groups: {'participant': 19.0}\n",
      "\n",
      "Log-likelihood: -253.634 \t AIC: 595.269\n",
      "\n",
      "Random effects:\n",
      "\n",
      "                    Name  Var  Std\n",
      "participant  (Intercept)  0.0  0.0\n",
      "\n",
      "No random effect correlations specified\n",
      "\n",
      "Fixed effects:\n",
      "\n"
     ]
    },
    {
     "name": "stderr",
     "output_type": "stream",
     "text": []
    },
    {
     "name": "stdout",
     "output_type": "stream",
     "text": [
      "boundary (singular) fit: see ?isSingular \n",
      "\n",
      "Linear mixed model fit by maximum likelihood  ['lmerMod']\n",
      "Formula: mind_numeric~wSMI_1_mean+wSMI_1_std+wSMI_2_mean+wSMI_2_std+wSMI_4_mean+wSMI_4_std+wSMI_8_mean+wSMI_8_std+p_e_1_mean+p_e_1_std+p_e_2_mean+p_e_2_std+p_e_4_mean+p_e_4_std+p_e_8_mean+p_e_8_std+k_mean+k_std+se_mean+se_std+msf_std+sef90_std+sef95_std+b_std+b_n_std+g_std+g_n_std+t_std+t_n_std+d_mean+d_std+d_n_std+a_n_std+a_std+CNV_mean+CNV_std+P1_mean+P1_std+P3a_mean+P3a_std+P3b_mean+P3b_std+(1|participant)\n",
      "\n",
      "Family: binomial\t Inference: parametric\n",
      "\n",
      "Number of observations: 428\t Groups: {'participant': 19.0}\n",
      "\n",
      "Log-likelihood: -267.702 \t AIC: 623.404\n",
      "\n",
      "Random effects:\n",
      "\n",
      "                    Name  Var  Std\n",
      "participant  (Intercept)  0.0  0.0\n",
      "\n",
      "No random effect correlations specified\n",
      "\n",
      "Fixed effects:\n",
      "\n",
      "boundary (singular) fit: see ?isSingular \n",
      "\n",
      "Linear mixed model fit by maximum likelihood  ['lmerMod']\n",
      "Formula: mind_numeric~wSMI_1_mean+wSMI_1_std+wSMI_2_mean+wSMI_2_std+wSMI_4_mean+wSMI_4_std+wSMI_8_mean+wSMI_8_std+p_e_1_mean+p_e_1_std+p_e_2_mean+p_e_2_std+p_e_4_mean+p_e_4_std+p_e_8_mean+p_e_8_std+k_mean+k_std+se_mean+se_std+msf_std+sef90_std+sef95_std+b_std+b_n_std+g_std+g_n_std+t_std+t_n_std+d_mean+d_std+d_n_std+a_n_std+a_std+CNV_mean+CNV_std+P1_mean+P1_std+P3a_mean+P3a_std+P3b_mean+P3b_std+(1|participant)\n",
      "\n",
      "Family: binomial\t Inference: parametric\n",
      "\n",
      "Number of observations: 428\t Groups: {'participant': 19.0}\n",
      "\n",
      "Log-likelihood: -275.787 \t AIC: 639.574\n",
      "\n",
      "Random effects:\n",
      "\n",
      "                    Name  Var  Std\n",
      "participant  (Intercept)  0.0  0.0\n",
      "\n",
      "No random effect correlations specified\n",
      "\n",
      "Fixed effects:\n",
      "\n"
     ]
    },
    {
     "name": "stderr",
     "output_type": "stream",
     "text": []
    },
    {
     "name": "stdout",
     "output_type": "stream",
     "text": [
      "[1] \"failure to converge in 10000 evaluations\"\n",
      "[2] \" \\n\"                                     \n",
      "\n",
      "unable to evaluate scaled gradient \n",
      "\n",
      "Model failed to converge: degenerate  Hessian with 6 negative eigenvalues \n",
      "\n",
      "Linear mixed model fit by maximum likelihood  ['lmerMod']\n",
      "Formula: mind_numeric~wSMI_1_mean+wSMI_1_std+wSMI_2_mean+wSMI_2_std+wSMI_4_mean+wSMI_4_std+wSMI_8_mean+wSMI_8_std+p_e_1_mean+p_e_1_std+p_e_2_mean+p_e_2_std+p_e_4_mean+p_e_4_std+p_e_8_mean+p_e_8_std+k_mean+k_std+se_mean+se_std+msf_std+sef90_std+sef95_std+b_std+b_n_std+g_std+g_n_std+t_std+t_n_std+d_mean+d_std+d_n_std+a_n_std+a_std+CNV_mean+CNV_std+P1_mean+P1_std+P3a_mean+P3a_std+P3b_mean+P3b_std+(1|participant)\n",
      "\n",
      "Family: binomial\t Inference: parametric\n",
      "\n",
      "Number of observations: 428\t Groups: {'participant': 19.0}\n",
      "\n",
      "Log-likelihood: -267.687 \t AIC: 623.373\n",
      "\n",
      "Random effects:\n",
      "\n",
      "                    Name    Var    Std\n",
      "participant  (Intercept)  0.148  0.385\n",
      "\n",
      "No random effect correlations specified\n",
      "\n",
      "Fixed effects:\n",
      "\n"
     ]
    },
    {
     "name": "stderr",
     "output_type": "stream",
     "text": []
    },
    {
     "name": "stdout",
     "output_type": "stream",
     "text": [
      "boundary (singular) fit: see ?isSingular \n",
      "\n",
      "Linear mixed model fit by maximum likelihood  ['lmerMod']\n",
      "Formula: mind_numeric~wSMI_1_mean+wSMI_1_std+wSMI_2_mean+wSMI_2_std+wSMI_4_mean+wSMI_4_std+wSMI_8_mean+wSMI_8_std+p_e_1_mean+p_e_1_std+p_e_2_mean+p_e_2_std+p_e_4_mean+p_e_4_std+p_e_8_mean+p_e_8_std+k_mean+k_std+se_mean+se_std+msf_std+sef90_std+sef95_std+b_std+b_n_std+g_std+g_n_std+t_std+t_n_std+d_mean+d_std+d_n_std+a_n_std+a_std+CNV_mean+CNV_std+P1_mean+P1_std+P3a_mean+P3a_std+P3b_mean+P3b_std+(1|participant)\n",
      "\n",
      "Family: binomial\t Inference: parametric\n",
      "\n",
      "Number of observations: 428\t Groups: {'participant': 19.0}\n",
      "\n",
      "Log-likelihood: -265.400 \t AIC: 618.801\n",
      "\n",
      "Random effects:\n",
      "\n",
      "                    Name  Var  Std\n",
      "participant  (Intercept)  0.0  0.0\n",
      "\n",
      "No random effect correlations specified\n",
      "\n",
      "Fixed effects:\n",
      "\n"
     ]
    },
    {
     "name": "stderr",
     "output_type": "stream",
     "text": []
    },
    {
     "name": "stdout",
     "output_type": "stream",
     "text": [
      "boundary (singular) fit: see ?isSingular \n",
      "\n",
      "Linear mixed model fit by maximum likelihood  ['lmerMod']\n",
      "Formula: mind_numeric~wSMI_1_mean+wSMI_1_std+wSMI_2_mean+wSMI_2_std+wSMI_4_mean+wSMI_4_std+wSMI_8_mean+wSMI_8_std+p_e_1_mean+p_e_1_std+p_e_2_mean+p_e_2_std+p_e_4_mean+p_e_4_std+p_e_8_mean+p_e_8_std+k_mean+k_std+se_mean+se_std+msf_std+sef90_std+sef95_std+b_std+b_n_std+g_std+g_n_std+t_std+t_n_std+d_mean+d_std+d_n_std+a_n_std+a_std+CNV_mean+CNV_std+P1_mean+P1_std+P3a_mean+P3a_std+P3b_mean+P3b_std+(1|participant)\n",
      "\n",
      "Family: binomial\t Inference: parametric\n",
      "\n",
      "Number of observations: 428\t Groups: {'participant': 19.0}\n",
      "\n",
      "Log-likelihood: -265.495 \t AIC: 618.990\n",
      "\n",
      "Random effects:\n",
      "\n",
      "                    Name  Var  Std\n",
      "participant  (Intercept)  0.0  0.0\n",
      "\n",
      "No random effect correlations specified\n",
      "\n",
      "Fixed effects:\n",
      "\n"
     ]
    },
    {
     "name": "stderr",
     "output_type": "stream",
     "text": []
    },
    {
     "name": "stdout",
     "output_type": "stream",
     "text": [
      "boundary (singular) fit: see ?isSingular \n",
      "\n",
      "Linear mixed model fit by maximum likelihood  ['lmerMod']\n",
      "Formula: mind_numeric~wSMI_1_mean+wSMI_1_std+wSMI_2_mean+wSMI_2_std+wSMI_4_mean+wSMI_4_std+wSMI_8_mean+wSMI_8_std+p_e_1_mean+p_e_1_std+p_e_2_mean+p_e_2_std+p_e_4_mean+p_e_4_std+p_e_8_mean+p_e_8_std+k_mean+k_std+se_mean+se_std+msf_std+sef90_std+sef95_std+b_std+b_n_std+g_std+g_n_std+t_std+t_n_std+d_mean+d_std+d_n_std+a_n_std+a_std+CNV_mean+CNV_std+P1_mean+P1_std+P3a_mean+P3a_std+P3b_mean+P3b_std+(1|participant)\n",
      "\n",
      "Family: binomial\t Inference: parametric\n",
      "\n",
      "Number of observations: 428\t Groups: {'participant': 19.0}\n",
      "\n",
      "Log-likelihood: -273.573 \t AIC: 635.147\n",
      "\n",
      "Random effects:\n",
      "\n",
      "                    Name  Var  Std\n",
      "participant  (Intercept)  0.0  0.0\n",
      "\n",
      "No random effect correlations specified\n",
      "\n",
      "Fixed effects:\n",
      "\n"
     ]
    },
    {
     "name": "stderr",
     "output_type": "stream",
     "text": []
    },
    {
     "name": "stdout",
     "output_type": "stream",
     "text": [
      "[1] \"failure to converge in 10000 evaluations\"\n",
      "[2] \" \\n\"                                     \n",
      "\n",
      "unable to evaluate scaled gradient \n",
      "\n",
      "Model failed to converge: degenerate  Hessian with 2 negative eigenvalues \n",
      "\n",
      "Linear mixed model fit by maximum likelihood  ['lmerMod']\n",
      "Formula: mind_numeric~wSMI_1_mean+wSMI_1_std+wSMI_2_mean+wSMI_2_std+wSMI_4_mean+wSMI_4_std+wSMI_8_mean+wSMI_8_std+p_e_1_mean+p_e_1_std+p_e_2_mean+p_e_2_std+p_e_4_mean+p_e_4_std+p_e_8_mean+p_e_8_std+k_mean+k_std+se_mean+se_std+msf_std+sef90_std+sef95_std+b_std+b_n_std+g_std+g_n_std+t_std+t_n_std+d_mean+d_std+d_n_std+a_n_std+a_std+CNV_mean+CNV_std+P1_mean+P1_std+P3a_mean+P3a_std+P3b_mean+P3b_std+(1|participant)\n",
      "\n",
      "Family: binomial\t Inference: parametric\n",
      "\n",
      "Number of observations: 428\t Groups: {'participant': 19.0}\n",
      "\n",
      "Log-likelihood: -276.216 \t AIC: 640.432\n",
      "\n",
      "Random effects:\n",
      "\n",
      "                    Name    Var    Std\n",
      "participant  (Intercept)  0.029  0.171\n",
      "\n",
      "No random effect correlations specified\n",
      "\n",
      "Fixed effects:\n",
      "\n"
     ]
    },
    {
     "name": "stderr",
     "output_type": "stream",
     "text": []
    },
    {
     "name": "stdout",
     "output_type": "stream",
     "text": [
      "boundary (singular) fit: see ?isSingular \n",
      "\n",
      "Linear mixed model fit by maximum likelihood  ['lmerMod']\n",
      "Formula: mind_numeric~wSMI_1_mean+wSMI_1_std+wSMI_2_mean+wSMI_2_std+wSMI_4_mean+wSMI_4_std+wSMI_8_mean+wSMI_8_std+p_e_1_mean+p_e_1_std+p_e_2_mean+p_e_2_std+p_e_4_mean+p_e_4_std+p_e_8_mean+p_e_8_std+k_mean+k_std+se_mean+se_std+msf_std+sef90_std+sef95_std+b_std+b_n_std+g_std+g_n_std+t_std+t_n_std+d_mean+d_std+d_n_std+a_n_std+a_std+CNV_mean+CNV_std+P1_mean+P1_std+P3a_mean+P3a_std+P3b_mean+P3b_std+(1|participant)\n",
      "\n",
      "Family: binomial\t Inference: parametric\n",
      "\n",
      "Number of observations: 428\t Groups: {'participant': 19.0}\n",
      "\n",
      "Log-likelihood: -259.509 \t AIC: 607.017\n",
      "\n",
      "Random effects:\n",
      "\n",
      "                    Name  Var  Std\n",
      "participant  (Intercept)  0.0  0.0\n",
      "\n",
      "No random effect correlations specified\n",
      "\n",
      "Fixed effects:\n",
      "\n"
     ]
    },
    {
     "name": "stderr",
     "output_type": "stream",
     "text": []
    },
    {
     "name": "stdout",
     "output_type": "stream",
     "text": [
      "[1] \"failure to converge in 10000 evaluations\"\n",
      "[2] \" \\n\"                                     \n",
      "\n",
      "unable to evaluate scaled gradient \n",
      "\n",
      "Model failed to converge: degenerate  Hessian with 4 negative eigenvalues \n",
      "\n",
      "Linear mixed model fit by maximum likelihood  ['lmerMod']\n",
      "Formula: mind_numeric~wSMI_1_mean+wSMI_1_std+wSMI_2_mean+wSMI_2_std+wSMI_4_mean+wSMI_4_std+wSMI_8_mean+wSMI_8_std+p_e_1_mean+p_e_1_std+p_e_2_mean+p_e_2_std+p_e_4_mean+p_e_4_std+p_e_8_mean+p_e_8_std+k_mean+k_std+se_mean+se_std+msf_std+sef90_std+sef95_std+b_std+b_n_std+g_std+g_n_std+t_std+t_n_std+d_mean+d_std+d_n_std+a_n_std+a_std+CNV_mean+CNV_std+P1_mean+P1_std+P3a_mean+P3a_std+P3b_mean+P3b_std+(1|participant)\n",
      "\n",
      "Family: binomial\t Inference: parametric\n",
      "\n",
      "Number of observations: 428\t Groups: {'participant': 19.0}\n",
      "\n",
      "Log-likelihood: -275.993 \t AIC: 639.986\n",
      "\n",
      "Random effects:\n",
      "\n",
      "                    Name    Var   Std\n",
      "participant  (Intercept)  0.102  0.32\n",
      "\n",
      "No random effect correlations specified\n",
      "\n",
      "Fixed effects:\n",
      "\n"
     ]
    },
    {
     "name": "stderr",
     "output_type": "stream",
     "text": []
    },
    {
     "name": "stdout",
     "output_type": "stream",
     "text": [
      "boundary (singular) fit: see ?isSingular \n",
      "\n",
      "Linear mixed model fit by maximum likelihood  ['lmerMod']\n",
      "Formula: mind_numeric~wSMI_1_mean+wSMI_1_std+wSMI_2_mean+wSMI_2_std+wSMI_4_mean+wSMI_4_std+wSMI_8_mean+wSMI_8_std+p_e_1_mean+p_e_1_std+p_e_2_mean+p_e_2_std+p_e_4_mean+p_e_4_std+p_e_8_mean+p_e_8_std+k_mean+k_std+se_mean+se_std+msf_std+sef90_std+sef95_std+b_std+b_n_std+g_std+g_n_std+t_std+t_n_std+d_mean+d_std+d_n_std+a_n_std+a_std+CNV_mean+CNV_std+P1_mean+P1_std+P3a_mean+P3a_std+P3b_mean+P3b_std+(1|participant)\n",
      "\n",
      "Family: binomial\t Inference: parametric\n",
      "\n",
      "Number of observations: 428\t Groups: {'participant': 19.0}\n",
      "\n",
      "Log-likelihood: -272.238 \t AIC: 632.477\n",
      "\n",
      "Random effects:\n",
      "\n",
      "                    Name  Var  Std\n",
      "participant  (Intercept)  0.0  0.0\n",
      "\n",
      "No random effect correlations specified\n",
      "\n",
      "Fixed effects:\n",
      "\n"
     ]
    },
    {
     "name": "stderr",
     "output_type": "stream",
     "text": []
    },
    {
     "name": "stdout",
     "output_type": "stream",
     "text": [
      "boundary (singular) fit: see ?isSingular \n",
      "\n",
      "Linear mixed model fit by maximum likelihood  ['lmerMod']\n",
      "Formula: mind_numeric~wSMI_1_mean+wSMI_1_std+wSMI_2_mean+wSMI_2_std+wSMI_4_mean+wSMI_4_std+wSMI_8_mean+wSMI_8_std+p_e_1_mean+p_e_1_std+p_e_2_mean+p_e_2_std+p_e_4_mean+p_e_4_std+p_e_8_mean+p_e_8_std+k_mean+k_std+se_mean+se_std+msf_std+sef90_std+sef95_std+b_std+b_n_std+g_std+g_n_std+t_std+t_n_std+d_mean+d_std+d_n_std+a_n_std+a_std+CNV_mean+CNV_std+P1_mean+P1_std+P3a_mean+P3a_std+P3b_mean+P3b_std+(1|participant)\n",
      "\n",
      "Family: binomial\t Inference: parametric\n",
      "\n",
      "Number of observations: 428\t Groups: {'participant': 19.0}\n",
      "\n",
      "Log-likelihood: -274.863 \t AIC: 637.725\n",
      "\n",
      "Random effects:\n",
      "\n",
      "                    Name  Var  Std\n",
      "participant  (Intercept)  0.0  0.0\n",
      "\n",
      "No random effect correlations specified\n",
      "\n",
      "Fixed effects:\n",
      "\n"
     ]
    },
    {
     "name": "stderr",
     "output_type": "stream",
     "text": []
    },
    {
     "name": "stdout",
     "output_type": "stream",
     "text": [
      "boundary (singular) fit: see ?isSingular \n",
      "\n",
      "Linear mixed model fit by maximum likelihood  ['lmerMod']\n",
      "Formula: mind_numeric~wSMI_1_mean+wSMI_1_std+wSMI_2_mean+wSMI_2_std+wSMI_4_mean+wSMI_4_std+wSMI_8_mean+wSMI_8_std+p_e_1_mean+p_e_1_std+p_e_2_mean+p_e_2_std+p_e_4_mean+p_e_4_std+p_e_8_mean+p_e_8_std+k_mean+k_std+se_mean+se_std+msf_std+sef90_std+sef95_std+b_std+b_n_std+g_std+g_n_std+t_std+t_n_std+d_mean+d_std+d_n_std+a_n_std+a_std+CNV_mean+CNV_std+P1_mean+P1_std+P3a_mean+P3a_std+P3b_mean+P3b_std+(1|participant)\n",
      "\n",
      "Family: binomial\t Inference: parametric\n",
      "\n",
      "Number of observations: 428\t Groups: {'participant': 19.0}\n",
      "\n",
      "Log-likelihood: -270.336 \t AIC: 628.672\n",
      "\n",
      "Random effects:\n",
      "\n",
      "                    Name  Var  Std\n",
      "participant  (Intercept)  0.0  0.0\n",
      "\n",
      "No random effect correlations specified\n",
      "\n",
      "Fixed effects:\n",
      "\n"
     ]
    },
    {
     "name": "stderr",
     "output_type": "stream",
     "text": []
    },
    {
     "name": "stdout",
     "output_type": "stream",
     "text": [
      "boundary (singular) fit: see ?isSingular \n",
      "\n",
      "Linear mixed model fit by maximum likelihood  ['lmerMod']\n",
      "Formula: mind_numeric~wSMI_1_mean+wSMI_1_std+wSMI_2_mean+wSMI_2_std+wSMI_4_mean+wSMI_4_std+wSMI_8_mean+wSMI_8_std+p_e_1_mean+p_e_1_std+p_e_2_mean+p_e_2_std+p_e_4_mean+p_e_4_std+p_e_8_mean+p_e_8_std+k_mean+k_std+se_mean+se_std+msf_std+sef90_std+sef95_std+b_std+b_n_std+g_std+g_n_std+t_std+t_n_std+d_mean+d_std+d_n_std+a_n_std+a_std+CNV_mean+CNV_std+P1_mean+P1_std+P3a_mean+P3a_std+P3b_mean+P3b_std+(1|participant)\n",
      "\n",
      "Family: binomial\t Inference: parametric\n",
      "\n",
      "Number of observations: 428\t Groups: {'participant': 19.0}\n",
      "\n",
      "Log-likelihood: -281.877 \t AIC: 651.755\n",
      "\n",
      "Random effects:\n",
      "\n",
      "                    Name  Var  Std\n",
      "participant  (Intercept)  0.0  0.0\n",
      "\n",
      "No random effect correlations specified\n",
      "\n",
      "Fixed effects:\n",
      "\n",
      "boundary (singular) fit: see ?isSingular \n",
      "\n",
      "Linear mixed model fit by maximum likelihood  ['lmerMod']\n",
      "Formula: mind_numeric~wSMI_1_mean+wSMI_1_std+wSMI_2_mean+wSMI_2_std+wSMI_4_mean+wSMI_4_std+wSMI_8_mean+wSMI_8_std+p_e_1_mean+p_e_1_std+p_e_2_mean+p_e_2_std+p_e_4_mean+p_e_4_std+p_e_8_mean+p_e_8_std+k_mean+k_std+se_mean+se_std+msf_std+sef90_std+sef95_std+b_std+b_n_std+g_std+g_n_std+t_std+t_n_std+d_mean+d_std+d_n_std+a_n_std+a_std+CNV_mean+CNV_std+P1_mean+P1_std+P3a_mean+P3a_std+P3b_mean+P3b_std+(1|participant)\n",
      "\n",
      "Family: binomial\t Inference: parametric\n",
      "\n",
      "Number of observations: 428\t Groups: {'participant': 19.0}\n",
      "\n",
      "Log-likelihood: -271.357 \t AIC: 630.714\n",
      "\n",
      "Random effects:\n",
      "\n",
      "                    Name  Var  Std\n",
      "participant  (Intercept)  0.0  0.0\n",
      "\n",
      "No random effect correlations specified\n",
      "\n",
      "Fixed effects:\n",
      "\n"
     ]
    },
    {
     "name": "stderr",
     "output_type": "stream",
     "text": []
    },
    {
     "name": "stdout",
     "output_type": "stream",
     "text": [
      "boundary (singular) fit: see ?isSingular \n",
      "\n",
      "Linear mixed model fit by maximum likelihood  ['lmerMod']\n",
      "Formula: mind_numeric~wSMI_1_mean+wSMI_1_std+wSMI_2_mean+wSMI_2_std+wSMI_4_mean+wSMI_4_std+wSMI_8_mean+wSMI_8_std+p_e_1_mean+p_e_1_std+p_e_2_mean+p_e_2_std+p_e_4_mean+p_e_4_std+p_e_8_mean+p_e_8_std+k_mean+k_std+se_mean+se_std+msf_std+sef90_std+sef95_std+b_std+b_n_std+g_std+g_n_std+t_std+t_n_std+d_mean+d_std+d_n_std+a_n_std+a_std+CNV_mean+CNV_std+P1_mean+P1_std+P3a_mean+P3a_std+P3b_mean+P3b_std+(1|participant)\n",
      "\n",
      "Family: binomial\t Inference: parametric\n",
      "\n",
      "Number of observations: 428\t Groups: {'participant': 19.0}\n",
      "\n",
      "Log-likelihood: -275.478 \t AIC: 638.956\n",
      "\n",
      "Random effects:\n",
      "\n",
      "                    Name  Var  Std\n",
      "participant  (Intercept)  0.0  0.0\n",
      "\n",
      "No random effect correlations specified\n",
      "\n",
      "Fixed effects:\n",
      "\n",
      "boundary (singular) fit: see ?isSingular \n",
      "\n",
      "Linear mixed model fit by maximum likelihood  ['lmerMod']\n",
      "Formula: mind_numeric~wSMI_1_mean+wSMI_1_std+wSMI_2_mean+wSMI_2_std+wSMI_4_mean+wSMI_4_std+wSMI_8_mean+wSMI_8_std+p_e_1_mean+p_e_1_std+p_e_2_mean+p_e_2_std+p_e_4_mean+p_e_4_std+p_e_8_mean+p_e_8_std+k_mean+k_std+se_mean+se_std+msf_std+sef90_std+sef95_std+b_std+b_n_std+g_std+g_n_std+t_std+t_n_std+d_mean+d_std+d_n_std+a_n_std+a_std+CNV_mean+CNV_std+P1_mean+P1_std+P3a_mean+P3a_std+P3b_mean+P3b_std+(1|participant)\n",
      "\n",
      "Family: binomial\t Inference: parametric\n",
      "\n",
      "Number of observations: 428\t Groups: {'participant': 19.0}\n",
      "\n",
      "Log-likelihood: -275.582 \t AIC: 639.165\n",
      "\n",
      "Random effects:\n",
      "\n",
      "                    Name  Var  Std\n",
      "participant  (Intercept)  0.0  0.0\n",
      "\n",
      "No random effect correlations specified\n",
      "\n",
      "Fixed effects:\n",
      "\n"
     ]
    },
    {
     "name": "stderr",
     "output_type": "stream",
     "text": []
    },
    {
     "name": "stdout",
     "output_type": "stream",
     "text": [
      "boundary (singular) fit: see ?isSingular \n",
      "\n",
      "Linear mixed model fit by maximum likelihood  ['lmerMod']\n",
      "Formula: mind_numeric~wSMI_1_mean+wSMI_1_std+wSMI_2_mean+wSMI_2_std+wSMI_4_mean+wSMI_4_std+wSMI_8_mean+wSMI_8_std+p_e_1_mean+p_e_1_std+p_e_2_mean+p_e_2_std+p_e_4_mean+p_e_4_std+p_e_8_mean+p_e_8_std+k_mean+k_std+se_mean+se_std+msf_std+sef90_std+sef95_std+b_std+b_n_std+g_std+g_n_std+t_std+t_n_std+d_mean+d_std+d_n_std+a_n_std+a_std+CNV_mean+CNV_std+P1_mean+P1_std+P3a_mean+P3a_std+P3b_mean+P3b_std+(1|participant)\n",
      "\n",
      "Family: binomial\t Inference: parametric\n",
      "\n",
      "Number of observations: 428\t Groups: {'participant': 19.0}\n",
      "\n",
      "Log-likelihood: -271.479 \t AIC: 630.958\n",
      "\n",
      "Random effects:\n",
      "\n",
      "                    Name  Var  Std\n",
      "participant  (Intercept)  0.0  0.0\n",
      "\n",
      "No random effect correlations specified\n",
      "\n",
      "Fixed effects:\n",
      "\n"
     ]
    },
    {
     "name": "stderr",
     "output_type": "stream",
     "text": []
    },
    {
     "name": "stdout",
     "output_type": "stream",
     "text": [
      "boundary (singular) fit: see ?isSingular \n",
      "\n",
      "Linear mixed model fit by maximum likelihood  ['lmerMod']\n",
      "Formula: mind_numeric~wSMI_1_mean+wSMI_1_std+wSMI_2_mean+wSMI_2_std+wSMI_4_mean+wSMI_4_std+wSMI_8_mean+wSMI_8_std+p_e_1_mean+p_e_1_std+p_e_2_mean+p_e_2_std+p_e_4_mean+p_e_4_std+p_e_8_mean+p_e_8_std+k_mean+k_std+se_mean+se_std+msf_std+sef90_std+sef95_std+b_std+b_n_std+g_std+g_n_std+t_std+t_n_std+d_mean+d_std+d_n_std+a_n_std+a_std+CNV_mean+CNV_std+P1_mean+P1_std+P3a_mean+P3a_std+P3b_mean+P3b_std+(1|participant)\n",
      "\n",
      "Family: binomial\t Inference: parametric\n",
      "\n",
      "Number of observations: 428\t Groups: {'participant': 19.0}\n",
      "\n",
      "Log-likelihood: -266.222 \t AIC: 620.444\n",
      "\n",
      "Random effects:\n",
      "\n",
      "                    Name  Var  Std\n",
      "participant  (Intercept)  0.0  0.0\n",
      "\n",
      "No random effect correlations specified\n",
      "\n",
      "Fixed effects:\n",
      "\n"
     ]
    },
    {
     "name": "stderr",
     "output_type": "stream",
     "text": [
      "Permutation Test: 100%|██████████| 100/100 [24:00<00:00, 14.41s/it]\n",
      "KFold Iteration: 1it [24:43, 1483.80s/it]"
     ]
    },
    {
     "name": "stdout",
     "output_type": "stream",
     "text": [
      "boundary (singular) fit: see ?isSingular \n",
      "\n",
      "Linear mixed model fit by maximum likelihood  ['lmerMod']\n",
      "Formula: mind_numeric~wSMI_1_mean+wSMI_1_std+wSMI_2_mean+wSMI_2_std+wSMI_4_mean+wSMI_4_std+wSMI_8_mean+wSMI_8_std+p_e_1_mean+p_e_1_std+p_e_2_mean+p_e_2_std+p_e_4_mean+p_e_4_std+p_e_8_mean+p_e_8_std+k_mean+k_std+se_mean+se_std+msf_std+sef90_std+sef95_std+b_std+b_n_std+g_std+g_n_std+t_std+t_n_std+d_mean+d_std+d_n_std+a_n_std+a_std+CNV_mean+CNV_std+P1_mean+P1_std+P3a_mean+P3a_std+P3b_mean+P3b_std+(1|participant)\n",
      "\n",
      "Family: binomial\t Inference: parametric\n",
      "\n",
      "Number of observations: 428\t Groups: {'participant': 19.0}\n",
      "\n",
      "Log-likelihood: -270.515 \t AIC: 629.031\n",
      "\n",
      "Random effects:\n",
      "\n",
      "                    Name  Var  Std\n",
      "participant  (Intercept)  0.0  0.0\n",
      "\n",
      "No random effect correlations specified\n",
      "\n",
      "Fixed effects:\n",
      "\n",
      "[1] \"failure to converge in 10000 evaluations\"\n",
      "[2] \" \\n\"                                     \n",
      "\n",
      "unable to evaluate scaled gradient \n",
      "\n",
      "Model failed to converge: degenerate  Hessian with 1 negative eigenvalues \n",
      "\n",
      "Linear mixed model fit by maximum likelihood  ['lmerMod']\n",
      "Formula: mind_numeric~wSMI_1_mean+wSMI_1_std+wSMI_2_mean+wSMI_2_std+wSMI_4_mean+wSMI_4_std+wSMI_8_mean+wSMI_8_std+p_e_1_mean+p_e_1_std+p_e_2_mean+p_e_2_std+p_e_4_mean+p_e_4_std+p_e_8_mean+p_e_8_std+k_mean+k_std+se_mean+se_std+msf_std+sef90_std+sef95_std+b_std+b_n_std+g_std+g_n_std+t_std+t_n_std+d_mean+d_std+d_n_std+a_n_std+a_std+CNV_mean+CNV_std+P1_mean+P1_std+P3a_mean+P3a_std+P3b_mean+P3b_std+(1|participant)\n",
      "\n",
      "Family: binomial\t Inference: parametric\n",
      "\n",
      "Number of observations: 429\t Groups: {'participant': 22.0}\n",
      "\n",
      "Log-likelihood: -248.641 \t AIC: 585.283\n",
      "\n",
      "Random effects:\n",
      "\n",
      "                    Name    Var    Std\n",
      "participant  (Intercept)  0.659  0.812\n",
      "\n",
      "No random effect correlations specified\n",
      "\n",
      "Fixed effects:\n",
      "\n"
     ]
    },
    {
     "name": "stderr",
     "output_type": "stream",
     "text": []
    },
    {
     "name": "stdout",
     "output_type": "stream",
     "text": [
      "boundary (singular) fit: see ?isSingular \n",
      "\n",
      "Linear mixed model fit by maximum likelihood  ['lmerMod']\n",
      "Formula: mind_numeric~wSMI_1_mean+wSMI_1_std+wSMI_2_mean+wSMI_2_std+wSMI_4_mean+wSMI_4_std+wSMI_8_mean+wSMI_8_std+p_e_1_mean+p_e_1_std+p_e_2_mean+p_e_2_std+p_e_4_mean+p_e_4_std+p_e_8_mean+p_e_8_std+k_mean+k_std+se_mean+se_std+msf_std+sef90_std+sef95_std+b_std+b_n_std+g_std+g_n_std+t_std+t_n_std+d_mean+d_std+d_n_std+a_n_std+a_std+CNV_mean+CNV_std+P1_mean+P1_std+P3a_mean+P3a_std+P3b_mean+P3b_std+(1|participant)\n",
      "\n",
      "Family: binomial\t Inference: parametric\n",
      "\n",
      "Number of observations: 429\t Groups: {'participant': 22.0}\n",
      "\n",
      "Log-likelihood: -273.073 \t AIC: 634.145\n",
      "\n",
      "Random effects:\n",
      "\n",
      "                    Name  Var  Std\n",
      "participant  (Intercept)  0.0  0.0\n",
      "\n",
      "No random effect correlations specified\n",
      "\n",
      "Fixed effects:\n",
      "\n"
     ]
    },
    {
     "name": "stderr",
     "output_type": "stream",
     "text": []
    },
    {
     "name": "stdout",
     "output_type": "stream",
     "text": [
      "[1] \"failure to converge in 10000 evaluations\"\n",
      "[2] \" \\n\"                                     \n",
      "\n",
      "unable to evaluate scaled gradient \n",
      "\n",
      "Model failed to converge: degenerate  Hessian with 7 negative eigenvalues \n",
      "\n",
      "Linear mixed model fit by maximum likelihood  ['lmerMod']\n",
      "Formula: mind_numeric~wSMI_1_mean+wSMI_1_std+wSMI_2_mean+wSMI_2_std+wSMI_4_mean+wSMI_4_std+wSMI_8_mean+wSMI_8_std+p_e_1_mean+p_e_1_std+p_e_2_mean+p_e_2_std+p_e_4_mean+p_e_4_std+p_e_8_mean+p_e_8_std+k_mean+k_std+se_mean+se_std+msf_std+sef90_std+sef95_std+b_std+b_n_std+g_std+g_n_std+t_std+t_n_std+d_mean+d_std+d_n_std+a_n_std+a_std+CNV_mean+CNV_std+P1_mean+P1_std+P3a_mean+P3a_std+P3b_mean+P3b_std+(1|participant)\n",
      "\n",
      "Family: binomial\t Inference: parametric\n",
      "\n",
      "Number of observations: 429\t Groups: {'participant': 22.0}\n",
      "\n",
      "Log-likelihood: -264.951 \t AIC: 617.903\n",
      "\n",
      "Random effects:\n",
      "\n",
      "                    Name    Var    Std\n",
      "participant  (Intercept)  0.291  0.539\n",
      "\n",
      "No random effect correlations specified\n",
      "\n",
      "Fixed effects:\n",
      "\n"
     ]
    },
    {
     "name": "stderr",
     "output_type": "stream",
     "text": []
    },
    {
     "name": "stdout",
     "output_type": "stream",
     "text": [
      "boundary (singular) fit: see ?isSingular \n",
      "\n",
      "Linear mixed model fit by maximum likelihood  ['lmerMod']\n",
      "Formula: mind_numeric~wSMI_1_mean+wSMI_1_std+wSMI_2_mean+wSMI_2_std+wSMI_4_mean+wSMI_4_std+wSMI_8_mean+wSMI_8_std+p_e_1_mean+p_e_1_std+p_e_2_mean+p_e_2_std+p_e_4_mean+p_e_4_std+p_e_8_mean+p_e_8_std+k_mean+k_std+se_mean+se_std+msf_std+sef90_std+sef95_std+b_std+b_n_std+g_std+g_n_std+t_std+t_n_std+d_mean+d_std+d_n_std+a_n_std+a_std+CNV_mean+CNV_std+P1_mean+P1_std+P3a_mean+P3a_std+P3b_mean+P3b_std+(1|participant)\n",
      "\n",
      "Family: binomial\t Inference: parametric\n",
      "\n",
      "Number of observations: 429\t Groups: {'participant': 22.0}\n",
      "\n",
      "Log-likelihood: -277.754 \t AIC: 643.509\n",
      "\n",
      "Random effects:\n",
      "\n",
      "                    Name  Var  Std\n",
      "participant  (Intercept)  0.0  0.0\n",
      "\n",
      "No random effect correlations specified\n",
      "\n",
      "Fixed effects:\n",
      "\n"
     ]
    },
    {
     "name": "stderr",
     "output_type": "stream",
     "text": []
    },
    {
     "name": "stdout",
     "output_type": "stream",
     "text": [
      "boundary (singular) fit: see ?isSingular \n",
      "\n",
      "Linear mixed model fit by maximum likelihood  ['lmerMod']\n",
      "Formula: mind_numeric~wSMI_1_mean+wSMI_1_std+wSMI_2_mean+wSMI_2_std+wSMI_4_mean+wSMI_4_std+wSMI_8_mean+wSMI_8_std+p_e_1_mean+p_e_1_std+p_e_2_mean+p_e_2_std+p_e_4_mean+p_e_4_std+p_e_8_mean+p_e_8_std+k_mean+k_std+se_mean+se_std+msf_std+sef90_std+sef95_std+b_std+b_n_std+g_std+g_n_std+t_std+t_n_std+d_mean+d_std+d_n_std+a_n_std+a_std+CNV_mean+CNV_std+P1_mean+P1_std+P3a_mean+P3a_std+P3b_mean+P3b_std+(1|participant)\n",
      "\n",
      "Family: binomial\t Inference: parametric\n",
      "\n",
      "Number of observations: 429\t Groups: {'participant': 22.0}\n",
      "\n",
      "Log-likelihood: -278.651 \t AIC: 645.303\n",
      "\n",
      "Random effects:\n",
      "\n",
      "                    Name  Var  Std\n",
      "participant  (Intercept)  0.0  0.0\n",
      "\n",
      "No random effect correlations specified\n",
      "\n",
      "Fixed effects:\n",
      "\n"
     ]
    },
    {
     "name": "stderr",
     "output_type": "stream",
     "text": []
    },
    {
     "name": "stdout",
     "output_type": "stream",
     "text": [
      "boundary (singular) fit: see ?isSingular \n",
      "\n",
      "Linear mixed model fit by maximum likelihood  ['lmerMod']\n",
      "Formula: mind_numeric~wSMI_1_mean+wSMI_1_std+wSMI_2_mean+wSMI_2_std+wSMI_4_mean+wSMI_4_std+wSMI_8_mean+wSMI_8_std+p_e_1_mean+p_e_1_std+p_e_2_mean+p_e_2_std+p_e_4_mean+p_e_4_std+p_e_8_mean+p_e_8_std+k_mean+k_std+se_mean+se_std+msf_std+sef90_std+sef95_std+b_std+b_n_std+g_std+g_n_std+t_std+t_n_std+d_mean+d_std+d_n_std+a_n_std+a_std+CNV_mean+CNV_std+P1_mean+P1_std+P3a_mean+P3a_std+P3b_mean+P3b_std+(1|participant)\n",
      "\n",
      "Family: binomial\t Inference: parametric\n",
      "\n",
      "Number of observations: 429\t Groups: {'participant': 22.0}\n",
      "\n",
      "Log-likelihood: -271.338 \t AIC: 630.677\n",
      "\n",
      "Random effects:\n",
      "\n",
      "                    Name  Var  Std\n",
      "participant  (Intercept)  0.0  0.0\n",
      "\n",
      "No random effect correlations specified\n",
      "\n",
      "Fixed effects:\n",
      "\n"
     ]
    },
    {
     "name": "stderr",
     "output_type": "stream",
     "text": []
    },
    {
     "name": "stdout",
     "output_type": "stream",
     "text": [
      "boundary (singular) fit: see ?isSingular \n",
      "\n",
      "Linear mixed model fit by maximum likelihood  ['lmerMod']\n",
      "Formula: mind_numeric~wSMI_1_mean+wSMI_1_std+wSMI_2_mean+wSMI_2_std+wSMI_4_mean+wSMI_4_std+wSMI_8_mean+wSMI_8_std+p_e_1_mean+p_e_1_std+p_e_2_mean+p_e_2_std+p_e_4_mean+p_e_4_std+p_e_8_mean+p_e_8_std+k_mean+k_std+se_mean+se_std+msf_std+sef90_std+sef95_std+b_std+b_n_std+g_std+g_n_std+t_std+t_n_std+d_mean+d_std+d_n_std+a_n_std+a_std+CNV_mean+CNV_std+P1_mean+P1_std+P3a_mean+P3a_std+P3b_mean+P3b_std+(1|participant)\n",
      "\n",
      "Family: binomial\t Inference: parametric\n",
      "\n",
      "Number of observations: 429\t Groups: {'participant': 22.0}\n",
      "\n",
      "Log-likelihood: -278.864 \t AIC: 645.728\n",
      "\n",
      "Random effects:\n",
      "\n",
      "                    Name  Var  Std\n",
      "participant  (Intercept)  0.0  0.0\n",
      "\n",
      "No random effect correlations specified\n",
      "\n",
      "Fixed effects:\n",
      "\n"
     ]
    },
    {
     "name": "stderr",
     "output_type": "stream",
     "text": []
    },
    {
     "name": "stdout",
     "output_type": "stream",
     "text": [
      "[1] \"failure to converge in 10000 evaluations\"\n",
      "[2] \" \\n\"                                     \n",
      "\n",
      "unable to evaluate scaled gradient \n",
      "\n",
      "Model failed to converge: degenerate  Hessian with 3 negative eigenvalues \n",
      "\n",
      "Linear mixed model fit by maximum likelihood  ['lmerMod']\n",
      "Formula: mind_numeric~wSMI_1_mean+wSMI_1_std+wSMI_2_mean+wSMI_2_std+wSMI_4_mean+wSMI_4_std+wSMI_8_mean+wSMI_8_std+p_e_1_mean+p_e_1_std+p_e_2_mean+p_e_2_std+p_e_4_mean+p_e_4_std+p_e_8_mean+p_e_8_std+k_mean+k_std+se_mean+se_std+msf_std+sef90_std+sef95_std+b_std+b_n_std+g_std+g_n_std+t_std+t_n_std+d_mean+d_std+d_n_std+a_n_std+a_std+CNV_mean+CNV_std+P1_mean+P1_std+P3a_mean+P3a_std+P3b_mean+P3b_std+(1|participant)\n",
      "\n",
      "Family: binomial\t Inference: parametric\n",
      "\n",
      "Number of observations: 429\t Groups: {'participant': 22.0}\n",
      "\n",
      "Log-likelihood: -272.791 \t AIC: 633.582\n",
      "\n",
      "Random effects:\n",
      "\n",
      "                    Name    Var    Std\n",
      "participant  (Intercept)  0.113  0.337\n",
      "\n",
      "No random effect correlations specified\n",
      "\n",
      "Fixed effects:\n",
      "\n",
      "boundary (singular) fit: see ?isSingular \n",
      "\n",
      "Linear mixed model fit by maximum likelihood  ['lmerMod']\n",
      "Formula: mind_numeric~wSMI_1_mean+wSMI_1_std+wSMI_2_mean+wSMI_2_std+wSMI_4_mean+wSMI_4_std+wSMI_8_mean+wSMI_8_std+p_e_1_mean+p_e_1_std+p_e_2_mean+p_e_2_std+p_e_4_mean+p_e_4_std+p_e_8_mean+p_e_8_std+k_mean+k_std+se_mean+se_std+msf_std+sef90_std+sef95_std+b_std+b_n_std+g_std+g_n_std+t_std+t_n_std+d_mean+d_std+d_n_std+a_n_std+a_std+CNV_mean+CNV_std+P1_mean+P1_std+P3a_mean+P3a_std+P3b_mean+P3b_std+(1|participant)\n",
      "\n",
      "Family: binomial\t Inference: parametric\n",
      "\n",
      "Number of observations: 429\t Groups: {'participant': 22.0}\n",
      "\n",
      "Log-likelihood: -272.427 \t AIC: 632.854\n",
      "\n",
      "Random effects:\n",
      "\n",
      "                    Name  Var  Std\n",
      "participant  (Intercept)  0.0  0.0\n",
      "\n",
      "No random effect correlations specified\n",
      "\n",
      "Fixed effects:\n",
      "\n"
     ]
    },
    {
     "name": "stderr",
     "output_type": "stream",
     "text": []
    },
    {
     "name": "stdout",
     "output_type": "stream",
     "text": [
      "boundary (singular) fit: see ?isSingular \n",
      "\n",
      "Linear mixed model fit by maximum likelihood  ['lmerMod']\n",
      "Formula: mind_numeric~wSMI_1_mean+wSMI_1_std+wSMI_2_mean+wSMI_2_std+wSMI_4_mean+wSMI_4_std+wSMI_8_mean+wSMI_8_std+p_e_1_mean+p_e_1_std+p_e_2_mean+p_e_2_std+p_e_4_mean+p_e_4_std+p_e_8_mean+p_e_8_std+k_mean+k_std+se_mean+se_std+msf_std+sef90_std+sef95_std+b_std+b_n_std+g_std+g_n_std+t_std+t_n_std+d_mean+d_std+d_n_std+a_n_std+a_std+CNV_mean+CNV_std+P1_mean+P1_std+P3a_mean+P3a_std+P3b_mean+P3b_std+(1|participant)\n",
      "\n",
      "Family: binomial\t Inference: parametric\n",
      "\n",
      "Number of observations: 429\t Groups: {'participant': 22.0}\n",
      "\n",
      "Log-likelihood: -274.611 \t AIC: 637.222\n",
      "\n",
      "Random effects:\n",
      "\n",
      "                    Name  Var  Std\n",
      "participant  (Intercept)  0.0  0.0\n",
      "\n",
      "No random effect correlations specified\n",
      "\n",
      "Fixed effects:\n",
      "\n"
     ]
    },
    {
     "name": "stderr",
     "output_type": "stream",
     "text": []
    },
    {
     "name": "stdout",
     "output_type": "stream",
     "text": [
      "boundary (singular) fit: see ?isSingular \n",
      "\n",
      "Linear mixed model fit by maximum likelihood  ['lmerMod']\n",
      "Formula: mind_numeric~wSMI_1_mean+wSMI_1_std+wSMI_2_mean+wSMI_2_std+wSMI_4_mean+wSMI_4_std+wSMI_8_mean+wSMI_8_std+p_e_1_mean+p_e_1_std+p_e_2_mean+p_e_2_std+p_e_4_mean+p_e_4_std+p_e_8_mean+p_e_8_std+k_mean+k_std+se_mean+se_std+msf_std+sef90_std+sef95_std+b_std+b_n_std+g_std+g_n_std+t_std+t_n_std+d_mean+d_std+d_n_std+a_n_std+a_std+CNV_mean+CNV_std+P1_mean+P1_std+P3a_mean+P3a_std+P3b_mean+P3b_std+(1|participant)\n",
      "\n",
      "Family: binomial\t Inference: parametric\n",
      "\n",
      "Number of observations: 429\t Groups: {'participant': 22.0}\n",
      "\n",
      "Log-likelihood: -278.647 \t AIC: 645.294\n",
      "\n",
      "Random effects:\n",
      "\n",
      "                    Name  Var  Std\n",
      "participant  (Intercept)  0.0  0.0\n",
      "\n",
      "No random effect correlations specified\n",
      "\n",
      "Fixed effects:\n",
      "\n"
     ]
    },
    {
     "name": "stderr",
     "output_type": "stream",
     "text": []
    },
    {
     "name": "stdout",
     "output_type": "stream",
     "text": [
      "boundary (singular) fit: see ?isSingular \n",
      "\n",
      "Linear mixed model fit by maximum likelihood  ['lmerMod']\n",
      "Formula: mind_numeric~wSMI_1_mean+wSMI_1_std+wSMI_2_mean+wSMI_2_std+wSMI_4_mean+wSMI_4_std+wSMI_8_mean+wSMI_8_std+p_e_1_mean+p_e_1_std+p_e_2_mean+p_e_2_std+p_e_4_mean+p_e_4_std+p_e_8_mean+p_e_8_std+k_mean+k_std+se_mean+se_std+msf_std+sef90_std+sef95_std+b_std+b_n_std+g_std+g_n_std+t_std+t_n_std+d_mean+d_std+d_n_std+a_n_std+a_std+CNV_mean+CNV_std+P1_mean+P1_std+P3a_mean+P3a_std+P3b_mean+P3b_std+(1|participant)\n",
      "\n",
      "Family: binomial\t Inference: parametric\n",
      "\n",
      "Number of observations: 429\t Groups: {'participant': 22.0}\n",
      "\n",
      "Log-likelihood: -284.365 \t AIC: 656.730\n",
      "\n",
      "Random effects:\n",
      "\n",
      "                    Name  Var  Std\n",
      "participant  (Intercept)  0.0  0.0\n",
      "\n",
      "No random effect correlations specified\n",
      "\n",
      "Fixed effects:\n",
      "\n"
     ]
    },
    {
     "name": "stderr",
     "output_type": "stream",
     "text": []
    },
    {
     "name": "stdout",
     "output_type": "stream",
     "text": [
      "boundary (singular) fit: see ?isSingular \n",
      "\n",
      "Linear mixed model fit by maximum likelihood  ['lmerMod']\n",
      "Formula: mind_numeric~wSMI_1_mean+wSMI_1_std+wSMI_2_mean+wSMI_2_std+wSMI_4_mean+wSMI_4_std+wSMI_8_mean+wSMI_8_std+p_e_1_mean+p_e_1_std+p_e_2_mean+p_e_2_std+p_e_4_mean+p_e_4_std+p_e_8_mean+p_e_8_std+k_mean+k_std+se_mean+se_std+msf_std+sef90_std+sef95_std+b_std+b_n_std+g_std+g_n_std+t_std+t_n_std+d_mean+d_std+d_n_std+a_n_std+a_std+CNV_mean+CNV_std+P1_mean+P1_std+P3a_mean+P3a_std+P3b_mean+P3b_std+(1|participant)\n",
      "\n",
      "Family: binomial\t Inference: parametric\n",
      "\n",
      "Number of observations: 429\t Groups: {'participant': 22.0}\n",
      "\n",
      "Log-likelihood: -270.285 \t AIC: 628.570\n",
      "\n",
      "Random effects:\n",
      "\n",
      "                    Name  Var  Std\n",
      "participant  (Intercept)  0.0  0.0\n",
      "\n",
      "No random effect correlations specified\n",
      "\n",
      "Fixed effects:\n",
      "\n"
     ]
    },
    {
     "name": "stderr",
     "output_type": "stream",
     "text": []
    },
    {
     "name": "stdout",
     "output_type": "stream",
     "text": [
      "boundary (singular) fit: see ?isSingular \n",
      "\n",
      "Linear mixed model fit by maximum likelihood  ['lmerMod']\n",
      "Formula: mind_numeric~wSMI_1_mean+wSMI_1_std+wSMI_2_mean+wSMI_2_std+wSMI_4_mean+wSMI_4_std+wSMI_8_mean+wSMI_8_std+p_e_1_mean+p_e_1_std+p_e_2_mean+p_e_2_std+p_e_4_mean+p_e_4_std+p_e_8_mean+p_e_8_std+k_mean+k_std+se_mean+se_std+msf_std+sef90_std+sef95_std+b_std+b_n_std+g_std+g_n_std+t_std+t_n_std+d_mean+d_std+d_n_std+a_n_std+a_std+CNV_mean+CNV_std+P1_mean+P1_std+P3a_mean+P3a_std+P3b_mean+P3b_std+(1|participant)\n",
      "\n",
      "Family: binomial\t Inference: parametric\n",
      "\n",
      "Number of observations: 429\t Groups: {'participant': 22.0}\n",
      "\n",
      "Log-likelihood: -271.181 \t AIC: 630.362\n",
      "\n",
      "Random effects:\n",
      "\n",
      "                    Name  Var  Std\n",
      "participant  (Intercept)  0.0  0.0\n",
      "\n",
      "No random effect correlations specified\n",
      "\n",
      "Fixed effects:\n",
      "\n"
     ]
    },
    {
     "name": "stderr",
     "output_type": "stream",
     "text": []
    },
    {
     "name": "stdout",
     "output_type": "stream",
     "text": [
      "boundary (singular) fit: see ?isSingular \n",
      "\n",
      "Linear mixed model fit by maximum likelihood  ['lmerMod']\n",
      "Formula: mind_numeric~wSMI_1_mean+wSMI_1_std+wSMI_2_mean+wSMI_2_std+wSMI_4_mean+wSMI_4_std+wSMI_8_mean+wSMI_8_std+p_e_1_mean+p_e_1_std+p_e_2_mean+p_e_2_std+p_e_4_mean+p_e_4_std+p_e_8_mean+p_e_8_std+k_mean+k_std+se_mean+se_std+msf_std+sef90_std+sef95_std+b_std+b_n_std+g_std+g_n_std+t_std+t_n_std+d_mean+d_std+d_n_std+a_n_std+a_std+CNV_mean+CNV_std+P1_mean+P1_std+P3a_mean+P3a_std+P3b_mean+P3b_std+(1|participant)\n",
      "\n",
      "Family: binomial\t Inference: parametric\n",
      "\n",
      "Number of observations: 429\t Groups: {'participant': 22.0}\n",
      "\n",
      "Log-likelihood: -276.972 \t AIC: 641.944\n",
      "\n",
      "Random effects:\n",
      "\n",
      "                    Name  Var  Std\n",
      "participant  (Intercept)  0.0  0.0\n",
      "\n",
      "No random effect correlations specified\n",
      "\n",
      "Fixed effects:\n",
      "\n"
     ]
    },
    {
     "name": "stderr",
     "output_type": "stream",
     "text": []
    },
    {
     "name": "stdout",
     "output_type": "stream",
     "text": [
      "boundary (singular) fit: see ?isSingular \n",
      "\n",
      "Linear mixed model fit by maximum likelihood  ['lmerMod']\n",
      "Formula: mind_numeric~wSMI_1_mean+wSMI_1_std+wSMI_2_mean+wSMI_2_std+wSMI_4_mean+wSMI_4_std+wSMI_8_mean+wSMI_8_std+p_e_1_mean+p_e_1_std+p_e_2_mean+p_e_2_std+p_e_4_mean+p_e_4_std+p_e_8_mean+p_e_8_std+k_mean+k_std+se_mean+se_std+msf_std+sef90_std+sef95_std+b_std+b_n_std+g_std+g_n_std+t_std+t_n_std+d_mean+d_std+d_n_std+a_n_std+a_std+CNV_mean+CNV_std+P1_mean+P1_std+P3a_mean+P3a_std+P3b_mean+P3b_std+(1|participant)\n",
      "\n",
      "Family: binomial\t Inference: parametric\n",
      "\n",
      "Number of observations: 429\t Groups: {'participant': 22.0}\n",
      "\n",
      "Log-likelihood: -276.673 \t AIC: 641.347\n",
      "\n",
      "Random effects:\n",
      "\n",
      "                    Name  Var  Std\n",
      "participant  (Intercept)  0.0  0.0\n",
      "\n",
      "No random effect correlations specified\n",
      "\n",
      "Fixed effects:\n",
      "\n"
     ]
    },
    {
     "name": "stderr",
     "output_type": "stream",
     "text": []
    },
    {
     "name": "stdout",
     "output_type": "stream",
     "text": [
      "boundary (singular) fit: see ?isSingular \n",
      "\n",
      "Linear mixed model fit by maximum likelihood  ['lmerMod']\n",
      "Formula: mind_numeric~wSMI_1_mean+wSMI_1_std+wSMI_2_mean+wSMI_2_std+wSMI_4_mean+wSMI_4_std+wSMI_8_mean+wSMI_8_std+p_e_1_mean+p_e_1_std+p_e_2_mean+p_e_2_std+p_e_4_mean+p_e_4_std+p_e_8_mean+p_e_8_std+k_mean+k_std+se_mean+se_std+msf_std+sef90_std+sef95_std+b_std+b_n_std+g_std+g_n_std+t_std+t_n_std+d_mean+d_std+d_n_std+a_n_std+a_std+CNV_mean+CNV_std+P1_mean+P1_std+P3a_mean+P3a_std+P3b_mean+P3b_std+(1|participant)\n",
      "\n",
      "Family: binomial\t Inference: parametric\n",
      "\n",
      "Number of observations: 429\t Groups: {'participant': 22.0}\n",
      "\n",
      "Log-likelihood: -273.423 \t AIC: 634.845\n",
      "\n",
      "Random effects:\n",
      "\n",
      "                    Name  Var  Std\n",
      "participant  (Intercept)  0.0  0.0\n",
      "\n",
      "No random effect correlations specified\n",
      "\n",
      "Fixed effects:\n",
      "\n",
      "boundary (singular) fit: see ?isSingular \n",
      "\n",
      "Linear mixed model fit by maximum likelihood  ['lmerMod']\n",
      "Formula: mind_numeric~wSMI_1_mean+wSMI_1_std+wSMI_2_mean+wSMI_2_std+wSMI_4_mean+wSMI_4_std+wSMI_8_mean+wSMI_8_std+p_e_1_mean+p_e_1_std+p_e_2_mean+p_e_2_std+p_e_4_mean+p_e_4_std+p_e_8_mean+p_e_8_std+k_mean+k_std+se_mean+se_std+msf_std+sef90_std+sef95_std+b_std+b_n_std+g_std+g_n_std+t_std+t_n_std+d_mean+d_std+d_n_std+a_n_std+a_std+CNV_mean+CNV_std+P1_mean+P1_std+P3a_mean+P3a_std+P3b_mean+P3b_std+(1|participant)\n",
      "\n",
      "Family: binomial\t Inference: parametric\n",
      "\n",
      "Number of observations: 429\t Groups: {'participant': 22.0}\n",
      "\n",
      "Log-likelihood: -270.436 \t AIC: 628.873\n",
      "\n",
      "Random effects:\n",
      "\n",
      "                    Name  Var  Std\n",
      "participant  (Intercept)  0.0  0.0\n",
      "\n",
      "No random effect correlations specified\n",
      "\n",
      "Fixed effects:\n",
      "\n"
     ]
    },
    {
     "name": "stderr",
     "output_type": "stream",
     "text": []
    },
    {
     "name": "stdout",
     "output_type": "stream",
     "text": [
      "boundary (singular) fit: see ?isSingular \n",
      "\n",
      "Linear mixed model fit by maximum likelihood  ['lmerMod']\n",
      "Formula: mind_numeric~wSMI_1_mean+wSMI_1_std+wSMI_2_mean+wSMI_2_std+wSMI_4_mean+wSMI_4_std+wSMI_8_mean+wSMI_8_std+p_e_1_mean+p_e_1_std+p_e_2_mean+p_e_2_std+p_e_4_mean+p_e_4_std+p_e_8_mean+p_e_8_std+k_mean+k_std+se_mean+se_std+msf_std+sef90_std+sef95_std+b_std+b_n_std+g_std+g_n_std+t_std+t_n_std+d_mean+d_std+d_n_std+a_n_std+a_std+CNV_mean+CNV_std+P1_mean+P1_std+P3a_mean+P3a_std+P3b_mean+P3b_std+(1|participant)\n",
      "\n",
      "Family: binomial\t Inference: parametric\n",
      "\n",
      "Number of observations: 429\t Groups: {'participant': 22.0}\n",
      "\n",
      "Log-likelihood: -281.035 \t AIC: 650.070\n",
      "\n",
      "Random effects:\n",
      "\n",
      "                    Name  Var  Std\n",
      "participant  (Intercept)  0.0  0.0\n",
      "\n",
      "No random effect correlations specified\n",
      "\n",
      "Fixed effects:\n",
      "\n"
     ]
    },
    {
     "name": "stderr",
     "output_type": "stream",
     "text": []
    },
    {
     "name": "stdout",
     "output_type": "stream",
     "text": [
      "boundary (singular) fit: see ?isSingular \n",
      "\n",
      "Linear mixed model fit by maximum likelihood  ['lmerMod']\n",
      "Formula: mind_numeric~wSMI_1_mean+wSMI_1_std+wSMI_2_mean+wSMI_2_std+wSMI_4_mean+wSMI_4_std+wSMI_8_mean+wSMI_8_std+p_e_1_mean+p_e_1_std+p_e_2_mean+p_e_2_std+p_e_4_mean+p_e_4_std+p_e_8_mean+p_e_8_std+k_mean+k_std+se_mean+se_std+msf_std+sef90_std+sef95_std+b_std+b_n_std+g_std+g_n_std+t_std+t_n_std+d_mean+d_std+d_n_std+a_n_std+a_std+CNV_mean+CNV_std+P1_mean+P1_std+P3a_mean+P3a_std+P3b_mean+P3b_std+(1|participant)\n",
      "\n",
      "Family: binomial\t Inference: parametric\n",
      "\n",
      "Number of observations: 429\t Groups: {'participant': 22.0}\n",
      "\n",
      "Log-likelihood: -279.927 \t AIC: 647.854\n",
      "\n",
      "Random effects:\n",
      "\n",
      "                    Name  Var  Std\n",
      "participant  (Intercept)  0.0  0.0\n",
      "\n",
      "No random effect correlations specified\n",
      "\n",
      "Fixed effects:\n",
      "\n"
     ]
    },
    {
     "name": "stderr",
     "output_type": "stream",
     "text": []
    },
    {
     "name": "stdout",
     "output_type": "stream",
     "text": [
      "boundary (singular) fit: see ?isSingular \n",
      "\n",
      "Linear mixed model fit by maximum likelihood  ['lmerMod']\n",
      "Formula: mind_numeric~wSMI_1_mean+wSMI_1_std+wSMI_2_mean+wSMI_2_std+wSMI_4_mean+wSMI_4_std+wSMI_8_mean+wSMI_8_std+p_e_1_mean+p_e_1_std+p_e_2_mean+p_e_2_std+p_e_4_mean+p_e_4_std+p_e_8_mean+p_e_8_std+k_mean+k_std+se_mean+se_std+msf_std+sef90_std+sef95_std+b_std+b_n_std+g_std+g_n_std+t_std+t_n_std+d_mean+d_std+d_n_std+a_n_std+a_std+CNV_mean+CNV_std+P1_mean+P1_std+P3a_mean+P3a_std+P3b_mean+P3b_std+(1|participant)\n",
      "\n",
      "Family: binomial\t Inference: parametric\n",
      "\n",
      "Number of observations: 429\t Groups: {'participant': 22.0}\n",
      "\n",
      "Log-likelihood: -273.424 \t AIC: 634.847\n",
      "\n",
      "Random effects:\n",
      "\n",
      "                    Name  Var  Std\n",
      "participant  (Intercept)  0.0  0.0\n",
      "\n",
      "No random effect correlations specified\n",
      "\n",
      "Fixed effects:\n",
      "\n"
     ]
    },
    {
     "name": "stderr",
     "output_type": "stream",
     "text": []
    },
    {
     "name": "stdout",
     "output_type": "stream",
     "text": [
      "boundary (singular) fit: see ?isSingular \n",
      "\n",
      "Linear mixed model fit by maximum likelihood  ['lmerMod']\n",
      "Formula: mind_numeric~wSMI_1_mean+wSMI_1_std+wSMI_2_mean+wSMI_2_std+wSMI_4_mean+wSMI_4_std+wSMI_8_mean+wSMI_8_std+p_e_1_mean+p_e_1_std+p_e_2_mean+p_e_2_std+p_e_4_mean+p_e_4_std+p_e_8_mean+p_e_8_std+k_mean+k_std+se_mean+se_std+msf_std+sef90_std+sef95_std+b_std+b_n_std+g_std+g_n_std+t_std+t_n_std+d_mean+d_std+d_n_std+a_n_std+a_std+CNV_mean+CNV_std+P1_mean+P1_std+P3a_mean+P3a_std+P3b_mean+P3b_std+(1|participant)\n",
      "\n",
      "Family: binomial\t Inference: parametric\n",
      "\n",
      "Number of observations: 429\t Groups: {'participant': 22.0}\n",
      "\n",
      "Log-likelihood: -267.076 \t AIC: 622.153\n",
      "\n",
      "Random effects:\n",
      "\n",
      "                    Name  Var  Std\n",
      "participant  (Intercept)  0.0  0.0\n",
      "\n",
      "No random effect correlations specified\n",
      "\n",
      "Fixed effects:\n",
      "\n"
     ]
    },
    {
     "name": "stderr",
     "output_type": "stream",
     "text": []
    },
    {
     "name": "stdout",
     "output_type": "stream",
     "text": [
      "boundary (singular) fit: see ?isSingular \n",
      "\n",
      "Linear mixed model fit by maximum likelihood  ['lmerMod']\n",
      "Formula: mind_numeric~wSMI_1_mean+wSMI_1_std+wSMI_2_mean+wSMI_2_std+wSMI_4_mean+wSMI_4_std+wSMI_8_mean+wSMI_8_std+p_e_1_mean+p_e_1_std+p_e_2_mean+p_e_2_std+p_e_4_mean+p_e_4_std+p_e_8_mean+p_e_8_std+k_mean+k_std+se_mean+se_std+msf_std+sef90_std+sef95_std+b_std+b_n_std+g_std+g_n_std+t_std+t_n_std+d_mean+d_std+d_n_std+a_n_std+a_std+CNV_mean+CNV_std+P1_mean+P1_std+P3a_mean+P3a_std+P3b_mean+P3b_std+(1|participant)\n",
      "\n",
      "Family: binomial\t Inference: parametric\n",
      "\n",
      "Number of observations: 429\t Groups: {'participant': 22.0}\n",
      "\n",
      "Log-likelihood: -274.195 \t AIC: 636.390\n",
      "\n",
      "Random effects:\n",
      "\n",
      "                    Name  Var  Std\n",
      "participant  (Intercept)  0.0  0.0\n",
      "\n",
      "No random effect correlations specified\n",
      "\n",
      "Fixed effects:\n",
      "\n"
     ]
    },
    {
     "name": "stderr",
     "output_type": "stream",
     "text": []
    },
    {
     "name": "stdout",
     "output_type": "stream",
     "text": [
      "boundary (singular) fit: see ?isSingular \n",
      "\n",
      "Linear mixed model fit by maximum likelihood  ['lmerMod']\n",
      "Formula: mind_numeric~wSMI_1_mean+wSMI_1_std+wSMI_2_mean+wSMI_2_std+wSMI_4_mean+wSMI_4_std+wSMI_8_mean+wSMI_8_std+p_e_1_mean+p_e_1_std+p_e_2_mean+p_e_2_std+p_e_4_mean+p_e_4_std+p_e_8_mean+p_e_8_std+k_mean+k_std+se_mean+se_std+msf_std+sef90_std+sef95_std+b_std+b_n_std+g_std+g_n_std+t_std+t_n_std+d_mean+d_std+d_n_std+a_n_std+a_std+CNV_mean+CNV_std+P1_mean+P1_std+P3a_mean+P3a_std+P3b_mean+P3b_std+(1|participant)\n",
      "\n",
      "Family: binomial\t Inference: parametric\n",
      "\n",
      "Number of observations: 429\t Groups: {'participant': 22.0}\n",
      "\n",
      "Log-likelihood: -276.143 \t AIC: 640.286\n",
      "\n",
      "Random effects:\n",
      "\n",
      "                    Name  Var  Std\n",
      "participant  (Intercept)  0.0  0.0\n",
      "\n",
      "No random effect correlations specified\n",
      "\n",
      "Fixed effects:\n",
      "\n"
     ]
    },
    {
     "name": "stderr",
     "output_type": "stream",
     "text": []
    },
    {
     "name": "stdout",
     "output_type": "stream",
     "text": [
      "[1] \"failure to converge in 10000 evaluations\"\n",
      "[2] \" \\n\"                                     \n",
      "\n",
      "unable to evaluate scaled gradient \n",
      "\n",
      "Model failed to converge: degenerate  Hessian with 4 negative eigenvalues \n",
      "\n",
      "Linear mixed model fit by maximum likelihood  ['lmerMod']\n",
      "Formula: mind_numeric~wSMI_1_mean+wSMI_1_std+wSMI_2_mean+wSMI_2_std+wSMI_4_mean+wSMI_4_std+wSMI_8_mean+wSMI_8_std+p_e_1_mean+p_e_1_std+p_e_2_mean+p_e_2_std+p_e_4_mean+p_e_4_std+p_e_8_mean+p_e_8_std+k_mean+k_std+se_mean+se_std+msf_std+sef90_std+sef95_std+b_std+b_n_std+g_std+g_n_std+t_std+t_n_std+d_mean+d_std+d_n_std+a_n_std+a_std+CNV_mean+CNV_std+P1_mean+P1_std+P3a_mean+P3a_std+P3b_mean+P3b_std+(1|participant)\n",
      "\n",
      "Family: binomial\t Inference: parametric\n",
      "\n",
      "Number of observations: 429\t Groups: {'participant': 22.0}\n",
      "\n",
      "Log-likelihood: -268.700 \t AIC: 625.400\n",
      "\n",
      "Random effects:\n",
      "\n",
      "                    Name    Var    Std\n",
      "participant  (Intercept)  0.002  0.044\n",
      "\n",
      "No random effect correlations specified\n",
      "\n",
      "Fixed effects:\n",
      "\n"
     ]
    },
    {
     "name": "stderr",
     "output_type": "stream",
     "text": []
    },
    {
     "name": "stdout",
     "output_type": "stream",
     "text": [
      "boundary (singular) fit: see ?isSingular \n",
      "\n",
      "Linear mixed model fit by maximum likelihood  ['lmerMod']\n",
      "Formula: mind_numeric~wSMI_1_mean+wSMI_1_std+wSMI_2_mean+wSMI_2_std+wSMI_4_mean+wSMI_4_std+wSMI_8_mean+wSMI_8_std+p_e_1_mean+p_e_1_std+p_e_2_mean+p_e_2_std+p_e_4_mean+p_e_4_std+p_e_8_mean+p_e_8_std+k_mean+k_std+se_mean+se_std+msf_std+sef90_std+sef95_std+b_std+b_n_std+g_std+g_n_std+t_std+t_n_std+d_mean+d_std+d_n_std+a_n_std+a_std+CNV_mean+CNV_std+P1_mean+P1_std+P3a_mean+P3a_std+P3b_mean+P3b_std+(1|participant)\n",
      "\n",
      "Family: binomial\t Inference: parametric\n",
      "\n",
      "Number of observations: 429\t Groups: {'participant': 22.0}\n",
      "\n",
      "Log-likelihood: -276.200 \t AIC: 640.400\n",
      "\n",
      "Random effects:\n",
      "\n",
      "                    Name  Var  Std\n",
      "participant  (Intercept)  0.0  0.0\n",
      "\n",
      "No random effect correlations specified\n",
      "\n",
      "Fixed effects:\n",
      "\n"
     ]
    },
    {
     "name": "stderr",
     "output_type": "stream",
     "text": []
    },
    {
     "name": "stdout",
     "output_type": "stream",
     "text": [
      "boundary (singular) fit: see ?isSingular \n",
      "\n",
      "Linear mixed model fit by maximum likelihood  ['lmerMod']\n",
      "Formula: mind_numeric~wSMI_1_mean+wSMI_1_std+wSMI_2_mean+wSMI_2_std+wSMI_4_mean+wSMI_4_std+wSMI_8_mean+wSMI_8_std+p_e_1_mean+p_e_1_std+p_e_2_mean+p_e_2_std+p_e_4_mean+p_e_4_std+p_e_8_mean+p_e_8_std+k_mean+k_std+se_mean+se_std+msf_std+sef90_std+sef95_std+b_std+b_n_std+g_std+g_n_std+t_std+t_n_std+d_mean+d_std+d_n_std+a_n_std+a_std+CNV_mean+CNV_std+P1_mean+P1_std+P3a_mean+P3a_std+P3b_mean+P3b_std+(1|participant)\n",
      "\n",
      "Family: binomial\t Inference: parametric\n",
      "\n",
      "Number of observations: 429\t Groups: {'participant': 22.0}\n",
      "\n",
      "Log-likelihood: -272.588 \t AIC: 633.177\n",
      "\n",
      "Random effects:\n",
      "\n",
      "                    Name  Var  Std\n",
      "participant  (Intercept)  0.0  0.0\n",
      "\n",
      "No random effect correlations specified\n",
      "\n",
      "Fixed effects:\n",
      "\n"
     ]
    },
    {
     "name": "stderr",
     "output_type": "stream",
     "text": []
    },
    {
     "name": "stdout",
     "output_type": "stream",
     "text": [
      "boundary (singular) fit: see ?isSingular \n",
      "\n",
      "Linear mixed model fit by maximum likelihood  ['lmerMod']\n",
      "Formula: mind_numeric~wSMI_1_mean+wSMI_1_std+wSMI_2_mean+wSMI_2_std+wSMI_4_mean+wSMI_4_std+wSMI_8_mean+wSMI_8_std+p_e_1_mean+p_e_1_std+p_e_2_mean+p_e_2_std+p_e_4_mean+p_e_4_std+p_e_8_mean+p_e_8_std+k_mean+k_std+se_mean+se_std+msf_std+sef90_std+sef95_std+b_std+b_n_std+g_std+g_n_std+t_std+t_n_std+d_mean+d_std+d_n_std+a_n_std+a_std+CNV_mean+CNV_std+P1_mean+P1_std+P3a_mean+P3a_std+P3b_mean+P3b_std+(1|participant)\n",
      "\n",
      "Family: binomial\t Inference: parametric\n",
      "\n",
      "Number of observations: 429\t Groups: {'participant': 22.0}\n",
      "\n",
      "Log-likelihood: -277.989 \t AIC: 643.978\n",
      "\n",
      "Random effects:\n",
      "\n",
      "                    Name  Var  Std\n",
      "participant  (Intercept)  0.0  0.0\n",
      "\n",
      "No random effect correlations specified\n",
      "\n",
      "Fixed effects:\n",
      "\n"
     ]
    },
    {
     "name": "stderr",
     "output_type": "stream",
     "text": []
    },
    {
     "name": "stdout",
     "output_type": "stream",
     "text": [
      "boundary (singular) fit: see ?isSingular \n",
      "\n",
      "Linear mixed model fit by maximum likelihood  ['lmerMod']\n",
      "Formula: mind_numeric~wSMI_1_mean+wSMI_1_std+wSMI_2_mean+wSMI_2_std+wSMI_4_mean+wSMI_4_std+wSMI_8_mean+wSMI_8_std+p_e_1_mean+p_e_1_std+p_e_2_mean+p_e_2_std+p_e_4_mean+p_e_4_std+p_e_8_mean+p_e_8_std+k_mean+k_std+se_mean+se_std+msf_std+sef90_std+sef95_std+b_std+b_n_std+g_std+g_n_std+t_std+t_n_std+d_mean+d_std+d_n_std+a_n_std+a_std+CNV_mean+CNV_std+P1_mean+P1_std+P3a_mean+P3a_std+P3b_mean+P3b_std+(1|participant)\n",
      "\n",
      "Family: binomial\t Inference: parametric\n",
      "\n",
      "Number of observations: 429\t Groups: {'participant': 22.0}\n",
      "\n",
      "Log-likelihood: -267.172 \t AIC: 622.345\n",
      "\n",
      "Random effects:\n",
      "\n",
      "                    Name  Var  Std\n",
      "participant  (Intercept)  0.0  0.0\n",
      "\n",
      "No random effect correlations specified\n",
      "\n",
      "Fixed effects:\n",
      "\n"
     ]
    },
    {
     "name": "stderr",
     "output_type": "stream",
     "text": []
    },
    {
     "name": "stdout",
     "output_type": "stream",
     "text": [
      "boundary (singular) fit: see ?isSingular \n",
      "\n",
      "Linear mixed model fit by maximum likelihood  ['lmerMod']\n",
      "Formula: mind_numeric~wSMI_1_mean+wSMI_1_std+wSMI_2_mean+wSMI_2_std+wSMI_4_mean+wSMI_4_std+wSMI_8_mean+wSMI_8_std+p_e_1_mean+p_e_1_std+p_e_2_mean+p_e_2_std+p_e_4_mean+p_e_4_std+p_e_8_mean+p_e_8_std+k_mean+k_std+se_mean+se_std+msf_std+sef90_std+sef95_std+b_std+b_n_std+g_std+g_n_std+t_std+t_n_std+d_mean+d_std+d_n_std+a_n_std+a_std+CNV_mean+CNV_std+P1_mean+P1_std+P3a_mean+P3a_std+P3b_mean+P3b_std+(1|participant)\n",
      "\n",
      "Family: binomial\t Inference: parametric\n",
      "\n",
      "Number of observations: 429\t Groups: {'participant': 22.0}\n",
      "\n",
      "Log-likelihood: -279.665 \t AIC: 647.331\n",
      "\n",
      "Random effects:\n",
      "\n",
      "                    Name  Var  Std\n",
      "participant  (Intercept)  0.0  0.0\n",
      "\n",
      "No random effect correlations specified\n",
      "\n",
      "Fixed effects:\n",
      "\n"
     ]
    },
    {
     "name": "stderr",
     "output_type": "stream",
     "text": []
    },
    {
     "name": "stdout",
     "output_type": "stream",
     "text": [
      "boundary (singular) fit: see ?isSingular \n",
      "\n",
      "Linear mixed model fit by maximum likelihood  ['lmerMod']\n",
      "Formula: mind_numeric~wSMI_1_mean+wSMI_1_std+wSMI_2_mean+wSMI_2_std+wSMI_4_mean+wSMI_4_std+wSMI_8_mean+wSMI_8_std+p_e_1_mean+p_e_1_std+p_e_2_mean+p_e_2_std+p_e_4_mean+p_e_4_std+p_e_8_mean+p_e_8_std+k_mean+k_std+se_mean+se_std+msf_std+sef90_std+sef95_std+b_std+b_n_std+g_std+g_n_std+t_std+t_n_std+d_mean+d_std+d_n_std+a_n_std+a_std+CNV_mean+CNV_std+P1_mean+P1_std+P3a_mean+P3a_std+P3b_mean+P3b_std+(1|participant)\n",
      "\n",
      "Family: binomial\t Inference: parametric\n",
      "\n",
      "Number of observations: 429\t Groups: {'participant': 22.0}\n",
      "\n",
      "Log-likelihood: -270.608 \t AIC: 629.215\n",
      "\n",
      "Random effects:\n",
      "\n",
      "                    Name  Var  Std\n",
      "participant  (Intercept)  0.0  0.0\n",
      "\n",
      "No random effect correlations specified\n",
      "\n",
      "Fixed effects:\n",
      "\n"
     ]
    },
    {
     "name": "stderr",
     "output_type": "stream",
     "text": []
    },
    {
     "name": "stdout",
     "output_type": "stream",
     "text": [
      "boundary (singular) fit: see ?isSingular \n",
      "\n",
      "Linear mixed model fit by maximum likelihood  ['lmerMod']\n",
      "Formula: mind_numeric~wSMI_1_mean+wSMI_1_std+wSMI_2_mean+wSMI_2_std+wSMI_4_mean+wSMI_4_std+wSMI_8_mean+wSMI_8_std+p_e_1_mean+p_e_1_std+p_e_2_mean+p_e_2_std+p_e_4_mean+p_e_4_std+p_e_8_mean+p_e_8_std+k_mean+k_std+se_mean+se_std+msf_std+sef90_std+sef95_std+b_std+b_n_std+g_std+g_n_std+t_std+t_n_std+d_mean+d_std+d_n_std+a_n_std+a_std+CNV_mean+CNV_std+P1_mean+P1_std+P3a_mean+P3a_std+P3b_mean+P3b_std+(1|participant)\n",
      "\n",
      "Family: binomial\t Inference: parametric\n",
      "\n",
      "Number of observations: 429\t Groups: {'participant': 22.0}\n",
      "\n",
      "Log-likelihood: -274.059 \t AIC: 636.118\n",
      "\n",
      "Random effects:\n",
      "\n",
      "                    Name  Var  Std\n",
      "participant  (Intercept)  0.0  0.0\n",
      "\n",
      "No random effect correlations specified\n",
      "\n",
      "Fixed effects:\n",
      "\n"
     ]
    },
    {
     "name": "stderr",
     "output_type": "stream",
     "text": []
    },
    {
     "name": "stdout",
     "output_type": "stream",
     "text": [
      "boundary (singular) fit: see ?isSingular \n",
      "\n",
      "Linear mixed model fit by maximum likelihood  ['lmerMod']\n",
      "Formula: mind_numeric~wSMI_1_mean+wSMI_1_std+wSMI_2_mean+wSMI_2_std+wSMI_4_mean+wSMI_4_std+wSMI_8_mean+wSMI_8_std+p_e_1_mean+p_e_1_std+p_e_2_mean+p_e_2_std+p_e_4_mean+p_e_4_std+p_e_8_mean+p_e_8_std+k_mean+k_std+se_mean+se_std+msf_std+sef90_std+sef95_std+b_std+b_n_std+g_std+g_n_std+t_std+t_n_std+d_mean+d_std+d_n_std+a_n_std+a_std+CNV_mean+CNV_std+P1_mean+P1_std+P3a_mean+P3a_std+P3b_mean+P3b_std+(1|participant)\n",
      "\n",
      "Family: binomial\t Inference: parametric\n",
      "\n",
      "Number of observations: 429\t Groups: {'participant': 22.0}\n",
      "\n",
      "Log-likelihood: -280.227 \t AIC: 648.453\n",
      "\n",
      "Random effects:\n",
      "\n",
      "                    Name  Var  Std\n",
      "participant  (Intercept)  0.0  0.0\n",
      "\n",
      "No random effect correlations specified\n",
      "\n",
      "Fixed effects:\n",
      "\n",
      "boundary (singular) fit: see ?isSingular \n",
      "\n"
     ]
    },
    {
     "name": "stderr",
     "output_type": "stream",
     "text": []
    },
    {
     "name": "stdout",
     "output_type": "stream",
     "text": [
      "Linear mixed model fit by maximum likelihood  ['lmerMod']\n",
      "Formula: mind_numeric~wSMI_1_mean+wSMI_1_std+wSMI_2_mean+wSMI_2_std+wSMI_4_mean+wSMI_4_std+wSMI_8_mean+wSMI_8_std+p_e_1_mean+p_e_1_std+p_e_2_mean+p_e_2_std+p_e_4_mean+p_e_4_std+p_e_8_mean+p_e_8_std+k_mean+k_std+se_mean+se_std+msf_std+sef90_std+sef95_std+b_std+b_n_std+g_std+g_n_std+t_std+t_n_std+d_mean+d_std+d_n_std+a_n_std+a_std+CNV_mean+CNV_std+P1_mean+P1_std+P3a_mean+P3a_std+P3b_mean+P3b_std+(1|participant)\n",
      "\n",
      "Family: binomial\t Inference: parametric\n",
      "\n",
      "Number of observations: 429\t Groups: {'participant': 22.0}\n",
      "\n",
      "Log-likelihood: -279.040 \t AIC: 646.079\n",
      "\n",
      "Random effects:\n",
      "\n",
      "                    Name  Var  Std\n",
      "participant  (Intercept)  0.0  0.0\n",
      "\n",
      "No random effect correlations specified\n",
      "\n",
      "Fixed effects:\n",
      "\n"
     ]
    },
    {
     "name": "stderr",
     "output_type": "stream",
     "text": []
    },
    {
     "name": "stdout",
     "output_type": "stream",
     "text": [
      "boundary (singular) fit: see ?isSingular \n",
      "\n",
      "Linear mixed model fit by maximum likelihood  ['lmerMod']\n",
      "Formula: mind_numeric~wSMI_1_mean+wSMI_1_std+wSMI_2_mean+wSMI_2_std+wSMI_4_mean+wSMI_4_std+wSMI_8_mean+wSMI_8_std+p_e_1_mean+p_e_1_std+p_e_2_mean+p_e_2_std+p_e_4_mean+p_e_4_std+p_e_8_mean+p_e_8_std+k_mean+k_std+se_mean+se_std+msf_std+sef90_std+sef95_std+b_std+b_n_std+g_std+g_n_std+t_std+t_n_std+d_mean+d_std+d_n_std+a_n_std+a_std+CNV_mean+CNV_std+P1_mean+P1_std+P3a_mean+P3a_std+P3b_mean+P3b_std+(1|participant)\n",
      "\n",
      "Family: binomial\t Inference: parametric\n",
      "\n",
      "Number of observations: 429\t Groups: {'participant': 22.0}\n",
      "\n",
      "Log-likelihood: -271.926 \t AIC: 631.852\n",
      "\n",
      "Random effects:\n",
      "\n",
      "                    Name  Var  Std\n",
      "participant  (Intercept)  0.0  0.0\n",
      "\n",
      "No random effect correlations specified\n",
      "\n",
      "Fixed effects:\n",
      "\n"
     ]
    },
    {
     "name": "stderr",
     "output_type": "stream",
     "text": []
    },
    {
     "name": "stdout",
     "output_type": "stream",
     "text": [
      "boundary (singular) fit: see ?isSingular \n",
      "\n",
      "Linear mixed model fit by maximum likelihood  ['lmerMod']\n",
      "Formula: mind_numeric~wSMI_1_mean+wSMI_1_std+wSMI_2_mean+wSMI_2_std+wSMI_4_mean+wSMI_4_std+wSMI_8_mean+wSMI_8_std+p_e_1_mean+p_e_1_std+p_e_2_mean+p_e_2_std+p_e_4_mean+p_e_4_std+p_e_8_mean+p_e_8_std+k_mean+k_std+se_mean+se_std+msf_std+sef90_std+sef95_std+b_std+b_n_std+g_std+g_n_std+t_std+t_n_std+d_mean+d_std+d_n_std+a_n_std+a_std+CNV_mean+CNV_std+P1_mean+P1_std+P3a_mean+P3a_std+P3b_mean+P3b_std+(1|participant)\n",
      "\n",
      "Family: binomial\t Inference: parametric\n",
      "\n",
      "Number of observations: 429\t Groups: {'participant': 22.0}\n",
      "\n",
      "Log-likelihood: -277.642 \t AIC: 643.283\n",
      "\n",
      "Random effects:\n",
      "\n",
      "                    Name  Var  Std\n",
      "participant  (Intercept)  0.0  0.0\n",
      "\n",
      "No random effect correlations specified\n",
      "\n",
      "Fixed effects:\n",
      "\n"
     ]
    },
    {
     "name": "stderr",
     "output_type": "stream",
     "text": []
    },
    {
     "name": "stdout",
     "output_type": "stream",
     "text": [
      "boundary (singular) fit: see ?isSingular \n",
      "\n",
      "Linear mixed model fit by maximum likelihood  ['lmerMod']\n",
      "Formula: mind_numeric~wSMI_1_mean+wSMI_1_std+wSMI_2_mean+wSMI_2_std+wSMI_4_mean+wSMI_4_std+wSMI_8_mean+wSMI_8_std+p_e_1_mean+p_e_1_std+p_e_2_mean+p_e_2_std+p_e_4_mean+p_e_4_std+p_e_8_mean+p_e_8_std+k_mean+k_std+se_mean+se_std+msf_std+sef90_std+sef95_std+b_std+b_n_std+g_std+g_n_std+t_std+t_n_std+d_mean+d_std+d_n_std+a_n_std+a_std+CNV_mean+CNV_std+P1_mean+P1_std+P3a_mean+P3a_std+P3b_mean+P3b_std+(1|participant)\n",
      "\n",
      "Family: binomial\t Inference: parametric\n",
      "\n",
      "Number of observations: 429\t Groups: {'participant': 22.0}\n",
      "\n",
      "Log-likelihood: -270.026 \t AIC: 628.052\n",
      "\n",
      "Random effects:\n",
      "\n",
      "                    Name  Var  Std\n",
      "participant  (Intercept)  0.0  0.0\n",
      "\n",
      "No random effect correlations specified\n",
      "\n",
      "Fixed effects:\n",
      "\n"
     ]
    },
    {
     "name": "stderr",
     "output_type": "stream",
     "text": []
    },
    {
     "name": "stdout",
     "output_type": "stream",
     "text": [
      "boundary (singular) fit: see ?isSingular \n",
      "\n",
      "Linear mixed model fit by maximum likelihood  ['lmerMod']\n",
      "Formula: mind_numeric~wSMI_1_mean+wSMI_1_std+wSMI_2_mean+wSMI_2_std+wSMI_4_mean+wSMI_4_std+wSMI_8_mean+wSMI_8_std+p_e_1_mean+p_e_1_std+p_e_2_mean+p_e_2_std+p_e_4_mean+p_e_4_std+p_e_8_mean+p_e_8_std+k_mean+k_std+se_mean+se_std+msf_std+sef90_std+sef95_std+b_std+b_n_std+g_std+g_n_std+t_std+t_n_std+d_mean+d_std+d_n_std+a_n_std+a_std+CNV_mean+CNV_std+P1_mean+P1_std+P3a_mean+P3a_std+P3b_mean+P3b_std+(1|participant)\n",
      "\n",
      "Family: binomial\t Inference: parametric\n",
      "\n",
      "Number of observations: 429\t Groups: {'participant': 22.0}\n",
      "\n",
      "Log-likelihood: -270.615 \t AIC: 629.229\n",
      "\n",
      "Random effects:\n",
      "\n",
      "                    Name  Var  Std\n",
      "participant  (Intercept)  0.0  0.0\n",
      "\n",
      "No random effect correlations specified\n",
      "\n",
      "Fixed effects:\n",
      "\n",
      "[1] \"failure to converge in 10000 evaluations\"\n",
      "[2] \" \\n\"                                     \n",
      "\n",
      "unable to evaluate scaled gradient \n",
      "\n",
      "Model failed to converge: degenerate  Hessian with 2 negative eigenvalues \n",
      "\n",
      "Linear mixed model fit by maximum likelihood  ['lmerMod']\n",
      "Formula: mind_numeric~wSMI_1_mean+wSMI_1_std+wSMI_2_mean+wSMI_2_std+wSMI_4_mean+wSMI_4_std+wSMI_8_mean+wSMI_8_std+p_e_1_mean+p_e_1_std+p_e_2_mean+p_e_2_std+p_e_4_mean+p_e_4_std+p_e_8_mean+p_e_8_std+k_mean+k_std+se_mean+se_std+msf_std+sef90_std+sef95_std+b_std+b_n_std+g_std+g_n_std+t_std+t_n_std+d_mean+d_std+d_n_std+a_n_std+a_std+CNV_mean+CNV_std+P1_mean+P1_std+P3a_mean+P3a_std+P3b_mean+P3b_std+(1|participant)\n",
      "\n",
      "Family: binomial\t Inference: parametric\n",
      "\n",
      "Number of observations: 429\t Groups: {'participant': 22.0}\n",
      "\n",
      "Log-likelihood: -273.549 \t AIC: 635.098\n",
      "\n",
      "Random effects:\n",
      "\n",
      "                    Name    Var    Std\n",
      "participant  (Intercept)  0.057  0.239\n",
      "\n",
      "No random effect correlations specified\n",
      "\n",
      "Fixed effects:\n",
      "\n"
     ]
    },
    {
     "name": "stderr",
     "output_type": "stream",
     "text": []
    },
    {
     "name": "stdout",
     "output_type": "stream",
     "text": [
      "[1] \"failure to converge in 10000 evaluations\"\n",
      "[2] \" \\n\"                                     \n",
      "\n",
      "unable to evaluate scaled gradient \n",
      "\n",
      "Model failed to converge: degenerate  Hessian with 3 negative eigenvalues \n",
      "\n",
      "Linear mixed model fit by maximum likelihood  ['lmerMod']\n",
      "Formula: mind_numeric~wSMI_1_mean+wSMI_1_std+wSMI_2_mean+wSMI_2_std+wSMI_4_mean+wSMI_4_std+wSMI_8_mean+wSMI_8_std+p_e_1_mean+p_e_1_std+p_e_2_mean+p_e_2_std+p_e_4_mean+p_e_4_std+p_e_8_mean+p_e_8_std+k_mean+k_std+se_mean+se_std+msf_std+sef90_std+sef95_std+b_std+b_n_std+g_std+g_n_std+t_std+t_n_std+d_mean+d_std+d_n_std+a_n_std+a_std+CNV_mean+CNV_std+P1_mean+P1_std+P3a_mean+P3a_std+P3b_mean+P3b_std+(1|participant)\n",
      "\n",
      "Family: binomial\t Inference: parametric\n",
      "\n",
      "Number of observations: 429\t Groups: {'participant': 22.0}\n",
      "\n",
      "Log-likelihood: -277.973 \t AIC: 643.946\n",
      "\n",
      "Random effects:\n",
      "\n",
      "                    Name    Var    Std\n",
      "participant  (Intercept)  0.027  0.166\n",
      "\n",
      "No random effect correlations specified\n",
      "\n",
      "Fixed effects:\n",
      "\n"
     ]
    },
    {
     "name": "stderr",
     "output_type": "stream",
     "text": []
    },
    {
     "name": "stdout",
     "output_type": "stream",
     "text": [
      "boundary (singular) fit: see ?isSingular \n",
      "\n",
      "Linear mixed model fit by maximum likelihood  ['lmerMod']\n",
      "Formula: mind_numeric~wSMI_1_mean+wSMI_1_std+wSMI_2_mean+wSMI_2_std+wSMI_4_mean+wSMI_4_std+wSMI_8_mean+wSMI_8_std+p_e_1_mean+p_e_1_std+p_e_2_mean+p_e_2_std+p_e_4_mean+p_e_4_std+p_e_8_mean+p_e_8_std+k_mean+k_std+se_mean+se_std+msf_std+sef90_std+sef95_std+b_std+b_n_std+g_std+g_n_std+t_std+t_n_std+d_mean+d_std+d_n_std+a_n_std+a_std+CNV_mean+CNV_std+P1_mean+P1_std+P3a_mean+P3a_std+P3b_mean+P3b_std+(1|participant)\n",
      "\n",
      "Family: binomial\t Inference: parametric\n",
      "\n",
      "Number of observations: 429\t Groups: {'participant': 22.0}\n",
      "\n",
      "Log-likelihood: -269.966 \t AIC: 627.932\n",
      "\n",
      "Random effects:\n",
      "\n",
      "                    Name  Var  Std\n",
      "participant  (Intercept)  0.0  0.0\n",
      "\n",
      "No random effect correlations specified\n",
      "\n",
      "Fixed effects:\n",
      "\n"
     ]
    },
    {
     "name": "stderr",
     "output_type": "stream",
     "text": []
    },
    {
     "name": "stdout",
     "output_type": "stream",
     "text": [
      "boundary (singular) fit: see ?isSingular \n",
      "\n",
      "Linear mixed model fit by maximum likelihood  ['lmerMod']\n",
      "Formula: mind_numeric~wSMI_1_mean+wSMI_1_std+wSMI_2_mean+wSMI_2_std+wSMI_4_mean+wSMI_4_std+wSMI_8_mean+wSMI_8_std+p_e_1_mean+p_e_1_std+p_e_2_mean+p_e_2_std+p_e_4_mean+p_e_4_std+p_e_8_mean+p_e_8_std+k_mean+k_std+se_mean+se_std+msf_std+sef90_std+sef95_std+b_std+b_n_std+g_std+g_n_std+t_std+t_n_std+d_mean+d_std+d_n_std+a_n_std+a_std+CNV_mean+CNV_std+P1_mean+P1_std+P3a_mean+P3a_std+P3b_mean+P3b_std+(1|participant)\n",
      "\n",
      "Family: binomial\t Inference: parametric\n",
      "\n",
      "Number of observations: 429\t Groups: {'participant': 22.0}\n",
      "\n",
      "Log-likelihood: -270.414 \t AIC: 628.828\n",
      "\n",
      "Random effects:\n",
      "\n",
      "                    Name  Var  Std\n",
      "participant  (Intercept)  0.0  0.0\n",
      "\n",
      "No random effect correlations specified\n",
      "\n",
      "Fixed effects:\n",
      "\n"
     ]
    },
    {
     "name": "stderr",
     "output_type": "stream",
     "text": []
    },
    {
     "name": "stdout",
     "output_type": "stream",
     "text": [
      "boundary (singular) fit: see ?isSingular \n",
      "\n",
      "Linear mixed model fit by maximum likelihood  ['lmerMod']\n",
      "Formula: mind_numeric~wSMI_1_mean+wSMI_1_std+wSMI_2_mean+wSMI_2_std+wSMI_4_mean+wSMI_4_std+wSMI_8_mean+wSMI_8_std+p_e_1_mean+p_e_1_std+p_e_2_mean+p_e_2_std+p_e_4_mean+p_e_4_std+p_e_8_mean+p_e_8_std+k_mean+k_std+se_mean+se_std+msf_std+sef90_std+sef95_std+b_std+b_n_std+g_std+g_n_std+t_std+t_n_std+d_mean+d_std+d_n_std+a_n_std+a_std+CNV_mean+CNV_std+P1_mean+P1_std+P3a_mean+P3a_std+P3b_mean+P3b_std+(1|participant)\n",
      "\n",
      "Family: binomial\t Inference: parametric\n",
      "\n",
      "Number of observations: 429\t Groups: {'participant': 22.0}\n",
      "\n",
      "Log-likelihood: -272.199 \t AIC: 632.399\n",
      "\n",
      "Random effects:\n",
      "\n",
      "                    Name  Var  Std\n",
      "participant  (Intercept)  0.0  0.0\n",
      "\n",
      "No random effect correlations specified\n",
      "\n",
      "Fixed effects:\n",
      "\n"
     ]
    },
    {
     "name": "stderr",
     "output_type": "stream",
     "text": []
    },
    {
     "name": "stdout",
     "output_type": "stream",
     "text": [
      "boundary (singular) fit: see ?isSingular \n",
      "\n",
      "Linear mixed model fit by maximum likelihood  ['lmerMod']\n",
      "Formula: mind_numeric~wSMI_1_mean+wSMI_1_std+wSMI_2_mean+wSMI_2_std+wSMI_4_mean+wSMI_4_std+wSMI_8_mean+wSMI_8_std+p_e_1_mean+p_e_1_std+p_e_2_mean+p_e_2_std+p_e_4_mean+p_e_4_std+p_e_8_mean+p_e_8_std+k_mean+k_std+se_mean+se_std+msf_std+sef90_std+sef95_std+b_std+b_n_std+g_std+g_n_std+t_std+t_n_std+d_mean+d_std+d_n_std+a_n_std+a_std+CNV_mean+CNV_std+P1_mean+P1_std+P3a_mean+P3a_std+P3b_mean+P3b_std+(1|participant)\n",
      "\n",
      "Family: binomial\t Inference: parametric\n",
      "\n",
      "Number of observations: 429\t Groups: {'participant': 22.0}\n",
      "\n",
      "Log-likelihood: -275.908 \t AIC: 639.815\n",
      "\n",
      "Random effects:\n",
      "\n",
      "                    Name  Var  Std\n",
      "participant  (Intercept)  0.0  0.0\n",
      "\n",
      "No random effect correlations specified\n",
      "\n",
      "Fixed effects:\n",
      "\n"
     ]
    },
    {
     "name": "stderr",
     "output_type": "stream",
     "text": []
    },
    {
     "name": "stdout",
     "output_type": "stream",
     "text": [
      "boundary (singular) fit: see ?isSingular \n",
      "\n",
      "Linear mixed model fit by maximum likelihood  ['lmerMod']\n",
      "Formula: mind_numeric~wSMI_1_mean+wSMI_1_std+wSMI_2_mean+wSMI_2_std+wSMI_4_mean+wSMI_4_std+wSMI_8_mean+wSMI_8_std+p_e_1_mean+p_e_1_std+p_e_2_mean+p_e_2_std+p_e_4_mean+p_e_4_std+p_e_8_mean+p_e_8_std+k_mean+k_std+se_mean+se_std+msf_std+sef90_std+sef95_std+b_std+b_n_std+g_std+g_n_std+t_std+t_n_std+d_mean+d_std+d_n_std+a_n_std+a_std+CNV_mean+CNV_std+P1_mean+P1_std+P3a_mean+P3a_std+P3b_mean+P3b_std+(1|participant)\n",
      "\n",
      "Family: binomial\t Inference: parametric\n",
      "\n",
      "Number of observations: 429\t Groups: {'participant': 22.0}\n",
      "\n",
      "Log-likelihood: -286.240 \t AIC: 660.479\n",
      "\n",
      "Random effects:\n",
      "\n",
      "                    Name  Var  Std\n",
      "participant  (Intercept)  0.0  0.0\n",
      "\n",
      "No random effect correlations specified\n",
      "\n",
      "Fixed effects:\n",
      "\n"
     ]
    },
    {
     "name": "stderr",
     "output_type": "stream",
     "text": []
    },
    {
     "name": "stdout",
     "output_type": "stream",
     "text": [
      "boundary (singular) fit: see ?isSingular \n",
      "\n",
      "Linear mixed model fit by maximum likelihood  ['lmerMod']\n",
      "Formula: mind_numeric~wSMI_1_mean+wSMI_1_std+wSMI_2_mean+wSMI_2_std+wSMI_4_mean+wSMI_4_std+wSMI_8_mean+wSMI_8_std+p_e_1_mean+p_e_1_std+p_e_2_mean+p_e_2_std+p_e_4_mean+p_e_4_std+p_e_8_mean+p_e_8_std+k_mean+k_std+se_mean+se_std+msf_std+sef90_std+sef95_std+b_std+b_n_std+g_std+g_n_std+t_std+t_n_std+d_mean+d_std+d_n_std+a_n_std+a_std+CNV_mean+CNV_std+P1_mean+P1_std+P3a_mean+P3a_std+P3b_mean+P3b_std+(1|participant)\n",
      "\n",
      "Family: binomial\t Inference: parametric\n",
      "\n",
      "Number of observations: 429\t Groups: {'participant': 22.0}\n",
      "\n",
      "Log-likelihood: -274.902 \t AIC: 637.805\n",
      "\n",
      "Random effects:\n",
      "\n",
      "                    Name  Var  Std\n",
      "participant  (Intercept)  0.0  0.0\n",
      "\n",
      "No random effect correlations specified\n",
      "\n",
      "Fixed effects:\n",
      "\n"
     ]
    },
    {
     "name": "stderr",
     "output_type": "stream",
     "text": []
    },
    {
     "name": "stdout",
     "output_type": "stream",
     "text": [
      "boundary (singular) fit: see ?isSingular \n",
      "\n",
      "Linear mixed model fit by maximum likelihood  ['lmerMod']\n",
      "Formula: mind_numeric~wSMI_1_mean+wSMI_1_std+wSMI_2_mean+wSMI_2_std+wSMI_4_mean+wSMI_4_std+wSMI_8_mean+wSMI_8_std+p_e_1_mean+p_e_1_std+p_e_2_mean+p_e_2_std+p_e_4_mean+p_e_4_std+p_e_8_mean+p_e_8_std+k_mean+k_std+se_mean+se_std+msf_std+sef90_std+sef95_std+b_std+b_n_std+g_std+g_n_std+t_std+t_n_std+d_mean+d_std+d_n_std+a_n_std+a_std+CNV_mean+CNV_std+P1_mean+P1_std+P3a_mean+P3a_std+P3b_mean+P3b_std+(1|participant)\n",
      "\n",
      "Family: binomial\t Inference: parametric\n",
      "\n",
      "Number of observations: 429\t Groups: {'participant': 22.0}\n",
      "\n",
      "Log-likelihood: -281.485 \t AIC: 650.969\n",
      "\n",
      "Random effects:\n",
      "\n",
      "                    Name  Var  Std\n",
      "participant  (Intercept)  0.0  0.0\n",
      "\n",
      "No random effect correlations specified\n",
      "\n",
      "Fixed effects:\n",
      "\n"
     ]
    },
    {
     "name": "stderr",
     "output_type": "stream",
     "text": []
    },
    {
     "name": "stdout",
     "output_type": "stream",
     "text": [
      "boundary (singular) fit: see ?isSingular \n",
      "\n",
      "Linear mixed model fit by maximum likelihood  ['lmerMod']\n",
      "Formula: mind_numeric~wSMI_1_mean+wSMI_1_std+wSMI_2_mean+wSMI_2_std+wSMI_4_mean+wSMI_4_std+wSMI_8_mean+wSMI_8_std+p_e_1_mean+p_e_1_std+p_e_2_mean+p_e_2_std+p_e_4_mean+p_e_4_std+p_e_8_mean+p_e_8_std+k_mean+k_std+se_mean+se_std+msf_std+sef90_std+sef95_std+b_std+b_n_std+g_std+g_n_std+t_std+t_n_std+d_mean+d_std+d_n_std+a_n_std+a_std+CNV_mean+CNV_std+P1_mean+P1_std+P3a_mean+P3a_std+P3b_mean+P3b_std+(1|participant)\n",
      "\n",
      "Family: binomial\t Inference: parametric\n",
      "\n",
      "Number of observations: 429\t Groups: {'participant': 22.0}\n",
      "\n",
      "Log-likelihood: -279.842 \t AIC: 647.685\n",
      "\n",
      "Random effects:\n",
      "\n",
      "                    Name  Var  Std\n",
      "participant  (Intercept)  0.0  0.0\n",
      "\n",
      "No random effect correlations specified\n",
      "\n",
      "Fixed effects:\n",
      "\n"
     ]
    },
    {
     "name": "stderr",
     "output_type": "stream",
     "text": []
    },
    {
     "name": "stdout",
     "output_type": "stream",
     "text": [
      "[1] \"failure to converge in 10000 evaluations\"\n",
      "[2] \" \\n\"                                     \n",
      "\n",
      "unable to evaluate scaled gradient \n",
      "\n",
      "Model failed to converge: degenerate  Hessian with 4 negative eigenvalues \n",
      "\n",
      "Linear mixed model fit by maximum likelihood  ['lmerMod']\n",
      "Formula: mind_numeric~wSMI_1_mean+wSMI_1_std+wSMI_2_mean+wSMI_2_std+wSMI_4_mean+wSMI_4_std+wSMI_8_mean+wSMI_8_std+p_e_1_mean+p_e_1_std+p_e_2_mean+p_e_2_std+p_e_4_mean+p_e_4_std+p_e_8_mean+p_e_8_std+k_mean+k_std+se_mean+se_std+msf_std+sef90_std+sef95_std+b_std+b_n_std+g_std+g_n_std+t_std+t_n_std+d_mean+d_std+d_n_std+a_n_std+a_std+CNV_mean+CNV_std+P1_mean+P1_std+P3a_mean+P3a_std+P3b_mean+P3b_std+(1|participant)\n",
      "\n",
      "Family: binomial\t Inference: parametric\n",
      "\n",
      "Number of observations: 429\t Groups: {'participant': 22.0}\n",
      "\n",
      "Log-likelihood: -278.905 \t AIC: 645.810\n",
      "\n",
      "Random effects:\n",
      "\n",
      "                    Name    Var    Std\n",
      "participant  (Intercept)  0.049  0.221\n",
      "\n",
      "No random effect correlations specified\n",
      "\n",
      "Fixed effects:\n",
      "\n"
     ]
    },
    {
     "name": "stderr",
     "output_type": "stream",
     "text": []
    },
    {
     "name": "stdout",
     "output_type": "stream",
     "text": [
      "boundary (singular) fit: see ?isSingular \n",
      "\n",
      "Linear mixed model fit by maximum likelihood  ['lmerMod']\n",
      "Formula: mind_numeric~wSMI_1_mean+wSMI_1_std+wSMI_2_mean+wSMI_2_std+wSMI_4_mean+wSMI_4_std+wSMI_8_mean+wSMI_8_std+p_e_1_mean+p_e_1_std+p_e_2_mean+p_e_2_std+p_e_4_mean+p_e_4_std+p_e_8_mean+p_e_8_std+k_mean+k_std+se_mean+se_std+msf_std+sef90_std+sef95_std+b_std+b_n_std+g_std+g_n_std+t_std+t_n_std+d_mean+d_std+d_n_std+a_n_std+a_std+CNV_mean+CNV_std+P1_mean+P1_std+P3a_mean+P3a_std+P3b_mean+P3b_std+(1|participant)\n",
      "\n",
      "Family: binomial\t Inference: parametric\n",
      "\n",
      "Number of observations: 429\t Groups: {'participant': 22.0}\n",
      "\n",
      "Log-likelihood: -272.346 \t AIC: 632.693\n",
      "\n",
      "Random effects:\n",
      "\n",
      "                    Name  Var  Std\n",
      "participant  (Intercept)  0.0  0.0\n",
      "\n",
      "No random effect correlations specified\n",
      "\n",
      "Fixed effects:\n",
      "\n"
     ]
    },
    {
     "name": "stderr",
     "output_type": "stream",
     "text": []
    },
    {
     "name": "stdout",
     "output_type": "stream",
     "text": [
      "boundary (singular) fit: see ?isSingular \n",
      "\n",
      "Linear mixed model fit by maximum likelihood  ['lmerMod']\n",
      "Formula: mind_numeric~wSMI_1_mean+wSMI_1_std+wSMI_2_mean+wSMI_2_std+wSMI_4_mean+wSMI_4_std+wSMI_8_mean+wSMI_8_std+p_e_1_mean+p_e_1_std+p_e_2_mean+p_e_2_std+p_e_4_mean+p_e_4_std+p_e_8_mean+p_e_8_std+k_mean+k_std+se_mean+se_std+msf_std+sef90_std+sef95_std+b_std+b_n_std+g_std+g_n_std+t_std+t_n_std+d_mean+d_std+d_n_std+a_n_std+a_std+CNV_mean+CNV_std+P1_mean+P1_std+P3a_mean+P3a_std+P3b_mean+P3b_std+(1|participant)\n",
      "\n",
      "Family: binomial\t Inference: parametric\n",
      "\n",
      "Number of observations: 429\t Groups: {'participant': 22.0}\n",
      "\n",
      "Log-likelihood: -266.289 \t AIC: 620.579\n",
      "\n",
      "Random effects:\n",
      "\n",
      "                    Name  Var  Std\n",
      "participant  (Intercept)  0.0  0.0\n",
      "\n",
      "No random effect correlations specified\n",
      "\n",
      "Fixed effects:\n",
      "\n"
     ]
    },
    {
     "name": "stderr",
     "output_type": "stream",
     "text": []
    },
    {
     "name": "stdout",
     "output_type": "stream",
     "text": [
      "boundary (singular) fit: see ?isSingular \n",
      "\n",
      "Linear mixed model fit by maximum likelihood  ['lmerMod']\n",
      "Formula: mind_numeric~wSMI_1_mean+wSMI_1_std+wSMI_2_mean+wSMI_2_std+wSMI_4_mean+wSMI_4_std+wSMI_8_mean+wSMI_8_std+p_e_1_mean+p_e_1_std+p_e_2_mean+p_e_2_std+p_e_4_mean+p_e_4_std+p_e_8_mean+p_e_8_std+k_mean+k_std+se_mean+se_std+msf_std+sef90_std+sef95_std+b_std+b_n_std+g_std+g_n_std+t_std+t_n_std+d_mean+d_std+d_n_std+a_n_std+a_std+CNV_mean+CNV_std+P1_mean+P1_std+P3a_mean+P3a_std+P3b_mean+P3b_std+(1|participant)\n",
      "\n",
      "Family: binomial\t Inference: parametric\n",
      "\n",
      "Number of observations: 429\t Groups: {'participant': 22.0}\n",
      "\n",
      "Log-likelihood: -274.903 \t AIC: 637.805\n",
      "\n",
      "Random effects:\n",
      "\n",
      "                    Name  Var  Std\n",
      "participant  (Intercept)  0.0  0.0\n",
      "\n",
      "No random effect correlations specified\n",
      "\n",
      "Fixed effects:\n",
      "\n",
      "boundary (singular) fit: see ?isSingular \n",
      "\n",
      "Linear mixed model fit by maximum likelihood  ['lmerMod']\n",
      "Formula: mind_numeric~wSMI_1_mean+wSMI_1_std+wSMI_2_mean+wSMI_2_std+wSMI_4_mean+wSMI_4_std+wSMI_8_mean+wSMI_8_std+p_e_1_mean+p_e_1_std+p_e_2_mean+p_e_2_std+p_e_4_mean+p_e_4_std+p_e_8_mean+p_e_8_std+k_mean+k_std+se_mean+se_std+msf_std+sef90_std+sef95_std+b_std+b_n_std+g_std+g_n_std+t_std+t_n_std+d_mean+d_std+d_n_std+a_n_std+a_std+CNV_mean+CNV_std+P1_mean+P1_std+P3a_mean+P3a_std+P3b_mean+P3b_std+(1|participant)\n",
      "\n",
      "Family: binomial\t Inference: parametric\n",
      "\n",
      "Number of observations: 429\t Groups: {'participant': 22.0}\n",
      "\n",
      "Log-likelihood: -277.193 \t AIC: 642.386\n",
      "\n",
      "Random effects:\n",
      "\n",
      "                    Name  Var  Std\n",
      "participant  (Intercept)  0.0  0.0\n",
      "\n",
      "No random effect correlations specified\n",
      "\n",
      "Fixed effects:\n",
      "\n"
     ]
    },
    {
     "name": "stderr",
     "output_type": "stream",
     "text": []
    },
    {
     "name": "stdout",
     "output_type": "stream",
     "text": [
      "boundary (singular) fit: see ?isSingular \n",
      "\n",
      "Linear mixed model fit by maximum likelihood  ['lmerMod']\n",
      "Formula: mind_numeric~wSMI_1_mean+wSMI_1_std+wSMI_2_mean+wSMI_2_std+wSMI_4_mean+wSMI_4_std+wSMI_8_mean+wSMI_8_std+p_e_1_mean+p_e_1_std+p_e_2_mean+p_e_2_std+p_e_4_mean+p_e_4_std+p_e_8_mean+p_e_8_std+k_mean+k_std+se_mean+se_std+msf_std+sef90_std+sef95_std+b_std+b_n_std+g_std+g_n_std+t_std+t_n_std+d_mean+d_std+d_n_std+a_n_std+a_std+CNV_mean+CNV_std+P1_mean+P1_std+P3a_mean+P3a_std+P3b_mean+P3b_std+(1|participant)\n",
      "\n",
      "Family: binomial\t Inference: parametric\n",
      "\n",
      "Number of observations: 429\t Groups: {'participant': 22.0}\n",
      "\n",
      "Log-likelihood: -271.099 \t AIC: 630.197\n",
      "\n",
      "Random effects:\n",
      "\n",
      "                    Name  Var  Std\n",
      "participant  (Intercept)  0.0  0.0\n",
      "\n",
      "No random effect correlations specified\n",
      "\n",
      "Fixed effects:\n",
      "\n"
     ]
    },
    {
     "name": "stderr",
     "output_type": "stream",
     "text": []
    },
    {
     "name": "stdout",
     "output_type": "stream",
     "text": [
      "boundary (singular) fit: see ?isSingular \n",
      "\n",
      "Linear mixed model fit by maximum likelihood  ['lmerMod']\n",
      "Formula: mind_numeric~wSMI_1_mean+wSMI_1_std+wSMI_2_mean+wSMI_2_std+wSMI_4_mean+wSMI_4_std+wSMI_8_mean+wSMI_8_std+p_e_1_mean+p_e_1_std+p_e_2_mean+p_e_2_std+p_e_4_mean+p_e_4_std+p_e_8_mean+p_e_8_std+k_mean+k_std+se_mean+se_std+msf_std+sef90_std+sef95_std+b_std+b_n_std+g_std+g_n_std+t_std+t_n_std+d_mean+d_std+d_n_std+a_n_std+a_std+CNV_mean+CNV_std+P1_mean+P1_std+P3a_mean+P3a_std+P3b_mean+P3b_std+(1|participant)\n",
      "\n",
      "Family: binomial\t Inference: parametric\n",
      "\n",
      "Number of observations: 429\t Groups: {'participant': 22.0}\n",
      "\n",
      "Log-likelihood: -271.855 \t AIC: 631.710\n",
      "\n",
      "Random effects:\n",
      "\n",
      "                    Name  Var  Std\n",
      "participant  (Intercept)  0.0  0.0\n",
      "\n",
      "No random effect correlations specified\n",
      "\n",
      "Fixed effects:\n",
      "\n"
     ]
    },
    {
     "name": "stderr",
     "output_type": "stream",
     "text": []
    },
    {
     "name": "stdout",
     "output_type": "stream",
     "text": [
      "boundary (singular) fit: see ?isSingular \n",
      "\n",
      "Linear mixed model fit by maximum likelihood  ['lmerMod']\n",
      "Formula: mind_numeric~wSMI_1_mean+wSMI_1_std+wSMI_2_mean+wSMI_2_std+wSMI_4_mean+wSMI_4_std+wSMI_8_mean+wSMI_8_std+p_e_1_mean+p_e_1_std+p_e_2_mean+p_e_2_std+p_e_4_mean+p_e_4_std+p_e_8_mean+p_e_8_std+k_mean+k_std+se_mean+se_std+msf_std+sef90_std+sef95_std+b_std+b_n_std+g_std+g_n_std+t_std+t_n_std+d_mean+d_std+d_n_std+a_n_std+a_std+CNV_mean+CNV_std+P1_mean+P1_std+P3a_mean+P3a_std+P3b_mean+P3b_std+(1|participant)\n",
      "\n",
      "Family: binomial\t Inference: parametric\n",
      "\n",
      "Number of observations: 429\t Groups: {'participant': 22.0}\n",
      "\n",
      "Log-likelihood: -277.064 \t AIC: 642.127\n",
      "\n",
      "Random effects:\n",
      "\n",
      "                    Name  Var  Std\n",
      "participant  (Intercept)  0.0  0.0\n",
      "\n",
      "No random effect correlations specified\n",
      "\n",
      "Fixed effects:\n",
      "\n"
     ]
    },
    {
     "name": "stderr",
     "output_type": "stream",
     "text": []
    },
    {
     "name": "stdout",
     "output_type": "stream",
     "text": [
      "boundary (singular) fit: see ?isSingular \n",
      "\n",
      "Linear mixed model fit by maximum likelihood  ['lmerMod']\n",
      "Formula: mind_numeric~wSMI_1_mean+wSMI_1_std+wSMI_2_mean+wSMI_2_std+wSMI_4_mean+wSMI_4_std+wSMI_8_mean+wSMI_8_std+p_e_1_mean+p_e_1_std+p_e_2_mean+p_e_2_std+p_e_4_mean+p_e_4_std+p_e_8_mean+p_e_8_std+k_mean+k_std+se_mean+se_std+msf_std+sef90_std+sef95_std+b_std+b_n_std+g_std+g_n_std+t_std+t_n_std+d_mean+d_std+d_n_std+a_n_std+a_std+CNV_mean+CNV_std+P1_mean+P1_std+P3a_mean+P3a_std+P3b_mean+P3b_std+(1|participant)\n",
      "\n",
      "Family: binomial\t Inference: parametric\n",
      "\n",
      "Number of observations: 429\t Groups: {'participant': 22.0}\n",
      "\n",
      "Log-likelihood: -274.910 \t AIC: 637.821\n",
      "\n",
      "Random effects:\n",
      "\n",
      "                    Name  Var  Std\n",
      "participant  (Intercept)  0.0  0.0\n",
      "\n",
      "No random effect correlations specified\n",
      "\n",
      "Fixed effects:\n",
      "\n"
     ]
    },
    {
     "name": "stderr",
     "output_type": "stream",
     "text": []
    },
    {
     "name": "stdout",
     "output_type": "stream",
     "text": [
      "boundary (singular) fit: see ?isSingular \n",
      "\n",
      "Linear mixed model fit by maximum likelihood  ['lmerMod']\n",
      "Formula: mind_numeric~wSMI_1_mean+wSMI_1_std+wSMI_2_mean+wSMI_2_std+wSMI_4_mean+wSMI_4_std+wSMI_8_mean+wSMI_8_std+p_e_1_mean+p_e_1_std+p_e_2_mean+p_e_2_std+p_e_4_mean+p_e_4_std+p_e_8_mean+p_e_8_std+k_mean+k_std+se_mean+se_std+msf_std+sef90_std+sef95_std+b_std+b_n_std+g_std+g_n_std+t_std+t_n_std+d_mean+d_std+d_n_std+a_n_std+a_std+CNV_mean+CNV_std+P1_mean+P1_std+P3a_mean+P3a_std+P3b_mean+P3b_std+(1|participant)\n",
      "\n",
      "Family: binomial\t Inference: parametric\n",
      "\n",
      "Number of observations: 429\t Groups: {'participant': 22.0}\n",
      "\n",
      "Log-likelihood: -279.205 \t AIC: 646.409\n",
      "\n",
      "Random effects:\n",
      "\n",
      "                    Name  Var  Std\n",
      "participant  (Intercept)  0.0  0.0\n",
      "\n",
      "No random effect correlations specified\n",
      "\n",
      "Fixed effects:\n",
      "\n"
     ]
    },
    {
     "name": "stderr",
     "output_type": "stream",
     "text": []
    },
    {
     "name": "stdout",
     "output_type": "stream",
     "text": [
      "boundary (singular) fit: see ?isSingular \n",
      "\n",
      "Linear mixed model fit by maximum likelihood  ['lmerMod']\n",
      "Formula: mind_numeric~wSMI_1_mean+wSMI_1_std+wSMI_2_mean+wSMI_2_std+wSMI_4_mean+wSMI_4_std+wSMI_8_mean+wSMI_8_std+p_e_1_mean+p_e_1_std+p_e_2_mean+p_e_2_std+p_e_4_mean+p_e_4_std+p_e_8_mean+p_e_8_std+k_mean+k_std+se_mean+se_std+msf_std+sef90_std+sef95_std+b_std+b_n_std+g_std+g_n_std+t_std+t_n_std+d_mean+d_std+d_n_std+a_n_std+a_std+CNV_mean+CNV_std+P1_mean+P1_std+P3a_mean+P3a_std+P3b_mean+P3b_std+(1|participant)\n",
      "\n",
      "Family: binomial\t Inference: parametric\n",
      "\n",
      "Number of observations: 429\t Groups: {'participant': 22.0}\n",
      "\n",
      "Log-likelihood: -279.149 \t AIC: 646.298\n",
      "\n",
      "Random effects:\n",
      "\n",
      "                    Name  Var  Std\n",
      "participant  (Intercept)  0.0  0.0\n",
      "\n",
      "No random effect correlations specified\n",
      "\n",
      "Fixed effects:\n",
      "\n"
     ]
    },
    {
     "name": "stderr",
     "output_type": "stream",
     "text": []
    },
    {
     "name": "stdout",
     "output_type": "stream",
     "text": [
      "boundary (singular) fit: see ?isSingular \n",
      "\n",
      "Linear mixed model fit by maximum likelihood  ['lmerMod']\n",
      "Formula: mind_numeric~wSMI_1_mean+wSMI_1_std+wSMI_2_mean+wSMI_2_std+wSMI_4_mean+wSMI_4_std+wSMI_8_mean+wSMI_8_std+p_e_1_mean+p_e_1_std+p_e_2_mean+p_e_2_std+p_e_4_mean+p_e_4_std+p_e_8_mean+p_e_8_std+k_mean+k_std+se_mean+se_std+msf_std+sef90_std+sef95_std+b_std+b_n_std+g_std+g_n_std+t_std+t_n_std+d_mean+d_std+d_n_std+a_n_std+a_std+CNV_mean+CNV_std+P1_mean+P1_std+P3a_mean+P3a_std+P3b_mean+P3b_std+(1|participant)\n",
      "\n",
      "Family: binomial\t Inference: parametric\n",
      "\n",
      "Number of observations: 429\t Groups: {'participant': 22.0}\n",
      "\n",
      "Log-likelihood: -267.215 \t AIC: 622.429\n",
      "\n",
      "Random effects:\n",
      "\n",
      "                    Name  Var  Std\n",
      "participant  (Intercept)  0.0  0.0\n",
      "\n",
      "No random effect correlations specified\n",
      "\n",
      "Fixed effects:\n",
      "\n"
     ]
    },
    {
     "name": "stderr",
     "output_type": "stream",
     "text": []
    },
    {
     "name": "stdout",
     "output_type": "stream",
     "text": [
      "boundary (singular) fit: see ?isSingular \n",
      "\n",
      "Linear mixed model fit by maximum likelihood  ['lmerMod']\n",
      "Formula: mind_numeric~wSMI_1_mean+wSMI_1_std+wSMI_2_mean+wSMI_2_std+wSMI_4_mean+wSMI_4_std+wSMI_8_mean+wSMI_8_std+p_e_1_mean+p_e_1_std+p_e_2_mean+p_e_2_std+p_e_4_mean+p_e_4_std+p_e_8_mean+p_e_8_std+k_mean+k_std+se_mean+se_std+msf_std+sef90_std+sef95_std+b_std+b_n_std+g_std+g_n_std+t_std+t_n_std+d_mean+d_std+d_n_std+a_n_std+a_std+CNV_mean+CNV_std+P1_mean+P1_std+P3a_mean+P3a_std+P3b_mean+P3b_std+(1|participant)\n",
      "\n",
      "Family: binomial\t Inference: parametric\n",
      "\n",
      "Number of observations: 429\t Groups: {'participant': 22.0}\n",
      "\n",
      "Log-likelihood: -270.063 \t AIC: 628.125\n",
      "\n",
      "Random effects:\n",
      "\n",
      "                    Name  Var  Std\n",
      "participant  (Intercept)  0.0  0.0\n",
      "\n",
      "No random effect correlations specified\n",
      "\n",
      "Fixed effects:\n",
      "\n"
     ]
    },
    {
     "name": "stderr",
     "output_type": "stream",
     "text": []
    },
    {
     "name": "stdout",
     "output_type": "stream",
     "text": [
      "[1] \"failure to converge in 10000 evaluations\"\n",
      "[2] \" \\n\"                                     \n",
      "\n",
      "unable to evaluate scaled gradient \n",
      "\n",
      "Model failed to converge: degenerate  Hessian with 5 negative eigenvalues \n",
      "\n",
      "Linear mixed model fit by maximum likelihood  ['lmerMod']\n",
      "Formula: mind_numeric~wSMI_1_mean+wSMI_1_std+wSMI_2_mean+wSMI_2_std+wSMI_4_mean+wSMI_4_std+wSMI_8_mean+wSMI_8_std+p_e_1_mean+p_e_1_std+p_e_2_mean+p_e_2_std+p_e_4_mean+p_e_4_std+p_e_8_mean+p_e_8_std+k_mean+k_std+se_mean+se_std+msf_std+sef90_std+sef95_std+b_std+b_n_std+g_std+g_n_std+t_std+t_n_std+d_mean+d_std+d_n_std+a_n_std+a_std+CNV_mean+CNV_std+P1_mean+P1_std+P3a_mean+P3a_std+P3b_mean+P3b_std+(1|participant)\n",
      "\n",
      "Family: binomial\t Inference: parametric\n",
      "\n",
      "Number of observations: 429\t Groups: {'participant': 22.0}\n",
      "\n",
      "Log-likelihood: -269.998 \t AIC: 627.997\n",
      "\n",
      "Random effects:\n",
      "\n",
      "                    Name    Var    Std\n",
      "participant  (Intercept)  0.133  0.364\n",
      "\n",
      "No random effect correlations specified\n",
      "\n",
      "Fixed effects:\n",
      "\n",
      "boundary (singular) fit: see ?isSingular \n",
      "\n",
      "Linear mixed model fit by maximum likelihood  ['lmerMod']\n",
      "Formula: mind_numeric~wSMI_1_mean+wSMI_1_std+wSMI_2_mean+wSMI_2_std+wSMI_4_mean+wSMI_4_std+wSMI_8_mean+wSMI_8_std+p_e_1_mean+p_e_1_std+p_e_2_mean+p_e_2_std+p_e_4_mean+p_e_4_std+p_e_8_mean+p_e_8_std+k_mean+k_std+se_mean+se_std+msf_std+sef90_std+sef95_std+b_std+b_n_std+g_std+g_n_std+t_std+t_n_std+d_mean+d_std+d_n_std+a_n_std+a_std+CNV_mean+CNV_std+P1_mean+P1_std+P3a_mean+P3a_std+P3b_mean+P3b_std+(1|participant)\n",
      "\n",
      "Family: binomial\t Inference: parametric\n",
      "\n",
      "Number of observations: 429\t Groups: {'participant': 22.0}\n",
      "\n",
      "Log-likelihood: -277.528 \t AIC: 643.056\n",
      "\n",
      "Random effects:\n",
      "\n",
      "                    Name  Var  Std\n",
      "participant  (Intercept)  0.0  0.0\n",
      "\n",
      "No random effect correlations specified\n",
      "\n",
      "Fixed effects:\n",
      "\n"
     ]
    },
    {
     "name": "stderr",
     "output_type": "stream",
     "text": []
    },
    {
     "name": "stdout",
     "output_type": "stream",
     "text": [
      "[1] \"failure to converge in 10000 evaluations\"\n",
      "[2] \" \\n\"                                     \n",
      "\n",
      "unable to evaluate scaled gradient \n",
      "\n",
      "Model failed to converge: degenerate  Hessian with 3 negative eigenvalues \n",
      "\n",
      "Linear mixed model fit by maximum likelihood  ['lmerMod']\n",
      "Formula: mind_numeric~wSMI_1_mean+wSMI_1_std+wSMI_2_mean+wSMI_2_std+wSMI_4_mean+wSMI_4_std+wSMI_8_mean+wSMI_8_std+p_e_1_mean+p_e_1_std+p_e_2_mean+p_e_2_std+p_e_4_mean+p_e_4_std+p_e_8_mean+p_e_8_std+k_mean+k_std+se_mean+se_std+msf_std+sef90_std+sef95_std+b_std+b_n_std+g_std+g_n_std+t_std+t_n_std+d_mean+d_std+d_n_std+a_n_std+a_std+CNV_mean+CNV_std+P1_mean+P1_std+P3a_mean+P3a_std+P3b_mean+P3b_std+(1|participant)\n",
      "\n",
      "Family: binomial\t Inference: parametric\n",
      "\n",
      "Number of observations: 429\t Groups: {'participant': 22.0}\n",
      "\n",
      "Log-likelihood: -279.203 \t AIC: 646.407\n",
      "\n",
      "Random effects:\n",
      "\n",
      "                    Name    Var    Std\n",
      "participant  (Intercept)  0.018  0.134\n",
      "\n",
      "No random effect correlations specified\n",
      "\n",
      "Fixed effects:\n",
      "\n",
      "boundary (singular) fit: see ?isSingular \n",
      "\n",
      "Linear mixed model fit by maximum likelihood  ['lmerMod']\n",
      "Formula: mind_numeric~wSMI_1_mean+wSMI_1_std+wSMI_2_mean+wSMI_2_std+wSMI_4_mean+wSMI_4_std+wSMI_8_mean+wSMI_8_std+p_e_1_mean+p_e_1_std+p_e_2_mean+p_e_2_std+p_e_4_mean+p_e_4_std+p_e_8_mean+p_e_8_std+k_mean+k_std+se_mean+se_std+msf_std+sef90_std+sef95_std+b_std+b_n_std+g_std+g_n_std+t_std+t_n_std+d_mean+d_std+d_n_std+a_n_std+a_std+CNV_mean+CNV_std+P1_mean+P1_std+P3a_mean+P3a_std+P3b_mean+P3b_std+(1|participant)\n",
      "\n",
      "Family: binomial\t Inference: parametric\n",
      "\n",
      "Number of observations: 429\t Groups: {'participant': 22.0}\n",
      "\n",
      "Log-likelihood: -282.367 \t AIC: 652.735\n",
      "\n",
      "Random effects:\n",
      "\n",
      "                    Name  Var  Std\n",
      "participant  (Intercept)  0.0  0.0\n",
      "\n",
      "No random effect correlations specified\n",
      "\n",
      "Fixed effects:\n",
      "\n"
     ]
    },
    {
     "name": "stderr",
     "output_type": "stream",
     "text": []
    },
    {
     "name": "stdout",
     "output_type": "stream",
     "text": [
      "boundary (singular) fit: see ?isSingular \n",
      "\n",
      "Linear mixed model fit by maximum likelihood  ['lmerMod']\n",
      "Formula: mind_numeric~wSMI_1_mean+wSMI_1_std+wSMI_2_mean+wSMI_2_std+wSMI_4_mean+wSMI_4_std+wSMI_8_mean+wSMI_8_std+p_e_1_mean+p_e_1_std+p_e_2_mean+p_e_2_std+p_e_4_mean+p_e_4_std+p_e_8_mean+p_e_8_std+k_mean+k_std+se_mean+se_std+msf_std+sef90_std+sef95_std+b_std+b_n_std+g_std+g_n_std+t_std+t_n_std+d_mean+d_std+d_n_std+a_n_std+a_std+CNV_mean+CNV_std+P1_mean+P1_std+P3a_mean+P3a_std+P3b_mean+P3b_std+(1|participant)\n",
      "\n",
      "Family: binomial\t Inference: parametric\n",
      "\n",
      "Number of observations: 429\t Groups: {'participant': 22.0}\n",
      "\n",
      "Log-likelihood: -273.934 \t AIC: 635.868\n",
      "\n",
      "Random effects:\n",
      "\n",
      "                    Name  Var  Std\n",
      "participant  (Intercept)  0.0  0.0\n",
      "\n",
      "No random effect correlations specified\n",
      "\n",
      "Fixed effects:\n",
      "\n"
     ]
    },
    {
     "name": "stderr",
     "output_type": "stream",
     "text": []
    },
    {
     "name": "stdout",
     "output_type": "stream",
     "text": [
      "boundary (singular) fit: see ?isSingular \n",
      "\n",
      "Linear mixed model fit by maximum likelihood  ['lmerMod']\n",
      "Formula: mind_numeric~wSMI_1_mean+wSMI_1_std+wSMI_2_mean+wSMI_2_std+wSMI_4_mean+wSMI_4_std+wSMI_8_mean+wSMI_8_std+p_e_1_mean+p_e_1_std+p_e_2_mean+p_e_2_std+p_e_4_mean+p_e_4_std+p_e_8_mean+p_e_8_std+k_mean+k_std+se_mean+se_std+msf_std+sef90_std+sef95_std+b_std+b_n_std+g_std+g_n_std+t_std+t_n_std+d_mean+d_std+d_n_std+a_n_std+a_std+CNV_mean+CNV_std+P1_mean+P1_std+P3a_mean+P3a_std+P3b_mean+P3b_std+(1|participant)\n",
      "\n",
      "Family: binomial\t Inference: parametric\n",
      "\n",
      "Number of observations: 429\t Groups: {'participant': 22.0}\n",
      "\n",
      "Log-likelihood: -280.055 \t AIC: 648.111\n",
      "\n",
      "Random effects:\n",
      "\n",
      "                    Name  Var  Std\n",
      "participant  (Intercept)  0.0  0.0\n",
      "\n",
      "No random effect correlations specified\n",
      "\n",
      "Fixed effects:\n",
      "\n"
     ]
    },
    {
     "name": "stderr",
     "output_type": "stream",
     "text": []
    },
    {
     "name": "stdout",
     "output_type": "stream",
     "text": [
      "boundary (singular) fit: see ?isSingular \n",
      "\n",
      "Linear mixed model fit by maximum likelihood  ['lmerMod']\n",
      "Formula: mind_numeric~wSMI_1_mean+wSMI_1_std+wSMI_2_mean+wSMI_2_std+wSMI_4_mean+wSMI_4_std+wSMI_8_mean+wSMI_8_std+p_e_1_mean+p_e_1_std+p_e_2_mean+p_e_2_std+p_e_4_mean+p_e_4_std+p_e_8_mean+p_e_8_std+k_mean+k_std+se_mean+se_std+msf_std+sef90_std+sef95_std+b_std+b_n_std+g_std+g_n_std+t_std+t_n_std+d_mean+d_std+d_n_std+a_n_std+a_std+CNV_mean+CNV_std+P1_mean+P1_std+P3a_mean+P3a_std+P3b_mean+P3b_std+(1|participant)\n",
      "\n",
      "Family: binomial\t Inference: parametric\n",
      "\n",
      "Number of observations: 429\t Groups: {'participant': 22.0}\n",
      "\n",
      "Log-likelihood: -275.895 \t AIC: 639.791\n",
      "\n",
      "Random effects:\n",
      "\n",
      "                    Name  Var  Std\n",
      "participant  (Intercept)  0.0  0.0\n",
      "\n",
      "No random effect correlations specified\n",
      "\n",
      "Fixed effects:\n",
      "\n"
     ]
    },
    {
     "name": "stderr",
     "output_type": "stream",
     "text": []
    },
    {
     "name": "stdout",
     "output_type": "stream",
     "text": [
      "boundary (singular) fit: see ?isSingular \n",
      "\n",
      "Linear mixed model fit by maximum likelihood  ['lmerMod']\n",
      "Formula: mind_numeric~wSMI_1_mean+wSMI_1_std+wSMI_2_mean+wSMI_2_std+wSMI_4_mean+wSMI_4_std+wSMI_8_mean+wSMI_8_std+p_e_1_mean+p_e_1_std+p_e_2_mean+p_e_2_std+p_e_4_mean+p_e_4_std+p_e_8_mean+p_e_8_std+k_mean+k_std+se_mean+se_std+msf_std+sef90_std+sef95_std+b_std+b_n_std+g_std+g_n_std+t_std+t_n_std+d_mean+d_std+d_n_std+a_n_std+a_std+CNV_mean+CNV_std+P1_mean+P1_std+P3a_mean+P3a_std+P3b_mean+P3b_std+(1|participant)\n",
      "\n",
      "Family: binomial\t Inference: parametric\n",
      "\n",
      "Number of observations: 429\t Groups: {'participant': 22.0}\n",
      "\n",
      "Log-likelihood: -268.812 \t AIC: 625.625\n",
      "\n",
      "Random effects:\n",
      "\n",
      "                    Name  Var  Std\n",
      "participant  (Intercept)  0.0  0.0\n",
      "\n",
      "No random effect correlations specified\n",
      "\n",
      "Fixed effects:\n",
      "\n"
     ]
    },
    {
     "name": "stderr",
     "output_type": "stream",
     "text": []
    },
    {
     "name": "stdout",
     "output_type": "stream",
     "text": [
      "boundary (singular) fit: see ?isSingular \n",
      "\n",
      "Linear mixed model fit by maximum likelihood  ['lmerMod']\n",
      "Formula: mind_numeric~wSMI_1_mean+wSMI_1_std+wSMI_2_mean+wSMI_2_std+wSMI_4_mean+wSMI_4_std+wSMI_8_mean+wSMI_8_std+p_e_1_mean+p_e_1_std+p_e_2_mean+p_e_2_std+p_e_4_mean+p_e_4_std+p_e_8_mean+p_e_8_std+k_mean+k_std+se_mean+se_std+msf_std+sef90_std+sef95_std+b_std+b_n_std+g_std+g_n_std+t_std+t_n_std+d_mean+d_std+d_n_std+a_n_std+a_std+CNV_mean+CNV_std+P1_mean+P1_std+P3a_mean+P3a_std+P3b_mean+P3b_std+(1|participant)\n",
      "\n",
      "Family: binomial\t Inference: parametric\n",
      "\n",
      "Number of observations: 429\t Groups: {'participant': 22.0}\n",
      "\n",
      "Log-likelihood: -273.141 \t AIC: 634.282\n",
      "\n",
      "Random effects:\n",
      "\n",
      "                    Name  Var  Std\n",
      "participant  (Intercept)  0.0  0.0\n",
      "\n",
      "No random effect correlations specified\n",
      "\n",
      "Fixed effects:\n",
      "\n",
      "boundary (singular) fit: see ?isSingular \n",
      "\n",
      "Linear mixed model fit by maximum likelihood  ['lmerMod']\n",
      "Formula: mind_numeric~wSMI_1_mean+wSMI_1_std+wSMI_2_mean+wSMI_2_std+wSMI_4_mean+wSMI_4_std+wSMI_8_mean+wSMI_8_std+p_e_1_mean+p_e_1_std+p_e_2_mean+p_e_2_std+p_e_4_mean+p_e_4_std+p_e_8_mean+p_e_8_std+k_mean+k_std+se_mean+se_std+msf_std+sef90_std+sef95_std+b_std+b_n_std+g_std+g_n_std+t_std+t_n_std+d_mean+d_std+d_n_std+a_n_std+a_std+CNV_mean+CNV_std+P1_mean+P1_std+P3a_mean+P3a_std+P3b_mean+P3b_std+(1|participant)\n",
      "\n",
      "Family: binomial\t Inference: parametric\n",
      "\n",
      "Number of observations: 429\t Groups: {'participant': 22.0}\n",
      "\n",
      "Log-likelihood: -272.991 \t AIC: 633.983\n",
      "\n",
      "Random effects:\n",
      "\n",
      "                    Name  Var  Std\n",
      "participant  (Intercept)  0.0  0.0\n",
      "\n",
      "No random effect correlations specified\n",
      "\n",
      "Fixed effects:\n",
      "\n"
     ]
    },
    {
     "name": "stderr",
     "output_type": "stream",
     "text": []
    },
    {
     "name": "stdout",
     "output_type": "stream",
     "text": [
      "boundary (singular) fit: see ?isSingular \n",
      "\n",
      "Linear mixed model fit by maximum likelihood  ['lmerMod']\n",
      "Formula: mind_numeric~wSMI_1_mean+wSMI_1_std+wSMI_2_mean+wSMI_2_std+wSMI_4_mean+wSMI_4_std+wSMI_8_mean+wSMI_8_std+p_e_1_mean+p_e_1_std+p_e_2_mean+p_e_2_std+p_e_4_mean+p_e_4_std+p_e_8_mean+p_e_8_std+k_mean+k_std+se_mean+se_std+msf_std+sef90_std+sef95_std+b_std+b_n_std+g_std+g_n_std+t_std+t_n_std+d_mean+d_std+d_n_std+a_n_std+a_std+CNV_mean+CNV_std+P1_mean+P1_std+P3a_mean+P3a_std+P3b_mean+P3b_std+(1|participant)\n",
      "\n",
      "Family: binomial\t Inference: parametric\n",
      "\n",
      "Number of observations: 429\t Groups: {'participant': 22.0}\n",
      "\n",
      "Log-likelihood: -266.347 \t AIC: 620.694\n",
      "\n",
      "Random effects:\n",
      "\n",
      "                    Name  Var  Std\n",
      "participant  (Intercept)  0.0  0.0\n",
      "\n",
      "No random effect correlations specified\n",
      "\n",
      "Fixed effects:\n",
      "\n"
     ]
    },
    {
     "name": "stderr",
     "output_type": "stream",
     "text": []
    },
    {
     "name": "stdout",
     "output_type": "stream",
     "text": [
      "boundary (singular) fit: see ?isSingular \n",
      "\n",
      "Linear mixed model fit by maximum likelihood  ['lmerMod']\n",
      "Formula: mind_numeric~wSMI_1_mean+wSMI_1_std+wSMI_2_mean+wSMI_2_std+wSMI_4_mean+wSMI_4_std+wSMI_8_mean+wSMI_8_std+p_e_1_mean+p_e_1_std+p_e_2_mean+p_e_2_std+p_e_4_mean+p_e_4_std+p_e_8_mean+p_e_8_std+k_mean+k_std+se_mean+se_std+msf_std+sef90_std+sef95_std+b_std+b_n_std+g_std+g_n_std+t_std+t_n_std+d_mean+d_std+d_n_std+a_n_std+a_std+CNV_mean+CNV_std+P1_mean+P1_std+P3a_mean+P3a_std+P3b_mean+P3b_std+(1|participant)\n",
      "\n",
      "Family: binomial\t Inference: parametric\n",
      "\n",
      "Number of observations: 429\t Groups: {'participant': 22.0}\n",
      "\n",
      "Log-likelihood: -272.859 \t AIC: 633.718\n",
      "\n",
      "Random effects:\n",
      "\n",
      "                    Name  Var  Std\n",
      "participant  (Intercept)  0.0  0.0\n",
      "\n",
      "No random effect correlations specified\n",
      "\n",
      "Fixed effects:\n",
      "\n"
     ]
    },
    {
     "name": "stderr",
     "output_type": "stream",
     "text": []
    },
    {
     "name": "stdout",
     "output_type": "stream",
     "text": [
      "[1] \"failure to converge in 10000 evaluations\"\n",
      "[2] \" \\n\"                                     \n",
      "\n",
      "[1] \"Model failed to converge with max|grad| = 0.0795147 (tol = 0.002, component 1)\"\n",
      "[2] \" \\n\"                                                                           \n",
      "\n",
      "[1] \"Model is nearly unidentifiable: large eigenvalue ratio\\n - Rescale variables?\"\n",
      "[2] \" \\n\"                                                                          \n",
      "\n",
      "Linear mixed model fit by maximum likelihood  ['lmerMod']\n",
      "Formula: mind_numeric~wSMI_1_mean+wSMI_1_std+wSMI_2_mean+wSMI_2_std+wSMI_4_mean+wSMI_4_std+wSMI_8_mean+wSMI_8_std+p_e_1_mean+p_e_1_std+p_e_2_mean+p_e_2_std+p_e_4_mean+p_e_4_std+p_e_8_mean+p_e_8_std+k_mean+k_std+se_mean+se_std+msf_std+sef90_std+sef95_std+b_std+b_n_std+g_std+g_n_std+t_std+t_n_std+d_mean+d_std+d_n_std+a_n_std+a_std+CNV_mean+CNV_std+P1_mean+P1_std+P3a_mean+P3a_std+P3b_mean+P3b_std+(1|participant)\n",
      "\n",
      "Family: binomial\t Inference: parametric\n",
      "\n",
      "Number of observations: 429\t Groups: {'participant': 22.0}\n",
      "\n",
      "Log-likelihood: -279.671 \t AIC: 647.343\n",
      "\n",
      "Random effects:\n",
      "\n",
      "                    Name    Var    Std\n",
      "participant  (Intercept)  0.213  0.462\n",
      "\n",
      "No random effect correlations specified\n",
      "\n",
      "Fixed effects:\n",
      "\n"
     ]
    },
    {
     "name": "stderr",
     "output_type": "stream",
     "text": []
    },
    {
     "name": "stdout",
     "output_type": "stream",
     "text": [
      "boundary (singular) fit: see ?isSingular \n",
      "\n",
      "Linear mixed model fit by maximum likelihood  ['lmerMod']\n",
      "Formula: mind_numeric~wSMI_1_mean+wSMI_1_std+wSMI_2_mean+wSMI_2_std+wSMI_4_mean+wSMI_4_std+wSMI_8_mean+wSMI_8_std+p_e_1_mean+p_e_1_std+p_e_2_mean+p_e_2_std+p_e_4_mean+p_e_4_std+p_e_8_mean+p_e_8_std+k_mean+k_std+se_mean+se_std+msf_std+sef90_std+sef95_std+b_std+b_n_std+g_std+g_n_std+t_std+t_n_std+d_mean+d_std+d_n_std+a_n_std+a_std+CNV_mean+CNV_std+P1_mean+P1_std+P3a_mean+P3a_std+P3b_mean+P3b_std+(1|participant)\n",
      "\n",
      "Family: binomial\t Inference: parametric\n",
      "\n",
      "Number of observations: 429\t Groups: {'participant': 22.0}\n",
      "\n",
      "Log-likelihood: -279.671 \t AIC: 647.341\n",
      "\n",
      "Random effects:\n",
      "\n",
      "                    Name  Var  Std\n",
      "participant  (Intercept)  0.0  0.0\n",
      "\n",
      "No random effect correlations specified\n",
      "\n",
      "Fixed effects:\n",
      "\n"
     ]
    },
    {
     "name": "stderr",
     "output_type": "stream",
     "text": []
    },
    {
     "name": "stdout",
     "output_type": "stream",
     "text": [
      "boundary (singular) fit: see ?isSingular \n",
      "\n",
      "Linear mixed model fit by maximum likelihood  ['lmerMod']\n",
      "Formula: mind_numeric~wSMI_1_mean+wSMI_1_std+wSMI_2_mean+wSMI_2_std+wSMI_4_mean+wSMI_4_std+wSMI_8_mean+wSMI_8_std+p_e_1_mean+p_e_1_std+p_e_2_mean+p_e_2_std+p_e_4_mean+p_e_4_std+p_e_8_mean+p_e_8_std+k_mean+k_std+se_mean+se_std+msf_std+sef90_std+sef95_std+b_std+b_n_std+g_std+g_n_std+t_std+t_n_std+d_mean+d_std+d_n_std+a_n_std+a_std+CNV_mean+CNV_std+P1_mean+P1_std+P3a_mean+P3a_std+P3b_mean+P3b_std+(1|participant)\n",
      "\n",
      "Family: binomial\t Inference: parametric\n",
      "\n",
      "Number of observations: 429\t Groups: {'participant': 22.0}\n",
      "\n",
      "Log-likelihood: -281.193 \t AIC: 650.386\n",
      "\n",
      "Random effects:\n",
      "\n",
      "                    Name  Var  Std\n",
      "participant  (Intercept)  0.0  0.0\n",
      "\n",
      "No random effect correlations specified\n",
      "\n",
      "Fixed effects:\n",
      "\n"
     ]
    },
    {
     "name": "stderr",
     "output_type": "stream",
     "text": []
    },
    {
     "name": "stdout",
     "output_type": "stream",
     "text": [
      "boundary (singular) fit: see ?isSingular \n",
      "\n",
      "Linear mixed model fit by maximum likelihood  ['lmerMod']\n",
      "Formula: mind_numeric~wSMI_1_mean+wSMI_1_std+wSMI_2_mean+wSMI_2_std+wSMI_4_mean+wSMI_4_std+wSMI_8_mean+wSMI_8_std+p_e_1_mean+p_e_1_std+p_e_2_mean+p_e_2_std+p_e_4_mean+p_e_4_std+p_e_8_mean+p_e_8_std+k_mean+k_std+se_mean+se_std+msf_std+sef90_std+sef95_std+b_std+b_n_std+g_std+g_n_std+t_std+t_n_std+d_mean+d_std+d_n_std+a_n_std+a_std+CNV_mean+CNV_std+P1_mean+P1_std+P3a_mean+P3a_std+P3b_mean+P3b_std+(1|participant)\n",
      "\n",
      "Family: binomial\t Inference: parametric\n",
      "\n",
      "Number of observations: 429\t Groups: {'participant': 22.0}\n",
      "\n",
      "Log-likelihood: -280.857 \t AIC: 649.714\n",
      "\n",
      "Random effects:\n",
      "\n",
      "                    Name  Var  Std\n",
      "participant  (Intercept)  0.0  0.0\n",
      "\n",
      "No random effect correlations specified\n",
      "\n",
      "Fixed effects:\n",
      "\n",
      "boundary (singular) fit: see ?isSingular \n",
      "\n",
      "Linear mixed model fit by maximum likelihood  ['lmerMod']\n",
      "Formula: mind_numeric~wSMI_1_mean+wSMI_1_std+wSMI_2_mean+wSMI_2_std+wSMI_4_mean+wSMI_4_std+wSMI_8_mean+wSMI_8_std+p_e_1_mean+p_e_1_std+p_e_2_mean+p_e_2_std+p_e_4_mean+p_e_4_std+p_e_8_mean+p_e_8_std+k_mean+k_std+se_mean+se_std+msf_std+sef90_std+sef95_std+b_std+b_n_std+g_std+g_n_std+t_std+t_n_std+d_mean+d_std+d_n_std+a_n_std+a_std+CNV_mean+CNV_std+P1_mean+P1_std+P3a_mean+P3a_std+P3b_mean+P3b_std+(1|participant)\n",
      "\n",
      "Family: binomial\t Inference: parametric\n",
      "\n",
      "Number of observations: 429\t Groups: {'participant': 22.0}\n",
      "\n",
      "Log-likelihood: -277.130 \t AIC: 642.260\n",
      "\n",
      "Random effects:\n",
      "\n",
      "                    Name  Var  Std\n",
      "participant  (Intercept)  0.0  0.0\n",
      "\n",
      "No random effect correlations specified\n",
      "\n",
      "Fixed effects:\n",
      "\n"
     ]
    },
    {
     "name": "stderr",
     "output_type": "stream",
     "text": []
    },
    {
     "name": "stdout",
     "output_type": "stream",
     "text": [
      "boundary (singular) fit: see ?isSingular \n",
      "\n",
      "Linear mixed model fit by maximum likelihood  ['lmerMod']\n",
      "Formula: mind_numeric~wSMI_1_mean+wSMI_1_std+wSMI_2_mean+wSMI_2_std+wSMI_4_mean+wSMI_4_std+wSMI_8_mean+wSMI_8_std+p_e_1_mean+p_e_1_std+p_e_2_mean+p_e_2_std+p_e_4_mean+p_e_4_std+p_e_8_mean+p_e_8_std+k_mean+k_std+se_mean+se_std+msf_std+sef90_std+sef95_std+b_std+b_n_std+g_std+g_n_std+t_std+t_n_std+d_mean+d_std+d_n_std+a_n_std+a_std+CNV_mean+CNV_std+P1_mean+P1_std+P3a_mean+P3a_std+P3b_mean+P3b_std+(1|participant)\n",
      "\n",
      "Family: binomial\t Inference: parametric\n",
      "\n",
      "Number of observations: 429\t Groups: {'participant': 22.0}\n",
      "\n",
      "Log-likelihood: -277.467 \t AIC: 642.934\n",
      "\n",
      "Random effects:\n",
      "\n",
      "                    Name  Var  Std\n",
      "participant  (Intercept)  0.0  0.0\n",
      "\n",
      "No random effect correlations specified\n",
      "\n",
      "Fixed effects:\n",
      "\n"
     ]
    },
    {
     "name": "stderr",
     "output_type": "stream",
     "text": []
    },
    {
     "name": "stdout",
     "output_type": "stream",
     "text": [
      "boundary (singular) fit: see ?isSingular \n",
      "\n",
      "Linear mixed model fit by maximum likelihood  ['lmerMod']\n",
      "Formula: mind_numeric~wSMI_1_mean+wSMI_1_std+wSMI_2_mean+wSMI_2_std+wSMI_4_mean+wSMI_4_std+wSMI_8_mean+wSMI_8_std+p_e_1_mean+p_e_1_std+p_e_2_mean+p_e_2_std+p_e_4_mean+p_e_4_std+p_e_8_mean+p_e_8_std+k_mean+k_std+se_mean+se_std+msf_std+sef90_std+sef95_std+b_std+b_n_std+g_std+g_n_std+t_std+t_n_std+d_mean+d_std+d_n_std+a_n_std+a_std+CNV_mean+CNV_std+P1_mean+P1_std+P3a_mean+P3a_std+P3b_mean+P3b_std+(1|participant)\n",
      "\n",
      "Family: binomial\t Inference: parametric\n",
      "\n",
      "Number of observations: 429\t Groups: {'participant': 22.0}\n",
      "\n",
      "Log-likelihood: -270.198 \t AIC: 628.396\n",
      "\n",
      "Random effects:\n",
      "\n",
      "                    Name  Var  Std\n",
      "participant  (Intercept)  0.0  0.0\n",
      "\n",
      "No random effect correlations specified\n",
      "\n",
      "Fixed effects:\n",
      "\n"
     ]
    },
    {
     "name": "stderr",
     "output_type": "stream",
     "text": []
    },
    {
     "name": "stdout",
     "output_type": "stream",
     "text": [
      "boundary (singular) fit: see ?isSingular \n",
      "\n",
      "Linear mixed model fit by maximum likelihood  ['lmerMod']\n",
      "Formula: mind_numeric~wSMI_1_mean+wSMI_1_std+wSMI_2_mean+wSMI_2_std+wSMI_4_mean+wSMI_4_std+wSMI_8_mean+wSMI_8_std+p_e_1_mean+p_e_1_std+p_e_2_mean+p_e_2_std+p_e_4_mean+p_e_4_std+p_e_8_mean+p_e_8_std+k_mean+k_std+se_mean+se_std+msf_std+sef90_std+sef95_std+b_std+b_n_std+g_std+g_n_std+t_std+t_n_std+d_mean+d_std+d_n_std+a_n_std+a_std+CNV_mean+CNV_std+P1_mean+P1_std+P3a_mean+P3a_std+P3b_mean+P3b_std+(1|participant)\n",
      "\n",
      "Family: binomial\t Inference: parametric\n",
      "\n",
      "Number of observations: 429\t Groups: {'participant': 22.0}\n",
      "\n",
      "Log-likelihood: -266.699 \t AIC: 621.399\n",
      "\n",
      "Random effects:\n",
      "\n",
      "                    Name  Var  Std\n",
      "participant  (Intercept)  0.0  0.0\n",
      "\n",
      "No random effect correlations specified\n",
      "\n",
      "Fixed effects:\n",
      "\n"
     ]
    },
    {
     "name": "stderr",
     "output_type": "stream",
     "text": []
    },
    {
     "name": "stdout",
     "output_type": "stream",
     "text": [
      "boundary (singular) fit: see ?isSingular \n",
      "\n",
      "Linear mixed model fit by maximum likelihood  ['lmerMod']\n",
      "Formula: mind_numeric~wSMI_1_mean+wSMI_1_std+wSMI_2_mean+wSMI_2_std+wSMI_4_mean+wSMI_4_std+wSMI_8_mean+wSMI_8_std+p_e_1_mean+p_e_1_std+p_e_2_mean+p_e_2_std+p_e_4_mean+p_e_4_std+p_e_8_mean+p_e_8_std+k_mean+k_std+se_mean+se_std+msf_std+sef90_std+sef95_std+b_std+b_n_std+g_std+g_n_std+t_std+t_n_std+d_mean+d_std+d_n_std+a_n_std+a_std+CNV_mean+CNV_std+P1_mean+P1_std+P3a_mean+P3a_std+P3b_mean+P3b_std+(1|participant)\n",
      "\n",
      "Family: binomial\t Inference: parametric\n",
      "\n",
      "Number of observations: 429\t Groups: {'participant': 22.0}\n",
      "\n",
      "Log-likelihood: -281.042 \t AIC: 650.084\n",
      "\n",
      "Random effects:\n",
      "\n",
      "                    Name  Var  Std\n",
      "participant  (Intercept)  0.0  0.0\n",
      "\n",
      "No random effect correlations specified\n",
      "\n",
      "Fixed effects:\n",
      "\n"
     ]
    },
    {
     "name": "stderr",
     "output_type": "stream",
     "text": []
    },
    {
     "name": "stdout",
     "output_type": "stream",
     "text": [
      "boundary (singular) fit: see ?isSingular \n",
      "\n",
      "Linear mixed model fit by maximum likelihood  ['lmerMod']\n",
      "Formula: mind_numeric~wSMI_1_mean+wSMI_1_std+wSMI_2_mean+wSMI_2_std+wSMI_4_mean+wSMI_4_std+wSMI_8_mean+wSMI_8_std+p_e_1_mean+p_e_1_std+p_e_2_mean+p_e_2_std+p_e_4_mean+p_e_4_std+p_e_8_mean+p_e_8_std+k_mean+k_std+se_mean+se_std+msf_std+sef90_std+sef95_std+b_std+b_n_std+g_std+g_n_std+t_std+t_n_std+d_mean+d_std+d_n_std+a_n_std+a_std+CNV_mean+CNV_std+P1_mean+P1_std+P3a_mean+P3a_std+P3b_mean+P3b_std+(1|participant)\n",
      "\n",
      "Family: binomial\t Inference: parametric\n",
      "\n",
      "Number of observations: 429\t Groups: {'participant': 22.0}\n",
      "\n",
      "Log-likelihood: -268.655 \t AIC: 625.311\n",
      "\n",
      "Random effects:\n",
      "\n",
      "                    Name  Var  Std\n",
      "participant  (Intercept)  0.0  0.0\n",
      "\n",
      "No random effect correlations specified\n",
      "\n",
      "Fixed effects:\n",
      "\n"
     ]
    },
    {
     "name": "stderr",
     "output_type": "stream",
     "text": []
    },
    {
     "name": "stdout",
     "output_type": "stream",
     "text": [
      "boundary (singular) fit: see ?isSingular \n",
      "\n",
      "Linear mixed model fit by maximum likelihood  ['lmerMod']\n",
      "Formula: mind_numeric~wSMI_1_mean+wSMI_1_std+wSMI_2_mean+wSMI_2_std+wSMI_4_mean+wSMI_4_std+wSMI_8_mean+wSMI_8_std+p_e_1_mean+p_e_1_std+p_e_2_mean+p_e_2_std+p_e_4_mean+p_e_4_std+p_e_8_mean+p_e_8_std+k_mean+k_std+se_mean+se_std+msf_std+sef90_std+sef95_std+b_std+b_n_std+g_std+g_n_std+t_std+t_n_std+d_mean+d_std+d_n_std+a_n_std+a_std+CNV_mean+CNV_std+P1_mean+P1_std+P3a_mean+P3a_std+P3b_mean+P3b_std+(1|participant)\n",
      "\n",
      "Family: binomial\t Inference: parametric\n",
      "\n",
      "Number of observations: 429\t Groups: {'participant': 22.0}\n",
      "\n",
      "Log-likelihood: -279.612 \t AIC: 647.224\n",
      "\n",
      "Random effects:\n",
      "\n",
      "                    Name  Var  Std\n",
      "participant  (Intercept)  0.0  0.0\n",
      "\n",
      "No random effect correlations specified\n",
      "\n",
      "Fixed effects:\n",
      "\n"
     ]
    },
    {
     "name": "stderr",
     "output_type": "stream",
     "text": []
    },
    {
     "name": "stdout",
     "output_type": "stream",
     "text": [
      "[1] \"failure to converge in 10000 evaluations\"\n",
      "[2] \" \\n\"                                     \n",
      "\n",
      "unable to evaluate scaled gradient \n",
      "\n",
      "Model failed to converge: degenerate  Hessian with 6 negative eigenvalues \n",
      "\n",
      "Linear mixed model fit by maximum likelihood  ['lmerMod']\n",
      "Formula: mind_numeric~wSMI_1_mean+wSMI_1_std+wSMI_2_mean+wSMI_2_std+wSMI_4_mean+wSMI_4_std+wSMI_8_mean+wSMI_8_std+p_e_1_mean+p_e_1_std+p_e_2_mean+p_e_2_std+p_e_4_mean+p_e_4_std+p_e_8_mean+p_e_8_std+k_mean+k_std+se_mean+se_std+msf_std+sef90_std+sef95_std+b_std+b_n_std+g_std+g_n_std+t_std+t_n_std+d_mean+d_std+d_n_std+a_n_std+a_std+CNV_mean+CNV_std+P1_mean+P1_std+P3a_mean+P3a_std+P3b_mean+P3b_std+(1|participant)\n",
      "\n",
      "Family: binomial\t Inference: parametric\n",
      "\n",
      "Number of observations: 429\t Groups: {'participant': 22.0}\n",
      "\n",
      "Log-likelihood: -269.659 \t AIC: 627.318\n",
      "\n",
      "Random effects:\n",
      "\n",
      "                    Name    Var    Std\n",
      "participant  (Intercept)  0.102  0.319\n",
      "\n",
      "No random effect correlations specified\n",
      "\n",
      "Fixed effects:\n",
      "\n"
     ]
    },
    {
     "name": "stderr",
     "output_type": "stream",
     "text": []
    },
    {
     "name": "stdout",
     "output_type": "stream",
     "text": [
      "boundary (singular) fit: see ?isSingular \n",
      "\n",
      "Linear mixed model fit by maximum likelihood  ['lmerMod']\n",
      "Formula: mind_numeric~wSMI_1_mean+wSMI_1_std+wSMI_2_mean+wSMI_2_std+wSMI_4_mean+wSMI_4_std+wSMI_8_mean+wSMI_8_std+p_e_1_mean+p_e_1_std+p_e_2_mean+p_e_2_std+p_e_4_mean+p_e_4_std+p_e_8_mean+p_e_8_std+k_mean+k_std+se_mean+se_std+msf_std+sef90_std+sef95_std+b_std+b_n_std+g_std+g_n_std+t_std+t_n_std+d_mean+d_std+d_n_std+a_n_std+a_std+CNV_mean+CNV_std+P1_mean+P1_std+P3a_mean+P3a_std+P3b_mean+P3b_std+(1|participant)\n",
      "\n",
      "Family: binomial\t Inference: parametric\n",
      "\n",
      "Number of observations: 429\t Groups: {'participant': 22.0}\n",
      "\n",
      "Log-likelihood: -271.553 \t AIC: 631.106\n",
      "\n",
      "Random effects:\n",
      "\n",
      "                    Name  Var  Std\n",
      "participant  (Intercept)  0.0  0.0\n",
      "\n",
      "No random effect correlations specified\n",
      "\n",
      "Fixed effects:\n",
      "\n"
     ]
    },
    {
     "name": "stderr",
     "output_type": "stream",
     "text": []
    },
    {
     "name": "stdout",
     "output_type": "stream",
     "text": [
      "[1] \"failure to converge in 10000 evaluations\"\n",
      "[2] \" \\n\"                                     \n",
      "\n",
      "unable to evaluate scaled gradient \n",
      "\n",
      "Model failed to converge: degenerate  Hessian with 3 negative eigenvalues \n",
      "\n",
      "Linear mixed model fit by maximum likelihood  ['lmerMod']\n",
      "Formula: mind_numeric~wSMI_1_mean+wSMI_1_std+wSMI_2_mean+wSMI_2_std+wSMI_4_mean+wSMI_4_std+wSMI_8_mean+wSMI_8_std+p_e_1_mean+p_e_1_std+p_e_2_mean+p_e_2_std+p_e_4_mean+p_e_4_std+p_e_8_mean+p_e_8_std+k_mean+k_std+se_mean+se_std+msf_std+sef90_std+sef95_std+b_std+b_n_std+g_std+g_n_std+t_std+t_n_std+d_mean+d_std+d_n_std+a_n_std+a_std+CNV_mean+CNV_std+P1_mean+P1_std+P3a_mean+P3a_std+P3b_mean+P3b_std+(1|participant)\n",
      "\n",
      "Family: binomial\t Inference: parametric\n",
      "\n",
      "Number of observations: 429\t Groups: {'participant': 22.0}\n",
      "\n",
      "Log-likelihood: -255.256 \t AIC: 598.512\n",
      "\n",
      "Random effects:\n",
      "\n",
      "                    Name  Var    Std\n",
      "participant  (Intercept)  0.6  0.775\n",
      "\n",
      "No random effect correlations specified\n",
      "\n",
      "Fixed effects:\n",
      "\n",
      "[1] \"failure to converge in 10000 evaluations\"\n",
      "[2] \" \\n\"                                     \n",
      "\n",
      "unable to evaluate scaled gradient \n",
      "\n",
      "Model failed to converge: degenerate  Hessian with 4 negative eigenvalues \n",
      "\n",
      "Linear mixed model fit by maximum likelihood  ['lmerMod']\n",
      "Formula: mind_numeric~wSMI_1_mean+wSMI_1_std+wSMI_2_mean+wSMI_2_std+wSMI_4_mean+wSMI_4_std+wSMI_8_mean+wSMI_8_std+p_e_1_mean+p_e_1_std+p_e_2_mean+p_e_2_std+p_e_4_mean+p_e_4_std+p_e_8_mean+p_e_8_std+k_mean+k_std+se_mean+se_std+msf_std+sef90_std+sef95_std+b_std+b_n_std+g_std+g_n_std+t_std+t_n_std+d_mean+d_std+d_n_std+a_n_std+a_std+CNV_mean+CNV_std+P1_mean+P1_std+P3a_mean+P3a_std+P3b_mean+P3b_std+(1|participant)\n",
      "\n",
      "Family: binomial\t Inference: parametric\n",
      "\n",
      "Number of observations: 429\t Groups: {'participant': 22.0}\n",
      "\n",
      "Log-likelihood: -279.424 \t AIC: 646.848\n",
      "\n",
      "Random effects:\n",
      "\n",
      "                    Name    Var    Std\n",
      "participant  (Intercept)  0.002  0.045\n",
      "\n",
      "No random effect correlations specified\n",
      "\n",
      "Fixed effects:\n",
      "\n"
     ]
    },
    {
     "name": "stderr",
     "output_type": "stream",
     "text": []
    },
    {
     "name": "stdout",
     "output_type": "stream",
     "text": [
      "boundary (singular) fit: see ?isSingular \n",
      "\n",
      "Linear mixed model fit by maximum likelihood  ['lmerMod']\n",
      "Formula: mind_numeric~wSMI_1_mean+wSMI_1_std+wSMI_2_mean+wSMI_2_std+wSMI_4_mean+wSMI_4_std+wSMI_8_mean+wSMI_8_std+p_e_1_mean+p_e_1_std+p_e_2_mean+p_e_2_std+p_e_4_mean+p_e_4_std+p_e_8_mean+p_e_8_std+k_mean+k_std+se_mean+se_std+msf_std+sef90_std+sef95_std+b_std+b_n_std+g_std+g_n_std+t_std+t_n_std+d_mean+d_std+d_n_std+a_n_std+a_std+CNV_mean+CNV_std+P1_mean+P1_std+P3a_mean+P3a_std+P3b_mean+P3b_std+(1|participant)\n",
      "\n",
      "Family: binomial\t Inference: parametric\n",
      "\n",
      "Number of observations: 429\t Groups: {'participant': 22.0}\n",
      "\n",
      "Log-likelihood: -275.519 \t AIC: 639.039\n",
      "\n",
      "Random effects:\n",
      "\n",
      "                    Name  Var  Std\n",
      "participant  (Intercept)  0.0  0.0\n",
      "\n",
      "No random effect correlations specified\n",
      "\n",
      "Fixed effects:\n",
      "\n",
      "boundary (singular) fit: see ?isSingular \n",
      "\n",
      "Linear mixed model fit by maximum likelihood  ['lmerMod']\n",
      "Formula: mind_numeric~wSMI_1_mean+wSMI_1_std+wSMI_2_mean+wSMI_2_std+wSMI_4_mean+wSMI_4_std+wSMI_8_mean+wSMI_8_std+p_e_1_mean+p_e_1_std+p_e_2_mean+p_e_2_std+p_e_4_mean+p_e_4_std+p_e_8_mean+p_e_8_std+k_mean+k_std+se_mean+se_std+msf_std+sef90_std+sef95_std+b_std+b_n_std+g_std+g_n_std+t_std+t_n_std+d_mean+d_std+d_n_std+a_n_std+a_std+CNV_mean+CNV_std+P1_mean+P1_std+P3a_mean+P3a_std+P3b_mean+P3b_std+(1|participant)\n",
      "\n",
      "Family: binomial\t Inference: parametric\n",
      "\n",
      "Number of observations: 429\t Groups: {'participant': 22.0}\n",
      "\n",
      "Log-likelihood: -271.702 \t AIC: 631.404\n",
      "\n",
      "Random effects:\n",
      "\n",
      "                    Name  Var  Std\n",
      "participant  (Intercept)  0.0  0.0\n",
      "\n",
      "No random effect correlations specified\n",
      "\n",
      "Fixed effects:\n",
      "\n"
     ]
    },
    {
     "name": "stderr",
     "output_type": "stream",
     "text": []
    },
    {
     "name": "stdout",
     "output_type": "stream",
     "text": [
      "boundary (singular) fit: see ?isSingular \n",
      "\n",
      "Linear mixed model fit by maximum likelihood  ['lmerMod']\n",
      "Formula: mind_numeric~wSMI_1_mean+wSMI_1_std+wSMI_2_mean+wSMI_2_std+wSMI_4_mean+wSMI_4_std+wSMI_8_mean+wSMI_8_std+p_e_1_mean+p_e_1_std+p_e_2_mean+p_e_2_std+p_e_4_mean+p_e_4_std+p_e_8_mean+p_e_8_std+k_mean+k_std+se_mean+se_std+msf_std+sef90_std+sef95_std+b_std+b_n_std+g_std+g_n_std+t_std+t_n_std+d_mean+d_std+d_n_std+a_n_std+a_std+CNV_mean+CNV_std+P1_mean+P1_std+P3a_mean+P3a_std+P3b_mean+P3b_std+(1|participant)\n",
      "\n",
      "Family: binomial\t Inference: parametric\n",
      "\n",
      "Number of observations: 429\t Groups: {'participant': 22.0}\n",
      "\n",
      "Log-likelihood: -279.913 \t AIC: 647.825\n",
      "\n",
      "Random effects:\n",
      "\n",
      "                    Name  Var  Std\n",
      "participant  (Intercept)  0.0  0.0\n",
      "\n",
      "No random effect correlations specified\n",
      "\n",
      "Fixed effects:\n",
      "\n"
     ]
    },
    {
     "name": "stderr",
     "output_type": "stream",
     "text": []
    },
    {
     "name": "stdout",
     "output_type": "stream",
     "text": [
      "boundary (singular) fit: see ?isSingular \n",
      "\n",
      "Linear mixed model fit by maximum likelihood  ['lmerMod']\n",
      "Formula: mind_numeric~wSMI_1_mean+wSMI_1_std+wSMI_2_mean+wSMI_2_std+wSMI_4_mean+wSMI_4_std+wSMI_8_mean+wSMI_8_std+p_e_1_mean+p_e_1_std+p_e_2_mean+p_e_2_std+p_e_4_mean+p_e_4_std+p_e_8_mean+p_e_8_std+k_mean+k_std+se_mean+se_std+msf_std+sef90_std+sef95_std+b_std+b_n_std+g_std+g_n_std+t_std+t_n_std+d_mean+d_std+d_n_std+a_n_std+a_std+CNV_mean+CNV_std+P1_mean+P1_std+P3a_mean+P3a_std+P3b_mean+P3b_std+(1|participant)\n",
      "\n",
      "Family: binomial\t Inference: parametric\n",
      "\n",
      "Number of observations: 429\t Groups: {'participant': 22.0}\n",
      "\n",
      "Log-likelihood: -280.913 \t AIC: 649.827\n",
      "\n",
      "Random effects:\n",
      "\n",
      "                    Name  Var  Std\n",
      "participant  (Intercept)  0.0  0.0\n",
      "\n",
      "No random effect correlations specified\n",
      "\n",
      "Fixed effects:\n",
      "\n"
     ]
    },
    {
     "name": "stderr",
     "output_type": "stream",
     "text": []
    },
    {
     "name": "stdout",
     "output_type": "stream",
     "text": [
      "boundary (singular) fit: see ?isSingular \n",
      "\n",
      "Linear mixed model fit by maximum likelihood  ['lmerMod']\n",
      "Formula: mind_numeric~wSMI_1_mean+wSMI_1_std+wSMI_2_mean+wSMI_2_std+wSMI_4_mean+wSMI_4_std+wSMI_8_mean+wSMI_8_std+p_e_1_mean+p_e_1_std+p_e_2_mean+p_e_2_std+p_e_4_mean+p_e_4_std+p_e_8_mean+p_e_8_std+k_mean+k_std+se_mean+se_std+msf_std+sef90_std+sef95_std+b_std+b_n_std+g_std+g_n_std+t_std+t_n_std+d_mean+d_std+d_n_std+a_n_std+a_std+CNV_mean+CNV_std+P1_mean+P1_std+P3a_mean+P3a_std+P3b_mean+P3b_std+(1|participant)\n",
      "\n",
      "Family: binomial\t Inference: parametric\n",
      "\n",
      "Number of observations: 429\t Groups: {'participant': 22.0}\n",
      "\n",
      "Log-likelihood: -279.163 \t AIC: 646.325\n",
      "\n",
      "Random effects:\n",
      "\n",
      "                    Name  Var  Std\n",
      "participant  (Intercept)  0.0  0.0\n",
      "\n",
      "No random effect correlations specified\n",
      "\n",
      "Fixed effects:\n",
      "\n"
     ]
    },
    {
     "name": "stderr",
     "output_type": "stream",
     "text": []
    },
    {
     "name": "stdout",
     "output_type": "stream",
     "text": [
      "boundary (singular) fit: see ?isSingular \n",
      "\n",
      "Linear mixed model fit by maximum likelihood  ['lmerMod']\n",
      "Formula: mind_numeric~wSMI_1_mean+wSMI_1_std+wSMI_2_mean+wSMI_2_std+wSMI_4_mean+wSMI_4_std+wSMI_8_mean+wSMI_8_std+p_e_1_mean+p_e_1_std+p_e_2_mean+p_e_2_std+p_e_4_mean+p_e_4_std+p_e_8_mean+p_e_8_std+k_mean+k_std+se_mean+se_std+msf_std+sef90_std+sef95_std+b_std+b_n_std+g_std+g_n_std+t_std+t_n_std+d_mean+d_std+d_n_std+a_n_std+a_std+CNV_mean+CNV_std+P1_mean+P1_std+P3a_mean+P3a_std+P3b_mean+P3b_std+(1|participant)\n",
      "\n",
      "Family: binomial\t Inference: parametric\n",
      "\n",
      "Number of observations: 429\t Groups: {'participant': 22.0}\n",
      "\n",
      "Log-likelihood: -269.426 \t AIC: 626.852\n",
      "\n",
      "Random effects:\n",
      "\n",
      "                    Name  Var  Std\n",
      "participant  (Intercept)  0.0  0.0\n",
      "\n",
      "No random effect correlations specified\n",
      "\n",
      "Fixed effects:\n",
      "\n"
     ]
    },
    {
     "name": "stderr",
     "output_type": "stream",
     "text": []
    },
    {
     "name": "stdout",
     "output_type": "stream",
     "text": [
      "boundary (singular) fit: see ?isSingular \n",
      "\n",
      "Linear mixed model fit by maximum likelihood  ['lmerMod']\n",
      "Formula: mind_numeric~wSMI_1_mean+wSMI_1_std+wSMI_2_mean+wSMI_2_std+wSMI_4_mean+wSMI_4_std+wSMI_8_mean+wSMI_8_std+p_e_1_mean+p_e_1_std+p_e_2_mean+p_e_2_std+p_e_4_mean+p_e_4_std+p_e_8_mean+p_e_8_std+k_mean+k_std+se_mean+se_std+msf_std+sef90_std+sef95_std+b_std+b_n_std+g_std+g_n_std+t_std+t_n_std+d_mean+d_std+d_n_std+a_n_std+a_std+CNV_mean+CNV_std+P1_mean+P1_std+P3a_mean+P3a_std+P3b_mean+P3b_std+(1|participant)\n",
      "\n",
      "Family: binomial\t Inference: parametric\n",
      "\n",
      "Number of observations: 429\t Groups: {'participant': 22.0}\n",
      "\n",
      "Log-likelihood: -277.632 \t AIC: 643.265\n",
      "\n",
      "Random effects:\n",
      "\n",
      "                    Name  Var  Std\n",
      "participant  (Intercept)  0.0  0.0\n",
      "\n",
      "No random effect correlations specified\n",
      "\n",
      "Fixed effects:\n",
      "\n"
     ]
    },
    {
     "name": "stderr",
     "output_type": "stream",
     "text": []
    },
    {
     "name": "stdout",
     "output_type": "stream",
     "text": [
      "boundary (singular) fit: see ?isSingular \n",
      "\n",
      "Linear mixed model fit by maximum likelihood  ['lmerMod']\n",
      "Formula: mind_numeric~wSMI_1_mean+wSMI_1_std+wSMI_2_mean+wSMI_2_std+wSMI_4_mean+wSMI_4_std+wSMI_8_mean+wSMI_8_std+p_e_1_mean+p_e_1_std+p_e_2_mean+p_e_2_std+p_e_4_mean+p_e_4_std+p_e_8_mean+p_e_8_std+k_mean+k_std+se_mean+se_std+msf_std+sef90_std+sef95_std+b_std+b_n_std+g_std+g_n_std+t_std+t_n_std+d_mean+d_std+d_n_std+a_n_std+a_std+CNV_mean+CNV_std+P1_mean+P1_std+P3a_mean+P3a_std+P3b_mean+P3b_std+(1|participant)\n",
      "\n",
      "Family: binomial\t Inference: parametric\n",
      "\n",
      "Number of observations: 429\t Groups: {'participant': 22.0}\n",
      "\n",
      "Log-likelihood: -267.606 \t AIC: 623.212\n",
      "\n",
      "Random effects:\n",
      "\n",
      "                    Name  Var  Std\n",
      "participant  (Intercept)  0.0  0.0\n",
      "\n",
      "No random effect correlations specified\n",
      "\n",
      "Fixed effects:\n",
      "\n"
     ]
    },
    {
     "name": "stderr",
     "output_type": "stream",
     "text": []
    },
    {
     "name": "stdout",
     "output_type": "stream",
     "text": [
      "boundary (singular) fit: see ?isSingular \n",
      "\n",
      "Linear mixed model fit by maximum likelihood  ['lmerMod']\n",
      "Formula: mind_numeric~wSMI_1_mean+wSMI_1_std+wSMI_2_mean+wSMI_2_std+wSMI_4_mean+wSMI_4_std+wSMI_8_mean+wSMI_8_std+p_e_1_mean+p_e_1_std+p_e_2_mean+p_e_2_std+p_e_4_mean+p_e_4_std+p_e_8_mean+p_e_8_std+k_mean+k_std+se_mean+se_std+msf_std+sef90_std+sef95_std+b_std+b_n_std+g_std+g_n_std+t_std+t_n_std+d_mean+d_std+d_n_std+a_n_std+a_std+CNV_mean+CNV_std+P1_mean+P1_std+P3a_mean+P3a_std+P3b_mean+P3b_std+(1|participant)\n",
      "\n",
      "Family: binomial\t Inference: parametric\n",
      "\n",
      "Number of observations: 429\t Groups: {'participant': 22.0}\n",
      "\n",
      "Log-likelihood: -264.347 \t AIC: 616.694\n",
      "\n",
      "Random effects:\n",
      "\n",
      "                    Name  Var  Std\n",
      "participant  (Intercept)  0.0  0.0\n",
      "\n",
      "No random effect correlations specified\n",
      "\n",
      "Fixed effects:\n",
      "\n"
     ]
    },
    {
     "name": "stderr",
     "output_type": "stream",
     "text": []
    },
    {
     "name": "stdout",
     "output_type": "stream",
     "text": [
      "boundary (singular) fit: see ?isSingular \n",
      "\n",
      "Linear mixed model fit by maximum likelihood  ['lmerMod']\n",
      "Formula: mind_numeric~wSMI_1_mean+wSMI_1_std+wSMI_2_mean+wSMI_2_std+wSMI_4_mean+wSMI_4_std+wSMI_8_mean+wSMI_8_std+p_e_1_mean+p_e_1_std+p_e_2_mean+p_e_2_std+p_e_4_mean+p_e_4_std+p_e_8_mean+p_e_8_std+k_mean+k_std+se_mean+se_std+msf_std+sef90_std+sef95_std+b_std+b_n_std+g_std+g_n_std+t_std+t_n_std+d_mean+d_std+d_n_std+a_n_std+a_std+CNV_mean+CNV_std+P1_mean+P1_std+P3a_mean+P3a_std+P3b_mean+P3b_std+(1|participant)\n",
      "\n",
      "Family: binomial\t Inference: parametric\n",
      "\n",
      "Number of observations: 429\t Groups: {'participant': 22.0}\n",
      "\n",
      "Log-likelihood: -279.621 \t AIC: 647.242\n",
      "\n",
      "Random effects:\n",
      "\n",
      "                    Name  Var  Std\n",
      "participant  (Intercept)  0.0  0.0\n",
      "\n",
      "No random effect correlations specified\n",
      "\n",
      "Fixed effects:\n",
      "\n",
      "boundary (singular) fit: see ?isSingular \n",
      "\n",
      "Linear mixed model fit by maximum likelihood  ['lmerMod']\n",
      "Formula: mind_numeric~wSMI_1_mean+wSMI_1_std+wSMI_2_mean+wSMI_2_std+wSMI_4_mean+wSMI_4_std+wSMI_8_mean+wSMI_8_std+p_e_1_mean+p_e_1_std+p_e_2_mean+p_e_2_std+p_e_4_mean+p_e_4_std+p_e_8_mean+p_e_8_std+k_mean+k_std+se_mean+se_std+msf_std+sef90_std+sef95_std+b_std+b_n_std+g_std+g_n_std+t_std+t_n_std+d_mean+d_std+d_n_std+a_n_std+a_std+CNV_mean+CNV_std+P1_mean+P1_std+P3a_mean+P3a_std+P3b_mean+P3b_std+(1|participant)\n",
      "\n",
      "Family: binomial\t Inference: parametric\n",
      "\n"
     ]
    },
    {
     "name": "stderr",
     "output_type": "stream",
     "text": []
    },
    {
     "name": "stdout",
     "output_type": "stream",
     "text": [
      "Number of observations: 429\t Groups: {'participant': 22.0}\n",
      "\n",
      "Log-likelihood: -272.235 \t AIC: 632.471\n",
      "\n",
      "Random effects:\n",
      "\n",
      "                    Name  Var  Std\n",
      "participant  (Intercept)  0.0  0.0\n",
      "\n",
      "No random effect correlations specified\n",
      "\n",
      "Fixed effects:\n",
      "\n",
      "boundary (singular) fit: see ?isSingular \n",
      "\n",
      "Linear mixed model fit by maximum likelihood  ['lmerMod']\n",
      "Formula: mind_numeric~wSMI_1_mean+wSMI_1_std+wSMI_2_mean+wSMI_2_std+wSMI_4_mean+wSMI_4_std+wSMI_8_mean+wSMI_8_std+p_e_1_mean+p_e_1_std+p_e_2_mean+p_e_2_std+p_e_4_mean+p_e_4_std+p_e_8_mean+p_e_8_std+k_mean+k_std+se_mean+se_std+msf_std+sef90_std+sef95_std+b_std+b_n_std+g_std+g_n_std+t_std+t_n_std+d_mean+d_std+d_n_std+a_n_std+a_std+CNV_mean+CNV_std+P1_mean+P1_std+P3a_mean+P3a_std+P3b_mean+P3b_std+(1|participant)\n",
      "\n",
      "Family: binomial\t Inference: parametric\n",
      "\n",
      "Number of observations: 429\t Groups: {'participant': 22.0}\n",
      "\n",
      "Log-likelihood: -260.290 \t AIC: 608.580\n",
      "\n",
      "Random effects:\n",
      "\n",
      "                    Name  Var  Std\n",
      "participant  (Intercept)  0.0  0.0\n",
      "\n",
      "No random effect correlations specified\n",
      "\n",
      "Fixed effects:\n",
      "\n"
     ]
    },
    {
     "name": "stderr",
     "output_type": "stream",
     "text": []
    },
    {
     "name": "stdout",
     "output_type": "stream",
     "text": [
      "boundary (singular) fit: see ?isSingular \n",
      "\n",
      "Linear mixed model fit by maximum likelihood  ['lmerMod']\n",
      "Formula: mind_numeric~wSMI_1_mean+wSMI_1_std+wSMI_2_mean+wSMI_2_std+wSMI_4_mean+wSMI_4_std+wSMI_8_mean+wSMI_8_std+p_e_1_mean+p_e_1_std+p_e_2_mean+p_e_2_std+p_e_4_mean+p_e_4_std+p_e_8_mean+p_e_8_std+k_mean+k_std+se_mean+se_std+msf_std+sef90_std+sef95_std+b_std+b_n_std+g_std+g_n_std+t_std+t_n_std+d_mean+d_std+d_n_std+a_n_std+a_std+CNV_mean+CNV_std+P1_mean+P1_std+P3a_mean+P3a_std+P3b_mean+P3b_std+(1|participant)\n",
      "\n",
      "Family: binomial\t Inference: parametric\n",
      "\n",
      "Number of observations: 429\t Groups: {'participant': 22.0}\n",
      "\n",
      "Log-likelihood: -277.614 \t AIC: 643.228\n",
      "\n",
      "Random effects:\n",
      "\n",
      "                    Name  Var  Std\n",
      "participant  (Intercept)  0.0  0.0\n",
      "\n",
      "No random effect correlations specified\n",
      "\n",
      "Fixed effects:\n",
      "\n"
     ]
    },
    {
     "name": "stderr",
     "output_type": "stream",
     "text": [
      "Permutation Test: 100%|██████████| 100/100 [20:18<00:00, 12.19s/it]\n",
      "KFold Iteration: 2it [45:21, 1339.05s/it]"
     ]
    },
    {
     "name": "stdout",
     "output_type": "stream",
     "text": [
      "[1] \"failure to converge in 10000 evaluations\"\n",
      "[2] \" \\n\"                                     \n",
      "\n",
      "[1] \"Model failed to converge with max|grad| = 0.124134 (tol = 0.002, component 1)\"\n",
      "[2] \" \\n\"                                                                          \n",
      "\n",
      "[1] \"Model is nearly unidentifiable: large eigenvalue ratio\\n - Rescale variables?\"\n",
      "[2] \" \\n\"                                                                          \n",
      "\n",
      "Linear mixed model fit by maximum likelihood  ['lmerMod']\n",
      "Formula: mind_numeric~wSMI_1_mean+wSMI_1_std+wSMI_2_mean+wSMI_2_std+wSMI_4_mean+wSMI_4_std+wSMI_8_mean+wSMI_8_std+p_e_1_mean+p_e_1_std+p_e_2_mean+p_e_2_std+p_e_4_mean+p_e_4_std+p_e_8_mean+p_e_8_std+k_mean+k_std+se_mean+se_std+msf_std+sef90_std+sef95_std+b_std+b_n_std+g_std+g_n_std+t_std+t_n_std+d_mean+d_std+d_n_std+a_n_std+a_std+CNV_mean+CNV_std+P1_mean+P1_std+P3a_mean+P3a_std+P3b_mean+P3b_std+(1|participant)\n",
      "\n",
      "Family: binomial\t Inference: parametric\n",
      "\n",
      "Number of observations: 429\t Groups: {'participant': 22.0}\n",
      "\n",
      "Log-likelihood: -243.845 \t AIC: 575.690\n",
      "\n",
      "Random effects:\n",
      "\n",
      "                    Name    Var    Std\n",
      "participant  (Intercept)  0.688  0.829\n",
      "\n",
      "No random effect correlations specified\n",
      "\n",
      "Fixed effects:\n",
      "\n"
     ]
    },
    {
     "name": "stderr",
     "output_type": "stream",
     "text": []
    },
    {
     "name": "stdout",
     "output_type": "stream",
     "text": [
      "boundary (singular) fit: see ?isSingular \n",
      "\n",
      "Linear mixed model fit by maximum likelihood  ['lmerMod']\n",
      "Formula: mind_numeric~wSMI_1_mean+wSMI_1_std+wSMI_2_mean+wSMI_2_std+wSMI_4_mean+wSMI_4_std+wSMI_8_mean+wSMI_8_std+p_e_1_mean+p_e_1_std+p_e_2_mean+p_e_2_std+p_e_4_mean+p_e_4_std+p_e_8_mean+p_e_8_std+k_mean+k_std+se_mean+se_std+msf_std+sef90_std+sef95_std+b_std+b_n_std+g_std+g_n_std+t_std+t_n_std+d_mean+d_std+d_n_std+a_n_std+a_std+CNV_mean+CNV_std+P1_mean+P1_std+P3a_mean+P3a_std+P3b_mean+P3b_std+(1|participant)\n",
      "\n",
      "Family: binomial\t Inference: parametric\n",
      "\n",
      "Number of observations: 429\t Groups: {'participant': 22.0}\n",
      "\n",
      "Log-likelihood: -275.861 \t AIC: 639.721\n",
      "\n",
      "Random effects:\n",
      "\n",
      "                    Name  Var  Std\n",
      "participant  (Intercept)  0.0  0.0\n",
      "\n",
      "No random effect correlations specified\n",
      "\n",
      "Fixed effects:\n",
      "\n"
     ]
    },
    {
     "name": "stderr",
     "output_type": "stream",
     "text": []
    },
    {
     "name": "stdout",
     "output_type": "stream",
     "text": [
      "boundary (singular) fit: see ?isSingular \n",
      "\n",
      "Linear mixed model fit by maximum likelihood  ['lmerMod']\n",
      "Formula: mind_numeric~wSMI_1_mean+wSMI_1_std+wSMI_2_mean+wSMI_2_std+wSMI_4_mean+wSMI_4_std+wSMI_8_mean+wSMI_8_std+p_e_1_mean+p_e_1_std+p_e_2_mean+p_e_2_std+p_e_4_mean+p_e_4_std+p_e_8_mean+p_e_8_std+k_mean+k_std+se_mean+se_std+msf_std+sef90_std+sef95_std+b_std+b_n_std+g_std+g_n_std+t_std+t_n_std+d_mean+d_std+d_n_std+a_n_std+a_std+CNV_mean+CNV_std+P1_mean+P1_std+P3a_mean+P3a_std+P3b_mean+P3b_std+(1|participant)\n",
      "\n",
      "Family: binomial\t Inference: parametric\n",
      "\n",
      "Number of observations: 429\t Groups: {'participant': 22.0}\n",
      "\n",
      "Log-likelihood: -271.576 \t AIC: 631.152\n",
      "\n",
      "Random effects:\n",
      "\n",
      "                    Name  Var  Std\n",
      "participant  (Intercept)  0.0  0.0\n",
      "\n",
      "No random effect correlations specified\n",
      "\n",
      "Fixed effects:\n",
      "\n"
     ]
    },
    {
     "name": "stderr",
     "output_type": "stream",
     "text": []
    },
    {
     "name": "stdout",
     "output_type": "stream",
     "text": [
      "boundary (singular) fit: see ?isSingular \n",
      "\n",
      "Linear mixed model fit by maximum likelihood  ['lmerMod']\n",
      "Formula: mind_numeric~wSMI_1_mean+wSMI_1_std+wSMI_2_mean+wSMI_2_std+wSMI_4_mean+wSMI_4_std+wSMI_8_mean+wSMI_8_std+p_e_1_mean+p_e_1_std+p_e_2_mean+p_e_2_std+p_e_4_mean+p_e_4_std+p_e_8_mean+p_e_8_std+k_mean+k_std+se_mean+se_std+msf_std+sef90_std+sef95_std+b_std+b_n_std+g_std+g_n_std+t_std+t_n_std+d_mean+d_std+d_n_std+a_n_std+a_std+CNV_mean+CNV_std+P1_mean+P1_std+P3a_mean+P3a_std+P3b_mean+P3b_std+(1|participant)\n",
      "\n",
      "Family: binomial\t Inference: parametric\n",
      "\n",
      "Number of observations: 429\t Groups: {'participant': 22.0}\n",
      "\n",
      "Log-likelihood: -275.506 \t AIC: 639.012\n",
      "\n",
      "Random effects:\n",
      "\n",
      "                    Name  Var  Std\n",
      "participant  (Intercept)  0.0  0.0\n",
      "\n",
      "No random effect correlations specified\n",
      "\n",
      "Fixed effects:\n",
      "\n"
     ]
    },
    {
     "name": "stderr",
     "output_type": "stream",
     "text": []
    },
    {
     "name": "stdout",
     "output_type": "stream",
     "text": [
      "boundary (singular) fit: see ?isSingular \n",
      "\n",
      "Linear mixed model fit by maximum likelihood  ['lmerMod']\n",
      "Formula: mind_numeric~wSMI_1_mean+wSMI_1_std+wSMI_2_mean+wSMI_2_std+wSMI_4_mean+wSMI_4_std+wSMI_8_mean+wSMI_8_std+p_e_1_mean+p_e_1_std+p_e_2_mean+p_e_2_std+p_e_4_mean+p_e_4_std+p_e_8_mean+p_e_8_std+k_mean+k_std+se_mean+se_std+msf_std+sef90_std+sef95_std+b_std+b_n_std+g_std+g_n_std+t_std+t_n_std+d_mean+d_std+d_n_std+a_n_std+a_std+CNV_mean+CNV_std+P1_mean+P1_std+P3a_mean+P3a_std+P3b_mean+P3b_std+(1|participant)\n",
      "\n",
      "Family: binomial\t Inference: parametric\n",
      "\n",
      "Number of observations: 429\t Groups: {'participant': 22.0}\n",
      "\n",
      "Log-likelihood: -266.952 \t AIC: 621.903\n",
      "\n",
      "Random effects:\n",
      "\n",
      "                    Name  Var  Std\n",
      "participant  (Intercept)  0.0  0.0\n",
      "\n",
      "No random effect correlations specified\n",
      "\n",
      "Fixed effects:\n",
      "\n"
     ]
    },
    {
     "name": "stderr",
     "output_type": "stream",
     "text": []
    },
    {
     "name": "stdout",
     "output_type": "stream",
     "text": [
      "boundary (singular) fit: see ?isSingular \n",
      "\n",
      "Linear mixed model fit by maximum likelihood  ['lmerMod']\n",
      "Formula: mind_numeric~wSMI_1_mean+wSMI_1_std+wSMI_2_mean+wSMI_2_std+wSMI_4_mean+wSMI_4_std+wSMI_8_mean+wSMI_8_std+p_e_1_mean+p_e_1_std+p_e_2_mean+p_e_2_std+p_e_4_mean+p_e_4_std+p_e_8_mean+p_e_8_std+k_mean+k_std+se_mean+se_std+msf_std+sef90_std+sef95_std+b_std+b_n_std+g_std+g_n_std+t_std+t_n_std+d_mean+d_std+d_n_std+a_n_std+a_std+CNV_mean+CNV_std+P1_mean+P1_std+P3a_mean+P3a_std+P3b_mean+P3b_std+(1|participant)\n",
      "\n",
      "Family: binomial\t Inference: parametric\n",
      "\n",
      "Number of observations: 429\t Groups: {'participant': 22.0}\n",
      "\n",
      "Log-likelihood: -274.559 \t AIC: 637.119\n",
      "\n",
      "Random effects:\n",
      "\n",
      "                    Name  Var  Std\n",
      "participant  (Intercept)  0.0  0.0\n",
      "\n",
      "No random effect correlations specified\n",
      "\n",
      "Fixed effects:\n",
      "\n"
     ]
    },
    {
     "name": "stderr",
     "output_type": "stream",
     "text": []
    },
    {
     "name": "stdout",
     "output_type": "stream",
     "text": [
      "boundary (singular) fit: see ?isSingular \n",
      "\n",
      "Linear mixed model fit by maximum likelihood  ['lmerMod']\n",
      "Formula: mind_numeric~wSMI_1_mean+wSMI_1_std+wSMI_2_mean+wSMI_2_std+wSMI_4_mean+wSMI_4_std+wSMI_8_mean+wSMI_8_std+p_e_1_mean+p_e_1_std+p_e_2_mean+p_e_2_std+p_e_4_mean+p_e_4_std+p_e_8_mean+p_e_8_std+k_mean+k_std+se_mean+se_std+msf_std+sef90_std+sef95_std+b_std+b_n_std+g_std+g_n_std+t_std+t_n_std+d_mean+d_std+d_n_std+a_n_std+a_std+CNV_mean+CNV_std+P1_mean+P1_std+P3a_mean+P3a_std+P3b_mean+P3b_std+(1|participant)\n",
      "\n",
      "Family: binomial\t Inference: parametric\n",
      "\n",
      "Number of observations: 429\t Groups: {'participant': 22.0}\n",
      "\n",
      "Log-likelihood: -272.923 \t AIC: 633.845\n",
      "\n",
      "Random effects:\n",
      "\n",
      "                    Name  Var  Std\n",
      "participant  (Intercept)  0.0  0.0\n",
      "\n",
      "No random effect correlations specified\n",
      "\n",
      "Fixed effects:\n",
      "\n"
     ]
    },
    {
     "name": "stderr",
     "output_type": "stream",
     "text": []
    },
    {
     "name": "stdout",
     "output_type": "stream",
     "text": [
      "boundary (singular) fit: see ?isSingular \n",
      "\n",
      "Linear mixed model fit by maximum likelihood  ['lmerMod']\n",
      "Formula: mind_numeric~wSMI_1_mean+wSMI_1_std+wSMI_2_mean+wSMI_2_std+wSMI_4_mean+wSMI_4_std+wSMI_8_mean+wSMI_8_std+p_e_1_mean+p_e_1_std+p_e_2_mean+p_e_2_std+p_e_4_mean+p_e_4_std+p_e_8_mean+p_e_8_std+k_mean+k_std+se_mean+se_std+msf_std+sef90_std+sef95_std+b_std+b_n_std+g_std+g_n_std+t_std+t_n_std+d_mean+d_std+d_n_std+a_n_std+a_std+CNV_mean+CNV_std+P1_mean+P1_std+P3a_mean+P3a_std+P3b_mean+P3b_std+(1|participant)\n",
      "\n",
      "Family: binomial\t Inference: parametric\n",
      "\n",
      "Number of observations: 429\t Groups: {'participant': 22.0}\n",
      "\n",
      "Log-likelihood: -272.086 \t AIC: 632.171\n",
      "\n",
      "Random effects:\n",
      "\n",
      "                    Name  Var  Std\n",
      "participant  (Intercept)  0.0  0.0\n",
      "\n",
      "No random effect correlations specified\n",
      "\n",
      "Fixed effects:\n",
      "\n"
     ]
    },
    {
     "name": "stderr",
     "output_type": "stream",
     "text": []
    },
    {
     "name": "stdout",
     "output_type": "stream",
     "text": [
      "boundary (singular) fit: see ?isSingular \n",
      "\n",
      "Linear mixed model fit by maximum likelihood  ['lmerMod']\n",
      "Formula: mind_numeric~wSMI_1_mean+wSMI_1_std+wSMI_2_mean+wSMI_2_std+wSMI_4_mean+wSMI_4_std+wSMI_8_mean+wSMI_8_std+p_e_1_mean+p_e_1_std+p_e_2_mean+p_e_2_std+p_e_4_mean+p_e_4_std+p_e_8_mean+p_e_8_std+k_mean+k_std+se_mean+se_std+msf_std+sef90_std+sef95_std+b_std+b_n_std+g_std+g_n_std+t_std+t_n_std+d_mean+d_std+d_n_std+a_n_std+a_std+CNV_mean+CNV_std+P1_mean+P1_std+P3a_mean+P3a_std+P3b_mean+P3b_std+(1|participant)\n",
      "\n",
      "Family: binomial\t Inference: parametric\n",
      "\n",
      "Number of observations: 429\t Groups: {'participant': 22.0}\n",
      "\n",
      "Log-likelihood: -278.098 \t AIC: 644.195\n",
      "\n",
      "Random effects:\n",
      "\n",
      "                    Name  Var  Std\n",
      "participant  (Intercept)  0.0  0.0\n",
      "\n",
      "No random effect correlations specified\n",
      "\n",
      "Fixed effects:\n",
      "\n"
     ]
    },
    {
     "name": "stderr",
     "output_type": "stream",
     "text": []
    },
    {
     "name": "stdout",
     "output_type": "stream",
     "text": [
      "boundary (singular) fit: see ?isSingular \n",
      "\n",
      "Linear mixed model fit by maximum likelihood  ['lmerMod']\n",
      "Formula: mind_numeric~wSMI_1_mean+wSMI_1_std+wSMI_2_mean+wSMI_2_std+wSMI_4_mean+wSMI_4_std+wSMI_8_mean+wSMI_8_std+p_e_1_mean+p_e_1_std+p_e_2_mean+p_e_2_std+p_e_4_mean+p_e_4_std+p_e_8_mean+p_e_8_std+k_mean+k_std+se_mean+se_std+msf_std+sef90_std+sef95_std+b_std+b_n_std+g_std+g_n_std+t_std+t_n_std+d_mean+d_std+d_n_std+a_n_std+a_std+CNV_mean+CNV_std+P1_mean+P1_std+P3a_mean+P3a_std+P3b_mean+P3b_std+(1|participant)\n",
      "\n",
      "Family: binomial\t Inference: parametric\n",
      "\n",
      "Number of observations: 429\t Groups: {'participant': 22.0}\n",
      "\n",
      "Log-likelihood: -277.200 \t AIC: 642.400\n",
      "\n",
      "Random effects:\n",
      "\n",
      "                    Name  Var  Std\n",
      "participant  (Intercept)  0.0  0.0\n",
      "\n",
      "No random effect correlations specified\n",
      "\n",
      "Fixed effects:\n",
      "\n"
     ]
    },
    {
     "name": "stderr",
     "output_type": "stream",
     "text": []
    },
    {
     "name": "stdout",
     "output_type": "stream",
     "text": [
      "boundary (singular) fit: see ?isSingular \n",
      "\n",
      "Linear mixed model fit by maximum likelihood  ['lmerMod']\n",
      "Formula: mind_numeric~wSMI_1_mean+wSMI_1_std+wSMI_2_mean+wSMI_2_std+wSMI_4_mean+wSMI_4_std+wSMI_8_mean+wSMI_8_std+p_e_1_mean+p_e_1_std+p_e_2_mean+p_e_2_std+p_e_4_mean+p_e_4_std+p_e_8_mean+p_e_8_std+k_mean+k_std+se_mean+se_std+msf_std+sef90_std+sef95_std+b_std+b_n_std+g_std+g_n_std+t_std+t_n_std+d_mean+d_std+d_n_std+a_n_std+a_std+CNV_mean+CNV_std+P1_mean+P1_std+P3a_mean+P3a_std+P3b_mean+P3b_std+(1|participant)\n",
      "\n",
      "Family: binomial\t Inference: parametric\n",
      "\n",
      "Number of observations: 429\t Groups: {'participant': 22.0}\n",
      "\n",
      "Log-likelihood: -275.922 \t AIC: 639.844\n",
      "\n",
      "Random effects:\n",
      "\n",
      "                    Name  Var  Std\n",
      "participant  (Intercept)  0.0  0.0\n",
      "\n",
      "No random effect correlations specified\n",
      "\n",
      "Fixed effects:\n",
      "\n"
     ]
    },
    {
     "name": "stderr",
     "output_type": "stream",
     "text": []
    },
    {
     "name": "stdout",
     "output_type": "stream",
     "text": [
      "boundary (singular) fit: see ?isSingular \n",
      "\n",
      "Linear mixed model fit by maximum likelihood  ['lmerMod']\n",
      "Formula: mind_numeric~wSMI_1_mean+wSMI_1_std+wSMI_2_mean+wSMI_2_std+wSMI_4_mean+wSMI_4_std+wSMI_8_mean+wSMI_8_std+p_e_1_mean+p_e_1_std+p_e_2_mean+p_e_2_std+p_e_4_mean+p_e_4_std+p_e_8_mean+p_e_8_std+k_mean+k_std+se_mean+se_std+msf_std+sef90_std+sef95_std+b_std+b_n_std+g_std+g_n_std+t_std+t_n_std+d_mean+d_std+d_n_std+a_n_std+a_std+CNV_mean+CNV_std+P1_mean+P1_std+P3a_mean+P3a_std+P3b_mean+P3b_std+(1|participant)\n",
      "\n",
      "Family: binomial\t Inference: parametric\n",
      "\n",
      "Number of observations: 429\t Groups: {'participant': 22.0}\n",
      "\n",
      "Log-likelihood: -274.038 \t AIC: 636.077\n",
      "\n",
      "Random effects:\n",
      "\n",
      "                    Name  Var  Std\n",
      "participant  (Intercept)  0.0  0.0\n",
      "\n",
      "No random effect correlations specified\n",
      "\n",
      "Fixed effects:\n",
      "\n"
     ]
    },
    {
     "name": "stderr",
     "output_type": "stream",
     "text": []
    },
    {
     "name": "stdout",
     "output_type": "stream",
     "text": [
      "[1] \"failure to converge in 10000 evaluations\"\n",
      "[2] \" \\n\"                                     \n",
      "\n",
      "unable to evaluate scaled gradient \n",
      "\n",
      "Model failed to converge: degenerate  Hessian with 3 negative eigenvalues \n",
      "\n",
      "Linear mixed model fit by maximum likelihood  ['lmerMod']\n",
      "Formula: mind_numeric~wSMI_1_mean+wSMI_1_std+wSMI_2_mean+wSMI_2_std+wSMI_4_mean+wSMI_4_std+wSMI_8_mean+wSMI_8_std+p_e_1_mean+p_e_1_std+p_e_2_mean+p_e_2_std+p_e_4_mean+p_e_4_std+p_e_8_mean+p_e_8_std+k_mean+k_std+se_mean+se_std+msf_std+sef90_std+sef95_std+b_std+b_n_std+g_std+g_n_std+t_std+t_n_std+d_mean+d_std+d_n_std+a_n_std+a_std+CNV_mean+CNV_std+P1_mean+P1_std+P3a_mean+P3a_std+P3b_mean+P3b_std+(1|participant)\n",
      "\n",
      "Family: binomial\t Inference: parametric\n",
      "\n",
      "Number of observations: 429\t Groups: {'participant': 22.0}\n",
      "\n",
      "Log-likelihood: -275.608 \t AIC: 639.217\n",
      "\n",
      "Random effects:\n",
      "\n",
      "                    Name    Var    Std\n",
      "participant  (Intercept)  0.233  0.483\n",
      "\n",
      "No random effect correlations specified\n",
      "\n",
      "Fixed effects:\n",
      "\n"
     ]
    },
    {
     "name": "stderr",
     "output_type": "stream",
     "text": []
    },
    {
     "name": "stdout",
     "output_type": "stream",
     "text": [
      "boundary (singular) fit: see ?isSingular \n",
      "\n",
      "Linear mixed model fit by maximum likelihood  ['lmerMod']\n",
      "Formula: mind_numeric~wSMI_1_mean+wSMI_1_std+wSMI_2_mean+wSMI_2_std+wSMI_4_mean+wSMI_4_std+wSMI_8_mean+wSMI_8_std+p_e_1_mean+p_e_1_std+p_e_2_mean+p_e_2_std+p_e_4_mean+p_e_4_std+p_e_8_mean+p_e_8_std+k_mean+k_std+se_mean+se_std+msf_std+sef90_std+sef95_std+b_std+b_n_std+g_std+g_n_std+t_std+t_n_std+d_mean+d_std+d_n_std+a_n_std+a_std+CNV_mean+CNV_std+P1_mean+P1_std+P3a_mean+P3a_std+P3b_mean+P3b_std+(1|participant)\n",
      "\n",
      "Family: binomial\t Inference: parametric\n",
      "\n",
      "Number of observations: 429\t Groups: {'participant': 22.0}\n",
      "\n",
      "Log-likelihood: -272.265 \t AIC: 632.529\n",
      "\n",
      "Random effects:\n",
      "\n",
      "                    Name  Var  Std\n",
      "participant  (Intercept)  0.0  0.0\n",
      "\n",
      "No random effect correlations specified\n",
      "\n",
      "Fixed effects:\n",
      "\n"
     ]
    },
    {
     "name": "stderr",
     "output_type": "stream",
     "text": []
    },
    {
     "name": "stdout",
     "output_type": "stream",
     "text": [
      "boundary (singular) fit: see ?isSingular \n",
      "\n",
      "Linear mixed model fit by maximum likelihood  ['lmerMod']\n",
      "Formula: mind_numeric~wSMI_1_mean+wSMI_1_std+wSMI_2_mean+wSMI_2_std+wSMI_4_mean+wSMI_4_std+wSMI_8_mean+wSMI_8_std+p_e_1_mean+p_e_1_std+p_e_2_mean+p_e_2_std+p_e_4_mean+p_e_4_std+p_e_8_mean+p_e_8_std+k_mean+k_std+se_mean+se_std+msf_std+sef90_std+sef95_std+b_std+b_n_std+g_std+g_n_std+t_std+t_n_std+d_mean+d_std+d_n_std+a_n_std+a_std+CNV_mean+CNV_std+P1_mean+P1_std+P3a_mean+P3a_std+P3b_mean+P3b_std+(1|participant)\n",
      "\n",
      "Family: binomial\t Inference: parametric\n",
      "\n",
      "Number of observations: 429\t Groups: {'participant': 22.0}\n",
      "\n",
      "Log-likelihood: -270.110 \t AIC: 628.220\n",
      "\n",
      "Random effects:\n",
      "\n",
      "                    Name  Var  Std\n",
      "participant  (Intercept)  0.0  0.0\n",
      "\n",
      "No random effect correlations specified\n",
      "\n",
      "Fixed effects:\n",
      "\n"
     ]
    },
    {
     "name": "stderr",
     "output_type": "stream",
     "text": []
    },
    {
     "name": "stdout",
     "output_type": "stream",
     "text": [
      "boundary (singular) fit: see ?isSingular \n",
      "\n",
      "Linear mixed model fit by maximum likelihood  ['lmerMod']\n",
      "Formula: mind_numeric~wSMI_1_mean+wSMI_1_std+wSMI_2_mean+wSMI_2_std+wSMI_4_mean+wSMI_4_std+wSMI_8_mean+wSMI_8_std+p_e_1_mean+p_e_1_std+p_e_2_mean+p_e_2_std+p_e_4_mean+p_e_4_std+p_e_8_mean+p_e_8_std+k_mean+k_std+se_mean+se_std+msf_std+sef90_std+sef95_std+b_std+b_n_std+g_std+g_n_std+t_std+t_n_std+d_mean+d_std+d_n_std+a_n_std+a_std+CNV_mean+CNV_std+P1_mean+P1_std+P3a_mean+P3a_std+P3b_mean+P3b_std+(1|participant)\n",
      "\n",
      "Family: binomial\t Inference: parametric\n",
      "\n",
      "Number of observations: 429\t Groups: {'participant': 22.0}\n",
      "\n",
      "Log-likelihood: -270.617 \t AIC: 629.233\n",
      "\n",
      "Random effects:\n",
      "\n",
      "                    Name  Var  Std\n",
      "participant  (Intercept)  0.0  0.0\n",
      "\n",
      "No random effect correlations specified\n",
      "\n",
      "Fixed effects:\n",
      "\n"
     ]
    },
    {
     "name": "stderr",
     "output_type": "stream",
     "text": []
    },
    {
     "name": "stdout",
     "output_type": "stream",
     "text": [
      "boundary (singular) fit: see ?isSingular \n",
      "\n",
      "Linear mixed model fit by maximum likelihood  ['lmerMod']\n",
      "Formula: mind_numeric~wSMI_1_mean+wSMI_1_std+wSMI_2_mean+wSMI_2_std+wSMI_4_mean+wSMI_4_std+wSMI_8_mean+wSMI_8_std+p_e_1_mean+p_e_1_std+p_e_2_mean+p_e_2_std+p_e_4_mean+p_e_4_std+p_e_8_mean+p_e_8_std+k_mean+k_std+se_mean+se_std+msf_std+sef90_std+sef95_std+b_std+b_n_std+g_std+g_n_std+t_std+t_n_std+d_mean+d_std+d_n_std+a_n_std+a_std+CNV_mean+CNV_std+P1_mean+P1_std+P3a_mean+P3a_std+P3b_mean+P3b_std+(1|participant)\n",
      "\n",
      "Family: binomial\t Inference: parametric\n",
      "\n",
      "Number of observations: 429\t Groups: {'participant': 22.0}\n",
      "\n",
      "Log-likelihood: -278.786 \t AIC: 645.572\n",
      "\n",
      "Random effects:\n",
      "\n",
      "                    Name  Var  Std\n",
      "participant  (Intercept)  0.0  0.0\n",
      "\n",
      "No random effect correlations specified\n",
      "\n",
      "Fixed effects:\n",
      "\n"
     ]
    },
    {
     "name": "stderr",
     "output_type": "stream",
     "text": []
    },
    {
     "name": "stdout",
     "output_type": "stream",
     "text": [
      "[1] \"failure to converge in 10000 evaluations\"\n",
      "[2] \" \\n\"                                     \n",
      "\n",
      "unable to evaluate scaled gradient \n",
      "\n",
      "Model failed to converge: degenerate  Hessian with 2 negative eigenvalues \n",
      "\n",
      "Linear mixed model fit by maximum likelihood  ['lmerMod']\n",
      "Formula: mind_numeric~wSMI_1_mean+wSMI_1_std+wSMI_2_mean+wSMI_2_std+wSMI_4_mean+wSMI_4_std+wSMI_8_mean+wSMI_8_std+p_e_1_mean+p_e_1_std+p_e_2_mean+p_e_2_std+p_e_4_mean+p_e_4_std+p_e_8_mean+p_e_8_std+k_mean+k_std+se_mean+se_std+msf_std+sef90_std+sef95_std+b_std+b_n_std+g_std+g_n_std+t_std+t_n_std+d_mean+d_std+d_n_std+a_n_std+a_std+CNV_mean+CNV_std+P1_mean+P1_std+P3a_mean+P3a_std+P3b_mean+P3b_std+(1|participant)\n",
      "\n",
      "Family: binomial\t Inference: parametric\n",
      "\n",
      "Number of observations: 429\t Groups: {'participant': 22.0}\n",
      "\n",
      "Log-likelihood: -270.650 \t AIC: 629.300\n",
      "\n",
      "Random effects:\n",
      "\n",
      "                    Name    Var    Std\n",
      "participant  (Intercept)  0.179  0.423\n",
      "\n",
      "No random effect correlations specified\n",
      "\n",
      "Fixed effects:\n",
      "\n"
     ]
    },
    {
     "name": "stderr",
     "output_type": "stream",
     "text": []
    },
    {
     "name": "stdout",
     "output_type": "stream",
     "text": [
      "[1] \"failure to converge in 10000 evaluations\"\n",
      "[2] \" \\n\"                                     \n",
      "\n",
      "unable to evaluate scaled gradient \n",
      "\n",
      "Model failed to converge: degenerate  Hessian with 8 negative eigenvalues \n",
      "\n",
      "Linear mixed model fit by maximum likelihood  ['lmerMod']\n",
      "Formula: mind_numeric~wSMI_1_mean+wSMI_1_std+wSMI_2_mean+wSMI_2_std+wSMI_4_mean+wSMI_4_std+wSMI_8_mean+wSMI_8_std+p_e_1_mean+p_e_1_std+p_e_2_mean+p_e_2_std+p_e_4_mean+p_e_4_std+p_e_8_mean+p_e_8_std+k_mean+k_std+se_mean+se_std+msf_std+sef90_std+sef95_std+b_std+b_n_std+g_std+g_n_std+t_std+t_n_std+d_mean+d_std+d_n_std+a_n_std+a_std+CNV_mean+CNV_std+P1_mean+P1_std+P3a_mean+P3a_std+P3b_mean+P3b_std+(1|participant)\n",
      "\n",
      "Family: binomial\t Inference: parametric\n",
      "\n",
      "Number of observations: 429\t Groups: {'participant': 22.0}\n",
      "\n",
      "Log-likelihood: -264.567 \t AIC: 617.135\n",
      "\n",
      "Random effects:\n",
      "\n",
      "                    Name    Var    Std\n",
      "participant  (Intercept)  0.091  0.301\n",
      "\n",
      "No random effect correlations specified\n",
      "\n",
      "Fixed effects:\n",
      "\n"
     ]
    },
    {
     "name": "stderr",
     "output_type": "stream",
     "text": []
    },
    {
     "name": "stdout",
     "output_type": "stream",
     "text": [
      "boundary (singular) fit: see ?isSingular \n",
      "\n",
      "Linear mixed model fit by maximum likelihood  ['lmerMod']\n",
      "Formula: mind_numeric~wSMI_1_mean+wSMI_1_std+wSMI_2_mean+wSMI_2_std+wSMI_4_mean+wSMI_4_std+wSMI_8_mean+wSMI_8_std+p_e_1_mean+p_e_1_std+p_e_2_mean+p_e_2_std+p_e_4_mean+p_e_4_std+p_e_8_mean+p_e_8_std+k_mean+k_std+se_mean+se_std+msf_std+sef90_std+sef95_std+b_std+b_n_std+g_std+g_n_std+t_std+t_n_std+d_mean+d_std+d_n_std+a_n_std+a_std+CNV_mean+CNV_std+P1_mean+P1_std+P3a_mean+P3a_std+P3b_mean+P3b_std+(1|participant)\n",
      "\n",
      "Family: binomial\t Inference: parametric\n",
      "\n",
      "Number of observations: 429\t Groups: {'participant': 22.0}\n",
      "\n",
      "Log-likelihood: -271.823 \t AIC: 631.645\n",
      "\n",
      "Random effects:\n",
      "\n",
      "                    Name  Var  Std\n",
      "participant  (Intercept)  0.0  0.0\n",
      "\n",
      "No random effect correlations specified\n",
      "\n",
      "Fixed effects:\n",
      "\n"
     ]
    },
    {
     "name": "stderr",
     "output_type": "stream",
     "text": []
    },
    {
     "name": "stdout",
     "output_type": "stream",
     "text": [
      "boundary (singular) fit: see ?isSingular \n",
      "\n",
      "Linear mixed model fit by maximum likelihood  ['lmerMod']\n",
      "Formula: mind_numeric~wSMI_1_mean+wSMI_1_std+wSMI_2_mean+wSMI_2_std+wSMI_4_mean+wSMI_4_std+wSMI_8_mean+wSMI_8_std+p_e_1_mean+p_e_1_std+p_e_2_mean+p_e_2_std+p_e_4_mean+p_e_4_std+p_e_8_mean+p_e_8_std+k_mean+k_std+se_mean+se_std+msf_std+sef90_std+sef95_std+b_std+b_n_std+g_std+g_n_std+t_std+t_n_std+d_mean+d_std+d_n_std+a_n_std+a_std+CNV_mean+CNV_std+P1_mean+P1_std+P3a_mean+P3a_std+P3b_mean+P3b_std+(1|participant)\n",
      "\n",
      "Family: binomial\t Inference: parametric\n",
      "\n",
      "Number of observations: 429\t Groups: {'participant': 22.0}\n",
      "\n",
      "Log-likelihood: -272.373 \t AIC: 632.746\n",
      "\n",
      "Random effects:\n",
      "\n",
      "                    Name  Var  Std\n",
      "participant  (Intercept)  0.0  0.0\n",
      "\n",
      "No random effect correlations specified\n",
      "\n",
      "Fixed effects:\n",
      "\n",
      "boundary (singular) fit: see ?isSingular \n",
      "\n",
      "Linear mixed model fit by maximum likelihood  ['lmerMod']\n",
      "Formula: mind_numeric~wSMI_1_mean+wSMI_1_std+wSMI_2_mean+wSMI_2_std+wSMI_4_mean+wSMI_4_std+wSMI_8_mean+wSMI_8_std+p_e_1_mean+p_e_1_std+p_e_2_mean+p_e_2_std+p_e_4_mean+p_e_4_std+p_e_8_mean+p_e_8_std+k_mean+k_std+se_mean+se_std+msf_std+sef90_std+sef95_std+b_std+b_n_std+g_std+g_n_std+t_std+t_n_std+d_mean+d_std+d_n_std+a_n_std+a_std+CNV_mean+CNV_std+P1_mean+P1_std+P3a_mean+P3a_std+P3b_mean+P3b_std+(1|participant)\n",
      "\n",
      "Family: binomial\t Inference: parametric\n",
      "\n",
      "Number of observations: 429\t Groups: {'participant': 22.0}\n",
      "\n",
      "Log-likelihood: -277.752 \t AIC: 643.505\n",
      "\n",
      "Random effects:\n",
      "\n",
      "                    Name  Var  Std\n",
      "participant  (Intercept)  0.0  0.0\n",
      "\n",
      "No random effect correlations specified\n",
      "\n",
      "Fixed effects:\n",
      "\n"
     ]
    },
    {
     "name": "stderr",
     "output_type": "stream",
     "text": []
    },
    {
     "name": "stdout",
     "output_type": "stream",
     "text": [
      "boundary (singular) fit: see ?isSingular \n",
      "\n",
      "Linear mixed model fit by maximum likelihood  ['lmerMod']\n",
      "Formula: mind_numeric~wSMI_1_mean+wSMI_1_std+wSMI_2_mean+wSMI_2_std+wSMI_4_mean+wSMI_4_std+wSMI_8_mean+wSMI_8_std+p_e_1_mean+p_e_1_std+p_e_2_mean+p_e_2_std+p_e_4_mean+p_e_4_std+p_e_8_mean+p_e_8_std+k_mean+k_std+se_mean+se_std+msf_std+sef90_std+sef95_std+b_std+b_n_std+g_std+g_n_std+t_std+t_n_std+d_mean+d_std+d_n_std+a_n_std+a_std+CNV_mean+CNV_std+P1_mean+P1_std+P3a_mean+P3a_std+P3b_mean+P3b_std+(1|participant)\n",
      "\n",
      "Family: binomial\t Inference: parametric\n",
      "\n",
      "Number of observations: 429\t Groups: {'participant': 22.0}\n",
      "\n",
      "Log-likelihood: -280.719 \t AIC: 649.438\n",
      "\n",
      "Random effects:\n",
      "\n",
      "                    Name  Var  Std\n",
      "participant  (Intercept)  0.0  0.0\n",
      "\n",
      "No random effect correlations specified\n",
      "\n",
      "Fixed effects:\n",
      "\n",
      "boundary (singular) fit: see ?isSingular \n",
      "\n",
      "Linear mixed model fit by maximum likelihood  ['lmerMod']\n",
      "Formula: mind_numeric~wSMI_1_mean+wSMI_1_std+wSMI_2_mean+wSMI_2_std+wSMI_4_mean+wSMI_4_std+wSMI_8_mean+wSMI_8_std+p_e_1_mean+p_e_1_std+p_e_2_mean+p_e_2_std+p_e_4_mean+p_e_4_std+p_e_8_mean+p_e_8_std+k_mean+k_std+se_mean+se_std+msf_std+sef90_std+sef95_std+b_std+b_n_std+g_std+g_n_std+t_std+t_n_std+d_mean+d_std+d_n_std+a_n_std+a_std+CNV_mean+CNV_std+P1_mean+P1_std+P3a_mean+P3a_std+P3b_mean+P3b_std+(1|participant)\n",
      "\n",
      "Family: binomial\t Inference: parametric\n",
      "\n",
      "Number of observations: 429\t Groups: {'participant': 22.0}\n",
      "\n",
      "Log-likelihood: -278.228 \t AIC: 644.455\n",
      "\n",
      "Random effects:\n",
      "\n",
      "                    Name  Var  Std\n",
      "participant  (Intercept)  0.0  0.0\n",
      "\n",
      "No random effect correlations specified\n",
      "\n",
      "Fixed effects:\n",
      "\n"
     ]
    },
    {
     "name": "stderr",
     "output_type": "stream",
     "text": []
    },
    {
     "name": "stdout",
     "output_type": "stream",
     "text": [
      "boundary (singular) fit: see ?isSingular \n",
      "\n",
      "Linear mixed model fit by maximum likelihood  ['lmerMod']\n",
      "Formula: mind_numeric~wSMI_1_mean+wSMI_1_std+wSMI_2_mean+wSMI_2_std+wSMI_4_mean+wSMI_4_std+wSMI_8_mean+wSMI_8_std+p_e_1_mean+p_e_1_std+p_e_2_mean+p_e_2_std+p_e_4_mean+p_e_4_std+p_e_8_mean+p_e_8_std+k_mean+k_std+se_mean+se_std+msf_std+sef90_std+sef95_std+b_std+b_n_std+g_std+g_n_std+t_std+t_n_std+d_mean+d_std+d_n_std+a_n_std+a_std+CNV_mean+CNV_std+P1_mean+P1_std+P3a_mean+P3a_std+P3b_mean+P3b_std+(1|participant)\n",
      "\n",
      "Family: binomial\t Inference: parametric\n",
      "\n",
      "Number of observations: 429\t Groups: {'participant': 22.0}\n",
      "\n",
      "Log-likelihood: -260.589 \t AIC: 609.178\n",
      "\n",
      "Random effects:\n",
      "\n",
      "                    Name  Var  Std\n",
      "participant  (Intercept)  0.0  0.0\n",
      "\n",
      "No random effect correlations specified\n",
      "\n",
      "Fixed effects:\n",
      "\n"
     ]
    },
    {
     "name": "stderr",
     "output_type": "stream",
     "text": []
    },
    {
     "name": "stdout",
     "output_type": "stream",
     "text": [
      "boundary (singular) fit: see ?isSingular \n",
      "\n",
      "Linear mixed model fit by maximum likelihood  ['lmerMod']\n",
      "Formula: mind_numeric~wSMI_1_mean+wSMI_1_std+wSMI_2_mean+wSMI_2_std+wSMI_4_mean+wSMI_4_std+wSMI_8_mean+wSMI_8_std+p_e_1_mean+p_e_1_std+p_e_2_mean+p_e_2_std+p_e_4_mean+p_e_4_std+p_e_8_mean+p_e_8_std+k_mean+k_std+se_mean+se_std+msf_std+sef90_std+sef95_std+b_std+b_n_std+g_std+g_n_std+t_std+t_n_std+d_mean+d_std+d_n_std+a_n_std+a_std+CNV_mean+CNV_std+P1_mean+P1_std+P3a_mean+P3a_std+P3b_mean+P3b_std+(1|participant)\n",
      "\n",
      "Family: binomial\t Inference: parametric\n",
      "\n",
      "Number of observations: 429\t Groups: {'participant': 22.0}\n",
      "\n",
      "Log-likelihood: -278.858 \t AIC: 645.716\n",
      "\n",
      "Random effects:\n",
      "\n",
      "                    Name  Var  Std\n",
      "participant  (Intercept)  0.0  0.0\n",
      "\n",
      "No random effect correlations specified\n",
      "\n",
      "Fixed effects:\n",
      "\n",
      "boundary (singular) fit: see ?isSingular \n",
      "\n",
      "Linear mixed model fit by maximum likelihood  ['lmerMod']\n",
      "Formula: mind_numeric~wSMI_1_mean+wSMI_1_std+wSMI_2_mean+wSMI_2_std+wSMI_4_mean+wSMI_4_std+wSMI_8_mean+wSMI_8_std+p_e_1_mean+p_e_1_std+p_e_2_mean+p_e_2_std+p_e_4_mean+p_e_4_std+p_e_8_mean+p_e_8_std+k_mean+k_std+se_mean+se_std+msf_std+sef90_std+sef95_std+b_std+b_n_std+g_std+g_n_std+t_std+t_n_std+d_mean+d_std+d_n_std+a_n_std+a_std+CNV_mean+CNV_std+P1_mean+P1_std+P3a_mean+P3a_std+P3b_mean+P3b_std+(1|participant)\n",
      "\n",
      "Family: binomial\t Inference: parametric\n",
      "\n",
      "Number of observations: 429\t Groups: {'participant': 22.0}\n",
      "\n",
      "Log-likelihood: -276.182 \t AIC: 640.364\n",
      "\n",
      "Random effects:\n",
      "\n",
      "                    Name  Var  Std\n",
      "participant  (Intercept)  0.0  0.0\n",
      "\n",
      "No random effect correlations specified\n",
      "\n",
      "Fixed effects:\n",
      "\n"
     ]
    },
    {
     "name": "stderr",
     "output_type": "stream",
     "text": []
    },
    {
     "name": "stdout",
     "output_type": "stream",
     "text": [
      "boundary (singular) fit: see ?isSingular \n",
      "\n",
      "Linear mixed model fit by maximum likelihood  ['lmerMod']\n",
      "Formula: mind_numeric~wSMI_1_mean+wSMI_1_std+wSMI_2_mean+wSMI_2_std+wSMI_4_mean+wSMI_4_std+wSMI_8_mean+wSMI_8_std+p_e_1_mean+p_e_1_std+p_e_2_mean+p_e_2_std+p_e_4_mean+p_e_4_std+p_e_8_mean+p_e_8_std+k_mean+k_std+se_mean+se_std+msf_std+sef90_std+sef95_std+b_std+b_n_std+g_std+g_n_std+t_std+t_n_std+d_mean+d_std+d_n_std+a_n_std+a_std+CNV_mean+CNV_std+P1_mean+P1_std+P3a_mean+P3a_std+P3b_mean+P3b_std+(1|participant)\n",
      "\n",
      "Family: binomial\t Inference: parametric\n",
      "\n",
      "Number of observations: 429\t Groups: {'participant': 22.0}\n",
      "\n",
      "Log-likelihood: -277.535 \t AIC: 643.071\n",
      "\n",
      "Random effects:\n",
      "\n",
      "                    Name  Var  Std\n",
      "participant  (Intercept)  0.0  0.0\n",
      "\n",
      "No random effect correlations specified\n",
      "\n",
      "Fixed effects:\n",
      "\n"
     ]
    },
    {
     "name": "stderr",
     "output_type": "stream",
     "text": []
    },
    {
     "name": "stdout",
     "output_type": "stream",
     "text": [
      "boundary (singular) fit: see ?isSingular \n",
      "\n",
      "Linear mixed model fit by maximum likelihood  ['lmerMod']\n",
      "Formula: mind_numeric~wSMI_1_mean+wSMI_1_std+wSMI_2_mean+wSMI_2_std+wSMI_4_mean+wSMI_4_std+wSMI_8_mean+wSMI_8_std+p_e_1_mean+p_e_1_std+p_e_2_mean+p_e_2_std+p_e_4_mean+p_e_4_std+p_e_8_mean+p_e_8_std+k_mean+k_std+se_mean+se_std+msf_std+sef90_std+sef95_std+b_std+b_n_std+g_std+g_n_std+t_std+t_n_std+d_mean+d_std+d_n_std+a_n_std+a_std+CNV_mean+CNV_std+P1_mean+P1_std+P3a_mean+P3a_std+P3b_mean+P3b_std+(1|participant)\n",
      "\n",
      "Family: binomial\t Inference: parametric\n",
      "\n",
      "Number of observations: 429\t Groups: {'participant': 22.0}\n",
      "\n",
      "Log-likelihood: -268.286 \t AIC: 624.572\n",
      "\n",
      "Random effects:\n",
      "\n",
      "                    Name  Var  Std\n",
      "participant  (Intercept)  0.0  0.0\n",
      "\n",
      "No random effect correlations specified\n",
      "\n",
      "Fixed effects:\n",
      "\n"
     ]
    },
    {
     "name": "stderr",
     "output_type": "stream",
     "text": []
    },
    {
     "name": "stdout",
     "output_type": "stream",
     "text": [
      "boundary (singular) fit: see ?isSingular \n",
      "\n",
      "Linear mixed model fit by maximum likelihood  ['lmerMod']\n",
      "Formula: mind_numeric~wSMI_1_mean+wSMI_1_std+wSMI_2_mean+wSMI_2_std+wSMI_4_mean+wSMI_4_std+wSMI_8_mean+wSMI_8_std+p_e_1_mean+p_e_1_std+p_e_2_mean+p_e_2_std+p_e_4_mean+p_e_4_std+p_e_8_mean+p_e_8_std+k_mean+k_std+se_mean+se_std+msf_std+sef90_std+sef95_std+b_std+b_n_std+g_std+g_n_std+t_std+t_n_std+d_mean+d_std+d_n_std+a_n_std+a_std+CNV_mean+CNV_std+P1_mean+P1_std+P3a_mean+P3a_std+P3b_mean+P3b_std+(1|participant)\n",
      "\n",
      "Family: binomial\t Inference: parametric\n",
      "\n",
      "Number of observations: 429\t Groups: {'participant': 22.0}\n",
      "\n",
      "Log-likelihood: -270.033 \t AIC: 628.067\n",
      "\n",
      "Random effects:\n",
      "\n",
      "                    Name  Var  Std\n",
      "participant  (Intercept)  0.0  0.0\n",
      "\n",
      "No random effect correlations specified\n",
      "\n",
      "Fixed effects:\n",
      "\n"
     ]
    },
    {
     "name": "stderr",
     "output_type": "stream",
     "text": []
    },
    {
     "name": "stdout",
     "output_type": "stream",
     "text": [
      "boundary (singular) fit: see ?isSingular \n",
      "\n",
      "Linear mixed model fit by maximum likelihood  ['lmerMod']\n",
      "Formula: mind_numeric~wSMI_1_mean+wSMI_1_std+wSMI_2_mean+wSMI_2_std+wSMI_4_mean+wSMI_4_std+wSMI_8_mean+wSMI_8_std+p_e_1_mean+p_e_1_std+p_e_2_mean+p_e_2_std+p_e_4_mean+p_e_4_std+p_e_8_mean+p_e_8_std+k_mean+k_std+se_mean+se_std+msf_std+sef90_std+sef95_std+b_std+b_n_std+g_std+g_n_std+t_std+t_n_std+d_mean+d_std+d_n_std+a_n_std+a_std+CNV_mean+CNV_std+P1_mean+P1_std+P3a_mean+P3a_std+P3b_mean+P3b_std+(1|participant)\n",
      "\n",
      "Family: binomial\t Inference: parametric\n",
      "\n",
      "Number of observations: 429\t Groups: {'participant': 22.0}\n",
      "\n",
      "Log-likelihood: -275.237 \t AIC: 638.474\n",
      "\n",
      "Random effects:\n",
      "\n",
      "                    Name  Var  Std\n",
      "participant  (Intercept)  0.0  0.0\n",
      "\n",
      "No random effect correlations specified\n",
      "\n",
      "Fixed effects:\n",
      "\n",
      "boundary (singular) fit: see ?isSingular \n",
      "\n",
      "Linear mixed model fit by maximum likelihood  ['lmerMod']\n",
      "Formula: mind_numeric~wSMI_1_mean+wSMI_1_std+wSMI_2_mean+wSMI_2_std+wSMI_4_mean+wSMI_4_std+wSMI_8_mean+wSMI_8_std+p_e_1_mean+p_e_1_std+p_e_2_mean+p_e_2_std+p_e_4_mean+p_e_4_std+p_e_8_mean+p_e_8_std+k_mean+k_std+se_mean+se_std+msf_std+sef90_std+sef95_std+b_std+b_n_std+g_std+g_n_std+t_std+t_n_std+d_mean+d_std+d_n_std+a_n_std+a_std+CNV_mean+CNV_std+P1_mean+P1_std+P3a_mean+P3a_std+P3b_mean+P3b_std+(1|participant)\n",
      "\n",
      "Family: binomial\t Inference: parametric\n",
      "\n",
      "Number of observations: 429\t Groups: {'participant': 22.0}\n",
      "\n",
      "Log-likelihood: -274.895 \t AIC: 637.790\n",
      "\n",
      "Random effects:\n",
      "\n",
      "                    Name  Var  Std\n",
      "participant  (Intercept)  0.0  0.0\n",
      "\n",
      "No random effect correlations specified\n",
      "\n",
      "Fixed effects:\n",
      "\n"
     ]
    },
    {
     "name": "stderr",
     "output_type": "stream",
     "text": []
    },
    {
     "name": "stdout",
     "output_type": "stream",
     "text": [
      "boundary (singular) fit: see ?isSingular \n",
      "\n",
      "Linear mixed model fit by maximum likelihood  ['lmerMod']\n",
      "Formula: mind_numeric~wSMI_1_mean+wSMI_1_std+wSMI_2_mean+wSMI_2_std+wSMI_4_mean+wSMI_4_std+wSMI_8_mean+wSMI_8_std+p_e_1_mean+p_e_1_std+p_e_2_mean+p_e_2_std+p_e_4_mean+p_e_4_std+p_e_8_mean+p_e_8_std+k_mean+k_std+se_mean+se_std+msf_std+sef90_std+sef95_std+b_std+b_n_std+g_std+g_n_std+t_std+t_n_std+d_mean+d_std+d_n_std+a_n_std+a_std+CNV_mean+CNV_std+P1_mean+P1_std+P3a_mean+P3a_std+P3b_mean+P3b_std+(1|participant)\n",
      "\n",
      "Family: binomial\t Inference: parametric\n",
      "\n",
      "Number of observations: 429\t Groups: {'participant': 22.0}\n",
      "\n",
      "Log-likelihood: -274.551 \t AIC: 637.102\n",
      "\n",
      "Random effects:\n",
      "\n",
      "                    Name  Var  Std\n",
      "participant  (Intercept)  0.0  0.0\n",
      "\n",
      "No random effect correlations specified\n",
      "\n",
      "Fixed effects:\n",
      "\n"
     ]
    },
    {
     "name": "stderr",
     "output_type": "stream",
     "text": []
    },
    {
     "name": "stdout",
     "output_type": "stream",
     "text": [
      "boundary (singular) fit: see ?isSingular \n",
      "\n",
      "Linear mixed model fit by maximum likelihood  ['lmerMod']\n",
      "Formula: mind_numeric~wSMI_1_mean+wSMI_1_std+wSMI_2_mean+wSMI_2_std+wSMI_4_mean+wSMI_4_std+wSMI_8_mean+wSMI_8_std+p_e_1_mean+p_e_1_std+p_e_2_mean+p_e_2_std+p_e_4_mean+p_e_4_std+p_e_8_mean+p_e_8_std+k_mean+k_std+se_mean+se_std+msf_std+sef90_std+sef95_std+b_std+b_n_std+g_std+g_n_std+t_std+t_n_std+d_mean+d_std+d_n_std+a_n_std+a_std+CNV_mean+CNV_std+P1_mean+P1_std+P3a_mean+P3a_std+P3b_mean+P3b_std+(1|participant)\n",
      "\n",
      "Family: binomial\t Inference: parametric\n",
      "\n",
      "Number of observations: 429\t Groups: {'participant': 22.0}\n",
      "\n",
      "Log-likelihood: -265.801 \t AIC: 619.602\n",
      "\n",
      "Random effects:\n",
      "\n",
      "                    Name  Var  Std\n",
      "participant  (Intercept)  0.0  0.0\n",
      "\n",
      "No random effect correlations specified\n",
      "\n",
      "Fixed effects:\n",
      "\n"
     ]
    },
    {
     "name": "stderr",
     "output_type": "stream",
     "text": []
    },
    {
     "name": "stdout",
     "output_type": "stream",
     "text": [
      "boundary (singular) fit: see ?isSingular \n",
      "\n",
      "Linear mixed model fit by maximum likelihood  ['lmerMod']\n",
      "Formula: mind_numeric~wSMI_1_mean+wSMI_1_std+wSMI_2_mean+wSMI_2_std+wSMI_4_mean+wSMI_4_std+wSMI_8_mean+wSMI_8_std+p_e_1_mean+p_e_1_std+p_e_2_mean+p_e_2_std+p_e_4_mean+p_e_4_std+p_e_8_mean+p_e_8_std+k_mean+k_std+se_mean+se_std+msf_std+sef90_std+sef95_std+b_std+b_n_std+g_std+g_n_std+t_std+t_n_std+d_mean+d_std+d_n_std+a_n_std+a_std+CNV_mean+CNV_std+P1_mean+P1_std+P3a_mean+P3a_std+P3b_mean+P3b_std+(1|participant)\n",
      "\n",
      "Family: binomial\t Inference: parametric\n",
      "\n",
      "Number of observations: 429\t Groups: {'participant': 22.0}\n",
      "\n",
      "Log-likelihood: -280.414 \t AIC: 648.829\n",
      "\n",
      "Random effects:\n",
      "\n",
      "                    Name  Var  Std\n",
      "participant  (Intercept)  0.0  0.0\n",
      "\n",
      "No random effect correlations specified\n",
      "\n",
      "Fixed effects:\n",
      "\n"
     ]
    },
    {
     "name": "stderr",
     "output_type": "stream",
     "text": []
    },
    {
     "name": "stdout",
     "output_type": "stream",
     "text": [
      "boundary (singular) fit: see ?isSingular \n",
      "\n",
      "Linear mixed model fit by maximum likelihood  ['lmerMod']\n",
      "Formula: mind_numeric~wSMI_1_mean+wSMI_1_std+wSMI_2_mean+wSMI_2_std+wSMI_4_mean+wSMI_4_std+wSMI_8_mean+wSMI_8_std+p_e_1_mean+p_e_1_std+p_e_2_mean+p_e_2_std+p_e_4_mean+p_e_4_std+p_e_8_mean+p_e_8_std+k_mean+k_std+se_mean+se_std+msf_std+sef90_std+sef95_std+b_std+b_n_std+g_std+g_n_std+t_std+t_n_std+d_mean+d_std+d_n_std+a_n_std+a_std+CNV_mean+CNV_std+P1_mean+P1_std+P3a_mean+P3a_std+P3b_mean+P3b_std+(1|participant)\n",
      "\n",
      "Family: binomial\t Inference: parametric\n",
      "\n",
      "Number of observations: 429\t Groups: {'participant': 22.0}\n",
      "\n",
      "Log-likelihood: -280.005 \t AIC: 648.011\n",
      "\n",
      "Random effects:\n",
      "\n",
      "                    Name  Var  Std\n",
      "participant  (Intercept)  0.0  0.0\n",
      "\n",
      "No random effect correlations specified\n",
      "\n",
      "Fixed effects:\n",
      "\n"
     ]
    },
    {
     "name": "stderr",
     "output_type": "stream",
     "text": []
    },
    {
     "name": "stdout",
     "output_type": "stream",
     "text": [
      "boundary (singular) fit: see ?isSingular \n",
      "\n",
      "Linear mixed model fit by maximum likelihood  ['lmerMod']\n",
      "Formula: mind_numeric~wSMI_1_mean+wSMI_1_std+wSMI_2_mean+wSMI_2_std+wSMI_4_mean+wSMI_4_std+wSMI_8_mean+wSMI_8_std+p_e_1_mean+p_e_1_std+p_e_2_mean+p_e_2_std+p_e_4_mean+p_e_4_std+p_e_8_mean+p_e_8_std+k_mean+k_std+se_mean+se_std+msf_std+sef90_std+sef95_std+b_std+b_n_std+g_std+g_n_std+t_std+t_n_std+d_mean+d_std+d_n_std+a_n_std+a_std+CNV_mean+CNV_std+P1_mean+P1_std+P3a_mean+P3a_std+P3b_mean+P3b_std+(1|participant)\n",
      "\n",
      "Family: binomial\t Inference: parametric\n",
      "\n",
      "Number of observations: 429\t Groups: {'participant': 22.0}\n",
      "\n",
      "Log-likelihood: -269.438 \t AIC: 626.876\n",
      "\n",
      "Random effects:\n",
      "\n",
      "                    Name  Var  Std\n",
      "participant  (Intercept)  0.0  0.0\n",
      "\n",
      "No random effect correlations specified\n",
      "\n",
      "Fixed effects:\n",
      "\n"
     ]
    },
    {
     "name": "stderr",
     "output_type": "stream",
     "text": []
    },
    {
     "name": "stdout",
     "output_type": "stream",
     "text": [
      "boundary (singular) fit: see ?isSingular \n",
      "\n",
      "Linear mixed model fit by maximum likelihood  ['lmerMod']\n",
      "Formula: mind_numeric~wSMI_1_mean+wSMI_1_std+wSMI_2_mean+wSMI_2_std+wSMI_4_mean+wSMI_4_std+wSMI_8_mean+wSMI_8_std+p_e_1_mean+p_e_1_std+p_e_2_mean+p_e_2_std+p_e_4_mean+p_e_4_std+p_e_8_mean+p_e_8_std+k_mean+k_std+se_mean+se_std+msf_std+sef90_std+sef95_std+b_std+b_n_std+g_std+g_n_std+t_std+t_n_std+d_mean+d_std+d_n_std+a_n_std+a_std+CNV_mean+CNV_std+P1_mean+P1_std+P3a_mean+P3a_std+P3b_mean+P3b_std+(1|participant)\n",
      "\n",
      "Family: binomial\t Inference: parametric\n",
      "\n",
      "Number of observations: 429\t Groups: {'participant': 22.0}\n",
      "\n",
      "Log-likelihood: -266.242 \t AIC: 620.483\n",
      "\n",
      "Random effects:\n",
      "\n",
      "                    Name  Var  Std\n",
      "participant  (Intercept)  0.0  0.0\n",
      "\n",
      "No random effect correlations specified\n",
      "\n",
      "Fixed effects:\n",
      "\n"
     ]
    },
    {
     "name": "stderr",
     "output_type": "stream",
     "text": []
    },
    {
     "name": "stdout",
     "output_type": "stream",
     "text": [
      "boundary (singular) fit: see ?isSingular \n",
      "\n",
      "Linear mixed model fit by maximum likelihood  ['lmerMod']\n",
      "Formula: mind_numeric~wSMI_1_mean+wSMI_1_std+wSMI_2_mean+wSMI_2_std+wSMI_4_mean+wSMI_4_std+wSMI_8_mean+wSMI_8_std+p_e_1_mean+p_e_1_std+p_e_2_mean+p_e_2_std+p_e_4_mean+p_e_4_std+p_e_8_mean+p_e_8_std+k_mean+k_std+se_mean+se_std+msf_std+sef90_std+sef95_std+b_std+b_n_std+g_std+g_n_std+t_std+t_n_std+d_mean+d_std+d_n_std+a_n_std+a_std+CNV_mean+CNV_std+P1_mean+P1_std+P3a_mean+P3a_std+P3b_mean+P3b_std+(1|participant)\n",
      "\n",
      "Family: binomial\t Inference: parametric\n",
      "\n",
      "Number of observations: 429\t Groups: {'participant': 22.0}\n",
      "\n",
      "Log-likelihood: -272.844 \t AIC: 633.689\n",
      "\n",
      "Random effects:\n",
      "\n",
      "                    Name  Var  Std\n",
      "participant  (Intercept)  0.0  0.0\n",
      "\n",
      "No random effect correlations specified\n",
      "\n",
      "Fixed effects:\n",
      "\n"
     ]
    },
    {
     "name": "stderr",
     "output_type": "stream",
     "text": []
    },
    {
     "name": "stdout",
     "output_type": "stream",
     "text": [
      "boundary (singular) fit: see ?isSingular \n",
      "\n",
      "Linear mixed model fit by maximum likelihood  ['lmerMod']\n",
      "Formula: mind_numeric~wSMI_1_mean+wSMI_1_std+wSMI_2_mean+wSMI_2_std+wSMI_4_mean+wSMI_4_std+wSMI_8_mean+wSMI_8_std+p_e_1_mean+p_e_1_std+p_e_2_mean+p_e_2_std+p_e_4_mean+p_e_4_std+p_e_8_mean+p_e_8_std+k_mean+k_std+se_mean+se_std+msf_std+sef90_std+sef95_std+b_std+b_n_std+g_std+g_n_std+t_std+t_n_std+d_mean+d_std+d_n_std+a_n_std+a_std+CNV_mean+CNV_std+P1_mean+P1_std+P3a_mean+P3a_std+P3b_mean+P3b_std+(1|participant)\n",
      "\n",
      "Family: binomial\t Inference: parametric\n",
      "\n",
      "Number of observations: 429\t Groups: {'participant': 22.0}\n",
      "\n",
      "Log-likelihood: -275.898 \t AIC: 639.796\n",
      "\n",
      "Random effects:\n",
      "\n",
      "                    Name  Var  Std\n",
      "participant  (Intercept)  0.0  0.0\n",
      "\n",
      "No random effect correlations specified\n",
      "\n",
      "Fixed effects:\n",
      "\n",
      "[1] \"failure to converge in 10000 evaluations\"\n",
      "[2] \" \\n\"                                     \n",
      "\n",
      "unable to evaluate scaled gradient \n",
      "\n",
      "Model failed to converge: degenerate  Hessian with 3 negative eigenvalues \n",
      "\n",
      "Linear mixed model fit by maximum likelihood  ['lmerMod']\n",
      "Formula: mind_numeric~wSMI_1_mean+wSMI_1_std+wSMI_2_mean+wSMI_2_std+wSMI_4_mean+wSMI_4_std+wSMI_8_mean+wSMI_8_std+p_e_1_mean+p_e_1_std+p_e_2_mean+p_e_2_std+p_e_4_mean+p_e_4_std+p_e_8_mean+p_e_8_std+k_mean+k_std+se_mean+se_std+msf_std+sef90_std+sef95_std+b_std+b_n_std+g_std+g_n_std+t_std+t_n_std+d_mean+d_std+d_n_std+a_n_std+a_std+CNV_mean+CNV_std+P1_mean+P1_std+P3a_mean+P3a_std+P3b_mean+P3b_std+(1|participant)\n",
      "\n",
      "Family: binomial\t Inference: parametric\n",
      "\n",
      "Number of observations: 429\t Groups: {'participant': 22.0}\n",
      "\n",
      "Log-likelihood: -273.693 \t AIC: 635.386\n",
      "\n",
      "Random effects:\n",
      "\n",
      "                    Name    Var    Std\n",
      "participant  (Intercept)  0.042  0.206\n",
      "\n",
      "No random effect correlations specified\n",
      "\n",
      "Fixed effects:\n",
      "\n"
     ]
    },
    {
     "name": "stderr",
     "output_type": "stream",
     "text": []
    },
    {
     "name": "stdout",
     "output_type": "stream",
     "text": [
      "boundary (singular) fit: see ?isSingular \n",
      "\n",
      "Linear mixed model fit by maximum likelihood  ['lmerMod']\n",
      "Formula: mind_numeric~wSMI_1_mean+wSMI_1_std+wSMI_2_mean+wSMI_2_std+wSMI_4_mean+wSMI_4_std+wSMI_8_mean+wSMI_8_std+p_e_1_mean+p_e_1_std+p_e_2_mean+p_e_2_std+p_e_4_mean+p_e_4_std+p_e_8_mean+p_e_8_std+k_mean+k_std+se_mean+se_std+msf_std+sef90_std+sef95_std+b_std+b_n_std+g_std+g_n_std+t_std+t_n_std+d_mean+d_std+d_n_std+a_n_std+a_std+CNV_mean+CNV_std+P1_mean+P1_std+P3a_mean+P3a_std+P3b_mean+P3b_std+(1|participant)\n",
      "\n",
      "Family: binomial\t Inference: parametric\n",
      "\n",
      "Number of observations: 429\t Groups: {'participant': 22.0}\n",
      "\n",
      "Log-likelihood: -279.579 \t AIC: 647.157\n",
      "\n",
      "Random effects:\n",
      "\n",
      "                    Name  Var  Std\n",
      "participant  (Intercept)  0.0  0.0\n",
      "\n",
      "No random effect correlations specified\n",
      "\n",
      "Fixed effects:\n",
      "\n"
     ]
    },
    {
     "name": "stderr",
     "output_type": "stream",
     "text": []
    },
    {
     "name": "stdout",
     "output_type": "stream",
     "text": [
      "boundary (singular) fit: see ?isSingular \n",
      "\n",
      "Linear mixed model fit by maximum likelihood  ['lmerMod']\n",
      "Formula: mind_numeric~wSMI_1_mean+wSMI_1_std+wSMI_2_mean+wSMI_2_std+wSMI_4_mean+wSMI_4_std+wSMI_8_mean+wSMI_8_std+p_e_1_mean+p_e_1_std+p_e_2_mean+p_e_2_std+p_e_4_mean+p_e_4_std+p_e_8_mean+p_e_8_std+k_mean+k_std+se_mean+se_std+msf_std+sef90_std+sef95_std+b_std+b_n_std+g_std+g_n_std+t_std+t_n_std+d_mean+d_std+d_n_std+a_n_std+a_std+CNV_mean+CNV_std+P1_mean+P1_std+P3a_mean+P3a_std+P3b_mean+P3b_std+(1|participant)\n",
      "\n",
      "Family: binomial\t Inference: parametric\n",
      "\n",
      "Number of observations: 429\t Groups: {'participant': 22.0}\n",
      "\n",
      "Log-likelihood: -265.953 \t AIC: 619.906\n",
      "\n",
      "Random effects:\n",
      "\n",
      "                    Name  Var  Std\n",
      "participant  (Intercept)  0.0  0.0\n",
      "\n",
      "No random effect correlations specified\n",
      "\n",
      "Fixed effects:\n",
      "\n"
     ]
    },
    {
     "name": "stderr",
     "output_type": "stream",
     "text": [
      "\n",
      "Permutation Test:  43%|████▎     | 43/100 [10:50<14:48, 15.58s/it]"
     ]
    },
    {
     "name": "stdout",
     "output_type": "stream",
     "text": [
      "boundary (singular) fit: see ?isSingular \n",
      "\n",
      "Linear mixed model fit by maximum likelihood  ['lmerMod']\n",
      "Formula: mind_numeric~wSMI_1_mean+wSMI_1_std+wSMI_2_mean+wSMI_2_std+wSMI_4_mean+wSMI_4_std+wSMI_8_mean+wSMI_8_std+p_e_1_mean+p_e_1_std+p_e_2_mean+p_e_2_std+p_e_4_mean+p_e_4_std+p_e_8_mean+p_e_8_std+k_mean+k_std+se_mean+se_std+msf_std+sef90_std+sef95_std+b_std+b_n_std+g_std+g_n_std+t_std+t_n_std+d_mean+d_std+d_n_std+a_n_std+a_std+CNV_mean+CNV_std+P1_mean+P1_std+P3a_mean+P3a_std+P3b_mean+P3b_std+(1|participant)\n",
      "\n",
      "Family: binomial\t Inference: parametric\n",
      "\n",
      "Number of observations: 429\t Groups: {'participant': 22.0}\n",
      "\n",
      "Log-likelihood: -272.164 \t AIC: 632.327\n",
      "\n",
      "Random effects:\n",
      "\n",
      "                    Name  Var  Std\n",
      "participant  (Intercept)  0.0  0.0\n",
      "\n",
      "No random effect correlations specified\n",
      "\n",
      "Fixed effects:\n",
      "\n"
     ]
    },
    {
     "name": "stderr",
     "output_type": "stream",
     "text": [
      "\u001b[A"
     ]
    },
    {
     "name": "stdout",
     "output_type": "stream",
     "text": [
      "boundary (singular) fit: see ?isSingular \n",
      "\n",
      "Linear mixed model fit by maximum likelihood  ['lmerMod']\n",
      "Formula: mind_numeric~wSMI_1_mean+wSMI_1_std+wSMI_2_mean+wSMI_2_std+wSMI_4_mean+wSMI_4_std+wSMI_8_mean+wSMI_8_std+p_e_1_mean+p_e_1_std+p_e_2_mean+p_e_2_std+p_e_4_mean+p_e_4_std+p_e_8_mean+p_e_8_std+k_mean+k_std+se_mean+se_std+msf_std+sef90_std+sef95_std+b_std+b_n_std+g_std+g_n_std+t_std+t_n_std+d_mean+d_std+d_n_std+a_n_std+a_std+CNV_mean+CNV_std+P1_mean+P1_std+P3a_mean+P3a_std+P3b_mean+P3b_std+(1|participant)\n",
      "\n",
      "Family: binomial\t Inference: parametric\n",
      "\n",
      "Number of observations: 429\t Groups: {'participant': 22.0}\n",
      "\n",
      "Log-likelihood: -268.360 \t AIC: 624.721\n",
      "\n",
      "Random effects:\n",
      "\n",
      "                    Name  Var  Std\n",
      "participant  (Intercept)  0.0  0.0\n",
      "\n",
      "No random effect correlations specified\n",
      "\n",
      "Fixed effects:\n",
      "\n"
     ]
    },
    {
     "name": "stderr",
     "output_type": "stream",
     "text": []
    },
    {
     "name": "stdout",
     "output_type": "stream",
     "text": [
      "boundary (singular) fit: see ?isSingular \n",
      "\n",
      "Linear mixed model fit by maximum likelihood  ['lmerMod']\n",
      "Formula: mind_numeric~wSMI_1_mean+wSMI_1_std+wSMI_2_mean+wSMI_2_std+wSMI_4_mean+wSMI_4_std+wSMI_8_mean+wSMI_8_std+p_e_1_mean+p_e_1_std+p_e_2_mean+p_e_2_std+p_e_4_mean+p_e_4_std+p_e_8_mean+p_e_8_std+k_mean+k_std+se_mean+se_std+msf_std+sef90_std+sef95_std+b_std+b_n_std+g_std+g_n_std+t_std+t_n_std+d_mean+d_std+d_n_std+a_n_std+a_std+CNV_mean+CNV_std+P1_mean+P1_std+P3a_mean+P3a_std+P3b_mean+P3b_std+(1|participant)\n",
      "\n",
      "Family: binomial\t Inference: parametric\n",
      "\n",
      "Number of observations: 429\t Groups: {'participant': 22.0}\n",
      "\n",
      "Log-likelihood: -270.041 \t AIC: 628.083\n",
      "\n",
      "Random effects:\n",
      "\n",
      "                    Name  Var  Std\n",
      "participant  (Intercept)  0.0  0.0\n",
      "\n",
      "No random effect correlations specified\n",
      "\n",
      "Fixed effects:\n",
      "\n"
     ]
    },
    {
     "name": "stderr",
     "output_type": "stream",
     "text": []
    },
    {
     "name": "stdout",
     "output_type": "stream",
     "text": [
      "[1] \"failure to converge in 10000 evaluations\"\n",
      "[2] \" \\n\"                                     \n",
      "\n",
      "unable to evaluate scaled gradient \n",
      "\n",
      "Model failed to converge: degenerate  Hessian with 7 negative eigenvalues \n",
      "\n",
      "Linear mixed model fit by maximum likelihood  ['lmerMod']\n",
      "Formula: mind_numeric~wSMI_1_mean+wSMI_1_std+wSMI_2_mean+wSMI_2_std+wSMI_4_mean+wSMI_4_std+wSMI_8_mean+wSMI_8_std+p_e_1_mean+p_e_1_std+p_e_2_mean+p_e_2_std+p_e_4_mean+p_e_4_std+p_e_8_mean+p_e_8_std+k_mean+k_std+se_mean+se_std+msf_std+sef90_std+sef95_std+b_std+b_n_std+g_std+g_n_std+t_std+t_n_std+d_mean+d_std+d_n_std+a_n_std+a_std+CNV_mean+CNV_std+P1_mean+P1_std+P3a_mean+P3a_std+P3b_mean+P3b_std+(1|participant)\n",
      "\n",
      "Family: binomial\t Inference: parametric\n",
      "\n",
      "Number of observations: 429\t Groups: {'participant': 22.0}\n",
      "\n",
      "Log-likelihood: -265.837 \t AIC: 619.675\n",
      "\n",
      "Random effects:\n",
      "\n",
      "                    Name    Var   Std\n",
      "participant  (Intercept)  0.193  0.44\n",
      "\n",
      "No random effect correlations specified\n",
      "\n",
      "Fixed effects:\n",
      "\n"
     ]
    },
    {
     "name": "stderr",
     "output_type": "stream",
     "text": []
    },
    {
     "name": "stdout",
     "output_type": "stream",
     "text": [
      "[1] \"failure to converge in 10000 evaluations\"\n",
      "[2] \" \\n\"                                     \n",
      "\n",
      "unable to evaluate scaled gradient \n",
      "\n",
      "Model failed to converge: degenerate  Hessian with 1 negative eigenvalues \n",
      "\n",
      "Linear mixed model fit by maximum likelihood  ['lmerMod']\n",
      "Formula: mind_numeric~wSMI_1_mean+wSMI_1_std+wSMI_2_mean+wSMI_2_std+wSMI_4_mean+wSMI_4_std+wSMI_8_mean+wSMI_8_std+p_e_1_mean+p_e_1_std+p_e_2_mean+p_e_2_std+p_e_4_mean+p_e_4_std+p_e_8_mean+p_e_8_std+k_mean+k_std+se_mean+se_std+msf_std+sef90_std+sef95_std+b_std+b_n_std+g_std+g_n_std+t_std+t_n_std+d_mean+d_std+d_n_std+a_n_std+a_std+CNV_mean+CNV_std+P1_mean+P1_std+P3a_mean+P3a_std+P3b_mean+P3b_std+(1|participant)\n",
      "\n",
      "Family: binomial\t Inference: parametric\n",
      "\n",
      "Number of observations: 429\t Groups: {'participant': 22.0}\n",
      "\n",
      "Log-likelihood: -276.386 \t AIC: 640.772\n",
      "\n",
      "Random effects:\n",
      "\n",
      "                    Name    Var   Std\n",
      "participant  (Intercept)  0.067  0.26\n",
      "\n",
      "No random effect correlations specified\n",
      "\n",
      "Fixed effects:\n",
      "\n"
     ]
    },
    {
     "name": "stderr",
     "output_type": "stream",
     "text": []
    },
    {
     "name": "stdout",
     "output_type": "stream",
     "text": [
      "boundary (singular) fit: see ?isSingular \n",
      "\n",
      "Linear mixed model fit by maximum likelihood  ['lmerMod']\n",
      "Formula: mind_numeric~wSMI_1_mean+wSMI_1_std+wSMI_2_mean+wSMI_2_std+wSMI_4_mean+wSMI_4_std+wSMI_8_mean+wSMI_8_std+p_e_1_mean+p_e_1_std+p_e_2_mean+p_e_2_std+p_e_4_mean+p_e_4_std+p_e_8_mean+p_e_8_std+k_mean+k_std+se_mean+se_std+msf_std+sef90_std+sef95_std+b_std+b_n_std+g_std+g_n_std+t_std+t_n_std+d_mean+d_std+d_n_std+a_n_std+a_std+CNV_mean+CNV_std+P1_mean+P1_std+P3a_mean+P3a_std+P3b_mean+P3b_std+(1|participant)\n",
      "\n",
      "Family: binomial\t Inference: parametric\n",
      "\n",
      "Number of observations: 429\t Groups: {'participant': 22.0}\n",
      "\n",
      "Log-likelihood: -274.804 \t AIC: 637.609\n",
      "\n",
      "Random effects:\n",
      "\n",
      "                    Name  Var  Std\n",
      "participant  (Intercept)  0.0  0.0\n",
      "\n",
      "No random effect correlations specified\n",
      "\n",
      "Fixed effects:\n",
      "\n"
     ]
    },
    {
     "name": "stderr",
     "output_type": "stream",
     "text": []
    },
    {
     "name": "stdout",
     "output_type": "stream",
     "text": [
      "boundary (singular) fit: see ?isSingular \n",
      "\n",
      "Linear mixed model fit by maximum likelihood  ['lmerMod']\n",
      "Formula: mind_numeric~wSMI_1_mean+wSMI_1_std+wSMI_2_mean+wSMI_2_std+wSMI_4_mean+wSMI_4_std+wSMI_8_mean+wSMI_8_std+p_e_1_mean+p_e_1_std+p_e_2_mean+p_e_2_std+p_e_4_mean+p_e_4_std+p_e_8_mean+p_e_8_std+k_mean+k_std+se_mean+se_std+msf_std+sef90_std+sef95_std+b_std+b_n_std+g_std+g_n_std+t_std+t_n_std+d_mean+d_std+d_n_std+a_n_std+a_std+CNV_mean+CNV_std+P1_mean+P1_std+P3a_mean+P3a_std+P3b_mean+P3b_std+(1|participant)\n",
      "\n",
      "Family: binomial\t Inference: parametric\n",
      "\n",
      "Number of observations: 429\t Groups: {'participant': 22.0}\n",
      "\n",
      "Log-likelihood: -263.634 \t AIC: 615.268\n",
      "\n",
      "Random effects:\n",
      "\n",
      "                    Name  Var  Std\n",
      "participant  (Intercept)  0.0  0.0\n",
      "\n",
      "No random effect correlations specified\n",
      "\n",
      "Fixed effects:\n",
      "\n"
     ]
    },
    {
     "name": "stderr",
     "output_type": "stream",
     "text": []
    },
    {
     "name": "stdout",
     "output_type": "stream",
     "text": [
      "boundary (singular) fit: see ?isSingular \n",
      "\n",
      "Linear mixed model fit by maximum likelihood  ['lmerMod']\n",
      "Formula: mind_numeric~wSMI_1_mean+wSMI_1_std+wSMI_2_mean+wSMI_2_std+wSMI_4_mean+wSMI_4_std+wSMI_8_mean+wSMI_8_std+p_e_1_mean+p_e_1_std+p_e_2_mean+p_e_2_std+p_e_4_mean+p_e_4_std+p_e_8_mean+p_e_8_std+k_mean+k_std+se_mean+se_std+msf_std+sef90_std+sef95_std+b_std+b_n_std+g_std+g_n_std+t_std+t_n_std+d_mean+d_std+d_n_std+a_n_std+a_std+CNV_mean+CNV_std+P1_mean+P1_std+P3a_mean+P3a_std+P3b_mean+P3b_std+(1|participant)\n",
      "\n",
      "Family: binomial\t Inference: parametric\n",
      "\n",
      "Number of observations: 429\t Groups: {'participant': 22.0}\n",
      "\n",
      "Log-likelihood: -275.435 \t AIC: 638.871\n",
      "\n",
      "Random effects:\n",
      "\n",
      "                    Name  Var  Std\n",
      "participant  (Intercept)  0.0  0.0\n",
      "\n",
      "No random effect correlations specified\n",
      "\n",
      "Fixed effects:\n",
      "\n"
     ]
    },
    {
     "name": "stderr",
     "output_type": "stream",
     "text": []
    },
    {
     "name": "stdout",
     "output_type": "stream",
     "text": [
      "boundary (singular) fit: see ?isSingular \n",
      "\n",
      "Linear mixed model fit by maximum likelihood  ['lmerMod']\n",
      "Formula: mind_numeric~wSMI_1_mean+wSMI_1_std+wSMI_2_mean+wSMI_2_std+wSMI_4_mean+wSMI_4_std+wSMI_8_mean+wSMI_8_std+p_e_1_mean+p_e_1_std+p_e_2_mean+p_e_2_std+p_e_4_mean+p_e_4_std+p_e_8_mean+p_e_8_std+k_mean+k_std+se_mean+se_std+msf_std+sef90_std+sef95_std+b_std+b_n_std+g_std+g_n_std+t_std+t_n_std+d_mean+d_std+d_n_std+a_n_std+a_std+CNV_mean+CNV_std+P1_mean+P1_std+P3a_mean+P3a_std+P3b_mean+P3b_std+(1|participant)\n",
      "\n",
      "Family: binomial\t Inference: parametric\n",
      "\n",
      "Number of observations: 429\t Groups: {'participant': 22.0}\n",
      "\n",
      "Log-likelihood: -271.885 \t AIC: 631.770\n",
      "\n",
      "Random effects:\n",
      "\n",
      "                    Name  Var  Std\n",
      "participant  (Intercept)  0.0  0.0\n",
      "\n",
      "No random effect correlations specified\n",
      "\n",
      "Fixed effects:\n",
      "\n"
     ]
    },
    {
     "name": "stderr",
     "output_type": "stream",
     "text": []
    },
    {
     "name": "stdout",
     "output_type": "stream",
     "text": [
      "boundary (singular) fit: see ?isSingular \n",
      "\n",
      "Linear mixed model fit by maximum likelihood  ['lmerMod']\n",
      "Formula: mind_numeric~wSMI_1_mean+wSMI_1_std+wSMI_2_mean+wSMI_2_std+wSMI_4_mean+wSMI_4_std+wSMI_8_mean+wSMI_8_std+p_e_1_mean+p_e_1_std+p_e_2_mean+p_e_2_std+p_e_4_mean+p_e_4_std+p_e_8_mean+p_e_8_std+k_mean+k_std+se_mean+se_std+msf_std+sef90_std+sef95_std+b_std+b_n_std+g_std+g_n_std+t_std+t_n_std+d_mean+d_std+d_n_std+a_n_std+a_std+CNV_mean+CNV_std+P1_mean+P1_std+P3a_mean+P3a_std+P3b_mean+P3b_std+(1|participant)\n",
      "\n",
      "Family: binomial\t Inference: parametric\n",
      "\n",
      "Number of observations: 429\t Groups: {'participant': 22.0}\n",
      "\n",
      "Log-likelihood: -276.635 \t AIC: 641.271\n",
      "\n",
      "Random effects:\n",
      "\n",
      "                    Name  Var  Std\n",
      "participant  (Intercept)  0.0  0.0\n",
      "\n",
      "No random effect correlations specified\n",
      "\n",
      "Fixed effects:\n",
      "\n"
     ]
    },
    {
     "name": "stderr",
     "output_type": "stream",
     "text": []
    },
    {
     "name": "stdout",
     "output_type": "stream",
     "text": [
      "boundary (singular) fit: see ?isSingular \n",
      "\n",
      "Linear mixed model fit by maximum likelihood  ['lmerMod']\n",
      "Formula: mind_numeric~wSMI_1_mean+wSMI_1_std+wSMI_2_mean+wSMI_2_std+wSMI_4_mean+wSMI_4_std+wSMI_8_mean+wSMI_8_std+p_e_1_mean+p_e_1_std+p_e_2_mean+p_e_2_std+p_e_4_mean+p_e_4_std+p_e_8_mean+p_e_8_std+k_mean+k_std+se_mean+se_std+msf_std+sef90_std+sef95_std+b_std+b_n_std+g_std+g_n_std+t_std+t_n_std+d_mean+d_std+d_n_std+a_n_std+a_std+CNV_mean+CNV_std+P1_mean+P1_std+P3a_mean+P3a_std+P3b_mean+P3b_std+(1|participant)\n",
      "\n",
      "Family: binomial\t Inference: parametric\n",
      "\n",
      "Number of observations: 429\t Groups: {'participant': 22.0}\n",
      "\n",
      "Log-likelihood: -278.912 \t AIC: 645.825\n",
      "\n",
      "Random effects:\n",
      "\n",
      "                    Name  Var  Std\n",
      "participant  (Intercept)  0.0  0.0\n",
      "\n",
      "No random effect correlations specified\n",
      "\n",
      "Fixed effects:\n",
      "\n"
     ]
    },
    {
     "name": "stderr",
     "output_type": "stream",
     "text": []
    },
    {
     "name": "stdout",
     "output_type": "stream",
     "text": [
      "boundary (singular) fit: see ?isSingular \n",
      "\n",
      "Linear mixed model fit by maximum likelihood  ['lmerMod']\n",
      "Formula: mind_numeric~wSMI_1_mean+wSMI_1_std+wSMI_2_mean+wSMI_2_std+wSMI_4_mean+wSMI_4_std+wSMI_8_mean+wSMI_8_std+p_e_1_mean+p_e_1_std+p_e_2_mean+p_e_2_std+p_e_4_mean+p_e_4_std+p_e_8_mean+p_e_8_std+k_mean+k_std+se_mean+se_std+msf_std+sef90_std+sef95_std+b_std+b_n_std+g_std+g_n_std+t_std+t_n_std+d_mean+d_std+d_n_std+a_n_std+a_std+CNV_mean+CNV_std+P1_mean+P1_std+P3a_mean+P3a_std+P3b_mean+P3b_std+(1|participant)\n",
      "\n",
      "Family: binomial\t Inference: parametric\n",
      "\n",
      "Number of observations: 429\t Groups: {'participant': 22.0}\n",
      "\n",
      "Log-likelihood: -281.283 \t AIC: 650.566\n",
      "\n",
      "Random effects:\n",
      "\n",
      "                    Name  Var  Std\n",
      "participant  (Intercept)  0.0  0.0\n",
      "\n",
      "No random effect correlations specified\n",
      "\n",
      "Fixed effects:\n",
      "\n",
      "boundary (singular) fit: see ?isSingular \n",
      "\n",
      "Linear mixed model fit by maximum likelihood  ['lmerMod']\n",
      "Formula: mind_numeric~wSMI_1_mean+wSMI_1_std+wSMI_2_mean+wSMI_2_std+wSMI_4_mean+wSMI_4_std+wSMI_8_mean+wSMI_8_std+p_e_1_mean+p_e_1_std+p_e_2_mean+p_e_2_std+p_e_4_mean+p_e_4_std+p_e_8_mean+p_e_8_std+k_mean+k_std+se_mean+se_std+msf_std+sef90_std+sef95_std+b_std+b_n_std+g_std+g_n_std+t_std+t_n_std+d_mean+d_std+d_n_std+a_n_std+a_std+CNV_mean+CNV_std+P1_mean+P1_std+P3a_mean+P3a_std+P3b_mean+P3b_std+(1|participant)\n",
      "\n",
      "Family: binomial\t Inference: parametric\n",
      "\n",
      "Number of observations: 429\t Groups: {'participant': 22.0}\n",
      "\n",
      "Log-likelihood: -274.814 \t AIC: 637.629\n",
      "\n",
      "Random effects:\n",
      "\n",
      "                    Name  Var  Std\n",
      "participant  (Intercept)  0.0  0.0\n",
      "\n",
      "No random effect correlations specified\n",
      "\n",
      "Fixed effects:\n",
      "\n"
     ]
    },
    {
     "name": "stderr",
     "output_type": "stream",
     "text": []
    },
    {
     "name": "stdout",
     "output_type": "stream",
     "text": [
      "boundary (singular) fit: see ?isSingular \n",
      "\n",
      "Linear mixed model fit by maximum likelihood  ['lmerMod']\n",
      "Formula: mind_numeric~wSMI_1_mean+wSMI_1_std+wSMI_2_mean+wSMI_2_std+wSMI_4_mean+wSMI_4_std+wSMI_8_mean+wSMI_8_std+p_e_1_mean+p_e_1_std+p_e_2_mean+p_e_2_std+p_e_4_mean+p_e_4_std+p_e_8_mean+p_e_8_std+k_mean+k_std+se_mean+se_std+msf_std+sef90_std+sef95_std+b_std+b_n_std+g_std+g_n_std+t_std+t_n_std+d_mean+d_std+d_n_std+a_n_std+a_std+CNV_mean+CNV_std+P1_mean+P1_std+P3a_mean+P3a_std+P3b_mean+P3b_std+(1|participant)\n",
      "\n",
      "Family: binomial\t Inference: parametric\n",
      "\n",
      "Number of observations: 429\t Groups: {'participant': 22.0}\n",
      "\n",
      "Log-likelihood: -268.659 \t AIC: 625.318\n",
      "\n",
      "Random effects:\n",
      "\n",
      "                    Name  Var  Std\n",
      "participant  (Intercept)  0.0  0.0\n",
      "\n",
      "No random effect correlations specified\n",
      "\n",
      "Fixed effects:\n",
      "\n",
      "boundary (singular) fit: see ?isSingular \n",
      "\n",
      "Linear mixed model fit by maximum likelihood  ['lmerMod']\n",
      "Formula: mind_numeric~wSMI_1_mean+wSMI_1_std+wSMI_2_mean+wSMI_2_std+wSMI_4_mean+wSMI_4_std+wSMI_8_mean+wSMI_8_std+p_e_1_mean+p_e_1_std+p_e_2_mean+p_e_2_std+p_e_4_mean+p_e_4_std+p_e_8_mean+p_e_8_std+k_mean+k_std+se_mean+se_std+msf_std+sef90_std+sef95_std+b_std+b_n_std+g_std+g_n_std+t_std+t_n_std+d_mean+d_std+d_n_std+a_n_std+a_std+CNV_mean+CNV_std+P1_mean+P1_std+P3a_mean+P3a_std+P3b_mean+P3b_std+(1|participant)\n",
      "\n",
      "Family: binomial\t Inference: parametric\n",
      "\n",
      "Number of observations: 429\t Groups: {'participant': 22.0}\n",
      "\n",
      "Log-likelihood: -278.691 \t AIC: 645.381\n",
      "\n",
      "Random effects:\n",
      "\n",
      "                    Name  Var  Std\n",
      "participant  (Intercept)  0.0  0.0\n",
      "\n",
      "No random effect correlations specified\n"
     ]
    },
    {
     "name": "stderr",
     "output_type": "stream",
     "text": []
    },
    {
     "name": "stdout",
     "output_type": "stream",
     "text": [
      "\n",
      "Fixed effects:\n",
      "\n",
      "boundary (singular) fit: see ?isSingular \n",
      "\n",
      "Linear mixed model fit by maximum likelihood  ['lmerMod']\n",
      "Formula: mind_numeric~wSMI_1_mean+wSMI_1_std+wSMI_2_mean+wSMI_2_std+wSMI_4_mean+wSMI_4_std+wSMI_8_mean+wSMI_8_std+p_e_1_mean+p_e_1_std+p_e_2_mean+p_e_2_std+p_e_4_mean+p_e_4_std+p_e_8_mean+p_e_8_std+k_mean+k_std+se_mean+se_std+msf_std+sef90_std+sef95_std+b_std+b_n_std+g_std+g_n_std+t_std+t_n_std+d_mean+d_std+d_n_std+a_n_std+a_std+CNV_mean+CNV_std+P1_mean+P1_std+P3a_mean+P3a_std+P3b_mean+P3b_std+(1|participant)\n",
      "\n",
      "Family: binomial\t Inference: parametric\n",
      "\n",
      "Number of observations: 429\t Groups: {'participant': 22.0}\n",
      "\n",
      "Log-likelihood: -277.992 \t AIC: 643.984\n",
      "\n",
      "Random effects:\n",
      "\n",
      "                    Name  Var  Std\n",
      "participant  (Intercept)  0.0  0.0\n",
      "\n",
      "No random effect correlations specified\n",
      "\n",
      "Fixed effects:\n",
      "\n"
     ]
    },
    {
     "name": "stderr",
     "output_type": "stream",
     "text": []
    },
    {
     "name": "stdout",
     "output_type": "stream",
     "text": [
      "boundary (singular) fit: see ?isSingular \n",
      "\n",
      "Linear mixed model fit by maximum likelihood  ['lmerMod']\n",
      "Formula: mind_numeric~wSMI_1_mean+wSMI_1_std+wSMI_2_mean+wSMI_2_std+wSMI_4_mean+wSMI_4_std+wSMI_8_mean+wSMI_8_std+p_e_1_mean+p_e_1_std+p_e_2_mean+p_e_2_std+p_e_4_mean+p_e_4_std+p_e_8_mean+p_e_8_std+k_mean+k_std+se_mean+se_std+msf_std+sef90_std+sef95_std+b_std+b_n_std+g_std+g_n_std+t_std+t_n_std+d_mean+d_std+d_n_std+a_n_std+a_std+CNV_mean+CNV_std+P1_mean+P1_std+P3a_mean+P3a_std+P3b_mean+P3b_std+(1|participant)\n",
      "\n",
      "Family: binomial\t Inference: parametric\n",
      "\n",
      "Number of observations: 429\t Groups: {'participant': 22.0}\n",
      "\n",
      "Log-likelihood: -278.520 \t AIC: 645.039\n",
      "\n",
      "Random effects:\n",
      "\n",
      "                    Name  Var  Std\n",
      "participant  (Intercept)  0.0  0.0\n",
      "\n",
      "No random effect correlations specified\n",
      "\n",
      "Fixed effects:\n",
      "\n",
      "boundary (singular) fit: see ?isSingular \n",
      "\n",
      "Linear mixed model fit by maximum likelihood  ['lmerMod']\n",
      "Formula: mind_numeric~wSMI_1_mean+wSMI_1_std+wSMI_2_mean+wSMI_2_std+wSMI_4_mean+wSMI_4_std+wSMI_8_mean+wSMI_8_std+p_e_1_mean+p_e_1_std+p_e_2_mean+p_e_2_std+p_e_4_mean+p_e_4_std+p_e_8_mean+p_e_8_std+k_mean+k_std+se_mean+se_std+msf_std+sef90_std+sef95_std+b_std+b_n_std+g_std+g_n_std+t_std+t_n_std+d_mean+d_std+d_n_std+a_n_std+a_std+CNV_mean+CNV_std+P1_mean+P1_std+P3a_mean+P3a_std+P3b_mean+P3b_std+(1|participant)\n",
      "\n",
      "Family: binomial\t Inference: parametric\n",
      "\n",
      "Number of observations: 429\t Groups: {'participant': 22.0}\n",
      "\n",
      "Log-likelihood: -275.748 \t AIC: 639.495\n",
      "\n",
      "Random effects:\n",
      "\n",
      "                    Name  Var  Std\n",
      "participant  (Intercept)  0.0  0.0\n",
      "\n",
      "No random effect correlations specified\n",
      "\n",
      "Fixed effects:\n",
      "\n"
     ]
    },
    {
     "name": "stderr",
     "output_type": "stream",
     "text": []
    },
    {
     "name": "stdout",
     "output_type": "stream",
     "text": [
      "boundary (singular) fit: see ?isSingular \n",
      "\n",
      "Linear mixed model fit by maximum likelihood  ['lmerMod']\n",
      "Formula: mind_numeric~wSMI_1_mean+wSMI_1_std+wSMI_2_mean+wSMI_2_std+wSMI_4_mean+wSMI_4_std+wSMI_8_mean+wSMI_8_std+p_e_1_mean+p_e_1_std+p_e_2_mean+p_e_2_std+p_e_4_mean+p_e_4_std+p_e_8_mean+p_e_8_std+k_mean+k_std+se_mean+se_std+msf_std+sef90_std+sef95_std+b_std+b_n_std+g_std+g_n_std+t_std+t_n_std+d_mean+d_std+d_n_std+a_n_std+a_std+CNV_mean+CNV_std+P1_mean+P1_std+P3a_mean+P3a_std+P3b_mean+P3b_std+(1|participant)\n",
      "\n",
      "Family: binomial\t Inference: parametric\n",
      "\n",
      "Number of observations: 429\t Groups: {'participant': 22.0}\n",
      "\n",
      "Log-likelihood: -261.100 \t AIC: 610.201\n",
      "\n",
      "Random effects:\n",
      "\n",
      "                    Name  Var  Std\n",
      "participant  (Intercept)  0.0  0.0\n",
      "\n",
      "No random effect correlations specified\n",
      "\n",
      "Fixed effects:\n",
      "\n"
     ]
    },
    {
     "name": "stderr",
     "output_type": "stream",
     "text": []
    },
    {
     "name": "stdout",
     "output_type": "stream",
     "text": [
      "boundary (singular) fit: see ?isSingular \n",
      "\n",
      "Linear mixed model fit by maximum likelihood  ['lmerMod']\n",
      "Formula: mind_numeric~wSMI_1_mean+wSMI_1_std+wSMI_2_mean+wSMI_2_std+wSMI_4_mean+wSMI_4_std+wSMI_8_mean+wSMI_8_std+p_e_1_mean+p_e_1_std+p_e_2_mean+p_e_2_std+p_e_4_mean+p_e_4_std+p_e_8_mean+p_e_8_std+k_mean+k_std+se_mean+se_std+msf_std+sef90_std+sef95_std+b_std+b_n_std+g_std+g_n_std+t_std+t_n_std+d_mean+d_std+d_n_std+a_n_std+a_std+CNV_mean+CNV_std+P1_mean+P1_std+P3a_mean+P3a_std+P3b_mean+P3b_std+(1|participant)\n",
      "\n",
      "Family: binomial\t Inference: parametric\n",
      "\n",
      "Number of observations: 429\t Groups: {'participant': 22.0}\n",
      "\n",
      "Log-likelihood: -274.508 \t AIC: 637.016\n",
      "\n",
      "Random effects:\n",
      "\n",
      "                    Name  Var  Std\n",
      "participant  (Intercept)  0.0  0.0\n",
      "\n",
      "No random effect correlations specified\n",
      "\n",
      "Fixed effects:\n",
      "\n"
     ]
    },
    {
     "name": "stderr",
     "output_type": "stream",
     "text": []
    },
    {
     "name": "stdout",
     "output_type": "stream",
     "text": [
      "boundary (singular) fit: see ?isSingular \n",
      "\n",
      "Linear mixed model fit by maximum likelihood  ['lmerMod']\n",
      "Formula: mind_numeric~wSMI_1_mean+wSMI_1_std+wSMI_2_mean+wSMI_2_std+wSMI_4_mean+wSMI_4_std+wSMI_8_mean+wSMI_8_std+p_e_1_mean+p_e_1_std+p_e_2_mean+p_e_2_std+p_e_4_mean+p_e_4_std+p_e_8_mean+p_e_8_std+k_mean+k_std+se_mean+se_std+msf_std+sef90_std+sef95_std+b_std+b_n_std+g_std+g_n_std+t_std+t_n_std+d_mean+d_std+d_n_std+a_n_std+a_std+CNV_mean+CNV_std+P1_mean+P1_std+P3a_mean+P3a_std+P3b_mean+P3b_std+(1|participant)\n",
      "\n",
      "Family: binomial\t Inference: parametric\n",
      "\n",
      "Number of observations: 429\t Groups: {'participant': 22.0}\n",
      "\n",
      "Log-likelihood: -273.457 \t AIC: 634.914\n",
      "\n",
      "Random effects:\n",
      "\n",
      "                    Name  Var  Std\n",
      "participant  (Intercept)  0.0  0.0\n",
      "\n",
      "No random effect correlations specified\n",
      "\n",
      "Fixed effects:\n",
      "\n"
     ]
    },
    {
     "name": "stderr",
     "output_type": "stream",
     "text": []
    },
    {
     "name": "stdout",
     "output_type": "stream",
     "text": [
      "boundary (singular) fit: see ?isSingular \n",
      "\n",
      "Linear mixed model fit by maximum likelihood  ['lmerMod']\n",
      "Formula: mind_numeric~wSMI_1_mean+wSMI_1_std+wSMI_2_mean+wSMI_2_std+wSMI_4_mean+wSMI_4_std+wSMI_8_mean+wSMI_8_std+p_e_1_mean+p_e_1_std+p_e_2_mean+p_e_2_std+p_e_4_mean+p_e_4_std+p_e_8_mean+p_e_8_std+k_mean+k_std+se_mean+se_std+msf_std+sef90_std+sef95_std+b_std+b_n_std+g_std+g_n_std+t_std+t_n_std+d_mean+d_std+d_n_std+a_n_std+a_std+CNV_mean+CNV_std+P1_mean+P1_std+P3a_mean+P3a_std+P3b_mean+P3b_std+(1|participant)\n",
      "\n",
      "Family: binomial\t Inference: parametric\n",
      "\n",
      "Number of observations: 429\t Groups: {'participant': 22.0}\n",
      "\n",
      "Log-likelihood: -280.776 \t AIC: 649.551\n",
      "\n",
      "Random effects:\n",
      "\n",
      "                    Name  Var  Std\n",
      "participant  (Intercept)  0.0  0.0\n",
      "\n",
      "No random effect correlations specified\n",
      "\n",
      "Fixed effects:\n",
      "\n",
      "boundary (singular) fit: see ?isSingular \n",
      "\n",
      "Linear mixed model fit by maximum likelihood  ['lmerMod']\n",
      "Formula: mind_numeric~wSMI_1_mean+wSMI_1_std+wSMI_2_mean+wSMI_2_std+wSMI_4_mean+wSMI_4_std+wSMI_8_mean+wSMI_8_std+p_e_1_mean+p_e_1_std+p_e_2_mean+p_e_2_std+p_e_4_mean+p_e_4_std+p_e_8_mean+p_e_8_std+k_mean+k_std+se_mean+se_std+msf_std+sef90_std+sef95_std+b_std+b_n_std+g_std+g_n_std+t_std+t_n_std+d_mean+d_std+d_n_std+a_n_std+a_std+CNV_mean+CNV_std+P1_mean+P1_std+P3a_mean+P3a_std+P3b_mean+P3b_std+(1|participant)\n",
      "\n",
      "Family: binomial\t Inference: parametric\n",
      "\n",
      "Number of observations: 429\t Groups: {'participant': 22.0}\n",
      "\n",
      "Log-likelihood: -278.651 \t AIC: 645.302\n",
      "\n",
      "Random effects:\n",
      "\n",
      "                    Name  Var  Std\n",
      "participant  (Intercept)  0.0  0.0\n",
      "\n",
      "No random effect correlations specified\n",
      "\n",
      "Fixed effects:\n",
      "\n"
     ]
    },
    {
     "name": "stderr",
     "output_type": "stream",
     "text": []
    },
    {
     "name": "stdout",
     "output_type": "stream",
     "text": [
      "boundary (singular) fit: see ?isSingular \n",
      "\n",
      "Linear mixed model fit by maximum likelihood  ['lmerMod']\n",
      "Formula: mind_numeric~wSMI_1_mean+wSMI_1_std+wSMI_2_mean+wSMI_2_std+wSMI_4_mean+wSMI_4_std+wSMI_8_mean+wSMI_8_std+p_e_1_mean+p_e_1_std+p_e_2_mean+p_e_2_std+p_e_4_mean+p_e_4_std+p_e_8_mean+p_e_8_std+k_mean+k_std+se_mean+se_std+msf_std+sef90_std+sef95_std+b_std+b_n_std+g_std+g_n_std+t_std+t_n_std+d_mean+d_std+d_n_std+a_n_std+a_std+CNV_mean+CNV_std+P1_mean+P1_std+P3a_mean+P3a_std+P3b_mean+P3b_std+(1|participant)\n",
      "\n",
      "Family: binomial\t Inference: parametric\n",
      "\n",
      "Number of observations: 429\t Groups: {'participant': 22.0}\n",
      "\n",
      "Log-likelihood: -280.353 \t AIC: 648.706\n",
      "\n",
      "Random effects:\n",
      "\n",
      "                    Name  Var  Std\n",
      "participant  (Intercept)  0.0  0.0\n",
      "\n",
      "No random effect correlations specified\n",
      "\n",
      "Fixed effects:\n",
      "\n",
      "boundary (singular) fit: see ?isSingular \n",
      "\n",
      "Linear mixed model fit by maximum likelihood  ['lmerMod']\n",
      "Formula: mind_numeric~wSMI_1_mean+wSMI_1_std+wSMI_2_mean+wSMI_2_std+wSMI_4_mean+wSMI_4_std+wSMI_8_mean+wSMI_8_std+p_e_1_mean+p_e_1_std+p_e_2_mean+p_e_2_std+p_e_4_mean+p_e_4_std+p_e_8_mean+p_e_8_std+k_mean+k_std+se_mean+se_std+msf_std+sef90_std+sef95_std+b_std+b_n_std+g_std+g_n_std+t_std+t_n_std+d_mean+d_std+d_n_std+a_n_std+a_std+CNV_mean+CNV_std+P1_mean+P1_std+P3a_mean+P3a_std+P3b_mean+P3b_std+(1|participant)\n",
      "\n",
      "Family: binomial\t Inference: parametric\n",
      "\n",
      "Number of observations: 429\t Groups: {'participant': 22.0}\n",
      "\n",
      "Log-likelihood: -278.248 \t AIC: 644.496\n",
      "\n",
      "Random effects:\n",
      "\n",
      "                    Name  Var  Std\n",
      "participant  (Intercept)  0.0  0.0\n",
      "\n",
      "No random effect correlations specified\n",
      "\n",
      "Fixed effects:\n",
      "\n"
     ]
    },
    {
     "name": "stderr",
     "output_type": "stream",
     "text": [
      "\n",
      "Permutation Test:  68%|██████▊   | 68/100 [16:26<07:45, 14.56s/it]"
     ]
    },
    {
     "name": "stdout",
     "output_type": "stream",
     "text": [
      "boundary (singular) fit: see ?isSingular \n",
      "\n",
      "Linear mixed model fit by maximum likelihood  ['lmerMod']\n",
      "Formula: mind_numeric~wSMI_1_mean+wSMI_1_std+wSMI_2_mean+wSMI_2_std+wSMI_4_mean+wSMI_4_std+wSMI_8_mean+wSMI_8_std+p_e_1_mean+p_e_1_std+p_e_2_mean+p_e_2_std+p_e_4_mean+p_e_4_std+p_e_8_mean+p_e_8_std+k_mean+k_std+se_mean+se_std+msf_std+sef90_std+sef95_std+b_std+b_n_std+g_std+g_n_std+t_std+t_n_std+d_mean+d_std+d_n_std+a_n_std+a_std+CNV_mean+CNV_std+P1_mean+P1_std+P3a_mean+P3a_std+P3b_mean+P3b_std+(1|participant)\n",
      "\n",
      "Family: binomial\t Inference: parametric\n",
      "\n",
      "Number of observations: 429\t Groups: {'participant': 22.0}\n",
      "\n",
      "Log-likelihood: -273.329 \t AIC: 634.658\n",
      "\n",
      "Random effects:\n",
      "\n",
      "                    Name  Var  Std\n",
      "participant  (Intercept)  0.0  0.0\n",
      "\n",
      "No random effect correlations specified\n",
      "\n",
      "Fixed effects:\n",
      "\n"
     ]
    },
    {
     "name": "stderr",
     "output_type": "stream",
     "text": [
      "\u001b[A"
     ]
    },
    {
     "name": "stdout",
     "output_type": "stream",
     "text": [
      "boundary (singular) fit: see ?isSingular \n",
      "\n",
      "Linear mixed model fit by maximum likelihood  ['lmerMod']\n",
      "Formula: mind_numeric~wSMI_1_mean+wSMI_1_std+wSMI_2_mean+wSMI_2_std+wSMI_4_mean+wSMI_4_std+wSMI_8_mean+wSMI_8_std+p_e_1_mean+p_e_1_std+p_e_2_mean+p_e_2_std+p_e_4_mean+p_e_4_std+p_e_8_mean+p_e_8_std+k_mean+k_std+se_mean+se_std+msf_std+sef90_std+sef95_std+b_std+b_n_std+g_std+g_n_std+t_std+t_n_std+d_mean+d_std+d_n_std+a_n_std+a_std+CNV_mean+CNV_std+P1_mean+P1_std+P3a_mean+P3a_std+P3b_mean+P3b_std+(1|participant)\n",
      "\n",
      "Family: binomial\t Inference: parametric\n",
      "\n",
      "Number of observations: 429\t Groups: {'participant': 22.0}\n",
      "\n",
      "Log-likelihood: -282.654 \t AIC: 653.307\n",
      "\n",
      "Random effects:\n",
      "\n",
      "                    Name  Var  Std\n",
      "participant  (Intercept)  0.0  0.0\n",
      "\n",
      "No random effect correlations specified\n",
      "\n",
      "Fixed effects:\n",
      "\n"
     ]
    },
    {
     "name": "stderr",
     "output_type": "stream",
     "text": []
    },
    {
     "name": "stdout",
     "output_type": "stream",
     "text": [
      "boundary (singular) fit: see ?isSingular \n",
      "\n",
      "Linear mixed model fit by maximum likelihood  ['lmerMod']\n",
      "Formula: mind_numeric~wSMI_1_mean+wSMI_1_std+wSMI_2_mean+wSMI_2_std+wSMI_4_mean+wSMI_4_std+wSMI_8_mean+wSMI_8_std+p_e_1_mean+p_e_1_std+p_e_2_mean+p_e_2_std+p_e_4_mean+p_e_4_std+p_e_8_mean+p_e_8_std+k_mean+k_std+se_mean+se_std+msf_std+sef90_std+sef95_std+b_std+b_n_std+g_std+g_n_std+t_std+t_n_std+d_mean+d_std+d_n_std+a_n_std+a_std+CNV_mean+CNV_std+P1_mean+P1_std+P3a_mean+P3a_std+P3b_mean+P3b_std+(1|participant)\n",
      "\n",
      "Family: binomial\t Inference: parametric\n",
      "\n",
      "Number of observations: 429\t Groups: {'participant': 22.0}\n",
      "\n",
      "Log-likelihood: -275.118 \t AIC: 638.237\n",
      "\n",
      "Random effects:\n",
      "\n",
      "                    Name  Var  Std\n",
      "participant  (Intercept)  0.0  0.0\n",
      "\n",
      "No random effect correlations specified\n",
      "\n",
      "Fixed effects:\n",
      "\n"
     ]
    },
    {
     "name": "stderr",
     "output_type": "stream",
     "text": []
    },
    {
     "name": "stdout",
     "output_type": "stream",
     "text": [
      "boundary (singular) fit: see ?isSingular \n",
      "\n",
      "Linear mixed model fit by maximum likelihood  ['lmerMod']\n",
      "Formula: mind_numeric~wSMI_1_mean+wSMI_1_std+wSMI_2_mean+wSMI_2_std+wSMI_4_mean+wSMI_4_std+wSMI_8_mean+wSMI_8_std+p_e_1_mean+p_e_1_std+p_e_2_mean+p_e_2_std+p_e_4_mean+p_e_4_std+p_e_8_mean+p_e_8_std+k_mean+k_std+se_mean+se_std+msf_std+sef90_std+sef95_std+b_std+b_n_std+g_std+g_n_std+t_std+t_n_std+d_mean+d_std+d_n_std+a_n_std+a_std+CNV_mean+CNV_std+P1_mean+P1_std+P3a_mean+P3a_std+P3b_mean+P3b_std+(1|participant)\n",
      "\n",
      "Family: binomial\t Inference: parametric\n",
      "\n",
      "Number of observations: 429\t Groups: {'participant': 22.0}\n",
      "\n",
      "Log-likelihood: -276.667 \t AIC: 641.334\n",
      "\n",
      "Random effects:\n",
      "\n",
      "                    Name  Var  Std\n",
      "participant  (Intercept)  0.0  0.0\n",
      "\n",
      "No random effect correlations specified\n",
      "\n",
      "Fixed effects:\n",
      "\n"
     ]
    },
    {
     "name": "stderr",
     "output_type": "stream",
     "text": []
    },
    {
     "name": "stdout",
     "output_type": "stream",
     "text": [
      "boundary (singular) fit: see ?isSingular \n",
      "\n",
      "Linear mixed model fit by maximum likelihood  ['lmerMod']\n",
      "Formula: mind_numeric~wSMI_1_mean+wSMI_1_std+wSMI_2_mean+wSMI_2_std+wSMI_4_mean+wSMI_4_std+wSMI_8_mean+wSMI_8_std+p_e_1_mean+p_e_1_std+p_e_2_mean+p_e_2_std+p_e_4_mean+p_e_4_std+p_e_8_mean+p_e_8_std+k_mean+k_std+se_mean+se_std+msf_std+sef90_std+sef95_std+b_std+b_n_std+g_std+g_n_std+t_std+t_n_std+d_mean+d_std+d_n_std+a_n_std+a_std+CNV_mean+CNV_std+P1_mean+P1_std+P3a_mean+P3a_std+P3b_mean+P3b_std+(1|participant)\n",
      "\n",
      "Family: binomial\t Inference: parametric\n",
      "\n",
      "Number of observations: 429\t Groups: {'participant': 22.0}\n",
      "\n",
      "Log-likelihood: -275.300 \t AIC: 638.600\n",
      "\n",
      "Random effects:\n",
      "\n",
      "                    Name  Var  Std\n",
      "participant  (Intercept)  0.0  0.0\n",
      "\n",
      "No random effect correlations specified\n",
      "\n",
      "Fixed effects:\n",
      "\n",
      "boundary (singular) fit: see ?isSingular \n",
      "\n",
      "Linear mixed model fit by maximum likelihood  ['lmerMod']\n",
      "Formula: mind_numeric~wSMI_1_mean+wSMI_1_std+wSMI_2_mean+wSMI_2_std+wSMI_4_mean+wSMI_4_std+wSMI_8_mean+wSMI_8_std+p_e_1_mean+p_e_1_std+p_e_2_mean+p_e_2_std+p_e_4_mean+p_e_4_std+p_e_8_mean+p_e_8_std+k_mean+k_std+se_mean+se_std+msf_std+sef90_std+sef95_std+b_std+b_n_std+g_std+g_n_std+t_std+t_n_std+d_mean+d_std+d_n_std+a_n_std+a_std+CNV_mean+CNV_std+P1_mean+P1_std+P3a_mean+P3a_std+P3b_mean+P3b_std+(1|participant)\n",
      "\n",
      "Family: binomial\t Inference: parametric\n",
      "\n",
      "Number of observations: 429\t Groups: {'participant': 22.0}\n",
      "\n",
      "Log-likelihood: -261.333 \t AIC: 610.666\n",
      "\n",
      "Random effects:\n",
      "\n",
      "                    Name  Var  Std\n",
      "participant  (Intercept)  0.0  0.0\n",
      "\n",
      "No random effect correlations specified\n",
      "\n",
      "Fixed effects:\n",
      "\n"
     ]
    },
    {
     "name": "stderr",
     "output_type": "stream",
     "text": []
    },
    {
     "name": "stdout",
     "output_type": "stream",
     "text": [
      "boundary (singular) fit: see ?isSingular \n",
      "\n",
      "Linear mixed model fit by maximum likelihood  ['lmerMod']\n",
      "Formula: mind_numeric~wSMI_1_mean+wSMI_1_std+wSMI_2_mean+wSMI_2_std+wSMI_4_mean+wSMI_4_std+wSMI_8_mean+wSMI_8_std+p_e_1_mean+p_e_1_std+p_e_2_mean+p_e_2_std+p_e_4_mean+p_e_4_std+p_e_8_mean+p_e_8_std+k_mean+k_std+se_mean+se_std+msf_std+sef90_std+sef95_std+b_std+b_n_std+g_std+g_n_std+t_std+t_n_std+d_mean+d_std+d_n_std+a_n_std+a_std+CNV_mean+CNV_std+P1_mean+P1_std+P3a_mean+P3a_std+P3b_mean+P3b_std+(1|participant)\n",
      "\n",
      "Family: binomial\t Inference: parametric\n",
      "\n",
      "Number of observations: 429\t Groups: {'participant': 22.0}\n",
      "\n",
      "Log-likelihood: -275.945 \t AIC: 639.890\n",
      "\n",
      "Random effects:\n",
      "\n",
      "                    Name  Var  Std\n",
      "participant  (Intercept)  0.0  0.0\n",
      "\n",
      "No random effect correlations specified\n",
      "\n",
      "Fixed effects:\n",
      "\n"
     ]
    },
    {
     "name": "stderr",
     "output_type": "stream",
     "text": []
    },
    {
     "name": "stdout",
     "output_type": "stream",
     "text": [
      "boundary (singular) fit: see ?isSingular \n",
      "\n",
      "Linear mixed model fit by maximum likelihood  ['lmerMod']\n",
      "Formula: mind_numeric~wSMI_1_mean+wSMI_1_std+wSMI_2_mean+wSMI_2_std+wSMI_4_mean+wSMI_4_std+wSMI_8_mean+wSMI_8_std+p_e_1_mean+p_e_1_std+p_e_2_mean+p_e_2_std+p_e_4_mean+p_e_4_std+p_e_8_mean+p_e_8_std+k_mean+k_std+se_mean+se_std+msf_std+sef90_std+sef95_std+b_std+b_n_std+g_std+g_n_std+t_std+t_n_std+d_mean+d_std+d_n_std+a_n_std+a_std+CNV_mean+CNV_std+P1_mean+P1_std+P3a_mean+P3a_std+P3b_mean+P3b_std+(1|participant)\n",
      "\n",
      "Family: binomial\t Inference: parametric\n",
      "\n",
      "Number of observations: 429\t Groups: {'participant': 22.0}\n",
      "\n",
      "Log-likelihood: -270.407 \t AIC: 628.814\n",
      "\n",
      "Random effects:\n",
      "\n",
      "                    Name  Var  Std\n",
      "participant  (Intercept)  0.0  0.0\n",
      "\n",
      "No random effect correlations specified\n",
      "\n",
      "Fixed effects:\n",
      "\n"
     ]
    },
    {
     "name": "stderr",
     "output_type": "stream",
     "text": []
    },
    {
     "name": "stdout",
     "output_type": "stream",
     "text": [
      "boundary (singular) fit: see ?isSingular \n",
      "\n",
      "Linear mixed model fit by maximum likelihood  ['lmerMod']\n",
      "Formula: mind_numeric~wSMI_1_mean+wSMI_1_std+wSMI_2_mean+wSMI_2_std+wSMI_4_mean+wSMI_4_std+wSMI_8_mean+wSMI_8_std+p_e_1_mean+p_e_1_std+p_e_2_mean+p_e_2_std+p_e_4_mean+p_e_4_std+p_e_8_mean+p_e_8_std+k_mean+k_std+se_mean+se_std+msf_std+sef90_std+sef95_std+b_std+b_n_std+g_std+g_n_std+t_std+t_n_std+d_mean+d_std+d_n_std+a_n_std+a_std+CNV_mean+CNV_std+P1_mean+P1_std+P3a_mean+P3a_std+P3b_mean+P3b_std+(1|participant)\n",
      "\n",
      "Family: binomial\t Inference: parametric\n",
      "\n",
      "Number of observations: 429\t Groups: {'participant': 22.0}\n",
      "\n",
      "Log-likelihood: -274.455 \t AIC: 636.911\n",
      "\n",
      "Random effects:\n",
      "\n",
      "                    Name  Var  Std\n",
      "participant  (Intercept)  0.0  0.0\n",
      "\n",
      "No random effect correlations specified\n",
      "\n",
      "Fixed effects:\n",
      "\n"
     ]
    },
    {
     "name": "stderr",
     "output_type": "stream",
     "text": []
    },
    {
     "name": "stdout",
     "output_type": "stream",
     "text": [
      "boundary (singular) fit: see ?isSingular \n",
      "\n",
      "Linear mixed model fit by maximum likelihood  ['lmerMod']\n",
      "Formula: mind_numeric~wSMI_1_mean+wSMI_1_std+wSMI_2_mean+wSMI_2_std+wSMI_4_mean+wSMI_4_std+wSMI_8_mean+wSMI_8_std+p_e_1_mean+p_e_1_std+p_e_2_mean+p_e_2_std+p_e_4_mean+p_e_4_std+p_e_8_mean+p_e_8_std+k_mean+k_std+se_mean+se_std+msf_std+sef90_std+sef95_std+b_std+b_n_std+g_std+g_n_std+t_std+t_n_std+d_mean+d_std+d_n_std+a_n_std+a_std+CNV_mean+CNV_std+P1_mean+P1_std+P3a_mean+P3a_std+P3b_mean+P3b_std+(1|participant)\n",
      "\n",
      "Family: binomial\t Inference: parametric\n",
      "\n",
      "Number of observations: 429\t Groups: {'participant': 22.0}\n",
      "\n",
      "Log-likelihood: -271.065 \t AIC: 630.131\n",
      "\n",
      "Random effects:\n",
      "\n",
      "                    Name  Var  Std\n",
      "participant  (Intercept)  0.0  0.0\n",
      "\n",
      "No random effect correlations specified\n",
      "\n",
      "Fixed effects:\n",
      "\n",
      "boundary (singular) fit: see ?isSingular \n",
      "\n",
      "Linear mixed model fit by maximum likelihood  ['lmerMod']\n",
      "Formula: mind_numeric~wSMI_1_mean+wSMI_1_std+wSMI_2_mean+wSMI_2_std+wSMI_4_mean+wSMI_4_std+wSMI_8_mean+wSMI_8_std+p_e_1_mean+p_e_1_std+p_e_2_mean+p_e_2_std+p_e_4_mean+p_e_4_std+p_e_8_mean+p_e_8_std+k_mean+k_std+se_mean+se_std+msf_std+sef90_std+sef95_std+b_std+b_n_std+g_std+g_n_std+t_std+t_n_std+d_mean+d_std+d_n_std+a_n_std+a_std+CNV_mean+CNV_std+P1_mean+P1_std+P3a_mean+P3a_std+P3b_mean+P3b_std+(1|participant)\n",
      "\n",
      "Family: binomial\t Inference: parametric\n",
      "\n",
      "Number of observations: 429\t Groups: {'participant': 22.0}\n",
      "\n",
      "Log-likelihood: -276.174 \t AIC: 640.349\n",
      "\n",
      "Random effects:\n",
      "\n",
      "                    Name  Var  Std\n",
      "participant  (Intercept)  0.0  0.0\n",
      "\n",
      "No random effect correlations specified\n",
      "\n",
      "Fixed effects:\n",
      "\n"
     ]
    },
    {
     "name": "stderr",
     "output_type": "stream",
     "text": []
    },
    {
     "name": "stdout",
     "output_type": "stream",
     "text": [
      "boundary (singular) fit: see ?isSingular \n",
      "\n",
      "Linear mixed model fit by maximum likelihood  ['lmerMod']\n",
      "Formula: mind_numeric~wSMI_1_mean+wSMI_1_std+wSMI_2_mean+wSMI_2_std+wSMI_4_mean+wSMI_4_std+wSMI_8_mean+wSMI_8_std+p_e_1_mean+p_e_1_std+p_e_2_mean+p_e_2_std+p_e_4_mean+p_e_4_std+p_e_8_mean+p_e_8_std+k_mean+k_std+se_mean+se_std+msf_std+sef90_std+sef95_std+b_std+b_n_std+g_std+g_n_std+t_std+t_n_std+d_mean+d_std+d_n_std+a_n_std+a_std+CNV_mean+CNV_std+P1_mean+P1_std+P3a_mean+P3a_std+P3b_mean+P3b_std+(1|participant)\n",
      "\n",
      "Family: binomial\t Inference: parametric\n",
      "\n",
      "Number of observations: 429\t Groups: {'participant': 22.0}\n",
      "\n",
      "Log-likelihood: -276.637 \t AIC: 641.274\n",
      "\n",
      "Random effects:\n",
      "\n",
      "                    Name  Var  Std\n",
      "participant  (Intercept)  0.0  0.0\n",
      "\n",
      "No random effect correlations specified\n",
      "\n",
      "Fixed effects:\n",
      "\n"
     ]
    },
    {
     "name": "stderr",
     "output_type": "stream",
     "text": []
    },
    {
     "name": "stdout",
     "output_type": "stream",
     "text": [
      "boundary (singular) fit: see ?isSingular \n",
      "\n",
      "Linear mixed model fit by maximum likelihood  ['lmerMod']\n",
      "Formula: mind_numeric~wSMI_1_mean+wSMI_1_std+wSMI_2_mean+wSMI_2_std+wSMI_4_mean+wSMI_4_std+wSMI_8_mean+wSMI_8_std+p_e_1_mean+p_e_1_std+p_e_2_mean+p_e_2_std+p_e_4_mean+p_e_4_std+p_e_8_mean+p_e_8_std+k_mean+k_std+se_mean+se_std+msf_std+sef90_std+sef95_std+b_std+b_n_std+g_std+g_n_std+t_std+t_n_std+d_mean+d_std+d_n_std+a_n_std+a_std+CNV_mean+CNV_std+P1_mean+P1_std+P3a_mean+P3a_std+P3b_mean+P3b_std+(1|participant)\n",
      "\n",
      "Family: binomial\t Inference: parametric\n",
      "\n",
      "Number of observations: 429\t Groups: {'participant': 22.0}\n",
      "\n",
      "Log-likelihood: -271.930 \t AIC: 631.861\n",
      "\n",
      "Random effects:\n",
      "\n",
      "                    Name  Var  Std\n",
      "participant  (Intercept)  0.0  0.0\n",
      "\n",
      "No random effect correlations specified\n",
      "\n",
      "Fixed effects:\n",
      "\n"
     ]
    },
    {
     "name": "stderr",
     "output_type": "stream",
     "text": []
    },
    {
     "name": "stdout",
     "output_type": "stream",
     "text": [
      "boundary (singular) fit: see ?isSingular \n",
      "\n",
      "Linear mixed model fit by maximum likelihood  ['lmerMod']\n",
      "Formula: mind_numeric~wSMI_1_mean+wSMI_1_std+wSMI_2_mean+wSMI_2_std+wSMI_4_mean+wSMI_4_std+wSMI_8_mean+wSMI_8_std+p_e_1_mean+p_e_1_std+p_e_2_mean+p_e_2_std+p_e_4_mean+p_e_4_std+p_e_8_mean+p_e_8_std+k_mean+k_std+se_mean+se_std+msf_std+sef90_std+sef95_std+b_std+b_n_std+g_std+g_n_std+t_std+t_n_std+d_mean+d_std+d_n_std+a_n_std+a_std+CNV_mean+CNV_std+P1_mean+P1_std+P3a_mean+P3a_std+P3b_mean+P3b_std+(1|participant)\n",
      "\n",
      "Family: binomial\t Inference: parametric\n",
      "\n",
      "Number of observations: 429\t Groups: {'participant': 22.0}\n",
      "\n",
      "Log-likelihood: -271.803 \t AIC: 631.606\n",
      "\n",
      "Random effects:\n",
      "\n",
      "                    Name  Var  Std\n",
      "participant  (Intercept)  0.0  0.0\n",
      "\n",
      "No random effect correlations specified\n",
      "\n",
      "Fixed effects:\n",
      "\n",
      "boundary (singular) fit: see ?isSingular \n",
      "\n",
      "Linear mixed model fit by maximum likelihood  ['lmerMod']\n",
      "Formula: mind_numeric~wSMI_1_mean+wSMI_1_std+wSMI_2_mean+wSMI_2_std+wSMI_4_mean+wSMI_4_std+wSMI_8_mean+wSMI_8_std+p_e_1_mean+p_e_1_std+p_e_2_mean+p_e_2_std+p_e_4_mean+p_e_4_std+p_e_8_mean+p_e_8_std+k_mean+k_std+se_mean+se_std+msf_std+sef90_std+sef95_std+b_std+b_n_std+g_std+g_n_std+t_std+t_n_std+d_mean+d_std+d_n_std+a_n_std+a_std+CNV_mean+CNV_std+P1_mean+P1_std+P3a_mean+P3a_std+P3b_mean+P3b_std+(1|participant)\n",
      "\n",
      "Family: binomial\t Inference: parametric\n",
      "\n",
      "Number of observations: 429\t Groups: {'participant': 22.0}\n",
      "\n",
      "Log-likelihood: -279.083 \t AIC: 646.166\n",
      "\n",
      "Random effects:\n",
      "\n",
      "                    Name  Var  Std\n",
      "participant  (Intercept)  0.0  0.0\n",
      "\n",
      "No random effect correlations specified\n",
      "\n",
      "Fixed effects:\n",
      "\n"
     ]
    },
    {
     "name": "stderr",
     "output_type": "stream",
     "text": []
    },
    {
     "name": "stdout",
     "output_type": "stream",
     "text": [
      "boundary (singular) fit: see ?isSingular \n",
      "\n",
      "Linear mixed model fit by maximum likelihood  ['lmerMod']\n",
      "Formula: mind_numeric~wSMI_1_mean+wSMI_1_std+wSMI_2_mean+wSMI_2_std+wSMI_4_mean+wSMI_4_std+wSMI_8_mean+wSMI_8_std+p_e_1_mean+p_e_1_std+p_e_2_mean+p_e_2_std+p_e_4_mean+p_e_4_std+p_e_8_mean+p_e_8_std+k_mean+k_std+se_mean+se_std+msf_std+sef90_std+sef95_std+b_std+b_n_std+g_std+g_n_std+t_std+t_n_std+d_mean+d_std+d_n_std+a_n_std+a_std+CNV_mean+CNV_std+P1_mean+P1_std+P3a_mean+P3a_std+P3b_mean+P3b_std+(1|participant)\n",
      "\n",
      "Family: binomial\t Inference: parametric\n",
      "\n",
      "Number of observations: 429\t Groups: {'participant': 22.0}\n",
      "\n",
      "Log-likelihood: -274.380 \t AIC: 636.760\n",
      "\n",
      "Random effects:\n",
      "\n",
      "                    Name  Var  Std\n",
      "participant  (Intercept)  0.0  0.0\n",
      "\n",
      "No random effect correlations specified\n",
      "\n",
      "Fixed effects:\n",
      "\n"
     ]
    },
    {
     "name": "stderr",
     "output_type": "stream",
     "text": []
    },
    {
     "name": "stdout",
     "output_type": "stream",
     "text": [
      "boundary (singular) fit: see ?isSingular \n",
      "\n",
      "Linear mixed model fit by maximum likelihood  ['lmerMod']\n",
      "Formula: mind_numeric~wSMI_1_mean+wSMI_1_std+wSMI_2_mean+wSMI_2_std+wSMI_4_mean+wSMI_4_std+wSMI_8_mean+wSMI_8_std+p_e_1_mean+p_e_1_std+p_e_2_mean+p_e_2_std+p_e_4_mean+p_e_4_std+p_e_8_mean+p_e_8_std+k_mean+k_std+se_mean+se_std+msf_std+sef90_std+sef95_std+b_std+b_n_std+g_std+g_n_std+t_std+t_n_std+d_mean+d_std+d_n_std+a_n_std+a_std+CNV_mean+CNV_std+P1_mean+P1_std+P3a_mean+P3a_std+P3b_mean+P3b_std+(1|participant)\n",
      "\n",
      "Family: binomial\t Inference: parametric\n",
      "\n",
      "Number of observations: 429\t Groups: {'participant': 22.0}\n",
      "\n",
      "Log-likelihood: -278.042 \t AIC: 644.084\n",
      "\n",
      "Random effects:\n",
      "\n",
      "                    Name  Var  Std\n",
      "participant  (Intercept)  0.0  0.0\n",
      "\n",
      "No random effect correlations specified\n",
      "\n",
      "Fixed effects:\n",
      "\n"
     ]
    },
    {
     "name": "stderr",
     "output_type": "stream",
     "text": []
    },
    {
     "name": "stdout",
     "output_type": "stream",
     "text": [
      "boundary (singular) fit: see ?isSingular \n",
      "\n",
      "Linear mixed model fit by maximum likelihood  ['lmerMod']\n",
      "Formula: mind_numeric~wSMI_1_mean+wSMI_1_std+wSMI_2_mean+wSMI_2_std+wSMI_4_mean+wSMI_4_std+wSMI_8_mean+wSMI_8_std+p_e_1_mean+p_e_1_std+p_e_2_mean+p_e_2_std+p_e_4_mean+p_e_4_std+p_e_8_mean+p_e_8_std+k_mean+k_std+se_mean+se_std+msf_std+sef90_std+sef95_std+b_std+b_n_std+g_std+g_n_std+t_std+t_n_std+d_mean+d_std+d_n_std+a_n_std+a_std+CNV_mean+CNV_std+P1_mean+P1_std+P3a_mean+P3a_std+P3b_mean+P3b_std+(1|participant)\n",
      "\n",
      "Family: binomial\t Inference: parametric\n",
      "\n",
      "Number of observations: 429\t Groups: {'participant': 22.0}\n",
      "\n",
      "Log-likelihood: -280.080 \t AIC: 648.160\n",
      "\n",
      "Random effects:\n",
      "\n",
      "                    Name  Var  Std\n",
      "participant  (Intercept)  0.0  0.0\n",
      "\n",
      "No random effect correlations specified\n",
      "\n",
      "Fixed effects:\n",
      "\n",
      "boundary (singular) fit: see ?isSingular \n",
      "\n",
      "Linear mixed model fit by maximum likelihood  ['lmerMod']\n",
      "Formula: mind_numeric~wSMI_1_mean+wSMI_1_std+wSMI_2_mean+wSMI_2_std+wSMI_4_mean+wSMI_4_std+wSMI_8_mean+wSMI_8_std+p_e_1_mean+p_e_1_std+p_e_2_mean+p_e_2_std+p_e_4_mean+p_e_4_std+p_e_8_mean+p_e_8_std+k_mean+k_std+se_mean+se_std+msf_std+sef90_std+sef95_std+b_std+b_n_std+g_std+g_n_std+t_std+t_n_std+d_mean+d_std+d_n_std+a_n_std+a_std+CNV_mean+CNV_std+P1_mean+P1_std+P3a_mean+P3a_std+P3b_mean+P3b_std+(1|participant)\n",
      "\n",
      "Family: binomial\t Inference: parametric\n",
      "\n",
      "Number of observations: 429\t Groups: {'participant': 22.0}\n",
      "\n",
      "Log-likelihood: -276.515 \t AIC: 641.029\n",
      "\n",
      "Random effects:\n",
      "\n",
      "                    Name  Var  Std\n",
      "participant  (Intercept)  0.0  0.0\n",
      "\n",
      "No random effect correlations specified\n",
      "\n",
      "Fixed effects:\n",
      "\n"
     ]
    },
    {
     "name": "stderr",
     "output_type": "stream",
     "text": []
    },
    {
     "name": "stdout",
     "output_type": "stream",
     "text": [
      "boundary (singular) fit: see ?isSingular \n",
      "\n",
      "Linear mixed model fit by maximum likelihood  ['lmerMod']\n",
      "Formula: mind_numeric~wSMI_1_mean+wSMI_1_std+wSMI_2_mean+wSMI_2_std+wSMI_4_mean+wSMI_4_std+wSMI_8_mean+wSMI_8_std+p_e_1_mean+p_e_1_std+p_e_2_mean+p_e_2_std+p_e_4_mean+p_e_4_std+p_e_8_mean+p_e_8_std+k_mean+k_std+se_mean+se_std+msf_std+sef90_std+sef95_std+b_std+b_n_std+g_std+g_n_std+t_std+t_n_std+d_mean+d_std+d_n_std+a_n_std+a_std+CNV_mean+CNV_std+P1_mean+P1_std+P3a_mean+P3a_std+P3b_mean+P3b_std+(1|participant)\n",
      "\n",
      "Family: binomial\t Inference: parametric\n",
      "\n",
      "Number of observations: 429\t Groups: {'participant': 22.0}\n",
      "\n",
      "Log-likelihood: -272.334 \t AIC: 632.668\n",
      "\n",
      "Random effects:\n",
      "\n",
      "                    Name  Var  Std\n",
      "participant  (Intercept)  0.0  0.0\n",
      "\n",
      "No random effect correlations specified\n",
      "\n",
      "Fixed effects:\n",
      "\n"
     ]
    },
    {
     "name": "stderr",
     "output_type": "stream",
     "text": []
    },
    {
     "name": "stdout",
     "output_type": "stream",
     "text": [
      "[1] \"failure to converge in 10000 evaluations\"\n",
      "[2] \" \\n\"                                     \n",
      "\n",
      "unable to evaluate scaled gradient \n",
      "\n",
      "Model failed to converge: degenerate  Hessian with 2 negative eigenvalues \n",
      "\n",
      "Linear mixed model fit by maximum likelihood  ['lmerMod']\n",
      "Formula: mind_numeric~wSMI_1_mean+wSMI_1_std+wSMI_2_mean+wSMI_2_std+wSMI_4_mean+wSMI_4_std+wSMI_8_mean+wSMI_8_std+p_e_1_mean+p_e_1_std+p_e_2_mean+p_e_2_std+p_e_4_mean+p_e_4_std+p_e_8_mean+p_e_8_std+k_mean+k_std+se_mean+se_std+msf_std+sef90_std+sef95_std+b_std+b_n_std+g_std+g_n_std+t_std+t_n_std+d_mean+d_std+d_n_std+a_n_std+a_std+CNV_mean+CNV_std+P1_mean+P1_std+P3a_mean+P3a_std+P3b_mean+P3b_std+(1|participant)\n",
      "\n",
      "Family: binomial\t Inference: parametric\n",
      "\n",
      "Number of observations: 429\t Groups: {'participant': 22.0}\n",
      "\n",
      "Log-likelihood: -264.455 \t AIC: 616.910\n",
      "\n",
      "Random effects:\n",
      "\n",
      "                    Name    Var   Std\n",
      "participant  (Intercept)  0.084  0.29\n",
      "\n",
      "No random effect correlations specified\n",
      "\n",
      "Fixed effects:\n",
      "\n"
     ]
    },
    {
     "name": "stderr",
     "output_type": "stream",
     "text": []
    },
    {
     "name": "stdout",
     "output_type": "stream",
     "text": [
      "boundary (singular) fit: see ?isSingular \n",
      "\n",
      "Linear mixed model fit by maximum likelihood  ['lmerMod']\n",
      "Formula: mind_numeric~wSMI_1_mean+wSMI_1_std+wSMI_2_mean+wSMI_2_std+wSMI_4_mean+wSMI_4_std+wSMI_8_mean+wSMI_8_std+p_e_1_mean+p_e_1_std+p_e_2_mean+p_e_2_std+p_e_4_mean+p_e_4_std+p_e_8_mean+p_e_8_std+k_mean+k_std+se_mean+se_std+msf_std+sef90_std+sef95_std+b_std+b_n_std+g_std+g_n_std+t_std+t_n_std+d_mean+d_std+d_n_std+a_n_std+a_std+CNV_mean+CNV_std+P1_mean+P1_std+P3a_mean+P3a_std+P3b_mean+P3b_std+(1|participant)\n",
      "\n",
      "Family: binomial\t Inference: parametric\n",
      "\n",
      "Number of observations: 429\t Groups: {'participant': 22.0}\n",
      "\n",
      "Log-likelihood: -272.862 \t AIC: 633.724\n",
      "\n",
      "Random effects:\n",
      "\n",
      "                    Name  Var  Std\n",
      "participant  (Intercept)  0.0  0.0\n",
      "\n",
      "No random effect correlations specified\n",
      "\n",
      "Fixed effects:\n",
      "\n"
     ]
    },
    {
     "name": "stderr",
     "output_type": "stream",
     "text": []
    },
    {
     "name": "stdout",
     "output_type": "stream",
     "text": [
      "boundary (singular) fit: see ?isSingular \n",
      "\n",
      "Linear mixed model fit by maximum likelihood  ['lmerMod']\n",
      "Formula: mind_numeric~wSMI_1_mean+wSMI_1_std+wSMI_2_mean+wSMI_2_std+wSMI_4_mean+wSMI_4_std+wSMI_8_mean+wSMI_8_std+p_e_1_mean+p_e_1_std+p_e_2_mean+p_e_2_std+p_e_4_mean+p_e_4_std+p_e_8_mean+p_e_8_std+k_mean+k_std+se_mean+se_std+msf_std+sef90_std+sef95_std+b_std+b_n_std+g_std+g_n_std+t_std+t_n_std+d_mean+d_std+d_n_std+a_n_std+a_std+CNV_mean+CNV_std+P1_mean+P1_std+P3a_mean+P3a_std+P3b_mean+P3b_std+(1|participant)\n",
      "\n",
      "Family: binomial\t Inference: parametric\n",
      "\n",
      "Number of observations: 429\t Groups: {'participant': 22.0}\n",
      "\n",
      "Log-likelihood: -271.109 \t AIC: 630.218\n",
      "\n",
      "Random effects:\n",
      "\n",
      "                    Name  Var  Std\n",
      "participant  (Intercept)  0.0  0.0\n",
      "\n",
      "No random effect correlations specified\n",
      "\n",
      "Fixed effects:\n",
      "\n"
     ]
    },
    {
     "name": "stderr",
     "output_type": "stream",
     "text": [
      "\n",
      "Permutation Test:  91%|█████████ | 91/100 [21:25<02:18, 15.42s/it]"
     ]
    },
    {
     "name": "stdout",
     "output_type": "stream",
     "text": [
      "boundary (singular) fit: see ?isSingular \n",
      "\n",
      "Linear mixed model fit by maximum likelihood  ['lmerMod']\n",
      "Formula: mind_numeric~wSMI_1_mean+wSMI_1_std+wSMI_2_mean+wSMI_2_std+wSMI_4_mean+wSMI_4_std+wSMI_8_mean+wSMI_8_std+p_e_1_mean+p_e_1_std+p_e_2_mean+p_e_2_std+p_e_4_mean+p_e_4_std+p_e_8_mean+p_e_8_std+k_mean+k_std+se_mean+se_std+msf_std+sef90_std+sef95_std+b_std+b_n_std+g_std+g_n_std+t_std+t_n_std+d_mean+d_std+d_n_std+a_n_std+a_std+CNV_mean+CNV_std+P1_mean+P1_std+P3a_mean+P3a_std+P3b_mean+P3b_std+(1|participant)\n",
      "\n",
      "Family: binomial\t Inference: parametric\n",
      "\n",
      "Number of observations: 429\t Groups: {'participant': 22.0}\n",
      "\n",
      "Log-likelihood: -270.344 \t AIC: 628.687\n",
      "\n",
      "Random effects:\n",
      "\n",
      "                    Name  Var  Std\n",
      "participant  (Intercept)  0.0  0.0\n",
      "\n",
      "No random effect correlations specified\n",
      "\n",
      "Fixed effects:\n",
      "\n"
     ]
    },
    {
     "name": "stderr",
     "output_type": "stream",
     "text": [
      "\u001b[A"
     ]
    },
    {
     "name": "stdout",
     "output_type": "stream",
     "text": [
      "boundary (singular) fit: see ?isSingular \n",
      "\n",
      "Linear mixed model fit by maximum likelihood  ['lmerMod']\n",
      "Formula: mind_numeric~wSMI_1_mean+wSMI_1_std+wSMI_2_mean+wSMI_2_std+wSMI_4_mean+wSMI_4_std+wSMI_8_mean+wSMI_8_std+p_e_1_mean+p_e_1_std+p_e_2_mean+p_e_2_std+p_e_4_mean+p_e_4_std+p_e_8_mean+p_e_8_std+k_mean+k_std+se_mean+se_std+msf_std+sef90_std+sef95_std+b_std+b_n_std+g_std+g_n_std+t_std+t_n_std+d_mean+d_std+d_n_std+a_n_std+a_std+CNV_mean+CNV_std+P1_mean+P1_std+P3a_mean+P3a_std+P3b_mean+P3b_std+(1|participant)\n",
      "\n",
      "Family: binomial\t Inference: parametric\n",
      "\n",
      "Number of observations: 429\t Groups: {'participant': 22.0}\n",
      "\n",
      "Log-likelihood: -275.929 \t AIC: 639.857\n",
      "\n",
      "Random effects:\n",
      "\n",
      "                    Name  Var  Std\n",
      "participant  (Intercept)  0.0  0.0\n",
      "\n",
      "No random effect correlations specified\n",
      "\n",
      "Fixed effects:\n",
      "\n"
     ]
    },
    {
     "name": "stderr",
     "output_type": "stream",
     "text": []
    },
    {
     "name": "stdout",
     "output_type": "stream",
     "text": [
      "boundary (singular) fit: see ?isSingular \n",
      "\n",
      "Linear mixed model fit by maximum likelihood  ['lmerMod']\n",
      "Formula: mind_numeric~wSMI_1_mean+wSMI_1_std+wSMI_2_mean+wSMI_2_std+wSMI_4_mean+wSMI_4_std+wSMI_8_mean+wSMI_8_std+p_e_1_mean+p_e_1_std+p_e_2_mean+p_e_2_std+p_e_4_mean+p_e_4_std+p_e_8_mean+p_e_8_std+k_mean+k_std+se_mean+se_std+msf_std+sef90_std+sef95_std+b_std+b_n_std+g_std+g_n_std+t_std+t_n_std+d_mean+d_std+d_n_std+a_n_std+a_std+CNV_mean+CNV_std+P1_mean+P1_std+P3a_mean+P3a_std+P3b_mean+P3b_std+(1|participant)\n",
      "\n",
      "Family: binomial\t Inference: parametric\n",
      "\n",
      "Number of observations: 429\t Groups: {'participant': 22.0}\n",
      "\n",
      "Log-likelihood: -275.182 \t AIC: 638.364\n",
      "\n",
      "Random effects:\n",
      "\n",
      "                    Name  Var  Std\n",
      "participant  (Intercept)  0.0  0.0\n",
      "\n",
      "No random effect correlations specified\n",
      "\n",
      "Fixed effects:\n",
      "\n"
     ]
    },
    {
     "name": "stderr",
     "output_type": "stream",
     "text": []
    },
    {
     "name": "stdout",
     "output_type": "stream",
     "text": [
      "boundary (singular) fit: see ?isSingular \n",
      "\n",
      "Linear mixed model fit by maximum likelihood  ['lmerMod']\n",
      "Formula: mind_numeric~wSMI_1_mean+wSMI_1_std+wSMI_2_mean+wSMI_2_std+wSMI_4_mean+wSMI_4_std+wSMI_8_mean+wSMI_8_std+p_e_1_mean+p_e_1_std+p_e_2_mean+p_e_2_std+p_e_4_mean+p_e_4_std+p_e_8_mean+p_e_8_std+k_mean+k_std+se_mean+se_std+msf_std+sef90_std+sef95_std+b_std+b_n_std+g_std+g_n_std+t_std+t_n_std+d_mean+d_std+d_n_std+a_n_std+a_std+CNV_mean+CNV_std+P1_mean+P1_std+P3a_mean+P3a_std+P3b_mean+P3b_std+(1|participant)\n",
      "\n",
      "Family: binomial\t Inference: parametric\n",
      "\n",
      "Number of observations: 429\t Groups: {'participant': 22.0}\n",
      "\n",
      "Log-likelihood: -274.530 \t AIC: 637.060\n",
      "\n",
      "Random effects:\n",
      "\n",
      "                    Name  Var  Std\n",
      "participant  (Intercept)  0.0  0.0\n",
      "\n",
      "No random effect correlations specified\n",
      "\n",
      "Fixed effects:\n",
      "\n"
     ]
    },
    {
     "name": "stderr",
     "output_type": "stream",
     "text": []
    },
    {
     "name": "stdout",
     "output_type": "stream",
     "text": [
      "boundary (singular) fit: see ?isSingular \n",
      "\n",
      "Linear mixed model fit by maximum likelihood  ['lmerMod']\n",
      "Formula: mind_numeric~wSMI_1_mean+wSMI_1_std+wSMI_2_mean+wSMI_2_std+wSMI_4_mean+wSMI_4_std+wSMI_8_mean+wSMI_8_std+p_e_1_mean+p_e_1_std+p_e_2_mean+p_e_2_std+p_e_4_mean+p_e_4_std+p_e_8_mean+p_e_8_std+k_mean+k_std+se_mean+se_std+msf_std+sef90_std+sef95_std+b_std+b_n_std+g_std+g_n_std+t_std+t_n_std+d_mean+d_std+d_n_std+a_n_std+a_std+CNV_mean+CNV_std+P1_mean+P1_std+P3a_mean+P3a_std+P3b_mean+P3b_std+(1|participant)\n",
      "\n",
      "Family: binomial\t Inference: parametric\n",
      "\n",
      "Number of observations: 429\t Groups: {'participant': 22.0}\n",
      "\n",
      "Log-likelihood: -275.411 \t AIC: 638.821\n",
      "\n",
      "Random effects:\n",
      "\n",
      "                    Name  Var  Std\n",
      "participant  (Intercept)  0.0  0.0\n",
      "\n",
      "No random effect correlations specified\n",
      "\n",
      "Fixed effects:\n",
      "\n",
      "boundary (singular) fit: see ?isSingular \n",
      "\n",
      "Linear mixed model fit by maximum likelihood  ['lmerMod']\n",
      "Formula: mind_numeric~wSMI_1_mean+wSMI_1_std+wSMI_2_mean+wSMI_2_std+wSMI_4_mean+wSMI_4_std+wSMI_8_mean+wSMI_8_std+p_e_1_mean+p_e_1_std+p_e_2_mean+p_e_2_std+p_e_4_mean+p_e_4_std+p_e_8_mean+p_e_8_std+k_mean+k_std+se_mean+se_std+msf_std+sef90_std+sef95_std+b_std+b_n_std+g_std+g_n_std+t_std+t_n_std+d_mean+d_std+d_n_std+a_n_std+a_std+CNV_mean+CNV_std+P1_mean+P1_std+P3a_mean+P3a_std+P3b_mean+P3b_std+(1|participant)\n",
      "\n",
      "Family: binomial\t Inference: parametric\n",
      "\n",
      "Number of observations: 429\t Groups: {'participant': 22.0}\n",
      "\n",
      "Log-likelihood: -280.827 \t AIC: 649.655\n",
      "\n",
      "Random effects:\n",
      "\n",
      "                    Name  Var  Std\n",
      "participant  (Intercept)  0.0  0.0\n",
      "\n",
      "No random effect correlations specified\n",
      "\n",
      "Fixed effects:\n",
      "\n"
     ]
    },
    {
     "name": "stderr",
     "output_type": "stream",
     "text": []
    },
    {
     "name": "stdout",
     "output_type": "stream",
     "text": [
      "boundary (singular) fit: see ?isSingular \n",
      "\n",
      "Linear mixed model fit by maximum likelihood  ['lmerMod']\n",
      "Formula: mind_numeric~wSMI_1_mean+wSMI_1_std+wSMI_2_mean+wSMI_2_std+wSMI_4_mean+wSMI_4_std+wSMI_8_mean+wSMI_8_std+p_e_1_mean+p_e_1_std+p_e_2_mean+p_e_2_std+p_e_4_mean+p_e_4_std+p_e_8_mean+p_e_8_std+k_mean+k_std+se_mean+se_std+msf_std+sef90_std+sef95_std+b_std+b_n_std+g_std+g_n_std+t_std+t_n_std+d_mean+d_std+d_n_std+a_n_std+a_std+CNV_mean+CNV_std+P1_mean+P1_std+P3a_mean+P3a_std+P3b_mean+P3b_std+(1|participant)\n",
      "\n",
      "Family: binomial\t Inference: parametric\n",
      "\n",
      "Number of observations: 429\t Groups: {'participant': 22.0}\n",
      "\n",
      "Log-likelihood: -276.353 \t AIC: 640.705\n",
      "\n",
      "Random effects:\n",
      "\n",
      "                    Name  Var  Std\n",
      "participant  (Intercept)  0.0  0.0\n",
      "\n",
      "No random effect correlations specified\n",
      "\n",
      "Fixed effects:\n",
      "\n"
     ]
    },
    {
     "name": "stderr",
     "output_type": "stream",
     "text": []
    },
    {
     "name": "stdout",
     "output_type": "stream",
     "text": [
      "boundary (singular) fit: see ?isSingular \n",
      "\n",
      "Linear mixed model fit by maximum likelihood  ['lmerMod']\n",
      "Formula: mind_numeric~wSMI_1_mean+wSMI_1_std+wSMI_2_mean+wSMI_2_std+wSMI_4_mean+wSMI_4_std+wSMI_8_mean+wSMI_8_std+p_e_1_mean+p_e_1_std+p_e_2_mean+p_e_2_std+p_e_4_mean+p_e_4_std+p_e_8_mean+p_e_8_std+k_mean+k_std+se_mean+se_std+msf_std+sef90_std+sef95_std+b_std+b_n_std+g_std+g_n_std+t_std+t_n_std+d_mean+d_std+d_n_std+a_n_std+a_std+CNV_mean+CNV_std+P1_mean+P1_std+P3a_mean+P3a_std+P3b_mean+P3b_std+(1|participant)\n",
      "\n",
      "Family: binomial\t Inference: parametric\n",
      "\n",
      "Number of observations: 429\t Groups: {'participant': 22.0}\n",
      "\n",
      "Log-likelihood: -281.581 \t AIC: 651.163\n",
      "\n",
      "Random effects:\n",
      "\n",
      "                    Name  Var  Std\n",
      "participant  (Intercept)  0.0  0.0\n",
      "\n",
      "No random effect correlations specified\n",
      "\n",
      "Fixed effects:\n",
      "\n"
     ]
    },
    {
     "name": "stderr",
     "output_type": "stream",
     "text": []
    },
    {
     "name": "stdout",
     "output_type": "stream",
     "text": [
      "[1] \"failure to converge in 10000 evaluations\"\n",
      "[2] \" \\n\"                                     \n",
      "\n",
      "unable to evaluate scaled gradient \n",
      "\n",
      "Model failed to converge: degenerate  Hessian with 5 negative eigenvalues \n",
      "\n",
      "Linear mixed model fit by maximum likelihood  ['lmerMod']\n",
      "Formula: mind_numeric~wSMI_1_mean+wSMI_1_std+wSMI_2_mean+wSMI_2_std+wSMI_4_mean+wSMI_4_std+wSMI_8_mean+wSMI_8_std+p_e_1_mean+p_e_1_std+p_e_2_mean+p_e_2_std+p_e_4_mean+p_e_4_std+p_e_8_mean+p_e_8_std+k_mean+k_std+se_mean+se_std+msf_std+sef90_std+sef95_std+b_std+b_n_std+g_std+g_n_std+t_std+t_n_std+d_mean+d_std+d_n_std+a_n_std+a_std+CNV_mean+CNV_std+P1_mean+P1_std+P3a_mean+P3a_std+P3b_mean+P3b_std+(1|participant)\n",
      "\n",
      "Family: binomial\t Inference: parametric\n",
      "\n",
      "Number of observations: 429\t Groups: {'participant': 22.0}\n",
      "\n",
      "Log-likelihood: -272.984 \t AIC: 633.968\n",
      "\n",
      "Random effects:\n",
      "\n",
      "                    Name    Var    Std\n",
      "participant  (Intercept)  0.034  0.186\n",
      "\n",
      "No random effect correlations specified\n",
      "\n",
      "Fixed effects:\n",
      "\n",
      "boundary (singular) fit: see ?isSingular \n",
      "\n",
      "Linear mixed model fit by maximum likelihood  ['lmerMod']\n",
      "Formula: mind_numeric~wSMI_1_mean+wSMI_1_std+wSMI_2_mean+wSMI_2_std+wSMI_4_mean+wSMI_4_std+wSMI_8_mean+wSMI_8_std+p_e_1_mean+p_e_1_std+p_e_2_mean+p_e_2_std+p_e_4_mean+p_e_4_std+p_e_8_mean+p_e_8_std+k_mean+k_std+se_mean+se_std+msf_std+sef90_std+sef95_std+b_std+b_n_std+g_std+g_n_std+t_std+t_n_std+d_mean+d_std+d_n_std+a_n_std+a_std+CNV_mean+CNV_std+P1_mean+P1_std+P3a_mean+P3a_std+P3b_mean+P3b_std+(1|participant)\n",
      "\n",
      "Family: binomial\t Inference: parametric\n",
      "\n",
      "Number of observations: 429\t Groups: {'participant': 22.0}\n",
      "\n",
      "Log-likelihood: -275.721 \t AIC: 639.442\n",
      "\n",
      "Random effects:\n",
      "\n",
      "                    Name  Var  Std\n",
      "participant  (Intercept)  0.0  0.0\n",
      "\n",
      "No random effect correlations specified\n",
      "\n",
      "Fixed effects:\n",
      "\n"
     ]
    },
    {
     "name": "stderr",
     "output_type": "stream",
     "text": [
      "Permutation Test: 100%|██████████| 100/100 [24:31<00:00, 14.72s/it]\n",
      "KFold Iteration: 3it [1:10:16, 1410.11s/it]"
     ]
    },
    {
     "name": "stdout",
     "output_type": "stream",
     "text": [
      "[1] \"failure to converge in 10000 evaluations\"\n",
      "[2] \" \\n\"                                     \n",
      "\n",
      "unable to evaluate scaled gradient \n",
      "\n",
      "Model failed to converge: degenerate  Hessian with 1 negative eigenvalues \n",
      "\n",
      "Linear mixed model fit by maximum likelihood  ['lmerMod']\n",
      "Formula: mind_numeric~wSMI_1_mean+wSMI_1_std+wSMI_2_mean+wSMI_2_std+wSMI_4_mean+wSMI_4_std+wSMI_8_mean+wSMI_8_std+p_e_1_mean+p_e_1_std+p_e_2_mean+p_e_2_std+p_e_4_mean+p_e_4_std+p_e_8_mean+p_e_8_std+k_mean+k_std+se_mean+se_std+msf_std+sef90_std+sef95_std+b_std+b_n_std+g_std+g_n_std+t_std+t_n_std+d_mean+d_std+d_n_std+a_n_std+a_std+CNV_mean+CNV_std+P1_mean+P1_std+P3a_mean+P3a_std+P3b_mean+P3b_std+(1|participant)\n",
      "\n",
      "Family: binomial\t Inference: parametric\n",
      "\n",
      "Number of observations: 429\t Groups: {'participant': 22.0}\n",
      "\n",
      "Log-likelihood: -248.089 \t AIC: 584.178\n",
      "\n",
      "Random effects:\n",
      "\n",
      "                    Name    Var    Std\n",
      "participant  (Intercept)  0.928  0.964\n",
      "\n",
      "No random effect correlations specified\n",
      "\n",
      "Fixed effects:\n",
      "\n"
     ]
    },
    {
     "name": "stderr",
     "output_type": "stream",
     "text": []
    },
    {
     "name": "stdout",
     "output_type": "stream",
     "text": [
      "boundary (singular) fit: see ?isSingular \n",
      "\n",
      "Linear mixed model fit by maximum likelihood  ['lmerMod']\n",
      "Formula: mind_numeric~wSMI_1_mean+wSMI_1_std+wSMI_2_mean+wSMI_2_std+wSMI_4_mean+wSMI_4_std+wSMI_8_mean+wSMI_8_std+p_e_1_mean+p_e_1_std+p_e_2_mean+p_e_2_std+p_e_4_mean+p_e_4_std+p_e_8_mean+p_e_8_std+k_mean+k_std+se_mean+se_std+msf_std+sef90_std+sef95_std+b_std+b_n_std+g_std+g_n_std+t_std+t_n_std+d_mean+d_std+d_n_std+a_n_std+a_std+CNV_mean+CNV_std+P1_mean+P1_std+P3a_mean+P3a_std+P3b_mean+P3b_std+(1|participant)\n",
      "\n",
      "Family: binomial\t Inference: parametric\n",
      "\n",
      "Number of observations: 429\t Groups: {'participant': 22.0}\n",
      "\n",
      "Log-likelihood: -279.250 \t AIC: 646.500\n",
      "\n",
      "Random effects:\n",
      "\n",
      "                    Name  Var  Std\n",
      "participant  (Intercept)  0.0  0.0\n",
      "\n",
      "No random effect correlations specified\n",
      "\n",
      "Fixed effects:\n",
      "\n"
     ]
    },
    {
     "name": "stderr",
     "output_type": "stream",
     "text": []
    },
    {
     "name": "stdout",
     "output_type": "stream",
     "text": [
      "boundary (singular) fit: see ?isSingular \n",
      "\n",
      "Linear mixed model fit by maximum likelihood  ['lmerMod']\n",
      "Formula: mind_numeric~wSMI_1_mean+wSMI_1_std+wSMI_2_mean+wSMI_2_std+wSMI_4_mean+wSMI_4_std+wSMI_8_mean+wSMI_8_std+p_e_1_mean+p_e_1_std+p_e_2_mean+p_e_2_std+p_e_4_mean+p_e_4_std+p_e_8_mean+p_e_8_std+k_mean+k_std+se_mean+se_std+msf_std+sef90_std+sef95_std+b_std+b_n_std+g_std+g_n_std+t_std+t_n_std+d_mean+d_std+d_n_std+a_n_std+a_std+CNV_mean+CNV_std+P1_mean+P1_std+P3a_mean+P3a_std+P3b_mean+P3b_std+(1|participant)\n",
      "\n",
      "Family: binomial\t Inference: parametric\n",
      "\n",
      "Number of observations: 429\t Groups: {'participant': 22.0}\n",
      "\n",
      "Log-likelihood: -277.372 \t AIC: 642.743\n",
      "\n",
      "Random effects:\n",
      "\n",
      "                    Name  Var  Std\n",
      "participant  (Intercept)  0.0  0.0\n",
      "\n",
      "No random effect correlations specified\n",
      "\n",
      "Fixed effects:\n",
      "\n"
     ]
    },
    {
     "name": "stderr",
     "output_type": "stream",
     "text": []
    },
    {
     "name": "stdout",
     "output_type": "stream",
     "text": [
      "boundary (singular) fit: see ?isSingular \n",
      "\n",
      "Linear mixed model fit by maximum likelihood  ['lmerMod']\n",
      "Formula: mind_numeric~wSMI_1_mean+wSMI_1_std+wSMI_2_mean+wSMI_2_std+wSMI_4_mean+wSMI_4_std+wSMI_8_mean+wSMI_8_std+p_e_1_mean+p_e_1_std+p_e_2_mean+p_e_2_std+p_e_4_mean+p_e_4_std+p_e_8_mean+p_e_8_std+k_mean+k_std+se_mean+se_std+msf_std+sef90_std+sef95_std+b_std+b_n_std+g_std+g_n_std+t_std+t_n_std+d_mean+d_std+d_n_std+a_n_std+a_std+CNV_mean+CNV_std+P1_mean+P1_std+P3a_mean+P3a_std+P3b_mean+P3b_std+(1|participant)\n",
      "\n",
      "Family: binomial\t Inference: parametric\n",
      "\n",
      "Number of observations: 429\t Groups: {'participant': 22.0}\n",
      "\n",
      "Log-likelihood: -264.464 \t AIC: 616.928\n",
      "\n",
      "Random effects:\n",
      "\n",
      "                    Name  Var  Std\n",
      "participant  (Intercept)  0.0  0.0\n",
      "\n",
      "No random effect correlations specified\n",
      "\n",
      "Fixed effects:\n",
      "\n"
     ]
    },
    {
     "name": "stderr",
     "output_type": "stream",
     "text": []
    },
    {
     "name": "stdout",
     "output_type": "stream",
     "text": [
      "boundary (singular) fit: see ?isSingular \n",
      "\n",
      "Linear mixed model fit by maximum likelihood  ['lmerMod']\n",
      "Formula: mind_numeric~wSMI_1_mean+wSMI_1_std+wSMI_2_mean+wSMI_2_std+wSMI_4_mean+wSMI_4_std+wSMI_8_mean+wSMI_8_std+p_e_1_mean+p_e_1_std+p_e_2_mean+p_e_2_std+p_e_4_mean+p_e_4_std+p_e_8_mean+p_e_8_std+k_mean+k_std+se_mean+se_std+msf_std+sef90_std+sef95_std+b_std+b_n_std+g_std+g_n_std+t_std+t_n_std+d_mean+d_std+d_n_std+a_n_std+a_std+CNV_mean+CNV_std+P1_mean+P1_std+P3a_mean+P3a_std+P3b_mean+P3b_std+(1|participant)\n",
      "\n",
      "Family: binomial\t Inference: parametric\n",
      "\n",
      "Number of observations: 429\t Groups: {'participant': 22.0}\n",
      "\n",
      "Log-likelihood: -272.613 \t AIC: 633.227\n",
      "\n",
      "Random effects:\n",
      "\n",
      "                    Name  Var  Std\n",
      "participant  (Intercept)  0.0  0.0\n",
      "\n",
      "No random effect correlations specified\n",
      "\n",
      "Fixed effects:\n",
      "\n"
     ]
    },
    {
     "name": "stderr",
     "output_type": "stream",
     "text": []
    },
    {
     "name": "stdout",
     "output_type": "stream",
     "text": [
      "boundary (singular) fit: see ?isSingular \n",
      "\n",
      "Linear mixed model fit by maximum likelihood  ['lmerMod']\n",
      "Formula: mind_numeric~wSMI_1_mean+wSMI_1_std+wSMI_2_mean+wSMI_2_std+wSMI_4_mean+wSMI_4_std+wSMI_8_mean+wSMI_8_std+p_e_1_mean+p_e_1_std+p_e_2_mean+p_e_2_std+p_e_4_mean+p_e_4_std+p_e_8_mean+p_e_8_std+k_mean+k_std+se_mean+se_std+msf_std+sef90_std+sef95_std+b_std+b_n_std+g_std+g_n_std+t_std+t_n_std+d_mean+d_std+d_n_std+a_n_std+a_std+CNV_mean+CNV_std+P1_mean+P1_std+P3a_mean+P3a_std+P3b_mean+P3b_std+(1|participant)\n",
      "\n",
      "Family: binomial\t Inference: parametric\n",
      "\n",
      "Number of observations: 429\t Groups: {'participant': 22.0}\n",
      "\n",
      "Log-likelihood: -271.476 \t AIC: 630.952\n",
      "\n",
      "Random effects:\n",
      "\n",
      "                    Name  Var  Std\n",
      "participant  (Intercept)  0.0  0.0\n",
      "\n",
      "No random effect correlations specified\n",
      "\n",
      "Fixed effects:\n",
      "\n"
     ]
    },
    {
     "name": "stderr",
     "output_type": "stream",
     "text": []
    },
    {
     "name": "stdout",
     "output_type": "stream",
     "text": [
      "boundary (singular) fit: see ?isSingular \n",
      "\n",
      "Linear mixed model fit by maximum likelihood  ['lmerMod']\n",
      "Formula: mind_numeric~wSMI_1_mean+wSMI_1_std+wSMI_2_mean+wSMI_2_std+wSMI_4_mean+wSMI_4_std+wSMI_8_mean+wSMI_8_std+p_e_1_mean+p_e_1_std+p_e_2_mean+p_e_2_std+p_e_4_mean+p_e_4_std+p_e_8_mean+p_e_8_std+k_mean+k_std+se_mean+se_std+msf_std+sef90_std+sef95_std+b_std+b_n_std+g_std+g_n_std+t_std+t_n_std+d_mean+d_std+d_n_std+a_n_std+a_std+CNV_mean+CNV_std+P1_mean+P1_std+P3a_mean+P3a_std+P3b_mean+P3b_std+(1|participant)\n",
      "\n",
      "Family: binomial\t Inference: parametric\n",
      "\n",
      "Number of observations: 429\t Groups: {'participant': 22.0}\n",
      "\n",
      "Log-likelihood: -273.145 \t AIC: 634.289\n",
      "\n",
      "Random effects:\n",
      "\n",
      "                    Name  Var  Std\n",
      "participant  (Intercept)  0.0  0.0\n",
      "\n",
      "No random effect correlations specified\n",
      "\n",
      "Fixed effects:\n",
      "\n"
     ]
    },
    {
     "name": "stderr",
     "output_type": "stream",
     "text": []
    },
    {
     "name": "stdout",
     "output_type": "stream",
     "text": [
      "boundary (singular) fit: see ?isSingular \n",
      "\n",
      "Linear mixed model fit by maximum likelihood  ['lmerMod']\n",
      "Formula: mind_numeric~wSMI_1_mean+wSMI_1_std+wSMI_2_mean+wSMI_2_std+wSMI_4_mean+wSMI_4_std+wSMI_8_mean+wSMI_8_std+p_e_1_mean+p_e_1_std+p_e_2_mean+p_e_2_std+p_e_4_mean+p_e_4_std+p_e_8_mean+p_e_8_std+k_mean+k_std+se_mean+se_std+msf_std+sef90_std+sef95_std+b_std+b_n_std+g_std+g_n_std+t_std+t_n_std+d_mean+d_std+d_n_std+a_n_std+a_std+CNV_mean+CNV_std+P1_mean+P1_std+P3a_mean+P3a_std+P3b_mean+P3b_std+(1|participant)\n",
      "\n",
      "Family: binomial\t Inference: parametric\n",
      "\n",
      "Number of observations: 429\t Groups: {'participant': 22.0}\n",
      "\n",
      "Log-likelihood: -280.237 \t AIC: 648.474\n",
      "\n",
      "Random effects:\n",
      "\n",
      "                    Name  Var  Std\n",
      "participant  (Intercept)  0.0  0.0\n",
      "\n",
      "No random effect correlations specified\n",
      "\n",
      "Fixed effects:\n",
      "\n"
     ]
    },
    {
     "name": "stderr",
     "output_type": "stream",
     "text": []
    },
    {
     "name": "stdout",
     "output_type": "stream",
     "text": [
      "boundary (singular) fit: see ?isSingular \n",
      "\n",
      "Linear mixed model fit by maximum likelihood  ['lmerMod']\n",
      "Formula: mind_numeric~wSMI_1_mean+wSMI_1_std+wSMI_2_mean+wSMI_2_std+wSMI_4_mean+wSMI_4_std+wSMI_8_mean+wSMI_8_std+p_e_1_mean+p_e_1_std+p_e_2_mean+p_e_2_std+p_e_4_mean+p_e_4_std+p_e_8_mean+p_e_8_std+k_mean+k_std+se_mean+se_std+msf_std+sef90_std+sef95_std+b_std+b_n_std+g_std+g_n_std+t_std+t_n_std+d_mean+d_std+d_n_std+a_n_std+a_std+CNV_mean+CNV_std+P1_mean+P1_std+P3a_mean+P3a_std+P3b_mean+P3b_std+(1|participant)\n",
      "\n",
      "Family: binomial\t Inference: parametric\n",
      "\n",
      "Number of observations: 429\t Groups: {'participant': 22.0}\n",
      "\n",
      "Log-likelihood: -279.081 \t AIC: 646.162\n",
      "\n",
      "Random effects:\n",
      "\n",
      "                    Name  Var  Std\n",
      "participant  (Intercept)  0.0  0.0\n",
      "\n",
      "No random effect correlations specified\n",
      "\n",
      "Fixed effects:\n",
      "\n"
     ]
    },
    {
     "name": "stderr",
     "output_type": "stream",
     "text": []
    },
    {
     "name": "stdout",
     "output_type": "stream",
     "text": [
      "boundary (singular) fit: see ?isSingular \n",
      "\n",
      "Linear mixed model fit by maximum likelihood  ['lmerMod']\n",
      "Formula: mind_numeric~wSMI_1_mean+wSMI_1_std+wSMI_2_mean+wSMI_2_std+wSMI_4_mean+wSMI_4_std+wSMI_8_mean+wSMI_8_std+p_e_1_mean+p_e_1_std+p_e_2_mean+p_e_2_std+p_e_4_mean+p_e_4_std+p_e_8_mean+p_e_8_std+k_mean+k_std+se_mean+se_std+msf_std+sef90_std+sef95_std+b_std+b_n_std+g_std+g_n_std+t_std+t_n_std+d_mean+d_std+d_n_std+a_n_std+a_std+CNV_mean+CNV_std+P1_mean+P1_std+P3a_mean+P3a_std+P3b_mean+P3b_std+(1|participant)\n",
      "\n",
      "Family: binomial\t Inference: parametric\n",
      "\n",
      "Number of observations: 429\t Groups: {'participant': 22.0}\n",
      "\n",
      "Log-likelihood: -272.454 \t AIC: 632.907\n",
      "\n",
      "Random effects:\n",
      "\n",
      "                    Name  Var  Std\n",
      "participant  (Intercept)  0.0  0.0\n",
      "\n",
      "No random effect correlations specified\n",
      "\n",
      "Fixed effects:\n",
      "\n"
     ]
    },
    {
     "name": "stderr",
     "output_type": "stream",
     "text": [
      "\n"
     ]
    },
    {
     "name": "stdout",
     "output_type": "stream",
     "text": [
      "boundary (singular) fit: see ?isSingular \n",
      "\n",
      "Linear mixed model fit by maximum likelihood  ['lmerMod']\n",
      "Formula: mind_numeric~wSMI_1_mean+wSMI_1_std+wSMI_2_mean+wSMI_2_std+wSMI_4_mean+wSMI_4_std+wSMI_8_mean+wSMI_8_std+p_e_1_mean+p_e_1_std+p_e_2_mean+p_e_2_std+p_e_4_mean+p_e_4_std+p_e_8_mean+p_e_8_std+k_mean+k_std+se_mean+se_std+msf_std+sef90_std+sef95_std+b_std+b_n_std+g_std+g_n_std+t_std+t_n_std+d_mean+d_std+d_n_std+a_n_std+a_std+CNV_mean+CNV_std+P1_mean+P1_std+P3a_mean+P3a_std+P3b_mean+P3b_std+(1|participant)\n",
      "\n",
      "Family: binomial\t Inference: parametric\n",
      "\n",
      "Number of observations: 429\t Groups: {'participant': 22.0}\n",
      "\n",
      "Log-likelihood: -284.041 \t AIC: 656.082\n",
      "\n",
      "Random effects:\n",
      "\n",
      "                    Name  Var  Std\n",
      "participant  (Intercept)  0.0  0.0\n",
      "\n",
      "No random effect correlations specified\n",
      "\n",
      "Fixed effects:\n",
      "\n"
     ]
    },
    {
     "name": "stderr",
     "output_type": "stream",
     "text": [
      "Permutation Test:  10%|█         | 10/100 [02:12<19:08, 12.76s/it]\u001b[A"
     ]
    },
    {
     "name": "stdout",
     "output_type": "stream",
     "text": [
      "boundary (singular) fit: see ?isSingular \n",
      "\n",
      "Linear mixed model fit by maximum likelihood  ['lmerMod']\n",
      "Formula: mind_numeric~wSMI_1_mean+wSMI_1_std+wSMI_2_mean+wSMI_2_std+wSMI_4_mean+wSMI_4_std+wSMI_8_mean+wSMI_8_std+p_e_1_mean+p_e_1_std+p_e_2_mean+p_e_2_std+p_e_4_mean+p_e_4_std+p_e_8_mean+p_e_8_std+k_mean+k_std+se_mean+se_std+msf_std+sef90_std+sef95_std+b_std+b_n_std+g_std+g_n_std+t_std+t_n_std+d_mean+d_std+d_n_std+a_n_std+a_std+CNV_mean+CNV_std+P1_mean+P1_std+P3a_mean+P3a_std+P3b_mean+P3b_std+(1|participant)\n",
      "\n",
      "Family: binomial\t Inference: parametric\n",
      "\n",
      "Number of observations: 429\t Groups: {'participant': 22.0}\n",
      "\n",
      "Log-likelihood: -277.836 \t AIC: 643.672\n",
      "\n",
      "Random effects:\n",
      "\n",
      "                    Name  Var  Std\n",
      "participant  (Intercept)  0.0  0.0\n",
      "\n",
      "No random effect correlations specified\n",
      "\n",
      "Fixed effects:\n",
      "\n"
     ]
    },
    {
     "name": "stderr",
     "output_type": "stream",
     "text": []
    },
    {
     "name": "stdout",
     "output_type": "stream",
     "text": [
      "boundary (singular) fit: see ?isSingular \n",
      "\n",
      "Linear mixed model fit by maximum likelihood  ['lmerMod']\n",
      "Formula: mind_numeric~wSMI_1_mean+wSMI_1_std+wSMI_2_mean+wSMI_2_std+wSMI_4_mean+wSMI_4_std+wSMI_8_mean+wSMI_8_std+p_e_1_mean+p_e_1_std+p_e_2_mean+p_e_2_std+p_e_4_mean+p_e_4_std+p_e_8_mean+p_e_8_std+k_mean+k_std+se_mean+se_std+msf_std+sef90_std+sef95_std+b_std+b_n_std+g_std+g_n_std+t_std+t_n_std+d_mean+d_std+d_n_std+a_n_std+a_std+CNV_mean+CNV_std+P1_mean+P1_std+P3a_mean+P3a_std+P3b_mean+P3b_std+(1|participant)\n",
      "\n",
      "Family: binomial\t Inference: parametric\n",
      "\n",
      "Number of observations: 429\t Groups: {'participant': 22.0}\n",
      "\n",
      "Log-likelihood: -282.878 \t AIC: 653.757\n",
      "\n",
      "Random effects:\n",
      "\n",
      "                    Name  Var  Std\n",
      "participant  (Intercept)  0.0  0.0\n",
      "\n",
      "No random effect correlations specified\n",
      "\n",
      "Fixed effects:\n",
      "\n"
     ]
    },
    {
     "name": "stderr",
     "output_type": "stream",
     "text": []
    },
    {
     "name": "stdout",
     "output_type": "stream",
     "text": [
      "boundary (singular) fit: see ?isSingular \n",
      "\n",
      "Linear mixed model fit by maximum likelihood  ['lmerMod']\n",
      "Formula: mind_numeric~wSMI_1_mean+wSMI_1_std+wSMI_2_mean+wSMI_2_std+wSMI_4_mean+wSMI_4_std+wSMI_8_mean+wSMI_8_std+p_e_1_mean+p_e_1_std+p_e_2_mean+p_e_2_std+p_e_4_mean+p_e_4_std+p_e_8_mean+p_e_8_std+k_mean+k_std+se_mean+se_std+msf_std+sef90_std+sef95_std+b_std+b_n_std+g_std+g_n_std+t_std+t_n_std+d_mean+d_std+d_n_std+a_n_std+a_std+CNV_mean+CNV_std+P1_mean+P1_std+P3a_mean+P3a_std+P3b_mean+P3b_std+(1|participant)\n",
      "\n",
      "Family: binomial\t Inference: parametric\n",
      "\n",
      "Number of observations: 429\t Groups: {'participant': 22.0}\n",
      "\n",
      "Log-likelihood: -277.082 \t AIC: 642.164\n",
      "\n",
      "Random effects:\n",
      "\n",
      "                    Name  Var  Std\n",
      "participant  (Intercept)  0.0  0.0\n",
      "\n",
      "No random effect correlations specified\n",
      "\n",
      "Fixed effects:\n",
      "\n"
     ]
    },
    {
     "name": "stderr",
     "output_type": "stream",
     "text": []
    },
    {
     "name": "stdout",
     "output_type": "stream",
     "text": [
      "boundary (singular) fit: see ?isSingular \n",
      "\n",
      "Linear mixed model fit by maximum likelihood  ['lmerMod']\n",
      "Formula: mind_numeric~wSMI_1_mean+wSMI_1_std+wSMI_2_mean+wSMI_2_std+wSMI_4_mean+wSMI_4_std+wSMI_8_mean+wSMI_8_std+p_e_1_mean+p_e_1_std+p_e_2_mean+p_e_2_std+p_e_4_mean+p_e_4_std+p_e_8_mean+p_e_8_std+k_mean+k_std+se_mean+se_std+msf_std+sef90_std+sef95_std+b_std+b_n_std+g_std+g_n_std+t_std+t_n_std+d_mean+d_std+d_n_std+a_n_std+a_std+CNV_mean+CNV_std+P1_mean+P1_std+P3a_mean+P3a_std+P3b_mean+P3b_std+(1|participant)\n",
      "\n",
      "Family: binomial\t Inference: parametric\n",
      "\n",
      "Number of observations: 429\t Groups: {'participant': 22.0}\n",
      "\n",
      "Log-likelihood: -276.170 \t AIC: 640.340\n",
      "\n",
      "Random effects:\n",
      "\n",
      "                    Name  Var  Std\n",
      "participant  (Intercept)  0.0  0.0\n",
      "\n",
      "No random effect correlations specified\n",
      "\n",
      "Fixed effects:\n",
      "\n"
     ]
    },
    {
     "name": "stderr",
     "output_type": "stream",
     "text": []
    },
    {
     "name": "stdout",
     "output_type": "stream",
     "text": [
      "boundary (singular) fit: see ?isSingular \n",
      "\n",
      "Linear mixed model fit by maximum likelihood  ['lmerMod']\n",
      "Formula: mind_numeric~wSMI_1_mean+wSMI_1_std+wSMI_2_mean+wSMI_2_std+wSMI_4_mean+wSMI_4_std+wSMI_8_mean+wSMI_8_std+p_e_1_mean+p_e_1_std+p_e_2_mean+p_e_2_std+p_e_4_mean+p_e_4_std+p_e_8_mean+p_e_8_std+k_mean+k_std+se_mean+se_std+msf_std+sef90_std+sef95_std+b_std+b_n_std+g_std+g_n_std+t_std+t_n_std+d_mean+d_std+d_n_std+a_n_std+a_std+CNV_mean+CNV_std+P1_mean+P1_std+P3a_mean+P3a_std+P3b_mean+P3b_std+(1|participant)\n",
      "\n",
      "Family: binomial\t Inference: parametric\n",
      "\n",
      "Number of observations: 429\t Groups: {'participant': 22.0}\n",
      "\n",
      "Log-likelihood: -279.266 \t AIC: 646.532\n",
      "\n",
      "Random effects:\n",
      "\n",
      "                    Name  Var  Std\n",
      "participant  (Intercept)  0.0  0.0\n",
      "\n",
      "No random effect correlations specified\n",
      "\n",
      "Fixed effects:\n",
      "\n"
     ]
    },
    {
     "name": "stderr",
     "output_type": "stream",
     "text": []
    },
    {
     "name": "stdout",
     "output_type": "stream",
     "text": [
      "boundary (singular) fit: see ?isSingular \n",
      "\n",
      "Linear mixed model fit by maximum likelihood  ['lmerMod']\n",
      "Formula: mind_numeric~wSMI_1_mean+wSMI_1_std+wSMI_2_mean+wSMI_2_std+wSMI_4_mean+wSMI_4_std+wSMI_8_mean+wSMI_8_std+p_e_1_mean+p_e_1_std+p_e_2_mean+p_e_2_std+p_e_4_mean+p_e_4_std+p_e_8_mean+p_e_8_std+k_mean+k_std+se_mean+se_std+msf_std+sef90_std+sef95_std+b_std+b_n_std+g_std+g_n_std+t_std+t_n_std+d_mean+d_std+d_n_std+a_n_std+a_std+CNV_mean+CNV_std+P1_mean+P1_std+P3a_mean+P3a_std+P3b_mean+P3b_std+(1|participant)\n",
      "\n",
      "Family: binomial\t Inference: parametric\n",
      "\n",
      "Number of observations: 429\t Groups: {'participant': 22.0}\n",
      "\n",
      "Log-likelihood: -271.428 \t AIC: 630.856\n",
      "\n",
      "Random effects:\n",
      "\n",
      "                    Name  Var  Std\n",
      "participant  (Intercept)  0.0  0.0\n",
      "\n",
      "No random effect correlations specified\n",
      "\n",
      "Fixed effects:\n",
      "\n"
     ]
    },
    {
     "name": "stderr",
     "output_type": "stream",
     "text": []
    },
    {
     "name": "stdout",
     "output_type": "stream",
     "text": [
      "[1] \"failure to converge in 10000 evaluations\"\n",
      "[2] \" \\n\"                                     \n",
      "\n",
      "unable to evaluate scaled gradient \n",
      "\n",
      "Model failed to converge: degenerate  Hessian with 5 negative eigenvalues \n",
      "\n",
      "Linear mixed model fit by maximum likelihood  ['lmerMod']\n",
      "Formula: mind_numeric~wSMI_1_mean+wSMI_1_std+wSMI_2_mean+wSMI_2_std+wSMI_4_mean+wSMI_4_std+wSMI_8_mean+wSMI_8_std+p_e_1_mean+p_e_1_std+p_e_2_mean+p_e_2_std+p_e_4_mean+p_e_4_std+p_e_8_mean+p_e_8_std+k_mean+k_std+se_mean+se_std+msf_std+sef90_std+sef95_std+b_std+b_n_std+g_std+g_n_std+t_std+t_n_std+d_mean+d_std+d_n_std+a_n_std+a_std+CNV_mean+CNV_std+P1_mean+P1_std+P3a_mean+P3a_std+P3b_mean+P3b_std+(1|participant)\n",
      "\n",
      "Family: binomial\t Inference: parametric\n",
      "\n",
      "Number of observations: 429\t Groups: {'participant': 22.0}\n",
      "\n",
      "Log-likelihood: -272.959 \t AIC: 633.919\n",
      "\n",
      "Random effects:\n",
      "\n",
      "                    Name    Var    Std\n",
      "participant  (Intercept)  0.021  0.143\n",
      "\n",
      "No random effect correlations specified\n",
      "\n",
      "Fixed effects:\n",
      "\n"
     ]
    },
    {
     "name": "stderr",
     "output_type": "stream",
     "text": []
    },
    {
     "name": "stdout",
     "output_type": "stream",
     "text": [
      "boundary (singular) fit: see ?isSingular \n",
      "\n",
      "Linear mixed model fit by maximum likelihood  ['lmerMod']\n",
      "Formula: mind_numeric~wSMI_1_mean+wSMI_1_std+wSMI_2_mean+wSMI_2_std+wSMI_4_mean+wSMI_4_std+wSMI_8_mean+wSMI_8_std+p_e_1_mean+p_e_1_std+p_e_2_mean+p_e_2_std+p_e_4_mean+p_e_4_std+p_e_8_mean+p_e_8_std+k_mean+k_std+se_mean+se_std+msf_std+sef90_std+sef95_std+b_std+b_n_std+g_std+g_n_std+t_std+t_n_std+d_mean+d_std+d_n_std+a_n_std+a_std+CNV_mean+CNV_std+P1_mean+P1_std+P3a_mean+P3a_std+P3b_mean+P3b_std+(1|participant)\n",
      "\n",
      "Family: binomial\t Inference: parametric\n",
      "\n",
      "Number of observations: 429\t Groups: {'participant': 22.0}\n",
      "\n",
      "Log-likelihood: -268.663 \t AIC: 625.327\n",
      "\n",
      "Random effects:\n",
      "\n",
      "                    Name  Var  Std\n",
      "participant  (Intercept)  0.0  0.0\n",
      "\n",
      "No random effect correlations specified\n",
      "\n",
      "Fixed effects:\n",
      "\n"
     ]
    },
    {
     "name": "stderr",
     "output_type": "stream",
     "text": []
    },
    {
     "name": "stdout",
     "output_type": "stream",
     "text": [
      "boundary (singular) fit: see ?isSingular \n",
      "\n",
      "Linear mixed model fit by maximum likelihood  ['lmerMod']\n",
      "Formula: mind_numeric~wSMI_1_mean+wSMI_1_std+wSMI_2_mean+wSMI_2_std+wSMI_4_mean+wSMI_4_std+wSMI_8_mean+wSMI_8_std+p_e_1_mean+p_e_1_std+p_e_2_mean+p_e_2_std+p_e_4_mean+p_e_4_std+p_e_8_mean+p_e_8_std+k_mean+k_std+se_mean+se_std+msf_std+sef90_std+sef95_std+b_std+b_n_std+g_std+g_n_std+t_std+t_n_std+d_mean+d_std+d_n_std+a_n_std+a_std+CNV_mean+CNV_std+P1_mean+P1_std+P3a_mean+P3a_std+P3b_mean+P3b_std+(1|participant)\n",
      "\n",
      "Family: binomial\t Inference: parametric\n",
      "\n",
      "Number of observations: 429\t Groups: {'participant': 22.0}\n",
      "\n",
      "Log-likelihood: -279.697 \t AIC: 647.395\n",
      "\n",
      "Random effects:\n",
      "\n",
      "                    Name  Var  Std\n",
      "participant  (Intercept)  0.0  0.0\n",
      "\n",
      "No random effect correlations specified\n",
      "\n",
      "Fixed effects:\n",
      "\n",
      "boundary (singular) fit: see ?isSingular \n",
      "\n",
      "Linear mixed model fit by maximum likelihood  ['lmerMod']\n",
      "Formula: mind_numeric~wSMI_1_mean+wSMI_1_std+wSMI_2_mean+wSMI_2_std+wSMI_4_mean+wSMI_4_std+wSMI_8_mean+wSMI_8_std+p_e_1_mean+p_e_1_std+p_e_2_mean+p_e_2_std+p_e_4_mean+p_e_4_std+p_e_8_mean+p_e_8_std+k_mean+k_std+se_mean+se_std+msf_std+sef90_std+sef95_std+b_std+b_n_std+g_std+g_n_std+t_std+t_n_std+d_mean+d_std+d_n_std+a_n_std+a_std+CNV_mean+CNV_std+P1_mean+P1_std+P3a_mean+P3a_std+P3b_mean+P3b_std+(1|participant)\n",
      "\n",
      "Family: binomial\t Inference: parametric\n",
      "\n",
      "Number of observations: 429\t Groups: {'participant': 22.0}\n",
      "\n",
      "Log-likelihood: -272.399 \t AIC: 632.798\n",
      "\n",
      "Random effects:\n",
      "\n",
      "                    Name  Var  Std\n",
      "participant  (Intercept)  0.0  0.0\n",
      "\n",
      "No random effect correlations specified\n",
      "\n",
      "Fixed effects:\n",
      "\n"
     ]
    },
    {
     "name": "stderr",
     "output_type": "stream",
     "text": []
    },
    {
     "name": "stdout",
     "output_type": "stream",
     "text": [
      "boundary (singular) fit: see ?isSingular \n",
      "\n",
      "Linear mixed model fit by maximum likelihood  ['lmerMod']\n",
      "Formula: mind_numeric~wSMI_1_mean+wSMI_1_std+wSMI_2_mean+wSMI_2_std+wSMI_4_mean+wSMI_4_std+wSMI_8_mean+wSMI_8_std+p_e_1_mean+p_e_1_std+p_e_2_mean+p_e_2_std+p_e_4_mean+p_e_4_std+p_e_8_mean+p_e_8_std+k_mean+k_std+se_mean+se_std+msf_std+sef90_std+sef95_std+b_std+b_n_std+g_std+g_n_std+t_std+t_n_std+d_mean+d_std+d_n_std+a_n_std+a_std+CNV_mean+CNV_std+P1_mean+P1_std+P3a_mean+P3a_std+P3b_mean+P3b_std+(1|participant)\n",
      "\n",
      "Family: binomial\t Inference: parametric\n",
      "\n",
      "Number of observations: 429\t Groups: {'participant': 22.0}\n",
      "\n",
      "Log-likelihood: -274.284 \t AIC: 636.568\n",
      "\n",
      "Random effects:\n",
      "\n",
      "                    Name  Var  Std\n",
      "participant  (Intercept)  0.0  0.0\n",
      "\n",
      "No random effect correlations specified\n",
      "\n",
      "Fixed effects:\n",
      "\n",
      "[1] \"failure to converge in 10000 evaluations\"\n",
      "[2] \" \\n\"                                     \n",
      "\n",
      "unable to evaluate scaled gradient \n",
      "\n",
      "Model failed to converge: degenerate  Hessian with 6 negative eigenvalues \n",
      "\n",
      "Linear mixed model fit by maximum likelihood  ['lmerMod']\n",
      "Formula: mind_numeric~wSMI_1_mean+wSMI_1_std+wSMI_2_mean+wSMI_2_std+wSMI_4_mean+wSMI_4_std+wSMI_8_mean+wSMI_8_std+p_e_1_mean+p_e_1_std+p_e_2_mean+p_e_2_std+p_e_4_mean+p_e_4_std+p_e_8_mean+p_e_8_std+k_mean+k_std+se_mean+se_std+msf_std+sef90_std+sef95_std+b_std+b_n_std+g_std+g_n_std+t_std+t_n_std+d_mean+d_std+d_n_std+a_n_std+a_std+CNV_mean+CNV_std+P1_mean+P1_std+P3a_mean+P3a_std+P3b_mean+P3b_std+(1|participant)\n",
      "\n",
      "Family: binomial\t Inference: parametric\n",
      "\n",
      "Number of observations: 429\t Groups: {'participant': 22.0}\n",
      "\n",
      "Log-likelihood: -275.839 \t AIC: 639.677\n",
      "\n",
      "Random effects:\n",
      "\n",
      "                    Name    Var   Std\n",
      "participant  (Intercept)  0.073  0.27\n",
      "\n",
      "No random effect correlations specified\n",
      "\n",
      "Fixed effects:\n",
      "\n"
     ]
    },
    {
     "name": "stderr",
     "output_type": "stream",
     "text": []
    },
    {
     "name": "stdout",
     "output_type": "stream",
     "text": [
      "boundary (singular) fit: see ?isSingular \n",
      "\n",
      "Linear mixed model fit by maximum likelihood  ['lmerMod']\n",
      "Formula: mind_numeric~wSMI_1_mean+wSMI_1_std+wSMI_2_mean+wSMI_2_std+wSMI_4_mean+wSMI_4_std+wSMI_8_mean+wSMI_8_std+p_e_1_mean+p_e_1_std+p_e_2_mean+p_e_2_std+p_e_4_mean+p_e_4_std+p_e_8_mean+p_e_8_std+k_mean+k_std+se_mean+se_std+msf_std+sef90_std+sef95_std+b_std+b_n_std+g_std+g_n_std+t_std+t_n_std+d_mean+d_std+d_n_std+a_n_std+a_std+CNV_mean+CNV_std+P1_mean+P1_std+P3a_mean+P3a_std+P3b_mean+P3b_std+(1|participant)\n",
      "\n",
      "Family: binomial\t Inference: parametric\n",
      "\n",
      "Number of observations: 429\t Groups: {'participant': 22.0}\n",
      "\n",
      "Log-likelihood: -274.884 \t AIC: 637.768\n",
      "\n",
      "Random effects:\n",
      "\n",
      "                    Name  Var  Std\n",
      "participant  (Intercept)  0.0  0.0\n",
      "\n",
      "No random effect correlations specified\n",
      "\n",
      "Fixed effects:\n",
      "\n"
     ]
    },
    {
     "name": "stderr",
     "output_type": "stream",
     "text": []
    },
    {
     "name": "stdout",
     "output_type": "stream",
     "text": [
      "boundary (singular) fit: see ?isSingular \n",
      "\n",
      "Linear mixed model fit by maximum likelihood  ['lmerMod']\n",
      "Formula: mind_numeric~wSMI_1_mean+wSMI_1_std+wSMI_2_mean+wSMI_2_std+wSMI_4_mean+wSMI_4_std+wSMI_8_mean+wSMI_8_std+p_e_1_mean+p_e_1_std+p_e_2_mean+p_e_2_std+p_e_4_mean+p_e_4_std+p_e_8_mean+p_e_8_std+k_mean+k_std+se_mean+se_std+msf_std+sef90_std+sef95_std+b_std+b_n_std+g_std+g_n_std+t_std+t_n_std+d_mean+d_std+d_n_std+a_n_std+a_std+CNV_mean+CNV_std+P1_mean+P1_std+P3a_mean+P3a_std+P3b_mean+P3b_std+(1|participant)\n",
      "\n",
      "Family: binomial\t Inference: parametric\n",
      "\n",
      "Number of observations: 429\t Groups: {'participant': 22.0}\n",
      "\n",
      "Log-likelihood: -280.280 \t AIC: 648.561\n",
      "\n",
      "Random effects:\n",
      "\n",
      "                    Name  Var  Std\n",
      "participant  (Intercept)  0.0  0.0\n",
      "\n",
      "No random effect correlations specified\n",
      "\n",
      "Fixed effects:\n",
      "\n"
     ]
    },
    {
     "name": "stderr",
     "output_type": "stream",
     "text": []
    },
    {
     "name": "stdout",
     "output_type": "stream",
     "text": [
      "boundary (singular) fit: see ?isSingular \n",
      "\n",
      "Linear mixed model fit by maximum likelihood  ['lmerMod']\n",
      "Formula: mind_numeric~wSMI_1_mean+wSMI_1_std+wSMI_2_mean+wSMI_2_std+wSMI_4_mean+wSMI_4_std+wSMI_8_mean+wSMI_8_std+p_e_1_mean+p_e_1_std+p_e_2_mean+p_e_2_std+p_e_4_mean+p_e_4_std+p_e_8_mean+p_e_8_std+k_mean+k_std+se_mean+se_std+msf_std+sef90_std+sef95_std+b_std+b_n_std+g_std+g_n_std+t_std+t_n_std+d_mean+d_std+d_n_std+a_n_std+a_std+CNV_mean+CNV_std+P1_mean+P1_std+P3a_mean+P3a_std+P3b_mean+P3b_std+(1|participant)\n",
      "\n",
      "Family: binomial\t Inference: parametric\n",
      "\n",
      "Number of observations: 429\t Groups: {'participant': 22.0}\n",
      "\n",
      "Log-likelihood: -270.996 \t AIC: 629.992\n",
      "\n",
      "Random effects:\n",
      "\n",
      "                    Name  Var  Std\n",
      "participant  (Intercept)  0.0  0.0\n",
      "\n",
      "No random effect correlations specified\n",
      "\n",
      "Fixed effects:\n",
      "\n",
      "boundary (singular) fit: see ?isSingular \n",
      "\n",
      "Linear mixed model fit by maximum likelihood  ['lmerMod']\n",
      "Formula: mind_numeric~wSMI_1_mean+wSMI_1_std+wSMI_2_mean+wSMI_2_std+wSMI_4_mean+wSMI_4_std+wSMI_8_mean+wSMI_8_std+p_e_1_mean+p_e_1_std+p_e_2_mean+p_e_2_std+p_e_4_mean+p_e_4_std+p_e_8_mean+p_e_8_std+k_mean+k_std+se_mean+se_std+msf_std+sef90_std+sef95_std+b_std+b_n_std+g_std+g_n_std+t_std+t_n_std+d_mean+d_std+d_n_std+a_n_std+a_std+CNV_mean+CNV_std+P1_mean+P1_std+P3a_mean+P3a_std+P3b_mean+P3b_std+(1|participant)\n",
      "\n",
      "Family: binomial\t Inference: parametric\n",
      "\n",
      "Number of observations: 429\t Groups: {'participant': 22.0}\n",
      "\n",
      "Log-likelihood: -267.748 \t AIC: 623.496\n",
      "\n",
      "Random effects:\n",
      "\n",
      "                    Name  Var  Std\n",
      "participant  (Intercept)  0.0  0.0\n",
      "\n",
      "No random effect correlations specified\n",
      "\n",
      "Fixed effects:\n",
      "\n"
     ]
    },
    {
     "name": "stderr",
     "output_type": "stream",
     "text": []
    },
    {
     "name": "stdout",
     "output_type": "stream",
     "text": [
      "boundary (singular) fit: see ?isSingular \n",
      "\n",
      "Linear mixed model fit by maximum likelihood  ['lmerMod']\n",
      "Formula: mind_numeric~wSMI_1_mean+wSMI_1_std+wSMI_2_mean+wSMI_2_std+wSMI_4_mean+wSMI_4_std+wSMI_8_mean+wSMI_8_std+p_e_1_mean+p_e_1_std+p_e_2_mean+p_e_2_std+p_e_4_mean+p_e_4_std+p_e_8_mean+p_e_8_std+k_mean+k_std+se_mean+se_std+msf_std+sef90_std+sef95_std+b_std+b_n_std+g_std+g_n_std+t_std+t_n_std+d_mean+d_std+d_n_std+a_n_std+a_std+CNV_mean+CNV_std+P1_mean+P1_std+P3a_mean+P3a_std+P3b_mean+P3b_std+(1|participant)\n",
      "\n",
      "Family: binomial\t Inference: parametric\n",
      "\n",
      "Number of observations: 429\t Groups: {'participant': 22.0}\n",
      "\n",
      "Log-likelihood: -275.875 \t AIC: 639.750\n",
      "\n",
      "Random effects:\n",
      "\n",
      "                    Name  Var  Std\n",
      "participant  (Intercept)  0.0  0.0\n",
      "\n",
      "No random effect correlations specified\n",
      "\n",
      "Fixed effects:\n",
      "\n"
     ]
    },
    {
     "name": "stderr",
     "output_type": "stream",
     "text": []
    },
    {
     "name": "stdout",
     "output_type": "stream",
     "text": [
      "boundary (singular) fit: see ?isSingular \n",
      "\n",
      "Linear mixed model fit by maximum likelihood  ['lmerMod']\n",
      "Formula: mind_numeric~wSMI_1_mean+wSMI_1_std+wSMI_2_mean+wSMI_2_std+wSMI_4_mean+wSMI_4_std+wSMI_8_mean+wSMI_8_std+p_e_1_mean+p_e_1_std+p_e_2_mean+p_e_2_std+p_e_4_mean+p_e_4_std+p_e_8_mean+p_e_8_std+k_mean+k_std+se_mean+se_std+msf_std+sef90_std+sef95_std+b_std+b_n_std+g_std+g_n_std+t_std+t_n_std+d_mean+d_std+d_n_std+a_n_std+a_std+CNV_mean+CNV_std+P1_mean+P1_std+P3a_mean+P3a_std+P3b_mean+P3b_std+(1|participant)\n",
      "\n",
      "Family: binomial\t Inference: parametric\n",
      "\n",
      "Number of observations: 429\t Groups: {'participant': 22.0}\n",
      "\n",
      "Log-likelihood: -272.088 \t AIC: 632.177\n",
      "\n",
      "Random effects:\n",
      "\n",
      "                    Name  Var  Std\n",
      "participant  (Intercept)  0.0  0.0\n",
      "\n",
      "No random effect correlations specified\n",
      "\n",
      "Fixed effects:\n",
      "\n"
     ]
    },
    {
     "name": "stderr",
     "output_type": "stream",
     "text": []
    },
    {
     "name": "stdout",
     "output_type": "stream",
     "text": [
      "boundary (singular) fit: see ?isSingular \n",
      "\n",
      "Linear mixed model fit by maximum likelihood  ['lmerMod']\n",
      "Formula: mind_numeric~wSMI_1_mean+wSMI_1_std+wSMI_2_mean+wSMI_2_std+wSMI_4_mean+wSMI_4_std+wSMI_8_mean+wSMI_8_std+p_e_1_mean+p_e_1_std+p_e_2_mean+p_e_2_std+p_e_4_mean+p_e_4_std+p_e_8_mean+p_e_8_std+k_mean+k_std+se_mean+se_std+msf_std+sef90_std+sef95_std+b_std+b_n_std+g_std+g_n_std+t_std+t_n_std+d_mean+d_std+d_n_std+a_n_std+a_std+CNV_mean+CNV_std+P1_mean+P1_std+P3a_mean+P3a_std+P3b_mean+P3b_std+(1|participant)\n",
      "\n",
      "Family: binomial\t Inference: parametric\n",
      "\n",
      "Number of observations: 429\t Groups: {'participant': 22.0}\n",
      "\n",
      "Log-likelihood: -277.430 \t AIC: 642.859\n",
      "\n",
      "Random effects:\n",
      "\n",
      "                    Name  Var  Std\n",
      "participant  (Intercept)  0.0  0.0\n",
      "\n",
      "No random effect correlations specified\n",
      "\n",
      "Fixed effects:\n",
      "\n"
     ]
    },
    {
     "name": "stderr",
     "output_type": "stream",
     "text": []
    },
    {
     "name": "stdout",
     "output_type": "stream",
     "text": [
      "boundary (singular) fit: see ?isSingular \n",
      "\n",
      "Linear mixed model fit by maximum likelihood  ['lmerMod']\n",
      "Formula: mind_numeric~wSMI_1_mean+wSMI_1_std+wSMI_2_mean+wSMI_2_std+wSMI_4_mean+wSMI_4_std+wSMI_8_mean+wSMI_8_std+p_e_1_mean+p_e_1_std+p_e_2_mean+p_e_2_std+p_e_4_mean+p_e_4_std+p_e_8_mean+p_e_8_std+k_mean+k_std+se_mean+se_std+msf_std+sef90_std+sef95_std+b_std+b_n_std+g_std+g_n_std+t_std+t_n_std+d_mean+d_std+d_n_std+a_n_std+a_std+CNV_mean+CNV_std+P1_mean+P1_std+P3a_mean+P3a_std+P3b_mean+P3b_std+(1|participant)\n",
      "\n",
      "Family: binomial\t Inference: parametric\n",
      "\n",
      "Number of observations: 429\t Groups: {'participant': 22.0}\n",
      "\n",
      "Log-likelihood: -271.265 \t AIC: 630.530\n",
      "\n",
      "Random effects:\n",
      "\n",
      "                    Name  Var  Std\n",
      "participant  (Intercept)  0.0  0.0\n",
      "\n",
      "No random effect correlations specified\n",
      "\n",
      "Fixed effects:\n",
      "\n"
     ]
    },
    {
     "name": "stderr",
     "output_type": "stream",
     "text": []
    },
    {
     "name": "stdout",
     "output_type": "stream",
     "text": [
      "boundary (singular) fit: see ?isSingular \n",
      "\n",
      "Linear mixed model fit by maximum likelihood  ['lmerMod']\n",
      "Formula: mind_numeric~wSMI_1_mean+wSMI_1_std+wSMI_2_mean+wSMI_2_std+wSMI_4_mean+wSMI_4_std+wSMI_8_mean+wSMI_8_std+p_e_1_mean+p_e_1_std+p_e_2_mean+p_e_2_std+p_e_4_mean+p_e_4_std+p_e_8_mean+p_e_8_std+k_mean+k_std+se_mean+se_std+msf_std+sef90_std+sef95_std+b_std+b_n_std+g_std+g_n_std+t_std+t_n_std+d_mean+d_std+d_n_std+a_n_std+a_std+CNV_mean+CNV_std+P1_mean+P1_std+P3a_mean+P3a_std+P3b_mean+P3b_std+(1|participant)\n",
      "\n",
      "Family: binomial\t Inference: parametric\n",
      "\n",
      "Number of observations: 429\t Groups: {'participant': 22.0}\n",
      "\n",
      "Log-likelihood: -273.752 \t AIC: 635.504\n",
      "\n",
      "Random effects:\n",
      "\n",
      "                    Name  Var  Std\n",
      "participant  (Intercept)  0.0  0.0\n",
      "\n",
      "No random effect correlations specified\n",
      "\n",
      "Fixed effects:\n",
      "\n"
     ]
    },
    {
     "name": "stderr",
     "output_type": "stream",
     "text": []
    },
    {
     "name": "stdout",
     "output_type": "stream",
     "text": [
      "boundary (singular) fit: see ?isSingular \n",
      "\n",
      "Linear mixed model fit by maximum likelihood  ['lmerMod']\n",
      "Formula: mind_numeric~wSMI_1_mean+wSMI_1_std+wSMI_2_mean+wSMI_2_std+wSMI_4_mean+wSMI_4_std+wSMI_8_mean+wSMI_8_std+p_e_1_mean+p_e_1_std+p_e_2_mean+p_e_2_std+p_e_4_mean+p_e_4_std+p_e_8_mean+p_e_8_std+k_mean+k_std+se_mean+se_std+msf_std+sef90_std+sef95_std+b_std+b_n_std+g_std+g_n_std+t_std+t_n_std+d_mean+d_std+d_n_std+a_n_std+a_std+CNV_mean+CNV_std+P1_mean+P1_std+P3a_mean+P3a_std+P3b_mean+P3b_std+(1|participant)\n",
      "\n",
      "Family: binomial\t Inference: parametric\n",
      "\n",
      "Number of observations: 429\t Groups: {'participant': 22.0}\n",
      "\n",
      "Log-likelihood: -276.316 \t AIC: 640.631\n",
      "\n",
      "Random effects:\n",
      "\n",
      "                    Name  Var  Std\n",
      "participant  (Intercept)  0.0  0.0\n",
      "\n",
      "No random effect correlations specified\n",
      "\n",
      "Fixed effects:\n",
      "\n"
     ]
    },
    {
     "name": "stderr",
     "output_type": "stream",
     "text": []
    },
    {
     "name": "stdout",
     "output_type": "stream",
     "text": [
      "boundary (singular) fit: see ?isSingular \n",
      "\n",
      "Linear mixed model fit by maximum likelihood  ['lmerMod']\n",
      "Formula: mind_numeric~wSMI_1_mean+wSMI_1_std+wSMI_2_mean+wSMI_2_std+wSMI_4_mean+wSMI_4_std+wSMI_8_mean+wSMI_8_std+p_e_1_mean+p_e_1_std+p_e_2_mean+p_e_2_std+p_e_4_mean+p_e_4_std+p_e_8_mean+p_e_8_std+k_mean+k_std+se_mean+se_std+msf_std+sef90_std+sef95_std+b_std+b_n_std+g_std+g_n_std+t_std+t_n_std+d_mean+d_std+d_n_std+a_n_std+a_std+CNV_mean+CNV_std+P1_mean+P1_std+P3a_mean+P3a_std+P3b_mean+P3b_std+(1|participant)\n",
      "\n",
      "Family: binomial\t Inference: parametric\n",
      "\n",
      "Number of observations: 429\t Groups: {'participant': 22.0}\n",
      "\n",
      "Log-likelihood: -281.174 \t AIC: 650.347\n",
      "\n",
      "Random effects:\n",
      "\n",
      "                    Name  Var  Std\n",
      "participant  (Intercept)  0.0  0.0\n",
      "\n",
      "No random effect correlations specified\n",
      "\n",
      "Fixed effects:\n",
      "\n"
     ]
    },
    {
     "name": "stderr",
     "output_type": "stream",
     "text": []
    },
    {
     "name": "stdout",
     "output_type": "stream",
     "text": [
      "boundary (singular) fit: see ?isSingular \n",
      "\n",
      "Linear mixed model fit by maximum likelihood  ['lmerMod']\n",
      "Formula: mind_numeric~wSMI_1_mean+wSMI_1_std+wSMI_2_mean+wSMI_2_std+wSMI_4_mean+wSMI_4_std+wSMI_8_mean+wSMI_8_std+p_e_1_mean+p_e_1_std+p_e_2_mean+p_e_2_std+p_e_4_mean+p_e_4_std+p_e_8_mean+p_e_8_std+k_mean+k_std+se_mean+se_std+msf_std+sef90_std+sef95_std+b_std+b_n_std+g_std+g_n_std+t_std+t_n_std+d_mean+d_std+d_n_std+a_n_std+a_std+CNV_mean+CNV_std+P1_mean+P1_std+P3a_mean+P3a_std+P3b_mean+P3b_std+(1|participant)\n",
      "\n",
      "Family: binomial\t Inference: parametric\n",
      "\n",
      "Number of observations: 429\t Groups: {'participant': 22.0}\n",
      "\n",
      "Log-likelihood: -280.696 \t AIC: 649.393\n",
      "\n",
      "Random effects:\n",
      "\n",
      "                    Name  Var  Std\n",
      "participant  (Intercept)  0.0  0.0\n",
      "\n",
      "No random effect correlations specified\n",
      "\n",
      "Fixed effects:\n",
      "\n"
     ]
    },
    {
     "name": "stderr",
     "output_type": "stream",
     "text": []
    },
    {
     "name": "stdout",
     "output_type": "stream",
     "text": [
      "[1] \"failure to converge in 10000 evaluations\"\n",
      "[2] \" \\n\"                                     \n",
      "\n",
      "unable to evaluate scaled gradient \n",
      "\n",
      "Model failed to converge: degenerate  Hessian with 6 negative eigenvalues \n",
      "\n",
      "Linear mixed model fit by maximum likelihood  ['lmerMod']\n",
      "Formula: mind_numeric~wSMI_1_mean+wSMI_1_std+wSMI_2_mean+wSMI_2_std+wSMI_4_mean+wSMI_4_std+wSMI_8_mean+wSMI_8_std+p_e_1_mean+p_e_1_std+p_e_2_mean+p_e_2_std+p_e_4_mean+p_e_4_std+p_e_8_mean+p_e_8_std+k_mean+k_std+se_mean+se_std+msf_std+sef90_std+sef95_std+b_std+b_n_std+g_std+g_n_std+t_std+t_n_std+d_mean+d_std+d_n_std+a_n_std+a_std+CNV_mean+CNV_std+P1_mean+P1_std+P3a_mean+P3a_std+P3b_mean+P3b_std+(1|participant)\n",
      "\n",
      "Family: binomial\t Inference: parametric\n",
      "\n",
      "Number of observations: 429\t Groups: {'participant': 22.0}\n",
      "\n",
      "Log-likelihood: -269.363 \t AIC: 626.726\n",
      "\n",
      "Random effects:\n",
      "\n",
      "                    Name    Var    Std\n",
      "participant  (Intercept)  0.111  0.333\n",
      "\n",
      "No random effect correlations specified\n",
      "\n",
      "Fixed effects:\n",
      "\n"
     ]
    },
    {
     "name": "stderr",
     "output_type": "stream",
     "text": []
    },
    {
     "name": "stdout",
     "output_type": "stream",
     "text": [
      "boundary (singular) fit: see ?isSingular \n",
      "\n",
      "Linear mixed model fit by maximum likelihood  ['lmerMod']\n",
      "Formula: mind_numeric~wSMI_1_mean+wSMI_1_std+wSMI_2_mean+wSMI_2_std+wSMI_4_mean+wSMI_4_std+wSMI_8_mean+wSMI_8_std+p_e_1_mean+p_e_1_std+p_e_2_mean+p_e_2_std+p_e_4_mean+p_e_4_std+p_e_8_mean+p_e_8_std+k_mean+k_std+se_mean+se_std+msf_std+sef90_std+sef95_std+b_std+b_n_std+g_std+g_n_std+t_std+t_n_std+d_mean+d_std+d_n_std+a_n_std+a_std+CNV_mean+CNV_std+P1_mean+P1_std+P3a_mean+P3a_std+P3b_mean+P3b_std+(1|participant)\n",
      "\n",
      "Family: binomial\t Inference: parametric\n",
      "\n",
      "Number of observations: 429\t Groups: {'participant': 22.0}\n",
      "\n",
      "Log-likelihood: -286.820 \t AIC: 661.641\n",
      "\n",
      "Random effects:\n",
      "\n",
      "                    Name  Var  Std\n",
      "participant  (Intercept)  0.0  0.0\n",
      "\n",
      "No random effect correlations specified\n",
      "\n",
      "Fixed effects:\n",
      "\n",
      "boundary (singular) fit: see ?isSingular \n",
      "\n",
      "Linear mixed model fit by maximum likelihood  ['lmerMod']\n",
      "Formula: mind_numeric~wSMI_1_mean+wSMI_1_std+wSMI_2_mean+wSMI_2_std+wSMI_4_mean+wSMI_4_std+wSMI_8_mean+wSMI_8_std+p_e_1_mean+p_e_1_std+p_e_2_mean+p_e_2_std+p_e_4_mean+p_e_4_std+p_e_8_mean+p_e_8_std+k_mean+k_std+se_mean+se_std+msf_std+sef90_std+sef95_std+b_std+b_n_std+g_std+g_n_std+t_std+t_n_std+d_mean+d_std+d_n_std+a_n_std+a_std+CNV_mean+CNV_std+P1_mean+P1_std+P3a_mean+P3a_std+P3b_mean+P3b_std+(1|participant)\n",
      "\n",
      "Family: binomial\t Inference: parametric\n",
      "\n",
      "Number of observations: 429\t Groups: {'participant': 22.0}\n",
      "\n",
      "Log-likelihood: -279.881 \t AIC: 647.762\n",
      "\n",
      "Random effects:\n",
      "\n",
      "                    Name  Var  Std\n",
      "participant  (Intercept)  0.0  0.0\n",
      "\n",
      "No random effect correlations specified\n",
      "\n",
      "Fixed effects:\n",
      "\n"
     ]
    },
    {
     "name": "stderr",
     "output_type": "stream",
     "text": []
    },
    {
     "name": "stdout",
     "output_type": "stream",
     "text": [
      "boundary (singular) fit: see ?isSingular \n",
      "\n",
      "Linear mixed model fit by maximum likelihood  ['lmerMod']\n",
      "Formula: mind_numeric~wSMI_1_mean+wSMI_1_std+wSMI_2_mean+wSMI_2_std+wSMI_4_mean+wSMI_4_std+wSMI_8_mean+wSMI_8_std+p_e_1_mean+p_e_1_std+p_e_2_mean+p_e_2_std+p_e_4_mean+p_e_4_std+p_e_8_mean+p_e_8_std+k_mean+k_std+se_mean+se_std+msf_std+sef90_std+sef95_std+b_std+b_n_std+g_std+g_n_std+t_std+t_n_std+d_mean+d_std+d_n_std+a_n_std+a_std+CNV_mean+CNV_std+P1_mean+P1_std+P3a_mean+P3a_std+P3b_mean+P3b_std+(1|participant)\n",
      "\n",
      "Family: binomial\t Inference: parametric\n",
      "\n",
      "Number of observations: 429\t Groups: {'participant': 22.0}\n",
      "\n",
      "Log-likelihood: -280.026 \t AIC: 648.053\n",
      "\n",
      "Random effects:\n",
      "\n",
      "                    Name  Var  Std\n",
      "participant  (Intercept)  0.0  0.0\n",
      "\n",
      "No random effect correlations specified\n",
      "\n",
      "Fixed effects:\n",
      "\n"
     ]
    },
    {
     "name": "stderr",
     "output_type": "stream",
     "text": []
    },
    {
     "name": "stdout",
     "output_type": "stream",
     "text": [
      "boundary (singular) fit: see ?isSingular \n",
      "\n",
      "Linear mixed model fit by maximum likelihood  ['lmerMod']\n",
      "Formula: mind_numeric~wSMI_1_mean+wSMI_1_std+wSMI_2_mean+wSMI_2_std+wSMI_4_mean+wSMI_4_std+wSMI_8_mean+wSMI_8_std+p_e_1_mean+p_e_1_std+p_e_2_mean+p_e_2_std+p_e_4_mean+p_e_4_std+p_e_8_mean+p_e_8_std+k_mean+k_std+se_mean+se_std+msf_std+sef90_std+sef95_std+b_std+b_n_std+g_std+g_n_std+t_std+t_n_std+d_mean+d_std+d_n_std+a_n_std+a_std+CNV_mean+CNV_std+P1_mean+P1_std+P3a_mean+P3a_std+P3b_mean+P3b_std+(1|participant)\n",
      "\n",
      "Family: binomial\t Inference: parametric\n",
      "\n",
      "Number of observations: 429\t Groups: {'participant': 22.0}\n",
      "\n",
      "Log-likelihood: -279.000 \t AIC: 646.000\n",
      "\n",
      "Random effects:\n",
      "\n",
      "                    Name  Var  Std\n",
      "participant  (Intercept)  0.0  0.0\n",
      "\n",
      "No random effect correlations specified\n",
      "\n",
      "Fixed effects:\n",
      "\n",
      "[1] \"failure to converge in 10000 evaluations\"\n",
      "[2] \" \\n\"                                     \n",
      "\n",
      "unable to evaluate scaled gradient \n",
      "\n",
      "Model failed to converge: degenerate  Hessian with 5 negative eigenvalues \n",
      "\n",
      "Linear mixed model fit by maximum likelihood  ['lmerMod']\n",
      "Formula: mind_numeric~wSMI_1_mean+wSMI_1_std+wSMI_2_mean+wSMI_2_std+wSMI_4_mean+wSMI_4_std+wSMI_8_mean+wSMI_8_std+p_e_1_mean+p_e_1_std+p_e_2_mean+p_e_2_std+p_e_4_mean+p_e_4_std+p_e_8_mean+p_e_8_std+k_mean+k_std+se_mean+se_std+msf_std+sef90_std+sef95_std+b_std+b_n_std+g_std+g_n_std+t_std+t_n_std+d_mean+d_std+d_n_std+a_n_std+a_std+CNV_mean+CNV_std+P1_mean+P1_std+P3a_mean+P3a_std+P3b_mean+P3b_std+(1|participant)\n",
      "\n",
      "Family: binomial\t Inference: parametric\n",
      "\n",
      "Number of observations: 429\t Groups: {'participant': 22.0}\n",
      "\n",
      "Log-likelihood: -281.219 \t AIC: 650.438\n",
      "\n",
      "Random effects:\n",
      "\n"
     ]
    },
    {
     "name": "stderr",
     "output_type": "stream",
     "text": []
    },
    {
     "name": "stdout",
     "output_type": "stream",
     "text": [
      "                    Name    Var    Std\n",
      "participant  (Intercept)  0.041  0.202\n",
      "\n",
      "No random effect correlations specified\n",
      "\n",
      "Fixed effects:\n",
      "\n"
     ]
    },
    {
     "name": "stderr",
     "output_type": "stream",
     "text": []
    },
    {
     "name": "stdout",
     "output_type": "stream",
     "text": [
      "boundary (singular) fit: see ?isSingular \n",
      "\n",
      "Linear mixed model fit by maximum likelihood  ['lmerMod']\n",
      "Formula: mind_numeric~wSMI_1_mean+wSMI_1_std+wSMI_2_mean+wSMI_2_std+wSMI_4_mean+wSMI_4_std+wSMI_8_mean+wSMI_8_std+p_e_1_mean+p_e_1_std+p_e_2_mean+p_e_2_std+p_e_4_mean+p_e_4_std+p_e_8_mean+p_e_8_std+k_mean+k_std+se_mean+se_std+msf_std+sef90_std+sef95_std+b_std+b_n_std+g_std+g_n_std+t_std+t_n_std+d_mean+d_std+d_n_std+a_n_std+a_std+CNV_mean+CNV_std+P1_mean+P1_std+P3a_mean+P3a_std+P3b_mean+P3b_std+(1|participant)\n",
      "\n",
      "Family: binomial\t Inference: parametric\n",
      "\n",
      "Number of observations: 429\t Groups: {'participant': 22.0}\n",
      "\n",
      "Log-likelihood: -275.322 \t AIC: 638.644\n",
      "\n",
      "Random effects:\n",
      "\n",
      "                    Name  Var  Std\n",
      "participant  (Intercept)  0.0  0.0\n",
      "\n",
      "No random effect correlations specified\n",
      "\n",
      "Fixed effects:\n",
      "\n",
      "boundary (singular) fit: see ?isSingular \n",
      "\n",
      "Linear mixed model fit by maximum likelihood  ['lmerMod']\n",
      "Formula: mind_numeric~wSMI_1_mean+wSMI_1_std+wSMI_2_mean+wSMI_2_std+wSMI_4_mean+wSMI_4_std+wSMI_8_mean+wSMI_8_std+p_e_1_mean+p_e_1_std+p_e_2_mean+p_e_2_std+p_e_4_mean+p_e_4_std+p_e_8_mean+p_e_8_std+k_mean+k_std+se_mean+se_std+msf_std+sef90_std+sef95_std+b_std+b_n_std+g_std+g_n_std+t_std+t_n_std+d_mean+d_std+d_n_std+a_n_std+a_std+CNV_mean+CNV_std+P1_mean+P1_std+P3a_mean+P3a_std+P3b_mean+P3b_std+(1|participant)\n",
      "\n",
      "Family: binomial\t Inference: parametric\n",
      "\n",
      "Number of observations: 429\t Groups: {'participant': 22.0}\n",
      "\n",
      "Log-likelihood: -277.067 \t AIC: 642.134\n",
      "\n",
      "Random effects:\n",
      "\n",
      "                    Name  Var  Std\n",
      "participant  (Intercept)  0.0  0.0\n",
      "\n",
      "No random effect correlations specified\n",
      "\n",
      "Fixed effects:\n",
      "\n"
     ]
    },
    {
     "name": "stderr",
     "output_type": "stream",
     "text": []
    },
    {
     "name": "stdout",
     "output_type": "stream",
     "text": [
      "boundary (singular) fit: see ?isSingular \n",
      "\n",
      "Linear mixed model fit by maximum likelihood  ['lmerMod']\n",
      "Formula: mind_numeric~wSMI_1_mean+wSMI_1_std+wSMI_2_mean+wSMI_2_std+wSMI_4_mean+wSMI_4_std+wSMI_8_mean+wSMI_8_std+p_e_1_mean+p_e_1_std+p_e_2_mean+p_e_2_std+p_e_4_mean+p_e_4_std+p_e_8_mean+p_e_8_std+k_mean+k_std+se_mean+se_std+msf_std+sef90_std+sef95_std+b_std+b_n_std+g_std+g_n_std+t_std+t_n_std+d_mean+d_std+d_n_std+a_n_std+a_std+CNV_mean+CNV_std+P1_mean+P1_std+P3a_mean+P3a_std+P3b_mean+P3b_std+(1|participant)\n",
      "\n",
      "Family: binomial\t Inference: parametric\n",
      "\n",
      "Number of observations: 429\t Groups: {'participant': 22.0}\n",
      "\n",
      "Log-likelihood: -282.486 \t AIC: 652.972\n",
      "\n",
      "Random effects:\n",
      "\n",
      "                    Name  Var  Std\n",
      "participant  (Intercept)  0.0  0.0\n",
      "\n",
      "No random effect correlations specified\n",
      "\n",
      "Fixed effects:\n",
      "\n"
     ]
    },
    {
     "name": "stderr",
     "output_type": "stream",
     "text": []
    },
    {
     "name": "stdout",
     "output_type": "stream",
     "text": [
      "boundary (singular) fit: see ?isSingular \n",
      "\n",
      "Linear mixed model fit by maximum likelihood  ['lmerMod']\n",
      "Formula: mind_numeric~wSMI_1_mean+wSMI_1_std+wSMI_2_mean+wSMI_2_std+wSMI_4_mean+wSMI_4_std+wSMI_8_mean+wSMI_8_std+p_e_1_mean+p_e_1_std+p_e_2_mean+p_e_2_std+p_e_4_mean+p_e_4_std+p_e_8_mean+p_e_8_std+k_mean+k_std+se_mean+se_std+msf_std+sef90_std+sef95_std+b_std+b_n_std+g_std+g_n_std+t_std+t_n_std+d_mean+d_std+d_n_std+a_n_std+a_std+CNV_mean+CNV_std+P1_mean+P1_std+P3a_mean+P3a_std+P3b_mean+P3b_std+(1|participant)\n",
      "\n",
      "Family: binomial\t Inference: parametric\n",
      "\n",
      "Number of observations: 429\t Groups: {'participant': 22.0}\n",
      "\n",
      "Log-likelihood: -275.151 \t AIC: 638.301\n",
      "\n",
      "Random effects:\n",
      "\n",
      "                    Name  Var  Std\n",
      "participant  (Intercept)  0.0  0.0\n",
      "\n",
      "No random effect correlations specified\n",
      "\n",
      "Fixed effects:\n",
      "\n"
     ]
    },
    {
     "name": "stderr",
     "output_type": "stream",
     "text": []
    },
    {
     "name": "stdout",
     "output_type": "stream",
     "text": [
      "boundary (singular) fit: see ?isSingular \n",
      "\n",
      "Linear mixed model fit by maximum likelihood  ['lmerMod']\n",
      "Formula: mind_numeric~wSMI_1_mean+wSMI_1_std+wSMI_2_mean+wSMI_2_std+wSMI_4_mean+wSMI_4_std+wSMI_8_mean+wSMI_8_std+p_e_1_mean+p_e_1_std+p_e_2_mean+p_e_2_std+p_e_4_mean+p_e_4_std+p_e_8_mean+p_e_8_std+k_mean+k_std+se_mean+se_std+msf_std+sef90_std+sef95_std+b_std+b_n_std+g_std+g_n_std+t_std+t_n_std+d_mean+d_std+d_n_std+a_n_std+a_std+CNV_mean+CNV_std+P1_mean+P1_std+P3a_mean+P3a_std+P3b_mean+P3b_std+(1|participant)\n",
      "\n",
      "Family: binomial\t Inference: parametric\n",
      "\n",
      "Number of observations: 429\t Groups: {'participant': 22.0}\n",
      "\n",
      "Log-likelihood: -270.296 \t AIC: 628.592\n",
      "\n",
      "Random effects:\n",
      "\n",
      "                    Name  Var  Std\n",
      "participant  (Intercept)  0.0  0.0\n",
      "\n",
      "No random effect correlations specified\n",
      "\n",
      "Fixed effects:\n",
      "\n"
     ]
    },
    {
     "name": "stderr",
     "output_type": "stream",
     "text": []
    },
    {
     "name": "stdout",
     "output_type": "stream",
     "text": [
      "boundary (singular) fit: see ?isSingular \n",
      "\n",
      "Linear mixed model fit by maximum likelihood  ['lmerMod']\n",
      "Formula: mind_numeric~wSMI_1_mean+wSMI_1_std+wSMI_2_mean+wSMI_2_std+wSMI_4_mean+wSMI_4_std+wSMI_8_mean+wSMI_8_std+p_e_1_mean+p_e_1_std+p_e_2_mean+p_e_2_std+p_e_4_mean+p_e_4_std+p_e_8_mean+p_e_8_std+k_mean+k_std+se_mean+se_std+msf_std+sef90_std+sef95_std+b_std+b_n_std+g_std+g_n_std+t_std+t_n_std+d_mean+d_std+d_n_std+a_n_std+a_std+CNV_mean+CNV_std+P1_mean+P1_std+P3a_mean+P3a_std+P3b_mean+P3b_std+(1|participant)\n",
      "\n",
      "Family: binomial\t Inference: parametric\n",
      "\n",
      "Number of observations: 429\t Groups: {'participant': 22.0}\n",
      "\n",
      "Log-likelihood: -272.760 \t AIC: 633.520\n",
      "\n",
      "Random effects:\n",
      "\n",
      "                    Name  Var  Std\n",
      "participant  (Intercept)  0.0  0.0\n",
      "\n",
      "No random effect correlations specified\n",
      "\n",
      "Fixed effects:\n",
      "\n"
     ]
    },
    {
     "name": "stderr",
     "output_type": "stream",
     "text": []
    },
    {
     "name": "stdout",
     "output_type": "stream",
     "text": [
      "boundary (singular) fit: see ?isSingular \n",
      "\n",
      "Linear mixed model fit by maximum likelihood  ['lmerMod']\n",
      "Formula: mind_numeric~wSMI_1_mean+wSMI_1_std+wSMI_2_mean+wSMI_2_std+wSMI_4_mean+wSMI_4_std+wSMI_8_mean+wSMI_8_std+p_e_1_mean+p_e_1_std+p_e_2_mean+p_e_2_std+p_e_4_mean+p_e_4_std+p_e_8_mean+p_e_8_std+k_mean+k_std+se_mean+se_std+msf_std+sef90_std+sef95_std+b_std+b_n_std+g_std+g_n_std+t_std+t_n_std+d_mean+d_std+d_n_std+a_n_std+a_std+CNV_mean+CNV_std+P1_mean+P1_std+P3a_mean+P3a_std+P3b_mean+P3b_std+(1|participant)\n",
      "\n",
      "Family: binomial\t Inference: parametric\n",
      "\n",
      "Number of observations: 429\t Groups: {'participant': 22.0}\n",
      "\n",
      "Log-likelihood: -271.581 \t AIC: 631.162\n",
      "\n",
      "Random effects:\n",
      "\n",
      "                    Name  Var  Std\n",
      "participant  (Intercept)  0.0  0.0\n",
      "\n",
      "No random effect correlations specified\n",
      "\n",
      "Fixed effects:\n",
      "\n"
     ]
    },
    {
     "name": "stderr",
     "output_type": "stream",
     "text": []
    },
    {
     "name": "stdout",
     "output_type": "stream",
     "text": [
      "boundary (singular) fit: see ?isSingular \n",
      "\n",
      "Linear mixed model fit by maximum likelihood  ['lmerMod']\n",
      "Formula: mind_numeric~wSMI_1_mean+wSMI_1_std+wSMI_2_mean+wSMI_2_std+wSMI_4_mean+wSMI_4_std+wSMI_8_mean+wSMI_8_std+p_e_1_mean+p_e_1_std+p_e_2_mean+p_e_2_std+p_e_4_mean+p_e_4_std+p_e_8_mean+p_e_8_std+k_mean+k_std+se_mean+se_std+msf_std+sef90_std+sef95_std+b_std+b_n_std+g_std+g_n_std+t_std+t_n_std+d_mean+d_std+d_n_std+a_n_std+a_std+CNV_mean+CNV_std+P1_mean+P1_std+P3a_mean+P3a_std+P3b_mean+P3b_std+(1|participant)\n",
      "\n",
      "Family: binomial\t Inference: parametric\n",
      "\n",
      "Number of observations: 429\t Groups: {'participant': 22.0}\n",
      "\n",
      "Log-likelihood: -273.408 \t AIC: 634.816\n",
      "\n",
      "Random effects:\n",
      "\n",
      "                    Name  Var  Std\n",
      "participant  (Intercept)  0.0  0.0\n",
      "\n",
      "No random effect correlations specified\n",
      "\n",
      "Fixed effects:\n",
      "\n"
     ]
    },
    {
     "name": "stderr",
     "output_type": "stream",
     "text": []
    },
    {
     "name": "stdout",
     "output_type": "stream",
     "text": [
      "boundary (singular) fit: see ?isSingular \n",
      "\n",
      "Linear mixed model fit by maximum likelihood  ['lmerMod']\n",
      "Formula: mind_numeric~wSMI_1_mean+wSMI_1_std+wSMI_2_mean+wSMI_2_std+wSMI_4_mean+wSMI_4_std+wSMI_8_mean+wSMI_8_std+p_e_1_mean+p_e_1_std+p_e_2_mean+p_e_2_std+p_e_4_mean+p_e_4_std+p_e_8_mean+p_e_8_std+k_mean+k_std+se_mean+se_std+msf_std+sef90_std+sef95_std+b_std+b_n_std+g_std+g_n_std+t_std+t_n_std+d_mean+d_std+d_n_std+a_n_std+a_std+CNV_mean+CNV_std+P1_mean+P1_std+P3a_mean+P3a_std+P3b_mean+P3b_std+(1|participant)\n",
      "\n",
      "Family: binomial\t Inference: parametric\n",
      "\n",
      "Number of observations: 429\t Groups: {'participant': 22.0}\n",
      "\n",
      "Log-likelihood: -270.693 \t AIC: 629.386\n",
      "\n",
      "Random effects:\n",
      "\n",
      "                    Name  Var  Std\n",
      "participant  (Intercept)  0.0  0.0\n",
      "\n",
      "No random effect correlations specified\n",
      "\n",
      "Fixed effects:\n",
      "\n"
     ]
    },
    {
     "name": "stderr",
     "output_type": "stream",
     "text": []
    },
    {
     "name": "stdout",
     "output_type": "stream",
     "text": [
      "boundary (singular) fit: see ?isSingular \n",
      "\n",
      "Linear mixed model fit by maximum likelihood  ['lmerMod']\n",
      "Formula: mind_numeric~wSMI_1_mean+wSMI_1_std+wSMI_2_mean+wSMI_2_std+wSMI_4_mean+wSMI_4_std+wSMI_8_mean+wSMI_8_std+p_e_1_mean+p_e_1_std+p_e_2_mean+p_e_2_std+p_e_4_mean+p_e_4_std+p_e_8_mean+p_e_8_std+k_mean+k_std+se_mean+se_std+msf_std+sef90_std+sef95_std+b_std+b_n_std+g_std+g_n_std+t_std+t_n_std+d_mean+d_std+d_n_std+a_n_std+a_std+CNV_mean+CNV_std+P1_mean+P1_std+P3a_mean+P3a_std+P3b_mean+P3b_std+(1|participant)\n",
      "\n",
      "Family: binomial\t Inference: parametric\n",
      "\n",
      "Number of observations: 429\t Groups: {'participant': 22.0}\n",
      "\n",
      "Log-likelihood: -270.881 \t AIC: 629.762\n",
      "\n",
      "Random effects:\n",
      "\n",
      "                    Name  Var  Std\n",
      "participant  (Intercept)  0.0  0.0\n",
      "\n",
      "No random effect correlations specified\n",
      "\n",
      "Fixed effects:\n",
      "\n"
     ]
    },
    {
     "name": "stderr",
     "output_type": "stream",
     "text": []
    },
    {
     "name": "stdout",
     "output_type": "stream",
     "text": [
      "boundary (singular) fit: see ?isSingular \n",
      "\n",
      "Linear mixed model fit by maximum likelihood  ['lmerMod']\n",
      "Formula: mind_numeric~wSMI_1_mean+wSMI_1_std+wSMI_2_mean+wSMI_2_std+wSMI_4_mean+wSMI_4_std+wSMI_8_mean+wSMI_8_std+p_e_1_mean+p_e_1_std+p_e_2_mean+p_e_2_std+p_e_4_mean+p_e_4_std+p_e_8_mean+p_e_8_std+k_mean+k_std+se_mean+se_std+msf_std+sef90_std+sef95_std+b_std+b_n_std+g_std+g_n_std+t_std+t_n_std+d_mean+d_std+d_n_std+a_n_std+a_std+CNV_mean+CNV_std+P1_mean+P1_std+P3a_mean+P3a_std+P3b_mean+P3b_std+(1|participant)\n",
      "\n",
      "Family: binomial\t Inference: parametric\n",
      "\n",
      "Number of observations: 429\t Groups: {'participant': 22.0}\n",
      "\n",
      "Log-likelihood: -274.016 \t AIC: 636.031\n",
      "\n",
      "Random effects:\n",
      "\n",
      "                    Name  Var  Std\n",
      "participant  (Intercept)  0.0  0.0\n",
      "\n",
      "No random effect correlations specified\n",
      "\n",
      "Fixed effects:\n",
      "\n"
     ]
    },
    {
     "name": "stderr",
     "output_type": "stream",
     "text": []
    },
    {
     "name": "stdout",
     "output_type": "stream",
     "text": [
      "boundary (singular) fit: see ?isSingular \n",
      "\n",
      "Linear mixed model fit by maximum likelihood  ['lmerMod']\n",
      "Formula: mind_numeric~wSMI_1_mean+wSMI_1_std+wSMI_2_mean+wSMI_2_std+wSMI_4_mean+wSMI_4_std+wSMI_8_mean+wSMI_8_std+p_e_1_mean+p_e_1_std+p_e_2_mean+p_e_2_std+p_e_4_mean+p_e_4_std+p_e_8_mean+p_e_8_std+k_mean+k_std+se_mean+se_std+msf_std+sef90_std+sef95_std+b_std+b_n_std+g_std+g_n_std+t_std+t_n_std+d_mean+d_std+d_n_std+a_n_std+a_std+CNV_mean+CNV_std+P1_mean+P1_std+P3a_mean+P3a_std+P3b_mean+P3b_std+(1|participant)\n",
      "\n",
      "Family: binomial\t Inference: parametric\n",
      "\n",
      "Number of observations: 429\t Groups: {'participant': 22.0}\n",
      "\n",
      "Log-likelihood: -259.572 \t AIC: 607.144\n",
      "\n",
      "Random effects:\n",
      "\n",
      "                    Name  Var  Std\n",
      "participant  (Intercept)  0.0  0.0\n",
      "\n",
      "No random effect correlations specified\n",
      "\n",
      "Fixed effects:\n",
      "\n",
      "[1] \"failure to converge in 10000 evaluations\"\n",
      "[2] \" \\n\"                                     \n",
      "\n",
      "unable to evaluate scaled gradient \n",
      "\n",
      "Model failed to converge: degenerate  Hessian with 7 negative eigenvalues \n",
      "\n",
      "Linear mixed model fit by maximum likelihood  ['lmerMod']\n",
      "Formula: mind_numeric~wSMI_1_mean+wSMI_1_std+wSMI_2_mean+wSMI_2_std+wSMI_4_mean+wSMI_4_std+wSMI_8_mean+wSMI_8_std+p_e_1_mean+p_e_1_std+p_e_2_mean+p_e_2_std+p_e_4_mean+p_e_4_std+p_e_8_mean+p_e_8_std+k_mean+k_std+se_mean+se_std+msf_std+sef90_std+sef95_std+b_std+b_n_std+g_std+g_n_std+t_std+t_n_std+d_mean+d_std+d_n_std+a_n_std+a_std+CNV_mean+CNV_std+P1_mean+P1_std+P3a_mean+P3a_std+P3b_mean+P3b_std+(1|participant)\n",
      "\n",
      "Family: binomial\t Inference: parametric\n",
      "\n",
      "Number of observations: 429\t Groups: {'participant': 22.0}\n",
      "\n",
      "Log-likelihood: -263.405 \t AIC: 614.810\n",
      "\n",
      "Random effects:\n",
      "\n",
      "                    Name    Var    Std\n",
      "participant  (Intercept)  0.419  0.647\n",
      "\n",
      "No random effect correlations specified\n",
      "\n",
      "Fixed effects:\n",
      "\n"
     ]
    },
    {
     "name": "stderr",
     "output_type": "stream",
     "text": []
    },
    {
     "name": "stdout",
     "output_type": "stream",
     "text": [
      "boundary (singular) fit: see ?isSingular \n",
      "\n",
      "Linear mixed model fit by maximum likelihood  ['lmerMod']\n",
      "Formula: mind_numeric~wSMI_1_mean+wSMI_1_std+wSMI_2_mean+wSMI_2_std+wSMI_4_mean+wSMI_4_std+wSMI_8_mean+wSMI_8_std+p_e_1_mean+p_e_1_std+p_e_2_mean+p_e_2_std+p_e_4_mean+p_e_4_std+p_e_8_mean+p_e_8_std+k_mean+k_std+se_mean+se_std+msf_std+sef90_std+sef95_std+b_std+b_n_std+g_std+g_n_std+t_std+t_n_std+d_mean+d_std+d_n_std+a_n_std+a_std+CNV_mean+CNV_std+P1_mean+P1_std+P3a_mean+P3a_std+P3b_mean+P3b_std+(1|participant)\n",
      "\n",
      "Family: binomial\t Inference: parametric\n",
      "\n",
      "Number of observations: 429\t Groups: {'participant': 22.0}\n",
      "\n",
      "Log-likelihood: -272.941 \t AIC: 633.883\n",
      "\n",
      "Random effects:\n",
      "\n",
      "                    Name  Var  Std\n",
      "participant  (Intercept)  0.0  0.0\n",
      "\n",
      "No random effect correlations specified\n",
      "\n",
      "Fixed effects:\n",
      "\n"
     ]
    },
    {
     "name": "stderr",
     "output_type": "stream",
     "text": []
    },
    {
     "name": "stdout",
     "output_type": "stream",
     "text": [
      "boundary (singular) fit: see ?isSingular \n",
      "\n",
      "Linear mixed model fit by maximum likelihood  ['lmerMod']\n",
      "Formula: mind_numeric~wSMI_1_mean+wSMI_1_std+wSMI_2_mean+wSMI_2_std+wSMI_4_mean+wSMI_4_std+wSMI_8_mean+wSMI_8_std+p_e_1_mean+p_e_1_std+p_e_2_mean+p_e_2_std+p_e_4_mean+p_e_4_std+p_e_8_mean+p_e_8_std+k_mean+k_std+se_mean+se_std+msf_std+sef90_std+sef95_std+b_std+b_n_std+g_std+g_n_std+t_std+t_n_std+d_mean+d_std+d_n_std+a_n_std+a_std+CNV_mean+CNV_std+P1_mean+P1_std+P3a_mean+P3a_std+P3b_mean+P3b_std+(1|participant)\n",
      "\n",
      "Family: binomial\t Inference: parametric\n",
      "\n",
      "Number of observations: 429\t Groups: {'participant': 22.0}\n",
      "\n",
      "Log-likelihood: -274.058 \t AIC: 636.116\n",
      "\n",
      "Random effects:\n",
      "\n",
      "                    Name  Var  Std\n",
      "participant  (Intercept)  0.0  0.0\n",
      "\n",
      "No random effect correlations specified\n",
      "\n",
      "Fixed effects:\n",
      "\n"
     ]
    },
    {
     "name": "stderr",
     "output_type": "stream",
     "text": []
    },
    {
     "name": "stdout",
     "output_type": "stream",
     "text": [
      "boundary (singular) fit: see ?isSingular \n",
      "\n",
      "Linear mixed model fit by maximum likelihood  ['lmerMod']\n",
      "Formula: mind_numeric~wSMI_1_mean+wSMI_1_std+wSMI_2_mean+wSMI_2_std+wSMI_4_mean+wSMI_4_std+wSMI_8_mean+wSMI_8_std+p_e_1_mean+p_e_1_std+p_e_2_mean+p_e_2_std+p_e_4_mean+p_e_4_std+p_e_8_mean+p_e_8_std+k_mean+k_std+se_mean+se_std+msf_std+sef90_std+sef95_std+b_std+b_n_std+g_std+g_n_std+t_std+t_n_std+d_mean+d_std+d_n_std+a_n_std+a_std+CNV_mean+CNV_std+P1_mean+P1_std+P3a_mean+P3a_std+P3b_mean+P3b_std+(1|participant)\n",
      "\n",
      "Family: binomial\t Inference: parametric\n",
      "\n",
      "Number of observations: 429\t Groups: {'participant': 22.0}\n",
      "\n",
      "Log-likelihood: -265.137 \t AIC: 618.273\n",
      "\n",
      "Random effects:\n",
      "\n",
      "                    Name  Var  Std\n",
      "participant  (Intercept)  0.0  0.0\n",
      "\n",
      "No random effect correlations specified\n",
      "\n",
      "Fixed effects:\n",
      "\n"
     ]
    },
    {
     "name": "stderr",
     "output_type": "stream",
     "text": []
    },
    {
     "name": "stdout",
     "output_type": "stream",
     "text": [
      "boundary (singular) fit: see ?isSingular \n",
      "\n",
      "Linear mixed model fit by maximum likelihood  ['lmerMod']\n",
      "Formula: mind_numeric~wSMI_1_mean+wSMI_1_std+wSMI_2_mean+wSMI_2_std+wSMI_4_mean+wSMI_4_std+wSMI_8_mean+wSMI_8_std+p_e_1_mean+p_e_1_std+p_e_2_mean+p_e_2_std+p_e_4_mean+p_e_4_std+p_e_8_mean+p_e_8_std+k_mean+k_std+se_mean+se_std+msf_std+sef90_std+sef95_std+b_std+b_n_std+g_std+g_n_std+t_std+t_n_std+d_mean+d_std+d_n_std+a_n_std+a_std+CNV_mean+CNV_std+P1_mean+P1_std+P3a_mean+P3a_std+P3b_mean+P3b_std+(1|participant)\n",
      "\n",
      "Family: binomial\t Inference: parametric\n",
      "\n",
      "Number of observations: 429\t Groups: {'participant': 22.0}\n",
      "\n",
      "Log-likelihood: -269.234 \t AIC: 626.467\n",
      "\n",
      "Random effects:\n",
      "\n",
      "                    Name  Var  Std\n",
      "participant  (Intercept)  0.0  0.0\n",
      "\n",
      "No random effect correlations specified\n",
      "\n",
      "Fixed effects:\n",
      "\n",
      "boundary (singular) fit: see ?isSingular \n",
      "\n",
      "Linear mixed model fit by maximum likelihood  ['lmerMod']\n",
      "Formula: mind_numeric~wSMI_1_mean+wSMI_1_std+wSMI_2_mean+wSMI_2_std+wSMI_4_mean+wSMI_4_std+wSMI_8_mean+wSMI_8_std+p_e_1_mean+p_e_1_std+p_e_2_mean+p_e_2_std+p_e_4_mean+p_e_4_std+p_e_8_mean+p_e_8_std+k_mean+k_std+se_mean+se_std+msf_std+sef90_std+sef95_std+b_std+b_n_std+g_std+g_n_std+t_std+t_n_std+d_mean+d_std+d_n_std+a_n_std+a_std+CNV_mean+CNV_std+P1_mean+P1_std+P3a_mean+P3a_std+P3b_mean+P3b_std+(1|participant)\n",
      "\n",
      "Family: binomial\t Inference: parametric\n",
      "\n",
      "Number of observations: 429\t Groups: {'participant': 22.0}\n",
      "\n",
      "Log-likelihood: -283.150 \t AIC: 654.301\n",
      "\n",
      "Random effects:\n",
      "\n",
      "                    Name  Var  Std\n",
      "participant  (Intercept)  0.0  0.0\n",
      "\n",
      "No random effect correlations specified\n",
      "\n",
      "Fixed effects:\n",
      "\n"
     ]
    },
    {
     "name": "stderr",
     "output_type": "stream",
     "text": []
    },
    {
     "name": "stdout",
     "output_type": "stream",
     "text": [
      "boundary (singular) fit: see ?isSingular \n",
      "\n",
      "Linear mixed model fit by maximum likelihood  ['lmerMod']\n",
      "Formula: mind_numeric~wSMI_1_mean+wSMI_1_std+wSMI_2_mean+wSMI_2_std+wSMI_4_mean+wSMI_4_std+wSMI_8_mean+wSMI_8_std+p_e_1_mean+p_e_1_std+p_e_2_mean+p_e_2_std+p_e_4_mean+p_e_4_std+p_e_8_mean+p_e_8_std+k_mean+k_std+se_mean+se_std+msf_std+sef90_std+sef95_std+b_std+b_n_std+g_std+g_n_std+t_std+t_n_std+d_mean+d_std+d_n_std+a_n_std+a_std+CNV_mean+CNV_std+P1_mean+P1_std+P3a_mean+P3a_std+P3b_mean+P3b_std+(1|participant)\n",
      "\n",
      "Family: binomial\t Inference: parametric\n",
      "\n",
      "Number of observations: 429\t Groups: {'participant': 22.0}\n",
      "\n",
      "Log-likelihood: -261.206 \t AIC: 610.412\n",
      "\n",
      "Random effects:\n",
      "\n",
      "                    Name  Var  Std\n",
      "participant  (Intercept)  0.0  0.0\n",
      "\n",
      "No random effect correlations specified\n",
      "\n",
      "Fixed effects:\n",
      "\n"
     ]
    },
    {
     "name": "stderr",
     "output_type": "stream",
     "text": []
    },
    {
     "name": "stdout",
     "output_type": "stream",
     "text": [
      "boundary (singular) fit: see ?isSingular \n",
      "\n",
      "Linear mixed model fit by maximum likelihood  ['lmerMod']\n",
      "Formula: mind_numeric~wSMI_1_mean+wSMI_1_std+wSMI_2_mean+wSMI_2_std+wSMI_4_mean+wSMI_4_std+wSMI_8_mean+wSMI_8_std+p_e_1_mean+p_e_1_std+p_e_2_mean+p_e_2_std+p_e_4_mean+p_e_4_std+p_e_8_mean+p_e_8_std+k_mean+k_std+se_mean+se_std+msf_std+sef90_std+sef95_std+b_std+b_n_std+g_std+g_n_std+t_std+t_n_std+d_mean+d_std+d_n_std+a_n_std+a_std+CNV_mean+CNV_std+P1_mean+P1_std+P3a_mean+P3a_std+P3b_mean+P3b_std+(1|participant)\n",
      "\n",
      "Family: binomial\t Inference: parametric\n",
      "\n",
      "Number of observations: 429\t Groups: {'participant': 22.0}\n",
      "\n",
      "Log-likelihood: -270.881 \t AIC: 629.762\n",
      "\n",
      "Random effects:\n",
      "\n",
      "                    Name  Var  Std\n",
      "participant  (Intercept)  0.0  0.0\n",
      "\n",
      "No random effect correlations specified\n",
      "\n",
      "Fixed effects:\n",
      "\n"
     ]
    },
    {
     "name": "stderr",
     "output_type": "stream",
     "text": []
    },
    {
     "name": "stdout",
     "output_type": "stream",
     "text": [
      "boundary (singular) fit: see ?isSingular \n",
      "\n",
      "Linear mixed model fit by maximum likelihood  ['lmerMod']\n",
      "Formula: mind_numeric~wSMI_1_mean+wSMI_1_std+wSMI_2_mean+wSMI_2_std+wSMI_4_mean+wSMI_4_std+wSMI_8_mean+wSMI_8_std+p_e_1_mean+p_e_1_std+p_e_2_mean+p_e_2_std+p_e_4_mean+p_e_4_std+p_e_8_mean+p_e_8_std+k_mean+k_std+se_mean+se_std+msf_std+sef90_std+sef95_std+b_std+b_n_std+g_std+g_n_std+t_std+t_n_std+d_mean+d_std+d_n_std+a_n_std+a_std+CNV_mean+CNV_std+P1_mean+P1_std+P3a_mean+P3a_std+P3b_mean+P3b_std+(1|participant)\n",
      "\n",
      "Family: binomial\t Inference: parametric\n",
      "\n",
      "Number of observations: 429\t Groups: {'participant': 22.0}\n",
      "\n",
      "Log-likelihood: -279.280 \t AIC: 646.560\n",
      "\n",
      "Random effects:\n",
      "\n",
      "                    Name  Var  Std\n",
      "participant  (Intercept)  0.0  0.0\n",
      "\n",
      "No random effect correlations specified\n",
      "\n",
      "Fixed effects:\n",
      "\n"
     ]
    },
    {
     "name": "stderr",
     "output_type": "stream",
     "text": []
    },
    {
     "name": "stdout",
     "output_type": "stream",
     "text": [
      "boundary (singular) fit: see ?isSingular \n",
      "\n",
      "Linear mixed model fit by maximum likelihood  ['lmerMod']\n",
      "Formula: mind_numeric~wSMI_1_mean+wSMI_1_std+wSMI_2_mean+wSMI_2_std+wSMI_4_mean+wSMI_4_std+wSMI_8_mean+wSMI_8_std+p_e_1_mean+p_e_1_std+p_e_2_mean+p_e_2_std+p_e_4_mean+p_e_4_std+p_e_8_mean+p_e_8_std+k_mean+k_std+se_mean+se_std+msf_std+sef90_std+sef95_std+b_std+b_n_std+g_std+g_n_std+t_std+t_n_std+d_mean+d_std+d_n_std+a_n_std+a_std+CNV_mean+CNV_std+P1_mean+P1_std+P3a_mean+P3a_std+P3b_mean+P3b_std+(1|participant)\n",
      "\n",
      "Family: binomial\t Inference: parametric\n",
      "\n",
      "Number of observations: 429\t Groups: {'participant': 22.0}\n",
      "\n",
      "Log-likelihood: -275.534 \t AIC: 639.068\n",
      "\n",
      "Random effects:\n",
      "\n",
      "                    Name  Var  Std\n",
      "participant  (Intercept)  0.0  0.0\n",
      "\n",
      "No random effect correlations specified\n",
      "\n",
      "Fixed effects:\n",
      "\n"
     ]
    },
    {
     "name": "stderr",
     "output_type": "stream",
     "text": []
    },
    {
     "name": "stdout",
     "output_type": "stream",
     "text": [
      "boundary (singular) fit: see ?isSingular \n",
      "\n",
      "Linear mixed model fit by maximum likelihood  ['lmerMod']\n",
      "Formula: mind_numeric~wSMI_1_mean+wSMI_1_std+wSMI_2_mean+wSMI_2_std+wSMI_4_mean+wSMI_4_std+wSMI_8_mean+wSMI_8_std+p_e_1_mean+p_e_1_std+p_e_2_mean+p_e_2_std+p_e_4_mean+p_e_4_std+p_e_8_mean+p_e_8_std+k_mean+k_std+se_mean+se_std+msf_std+sef90_std+sef95_std+b_std+b_n_std+g_std+g_n_std+t_std+t_n_std+d_mean+d_std+d_n_std+a_n_std+a_std+CNV_mean+CNV_std+P1_mean+P1_std+P3a_mean+P3a_std+P3b_mean+P3b_std+(1|participant)\n",
      "\n",
      "Family: binomial\t Inference: parametric\n",
      "\n",
      "Number of observations: 429\t Groups: {'participant': 22.0}\n",
      "\n",
      "Log-likelihood: -272.937 \t AIC: 633.875\n",
      "\n",
      "Random effects:\n",
      "\n",
      "                    Name  Var  Std\n",
      "participant  (Intercept)  0.0  0.0\n",
      "\n",
      "No random effect correlations specified\n",
      "\n",
      "Fixed effects:\n",
      "\n"
     ]
    },
    {
     "name": "stderr",
     "output_type": "stream",
     "text": []
    },
    {
     "name": "stdout",
     "output_type": "stream",
     "text": [
      "boundary (singular) fit: see ?isSingular \n",
      "\n",
      "Linear mixed model fit by maximum likelihood  ['lmerMod']\n",
      "Formula: mind_numeric~wSMI_1_mean+wSMI_1_std+wSMI_2_mean+wSMI_2_std+wSMI_4_mean+wSMI_4_std+wSMI_8_mean+wSMI_8_std+p_e_1_mean+p_e_1_std+p_e_2_mean+p_e_2_std+p_e_4_mean+p_e_4_std+p_e_8_mean+p_e_8_std+k_mean+k_std+se_mean+se_std+msf_std+sef90_std+sef95_std+b_std+b_n_std+g_std+g_n_std+t_std+t_n_std+d_mean+d_std+d_n_std+a_n_std+a_std+CNV_mean+CNV_std+P1_mean+P1_std+P3a_mean+P3a_std+P3b_mean+P3b_std+(1|participant)\n",
      "\n",
      "Family: binomial\t Inference: parametric\n",
      "\n",
      "Number of observations: 429\t Groups: {'participant': 22.0}\n",
      "\n",
      "Log-likelihood: -277.008 \t AIC: 642.017\n",
      "\n",
      "Random effects:\n",
      "\n",
      "                    Name  Var  Std\n",
      "participant  (Intercept)  0.0  0.0\n",
      "\n",
      "No random effect correlations specified\n",
      "\n",
      "Fixed effects:\n",
      "\n"
     ]
    },
    {
     "name": "stderr",
     "output_type": "stream",
     "text": []
    },
    {
     "name": "stdout",
     "output_type": "stream",
     "text": [
      "boundary (singular) fit: see ?isSingular \n",
      "\n",
      "Linear mixed model fit by maximum likelihood  ['lmerMod']\n",
      "Formula: mind_numeric~wSMI_1_mean+wSMI_1_std+wSMI_2_mean+wSMI_2_std+wSMI_4_mean+wSMI_4_std+wSMI_8_mean+wSMI_8_std+p_e_1_mean+p_e_1_std+p_e_2_mean+p_e_2_std+p_e_4_mean+p_e_4_std+p_e_8_mean+p_e_8_std+k_mean+k_std+se_mean+se_std+msf_std+sef90_std+sef95_std+b_std+b_n_std+g_std+g_n_std+t_std+t_n_std+d_mean+d_std+d_n_std+a_n_std+a_std+CNV_mean+CNV_std+P1_mean+P1_std+P3a_mean+P3a_std+P3b_mean+P3b_std+(1|participant)\n",
      "\n",
      "Family: binomial\t Inference: parametric\n",
      "\n",
      "Number of observations: 429\t Groups: {'participant': 22.0}\n",
      "\n",
      "Log-likelihood: -276.286 \t AIC: 640.571\n",
      "\n",
      "Random effects:\n",
      "\n",
      "                    Name  Var  Std\n",
      "participant  (Intercept)  0.0  0.0\n",
      "\n",
      "No random effect correlations specified\n",
      "\n",
      "Fixed effects:\n",
      "\n"
     ]
    },
    {
     "name": "stderr",
     "output_type": "stream",
     "text": []
    },
    {
     "name": "stdout",
     "output_type": "stream",
     "text": [
      "boundary (singular) fit: see ?isSingular \n",
      "\n",
      "Linear mixed model fit by maximum likelihood  ['lmerMod']\n",
      "Formula: mind_numeric~wSMI_1_mean+wSMI_1_std+wSMI_2_mean+wSMI_2_std+wSMI_4_mean+wSMI_4_std+wSMI_8_mean+wSMI_8_std+p_e_1_mean+p_e_1_std+p_e_2_mean+p_e_2_std+p_e_4_mean+p_e_4_std+p_e_8_mean+p_e_8_std+k_mean+k_std+se_mean+se_std+msf_std+sef90_std+sef95_std+b_std+b_n_std+g_std+g_n_std+t_std+t_n_std+d_mean+d_std+d_n_std+a_n_std+a_std+CNV_mean+CNV_std+P1_mean+P1_std+P3a_mean+P3a_std+P3b_mean+P3b_std+(1|participant)\n",
      "\n",
      "Family: binomial\t Inference: parametric\n",
      "\n",
      "Number of observations: 429\t Groups: {'participant': 22.0}\n",
      "\n",
      "Log-likelihood: -279.264 \t AIC: 646.528\n",
      "\n",
      "Random effects:\n",
      "\n",
      "                    Name  Var  Std\n",
      "participant  (Intercept)  0.0  0.0\n",
      "\n",
      "No random effect correlations specified\n",
      "\n",
      "Fixed effects:\n",
      "\n"
     ]
    },
    {
     "name": "stderr",
     "output_type": "stream",
     "text": []
    },
    {
     "name": "stdout",
     "output_type": "stream",
     "text": [
      "boundary (singular) fit: see ?isSingular \n",
      "\n",
      "Linear mixed model fit by maximum likelihood  ['lmerMod']\n",
      "Formula: mind_numeric~wSMI_1_mean+wSMI_1_std+wSMI_2_mean+wSMI_2_std+wSMI_4_mean+wSMI_4_std+wSMI_8_mean+wSMI_8_std+p_e_1_mean+p_e_1_std+p_e_2_mean+p_e_2_std+p_e_4_mean+p_e_4_std+p_e_8_mean+p_e_8_std+k_mean+k_std+se_mean+se_std+msf_std+sef90_std+sef95_std+b_std+b_n_std+g_std+g_n_std+t_std+t_n_std+d_mean+d_std+d_n_std+a_n_std+a_std+CNV_mean+CNV_std+P1_mean+P1_std+P3a_mean+P3a_std+P3b_mean+P3b_std+(1|participant)\n",
      "\n",
      "Family: binomial\t Inference: parametric\n",
      "\n",
      "Number of observations: 429\t Groups: {'participant': 22.0}\n",
      "\n",
      "Log-likelihood: -278.651 \t AIC: 645.302\n",
      "\n",
      "Random effects:\n",
      "\n",
      "                    Name  Var  Std\n",
      "participant  (Intercept)  0.0  0.0\n",
      "\n",
      "No random effect correlations specified\n",
      "\n",
      "Fixed effects:\n",
      "\n"
     ]
    },
    {
     "name": "stderr",
     "output_type": "stream",
     "text": []
    },
    {
     "name": "stdout",
     "output_type": "stream",
     "text": [
      "boundary (singular) fit: see ?isSingular \n",
      "\n",
      "Linear mixed model fit by maximum likelihood  ['lmerMod']\n",
      "Formula: mind_numeric~wSMI_1_mean+wSMI_1_std+wSMI_2_mean+wSMI_2_std+wSMI_4_mean+wSMI_4_std+wSMI_8_mean+wSMI_8_std+p_e_1_mean+p_e_1_std+p_e_2_mean+p_e_2_std+p_e_4_mean+p_e_4_std+p_e_8_mean+p_e_8_std+k_mean+k_std+se_mean+se_std+msf_std+sef90_std+sef95_std+b_std+b_n_std+g_std+g_n_std+t_std+t_n_std+d_mean+d_std+d_n_std+a_n_std+a_std+CNV_mean+CNV_std+P1_mean+P1_std+P3a_mean+P3a_std+P3b_mean+P3b_std+(1|participant)\n",
      "\n",
      "Family: binomial\t Inference: parametric\n",
      "\n",
      "Number of observations: 429\t Groups: {'participant': 22.0}\n",
      "\n",
      "Log-likelihood: -266.838 \t AIC: 621.675\n",
      "\n",
      "Random effects:\n",
      "\n",
      "                    Name  Var  Std\n",
      "participant  (Intercept)  0.0  0.0\n",
      "\n",
      "No random effect correlations specified\n",
      "\n",
      "Fixed effects:\n",
      "\n"
     ]
    },
    {
     "name": "stderr",
     "output_type": "stream",
     "text": []
    },
    {
     "name": "stdout",
     "output_type": "stream",
     "text": [
      "boundary (singular) fit: see ?isSingular \n",
      "\n",
      "Linear mixed model fit by maximum likelihood  ['lmerMod']\n",
      "Formula: mind_numeric~wSMI_1_mean+wSMI_1_std+wSMI_2_mean+wSMI_2_std+wSMI_4_mean+wSMI_4_std+wSMI_8_mean+wSMI_8_std+p_e_1_mean+p_e_1_std+p_e_2_mean+p_e_2_std+p_e_4_mean+p_e_4_std+p_e_8_mean+p_e_8_std+k_mean+k_std+se_mean+se_std+msf_std+sef90_std+sef95_std+b_std+b_n_std+g_std+g_n_std+t_std+t_n_std+d_mean+d_std+d_n_std+a_n_std+a_std+CNV_mean+CNV_std+P1_mean+P1_std+P3a_mean+P3a_std+P3b_mean+P3b_std+(1|participant)\n",
      "\n",
      "Family: binomial\t Inference: parametric\n",
      "\n",
      "Number of observations: 429\t Groups: {'participant': 22.0}\n",
      "\n",
      "Log-likelihood: -269.961 \t AIC: 627.923\n",
      "\n",
      "Random effects:\n",
      "\n",
      "                    Name  Var  Std\n",
      "participant  (Intercept)  0.0  0.0\n",
      "\n",
      "No random effect correlations specified\n",
      "\n",
      "Fixed effects:\n",
      "\n"
     ]
    },
    {
     "name": "stderr",
     "output_type": "stream",
     "text": []
    },
    {
     "name": "stdout",
     "output_type": "stream",
     "text": [
      "boundary (singular) fit: see ?isSingular \n",
      "\n",
      "Linear mixed model fit by maximum likelihood  ['lmerMod']\n",
      "Formula: mind_numeric~wSMI_1_mean+wSMI_1_std+wSMI_2_mean+wSMI_2_std+wSMI_4_mean+wSMI_4_std+wSMI_8_mean+wSMI_8_std+p_e_1_mean+p_e_1_std+p_e_2_mean+p_e_2_std+p_e_4_mean+p_e_4_std+p_e_8_mean+p_e_8_std+k_mean+k_std+se_mean+se_std+msf_std+sef90_std+sef95_std+b_std+b_n_std+g_std+g_n_std+t_std+t_n_std+d_mean+d_std+d_n_std+a_n_std+a_std+CNV_mean+CNV_std+P1_mean+P1_std+P3a_mean+P3a_std+P3b_mean+P3b_std+(1|participant)\n",
      "\n",
      "Family: binomial\t Inference: parametric\n",
      "\n",
      "Number of observations: 429\t Groups: {'participant': 22.0}\n",
      "\n",
      "Log-likelihood: -272.495 \t AIC: 632.991\n",
      "\n",
      "Random effects:\n",
      "\n",
      "                    Name  Var  Std\n",
      "participant  (Intercept)  0.0  0.0\n",
      "\n",
      "No random effect correlations specified\n",
      "\n",
      "Fixed effects:\n",
      "\n"
     ]
    },
    {
     "name": "stderr",
     "output_type": "stream",
     "text": []
    },
    {
     "name": "stdout",
     "output_type": "stream",
     "text": [
      "boundary (singular) fit: see ?isSingular \n",
      "\n",
      "Linear mixed model fit by maximum likelihood  ['lmerMod']\n",
      "Formula: mind_numeric~wSMI_1_mean+wSMI_1_std+wSMI_2_mean+wSMI_2_std+wSMI_4_mean+wSMI_4_std+wSMI_8_mean+wSMI_8_std+p_e_1_mean+p_e_1_std+p_e_2_mean+p_e_2_std+p_e_4_mean+p_e_4_std+p_e_8_mean+p_e_8_std+k_mean+k_std+se_mean+se_std+msf_std+sef90_std+sef95_std+b_std+b_n_std+g_std+g_n_std+t_std+t_n_std+d_mean+d_std+d_n_std+a_n_std+a_std+CNV_mean+CNV_std+P1_mean+P1_std+P3a_mean+P3a_std+P3b_mean+P3b_std+(1|participant)\n",
      "\n",
      "Family: binomial\t Inference: parametric\n",
      "\n",
      "Number of observations: 429\t Groups: {'participant': 22.0}\n",
      "\n",
      "Log-likelihood: -274.862 \t AIC: 637.725\n",
      "\n",
      "Random effects:\n",
      "\n",
      "                    Name  Var  Std\n",
      "participant  (Intercept)  0.0  0.0\n",
      "\n",
      "No random effect correlations specified\n",
      "\n",
      "Fixed effects:\n",
      "\n"
     ]
    },
    {
     "name": "stderr",
     "output_type": "stream",
     "text": []
    },
    {
     "name": "stdout",
     "output_type": "stream",
     "text": [
      "boundary (singular) fit: see ?isSingular \n",
      "\n",
      "Linear mixed model fit by maximum likelihood  ['lmerMod']\n",
      "Formula: mind_numeric~wSMI_1_mean+wSMI_1_std+wSMI_2_mean+wSMI_2_std+wSMI_4_mean+wSMI_4_std+wSMI_8_mean+wSMI_8_std+p_e_1_mean+p_e_1_std+p_e_2_mean+p_e_2_std+p_e_4_mean+p_e_4_std+p_e_8_mean+p_e_8_std+k_mean+k_std+se_mean+se_std+msf_std+sef90_std+sef95_std+b_std+b_n_std+g_std+g_n_std+t_std+t_n_std+d_mean+d_std+d_n_std+a_n_std+a_std+CNV_mean+CNV_std+P1_mean+P1_std+P3a_mean+P3a_std+P3b_mean+P3b_std+(1|participant)\n",
      "\n",
      "Family: binomial\t Inference: parametric\n",
      "\n",
      "Number of observations: 429\t Groups: {'participant': 22.0}\n",
      "\n",
      "Log-likelihood: -277.352 \t AIC: 642.705\n",
      "\n",
      "Random effects:\n",
      "\n",
      "                    Name  Var  Std\n",
      "participant  (Intercept)  0.0  0.0\n",
      "\n",
      "No random effect correlations specified\n",
      "\n",
      "Fixed effects:\n",
      "\n"
     ]
    },
    {
     "name": "stderr",
     "output_type": "stream",
     "text": []
    },
    {
     "name": "stdout",
     "output_type": "stream",
     "text": [
      "[1] \"failure to converge in 10000 evaluations\"\n",
      "[2] \" \\n\"                                     \n",
      "\n",
      "unable to evaluate scaled gradient \n",
      "\n",
      "Model failed to converge: degenerate  Hessian with 5 negative eigenvalues \n",
      "\n",
      "Linear mixed model fit by maximum likelihood  ['lmerMod']\n",
      "Formula: mind_numeric~wSMI_1_mean+wSMI_1_std+wSMI_2_mean+wSMI_2_std+wSMI_4_mean+wSMI_4_std+wSMI_8_mean+wSMI_8_std+p_e_1_mean+p_e_1_std+p_e_2_mean+p_e_2_std+p_e_4_mean+p_e_4_std+p_e_8_mean+p_e_8_std+k_mean+k_std+se_mean+se_std+msf_std+sef90_std+sef95_std+b_std+b_n_std+g_std+g_n_std+t_std+t_n_std+d_mean+d_std+d_n_std+a_n_std+a_std+CNV_mean+CNV_std+P1_mean+P1_std+P3a_mean+P3a_std+P3b_mean+P3b_std+(1|participant)\n",
      "\n",
      "Family: binomial\t Inference: parametric\n",
      "\n",
      "Number of observations: 429\t Groups: {'participant': 22.0}\n",
      "\n",
      "Log-likelihood: -274.240 \t AIC: 636.479\n",
      "\n",
      "Random effects:\n",
      "\n",
      "                    Name    Var    Std\n",
      "participant  (Intercept)  0.093  0.305\n",
      "\n",
      "No random effect correlations specified\n",
      "\n",
      "Fixed effects:\n",
      "\n"
     ]
    },
    {
     "name": "stderr",
     "output_type": "stream",
     "text": []
    },
    {
     "name": "stdout",
     "output_type": "stream",
     "text": [
      "boundary (singular) fit: see ?isSingular \n",
      "\n",
      "Linear mixed model fit by maximum likelihood  ['lmerMod']\n",
      "Formula: mind_numeric~wSMI_1_mean+wSMI_1_std+wSMI_2_mean+wSMI_2_std+wSMI_4_mean+wSMI_4_std+wSMI_8_mean+wSMI_8_std+p_e_1_mean+p_e_1_std+p_e_2_mean+p_e_2_std+p_e_4_mean+p_e_4_std+p_e_8_mean+p_e_8_std+k_mean+k_std+se_mean+se_std+msf_std+sef90_std+sef95_std+b_std+b_n_std+g_std+g_n_std+t_std+t_n_std+d_mean+d_std+d_n_std+a_n_std+a_std+CNV_mean+CNV_std+P1_mean+P1_std+P3a_mean+P3a_std+P3b_mean+P3b_std+(1|participant)\n",
      "\n",
      "Family: binomial\t Inference: parametric\n",
      "\n",
      "Number of observations: 429\t Groups: {'participant': 22.0}\n",
      "\n",
      "Log-likelihood: -274.628 \t AIC: 637.256\n",
      "\n",
      "Random effects:\n",
      "\n",
      "                    Name  Var  Std\n",
      "participant  (Intercept)  0.0  0.0\n",
      "\n",
      "No random effect correlations specified\n",
      "\n",
      "Fixed effects:\n",
      "\n"
     ]
    },
    {
     "name": "stderr",
     "output_type": "stream",
     "text": []
    },
    {
     "name": "stdout",
     "output_type": "stream",
     "text": [
      "boundary (singular) fit: see ?isSingular \n",
      "\n",
      "Linear mixed model fit by maximum likelihood  ['lmerMod']\n",
      "Formula: mind_numeric~wSMI_1_mean+wSMI_1_std+wSMI_2_mean+wSMI_2_std+wSMI_4_mean+wSMI_4_std+wSMI_8_mean+wSMI_8_std+p_e_1_mean+p_e_1_std+p_e_2_mean+p_e_2_std+p_e_4_mean+p_e_4_std+p_e_8_mean+p_e_8_std+k_mean+k_std+se_mean+se_std+msf_std+sef90_std+sef95_std+b_std+b_n_std+g_std+g_n_std+t_std+t_n_std+d_mean+d_std+d_n_std+a_n_std+a_std+CNV_mean+CNV_std+P1_mean+P1_std+P3a_mean+P3a_std+P3b_mean+P3b_std+(1|participant)\n",
      "\n",
      "Family: binomial\t Inference: parametric\n",
      "\n",
      "Number of observations: 429\t Groups: {'participant': 22.0}\n",
      "\n",
      "Log-likelihood: -269.005 \t AIC: 626.010\n",
      "\n",
      "Random effects:\n",
      "\n",
      "                    Name  Var  Std\n",
      "participant  (Intercept)  0.0  0.0\n",
      "\n",
      "No random effect correlations specified\n",
      "\n",
      "Fixed effects:\n",
      "\n"
     ]
    },
    {
     "name": "stderr",
     "output_type": "stream",
     "text": []
    },
    {
     "name": "stdout",
     "output_type": "stream",
     "text": [
      "boundary (singular) fit: see ?isSingular \n",
      "\n",
      "Linear mixed model fit by maximum likelihood  ['lmerMod']\n",
      "Formula: mind_numeric~wSMI_1_mean+wSMI_1_std+wSMI_2_mean+wSMI_2_std+wSMI_4_mean+wSMI_4_std+wSMI_8_mean+wSMI_8_std+p_e_1_mean+p_e_1_std+p_e_2_mean+p_e_2_std+p_e_4_mean+p_e_4_std+p_e_8_mean+p_e_8_std+k_mean+k_std+se_mean+se_std+msf_std+sef90_std+sef95_std+b_std+b_n_std+g_std+g_n_std+t_std+t_n_std+d_mean+d_std+d_n_std+a_n_std+a_std+CNV_mean+CNV_std+P1_mean+P1_std+P3a_mean+P3a_std+P3b_mean+P3b_std+(1|participant)\n",
      "\n",
      "Family: binomial\t Inference: parametric\n",
      "\n",
      "Number of observations: 429\t Groups: {'participant': 22.0}\n",
      "\n",
      "Log-likelihood: -269.619 \t AIC: 627.237\n",
      "\n",
      "Random effects:\n",
      "\n",
      "                    Name  Var  Std\n",
      "participant  (Intercept)  0.0  0.0\n",
      "\n",
      "No random effect correlations specified\n",
      "\n",
      "Fixed effects:\n",
      "\n"
     ]
    },
    {
     "name": "stderr",
     "output_type": "stream",
     "text": []
    },
    {
     "name": "stdout",
     "output_type": "stream",
     "text": [
      "boundary (singular) fit: see ?isSingular \n",
      "\n",
      "Linear mixed model fit by maximum likelihood  ['lmerMod']\n",
      "Formula: mind_numeric~wSMI_1_mean+wSMI_1_std+wSMI_2_mean+wSMI_2_std+wSMI_4_mean+wSMI_4_std+wSMI_8_mean+wSMI_8_std+p_e_1_mean+p_e_1_std+p_e_2_mean+p_e_2_std+p_e_4_mean+p_e_4_std+p_e_8_mean+p_e_8_std+k_mean+k_std+se_mean+se_std+msf_std+sef90_std+sef95_std+b_std+b_n_std+g_std+g_n_std+t_std+t_n_std+d_mean+d_std+d_n_std+a_n_std+a_std+CNV_mean+CNV_std+P1_mean+P1_std+P3a_mean+P3a_std+P3b_mean+P3b_std+(1|participant)\n",
      "\n",
      "Family: binomial\t Inference: parametric\n",
      "\n",
      "Number of observations: 429\t Groups: {'participant': 22.0}\n",
      "\n",
      "Log-likelihood: -280.460 \t AIC: 648.920\n",
      "\n",
      "Random effects:\n",
      "\n",
      "                    Name  Var  Std\n",
      "participant  (Intercept)  0.0  0.0\n",
      "\n",
      "No random effect correlations specified\n",
      "\n",
      "Fixed effects:\n",
      "\n"
     ]
    },
    {
     "name": "stderr",
     "output_type": "stream",
     "text": []
    },
    {
     "name": "stdout",
     "output_type": "stream",
     "text": [
      "boundary (singular) fit: see ?isSingular \n",
      "\n",
      "Linear mixed model fit by maximum likelihood  ['lmerMod']\n",
      "Formula: mind_numeric~wSMI_1_mean+wSMI_1_std+wSMI_2_mean+wSMI_2_std+wSMI_4_mean+wSMI_4_std+wSMI_8_mean+wSMI_8_std+p_e_1_mean+p_e_1_std+p_e_2_mean+p_e_2_std+p_e_4_mean+p_e_4_std+p_e_8_mean+p_e_8_std+k_mean+k_std+se_mean+se_std+msf_std+sef90_std+sef95_std+b_std+b_n_std+g_std+g_n_std+t_std+t_n_std+d_mean+d_std+d_n_std+a_n_std+a_std+CNV_mean+CNV_std+P1_mean+P1_std+P3a_mean+P3a_std+P3b_mean+P3b_std+(1|participant)\n",
      "\n",
      "Family: binomial\t Inference: parametric\n",
      "\n",
      "Number of observations: 429\t Groups: {'participant': 22.0}\n",
      "\n",
      "Log-likelihood: -279.011 \t AIC: 646.022\n",
      "\n",
      "Random effects:\n",
      "\n",
      "                    Name  Var  Std\n",
      "participant  (Intercept)  0.0  0.0\n",
      "\n",
      "No random effect correlations specified\n",
      "\n",
      "Fixed effects:\n",
      "\n"
     ]
    },
    {
     "name": "stderr",
     "output_type": "stream",
     "text": []
    },
    {
     "name": "stdout",
     "output_type": "stream",
     "text": [
      "boundary (singular) fit: see ?isSingular \n",
      "\n",
      "Linear mixed model fit by maximum likelihood  ['lmerMod']\n",
      "Formula: mind_numeric~wSMI_1_mean+wSMI_1_std+wSMI_2_mean+wSMI_2_std+wSMI_4_mean+wSMI_4_std+wSMI_8_mean+wSMI_8_std+p_e_1_mean+p_e_1_std+p_e_2_mean+p_e_2_std+p_e_4_mean+p_e_4_std+p_e_8_mean+p_e_8_std+k_mean+k_std+se_mean+se_std+msf_std+sef90_std+sef95_std+b_std+b_n_std+g_std+g_n_std+t_std+t_n_std+d_mean+d_std+d_n_std+a_n_std+a_std+CNV_mean+CNV_std+P1_mean+P1_std+P3a_mean+P3a_std+P3b_mean+P3b_std+(1|participant)\n",
      "\n",
      "Family: binomial\t Inference: parametric\n",
      "\n",
      "Number of observations: 429\t Groups: {'participant': 22.0}\n",
      "\n",
      "Log-likelihood: -274.276 \t AIC: 636.552\n",
      "\n",
      "Random effects:\n",
      "\n",
      "                    Name  Var  Std\n",
      "participant  (Intercept)  0.0  0.0\n",
      "\n",
      "No random effect correlations specified\n",
      "\n",
      "Fixed effects:\n",
      "\n"
     ]
    },
    {
     "name": "stderr",
     "output_type": "stream",
     "text": []
    },
    {
     "name": "stdout",
     "output_type": "stream",
     "text": [
      "boundary (singular) fit: see ?isSingular \n",
      "\n",
      "Linear mixed model fit by maximum likelihood  ['lmerMod']\n",
      "Formula: mind_numeric~wSMI_1_mean+wSMI_1_std+wSMI_2_mean+wSMI_2_std+wSMI_4_mean+wSMI_4_std+wSMI_8_mean+wSMI_8_std+p_e_1_mean+p_e_1_std+p_e_2_mean+p_e_2_std+p_e_4_mean+p_e_4_std+p_e_8_mean+p_e_8_std+k_mean+k_std+se_mean+se_std+msf_std+sef90_std+sef95_std+b_std+b_n_std+g_std+g_n_std+t_std+t_n_std+d_mean+d_std+d_n_std+a_n_std+a_std+CNV_mean+CNV_std+P1_mean+P1_std+P3a_mean+P3a_std+P3b_mean+P3b_std+(1|participant)\n",
      "\n",
      "Family: binomial\t Inference: parametric\n",
      "\n",
      "Number of observations: 429\t Groups: {'participant': 22.0}\n",
      "\n",
      "Log-likelihood: -271.778 \t AIC: 631.557\n",
      "\n",
      "Random effects:\n",
      "\n",
      "                    Name  Var  Std\n",
      "participant  (Intercept)  0.0  0.0\n",
      "\n",
      "No random effect correlations specified\n",
      "\n",
      "Fixed effects:\n",
      "\n"
     ]
    },
    {
     "name": "stderr",
     "output_type": "stream",
     "text": []
    },
    {
     "name": "stdout",
     "output_type": "stream",
     "text": [
      "boundary (singular) fit: see ?isSingular \n",
      "\n",
      "Linear mixed model fit by maximum likelihood  ['lmerMod']\n",
      "Formula: mind_numeric~wSMI_1_mean+wSMI_1_std+wSMI_2_mean+wSMI_2_std+wSMI_4_mean+wSMI_4_std+wSMI_8_mean+wSMI_8_std+p_e_1_mean+p_e_1_std+p_e_2_mean+p_e_2_std+p_e_4_mean+p_e_4_std+p_e_8_mean+p_e_8_std+k_mean+k_std+se_mean+se_std+msf_std+sef90_std+sef95_std+b_std+b_n_std+g_std+g_n_std+t_std+t_n_std+d_mean+d_std+d_n_std+a_n_std+a_std+CNV_mean+CNV_std+P1_mean+P1_std+P3a_mean+P3a_std+P3b_mean+P3b_std+(1|participant)\n",
      "\n",
      "Family: binomial\t Inference: parametric\n",
      "\n",
      "Number of observations: 429\t Groups: {'participant': 22.0}\n",
      "\n",
      "Log-likelihood: -266.409 \t AIC: 620.818\n",
      "\n",
      "Random effects:\n",
      "\n",
      "                    Name  Var  Std\n",
      "participant  (Intercept)  0.0  0.0\n",
      "\n",
      "No random effect correlations specified\n",
      "\n",
      "Fixed effects:\n",
      "\n"
     ]
    },
    {
     "name": "stderr",
     "output_type": "stream",
     "text": []
    },
    {
     "name": "stdout",
     "output_type": "stream",
     "text": [
      "boundary (singular) fit: see ?isSingular \n",
      "\n",
      "Linear mixed model fit by maximum likelihood  ['lmerMod']\n",
      "Formula: mind_numeric~wSMI_1_mean+wSMI_1_std+wSMI_2_mean+wSMI_2_std+wSMI_4_mean+wSMI_4_std+wSMI_8_mean+wSMI_8_std+p_e_1_mean+p_e_1_std+p_e_2_mean+p_e_2_std+p_e_4_mean+p_e_4_std+p_e_8_mean+p_e_8_std+k_mean+k_std+se_mean+se_std+msf_std+sef90_std+sef95_std+b_std+b_n_std+g_std+g_n_std+t_std+t_n_std+d_mean+d_std+d_n_std+a_n_std+a_std+CNV_mean+CNV_std+P1_mean+P1_std+P3a_mean+P3a_std+P3b_mean+P3b_std+(1|participant)\n",
      "\n",
      "Family: binomial\t Inference: parametric\n",
      "\n",
      "Number of observations: 429\t Groups: {'participant': 22.0}\n",
      "\n",
      "Log-likelihood: -283.987 \t AIC: 655.975\n",
      "\n",
      "Random effects:\n",
      "\n",
      "                    Name  Var  Std\n",
      "participant  (Intercept)  0.0  0.0\n",
      "\n",
      "No random effect correlations specified\n",
      "\n",
      "Fixed effects:\n",
      "\n"
     ]
    },
    {
     "name": "stderr",
     "output_type": "stream",
     "text": []
    },
    {
     "name": "stdout",
     "output_type": "stream",
     "text": [
      "boundary (singular) fit: see ?isSingular \n",
      "\n",
      "Linear mixed model fit by maximum likelihood  ['lmerMod']\n",
      "Formula: mind_numeric~wSMI_1_mean+wSMI_1_std+wSMI_2_mean+wSMI_2_std+wSMI_4_mean+wSMI_4_std+wSMI_8_mean+wSMI_8_std+p_e_1_mean+p_e_1_std+p_e_2_mean+p_e_2_std+p_e_4_mean+p_e_4_std+p_e_8_mean+p_e_8_std+k_mean+k_std+se_mean+se_std+msf_std+sef90_std+sef95_std+b_std+b_n_std+g_std+g_n_std+t_std+t_n_std+d_mean+d_std+d_n_std+a_n_std+a_std+CNV_mean+CNV_std+P1_mean+P1_std+P3a_mean+P3a_std+P3b_mean+P3b_std+(1|participant)\n",
      "\n",
      "Family: binomial\t Inference: parametric\n",
      "\n",
      "Number of observations: 429\t Groups: {'participant': 22.0}\n",
      "\n",
      "Log-likelihood: -258.038 \t AIC: 604.077\n",
      "\n",
      "Random effects:\n",
      "\n",
      "                    Name  Var  Std\n",
      "participant  (Intercept)  0.0  0.0\n",
      "\n",
      "No random effect correlations specified\n",
      "\n",
      "Fixed effects:\n",
      "\n"
     ]
    },
    {
     "name": "stderr",
     "output_type": "stream",
     "text": []
    },
    {
     "name": "stdout",
     "output_type": "stream",
     "text": [
      "boundary (singular) fit: see ?isSingular \n",
      "\n",
      "Linear mixed model fit by maximum likelihood  ['lmerMod']\n",
      "Formula: mind_numeric~wSMI_1_mean+wSMI_1_std+wSMI_2_mean+wSMI_2_std+wSMI_4_mean+wSMI_4_std+wSMI_8_mean+wSMI_8_std+p_e_1_mean+p_e_1_std+p_e_2_mean+p_e_2_std+p_e_4_mean+p_e_4_std+p_e_8_mean+p_e_8_std+k_mean+k_std+se_mean+se_std+msf_std+sef90_std+sef95_std+b_std+b_n_std+g_std+g_n_std+t_std+t_n_std+d_mean+d_std+d_n_std+a_n_std+a_std+CNV_mean+CNV_std+P1_mean+P1_std+P3a_mean+P3a_std+P3b_mean+P3b_std+(1|participant)\n",
      "\n",
      "Family: binomial\t Inference: parametric\n",
      "\n",
      "Number of observations: 429\t Groups: {'participant': 22.0}\n",
      "\n",
      "Log-likelihood: -280.336 \t AIC: 648.672\n",
      "\n",
      "Random effects:\n",
      "\n",
      "                    Name  Var  Std\n",
      "participant  (Intercept)  0.0  0.0\n",
      "\n",
      "No random effect correlations specified\n",
      "\n",
      "Fixed effects:\n",
      "\n"
     ]
    },
    {
     "name": "stderr",
     "output_type": "stream",
     "text": []
    },
    {
     "name": "stdout",
     "output_type": "stream",
     "text": [
      "boundary (singular) fit: see ?isSingular \n",
      "\n",
      "Linear mixed model fit by maximum likelihood  ['lmerMod']\n",
      "Formula: mind_numeric~wSMI_1_mean+wSMI_1_std+wSMI_2_mean+wSMI_2_std+wSMI_4_mean+wSMI_4_std+wSMI_8_mean+wSMI_8_std+p_e_1_mean+p_e_1_std+p_e_2_mean+p_e_2_std+p_e_4_mean+p_e_4_std+p_e_8_mean+p_e_8_std+k_mean+k_std+se_mean+se_std+msf_std+sef90_std+sef95_std+b_std+b_n_std+g_std+g_n_std+t_std+t_n_std+d_mean+d_std+d_n_std+a_n_std+a_std+CNV_mean+CNV_std+P1_mean+P1_std+P3a_mean+P3a_std+P3b_mean+P3b_std+(1|participant)\n",
      "\n",
      "Family: binomial\t Inference: parametric\n",
      "\n",
      "Number of observations: 429\t Groups: {'participant': 22.0}\n",
      "\n",
      "Log-likelihood: -263.545 \t AIC: 615.090\n",
      "\n",
      "Random effects:\n",
      "\n",
      "                    Name  Var  Std\n",
      "participant  (Intercept)  0.0  0.0\n",
      "\n",
      "No random effect correlations specified\n",
      "\n",
      "Fixed effects:\n",
      "\n"
     ]
    },
    {
     "name": "stderr",
     "output_type": "stream",
     "text": []
    },
    {
     "name": "stdout",
     "output_type": "stream",
     "text": [
      "boundary (singular) fit: see ?isSingular \n",
      "\n",
      "Linear mixed model fit by maximum likelihood  ['lmerMod']\n",
      "Formula: mind_numeric~wSMI_1_mean+wSMI_1_std+wSMI_2_mean+wSMI_2_std+wSMI_4_mean+wSMI_4_std+wSMI_8_mean+wSMI_8_std+p_e_1_mean+p_e_1_std+p_e_2_mean+p_e_2_std+p_e_4_mean+p_e_4_std+p_e_8_mean+p_e_8_std+k_mean+k_std+se_mean+se_std+msf_std+sef90_std+sef95_std+b_std+b_n_std+g_std+g_n_std+t_std+t_n_std+d_mean+d_std+d_n_std+a_n_std+a_std+CNV_mean+CNV_std+P1_mean+P1_std+P3a_mean+P3a_std+P3b_mean+P3b_std+(1|participant)\n",
      "\n",
      "Family: binomial\t Inference: parametric\n",
      "\n",
      "Number of observations: 429\t Groups: {'participant': 22.0}\n",
      "\n",
      "Log-likelihood: -279.099 \t AIC: 646.198\n",
      "\n",
      "Random effects:\n",
      "\n",
      "                    Name  Var  Std\n",
      "participant  (Intercept)  0.0  0.0\n",
      "\n",
      "No random effect correlations specified\n",
      "\n",
      "Fixed effects:\n",
      "\n"
     ]
    },
    {
     "name": "stderr",
     "output_type": "stream",
     "text": []
    },
    {
     "name": "stdout",
     "output_type": "stream",
     "text": [
      "boundary (singular) fit: see ?isSingular \n",
      "\n",
      "Linear mixed model fit by maximum likelihood  ['lmerMod']\n",
      "Formula: mind_numeric~wSMI_1_mean+wSMI_1_std+wSMI_2_mean+wSMI_2_std+wSMI_4_mean+wSMI_4_std+wSMI_8_mean+wSMI_8_std+p_e_1_mean+p_e_1_std+p_e_2_mean+p_e_2_std+p_e_4_mean+p_e_4_std+p_e_8_mean+p_e_8_std+k_mean+k_std+se_mean+se_std+msf_std+sef90_std+sef95_std+b_std+b_n_std+g_std+g_n_std+t_std+t_n_std+d_mean+d_std+d_n_std+a_n_std+a_std+CNV_mean+CNV_std+P1_mean+P1_std+P3a_mean+P3a_std+P3b_mean+P3b_std+(1|participant)\n",
      "\n",
      "Family: binomial\t Inference: parametric\n",
      "\n",
      "Number of observations: 429\t Groups: {'participant': 22.0}\n",
      "\n",
      "Log-likelihood: -276.435 \t AIC: 640.869\n",
      "\n",
      "Random effects:\n",
      "\n",
      "                    Name  Var  Std\n",
      "participant  (Intercept)  0.0  0.0\n",
      "\n",
      "No random effect correlations specified\n",
      "\n",
      "Fixed effects:\n",
      "\n"
     ]
    },
    {
     "name": "stderr",
     "output_type": "stream",
     "text": []
    },
    {
     "name": "stdout",
     "output_type": "stream",
     "text": [
      "boundary (singular) fit: see ?isSingular \n",
      "\n",
      "Linear mixed model fit by maximum likelihood  ['lmerMod']\n",
      "Formula: mind_numeric~wSMI_1_mean+wSMI_1_std+wSMI_2_mean+wSMI_2_std+wSMI_4_mean+wSMI_4_std+wSMI_8_mean+wSMI_8_std+p_e_1_mean+p_e_1_std+p_e_2_mean+p_e_2_std+p_e_4_mean+p_e_4_std+p_e_8_mean+p_e_8_std+k_mean+k_std+se_mean+se_std+msf_std+sef90_std+sef95_std+b_std+b_n_std+g_std+g_n_std+t_std+t_n_std+d_mean+d_std+d_n_std+a_n_std+a_std+CNV_mean+CNV_std+P1_mean+P1_std+P3a_mean+P3a_std+P3b_mean+P3b_std+(1|participant)\n",
      "\n",
      "Family: binomial\t Inference: parametric\n",
      "\n",
      "Number of observations: 429\t Groups: {'participant': 22.0}\n",
      "\n",
      "Log-likelihood: -275.538 \t AIC: 639.076\n",
      "\n",
      "Random effects:\n",
      "\n",
      "                    Name  Var  Std\n",
      "participant  (Intercept)  0.0  0.0\n",
      "\n",
      "No random effect correlations specified\n",
      "\n",
      "Fixed effects:\n",
      "\n"
     ]
    },
    {
     "name": "stderr",
     "output_type": "stream",
     "text": []
    },
    {
     "name": "stdout",
     "output_type": "stream",
     "text": [
      "boundary (singular) fit: see ?isSingular \n",
      "\n",
      "Linear mixed model fit by maximum likelihood  ['lmerMod']\n",
      "Formula: mind_numeric~wSMI_1_mean+wSMI_1_std+wSMI_2_mean+wSMI_2_std+wSMI_4_mean+wSMI_4_std+wSMI_8_mean+wSMI_8_std+p_e_1_mean+p_e_1_std+p_e_2_mean+p_e_2_std+p_e_4_mean+p_e_4_std+p_e_8_mean+p_e_8_std+k_mean+k_std+se_mean+se_std+msf_std+sef90_std+sef95_std+b_std+b_n_std+g_std+g_n_std+t_std+t_n_std+d_mean+d_std+d_n_std+a_n_std+a_std+CNV_mean+CNV_std+P1_mean+P1_std+P3a_mean+P3a_std+P3b_mean+P3b_std+(1|participant)\n",
      "\n",
      "Family: binomial\t Inference: parametric\n",
      "\n",
      "Number of observations: 429\t Groups: {'participant': 22.0}\n",
      "\n",
      "Log-likelihood: -279.520 \t AIC: 647.041\n",
      "\n",
      "Random effects:\n",
      "\n",
      "                    Name  Var  Std\n",
      "participant  (Intercept)  0.0  0.0\n",
      "\n",
      "No random effect correlations specified\n",
      "\n",
      "Fixed effects:\n",
      "\n"
     ]
    },
    {
     "name": "stderr",
     "output_type": "stream",
     "text": []
    },
    {
     "name": "stdout",
     "output_type": "stream",
     "text": [
      "boundary (singular) fit: see ?isSingular \n",
      "\n",
      "Linear mixed model fit by maximum likelihood  ['lmerMod']\n",
      "Formula: mind_numeric~wSMI_1_mean+wSMI_1_std+wSMI_2_mean+wSMI_2_std+wSMI_4_mean+wSMI_4_std+wSMI_8_mean+wSMI_8_std+p_e_1_mean+p_e_1_std+p_e_2_mean+p_e_2_std+p_e_4_mean+p_e_4_std+p_e_8_mean+p_e_8_std+k_mean+k_std+se_mean+se_std+msf_std+sef90_std+sef95_std+b_std+b_n_std+g_std+g_n_std+t_std+t_n_std+d_mean+d_std+d_n_std+a_n_std+a_std+CNV_mean+CNV_std+P1_mean+P1_std+P3a_mean+P3a_std+P3b_mean+P3b_std+(1|participant)\n",
      "\n",
      "Family: binomial\t Inference: parametric\n",
      "\n",
      "Number of observations: 429\t Groups: {'participant': 22.0}\n",
      "\n",
      "Log-likelihood: -285.500 \t AIC: 659.000\n",
      "\n",
      "Random effects:\n",
      "\n",
      "                    Name  Var  Std\n",
      "participant  (Intercept)  0.0  0.0\n",
      "\n",
      "No random effect correlations specified\n",
      "\n",
      "Fixed effects:\n",
      "\n"
     ]
    },
    {
     "name": "stderr",
     "output_type": "stream",
     "text": [
      "\n"
     ]
    },
    {
     "name": "stdout",
     "output_type": "stream",
     "text": [
      "boundary (singular) fit: see ?isSingular \n",
      "\n",
      "Linear mixed model fit by maximum likelihood  ['lmerMod']\n",
      "Formula: mind_numeric~wSMI_1_mean+wSMI_1_std+wSMI_2_mean+wSMI_2_std+wSMI_4_mean+wSMI_4_std+wSMI_8_mean+wSMI_8_std+p_e_1_mean+p_e_1_std+p_e_2_mean+p_e_2_std+p_e_4_mean+p_e_4_std+p_e_8_mean+p_e_8_std+k_mean+k_std+se_mean+se_std+msf_std+sef90_std+sef95_std+b_std+b_n_std+g_std+g_n_std+t_std+t_n_std+d_mean+d_std+d_n_std+a_n_std+a_std+CNV_mean+CNV_std+P1_mean+P1_std+P3a_mean+P3a_std+P3b_mean+P3b_std+(1|participant)\n",
      "\n",
      "Family: binomial\t Inference: parametric\n",
      "\n",
      "Number of observations: 429\t Groups: {'participant': 22.0}\n",
      "\n",
      "Log-likelihood: -269.256 \t AIC: 626.513\n",
      "\n",
      "Random effects:\n",
      "\n",
      "                    Name  Var  Std\n",
      "participant  (Intercept)  0.0  0.0\n",
      "\n",
      "No random effect correlations specified\n",
      "\n",
      "Fixed effects:\n",
      "\n"
     ]
    },
    {
     "name": "stderr",
     "output_type": "stream",
     "text": [
      "Permutation Test:  91%|█████████ | 91/100 [17:32<01:12,  8.04s/it]\u001b[A"
     ]
    },
    {
     "name": "stdout",
     "output_type": "stream",
     "text": [
      "boundary (singular) fit: see ?isSingular \n",
      "\n",
      "Linear mixed model fit by maximum likelihood  ['lmerMod']\n",
      "Formula: mind_numeric~wSMI_1_mean+wSMI_1_std+wSMI_2_mean+wSMI_2_std+wSMI_4_mean+wSMI_4_std+wSMI_8_mean+wSMI_8_std+p_e_1_mean+p_e_1_std+p_e_2_mean+p_e_2_std+p_e_4_mean+p_e_4_std+p_e_8_mean+p_e_8_std+k_mean+k_std+se_mean+se_std+msf_std+sef90_std+sef95_std+b_std+b_n_std+g_std+g_n_std+t_std+t_n_std+d_mean+d_std+d_n_std+a_n_std+a_std+CNV_mean+CNV_std+P1_mean+P1_std+P3a_mean+P3a_std+P3b_mean+P3b_std+(1|participant)\n",
      "\n",
      "Family: binomial\t Inference: parametric\n",
      "\n",
      "Number of observations: 429\t Groups: {'participant': 22.0}\n",
      "\n",
      "Log-likelihood: -266.378 \t AIC: 620.756\n",
      "\n",
      "Random effects:\n",
      "\n",
      "                    Name  Var  Std\n",
      "participant  (Intercept)  0.0  0.0\n",
      "\n",
      "No random effect correlations specified\n",
      "\n",
      "Fixed effects:\n",
      "\n"
     ]
    },
    {
     "name": "stderr",
     "output_type": "stream",
     "text": []
    },
    {
     "name": "stdout",
     "output_type": "stream",
     "text": [
      "boundary (singular) fit: see ?isSingular \n",
      "\n",
      "Linear mixed model fit by maximum likelihood  ['lmerMod']\n",
      "Formula: mind_numeric~wSMI_1_mean+wSMI_1_std+wSMI_2_mean+wSMI_2_std+wSMI_4_mean+wSMI_4_std+wSMI_8_mean+wSMI_8_std+p_e_1_mean+p_e_1_std+p_e_2_mean+p_e_2_std+p_e_4_mean+p_e_4_std+p_e_8_mean+p_e_8_std+k_mean+k_std+se_mean+se_std+msf_std+sef90_std+sef95_std+b_std+b_n_std+g_std+g_n_std+t_std+t_n_std+d_mean+d_std+d_n_std+a_n_std+a_std+CNV_mean+CNV_std+P1_mean+P1_std+P3a_mean+P3a_std+P3b_mean+P3b_std+(1|participant)\n",
      "\n",
      "Family: binomial\t Inference: parametric\n",
      "\n",
      "Number of observations: 429\t Groups: {'participant': 22.0}\n",
      "\n",
      "Log-likelihood: -278.527 \t AIC: 645.055\n",
      "\n",
      "Random effects:\n",
      "\n",
      "                    Name  Var  Std\n",
      "participant  (Intercept)  0.0  0.0\n",
      "\n",
      "No random effect correlations specified\n",
      "\n",
      "Fixed effects:\n",
      "\n"
     ]
    },
    {
     "name": "stderr",
     "output_type": "stream",
     "text": []
    },
    {
     "name": "stdout",
     "output_type": "stream",
     "text": [
      "boundary (singular) fit: see ?isSingular \n",
      "\n",
      "Linear mixed model fit by maximum likelihood  ['lmerMod']\n",
      "Formula: mind_numeric~wSMI_1_mean+wSMI_1_std+wSMI_2_mean+wSMI_2_std+wSMI_4_mean+wSMI_4_std+wSMI_8_mean+wSMI_8_std+p_e_1_mean+p_e_1_std+p_e_2_mean+p_e_2_std+p_e_4_mean+p_e_4_std+p_e_8_mean+p_e_8_std+k_mean+k_std+se_mean+se_std+msf_std+sef90_std+sef95_std+b_std+b_n_std+g_std+g_n_std+t_std+t_n_std+d_mean+d_std+d_n_std+a_n_std+a_std+CNV_mean+CNV_std+P1_mean+P1_std+P3a_mean+P3a_std+P3b_mean+P3b_std+(1|participant)\n",
      "\n",
      "Family: binomial\t Inference: parametric\n",
      "\n",
      "Number of observations: 429\t Groups: {'participant': 22.0}\n",
      "\n",
      "Log-likelihood: -272.214 \t AIC: 632.428\n",
      "\n",
      "Random effects:\n",
      "\n",
      "                    Name  Var  Std\n",
      "participant  (Intercept)  0.0  0.0\n",
      "\n",
      "No random effect correlations specified\n",
      "\n",
      "Fixed effects:\n",
      "\n"
     ]
    },
    {
     "name": "stderr",
     "output_type": "stream",
     "text": []
    },
    {
     "name": "stdout",
     "output_type": "stream",
     "text": [
      "boundary (singular) fit: see ?isSingular \n",
      "\n",
      "Linear mixed model fit by maximum likelihood  ['lmerMod']\n",
      "Formula: mind_numeric~wSMI_1_mean+wSMI_1_std+wSMI_2_mean+wSMI_2_std+wSMI_4_mean+wSMI_4_std+wSMI_8_mean+wSMI_8_std+p_e_1_mean+p_e_1_std+p_e_2_mean+p_e_2_std+p_e_4_mean+p_e_4_std+p_e_8_mean+p_e_8_std+k_mean+k_std+se_mean+se_std+msf_std+sef90_std+sef95_std+b_std+b_n_std+g_std+g_n_std+t_std+t_n_std+d_mean+d_std+d_n_std+a_n_std+a_std+CNV_mean+CNV_std+P1_mean+P1_std+P3a_mean+P3a_std+P3b_mean+P3b_std+(1|participant)\n",
      "\n",
      "Family: binomial\t Inference: parametric\n",
      "\n",
      "Number of observations: 429\t Groups: {'participant': 22.0}\n",
      "\n",
      "Log-likelihood: -269.661 \t AIC: 627.321\n",
      "\n",
      "Random effects:\n",
      "\n",
      "                    Name  Var  Std\n",
      "participant  (Intercept)  0.0  0.0\n",
      "\n",
      "No random effect correlations specified\n",
      "\n",
      "Fixed effects:\n",
      "\n"
     ]
    },
    {
     "name": "stderr",
     "output_type": "stream",
     "text": []
    },
    {
     "name": "stdout",
     "output_type": "stream",
     "text": [
      "boundary (singular) fit: see ?isSingular \n",
      "\n",
      "Linear mixed model fit by maximum likelihood  ['lmerMod']\n",
      "Formula: mind_numeric~wSMI_1_mean+wSMI_1_std+wSMI_2_mean+wSMI_2_std+wSMI_4_mean+wSMI_4_std+wSMI_8_mean+wSMI_8_std+p_e_1_mean+p_e_1_std+p_e_2_mean+p_e_2_std+p_e_4_mean+p_e_4_std+p_e_8_mean+p_e_8_std+k_mean+k_std+se_mean+se_std+msf_std+sef90_std+sef95_std+b_std+b_n_std+g_std+g_n_std+t_std+t_n_std+d_mean+d_std+d_n_std+a_n_std+a_std+CNV_mean+CNV_std+P1_mean+P1_std+P3a_mean+P3a_std+P3b_mean+P3b_std+(1|participant)\n",
      "\n",
      "Family: binomial\t Inference: parametric\n",
      "\n",
      "Number of observations: 429\t Groups: {'participant': 22.0}\n",
      "\n",
      "Log-likelihood: -268.796 \t AIC: 625.592\n",
      "\n",
      "Random effects:\n",
      "\n",
      "                    Name  Var  Std\n",
      "participant  (Intercept)  0.0  0.0\n",
      "\n",
      "No random effect correlations specified\n",
      "\n",
      "Fixed effects:\n",
      "\n"
     ]
    },
    {
     "name": "stderr",
     "output_type": "stream",
     "text": []
    },
    {
     "name": "stdout",
     "output_type": "stream",
     "text": [
      "boundary (singular) fit: see ?isSingular \n",
      "\n",
      "Linear mixed model fit by maximum likelihood  ['lmerMod']\n",
      "Formula: mind_numeric~wSMI_1_mean+wSMI_1_std+wSMI_2_mean+wSMI_2_std+wSMI_4_mean+wSMI_4_std+wSMI_8_mean+wSMI_8_std+p_e_1_mean+p_e_1_std+p_e_2_mean+p_e_2_std+p_e_4_mean+p_e_4_std+p_e_8_mean+p_e_8_std+k_mean+k_std+se_mean+se_std+msf_std+sef90_std+sef95_std+b_std+b_n_std+g_std+g_n_std+t_std+t_n_std+d_mean+d_std+d_n_std+a_n_std+a_std+CNV_mean+CNV_std+P1_mean+P1_std+P3a_mean+P3a_std+P3b_mean+P3b_std+(1|participant)\n",
      "\n",
      "Family: binomial\t Inference: parametric\n",
      "\n",
      "Number of observations: 429\t Groups: {'participant': 22.0}\n",
      "\n",
      "Log-likelihood: -277.060 \t AIC: 642.120\n",
      "\n",
      "Random effects:\n",
      "\n",
      "                    Name  Var  Std\n",
      "participant  (Intercept)  0.0  0.0\n",
      "\n",
      "No random effect correlations specified\n",
      "\n",
      "Fixed effects:\n",
      "\n"
     ]
    },
    {
     "name": "stderr",
     "output_type": "stream",
     "text": []
    },
    {
     "name": "stdout",
     "output_type": "stream",
     "text": [
      "boundary (singular) fit: see ?isSingular \n",
      "\n",
      "Linear mixed model fit by maximum likelihood  ['lmerMod']\n",
      "Formula: mind_numeric~wSMI_1_mean+wSMI_1_std+wSMI_2_mean+wSMI_2_std+wSMI_4_mean+wSMI_4_std+wSMI_8_mean+wSMI_8_std+p_e_1_mean+p_e_1_std+p_e_2_mean+p_e_2_std+p_e_4_mean+p_e_4_std+p_e_8_mean+p_e_8_std+k_mean+k_std+se_mean+se_std+msf_std+sef90_std+sef95_std+b_std+b_n_std+g_std+g_n_std+t_std+t_n_std+d_mean+d_std+d_n_std+a_n_std+a_std+CNV_mean+CNV_std+P1_mean+P1_std+P3a_mean+P3a_std+P3b_mean+P3b_std+(1|participant)\n",
      "\n",
      "Family: binomial\t Inference: parametric\n",
      "\n",
      "Number of observations: 429\t Groups: {'participant': 22.0}\n",
      "\n",
      "Log-likelihood: -268.846 \t AIC: 625.691\n",
      "\n",
      "Random effects:\n",
      "\n",
      "                    Name  Var  Std\n",
      "participant  (Intercept)  0.0  0.0\n",
      "\n",
      "No random effect correlations specified\n",
      "\n",
      "Fixed effects:\n",
      "\n"
     ]
    },
    {
     "name": "stderr",
     "output_type": "stream",
     "text": []
    },
    {
     "name": "stdout",
     "output_type": "stream",
     "text": [
      "boundary (singular) fit: see ?isSingular \n",
      "\n",
      "Linear mixed model fit by maximum likelihood  ['lmerMod']\n",
      "Formula: mind_numeric~wSMI_1_mean+wSMI_1_std+wSMI_2_mean+wSMI_2_std+wSMI_4_mean+wSMI_4_std+wSMI_8_mean+wSMI_8_std+p_e_1_mean+p_e_1_std+p_e_2_mean+p_e_2_std+p_e_4_mean+p_e_4_std+p_e_8_mean+p_e_8_std+k_mean+k_std+se_mean+se_std+msf_std+sef90_std+sef95_std+b_std+b_n_std+g_std+g_n_std+t_std+t_n_std+d_mean+d_std+d_n_std+a_n_std+a_std+CNV_mean+CNV_std+P1_mean+P1_std+P3a_mean+P3a_std+P3b_mean+P3b_std+(1|participant)\n",
      "\n",
      "Family: binomial\t Inference: parametric\n",
      "\n",
      "Number of observations: 429\t Groups: {'participant': 22.0}\n",
      "\n",
      "Log-likelihood: -267.339 \t AIC: 622.677\n",
      "\n",
      "Random effects:\n",
      "\n",
      "                    Name  Var  Std\n",
      "participant  (Intercept)  0.0  0.0\n",
      "\n",
      "No random effect correlations specified\n",
      "\n",
      "Fixed effects:\n",
      "\n"
     ]
    },
    {
     "name": "stderr",
     "output_type": "stream",
     "text": [
      "Permutation Test: 100%|██████████| 100/100 [18:46<00:00, 11.26s/it]\n",
      "KFold Iteration: 4it [1:29:34, 1310.89s/it]"
     ]
    },
    {
     "name": "stdout",
     "output_type": "stream",
     "text": [
      "boundary (singular) fit: see ?isSingular \n",
      "\n",
      "Linear mixed model fit by maximum likelihood  ['lmerMod']\n",
      "Formula: mind_numeric~wSMI_1_mean+wSMI_1_std+wSMI_2_mean+wSMI_2_std+wSMI_4_mean+wSMI_4_std+wSMI_8_mean+wSMI_8_std+p_e_1_mean+p_e_1_std+p_e_2_mean+p_e_2_std+p_e_4_mean+p_e_4_std+p_e_8_mean+p_e_8_std+k_mean+k_std+se_mean+se_std+msf_std+sef90_std+sef95_std+b_std+b_n_std+g_std+g_n_std+t_std+t_n_std+d_mean+d_std+d_n_std+a_n_std+a_std+CNV_mean+CNV_std+P1_mean+P1_std+P3a_mean+P3a_std+P3b_mean+P3b_std+(1|participant)\n",
      "\n",
      "Family: binomial\t Inference: parametric\n",
      "\n",
      "Number of observations: 429\t Groups: {'participant': 22.0}\n",
      "\n",
      "Log-likelihood: -270.809 \t AIC: 629.618\n",
      "\n",
      "Random effects:\n",
      "\n",
      "                    Name  Var  Std\n",
      "participant  (Intercept)  0.0  0.0\n",
      "\n",
      "No random effect correlations specified\n",
      "\n",
      "Fixed effects:\n",
      "\n",
      "[1] \"failure to converge in 10000 evaluations\"\n",
      "[2] \" \\n\"                                     \n",
      "\n",
      "unable to evaluate scaled gradient \n",
      "\n",
      "Model failed to converge: degenerate  Hessian with 5 negative eigenvalues \n",
      "\n",
      "Linear mixed model fit by maximum likelihood  ['lmerMod']\n",
      "Formula: mind_numeric~wSMI_1_mean+wSMI_1_std+wSMI_2_mean+wSMI_2_std+wSMI_4_mean+wSMI_4_std+wSMI_8_mean+wSMI_8_std+p_e_1_mean+p_e_1_std+p_e_2_mean+p_e_2_std+p_e_4_mean+p_e_4_std+p_e_8_mean+p_e_8_std+k_mean+k_std+se_mean+se_std+msf_std+sef90_std+sef95_std+b_std+b_n_std+g_std+g_n_std+t_std+t_n_std+d_mean+d_std+d_n_std+a_n_std+a_std+CNV_mean+CNV_std+P1_mean+P1_std+P3a_mean+P3a_std+P3b_mean+P3b_std+(1|participant)\n",
      "\n",
      "Family: binomial\t Inference: parametric\n",
      "\n",
      "Number of observations: 429\t Groups: {'participant': 22.0}\n",
      "\n",
      "Log-likelihood: -254.894 \t AIC: 597.788\n",
      "\n",
      "Random effects:\n",
      "\n",
      "                    Name    Var    Std\n",
      "participant  (Intercept)  0.767  0.876\n",
      "\n",
      "No random effect correlations specified\n",
      "\n",
      "Fixed effects:\n",
      "\n"
     ]
    },
    {
     "name": "stderr",
     "output_type": "stream",
     "text": []
    },
    {
     "name": "stdout",
     "output_type": "stream",
     "text": [
      "[1] \"failure to converge in 10000 evaluations\"\n",
      "[2] \" \\n\"                                     \n",
      "\n",
      "unable to evaluate scaled gradient \n",
      "\n",
      "Model failed to converge: degenerate  Hessian with 4 negative eigenvalues \n",
      "\n",
      "Linear mixed model fit by maximum likelihood  ['lmerMod']\n",
      "Formula: mind_numeric~wSMI_1_mean+wSMI_1_std+wSMI_2_mean+wSMI_2_std+wSMI_4_mean+wSMI_4_std+wSMI_8_mean+wSMI_8_std+p_e_1_mean+p_e_1_std+p_e_2_mean+p_e_2_std+p_e_4_mean+p_e_4_std+p_e_8_mean+p_e_8_std+k_mean+k_std+se_mean+se_std+msf_std+sef90_std+sef95_std+b_std+b_n_std+g_std+g_n_std+t_std+t_n_std+d_mean+d_std+d_n_std+a_n_std+a_std+CNV_mean+CNV_std+P1_mean+P1_std+P3a_mean+P3a_std+P3b_mean+P3b_std+(1|participant)\n",
      "\n",
      "Family: binomial\t Inference: parametric\n",
      "\n",
      "Number of observations: 429\t Groups: {'participant': 22.0}\n",
      "\n",
      "Log-likelihood: -265.126 \t AIC: 618.253\n",
      "\n",
      "Random effects:\n",
      "\n",
      "                    Name    Var    Std\n",
      "participant  (Intercept)  0.264  0.513\n",
      "\n",
      "No random effect correlations specified\n",
      "\n",
      "Fixed effects:\n",
      "\n"
     ]
    },
    {
     "name": "stderr",
     "output_type": "stream",
     "text": []
    },
    {
     "name": "stdout",
     "output_type": "stream",
     "text": [
      "boundary (singular) fit: see ?isSingular \n",
      "\n",
      "Linear mixed model fit by maximum likelihood  ['lmerMod']\n",
      "Formula: mind_numeric~wSMI_1_mean+wSMI_1_std+wSMI_2_mean+wSMI_2_std+wSMI_4_mean+wSMI_4_std+wSMI_8_mean+wSMI_8_std+p_e_1_mean+p_e_1_std+p_e_2_mean+p_e_2_std+p_e_4_mean+p_e_4_std+p_e_8_mean+p_e_8_std+k_mean+k_std+se_mean+se_std+msf_std+sef90_std+sef95_std+b_std+b_n_std+g_std+g_n_std+t_std+t_n_std+d_mean+d_std+d_n_std+a_n_std+a_std+CNV_mean+CNV_std+P1_mean+P1_std+P3a_mean+P3a_std+P3b_mean+P3b_std+(1|participant)\n",
      "\n",
      "Family: binomial\t Inference: parametric\n",
      "\n",
      "Number of observations: 429\t Groups: {'participant': 22.0}\n",
      "\n",
      "Log-likelihood: -274.962 \t AIC: 637.924\n",
      "\n",
      "Random effects:\n",
      "\n",
      "                    Name  Var  Std\n",
      "participant  (Intercept)  0.0  0.0\n",
      "\n",
      "No random effect correlations specified\n",
      "\n",
      "Fixed effects:\n",
      "\n"
     ]
    },
    {
     "name": "stderr",
     "output_type": "stream",
     "text": []
    },
    {
     "name": "stdout",
     "output_type": "stream",
     "text": [
      "boundary (singular) fit: see ?isSingular \n",
      "\n",
      "Linear mixed model fit by maximum likelihood  ['lmerMod']\n",
      "Formula: mind_numeric~wSMI_1_mean+wSMI_1_std+wSMI_2_mean+wSMI_2_std+wSMI_4_mean+wSMI_4_std+wSMI_8_mean+wSMI_8_std+p_e_1_mean+p_e_1_std+p_e_2_mean+p_e_2_std+p_e_4_mean+p_e_4_std+p_e_8_mean+p_e_8_std+k_mean+k_std+se_mean+se_std+msf_std+sef90_std+sef95_std+b_std+b_n_std+g_std+g_n_std+t_std+t_n_std+d_mean+d_std+d_n_std+a_n_std+a_std+CNV_mean+CNV_std+P1_mean+P1_std+P3a_mean+P3a_std+P3b_mean+P3b_std+(1|participant)\n",
      "\n",
      "Family: binomial\t Inference: parametric\n",
      "\n",
      "Number of observations: 429\t Groups: {'participant': 22.0}\n",
      "\n",
      "Log-likelihood: -265.243 \t AIC: 618.485\n",
      "\n",
      "Random effects:\n",
      "\n",
      "                    Name  Var  Std\n",
      "participant  (Intercept)  0.0  0.0\n",
      "\n",
      "No random effect correlations specified\n",
      "\n",
      "Fixed effects:\n",
      "\n"
     ]
    },
    {
     "name": "stderr",
     "output_type": "stream",
     "text": []
    },
    {
     "name": "stdout",
     "output_type": "stream",
     "text": [
      "boundary (singular) fit: see ?isSingular \n",
      "\n",
      "Linear mixed model fit by maximum likelihood  ['lmerMod']\n",
      "Formula: mind_numeric~wSMI_1_mean+wSMI_1_std+wSMI_2_mean+wSMI_2_std+wSMI_4_mean+wSMI_4_std+wSMI_8_mean+wSMI_8_std+p_e_1_mean+p_e_1_std+p_e_2_mean+p_e_2_std+p_e_4_mean+p_e_4_std+p_e_8_mean+p_e_8_std+k_mean+k_std+se_mean+se_std+msf_std+sef90_std+sef95_std+b_std+b_n_std+g_std+g_n_std+t_std+t_n_std+d_mean+d_std+d_n_std+a_n_std+a_std+CNV_mean+CNV_std+P1_mean+P1_std+P3a_mean+P3a_std+P3b_mean+P3b_std+(1|participant)\n",
      "\n",
      "Family: binomial\t Inference: parametric\n",
      "\n",
      "Number of observations: 429\t Groups: {'participant': 22.0}\n",
      "\n",
      "Log-likelihood: -271.558 \t AIC: 631.115\n",
      "\n",
      "Random effects:\n",
      "\n",
      "                    Name  Var  Std\n",
      "participant  (Intercept)  0.0  0.0\n",
      "\n",
      "No random effect correlations specified\n",
      "\n",
      "Fixed effects:\n",
      "\n",
      "boundary (singular) fit: see ?isSingular \n",
      "\n",
      "Linear mixed model fit by maximum likelihood  ['lmerMod']\n",
      "Formula: mind_numeric~wSMI_1_mean+wSMI_1_std+wSMI_2_mean+wSMI_2_std+wSMI_4_mean+wSMI_4_std+wSMI_8_mean+wSMI_8_std+p_e_1_mean+p_e_1_std+p_e_2_mean+p_e_2_std+p_e_4_mean+p_e_4_std+p_e_8_mean+p_e_8_std+k_mean+k_std+se_mean+se_std+msf_std+sef90_std+sef95_std+b_std+b_n_std+g_std+g_n_std+t_std+t_n_std+d_mean+d_std+d_n_std+a_n_std+a_std+CNV_mean+CNV_std+P1_mean+P1_std+P3a_mean+P3a_std+P3b_mean+P3b_std+(1|participant)\n",
      "\n",
      "Family: binomial\t Inference: parametric\n",
      "\n",
      "Number of observations: 429\t Groups: {'participant': 22.0}\n",
      "\n",
      "Log-likelihood: -262.387 \t AIC: 612.774\n",
      "\n",
      "Random effects:\n",
      "\n",
      "                    Name  Var  Std\n",
      "participant  (Intercept)  0.0  0.0\n",
      "\n",
      "No random effect correlations specified\n",
      "\n",
      "Fixed effects:\n",
      "\n"
     ]
    },
    {
     "name": "stderr",
     "output_type": "stream",
     "text": []
    },
    {
     "name": "stdout",
     "output_type": "stream",
     "text": [
      "boundary (singular) fit: see ?isSingular \n",
      "\n",
      "Linear mixed model fit by maximum likelihood  ['lmerMod']\n",
      "Formula: mind_numeric~wSMI_1_mean+wSMI_1_std+wSMI_2_mean+wSMI_2_std+wSMI_4_mean+wSMI_4_std+wSMI_8_mean+wSMI_8_std+p_e_1_mean+p_e_1_std+p_e_2_mean+p_e_2_std+p_e_4_mean+p_e_4_std+p_e_8_mean+p_e_8_std+k_mean+k_std+se_mean+se_std+msf_std+sef90_std+sef95_std+b_std+b_n_std+g_std+g_n_std+t_std+t_n_std+d_mean+d_std+d_n_std+a_n_std+a_std+CNV_mean+CNV_std+P1_mean+P1_std+P3a_mean+P3a_std+P3b_mean+P3b_std+(1|participant)\n",
      "\n",
      "Family: binomial\t Inference: parametric\n",
      "\n",
      "Number of observations: 429\t Groups: {'participant': 22.0}\n",
      "\n",
      "Log-likelihood: -284.241 \t AIC: 656.483\n",
      "\n",
      "Random effects:\n",
      "\n",
      "                    Name  Var  Std\n",
      "participant  (Intercept)  0.0  0.0\n",
      "\n",
      "No random effect correlations specified\n",
      "\n",
      "Fixed effects:\n",
      "\n"
     ]
    },
    {
     "name": "stderr",
     "output_type": "stream",
     "text": []
    },
    {
     "name": "stdout",
     "output_type": "stream",
     "text": [
      "[1] \"failure to converge in 10000 evaluations\"\n",
      "[2] \" \\n\"                                     \n",
      "\n",
      "unable to evaluate scaled gradient \n",
      "\n",
      "Model failed to converge: degenerate  Hessian with 1 negative eigenvalues \n",
      "\n",
      "Linear mixed model fit by maximum likelihood  ['lmerMod']\n",
      "Formula: mind_numeric~wSMI_1_mean+wSMI_1_std+wSMI_2_mean+wSMI_2_std+wSMI_4_mean+wSMI_4_std+wSMI_8_mean+wSMI_8_std+p_e_1_mean+p_e_1_std+p_e_2_mean+p_e_2_std+p_e_4_mean+p_e_4_std+p_e_8_mean+p_e_8_std+k_mean+k_std+se_mean+se_std+msf_std+sef90_std+sef95_std+b_std+b_n_std+g_std+g_n_std+t_std+t_n_std+d_mean+d_std+d_n_std+a_n_std+a_std+CNV_mean+CNV_std+P1_mean+P1_std+P3a_mean+P3a_std+P3b_mean+P3b_std+(1|participant)\n",
      "\n",
      "Family: binomial\t Inference: parametric\n",
      "\n",
      "Number of observations: 429\t Groups: {'participant': 22.0}\n",
      "\n",
      "Log-likelihood: -280.160 \t AIC: 648.321\n",
      "\n",
      "Random effects:\n",
      "\n",
      "                    Name   Var  Std\n",
      "participant  (Intercept)  0.09  0.3\n",
      "\n",
      "No random effect correlations specified\n",
      "\n",
      "Fixed effects:\n",
      "\n"
     ]
    },
    {
     "name": "stderr",
     "output_type": "stream",
     "text": []
    },
    {
     "name": "stdout",
     "output_type": "stream",
     "text": [
      "boundary (singular) fit: see ?isSingular \n",
      "\n",
      "Linear mixed model fit by maximum likelihood  ['lmerMod']\n",
      "Formula: mind_numeric~wSMI_1_mean+wSMI_1_std+wSMI_2_mean+wSMI_2_std+wSMI_4_mean+wSMI_4_std+wSMI_8_mean+wSMI_8_std+p_e_1_mean+p_e_1_std+p_e_2_mean+p_e_2_std+p_e_4_mean+p_e_4_std+p_e_8_mean+p_e_8_std+k_mean+k_std+se_mean+se_std+msf_std+sef90_std+sef95_std+b_std+b_n_std+g_std+g_n_std+t_std+t_n_std+d_mean+d_std+d_n_std+a_n_std+a_std+CNV_mean+CNV_std+P1_mean+P1_std+P3a_mean+P3a_std+P3b_mean+P3b_std+(1|participant)\n",
      "\n",
      "Family: binomial\t Inference: parametric\n",
      "\n",
      "Number of observations: 429\t Groups: {'participant': 22.0}\n",
      "\n",
      "Log-likelihood: -270.855 \t AIC: 629.710\n",
      "\n",
      "Random effects:\n",
      "\n",
      "                    Name  Var  Std\n",
      "participant  (Intercept)  0.0  0.0\n",
      "\n",
      "No random effect correlations specified\n",
      "\n",
      "Fixed effects:\n",
      "\n"
     ]
    },
    {
     "name": "stderr",
     "output_type": "stream",
     "text": []
    },
    {
     "name": "stdout",
     "output_type": "stream",
     "text": [
      "boundary (singular) fit: see ?isSingular \n",
      "\n",
      "Linear mixed model fit by maximum likelihood  ['lmerMod']\n",
      "Formula: mind_numeric~wSMI_1_mean+wSMI_1_std+wSMI_2_mean+wSMI_2_std+wSMI_4_mean+wSMI_4_std+wSMI_8_mean+wSMI_8_std+p_e_1_mean+p_e_1_std+p_e_2_mean+p_e_2_std+p_e_4_mean+p_e_4_std+p_e_8_mean+p_e_8_std+k_mean+k_std+se_mean+se_std+msf_std+sef90_std+sef95_std+b_std+b_n_std+g_std+g_n_std+t_std+t_n_std+d_mean+d_std+d_n_std+a_n_std+a_std+CNV_mean+CNV_std+P1_mean+P1_std+P3a_mean+P3a_std+P3b_mean+P3b_std+(1|participant)\n",
      "\n",
      "Family: binomial\t Inference: parametric\n",
      "\n",
      "Number of observations: 429\t Groups: {'participant': 22.0}\n",
      "\n",
      "Log-likelihood: -275.707 \t AIC: 639.415\n",
      "\n",
      "Random effects:\n",
      "\n",
      "                    Name  Var  Std\n",
      "participant  (Intercept)  0.0  0.0\n",
      "\n",
      "No random effect correlations specified\n",
      "\n",
      "Fixed effects:\n",
      "\n"
     ]
    },
    {
     "name": "stderr",
     "output_type": "stream",
     "text": []
    },
    {
     "name": "stdout",
     "output_type": "stream",
     "text": [
      "boundary (singular) fit: see ?isSingular \n",
      "\n",
      "Linear mixed model fit by maximum likelihood  ['lmerMod']\n",
      "Formula: mind_numeric~wSMI_1_mean+wSMI_1_std+wSMI_2_mean+wSMI_2_std+wSMI_4_mean+wSMI_4_std+wSMI_8_mean+wSMI_8_std+p_e_1_mean+p_e_1_std+p_e_2_mean+p_e_2_std+p_e_4_mean+p_e_4_std+p_e_8_mean+p_e_8_std+k_mean+k_std+se_mean+se_std+msf_std+sef90_std+sef95_std+b_std+b_n_std+g_std+g_n_std+t_std+t_n_std+d_mean+d_std+d_n_std+a_n_std+a_std+CNV_mean+CNV_std+P1_mean+P1_std+P3a_mean+P3a_std+P3b_mean+P3b_std+(1|participant)\n",
      "\n",
      "Family: binomial\t Inference: parametric\n",
      "\n",
      "Number of observations: 429\t Groups: {'participant': 22.0}\n",
      "\n",
      "Log-likelihood: -281.710 \t AIC: 651.419\n",
      "\n",
      "Random effects:\n",
      "\n",
      "                    Name  Var  Std\n",
      "participant  (Intercept)  0.0  0.0\n",
      "\n",
      "No random effect correlations specified\n",
      "\n",
      "Fixed effects:\n",
      "\n"
     ]
    },
    {
     "name": "stderr",
     "output_type": "stream",
     "text": []
    },
    {
     "name": "stdout",
     "output_type": "stream",
     "text": [
      "boundary (singular) fit: see ?isSingular \n",
      "\n",
      "Linear mixed model fit by maximum likelihood  ['lmerMod']\n",
      "Formula: mind_numeric~wSMI_1_mean+wSMI_1_std+wSMI_2_mean+wSMI_2_std+wSMI_4_mean+wSMI_4_std+wSMI_8_mean+wSMI_8_std+p_e_1_mean+p_e_1_std+p_e_2_mean+p_e_2_std+p_e_4_mean+p_e_4_std+p_e_8_mean+p_e_8_std+k_mean+k_std+se_mean+se_std+msf_std+sef90_std+sef95_std+b_std+b_n_std+g_std+g_n_std+t_std+t_n_std+d_mean+d_std+d_n_std+a_n_std+a_std+CNV_mean+CNV_std+P1_mean+P1_std+P3a_mean+P3a_std+P3b_mean+P3b_std+(1|participant)\n",
      "\n",
      "Family: binomial\t Inference: parametric\n",
      "\n",
      "Number of observations: 429\t Groups: {'participant': 22.0}\n",
      "\n",
      "Log-likelihood: -278.239 \t AIC: 644.477\n",
      "\n",
      "Random effects:\n",
      "\n",
      "                    Name  Var  Std\n",
      "participant  (Intercept)  0.0  0.0\n",
      "\n",
      "No random effect correlations specified\n",
      "\n",
      "Fixed effects:\n",
      "\n"
     ]
    },
    {
     "name": "stderr",
     "output_type": "stream",
     "text": []
    },
    {
     "name": "stdout",
     "output_type": "stream",
     "text": [
      "boundary (singular) fit: see ?isSingular \n",
      "\n",
      "Linear mixed model fit by maximum likelihood  ['lmerMod']\n",
      "Formula: mind_numeric~wSMI_1_mean+wSMI_1_std+wSMI_2_mean+wSMI_2_std+wSMI_4_mean+wSMI_4_std+wSMI_8_mean+wSMI_8_std+p_e_1_mean+p_e_1_std+p_e_2_mean+p_e_2_std+p_e_4_mean+p_e_4_std+p_e_8_mean+p_e_8_std+k_mean+k_std+se_mean+se_std+msf_std+sef90_std+sef95_std+b_std+b_n_std+g_std+g_n_std+t_std+t_n_std+d_mean+d_std+d_n_std+a_n_std+a_std+CNV_mean+CNV_std+P1_mean+P1_std+P3a_mean+P3a_std+P3b_mean+P3b_std+(1|participant)\n",
      "\n",
      "Family: binomial\t Inference: parametric\n",
      "\n",
      "Number of observations: 429\t Groups: {'participant': 22.0}\n",
      "\n",
      "Log-likelihood: -265.311 \t AIC: 618.622\n",
      "\n",
      "Random effects:\n",
      "\n",
      "                    Name  Var  Std\n",
      "participant  (Intercept)  0.0  0.0\n",
      "\n",
      "No random effect correlations specified\n",
      "\n",
      "Fixed effects:\n",
      "\n"
     ]
    },
    {
     "name": "stderr",
     "output_type": "stream",
     "text": []
    },
    {
     "name": "stdout",
     "output_type": "stream",
     "text": [
      "boundary (singular) fit: see ?isSingular \n",
      "\n",
      "Linear mixed model fit by maximum likelihood  ['lmerMod']\n",
      "Formula: mind_numeric~wSMI_1_mean+wSMI_1_std+wSMI_2_mean+wSMI_2_std+wSMI_4_mean+wSMI_4_std+wSMI_8_mean+wSMI_8_std+p_e_1_mean+p_e_1_std+p_e_2_mean+p_e_2_std+p_e_4_mean+p_e_4_std+p_e_8_mean+p_e_8_std+k_mean+k_std+se_mean+se_std+msf_std+sef90_std+sef95_std+b_std+b_n_std+g_std+g_n_std+t_std+t_n_std+d_mean+d_std+d_n_std+a_n_std+a_std+CNV_mean+CNV_std+P1_mean+P1_std+P3a_mean+P3a_std+P3b_mean+P3b_std+(1|participant)\n",
      "\n",
      "Family: binomial\t Inference: parametric\n",
      "\n",
      "Number of observations: 429\t Groups: {'participant': 22.0}\n",
      "\n",
      "Log-likelihood: -273.807 \t AIC: 635.614\n",
      "\n",
      "Random effects:\n",
      "\n",
      "                    Name  Var  Std\n",
      "participant  (Intercept)  0.0  0.0\n",
      "\n",
      "No random effect correlations specified\n",
      "\n",
      "Fixed effects:\n",
      "\n"
     ]
    },
    {
     "name": "stderr",
     "output_type": "stream",
     "text": []
    },
    {
     "name": "stdout",
     "output_type": "stream",
     "text": [
      "boundary (singular) fit: see ?isSingular \n",
      "\n",
      "Linear mixed model fit by maximum likelihood  ['lmerMod']\n",
      "Formula: mind_numeric~wSMI_1_mean+wSMI_1_std+wSMI_2_mean+wSMI_2_std+wSMI_4_mean+wSMI_4_std+wSMI_8_mean+wSMI_8_std+p_e_1_mean+p_e_1_std+p_e_2_mean+p_e_2_std+p_e_4_mean+p_e_4_std+p_e_8_mean+p_e_8_std+k_mean+k_std+se_mean+se_std+msf_std+sef90_std+sef95_std+b_std+b_n_std+g_std+g_n_std+t_std+t_n_std+d_mean+d_std+d_n_std+a_n_std+a_std+CNV_mean+CNV_std+P1_mean+P1_std+P3a_mean+P3a_std+P3b_mean+P3b_std+(1|participant)\n",
      "\n",
      "Family: binomial\t Inference: parametric\n",
      "\n",
      "Number of observations: 429\t Groups: {'participant': 22.0}\n",
      "\n",
      "Log-likelihood: -281.307 \t AIC: 650.614\n",
      "\n",
      "Random effects:\n",
      "\n",
      "                    Name  Var  Std\n",
      "participant  (Intercept)  0.0  0.0\n",
      "\n",
      "No random effect correlations specified\n",
      "\n",
      "Fixed effects:\n",
      "\n"
     ]
    },
    {
     "name": "stderr",
     "output_type": "stream",
     "text": []
    },
    {
     "name": "stdout",
     "output_type": "stream",
     "text": [
      "boundary (singular) fit: see ?isSingular \n",
      "\n",
      "Linear mixed model fit by maximum likelihood  ['lmerMod']\n",
      "Formula: mind_numeric~wSMI_1_mean+wSMI_1_std+wSMI_2_mean+wSMI_2_std+wSMI_4_mean+wSMI_4_std+wSMI_8_mean+wSMI_8_std+p_e_1_mean+p_e_1_std+p_e_2_mean+p_e_2_std+p_e_4_mean+p_e_4_std+p_e_8_mean+p_e_8_std+k_mean+k_std+se_mean+se_std+msf_std+sef90_std+sef95_std+b_std+b_n_std+g_std+g_n_std+t_std+t_n_std+d_mean+d_std+d_n_std+a_n_std+a_std+CNV_mean+CNV_std+P1_mean+P1_std+P3a_mean+P3a_std+P3b_mean+P3b_std+(1|participant)\n",
      "\n",
      "Family: binomial\t Inference: parametric\n",
      "\n",
      "Number of observations: 429\t Groups: {'participant': 22.0}\n",
      "\n",
      "Log-likelihood: -272.114 \t AIC: 632.229\n",
      "\n",
      "Random effects:\n",
      "\n",
      "                    Name  Var  Std\n",
      "participant  (Intercept)  0.0  0.0\n",
      "\n",
      "No random effect correlations specified\n",
      "\n",
      "Fixed effects:\n",
      "\n"
     ]
    },
    {
     "name": "stderr",
     "output_type": "stream",
     "text": []
    },
    {
     "name": "stdout",
     "output_type": "stream",
     "text": [
      "boundary (singular) fit: see ?isSingular \n",
      "\n",
      "Linear mixed model fit by maximum likelihood  ['lmerMod']\n",
      "Formula: mind_numeric~wSMI_1_mean+wSMI_1_std+wSMI_2_mean+wSMI_2_std+wSMI_4_mean+wSMI_4_std+wSMI_8_mean+wSMI_8_std+p_e_1_mean+p_e_1_std+p_e_2_mean+p_e_2_std+p_e_4_mean+p_e_4_std+p_e_8_mean+p_e_8_std+k_mean+k_std+se_mean+se_std+msf_std+sef90_std+sef95_std+b_std+b_n_std+g_std+g_n_std+t_std+t_n_std+d_mean+d_std+d_n_std+a_n_std+a_std+CNV_mean+CNV_std+P1_mean+P1_std+P3a_mean+P3a_std+P3b_mean+P3b_std+(1|participant)\n",
      "\n",
      "Family: binomial\t Inference: parametric\n",
      "\n",
      "Number of observations: 429\t Groups: {'participant': 22.0}\n",
      "\n",
      "Log-likelihood: -275.144 \t AIC: 638.287\n",
      "\n",
      "Random effects:\n",
      "\n",
      "                    Name  Var  Std\n",
      "participant  (Intercept)  0.0  0.0\n",
      "\n",
      "No random effect correlations specified\n",
      "\n",
      "Fixed effects:\n",
      "\n"
     ]
    },
    {
     "name": "stderr",
     "output_type": "stream",
     "text": []
    },
    {
     "name": "stdout",
     "output_type": "stream",
     "text": [
      "boundary (singular) fit: see ?isSingular \n",
      "\n",
      "Linear mixed model fit by maximum likelihood  ['lmerMod']\n",
      "Formula: mind_numeric~wSMI_1_mean+wSMI_1_std+wSMI_2_mean+wSMI_2_std+wSMI_4_mean+wSMI_4_std+wSMI_8_mean+wSMI_8_std+p_e_1_mean+p_e_1_std+p_e_2_mean+p_e_2_std+p_e_4_mean+p_e_4_std+p_e_8_mean+p_e_8_std+k_mean+k_std+se_mean+se_std+msf_std+sef90_std+sef95_std+b_std+b_n_std+g_std+g_n_std+t_std+t_n_std+d_mean+d_std+d_n_std+a_n_std+a_std+CNV_mean+CNV_std+P1_mean+P1_std+P3a_mean+P3a_std+P3b_mean+P3b_std+(1|participant)\n",
      "\n",
      "Family: binomial\t Inference: parametric\n",
      "\n",
      "Number of observations: 429\t Groups: {'participant': 22.0}\n",
      "\n",
      "Log-likelihood: -274.241 \t AIC: 636.481\n",
      "\n",
      "Random effects:\n",
      "\n",
      "                    Name  Var  Std\n",
      "participant  (Intercept)  0.0  0.0\n",
      "\n",
      "No random effect correlations specified\n",
      "\n",
      "Fixed effects:\n",
      "\n"
     ]
    },
    {
     "name": "stderr",
     "output_type": "stream",
     "text": []
    },
    {
     "name": "stdout",
     "output_type": "stream",
     "text": [
      "boundary (singular) fit: see ?isSingular \n",
      "\n",
      "Linear mixed model fit by maximum likelihood  ['lmerMod']\n",
      "Formula: mind_numeric~wSMI_1_mean+wSMI_1_std+wSMI_2_mean+wSMI_2_std+wSMI_4_mean+wSMI_4_std+wSMI_8_mean+wSMI_8_std+p_e_1_mean+p_e_1_std+p_e_2_mean+p_e_2_std+p_e_4_mean+p_e_4_std+p_e_8_mean+p_e_8_std+k_mean+k_std+se_mean+se_std+msf_std+sef90_std+sef95_std+b_std+b_n_std+g_std+g_n_std+t_std+t_n_std+d_mean+d_std+d_n_std+a_n_std+a_std+CNV_mean+CNV_std+P1_mean+P1_std+P3a_mean+P3a_std+P3b_mean+P3b_std+(1|participant)\n",
      "\n",
      "Family: binomial\t Inference: parametric\n",
      "\n",
      "Number of observations: 429\t Groups: {'participant': 22.0}\n",
      "\n",
      "Log-likelihood: -272.038 \t AIC: 632.076\n",
      "\n",
      "Random effects:\n",
      "\n",
      "                    Name  Var  Std\n",
      "participant  (Intercept)  0.0  0.0\n",
      "\n",
      "No random effect correlations specified\n",
      "\n",
      "Fixed effects:\n",
      "\n"
     ]
    },
    {
     "name": "stderr",
     "output_type": "stream",
     "text": []
    },
    {
     "name": "stdout",
     "output_type": "stream",
     "text": [
      "boundary (singular) fit: see ?isSingular \n",
      "\n",
      "Linear mixed model fit by maximum likelihood  ['lmerMod']\n",
      "Formula: mind_numeric~wSMI_1_mean+wSMI_1_std+wSMI_2_mean+wSMI_2_std+wSMI_4_mean+wSMI_4_std+wSMI_8_mean+wSMI_8_std+p_e_1_mean+p_e_1_std+p_e_2_mean+p_e_2_std+p_e_4_mean+p_e_4_std+p_e_8_mean+p_e_8_std+k_mean+k_std+se_mean+se_std+msf_std+sef90_std+sef95_std+b_std+b_n_std+g_std+g_n_std+t_std+t_n_std+d_mean+d_std+d_n_std+a_n_std+a_std+CNV_mean+CNV_std+P1_mean+P1_std+P3a_mean+P3a_std+P3b_mean+P3b_std+(1|participant)\n",
      "\n",
      "Family: binomial\t Inference: parametric\n",
      "\n",
      "Number of observations: 429\t Groups: {'participant': 22.0}\n",
      "\n",
      "Log-likelihood: -270.834 \t AIC: 629.668\n",
      "\n",
      "Random effects:\n",
      "\n",
      "                    Name  Var  Std\n",
      "participant  (Intercept)  0.0  0.0\n",
      "\n",
      "No random effect correlations specified\n",
      "\n",
      "Fixed effects:\n",
      "\n"
     ]
    },
    {
     "name": "stderr",
     "output_type": "stream",
     "text": []
    },
    {
     "name": "stdout",
     "output_type": "stream",
     "text": [
      "boundary (singular) fit: see ?isSingular \n",
      "\n",
      "Linear mixed model fit by maximum likelihood  ['lmerMod']\n",
      "Formula: mind_numeric~wSMI_1_mean+wSMI_1_std+wSMI_2_mean+wSMI_2_std+wSMI_4_mean+wSMI_4_std+wSMI_8_mean+wSMI_8_std+p_e_1_mean+p_e_1_std+p_e_2_mean+p_e_2_std+p_e_4_mean+p_e_4_std+p_e_8_mean+p_e_8_std+k_mean+k_std+se_mean+se_std+msf_std+sef90_std+sef95_std+b_std+b_n_std+g_std+g_n_std+t_std+t_n_std+d_mean+d_std+d_n_std+a_n_std+a_std+CNV_mean+CNV_std+P1_mean+P1_std+P3a_mean+P3a_std+P3b_mean+P3b_std+(1|participant)\n",
      "\n",
      "Family: binomial\t Inference: parametric\n",
      "\n",
      "Number of observations: 429\t Groups: {'participant': 22.0}\n",
      "\n",
      "Log-likelihood: -274.854 \t AIC: 637.709\n",
      "\n",
      "Random effects:\n",
      "\n",
      "                    Name  Var  Std\n",
      "participant  (Intercept)  0.0  0.0\n",
      "\n",
      "No random effect correlations specified\n",
      "\n",
      "Fixed effects:\n",
      "\n"
     ]
    },
    {
     "name": "stderr",
     "output_type": "stream",
     "text": []
    },
    {
     "name": "stdout",
     "output_type": "stream",
     "text": [
      "[1] \"failure to converge in 10000 evaluations\"\n",
      "[2] \" \\n\"                                     \n",
      "\n",
      "unable to evaluate scaled gradient \n",
      "\n",
      "Model failed to converge: degenerate  Hessian with 2 negative eigenvalues \n",
      "\n",
      "Linear mixed model fit by maximum likelihood  ['lmerMod']\n",
      "Formula: mind_numeric~wSMI_1_mean+wSMI_1_std+wSMI_2_mean+wSMI_2_std+wSMI_4_mean+wSMI_4_std+wSMI_8_mean+wSMI_8_std+p_e_1_mean+p_e_1_std+p_e_2_mean+p_e_2_std+p_e_4_mean+p_e_4_std+p_e_8_mean+p_e_8_std+k_mean+k_std+se_mean+se_std+msf_std+sef90_std+sef95_std+b_std+b_n_std+g_std+g_n_std+t_std+t_n_std+d_mean+d_std+d_n_std+a_n_std+a_std+CNV_mean+CNV_std+P1_mean+P1_std+P3a_mean+P3a_std+P3b_mean+P3b_std+(1|participant)\n",
      "\n",
      "Family: binomial\t Inference: parametric\n",
      "\n",
      "Number of observations: 429\t Groups: {'participant': 22.0}\n",
      "\n",
      "Log-likelihood: -270.700 \t AIC: 629.400\n",
      "\n",
      "Random effects:\n",
      "\n",
      "                    Name    Var    Std\n",
      "participant  (Intercept)  0.004  0.061\n",
      "\n",
      "No random effect correlations specified\n",
      "\n",
      "Fixed effects:\n",
      "\n"
     ]
    },
    {
     "name": "stderr",
     "output_type": "stream",
     "text": []
    },
    {
     "name": "stdout",
     "output_type": "stream",
     "text": [
      "boundary (singular) fit: see ?isSingular \n",
      "\n",
      "Linear mixed model fit by maximum likelihood  ['lmerMod']\n",
      "Formula: mind_numeric~wSMI_1_mean+wSMI_1_std+wSMI_2_mean+wSMI_2_std+wSMI_4_mean+wSMI_4_std+wSMI_8_mean+wSMI_8_std+p_e_1_mean+p_e_1_std+p_e_2_mean+p_e_2_std+p_e_4_mean+p_e_4_std+p_e_8_mean+p_e_8_std+k_mean+k_std+se_mean+se_std+msf_std+sef90_std+sef95_std+b_std+b_n_std+g_std+g_n_std+t_std+t_n_std+d_mean+d_std+d_n_std+a_n_std+a_std+CNV_mean+CNV_std+P1_mean+P1_std+P3a_mean+P3a_std+P3b_mean+P3b_std+(1|participant)\n",
      "\n",
      "Family: binomial\t Inference: parametric\n",
      "\n",
      "Number of observations: 429\t Groups: {'participant': 22.0}\n",
      "\n",
      "Log-likelihood: -267.175 \t AIC: 622.349\n",
      "\n",
      "Random effects:\n",
      "\n",
      "                    Name  Var  Std\n",
      "participant  (Intercept)  0.0  0.0\n",
      "\n",
      "No random effect correlations specified\n",
      "\n",
      "Fixed effects:\n",
      "\n"
     ]
    },
    {
     "name": "stderr",
     "output_type": "stream",
     "text": []
    },
    {
     "name": "stdout",
     "output_type": "stream",
     "text": [
      "[1] \"failure to converge in 10000 evaluations\"\n",
      "[2] \" \\n\"                                     \n",
      "\n",
      "unable to evaluate scaled gradient \n",
      "\n",
      "Model failed to converge: degenerate  Hessian with 1 negative eigenvalues \n",
      "\n",
      "Linear mixed model fit by maximum likelihood  ['lmerMod']\n",
      "Formula: mind_numeric~wSMI_1_mean+wSMI_1_std+wSMI_2_mean+wSMI_2_std+wSMI_4_mean+wSMI_4_std+wSMI_8_mean+wSMI_8_std+p_e_1_mean+p_e_1_std+p_e_2_mean+p_e_2_std+p_e_4_mean+p_e_4_std+p_e_8_mean+p_e_8_std+k_mean+k_std+se_mean+se_std+msf_std+sef90_std+sef95_std+b_std+b_n_std+g_std+g_n_std+t_std+t_n_std+d_mean+d_std+d_n_std+a_n_std+a_std+CNV_mean+CNV_std+P1_mean+P1_std+P3a_mean+P3a_std+P3b_mean+P3b_std+(1|participant)\n",
      "\n",
      "Family: binomial\t Inference: parametric\n",
      "\n",
      "Number of observations: 429\t Groups: {'participant': 22.0}\n",
      "\n",
      "Log-likelihood: -258.974 \t AIC: 605.949\n",
      "\n",
      "Random effects:\n",
      "\n",
      "                    Name    Var    Std\n",
      "participant  (Intercept)  0.023  0.152\n",
      "\n",
      "No random effect correlations specified\n",
      "\n",
      "Fixed effects:\n",
      "\n"
     ]
    },
    {
     "name": "stderr",
     "output_type": "stream",
     "text": []
    },
    {
     "name": "stdout",
     "output_type": "stream",
     "text": [
      "boundary (singular) fit: see ?isSingular \n",
      "\n",
      "Linear mixed model fit by maximum likelihood  ['lmerMod']\n",
      "Formula: mind_numeric~wSMI_1_mean+wSMI_1_std+wSMI_2_mean+wSMI_2_std+wSMI_4_mean+wSMI_4_std+wSMI_8_mean+wSMI_8_std+p_e_1_mean+p_e_1_std+p_e_2_mean+p_e_2_std+p_e_4_mean+p_e_4_std+p_e_8_mean+p_e_8_std+k_mean+k_std+se_mean+se_std+msf_std+sef90_std+sef95_std+b_std+b_n_std+g_std+g_n_std+t_std+t_n_std+d_mean+d_std+d_n_std+a_n_std+a_std+CNV_mean+CNV_std+P1_mean+P1_std+P3a_mean+P3a_std+P3b_mean+P3b_std+(1|participant)\n",
      "\n",
      "Family: binomial\t Inference: parametric\n",
      "\n",
      "Number of observations: 429\t Groups: {'participant': 22.0}\n",
      "\n",
      "Log-likelihood: -277.617 \t AIC: 643.234\n",
      "\n",
      "Random effects:\n",
      "\n",
      "                    Name  Var  Std\n",
      "participant  (Intercept)  0.0  0.0\n",
      "\n",
      "No random effect correlations specified\n",
      "\n",
      "Fixed effects:\n",
      "\n"
     ]
    },
    {
     "name": "stderr",
     "output_type": "stream",
     "text": []
    },
    {
     "name": "stdout",
     "output_type": "stream",
     "text": [
      "boundary (singular) fit: see ?isSingular \n",
      "\n",
      "Linear mixed model fit by maximum likelihood  ['lmerMod']\n",
      "Formula: mind_numeric~wSMI_1_mean+wSMI_1_std+wSMI_2_mean+wSMI_2_std+wSMI_4_mean+wSMI_4_std+wSMI_8_mean+wSMI_8_std+p_e_1_mean+p_e_1_std+p_e_2_mean+p_e_2_std+p_e_4_mean+p_e_4_std+p_e_8_mean+p_e_8_std+k_mean+k_std+se_mean+se_std+msf_std+sef90_std+sef95_std+b_std+b_n_std+g_std+g_n_std+t_std+t_n_std+d_mean+d_std+d_n_std+a_n_std+a_std+CNV_mean+CNV_std+P1_mean+P1_std+P3a_mean+P3a_std+P3b_mean+P3b_std+(1|participant)\n",
      "\n",
      "Family: binomial\t Inference: parametric\n",
      "\n",
      "Number of observations: 429\t Groups: {'participant': 22.0}\n",
      "\n",
      "Log-likelihood: -271.451 \t AIC: 630.901\n",
      "\n",
      "Random effects:\n",
      "\n",
      "                    Name  Var  Std\n",
      "participant  (Intercept)  0.0  0.0\n",
      "\n",
      "No random effect correlations specified\n",
      "\n",
      "Fixed effects:\n",
      "\n"
     ]
    },
    {
     "name": "stderr",
     "output_type": "stream",
     "text": []
    },
    {
     "name": "stdout",
     "output_type": "stream",
     "text": [
      "boundary (singular) fit: see ?isSingular \n",
      "\n",
      "Linear mixed model fit by maximum likelihood  ['lmerMod']\n",
      "Formula: mind_numeric~wSMI_1_mean+wSMI_1_std+wSMI_2_mean+wSMI_2_std+wSMI_4_mean+wSMI_4_std+wSMI_8_mean+wSMI_8_std+p_e_1_mean+p_e_1_std+p_e_2_mean+p_e_2_std+p_e_4_mean+p_e_4_std+p_e_8_mean+p_e_8_std+k_mean+k_std+se_mean+se_std+msf_std+sef90_std+sef95_std+b_std+b_n_std+g_std+g_n_std+t_std+t_n_std+d_mean+d_std+d_n_std+a_n_std+a_std+CNV_mean+CNV_std+P1_mean+P1_std+P3a_mean+P3a_std+P3b_mean+P3b_std+(1|participant)\n",
      "\n",
      "Family: binomial\t Inference: parametric\n",
      "\n",
      "Number of observations: 429\t Groups: {'participant': 22.0}\n",
      "\n",
      "Log-likelihood: -273.170 \t AIC: 634.340\n",
      "\n",
      "Random effects:\n",
      "\n",
      "                    Name  Var  Std\n",
      "participant  (Intercept)  0.0  0.0\n",
      "\n",
      "No random effect correlations specified\n",
      "\n",
      "Fixed effects:\n",
      "\n"
     ]
    },
    {
     "name": "stderr",
     "output_type": "stream",
     "text": []
    },
    {
     "name": "stdout",
     "output_type": "stream",
     "text": [
      "boundary (singular) fit: see ?isSingular \n",
      "\n",
      "Linear mixed model fit by maximum likelihood  ['lmerMod']\n",
      "Formula: mind_numeric~wSMI_1_mean+wSMI_1_std+wSMI_2_mean+wSMI_2_std+wSMI_4_mean+wSMI_4_std+wSMI_8_mean+wSMI_8_std+p_e_1_mean+p_e_1_std+p_e_2_mean+p_e_2_std+p_e_4_mean+p_e_4_std+p_e_8_mean+p_e_8_std+k_mean+k_std+se_mean+se_std+msf_std+sef90_std+sef95_std+b_std+b_n_std+g_std+g_n_std+t_std+t_n_std+d_mean+d_std+d_n_std+a_n_std+a_std+CNV_mean+CNV_std+P1_mean+P1_std+P3a_mean+P3a_std+P3b_mean+P3b_std+(1|participant)\n",
      "\n",
      "Family: binomial\t Inference: parametric\n",
      "\n",
      "Number of observations: 429\t Groups: {'participant': 22.0}\n",
      "\n",
      "Log-likelihood: -263.472 \t AIC: 614.944\n",
      "\n",
      "Random effects:\n",
      "\n",
      "                    Name  Var  Std\n",
      "participant  (Intercept)  0.0  0.0\n",
      "\n",
      "No random effect correlations specified\n",
      "\n",
      "Fixed effects:\n",
      "\n"
     ]
    },
    {
     "name": "stderr",
     "output_type": "stream",
     "text": []
    },
    {
     "name": "stdout",
     "output_type": "stream",
     "text": [
      "boundary (singular) fit: see ?isSingular \n",
      "\n",
      "Linear mixed model fit by maximum likelihood  ['lmerMod']\n",
      "Formula: mind_numeric~wSMI_1_mean+wSMI_1_std+wSMI_2_mean+wSMI_2_std+wSMI_4_mean+wSMI_4_std+wSMI_8_mean+wSMI_8_std+p_e_1_mean+p_e_1_std+p_e_2_mean+p_e_2_std+p_e_4_mean+p_e_4_std+p_e_8_mean+p_e_8_std+k_mean+k_std+se_mean+se_std+msf_std+sef90_std+sef95_std+b_std+b_n_std+g_std+g_n_std+t_std+t_n_std+d_mean+d_std+d_n_std+a_n_std+a_std+CNV_mean+CNV_std+P1_mean+P1_std+P3a_mean+P3a_std+P3b_mean+P3b_std+(1|participant)\n",
      "\n",
      "Family: binomial\t Inference: parametric\n",
      "\n",
      "Number of observations: 429\t Groups: {'participant': 22.0}\n",
      "\n",
      "Log-likelihood: -279.219 \t AIC: 646.438\n",
      "\n",
      "Random effects:\n",
      "\n",
      "                    Name  Var  Std\n",
      "participant  (Intercept)  0.0  0.0\n",
      "\n",
      "No random effect correlations specified\n",
      "\n",
      "Fixed effects:\n",
      "\n"
     ]
    },
    {
     "name": "stderr",
     "output_type": "stream",
     "text": []
    },
    {
     "name": "stdout",
     "output_type": "stream",
     "text": [
      "boundary (singular) fit: see ?isSingular \n",
      "\n",
      "Linear mixed model fit by maximum likelihood  ['lmerMod']\n",
      "Formula: mind_numeric~wSMI_1_mean+wSMI_1_std+wSMI_2_mean+wSMI_2_std+wSMI_4_mean+wSMI_4_std+wSMI_8_mean+wSMI_8_std+p_e_1_mean+p_e_1_std+p_e_2_mean+p_e_2_std+p_e_4_mean+p_e_4_std+p_e_8_mean+p_e_8_std+k_mean+k_std+se_mean+se_std+msf_std+sef90_std+sef95_std+b_std+b_n_std+g_std+g_n_std+t_std+t_n_std+d_mean+d_std+d_n_std+a_n_std+a_std+CNV_mean+CNV_std+P1_mean+P1_std+P3a_mean+P3a_std+P3b_mean+P3b_std+(1|participant)\n",
      "\n",
      "Family: binomial\t Inference: parametric\n",
      "\n",
      "Number of observations: 429\t Groups: {'participant': 22.0}\n",
      "\n",
      "Log-likelihood: -270.213 \t AIC: 628.425\n",
      "\n",
      "Random effects:\n",
      "\n",
      "                    Name  Var  Std\n",
      "participant  (Intercept)  0.0  0.0\n",
      "\n",
      "No random effect correlations specified\n",
      "\n",
      "Fixed effects:\n",
      "\n"
     ]
    },
    {
     "name": "stderr",
     "output_type": "stream",
     "text": []
    },
    {
     "name": "stdout",
     "output_type": "stream",
     "text": [
      "boundary (singular) fit: see ?isSingular \n",
      "\n",
      "Linear mixed model fit by maximum likelihood  ['lmerMod']\n",
      "Formula: mind_numeric~wSMI_1_mean+wSMI_1_std+wSMI_2_mean+wSMI_2_std+wSMI_4_mean+wSMI_4_std+wSMI_8_mean+wSMI_8_std+p_e_1_mean+p_e_1_std+p_e_2_mean+p_e_2_std+p_e_4_mean+p_e_4_std+p_e_8_mean+p_e_8_std+k_mean+k_std+se_mean+se_std+msf_std+sef90_std+sef95_std+b_std+b_n_std+g_std+g_n_std+t_std+t_n_std+d_mean+d_std+d_n_std+a_n_std+a_std+CNV_mean+CNV_std+P1_mean+P1_std+P3a_mean+P3a_std+P3b_mean+P3b_std+(1|participant)\n",
      "\n",
      "Family: binomial\t Inference: parametric\n",
      "\n",
      "Number of observations: 429\t Groups: {'participant': 22.0}\n",
      "\n",
      "Log-likelihood: -276.577 \t AIC: 641.154\n",
      "\n",
      "Random effects:\n",
      "\n",
      "                    Name  Var  Std\n",
      "participant  (Intercept)  0.0  0.0\n",
      "\n",
      "No random effect correlations specified\n",
      "\n",
      "Fixed effects:\n",
      "\n"
     ]
    },
    {
     "name": "stderr",
     "output_type": "stream",
     "text": []
    },
    {
     "name": "stdout",
     "output_type": "stream",
     "text": [
      "boundary (singular) fit: see ?isSingular \n",
      "\n",
      "Linear mixed model fit by maximum likelihood  ['lmerMod']\n",
      "Formula: mind_numeric~wSMI_1_mean+wSMI_1_std+wSMI_2_mean+wSMI_2_std+wSMI_4_mean+wSMI_4_std+wSMI_8_mean+wSMI_8_std+p_e_1_mean+p_e_1_std+p_e_2_mean+p_e_2_std+p_e_4_mean+p_e_4_std+p_e_8_mean+p_e_8_std+k_mean+k_std+se_mean+se_std+msf_std+sef90_std+sef95_std+b_std+b_n_std+g_std+g_n_std+t_std+t_n_std+d_mean+d_std+d_n_std+a_n_std+a_std+CNV_mean+CNV_std+P1_mean+P1_std+P3a_mean+P3a_std+P3b_mean+P3b_std+(1|participant)\n",
      "\n",
      "Family: binomial\t Inference: parametric\n",
      "\n",
      "Number of observations: 429\t Groups: {'participant': 22.0}\n",
      "\n",
      "Log-likelihood: -265.457 \t AIC: 618.914\n",
      "\n",
      "Random effects:\n",
      "\n",
      "                    Name  Var  Std\n",
      "participant  (Intercept)  0.0  0.0\n",
      "\n",
      "No random effect correlations specified\n",
      "\n",
      "Fixed effects:\n",
      "\n"
     ]
    },
    {
     "name": "stderr",
     "output_type": "stream",
     "text": []
    },
    {
     "name": "stdout",
     "output_type": "stream",
     "text": [
      "boundary (singular) fit: see ?isSingular \n",
      "\n",
      "Linear mixed model fit by maximum likelihood  ['lmerMod']\n",
      "Formula: mind_numeric~wSMI_1_mean+wSMI_1_std+wSMI_2_mean+wSMI_2_std+wSMI_4_mean+wSMI_4_std+wSMI_8_mean+wSMI_8_std+p_e_1_mean+p_e_1_std+p_e_2_mean+p_e_2_std+p_e_4_mean+p_e_4_std+p_e_8_mean+p_e_8_std+k_mean+k_std+se_mean+se_std+msf_std+sef90_std+sef95_std+b_std+b_n_std+g_std+g_n_std+t_std+t_n_std+d_mean+d_std+d_n_std+a_n_std+a_std+CNV_mean+CNV_std+P1_mean+P1_std+P3a_mean+P3a_std+P3b_mean+P3b_std+(1|participant)\n",
      "\n",
      "Family: binomial\t Inference: parametric\n",
      "\n",
      "Number of observations: 429\t Groups: {'participant': 22.0}\n",
      "\n",
      "Log-likelihood: -273.942 \t AIC: 635.885\n",
      "\n",
      "Random effects:\n",
      "\n",
      "                    Name  Var  Std\n",
      "participant  (Intercept)  0.0  0.0\n",
      "\n",
      "No random effect correlations specified\n",
      "\n",
      "Fixed effects:\n",
      "\n"
     ]
    },
    {
     "name": "stderr",
     "output_type": "stream",
     "text": []
    },
    {
     "name": "stdout",
     "output_type": "stream",
     "text": [
      "boundary (singular) fit: see ?isSingular \n",
      "\n",
      "Linear mixed model fit by maximum likelihood  ['lmerMod']\n",
      "Formula: mind_numeric~wSMI_1_mean+wSMI_1_std+wSMI_2_mean+wSMI_2_std+wSMI_4_mean+wSMI_4_std+wSMI_8_mean+wSMI_8_std+p_e_1_mean+p_e_1_std+p_e_2_mean+p_e_2_std+p_e_4_mean+p_e_4_std+p_e_8_mean+p_e_8_std+k_mean+k_std+se_mean+se_std+msf_std+sef90_std+sef95_std+b_std+b_n_std+g_std+g_n_std+t_std+t_n_std+d_mean+d_std+d_n_std+a_n_std+a_std+CNV_mean+CNV_std+P1_mean+P1_std+P3a_mean+P3a_std+P3b_mean+P3b_std+(1|participant)\n",
      "\n",
      "Family: binomial\t Inference: parametric\n",
      "\n",
      "Number of observations: 429\t Groups: {'participant': 22.0}\n",
      "\n",
      "Log-likelihood: -274.191 \t AIC: 636.381\n",
      "\n",
      "Random effects:\n",
      "\n",
      "                    Name  Var  Std\n",
      "participant  (Intercept)  0.0  0.0\n",
      "\n",
      "No random effect correlations specified\n",
      "\n",
      "Fixed effects:\n",
      "\n"
     ]
    },
    {
     "name": "stderr",
     "output_type": "stream",
     "text": []
    },
    {
     "name": "stdout",
     "output_type": "stream",
     "text": [
      "boundary (singular) fit: see ?isSingular \n",
      "\n",
      "Linear mixed model fit by maximum likelihood  ['lmerMod']\n",
      "Formula: mind_numeric~wSMI_1_mean+wSMI_1_std+wSMI_2_mean+wSMI_2_std+wSMI_4_mean+wSMI_4_std+wSMI_8_mean+wSMI_8_std+p_e_1_mean+p_e_1_std+p_e_2_mean+p_e_2_std+p_e_4_mean+p_e_4_std+p_e_8_mean+p_e_8_std+k_mean+k_std+se_mean+se_std+msf_std+sef90_std+sef95_std+b_std+b_n_std+g_std+g_n_std+t_std+t_n_std+d_mean+d_std+d_n_std+a_n_std+a_std+CNV_mean+CNV_std+P1_mean+P1_std+P3a_mean+P3a_std+P3b_mean+P3b_std+(1|participant)\n",
      "\n",
      "Family: binomial\t Inference: parametric\n",
      "\n",
      "Number of observations: 429\t Groups: {'participant': 22.0}\n",
      "\n",
      "Log-likelihood: -270.956 \t AIC: 629.912\n",
      "\n",
      "Random effects:\n",
      "\n",
      "                    Name  Var  Std\n",
      "participant  (Intercept)  0.0  0.0\n",
      "\n",
      "No random effect correlations specified\n",
      "\n",
      "Fixed effects:\n",
      "\n"
     ]
    },
    {
     "name": "stderr",
     "output_type": "stream",
     "text": []
    },
    {
     "name": "stdout",
     "output_type": "stream",
     "text": [
      "boundary (singular) fit: see ?isSingular \n",
      "\n",
      "Linear mixed model fit by maximum likelihood  ['lmerMod']\n",
      "Formula: mind_numeric~wSMI_1_mean+wSMI_1_std+wSMI_2_mean+wSMI_2_std+wSMI_4_mean+wSMI_4_std+wSMI_8_mean+wSMI_8_std+p_e_1_mean+p_e_1_std+p_e_2_mean+p_e_2_std+p_e_4_mean+p_e_4_std+p_e_8_mean+p_e_8_std+k_mean+k_std+se_mean+se_std+msf_std+sef90_std+sef95_std+b_std+b_n_std+g_std+g_n_std+t_std+t_n_std+d_mean+d_std+d_n_std+a_n_std+a_std+CNV_mean+CNV_std+P1_mean+P1_std+P3a_mean+P3a_std+P3b_mean+P3b_std+(1|participant)\n",
      "\n",
      "Family: binomial\t Inference: parametric\n",
      "\n",
      "Number of observations: 429\t Groups: {'participant': 22.0}\n",
      "\n",
      "Log-likelihood: -273.413 \t AIC: 634.826\n",
      "\n",
      "Random effects:\n",
      "\n",
      "                    Name  Var  Std\n",
      "participant  (Intercept)  0.0  0.0\n",
      "\n",
      "No random effect correlations specified\n",
      "\n",
      "Fixed effects:\n",
      "\n",
      "boundary (singular) fit: see ?isSingular \n",
      "\n"
     ]
    },
    {
     "name": "stderr",
     "output_type": "stream",
     "text": []
    },
    {
     "name": "stdout",
     "output_type": "stream",
     "text": [
      "Linear mixed model fit by maximum likelihood  ['lmerMod']\n",
      "Formula: mind_numeric~wSMI_1_mean+wSMI_1_std+wSMI_2_mean+wSMI_2_std+wSMI_4_mean+wSMI_4_std+wSMI_8_mean+wSMI_8_std+p_e_1_mean+p_e_1_std+p_e_2_mean+p_e_2_std+p_e_4_mean+p_e_4_std+p_e_8_mean+p_e_8_std+k_mean+k_std+se_mean+se_std+msf_std+sef90_std+sef95_std+b_std+b_n_std+g_std+g_n_std+t_std+t_n_std+d_mean+d_std+d_n_std+a_n_std+a_std+CNV_mean+CNV_std+P1_mean+P1_std+P3a_mean+P3a_std+P3b_mean+P3b_std+(1|participant)\n",
      "\n",
      "Family: binomial\t Inference: parametric\n",
      "\n",
      "Number of observations: 429\t Groups: {'participant': 22.0}\n",
      "\n",
      "Log-likelihood: -278.472 \t AIC: 644.944\n",
      "\n",
      "Random effects:\n",
      "\n",
      "                    Name  Var  Std\n",
      "participant  (Intercept)  0.0  0.0\n",
      "\n",
      "No random effect correlations specified\n",
      "\n",
      "Fixed effects:\n",
      "\n"
     ]
    },
    {
     "name": "stderr",
     "output_type": "stream",
     "text": []
    },
    {
     "name": "stdout",
     "output_type": "stream",
     "text": [
      "boundary (singular) fit: see ?isSingular \n",
      "\n",
      "Linear mixed model fit by maximum likelihood  ['lmerMod']\n",
      "Formula: mind_numeric~wSMI_1_mean+wSMI_1_std+wSMI_2_mean+wSMI_2_std+wSMI_4_mean+wSMI_4_std+wSMI_8_mean+wSMI_8_std+p_e_1_mean+p_e_1_std+p_e_2_mean+p_e_2_std+p_e_4_mean+p_e_4_std+p_e_8_mean+p_e_8_std+k_mean+k_std+se_mean+se_std+msf_std+sef90_std+sef95_std+b_std+b_n_std+g_std+g_n_std+t_std+t_n_std+d_mean+d_std+d_n_std+a_n_std+a_std+CNV_mean+CNV_std+P1_mean+P1_std+P3a_mean+P3a_std+P3b_mean+P3b_std+(1|participant)\n",
      "\n",
      "Family: binomial\t Inference: parametric\n",
      "\n",
      "Number of observations: 429\t Groups: {'participant': 22.0}\n",
      "\n",
      "Log-likelihood: -271.392 \t AIC: 630.784\n",
      "\n",
      "Random effects:\n",
      "\n",
      "                    Name  Var  Std\n",
      "participant  (Intercept)  0.0  0.0\n",
      "\n",
      "No random effect correlations specified\n",
      "\n",
      "Fixed effects:\n",
      "\n"
     ]
    },
    {
     "name": "stderr",
     "output_type": "stream",
     "text": []
    },
    {
     "name": "stdout",
     "output_type": "stream",
     "text": [
      "boundary (singular) fit: see ?isSingular \n",
      "\n",
      "Linear mixed model fit by maximum likelihood  ['lmerMod']\n",
      "Formula: mind_numeric~wSMI_1_mean+wSMI_1_std+wSMI_2_mean+wSMI_2_std+wSMI_4_mean+wSMI_4_std+wSMI_8_mean+wSMI_8_std+p_e_1_mean+p_e_1_std+p_e_2_mean+p_e_2_std+p_e_4_mean+p_e_4_std+p_e_8_mean+p_e_8_std+k_mean+k_std+se_mean+se_std+msf_std+sef90_std+sef95_std+b_std+b_n_std+g_std+g_n_std+t_std+t_n_std+d_mean+d_std+d_n_std+a_n_std+a_std+CNV_mean+CNV_std+P1_mean+P1_std+P3a_mean+P3a_std+P3b_mean+P3b_std+(1|participant)\n",
      "\n",
      "Family: binomial\t Inference: parametric\n",
      "\n",
      "Number of observations: 429\t Groups: {'participant': 22.0}\n",
      "\n",
      "Log-likelihood: -277.210 \t AIC: 642.421\n",
      "\n",
      "Random effects:\n",
      "\n",
      "                    Name  Var  Std\n",
      "participant  (Intercept)  0.0  0.0\n",
      "\n",
      "No random effect correlations specified\n",
      "\n",
      "Fixed effects:\n",
      "\n"
     ]
    },
    {
     "name": "stderr",
     "output_type": "stream",
     "text": []
    },
    {
     "name": "stdout",
     "output_type": "stream",
     "text": [
      "boundary (singular) fit: see ?isSingular \n",
      "\n",
      "Linear mixed model fit by maximum likelihood  ['lmerMod']\n",
      "Formula: mind_numeric~wSMI_1_mean+wSMI_1_std+wSMI_2_mean+wSMI_2_std+wSMI_4_mean+wSMI_4_std+wSMI_8_mean+wSMI_8_std+p_e_1_mean+p_e_1_std+p_e_2_mean+p_e_2_std+p_e_4_mean+p_e_4_std+p_e_8_mean+p_e_8_std+k_mean+k_std+se_mean+se_std+msf_std+sef90_std+sef95_std+b_std+b_n_std+g_std+g_n_std+t_std+t_n_std+d_mean+d_std+d_n_std+a_n_std+a_std+CNV_mean+CNV_std+P1_mean+P1_std+P3a_mean+P3a_std+P3b_mean+P3b_std+(1|participant)\n",
      "\n",
      "Family: binomial\t Inference: parametric\n",
      "\n",
      "Number of observations: 429\t Groups: {'participant': 22.0}\n",
      "\n",
      "Log-likelihood: -266.586 \t AIC: 621.171\n",
      "\n",
      "Random effects:\n",
      "\n",
      "                    Name  Var  Std\n",
      "participant  (Intercept)  0.0  0.0\n",
      "\n",
      "No random effect correlations specified\n",
      "\n",
      "Fixed effects:\n",
      "\n"
     ]
    },
    {
     "name": "stderr",
     "output_type": "stream",
     "text": []
    },
    {
     "name": "stdout",
     "output_type": "stream",
     "text": [
      "boundary (singular) fit: see ?isSingular \n",
      "\n",
      "Linear mixed model fit by maximum likelihood  ['lmerMod']\n",
      "Formula: mind_numeric~wSMI_1_mean+wSMI_1_std+wSMI_2_mean+wSMI_2_std+wSMI_4_mean+wSMI_4_std+wSMI_8_mean+wSMI_8_std+p_e_1_mean+p_e_1_std+p_e_2_mean+p_e_2_std+p_e_4_mean+p_e_4_std+p_e_8_mean+p_e_8_std+k_mean+k_std+se_mean+se_std+msf_std+sef90_std+sef95_std+b_std+b_n_std+g_std+g_n_std+t_std+t_n_std+d_mean+d_std+d_n_std+a_n_std+a_std+CNV_mean+CNV_std+P1_mean+P1_std+P3a_mean+P3a_std+P3b_mean+P3b_std+(1|participant)\n",
      "\n",
      "Family: binomial\t Inference: parametric\n",
      "\n",
      "Number of observations: 429\t Groups: {'participant': 22.0}\n",
      "\n",
      "Log-likelihood: -281.524 \t AIC: 651.048\n",
      "\n",
      "Random effects:\n",
      "\n",
      "                    Name  Var  Std\n",
      "participant  (Intercept)  0.0  0.0\n",
      "\n",
      "No random effect correlations specified\n",
      "\n",
      "Fixed effects:\n",
      "\n"
     ]
    },
    {
     "name": "stderr",
     "output_type": "stream",
     "text": []
    },
    {
     "name": "stdout",
     "output_type": "stream",
     "text": [
      "boundary (singular) fit: see ?isSingular \n",
      "\n",
      "Linear mixed model fit by maximum likelihood  ['lmerMod']\n",
      "Formula: mind_numeric~wSMI_1_mean+wSMI_1_std+wSMI_2_mean+wSMI_2_std+wSMI_4_mean+wSMI_4_std+wSMI_8_mean+wSMI_8_std+p_e_1_mean+p_e_1_std+p_e_2_mean+p_e_2_std+p_e_4_mean+p_e_4_std+p_e_8_mean+p_e_8_std+k_mean+k_std+se_mean+se_std+msf_std+sef90_std+sef95_std+b_std+b_n_std+g_std+g_n_std+t_std+t_n_std+d_mean+d_std+d_n_std+a_n_std+a_std+CNV_mean+CNV_std+P1_mean+P1_std+P3a_mean+P3a_std+P3b_mean+P3b_std+(1|participant)\n",
      "\n",
      "Family: binomial\t Inference: parametric\n",
      "\n",
      "Number of observations: 429\t Groups: {'participant': 22.0}\n",
      "\n",
      "Log-likelihood: -281.008 \t AIC: 650.015\n",
      "\n",
      "Random effects:\n",
      "\n",
      "                    Name  Var  Std\n",
      "participant  (Intercept)  0.0  0.0\n",
      "\n",
      "No random effect correlations specified\n",
      "\n",
      "Fixed effects:\n",
      "\n"
     ]
    },
    {
     "name": "stderr",
     "output_type": "stream",
     "text": []
    },
    {
     "name": "stdout",
     "output_type": "stream",
     "text": [
      "boundary (singular) fit: see ?isSingular \n",
      "\n",
      "Linear mixed model fit by maximum likelihood  ['lmerMod']\n",
      "Formula: mind_numeric~wSMI_1_mean+wSMI_1_std+wSMI_2_mean+wSMI_2_std+wSMI_4_mean+wSMI_4_std+wSMI_8_mean+wSMI_8_std+p_e_1_mean+p_e_1_std+p_e_2_mean+p_e_2_std+p_e_4_mean+p_e_4_std+p_e_8_mean+p_e_8_std+k_mean+k_std+se_mean+se_std+msf_std+sef90_std+sef95_std+b_std+b_n_std+g_std+g_n_std+t_std+t_n_std+d_mean+d_std+d_n_std+a_n_std+a_std+CNV_mean+CNV_std+P1_mean+P1_std+P3a_mean+P3a_std+P3b_mean+P3b_std+(1|participant)\n",
      "\n",
      "Family: binomial\t Inference: parametric\n",
      "\n",
      "Number of observations: 429\t Groups: {'participant': 22.0}\n",
      "\n",
      "Log-likelihood: -271.358 \t AIC: 630.715\n",
      "\n",
      "Random effects:\n",
      "\n",
      "                    Name  Var  Std\n",
      "participant  (Intercept)  0.0  0.0\n",
      "\n",
      "No random effect correlations specified\n",
      "\n",
      "Fixed effects:\n",
      "\n"
     ]
    },
    {
     "name": "stderr",
     "output_type": "stream",
     "text": []
    },
    {
     "name": "stdout",
     "output_type": "stream",
     "text": [
      "boundary (singular) fit: see ?isSingular \n",
      "\n",
      "Linear mixed model fit by maximum likelihood  ['lmerMod']\n",
      "Formula: mind_numeric~wSMI_1_mean+wSMI_1_std+wSMI_2_mean+wSMI_2_std+wSMI_4_mean+wSMI_4_std+wSMI_8_mean+wSMI_8_std+p_e_1_mean+p_e_1_std+p_e_2_mean+p_e_2_std+p_e_4_mean+p_e_4_std+p_e_8_mean+p_e_8_std+k_mean+k_std+se_mean+se_std+msf_std+sef90_std+sef95_std+b_std+b_n_std+g_std+g_n_std+t_std+t_n_std+d_mean+d_std+d_n_std+a_n_std+a_std+CNV_mean+CNV_std+P1_mean+P1_std+P3a_mean+P3a_std+P3b_mean+P3b_std+(1|participant)\n",
      "\n",
      "Family: binomial\t Inference: parametric\n",
      "\n",
      "Number of observations: 429\t Groups: {'participant': 22.0}\n",
      "\n",
      "Log-likelihood: -268.664 \t AIC: 625.327\n",
      "\n",
      "Random effects:\n",
      "\n",
      "                    Name  Var  Std\n",
      "participant  (Intercept)  0.0  0.0\n",
      "\n",
      "No random effect correlations specified\n",
      "\n",
      "Fixed effects:\n",
      "\n"
     ]
    },
    {
     "name": "stderr",
     "output_type": "stream",
     "text": [
      "\n",
      "Permutation Test:  44%|████▍     | 44/100 [07:08<09:58, 10.68s/it]"
     ]
    },
    {
     "name": "stdout",
     "output_type": "stream",
     "text": [
      "[1] \"failure to converge in 10000 evaluations\"\n",
      "[2] \" \\n\"                                     \n",
      "\n",
      "unable to evaluate scaled gradient \n",
      "\n",
      "Model failed to converge: degenerate  Hessian with 2 negative eigenvalues \n",
      "\n",
      "Linear mixed model fit by maximum likelihood  ['lmerMod']\n",
      "Formula: mind_numeric~wSMI_1_mean+wSMI_1_std+wSMI_2_mean+wSMI_2_std+wSMI_4_mean+wSMI_4_std+wSMI_8_mean+wSMI_8_std+p_e_1_mean+p_e_1_std+p_e_2_mean+p_e_2_std+p_e_4_mean+p_e_4_std+p_e_8_mean+p_e_8_std+k_mean+k_std+se_mean+se_std+msf_std+sef90_std+sef95_std+b_std+b_n_std+g_std+g_n_std+t_std+t_n_std+d_mean+d_std+d_n_std+a_n_std+a_std+CNV_mean+CNV_std+P1_mean+P1_std+P3a_mean+P3a_std+P3b_mean+P3b_std+(1|participant)\n",
      "\n",
      "Family: binomial\t Inference: parametric\n",
      "\n",
      "Number of observations: 429\t Groups: {'participant': 22.0}\n",
      "\n",
      "Log-likelihood: -280.917 \t AIC: 649.833\n",
      "\n",
      "Random effects:\n",
      "\n",
      "                    Name    Var    Std\n",
      "participant  (Intercept)  0.047  0.217\n",
      "\n",
      "No random effect correlations specified\n",
      "\n",
      "Fixed effects:\n",
      "\n"
     ]
    },
    {
     "name": "stderr",
     "output_type": "stream",
     "text": [
      "\u001b[A"
     ]
    },
    {
     "name": "stdout",
     "output_type": "stream",
     "text": [
      "boundary (singular) fit: see ?isSingular \n",
      "\n",
      "Linear mixed model fit by maximum likelihood  ['lmerMod']\n",
      "Formula: mind_numeric~wSMI_1_mean+wSMI_1_std+wSMI_2_mean+wSMI_2_std+wSMI_4_mean+wSMI_4_std+wSMI_8_mean+wSMI_8_std+p_e_1_mean+p_e_1_std+p_e_2_mean+p_e_2_std+p_e_4_mean+p_e_4_std+p_e_8_mean+p_e_8_std+k_mean+k_std+se_mean+se_std+msf_std+sef90_std+sef95_std+b_std+b_n_std+g_std+g_n_std+t_std+t_n_std+d_mean+d_std+d_n_std+a_n_std+a_std+CNV_mean+CNV_std+P1_mean+P1_std+P3a_mean+P3a_std+P3b_mean+P3b_std+(1|participant)\n",
      "\n",
      "Family: binomial\t Inference: parametric\n",
      "\n",
      "Number of observations: 429\t Groups: {'participant': 22.0}\n",
      "\n",
      "Log-likelihood: -276.132 \t AIC: 640.265\n",
      "\n",
      "Random effects:\n",
      "\n",
      "                    Name  Var  Std\n",
      "participant  (Intercept)  0.0  0.0\n",
      "\n",
      "No random effect correlations specified\n",
      "\n",
      "Fixed effects:\n",
      "\n"
     ]
    },
    {
     "name": "stderr",
     "output_type": "stream",
     "text": []
    },
    {
     "name": "stdout",
     "output_type": "stream",
     "text": [
      "[1] \"failure to converge in 10000 evaluations\"\n",
      "[2] \" \\n\"                                     \n",
      "\n",
      "unable to evaluate scaled gradient \n",
      "\n",
      "Model failed to converge: degenerate  Hessian with 6 negative eigenvalues \n",
      "\n",
      "Linear mixed model fit by maximum likelihood  ['lmerMod']\n",
      "Formula: mind_numeric~wSMI_1_mean+wSMI_1_std+wSMI_2_mean+wSMI_2_std+wSMI_4_mean+wSMI_4_std+wSMI_8_mean+wSMI_8_std+p_e_1_mean+p_e_1_std+p_e_2_mean+p_e_2_std+p_e_4_mean+p_e_4_std+p_e_8_mean+p_e_8_std+k_mean+k_std+se_mean+se_std+msf_std+sef90_std+sef95_std+b_std+b_n_std+g_std+g_n_std+t_std+t_n_std+d_mean+d_std+d_n_std+a_n_std+a_std+CNV_mean+CNV_std+P1_mean+P1_std+P3a_mean+P3a_std+P3b_mean+P3b_std+(1|participant)\n",
      "\n",
      "Family: binomial\t Inference: parametric\n",
      "\n",
      "Number of observations: 429\t Groups: {'participant': 22.0}\n",
      "\n",
      "Log-likelihood: -275.788 \t AIC: 639.576\n",
      "\n",
      "Random effects:\n",
      "\n",
      "                    Name    Var    Std\n",
      "participant  (Intercept)  0.068  0.261\n",
      "\n",
      "No random effect correlations specified\n",
      "\n",
      "Fixed effects:\n",
      "\n"
     ]
    },
    {
     "name": "stderr",
     "output_type": "stream",
     "text": []
    },
    {
     "name": "stdout",
     "output_type": "stream",
     "text": [
      "boundary (singular) fit: see ?isSingular \n",
      "\n",
      "Linear mixed model fit by maximum likelihood  ['lmerMod']\n",
      "Formula: mind_numeric~wSMI_1_mean+wSMI_1_std+wSMI_2_mean+wSMI_2_std+wSMI_4_mean+wSMI_4_std+wSMI_8_mean+wSMI_8_std+p_e_1_mean+p_e_1_std+p_e_2_mean+p_e_2_std+p_e_4_mean+p_e_4_std+p_e_8_mean+p_e_8_std+k_mean+k_std+se_mean+se_std+msf_std+sef90_std+sef95_std+b_std+b_n_std+g_std+g_n_std+t_std+t_n_std+d_mean+d_std+d_n_std+a_n_std+a_std+CNV_mean+CNV_std+P1_mean+P1_std+P3a_mean+P3a_std+P3b_mean+P3b_std+(1|participant)\n",
      "\n",
      "Family: binomial\t Inference: parametric\n",
      "\n",
      "Number of observations: 429\t Groups: {'participant': 22.0}\n",
      "\n",
      "Log-likelihood: -274.110 \t AIC: 636.220\n",
      "\n",
      "Random effects:\n",
      "\n",
      "                    Name  Var  Std\n",
      "participant  (Intercept)  0.0  0.0\n",
      "\n",
      "No random effect correlations specified\n",
      "\n",
      "Fixed effects:\n",
      "\n"
     ]
    },
    {
     "name": "stderr",
     "output_type": "stream",
     "text": []
    },
    {
     "name": "stdout",
     "output_type": "stream",
     "text": [
      "boundary (singular) fit: see ?isSingular \n",
      "\n",
      "Linear mixed model fit by maximum likelihood  ['lmerMod']\n",
      "Formula: mind_numeric~wSMI_1_mean+wSMI_1_std+wSMI_2_mean+wSMI_2_std+wSMI_4_mean+wSMI_4_std+wSMI_8_mean+wSMI_8_std+p_e_1_mean+p_e_1_std+p_e_2_mean+p_e_2_std+p_e_4_mean+p_e_4_std+p_e_8_mean+p_e_8_std+k_mean+k_std+se_mean+se_std+msf_std+sef90_std+sef95_std+b_std+b_n_std+g_std+g_n_std+t_std+t_n_std+d_mean+d_std+d_n_std+a_n_std+a_std+CNV_mean+CNV_std+P1_mean+P1_std+P3a_mean+P3a_std+P3b_mean+P3b_std+(1|participant)\n",
      "\n",
      "Family: binomial\t Inference: parametric\n",
      "\n",
      "Number of observations: 429\t Groups: {'participant': 22.0}\n",
      "\n",
      "Log-likelihood: -278.068 \t AIC: 644.136\n",
      "\n",
      "Random effects:\n",
      "\n",
      "                    Name  Var  Std\n",
      "participant  (Intercept)  0.0  0.0\n",
      "\n",
      "No random effect correlations specified\n",
      "\n",
      "Fixed effects:\n",
      "\n"
     ]
    },
    {
     "name": "stderr",
     "output_type": "stream",
     "text": []
    },
    {
     "name": "stdout",
     "output_type": "stream",
     "text": [
      "boundary (singular) fit: see ?isSingular \n",
      "\n",
      "Linear mixed model fit by maximum likelihood  ['lmerMod']\n",
      "Formula: mind_numeric~wSMI_1_mean+wSMI_1_std+wSMI_2_mean+wSMI_2_std+wSMI_4_mean+wSMI_4_std+wSMI_8_mean+wSMI_8_std+p_e_1_mean+p_e_1_std+p_e_2_mean+p_e_2_std+p_e_4_mean+p_e_4_std+p_e_8_mean+p_e_8_std+k_mean+k_std+se_mean+se_std+msf_std+sef90_std+sef95_std+b_std+b_n_std+g_std+g_n_std+t_std+t_n_std+d_mean+d_std+d_n_std+a_n_std+a_std+CNV_mean+CNV_std+P1_mean+P1_std+P3a_mean+P3a_std+P3b_mean+P3b_std+(1|participant)\n",
      "\n",
      "Family: binomial\t Inference: parametric\n",
      "\n",
      "Number of observations: 429\t Groups: {'participant': 22.0}\n",
      "\n",
      "Log-likelihood: -272.113 \t AIC: 632.226\n",
      "\n",
      "Random effects:\n",
      "\n",
      "                    Name  Var  Std\n",
      "participant  (Intercept)  0.0  0.0\n",
      "\n",
      "No random effect correlations specified\n",
      "\n",
      "Fixed effects:\n",
      "\n"
     ]
    },
    {
     "name": "stderr",
     "output_type": "stream",
     "text": []
    },
    {
     "name": "stdout",
     "output_type": "stream",
     "text": [
      "[1] \"failure to converge in 10000 evaluations\"\n",
      "[2] \" \\n\"                                     \n",
      "\n",
      "unable to evaluate scaled gradient \n",
      "\n",
      "Model failed to converge: degenerate  Hessian with 1 negative eigenvalues \n",
      "\n",
      "Linear mixed model fit by maximum likelihood  ['lmerMod']\n",
      "Formula: mind_numeric~wSMI_1_mean+wSMI_1_std+wSMI_2_mean+wSMI_2_std+wSMI_4_mean+wSMI_4_std+wSMI_8_mean+wSMI_8_std+p_e_1_mean+p_e_1_std+p_e_2_mean+p_e_2_std+p_e_4_mean+p_e_4_std+p_e_8_mean+p_e_8_std+k_mean+k_std+se_mean+se_std+msf_std+sef90_std+sef95_std+b_std+b_n_std+g_std+g_n_std+t_std+t_n_std+d_mean+d_std+d_n_std+a_n_std+a_std+CNV_mean+CNV_std+P1_mean+P1_std+P3a_mean+P3a_std+P3b_mean+P3b_std+(1|participant)\n",
      "\n",
      "Family: binomial\t Inference: parametric\n",
      "\n",
      "Number of observations: 429\t Groups: {'participant': 22.0}\n",
      "\n",
      "Log-likelihood: -274.659 \t AIC: 637.318\n",
      "\n",
      "Random effects:\n",
      "\n",
      "                    Name    Var   Std\n",
      "participant  (Intercept)  0.203  0.45\n",
      "\n",
      "No random effect correlations specified\n",
      "\n",
      "Fixed effects:\n",
      "\n"
     ]
    },
    {
     "name": "stderr",
     "output_type": "stream",
     "text": []
    },
    {
     "name": "stdout",
     "output_type": "stream",
     "text": [
      "boundary (singular) fit: see ?isSingular \n",
      "\n",
      "Linear mixed model fit by maximum likelihood  ['lmerMod']\n",
      "Formula: mind_numeric~wSMI_1_mean+wSMI_1_std+wSMI_2_mean+wSMI_2_std+wSMI_4_mean+wSMI_4_std+wSMI_8_mean+wSMI_8_std+p_e_1_mean+p_e_1_std+p_e_2_mean+p_e_2_std+p_e_4_mean+p_e_4_std+p_e_8_mean+p_e_8_std+k_mean+k_std+se_mean+se_std+msf_std+sef90_std+sef95_std+b_std+b_n_std+g_std+g_n_std+t_std+t_n_std+d_mean+d_std+d_n_std+a_n_std+a_std+CNV_mean+CNV_std+P1_mean+P1_std+P3a_mean+P3a_std+P3b_mean+P3b_std+(1|participant)\n",
      "\n",
      "Family: binomial\t Inference: parametric\n",
      "\n",
      "Number of observations: 429\t Groups: {'participant': 22.0}\n",
      "\n",
      "Log-likelihood: -274.577 \t AIC: 637.155\n",
      "\n",
      "Random effects:\n",
      "\n",
      "                    Name  Var  Std\n",
      "participant  (Intercept)  0.0  0.0\n",
      "\n",
      "No random effect correlations specified\n",
      "\n",
      "Fixed effects:\n",
      "\n"
     ]
    },
    {
     "name": "stderr",
     "output_type": "stream",
     "text": []
    },
    {
     "name": "stdout",
     "output_type": "stream",
     "text": [
      "boundary (singular) fit: see ?isSingular \n",
      "\n",
      "Linear mixed model fit by maximum likelihood  ['lmerMod']\n",
      "Formula: mind_numeric~wSMI_1_mean+wSMI_1_std+wSMI_2_mean+wSMI_2_std+wSMI_4_mean+wSMI_4_std+wSMI_8_mean+wSMI_8_std+p_e_1_mean+p_e_1_std+p_e_2_mean+p_e_2_std+p_e_4_mean+p_e_4_std+p_e_8_mean+p_e_8_std+k_mean+k_std+se_mean+se_std+msf_std+sef90_std+sef95_std+b_std+b_n_std+g_std+g_n_std+t_std+t_n_std+d_mean+d_std+d_n_std+a_n_std+a_std+CNV_mean+CNV_std+P1_mean+P1_std+P3a_mean+P3a_std+P3b_mean+P3b_std+(1|participant)\n",
      "\n",
      "Family: binomial\t Inference: parametric\n",
      "\n",
      "Number of observations: 429\t Groups: {'participant': 22.0}\n",
      "\n",
      "Log-likelihood: -279.142 \t AIC: 646.283\n",
      "\n",
      "Random effects:\n",
      "\n",
      "                    Name  Var  Std\n",
      "participant  (Intercept)  0.0  0.0\n",
      "\n",
      "No random effect correlations specified\n",
      "\n",
      "Fixed effects:\n",
      "\n"
     ]
    },
    {
     "name": "stderr",
     "output_type": "stream",
     "text": []
    },
    {
     "name": "stdout",
     "output_type": "stream",
     "text": [
      "boundary (singular) fit: see ?isSingular \n",
      "\n",
      "Linear mixed model fit by maximum likelihood  ['lmerMod']\n",
      "Formula: mind_numeric~wSMI_1_mean+wSMI_1_std+wSMI_2_mean+wSMI_2_std+wSMI_4_mean+wSMI_4_std+wSMI_8_mean+wSMI_8_std+p_e_1_mean+p_e_1_std+p_e_2_mean+p_e_2_std+p_e_4_mean+p_e_4_std+p_e_8_mean+p_e_8_std+k_mean+k_std+se_mean+se_std+msf_std+sef90_std+sef95_std+b_std+b_n_std+g_std+g_n_std+t_std+t_n_std+d_mean+d_std+d_n_std+a_n_std+a_std+CNV_mean+CNV_std+P1_mean+P1_std+P3a_mean+P3a_std+P3b_mean+P3b_std+(1|participant)\n",
      "\n",
      "Family: binomial\t Inference: parametric\n",
      "\n",
      "Number of observations: 429\t Groups: {'participant': 22.0}\n",
      "\n",
      "Log-likelihood: -269.471 \t AIC: 626.942\n",
      "\n",
      "Random effects:\n",
      "\n",
      "                    Name  Var  Std\n",
      "participant  (Intercept)  0.0  0.0\n",
      "\n",
      "No random effect correlations specified\n",
      "\n",
      "Fixed effects:\n",
      "\n"
     ]
    },
    {
     "name": "stderr",
     "output_type": "stream",
     "text": []
    },
    {
     "name": "stdout",
     "output_type": "stream",
     "text": [
      "boundary (singular) fit: see ?isSingular \n",
      "\n",
      "Linear mixed model fit by maximum likelihood  ['lmerMod']\n",
      "Formula: mind_numeric~wSMI_1_mean+wSMI_1_std+wSMI_2_mean+wSMI_2_std+wSMI_4_mean+wSMI_4_std+wSMI_8_mean+wSMI_8_std+p_e_1_mean+p_e_1_std+p_e_2_mean+p_e_2_std+p_e_4_mean+p_e_4_std+p_e_8_mean+p_e_8_std+k_mean+k_std+se_mean+se_std+msf_std+sef90_std+sef95_std+b_std+b_n_std+g_std+g_n_std+t_std+t_n_std+d_mean+d_std+d_n_std+a_n_std+a_std+CNV_mean+CNV_std+P1_mean+P1_std+P3a_mean+P3a_std+P3b_mean+P3b_std+(1|participant)\n",
      "\n",
      "Family: binomial\t Inference: parametric\n",
      "\n",
      "Number of observations: 429\t Groups: {'participant': 22.0}\n",
      "\n",
      "Log-likelihood: -271.795 \t AIC: 631.589\n",
      "\n",
      "Random effects:\n",
      "\n",
      "                    Name  Var  Std\n",
      "participant  (Intercept)  0.0  0.0\n",
      "\n",
      "No random effect correlations specified\n",
      "\n",
      "Fixed effects:\n",
      "\n"
     ]
    },
    {
     "name": "stderr",
     "output_type": "stream",
     "text": []
    },
    {
     "name": "stdout",
     "output_type": "stream",
     "text": [
      "[1] \"failure to converge in 10000 evaluations\"\n",
      "[2] \" \\n\"                                     \n",
      "\n",
      "unable to evaluate scaled gradient \n",
      "\n",
      "Model failed to converge: degenerate  Hessian with 3 negative eigenvalues \n",
      "\n",
      "Linear mixed model fit by maximum likelihood  ['lmerMod']\n",
      "Formula: mind_numeric~wSMI_1_mean+wSMI_1_std+wSMI_2_mean+wSMI_2_std+wSMI_4_mean+wSMI_4_std+wSMI_8_mean+wSMI_8_std+p_e_1_mean+p_e_1_std+p_e_2_mean+p_e_2_std+p_e_4_mean+p_e_4_std+p_e_8_mean+p_e_8_std+k_mean+k_std+se_mean+se_std+msf_std+sef90_std+sef95_std+b_std+b_n_std+g_std+g_n_std+t_std+t_n_std+d_mean+d_std+d_n_std+a_n_std+a_std+CNV_mean+CNV_std+P1_mean+P1_std+P3a_mean+P3a_std+P3b_mean+P3b_std+(1|participant)\n",
      "\n",
      "Family: binomial\t Inference: parametric\n",
      "\n",
      "Number of observations: 429\t Groups: {'participant': 22.0}\n",
      "\n",
      "Log-likelihood: -268.469 \t AIC: 624.939\n",
      "\n",
      "Random effects:\n",
      "\n",
      "                    Name    Var    Std\n",
      "participant  (Intercept)  0.009  0.095\n",
      "\n",
      "No random effect correlations specified\n",
      "\n",
      "Fixed effects:\n",
      "\n"
     ]
    },
    {
     "name": "stderr",
     "output_type": "stream",
     "text": []
    },
    {
     "name": "stdout",
     "output_type": "stream",
     "text": [
      "boundary (singular) fit: see ?isSingular \n",
      "\n",
      "Linear mixed model fit by maximum likelihood  ['lmerMod']\n",
      "Formula: mind_numeric~wSMI_1_mean+wSMI_1_std+wSMI_2_mean+wSMI_2_std+wSMI_4_mean+wSMI_4_std+wSMI_8_mean+wSMI_8_std+p_e_1_mean+p_e_1_std+p_e_2_mean+p_e_2_std+p_e_4_mean+p_e_4_std+p_e_8_mean+p_e_8_std+k_mean+k_std+se_mean+se_std+msf_std+sef90_std+sef95_std+b_std+b_n_std+g_std+g_n_std+t_std+t_n_std+d_mean+d_std+d_n_std+a_n_std+a_std+CNV_mean+CNV_std+P1_mean+P1_std+P3a_mean+P3a_std+P3b_mean+P3b_std+(1|participant)\n",
      "\n",
      "Family: binomial\t Inference: parametric\n",
      "\n",
      "Number of observations: 429\t Groups: {'participant': 22.0}\n",
      "\n",
      "Log-likelihood: -280.036 \t AIC: 648.071\n",
      "\n",
      "Random effects:\n",
      "\n",
      "                    Name  Var  Std\n",
      "participant  (Intercept)  0.0  0.0\n",
      "\n",
      "No random effect correlations specified\n",
      "\n",
      "Fixed effects:\n",
      "\n"
     ]
    },
    {
     "name": "stderr",
     "output_type": "stream",
     "text": []
    },
    {
     "name": "stdout",
     "output_type": "stream",
     "text": [
      "boundary (singular) fit: see ?isSingular \n",
      "\n",
      "Linear mixed model fit by maximum likelihood  ['lmerMod']\n",
      "Formula: mind_numeric~wSMI_1_mean+wSMI_1_std+wSMI_2_mean+wSMI_2_std+wSMI_4_mean+wSMI_4_std+wSMI_8_mean+wSMI_8_std+p_e_1_mean+p_e_1_std+p_e_2_mean+p_e_2_std+p_e_4_mean+p_e_4_std+p_e_8_mean+p_e_8_std+k_mean+k_std+se_mean+se_std+msf_std+sef90_std+sef95_std+b_std+b_n_std+g_std+g_n_std+t_std+t_n_std+d_mean+d_std+d_n_std+a_n_std+a_std+CNV_mean+CNV_std+P1_mean+P1_std+P3a_mean+P3a_std+P3b_mean+P3b_std+(1|participant)\n",
      "\n",
      "Family: binomial\t Inference: parametric\n",
      "\n",
      "Number of observations: 429\t Groups: {'participant': 22.0}\n",
      "\n",
      "Log-likelihood: -268.570 \t AIC: 625.139\n",
      "\n",
      "Random effects:\n",
      "\n",
      "                    Name  Var  Std\n",
      "participant  (Intercept)  0.0  0.0\n",
      "\n",
      "No random effect correlations specified\n",
      "\n",
      "Fixed effects:\n",
      "\n"
     ]
    },
    {
     "name": "stderr",
     "output_type": "stream",
     "text": []
    },
    {
     "name": "stdout",
     "output_type": "stream",
     "text": [
      "boundary (singular) fit: see ?isSingular \n",
      "\n",
      "Linear mixed model fit by maximum likelihood  ['lmerMod']\n",
      "Formula: mind_numeric~wSMI_1_mean+wSMI_1_std+wSMI_2_mean+wSMI_2_std+wSMI_4_mean+wSMI_4_std+wSMI_8_mean+wSMI_8_std+p_e_1_mean+p_e_1_std+p_e_2_mean+p_e_2_std+p_e_4_mean+p_e_4_std+p_e_8_mean+p_e_8_std+k_mean+k_std+se_mean+se_std+msf_std+sef90_std+sef95_std+b_std+b_n_std+g_std+g_n_std+t_std+t_n_std+d_mean+d_std+d_n_std+a_n_std+a_std+CNV_mean+CNV_std+P1_mean+P1_std+P3a_mean+P3a_std+P3b_mean+P3b_std+(1|participant)\n",
      "\n",
      "Family: binomial\t Inference: parametric\n",
      "\n",
      "Number of observations: 429\t Groups: {'participant': 22.0}\n",
      "\n",
      "Log-likelihood: -272.222 \t AIC: 632.444\n",
      "\n",
      "Random effects:\n",
      "\n",
      "                    Name  Var  Std\n",
      "participant  (Intercept)  0.0  0.0\n",
      "\n",
      "No random effect correlations specified\n",
      "\n",
      "Fixed effects:\n",
      "\n"
     ]
    },
    {
     "name": "stderr",
     "output_type": "stream",
     "text": []
    },
    {
     "name": "stdout",
     "output_type": "stream",
     "text": [
      "boundary (singular) fit: see ?isSingular \n",
      "\n",
      "Linear mixed model fit by maximum likelihood  ['lmerMod']\n",
      "Formula: mind_numeric~wSMI_1_mean+wSMI_1_std+wSMI_2_mean+wSMI_2_std+wSMI_4_mean+wSMI_4_std+wSMI_8_mean+wSMI_8_std+p_e_1_mean+p_e_1_std+p_e_2_mean+p_e_2_std+p_e_4_mean+p_e_4_std+p_e_8_mean+p_e_8_std+k_mean+k_std+se_mean+se_std+msf_std+sef90_std+sef95_std+b_std+b_n_std+g_std+g_n_std+t_std+t_n_std+d_mean+d_std+d_n_std+a_n_std+a_std+CNV_mean+CNV_std+P1_mean+P1_std+P3a_mean+P3a_std+P3b_mean+P3b_std+(1|participant)\n",
      "\n",
      "Family: binomial\t Inference: parametric\n",
      "\n",
      "Number of observations: 429\t Groups: {'participant': 22.0}\n",
      "\n",
      "Log-likelihood: -265.978 \t AIC: 619.956\n",
      "\n",
      "Random effects:\n",
      "\n",
      "                    Name  Var  Std\n",
      "participant  (Intercept)  0.0  0.0\n",
      "\n",
      "No random effect correlations specified\n",
      "\n",
      "Fixed effects:\n",
      "\n"
     ]
    },
    {
     "name": "stderr",
     "output_type": "stream",
     "text": []
    },
    {
     "name": "stdout",
     "output_type": "stream",
     "text": [
      "boundary (singular) fit: see ?isSingular \n",
      "\n",
      "Linear mixed model fit by maximum likelihood  ['lmerMod']\n",
      "Formula: mind_numeric~wSMI_1_mean+wSMI_1_std+wSMI_2_mean+wSMI_2_std+wSMI_4_mean+wSMI_4_std+wSMI_8_mean+wSMI_8_std+p_e_1_mean+p_e_1_std+p_e_2_mean+p_e_2_std+p_e_4_mean+p_e_4_std+p_e_8_mean+p_e_8_std+k_mean+k_std+se_mean+se_std+msf_std+sef90_std+sef95_std+b_std+b_n_std+g_std+g_n_std+t_std+t_n_std+d_mean+d_std+d_n_std+a_n_std+a_std+CNV_mean+CNV_std+P1_mean+P1_std+P3a_mean+P3a_std+P3b_mean+P3b_std+(1|participant)\n",
      "\n",
      "Family: binomial\t Inference: parametric\n",
      "\n",
      "Number of observations: 429\t Groups: {'participant': 22.0}\n",
      "\n",
      "Log-likelihood: -281.900 \t AIC: 651.801\n",
      "\n",
      "Random effects:\n",
      "\n",
      "                    Name  Var  Std\n",
      "participant  (Intercept)  0.0  0.0\n",
      "\n",
      "No random effect correlations specified\n",
      "\n",
      "Fixed effects:\n",
      "\n"
     ]
    },
    {
     "name": "stderr",
     "output_type": "stream",
     "text": []
    },
    {
     "name": "stdout",
     "output_type": "stream",
     "text": [
      "boundary (singular) fit: see ?isSingular \n",
      "\n",
      "Linear mixed model fit by maximum likelihood  ['lmerMod']\n",
      "Formula: mind_numeric~wSMI_1_mean+wSMI_1_std+wSMI_2_mean+wSMI_2_std+wSMI_4_mean+wSMI_4_std+wSMI_8_mean+wSMI_8_std+p_e_1_mean+p_e_1_std+p_e_2_mean+p_e_2_std+p_e_4_mean+p_e_4_std+p_e_8_mean+p_e_8_std+k_mean+k_std+se_mean+se_std+msf_std+sef90_std+sef95_std+b_std+b_n_std+g_std+g_n_std+t_std+t_n_std+d_mean+d_std+d_n_std+a_n_std+a_std+CNV_mean+CNV_std+P1_mean+P1_std+P3a_mean+P3a_std+P3b_mean+P3b_std+(1|participant)\n",
      "\n",
      "Family: binomial\t Inference: parametric\n",
      "\n",
      "Number of observations: 429\t Groups: {'participant': 22.0}\n",
      "\n",
      "Log-likelihood: -274.762 \t AIC: 637.525\n",
      "\n",
      "Random effects:\n",
      "\n",
      "                    Name  Var  Std\n",
      "participant  (Intercept)  0.0  0.0\n",
      "\n",
      "No random effect correlations specified\n",
      "\n",
      "Fixed effects:\n",
      "\n"
     ]
    },
    {
     "name": "stderr",
     "output_type": "stream",
     "text": []
    },
    {
     "name": "stdout",
     "output_type": "stream",
     "text": [
      "[1] \"failure to converge in 10000 evaluations\"\n",
      "[2] \" \\n\"                                     \n",
      "\n",
      "unable to evaluate scaled gradient \n",
      "\n",
      "Model failed to converge: degenerate  Hessian with 6 negative eigenvalues \n",
      "\n",
      "Linear mixed model fit by maximum likelihood  ['lmerMod']\n",
      "Formula: mind_numeric~wSMI_1_mean+wSMI_1_std+wSMI_2_mean+wSMI_2_std+wSMI_4_mean+wSMI_4_std+wSMI_8_mean+wSMI_8_std+p_e_1_mean+p_e_1_std+p_e_2_mean+p_e_2_std+p_e_4_mean+p_e_4_std+p_e_8_mean+p_e_8_std+k_mean+k_std+se_mean+se_std+msf_std+sef90_std+sef95_std+b_std+b_n_std+g_std+g_n_std+t_std+t_n_std+d_mean+d_std+d_n_std+a_n_std+a_std+CNV_mean+CNV_std+P1_mean+P1_std+P3a_mean+P3a_std+P3b_mean+P3b_std+(1|participant)\n",
      "\n",
      "Family: binomial\t Inference: parametric\n",
      "\n",
      "Number of observations: 429\t Groups: {'participant': 22.0}\n",
      "\n",
      "Log-likelihood: -273.392 \t AIC: 634.784\n",
      "\n",
      "Random effects:\n",
      "\n",
      "                    Name    Var    Std\n",
      "participant  (Intercept)  0.076  0.275\n",
      "\n",
      "No random effect correlations specified\n",
      "\n",
      "Fixed effects:\n",
      "\n"
     ]
    },
    {
     "name": "stderr",
     "output_type": "stream",
     "text": []
    },
    {
     "name": "stdout",
     "output_type": "stream",
     "text": [
      "boundary (singular) fit: see ?isSingular \n",
      "\n",
      "Linear mixed model fit by maximum likelihood  ['lmerMod']\n",
      "Formula: mind_numeric~wSMI_1_mean+wSMI_1_std+wSMI_2_mean+wSMI_2_std+wSMI_4_mean+wSMI_4_std+wSMI_8_mean+wSMI_8_std+p_e_1_mean+p_e_1_std+p_e_2_mean+p_e_2_std+p_e_4_mean+p_e_4_std+p_e_8_mean+p_e_8_std+k_mean+k_std+se_mean+se_std+msf_std+sef90_std+sef95_std+b_std+b_n_std+g_std+g_n_std+t_std+t_n_std+d_mean+d_std+d_n_std+a_n_std+a_std+CNV_mean+CNV_std+P1_mean+P1_std+P3a_mean+P3a_std+P3b_mean+P3b_std+(1|participant)\n",
      "\n",
      "Family: binomial\t Inference: parametric\n",
      "\n",
      "Number of observations: 429\t Groups: {'participant': 22.0}\n",
      "\n",
      "Log-likelihood: -281.820 \t AIC: 651.640\n",
      "\n",
      "Random effects:\n",
      "\n",
      "                    Name  Var  Std\n",
      "participant  (Intercept)  0.0  0.0\n",
      "\n",
      "No random effect correlations specified\n",
      "\n",
      "Fixed effects:\n",
      "\n"
     ]
    },
    {
     "name": "stderr",
     "output_type": "stream",
     "text": []
    },
    {
     "name": "stdout",
     "output_type": "stream",
     "text": [
      "boundary (singular) fit: see ?isSingular \n",
      "\n",
      "Linear mixed model fit by maximum likelihood  ['lmerMod']\n",
      "Formula: mind_numeric~wSMI_1_mean+wSMI_1_std+wSMI_2_mean+wSMI_2_std+wSMI_4_mean+wSMI_4_std+wSMI_8_mean+wSMI_8_std+p_e_1_mean+p_e_1_std+p_e_2_mean+p_e_2_std+p_e_4_mean+p_e_4_std+p_e_8_mean+p_e_8_std+k_mean+k_std+se_mean+se_std+msf_std+sef90_std+sef95_std+b_std+b_n_std+g_std+g_n_std+t_std+t_n_std+d_mean+d_std+d_n_std+a_n_std+a_std+CNV_mean+CNV_std+P1_mean+P1_std+P3a_mean+P3a_std+P3b_mean+P3b_std+(1|participant)\n",
      "\n",
      "Family: binomial\t Inference: parametric\n",
      "\n",
      "Number of observations: 429\t Groups: {'participant': 22.0}\n",
      "\n",
      "Log-likelihood: -266.737 \t AIC: 621.474\n",
      "\n",
      "Random effects:\n",
      "\n",
      "                    Name  Var  Std\n",
      "participant  (Intercept)  0.0  0.0\n",
      "\n",
      "No random effect correlations specified\n",
      "\n",
      "Fixed effects:\n",
      "\n"
     ]
    },
    {
     "name": "stderr",
     "output_type": "stream",
     "text": []
    },
    {
     "name": "stdout",
     "output_type": "stream",
     "text": [
      "boundary (singular) fit: see ?isSingular \n",
      "\n",
      "Linear mixed model fit by maximum likelihood  ['lmerMod']\n",
      "Formula: mind_numeric~wSMI_1_mean+wSMI_1_std+wSMI_2_mean+wSMI_2_std+wSMI_4_mean+wSMI_4_std+wSMI_8_mean+wSMI_8_std+p_e_1_mean+p_e_1_std+p_e_2_mean+p_e_2_std+p_e_4_mean+p_e_4_std+p_e_8_mean+p_e_8_std+k_mean+k_std+se_mean+se_std+msf_std+sef90_std+sef95_std+b_std+b_n_std+g_std+g_n_std+t_std+t_n_std+d_mean+d_std+d_n_std+a_n_std+a_std+CNV_mean+CNV_std+P1_mean+P1_std+P3a_mean+P3a_std+P3b_mean+P3b_std+(1|participant)\n",
      "\n",
      "Family: binomial\t Inference: parametric\n",
      "\n",
      "Number of observations: 429\t Groups: {'participant': 22.0}\n",
      "\n",
      "Log-likelihood: -273.225 \t AIC: 634.449\n",
      "\n",
      "Random effects:\n",
      "\n",
      "                    Name  Var  Std\n",
      "participant  (Intercept)  0.0  0.0\n",
      "\n",
      "No random effect correlations specified\n",
      "\n",
      "Fixed effects:\n",
      "\n",
      "[1] \"failure to converge in 10000 evaluations\"\n",
      "[2] \" \\n\"                                     \n",
      "\n",
      "unable to evaluate scaled gradient \n",
      "\n",
      "Model failed to converge: degenerate  Hessian with 5 negative eigenvalues \n",
      "\n",
      "Linear mixed model fit by maximum likelihood  ['lmerMod']\n",
      "Formula: mind_numeric~wSMI_1_mean+wSMI_1_std+wSMI_2_mean+wSMI_2_std+wSMI_4_mean+wSMI_4_std+wSMI_8_mean+wSMI_8_std+p_e_1_mean+p_e_1_std+p_e_2_mean+p_e_2_std+p_e_4_mean+p_e_4_std+p_e_8_mean+p_e_8_std+k_mean+k_std+se_mean+se_std+msf_std+sef90_std+sef95_std+b_std+b_n_std+g_std+g_n_std+t_std+t_n_std+d_mean+d_std+d_n_std+a_n_std+a_std+CNV_mean+CNV_std+P1_mean+P1_std+P3a_mean+P3a_std+P3b_mean+P3b_std+(1|participant)\n",
      "\n",
      "Family: binomial\t Inference: parametric\n",
      "\n",
      "Number of observations: 429\t Groups: {'participant': 22.0}\n",
      "\n",
      "Log-likelihood: -276.128 \t AIC: 640.256\n",
      "\n",
      "Random effects:\n",
      "\n",
      "                    Name    Var    Std\n",
      "participant  (Intercept)  0.156  0.395\n",
      "\n",
      "No random effect correlations specified\n",
      "\n",
      "Fixed effects:\n",
      "\n"
     ]
    },
    {
     "name": "stderr",
     "output_type": "stream",
     "text": []
    },
    {
     "name": "stdout",
     "output_type": "stream",
     "text": [
      "boundary (singular) fit: see ?isSingular \n",
      "\n",
      "Linear mixed model fit by maximum likelihood  ['lmerMod']\n",
      "Formula: mind_numeric~wSMI_1_mean+wSMI_1_std+wSMI_2_mean+wSMI_2_std+wSMI_4_mean+wSMI_4_std+wSMI_8_mean+wSMI_8_std+p_e_1_mean+p_e_1_std+p_e_2_mean+p_e_2_std+p_e_4_mean+p_e_4_std+p_e_8_mean+p_e_8_std+k_mean+k_std+se_mean+se_std+msf_std+sef90_std+sef95_std+b_std+b_n_std+g_std+g_n_std+t_std+t_n_std+d_mean+d_std+d_n_std+a_n_std+a_std+CNV_mean+CNV_std+P1_mean+P1_std+P3a_mean+P3a_std+P3b_mean+P3b_std+(1|participant)\n",
      "\n",
      "Family: binomial\t Inference: parametric\n",
      "\n",
      "Number of observations: 429\t Groups: {'participant': 22.0}\n",
      "\n",
      "Log-likelihood: -272.763 \t AIC: 633.526\n",
      "\n",
      "Random effects:\n",
      "\n",
      "                    Name  Var  Std\n",
      "participant  (Intercept)  0.0  0.0\n",
      "\n",
      "No random effect correlations specified\n",
      "\n",
      "Fixed effects:\n",
      "\n"
     ]
    },
    {
     "name": "stderr",
     "output_type": "stream",
     "text": []
    },
    {
     "name": "stdout",
     "output_type": "stream",
     "text": [
      "boundary (singular) fit: see ?isSingular \n",
      "\n",
      "Linear mixed model fit by maximum likelihood  ['lmerMod']\n",
      "Formula: mind_numeric~wSMI_1_mean+wSMI_1_std+wSMI_2_mean+wSMI_2_std+wSMI_4_mean+wSMI_4_std+wSMI_8_mean+wSMI_8_std+p_e_1_mean+p_e_1_std+p_e_2_mean+p_e_2_std+p_e_4_mean+p_e_4_std+p_e_8_mean+p_e_8_std+k_mean+k_std+se_mean+se_std+msf_std+sef90_std+sef95_std+b_std+b_n_std+g_std+g_n_std+t_std+t_n_std+d_mean+d_std+d_n_std+a_n_std+a_std+CNV_mean+CNV_std+P1_mean+P1_std+P3a_mean+P3a_std+P3b_mean+P3b_std+(1|participant)\n",
      "\n",
      "Family: binomial\t Inference: parametric\n",
      "\n",
      "Number of observations: 429\t Groups: {'participant': 22.0}\n",
      "\n",
      "Log-likelihood: -275.855 \t AIC: 639.710\n",
      "\n",
      "Random effects:\n",
      "\n",
      "                    Name  Var  Std\n",
      "participant  (Intercept)  0.0  0.0\n",
      "\n",
      "No random effect correlations specified\n",
      "\n",
      "Fixed effects:\n",
      "\n"
     ]
    },
    {
     "name": "stderr",
     "output_type": "stream",
     "text": [
      "\n"
     ]
    },
    {
     "name": "stdout",
     "output_type": "stream",
     "text": [
      "boundary (singular) fit: see ?isSingular \n",
      "\n",
      "Linear mixed model fit by maximum likelihood  ['lmerMod']\n",
      "Formula: mind_numeric~wSMI_1_mean+wSMI_1_std+wSMI_2_mean+wSMI_2_std+wSMI_4_mean+wSMI_4_std+wSMI_8_mean+wSMI_8_std+p_e_1_mean+p_e_1_std+p_e_2_mean+p_e_2_std+p_e_4_mean+p_e_4_std+p_e_8_mean+p_e_8_std+k_mean+k_std+se_mean+se_std+msf_std+sef90_std+sef95_std+b_std+b_n_std+g_std+g_n_std+t_std+t_n_std+d_mean+d_std+d_n_std+a_n_std+a_std+CNV_mean+CNV_std+P1_mean+P1_std+P3a_mean+P3a_std+P3b_mean+P3b_std+(1|participant)\n",
      "\n",
      "Family: binomial\t Inference: parametric\n",
      "\n",
      "Number of observations: 429\t Groups: {'participant': 22.0}\n",
      "\n",
      "Log-likelihood: -274.476 \t AIC: 636.952\n",
      "\n",
      "Random effects:\n",
      "\n",
      "                    Name  Var  Std\n",
      "participant  (Intercept)  0.0  0.0\n",
      "\n",
      "No random effect correlations specified\n",
      "\n",
      "Fixed effects:\n",
      "\n"
     ]
    },
    {
     "name": "stderr",
     "output_type": "stream",
     "text": [
      "Permutation Test:  69%|██████▉   | 69/100 [12:18<07:58, 15.45s/it]\u001b[A"
     ]
    },
    {
     "name": "stdout",
     "output_type": "stream",
     "text": [
      "boundary (singular) fit: see ?isSingular \n",
      "\n",
      "Linear mixed model fit by maximum likelihood  ['lmerMod']\n",
      "Formula: mind_numeric~wSMI_1_mean+wSMI_1_std+wSMI_2_mean+wSMI_2_std+wSMI_4_mean+wSMI_4_std+wSMI_8_mean+wSMI_8_std+p_e_1_mean+p_e_1_std+p_e_2_mean+p_e_2_std+p_e_4_mean+p_e_4_std+p_e_8_mean+p_e_8_std+k_mean+k_std+se_mean+se_std+msf_std+sef90_std+sef95_std+b_std+b_n_std+g_std+g_n_std+t_std+t_n_std+d_mean+d_std+d_n_std+a_n_std+a_std+CNV_mean+CNV_std+P1_mean+P1_std+P3a_mean+P3a_std+P3b_mean+P3b_std+(1|participant)\n",
      "\n",
      "Family: binomial\t Inference: parametric\n",
      "\n",
      "Number of observations: 429\t Groups: {'participant': 22.0}\n",
      "\n",
      "Log-likelihood: -274.461 \t AIC: 636.923\n",
      "\n",
      "Random effects:\n",
      "\n",
      "                    Name  Var  Std\n",
      "participant  (Intercept)  0.0  0.0\n",
      "\n",
      "No random effect correlations specified\n",
      "\n",
      "Fixed effects:\n",
      "\n"
     ]
    },
    {
     "name": "stderr",
     "output_type": "stream",
     "text": []
    },
    {
     "name": "stdout",
     "output_type": "stream",
     "text": [
      "boundary (singular) fit: see ?isSingular \n",
      "\n",
      "Linear mixed model fit by maximum likelihood  ['lmerMod']\n",
      "Formula: mind_numeric~wSMI_1_mean+wSMI_1_std+wSMI_2_mean+wSMI_2_std+wSMI_4_mean+wSMI_4_std+wSMI_8_mean+wSMI_8_std+p_e_1_mean+p_e_1_std+p_e_2_mean+p_e_2_std+p_e_4_mean+p_e_4_std+p_e_8_mean+p_e_8_std+k_mean+k_std+se_mean+se_std+msf_std+sef90_std+sef95_std+b_std+b_n_std+g_std+g_n_std+t_std+t_n_std+d_mean+d_std+d_n_std+a_n_std+a_std+CNV_mean+CNV_std+P1_mean+P1_std+P3a_mean+P3a_std+P3b_mean+P3b_std+(1|participant)\n",
      "\n",
      "Family: binomial\t Inference: parametric\n",
      "\n",
      "Number of observations: 429\t Groups: {'participant': 22.0}\n",
      "\n",
      "Log-likelihood: -267.445 \t AIC: 622.890\n",
      "\n",
      "Random effects:\n",
      "\n",
      "                    Name  Var  Std\n",
      "participant  (Intercept)  0.0  0.0\n",
      "\n",
      "No random effect correlations specified\n",
      "\n",
      "Fixed effects:\n",
      "\n",
      "boundary (singular) fit: see ?isSingular \n",
      "\n",
      "Linear mixed model fit by maximum likelihood  ['lmerMod']\n",
      "Formula: mind_numeric~wSMI_1_mean+wSMI_1_std+wSMI_2_mean+wSMI_2_std+wSMI_4_mean+wSMI_4_std+wSMI_8_mean+wSMI_8_std+p_e_1_mean+p_e_1_std+p_e_2_mean+p_e_2_std+p_e_4_mean+p_e_4_std+p_e_8_mean+p_e_8_std+k_mean+k_std+se_mean+se_std+msf_std+sef90_std+sef95_std+b_std+b_n_std+g_std+g_n_std+t_std+t_n_std+d_mean+d_std+d_n_std+a_n_std+a_std+CNV_mean+CNV_std+P1_mean+P1_std+P3a_mean+P3a_std+P3b_mean+P3b_std+(1|participant)\n",
      "\n",
      "Family: binomial\t Inference: parametric\n",
      "\n",
      "Number of observations: 429\t Groups: {'participant': 22.0}\n",
      "\n",
      "Log-likelihood: -273.993 \t AIC: 635.986\n",
      "\n",
      "Random effects:\n",
      "\n",
      "                    Name  Var  Std\n",
      "participant  (Intercept)  0.0  0.0\n",
      "\n",
      "No random effect correlations specified\n",
      "\n",
      "Fixed effects:\n",
      "\n"
     ]
    },
    {
     "name": "stderr",
     "output_type": "stream",
     "text": []
    },
    {
     "name": "stdout",
     "output_type": "stream",
     "text": [
      "[1] \"failure to converge in 10000 evaluations\"\n",
      "[2] \" \\n\"                                     \n",
      "\n",
      "[1] \"Model failed to converge with max|grad| = 0.0758837 (tol = 0.002, component 1)\"\n",
      "[2] \" \\n\"                                                                           \n",
      "\n",
      "[1] \"Model is nearly unidentifiable: very large eigenvalue\\n - Rescale variables?\"\n",
      "[2] \" \\n\"                                                                         \n",
      "\n",
      "[1] \"Model is nearly unidentifiable: large eigenvalue ratio\\n - Rescale variables?\"\n",
      "[2] \" \\n\"                                                                          \n",
      "\n",
      "Linear mixed model fit by maximum likelihood  ['lmerMod']\n",
      "Formula: mind_numeric~wSMI_1_mean+wSMI_1_std+wSMI_2_mean+wSMI_2_std+wSMI_4_mean+wSMI_4_std+wSMI_8_mean+wSMI_8_std+p_e_1_mean+p_e_1_std+p_e_2_mean+p_e_2_std+p_e_4_mean+p_e_4_std+p_e_8_mean+p_e_8_std+k_mean+k_std+se_mean+se_std+msf_std+sef90_std+sef95_std+b_std+b_n_std+g_std+g_n_std+t_std+t_n_std+d_mean+d_std+d_n_std+a_n_std+a_std+CNV_mean+CNV_std+P1_mean+P1_std+P3a_mean+P3a_std+P3b_mean+P3b_std+(1|participant)\n",
      "\n",
      "Family: binomial\t Inference: parametric\n",
      "\n",
      "Number of observations: 429\t Groups: {'participant': 22.0}\n",
      "\n",
      "Log-likelihood: -264.822 \t AIC: 617.643\n",
      "\n",
      "Random effects:\n",
      "\n",
      "                    Name    Var    Std\n",
      "participant  (Intercept)  0.065  0.255\n",
      "\n",
      "No random effect correlations specified\n",
      "\n",
      "Fixed effects:\n",
      "\n"
     ]
    },
    {
     "name": "stderr",
     "output_type": "stream",
     "text": []
    },
    {
     "name": "stdout",
     "output_type": "stream",
     "text": [
      "boundary (singular) fit: see ?isSingular \n",
      "\n",
      "Linear mixed model fit by maximum likelihood  ['lmerMod']\n",
      "Formula: mind_numeric~wSMI_1_mean+wSMI_1_std+wSMI_2_mean+wSMI_2_std+wSMI_4_mean+wSMI_4_std+wSMI_8_mean+wSMI_8_std+p_e_1_mean+p_e_1_std+p_e_2_mean+p_e_2_std+p_e_4_mean+p_e_4_std+p_e_8_mean+p_e_8_std+k_mean+k_std+se_mean+se_std+msf_std+sef90_std+sef95_std+b_std+b_n_std+g_std+g_n_std+t_std+t_n_std+d_mean+d_std+d_n_std+a_n_std+a_std+CNV_mean+CNV_std+P1_mean+P1_std+P3a_mean+P3a_std+P3b_mean+P3b_std+(1|participant)\n",
      "\n",
      "Family: binomial\t Inference: parametric\n",
      "\n",
      "Number of observations: 429\t Groups: {'participant': 22.0}\n",
      "\n",
      "Log-likelihood: -278.532 \t AIC: 645.064\n",
      "\n",
      "Random effects:\n",
      "\n",
      "                    Name  Var  Std\n",
      "participant  (Intercept)  0.0  0.0\n",
      "\n",
      "No random effect correlations specified\n",
      "\n",
      "Fixed effects:\n",
      "\n",
      "boundary (singular) fit: see ?isSingular \n",
      "\n",
      "Linear mixed model fit by maximum likelihood  ['lmerMod']\n",
      "Formula: mind_numeric~wSMI_1_mean+wSMI_1_std+wSMI_2_mean+wSMI_2_std+wSMI_4_mean+wSMI_4_std+wSMI_8_mean+wSMI_8_std+p_e_1_mean+p_e_1_std+p_e_2_mean+p_e_2_std+p_e_4_mean+p_e_4_std+p_e_8_mean+p_e_8_std+k_mean+k_std+se_mean+se_std+msf_std+sef90_std+sef95_std+b_std+b_n_std+g_std+g_n_std+t_std+t_n_std+d_mean+d_std+d_n_std+a_n_std+a_std+CNV_mean+CNV_std+P1_mean+P1_std+P3a_mean+P3a_std+P3b_mean+P3b_std+(1|participant)\n",
      "\n",
      "Family: binomial\t Inference: parametric\n",
      "\n",
      "Number of observations: 429\t Groups: {'participant': 22.0}\n",
      "\n",
      "Log-likelihood: -278.431 \t AIC: 644.861\n",
      "\n",
      "Random effects:\n",
      "\n",
      "                    Name  Var  Std\n",
      "participant  (Intercept)  0.0  0.0\n",
      "\n",
      "No random effect correlations specified\n",
      "\n",
      "Fixed effects:\n",
      "\n"
     ]
    },
    {
     "name": "stderr",
     "output_type": "stream",
     "text": []
    },
    {
     "name": "stdout",
     "output_type": "stream",
     "text": [
      "boundary (singular) fit: see ?isSingular \n",
      "\n"
     ]
    },
    {
     "name": "stderr",
     "output_type": "stream",
     "text": []
    },
    {
     "name": "stdout",
     "output_type": "stream",
     "text": [
      "Linear mixed model fit by maximum likelihood  ['lmerMod']\n",
      "Formula: mind_numeric~wSMI_1_mean+wSMI_1_std+wSMI_2_mean+wSMI_2_std+wSMI_4_mean+wSMI_4_std+wSMI_8_mean+wSMI_8_std+p_e_1_mean+p_e_1_std+p_e_2_mean+p_e_2_std+p_e_4_mean+p_e_4_std+p_e_8_mean+p_e_8_std+k_mean+k_std+se_mean+se_std+msf_std+sef90_std+sef95_std+b_std+b_n_std+g_std+g_n_std+t_std+t_n_std+d_mean+d_std+d_n_std+a_n_std+a_std+CNV_mean+CNV_std+P1_mean+P1_std+P3a_mean+P3a_std+P3b_mean+P3b_std+(1|participant)\n",
      "\n",
      "Family: binomial\t Inference: parametric\n",
      "\n",
      "Number of observations: 429\t Groups: {'participant': 22.0}\n",
      "\n",
      "Log-likelihood: -269.685 \t AIC: 627.370\n",
      "\n",
      "Random effects:\n",
      "\n",
      "                    Name  Var  Std\n",
      "participant  (Intercept)  0.0  0.0\n",
      "\n",
      "No random effect correlations specified\n",
      "\n",
      "Fixed effects:\n",
      "\n",
      "boundary (singular) fit: see ?isSingular \n",
      "\n",
      "Linear mixed model fit by maximum likelihood  ['lmerMod']\n",
      "Formula: mind_numeric~wSMI_1_mean+wSMI_1_std+wSMI_2_mean+wSMI_2_std+wSMI_4_mean+wSMI_4_std+wSMI_8_mean+wSMI_8_std+p_e_1_mean+p_e_1_std+p_e_2_mean+p_e_2_std+p_e_4_mean+p_e_4_std+p_e_8_mean+p_e_8_std+k_mean+k_std+se_mean+se_std+msf_std+sef90_std+sef95_std+b_std+b_n_std+g_std+g_n_std+t_std+t_n_std+d_mean+d_std+d_n_std+a_n_std+a_std+CNV_mean+CNV_std+P1_mean+P1_std+P3a_mean+P3a_std+P3b_mean+P3b_std+(1|participant)\n",
      "\n",
      "Family: binomial\t Inference: parametric\n",
      "\n",
      "Number of observations: 429\t Groups: {'participant': 22.0}\n",
      "\n",
      "Log-likelihood: -267.984 \t AIC: 623.968\n",
      "\n",
      "Random effects:\n",
      "\n",
      "                    Name  Var  Std\n",
      "participant  (Intercept)  0.0  0.0\n",
      "\n",
      "No random effect correlations specified\n",
      "\n",
      "Fixed effects:\n",
      "\n"
     ]
    },
    {
     "name": "stderr",
     "output_type": "stream",
     "text": []
    },
    {
     "name": "stdout",
     "output_type": "stream",
     "text": [
      "boundary (singular) fit: see ?isSingular \n",
      "\n",
      "Linear mixed model fit by maximum likelihood  ['lmerMod']\n",
      "Formula: mind_numeric~wSMI_1_mean+wSMI_1_std+wSMI_2_mean+wSMI_2_std+wSMI_4_mean+wSMI_4_std+wSMI_8_mean+wSMI_8_std+p_e_1_mean+p_e_1_std+p_e_2_mean+p_e_2_std+p_e_4_mean+p_e_4_std+p_e_8_mean+p_e_8_std+k_mean+k_std+se_mean+se_std+msf_std+sef90_std+sef95_std+b_std+b_n_std+g_std+g_n_std+t_std+t_n_std+d_mean+d_std+d_n_std+a_n_std+a_std+CNV_mean+CNV_std+P1_mean+P1_std+P3a_mean+P3a_std+P3b_mean+P3b_std+(1|participant)\n",
      "\n",
      "Family: binomial\t Inference: parametric\n",
      "\n",
      "Number of observations: 429\t Groups: {'participant': 22.0}\n",
      "\n",
      "Log-likelihood: -267.734 \t AIC: 623.468\n",
      "\n",
      "Random effects:\n",
      "\n",
      "                    Name  Var  Std\n",
      "participant  (Intercept)  0.0  0.0\n",
      "\n",
      "No random effect correlations specified\n",
      "\n",
      "Fixed effects:\n",
      "\n"
     ]
    },
    {
     "name": "stderr",
     "output_type": "stream",
     "text": []
    },
    {
     "name": "stdout",
     "output_type": "stream",
     "text": [
      "boundary (singular) fit: see ?isSingular \n",
      "\n"
     ]
    },
    {
     "name": "stderr",
     "output_type": "stream",
     "text": []
    },
    {
     "name": "stdout",
     "output_type": "stream",
     "text": [
      "Linear mixed model fit by maximum likelihood  ['lmerMod']\n",
      "Formula: mind_numeric~wSMI_1_mean+wSMI_1_std+wSMI_2_mean+wSMI_2_std+wSMI_4_mean+wSMI_4_std+wSMI_8_mean+wSMI_8_std+p_e_1_mean+p_e_1_std+p_e_2_mean+p_e_2_std+p_e_4_mean+p_e_4_std+p_e_8_mean+p_e_8_std+k_mean+k_std+se_mean+se_std+msf_std+sef90_std+sef95_std+b_std+b_n_std+g_std+g_n_std+t_std+t_n_std+d_mean+d_std+d_n_std+a_n_std+a_std+CNV_mean+CNV_std+P1_mean+P1_std+P3a_mean+P3a_std+P3b_mean+P3b_std+(1|participant)\n",
      "\n",
      "Family: binomial\t Inference: parametric\n",
      "\n",
      "Number of observations: 429\t Groups: {'participant': 22.0}\n",
      "\n",
      "Log-likelihood: -273.238 \t AIC: 634.477\n",
      "\n",
      "Random effects:\n",
      "\n",
      "                    Name  Var  Std\n",
      "participant  (Intercept)  0.0  0.0\n",
      "\n",
      "No random effect correlations specified\n",
      "\n",
      "Fixed effects:\n",
      "\n",
      "boundary (singular) fit: see ?isSingular \n",
      "\n",
      "Linear mixed model fit by maximum likelihood  ['lmerMod']\n",
      "Formula: mind_numeric~wSMI_1_mean+wSMI_1_std+wSMI_2_mean+wSMI_2_std+wSMI_4_mean+wSMI_4_std+wSMI_8_mean+wSMI_8_std+p_e_1_mean+p_e_1_std+p_e_2_mean+p_e_2_std+p_e_4_mean+p_e_4_std+p_e_8_mean+p_e_8_std+k_mean+k_std+se_mean+se_std+msf_std+sef90_std+sef95_std+b_std+b_n_std+g_std+g_n_std+t_std+t_n_std+d_mean+d_std+d_n_std+a_n_std+a_std+CNV_mean+CNV_std+P1_mean+P1_std+P3a_mean+P3a_std+P3b_mean+P3b_std+(1|participant)\n",
      "\n",
      "Family: binomial\t Inference: parametric\n",
      "\n",
      "Number of observations: 429\t Groups: {'participant': 22.0}\n",
      "\n",
      "Log-likelihood: -274.284 \t AIC: 636.568\n",
      "\n",
      "Random effects:\n",
      "\n",
      "                    Name  Var  Std\n",
      "participant  (Intercept)  0.0  0.0\n",
      "\n",
      "No random effect correlations specified\n",
      "\n",
      "Fixed effects:\n",
      "\n"
     ]
    },
    {
     "name": "stderr",
     "output_type": "stream",
     "text": []
    },
    {
     "name": "stdout",
     "output_type": "stream",
     "text": [
      "boundary (singular) fit: see ?isSingular \n",
      "\n",
      "Linear mixed model fit by maximum likelihood  ['lmerMod']\n",
      "Formula: mind_numeric~wSMI_1_mean+wSMI_1_std+wSMI_2_mean+wSMI_2_std+wSMI_4_mean+wSMI_4_std+wSMI_8_mean+wSMI_8_std+p_e_1_mean+p_e_1_std+p_e_2_mean+p_e_2_std+p_e_4_mean+p_e_4_std+p_e_8_mean+p_e_8_std+k_mean+k_std+se_mean+se_std+msf_std+sef90_std+sef95_std+b_std+b_n_std+g_std+g_n_std+t_std+t_n_std+d_mean+d_std+d_n_std+a_n_std+a_std+CNV_mean+CNV_std+P1_mean+P1_std+P3a_mean+P3a_std+P3b_mean+P3b_std+(1|participant)\n",
      "\n",
      "Family: binomial\t Inference: parametric\n",
      "\n",
      "Number of observations: 429\t Groups: {'participant': 22.0}\n",
      "\n",
      "Log-likelihood: -272.036 \t AIC: 632.072\n",
      "\n",
      "Random effects:\n",
      "\n",
      "                    Name  Var  Std\n",
      "participant  (Intercept)  0.0  0.0\n",
      "\n",
      "No random effect correlations specified\n",
      "\n",
      "Fixed effects:\n",
      "\n"
     ]
    },
    {
     "name": "stderr",
     "output_type": "stream",
     "text": []
    },
    {
     "name": "stdout",
     "output_type": "stream",
     "text": [
      "boundary (singular) fit: see ?isSingular \n",
      "\n",
      "Linear mixed model fit by maximum likelihood  ['lmerMod']\n",
      "Formula: mind_numeric~wSMI_1_mean+wSMI_1_std+wSMI_2_mean+wSMI_2_std+wSMI_4_mean+wSMI_4_std+wSMI_8_mean+wSMI_8_std+p_e_1_mean+p_e_1_std+p_e_2_mean+p_e_2_std+p_e_4_mean+p_e_4_std+p_e_8_mean+p_e_8_std+k_mean+k_std+se_mean+se_std+msf_std+sef90_std+sef95_std+b_std+b_n_std+g_std+g_n_std+t_std+t_n_std+d_mean+d_std+d_n_std+a_n_std+a_std+CNV_mean+CNV_std+P1_mean+P1_std+P3a_mean+P3a_std+P3b_mean+P3b_std+(1|participant)\n",
      "\n",
      "Family: binomial\t Inference: parametric\n",
      "\n",
      "Number of observations: 429\t Groups: {'participant': 22.0}\n",
      "\n",
      "Log-likelihood: -281.633 \t AIC: 651.266\n",
      "\n",
      "Random effects:\n",
      "\n",
      "                    Name  Var  Std\n",
      "participant  (Intercept)  0.0  0.0\n",
      "\n",
      "No random effect correlations specified\n",
      "\n",
      "Fixed effects:\n",
      "\n"
     ]
    },
    {
     "name": "stderr",
     "output_type": "stream",
     "text": []
    },
    {
     "name": "stdout",
     "output_type": "stream",
     "text": [
      "boundary (singular) fit: see ?isSingular \n",
      "\n",
      "Linear mixed model fit by maximum likelihood  ['lmerMod']\n",
      "Formula: mind_numeric~wSMI_1_mean+wSMI_1_std+wSMI_2_mean+wSMI_2_std+wSMI_4_mean+wSMI_4_std+wSMI_8_mean+wSMI_8_std+p_e_1_mean+p_e_1_std+p_e_2_mean+p_e_2_std+p_e_4_mean+p_e_4_std+p_e_8_mean+p_e_8_std+k_mean+k_std+se_mean+se_std+msf_std+sef90_std+sef95_std+b_std+b_n_std+g_std+g_n_std+t_std+t_n_std+d_mean+d_std+d_n_std+a_n_std+a_std+CNV_mean+CNV_std+P1_mean+P1_std+P3a_mean+P3a_std+P3b_mean+P3b_std+(1|participant)\n",
      "\n",
      "Family: binomial\t Inference: parametric\n",
      "\n",
      "Number of observations: 429\t Groups: {'participant': 22.0}\n",
      "\n",
      "Log-likelihood: -280.720 \t AIC: 649.440\n",
      "\n",
      "Random effects:\n",
      "\n",
      "                    Name  Var  Std\n",
      "participant  (Intercept)  0.0  0.0\n",
      "\n",
      "No random effect correlations specified\n",
      "\n",
      "Fixed effects:\n",
      "\n"
     ]
    },
    {
     "name": "stderr",
     "output_type": "stream",
     "text": []
    },
    {
     "name": "stdout",
     "output_type": "stream",
     "text": [
      "boundary (singular) fit: see ?isSingular \n",
      "\n",
      "Linear mixed model fit by maximum likelihood  ['lmerMod']\n",
      "Formula: mind_numeric~wSMI_1_mean+wSMI_1_std+wSMI_2_mean+wSMI_2_std+wSMI_4_mean+wSMI_4_std+wSMI_8_mean+wSMI_8_std+p_e_1_mean+p_e_1_std+p_e_2_mean+p_e_2_std+p_e_4_mean+p_e_4_std+p_e_8_mean+p_e_8_std+k_mean+k_std+se_mean+se_std+msf_std+sef90_std+sef95_std+b_std+b_n_std+g_std+g_n_std+t_std+t_n_std+d_mean+d_std+d_n_std+a_n_std+a_std+CNV_mean+CNV_std+P1_mean+P1_std+P3a_mean+P3a_std+P3b_mean+P3b_std+(1|participant)\n",
      "\n",
      "Family: binomial\t Inference: parametric\n",
      "\n",
      "Number of observations: 429\t Groups: {'participant': 22.0}\n",
      "\n",
      "Log-likelihood: -275.221 \t AIC: 638.441\n",
      "\n",
      "Random effects:\n",
      "\n",
      "                    Name  Var  Std\n",
      "participant  (Intercept)  0.0  0.0\n",
      "\n",
      "No random effect correlations specified\n",
      "\n",
      "Fixed effects:\n",
      "\n"
     ]
    },
    {
     "name": "stderr",
     "output_type": "stream",
     "text": []
    },
    {
     "name": "stdout",
     "output_type": "stream",
     "text": [
      "boundary (singular) fit: see ?isSingular \n",
      "\n",
      "Linear mixed model fit by maximum likelihood  ['lmerMod']\n",
      "Formula: mind_numeric~wSMI_1_mean+wSMI_1_std+wSMI_2_mean+wSMI_2_std+wSMI_4_mean+wSMI_4_std+wSMI_8_mean+wSMI_8_std+p_e_1_mean+p_e_1_std+p_e_2_mean+p_e_2_std+p_e_4_mean+p_e_4_std+p_e_8_mean+p_e_8_std+k_mean+k_std+se_mean+se_std+msf_std+sef90_std+sef95_std+b_std+b_n_std+g_std+g_n_std+t_std+t_n_std+d_mean+d_std+d_n_std+a_n_std+a_std+CNV_mean+CNV_std+P1_mean+P1_std+P3a_mean+P3a_std+P3b_mean+P3b_std+(1|participant)\n",
      "\n",
      "Family: binomial\t Inference: parametric\n",
      "\n",
      "Number of observations: 429\t Groups: {'participant': 22.0}\n",
      "\n",
      "Log-likelihood: -275.323 \t AIC: 638.645\n",
      "\n",
      "Random effects:\n",
      "\n",
      "                    Name  Var  Std\n",
      "participant  (Intercept)  0.0  0.0\n",
      "\n",
      "No random effect correlations specified\n",
      "\n",
      "Fixed effects:\n",
      "\n"
     ]
    },
    {
     "name": "stderr",
     "output_type": "stream",
     "text": []
    },
    {
     "name": "stdout",
     "output_type": "stream",
     "text": [
      "boundary (singular) fit: see ?isSingular \n",
      "\n",
      "Linear mixed model fit by maximum likelihood  ['lmerMod']\n",
      "Formula: mind_numeric~wSMI_1_mean+wSMI_1_std+wSMI_2_mean+wSMI_2_std+wSMI_4_mean+wSMI_4_std+wSMI_8_mean+wSMI_8_std+p_e_1_mean+p_e_1_std+p_e_2_mean+p_e_2_std+p_e_4_mean+p_e_4_std+p_e_8_mean+p_e_8_std+k_mean+k_std+se_mean+se_std+msf_std+sef90_std+sef95_std+b_std+b_n_std+g_std+g_n_std+t_std+t_n_std+d_mean+d_std+d_n_std+a_n_std+a_std+CNV_mean+CNV_std+P1_mean+P1_std+P3a_mean+P3a_std+P3b_mean+P3b_std+(1|participant)\n",
      "\n",
      "Family: binomial\t Inference: parametric\n",
      "\n",
      "Number of observations: 429\t Groups: {'participant': 22.0}\n",
      "\n",
      "Log-likelihood: -272.342 \t AIC: 632.685\n",
      "\n",
      "Random effects:\n",
      "\n",
      "                    Name  Var  Std\n",
      "participant  (Intercept)  0.0  0.0\n",
      "\n",
      "No random effect correlations specified\n",
      "\n",
      "Fixed effects:\n",
      "\n"
     ]
    },
    {
     "name": "stderr",
     "output_type": "stream",
     "text": []
    },
    {
     "name": "stdout",
     "output_type": "stream",
     "text": [
      "boundary (singular) fit: see ?isSingular \n",
      "\n",
      "Linear mixed model fit by maximum likelihood  ['lmerMod']\n",
      "Formula: mind_numeric~wSMI_1_mean+wSMI_1_std+wSMI_2_mean+wSMI_2_std+wSMI_4_mean+wSMI_4_std+wSMI_8_mean+wSMI_8_std+p_e_1_mean+p_e_1_std+p_e_2_mean+p_e_2_std+p_e_4_mean+p_e_4_std+p_e_8_mean+p_e_8_std+k_mean+k_std+se_mean+se_std+msf_std+sef90_std+sef95_std+b_std+b_n_std+g_std+g_n_std+t_std+t_n_std+d_mean+d_std+d_n_std+a_n_std+a_std+CNV_mean+CNV_std+P1_mean+P1_std+P3a_mean+P3a_std+P3b_mean+P3b_std+(1|participant)\n",
      "\n",
      "Family: binomial\t Inference: parametric\n",
      "\n",
      "Number of observations: 429\t Groups: {'participant': 22.0}\n",
      "\n",
      "Log-likelihood: -273.278 \t AIC: 634.556\n",
      "\n",
      "Random effects:\n",
      "\n",
      "                    Name  Var  Std\n",
      "participant  (Intercept)  0.0  0.0\n",
      "\n",
      "No random effect correlations specified\n",
      "\n",
      "Fixed effects:\n",
      "\n"
     ]
    },
    {
     "name": "stderr",
     "output_type": "stream",
     "text": []
    },
    {
     "name": "stdout",
     "output_type": "stream",
     "text": [
      "boundary (singular) fit: see ?isSingular \n",
      "\n",
      "Linear mixed model fit by maximum likelihood  ['lmerMod']\n",
      "Formula: mind_numeric~wSMI_1_mean+wSMI_1_std+wSMI_2_mean+wSMI_2_std+wSMI_4_mean+wSMI_4_std+wSMI_8_mean+wSMI_8_std+p_e_1_mean+p_e_1_std+p_e_2_mean+p_e_2_std+p_e_4_mean+p_e_4_std+p_e_8_mean+p_e_8_std+k_mean+k_std+se_mean+se_std+msf_std+sef90_std+sef95_std+b_std+b_n_std+g_std+g_n_std+t_std+t_n_std+d_mean+d_std+d_n_std+a_n_std+a_std+CNV_mean+CNV_std+P1_mean+P1_std+P3a_mean+P3a_std+P3b_mean+P3b_std+(1|participant)\n",
      "\n",
      "Family: binomial\t Inference: parametric\n",
      "\n",
      "Number of observations: 429\t Groups: {'participant': 22.0}\n",
      "\n",
      "Log-likelihood: -263.509 \t AIC: 615.018\n",
      "\n",
      "Random effects:\n",
      "\n",
      "                    Name  Var  Std\n",
      "participant  (Intercept)  0.0  0.0\n",
      "\n",
      "No random effect correlations specified\n",
      "\n",
      "Fixed effects:\n",
      "\n"
     ]
    },
    {
     "name": "stderr",
     "output_type": "stream",
     "text": []
    },
    {
     "name": "stdout",
     "output_type": "stream",
     "text": [
      "boundary (singular) fit: see ?isSingular \n",
      "\n",
      "Linear mixed model fit by maximum likelihood  ['lmerMod']\n",
      "Formula: mind_numeric~wSMI_1_mean+wSMI_1_std+wSMI_2_mean+wSMI_2_std+wSMI_4_mean+wSMI_4_std+wSMI_8_mean+wSMI_8_std+p_e_1_mean+p_e_1_std+p_e_2_mean+p_e_2_std+p_e_4_mean+p_e_4_std+p_e_8_mean+p_e_8_std+k_mean+k_std+se_mean+se_std+msf_std+sef90_std+sef95_std+b_std+b_n_std+g_std+g_n_std+t_std+t_n_std+d_mean+d_std+d_n_std+a_n_std+a_std+CNV_mean+CNV_std+P1_mean+P1_std+P3a_mean+P3a_std+P3b_mean+P3b_std+(1|participant)\n",
      "\n",
      "Family: binomial\t Inference: parametric\n",
      "\n",
      "Number of observations: 429\t Groups: {'participant': 22.0}\n",
      "\n",
      "Log-likelihood: -271.700 \t AIC: 631.401\n",
      "\n",
      "Random effects:\n",
      "\n",
      "                    Name  Var  Std\n",
      "participant  (Intercept)  0.0  0.0\n",
      "\n",
      "No random effect correlations specified\n",
      "\n",
      "Fixed effects:\n",
      "\n"
     ]
    },
    {
     "name": "stderr",
     "output_type": "stream",
     "text": []
    },
    {
     "name": "stdout",
     "output_type": "stream",
     "text": [
      "boundary (singular) fit: see ?isSingular \n",
      "\n",
      "Linear mixed model fit by maximum likelihood  ['lmerMod']\n",
      "Formula: mind_numeric~wSMI_1_mean+wSMI_1_std+wSMI_2_mean+wSMI_2_std+wSMI_4_mean+wSMI_4_std+wSMI_8_mean+wSMI_8_std+p_e_1_mean+p_e_1_std+p_e_2_mean+p_e_2_std+p_e_4_mean+p_e_4_std+p_e_8_mean+p_e_8_std+k_mean+k_std+se_mean+se_std+msf_std+sef90_std+sef95_std+b_std+b_n_std+g_std+g_n_std+t_std+t_n_std+d_mean+d_std+d_n_std+a_n_std+a_std+CNV_mean+CNV_std+P1_mean+P1_std+P3a_mean+P3a_std+P3b_mean+P3b_std+(1|participant)\n",
      "\n",
      "Family: binomial\t Inference: parametric\n",
      "\n",
      "Number of observations: 429\t Groups: {'participant': 22.0}\n",
      "\n",
      "Log-likelihood: -277.839 \t AIC: 643.678\n",
      "\n",
      "Random effects:\n",
      "\n",
      "                    Name  Var  Std\n",
      "participant  (Intercept)  0.0  0.0\n",
      "\n",
      "No random effect correlations specified\n",
      "\n",
      "Fixed effects:\n",
      "\n"
     ]
    },
    {
     "name": "stderr",
     "output_type": "stream",
     "text": []
    },
    {
     "name": "stdout",
     "output_type": "stream",
     "text": [
      "boundary (singular) fit: see ?isSingular \n",
      "\n",
      "Linear mixed model fit by maximum likelihood  ['lmerMod']\n",
      "Formula: mind_numeric~wSMI_1_mean+wSMI_1_std+wSMI_2_mean+wSMI_2_std+wSMI_4_mean+wSMI_4_std+wSMI_8_mean+wSMI_8_std+p_e_1_mean+p_e_1_std+p_e_2_mean+p_e_2_std+p_e_4_mean+p_e_4_std+p_e_8_mean+p_e_8_std+k_mean+k_std+se_mean+se_std+msf_std+sef90_std+sef95_std+b_std+b_n_std+g_std+g_n_std+t_std+t_n_std+d_mean+d_std+d_n_std+a_n_std+a_std+CNV_mean+CNV_std+P1_mean+P1_std+P3a_mean+P3a_std+P3b_mean+P3b_std+(1|participant)\n",
      "\n",
      "Family: binomial\t Inference: parametric\n",
      "\n",
      "Number of observations: 429\t Groups: {'participant': 22.0}\n",
      "\n",
      "Log-likelihood: -267.914 \t AIC: 623.827\n",
      "\n",
      "Random effects:\n",
      "\n",
      "                    Name  Var  Std\n",
      "participant  (Intercept)  0.0  0.0\n",
      "\n",
      "No random effect correlations specified\n",
      "\n",
      "Fixed effects:\n",
      "\n"
     ]
    },
    {
     "name": "stderr",
     "output_type": "stream",
     "text": []
    },
    {
     "name": "stdout",
     "output_type": "stream",
     "text": [
      "boundary (singular) fit: see ?isSingular \n",
      "\n",
      "Linear mixed model fit by maximum likelihood  ['lmerMod']\n",
      "Formula: mind_numeric~wSMI_1_mean+wSMI_1_std+wSMI_2_mean+wSMI_2_std+wSMI_4_mean+wSMI_4_std+wSMI_8_mean+wSMI_8_std+p_e_1_mean+p_e_1_std+p_e_2_mean+p_e_2_std+p_e_4_mean+p_e_4_std+p_e_8_mean+p_e_8_std+k_mean+k_std+se_mean+se_std+msf_std+sef90_std+sef95_std+b_std+b_n_std+g_std+g_n_std+t_std+t_n_std+d_mean+d_std+d_n_std+a_n_std+a_std+CNV_mean+CNV_std+P1_mean+P1_std+P3a_mean+P3a_std+P3b_mean+P3b_std+(1|participant)\n",
      "\n",
      "Family: binomial\t Inference: parametric\n",
      "\n",
      "Number of observations: 429\t Groups: {'participant': 22.0}\n",
      "\n",
      "Log-likelihood: -273.763 \t AIC: 635.527\n",
      "\n",
      "Random effects:\n",
      "\n",
      "                    Name  Var  Std\n",
      "participant  (Intercept)  0.0  0.0\n",
      "\n",
      "No random effect correlations specified\n",
      "\n",
      "Fixed effects:\n",
      "\n",
      "[1] \"failure to converge in 10000 evaluations\"\n",
      "[2] \" \\n\"                                     \n",
      "\n",
      "unable to evaluate scaled gradient \n",
      "\n",
      "Model failed to converge: degenerate  Hessian with 4 negative eigenvalues \n",
      "\n",
      "Linear mixed model fit by maximum likelihood  ['lmerMod']\n",
      "Formula: mind_numeric~wSMI_1_mean+wSMI_1_std+wSMI_2_mean+wSMI_2_std+wSMI_4_mean+wSMI_4_std+wSMI_8_mean+wSMI_8_std+p_e_1_mean+p_e_1_std+p_e_2_mean+p_e_2_std+p_e_4_mean+p_e_4_std+p_e_8_mean+p_e_8_std+k_mean+k_std+se_mean+se_std+msf_std+sef90_std+sef95_std+b_std+b_n_std+g_std+g_n_std+t_std+t_n_std+d_mean+d_std+d_n_std+a_n_std+a_std+CNV_mean+CNV_std+P1_mean+P1_std+P3a_mean+P3a_std+P3b_mean+P3b_std+(1|participant)\n",
      "\n",
      "Family: binomial\t Inference: parametric\n",
      "\n",
      "Number of observations: 429\t Groups: {'participant': 22.0}\n",
      "\n",
      "Log-likelihood: -273.133 \t AIC: 634.267\n",
      "\n",
      "Random effects:\n",
      "\n",
      "                    Name    Var    Std\n",
      "participant  (Intercept)  0.035  0.187\n",
      "\n",
      "No random effect correlations specified\n",
      "\n",
      "Fixed effects:\n",
      "\n"
     ]
    },
    {
     "name": "stderr",
     "output_type": "stream",
     "text": []
    },
    {
     "name": "stdout",
     "output_type": "stream",
     "text": [
      "boundary (singular) fit: see ?isSingular \n",
      "\n",
      "Linear mixed model fit by maximum likelihood  ['lmerMod']\n",
      "Formula: mind_numeric~wSMI_1_mean+wSMI_1_std+wSMI_2_mean+wSMI_2_std+wSMI_4_mean+wSMI_4_std+wSMI_8_mean+wSMI_8_std+p_e_1_mean+p_e_1_std+p_e_2_mean+p_e_2_std+p_e_4_mean+p_e_4_std+p_e_8_mean+p_e_8_std+k_mean+k_std+se_mean+se_std+msf_std+sef90_std+sef95_std+b_std+b_n_std+g_std+g_n_std+t_std+t_n_std+d_mean+d_std+d_n_std+a_n_std+a_std+CNV_mean+CNV_std+P1_mean+P1_std+P3a_mean+P3a_std+P3b_mean+P3b_std+(1|participant)\n",
      "\n",
      "Family: binomial\t Inference: parametric\n",
      "\n",
      "Number of observations: 429\t Groups: {'participant': 22.0}\n",
      "\n",
      "Log-likelihood: -270.313 \t AIC: 628.627\n",
      "\n",
      "Random effects:\n",
      "\n",
      "                    Name  Var  Std\n",
      "participant  (Intercept)  0.0  0.0\n",
      "\n",
      "No random effect correlations specified\n",
      "\n",
      "Fixed effects:\n",
      "\n"
     ]
    },
    {
     "name": "stderr",
     "output_type": "stream",
     "text": []
    },
    {
     "name": "stdout",
     "output_type": "stream",
     "text": [
      "boundary (singular) fit: see ?isSingular \n",
      "\n",
      "Linear mixed model fit by maximum likelihood  ['lmerMod']\n",
      "Formula: mind_numeric~wSMI_1_mean+wSMI_1_std+wSMI_2_mean+wSMI_2_std+wSMI_4_mean+wSMI_4_std+wSMI_8_mean+wSMI_8_std+p_e_1_mean+p_e_1_std+p_e_2_mean+p_e_2_std+p_e_4_mean+p_e_4_std+p_e_8_mean+p_e_8_std+k_mean+k_std+se_mean+se_std+msf_std+sef90_std+sef95_std+b_std+b_n_std+g_std+g_n_std+t_std+t_n_std+d_mean+d_std+d_n_std+a_n_std+a_std+CNV_mean+CNV_std+P1_mean+P1_std+P3a_mean+P3a_std+P3b_mean+P3b_std+(1|participant)\n",
      "\n",
      "Family: binomial\t Inference: parametric\n",
      "\n",
      "Number of observations: 429\t Groups: {'participant': 22.0}\n",
      "\n",
      "Log-likelihood: -271.515 \t AIC: 631.029\n",
      "\n",
      "Random effects:\n",
      "\n",
      "                    Name  Var  Std\n",
      "participant  (Intercept)  0.0  0.0\n",
      "\n",
      "No random effect correlations specified\n",
      "\n",
      "Fixed effects:\n",
      "\n"
     ]
    },
    {
     "name": "stderr",
     "output_type": "stream",
     "text": []
    },
    {
     "name": "stdout",
     "output_type": "stream",
     "text": [
      "boundary (singular) fit: see ?isSingular \n",
      "\n",
      "Linear mixed model fit by maximum likelihood  ['lmerMod']\n",
      "Formula: mind_numeric~wSMI_1_mean+wSMI_1_std+wSMI_2_mean+wSMI_2_std+wSMI_4_mean+wSMI_4_std+wSMI_8_mean+wSMI_8_std+p_e_1_mean+p_e_1_std+p_e_2_mean+p_e_2_std+p_e_4_mean+p_e_4_std+p_e_8_mean+p_e_8_std+k_mean+k_std+se_mean+se_std+msf_std+sef90_std+sef95_std+b_std+b_n_std+g_std+g_n_std+t_std+t_n_std+d_mean+d_std+d_n_std+a_n_std+a_std+CNV_mean+CNV_std+P1_mean+P1_std+P3a_mean+P3a_std+P3b_mean+P3b_std+(1|participant)\n",
      "\n",
      "Family: binomial\t Inference: parametric\n",
      "\n",
      "Number of observations: 429\t Groups: {'participant': 22.0}\n",
      "\n",
      "Log-likelihood: -271.588 \t AIC: 631.176\n",
      "\n",
      "Random effects:\n",
      "\n",
      "                    Name  Var  Std\n",
      "participant  (Intercept)  0.0  0.0\n",
      "\n",
      "No random effect correlations specified\n",
      "\n",
      "Fixed effects:\n",
      "\n"
     ]
    },
    {
     "name": "stderr",
     "output_type": "stream",
     "text": []
    },
    {
     "name": "stdout",
     "output_type": "stream",
     "text": [
      "boundary (singular) fit: see ?isSingular \n",
      "\n",
      "Linear mixed model fit by maximum likelihood  ['lmerMod']\n",
      "Formula: mind_numeric~wSMI_1_mean+wSMI_1_std+wSMI_2_mean+wSMI_2_std+wSMI_4_mean+wSMI_4_std+wSMI_8_mean+wSMI_8_std+p_e_1_mean+p_e_1_std+p_e_2_mean+p_e_2_std+p_e_4_mean+p_e_4_std+p_e_8_mean+p_e_8_std+k_mean+k_std+se_mean+se_std+msf_std+sef90_std+sef95_std+b_std+b_n_std+g_std+g_n_std+t_std+t_n_std+d_mean+d_std+d_n_std+a_n_std+a_std+CNV_mean+CNV_std+P1_mean+P1_std+P3a_mean+P3a_std+P3b_mean+P3b_std+(1|participant)\n",
      "\n",
      "Family: binomial\t Inference: parametric\n",
      "\n",
      "Number of observations: 429\t Groups: {'participant': 22.0}\n",
      "\n",
      "Log-likelihood: -272.522 \t AIC: 633.044\n",
      "\n",
      "Random effects:\n",
      "\n",
      "                    Name  Var  Std\n",
      "participant  (Intercept)  0.0  0.0\n",
      "\n",
      "No random effect correlations specified\n",
      "\n",
      "Fixed effects:\n",
      "\n"
     ]
    },
    {
     "name": "stderr",
     "output_type": "stream",
     "text": []
    },
    {
     "name": "stdout",
     "output_type": "stream",
     "text": [
      "boundary (singular) fit: see ?isSingular \n",
      "\n",
      "Linear mixed model fit by maximum likelihood  ['lmerMod']\n",
      "Formula: mind_numeric~wSMI_1_mean+wSMI_1_std+wSMI_2_mean+wSMI_2_std+wSMI_4_mean+wSMI_4_std+wSMI_8_mean+wSMI_8_std+p_e_1_mean+p_e_1_std+p_e_2_mean+p_e_2_std+p_e_4_mean+p_e_4_std+p_e_8_mean+p_e_8_std+k_mean+k_std+se_mean+se_std+msf_std+sef90_std+sef95_std+b_std+b_n_std+g_std+g_n_std+t_std+t_n_std+d_mean+d_std+d_n_std+a_n_std+a_std+CNV_mean+CNV_std+P1_mean+P1_std+P3a_mean+P3a_std+P3b_mean+P3b_std+(1|participant)\n",
      "\n",
      "Family: binomial\t Inference: parametric\n",
      "\n",
      "Number of observations: 429\t Groups: {'participant': 22.0}\n",
      "\n",
      "Log-likelihood: -284.761 \t AIC: 657.523\n",
      "\n",
      "Random effects:\n",
      "\n",
      "                    Name  Var  Std\n",
      "participant  (Intercept)  0.0  0.0\n",
      "\n",
      "No random effect correlations specified\n",
      "\n",
      "Fixed effects:\n",
      "\n",
      "boundary (singular) fit: see ?isSingular \n",
      "\n",
      "Linear mixed model fit by maximum likelihood  ['lmerMod']\n",
      "Formula: mind_numeric~wSMI_1_mean+wSMI_1_std+wSMI_2_mean+wSMI_2_std+wSMI_4_mean+wSMI_4_std+wSMI_8_mean+wSMI_8_std+p_e_1_mean+p_e_1_std+p_e_2_mean+p_e_2_std+p_e_4_mean+p_e_4_std+p_e_8_mean+p_e_8_std+k_mean+k_std+se_mean+se_std+msf_std+sef90_std+sef95_std+b_std+b_n_std+g_std+g_n_std+t_std+t_n_std+d_mean+d_std+d_n_std+a_n_std+a_std+CNV_mean+CNV_std+P1_mean+P1_std+P3a_mean+P3a_std+P3b_mean+P3b_std+(1|participant)\n",
      "\n",
      "Family: binomial\t Inference: parametric\n",
      "\n",
      "Number of observations: 429\t Groups: {'participant': 22.0}\n",
      "\n",
      "Log-likelihood: -280.344 \t AIC: 648.688\n",
      "\n",
      "Random effects:\n",
      "\n",
      "                    Name  Var  Std\n",
      "participant  (Intercept)  0.0  0.0\n",
      "\n",
      "No random effect correlations specified\n",
      "\n",
      "Fixed effects:\n",
      "\n"
     ]
    },
    {
     "name": "stderr",
     "output_type": "stream",
     "text": [
      "Permutation Test: 100%|██████████| 100/100 [18:36<00:00, 11.16s/it]\n",
      "KFold Iteration: 5it [1:48:27, 1301.46s/it]"
     ]
    },
    {
     "name": "stdout",
     "output_type": "stream",
     "text": [
      "boundary (singular) fit: see ?isSingular \n",
      "\n",
      "Linear mixed model fit by maximum likelihood  ['lmerMod']\n",
      "Formula: mind_numeric~wSMI_1_mean+wSMI_1_std+wSMI_2_mean+wSMI_2_std+wSMI_4_mean+wSMI_4_std+wSMI_8_mean+wSMI_8_std+p_e_1_mean+p_e_1_std+p_e_2_mean+p_e_2_std+p_e_4_mean+p_e_4_std+p_e_8_mean+p_e_8_std+k_mean+k_std+se_mean+se_std+msf_std+sef90_std+sef95_std+b_std+b_n_std+g_std+g_n_std+t_std+t_n_std+d_mean+d_std+d_n_std+a_n_std+a_std+CNV_mean+CNV_std+P1_mean+P1_std+P3a_mean+P3a_std+P3b_mean+P3b_std+(1|participant)\n",
      "\n",
      "Family: binomial\t Inference: parametric\n",
      "\n",
      "Number of observations: 429\t Groups: {'participant': 22.0}\n",
      "\n",
      "Log-likelihood: -272.250 \t AIC: 632.501\n",
      "\n",
      "Random effects:\n",
      "\n",
      "                    Name  Var  Std\n",
      "participant  (Intercept)  0.0  0.0\n",
      "\n",
      "No random effect correlations specified\n",
      "\n",
      "Fixed effects:\n",
      "\n"
     ]
    },
    {
     "name": "stderr",
     "output_type": "stream",
     "text": [
      "\n"
     ]
    }
   ],
   "source": [
    "from pymer4.models import Lmer\n",
    "from sklearn.metrics import roc_auc_score, f1_score\n",
    "from sklearn.model_selection import StratifiedKFold\n",
    "import pandas as pd\n",
    "import numpy as np\n",
    "from tqdm import tqdm\n",
    "import os\n",
    "from scipy.special import expit  # For the logistic sigmoid function\n",
    "\n",
    "# Prepare data\n",
    "X = df_mw.drop(['mind', 'mind_numeric', 'participant'], axis=1)\n",
    "clusters = df_mw['participant']\n",
    "y = df_mw['mind_numeric']\n",
    "\n",
    "selected_features = vif_data[vif_data[\"VIF\"] <= 100][\"feature\"].tolist()\n",
    "if 'const' in selected_features:\n",
    "    selected_features.remove('const')\n",
    "\n",
    "X = X[selected_features]\n",
    "\n",
    "# Generate fixed effects formula dynamically\n",
    "fixed_effects_formula = ' + '.join(X.columns)\n",
    "\n",
    "# Initialize StratifiedKFold, and lists for actual AUC and permutation AUC scores\n",
    "skf = StratifiedKFold(n_splits=5)\n",
    "actual_auc_scores = []\n",
    "perm_auc_scores_all = []\n",
    "optimal_cutoffs = []\n",
    "\n",
    "for train_index, test_index in tqdm(skf.split(X, y), desc=\"KFold Iteration\"):\n",
    "    df_train = df_mw.iloc[train_index]\n",
    "    df_test = df_mw.iloc[test_index]\n",
    "    y_test = y.iloc[test_index]\n",
    "    \n",
    "    # Fitting the GLMM model\n",
    "    formula = f\"mind_numeric ~ {fixed_effects_formula} + (1|participant)\"\n",
    "    model = Lmer(formula, data=df_train, family=\"binomial\")\n",
    "    model.fit(verbose=False)\n",
    "    \n",
    "    # Make predictions and compute AUC\n",
    "    predicted_probabilities = model.predict(df_test, use_rfx=True, verify_predictions=False)\n",
    "    auc = roc_auc_score(y_test, predicted_probabilities)\n",
    "    actual_auc_scores.append(auc)\n",
    "    \n",
    "    # Initialize list to store permutation AUC scores for this fold\n",
    "    perm_auc_scores = []\n",
    "    \n",
    "    # Initialize list to store permutation AUC scores for this fold\n",
    "    perm_auc_scores = []\n",
    "    # Permutation test (500 permutations)\n",
    "    for i in tqdm(range(100), desc=\"Permutation Test\"):\n",
    "        y_perm = np.random.permutation(df_train['mind_numeric'])\n",
    "        model_perm = Lmer(formula, data=df_train.assign(mind_numeric=y_perm), family=\"binomial\")\n",
    "        model_perm.fit(verbose=False)\n",
    "        \n",
    "        # Make predictions and compute AUC for permuted labels\n",
    "        predicted_probabilities_perm = model_perm.predict(df_test, use_rfx=True, verify_predictions=False)\n",
    "        perm_auc = roc_auc_score(y_test, predicted_probabilities_perm)\n",
    "        perm_auc_scores.append(perm_auc)\n",
    "    \n",
    "    # Add the list of scores for this fold to the master list\n",
    "    perm_auc_scores_all.append(perm_auc_scores)\n",
    "\n",
    "# Convert 2D list to DataFrame\n",
    "df_perm_mw = pd.DataFrame(perm_auc_scores_all).T\n",
    "\n",
    "# Average across folds for each permutation run\n",
    "df_perm_mw['Mean_AUC'] = df_perm_mw.mean(axis=1)\n",
    "\n",
    "# Save DataFrames to CSV\n",
    "# Assuming results_path is defined\n",
    "df_auc_mw = pd.DataFrame({'auc': actual_auc_scores, 'Model': 'Actual'})\n",
    "df_auc_mw.to_csv(os.path.join(results_path, 'GLMM_mvpa_actual_mw.csv'), index=False)\n",
    "df_perm_mw.to_csv(os.path.join(results_path, 'GLMM_mvpa_perm_mw.csv'), index=False)"
   ]
  },
  {
   "cell_type": "code",
   "execution_count": 18,
   "id": "85ca3c9c",
   "metadata": {},
   "outputs": [
    {
     "name": "stdout",
     "output_type": "stream",
     "text": [
      "0.6767755595886269\n"
     ]
    },
    {
     "data": {
      "application/vnd.plotly.v1+json": {
       "config": {
        "plotlyServerURL": "https://plot.ly"
       },
       "data": [
        {
         "alignmentgroup": "True",
         "box": {
          "visible": true
         },
         "hovertemplate": "AUC=%{x}<extra></extra>",
         "legendgroup": "",
         "marker": {
          "color": "#42B9B2"
         },
         "name": "",
         "offsetgroup": "",
         "orientation": "h",
         "points": "all",
         "scalegroup": "True",
         "showlegend": false,
         "type": "violin",
         "x": [
          0.5989655172413793,
          0.708421052631579,
          0.663859649122807,
          0.6691228070175439,
          0.7435087719298247
         ],
         "x0": " ",
         "xaxis": "x",
         "y0": " ",
         "yaxis": "y"
        }
       ],
       "layout": {
        "autosize": false,
        "height": 800,
        "legend": {
         "tracegroupgap": 0
        },
        "margin": {
         "t": 60
        },
        "shapes": [
         {
          "line": {
           "color": "grey",
           "dash": "dash",
           "width": 3
          },
          "type": "line",
          "x0": 0.5,
          "x1": 0.5,
          "xref": "x",
          "y0": 0,
          "y1": 1,
          "yref": "y domain"
         }
        ],
        "template": {
         "data": {
          "bar": [
           {
            "error_x": {
             "color": "#2a3f5f"
            },
            "error_y": {
             "color": "#2a3f5f"
            },
            "marker": {
             "line": {
              "color": "white",
              "width": 0.5
             },
             "pattern": {
              "fillmode": "overlay",
              "size": 10,
              "solidity": 0.2
             }
            },
            "type": "bar"
           }
          ],
          "barpolar": [
           {
            "marker": {
             "line": {
              "color": "white",
              "width": 0.5
             },
             "pattern": {
              "fillmode": "overlay",
              "size": 10,
              "solidity": 0.2
             }
            },
            "type": "barpolar"
           }
          ],
          "carpet": [
           {
            "aaxis": {
             "endlinecolor": "#2a3f5f",
             "gridcolor": "#C8D4E3",
             "linecolor": "#C8D4E3",
             "minorgridcolor": "#C8D4E3",
             "startlinecolor": "#2a3f5f"
            },
            "baxis": {
             "endlinecolor": "#2a3f5f",
             "gridcolor": "#C8D4E3",
             "linecolor": "#C8D4E3",
             "minorgridcolor": "#C8D4E3",
             "startlinecolor": "#2a3f5f"
            },
            "type": "carpet"
           }
          ],
          "choropleth": [
           {
            "colorbar": {
             "outlinewidth": 0,
             "ticks": ""
            },
            "type": "choropleth"
           }
          ],
          "contour": [
           {
            "colorbar": {
             "outlinewidth": 0,
             "ticks": ""
            },
            "colorscale": [
             [
              0,
              "#0d0887"
             ],
             [
              0.1111111111111111,
              "#46039f"
             ],
             [
              0.2222222222222222,
              "#7201a8"
             ],
             [
              0.3333333333333333,
              "#9c179e"
             ],
             [
              0.4444444444444444,
              "#bd3786"
             ],
             [
              0.5555555555555556,
              "#d8576b"
             ],
             [
              0.6666666666666666,
              "#ed7953"
             ],
             [
              0.7777777777777778,
              "#fb9f3a"
             ],
             [
              0.8888888888888888,
              "#fdca26"
             ],
             [
              1,
              "#f0f921"
             ]
            ],
            "type": "contour"
           }
          ],
          "contourcarpet": [
           {
            "colorbar": {
             "outlinewidth": 0,
             "ticks": ""
            },
            "type": "contourcarpet"
           }
          ],
          "heatmap": [
           {
            "colorbar": {
             "outlinewidth": 0,
             "ticks": ""
            },
            "colorscale": [
             [
              0,
              "#0d0887"
             ],
             [
              0.1111111111111111,
              "#46039f"
             ],
             [
              0.2222222222222222,
              "#7201a8"
             ],
             [
              0.3333333333333333,
              "#9c179e"
             ],
             [
              0.4444444444444444,
              "#bd3786"
             ],
             [
              0.5555555555555556,
              "#d8576b"
             ],
             [
              0.6666666666666666,
              "#ed7953"
             ],
             [
              0.7777777777777778,
              "#fb9f3a"
             ],
             [
              0.8888888888888888,
              "#fdca26"
             ],
             [
              1,
              "#f0f921"
             ]
            ],
            "type": "heatmap"
           }
          ],
          "heatmapgl": [
           {
            "colorbar": {
             "outlinewidth": 0,
             "ticks": ""
            },
            "colorscale": [
             [
              0,
              "#0d0887"
             ],
             [
              0.1111111111111111,
              "#46039f"
             ],
             [
              0.2222222222222222,
              "#7201a8"
             ],
             [
              0.3333333333333333,
              "#9c179e"
             ],
             [
              0.4444444444444444,
              "#bd3786"
             ],
             [
              0.5555555555555556,
              "#d8576b"
             ],
             [
              0.6666666666666666,
              "#ed7953"
             ],
             [
              0.7777777777777778,
              "#fb9f3a"
             ],
             [
              0.8888888888888888,
              "#fdca26"
             ],
             [
              1,
              "#f0f921"
             ]
            ],
            "type": "heatmapgl"
           }
          ],
          "histogram": [
           {
            "marker": {
             "pattern": {
              "fillmode": "overlay",
              "size": 10,
              "solidity": 0.2
             }
            },
            "type": "histogram"
           }
          ],
          "histogram2d": [
           {
            "colorbar": {
             "outlinewidth": 0,
             "ticks": ""
            },
            "colorscale": [
             [
              0,
              "#0d0887"
             ],
             [
              0.1111111111111111,
              "#46039f"
             ],
             [
              0.2222222222222222,
              "#7201a8"
             ],
             [
              0.3333333333333333,
              "#9c179e"
             ],
             [
              0.4444444444444444,
              "#bd3786"
             ],
             [
              0.5555555555555556,
              "#d8576b"
             ],
             [
              0.6666666666666666,
              "#ed7953"
             ],
             [
              0.7777777777777778,
              "#fb9f3a"
             ],
             [
              0.8888888888888888,
              "#fdca26"
             ],
             [
              1,
              "#f0f921"
             ]
            ],
            "type": "histogram2d"
           }
          ],
          "histogram2dcontour": [
           {
            "colorbar": {
             "outlinewidth": 0,
             "ticks": ""
            },
            "colorscale": [
             [
              0,
              "#0d0887"
             ],
             [
              0.1111111111111111,
              "#46039f"
             ],
             [
              0.2222222222222222,
              "#7201a8"
             ],
             [
              0.3333333333333333,
              "#9c179e"
             ],
             [
              0.4444444444444444,
              "#bd3786"
             ],
             [
              0.5555555555555556,
              "#d8576b"
             ],
             [
              0.6666666666666666,
              "#ed7953"
             ],
             [
              0.7777777777777778,
              "#fb9f3a"
             ],
             [
              0.8888888888888888,
              "#fdca26"
             ],
             [
              1,
              "#f0f921"
             ]
            ],
            "type": "histogram2dcontour"
           }
          ],
          "mesh3d": [
           {
            "colorbar": {
             "outlinewidth": 0,
             "ticks": ""
            },
            "type": "mesh3d"
           }
          ],
          "parcoords": [
           {
            "line": {
             "colorbar": {
              "outlinewidth": 0,
              "ticks": ""
             }
            },
            "type": "parcoords"
           }
          ],
          "pie": [
           {
            "automargin": true,
            "type": "pie"
           }
          ],
          "scatter": [
           {
            "marker": {
             "colorbar": {
              "outlinewidth": 0,
              "ticks": ""
             }
            },
            "type": "scatter"
           }
          ],
          "scatter3d": [
           {
            "line": {
             "colorbar": {
              "outlinewidth": 0,
              "ticks": ""
             }
            },
            "marker": {
             "colorbar": {
              "outlinewidth": 0,
              "ticks": ""
             }
            },
            "type": "scatter3d"
           }
          ],
          "scattercarpet": [
           {
            "marker": {
             "colorbar": {
              "outlinewidth": 0,
              "ticks": ""
             }
            },
            "type": "scattercarpet"
           }
          ],
          "scattergeo": [
           {
            "marker": {
             "colorbar": {
              "outlinewidth": 0,
              "ticks": ""
             }
            },
            "type": "scattergeo"
           }
          ],
          "scattergl": [
           {
            "marker": {
             "colorbar": {
              "outlinewidth": 0,
              "ticks": ""
             }
            },
            "type": "scattergl"
           }
          ],
          "scattermapbox": [
           {
            "marker": {
             "colorbar": {
              "outlinewidth": 0,
              "ticks": ""
             }
            },
            "type": "scattermapbox"
           }
          ],
          "scatterpolar": [
           {
            "marker": {
             "colorbar": {
              "outlinewidth": 0,
              "ticks": ""
             }
            },
            "type": "scatterpolar"
           }
          ],
          "scatterpolargl": [
           {
            "marker": {
             "colorbar": {
              "outlinewidth": 0,
              "ticks": ""
             }
            },
            "type": "scatterpolargl"
           }
          ],
          "scatterternary": [
           {
            "marker": {
             "colorbar": {
              "outlinewidth": 0,
              "ticks": ""
             }
            },
            "type": "scatterternary"
           }
          ],
          "surface": [
           {
            "colorbar": {
             "outlinewidth": 0,
             "ticks": ""
            },
            "colorscale": [
             [
              0,
              "#0d0887"
             ],
             [
              0.1111111111111111,
              "#46039f"
             ],
             [
              0.2222222222222222,
              "#7201a8"
             ],
             [
              0.3333333333333333,
              "#9c179e"
             ],
             [
              0.4444444444444444,
              "#bd3786"
             ],
             [
              0.5555555555555556,
              "#d8576b"
             ],
             [
              0.6666666666666666,
              "#ed7953"
             ],
             [
              0.7777777777777778,
              "#fb9f3a"
             ],
             [
              0.8888888888888888,
              "#fdca26"
             ],
             [
              1,
              "#f0f921"
             ]
            ],
            "type": "surface"
           }
          ],
          "table": [
           {
            "cells": {
             "fill": {
              "color": "#EBF0F8"
             },
             "line": {
              "color": "white"
             }
            },
            "header": {
             "fill": {
              "color": "#C8D4E3"
             },
             "line": {
              "color": "white"
             }
            },
            "type": "table"
           }
          ]
         },
         "layout": {
          "annotationdefaults": {
           "arrowcolor": "#2a3f5f",
           "arrowhead": 0,
           "arrowwidth": 1
          },
          "autotypenumbers": "strict",
          "coloraxis": {
           "colorbar": {
            "outlinewidth": 0,
            "ticks": ""
           }
          },
          "colorscale": {
           "diverging": [
            [
             0,
             "#8e0152"
            ],
            [
             0.1,
             "#c51b7d"
            ],
            [
             0.2,
             "#de77ae"
            ],
            [
             0.3,
             "#f1b6da"
            ],
            [
             0.4,
             "#fde0ef"
            ],
            [
             0.5,
             "#f7f7f7"
            ],
            [
             0.6,
             "#e6f5d0"
            ],
            [
             0.7,
             "#b8e186"
            ],
            [
             0.8,
             "#7fbc41"
            ],
            [
             0.9,
             "#4d9221"
            ],
            [
             1,
             "#276419"
            ]
           ],
           "sequential": [
            [
             0,
             "#0d0887"
            ],
            [
             0.1111111111111111,
             "#46039f"
            ],
            [
             0.2222222222222222,
             "#7201a8"
            ],
            [
             0.3333333333333333,
             "#9c179e"
            ],
            [
             0.4444444444444444,
             "#bd3786"
            ],
            [
             0.5555555555555556,
             "#d8576b"
            ],
            [
             0.6666666666666666,
             "#ed7953"
            ],
            [
             0.7777777777777778,
             "#fb9f3a"
            ],
            [
             0.8888888888888888,
             "#fdca26"
            ],
            [
             1,
             "#f0f921"
            ]
           ],
           "sequentialminus": [
            [
             0,
             "#0d0887"
            ],
            [
             0.1111111111111111,
             "#46039f"
            ],
            [
             0.2222222222222222,
             "#7201a8"
            ],
            [
             0.3333333333333333,
             "#9c179e"
            ],
            [
             0.4444444444444444,
             "#bd3786"
            ],
            [
             0.5555555555555556,
             "#d8576b"
            ],
            [
             0.6666666666666666,
             "#ed7953"
            ],
            [
             0.7777777777777778,
             "#fb9f3a"
            ],
            [
             0.8888888888888888,
             "#fdca26"
            ],
            [
             1,
             "#f0f921"
            ]
           ]
          },
          "colorway": [
           "#636efa",
           "#EF553B",
           "#00cc96",
           "#ab63fa",
           "#FFA15A",
           "#19d3f3",
           "#FF6692",
           "#B6E880",
           "#FF97FF",
           "#FECB52"
          ],
          "font": {
           "color": "#2a3f5f"
          },
          "geo": {
           "bgcolor": "white",
           "lakecolor": "white",
           "landcolor": "white",
           "showlakes": true,
           "showland": true,
           "subunitcolor": "#C8D4E3"
          },
          "hoverlabel": {
           "align": "left"
          },
          "hovermode": "closest",
          "mapbox": {
           "style": "light"
          },
          "paper_bgcolor": "white",
          "plot_bgcolor": "white",
          "polar": {
           "angularaxis": {
            "gridcolor": "#EBF0F8",
            "linecolor": "#EBF0F8",
            "ticks": ""
           },
           "bgcolor": "white",
           "radialaxis": {
            "gridcolor": "#EBF0F8",
            "linecolor": "#EBF0F8",
            "ticks": ""
           }
          },
          "scene": {
           "xaxis": {
            "backgroundcolor": "white",
            "gridcolor": "#DFE8F3",
            "gridwidth": 2,
            "linecolor": "#EBF0F8",
            "showbackground": true,
            "ticks": "",
            "zerolinecolor": "#EBF0F8"
           },
           "yaxis": {
            "backgroundcolor": "white",
            "gridcolor": "#DFE8F3",
            "gridwidth": 2,
            "linecolor": "#EBF0F8",
            "showbackground": true,
            "ticks": "",
            "zerolinecolor": "#EBF0F8"
           },
           "zaxis": {
            "backgroundcolor": "white",
            "gridcolor": "#DFE8F3",
            "gridwidth": 2,
            "linecolor": "#EBF0F8",
            "showbackground": true,
            "ticks": "",
            "zerolinecolor": "#EBF0F8"
           }
          },
          "shapedefaults": {
           "line": {
            "color": "#2a3f5f"
           }
          },
          "ternary": {
           "aaxis": {
            "gridcolor": "#DFE8F3",
            "linecolor": "#A2B1C6",
            "ticks": ""
           },
           "baxis": {
            "gridcolor": "#DFE8F3",
            "linecolor": "#A2B1C6",
            "ticks": ""
           },
           "bgcolor": "white",
           "caxis": {
            "gridcolor": "#DFE8F3",
            "linecolor": "#A2B1C6",
            "ticks": ""
           }
          },
          "title": {
           "x": 0.05
          },
          "xaxis": {
           "automargin": true,
           "gridcolor": "#EBF0F8",
           "linecolor": "#EBF0F8",
           "ticks": "",
           "title": {
            "standoff": 15
           },
           "zerolinecolor": "#EBF0F8",
           "zerolinewidth": 2
          },
          "yaxis": {
           "automargin": true,
           "gridcolor": "#EBF0F8",
           "linecolor": "#EBF0F8",
           "ticks": "",
           "title": {
            "standoff": 15
           },
           "zerolinecolor": "#EBF0F8",
           "zerolinewidth": 2
          }
         }
        },
        "violinmode": "group",
        "width": 800,
        "xaxis": {
         "anchor": "y",
         "domain": [
          0,
          1
         ],
         "range": [
          0.2,
          1
         ],
         "title": {
          "text": "AUC"
         }
        },
        "yaxis": {
         "anchor": "x",
         "domain": [
          0,
          1
         ],
         "showticklabels": true,
         "tickmode": "linear",
         "title": {
          "text": "Whole model"
         }
        }
       }
      },
      "text/html": [
       "<div>                            <div id=\"8c496972-b326-4fc6-97bb-309285360765\" class=\"plotly-graph-div\" style=\"height:800px; width:800px;\"></div>            <script type=\"text/javascript\">                require([\"plotly\"], function(Plotly) {                    window.PLOTLYENV=window.PLOTLYENV || {};                                    if (document.getElementById(\"8c496972-b326-4fc6-97bb-309285360765\")) {                    Plotly.newPlot(                        \"8c496972-b326-4fc6-97bb-309285360765\",                        [{\"alignmentgroup\":\"True\",\"box\":{\"visible\":true},\"hovertemplate\":\"AUC=%{x}<extra></extra>\",\"legendgroup\":\"\",\"marker\":{\"color\":\"#42B9B2\"},\"name\":\"\",\"offsetgroup\":\"\",\"orientation\":\"h\",\"points\":\"all\",\"scalegroup\":\"True\",\"showlegend\":false,\"x\":[0.5989655172413793,0.708421052631579,0.663859649122807,0.6691228070175439,0.7435087719298247],\"x0\":\" \",\"xaxis\":\"x\",\"y0\":\" \",\"yaxis\":\"y\",\"type\":\"violin\"}],                        {\"template\":{\"data\":{\"barpolar\":[{\"marker\":{\"line\":{\"color\":\"white\",\"width\":0.5},\"pattern\":{\"fillmode\":\"overlay\",\"size\":10,\"solidity\":0.2}},\"type\":\"barpolar\"}],\"bar\":[{\"error_x\":{\"color\":\"#2a3f5f\"},\"error_y\":{\"color\":\"#2a3f5f\"},\"marker\":{\"line\":{\"color\":\"white\",\"width\":0.5},\"pattern\":{\"fillmode\":\"overlay\",\"size\":10,\"solidity\":0.2}},\"type\":\"bar\"}],\"carpet\":[{\"aaxis\":{\"endlinecolor\":\"#2a3f5f\",\"gridcolor\":\"#C8D4E3\",\"linecolor\":\"#C8D4E3\",\"minorgridcolor\":\"#C8D4E3\",\"startlinecolor\":\"#2a3f5f\"},\"baxis\":{\"endlinecolor\":\"#2a3f5f\",\"gridcolor\":\"#C8D4E3\",\"linecolor\":\"#C8D4E3\",\"minorgridcolor\":\"#C8D4E3\",\"startlinecolor\":\"#2a3f5f\"},\"type\":\"carpet\"}],\"choropleth\":[{\"colorbar\":{\"outlinewidth\":0,\"ticks\":\"\"},\"type\":\"choropleth\"}],\"contourcarpet\":[{\"colorbar\":{\"outlinewidth\":0,\"ticks\":\"\"},\"type\":\"contourcarpet\"}],\"contour\":[{\"colorbar\":{\"outlinewidth\":0,\"ticks\":\"\"},\"colorscale\":[[0.0,\"#0d0887\"],[0.1111111111111111,\"#46039f\"],[0.2222222222222222,\"#7201a8\"],[0.3333333333333333,\"#9c179e\"],[0.4444444444444444,\"#bd3786\"],[0.5555555555555556,\"#d8576b\"],[0.6666666666666666,\"#ed7953\"],[0.7777777777777778,\"#fb9f3a\"],[0.8888888888888888,\"#fdca26\"],[1.0,\"#f0f921\"]],\"type\":\"contour\"}],\"heatmapgl\":[{\"colorbar\":{\"outlinewidth\":0,\"ticks\":\"\"},\"colorscale\":[[0.0,\"#0d0887\"],[0.1111111111111111,\"#46039f\"],[0.2222222222222222,\"#7201a8\"],[0.3333333333333333,\"#9c179e\"],[0.4444444444444444,\"#bd3786\"],[0.5555555555555556,\"#d8576b\"],[0.6666666666666666,\"#ed7953\"],[0.7777777777777778,\"#fb9f3a\"],[0.8888888888888888,\"#fdca26\"],[1.0,\"#f0f921\"]],\"type\":\"heatmapgl\"}],\"heatmap\":[{\"colorbar\":{\"outlinewidth\":0,\"ticks\":\"\"},\"colorscale\":[[0.0,\"#0d0887\"],[0.1111111111111111,\"#46039f\"],[0.2222222222222222,\"#7201a8\"],[0.3333333333333333,\"#9c179e\"],[0.4444444444444444,\"#bd3786\"],[0.5555555555555556,\"#d8576b\"],[0.6666666666666666,\"#ed7953\"],[0.7777777777777778,\"#fb9f3a\"],[0.8888888888888888,\"#fdca26\"],[1.0,\"#f0f921\"]],\"type\":\"heatmap\"}],\"histogram2dcontour\":[{\"colorbar\":{\"outlinewidth\":0,\"ticks\":\"\"},\"colorscale\":[[0.0,\"#0d0887\"],[0.1111111111111111,\"#46039f\"],[0.2222222222222222,\"#7201a8\"],[0.3333333333333333,\"#9c179e\"],[0.4444444444444444,\"#bd3786\"],[0.5555555555555556,\"#d8576b\"],[0.6666666666666666,\"#ed7953\"],[0.7777777777777778,\"#fb9f3a\"],[0.8888888888888888,\"#fdca26\"],[1.0,\"#f0f921\"]],\"type\":\"histogram2dcontour\"}],\"histogram2d\":[{\"colorbar\":{\"outlinewidth\":0,\"ticks\":\"\"},\"colorscale\":[[0.0,\"#0d0887\"],[0.1111111111111111,\"#46039f\"],[0.2222222222222222,\"#7201a8\"],[0.3333333333333333,\"#9c179e\"],[0.4444444444444444,\"#bd3786\"],[0.5555555555555556,\"#d8576b\"],[0.6666666666666666,\"#ed7953\"],[0.7777777777777778,\"#fb9f3a\"],[0.8888888888888888,\"#fdca26\"],[1.0,\"#f0f921\"]],\"type\":\"histogram2d\"}],\"histogram\":[{\"marker\":{\"pattern\":{\"fillmode\":\"overlay\",\"size\":10,\"solidity\":0.2}},\"type\":\"histogram\"}],\"mesh3d\":[{\"colorbar\":{\"outlinewidth\":0,\"ticks\":\"\"},\"type\":\"mesh3d\"}],\"parcoords\":[{\"line\":{\"colorbar\":{\"outlinewidth\":0,\"ticks\":\"\"}},\"type\":\"parcoords\"}],\"pie\":[{\"automargin\":true,\"type\":\"pie\"}],\"scatter3d\":[{\"line\":{\"colorbar\":{\"outlinewidth\":0,\"ticks\":\"\"}},\"marker\":{\"colorbar\":{\"outlinewidth\":0,\"ticks\":\"\"}},\"type\":\"scatter3d\"}],\"scattercarpet\":[{\"marker\":{\"colorbar\":{\"outlinewidth\":0,\"ticks\":\"\"}},\"type\":\"scattercarpet\"}],\"scattergeo\":[{\"marker\":{\"colorbar\":{\"outlinewidth\":0,\"ticks\":\"\"}},\"type\":\"scattergeo\"}],\"scattergl\":[{\"marker\":{\"colorbar\":{\"outlinewidth\":0,\"ticks\":\"\"}},\"type\":\"scattergl\"}],\"scattermapbox\":[{\"marker\":{\"colorbar\":{\"outlinewidth\":0,\"ticks\":\"\"}},\"type\":\"scattermapbox\"}],\"scatterpolargl\":[{\"marker\":{\"colorbar\":{\"outlinewidth\":0,\"ticks\":\"\"}},\"type\":\"scatterpolargl\"}],\"scatterpolar\":[{\"marker\":{\"colorbar\":{\"outlinewidth\":0,\"ticks\":\"\"}},\"type\":\"scatterpolar\"}],\"scatter\":[{\"marker\":{\"colorbar\":{\"outlinewidth\":0,\"ticks\":\"\"}},\"type\":\"scatter\"}],\"scatterternary\":[{\"marker\":{\"colorbar\":{\"outlinewidth\":0,\"ticks\":\"\"}},\"type\":\"scatterternary\"}],\"surface\":[{\"colorbar\":{\"outlinewidth\":0,\"ticks\":\"\"},\"colorscale\":[[0.0,\"#0d0887\"],[0.1111111111111111,\"#46039f\"],[0.2222222222222222,\"#7201a8\"],[0.3333333333333333,\"#9c179e\"],[0.4444444444444444,\"#bd3786\"],[0.5555555555555556,\"#d8576b\"],[0.6666666666666666,\"#ed7953\"],[0.7777777777777778,\"#fb9f3a\"],[0.8888888888888888,\"#fdca26\"],[1.0,\"#f0f921\"]],\"type\":\"surface\"}],\"table\":[{\"cells\":{\"fill\":{\"color\":\"#EBF0F8\"},\"line\":{\"color\":\"white\"}},\"header\":{\"fill\":{\"color\":\"#C8D4E3\"},\"line\":{\"color\":\"white\"}},\"type\":\"table\"}]},\"layout\":{\"annotationdefaults\":{\"arrowcolor\":\"#2a3f5f\",\"arrowhead\":0,\"arrowwidth\":1},\"autotypenumbers\":\"strict\",\"coloraxis\":{\"colorbar\":{\"outlinewidth\":0,\"ticks\":\"\"}},\"colorscale\":{\"diverging\":[[0,\"#8e0152\"],[0.1,\"#c51b7d\"],[0.2,\"#de77ae\"],[0.3,\"#f1b6da\"],[0.4,\"#fde0ef\"],[0.5,\"#f7f7f7\"],[0.6,\"#e6f5d0\"],[0.7,\"#b8e186\"],[0.8,\"#7fbc41\"],[0.9,\"#4d9221\"],[1,\"#276419\"]],\"sequential\":[[0.0,\"#0d0887\"],[0.1111111111111111,\"#46039f\"],[0.2222222222222222,\"#7201a8\"],[0.3333333333333333,\"#9c179e\"],[0.4444444444444444,\"#bd3786\"],[0.5555555555555556,\"#d8576b\"],[0.6666666666666666,\"#ed7953\"],[0.7777777777777778,\"#fb9f3a\"],[0.8888888888888888,\"#fdca26\"],[1.0,\"#f0f921\"]],\"sequentialminus\":[[0.0,\"#0d0887\"],[0.1111111111111111,\"#46039f\"],[0.2222222222222222,\"#7201a8\"],[0.3333333333333333,\"#9c179e\"],[0.4444444444444444,\"#bd3786\"],[0.5555555555555556,\"#d8576b\"],[0.6666666666666666,\"#ed7953\"],[0.7777777777777778,\"#fb9f3a\"],[0.8888888888888888,\"#fdca26\"],[1.0,\"#f0f921\"]]},\"colorway\":[\"#636efa\",\"#EF553B\",\"#00cc96\",\"#ab63fa\",\"#FFA15A\",\"#19d3f3\",\"#FF6692\",\"#B6E880\",\"#FF97FF\",\"#FECB52\"],\"font\":{\"color\":\"#2a3f5f\"},\"geo\":{\"bgcolor\":\"white\",\"lakecolor\":\"white\",\"landcolor\":\"white\",\"showlakes\":true,\"showland\":true,\"subunitcolor\":\"#C8D4E3\"},\"hoverlabel\":{\"align\":\"left\"},\"hovermode\":\"closest\",\"mapbox\":{\"style\":\"light\"},\"paper_bgcolor\":\"white\",\"plot_bgcolor\":\"white\",\"polar\":{\"angularaxis\":{\"gridcolor\":\"#EBF0F8\",\"linecolor\":\"#EBF0F8\",\"ticks\":\"\"},\"bgcolor\":\"white\",\"radialaxis\":{\"gridcolor\":\"#EBF0F8\",\"linecolor\":\"#EBF0F8\",\"ticks\":\"\"}},\"scene\":{\"xaxis\":{\"backgroundcolor\":\"white\",\"gridcolor\":\"#DFE8F3\",\"gridwidth\":2,\"linecolor\":\"#EBF0F8\",\"showbackground\":true,\"ticks\":\"\",\"zerolinecolor\":\"#EBF0F8\"},\"yaxis\":{\"backgroundcolor\":\"white\",\"gridcolor\":\"#DFE8F3\",\"gridwidth\":2,\"linecolor\":\"#EBF0F8\",\"showbackground\":true,\"ticks\":\"\",\"zerolinecolor\":\"#EBF0F8\"},\"zaxis\":{\"backgroundcolor\":\"white\",\"gridcolor\":\"#DFE8F3\",\"gridwidth\":2,\"linecolor\":\"#EBF0F8\",\"showbackground\":true,\"ticks\":\"\",\"zerolinecolor\":\"#EBF0F8\"}},\"shapedefaults\":{\"line\":{\"color\":\"#2a3f5f\"}},\"ternary\":{\"aaxis\":{\"gridcolor\":\"#DFE8F3\",\"linecolor\":\"#A2B1C6\",\"ticks\":\"\"},\"baxis\":{\"gridcolor\":\"#DFE8F3\",\"linecolor\":\"#A2B1C6\",\"ticks\":\"\"},\"bgcolor\":\"white\",\"caxis\":{\"gridcolor\":\"#DFE8F3\",\"linecolor\":\"#A2B1C6\",\"ticks\":\"\"}},\"title\":{\"x\":0.05},\"xaxis\":{\"automargin\":true,\"gridcolor\":\"#EBF0F8\",\"linecolor\":\"#EBF0F8\",\"ticks\":\"\",\"title\":{\"standoff\":15},\"zerolinecolor\":\"#EBF0F8\",\"zerolinewidth\":2},\"yaxis\":{\"automargin\":true,\"gridcolor\":\"#EBF0F8\",\"linecolor\":\"#EBF0F8\",\"ticks\":\"\",\"title\":{\"standoff\":15},\"zerolinecolor\":\"#EBF0F8\",\"zerolinewidth\":2}}},\"xaxis\":{\"anchor\":\"y\",\"domain\":[0.0,1.0],\"title\":{\"text\":\"AUC\"},\"range\":[0.2,1]},\"yaxis\":{\"anchor\":\"x\",\"domain\":[0.0,1.0],\"title\":{\"text\":\"Whole model\"},\"showticklabels\":true,\"tickmode\":\"linear\"},\"legend\":{\"tracegroupgap\":0},\"margin\":{\"t\":60},\"violinmode\":\"group\",\"shapes\":[{\"line\":{\"color\":\"grey\",\"dash\":\"dash\",\"width\":3},\"type\":\"line\",\"x0\":0.5,\"x1\":0.5,\"xref\":\"x\",\"y0\":0,\"y1\":1,\"yref\":\"y domain\"}],\"autosize\":false,\"width\":800,\"height\":800},                        {\"responsive\": true}                    ).then(function(){\n",
       "                            \n",
       "var gd = document.getElementById('8c496972-b326-4fc6-97bb-309285360765');\n",
       "var x = new MutationObserver(function (mutations, observer) {{\n",
       "        var display = window.getComputedStyle(gd).display;\n",
       "        if (!display || display === 'none') {{\n",
       "            console.log([gd, 'removed!']);\n",
       "            Plotly.purge(gd);\n",
       "            observer.disconnect();\n",
       "        }}\n",
       "}});\n",
       "\n",
       "// Listen for the removal of the full notebook cells\n",
       "var notebookContainer = gd.closest('#notebook-container');\n",
       "if (notebookContainer) {{\n",
       "    x.observe(notebookContainer, {childList: true});\n",
       "}}\n",
       "\n",
       "// Listen for the clearing of the current output cell\n",
       "var outputEl = gd.closest('.output');\n",
       "if (outputEl) {{\n",
       "    x.observe(outputEl, {childList: true});\n",
       "}}\n",
       "\n",
       "                        })                };                });            </script>        </div>"
      ]
     },
     "metadata": {},
     "output_type": "display_data"
    }
   ],
   "source": [
    "df_forest_mw = pd.read_csv(os.path.join(results_path, 'GLMM_mvpa_actual_mw.csv'))\n",
    "df_perm_mw = pd.read_csv(os.path.join(results_path, 'GLMM_mvpa_perm_mw.csv'))\n",
    "\n",
    "\n",
    "print(df_forest_mw.auc.mean())\n",
    "\n",
    "fig =px.violin(df_forest_mw, x = 'auc', box = True, points = 'all',template = \"plotly_white\", color_discrete_sequence = [lblue], labels = {'auc': 'AUC'})\n",
    "fig.add_vline(x=0.5, line_width=3, line_dash=\"dash\", line_color=\"grey\")\n",
    "\n",
    "fig.update_layout(\n",
    "#     title = f'Mean AUC = {df_forest_mind.auc.mean()}',\n",
    "    autosize=False,\n",
    "    width=800,\n",
    "    height=800,\n",
    "    yaxis = {'title': 'Whole model',\n",
    "            'showticklabels': True,\n",
    "            'tickmode': 'linear',},\n",
    "    xaxis ={\n",
    "             'range':[0.2, 1]\n",
    "        }\n",
    ")\n",
    "fig.show()\n",
    "\n",
    "fig.write_image(os.path.join(fig_path, 'multivariate_glmm_cv_mw.png'))"
   ]
  },
  {
   "cell_type": "code",
   "execution_count": 17,
   "id": "f565dbb6",
   "metadata": {},
   "outputs": [
    {
     "data": {
      "application/vnd.plotly.v1+json": {
       "config": {
        "plotlyServerURL": "https://plot.ly"
       },
       "data": [
        {
         "alignmentgroup": "True",
         "bingroup": "x",
         "hovertemplate": "Mean_AUC=%{x}<br>count=%{y}<extra></extra>",
         "legendgroup": "",
         "marker": {
          "color": "#42B9B2",
          "pattern": {
           "shape": ""
          }
         },
         "name": "",
         "nbinsx": 25,
         "offsetgroup": "",
         "orientation": "v",
         "showlegend": false,
         "type": "histogram",
         "x": [
          0.4223727210182318,
          0.4612057103543171,
          0.5077055383556932,
          0.4690918472652218,
          0.5465944272445821,
          0.5360724114207087,
          0.5290978672170623,
          0.5125429996560028,
          0.5589181286549708,
          0.4318455452356381,
          0.5284399724802201,
          0.4444917440660474,
          0.4916924664602683,
          0.5051857585139319,
          0.5581957344341245,
          0.5208634330925352,
          0.5692681458548331,
          0.5244582043343653,
          0.6019349845201238,
          0.5137555899552804,
          0.4386308909528724,
          0.4070132438940488,
          0.4360380116959065,
          0.5901831785345717,
          0.4696594427244582,
          0.4734176126590988,
          0.6087676298589612,
          0.5826754385964913,
          0.5579764361885104,
          0.5664559683522532,
          0.4594341245270038,
          0.4964611283109735,
          0.4688639490884073,
          0.5113691090471276,
          0.4534786721706226,
          0.4816047471620227,
          0.5100318197454421,
          0.4935672514619883,
          0.5556501547987617,
          0.513063295493636,
          0.4488304093567251,
          0.4590342277261782,
          0.4489551083591331,
          0.5298073615411077,
          0.518889748882009,
          0.608531131750946,
          0.4716460268317853,
          0.457890436876505,
          0.5268790849673202,
          0.4386394908840729,
          0.440673374613003,
          0.5763630890952872,
          0.5107886136910904,
          0.5194487444100447,
          0.5768102855177158,
          0.4446551427588579,
          0.4039000687994497,
          0.4821852425180598,
          0.5218094255245959,
          0.5052545579635364,
          0.3993292053663571,
          0.56156260749914,
          0.485061919504644,
          0.5655185758513932,
          0.5393661850705194,
          0.5541537667698658,
          0.4769908840729274,
          0.5020080839353286,
          0.5949346405228757,
          0.5703861369109047,
          0.5116142070863433,
          0.5157249742002064,
          0.4206097351221191,
          0.5648563811489509,
          0.4973340213278294,
          0.525421396628827,
          0.5602210182318542,
          0.4917010663914689,
          0.5663011695906432,
          0.4555641554867561,
          0.4722308221534227,
          0.4634889920880633,
          0.516107671138631,
          0.5339955280357757,
          0.5023950808393532,
          0.447265221878225,
          0.5284657722738217,
          0.4738949088407292,
          0.5317724458204334,
          0.5603973168214654,
          0.4906862745098039,
          0.5196035431716547,
          0.5246818025455797,
          0.5193197454420364,
          0.5393833849329206,
          0.5220631234950119,
          0.4708720330237358,
          0.4999785001719987,
          0.4385190918472652,
          0.5204592363261094
         ],
         "xaxis": "x",
         "yaxis": "y"
        }
       ],
       "layout": {
        "annotations": [
         {
          "align": "left",
          "arrowhead": 1,
          "showarrow": false,
          "text": "Score on original labels: <br>Mean AUC: 0.677<br>p = 0.000",
          "x": 0.7767755595886269,
          "y": 5
         }
        ],
        "autosize": false,
        "bargap": 0.05,
        "barmode": "relative",
        "font": {
         "color": "black",
         "family": "Times new roman",
         "size": 20
        },
        "height": 800,
        "legend": {
         "tracegroupgap": 0
        },
        "margin": {
         "t": 60
        },
        "shapes": [
         {
          "line": {
           "color": "grey",
           "dash": "dash",
           "width": 3
          },
          "type": "line",
          "x0": 0.6767755595886269,
          "x1": 0.6767755595886269,
          "xref": "x",
          "y0": 0,
          "y1": 1,
          "yref": "y domain"
         }
        ],
        "template": {
         "data": {
          "bar": [
           {
            "error_x": {
             "color": "#2a3f5f"
            },
            "error_y": {
             "color": "#2a3f5f"
            },
            "marker": {
             "line": {
              "color": "white",
              "width": 0.5
             },
             "pattern": {
              "fillmode": "overlay",
              "size": 10,
              "solidity": 0.2
             }
            },
            "type": "bar"
           }
          ],
          "barpolar": [
           {
            "marker": {
             "line": {
              "color": "white",
              "width": 0.5
             },
             "pattern": {
              "fillmode": "overlay",
              "size": 10,
              "solidity": 0.2
             }
            },
            "type": "barpolar"
           }
          ],
          "carpet": [
           {
            "aaxis": {
             "endlinecolor": "#2a3f5f",
             "gridcolor": "#C8D4E3",
             "linecolor": "#C8D4E3",
             "minorgridcolor": "#C8D4E3",
             "startlinecolor": "#2a3f5f"
            },
            "baxis": {
             "endlinecolor": "#2a3f5f",
             "gridcolor": "#C8D4E3",
             "linecolor": "#C8D4E3",
             "minorgridcolor": "#C8D4E3",
             "startlinecolor": "#2a3f5f"
            },
            "type": "carpet"
           }
          ],
          "choropleth": [
           {
            "colorbar": {
             "outlinewidth": 0,
             "ticks": ""
            },
            "type": "choropleth"
           }
          ],
          "contour": [
           {
            "colorbar": {
             "outlinewidth": 0,
             "ticks": ""
            },
            "colorscale": [
             [
              0,
              "#0d0887"
             ],
             [
              0.1111111111111111,
              "#46039f"
             ],
             [
              0.2222222222222222,
              "#7201a8"
             ],
             [
              0.3333333333333333,
              "#9c179e"
             ],
             [
              0.4444444444444444,
              "#bd3786"
             ],
             [
              0.5555555555555556,
              "#d8576b"
             ],
             [
              0.6666666666666666,
              "#ed7953"
             ],
             [
              0.7777777777777778,
              "#fb9f3a"
             ],
             [
              0.8888888888888888,
              "#fdca26"
             ],
             [
              1,
              "#f0f921"
             ]
            ],
            "type": "contour"
           }
          ],
          "contourcarpet": [
           {
            "colorbar": {
             "outlinewidth": 0,
             "ticks": ""
            },
            "type": "contourcarpet"
           }
          ],
          "heatmap": [
           {
            "colorbar": {
             "outlinewidth": 0,
             "ticks": ""
            },
            "colorscale": [
             [
              0,
              "#0d0887"
             ],
             [
              0.1111111111111111,
              "#46039f"
             ],
             [
              0.2222222222222222,
              "#7201a8"
             ],
             [
              0.3333333333333333,
              "#9c179e"
             ],
             [
              0.4444444444444444,
              "#bd3786"
             ],
             [
              0.5555555555555556,
              "#d8576b"
             ],
             [
              0.6666666666666666,
              "#ed7953"
             ],
             [
              0.7777777777777778,
              "#fb9f3a"
             ],
             [
              0.8888888888888888,
              "#fdca26"
             ],
             [
              1,
              "#f0f921"
             ]
            ],
            "type": "heatmap"
           }
          ],
          "heatmapgl": [
           {
            "colorbar": {
             "outlinewidth": 0,
             "ticks": ""
            },
            "colorscale": [
             [
              0,
              "#0d0887"
             ],
             [
              0.1111111111111111,
              "#46039f"
             ],
             [
              0.2222222222222222,
              "#7201a8"
             ],
             [
              0.3333333333333333,
              "#9c179e"
             ],
             [
              0.4444444444444444,
              "#bd3786"
             ],
             [
              0.5555555555555556,
              "#d8576b"
             ],
             [
              0.6666666666666666,
              "#ed7953"
             ],
             [
              0.7777777777777778,
              "#fb9f3a"
             ],
             [
              0.8888888888888888,
              "#fdca26"
             ],
             [
              1,
              "#f0f921"
             ]
            ],
            "type": "heatmapgl"
           }
          ],
          "histogram": [
           {
            "marker": {
             "pattern": {
              "fillmode": "overlay",
              "size": 10,
              "solidity": 0.2
             }
            },
            "type": "histogram"
           }
          ],
          "histogram2d": [
           {
            "colorbar": {
             "outlinewidth": 0,
             "ticks": ""
            },
            "colorscale": [
             [
              0,
              "#0d0887"
             ],
             [
              0.1111111111111111,
              "#46039f"
             ],
             [
              0.2222222222222222,
              "#7201a8"
             ],
             [
              0.3333333333333333,
              "#9c179e"
             ],
             [
              0.4444444444444444,
              "#bd3786"
             ],
             [
              0.5555555555555556,
              "#d8576b"
             ],
             [
              0.6666666666666666,
              "#ed7953"
             ],
             [
              0.7777777777777778,
              "#fb9f3a"
             ],
             [
              0.8888888888888888,
              "#fdca26"
             ],
             [
              1,
              "#f0f921"
             ]
            ],
            "type": "histogram2d"
           }
          ],
          "histogram2dcontour": [
           {
            "colorbar": {
             "outlinewidth": 0,
             "ticks": ""
            },
            "colorscale": [
             [
              0,
              "#0d0887"
             ],
             [
              0.1111111111111111,
              "#46039f"
             ],
             [
              0.2222222222222222,
              "#7201a8"
             ],
             [
              0.3333333333333333,
              "#9c179e"
             ],
             [
              0.4444444444444444,
              "#bd3786"
             ],
             [
              0.5555555555555556,
              "#d8576b"
             ],
             [
              0.6666666666666666,
              "#ed7953"
             ],
             [
              0.7777777777777778,
              "#fb9f3a"
             ],
             [
              0.8888888888888888,
              "#fdca26"
             ],
             [
              1,
              "#f0f921"
             ]
            ],
            "type": "histogram2dcontour"
           }
          ],
          "mesh3d": [
           {
            "colorbar": {
             "outlinewidth": 0,
             "ticks": ""
            },
            "type": "mesh3d"
           }
          ],
          "parcoords": [
           {
            "line": {
             "colorbar": {
              "outlinewidth": 0,
              "ticks": ""
             }
            },
            "type": "parcoords"
           }
          ],
          "pie": [
           {
            "automargin": true,
            "type": "pie"
           }
          ],
          "scatter": [
           {
            "marker": {
             "colorbar": {
              "outlinewidth": 0,
              "ticks": ""
             }
            },
            "type": "scatter"
           }
          ],
          "scatter3d": [
           {
            "line": {
             "colorbar": {
              "outlinewidth": 0,
              "ticks": ""
             }
            },
            "marker": {
             "colorbar": {
              "outlinewidth": 0,
              "ticks": ""
             }
            },
            "type": "scatter3d"
           }
          ],
          "scattercarpet": [
           {
            "marker": {
             "colorbar": {
              "outlinewidth": 0,
              "ticks": ""
             }
            },
            "type": "scattercarpet"
           }
          ],
          "scattergeo": [
           {
            "marker": {
             "colorbar": {
              "outlinewidth": 0,
              "ticks": ""
             }
            },
            "type": "scattergeo"
           }
          ],
          "scattergl": [
           {
            "marker": {
             "colorbar": {
              "outlinewidth": 0,
              "ticks": ""
             }
            },
            "type": "scattergl"
           }
          ],
          "scattermapbox": [
           {
            "marker": {
             "colorbar": {
              "outlinewidth": 0,
              "ticks": ""
             }
            },
            "type": "scattermapbox"
           }
          ],
          "scatterpolar": [
           {
            "marker": {
             "colorbar": {
              "outlinewidth": 0,
              "ticks": ""
             }
            },
            "type": "scatterpolar"
           }
          ],
          "scatterpolargl": [
           {
            "marker": {
             "colorbar": {
              "outlinewidth": 0,
              "ticks": ""
             }
            },
            "type": "scatterpolargl"
           }
          ],
          "scatterternary": [
           {
            "marker": {
             "colorbar": {
              "outlinewidth": 0,
              "ticks": ""
             }
            },
            "type": "scatterternary"
           }
          ],
          "surface": [
           {
            "colorbar": {
             "outlinewidth": 0,
             "ticks": ""
            },
            "colorscale": [
             [
              0,
              "#0d0887"
             ],
             [
              0.1111111111111111,
              "#46039f"
             ],
             [
              0.2222222222222222,
              "#7201a8"
             ],
             [
              0.3333333333333333,
              "#9c179e"
             ],
             [
              0.4444444444444444,
              "#bd3786"
             ],
             [
              0.5555555555555556,
              "#d8576b"
             ],
             [
              0.6666666666666666,
              "#ed7953"
             ],
             [
              0.7777777777777778,
              "#fb9f3a"
             ],
             [
              0.8888888888888888,
              "#fdca26"
             ],
             [
              1,
              "#f0f921"
             ]
            ],
            "type": "surface"
           }
          ],
          "table": [
           {
            "cells": {
             "fill": {
              "color": "#EBF0F8"
             },
             "line": {
              "color": "white"
             }
            },
            "header": {
             "fill": {
              "color": "#C8D4E3"
             },
             "line": {
              "color": "white"
             }
            },
            "type": "table"
           }
          ]
         },
         "layout": {
          "annotationdefaults": {
           "arrowcolor": "#2a3f5f",
           "arrowhead": 0,
           "arrowwidth": 1
          },
          "autotypenumbers": "strict",
          "coloraxis": {
           "colorbar": {
            "outlinewidth": 0,
            "ticks": ""
           }
          },
          "colorscale": {
           "diverging": [
            [
             0,
             "#8e0152"
            ],
            [
             0.1,
             "#c51b7d"
            ],
            [
             0.2,
             "#de77ae"
            ],
            [
             0.3,
             "#f1b6da"
            ],
            [
             0.4,
             "#fde0ef"
            ],
            [
             0.5,
             "#f7f7f7"
            ],
            [
             0.6,
             "#e6f5d0"
            ],
            [
             0.7,
             "#b8e186"
            ],
            [
             0.8,
             "#7fbc41"
            ],
            [
             0.9,
             "#4d9221"
            ],
            [
             1,
             "#276419"
            ]
           ],
           "sequential": [
            [
             0,
             "#0d0887"
            ],
            [
             0.1111111111111111,
             "#46039f"
            ],
            [
             0.2222222222222222,
             "#7201a8"
            ],
            [
             0.3333333333333333,
             "#9c179e"
            ],
            [
             0.4444444444444444,
             "#bd3786"
            ],
            [
             0.5555555555555556,
             "#d8576b"
            ],
            [
             0.6666666666666666,
             "#ed7953"
            ],
            [
             0.7777777777777778,
             "#fb9f3a"
            ],
            [
             0.8888888888888888,
             "#fdca26"
            ],
            [
             1,
             "#f0f921"
            ]
           ],
           "sequentialminus": [
            [
             0,
             "#0d0887"
            ],
            [
             0.1111111111111111,
             "#46039f"
            ],
            [
             0.2222222222222222,
             "#7201a8"
            ],
            [
             0.3333333333333333,
             "#9c179e"
            ],
            [
             0.4444444444444444,
             "#bd3786"
            ],
            [
             0.5555555555555556,
             "#d8576b"
            ],
            [
             0.6666666666666666,
             "#ed7953"
            ],
            [
             0.7777777777777778,
             "#fb9f3a"
            ],
            [
             0.8888888888888888,
             "#fdca26"
            ],
            [
             1,
             "#f0f921"
            ]
           ]
          },
          "colorway": [
           "#636efa",
           "#EF553B",
           "#00cc96",
           "#ab63fa",
           "#FFA15A",
           "#19d3f3",
           "#FF6692",
           "#B6E880",
           "#FF97FF",
           "#FECB52"
          ],
          "font": {
           "color": "#2a3f5f"
          },
          "geo": {
           "bgcolor": "white",
           "lakecolor": "white",
           "landcolor": "white",
           "showlakes": true,
           "showland": true,
           "subunitcolor": "#C8D4E3"
          },
          "hoverlabel": {
           "align": "left"
          },
          "hovermode": "closest",
          "mapbox": {
           "style": "light"
          },
          "paper_bgcolor": "white",
          "plot_bgcolor": "white",
          "polar": {
           "angularaxis": {
            "gridcolor": "#EBF0F8",
            "linecolor": "#EBF0F8",
            "ticks": ""
           },
           "bgcolor": "white",
           "radialaxis": {
            "gridcolor": "#EBF0F8",
            "linecolor": "#EBF0F8",
            "ticks": ""
           }
          },
          "scene": {
           "xaxis": {
            "backgroundcolor": "white",
            "gridcolor": "#DFE8F3",
            "gridwidth": 2,
            "linecolor": "#EBF0F8",
            "showbackground": true,
            "ticks": "",
            "zerolinecolor": "#EBF0F8"
           },
           "yaxis": {
            "backgroundcolor": "white",
            "gridcolor": "#DFE8F3",
            "gridwidth": 2,
            "linecolor": "#EBF0F8",
            "showbackground": true,
            "ticks": "",
            "zerolinecolor": "#EBF0F8"
           },
           "zaxis": {
            "backgroundcolor": "white",
            "gridcolor": "#DFE8F3",
            "gridwidth": 2,
            "linecolor": "#EBF0F8",
            "showbackground": true,
            "ticks": "",
            "zerolinecolor": "#EBF0F8"
           }
          },
          "shapedefaults": {
           "line": {
            "color": "#2a3f5f"
           }
          },
          "ternary": {
           "aaxis": {
            "gridcolor": "#DFE8F3",
            "linecolor": "#A2B1C6",
            "ticks": ""
           },
           "baxis": {
            "gridcolor": "#DFE8F3",
            "linecolor": "#A2B1C6",
            "ticks": ""
           },
           "bgcolor": "white",
           "caxis": {
            "gridcolor": "#DFE8F3",
            "linecolor": "#A2B1C6",
            "ticks": ""
           }
          },
          "title": {
           "x": 0.05
          },
          "xaxis": {
           "automargin": true,
           "gridcolor": "#EBF0F8",
           "linecolor": "#EBF0F8",
           "ticks": "",
           "title": {
            "standoff": 15
           },
           "zerolinecolor": "#EBF0F8",
           "zerolinewidth": 2
          },
          "yaxis": {
           "automargin": true,
           "gridcolor": "#EBF0F8",
           "linecolor": "#EBF0F8",
           "ticks": "",
           "title": {
            "standoff": 15
           },
           "zerolinecolor": "#EBF0F8",
           "zerolinewidth": 2
          }
         }
        },
        "width": 800,
        "xaxis": {
         "anchor": "y",
         "domain": [
          0,
          1
         ],
         "range": [
          0.25,
          0.8
         ],
         "tickfont": {
          "size": 20
         },
         "title": {
          "text": "CV AUC"
         }
        },
        "yaxis": {
         "anchor": "x",
         "domain": [
          0,
          1
         ],
         "tickfont": {
          "size": 20
         },
         "title": {
          "text": ""
         }
        }
       }
      },
      "text/html": [
       "<div>                            <div id=\"8cc9967e-e28b-48ca-9fba-43d02f3aabaf\" class=\"plotly-graph-div\" style=\"height:800px; width:800px;\"></div>            <script type=\"text/javascript\">                require([\"plotly\"], function(Plotly) {                    window.PLOTLYENV=window.PLOTLYENV || {};                                    if (document.getElementById(\"8cc9967e-e28b-48ca-9fba-43d02f3aabaf\")) {                    Plotly.newPlot(                        \"8cc9967e-e28b-48ca-9fba-43d02f3aabaf\",                        [{\"alignmentgroup\":\"True\",\"bingroup\":\"x\",\"hovertemplate\":\"Mean_AUC=%{x}<br>count=%{y}<extra></extra>\",\"legendgroup\":\"\",\"marker\":{\"color\":\"#42B9B2\",\"pattern\":{\"shape\":\"\"}},\"name\":\"\",\"nbinsx\":25,\"offsetgroup\":\"\",\"orientation\":\"v\",\"showlegend\":false,\"x\":[0.4223727210182318,0.4612057103543171,0.5077055383556932,0.4690918472652218,0.5465944272445821,0.5360724114207087,0.5290978672170623,0.5125429996560028,0.5589181286549708,0.4318455452356381,0.5284399724802201,0.4444917440660474,0.4916924664602683,0.5051857585139319,0.5581957344341245,0.5208634330925352,0.5692681458548331,0.5244582043343653,0.6019349845201238,0.5137555899552804,0.4386308909528724,0.4070132438940488,0.4360380116959065,0.5901831785345717,0.4696594427244582,0.4734176126590988,0.6087676298589612,0.5826754385964913,0.5579764361885104,0.5664559683522532,0.4594341245270038,0.4964611283109735,0.4688639490884073,0.5113691090471276,0.4534786721706226,0.4816047471620227,0.5100318197454421,0.4935672514619883,0.5556501547987617,0.513063295493636,0.4488304093567251,0.4590342277261782,0.4489551083591331,0.5298073615411077,0.518889748882009,0.608531131750946,0.4716460268317853,0.457890436876505,0.5268790849673202,0.4386394908840729,0.440673374613003,0.5763630890952872,0.5107886136910904,0.5194487444100447,0.5768102855177158,0.4446551427588579,0.4039000687994497,0.4821852425180598,0.5218094255245959,0.5052545579635364,0.3993292053663571,0.56156260749914,0.485061919504644,0.5655185758513932,0.5393661850705194,0.5541537667698658,0.4769908840729274,0.5020080839353286,0.5949346405228757,0.5703861369109047,0.5116142070863433,0.5157249742002064,0.4206097351221191,0.5648563811489509,0.4973340213278294,0.525421396628827,0.5602210182318542,0.4917010663914689,0.5663011695906432,0.4555641554867561,0.4722308221534227,0.4634889920880633,0.516107671138631,0.5339955280357757,0.5023950808393532,0.447265221878225,0.5284657722738217,0.4738949088407292,0.5317724458204334,0.5603973168214654,0.4906862745098039,0.5196035431716547,0.5246818025455797,0.5193197454420364,0.5393833849329206,0.5220631234950119,0.4708720330237358,0.4999785001719987,0.4385190918472652,0.5204592363261094],\"xaxis\":\"x\",\"yaxis\":\"y\",\"type\":\"histogram\"}],                        {\"template\":{\"data\":{\"barpolar\":[{\"marker\":{\"line\":{\"color\":\"white\",\"width\":0.5},\"pattern\":{\"fillmode\":\"overlay\",\"size\":10,\"solidity\":0.2}},\"type\":\"barpolar\"}],\"bar\":[{\"error_x\":{\"color\":\"#2a3f5f\"},\"error_y\":{\"color\":\"#2a3f5f\"},\"marker\":{\"line\":{\"color\":\"white\",\"width\":0.5},\"pattern\":{\"fillmode\":\"overlay\",\"size\":10,\"solidity\":0.2}},\"type\":\"bar\"}],\"carpet\":[{\"aaxis\":{\"endlinecolor\":\"#2a3f5f\",\"gridcolor\":\"#C8D4E3\",\"linecolor\":\"#C8D4E3\",\"minorgridcolor\":\"#C8D4E3\",\"startlinecolor\":\"#2a3f5f\"},\"baxis\":{\"endlinecolor\":\"#2a3f5f\",\"gridcolor\":\"#C8D4E3\",\"linecolor\":\"#C8D4E3\",\"minorgridcolor\":\"#C8D4E3\",\"startlinecolor\":\"#2a3f5f\"},\"type\":\"carpet\"}],\"choropleth\":[{\"colorbar\":{\"outlinewidth\":0,\"ticks\":\"\"},\"type\":\"choropleth\"}],\"contourcarpet\":[{\"colorbar\":{\"outlinewidth\":0,\"ticks\":\"\"},\"type\":\"contourcarpet\"}],\"contour\":[{\"colorbar\":{\"outlinewidth\":0,\"ticks\":\"\"},\"colorscale\":[[0.0,\"#0d0887\"],[0.1111111111111111,\"#46039f\"],[0.2222222222222222,\"#7201a8\"],[0.3333333333333333,\"#9c179e\"],[0.4444444444444444,\"#bd3786\"],[0.5555555555555556,\"#d8576b\"],[0.6666666666666666,\"#ed7953\"],[0.7777777777777778,\"#fb9f3a\"],[0.8888888888888888,\"#fdca26\"],[1.0,\"#f0f921\"]],\"type\":\"contour\"}],\"heatmapgl\":[{\"colorbar\":{\"outlinewidth\":0,\"ticks\":\"\"},\"colorscale\":[[0.0,\"#0d0887\"],[0.1111111111111111,\"#46039f\"],[0.2222222222222222,\"#7201a8\"],[0.3333333333333333,\"#9c179e\"],[0.4444444444444444,\"#bd3786\"],[0.5555555555555556,\"#d8576b\"],[0.6666666666666666,\"#ed7953\"],[0.7777777777777778,\"#fb9f3a\"],[0.8888888888888888,\"#fdca26\"],[1.0,\"#f0f921\"]],\"type\":\"heatmapgl\"}],\"heatmap\":[{\"colorbar\":{\"outlinewidth\":0,\"ticks\":\"\"},\"colorscale\":[[0.0,\"#0d0887\"],[0.1111111111111111,\"#46039f\"],[0.2222222222222222,\"#7201a8\"],[0.3333333333333333,\"#9c179e\"],[0.4444444444444444,\"#bd3786\"],[0.5555555555555556,\"#d8576b\"],[0.6666666666666666,\"#ed7953\"],[0.7777777777777778,\"#fb9f3a\"],[0.8888888888888888,\"#fdca26\"],[1.0,\"#f0f921\"]],\"type\":\"heatmap\"}],\"histogram2dcontour\":[{\"colorbar\":{\"outlinewidth\":0,\"ticks\":\"\"},\"colorscale\":[[0.0,\"#0d0887\"],[0.1111111111111111,\"#46039f\"],[0.2222222222222222,\"#7201a8\"],[0.3333333333333333,\"#9c179e\"],[0.4444444444444444,\"#bd3786\"],[0.5555555555555556,\"#d8576b\"],[0.6666666666666666,\"#ed7953\"],[0.7777777777777778,\"#fb9f3a\"],[0.8888888888888888,\"#fdca26\"],[1.0,\"#f0f921\"]],\"type\":\"histogram2dcontour\"}],\"histogram2d\":[{\"colorbar\":{\"outlinewidth\":0,\"ticks\":\"\"},\"colorscale\":[[0.0,\"#0d0887\"],[0.1111111111111111,\"#46039f\"],[0.2222222222222222,\"#7201a8\"],[0.3333333333333333,\"#9c179e\"],[0.4444444444444444,\"#bd3786\"],[0.5555555555555556,\"#d8576b\"],[0.6666666666666666,\"#ed7953\"],[0.7777777777777778,\"#fb9f3a\"],[0.8888888888888888,\"#fdca26\"],[1.0,\"#f0f921\"]],\"type\":\"histogram2d\"}],\"histogram\":[{\"marker\":{\"pattern\":{\"fillmode\":\"overlay\",\"size\":10,\"solidity\":0.2}},\"type\":\"histogram\"}],\"mesh3d\":[{\"colorbar\":{\"outlinewidth\":0,\"ticks\":\"\"},\"type\":\"mesh3d\"}],\"parcoords\":[{\"line\":{\"colorbar\":{\"outlinewidth\":0,\"ticks\":\"\"}},\"type\":\"parcoords\"}],\"pie\":[{\"automargin\":true,\"type\":\"pie\"}],\"scatter3d\":[{\"line\":{\"colorbar\":{\"outlinewidth\":0,\"ticks\":\"\"}},\"marker\":{\"colorbar\":{\"outlinewidth\":0,\"ticks\":\"\"}},\"type\":\"scatter3d\"}],\"scattercarpet\":[{\"marker\":{\"colorbar\":{\"outlinewidth\":0,\"ticks\":\"\"}},\"type\":\"scattercarpet\"}],\"scattergeo\":[{\"marker\":{\"colorbar\":{\"outlinewidth\":0,\"ticks\":\"\"}},\"type\":\"scattergeo\"}],\"scattergl\":[{\"marker\":{\"colorbar\":{\"outlinewidth\":0,\"ticks\":\"\"}},\"type\":\"scattergl\"}],\"scattermapbox\":[{\"marker\":{\"colorbar\":{\"outlinewidth\":0,\"ticks\":\"\"}},\"type\":\"scattermapbox\"}],\"scatterpolargl\":[{\"marker\":{\"colorbar\":{\"outlinewidth\":0,\"ticks\":\"\"}},\"type\":\"scatterpolargl\"}],\"scatterpolar\":[{\"marker\":{\"colorbar\":{\"outlinewidth\":0,\"ticks\":\"\"}},\"type\":\"scatterpolar\"}],\"scatter\":[{\"marker\":{\"colorbar\":{\"outlinewidth\":0,\"ticks\":\"\"}},\"type\":\"scatter\"}],\"scatterternary\":[{\"marker\":{\"colorbar\":{\"outlinewidth\":0,\"ticks\":\"\"}},\"type\":\"scatterternary\"}],\"surface\":[{\"colorbar\":{\"outlinewidth\":0,\"ticks\":\"\"},\"colorscale\":[[0.0,\"#0d0887\"],[0.1111111111111111,\"#46039f\"],[0.2222222222222222,\"#7201a8\"],[0.3333333333333333,\"#9c179e\"],[0.4444444444444444,\"#bd3786\"],[0.5555555555555556,\"#d8576b\"],[0.6666666666666666,\"#ed7953\"],[0.7777777777777778,\"#fb9f3a\"],[0.8888888888888888,\"#fdca26\"],[1.0,\"#f0f921\"]],\"type\":\"surface\"}],\"table\":[{\"cells\":{\"fill\":{\"color\":\"#EBF0F8\"},\"line\":{\"color\":\"white\"}},\"header\":{\"fill\":{\"color\":\"#C8D4E3\"},\"line\":{\"color\":\"white\"}},\"type\":\"table\"}]},\"layout\":{\"annotationdefaults\":{\"arrowcolor\":\"#2a3f5f\",\"arrowhead\":0,\"arrowwidth\":1},\"autotypenumbers\":\"strict\",\"coloraxis\":{\"colorbar\":{\"outlinewidth\":0,\"ticks\":\"\"}},\"colorscale\":{\"diverging\":[[0,\"#8e0152\"],[0.1,\"#c51b7d\"],[0.2,\"#de77ae\"],[0.3,\"#f1b6da\"],[0.4,\"#fde0ef\"],[0.5,\"#f7f7f7\"],[0.6,\"#e6f5d0\"],[0.7,\"#b8e186\"],[0.8,\"#7fbc41\"],[0.9,\"#4d9221\"],[1,\"#276419\"]],\"sequential\":[[0.0,\"#0d0887\"],[0.1111111111111111,\"#46039f\"],[0.2222222222222222,\"#7201a8\"],[0.3333333333333333,\"#9c179e\"],[0.4444444444444444,\"#bd3786\"],[0.5555555555555556,\"#d8576b\"],[0.6666666666666666,\"#ed7953\"],[0.7777777777777778,\"#fb9f3a\"],[0.8888888888888888,\"#fdca26\"],[1.0,\"#f0f921\"]],\"sequentialminus\":[[0.0,\"#0d0887\"],[0.1111111111111111,\"#46039f\"],[0.2222222222222222,\"#7201a8\"],[0.3333333333333333,\"#9c179e\"],[0.4444444444444444,\"#bd3786\"],[0.5555555555555556,\"#d8576b\"],[0.6666666666666666,\"#ed7953\"],[0.7777777777777778,\"#fb9f3a\"],[0.8888888888888888,\"#fdca26\"],[1.0,\"#f0f921\"]]},\"colorway\":[\"#636efa\",\"#EF553B\",\"#00cc96\",\"#ab63fa\",\"#FFA15A\",\"#19d3f3\",\"#FF6692\",\"#B6E880\",\"#FF97FF\",\"#FECB52\"],\"font\":{\"color\":\"#2a3f5f\"},\"geo\":{\"bgcolor\":\"white\",\"lakecolor\":\"white\",\"landcolor\":\"white\",\"showlakes\":true,\"showland\":true,\"subunitcolor\":\"#C8D4E3\"},\"hoverlabel\":{\"align\":\"left\"},\"hovermode\":\"closest\",\"mapbox\":{\"style\":\"light\"},\"paper_bgcolor\":\"white\",\"plot_bgcolor\":\"white\",\"polar\":{\"angularaxis\":{\"gridcolor\":\"#EBF0F8\",\"linecolor\":\"#EBF0F8\",\"ticks\":\"\"},\"bgcolor\":\"white\",\"radialaxis\":{\"gridcolor\":\"#EBF0F8\",\"linecolor\":\"#EBF0F8\",\"ticks\":\"\"}},\"scene\":{\"xaxis\":{\"backgroundcolor\":\"white\",\"gridcolor\":\"#DFE8F3\",\"gridwidth\":2,\"linecolor\":\"#EBF0F8\",\"showbackground\":true,\"ticks\":\"\",\"zerolinecolor\":\"#EBF0F8\"},\"yaxis\":{\"backgroundcolor\":\"white\",\"gridcolor\":\"#DFE8F3\",\"gridwidth\":2,\"linecolor\":\"#EBF0F8\",\"showbackground\":true,\"ticks\":\"\",\"zerolinecolor\":\"#EBF0F8\"},\"zaxis\":{\"backgroundcolor\":\"white\",\"gridcolor\":\"#DFE8F3\",\"gridwidth\":2,\"linecolor\":\"#EBF0F8\",\"showbackground\":true,\"ticks\":\"\",\"zerolinecolor\":\"#EBF0F8\"}},\"shapedefaults\":{\"line\":{\"color\":\"#2a3f5f\"}},\"ternary\":{\"aaxis\":{\"gridcolor\":\"#DFE8F3\",\"linecolor\":\"#A2B1C6\",\"ticks\":\"\"},\"baxis\":{\"gridcolor\":\"#DFE8F3\",\"linecolor\":\"#A2B1C6\",\"ticks\":\"\"},\"bgcolor\":\"white\",\"caxis\":{\"gridcolor\":\"#DFE8F3\",\"linecolor\":\"#A2B1C6\",\"ticks\":\"\"}},\"title\":{\"x\":0.05},\"xaxis\":{\"automargin\":true,\"gridcolor\":\"#EBF0F8\",\"linecolor\":\"#EBF0F8\",\"ticks\":\"\",\"title\":{\"standoff\":15},\"zerolinecolor\":\"#EBF0F8\",\"zerolinewidth\":2},\"yaxis\":{\"automargin\":true,\"gridcolor\":\"#EBF0F8\",\"linecolor\":\"#EBF0F8\",\"ticks\":\"\",\"title\":{\"standoff\":15},\"zerolinecolor\":\"#EBF0F8\",\"zerolinewidth\":2}}},\"xaxis\":{\"anchor\":\"y\",\"domain\":[0.0,1.0],\"title\":{\"text\":\"CV AUC\"},\"tickfont\":{\"size\":20},\"range\":[0.25,0.8]},\"yaxis\":{\"anchor\":\"x\",\"domain\":[0.0,1.0],\"title\":{\"text\":\"\"},\"tickfont\":{\"size\":20}},\"legend\":{\"tracegroupgap\":0},\"margin\":{\"t\":60},\"barmode\":\"relative\",\"shapes\":[{\"line\":{\"color\":\"grey\",\"dash\":\"dash\",\"width\":3},\"type\":\"line\",\"x0\":0.6767755595886269,\"x1\":0.6767755595886269,\"xref\":\"x\",\"y0\":0,\"y1\":1,\"yref\":\"y domain\"}],\"annotations\":[{\"align\":\"left\",\"arrowhead\":1,\"showarrow\":false,\"text\":\"Score on original labels: <br>Mean AUC: 0.677<br>p = 0.000\",\"x\":0.7767755595886269,\"y\":5}],\"font\":{\"family\":\"Times new roman\",\"size\":20,\"color\":\"black\"},\"autosize\":false,\"width\":800,\"height\":800,\"bargap\":0.05},                        {\"responsive\": true}                    ).then(function(){\n",
       "                            \n",
       "var gd = document.getElementById('8cc9967e-e28b-48ca-9fba-43d02f3aabaf');\n",
       "var x = new MutationObserver(function (mutations, observer) {{\n",
       "        var display = window.getComputedStyle(gd).display;\n",
       "        if (!display || display === 'none') {{\n",
       "            console.log([gd, 'removed!']);\n",
       "            Plotly.purge(gd);\n",
       "            observer.disconnect();\n",
       "        }}\n",
       "}});\n",
       "\n",
       "// Listen for the removal of the full notebook cells\n",
       "var notebookContainer = gd.closest('#notebook-container');\n",
       "if (notebookContainer) {{\n",
       "    x.observe(notebookContainer, {childList: true});\n",
       "}}\n",
       "\n",
       "// Listen for the clearing of the current output cell\n",
       "var outputEl = gd.closest('.output');\n",
       "if (outputEl) {{\n",
       "    x.observe(outputEl, {childList: true});\n",
       "}}\n",
       "\n",
       "                        })                };                });            </script>        </div>"
      ]
     },
     "metadata": {},
     "output_type": "display_data"
    }
   ],
   "source": [
    "# Calculate p-value\n",
    "pvalue_mw = np.mean(df_perm_mw['Mean_AUC'] >= np.mean(df_auc_mw['auc']))\n",
    "\n",
    "df = pd.concat([df_perm_mw, df_auc_mw])\n",
    "fig = px.histogram(df_perm_mw, x='Mean_AUC',nbins = 25,  color_discrete_sequence = [lblue])\n",
    "\n",
    "fig.add_vline(x=df_auc_mw.auc.mean(), line_width=3, line_dash=\"dash\", line_color=\"grey\")\n",
    "\n",
    "fig.add_annotation(x=df_auc_mw.auc.mean() + 0.1, y=5,\n",
    "            text=f\"Score on original labels: <br>Mean AUC: {df_auc_mw.auc.mean():.3f}<br>p = {pvalue_mw:.3f}\",\n",
    "            showarrow=False,\n",
    "            arrowhead=1,\n",
    "            align = 'left',\n",
    "            )\n",
    "\n",
    "\n",
    "fig.update_layout(\n",
    "#     title = f'Mean AUC = {df_forest_mind.auc.mean()}',\n",
    "    autosize=False,\n",
    "    template = \"plotly_white\",\n",
    "    font=dict(\n",
    "        family=\"Times new roman\",\n",
    "        size=20,\n",
    "        color=\"black\"\n",
    "    ),\n",
    "    width=800,\n",
    "    height=800,\n",
    "    bargap=0.05,\n",
    "    yaxis = {'title': '',\n",
    "             'tickfont': {\"size\": 20},\n",
    "    },\n",
    "    xaxis ={'title':'CV AUC',\n",
    "             'range':[0.25, 0.8],\n",
    "             'tickfont':{\"size\": 20}\n",
    "        }\n",
    ")\n",
    "fig.show()\n",
    "\n",
    "fig.write_image(os.path.join(fig_path, 'multivariate_glmm_perm_mw.png'))\n",
    "fig.write_image(os.path.join(fig_path, 'multivariate_glmm_perm_mw.svg'))"
   ]
  },
  {
   "cell_type": "code",
   "execution_count": null,
   "id": "e8362adf",
   "metadata": {},
   "outputs": [],
   "source": []
  }
 ],
 "metadata": {
  "interpreter": {
   "hash": "b9ecc02849e84b87e80586ea27bc0eed086bed80b3a52d2dc611431340e96268"
  },
  "kernelspec": {
   "display_name": "Python 3.9.7 ('mne')",
   "language": "python",
   "name": "python3"
  },
  "language_info": {
   "codemirror_mode": {
    "name": "ipython",
    "version": 3
   },
   "file_extension": ".py",
   "mimetype": "text/x-python",
   "name": "python",
   "nbconvert_exporter": "python",
   "pygments_lexer": "ipython3",
   "version": "3.10.9"
  }
 },
 "nbformat": 4,
 "nbformat_minor": 5
}
