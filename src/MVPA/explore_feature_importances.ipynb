{
 "cells": [
  {
   "cell_type": "code",
   "execution_count": 32,
   "metadata": {},
   "outputs": [],
   "source": [
    "import os\n",
    "import pandas as pd\n",
    "import numpy as np\n",
    "\n",
    "import plotly.express as px\n",
    "import plotly.graph_objects as go\n",
    "import plotly.offline as pyo\n",
    "import plotly.io as pio\n",
    "from plotly.subplots import make_subplots\n",
    "from dash import html\n",
    "\n",
    "\n",
    "results_path = \"../../Results/Multivariate_all_against_all/\"\n",
    "fig_path = results_path + \"Figs/\"\n",
    "\n",
    "# %%\n",
    "markers = ['wSMI_1_mean', 'wSMI_1_std', 'wSMI_2_mean', 'wSMI_2_std', 'wSMI_4_mean',\n",
    "       'wSMI_4_std', 'wSMI_8_mean', 'wSMI_8_std', 'p_e_1_mean', 'p_e_1_std',\n",
    "       'p_e_2_mean', 'p_e_2_std', 'p_e_4_mean', 'p_e_4_std', 'p_e_8_mean',\n",
    "       'p_e_8_std', 'k_mean', 'k_std', 'se_mean', 'se_std', 'msf_mean',\n",
    "       'msf_std', 'sef90_mean', 'sef90_std', 'sef95_mean', 'sef95_std',\n",
    "       'b_mean', 'b_std', 'b_n_mean', 'b_n_std', 'g_mean', 'g_std', 'g_n_mean',\n",
    "       'g_n_std', 't_mean', 't_std', 't_n_mean', 't_n_std', 'd_mean', 'd_std',\n",
    "       'd_n_mean', 'd_n_std', 'a_n_mean', 'a_n_std', 'a_mean', 'a_std',\n",
    "       'CNV_mean', 'CNV_std', 'P1_mean', 'P1_std', 'P3a_mean', 'P3a_std',\n",
    "       'P3b_mean', 'P3b_std']\n",
    "\n",
    "# plotting parameters\n",
    "grey = \"#21201F\"\n",
    "green = \"#9AC529\"\n",
    "lblue = \"#42B9B2\"\n",
    "pink = \"#DE237B\"\n",
    "orange = \"#F38A31\"\n",
    "\n",
    "colors = [pink,  green, orange, lblue]\n",
    "\n",
    "comparisons = ['on-task_vs_mw','on-task_vs_dMW', 'on-task_vs_sMW', 'dMW_vs_sMW']\n",
    "# comparisons = ['on-task_vs_mw',]\n",
    "\n",
    "\n"
   ]
  },
  {
   "cell_type": "code",
   "execution_count": 35,
   "metadata": {},
   "outputs": [
    {
     "data": {
      "application/vnd.plotly.v1+json": {
       "config": {
        "plotlyServerURL": "https://plot.ly"
       },
       "data": [
        {
         "alignmentgroup": "True",
         "hovertemplate": "Importance=%{x}<br>Feature=%{y}<extra></extra>",
         "legendgroup": "",
         "marker": {
          "color": "#DE237B",
          "size": 8
         },
         "name": "",
         "notched": false,
         "offsetgroup": "",
         "orientation": "h",
         "showlegend": false,
         "type": "box",
         "x": [
          0,
          0,
          0,
          0,
          0,
          0,
          0,
          0,
          0,
          0,
          0.06902778,
          0.06589605,
          0.06605392,
          0.06625,
          0.07146404,
          0.06645408,
          0.06933498,
          0.06933498,
          0.07181679,
          0.07032967,
          0,
          0.00490196,
          0.00490196,
          0.005,
          0,
          0.00510204,
          0,
          0,
          0.00490196,
          0,
          0,
          0,
          0,
          0,
          0,
          0,
          0,
          0,
          0,
          0,
          0.02388889,
          0.02903469,
          0.02230392,
          0.0225,
          0.02259186,
          0.02270408,
          0.04612069,
          0.04612069,
          0.02170868,
          0.02211538,
          0.01,
          0.01941931,
          0.00980392,
          0.01,
          0.00943396,
          0.01020408,
          0.00862069,
          0.00862069,
          0.00980392,
          0.00961538,
          0.01388889,
          0.01361941,
          0.0125,
          0.0125,
          0.01315789,
          0.0125,
          0.0125,
          0.0125,
          0.01685618,
          0.0125,
          0,
          0,
          0,
          0,
          0,
          0,
          0,
          0,
          0,
          0,
          0.02777778,
          0.02777778,
          0.02777778,
          0.02777778,
          0.02777778,
          0.02777778,
          0.025,
          0.025,
          0.02777778,
          0.03571429,
          0.07182118,
          0.06601196,
          0.06748366,
          0.06841786,
          0.06946481,
          0.06861984,
          0.06425696,
          0.06425754,
          0.07167169,
          0.03942308,
          0.05513889,
          0.05066931,
          0.05355392,
          0.05375,
          0.06302312,
          0.05395408,
          0.06114532,
          0.06114532,
          0.05295868,
          0.06263736,
          0,
          0,
          0,
          0,
          0,
          0,
          0,
          0,
          0,
          0,
          0,
          0,
          0,
          0,
          0,
          0,
          0,
          0,
          0,
          0,
          0,
          0,
          0,
          0,
          0,
          0,
          0,
          0,
          0,
          0,
          0.015,
          0.01470588,
          0.01470588,
          0.015,
          0.01415094,
          0.01530612,
          0.01293103,
          0.01293103,
          0.01470588,
          0.01442308,
          0,
          0,
          0,
          0,
          0,
          0,
          0,
          0,
          0,
          0,
          0,
          0,
          0,
          0,
          0,
          0,
          0,
          0,
          0,
          0,
          0.05277778,
          0.04374057,
          0.0495098,
          0.05,
          0.0499007,
          0.0505102,
          0.05086207,
          0.05086207,
          0.04831933,
          0.04903846,
          0,
          0,
          0,
          0,
          0,
          0,
          0,
          0,
          0,
          0,
          0,
          0,
          0,
          0,
          0,
          0,
          0,
          0,
          0,
          0,
          0.01388889,
          0.00961538,
          0.0125,
          0.0125,
          0.01315789,
          0.0125,
          0.0125,
          0.0125,
          0.01190476,
          0.0125,
          0.05555556,
          0.04700855,
          0.05277778,
          0.05277778,
          0.05409357,
          0.05277778,
          0.05,
          0.05,
          0.0515873,
          0.06071429,
          0,
          0,
          0,
          0,
          0,
          0,
          0,
          0,
          0,
          0,
          0.005,
          0.00490196,
          0.00490196,
          0.005,
          0.00471698,
          0.00510204,
          0,
          0,
          0.00490196,
          0.00480769,
          0,
          0,
          0,
          0,
          0,
          0,
          0,
          0,
          0,
          0,
          0,
          0,
          0,
          0,
          0,
          0,
          0.00431034,
          0.00431034,
          0,
          0,
          0.03125,
          0.03125,
          0.03125,
          0.03125,
          0.03571429,
          0.03125,
          0.03571429,
          0.03571429,
          0.03125,
          0.03571429,
          0.01,
          0.00980392,
          0.00980392,
          0.01,
          0.00943396,
          0.00510204,
          0.00862069,
          0.00862069,
          0.00980392,
          0.00961538,
          0.04166667,
          0.03739316,
          0.04027778,
          0.04027778,
          0.04565265,
          0.04027778,
          0.04181034,
          0.04181034,
          0.03968254,
          0.04821429,
          0.01388889,
          0.02884615,
          0.025,
          0.025,
          0.01315789,
          0.025,
          0.025,
          0.025,
          0.02380952,
          0.025,
          0,
          0,
          0,
          0,
          0,
          0,
          0,
          0,
          0,
          0,
          0.01,
          0.00980392,
          0.02230392,
          0.0225,
          0.02259186,
          0.02270408,
          0.02112069,
          0.02112069,
          0.02170868,
          0.02211538,
          0,
          0,
          0,
          0,
          0,
          0,
          0,
          0,
          0,
          0,
          0,
          0,
          0,
          0,
          0,
          0,
          0,
          0,
          0,
          0,
          0,
          0,
          0,
          0,
          0.00471698,
          0,
          0.00862069,
          0.00862069,
          0,
          0.00961538,
          0.005,
          0.00490196,
          0.00490196,
          0.005,
          0.00471698,
          0.00510204,
          0.00431034,
          0.00431034,
          0.00490196,
          0.00480769,
          0.10027778,
          0.09517974,
          0.09517974,
          0.09527778,
          0.07292603,
          0.09537982,
          0.07795567,
          0.07795567,
          0.09517974,
          0.08104396,
          0.12138889,
          0.12584842,
          0.11911765,
          0.12,
          0.1270393,
          0.12091837,
          0.12272167,
          0.12272167,
          0.11852241,
          0.1271978,
          0,
          0,
          0,
          0,
          0,
          0,
          0,
          0,
          0,
          0,
          0.02777778,
          0.02777778,
          0.02777778,
          0.02777778,
          0.02777778,
          0.02777778,
          0.025,
          0.025,
          0.02777778,
          0.03571429,
          0.02151215,
          0.01493324,
          0.025,
          0.01935992,
          0.0203785,
          0.01936202,
          0.01936373,
          0.01936315,
          0.01843101,
          0.025,
          0,
          0,
          0,
          0,
          0,
          0,
          0,
          0,
          0,
          0,
          0,
          0.00961538,
          0,
          0,
          0,
          0,
          0,
          0,
          0,
          0,
          0,
          0,
          0,
          0,
          0,
          0,
          0,
          0,
          0,
          0,
          0.005,
          0.00490196,
          0.00490196,
          0.005,
          0.00471698,
          0.00510204,
          0.00431034,
          0.00431034,
          0.00490196,
          0,
          0.01,
          0.00980392,
          0.00980392,
          0.01,
          0.00943396,
          0.01020408,
          0.00862069,
          0.00862069,
          0.00980392,
          0.00961538,
          0.015,
          0.01470588,
          0.01470588,
          0.015,
          0.01415094,
          0.01530612,
          0.01293103,
          0.01293103,
          0.01470588,
          0.01442308,
          0.06055556,
          0.06045752,
          0.06045752,
          0.06055556,
          0.06027254,
          0.0606576,
          0.05431034,
          0.05431034,
          0.06045752,
          0.04052198,
          0.05625,
          0.0557598,
          0.0557598,
          0.05625,
          0.05929919,
          0.0567602,
          0.05726601,
          0.05726601,
          0.0557598,
          0.05975275,
          0.005,
          0.00490196,
          0.00490196,
          0.005,
          0.00471698,
          0.00510204,
          0.00431034,
          0.00431034,
          0.00490196,
          0,
          0,
          0.00961538,
          0,
          0,
          0,
          0,
          0,
          0,
          0,
          0,
          0,
          0,
          0,
          0,
          0,
          0,
          0,
          0,
          0,
          0,
          0.04666667,
          0.04229512,
          0.04517974,
          0.04527778,
          0.04565265,
          0.04537982,
          0.04612069,
          0.04612069,
          0.0445845,
          0.05302198,
          0.005,
          0.00490196,
          0.00490196,
          0.005,
          0.00471698,
          0.00510204,
          0.00431034,
          0.00431034,
          0.00490196,
          0.00480769
         ],
         "x0": " ",
         "xaxis": "x",
         "y": [
          "wSMI_1_mean",
          "wSMI_1_mean",
          "wSMI_1_mean",
          "wSMI_1_mean",
          "wSMI_1_mean",
          "wSMI_1_mean",
          "wSMI_1_mean",
          "wSMI_1_mean",
          "wSMI_1_mean",
          "wSMI_1_mean",
          "wSMI_1_std",
          "wSMI_1_std",
          "wSMI_1_std",
          "wSMI_1_std",
          "wSMI_1_std",
          "wSMI_1_std",
          "wSMI_1_std",
          "wSMI_1_std",
          "wSMI_1_std",
          "wSMI_1_std",
          "wSMI_2_mean",
          "wSMI_2_mean",
          "wSMI_2_mean",
          "wSMI_2_mean",
          "wSMI_2_mean",
          "wSMI_2_mean",
          "wSMI_2_mean",
          "wSMI_2_mean",
          "wSMI_2_mean",
          "wSMI_2_mean",
          "wSMI_2_std",
          "wSMI_2_std",
          "wSMI_2_std",
          "wSMI_2_std",
          "wSMI_2_std",
          "wSMI_2_std",
          "wSMI_2_std",
          "wSMI_2_std",
          "wSMI_2_std",
          "wSMI_2_std",
          "wSMI_4_mean",
          "wSMI_4_mean",
          "wSMI_4_mean",
          "wSMI_4_mean",
          "wSMI_4_mean",
          "wSMI_4_mean",
          "wSMI_4_mean",
          "wSMI_4_mean",
          "wSMI_4_mean",
          "wSMI_4_mean",
          "wSMI_4_std",
          "wSMI_4_std",
          "wSMI_4_std",
          "wSMI_4_std",
          "wSMI_4_std",
          "wSMI_4_std",
          "wSMI_4_std",
          "wSMI_4_std",
          "wSMI_4_std",
          "wSMI_4_std",
          "wSMI_8_mean",
          "wSMI_8_mean",
          "wSMI_8_mean",
          "wSMI_8_mean",
          "wSMI_8_mean",
          "wSMI_8_mean",
          "wSMI_8_mean",
          "wSMI_8_mean",
          "wSMI_8_mean",
          "wSMI_8_mean",
          "wSMI_8_std",
          "wSMI_8_std",
          "wSMI_8_std",
          "wSMI_8_std",
          "wSMI_8_std",
          "wSMI_8_std",
          "wSMI_8_std",
          "wSMI_8_std",
          "wSMI_8_std",
          "wSMI_8_std",
          "p_e_1_mean",
          "p_e_1_mean",
          "p_e_1_mean",
          "p_e_1_mean",
          "p_e_1_mean",
          "p_e_1_mean",
          "p_e_1_mean",
          "p_e_1_mean",
          "p_e_1_mean",
          "p_e_1_mean",
          "p_e_1_std",
          "p_e_1_std",
          "p_e_1_std",
          "p_e_1_std",
          "p_e_1_std",
          "p_e_1_std",
          "p_e_1_std",
          "p_e_1_std",
          "p_e_1_std",
          "p_e_1_std",
          "p_e_2_mean",
          "p_e_2_mean",
          "p_e_2_mean",
          "p_e_2_mean",
          "p_e_2_mean",
          "p_e_2_mean",
          "p_e_2_mean",
          "p_e_2_mean",
          "p_e_2_mean",
          "p_e_2_mean",
          "p_e_2_std",
          "p_e_2_std",
          "p_e_2_std",
          "p_e_2_std",
          "p_e_2_std",
          "p_e_2_std",
          "p_e_2_std",
          "p_e_2_std",
          "p_e_2_std",
          "p_e_2_std",
          "p_e_4_mean",
          "p_e_4_mean",
          "p_e_4_mean",
          "p_e_4_mean",
          "p_e_4_mean",
          "p_e_4_mean",
          "p_e_4_mean",
          "p_e_4_mean",
          "p_e_4_mean",
          "p_e_4_mean",
          "p_e_4_std",
          "p_e_4_std",
          "p_e_4_std",
          "p_e_4_std",
          "p_e_4_std",
          "p_e_4_std",
          "p_e_4_std",
          "p_e_4_std",
          "p_e_4_std",
          "p_e_4_std",
          "p_e_8_mean",
          "p_e_8_mean",
          "p_e_8_mean",
          "p_e_8_mean",
          "p_e_8_mean",
          "p_e_8_mean",
          "p_e_8_mean",
          "p_e_8_mean",
          "p_e_8_mean",
          "p_e_8_mean",
          "p_e_8_std",
          "p_e_8_std",
          "p_e_8_std",
          "p_e_8_std",
          "p_e_8_std",
          "p_e_8_std",
          "p_e_8_std",
          "p_e_8_std",
          "p_e_8_std",
          "p_e_8_std",
          "k_mean",
          "k_mean",
          "k_mean",
          "k_mean",
          "k_mean",
          "k_mean",
          "k_mean",
          "k_mean",
          "k_mean",
          "k_mean",
          "k_std",
          "k_std",
          "k_std",
          "k_std",
          "k_std",
          "k_std",
          "k_std",
          "k_std",
          "k_std",
          "k_std",
          "se_mean",
          "se_mean",
          "se_mean",
          "se_mean",
          "se_mean",
          "se_mean",
          "se_mean",
          "se_mean",
          "se_mean",
          "se_mean",
          "se_std",
          "se_std",
          "se_std",
          "se_std",
          "se_std",
          "se_std",
          "se_std",
          "se_std",
          "se_std",
          "se_std",
          "msf_mean",
          "msf_mean",
          "msf_mean",
          "msf_mean",
          "msf_mean",
          "msf_mean",
          "msf_mean",
          "msf_mean",
          "msf_mean",
          "msf_mean",
          "msf_std",
          "msf_std",
          "msf_std",
          "msf_std",
          "msf_std",
          "msf_std",
          "msf_std",
          "msf_std",
          "msf_std",
          "msf_std",
          "sef90_mean",
          "sef90_mean",
          "sef90_mean",
          "sef90_mean",
          "sef90_mean",
          "sef90_mean",
          "sef90_mean",
          "sef90_mean",
          "sef90_mean",
          "sef90_mean",
          "sef90_std",
          "sef90_std",
          "sef90_std",
          "sef90_std",
          "sef90_std",
          "sef90_std",
          "sef90_std",
          "sef90_std",
          "sef90_std",
          "sef90_std",
          "sef95_mean",
          "sef95_mean",
          "sef95_mean",
          "sef95_mean",
          "sef95_mean",
          "sef95_mean",
          "sef95_mean",
          "sef95_mean",
          "sef95_mean",
          "sef95_mean",
          "sef95_std",
          "sef95_std",
          "sef95_std",
          "sef95_std",
          "sef95_std",
          "sef95_std",
          "sef95_std",
          "sef95_std",
          "sef95_std",
          "sef95_std",
          "b_mean",
          "b_mean",
          "b_mean",
          "b_mean",
          "b_mean",
          "b_mean",
          "b_mean",
          "b_mean",
          "b_mean",
          "b_mean",
          "b_std",
          "b_std",
          "b_std",
          "b_std",
          "b_std",
          "b_std",
          "b_std",
          "b_std",
          "b_std",
          "b_std",
          "b_n_mean",
          "b_n_mean",
          "b_n_mean",
          "b_n_mean",
          "b_n_mean",
          "b_n_mean",
          "b_n_mean",
          "b_n_mean",
          "b_n_mean",
          "b_n_mean",
          "b_n_std",
          "b_n_std",
          "b_n_std",
          "b_n_std",
          "b_n_std",
          "b_n_std",
          "b_n_std",
          "b_n_std",
          "b_n_std",
          "b_n_std",
          "g_mean",
          "g_mean",
          "g_mean",
          "g_mean",
          "g_mean",
          "g_mean",
          "g_mean",
          "g_mean",
          "g_mean",
          "g_mean",
          "g_std",
          "g_std",
          "g_std",
          "g_std",
          "g_std",
          "g_std",
          "g_std",
          "g_std",
          "g_std",
          "g_std",
          "g_n_mean",
          "g_n_mean",
          "g_n_mean",
          "g_n_mean",
          "g_n_mean",
          "g_n_mean",
          "g_n_mean",
          "g_n_mean",
          "g_n_mean",
          "g_n_mean",
          "g_n_std",
          "g_n_std",
          "g_n_std",
          "g_n_std",
          "g_n_std",
          "g_n_std",
          "g_n_std",
          "g_n_std",
          "g_n_std",
          "g_n_std",
          "t_mean",
          "t_mean",
          "t_mean",
          "t_mean",
          "t_mean",
          "t_mean",
          "t_mean",
          "t_mean",
          "t_mean",
          "t_mean",
          "t_std",
          "t_std",
          "t_std",
          "t_std",
          "t_std",
          "t_std",
          "t_std",
          "t_std",
          "t_std",
          "t_std",
          "t_n_mean",
          "t_n_mean",
          "t_n_mean",
          "t_n_mean",
          "t_n_mean",
          "t_n_mean",
          "t_n_mean",
          "t_n_mean",
          "t_n_mean",
          "t_n_mean",
          "t_n_std",
          "t_n_std",
          "t_n_std",
          "t_n_std",
          "t_n_std",
          "t_n_std",
          "t_n_std",
          "t_n_std",
          "t_n_std",
          "t_n_std",
          "d_mean",
          "d_mean",
          "d_mean",
          "d_mean",
          "d_mean",
          "d_mean",
          "d_mean",
          "d_mean",
          "d_mean",
          "d_mean",
          "d_std",
          "d_std",
          "d_std",
          "d_std",
          "d_std",
          "d_std",
          "d_std",
          "d_std",
          "d_std",
          "d_std",
          "d_n_mean",
          "d_n_mean",
          "d_n_mean",
          "d_n_mean",
          "d_n_mean",
          "d_n_mean",
          "d_n_mean",
          "d_n_mean",
          "d_n_mean",
          "d_n_mean",
          "d_n_std",
          "d_n_std",
          "d_n_std",
          "d_n_std",
          "d_n_std",
          "d_n_std",
          "d_n_std",
          "d_n_std",
          "d_n_std",
          "d_n_std",
          "a_n_mean",
          "a_n_mean",
          "a_n_mean",
          "a_n_mean",
          "a_n_mean",
          "a_n_mean",
          "a_n_mean",
          "a_n_mean",
          "a_n_mean",
          "a_n_mean",
          "a_n_std",
          "a_n_std",
          "a_n_std",
          "a_n_std",
          "a_n_std",
          "a_n_std",
          "a_n_std",
          "a_n_std",
          "a_n_std",
          "a_n_std",
          "a_mean",
          "a_mean",
          "a_mean",
          "a_mean",
          "a_mean",
          "a_mean",
          "a_mean",
          "a_mean",
          "a_mean",
          "a_mean",
          "a_std",
          "a_std",
          "a_std",
          "a_std",
          "a_std",
          "a_std",
          "a_std",
          "a_std",
          "a_std",
          "a_std",
          "CNV_mean",
          "CNV_mean",
          "CNV_mean",
          "CNV_mean",
          "CNV_mean",
          "CNV_mean",
          "CNV_mean",
          "CNV_mean",
          "CNV_mean",
          "CNV_mean",
          "CNV_std",
          "CNV_std",
          "CNV_std",
          "CNV_std",
          "CNV_std",
          "CNV_std",
          "CNV_std",
          "CNV_std",
          "CNV_std",
          "CNV_std",
          "P1_mean",
          "P1_mean",
          "P1_mean",
          "P1_mean",
          "P1_mean",
          "P1_mean",
          "P1_mean",
          "P1_mean",
          "P1_mean",
          "P1_mean",
          "P1_std",
          "P1_std",
          "P1_std",
          "P1_std",
          "P1_std",
          "P1_std",
          "P1_std",
          "P1_std",
          "P1_std",
          "P1_std",
          "P3a_mean",
          "P3a_mean",
          "P3a_mean",
          "P3a_mean",
          "P3a_mean",
          "P3a_mean",
          "P3a_mean",
          "P3a_mean",
          "P3a_mean",
          "P3a_mean",
          "P3a_std",
          "P3a_std",
          "P3a_std",
          "P3a_std",
          "P3a_std",
          "P3a_std",
          "P3a_std",
          "P3a_std",
          "P3a_std",
          "P3a_std",
          "P3b_mean",
          "P3b_mean",
          "P3b_mean",
          "P3b_mean",
          "P3b_mean",
          "P3b_mean",
          "P3b_mean",
          "P3b_mean",
          "P3b_mean",
          "P3b_mean",
          "P3b_std",
          "P3b_std",
          "P3b_std",
          "P3b_std",
          "P3b_std",
          "P3b_std",
          "P3b_std",
          "P3b_std",
          "P3b_std",
          "P3b_std"
         ],
         "y0": " ",
         "yaxis": "y"
        }
       ],
       "layout": {
        "boxmode": "group",
        "font": {
         "color": "black",
         "family": "Times new roman",
         "size": 20
        },
        "height": 1100,
        "legend": {
         "tracegroupgap": 0
        },
        "margin": {
         "b": 50,
         "l": 50,
         "r": 50,
         "t": 150
        },
        "showlegend": true,
        "template": {
         "data": {
          "bar": [
           {
            "error_x": {
             "color": "#2a3f5f"
            },
            "error_y": {
             "color": "#2a3f5f"
            },
            "marker": {
             "line": {
              "color": "white",
              "width": 0.5
             },
             "pattern": {
              "fillmode": "overlay",
              "size": 10,
              "solidity": 0.2
             }
            },
            "type": "bar"
           }
          ],
          "barpolar": [
           {
            "marker": {
             "line": {
              "color": "white",
              "width": 0.5
             },
             "pattern": {
              "fillmode": "overlay",
              "size": 10,
              "solidity": 0.2
             }
            },
            "type": "barpolar"
           }
          ],
          "carpet": [
           {
            "aaxis": {
             "endlinecolor": "#2a3f5f",
             "gridcolor": "#C8D4E3",
             "linecolor": "#C8D4E3",
             "minorgridcolor": "#C8D4E3",
             "startlinecolor": "#2a3f5f"
            },
            "baxis": {
             "endlinecolor": "#2a3f5f",
             "gridcolor": "#C8D4E3",
             "linecolor": "#C8D4E3",
             "minorgridcolor": "#C8D4E3",
             "startlinecolor": "#2a3f5f"
            },
            "type": "carpet"
           }
          ],
          "choropleth": [
           {
            "colorbar": {
             "outlinewidth": 0,
             "ticks": ""
            },
            "type": "choropleth"
           }
          ],
          "contour": [
           {
            "colorbar": {
             "outlinewidth": 0,
             "ticks": ""
            },
            "colorscale": [
             [
              0,
              "#0d0887"
             ],
             [
              0.1111111111111111,
              "#46039f"
             ],
             [
              0.2222222222222222,
              "#7201a8"
             ],
             [
              0.3333333333333333,
              "#9c179e"
             ],
             [
              0.4444444444444444,
              "#bd3786"
             ],
             [
              0.5555555555555556,
              "#d8576b"
             ],
             [
              0.6666666666666666,
              "#ed7953"
             ],
             [
              0.7777777777777778,
              "#fb9f3a"
             ],
             [
              0.8888888888888888,
              "#fdca26"
             ],
             [
              1,
              "#f0f921"
             ]
            ],
            "type": "contour"
           }
          ],
          "contourcarpet": [
           {
            "colorbar": {
             "outlinewidth": 0,
             "ticks": ""
            },
            "type": "contourcarpet"
           }
          ],
          "heatmap": [
           {
            "colorbar": {
             "outlinewidth": 0,
             "ticks": ""
            },
            "colorscale": [
             [
              0,
              "#0d0887"
             ],
             [
              0.1111111111111111,
              "#46039f"
             ],
             [
              0.2222222222222222,
              "#7201a8"
             ],
             [
              0.3333333333333333,
              "#9c179e"
             ],
             [
              0.4444444444444444,
              "#bd3786"
             ],
             [
              0.5555555555555556,
              "#d8576b"
             ],
             [
              0.6666666666666666,
              "#ed7953"
             ],
             [
              0.7777777777777778,
              "#fb9f3a"
             ],
             [
              0.8888888888888888,
              "#fdca26"
             ],
             [
              1,
              "#f0f921"
             ]
            ],
            "type": "heatmap"
           }
          ],
          "heatmapgl": [
           {
            "colorbar": {
             "outlinewidth": 0,
             "ticks": ""
            },
            "colorscale": [
             [
              0,
              "#0d0887"
             ],
             [
              0.1111111111111111,
              "#46039f"
             ],
             [
              0.2222222222222222,
              "#7201a8"
             ],
             [
              0.3333333333333333,
              "#9c179e"
             ],
             [
              0.4444444444444444,
              "#bd3786"
             ],
             [
              0.5555555555555556,
              "#d8576b"
             ],
             [
              0.6666666666666666,
              "#ed7953"
             ],
             [
              0.7777777777777778,
              "#fb9f3a"
             ],
             [
              0.8888888888888888,
              "#fdca26"
             ],
             [
              1,
              "#f0f921"
             ]
            ],
            "type": "heatmapgl"
           }
          ],
          "histogram": [
           {
            "marker": {
             "pattern": {
              "fillmode": "overlay",
              "size": 10,
              "solidity": 0.2
             }
            },
            "type": "histogram"
           }
          ],
          "histogram2d": [
           {
            "colorbar": {
             "outlinewidth": 0,
             "ticks": ""
            },
            "colorscale": [
             [
              0,
              "#0d0887"
             ],
             [
              0.1111111111111111,
              "#46039f"
             ],
             [
              0.2222222222222222,
              "#7201a8"
             ],
             [
              0.3333333333333333,
              "#9c179e"
             ],
             [
              0.4444444444444444,
              "#bd3786"
             ],
             [
              0.5555555555555556,
              "#d8576b"
             ],
             [
              0.6666666666666666,
              "#ed7953"
             ],
             [
              0.7777777777777778,
              "#fb9f3a"
             ],
             [
              0.8888888888888888,
              "#fdca26"
             ],
             [
              1,
              "#f0f921"
             ]
            ],
            "type": "histogram2d"
           }
          ],
          "histogram2dcontour": [
           {
            "colorbar": {
             "outlinewidth": 0,
             "ticks": ""
            },
            "colorscale": [
             [
              0,
              "#0d0887"
             ],
             [
              0.1111111111111111,
              "#46039f"
             ],
             [
              0.2222222222222222,
              "#7201a8"
             ],
             [
              0.3333333333333333,
              "#9c179e"
             ],
             [
              0.4444444444444444,
              "#bd3786"
             ],
             [
              0.5555555555555556,
              "#d8576b"
             ],
             [
              0.6666666666666666,
              "#ed7953"
             ],
             [
              0.7777777777777778,
              "#fb9f3a"
             ],
             [
              0.8888888888888888,
              "#fdca26"
             ],
             [
              1,
              "#f0f921"
             ]
            ],
            "type": "histogram2dcontour"
           }
          ],
          "mesh3d": [
           {
            "colorbar": {
             "outlinewidth": 0,
             "ticks": ""
            },
            "type": "mesh3d"
           }
          ],
          "parcoords": [
           {
            "line": {
             "colorbar": {
              "outlinewidth": 0,
              "ticks": ""
             }
            },
            "type": "parcoords"
           }
          ],
          "pie": [
           {
            "automargin": true,
            "type": "pie"
           }
          ],
          "scatter": [
           {
            "fillpattern": {
             "fillmode": "overlay",
             "size": 10,
             "solidity": 0.2
            },
            "type": "scatter"
           }
          ],
          "scatter3d": [
           {
            "line": {
             "colorbar": {
              "outlinewidth": 0,
              "ticks": ""
             }
            },
            "marker": {
             "colorbar": {
              "outlinewidth": 0,
              "ticks": ""
             }
            },
            "type": "scatter3d"
           }
          ],
          "scattercarpet": [
           {
            "marker": {
             "colorbar": {
              "outlinewidth": 0,
              "ticks": ""
             }
            },
            "type": "scattercarpet"
           }
          ],
          "scattergeo": [
           {
            "marker": {
             "colorbar": {
              "outlinewidth": 0,
              "ticks": ""
             }
            },
            "type": "scattergeo"
           }
          ],
          "scattergl": [
           {
            "marker": {
             "colorbar": {
              "outlinewidth": 0,
              "ticks": ""
             }
            },
            "type": "scattergl"
           }
          ],
          "scattermapbox": [
           {
            "marker": {
             "colorbar": {
              "outlinewidth": 0,
              "ticks": ""
             }
            },
            "type": "scattermapbox"
           }
          ],
          "scatterpolar": [
           {
            "marker": {
             "colorbar": {
              "outlinewidth": 0,
              "ticks": ""
             }
            },
            "type": "scatterpolar"
           }
          ],
          "scatterpolargl": [
           {
            "marker": {
             "colorbar": {
              "outlinewidth": 0,
              "ticks": ""
             }
            },
            "type": "scatterpolargl"
           }
          ],
          "scatterternary": [
           {
            "marker": {
             "colorbar": {
              "outlinewidth": 0,
              "ticks": ""
             }
            },
            "type": "scatterternary"
           }
          ],
          "surface": [
           {
            "colorbar": {
             "outlinewidth": 0,
             "ticks": ""
            },
            "colorscale": [
             [
              0,
              "#0d0887"
             ],
             [
              0.1111111111111111,
              "#46039f"
             ],
             [
              0.2222222222222222,
              "#7201a8"
             ],
             [
              0.3333333333333333,
              "#9c179e"
             ],
             [
              0.4444444444444444,
              "#bd3786"
             ],
             [
              0.5555555555555556,
              "#d8576b"
             ],
             [
              0.6666666666666666,
              "#ed7953"
             ],
             [
              0.7777777777777778,
              "#fb9f3a"
             ],
             [
              0.8888888888888888,
              "#fdca26"
             ],
             [
              1,
              "#f0f921"
             ]
            ],
            "type": "surface"
           }
          ],
          "table": [
           {
            "cells": {
             "fill": {
              "color": "#EBF0F8"
             },
             "line": {
              "color": "white"
             }
            },
            "header": {
             "fill": {
              "color": "#C8D4E3"
             },
             "line": {
              "color": "white"
             }
            },
            "type": "table"
           }
          ]
         },
         "layout": {
          "annotationdefaults": {
           "arrowcolor": "#2a3f5f",
           "arrowhead": 0,
           "arrowwidth": 1
          },
          "autotypenumbers": "strict",
          "coloraxis": {
           "colorbar": {
            "outlinewidth": 0,
            "ticks": ""
           }
          },
          "colorscale": {
           "diverging": [
            [
             0,
             "#8e0152"
            ],
            [
             0.1,
             "#c51b7d"
            ],
            [
             0.2,
             "#de77ae"
            ],
            [
             0.3,
             "#f1b6da"
            ],
            [
             0.4,
             "#fde0ef"
            ],
            [
             0.5,
             "#f7f7f7"
            ],
            [
             0.6,
             "#e6f5d0"
            ],
            [
             0.7,
             "#b8e186"
            ],
            [
             0.8,
             "#7fbc41"
            ],
            [
             0.9,
             "#4d9221"
            ],
            [
             1,
             "#276419"
            ]
           ],
           "sequential": [
            [
             0,
             "#0d0887"
            ],
            [
             0.1111111111111111,
             "#46039f"
            ],
            [
             0.2222222222222222,
             "#7201a8"
            ],
            [
             0.3333333333333333,
             "#9c179e"
            ],
            [
             0.4444444444444444,
             "#bd3786"
            ],
            [
             0.5555555555555556,
             "#d8576b"
            ],
            [
             0.6666666666666666,
             "#ed7953"
            ],
            [
             0.7777777777777778,
             "#fb9f3a"
            ],
            [
             0.8888888888888888,
             "#fdca26"
            ],
            [
             1,
             "#f0f921"
            ]
           ],
           "sequentialminus": [
            [
             0,
             "#0d0887"
            ],
            [
             0.1111111111111111,
             "#46039f"
            ],
            [
             0.2222222222222222,
             "#7201a8"
            ],
            [
             0.3333333333333333,
             "#9c179e"
            ],
            [
             0.4444444444444444,
             "#bd3786"
            ],
            [
             0.5555555555555556,
             "#d8576b"
            ],
            [
             0.6666666666666666,
             "#ed7953"
            ],
            [
             0.7777777777777778,
             "#fb9f3a"
            ],
            [
             0.8888888888888888,
             "#fdca26"
            ],
            [
             1,
             "#f0f921"
            ]
           ]
          },
          "colorway": [
           "#636efa",
           "#EF553B",
           "#00cc96",
           "#ab63fa",
           "#FFA15A",
           "#19d3f3",
           "#FF6692",
           "#B6E880",
           "#FF97FF",
           "#FECB52"
          ],
          "font": {
           "color": "#2a3f5f"
          },
          "geo": {
           "bgcolor": "white",
           "lakecolor": "white",
           "landcolor": "white",
           "showlakes": true,
           "showland": true,
           "subunitcolor": "#C8D4E3"
          },
          "hoverlabel": {
           "align": "left"
          },
          "hovermode": "closest",
          "mapbox": {
           "style": "light"
          },
          "paper_bgcolor": "white",
          "plot_bgcolor": "white",
          "polar": {
           "angularaxis": {
            "gridcolor": "#EBF0F8",
            "linecolor": "#EBF0F8",
            "ticks": ""
           },
           "bgcolor": "white",
           "radialaxis": {
            "gridcolor": "#EBF0F8",
            "linecolor": "#EBF0F8",
            "ticks": ""
           }
          },
          "scene": {
           "xaxis": {
            "backgroundcolor": "white",
            "gridcolor": "#DFE8F3",
            "gridwidth": 2,
            "linecolor": "#EBF0F8",
            "showbackground": true,
            "ticks": "",
            "zerolinecolor": "#EBF0F8"
           },
           "yaxis": {
            "backgroundcolor": "white",
            "gridcolor": "#DFE8F3",
            "gridwidth": 2,
            "linecolor": "#EBF0F8",
            "showbackground": true,
            "ticks": "",
            "zerolinecolor": "#EBF0F8"
           },
           "zaxis": {
            "backgroundcolor": "white",
            "gridcolor": "#DFE8F3",
            "gridwidth": 2,
            "linecolor": "#EBF0F8",
            "showbackground": true,
            "ticks": "",
            "zerolinecolor": "#EBF0F8"
           }
          },
          "shapedefaults": {
           "line": {
            "color": "#2a3f5f"
           }
          },
          "ternary": {
           "aaxis": {
            "gridcolor": "#DFE8F3",
            "linecolor": "#A2B1C6",
            "ticks": ""
           },
           "baxis": {
            "gridcolor": "#DFE8F3",
            "linecolor": "#A2B1C6",
            "ticks": ""
           },
           "bgcolor": "white",
           "caxis": {
            "gridcolor": "#DFE8F3",
            "linecolor": "#A2B1C6",
            "ticks": ""
           }
          },
          "title": {
           "x": 0.05
          },
          "xaxis": {
           "automargin": true,
           "gridcolor": "#EBF0F8",
           "linecolor": "#EBF0F8",
           "ticks": "",
           "title": {
            "standoff": 15
           },
           "zerolinecolor": "#EBF0F8",
           "zerolinewidth": 2
          },
          "yaxis": {
           "automargin": true,
           "gridcolor": "#EBF0F8",
           "linecolor": "#EBF0F8",
           "ticks": "",
           "title": {
            "standoff": 15
           },
           "zerolinecolor": "#EBF0F8",
           "zerolinewidth": 2
          }
         }
        },
        "title": {
         "text": "FI of Top 10 Models on-task_vs_mw <br >\nAverage AUC 0.642 <br>\nBest AUC 0.649\n                 "
        },
        "width": 650,
        "xaxis": {
         "anchor": "y",
         "domain": [
          0,
          1
         ],
         "range": [
          0,
          0.25
         ],
         "tickfont": {
          "size": 20
         },
         "title": {
          "text": "Feature Importance"
         },
         "visible": true
        },
        "yaxis": {
         "anchor": "x",
         "automargin": true,
         "categoryorder": "total ascending",
         "domain": [
          0,
          1
         ],
         "dtick": 1,
         "range": [
          -1,
          54
         ],
         "tickfont": {
          "size": 20
         },
         "title": {
          "text": "Feature"
         }
        }
       }
      },
      "text/html": [
       "<div>                            <div id=\"7d7839c2-98bb-45de-a3f7-73acaeb1b314\" class=\"plotly-graph-div\" style=\"height:1100px; width:650px;\"></div>            <script type=\"text/javascript\">                require([\"plotly\"], function(Plotly) {                    window.PLOTLYENV=window.PLOTLYENV || {};                                    if (document.getElementById(\"7d7839c2-98bb-45de-a3f7-73acaeb1b314\")) {                    Plotly.newPlot(                        \"7d7839c2-98bb-45de-a3f7-73acaeb1b314\",                        [{\"alignmentgroup\":\"True\",\"hovertemplate\":\"Importance=%{x}\\u003cbr\\u003eFeature=%{y}\\u003cextra\\u003e\\u003c\\u002fextra\\u003e\",\"legendgroup\":\"\",\"marker\":{\"color\":\"#DE237B\",\"size\":8},\"name\":\"\",\"notched\":false,\"offsetgroup\":\"\",\"orientation\":\"h\",\"showlegend\":false,\"x\":[0.0,0.0,0.0,0.0,0.0,0.0,0.0,0.0,0.0,0.0,0.06902778,0.06589605,0.06605392,0.06625,0.07146404,0.06645408,0.06933498,0.06933498,0.07181679,0.07032967,0.0,0.00490196,0.00490196,0.005,0.0,0.00510204,0.0,0.0,0.00490196,0.0,0.0,0.0,0.0,0.0,0.0,0.0,0.0,0.0,0.0,0.0,0.02388889,0.02903469,0.02230392,0.0225,0.02259186,0.02270408,0.04612069,0.04612069,0.02170868,0.02211538,0.01,0.01941931,0.00980392,0.01,0.00943396,0.01020408,0.00862069,0.00862069,0.00980392,0.00961538,0.01388889,0.01361941,0.0125,0.0125,0.01315789,0.0125,0.0125,0.0125,0.01685618,0.0125,0.0,0.0,0.0,0.0,0.0,0.0,0.0,0.0,0.0,0.0,0.02777778,0.02777778,0.02777778,0.02777778,0.02777778,0.02777778,0.025,0.025,0.02777778,0.03571429,0.07182118,0.06601196,0.06748366,0.06841786,0.06946481,0.06861984,0.06425696,0.06425754,0.07167169,0.03942308,0.05513889,0.05066931,0.05355392,0.05375,0.06302312,0.05395408,0.06114532,0.06114532,0.05295868,0.06263736,0.0,0.0,0.0,0.0,0.0,0.0,0.0,0.0,0.0,0.0,0.0,0.0,0.0,0.0,0.0,0.0,0.0,0.0,0.0,0.0,0.0,0.0,0.0,0.0,0.0,0.0,0.0,0.0,0.0,0.0,0.015,0.01470588,0.01470588,0.015,0.01415094,0.01530612,0.01293103,0.01293103,0.01470588,0.01442308,0.0,0.0,0.0,0.0,0.0,0.0,0.0,0.0,0.0,0.0,0.0,0.0,0.0,0.0,0.0,0.0,0.0,0.0,0.0,0.0,0.05277778,0.04374057,0.0495098,0.05,0.0499007,0.0505102,0.05086207,0.05086207,0.04831933,0.04903846,0.0,0.0,0.0,0.0,0.0,0.0,0.0,0.0,0.0,0.0,0.0,0.0,0.0,0.0,0.0,0.0,0.0,0.0,0.0,0.0,0.01388889,0.00961538,0.0125,0.0125,0.01315789,0.0125,0.0125,0.0125,0.01190476,0.0125,0.05555556,0.04700855,0.05277778,0.05277778,0.05409357,0.05277778,0.05,0.05,0.0515873,0.06071429,0.0,0.0,0.0,0.0,0.0,0.0,0.0,0.0,0.0,0.0,0.005,0.00490196,0.00490196,0.005,0.00471698,0.00510204,0.0,0.0,0.00490196,0.00480769,0.0,0.0,0.0,0.0,0.0,0.0,0.0,0.0,0.0,0.0,0.0,0.0,0.0,0.0,0.0,0.0,0.00431034,0.00431034,0.0,0.0,0.03125,0.03125,0.03125,0.03125,0.03571429,0.03125,0.03571429,0.03571429,0.03125,0.03571429,0.01,0.00980392,0.00980392,0.01,0.00943396,0.00510204,0.00862069,0.00862069,0.00980392,0.00961538,0.04166667,0.03739316,0.04027778,0.04027778,0.04565265,0.04027778,0.04181034,0.04181034,0.03968254,0.04821429,0.01388889,0.02884615,0.025,0.025,0.01315789,0.025,0.025,0.025,0.02380952,0.025,0.0,0.0,0.0,0.0,0.0,0.0,0.0,0.0,0.0,0.0,0.01,0.00980392,0.02230392,0.0225,0.02259186,0.02270408,0.02112069,0.02112069,0.02170868,0.02211538,0.0,0.0,0.0,0.0,0.0,0.0,0.0,0.0,0.0,0.0,0.0,0.0,0.0,0.0,0.0,0.0,0.0,0.0,0.0,0.0,0.0,0.0,0.0,0.0,0.00471698,0.0,0.00862069,0.00862069,0.0,0.00961538,0.005,0.00490196,0.00490196,0.005,0.00471698,0.00510204,0.00431034,0.00431034,0.00490196,0.00480769,0.10027778,0.09517974,0.09517974,0.09527778,0.07292603,0.09537982,0.07795567,0.07795567,0.09517974,0.08104396,0.12138889,0.12584842,0.11911765,0.12,0.1270393,0.12091837,0.12272167,0.12272167,0.11852241,0.1271978,0.0,0.0,0.0,0.0,0.0,0.0,0.0,0.0,0.0,0.0,0.02777778,0.02777778,0.02777778,0.02777778,0.02777778,0.02777778,0.025,0.025,0.02777778,0.03571429,0.02151215,0.01493324,0.025,0.01935992,0.0203785,0.01936202,0.01936373,0.01936315,0.01843101,0.025,0.0,0.0,0.0,0.0,0.0,0.0,0.0,0.0,0.0,0.0,0.0,0.00961538,0.0,0.0,0.0,0.0,0.0,0.0,0.0,0.0,0.0,0.0,0.0,0.0,0.0,0.0,0.0,0.0,0.0,0.0,0.005,0.00490196,0.00490196,0.005,0.00471698,0.00510204,0.00431034,0.00431034,0.00490196,0.0,0.01,0.00980392,0.00980392,0.01,0.00943396,0.01020408,0.00862069,0.00862069,0.00980392,0.00961538,0.015,0.01470588,0.01470588,0.015,0.01415094,0.01530612,0.01293103,0.01293103,0.01470588,0.01442308,0.06055556,0.06045752,0.06045752,0.06055556,0.06027254,0.0606576,0.05431034,0.05431034,0.06045752,0.04052198,0.05625,0.0557598,0.0557598,0.05625,0.05929919,0.0567602,0.05726601,0.05726601,0.0557598,0.05975275,0.005,0.00490196,0.00490196,0.005,0.00471698,0.00510204,0.00431034,0.00431034,0.00490196,0.0,0.0,0.00961538,0.0,0.0,0.0,0.0,0.0,0.0,0.0,0.0,0.0,0.0,0.0,0.0,0.0,0.0,0.0,0.0,0.0,0.0,0.04666667,0.04229512,0.04517974,0.04527778,0.04565265,0.04537982,0.04612069,0.04612069,0.0445845,0.05302198,0.005,0.00490196,0.00490196,0.005,0.00471698,0.00510204,0.00431034,0.00431034,0.00490196,0.00480769],\"x0\":\" \",\"xaxis\":\"x\",\"y\":[\"wSMI_1_mean\",\"wSMI_1_mean\",\"wSMI_1_mean\",\"wSMI_1_mean\",\"wSMI_1_mean\",\"wSMI_1_mean\",\"wSMI_1_mean\",\"wSMI_1_mean\",\"wSMI_1_mean\",\"wSMI_1_mean\",\"wSMI_1_std\",\"wSMI_1_std\",\"wSMI_1_std\",\"wSMI_1_std\",\"wSMI_1_std\",\"wSMI_1_std\",\"wSMI_1_std\",\"wSMI_1_std\",\"wSMI_1_std\",\"wSMI_1_std\",\"wSMI_2_mean\",\"wSMI_2_mean\",\"wSMI_2_mean\",\"wSMI_2_mean\",\"wSMI_2_mean\",\"wSMI_2_mean\",\"wSMI_2_mean\",\"wSMI_2_mean\",\"wSMI_2_mean\",\"wSMI_2_mean\",\"wSMI_2_std\",\"wSMI_2_std\",\"wSMI_2_std\",\"wSMI_2_std\",\"wSMI_2_std\",\"wSMI_2_std\",\"wSMI_2_std\",\"wSMI_2_std\",\"wSMI_2_std\",\"wSMI_2_std\",\"wSMI_4_mean\",\"wSMI_4_mean\",\"wSMI_4_mean\",\"wSMI_4_mean\",\"wSMI_4_mean\",\"wSMI_4_mean\",\"wSMI_4_mean\",\"wSMI_4_mean\",\"wSMI_4_mean\",\"wSMI_4_mean\",\"wSMI_4_std\",\"wSMI_4_std\",\"wSMI_4_std\",\"wSMI_4_std\",\"wSMI_4_std\",\"wSMI_4_std\",\"wSMI_4_std\",\"wSMI_4_std\",\"wSMI_4_std\",\"wSMI_4_std\",\"wSMI_8_mean\",\"wSMI_8_mean\",\"wSMI_8_mean\",\"wSMI_8_mean\",\"wSMI_8_mean\",\"wSMI_8_mean\",\"wSMI_8_mean\",\"wSMI_8_mean\",\"wSMI_8_mean\",\"wSMI_8_mean\",\"wSMI_8_std\",\"wSMI_8_std\",\"wSMI_8_std\",\"wSMI_8_std\",\"wSMI_8_std\",\"wSMI_8_std\",\"wSMI_8_std\",\"wSMI_8_std\",\"wSMI_8_std\",\"wSMI_8_std\",\"p_e_1_mean\",\"p_e_1_mean\",\"p_e_1_mean\",\"p_e_1_mean\",\"p_e_1_mean\",\"p_e_1_mean\",\"p_e_1_mean\",\"p_e_1_mean\",\"p_e_1_mean\",\"p_e_1_mean\",\"p_e_1_std\",\"p_e_1_std\",\"p_e_1_std\",\"p_e_1_std\",\"p_e_1_std\",\"p_e_1_std\",\"p_e_1_std\",\"p_e_1_std\",\"p_e_1_std\",\"p_e_1_std\",\"p_e_2_mean\",\"p_e_2_mean\",\"p_e_2_mean\",\"p_e_2_mean\",\"p_e_2_mean\",\"p_e_2_mean\",\"p_e_2_mean\",\"p_e_2_mean\",\"p_e_2_mean\",\"p_e_2_mean\",\"p_e_2_std\",\"p_e_2_std\",\"p_e_2_std\",\"p_e_2_std\",\"p_e_2_std\",\"p_e_2_std\",\"p_e_2_std\",\"p_e_2_std\",\"p_e_2_std\",\"p_e_2_std\",\"p_e_4_mean\",\"p_e_4_mean\",\"p_e_4_mean\",\"p_e_4_mean\",\"p_e_4_mean\",\"p_e_4_mean\",\"p_e_4_mean\",\"p_e_4_mean\",\"p_e_4_mean\",\"p_e_4_mean\",\"p_e_4_std\",\"p_e_4_std\",\"p_e_4_std\",\"p_e_4_std\",\"p_e_4_std\",\"p_e_4_std\",\"p_e_4_std\",\"p_e_4_std\",\"p_e_4_std\",\"p_e_4_std\",\"p_e_8_mean\",\"p_e_8_mean\",\"p_e_8_mean\",\"p_e_8_mean\",\"p_e_8_mean\",\"p_e_8_mean\",\"p_e_8_mean\",\"p_e_8_mean\",\"p_e_8_mean\",\"p_e_8_mean\",\"p_e_8_std\",\"p_e_8_std\",\"p_e_8_std\",\"p_e_8_std\",\"p_e_8_std\",\"p_e_8_std\",\"p_e_8_std\",\"p_e_8_std\",\"p_e_8_std\",\"p_e_8_std\",\"k_mean\",\"k_mean\",\"k_mean\",\"k_mean\",\"k_mean\",\"k_mean\",\"k_mean\",\"k_mean\",\"k_mean\",\"k_mean\",\"k_std\",\"k_std\",\"k_std\",\"k_std\",\"k_std\",\"k_std\",\"k_std\",\"k_std\",\"k_std\",\"k_std\",\"se_mean\",\"se_mean\",\"se_mean\",\"se_mean\",\"se_mean\",\"se_mean\",\"se_mean\",\"se_mean\",\"se_mean\",\"se_mean\",\"se_std\",\"se_std\",\"se_std\",\"se_std\",\"se_std\",\"se_std\",\"se_std\",\"se_std\",\"se_std\",\"se_std\",\"msf_mean\",\"msf_mean\",\"msf_mean\",\"msf_mean\",\"msf_mean\",\"msf_mean\",\"msf_mean\",\"msf_mean\",\"msf_mean\",\"msf_mean\",\"msf_std\",\"msf_std\",\"msf_std\",\"msf_std\",\"msf_std\",\"msf_std\",\"msf_std\",\"msf_std\",\"msf_std\",\"msf_std\",\"sef90_mean\",\"sef90_mean\",\"sef90_mean\",\"sef90_mean\",\"sef90_mean\",\"sef90_mean\",\"sef90_mean\",\"sef90_mean\",\"sef90_mean\",\"sef90_mean\",\"sef90_std\",\"sef90_std\",\"sef90_std\",\"sef90_std\",\"sef90_std\",\"sef90_std\",\"sef90_std\",\"sef90_std\",\"sef90_std\",\"sef90_std\",\"sef95_mean\",\"sef95_mean\",\"sef95_mean\",\"sef95_mean\",\"sef95_mean\",\"sef95_mean\",\"sef95_mean\",\"sef95_mean\",\"sef95_mean\",\"sef95_mean\",\"sef95_std\",\"sef95_std\",\"sef95_std\",\"sef95_std\",\"sef95_std\",\"sef95_std\",\"sef95_std\",\"sef95_std\",\"sef95_std\",\"sef95_std\",\"b_mean\",\"b_mean\",\"b_mean\",\"b_mean\",\"b_mean\",\"b_mean\",\"b_mean\",\"b_mean\",\"b_mean\",\"b_mean\",\"b_std\",\"b_std\",\"b_std\",\"b_std\",\"b_std\",\"b_std\",\"b_std\",\"b_std\",\"b_std\",\"b_std\",\"b_n_mean\",\"b_n_mean\",\"b_n_mean\",\"b_n_mean\",\"b_n_mean\",\"b_n_mean\",\"b_n_mean\",\"b_n_mean\",\"b_n_mean\",\"b_n_mean\",\"b_n_std\",\"b_n_std\",\"b_n_std\",\"b_n_std\",\"b_n_std\",\"b_n_std\",\"b_n_std\",\"b_n_std\",\"b_n_std\",\"b_n_std\",\"g_mean\",\"g_mean\",\"g_mean\",\"g_mean\",\"g_mean\",\"g_mean\",\"g_mean\",\"g_mean\",\"g_mean\",\"g_mean\",\"g_std\",\"g_std\",\"g_std\",\"g_std\",\"g_std\",\"g_std\",\"g_std\",\"g_std\",\"g_std\",\"g_std\",\"g_n_mean\",\"g_n_mean\",\"g_n_mean\",\"g_n_mean\",\"g_n_mean\",\"g_n_mean\",\"g_n_mean\",\"g_n_mean\",\"g_n_mean\",\"g_n_mean\",\"g_n_std\",\"g_n_std\",\"g_n_std\",\"g_n_std\",\"g_n_std\",\"g_n_std\",\"g_n_std\",\"g_n_std\",\"g_n_std\",\"g_n_std\",\"t_mean\",\"t_mean\",\"t_mean\",\"t_mean\",\"t_mean\",\"t_mean\",\"t_mean\",\"t_mean\",\"t_mean\",\"t_mean\",\"t_std\",\"t_std\",\"t_std\",\"t_std\",\"t_std\",\"t_std\",\"t_std\",\"t_std\",\"t_std\",\"t_std\",\"t_n_mean\",\"t_n_mean\",\"t_n_mean\",\"t_n_mean\",\"t_n_mean\",\"t_n_mean\",\"t_n_mean\",\"t_n_mean\",\"t_n_mean\",\"t_n_mean\",\"t_n_std\",\"t_n_std\",\"t_n_std\",\"t_n_std\",\"t_n_std\",\"t_n_std\",\"t_n_std\",\"t_n_std\",\"t_n_std\",\"t_n_std\",\"d_mean\",\"d_mean\",\"d_mean\",\"d_mean\",\"d_mean\",\"d_mean\",\"d_mean\",\"d_mean\",\"d_mean\",\"d_mean\",\"d_std\",\"d_std\",\"d_std\",\"d_std\",\"d_std\",\"d_std\",\"d_std\",\"d_std\",\"d_std\",\"d_std\",\"d_n_mean\",\"d_n_mean\",\"d_n_mean\",\"d_n_mean\",\"d_n_mean\",\"d_n_mean\",\"d_n_mean\",\"d_n_mean\",\"d_n_mean\",\"d_n_mean\",\"d_n_std\",\"d_n_std\",\"d_n_std\",\"d_n_std\",\"d_n_std\",\"d_n_std\",\"d_n_std\",\"d_n_std\",\"d_n_std\",\"d_n_std\",\"a_n_mean\",\"a_n_mean\",\"a_n_mean\",\"a_n_mean\",\"a_n_mean\",\"a_n_mean\",\"a_n_mean\",\"a_n_mean\",\"a_n_mean\",\"a_n_mean\",\"a_n_std\",\"a_n_std\",\"a_n_std\",\"a_n_std\",\"a_n_std\",\"a_n_std\",\"a_n_std\",\"a_n_std\",\"a_n_std\",\"a_n_std\",\"a_mean\",\"a_mean\",\"a_mean\",\"a_mean\",\"a_mean\",\"a_mean\",\"a_mean\",\"a_mean\",\"a_mean\",\"a_mean\",\"a_std\",\"a_std\",\"a_std\",\"a_std\",\"a_std\",\"a_std\",\"a_std\",\"a_std\",\"a_std\",\"a_std\",\"CNV_mean\",\"CNV_mean\",\"CNV_mean\",\"CNV_mean\",\"CNV_mean\",\"CNV_mean\",\"CNV_mean\",\"CNV_mean\",\"CNV_mean\",\"CNV_mean\",\"CNV_std\",\"CNV_std\",\"CNV_std\",\"CNV_std\",\"CNV_std\",\"CNV_std\",\"CNV_std\",\"CNV_std\",\"CNV_std\",\"CNV_std\",\"P1_mean\",\"P1_mean\",\"P1_mean\",\"P1_mean\",\"P1_mean\",\"P1_mean\",\"P1_mean\",\"P1_mean\",\"P1_mean\",\"P1_mean\",\"P1_std\",\"P1_std\",\"P1_std\",\"P1_std\",\"P1_std\",\"P1_std\",\"P1_std\",\"P1_std\",\"P1_std\",\"P1_std\",\"P3a_mean\",\"P3a_mean\",\"P3a_mean\",\"P3a_mean\",\"P3a_mean\",\"P3a_mean\",\"P3a_mean\",\"P3a_mean\",\"P3a_mean\",\"P3a_mean\",\"P3a_std\",\"P3a_std\",\"P3a_std\",\"P3a_std\",\"P3a_std\",\"P3a_std\",\"P3a_std\",\"P3a_std\",\"P3a_std\",\"P3a_std\",\"P3b_mean\",\"P3b_mean\",\"P3b_mean\",\"P3b_mean\",\"P3b_mean\",\"P3b_mean\",\"P3b_mean\",\"P3b_mean\",\"P3b_mean\",\"P3b_mean\",\"P3b_std\",\"P3b_std\",\"P3b_std\",\"P3b_std\",\"P3b_std\",\"P3b_std\",\"P3b_std\",\"P3b_std\",\"P3b_std\",\"P3b_std\"],\"y0\":\" \",\"yaxis\":\"y\",\"type\":\"box\"}],                        {\"template\":{\"data\":{\"barpolar\":[{\"marker\":{\"line\":{\"color\":\"white\",\"width\":0.5},\"pattern\":{\"fillmode\":\"overlay\",\"size\":10,\"solidity\":0.2}},\"type\":\"barpolar\"}],\"bar\":[{\"error_x\":{\"color\":\"#2a3f5f\"},\"error_y\":{\"color\":\"#2a3f5f\"},\"marker\":{\"line\":{\"color\":\"white\",\"width\":0.5},\"pattern\":{\"fillmode\":\"overlay\",\"size\":10,\"solidity\":0.2}},\"type\":\"bar\"}],\"carpet\":[{\"aaxis\":{\"endlinecolor\":\"#2a3f5f\",\"gridcolor\":\"#C8D4E3\",\"linecolor\":\"#C8D4E3\",\"minorgridcolor\":\"#C8D4E3\",\"startlinecolor\":\"#2a3f5f\"},\"baxis\":{\"endlinecolor\":\"#2a3f5f\",\"gridcolor\":\"#C8D4E3\",\"linecolor\":\"#C8D4E3\",\"minorgridcolor\":\"#C8D4E3\",\"startlinecolor\":\"#2a3f5f\"},\"type\":\"carpet\"}],\"choropleth\":[{\"colorbar\":{\"outlinewidth\":0,\"ticks\":\"\"},\"type\":\"choropleth\"}],\"contourcarpet\":[{\"colorbar\":{\"outlinewidth\":0,\"ticks\":\"\"},\"type\":\"contourcarpet\"}],\"contour\":[{\"colorbar\":{\"outlinewidth\":0,\"ticks\":\"\"},\"colorscale\":[[0.0,\"#0d0887\"],[0.1111111111111111,\"#46039f\"],[0.2222222222222222,\"#7201a8\"],[0.3333333333333333,\"#9c179e\"],[0.4444444444444444,\"#bd3786\"],[0.5555555555555556,\"#d8576b\"],[0.6666666666666666,\"#ed7953\"],[0.7777777777777778,\"#fb9f3a\"],[0.8888888888888888,\"#fdca26\"],[1.0,\"#f0f921\"]],\"type\":\"contour\"}],\"heatmapgl\":[{\"colorbar\":{\"outlinewidth\":0,\"ticks\":\"\"},\"colorscale\":[[0.0,\"#0d0887\"],[0.1111111111111111,\"#46039f\"],[0.2222222222222222,\"#7201a8\"],[0.3333333333333333,\"#9c179e\"],[0.4444444444444444,\"#bd3786\"],[0.5555555555555556,\"#d8576b\"],[0.6666666666666666,\"#ed7953\"],[0.7777777777777778,\"#fb9f3a\"],[0.8888888888888888,\"#fdca26\"],[1.0,\"#f0f921\"]],\"type\":\"heatmapgl\"}],\"heatmap\":[{\"colorbar\":{\"outlinewidth\":0,\"ticks\":\"\"},\"colorscale\":[[0.0,\"#0d0887\"],[0.1111111111111111,\"#46039f\"],[0.2222222222222222,\"#7201a8\"],[0.3333333333333333,\"#9c179e\"],[0.4444444444444444,\"#bd3786\"],[0.5555555555555556,\"#d8576b\"],[0.6666666666666666,\"#ed7953\"],[0.7777777777777778,\"#fb9f3a\"],[0.8888888888888888,\"#fdca26\"],[1.0,\"#f0f921\"]],\"type\":\"heatmap\"}],\"histogram2dcontour\":[{\"colorbar\":{\"outlinewidth\":0,\"ticks\":\"\"},\"colorscale\":[[0.0,\"#0d0887\"],[0.1111111111111111,\"#46039f\"],[0.2222222222222222,\"#7201a8\"],[0.3333333333333333,\"#9c179e\"],[0.4444444444444444,\"#bd3786\"],[0.5555555555555556,\"#d8576b\"],[0.6666666666666666,\"#ed7953\"],[0.7777777777777778,\"#fb9f3a\"],[0.8888888888888888,\"#fdca26\"],[1.0,\"#f0f921\"]],\"type\":\"histogram2dcontour\"}],\"histogram2d\":[{\"colorbar\":{\"outlinewidth\":0,\"ticks\":\"\"},\"colorscale\":[[0.0,\"#0d0887\"],[0.1111111111111111,\"#46039f\"],[0.2222222222222222,\"#7201a8\"],[0.3333333333333333,\"#9c179e\"],[0.4444444444444444,\"#bd3786\"],[0.5555555555555556,\"#d8576b\"],[0.6666666666666666,\"#ed7953\"],[0.7777777777777778,\"#fb9f3a\"],[0.8888888888888888,\"#fdca26\"],[1.0,\"#f0f921\"]],\"type\":\"histogram2d\"}],\"histogram\":[{\"marker\":{\"pattern\":{\"fillmode\":\"overlay\",\"size\":10,\"solidity\":0.2}},\"type\":\"histogram\"}],\"mesh3d\":[{\"colorbar\":{\"outlinewidth\":0,\"ticks\":\"\"},\"type\":\"mesh3d\"}],\"parcoords\":[{\"line\":{\"colorbar\":{\"outlinewidth\":0,\"ticks\":\"\"}},\"type\":\"parcoords\"}],\"pie\":[{\"automargin\":true,\"type\":\"pie\"}],\"scatter3d\":[{\"line\":{\"colorbar\":{\"outlinewidth\":0,\"ticks\":\"\"}},\"marker\":{\"colorbar\":{\"outlinewidth\":0,\"ticks\":\"\"}},\"type\":\"scatter3d\"}],\"scattercarpet\":[{\"marker\":{\"colorbar\":{\"outlinewidth\":0,\"ticks\":\"\"}},\"type\":\"scattercarpet\"}],\"scattergeo\":[{\"marker\":{\"colorbar\":{\"outlinewidth\":0,\"ticks\":\"\"}},\"type\":\"scattergeo\"}],\"scattergl\":[{\"marker\":{\"colorbar\":{\"outlinewidth\":0,\"ticks\":\"\"}},\"type\":\"scattergl\"}],\"scattermapbox\":[{\"marker\":{\"colorbar\":{\"outlinewidth\":0,\"ticks\":\"\"}},\"type\":\"scattermapbox\"}],\"scatterpolargl\":[{\"marker\":{\"colorbar\":{\"outlinewidth\":0,\"ticks\":\"\"}},\"type\":\"scatterpolargl\"}],\"scatterpolar\":[{\"marker\":{\"colorbar\":{\"outlinewidth\":0,\"ticks\":\"\"}},\"type\":\"scatterpolar\"}],\"scatter\":[{\"fillpattern\":{\"fillmode\":\"overlay\",\"size\":10,\"solidity\":0.2},\"type\":\"scatter\"}],\"scatterternary\":[{\"marker\":{\"colorbar\":{\"outlinewidth\":0,\"ticks\":\"\"}},\"type\":\"scatterternary\"}],\"surface\":[{\"colorbar\":{\"outlinewidth\":0,\"ticks\":\"\"},\"colorscale\":[[0.0,\"#0d0887\"],[0.1111111111111111,\"#46039f\"],[0.2222222222222222,\"#7201a8\"],[0.3333333333333333,\"#9c179e\"],[0.4444444444444444,\"#bd3786\"],[0.5555555555555556,\"#d8576b\"],[0.6666666666666666,\"#ed7953\"],[0.7777777777777778,\"#fb9f3a\"],[0.8888888888888888,\"#fdca26\"],[1.0,\"#f0f921\"]],\"type\":\"surface\"}],\"table\":[{\"cells\":{\"fill\":{\"color\":\"#EBF0F8\"},\"line\":{\"color\":\"white\"}},\"header\":{\"fill\":{\"color\":\"#C8D4E3\"},\"line\":{\"color\":\"white\"}},\"type\":\"table\"}]},\"layout\":{\"annotationdefaults\":{\"arrowcolor\":\"#2a3f5f\",\"arrowhead\":0,\"arrowwidth\":1},\"autotypenumbers\":\"strict\",\"coloraxis\":{\"colorbar\":{\"outlinewidth\":0,\"ticks\":\"\"}},\"colorscale\":{\"diverging\":[[0,\"#8e0152\"],[0.1,\"#c51b7d\"],[0.2,\"#de77ae\"],[0.3,\"#f1b6da\"],[0.4,\"#fde0ef\"],[0.5,\"#f7f7f7\"],[0.6,\"#e6f5d0\"],[0.7,\"#b8e186\"],[0.8,\"#7fbc41\"],[0.9,\"#4d9221\"],[1,\"#276419\"]],\"sequential\":[[0.0,\"#0d0887\"],[0.1111111111111111,\"#46039f\"],[0.2222222222222222,\"#7201a8\"],[0.3333333333333333,\"#9c179e\"],[0.4444444444444444,\"#bd3786\"],[0.5555555555555556,\"#d8576b\"],[0.6666666666666666,\"#ed7953\"],[0.7777777777777778,\"#fb9f3a\"],[0.8888888888888888,\"#fdca26\"],[1.0,\"#f0f921\"]],\"sequentialminus\":[[0.0,\"#0d0887\"],[0.1111111111111111,\"#46039f\"],[0.2222222222222222,\"#7201a8\"],[0.3333333333333333,\"#9c179e\"],[0.4444444444444444,\"#bd3786\"],[0.5555555555555556,\"#d8576b\"],[0.6666666666666666,\"#ed7953\"],[0.7777777777777778,\"#fb9f3a\"],[0.8888888888888888,\"#fdca26\"],[1.0,\"#f0f921\"]]},\"colorway\":[\"#636efa\",\"#EF553B\",\"#00cc96\",\"#ab63fa\",\"#FFA15A\",\"#19d3f3\",\"#FF6692\",\"#B6E880\",\"#FF97FF\",\"#FECB52\"],\"font\":{\"color\":\"#2a3f5f\"},\"geo\":{\"bgcolor\":\"white\",\"lakecolor\":\"white\",\"landcolor\":\"white\",\"showlakes\":true,\"showland\":true,\"subunitcolor\":\"#C8D4E3\"},\"hoverlabel\":{\"align\":\"left\"},\"hovermode\":\"closest\",\"mapbox\":{\"style\":\"light\"},\"paper_bgcolor\":\"white\",\"plot_bgcolor\":\"white\",\"polar\":{\"angularaxis\":{\"gridcolor\":\"#EBF0F8\",\"linecolor\":\"#EBF0F8\",\"ticks\":\"\"},\"bgcolor\":\"white\",\"radialaxis\":{\"gridcolor\":\"#EBF0F8\",\"linecolor\":\"#EBF0F8\",\"ticks\":\"\"}},\"scene\":{\"xaxis\":{\"backgroundcolor\":\"white\",\"gridcolor\":\"#DFE8F3\",\"gridwidth\":2,\"linecolor\":\"#EBF0F8\",\"showbackground\":true,\"ticks\":\"\",\"zerolinecolor\":\"#EBF0F8\"},\"yaxis\":{\"backgroundcolor\":\"white\",\"gridcolor\":\"#DFE8F3\",\"gridwidth\":2,\"linecolor\":\"#EBF0F8\",\"showbackground\":true,\"ticks\":\"\",\"zerolinecolor\":\"#EBF0F8\"},\"zaxis\":{\"backgroundcolor\":\"white\",\"gridcolor\":\"#DFE8F3\",\"gridwidth\":2,\"linecolor\":\"#EBF0F8\",\"showbackground\":true,\"ticks\":\"\",\"zerolinecolor\":\"#EBF0F8\"}},\"shapedefaults\":{\"line\":{\"color\":\"#2a3f5f\"}},\"ternary\":{\"aaxis\":{\"gridcolor\":\"#DFE8F3\",\"linecolor\":\"#A2B1C6\",\"ticks\":\"\"},\"baxis\":{\"gridcolor\":\"#DFE8F3\",\"linecolor\":\"#A2B1C6\",\"ticks\":\"\"},\"bgcolor\":\"white\",\"caxis\":{\"gridcolor\":\"#DFE8F3\",\"linecolor\":\"#A2B1C6\",\"ticks\":\"\"}},\"title\":{\"x\":0.05},\"xaxis\":{\"automargin\":true,\"gridcolor\":\"#EBF0F8\",\"linecolor\":\"#EBF0F8\",\"ticks\":\"\",\"title\":{\"standoff\":15},\"zerolinecolor\":\"#EBF0F8\",\"zerolinewidth\":2},\"yaxis\":{\"automargin\":true,\"gridcolor\":\"#EBF0F8\",\"linecolor\":\"#EBF0F8\",\"ticks\":\"\",\"title\":{\"standoff\":15},\"zerolinecolor\":\"#EBF0F8\",\"zerolinewidth\":2}}},\"xaxis\":{\"anchor\":\"y\",\"domain\":[0.0,1.0],\"title\":{\"text\":\"Feature Importance\"},\"tickfont\":{\"size\":20},\"visible\":true,\"range\":[0,0.25]},\"yaxis\":{\"anchor\":\"x\",\"domain\":[0.0,1.0],\"title\":{\"text\":\"Feature\"},\"categoryorder\":\"total ascending\",\"tickfont\":{\"size\":20},\"automargin\":true,\"range\":[-1,54],\"dtick\":1},\"legend\":{\"tracegroupgap\":0},\"title\":{\"text\":\"FI of Top 10 Models on-task_vs_mw \\u003cbr \\u003e\\nAverage AUC 0.642 \\u003cbr\\u003e\\nBest AUC 0.649\\n                 \"},\"boxmode\":\"group\",\"font\":{\"family\":\"Times new roman\",\"size\":20,\"color\":\"black\"},\"margin\":{\"l\":50,\"r\":50,\"t\":150,\"b\":50},\"width\":650,\"height\":1100,\"showlegend\":true},                        {\"responsive\": true}                    ).then(function(){\n",
       "                            \n",
       "var gd = document.getElementById('7d7839c2-98bb-45de-a3f7-73acaeb1b314');\n",
       "var x = new MutationObserver(function (mutations, observer) {{\n",
       "        var display = window.getComputedStyle(gd).display;\n",
       "        if (!display || display === 'none') {{\n",
       "            console.log([gd, 'removed!']);\n",
       "            Plotly.purge(gd);\n",
       "            observer.disconnect();\n",
       "        }}\n",
       "}});\n",
       "\n",
       "// Listen for the removal of the full notebook cells\n",
       "var notebookContainer = gd.closest('#notebook-container');\n",
       "if (notebookContainer) {{\n",
       "    x.observe(notebookContainer, {childList: true});\n",
       "}}\n",
       "\n",
       "// Listen for the clearing of the current output cell\n",
       "var outputEl = gd.closest('.output');\n",
       "if (outputEl) {{\n",
       "    x.observe(outputEl, {childList: true});\n",
       "}}\n",
       "\n",
       "                        })                };                });            </script>        </div>"
      ]
     },
     "metadata": {},
     "output_type": "display_data"
    },
    {
     "data": {
      "application/vnd.plotly.v1+json": {
       "config": {
        "plotlyServerURL": "https://plot.ly"
       },
       "data": [
        {
         "alignmentgroup": "True",
         "hovertemplate": "Importance=%{x}<br>Feature=%{y}<extra></extra>",
         "legendgroup": "",
         "marker": {
          "color": "#9AC529",
          "size": 8
         },
         "name": "",
         "notched": false,
         "offsetgroup": "",
         "orientation": "h",
         "showlegend": false,
         "type": "box",
         "x": [
          0.00520833,
          0.00883774,
          0.00837366,
          0.01081365,
          0.00936796,
          0.00982101,
          0.00726066,
          0.00959182,
          0.00872444,
          0.00625,
          0,
          0,
          0,
          0,
          0.00191647,
          0.00191647,
          0,
          0,
          0,
          0.00117611,
          0.01183142,
          0.00664293,
          0.00910457,
          0.0086395,
          0.01098105,
          0.01115907,
          0.01386863,
          0.0047393,
          0.01604383,
          0.01038906,
          0,
          0.00082509,
          0.00075461,
          0.00758083,
          0.00232695,
          0.00232695,
          0.00478652,
          0.00717696,
          0.00725454,
          0,
          0.1186565,
          0.12635097,
          0.12251029,
          0.10958482,
          0.08884969,
          0.08759376,
          0.11184067,
          0.10707463,
          0.11038555,
          0.10492606,
          0.0197366,
          0.01244396,
          0.01505017,
          0.02209634,
          0.01701439,
          0.01719245,
          0.02592282,
          0.01716412,
          0.02615665,
          0.0125,
          0.01595745,
          0.01713846,
          0.01849541,
          0.01026705,
          0.02071676,
          0.02075913,
          0.01462693,
          0.00980392,
          0.00961538,
          0.00609756,
          0.01552354,
          0.0152387,
          0.01939637,
          0.02111368,
          0.01395669,
          0.01431733,
          0.02065575,
          0.02141482,
          0.02086579,
          0.01702364,
          0.00778702,
          0.00963713,
          0.00960508,
          0.00779868,
          0.00737323,
          0.00737323,
          0.00877323,
          0.00647324,
          0.00761619,
          0.00595238,
          0.07079071,
          0.06174983,
          0.05509604,
          0.0361101,
          0.04881068,
          0.04929502,
          0.03576849,
          0.03799719,
          0.03074981,
          0.07044526,
          0.00599183,
          0,
          0,
          0.00848782,
          0.00278826,
          0.00759595,
          0.00808242,
          0.00853856,
          0.00823277,
          0,
          0.0149447,
          0.00818778,
          0.00513319,
          0.01469464,
          0.00736277,
          0.00736259,
          0.01611836,
          0.0147471,
          0.01605992,
          0.00647714,
          0.02990736,
          0.02727958,
          0.02435406,
          0.03414458,
          0.0421742,
          0.0453675,
          0.02667218,
          0.02684119,
          0.03306486,
          0.02608924,
          0.01014675,
          0.00480769,
          0.00480769,
          0.00480769,
          0.00579056,
          0.00128183,
          0.00610878,
          0.00471698,
          0.00471698,
          0.01208401,
          0.00391795,
          0,
          0,
          0.00066273,
          0,
          0,
          0.00392449,
          0,
          0.0041483,
          0,
          0.01470256,
          0.00543478,
          0.00543478,
          0.01062628,
          0.01090054,
          0.01116708,
          0.01031081,
          0.01070174,
          0.01031,
          0.00625,
          0.00643318,
          0.01097823,
          0.01625985,
          0.01655006,
          0.01625442,
          0.01016556,
          0.01587157,
          0.01161076,
          0.01620635,
          0.01072015,
          0.02917195,
          0.03736035,
          0.03734459,
          0.03491966,
          0.03633953,
          0.03646828,
          0.03815987,
          0.0339488,
          0.03611208,
          0.02816276,
          0.00060336,
          0,
          0.00071113,
          0,
          0.00335474,
          0.00325989,
          0.00294077,
          0.00283952,
          0,
          0,
          0.01665278,
          0.0158132,
          0.02066528,
          0.02594896,
          0.04131494,
          0.03732575,
          0.02587083,
          0.03166644,
          0.03001441,
          0.0296023,
          0.00792553,
          0.00543478,
          0.00332465,
          0.00232512,
          0.00535446,
          0.00480769,
          0.00086705,
          0.00227469,
          0.00083908,
          0.00169108,
          0.0063507,
          0.00543478,
          0.01086957,
          0.01512749,
          0.00445141,
          0.00943824,
          0.01521263,
          0.01409813,
          0.01515733,
          0.01875,
          0.00413158,
          0.00480769,
          0.00432785,
          0.00315332,
          0.0014984,
          0.00140025,
          0.00297462,
          0.00294419,
          0.00316277,
          0,
          0.02045683,
          0.01941931,
          0.02478433,
          0.01588332,
          0.02105623,
          0.01886739,
          0.01621542,
          0.0151386,
          0.01562619,
          0.01092482,
          0.00791504,
          0.00343098,
          0.00500249,
          0.00787038,
          0.0061741,
          0.00316805,
          0.00846341,
          0.00747883,
          0.00735936,
          0.00341388,
          0.00586114,
          0.0032135,
          0.00334931,
          0.00304555,
          0.00414953,
          0.00442714,
          0.00292746,
          0.00501109,
          0.00294595,
          0.00625,
          0.077461,
          0.1087151,
          0.10124843,
          0.07939551,
          0.08124963,
          0.08194088,
          0.07698815,
          0.08635664,
          0.08412602,
          0.10299534,
          0.01444146,
          0.00770604,
          0.01142115,
          0.00971698,
          0.00298014,
          0.0029813,
          0.00819201,
          0.00823534,
          0.00462963,
          0.00463401,
          0.03141106,
          0.03948254,
          0.04363078,
          0.05545433,
          0.03850708,
          0.03901067,
          0.05747301,
          0.06109468,
          0.05510405,
          0.04639245,
          0.02685568,
          0.02125542,
          0.01790641,
          0.02625285,
          0.02815088,
          0.02567249,
          0.03003523,
          0.0306785,
          0.0260423,
          0.02062887,
          0.03622335,
          0.03120356,
          0.02868234,
          0.03205994,
          0.03778913,
          0.03395008,
          0.02904458,
          0.03570484,
          0.03015011,
          0.02345549,
          0.00561371,
          0.00480769,
          0.00570297,
          0.00480769,
          0.00593569,
          0.01074597,
          0.00480769,
          0.00471698,
          0.00471698,
          0.00764873,
          0.01551871,
          0.01524247,
          0.01982806,
          0.01980769,
          0.0280167,
          0.02828995,
          0.01884559,
          0.02667125,
          0.02596424,
          0.01776528,
          0.00090665,
          0.00088782,
          0.00632225,
          0.00480769,
          0.00704702,
          0.00704766,
          0.00480769,
          0.00462963,
          0.00462963,
          0.01028809,
          0.03068551,
          0.03765719,
          0.03967614,
          0.02803139,
          0.03569235,
          0.03299635,
          0.02458624,
          0.02304065,
          0.02686057,
          0.03687325,
          0.02202476,
          0.01505095,
          0.01642219,
          0.01710626,
          0.00692043,
          0.00709849,
          0.01635871,
          0.01772294,
          0.01680382,
          0.00288729,
          0.02706975,
          0.02455462,
          0.02503946,
          0.03347475,
          0.03039298,
          0.03559898,
          0.03830337,
          0.03748739,
          0.03245712,
          0.03382941,
          0.04066275,
          0.03811538,
          0.03691009,
          0.04113527,
          0.04117308,
          0.04135114,
          0.03449696,
          0.03221337,
          0.03001143,
          0.04071094,
          0.01009143,
          0.01293721,
          0.01226748,
          0.01037102,
          0.00724152,
          0.00724152,
          0.01113369,
          0.01019691,
          0.0100806,
          0.00807091,
          0.01431083,
          0.00856821,
          0.00856889,
          0.01261733,
          0.00875878,
          0.00880736,
          0.01249547,
          0.01342672,
          0.01328505,
          0.00838277,
          0.04620786,
          0.05760652,
          0.05690327,
          0.04598705,
          0.05328912,
          0.04731545,
          0.04672772,
          0.04233866,
          0.04504882,
          0.06087483,
          0,
          0.00543478,
          0,
          0,
          0,
          0,
          0,
          0,
          0,
          0,
          0.03122336,
          0.03319045,
          0.02273522,
          0.03299803,
          0.01467858,
          0.01991888,
          0.03420014,
          0.0334029,
          0.03954471,
          0.01179411,
          0.01464259,
          0.01307352,
          0.01299181,
          0.01032649,
          0.01753521,
          0.01442691,
          0.01002192,
          0.01011029,
          0.00970965,
          0.02467654,
          0.01041667,
          0.01089061,
          0.00897435,
          0.00537595,
          0.01182237,
          0.01663006,
          0.00213171,
          0.00537361,
          0.00200089,
          0.00642111,
          0.00964145,
          0.00226328,
          0.00471778,
          0.00638306,
          0.00339698,
          0.00339524,
          0.00626126,
          0.00602295,
          0.00598127,
          0,
          0.01031037,
          0.01749596,
          0.013123,
          0.01213551,
          0.01925626,
          0.01935868,
          0.01193794,
          0.01215052,
          0.01665865,
          0.02622824,
          0.01782973,
          0.0188656,
          0.02228465,
          0.01487287,
          0.01741443,
          0.01747692,
          0.01113863,
          0.01453793,
          0.01097731,
          0.03121936,
          0.01581703,
          0.01810073,
          0.0113306,
          0.02029368,
          0.02056499,
          0.02074305,
          0.01966741,
          0.02349306,
          0.01972279,
          0.02240152,
          0.01041667,
          0.01586957,
          0.01609126,
          0.01710827,
          0.00943732,
          0.01304237,
          0.01686864,
          0.0174108,
          0.01667932,
          0.00625,
          0.01552748,
          0.01491848,
          0.01676205,
          0.0107712,
          0.01797583,
          0.01953637,
          0.01248124,
          0.0112897,
          0.01103631,
          0.02081696,
          0.00156763,
          0,
          0,
          0,
          0.00292991,
          0,
          0.00043741,
          0,
          0.00046198,
          0,
          0.00719854,
          0.01063885,
          0.01070442,
          0.01145697,
          0.02156563,
          0.02156563,
          0.01152552,
          0.01279913,
          0.01114052,
          0.02348148,
          0.00531915,
          0.005,
          0.005,
          0.005,
          0,
          0,
          0.00480769,
          0.00490196,
          0.00480769,
          0.00609756
         ],
         "x0": " ",
         "xaxis": "x",
         "y": [
          "wSMI_1_mean",
          "wSMI_1_mean",
          "wSMI_1_mean",
          "wSMI_1_mean",
          "wSMI_1_mean",
          "wSMI_1_mean",
          "wSMI_1_mean",
          "wSMI_1_mean",
          "wSMI_1_mean",
          "wSMI_1_mean",
          "wSMI_1_std",
          "wSMI_1_std",
          "wSMI_1_std",
          "wSMI_1_std",
          "wSMI_1_std",
          "wSMI_1_std",
          "wSMI_1_std",
          "wSMI_1_std",
          "wSMI_1_std",
          "wSMI_1_std",
          "wSMI_2_mean",
          "wSMI_2_mean",
          "wSMI_2_mean",
          "wSMI_2_mean",
          "wSMI_2_mean",
          "wSMI_2_mean",
          "wSMI_2_mean",
          "wSMI_2_mean",
          "wSMI_2_mean",
          "wSMI_2_mean",
          "wSMI_2_std",
          "wSMI_2_std",
          "wSMI_2_std",
          "wSMI_2_std",
          "wSMI_2_std",
          "wSMI_2_std",
          "wSMI_2_std",
          "wSMI_2_std",
          "wSMI_2_std",
          "wSMI_2_std",
          "wSMI_4_mean",
          "wSMI_4_mean",
          "wSMI_4_mean",
          "wSMI_4_mean",
          "wSMI_4_mean",
          "wSMI_4_mean",
          "wSMI_4_mean",
          "wSMI_4_mean",
          "wSMI_4_mean",
          "wSMI_4_mean",
          "wSMI_4_std",
          "wSMI_4_std",
          "wSMI_4_std",
          "wSMI_4_std",
          "wSMI_4_std",
          "wSMI_4_std",
          "wSMI_4_std",
          "wSMI_4_std",
          "wSMI_4_std",
          "wSMI_4_std",
          "wSMI_8_mean",
          "wSMI_8_mean",
          "wSMI_8_mean",
          "wSMI_8_mean",
          "wSMI_8_mean",
          "wSMI_8_mean",
          "wSMI_8_mean",
          "wSMI_8_mean",
          "wSMI_8_mean",
          "wSMI_8_mean",
          "wSMI_8_std",
          "wSMI_8_std",
          "wSMI_8_std",
          "wSMI_8_std",
          "wSMI_8_std",
          "wSMI_8_std",
          "wSMI_8_std",
          "wSMI_8_std",
          "wSMI_8_std",
          "wSMI_8_std",
          "p_e_1_mean",
          "p_e_1_mean",
          "p_e_1_mean",
          "p_e_1_mean",
          "p_e_1_mean",
          "p_e_1_mean",
          "p_e_1_mean",
          "p_e_1_mean",
          "p_e_1_mean",
          "p_e_1_mean",
          "p_e_1_std",
          "p_e_1_std",
          "p_e_1_std",
          "p_e_1_std",
          "p_e_1_std",
          "p_e_1_std",
          "p_e_1_std",
          "p_e_1_std",
          "p_e_1_std",
          "p_e_1_std",
          "p_e_2_mean",
          "p_e_2_mean",
          "p_e_2_mean",
          "p_e_2_mean",
          "p_e_2_mean",
          "p_e_2_mean",
          "p_e_2_mean",
          "p_e_2_mean",
          "p_e_2_mean",
          "p_e_2_mean",
          "p_e_2_std",
          "p_e_2_std",
          "p_e_2_std",
          "p_e_2_std",
          "p_e_2_std",
          "p_e_2_std",
          "p_e_2_std",
          "p_e_2_std",
          "p_e_2_std",
          "p_e_2_std",
          "p_e_4_mean",
          "p_e_4_mean",
          "p_e_4_mean",
          "p_e_4_mean",
          "p_e_4_mean",
          "p_e_4_mean",
          "p_e_4_mean",
          "p_e_4_mean",
          "p_e_4_mean",
          "p_e_4_mean",
          "p_e_4_std",
          "p_e_4_std",
          "p_e_4_std",
          "p_e_4_std",
          "p_e_4_std",
          "p_e_4_std",
          "p_e_4_std",
          "p_e_4_std",
          "p_e_4_std",
          "p_e_4_std",
          "p_e_8_mean",
          "p_e_8_mean",
          "p_e_8_mean",
          "p_e_8_mean",
          "p_e_8_mean",
          "p_e_8_mean",
          "p_e_8_mean",
          "p_e_8_mean",
          "p_e_8_mean",
          "p_e_8_mean",
          "p_e_8_std",
          "p_e_8_std",
          "p_e_8_std",
          "p_e_8_std",
          "p_e_8_std",
          "p_e_8_std",
          "p_e_8_std",
          "p_e_8_std",
          "p_e_8_std",
          "p_e_8_std",
          "k_mean",
          "k_mean",
          "k_mean",
          "k_mean",
          "k_mean",
          "k_mean",
          "k_mean",
          "k_mean",
          "k_mean",
          "k_mean",
          "k_std",
          "k_std",
          "k_std",
          "k_std",
          "k_std",
          "k_std",
          "k_std",
          "k_std",
          "k_std",
          "k_std",
          "se_mean",
          "se_mean",
          "se_mean",
          "se_mean",
          "se_mean",
          "se_mean",
          "se_mean",
          "se_mean",
          "se_mean",
          "se_mean",
          "se_std",
          "se_std",
          "se_std",
          "se_std",
          "se_std",
          "se_std",
          "se_std",
          "se_std",
          "se_std",
          "se_std",
          "msf_mean",
          "msf_mean",
          "msf_mean",
          "msf_mean",
          "msf_mean",
          "msf_mean",
          "msf_mean",
          "msf_mean",
          "msf_mean",
          "msf_mean",
          "msf_std",
          "msf_std",
          "msf_std",
          "msf_std",
          "msf_std",
          "msf_std",
          "msf_std",
          "msf_std",
          "msf_std",
          "msf_std",
          "sef90_mean",
          "sef90_mean",
          "sef90_mean",
          "sef90_mean",
          "sef90_mean",
          "sef90_mean",
          "sef90_mean",
          "sef90_mean",
          "sef90_mean",
          "sef90_mean",
          "sef90_std",
          "sef90_std",
          "sef90_std",
          "sef90_std",
          "sef90_std",
          "sef90_std",
          "sef90_std",
          "sef90_std",
          "sef90_std",
          "sef90_std",
          "sef95_mean",
          "sef95_mean",
          "sef95_mean",
          "sef95_mean",
          "sef95_mean",
          "sef95_mean",
          "sef95_mean",
          "sef95_mean",
          "sef95_mean",
          "sef95_mean",
          "sef95_std",
          "sef95_std",
          "sef95_std",
          "sef95_std",
          "sef95_std",
          "sef95_std",
          "sef95_std",
          "sef95_std",
          "sef95_std",
          "sef95_std",
          "b_mean",
          "b_mean",
          "b_mean",
          "b_mean",
          "b_mean",
          "b_mean",
          "b_mean",
          "b_mean",
          "b_mean",
          "b_mean",
          "b_std",
          "b_std",
          "b_std",
          "b_std",
          "b_std",
          "b_std",
          "b_std",
          "b_std",
          "b_std",
          "b_std",
          "b_n_mean",
          "b_n_mean",
          "b_n_mean",
          "b_n_mean",
          "b_n_mean",
          "b_n_mean",
          "b_n_mean",
          "b_n_mean",
          "b_n_mean",
          "b_n_mean",
          "b_n_std",
          "b_n_std",
          "b_n_std",
          "b_n_std",
          "b_n_std",
          "b_n_std",
          "b_n_std",
          "b_n_std",
          "b_n_std",
          "b_n_std",
          "g_mean",
          "g_mean",
          "g_mean",
          "g_mean",
          "g_mean",
          "g_mean",
          "g_mean",
          "g_mean",
          "g_mean",
          "g_mean",
          "g_std",
          "g_std",
          "g_std",
          "g_std",
          "g_std",
          "g_std",
          "g_std",
          "g_std",
          "g_std",
          "g_std",
          "g_n_mean",
          "g_n_mean",
          "g_n_mean",
          "g_n_mean",
          "g_n_mean",
          "g_n_mean",
          "g_n_mean",
          "g_n_mean",
          "g_n_mean",
          "g_n_mean",
          "g_n_std",
          "g_n_std",
          "g_n_std",
          "g_n_std",
          "g_n_std",
          "g_n_std",
          "g_n_std",
          "g_n_std",
          "g_n_std",
          "g_n_std",
          "t_mean",
          "t_mean",
          "t_mean",
          "t_mean",
          "t_mean",
          "t_mean",
          "t_mean",
          "t_mean",
          "t_mean",
          "t_mean",
          "t_std",
          "t_std",
          "t_std",
          "t_std",
          "t_std",
          "t_std",
          "t_std",
          "t_std",
          "t_std",
          "t_std",
          "t_n_mean",
          "t_n_mean",
          "t_n_mean",
          "t_n_mean",
          "t_n_mean",
          "t_n_mean",
          "t_n_mean",
          "t_n_mean",
          "t_n_mean",
          "t_n_mean",
          "t_n_std",
          "t_n_std",
          "t_n_std",
          "t_n_std",
          "t_n_std",
          "t_n_std",
          "t_n_std",
          "t_n_std",
          "t_n_std",
          "t_n_std",
          "d_mean",
          "d_mean",
          "d_mean",
          "d_mean",
          "d_mean",
          "d_mean",
          "d_mean",
          "d_mean",
          "d_mean",
          "d_mean",
          "d_std",
          "d_std",
          "d_std",
          "d_std",
          "d_std",
          "d_std",
          "d_std",
          "d_std",
          "d_std",
          "d_std",
          "d_n_mean",
          "d_n_mean",
          "d_n_mean",
          "d_n_mean",
          "d_n_mean",
          "d_n_mean",
          "d_n_mean",
          "d_n_mean",
          "d_n_mean",
          "d_n_mean",
          "d_n_std",
          "d_n_std",
          "d_n_std",
          "d_n_std",
          "d_n_std",
          "d_n_std",
          "d_n_std",
          "d_n_std",
          "d_n_std",
          "d_n_std",
          "a_n_mean",
          "a_n_mean",
          "a_n_mean",
          "a_n_mean",
          "a_n_mean",
          "a_n_mean",
          "a_n_mean",
          "a_n_mean",
          "a_n_mean",
          "a_n_mean",
          "a_n_std",
          "a_n_std",
          "a_n_std",
          "a_n_std",
          "a_n_std",
          "a_n_std",
          "a_n_std",
          "a_n_std",
          "a_n_std",
          "a_n_std",
          "a_mean",
          "a_mean",
          "a_mean",
          "a_mean",
          "a_mean",
          "a_mean",
          "a_mean",
          "a_mean",
          "a_mean",
          "a_mean",
          "a_std",
          "a_std",
          "a_std",
          "a_std",
          "a_std",
          "a_std",
          "a_std",
          "a_std",
          "a_std",
          "a_std",
          "CNV_mean",
          "CNV_mean",
          "CNV_mean",
          "CNV_mean",
          "CNV_mean",
          "CNV_mean",
          "CNV_mean",
          "CNV_mean",
          "CNV_mean",
          "CNV_mean",
          "CNV_std",
          "CNV_std",
          "CNV_std",
          "CNV_std",
          "CNV_std",
          "CNV_std",
          "CNV_std",
          "CNV_std",
          "CNV_std",
          "CNV_std",
          "P1_mean",
          "P1_mean",
          "P1_mean",
          "P1_mean",
          "P1_mean",
          "P1_mean",
          "P1_mean",
          "P1_mean",
          "P1_mean",
          "P1_mean",
          "P1_std",
          "P1_std",
          "P1_std",
          "P1_std",
          "P1_std",
          "P1_std",
          "P1_std",
          "P1_std",
          "P1_std",
          "P1_std",
          "P3a_mean",
          "P3a_mean",
          "P3a_mean",
          "P3a_mean",
          "P3a_mean",
          "P3a_mean",
          "P3a_mean",
          "P3a_mean",
          "P3a_mean",
          "P3a_mean",
          "P3a_std",
          "P3a_std",
          "P3a_std",
          "P3a_std",
          "P3a_std",
          "P3a_std",
          "P3a_std",
          "P3a_std",
          "P3a_std",
          "P3a_std",
          "P3b_mean",
          "P3b_mean",
          "P3b_mean",
          "P3b_mean",
          "P3b_mean",
          "P3b_mean",
          "P3b_mean",
          "P3b_mean",
          "P3b_mean",
          "P3b_mean",
          "P3b_std",
          "P3b_std",
          "P3b_std",
          "P3b_std",
          "P3b_std",
          "P3b_std",
          "P3b_std",
          "P3b_std",
          "P3b_std",
          "P3b_std"
         ],
         "y0": " ",
         "yaxis": "y"
        }
       ],
       "layout": {
        "boxmode": "group",
        "font": {
         "color": "black",
         "family": "Times new roman",
         "size": 20
        },
        "height": 1100,
        "legend": {
         "tracegroupgap": 0
        },
        "margin": {
         "b": 50,
         "l": 50,
         "r": 50,
         "t": 150
        },
        "showlegend": true,
        "template": {
         "data": {
          "bar": [
           {
            "error_x": {
             "color": "#2a3f5f"
            },
            "error_y": {
             "color": "#2a3f5f"
            },
            "marker": {
             "line": {
              "color": "white",
              "width": 0.5
             },
             "pattern": {
              "fillmode": "overlay",
              "size": 10,
              "solidity": 0.2
             }
            },
            "type": "bar"
           }
          ],
          "barpolar": [
           {
            "marker": {
             "line": {
              "color": "white",
              "width": 0.5
             },
             "pattern": {
              "fillmode": "overlay",
              "size": 10,
              "solidity": 0.2
             }
            },
            "type": "barpolar"
           }
          ],
          "carpet": [
           {
            "aaxis": {
             "endlinecolor": "#2a3f5f",
             "gridcolor": "#C8D4E3",
             "linecolor": "#C8D4E3",
             "minorgridcolor": "#C8D4E3",
             "startlinecolor": "#2a3f5f"
            },
            "baxis": {
             "endlinecolor": "#2a3f5f",
             "gridcolor": "#C8D4E3",
             "linecolor": "#C8D4E3",
             "minorgridcolor": "#C8D4E3",
             "startlinecolor": "#2a3f5f"
            },
            "type": "carpet"
           }
          ],
          "choropleth": [
           {
            "colorbar": {
             "outlinewidth": 0,
             "ticks": ""
            },
            "type": "choropleth"
           }
          ],
          "contour": [
           {
            "colorbar": {
             "outlinewidth": 0,
             "ticks": ""
            },
            "colorscale": [
             [
              0,
              "#0d0887"
             ],
             [
              0.1111111111111111,
              "#46039f"
             ],
             [
              0.2222222222222222,
              "#7201a8"
             ],
             [
              0.3333333333333333,
              "#9c179e"
             ],
             [
              0.4444444444444444,
              "#bd3786"
             ],
             [
              0.5555555555555556,
              "#d8576b"
             ],
             [
              0.6666666666666666,
              "#ed7953"
             ],
             [
              0.7777777777777778,
              "#fb9f3a"
             ],
             [
              0.8888888888888888,
              "#fdca26"
             ],
             [
              1,
              "#f0f921"
             ]
            ],
            "type": "contour"
           }
          ],
          "contourcarpet": [
           {
            "colorbar": {
             "outlinewidth": 0,
             "ticks": ""
            },
            "type": "contourcarpet"
           }
          ],
          "heatmap": [
           {
            "colorbar": {
             "outlinewidth": 0,
             "ticks": ""
            },
            "colorscale": [
             [
              0,
              "#0d0887"
             ],
             [
              0.1111111111111111,
              "#46039f"
             ],
             [
              0.2222222222222222,
              "#7201a8"
             ],
             [
              0.3333333333333333,
              "#9c179e"
             ],
             [
              0.4444444444444444,
              "#bd3786"
             ],
             [
              0.5555555555555556,
              "#d8576b"
             ],
             [
              0.6666666666666666,
              "#ed7953"
             ],
             [
              0.7777777777777778,
              "#fb9f3a"
             ],
             [
              0.8888888888888888,
              "#fdca26"
             ],
             [
              1,
              "#f0f921"
             ]
            ],
            "type": "heatmap"
           }
          ],
          "heatmapgl": [
           {
            "colorbar": {
             "outlinewidth": 0,
             "ticks": ""
            },
            "colorscale": [
             [
              0,
              "#0d0887"
             ],
             [
              0.1111111111111111,
              "#46039f"
             ],
             [
              0.2222222222222222,
              "#7201a8"
             ],
             [
              0.3333333333333333,
              "#9c179e"
             ],
             [
              0.4444444444444444,
              "#bd3786"
             ],
             [
              0.5555555555555556,
              "#d8576b"
             ],
             [
              0.6666666666666666,
              "#ed7953"
             ],
             [
              0.7777777777777778,
              "#fb9f3a"
             ],
             [
              0.8888888888888888,
              "#fdca26"
             ],
             [
              1,
              "#f0f921"
             ]
            ],
            "type": "heatmapgl"
           }
          ],
          "histogram": [
           {
            "marker": {
             "pattern": {
              "fillmode": "overlay",
              "size": 10,
              "solidity": 0.2
             }
            },
            "type": "histogram"
           }
          ],
          "histogram2d": [
           {
            "colorbar": {
             "outlinewidth": 0,
             "ticks": ""
            },
            "colorscale": [
             [
              0,
              "#0d0887"
             ],
             [
              0.1111111111111111,
              "#46039f"
             ],
             [
              0.2222222222222222,
              "#7201a8"
             ],
             [
              0.3333333333333333,
              "#9c179e"
             ],
             [
              0.4444444444444444,
              "#bd3786"
             ],
             [
              0.5555555555555556,
              "#d8576b"
             ],
             [
              0.6666666666666666,
              "#ed7953"
             ],
             [
              0.7777777777777778,
              "#fb9f3a"
             ],
             [
              0.8888888888888888,
              "#fdca26"
             ],
             [
              1,
              "#f0f921"
             ]
            ],
            "type": "histogram2d"
           }
          ],
          "histogram2dcontour": [
           {
            "colorbar": {
             "outlinewidth": 0,
             "ticks": ""
            },
            "colorscale": [
             [
              0,
              "#0d0887"
             ],
             [
              0.1111111111111111,
              "#46039f"
             ],
             [
              0.2222222222222222,
              "#7201a8"
             ],
             [
              0.3333333333333333,
              "#9c179e"
             ],
             [
              0.4444444444444444,
              "#bd3786"
             ],
             [
              0.5555555555555556,
              "#d8576b"
             ],
             [
              0.6666666666666666,
              "#ed7953"
             ],
             [
              0.7777777777777778,
              "#fb9f3a"
             ],
             [
              0.8888888888888888,
              "#fdca26"
             ],
             [
              1,
              "#f0f921"
             ]
            ],
            "type": "histogram2dcontour"
           }
          ],
          "mesh3d": [
           {
            "colorbar": {
             "outlinewidth": 0,
             "ticks": ""
            },
            "type": "mesh3d"
           }
          ],
          "parcoords": [
           {
            "line": {
             "colorbar": {
              "outlinewidth": 0,
              "ticks": ""
             }
            },
            "type": "parcoords"
           }
          ],
          "pie": [
           {
            "automargin": true,
            "type": "pie"
           }
          ],
          "scatter": [
           {
            "fillpattern": {
             "fillmode": "overlay",
             "size": 10,
             "solidity": 0.2
            },
            "type": "scatter"
           }
          ],
          "scatter3d": [
           {
            "line": {
             "colorbar": {
              "outlinewidth": 0,
              "ticks": ""
             }
            },
            "marker": {
             "colorbar": {
              "outlinewidth": 0,
              "ticks": ""
             }
            },
            "type": "scatter3d"
           }
          ],
          "scattercarpet": [
           {
            "marker": {
             "colorbar": {
              "outlinewidth": 0,
              "ticks": ""
             }
            },
            "type": "scattercarpet"
           }
          ],
          "scattergeo": [
           {
            "marker": {
             "colorbar": {
              "outlinewidth": 0,
              "ticks": ""
             }
            },
            "type": "scattergeo"
           }
          ],
          "scattergl": [
           {
            "marker": {
             "colorbar": {
              "outlinewidth": 0,
              "ticks": ""
             }
            },
            "type": "scattergl"
           }
          ],
          "scattermapbox": [
           {
            "marker": {
             "colorbar": {
              "outlinewidth": 0,
              "ticks": ""
             }
            },
            "type": "scattermapbox"
           }
          ],
          "scatterpolar": [
           {
            "marker": {
             "colorbar": {
              "outlinewidth": 0,
              "ticks": ""
             }
            },
            "type": "scatterpolar"
           }
          ],
          "scatterpolargl": [
           {
            "marker": {
             "colorbar": {
              "outlinewidth": 0,
              "ticks": ""
             }
            },
            "type": "scatterpolargl"
           }
          ],
          "scatterternary": [
           {
            "marker": {
             "colorbar": {
              "outlinewidth": 0,
              "ticks": ""
             }
            },
            "type": "scatterternary"
           }
          ],
          "surface": [
           {
            "colorbar": {
             "outlinewidth": 0,
             "ticks": ""
            },
            "colorscale": [
             [
              0,
              "#0d0887"
             ],
             [
              0.1111111111111111,
              "#46039f"
             ],
             [
              0.2222222222222222,
              "#7201a8"
             ],
             [
              0.3333333333333333,
              "#9c179e"
             ],
             [
              0.4444444444444444,
              "#bd3786"
             ],
             [
              0.5555555555555556,
              "#d8576b"
             ],
             [
              0.6666666666666666,
              "#ed7953"
             ],
             [
              0.7777777777777778,
              "#fb9f3a"
             ],
             [
              0.8888888888888888,
              "#fdca26"
             ],
             [
              1,
              "#f0f921"
             ]
            ],
            "type": "surface"
           }
          ],
          "table": [
           {
            "cells": {
             "fill": {
              "color": "#EBF0F8"
             },
             "line": {
              "color": "white"
             }
            },
            "header": {
             "fill": {
              "color": "#C8D4E3"
             },
             "line": {
              "color": "white"
             }
            },
            "type": "table"
           }
          ]
         },
         "layout": {
          "annotationdefaults": {
           "arrowcolor": "#2a3f5f",
           "arrowhead": 0,
           "arrowwidth": 1
          },
          "autotypenumbers": "strict",
          "coloraxis": {
           "colorbar": {
            "outlinewidth": 0,
            "ticks": ""
           }
          },
          "colorscale": {
           "diverging": [
            [
             0,
             "#8e0152"
            ],
            [
             0.1,
             "#c51b7d"
            ],
            [
             0.2,
             "#de77ae"
            ],
            [
             0.3,
             "#f1b6da"
            ],
            [
             0.4,
             "#fde0ef"
            ],
            [
             0.5,
             "#f7f7f7"
            ],
            [
             0.6,
             "#e6f5d0"
            ],
            [
             0.7,
             "#b8e186"
            ],
            [
             0.8,
             "#7fbc41"
            ],
            [
             0.9,
             "#4d9221"
            ],
            [
             1,
             "#276419"
            ]
           ],
           "sequential": [
            [
             0,
             "#0d0887"
            ],
            [
             0.1111111111111111,
             "#46039f"
            ],
            [
             0.2222222222222222,
             "#7201a8"
            ],
            [
             0.3333333333333333,
             "#9c179e"
            ],
            [
             0.4444444444444444,
             "#bd3786"
            ],
            [
             0.5555555555555556,
             "#d8576b"
            ],
            [
             0.6666666666666666,
             "#ed7953"
            ],
            [
             0.7777777777777778,
             "#fb9f3a"
            ],
            [
             0.8888888888888888,
             "#fdca26"
            ],
            [
             1,
             "#f0f921"
            ]
           ],
           "sequentialminus": [
            [
             0,
             "#0d0887"
            ],
            [
             0.1111111111111111,
             "#46039f"
            ],
            [
             0.2222222222222222,
             "#7201a8"
            ],
            [
             0.3333333333333333,
             "#9c179e"
            ],
            [
             0.4444444444444444,
             "#bd3786"
            ],
            [
             0.5555555555555556,
             "#d8576b"
            ],
            [
             0.6666666666666666,
             "#ed7953"
            ],
            [
             0.7777777777777778,
             "#fb9f3a"
            ],
            [
             0.8888888888888888,
             "#fdca26"
            ],
            [
             1,
             "#f0f921"
            ]
           ]
          },
          "colorway": [
           "#636efa",
           "#EF553B",
           "#00cc96",
           "#ab63fa",
           "#FFA15A",
           "#19d3f3",
           "#FF6692",
           "#B6E880",
           "#FF97FF",
           "#FECB52"
          ],
          "font": {
           "color": "#2a3f5f"
          },
          "geo": {
           "bgcolor": "white",
           "lakecolor": "white",
           "landcolor": "white",
           "showlakes": true,
           "showland": true,
           "subunitcolor": "#C8D4E3"
          },
          "hoverlabel": {
           "align": "left"
          },
          "hovermode": "closest",
          "mapbox": {
           "style": "light"
          },
          "paper_bgcolor": "white",
          "plot_bgcolor": "white",
          "polar": {
           "angularaxis": {
            "gridcolor": "#EBF0F8",
            "linecolor": "#EBF0F8",
            "ticks": ""
           },
           "bgcolor": "white",
           "radialaxis": {
            "gridcolor": "#EBF0F8",
            "linecolor": "#EBF0F8",
            "ticks": ""
           }
          },
          "scene": {
           "xaxis": {
            "backgroundcolor": "white",
            "gridcolor": "#DFE8F3",
            "gridwidth": 2,
            "linecolor": "#EBF0F8",
            "showbackground": true,
            "ticks": "",
            "zerolinecolor": "#EBF0F8"
           },
           "yaxis": {
            "backgroundcolor": "white",
            "gridcolor": "#DFE8F3",
            "gridwidth": 2,
            "linecolor": "#EBF0F8",
            "showbackground": true,
            "ticks": "",
            "zerolinecolor": "#EBF0F8"
           },
           "zaxis": {
            "backgroundcolor": "white",
            "gridcolor": "#DFE8F3",
            "gridwidth": 2,
            "linecolor": "#EBF0F8",
            "showbackground": true,
            "ticks": "",
            "zerolinecolor": "#EBF0F8"
           }
          },
          "shapedefaults": {
           "line": {
            "color": "#2a3f5f"
           }
          },
          "ternary": {
           "aaxis": {
            "gridcolor": "#DFE8F3",
            "linecolor": "#A2B1C6",
            "ticks": ""
           },
           "baxis": {
            "gridcolor": "#DFE8F3",
            "linecolor": "#A2B1C6",
            "ticks": ""
           },
           "bgcolor": "white",
           "caxis": {
            "gridcolor": "#DFE8F3",
            "linecolor": "#A2B1C6",
            "ticks": ""
           }
          },
          "title": {
           "x": 0.05
          },
          "xaxis": {
           "automargin": true,
           "gridcolor": "#EBF0F8",
           "linecolor": "#EBF0F8",
           "ticks": "",
           "title": {
            "standoff": 15
           },
           "zerolinecolor": "#EBF0F8",
           "zerolinewidth": 2
          },
          "yaxis": {
           "automargin": true,
           "gridcolor": "#EBF0F8",
           "linecolor": "#EBF0F8",
           "ticks": "",
           "title": {
            "standoff": 15
           },
           "zerolinecolor": "#EBF0F8",
           "zerolinewidth": 2
          }
         }
        },
        "title": {
         "text": "FI of Top 10 Models on-task_vs_dMW <br >\nAverage AUC 0.639 <br>\nBest AUC 0.646\n                 "
        },
        "width": 650,
        "xaxis": {
         "anchor": "y",
         "domain": [
          0,
          1
         ],
         "range": [
          0,
          0.25
         ],
         "tickfont": {
          "size": 20
         },
         "title": {
          "text": "Feature Importance"
         },
         "visible": true
        },
        "yaxis": {
         "anchor": "x",
         "automargin": true,
         "categoryorder": "total ascending",
         "domain": [
          0,
          1
         ],
         "dtick": 1,
         "range": [
          -1,
          54
         ],
         "tickfont": {
          "size": 20
         },
         "title": {
          "text": "Feature"
         }
        }
       }
      },
      "text/html": [
       "<div>                            <div id=\"c624b89c-bdee-4f2b-8961-10ddd9b74cf8\" class=\"plotly-graph-div\" style=\"height:1100px; width:650px;\"></div>            <script type=\"text/javascript\">                require([\"plotly\"], function(Plotly) {                    window.PLOTLYENV=window.PLOTLYENV || {};                                    if (document.getElementById(\"c624b89c-bdee-4f2b-8961-10ddd9b74cf8\")) {                    Plotly.newPlot(                        \"c624b89c-bdee-4f2b-8961-10ddd9b74cf8\",                        [{\"alignmentgroup\":\"True\",\"hovertemplate\":\"Importance=%{x}\\u003cbr\\u003eFeature=%{y}\\u003cextra\\u003e\\u003c\\u002fextra\\u003e\",\"legendgroup\":\"\",\"marker\":{\"color\":\"#9AC529\",\"size\":8},\"name\":\"\",\"notched\":false,\"offsetgroup\":\"\",\"orientation\":\"h\",\"showlegend\":false,\"x\":[0.00520833,0.00883774,0.00837366,0.01081365,0.00936796,0.00982101,0.00726066,0.00959182,0.00872444,0.00625,0.0,0.0,0.0,0.0,0.00191647,0.00191647,0.0,0.0,0.0,0.00117611,0.01183142,0.00664293,0.00910457,0.0086395,0.01098105,0.01115907,0.01386863,0.0047393,0.01604383,0.01038906,0.0,0.00082509,0.00075461,0.00758083,0.00232695,0.00232695,0.00478652,0.00717696,0.00725454,0.0,0.1186565,0.12635097,0.12251029,0.10958482,0.08884969,0.08759376,0.11184067,0.10707463,0.11038555,0.10492606,0.0197366,0.01244396,0.01505017,0.02209634,0.01701439,0.01719245,0.02592282,0.01716412,0.02615665,0.0125,0.01595745,0.01713846,0.01849541,0.01026705,0.02071676,0.02075913,0.01462693,0.00980392,0.00961538,0.00609756,0.01552354,0.0152387,0.01939637,0.02111368,0.01395669,0.01431733,0.02065575,0.02141482,0.02086579,0.01702364,0.00778702,0.00963713,0.00960508,0.00779868,0.00737323,0.00737323,0.00877323,0.00647324,0.00761619,0.00595238,0.07079071,0.06174983,0.05509604,0.0361101,0.04881068,0.04929502,0.03576849,0.03799719,0.03074981,0.07044526,0.00599183,0.0,0.0,0.00848782,0.00278826,0.00759595,0.00808242,0.00853856,0.00823277,0.0,0.0149447,0.00818778,0.00513319,0.01469464,0.00736277,0.00736259,0.01611836,0.0147471,0.01605992,0.00647714,0.02990736,0.02727958,0.02435406,0.03414458,0.0421742,0.0453675,0.02667218,0.02684119,0.03306486,0.02608924,0.01014675,0.00480769,0.00480769,0.00480769,0.00579056,0.00128183,0.00610878,0.00471698,0.00471698,0.01208401,0.00391795,0.0,0.0,0.00066273,0.0,0.0,0.00392449,0.0,0.0041483,0.0,0.01470256,0.00543478,0.00543478,0.01062628,0.01090054,0.01116708,0.01031081,0.01070174,0.01031,0.00625,0.00643318,0.01097823,0.01625985,0.01655006,0.01625442,0.01016556,0.01587157,0.01161076,0.01620635,0.01072015,0.02917195,0.03736035,0.03734459,0.03491966,0.03633953,0.03646828,0.03815987,0.0339488,0.03611208,0.02816276,0.00060336,0.0,0.00071113,0.0,0.00335474,0.00325989,0.00294077,0.00283952,0.0,0.0,0.01665278,0.0158132,0.02066528,0.02594896,0.04131494,0.03732575,0.02587083,0.03166644,0.03001441,0.0296023,0.00792553,0.00543478,0.00332465,0.00232512,0.00535446,0.00480769,0.00086705,0.00227469,0.00083908,0.00169108,0.0063507,0.00543478,0.01086957,0.01512749,0.00445141,0.00943824,0.01521263,0.01409813,0.01515733,0.01875,0.00413158,0.00480769,0.00432785,0.00315332,0.0014984,0.00140025,0.00297462,0.00294419,0.00316277,0.0,0.02045683,0.01941931,0.02478433,0.01588332,0.02105623,0.01886739,0.01621542,0.0151386,0.01562619,0.01092482,0.00791504,0.00343098,0.00500249,0.00787038,0.0061741,0.00316805,0.00846341,0.00747883,0.00735936,0.00341388,0.00586114,0.0032135,0.00334931,0.00304555,0.00414953,0.00442714,0.00292746,0.00501109,0.00294595,0.00625,0.077461,0.1087151,0.10124843,0.07939551,0.08124963,0.08194088,0.07698815,0.08635664,0.08412602,0.10299534,0.01444146,0.00770604,0.01142115,0.00971698,0.00298014,0.0029813,0.00819201,0.00823534,0.00462963,0.00463401,0.03141106,0.03948254,0.04363078,0.05545433,0.03850708,0.03901067,0.05747301,0.06109468,0.05510405,0.04639245,0.02685568,0.02125542,0.01790641,0.02625285,0.02815088,0.02567249,0.03003523,0.0306785,0.0260423,0.02062887,0.03622335,0.03120356,0.02868234,0.03205994,0.03778913,0.03395008,0.02904458,0.03570484,0.03015011,0.02345549,0.00561371,0.00480769,0.00570297,0.00480769,0.00593569,0.01074597,0.00480769,0.00471698,0.00471698,0.00764873,0.01551871,0.01524247,0.01982806,0.01980769,0.0280167,0.02828995,0.01884559,0.02667125,0.02596424,0.01776528,0.00090665,0.00088782,0.00632225,0.00480769,0.00704702,0.00704766,0.00480769,0.00462963,0.00462963,0.01028809,0.03068551,0.03765719,0.03967614,0.02803139,0.03569235,0.03299635,0.02458624,0.02304065,0.02686057,0.03687325,0.02202476,0.01505095,0.01642219,0.01710626,0.00692043,0.00709849,0.01635871,0.01772294,0.01680382,0.00288729,0.02706975,0.02455462,0.02503946,0.03347475,0.03039298,0.03559898,0.03830337,0.03748739,0.03245712,0.03382941,0.04066275,0.03811538,0.03691009,0.04113527,0.04117308,0.04135114,0.03449696,0.03221337,0.03001143,0.04071094,0.01009143,0.01293721,0.01226748,0.01037102,0.00724152,0.00724152,0.01113369,0.01019691,0.0100806,0.00807091,0.01431083,0.00856821,0.00856889,0.01261733,0.00875878,0.00880736,0.01249547,0.01342672,0.01328505,0.00838277,0.04620786,0.05760652,0.05690327,0.04598705,0.05328912,0.04731545,0.04672772,0.04233866,0.04504882,0.06087483,0.0,0.00543478,0.0,0.0,0.0,0.0,0.0,0.0,0.0,0.0,0.03122336,0.03319045,0.02273522,0.03299803,0.01467858,0.01991888,0.03420014,0.0334029,0.03954471,0.01179411,0.01464259,0.01307352,0.01299181,0.01032649,0.01753521,0.01442691,0.01002192,0.01011029,0.00970965,0.02467654,0.01041667,0.01089061,0.00897435,0.00537595,0.01182237,0.01663006,0.00213171,0.00537361,0.00200089,0.00642111,0.00964145,0.00226328,0.00471778,0.00638306,0.00339698,0.00339524,0.00626126,0.00602295,0.00598127,0.0,0.01031037,0.01749596,0.013123,0.01213551,0.01925626,0.01935868,0.01193794,0.01215052,0.01665865,0.02622824,0.01782973,0.0188656,0.02228465,0.01487287,0.01741443,0.01747692,0.01113863,0.01453793,0.01097731,0.03121936,0.01581703,0.01810073,0.0113306,0.02029368,0.02056499,0.02074305,0.01966741,0.02349306,0.01972279,0.02240152,0.01041667,0.01586957,0.01609126,0.01710827,0.00943732,0.01304237,0.01686864,0.0174108,0.01667932,0.00625,0.01552748,0.01491848,0.01676205,0.0107712,0.01797583,0.01953637,0.01248124,0.0112897,0.01103631,0.02081696,0.00156763,0.0,0.0,0.0,0.00292991,0.0,0.00043741,0.0,0.00046198,0.0,0.00719854,0.01063885,0.01070442,0.01145697,0.02156563,0.02156563,0.01152552,0.01279913,0.01114052,0.02348148,0.00531915,0.005,0.005,0.005,0.0,0.0,0.00480769,0.00490196,0.00480769,0.00609756],\"x0\":\" \",\"xaxis\":\"x\",\"y\":[\"wSMI_1_mean\",\"wSMI_1_mean\",\"wSMI_1_mean\",\"wSMI_1_mean\",\"wSMI_1_mean\",\"wSMI_1_mean\",\"wSMI_1_mean\",\"wSMI_1_mean\",\"wSMI_1_mean\",\"wSMI_1_mean\",\"wSMI_1_std\",\"wSMI_1_std\",\"wSMI_1_std\",\"wSMI_1_std\",\"wSMI_1_std\",\"wSMI_1_std\",\"wSMI_1_std\",\"wSMI_1_std\",\"wSMI_1_std\",\"wSMI_1_std\",\"wSMI_2_mean\",\"wSMI_2_mean\",\"wSMI_2_mean\",\"wSMI_2_mean\",\"wSMI_2_mean\",\"wSMI_2_mean\",\"wSMI_2_mean\",\"wSMI_2_mean\",\"wSMI_2_mean\",\"wSMI_2_mean\",\"wSMI_2_std\",\"wSMI_2_std\",\"wSMI_2_std\",\"wSMI_2_std\",\"wSMI_2_std\",\"wSMI_2_std\",\"wSMI_2_std\",\"wSMI_2_std\",\"wSMI_2_std\",\"wSMI_2_std\",\"wSMI_4_mean\",\"wSMI_4_mean\",\"wSMI_4_mean\",\"wSMI_4_mean\",\"wSMI_4_mean\",\"wSMI_4_mean\",\"wSMI_4_mean\",\"wSMI_4_mean\",\"wSMI_4_mean\",\"wSMI_4_mean\",\"wSMI_4_std\",\"wSMI_4_std\",\"wSMI_4_std\",\"wSMI_4_std\",\"wSMI_4_std\",\"wSMI_4_std\",\"wSMI_4_std\",\"wSMI_4_std\",\"wSMI_4_std\",\"wSMI_4_std\",\"wSMI_8_mean\",\"wSMI_8_mean\",\"wSMI_8_mean\",\"wSMI_8_mean\",\"wSMI_8_mean\",\"wSMI_8_mean\",\"wSMI_8_mean\",\"wSMI_8_mean\",\"wSMI_8_mean\",\"wSMI_8_mean\",\"wSMI_8_std\",\"wSMI_8_std\",\"wSMI_8_std\",\"wSMI_8_std\",\"wSMI_8_std\",\"wSMI_8_std\",\"wSMI_8_std\",\"wSMI_8_std\",\"wSMI_8_std\",\"wSMI_8_std\",\"p_e_1_mean\",\"p_e_1_mean\",\"p_e_1_mean\",\"p_e_1_mean\",\"p_e_1_mean\",\"p_e_1_mean\",\"p_e_1_mean\",\"p_e_1_mean\",\"p_e_1_mean\",\"p_e_1_mean\",\"p_e_1_std\",\"p_e_1_std\",\"p_e_1_std\",\"p_e_1_std\",\"p_e_1_std\",\"p_e_1_std\",\"p_e_1_std\",\"p_e_1_std\",\"p_e_1_std\",\"p_e_1_std\",\"p_e_2_mean\",\"p_e_2_mean\",\"p_e_2_mean\",\"p_e_2_mean\",\"p_e_2_mean\",\"p_e_2_mean\",\"p_e_2_mean\",\"p_e_2_mean\",\"p_e_2_mean\",\"p_e_2_mean\",\"p_e_2_std\",\"p_e_2_std\",\"p_e_2_std\",\"p_e_2_std\",\"p_e_2_std\",\"p_e_2_std\",\"p_e_2_std\",\"p_e_2_std\",\"p_e_2_std\",\"p_e_2_std\",\"p_e_4_mean\",\"p_e_4_mean\",\"p_e_4_mean\",\"p_e_4_mean\",\"p_e_4_mean\",\"p_e_4_mean\",\"p_e_4_mean\",\"p_e_4_mean\",\"p_e_4_mean\",\"p_e_4_mean\",\"p_e_4_std\",\"p_e_4_std\",\"p_e_4_std\",\"p_e_4_std\",\"p_e_4_std\",\"p_e_4_std\",\"p_e_4_std\",\"p_e_4_std\",\"p_e_4_std\",\"p_e_4_std\",\"p_e_8_mean\",\"p_e_8_mean\",\"p_e_8_mean\",\"p_e_8_mean\",\"p_e_8_mean\",\"p_e_8_mean\",\"p_e_8_mean\",\"p_e_8_mean\",\"p_e_8_mean\",\"p_e_8_mean\",\"p_e_8_std\",\"p_e_8_std\",\"p_e_8_std\",\"p_e_8_std\",\"p_e_8_std\",\"p_e_8_std\",\"p_e_8_std\",\"p_e_8_std\",\"p_e_8_std\",\"p_e_8_std\",\"k_mean\",\"k_mean\",\"k_mean\",\"k_mean\",\"k_mean\",\"k_mean\",\"k_mean\",\"k_mean\",\"k_mean\",\"k_mean\",\"k_std\",\"k_std\",\"k_std\",\"k_std\",\"k_std\",\"k_std\",\"k_std\",\"k_std\",\"k_std\",\"k_std\",\"se_mean\",\"se_mean\",\"se_mean\",\"se_mean\",\"se_mean\",\"se_mean\",\"se_mean\",\"se_mean\",\"se_mean\",\"se_mean\",\"se_std\",\"se_std\",\"se_std\",\"se_std\",\"se_std\",\"se_std\",\"se_std\",\"se_std\",\"se_std\",\"se_std\",\"msf_mean\",\"msf_mean\",\"msf_mean\",\"msf_mean\",\"msf_mean\",\"msf_mean\",\"msf_mean\",\"msf_mean\",\"msf_mean\",\"msf_mean\",\"msf_std\",\"msf_std\",\"msf_std\",\"msf_std\",\"msf_std\",\"msf_std\",\"msf_std\",\"msf_std\",\"msf_std\",\"msf_std\",\"sef90_mean\",\"sef90_mean\",\"sef90_mean\",\"sef90_mean\",\"sef90_mean\",\"sef90_mean\",\"sef90_mean\",\"sef90_mean\",\"sef90_mean\",\"sef90_mean\",\"sef90_std\",\"sef90_std\",\"sef90_std\",\"sef90_std\",\"sef90_std\",\"sef90_std\",\"sef90_std\",\"sef90_std\",\"sef90_std\",\"sef90_std\",\"sef95_mean\",\"sef95_mean\",\"sef95_mean\",\"sef95_mean\",\"sef95_mean\",\"sef95_mean\",\"sef95_mean\",\"sef95_mean\",\"sef95_mean\",\"sef95_mean\",\"sef95_std\",\"sef95_std\",\"sef95_std\",\"sef95_std\",\"sef95_std\",\"sef95_std\",\"sef95_std\",\"sef95_std\",\"sef95_std\",\"sef95_std\",\"b_mean\",\"b_mean\",\"b_mean\",\"b_mean\",\"b_mean\",\"b_mean\",\"b_mean\",\"b_mean\",\"b_mean\",\"b_mean\",\"b_std\",\"b_std\",\"b_std\",\"b_std\",\"b_std\",\"b_std\",\"b_std\",\"b_std\",\"b_std\",\"b_std\",\"b_n_mean\",\"b_n_mean\",\"b_n_mean\",\"b_n_mean\",\"b_n_mean\",\"b_n_mean\",\"b_n_mean\",\"b_n_mean\",\"b_n_mean\",\"b_n_mean\",\"b_n_std\",\"b_n_std\",\"b_n_std\",\"b_n_std\",\"b_n_std\",\"b_n_std\",\"b_n_std\",\"b_n_std\",\"b_n_std\",\"b_n_std\",\"g_mean\",\"g_mean\",\"g_mean\",\"g_mean\",\"g_mean\",\"g_mean\",\"g_mean\",\"g_mean\",\"g_mean\",\"g_mean\",\"g_std\",\"g_std\",\"g_std\",\"g_std\",\"g_std\",\"g_std\",\"g_std\",\"g_std\",\"g_std\",\"g_std\",\"g_n_mean\",\"g_n_mean\",\"g_n_mean\",\"g_n_mean\",\"g_n_mean\",\"g_n_mean\",\"g_n_mean\",\"g_n_mean\",\"g_n_mean\",\"g_n_mean\",\"g_n_std\",\"g_n_std\",\"g_n_std\",\"g_n_std\",\"g_n_std\",\"g_n_std\",\"g_n_std\",\"g_n_std\",\"g_n_std\",\"g_n_std\",\"t_mean\",\"t_mean\",\"t_mean\",\"t_mean\",\"t_mean\",\"t_mean\",\"t_mean\",\"t_mean\",\"t_mean\",\"t_mean\",\"t_std\",\"t_std\",\"t_std\",\"t_std\",\"t_std\",\"t_std\",\"t_std\",\"t_std\",\"t_std\",\"t_std\",\"t_n_mean\",\"t_n_mean\",\"t_n_mean\",\"t_n_mean\",\"t_n_mean\",\"t_n_mean\",\"t_n_mean\",\"t_n_mean\",\"t_n_mean\",\"t_n_mean\",\"t_n_std\",\"t_n_std\",\"t_n_std\",\"t_n_std\",\"t_n_std\",\"t_n_std\",\"t_n_std\",\"t_n_std\",\"t_n_std\",\"t_n_std\",\"d_mean\",\"d_mean\",\"d_mean\",\"d_mean\",\"d_mean\",\"d_mean\",\"d_mean\",\"d_mean\",\"d_mean\",\"d_mean\",\"d_std\",\"d_std\",\"d_std\",\"d_std\",\"d_std\",\"d_std\",\"d_std\",\"d_std\",\"d_std\",\"d_std\",\"d_n_mean\",\"d_n_mean\",\"d_n_mean\",\"d_n_mean\",\"d_n_mean\",\"d_n_mean\",\"d_n_mean\",\"d_n_mean\",\"d_n_mean\",\"d_n_mean\",\"d_n_std\",\"d_n_std\",\"d_n_std\",\"d_n_std\",\"d_n_std\",\"d_n_std\",\"d_n_std\",\"d_n_std\",\"d_n_std\",\"d_n_std\",\"a_n_mean\",\"a_n_mean\",\"a_n_mean\",\"a_n_mean\",\"a_n_mean\",\"a_n_mean\",\"a_n_mean\",\"a_n_mean\",\"a_n_mean\",\"a_n_mean\",\"a_n_std\",\"a_n_std\",\"a_n_std\",\"a_n_std\",\"a_n_std\",\"a_n_std\",\"a_n_std\",\"a_n_std\",\"a_n_std\",\"a_n_std\",\"a_mean\",\"a_mean\",\"a_mean\",\"a_mean\",\"a_mean\",\"a_mean\",\"a_mean\",\"a_mean\",\"a_mean\",\"a_mean\",\"a_std\",\"a_std\",\"a_std\",\"a_std\",\"a_std\",\"a_std\",\"a_std\",\"a_std\",\"a_std\",\"a_std\",\"CNV_mean\",\"CNV_mean\",\"CNV_mean\",\"CNV_mean\",\"CNV_mean\",\"CNV_mean\",\"CNV_mean\",\"CNV_mean\",\"CNV_mean\",\"CNV_mean\",\"CNV_std\",\"CNV_std\",\"CNV_std\",\"CNV_std\",\"CNV_std\",\"CNV_std\",\"CNV_std\",\"CNV_std\",\"CNV_std\",\"CNV_std\",\"P1_mean\",\"P1_mean\",\"P1_mean\",\"P1_mean\",\"P1_mean\",\"P1_mean\",\"P1_mean\",\"P1_mean\",\"P1_mean\",\"P1_mean\",\"P1_std\",\"P1_std\",\"P1_std\",\"P1_std\",\"P1_std\",\"P1_std\",\"P1_std\",\"P1_std\",\"P1_std\",\"P1_std\",\"P3a_mean\",\"P3a_mean\",\"P3a_mean\",\"P3a_mean\",\"P3a_mean\",\"P3a_mean\",\"P3a_mean\",\"P3a_mean\",\"P3a_mean\",\"P3a_mean\",\"P3a_std\",\"P3a_std\",\"P3a_std\",\"P3a_std\",\"P3a_std\",\"P3a_std\",\"P3a_std\",\"P3a_std\",\"P3a_std\",\"P3a_std\",\"P3b_mean\",\"P3b_mean\",\"P3b_mean\",\"P3b_mean\",\"P3b_mean\",\"P3b_mean\",\"P3b_mean\",\"P3b_mean\",\"P3b_mean\",\"P3b_mean\",\"P3b_std\",\"P3b_std\",\"P3b_std\",\"P3b_std\",\"P3b_std\",\"P3b_std\",\"P3b_std\",\"P3b_std\",\"P3b_std\",\"P3b_std\"],\"y0\":\" \",\"yaxis\":\"y\",\"type\":\"box\"}],                        {\"template\":{\"data\":{\"barpolar\":[{\"marker\":{\"line\":{\"color\":\"white\",\"width\":0.5},\"pattern\":{\"fillmode\":\"overlay\",\"size\":10,\"solidity\":0.2}},\"type\":\"barpolar\"}],\"bar\":[{\"error_x\":{\"color\":\"#2a3f5f\"},\"error_y\":{\"color\":\"#2a3f5f\"},\"marker\":{\"line\":{\"color\":\"white\",\"width\":0.5},\"pattern\":{\"fillmode\":\"overlay\",\"size\":10,\"solidity\":0.2}},\"type\":\"bar\"}],\"carpet\":[{\"aaxis\":{\"endlinecolor\":\"#2a3f5f\",\"gridcolor\":\"#C8D4E3\",\"linecolor\":\"#C8D4E3\",\"minorgridcolor\":\"#C8D4E3\",\"startlinecolor\":\"#2a3f5f\"},\"baxis\":{\"endlinecolor\":\"#2a3f5f\",\"gridcolor\":\"#C8D4E3\",\"linecolor\":\"#C8D4E3\",\"minorgridcolor\":\"#C8D4E3\",\"startlinecolor\":\"#2a3f5f\"},\"type\":\"carpet\"}],\"choropleth\":[{\"colorbar\":{\"outlinewidth\":0,\"ticks\":\"\"},\"type\":\"choropleth\"}],\"contourcarpet\":[{\"colorbar\":{\"outlinewidth\":0,\"ticks\":\"\"},\"type\":\"contourcarpet\"}],\"contour\":[{\"colorbar\":{\"outlinewidth\":0,\"ticks\":\"\"},\"colorscale\":[[0.0,\"#0d0887\"],[0.1111111111111111,\"#46039f\"],[0.2222222222222222,\"#7201a8\"],[0.3333333333333333,\"#9c179e\"],[0.4444444444444444,\"#bd3786\"],[0.5555555555555556,\"#d8576b\"],[0.6666666666666666,\"#ed7953\"],[0.7777777777777778,\"#fb9f3a\"],[0.8888888888888888,\"#fdca26\"],[1.0,\"#f0f921\"]],\"type\":\"contour\"}],\"heatmapgl\":[{\"colorbar\":{\"outlinewidth\":0,\"ticks\":\"\"},\"colorscale\":[[0.0,\"#0d0887\"],[0.1111111111111111,\"#46039f\"],[0.2222222222222222,\"#7201a8\"],[0.3333333333333333,\"#9c179e\"],[0.4444444444444444,\"#bd3786\"],[0.5555555555555556,\"#d8576b\"],[0.6666666666666666,\"#ed7953\"],[0.7777777777777778,\"#fb9f3a\"],[0.8888888888888888,\"#fdca26\"],[1.0,\"#f0f921\"]],\"type\":\"heatmapgl\"}],\"heatmap\":[{\"colorbar\":{\"outlinewidth\":0,\"ticks\":\"\"},\"colorscale\":[[0.0,\"#0d0887\"],[0.1111111111111111,\"#46039f\"],[0.2222222222222222,\"#7201a8\"],[0.3333333333333333,\"#9c179e\"],[0.4444444444444444,\"#bd3786\"],[0.5555555555555556,\"#d8576b\"],[0.6666666666666666,\"#ed7953\"],[0.7777777777777778,\"#fb9f3a\"],[0.8888888888888888,\"#fdca26\"],[1.0,\"#f0f921\"]],\"type\":\"heatmap\"}],\"histogram2dcontour\":[{\"colorbar\":{\"outlinewidth\":0,\"ticks\":\"\"},\"colorscale\":[[0.0,\"#0d0887\"],[0.1111111111111111,\"#46039f\"],[0.2222222222222222,\"#7201a8\"],[0.3333333333333333,\"#9c179e\"],[0.4444444444444444,\"#bd3786\"],[0.5555555555555556,\"#d8576b\"],[0.6666666666666666,\"#ed7953\"],[0.7777777777777778,\"#fb9f3a\"],[0.8888888888888888,\"#fdca26\"],[1.0,\"#f0f921\"]],\"type\":\"histogram2dcontour\"}],\"histogram2d\":[{\"colorbar\":{\"outlinewidth\":0,\"ticks\":\"\"},\"colorscale\":[[0.0,\"#0d0887\"],[0.1111111111111111,\"#46039f\"],[0.2222222222222222,\"#7201a8\"],[0.3333333333333333,\"#9c179e\"],[0.4444444444444444,\"#bd3786\"],[0.5555555555555556,\"#d8576b\"],[0.6666666666666666,\"#ed7953\"],[0.7777777777777778,\"#fb9f3a\"],[0.8888888888888888,\"#fdca26\"],[1.0,\"#f0f921\"]],\"type\":\"histogram2d\"}],\"histogram\":[{\"marker\":{\"pattern\":{\"fillmode\":\"overlay\",\"size\":10,\"solidity\":0.2}},\"type\":\"histogram\"}],\"mesh3d\":[{\"colorbar\":{\"outlinewidth\":0,\"ticks\":\"\"},\"type\":\"mesh3d\"}],\"parcoords\":[{\"line\":{\"colorbar\":{\"outlinewidth\":0,\"ticks\":\"\"}},\"type\":\"parcoords\"}],\"pie\":[{\"automargin\":true,\"type\":\"pie\"}],\"scatter3d\":[{\"line\":{\"colorbar\":{\"outlinewidth\":0,\"ticks\":\"\"}},\"marker\":{\"colorbar\":{\"outlinewidth\":0,\"ticks\":\"\"}},\"type\":\"scatter3d\"}],\"scattercarpet\":[{\"marker\":{\"colorbar\":{\"outlinewidth\":0,\"ticks\":\"\"}},\"type\":\"scattercarpet\"}],\"scattergeo\":[{\"marker\":{\"colorbar\":{\"outlinewidth\":0,\"ticks\":\"\"}},\"type\":\"scattergeo\"}],\"scattergl\":[{\"marker\":{\"colorbar\":{\"outlinewidth\":0,\"ticks\":\"\"}},\"type\":\"scattergl\"}],\"scattermapbox\":[{\"marker\":{\"colorbar\":{\"outlinewidth\":0,\"ticks\":\"\"}},\"type\":\"scattermapbox\"}],\"scatterpolargl\":[{\"marker\":{\"colorbar\":{\"outlinewidth\":0,\"ticks\":\"\"}},\"type\":\"scatterpolargl\"}],\"scatterpolar\":[{\"marker\":{\"colorbar\":{\"outlinewidth\":0,\"ticks\":\"\"}},\"type\":\"scatterpolar\"}],\"scatter\":[{\"fillpattern\":{\"fillmode\":\"overlay\",\"size\":10,\"solidity\":0.2},\"type\":\"scatter\"}],\"scatterternary\":[{\"marker\":{\"colorbar\":{\"outlinewidth\":0,\"ticks\":\"\"}},\"type\":\"scatterternary\"}],\"surface\":[{\"colorbar\":{\"outlinewidth\":0,\"ticks\":\"\"},\"colorscale\":[[0.0,\"#0d0887\"],[0.1111111111111111,\"#46039f\"],[0.2222222222222222,\"#7201a8\"],[0.3333333333333333,\"#9c179e\"],[0.4444444444444444,\"#bd3786\"],[0.5555555555555556,\"#d8576b\"],[0.6666666666666666,\"#ed7953\"],[0.7777777777777778,\"#fb9f3a\"],[0.8888888888888888,\"#fdca26\"],[1.0,\"#f0f921\"]],\"type\":\"surface\"}],\"table\":[{\"cells\":{\"fill\":{\"color\":\"#EBF0F8\"},\"line\":{\"color\":\"white\"}},\"header\":{\"fill\":{\"color\":\"#C8D4E3\"},\"line\":{\"color\":\"white\"}},\"type\":\"table\"}]},\"layout\":{\"annotationdefaults\":{\"arrowcolor\":\"#2a3f5f\",\"arrowhead\":0,\"arrowwidth\":1},\"autotypenumbers\":\"strict\",\"coloraxis\":{\"colorbar\":{\"outlinewidth\":0,\"ticks\":\"\"}},\"colorscale\":{\"diverging\":[[0,\"#8e0152\"],[0.1,\"#c51b7d\"],[0.2,\"#de77ae\"],[0.3,\"#f1b6da\"],[0.4,\"#fde0ef\"],[0.5,\"#f7f7f7\"],[0.6,\"#e6f5d0\"],[0.7,\"#b8e186\"],[0.8,\"#7fbc41\"],[0.9,\"#4d9221\"],[1,\"#276419\"]],\"sequential\":[[0.0,\"#0d0887\"],[0.1111111111111111,\"#46039f\"],[0.2222222222222222,\"#7201a8\"],[0.3333333333333333,\"#9c179e\"],[0.4444444444444444,\"#bd3786\"],[0.5555555555555556,\"#d8576b\"],[0.6666666666666666,\"#ed7953\"],[0.7777777777777778,\"#fb9f3a\"],[0.8888888888888888,\"#fdca26\"],[1.0,\"#f0f921\"]],\"sequentialminus\":[[0.0,\"#0d0887\"],[0.1111111111111111,\"#46039f\"],[0.2222222222222222,\"#7201a8\"],[0.3333333333333333,\"#9c179e\"],[0.4444444444444444,\"#bd3786\"],[0.5555555555555556,\"#d8576b\"],[0.6666666666666666,\"#ed7953\"],[0.7777777777777778,\"#fb9f3a\"],[0.8888888888888888,\"#fdca26\"],[1.0,\"#f0f921\"]]},\"colorway\":[\"#636efa\",\"#EF553B\",\"#00cc96\",\"#ab63fa\",\"#FFA15A\",\"#19d3f3\",\"#FF6692\",\"#B6E880\",\"#FF97FF\",\"#FECB52\"],\"font\":{\"color\":\"#2a3f5f\"},\"geo\":{\"bgcolor\":\"white\",\"lakecolor\":\"white\",\"landcolor\":\"white\",\"showlakes\":true,\"showland\":true,\"subunitcolor\":\"#C8D4E3\"},\"hoverlabel\":{\"align\":\"left\"},\"hovermode\":\"closest\",\"mapbox\":{\"style\":\"light\"},\"paper_bgcolor\":\"white\",\"plot_bgcolor\":\"white\",\"polar\":{\"angularaxis\":{\"gridcolor\":\"#EBF0F8\",\"linecolor\":\"#EBF0F8\",\"ticks\":\"\"},\"bgcolor\":\"white\",\"radialaxis\":{\"gridcolor\":\"#EBF0F8\",\"linecolor\":\"#EBF0F8\",\"ticks\":\"\"}},\"scene\":{\"xaxis\":{\"backgroundcolor\":\"white\",\"gridcolor\":\"#DFE8F3\",\"gridwidth\":2,\"linecolor\":\"#EBF0F8\",\"showbackground\":true,\"ticks\":\"\",\"zerolinecolor\":\"#EBF0F8\"},\"yaxis\":{\"backgroundcolor\":\"white\",\"gridcolor\":\"#DFE8F3\",\"gridwidth\":2,\"linecolor\":\"#EBF0F8\",\"showbackground\":true,\"ticks\":\"\",\"zerolinecolor\":\"#EBF0F8\"},\"zaxis\":{\"backgroundcolor\":\"white\",\"gridcolor\":\"#DFE8F3\",\"gridwidth\":2,\"linecolor\":\"#EBF0F8\",\"showbackground\":true,\"ticks\":\"\",\"zerolinecolor\":\"#EBF0F8\"}},\"shapedefaults\":{\"line\":{\"color\":\"#2a3f5f\"}},\"ternary\":{\"aaxis\":{\"gridcolor\":\"#DFE8F3\",\"linecolor\":\"#A2B1C6\",\"ticks\":\"\"},\"baxis\":{\"gridcolor\":\"#DFE8F3\",\"linecolor\":\"#A2B1C6\",\"ticks\":\"\"},\"bgcolor\":\"white\",\"caxis\":{\"gridcolor\":\"#DFE8F3\",\"linecolor\":\"#A2B1C6\",\"ticks\":\"\"}},\"title\":{\"x\":0.05},\"xaxis\":{\"automargin\":true,\"gridcolor\":\"#EBF0F8\",\"linecolor\":\"#EBF0F8\",\"ticks\":\"\",\"title\":{\"standoff\":15},\"zerolinecolor\":\"#EBF0F8\",\"zerolinewidth\":2},\"yaxis\":{\"automargin\":true,\"gridcolor\":\"#EBF0F8\",\"linecolor\":\"#EBF0F8\",\"ticks\":\"\",\"title\":{\"standoff\":15},\"zerolinecolor\":\"#EBF0F8\",\"zerolinewidth\":2}}},\"xaxis\":{\"anchor\":\"y\",\"domain\":[0.0,1.0],\"title\":{\"text\":\"Feature Importance\"},\"tickfont\":{\"size\":20},\"visible\":true,\"range\":[0,0.25]},\"yaxis\":{\"anchor\":\"x\",\"domain\":[0.0,1.0],\"title\":{\"text\":\"Feature\"},\"categoryorder\":\"total ascending\",\"tickfont\":{\"size\":20},\"automargin\":true,\"range\":[-1,54],\"dtick\":1},\"legend\":{\"tracegroupgap\":0},\"title\":{\"text\":\"FI of Top 10 Models on-task_vs_dMW \\u003cbr \\u003e\\nAverage AUC 0.639 \\u003cbr\\u003e\\nBest AUC 0.646\\n                 \"},\"boxmode\":\"group\",\"font\":{\"family\":\"Times new roman\",\"size\":20,\"color\":\"black\"},\"margin\":{\"l\":50,\"r\":50,\"t\":150,\"b\":50},\"width\":650,\"height\":1100,\"showlegend\":true},                        {\"responsive\": true}                    ).then(function(){\n",
       "                            \n",
       "var gd = document.getElementById('c624b89c-bdee-4f2b-8961-10ddd9b74cf8');\n",
       "var x = new MutationObserver(function (mutations, observer) {{\n",
       "        var display = window.getComputedStyle(gd).display;\n",
       "        if (!display || display === 'none') {{\n",
       "            console.log([gd, 'removed!']);\n",
       "            Plotly.purge(gd);\n",
       "            observer.disconnect();\n",
       "        }}\n",
       "}});\n",
       "\n",
       "// Listen for the removal of the full notebook cells\n",
       "var notebookContainer = gd.closest('#notebook-container');\n",
       "if (notebookContainer) {{\n",
       "    x.observe(notebookContainer, {childList: true});\n",
       "}}\n",
       "\n",
       "// Listen for the clearing of the current output cell\n",
       "var outputEl = gd.closest('.output');\n",
       "if (outputEl) {{\n",
       "    x.observe(outputEl, {childList: true});\n",
       "}}\n",
       "\n",
       "                        })                };                });            </script>        </div>"
      ]
     },
     "metadata": {},
     "output_type": "display_data"
    },
    {
     "data": {
      "application/vnd.plotly.v1+json": {
       "config": {
        "plotlyServerURL": "https://plot.ly"
       },
       "data": [
        {
         "alignmentgroup": "True",
         "hovertemplate": "Importance=%{x}<br>Feature=%{y}<extra></extra>",
         "legendgroup": "",
         "marker": {
          "color": "#F38A31",
          "size": 8
         },
         "name": "",
         "notched": false,
         "offsetgroup": "",
         "orientation": "h",
         "showlegend": false,
         "type": "box",
         "x": [
          0,
          0,
          0,
          0.01923077,
          0,
          0,
          0.02272727,
          0,
          0,
          0,
          0.09327384,
          0.06612155,
          0.05536764,
          0.08159551,
          0.08570353,
          0.05685636,
          0.09769508,
          0.10681999,
          0.08418472,
          0.09844372,
          0.00505474,
          0.01006644,
          0.01296156,
          0.01371056,
          0.01732988,
          0.01411546,
          0.00700769,
          0.01670415,
          0.01280552,
          0.00776054,
          0,
          0,
          0,
          0,
          0,
          0,
          0,
          0,
          0,
          0,
          0,
          0,
          0.02194109,
          0.02036636,
          0,
          0,
          0,
          0,
          0,
          0,
          0,
          0,
          0,
          0,
          0,
          0,
          0,
          0,
          0,
          0,
          0,
          0,
          0,
          0,
          0,
          0,
          0,
          0,
          0,
          0,
          0,
          0,
          0,
          0,
          0,
          0,
          0,
          0,
          0,
          0,
          0.02272727,
          0.01923077,
          0,
          0,
          0,
          0,
          0,
          0,
          0,
          0,
          0,
          0,
          0,
          0,
          0,
          0,
          0,
          0,
          0,
          0,
          0.07272727,
          0.05048077,
          0.060607,
          0.06089744,
          0,
          0.0581605,
          0.07272727,
          0,
          0.06439394,
          0.075,
          0,
          0,
          0,
          0,
          0,
          0,
          0,
          0,
          0,
          0,
          0,
          0,
          0,
          0,
          0,
          0,
          0,
          0,
          0,
          0,
          0,
          0,
          0,
          0,
          0,
          0,
          0,
          0,
          0,
          0,
          0,
          0,
          0,
          0,
          0,
          0,
          0,
          0,
          0,
          0,
          0,
          0,
          0,
          0,
          0,
          0,
          0,
          0,
          0,
          0,
          0.08522727,
          0.16756424,
          0.12119148,
          0.09289373,
          0.15062972,
          0.13097451,
          0.09415584,
          0.1091825,
          0.10874741,
          0.09642857,
          0,
          0,
          0,
          0,
          0,
          0,
          0,
          0,
          0,
          0,
          0.05597591,
          0.04257172,
          0.05490102,
          0.03872148,
          0.06315769,
          0.05830774,
          0.02032658,
          0.03824804,
          0.04300589,
          0.02024377,
          0,
          0,
          0,
          0,
          0,
          0,
          0,
          0,
          0,
          0,
          0.10030905,
          0.10181277,
          0.10466877,
          0.15096154,
          0.10992287,
          0.10213617,
          0.11741128,
          0.1099153,
          0.1174641,
          0.13571429,
          0,
          0.01923077,
          0.00912151,
          0.00732345,
          0.025,
          0.02083333,
          0,
          0.025,
          0.02272727,
          0,
          0,
          0,
          0,
          0,
          0,
          0,
          0,
          0,
          0,
          0,
          0,
          0,
          0,
          0,
          0,
          0,
          0,
          0,
          0,
          0,
          0,
          0,
          0,
          0,
          0,
          0,
          0,
          0,
          0,
          0,
          0,
          0.01404411,
          0.02290102,
          0.02000832,
          0,
          0.02107933,
          0,
          0,
          0.01852684,
          0,
          0,
          0,
          0,
          0,
          0,
          0,
          0,
          0,
          0,
          0,
          0,
          0,
          0,
          0,
          0,
          0,
          0,
          0,
          0,
          0,
          0,
          0,
          0.01010926,
          0.01190732,
          0,
          0,
          0,
          0,
          0,
          0,
          0,
          0,
          0.02805891,
          0.02963364,
          0,
          0,
          0.05,
          0,
          0,
          0.05,
          0,
          0,
          0,
          0,
          0,
          0,
          0,
          0,
          0,
          0,
          0,
          0,
          0,
          0,
          0,
          0,
          0,
          0,
          0,
          0,
          0.05397727,
          0.04423077,
          0.0272303,
          0.02870786,
          0.05277778,
          0.07361111,
          0.02272727,
          0.05277778,
          0.05397727,
          0.025,
          0,
          0,
          0,
          0,
          0,
          0,
          0,
          0,
          0,
          0,
          0.10397727,
          0.07548077,
          0.07089421,
          0.09214744,
          0.09444444,
          0.06846049,
          0.15844156,
          0.11527778,
          0.09564394,
          0.16071429,
          0,
          0,
          0,
          0,
          0,
          0,
          0,
          0,
          0,
          0,
          0.20498314,
          0.15311008,
          0.14018638,
          0.13662921,
          0.17550679,
          0.14917229,
          0.16753413,
          0.21994668,
          0.17579555,
          0.17050657,
          0.03700156,
          0.029918,
          0.04866654,
          0,
          0.03313269,
          0.04664777,
          0.01375755,
          0.03314025,
          0.03026317,
          0,
          0,
          0,
          0.01923077,
          0,
          0,
          0.02083333,
          0,
          0,
          0,
          0,
          0,
          0,
          0,
          0,
          0,
          0,
          0,
          0,
          0,
          0,
          0,
          0,
          0,
          0,
          0,
          0,
          0,
          0,
          0,
          0,
          0,
          0,
          0,
          0,
          0,
          0,
          0,
          0,
          0,
          0,
          0,
          0,
          0.01700047,
          0.02177291,
          0,
          0,
          0,
          0,
          0,
          0,
          0,
          0,
          0,
          0,
          0,
          0,
          0,
          0,
          0,
          0,
          0.01070343,
          0.00935922,
          0.02011313,
          0.01055192,
          0.00874091,
          0.01675476,
          0.01074648,
          0.00845778,
          0.01145922,
          0.01227056,
          0,
          0,
          0,
          0,
          0,
          0,
          0,
          0,
          0,
          0,
          0,
          0,
          0,
          0,
          0,
          0,
          0,
          0,
          0,
          0,
          0,
          0.01720589,
          0.01293554,
          0.02165835,
          0,
          0.01184906,
          0,
          0,
          0.02313983,
          0,
          0.0813347,
          0.06415905,
          0.07057975,
          0.06175929,
          0.09378675,
          0.07780337,
          0.0653877,
          0.07702974,
          0.07347139,
          0.06547052,
          0,
          0.06493231,
          0,
          0,
          0,
          0,
          0,
          0,
          0,
          0,
          0,
          0,
          0,
          0,
          0,
          0,
          0,
          0,
          0,
          0,
          0.07272727,
          0.05048077,
          0.05048077,
          0.06089744,
          0.06666667,
          0.04861111,
          0.07272727,
          0.0875,
          0.06439394,
          0.075,
          0,
          0,
          0.02085289,
          0.01862547,
          0.02320028,
          0.0237933,
          0.00662701,
          0,
          0,
          0.00744718,
          0,
          0,
          0,
          0,
          0,
          0,
          0,
          0,
          0,
          0
         ],
         "x0": " ",
         "xaxis": "x",
         "y": [
          "wSMI_1_mean",
          "wSMI_1_mean",
          "wSMI_1_mean",
          "wSMI_1_mean",
          "wSMI_1_mean",
          "wSMI_1_mean",
          "wSMI_1_mean",
          "wSMI_1_mean",
          "wSMI_1_mean",
          "wSMI_1_mean",
          "wSMI_1_std",
          "wSMI_1_std",
          "wSMI_1_std",
          "wSMI_1_std",
          "wSMI_1_std",
          "wSMI_1_std",
          "wSMI_1_std",
          "wSMI_1_std",
          "wSMI_1_std",
          "wSMI_1_std",
          "wSMI_2_mean",
          "wSMI_2_mean",
          "wSMI_2_mean",
          "wSMI_2_mean",
          "wSMI_2_mean",
          "wSMI_2_mean",
          "wSMI_2_mean",
          "wSMI_2_mean",
          "wSMI_2_mean",
          "wSMI_2_mean",
          "wSMI_2_std",
          "wSMI_2_std",
          "wSMI_2_std",
          "wSMI_2_std",
          "wSMI_2_std",
          "wSMI_2_std",
          "wSMI_2_std",
          "wSMI_2_std",
          "wSMI_2_std",
          "wSMI_2_std",
          "wSMI_4_mean",
          "wSMI_4_mean",
          "wSMI_4_mean",
          "wSMI_4_mean",
          "wSMI_4_mean",
          "wSMI_4_mean",
          "wSMI_4_mean",
          "wSMI_4_mean",
          "wSMI_4_mean",
          "wSMI_4_mean",
          "wSMI_4_std",
          "wSMI_4_std",
          "wSMI_4_std",
          "wSMI_4_std",
          "wSMI_4_std",
          "wSMI_4_std",
          "wSMI_4_std",
          "wSMI_4_std",
          "wSMI_4_std",
          "wSMI_4_std",
          "wSMI_8_mean",
          "wSMI_8_mean",
          "wSMI_8_mean",
          "wSMI_8_mean",
          "wSMI_8_mean",
          "wSMI_8_mean",
          "wSMI_8_mean",
          "wSMI_8_mean",
          "wSMI_8_mean",
          "wSMI_8_mean",
          "wSMI_8_std",
          "wSMI_8_std",
          "wSMI_8_std",
          "wSMI_8_std",
          "wSMI_8_std",
          "wSMI_8_std",
          "wSMI_8_std",
          "wSMI_8_std",
          "wSMI_8_std",
          "wSMI_8_std",
          "p_e_1_mean",
          "p_e_1_mean",
          "p_e_1_mean",
          "p_e_1_mean",
          "p_e_1_mean",
          "p_e_1_mean",
          "p_e_1_mean",
          "p_e_1_mean",
          "p_e_1_mean",
          "p_e_1_mean",
          "p_e_1_std",
          "p_e_1_std",
          "p_e_1_std",
          "p_e_1_std",
          "p_e_1_std",
          "p_e_1_std",
          "p_e_1_std",
          "p_e_1_std",
          "p_e_1_std",
          "p_e_1_std",
          "p_e_2_mean",
          "p_e_2_mean",
          "p_e_2_mean",
          "p_e_2_mean",
          "p_e_2_mean",
          "p_e_2_mean",
          "p_e_2_mean",
          "p_e_2_mean",
          "p_e_2_mean",
          "p_e_2_mean",
          "p_e_2_std",
          "p_e_2_std",
          "p_e_2_std",
          "p_e_2_std",
          "p_e_2_std",
          "p_e_2_std",
          "p_e_2_std",
          "p_e_2_std",
          "p_e_2_std",
          "p_e_2_std",
          "p_e_4_mean",
          "p_e_4_mean",
          "p_e_4_mean",
          "p_e_4_mean",
          "p_e_4_mean",
          "p_e_4_mean",
          "p_e_4_mean",
          "p_e_4_mean",
          "p_e_4_mean",
          "p_e_4_mean",
          "p_e_4_std",
          "p_e_4_std",
          "p_e_4_std",
          "p_e_4_std",
          "p_e_4_std",
          "p_e_4_std",
          "p_e_4_std",
          "p_e_4_std",
          "p_e_4_std",
          "p_e_4_std",
          "p_e_8_mean",
          "p_e_8_mean",
          "p_e_8_mean",
          "p_e_8_mean",
          "p_e_8_mean",
          "p_e_8_mean",
          "p_e_8_mean",
          "p_e_8_mean",
          "p_e_8_mean",
          "p_e_8_mean",
          "p_e_8_std",
          "p_e_8_std",
          "p_e_8_std",
          "p_e_8_std",
          "p_e_8_std",
          "p_e_8_std",
          "p_e_8_std",
          "p_e_8_std",
          "p_e_8_std",
          "p_e_8_std",
          "k_mean",
          "k_mean",
          "k_mean",
          "k_mean",
          "k_mean",
          "k_mean",
          "k_mean",
          "k_mean",
          "k_mean",
          "k_mean",
          "k_std",
          "k_std",
          "k_std",
          "k_std",
          "k_std",
          "k_std",
          "k_std",
          "k_std",
          "k_std",
          "k_std",
          "se_mean",
          "se_mean",
          "se_mean",
          "se_mean",
          "se_mean",
          "se_mean",
          "se_mean",
          "se_mean",
          "se_mean",
          "se_mean",
          "se_std",
          "se_std",
          "se_std",
          "se_std",
          "se_std",
          "se_std",
          "se_std",
          "se_std",
          "se_std",
          "se_std",
          "msf_mean",
          "msf_mean",
          "msf_mean",
          "msf_mean",
          "msf_mean",
          "msf_mean",
          "msf_mean",
          "msf_mean",
          "msf_mean",
          "msf_mean",
          "msf_std",
          "msf_std",
          "msf_std",
          "msf_std",
          "msf_std",
          "msf_std",
          "msf_std",
          "msf_std",
          "msf_std",
          "msf_std",
          "sef90_mean",
          "sef90_mean",
          "sef90_mean",
          "sef90_mean",
          "sef90_mean",
          "sef90_mean",
          "sef90_mean",
          "sef90_mean",
          "sef90_mean",
          "sef90_mean",
          "sef90_std",
          "sef90_std",
          "sef90_std",
          "sef90_std",
          "sef90_std",
          "sef90_std",
          "sef90_std",
          "sef90_std",
          "sef90_std",
          "sef90_std",
          "sef95_mean",
          "sef95_mean",
          "sef95_mean",
          "sef95_mean",
          "sef95_mean",
          "sef95_mean",
          "sef95_mean",
          "sef95_mean",
          "sef95_mean",
          "sef95_mean",
          "sef95_std",
          "sef95_std",
          "sef95_std",
          "sef95_std",
          "sef95_std",
          "sef95_std",
          "sef95_std",
          "sef95_std",
          "sef95_std",
          "sef95_std",
          "b_mean",
          "b_mean",
          "b_mean",
          "b_mean",
          "b_mean",
          "b_mean",
          "b_mean",
          "b_mean",
          "b_mean",
          "b_mean",
          "b_std",
          "b_std",
          "b_std",
          "b_std",
          "b_std",
          "b_std",
          "b_std",
          "b_std",
          "b_std",
          "b_std",
          "b_n_mean",
          "b_n_mean",
          "b_n_mean",
          "b_n_mean",
          "b_n_mean",
          "b_n_mean",
          "b_n_mean",
          "b_n_mean",
          "b_n_mean",
          "b_n_mean",
          "b_n_std",
          "b_n_std",
          "b_n_std",
          "b_n_std",
          "b_n_std",
          "b_n_std",
          "b_n_std",
          "b_n_std",
          "b_n_std",
          "b_n_std",
          "g_mean",
          "g_mean",
          "g_mean",
          "g_mean",
          "g_mean",
          "g_mean",
          "g_mean",
          "g_mean",
          "g_mean",
          "g_mean",
          "g_std",
          "g_std",
          "g_std",
          "g_std",
          "g_std",
          "g_std",
          "g_std",
          "g_std",
          "g_std",
          "g_std",
          "g_n_mean",
          "g_n_mean",
          "g_n_mean",
          "g_n_mean",
          "g_n_mean",
          "g_n_mean",
          "g_n_mean",
          "g_n_mean",
          "g_n_mean",
          "g_n_mean",
          "g_n_std",
          "g_n_std",
          "g_n_std",
          "g_n_std",
          "g_n_std",
          "g_n_std",
          "g_n_std",
          "g_n_std",
          "g_n_std",
          "g_n_std",
          "t_mean",
          "t_mean",
          "t_mean",
          "t_mean",
          "t_mean",
          "t_mean",
          "t_mean",
          "t_mean",
          "t_mean",
          "t_mean",
          "t_std",
          "t_std",
          "t_std",
          "t_std",
          "t_std",
          "t_std",
          "t_std",
          "t_std",
          "t_std",
          "t_std",
          "t_n_mean",
          "t_n_mean",
          "t_n_mean",
          "t_n_mean",
          "t_n_mean",
          "t_n_mean",
          "t_n_mean",
          "t_n_mean",
          "t_n_mean",
          "t_n_mean",
          "t_n_std",
          "t_n_std",
          "t_n_std",
          "t_n_std",
          "t_n_std",
          "t_n_std",
          "t_n_std",
          "t_n_std",
          "t_n_std",
          "t_n_std",
          "d_mean",
          "d_mean",
          "d_mean",
          "d_mean",
          "d_mean",
          "d_mean",
          "d_mean",
          "d_mean",
          "d_mean",
          "d_mean",
          "d_std",
          "d_std",
          "d_std",
          "d_std",
          "d_std",
          "d_std",
          "d_std",
          "d_std",
          "d_std",
          "d_std",
          "d_n_mean",
          "d_n_mean",
          "d_n_mean",
          "d_n_mean",
          "d_n_mean",
          "d_n_mean",
          "d_n_mean",
          "d_n_mean",
          "d_n_mean",
          "d_n_mean",
          "d_n_std",
          "d_n_std",
          "d_n_std",
          "d_n_std",
          "d_n_std",
          "d_n_std",
          "d_n_std",
          "d_n_std",
          "d_n_std",
          "d_n_std",
          "a_n_mean",
          "a_n_mean",
          "a_n_mean",
          "a_n_mean",
          "a_n_mean",
          "a_n_mean",
          "a_n_mean",
          "a_n_mean",
          "a_n_mean",
          "a_n_mean",
          "a_n_std",
          "a_n_std",
          "a_n_std",
          "a_n_std",
          "a_n_std",
          "a_n_std",
          "a_n_std",
          "a_n_std",
          "a_n_std",
          "a_n_std",
          "a_mean",
          "a_mean",
          "a_mean",
          "a_mean",
          "a_mean",
          "a_mean",
          "a_mean",
          "a_mean",
          "a_mean",
          "a_mean",
          "a_std",
          "a_std",
          "a_std",
          "a_std",
          "a_std",
          "a_std",
          "a_std",
          "a_std",
          "a_std",
          "a_std",
          "CNV_mean",
          "CNV_mean",
          "CNV_mean",
          "CNV_mean",
          "CNV_mean",
          "CNV_mean",
          "CNV_mean",
          "CNV_mean",
          "CNV_mean",
          "CNV_mean",
          "CNV_std",
          "CNV_std",
          "CNV_std",
          "CNV_std",
          "CNV_std",
          "CNV_std",
          "CNV_std",
          "CNV_std",
          "CNV_std",
          "CNV_std",
          "P1_mean",
          "P1_mean",
          "P1_mean",
          "P1_mean",
          "P1_mean",
          "P1_mean",
          "P1_mean",
          "P1_mean",
          "P1_mean",
          "P1_mean",
          "P1_std",
          "P1_std",
          "P1_std",
          "P1_std",
          "P1_std",
          "P1_std",
          "P1_std",
          "P1_std",
          "P1_std",
          "P1_std",
          "P3a_mean",
          "P3a_mean",
          "P3a_mean",
          "P3a_mean",
          "P3a_mean",
          "P3a_mean",
          "P3a_mean",
          "P3a_mean",
          "P3a_mean",
          "P3a_mean",
          "P3a_std",
          "P3a_std",
          "P3a_std",
          "P3a_std",
          "P3a_std",
          "P3a_std",
          "P3a_std",
          "P3a_std",
          "P3a_std",
          "P3a_std",
          "P3b_mean",
          "P3b_mean",
          "P3b_mean",
          "P3b_mean",
          "P3b_mean",
          "P3b_mean",
          "P3b_mean",
          "P3b_mean",
          "P3b_mean",
          "P3b_mean",
          "P3b_std",
          "P3b_std",
          "P3b_std",
          "P3b_std",
          "P3b_std",
          "P3b_std",
          "P3b_std",
          "P3b_std",
          "P3b_std",
          "P3b_std"
         ],
         "y0": " ",
         "yaxis": "y"
        }
       ],
       "layout": {
        "boxmode": "group",
        "font": {
         "color": "black",
         "family": "Times new roman",
         "size": 20
        },
        "height": 1100,
        "legend": {
         "tracegroupgap": 0
        },
        "margin": {
         "b": 50,
         "l": 50,
         "r": 50,
         "t": 150
        },
        "showlegend": true,
        "template": {
         "data": {
          "bar": [
           {
            "error_x": {
             "color": "#2a3f5f"
            },
            "error_y": {
             "color": "#2a3f5f"
            },
            "marker": {
             "line": {
              "color": "white",
              "width": 0.5
             },
             "pattern": {
              "fillmode": "overlay",
              "size": 10,
              "solidity": 0.2
             }
            },
            "type": "bar"
           }
          ],
          "barpolar": [
           {
            "marker": {
             "line": {
              "color": "white",
              "width": 0.5
             },
             "pattern": {
              "fillmode": "overlay",
              "size": 10,
              "solidity": 0.2
             }
            },
            "type": "barpolar"
           }
          ],
          "carpet": [
           {
            "aaxis": {
             "endlinecolor": "#2a3f5f",
             "gridcolor": "#C8D4E3",
             "linecolor": "#C8D4E3",
             "minorgridcolor": "#C8D4E3",
             "startlinecolor": "#2a3f5f"
            },
            "baxis": {
             "endlinecolor": "#2a3f5f",
             "gridcolor": "#C8D4E3",
             "linecolor": "#C8D4E3",
             "minorgridcolor": "#C8D4E3",
             "startlinecolor": "#2a3f5f"
            },
            "type": "carpet"
           }
          ],
          "choropleth": [
           {
            "colorbar": {
             "outlinewidth": 0,
             "ticks": ""
            },
            "type": "choropleth"
           }
          ],
          "contour": [
           {
            "colorbar": {
             "outlinewidth": 0,
             "ticks": ""
            },
            "colorscale": [
             [
              0,
              "#0d0887"
             ],
             [
              0.1111111111111111,
              "#46039f"
             ],
             [
              0.2222222222222222,
              "#7201a8"
             ],
             [
              0.3333333333333333,
              "#9c179e"
             ],
             [
              0.4444444444444444,
              "#bd3786"
             ],
             [
              0.5555555555555556,
              "#d8576b"
             ],
             [
              0.6666666666666666,
              "#ed7953"
             ],
             [
              0.7777777777777778,
              "#fb9f3a"
             ],
             [
              0.8888888888888888,
              "#fdca26"
             ],
             [
              1,
              "#f0f921"
             ]
            ],
            "type": "contour"
           }
          ],
          "contourcarpet": [
           {
            "colorbar": {
             "outlinewidth": 0,
             "ticks": ""
            },
            "type": "contourcarpet"
           }
          ],
          "heatmap": [
           {
            "colorbar": {
             "outlinewidth": 0,
             "ticks": ""
            },
            "colorscale": [
             [
              0,
              "#0d0887"
             ],
             [
              0.1111111111111111,
              "#46039f"
             ],
             [
              0.2222222222222222,
              "#7201a8"
             ],
             [
              0.3333333333333333,
              "#9c179e"
             ],
             [
              0.4444444444444444,
              "#bd3786"
             ],
             [
              0.5555555555555556,
              "#d8576b"
             ],
             [
              0.6666666666666666,
              "#ed7953"
             ],
             [
              0.7777777777777778,
              "#fb9f3a"
             ],
             [
              0.8888888888888888,
              "#fdca26"
             ],
             [
              1,
              "#f0f921"
             ]
            ],
            "type": "heatmap"
           }
          ],
          "heatmapgl": [
           {
            "colorbar": {
             "outlinewidth": 0,
             "ticks": ""
            },
            "colorscale": [
             [
              0,
              "#0d0887"
             ],
             [
              0.1111111111111111,
              "#46039f"
             ],
             [
              0.2222222222222222,
              "#7201a8"
             ],
             [
              0.3333333333333333,
              "#9c179e"
             ],
             [
              0.4444444444444444,
              "#bd3786"
             ],
             [
              0.5555555555555556,
              "#d8576b"
             ],
             [
              0.6666666666666666,
              "#ed7953"
             ],
             [
              0.7777777777777778,
              "#fb9f3a"
             ],
             [
              0.8888888888888888,
              "#fdca26"
             ],
             [
              1,
              "#f0f921"
             ]
            ],
            "type": "heatmapgl"
           }
          ],
          "histogram": [
           {
            "marker": {
             "pattern": {
              "fillmode": "overlay",
              "size": 10,
              "solidity": 0.2
             }
            },
            "type": "histogram"
           }
          ],
          "histogram2d": [
           {
            "colorbar": {
             "outlinewidth": 0,
             "ticks": ""
            },
            "colorscale": [
             [
              0,
              "#0d0887"
             ],
             [
              0.1111111111111111,
              "#46039f"
             ],
             [
              0.2222222222222222,
              "#7201a8"
             ],
             [
              0.3333333333333333,
              "#9c179e"
             ],
             [
              0.4444444444444444,
              "#bd3786"
             ],
             [
              0.5555555555555556,
              "#d8576b"
             ],
             [
              0.6666666666666666,
              "#ed7953"
             ],
             [
              0.7777777777777778,
              "#fb9f3a"
             ],
             [
              0.8888888888888888,
              "#fdca26"
             ],
             [
              1,
              "#f0f921"
             ]
            ],
            "type": "histogram2d"
           }
          ],
          "histogram2dcontour": [
           {
            "colorbar": {
             "outlinewidth": 0,
             "ticks": ""
            },
            "colorscale": [
             [
              0,
              "#0d0887"
             ],
             [
              0.1111111111111111,
              "#46039f"
             ],
             [
              0.2222222222222222,
              "#7201a8"
             ],
             [
              0.3333333333333333,
              "#9c179e"
             ],
             [
              0.4444444444444444,
              "#bd3786"
             ],
             [
              0.5555555555555556,
              "#d8576b"
             ],
             [
              0.6666666666666666,
              "#ed7953"
             ],
             [
              0.7777777777777778,
              "#fb9f3a"
             ],
             [
              0.8888888888888888,
              "#fdca26"
             ],
             [
              1,
              "#f0f921"
             ]
            ],
            "type": "histogram2dcontour"
           }
          ],
          "mesh3d": [
           {
            "colorbar": {
             "outlinewidth": 0,
             "ticks": ""
            },
            "type": "mesh3d"
           }
          ],
          "parcoords": [
           {
            "line": {
             "colorbar": {
              "outlinewidth": 0,
              "ticks": ""
             }
            },
            "type": "parcoords"
           }
          ],
          "pie": [
           {
            "automargin": true,
            "type": "pie"
           }
          ],
          "scatter": [
           {
            "fillpattern": {
             "fillmode": "overlay",
             "size": 10,
             "solidity": 0.2
            },
            "type": "scatter"
           }
          ],
          "scatter3d": [
           {
            "line": {
             "colorbar": {
              "outlinewidth": 0,
              "ticks": ""
             }
            },
            "marker": {
             "colorbar": {
              "outlinewidth": 0,
              "ticks": ""
             }
            },
            "type": "scatter3d"
           }
          ],
          "scattercarpet": [
           {
            "marker": {
             "colorbar": {
              "outlinewidth": 0,
              "ticks": ""
             }
            },
            "type": "scattercarpet"
           }
          ],
          "scattergeo": [
           {
            "marker": {
             "colorbar": {
              "outlinewidth": 0,
              "ticks": ""
             }
            },
            "type": "scattergeo"
           }
          ],
          "scattergl": [
           {
            "marker": {
             "colorbar": {
              "outlinewidth": 0,
              "ticks": ""
             }
            },
            "type": "scattergl"
           }
          ],
          "scattermapbox": [
           {
            "marker": {
             "colorbar": {
              "outlinewidth": 0,
              "ticks": ""
             }
            },
            "type": "scattermapbox"
           }
          ],
          "scatterpolar": [
           {
            "marker": {
             "colorbar": {
              "outlinewidth": 0,
              "ticks": ""
             }
            },
            "type": "scatterpolar"
           }
          ],
          "scatterpolargl": [
           {
            "marker": {
             "colorbar": {
              "outlinewidth": 0,
              "ticks": ""
             }
            },
            "type": "scatterpolargl"
           }
          ],
          "scatterternary": [
           {
            "marker": {
             "colorbar": {
              "outlinewidth": 0,
              "ticks": ""
             }
            },
            "type": "scatterternary"
           }
          ],
          "surface": [
           {
            "colorbar": {
             "outlinewidth": 0,
             "ticks": ""
            },
            "colorscale": [
             [
              0,
              "#0d0887"
             ],
             [
              0.1111111111111111,
              "#46039f"
             ],
             [
              0.2222222222222222,
              "#7201a8"
             ],
             [
              0.3333333333333333,
              "#9c179e"
             ],
             [
              0.4444444444444444,
              "#bd3786"
             ],
             [
              0.5555555555555556,
              "#d8576b"
             ],
             [
              0.6666666666666666,
              "#ed7953"
             ],
             [
              0.7777777777777778,
              "#fb9f3a"
             ],
             [
              0.8888888888888888,
              "#fdca26"
             ],
             [
              1,
              "#f0f921"
             ]
            ],
            "type": "surface"
           }
          ],
          "table": [
           {
            "cells": {
             "fill": {
              "color": "#EBF0F8"
             },
             "line": {
              "color": "white"
             }
            },
            "header": {
             "fill": {
              "color": "#C8D4E3"
             },
             "line": {
              "color": "white"
             }
            },
            "type": "table"
           }
          ]
         },
         "layout": {
          "annotationdefaults": {
           "arrowcolor": "#2a3f5f",
           "arrowhead": 0,
           "arrowwidth": 1
          },
          "autotypenumbers": "strict",
          "coloraxis": {
           "colorbar": {
            "outlinewidth": 0,
            "ticks": ""
           }
          },
          "colorscale": {
           "diverging": [
            [
             0,
             "#8e0152"
            ],
            [
             0.1,
             "#c51b7d"
            ],
            [
             0.2,
             "#de77ae"
            ],
            [
             0.3,
             "#f1b6da"
            ],
            [
             0.4,
             "#fde0ef"
            ],
            [
             0.5,
             "#f7f7f7"
            ],
            [
             0.6,
             "#e6f5d0"
            ],
            [
             0.7,
             "#b8e186"
            ],
            [
             0.8,
             "#7fbc41"
            ],
            [
             0.9,
             "#4d9221"
            ],
            [
             1,
             "#276419"
            ]
           ],
           "sequential": [
            [
             0,
             "#0d0887"
            ],
            [
             0.1111111111111111,
             "#46039f"
            ],
            [
             0.2222222222222222,
             "#7201a8"
            ],
            [
             0.3333333333333333,
             "#9c179e"
            ],
            [
             0.4444444444444444,
             "#bd3786"
            ],
            [
             0.5555555555555556,
             "#d8576b"
            ],
            [
             0.6666666666666666,
             "#ed7953"
            ],
            [
             0.7777777777777778,
             "#fb9f3a"
            ],
            [
             0.8888888888888888,
             "#fdca26"
            ],
            [
             1,
             "#f0f921"
            ]
           ],
           "sequentialminus": [
            [
             0,
             "#0d0887"
            ],
            [
             0.1111111111111111,
             "#46039f"
            ],
            [
             0.2222222222222222,
             "#7201a8"
            ],
            [
             0.3333333333333333,
             "#9c179e"
            ],
            [
             0.4444444444444444,
             "#bd3786"
            ],
            [
             0.5555555555555556,
             "#d8576b"
            ],
            [
             0.6666666666666666,
             "#ed7953"
            ],
            [
             0.7777777777777778,
             "#fb9f3a"
            ],
            [
             0.8888888888888888,
             "#fdca26"
            ],
            [
             1,
             "#f0f921"
            ]
           ]
          },
          "colorway": [
           "#636efa",
           "#EF553B",
           "#00cc96",
           "#ab63fa",
           "#FFA15A",
           "#19d3f3",
           "#FF6692",
           "#B6E880",
           "#FF97FF",
           "#FECB52"
          ],
          "font": {
           "color": "#2a3f5f"
          },
          "geo": {
           "bgcolor": "white",
           "lakecolor": "white",
           "landcolor": "white",
           "showlakes": true,
           "showland": true,
           "subunitcolor": "#C8D4E3"
          },
          "hoverlabel": {
           "align": "left"
          },
          "hovermode": "closest",
          "mapbox": {
           "style": "light"
          },
          "paper_bgcolor": "white",
          "plot_bgcolor": "white",
          "polar": {
           "angularaxis": {
            "gridcolor": "#EBF0F8",
            "linecolor": "#EBF0F8",
            "ticks": ""
           },
           "bgcolor": "white",
           "radialaxis": {
            "gridcolor": "#EBF0F8",
            "linecolor": "#EBF0F8",
            "ticks": ""
           }
          },
          "scene": {
           "xaxis": {
            "backgroundcolor": "white",
            "gridcolor": "#DFE8F3",
            "gridwidth": 2,
            "linecolor": "#EBF0F8",
            "showbackground": true,
            "ticks": "",
            "zerolinecolor": "#EBF0F8"
           },
           "yaxis": {
            "backgroundcolor": "white",
            "gridcolor": "#DFE8F3",
            "gridwidth": 2,
            "linecolor": "#EBF0F8",
            "showbackground": true,
            "ticks": "",
            "zerolinecolor": "#EBF0F8"
           },
           "zaxis": {
            "backgroundcolor": "white",
            "gridcolor": "#DFE8F3",
            "gridwidth": 2,
            "linecolor": "#EBF0F8",
            "showbackground": true,
            "ticks": "",
            "zerolinecolor": "#EBF0F8"
           }
          },
          "shapedefaults": {
           "line": {
            "color": "#2a3f5f"
           }
          },
          "ternary": {
           "aaxis": {
            "gridcolor": "#DFE8F3",
            "linecolor": "#A2B1C6",
            "ticks": ""
           },
           "baxis": {
            "gridcolor": "#DFE8F3",
            "linecolor": "#A2B1C6",
            "ticks": ""
           },
           "bgcolor": "white",
           "caxis": {
            "gridcolor": "#DFE8F3",
            "linecolor": "#A2B1C6",
            "ticks": ""
           }
          },
          "title": {
           "x": 0.05
          },
          "xaxis": {
           "automargin": true,
           "gridcolor": "#EBF0F8",
           "linecolor": "#EBF0F8",
           "ticks": "",
           "title": {
            "standoff": 15
           },
           "zerolinecolor": "#EBF0F8",
           "zerolinewidth": 2
          },
          "yaxis": {
           "automargin": true,
           "gridcolor": "#EBF0F8",
           "linecolor": "#EBF0F8",
           "ticks": "",
           "title": {
            "standoff": 15
           },
           "zerolinecolor": "#EBF0F8",
           "zerolinewidth": 2
          }
         }
        },
        "title": {
         "text": "FI of Top 10 Models on-task_vs_sMW <br >\nAverage AUC 0.614 <br>\nBest AUC 0.64\n                 "
        },
        "width": 650,
        "xaxis": {
         "anchor": "y",
         "domain": [
          0,
          1
         ],
         "range": [
          0,
          0.25
         ],
         "tickfont": {
          "size": 20
         },
         "title": {
          "text": "Feature Importance"
         },
         "visible": true
        },
        "yaxis": {
         "anchor": "x",
         "automargin": true,
         "categoryorder": "total ascending",
         "domain": [
          0,
          1
         ],
         "dtick": 1,
         "range": [
          -1,
          54
         ],
         "tickfont": {
          "size": 20
         },
         "title": {
          "text": "Feature"
         }
        }
       }
      },
      "text/html": [
       "<div>                            <div id=\"0d0f850c-ef3b-4c74-ae6c-988de5e7cf22\" class=\"plotly-graph-div\" style=\"height:1100px; width:650px;\"></div>            <script type=\"text/javascript\">                require([\"plotly\"], function(Plotly) {                    window.PLOTLYENV=window.PLOTLYENV || {};                                    if (document.getElementById(\"0d0f850c-ef3b-4c74-ae6c-988de5e7cf22\")) {                    Plotly.newPlot(                        \"0d0f850c-ef3b-4c74-ae6c-988de5e7cf22\",                        [{\"alignmentgroup\":\"True\",\"hovertemplate\":\"Importance=%{x}\\u003cbr\\u003eFeature=%{y}\\u003cextra\\u003e\\u003c\\u002fextra\\u003e\",\"legendgroup\":\"\",\"marker\":{\"color\":\"#F38A31\",\"size\":8},\"name\":\"\",\"notched\":false,\"offsetgroup\":\"\",\"orientation\":\"h\",\"showlegend\":false,\"x\":[0.0,0.0,0.0,0.01923077,0.0,0.0,0.02272727,0.0,0.0,0.0,0.09327384,0.06612155,0.05536764,0.08159551,0.08570353,0.05685636,0.09769508,0.10681999,0.08418472,0.09844372,0.00505474,0.01006644,0.01296156,0.01371056,0.01732988,0.01411546,0.00700769,0.01670415,0.01280552,0.00776054,0.0,0.0,0.0,0.0,0.0,0.0,0.0,0.0,0.0,0.0,0.0,0.0,0.02194109,0.02036636,0.0,0.0,0.0,0.0,0.0,0.0,0.0,0.0,0.0,0.0,0.0,0.0,0.0,0.0,0.0,0.0,0.0,0.0,0.0,0.0,0.0,0.0,0.0,0.0,0.0,0.0,0.0,0.0,0.0,0.0,0.0,0.0,0.0,0.0,0.0,0.0,0.02272727,0.01923077,0.0,0.0,0.0,0.0,0.0,0.0,0.0,0.0,0.0,0.0,0.0,0.0,0.0,0.0,0.0,0.0,0.0,0.0,0.07272727,0.05048077,0.060607,0.06089744,0.0,0.0581605,0.07272727,0.0,0.06439394,0.075,0.0,0.0,0.0,0.0,0.0,0.0,0.0,0.0,0.0,0.0,0.0,0.0,0.0,0.0,0.0,0.0,0.0,0.0,0.0,0.0,0.0,0.0,0.0,0.0,0.0,0.0,0.0,0.0,0.0,0.0,0.0,0.0,0.0,0.0,0.0,0.0,0.0,0.0,0.0,0.0,0.0,0.0,0.0,0.0,0.0,0.0,0.0,0.0,0.0,0.0,0.08522727,0.16756424,0.12119148,0.09289373,0.15062972,0.13097451,0.09415584,0.1091825,0.10874741,0.09642857,0.0,0.0,0.0,0.0,0.0,0.0,0.0,0.0,0.0,0.0,0.05597591,0.04257172,0.05490102,0.03872148,0.06315769,0.05830774,0.02032658,0.03824804,0.04300589,0.02024377,0.0,0.0,0.0,0.0,0.0,0.0,0.0,0.0,0.0,0.0,0.10030905,0.10181277,0.10466877,0.15096154,0.10992287,0.10213617,0.11741128,0.1099153,0.1174641,0.13571429,0.0,0.01923077,0.00912151,0.00732345,0.025,0.02083333,0.0,0.025,0.02272727,0.0,0.0,0.0,0.0,0.0,0.0,0.0,0.0,0.0,0.0,0.0,0.0,0.0,0.0,0.0,0.0,0.0,0.0,0.0,0.0,0.0,0.0,0.0,0.0,0.0,0.0,0.0,0.0,0.0,0.0,0.0,0.0,0.01404411,0.02290102,0.02000832,0.0,0.02107933,0.0,0.0,0.01852684,0.0,0.0,0.0,0.0,0.0,0.0,0.0,0.0,0.0,0.0,0.0,0.0,0.0,0.0,0.0,0.0,0.0,0.0,0.0,0.0,0.0,0.0,0.0,0.01010926,0.01190732,0.0,0.0,0.0,0.0,0.0,0.0,0.0,0.0,0.02805891,0.02963364,0.0,0.0,0.05,0.0,0.0,0.05,0.0,0.0,0.0,0.0,0.0,0.0,0.0,0.0,0.0,0.0,0.0,0.0,0.0,0.0,0.0,0.0,0.0,0.0,0.0,0.0,0.05397727,0.04423077,0.0272303,0.02870786,0.05277778,0.07361111,0.02272727,0.05277778,0.05397727,0.025,0.0,0.0,0.0,0.0,0.0,0.0,0.0,0.0,0.0,0.0,0.10397727,0.07548077,0.07089421,0.09214744,0.09444444,0.06846049,0.15844156,0.11527778,0.09564394,0.16071429,0.0,0.0,0.0,0.0,0.0,0.0,0.0,0.0,0.0,0.0,0.20498314,0.15311008,0.14018638,0.13662921,0.17550679,0.14917229,0.16753413,0.21994668,0.17579555,0.17050657,0.03700156,0.029918,0.04866654,0.0,0.03313269,0.04664777,0.01375755,0.03314025,0.03026317,0.0,0.0,0.0,0.01923077,0.0,0.0,0.02083333,0.0,0.0,0.0,0.0,0.0,0.0,0.0,0.0,0.0,0.0,0.0,0.0,0.0,0.0,0.0,0.0,0.0,0.0,0.0,0.0,0.0,0.0,0.0,0.0,0.0,0.0,0.0,0.0,0.0,0.0,0.0,0.0,0.0,0.0,0.0,0.0,0.01700047,0.02177291,0.0,0.0,0.0,0.0,0.0,0.0,0.0,0.0,0.0,0.0,0.0,0.0,0.0,0.0,0.0,0.0,0.01070343,0.00935922,0.02011313,0.01055192,0.00874091,0.01675476,0.01074648,0.00845778,0.01145922,0.01227056,0.0,0.0,0.0,0.0,0.0,0.0,0.0,0.0,0.0,0.0,0.0,0.0,0.0,0.0,0.0,0.0,0.0,0.0,0.0,0.0,0.0,0.01720589,0.01293554,0.02165835,0.0,0.01184906,0.0,0.0,0.02313983,0.0,0.0813347,0.06415905,0.07057975,0.06175929,0.09378675,0.07780337,0.0653877,0.07702974,0.07347139,0.06547052,0.0,0.06493231,0.0,0.0,0.0,0.0,0.0,0.0,0.0,0.0,0.0,0.0,0.0,0.0,0.0,0.0,0.0,0.0,0.0,0.0,0.07272727,0.05048077,0.05048077,0.06089744,0.06666667,0.04861111,0.07272727,0.0875,0.06439394,0.075,0.0,0.0,0.02085289,0.01862547,0.02320028,0.0237933,0.00662701,0.0,0.0,0.00744718,0.0,0.0,0.0,0.0,0.0,0.0,0.0,0.0,0.0,0.0],\"x0\":\" \",\"xaxis\":\"x\",\"y\":[\"wSMI_1_mean\",\"wSMI_1_mean\",\"wSMI_1_mean\",\"wSMI_1_mean\",\"wSMI_1_mean\",\"wSMI_1_mean\",\"wSMI_1_mean\",\"wSMI_1_mean\",\"wSMI_1_mean\",\"wSMI_1_mean\",\"wSMI_1_std\",\"wSMI_1_std\",\"wSMI_1_std\",\"wSMI_1_std\",\"wSMI_1_std\",\"wSMI_1_std\",\"wSMI_1_std\",\"wSMI_1_std\",\"wSMI_1_std\",\"wSMI_1_std\",\"wSMI_2_mean\",\"wSMI_2_mean\",\"wSMI_2_mean\",\"wSMI_2_mean\",\"wSMI_2_mean\",\"wSMI_2_mean\",\"wSMI_2_mean\",\"wSMI_2_mean\",\"wSMI_2_mean\",\"wSMI_2_mean\",\"wSMI_2_std\",\"wSMI_2_std\",\"wSMI_2_std\",\"wSMI_2_std\",\"wSMI_2_std\",\"wSMI_2_std\",\"wSMI_2_std\",\"wSMI_2_std\",\"wSMI_2_std\",\"wSMI_2_std\",\"wSMI_4_mean\",\"wSMI_4_mean\",\"wSMI_4_mean\",\"wSMI_4_mean\",\"wSMI_4_mean\",\"wSMI_4_mean\",\"wSMI_4_mean\",\"wSMI_4_mean\",\"wSMI_4_mean\",\"wSMI_4_mean\",\"wSMI_4_std\",\"wSMI_4_std\",\"wSMI_4_std\",\"wSMI_4_std\",\"wSMI_4_std\",\"wSMI_4_std\",\"wSMI_4_std\",\"wSMI_4_std\",\"wSMI_4_std\",\"wSMI_4_std\",\"wSMI_8_mean\",\"wSMI_8_mean\",\"wSMI_8_mean\",\"wSMI_8_mean\",\"wSMI_8_mean\",\"wSMI_8_mean\",\"wSMI_8_mean\",\"wSMI_8_mean\",\"wSMI_8_mean\",\"wSMI_8_mean\",\"wSMI_8_std\",\"wSMI_8_std\",\"wSMI_8_std\",\"wSMI_8_std\",\"wSMI_8_std\",\"wSMI_8_std\",\"wSMI_8_std\",\"wSMI_8_std\",\"wSMI_8_std\",\"wSMI_8_std\",\"p_e_1_mean\",\"p_e_1_mean\",\"p_e_1_mean\",\"p_e_1_mean\",\"p_e_1_mean\",\"p_e_1_mean\",\"p_e_1_mean\",\"p_e_1_mean\",\"p_e_1_mean\",\"p_e_1_mean\",\"p_e_1_std\",\"p_e_1_std\",\"p_e_1_std\",\"p_e_1_std\",\"p_e_1_std\",\"p_e_1_std\",\"p_e_1_std\",\"p_e_1_std\",\"p_e_1_std\",\"p_e_1_std\",\"p_e_2_mean\",\"p_e_2_mean\",\"p_e_2_mean\",\"p_e_2_mean\",\"p_e_2_mean\",\"p_e_2_mean\",\"p_e_2_mean\",\"p_e_2_mean\",\"p_e_2_mean\",\"p_e_2_mean\",\"p_e_2_std\",\"p_e_2_std\",\"p_e_2_std\",\"p_e_2_std\",\"p_e_2_std\",\"p_e_2_std\",\"p_e_2_std\",\"p_e_2_std\",\"p_e_2_std\",\"p_e_2_std\",\"p_e_4_mean\",\"p_e_4_mean\",\"p_e_4_mean\",\"p_e_4_mean\",\"p_e_4_mean\",\"p_e_4_mean\",\"p_e_4_mean\",\"p_e_4_mean\",\"p_e_4_mean\",\"p_e_4_mean\",\"p_e_4_std\",\"p_e_4_std\",\"p_e_4_std\",\"p_e_4_std\",\"p_e_4_std\",\"p_e_4_std\",\"p_e_4_std\",\"p_e_4_std\",\"p_e_4_std\",\"p_e_4_std\",\"p_e_8_mean\",\"p_e_8_mean\",\"p_e_8_mean\",\"p_e_8_mean\",\"p_e_8_mean\",\"p_e_8_mean\",\"p_e_8_mean\",\"p_e_8_mean\",\"p_e_8_mean\",\"p_e_8_mean\",\"p_e_8_std\",\"p_e_8_std\",\"p_e_8_std\",\"p_e_8_std\",\"p_e_8_std\",\"p_e_8_std\",\"p_e_8_std\",\"p_e_8_std\",\"p_e_8_std\",\"p_e_8_std\",\"k_mean\",\"k_mean\",\"k_mean\",\"k_mean\",\"k_mean\",\"k_mean\",\"k_mean\",\"k_mean\",\"k_mean\",\"k_mean\",\"k_std\",\"k_std\",\"k_std\",\"k_std\",\"k_std\",\"k_std\",\"k_std\",\"k_std\",\"k_std\",\"k_std\",\"se_mean\",\"se_mean\",\"se_mean\",\"se_mean\",\"se_mean\",\"se_mean\",\"se_mean\",\"se_mean\",\"se_mean\",\"se_mean\",\"se_std\",\"se_std\",\"se_std\",\"se_std\",\"se_std\",\"se_std\",\"se_std\",\"se_std\",\"se_std\",\"se_std\",\"msf_mean\",\"msf_mean\",\"msf_mean\",\"msf_mean\",\"msf_mean\",\"msf_mean\",\"msf_mean\",\"msf_mean\",\"msf_mean\",\"msf_mean\",\"msf_std\",\"msf_std\",\"msf_std\",\"msf_std\",\"msf_std\",\"msf_std\",\"msf_std\",\"msf_std\",\"msf_std\",\"msf_std\",\"sef90_mean\",\"sef90_mean\",\"sef90_mean\",\"sef90_mean\",\"sef90_mean\",\"sef90_mean\",\"sef90_mean\",\"sef90_mean\",\"sef90_mean\",\"sef90_mean\",\"sef90_std\",\"sef90_std\",\"sef90_std\",\"sef90_std\",\"sef90_std\",\"sef90_std\",\"sef90_std\",\"sef90_std\",\"sef90_std\",\"sef90_std\",\"sef95_mean\",\"sef95_mean\",\"sef95_mean\",\"sef95_mean\",\"sef95_mean\",\"sef95_mean\",\"sef95_mean\",\"sef95_mean\",\"sef95_mean\",\"sef95_mean\",\"sef95_std\",\"sef95_std\",\"sef95_std\",\"sef95_std\",\"sef95_std\",\"sef95_std\",\"sef95_std\",\"sef95_std\",\"sef95_std\",\"sef95_std\",\"b_mean\",\"b_mean\",\"b_mean\",\"b_mean\",\"b_mean\",\"b_mean\",\"b_mean\",\"b_mean\",\"b_mean\",\"b_mean\",\"b_std\",\"b_std\",\"b_std\",\"b_std\",\"b_std\",\"b_std\",\"b_std\",\"b_std\",\"b_std\",\"b_std\",\"b_n_mean\",\"b_n_mean\",\"b_n_mean\",\"b_n_mean\",\"b_n_mean\",\"b_n_mean\",\"b_n_mean\",\"b_n_mean\",\"b_n_mean\",\"b_n_mean\",\"b_n_std\",\"b_n_std\",\"b_n_std\",\"b_n_std\",\"b_n_std\",\"b_n_std\",\"b_n_std\",\"b_n_std\",\"b_n_std\",\"b_n_std\",\"g_mean\",\"g_mean\",\"g_mean\",\"g_mean\",\"g_mean\",\"g_mean\",\"g_mean\",\"g_mean\",\"g_mean\",\"g_mean\",\"g_std\",\"g_std\",\"g_std\",\"g_std\",\"g_std\",\"g_std\",\"g_std\",\"g_std\",\"g_std\",\"g_std\",\"g_n_mean\",\"g_n_mean\",\"g_n_mean\",\"g_n_mean\",\"g_n_mean\",\"g_n_mean\",\"g_n_mean\",\"g_n_mean\",\"g_n_mean\",\"g_n_mean\",\"g_n_std\",\"g_n_std\",\"g_n_std\",\"g_n_std\",\"g_n_std\",\"g_n_std\",\"g_n_std\",\"g_n_std\",\"g_n_std\",\"g_n_std\",\"t_mean\",\"t_mean\",\"t_mean\",\"t_mean\",\"t_mean\",\"t_mean\",\"t_mean\",\"t_mean\",\"t_mean\",\"t_mean\",\"t_std\",\"t_std\",\"t_std\",\"t_std\",\"t_std\",\"t_std\",\"t_std\",\"t_std\",\"t_std\",\"t_std\",\"t_n_mean\",\"t_n_mean\",\"t_n_mean\",\"t_n_mean\",\"t_n_mean\",\"t_n_mean\",\"t_n_mean\",\"t_n_mean\",\"t_n_mean\",\"t_n_mean\",\"t_n_std\",\"t_n_std\",\"t_n_std\",\"t_n_std\",\"t_n_std\",\"t_n_std\",\"t_n_std\",\"t_n_std\",\"t_n_std\",\"t_n_std\",\"d_mean\",\"d_mean\",\"d_mean\",\"d_mean\",\"d_mean\",\"d_mean\",\"d_mean\",\"d_mean\",\"d_mean\",\"d_mean\",\"d_std\",\"d_std\",\"d_std\",\"d_std\",\"d_std\",\"d_std\",\"d_std\",\"d_std\",\"d_std\",\"d_std\",\"d_n_mean\",\"d_n_mean\",\"d_n_mean\",\"d_n_mean\",\"d_n_mean\",\"d_n_mean\",\"d_n_mean\",\"d_n_mean\",\"d_n_mean\",\"d_n_mean\",\"d_n_std\",\"d_n_std\",\"d_n_std\",\"d_n_std\",\"d_n_std\",\"d_n_std\",\"d_n_std\",\"d_n_std\",\"d_n_std\",\"d_n_std\",\"a_n_mean\",\"a_n_mean\",\"a_n_mean\",\"a_n_mean\",\"a_n_mean\",\"a_n_mean\",\"a_n_mean\",\"a_n_mean\",\"a_n_mean\",\"a_n_mean\",\"a_n_std\",\"a_n_std\",\"a_n_std\",\"a_n_std\",\"a_n_std\",\"a_n_std\",\"a_n_std\",\"a_n_std\",\"a_n_std\",\"a_n_std\",\"a_mean\",\"a_mean\",\"a_mean\",\"a_mean\",\"a_mean\",\"a_mean\",\"a_mean\",\"a_mean\",\"a_mean\",\"a_mean\",\"a_std\",\"a_std\",\"a_std\",\"a_std\",\"a_std\",\"a_std\",\"a_std\",\"a_std\",\"a_std\",\"a_std\",\"CNV_mean\",\"CNV_mean\",\"CNV_mean\",\"CNV_mean\",\"CNV_mean\",\"CNV_mean\",\"CNV_mean\",\"CNV_mean\",\"CNV_mean\",\"CNV_mean\",\"CNV_std\",\"CNV_std\",\"CNV_std\",\"CNV_std\",\"CNV_std\",\"CNV_std\",\"CNV_std\",\"CNV_std\",\"CNV_std\",\"CNV_std\",\"P1_mean\",\"P1_mean\",\"P1_mean\",\"P1_mean\",\"P1_mean\",\"P1_mean\",\"P1_mean\",\"P1_mean\",\"P1_mean\",\"P1_mean\",\"P1_std\",\"P1_std\",\"P1_std\",\"P1_std\",\"P1_std\",\"P1_std\",\"P1_std\",\"P1_std\",\"P1_std\",\"P1_std\",\"P3a_mean\",\"P3a_mean\",\"P3a_mean\",\"P3a_mean\",\"P3a_mean\",\"P3a_mean\",\"P3a_mean\",\"P3a_mean\",\"P3a_mean\",\"P3a_mean\",\"P3a_std\",\"P3a_std\",\"P3a_std\",\"P3a_std\",\"P3a_std\",\"P3a_std\",\"P3a_std\",\"P3a_std\",\"P3a_std\",\"P3a_std\",\"P3b_mean\",\"P3b_mean\",\"P3b_mean\",\"P3b_mean\",\"P3b_mean\",\"P3b_mean\",\"P3b_mean\",\"P3b_mean\",\"P3b_mean\",\"P3b_mean\",\"P3b_std\",\"P3b_std\",\"P3b_std\",\"P3b_std\",\"P3b_std\",\"P3b_std\",\"P3b_std\",\"P3b_std\",\"P3b_std\",\"P3b_std\"],\"y0\":\" \",\"yaxis\":\"y\",\"type\":\"box\"}],                        {\"template\":{\"data\":{\"barpolar\":[{\"marker\":{\"line\":{\"color\":\"white\",\"width\":0.5},\"pattern\":{\"fillmode\":\"overlay\",\"size\":10,\"solidity\":0.2}},\"type\":\"barpolar\"}],\"bar\":[{\"error_x\":{\"color\":\"#2a3f5f\"},\"error_y\":{\"color\":\"#2a3f5f\"},\"marker\":{\"line\":{\"color\":\"white\",\"width\":0.5},\"pattern\":{\"fillmode\":\"overlay\",\"size\":10,\"solidity\":0.2}},\"type\":\"bar\"}],\"carpet\":[{\"aaxis\":{\"endlinecolor\":\"#2a3f5f\",\"gridcolor\":\"#C8D4E3\",\"linecolor\":\"#C8D4E3\",\"minorgridcolor\":\"#C8D4E3\",\"startlinecolor\":\"#2a3f5f\"},\"baxis\":{\"endlinecolor\":\"#2a3f5f\",\"gridcolor\":\"#C8D4E3\",\"linecolor\":\"#C8D4E3\",\"minorgridcolor\":\"#C8D4E3\",\"startlinecolor\":\"#2a3f5f\"},\"type\":\"carpet\"}],\"choropleth\":[{\"colorbar\":{\"outlinewidth\":0,\"ticks\":\"\"},\"type\":\"choropleth\"}],\"contourcarpet\":[{\"colorbar\":{\"outlinewidth\":0,\"ticks\":\"\"},\"type\":\"contourcarpet\"}],\"contour\":[{\"colorbar\":{\"outlinewidth\":0,\"ticks\":\"\"},\"colorscale\":[[0.0,\"#0d0887\"],[0.1111111111111111,\"#46039f\"],[0.2222222222222222,\"#7201a8\"],[0.3333333333333333,\"#9c179e\"],[0.4444444444444444,\"#bd3786\"],[0.5555555555555556,\"#d8576b\"],[0.6666666666666666,\"#ed7953\"],[0.7777777777777778,\"#fb9f3a\"],[0.8888888888888888,\"#fdca26\"],[1.0,\"#f0f921\"]],\"type\":\"contour\"}],\"heatmapgl\":[{\"colorbar\":{\"outlinewidth\":0,\"ticks\":\"\"},\"colorscale\":[[0.0,\"#0d0887\"],[0.1111111111111111,\"#46039f\"],[0.2222222222222222,\"#7201a8\"],[0.3333333333333333,\"#9c179e\"],[0.4444444444444444,\"#bd3786\"],[0.5555555555555556,\"#d8576b\"],[0.6666666666666666,\"#ed7953\"],[0.7777777777777778,\"#fb9f3a\"],[0.8888888888888888,\"#fdca26\"],[1.0,\"#f0f921\"]],\"type\":\"heatmapgl\"}],\"heatmap\":[{\"colorbar\":{\"outlinewidth\":0,\"ticks\":\"\"},\"colorscale\":[[0.0,\"#0d0887\"],[0.1111111111111111,\"#46039f\"],[0.2222222222222222,\"#7201a8\"],[0.3333333333333333,\"#9c179e\"],[0.4444444444444444,\"#bd3786\"],[0.5555555555555556,\"#d8576b\"],[0.6666666666666666,\"#ed7953\"],[0.7777777777777778,\"#fb9f3a\"],[0.8888888888888888,\"#fdca26\"],[1.0,\"#f0f921\"]],\"type\":\"heatmap\"}],\"histogram2dcontour\":[{\"colorbar\":{\"outlinewidth\":0,\"ticks\":\"\"},\"colorscale\":[[0.0,\"#0d0887\"],[0.1111111111111111,\"#46039f\"],[0.2222222222222222,\"#7201a8\"],[0.3333333333333333,\"#9c179e\"],[0.4444444444444444,\"#bd3786\"],[0.5555555555555556,\"#d8576b\"],[0.6666666666666666,\"#ed7953\"],[0.7777777777777778,\"#fb9f3a\"],[0.8888888888888888,\"#fdca26\"],[1.0,\"#f0f921\"]],\"type\":\"histogram2dcontour\"}],\"histogram2d\":[{\"colorbar\":{\"outlinewidth\":0,\"ticks\":\"\"},\"colorscale\":[[0.0,\"#0d0887\"],[0.1111111111111111,\"#46039f\"],[0.2222222222222222,\"#7201a8\"],[0.3333333333333333,\"#9c179e\"],[0.4444444444444444,\"#bd3786\"],[0.5555555555555556,\"#d8576b\"],[0.6666666666666666,\"#ed7953\"],[0.7777777777777778,\"#fb9f3a\"],[0.8888888888888888,\"#fdca26\"],[1.0,\"#f0f921\"]],\"type\":\"histogram2d\"}],\"histogram\":[{\"marker\":{\"pattern\":{\"fillmode\":\"overlay\",\"size\":10,\"solidity\":0.2}},\"type\":\"histogram\"}],\"mesh3d\":[{\"colorbar\":{\"outlinewidth\":0,\"ticks\":\"\"},\"type\":\"mesh3d\"}],\"parcoords\":[{\"line\":{\"colorbar\":{\"outlinewidth\":0,\"ticks\":\"\"}},\"type\":\"parcoords\"}],\"pie\":[{\"automargin\":true,\"type\":\"pie\"}],\"scatter3d\":[{\"line\":{\"colorbar\":{\"outlinewidth\":0,\"ticks\":\"\"}},\"marker\":{\"colorbar\":{\"outlinewidth\":0,\"ticks\":\"\"}},\"type\":\"scatter3d\"}],\"scattercarpet\":[{\"marker\":{\"colorbar\":{\"outlinewidth\":0,\"ticks\":\"\"}},\"type\":\"scattercarpet\"}],\"scattergeo\":[{\"marker\":{\"colorbar\":{\"outlinewidth\":0,\"ticks\":\"\"}},\"type\":\"scattergeo\"}],\"scattergl\":[{\"marker\":{\"colorbar\":{\"outlinewidth\":0,\"ticks\":\"\"}},\"type\":\"scattergl\"}],\"scattermapbox\":[{\"marker\":{\"colorbar\":{\"outlinewidth\":0,\"ticks\":\"\"}},\"type\":\"scattermapbox\"}],\"scatterpolargl\":[{\"marker\":{\"colorbar\":{\"outlinewidth\":0,\"ticks\":\"\"}},\"type\":\"scatterpolargl\"}],\"scatterpolar\":[{\"marker\":{\"colorbar\":{\"outlinewidth\":0,\"ticks\":\"\"}},\"type\":\"scatterpolar\"}],\"scatter\":[{\"fillpattern\":{\"fillmode\":\"overlay\",\"size\":10,\"solidity\":0.2},\"type\":\"scatter\"}],\"scatterternary\":[{\"marker\":{\"colorbar\":{\"outlinewidth\":0,\"ticks\":\"\"}},\"type\":\"scatterternary\"}],\"surface\":[{\"colorbar\":{\"outlinewidth\":0,\"ticks\":\"\"},\"colorscale\":[[0.0,\"#0d0887\"],[0.1111111111111111,\"#46039f\"],[0.2222222222222222,\"#7201a8\"],[0.3333333333333333,\"#9c179e\"],[0.4444444444444444,\"#bd3786\"],[0.5555555555555556,\"#d8576b\"],[0.6666666666666666,\"#ed7953\"],[0.7777777777777778,\"#fb9f3a\"],[0.8888888888888888,\"#fdca26\"],[1.0,\"#f0f921\"]],\"type\":\"surface\"}],\"table\":[{\"cells\":{\"fill\":{\"color\":\"#EBF0F8\"},\"line\":{\"color\":\"white\"}},\"header\":{\"fill\":{\"color\":\"#C8D4E3\"},\"line\":{\"color\":\"white\"}},\"type\":\"table\"}]},\"layout\":{\"annotationdefaults\":{\"arrowcolor\":\"#2a3f5f\",\"arrowhead\":0,\"arrowwidth\":1},\"autotypenumbers\":\"strict\",\"coloraxis\":{\"colorbar\":{\"outlinewidth\":0,\"ticks\":\"\"}},\"colorscale\":{\"diverging\":[[0,\"#8e0152\"],[0.1,\"#c51b7d\"],[0.2,\"#de77ae\"],[0.3,\"#f1b6da\"],[0.4,\"#fde0ef\"],[0.5,\"#f7f7f7\"],[0.6,\"#e6f5d0\"],[0.7,\"#b8e186\"],[0.8,\"#7fbc41\"],[0.9,\"#4d9221\"],[1,\"#276419\"]],\"sequential\":[[0.0,\"#0d0887\"],[0.1111111111111111,\"#46039f\"],[0.2222222222222222,\"#7201a8\"],[0.3333333333333333,\"#9c179e\"],[0.4444444444444444,\"#bd3786\"],[0.5555555555555556,\"#d8576b\"],[0.6666666666666666,\"#ed7953\"],[0.7777777777777778,\"#fb9f3a\"],[0.8888888888888888,\"#fdca26\"],[1.0,\"#f0f921\"]],\"sequentialminus\":[[0.0,\"#0d0887\"],[0.1111111111111111,\"#46039f\"],[0.2222222222222222,\"#7201a8\"],[0.3333333333333333,\"#9c179e\"],[0.4444444444444444,\"#bd3786\"],[0.5555555555555556,\"#d8576b\"],[0.6666666666666666,\"#ed7953\"],[0.7777777777777778,\"#fb9f3a\"],[0.8888888888888888,\"#fdca26\"],[1.0,\"#f0f921\"]]},\"colorway\":[\"#636efa\",\"#EF553B\",\"#00cc96\",\"#ab63fa\",\"#FFA15A\",\"#19d3f3\",\"#FF6692\",\"#B6E880\",\"#FF97FF\",\"#FECB52\"],\"font\":{\"color\":\"#2a3f5f\"},\"geo\":{\"bgcolor\":\"white\",\"lakecolor\":\"white\",\"landcolor\":\"white\",\"showlakes\":true,\"showland\":true,\"subunitcolor\":\"#C8D4E3\"},\"hoverlabel\":{\"align\":\"left\"},\"hovermode\":\"closest\",\"mapbox\":{\"style\":\"light\"},\"paper_bgcolor\":\"white\",\"plot_bgcolor\":\"white\",\"polar\":{\"angularaxis\":{\"gridcolor\":\"#EBF0F8\",\"linecolor\":\"#EBF0F8\",\"ticks\":\"\"},\"bgcolor\":\"white\",\"radialaxis\":{\"gridcolor\":\"#EBF0F8\",\"linecolor\":\"#EBF0F8\",\"ticks\":\"\"}},\"scene\":{\"xaxis\":{\"backgroundcolor\":\"white\",\"gridcolor\":\"#DFE8F3\",\"gridwidth\":2,\"linecolor\":\"#EBF0F8\",\"showbackground\":true,\"ticks\":\"\",\"zerolinecolor\":\"#EBF0F8\"},\"yaxis\":{\"backgroundcolor\":\"white\",\"gridcolor\":\"#DFE8F3\",\"gridwidth\":2,\"linecolor\":\"#EBF0F8\",\"showbackground\":true,\"ticks\":\"\",\"zerolinecolor\":\"#EBF0F8\"},\"zaxis\":{\"backgroundcolor\":\"white\",\"gridcolor\":\"#DFE8F3\",\"gridwidth\":2,\"linecolor\":\"#EBF0F8\",\"showbackground\":true,\"ticks\":\"\",\"zerolinecolor\":\"#EBF0F8\"}},\"shapedefaults\":{\"line\":{\"color\":\"#2a3f5f\"}},\"ternary\":{\"aaxis\":{\"gridcolor\":\"#DFE8F3\",\"linecolor\":\"#A2B1C6\",\"ticks\":\"\"},\"baxis\":{\"gridcolor\":\"#DFE8F3\",\"linecolor\":\"#A2B1C6\",\"ticks\":\"\"},\"bgcolor\":\"white\",\"caxis\":{\"gridcolor\":\"#DFE8F3\",\"linecolor\":\"#A2B1C6\",\"ticks\":\"\"}},\"title\":{\"x\":0.05},\"xaxis\":{\"automargin\":true,\"gridcolor\":\"#EBF0F8\",\"linecolor\":\"#EBF0F8\",\"ticks\":\"\",\"title\":{\"standoff\":15},\"zerolinecolor\":\"#EBF0F8\",\"zerolinewidth\":2},\"yaxis\":{\"automargin\":true,\"gridcolor\":\"#EBF0F8\",\"linecolor\":\"#EBF0F8\",\"ticks\":\"\",\"title\":{\"standoff\":15},\"zerolinecolor\":\"#EBF0F8\",\"zerolinewidth\":2}}},\"xaxis\":{\"anchor\":\"y\",\"domain\":[0.0,1.0],\"title\":{\"text\":\"Feature Importance\"},\"tickfont\":{\"size\":20},\"visible\":true,\"range\":[0,0.25]},\"yaxis\":{\"anchor\":\"x\",\"domain\":[0.0,1.0],\"title\":{\"text\":\"Feature\"},\"categoryorder\":\"total ascending\",\"tickfont\":{\"size\":20},\"automargin\":true,\"range\":[-1,54],\"dtick\":1},\"legend\":{\"tracegroupgap\":0},\"title\":{\"text\":\"FI of Top 10 Models on-task_vs_sMW \\u003cbr \\u003e\\nAverage AUC 0.614 \\u003cbr\\u003e\\nBest AUC 0.64\\n                 \"},\"boxmode\":\"group\",\"font\":{\"family\":\"Times new roman\",\"size\":20,\"color\":\"black\"},\"margin\":{\"l\":50,\"r\":50,\"t\":150,\"b\":50},\"width\":650,\"height\":1100,\"showlegend\":true},                        {\"responsive\": true}                    ).then(function(){\n",
       "                            \n",
       "var gd = document.getElementById('0d0f850c-ef3b-4c74-ae6c-988de5e7cf22');\n",
       "var x = new MutationObserver(function (mutations, observer) {{\n",
       "        var display = window.getComputedStyle(gd).display;\n",
       "        if (!display || display === 'none') {{\n",
       "            console.log([gd, 'removed!']);\n",
       "            Plotly.purge(gd);\n",
       "            observer.disconnect();\n",
       "        }}\n",
       "}});\n",
       "\n",
       "// Listen for the removal of the full notebook cells\n",
       "var notebookContainer = gd.closest('#notebook-container');\n",
       "if (notebookContainer) {{\n",
       "    x.observe(notebookContainer, {childList: true});\n",
       "}}\n",
       "\n",
       "// Listen for the clearing of the current output cell\n",
       "var outputEl = gd.closest('.output');\n",
       "if (outputEl) {{\n",
       "    x.observe(outputEl, {childList: true});\n",
       "}}\n",
       "\n",
       "                        })                };                });            </script>        </div>"
      ]
     },
     "metadata": {},
     "output_type": "display_data"
    },
    {
     "data": {
      "application/vnd.plotly.v1+json": {
       "config": {
        "plotlyServerURL": "https://plot.ly"
       },
       "data": [
        {
         "alignmentgroup": "True",
         "hovertemplate": "Importance=%{x}<br>Feature=%{y}<extra></extra>",
         "legendgroup": "",
         "marker": {
          "color": "#42B9B2",
          "size": 8
         },
         "name": "",
         "notched": false,
         "offsetgroup": "",
         "orientation": "h",
         "showlegend": false,
         "type": "box",
         "x": [
          0,
          0,
          0.00595238,
          0.00675676,
          0,
          0.00641026,
          0.00625,
          0,
          0,
          0.00595238,
          0.01004306,
          0.00657895,
          0.01236264,
          0.00675676,
          0.01057252,
          0.00641026,
          0.00625,
          0.00609756,
          0.01174534,
          0.00595238,
          0.01136364,
          0.01470588,
          0,
          0,
          0.01,
          0.01190476,
          0,
          0.0125,
          0.01315789,
          0,
          0.01934103,
          0.01777918,
          0.00278303,
          0.02586302,
          0.01300038,
          0.01811303,
          0.0279006,
          0.01535171,
          0.02244989,
          0.02544877,
          0.01876491,
          0.0263733,
          0.01850052,
          0,
          0.02867045,
          0.02786936,
          0.00625,
          0.0125,
          0.026151,
          0.0087725,
          0,
          0,
          0,
          0,
          0,
          0,
          0.01,
          0,
          0,
          0,
          0,
          0,
          0,
          0.01086957,
          0,
          0,
          0.01,
          0,
          0,
          0.00892857,
          0,
          0,
          0,
          0,
          0,
          0,
          0,
          0,
          0,
          0,
          0,
          0.00368467,
          0.00334454,
          0.00378285,
          0.00358315,
          0.00359098,
          0.00349838,
          0.00609756,
          0.0035197,
          0.00335094,
          0.09103323,
          0.08399928,
          0.06054993,
          0.03939409,
          0.07418803,
          0.0632416,
          0.0575,
          0.07029973,
          0.05956815,
          0.0670935,
          0.00543478,
          0.00657895,
          0.00595238,
          0.00675676,
          0.00641026,
          0.00641026,
          0.00625,
          0.00609756,
          0.00641026,
          0.00595238,
          0.08724648,
          0.09126957,
          0.08099817,
          0.08183649,
          0.08032492,
          0.0722942,
          0.07375,
          0.12666881,
          0.07830358,
          0.06917828,
          0.01061382,
          0,
          0,
          0.01086957,
          0.00641026,
          0,
          0.01,
          0,
          0.00641026,
          0.01805013,
          0,
          0,
          0,
          0.00315862,
          0.00232266,
          0,
          0,
          0,
          0,
          0.00315189,
          0.05996617,
          0.03093152,
          0.05263176,
          0.04230882,
          0.05331212,
          0.05325334,
          0.03875,
          0.02921345,
          0.10781711,
          0.06411105,
          0.00961538,
          0.01086957,
          0,
          0.00675676,
          0,
          0,
          0.01,
          0,
          0.01,
          0.01731345,
          0.02270615,
          0.03827958,
          0.03463076,
          0.03928026,
          0.03290075,
          0.03741373,
          0.036257,
          0.03557546,
          0.02916955,
          0.0309248,
          0,
          0,
          0.02851777,
          0.00561022,
          0,
          0.00667181,
          0.00549089,
          0.01315789,
          0.01,
          0.02106287,
          0.00510675,
          0.00847531,
          0.00580144,
          0.00619386,
          0.01258011,
          0.00775907,
          0,
          0.00223713,
          0.01187523,
          0.00342263,
          0.02466555,
          0.02831808,
          0.01236264,
          0.01785714,
          0.02357538,
          0.0233927,
          0.015625,
          0.02772704,
          0.01,
          0.01662425,
          0.04027891,
          0.05397048,
          0.02797951,
          0.02621113,
          0.03491263,
          0.03900643,
          0.0396367,
          0.02305469,
          0.04846154,
          0.03915535,
          0.01136364,
          0.00760432,
          0.04212454,
          0.02272727,
          0.00525888,
          0.02819498,
          0.025,
          0.01905704,
          0.01315789,
          0.02882483,
          0.00543478,
          0.00657895,
          0.00595238,
          0,
          0.00641026,
          0.00641026,
          0,
          0.00609756,
          0,
          0.00595238,
          0,
          0.01388889,
          0.02825231,
          0.02173913,
          0.01914679,
          0.0315069,
          0.0186707,
          0.02631579,
          0.03444118,
          0.01202049,
          0.01630435,
          0.01315789,
          0.01190476,
          0.01351351,
          0.01282051,
          0.01282051,
          0.0125,
          0.01219512,
          0.01282051,
          0.01452003,
          0.0031113,
          0,
          0,
          0,
          0.01,
          0,
          0.00346817,
          0,
          0,
          0,
          0,
          0,
          0,
          0,
          0,
          0.00308785,
          0,
          0,
          0,
          0.0101403,
          0.01136364,
          0.01470588,
          0,
          0.02272727,
          0.01,
          0.02380952,
          0.025,
          0.025,
          0.01315789,
          0.02272727,
          0.02014066,
          0.02704678,
          0.02440476,
          0.02212813,
          0.0267094,
          0.02383239,
          0.02041225,
          0.02535302,
          0.03766026,
          0.01488095,
          0,
          0,
          0.00231637,
          0.01785714,
          0.0147421,
          0.02475857,
          0.015625,
          0.0125,
          0,
          0.00220695,
          0.01040202,
          0.00991368,
          0.003012,
          0.00675676,
          0.01216713,
          0.00320963,
          0.00624062,
          0.00927704,
          0.01283622,
          0.00206799,
          0,
          0,
          0,
          0.00917943,
          0.00583313,
          0,
          0.00786603,
          0.0104102,
          0,
          0.00332278,
          0.03791161,
          0.03624726,
          0.03266056,
          0.03330375,
          0.03606063,
          0.01315789,
          0.03432703,
          0.03415104,
          0.04407051,
          0.02380952,
          0.00450164,
          0,
          0,
          0,
          0,
          0,
          0,
          0.00281752,
          0.00525559,
          0.00598231,
          0.01470588,
          0.01388889,
          0.0125,
          0.01086957,
          0.01388889,
          0.01315789,
          0.01,
          0.01315789,
          0.01,
          0.01195664,
          0.01470588,
          0.01388889,
          0.01565795,
          0.01086957,
          0.02388889,
          0.01796678,
          0.0169543,
          0.01315789,
          0.03125,
          0.01419837,
          0,
          0.00393196,
          0.01197927,
          0.01085873,
          0.00394554,
          0.00384043,
          0.01010315,
          0.00971362,
          0.01,
          0.00952866,
          0,
          0,
          0,
          0,
          0,
          0,
          0,
          0,
          0,
          0,
          0.02097902,
          0.02557545,
          0.00311532,
          0,
          0.01,
          0.02380952,
          0.015625,
          0.025,
          0.02315789,
          0.00440242,
          0.01136364,
          0.01470588,
          0.03571429,
          0.02272727,
          0.01,
          0.01190476,
          0.025,
          0.0125,
          0.01315789,
          0.02272727,
          0.03646063,
          0.05334358,
          0.07974588,
          0.0954505,
          0.03246471,
          0.03828411,
          0.09302185,
          0.06081483,
          0.03947368,
          0.07876412,
          0.00543478,
          0,
          0,
          0,
          0,
          0,
          0,
          0,
          0,
          0.00310701,
          0.05944056,
          0.07194798,
          0.08317691,
          0.08096275,
          0.07699398,
          0.06472403,
          0.07676059,
          0.0645898,
          0.06604845,
          0.08123963,
          0.00737995,
          0.00920498,
          0.01184787,
          0.02725203,
          0.01641026,
          0.01869437,
          0.02424311,
          0.00853876,
          0.00641026,
          0.0170649,
          0,
          0,
          0,
          0,
          0,
          0,
          0,
          0,
          0,
          0,
          0.17616811,
          0.17300609,
          0.14617423,
          0.16619704,
          0.16826446,
          0.15001089,
          0.15035245,
          0.1540939,
          0.12294168,
          0.12620802,
          0.0365257,
          0.01470588,
          0.00916529,
          0.02911029,
          0.03533084,
          0.02601445,
          0.0023791,
          0.0125,
          0.0322009,
          0.02544442,
          0.00543478,
          0,
          0.03459271,
          0.01547154,
          0,
          0.00648609,
          0.01573626,
          0.00609756,
          0,
          0,
          0.02097902,
          0.01797113,
          0.00641026,
          0,
          0.01474112,
          0.01561454,
          0,
          0.00837841,
          0.01,
          0.00609756,
          0.01805016,
          0.01434609,
          0.01690083,
          0.00601851,
          0.01612653,
          0.015667,
          0.00558929,
          0.00538224,
          0.00345001,
          0.01232335,
          0.00543478,
          0,
          0.00642727,
          0,
          0,
          0,
          0,
          0,
          0,
          0.00267158,
          0,
          0,
          0,
          0,
          0,
          0.00273681,
          0.003317,
          0,
          0,
          0,
          0.0302236,
          0.02252525,
          0.02359677,
          0.01401716,
          0.02603233,
          0.03429807,
          0.01590844,
          0.03133026,
          0.00346969,
          0.02105932,
          0,
          0,
          0,
          0,
          0,
          0.00225997,
          0.00249109,
          0.00499191,
          0,
          0.00230479
         ],
         "x0": " ",
         "xaxis": "x",
         "y": [
          "wSMI_1_mean",
          "wSMI_1_mean",
          "wSMI_1_mean",
          "wSMI_1_mean",
          "wSMI_1_mean",
          "wSMI_1_mean",
          "wSMI_1_mean",
          "wSMI_1_mean",
          "wSMI_1_mean",
          "wSMI_1_mean",
          "wSMI_1_std",
          "wSMI_1_std",
          "wSMI_1_std",
          "wSMI_1_std",
          "wSMI_1_std",
          "wSMI_1_std",
          "wSMI_1_std",
          "wSMI_1_std",
          "wSMI_1_std",
          "wSMI_1_std",
          "wSMI_2_mean",
          "wSMI_2_mean",
          "wSMI_2_mean",
          "wSMI_2_mean",
          "wSMI_2_mean",
          "wSMI_2_mean",
          "wSMI_2_mean",
          "wSMI_2_mean",
          "wSMI_2_mean",
          "wSMI_2_mean",
          "wSMI_2_std",
          "wSMI_2_std",
          "wSMI_2_std",
          "wSMI_2_std",
          "wSMI_2_std",
          "wSMI_2_std",
          "wSMI_2_std",
          "wSMI_2_std",
          "wSMI_2_std",
          "wSMI_2_std",
          "wSMI_4_mean",
          "wSMI_4_mean",
          "wSMI_4_mean",
          "wSMI_4_mean",
          "wSMI_4_mean",
          "wSMI_4_mean",
          "wSMI_4_mean",
          "wSMI_4_mean",
          "wSMI_4_mean",
          "wSMI_4_mean",
          "wSMI_4_std",
          "wSMI_4_std",
          "wSMI_4_std",
          "wSMI_4_std",
          "wSMI_4_std",
          "wSMI_4_std",
          "wSMI_4_std",
          "wSMI_4_std",
          "wSMI_4_std",
          "wSMI_4_std",
          "wSMI_8_mean",
          "wSMI_8_mean",
          "wSMI_8_mean",
          "wSMI_8_mean",
          "wSMI_8_mean",
          "wSMI_8_mean",
          "wSMI_8_mean",
          "wSMI_8_mean",
          "wSMI_8_mean",
          "wSMI_8_mean",
          "wSMI_8_std",
          "wSMI_8_std",
          "wSMI_8_std",
          "wSMI_8_std",
          "wSMI_8_std",
          "wSMI_8_std",
          "wSMI_8_std",
          "wSMI_8_std",
          "wSMI_8_std",
          "wSMI_8_std",
          "p_e_1_mean",
          "p_e_1_mean",
          "p_e_1_mean",
          "p_e_1_mean",
          "p_e_1_mean",
          "p_e_1_mean",
          "p_e_1_mean",
          "p_e_1_mean",
          "p_e_1_mean",
          "p_e_1_mean",
          "p_e_1_std",
          "p_e_1_std",
          "p_e_1_std",
          "p_e_1_std",
          "p_e_1_std",
          "p_e_1_std",
          "p_e_1_std",
          "p_e_1_std",
          "p_e_1_std",
          "p_e_1_std",
          "p_e_2_mean",
          "p_e_2_mean",
          "p_e_2_mean",
          "p_e_2_mean",
          "p_e_2_mean",
          "p_e_2_mean",
          "p_e_2_mean",
          "p_e_2_mean",
          "p_e_2_mean",
          "p_e_2_mean",
          "p_e_2_std",
          "p_e_2_std",
          "p_e_2_std",
          "p_e_2_std",
          "p_e_2_std",
          "p_e_2_std",
          "p_e_2_std",
          "p_e_2_std",
          "p_e_2_std",
          "p_e_2_std",
          "p_e_4_mean",
          "p_e_4_mean",
          "p_e_4_mean",
          "p_e_4_mean",
          "p_e_4_mean",
          "p_e_4_mean",
          "p_e_4_mean",
          "p_e_4_mean",
          "p_e_4_mean",
          "p_e_4_mean",
          "p_e_4_std",
          "p_e_4_std",
          "p_e_4_std",
          "p_e_4_std",
          "p_e_4_std",
          "p_e_4_std",
          "p_e_4_std",
          "p_e_4_std",
          "p_e_4_std",
          "p_e_4_std",
          "p_e_8_mean",
          "p_e_8_mean",
          "p_e_8_mean",
          "p_e_8_mean",
          "p_e_8_mean",
          "p_e_8_mean",
          "p_e_8_mean",
          "p_e_8_mean",
          "p_e_8_mean",
          "p_e_8_mean",
          "p_e_8_std",
          "p_e_8_std",
          "p_e_8_std",
          "p_e_8_std",
          "p_e_8_std",
          "p_e_8_std",
          "p_e_8_std",
          "p_e_8_std",
          "p_e_8_std",
          "p_e_8_std",
          "k_mean",
          "k_mean",
          "k_mean",
          "k_mean",
          "k_mean",
          "k_mean",
          "k_mean",
          "k_mean",
          "k_mean",
          "k_mean",
          "k_std",
          "k_std",
          "k_std",
          "k_std",
          "k_std",
          "k_std",
          "k_std",
          "k_std",
          "k_std",
          "k_std",
          "se_mean",
          "se_mean",
          "se_mean",
          "se_mean",
          "se_mean",
          "se_mean",
          "se_mean",
          "se_mean",
          "se_mean",
          "se_mean",
          "se_std",
          "se_std",
          "se_std",
          "se_std",
          "se_std",
          "se_std",
          "se_std",
          "se_std",
          "se_std",
          "se_std",
          "msf_mean",
          "msf_mean",
          "msf_mean",
          "msf_mean",
          "msf_mean",
          "msf_mean",
          "msf_mean",
          "msf_mean",
          "msf_mean",
          "msf_mean",
          "msf_std",
          "msf_std",
          "msf_std",
          "msf_std",
          "msf_std",
          "msf_std",
          "msf_std",
          "msf_std",
          "msf_std",
          "msf_std",
          "sef90_mean",
          "sef90_mean",
          "sef90_mean",
          "sef90_mean",
          "sef90_mean",
          "sef90_mean",
          "sef90_mean",
          "sef90_mean",
          "sef90_mean",
          "sef90_mean",
          "sef90_std",
          "sef90_std",
          "sef90_std",
          "sef90_std",
          "sef90_std",
          "sef90_std",
          "sef90_std",
          "sef90_std",
          "sef90_std",
          "sef90_std",
          "sef95_mean",
          "sef95_mean",
          "sef95_mean",
          "sef95_mean",
          "sef95_mean",
          "sef95_mean",
          "sef95_mean",
          "sef95_mean",
          "sef95_mean",
          "sef95_mean",
          "sef95_std",
          "sef95_std",
          "sef95_std",
          "sef95_std",
          "sef95_std",
          "sef95_std",
          "sef95_std",
          "sef95_std",
          "sef95_std",
          "sef95_std",
          "b_mean",
          "b_mean",
          "b_mean",
          "b_mean",
          "b_mean",
          "b_mean",
          "b_mean",
          "b_mean",
          "b_mean",
          "b_mean",
          "b_std",
          "b_std",
          "b_std",
          "b_std",
          "b_std",
          "b_std",
          "b_std",
          "b_std",
          "b_std",
          "b_std",
          "b_n_mean",
          "b_n_mean",
          "b_n_mean",
          "b_n_mean",
          "b_n_mean",
          "b_n_mean",
          "b_n_mean",
          "b_n_mean",
          "b_n_mean",
          "b_n_mean",
          "b_n_std",
          "b_n_std",
          "b_n_std",
          "b_n_std",
          "b_n_std",
          "b_n_std",
          "b_n_std",
          "b_n_std",
          "b_n_std",
          "b_n_std",
          "g_mean",
          "g_mean",
          "g_mean",
          "g_mean",
          "g_mean",
          "g_mean",
          "g_mean",
          "g_mean",
          "g_mean",
          "g_mean",
          "g_std",
          "g_std",
          "g_std",
          "g_std",
          "g_std",
          "g_std",
          "g_std",
          "g_std",
          "g_std",
          "g_std",
          "g_n_mean",
          "g_n_mean",
          "g_n_mean",
          "g_n_mean",
          "g_n_mean",
          "g_n_mean",
          "g_n_mean",
          "g_n_mean",
          "g_n_mean",
          "g_n_mean",
          "g_n_std",
          "g_n_std",
          "g_n_std",
          "g_n_std",
          "g_n_std",
          "g_n_std",
          "g_n_std",
          "g_n_std",
          "g_n_std",
          "g_n_std",
          "t_mean",
          "t_mean",
          "t_mean",
          "t_mean",
          "t_mean",
          "t_mean",
          "t_mean",
          "t_mean",
          "t_mean",
          "t_mean",
          "t_std",
          "t_std",
          "t_std",
          "t_std",
          "t_std",
          "t_std",
          "t_std",
          "t_std",
          "t_std",
          "t_std",
          "t_n_mean",
          "t_n_mean",
          "t_n_mean",
          "t_n_mean",
          "t_n_mean",
          "t_n_mean",
          "t_n_mean",
          "t_n_mean",
          "t_n_mean",
          "t_n_mean",
          "t_n_std",
          "t_n_std",
          "t_n_std",
          "t_n_std",
          "t_n_std",
          "t_n_std",
          "t_n_std",
          "t_n_std",
          "t_n_std",
          "t_n_std",
          "d_mean",
          "d_mean",
          "d_mean",
          "d_mean",
          "d_mean",
          "d_mean",
          "d_mean",
          "d_mean",
          "d_mean",
          "d_mean",
          "d_std",
          "d_std",
          "d_std",
          "d_std",
          "d_std",
          "d_std",
          "d_std",
          "d_std",
          "d_std",
          "d_std",
          "d_n_mean",
          "d_n_mean",
          "d_n_mean",
          "d_n_mean",
          "d_n_mean",
          "d_n_mean",
          "d_n_mean",
          "d_n_mean",
          "d_n_mean",
          "d_n_mean",
          "d_n_std",
          "d_n_std",
          "d_n_std",
          "d_n_std",
          "d_n_std",
          "d_n_std",
          "d_n_std",
          "d_n_std",
          "d_n_std",
          "d_n_std",
          "a_n_mean",
          "a_n_mean",
          "a_n_mean",
          "a_n_mean",
          "a_n_mean",
          "a_n_mean",
          "a_n_mean",
          "a_n_mean",
          "a_n_mean",
          "a_n_mean",
          "a_n_std",
          "a_n_std",
          "a_n_std",
          "a_n_std",
          "a_n_std",
          "a_n_std",
          "a_n_std",
          "a_n_std",
          "a_n_std",
          "a_n_std",
          "a_mean",
          "a_mean",
          "a_mean",
          "a_mean",
          "a_mean",
          "a_mean",
          "a_mean",
          "a_mean",
          "a_mean",
          "a_mean",
          "a_std",
          "a_std",
          "a_std",
          "a_std",
          "a_std",
          "a_std",
          "a_std",
          "a_std",
          "a_std",
          "a_std",
          "CNV_mean",
          "CNV_mean",
          "CNV_mean",
          "CNV_mean",
          "CNV_mean",
          "CNV_mean",
          "CNV_mean",
          "CNV_mean",
          "CNV_mean",
          "CNV_mean",
          "CNV_std",
          "CNV_std",
          "CNV_std",
          "CNV_std",
          "CNV_std",
          "CNV_std",
          "CNV_std",
          "CNV_std",
          "CNV_std",
          "CNV_std",
          "P1_mean",
          "P1_mean",
          "P1_mean",
          "P1_mean",
          "P1_mean",
          "P1_mean",
          "P1_mean",
          "P1_mean",
          "P1_mean",
          "P1_mean",
          "P1_std",
          "P1_std",
          "P1_std",
          "P1_std",
          "P1_std",
          "P1_std",
          "P1_std",
          "P1_std",
          "P1_std",
          "P1_std",
          "P3a_mean",
          "P3a_mean",
          "P3a_mean",
          "P3a_mean",
          "P3a_mean",
          "P3a_mean",
          "P3a_mean",
          "P3a_mean",
          "P3a_mean",
          "P3a_mean",
          "P3a_std",
          "P3a_std",
          "P3a_std",
          "P3a_std",
          "P3a_std",
          "P3a_std",
          "P3a_std",
          "P3a_std",
          "P3a_std",
          "P3a_std",
          "P3b_mean",
          "P3b_mean",
          "P3b_mean",
          "P3b_mean",
          "P3b_mean",
          "P3b_mean",
          "P3b_mean",
          "P3b_mean",
          "P3b_mean",
          "P3b_mean",
          "P3b_std",
          "P3b_std",
          "P3b_std",
          "P3b_std",
          "P3b_std",
          "P3b_std",
          "P3b_std",
          "P3b_std",
          "P3b_std",
          "P3b_std"
         ],
         "y0": " ",
         "yaxis": "y"
        }
       ],
       "layout": {
        "boxmode": "group",
        "font": {
         "color": "black",
         "family": "Times new roman",
         "size": 20
        },
        "height": 1100,
        "legend": {
         "tracegroupgap": 0
        },
        "margin": {
         "b": 50,
         "l": 50,
         "r": 50,
         "t": 150
        },
        "showlegend": true,
        "template": {
         "data": {
          "bar": [
           {
            "error_x": {
             "color": "#2a3f5f"
            },
            "error_y": {
             "color": "#2a3f5f"
            },
            "marker": {
             "line": {
              "color": "white",
              "width": 0.5
             },
             "pattern": {
              "fillmode": "overlay",
              "size": 10,
              "solidity": 0.2
             }
            },
            "type": "bar"
           }
          ],
          "barpolar": [
           {
            "marker": {
             "line": {
              "color": "white",
              "width": 0.5
             },
             "pattern": {
              "fillmode": "overlay",
              "size": 10,
              "solidity": 0.2
             }
            },
            "type": "barpolar"
           }
          ],
          "carpet": [
           {
            "aaxis": {
             "endlinecolor": "#2a3f5f",
             "gridcolor": "#C8D4E3",
             "linecolor": "#C8D4E3",
             "minorgridcolor": "#C8D4E3",
             "startlinecolor": "#2a3f5f"
            },
            "baxis": {
             "endlinecolor": "#2a3f5f",
             "gridcolor": "#C8D4E3",
             "linecolor": "#C8D4E3",
             "minorgridcolor": "#C8D4E3",
             "startlinecolor": "#2a3f5f"
            },
            "type": "carpet"
           }
          ],
          "choropleth": [
           {
            "colorbar": {
             "outlinewidth": 0,
             "ticks": ""
            },
            "type": "choropleth"
           }
          ],
          "contour": [
           {
            "colorbar": {
             "outlinewidth": 0,
             "ticks": ""
            },
            "colorscale": [
             [
              0,
              "#0d0887"
             ],
             [
              0.1111111111111111,
              "#46039f"
             ],
             [
              0.2222222222222222,
              "#7201a8"
             ],
             [
              0.3333333333333333,
              "#9c179e"
             ],
             [
              0.4444444444444444,
              "#bd3786"
             ],
             [
              0.5555555555555556,
              "#d8576b"
             ],
             [
              0.6666666666666666,
              "#ed7953"
             ],
             [
              0.7777777777777778,
              "#fb9f3a"
             ],
             [
              0.8888888888888888,
              "#fdca26"
             ],
             [
              1,
              "#f0f921"
             ]
            ],
            "type": "contour"
           }
          ],
          "contourcarpet": [
           {
            "colorbar": {
             "outlinewidth": 0,
             "ticks": ""
            },
            "type": "contourcarpet"
           }
          ],
          "heatmap": [
           {
            "colorbar": {
             "outlinewidth": 0,
             "ticks": ""
            },
            "colorscale": [
             [
              0,
              "#0d0887"
             ],
             [
              0.1111111111111111,
              "#46039f"
             ],
             [
              0.2222222222222222,
              "#7201a8"
             ],
             [
              0.3333333333333333,
              "#9c179e"
             ],
             [
              0.4444444444444444,
              "#bd3786"
             ],
             [
              0.5555555555555556,
              "#d8576b"
             ],
             [
              0.6666666666666666,
              "#ed7953"
             ],
             [
              0.7777777777777778,
              "#fb9f3a"
             ],
             [
              0.8888888888888888,
              "#fdca26"
             ],
             [
              1,
              "#f0f921"
             ]
            ],
            "type": "heatmap"
           }
          ],
          "heatmapgl": [
           {
            "colorbar": {
             "outlinewidth": 0,
             "ticks": ""
            },
            "colorscale": [
             [
              0,
              "#0d0887"
             ],
             [
              0.1111111111111111,
              "#46039f"
             ],
             [
              0.2222222222222222,
              "#7201a8"
             ],
             [
              0.3333333333333333,
              "#9c179e"
             ],
             [
              0.4444444444444444,
              "#bd3786"
             ],
             [
              0.5555555555555556,
              "#d8576b"
             ],
             [
              0.6666666666666666,
              "#ed7953"
             ],
             [
              0.7777777777777778,
              "#fb9f3a"
             ],
             [
              0.8888888888888888,
              "#fdca26"
             ],
             [
              1,
              "#f0f921"
             ]
            ],
            "type": "heatmapgl"
           }
          ],
          "histogram": [
           {
            "marker": {
             "pattern": {
              "fillmode": "overlay",
              "size": 10,
              "solidity": 0.2
             }
            },
            "type": "histogram"
           }
          ],
          "histogram2d": [
           {
            "colorbar": {
             "outlinewidth": 0,
             "ticks": ""
            },
            "colorscale": [
             [
              0,
              "#0d0887"
             ],
             [
              0.1111111111111111,
              "#46039f"
             ],
             [
              0.2222222222222222,
              "#7201a8"
             ],
             [
              0.3333333333333333,
              "#9c179e"
             ],
             [
              0.4444444444444444,
              "#bd3786"
             ],
             [
              0.5555555555555556,
              "#d8576b"
             ],
             [
              0.6666666666666666,
              "#ed7953"
             ],
             [
              0.7777777777777778,
              "#fb9f3a"
             ],
             [
              0.8888888888888888,
              "#fdca26"
             ],
             [
              1,
              "#f0f921"
             ]
            ],
            "type": "histogram2d"
           }
          ],
          "histogram2dcontour": [
           {
            "colorbar": {
             "outlinewidth": 0,
             "ticks": ""
            },
            "colorscale": [
             [
              0,
              "#0d0887"
             ],
             [
              0.1111111111111111,
              "#46039f"
             ],
             [
              0.2222222222222222,
              "#7201a8"
             ],
             [
              0.3333333333333333,
              "#9c179e"
             ],
             [
              0.4444444444444444,
              "#bd3786"
             ],
             [
              0.5555555555555556,
              "#d8576b"
             ],
             [
              0.6666666666666666,
              "#ed7953"
             ],
             [
              0.7777777777777778,
              "#fb9f3a"
             ],
             [
              0.8888888888888888,
              "#fdca26"
             ],
             [
              1,
              "#f0f921"
             ]
            ],
            "type": "histogram2dcontour"
           }
          ],
          "mesh3d": [
           {
            "colorbar": {
             "outlinewidth": 0,
             "ticks": ""
            },
            "type": "mesh3d"
           }
          ],
          "parcoords": [
           {
            "line": {
             "colorbar": {
              "outlinewidth": 0,
              "ticks": ""
             }
            },
            "type": "parcoords"
           }
          ],
          "pie": [
           {
            "automargin": true,
            "type": "pie"
           }
          ],
          "scatter": [
           {
            "fillpattern": {
             "fillmode": "overlay",
             "size": 10,
             "solidity": 0.2
            },
            "type": "scatter"
           }
          ],
          "scatter3d": [
           {
            "line": {
             "colorbar": {
              "outlinewidth": 0,
              "ticks": ""
             }
            },
            "marker": {
             "colorbar": {
              "outlinewidth": 0,
              "ticks": ""
             }
            },
            "type": "scatter3d"
           }
          ],
          "scattercarpet": [
           {
            "marker": {
             "colorbar": {
              "outlinewidth": 0,
              "ticks": ""
             }
            },
            "type": "scattercarpet"
           }
          ],
          "scattergeo": [
           {
            "marker": {
             "colorbar": {
              "outlinewidth": 0,
              "ticks": ""
             }
            },
            "type": "scattergeo"
           }
          ],
          "scattergl": [
           {
            "marker": {
             "colorbar": {
              "outlinewidth": 0,
              "ticks": ""
             }
            },
            "type": "scattergl"
           }
          ],
          "scattermapbox": [
           {
            "marker": {
             "colorbar": {
              "outlinewidth": 0,
              "ticks": ""
             }
            },
            "type": "scattermapbox"
           }
          ],
          "scatterpolar": [
           {
            "marker": {
             "colorbar": {
              "outlinewidth": 0,
              "ticks": ""
             }
            },
            "type": "scatterpolar"
           }
          ],
          "scatterpolargl": [
           {
            "marker": {
             "colorbar": {
              "outlinewidth": 0,
              "ticks": ""
             }
            },
            "type": "scatterpolargl"
           }
          ],
          "scatterternary": [
           {
            "marker": {
             "colorbar": {
              "outlinewidth": 0,
              "ticks": ""
             }
            },
            "type": "scatterternary"
           }
          ],
          "surface": [
           {
            "colorbar": {
             "outlinewidth": 0,
             "ticks": ""
            },
            "colorscale": [
             [
              0,
              "#0d0887"
             ],
             [
              0.1111111111111111,
              "#46039f"
             ],
             [
              0.2222222222222222,
              "#7201a8"
             ],
             [
              0.3333333333333333,
              "#9c179e"
             ],
             [
              0.4444444444444444,
              "#bd3786"
             ],
             [
              0.5555555555555556,
              "#d8576b"
             ],
             [
              0.6666666666666666,
              "#ed7953"
             ],
             [
              0.7777777777777778,
              "#fb9f3a"
             ],
             [
              0.8888888888888888,
              "#fdca26"
             ],
             [
              1,
              "#f0f921"
             ]
            ],
            "type": "surface"
           }
          ],
          "table": [
           {
            "cells": {
             "fill": {
              "color": "#EBF0F8"
             },
             "line": {
              "color": "white"
             }
            },
            "header": {
             "fill": {
              "color": "#C8D4E3"
             },
             "line": {
              "color": "white"
             }
            },
            "type": "table"
           }
          ]
         },
         "layout": {
          "annotationdefaults": {
           "arrowcolor": "#2a3f5f",
           "arrowhead": 0,
           "arrowwidth": 1
          },
          "autotypenumbers": "strict",
          "coloraxis": {
           "colorbar": {
            "outlinewidth": 0,
            "ticks": ""
           }
          },
          "colorscale": {
           "diverging": [
            [
             0,
             "#8e0152"
            ],
            [
             0.1,
             "#c51b7d"
            ],
            [
             0.2,
             "#de77ae"
            ],
            [
             0.3,
             "#f1b6da"
            ],
            [
             0.4,
             "#fde0ef"
            ],
            [
             0.5,
             "#f7f7f7"
            ],
            [
             0.6,
             "#e6f5d0"
            ],
            [
             0.7,
             "#b8e186"
            ],
            [
             0.8,
             "#7fbc41"
            ],
            [
             0.9,
             "#4d9221"
            ],
            [
             1,
             "#276419"
            ]
           ],
           "sequential": [
            [
             0,
             "#0d0887"
            ],
            [
             0.1111111111111111,
             "#46039f"
            ],
            [
             0.2222222222222222,
             "#7201a8"
            ],
            [
             0.3333333333333333,
             "#9c179e"
            ],
            [
             0.4444444444444444,
             "#bd3786"
            ],
            [
             0.5555555555555556,
             "#d8576b"
            ],
            [
             0.6666666666666666,
             "#ed7953"
            ],
            [
             0.7777777777777778,
             "#fb9f3a"
            ],
            [
             0.8888888888888888,
             "#fdca26"
            ],
            [
             1,
             "#f0f921"
            ]
           ],
           "sequentialminus": [
            [
             0,
             "#0d0887"
            ],
            [
             0.1111111111111111,
             "#46039f"
            ],
            [
             0.2222222222222222,
             "#7201a8"
            ],
            [
             0.3333333333333333,
             "#9c179e"
            ],
            [
             0.4444444444444444,
             "#bd3786"
            ],
            [
             0.5555555555555556,
             "#d8576b"
            ],
            [
             0.6666666666666666,
             "#ed7953"
            ],
            [
             0.7777777777777778,
             "#fb9f3a"
            ],
            [
             0.8888888888888888,
             "#fdca26"
            ],
            [
             1,
             "#f0f921"
            ]
           ]
          },
          "colorway": [
           "#636efa",
           "#EF553B",
           "#00cc96",
           "#ab63fa",
           "#FFA15A",
           "#19d3f3",
           "#FF6692",
           "#B6E880",
           "#FF97FF",
           "#FECB52"
          ],
          "font": {
           "color": "#2a3f5f"
          },
          "geo": {
           "bgcolor": "white",
           "lakecolor": "white",
           "landcolor": "white",
           "showlakes": true,
           "showland": true,
           "subunitcolor": "#C8D4E3"
          },
          "hoverlabel": {
           "align": "left"
          },
          "hovermode": "closest",
          "mapbox": {
           "style": "light"
          },
          "paper_bgcolor": "white",
          "plot_bgcolor": "white",
          "polar": {
           "angularaxis": {
            "gridcolor": "#EBF0F8",
            "linecolor": "#EBF0F8",
            "ticks": ""
           },
           "bgcolor": "white",
           "radialaxis": {
            "gridcolor": "#EBF0F8",
            "linecolor": "#EBF0F8",
            "ticks": ""
           }
          },
          "scene": {
           "xaxis": {
            "backgroundcolor": "white",
            "gridcolor": "#DFE8F3",
            "gridwidth": 2,
            "linecolor": "#EBF0F8",
            "showbackground": true,
            "ticks": "",
            "zerolinecolor": "#EBF0F8"
           },
           "yaxis": {
            "backgroundcolor": "white",
            "gridcolor": "#DFE8F3",
            "gridwidth": 2,
            "linecolor": "#EBF0F8",
            "showbackground": true,
            "ticks": "",
            "zerolinecolor": "#EBF0F8"
           },
           "zaxis": {
            "backgroundcolor": "white",
            "gridcolor": "#DFE8F3",
            "gridwidth": 2,
            "linecolor": "#EBF0F8",
            "showbackground": true,
            "ticks": "",
            "zerolinecolor": "#EBF0F8"
           }
          },
          "shapedefaults": {
           "line": {
            "color": "#2a3f5f"
           }
          },
          "ternary": {
           "aaxis": {
            "gridcolor": "#DFE8F3",
            "linecolor": "#A2B1C6",
            "ticks": ""
           },
           "baxis": {
            "gridcolor": "#DFE8F3",
            "linecolor": "#A2B1C6",
            "ticks": ""
           },
           "bgcolor": "white",
           "caxis": {
            "gridcolor": "#DFE8F3",
            "linecolor": "#A2B1C6",
            "ticks": ""
           }
          },
          "title": {
           "x": 0.05
          },
          "xaxis": {
           "automargin": true,
           "gridcolor": "#EBF0F8",
           "linecolor": "#EBF0F8",
           "ticks": "",
           "title": {
            "standoff": 15
           },
           "zerolinecolor": "#EBF0F8",
           "zerolinewidth": 2
          },
          "yaxis": {
           "automargin": true,
           "gridcolor": "#EBF0F8",
           "linecolor": "#EBF0F8",
           "ticks": "",
           "title": {
            "standoff": 15
           },
           "zerolinecolor": "#EBF0F8",
           "zerolinewidth": 2
          }
         }
        },
        "title": {
         "text": "FI of Top 10 Models dMW_vs_sMW <br >\nAverage AUC 0.66 <br>\nBest AUC 0.682\n                 "
        },
        "width": 650,
        "xaxis": {
         "anchor": "y",
         "domain": [
          0,
          1
         ],
         "range": [
          0,
          0.25
         ],
         "tickfont": {
          "size": 20
         },
         "title": {
          "text": "Feature Importance"
         },
         "visible": true
        },
        "yaxis": {
         "anchor": "x",
         "automargin": true,
         "categoryorder": "total ascending",
         "domain": [
          0,
          1
         ],
         "dtick": 1,
         "range": [
          -1,
          54
         ],
         "tickfont": {
          "size": 20
         },
         "title": {
          "text": "Feature"
         }
        }
       }
      },
      "text/html": [
       "<div>                            <div id=\"f59d5a48-33ec-4d95-b6db-b582b79e6411\" class=\"plotly-graph-div\" style=\"height:1100px; width:650px;\"></div>            <script type=\"text/javascript\">                require([\"plotly\"], function(Plotly) {                    window.PLOTLYENV=window.PLOTLYENV || {};                                    if (document.getElementById(\"f59d5a48-33ec-4d95-b6db-b582b79e6411\")) {                    Plotly.newPlot(                        \"f59d5a48-33ec-4d95-b6db-b582b79e6411\",                        [{\"alignmentgroup\":\"True\",\"hovertemplate\":\"Importance=%{x}\\u003cbr\\u003eFeature=%{y}\\u003cextra\\u003e\\u003c\\u002fextra\\u003e\",\"legendgroup\":\"\",\"marker\":{\"color\":\"#42B9B2\",\"size\":8},\"name\":\"\",\"notched\":false,\"offsetgroup\":\"\",\"orientation\":\"h\",\"showlegend\":false,\"x\":[0.0,0.0,0.00595238,0.00675676,0.0,0.00641026,0.00625,0.0,0.0,0.00595238,0.01004306,0.00657895,0.01236264,0.00675676,0.01057252,0.00641026,0.00625,0.00609756,0.01174534,0.00595238,0.01136364,0.01470588,0.0,0.0,0.01,0.01190476,0.0,0.0125,0.01315789,0.0,0.01934103,0.01777918,0.00278303,0.02586302,0.01300038,0.01811303,0.0279006,0.01535171,0.02244989,0.02544877,0.01876491,0.0263733,0.01850052,0.0,0.02867045,0.02786936,0.00625,0.0125,0.026151,0.0087725,0.0,0.0,0.0,0.0,0.0,0.0,0.01,0.0,0.0,0.0,0.0,0.0,0.0,0.01086957,0.0,0.0,0.01,0.0,0.0,0.00892857,0.0,0.0,0.0,0.0,0.0,0.0,0.0,0.0,0.0,0.0,0.0,0.00368467,0.00334454,0.00378285,0.00358315,0.00359098,0.00349838,0.00609756,0.0035197,0.00335094,0.09103323,0.08399928,0.06054993,0.03939409,0.07418803,0.0632416,0.0575,0.07029973,0.05956815,0.0670935,0.00543478,0.00657895,0.00595238,0.00675676,0.00641026,0.00641026,0.00625,0.00609756,0.00641026,0.00595238,0.08724648,0.09126957,0.08099817,0.08183649,0.08032492,0.0722942,0.07375,0.12666881,0.07830358,0.06917828,0.01061382,0.0,0.0,0.01086957,0.00641026,0.0,0.01,0.0,0.00641026,0.01805013,0.0,0.0,0.0,0.00315862,0.00232266,0.0,0.0,0.0,0.0,0.00315189,0.05996617,0.03093152,0.05263176,0.04230882,0.05331212,0.05325334,0.03875,0.02921345,0.10781711,0.06411105,0.00961538,0.01086957,0.0,0.00675676,0.0,0.0,0.01,0.0,0.01,0.01731345,0.02270615,0.03827958,0.03463076,0.03928026,0.03290075,0.03741373,0.036257,0.03557546,0.02916955,0.0309248,0.0,0.0,0.02851777,0.00561022,0.0,0.00667181,0.00549089,0.01315789,0.01,0.02106287,0.00510675,0.00847531,0.00580144,0.00619386,0.01258011,0.00775907,0.0,0.00223713,0.01187523,0.00342263,0.02466555,0.02831808,0.01236264,0.01785714,0.02357538,0.0233927,0.015625,0.02772704,0.01,0.01662425,0.04027891,0.05397048,0.02797951,0.02621113,0.03491263,0.03900643,0.0396367,0.02305469,0.04846154,0.03915535,0.01136364,0.00760432,0.04212454,0.02272727,0.00525888,0.02819498,0.025,0.01905704,0.01315789,0.02882483,0.00543478,0.00657895,0.00595238,0.0,0.00641026,0.00641026,0.0,0.00609756,0.0,0.00595238,0.0,0.01388889,0.02825231,0.02173913,0.01914679,0.0315069,0.0186707,0.02631579,0.03444118,0.01202049,0.01630435,0.01315789,0.01190476,0.01351351,0.01282051,0.01282051,0.0125,0.01219512,0.01282051,0.01452003,0.0031113,0.0,0.0,0.0,0.01,0.0,0.00346817,0.0,0.0,0.0,0.0,0.0,0.0,0.0,0.0,0.00308785,0.0,0.0,0.0,0.0101403,0.01136364,0.01470588,0.0,0.02272727,0.01,0.02380952,0.025,0.025,0.01315789,0.02272727,0.02014066,0.02704678,0.02440476,0.02212813,0.0267094,0.02383239,0.02041225,0.02535302,0.03766026,0.01488095,0.0,0.0,0.00231637,0.01785714,0.0147421,0.02475857,0.015625,0.0125,0.0,0.00220695,0.01040202,0.00991368,0.003012,0.00675676,0.01216713,0.00320963,0.00624062,0.00927704,0.01283622,0.00206799,0.0,0.0,0.0,0.00917943,0.00583313,0.0,0.00786603,0.0104102,0.0,0.00332278,0.03791161,0.03624726,0.03266056,0.03330375,0.03606063,0.01315789,0.03432703,0.03415104,0.04407051,0.02380952,0.00450164,0.0,0.0,0.0,0.0,0.0,0.0,0.00281752,0.00525559,0.00598231,0.01470588,0.01388889,0.0125,0.01086957,0.01388889,0.01315789,0.01,0.01315789,0.01,0.01195664,0.01470588,0.01388889,0.01565795,0.01086957,0.02388889,0.01796678,0.0169543,0.01315789,0.03125,0.01419837,0.0,0.00393196,0.01197927,0.01085873,0.00394554,0.00384043,0.01010315,0.00971362,0.01,0.00952866,0.0,0.0,0.0,0.0,0.0,0.0,0.0,0.0,0.0,0.0,0.02097902,0.02557545,0.00311532,0.0,0.01,0.02380952,0.015625,0.025,0.02315789,0.00440242,0.01136364,0.01470588,0.03571429,0.02272727,0.01,0.01190476,0.025,0.0125,0.01315789,0.02272727,0.03646063,0.05334358,0.07974588,0.0954505,0.03246471,0.03828411,0.09302185,0.06081483,0.03947368,0.07876412,0.00543478,0.0,0.0,0.0,0.0,0.0,0.0,0.0,0.0,0.00310701,0.05944056,0.07194798,0.08317691,0.08096275,0.07699398,0.06472403,0.07676059,0.0645898,0.06604845,0.08123963,0.00737995,0.00920498,0.01184787,0.02725203,0.01641026,0.01869437,0.02424311,0.00853876,0.00641026,0.0170649,0.0,0.0,0.0,0.0,0.0,0.0,0.0,0.0,0.0,0.0,0.17616811,0.17300609,0.14617423,0.16619704,0.16826446,0.15001089,0.15035245,0.1540939,0.12294168,0.12620802,0.0365257,0.01470588,0.00916529,0.02911029,0.03533084,0.02601445,0.0023791,0.0125,0.0322009,0.02544442,0.00543478,0.0,0.03459271,0.01547154,0.0,0.00648609,0.01573626,0.00609756,0.0,0.0,0.02097902,0.01797113,0.00641026,0.0,0.01474112,0.01561454,0.0,0.00837841,0.01,0.00609756,0.01805016,0.01434609,0.01690083,0.00601851,0.01612653,0.015667,0.00558929,0.00538224,0.00345001,0.01232335,0.00543478,0.0,0.00642727,0.0,0.0,0.0,0.0,0.0,0.0,0.00267158,0.0,0.0,0.0,0.0,0.0,0.00273681,0.003317,0.0,0.0,0.0,0.0302236,0.02252525,0.02359677,0.01401716,0.02603233,0.03429807,0.01590844,0.03133026,0.00346969,0.02105932,0.0,0.0,0.0,0.0,0.0,0.00225997,0.00249109,0.00499191,0.0,0.00230479],\"x0\":\" \",\"xaxis\":\"x\",\"y\":[\"wSMI_1_mean\",\"wSMI_1_mean\",\"wSMI_1_mean\",\"wSMI_1_mean\",\"wSMI_1_mean\",\"wSMI_1_mean\",\"wSMI_1_mean\",\"wSMI_1_mean\",\"wSMI_1_mean\",\"wSMI_1_mean\",\"wSMI_1_std\",\"wSMI_1_std\",\"wSMI_1_std\",\"wSMI_1_std\",\"wSMI_1_std\",\"wSMI_1_std\",\"wSMI_1_std\",\"wSMI_1_std\",\"wSMI_1_std\",\"wSMI_1_std\",\"wSMI_2_mean\",\"wSMI_2_mean\",\"wSMI_2_mean\",\"wSMI_2_mean\",\"wSMI_2_mean\",\"wSMI_2_mean\",\"wSMI_2_mean\",\"wSMI_2_mean\",\"wSMI_2_mean\",\"wSMI_2_mean\",\"wSMI_2_std\",\"wSMI_2_std\",\"wSMI_2_std\",\"wSMI_2_std\",\"wSMI_2_std\",\"wSMI_2_std\",\"wSMI_2_std\",\"wSMI_2_std\",\"wSMI_2_std\",\"wSMI_2_std\",\"wSMI_4_mean\",\"wSMI_4_mean\",\"wSMI_4_mean\",\"wSMI_4_mean\",\"wSMI_4_mean\",\"wSMI_4_mean\",\"wSMI_4_mean\",\"wSMI_4_mean\",\"wSMI_4_mean\",\"wSMI_4_mean\",\"wSMI_4_std\",\"wSMI_4_std\",\"wSMI_4_std\",\"wSMI_4_std\",\"wSMI_4_std\",\"wSMI_4_std\",\"wSMI_4_std\",\"wSMI_4_std\",\"wSMI_4_std\",\"wSMI_4_std\",\"wSMI_8_mean\",\"wSMI_8_mean\",\"wSMI_8_mean\",\"wSMI_8_mean\",\"wSMI_8_mean\",\"wSMI_8_mean\",\"wSMI_8_mean\",\"wSMI_8_mean\",\"wSMI_8_mean\",\"wSMI_8_mean\",\"wSMI_8_std\",\"wSMI_8_std\",\"wSMI_8_std\",\"wSMI_8_std\",\"wSMI_8_std\",\"wSMI_8_std\",\"wSMI_8_std\",\"wSMI_8_std\",\"wSMI_8_std\",\"wSMI_8_std\",\"p_e_1_mean\",\"p_e_1_mean\",\"p_e_1_mean\",\"p_e_1_mean\",\"p_e_1_mean\",\"p_e_1_mean\",\"p_e_1_mean\",\"p_e_1_mean\",\"p_e_1_mean\",\"p_e_1_mean\",\"p_e_1_std\",\"p_e_1_std\",\"p_e_1_std\",\"p_e_1_std\",\"p_e_1_std\",\"p_e_1_std\",\"p_e_1_std\",\"p_e_1_std\",\"p_e_1_std\",\"p_e_1_std\",\"p_e_2_mean\",\"p_e_2_mean\",\"p_e_2_mean\",\"p_e_2_mean\",\"p_e_2_mean\",\"p_e_2_mean\",\"p_e_2_mean\",\"p_e_2_mean\",\"p_e_2_mean\",\"p_e_2_mean\",\"p_e_2_std\",\"p_e_2_std\",\"p_e_2_std\",\"p_e_2_std\",\"p_e_2_std\",\"p_e_2_std\",\"p_e_2_std\",\"p_e_2_std\",\"p_e_2_std\",\"p_e_2_std\",\"p_e_4_mean\",\"p_e_4_mean\",\"p_e_4_mean\",\"p_e_4_mean\",\"p_e_4_mean\",\"p_e_4_mean\",\"p_e_4_mean\",\"p_e_4_mean\",\"p_e_4_mean\",\"p_e_4_mean\",\"p_e_4_std\",\"p_e_4_std\",\"p_e_4_std\",\"p_e_4_std\",\"p_e_4_std\",\"p_e_4_std\",\"p_e_4_std\",\"p_e_4_std\",\"p_e_4_std\",\"p_e_4_std\",\"p_e_8_mean\",\"p_e_8_mean\",\"p_e_8_mean\",\"p_e_8_mean\",\"p_e_8_mean\",\"p_e_8_mean\",\"p_e_8_mean\",\"p_e_8_mean\",\"p_e_8_mean\",\"p_e_8_mean\",\"p_e_8_std\",\"p_e_8_std\",\"p_e_8_std\",\"p_e_8_std\",\"p_e_8_std\",\"p_e_8_std\",\"p_e_8_std\",\"p_e_8_std\",\"p_e_8_std\",\"p_e_8_std\",\"k_mean\",\"k_mean\",\"k_mean\",\"k_mean\",\"k_mean\",\"k_mean\",\"k_mean\",\"k_mean\",\"k_mean\",\"k_mean\",\"k_std\",\"k_std\",\"k_std\",\"k_std\",\"k_std\",\"k_std\",\"k_std\",\"k_std\",\"k_std\",\"k_std\",\"se_mean\",\"se_mean\",\"se_mean\",\"se_mean\",\"se_mean\",\"se_mean\",\"se_mean\",\"se_mean\",\"se_mean\",\"se_mean\",\"se_std\",\"se_std\",\"se_std\",\"se_std\",\"se_std\",\"se_std\",\"se_std\",\"se_std\",\"se_std\",\"se_std\",\"msf_mean\",\"msf_mean\",\"msf_mean\",\"msf_mean\",\"msf_mean\",\"msf_mean\",\"msf_mean\",\"msf_mean\",\"msf_mean\",\"msf_mean\",\"msf_std\",\"msf_std\",\"msf_std\",\"msf_std\",\"msf_std\",\"msf_std\",\"msf_std\",\"msf_std\",\"msf_std\",\"msf_std\",\"sef90_mean\",\"sef90_mean\",\"sef90_mean\",\"sef90_mean\",\"sef90_mean\",\"sef90_mean\",\"sef90_mean\",\"sef90_mean\",\"sef90_mean\",\"sef90_mean\",\"sef90_std\",\"sef90_std\",\"sef90_std\",\"sef90_std\",\"sef90_std\",\"sef90_std\",\"sef90_std\",\"sef90_std\",\"sef90_std\",\"sef90_std\",\"sef95_mean\",\"sef95_mean\",\"sef95_mean\",\"sef95_mean\",\"sef95_mean\",\"sef95_mean\",\"sef95_mean\",\"sef95_mean\",\"sef95_mean\",\"sef95_mean\",\"sef95_std\",\"sef95_std\",\"sef95_std\",\"sef95_std\",\"sef95_std\",\"sef95_std\",\"sef95_std\",\"sef95_std\",\"sef95_std\",\"sef95_std\",\"b_mean\",\"b_mean\",\"b_mean\",\"b_mean\",\"b_mean\",\"b_mean\",\"b_mean\",\"b_mean\",\"b_mean\",\"b_mean\",\"b_std\",\"b_std\",\"b_std\",\"b_std\",\"b_std\",\"b_std\",\"b_std\",\"b_std\",\"b_std\",\"b_std\",\"b_n_mean\",\"b_n_mean\",\"b_n_mean\",\"b_n_mean\",\"b_n_mean\",\"b_n_mean\",\"b_n_mean\",\"b_n_mean\",\"b_n_mean\",\"b_n_mean\",\"b_n_std\",\"b_n_std\",\"b_n_std\",\"b_n_std\",\"b_n_std\",\"b_n_std\",\"b_n_std\",\"b_n_std\",\"b_n_std\",\"b_n_std\",\"g_mean\",\"g_mean\",\"g_mean\",\"g_mean\",\"g_mean\",\"g_mean\",\"g_mean\",\"g_mean\",\"g_mean\",\"g_mean\",\"g_std\",\"g_std\",\"g_std\",\"g_std\",\"g_std\",\"g_std\",\"g_std\",\"g_std\",\"g_std\",\"g_std\",\"g_n_mean\",\"g_n_mean\",\"g_n_mean\",\"g_n_mean\",\"g_n_mean\",\"g_n_mean\",\"g_n_mean\",\"g_n_mean\",\"g_n_mean\",\"g_n_mean\",\"g_n_std\",\"g_n_std\",\"g_n_std\",\"g_n_std\",\"g_n_std\",\"g_n_std\",\"g_n_std\",\"g_n_std\",\"g_n_std\",\"g_n_std\",\"t_mean\",\"t_mean\",\"t_mean\",\"t_mean\",\"t_mean\",\"t_mean\",\"t_mean\",\"t_mean\",\"t_mean\",\"t_mean\",\"t_std\",\"t_std\",\"t_std\",\"t_std\",\"t_std\",\"t_std\",\"t_std\",\"t_std\",\"t_std\",\"t_std\",\"t_n_mean\",\"t_n_mean\",\"t_n_mean\",\"t_n_mean\",\"t_n_mean\",\"t_n_mean\",\"t_n_mean\",\"t_n_mean\",\"t_n_mean\",\"t_n_mean\",\"t_n_std\",\"t_n_std\",\"t_n_std\",\"t_n_std\",\"t_n_std\",\"t_n_std\",\"t_n_std\",\"t_n_std\",\"t_n_std\",\"t_n_std\",\"d_mean\",\"d_mean\",\"d_mean\",\"d_mean\",\"d_mean\",\"d_mean\",\"d_mean\",\"d_mean\",\"d_mean\",\"d_mean\",\"d_std\",\"d_std\",\"d_std\",\"d_std\",\"d_std\",\"d_std\",\"d_std\",\"d_std\",\"d_std\",\"d_std\",\"d_n_mean\",\"d_n_mean\",\"d_n_mean\",\"d_n_mean\",\"d_n_mean\",\"d_n_mean\",\"d_n_mean\",\"d_n_mean\",\"d_n_mean\",\"d_n_mean\",\"d_n_std\",\"d_n_std\",\"d_n_std\",\"d_n_std\",\"d_n_std\",\"d_n_std\",\"d_n_std\",\"d_n_std\",\"d_n_std\",\"d_n_std\",\"a_n_mean\",\"a_n_mean\",\"a_n_mean\",\"a_n_mean\",\"a_n_mean\",\"a_n_mean\",\"a_n_mean\",\"a_n_mean\",\"a_n_mean\",\"a_n_mean\",\"a_n_std\",\"a_n_std\",\"a_n_std\",\"a_n_std\",\"a_n_std\",\"a_n_std\",\"a_n_std\",\"a_n_std\",\"a_n_std\",\"a_n_std\",\"a_mean\",\"a_mean\",\"a_mean\",\"a_mean\",\"a_mean\",\"a_mean\",\"a_mean\",\"a_mean\",\"a_mean\",\"a_mean\",\"a_std\",\"a_std\",\"a_std\",\"a_std\",\"a_std\",\"a_std\",\"a_std\",\"a_std\",\"a_std\",\"a_std\",\"CNV_mean\",\"CNV_mean\",\"CNV_mean\",\"CNV_mean\",\"CNV_mean\",\"CNV_mean\",\"CNV_mean\",\"CNV_mean\",\"CNV_mean\",\"CNV_mean\",\"CNV_std\",\"CNV_std\",\"CNV_std\",\"CNV_std\",\"CNV_std\",\"CNV_std\",\"CNV_std\",\"CNV_std\",\"CNV_std\",\"CNV_std\",\"P1_mean\",\"P1_mean\",\"P1_mean\",\"P1_mean\",\"P1_mean\",\"P1_mean\",\"P1_mean\",\"P1_mean\",\"P1_mean\",\"P1_mean\",\"P1_std\",\"P1_std\",\"P1_std\",\"P1_std\",\"P1_std\",\"P1_std\",\"P1_std\",\"P1_std\",\"P1_std\",\"P1_std\",\"P3a_mean\",\"P3a_mean\",\"P3a_mean\",\"P3a_mean\",\"P3a_mean\",\"P3a_mean\",\"P3a_mean\",\"P3a_mean\",\"P3a_mean\",\"P3a_mean\",\"P3a_std\",\"P3a_std\",\"P3a_std\",\"P3a_std\",\"P3a_std\",\"P3a_std\",\"P3a_std\",\"P3a_std\",\"P3a_std\",\"P3a_std\",\"P3b_mean\",\"P3b_mean\",\"P3b_mean\",\"P3b_mean\",\"P3b_mean\",\"P3b_mean\",\"P3b_mean\",\"P3b_mean\",\"P3b_mean\",\"P3b_mean\",\"P3b_std\",\"P3b_std\",\"P3b_std\",\"P3b_std\",\"P3b_std\",\"P3b_std\",\"P3b_std\",\"P3b_std\",\"P3b_std\",\"P3b_std\"],\"y0\":\" \",\"yaxis\":\"y\",\"type\":\"box\"}],                        {\"template\":{\"data\":{\"barpolar\":[{\"marker\":{\"line\":{\"color\":\"white\",\"width\":0.5},\"pattern\":{\"fillmode\":\"overlay\",\"size\":10,\"solidity\":0.2}},\"type\":\"barpolar\"}],\"bar\":[{\"error_x\":{\"color\":\"#2a3f5f\"},\"error_y\":{\"color\":\"#2a3f5f\"},\"marker\":{\"line\":{\"color\":\"white\",\"width\":0.5},\"pattern\":{\"fillmode\":\"overlay\",\"size\":10,\"solidity\":0.2}},\"type\":\"bar\"}],\"carpet\":[{\"aaxis\":{\"endlinecolor\":\"#2a3f5f\",\"gridcolor\":\"#C8D4E3\",\"linecolor\":\"#C8D4E3\",\"minorgridcolor\":\"#C8D4E3\",\"startlinecolor\":\"#2a3f5f\"},\"baxis\":{\"endlinecolor\":\"#2a3f5f\",\"gridcolor\":\"#C8D4E3\",\"linecolor\":\"#C8D4E3\",\"minorgridcolor\":\"#C8D4E3\",\"startlinecolor\":\"#2a3f5f\"},\"type\":\"carpet\"}],\"choropleth\":[{\"colorbar\":{\"outlinewidth\":0,\"ticks\":\"\"},\"type\":\"choropleth\"}],\"contourcarpet\":[{\"colorbar\":{\"outlinewidth\":0,\"ticks\":\"\"},\"type\":\"contourcarpet\"}],\"contour\":[{\"colorbar\":{\"outlinewidth\":0,\"ticks\":\"\"},\"colorscale\":[[0.0,\"#0d0887\"],[0.1111111111111111,\"#46039f\"],[0.2222222222222222,\"#7201a8\"],[0.3333333333333333,\"#9c179e\"],[0.4444444444444444,\"#bd3786\"],[0.5555555555555556,\"#d8576b\"],[0.6666666666666666,\"#ed7953\"],[0.7777777777777778,\"#fb9f3a\"],[0.8888888888888888,\"#fdca26\"],[1.0,\"#f0f921\"]],\"type\":\"contour\"}],\"heatmapgl\":[{\"colorbar\":{\"outlinewidth\":0,\"ticks\":\"\"},\"colorscale\":[[0.0,\"#0d0887\"],[0.1111111111111111,\"#46039f\"],[0.2222222222222222,\"#7201a8\"],[0.3333333333333333,\"#9c179e\"],[0.4444444444444444,\"#bd3786\"],[0.5555555555555556,\"#d8576b\"],[0.6666666666666666,\"#ed7953\"],[0.7777777777777778,\"#fb9f3a\"],[0.8888888888888888,\"#fdca26\"],[1.0,\"#f0f921\"]],\"type\":\"heatmapgl\"}],\"heatmap\":[{\"colorbar\":{\"outlinewidth\":0,\"ticks\":\"\"},\"colorscale\":[[0.0,\"#0d0887\"],[0.1111111111111111,\"#46039f\"],[0.2222222222222222,\"#7201a8\"],[0.3333333333333333,\"#9c179e\"],[0.4444444444444444,\"#bd3786\"],[0.5555555555555556,\"#d8576b\"],[0.6666666666666666,\"#ed7953\"],[0.7777777777777778,\"#fb9f3a\"],[0.8888888888888888,\"#fdca26\"],[1.0,\"#f0f921\"]],\"type\":\"heatmap\"}],\"histogram2dcontour\":[{\"colorbar\":{\"outlinewidth\":0,\"ticks\":\"\"},\"colorscale\":[[0.0,\"#0d0887\"],[0.1111111111111111,\"#46039f\"],[0.2222222222222222,\"#7201a8\"],[0.3333333333333333,\"#9c179e\"],[0.4444444444444444,\"#bd3786\"],[0.5555555555555556,\"#d8576b\"],[0.6666666666666666,\"#ed7953\"],[0.7777777777777778,\"#fb9f3a\"],[0.8888888888888888,\"#fdca26\"],[1.0,\"#f0f921\"]],\"type\":\"histogram2dcontour\"}],\"histogram2d\":[{\"colorbar\":{\"outlinewidth\":0,\"ticks\":\"\"},\"colorscale\":[[0.0,\"#0d0887\"],[0.1111111111111111,\"#46039f\"],[0.2222222222222222,\"#7201a8\"],[0.3333333333333333,\"#9c179e\"],[0.4444444444444444,\"#bd3786\"],[0.5555555555555556,\"#d8576b\"],[0.6666666666666666,\"#ed7953\"],[0.7777777777777778,\"#fb9f3a\"],[0.8888888888888888,\"#fdca26\"],[1.0,\"#f0f921\"]],\"type\":\"histogram2d\"}],\"histogram\":[{\"marker\":{\"pattern\":{\"fillmode\":\"overlay\",\"size\":10,\"solidity\":0.2}},\"type\":\"histogram\"}],\"mesh3d\":[{\"colorbar\":{\"outlinewidth\":0,\"ticks\":\"\"},\"type\":\"mesh3d\"}],\"parcoords\":[{\"line\":{\"colorbar\":{\"outlinewidth\":0,\"ticks\":\"\"}},\"type\":\"parcoords\"}],\"pie\":[{\"automargin\":true,\"type\":\"pie\"}],\"scatter3d\":[{\"line\":{\"colorbar\":{\"outlinewidth\":0,\"ticks\":\"\"}},\"marker\":{\"colorbar\":{\"outlinewidth\":0,\"ticks\":\"\"}},\"type\":\"scatter3d\"}],\"scattercarpet\":[{\"marker\":{\"colorbar\":{\"outlinewidth\":0,\"ticks\":\"\"}},\"type\":\"scattercarpet\"}],\"scattergeo\":[{\"marker\":{\"colorbar\":{\"outlinewidth\":0,\"ticks\":\"\"}},\"type\":\"scattergeo\"}],\"scattergl\":[{\"marker\":{\"colorbar\":{\"outlinewidth\":0,\"ticks\":\"\"}},\"type\":\"scattergl\"}],\"scattermapbox\":[{\"marker\":{\"colorbar\":{\"outlinewidth\":0,\"ticks\":\"\"}},\"type\":\"scattermapbox\"}],\"scatterpolargl\":[{\"marker\":{\"colorbar\":{\"outlinewidth\":0,\"ticks\":\"\"}},\"type\":\"scatterpolargl\"}],\"scatterpolar\":[{\"marker\":{\"colorbar\":{\"outlinewidth\":0,\"ticks\":\"\"}},\"type\":\"scatterpolar\"}],\"scatter\":[{\"fillpattern\":{\"fillmode\":\"overlay\",\"size\":10,\"solidity\":0.2},\"type\":\"scatter\"}],\"scatterternary\":[{\"marker\":{\"colorbar\":{\"outlinewidth\":0,\"ticks\":\"\"}},\"type\":\"scatterternary\"}],\"surface\":[{\"colorbar\":{\"outlinewidth\":0,\"ticks\":\"\"},\"colorscale\":[[0.0,\"#0d0887\"],[0.1111111111111111,\"#46039f\"],[0.2222222222222222,\"#7201a8\"],[0.3333333333333333,\"#9c179e\"],[0.4444444444444444,\"#bd3786\"],[0.5555555555555556,\"#d8576b\"],[0.6666666666666666,\"#ed7953\"],[0.7777777777777778,\"#fb9f3a\"],[0.8888888888888888,\"#fdca26\"],[1.0,\"#f0f921\"]],\"type\":\"surface\"}],\"table\":[{\"cells\":{\"fill\":{\"color\":\"#EBF0F8\"},\"line\":{\"color\":\"white\"}},\"header\":{\"fill\":{\"color\":\"#C8D4E3\"},\"line\":{\"color\":\"white\"}},\"type\":\"table\"}]},\"layout\":{\"annotationdefaults\":{\"arrowcolor\":\"#2a3f5f\",\"arrowhead\":0,\"arrowwidth\":1},\"autotypenumbers\":\"strict\",\"coloraxis\":{\"colorbar\":{\"outlinewidth\":0,\"ticks\":\"\"}},\"colorscale\":{\"diverging\":[[0,\"#8e0152\"],[0.1,\"#c51b7d\"],[0.2,\"#de77ae\"],[0.3,\"#f1b6da\"],[0.4,\"#fde0ef\"],[0.5,\"#f7f7f7\"],[0.6,\"#e6f5d0\"],[0.7,\"#b8e186\"],[0.8,\"#7fbc41\"],[0.9,\"#4d9221\"],[1,\"#276419\"]],\"sequential\":[[0.0,\"#0d0887\"],[0.1111111111111111,\"#46039f\"],[0.2222222222222222,\"#7201a8\"],[0.3333333333333333,\"#9c179e\"],[0.4444444444444444,\"#bd3786\"],[0.5555555555555556,\"#d8576b\"],[0.6666666666666666,\"#ed7953\"],[0.7777777777777778,\"#fb9f3a\"],[0.8888888888888888,\"#fdca26\"],[1.0,\"#f0f921\"]],\"sequentialminus\":[[0.0,\"#0d0887\"],[0.1111111111111111,\"#46039f\"],[0.2222222222222222,\"#7201a8\"],[0.3333333333333333,\"#9c179e\"],[0.4444444444444444,\"#bd3786\"],[0.5555555555555556,\"#d8576b\"],[0.6666666666666666,\"#ed7953\"],[0.7777777777777778,\"#fb9f3a\"],[0.8888888888888888,\"#fdca26\"],[1.0,\"#f0f921\"]]},\"colorway\":[\"#636efa\",\"#EF553B\",\"#00cc96\",\"#ab63fa\",\"#FFA15A\",\"#19d3f3\",\"#FF6692\",\"#B6E880\",\"#FF97FF\",\"#FECB52\"],\"font\":{\"color\":\"#2a3f5f\"},\"geo\":{\"bgcolor\":\"white\",\"lakecolor\":\"white\",\"landcolor\":\"white\",\"showlakes\":true,\"showland\":true,\"subunitcolor\":\"#C8D4E3\"},\"hoverlabel\":{\"align\":\"left\"},\"hovermode\":\"closest\",\"mapbox\":{\"style\":\"light\"},\"paper_bgcolor\":\"white\",\"plot_bgcolor\":\"white\",\"polar\":{\"angularaxis\":{\"gridcolor\":\"#EBF0F8\",\"linecolor\":\"#EBF0F8\",\"ticks\":\"\"},\"bgcolor\":\"white\",\"radialaxis\":{\"gridcolor\":\"#EBF0F8\",\"linecolor\":\"#EBF0F8\",\"ticks\":\"\"}},\"scene\":{\"xaxis\":{\"backgroundcolor\":\"white\",\"gridcolor\":\"#DFE8F3\",\"gridwidth\":2,\"linecolor\":\"#EBF0F8\",\"showbackground\":true,\"ticks\":\"\",\"zerolinecolor\":\"#EBF0F8\"},\"yaxis\":{\"backgroundcolor\":\"white\",\"gridcolor\":\"#DFE8F3\",\"gridwidth\":2,\"linecolor\":\"#EBF0F8\",\"showbackground\":true,\"ticks\":\"\",\"zerolinecolor\":\"#EBF0F8\"},\"zaxis\":{\"backgroundcolor\":\"white\",\"gridcolor\":\"#DFE8F3\",\"gridwidth\":2,\"linecolor\":\"#EBF0F8\",\"showbackground\":true,\"ticks\":\"\",\"zerolinecolor\":\"#EBF0F8\"}},\"shapedefaults\":{\"line\":{\"color\":\"#2a3f5f\"}},\"ternary\":{\"aaxis\":{\"gridcolor\":\"#DFE8F3\",\"linecolor\":\"#A2B1C6\",\"ticks\":\"\"},\"baxis\":{\"gridcolor\":\"#DFE8F3\",\"linecolor\":\"#A2B1C6\",\"ticks\":\"\"},\"bgcolor\":\"white\",\"caxis\":{\"gridcolor\":\"#DFE8F3\",\"linecolor\":\"#A2B1C6\",\"ticks\":\"\"}},\"title\":{\"x\":0.05},\"xaxis\":{\"automargin\":true,\"gridcolor\":\"#EBF0F8\",\"linecolor\":\"#EBF0F8\",\"ticks\":\"\",\"title\":{\"standoff\":15},\"zerolinecolor\":\"#EBF0F8\",\"zerolinewidth\":2},\"yaxis\":{\"automargin\":true,\"gridcolor\":\"#EBF0F8\",\"linecolor\":\"#EBF0F8\",\"ticks\":\"\",\"title\":{\"standoff\":15},\"zerolinecolor\":\"#EBF0F8\",\"zerolinewidth\":2}}},\"xaxis\":{\"anchor\":\"y\",\"domain\":[0.0,1.0],\"title\":{\"text\":\"Feature Importance\"},\"tickfont\":{\"size\":20},\"visible\":true,\"range\":[0,0.25]},\"yaxis\":{\"anchor\":\"x\",\"domain\":[0.0,1.0],\"title\":{\"text\":\"Feature\"},\"categoryorder\":\"total ascending\",\"tickfont\":{\"size\":20},\"automargin\":true,\"range\":[-1,54],\"dtick\":1},\"legend\":{\"tracegroupgap\":0},\"title\":{\"text\":\"FI of Top 10 Models dMW_vs_sMW \\u003cbr \\u003e\\nAverage AUC 0.66 \\u003cbr\\u003e\\nBest AUC 0.682\\n                 \"},\"boxmode\":\"group\",\"font\":{\"family\":\"Times new roman\",\"size\":20,\"color\":\"black\"},\"margin\":{\"l\":50,\"r\":50,\"t\":150,\"b\":50},\"width\":650,\"height\":1100,\"showlegend\":true},                        {\"responsive\": true}                    ).then(function(){\n",
       "                            \n",
       "var gd = document.getElementById('f59d5a48-33ec-4d95-b6db-b582b79e6411');\n",
       "var x = new MutationObserver(function (mutations, observer) {{\n",
       "        var display = window.getComputedStyle(gd).display;\n",
       "        if (!display || display === 'none') {{\n",
       "            console.log([gd, 'removed!']);\n",
       "            Plotly.purge(gd);\n",
       "            observer.disconnect();\n",
       "        }}\n",
       "}});\n",
       "\n",
       "// Listen for the removal of the full notebook cells\n",
       "var notebookContainer = gd.closest('#notebook-container');\n",
       "if (notebookContainer) {{\n",
       "    x.observe(notebookContainer, {childList: true});\n",
       "}}\n",
       "\n",
       "// Listen for the clearing of the current output cell\n",
       "var outputEl = gd.closest('.output');\n",
       "if (outputEl) {{\n",
       "    x.observe(outputEl, {childList: true});\n",
       "}}\n",
       "\n",
       "                        })                };                });            </script>        </div>"
      ]
     },
     "metadata": {},
     "output_type": "display_data"
    }
   ],
   "source": [
    "for i, contrast in enumerate(comparisons):\n",
    "\n",
    "    df = pd.read_csv(os.path.join(results_path, f'{contrast}_PC_K4_trim_opt_trials.csv'), index_col = 0).dropna().drop_duplicates()\n",
    "\n",
    "    # Select the top 10 models based on their AUC values\n",
    "    top_models = df.nlargest(10, 'value')\n",
    "\n",
    "    # Function to parse the feature importances from string to list\n",
    "    def parse_importances(importances_str):\n",
    "        values = importances_str.replace('[', '').replace(']', '').split()\n",
    "        return [float(val) for val in values]\n",
    "\n",
    "    # Applying the parsing function to the feature importances\n",
    "    parsed_importances = top_models['feature_importances'].apply(parse_importances).tolist()\n",
    "\n",
    "    # Feature names (replace this list with your actual feature names)\n",
    "    feature_names = ['wSMI_1_mean', 'wSMI_1_std', 'wSMI_2_mean', 'wSMI_2_std', 'wSMI_4_mean',\n",
    "                    'wSMI_4_std', 'wSMI_8_mean', 'wSMI_8_std', 'p_e_1_mean', 'p_e_1_std',\n",
    "                    'p_e_2_mean', 'p_e_2_std', 'p_e_4_mean', 'p_e_4_std', 'p_e_8_mean',\n",
    "                    'p_e_8_std', 'k_mean', 'k_std', 'se_mean', 'se_std', 'msf_mean',\n",
    "                    'msf_std', 'sef90_mean', 'sef90_std', 'sef95_mean', 'sef95_std',\n",
    "                    'b_mean', 'b_std', 'b_n_mean', 'b_n_std', 'g_mean', 'g_std', 'g_n_mean',\n",
    "                    'g_n_std', 't_mean', 't_std', 't_n_mean', 't_n_std', 'd_mean', 'd_std',\n",
    "                    'd_n_mean', 'd_n_std', 'a_n_mean', 'a_n_std', 'a_mean', 'a_std',\n",
    "                    'CNV_mean', 'CNV_std', 'P1_mean', 'P1_std', 'P3a_mean', 'P3a_std',\n",
    "                    'P3b_mean', 'P3b_std']\n",
    "\n",
    "    # Creating a dataframe suitable for boxplot visualization\n",
    "    boxplot_data = pd.DataFrame(parsed_importances, columns=feature_names).melt(var_name='Feature', value_name='Importance')\n",
    "\n",
    "    # Creating the vertical boxplot using Plotly\n",
    "    fig = px.box(boxplot_data, y='Feature', x='Importance', title=f\"\"\"FI of Top 10 Models {contrast} <br >\n",
    "Average AUC {top_models.value.mean().round(3)} <br>\n",
    "Best AUC {np.round(top_models.value.max(), 3)}\n",
    "                 \"\"\", orientation='h')\n",
    "    fig.update_layout(yaxis_title='Feature', xaxis_title='Importance', yaxis={'categoryorder':'total ascending'})\n",
    "    fig.update_traces(marker_color=colors[i])\n",
    "    fig.update_traces(marker=dict(size = 8))\n",
    "\n",
    "    fig.update_layout(\n",
    "        width=650,\n",
    "        height=1100,\n",
    "        template='plotly_white',\n",
    "        font=dict(\n",
    "            family=\"Times new roman\",\n",
    "            size=20,\n",
    "            color=\"black\"\n",
    "        ),\n",
    "        xaxis=dict(\n",
    "            visible=True,\n",
    "            range = [0,0.25], \n",
    "            tickfont={\"size\": 20},\n",
    "            title='Feature Importance'\n",
    "        ),\n",
    "        yaxis=dict(\n",
    "            categoryorder='total ascending',\n",
    "            tickfont={\"size\": 20},\n",
    "            automargin=True,\n",
    "            range=[-1, len(markers)],\n",
    "            dtick=1\n",
    "        ),\n",
    "        showlegend=True,\n",
    "        margin=dict(l=50, r=50, t=150, b=50)  # Adjust the top margin\n",
    "    )\n",
    "    fig.show()\n",
    "    \n",
    "    filename = os.path.join(fig_path, f'{contrast}_top_10_feat_importances_PC_K4.png')\n",
    "    fig.write_image(filename)\n",
    "    fig.write_image(filename)"
   ]
  },
  {
   "cell_type": "code",
   "execution_count": null,
   "metadata": {},
   "outputs": [],
   "source": []
  }
 ],
 "metadata": {
  "kernelspec": {
   "display_name": "base",
   "language": "python",
   "name": "python3"
  },
  "language_info": {
   "codemirror_mode": {
    "name": "ipython",
    "version": 3
   },
   "file_extension": ".py",
   "mimetype": "text/x-python",
   "name": "python",
   "nbconvert_exporter": "python",
   "pygments_lexer": "ipython3",
   "version": "3.10.9"
  }
 },
 "nbformat": 4,
 "nbformat_minor": 2
}
