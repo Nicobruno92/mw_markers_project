{
 "cells": [
  {
   "cell_type": "code",
   "execution_count": 1,
   "metadata": {},
   "outputs": [],
   "source": [
    "import os\n",
    "import pandas as pd\n",
    "import numpy as np\n",
    "\n",
    "import plotly.express as px\n",
    "import plotly.graph_objects as go\n",
    "import plotly.offline as pyo\n",
    "import plotly.io as pio\n",
    "from plotly.subplots import make_subplots\n",
    "from dash import html\n",
    "\n",
    "\n",
    "results_path = \"../../Results/Multivariate_all_against_all/\"\n",
    "fig_path = results_path + \"Figs/\"\n",
    "\n",
    "# %%\n",
    "markers = ['wSMI_1_mean', 'wSMI_1_std', 'wSMI_2_mean', 'wSMI_2_std', 'wSMI_4_mean',\n",
    "       'wSMI_4_std', 'wSMI_8_mean', 'wSMI_8_std', 'p_e_1_mean', 'p_e_1_std',\n",
    "       'p_e_2_mean', 'p_e_2_std', 'p_e_4_mean', 'p_e_4_std', 'p_e_8_mean',\n",
    "       'p_e_8_std', 'k_mean', 'k_std', 'se_mean', 'se_std', 'msf_mean',\n",
    "       'msf_std', 'sef90_mean', 'sef90_std', 'sef95_mean', 'sef95_std',\n",
    "       'b_mean', 'b_std', 'b_n_mean', 'b_n_std', 'g_mean', 'g_std', 'g_n_mean',\n",
    "       'g_n_std', 't_mean', 't_std', 't_n_mean', 't_n_std', 'd_mean', 'd_std',\n",
    "       'd_n_mean', 'd_n_std', 'a_n_mean', 'a_n_std', 'a_mean', 'a_std',\n",
    "       'CNV_mean', 'CNV_std', 'P1_mean', 'P1_std', 'P3a_mean', 'P3a_std',\n",
    "       'P3b_mean', 'P3b_std']\n",
    "\n",
    "# plotting parameters\n",
    "grey = \"#21201F\"\n",
    "green = \"#9AC529\"\n",
    "lblue = \"#42B9B2\"\n",
    "pink = \"#DE237B\"\n",
    "orange = \"#F38A31\"\n",
    "colors = [pink,  green, orange, lblue]\n",
    "\n",
    "comparisons = ['on-task_vs_mw','on-task_vs_dMW', 'on-task_vs_sMW', 'dMW_vs_sMW']\n",
    "# comparisons = ['on-task_vs_mw',]\n",
    "\n",
    "\n"
   ]
  },
  {
   "cell_type": "code",
   "execution_count": 35,
   "metadata": {},
   "outputs": [],
   "source": [
    "contrast = 'on-task_vs_sMW'\n",
    "df = pd.read_csv(os.path.join(results_path, f'{contrast}_PC_K4_trim_6_opt_trials.csv'), index_col = 0).sort_values('datetime_start', ascending = False)\n",
    "# .drop_duplicates()\n",
    "# df = df.query(\"number <= 200\")\n",
    "\n",
    "# .dropna()\n",
    "# .drop_duplicates()\n",
    "# df = df.query(\"number <= 200\")\n",
    "\n",
    "# Select the top 10 models based on their AUC values\n",
    "top_models = df.nlargest(10, 'value')\n",
    "\n",
    "# Function to parse the feature importances from string to list\n",
    "def parse_importances(importances_str):\n",
    "    values = importances_str.replace('[', '').replace(']', '').split()\n",
    "    return [float(val) for val in values]\n",
    "\n",
    "# Applying the parsing function to the feature importances\n",
    "parsed_importances = top_models['feature_importances'].dropna().apply(parse_importances).tolist()"
   ]
  },
  {
   "cell_type": "code",
   "execution_count": 33,
   "metadata": {},
   "outputs": [
    {
     "data": {
      "application/vnd.plotly.v1+json": {
       "config": {
        "plotlyServerURL": "https://plot.ly"
       },
       "data": [
        {
         "alignmentgroup": "True",
         "hovertemplate": "Importance=%{x}<br>Feature=%{y}<extra></extra>",
         "legendgroup": "",
         "marker": {
          "color": "#DE237B",
          "size": 8
         },
         "name": "",
         "notched": false,
         "offsetgroup": "",
         "orientation": "h",
         "showlegend": false,
         "type": "box",
         "x": [
          0,
          0,
          0,
          0,
          0,
          0,
          0,
          0,
          0,
          0,
          0,
          0,
          0,
          0.03125,
          0,
          0,
          0,
          0,
          0,
          0,
          0,
          0,
          0,
          0,
          0,
          0,
          0,
          0,
          0,
          0,
          0,
          0,
          0,
          0,
          0,
          0,
          0,
          0,
          0,
          0,
          0,
          0,
          0,
          0,
          0,
          0,
          0,
          0,
          0,
          0,
          0,
          0,
          0,
          0,
          0,
          0,
          0,
          0,
          0,
          0,
          0,
          0,
          0,
          0,
          0,
          0,
          0,
          0,
          0,
          0,
          0,
          0,
          0,
          0.03125,
          0,
          0,
          0.03571429,
          0,
          0,
          0,
          0,
          0,
          0,
          0,
          0.02272727,
          0,
          0.01923077,
          0.02083333,
          0,
          0,
          0.04166667,
          0,
          0.04166667,
          0.04166667,
          0,
          0.03571429,
          0,
          0.03125,
          0,
          0,
          0,
          0,
          0,
          0,
          0,
          0,
          0,
          0,
          0,
          0,
          0,
          0,
          0,
          0,
          0,
          0,
          0,
          0,
          0,
          0,
          0,
          0,
          0,
          0,
          0,
          0,
          0,
          0,
          0,
          0,
          0,
          0,
          0,
          0,
          0,
          0,
          0,
          0,
          0,
          0,
          0,
          0,
          0,
          0,
          0,
          0,
          0,
          0,
          0,
          0,
          0,
          0,
          0,
          0,
          0,
          0,
          0.04166667,
          0.04166667,
          0.04166667,
          0.04166667,
          0.05,
          0.03571429,
          0,
          0,
          0,
          0,
          0,
          0.03571429,
          0,
          0,
          0,
          0,
          0,
          0,
          0,
          0,
          0,
          0,
          0,
          0,
          0,
          0,
          0,
          0,
          0,
          0,
          0,
          0,
          0,
          0,
          0,
          0,
          0,
          0,
          0,
          0,
          0,
          0,
          0,
          0,
          0,
          0,
          0,
          0,
          0,
          0,
          0,
          0,
          0,
          0,
          0,
          0,
          0,
          0,
          0,
          0,
          0.21969697,
          0.14583333,
          0.21794872,
          0.22916667,
          0.24285714,
          0.19642857,
          0.06818182,
          0.0625,
          0.05769231,
          0.0625,
          0.07142857,
          0.08333333,
          0,
          0.03125,
          0.01923077,
          0,
          0,
          0,
          0,
          0,
          0,
          0,
          0,
          0,
          0,
          0,
          0,
          0,
          0,
          0,
          0,
          0,
          0,
          0,
          0,
          0,
          0,
          0,
          0,
          0,
          0,
          0,
          0,
          0,
          0,
          0,
          0,
          0,
          0,
          0,
          0,
          0,
          0,
          0,
          0,
          0,
          0,
          0,
          0,
          0,
          0.02272727,
          0,
          0.01923077,
          0.02083333,
          0,
          0.04166667,
          0,
          0,
          0,
          0,
          0,
          0,
          0.41666667,
          0.58333333,
          0.41666667,
          0.41666667,
          0.3,
          0.53571429,
          0.04166667,
          0.04166667,
          0.04166667,
          0.04166667,
          0.05,
          0.03571429,
          0,
          0,
          0,
          0,
          0,
          0,
          0,
          0,
          0,
          0,
          0,
          0,
          0.125,
          0,
          0.125,
          0.125,
          0,
          0,
          0,
          0,
          0,
          0,
          0,
          0
         ],
         "x0": " ",
         "xaxis": "x",
         "y": [
          "wSMI_1_mean",
          "wSMI_1_mean",
          "wSMI_1_mean",
          "wSMI_1_mean",
          "wSMI_1_mean",
          "wSMI_1_mean",
          "wSMI_1_std",
          "wSMI_1_std",
          "wSMI_1_std",
          "wSMI_1_std",
          "wSMI_1_std",
          "wSMI_1_std",
          "wSMI_2_mean",
          "wSMI_2_mean",
          "wSMI_2_mean",
          "wSMI_2_mean",
          "wSMI_2_mean",
          "wSMI_2_mean",
          "wSMI_2_std",
          "wSMI_2_std",
          "wSMI_2_std",
          "wSMI_2_std",
          "wSMI_2_std",
          "wSMI_2_std",
          "wSMI_4_mean",
          "wSMI_4_mean",
          "wSMI_4_mean",
          "wSMI_4_mean",
          "wSMI_4_mean",
          "wSMI_4_mean",
          "wSMI_4_std",
          "wSMI_4_std",
          "wSMI_4_std",
          "wSMI_4_std",
          "wSMI_4_std",
          "wSMI_4_std",
          "wSMI_8_mean",
          "wSMI_8_mean",
          "wSMI_8_mean",
          "wSMI_8_mean",
          "wSMI_8_mean",
          "wSMI_8_mean",
          "wSMI_8_std",
          "wSMI_8_std",
          "wSMI_8_std",
          "wSMI_8_std",
          "wSMI_8_std",
          "wSMI_8_std",
          "p_e_1_mean",
          "p_e_1_mean",
          "p_e_1_mean",
          "p_e_1_mean",
          "p_e_1_mean",
          "p_e_1_mean",
          "p_e_1_std",
          "p_e_1_std",
          "p_e_1_std",
          "p_e_1_std",
          "p_e_1_std",
          "p_e_1_std",
          "p_e_2_mean",
          "p_e_2_mean",
          "p_e_2_mean",
          "p_e_2_mean",
          "p_e_2_mean",
          "p_e_2_mean",
          "p_e_2_std",
          "p_e_2_std",
          "p_e_2_std",
          "p_e_2_std",
          "p_e_2_std",
          "p_e_2_std",
          "p_e_4_mean",
          "p_e_4_mean",
          "p_e_4_mean",
          "p_e_4_mean",
          "p_e_4_mean",
          "p_e_4_mean",
          "p_e_4_std",
          "p_e_4_std",
          "p_e_4_std",
          "p_e_4_std",
          "p_e_4_std",
          "p_e_4_std",
          "p_e_8_mean",
          "p_e_8_mean",
          "p_e_8_mean",
          "p_e_8_mean",
          "p_e_8_mean",
          "p_e_8_mean",
          "p_e_8_std",
          "p_e_8_std",
          "p_e_8_std",
          "p_e_8_std",
          "p_e_8_std",
          "p_e_8_std",
          "k_mean",
          "k_mean",
          "k_mean",
          "k_mean",
          "k_mean",
          "k_mean",
          "k_std",
          "k_std",
          "k_std",
          "k_std",
          "k_std",
          "k_std",
          "se_mean",
          "se_mean",
          "se_mean",
          "se_mean",
          "se_mean",
          "se_mean",
          "se_std",
          "se_std",
          "se_std",
          "se_std",
          "se_std",
          "se_std",
          "msf_mean",
          "msf_mean",
          "msf_mean",
          "msf_mean",
          "msf_mean",
          "msf_mean",
          "msf_std",
          "msf_std",
          "msf_std",
          "msf_std",
          "msf_std",
          "msf_std",
          "sef90_mean",
          "sef90_mean",
          "sef90_mean",
          "sef90_mean",
          "sef90_mean",
          "sef90_mean",
          "sef90_std",
          "sef90_std",
          "sef90_std",
          "sef90_std",
          "sef90_std",
          "sef90_std",
          "sef95_mean",
          "sef95_mean",
          "sef95_mean",
          "sef95_mean",
          "sef95_mean",
          "sef95_mean",
          "sef95_std",
          "sef95_std",
          "sef95_std",
          "sef95_std",
          "sef95_std",
          "sef95_std",
          "b_mean",
          "b_mean",
          "b_mean",
          "b_mean",
          "b_mean",
          "b_mean",
          "b_std",
          "b_std",
          "b_std",
          "b_std",
          "b_std",
          "b_std",
          "b_n_mean",
          "b_n_mean",
          "b_n_mean",
          "b_n_mean",
          "b_n_mean",
          "b_n_mean",
          "b_n_std",
          "b_n_std",
          "b_n_std",
          "b_n_std",
          "b_n_std",
          "b_n_std",
          "g_mean",
          "g_mean",
          "g_mean",
          "g_mean",
          "g_mean",
          "g_mean",
          "g_std",
          "g_std",
          "g_std",
          "g_std",
          "g_std",
          "g_std",
          "g_n_mean",
          "g_n_mean",
          "g_n_mean",
          "g_n_mean",
          "g_n_mean",
          "g_n_mean",
          "g_n_std",
          "g_n_std",
          "g_n_std",
          "g_n_std",
          "g_n_std",
          "g_n_std",
          "t_mean",
          "t_mean",
          "t_mean",
          "t_mean",
          "t_mean",
          "t_mean",
          "t_std",
          "t_std",
          "t_std",
          "t_std",
          "t_std",
          "t_std",
          "t_n_mean",
          "t_n_mean",
          "t_n_mean",
          "t_n_mean",
          "t_n_mean",
          "t_n_mean",
          "t_n_std",
          "t_n_std",
          "t_n_std",
          "t_n_std",
          "t_n_std",
          "t_n_std",
          "d_mean",
          "d_mean",
          "d_mean",
          "d_mean",
          "d_mean",
          "d_mean",
          "d_std",
          "d_std",
          "d_std",
          "d_std",
          "d_std",
          "d_std",
          "d_n_mean",
          "d_n_mean",
          "d_n_mean",
          "d_n_mean",
          "d_n_mean",
          "d_n_mean",
          "d_n_std",
          "d_n_std",
          "d_n_std",
          "d_n_std",
          "d_n_std",
          "d_n_std",
          "a_n_mean",
          "a_n_mean",
          "a_n_mean",
          "a_n_mean",
          "a_n_mean",
          "a_n_mean",
          "a_n_std",
          "a_n_std",
          "a_n_std",
          "a_n_std",
          "a_n_std",
          "a_n_std",
          "a_mean",
          "a_mean",
          "a_mean",
          "a_mean",
          "a_mean",
          "a_mean",
          "a_std",
          "a_std",
          "a_std",
          "a_std",
          "a_std",
          "a_std",
          "CNV_mean",
          "CNV_mean",
          "CNV_mean",
          "CNV_mean",
          "CNV_mean",
          "CNV_mean",
          "CNV_std",
          "CNV_std",
          "CNV_std",
          "CNV_std",
          "CNV_std",
          "CNV_std",
          "P1_mean",
          "P1_mean",
          "P1_mean",
          "P1_mean",
          "P1_mean",
          "P1_mean",
          "P1_std",
          "P1_std",
          "P1_std",
          "P1_std",
          "P1_std",
          "P1_std",
          "P3a_mean",
          "P3a_mean",
          "P3a_mean",
          "P3a_mean",
          "P3a_mean",
          "P3a_mean",
          "P3a_std",
          "P3a_std",
          "P3a_std",
          "P3a_std",
          "P3a_std",
          "P3a_std",
          "P3b_mean",
          "P3b_mean",
          "P3b_mean",
          "P3b_mean",
          "P3b_mean",
          "P3b_mean",
          "P3b_std",
          "P3b_std",
          "P3b_std",
          "P3b_std",
          "P3b_std",
          "P3b_std"
         ],
         "y0": " ",
         "yaxis": "y"
        }
       ],
       "layout": {
        "boxmode": "group",
        "font": {
         "color": "black",
         "family": "Times new roman",
         "size": 20
        },
        "height": 1100,
        "legend": {
         "tracegroupgap": 0
        },
        "margin": {
         "b": 50,
         "l": 50,
         "r": 50,
         "t": 150
        },
        "showlegend": true,
        "template": {
         "data": {
          "bar": [
           {
            "error_x": {
             "color": "#2a3f5f"
            },
            "error_y": {
             "color": "#2a3f5f"
            },
            "marker": {
             "line": {
              "color": "white",
              "width": 0.5
             },
             "pattern": {
              "fillmode": "overlay",
              "size": 10,
              "solidity": 0.2
             }
            },
            "type": "bar"
           }
          ],
          "barpolar": [
           {
            "marker": {
             "line": {
              "color": "white",
              "width": 0.5
             },
             "pattern": {
              "fillmode": "overlay",
              "size": 10,
              "solidity": 0.2
             }
            },
            "type": "barpolar"
           }
          ],
          "carpet": [
           {
            "aaxis": {
             "endlinecolor": "#2a3f5f",
             "gridcolor": "#C8D4E3",
             "linecolor": "#C8D4E3",
             "minorgridcolor": "#C8D4E3",
             "startlinecolor": "#2a3f5f"
            },
            "baxis": {
             "endlinecolor": "#2a3f5f",
             "gridcolor": "#C8D4E3",
             "linecolor": "#C8D4E3",
             "minorgridcolor": "#C8D4E3",
             "startlinecolor": "#2a3f5f"
            },
            "type": "carpet"
           }
          ],
          "choropleth": [
           {
            "colorbar": {
             "outlinewidth": 0,
             "ticks": ""
            },
            "type": "choropleth"
           }
          ],
          "contour": [
           {
            "colorbar": {
             "outlinewidth": 0,
             "ticks": ""
            },
            "colorscale": [
             [
              0,
              "#0d0887"
             ],
             [
              0.1111111111111111,
              "#46039f"
             ],
             [
              0.2222222222222222,
              "#7201a8"
             ],
             [
              0.3333333333333333,
              "#9c179e"
             ],
             [
              0.4444444444444444,
              "#bd3786"
             ],
             [
              0.5555555555555556,
              "#d8576b"
             ],
             [
              0.6666666666666666,
              "#ed7953"
             ],
             [
              0.7777777777777778,
              "#fb9f3a"
             ],
             [
              0.8888888888888888,
              "#fdca26"
             ],
             [
              1,
              "#f0f921"
             ]
            ],
            "type": "contour"
           }
          ],
          "contourcarpet": [
           {
            "colorbar": {
             "outlinewidth": 0,
             "ticks": ""
            },
            "type": "contourcarpet"
           }
          ],
          "heatmap": [
           {
            "colorbar": {
             "outlinewidth": 0,
             "ticks": ""
            },
            "colorscale": [
             [
              0,
              "#0d0887"
             ],
             [
              0.1111111111111111,
              "#46039f"
             ],
             [
              0.2222222222222222,
              "#7201a8"
             ],
             [
              0.3333333333333333,
              "#9c179e"
             ],
             [
              0.4444444444444444,
              "#bd3786"
             ],
             [
              0.5555555555555556,
              "#d8576b"
             ],
             [
              0.6666666666666666,
              "#ed7953"
             ],
             [
              0.7777777777777778,
              "#fb9f3a"
             ],
             [
              0.8888888888888888,
              "#fdca26"
             ],
             [
              1,
              "#f0f921"
             ]
            ],
            "type": "heatmap"
           }
          ],
          "heatmapgl": [
           {
            "colorbar": {
             "outlinewidth": 0,
             "ticks": ""
            },
            "colorscale": [
             [
              0,
              "#0d0887"
             ],
             [
              0.1111111111111111,
              "#46039f"
             ],
             [
              0.2222222222222222,
              "#7201a8"
             ],
             [
              0.3333333333333333,
              "#9c179e"
             ],
             [
              0.4444444444444444,
              "#bd3786"
             ],
             [
              0.5555555555555556,
              "#d8576b"
             ],
             [
              0.6666666666666666,
              "#ed7953"
             ],
             [
              0.7777777777777778,
              "#fb9f3a"
             ],
             [
              0.8888888888888888,
              "#fdca26"
             ],
             [
              1,
              "#f0f921"
             ]
            ],
            "type": "heatmapgl"
           }
          ],
          "histogram": [
           {
            "marker": {
             "pattern": {
              "fillmode": "overlay",
              "size": 10,
              "solidity": 0.2
             }
            },
            "type": "histogram"
           }
          ],
          "histogram2d": [
           {
            "colorbar": {
             "outlinewidth": 0,
             "ticks": ""
            },
            "colorscale": [
             [
              0,
              "#0d0887"
             ],
             [
              0.1111111111111111,
              "#46039f"
             ],
             [
              0.2222222222222222,
              "#7201a8"
             ],
             [
              0.3333333333333333,
              "#9c179e"
             ],
             [
              0.4444444444444444,
              "#bd3786"
             ],
             [
              0.5555555555555556,
              "#d8576b"
             ],
             [
              0.6666666666666666,
              "#ed7953"
             ],
             [
              0.7777777777777778,
              "#fb9f3a"
             ],
             [
              0.8888888888888888,
              "#fdca26"
             ],
             [
              1,
              "#f0f921"
             ]
            ],
            "type": "histogram2d"
           }
          ],
          "histogram2dcontour": [
           {
            "colorbar": {
             "outlinewidth": 0,
             "ticks": ""
            },
            "colorscale": [
             [
              0,
              "#0d0887"
             ],
             [
              0.1111111111111111,
              "#46039f"
             ],
             [
              0.2222222222222222,
              "#7201a8"
             ],
             [
              0.3333333333333333,
              "#9c179e"
             ],
             [
              0.4444444444444444,
              "#bd3786"
             ],
             [
              0.5555555555555556,
              "#d8576b"
             ],
             [
              0.6666666666666666,
              "#ed7953"
             ],
             [
              0.7777777777777778,
              "#fb9f3a"
             ],
             [
              0.8888888888888888,
              "#fdca26"
             ],
             [
              1,
              "#f0f921"
             ]
            ],
            "type": "histogram2dcontour"
           }
          ],
          "mesh3d": [
           {
            "colorbar": {
             "outlinewidth": 0,
             "ticks": ""
            },
            "type": "mesh3d"
           }
          ],
          "parcoords": [
           {
            "line": {
             "colorbar": {
              "outlinewidth": 0,
              "ticks": ""
             }
            },
            "type": "parcoords"
           }
          ],
          "pie": [
           {
            "automargin": true,
            "type": "pie"
           }
          ],
          "scatter": [
           {
            "fillpattern": {
             "fillmode": "overlay",
             "size": 10,
             "solidity": 0.2
            },
            "type": "scatter"
           }
          ],
          "scatter3d": [
           {
            "line": {
             "colorbar": {
              "outlinewidth": 0,
              "ticks": ""
             }
            },
            "marker": {
             "colorbar": {
              "outlinewidth": 0,
              "ticks": ""
             }
            },
            "type": "scatter3d"
           }
          ],
          "scattercarpet": [
           {
            "marker": {
             "colorbar": {
              "outlinewidth": 0,
              "ticks": ""
             }
            },
            "type": "scattercarpet"
           }
          ],
          "scattergeo": [
           {
            "marker": {
             "colorbar": {
              "outlinewidth": 0,
              "ticks": ""
             }
            },
            "type": "scattergeo"
           }
          ],
          "scattergl": [
           {
            "marker": {
             "colorbar": {
              "outlinewidth": 0,
              "ticks": ""
             }
            },
            "type": "scattergl"
           }
          ],
          "scattermapbox": [
           {
            "marker": {
             "colorbar": {
              "outlinewidth": 0,
              "ticks": ""
             }
            },
            "type": "scattermapbox"
           }
          ],
          "scatterpolar": [
           {
            "marker": {
             "colorbar": {
              "outlinewidth": 0,
              "ticks": ""
             }
            },
            "type": "scatterpolar"
           }
          ],
          "scatterpolargl": [
           {
            "marker": {
             "colorbar": {
              "outlinewidth": 0,
              "ticks": ""
             }
            },
            "type": "scatterpolargl"
           }
          ],
          "scatterternary": [
           {
            "marker": {
             "colorbar": {
              "outlinewidth": 0,
              "ticks": ""
             }
            },
            "type": "scatterternary"
           }
          ],
          "surface": [
           {
            "colorbar": {
             "outlinewidth": 0,
             "ticks": ""
            },
            "colorscale": [
             [
              0,
              "#0d0887"
             ],
             [
              0.1111111111111111,
              "#46039f"
             ],
             [
              0.2222222222222222,
              "#7201a8"
             ],
             [
              0.3333333333333333,
              "#9c179e"
             ],
             [
              0.4444444444444444,
              "#bd3786"
             ],
             [
              0.5555555555555556,
              "#d8576b"
             ],
             [
              0.6666666666666666,
              "#ed7953"
             ],
             [
              0.7777777777777778,
              "#fb9f3a"
             ],
             [
              0.8888888888888888,
              "#fdca26"
             ],
             [
              1,
              "#f0f921"
             ]
            ],
            "type": "surface"
           }
          ],
          "table": [
           {
            "cells": {
             "fill": {
              "color": "#EBF0F8"
             },
             "line": {
              "color": "white"
             }
            },
            "header": {
             "fill": {
              "color": "#C8D4E3"
             },
             "line": {
              "color": "white"
             }
            },
            "type": "table"
           }
          ]
         },
         "layout": {
          "annotationdefaults": {
           "arrowcolor": "#2a3f5f",
           "arrowhead": 0,
           "arrowwidth": 1
          },
          "autotypenumbers": "strict",
          "coloraxis": {
           "colorbar": {
            "outlinewidth": 0,
            "ticks": ""
           }
          },
          "colorscale": {
           "diverging": [
            [
             0,
             "#8e0152"
            ],
            [
             0.1,
             "#c51b7d"
            ],
            [
             0.2,
             "#de77ae"
            ],
            [
             0.3,
             "#f1b6da"
            ],
            [
             0.4,
             "#fde0ef"
            ],
            [
             0.5,
             "#f7f7f7"
            ],
            [
             0.6,
             "#e6f5d0"
            ],
            [
             0.7,
             "#b8e186"
            ],
            [
             0.8,
             "#7fbc41"
            ],
            [
             0.9,
             "#4d9221"
            ],
            [
             1,
             "#276419"
            ]
           ],
           "sequential": [
            [
             0,
             "#0d0887"
            ],
            [
             0.1111111111111111,
             "#46039f"
            ],
            [
             0.2222222222222222,
             "#7201a8"
            ],
            [
             0.3333333333333333,
             "#9c179e"
            ],
            [
             0.4444444444444444,
             "#bd3786"
            ],
            [
             0.5555555555555556,
             "#d8576b"
            ],
            [
             0.6666666666666666,
             "#ed7953"
            ],
            [
             0.7777777777777778,
             "#fb9f3a"
            ],
            [
             0.8888888888888888,
             "#fdca26"
            ],
            [
             1,
             "#f0f921"
            ]
           ],
           "sequentialminus": [
            [
             0,
             "#0d0887"
            ],
            [
             0.1111111111111111,
             "#46039f"
            ],
            [
             0.2222222222222222,
             "#7201a8"
            ],
            [
             0.3333333333333333,
             "#9c179e"
            ],
            [
             0.4444444444444444,
             "#bd3786"
            ],
            [
             0.5555555555555556,
             "#d8576b"
            ],
            [
             0.6666666666666666,
             "#ed7953"
            ],
            [
             0.7777777777777778,
             "#fb9f3a"
            ],
            [
             0.8888888888888888,
             "#fdca26"
            ],
            [
             1,
             "#f0f921"
            ]
           ]
          },
          "colorway": [
           "#636efa",
           "#EF553B",
           "#00cc96",
           "#ab63fa",
           "#FFA15A",
           "#19d3f3",
           "#FF6692",
           "#B6E880",
           "#FF97FF",
           "#FECB52"
          ],
          "font": {
           "color": "#2a3f5f"
          },
          "geo": {
           "bgcolor": "white",
           "lakecolor": "white",
           "landcolor": "white",
           "showlakes": true,
           "showland": true,
           "subunitcolor": "#C8D4E3"
          },
          "hoverlabel": {
           "align": "left"
          },
          "hovermode": "closest",
          "mapbox": {
           "style": "light"
          },
          "paper_bgcolor": "white",
          "plot_bgcolor": "white",
          "polar": {
           "angularaxis": {
            "gridcolor": "#EBF0F8",
            "linecolor": "#EBF0F8",
            "ticks": ""
           },
           "bgcolor": "white",
           "radialaxis": {
            "gridcolor": "#EBF0F8",
            "linecolor": "#EBF0F8",
            "ticks": ""
           }
          },
          "scene": {
           "xaxis": {
            "backgroundcolor": "white",
            "gridcolor": "#DFE8F3",
            "gridwidth": 2,
            "linecolor": "#EBF0F8",
            "showbackground": true,
            "ticks": "",
            "zerolinecolor": "#EBF0F8"
           },
           "yaxis": {
            "backgroundcolor": "white",
            "gridcolor": "#DFE8F3",
            "gridwidth": 2,
            "linecolor": "#EBF0F8",
            "showbackground": true,
            "ticks": "",
            "zerolinecolor": "#EBF0F8"
           },
           "zaxis": {
            "backgroundcolor": "white",
            "gridcolor": "#DFE8F3",
            "gridwidth": 2,
            "linecolor": "#EBF0F8",
            "showbackground": true,
            "ticks": "",
            "zerolinecolor": "#EBF0F8"
           }
          },
          "shapedefaults": {
           "line": {
            "color": "#2a3f5f"
           }
          },
          "ternary": {
           "aaxis": {
            "gridcolor": "#DFE8F3",
            "linecolor": "#A2B1C6",
            "ticks": ""
           },
           "baxis": {
            "gridcolor": "#DFE8F3",
            "linecolor": "#A2B1C6",
            "ticks": ""
           },
           "bgcolor": "white",
           "caxis": {
            "gridcolor": "#DFE8F3",
            "linecolor": "#A2B1C6",
            "ticks": ""
           }
          },
          "title": {
           "x": 0.05
          },
          "xaxis": {
           "automargin": true,
           "gridcolor": "#EBF0F8",
           "linecolor": "#EBF0F8",
           "ticks": "",
           "title": {
            "standoff": 15
           },
           "zerolinecolor": "#EBF0F8",
           "zerolinewidth": 2
          },
          "yaxis": {
           "automargin": true,
           "gridcolor": "#EBF0F8",
           "linecolor": "#EBF0F8",
           "ticks": "",
           "title": {
            "standoff": 15
           },
           "zerolinecolor": "#EBF0F8",
           "zerolinewidth": 2
          }
         }
        },
        "title": {
         "text": "FI of Top 10 Models on-task_vs_mw <br >\nAverage AUC 0.618 <br>\nBest AUC 0.624\n                 "
        },
        "width": 650,
        "xaxis": {
         "anchor": "y",
         "domain": [
          0,
          1
         ],
         "range": [
          0,
          0.9
         ],
         "tickfont": {
          "size": 20
         },
         "title": {
          "text": "Feature Importance"
         },
         "visible": true
        },
        "yaxis": {
         "anchor": "x",
         "automargin": true,
         "categoryorder": "total ascending",
         "domain": [
          0,
          1
         ],
         "dtick": 1,
         "range": [
          -1,
          54
         ],
         "tickfont": {
          "size": 20
         },
         "title": {
          "text": "Feature"
         }
        }
       }
      },
      "text/html": [
       "<div>                            <div id=\"7b53bb36-9580-4536-adb7-5e42ef022f8a\" class=\"plotly-graph-div\" style=\"height:1100px; width:650px;\"></div>            <script type=\"text/javascript\">                require([\"plotly\"], function(Plotly) {                    window.PLOTLYENV=window.PLOTLYENV || {};                                    if (document.getElementById(\"7b53bb36-9580-4536-adb7-5e42ef022f8a\")) {                    Plotly.newPlot(                        \"7b53bb36-9580-4536-adb7-5e42ef022f8a\",                        [{\"alignmentgroup\":\"True\",\"hovertemplate\":\"Importance=%{x}\\u003cbr\\u003eFeature=%{y}\\u003cextra\\u003e\\u003c\\u002fextra\\u003e\",\"legendgroup\":\"\",\"marker\":{\"color\":\"#DE237B\",\"size\":8},\"name\":\"\",\"notched\":false,\"offsetgroup\":\"\",\"orientation\":\"h\",\"showlegend\":false,\"x\":[0.0,0.0,0.0,0.0,0.0,0.0,0.0,0.0,0.0,0.0,0.0,0.0,0.0,0.03125,0.0,0.0,0.0,0.0,0.0,0.0,0.0,0.0,0.0,0.0,0.0,0.0,0.0,0.0,0.0,0.0,0.0,0.0,0.0,0.0,0.0,0.0,0.0,0.0,0.0,0.0,0.0,0.0,0.0,0.0,0.0,0.0,0.0,0.0,0.0,0.0,0.0,0.0,0.0,0.0,0.0,0.0,0.0,0.0,0.0,0.0,0.0,0.0,0.0,0.0,0.0,0.0,0.0,0.0,0.0,0.0,0.0,0.0,0.0,0.03125,0.0,0.0,0.03571429,0.0,0.0,0.0,0.0,0.0,0.0,0.0,0.02272727,0.0,0.01923077,0.02083333,0.0,0.0,0.04166667,0.0,0.04166667,0.04166667,0.0,0.03571429,0.0,0.03125,0.0,0.0,0.0,0.0,0.0,0.0,0.0,0.0,0.0,0.0,0.0,0.0,0.0,0.0,0.0,0.0,0.0,0.0,0.0,0.0,0.0,0.0,0.0,0.0,0.0,0.0,0.0,0.0,0.0,0.0,0.0,0.0,0.0,0.0,0.0,0.0,0.0,0.0,0.0,0.0,0.0,0.0,0.0,0.0,0.0,0.0,0.0,0.0,0.0,0.0,0.0,0.0,0.0,0.0,0.0,0.0,0.0,0.0,0.04166667,0.04166667,0.04166667,0.04166667,0.05,0.03571429,0.0,0.0,0.0,0.0,0.0,0.03571429,0.0,0.0,0.0,0.0,0.0,0.0,0.0,0.0,0.0,0.0,0.0,0.0,0.0,0.0,0.0,0.0,0.0,0.0,0.0,0.0,0.0,0.0,0.0,0.0,0.0,0.0,0.0,0.0,0.0,0.0,0.0,0.0,0.0,0.0,0.0,0.0,0.0,0.0,0.0,0.0,0.0,0.0,0.0,0.0,0.0,0.0,0.0,0.0,0.21969697,0.14583333,0.21794872,0.22916667,0.24285714,0.19642857,0.06818182,0.0625,0.05769231,0.0625,0.07142857,0.08333333,0.0,0.03125,0.01923077,0.0,0.0,0.0,0.0,0.0,0.0,0.0,0.0,0.0,0.0,0.0,0.0,0.0,0.0,0.0,0.0,0.0,0.0,0.0,0.0,0.0,0.0,0.0,0.0,0.0,0.0,0.0,0.0,0.0,0.0,0.0,0.0,0.0,0.0,0.0,0.0,0.0,0.0,0.0,0.0,0.0,0.0,0.0,0.0,0.0,0.02272727,0.0,0.01923077,0.02083333,0.0,0.04166667,0.0,0.0,0.0,0.0,0.0,0.0,0.41666667,0.58333333,0.41666667,0.41666667,0.3,0.53571429,0.04166667,0.04166667,0.04166667,0.04166667,0.05,0.03571429,0.0,0.0,0.0,0.0,0.0,0.0,0.0,0.0,0.0,0.0,0.0,0.0,0.125,0.0,0.125,0.125,0.0,0.0,0.0,0.0,0.0,0.0,0.0,0.0],\"x0\":\" \",\"xaxis\":\"x\",\"y\":[\"wSMI_1_mean\",\"wSMI_1_mean\",\"wSMI_1_mean\",\"wSMI_1_mean\",\"wSMI_1_mean\",\"wSMI_1_mean\",\"wSMI_1_std\",\"wSMI_1_std\",\"wSMI_1_std\",\"wSMI_1_std\",\"wSMI_1_std\",\"wSMI_1_std\",\"wSMI_2_mean\",\"wSMI_2_mean\",\"wSMI_2_mean\",\"wSMI_2_mean\",\"wSMI_2_mean\",\"wSMI_2_mean\",\"wSMI_2_std\",\"wSMI_2_std\",\"wSMI_2_std\",\"wSMI_2_std\",\"wSMI_2_std\",\"wSMI_2_std\",\"wSMI_4_mean\",\"wSMI_4_mean\",\"wSMI_4_mean\",\"wSMI_4_mean\",\"wSMI_4_mean\",\"wSMI_4_mean\",\"wSMI_4_std\",\"wSMI_4_std\",\"wSMI_4_std\",\"wSMI_4_std\",\"wSMI_4_std\",\"wSMI_4_std\",\"wSMI_8_mean\",\"wSMI_8_mean\",\"wSMI_8_mean\",\"wSMI_8_mean\",\"wSMI_8_mean\",\"wSMI_8_mean\",\"wSMI_8_std\",\"wSMI_8_std\",\"wSMI_8_std\",\"wSMI_8_std\",\"wSMI_8_std\",\"wSMI_8_std\",\"p_e_1_mean\",\"p_e_1_mean\",\"p_e_1_mean\",\"p_e_1_mean\",\"p_e_1_mean\",\"p_e_1_mean\",\"p_e_1_std\",\"p_e_1_std\",\"p_e_1_std\",\"p_e_1_std\",\"p_e_1_std\",\"p_e_1_std\",\"p_e_2_mean\",\"p_e_2_mean\",\"p_e_2_mean\",\"p_e_2_mean\",\"p_e_2_mean\",\"p_e_2_mean\",\"p_e_2_std\",\"p_e_2_std\",\"p_e_2_std\",\"p_e_2_std\",\"p_e_2_std\",\"p_e_2_std\",\"p_e_4_mean\",\"p_e_4_mean\",\"p_e_4_mean\",\"p_e_4_mean\",\"p_e_4_mean\",\"p_e_4_mean\",\"p_e_4_std\",\"p_e_4_std\",\"p_e_4_std\",\"p_e_4_std\",\"p_e_4_std\",\"p_e_4_std\",\"p_e_8_mean\",\"p_e_8_mean\",\"p_e_8_mean\",\"p_e_8_mean\",\"p_e_8_mean\",\"p_e_8_mean\",\"p_e_8_std\",\"p_e_8_std\",\"p_e_8_std\",\"p_e_8_std\",\"p_e_8_std\",\"p_e_8_std\",\"k_mean\",\"k_mean\",\"k_mean\",\"k_mean\",\"k_mean\",\"k_mean\",\"k_std\",\"k_std\",\"k_std\",\"k_std\",\"k_std\",\"k_std\",\"se_mean\",\"se_mean\",\"se_mean\",\"se_mean\",\"se_mean\",\"se_mean\",\"se_std\",\"se_std\",\"se_std\",\"se_std\",\"se_std\",\"se_std\",\"msf_mean\",\"msf_mean\",\"msf_mean\",\"msf_mean\",\"msf_mean\",\"msf_mean\",\"msf_std\",\"msf_std\",\"msf_std\",\"msf_std\",\"msf_std\",\"msf_std\",\"sef90_mean\",\"sef90_mean\",\"sef90_mean\",\"sef90_mean\",\"sef90_mean\",\"sef90_mean\",\"sef90_std\",\"sef90_std\",\"sef90_std\",\"sef90_std\",\"sef90_std\",\"sef90_std\",\"sef95_mean\",\"sef95_mean\",\"sef95_mean\",\"sef95_mean\",\"sef95_mean\",\"sef95_mean\",\"sef95_std\",\"sef95_std\",\"sef95_std\",\"sef95_std\",\"sef95_std\",\"sef95_std\",\"b_mean\",\"b_mean\",\"b_mean\",\"b_mean\",\"b_mean\",\"b_mean\",\"b_std\",\"b_std\",\"b_std\",\"b_std\",\"b_std\",\"b_std\",\"b_n_mean\",\"b_n_mean\",\"b_n_mean\",\"b_n_mean\",\"b_n_mean\",\"b_n_mean\",\"b_n_std\",\"b_n_std\",\"b_n_std\",\"b_n_std\",\"b_n_std\",\"b_n_std\",\"g_mean\",\"g_mean\",\"g_mean\",\"g_mean\",\"g_mean\",\"g_mean\",\"g_std\",\"g_std\",\"g_std\",\"g_std\",\"g_std\",\"g_std\",\"g_n_mean\",\"g_n_mean\",\"g_n_mean\",\"g_n_mean\",\"g_n_mean\",\"g_n_mean\",\"g_n_std\",\"g_n_std\",\"g_n_std\",\"g_n_std\",\"g_n_std\",\"g_n_std\",\"t_mean\",\"t_mean\",\"t_mean\",\"t_mean\",\"t_mean\",\"t_mean\",\"t_std\",\"t_std\",\"t_std\",\"t_std\",\"t_std\",\"t_std\",\"t_n_mean\",\"t_n_mean\",\"t_n_mean\",\"t_n_mean\",\"t_n_mean\",\"t_n_mean\",\"t_n_std\",\"t_n_std\",\"t_n_std\",\"t_n_std\",\"t_n_std\",\"t_n_std\",\"d_mean\",\"d_mean\",\"d_mean\",\"d_mean\",\"d_mean\",\"d_mean\",\"d_std\",\"d_std\",\"d_std\",\"d_std\",\"d_std\",\"d_std\",\"d_n_mean\",\"d_n_mean\",\"d_n_mean\",\"d_n_mean\",\"d_n_mean\",\"d_n_mean\",\"d_n_std\",\"d_n_std\",\"d_n_std\",\"d_n_std\",\"d_n_std\",\"d_n_std\",\"a_n_mean\",\"a_n_mean\",\"a_n_mean\",\"a_n_mean\",\"a_n_mean\",\"a_n_mean\",\"a_n_std\",\"a_n_std\",\"a_n_std\",\"a_n_std\",\"a_n_std\",\"a_n_std\",\"a_mean\",\"a_mean\",\"a_mean\",\"a_mean\",\"a_mean\",\"a_mean\",\"a_std\",\"a_std\",\"a_std\",\"a_std\",\"a_std\",\"a_std\",\"CNV_mean\",\"CNV_mean\",\"CNV_mean\",\"CNV_mean\",\"CNV_mean\",\"CNV_mean\",\"CNV_std\",\"CNV_std\",\"CNV_std\",\"CNV_std\",\"CNV_std\",\"CNV_std\",\"P1_mean\",\"P1_mean\",\"P1_mean\",\"P1_mean\",\"P1_mean\",\"P1_mean\",\"P1_std\",\"P1_std\",\"P1_std\",\"P1_std\",\"P1_std\",\"P1_std\",\"P3a_mean\",\"P3a_mean\",\"P3a_mean\",\"P3a_mean\",\"P3a_mean\",\"P3a_mean\",\"P3a_std\",\"P3a_std\",\"P3a_std\",\"P3a_std\",\"P3a_std\",\"P3a_std\",\"P3b_mean\",\"P3b_mean\",\"P3b_mean\",\"P3b_mean\",\"P3b_mean\",\"P3b_mean\",\"P3b_std\",\"P3b_std\",\"P3b_std\",\"P3b_std\",\"P3b_std\",\"P3b_std\"],\"y0\":\" \",\"yaxis\":\"y\",\"type\":\"box\"}],                        {\"template\":{\"data\":{\"barpolar\":[{\"marker\":{\"line\":{\"color\":\"white\",\"width\":0.5},\"pattern\":{\"fillmode\":\"overlay\",\"size\":10,\"solidity\":0.2}},\"type\":\"barpolar\"}],\"bar\":[{\"error_x\":{\"color\":\"#2a3f5f\"},\"error_y\":{\"color\":\"#2a3f5f\"},\"marker\":{\"line\":{\"color\":\"white\",\"width\":0.5},\"pattern\":{\"fillmode\":\"overlay\",\"size\":10,\"solidity\":0.2}},\"type\":\"bar\"}],\"carpet\":[{\"aaxis\":{\"endlinecolor\":\"#2a3f5f\",\"gridcolor\":\"#C8D4E3\",\"linecolor\":\"#C8D4E3\",\"minorgridcolor\":\"#C8D4E3\",\"startlinecolor\":\"#2a3f5f\"},\"baxis\":{\"endlinecolor\":\"#2a3f5f\",\"gridcolor\":\"#C8D4E3\",\"linecolor\":\"#C8D4E3\",\"minorgridcolor\":\"#C8D4E3\",\"startlinecolor\":\"#2a3f5f\"},\"type\":\"carpet\"}],\"choropleth\":[{\"colorbar\":{\"outlinewidth\":0,\"ticks\":\"\"},\"type\":\"choropleth\"}],\"contourcarpet\":[{\"colorbar\":{\"outlinewidth\":0,\"ticks\":\"\"},\"type\":\"contourcarpet\"}],\"contour\":[{\"colorbar\":{\"outlinewidth\":0,\"ticks\":\"\"},\"colorscale\":[[0.0,\"#0d0887\"],[0.1111111111111111,\"#46039f\"],[0.2222222222222222,\"#7201a8\"],[0.3333333333333333,\"#9c179e\"],[0.4444444444444444,\"#bd3786\"],[0.5555555555555556,\"#d8576b\"],[0.6666666666666666,\"#ed7953\"],[0.7777777777777778,\"#fb9f3a\"],[0.8888888888888888,\"#fdca26\"],[1.0,\"#f0f921\"]],\"type\":\"contour\"}],\"heatmapgl\":[{\"colorbar\":{\"outlinewidth\":0,\"ticks\":\"\"},\"colorscale\":[[0.0,\"#0d0887\"],[0.1111111111111111,\"#46039f\"],[0.2222222222222222,\"#7201a8\"],[0.3333333333333333,\"#9c179e\"],[0.4444444444444444,\"#bd3786\"],[0.5555555555555556,\"#d8576b\"],[0.6666666666666666,\"#ed7953\"],[0.7777777777777778,\"#fb9f3a\"],[0.8888888888888888,\"#fdca26\"],[1.0,\"#f0f921\"]],\"type\":\"heatmapgl\"}],\"heatmap\":[{\"colorbar\":{\"outlinewidth\":0,\"ticks\":\"\"},\"colorscale\":[[0.0,\"#0d0887\"],[0.1111111111111111,\"#46039f\"],[0.2222222222222222,\"#7201a8\"],[0.3333333333333333,\"#9c179e\"],[0.4444444444444444,\"#bd3786\"],[0.5555555555555556,\"#d8576b\"],[0.6666666666666666,\"#ed7953\"],[0.7777777777777778,\"#fb9f3a\"],[0.8888888888888888,\"#fdca26\"],[1.0,\"#f0f921\"]],\"type\":\"heatmap\"}],\"histogram2dcontour\":[{\"colorbar\":{\"outlinewidth\":0,\"ticks\":\"\"},\"colorscale\":[[0.0,\"#0d0887\"],[0.1111111111111111,\"#46039f\"],[0.2222222222222222,\"#7201a8\"],[0.3333333333333333,\"#9c179e\"],[0.4444444444444444,\"#bd3786\"],[0.5555555555555556,\"#d8576b\"],[0.6666666666666666,\"#ed7953\"],[0.7777777777777778,\"#fb9f3a\"],[0.8888888888888888,\"#fdca26\"],[1.0,\"#f0f921\"]],\"type\":\"histogram2dcontour\"}],\"histogram2d\":[{\"colorbar\":{\"outlinewidth\":0,\"ticks\":\"\"},\"colorscale\":[[0.0,\"#0d0887\"],[0.1111111111111111,\"#46039f\"],[0.2222222222222222,\"#7201a8\"],[0.3333333333333333,\"#9c179e\"],[0.4444444444444444,\"#bd3786\"],[0.5555555555555556,\"#d8576b\"],[0.6666666666666666,\"#ed7953\"],[0.7777777777777778,\"#fb9f3a\"],[0.8888888888888888,\"#fdca26\"],[1.0,\"#f0f921\"]],\"type\":\"histogram2d\"}],\"histogram\":[{\"marker\":{\"pattern\":{\"fillmode\":\"overlay\",\"size\":10,\"solidity\":0.2}},\"type\":\"histogram\"}],\"mesh3d\":[{\"colorbar\":{\"outlinewidth\":0,\"ticks\":\"\"},\"type\":\"mesh3d\"}],\"parcoords\":[{\"line\":{\"colorbar\":{\"outlinewidth\":0,\"ticks\":\"\"}},\"type\":\"parcoords\"}],\"pie\":[{\"automargin\":true,\"type\":\"pie\"}],\"scatter3d\":[{\"line\":{\"colorbar\":{\"outlinewidth\":0,\"ticks\":\"\"}},\"marker\":{\"colorbar\":{\"outlinewidth\":0,\"ticks\":\"\"}},\"type\":\"scatter3d\"}],\"scattercarpet\":[{\"marker\":{\"colorbar\":{\"outlinewidth\":0,\"ticks\":\"\"}},\"type\":\"scattercarpet\"}],\"scattergeo\":[{\"marker\":{\"colorbar\":{\"outlinewidth\":0,\"ticks\":\"\"}},\"type\":\"scattergeo\"}],\"scattergl\":[{\"marker\":{\"colorbar\":{\"outlinewidth\":0,\"ticks\":\"\"}},\"type\":\"scattergl\"}],\"scattermapbox\":[{\"marker\":{\"colorbar\":{\"outlinewidth\":0,\"ticks\":\"\"}},\"type\":\"scattermapbox\"}],\"scatterpolargl\":[{\"marker\":{\"colorbar\":{\"outlinewidth\":0,\"ticks\":\"\"}},\"type\":\"scatterpolargl\"}],\"scatterpolar\":[{\"marker\":{\"colorbar\":{\"outlinewidth\":0,\"ticks\":\"\"}},\"type\":\"scatterpolar\"}],\"scatter\":[{\"fillpattern\":{\"fillmode\":\"overlay\",\"size\":10,\"solidity\":0.2},\"type\":\"scatter\"}],\"scatterternary\":[{\"marker\":{\"colorbar\":{\"outlinewidth\":0,\"ticks\":\"\"}},\"type\":\"scatterternary\"}],\"surface\":[{\"colorbar\":{\"outlinewidth\":0,\"ticks\":\"\"},\"colorscale\":[[0.0,\"#0d0887\"],[0.1111111111111111,\"#46039f\"],[0.2222222222222222,\"#7201a8\"],[0.3333333333333333,\"#9c179e\"],[0.4444444444444444,\"#bd3786\"],[0.5555555555555556,\"#d8576b\"],[0.6666666666666666,\"#ed7953\"],[0.7777777777777778,\"#fb9f3a\"],[0.8888888888888888,\"#fdca26\"],[1.0,\"#f0f921\"]],\"type\":\"surface\"}],\"table\":[{\"cells\":{\"fill\":{\"color\":\"#EBF0F8\"},\"line\":{\"color\":\"white\"}},\"header\":{\"fill\":{\"color\":\"#C8D4E3\"},\"line\":{\"color\":\"white\"}},\"type\":\"table\"}]},\"layout\":{\"annotationdefaults\":{\"arrowcolor\":\"#2a3f5f\",\"arrowhead\":0,\"arrowwidth\":1},\"autotypenumbers\":\"strict\",\"coloraxis\":{\"colorbar\":{\"outlinewidth\":0,\"ticks\":\"\"}},\"colorscale\":{\"diverging\":[[0,\"#8e0152\"],[0.1,\"#c51b7d\"],[0.2,\"#de77ae\"],[0.3,\"#f1b6da\"],[0.4,\"#fde0ef\"],[0.5,\"#f7f7f7\"],[0.6,\"#e6f5d0\"],[0.7,\"#b8e186\"],[0.8,\"#7fbc41\"],[0.9,\"#4d9221\"],[1,\"#276419\"]],\"sequential\":[[0.0,\"#0d0887\"],[0.1111111111111111,\"#46039f\"],[0.2222222222222222,\"#7201a8\"],[0.3333333333333333,\"#9c179e\"],[0.4444444444444444,\"#bd3786\"],[0.5555555555555556,\"#d8576b\"],[0.6666666666666666,\"#ed7953\"],[0.7777777777777778,\"#fb9f3a\"],[0.8888888888888888,\"#fdca26\"],[1.0,\"#f0f921\"]],\"sequentialminus\":[[0.0,\"#0d0887\"],[0.1111111111111111,\"#46039f\"],[0.2222222222222222,\"#7201a8\"],[0.3333333333333333,\"#9c179e\"],[0.4444444444444444,\"#bd3786\"],[0.5555555555555556,\"#d8576b\"],[0.6666666666666666,\"#ed7953\"],[0.7777777777777778,\"#fb9f3a\"],[0.8888888888888888,\"#fdca26\"],[1.0,\"#f0f921\"]]},\"colorway\":[\"#636efa\",\"#EF553B\",\"#00cc96\",\"#ab63fa\",\"#FFA15A\",\"#19d3f3\",\"#FF6692\",\"#B6E880\",\"#FF97FF\",\"#FECB52\"],\"font\":{\"color\":\"#2a3f5f\"},\"geo\":{\"bgcolor\":\"white\",\"lakecolor\":\"white\",\"landcolor\":\"white\",\"showlakes\":true,\"showland\":true,\"subunitcolor\":\"#C8D4E3\"},\"hoverlabel\":{\"align\":\"left\"},\"hovermode\":\"closest\",\"mapbox\":{\"style\":\"light\"},\"paper_bgcolor\":\"white\",\"plot_bgcolor\":\"white\",\"polar\":{\"angularaxis\":{\"gridcolor\":\"#EBF0F8\",\"linecolor\":\"#EBF0F8\",\"ticks\":\"\"},\"bgcolor\":\"white\",\"radialaxis\":{\"gridcolor\":\"#EBF0F8\",\"linecolor\":\"#EBF0F8\",\"ticks\":\"\"}},\"scene\":{\"xaxis\":{\"backgroundcolor\":\"white\",\"gridcolor\":\"#DFE8F3\",\"gridwidth\":2,\"linecolor\":\"#EBF0F8\",\"showbackground\":true,\"ticks\":\"\",\"zerolinecolor\":\"#EBF0F8\"},\"yaxis\":{\"backgroundcolor\":\"white\",\"gridcolor\":\"#DFE8F3\",\"gridwidth\":2,\"linecolor\":\"#EBF0F8\",\"showbackground\":true,\"ticks\":\"\",\"zerolinecolor\":\"#EBF0F8\"},\"zaxis\":{\"backgroundcolor\":\"white\",\"gridcolor\":\"#DFE8F3\",\"gridwidth\":2,\"linecolor\":\"#EBF0F8\",\"showbackground\":true,\"ticks\":\"\",\"zerolinecolor\":\"#EBF0F8\"}},\"shapedefaults\":{\"line\":{\"color\":\"#2a3f5f\"}},\"ternary\":{\"aaxis\":{\"gridcolor\":\"#DFE8F3\",\"linecolor\":\"#A2B1C6\",\"ticks\":\"\"},\"baxis\":{\"gridcolor\":\"#DFE8F3\",\"linecolor\":\"#A2B1C6\",\"ticks\":\"\"},\"bgcolor\":\"white\",\"caxis\":{\"gridcolor\":\"#DFE8F3\",\"linecolor\":\"#A2B1C6\",\"ticks\":\"\"}},\"title\":{\"x\":0.05},\"xaxis\":{\"automargin\":true,\"gridcolor\":\"#EBF0F8\",\"linecolor\":\"#EBF0F8\",\"ticks\":\"\",\"title\":{\"standoff\":15},\"zerolinecolor\":\"#EBF0F8\",\"zerolinewidth\":2},\"yaxis\":{\"automargin\":true,\"gridcolor\":\"#EBF0F8\",\"linecolor\":\"#EBF0F8\",\"ticks\":\"\",\"title\":{\"standoff\":15},\"zerolinecolor\":\"#EBF0F8\",\"zerolinewidth\":2}}},\"xaxis\":{\"anchor\":\"y\",\"domain\":[0.0,1.0],\"title\":{\"text\":\"Feature Importance\"},\"tickfont\":{\"size\":20},\"visible\":true,\"range\":[0,0.9]},\"yaxis\":{\"anchor\":\"x\",\"domain\":[0.0,1.0],\"title\":{\"text\":\"Feature\"},\"categoryorder\":\"total ascending\",\"tickfont\":{\"size\":20},\"automargin\":true,\"range\":[-1,54],\"dtick\":1},\"legend\":{\"tracegroupgap\":0},\"title\":{\"text\":\"FI of Top 10 Models on-task_vs_mw \\u003cbr \\u003e\\nAverage AUC 0.618 \\u003cbr\\u003e\\nBest AUC 0.624\\n                 \"},\"boxmode\":\"group\",\"font\":{\"family\":\"Times new roman\",\"size\":20,\"color\":\"black\"},\"margin\":{\"l\":50,\"r\":50,\"t\":150,\"b\":50},\"width\":650,\"height\":1100,\"showlegend\":true},                        {\"responsive\": true}                    ).then(function(){\n",
       "                            \n",
       "var gd = document.getElementById('7b53bb36-9580-4536-adb7-5e42ef022f8a');\n",
       "var x = new MutationObserver(function (mutations, observer) {{\n",
       "        var display = window.getComputedStyle(gd).display;\n",
       "        if (!display || display === 'none') {{\n",
       "            console.log([gd, 'removed!']);\n",
       "            Plotly.purge(gd);\n",
       "            observer.disconnect();\n",
       "        }}\n",
       "}});\n",
       "\n",
       "// Listen for the removal of the full notebook cells\n",
       "var notebookContainer = gd.closest('#notebook-container');\n",
       "if (notebookContainer) {{\n",
       "    x.observe(notebookContainer, {childList: true});\n",
       "}}\n",
       "\n",
       "// Listen for the clearing of the current output cell\n",
       "var outputEl = gd.closest('.output');\n",
       "if (outputEl) {{\n",
       "    x.observe(outputEl, {childList: true});\n",
       "}}\n",
       "\n",
       "                        })                };                });            </script>        </div>"
      ]
     },
     "metadata": {},
     "output_type": "display_data"
    },
    {
     "data": {
      "application/vnd.plotly.v1+json": {
       "config": {
        "plotlyServerURL": "https://plot.ly"
       },
       "data": [
        {
         "alignmentgroup": "True",
         "hovertemplate": "Importance=%{x}<br>Feature=%{y}<extra></extra>",
         "legendgroup": "",
         "marker": {
          "color": "#9AC529",
          "size": 8
         },
         "name": "",
         "notched": false,
         "offsetgroup": "",
         "orientation": "h",
         "showlegend": false,
         "type": "box",
         "x": [
          0,
          0,
          0,
          0.03571429,
          0.03846154,
          0.04761905,
          0.03125,
          0.03125,
          0,
          0.04315476,
          0.125,
          0.20833333,
          0.16666667,
          0.0634666,
          0.06831463,
          0.06347283,
          0.07964274,
          0.07964332,
          0.08333333,
          0.05557133,
          0,
          0,
          0,
          0,
          0,
          0,
          0,
          0,
          0,
          0,
          0,
          0,
          0,
          0,
          0,
          0,
          0,
          0,
          0,
          0,
          0.00925926,
          0.01136364,
          0.01041667,
          0,
          0,
          0.01190476,
          0.01428571,
          0.01428571,
          0.02,
          0.01190476,
          0.01851852,
          0.01136364,
          0.02083333,
          0.01136364,
          0,
          0.01190476,
          0.01428571,
          0.01428571,
          0.01,
          0.01190476,
          0.05925926,
          0.0530303,
          0.05208333,
          0.19886364,
          0.1875,
          0.15178571,
          0.19464286,
          0.19464286,
          0.34333333,
          0.15178571,
          0.06851852,
          0.0530303,
          0.05208333,
          0.07386364,
          0.0625,
          0.07440476,
          0.07678571,
          0.07678571,
          0.01,
          0.07440476,
          0,
          0,
          0,
          0,
          0,
          0,
          0,
          0,
          0,
          0,
          0.00925926,
          0.01136364,
          0.01041667,
          0,
          0,
          0,
          0,
          0,
          0,
          0,
          0,
          0,
          0,
          0,
          0,
          0.00595238,
          0.00714286,
          0.00714286,
          0,
          0.00595238,
          0.05,
          0.04166667,
          0.04166667,
          0.0625,
          0.05,
          0.0625,
          0.0625,
          0.0625,
          0.08333333,
          0.0625,
          0,
          0,
          0,
          0,
          0.02243207,
          0,
          0,
          0,
          0.03734508,
          0,
          0,
          0,
          0,
          0,
          0,
          0.00595238,
          0,
          0,
          0,
          0.00595238,
          0.04050926,
          0.01136364,
          0.01041667,
          0.02922078,
          0.03173077,
          0.02380952,
          0.03125,
          0.03125,
          0.04166667,
          0.02157738,
          0,
          0,
          0,
          0,
          0,
          0,
          0,
          0,
          0,
          0,
          0,
          0,
          0,
          0,
          0,
          0,
          0,
          0,
          0,
          0,
          0,
          0,
          0,
          0,
          0,
          0,
          0,
          0,
          0,
          0,
          0,
          0,
          0,
          0,
          0,
          0,
          0,
          0,
          0,
          0,
          0,
          0,
          0,
          0,
          0,
          0.00595238,
          0.00714286,
          0.00714286,
          0.01,
          0.00595238,
          0,
          0,
          0,
          0,
          0,
          0,
          0,
          0,
          0,
          0,
          0,
          0,
          0,
          0,
          0,
          0,
          0,
          0,
          0,
          0,
          0,
          0,
          0,
          0,
          0,
          0,
          0,
          0,
          0,
          0,
          0.00925926,
          0.01136364,
          0.01041667,
          0,
          0,
          0.00595238,
          0.00714286,
          0.00714286,
          0,
          0.00595238,
          0,
          0,
          0,
          0,
          0,
          0,
          0,
          0,
          0,
          0,
          0,
          0,
          0,
          0,
          0,
          0,
          0,
          0,
          0,
          0,
          0.01851852,
          0.01136364,
          0.02083333,
          0.06818182,
          0.075,
          0.03571429,
          0.03571429,
          0.03571429,
          0.06,
          0.05133929,
          0.125,
          0.125,
          0.125,
          0.125,
          0.125,
          0.08333333,
          0.125,
          0.125,
          0,
          0.08333333,
          0.03125,
          0.04166667,
          0.04166667,
          0.01785714,
          0.01923077,
          0.02380952,
          0.00714286,
          0.00714286,
          0,
          0.02157738,
          0,
          0,
          0,
          0,
          0,
          0,
          0,
          0,
          0,
          0,
          0.00925926,
          0.01136364,
          0.01041667,
          0,
          0,
          0.00595238,
          0.00714286,
          0.00714286,
          0.01,
          0.00595238,
          0.04976852,
          0.01136364,
          0.01041667,
          0,
          0,
          0.01190476,
          0.01428571,
          0.01428571,
          0,
          0.01190476,
          0.00925926,
          0,
          0,
          0,
          0,
          0,
          0,
          0,
          0,
          0,
          0.05,
          0.04166667,
          0.04166667,
          0.0625,
          0.05,
          0.06845238,
          0.0625,
          0.0625,
          0,
          0.06845238,
          0.01851852,
          0.02272727,
          0.02083333,
          0.01136364,
          0.0125,
          0.01190476,
          0.01428571,
          0.01428571,
          0.02,
          0.01190476,
          0,
          0,
          0,
          0,
          0,
          0.00595238,
          0.00714286,
          0.00714286,
          0,
          0.00595238,
          0,
          0,
          0,
          0,
          0,
          0,
          0,
          0,
          0,
          0,
          0,
          0,
          0.04166667,
          0.03571429,
          0.03846154,
          0.03571429,
          0.0625,
          0.0625,
          0.04166667,
          0.03125,
          0,
          0,
          0,
          0,
          0,
          0,
          0,
          0,
          0,
          0,
          0,
          0,
          0,
          0.00796198,
          0.00860844,
          0.00795575,
          0.01410726,
          0.01410668,
          0,
          0.00692867,
          0.05925926,
          0.0530303,
          0.05208333,
          0.02922078,
          0.0467987,
          0.02380952,
          0.00714286,
          0.00714286,
          0.09765492,
          0.02157738,
          0.00925926,
          0.01136364,
          0.01041667,
          0.01136364,
          0.0125,
          0.00595238,
          0.00714286,
          0.00714286,
          0.01,
          0.00595238,
          0.13425926,
          0.13636364,
          0.13541667,
          0.02272727,
          0.025,
          0.01785714,
          0.02142857,
          0.02142857,
          0.02,
          0.01785714,
          0,
          0,
          0,
          0,
          0,
          0,
          0,
          0,
          0,
          0,
          0.00925926,
          0.01136364,
          0.01041667,
          0.02272727,
          0.025,
          0.01190476,
          0.00714286,
          0.00714286,
          0.01,
          0.01190476,
          0.01851852,
          0.02272727,
          0.02083333,
          0.01136364,
          0.0125,
          0.01785714,
          0.02142857,
          0.02142857,
          0.01,
          0.03348214,
          0.04050926,
          0.0530303,
          0.05208333,
          0.06493506,
          0.05096154,
          0.05952381,
          0.03839286,
          0.03839286,
          0.05166667,
          0.05282738,
          0,
          0,
          0,
          0,
          0,
          0,
          0,
          0,
          0,
          0,
          0.02777778,
          0.03409091,
          0.03125,
          0.02272727,
          0.025,
          0.0952381,
          0.02142857,
          0.02142857,
          0.03,
          0.0952381,
          0,
          0,
          0,
          0,
          0,
          0,
          0,
          0,
          0,
          0,
          0,
          0,
          0,
          0,
          0,
          0.00595238,
          0,
          0,
          0,
          0.00595238,
          0,
          0,
          0,
          0,
          0,
          0,
          0,
          0,
          0,
          0,
          0,
          0,
          0,
          0.01136364,
          0.0125,
          0,
          0,
          0,
          0,
          0,
          0,
          0,
          0,
          0,
          0,
          0,
          0,
          0,
          0,
          0
         ],
         "x0": " ",
         "xaxis": "x",
         "y": [
          "wSMI_1_mean",
          "wSMI_1_mean",
          "wSMI_1_mean",
          "wSMI_1_mean",
          "wSMI_1_mean",
          "wSMI_1_mean",
          "wSMI_1_mean",
          "wSMI_1_mean",
          "wSMI_1_mean",
          "wSMI_1_mean",
          "wSMI_1_std",
          "wSMI_1_std",
          "wSMI_1_std",
          "wSMI_1_std",
          "wSMI_1_std",
          "wSMI_1_std",
          "wSMI_1_std",
          "wSMI_1_std",
          "wSMI_1_std",
          "wSMI_1_std",
          "wSMI_2_mean",
          "wSMI_2_mean",
          "wSMI_2_mean",
          "wSMI_2_mean",
          "wSMI_2_mean",
          "wSMI_2_mean",
          "wSMI_2_mean",
          "wSMI_2_mean",
          "wSMI_2_mean",
          "wSMI_2_mean",
          "wSMI_2_std",
          "wSMI_2_std",
          "wSMI_2_std",
          "wSMI_2_std",
          "wSMI_2_std",
          "wSMI_2_std",
          "wSMI_2_std",
          "wSMI_2_std",
          "wSMI_2_std",
          "wSMI_2_std",
          "wSMI_4_mean",
          "wSMI_4_mean",
          "wSMI_4_mean",
          "wSMI_4_mean",
          "wSMI_4_mean",
          "wSMI_4_mean",
          "wSMI_4_mean",
          "wSMI_4_mean",
          "wSMI_4_mean",
          "wSMI_4_mean",
          "wSMI_4_std",
          "wSMI_4_std",
          "wSMI_4_std",
          "wSMI_4_std",
          "wSMI_4_std",
          "wSMI_4_std",
          "wSMI_4_std",
          "wSMI_4_std",
          "wSMI_4_std",
          "wSMI_4_std",
          "wSMI_8_mean",
          "wSMI_8_mean",
          "wSMI_8_mean",
          "wSMI_8_mean",
          "wSMI_8_mean",
          "wSMI_8_mean",
          "wSMI_8_mean",
          "wSMI_8_mean",
          "wSMI_8_mean",
          "wSMI_8_mean",
          "wSMI_8_std",
          "wSMI_8_std",
          "wSMI_8_std",
          "wSMI_8_std",
          "wSMI_8_std",
          "wSMI_8_std",
          "wSMI_8_std",
          "wSMI_8_std",
          "wSMI_8_std",
          "wSMI_8_std",
          "p_e_1_mean",
          "p_e_1_mean",
          "p_e_1_mean",
          "p_e_1_mean",
          "p_e_1_mean",
          "p_e_1_mean",
          "p_e_1_mean",
          "p_e_1_mean",
          "p_e_1_mean",
          "p_e_1_mean",
          "p_e_1_std",
          "p_e_1_std",
          "p_e_1_std",
          "p_e_1_std",
          "p_e_1_std",
          "p_e_1_std",
          "p_e_1_std",
          "p_e_1_std",
          "p_e_1_std",
          "p_e_1_std",
          "p_e_2_mean",
          "p_e_2_mean",
          "p_e_2_mean",
          "p_e_2_mean",
          "p_e_2_mean",
          "p_e_2_mean",
          "p_e_2_mean",
          "p_e_2_mean",
          "p_e_2_mean",
          "p_e_2_mean",
          "p_e_2_std",
          "p_e_2_std",
          "p_e_2_std",
          "p_e_2_std",
          "p_e_2_std",
          "p_e_2_std",
          "p_e_2_std",
          "p_e_2_std",
          "p_e_2_std",
          "p_e_2_std",
          "p_e_4_mean",
          "p_e_4_mean",
          "p_e_4_mean",
          "p_e_4_mean",
          "p_e_4_mean",
          "p_e_4_mean",
          "p_e_4_mean",
          "p_e_4_mean",
          "p_e_4_mean",
          "p_e_4_mean",
          "p_e_4_std",
          "p_e_4_std",
          "p_e_4_std",
          "p_e_4_std",
          "p_e_4_std",
          "p_e_4_std",
          "p_e_4_std",
          "p_e_4_std",
          "p_e_4_std",
          "p_e_4_std",
          "p_e_8_mean",
          "p_e_8_mean",
          "p_e_8_mean",
          "p_e_8_mean",
          "p_e_8_mean",
          "p_e_8_mean",
          "p_e_8_mean",
          "p_e_8_mean",
          "p_e_8_mean",
          "p_e_8_mean",
          "p_e_8_std",
          "p_e_8_std",
          "p_e_8_std",
          "p_e_8_std",
          "p_e_8_std",
          "p_e_8_std",
          "p_e_8_std",
          "p_e_8_std",
          "p_e_8_std",
          "p_e_8_std",
          "k_mean",
          "k_mean",
          "k_mean",
          "k_mean",
          "k_mean",
          "k_mean",
          "k_mean",
          "k_mean",
          "k_mean",
          "k_mean",
          "k_std",
          "k_std",
          "k_std",
          "k_std",
          "k_std",
          "k_std",
          "k_std",
          "k_std",
          "k_std",
          "k_std",
          "se_mean",
          "se_mean",
          "se_mean",
          "se_mean",
          "se_mean",
          "se_mean",
          "se_mean",
          "se_mean",
          "se_mean",
          "se_mean",
          "se_std",
          "se_std",
          "se_std",
          "se_std",
          "se_std",
          "se_std",
          "se_std",
          "se_std",
          "se_std",
          "se_std",
          "msf_mean",
          "msf_mean",
          "msf_mean",
          "msf_mean",
          "msf_mean",
          "msf_mean",
          "msf_mean",
          "msf_mean",
          "msf_mean",
          "msf_mean",
          "msf_std",
          "msf_std",
          "msf_std",
          "msf_std",
          "msf_std",
          "msf_std",
          "msf_std",
          "msf_std",
          "msf_std",
          "msf_std",
          "sef90_mean",
          "sef90_mean",
          "sef90_mean",
          "sef90_mean",
          "sef90_mean",
          "sef90_mean",
          "sef90_mean",
          "sef90_mean",
          "sef90_mean",
          "sef90_mean",
          "sef90_std",
          "sef90_std",
          "sef90_std",
          "sef90_std",
          "sef90_std",
          "sef90_std",
          "sef90_std",
          "sef90_std",
          "sef90_std",
          "sef90_std",
          "sef95_mean",
          "sef95_mean",
          "sef95_mean",
          "sef95_mean",
          "sef95_mean",
          "sef95_mean",
          "sef95_mean",
          "sef95_mean",
          "sef95_mean",
          "sef95_mean",
          "sef95_std",
          "sef95_std",
          "sef95_std",
          "sef95_std",
          "sef95_std",
          "sef95_std",
          "sef95_std",
          "sef95_std",
          "sef95_std",
          "sef95_std",
          "b_mean",
          "b_mean",
          "b_mean",
          "b_mean",
          "b_mean",
          "b_mean",
          "b_mean",
          "b_mean",
          "b_mean",
          "b_mean",
          "b_std",
          "b_std",
          "b_std",
          "b_std",
          "b_std",
          "b_std",
          "b_std",
          "b_std",
          "b_std",
          "b_std",
          "b_n_mean",
          "b_n_mean",
          "b_n_mean",
          "b_n_mean",
          "b_n_mean",
          "b_n_mean",
          "b_n_mean",
          "b_n_mean",
          "b_n_mean",
          "b_n_mean",
          "b_n_std",
          "b_n_std",
          "b_n_std",
          "b_n_std",
          "b_n_std",
          "b_n_std",
          "b_n_std",
          "b_n_std",
          "b_n_std",
          "b_n_std",
          "g_mean",
          "g_mean",
          "g_mean",
          "g_mean",
          "g_mean",
          "g_mean",
          "g_mean",
          "g_mean",
          "g_mean",
          "g_mean",
          "g_std",
          "g_std",
          "g_std",
          "g_std",
          "g_std",
          "g_std",
          "g_std",
          "g_std",
          "g_std",
          "g_std",
          "g_n_mean",
          "g_n_mean",
          "g_n_mean",
          "g_n_mean",
          "g_n_mean",
          "g_n_mean",
          "g_n_mean",
          "g_n_mean",
          "g_n_mean",
          "g_n_mean",
          "g_n_std",
          "g_n_std",
          "g_n_std",
          "g_n_std",
          "g_n_std",
          "g_n_std",
          "g_n_std",
          "g_n_std",
          "g_n_std",
          "g_n_std",
          "t_mean",
          "t_mean",
          "t_mean",
          "t_mean",
          "t_mean",
          "t_mean",
          "t_mean",
          "t_mean",
          "t_mean",
          "t_mean",
          "t_std",
          "t_std",
          "t_std",
          "t_std",
          "t_std",
          "t_std",
          "t_std",
          "t_std",
          "t_std",
          "t_std",
          "t_n_mean",
          "t_n_mean",
          "t_n_mean",
          "t_n_mean",
          "t_n_mean",
          "t_n_mean",
          "t_n_mean",
          "t_n_mean",
          "t_n_mean",
          "t_n_mean",
          "t_n_std",
          "t_n_std",
          "t_n_std",
          "t_n_std",
          "t_n_std",
          "t_n_std",
          "t_n_std",
          "t_n_std",
          "t_n_std",
          "t_n_std",
          "d_mean",
          "d_mean",
          "d_mean",
          "d_mean",
          "d_mean",
          "d_mean",
          "d_mean",
          "d_mean",
          "d_mean",
          "d_mean",
          "d_std",
          "d_std",
          "d_std",
          "d_std",
          "d_std",
          "d_std",
          "d_std",
          "d_std",
          "d_std",
          "d_std",
          "d_n_mean",
          "d_n_mean",
          "d_n_mean",
          "d_n_mean",
          "d_n_mean",
          "d_n_mean",
          "d_n_mean",
          "d_n_mean",
          "d_n_mean",
          "d_n_mean",
          "d_n_std",
          "d_n_std",
          "d_n_std",
          "d_n_std",
          "d_n_std",
          "d_n_std",
          "d_n_std",
          "d_n_std",
          "d_n_std",
          "d_n_std",
          "a_n_mean",
          "a_n_mean",
          "a_n_mean",
          "a_n_mean",
          "a_n_mean",
          "a_n_mean",
          "a_n_mean",
          "a_n_mean",
          "a_n_mean",
          "a_n_mean",
          "a_n_std",
          "a_n_std",
          "a_n_std",
          "a_n_std",
          "a_n_std",
          "a_n_std",
          "a_n_std",
          "a_n_std",
          "a_n_std",
          "a_n_std",
          "a_mean",
          "a_mean",
          "a_mean",
          "a_mean",
          "a_mean",
          "a_mean",
          "a_mean",
          "a_mean",
          "a_mean",
          "a_mean",
          "a_std",
          "a_std",
          "a_std",
          "a_std",
          "a_std",
          "a_std",
          "a_std",
          "a_std",
          "a_std",
          "a_std",
          "CNV_mean",
          "CNV_mean",
          "CNV_mean",
          "CNV_mean",
          "CNV_mean",
          "CNV_mean",
          "CNV_mean",
          "CNV_mean",
          "CNV_mean",
          "CNV_mean",
          "CNV_std",
          "CNV_std",
          "CNV_std",
          "CNV_std",
          "CNV_std",
          "CNV_std",
          "CNV_std",
          "CNV_std",
          "CNV_std",
          "CNV_std",
          "P1_mean",
          "P1_mean",
          "P1_mean",
          "P1_mean",
          "P1_mean",
          "P1_mean",
          "P1_mean",
          "P1_mean",
          "P1_mean",
          "P1_mean",
          "P1_std",
          "P1_std",
          "P1_std",
          "P1_std",
          "P1_std",
          "P1_std",
          "P1_std",
          "P1_std",
          "P1_std",
          "P1_std",
          "P3a_mean",
          "P3a_mean",
          "P3a_mean",
          "P3a_mean",
          "P3a_mean",
          "P3a_mean",
          "P3a_mean",
          "P3a_mean",
          "P3a_mean",
          "P3a_mean",
          "P3a_std",
          "P3a_std",
          "P3a_std",
          "P3a_std",
          "P3a_std",
          "P3a_std",
          "P3a_std",
          "P3a_std",
          "P3a_std",
          "P3a_std",
          "P3b_mean",
          "P3b_mean",
          "P3b_mean",
          "P3b_mean",
          "P3b_mean",
          "P3b_mean",
          "P3b_mean",
          "P3b_mean",
          "P3b_mean",
          "P3b_mean",
          "P3b_std",
          "P3b_std",
          "P3b_std",
          "P3b_std",
          "P3b_std",
          "P3b_std",
          "P3b_std",
          "P3b_std",
          "P3b_std",
          "P3b_std"
         ],
         "y0": " ",
         "yaxis": "y"
        }
       ],
       "layout": {
        "boxmode": "group",
        "font": {
         "color": "black",
         "family": "Times new roman",
         "size": 20
        },
        "height": 1100,
        "legend": {
         "tracegroupgap": 0
        },
        "margin": {
         "b": 50,
         "l": 50,
         "r": 50,
         "t": 150
        },
        "showlegend": true,
        "template": {
         "data": {
          "bar": [
           {
            "error_x": {
             "color": "#2a3f5f"
            },
            "error_y": {
             "color": "#2a3f5f"
            },
            "marker": {
             "line": {
              "color": "white",
              "width": 0.5
             },
             "pattern": {
              "fillmode": "overlay",
              "size": 10,
              "solidity": 0.2
             }
            },
            "type": "bar"
           }
          ],
          "barpolar": [
           {
            "marker": {
             "line": {
              "color": "white",
              "width": 0.5
             },
             "pattern": {
              "fillmode": "overlay",
              "size": 10,
              "solidity": 0.2
             }
            },
            "type": "barpolar"
           }
          ],
          "carpet": [
           {
            "aaxis": {
             "endlinecolor": "#2a3f5f",
             "gridcolor": "#C8D4E3",
             "linecolor": "#C8D4E3",
             "minorgridcolor": "#C8D4E3",
             "startlinecolor": "#2a3f5f"
            },
            "baxis": {
             "endlinecolor": "#2a3f5f",
             "gridcolor": "#C8D4E3",
             "linecolor": "#C8D4E3",
             "minorgridcolor": "#C8D4E3",
             "startlinecolor": "#2a3f5f"
            },
            "type": "carpet"
           }
          ],
          "choropleth": [
           {
            "colorbar": {
             "outlinewidth": 0,
             "ticks": ""
            },
            "type": "choropleth"
           }
          ],
          "contour": [
           {
            "colorbar": {
             "outlinewidth": 0,
             "ticks": ""
            },
            "colorscale": [
             [
              0,
              "#0d0887"
             ],
             [
              0.1111111111111111,
              "#46039f"
             ],
             [
              0.2222222222222222,
              "#7201a8"
             ],
             [
              0.3333333333333333,
              "#9c179e"
             ],
             [
              0.4444444444444444,
              "#bd3786"
             ],
             [
              0.5555555555555556,
              "#d8576b"
             ],
             [
              0.6666666666666666,
              "#ed7953"
             ],
             [
              0.7777777777777778,
              "#fb9f3a"
             ],
             [
              0.8888888888888888,
              "#fdca26"
             ],
             [
              1,
              "#f0f921"
             ]
            ],
            "type": "contour"
           }
          ],
          "contourcarpet": [
           {
            "colorbar": {
             "outlinewidth": 0,
             "ticks": ""
            },
            "type": "contourcarpet"
           }
          ],
          "heatmap": [
           {
            "colorbar": {
             "outlinewidth": 0,
             "ticks": ""
            },
            "colorscale": [
             [
              0,
              "#0d0887"
             ],
             [
              0.1111111111111111,
              "#46039f"
             ],
             [
              0.2222222222222222,
              "#7201a8"
             ],
             [
              0.3333333333333333,
              "#9c179e"
             ],
             [
              0.4444444444444444,
              "#bd3786"
             ],
             [
              0.5555555555555556,
              "#d8576b"
             ],
             [
              0.6666666666666666,
              "#ed7953"
             ],
             [
              0.7777777777777778,
              "#fb9f3a"
             ],
             [
              0.8888888888888888,
              "#fdca26"
             ],
             [
              1,
              "#f0f921"
             ]
            ],
            "type": "heatmap"
           }
          ],
          "heatmapgl": [
           {
            "colorbar": {
             "outlinewidth": 0,
             "ticks": ""
            },
            "colorscale": [
             [
              0,
              "#0d0887"
             ],
             [
              0.1111111111111111,
              "#46039f"
             ],
             [
              0.2222222222222222,
              "#7201a8"
             ],
             [
              0.3333333333333333,
              "#9c179e"
             ],
             [
              0.4444444444444444,
              "#bd3786"
             ],
             [
              0.5555555555555556,
              "#d8576b"
             ],
             [
              0.6666666666666666,
              "#ed7953"
             ],
             [
              0.7777777777777778,
              "#fb9f3a"
             ],
             [
              0.8888888888888888,
              "#fdca26"
             ],
             [
              1,
              "#f0f921"
             ]
            ],
            "type": "heatmapgl"
           }
          ],
          "histogram": [
           {
            "marker": {
             "pattern": {
              "fillmode": "overlay",
              "size": 10,
              "solidity": 0.2
             }
            },
            "type": "histogram"
           }
          ],
          "histogram2d": [
           {
            "colorbar": {
             "outlinewidth": 0,
             "ticks": ""
            },
            "colorscale": [
             [
              0,
              "#0d0887"
             ],
             [
              0.1111111111111111,
              "#46039f"
             ],
             [
              0.2222222222222222,
              "#7201a8"
             ],
             [
              0.3333333333333333,
              "#9c179e"
             ],
             [
              0.4444444444444444,
              "#bd3786"
             ],
             [
              0.5555555555555556,
              "#d8576b"
             ],
             [
              0.6666666666666666,
              "#ed7953"
             ],
             [
              0.7777777777777778,
              "#fb9f3a"
             ],
             [
              0.8888888888888888,
              "#fdca26"
             ],
             [
              1,
              "#f0f921"
             ]
            ],
            "type": "histogram2d"
           }
          ],
          "histogram2dcontour": [
           {
            "colorbar": {
             "outlinewidth": 0,
             "ticks": ""
            },
            "colorscale": [
             [
              0,
              "#0d0887"
             ],
             [
              0.1111111111111111,
              "#46039f"
             ],
             [
              0.2222222222222222,
              "#7201a8"
             ],
             [
              0.3333333333333333,
              "#9c179e"
             ],
             [
              0.4444444444444444,
              "#bd3786"
             ],
             [
              0.5555555555555556,
              "#d8576b"
             ],
             [
              0.6666666666666666,
              "#ed7953"
             ],
             [
              0.7777777777777778,
              "#fb9f3a"
             ],
             [
              0.8888888888888888,
              "#fdca26"
             ],
             [
              1,
              "#f0f921"
             ]
            ],
            "type": "histogram2dcontour"
           }
          ],
          "mesh3d": [
           {
            "colorbar": {
             "outlinewidth": 0,
             "ticks": ""
            },
            "type": "mesh3d"
           }
          ],
          "parcoords": [
           {
            "line": {
             "colorbar": {
              "outlinewidth": 0,
              "ticks": ""
             }
            },
            "type": "parcoords"
           }
          ],
          "pie": [
           {
            "automargin": true,
            "type": "pie"
           }
          ],
          "scatter": [
           {
            "fillpattern": {
             "fillmode": "overlay",
             "size": 10,
             "solidity": 0.2
            },
            "type": "scatter"
           }
          ],
          "scatter3d": [
           {
            "line": {
             "colorbar": {
              "outlinewidth": 0,
              "ticks": ""
             }
            },
            "marker": {
             "colorbar": {
              "outlinewidth": 0,
              "ticks": ""
             }
            },
            "type": "scatter3d"
           }
          ],
          "scattercarpet": [
           {
            "marker": {
             "colorbar": {
              "outlinewidth": 0,
              "ticks": ""
             }
            },
            "type": "scattercarpet"
           }
          ],
          "scattergeo": [
           {
            "marker": {
             "colorbar": {
              "outlinewidth": 0,
              "ticks": ""
             }
            },
            "type": "scattergeo"
           }
          ],
          "scattergl": [
           {
            "marker": {
             "colorbar": {
              "outlinewidth": 0,
              "ticks": ""
             }
            },
            "type": "scattergl"
           }
          ],
          "scattermapbox": [
           {
            "marker": {
             "colorbar": {
              "outlinewidth": 0,
              "ticks": ""
             }
            },
            "type": "scattermapbox"
           }
          ],
          "scatterpolar": [
           {
            "marker": {
             "colorbar": {
              "outlinewidth": 0,
              "ticks": ""
             }
            },
            "type": "scatterpolar"
           }
          ],
          "scatterpolargl": [
           {
            "marker": {
             "colorbar": {
              "outlinewidth": 0,
              "ticks": ""
             }
            },
            "type": "scatterpolargl"
           }
          ],
          "scatterternary": [
           {
            "marker": {
             "colorbar": {
              "outlinewidth": 0,
              "ticks": ""
             }
            },
            "type": "scatterternary"
           }
          ],
          "surface": [
           {
            "colorbar": {
             "outlinewidth": 0,
             "ticks": ""
            },
            "colorscale": [
             [
              0,
              "#0d0887"
             ],
             [
              0.1111111111111111,
              "#46039f"
             ],
             [
              0.2222222222222222,
              "#7201a8"
             ],
             [
              0.3333333333333333,
              "#9c179e"
             ],
             [
              0.4444444444444444,
              "#bd3786"
             ],
             [
              0.5555555555555556,
              "#d8576b"
             ],
             [
              0.6666666666666666,
              "#ed7953"
             ],
             [
              0.7777777777777778,
              "#fb9f3a"
             ],
             [
              0.8888888888888888,
              "#fdca26"
             ],
             [
              1,
              "#f0f921"
             ]
            ],
            "type": "surface"
           }
          ],
          "table": [
           {
            "cells": {
             "fill": {
              "color": "#EBF0F8"
             },
             "line": {
              "color": "white"
             }
            },
            "header": {
             "fill": {
              "color": "#C8D4E3"
             },
             "line": {
              "color": "white"
             }
            },
            "type": "table"
           }
          ]
         },
         "layout": {
          "annotationdefaults": {
           "arrowcolor": "#2a3f5f",
           "arrowhead": 0,
           "arrowwidth": 1
          },
          "autotypenumbers": "strict",
          "coloraxis": {
           "colorbar": {
            "outlinewidth": 0,
            "ticks": ""
           }
          },
          "colorscale": {
           "diverging": [
            [
             0,
             "#8e0152"
            ],
            [
             0.1,
             "#c51b7d"
            ],
            [
             0.2,
             "#de77ae"
            ],
            [
             0.3,
             "#f1b6da"
            ],
            [
             0.4,
             "#fde0ef"
            ],
            [
             0.5,
             "#f7f7f7"
            ],
            [
             0.6,
             "#e6f5d0"
            ],
            [
             0.7,
             "#b8e186"
            ],
            [
             0.8,
             "#7fbc41"
            ],
            [
             0.9,
             "#4d9221"
            ],
            [
             1,
             "#276419"
            ]
           ],
           "sequential": [
            [
             0,
             "#0d0887"
            ],
            [
             0.1111111111111111,
             "#46039f"
            ],
            [
             0.2222222222222222,
             "#7201a8"
            ],
            [
             0.3333333333333333,
             "#9c179e"
            ],
            [
             0.4444444444444444,
             "#bd3786"
            ],
            [
             0.5555555555555556,
             "#d8576b"
            ],
            [
             0.6666666666666666,
             "#ed7953"
            ],
            [
             0.7777777777777778,
             "#fb9f3a"
            ],
            [
             0.8888888888888888,
             "#fdca26"
            ],
            [
             1,
             "#f0f921"
            ]
           ],
           "sequentialminus": [
            [
             0,
             "#0d0887"
            ],
            [
             0.1111111111111111,
             "#46039f"
            ],
            [
             0.2222222222222222,
             "#7201a8"
            ],
            [
             0.3333333333333333,
             "#9c179e"
            ],
            [
             0.4444444444444444,
             "#bd3786"
            ],
            [
             0.5555555555555556,
             "#d8576b"
            ],
            [
             0.6666666666666666,
             "#ed7953"
            ],
            [
             0.7777777777777778,
             "#fb9f3a"
            ],
            [
             0.8888888888888888,
             "#fdca26"
            ],
            [
             1,
             "#f0f921"
            ]
           ]
          },
          "colorway": [
           "#636efa",
           "#EF553B",
           "#00cc96",
           "#ab63fa",
           "#FFA15A",
           "#19d3f3",
           "#FF6692",
           "#B6E880",
           "#FF97FF",
           "#FECB52"
          ],
          "font": {
           "color": "#2a3f5f"
          },
          "geo": {
           "bgcolor": "white",
           "lakecolor": "white",
           "landcolor": "white",
           "showlakes": true,
           "showland": true,
           "subunitcolor": "#C8D4E3"
          },
          "hoverlabel": {
           "align": "left"
          },
          "hovermode": "closest",
          "mapbox": {
           "style": "light"
          },
          "paper_bgcolor": "white",
          "plot_bgcolor": "white",
          "polar": {
           "angularaxis": {
            "gridcolor": "#EBF0F8",
            "linecolor": "#EBF0F8",
            "ticks": ""
           },
           "bgcolor": "white",
           "radialaxis": {
            "gridcolor": "#EBF0F8",
            "linecolor": "#EBF0F8",
            "ticks": ""
           }
          },
          "scene": {
           "xaxis": {
            "backgroundcolor": "white",
            "gridcolor": "#DFE8F3",
            "gridwidth": 2,
            "linecolor": "#EBF0F8",
            "showbackground": true,
            "ticks": "",
            "zerolinecolor": "#EBF0F8"
           },
           "yaxis": {
            "backgroundcolor": "white",
            "gridcolor": "#DFE8F3",
            "gridwidth": 2,
            "linecolor": "#EBF0F8",
            "showbackground": true,
            "ticks": "",
            "zerolinecolor": "#EBF0F8"
           },
           "zaxis": {
            "backgroundcolor": "white",
            "gridcolor": "#DFE8F3",
            "gridwidth": 2,
            "linecolor": "#EBF0F8",
            "showbackground": true,
            "ticks": "",
            "zerolinecolor": "#EBF0F8"
           }
          },
          "shapedefaults": {
           "line": {
            "color": "#2a3f5f"
           }
          },
          "ternary": {
           "aaxis": {
            "gridcolor": "#DFE8F3",
            "linecolor": "#A2B1C6",
            "ticks": ""
           },
           "baxis": {
            "gridcolor": "#DFE8F3",
            "linecolor": "#A2B1C6",
            "ticks": ""
           },
           "bgcolor": "white",
           "caxis": {
            "gridcolor": "#DFE8F3",
            "linecolor": "#A2B1C6",
            "ticks": ""
           }
          },
          "title": {
           "x": 0.05
          },
          "xaxis": {
           "automargin": true,
           "gridcolor": "#EBF0F8",
           "linecolor": "#EBF0F8",
           "ticks": "",
           "title": {
            "standoff": 15
           },
           "zerolinecolor": "#EBF0F8",
           "zerolinewidth": 2
          },
          "yaxis": {
           "automargin": true,
           "gridcolor": "#EBF0F8",
           "linecolor": "#EBF0F8",
           "ticks": "",
           "title": {
            "standoff": 15
           },
           "zerolinecolor": "#EBF0F8",
           "zerolinewidth": 2
          }
         }
        },
        "title": {
         "text": "FI of Top 10 Models on-task_vs_dMW <br >\nAverage AUC 0.578 <br>\nBest AUC 0.582\n                 "
        },
        "width": 650,
        "xaxis": {
         "anchor": "y",
         "domain": [
          0,
          1
         ],
         "range": [
          0,
          0.9
         ],
         "tickfont": {
          "size": 20
         },
         "title": {
          "text": "Feature Importance"
         },
         "visible": true
        },
        "yaxis": {
         "anchor": "x",
         "automargin": true,
         "categoryorder": "total ascending",
         "domain": [
          0,
          1
         ],
         "dtick": 1,
         "range": [
          -1,
          54
         ],
         "tickfont": {
          "size": 20
         },
         "title": {
          "text": "Feature"
         }
        }
       }
      },
      "text/html": [
       "<div>                            <div id=\"8a67ac6c-444a-45cc-a85b-90523ffc62c7\" class=\"plotly-graph-div\" style=\"height:1100px; width:650px;\"></div>            <script type=\"text/javascript\">                require([\"plotly\"], function(Plotly) {                    window.PLOTLYENV=window.PLOTLYENV || {};                                    if (document.getElementById(\"8a67ac6c-444a-45cc-a85b-90523ffc62c7\")) {                    Plotly.newPlot(                        \"8a67ac6c-444a-45cc-a85b-90523ffc62c7\",                        [{\"alignmentgroup\":\"True\",\"hovertemplate\":\"Importance=%{x}\\u003cbr\\u003eFeature=%{y}\\u003cextra\\u003e\\u003c\\u002fextra\\u003e\",\"legendgroup\":\"\",\"marker\":{\"color\":\"#9AC529\",\"size\":8},\"name\":\"\",\"notched\":false,\"offsetgroup\":\"\",\"orientation\":\"h\",\"showlegend\":false,\"x\":[0.0,0.0,0.0,0.03571429,0.03846154,0.04761905,0.03125,0.03125,0.0,0.04315476,0.125,0.20833333,0.16666667,0.0634666,0.06831463,0.06347283,0.07964274,0.07964332,0.08333333,0.05557133,0.0,0.0,0.0,0.0,0.0,0.0,0.0,0.0,0.0,0.0,0.0,0.0,0.0,0.0,0.0,0.0,0.0,0.0,0.0,0.0,0.00925926,0.01136364,0.01041667,0.0,0.0,0.01190476,0.01428571,0.01428571,0.02,0.01190476,0.01851852,0.01136364,0.02083333,0.01136364,0.0,0.01190476,0.01428571,0.01428571,0.01,0.01190476,0.05925926,0.0530303,0.05208333,0.19886364,0.1875,0.15178571,0.19464286,0.19464286,0.34333333,0.15178571,0.06851852,0.0530303,0.05208333,0.07386364,0.0625,0.07440476,0.07678571,0.07678571,0.01,0.07440476,0.0,0.0,0.0,0.0,0.0,0.0,0.0,0.0,0.0,0.0,0.00925926,0.01136364,0.01041667,0.0,0.0,0.0,0.0,0.0,0.0,0.0,0.0,0.0,0.0,0.0,0.0,0.00595238,0.00714286,0.00714286,0.0,0.00595238,0.05,0.04166667,0.04166667,0.0625,0.05,0.0625,0.0625,0.0625,0.08333333,0.0625,0.0,0.0,0.0,0.0,0.02243207,0.0,0.0,0.0,0.03734508,0.0,0.0,0.0,0.0,0.0,0.0,0.00595238,0.0,0.0,0.0,0.00595238,0.04050926,0.01136364,0.01041667,0.02922078,0.03173077,0.02380952,0.03125,0.03125,0.04166667,0.02157738,0.0,0.0,0.0,0.0,0.0,0.0,0.0,0.0,0.0,0.0,0.0,0.0,0.0,0.0,0.0,0.0,0.0,0.0,0.0,0.0,0.0,0.0,0.0,0.0,0.0,0.0,0.0,0.0,0.0,0.0,0.0,0.0,0.0,0.0,0.0,0.0,0.0,0.0,0.0,0.0,0.0,0.0,0.0,0.0,0.0,0.00595238,0.00714286,0.00714286,0.01,0.00595238,0.0,0.0,0.0,0.0,0.0,0.0,0.0,0.0,0.0,0.0,0.0,0.0,0.0,0.0,0.0,0.0,0.0,0.0,0.0,0.0,0.0,0.0,0.0,0.0,0.0,0.0,0.0,0.0,0.0,0.0,0.00925926,0.01136364,0.01041667,0.0,0.0,0.00595238,0.00714286,0.00714286,0.0,0.00595238,0.0,0.0,0.0,0.0,0.0,0.0,0.0,0.0,0.0,0.0,0.0,0.0,0.0,0.0,0.0,0.0,0.0,0.0,0.0,0.0,0.01851852,0.01136364,0.02083333,0.06818182,0.075,0.03571429,0.03571429,0.03571429,0.06,0.05133929,0.125,0.125,0.125,0.125,0.125,0.08333333,0.125,0.125,0.0,0.08333333,0.03125,0.04166667,0.04166667,0.01785714,0.01923077,0.02380952,0.00714286,0.00714286,0.0,0.02157738,0.0,0.0,0.0,0.0,0.0,0.0,0.0,0.0,0.0,0.0,0.00925926,0.01136364,0.01041667,0.0,0.0,0.00595238,0.00714286,0.00714286,0.01,0.00595238,0.04976852,0.01136364,0.01041667,0.0,0.0,0.01190476,0.01428571,0.01428571,0.0,0.01190476,0.00925926,0.0,0.0,0.0,0.0,0.0,0.0,0.0,0.0,0.0,0.05,0.04166667,0.04166667,0.0625,0.05,0.06845238,0.0625,0.0625,0.0,0.06845238,0.01851852,0.02272727,0.02083333,0.01136364,0.0125,0.01190476,0.01428571,0.01428571,0.02,0.01190476,0.0,0.0,0.0,0.0,0.0,0.00595238,0.00714286,0.00714286,0.0,0.00595238,0.0,0.0,0.0,0.0,0.0,0.0,0.0,0.0,0.0,0.0,0.0,0.0,0.04166667,0.03571429,0.03846154,0.03571429,0.0625,0.0625,0.04166667,0.03125,0.0,0.0,0.0,0.0,0.0,0.0,0.0,0.0,0.0,0.0,0.0,0.0,0.0,0.00796198,0.00860844,0.00795575,0.01410726,0.01410668,0.0,0.00692867,0.05925926,0.0530303,0.05208333,0.02922078,0.0467987,0.02380952,0.00714286,0.00714286,0.09765492,0.02157738,0.00925926,0.01136364,0.01041667,0.01136364,0.0125,0.00595238,0.00714286,0.00714286,0.01,0.00595238,0.13425926,0.13636364,0.13541667,0.02272727,0.025,0.01785714,0.02142857,0.02142857,0.02,0.01785714,0.0,0.0,0.0,0.0,0.0,0.0,0.0,0.0,0.0,0.0,0.00925926,0.01136364,0.01041667,0.02272727,0.025,0.01190476,0.00714286,0.00714286,0.01,0.01190476,0.01851852,0.02272727,0.02083333,0.01136364,0.0125,0.01785714,0.02142857,0.02142857,0.01,0.03348214,0.04050926,0.0530303,0.05208333,0.06493506,0.05096154,0.05952381,0.03839286,0.03839286,0.05166667,0.05282738,0.0,0.0,0.0,0.0,0.0,0.0,0.0,0.0,0.0,0.0,0.02777778,0.03409091,0.03125,0.02272727,0.025,0.0952381,0.02142857,0.02142857,0.03,0.0952381,0.0,0.0,0.0,0.0,0.0,0.0,0.0,0.0,0.0,0.0,0.0,0.0,0.0,0.0,0.0,0.00595238,0.0,0.0,0.0,0.00595238,0.0,0.0,0.0,0.0,0.0,0.0,0.0,0.0,0.0,0.0,0.0,0.0,0.0,0.01136364,0.0125,0.0,0.0,0.0,0.0,0.0,0.0,0.0,0.0,0.0,0.0,0.0,0.0,0.0,0.0,0.0],\"x0\":\" \",\"xaxis\":\"x\",\"y\":[\"wSMI_1_mean\",\"wSMI_1_mean\",\"wSMI_1_mean\",\"wSMI_1_mean\",\"wSMI_1_mean\",\"wSMI_1_mean\",\"wSMI_1_mean\",\"wSMI_1_mean\",\"wSMI_1_mean\",\"wSMI_1_mean\",\"wSMI_1_std\",\"wSMI_1_std\",\"wSMI_1_std\",\"wSMI_1_std\",\"wSMI_1_std\",\"wSMI_1_std\",\"wSMI_1_std\",\"wSMI_1_std\",\"wSMI_1_std\",\"wSMI_1_std\",\"wSMI_2_mean\",\"wSMI_2_mean\",\"wSMI_2_mean\",\"wSMI_2_mean\",\"wSMI_2_mean\",\"wSMI_2_mean\",\"wSMI_2_mean\",\"wSMI_2_mean\",\"wSMI_2_mean\",\"wSMI_2_mean\",\"wSMI_2_std\",\"wSMI_2_std\",\"wSMI_2_std\",\"wSMI_2_std\",\"wSMI_2_std\",\"wSMI_2_std\",\"wSMI_2_std\",\"wSMI_2_std\",\"wSMI_2_std\",\"wSMI_2_std\",\"wSMI_4_mean\",\"wSMI_4_mean\",\"wSMI_4_mean\",\"wSMI_4_mean\",\"wSMI_4_mean\",\"wSMI_4_mean\",\"wSMI_4_mean\",\"wSMI_4_mean\",\"wSMI_4_mean\",\"wSMI_4_mean\",\"wSMI_4_std\",\"wSMI_4_std\",\"wSMI_4_std\",\"wSMI_4_std\",\"wSMI_4_std\",\"wSMI_4_std\",\"wSMI_4_std\",\"wSMI_4_std\",\"wSMI_4_std\",\"wSMI_4_std\",\"wSMI_8_mean\",\"wSMI_8_mean\",\"wSMI_8_mean\",\"wSMI_8_mean\",\"wSMI_8_mean\",\"wSMI_8_mean\",\"wSMI_8_mean\",\"wSMI_8_mean\",\"wSMI_8_mean\",\"wSMI_8_mean\",\"wSMI_8_std\",\"wSMI_8_std\",\"wSMI_8_std\",\"wSMI_8_std\",\"wSMI_8_std\",\"wSMI_8_std\",\"wSMI_8_std\",\"wSMI_8_std\",\"wSMI_8_std\",\"wSMI_8_std\",\"p_e_1_mean\",\"p_e_1_mean\",\"p_e_1_mean\",\"p_e_1_mean\",\"p_e_1_mean\",\"p_e_1_mean\",\"p_e_1_mean\",\"p_e_1_mean\",\"p_e_1_mean\",\"p_e_1_mean\",\"p_e_1_std\",\"p_e_1_std\",\"p_e_1_std\",\"p_e_1_std\",\"p_e_1_std\",\"p_e_1_std\",\"p_e_1_std\",\"p_e_1_std\",\"p_e_1_std\",\"p_e_1_std\",\"p_e_2_mean\",\"p_e_2_mean\",\"p_e_2_mean\",\"p_e_2_mean\",\"p_e_2_mean\",\"p_e_2_mean\",\"p_e_2_mean\",\"p_e_2_mean\",\"p_e_2_mean\",\"p_e_2_mean\",\"p_e_2_std\",\"p_e_2_std\",\"p_e_2_std\",\"p_e_2_std\",\"p_e_2_std\",\"p_e_2_std\",\"p_e_2_std\",\"p_e_2_std\",\"p_e_2_std\",\"p_e_2_std\",\"p_e_4_mean\",\"p_e_4_mean\",\"p_e_4_mean\",\"p_e_4_mean\",\"p_e_4_mean\",\"p_e_4_mean\",\"p_e_4_mean\",\"p_e_4_mean\",\"p_e_4_mean\",\"p_e_4_mean\",\"p_e_4_std\",\"p_e_4_std\",\"p_e_4_std\",\"p_e_4_std\",\"p_e_4_std\",\"p_e_4_std\",\"p_e_4_std\",\"p_e_4_std\",\"p_e_4_std\",\"p_e_4_std\",\"p_e_8_mean\",\"p_e_8_mean\",\"p_e_8_mean\",\"p_e_8_mean\",\"p_e_8_mean\",\"p_e_8_mean\",\"p_e_8_mean\",\"p_e_8_mean\",\"p_e_8_mean\",\"p_e_8_mean\",\"p_e_8_std\",\"p_e_8_std\",\"p_e_8_std\",\"p_e_8_std\",\"p_e_8_std\",\"p_e_8_std\",\"p_e_8_std\",\"p_e_8_std\",\"p_e_8_std\",\"p_e_8_std\",\"k_mean\",\"k_mean\",\"k_mean\",\"k_mean\",\"k_mean\",\"k_mean\",\"k_mean\",\"k_mean\",\"k_mean\",\"k_mean\",\"k_std\",\"k_std\",\"k_std\",\"k_std\",\"k_std\",\"k_std\",\"k_std\",\"k_std\",\"k_std\",\"k_std\",\"se_mean\",\"se_mean\",\"se_mean\",\"se_mean\",\"se_mean\",\"se_mean\",\"se_mean\",\"se_mean\",\"se_mean\",\"se_mean\",\"se_std\",\"se_std\",\"se_std\",\"se_std\",\"se_std\",\"se_std\",\"se_std\",\"se_std\",\"se_std\",\"se_std\",\"msf_mean\",\"msf_mean\",\"msf_mean\",\"msf_mean\",\"msf_mean\",\"msf_mean\",\"msf_mean\",\"msf_mean\",\"msf_mean\",\"msf_mean\",\"msf_std\",\"msf_std\",\"msf_std\",\"msf_std\",\"msf_std\",\"msf_std\",\"msf_std\",\"msf_std\",\"msf_std\",\"msf_std\",\"sef90_mean\",\"sef90_mean\",\"sef90_mean\",\"sef90_mean\",\"sef90_mean\",\"sef90_mean\",\"sef90_mean\",\"sef90_mean\",\"sef90_mean\",\"sef90_mean\",\"sef90_std\",\"sef90_std\",\"sef90_std\",\"sef90_std\",\"sef90_std\",\"sef90_std\",\"sef90_std\",\"sef90_std\",\"sef90_std\",\"sef90_std\",\"sef95_mean\",\"sef95_mean\",\"sef95_mean\",\"sef95_mean\",\"sef95_mean\",\"sef95_mean\",\"sef95_mean\",\"sef95_mean\",\"sef95_mean\",\"sef95_mean\",\"sef95_std\",\"sef95_std\",\"sef95_std\",\"sef95_std\",\"sef95_std\",\"sef95_std\",\"sef95_std\",\"sef95_std\",\"sef95_std\",\"sef95_std\",\"b_mean\",\"b_mean\",\"b_mean\",\"b_mean\",\"b_mean\",\"b_mean\",\"b_mean\",\"b_mean\",\"b_mean\",\"b_mean\",\"b_std\",\"b_std\",\"b_std\",\"b_std\",\"b_std\",\"b_std\",\"b_std\",\"b_std\",\"b_std\",\"b_std\",\"b_n_mean\",\"b_n_mean\",\"b_n_mean\",\"b_n_mean\",\"b_n_mean\",\"b_n_mean\",\"b_n_mean\",\"b_n_mean\",\"b_n_mean\",\"b_n_mean\",\"b_n_std\",\"b_n_std\",\"b_n_std\",\"b_n_std\",\"b_n_std\",\"b_n_std\",\"b_n_std\",\"b_n_std\",\"b_n_std\",\"b_n_std\",\"g_mean\",\"g_mean\",\"g_mean\",\"g_mean\",\"g_mean\",\"g_mean\",\"g_mean\",\"g_mean\",\"g_mean\",\"g_mean\",\"g_std\",\"g_std\",\"g_std\",\"g_std\",\"g_std\",\"g_std\",\"g_std\",\"g_std\",\"g_std\",\"g_std\",\"g_n_mean\",\"g_n_mean\",\"g_n_mean\",\"g_n_mean\",\"g_n_mean\",\"g_n_mean\",\"g_n_mean\",\"g_n_mean\",\"g_n_mean\",\"g_n_mean\",\"g_n_std\",\"g_n_std\",\"g_n_std\",\"g_n_std\",\"g_n_std\",\"g_n_std\",\"g_n_std\",\"g_n_std\",\"g_n_std\",\"g_n_std\",\"t_mean\",\"t_mean\",\"t_mean\",\"t_mean\",\"t_mean\",\"t_mean\",\"t_mean\",\"t_mean\",\"t_mean\",\"t_mean\",\"t_std\",\"t_std\",\"t_std\",\"t_std\",\"t_std\",\"t_std\",\"t_std\",\"t_std\",\"t_std\",\"t_std\",\"t_n_mean\",\"t_n_mean\",\"t_n_mean\",\"t_n_mean\",\"t_n_mean\",\"t_n_mean\",\"t_n_mean\",\"t_n_mean\",\"t_n_mean\",\"t_n_mean\",\"t_n_std\",\"t_n_std\",\"t_n_std\",\"t_n_std\",\"t_n_std\",\"t_n_std\",\"t_n_std\",\"t_n_std\",\"t_n_std\",\"t_n_std\",\"d_mean\",\"d_mean\",\"d_mean\",\"d_mean\",\"d_mean\",\"d_mean\",\"d_mean\",\"d_mean\",\"d_mean\",\"d_mean\",\"d_std\",\"d_std\",\"d_std\",\"d_std\",\"d_std\",\"d_std\",\"d_std\",\"d_std\",\"d_std\",\"d_std\",\"d_n_mean\",\"d_n_mean\",\"d_n_mean\",\"d_n_mean\",\"d_n_mean\",\"d_n_mean\",\"d_n_mean\",\"d_n_mean\",\"d_n_mean\",\"d_n_mean\",\"d_n_std\",\"d_n_std\",\"d_n_std\",\"d_n_std\",\"d_n_std\",\"d_n_std\",\"d_n_std\",\"d_n_std\",\"d_n_std\",\"d_n_std\",\"a_n_mean\",\"a_n_mean\",\"a_n_mean\",\"a_n_mean\",\"a_n_mean\",\"a_n_mean\",\"a_n_mean\",\"a_n_mean\",\"a_n_mean\",\"a_n_mean\",\"a_n_std\",\"a_n_std\",\"a_n_std\",\"a_n_std\",\"a_n_std\",\"a_n_std\",\"a_n_std\",\"a_n_std\",\"a_n_std\",\"a_n_std\",\"a_mean\",\"a_mean\",\"a_mean\",\"a_mean\",\"a_mean\",\"a_mean\",\"a_mean\",\"a_mean\",\"a_mean\",\"a_mean\",\"a_std\",\"a_std\",\"a_std\",\"a_std\",\"a_std\",\"a_std\",\"a_std\",\"a_std\",\"a_std\",\"a_std\",\"CNV_mean\",\"CNV_mean\",\"CNV_mean\",\"CNV_mean\",\"CNV_mean\",\"CNV_mean\",\"CNV_mean\",\"CNV_mean\",\"CNV_mean\",\"CNV_mean\",\"CNV_std\",\"CNV_std\",\"CNV_std\",\"CNV_std\",\"CNV_std\",\"CNV_std\",\"CNV_std\",\"CNV_std\",\"CNV_std\",\"CNV_std\",\"P1_mean\",\"P1_mean\",\"P1_mean\",\"P1_mean\",\"P1_mean\",\"P1_mean\",\"P1_mean\",\"P1_mean\",\"P1_mean\",\"P1_mean\",\"P1_std\",\"P1_std\",\"P1_std\",\"P1_std\",\"P1_std\",\"P1_std\",\"P1_std\",\"P1_std\",\"P1_std\",\"P1_std\",\"P3a_mean\",\"P3a_mean\",\"P3a_mean\",\"P3a_mean\",\"P3a_mean\",\"P3a_mean\",\"P3a_mean\",\"P3a_mean\",\"P3a_mean\",\"P3a_mean\",\"P3a_std\",\"P3a_std\",\"P3a_std\",\"P3a_std\",\"P3a_std\",\"P3a_std\",\"P3a_std\",\"P3a_std\",\"P3a_std\",\"P3a_std\",\"P3b_mean\",\"P3b_mean\",\"P3b_mean\",\"P3b_mean\",\"P3b_mean\",\"P3b_mean\",\"P3b_mean\",\"P3b_mean\",\"P3b_mean\",\"P3b_mean\",\"P3b_std\",\"P3b_std\",\"P3b_std\",\"P3b_std\",\"P3b_std\",\"P3b_std\",\"P3b_std\",\"P3b_std\",\"P3b_std\",\"P3b_std\"],\"y0\":\" \",\"yaxis\":\"y\",\"type\":\"box\"}],                        {\"template\":{\"data\":{\"barpolar\":[{\"marker\":{\"line\":{\"color\":\"white\",\"width\":0.5},\"pattern\":{\"fillmode\":\"overlay\",\"size\":10,\"solidity\":0.2}},\"type\":\"barpolar\"}],\"bar\":[{\"error_x\":{\"color\":\"#2a3f5f\"},\"error_y\":{\"color\":\"#2a3f5f\"},\"marker\":{\"line\":{\"color\":\"white\",\"width\":0.5},\"pattern\":{\"fillmode\":\"overlay\",\"size\":10,\"solidity\":0.2}},\"type\":\"bar\"}],\"carpet\":[{\"aaxis\":{\"endlinecolor\":\"#2a3f5f\",\"gridcolor\":\"#C8D4E3\",\"linecolor\":\"#C8D4E3\",\"minorgridcolor\":\"#C8D4E3\",\"startlinecolor\":\"#2a3f5f\"},\"baxis\":{\"endlinecolor\":\"#2a3f5f\",\"gridcolor\":\"#C8D4E3\",\"linecolor\":\"#C8D4E3\",\"minorgridcolor\":\"#C8D4E3\",\"startlinecolor\":\"#2a3f5f\"},\"type\":\"carpet\"}],\"choropleth\":[{\"colorbar\":{\"outlinewidth\":0,\"ticks\":\"\"},\"type\":\"choropleth\"}],\"contourcarpet\":[{\"colorbar\":{\"outlinewidth\":0,\"ticks\":\"\"},\"type\":\"contourcarpet\"}],\"contour\":[{\"colorbar\":{\"outlinewidth\":0,\"ticks\":\"\"},\"colorscale\":[[0.0,\"#0d0887\"],[0.1111111111111111,\"#46039f\"],[0.2222222222222222,\"#7201a8\"],[0.3333333333333333,\"#9c179e\"],[0.4444444444444444,\"#bd3786\"],[0.5555555555555556,\"#d8576b\"],[0.6666666666666666,\"#ed7953\"],[0.7777777777777778,\"#fb9f3a\"],[0.8888888888888888,\"#fdca26\"],[1.0,\"#f0f921\"]],\"type\":\"contour\"}],\"heatmapgl\":[{\"colorbar\":{\"outlinewidth\":0,\"ticks\":\"\"},\"colorscale\":[[0.0,\"#0d0887\"],[0.1111111111111111,\"#46039f\"],[0.2222222222222222,\"#7201a8\"],[0.3333333333333333,\"#9c179e\"],[0.4444444444444444,\"#bd3786\"],[0.5555555555555556,\"#d8576b\"],[0.6666666666666666,\"#ed7953\"],[0.7777777777777778,\"#fb9f3a\"],[0.8888888888888888,\"#fdca26\"],[1.0,\"#f0f921\"]],\"type\":\"heatmapgl\"}],\"heatmap\":[{\"colorbar\":{\"outlinewidth\":0,\"ticks\":\"\"},\"colorscale\":[[0.0,\"#0d0887\"],[0.1111111111111111,\"#46039f\"],[0.2222222222222222,\"#7201a8\"],[0.3333333333333333,\"#9c179e\"],[0.4444444444444444,\"#bd3786\"],[0.5555555555555556,\"#d8576b\"],[0.6666666666666666,\"#ed7953\"],[0.7777777777777778,\"#fb9f3a\"],[0.8888888888888888,\"#fdca26\"],[1.0,\"#f0f921\"]],\"type\":\"heatmap\"}],\"histogram2dcontour\":[{\"colorbar\":{\"outlinewidth\":0,\"ticks\":\"\"},\"colorscale\":[[0.0,\"#0d0887\"],[0.1111111111111111,\"#46039f\"],[0.2222222222222222,\"#7201a8\"],[0.3333333333333333,\"#9c179e\"],[0.4444444444444444,\"#bd3786\"],[0.5555555555555556,\"#d8576b\"],[0.6666666666666666,\"#ed7953\"],[0.7777777777777778,\"#fb9f3a\"],[0.8888888888888888,\"#fdca26\"],[1.0,\"#f0f921\"]],\"type\":\"histogram2dcontour\"}],\"histogram2d\":[{\"colorbar\":{\"outlinewidth\":0,\"ticks\":\"\"},\"colorscale\":[[0.0,\"#0d0887\"],[0.1111111111111111,\"#46039f\"],[0.2222222222222222,\"#7201a8\"],[0.3333333333333333,\"#9c179e\"],[0.4444444444444444,\"#bd3786\"],[0.5555555555555556,\"#d8576b\"],[0.6666666666666666,\"#ed7953\"],[0.7777777777777778,\"#fb9f3a\"],[0.8888888888888888,\"#fdca26\"],[1.0,\"#f0f921\"]],\"type\":\"histogram2d\"}],\"histogram\":[{\"marker\":{\"pattern\":{\"fillmode\":\"overlay\",\"size\":10,\"solidity\":0.2}},\"type\":\"histogram\"}],\"mesh3d\":[{\"colorbar\":{\"outlinewidth\":0,\"ticks\":\"\"},\"type\":\"mesh3d\"}],\"parcoords\":[{\"line\":{\"colorbar\":{\"outlinewidth\":0,\"ticks\":\"\"}},\"type\":\"parcoords\"}],\"pie\":[{\"automargin\":true,\"type\":\"pie\"}],\"scatter3d\":[{\"line\":{\"colorbar\":{\"outlinewidth\":0,\"ticks\":\"\"}},\"marker\":{\"colorbar\":{\"outlinewidth\":0,\"ticks\":\"\"}},\"type\":\"scatter3d\"}],\"scattercarpet\":[{\"marker\":{\"colorbar\":{\"outlinewidth\":0,\"ticks\":\"\"}},\"type\":\"scattercarpet\"}],\"scattergeo\":[{\"marker\":{\"colorbar\":{\"outlinewidth\":0,\"ticks\":\"\"}},\"type\":\"scattergeo\"}],\"scattergl\":[{\"marker\":{\"colorbar\":{\"outlinewidth\":0,\"ticks\":\"\"}},\"type\":\"scattergl\"}],\"scattermapbox\":[{\"marker\":{\"colorbar\":{\"outlinewidth\":0,\"ticks\":\"\"}},\"type\":\"scattermapbox\"}],\"scatterpolargl\":[{\"marker\":{\"colorbar\":{\"outlinewidth\":0,\"ticks\":\"\"}},\"type\":\"scatterpolargl\"}],\"scatterpolar\":[{\"marker\":{\"colorbar\":{\"outlinewidth\":0,\"ticks\":\"\"}},\"type\":\"scatterpolar\"}],\"scatter\":[{\"fillpattern\":{\"fillmode\":\"overlay\",\"size\":10,\"solidity\":0.2},\"type\":\"scatter\"}],\"scatterternary\":[{\"marker\":{\"colorbar\":{\"outlinewidth\":0,\"ticks\":\"\"}},\"type\":\"scatterternary\"}],\"surface\":[{\"colorbar\":{\"outlinewidth\":0,\"ticks\":\"\"},\"colorscale\":[[0.0,\"#0d0887\"],[0.1111111111111111,\"#46039f\"],[0.2222222222222222,\"#7201a8\"],[0.3333333333333333,\"#9c179e\"],[0.4444444444444444,\"#bd3786\"],[0.5555555555555556,\"#d8576b\"],[0.6666666666666666,\"#ed7953\"],[0.7777777777777778,\"#fb9f3a\"],[0.8888888888888888,\"#fdca26\"],[1.0,\"#f0f921\"]],\"type\":\"surface\"}],\"table\":[{\"cells\":{\"fill\":{\"color\":\"#EBF0F8\"},\"line\":{\"color\":\"white\"}},\"header\":{\"fill\":{\"color\":\"#C8D4E3\"},\"line\":{\"color\":\"white\"}},\"type\":\"table\"}]},\"layout\":{\"annotationdefaults\":{\"arrowcolor\":\"#2a3f5f\",\"arrowhead\":0,\"arrowwidth\":1},\"autotypenumbers\":\"strict\",\"coloraxis\":{\"colorbar\":{\"outlinewidth\":0,\"ticks\":\"\"}},\"colorscale\":{\"diverging\":[[0,\"#8e0152\"],[0.1,\"#c51b7d\"],[0.2,\"#de77ae\"],[0.3,\"#f1b6da\"],[0.4,\"#fde0ef\"],[0.5,\"#f7f7f7\"],[0.6,\"#e6f5d0\"],[0.7,\"#b8e186\"],[0.8,\"#7fbc41\"],[0.9,\"#4d9221\"],[1,\"#276419\"]],\"sequential\":[[0.0,\"#0d0887\"],[0.1111111111111111,\"#46039f\"],[0.2222222222222222,\"#7201a8\"],[0.3333333333333333,\"#9c179e\"],[0.4444444444444444,\"#bd3786\"],[0.5555555555555556,\"#d8576b\"],[0.6666666666666666,\"#ed7953\"],[0.7777777777777778,\"#fb9f3a\"],[0.8888888888888888,\"#fdca26\"],[1.0,\"#f0f921\"]],\"sequentialminus\":[[0.0,\"#0d0887\"],[0.1111111111111111,\"#46039f\"],[0.2222222222222222,\"#7201a8\"],[0.3333333333333333,\"#9c179e\"],[0.4444444444444444,\"#bd3786\"],[0.5555555555555556,\"#d8576b\"],[0.6666666666666666,\"#ed7953\"],[0.7777777777777778,\"#fb9f3a\"],[0.8888888888888888,\"#fdca26\"],[1.0,\"#f0f921\"]]},\"colorway\":[\"#636efa\",\"#EF553B\",\"#00cc96\",\"#ab63fa\",\"#FFA15A\",\"#19d3f3\",\"#FF6692\",\"#B6E880\",\"#FF97FF\",\"#FECB52\"],\"font\":{\"color\":\"#2a3f5f\"},\"geo\":{\"bgcolor\":\"white\",\"lakecolor\":\"white\",\"landcolor\":\"white\",\"showlakes\":true,\"showland\":true,\"subunitcolor\":\"#C8D4E3\"},\"hoverlabel\":{\"align\":\"left\"},\"hovermode\":\"closest\",\"mapbox\":{\"style\":\"light\"},\"paper_bgcolor\":\"white\",\"plot_bgcolor\":\"white\",\"polar\":{\"angularaxis\":{\"gridcolor\":\"#EBF0F8\",\"linecolor\":\"#EBF0F8\",\"ticks\":\"\"},\"bgcolor\":\"white\",\"radialaxis\":{\"gridcolor\":\"#EBF0F8\",\"linecolor\":\"#EBF0F8\",\"ticks\":\"\"}},\"scene\":{\"xaxis\":{\"backgroundcolor\":\"white\",\"gridcolor\":\"#DFE8F3\",\"gridwidth\":2,\"linecolor\":\"#EBF0F8\",\"showbackground\":true,\"ticks\":\"\",\"zerolinecolor\":\"#EBF0F8\"},\"yaxis\":{\"backgroundcolor\":\"white\",\"gridcolor\":\"#DFE8F3\",\"gridwidth\":2,\"linecolor\":\"#EBF0F8\",\"showbackground\":true,\"ticks\":\"\",\"zerolinecolor\":\"#EBF0F8\"},\"zaxis\":{\"backgroundcolor\":\"white\",\"gridcolor\":\"#DFE8F3\",\"gridwidth\":2,\"linecolor\":\"#EBF0F8\",\"showbackground\":true,\"ticks\":\"\",\"zerolinecolor\":\"#EBF0F8\"}},\"shapedefaults\":{\"line\":{\"color\":\"#2a3f5f\"}},\"ternary\":{\"aaxis\":{\"gridcolor\":\"#DFE8F3\",\"linecolor\":\"#A2B1C6\",\"ticks\":\"\"},\"baxis\":{\"gridcolor\":\"#DFE8F3\",\"linecolor\":\"#A2B1C6\",\"ticks\":\"\"},\"bgcolor\":\"white\",\"caxis\":{\"gridcolor\":\"#DFE8F3\",\"linecolor\":\"#A2B1C6\",\"ticks\":\"\"}},\"title\":{\"x\":0.05},\"xaxis\":{\"automargin\":true,\"gridcolor\":\"#EBF0F8\",\"linecolor\":\"#EBF0F8\",\"ticks\":\"\",\"title\":{\"standoff\":15},\"zerolinecolor\":\"#EBF0F8\",\"zerolinewidth\":2},\"yaxis\":{\"automargin\":true,\"gridcolor\":\"#EBF0F8\",\"linecolor\":\"#EBF0F8\",\"ticks\":\"\",\"title\":{\"standoff\":15},\"zerolinecolor\":\"#EBF0F8\",\"zerolinewidth\":2}}},\"xaxis\":{\"anchor\":\"y\",\"domain\":[0.0,1.0],\"title\":{\"text\":\"Feature Importance\"},\"tickfont\":{\"size\":20},\"visible\":true,\"range\":[0,0.9]},\"yaxis\":{\"anchor\":\"x\",\"domain\":[0.0,1.0],\"title\":{\"text\":\"Feature\"},\"categoryorder\":\"total ascending\",\"tickfont\":{\"size\":20},\"automargin\":true,\"range\":[-1,54],\"dtick\":1},\"legend\":{\"tracegroupgap\":0},\"title\":{\"text\":\"FI of Top 10 Models on-task_vs_dMW \\u003cbr \\u003e\\nAverage AUC 0.578 \\u003cbr\\u003e\\nBest AUC 0.582\\n                 \"},\"boxmode\":\"group\",\"font\":{\"family\":\"Times new roman\",\"size\":20,\"color\":\"black\"},\"margin\":{\"l\":50,\"r\":50,\"t\":150,\"b\":50},\"width\":650,\"height\":1100,\"showlegend\":true},                        {\"responsive\": true}                    ).then(function(){\n",
       "                            \n",
       "var gd = document.getElementById('8a67ac6c-444a-45cc-a85b-90523ffc62c7');\n",
       "var x = new MutationObserver(function (mutations, observer) {{\n",
       "        var display = window.getComputedStyle(gd).display;\n",
       "        if (!display || display === 'none') {{\n",
       "            console.log([gd, 'removed!']);\n",
       "            Plotly.purge(gd);\n",
       "            observer.disconnect();\n",
       "        }}\n",
       "}});\n",
       "\n",
       "// Listen for the removal of the full notebook cells\n",
       "var notebookContainer = gd.closest('#notebook-container');\n",
       "if (notebookContainer) {{\n",
       "    x.observe(notebookContainer, {childList: true});\n",
       "}}\n",
       "\n",
       "// Listen for the clearing of the current output cell\n",
       "var outputEl = gd.closest('.output');\n",
       "if (outputEl) {{\n",
       "    x.observe(outputEl, {childList: true});\n",
       "}}\n",
       "\n",
       "                        })                };                });            </script>        </div>"
      ]
     },
     "metadata": {},
     "output_type": "display_data"
    },
    {
     "data": {
      "application/vnd.plotly.v1+json": {
       "config": {
        "plotlyServerURL": "https://plot.ly"
       },
       "data": [
        {
         "alignmentgroup": "True",
         "hovertemplate": "Importance=%{x}<br>Feature=%{y}<extra></extra>",
         "legendgroup": "",
         "marker": {
          "color": "#F38A31",
          "size": 8
         },
         "name": "",
         "notched": false,
         "offsetgroup": "",
         "orientation": "h",
         "showlegend": false,
         "type": "box",
         "x": [
          0.02419355,
          0.05769231,
          0.05769231,
          0.025,
          0.02460362,
          0.04545455,
          0.08333333,
          0.02915098,
          0,
          0,
          0,
          0,
          0,
          0,
          0,
          0,
          0.00806452,
          0,
          0,
          0,
          0.00625,
          0,
          0,
          0,
          0,
          0,
          0,
          0,
          0,
          0,
          0,
          0,
          0,
          0,
          0,
          0,
          0,
          0,
          0,
          0,
          0.03571429,
          0,
          0,
          0,
          0.02272727,
          0,
          0,
          0.01785714,
          0,
          0,
          0,
          0,
          0,
          0,
          0,
          0,
          0,
          0,
          0,
          0,
          0,
          0,
          0,
          0,
          0,
          0,
          0,
          0,
          0,
          0,
          0,
          0,
          0.00806452,
          0,
          0,
          0,
          0.00625,
          0,
          0,
          0,
          0,
          0,
          0,
          0,
          0,
          0,
          0,
          0,
          0.00806452,
          0,
          0,
          0.0125,
          0.00625,
          0,
          0,
          0,
          0,
          0,
          0,
          0,
          0,
          0,
          0,
          0,
          0,
          0,
          0,
          0,
          0,
          0,
          0,
          0,
          0,
          0,
          0,
          0,
          0.04166667,
          0,
          0,
          0,
          0.26104071,
          0.27354372,
          0.29437706,
          0.2875,
          0.21590909,
          0.25,
          0,
          0.3,
          0,
          0,
          0,
          0.0058746,
          0,
          0,
          0,
          0.00837074,
          0,
          0,
          0,
          0,
          0.00373615,
          0,
          0,
          0,
          0.06704784,
          0.08173077,
          0.08173077,
          0.075,
          0.03248392,
          0.08522727,
          0,
          0.02922078,
          0.03225806,
          0.01923077,
          0.01923077,
          0.03116363,
          0.01875,
          0.02272727,
          0,
          0.01136364,
          0,
          0,
          0,
          0,
          0.00625,
          0,
          0,
          0,
          0,
          0,
          0,
          0,
          0,
          0,
          0,
          0,
          0,
          0,
          0,
          0,
          0,
          0,
          0,
          0,
          0,
          0,
          0,
          0,
          0,
          0,
          0,
          0,
          0.00806452,
          0,
          0,
          0.00643335,
          0,
          0.02272727,
          0,
          0.01136364,
          0,
          0,
          0,
          0,
          0.06439394,
          0.0625,
          0,
          0.01785714,
          0,
          0,
          0,
          0,
          0,
          0,
          0,
          0,
          0,
          0,
          0,
          0,
          0,
          0,
          0,
          0,
          0,
          0,
          0,
          0,
          0.00929325,
          0,
          0,
          0.01136364,
          0,
          0,
          0,
          0,
          0,
          0,
          0,
          0,
          0,
          0,
          0,
          0,
          0,
          0,
          0,
          0,
          0.04707471,
          0.11298077,
          0.11298077,
          0.025,
          0.00625,
          0.06439394,
          0,
          0.07272727,
          0.0042302,
          0,
          0,
          0,
          0.00306823,
          0,
          0,
          0,
          0.00266974,
          0,
          0,
          0,
          0,
          0,
          0,
          0,
          0.00806452,
          0.03125,
          0.03125,
          0.05,
          0.03876232,
          0.04166667,
          0,
          0.02922078,
          0,
          0,
          0,
          0,
          0,
          0,
          0,
          0,
          0.2160502,
          0.11298077,
          0.11298077,
          0.15019205,
          0.21387967,
          0.10416667,
          0.79166667,
          0.16143445,
          0.00806452,
          0,
          0,
          0.0125,
          0.00625,
          0.02272727,
          0,
          0.01136364,
          0,
          0,
          0,
          0,
          0,
          0,
          0,
          0.00798411,
          0,
          0.01923077,
          0.01923077,
          0.0125,
          0,
          0,
          0,
          0.01136364,
          0,
          0,
          0,
          0,
          0,
          0,
          0,
          0,
          0.09537968,
          0.08333333,
          0.0625,
          0.125,
          0.057278,
          0.08333333,
          0,
          0.03571429,
          0,
          0,
          0,
          0,
          0.00625,
          0,
          0.125,
          0.03571429,
          0.02021172,
          0.03846154,
          0.03846154,
          0,
          0.05416667,
          0.02272727,
          0,
          0.02272727,
          0.00806452,
          0.01923077,
          0.01923077,
          0.0125,
          0.00625,
          0.02272727,
          0,
          0.01136364,
          0.07056452,
          0.0625,
          0.0625,
          0.075,
          0.04791667,
          0.0625,
          0,
          0.05987303,
          0.01283313,
          0.01923077,
          0.01923077,
          0.0125,
          0.0125,
          0.02272727,
          0,
          0.0276672,
          0.00243674,
          0,
          0,
          0.01883637,
          0.00945675,
          0,
          0,
          0,
          0,
          0.01812294,
          0.01812294,
          0,
          0.00251385,
          0,
          0,
          0,
          0.03571429,
          0.03125,
          0.03125,
          0.05,
          0.06439394,
          0.04166667,
          0,
          0.05357143,
          0,
          0,
          0,
          0,
          0,
          0,
          0,
          0,
          0.00806452,
          0,
          0,
          0,
          0,
          0,
          0,
          0,
          0,
          0,
          0,
          0,
          0,
          0,
          0,
          0,
          0.00806452,
          0.01923077,
          0.01923077,
          0.0125,
          0.0125,
          0.02272727,
          0,
          0.02272727
         ],
         "x0": " ",
         "xaxis": "x",
         "y": [
          "wSMI_1_mean",
          "wSMI_1_mean",
          "wSMI_1_mean",
          "wSMI_1_mean",
          "wSMI_1_mean",
          "wSMI_1_mean",
          "wSMI_1_mean",
          "wSMI_1_mean",
          "wSMI_1_std",
          "wSMI_1_std",
          "wSMI_1_std",
          "wSMI_1_std",
          "wSMI_1_std",
          "wSMI_1_std",
          "wSMI_1_std",
          "wSMI_1_std",
          "wSMI_2_mean",
          "wSMI_2_mean",
          "wSMI_2_mean",
          "wSMI_2_mean",
          "wSMI_2_mean",
          "wSMI_2_mean",
          "wSMI_2_mean",
          "wSMI_2_mean",
          "wSMI_2_std",
          "wSMI_2_std",
          "wSMI_2_std",
          "wSMI_2_std",
          "wSMI_2_std",
          "wSMI_2_std",
          "wSMI_2_std",
          "wSMI_2_std",
          "wSMI_4_mean",
          "wSMI_4_mean",
          "wSMI_4_mean",
          "wSMI_4_mean",
          "wSMI_4_mean",
          "wSMI_4_mean",
          "wSMI_4_mean",
          "wSMI_4_mean",
          "wSMI_4_std",
          "wSMI_4_std",
          "wSMI_4_std",
          "wSMI_4_std",
          "wSMI_4_std",
          "wSMI_4_std",
          "wSMI_4_std",
          "wSMI_4_std",
          "wSMI_8_mean",
          "wSMI_8_mean",
          "wSMI_8_mean",
          "wSMI_8_mean",
          "wSMI_8_mean",
          "wSMI_8_mean",
          "wSMI_8_mean",
          "wSMI_8_mean",
          "wSMI_8_std",
          "wSMI_8_std",
          "wSMI_8_std",
          "wSMI_8_std",
          "wSMI_8_std",
          "wSMI_8_std",
          "wSMI_8_std",
          "wSMI_8_std",
          "p_e_1_mean",
          "p_e_1_mean",
          "p_e_1_mean",
          "p_e_1_mean",
          "p_e_1_mean",
          "p_e_1_mean",
          "p_e_1_mean",
          "p_e_1_mean",
          "p_e_1_std",
          "p_e_1_std",
          "p_e_1_std",
          "p_e_1_std",
          "p_e_1_std",
          "p_e_1_std",
          "p_e_1_std",
          "p_e_1_std",
          "p_e_2_mean",
          "p_e_2_mean",
          "p_e_2_mean",
          "p_e_2_mean",
          "p_e_2_mean",
          "p_e_2_mean",
          "p_e_2_mean",
          "p_e_2_mean",
          "p_e_2_std",
          "p_e_2_std",
          "p_e_2_std",
          "p_e_2_std",
          "p_e_2_std",
          "p_e_2_std",
          "p_e_2_std",
          "p_e_2_std",
          "p_e_4_mean",
          "p_e_4_mean",
          "p_e_4_mean",
          "p_e_4_mean",
          "p_e_4_mean",
          "p_e_4_mean",
          "p_e_4_mean",
          "p_e_4_mean",
          "p_e_4_std",
          "p_e_4_std",
          "p_e_4_std",
          "p_e_4_std",
          "p_e_4_std",
          "p_e_4_std",
          "p_e_4_std",
          "p_e_4_std",
          "p_e_8_mean",
          "p_e_8_mean",
          "p_e_8_mean",
          "p_e_8_mean",
          "p_e_8_mean",
          "p_e_8_mean",
          "p_e_8_mean",
          "p_e_8_mean",
          "p_e_8_std",
          "p_e_8_std",
          "p_e_8_std",
          "p_e_8_std",
          "p_e_8_std",
          "p_e_8_std",
          "p_e_8_std",
          "p_e_8_std",
          "k_mean",
          "k_mean",
          "k_mean",
          "k_mean",
          "k_mean",
          "k_mean",
          "k_mean",
          "k_mean",
          "k_std",
          "k_std",
          "k_std",
          "k_std",
          "k_std",
          "k_std",
          "k_std",
          "k_std",
          "se_mean",
          "se_mean",
          "se_mean",
          "se_mean",
          "se_mean",
          "se_mean",
          "se_mean",
          "se_mean",
          "se_std",
          "se_std",
          "se_std",
          "se_std",
          "se_std",
          "se_std",
          "se_std",
          "se_std",
          "msf_mean",
          "msf_mean",
          "msf_mean",
          "msf_mean",
          "msf_mean",
          "msf_mean",
          "msf_mean",
          "msf_mean",
          "msf_std",
          "msf_std",
          "msf_std",
          "msf_std",
          "msf_std",
          "msf_std",
          "msf_std",
          "msf_std",
          "sef90_mean",
          "sef90_mean",
          "sef90_mean",
          "sef90_mean",
          "sef90_mean",
          "sef90_mean",
          "sef90_mean",
          "sef90_mean",
          "sef90_std",
          "sef90_std",
          "sef90_std",
          "sef90_std",
          "sef90_std",
          "sef90_std",
          "sef90_std",
          "sef90_std",
          "sef95_mean",
          "sef95_mean",
          "sef95_mean",
          "sef95_mean",
          "sef95_mean",
          "sef95_mean",
          "sef95_mean",
          "sef95_mean",
          "sef95_std",
          "sef95_std",
          "sef95_std",
          "sef95_std",
          "sef95_std",
          "sef95_std",
          "sef95_std",
          "sef95_std",
          "b_mean",
          "b_mean",
          "b_mean",
          "b_mean",
          "b_mean",
          "b_mean",
          "b_mean",
          "b_mean",
          "b_std",
          "b_std",
          "b_std",
          "b_std",
          "b_std",
          "b_std",
          "b_std",
          "b_std",
          "b_n_mean",
          "b_n_mean",
          "b_n_mean",
          "b_n_mean",
          "b_n_mean",
          "b_n_mean",
          "b_n_mean",
          "b_n_mean",
          "b_n_std",
          "b_n_std",
          "b_n_std",
          "b_n_std",
          "b_n_std",
          "b_n_std",
          "b_n_std",
          "b_n_std",
          "g_mean",
          "g_mean",
          "g_mean",
          "g_mean",
          "g_mean",
          "g_mean",
          "g_mean",
          "g_mean",
          "g_std",
          "g_std",
          "g_std",
          "g_std",
          "g_std",
          "g_std",
          "g_std",
          "g_std",
          "g_n_mean",
          "g_n_mean",
          "g_n_mean",
          "g_n_mean",
          "g_n_mean",
          "g_n_mean",
          "g_n_mean",
          "g_n_mean",
          "g_n_std",
          "g_n_std",
          "g_n_std",
          "g_n_std",
          "g_n_std",
          "g_n_std",
          "g_n_std",
          "g_n_std",
          "t_mean",
          "t_mean",
          "t_mean",
          "t_mean",
          "t_mean",
          "t_mean",
          "t_mean",
          "t_mean",
          "t_std",
          "t_std",
          "t_std",
          "t_std",
          "t_std",
          "t_std",
          "t_std",
          "t_std",
          "t_n_mean",
          "t_n_mean",
          "t_n_mean",
          "t_n_mean",
          "t_n_mean",
          "t_n_mean",
          "t_n_mean",
          "t_n_mean",
          "t_n_std",
          "t_n_std",
          "t_n_std",
          "t_n_std",
          "t_n_std",
          "t_n_std",
          "t_n_std",
          "t_n_std",
          "d_mean",
          "d_mean",
          "d_mean",
          "d_mean",
          "d_mean",
          "d_mean",
          "d_mean",
          "d_mean",
          "d_std",
          "d_std",
          "d_std",
          "d_std",
          "d_std",
          "d_std",
          "d_std",
          "d_std",
          "d_n_mean",
          "d_n_mean",
          "d_n_mean",
          "d_n_mean",
          "d_n_mean",
          "d_n_mean",
          "d_n_mean",
          "d_n_mean",
          "d_n_std",
          "d_n_std",
          "d_n_std",
          "d_n_std",
          "d_n_std",
          "d_n_std",
          "d_n_std",
          "d_n_std",
          "a_n_mean",
          "a_n_mean",
          "a_n_mean",
          "a_n_mean",
          "a_n_mean",
          "a_n_mean",
          "a_n_mean",
          "a_n_mean",
          "a_n_std",
          "a_n_std",
          "a_n_std",
          "a_n_std",
          "a_n_std",
          "a_n_std",
          "a_n_std",
          "a_n_std",
          "a_mean",
          "a_mean",
          "a_mean",
          "a_mean",
          "a_mean",
          "a_mean",
          "a_mean",
          "a_mean",
          "a_std",
          "a_std",
          "a_std",
          "a_std",
          "a_std",
          "a_std",
          "a_std",
          "a_std",
          "CNV_mean",
          "CNV_mean",
          "CNV_mean",
          "CNV_mean",
          "CNV_mean",
          "CNV_mean",
          "CNV_mean",
          "CNV_mean",
          "CNV_std",
          "CNV_std",
          "CNV_std",
          "CNV_std",
          "CNV_std",
          "CNV_std",
          "CNV_std",
          "CNV_std",
          "P1_mean",
          "P1_mean",
          "P1_mean",
          "P1_mean",
          "P1_mean",
          "P1_mean",
          "P1_mean",
          "P1_mean",
          "P1_std",
          "P1_std",
          "P1_std",
          "P1_std",
          "P1_std",
          "P1_std",
          "P1_std",
          "P1_std",
          "P3a_mean",
          "P3a_mean",
          "P3a_mean",
          "P3a_mean",
          "P3a_mean",
          "P3a_mean",
          "P3a_mean",
          "P3a_mean",
          "P3a_std",
          "P3a_std",
          "P3a_std",
          "P3a_std",
          "P3a_std",
          "P3a_std",
          "P3a_std",
          "P3a_std",
          "P3b_mean",
          "P3b_mean",
          "P3b_mean",
          "P3b_mean",
          "P3b_mean",
          "P3b_mean",
          "P3b_mean",
          "P3b_mean",
          "P3b_std",
          "P3b_std",
          "P3b_std",
          "P3b_std",
          "P3b_std",
          "P3b_std",
          "P3b_std",
          "P3b_std"
         ],
         "y0": " ",
         "yaxis": "y"
        }
       ],
       "layout": {
        "boxmode": "group",
        "font": {
         "color": "black",
         "family": "Times new roman",
         "size": 20
        },
        "height": 1100,
        "legend": {
         "tracegroupgap": 0
        },
        "margin": {
         "b": 50,
         "l": 50,
         "r": 50,
         "t": 150
        },
        "showlegend": true,
        "template": {
         "data": {
          "bar": [
           {
            "error_x": {
             "color": "#2a3f5f"
            },
            "error_y": {
             "color": "#2a3f5f"
            },
            "marker": {
             "line": {
              "color": "white",
              "width": 0.5
             },
             "pattern": {
              "fillmode": "overlay",
              "size": 10,
              "solidity": 0.2
             }
            },
            "type": "bar"
           }
          ],
          "barpolar": [
           {
            "marker": {
             "line": {
              "color": "white",
              "width": 0.5
             },
             "pattern": {
              "fillmode": "overlay",
              "size": 10,
              "solidity": 0.2
             }
            },
            "type": "barpolar"
           }
          ],
          "carpet": [
           {
            "aaxis": {
             "endlinecolor": "#2a3f5f",
             "gridcolor": "#C8D4E3",
             "linecolor": "#C8D4E3",
             "minorgridcolor": "#C8D4E3",
             "startlinecolor": "#2a3f5f"
            },
            "baxis": {
             "endlinecolor": "#2a3f5f",
             "gridcolor": "#C8D4E3",
             "linecolor": "#C8D4E3",
             "minorgridcolor": "#C8D4E3",
             "startlinecolor": "#2a3f5f"
            },
            "type": "carpet"
           }
          ],
          "choropleth": [
           {
            "colorbar": {
             "outlinewidth": 0,
             "ticks": ""
            },
            "type": "choropleth"
           }
          ],
          "contour": [
           {
            "colorbar": {
             "outlinewidth": 0,
             "ticks": ""
            },
            "colorscale": [
             [
              0,
              "#0d0887"
             ],
             [
              0.1111111111111111,
              "#46039f"
             ],
             [
              0.2222222222222222,
              "#7201a8"
             ],
             [
              0.3333333333333333,
              "#9c179e"
             ],
             [
              0.4444444444444444,
              "#bd3786"
             ],
             [
              0.5555555555555556,
              "#d8576b"
             ],
             [
              0.6666666666666666,
              "#ed7953"
             ],
             [
              0.7777777777777778,
              "#fb9f3a"
             ],
             [
              0.8888888888888888,
              "#fdca26"
             ],
             [
              1,
              "#f0f921"
             ]
            ],
            "type": "contour"
           }
          ],
          "contourcarpet": [
           {
            "colorbar": {
             "outlinewidth": 0,
             "ticks": ""
            },
            "type": "contourcarpet"
           }
          ],
          "heatmap": [
           {
            "colorbar": {
             "outlinewidth": 0,
             "ticks": ""
            },
            "colorscale": [
             [
              0,
              "#0d0887"
             ],
             [
              0.1111111111111111,
              "#46039f"
             ],
             [
              0.2222222222222222,
              "#7201a8"
             ],
             [
              0.3333333333333333,
              "#9c179e"
             ],
             [
              0.4444444444444444,
              "#bd3786"
             ],
             [
              0.5555555555555556,
              "#d8576b"
             ],
             [
              0.6666666666666666,
              "#ed7953"
             ],
             [
              0.7777777777777778,
              "#fb9f3a"
             ],
             [
              0.8888888888888888,
              "#fdca26"
             ],
             [
              1,
              "#f0f921"
             ]
            ],
            "type": "heatmap"
           }
          ],
          "heatmapgl": [
           {
            "colorbar": {
             "outlinewidth": 0,
             "ticks": ""
            },
            "colorscale": [
             [
              0,
              "#0d0887"
             ],
             [
              0.1111111111111111,
              "#46039f"
             ],
             [
              0.2222222222222222,
              "#7201a8"
             ],
             [
              0.3333333333333333,
              "#9c179e"
             ],
             [
              0.4444444444444444,
              "#bd3786"
             ],
             [
              0.5555555555555556,
              "#d8576b"
             ],
             [
              0.6666666666666666,
              "#ed7953"
             ],
             [
              0.7777777777777778,
              "#fb9f3a"
             ],
             [
              0.8888888888888888,
              "#fdca26"
             ],
             [
              1,
              "#f0f921"
             ]
            ],
            "type": "heatmapgl"
           }
          ],
          "histogram": [
           {
            "marker": {
             "pattern": {
              "fillmode": "overlay",
              "size": 10,
              "solidity": 0.2
             }
            },
            "type": "histogram"
           }
          ],
          "histogram2d": [
           {
            "colorbar": {
             "outlinewidth": 0,
             "ticks": ""
            },
            "colorscale": [
             [
              0,
              "#0d0887"
             ],
             [
              0.1111111111111111,
              "#46039f"
             ],
             [
              0.2222222222222222,
              "#7201a8"
             ],
             [
              0.3333333333333333,
              "#9c179e"
             ],
             [
              0.4444444444444444,
              "#bd3786"
             ],
             [
              0.5555555555555556,
              "#d8576b"
             ],
             [
              0.6666666666666666,
              "#ed7953"
             ],
             [
              0.7777777777777778,
              "#fb9f3a"
             ],
             [
              0.8888888888888888,
              "#fdca26"
             ],
             [
              1,
              "#f0f921"
             ]
            ],
            "type": "histogram2d"
           }
          ],
          "histogram2dcontour": [
           {
            "colorbar": {
             "outlinewidth": 0,
             "ticks": ""
            },
            "colorscale": [
             [
              0,
              "#0d0887"
             ],
             [
              0.1111111111111111,
              "#46039f"
             ],
             [
              0.2222222222222222,
              "#7201a8"
             ],
             [
              0.3333333333333333,
              "#9c179e"
             ],
             [
              0.4444444444444444,
              "#bd3786"
             ],
             [
              0.5555555555555556,
              "#d8576b"
             ],
             [
              0.6666666666666666,
              "#ed7953"
             ],
             [
              0.7777777777777778,
              "#fb9f3a"
             ],
             [
              0.8888888888888888,
              "#fdca26"
             ],
             [
              1,
              "#f0f921"
             ]
            ],
            "type": "histogram2dcontour"
           }
          ],
          "mesh3d": [
           {
            "colorbar": {
             "outlinewidth": 0,
             "ticks": ""
            },
            "type": "mesh3d"
           }
          ],
          "parcoords": [
           {
            "line": {
             "colorbar": {
              "outlinewidth": 0,
              "ticks": ""
             }
            },
            "type": "parcoords"
           }
          ],
          "pie": [
           {
            "automargin": true,
            "type": "pie"
           }
          ],
          "scatter": [
           {
            "fillpattern": {
             "fillmode": "overlay",
             "size": 10,
             "solidity": 0.2
            },
            "type": "scatter"
           }
          ],
          "scatter3d": [
           {
            "line": {
             "colorbar": {
              "outlinewidth": 0,
              "ticks": ""
             }
            },
            "marker": {
             "colorbar": {
              "outlinewidth": 0,
              "ticks": ""
             }
            },
            "type": "scatter3d"
           }
          ],
          "scattercarpet": [
           {
            "marker": {
             "colorbar": {
              "outlinewidth": 0,
              "ticks": ""
             }
            },
            "type": "scattercarpet"
           }
          ],
          "scattergeo": [
           {
            "marker": {
             "colorbar": {
              "outlinewidth": 0,
              "ticks": ""
             }
            },
            "type": "scattergeo"
           }
          ],
          "scattergl": [
           {
            "marker": {
             "colorbar": {
              "outlinewidth": 0,
              "ticks": ""
             }
            },
            "type": "scattergl"
           }
          ],
          "scattermapbox": [
           {
            "marker": {
             "colorbar": {
              "outlinewidth": 0,
              "ticks": ""
             }
            },
            "type": "scattermapbox"
           }
          ],
          "scatterpolar": [
           {
            "marker": {
             "colorbar": {
              "outlinewidth": 0,
              "ticks": ""
             }
            },
            "type": "scatterpolar"
           }
          ],
          "scatterpolargl": [
           {
            "marker": {
             "colorbar": {
              "outlinewidth": 0,
              "ticks": ""
             }
            },
            "type": "scatterpolargl"
           }
          ],
          "scatterternary": [
           {
            "marker": {
             "colorbar": {
              "outlinewidth": 0,
              "ticks": ""
             }
            },
            "type": "scatterternary"
           }
          ],
          "surface": [
           {
            "colorbar": {
             "outlinewidth": 0,
             "ticks": ""
            },
            "colorscale": [
             [
              0,
              "#0d0887"
             ],
             [
              0.1111111111111111,
              "#46039f"
             ],
             [
              0.2222222222222222,
              "#7201a8"
             ],
             [
              0.3333333333333333,
              "#9c179e"
             ],
             [
              0.4444444444444444,
              "#bd3786"
             ],
             [
              0.5555555555555556,
              "#d8576b"
             ],
             [
              0.6666666666666666,
              "#ed7953"
             ],
             [
              0.7777777777777778,
              "#fb9f3a"
             ],
             [
              0.8888888888888888,
              "#fdca26"
             ],
             [
              1,
              "#f0f921"
             ]
            ],
            "type": "surface"
           }
          ],
          "table": [
           {
            "cells": {
             "fill": {
              "color": "#EBF0F8"
             },
             "line": {
              "color": "white"
             }
            },
            "header": {
             "fill": {
              "color": "#C8D4E3"
             },
             "line": {
              "color": "white"
             }
            },
            "type": "table"
           }
          ]
         },
         "layout": {
          "annotationdefaults": {
           "arrowcolor": "#2a3f5f",
           "arrowhead": 0,
           "arrowwidth": 1
          },
          "autotypenumbers": "strict",
          "coloraxis": {
           "colorbar": {
            "outlinewidth": 0,
            "ticks": ""
           }
          },
          "colorscale": {
           "diverging": [
            [
             0,
             "#8e0152"
            ],
            [
             0.1,
             "#c51b7d"
            ],
            [
             0.2,
             "#de77ae"
            ],
            [
             0.3,
             "#f1b6da"
            ],
            [
             0.4,
             "#fde0ef"
            ],
            [
             0.5,
             "#f7f7f7"
            ],
            [
             0.6,
             "#e6f5d0"
            ],
            [
             0.7,
             "#b8e186"
            ],
            [
             0.8,
             "#7fbc41"
            ],
            [
             0.9,
             "#4d9221"
            ],
            [
             1,
             "#276419"
            ]
           ],
           "sequential": [
            [
             0,
             "#0d0887"
            ],
            [
             0.1111111111111111,
             "#46039f"
            ],
            [
             0.2222222222222222,
             "#7201a8"
            ],
            [
             0.3333333333333333,
             "#9c179e"
            ],
            [
             0.4444444444444444,
             "#bd3786"
            ],
            [
             0.5555555555555556,
             "#d8576b"
            ],
            [
             0.6666666666666666,
             "#ed7953"
            ],
            [
             0.7777777777777778,
             "#fb9f3a"
            ],
            [
             0.8888888888888888,
             "#fdca26"
            ],
            [
             1,
             "#f0f921"
            ]
           ],
           "sequentialminus": [
            [
             0,
             "#0d0887"
            ],
            [
             0.1111111111111111,
             "#46039f"
            ],
            [
             0.2222222222222222,
             "#7201a8"
            ],
            [
             0.3333333333333333,
             "#9c179e"
            ],
            [
             0.4444444444444444,
             "#bd3786"
            ],
            [
             0.5555555555555556,
             "#d8576b"
            ],
            [
             0.6666666666666666,
             "#ed7953"
            ],
            [
             0.7777777777777778,
             "#fb9f3a"
            ],
            [
             0.8888888888888888,
             "#fdca26"
            ],
            [
             1,
             "#f0f921"
            ]
           ]
          },
          "colorway": [
           "#636efa",
           "#EF553B",
           "#00cc96",
           "#ab63fa",
           "#FFA15A",
           "#19d3f3",
           "#FF6692",
           "#B6E880",
           "#FF97FF",
           "#FECB52"
          ],
          "font": {
           "color": "#2a3f5f"
          },
          "geo": {
           "bgcolor": "white",
           "lakecolor": "white",
           "landcolor": "white",
           "showlakes": true,
           "showland": true,
           "subunitcolor": "#C8D4E3"
          },
          "hoverlabel": {
           "align": "left"
          },
          "hovermode": "closest",
          "mapbox": {
           "style": "light"
          },
          "paper_bgcolor": "white",
          "plot_bgcolor": "white",
          "polar": {
           "angularaxis": {
            "gridcolor": "#EBF0F8",
            "linecolor": "#EBF0F8",
            "ticks": ""
           },
           "bgcolor": "white",
           "radialaxis": {
            "gridcolor": "#EBF0F8",
            "linecolor": "#EBF0F8",
            "ticks": ""
           }
          },
          "scene": {
           "xaxis": {
            "backgroundcolor": "white",
            "gridcolor": "#DFE8F3",
            "gridwidth": 2,
            "linecolor": "#EBF0F8",
            "showbackground": true,
            "ticks": "",
            "zerolinecolor": "#EBF0F8"
           },
           "yaxis": {
            "backgroundcolor": "white",
            "gridcolor": "#DFE8F3",
            "gridwidth": 2,
            "linecolor": "#EBF0F8",
            "showbackground": true,
            "ticks": "",
            "zerolinecolor": "#EBF0F8"
           },
           "zaxis": {
            "backgroundcolor": "white",
            "gridcolor": "#DFE8F3",
            "gridwidth": 2,
            "linecolor": "#EBF0F8",
            "showbackground": true,
            "ticks": "",
            "zerolinecolor": "#EBF0F8"
           }
          },
          "shapedefaults": {
           "line": {
            "color": "#2a3f5f"
           }
          },
          "ternary": {
           "aaxis": {
            "gridcolor": "#DFE8F3",
            "linecolor": "#A2B1C6",
            "ticks": ""
           },
           "baxis": {
            "gridcolor": "#DFE8F3",
            "linecolor": "#A2B1C6",
            "ticks": ""
           },
           "bgcolor": "white",
           "caxis": {
            "gridcolor": "#DFE8F3",
            "linecolor": "#A2B1C6",
            "ticks": ""
           }
          },
          "title": {
           "x": 0.05
          },
          "xaxis": {
           "automargin": true,
           "gridcolor": "#EBF0F8",
           "linecolor": "#EBF0F8",
           "ticks": "",
           "title": {
            "standoff": 15
           },
           "zerolinecolor": "#EBF0F8",
           "zerolinewidth": 2
          },
          "yaxis": {
           "automargin": true,
           "gridcolor": "#EBF0F8",
           "linecolor": "#EBF0F8",
           "ticks": "",
           "title": {
            "standoff": 15
           },
           "zerolinecolor": "#EBF0F8",
           "zerolinewidth": 2
          }
         }
        },
        "title": {
         "text": "FI of Top 10 Models on-task_vs_sMW <br >\nAverage AUC 0.689 <br>\nBest AUC 0.701\n                 "
        },
        "width": 650,
        "xaxis": {
         "anchor": "y",
         "domain": [
          0,
          1
         ],
         "range": [
          0,
          0.9
         ],
         "tickfont": {
          "size": 20
         },
         "title": {
          "text": "Feature Importance"
         },
         "visible": true
        },
        "yaxis": {
         "anchor": "x",
         "automargin": true,
         "categoryorder": "total ascending",
         "domain": [
          0,
          1
         ],
         "dtick": 1,
         "range": [
          -1,
          54
         ],
         "tickfont": {
          "size": 20
         },
         "title": {
          "text": "Feature"
         }
        }
       }
      },
      "text/html": [
       "<div>                            <div id=\"0efd798e-07f4-4da6-8f52-7f304fdf73bc\" class=\"plotly-graph-div\" style=\"height:1100px; width:650px;\"></div>            <script type=\"text/javascript\">                require([\"plotly\"], function(Plotly) {                    window.PLOTLYENV=window.PLOTLYENV || {};                                    if (document.getElementById(\"0efd798e-07f4-4da6-8f52-7f304fdf73bc\")) {                    Plotly.newPlot(                        \"0efd798e-07f4-4da6-8f52-7f304fdf73bc\",                        [{\"alignmentgroup\":\"True\",\"hovertemplate\":\"Importance=%{x}\\u003cbr\\u003eFeature=%{y}\\u003cextra\\u003e\\u003c\\u002fextra\\u003e\",\"legendgroup\":\"\",\"marker\":{\"color\":\"#F38A31\",\"size\":8},\"name\":\"\",\"notched\":false,\"offsetgroup\":\"\",\"orientation\":\"h\",\"showlegend\":false,\"x\":[0.02419355,0.05769231,0.05769231,0.025,0.02460362,0.04545455,0.08333333,0.02915098,0.0,0.0,0.0,0.0,0.0,0.0,0.0,0.0,0.00806452,0.0,0.0,0.0,0.00625,0.0,0.0,0.0,0.0,0.0,0.0,0.0,0.0,0.0,0.0,0.0,0.0,0.0,0.0,0.0,0.0,0.0,0.0,0.0,0.03571429,0.0,0.0,0.0,0.02272727,0.0,0.0,0.01785714,0.0,0.0,0.0,0.0,0.0,0.0,0.0,0.0,0.0,0.0,0.0,0.0,0.0,0.0,0.0,0.0,0.0,0.0,0.0,0.0,0.0,0.0,0.0,0.0,0.00806452,0.0,0.0,0.0,0.00625,0.0,0.0,0.0,0.0,0.0,0.0,0.0,0.0,0.0,0.0,0.0,0.00806452,0.0,0.0,0.0125,0.00625,0.0,0.0,0.0,0.0,0.0,0.0,0.0,0.0,0.0,0.0,0.0,0.0,0.0,0.0,0.0,0.0,0.0,0.0,0.0,0.0,0.0,0.0,0.0,0.04166667,0.0,0.0,0.0,0.26104071,0.27354372,0.29437706,0.2875,0.21590909,0.25,0.0,0.3,0.0,0.0,0.0,0.0058746,0.0,0.0,0.0,0.00837074,0.0,0.0,0.0,0.0,0.00373615,0.0,0.0,0.0,0.06704784,0.08173077,0.08173077,0.075,0.03248392,0.08522727,0.0,0.02922078,0.03225806,0.01923077,0.01923077,0.03116363,0.01875,0.02272727,0.0,0.01136364,0.0,0.0,0.0,0.0,0.00625,0.0,0.0,0.0,0.0,0.0,0.0,0.0,0.0,0.0,0.0,0.0,0.0,0.0,0.0,0.0,0.0,0.0,0.0,0.0,0.0,0.0,0.0,0.0,0.0,0.0,0.0,0.0,0.00806452,0.0,0.0,0.00643335,0.0,0.02272727,0.0,0.01136364,0.0,0.0,0.0,0.0,0.06439394,0.0625,0.0,0.01785714,0.0,0.0,0.0,0.0,0.0,0.0,0.0,0.0,0.0,0.0,0.0,0.0,0.0,0.0,0.0,0.0,0.0,0.0,0.0,0.0,0.00929325,0.0,0.0,0.01136364,0.0,0.0,0.0,0.0,0.0,0.0,0.0,0.0,0.0,0.0,0.0,0.0,0.0,0.0,0.0,0.0,0.04707471,0.11298077,0.11298077,0.025,0.00625,0.06439394,0.0,0.07272727,0.0042302,0.0,0.0,0.0,0.00306823,0.0,0.0,0.0,0.00266974,0.0,0.0,0.0,0.0,0.0,0.0,0.0,0.00806452,0.03125,0.03125,0.05,0.03876232,0.04166667,0.0,0.02922078,0.0,0.0,0.0,0.0,0.0,0.0,0.0,0.0,0.2160502,0.11298077,0.11298077,0.15019205,0.21387967,0.10416667,0.79166667,0.16143445,0.00806452,0.0,0.0,0.0125,0.00625,0.02272727,0.0,0.01136364,0.0,0.0,0.0,0.0,0.0,0.0,0.0,0.00798411,0.0,0.01923077,0.01923077,0.0125,0.0,0.0,0.0,0.01136364,0.0,0.0,0.0,0.0,0.0,0.0,0.0,0.0,0.09537968,0.08333333,0.0625,0.125,0.057278,0.08333333,0.0,0.03571429,0.0,0.0,0.0,0.0,0.00625,0.0,0.125,0.03571429,0.02021172,0.03846154,0.03846154,0.0,0.05416667,0.02272727,0.0,0.02272727,0.00806452,0.01923077,0.01923077,0.0125,0.00625,0.02272727,0.0,0.01136364,0.07056452,0.0625,0.0625,0.075,0.04791667,0.0625,0.0,0.05987303,0.01283313,0.01923077,0.01923077,0.0125,0.0125,0.02272727,0.0,0.0276672,0.00243674,0.0,0.0,0.01883637,0.00945675,0.0,0.0,0.0,0.0,0.01812294,0.01812294,0.0,0.00251385,0.0,0.0,0.0,0.03571429,0.03125,0.03125,0.05,0.06439394,0.04166667,0.0,0.05357143,0.0,0.0,0.0,0.0,0.0,0.0,0.0,0.0,0.00806452,0.0,0.0,0.0,0.0,0.0,0.0,0.0,0.0,0.0,0.0,0.0,0.0,0.0,0.0,0.0,0.00806452,0.01923077,0.01923077,0.0125,0.0125,0.02272727,0.0,0.02272727],\"x0\":\" \",\"xaxis\":\"x\",\"y\":[\"wSMI_1_mean\",\"wSMI_1_mean\",\"wSMI_1_mean\",\"wSMI_1_mean\",\"wSMI_1_mean\",\"wSMI_1_mean\",\"wSMI_1_mean\",\"wSMI_1_mean\",\"wSMI_1_std\",\"wSMI_1_std\",\"wSMI_1_std\",\"wSMI_1_std\",\"wSMI_1_std\",\"wSMI_1_std\",\"wSMI_1_std\",\"wSMI_1_std\",\"wSMI_2_mean\",\"wSMI_2_mean\",\"wSMI_2_mean\",\"wSMI_2_mean\",\"wSMI_2_mean\",\"wSMI_2_mean\",\"wSMI_2_mean\",\"wSMI_2_mean\",\"wSMI_2_std\",\"wSMI_2_std\",\"wSMI_2_std\",\"wSMI_2_std\",\"wSMI_2_std\",\"wSMI_2_std\",\"wSMI_2_std\",\"wSMI_2_std\",\"wSMI_4_mean\",\"wSMI_4_mean\",\"wSMI_4_mean\",\"wSMI_4_mean\",\"wSMI_4_mean\",\"wSMI_4_mean\",\"wSMI_4_mean\",\"wSMI_4_mean\",\"wSMI_4_std\",\"wSMI_4_std\",\"wSMI_4_std\",\"wSMI_4_std\",\"wSMI_4_std\",\"wSMI_4_std\",\"wSMI_4_std\",\"wSMI_4_std\",\"wSMI_8_mean\",\"wSMI_8_mean\",\"wSMI_8_mean\",\"wSMI_8_mean\",\"wSMI_8_mean\",\"wSMI_8_mean\",\"wSMI_8_mean\",\"wSMI_8_mean\",\"wSMI_8_std\",\"wSMI_8_std\",\"wSMI_8_std\",\"wSMI_8_std\",\"wSMI_8_std\",\"wSMI_8_std\",\"wSMI_8_std\",\"wSMI_8_std\",\"p_e_1_mean\",\"p_e_1_mean\",\"p_e_1_mean\",\"p_e_1_mean\",\"p_e_1_mean\",\"p_e_1_mean\",\"p_e_1_mean\",\"p_e_1_mean\",\"p_e_1_std\",\"p_e_1_std\",\"p_e_1_std\",\"p_e_1_std\",\"p_e_1_std\",\"p_e_1_std\",\"p_e_1_std\",\"p_e_1_std\",\"p_e_2_mean\",\"p_e_2_mean\",\"p_e_2_mean\",\"p_e_2_mean\",\"p_e_2_mean\",\"p_e_2_mean\",\"p_e_2_mean\",\"p_e_2_mean\",\"p_e_2_std\",\"p_e_2_std\",\"p_e_2_std\",\"p_e_2_std\",\"p_e_2_std\",\"p_e_2_std\",\"p_e_2_std\",\"p_e_2_std\",\"p_e_4_mean\",\"p_e_4_mean\",\"p_e_4_mean\",\"p_e_4_mean\",\"p_e_4_mean\",\"p_e_4_mean\",\"p_e_4_mean\",\"p_e_4_mean\",\"p_e_4_std\",\"p_e_4_std\",\"p_e_4_std\",\"p_e_4_std\",\"p_e_4_std\",\"p_e_4_std\",\"p_e_4_std\",\"p_e_4_std\",\"p_e_8_mean\",\"p_e_8_mean\",\"p_e_8_mean\",\"p_e_8_mean\",\"p_e_8_mean\",\"p_e_8_mean\",\"p_e_8_mean\",\"p_e_8_mean\",\"p_e_8_std\",\"p_e_8_std\",\"p_e_8_std\",\"p_e_8_std\",\"p_e_8_std\",\"p_e_8_std\",\"p_e_8_std\",\"p_e_8_std\",\"k_mean\",\"k_mean\",\"k_mean\",\"k_mean\",\"k_mean\",\"k_mean\",\"k_mean\",\"k_mean\",\"k_std\",\"k_std\",\"k_std\",\"k_std\",\"k_std\",\"k_std\",\"k_std\",\"k_std\",\"se_mean\",\"se_mean\",\"se_mean\",\"se_mean\",\"se_mean\",\"se_mean\",\"se_mean\",\"se_mean\",\"se_std\",\"se_std\",\"se_std\",\"se_std\",\"se_std\",\"se_std\",\"se_std\",\"se_std\",\"msf_mean\",\"msf_mean\",\"msf_mean\",\"msf_mean\",\"msf_mean\",\"msf_mean\",\"msf_mean\",\"msf_mean\",\"msf_std\",\"msf_std\",\"msf_std\",\"msf_std\",\"msf_std\",\"msf_std\",\"msf_std\",\"msf_std\",\"sef90_mean\",\"sef90_mean\",\"sef90_mean\",\"sef90_mean\",\"sef90_mean\",\"sef90_mean\",\"sef90_mean\",\"sef90_mean\",\"sef90_std\",\"sef90_std\",\"sef90_std\",\"sef90_std\",\"sef90_std\",\"sef90_std\",\"sef90_std\",\"sef90_std\",\"sef95_mean\",\"sef95_mean\",\"sef95_mean\",\"sef95_mean\",\"sef95_mean\",\"sef95_mean\",\"sef95_mean\",\"sef95_mean\",\"sef95_std\",\"sef95_std\",\"sef95_std\",\"sef95_std\",\"sef95_std\",\"sef95_std\",\"sef95_std\",\"sef95_std\",\"b_mean\",\"b_mean\",\"b_mean\",\"b_mean\",\"b_mean\",\"b_mean\",\"b_mean\",\"b_mean\",\"b_std\",\"b_std\",\"b_std\",\"b_std\",\"b_std\",\"b_std\",\"b_std\",\"b_std\",\"b_n_mean\",\"b_n_mean\",\"b_n_mean\",\"b_n_mean\",\"b_n_mean\",\"b_n_mean\",\"b_n_mean\",\"b_n_mean\",\"b_n_std\",\"b_n_std\",\"b_n_std\",\"b_n_std\",\"b_n_std\",\"b_n_std\",\"b_n_std\",\"b_n_std\",\"g_mean\",\"g_mean\",\"g_mean\",\"g_mean\",\"g_mean\",\"g_mean\",\"g_mean\",\"g_mean\",\"g_std\",\"g_std\",\"g_std\",\"g_std\",\"g_std\",\"g_std\",\"g_std\",\"g_std\",\"g_n_mean\",\"g_n_mean\",\"g_n_mean\",\"g_n_mean\",\"g_n_mean\",\"g_n_mean\",\"g_n_mean\",\"g_n_mean\",\"g_n_std\",\"g_n_std\",\"g_n_std\",\"g_n_std\",\"g_n_std\",\"g_n_std\",\"g_n_std\",\"g_n_std\",\"t_mean\",\"t_mean\",\"t_mean\",\"t_mean\",\"t_mean\",\"t_mean\",\"t_mean\",\"t_mean\",\"t_std\",\"t_std\",\"t_std\",\"t_std\",\"t_std\",\"t_std\",\"t_std\",\"t_std\",\"t_n_mean\",\"t_n_mean\",\"t_n_mean\",\"t_n_mean\",\"t_n_mean\",\"t_n_mean\",\"t_n_mean\",\"t_n_mean\",\"t_n_std\",\"t_n_std\",\"t_n_std\",\"t_n_std\",\"t_n_std\",\"t_n_std\",\"t_n_std\",\"t_n_std\",\"d_mean\",\"d_mean\",\"d_mean\",\"d_mean\",\"d_mean\",\"d_mean\",\"d_mean\",\"d_mean\",\"d_std\",\"d_std\",\"d_std\",\"d_std\",\"d_std\",\"d_std\",\"d_std\",\"d_std\",\"d_n_mean\",\"d_n_mean\",\"d_n_mean\",\"d_n_mean\",\"d_n_mean\",\"d_n_mean\",\"d_n_mean\",\"d_n_mean\",\"d_n_std\",\"d_n_std\",\"d_n_std\",\"d_n_std\",\"d_n_std\",\"d_n_std\",\"d_n_std\",\"d_n_std\",\"a_n_mean\",\"a_n_mean\",\"a_n_mean\",\"a_n_mean\",\"a_n_mean\",\"a_n_mean\",\"a_n_mean\",\"a_n_mean\",\"a_n_std\",\"a_n_std\",\"a_n_std\",\"a_n_std\",\"a_n_std\",\"a_n_std\",\"a_n_std\",\"a_n_std\",\"a_mean\",\"a_mean\",\"a_mean\",\"a_mean\",\"a_mean\",\"a_mean\",\"a_mean\",\"a_mean\",\"a_std\",\"a_std\",\"a_std\",\"a_std\",\"a_std\",\"a_std\",\"a_std\",\"a_std\",\"CNV_mean\",\"CNV_mean\",\"CNV_mean\",\"CNV_mean\",\"CNV_mean\",\"CNV_mean\",\"CNV_mean\",\"CNV_mean\",\"CNV_std\",\"CNV_std\",\"CNV_std\",\"CNV_std\",\"CNV_std\",\"CNV_std\",\"CNV_std\",\"CNV_std\",\"P1_mean\",\"P1_mean\",\"P1_mean\",\"P1_mean\",\"P1_mean\",\"P1_mean\",\"P1_mean\",\"P1_mean\",\"P1_std\",\"P1_std\",\"P1_std\",\"P1_std\",\"P1_std\",\"P1_std\",\"P1_std\",\"P1_std\",\"P3a_mean\",\"P3a_mean\",\"P3a_mean\",\"P3a_mean\",\"P3a_mean\",\"P3a_mean\",\"P3a_mean\",\"P3a_mean\",\"P3a_std\",\"P3a_std\",\"P3a_std\",\"P3a_std\",\"P3a_std\",\"P3a_std\",\"P3a_std\",\"P3a_std\",\"P3b_mean\",\"P3b_mean\",\"P3b_mean\",\"P3b_mean\",\"P3b_mean\",\"P3b_mean\",\"P3b_mean\",\"P3b_mean\",\"P3b_std\",\"P3b_std\",\"P3b_std\",\"P3b_std\",\"P3b_std\",\"P3b_std\",\"P3b_std\",\"P3b_std\"],\"y0\":\" \",\"yaxis\":\"y\",\"type\":\"box\"}],                        {\"template\":{\"data\":{\"barpolar\":[{\"marker\":{\"line\":{\"color\":\"white\",\"width\":0.5},\"pattern\":{\"fillmode\":\"overlay\",\"size\":10,\"solidity\":0.2}},\"type\":\"barpolar\"}],\"bar\":[{\"error_x\":{\"color\":\"#2a3f5f\"},\"error_y\":{\"color\":\"#2a3f5f\"},\"marker\":{\"line\":{\"color\":\"white\",\"width\":0.5},\"pattern\":{\"fillmode\":\"overlay\",\"size\":10,\"solidity\":0.2}},\"type\":\"bar\"}],\"carpet\":[{\"aaxis\":{\"endlinecolor\":\"#2a3f5f\",\"gridcolor\":\"#C8D4E3\",\"linecolor\":\"#C8D4E3\",\"minorgridcolor\":\"#C8D4E3\",\"startlinecolor\":\"#2a3f5f\"},\"baxis\":{\"endlinecolor\":\"#2a3f5f\",\"gridcolor\":\"#C8D4E3\",\"linecolor\":\"#C8D4E3\",\"minorgridcolor\":\"#C8D4E3\",\"startlinecolor\":\"#2a3f5f\"},\"type\":\"carpet\"}],\"choropleth\":[{\"colorbar\":{\"outlinewidth\":0,\"ticks\":\"\"},\"type\":\"choropleth\"}],\"contourcarpet\":[{\"colorbar\":{\"outlinewidth\":0,\"ticks\":\"\"},\"type\":\"contourcarpet\"}],\"contour\":[{\"colorbar\":{\"outlinewidth\":0,\"ticks\":\"\"},\"colorscale\":[[0.0,\"#0d0887\"],[0.1111111111111111,\"#46039f\"],[0.2222222222222222,\"#7201a8\"],[0.3333333333333333,\"#9c179e\"],[0.4444444444444444,\"#bd3786\"],[0.5555555555555556,\"#d8576b\"],[0.6666666666666666,\"#ed7953\"],[0.7777777777777778,\"#fb9f3a\"],[0.8888888888888888,\"#fdca26\"],[1.0,\"#f0f921\"]],\"type\":\"contour\"}],\"heatmapgl\":[{\"colorbar\":{\"outlinewidth\":0,\"ticks\":\"\"},\"colorscale\":[[0.0,\"#0d0887\"],[0.1111111111111111,\"#46039f\"],[0.2222222222222222,\"#7201a8\"],[0.3333333333333333,\"#9c179e\"],[0.4444444444444444,\"#bd3786\"],[0.5555555555555556,\"#d8576b\"],[0.6666666666666666,\"#ed7953\"],[0.7777777777777778,\"#fb9f3a\"],[0.8888888888888888,\"#fdca26\"],[1.0,\"#f0f921\"]],\"type\":\"heatmapgl\"}],\"heatmap\":[{\"colorbar\":{\"outlinewidth\":0,\"ticks\":\"\"},\"colorscale\":[[0.0,\"#0d0887\"],[0.1111111111111111,\"#46039f\"],[0.2222222222222222,\"#7201a8\"],[0.3333333333333333,\"#9c179e\"],[0.4444444444444444,\"#bd3786\"],[0.5555555555555556,\"#d8576b\"],[0.6666666666666666,\"#ed7953\"],[0.7777777777777778,\"#fb9f3a\"],[0.8888888888888888,\"#fdca26\"],[1.0,\"#f0f921\"]],\"type\":\"heatmap\"}],\"histogram2dcontour\":[{\"colorbar\":{\"outlinewidth\":0,\"ticks\":\"\"},\"colorscale\":[[0.0,\"#0d0887\"],[0.1111111111111111,\"#46039f\"],[0.2222222222222222,\"#7201a8\"],[0.3333333333333333,\"#9c179e\"],[0.4444444444444444,\"#bd3786\"],[0.5555555555555556,\"#d8576b\"],[0.6666666666666666,\"#ed7953\"],[0.7777777777777778,\"#fb9f3a\"],[0.8888888888888888,\"#fdca26\"],[1.0,\"#f0f921\"]],\"type\":\"histogram2dcontour\"}],\"histogram2d\":[{\"colorbar\":{\"outlinewidth\":0,\"ticks\":\"\"},\"colorscale\":[[0.0,\"#0d0887\"],[0.1111111111111111,\"#46039f\"],[0.2222222222222222,\"#7201a8\"],[0.3333333333333333,\"#9c179e\"],[0.4444444444444444,\"#bd3786\"],[0.5555555555555556,\"#d8576b\"],[0.6666666666666666,\"#ed7953\"],[0.7777777777777778,\"#fb9f3a\"],[0.8888888888888888,\"#fdca26\"],[1.0,\"#f0f921\"]],\"type\":\"histogram2d\"}],\"histogram\":[{\"marker\":{\"pattern\":{\"fillmode\":\"overlay\",\"size\":10,\"solidity\":0.2}},\"type\":\"histogram\"}],\"mesh3d\":[{\"colorbar\":{\"outlinewidth\":0,\"ticks\":\"\"},\"type\":\"mesh3d\"}],\"parcoords\":[{\"line\":{\"colorbar\":{\"outlinewidth\":0,\"ticks\":\"\"}},\"type\":\"parcoords\"}],\"pie\":[{\"automargin\":true,\"type\":\"pie\"}],\"scatter3d\":[{\"line\":{\"colorbar\":{\"outlinewidth\":0,\"ticks\":\"\"}},\"marker\":{\"colorbar\":{\"outlinewidth\":0,\"ticks\":\"\"}},\"type\":\"scatter3d\"}],\"scattercarpet\":[{\"marker\":{\"colorbar\":{\"outlinewidth\":0,\"ticks\":\"\"}},\"type\":\"scattercarpet\"}],\"scattergeo\":[{\"marker\":{\"colorbar\":{\"outlinewidth\":0,\"ticks\":\"\"}},\"type\":\"scattergeo\"}],\"scattergl\":[{\"marker\":{\"colorbar\":{\"outlinewidth\":0,\"ticks\":\"\"}},\"type\":\"scattergl\"}],\"scattermapbox\":[{\"marker\":{\"colorbar\":{\"outlinewidth\":0,\"ticks\":\"\"}},\"type\":\"scattermapbox\"}],\"scatterpolargl\":[{\"marker\":{\"colorbar\":{\"outlinewidth\":0,\"ticks\":\"\"}},\"type\":\"scatterpolargl\"}],\"scatterpolar\":[{\"marker\":{\"colorbar\":{\"outlinewidth\":0,\"ticks\":\"\"}},\"type\":\"scatterpolar\"}],\"scatter\":[{\"fillpattern\":{\"fillmode\":\"overlay\",\"size\":10,\"solidity\":0.2},\"type\":\"scatter\"}],\"scatterternary\":[{\"marker\":{\"colorbar\":{\"outlinewidth\":0,\"ticks\":\"\"}},\"type\":\"scatterternary\"}],\"surface\":[{\"colorbar\":{\"outlinewidth\":0,\"ticks\":\"\"},\"colorscale\":[[0.0,\"#0d0887\"],[0.1111111111111111,\"#46039f\"],[0.2222222222222222,\"#7201a8\"],[0.3333333333333333,\"#9c179e\"],[0.4444444444444444,\"#bd3786\"],[0.5555555555555556,\"#d8576b\"],[0.6666666666666666,\"#ed7953\"],[0.7777777777777778,\"#fb9f3a\"],[0.8888888888888888,\"#fdca26\"],[1.0,\"#f0f921\"]],\"type\":\"surface\"}],\"table\":[{\"cells\":{\"fill\":{\"color\":\"#EBF0F8\"},\"line\":{\"color\":\"white\"}},\"header\":{\"fill\":{\"color\":\"#C8D4E3\"},\"line\":{\"color\":\"white\"}},\"type\":\"table\"}]},\"layout\":{\"annotationdefaults\":{\"arrowcolor\":\"#2a3f5f\",\"arrowhead\":0,\"arrowwidth\":1},\"autotypenumbers\":\"strict\",\"coloraxis\":{\"colorbar\":{\"outlinewidth\":0,\"ticks\":\"\"}},\"colorscale\":{\"diverging\":[[0,\"#8e0152\"],[0.1,\"#c51b7d\"],[0.2,\"#de77ae\"],[0.3,\"#f1b6da\"],[0.4,\"#fde0ef\"],[0.5,\"#f7f7f7\"],[0.6,\"#e6f5d0\"],[0.7,\"#b8e186\"],[0.8,\"#7fbc41\"],[0.9,\"#4d9221\"],[1,\"#276419\"]],\"sequential\":[[0.0,\"#0d0887\"],[0.1111111111111111,\"#46039f\"],[0.2222222222222222,\"#7201a8\"],[0.3333333333333333,\"#9c179e\"],[0.4444444444444444,\"#bd3786\"],[0.5555555555555556,\"#d8576b\"],[0.6666666666666666,\"#ed7953\"],[0.7777777777777778,\"#fb9f3a\"],[0.8888888888888888,\"#fdca26\"],[1.0,\"#f0f921\"]],\"sequentialminus\":[[0.0,\"#0d0887\"],[0.1111111111111111,\"#46039f\"],[0.2222222222222222,\"#7201a8\"],[0.3333333333333333,\"#9c179e\"],[0.4444444444444444,\"#bd3786\"],[0.5555555555555556,\"#d8576b\"],[0.6666666666666666,\"#ed7953\"],[0.7777777777777778,\"#fb9f3a\"],[0.8888888888888888,\"#fdca26\"],[1.0,\"#f0f921\"]]},\"colorway\":[\"#636efa\",\"#EF553B\",\"#00cc96\",\"#ab63fa\",\"#FFA15A\",\"#19d3f3\",\"#FF6692\",\"#B6E880\",\"#FF97FF\",\"#FECB52\"],\"font\":{\"color\":\"#2a3f5f\"},\"geo\":{\"bgcolor\":\"white\",\"lakecolor\":\"white\",\"landcolor\":\"white\",\"showlakes\":true,\"showland\":true,\"subunitcolor\":\"#C8D4E3\"},\"hoverlabel\":{\"align\":\"left\"},\"hovermode\":\"closest\",\"mapbox\":{\"style\":\"light\"},\"paper_bgcolor\":\"white\",\"plot_bgcolor\":\"white\",\"polar\":{\"angularaxis\":{\"gridcolor\":\"#EBF0F8\",\"linecolor\":\"#EBF0F8\",\"ticks\":\"\"},\"bgcolor\":\"white\",\"radialaxis\":{\"gridcolor\":\"#EBF0F8\",\"linecolor\":\"#EBF0F8\",\"ticks\":\"\"}},\"scene\":{\"xaxis\":{\"backgroundcolor\":\"white\",\"gridcolor\":\"#DFE8F3\",\"gridwidth\":2,\"linecolor\":\"#EBF0F8\",\"showbackground\":true,\"ticks\":\"\",\"zerolinecolor\":\"#EBF0F8\"},\"yaxis\":{\"backgroundcolor\":\"white\",\"gridcolor\":\"#DFE8F3\",\"gridwidth\":2,\"linecolor\":\"#EBF0F8\",\"showbackground\":true,\"ticks\":\"\",\"zerolinecolor\":\"#EBF0F8\"},\"zaxis\":{\"backgroundcolor\":\"white\",\"gridcolor\":\"#DFE8F3\",\"gridwidth\":2,\"linecolor\":\"#EBF0F8\",\"showbackground\":true,\"ticks\":\"\",\"zerolinecolor\":\"#EBF0F8\"}},\"shapedefaults\":{\"line\":{\"color\":\"#2a3f5f\"}},\"ternary\":{\"aaxis\":{\"gridcolor\":\"#DFE8F3\",\"linecolor\":\"#A2B1C6\",\"ticks\":\"\"},\"baxis\":{\"gridcolor\":\"#DFE8F3\",\"linecolor\":\"#A2B1C6\",\"ticks\":\"\"},\"bgcolor\":\"white\",\"caxis\":{\"gridcolor\":\"#DFE8F3\",\"linecolor\":\"#A2B1C6\",\"ticks\":\"\"}},\"title\":{\"x\":0.05},\"xaxis\":{\"automargin\":true,\"gridcolor\":\"#EBF0F8\",\"linecolor\":\"#EBF0F8\",\"ticks\":\"\",\"title\":{\"standoff\":15},\"zerolinecolor\":\"#EBF0F8\",\"zerolinewidth\":2},\"yaxis\":{\"automargin\":true,\"gridcolor\":\"#EBF0F8\",\"linecolor\":\"#EBF0F8\",\"ticks\":\"\",\"title\":{\"standoff\":15},\"zerolinecolor\":\"#EBF0F8\",\"zerolinewidth\":2}}},\"xaxis\":{\"anchor\":\"y\",\"domain\":[0.0,1.0],\"title\":{\"text\":\"Feature Importance\"},\"tickfont\":{\"size\":20},\"visible\":true,\"range\":[0,0.9]},\"yaxis\":{\"anchor\":\"x\",\"domain\":[0.0,1.0],\"title\":{\"text\":\"Feature\"},\"categoryorder\":\"total ascending\",\"tickfont\":{\"size\":20},\"automargin\":true,\"range\":[-1,54],\"dtick\":1},\"legend\":{\"tracegroupgap\":0},\"title\":{\"text\":\"FI of Top 10 Models on-task_vs_sMW \\u003cbr \\u003e\\nAverage AUC 0.689 \\u003cbr\\u003e\\nBest AUC 0.701\\n                 \"},\"boxmode\":\"group\",\"font\":{\"family\":\"Times new roman\",\"size\":20,\"color\":\"black\"},\"margin\":{\"l\":50,\"r\":50,\"t\":150,\"b\":50},\"width\":650,\"height\":1100,\"showlegend\":true},                        {\"responsive\": true}                    ).then(function(){\n",
       "                            \n",
       "var gd = document.getElementById('0efd798e-07f4-4da6-8f52-7f304fdf73bc');\n",
       "var x = new MutationObserver(function (mutations, observer) {{\n",
       "        var display = window.getComputedStyle(gd).display;\n",
       "        if (!display || display === 'none') {{\n",
       "            console.log([gd, 'removed!']);\n",
       "            Plotly.purge(gd);\n",
       "            observer.disconnect();\n",
       "        }}\n",
       "}});\n",
       "\n",
       "// Listen for the removal of the full notebook cells\n",
       "var notebookContainer = gd.closest('#notebook-container');\n",
       "if (notebookContainer) {{\n",
       "    x.observe(notebookContainer, {childList: true});\n",
       "}}\n",
       "\n",
       "// Listen for the clearing of the current output cell\n",
       "var outputEl = gd.closest('.output');\n",
       "if (outputEl) {{\n",
       "    x.observe(outputEl, {childList: true});\n",
       "}}\n",
       "\n",
       "                        })                };                });            </script>        </div>"
      ]
     },
     "metadata": {},
     "output_type": "display_data"
    },
    {
     "data": {
      "application/vnd.plotly.v1+json": {
       "config": {
        "plotlyServerURL": "https://plot.ly"
       },
       "data": [
        {
         "alignmentgroup": "True",
         "hovertemplate": "Importance=%{x}<br>Feature=%{y}<extra></extra>",
         "legendgroup": "",
         "marker": {
          "color": "#42B9B2",
          "size": 8
         },
         "name": "",
         "notched": false,
         "offsetgroup": "",
         "orientation": "h",
         "showlegend": false,
         "type": "box",
         "x": [
          0,
          0.01433296,
          0,
          0.01535217,
          0,
          0.00555295,
          0,
          0.00406825,
          0.00393469,
          0,
          0.0033185,
          0.00454545,
          0.00403813,
          0.00942258,
          0.0039934,
          0.01886509,
          0.00641026,
          0.01823567,
          0.00320911,
          0.00434024,
          0,
          0.01365455,
          0,
          0.00736894,
          0,
          0.01475282,
          0,
          0.01595557,
          0,
          0,
          0.02453083,
          0.00377503,
          0,
          0.00636668,
          0,
          0.01781517,
          0.00641026,
          0.01852729,
          0.01848126,
          0.00892857,
          0,
          0,
          0,
          0.00432117,
          0,
          0.00222388,
          0,
          0.00214096,
          0.00323598,
          0,
          0,
          0.00147738,
          0,
          0.00966481,
          0,
          0,
          0,
          0,
          0,
          0,
          0.00303622,
          0.00460168,
          0.00287587,
          0.00203883,
          0,
          0.00634039,
          0.00566723,
          0.00658027,
          0.00214749,
          0.00318864,
          0.00463052,
          0,
          0.00500915,
          0.01211332,
          0.00524426,
          0.00788646,
          0.00427681,
          0.00767201,
          0.00384048,
          0.00558436,
          0.03238578,
          0.01010209,
          0.03246899,
          0.00937507,
          0.02845159,
          0.02149442,
          0.00806452,
          0.01505948,
          0.02857672,
          0.04158568,
          0.02818627,
          0.02002378,
          0.01704508,
          0.03262783,
          0.03309179,
          0.01869943,
          0.03390293,
          0.02137222,
          0.01377153,
          0.04481374,
          0.04457307,
          0.02660101,
          0.05377782,
          0.01774032,
          0.04396817,
          0.03616486,
          0.04187795,
          0.04300629,
          0.04657584,
          0.05038596,
          0.00421927,
          0.00428716,
          0,
          0.00167816,
          0,
          0.00260329,
          0,
          0.00304066,
          0,
          0,
          0,
          0.02164328,
          0,
          0.01963261,
          0,
          0.00319048,
          0.00246835,
          0.00555192,
          0.00316515,
          0,
          0.03289133,
          0.01413508,
          0.03394083,
          0.01795423,
          0.0391871,
          0.02658627,
          0.02831328,
          0.02465944,
          0.02697788,
          0.01677733,
          0,
          0.0217367,
          0.01041667,
          0.02850034,
          0,
          0.01073079,
          0.00629678,
          0.00791477,
          0.00892857,
          0,
          0.02268441,
          0.00649182,
          0.01241961,
          0.00354401,
          0.02682482,
          0.020582,
          0.01624956,
          0.02002722,
          0.01672454,
          0.02504445,
          0.08535202,
          0.07168485,
          0.06973188,
          0.05345367,
          0.07774791,
          0.05340298,
          0.05747519,
          0.06466609,
          0.06043159,
          0.08922163,
          0.02083333,
          0.0188626,
          0.02102647,
          0.02099209,
          0,
          0.03081105,
          0.01657278,
          0.02100264,
          0.03315724,
          0.02272727,
          0,
          0.03395685,
          0.00339695,
          0.00799909,
          0,
          0.00278795,
          0.0138623,
          0.00287322,
          0,
          0,
          0.00833333,
          0.03381006,
          0.00806452,
          0.02234989,
          0,
          0.0175092,
          0.03143137,
          0.01345631,
          0.0333877,
          0.01315789,
          0.04803922,
          0.04684278,
          0.05922873,
          0.04513056,
          0.06480518,
          0.03793157,
          0.06119821,
          0.03697476,
          0.05019115,
          0.03101504,
          0.06985294,
          0.03017058,
          0.05102475,
          0.03296775,
          0.07042336,
          0.04234606,
          0.03954172,
          0.04834848,
          0.05437902,
          0.0625,
          0.01568627,
          0.01705516,
          0.02123908,
          0.02482166,
          0.01086957,
          0.03199505,
          0.00806452,
          0.0315816,
          0.01683316,
          0.01315789,
          0.01122741,
          0.04490929,
          0.02660931,
          0.05034994,
          0.00833333,
          0.01173539,
          0.03962809,
          0.01445368,
          0.00907128,
          0.00892857,
          0,
          0.02048286,
          0,
          0.01779064,
          0,
          0,
          0.01881161,
          0,
          0,
          0,
          0.02083333,
          0.01850387,
          0.02856628,
          0.0109881,
          0.01388889,
          0.02269772,
          0.00806452,
          0.02803885,
          0.0162814,
          0,
          0,
          0.02473782,
          0,
          0.01875651,
          0,
          0.00230881,
          0.00362316,
          0.00357719,
          0,
          0,
          0.00735294,
          0.01355383,
          0.01822917,
          0.0161703,
          0.00833333,
          0.03778967,
          0.01447477,
          0.02414021,
          0.01844512,
          0.00892857,
          0.00735294,
          0.01403211,
          0.01587702,
          0.00666199,
          0.00833333,
          0.01331382,
          0,
          0.01099746,
          0.03541886,
          0.00892857,
          0.01568627,
          0.01236391,
          0.01587702,
          0.00781275,
          0.0192029,
          0.02607763,
          0.00641026,
          0.01964962,
          0.01234756,
          0.02208647,
          0.02818627,
          0.01801736,
          0.04099957,
          0.02789455,
          0.03309179,
          0.02048901,
          0.01777389,
          0.0214599,
          0.03516502,
          0.03165584,
          0.01568627,
          0.03139773,
          0,
          0.01634418,
          0,
          0.01709841,
          0.02739417,
          0.01253133,
          0.01234756,
          0.00892857,
          0.05,
          0.02634102,
          0.04502688,
          0.03558533,
          0.06038647,
          0.0408085,
          0.03079179,
          0.07099346,
          0.03660714,
          0.03947368,
          0,
          0.01263928,
          0,
          0.0055203,
          0,
          0,
          0.00151202,
          0.00278057,
          0,
          0,
          0.06053922,
          0.02135685,
          0.05679469,
          0.02669164,
          0.06065589,
          0.04103773,
          0.04091675,
          0.04656857,
          0.04912038,
          0.05374231,
          0.00309828,
          0.01582727,
          0.00743325,
          0.00767917,
          0.00409947,
          0.01229063,
          0,
          0.00908083,
          0.00598607,
          0.00540882,
          0.11299501,
          0.06164608,
          0.08925663,
          0.07356881,
          0.11297845,
          0.07759293,
          0.1080126,
          0.07692288,
          0.07102329,
          0.11677843,
          0.00444654,
          0.00423729,
          0.00999215,
          0,
          0.00533506,
          0.00867134,
          0.00276479,
          0.00355107,
          0.00872807,
          0.00717983,
          0.00735294,
          0.02458371,
          0.02251838,
          0.01444294,
          0.00833333,
          0.01270065,
          0.01089596,
          0.01422266,
          0.00609756,
          0.00892857,
          0,
          0.00716872,
          0,
          0.01405011,
          0,
          0,
          0.01447477,
          0,
          0,
          0,
          0,
          0,
          0,
          0.00436551,
          0,
          0,
          0,
          0,
          0,
          0,
          0.00365544,
          0.00764575,
          0.00740094,
          0.00767228,
          0,
          0.00625833,
          0,
          0.00671447,
          0.00970435,
          0,
          0.05183235,
          0.04883596,
          0.03683734,
          0.05854099,
          0.05004349,
          0.03020726,
          0.0516099,
          0.03365959,
          0.03223823,
          0.07223978,
          0.04068627,
          0.04826812,
          0.0305829,
          0.05248951,
          0.03843367,
          0.02984025,
          0.0520632,
          0.02179059,
          0.02623645,
          0.05333647,
          0.00626529,
          0.00493308,
          0.00744274,
          0.00281688,
          0.00813517,
          0.01964676,
          0.00808649,
          0.02072884,
          0.01804517,
          0.00458833,
          0.00262829,
          0.02597347,
          0.02691453,
          0.0282301,
          0.02376886,
          0.01760978,
          0.03225943,
          0.01118769,
          0.05249475,
          0.00892857,
          0.04595433,
          0.02460598,
          0.03981654,
          0.02638194,
          0.03055556,
          0.04064228,
          0.02913753,
          0.04659552,
          0.04189237,
          0.0504234,
          0.0264608,
          0.0156667,
          0.02629368,
          0.01750297,
          0.04698068,
          0.03043843,
          0.02717924,
          0.03536185,
          0.02737369,
          0.03588517,
          0.01568627,
          0.00613002,
          0.01248006,
          0.01722759,
          0.03843367,
          0.01770106,
          0.02894955,
          0.01891737,
          0.01234756,
          0.00892857,
          0.00754014,
          0.00345635,
          0.01108623,
          0.0038522,
          0.01298044,
          0.01356691,
          0.00806452,
          0.00591148,
          0.00567855,
          0.00892857,
          0.00325762,
          0.0130073,
          0,
          0.01484678,
          0,
          0.00199253,
          0.029017,
          0.00195304,
          0.00191264,
          0,
          0,
          0.00846144,
          0,
          0.00687863,
          0,
          0.00274475,
          0,
          0.00328041,
          0,
          0,
          0,
          0.00142597,
          0.0154568,
          0.00233382,
          0,
          0.01225036,
          0,
          0,
          0.01020461,
          0,
          0.00272242,
          0,
          0.00280335,
          0.00113777,
          0.00308907,
          0.0022169,
          0,
          0.00221572,
          0.01728321,
          0.00334421
         ],
         "x0": " ",
         "xaxis": "x",
         "y": [
          "wSMI_1_mean",
          "wSMI_1_mean",
          "wSMI_1_mean",
          "wSMI_1_mean",
          "wSMI_1_mean",
          "wSMI_1_mean",
          "wSMI_1_mean",
          "wSMI_1_mean",
          "wSMI_1_mean",
          "wSMI_1_mean",
          "wSMI_1_std",
          "wSMI_1_std",
          "wSMI_1_std",
          "wSMI_1_std",
          "wSMI_1_std",
          "wSMI_1_std",
          "wSMI_1_std",
          "wSMI_1_std",
          "wSMI_1_std",
          "wSMI_1_std",
          "wSMI_2_mean",
          "wSMI_2_mean",
          "wSMI_2_mean",
          "wSMI_2_mean",
          "wSMI_2_mean",
          "wSMI_2_mean",
          "wSMI_2_mean",
          "wSMI_2_mean",
          "wSMI_2_mean",
          "wSMI_2_mean",
          "wSMI_2_std",
          "wSMI_2_std",
          "wSMI_2_std",
          "wSMI_2_std",
          "wSMI_2_std",
          "wSMI_2_std",
          "wSMI_2_std",
          "wSMI_2_std",
          "wSMI_2_std",
          "wSMI_2_std",
          "wSMI_4_mean",
          "wSMI_4_mean",
          "wSMI_4_mean",
          "wSMI_4_mean",
          "wSMI_4_mean",
          "wSMI_4_mean",
          "wSMI_4_mean",
          "wSMI_4_mean",
          "wSMI_4_mean",
          "wSMI_4_mean",
          "wSMI_4_std",
          "wSMI_4_std",
          "wSMI_4_std",
          "wSMI_4_std",
          "wSMI_4_std",
          "wSMI_4_std",
          "wSMI_4_std",
          "wSMI_4_std",
          "wSMI_4_std",
          "wSMI_4_std",
          "wSMI_8_mean",
          "wSMI_8_mean",
          "wSMI_8_mean",
          "wSMI_8_mean",
          "wSMI_8_mean",
          "wSMI_8_mean",
          "wSMI_8_mean",
          "wSMI_8_mean",
          "wSMI_8_mean",
          "wSMI_8_mean",
          "wSMI_8_std",
          "wSMI_8_std",
          "wSMI_8_std",
          "wSMI_8_std",
          "wSMI_8_std",
          "wSMI_8_std",
          "wSMI_8_std",
          "wSMI_8_std",
          "wSMI_8_std",
          "wSMI_8_std",
          "p_e_1_mean",
          "p_e_1_mean",
          "p_e_1_mean",
          "p_e_1_mean",
          "p_e_1_mean",
          "p_e_1_mean",
          "p_e_1_mean",
          "p_e_1_mean",
          "p_e_1_mean",
          "p_e_1_mean",
          "p_e_1_std",
          "p_e_1_std",
          "p_e_1_std",
          "p_e_1_std",
          "p_e_1_std",
          "p_e_1_std",
          "p_e_1_std",
          "p_e_1_std",
          "p_e_1_std",
          "p_e_1_std",
          "p_e_2_mean",
          "p_e_2_mean",
          "p_e_2_mean",
          "p_e_2_mean",
          "p_e_2_mean",
          "p_e_2_mean",
          "p_e_2_mean",
          "p_e_2_mean",
          "p_e_2_mean",
          "p_e_2_mean",
          "p_e_2_std",
          "p_e_2_std",
          "p_e_2_std",
          "p_e_2_std",
          "p_e_2_std",
          "p_e_2_std",
          "p_e_2_std",
          "p_e_2_std",
          "p_e_2_std",
          "p_e_2_std",
          "p_e_4_mean",
          "p_e_4_mean",
          "p_e_4_mean",
          "p_e_4_mean",
          "p_e_4_mean",
          "p_e_4_mean",
          "p_e_4_mean",
          "p_e_4_mean",
          "p_e_4_mean",
          "p_e_4_mean",
          "p_e_4_std",
          "p_e_4_std",
          "p_e_4_std",
          "p_e_4_std",
          "p_e_4_std",
          "p_e_4_std",
          "p_e_4_std",
          "p_e_4_std",
          "p_e_4_std",
          "p_e_4_std",
          "p_e_8_mean",
          "p_e_8_mean",
          "p_e_8_mean",
          "p_e_8_mean",
          "p_e_8_mean",
          "p_e_8_mean",
          "p_e_8_mean",
          "p_e_8_mean",
          "p_e_8_mean",
          "p_e_8_mean",
          "p_e_8_std",
          "p_e_8_std",
          "p_e_8_std",
          "p_e_8_std",
          "p_e_8_std",
          "p_e_8_std",
          "p_e_8_std",
          "p_e_8_std",
          "p_e_8_std",
          "p_e_8_std",
          "k_mean",
          "k_mean",
          "k_mean",
          "k_mean",
          "k_mean",
          "k_mean",
          "k_mean",
          "k_mean",
          "k_mean",
          "k_mean",
          "k_std",
          "k_std",
          "k_std",
          "k_std",
          "k_std",
          "k_std",
          "k_std",
          "k_std",
          "k_std",
          "k_std",
          "se_mean",
          "se_mean",
          "se_mean",
          "se_mean",
          "se_mean",
          "se_mean",
          "se_mean",
          "se_mean",
          "se_mean",
          "se_mean",
          "se_std",
          "se_std",
          "se_std",
          "se_std",
          "se_std",
          "se_std",
          "se_std",
          "se_std",
          "se_std",
          "se_std",
          "msf_mean",
          "msf_mean",
          "msf_mean",
          "msf_mean",
          "msf_mean",
          "msf_mean",
          "msf_mean",
          "msf_mean",
          "msf_mean",
          "msf_mean",
          "msf_std",
          "msf_std",
          "msf_std",
          "msf_std",
          "msf_std",
          "msf_std",
          "msf_std",
          "msf_std",
          "msf_std",
          "msf_std",
          "sef90_mean",
          "sef90_mean",
          "sef90_mean",
          "sef90_mean",
          "sef90_mean",
          "sef90_mean",
          "sef90_mean",
          "sef90_mean",
          "sef90_mean",
          "sef90_mean",
          "sef90_std",
          "sef90_std",
          "sef90_std",
          "sef90_std",
          "sef90_std",
          "sef90_std",
          "sef90_std",
          "sef90_std",
          "sef90_std",
          "sef90_std",
          "sef95_mean",
          "sef95_mean",
          "sef95_mean",
          "sef95_mean",
          "sef95_mean",
          "sef95_mean",
          "sef95_mean",
          "sef95_mean",
          "sef95_mean",
          "sef95_mean",
          "sef95_std",
          "sef95_std",
          "sef95_std",
          "sef95_std",
          "sef95_std",
          "sef95_std",
          "sef95_std",
          "sef95_std",
          "sef95_std",
          "sef95_std",
          "b_mean",
          "b_mean",
          "b_mean",
          "b_mean",
          "b_mean",
          "b_mean",
          "b_mean",
          "b_mean",
          "b_mean",
          "b_mean",
          "b_std",
          "b_std",
          "b_std",
          "b_std",
          "b_std",
          "b_std",
          "b_std",
          "b_std",
          "b_std",
          "b_std",
          "b_n_mean",
          "b_n_mean",
          "b_n_mean",
          "b_n_mean",
          "b_n_mean",
          "b_n_mean",
          "b_n_mean",
          "b_n_mean",
          "b_n_mean",
          "b_n_mean",
          "b_n_std",
          "b_n_std",
          "b_n_std",
          "b_n_std",
          "b_n_std",
          "b_n_std",
          "b_n_std",
          "b_n_std",
          "b_n_std",
          "b_n_std",
          "g_mean",
          "g_mean",
          "g_mean",
          "g_mean",
          "g_mean",
          "g_mean",
          "g_mean",
          "g_mean",
          "g_mean",
          "g_mean",
          "g_std",
          "g_std",
          "g_std",
          "g_std",
          "g_std",
          "g_std",
          "g_std",
          "g_std",
          "g_std",
          "g_std",
          "g_n_mean",
          "g_n_mean",
          "g_n_mean",
          "g_n_mean",
          "g_n_mean",
          "g_n_mean",
          "g_n_mean",
          "g_n_mean",
          "g_n_mean",
          "g_n_mean",
          "g_n_std",
          "g_n_std",
          "g_n_std",
          "g_n_std",
          "g_n_std",
          "g_n_std",
          "g_n_std",
          "g_n_std",
          "g_n_std",
          "g_n_std",
          "t_mean",
          "t_mean",
          "t_mean",
          "t_mean",
          "t_mean",
          "t_mean",
          "t_mean",
          "t_mean",
          "t_mean",
          "t_mean",
          "t_std",
          "t_std",
          "t_std",
          "t_std",
          "t_std",
          "t_std",
          "t_std",
          "t_std",
          "t_std",
          "t_std",
          "t_n_mean",
          "t_n_mean",
          "t_n_mean",
          "t_n_mean",
          "t_n_mean",
          "t_n_mean",
          "t_n_mean",
          "t_n_mean",
          "t_n_mean",
          "t_n_mean",
          "t_n_std",
          "t_n_std",
          "t_n_std",
          "t_n_std",
          "t_n_std",
          "t_n_std",
          "t_n_std",
          "t_n_std",
          "t_n_std",
          "t_n_std",
          "d_mean",
          "d_mean",
          "d_mean",
          "d_mean",
          "d_mean",
          "d_mean",
          "d_mean",
          "d_mean",
          "d_mean",
          "d_mean",
          "d_std",
          "d_std",
          "d_std",
          "d_std",
          "d_std",
          "d_std",
          "d_std",
          "d_std",
          "d_std",
          "d_std",
          "d_n_mean",
          "d_n_mean",
          "d_n_mean",
          "d_n_mean",
          "d_n_mean",
          "d_n_mean",
          "d_n_mean",
          "d_n_mean",
          "d_n_mean",
          "d_n_mean",
          "d_n_std",
          "d_n_std",
          "d_n_std",
          "d_n_std",
          "d_n_std",
          "d_n_std",
          "d_n_std",
          "d_n_std",
          "d_n_std",
          "d_n_std",
          "a_n_mean",
          "a_n_mean",
          "a_n_mean",
          "a_n_mean",
          "a_n_mean",
          "a_n_mean",
          "a_n_mean",
          "a_n_mean",
          "a_n_mean",
          "a_n_mean",
          "a_n_std",
          "a_n_std",
          "a_n_std",
          "a_n_std",
          "a_n_std",
          "a_n_std",
          "a_n_std",
          "a_n_std",
          "a_n_std",
          "a_n_std",
          "a_mean",
          "a_mean",
          "a_mean",
          "a_mean",
          "a_mean",
          "a_mean",
          "a_mean",
          "a_mean",
          "a_mean",
          "a_mean",
          "a_std",
          "a_std",
          "a_std",
          "a_std",
          "a_std",
          "a_std",
          "a_std",
          "a_std",
          "a_std",
          "a_std",
          "CNV_mean",
          "CNV_mean",
          "CNV_mean",
          "CNV_mean",
          "CNV_mean",
          "CNV_mean",
          "CNV_mean",
          "CNV_mean",
          "CNV_mean",
          "CNV_mean",
          "CNV_std",
          "CNV_std",
          "CNV_std",
          "CNV_std",
          "CNV_std",
          "CNV_std",
          "CNV_std",
          "CNV_std",
          "CNV_std",
          "CNV_std",
          "P1_mean",
          "P1_mean",
          "P1_mean",
          "P1_mean",
          "P1_mean",
          "P1_mean",
          "P1_mean",
          "P1_mean",
          "P1_mean",
          "P1_mean",
          "P1_std",
          "P1_std",
          "P1_std",
          "P1_std",
          "P1_std",
          "P1_std",
          "P1_std",
          "P1_std",
          "P1_std",
          "P1_std",
          "P3a_mean",
          "P3a_mean",
          "P3a_mean",
          "P3a_mean",
          "P3a_mean",
          "P3a_mean",
          "P3a_mean",
          "P3a_mean",
          "P3a_mean",
          "P3a_mean",
          "P3a_std",
          "P3a_std",
          "P3a_std",
          "P3a_std",
          "P3a_std",
          "P3a_std",
          "P3a_std",
          "P3a_std",
          "P3a_std",
          "P3a_std",
          "P3b_mean",
          "P3b_mean",
          "P3b_mean",
          "P3b_mean",
          "P3b_mean",
          "P3b_mean",
          "P3b_mean",
          "P3b_mean",
          "P3b_mean",
          "P3b_mean",
          "P3b_std",
          "P3b_std",
          "P3b_std",
          "P3b_std",
          "P3b_std",
          "P3b_std",
          "P3b_std",
          "P3b_std",
          "P3b_std",
          "P3b_std"
         ],
         "y0": " ",
         "yaxis": "y"
        }
       ],
       "layout": {
        "boxmode": "group",
        "font": {
         "color": "black",
         "family": "Times new roman",
         "size": 20
        },
        "height": 1100,
        "legend": {
         "tracegroupgap": 0
        },
        "margin": {
         "b": 50,
         "l": 50,
         "r": 50,
         "t": 150
        },
        "showlegend": true,
        "template": {
         "data": {
          "bar": [
           {
            "error_x": {
             "color": "#2a3f5f"
            },
            "error_y": {
             "color": "#2a3f5f"
            },
            "marker": {
             "line": {
              "color": "white",
              "width": 0.5
             },
             "pattern": {
              "fillmode": "overlay",
              "size": 10,
              "solidity": 0.2
             }
            },
            "type": "bar"
           }
          ],
          "barpolar": [
           {
            "marker": {
             "line": {
              "color": "white",
              "width": 0.5
             },
             "pattern": {
              "fillmode": "overlay",
              "size": 10,
              "solidity": 0.2
             }
            },
            "type": "barpolar"
           }
          ],
          "carpet": [
           {
            "aaxis": {
             "endlinecolor": "#2a3f5f",
             "gridcolor": "#C8D4E3",
             "linecolor": "#C8D4E3",
             "minorgridcolor": "#C8D4E3",
             "startlinecolor": "#2a3f5f"
            },
            "baxis": {
             "endlinecolor": "#2a3f5f",
             "gridcolor": "#C8D4E3",
             "linecolor": "#C8D4E3",
             "minorgridcolor": "#C8D4E3",
             "startlinecolor": "#2a3f5f"
            },
            "type": "carpet"
           }
          ],
          "choropleth": [
           {
            "colorbar": {
             "outlinewidth": 0,
             "ticks": ""
            },
            "type": "choropleth"
           }
          ],
          "contour": [
           {
            "colorbar": {
             "outlinewidth": 0,
             "ticks": ""
            },
            "colorscale": [
             [
              0,
              "#0d0887"
             ],
             [
              0.1111111111111111,
              "#46039f"
             ],
             [
              0.2222222222222222,
              "#7201a8"
             ],
             [
              0.3333333333333333,
              "#9c179e"
             ],
             [
              0.4444444444444444,
              "#bd3786"
             ],
             [
              0.5555555555555556,
              "#d8576b"
             ],
             [
              0.6666666666666666,
              "#ed7953"
             ],
             [
              0.7777777777777778,
              "#fb9f3a"
             ],
             [
              0.8888888888888888,
              "#fdca26"
             ],
             [
              1,
              "#f0f921"
             ]
            ],
            "type": "contour"
           }
          ],
          "contourcarpet": [
           {
            "colorbar": {
             "outlinewidth": 0,
             "ticks": ""
            },
            "type": "contourcarpet"
           }
          ],
          "heatmap": [
           {
            "colorbar": {
             "outlinewidth": 0,
             "ticks": ""
            },
            "colorscale": [
             [
              0,
              "#0d0887"
             ],
             [
              0.1111111111111111,
              "#46039f"
             ],
             [
              0.2222222222222222,
              "#7201a8"
             ],
             [
              0.3333333333333333,
              "#9c179e"
             ],
             [
              0.4444444444444444,
              "#bd3786"
             ],
             [
              0.5555555555555556,
              "#d8576b"
             ],
             [
              0.6666666666666666,
              "#ed7953"
             ],
             [
              0.7777777777777778,
              "#fb9f3a"
             ],
             [
              0.8888888888888888,
              "#fdca26"
             ],
             [
              1,
              "#f0f921"
             ]
            ],
            "type": "heatmap"
           }
          ],
          "heatmapgl": [
           {
            "colorbar": {
             "outlinewidth": 0,
             "ticks": ""
            },
            "colorscale": [
             [
              0,
              "#0d0887"
             ],
             [
              0.1111111111111111,
              "#46039f"
             ],
             [
              0.2222222222222222,
              "#7201a8"
             ],
             [
              0.3333333333333333,
              "#9c179e"
             ],
             [
              0.4444444444444444,
              "#bd3786"
             ],
             [
              0.5555555555555556,
              "#d8576b"
             ],
             [
              0.6666666666666666,
              "#ed7953"
             ],
             [
              0.7777777777777778,
              "#fb9f3a"
             ],
             [
              0.8888888888888888,
              "#fdca26"
             ],
             [
              1,
              "#f0f921"
             ]
            ],
            "type": "heatmapgl"
           }
          ],
          "histogram": [
           {
            "marker": {
             "pattern": {
              "fillmode": "overlay",
              "size": 10,
              "solidity": 0.2
             }
            },
            "type": "histogram"
           }
          ],
          "histogram2d": [
           {
            "colorbar": {
             "outlinewidth": 0,
             "ticks": ""
            },
            "colorscale": [
             [
              0,
              "#0d0887"
             ],
             [
              0.1111111111111111,
              "#46039f"
             ],
             [
              0.2222222222222222,
              "#7201a8"
             ],
             [
              0.3333333333333333,
              "#9c179e"
             ],
             [
              0.4444444444444444,
              "#bd3786"
             ],
             [
              0.5555555555555556,
              "#d8576b"
             ],
             [
              0.6666666666666666,
              "#ed7953"
             ],
             [
              0.7777777777777778,
              "#fb9f3a"
             ],
             [
              0.8888888888888888,
              "#fdca26"
             ],
             [
              1,
              "#f0f921"
             ]
            ],
            "type": "histogram2d"
           }
          ],
          "histogram2dcontour": [
           {
            "colorbar": {
             "outlinewidth": 0,
             "ticks": ""
            },
            "colorscale": [
             [
              0,
              "#0d0887"
             ],
             [
              0.1111111111111111,
              "#46039f"
             ],
             [
              0.2222222222222222,
              "#7201a8"
             ],
             [
              0.3333333333333333,
              "#9c179e"
             ],
             [
              0.4444444444444444,
              "#bd3786"
             ],
             [
              0.5555555555555556,
              "#d8576b"
             ],
             [
              0.6666666666666666,
              "#ed7953"
             ],
             [
              0.7777777777777778,
              "#fb9f3a"
             ],
             [
              0.8888888888888888,
              "#fdca26"
             ],
             [
              1,
              "#f0f921"
             ]
            ],
            "type": "histogram2dcontour"
           }
          ],
          "mesh3d": [
           {
            "colorbar": {
             "outlinewidth": 0,
             "ticks": ""
            },
            "type": "mesh3d"
           }
          ],
          "parcoords": [
           {
            "line": {
             "colorbar": {
              "outlinewidth": 0,
              "ticks": ""
             }
            },
            "type": "parcoords"
           }
          ],
          "pie": [
           {
            "automargin": true,
            "type": "pie"
           }
          ],
          "scatter": [
           {
            "fillpattern": {
             "fillmode": "overlay",
             "size": 10,
             "solidity": 0.2
            },
            "type": "scatter"
           }
          ],
          "scatter3d": [
           {
            "line": {
             "colorbar": {
              "outlinewidth": 0,
              "ticks": ""
             }
            },
            "marker": {
             "colorbar": {
              "outlinewidth": 0,
              "ticks": ""
             }
            },
            "type": "scatter3d"
           }
          ],
          "scattercarpet": [
           {
            "marker": {
             "colorbar": {
              "outlinewidth": 0,
              "ticks": ""
             }
            },
            "type": "scattercarpet"
           }
          ],
          "scattergeo": [
           {
            "marker": {
             "colorbar": {
              "outlinewidth": 0,
              "ticks": ""
             }
            },
            "type": "scattergeo"
           }
          ],
          "scattergl": [
           {
            "marker": {
             "colorbar": {
              "outlinewidth": 0,
              "ticks": ""
             }
            },
            "type": "scattergl"
           }
          ],
          "scattermapbox": [
           {
            "marker": {
             "colorbar": {
              "outlinewidth": 0,
              "ticks": ""
             }
            },
            "type": "scattermapbox"
           }
          ],
          "scatterpolar": [
           {
            "marker": {
             "colorbar": {
              "outlinewidth": 0,
              "ticks": ""
             }
            },
            "type": "scatterpolar"
           }
          ],
          "scatterpolargl": [
           {
            "marker": {
             "colorbar": {
              "outlinewidth": 0,
              "ticks": ""
             }
            },
            "type": "scatterpolargl"
           }
          ],
          "scatterternary": [
           {
            "marker": {
             "colorbar": {
              "outlinewidth": 0,
              "ticks": ""
             }
            },
            "type": "scatterternary"
           }
          ],
          "surface": [
           {
            "colorbar": {
             "outlinewidth": 0,
             "ticks": ""
            },
            "colorscale": [
             [
              0,
              "#0d0887"
             ],
             [
              0.1111111111111111,
              "#46039f"
             ],
             [
              0.2222222222222222,
              "#7201a8"
             ],
             [
              0.3333333333333333,
              "#9c179e"
             ],
             [
              0.4444444444444444,
              "#bd3786"
             ],
             [
              0.5555555555555556,
              "#d8576b"
             ],
             [
              0.6666666666666666,
              "#ed7953"
             ],
             [
              0.7777777777777778,
              "#fb9f3a"
             ],
             [
              0.8888888888888888,
              "#fdca26"
             ],
             [
              1,
              "#f0f921"
             ]
            ],
            "type": "surface"
           }
          ],
          "table": [
           {
            "cells": {
             "fill": {
              "color": "#EBF0F8"
             },
             "line": {
              "color": "white"
             }
            },
            "header": {
             "fill": {
              "color": "#C8D4E3"
             },
             "line": {
              "color": "white"
             }
            },
            "type": "table"
           }
          ]
         },
         "layout": {
          "annotationdefaults": {
           "arrowcolor": "#2a3f5f",
           "arrowhead": 0,
           "arrowwidth": 1
          },
          "autotypenumbers": "strict",
          "coloraxis": {
           "colorbar": {
            "outlinewidth": 0,
            "ticks": ""
           }
          },
          "colorscale": {
           "diverging": [
            [
             0,
             "#8e0152"
            ],
            [
             0.1,
             "#c51b7d"
            ],
            [
             0.2,
             "#de77ae"
            ],
            [
             0.3,
             "#f1b6da"
            ],
            [
             0.4,
             "#fde0ef"
            ],
            [
             0.5,
             "#f7f7f7"
            ],
            [
             0.6,
             "#e6f5d0"
            ],
            [
             0.7,
             "#b8e186"
            ],
            [
             0.8,
             "#7fbc41"
            ],
            [
             0.9,
             "#4d9221"
            ],
            [
             1,
             "#276419"
            ]
           ],
           "sequential": [
            [
             0,
             "#0d0887"
            ],
            [
             0.1111111111111111,
             "#46039f"
            ],
            [
             0.2222222222222222,
             "#7201a8"
            ],
            [
             0.3333333333333333,
             "#9c179e"
            ],
            [
             0.4444444444444444,
             "#bd3786"
            ],
            [
             0.5555555555555556,
             "#d8576b"
            ],
            [
             0.6666666666666666,
             "#ed7953"
            ],
            [
             0.7777777777777778,
             "#fb9f3a"
            ],
            [
             0.8888888888888888,
             "#fdca26"
            ],
            [
             1,
             "#f0f921"
            ]
           ],
           "sequentialminus": [
            [
             0,
             "#0d0887"
            ],
            [
             0.1111111111111111,
             "#46039f"
            ],
            [
             0.2222222222222222,
             "#7201a8"
            ],
            [
             0.3333333333333333,
             "#9c179e"
            ],
            [
             0.4444444444444444,
             "#bd3786"
            ],
            [
             0.5555555555555556,
             "#d8576b"
            ],
            [
             0.6666666666666666,
             "#ed7953"
            ],
            [
             0.7777777777777778,
             "#fb9f3a"
            ],
            [
             0.8888888888888888,
             "#fdca26"
            ],
            [
             1,
             "#f0f921"
            ]
           ]
          },
          "colorway": [
           "#636efa",
           "#EF553B",
           "#00cc96",
           "#ab63fa",
           "#FFA15A",
           "#19d3f3",
           "#FF6692",
           "#B6E880",
           "#FF97FF",
           "#FECB52"
          ],
          "font": {
           "color": "#2a3f5f"
          },
          "geo": {
           "bgcolor": "white",
           "lakecolor": "white",
           "landcolor": "white",
           "showlakes": true,
           "showland": true,
           "subunitcolor": "#C8D4E3"
          },
          "hoverlabel": {
           "align": "left"
          },
          "hovermode": "closest",
          "mapbox": {
           "style": "light"
          },
          "paper_bgcolor": "white",
          "plot_bgcolor": "white",
          "polar": {
           "angularaxis": {
            "gridcolor": "#EBF0F8",
            "linecolor": "#EBF0F8",
            "ticks": ""
           },
           "bgcolor": "white",
           "radialaxis": {
            "gridcolor": "#EBF0F8",
            "linecolor": "#EBF0F8",
            "ticks": ""
           }
          },
          "scene": {
           "xaxis": {
            "backgroundcolor": "white",
            "gridcolor": "#DFE8F3",
            "gridwidth": 2,
            "linecolor": "#EBF0F8",
            "showbackground": true,
            "ticks": "",
            "zerolinecolor": "#EBF0F8"
           },
           "yaxis": {
            "backgroundcolor": "white",
            "gridcolor": "#DFE8F3",
            "gridwidth": 2,
            "linecolor": "#EBF0F8",
            "showbackground": true,
            "ticks": "",
            "zerolinecolor": "#EBF0F8"
           },
           "zaxis": {
            "backgroundcolor": "white",
            "gridcolor": "#DFE8F3",
            "gridwidth": 2,
            "linecolor": "#EBF0F8",
            "showbackground": true,
            "ticks": "",
            "zerolinecolor": "#EBF0F8"
           }
          },
          "shapedefaults": {
           "line": {
            "color": "#2a3f5f"
           }
          },
          "ternary": {
           "aaxis": {
            "gridcolor": "#DFE8F3",
            "linecolor": "#A2B1C6",
            "ticks": ""
           },
           "baxis": {
            "gridcolor": "#DFE8F3",
            "linecolor": "#A2B1C6",
            "ticks": ""
           },
           "bgcolor": "white",
           "caxis": {
            "gridcolor": "#DFE8F3",
            "linecolor": "#A2B1C6",
            "ticks": ""
           }
          },
          "title": {
           "x": 0.05
          },
          "xaxis": {
           "automargin": true,
           "gridcolor": "#EBF0F8",
           "linecolor": "#EBF0F8",
           "ticks": "",
           "title": {
            "standoff": 15
           },
           "zerolinecolor": "#EBF0F8",
           "zerolinewidth": 2
          },
          "yaxis": {
           "automargin": true,
           "gridcolor": "#EBF0F8",
           "linecolor": "#EBF0F8",
           "ticks": "",
           "title": {
            "standoff": 15
           },
           "zerolinecolor": "#EBF0F8",
           "zerolinewidth": 2
          }
         }
        },
        "title": {
         "text": "FI of Top 10 Models dMW_vs_sMW <br >\nAverage AUC 0.673 <br>\nBest AUC 0.717\n                 "
        },
        "width": 650,
        "xaxis": {
         "anchor": "y",
         "domain": [
          0,
          1
         ],
         "range": [
          0,
          0.9
         ],
         "tickfont": {
          "size": 20
         },
         "title": {
          "text": "Feature Importance"
         },
         "visible": true
        },
        "yaxis": {
         "anchor": "x",
         "automargin": true,
         "categoryorder": "total ascending",
         "domain": [
          0,
          1
         ],
         "dtick": 1,
         "range": [
          -1,
          54
         ],
         "tickfont": {
          "size": 20
         },
         "title": {
          "text": "Feature"
         }
        }
       }
      },
      "text/html": [
       "<div>                            <div id=\"25aef6e9-7ef3-4172-b922-7a830902c576\" class=\"plotly-graph-div\" style=\"height:1100px; width:650px;\"></div>            <script type=\"text/javascript\">                require([\"plotly\"], function(Plotly) {                    window.PLOTLYENV=window.PLOTLYENV || {};                                    if (document.getElementById(\"25aef6e9-7ef3-4172-b922-7a830902c576\")) {                    Plotly.newPlot(                        \"25aef6e9-7ef3-4172-b922-7a830902c576\",                        [{\"alignmentgroup\":\"True\",\"hovertemplate\":\"Importance=%{x}\\u003cbr\\u003eFeature=%{y}\\u003cextra\\u003e\\u003c\\u002fextra\\u003e\",\"legendgroup\":\"\",\"marker\":{\"color\":\"#42B9B2\",\"size\":8},\"name\":\"\",\"notched\":false,\"offsetgroup\":\"\",\"orientation\":\"h\",\"showlegend\":false,\"x\":[0.0,0.01433296,0.0,0.01535217,0.0,0.00555295,0.0,0.00406825,0.00393469,0.0,0.0033185,0.00454545,0.00403813,0.00942258,0.0039934,0.01886509,0.00641026,0.01823567,0.00320911,0.00434024,0.0,0.01365455,0.0,0.00736894,0.0,0.01475282,0.0,0.01595557,0.0,0.0,0.02453083,0.00377503,0.0,0.00636668,0.0,0.01781517,0.00641026,0.01852729,0.01848126,0.00892857,0.0,0.0,0.0,0.00432117,0.0,0.00222388,0.0,0.00214096,0.00323598,0.0,0.0,0.00147738,0.0,0.00966481,0.0,0.0,0.0,0.0,0.0,0.0,0.00303622,0.00460168,0.00287587,0.00203883,0.0,0.00634039,0.00566723,0.00658027,0.00214749,0.00318864,0.00463052,0.0,0.00500915,0.01211332,0.00524426,0.00788646,0.00427681,0.00767201,0.00384048,0.00558436,0.03238578,0.01010209,0.03246899,0.00937507,0.02845159,0.02149442,0.00806452,0.01505948,0.02857672,0.04158568,0.02818627,0.02002378,0.01704508,0.03262783,0.03309179,0.01869943,0.03390293,0.02137222,0.01377153,0.04481374,0.04457307,0.02660101,0.05377782,0.01774032,0.04396817,0.03616486,0.04187795,0.04300629,0.04657584,0.05038596,0.00421927,0.00428716,0.0,0.00167816,0.0,0.00260329,0.0,0.00304066,0.0,0.0,0.0,0.02164328,0.0,0.01963261,0.0,0.00319048,0.00246835,0.00555192,0.00316515,0.0,0.03289133,0.01413508,0.03394083,0.01795423,0.0391871,0.02658627,0.02831328,0.02465944,0.02697788,0.01677733,0.0,0.0217367,0.01041667,0.02850034,0.0,0.01073079,0.00629678,0.00791477,0.00892857,0.0,0.02268441,0.00649182,0.01241961,0.00354401,0.02682482,0.020582,0.01624956,0.02002722,0.01672454,0.02504445,0.08535202,0.07168485,0.06973188,0.05345367,0.07774791,0.05340298,0.05747519,0.06466609,0.06043159,0.08922163,0.02083333,0.0188626,0.02102647,0.02099209,0.0,0.03081105,0.01657278,0.02100264,0.03315724,0.02272727,0.0,0.03395685,0.00339695,0.00799909,0.0,0.00278795,0.0138623,0.00287322,0.0,0.0,0.00833333,0.03381006,0.00806452,0.02234989,0.0,0.0175092,0.03143137,0.01345631,0.0333877,0.01315789,0.04803922,0.04684278,0.05922873,0.04513056,0.06480518,0.03793157,0.06119821,0.03697476,0.05019115,0.03101504,0.06985294,0.03017058,0.05102475,0.03296775,0.07042336,0.04234606,0.03954172,0.04834848,0.05437902,0.0625,0.01568627,0.01705516,0.02123908,0.02482166,0.01086957,0.03199505,0.00806452,0.0315816,0.01683316,0.01315789,0.01122741,0.04490929,0.02660931,0.05034994,0.00833333,0.01173539,0.03962809,0.01445368,0.00907128,0.00892857,0.0,0.02048286,0.0,0.01779064,0.0,0.0,0.01881161,0.0,0.0,0.0,0.02083333,0.01850387,0.02856628,0.0109881,0.01388889,0.02269772,0.00806452,0.02803885,0.0162814,0.0,0.0,0.02473782,0.0,0.01875651,0.0,0.00230881,0.00362316,0.00357719,0.0,0.0,0.00735294,0.01355383,0.01822917,0.0161703,0.00833333,0.03778967,0.01447477,0.02414021,0.01844512,0.00892857,0.00735294,0.01403211,0.01587702,0.00666199,0.00833333,0.01331382,0.0,0.01099746,0.03541886,0.00892857,0.01568627,0.01236391,0.01587702,0.00781275,0.0192029,0.02607763,0.00641026,0.01964962,0.01234756,0.02208647,0.02818627,0.01801736,0.04099957,0.02789455,0.03309179,0.02048901,0.01777389,0.0214599,0.03516502,0.03165584,0.01568627,0.03139773,0.0,0.01634418,0.0,0.01709841,0.02739417,0.01253133,0.01234756,0.00892857,0.05,0.02634102,0.04502688,0.03558533,0.06038647,0.0408085,0.03079179,0.07099346,0.03660714,0.03947368,0.0,0.01263928,0.0,0.0055203,0.0,0.0,0.00151202,0.00278057,0.0,0.0,0.06053922,0.02135685,0.05679469,0.02669164,0.06065589,0.04103773,0.04091675,0.04656857,0.04912038,0.05374231,0.00309828,0.01582727,0.00743325,0.00767917,0.00409947,0.01229063,0.0,0.00908083,0.00598607,0.00540882,0.11299501,0.06164608,0.08925663,0.07356881,0.11297845,0.07759293,0.1080126,0.07692288,0.07102329,0.11677843,0.00444654,0.00423729,0.00999215,0.0,0.00533506,0.00867134,0.00276479,0.00355107,0.00872807,0.00717983,0.00735294,0.02458371,0.02251838,0.01444294,0.00833333,0.01270065,0.01089596,0.01422266,0.00609756,0.00892857,0.0,0.00716872,0.0,0.01405011,0.0,0.0,0.01447477,0.0,0.0,0.0,0.0,0.0,0.0,0.00436551,0.0,0.0,0.0,0.0,0.0,0.0,0.00365544,0.00764575,0.00740094,0.00767228,0.0,0.00625833,0.0,0.00671447,0.00970435,0.0,0.05183235,0.04883596,0.03683734,0.05854099,0.05004349,0.03020726,0.0516099,0.03365959,0.03223823,0.07223978,0.04068627,0.04826812,0.0305829,0.05248951,0.03843367,0.02984025,0.0520632,0.02179059,0.02623645,0.05333647,0.00626529,0.00493308,0.00744274,0.00281688,0.00813517,0.01964676,0.00808649,0.02072884,0.01804517,0.00458833,0.00262829,0.02597347,0.02691453,0.0282301,0.02376886,0.01760978,0.03225943,0.01118769,0.05249475,0.00892857,0.04595433,0.02460598,0.03981654,0.02638194,0.03055556,0.04064228,0.02913753,0.04659552,0.04189237,0.0504234,0.0264608,0.0156667,0.02629368,0.01750297,0.04698068,0.03043843,0.02717924,0.03536185,0.02737369,0.03588517,0.01568627,0.00613002,0.01248006,0.01722759,0.03843367,0.01770106,0.02894955,0.01891737,0.01234756,0.00892857,0.00754014,0.00345635,0.01108623,0.0038522,0.01298044,0.01356691,0.00806452,0.00591148,0.00567855,0.00892857,0.00325762,0.0130073,0.0,0.01484678,0.0,0.00199253,0.029017,0.00195304,0.00191264,0.0,0.0,0.00846144,0.0,0.00687863,0.0,0.00274475,0.0,0.00328041,0.0,0.0,0.0,0.00142597,0.0154568,0.00233382,0.0,0.01225036,0.0,0.0,0.01020461,0.0,0.00272242,0.0,0.00280335,0.00113777,0.00308907,0.0022169,0.0,0.00221572,0.01728321,0.00334421],\"x0\":\" \",\"xaxis\":\"x\",\"y\":[\"wSMI_1_mean\",\"wSMI_1_mean\",\"wSMI_1_mean\",\"wSMI_1_mean\",\"wSMI_1_mean\",\"wSMI_1_mean\",\"wSMI_1_mean\",\"wSMI_1_mean\",\"wSMI_1_mean\",\"wSMI_1_mean\",\"wSMI_1_std\",\"wSMI_1_std\",\"wSMI_1_std\",\"wSMI_1_std\",\"wSMI_1_std\",\"wSMI_1_std\",\"wSMI_1_std\",\"wSMI_1_std\",\"wSMI_1_std\",\"wSMI_1_std\",\"wSMI_2_mean\",\"wSMI_2_mean\",\"wSMI_2_mean\",\"wSMI_2_mean\",\"wSMI_2_mean\",\"wSMI_2_mean\",\"wSMI_2_mean\",\"wSMI_2_mean\",\"wSMI_2_mean\",\"wSMI_2_mean\",\"wSMI_2_std\",\"wSMI_2_std\",\"wSMI_2_std\",\"wSMI_2_std\",\"wSMI_2_std\",\"wSMI_2_std\",\"wSMI_2_std\",\"wSMI_2_std\",\"wSMI_2_std\",\"wSMI_2_std\",\"wSMI_4_mean\",\"wSMI_4_mean\",\"wSMI_4_mean\",\"wSMI_4_mean\",\"wSMI_4_mean\",\"wSMI_4_mean\",\"wSMI_4_mean\",\"wSMI_4_mean\",\"wSMI_4_mean\",\"wSMI_4_mean\",\"wSMI_4_std\",\"wSMI_4_std\",\"wSMI_4_std\",\"wSMI_4_std\",\"wSMI_4_std\",\"wSMI_4_std\",\"wSMI_4_std\",\"wSMI_4_std\",\"wSMI_4_std\",\"wSMI_4_std\",\"wSMI_8_mean\",\"wSMI_8_mean\",\"wSMI_8_mean\",\"wSMI_8_mean\",\"wSMI_8_mean\",\"wSMI_8_mean\",\"wSMI_8_mean\",\"wSMI_8_mean\",\"wSMI_8_mean\",\"wSMI_8_mean\",\"wSMI_8_std\",\"wSMI_8_std\",\"wSMI_8_std\",\"wSMI_8_std\",\"wSMI_8_std\",\"wSMI_8_std\",\"wSMI_8_std\",\"wSMI_8_std\",\"wSMI_8_std\",\"wSMI_8_std\",\"p_e_1_mean\",\"p_e_1_mean\",\"p_e_1_mean\",\"p_e_1_mean\",\"p_e_1_mean\",\"p_e_1_mean\",\"p_e_1_mean\",\"p_e_1_mean\",\"p_e_1_mean\",\"p_e_1_mean\",\"p_e_1_std\",\"p_e_1_std\",\"p_e_1_std\",\"p_e_1_std\",\"p_e_1_std\",\"p_e_1_std\",\"p_e_1_std\",\"p_e_1_std\",\"p_e_1_std\",\"p_e_1_std\",\"p_e_2_mean\",\"p_e_2_mean\",\"p_e_2_mean\",\"p_e_2_mean\",\"p_e_2_mean\",\"p_e_2_mean\",\"p_e_2_mean\",\"p_e_2_mean\",\"p_e_2_mean\",\"p_e_2_mean\",\"p_e_2_std\",\"p_e_2_std\",\"p_e_2_std\",\"p_e_2_std\",\"p_e_2_std\",\"p_e_2_std\",\"p_e_2_std\",\"p_e_2_std\",\"p_e_2_std\",\"p_e_2_std\",\"p_e_4_mean\",\"p_e_4_mean\",\"p_e_4_mean\",\"p_e_4_mean\",\"p_e_4_mean\",\"p_e_4_mean\",\"p_e_4_mean\",\"p_e_4_mean\",\"p_e_4_mean\",\"p_e_4_mean\",\"p_e_4_std\",\"p_e_4_std\",\"p_e_4_std\",\"p_e_4_std\",\"p_e_4_std\",\"p_e_4_std\",\"p_e_4_std\",\"p_e_4_std\",\"p_e_4_std\",\"p_e_4_std\",\"p_e_8_mean\",\"p_e_8_mean\",\"p_e_8_mean\",\"p_e_8_mean\",\"p_e_8_mean\",\"p_e_8_mean\",\"p_e_8_mean\",\"p_e_8_mean\",\"p_e_8_mean\",\"p_e_8_mean\",\"p_e_8_std\",\"p_e_8_std\",\"p_e_8_std\",\"p_e_8_std\",\"p_e_8_std\",\"p_e_8_std\",\"p_e_8_std\",\"p_e_8_std\",\"p_e_8_std\",\"p_e_8_std\",\"k_mean\",\"k_mean\",\"k_mean\",\"k_mean\",\"k_mean\",\"k_mean\",\"k_mean\",\"k_mean\",\"k_mean\",\"k_mean\",\"k_std\",\"k_std\",\"k_std\",\"k_std\",\"k_std\",\"k_std\",\"k_std\",\"k_std\",\"k_std\",\"k_std\",\"se_mean\",\"se_mean\",\"se_mean\",\"se_mean\",\"se_mean\",\"se_mean\",\"se_mean\",\"se_mean\",\"se_mean\",\"se_mean\",\"se_std\",\"se_std\",\"se_std\",\"se_std\",\"se_std\",\"se_std\",\"se_std\",\"se_std\",\"se_std\",\"se_std\",\"msf_mean\",\"msf_mean\",\"msf_mean\",\"msf_mean\",\"msf_mean\",\"msf_mean\",\"msf_mean\",\"msf_mean\",\"msf_mean\",\"msf_mean\",\"msf_std\",\"msf_std\",\"msf_std\",\"msf_std\",\"msf_std\",\"msf_std\",\"msf_std\",\"msf_std\",\"msf_std\",\"msf_std\",\"sef90_mean\",\"sef90_mean\",\"sef90_mean\",\"sef90_mean\",\"sef90_mean\",\"sef90_mean\",\"sef90_mean\",\"sef90_mean\",\"sef90_mean\",\"sef90_mean\",\"sef90_std\",\"sef90_std\",\"sef90_std\",\"sef90_std\",\"sef90_std\",\"sef90_std\",\"sef90_std\",\"sef90_std\",\"sef90_std\",\"sef90_std\",\"sef95_mean\",\"sef95_mean\",\"sef95_mean\",\"sef95_mean\",\"sef95_mean\",\"sef95_mean\",\"sef95_mean\",\"sef95_mean\",\"sef95_mean\",\"sef95_mean\",\"sef95_std\",\"sef95_std\",\"sef95_std\",\"sef95_std\",\"sef95_std\",\"sef95_std\",\"sef95_std\",\"sef95_std\",\"sef95_std\",\"sef95_std\",\"b_mean\",\"b_mean\",\"b_mean\",\"b_mean\",\"b_mean\",\"b_mean\",\"b_mean\",\"b_mean\",\"b_mean\",\"b_mean\",\"b_std\",\"b_std\",\"b_std\",\"b_std\",\"b_std\",\"b_std\",\"b_std\",\"b_std\",\"b_std\",\"b_std\",\"b_n_mean\",\"b_n_mean\",\"b_n_mean\",\"b_n_mean\",\"b_n_mean\",\"b_n_mean\",\"b_n_mean\",\"b_n_mean\",\"b_n_mean\",\"b_n_mean\",\"b_n_std\",\"b_n_std\",\"b_n_std\",\"b_n_std\",\"b_n_std\",\"b_n_std\",\"b_n_std\",\"b_n_std\",\"b_n_std\",\"b_n_std\",\"g_mean\",\"g_mean\",\"g_mean\",\"g_mean\",\"g_mean\",\"g_mean\",\"g_mean\",\"g_mean\",\"g_mean\",\"g_mean\",\"g_std\",\"g_std\",\"g_std\",\"g_std\",\"g_std\",\"g_std\",\"g_std\",\"g_std\",\"g_std\",\"g_std\",\"g_n_mean\",\"g_n_mean\",\"g_n_mean\",\"g_n_mean\",\"g_n_mean\",\"g_n_mean\",\"g_n_mean\",\"g_n_mean\",\"g_n_mean\",\"g_n_mean\",\"g_n_std\",\"g_n_std\",\"g_n_std\",\"g_n_std\",\"g_n_std\",\"g_n_std\",\"g_n_std\",\"g_n_std\",\"g_n_std\",\"g_n_std\",\"t_mean\",\"t_mean\",\"t_mean\",\"t_mean\",\"t_mean\",\"t_mean\",\"t_mean\",\"t_mean\",\"t_mean\",\"t_mean\",\"t_std\",\"t_std\",\"t_std\",\"t_std\",\"t_std\",\"t_std\",\"t_std\",\"t_std\",\"t_std\",\"t_std\",\"t_n_mean\",\"t_n_mean\",\"t_n_mean\",\"t_n_mean\",\"t_n_mean\",\"t_n_mean\",\"t_n_mean\",\"t_n_mean\",\"t_n_mean\",\"t_n_mean\",\"t_n_std\",\"t_n_std\",\"t_n_std\",\"t_n_std\",\"t_n_std\",\"t_n_std\",\"t_n_std\",\"t_n_std\",\"t_n_std\",\"t_n_std\",\"d_mean\",\"d_mean\",\"d_mean\",\"d_mean\",\"d_mean\",\"d_mean\",\"d_mean\",\"d_mean\",\"d_mean\",\"d_mean\",\"d_std\",\"d_std\",\"d_std\",\"d_std\",\"d_std\",\"d_std\",\"d_std\",\"d_std\",\"d_std\",\"d_std\",\"d_n_mean\",\"d_n_mean\",\"d_n_mean\",\"d_n_mean\",\"d_n_mean\",\"d_n_mean\",\"d_n_mean\",\"d_n_mean\",\"d_n_mean\",\"d_n_mean\",\"d_n_std\",\"d_n_std\",\"d_n_std\",\"d_n_std\",\"d_n_std\",\"d_n_std\",\"d_n_std\",\"d_n_std\",\"d_n_std\",\"d_n_std\",\"a_n_mean\",\"a_n_mean\",\"a_n_mean\",\"a_n_mean\",\"a_n_mean\",\"a_n_mean\",\"a_n_mean\",\"a_n_mean\",\"a_n_mean\",\"a_n_mean\",\"a_n_std\",\"a_n_std\",\"a_n_std\",\"a_n_std\",\"a_n_std\",\"a_n_std\",\"a_n_std\",\"a_n_std\",\"a_n_std\",\"a_n_std\",\"a_mean\",\"a_mean\",\"a_mean\",\"a_mean\",\"a_mean\",\"a_mean\",\"a_mean\",\"a_mean\",\"a_mean\",\"a_mean\",\"a_std\",\"a_std\",\"a_std\",\"a_std\",\"a_std\",\"a_std\",\"a_std\",\"a_std\",\"a_std\",\"a_std\",\"CNV_mean\",\"CNV_mean\",\"CNV_mean\",\"CNV_mean\",\"CNV_mean\",\"CNV_mean\",\"CNV_mean\",\"CNV_mean\",\"CNV_mean\",\"CNV_mean\",\"CNV_std\",\"CNV_std\",\"CNV_std\",\"CNV_std\",\"CNV_std\",\"CNV_std\",\"CNV_std\",\"CNV_std\",\"CNV_std\",\"CNV_std\",\"P1_mean\",\"P1_mean\",\"P1_mean\",\"P1_mean\",\"P1_mean\",\"P1_mean\",\"P1_mean\",\"P1_mean\",\"P1_mean\",\"P1_mean\",\"P1_std\",\"P1_std\",\"P1_std\",\"P1_std\",\"P1_std\",\"P1_std\",\"P1_std\",\"P1_std\",\"P1_std\",\"P1_std\",\"P3a_mean\",\"P3a_mean\",\"P3a_mean\",\"P3a_mean\",\"P3a_mean\",\"P3a_mean\",\"P3a_mean\",\"P3a_mean\",\"P3a_mean\",\"P3a_mean\",\"P3a_std\",\"P3a_std\",\"P3a_std\",\"P3a_std\",\"P3a_std\",\"P3a_std\",\"P3a_std\",\"P3a_std\",\"P3a_std\",\"P3a_std\",\"P3b_mean\",\"P3b_mean\",\"P3b_mean\",\"P3b_mean\",\"P3b_mean\",\"P3b_mean\",\"P3b_mean\",\"P3b_mean\",\"P3b_mean\",\"P3b_mean\",\"P3b_std\",\"P3b_std\",\"P3b_std\",\"P3b_std\",\"P3b_std\",\"P3b_std\",\"P3b_std\",\"P3b_std\",\"P3b_std\",\"P3b_std\"],\"y0\":\" \",\"yaxis\":\"y\",\"type\":\"box\"}],                        {\"template\":{\"data\":{\"barpolar\":[{\"marker\":{\"line\":{\"color\":\"white\",\"width\":0.5},\"pattern\":{\"fillmode\":\"overlay\",\"size\":10,\"solidity\":0.2}},\"type\":\"barpolar\"}],\"bar\":[{\"error_x\":{\"color\":\"#2a3f5f\"},\"error_y\":{\"color\":\"#2a3f5f\"},\"marker\":{\"line\":{\"color\":\"white\",\"width\":0.5},\"pattern\":{\"fillmode\":\"overlay\",\"size\":10,\"solidity\":0.2}},\"type\":\"bar\"}],\"carpet\":[{\"aaxis\":{\"endlinecolor\":\"#2a3f5f\",\"gridcolor\":\"#C8D4E3\",\"linecolor\":\"#C8D4E3\",\"minorgridcolor\":\"#C8D4E3\",\"startlinecolor\":\"#2a3f5f\"},\"baxis\":{\"endlinecolor\":\"#2a3f5f\",\"gridcolor\":\"#C8D4E3\",\"linecolor\":\"#C8D4E3\",\"minorgridcolor\":\"#C8D4E3\",\"startlinecolor\":\"#2a3f5f\"},\"type\":\"carpet\"}],\"choropleth\":[{\"colorbar\":{\"outlinewidth\":0,\"ticks\":\"\"},\"type\":\"choropleth\"}],\"contourcarpet\":[{\"colorbar\":{\"outlinewidth\":0,\"ticks\":\"\"},\"type\":\"contourcarpet\"}],\"contour\":[{\"colorbar\":{\"outlinewidth\":0,\"ticks\":\"\"},\"colorscale\":[[0.0,\"#0d0887\"],[0.1111111111111111,\"#46039f\"],[0.2222222222222222,\"#7201a8\"],[0.3333333333333333,\"#9c179e\"],[0.4444444444444444,\"#bd3786\"],[0.5555555555555556,\"#d8576b\"],[0.6666666666666666,\"#ed7953\"],[0.7777777777777778,\"#fb9f3a\"],[0.8888888888888888,\"#fdca26\"],[1.0,\"#f0f921\"]],\"type\":\"contour\"}],\"heatmapgl\":[{\"colorbar\":{\"outlinewidth\":0,\"ticks\":\"\"},\"colorscale\":[[0.0,\"#0d0887\"],[0.1111111111111111,\"#46039f\"],[0.2222222222222222,\"#7201a8\"],[0.3333333333333333,\"#9c179e\"],[0.4444444444444444,\"#bd3786\"],[0.5555555555555556,\"#d8576b\"],[0.6666666666666666,\"#ed7953\"],[0.7777777777777778,\"#fb9f3a\"],[0.8888888888888888,\"#fdca26\"],[1.0,\"#f0f921\"]],\"type\":\"heatmapgl\"}],\"heatmap\":[{\"colorbar\":{\"outlinewidth\":0,\"ticks\":\"\"},\"colorscale\":[[0.0,\"#0d0887\"],[0.1111111111111111,\"#46039f\"],[0.2222222222222222,\"#7201a8\"],[0.3333333333333333,\"#9c179e\"],[0.4444444444444444,\"#bd3786\"],[0.5555555555555556,\"#d8576b\"],[0.6666666666666666,\"#ed7953\"],[0.7777777777777778,\"#fb9f3a\"],[0.8888888888888888,\"#fdca26\"],[1.0,\"#f0f921\"]],\"type\":\"heatmap\"}],\"histogram2dcontour\":[{\"colorbar\":{\"outlinewidth\":0,\"ticks\":\"\"},\"colorscale\":[[0.0,\"#0d0887\"],[0.1111111111111111,\"#46039f\"],[0.2222222222222222,\"#7201a8\"],[0.3333333333333333,\"#9c179e\"],[0.4444444444444444,\"#bd3786\"],[0.5555555555555556,\"#d8576b\"],[0.6666666666666666,\"#ed7953\"],[0.7777777777777778,\"#fb9f3a\"],[0.8888888888888888,\"#fdca26\"],[1.0,\"#f0f921\"]],\"type\":\"histogram2dcontour\"}],\"histogram2d\":[{\"colorbar\":{\"outlinewidth\":0,\"ticks\":\"\"},\"colorscale\":[[0.0,\"#0d0887\"],[0.1111111111111111,\"#46039f\"],[0.2222222222222222,\"#7201a8\"],[0.3333333333333333,\"#9c179e\"],[0.4444444444444444,\"#bd3786\"],[0.5555555555555556,\"#d8576b\"],[0.6666666666666666,\"#ed7953\"],[0.7777777777777778,\"#fb9f3a\"],[0.8888888888888888,\"#fdca26\"],[1.0,\"#f0f921\"]],\"type\":\"histogram2d\"}],\"histogram\":[{\"marker\":{\"pattern\":{\"fillmode\":\"overlay\",\"size\":10,\"solidity\":0.2}},\"type\":\"histogram\"}],\"mesh3d\":[{\"colorbar\":{\"outlinewidth\":0,\"ticks\":\"\"},\"type\":\"mesh3d\"}],\"parcoords\":[{\"line\":{\"colorbar\":{\"outlinewidth\":0,\"ticks\":\"\"}},\"type\":\"parcoords\"}],\"pie\":[{\"automargin\":true,\"type\":\"pie\"}],\"scatter3d\":[{\"line\":{\"colorbar\":{\"outlinewidth\":0,\"ticks\":\"\"}},\"marker\":{\"colorbar\":{\"outlinewidth\":0,\"ticks\":\"\"}},\"type\":\"scatter3d\"}],\"scattercarpet\":[{\"marker\":{\"colorbar\":{\"outlinewidth\":0,\"ticks\":\"\"}},\"type\":\"scattercarpet\"}],\"scattergeo\":[{\"marker\":{\"colorbar\":{\"outlinewidth\":0,\"ticks\":\"\"}},\"type\":\"scattergeo\"}],\"scattergl\":[{\"marker\":{\"colorbar\":{\"outlinewidth\":0,\"ticks\":\"\"}},\"type\":\"scattergl\"}],\"scattermapbox\":[{\"marker\":{\"colorbar\":{\"outlinewidth\":0,\"ticks\":\"\"}},\"type\":\"scattermapbox\"}],\"scatterpolargl\":[{\"marker\":{\"colorbar\":{\"outlinewidth\":0,\"ticks\":\"\"}},\"type\":\"scatterpolargl\"}],\"scatterpolar\":[{\"marker\":{\"colorbar\":{\"outlinewidth\":0,\"ticks\":\"\"}},\"type\":\"scatterpolar\"}],\"scatter\":[{\"fillpattern\":{\"fillmode\":\"overlay\",\"size\":10,\"solidity\":0.2},\"type\":\"scatter\"}],\"scatterternary\":[{\"marker\":{\"colorbar\":{\"outlinewidth\":0,\"ticks\":\"\"}},\"type\":\"scatterternary\"}],\"surface\":[{\"colorbar\":{\"outlinewidth\":0,\"ticks\":\"\"},\"colorscale\":[[0.0,\"#0d0887\"],[0.1111111111111111,\"#46039f\"],[0.2222222222222222,\"#7201a8\"],[0.3333333333333333,\"#9c179e\"],[0.4444444444444444,\"#bd3786\"],[0.5555555555555556,\"#d8576b\"],[0.6666666666666666,\"#ed7953\"],[0.7777777777777778,\"#fb9f3a\"],[0.8888888888888888,\"#fdca26\"],[1.0,\"#f0f921\"]],\"type\":\"surface\"}],\"table\":[{\"cells\":{\"fill\":{\"color\":\"#EBF0F8\"},\"line\":{\"color\":\"white\"}},\"header\":{\"fill\":{\"color\":\"#C8D4E3\"},\"line\":{\"color\":\"white\"}},\"type\":\"table\"}]},\"layout\":{\"annotationdefaults\":{\"arrowcolor\":\"#2a3f5f\",\"arrowhead\":0,\"arrowwidth\":1},\"autotypenumbers\":\"strict\",\"coloraxis\":{\"colorbar\":{\"outlinewidth\":0,\"ticks\":\"\"}},\"colorscale\":{\"diverging\":[[0,\"#8e0152\"],[0.1,\"#c51b7d\"],[0.2,\"#de77ae\"],[0.3,\"#f1b6da\"],[0.4,\"#fde0ef\"],[0.5,\"#f7f7f7\"],[0.6,\"#e6f5d0\"],[0.7,\"#b8e186\"],[0.8,\"#7fbc41\"],[0.9,\"#4d9221\"],[1,\"#276419\"]],\"sequential\":[[0.0,\"#0d0887\"],[0.1111111111111111,\"#46039f\"],[0.2222222222222222,\"#7201a8\"],[0.3333333333333333,\"#9c179e\"],[0.4444444444444444,\"#bd3786\"],[0.5555555555555556,\"#d8576b\"],[0.6666666666666666,\"#ed7953\"],[0.7777777777777778,\"#fb9f3a\"],[0.8888888888888888,\"#fdca26\"],[1.0,\"#f0f921\"]],\"sequentialminus\":[[0.0,\"#0d0887\"],[0.1111111111111111,\"#46039f\"],[0.2222222222222222,\"#7201a8\"],[0.3333333333333333,\"#9c179e\"],[0.4444444444444444,\"#bd3786\"],[0.5555555555555556,\"#d8576b\"],[0.6666666666666666,\"#ed7953\"],[0.7777777777777778,\"#fb9f3a\"],[0.8888888888888888,\"#fdca26\"],[1.0,\"#f0f921\"]]},\"colorway\":[\"#636efa\",\"#EF553B\",\"#00cc96\",\"#ab63fa\",\"#FFA15A\",\"#19d3f3\",\"#FF6692\",\"#B6E880\",\"#FF97FF\",\"#FECB52\"],\"font\":{\"color\":\"#2a3f5f\"},\"geo\":{\"bgcolor\":\"white\",\"lakecolor\":\"white\",\"landcolor\":\"white\",\"showlakes\":true,\"showland\":true,\"subunitcolor\":\"#C8D4E3\"},\"hoverlabel\":{\"align\":\"left\"},\"hovermode\":\"closest\",\"mapbox\":{\"style\":\"light\"},\"paper_bgcolor\":\"white\",\"plot_bgcolor\":\"white\",\"polar\":{\"angularaxis\":{\"gridcolor\":\"#EBF0F8\",\"linecolor\":\"#EBF0F8\",\"ticks\":\"\"},\"bgcolor\":\"white\",\"radialaxis\":{\"gridcolor\":\"#EBF0F8\",\"linecolor\":\"#EBF0F8\",\"ticks\":\"\"}},\"scene\":{\"xaxis\":{\"backgroundcolor\":\"white\",\"gridcolor\":\"#DFE8F3\",\"gridwidth\":2,\"linecolor\":\"#EBF0F8\",\"showbackground\":true,\"ticks\":\"\",\"zerolinecolor\":\"#EBF0F8\"},\"yaxis\":{\"backgroundcolor\":\"white\",\"gridcolor\":\"#DFE8F3\",\"gridwidth\":2,\"linecolor\":\"#EBF0F8\",\"showbackground\":true,\"ticks\":\"\",\"zerolinecolor\":\"#EBF0F8\"},\"zaxis\":{\"backgroundcolor\":\"white\",\"gridcolor\":\"#DFE8F3\",\"gridwidth\":2,\"linecolor\":\"#EBF0F8\",\"showbackground\":true,\"ticks\":\"\",\"zerolinecolor\":\"#EBF0F8\"}},\"shapedefaults\":{\"line\":{\"color\":\"#2a3f5f\"}},\"ternary\":{\"aaxis\":{\"gridcolor\":\"#DFE8F3\",\"linecolor\":\"#A2B1C6\",\"ticks\":\"\"},\"baxis\":{\"gridcolor\":\"#DFE8F3\",\"linecolor\":\"#A2B1C6\",\"ticks\":\"\"},\"bgcolor\":\"white\",\"caxis\":{\"gridcolor\":\"#DFE8F3\",\"linecolor\":\"#A2B1C6\",\"ticks\":\"\"}},\"title\":{\"x\":0.05},\"xaxis\":{\"automargin\":true,\"gridcolor\":\"#EBF0F8\",\"linecolor\":\"#EBF0F8\",\"ticks\":\"\",\"title\":{\"standoff\":15},\"zerolinecolor\":\"#EBF0F8\",\"zerolinewidth\":2},\"yaxis\":{\"automargin\":true,\"gridcolor\":\"#EBF0F8\",\"linecolor\":\"#EBF0F8\",\"ticks\":\"\",\"title\":{\"standoff\":15},\"zerolinecolor\":\"#EBF0F8\",\"zerolinewidth\":2}}},\"xaxis\":{\"anchor\":\"y\",\"domain\":[0.0,1.0],\"title\":{\"text\":\"Feature Importance\"},\"tickfont\":{\"size\":20},\"visible\":true,\"range\":[0,0.9]},\"yaxis\":{\"anchor\":\"x\",\"domain\":[0.0,1.0],\"title\":{\"text\":\"Feature\"},\"categoryorder\":\"total ascending\",\"tickfont\":{\"size\":20},\"automargin\":true,\"range\":[-1,54],\"dtick\":1},\"legend\":{\"tracegroupgap\":0},\"title\":{\"text\":\"FI of Top 10 Models dMW_vs_sMW \\u003cbr \\u003e\\nAverage AUC 0.673 \\u003cbr\\u003e\\nBest AUC 0.717\\n                 \"},\"boxmode\":\"group\",\"font\":{\"family\":\"Times new roman\",\"size\":20,\"color\":\"black\"},\"margin\":{\"l\":50,\"r\":50,\"t\":150,\"b\":50},\"width\":650,\"height\":1100,\"showlegend\":true},                        {\"responsive\": true}                    ).then(function(){\n",
       "                            \n",
       "var gd = document.getElementById('25aef6e9-7ef3-4172-b922-7a830902c576');\n",
       "var x = new MutationObserver(function (mutations, observer) {{\n",
       "        var display = window.getComputedStyle(gd).display;\n",
       "        if (!display || display === 'none') {{\n",
       "            console.log([gd, 'removed!']);\n",
       "            Plotly.purge(gd);\n",
       "            observer.disconnect();\n",
       "        }}\n",
       "}});\n",
       "\n",
       "// Listen for the removal of the full notebook cells\n",
       "var notebookContainer = gd.closest('#notebook-container');\n",
       "if (notebookContainer) {{\n",
       "    x.observe(notebookContainer, {childList: true});\n",
       "}}\n",
       "\n",
       "// Listen for the clearing of the current output cell\n",
       "var outputEl = gd.closest('.output');\n",
       "if (outputEl) {{\n",
       "    x.observe(outputEl, {childList: true});\n",
       "}}\n",
       "\n",
       "                        })                };                });            </script>        </div>"
      ]
     },
     "metadata": {},
     "output_type": "display_data"
    }
   ],
   "source": [
    "for i, contrast in enumerate(comparisons):\n",
    "\n",
    "    df = pd.read_csv(os.path.join(results_path, f'{contrast}_PC_K4_trim_6_opt_trials.csv'), index_col = 0).sort_values('datetime_start', ascending = False).head(1000)\n",
    "\n",
    "    # .dropna()\n",
    "    # .drop_duplicates()\n",
    "    # df = df.query(\"number <= 200\")\n",
    "    \n",
    "    # Select the top 10 models based on their AUC values\n",
    "    top_models = df.nlargest(10, 'value')\n",
    "\n",
    "    # Function to parse the feature importances from string to list\n",
    "    def parse_importances(importances_str):\n",
    "        values = importances_str.replace('[', '').replace(']', '').split()\n",
    "        return [float(val) for val in values]\n",
    "\n",
    "    # Applying the parsing function to the feature importances\n",
    "    parsed_importances = top_models['feature_importances'].dropna().apply(parse_importances).tolist()\n",
    "\n",
    "    # Feature names (replace this list with your actual feature names)\n",
    "    feature_names = ['wSMI_1_mean', 'wSMI_1_std', 'wSMI_2_mean', 'wSMI_2_std', 'wSMI_4_mean',\n",
    "                    'wSMI_4_std', 'wSMI_8_mean', 'wSMI_8_std', 'p_e_1_mean', 'p_e_1_std',\n",
    "                    'p_e_2_mean', 'p_e_2_std', 'p_e_4_mean', 'p_e_4_std', 'p_e_8_mean',\n",
    "                    'p_e_8_std', 'k_mean', 'k_std', 'se_mean', 'se_std', 'msf_mean',\n",
    "                    'msf_std', 'sef90_mean', 'sef90_std', 'sef95_mean', 'sef95_std',\n",
    "                    'b_mean', 'b_std', 'b_n_mean', 'b_n_std', 'g_mean', 'g_std', 'g_n_mean',\n",
    "                    'g_n_std', 't_mean', 't_std', 't_n_mean', 't_n_std', 'd_mean', 'd_std',\n",
    "                    'd_n_mean', 'd_n_std', 'a_n_mean', 'a_n_std', 'a_mean', 'a_std',\n",
    "                    'CNV_mean', 'CNV_std', 'P1_mean', 'P1_std', 'P3a_mean', 'P3a_std',\n",
    "                    'P3b_mean', 'P3b_std']\n",
    "\n",
    "    # Creating a dataframe suitable for boxplot visualization\n",
    "    boxplot_data = pd.DataFrame(parsed_importances, columns=feature_names).melt(var_name='Feature', value_name='Importance')\n",
    "\n",
    "    # Creating the vertical boxplot using Plotly\n",
    "    fig = px.box(boxplot_data, y='Feature', x='Importance', title=f\"\"\"FI of Top 10 Models {contrast} <br >\n",
    "Average AUC {top_models.value.mean().round(3)} <br>\n",
    "Best AUC {np.round(top_models.value.max(), 3)}\n",
    "                 \"\"\", orientation='h')\n",
    "    fig.update_layout(yaxis_title='Feature', xaxis_title='Importance', yaxis={'categoryorder':'total ascending'})\n",
    "    fig.update_traces(marker_color=colors[i])\n",
    "    fig.update_traces(marker=dict(size = 8))\n",
    "\n",
    "    fig.update_layout(\n",
    "        width=650,\n",
    "        height=1100,\n",
    "        template='plotly_white',\n",
    "        font=dict(\n",
    "            family=\"Times new roman\",\n",
    "            size=20,\n",
    "            color=\"black\"\n",
    "        ),\n",
    "        xaxis=dict(\n",
    "            visible=True,\n",
    "            range = [0,0.9], \n",
    "            tickfont={\"size\": 20},\n",
    "            title='Feature Importance'\n",
    "        ),\n",
    "        yaxis=dict(\n",
    "            categoryorder='total ascending',\n",
    "            tickfont={\"size\": 20},\n",
    "            automargin=True,\n",
    "            range=[-1, len(markers)],\n",
    "            dtick=1\n",
    "        ),\n",
    "        showlegend=True,\n",
    "        margin=dict(l=50, r=50, t=150, b=50)  # Adjust the top margin\n",
    "    )\n",
    "    fig.show()\n",
    "    \n",
    "    filename = os.path.join(fig_path, f'{contrast}_top_10_feat_importances_PC_K4')\n",
    "    fig.write_image(filename +'.png')\n",
    "    fig.write_image(filename +'.pdf')\n",
    "    fig.write_image(filename +'.svg')\n",
    "    # fig.write_image(filename +'.eps')"
   ]
  },
  {
   "cell_type": "code",
   "execution_count": null,
   "metadata": {},
   "outputs": [],
   "source": []
  }
 ],
 "metadata": {
  "kernelspec": {
   "display_name": "base",
   "language": "python",
   "name": "python3"
  },
  "language_info": {
   "codemirror_mode": {
    "name": "ipython",
    "version": 3
   },
   "file_extension": ".py",
   "mimetype": "text/x-python",
   "name": "python",
   "nbconvert_exporter": "python",
   "pygments_lexer": "ipython3",
   "version": "3.10.9"
  }
 },
 "nbformat": 4,
 "nbformat_minor": 2
}
