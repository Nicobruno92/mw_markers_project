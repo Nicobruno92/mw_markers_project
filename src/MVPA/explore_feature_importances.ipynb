{
 "cells": [
  {
   "cell_type": "code",
   "execution_count": 1,
   "metadata": {},
   "outputs": [],
   "source": [
    "import os\n",
    "import pandas as pd\n",
    "import numpy as np\n",
    "\n",
    "import plotly.express as px\n",
    "import plotly.graph_objects as go\n",
    "import plotly.offline as pyo\n",
    "import plotly.io as pio\n",
    "from plotly.subplots import make_subplots\n",
    "import plotly.graph_objects as go\n",
    "\n",
    "\n",
    "import statsmodels.api as sm\n",
    "\n",
    "results_path = \"../../Results/Multivariate_all_against_all/\"\n",
    "fig_path = results_path + \"Figs/\"\n",
    "\n",
    "# %%\n",
    "markers = ['wSMI_1_mean', 'wSMI_1_std', 'wSMI_2_mean', 'wSMI_2_std', 'wSMI_4_mean',\n",
    "       'wSMI_4_std', 'wSMI_8_mean', 'wSMI_8_std', 'p_e_1_mean', 'p_e_1_std',\n",
    "       'p_e_2_mean', 'p_e_2_std', 'p_e_4_mean', 'p_e_4_std', 'p_e_8_mean',\n",
    "       'p_e_8_std', 'k_mean', 'k_std', 'se_mean', 'se_std', 'msf_mean',\n",
    "       'msf_std', 'sef90_mean', 'sef90_std', 'sef95_mean', 'sef95_std',\n",
    "       'b_mean', 'b_std', 'b_n_mean', 'b_n_std', 'g_mean', 'g_std', 'g_n_mean',\n",
    "       'g_n_std', 't_mean', 't_std', 't_n_mean', 't_n_std', 'd_mean', 'd_std',\n",
    "       'd_n_mean', 'd_n_std', 'a_n_mean', 'a_n_std', 'a_mean', 'a_std',\n",
    "       'CNV_mean', 'CNV_std', 'P1_mean', 'P1_std', 'P3a_mean', 'P3a_std',\n",
    "       'P3b_mean', 'P3b_std']\n",
    "\n",
    "# plotting parameters\n",
    "grey = \"#21201F\"\n",
    "green = \"#9AC529\"\n",
    "lblue = \"#42B9B2\"\n",
    "pink = \"#DE237B\"\n",
    "orange = \"#F38A31\"\n",
    "colors = [pink,  green, orange, lblue]\n",
    "\n",
    "comparisons = ['on-task_vs_mw','on-task_vs_dMW', 'on-task_vs_sMW', 'dMW_vs_sMW']\n",
    "# comparisons = ['on-task_vs_mw',]\n",
    "\n",
    "\n"
   ]
  },
  {
   "cell_type": "code",
   "execution_count": 2,
   "metadata": {},
   "outputs": [],
   "source": [
    "contrast = 'on-task_vs_sMW'\n",
    "df = pd.read_csv(os.path.join(results_path, f'{contrast}_PC_K4_6_opt_trials.csv'), index_col = 0).sort_values('datetime_start', ascending = False)\n",
    "# .drop_duplicates()\n",
    "# df = df.query(\"number <= 200\")\n",
    "\n",
    "# .dropna()\n",
    "# .drop_duplicates()\n",
    "# df = df.query(\"number <= 200\")\n",
    "\n",
    "# Select the top 10 models based on their AUC values\n",
    "top_models = df.nlargest(10, 'value')\n",
    "\n",
    "# Function to parse the feature importances from string to list\n",
    "def parse_importances(importances_str):\n",
    "    values = importances_str.replace('[', '').replace(']', '').split()\n",
    "    return [float(val) for val in values]\n",
    "\n",
    "# Applying the parsing function to the feature importances\n",
    "parsed_importances = top_models['feature_importances'].dropna().apply(parse_importances).tolist()"
   ]
  },
  {
   "cell_type": "code",
   "execution_count": 7,
   "metadata": {},
   "outputs": [
    {
     "data": {
      "application/vnd.plotly.v1+json": {
       "config": {
        "plotlyServerURL": "https://plot.ly"
       },
       "data": [
        {
         "boxpoints": "all",
         "jitter": 0,
         "marker": {
          "color": "#DE237B",
          "size": 3
         },
         "orientation": "h",
         "pointpos": 0,
         "type": "box",
         "x": [
          0.0075328,
          0.0049829,
          0,
          0,
          0.00281606,
          0,
          0,
          0,
          0.00861995,
          0,
          0,
          0.00650959,
          0.00466387,
          0.02286104,
          0,
          0,
          0,
          0,
          0.00270816,
          0,
          0.04389937,
          0.02832526,
          0.04678321,
          0.06651363,
          0.06779114,
          0.04281164,
          0.04147602,
          0.04101188,
          0.03995247,
          0.06843034,
          0.00789688,
          0,
          0,
          0,
          0.0055338,
          0,
          0,
          0,
          0.01818298,
          0,
          0.06140301,
          0.10904695,
          0.08288791,
          0,
          0.08614923,
          0.09030071,
          0.07625027,
          0.11171578,
          0.06379773,
          0.10658878,
          0.01978003,
          0.012956,
          0.00788397,
          0,
          0.00327493,
          0,
          0.0110221,
          0.01448674,
          0.03441971,
          0,
          0.01021993,
          0.01354401,
          0.00783766,
          0.00814059,
          0,
          0,
          0.00636683,
          0.01454492,
          0.03472318,
          0,
          0,
          0.00141744,
          0,
          0.02253505,
          0,
          0.0158125,
          0,
          0,
          0,
          0,
          0,
          0.00616265,
          0.02334514,
          0,
          0,
          0,
          0,
          0,
          0.01097711,
          0,
          0.03207737,
          0.04025255,
          0.01539971,
          0.00725065,
          0.046003,
          0.04702308,
          0.04180787,
          0.03138246,
          0.02143149,
          0.02272727,
          0.00332542,
          0,
          0,
          0.0439384,
          0,
          0,
          0,
          0,
          0,
          0,
          0,
          0.00429516,
          0.01313243,
          0.00716385,
          0.0053431,
          0,
          0,
          0,
          0,
          0,
          0.01772648,
          0.03110474,
          0,
          0,
          0,
          0,
          0,
          0.02777778,
          0.01828561,
          0,
          0,
          0.01326447,
          0,
          0,
          0.00939122,
          0,
          0,
          0,
          0.01229716,
          0,
          0.00924284,
          0,
          0.01233935,
          0,
          0.01920941,
          0,
          0,
          0.02749283,
          0.00552652,
          0.0267815,
          0.03292392,
          0.00548657,
          0.03047766,
          0.01627908,
          0.00964126,
          0.03291411,
          0.03702688,
          0.03619155,
          0.01582878,
          0.05555556,
          0.01271647,
          0.00884154,
          0,
          0.04140491,
          0,
          0.00920308,
          0.02724814,
          0,
          0.00277576,
          0,
          0.02617823,
          0.02994217,
          0,
          0.01324665,
          0.0450075,
          0.02469779,
          0,
          0,
          0.02011162,
          0.06059439,
          0.01702824,
          0,
          0.00378838,
          0.00963167,
          0,
          0,
          0,
          0,
          0.02544315,
          0,
          0.01067126,
          0,
          0.02777778,
          0,
          0.01902215,
          0.02047984,
          0.01773432,
          0.02777778,
          0,
          0,
          0.0101374,
          0,
          0,
          0.07097485,
          0.025,
          0,
          0.00686791,
          0,
          0.02818273,
          0,
          0,
          0.00864614,
          0,
          0.05900342,
          0,
          0.04279258,
          0,
          0.01171876,
          0.00618157,
          0,
          0,
          0,
          0,
          0.01466731,
          0.0069364,
          0.01971378,
          0.02777778,
          0,
          0.0048817,
          0,
          0.01196723,
          0,
          0.00825472,
          0.02422009,
          0.00554452,
          0,
          0,
          0,
          0.00562986,
          0,
          0.0101028,
          0,
          0,
          0,
          0.00881635,
          0,
          0,
          0,
          0.00559288,
          0,
          0.00642635,
          0,
          0,
          0.02219462,
          0.01268122,
          0,
          0,
          0,
          0.00573133,
          0,
          0,
          0.01615846,
          0.0050911,
          0,
          0.00520042,
          0.01311445,
          0.00517864,
          0,
          0.009968,
          0,
          0,
          0,
          0,
          0.00959336,
          0.00504843,
          0,
          0,
          0,
          0.02068249,
          0,
          0.02557796,
          0.02097176,
          0.02131943,
          0,
          0.04138747,
          0.00797825,
          0.00484979,
          0,
          0.01940982,
          0.04135067,
          0.00807391,
          0,
          0.0561752,
          0.03424048,
          0.01406223,
          0,
          0,
          0,
          0.00249142,
          0,
          0,
          0,
          0.00702047,
          0,
          0,
          0,
          0.00756357,
          0,
          0.00149013,
          0,
          0.02891812,
          0.01547069,
          0.00916732,
          0.01666667,
          0.01439355,
          0.02777778,
          0.025,
          0.01577728,
          0.01193897,
          0.02777778,
          0.01008449,
          0,
          0.01142757,
          0.0045174,
          0,
          0,
          0,
          0,
          0.00693081,
          0,
          0.00621208,
          0.02639823,
          0.00695764,
          0,
          0.0072269,
          0,
          0.01614787,
          0.00971581,
          0.00463149,
          0,
          0.02740028,
          0.01043524,
          0.03832836,
          0.04536106,
          0.05073324,
          0.04730193,
          0.02992819,
          0,
          0.0524079,
          0.03125,
          0,
          0,
          0,
          0.02491919,
          0.0071554,
          0,
          0,
          0.00839581,
          0.00419366,
          0,
          0.14506543,
          0.10051804,
          0.18257297,
          0.19049309,
          0.07652192,
          0.10208345,
          0.1135374,
          0.14690932,
          0.11840826,
          0.10028139,
          0.09125783,
          0.13163099,
          0.08627177,
          0.01009705,
          0.07475006,
          0.1017746,
          0.08807866,
          0.1399935,
          0.06205156,
          0.12564213,
          0.00571649,
          0,
          0.02083333,
          0.04405085,
          0.0050859,
          0.01805348,
          0,
          0,
          0,
          0,
          0.00681751,
          0,
          0.00897777,
          0,
          0,
          0,
          0,
          0,
          0.00890331,
          0,
          0.01385659,
          0.0063215,
          0,
          0,
          0.0085586,
          0.01274004,
          0,
          0.0098988,
          0.01682674,
          0.01855749,
          0.01456425,
          0,
          0,
          0,
          0.00264466,
          0,
          0.01751429,
          0,
          0.00157074,
          0,
          0.01599596,
          0,
          0,
          0,
          0.00878753,
          0.01077016,
          0.00810247,
          0,
          0.00738588,
          0.02777778,
          0,
          0.00832268,
          0,
          0,
          0,
          0,
          0.0127388,
          0,
          0.01343967,
          0.02777778,
          0,
          0.01790169,
          0,
          0.0119379,
          0.01047311,
          0,
          0,
          0.01323286,
          0.01310812,
          0,
          0.00821987,
          0.00815944,
          0,
          0.00714688,
          0.01211672,
          0,
          0,
          0,
          0,
          0,
          0.02317764,
          0.01488133,
          0,
          0,
          0.01734848,
          0.00831083,
          0.0503804,
          0,
          0.02731174,
          0.00905209,
          0.02470483,
          0,
          0.0096884,
          0.01574654,
          0.02682508,
          0.02777778,
          0.0474099,
          0.06454367,
          0.00914092,
          0.03125,
          0.1364149,
          0.23592593,
          0.20640982,
          0.05433112,
          0.17732247,
          0.20839278,
          0.21041347,
          0.19213991,
          0.12741964,
          0.1690365,
          0.00236262,
          0.01986844,
          0.01522547,
          0.00503259,
          0.01308907,
          0.01001498,
          0,
          0,
          0.01757276,
          0.02777778,
          0.02505174,
          0.03043707,
          0.00940576,
          0.00963626,
          0.01238569,
          0.03125,
          0.0350565,
          0.03778834,
          0.03003076,
          0.01255855,
          0.00407241,
          0.00312952,
          0.00566623,
          0.0240862,
          0.00385774,
          0,
          0,
          0,
          0,
          0.00923223,
          0.02519904,
          0.00869085,
          0.01488961,
          0.00660425,
          0.02686404,
          0.02691039,
          0.03452195,
          0.01750423,
          0.01836441,
          0,
          0,
          0,
          0,
          0.03551332,
          0,
          0,
          0,
          0,
          0.00303937,
          0
         ],
         "y": [
          "wSMI_1_mean",
          "wSMI_1_mean",
          "wSMI_1_mean",
          "wSMI_1_mean",
          "wSMI_1_mean",
          "wSMI_1_mean",
          "wSMI_1_mean",
          "wSMI_1_mean",
          "wSMI_1_mean",
          "wSMI_1_mean",
          "wSMI_1_std",
          "wSMI_1_std",
          "wSMI_1_std",
          "wSMI_1_std",
          "wSMI_1_std",
          "wSMI_1_std",
          "wSMI_1_std",
          "wSMI_1_std",
          "wSMI_1_std",
          "wSMI_1_std",
          "wSMI_2_mean",
          "wSMI_2_mean",
          "wSMI_2_mean",
          "wSMI_2_mean",
          "wSMI_2_mean",
          "wSMI_2_mean",
          "wSMI_2_mean",
          "wSMI_2_mean",
          "wSMI_2_mean",
          "wSMI_2_mean",
          "wSMI_2_std",
          "wSMI_2_std",
          "wSMI_2_std",
          "wSMI_2_std",
          "wSMI_2_std",
          "wSMI_2_std",
          "wSMI_2_std",
          "wSMI_2_std",
          "wSMI_2_std",
          "wSMI_2_std",
          "wSMI_4_mean",
          "wSMI_4_mean",
          "wSMI_4_mean",
          "wSMI_4_mean",
          "wSMI_4_mean",
          "wSMI_4_mean",
          "wSMI_4_mean",
          "wSMI_4_mean",
          "wSMI_4_mean",
          "wSMI_4_mean",
          "wSMI_4_std",
          "wSMI_4_std",
          "wSMI_4_std",
          "wSMI_4_std",
          "wSMI_4_std",
          "wSMI_4_std",
          "wSMI_4_std",
          "wSMI_4_std",
          "wSMI_4_std",
          "wSMI_4_std",
          "wSMI_8_mean",
          "wSMI_8_mean",
          "wSMI_8_mean",
          "wSMI_8_mean",
          "wSMI_8_mean",
          "wSMI_8_mean",
          "wSMI_8_mean",
          "wSMI_8_mean",
          "wSMI_8_mean",
          "wSMI_8_mean",
          "wSMI_8_std",
          "wSMI_8_std",
          "wSMI_8_std",
          "wSMI_8_std",
          "wSMI_8_std",
          "wSMI_8_std",
          "wSMI_8_std",
          "wSMI_8_std",
          "wSMI_8_std",
          "wSMI_8_std",
          "p_e_1_mean",
          "p_e_1_mean",
          "p_e_1_mean",
          "p_e_1_mean",
          "p_e_1_mean",
          "p_e_1_mean",
          "p_e_1_mean",
          "p_e_1_mean",
          "p_e_1_mean",
          "p_e_1_mean",
          "p_e_1_std",
          "p_e_1_std",
          "p_e_1_std",
          "p_e_1_std",
          "p_e_1_std",
          "p_e_1_std",
          "p_e_1_std",
          "p_e_1_std",
          "p_e_1_std",
          "p_e_1_std",
          "p_e_2_mean",
          "p_e_2_mean",
          "p_e_2_mean",
          "p_e_2_mean",
          "p_e_2_mean",
          "p_e_2_mean",
          "p_e_2_mean",
          "p_e_2_mean",
          "p_e_2_mean",
          "p_e_2_mean",
          "p_e_2_std",
          "p_e_2_std",
          "p_e_2_std",
          "p_e_2_std",
          "p_e_2_std",
          "p_e_2_std",
          "p_e_2_std",
          "p_e_2_std",
          "p_e_2_std",
          "p_e_2_std",
          "p_e_4_mean",
          "p_e_4_mean",
          "p_e_4_mean",
          "p_e_4_mean",
          "p_e_4_mean",
          "p_e_4_mean",
          "p_e_4_mean",
          "p_e_4_mean",
          "p_e_4_mean",
          "p_e_4_mean",
          "p_e_4_std",
          "p_e_4_std",
          "p_e_4_std",
          "p_e_4_std",
          "p_e_4_std",
          "p_e_4_std",
          "p_e_4_std",
          "p_e_4_std",
          "p_e_4_std",
          "p_e_4_std",
          "p_e_8_mean",
          "p_e_8_mean",
          "p_e_8_mean",
          "p_e_8_mean",
          "p_e_8_mean",
          "p_e_8_mean",
          "p_e_8_mean",
          "p_e_8_mean",
          "p_e_8_mean",
          "p_e_8_mean",
          "p_e_8_std",
          "p_e_8_std",
          "p_e_8_std",
          "p_e_8_std",
          "p_e_8_std",
          "p_e_8_std",
          "p_e_8_std",
          "p_e_8_std",
          "p_e_8_std",
          "p_e_8_std",
          "k_mean",
          "k_mean",
          "k_mean",
          "k_mean",
          "k_mean",
          "k_mean",
          "k_mean",
          "k_mean",
          "k_mean",
          "k_mean",
          "k_std",
          "k_std",
          "k_std",
          "k_std",
          "k_std",
          "k_std",
          "k_std",
          "k_std",
          "k_std",
          "k_std",
          "se_mean",
          "se_mean",
          "se_mean",
          "se_mean",
          "se_mean",
          "se_mean",
          "se_mean",
          "se_mean",
          "se_mean",
          "se_mean",
          "se_std",
          "se_std",
          "se_std",
          "se_std",
          "se_std",
          "se_std",
          "se_std",
          "se_std",
          "se_std",
          "se_std",
          "msf_mean",
          "msf_mean",
          "msf_mean",
          "msf_mean",
          "msf_mean",
          "msf_mean",
          "msf_mean",
          "msf_mean",
          "msf_mean",
          "msf_mean",
          "msf_std",
          "msf_std",
          "msf_std",
          "msf_std",
          "msf_std",
          "msf_std",
          "msf_std",
          "msf_std",
          "msf_std",
          "msf_std",
          "sef90_mean",
          "sef90_mean",
          "sef90_mean",
          "sef90_mean",
          "sef90_mean",
          "sef90_mean",
          "sef90_mean",
          "sef90_mean",
          "sef90_mean",
          "sef90_mean",
          "sef90_std",
          "sef90_std",
          "sef90_std",
          "sef90_std",
          "sef90_std",
          "sef90_std",
          "sef90_std",
          "sef90_std",
          "sef90_std",
          "sef90_std",
          "sef95_mean",
          "sef95_mean",
          "sef95_mean",
          "sef95_mean",
          "sef95_mean",
          "sef95_mean",
          "sef95_mean",
          "sef95_mean",
          "sef95_mean",
          "sef95_mean",
          "sef95_std",
          "sef95_std",
          "sef95_std",
          "sef95_std",
          "sef95_std",
          "sef95_std",
          "sef95_std",
          "sef95_std",
          "sef95_std",
          "sef95_std",
          "b_mean",
          "b_mean",
          "b_mean",
          "b_mean",
          "b_mean",
          "b_mean",
          "b_mean",
          "b_mean",
          "b_mean",
          "b_mean",
          "b_std",
          "b_std",
          "b_std",
          "b_std",
          "b_std",
          "b_std",
          "b_std",
          "b_std",
          "b_std",
          "b_std",
          "b_n_mean",
          "b_n_mean",
          "b_n_mean",
          "b_n_mean",
          "b_n_mean",
          "b_n_mean",
          "b_n_mean",
          "b_n_mean",
          "b_n_mean",
          "b_n_mean",
          "b_n_std",
          "b_n_std",
          "b_n_std",
          "b_n_std",
          "b_n_std",
          "b_n_std",
          "b_n_std",
          "b_n_std",
          "b_n_std",
          "b_n_std",
          "g_mean",
          "g_mean",
          "g_mean",
          "g_mean",
          "g_mean",
          "g_mean",
          "g_mean",
          "g_mean",
          "g_mean",
          "g_mean",
          "g_std",
          "g_std",
          "g_std",
          "g_std",
          "g_std",
          "g_std",
          "g_std",
          "g_std",
          "g_std",
          "g_std",
          "g_n_mean",
          "g_n_mean",
          "g_n_mean",
          "g_n_mean",
          "g_n_mean",
          "g_n_mean",
          "g_n_mean",
          "g_n_mean",
          "g_n_mean",
          "g_n_mean",
          "g_n_std",
          "g_n_std",
          "g_n_std",
          "g_n_std",
          "g_n_std",
          "g_n_std",
          "g_n_std",
          "g_n_std",
          "g_n_std",
          "g_n_std",
          "t_mean",
          "t_mean",
          "t_mean",
          "t_mean",
          "t_mean",
          "t_mean",
          "t_mean",
          "t_mean",
          "t_mean",
          "t_mean",
          "t_std",
          "t_std",
          "t_std",
          "t_std",
          "t_std",
          "t_std",
          "t_std",
          "t_std",
          "t_std",
          "t_std",
          "t_n_mean",
          "t_n_mean",
          "t_n_mean",
          "t_n_mean",
          "t_n_mean",
          "t_n_mean",
          "t_n_mean",
          "t_n_mean",
          "t_n_mean",
          "t_n_mean",
          "t_n_std",
          "t_n_std",
          "t_n_std",
          "t_n_std",
          "t_n_std",
          "t_n_std",
          "t_n_std",
          "t_n_std",
          "t_n_std",
          "t_n_std",
          "d_mean",
          "d_mean",
          "d_mean",
          "d_mean",
          "d_mean",
          "d_mean",
          "d_mean",
          "d_mean",
          "d_mean",
          "d_mean",
          "d_std",
          "d_std",
          "d_std",
          "d_std",
          "d_std",
          "d_std",
          "d_std",
          "d_std",
          "d_std",
          "d_std",
          "d_n_mean",
          "d_n_mean",
          "d_n_mean",
          "d_n_mean",
          "d_n_mean",
          "d_n_mean",
          "d_n_mean",
          "d_n_mean",
          "d_n_mean",
          "d_n_mean",
          "d_n_std",
          "d_n_std",
          "d_n_std",
          "d_n_std",
          "d_n_std",
          "d_n_std",
          "d_n_std",
          "d_n_std",
          "d_n_std",
          "d_n_std",
          "a_n_mean",
          "a_n_mean",
          "a_n_mean",
          "a_n_mean",
          "a_n_mean",
          "a_n_mean",
          "a_n_mean",
          "a_n_mean",
          "a_n_mean",
          "a_n_mean",
          "a_n_std",
          "a_n_std",
          "a_n_std",
          "a_n_std",
          "a_n_std",
          "a_n_std",
          "a_n_std",
          "a_n_std",
          "a_n_std",
          "a_n_std",
          "a_mean",
          "a_mean",
          "a_mean",
          "a_mean",
          "a_mean",
          "a_mean",
          "a_mean",
          "a_mean",
          "a_mean",
          "a_mean",
          "a_std",
          "a_std",
          "a_std",
          "a_std",
          "a_std",
          "a_std",
          "a_std",
          "a_std",
          "a_std",
          "a_std",
          "CNV_mean",
          "CNV_mean",
          "CNV_mean",
          "CNV_mean",
          "CNV_mean",
          "CNV_mean",
          "CNV_mean",
          "CNV_mean",
          "CNV_mean",
          "CNV_mean",
          "CNV_std",
          "CNV_std",
          "CNV_std",
          "CNV_std",
          "CNV_std",
          "CNV_std",
          "CNV_std",
          "CNV_std",
          "CNV_std",
          "CNV_std",
          "P1_mean",
          "P1_mean",
          "P1_mean",
          "P1_mean",
          "P1_mean",
          "P1_mean",
          "P1_mean",
          "P1_mean",
          "P1_mean",
          "P1_mean",
          "P1_std",
          "P1_std",
          "P1_std",
          "P1_std",
          "P1_std",
          "P1_std",
          "P1_std",
          "P1_std",
          "P1_std",
          "P1_std",
          "P3a_mean",
          "P3a_mean",
          "P3a_mean",
          "P3a_mean",
          "P3a_mean",
          "P3a_mean",
          "P3a_mean",
          "P3a_mean",
          "P3a_mean",
          "P3a_mean",
          "P3a_std",
          "P3a_std",
          "P3a_std",
          "P3a_std",
          "P3a_std",
          "P3a_std",
          "P3a_std",
          "P3a_std",
          "P3a_std",
          "P3a_std",
          "P3b_mean",
          "P3b_mean",
          "P3b_mean",
          "P3b_mean",
          "P3b_mean",
          "P3b_mean",
          "P3b_mean",
          "P3b_mean",
          "P3b_mean",
          "P3b_mean",
          "P3b_std",
          "P3b_std",
          "P3b_std",
          "P3b_std",
          "P3b_std",
          "P3b_std",
          "P3b_std",
          "P3b_std",
          "P3b_std",
          "P3b_std"
         ]
        }
       ],
       "layout": {
        "font": {
         "color": "black",
         "family": "Times new roman",
         "size": 20
        },
        "height": 1100,
        "showlegend": true,
        "template": {
         "data": {
          "bar": [
           {
            "error_x": {
             "color": "#2a3f5f"
            },
            "error_y": {
             "color": "#2a3f5f"
            },
            "marker": {
             "line": {
              "color": "white",
              "width": 0.5
             },
             "pattern": {
              "fillmode": "overlay",
              "size": 10,
              "solidity": 0.2
             }
            },
            "type": "bar"
           }
          ],
          "barpolar": [
           {
            "marker": {
             "line": {
              "color": "white",
              "width": 0.5
             },
             "pattern": {
              "fillmode": "overlay",
              "size": 10,
              "solidity": 0.2
             }
            },
            "type": "barpolar"
           }
          ],
          "carpet": [
           {
            "aaxis": {
             "endlinecolor": "#2a3f5f",
             "gridcolor": "#C8D4E3",
             "linecolor": "#C8D4E3",
             "minorgridcolor": "#C8D4E3",
             "startlinecolor": "#2a3f5f"
            },
            "baxis": {
             "endlinecolor": "#2a3f5f",
             "gridcolor": "#C8D4E3",
             "linecolor": "#C8D4E3",
             "minorgridcolor": "#C8D4E3",
             "startlinecolor": "#2a3f5f"
            },
            "type": "carpet"
           }
          ],
          "choropleth": [
           {
            "colorbar": {
             "outlinewidth": 0,
             "ticks": ""
            },
            "type": "choropleth"
           }
          ],
          "contour": [
           {
            "colorbar": {
             "outlinewidth": 0,
             "ticks": ""
            },
            "colorscale": [
             [
              0,
              "#0d0887"
             ],
             [
              0.1111111111111111,
              "#46039f"
             ],
             [
              0.2222222222222222,
              "#7201a8"
             ],
             [
              0.3333333333333333,
              "#9c179e"
             ],
             [
              0.4444444444444444,
              "#bd3786"
             ],
             [
              0.5555555555555556,
              "#d8576b"
             ],
             [
              0.6666666666666666,
              "#ed7953"
             ],
             [
              0.7777777777777778,
              "#fb9f3a"
             ],
             [
              0.8888888888888888,
              "#fdca26"
             ],
             [
              1,
              "#f0f921"
             ]
            ],
            "type": "contour"
           }
          ],
          "contourcarpet": [
           {
            "colorbar": {
             "outlinewidth": 0,
             "ticks": ""
            },
            "type": "contourcarpet"
           }
          ],
          "heatmap": [
           {
            "colorbar": {
             "outlinewidth": 0,
             "ticks": ""
            },
            "colorscale": [
             [
              0,
              "#0d0887"
             ],
             [
              0.1111111111111111,
              "#46039f"
             ],
             [
              0.2222222222222222,
              "#7201a8"
             ],
             [
              0.3333333333333333,
              "#9c179e"
             ],
             [
              0.4444444444444444,
              "#bd3786"
             ],
             [
              0.5555555555555556,
              "#d8576b"
             ],
             [
              0.6666666666666666,
              "#ed7953"
             ],
             [
              0.7777777777777778,
              "#fb9f3a"
             ],
             [
              0.8888888888888888,
              "#fdca26"
             ],
             [
              1,
              "#f0f921"
             ]
            ],
            "type": "heatmap"
           }
          ],
          "heatmapgl": [
           {
            "colorbar": {
             "outlinewidth": 0,
             "ticks": ""
            },
            "colorscale": [
             [
              0,
              "#0d0887"
             ],
             [
              0.1111111111111111,
              "#46039f"
             ],
             [
              0.2222222222222222,
              "#7201a8"
             ],
             [
              0.3333333333333333,
              "#9c179e"
             ],
             [
              0.4444444444444444,
              "#bd3786"
             ],
             [
              0.5555555555555556,
              "#d8576b"
             ],
             [
              0.6666666666666666,
              "#ed7953"
             ],
             [
              0.7777777777777778,
              "#fb9f3a"
             ],
             [
              0.8888888888888888,
              "#fdca26"
             ],
             [
              1,
              "#f0f921"
             ]
            ],
            "type": "heatmapgl"
           }
          ],
          "histogram": [
           {
            "marker": {
             "pattern": {
              "fillmode": "overlay",
              "size": 10,
              "solidity": 0.2
             }
            },
            "type": "histogram"
           }
          ],
          "histogram2d": [
           {
            "colorbar": {
             "outlinewidth": 0,
             "ticks": ""
            },
            "colorscale": [
             [
              0,
              "#0d0887"
             ],
             [
              0.1111111111111111,
              "#46039f"
             ],
             [
              0.2222222222222222,
              "#7201a8"
             ],
             [
              0.3333333333333333,
              "#9c179e"
             ],
             [
              0.4444444444444444,
              "#bd3786"
             ],
             [
              0.5555555555555556,
              "#d8576b"
             ],
             [
              0.6666666666666666,
              "#ed7953"
             ],
             [
              0.7777777777777778,
              "#fb9f3a"
             ],
             [
              0.8888888888888888,
              "#fdca26"
             ],
             [
              1,
              "#f0f921"
             ]
            ],
            "type": "histogram2d"
           }
          ],
          "histogram2dcontour": [
           {
            "colorbar": {
             "outlinewidth": 0,
             "ticks": ""
            },
            "colorscale": [
             [
              0,
              "#0d0887"
             ],
             [
              0.1111111111111111,
              "#46039f"
             ],
             [
              0.2222222222222222,
              "#7201a8"
             ],
             [
              0.3333333333333333,
              "#9c179e"
             ],
             [
              0.4444444444444444,
              "#bd3786"
             ],
             [
              0.5555555555555556,
              "#d8576b"
             ],
             [
              0.6666666666666666,
              "#ed7953"
             ],
             [
              0.7777777777777778,
              "#fb9f3a"
             ],
             [
              0.8888888888888888,
              "#fdca26"
             ],
             [
              1,
              "#f0f921"
             ]
            ],
            "type": "histogram2dcontour"
           }
          ],
          "mesh3d": [
           {
            "colorbar": {
             "outlinewidth": 0,
             "ticks": ""
            },
            "type": "mesh3d"
           }
          ],
          "parcoords": [
           {
            "line": {
             "colorbar": {
              "outlinewidth": 0,
              "ticks": ""
             }
            },
            "type": "parcoords"
           }
          ],
          "pie": [
           {
            "automargin": true,
            "type": "pie"
           }
          ],
          "scatter": [
           {
            "fillpattern": {
             "fillmode": "overlay",
             "size": 10,
             "solidity": 0.2
            },
            "type": "scatter"
           }
          ],
          "scatter3d": [
           {
            "line": {
             "colorbar": {
              "outlinewidth": 0,
              "ticks": ""
             }
            },
            "marker": {
             "colorbar": {
              "outlinewidth": 0,
              "ticks": ""
             }
            },
            "type": "scatter3d"
           }
          ],
          "scattercarpet": [
           {
            "marker": {
             "colorbar": {
              "outlinewidth": 0,
              "ticks": ""
             }
            },
            "type": "scattercarpet"
           }
          ],
          "scattergeo": [
           {
            "marker": {
             "colorbar": {
              "outlinewidth": 0,
              "ticks": ""
             }
            },
            "type": "scattergeo"
           }
          ],
          "scattergl": [
           {
            "marker": {
             "colorbar": {
              "outlinewidth": 0,
              "ticks": ""
             }
            },
            "type": "scattergl"
           }
          ],
          "scattermapbox": [
           {
            "marker": {
             "colorbar": {
              "outlinewidth": 0,
              "ticks": ""
             }
            },
            "type": "scattermapbox"
           }
          ],
          "scatterpolar": [
           {
            "marker": {
             "colorbar": {
              "outlinewidth": 0,
              "ticks": ""
             }
            },
            "type": "scatterpolar"
           }
          ],
          "scatterpolargl": [
           {
            "marker": {
             "colorbar": {
              "outlinewidth": 0,
              "ticks": ""
             }
            },
            "type": "scatterpolargl"
           }
          ],
          "scatterternary": [
           {
            "marker": {
             "colorbar": {
              "outlinewidth": 0,
              "ticks": ""
             }
            },
            "type": "scatterternary"
           }
          ],
          "surface": [
           {
            "colorbar": {
             "outlinewidth": 0,
             "ticks": ""
            },
            "colorscale": [
             [
              0,
              "#0d0887"
             ],
             [
              0.1111111111111111,
              "#46039f"
             ],
             [
              0.2222222222222222,
              "#7201a8"
             ],
             [
              0.3333333333333333,
              "#9c179e"
             ],
             [
              0.4444444444444444,
              "#bd3786"
             ],
             [
              0.5555555555555556,
              "#d8576b"
             ],
             [
              0.6666666666666666,
              "#ed7953"
             ],
             [
              0.7777777777777778,
              "#fb9f3a"
             ],
             [
              0.8888888888888888,
              "#fdca26"
             ],
             [
              1,
              "#f0f921"
             ]
            ],
            "type": "surface"
           }
          ],
          "table": [
           {
            "cells": {
             "fill": {
              "color": "#EBF0F8"
             },
             "line": {
              "color": "white"
             }
            },
            "header": {
             "fill": {
              "color": "#C8D4E3"
             },
             "line": {
              "color": "white"
             }
            },
            "type": "table"
           }
          ]
         },
         "layout": {
          "annotationdefaults": {
           "arrowcolor": "#2a3f5f",
           "arrowhead": 0,
           "arrowwidth": 1
          },
          "autotypenumbers": "strict",
          "coloraxis": {
           "colorbar": {
            "outlinewidth": 0,
            "ticks": ""
           }
          },
          "colorscale": {
           "diverging": [
            [
             0,
             "#8e0152"
            ],
            [
             0.1,
             "#c51b7d"
            ],
            [
             0.2,
             "#de77ae"
            ],
            [
             0.3,
             "#f1b6da"
            ],
            [
             0.4,
             "#fde0ef"
            ],
            [
             0.5,
             "#f7f7f7"
            ],
            [
             0.6,
             "#e6f5d0"
            ],
            [
             0.7,
             "#b8e186"
            ],
            [
             0.8,
             "#7fbc41"
            ],
            [
             0.9,
             "#4d9221"
            ],
            [
             1,
             "#276419"
            ]
           ],
           "sequential": [
            [
             0,
             "#0d0887"
            ],
            [
             0.1111111111111111,
             "#46039f"
            ],
            [
             0.2222222222222222,
             "#7201a8"
            ],
            [
             0.3333333333333333,
             "#9c179e"
            ],
            [
             0.4444444444444444,
             "#bd3786"
            ],
            [
             0.5555555555555556,
             "#d8576b"
            ],
            [
             0.6666666666666666,
             "#ed7953"
            ],
            [
             0.7777777777777778,
             "#fb9f3a"
            ],
            [
             0.8888888888888888,
             "#fdca26"
            ],
            [
             1,
             "#f0f921"
            ]
           ],
           "sequentialminus": [
            [
             0,
             "#0d0887"
            ],
            [
             0.1111111111111111,
             "#46039f"
            ],
            [
             0.2222222222222222,
             "#7201a8"
            ],
            [
             0.3333333333333333,
             "#9c179e"
            ],
            [
             0.4444444444444444,
             "#bd3786"
            ],
            [
             0.5555555555555556,
             "#d8576b"
            ],
            [
             0.6666666666666666,
             "#ed7953"
            ],
            [
             0.7777777777777778,
             "#fb9f3a"
            ],
            [
             0.8888888888888888,
             "#fdca26"
            ],
            [
             1,
             "#f0f921"
            ]
           ]
          },
          "colorway": [
           "#636efa",
           "#EF553B",
           "#00cc96",
           "#ab63fa",
           "#FFA15A",
           "#19d3f3",
           "#FF6692",
           "#B6E880",
           "#FF97FF",
           "#FECB52"
          ],
          "font": {
           "color": "#2a3f5f"
          },
          "geo": {
           "bgcolor": "white",
           "lakecolor": "white",
           "landcolor": "white",
           "showlakes": true,
           "showland": true,
           "subunitcolor": "#C8D4E3"
          },
          "hoverlabel": {
           "align": "left"
          },
          "hovermode": "closest",
          "mapbox": {
           "style": "light"
          },
          "paper_bgcolor": "white",
          "plot_bgcolor": "white",
          "polar": {
           "angularaxis": {
            "gridcolor": "#EBF0F8",
            "linecolor": "#EBF0F8",
            "ticks": ""
           },
           "bgcolor": "white",
           "radialaxis": {
            "gridcolor": "#EBF0F8",
            "linecolor": "#EBF0F8",
            "ticks": ""
           }
          },
          "scene": {
           "xaxis": {
            "backgroundcolor": "white",
            "gridcolor": "#DFE8F3",
            "gridwidth": 2,
            "linecolor": "#EBF0F8",
            "showbackground": true,
            "ticks": "",
            "zerolinecolor": "#EBF0F8"
           },
           "yaxis": {
            "backgroundcolor": "white",
            "gridcolor": "#DFE8F3",
            "gridwidth": 2,
            "linecolor": "#EBF0F8",
            "showbackground": true,
            "ticks": "",
            "zerolinecolor": "#EBF0F8"
           },
           "zaxis": {
            "backgroundcolor": "white",
            "gridcolor": "#DFE8F3",
            "gridwidth": 2,
            "linecolor": "#EBF0F8",
            "showbackground": true,
            "ticks": "",
            "zerolinecolor": "#EBF0F8"
           }
          },
          "shapedefaults": {
           "line": {
            "color": "#2a3f5f"
           }
          },
          "ternary": {
           "aaxis": {
            "gridcolor": "#DFE8F3",
            "linecolor": "#A2B1C6",
            "ticks": ""
           },
           "baxis": {
            "gridcolor": "#DFE8F3",
            "linecolor": "#A2B1C6",
            "ticks": ""
           },
           "bgcolor": "white",
           "caxis": {
            "gridcolor": "#DFE8F3",
            "linecolor": "#A2B1C6",
            "ticks": ""
           }
          },
          "title": {
           "x": 0.05
          },
          "xaxis": {
           "automargin": true,
           "gridcolor": "#EBF0F8",
           "linecolor": "#EBF0F8",
           "ticks": "",
           "title": {
            "standoff": 15
           },
           "zerolinecolor": "#EBF0F8",
           "zerolinewidth": 2
          },
          "yaxis": {
           "automargin": true,
           "gridcolor": "#EBF0F8",
           "linecolor": "#EBF0F8",
           "ticks": "",
           "title": {
            "standoff": 15
           },
           "zerolinecolor": "#EBF0F8",
           "zerolinewidth": 2
          }
         }
        },
        "width": 650,
        "xaxis": {
         "range": [
          0,
          0.3
         ],
         "tickfont": {
          "size": 20
         },
         "title": {
          "text": "Feature Importance"
         },
         "visible": true
        },
        "yaxis": {
         "automargin": true,
         "categoryarray": [
          "g_mean",
          "wSMI_1_mean",
          "sef95_mean",
          "d_std",
          "p_e_2_std",
          "wSMI_2_std",
          "g_n_mean",
          "p_e_4_std",
          "b_std",
          "a_std",
          "d_n_std",
          "wSMI_1_std",
          "P3b_std",
          "wSMI_8_std",
          "p_e_1_mean",
          "t_std",
          "sef95_std",
          "p_e_2_mean",
          "P3a_std",
          "b_mean",
          "sef90_std",
          "se_mean",
          "a_n_std",
          "a_mean",
          "sef90_mean",
          "g_n_std",
          "a_n_mean",
          "d_n_mean",
          "d_mean",
          "p_e_4_mean",
          "wSMI_8_mean",
          "p_e_8_mean",
          "k_mean",
          "wSMI_4_std",
          "P1_std",
          "b_n_std",
          "se_std",
          "msf_std",
          "msf_mean",
          "CNV_mean",
          "P3b_mean",
          "b_n_mean",
          "g_std",
          "k_std",
          "P3a_mean",
          "CNV_std",
          "p_e_8_std",
          "p_e_1_std",
          "t_mean",
          "wSMI_2_mean",
          "wSMI_4_mean",
          "t_n_std",
          "t_n_mean",
          "P1_mean"
         ],
         "categoryorder": "array",
         "dtick": 1,
         "range": [
          -1,
          54
         ],
         "showgrid": true,
         "tickfont": {
          "size": 20
         },
         "title": {
          "text": "Feature"
         }
        }
       }
      }
     },
     "metadata": {},
     "output_type": "display_data"
    },
    {
     "data": {
      "application/vnd.plotly.v1+json": {
       "config": {
        "plotlyServerURL": "https://plot.ly"
       },
       "data": [
        {
         "boxpoints": "all",
         "jitter": 0,
         "marker": {
          "color": "#9AC529",
          "size": 3
         },
         "orientation": "h",
         "pointpos": 0,
         "type": "box",
         "x": [
          0,
          0.01785714,
          0,
          0,
          0.00635369,
          0,
          0.02083333,
          0.02083333,
          0.01470588,
          0.03211117,
          0.16666667,
          0.03571429,
          0.04140171,
          0.09352871,
          0.015625,
          0.04166667,
          0.04947917,
          0.03548079,
          0.02801097,
          0.01674503,
          0,
          0,
          0.00416678,
          0,
          0,
          0,
          0,
          0,
          0,
          0.01591231,
          0,
          0,
          0,
          0,
          0.00382079,
          0,
          0,
          0,
          0,
          0.00400317,
          0.01315789,
          0.00757576,
          0.01612903,
          0,
          0,
          0,
          0,
          0,
          0.00238707,
          0.01834198,
          0.01315789,
          0.0508658,
          0.0437788,
          0,
          0.01388889,
          0.05862069,
          0.0078125,
          0.00675676,
          0.03387534,
          0.01853867,
          0.05482456,
          0.03257576,
          0.0750288,
          0.33173077,
          0.04265873,
          0,
          0.04947917,
          0.04842342,
          0.02693089,
          0.01740243,
          0.05482456,
          0.04772727,
          0.04737903,
          0.08173077,
          0.04960317,
          0.07447318,
          0.05729167,
          0.04842342,
          0.03912602,
          0.0196638,
          0,
          0,
          0,
          0,
          0.02256944,
          0.02777778,
          0,
          0,
          0,
          0.00961147,
          0,
          0.00757576,
          0,
          0,
          0,
          0.01724138,
          0.02083333,
          0.01351351,
          0,
          0.018105,
          0,
          0,
          0.02777778,
          0,
          0,
          0.02083333,
          0,
          0,
          0,
          0.0175071,
          0.04166667,
          0.06071429,
          0.05902778,
          0.0625,
          0.05133929,
          0.02083333,
          0.08333333,
          0.0625,
          0.0502451,
          0.01301469,
          0,
          0,
          0,
          0,
          0.0268081,
          0,
          0.0078125,
          0,
          0.00356644,
          0.02324154,
          0,
          0,
          0,
          0,
          0,
          0,
          0,
          0,
          0.01239263,
          0.0047735,
          0.12565789,
          0.06872294,
          0.09575013,
          0.08173077,
          0.03729433,
          0.09885529,
          0.078125,
          0.05461712,
          0.07297147,
          0.04397064,
          0,
          0,
          0.00806452,
          0,
          0.07230577,
          0,
          0,
          0.01281398,
          0.01701402,
          0.00978991,
          0,
          0,
          0.01704707,
          0,
          0,
          0,
          0,
          0,
          0,
          0.01823785,
          0,
          0.025,
          0,
          0,
          0,
          0.02777778,
          0,
          0.05071709,
          0.03339827,
          0.02013593,
          0,
          0.03571429,
          0,
          0,
          0,
          0,
          0.02083333,
          0,
          0.02777778,
          0.01750057,
          0,
          0,
          0.00806452,
          0,
          0,
          0,
          0,
          0,
          0.02083333,
          0.01298099,
          0,
          0.025,
          0,
          0,
          0.00694444,
          0.02777778,
          0,
          0.00675676,
          0.02693089,
          0.03509103,
          0,
          0.025,
          0.03125,
          0,
          0.03571429,
          0.02777778,
          0,
          0,
          0.02083333,
          0.01417483,
          0,
          0,
          0,
          0,
          0,
          0,
          0,
          0,
          0,
          0.01180721,
          0,
          0.00757576,
          0,
          0,
          0,
          0,
          0,
          0,
          0,
          0.00578522,
          0,
          0,
          0,
          0,
          0.015625,
          0,
          0,
          0,
          0,
          0.01210489,
          0,
          0,
          0.02777778,
          0,
          0.01874865,
          0,
          0,
          0.02083333,
          0.02080344,
          0.00516761,
          0.02631579,
          0.03030303,
          0.05990783,
          0.05769231,
          0.14722378,
          0.0430878,
          0.0625,
          0.08698868,
          0.05528843,
          0.05223851,
          0.05,
          0.03571429,
          0.03571429,
          0,
          0,
          0,
          0.0703125,
          0.00675676,
          0.02777778,
          0.0154419,
          0.05,
          0.06114719,
          0,
          0,
          0.00694444,
          0.10028736,
          0,
          0.02083333,
          0.02080344,
          0.0427113,
          0,
          0,
          0,
          0,
          0.03571429,
          0,
          0,
          0,
          0,
          0.02035857,
          0.06315789,
          0.04329004,
          0.0437788,
          0,
          0.0625,
          0.05,
          0,
          0.00675676,
          0.04926049,
          0.03164433,
          0,
          0.03571429,
          0.01866722,
          0,
          0.0356919,
          0.05,
          0.02083333,
          0.07083333,
          0.04858122,
          0.01410266,
          0,
          0.00757576,
          0.00806452,
          0,
          0,
          0.02083333,
          0,
          0.02083333,
          0.02080344,
          0.02540433,
          0.04166667,
          0.05,
          0.03125,
          0.0625,
          0.03571429,
          0.02777778,
          0.04166667,
          0.04166667,
          0.04166667,
          0.01567908,
          0.02631579,
          0.01515152,
          0.01612903,
          0.01923077,
          0.01388889,
          0,
          0.0078125,
          0.01351351,
          0.01219512,
          0.01698531,
          0,
          0,
          0.00806452,
          0,
          0,
          0.06417625,
          0,
          0.04166667,
          0.04166667,
          0.01594625,
          0,
          0,
          0,
          0,
          0,
          0,
          0.0625,
          0.05,
          0,
          0.02608003,
          0,
          0.01785714,
          0.02777778,
          0.0625,
          0.02854817,
          0,
          0.02083333,
          0.01178291,
          0.00836009,
          0.01387509,
          0,
          0,
          0,
          0,
          0.015625,
          0,
          0,
          0,
          0.00848674,
          0.0102062,
          0,
          0,
          0.01415384,
          0.03147129,
          0,
          0,
          0,
          0,
          0,
          0.01021919,
          0.05482456,
          0.0504329,
          0,
          0,
          0.02256944,
          0.0134209,
          0.0703125,
          0.03804403,
          0.026901,
          0.04113204,
          0.01315789,
          0.00757576,
          0.00806452,
          0,
          0,
          0.00862069,
          0.0078125,
          0.00675676,
          0.00609756,
          0.00752325,
          0.06315789,
          0.04329004,
          0.01196225,
          0.03846154,
          0.00694444,
          0.00862069,
          0.078125,
          0.05675676,
          0.03387534,
          0.03538862,
          0,
          0,
          0.03125,
          0,
          0.03571429,
          0,
          0,
          0,
          0,
          0.0175295,
          0.02631579,
          0.02272727,
          0.01612903,
          0.03846154,
          0.01388889,
          0.03448276,
          0.015625,
          0.02027027,
          0.02439024,
          0.0259022,
          0.01315789,
          0.00757576,
          0.00806452,
          0.01923077,
          0,
          0.02945402,
          0.01189515,
          0.00675676,
          0.00609756,
          0.01473847,
          0.07565789,
          0.04329004,
          0.03584229,
          0.01923077,
          0.03819444,
          0.05028736,
          0.02864583,
          0.00675676,
          0.0294558,
          0.01826012,
          0,
          0.01785714,
          0.02777778,
          0,
          0,
          0.02083333,
          0,
          0.00305957,
          0.01470588,
          0.01029178,
          0.02631579,
          0.05530303,
          0.04737903,
          0,
          0.05208333,
          0.02586207,
          0.09375,
          0.10154087,
          0.05705741,
          0.0395712,
          0,
          0,
          0,
          0,
          0.00694444,
          0,
          0.00372985,
          0,
          0.00253113,
          0.01111835,
          0,
          0,
          0,
          0,
          0,
          0,
          0,
          0,
          0,
          0.01094423,
          0,
          0,
          0.00806452,
          0,
          0.00688538,
          0.00862069,
          0,
          0,
          0.00609756,
          0.00482709,
          0,
          0.00757576,
          0.00806452,
          0,
          0,
          0,
          0.0078125,
          0.00675676,
          0.00609756,
          0.01088665,
          0,
          0,
          0.03125,
          0,
          0.015625,
          0,
          0,
          0,
          0,
          0.00527523
         ],
         "y": [
          "wSMI_1_mean",
          "wSMI_1_mean",
          "wSMI_1_mean",
          "wSMI_1_mean",
          "wSMI_1_mean",
          "wSMI_1_mean",
          "wSMI_1_mean",
          "wSMI_1_mean",
          "wSMI_1_mean",
          "wSMI_1_mean",
          "wSMI_1_std",
          "wSMI_1_std",
          "wSMI_1_std",
          "wSMI_1_std",
          "wSMI_1_std",
          "wSMI_1_std",
          "wSMI_1_std",
          "wSMI_1_std",
          "wSMI_1_std",
          "wSMI_1_std",
          "wSMI_2_mean",
          "wSMI_2_mean",
          "wSMI_2_mean",
          "wSMI_2_mean",
          "wSMI_2_mean",
          "wSMI_2_mean",
          "wSMI_2_mean",
          "wSMI_2_mean",
          "wSMI_2_mean",
          "wSMI_2_mean",
          "wSMI_2_std",
          "wSMI_2_std",
          "wSMI_2_std",
          "wSMI_2_std",
          "wSMI_2_std",
          "wSMI_2_std",
          "wSMI_2_std",
          "wSMI_2_std",
          "wSMI_2_std",
          "wSMI_2_std",
          "wSMI_4_mean",
          "wSMI_4_mean",
          "wSMI_4_mean",
          "wSMI_4_mean",
          "wSMI_4_mean",
          "wSMI_4_mean",
          "wSMI_4_mean",
          "wSMI_4_mean",
          "wSMI_4_mean",
          "wSMI_4_mean",
          "wSMI_4_std",
          "wSMI_4_std",
          "wSMI_4_std",
          "wSMI_4_std",
          "wSMI_4_std",
          "wSMI_4_std",
          "wSMI_4_std",
          "wSMI_4_std",
          "wSMI_4_std",
          "wSMI_4_std",
          "wSMI_8_mean",
          "wSMI_8_mean",
          "wSMI_8_mean",
          "wSMI_8_mean",
          "wSMI_8_mean",
          "wSMI_8_mean",
          "wSMI_8_mean",
          "wSMI_8_mean",
          "wSMI_8_mean",
          "wSMI_8_mean",
          "wSMI_8_std",
          "wSMI_8_std",
          "wSMI_8_std",
          "wSMI_8_std",
          "wSMI_8_std",
          "wSMI_8_std",
          "wSMI_8_std",
          "wSMI_8_std",
          "wSMI_8_std",
          "wSMI_8_std",
          "p_e_1_mean",
          "p_e_1_mean",
          "p_e_1_mean",
          "p_e_1_mean",
          "p_e_1_mean",
          "p_e_1_mean",
          "p_e_1_mean",
          "p_e_1_mean",
          "p_e_1_mean",
          "p_e_1_mean",
          "p_e_1_std",
          "p_e_1_std",
          "p_e_1_std",
          "p_e_1_std",
          "p_e_1_std",
          "p_e_1_std",
          "p_e_1_std",
          "p_e_1_std",
          "p_e_1_std",
          "p_e_1_std",
          "p_e_2_mean",
          "p_e_2_mean",
          "p_e_2_mean",
          "p_e_2_mean",
          "p_e_2_mean",
          "p_e_2_mean",
          "p_e_2_mean",
          "p_e_2_mean",
          "p_e_2_mean",
          "p_e_2_mean",
          "p_e_2_std",
          "p_e_2_std",
          "p_e_2_std",
          "p_e_2_std",
          "p_e_2_std",
          "p_e_2_std",
          "p_e_2_std",
          "p_e_2_std",
          "p_e_2_std",
          "p_e_2_std",
          "p_e_4_mean",
          "p_e_4_mean",
          "p_e_4_mean",
          "p_e_4_mean",
          "p_e_4_mean",
          "p_e_4_mean",
          "p_e_4_mean",
          "p_e_4_mean",
          "p_e_4_mean",
          "p_e_4_mean",
          "p_e_4_std",
          "p_e_4_std",
          "p_e_4_std",
          "p_e_4_std",
          "p_e_4_std",
          "p_e_4_std",
          "p_e_4_std",
          "p_e_4_std",
          "p_e_4_std",
          "p_e_4_std",
          "p_e_8_mean",
          "p_e_8_mean",
          "p_e_8_mean",
          "p_e_8_mean",
          "p_e_8_mean",
          "p_e_8_mean",
          "p_e_8_mean",
          "p_e_8_mean",
          "p_e_8_mean",
          "p_e_8_mean",
          "p_e_8_std",
          "p_e_8_std",
          "p_e_8_std",
          "p_e_8_std",
          "p_e_8_std",
          "p_e_8_std",
          "p_e_8_std",
          "p_e_8_std",
          "p_e_8_std",
          "p_e_8_std",
          "k_mean",
          "k_mean",
          "k_mean",
          "k_mean",
          "k_mean",
          "k_mean",
          "k_mean",
          "k_mean",
          "k_mean",
          "k_mean",
          "k_std",
          "k_std",
          "k_std",
          "k_std",
          "k_std",
          "k_std",
          "k_std",
          "k_std",
          "k_std",
          "k_std",
          "se_mean",
          "se_mean",
          "se_mean",
          "se_mean",
          "se_mean",
          "se_mean",
          "se_mean",
          "se_mean",
          "se_mean",
          "se_mean",
          "se_std",
          "se_std",
          "se_std",
          "se_std",
          "se_std",
          "se_std",
          "se_std",
          "se_std",
          "se_std",
          "se_std",
          "msf_mean",
          "msf_mean",
          "msf_mean",
          "msf_mean",
          "msf_mean",
          "msf_mean",
          "msf_mean",
          "msf_mean",
          "msf_mean",
          "msf_mean",
          "msf_std",
          "msf_std",
          "msf_std",
          "msf_std",
          "msf_std",
          "msf_std",
          "msf_std",
          "msf_std",
          "msf_std",
          "msf_std",
          "sef90_mean",
          "sef90_mean",
          "sef90_mean",
          "sef90_mean",
          "sef90_mean",
          "sef90_mean",
          "sef90_mean",
          "sef90_mean",
          "sef90_mean",
          "sef90_mean",
          "sef90_std",
          "sef90_std",
          "sef90_std",
          "sef90_std",
          "sef90_std",
          "sef90_std",
          "sef90_std",
          "sef90_std",
          "sef90_std",
          "sef90_std",
          "sef95_mean",
          "sef95_mean",
          "sef95_mean",
          "sef95_mean",
          "sef95_mean",
          "sef95_mean",
          "sef95_mean",
          "sef95_mean",
          "sef95_mean",
          "sef95_mean",
          "sef95_std",
          "sef95_std",
          "sef95_std",
          "sef95_std",
          "sef95_std",
          "sef95_std",
          "sef95_std",
          "sef95_std",
          "sef95_std",
          "sef95_std",
          "b_mean",
          "b_mean",
          "b_mean",
          "b_mean",
          "b_mean",
          "b_mean",
          "b_mean",
          "b_mean",
          "b_mean",
          "b_mean",
          "b_std",
          "b_std",
          "b_std",
          "b_std",
          "b_std",
          "b_std",
          "b_std",
          "b_std",
          "b_std",
          "b_std",
          "b_n_mean",
          "b_n_mean",
          "b_n_mean",
          "b_n_mean",
          "b_n_mean",
          "b_n_mean",
          "b_n_mean",
          "b_n_mean",
          "b_n_mean",
          "b_n_mean",
          "b_n_std",
          "b_n_std",
          "b_n_std",
          "b_n_std",
          "b_n_std",
          "b_n_std",
          "b_n_std",
          "b_n_std",
          "b_n_std",
          "b_n_std",
          "g_mean",
          "g_mean",
          "g_mean",
          "g_mean",
          "g_mean",
          "g_mean",
          "g_mean",
          "g_mean",
          "g_mean",
          "g_mean",
          "g_std",
          "g_std",
          "g_std",
          "g_std",
          "g_std",
          "g_std",
          "g_std",
          "g_std",
          "g_std",
          "g_std",
          "g_n_mean",
          "g_n_mean",
          "g_n_mean",
          "g_n_mean",
          "g_n_mean",
          "g_n_mean",
          "g_n_mean",
          "g_n_mean",
          "g_n_mean",
          "g_n_mean",
          "g_n_std",
          "g_n_std",
          "g_n_std",
          "g_n_std",
          "g_n_std",
          "g_n_std",
          "g_n_std",
          "g_n_std",
          "g_n_std",
          "g_n_std",
          "t_mean",
          "t_mean",
          "t_mean",
          "t_mean",
          "t_mean",
          "t_mean",
          "t_mean",
          "t_mean",
          "t_mean",
          "t_mean",
          "t_std",
          "t_std",
          "t_std",
          "t_std",
          "t_std",
          "t_std",
          "t_std",
          "t_std",
          "t_std",
          "t_std",
          "t_n_mean",
          "t_n_mean",
          "t_n_mean",
          "t_n_mean",
          "t_n_mean",
          "t_n_mean",
          "t_n_mean",
          "t_n_mean",
          "t_n_mean",
          "t_n_mean",
          "t_n_std",
          "t_n_std",
          "t_n_std",
          "t_n_std",
          "t_n_std",
          "t_n_std",
          "t_n_std",
          "t_n_std",
          "t_n_std",
          "t_n_std",
          "d_mean",
          "d_mean",
          "d_mean",
          "d_mean",
          "d_mean",
          "d_mean",
          "d_mean",
          "d_mean",
          "d_mean",
          "d_mean",
          "d_std",
          "d_std",
          "d_std",
          "d_std",
          "d_std",
          "d_std",
          "d_std",
          "d_std",
          "d_std",
          "d_std",
          "d_n_mean",
          "d_n_mean",
          "d_n_mean",
          "d_n_mean",
          "d_n_mean",
          "d_n_mean",
          "d_n_mean",
          "d_n_mean",
          "d_n_mean",
          "d_n_mean",
          "d_n_std",
          "d_n_std",
          "d_n_std",
          "d_n_std",
          "d_n_std",
          "d_n_std",
          "d_n_std",
          "d_n_std",
          "d_n_std",
          "d_n_std",
          "a_n_mean",
          "a_n_mean",
          "a_n_mean",
          "a_n_mean",
          "a_n_mean",
          "a_n_mean",
          "a_n_mean",
          "a_n_mean",
          "a_n_mean",
          "a_n_mean",
          "a_n_std",
          "a_n_std",
          "a_n_std",
          "a_n_std",
          "a_n_std",
          "a_n_std",
          "a_n_std",
          "a_n_std",
          "a_n_std",
          "a_n_std",
          "a_mean",
          "a_mean",
          "a_mean",
          "a_mean",
          "a_mean",
          "a_mean",
          "a_mean",
          "a_mean",
          "a_mean",
          "a_mean",
          "a_std",
          "a_std",
          "a_std",
          "a_std",
          "a_std",
          "a_std",
          "a_std",
          "a_std",
          "a_std",
          "a_std",
          "CNV_mean",
          "CNV_mean",
          "CNV_mean",
          "CNV_mean",
          "CNV_mean",
          "CNV_mean",
          "CNV_mean",
          "CNV_mean",
          "CNV_mean",
          "CNV_mean",
          "CNV_std",
          "CNV_std",
          "CNV_std",
          "CNV_std",
          "CNV_std",
          "CNV_std",
          "CNV_std",
          "CNV_std",
          "CNV_std",
          "CNV_std",
          "P1_mean",
          "P1_mean",
          "P1_mean",
          "P1_mean",
          "P1_mean",
          "P1_mean",
          "P1_mean",
          "P1_mean",
          "P1_mean",
          "P1_mean",
          "P1_std",
          "P1_std",
          "P1_std",
          "P1_std",
          "P1_std",
          "P1_std",
          "P1_std",
          "P1_std",
          "P1_std",
          "P1_std",
          "P3a_mean",
          "P3a_mean",
          "P3a_mean",
          "P3a_mean",
          "P3a_mean",
          "P3a_mean",
          "P3a_mean",
          "P3a_mean",
          "P3a_mean",
          "P3a_mean",
          "P3a_std",
          "P3a_std",
          "P3a_std",
          "P3a_std",
          "P3a_std",
          "P3a_std",
          "P3a_std",
          "P3a_std",
          "P3a_std",
          "P3a_std",
          "P3b_mean",
          "P3b_mean",
          "P3b_mean",
          "P3b_mean",
          "P3b_mean",
          "P3b_mean",
          "P3b_mean",
          "P3b_mean",
          "P3b_mean",
          "P3b_mean",
          "P3b_std",
          "P3b_std",
          "P3b_std",
          "P3b_std",
          "P3b_std",
          "P3b_std",
          "P3b_std",
          "P3b_std",
          "P3b_std",
          "P3b_std"
         ]
        }
       ],
       "layout": {
        "font": {
         "color": "black",
         "family": "Times new roman",
         "size": 20
        },
        "height": 1100,
        "showlegend": true,
        "template": {
         "data": {
          "bar": [
           {
            "error_x": {
             "color": "#2a3f5f"
            },
            "error_y": {
             "color": "#2a3f5f"
            },
            "marker": {
             "line": {
              "color": "white",
              "width": 0.5
             },
             "pattern": {
              "fillmode": "overlay",
              "size": 10,
              "solidity": 0.2
             }
            },
            "type": "bar"
           }
          ],
          "barpolar": [
           {
            "marker": {
             "line": {
              "color": "white",
              "width": 0.5
             },
             "pattern": {
              "fillmode": "overlay",
              "size": 10,
              "solidity": 0.2
             }
            },
            "type": "barpolar"
           }
          ],
          "carpet": [
           {
            "aaxis": {
             "endlinecolor": "#2a3f5f",
             "gridcolor": "#C8D4E3",
             "linecolor": "#C8D4E3",
             "minorgridcolor": "#C8D4E3",
             "startlinecolor": "#2a3f5f"
            },
            "baxis": {
             "endlinecolor": "#2a3f5f",
             "gridcolor": "#C8D4E3",
             "linecolor": "#C8D4E3",
             "minorgridcolor": "#C8D4E3",
             "startlinecolor": "#2a3f5f"
            },
            "type": "carpet"
           }
          ],
          "choropleth": [
           {
            "colorbar": {
             "outlinewidth": 0,
             "ticks": ""
            },
            "type": "choropleth"
           }
          ],
          "contour": [
           {
            "colorbar": {
             "outlinewidth": 0,
             "ticks": ""
            },
            "colorscale": [
             [
              0,
              "#0d0887"
             ],
             [
              0.1111111111111111,
              "#46039f"
             ],
             [
              0.2222222222222222,
              "#7201a8"
             ],
             [
              0.3333333333333333,
              "#9c179e"
             ],
             [
              0.4444444444444444,
              "#bd3786"
             ],
             [
              0.5555555555555556,
              "#d8576b"
             ],
             [
              0.6666666666666666,
              "#ed7953"
             ],
             [
              0.7777777777777778,
              "#fb9f3a"
             ],
             [
              0.8888888888888888,
              "#fdca26"
             ],
             [
              1,
              "#f0f921"
             ]
            ],
            "type": "contour"
           }
          ],
          "contourcarpet": [
           {
            "colorbar": {
             "outlinewidth": 0,
             "ticks": ""
            },
            "type": "contourcarpet"
           }
          ],
          "heatmap": [
           {
            "colorbar": {
             "outlinewidth": 0,
             "ticks": ""
            },
            "colorscale": [
             [
              0,
              "#0d0887"
             ],
             [
              0.1111111111111111,
              "#46039f"
             ],
             [
              0.2222222222222222,
              "#7201a8"
             ],
             [
              0.3333333333333333,
              "#9c179e"
             ],
             [
              0.4444444444444444,
              "#bd3786"
             ],
             [
              0.5555555555555556,
              "#d8576b"
             ],
             [
              0.6666666666666666,
              "#ed7953"
             ],
             [
              0.7777777777777778,
              "#fb9f3a"
             ],
             [
              0.8888888888888888,
              "#fdca26"
             ],
             [
              1,
              "#f0f921"
             ]
            ],
            "type": "heatmap"
           }
          ],
          "heatmapgl": [
           {
            "colorbar": {
             "outlinewidth": 0,
             "ticks": ""
            },
            "colorscale": [
             [
              0,
              "#0d0887"
             ],
             [
              0.1111111111111111,
              "#46039f"
             ],
             [
              0.2222222222222222,
              "#7201a8"
             ],
             [
              0.3333333333333333,
              "#9c179e"
             ],
             [
              0.4444444444444444,
              "#bd3786"
             ],
             [
              0.5555555555555556,
              "#d8576b"
             ],
             [
              0.6666666666666666,
              "#ed7953"
             ],
             [
              0.7777777777777778,
              "#fb9f3a"
             ],
             [
              0.8888888888888888,
              "#fdca26"
             ],
             [
              1,
              "#f0f921"
             ]
            ],
            "type": "heatmapgl"
           }
          ],
          "histogram": [
           {
            "marker": {
             "pattern": {
              "fillmode": "overlay",
              "size": 10,
              "solidity": 0.2
             }
            },
            "type": "histogram"
           }
          ],
          "histogram2d": [
           {
            "colorbar": {
             "outlinewidth": 0,
             "ticks": ""
            },
            "colorscale": [
             [
              0,
              "#0d0887"
             ],
             [
              0.1111111111111111,
              "#46039f"
             ],
             [
              0.2222222222222222,
              "#7201a8"
             ],
             [
              0.3333333333333333,
              "#9c179e"
             ],
             [
              0.4444444444444444,
              "#bd3786"
             ],
             [
              0.5555555555555556,
              "#d8576b"
             ],
             [
              0.6666666666666666,
              "#ed7953"
             ],
             [
              0.7777777777777778,
              "#fb9f3a"
             ],
             [
              0.8888888888888888,
              "#fdca26"
             ],
             [
              1,
              "#f0f921"
             ]
            ],
            "type": "histogram2d"
           }
          ],
          "histogram2dcontour": [
           {
            "colorbar": {
             "outlinewidth": 0,
             "ticks": ""
            },
            "colorscale": [
             [
              0,
              "#0d0887"
             ],
             [
              0.1111111111111111,
              "#46039f"
             ],
             [
              0.2222222222222222,
              "#7201a8"
             ],
             [
              0.3333333333333333,
              "#9c179e"
             ],
             [
              0.4444444444444444,
              "#bd3786"
             ],
             [
              0.5555555555555556,
              "#d8576b"
             ],
             [
              0.6666666666666666,
              "#ed7953"
             ],
             [
              0.7777777777777778,
              "#fb9f3a"
             ],
             [
              0.8888888888888888,
              "#fdca26"
             ],
             [
              1,
              "#f0f921"
             ]
            ],
            "type": "histogram2dcontour"
           }
          ],
          "mesh3d": [
           {
            "colorbar": {
             "outlinewidth": 0,
             "ticks": ""
            },
            "type": "mesh3d"
           }
          ],
          "parcoords": [
           {
            "line": {
             "colorbar": {
              "outlinewidth": 0,
              "ticks": ""
             }
            },
            "type": "parcoords"
           }
          ],
          "pie": [
           {
            "automargin": true,
            "type": "pie"
           }
          ],
          "scatter": [
           {
            "fillpattern": {
             "fillmode": "overlay",
             "size": 10,
             "solidity": 0.2
            },
            "type": "scatter"
           }
          ],
          "scatter3d": [
           {
            "line": {
             "colorbar": {
              "outlinewidth": 0,
              "ticks": ""
             }
            },
            "marker": {
             "colorbar": {
              "outlinewidth": 0,
              "ticks": ""
             }
            },
            "type": "scatter3d"
           }
          ],
          "scattercarpet": [
           {
            "marker": {
             "colorbar": {
              "outlinewidth": 0,
              "ticks": ""
             }
            },
            "type": "scattercarpet"
           }
          ],
          "scattergeo": [
           {
            "marker": {
             "colorbar": {
              "outlinewidth": 0,
              "ticks": ""
             }
            },
            "type": "scattergeo"
           }
          ],
          "scattergl": [
           {
            "marker": {
             "colorbar": {
              "outlinewidth": 0,
              "ticks": ""
             }
            },
            "type": "scattergl"
           }
          ],
          "scattermapbox": [
           {
            "marker": {
             "colorbar": {
              "outlinewidth": 0,
              "ticks": ""
             }
            },
            "type": "scattermapbox"
           }
          ],
          "scatterpolar": [
           {
            "marker": {
             "colorbar": {
              "outlinewidth": 0,
              "ticks": ""
             }
            },
            "type": "scatterpolar"
           }
          ],
          "scatterpolargl": [
           {
            "marker": {
             "colorbar": {
              "outlinewidth": 0,
              "ticks": ""
             }
            },
            "type": "scatterpolargl"
           }
          ],
          "scatterternary": [
           {
            "marker": {
             "colorbar": {
              "outlinewidth": 0,
              "ticks": ""
             }
            },
            "type": "scatterternary"
           }
          ],
          "surface": [
           {
            "colorbar": {
             "outlinewidth": 0,
             "ticks": ""
            },
            "colorscale": [
             [
              0,
              "#0d0887"
             ],
             [
              0.1111111111111111,
              "#46039f"
             ],
             [
              0.2222222222222222,
              "#7201a8"
             ],
             [
              0.3333333333333333,
              "#9c179e"
             ],
             [
              0.4444444444444444,
              "#bd3786"
             ],
             [
              0.5555555555555556,
              "#d8576b"
             ],
             [
              0.6666666666666666,
              "#ed7953"
             ],
             [
              0.7777777777777778,
              "#fb9f3a"
             ],
             [
              0.8888888888888888,
              "#fdca26"
             ],
             [
              1,
              "#f0f921"
             ]
            ],
            "type": "surface"
           }
          ],
          "table": [
           {
            "cells": {
             "fill": {
              "color": "#EBF0F8"
             },
             "line": {
              "color": "white"
             }
            },
            "header": {
             "fill": {
              "color": "#C8D4E3"
             },
             "line": {
              "color": "white"
             }
            },
            "type": "table"
           }
          ]
         },
         "layout": {
          "annotationdefaults": {
           "arrowcolor": "#2a3f5f",
           "arrowhead": 0,
           "arrowwidth": 1
          },
          "autotypenumbers": "strict",
          "coloraxis": {
           "colorbar": {
            "outlinewidth": 0,
            "ticks": ""
           }
          },
          "colorscale": {
           "diverging": [
            [
             0,
             "#8e0152"
            ],
            [
             0.1,
             "#c51b7d"
            ],
            [
             0.2,
             "#de77ae"
            ],
            [
             0.3,
             "#f1b6da"
            ],
            [
             0.4,
             "#fde0ef"
            ],
            [
             0.5,
             "#f7f7f7"
            ],
            [
             0.6,
             "#e6f5d0"
            ],
            [
             0.7,
             "#b8e186"
            ],
            [
             0.8,
             "#7fbc41"
            ],
            [
             0.9,
             "#4d9221"
            ],
            [
             1,
             "#276419"
            ]
           ],
           "sequential": [
            [
             0,
             "#0d0887"
            ],
            [
             0.1111111111111111,
             "#46039f"
            ],
            [
             0.2222222222222222,
             "#7201a8"
            ],
            [
             0.3333333333333333,
             "#9c179e"
            ],
            [
             0.4444444444444444,
             "#bd3786"
            ],
            [
             0.5555555555555556,
             "#d8576b"
            ],
            [
             0.6666666666666666,
             "#ed7953"
            ],
            [
             0.7777777777777778,
             "#fb9f3a"
            ],
            [
             0.8888888888888888,
             "#fdca26"
            ],
            [
             1,
             "#f0f921"
            ]
           ],
           "sequentialminus": [
            [
             0,
             "#0d0887"
            ],
            [
             0.1111111111111111,
             "#46039f"
            ],
            [
             0.2222222222222222,
             "#7201a8"
            ],
            [
             0.3333333333333333,
             "#9c179e"
            ],
            [
             0.4444444444444444,
             "#bd3786"
            ],
            [
             0.5555555555555556,
             "#d8576b"
            ],
            [
             0.6666666666666666,
             "#ed7953"
            ],
            [
             0.7777777777777778,
             "#fb9f3a"
            ],
            [
             0.8888888888888888,
             "#fdca26"
            ],
            [
             1,
             "#f0f921"
            ]
           ]
          },
          "colorway": [
           "#636efa",
           "#EF553B",
           "#00cc96",
           "#ab63fa",
           "#FFA15A",
           "#19d3f3",
           "#FF6692",
           "#B6E880",
           "#FF97FF",
           "#FECB52"
          ],
          "font": {
           "color": "#2a3f5f"
          },
          "geo": {
           "bgcolor": "white",
           "lakecolor": "white",
           "landcolor": "white",
           "showlakes": true,
           "showland": true,
           "subunitcolor": "#C8D4E3"
          },
          "hoverlabel": {
           "align": "left"
          },
          "hovermode": "closest",
          "mapbox": {
           "style": "light"
          },
          "paper_bgcolor": "white",
          "plot_bgcolor": "white",
          "polar": {
           "angularaxis": {
            "gridcolor": "#EBF0F8",
            "linecolor": "#EBF0F8",
            "ticks": ""
           },
           "bgcolor": "white",
           "radialaxis": {
            "gridcolor": "#EBF0F8",
            "linecolor": "#EBF0F8",
            "ticks": ""
           }
          },
          "scene": {
           "xaxis": {
            "backgroundcolor": "white",
            "gridcolor": "#DFE8F3",
            "gridwidth": 2,
            "linecolor": "#EBF0F8",
            "showbackground": true,
            "ticks": "",
            "zerolinecolor": "#EBF0F8"
           },
           "yaxis": {
            "backgroundcolor": "white",
            "gridcolor": "#DFE8F3",
            "gridwidth": 2,
            "linecolor": "#EBF0F8",
            "showbackground": true,
            "ticks": "",
            "zerolinecolor": "#EBF0F8"
           },
           "zaxis": {
            "backgroundcolor": "white",
            "gridcolor": "#DFE8F3",
            "gridwidth": 2,
            "linecolor": "#EBF0F8",
            "showbackground": true,
            "ticks": "",
            "zerolinecolor": "#EBF0F8"
           }
          },
          "shapedefaults": {
           "line": {
            "color": "#2a3f5f"
           }
          },
          "ternary": {
           "aaxis": {
            "gridcolor": "#DFE8F3",
            "linecolor": "#A2B1C6",
            "ticks": ""
           },
           "baxis": {
            "gridcolor": "#DFE8F3",
            "linecolor": "#A2B1C6",
            "ticks": ""
           },
           "bgcolor": "white",
           "caxis": {
            "gridcolor": "#DFE8F3",
            "linecolor": "#A2B1C6",
            "ticks": ""
           }
          },
          "title": {
           "x": 0.05
          },
          "xaxis": {
           "automargin": true,
           "gridcolor": "#EBF0F8",
           "linecolor": "#EBF0F8",
           "ticks": "",
           "title": {
            "standoff": 15
           },
           "zerolinecolor": "#EBF0F8",
           "zerolinewidth": 2
          },
          "yaxis": {
           "automargin": true,
           "gridcolor": "#EBF0F8",
           "linecolor": "#EBF0F8",
           "ticks": "",
           "title": {
            "standoff": 15
           },
           "zerolinecolor": "#EBF0F8",
           "zerolinewidth": 2
          }
         }
        },
        "width": 650,
        "xaxis": {
         "range": [
          0,
          0.3
         ],
         "tickfont": {
          "size": 20
         },
         "title": {
          "text": "Feature Importance"
         },
         "visible": true
        },
        "yaxis": {
         "automargin": true,
         "categoryarray": [
          "wSMI_2_std",
          "P3a_mean",
          "sef90_mean",
          "sef90_std",
          "p_e_4_std",
          "wSMI_2_mean",
          "P1_std",
          "sef95_mean",
          "d_mean",
          "P3a_std",
          "k_mean",
          "se_std",
          "P3b_mean",
          "P3b_std",
          "d_std",
          "b_n_std",
          "wSMI_4_mean",
          "p_e_1_mean",
          "p_e_4_mean",
          "d_n_std",
          "p_e_2_mean",
          "p_e_1_std",
          "a_n_std",
          "sef95_std",
          "CNV_std",
          "se_mean",
          "g_n_mean",
          "wSMI_1_mean",
          "a_std",
          "p_e_8_std",
          "msf_mean",
          "t_n_mean",
          "t_mean",
          "msf_std",
          "k_std",
          "t_std",
          "t_n_std",
          "a_mean",
          "b_std",
          "wSMI_4_std",
          "g_std",
          "b_n_mean",
          "d_n_mean",
          "CNV_mean",
          "g_mean",
          "a_n_mean",
          "g_n_std",
          "P1_mean",
          "p_e_2_std",
          "wSMI_8_std",
          "wSMI_1_std",
          "b_mean",
          "wSMI_8_mean",
          "p_e_8_mean"
         ],
         "categoryorder": "array",
         "dtick": 1,
         "range": [
          -1,
          54
         ],
         "showgrid": true,
         "tickfont": {
          "size": 20
         },
         "title": {
          "text": "Feature"
         }
        }
       }
      }
     },
     "metadata": {},
     "output_type": "display_data"
    },
    {
     "data": {
      "application/vnd.plotly.v1+json": {
       "config": {
        "plotlyServerURL": "https://plot.ly"
       },
       "data": [
        {
         "boxpoints": "all",
         "jitter": 0,
         "marker": {
          "color": "#F38A31",
          "size": 3
         },
         "orientation": "h",
         "pointpos": 0,
         "type": "box",
         "x": [
          0.01470588,
          0.0625,
          0.10606061,
          0.04331978,
          0.03125,
          0.02272727,
          0,
          0,
          0.01393111,
          0.07142857,
          0,
          0,
          0,
          0,
          0,
          0,
          0,
          0.015625,
          0,
          0,
          0.0625,
          0,
          0,
          0.0078125,
          0,
          0,
          0,
          0,
          0,
          0,
          0,
          0,
          0,
          0.00399642,
          0,
          0,
          0,
          0,
          0,
          0.08333333,
          0,
          0,
          0.02272727,
          0,
          0,
          0,
          0,
          0,
          0,
          0,
          0,
          0.0625,
          0,
          0.025,
          0,
          0.06944444,
          0,
          0,
          0,
          0,
          0,
          0,
          0,
          0,
          0,
          0,
          0,
          0,
          0,
          0,
          0,
          0,
          0,
          0,
          0,
          0,
          0,
          0,
          0,
          0,
          0,
          0,
          0,
          0,
          0,
          0,
          0,
          0,
          0,
          0,
          0,
          0,
          0,
          0.00363939,
          0,
          0,
          0,
          0,
          0,
          0,
          0.01470588,
          0,
          0,
          0,
          0,
          0,
          0,
          0,
          0,
          0,
          0,
          0,
          0,
          0.0078125,
          0,
          0,
          0,
          0,
          0,
          0,
          0,
          0,
          0,
          0.00373921,
          0,
          0,
          0.02083333,
          0,
          0,
          0,
          0,
          0,
          0,
          0,
          0,
          0,
          0,
          0,
          0,
          0,
          0.01470588,
          0,
          0,
          0,
          0,
          0,
          0,
          0,
          0,
          0,
          0.07720588,
          0,
          0,
          0.29947917,
          0.09375,
          0.13888889,
          0,
          0,
          0,
          0.08333333,
          0.02941176,
          0,
          0,
          0.02854157,
          0.03125,
          0.01164712,
          0,
          0.015625,
          0,
          0.08333333,
          0,
          0,
          0.02272727,
          0,
          0,
          0,
          0.02083333,
          0.03125,
          0.02777778,
          0,
          0,
          0.0625,
          0,
          0.0697475,
          0,
          0.06439394,
          0,
          0.125,
          0.0625,
          0,
          0,
          0.03125,
          0,
          0.0234375,
          0,
          0,
          0,
          0,
          0,
          0,
          0,
          0,
          0,
          0.0078125,
          0,
          0,
          0,
          0,
          0,
          0,
          0,
          0,
          0,
          0,
          0,
          0,
          0,
          0,
          0,
          0,
          0,
          0,
          0,
          0,
          0,
          0,
          0,
          0,
          0,
          0,
          0,
          0,
          0,
          0,
          0,
          0,
          0,
          0,
          0,
          0,
          0,
          0.02643229,
          0,
          0,
          0,
          0.02272727,
          0,
          0,
          0,
          0,
          0,
          0,
          0.02272727,
          0,
          0,
          0,
          0.02083333,
          0,
          0,
          0,
          0,
          0.03125,
          0,
          0,
          0,
          0,
          0,
          0,
          0,
          0,
          0.01470588,
          0,
          0,
          0,
          0,
          0,
          0,
          0,
          0,
          0.03571429,
          0.01470588,
          0,
          0.07272727,
          0,
          0.03125,
          0,
          0.08333333,
          0.03125,
          0,
          0.03571429,
          0.0625,
          0,
          0,
          0.0078125,
          0.0625,
          0,
          0,
          0,
          0,
          0,
          0,
          0,
          0,
          0,
          0,
          0,
          0,
          0,
          0,
          0,
          0,
          0.03125,
          0,
          0.0578125,
          0,
          0.04545455,
          0,
          0,
          0,
          0.03571429,
          0.01470588,
          0,
          0,
          0.00417311,
          0.03125,
          0,
          0,
          0,
          0,
          0,
          0,
          0.3125,
          0,
          0.00398318,
          0,
          0.09131742,
          0,
          0,
          0,
          0.125,
          0.07720588,
          0,
          0,
          0.025,
          0.09375,
          0.02777778,
          0,
          0,
          0,
          0,
          0,
          0,
          0,
          0,
          0,
          0,
          0,
          0,
          0,
          0,
          0.34191176,
          0.12981771,
          0.53484848,
          0.11998605,
          0.40625,
          0.10325187,
          0.6875,
          0.734375,
          0.81245777,
          0.20238095,
          0,
          0,
          0,
          0.0078125,
          0,
          0,
          0.04166667,
          0.015625,
          0.02777778,
          0,
          0.13970588,
          0,
          0,
          0,
          0.0625,
          0,
          0,
          0,
          0,
          0,
          0,
          0,
          0,
          0.00443268,
          0,
          0.04166667,
          0,
          0,
          0,
          0,
          0,
          0,
          0,
          0,
          0,
          0.04166667,
          0,
          0,
          0,
          0,
          0,
          0,
          0,
          0.09032194,
          0,
          0.06146036,
          0,
          0,
          0,
          0,
          0.01470588,
          0.0625,
          0,
          0,
          0,
          0.02777778,
          0,
          0,
          0,
          0,
          0,
          0,
          0,
          0.0078125,
          0,
          0.04545455,
          0,
          0,
          0,
          0,
          0,
          0,
          0,
          0.0078125,
          0,
          0.02272727,
          0,
          0,
          0,
          0,
          0.01470588,
          0.0625,
          0.1,
          0.0708775,
          0,
          0.06944444,
          0,
          0.015625,
          0,
          0.08333333,
          0.01470588,
          0,
          0,
          0.01157501,
          0,
          0,
          0,
          0,
          0,
          0,
          0,
          0,
          0,
          0.0078125,
          0,
          0,
          0,
          0,
          0,
          0.03571429,
          0.0625,
          0,
          0,
          0,
          0.125,
          0,
          0,
          0,
          0,
          0,
          0,
          0.09375,
          0.05,
          0.025,
          0,
          0.06944444,
          0.08333333,
          0,
          0,
          0,
          0,
          0,
          0,
          0,
          0,
          0,
          0,
          0,
          0,
          0,
          0,
          0,
          0,
          0.0078125,
          0,
          0,
          0,
          0,
          0.02777778,
          0.125,
          0,
          0,
          0.06818182,
          0.0078125,
          0,
          0,
          0.04166667,
          0.015625,
          0.02777778,
          0,
          0.01470588,
          0.03125,
          0,
          0.0078125,
          0.03125,
          0.02272727,
          0,
          0,
          0,
          0
         ],
         "y": [
          "wSMI_1_mean",
          "wSMI_1_mean",
          "wSMI_1_mean",
          "wSMI_1_mean",
          "wSMI_1_mean",
          "wSMI_1_mean",
          "wSMI_1_mean",
          "wSMI_1_mean",
          "wSMI_1_mean",
          "wSMI_1_mean",
          "wSMI_1_std",
          "wSMI_1_std",
          "wSMI_1_std",
          "wSMI_1_std",
          "wSMI_1_std",
          "wSMI_1_std",
          "wSMI_1_std",
          "wSMI_1_std",
          "wSMI_1_std",
          "wSMI_1_std",
          "wSMI_2_mean",
          "wSMI_2_mean",
          "wSMI_2_mean",
          "wSMI_2_mean",
          "wSMI_2_mean",
          "wSMI_2_mean",
          "wSMI_2_mean",
          "wSMI_2_mean",
          "wSMI_2_mean",
          "wSMI_2_mean",
          "wSMI_2_std",
          "wSMI_2_std",
          "wSMI_2_std",
          "wSMI_2_std",
          "wSMI_2_std",
          "wSMI_2_std",
          "wSMI_2_std",
          "wSMI_2_std",
          "wSMI_2_std",
          "wSMI_2_std",
          "wSMI_4_mean",
          "wSMI_4_mean",
          "wSMI_4_mean",
          "wSMI_4_mean",
          "wSMI_4_mean",
          "wSMI_4_mean",
          "wSMI_4_mean",
          "wSMI_4_mean",
          "wSMI_4_mean",
          "wSMI_4_mean",
          "wSMI_4_std",
          "wSMI_4_std",
          "wSMI_4_std",
          "wSMI_4_std",
          "wSMI_4_std",
          "wSMI_4_std",
          "wSMI_4_std",
          "wSMI_4_std",
          "wSMI_4_std",
          "wSMI_4_std",
          "wSMI_8_mean",
          "wSMI_8_mean",
          "wSMI_8_mean",
          "wSMI_8_mean",
          "wSMI_8_mean",
          "wSMI_8_mean",
          "wSMI_8_mean",
          "wSMI_8_mean",
          "wSMI_8_mean",
          "wSMI_8_mean",
          "wSMI_8_std",
          "wSMI_8_std",
          "wSMI_8_std",
          "wSMI_8_std",
          "wSMI_8_std",
          "wSMI_8_std",
          "wSMI_8_std",
          "wSMI_8_std",
          "wSMI_8_std",
          "wSMI_8_std",
          "p_e_1_mean",
          "p_e_1_mean",
          "p_e_1_mean",
          "p_e_1_mean",
          "p_e_1_mean",
          "p_e_1_mean",
          "p_e_1_mean",
          "p_e_1_mean",
          "p_e_1_mean",
          "p_e_1_mean",
          "p_e_1_std",
          "p_e_1_std",
          "p_e_1_std",
          "p_e_1_std",
          "p_e_1_std",
          "p_e_1_std",
          "p_e_1_std",
          "p_e_1_std",
          "p_e_1_std",
          "p_e_1_std",
          "p_e_2_mean",
          "p_e_2_mean",
          "p_e_2_mean",
          "p_e_2_mean",
          "p_e_2_mean",
          "p_e_2_mean",
          "p_e_2_mean",
          "p_e_2_mean",
          "p_e_2_mean",
          "p_e_2_mean",
          "p_e_2_std",
          "p_e_2_std",
          "p_e_2_std",
          "p_e_2_std",
          "p_e_2_std",
          "p_e_2_std",
          "p_e_2_std",
          "p_e_2_std",
          "p_e_2_std",
          "p_e_2_std",
          "p_e_4_mean",
          "p_e_4_mean",
          "p_e_4_mean",
          "p_e_4_mean",
          "p_e_4_mean",
          "p_e_4_mean",
          "p_e_4_mean",
          "p_e_4_mean",
          "p_e_4_mean",
          "p_e_4_mean",
          "p_e_4_std",
          "p_e_4_std",
          "p_e_4_std",
          "p_e_4_std",
          "p_e_4_std",
          "p_e_4_std",
          "p_e_4_std",
          "p_e_4_std",
          "p_e_4_std",
          "p_e_4_std",
          "p_e_8_mean",
          "p_e_8_mean",
          "p_e_8_mean",
          "p_e_8_mean",
          "p_e_8_mean",
          "p_e_8_mean",
          "p_e_8_mean",
          "p_e_8_mean",
          "p_e_8_mean",
          "p_e_8_mean",
          "p_e_8_std",
          "p_e_8_std",
          "p_e_8_std",
          "p_e_8_std",
          "p_e_8_std",
          "p_e_8_std",
          "p_e_8_std",
          "p_e_8_std",
          "p_e_8_std",
          "p_e_8_std",
          "k_mean",
          "k_mean",
          "k_mean",
          "k_mean",
          "k_mean",
          "k_mean",
          "k_mean",
          "k_mean",
          "k_mean",
          "k_mean",
          "k_std",
          "k_std",
          "k_std",
          "k_std",
          "k_std",
          "k_std",
          "k_std",
          "k_std",
          "k_std",
          "k_std",
          "se_mean",
          "se_mean",
          "se_mean",
          "se_mean",
          "se_mean",
          "se_mean",
          "se_mean",
          "se_mean",
          "se_mean",
          "se_mean",
          "se_std",
          "se_std",
          "se_std",
          "se_std",
          "se_std",
          "se_std",
          "se_std",
          "se_std",
          "se_std",
          "se_std",
          "msf_mean",
          "msf_mean",
          "msf_mean",
          "msf_mean",
          "msf_mean",
          "msf_mean",
          "msf_mean",
          "msf_mean",
          "msf_mean",
          "msf_mean",
          "msf_std",
          "msf_std",
          "msf_std",
          "msf_std",
          "msf_std",
          "msf_std",
          "msf_std",
          "msf_std",
          "msf_std",
          "msf_std",
          "sef90_mean",
          "sef90_mean",
          "sef90_mean",
          "sef90_mean",
          "sef90_mean",
          "sef90_mean",
          "sef90_mean",
          "sef90_mean",
          "sef90_mean",
          "sef90_mean",
          "sef90_std",
          "sef90_std",
          "sef90_std",
          "sef90_std",
          "sef90_std",
          "sef90_std",
          "sef90_std",
          "sef90_std",
          "sef90_std",
          "sef90_std",
          "sef95_mean",
          "sef95_mean",
          "sef95_mean",
          "sef95_mean",
          "sef95_mean",
          "sef95_mean",
          "sef95_mean",
          "sef95_mean",
          "sef95_mean",
          "sef95_mean",
          "sef95_std",
          "sef95_std",
          "sef95_std",
          "sef95_std",
          "sef95_std",
          "sef95_std",
          "sef95_std",
          "sef95_std",
          "sef95_std",
          "sef95_std",
          "b_mean",
          "b_mean",
          "b_mean",
          "b_mean",
          "b_mean",
          "b_mean",
          "b_mean",
          "b_mean",
          "b_mean",
          "b_mean",
          "b_std",
          "b_std",
          "b_std",
          "b_std",
          "b_std",
          "b_std",
          "b_std",
          "b_std",
          "b_std",
          "b_std",
          "b_n_mean",
          "b_n_mean",
          "b_n_mean",
          "b_n_mean",
          "b_n_mean",
          "b_n_mean",
          "b_n_mean",
          "b_n_mean",
          "b_n_mean",
          "b_n_mean",
          "b_n_std",
          "b_n_std",
          "b_n_std",
          "b_n_std",
          "b_n_std",
          "b_n_std",
          "b_n_std",
          "b_n_std",
          "b_n_std",
          "b_n_std",
          "g_mean",
          "g_mean",
          "g_mean",
          "g_mean",
          "g_mean",
          "g_mean",
          "g_mean",
          "g_mean",
          "g_mean",
          "g_mean",
          "g_std",
          "g_std",
          "g_std",
          "g_std",
          "g_std",
          "g_std",
          "g_std",
          "g_std",
          "g_std",
          "g_std",
          "g_n_mean",
          "g_n_mean",
          "g_n_mean",
          "g_n_mean",
          "g_n_mean",
          "g_n_mean",
          "g_n_mean",
          "g_n_mean",
          "g_n_mean",
          "g_n_mean",
          "g_n_std",
          "g_n_std",
          "g_n_std",
          "g_n_std",
          "g_n_std",
          "g_n_std",
          "g_n_std",
          "g_n_std",
          "g_n_std",
          "g_n_std",
          "t_mean",
          "t_mean",
          "t_mean",
          "t_mean",
          "t_mean",
          "t_mean",
          "t_mean",
          "t_mean",
          "t_mean",
          "t_mean",
          "t_std",
          "t_std",
          "t_std",
          "t_std",
          "t_std",
          "t_std",
          "t_std",
          "t_std",
          "t_std",
          "t_std",
          "t_n_mean",
          "t_n_mean",
          "t_n_mean",
          "t_n_mean",
          "t_n_mean",
          "t_n_mean",
          "t_n_mean",
          "t_n_mean",
          "t_n_mean",
          "t_n_mean",
          "t_n_std",
          "t_n_std",
          "t_n_std",
          "t_n_std",
          "t_n_std",
          "t_n_std",
          "t_n_std",
          "t_n_std",
          "t_n_std",
          "t_n_std",
          "d_mean",
          "d_mean",
          "d_mean",
          "d_mean",
          "d_mean",
          "d_mean",
          "d_mean",
          "d_mean",
          "d_mean",
          "d_mean",
          "d_std",
          "d_std",
          "d_std",
          "d_std",
          "d_std",
          "d_std",
          "d_std",
          "d_std",
          "d_std",
          "d_std",
          "d_n_mean",
          "d_n_mean",
          "d_n_mean",
          "d_n_mean",
          "d_n_mean",
          "d_n_mean",
          "d_n_mean",
          "d_n_mean",
          "d_n_mean",
          "d_n_mean",
          "d_n_std",
          "d_n_std",
          "d_n_std",
          "d_n_std",
          "d_n_std",
          "d_n_std",
          "d_n_std",
          "d_n_std",
          "d_n_std",
          "d_n_std",
          "a_n_mean",
          "a_n_mean",
          "a_n_mean",
          "a_n_mean",
          "a_n_mean",
          "a_n_mean",
          "a_n_mean",
          "a_n_mean",
          "a_n_mean",
          "a_n_mean",
          "a_n_std",
          "a_n_std",
          "a_n_std",
          "a_n_std",
          "a_n_std",
          "a_n_std",
          "a_n_std",
          "a_n_std",
          "a_n_std",
          "a_n_std",
          "a_mean",
          "a_mean",
          "a_mean",
          "a_mean",
          "a_mean",
          "a_mean",
          "a_mean",
          "a_mean",
          "a_mean",
          "a_mean",
          "a_std",
          "a_std",
          "a_std",
          "a_std",
          "a_std",
          "a_std",
          "a_std",
          "a_std",
          "a_std",
          "a_std",
          "CNV_mean",
          "CNV_mean",
          "CNV_mean",
          "CNV_mean",
          "CNV_mean",
          "CNV_mean",
          "CNV_mean",
          "CNV_mean",
          "CNV_mean",
          "CNV_mean",
          "CNV_std",
          "CNV_std",
          "CNV_std",
          "CNV_std",
          "CNV_std",
          "CNV_std",
          "CNV_std",
          "CNV_std",
          "CNV_std",
          "CNV_std",
          "P1_mean",
          "P1_mean",
          "P1_mean",
          "P1_mean",
          "P1_mean",
          "P1_mean",
          "P1_mean",
          "P1_mean",
          "P1_mean",
          "P1_mean",
          "P1_std",
          "P1_std",
          "P1_std",
          "P1_std",
          "P1_std",
          "P1_std",
          "P1_std",
          "P1_std",
          "P1_std",
          "P1_std",
          "P3a_mean",
          "P3a_mean",
          "P3a_mean",
          "P3a_mean",
          "P3a_mean",
          "P3a_mean",
          "P3a_mean",
          "P3a_mean",
          "P3a_mean",
          "P3a_mean",
          "P3a_std",
          "P3a_std",
          "P3a_std",
          "P3a_std",
          "P3a_std",
          "P3a_std",
          "P3a_std",
          "P3a_std",
          "P3a_std",
          "P3a_std",
          "P3b_mean",
          "P3b_mean",
          "P3b_mean",
          "P3b_mean",
          "P3b_mean",
          "P3b_mean",
          "P3b_mean",
          "P3b_mean",
          "P3b_mean",
          "P3b_mean",
          "P3b_std",
          "P3b_std",
          "P3b_std",
          "P3b_std",
          "P3b_std",
          "P3b_std",
          "P3b_std",
          "P3b_std",
          "P3b_std",
          "P3b_std"
         ]
        }
       ],
       "layout": {
        "font": {
         "color": "black",
         "family": "Times new roman",
         "size": 20
        },
        "height": 1100,
        "showlegend": true,
        "template": {
         "data": {
          "bar": [
           {
            "error_x": {
             "color": "#2a3f5f"
            },
            "error_y": {
             "color": "#2a3f5f"
            },
            "marker": {
             "line": {
              "color": "white",
              "width": 0.5
             },
             "pattern": {
              "fillmode": "overlay",
              "size": 10,
              "solidity": 0.2
             }
            },
            "type": "bar"
           }
          ],
          "barpolar": [
           {
            "marker": {
             "line": {
              "color": "white",
              "width": 0.5
             },
             "pattern": {
              "fillmode": "overlay",
              "size": 10,
              "solidity": 0.2
             }
            },
            "type": "barpolar"
           }
          ],
          "carpet": [
           {
            "aaxis": {
             "endlinecolor": "#2a3f5f",
             "gridcolor": "#C8D4E3",
             "linecolor": "#C8D4E3",
             "minorgridcolor": "#C8D4E3",
             "startlinecolor": "#2a3f5f"
            },
            "baxis": {
             "endlinecolor": "#2a3f5f",
             "gridcolor": "#C8D4E3",
             "linecolor": "#C8D4E3",
             "minorgridcolor": "#C8D4E3",
             "startlinecolor": "#2a3f5f"
            },
            "type": "carpet"
           }
          ],
          "choropleth": [
           {
            "colorbar": {
             "outlinewidth": 0,
             "ticks": ""
            },
            "type": "choropleth"
           }
          ],
          "contour": [
           {
            "colorbar": {
             "outlinewidth": 0,
             "ticks": ""
            },
            "colorscale": [
             [
              0,
              "#0d0887"
             ],
             [
              0.1111111111111111,
              "#46039f"
             ],
             [
              0.2222222222222222,
              "#7201a8"
             ],
             [
              0.3333333333333333,
              "#9c179e"
             ],
             [
              0.4444444444444444,
              "#bd3786"
             ],
             [
              0.5555555555555556,
              "#d8576b"
             ],
             [
              0.6666666666666666,
              "#ed7953"
             ],
             [
              0.7777777777777778,
              "#fb9f3a"
             ],
             [
              0.8888888888888888,
              "#fdca26"
             ],
             [
              1,
              "#f0f921"
             ]
            ],
            "type": "contour"
           }
          ],
          "contourcarpet": [
           {
            "colorbar": {
             "outlinewidth": 0,
             "ticks": ""
            },
            "type": "contourcarpet"
           }
          ],
          "heatmap": [
           {
            "colorbar": {
             "outlinewidth": 0,
             "ticks": ""
            },
            "colorscale": [
             [
              0,
              "#0d0887"
             ],
             [
              0.1111111111111111,
              "#46039f"
             ],
             [
              0.2222222222222222,
              "#7201a8"
             ],
             [
              0.3333333333333333,
              "#9c179e"
             ],
             [
              0.4444444444444444,
              "#bd3786"
             ],
             [
              0.5555555555555556,
              "#d8576b"
             ],
             [
              0.6666666666666666,
              "#ed7953"
             ],
             [
              0.7777777777777778,
              "#fb9f3a"
             ],
             [
              0.8888888888888888,
              "#fdca26"
             ],
             [
              1,
              "#f0f921"
             ]
            ],
            "type": "heatmap"
           }
          ],
          "heatmapgl": [
           {
            "colorbar": {
             "outlinewidth": 0,
             "ticks": ""
            },
            "colorscale": [
             [
              0,
              "#0d0887"
             ],
             [
              0.1111111111111111,
              "#46039f"
             ],
             [
              0.2222222222222222,
              "#7201a8"
             ],
             [
              0.3333333333333333,
              "#9c179e"
             ],
             [
              0.4444444444444444,
              "#bd3786"
             ],
             [
              0.5555555555555556,
              "#d8576b"
             ],
             [
              0.6666666666666666,
              "#ed7953"
             ],
             [
              0.7777777777777778,
              "#fb9f3a"
             ],
             [
              0.8888888888888888,
              "#fdca26"
             ],
             [
              1,
              "#f0f921"
             ]
            ],
            "type": "heatmapgl"
           }
          ],
          "histogram": [
           {
            "marker": {
             "pattern": {
              "fillmode": "overlay",
              "size": 10,
              "solidity": 0.2
             }
            },
            "type": "histogram"
           }
          ],
          "histogram2d": [
           {
            "colorbar": {
             "outlinewidth": 0,
             "ticks": ""
            },
            "colorscale": [
             [
              0,
              "#0d0887"
             ],
             [
              0.1111111111111111,
              "#46039f"
             ],
             [
              0.2222222222222222,
              "#7201a8"
             ],
             [
              0.3333333333333333,
              "#9c179e"
             ],
             [
              0.4444444444444444,
              "#bd3786"
             ],
             [
              0.5555555555555556,
              "#d8576b"
             ],
             [
              0.6666666666666666,
              "#ed7953"
             ],
             [
              0.7777777777777778,
              "#fb9f3a"
             ],
             [
              0.8888888888888888,
              "#fdca26"
             ],
             [
              1,
              "#f0f921"
             ]
            ],
            "type": "histogram2d"
           }
          ],
          "histogram2dcontour": [
           {
            "colorbar": {
             "outlinewidth": 0,
             "ticks": ""
            },
            "colorscale": [
             [
              0,
              "#0d0887"
             ],
             [
              0.1111111111111111,
              "#46039f"
             ],
             [
              0.2222222222222222,
              "#7201a8"
             ],
             [
              0.3333333333333333,
              "#9c179e"
             ],
             [
              0.4444444444444444,
              "#bd3786"
             ],
             [
              0.5555555555555556,
              "#d8576b"
             ],
             [
              0.6666666666666666,
              "#ed7953"
             ],
             [
              0.7777777777777778,
              "#fb9f3a"
             ],
             [
              0.8888888888888888,
              "#fdca26"
             ],
             [
              1,
              "#f0f921"
             ]
            ],
            "type": "histogram2dcontour"
           }
          ],
          "mesh3d": [
           {
            "colorbar": {
             "outlinewidth": 0,
             "ticks": ""
            },
            "type": "mesh3d"
           }
          ],
          "parcoords": [
           {
            "line": {
             "colorbar": {
              "outlinewidth": 0,
              "ticks": ""
             }
            },
            "type": "parcoords"
           }
          ],
          "pie": [
           {
            "automargin": true,
            "type": "pie"
           }
          ],
          "scatter": [
           {
            "fillpattern": {
             "fillmode": "overlay",
             "size": 10,
             "solidity": 0.2
            },
            "type": "scatter"
           }
          ],
          "scatter3d": [
           {
            "line": {
             "colorbar": {
              "outlinewidth": 0,
              "ticks": ""
             }
            },
            "marker": {
             "colorbar": {
              "outlinewidth": 0,
              "ticks": ""
             }
            },
            "type": "scatter3d"
           }
          ],
          "scattercarpet": [
           {
            "marker": {
             "colorbar": {
              "outlinewidth": 0,
              "ticks": ""
             }
            },
            "type": "scattercarpet"
           }
          ],
          "scattergeo": [
           {
            "marker": {
             "colorbar": {
              "outlinewidth": 0,
              "ticks": ""
             }
            },
            "type": "scattergeo"
           }
          ],
          "scattergl": [
           {
            "marker": {
             "colorbar": {
              "outlinewidth": 0,
              "ticks": ""
             }
            },
            "type": "scattergl"
           }
          ],
          "scattermapbox": [
           {
            "marker": {
             "colorbar": {
              "outlinewidth": 0,
              "ticks": ""
             }
            },
            "type": "scattermapbox"
           }
          ],
          "scatterpolar": [
           {
            "marker": {
             "colorbar": {
              "outlinewidth": 0,
              "ticks": ""
             }
            },
            "type": "scatterpolar"
           }
          ],
          "scatterpolargl": [
           {
            "marker": {
             "colorbar": {
              "outlinewidth": 0,
              "ticks": ""
             }
            },
            "type": "scatterpolargl"
           }
          ],
          "scatterternary": [
           {
            "marker": {
             "colorbar": {
              "outlinewidth": 0,
              "ticks": ""
             }
            },
            "type": "scatterternary"
           }
          ],
          "surface": [
           {
            "colorbar": {
             "outlinewidth": 0,
             "ticks": ""
            },
            "colorscale": [
             [
              0,
              "#0d0887"
             ],
             [
              0.1111111111111111,
              "#46039f"
             ],
             [
              0.2222222222222222,
              "#7201a8"
             ],
             [
              0.3333333333333333,
              "#9c179e"
             ],
             [
              0.4444444444444444,
              "#bd3786"
             ],
             [
              0.5555555555555556,
              "#d8576b"
             ],
             [
              0.6666666666666666,
              "#ed7953"
             ],
             [
              0.7777777777777778,
              "#fb9f3a"
             ],
             [
              0.8888888888888888,
              "#fdca26"
             ],
             [
              1,
              "#f0f921"
             ]
            ],
            "type": "surface"
           }
          ],
          "table": [
           {
            "cells": {
             "fill": {
              "color": "#EBF0F8"
             },
             "line": {
              "color": "white"
             }
            },
            "header": {
             "fill": {
              "color": "#C8D4E3"
             },
             "line": {
              "color": "white"
             }
            },
            "type": "table"
           }
          ]
         },
         "layout": {
          "annotationdefaults": {
           "arrowcolor": "#2a3f5f",
           "arrowhead": 0,
           "arrowwidth": 1
          },
          "autotypenumbers": "strict",
          "coloraxis": {
           "colorbar": {
            "outlinewidth": 0,
            "ticks": ""
           }
          },
          "colorscale": {
           "diverging": [
            [
             0,
             "#8e0152"
            ],
            [
             0.1,
             "#c51b7d"
            ],
            [
             0.2,
             "#de77ae"
            ],
            [
             0.3,
             "#f1b6da"
            ],
            [
             0.4,
             "#fde0ef"
            ],
            [
             0.5,
             "#f7f7f7"
            ],
            [
             0.6,
             "#e6f5d0"
            ],
            [
             0.7,
             "#b8e186"
            ],
            [
             0.8,
             "#7fbc41"
            ],
            [
             0.9,
             "#4d9221"
            ],
            [
             1,
             "#276419"
            ]
           ],
           "sequential": [
            [
             0,
             "#0d0887"
            ],
            [
             0.1111111111111111,
             "#46039f"
            ],
            [
             0.2222222222222222,
             "#7201a8"
            ],
            [
             0.3333333333333333,
             "#9c179e"
            ],
            [
             0.4444444444444444,
             "#bd3786"
            ],
            [
             0.5555555555555556,
             "#d8576b"
            ],
            [
             0.6666666666666666,
             "#ed7953"
            ],
            [
             0.7777777777777778,
             "#fb9f3a"
            ],
            [
             0.8888888888888888,
             "#fdca26"
            ],
            [
             1,
             "#f0f921"
            ]
           ],
           "sequentialminus": [
            [
             0,
             "#0d0887"
            ],
            [
             0.1111111111111111,
             "#46039f"
            ],
            [
             0.2222222222222222,
             "#7201a8"
            ],
            [
             0.3333333333333333,
             "#9c179e"
            ],
            [
             0.4444444444444444,
             "#bd3786"
            ],
            [
             0.5555555555555556,
             "#d8576b"
            ],
            [
             0.6666666666666666,
             "#ed7953"
            ],
            [
             0.7777777777777778,
             "#fb9f3a"
            ],
            [
             0.8888888888888888,
             "#fdca26"
            ],
            [
             1,
             "#f0f921"
            ]
           ]
          },
          "colorway": [
           "#636efa",
           "#EF553B",
           "#00cc96",
           "#ab63fa",
           "#FFA15A",
           "#19d3f3",
           "#FF6692",
           "#B6E880",
           "#FF97FF",
           "#FECB52"
          ],
          "font": {
           "color": "#2a3f5f"
          },
          "geo": {
           "bgcolor": "white",
           "lakecolor": "white",
           "landcolor": "white",
           "showlakes": true,
           "showland": true,
           "subunitcolor": "#C8D4E3"
          },
          "hoverlabel": {
           "align": "left"
          },
          "hovermode": "closest",
          "mapbox": {
           "style": "light"
          },
          "paper_bgcolor": "white",
          "plot_bgcolor": "white",
          "polar": {
           "angularaxis": {
            "gridcolor": "#EBF0F8",
            "linecolor": "#EBF0F8",
            "ticks": ""
           },
           "bgcolor": "white",
           "radialaxis": {
            "gridcolor": "#EBF0F8",
            "linecolor": "#EBF0F8",
            "ticks": ""
           }
          },
          "scene": {
           "xaxis": {
            "backgroundcolor": "white",
            "gridcolor": "#DFE8F3",
            "gridwidth": 2,
            "linecolor": "#EBF0F8",
            "showbackground": true,
            "ticks": "",
            "zerolinecolor": "#EBF0F8"
           },
           "yaxis": {
            "backgroundcolor": "white",
            "gridcolor": "#DFE8F3",
            "gridwidth": 2,
            "linecolor": "#EBF0F8",
            "showbackground": true,
            "ticks": "",
            "zerolinecolor": "#EBF0F8"
           },
           "zaxis": {
            "backgroundcolor": "white",
            "gridcolor": "#DFE8F3",
            "gridwidth": 2,
            "linecolor": "#EBF0F8",
            "showbackground": true,
            "ticks": "",
            "zerolinecolor": "#EBF0F8"
           }
          },
          "shapedefaults": {
           "line": {
            "color": "#2a3f5f"
           }
          },
          "ternary": {
           "aaxis": {
            "gridcolor": "#DFE8F3",
            "linecolor": "#A2B1C6",
            "ticks": ""
           },
           "baxis": {
            "gridcolor": "#DFE8F3",
            "linecolor": "#A2B1C6",
            "ticks": ""
           },
           "bgcolor": "white",
           "caxis": {
            "gridcolor": "#DFE8F3",
            "linecolor": "#A2B1C6",
            "ticks": ""
           }
          },
          "title": {
           "x": 0.05
          },
          "xaxis": {
           "automargin": true,
           "gridcolor": "#EBF0F8",
           "linecolor": "#EBF0F8",
           "ticks": "",
           "title": {
            "standoff": 15
           },
           "zerolinecolor": "#EBF0F8",
           "zerolinewidth": 2
          },
          "yaxis": {
           "automargin": true,
           "gridcolor": "#EBF0F8",
           "linecolor": "#EBF0F8",
           "ticks": "",
           "title": {
            "standoff": 15
           },
           "zerolinecolor": "#EBF0F8",
           "zerolinewidth": 2
          }
         }
        },
        "width": 650,
        "xaxis": {
         "range": [
          0,
          0.3
         ],
         "tickfont": {
          "size": 20
         },
         "title": {
          "text": "Feature Importance"
         },
         "visible": true
        },
        "yaxis": {
         "automargin": true,
         "categoryarray": [
          "wSMI_8_std",
          "t_std",
          "sef90_std",
          "sef90_mean",
          "P3a_mean",
          "p_e_4_std",
          "p_e_1_mean",
          "msf_std",
          "wSMI_8_mean",
          "g_mean",
          "p_e_1_std",
          "p_e_2_std",
          "msf_mean",
          "p_e_8_mean",
          "p_e_2_mean",
          "wSMI_1_std",
          "wSMI_4_mean",
          "p_e_4_mean",
          "CNV_mean",
          "a_mean",
          "b_mean",
          "d_n_mean",
          "CNV_std",
          "sef95_std",
          "d_std",
          "sef95_mean",
          "g_n_mean",
          "b_std",
          "a_n_std",
          "se_std",
          "wSMI_2_mean",
          "wSMI_2_std",
          "t_n_std",
          "k_std",
          "a_n_mean",
          "P3b_std",
          "b_n_std",
          "d_n_std",
          "wSMI_4_std",
          "P3a_std",
          "P3b_mean",
          "g_std",
          "P1_mean",
          "k_mean",
          "d_mean",
          "t_mean",
          "b_n_mean",
          "P1_std",
          "wSMI_1_mean",
          "se_mean",
          "a_std",
          "g_n_std",
          "p_e_8_std",
          "t_n_mean"
         ],
         "categoryorder": "array",
         "dtick": 1,
         "range": [
          -1,
          54
         ],
         "showgrid": true,
         "tickfont": {
          "size": 20
         },
         "title": {
          "text": "Feature"
         }
        }
       }
      }
     },
     "metadata": {},
     "output_type": "display_data"
    },
    {
     "data": {
      "application/vnd.plotly.v1+json": {
       "config": {
        "plotlyServerURL": "https://plot.ly"
       },
       "data": [
        {
         "boxpoints": "all",
         "jitter": 0,
         "marker": {
          "color": "#42B9B2",
          "size": 3
         },
         "orientation": "h",
         "pointpos": 0,
         "type": "box",
         "x": [
          0.00485863,
          0.00434512,
          0,
          0.00788598,
          0.02445295,
          0,
          0,
          0.00780121,
          0.01985834,
          0,
          0.0173365,
          0.01267366,
          0.02026188,
          0.01453429,
          0.02410087,
          0.00629487,
          0.00750336,
          0.03466007,
          0.02255504,
          0.00245047,
          0.01666667,
          0,
          0.0124914,
          0.00190106,
          0.01622109,
          0.00973622,
          0.02083333,
          0.02486512,
          0.00580405,
          0,
          0,
          0.01759259,
          0.02056891,
          0.00572352,
          0.01948337,
          0,
          0,
          0,
          0.00624431,
          0.00694444,
          0,
          0,
          0.00232979,
          0.00252841,
          0.00584428,
          0,
          0,
          0.00399636,
          0,
          0,
          0,
          0,
          0,
          0.00617874,
          0.0103736,
          0,
          0,
          0,
          0.00719435,
          0,
          0.00366761,
          0.00464442,
          0.00261382,
          0.0093348,
          0.01352604,
          0,
          0,
          0.01263337,
          0.01543305,
          0.00914754,
          0.00664021,
          0,
          0.00840261,
          0.0070509,
          0.00595739,
          0.00683893,
          0.00981715,
          0.01814525,
          0.00702257,
          0.00411783,
          0.01444779,
          0.0222939,
          0.01631425,
          0.00663013,
          0.01788563,
          0.01355104,
          0.03170229,
          0.03442811,
          0.01251671,
          0.01315789,
          0.04107767,
          0.02234541,
          0.01961493,
          0.02586051,
          0.01244058,
          0.04886364,
          0,
          0.00760088,
          0.01438483,
          0.02241723,
          0.03854836,
          0.05074092,
          0.03691629,
          0.02068011,
          0.02262631,
          0.04634093,
          0.06188055,
          0.04305235,
          0.02050193,
          0.03881105,
          0,
          0.00310629,
          0,
          0.00868574,
          0.00374255,
          0,
          0,
          0,
          0.01568953,
          0,
          0,
          0,
          0,
          0.03007408,
          0.0094155,
          0,
          0,
          0.01351108,
          0.00787569,
          0,
          0.00580009,
          0.02707458,
          0.03029949,
          0.01549874,
          0.01992473,
          0.0093654,
          0.00868759,
          0.00739135,
          0.01380521,
          0.02264749,
          0,
          0,
          0.01923077,
          0.03814431,
          0.00344387,
          0,
          0,
          0,
          0.01917132,
          0.00325664,
          0.0495091,
          0.01179443,
          0.02201086,
          0.00823993,
          0.01487749,
          0.02942569,
          0,
          0.02599311,
          0.01342216,
          0.01664367,
          0.0795376,
          0.05466433,
          0.05962326,
          0.05287648,
          0.0543797,
          0.07519793,
          0.08595005,
          0.05270503,
          0.05304492,
          0.07142702,
          0.00615553,
          0.02176835,
          0.0213463,
          0.02321902,
          0.01712427,
          0,
          0,
          0.01090058,
          0.02238925,
          0.01220942,
          0,
          0.00429617,
          0.00274964,
          0.03103088,
          0.01748311,
          0,
          0,
          0.00438386,
          0.02042098,
          0.00938884,
          0.01786864,
          0.03628669,
          0.0098253,
          0.02770669,
          0.01929921,
          0.01666667,
          0.01666667,
          0.02502109,
          0.03050361,
          0.03035624,
          0.06310896,
          0.04470899,
          0.04529363,
          0.05177402,
          0.02712269,
          0.08947374,
          0.10327455,
          0.04618956,
          0.04663344,
          0.07492636,
          0.0352784,
          0.04793028,
          0.05560486,
          0.02010053,
          0.03891582,
          0.03628383,
          0.09075409,
          0.04520322,
          0.0561616,
          0.057757,
          0,
          0.00833333,
          0.02377009,
          0.01794582,
          0.02342753,
          0,
          0,
          0.01355628,
          0.0053519,
          0.00735294,
          0.00346335,
          0.01343172,
          0.01934079,
          0.03722314,
          0.01861036,
          0,
          0.0111797,
          0.01168113,
          0.02057996,
          0.04659417,
          0,
          0,
          0,
          0.01136501,
          0.0008854,
          0,
          0,
          0,
          0.00485809,
          0.00735294,
          0.0222332,
          0.02592593,
          0.03134585,
          0.01228349,
          0.03308671,
          0.03219697,
          0.04444444,
          0.0328985,
          0.02372315,
          0.00735294,
          0,
          0,
          0,
          0.01643315,
          0.00097671,
          0,
          0,
          0.00922088,
          0.01994211,
          0.01377016,
          0,
          0.03129252,
          0.02580972,
          0.02045584,
          0.02736692,
          0,
          0,
          0,
          0.00712898,
          0.00694444,
          0.01086957,
          0.04089636,
          0.00657895,
          0.01062353,
          0.03459672,
          0.01136364,
          0,
          0.02822639,
          0.01771631,
          0,
          0.03431626,
          0.0172619,
          0.0214403,
          0.00963677,
          0.01912517,
          0.04469697,
          0.053125,
          0.0306652,
          0.01504968,
          0,
          0.05181681,
          0.02652116,
          0.02377009,
          0.01733269,
          0.01653107,
          0.04886364,
          0,
          0.00753659,
          0.01365824,
          0.01830808,
          0,
          0.01401171,
          0,
          0.02400946,
          0.00458377,
          0,
          0,
          0,
          0.00710162,
          0.03121389,
          0.01136364,
          0.04351852,
          0.06118881,
          0.0183417,
          0.02338849,
          0.0375,
          0.04444444,
          0.02317117,
          0.01240079,
          0.03008021,
          0,
          0,
          0,
          0.02040403,
          0.00457751,
          0,
          0,
          0.01612693,
          0.01149139,
          0,
          0.11174121,
          0.05015562,
          0.04957981,
          0.017801,
          0.02441581,
          0.09356061,
          0.11736111,
          0.05209167,
          0.02177201,
          0.03240169,
          0,
          0.00348951,
          0.00275441,
          0.01336887,
          0.01978824,
          0.00628256,
          0.00579771,
          0.02428862,
          0.0102814,
          0,
          0.05518107,
          0.07972866,
          0.07731196,
          0.0558564,
          0.04668613,
          0.07147698,
          0.015625,
          0.06301969,
          0.06223214,
          0.10957304,
          0.01563345,
          0.00459677,
          0.00404495,
          0.0046611,
          0.0104276,
          0.0150227,
          0.00791111,
          0.01584561,
          0.00757241,
          0,
          0.01086957,
          0.02363445,
          0.01619433,
          0.01843598,
          0.02676182,
          0.01136364,
          0.015625,
          0.02378628,
          0.01942641,
          0.00694444,
          0,
          0,
          0,
          0.01186371,
          0.00511576,
          0,
          0,
          0,
          0.01702742,
          0.0093222,
          0,
          0,
          0,
          0.00536896,
          0.00546768,
          0,
          0,
          0,
          0.01924416,
          0,
          0,
          0.00723148,
          0.00764114,
          0.00843358,
          0.00882,
          0,
          0,
          0.00929928,
          0.00649357,
          0,
          0.07410129,
          0.03598951,
          0.03635318,
          0.05345049,
          0.04247842,
          0.07243593,
          0.07221519,
          0.0561228,
          0.03684912,
          0.06082813,
          0.01100472,
          0.03196779,
          0.03400472,
          0.04932251,
          0.02683991,
          0.01239175,
          0.02112814,
          0.01497918,
          0.05045032,
          0.04913394,
          0.02558516,
          0.00551418,
          0.02271638,
          0.00838134,
          0.01787017,
          0.02589639,
          0.01519023,
          0.02154669,
          0.01569328,
          0.00445896,
          0.03161972,
          0.0475996,
          0.0131805,
          0.03721605,
          0.03265071,
          0.02047849,
          0.02938974,
          0.01946266,
          0.02667063,
          0.02124183,
          0.06315396,
          0.03558959,
          0.0449272,
          0.01973805,
          0.0286466,
          0.01234741,
          0,
          0.00617262,
          0.02055447,
          0.02967172,
          0.0089203,
          0.02341488,
          0.03276623,
          0.01637375,
          0.02767567,
          0.0284991,
          0.02748297,
          0.02400469,
          0.02199118,
          0.0295591,
          0.03889987,
          0.02767162,
          0.02102045,
          0.01616897,
          0.01796332,
          0.04469697,
          0.053125,
          0.02416009,
          0.03032584,
          0.03439972,
          0.01449576,
          0.01215796,
          0.00677137,
          0.0058559,
          0.00735134,
          0.01836268,
          0.02307772,
          0.01821206,
          0.00446429,
          0.01429739,
          0,
          0,
          0.00290612,
          0.01038572,
          0.00597023,
          0,
          0,
          0,
          0.01552728,
          0.03353888,
          0,
          0,
          0.00657895,
          0.00871471,
          0.01273109,
          0,
          0,
          0.0110127,
          0.01477921,
          0,
          0,
          0.00379912,
          0,
          0.00112621,
          0.01151694,
          0,
          0,
          0.01540965,
          0.00454545,
          0,
          0.00422935,
          0,
          0.00250574,
          0.0057632,
          0.01502515,
          0.00452471,
          0.00580785,
          0.00902104,
          0.00446429,
          0
         ],
         "y": [
          "wSMI_1_mean",
          "wSMI_1_mean",
          "wSMI_1_mean",
          "wSMI_1_mean",
          "wSMI_1_mean",
          "wSMI_1_mean",
          "wSMI_1_mean",
          "wSMI_1_mean",
          "wSMI_1_mean",
          "wSMI_1_mean",
          "wSMI_1_std",
          "wSMI_1_std",
          "wSMI_1_std",
          "wSMI_1_std",
          "wSMI_1_std",
          "wSMI_1_std",
          "wSMI_1_std",
          "wSMI_1_std",
          "wSMI_1_std",
          "wSMI_1_std",
          "wSMI_2_mean",
          "wSMI_2_mean",
          "wSMI_2_mean",
          "wSMI_2_mean",
          "wSMI_2_mean",
          "wSMI_2_mean",
          "wSMI_2_mean",
          "wSMI_2_mean",
          "wSMI_2_mean",
          "wSMI_2_mean",
          "wSMI_2_std",
          "wSMI_2_std",
          "wSMI_2_std",
          "wSMI_2_std",
          "wSMI_2_std",
          "wSMI_2_std",
          "wSMI_2_std",
          "wSMI_2_std",
          "wSMI_2_std",
          "wSMI_2_std",
          "wSMI_4_mean",
          "wSMI_4_mean",
          "wSMI_4_mean",
          "wSMI_4_mean",
          "wSMI_4_mean",
          "wSMI_4_mean",
          "wSMI_4_mean",
          "wSMI_4_mean",
          "wSMI_4_mean",
          "wSMI_4_mean",
          "wSMI_4_std",
          "wSMI_4_std",
          "wSMI_4_std",
          "wSMI_4_std",
          "wSMI_4_std",
          "wSMI_4_std",
          "wSMI_4_std",
          "wSMI_4_std",
          "wSMI_4_std",
          "wSMI_4_std",
          "wSMI_8_mean",
          "wSMI_8_mean",
          "wSMI_8_mean",
          "wSMI_8_mean",
          "wSMI_8_mean",
          "wSMI_8_mean",
          "wSMI_8_mean",
          "wSMI_8_mean",
          "wSMI_8_mean",
          "wSMI_8_mean",
          "wSMI_8_std",
          "wSMI_8_std",
          "wSMI_8_std",
          "wSMI_8_std",
          "wSMI_8_std",
          "wSMI_8_std",
          "wSMI_8_std",
          "wSMI_8_std",
          "wSMI_8_std",
          "wSMI_8_std",
          "p_e_1_mean",
          "p_e_1_mean",
          "p_e_1_mean",
          "p_e_1_mean",
          "p_e_1_mean",
          "p_e_1_mean",
          "p_e_1_mean",
          "p_e_1_mean",
          "p_e_1_mean",
          "p_e_1_mean",
          "p_e_1_std",
          "p_e_1_std",
          "p_e_1_std",
          "p_e_1_std",
          "p_e_1_std",
          "p_e_1_std",
          "p_e_1_std",
          "p_e_1_std",
          "p_e_1_std",
          "p_e_1_std",
          "p_e_2_mean",
          "p_e_2_mean",
          "p_e_2_mean",
          "p_e_2_mean",
          "p_e_2_mean",
          "p_e_2_mean",
          "p_e_2_mean",
          "p_e_2_mean",
          "p_e_2_mean",
          "p_e_2_mean",
          "p_e_2_std",
          "p_e_2_std",
          "p_e_2_std",
          "p_e_2_std",
          "p_e_2_std",
          "p_e_2_std",
          "p_e_2_std",
          "p_e_2_std",
          "p_e_2_std",
          "p_e_2_std",
          "p_e_4_mean",
          "p_e_4_mean",
          "p_e_4_mean",
          "p_e_4_mean",
          "p_e_4_mean",
          "p_e_4_mean",
          "p_e_4_mean",
          "p_e_4_mean",
          "p_e_4_mean",
          "p_e_4_mean",
          "p_e_4_std",
          "p_e_4_std",
          "p_e_4_std",
          "p_e_4_std",
          "p_e_4_std",
          "p_e_4_std",
          "p_e_4_std",
          "p_e_4_std",
          "p_e_4_std",
          "p_e_4_std",
          "p_e_8_mean",
          "p_e_8_mean",
          "p_e_8_mean",
          "p_e_8_mean",
          "p_e_8_mean",
          "p_e_8_mean",
          "p_e_8_mean",
          "p_e_8_mean",
          "p_e_8_mean",
          "p_e_8_mean",
          "p_e_8_std",
          "p_e_8_std",
          "p_e_8_std",
          "p_e_8_std",
          "p_e_8_std",
          "p_e_8_std",
          "p_e_8_std",
          "p_e_8_std",
          "p_e_8_std",
          "p_e_8_std",
          "k_mean",
          "k_mean",
          "k_mean",
          "k_mean",
          "k_mean",
          "k_mean",
          "k_mean",
          "k_mean",
          "k_mean",
          "k_mean",
          "k_std",
          "k_std",
          "k_std",
          "k_std",
          "k_std",
          "k_std",
          "k_std",
          "k_std",
          "k_std",
          "k_std",
          "se_mean",
          "se_mean",
          "se_mean",
          "se_mean",
          "se_mean",
          "se_mean",
          "se_mean",
          "se_mean",
          "se_mean",
          "se_mean",
          "se_std",
          "se_std",
          "se_std",
          "se_std",
          "se_std",
          "se_std",
          "se_std",
          "se_std",
          "se_std",
          "se_std",
          "msf_mean",
          "msf_mean",
          "msf_mean",
          "msf_mean",
          "msf_mean",
          "msf_mean",
          "msf_mean",
          "msf_mean",
          "msf_mean",
          "msf_mean",
          "msf_std",
          "msf_std",
          "msf_std",
          "msf_std",
          "msf_std",
          "msf_std",
          "msf_std",
          "msf_std",
          "msf_std",
          "msf_std",
          "sef90_mean",
          "sef90_mean",
          "sef90_mean",
          "sef90_mean",
          "sef90_mean",
          "sef90_mean",
          "sef90_mean",
          "sef90_mean",
          "sef90_mean",
          "sef90_mean",
          "sef90_std",
          "sef90_std",
          "sef90_std",
          "sef90_std",
          "sef90_std",
          "sef90_std",
          "sef90_std",
          "sef90_std",
          "sef90_std",
          "sef90_std",
          "sef95_mean",
          "sef95_mean",
          "sef95_mean",
          "sef95_mean",
          "sef95_mean",
          "sef95_mean",
          "sef95_mean",
          "sef95_mean",
          "sef95_mean",
          "sef95_mean",
          "sef95_std",
          "sef95_std",
          "sef95_std",
          "sef95_std",
          "sef95_std",
          "sef95_std",
          "sef95_std",
          "sef95_std",
          "sef95_std",
          "sef95_std",
          "b_mean",
          "b_mean",
          "b_mean",
          "b_mean",
          "b_mean",
          "b_mean",
          "b_mean",
          "b_mean",
          "b_mean",
          "b_mean",
          "b_std",
          "b_std",
          "b_std",
          "b_std",
          "b_std",
          "b_std",
          "b_std",
          "b_std",
          "b_std",
          "b_std",
          "b_n_mean",
          "b_n_mean",
          "b_n_mean",
          "b_n_mean",
          "b_n_mean",
          "b_n_mean",
          "b_n_mean",
          "b_n_mean",
          "b_n_mean",
          "b_n_mean",
          "b_n_std",
          "b_n_std",
          "b_n_std",
          "b_n_std",
          "b_n_std",
          "b_n_std",
          "b_n_std",
          "b_n_std",
          "b_n_std",
          "b_n_std",
          "g_mean",
          "g_mean",
          "g_mean",
          "g_mean",
          "g_mean",
          "g_mean",
          "g_mean",
          "g_mean",
          "g_mean",
          "g_mean",
          "g_std",
          "g_std",
          "g_std",
          "g_std",
          "g_std",
          "g_std",
          "g_std",
          "g_std",
          "g_std",
          "g_std",
          "g_n_mean",
          "g_n_mean",
          "g_n_mean",
          "g_n_mean",
          "g_n_mean",
          "g_n_mean",
          "g_n_mean",
          "g_n_mean",
          "g_n_mean",
          "g_n_mean",
          "g_n_std",
          "g_n_std",
          "g_n_std",
          "g_n_std",
          "g_n_std",
          "g_n_std",
          "g_n_std",
          "g_n_std",
          "g_n_std",
          "g_n_std",
          "t_mean",
          "t_mean",
          "t_mean",
          "t_mean",
          "t_mean",
          "t_mean",
          "t_mean",
          "t_mean",
          "t_mean",
          "t_mean",
          "t_std",
          "t_std",
          "t_std",
          "t_std",
          "t_std",
          "t_std",
          "t_std",
          "t_std",
          "t_std",
          "t_std",
          "t_n_mean",
          "t_n_mean",
          "t_n_mean",
          "t_n_mean",
          "t_n_mean",
          "t_n_mean",
          "t_n_mean",
          "t_n_mean",
          "t_n_mean",
          "t_n_mean",
          "t_n_std",
          "t_n_std",
          "t_n_std",
          "t_n_std",
          "t_n_std",
          "t_n_std",
          "t_n_std",
          "t_n_std",
          "t_n_std",
          "t_n_std",
          "d_mean",
          "d_mean",
          "d_mean",
          "d_mean",
          "d_mean",
          "d_mean",
          "d_mean",
          "d_mean",
          "d_mean",
          "d_mean",
          "d_std",
          "d_std",
          "d_std",
          "d_std",
          "d_std",
          "d_std",
          "d_std",
          "d_std",
          "d_std",
          "d_std",
          "d_n_mean",
          "d_n_mean",
          "d_n_mean",
          "d_n_mean",
          "d_n_mean",
          "d_n_mean",
          "d_n_mean",
          "d_n_mean",
          "d_n_mean",
          "d_n_mean",
          "d_n_std",
          "d_n_std",
          "d_n_std",
          "d_n_std",
          "d_n_std",
          "d_n_std",
          "d_n_std",
          "d_n_std",
          "d_n_std",
          "d_n_std",
          "a_n_mean",
          "a_n_mean",
          "a_n_mean",
          "a_n_mean",
          "a_n_mean",
          "a_n_mean",
          "a_n_mean",
          "a_n_mean",
          "a_n_mean",
          "a_n_mean",
          "a_n_std",
          "a_n_std",
          "a_n_std",
          "a_n_std",
          "a_n_std",
          "a_n_std",
          "a_n_std",
          "a_n_std",
          "a_n_std",
          "a_n_std",
          "a_mean",
          "a_mean",
          "a_mean",
          "a_mean",
          "a_mean",
          "a_mean",
          "a_mean",
          "a_mean",
          "a_mean",
          "a_mean",
          "a_std",
          "a_std",
          "a_std",
          "a_std",
          "a_std",
          "a_std",
          "a_std",
          "a_std",
          "a_std",
          "a_std",
          "CNV_mean",
          "CNV_mean",
          "CNV_mean",
          "CNV_mean",
          "CNV_mean",
          "CNV_mean",
          "CNV_mean",
          "CNV_mean",
          "CNV_mean",
          "CNV_mean",
          "CNV_std",
          "CNV_std",
          "CNV_std",
          "CNV_std",
          "CNV_std",
          "CNV_std",
          "CNV_std",
          "CNV_std",
          "CNV_std",
          "CNV_std",
          "P1_mean",
          "P1_mean",
          "P1_mean",
          "P1_mean",
          "P1_mean",
          "P1_mean",
          "P1_mean",
          "P1_mean",
          "P1_mean",
          "P1_mean",
          "P1_std",
          "P1_std",
          "P1_std",
          "P1_std",
          "P1_std",
          "P1_std",
          "P1_std",
          "P1_std",
          "P1_std",
          "P1_std",
          "P3a_mean",
          "P3a_mean",
          "P3a_mean",
          "P3a_mean",
          "P3a_mean",
          "P3a_mean",
          "P3a_mean",
          "P3a_mean",
          "P3a_mean",
          "P3a_mean",
          "P3a_std",
          "P3a_std",
          "P3a_std",
          "P3a_std",
          "P3a_std",
          "P3a_std",
          "P3a_std",
          "P3a_std",
          "P3a_std",
          "P3a_std",
          "P3b_mean",
          "P3b_mean",
          "P3b_mean",
          "P3b_mean",
          "P3b_mean",
          "P3b_mean",
          "P3b_mean",
          "P3b_mean",
          "P3b_mean",
          "P3b_mean",
          "P3b_std",
          "P3b_std",
          "P3b_std",
          "P3b_std",
          "P3b_std",
          "P3b_std",
          "P3b_std",
          "P3b_std",
          "P3b_std",
          "P3b_std"
         ]
        }
       ],
       "layout": {
        "font": {
         "color": "black",
         "family": "Times new roman",
         "size": 20
        },
        "height": 1100,
        "showlegend": true,
        "template": {
         "data": {
          "bar": [
           {
            "error_x": {
             "color": "#2a3f5f"
            },
            "error_y": {
             "color": "#2a3f5f"
            },
            "marker": {
             "line": {
              "color": "white",
              "width": 0.5
             },
             "pattern": {
              "fillmode": "overlay",
              "size": 10,
              "solidity": 0.2
             }
            },
            "type": "bar"
           }
          ],
          "barpolar": [
           {
            "marker": {
             "line": {
              "color": "white",
              "width": 0.5
             },
             "pattern": {
              "fillmode": "overlay",
              "size": 10,
              "solidity": 0.2
             }
            },
            "type": "barpolar"
           }
          ],
          "carpet": [
           {
            "aaxis": {
             "endlinecolor": "#2a3f5f",
             "gridcolor": "#C8D4E3",
             "linecolor": "#C8D4E3",
             "minorgridcolor": "#C8D4E3",
             "startlinecolor": "#2a3f5f"
            },
            "baxis": {
             "endlinecolor": "#2a3f5f",
             "gridcolor": "#C8D4E3",
             "linecolor": "#C8D4E3",
             "minorgridcolor": "#C8D4E3",
             "startlinecolor": "#2a3f5f"
            },
            "type": "carpet"
           }
          ],
          "choropleth": [
           {
            "colorbar": {
             "outlinewidth": 0,
             "ticks": ""
            },
            "type": "choropleth"
           }
          ],
          "contour": [
           {
            "colorbar": {
             "outlinewidth": 0,
             "ticks": ""
            },
            "colorscale": [
             [
              0,
              "#0d0887"
             ],
             [
              0.1111111111111111,
              "#46039f"
             ],
             [
              0.2222222222222222,
              "#7201a8"
             ],
             [
              0.3333333333333333,
              "#9c179e"
             ],
             [
              0.4444444444444444,
              "#bd3786"
             ],
             [
              0.5555555555555556,
              "#d8576b"
             ],
             [
              0.6666666666666666,
              "#ed7953"
             ],
             [
              0.7777777777777778,
              "#fb9f3a"
             ],
             [
              0.8888888888888888,
              "#fdca26"
             ],
             [
              1,
              "#f0f921"
             ]
            ],
            "type": "contour"
           }
          ],
          "contourcarpet": [
           {
            "colorbar": {
             "outlinewidth": 0,
             "ticks": ""
            },
            "type": "contourcarpet"
           }
          ],
          "heatmap": [
           {
            "colorbar": {
             "outlinewidth": 0,
             "ticks": ""
            },
            "colorscale": [
             [
              0,
              "#0d0887"
             ],
             [
              0.1111111111111111,
              "#46039f"
             ],
             [
              0.2222222222222222,
              "#7201a8"
             ],
             [
              0.3333333333333333,
              "#9c179e"
             ],
             [
              0.4444444444444444,
              "#bd3786"
             ],
             [
              0.5555555555555556,
              "#d8576b"
             ],
             [
              0.6666666666666666,
              "#ed7953"
             ],
             [
              0.7777777777777778,
              "#fb9f3a"
             ],
             [
              0.8888888888888888,
              "#fdca26"
             ],
             [
              1,
              "#f0f921"
             ]
            ],
            "type": "heatmap"
           }
          ],
          "heatmapgl": [
           {
            "colorbar": {
             "outlinewidth": 0,
             "ticks": ""
            },
            "colorscale": [
             [
              0,
              "#0d0887"
             ],
             [
              0.1111111111111111,
              "#46039f"
             ],
             [
              0.2222222222222222,
              "#7201a8"
             ],
             [
              0.3333333333333333,
              "#9c179e"
             ],
             [
              0.4444444444444444,
              "#bd3786"
             ],
             [
              0.5555555555555556,
              "#d8576b"
             ],
             [
              0.6666666666666666,
              "#ed7953"
             ],
             [
              0.7777777777777778,
              "#fb9f3a"
             ],
             [
              0.8888888888888888,
              "#fdca26"
             ],
             [
              1,
              "#f0f921"
             ]
            ],
            "type": "heatmapgl"
           }
          ],
          "histogram": [
           {
            "marker": {
             "pattern": {
              "fillmode": "overlay",
              "size": 10,
              "solidity": 0.2
             }
            },
            "type": "histogram"
           }
          ],
          "histogram2d": [
           {
            "colorbar": {
             "outlinewidth": 0,
             "ticks": ""
            },
            "colorscale": [
             [
              0,
              "#0d0887"
             ],
             [
              0.1111111111111111,
              "#46039f"
             ],
             [
              0.2222222222222222,
              "#7201a8"
             ],
             [
              0.3333333333333333,
              "#9c179e"
             ],
             [
              0.4444444444444444,
              "#bd3786"
             ],
             [
              0.5555555555555556,
              "#d8576b"
             ],
             [
              0.6666666666666666,
              "#ed7953"
             ],
             [
              0.7777777777777778,
              "#fb9f3a"
             ],
             [
              0.8888888888888888,
              "#fdca26"
             ],
             [
              1,
              "#f0f921"
             ]
            ],
            "type": "histogram2d"
           }
          ],
          "histogram2dcontour": [
           {
            "colorbar": {
             "outlinewidth": 0,
             "ticks": ""
            },
            "colorscale": [
             [
              0,
              "#0d0887"
             ],
             [
              0.1111111111111111,
              "#46039f"
             ],
             [
              0.2222222222222222,
              "#7201a8"
             ],
             [
              0.3333333333333333,
              "#9c179e"
             ],
             [
              0.4444444444444444,
              "#bd3786"
             ],
             [
              0.5555555555555556,
              "#d8576b"
             ],
             [
              0.6666666666666666,
              "#ed7953"
             ],
             [
              0.7777777777777778,
              "#fb9f3a"
             ],
             [
              0.8888888888888888,
              "#fdca26"
             ],
             [
              1,
              "#f0f921"
             ]
            ],
            "type": "histogram2dcontour"
           }
          ],
          "mesh3d": [
           {
            "colorbar": {
             "outlinewidth": 0,
             "ticks": ""
            },
            "type": "mesh3d"
           }
          ],
          "parcoords": [
           {
            "line": {
             "colorbar": {
              "outlinewidth": 0,
              "ticks": ""
             }
            },
            "type": "parcoords"
           }
          ],
          "pie": [
           {
            "automargin": true,
            "type": "pie"
           }
          ],
          "scatter": [
           {
            "fillpattern": {
             "fillmode": "overlay",
             "size": 10,
             "solidity": 0.2
            },
            "type": "scatter"
           }
          ],
          "scatter3d": [
           {
            "line": {
             "colorbar": {
              "outlinewidth": 0,
              "ticks": ""
             }
            },
            "marker": {
             "colorbar": {
              "outlinewidth": 0,
              "ticks": ""
             }
            },
            "type": "scatter3d"
           }
          ],
          "scattercarpet": [
           {
            "marker": {
             "colorbar": {
              "outlinewidth": 0,
              "ticks": ""
             }
            },
            "type": "scattercarpet"
           }
          ],
          "scattergeo": [
           {
            "marker": {
             "colorbar": {
              "outlinewidth": 0,
              "ticks": ""
             }
            },
            "type": "scattergeo"
           }
          ],
          "scattergl": [
           {
            "marker": {
             "colorbar": {
              "outlinewidth": 0,
              "ticks": ""
             }
            },
            "type": "scattergl"
           }
          ],
          "scattermapbox": [
           {
            "marker": {
             "colorbar": {
              "outlinewidth": 0,
              "ticks": ""
             }
            },
            "type": "scattermapbox"
           }
          ],
          "scatterpolar": [
           {
            "marker": {
             "colorbar": {
              "outlinewidth": 0,
              "ticks": ""
             }
            },
            "type": "scatterpolar"
           }
          ],
          "scatterpolargl": [
           {
            "marker": {
             "colorbar": {
              "outlinewidth": 0,
              "ticks": ""
             }
            },
            "type": "scatterpolargl"
           }
          ],
          "scatterternary": [
           {
            "marker": {
             "colorbar": {
              "outlinewidth": 0,
              "ticks": ""
             }
            },
            "type": "scatterternary"
           }
          ],
          "surface": [
           {
            "colorbar": {
             "outlinewidth": 0,
             "ticks": ""
            },
            "colorscale": [
             [
              0,
              "#0d0887"
             ],
             [
              0.1111111111111111,
              "#46039f"
             ],
             [
              0.2222222222222222,
              "#7201a8"
             ],
             [
              0.3333333333333333,
              "#9c179e"
             ],
             [
              0.4444444444444444,
              "#bd3786"
             ],
             [
              0.5555555555555556,
              "#d8576b"
             ],
             [
              0.6666666666666666,
              "#ed7953"
             ],
             [
              0.7777777777777778,
              "#fb9f3a"
             ],
             [
              0.8888888888888888,
              "#fdca26"
             ],
             [
              1,
              "#f0f921"
             ]
            ],
            "type": "surface"
           }
          ],
          "table": [
           {
            "cells": {
             "fill": {
              "color": "#EBF0F8"
             },
             "line": {
              "color": "white"
             }
            },
            "header": {
             "fill": {
              "color": "#C8D4E3"
             },
             "line": {
              "color": "white"
             }
            },
            "type": "table"
           }
          ]
         },
         "layout": {
          "annotationdefaults": {
           "arrowcolor": "#2a3f5f",
           "arrowhead": 0,
           "arrowwidth": 1
          },
          "autotypenumbers": "strict",
          "coloraxis": {
           "colorbar": {
            "outlinewidth": 0,
            "ticks": ""
           }
          },
          "colorscale": {
           "diverging": [
            [
             0,
             "#8e0152"
            ],
            [
             0.1,
             "#c51b7d"
            ],
            [
             0.2,
             "#de77ae"
            ],
            [
             0.3,
             "#f1b6da"
            ],
            [
             0.4,
             "#fde0ef"
            ],
            [
             0.5,
             "#f7f7f7"
            ],
            [
             0.6,
             "#e6f5d0"
            ],
            [
             0.7,
             "#b8e186"
            ],
            [
             0.8,
             "#7fbc41"
            ],
            [
             0.9,
             "#4d9221"
            ],
            [
             1,
             "#276419"
            ]
           ],
           "sequential": [
            [
             0,
             "#0d0887"
            ],
            [
             0.1111111111111111,
             "#46039f"
            ],
            [
             0.2222222222222222,
             "#7201a8"
            ],
            [
             0.3333333333333333,
             "#9c179e"
            ],
            [
             0.4444444444444444,
             "#bd3786"
            ],
            [
             0.5555555555555556,
             "#d8576b"
            ],
            [
             0.6666666666666666,
             "#ed7953"
            ],
            [
             0.7777777777777778,
             "#fb9f3a"
            ],
            [
             0.8888888888888888,
             "#fdca26"
            ],
            [
             1,
             "#f0f921"
            ]
           ],
           "sequentialminus": [
            [
             0,
             "#0d0887"
            ],
            [
             0.1111111111111111,
             "#46039f"
            ],
            [
             0.2222222222222222,
             "#7201a8"
            ],
            [
             0.3333333333333333,
             "#9c179e"
            ],
            [
             0.4444444444444444,
             "#bd3786"
            ],
            [
             0.5555555555555556,
             "#d8576b"
            ],
            [
             0.6666666666666666,
             "#ed7953"
            ],
            [
             0.7777777777777778,
             "#fb9f3a"
            ],
            [
             0.8888888888888888,
             "#fdca26"
            ],
            [
             1,
             "#f0f921"
            ]
           ]
          },
          "colorway": [
           "#636efa",
           "#EF553B",
           "#00cc96",
           "#ab63fa",
           "#FFA15A",
           "#19d3f3",
           "#FF6692",
           "#B6E880",
           "#FF97FF",
           "#FECB52"
          ],
          "font": {
           "color": "#2a3f5f"
          },
          "geo": {
           "bgcolor": "white",
           "lakecolor": "white",
           "landcolor": "white",
           "showlakes": true,
           "showland": true,
           "subunitcolor": "#C8D4E3"
          },
          "hoverlabel": {
           "align": "left"
          },
          "hovermode": "closest",
          "mapbox": {
           "style": "light"
          },
          "paper_bgcolor": "white",
          "plot_bgcolor": "white",
          "polar": {
           "angularaxis": {
            "gridcolor": "#EBF0F8",
            "linecolor": "#EBF0F8",
            "ticks": ""
           },
           "bgcolor": "white",
           "radialaxis": {
            "gridcolor": "#EBF0F8",
            "linecolor": "#EBF0F8",
            "ticks": ""
           }
          },
          "scene": {
           "xaxis": {
            "backgroundcolor": "white",
            "gridcolor": "#DFE8F3",
            "gridwidth": 2,
            "linecolor": "#EBF0F8",
            "showbackground": true,
            "ticks": "",
            "zerolinecolor": "#EBF0F8"
           },
           "yaxis": {
            "backgroundcolor": "white",
            "gridcolor": "#DFE8F3",
            "gridwidth": 2,
            "linecolor": "#EBF0F8",
            "showbackground": true,
            "ticks": "",
            "zerolinecolor": "#EBF0F8"
           },
           "zaxis": {
            "backgroundcolor": "white",
            "gridcolor": "#DFE8F3",
            "gridwidth": 2,
            "linecolor": "#EBF0F8",
            "showbackground": true,
            "ticks": "",
            "zerolinecolor": "#EBF0F8"
           }
          },
          "shapedefaults": {
           "line": {
            "color": "#2a3f5f"
           }
          },
          "ternary": {
           "aaxis": {
            "gridcolor": "#DFE8F3",
            "linecolor": "#A2B1C6",
            "ticks": ""
           },
           "baxis": {
            "gridcolor": "#DFE8F3",
            "linecolor": "#A2B1C6",
            "ticks": ""
           },
           "bgcolor": "white",
           "caxis": {
            "gridcolor": "#DFE8F3",
            "linecolor": "#A2B1C6",
            "ticks": ""
           }
          },
          "title": {
           "x": 0.05
          },
          "xaxis": {
           "automargin": true,
           "gridcolor": "#EBF0F8",
           "linecolor": "#EBF0F8",
           "ticks": "",
           "title": {
            "standoff": 15
           },
           "zerolinecolor": "#EBF0F8",
           "zerolinewidth": 2
          },
          "yaxis": {
           "automargin": true,
           "gridcolor": "#EBF0F8",
           "linecolor": "#EBF0F8",
           "ticks": "",
           "title": {
            "standoff": 15
           },
           "zerolinecolor": "#EBF0F8",
           "zerolinewidth": 2
          }
         }
        },
        "width": 650,
        "xaxis": {
         "range": [
          0,
          0.3
         ],
         "tickfont": {
          "size": 20
         },
         "title": {
          "text": "Feature Importance"
         },
         "visible": true
        },
        "yaxis": {
         "automargin": true,
         "categoryarray": [
          "wSMI_4_mean",
          "wSMI_4_std",
          "sef95_mean",
          "d_n_mean",
          "p_e_2_std",
          "P3b_mean",
          "d_std",
          "d_n_std",
          "P3b_std",
          "g_n_std",
          "P3a_std",
          "b_mean",
          "p_e_4_mean",
          "P3a_mean",
          "wSMI_1_mean",
          "wSMI_8_mean",
          "wSMI_8_std",
          "wSMI_2_std",
          "g_std",
          "p_e_8_mean",
          "t_n_std",
          "t_std",
          "se_mean",
          "sef90_mean",
          "wSMI_2_mean",
          "b_std",
          "P1_std",
          "k_std",
          "p_e_4_std",
          "b_n_mean",
          "wSMI_1_std",
          "a_mean",
          "d_mean",
          "sef90_std",
          "p_e_1_mean",
          "p_e_8_std",
          "p_e_1_std",
          "g_mean",
          "se_std",
          "CNV_std",
          "b_n_std",
          "CNV_mean",
          "sef95_std",
          "a_std",
          "a_n_std",
          "g_n_mean",
          "P1_mean",
          "p_e_2_mean",
          "msf_std",
          "a_n_mean",
          "t_mean",
          "msf_mean",
          "t_n_mean",
          "k_mean"
         ],
         "categoryorder": "array",
         "dtick": 1,
         "range": [
          -1,
          54
         ],
         "showgrid": true,
         "tickfont": {
          "size": 20
         },
         "title": {
          "text": "Feature"
         }
        }
       }
      }
     },
     "metadata": {},
     "output_type": "display_data"
    }
   ],
   "source": [
    "dfs = {}\n",
    "for i, contrast in enumerate(comparisons):\n",
    "\n",
    "    df = pd.read_csv(os.path.join(results_path, f'{contrast}_PC_K4_6_opt_trials.csv'), index_col = 0).sort_values('datetime_start', ascending = True)\n",
    "\n",
    "    # .dropna()\n",
    "    # .drop_duplicates()\n",
    "    # df = df.query(\"number <= 200\")\n",
    "    \n",
    "    # Select the top 10 models based on their AUC values\n",
    "    top_models = df.nlargest(10, 'value')\n",
    "\n",
    "    # Function to parse the feature importances from string to list\n",
    "    def parse_importances(importances_str):\n",
    "        values = importances_str.replace('[', '').replace(']', '').split()\n",
    "        return [float(val) for val in values]\n",
    "\n",
    "    # Applying the parsing function to the feature importances\n",
    "    parsed_importances = top_models['feature_importances'].dropna().apply(parse_importances).tolist()\n",
    "\n",
    "    # Feature names (replace this list with your actual feature names)\n",
    "    feature_names = ['wSMI_1_mean', 'wSMI_1_std', 'wSMI_2_mean', 'wSMI_2_std', 'wSMI_4_mean',\n",
    "                    'wSMI_4_std', 'wSMI_8_mean', 'wSMI_8_std', 'p_e_1_mean', 'p_e_1_std',\n",
    "                    'p_e_2_mean', 'p_e_2_std', 'p_e_4_mean', 'p_e_4_std', 'p_e_8_mean',\n",
    "                    'p_e_8_std', 'k_mean', 'k_std', 'se_mean', 'se_std', 'msf_mean',\n",
    "                    'msf_std', 'sef90_mean', 'sef90_std', 'sef95_mean', 'sef95_std',\n",
    "                    'b_mean', 'b_std', 'b_n_mean', 'b_n_std', 'g_mean', 'g_std', 'g_n_mean',\n",
    "                    'g_n_std', 't_mean', 't_std', 't_n_mean', 't_n_std', 'd_mean', 'd_std',\n",
    "                    'd_n_mean', 'd_n_std', 'a_n_mean', 'a_n_std', 'a_mean', 'a_std',\n",
    "                    'CNV_mean', 'CNV_std', 'P1_mean', 'P1_std', 'P3a_mean', 'P3a_std',\n",
    "                    'P3b_mean', 'P3b_std']\n",
    "\n",
    "    # Creating a dataframe suitable for boxplot visualization\n",
    "    feat_importances = pd.DataFrame(parsed_importances, columns=feature_names)\n",
    "    boxplot_data = feat_importances.melt(var_name='Feature', value_name='Importance')\n",
    "    \n",
    "    dfs[contrast] = boxplot_data\n",
    "    \n",
    "    # Calculate medians for ordering\n",
    "    medians = boxplot_data.groupby('Feature')['Importance'].mean().sort_values()\n",
    "\n",
    "    # Create the box plot\n",
    "    fig = go.Figure()\n",
    "\n",
    "    # Add box plots\n",
    "    fig.add_trace(go.Box(\n",
    "        y=boxplot_data['Feature'], \n",
    "        x=boxplot_data['Importance'], \n",
    "        orientation='h', \n",
    "        marker_color=colors[i], \n",
    "        boxpoints='all', # Show all points\n",
    "        pointpos=0, # Points are overlaid on the box\n",
    "        jitter=0, # No jitter for the points; they are aligned vertically\n",
    "    ))\n",
    "\n",
    "    # Update layout with ordered features\n",
    "    fig.update_layout(\n",
    "        yaxis=dict(\n",
    "            title='Feature',\n",
    "            categoryorder='array',\n",
    "            categoryarray=medians.index\n",
    "        ),\n",
    "        xaxis=dict(\n",
    "            title='Importance'\n",
    "        )\n",
    "    )\n",
    "\n",
    "    # Update marker size for all points\n",
    "    fig.update_traces(marker=dict(size=3))\n",
    "\n",
    "\n",
    "\n",
    "    fig.update_layout(\n",
    "        width=650,\n",
    "        height=1100,\n",
    "        template='plotly_white',\n",
    "        font=dict(\n",
    "            family=\"Times new roman\",\n",
    "            size=20,\n",
    "            color=\"black\"\n",
    "        ),\n",
    "        xaxis=dict(\n",
    "            visible=True,\n",
    "            range = [0,0.3], \n",
    "            tickfont={\"size\": 20},\n",
    "            title='Feature Importance'\n",
    "        ),\n",
    "        yaxis=dict(\n",
    "            tickfont={\"size\": 20},\n",
    "            showgrid=True, \n",
    "            automargin=True,\n",
    "            range=[-1, len(markers)],\n",
    "            dtick=1,\n",
    "            categoryorder='array',\n",
    "            categoryarray=medians.index,\n",
    "        ),\n",
    "        showlegend=True,\n",
    "        # margin=dict(l=50, r=50, t=150, b=50)  # Adjust the top margin\n",
    "    )\n",
    "    fig.show()\n",
    "    \n",
    "    filename = os.path.join(fig_path, f'{contrast}_top_10_feat_importances_PC_K4')\n",
    "    fig.write_image(filename +'.png')\n",
    "    fig.write_image(filename +'.pdf')\n",
    "    fig.write_image(filename +'.svg')\n",
    "    # fig.write_image(filename +'.eps')\n",
    "    \n",
    "    # Calculate range, mean, and std for each feature\n",
    "    summary_stats = feat_importances.agg(['min', 'max', 'mean', 'std']).T\n",
    "    # summary_stats['range'] = summary_stats['max'] - summary_stats['min']\n",
    "    # summary_stats = summary_stats[['range', 'mean', 'std']]\n",
    "    summary_stats.to_csv(filename + '.csv')"
   ]
  },
  {
   "cell_type": "code",
   "execution_count": 9,
   "metadata": {},
   "outputs": [
    {
     "data": {
      "application/vnd.plotly.v1+json": {
       "config": {
        "plotlyServerURL": "https://plot.ly"
       },
       "data": [
        {
         "boxpoints": "all",
         "jitter": 0,
         "marker": {
          "color": "#F38A31",
          "size": 3
         },
         "orientation": "h",
         "pointpos": 0,
         "type": "box",
         "x": [
          0.01470588,
          0.0625,
          0.10606061,
          0.04331978,
          0.03125,
          0.02272727,
          0,
          0,
          0.01393111,
          0.07142857,
          0,
          0,
          0,
          0,
          0,
          0,
          0,
          0.015625,
          0,
          0,
          0.0625,
          0,
          0,
          0.0078125,
          0,
          0,
          0,
          0,
          0,
          0,
          0,
          0,
          0,
          0.00399642,
          0,
          0,
          0,
          0,
          0,
          0.08333333,
          0,
          0,
          0.02272727,
          0,
          0,
          0,
          0,
          0,
          0,
          0,
          0,
          0.0625,
          0,
          0.025,
          0,
          0.06944444,
          0,
          0,
          0,
          0,
          0,
          0,
          0,
          0,
          0,
          0,
          0,
          0,
          0,
          0,
          0,
          0,
          0,
          0,
          0,
          0,
          0,
          0,
          0,
          0,
          0,
          0,
          0,
          0,
          0,
          0,
          0,
          0,
          0,
          0,
          0,
          0,
          0,
          0.00363939,
          0,
          0,
          0,
          0,
          0,
          0,
          0.01470588,
          0,
          0,
          0,
          0,
          0,
          0,
          0,
          0,
          0,
          0,
          0,
          0,
          0.0078125,
          0,
          0,
          0,
          0,
          0,
          0,
          0,
          0,
          0,
          0.00373921,
          0,
          0,
          0.02083333,
          0,
          0,
          0,
          0,
          0,
          0,
          0,
          0,
          0,
          0,
          0,
          0,
          0,
          0.01470588,
          0,
          0,
          0,
          0,
          0,
          0,
          0,
          0,
          0,
          0.07720588,
          0,
          0,
          0.29947917,
          0.09375,
          0.13888889,
          0,
          0,
          0,
          0.08333333,
          0.02941176,
          0,
          0,
          0.02854157,
          0.03125,
          0.01164712,
          0,
          0.015625,
          0,
          0.08333333,
          0,
          0,
          0.02272727,
          0,
          0,
          0,
          0.02083333,
          0.03125,
          0.02777778,
          0,
          0,
          0.0625,
          0,
          0.0697475,
          0,
          0.06439394,
          0,
          0.125,
          0.0625,
          0,
          0,
          0.03125,
          0,
          0.0234375,
          0,
          0,
          0,
          0,
          0,
          0,
          0,
          0,
          0,
          0.0078125,
          0,
          0,
          0,
          0,
          0,
          0,
          0,
          0,
          0,
          0,
          0,
          0,
          0,
          0,
          0,
          0,
          0,
          0,
          0,
          0,
          0,
          0,
          0,
          0,
          0,
          0,
          0,
          0,
          0,
          0,
          0,
          0,
          0,
          0,
          0,
          0,
          0,
          0.02643229,
          0,
          0,
          0,
          0.02272727,
          0,
          0,
          0,
          0,
          0,
          0,
          0.02272727,
          0,
          0,
          0,
          0.02083333,
          0,
          0,
          0,
          0,
          0.03125,
          0,
          0,
          0,
          0,
          0,
          0,
          0,
          0,
          0.01470588,
          0,
          0,
          0,
          0,
          0,
          0,
          0,
          0,
          0.03571429,
          0.01470588,
          0,
          0.07272727,
          0,
          0.03125,
          0,
          0.08333333,
          0.03125,
          0,
          0.03571429,
          0.0625,
          0,
          0,
          0.0078125,
          0.0625,
          0,
          0,
          0,
          0,
          0,
          0,
          0,
          0,
          0,
          0,
          0,
          0,
          0,
          0,
          0,
          0,
          0.03125,
          0,
          0.0578125,
          0,
          0.04545455,
          0,
          0,
          0,
          0.03571429,
          0.01470588,
          0,
          0,
          0.00417311,
          0.03125,
          0,
          0,
          0,
          0,
          0,
          0,
          0.3125,
          0,
          0.00398318,
          0,
          0.09131742,
          0,
          0,
          0,
          0.125,
          0.07720588,
          0,
          0,
          0.025,
          0.09375,
          0.02777778,
          0,
          0,
          0,
          0,
          0,
          0,
          0,
          0,
          0,
          0,
          0,
          0,
          0,
          0,
          0.34191176,
          0.12981771,
          0.53484848,
          0.11998605,
          0.40625,
          0.10325187,
          0.6875,
          0.734375,
          0.81245777,
          0.20238095,
          0,
          0,
          0,
          0.0078125,
          0,
          0,
          0.04166667,
          0.015625,
          0.02777778,
          0,
          0.13970588,
          0,
          0,
          0,
          0.0625,
          0,
          0,
          0,
          0,
          0,
          0,
          0,
          0,
          0.00443268,
          0,
          0.04166667,
          0,
          0,
          0,
          0,
          0,
          0,
          0,
          0,
          0,
          0.04166667,
          0,
          0,
          0,
          0,
          0,
          0,
          0,
          0.09032194,
          0,
          0.06146036,
          0,
          0,
          0,
          0,
          0.01470588,
          0.0625,
          0,
          0,
          0,
          0.02777778,
          0,
          0,
          0,
          0,
          0,
          0,
          0,
          0.0078125,
          0,
          0.04545455,
          0,
          0,
          0,
          0,
          0,
          0,
          0,
          0.0078125,
          0,
          0.02272727,
          0,
          0,
          0,
          0,
          0.01470588,
          0.0625,
          0.1,
          0.0708775,
          0,
          0.06944444,
          0,
          0.015625,
          0,
          0.08333333,
          0.01470588,
          0,
          0,
          0.01157501,
          0,
          0,
          0,
          0,
          0,
          0,
          0,
          0,
          0,
          0.0078125,
          0,
          0,
          0,
          0,
          0,
          0.03571429,
          0.0625,
          0,
          0,
          0,
          0.125,
          0,
          0,
          0,
          0,
          0,
          0,
          0.09375,
          0.05,
          0.025,
          0,
          0.06944444,
          0.08333333,
          0,
          0,
          0,
          0,
          0,
          0,
          0,
          0,
          0,
          0,
          0,
          0,
          0,
          0,
          0,
          0,
          0.0078125,
          0,
          0,
          0,
          0,
          0.02777778,
          0.125,
          0,
          0,
          0.06818182,
          0.0078125,
          0,
          0,
          0.04166667,
          0.015625,
          0.02777778,
          0,
          0.01470588,
          0.03125,
          0,
          0.0078125,
          0.03125,
          0.02272727,
          0,
          0,
          0,
          0
         ],
         "y": [
          "wSMI_1_mean",
          "wSMI_1_mean",
          "wSMI_1_mean",
          "wSMI_1_mean",
          "wSMI_1_mean",
          "wSMI_1_mean",
          "wSMI_1_mean",
          "wSMI_1_mean",
          "wSMI_1_mean",
          "wSMI_1_mean",
          "wSMI_1_std",
          "wSMI_1_std",
          "wSMI_1_std",
          "wSMI_1_std",
          "wSMI_1_std",
          "wSMI_1_std",
          "wSMI_1_std",
          "wSMI_1_std",
          "wSMI_1_std",
          "wSMI_1_std",
          "wSMI_2_mean",
          "wSMI_2_mean",
          "wSMI_2_mean",
          "wSMI_2_mean",
          "wSMI_2_mean",
          "wSMI_2_mean",
          "wSMI_2_mean",
          "wSMI_2_mean",
          "wSMI_2_mean",
          "wSMI_2_mean",
          "wSMI_2_std",
          "wSMI_2_std",
          "wSMI_2_std",
          "wSMI_2_std",
          "wSMI_2_std",
          "wSMI_2_std",
          "wSMI_2_std",
          "wSMI_2_std",
          "wSMI_2_std",
          "wSMI_2_std",
          "wSMI_4_mean",
          "wSMI_4_mean",
          "wSMI_4_mean",
          "wSMI_4_mean",
          "wSMI_4_mean",
          "wSMI_4_mean",
          "wSMI_4_mean",
          "wSMI_4_mean",
          "wSMI_4_mean",
          "wSMI_4_mean",
          "wSMI_4_std",
          "wSMI_4_std",
          "wSMI_4_std",
          "wSMI_4_std",
          "wSMI_4_std",
          "wSMI_4_std",
          "wSMI_4_std",
          "wSMI_4_std",
          "wSMI_4_std",
          "wSMI_4_std",
          "wSMI_8_mean",
          "wSMI_8_mean",
          "wSMI_8_mean",
          "wSMI_8_mean",
          "wSMI_8_mean",
          "wSMI_8_mean",
          "wSMI_8_mean",
          "wSMI_8_mean",
          "wSMI_8_mean",
          "wSMI_8_mean",
          "wSMI_8_std",
          "wSMI_8_std",
          "wSMI_8_std",
          "wSMI_8_std",
          "wSMI_8_std",
          "wSMI_8_std",
          "wSMI_8_std",
          "wSMI_8_std",
          "wSMI_8_std",
          "wSMI_8_std",
          "p_e_1_mean",
          "p_e_1_mean",
          "p_e_1_mean",
          "p_e_1_mean",
          "p_e_1_mean",
          "p_e_1_mean",
          "p_e_1_mean",
          "p_e_1_mean",
          "p_e_1_mean",
          "p_e_1_mean",
          "p_e_1_std",
          "p_e_1_std",
          "p_e_1_std",
          "p_e_1_std",
          "p_e_1_std",
          "p_e_1_std",
          "p_e_1_std",
          "p_e_1_std",
          "p_e_1_std",
          "p_e_1_std",
          "p_e_2_mean",
          "p_e_2_mean",
          "p_e_2_mean",
          "p_e_2_mean",
          "p_e_2_mean",
          "p_e_2_mean",
          "p_e_2_mean",
          "p_e_2_mean",
          "p_e_2_mean",
          "p_e_2_mean",
          "p_e_2_std",
          "p_e_2_std",
          "p_e_2_std",
          "p_e_2_std",
          "p_e_2_std",
          "p_e_2_std",
          "p_e_2_std",
          "p_e_2_std",
          "p_e_2_std",
          "p_e_2_std",
          "p_e_4_mean",
          "p_e_4_mean",
          "p_e_4_mean",
          "p_e_4_mean",
          "p_e_4_mean",
          "p_e_4_mean",
          "p_e_4_mean",
          "p_e_4_mean",
          "p_e_4_mean",
          "p_e_4_mean",
          "p_e_4_std",
          "p_e_4_std",
          "p_e_4_std",
          "p_e_4_std",
          "p_e_4_std",
          "p_e_4_std",
          "p_e_4_std",
          "p_e_4_std",
          "p_e_4_std",
          "p_e_4_std",
          "p_e_8_mean",
          "p_e_8_mean",
          "p_e_8_mean",
          "p_e_8_mean",
          "p_e_8_mean",
          "p_e_8_mean",
          "p_e_8_mean",
          "p_e_8_mean",
          "p_e_8_mean",
          "p_e_8_mean",
          "p_e_8_std",
          "p_e_8_std",
          "p_e_8_std",
          "p_e_8_std",
          "p_e_8_std",
          "p_e_8_std",
          "p_e_8_std",
          "p_e_8_std",
          "p_e_8_std",
          "p_e_8_std",
          "k_mean",
          "k_mean",
          "k_mean",
          "k_mean",
          "k_mean",
          "k_mean",
          "k_mean",
          "k_mean",
          "k_mean",
          "k_mean",
          "k_std",
          "k_std",
          "k_std",
          "k_std",
          "k_std",
          "k_std",
          "k_std",
          "k_std",
          "k_std",
          "k_std",
          "se_mean",
          "se_mean",
          "se_mean",
          "se_mean",
          "se_mean",
          "se_mean",
          "se_mean",
          "se_mean",
          "se_mean",
          "se_mean",
          "se_std",
          "se_std",
          "se_std",
          "se_std",
          "se_std",
          "se_std",
          "se_std",
          "se_std",
          "se_std",
          "se_std",
          "msf_mean",
          "msf_mean",
          "msf_mean",
          "msf_mean",
          "msf_mean",
          "msf_mean",
          "msf_mean",
          "msf_mean",
          "msf_mean",
          "msf_mean",
          "msf_std",
          "msf_std",
          "msf_std",
          "msf_std",
          "msf_std",
          "msf_std",
          "msf_std",
          "msf_std",
          "msf_std",
          "msf_std",
          "sef90_mean",
          "sef90_mean",
          "sef90_mean",
          "sef90_mean",
          "sef90_mean",
          "sef90_mean",
          "sef90_mean",
          "sef90_mean",
          "sef90_mean",
          "sef90_mean",
          "sef90_std",
          "sef90_std",
          "sef90_std",
          "sef90_std",
          "sef90_std",
          "sef90_std",
          "sef90_std",
          "sef90_std",
          "sef90_std",
          "sef90_std",
          "sef95_mean",
          "sef95_mean",
          "sef95_mean",
          "sef95_mean",
          "sef95_mean",
          "sef95_mean",
          "sef95_mean",
          "sef95_mean",
          "sef95_mean",
          "sef95_mean",
          "sef95_std",
          "sef95_std",
          "sef95_std",
          "sef95_std",
          "sef95_std",
          "sef95_std",
          "sef95_std",
          "sef95_std",
          "sef95_std",
          "sef95_std",
          "b_mean",
          "b_mean",
          "b_mean",
          "b_mean",
          "b_mean",
          "b_mean",
          "b_mean",
          "b_mean",
          "b_mean",
          "b_mean",
          "b_std",
          "b_std",
          "b_std",
          "b_std",
          "b_std",
          "b_std",
          "b_std",
          "b_std",
          "b_std",
          "b_std",
          "b_n_mean",
          "b_n_mean",
          "b_n_mean",
          "b_n_mean",
          "b_n_mean",
          "b_n_mean",
          "b_n_mean",
          "b_n_mean",
          "b_n_mean",
          "b_n_mean",
          "b_n_std",
          "b_n_std",
          "b_n_std",
          "b_n_std",
          "b_n_std",
          "b_n_std",
          "b_n_std",
          "b_n_std",
          "b_n_std",
          "b_n_std",
          "g_mean",
          "g_mean",
          "g_mean",
          "g_mean",
          "g_mean",
          "g_mean",
          "g_mean",
          "g_mean",
          "g_mean",
          "g_mean",
          "g_std",
          "g_std",
          "g_std",
          "g_std",
          "g_std",
          "g_std",
          "g_std",
          "g_std",
          "g_std",
          "g_std",
          "g_n_mean",
          "g_n_mean",
          "g_n_mean",
          "g_n_mean",
          "g_n_mean",
          "g_n_mean",
          "g_n_mean",
          "g_n_mean",
          "g_n_mean",
          "g_n_mean",
          "g_n_std",
          "g_n_std",
          "g_n_std",
          "g_n_std",
          "g_n_std",
          "g_n_std",
          "g_n_std",
          "g_n_std",
          "g_n_std",
          "g_n_std",
          "t_mean",
          "t_mean",
          "t_mean",
          "t_mean",
          "t_mean",
          "t_mean",
          "t_mean",
          "t_mean",
          "t_mean",
          "t_mean",
          "t_std",
          "t_std",
          "t_std",
          "t_std",
          "t_std",
          "t_std",
          "t_std",
          "t_std",
          "t_std",
          "t_std",
          "t_n_mean",
          "t_n_mean",
          "t_n_mean",
          "t_n_mean",
          "t_n_mean",
          "t_n_mean",
          "t_n_mean",
          "t_n_mean",
          "t_n_mean",
          "t_n_mean",
          "t_n_std",
          "t_n_std",
          "t_n_std",
          "t_n_std",
          "t_n_std",
          "t_n_std",
          "t_n_std",
          "t_n_std",
          "t_n_std",
          "t_n_std",
          "d_mean",
          "d_mean",
          "d_mean",
          "d_mean",
          "d_mean",
          "d_mean",
          "d_mean",
          "d_mean",
          "d_mean",
          "d_mean",
          "d_std",
          "d_std",
          "d_std",
          "d_std",
          "d_std",
          "d_std",
          "d_std",
          "d_std",
          "d_std",
          "d_std",
          "d_n_mean",
          "d_n_mean",
          "d_n_mean",
          "d_n_mean",
          "d_n_mean",
          "d_n_mean",
          "d_n_mean",
          "d_n_mean",
          "d_n_mean",
          "d_n_mean",
          "d_n_std",
          "d_n_std",
          "d_n_std",
          "d_n_std",
          "d_n_std",
          "d_n_std",
          "d_n_std",
          "d_n_std",
          "d_n_std",
          "d_n_std",
          "a_n_mean",
          "a_n_mean",
          "a_n_mean",
          "a_n_mean",
          "a_n_mean",
          "a_n_mean",
          "a_n_mean",
          "a_n_mean",
          "a_n_mean",
          "a_n_mean",
          "a_n_std",
          "a_n_std",
          "a_n_std",
          "a_n_std",
          "a_n_std",
          "a_n_std",
          "a_n_std",
          "a_n_std",
          "a_n_std",
          "a_n_std",
          "a_mean",
          "a_mean",
          "a_mean",
          "a_mean",
          "a_mean",
          "a_mean",
          "a_mean",
          "a_mean",
          "a_mean",
          "a_mean",
          "a_std",
          "a_std",
          "a_std",
          "a_std",
          "a_std",
          "a_std",
          "a_std",
          "a_std",
          "a_std",
          "a_std",
          "CNV_mean",
          "CNV_mean",
          "CNV_mean",
          "CNV_mean",
          "CNV_mean",
          "CNV_mean",
          "CNV_mean",
          "CNV_mean",
          "CNV_mean",
          "CNV_mean",
          "CNV_std",
          "CNV_std",
          "CNV_std",
          "CNV_std",
          "CNV_std",
          "CNV_std",
          "CNV_std",
          "CNV_std",
          "CNV_std",
          "CNV_std",
          "P1_mean",
          "P1_mean",
          "P1_mean",
          "P1_mean",
          "P1_mean",
          "P1_mean",
          "P1_mean",
          "P1_mean",
          "P1_mean",
          "P1_mean",
          "P1_std",
          "P1_std",
          "P1_std",
          "P1_std",
          "P1_std",
          "P1_std",
          "P1_std",
          "P1_std",
          "P1_std",
          "P1_std",
          "P3a_mean",
          "P3a_mean",
          "P3a_mean",
          "P3a_mean",
          "P3a_mean",
          "P3a_mean",
          "P3a_mean",
          "P3a_mean",
          "P3a_mean",
          "P3a_mean",
          "P3a_std",
          "P3a_std",
          "P3a_std",
          "P3a_std",
          "P3a_std",
          "P3a_std",
          "P3a_std",
          "P3a_std",
          "P3a_std",
          "P3a_std",
          "P3b_mean",
          "P3b_mean",
          "P3b_mean",
          "P3b_mean",
          "P3b_mean",
          "P3b_mean",
          "P3b_mean",
          "P3b_mean",
          "P3b_mean",
          "P3b_mean",
          "P3b_std",
          "P3b_std",
          "P3b_std",
          "P3b_std",
          "P3b_std",
          "P3b_std",
          "P3b_std",
          "P3b_std",
          "P3b_std",
          "P3b_std"
         ]
        }
       ],
       "layout": {
        "font": {
         "color": "black",
         "family": "Times new roman",
         "size": 20
        },
        "height": 1100,
        "showlegend": true,
        "template": {
         "data": {
          "bar": [
           {
            "error_x": {
             "color": "#2a3f5f"
            },
            "error_y": {
             "color": "#2a3f5f"
            },
            "marker": {
             "line": {
              "color": "white",
              "width": 0.5
             },
             "pattern": {
              "fillmode": "overlay",
              "size": 10,
              "solidity": 0.2
             }
            },
            "type": "bar"
           }
          ],
          "barpolar": [
           {
            "marker": {
             "line": {
              "color": "white",
              "width": 0.5
             },
             "pattern": {
              "fillmode": "overlay",
              "size": 10,
              "solidity": 0.2
             }
            },
            "type": "barpolar"
           }
          ],
          "carpet": [
           {
            "aaxis": {
             "endlinecolor": "#2a3f5f",
             "gridcolor": "#C8D4E3",
             "linecolor": "#C8D4E3",
             "minorgridcolor": "#C8D4E3",
             "startlinecolor": "#2a3f5f"
            },
            "baxis": {
             "endlinecolor": "#2a3f5f",
             "gridcolor": "#C8D4E3",
             "linecolor": "#C8D4E3",
             "minorgridcolor": "#C8D4E3",
             "startlinecolor": "#2a3f5f"
            },
            "type": "carpet"
           }
          ],
          "choropleth": [
           {
            "colorbar": {
             "outlinewidth": 0,
             "ticks": ""
            },
            "type": "choropleth"
           }
          ],
          "contour": [
           {
            "colorbar": {
             "outlinewidth": 0,
             "ticks": ""
            },
            "colorscale": [
             [
              0,
              "#0d0887"
             ],
             [
              0.1111111111111111,
              "#46039f"
             ],
             [
              0.2222222222222222,
              "#7201a8"
             ],
             [
              0.3333333333333333,
              "#9c179e"
             ],
             [
              0.4444444444444444,
              "#bd3786"
             ],
             [
              0.5555555555555556,
              "#d8576b"
             ],
             [
              0.6666666666666666,
              "#ed7953"
             ],
             [
              0.7777777777777778,
              "#fb9f3a"
             ],
             [
              0.8888888888888888,
              "#fdca26"
             ],
             [
              1,
              "#f0f921"
             ]
            ],
            "type": "contour"
           }
          ],
          "contourcarpet": [
           {
            "colorbar": {
             "outlinewidth": 0,
             "ticks": ""
            },
            "type": "contourcarpet"
           }
          ],
          "heatmap": [
           {
            "colorbar": {
             "outlinewidth": 0,
             "ticks": ""
            },
            "colorscale": [
             [
              0,
              "#0d0887"
             ],
             [
              0.1111111111111111,
              "#46039f"
             ],
             [
              0.2222222222222222,
              "#7201a8"
             ],
             [
              0.3333333333333333,
              "#9c179e"
             ],
             [
              0.4444444444444444,
              "#bd3786"
             ],
             [
              0.5555555555555556,
              "#d8576b"
             ],
             [
              0.6666666666666666,
              "#ed7953"
             ],
             [
              0.7777777777777778,
              "#fb9f3a"
             ],
             [
              0.8888888888888888,
              "#fdca26"
             ],
             [
              1,
              "#f0f921"
             ]
            ],
            "type": "heatmap"
           }
          ],
          "heatmapgl": [
           {
            "colorbar": {
             "outlinewidth": 0,
             "ticks": ""
            },
            "colorscale": [
             [
              0,
              "#0d0887"
             ],
             [
              0.1111111111111111,
              "#46039f"
             ],
             [
              0.2222222222222222,
              "#7201a8"
             ],
             [
              0.3333333333333333,
              "#9c179e"
             ],
             [
              0.4444444444444444,
              "#bd3786"
             ],
             [
              0.5555555555555556,
              "#d8576b"
             ],
             [
              0.6666666666666666,
              "#ed7953"
             ],
             [
              0.7777777777777778,
              "#fb9f3a"
             ],
             [
              0.8888888888888888,
              "#fdca26"
             ],
             [
              1,
              "#f0f921"
             ]
            ],
            "type": "heatmapgl"
           }
          ],
          "histogram": [
           {
            "marker": {
             "pattern": {
              "fillmode": "overlay",
              "size": 10,
              "solidity": 0.2
             }
            },
            "type": "histogram"
           }
          ],
          "histogram2d": [
           {
            "colorbar": {
             "outlinewidth": 0,
             "ticks": ""
            },
            "colorscale": [
             [
              0,
              "#0d0887"
             ],
             [
              0.1111111111111111,
              "#46039f"
             ],
             [
              0.2222222222222222,
              "#7201a8"
             ],
             [
              0.3333333333333333,
              "#9c179e"
             ],
             [
              0.4444444444444444,
              "#bd3786"
             ],
             [
              0.5555555555555556,
              "#d8576b"
             ],
             [
              0.6666666666666666,
              "#ed7953"
             ],
             [
              0.7777777777777778,
              "#fb9f3a"
             ],
             [
              0.8888888888888888,
              "#fdca26"
             ],
             [
              1,
              "#f0f921"
             ]
            ],
            "type": "histogram2d"
           }
          ],
          "histogram2dcontour": [
           {
            "colorbar": {
             "outlinewidth": 0,
             "ticks": ""
            },
            "colorscale": [
             [
              0,
              "#0d0887"
             ],
             [
              0.1111111111111111,
              "#46039f"
             ],
             [
              0.2222222222222222,
              "#7201a8"
             ],
             [
              0.3333333333333333,
              "#9c179e"
             ],
             [
              0.4444444444444444,
              "#bd3786"
             ],
             [
              0.5555555555555556,
              "#d8576b"
             ],
             [
              0.6666666666666666,
              "#ed7953"
             ],
             [
              0.7777777777777778,
              "#fb9f3a"
             ],
             [
              0.8888888888888888,
              "#fdca26"
             ],
             [
              1,
              "#f0f921"
             ]
            ],
            "type": "histogram2dcontour"
           }
          ],
          "mesh3d": [
           {
            "colorbar": {
             "outlinewidth": 0,
             "ticks": ""
            },
            "type": "mesh3d"
           }
          ],
          "parcoords": [
           {
            "line": {
             "colorbar": {
              "outlinewidth": 0,
              "ticks": ""
             }
            },
            "type": "parcoords"
           }
          ],
          "pie": [
           {
            "automargin": true,
            "type": "pie"
           }
          ],
          "scatter": [
           {
            "fillpattern": {
             "fillmode": "overlay",
             "size": 10,
             "solidity": 0.2
            },
            "type": "scatter"
           }
          ],
          "scatter3d": [
           {
            "line": {
             "colorbar": {
              "outlinewidth": 0,
              "ticks": ""
             }
            },
            "marker": {
             "colorbar": {
              "outlinewidth": 0,
              "ticks": ""
             }
            },
            "type": "scatter3d"
           }
          ],
          "scattercarpet": [
           {
            "marker": {
             "colorbar": {
              "outlinewidth": 0,
              "ticks": ""
             }
            },
            "type": "scattercarpet"
           }
          ],
          "scattergeo": [
           {
            "marker": {
             "colorbar": {
              "outlinewidth": 0,
              "ticks": ""
             }
            },
            "type": "scattergeo"
           }
          ],
          "scattergl": [
           {
            "marker": {
             "colorbar": {
              "outlinewidth": 0,
              "ticks": ""
             }
            },
            "type": "scattergl"
           }
          ],
          "scattermapbox": [
           {
            "marker": {
             "colorbar": {
              "outlinewidth": 0,
              "ticks": ""
             }
            },
            "type": "scattermapbox"
           }
          ],
          "scatterpolar": [
           {
            "marker": {
             "colorbar": {
              "outlinewidth": 0,
              "ticks": ""
             }
            },
            "type": "scatterpolar"
           }
          ],
          "scatterpolargl": [
           {
            "marker": {
             "colorbar": {
              "outlinewidth": 0,
              "ticks": ""
             }
            },
            "type": "scatterpolargl"
           }
          ],
          "scatterternary": [
           {
            "marker": {
             "colorbar": {
              "outlinewidth": 0,
              "ticks": ""
             }
            },
            "type": "scatterternary"
           }
          ],
          "surface": [
           {
            "colorbar": {
             "outlinewidth": 0,
             "ticks": ""
            },
            "colorscale": [
             [
              0,
              "#0d0887"
             ],
             [
              0.1111111111111111,
              "#46039f"
             ],
             [
              0.2222222222222222,
              "#7201a8"
             ],
             [
              0.3333333333333333,
              "#9c179e"
             ],
             [
              0.4444444444444444,
              "#bd3786"
             ],
             [
              0.5555555555555556,
              "#d8576b"
             ],
             [
              0.6666666666666666,
              "#ed7953"
             ],
             [
              0.7777777777777778,
              "#fb9f3a"
             ],
             [
              0.8888888888888888,
              "#fdca26"
             ],
             [
              1,
              "#f0f921"
             ]
            ],
            "type": "surface"
           }
          ],
          "table": [
           {
            "cells": {
             "fill": {
              "color": "#EBF0F8"
             },
             "line": {
              "color": "white"
             }
            },
            "header": {
             "fill": {
              "color": "#C8D4E3"
             },
             "line": {
              "color": "white"
             }
            },
            "type": "table"
           }
          ]
         },
         "layout": {
          "annotationdefaults": {
           "arrowcolor": "#2a3f5f",
           "arrowhead": 0,
           "arrowwidth": 1
          },
          "autotypenumbers": "strict",
          "coloraxis": {
           "colorbar": {
            "outlinewidth": 0,
            "ticks": ""
           }
          },
          "colorscale": {
           "diverging": [
            [
             0,
             "#8e0152"
            ],
            [
             0.1,
             "#c51b7d"
            ],
            [
             0.2,
             "#de77ae"
            ],
            [
             0.3,
             "#f1b6da"
            ],
            [
             0.4,
             "#fde0ef"
            ],
            [
             0.5,
             "#f7f7f7"
            ],
            [
             0.6,
             "#e6f5d0"
            ],
            [
             0.7,
             "#b8e186"
            ],
            [
             0.8,
             "#7fbc41"
            ],
            [
             0.9,
             "#4d9221"
            ],
            [
             1,
             "#276419"
            ]
           ],
           "sequential": [
            [
             0,
             "#0d0887"
            ],
            [
             0.1111111111111111,
             "#46039f"
            ],
            [
             0.2222222222222222,
             "#7201a8"
            ],
            [
             0.3333333333333333,
             "#9c179e"
            ],
            [
             0.4444444444444444,
             "#bd3786"
            ],
            [
             0.5555555555555556,
             "#d8576b"
            ],
            [
             0.6666666666666666,
             "#ed7953"
            ],
            [
             0.7777777777777778,
             "#fb9f3a"
            ],
            [
             0.8888888888888888,
             "#fdca26"
            ],
            [
             1,
             "#f0f921"
            ]
           ],
           "sequentialminus": [
            [
             0,
             "#0d0887"
            ],
            [
             0.1111111111111111,
             "#46039f"
            ],
            [
             0.2222222222222222,
             "#7201a8"
            ],
            [
             0.3333333333333333,
             "#9c179e"
            ],
            [
             0.4444444444444444,
             "#bd3786"
            ],
            [
             0.5555555555555556,
             "#d8576b"
            ],
            [
             0.6666666666666666,
             "#ed7953"
            ],
            [
             0.7777777777777778,
             "#fb9f3a"
            ],
            [
             0.8888888888888888,
             "#fdca26"
            ],
            [
             1,
             "#f0f921"
            ]
           ]
          },
          "colorway": [
           "#636efa",
           "#EF553B",
           "#00cc96",
           "#ab63fa",
           "#FFA15A",
           "#19d3f3",
           "#FF6692",
           "#B6E880",
           "#FF97FF",
           "#FECB52"
          ],
          "font": {
           "color": "#2a3f5f"
          },
          "geo": {
           "bgcolor": "white",
           "lakecolor": "white",
           "landcolor": "white",
           "showlakes": true,
           "showland": true,
           "subunitcolor": "#C8D4E3"
          },
          "hoverlabel": {
           "align": "left"
          },
          "hovermode": "closest",
          "mapbox": {
           "style": "light"
          },
          "paper_bgcolor": "white",
          "plot_bgcolor": "white",
          "polar": {
           "angularaxis": {
            "gridcolor": "#EBF0F8",
            "linecolor": "#EBF0F8",
            "ticks": ""
           },
           "bgcolor": "white",
           "radialaxis": {
            "gridcolor": "#EBF0F8",
            "linecolor": "#EBF0F8",
            "ticks": ""
           }
          },
          "scene": {
           "xaxis": {
            "backgroundcolor": "white",
            "gridcolor": "#DFE8F3",
            "gridwidth": 2,
            "linecolor": "#EBF0F8",
            "showbackground": true,
            "ticks": "",
            "zerolinecolor": "#EBF0F8"
           },
           "yaxis": {
            "backgroundcolor": "white",
            "gridcolor": "#DFE8F3",
            "gridwidth": 2,
            "linecolor": "#EBF0F8",
            "showbackground": true,
            "ticks": "",
            "zerolinecolor": "#EBF0F8"
           },
           "zaxis": {
            "backgroundcolor": "white",
            "gridcolor": "#DFE8F3",
            "gridwidth": 2,
            "linecolor": "#EBF0F8",
            "showbackground": true,
            "ticks": "",
            "zerolinecolor": "#EBF0F8"
           }
          },
          "shapedefaults": {
           "line": {
            "color": "#2a3f5f"
           }
          },
          "ternary": {
           "aaxis": {
            "gridcolor": "#DFE8F3",
            "linecolor": "#A2B1C6",
            "ticks": ""
           },
           "baxis": {
            "gridcolor": "#DFE8F3",
            "linecolor": "#A2B1C6",
            "ticks": ""
           },
           "bgcolor": "white",
           "caxis": {
            "gridcolor": "#DFE8F3",
            "linecolor": "#A2B1C6",
            "ticks": ""
           }
          },
          "title": {
           "x": 0.05
          },
          "xaxis": {
           "automargin": true,
           "gridcolor": "#EBF0F8",
           "linecolor": "#EBF0F8",
           "ticks": "",
           "title": {
            "standoff": 15
           },
           "zerolinecolor": "#EBF0F8",
           "zerolinewidth": 2
          },
          "yaxis": {
           "automargin": true,
           "gridcolor": "#EBF0F8",
           "linecolor": "#EBF0F8",
           "ticks": "",
           "title": {
            "standoff": 15
           },
           "zerolinecolor": "#EBF0F8",
           "zerolinewidth": 2
          }
         }
        },
        "width": 650,
        "xaxis": {
         "range": [
          0,
          0.9
         ],
         "tickfont": {
          "size": 20
         },
         "title": {
          "text": "Feature Importance"
         },
         "visible": true
        },
        "yaxis": {
         "automargin": true,
         "categoryarray": [
          "wSMI_8_std",
          "t_std",
          "sef90_std",
          "sef90_mean",
          "P3a_mean",
          "p_e_4_std",
          "p_e_1_mean",
          "msf_std",
          "wSMI_8_mean",
          "g_mean",
          "p_e_1_std",
          "p_e_2_std",
          "msf_mean",
          "p_e_8_mean",
          "p_e_2_mean",
          "wSMI_1_std",
          "wSMI_4_mean",
          "p_e_4_mean",
          "CNV_mean",
          "a_mean",
          "b_mean",
          "d_n_mean",
          "CNV_std",
          "sef95_std",
          "d_std",
          "sef95_mean",
          "g_n_mean",
          "b_std",
          "a_n_std",
          "se_std",
          "wSMI_2_mean",
          "wSMI_2_std",
          "t_n_std",
          "k_std",
          "a_n_mean",
          "P3b_std",
          "b_n_std",
          "d_n_std",
          "wSMI_4_std",
          "P3a_std",
          "P3b_mean",
          "g_std",
          "P1_mean",
          "k_mean",
          "d_mean",
          "t_mean",
          "b_n_mean",
          "P1_std",
          "wSMI_1_mean",
          "se_mean",
          "a_std",
          "g_n_std",
          "p_e_8_std",
          "t_n_mean"
         ],
         "categoryorder": "array",
         "dtick": 1,
         "range": [
          -1,
          54
         ],
         "showgrid": true,
         "tickfont": {
          "size": 20
         },
         "title": {
          "text": "Feature"
         }
        }
       }
      }
     },
     "metadata": {},
     "output_type": "display_data"
    }
   ],
   "source": [
    "contrast = 'on-task_vs_sMW'\n",
    "i = 2\n",
    "\n",
    "\n",
    "df = pd.read_csv(os.path.join(results_path, f'{contrast}_PC_K4_6_opt_trials.csv'), index_col = 0).sort_values('datetime_start', ascending = True)\n",
    "\n",
    "# .dropna()\n",
    "# .drop_duplicates()\n",
    "# df = df.query(\"number <= 200\")\n",
    "\n",
    "# Select the top 10 models based on their AUC values\n",
    "top_models = df.nlargest(10, 'value')\n",
    "\n",
    "# Function to parse the feature importances from string to list\n",
    "def parse_importances(importances_str):\n",
    "    values = importances_str.replace('[', '').replace(']', '').split()\n",
    "    return [float(val) for val in values]\n",
    "\n",
    "# Applying the parsing function to the feature importances\n",
    "parsed_importances = top_models['feature_importances'].dropna().apply(parse_importances).tolist()\n",
    "\n",
    "# Feature names (replace this list with your actual feature names)\n",
    "feature_names = ['wSMI_1_mean', 'wSMI_1_std', 'wSMI_2_mean', 'wSMI_2_std', 'wSMI_4_mean',\n",
    "                'wSMI_4_std', 'wSMI_8_mean', 'wSMI_8_std', 'p_e_1_mean', 'p_e_1_std',\n",
    "                'p_e_2_mean', 'p_e_2_std', 'p_e_4_mean', 'p_e_4_std', 'p_e_8_mean',\n",
    "                'p_e_8_std', 'k_mean', 'k_std', 'se_mean', 'se_std', 'msf_mean',\n",
    "                'msf_std', 'sef90_mean', 'sef90_std', 'sef95_mean', 'sef95_std',\n",
    "                'b_mean', 'b_std', 'b_n_mean', 'b_n_std', 'g_mean', 'g_std', 'g_n_mean',\n",
    "                'g_n_std', 't_mean', 't_std', 't_n_mean', 't_n_std', 'd_mean', 'd_std',\n",
    "                'd_n_mean', 'd_n_std', 'a_n_mean', 'a_n_std', 'a_mean', 'a_std',\n",
    "                'CNV_mean', 'CNV_std', 'P1_mean', 'P1_std', 'P3a_mean', 'P3a_std',\n",
    "                'P3b_mean', 'P3b_std']\n",
    "\n",
    "# Creating a dataframe suitable for boxplot visualization\n",
    "feat_importances= pd.DataFrame(parsed_importances, columns=feature_names)\n",
    "boxplot_data = feat_importances.melt(var_name='Feature', value_name='Importance')\n",
    "\n",
    "# Calculate medians for ordering\n",
    "medians = boxplot_data.groupby('Feature')['Importance'].mean().sort_values()\n",
    "\n",
    "# Create the box plot\n",
    "fig = go.Figure()\n",
    "\n",
    "# Add box plots\n",
    "fig.add_trace(go.Box(\n",
    "    y=boxplot_data['Feature'], \n",
    "    x=boxplot_data['Importance'], \n",
    "    orientation='h', \n",
    "    marker_color=colors[i], \n",
    "    boxpoints='all', # Show all points\n",
    "    pointpos=0, # Points are overlaid on the box\n",
    "    jitter=0, # No jitter for the points; they are aligned vertically\n",
    "))\n",
    "\n",
    "# Update layout with ordered features\n",
    "fig.update_layout(\n",
    "    yaxis=dict(\n",
    "        title='Feature',\n",
    "        categoryorder='array',\n",
    "        categoryarray=medians.index\n",
    "    ),\n",
    "    xaxis=dict(\n",
    "        title='Importance'\n",
    "    )\n",
    ")\n",
    "\n",
    "# Update marker size for all points\n",
    "fig.update_traces(marker=dict(size=3))\n",
    "\n",
    "fig.update_layout(\n",
    "    width=650,\n",
    "    height=1100,\n",
    "    template='plotly_white',\n",
    "    font=dict(\n",
    "        family=\"Times new roman\",\n",
    "        size=20,\n",
    "        color=\"black\"\n",
    "    ),\n",
    "    xaxis=dict(\n",
    "        visible=True,\n",
    "        range = [0,0.9], \n",
    "        tickfont={\"size\": 20},\n",
    "        title='Feature Importance'\n",
    "    ),\n",
    "    yaxis=dict(\n",
    "        tickfont={\"size\": 20},\n",
    "        automargin=True,\n",
    "        showgrid=True, \n",
    "        range=[-1, len(markers)],\n",
    "        dtick=1,\n",
    "        categoryorder='array',\n",
    "        categoryarray=medians.index\n",
    "    ),\n",
    "    showlegend=True,\n",
    "    # margin=dict(l=50, r=50, t=150, b=50)  # Adjust the top margin\n",
    ")\n",
    "fig.show()\n",
    "\n",
    "filename = os.path.join(fig_path, f'{contrast}_top_10_feat_importances_PC_K4')\n",
    "fig.write_image(filename +'.png')\n",
    "fig.write_image(filename +'.pdf')\n",
    "fig.write_image(filename +'.svg')\n",
    "# fig.write_image(filename +'.eps')\n",
    "\n",
    "summary_stats = feat_importances.agg(['min', 'max', 'mean', 'std']).T\n",
    "# summary_stats['range'] = summary_stats['max'] - summary_stats['min']\n",
    "# summary_stats = summary_stats[['range', 'mean', 'std']]\n",
    "summary_stats.to_csv(filename + '.csv')"
   ]
  },
  {
   "cell_type": "code",
   "execution_count": 41,
   "metadata": {},
   "outputs": [
    {
     "data": {
      "application/vnd.plotly.v1+json": {
       "config": {
        "plotlyServerURL": "https://plot.ly"
       },
       "data": [
        {
         "marker": {
          "color": "#DE237B",
          "size": 5
         },
         "mode": "markers+text",
         "text": [
          "wSMI_8_std",
          "wSMI_8_mean",
          "wSMI_4_std",
          "wSMI_4_mean",
          "wSMI_2_std",
          "wSMI_2_mean",
          "wSMI_1_std",
          "wSMI_1_mean",
          "t_std",
          "t_n_std",
          "t_n_mean",
          "t_mean",
          "sef95_std",
          "sef95_mean",
          "sef90_std",
          "sef90_mean",
          "se_std",
          "se_mean",
          "p_e_8_std",
          "p_e_8_mean",
          "p_e_4_std",
          "p_e_4_mean",
          "p_e_2_std",
          "p_e_2_mean",
          "p_e_1_std",
          "p_e_1_mean",
          "msf_std",
          "msf_mean",
          "k_std",
          "k_mean",
          "g_std",
          "g_n_std",
          "g_n_mean",
          "g_mean",
          "d_std",
          "d_n_std",
          "d_n_mean",
          "d_mean",
          "b_std",
          "b_n_std",
          "b_n_mean",
          "b_mean",
          "a_std",
          "a_n_std",
          "a_n_mean",
          "a_mean",
          "P3b_std",
          "P3b_mean",
          "P3a_std",
          "P3a_mean",
          "P1_std",
          "P1_mean",
          "CNV_std",
          "CNV_mean"
         ],
         "type": "scatter",
         "x": [
          0,
          0,
          0.015694444,
          0.002272727,
          0.008732975,
          0.00703125,
          0.0015625,
          0.036592322,
          0,
          0.009288195,
          0.40727795899999997,
          0.022373366,
          0.00435606,
          0.004915956000000001,
          0,
          0,
          0.00546875,
          0.038414144,
          0.069265727,
          0.0014705879999999999,
          0,
          0.002457254,
          0.00078125,
          0.0014705879999999999,
          0.000363939,
          0,
          0,
          0.00078125,
          0.010258838000000001,
          0.019980878,
          0.017023134000000002,
          0.05328006,
          0.0050128989999999995,
          0,
          0.004609935000000001,
          0.015178230000000001,
          0.004166667000000001,
          0.020220588,
          0.005042017,
          0.01328125,
          0.026898077,
          0.003125,
          0.041648615,
          0.005326705,
          0.010498366,
          0.0030539770000000003,
          0.010774565,
          0.016106376999999998,
          0.016059028,
          0,
          0.032152777,
          0.01875,
          0.004352679,
          0.002628089
         ],
         "y": [
          0.007399284000000001,
          0.007100065,
          0.0023746690000000003,
          0.001469884,
          0.007655713999999999,
          0.010851894,
          0.016237101,
          0.0069202230000000005,
          0.008605132,
          0.00857157,
          0.063669107,
          0.057088054,
          0.026549118,
          0.002446144,
          0.018210432,
          0.009973789,
          0.023020081,
          0.008975348,
          0.019191644,
          0.008324691,
          0.016049467,
          0.006087634999999999,
          0.003122411,
          0.03800988,
          0.021460568,
          0.018292774,
          0.048398963,
          0.059250594000000004,
          0.013511272,
          0.063940632,
          0.008092045,
          0.0052599859999999995,
          0.030539777,
          0.022433837,
          0.004332909,
          0.004791905,
          0.00300808,
          0.017304192000000003,
          0.011899841999999999,
          0.024531724999999997,
          0.016087147,
          0.006034301000000001,
          0.027950993,
          0.030122298000000002,
          0.054082406000000006,
          0.016285278,
          0.005134133,
          0.0036397369999999997,
          0.005381666,
          0.006832822999999999,
          0.012504646999999999,
          0.030843185000000002,
          0.024068787,
          0.026080162
         ]
        },
        {
         "hovertemplate": "x=%{x}<br>y=%{y}<extra></extra>",
         "legendgroup": "",
         "line": {
          "color": "#636efa",
          "dash": "solid"
         },
         "marker": {
          "symbol": "circle"
         },
         "mode": "lines",
         "name": "",
         "orientation": "v",
         "showlegend": false,
         "type": "scatter",
         "x": [
          0,
          0.40727795899999997
         ],
         "xaxis": "x",
         "y": [
          0,
          0.063940632
         ],
         "yaxis": "y"
        }
       ],
       "layout": {
        "height": 400,
        "showlegend": false,
        "template": {
         "data": {
          "bar": [
           {
            "error_x": {
             "color": "#2a3f5f"
            },
            "error_y": {
             "color": "#2a3f5f"
            },
            "marker": {
             "line": {
              "color": "white",
              "width": 0.5
             },
             "pattern": {
              "fillmode": "overlay",
              "size": 10,
              "solidity": 0.2
             }
            },
            "type": "bar"
           }
          ],
          "barpolar": [
           {
            "marker": {
             "line": {
              "color": "white",
              "width": 0.5
             },
             "pattern": {
              "fillmode": "overlay",
              "size": 10,
              "solidity": 0.2
             }
            },
            "type": "barpolar"
           }
          ],
          "carpet": [
           {
            "aaxis": {
             "endlinecolor": "#2a3f5f",
             "gridcolor": "#C8D4E3",
             "linecolor": "#C8D4E3",
             "minorgridcolor": "#C8D4E3",
             "startlinecolor": "#2a3f5f"
            },
            "baxis": {
             "endlinecolor": "#2a3f5f",
             "gridcolor": "#C8D4E3",
             "linecolor": "#C8D4E3",
             "minorgridcolor": "#C8D4E3",
             "startlinecolor": "#2a3f5f"
            },
            "type": "carpet"
           }
          ],
          "choropleth": [
           {
            "colorbar": {
             "outlinewidth": 0,
             "ticks": ""
            },
            "type": "choropleth"
           }
          ],
          "contour": [
           {
            "colorbar": {
             "outlinewidth": 0,
             "ticks": ""
            },
            "colorscale": [
             [
              0,
              "#0d0887"
             ],
             [
              0.1111111111111111,
              "#46039f"
             ],
             [
              0.2222222222222222,
              "#7201a8"
             ],
             [
              0.3333333333333333,
              "#9c179e"
             ],
             [
              0.4444444444444444,
              "#bd3786"
             ],
             [
              0.5555555555555556,
              "#d8576b"
             ],
             [
              0.6666666666666666,
              "#ed7953"
             ],
             [
              0.7777777777777778,
              "#fb9f3a"
             ],
             [
              0.8888888888888888,
              "#fdca26"
             ],
             [
              1,
              "#f0f921"
             ]
            ],
            "type": "contour"
           }
          ],
          "contourcarpet": [
           {
            "colorbar": {
             "outlinewidth": 0,
             "ticks": ""
            },
            "type": "contourcarpet"
           }
          ],
          "heatmap": [
           {
            "colorbar": {
             "outlinewidth": 0,
             "ticks": ""
            },
            "colorscale": [
             [
              0,
              "#0d0887"
             ],
             [
              0.1111111111111111,
              "#46039f"
             ],
             [
              0.2222222222222222,
              "#7201a8"
             ],
             [
              0.3333333333333333,
              "#9c179e"
             ],
             [
              0.4444444444444444,
              "#bd3786"
             ],
             [
              0.5555555555555556,
              "#d8576b"
             ],
             [
              0.6666666666666666,
              "#ed7953"
             ],
             [
              0.7777777777777778,
              "#fb9f3a"
             ],
             [
              0.8888888888888888,
              "#fdca26"
             ],
             [
              1,
              "#f0f921"
             ]
            ],
            "type": "heatmap"
           }
          ],
          "heatmapgl": [
           {
            "colorbar": {
             "outlinewidth": 0,
             "ticks": ""
            },
            "colorscale": [
             [
              0,
              "#0d0887"
             ],
             [
              0.1111111111111111,
              "#46039f"
             ],
             [
              0.2222222222222222,
              "#7201a8"
             ],
             [
              0.3333333333333333,
              "#9c179e"
             ],
             [
              0.4444444444444444,
              "#bd3786"
             ],
             [
              0.5555555555555556,
              "#d8576b"
             ],
             [
              0.6666666666666666,
              "#ed7953"
             ],
             [
              0.7777777777777778,
              "#fb9f3a"
             ],
             [
              0.8888888888888888,
              "#fdca26"
             ],
             [
              1,
              "#f0f921"
             ]
            ],
            "type": "heatmapgl"
           }
          ],
          "histogram": [
           {
            "marker": {
             "pattern": {
              "fillmode": "overlay",
              "size": 10,
              "solidity": 0.2
             }
            },
            "type": "histogram"
           }
          ],
          "histogram2d": [
           {
            "colorbar": {
             "outlinewidth": 0,
             "ticks": ""
            },
            "colorscale": [
             [
              0,
              "#0d0887"
             ],
             [
              0.1111111111111111,
              "#46039f"
             ],
             [
              0.2222222222222222,
              "#7201a8"
             ],
             [
              0.3333333333333333,
              "#9c179e"
             ],
             [
              0.4444444444444444,
              "#bd3786"
             ],
             [
              0.5555555555555556,
              "#d8576b"
             ],
             [
              0.6666666666666666,
              "#ed7953"
             ],
             [
              0.7777777777777778,
              "#fb9f3a"
             ],
             [
              0.8888888888888888,
              "#fdca26"
             ],
             [
              1,
              "#f0f921"
             ]
            ],
            "type": "histogram2d"
           }
          ],
          "histogram2dcontour": [
           {
            "colorbar": {
             "outlinewidth": 0,
             "ticks": ""
            },
            "colorscale": [
             [
              0,
              "#0d0887"
             ],
             [
              0.1111111111111111,
              "#46039f"
             ],
             [
              0.2222222222222222,
              "#7201a8"
             ],
             [
              0.3333333333333333,
              "#9c179e"
             ],
             [
              0.4444444444444444,
              "#bd3786"
             ],
             [
              0.5555555555555556,
              "#d8576b"
             ],
             [
              0.6666666666666666,
              "#ed7953"
             ],
             [
              0.7777777777777778,
              "#fb9f3a"
             ],
             [
              0.8888888888888888,
              "#fdca26"
             ],
             [
              1,
              "#f0f921"
             ]
            ],
            "type": "histogram2dcontour"
           }
          ],
          "mesh3d": [
           {
            "colorbar": {
             "outlinewidth": 0,
             "ticks": ""
            },
            "type": "mesh3d"
           }
          ],
          "parcoords": [
           {
            "line": {
             "colorbar": {
              "outlinewidth": 0,
              "ticks": ""
             }
            },
            "type": "parcoords"
           }
          ],
          "pie": [
           {
            "automargin": true,
            "type": "pie"
           }
          ],
          "scatter": [
           {
            "fillpattern": {
             "fillmode": "overlay",
             "size": 10,
             "solidity": 0.2
            },
            "type": "scatter"
           }
          ],
          "scatter3d": [
           {
            "line": {
             "colorbar": {
              "outlinewidth": 0,
              "ticks": ""
             }
            },
            "marker": {
             "colorbar": {
              "outlinewidth": 0,
              "ticks": ""
             }
            },
            "type": "scatter3d"
           }
          ],
          "scattercarpet": [
           {
            "marker": {
             "colorbar": {
              "outlinewidth": 0,
              "ticks": ""
             }
            },
            "type": "scattercarpet"
           }
          ],
          "scattergeo": [
           {
            "marker": {
             "colorbar": {
              "outlinewidth": 0,
              "ticks": ""
             }
            },
            "type": "scattergeo"
           }
          ],
          "scattergl": [
           {
            "marker": {
             "colorbar": {
              "outlinewidth": 0,
              "ticks": ""
             }
            },
            "type": "scattergl"
           }
          ],
          "scattermapbox": [
           {
            "marker": {
             "colorbar": {
              "outlinewidth": 0,
              "ticks": ""
             }
            },
            "type": "scattermapbox"
           }
          ],
          "scatterpolar": [
           {
            "marker": {
             "colorbar": {
              "outlinewidth": 0,
              "ticks": ""
             }
            },
            "type": "scatterpolar"
           }
          ],
          "scatterpolargl": [
           {
            "marker": {
             "colorbar": {
              "outlinewidth": 0,
              "ticks": ""
             }
            },
            "type": "scatterpolargl"
           }
          ],
          "scatterternary": [
           {
            "marker": {
             "colorbar": {
              "outlinewidth": 0,
              "ticks": ""
             }
            },
            "type": "scatterternary"
           }
          ],
          "surface": [
           {
            "colorbar": {
             "outlinewidth": 0,
             "ticks": ""
            },
            "colorscale": [
             [
              0,
              "#0d0887"
             ],
             [
              0.1111111111111111,
              "#46039f"
             ],
             [
              0.2222222222222222,
              "#7201a8"
             ],
             [
              0.3333333333333333,
              "#9c179e"
             ],
             [
              0.4444444444444444,
              "#bd3786"
             ],
             [
              0.5555555555555556,
              "#d8576b"
             ],
             [
              0.6666666666666666,
              "#ed7953"
             ],
             [
              0.7777777777777778,
              "#fb9f3a"
             ],
             [
              0.8888888888888888,
              "#fdca26"
             ],
             [
              1,
              "#f0f921"
             ]
            ],
            "type": "surface"
           }
          ],
          "table": [
           {
            "cells": {
             "fill": {
              "color": "#EBF0F8"
             },
             "line": {
              "color": "white"
             }
            },
            "header": {
             "fill": {
              "color": "#C8D4E3"
             },
             "line": {
              "color": "white"
             }
            },
            "type": "table"
           }
          ]
         },
         "layout": {
          "annotationdefaults": {
           "arrowcolor": "#2a3f5f",
           "arrowhead": 0,
           "arrowwidth": 1
          },
          "autotypenumbers": "strict",
          "coloraxis": {
           "colorbar": {
            "outlinewidth": 0,
            "ticks": ""
           }
          },
          "colorscale": {
           "diverging": [
            [
             0,
             "#8e0152"
            ],
            [
             0.1,
             "#c51b7d"
            ],
            [
             0.2,
             "#de77ae"
            ],
            [
             0.3,
             "#f1b6da"
            ],
            [
             0.4,
             "#fde0ef"
            ],
            [
             0.5,
             "#f7f7f7"
            ],
            [
             0.6,
             "#e6f5d0"
            ],
            [
             0.7,
             "#b8e186"
            ],
            [
             0.8,
             "#7fbc41"
            ],
            [
             0.9,
             "#4d9221"
            ],
            [
             1,
             "#276419"
            ]
           ],
           "sequential": [
            [
             0,
             "#0d0887"
            ],
            [
             0.1111111111111111,
             "#46039f"
            ],
            [
             0.2222222222222222,
             "#7201a8"
            ],
            [
             0.3333333333333333,
             "#9c179e"
            ],
            [
             0.4444444444444444,
             "#bd3786"
            ],
            [
             0.5555555555555556,
             "#d8576b"
            ],
            [
             0.6666666666666666,
             "#ed7953"
            ],
            [
             0.7777777777777778,
             "#fb9f3a"
            ],
            [
             0.8888888888888888,
             "#fdca26"
            ],
            [
             1,
             "#f0f921"
            ]
           ],
           "sequentialminus": [
            [
             0,
             "#0d0887"
            ],
            [
             0.1111111111111111,
             "#46039f"
            ],
            [
             0.2222222222222222,
             "#7201a8"
            ],
            [
             0.3333333333333333,
             "#9c179e"
            ],
            [
             0.4444444444444444,
             "#bd3786"
            ],
            [
             0.5555555555555556,
             "#d8576b"
            ],
            [
             0.6666666666666666,
             "#ed7953"
            ],
            [
             0.7777777777777778,
             "#fb9f3a"
            ],
            [
             0.8888888888888888,
             "#fdca26"
            ],
            [
             1,
             "#f0f921"
            ]
           ]
          },
          "colorway": [
           "#636efa",
           "#EF553B",
           "#00cc96",
           "#ab63fa",
           "#FFA15A",
           "#19d3f3",
           "#FF6692",
           "#B6E880",
           "#FF97FF",
           "#FECB52"
          ],
          "font": {
           "color": "#2a3f5f"
          },
          "geo": {
           "bgcolor": "white",
           "lakecolor": "white",
           "landcolor": "white",
           "showlakes": true,
           "showland": true,
           "subunitcolor": "#C8D4E3"
          },
          "hoverlabel": {
           "align": "left"
          },
          "hovermode": "closest",
          "mapbox": {
           "style": "light"
          },
          "paper_bgcolor": "white",
          "plot_bgcolor": "white",
          "polar": {
           "angularaxis": {
            "gridcolor": "#EBF0F8",
            "linecolor": "#EBF0F8",
            "ticks": ""
           },
           "bgcolor": "white",
           "radialaxis": {
            "gridcolor": "#EBF0F8",
            "linecolor": "#EBF0F8",
            "ticks": ""
           }
          },
          "scene": {
           "xaxis": {
            "backgroundcolor": "white",
            "gridcolor": "#DFE8F3",
            "gridwidth": 2,
            "linecolor": "#EBF0F8",
            "showbackground": true,
            "ticks": "",
            "zerolinecolor": "#EBF0F8"
           },
           "yaxis": {
            "backgroundcolor": "white",
            "gridcolor": "#DFE8F3",
            "gridwidth": 2,
            "linecolor": "#EBF0F8",
            "showbackground": true,
            "ticks": "",
            "zerolinecolor": "#EBF0F8"
           },
           "zaxis": {
            "backgroundcolor": "white",
            "gridcolor": "#DFE8F3",
            "gridwidth": 2,
            "linecolor": "#EBF0F8",
            "showbackground": true,
            "ticks": "",
            "zerolinecolor": "#EBF0F8"
           }
          },
          "shapedefaults": {
           "line": {
            "color": "#2a3f5f"
           }
          },
          "ternary": {
           "aaxis": {
            "gridcolor": "#DFE8F3",
            "linecolor": "#A2B1C6",
            "ticks": ""
           },
           "baxis": {
            "gridcolor": "#DFE8F3",
            "linecolor": "#A2B1C6",
            "ticks": ""
           },
           "bgcolor": "white",
           "caxis": {
            "gridcolor": "#DFE8F3",
            "linecolor": "#A2B1C6",
            "ticks": ""
           }
          },
          "title": {
           "x": 0.05
          },
          "xaxis": {
           "automargin": true,
           "gridcolor": "#EBF0F8",
           "linecolor": "#EBF0F8",
           "ticks": "",
           "title": {
            "standoff": 15
           },
           "zerolinecolor": "#EBF0F8",
           "zerolinewidth": 2
          },
          "yaxis": {
           "automargin": true,
           "gridcolor": "#EBF0F8",
           "linecolor": "#EBF0F8",
           "ticks": "",
           "title": {
            "standoff": 15
           },
           "zerolinecolor": "#EBF0F8",
           "zerolinewidth": 2
          }
         }
        },
        "width": 400
       }
      }
     },
     "metadata": {},
     "output_type": "display_data"
    }
   ],
   "source": [
    "df1 = dfs['on-task_vs_sMW'].groupby('Feature').mean().sort_values('Feature', ascending = False).reset_index()\n",
    "df2 = dfs['dMW_vs_sMW'].groupby('Feature').mean().sort_values('Feature', ascending = False).reset_index()\n",
    "\n",
    "regression = sm.OLS(df1.Importance, sm.add_constant(df2.Importance)).fit().fittedvalues\n",
    "\n",
    "fig = go.Figure()\n",
    "\n",
    "fig.add_trace(go.Scatter(\n",
    "    x=df1.Importance,\n",
    "    y=df2.Importance,\n",
    "    text = df1.Feature,\n",
    "    mode = 'markers+text',\n",
    "    marker = {'color':pink, 'size': 5},\n",
    "#     marker_symbol= symbol_fun(mind, significant_mw)\n",
    "    \n",
    "))\n",
    "fig.add_trace(px.line(x=[0,df1.Importance.max()], y=[0,df2.Importance.max()]).data[0])\n",
    "\n",
    "# fig.add_vline(x=0.5, line_width=1, line_dash=\"dash\", line_color=\"grey\")\n",
    "# fig.add_hline(y=0.5, line_width=1, line_dash=\"dash\", line_color=\"grey\")\n",
    "\n",
    "# fig.add_trace(go.Scatter(name='line of best fit', x=df1.Importance, y=regression, mode='lines', line_color=pink))\n",
    "\n",
    "\n",
    "# fig.add_trace(go.Scatter(\n",
    "#     x=mw.AUC_x,\n",
    "#     y=mw.AUC_y,\n",
    "#     text = mw.marker,\n",
    "#     mode = 'markers+text',\n",
    "#     marker = {'color':lblue, 'size': 5},\n",
    "# #     marker_symbol= symbol_fun(mind, significant_mw)\n",
    "    \n",
    "# ), row =1, col = 2)\n",
    "# fig.add_vline(x=0.5, line_width=1, line_dash=\"dash\", line_color=\"grey\", row = 1, col = 2)\n",
    "# fig.add_hline(y=0.5, line_width=1, line_dash=\"dash\", line_color=\"grey\", row = 1, col = 2)\n",
    "# fig.add_trace(go.Scatter(name='line of best fit', x=mw.AUC_x, y=mw_regression, mode='lines', line_color=lblue), row = 1, col = 2)\n",
    "\n",
    "\n",
    "# # Update xaxis properties\n",
    "# fig.update_xaxes(title_text=\"Average\", range=[.35, .65],row=1, col=1)\n",
    "# fig.update_xaxes(title_text=\"Average\", range=[.35,.65], row=1, col=2)\n",
    "\n",
    "# # Update yaxis properties\n",
    "# fig.update_yaxes(title_text=\"Fluctuations\", range=[.35, .65],row=1, col=1)\n",
    "# fig.update_yaxes(title_text=\"Fluctuations\", range=[.35,.65], row=1, col=2)\n",
    "\n",
    "\n",
    "fig.update_layout(\n",
    "    width=400,\n",
    "    height=400,    \n",
    "    template = \"plotly_white\",\n",
    "    showlegend=False,\n",
    "\n",
    ")\n",
    "\n",
    "fig.show()\n",
    "# pio.write_json(fig, 'Figs/average_fluctuations_auc_all.plotly')"
   ]
  }
 ],
 "metadata": {
  "kernelspec": {
   "display_name": "base",
   "language": "python",
   "name": "python3"
  },
  "language_info": {
   "codemirror_mode": {
    "name": "ipython",
    "version": 3
   },
   "file_extension": ".py",
   "mimetype": "text/x-python",
   "name": "python",
   "nbconvert_exporter": "python",
   "pygments_lexer": "ipython3",
   "version": "3.12.2"
  }
 },
 "nbformat": 4,
 "nbformat_minor": 2
}
