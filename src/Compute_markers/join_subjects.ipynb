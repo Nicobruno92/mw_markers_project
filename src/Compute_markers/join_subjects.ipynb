{
 "cells": [
  {
   "cell_type": "code",
   "execution_count": null,
   "metadata": {},
   "outputs": [],
   "source": [
    "import pandas as pd"
   ]
  },
  {
   "cell_type": "code",
   "execution_count": null,
   "metadata": {},
   "outputs": [],
   "source": [
    "epoch_type = 'evoked'\n",
    "# epoch_type = 'pseudo-rs'\n",
    "\n",
    "all_participants = ['VP07','VP08','VP09', 'VP10','VP11','VP12','VP13','VP14','VP18','VP19','VP20','VP22','VP23','VP24','VP25','VP26','VP27','VP28','VP29','VP30','VP31','VP32','VP33','VP35','VP36','VP37']\n",
    "\n",
    "# path = '/media/nicolas.bruno/63f8a366-34b7-4896-a7ce-b5fb4ee78535/Nico/MW_eeg_data/minmarker/' #icm-linux\n",
    "path = '/Users/nicobruno/ownCloud/MW_eeg_data/minmarker/' #nico-mac\n",
    "\n",
    "df = pd.DataFrame()\n",
    "\n",
    "for i,v in enumerate(all_participants): \n",
    "    participant = v\n",
    "    \n",
    "    folder = path + participant +'/'\n",
    "    \n",
    "    df_ = pd.read_csv(folder+ participant + '_' + epoch_type + '_all_marker.csv', index_col = 0)\n",
    "#     df_ = pd.read_csv(folder+ participant + '_' + epoch_type + 'noica_all_marker.csv', index_col = 0)\n",
    "    df_['participant'] = i\n",
    "    df = df.append(df_)\n",
    "    \n",
    "df.to_csv('../../Data/all_markers.csv')"
   ]
  }
 ],
 "metadata": {
  "kernelspec": {
   "display_name": "mne",
   "language": "python",
   "name": "python3"
  },
  "language_info": {
   "name": "python",
   "version": "3.9.7"
  },
  "orig_nbformat": 4
 },
 "nbformat": 4,
 "nbformat_minor": 2
}
