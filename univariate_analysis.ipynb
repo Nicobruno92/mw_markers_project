{
 "cells": [
  {
   "cell_type": "code",
   "execution_count": 225,
   "id": "loving-default",
   "metadata": {},
   "outputs": [],
   "source": [
    "import numpy as np\n",
    "import seaborn as sns\n",
    "import pandas as pd \n",
    "import matplotlib.pyplot as plt\n",
    "from sklearn.metrics import roc_auc_score\n",
    "from sklearn.svm import SVC\n",
    "from sklearn.preprocessing import StandardScaler, RobustScaler\n",
    "from sklearn.pipeline import Pipeline, make_pipeline\n",
    "from sklearn.model_selection import GridSearchCV, train_test_split, cross_val_score, GroupShuffleSplit\n",
    "from sklearn.ensemble import ExtraTreesClassifier\n",
    "\n",
    "from scipy.stats import wilcoxon"
   ]
  },
  {
   "cell_type": "code",
   "execution_count": 57,
   "id": "applicable-services",
   "metadata": {},
   "outputs": [],
   "source": [
    "epoch_type = 'evoked'\n",
    "# epoch_type = 'pseudo-rs'\n",
    "\n",
    "all_participants = ['VP07','VP08','VP09', 'VP10','VP11','VP12','VP13','VP14','VP18','VP19','VP20','VP22','VP23','VP24','VP25','VP26','VP27','VP28','VP29','VP30','VP31','VP32','VP33','VP35','VP36','VP37']\n",
    "\n",
    "# path = '/media/nicolas.bruno/63f8a366-34b7-4896-a7ce-b5fb4ee78535/Nico/MW_eeg_data/minmarker/' #icm-linux\n",
    "path = '/Users/nicobruno/ownCloud/MW_eeg_data/minmarker/' #nico-mac"
   ]
  },
  {
   "cell_type": "code",
   "execution_count": 58,
   "id": "confident-fifth",
   "metadata": {},
   "outputs": [],
   "source": [
    "df_markers = pd.DataFrame()\n",
    "\n",
    "for i,v in enumerate(all_participants): \n",
    "    participant = v\n",
    "    \n",
    "    folder = path + participant +'/'\n",
    "    \n",
    "    df_ = pd.read_csv(folder+ participant + '_' + epoch_type + '_all_marker.csv', index_col = 0)\n",
    "    df_['participant'] = i\n",
    "    df_markers = df_markers.append(df_)\n",
    "    \n",
    "df_markers.to_csv('all_markers.csv')"
   ]
  },
  {
   "cell_type": "markdown",
   "id": "clinical-politics",
   "metadata": {},
   "source": [
    "# Univariate analysis: On-task Vs Mind- Wandering\n",
    "This can only be performed for PC probes  as they are the only ones with On-task reports."
   ]
  },
  {
   "cell_type": "code",
   "execution_count": 213,
   "id": "sufficient-correspondence",
   "metadata": {},
   "outputs": [],
   "source": [
    "df_mind = (\n",
    "    df_markers\n",
    "    .query(\"probe == 'PC'\")\n",
    "    .assign(\n",
    "    mind2 = lambda df: np.where(df.mind == 'on-task', 'on-task', 'mw'))\n",
    "    .query(\"mind != 'sMW'\") #if you want to test against just one of the mw\n",
    "    .drop(['participant', 'probe', 'mind'], axis = 1) # drop mind or mind2 also\n",
    ")"
   ]
  },
  {
   "cell_type": "raw",
   "id": "falling-challenge",
   "metadata": {},
   "source": [
    "markers = df_mind.drop('mind2', axis = 1).columns\n",
    "\n",
    "# AUC = []\n",
    "for i in markers:\n",
    "    ot = df_mind.query(\"mind2 == 'on-task'\")[i]\n",
    "    mw = df_mind.query(\"mind2 == 'mw'\")[i]\n",
    "    print(f'{i} = {wilcoxon(x = ot, y = mw)}')"
   ]
  },
  {
   "cell_type": "code",
   "execution_count": 63,
   "id": "immune-anaheim",
   "metadata": {},
   "outputs": [
    {
     "name": "stdout",
     "output_type": "stream",
     "text": [
      "AUC wSMI = 0.5185755162013765\n",
      "AUC p_e = 0.4982445286520764\n",
      "AUC k = 0.48337328899543736\n",
      "AUC b = 0.47190472507926695\n",
      "AUC b_n = 0.4428273142061712\n",
      "AUC g = 0.5059701492537313\n",
      "AUC g_n = 0.507424019797386\n",
      "AUC t = 0.5283040754775346\n",
      "AUC t_n = 0.563026834738226\n",
      "AUC d = 0.4825999535998763\n",
      "AUC d_n = 0.4729796612790968\n",
      "AUC a_n = 0.49499651999072\n",
      "AUC a = 0.4967442579846879\n",
      "AUC CNV = 0.49222024592065583\n",
      "AUC P1 = 0.546763591369577\n",
      "AUC P3a = 0.4988245301987472\n",
      "AUC P3b = 0.5417446446523857\n"
     ]
    },
    {
     "data": {
      "image/png": "[encoded data removed]",
      "text/plain": [
       "<Figure size 360x360 with 1 Axes>"
      ]
     },
     "metadata": {
      "needs_background": "light"
     },
     "output_type": "display_data"
    }
   ],
   "source": [
    "markers = df_mind.drop('mind2', axis = 1).columns\n",
    "\n",
    "AUC = []\n",
    "for i in markers:\n",
    "    auc = roc_auc_score(df_mind['mind2'], df_mind[i])\n",
    "    print(f'AUC {i} = {auc}')\n",
    "    AUC.append([i, auc])\n",
    "df_auc = pd.DataFrame(AUC, columns = ['marker', 'AUC'])\n",
    "\n",
    "sns.catplot(x = 'AUC', y = 'marker', data = df_auc, orient = 'h')\n",
    "plt.axvline(x = 0.5, linestyle = 'dashed')\n",
    "plt.show()"
   ]
  },
  {
   "cell_type": "code",
   "execution_count": 64,
   "id": "daily-kruger",
   "metadata": {},
   "outputs": [
    {
     "name": "stdout",
     "output_type": "stream",
     "text": [
      "AUC wSMI = 0.526966205243214\n",
      "AUC p_e = 0.5382337019565384\n",
      "AUC k = 0.4379166344443586\n",
      "AUC b = 0.47220632588353567\n",
      "AUC b_n = 0.44304384811692826\n",
      "AUC g = 0.45673961797231455\n",
      "AUC g_n = 0.5723223261928698\n",
      "AUC t = 0.5323176861804965\n",
      "AUC t_n = 0.4407315752842007\n",
      "AUC d = 0.512052432139819\n",
      "AUC d_n = 0.5480395947722527\n",
      "AUC a_n = 0.5377001005336014\n",
      "AUC a = 0.5467481246616658\n",
      "AUC CNV = 0.5310339494238651\n",
      "AUC P1 = 0.4375415667775113\n",
      "AUC P3a = 0.5351016936045162\n",
      "AUC P3b = 0.5587425566468177\n",
      "Index(['mw', 'on-task'], dtype='object')\n"
     ]
    },
    {
     "data": {
      "image/png": "[encoded data removed]",
      "text/plain": [
       "<Figure size 360x360 with 1 Axes>"
      ]
     },
     "metadata": {
      "needs_background": "light"
     },
     "output_type": "display_data"
    }
   ],
   "source": [
    "markers = df_mind.drop('mind2', axis = 1).columns\n",
    "\n",
    "AUC = []\n",
    "for i in markers:\n",
    "    y, label = pd.factorize(df_mind['mind2'])\n",
    "    X = df_mind[i].astype('float32').values.reshape(-1,1)\n",
    "    svc = SVC(probability=True)\n",
    "    svc.fit(X, y)\n",
    "    y_proba = svc.predict_proba(X)\n",
    "    auc = roc_auc_score(y, y_proba[:,0])\n",
    "    print(f'AUC {i} = {auc}')\n",
    "    AUC.append([i, auc])\n",
    "\n",
    "print(label)\n",
    "df_auc = pd.DataFrame(AUC, columns = ['marker', 'AUC'])\n",
    "\n",
    "sns.catplot(x = 'AUC', y = 'marker', data = df_auc, orient = 'h')\n",
    "plt.axvline(x = 0.5, linestyle = 'dashed')\n",
    "plt.show()"
   ]
  },
  {
   "cell_type": "code",
   "execution_count": 214,
   "id": "seeing-mozambique",
   "metadata": {},
   "outputs": [
    {
     "name": "stdout",
     "output_type": "stream",
     "text": [
      "AUC wSMI = 0.4880491937227267\n",
      "AUC p_e = 0.4839484862182399\n",
      "AUC k = 0.522394897218872\n",
      "AUC b = 0.5229458875065243\n",
      "AUC b_n = 0.504254613574821\n",
      "AUC g = 0.547656886309955\n",
      "AUC g_n = 0.5198785252035014\n",
      "AUC t = 0.49557408318111945\n",
      "AUC t_n = 0.5013372640224412\n",
      "AUC d = 0.5007014875837466\n",
      "AUC d_n = 0.5345495117956961\n",
      "AUC a_n = 0.4959045261183612\n",
      "AUC a = 0.48487944447324816\n",
      "AUC CNV = 0.4766314857015777\n",
      "AUC P1 = 0.48526928083247234\n",
      "AUC P3a = 0.4879562803633856\n",
      "AUC P3b = 0.5006255120437038\n"
     ]
    }
   ],
   "source": [
    "markers = df_mind.drop('mind2', axis = 1).columns\n",
    "\n",
    "AUC = pd.DataFrame()\n",
    "for i in markers:\n",
    "    \n",
    "    y, label = pd.factorize(df_mind['mind2'])\n",
    "    X = df_mind[i].astype('float32').values.reshape(-1,1)\n",
    "    \n",
    "    steps = [('scaler', StandardScaler()), ('SVM', SVC(probability=True))]\n",
    "    pipe = Pipeline(steps)\n",
    "    \n",
    "#     parameteres = {'SVM__C':[0.001,0.1,10,100,10e5], 'SVM__gamma':[0.1,0.01]}\n",
    "#     grid = GridSearchCV(pipe, param_grid=parameteres, cv=5, n_jobs = -1)\n",
    "#     grid.fit(X, y)      \n",
    "#     steps = [('scaler', StandardScaler()), ('SVM', SVC(C =grid.best_params_['SVM__C'], gamma =grid.best_params_['SVM__gamma'], probability=True))]\n",
    "#     pipe = Pipeline(steps)\n",
    "    \n",
    "    cv = GroupShuffleSplit(n_splits=50, train_size=0.8, test_size=0.2,\n",
    "        random_state=42)\n",
    "\n",
    "    aucs = cross_val_score(\n",
    "    X=X, y=y, estimator=pipe,\n",
    "    scoring='roc_auc', cv=cv, groups=np.arange(len(X)))\n",
    "\n",
    "    AUC[i] = aucs\n",
    "\n",
    "#     print(label)\n",
    "    print(f'AUC {i} = {np.mean(aucs)}')\n",
    "    \n",
    "    \n",
    "sns.catplot(data = AUC, kind = 'box', orient = 'h')\n",
    "plt.axvline(x = 0.5, linestyle = 'dashed')\n",
    "plt.show()"
   ]
  },
  {
   "cell_type": "code",
   "execution_count": 221,
   "id": "norman-swiss",
   "metadata": {},
   "outputs": [
    {
     "name": "stdout",
     "output_type": "stream",
     "text": [
      "AUC wSMI = 0.4820273243897983\n",
      "AUC p_e = 0.5085107171050414\n",
      "AUC k = 0.5768869036975027\n",
      "AUC b = 0.5192308090064183\n",
      "AUC b_n = 0.5572552687561912\n",
      "AUC g = 0.5350697902162674\n",
      "AUC g_n = 0.579103508189301\n",
      "AUC t = 0.48381255844118726\n",
      "AUC t_n = 0.5076050699891339\n",
      "AUC d = 0.4797993551142368\n",
      "AUC d_n = 0.5535039856753514\n",
      "AUC a_n = 0.49200934615986663\n",
      "AUC a = 0.5012866448613622\n",
      "AUC CNV = 0.4743124149699118\n",
      "AUC P1 = 0.5018387375598529\n",
      "AUC P3a = 0.48120646099961056\n",
      "AUC P3b = 0.5251134002726138\n"
     ]
    }
   ],
   "source": [
    "markers = df_mind.drop('mind2', axis = 1).columns\n",
    "\n",
    "n_estimators = 2000\n",
    "AUC = pd.DataFrame()\n",
    "for i in markers:\n",
    "    \n",
    "    y, label = pd.factorize(df_mind['mind2'])\n",
    "    X = df_mind[i].astype('float32').values.reshape(-1,1)\n",
    "    \n",
    "    doc_forest = make_pipeline(\n",
    "        RobustScaler(),\n",
    "        ExtraTreesClassifier(\n",
    "            n_estimators=n_estimators, max_features=1, criterion='entropy',\n",
    "            max_depth=4, random_state=42, class_weight='balanced'))\n",
    "\n",
    "    cv = GroupShuffleSplit(n_splits=50, train_size=0.8, test_size=0.2,\n",
    "                           random_state=42)\n",
    "\n",
    "    aucs = cross_val_score(\n",
    "        X=X, y=y, estimator=doc_forest,\n",
    "        scoring='roc_auc', cv=cv, groups=np.arange(len(X)))\n",
    "\n",
    "    AUC[i] = aucs\n",
    "\n",
    "#     print(label)\n",
    "    print(f'AUC {i} = {np.mean(aucs)}')"
   ]
  },
  {
   "cell_type": "code",
   "execution_count": 222,
   "id": "executive-framing",
   "metadata": {},
   "outputs": [
    {
     "data": {
      "image/png": "[encoded data removed]",
      "text/plain": [
       "<Figure size 360x360 with 1 Axes>"
      ]
     },
     "metadata": {
      "needs_background": "light"
     },
     "output_type": "display_data"
    }
   ],
   "source": [
    "sns.catplot(data = AUC, kind = 'box', orient = 'h')\n",
    "plt.axvline(x = 0.5, linestyle = 'dashed')\n",
    "plt.show()"
   ]
  },
  {
   "cell_type": "markdown",
   "id": "false-address",
   "metadata": {},
   "source": [
    "# Univariate analysis: dMW Vs sMW\n",
    "This will be only performed in SC as they have more trials"
   ]
  },
  {
   "cell_type": "code",
   "execution_count": 66,
   "id": "satisfied-preparation",
   "metadata": {},
   "outputs": [],
   "source": [
    "df_mw = (\n",
    "    df_markers\n",
    "    .query(\"probe == 'SC'\")\n",
    "    .query(\"mind != 'on-task'\")\n",
    "    .drop(['participant', 'probe'], axis = 1)\n",
    ")"
   ]
  },
  {
   "cell_type": "code",
   "execution_count": 224,
   "id": "protective-cycling",
   "metadata": {},
   "outputs": [
    {
     "name": "stdout",
     "output_type": "stream",
     "text": [
      "AUC wSMI = 0.48811850136305523\n",
      "AUC p_e = 0.4137260172940856\n",
      "AUC k = 0.5191409305996408\n",
      "AUC b = 0.42768397798433266\n",
      "AUC b_n = 0.490851504530306\n",
      "AUC g = 0.47921383940418466\n",
      "AUC g_n = 0.5319525291480129\n",
      "AUC t = 0.457524719376062\n",
      "AUC t_n = 0.504772416312548\n",
      "AUC d = 0.48966163146158803\n",
      "AUC d_n = 0.5619276805315743\n",
      "AUC a_n = 0.4289832745720421\n",
      "AUC a = 0.4127317279955334\n",
      "AUC CNV = 0.5166944102675448\n",
      "AUC P1 = 0.5171234883183932\n",
      "AUC P3a = 0.5474432807066519\n",
      "AUC P3b = 0.5199667766071472\n"
     ]
    },
    {
     "data": {
      "image/png": "[encoded data removed]",
      "text/plain": [
       "<Figure size 360x360 with 1 Axes>"
      ]
     },
     "metadata": {
      "needs_background": "light"
     },
     "output_type": "display_data"
    }
   ],
   "source": [
    "markers = df_mw.drop('mind', axis = 1).columns\n",
    "\n",
    "AUC = []\n",
    "for i in markers:\n",
    "    auc = roc_auc_score(df_mw['mind'], df_mw[i])\n",
    "    print(f'AUC {i} = {auc}')\n",
    "    AUC.append([i, auc])\n",
    "df_auc = pd.DataFrame(AUC, columns = ['marker', 'AUC'])\n",
    "\n",
    "sns.catplot(x = 'AUC', y = 'marker', data = df_auc, orient = 'h')\n",
    "plt.axvline(x = 0.5, linestyle = 'dashed')\n",
    "plt.show()"
   ]
  },
  {
   "cell_type": "code",
   "execution_count": 223,
   "id": "muslim-letters",
   "metadata": {},
   "outputs": [
    {
     "name": "stdout",
     "output_type": "stream",
     "text": [
      "AUC wSMI = 0.5143342660580114\n",
      "AUC p_e = 0.5785466072763985\n",
      "AUC k = 0.5391837358480911\n",
      "AUC b = 0.6046043693914409\n",
      "AUC b_n = 0.5318217858023713\n",
      "AUC g = 0.5548606716478324\n",
      "AUC g_n = 0.5546905795405731\n",
      "AUC t = 0.5341408527832584\n",
      "AUC t_n = 0.5182317507856701\n",
      "AUC d = 0.4911585068841249\n",
      "AUC d_n = 0.5534022658043775\n",
      "AUC a_n = 0.5674706896241056\n",
      "AUC a = 0.5871223412772264\n",
      "AUC CNV = 0.5317990013227547\n",
      "AUC P1 = 0.5051494898105324\n",
      "AUC P3a = 0.5322790302695809\n",
      "AUC P3b = 0.5183271682774749\n"
     ]
    },
    {
     "data": {
      "image/png": "[encoded data removed]",
      "text/plain": [
       "<Figure size 360x360 with 1 Axes>"
      ]
     },
     "metadata": {
      "needs_background": "light"
     },
     "output_type": "display_data"
    }
   ],
   "source": [
    "markers = df_mw.drop('mind', axis = 1).columns\n",
    "\n",
    "AUC = pd.DataFrame()\n",
    "for i in markers:\n",
    "    \n",
    "    y, label = pd.factorize(df_mw['mind'])\n",
    "    X = df_mw[i].astype('float32').values.reshape(-1,1)\n",
    "    \n",
    "    steps = [('scaler', StandardScaler()), ('SVM', SVC(probability=True))]\n",
    "    pipe = Pipeline(steps)\n",
    "    \n",
    "#     parameteres = {'SVM__C':[0.001,0.1,10,100,10e5], 'SVM__gamma':[0.1,0.01]}\n",
    "#     grid = GridSearchCV(pipe, param_grid=parameteres, cv=5, n_jobs = -1)\n",
    "#     grid.fit(X, y)      \n",
    "#     steps = [('scaler', StandardScaler()), ('SVM', SVC(C =grid.best_params_['SVM__C'], gamma =grid.best_params_['SVM__gamma'], probability=True))]\n",
    "#     pipe = Pipeline(steps)\n",
    "    \n",
    "    cv = GroupShuffleSplit(n_splits=50, train_size=0.8, test_size=0.2,\n",
    "        random_state=42)\n",
    "\n",
    "    aucs = cross_val_score(\n",
    "    X=X, y=y, estimator=pipe,\n",
    "    scoring='roc_auc', cv=cv, groups=np.arange(len(X)))\n",
    "\n",
    "    AUC[i] = aucs\n",
    "\n",
    "#     print(label)\n",
    "    print(f'AUC {i} = {np.mean(aucs)}')\n",
    "    \n",
    "    \n",
    "sns.catplot(data = AUC, kind = 'box', orient = 'h')\n",
    "plt.axvline(x = 0.5, linestyle = 'dashed')\n",
    "plt.show()"
   ]
  }
 ],
 "metadata": {
  "kernelspec": {
   "display_name": "Python 3",
   "language": "python",
   "name": "python3"
  },
  "language_info": {
   "codemirror_mode": {
    "name": "ipython",
    "version": 3
   },
   "file_extension": ".py",
   "mimetype": "text/x-python",
   "name": "python",
   "nbconvert_exporter": "python",
   "pygments_lexer": "ipython3",
   "version": "3.7.4"
  }
 },
 "nbformat": 4,
 "nbformat_minor": 5
}
