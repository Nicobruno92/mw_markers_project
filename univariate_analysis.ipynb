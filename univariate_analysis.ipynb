{
 "cells": [
  {
   "cell_type": "code",
   "execution_count": 51,
   "id": "alike-agenda",
   "metadata": {},
   "outputs": [],
   "source": [
    "import numpy as np\n",
    "import seaborn as sns\n",
    "import pandas as pd \n",
    "import matplotlib.pyplot as plt\n",
    "from sklearn.metrics import roc_auc_score\n",
    "from sklearn.svm import SVC"
   ]
  },
  {
   "cell_type": "code",
   "execution_count": 16,
   "id": "green-script",
   "metadata": {},
   "outputs": [],
   "source": [
    "epoch_type = 'evoked'\n",
    "# epoch_type = 'pseudo-rs'\n",
    "\n",
    "all_participants = ['VP07','VP08','VP09', 'VP10','VP11','VP12','VP13','VP14','VP18','VP19','VP20','VP22','VP23','VP24','VP25','VP26','VP27','VP28','VP29','VP30','VP31','VP32','VP33','VP35','VP36','VP37']\n",
    "\n",
    "# path = '/media/nicolas.bruno/63f8a366-34b7-4896-a7ce-b5fb4ee78535/Nico/MW_eeg_data/minmarker/' #icm-linux\n",
    "path = '/Users/nicobruno/ownCloud/MW_eeg_data/minmarker/' #nico-mac"
   ]
  },
  {
   "cell_type": "code",
   "execution_count": 6,
   "id": "republican-argument",
   "metadata": {},
   "outputs": [],
   "source": [
    "df_markers = pd.DataFrame()\n",
    "\n",
    "for i,v in enumerate(all_participants): \n",
    "    participant = v\n",
    "    \n",
    "    folder = path + participant +'/'\n",
    "    \n",
    "    df_ = pd.read_csv(folder+ participant + '_' + epoch_type + '_all_marker.csv', index_col = 0)\n",
    "    df_['participant'] = i\n",
    "    df_markers = df_markers.append(df_)\n",
    "    \n",
    "df_markers.to_csv('all_markers.csv')"
   ]
  },
  {
   "cell_type": "markdown",
   "id": "frozen-bouquet",
   "metadata": {},
   "source": [
    "# Univariate analysis: On-task Vs Mind- Wandering\n",
    "This can only be performed for PC probes  as they are the only ones with On-task reports."
   ]
  },
  {
   "cell_type": "code",
   "execution_count": 49,
   "id": "wanted-atlas",
   "metadata": {},
   "outputs": [],
   "source": [
    "df_mind = (\n",
    "    df_markers\n",
    "    .query(\"probe == 'PC'\")\n",
    "    .assign(\n",
    "    mind2 = lambda df: np.where(df.mind == 'on-task', 'on-task', 'mw')\n",
    "    )\n",
    "#     .query(\"mind != 'dMW'\") #if you want to test against just one of the mw\n",
    "    .drop(['participant', 'probe', 'mind'], axis = 1) # drop mind or mind2 also\n",
    ")"
   ]
  },
  {
   "cell_type": "code",
   "execution_count": 50,
   "id": "employed-asset",
   "metadata": {},
   "outputs": [
    {
     "name": "stdout",
     "output_type": "stream",
     "text": [
      "AUC wSMI = 0.5359910293094114\n",
      "AUC p_e = 0.4982445286520764\n",
      "AUC k = 0.48337328899543736\n",
      "AUC b = 0.47190472507926695\n",
      "AUC b_n = 0.4428273142061712\n",
      "AUC g = 0.5059701492537313\n",
      "AUC g_n = 0.507424019797386\n",
      "AUC t = 0.5283040754775346\n",
      "AUC t_n = 0.563026834738226\n",
      "AUC d = 0.4825999535998763\n",
      "AUC d_n = 0.4729796612790968\n",
      "AUC a_n = 0.49499651999072\n",
      "AUC a = 0.4967442579846879\n",
      "AUC CNV = 0.5209496558657489\n",
      "AUC P1 = 0.5202381873018329\n",
      "AUC P3a = 0.4875957002552007\n",
      "AUC P3b = 0.5717655247080659\n"
     ]
    }
   ],
   "source": [
    "markers = df_mind.drop('mind2', axis = 1).columns\n",
    "for i in markers:\n",
    "    auc = roc_auc_score(df_mind['mind2'], df_mind[i])\n",
    "    print(f'AUC {i} = {auc}')"
   ]
  },
  {
   "cell_type": "code",
   "execution_count": 29,
   "id": "usual-growth",
   "metadata": {},
   "outputs": [],
   "source": [
    "label = pd.factorize(df_mind['mind2'])\n",
    "feature = df_mind[].astype('float32').values"
   ]
  },
  {
   "cell_type": "code",
   "execution_count": null,
   "id": "future-rochester",
   "metadata": {},
   "outputs": [],
   "source": []
  },
  {
   "cell_type": "raw",
   "id": "agreed-court",
   "metadata": {},
   "source": [
    "markers = df_mind.drop('mind2', axis = 1).columns\n",
    "for i in markers:\n",
    "    y = pd.factorize(df_mind['mind2'])\n",
    "    X = df_mind[i].astype('float32').values\n",
    "    svc = SVC()\n",
    "    svc.fit(X, y)\n",
    "    y_proba = svc.predict_proba(X)\n",
    "    print(roc_auc_score(y, y_proba))"
   ]
  },
  {
   "cell_type": "code",
   "execution_count": null,
   "id": "continuous-carter",
   "metadata": {},
   "outputs": [],
   "source": [
    "# NOTE: It was 2000 in the paper. Bnut we want to save time.\n",
    "n_estimators = 2000\n",
    "doc_forest = make_pipeline(\n",
    "    RobustScaler(),\n",
    "    ExtraTreesClassifier(\n",
    "        n_estimators=n_estimators, max_features=1, criterion='entropy',\n",
    "        max_depth=4, random_state=42, class_weight='balanced'))\n",
    "\n",
    "cv = GroupShuffleSplit(n_splits=50, train_size=0.8, test_size=0.2,\n",
    "                       random_state=42)\n",
    "\n",
    "aucs = cross_val_score(\n",
    "    X=X, y=y, estimator=doc_forest,\n",
    "    scoring='roc_auc', cv=cv, groups=np.arange(len(epochs)))\n",
    "\n"
   ]
  }
 ],
 "metadata": {
  "kernelspec": {
   "display_name": "Python 3",
   "language": "python",
   "name": "python3"
  },
  "language_info": {
   "codemirror_mode": {
    "name": "ipython",
    "version": 3
   },
   "file_extension": ".py",
   "mimetype": "text/x-python",
   "name": "python",
   "nbconvert_exporter": "python",
   "pygments_lexer": "ipython3",
   "version": "3.8.8"
  }
 },
 "nbformat": 4,
 "nbformat_minor": 5
}
