{
 "cells": [
  {
   "cell_type": "code",
   "execution_count": 158,
   "id": "headed-radical",
   "metadata": {},
   "outputs": [],
   "source": [
    "import numpy as np\n",
    "import seaborn as sns\n",
    "import pandas as pd \n",
    "import matplotlib.pyplot as plt\n",
    "from sklearn.metrics import roc_auc_score\n",
    "from sklearn.svm import SVC\n",
    "from sklearn.preprocessing import StandardScaler\n",
    "from sklearn.pipeline import Pipeline\n",
    "from sklearn.model_selection import GridSearchCV, train_test_split"
   ]
  },
  {
   "cell_type": "code",
   "execution_count": 26,
   "id": "organic-regard",
   "metadata": {},
   "outputs": [],
   "source": [
    "epoch_type = 'evoked'\n",
    "# epoch_type = 'pseudo-rs'\n",
    "\n",
    "all_participants = ['VP07','VP08','VP09', 'VP10','VP11','VP12','VP13','VP14','VP18','VP19','VP20','VP22','VP23','VP24','VP25','VP26','VP27','VP28','VP29','VP30','VP31','VP32','VP33','VP35','VP36','VP37']\n",
    "\n",
    "path = '/media/nicolas.bruno/63f8a366-34b7-4896-a7ce-b5fb4ee78535/Nico/MW_eeg_data/minmarker/' #icm-linux\n",
    "# path = '/Users/nicobruno/ownCloud/MW_eeg_data/minmarker/' #nico-mac"
   ]
  },
  {
   "cell_type": "code",
   "execution_count": 51,
   "id": "chubby-level",
   "metadata": {},
   "outputs": [],
   "source": [
    "df_markers = pd.DataFrame()\n",
    "\n",
    "for i,v in enumerate(all_participants): \n",
    "    participant = v\n",
    "    \n",
    "    folder = path + participant +'/'\n",
    "    \n",
    "    df_ = pd.read_csv(folder+ participant + '_' + epoch_type + '_all_marker.csv', index_col = 0)\n",
    "    df_['participant'] = i\n",
    "    df_markers = df_markers.append(df_)\n",
    "    \n",
    "df_markers.to_csv('all_markers.csv')"
   ]
  },
  {
   "cell_type": "markdown",
   "id": "single-reader",
   "metadata": {},
   "source": [
    "# Univariate analysis: On-task Vs Mind- Wandering\n",
    "This can only be performed for PC probes  as they are the only ones with On-task reports."
   ]
  },
  {
   "cell_type": "code",
   "execution_count": 147,
   "id": "reduced-afghanistan",
   "metadata": {},
   "outputs": [],
   "source": [
    "df_mind = (\n",
    "    df_markers\n",
    "    .query(\"probe == 'PC'\")\n",
    "    .assign(\n",
    "    mind2 = lambda df: np.where(df.mind == 'on-task', 'on-task', 'mw'))\n",
    "    .query(\"mind != 'sMW'\") #if you want to test against just one of the mw\n",
    "    .drop(['participant', 'probe', 'mind'], axis = 1) # drop mind or mind2 also\n",
    ")"
   ]
  },
  {
   "cell_type": "code",
   "execution_count": 148,
   "id": "valued-sharing",
   "metadata": {},
   "outputs": [
    {
     "name": "stdout",
     "output_type": "stream",
     "text": [
      "AUC wSMI = 0.5467684755931279\n",
      "AUC p_e = 0.5368602854285973\n",
      "AUC k = 0.52267218131685\n",
      "AUC b = 0.4734721085961882\n",
      "AUC b_n = 0.4415962185255886\n",
      "AUC g = 0.5375268914947126\n",
      "AUC g_n = 0.5631457746265491\n",
      "AUC t = 0.49943944489894854\n",
      "AUC t_n = 0.5350877192982457\n",
      "AUC d = 0.46039753961761054\n",
      "AUC d_n = 0.44747447201769536\n",
      "AUC a_n = 0.514756234281732\n",
      "AUC a = 0.5035602823985699\n",
      "AUC CNV = 0.493273338787383\n",
      "AUC P1 = 0.538208647698694\n",
      "AUC P3a = 0.4902281610762658\n",
      "AUC P3b = 0.5513741175044693\n"
     ]
    },
    {
     "data": {
      "image/png": "[encoded data removed]",
      "text/plain": [
       "<Figure size 360x360 with 1 Axes>"
      ]
     },
     "metadata": {
      "needs_background": "light"
     },
     "output_type": "display_data"
    }
   ],
   "source": [
    "markers = df_mind.drop('mind2', axis = 1).columns\n",
    "\n",
    "AUC = []\n",
    "for i in markers:\n",
    "    auc = roc_auc_score(df_mind['mind2'], df_mind[i])\n",
    "    print(f'AUC {i} = {auc}')\n",
    "    AUC.append([i, auc])\n",
    "df_auc = pd.DataFrame(AUC, columns = ['marker', 'AUC'])\n",
    "\n",
    "sns.catplot(x = 'AUC', y = 'marker', data = df_auc, orient = 'h')\n",
    "plt.axvline(x = 0.5, linestyle = 'dashed')\n",
    "plt.show()"
   ]
  },
  {
   "cell_type": "code",
   "execution_count": null,
   "id": "suburban-cache",
   "metadata": {},
   "outputs": [],
   "source": [
    "markers = df_mind.drop('mind2', axis = 1).columns\n",
    "\n",
    "AUC = []\n",
    "for i in markers:\n",
    "    y, label = pd.factorize(df_mind['mind2'])\n",
    "    X = df_mind[i].astype('float32').values.reshape(-1,1)\n",
    "    svc = SVC(probability=True)\n",
    "    svc.fit(X, y)\n",
    "    y_proba = svc.predict_proba(X)\n",
    "    auc = roc_auc_score(y, y_proba[:,0])\n",
    "    print(f'AUC {i} = {auc}')\n",
    "    AUC.append([i, auc])\n",
    "\n",
    "print(label)\n",
    "df_auc = pd.DataFrame(AUC, columns = ['marker', 'AUC'])\n",
    "\n",
    "sns.catplot(x = 'AUC', y = 'marker', data = df_auc, orient = 'h')\n",
    "plt.axvline(x = 0.5, linestyle = 'dashed')\n",
    "plt.show()"
   ]
  },
  {
   "cell_type": "code",
   "execution_count": 160,
   "id": "divine-struggle",
   "metadata": {},
   "outputs": [
    {
     "name": "stdout",
     "output_type": "stream",
     "text": [
      "{'SVM__C': 0.001, 'SVM__gamma': 0.1}\n",
      "AUC wSMI = 0.643288084464555\n",
      "{'SVM__C': 0.001, 'SVM__gamma': 0.1}\n",
      "AUC p_e = 0.5165912518853696\n",
      "{'SVM__C': 1000000.0, 'SVM__gamma': 0.1}\n",
      "AUC k = 0.6304675716440422\n",
      "{'SVM__C': 1000000.0, 'SVM__gamma': 0.01}\n",
      "AUC b = 0.3996983408748115\n",
      "{'SVM__C': 0.001, 'SVM__gamma': 0.1}\n",
      "AUC b_n = 0.37669683257918557\n",
      "{'SVM__C': 10, 'SVM__gamma': 0.1}\n",
      "AUC g = 0.39366515837104077\n",
      "{'SVM__C': 0.001, 'SVM__gamma': 0.1}\n",
      "AUC g_n = 0.5546757164404224\n",
      "{'SVM__C': 0.001, 'SVM__gamma': 0.1}\n",
      "AUC t = 0.448340874811463\n",
      "{'SVM__C': 0.001, 'SVM__gamma': 0.1}\n",
      "AUC t_n = 0.5407239819004525\n",
      "{'SVM__C': 0.001, 'SVM__gamma': 0.1}\n",
      "AUC d = 0.5350678733031674\n",
      "{'SVM__C': 0.001, 'SVM__gamma': 0.1}\n",
      "AUC d_n = 0.41968325791855204\n",
      "{'SVM__C': 0.001, 'SVM__gamma': 0.1}\n",
      "AUC a_n = 0.4777526395173454\n",
      "{'SVM__C': 0.001, 'SVM__gamma': 0.1}\n",
      "AUC a = 0.5697586726998493\n",
      "{'SVM__C': 100, 'SVM__gamma': 0.1}\n",
      "AUC CNV = 0.5739064856711916\n",
      "{'SVM__C': 0.001, 'SVM__gamma': 0.1}\n",
      "AUC P1 = 0.49962292609351433\n",
      "{'SVM__C': 0.001, 'SVM__gamma': 0.1}\n",
      "AUC P3a = 0.5833333333333334\n",
      "{'SVM__C': 0.001, 'SVM__gamma': 0.1}\n",
      "AUC P3b = 0.4585218702865762\n",
      "Index(['mw', 'on-task'], dtype='object')\n"
     ]
    },
    {
     "data": {
      "image/png": "[encoded data removed]",
      "text/plain": [
       "<Figure size 360x360 with 1 Axes>"
      ]
     },
     "metadata": {
      "needs_background": "light"
     },
     "output_type": "display_data"
    }
   ],
   "source": [
    "markers = df_mind.drop('mind2', axis = 1).columns\n",
    "\n",
    "AUC = []\n",
    "for i in markers:\n",
    "    y, label = pd.factorize(df_mind['mind2'])\n",
    "    X = df_mind[i].astype('float32').values.reshape(-1,1)\n",
    "    steps = [('scaler', StandardScaler()), ('SVM', SVC(probability=True))]\n",
    "    pipe = Pipeline(steps)\n",
    "    X_train, X_test, y_train, y_test = train_test_split(X,y,test_size=0.2, random_state=42, stratify=y)\n",
    "    parameteres = {'SVM__C':[0.001,0.1,10,100,10e5], 'SVM__gamma':[0.1,0.01]}\n",
    "    grid = GridSearchCV(pipe, param_grid=parameteres, cv=5)\n",
    "    grid.fit(X_train, y_train)\n",
    "    y_proba = grid.predict_proba(X_test)\n",
    "    auc = roc_auc_score(y_test, y_proba[:,0])\n",
    "    print(grid.best_params_)\n",
    "    print(f'AUC {i} = {auc}')\n",
    "    AUC.append([i, auc])\n",
    "\n",
    "print(label)\n",
    "df_auc = pd.DataFrame(AUC, columns = ['marker', 'AUC'])\n",
    "\n",
    "sns.catplot(x = 'AUC', y = 'marker', data = df_auc, orient = 'h')\n",
    "plt.axvline(x = 0.5, linestyle = 'dashed')\n",
    "plt.show()"
   ]
  },
  {
   "cell_type": "markdown",
   "id": "polyphonic-closer",
   "metadata": {},
   "source": [
    "# Univariate analysis: dMW Vs sMW\n",
    "This will be only performed in SC as they have more trials"
   ]
  },
  {
   "cell_type": "code",
   "execution_count": 157,
   "id": "political-monkey",
   "metadata": {},
   "outputs": [],
   "source": [
    "df_mw = (\n",
    "    df_markers\n",
    "    .query(\"probe == 'SC'\")\n",
    "    .query(\"mind != 'on-task'\")\n",
    "    .drop(['participant', 'probe'], axis = 1)\n",
    ")"
   ]
  },
  {
   "cell_type": "code",
   "execution_count": 155,
   "id": "aerial-saver",
   "metadata": {},
   "outputs": [
    {
     "name": "stdout",
     "output_type": "stream",
     "text": [
      "AUC wSMI = 0.4978568548061878\n",
      "AUC p_e = 0.43689513332150404\n",
      "AUC k = 0.5276337651025116\n",
      "AUC b = 0.4377739422192829\n",
      "AUC b_n = 0.49214008033165035\n",
      "AUC g = 0.4914464536318617\n",
      "AUC g_n = 0.5434336134724889\n",
      "AUC t = 0.45527462778055583\n",
      "AUC t_n = 0.4958792121691159\n",
      "AUC d = 0.4852005871630668\n",
      "AUC d_n = 0.5460074524543094\n",
      "AUC a_n = 0.4444592131369671\n",
      "AUC a = 0.42691723259077635\n",
      "AUC CNV = 0.5147516655106221\n",
      "AUC P1 = 0.512903069701418\n",
      "AUC P3a = 0.5384285322536415\n",
      "AUC P3b = 0.5195289790782831\n"
     ]
    },
    {
     "data": {
      "image/png": "[encoded data removed]",
      "text/plain": [
       "<Figure size 360x360 with 1 Axes>"
      ]
     },
     "metadata": {
      "needs_background": "light"
     },
     "output_type": "display_data"
    }
   ],
   "source": [
    "markers = df_mw.drop('mind', axis = 1).columns\n",
    "\n",
    "AUC = []\n",
    "for i in markers:\n",
    "    auc = roc_auc_score(df_mw['mind'], df_mw[i])\n",
    "    print(f'AUC {i} = {auc}')\n",
    "    AUC.append([i, auc])\n",
    "df_auc = pd.DataFrame(AUC, columns = ['marker', 'AUC'])\n",
    "\n",
    "sns.catplot(x = 'AUC', y = 'marker', data = df_auc, orient = 'h')\n",
    "plt.axvline(x = 0.5, linestyle = 'dashed')\n",
    "plt.show()"
   ]
  },
  {
   "cell_type": "code",
   "execution_count": 156,
   "id": "european-cowboy",
   "metadata": {},
   "outputs": [
    {
     "name": "stdout",
     "output_type": "stream",
     "text": [
      "AUC wSMI = 0.5281260787508267\n",
      "AUC p_e = 0.5567728614520995\n",
      "AUC k = 0.5506102301872792\n",
      "AUC b = 0.5795505944219509\n",
      "AUC b_n = 0.5429709805945833\n",
      "AUC g = 0.5595612407852499\n",
      "AUC g_n = 0.5694033197296469\n",
      "AUC t = 0.5406326520736212\n",
      "AUC t_n = 0.5340561031084154\n",
      "AUC d = 0.5015475940832029\n",
      "AUC d_n = 0.5410014033842531\n",
      "AUC a_n = 0.5590953817366477\n",
      "AUC a = 0.5730576032777894\n",
      "AUC CNV = 0.547607955736938\n",
      "AUC P1 = 0.4655344958301743\n",
      "AUC P3a = 0.5414579065378349\n",
      "AUC P3b = 0.46374719726420727\n",
      "Index(['dMW', 'sMW'], dtype='object')\n"
     ]
    },
    {
     "data": {
      "image/png": "[encoded data removed]",
      "text/plain": [
       "<Figure size 360x360 with 1 Axes>"
      ]
     },
     "metadata": {
      "needs_background": "light"
     },
     "output_type": "display_data"
    }
   ],
   "source": [
    "markers = df_mw.drop('mind', axis = 1).columns\n",
    "\n",
    "AUC = []\n",
    "for i in markers:\n",
    "    y, label = pd.factorize(df_mw['mind'])\n",
    "    X = df_mw[i].astype('float32').values.reshape(-1,1)\n",
    "    svc = SVC(probability=True)\n",
    "    svc.fit(X, y)\n",
    "    y_proba = svc.predict_proba(X)\n",
    "    auc = roc_auc_score(y, y_proba[:,1])\n",
    "    print(f'AUC {i} = {auc}')\n",
    "    AUC.append([i, auc])\n",
    "print(label)\n",
    "df_auc = pd.DataFrame(AUC, columns = ['marker', 'AUC'])\n",
    "\n",
    "sns.catplot(x = 'AUC', y = 'marker', data = df_auc, orient = 'h')\n",
    "plt.axvline(x = 0.5, linestyle = 'dashed')\n",
    "plt.show()"
   ]
  },
  {
   "cell_type": "code",
   "execution_count": null,
   "id": "apart-investigator",
   "metadata": {},
   "outputs": [],
   "source": []
  }
 ],
 "metadata": {
  "kernelspec": {
   "display_name": "Python 3",
   "language": "python",
   "name": "python3"
  },
  "language_info": {
   "codemirror_mode": {
    "name": "ipython",
    "version": 3
   },
   "file_extension": ".py",
   "mimetype": "text/x-python",
   "name": "python",
   "nbconvert_exporter": "python",
   "pygments_lexer": "ipython3",
   "version": "3.7.4"
  }
 },
 "nbformat": 4,
 "nbformat_minor": 5
}
