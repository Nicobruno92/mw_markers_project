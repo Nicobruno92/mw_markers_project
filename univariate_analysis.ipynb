{
 "cells": [
  {
   "cell_type": "code",
   "execution_count": 24,
   "id": "suburban-saver",
   "metadata": {},
   "outputs": [],
   "source": [
    "from utils import balance_sample\n",
    "\n",
    "import numpy as np\n",
    "import seaborn as sns\n",
    "import pandas as pd \n",
    "import matplotlib.pyplot as plt\n",
    "from sklearn.metrics import roc_auc_score\n",
    "from sklearn.svm import SVC\n",
    "from sklearn.preprocessing import StandardScaler, RobustScaler\n",
    "from sklearn.pipeline import Pipeline, make_pipeline\n",
    "from sklearn.model_selection import (\n",
    "    GridSearchCV,\n",
    "    train_test_split,\n",
    "    cross_val_score,\n",
    "    GroupShuffleSplit,\n",
    "    permutation_test_score,\n",
    "    StratifiedKFold,\n",
    ")\n",
    "from sklearn.ensemble import ExtraTreesClassifier\n",
    "\n",
    "from scipy.stats import wilcoxon, mannwhitneyu"
   ]
  },
  {
   "cell_type": "markdown",
   "id": "julian-chorus",
   "metadata": {},
   "source": [
    "# Load Data"
   ]
  },
  {
   "cell_type": "code",
   "execution_count": 2,
   "id": "polish-trial",
   "metadata": {},
   "outputs": [],
   "source": [
    "epoch_type = 'evoked'\n",
    "# epoch_type = 'pseudo-rs'\n",
    "\n",
    "all_participants = ['VP07','VP08','VP09', 'VP10','VP11','VP12','VP13','VP14','VP18','VP19','VP20','VP22','VP23','VP24','VP25','VP26','VP27','VP28','VP29','VP30','VP31','VP32','VP33','VP35','VP36','VP37']\n",
    "\n",
    "path = '/media/nicolas.bruno/63f8a366-34b7-4896-a7ce-b5fb4ee78535/Nico/MW_eeg_data/minmarker/' #icm-linux\n",
    "# path = '/Users/nicobruno/ownCloud/MW_eeg_data/minmarker/' #nico-mac"
   ]
  },
  {
   "cell_type": "code",
   "execution_count": 3,
   "id": "hydraulic-blind",
   "metadata": {},
   "outputs": [],
   "source": [
    "df = pd.DataFrame()\n",
    "\n",
    "for i,v in enumerate(all_participants): \n",
    "    participant = v\n",
    "    \n",
    "    folder = path + participant +'/'\n",
    "    \n",
    "    df_ = pd.read_csv(folder+ participant + '_' + epoch_type + '_all_marker.csv', index_col = 0)\n",
    "    df_['participant'] = i\n",
    "    df = df.append(df_)\n",
    "    \n",
    "df.to_csv('all_markers.csv')"
   ]
  },
  {
   "cell_type": "code",
   "execution_count": 4,
   "id": "aggregate-pregnancy",
   "metadata": {},
   "outputs": [],
   "source": [
    "df_markers = (df\n",
    "              .query(\"stimuli == 'go'\")\n",
    "              .query(\"correct == 'correct'\")\n",
    "              .query(\"preproc == 'subtracted'\")\n",
    "            .query('prev_trial <= 4')\n",
    "              .drop(['stimuli', 'correct', 'prev_trial', 'label', 'events', 'preproc', 'epoch_type'], axis = 1)\n",
    "              .query(\"mind in ['on-task','dMW', 'sMW']\")\n",
    "              .groupby(['segment', 'participant']).filter(lambda x: len(x) > 1)\n",
    "             )\n",
    "\n",
    "markers = ['wSMI', 'p_e', 'k', 'b', 'b_n', 'g', 'g_n', 't', 't_n',\n",
    "       'd', 'd_n', 'a_n', 'a', 'CNV', 'P1', 'P3a', 'P3b']"
   ]
  },
  {
   "cell_type": "markdown",
   "id": "portable-provider",
   "metadata": {},
   "source": [
    "# By Subject Univariate analyses "
   ]
  },
  {
   "cell_type": "markdown",
   "id": "bigger-defense",
   "metadata": {},
   "source": [
    "## On-task Vs Mind- Wandering\n",
    "This can only be performed for PC probes  as they are the only ones with On-task reports."
   ]
  },
  {
   "cell_type": "code",
   "execution_count": 5,
   "id": "broad-authentication",
   "metadata": {},
   "outputs": [],
   "source": [
    "df_mind = (\n",
    "    df_markers\n",
    "    .query(\"probe == 'PC'\")\n",
    "    .assign(\n",
    "    mind2 = lambda df: np.where(df.mind == 'on-task', 'on-task', 'mw'))\n",
    "    .groupby(['mind2', 'participant']).filter(lambda x: len(x) > 7) #min nbr of trials\n",
    ")\n",
    "\n",
    "agg_dict = {k:['mean', 'std'] for k in markers }\n",
    "agg_dict.update({k:'first' for k in df_mind.drop(markers, axis=1).columns})\n",
    "\n",
    "df_mind = (df_mind\n",
    "    .groupby(['mind2', 'participant'], as_index = False).agg(agg_dict)\n",
    "#     .query(\"mind != 'sMW'\") #if you want to test against just one of the mw\n",
    ")\n",
    "\n",
    "df_mind.columns = df_mind.columns.map(\"_\".join)\n",
    "df_mind  = df_mind.rename(columns = {'participant_first':'participant', 'probe_first':'probe', 'mind_first':'mind', 'segment_first':'segment', 'mind2_first':'mind2'})\n",
    "df_mind = balance_sample(df_mind, 'participant', 'mind2', levels = 2).drop(['participant', 'probe', 'mind', 'segment'], axis = 1) # drop mind or mind2 also"
   ]
  },
  {
   "cell_type": "code",
   "execution_count": 6,
   "id": "dietary-timeline",
   "metadata": {},
   "outputs": [
    {
     "name": "stdout",
     "output_type": "stream",
     "text": [
      "AUC wSMI_mean = 0.47916666666666674 WilcoxonResult(statistic=39.0, pvalue=1.0)\n",
      "AUC wSMI_std = 0.4722222222222222 WilcoxonResult(statistic=28.0, pvalue=0.423828125)\n",
      "AUC p_e_mean = 0.4930555555555556 WilcoxonResult(statistic=35.0, pvalue=0.791015625)\n",
      "AUC p_e_std = 0.4097222222222222 WilcoxonResult(statistic=24.0, pvalue=0.26611328125)\n",
      "AUC k_mean = 0.48611111111111116 WilcoxonResult(statistic=37.0, pvalue=0.90966796875)\n",
      "AUC k_std = 0.6041666666666666 WilcoxonResult(statistic=35.0, pvalue=0.791015625)\n",
      "AUC b_mean = 0.5069444444444444 WilcoxonResult(statistic=39.0, pvalue=1.0)\n",
      "AUC b_std = 0.22916666666666669 WilcoxonResult(statistic=10.0, pvalue=0.02099609375)\n",
      "AUC b_n_mean = 0.5069444444444444 WilcoxonResult(statistic=37.0, pvalue=0.90966796875)\n",
      "AUC b_n_std = 0.5347222222222222 WilcoxonResult(statistic=36.0, pvalue=0.85009765625)\n",
      "AUC g_mean = 0.4930555555555556 WilcoxonResult(statistic=37.0, pvalue=0.90966796875)\n",
      "AUC g_std = 0.36111111111111116 WilcoxonResult(statistic=25.0, pvalue=0.30126953125)\n",
      "AUC g_n_mean = 0.4722222222222222 WilcoxonResult(statistic=37.0, pvalue=0.90966796875)\n",
      "AUC g_n_std = 0.4375 WilcoxonResult(statistic=32.0, pvalue=0.6220703125)\n",
      "AUC t_mean = 0.5 WilcoxonResult(statistic=36.0, pvalue=0.85009765625)\n",
      "AUC t_std = 0.5625 WilcoxonResult(statistic=35.0, pvalue=0.791015625)\n",
      "AUC t_n_mean = 0.5277777777777777 WilcoxonResult(statistic=25.0, pvalue=0.30126953125)\n",
      "AUC t_n_std = 0.5347222222222223 WilcoxonResult(statistic=38.0, pvalue=0.9697265625)\n",
      "AUC d_mean = 0.4930555555555556 WilcoxonResult(statistic=38.0, pvalue=0.9697265625)\n",
      "AUC d_std = 0.5416666666666667 WilcoxonResult(statistic=36.0, pvalue=0.85009765625)\n",
      "AUC d_n_mean = 0.45138888888888884 WilcoxonResult(statistic=36.0, pvalue=0.85009765625)\n",
      "AUC d_n_std = 0.5625 WilcoxonResult(statistic=31.0, pvalue=0.5693359375)\n",
      "AUC a_n_mean = 0.4791666666666667 WilcoxonResult(statistic=27.0, pvalue=0.38037109375)\n",
      "AUC a_n_std = 0.48611111111111105 WilcoxonResult(statistic=36.0, pvalue=0.85009765625)\n",
      "AUC a_mean = 0.4652777777777778 WilcoxonResult(statistic=31.0, pvalue=0.5693359375)\n",
      "AUC a_std = 0.4652777777777778 WilcoxonResult(statistic=27.0, pvalue=0.38037109375)\n",
      "AUC CNV_mean = 0.6875000000000001 WilcoxonResult(statistic=18.0, pvalue=0.10986328125)\n",
      "AUC CNV_std = 0.5486111111111112 WilcoxonResult(statistic=34.0, pvalue=0.7333984375)\n",
      "AUC P1_mean = 0.4444444444444444 WilcoxonResult(statistic=38.0, pvalue=0.9697265625)\n",
      "AUC P1_std = 0.45138888888888884 WilcoxonResult(statistic=36.0, pvalue=0.85009765625)\n",
      "AUC P3a_mean = 0.6041666666666666 WilcoxonResult(statistic=32.0, pvalue=0.6220703125)\n",
      "AUC P3a_std = 0.45138888888888895 WilcoxonResult(statistic=37.0, pvalue=0.90966796875)\n",
      "AUC P3b_mean = 0.6666666666666666 WilcoxonResult(statistic=20.0, pvalue=0.1513671875)\n",
      "AUC P3b_std = 0.7152777777777778 WilcoxonResult(statistic=16.0, pvalue=0.0771484375)\n",
      "List of significant markers: ['b_std', 'P3b_std']\n"
     ]
    },
    {
     "data": {
      "image/png": "[encoded data removed]",
      "text/plain": [
       "<Figure size 360x360 with 1 Axes>"
      ]
     },
     "metadata": {
      "needs_background": "light"
     },
     "output_type": "display_data"
    }
   ],
   "source": [
    "AUC = []\n",
    "significants = []\n",
    "\n",
    "for i in df_mind.drop('mind2', axis = 1).columns:\n",
    "    ot = df_mind.query(\"mind2 == 'on-task'\")[i]\n",
    "    mw = df_mind.query(\"mind2 == 'mw'\")[i]\n",
    "    auc = roc_auc_score(df_mind['mind2'], df_mind[i])\n",
    "    print(f'AUC {i} = {auc}', f'{wilcoxon(x = ot, y = mw)}')\n",
    "    AUC.append([i, auc])\n",
    "    if mannwhitneyu(x = ot, y = mw).pvalue < 0.05:\n",
    "        significants.append(i)\n",
    "\n",
    "print(f'List of significant markers: {significants}')\n",
    "\n",
    "subject_mind_roc = pd.DataFrame(AUC, columns = ['marker', 'AUC'])\n",
    "\n",
    "sns.catplot(x = 'AUC', y = 'marker', data = subject_mind_roc, orient = 'h')\n",
    "plt.axvline(x = 0.5, linestyle = 'dashed')\n",
    "plt.show()"
   ]
  },
  {
   "cell_type": "code",
   "execution_count": 7,
   "id": "thorough-cotton",
   "metadata": {},
   "outputs": [
    {
     "name": "stdout",
     "output_type": "stream",
     "text": [
      "AUC wSMI_mean = 0.6597222222222222\n",
      "AUC wSMI_std = 0.6423611111111112\n",
      "AUC p_e_mean = 0.611111111111111\n",
      "AUC p_e_std = 0.6666666666666667\n",
      "AUC k_mean = 0.5833333333333334\n",
      "AUC k_std = 0.7430555555555556\n",
      "AUC b_mean = 0.5763888888888888\n",
      "AUC b_std = 0.20833333333333334\n",
      "AUC b_n_mean = 0.7777777777777778\n",
      "AUC b_n_std = 0.2048611111111111\n",
      "AUC g_mean = 0.6041666666666667\n",
      "AUC g_std = 0.6805555555555556\n",
      "AUC g_n_mean = 0.5902777777777778\n",
      "AUC g_n_std = 0.6388888888888888\n",
      "AUC t_mean = 0.5763888888888888\n",
      "AUC t_std = 0.7291666666666666\n",
      "AUC t_n_mean = 0.6736111111111112\n",
      "AUC t_n_std = 0.6458333333333334\n",
      "AUC d_mean = 0.5694444444444444\n",
      "AUC d_std = 0.7361111111111112\n",
      "AUC d_n_mean = 0.6388888888888888\n",
      "AUC d_n_std = 0.6111111111111112\n",
      "AUC a_n_mean = 0.5729166666666666\n",
      "AUC a_n_std = 0.7152777777777778\n",
      "AUC a_mean = 0.5833333333333334\n",
      "AUC a_std = 0.5902777777777778\n",
      "AUC CNV_mean = 0.6909722222222222\n",
      "AUC CNV_std = 0.6597222222222222\n",
      "AUC P1_mean = 0.7847222222222222\n",
      "AUC P1_std = 0.6458333333333334\n",
      "AUC P3a_mean = 0.7083333333333334\n",
      "AUC P3a_std = 0.2777777777777778\n",
      "AUC P3b_mean = 0.6875\n",
      "AUC P3b_std = 0.27083333333333337\n",
      "Index(['mw', 'on-task'], dtype='object')\n"
     ]
    },
    {
     "data": {
      "image/png": "[encoded data removed]",
      "text/plain": [
       "<Figure size 360x360 with 1 Axes>"
      ]
     },
     "metadata": {
      "needs_background": "light"
     },
     "output_type": "display_data"
    }
   ],
   "source": [
    "AUC = []\n",
    "for i in df_mind.drop('mind2', axis = 1).columns:\n",
    "    y, label = pd.factorize(df_mind['mind2'])\n",
    "    X = df_mind[i].astype('float32').values.reshape(-1,1)\n",
    "    svc = SVC(probability=True)\n",
    "    svc.fit(X, y)\n",
    "    y_proba = svc.predict_proba(X)\n",
    "    auc = roc_auc_score(y, y_proba[:,0])\n",
    "    print(f'AUC {i} = {auc}')\n",
    "    AUC.append([i, auc])\n",
    "\n",
    "print(label)\n",
    "df_auc = pd.DataFrame(AUC, columns = ['marker', 'AUC'])\n",
    "\n",
    "sns.catplot(x = 'AUC', y = 'marker', data = df_auc, orient = 'h')\n",
    "plt.axvline(x = 0.5, linestyle = 'dashed')\n",
    "plt.show()"
   ]
  },
  {
   "cell_type": "markdown",
   "id": "norwegian-penalty",
   "metadata": {},
   "source": [
    "## dMW Vs sMW\n",
    "This will be only performed in SC as they have more trials"
   ]
  },
  {
   "cell_type": "code",
   "execution_count": 106,
   "id": "outdoor-theory",
   "metadata": {
    "tags": []
   },
   "outputs": [],
   "source": [
    "df_mw = (\n",
    "    df_markers\n",
    "    .query(\"probe == 'SC'\")\n",
    "    .query(\"mind != 'on-task'\")\n",
    "    .groupby(['mind', 'participant']).filter(lambda x: len(x) > 7) #min nbr of trials\n",
    ")\n",
    "\n",
    "agg_dict = {k:'mean' for k in markers }\n",
    "agg_dict.update({k:'first' for k in df_mw.drop(markers, axis=1).columns})\n",
    "\n",
    "df_mw = (df_mw\n",
    "    .groupby(['mind', 'participant'], as_index = False).agg(agg_dict)\n",
    ")\n",
    "df_mw = balance_sample(df_mw, 'participant', 'mind', levels = 2).drop(['participant', 'probe','segment'], axis = 1) \n"
   ]
  },
  {
   "cell_type": "code",
   "execution_count": 107,
   "id": "geological-venue",
   "metadata": {},
   "outputs": [
    {
     "name": "stdout",
     "output_type": "stream",
     "text": [
      "AUC wSMI = 0.55078125 WilcoxonResult(statistic=54.0, pvalue=0.49542236328125)\n",
      "AUC p_e = 0.484375 WilcoxonResult(statistic=44.0, pvalue=0.231201171875)\n",
      "AUC k = 0.5390625 WilcoxonResult(statistic=53.0, pvalue=0.4637451171875)\n",
      "AUC b = 0.5078125 WilcoxonResult(statistic=61.0, pvalue=0.743560791015625)\n",
      "AUC b_n = 0.515625 WilcoxonResult(statistic=59.0, pvalue=0.668548583984375)\n",
      "AUC g = 0.515625 WilcoxonResult(statistic=54.0, pvalue=0.49542236328125)\n",
      "AUC g_n = 0.55078125 WilcoxonResult(statistic=47.0, pvalue=0.2978515625)\n",
      "AUC t = 0.48046875 WilcoxonResult(statistic=57.0, pvalue=0.596588134765625)\n",
      "AUC t_n = 0.48828125 WilcoxonResult(statistic=68.0, pvalue=1.0)\n",
      "AUC d = 0.48046875 WilcoxonResult(statistic=61.0, pvalue=0.743560791015625)\n",
      "AUC d_n = 0.44140625 WilcoxonResult(statistic=56.0, pvalue=0.5618896484375)\n",
      "AUC a_n = 0.5 WilcoxonResult(statistic=57.0, pvalue=0.596588134765625)\n",
      "AUC a = 0.4609375 WilcoxonResult(statistic=56.0, pvalue=0.5618896484375)\n",
      "AUC CNV = 0.55078125 WilcoxonResult(statistic=66.0, pvalue=0.93988037109375)\n",
      "AUC P1 = 0.73046875 WilcoxonResult(statistic=29.0, pvalue=0.0443115234375)\n",
      "AUC P3a = 0.67578125 WilcoxonResult(statistic=50.0, pvalue=0.375457763671875)\n",
      "AUC P3b = 0.625 WilcoxonResult(statistic=56.0, pvalue=0.5618896484375)\n",
      "List of significant markers: ['P1', 'P3a']\n"
     ]
    },
    {
     "data": {
      "image/png": "[encoded data removed]",
      "text/plain": [
       "<Figure size 360x360 with 1 Axes>"
      ]
     },
     "metadata": {
      "needs_background": "light"
     },
     "output_type": "display_data"
    }
   ],
   "source": [
    "AUC = []\n",
    "significants = []\n",
    "for i in df_mw.drop('mind', axis = 1).columns:\n",
    "    smw = df_mw.query(\"mind == 'sMW'\")[i]\n",
    "    dmw = df_mw.query(\"mind == 'dMW'\")[i]\n",
    "    auc = roc_auc_score(df_mw['mind'], df_mw[i])\n",
    "    print(f'AUC {i} = {auc}', f'{wilcoxon(x = smw, y = dmw)}')\n",
    "    AUC.append([i, auc])\n",
    "    if mannwhitneyu(x = smw, y = dmw).pvalue < 0.05:\n",
    "        significants.append(i)\n",
    "subject_mw_roc = pd.DataFrame(AUC, columns = ['marker', 'AUC'])\n",
    "\n",
    "print(f'List of significant markers: {significants}')\n",
    "\n",
    "\n",
    "sns.catplot(x = 'AUC', y = 'marker', data = subject_mw_roc, orient = 'h')\n",
    "plt.axvline(x = 0.5, linestyle = 'dashed')\n",
    "plt.show()"
   ]
  },
  {
   "cell_type": "code",
   "execution_count": 108,
   "id": "dominant-remove",
   "metadata": {},
   "outputs": [
    {
     "name": "stdout",
     "output_type": "stream",
     "text": [
      "AUC wSMI = 0.6484375\n",
      "AUC p_e = 0.68359375\n",
      "AUC k = 0.5625\n",
      "AUC b = 0.5703125\n",
      "AUC b_n = 0.60546875\n",
      "AUC g = 0.5859375\n",
      "AUC g_n = 0.5625\n",
      "AUC t = 0.59375\n",
      "AUC t_n = 0.607421875\n",
      "AUC d = 0.60546875\n",
      "AUC d_n = 0.58984375\n",
      "AUC a_n = 0.599609375\n",
      "AUC a = 0.62109375\n",
      "AUC CNV = 0.71875\n",
      "AUC P1 = 0.31640625\n",
      "AUC P3a = 0.29296875\n",
      "AUC P3b = 0.6796875\n",
      "Index(['dMW', 'sMW'], dtype='object')\n"
     ]
    },
    {
     "data": {
      "image/png": "[encoded data removed]",
      "text/plain": [
       "<Figure size 360x360 with 1 Axes>"
      ]
     },
     "metadata": {
      "needs_background": "light"
     },
     "output_type": "display_data"
    }
   ],
   "source": [
    "AUC = []\n",
    "for i in df_mw.drop('mind', axis = 1).columns:\n",
    "    y, label = pd.factorize(df_mw['mind'])\n",
    "    X = df_mw[i].astype('float32').values.reshape(-1,1)\n",
    "    svc = SVC(probability=True)\n",
    "    svc.fit(X, y)\n",
    "    y_proba = svc.predict_proba(X)\n",
    "    auc = roc_auc_score(y, y_proba[:,0])\n",
    "    print(f'AUC {i} = {auc}')\n",
    "    AUC.append([i, auc])\n",
    "\n",
    "print(label)\n",
    "df_auc = pd.DataFrame(AUC, columns = ['marker', 'AUC'])\n",
    "\n",
    "sns.catplot(x = 'AUC', y = 'marker', data = df_auc, orient = 'h')\n",
    "plt.axvline(x = 0.5, linestyle = 'dashed')\n",
    "plt.show()"
   ]
  },
  {
   "cell_type": "markdown",
   "id": "indian-expansion",
   "metadata": {},
   "source": [
    "# By Segment Univariate analyses"
   ]
  },
  {
   "cell_type": "markdown",
   "id": "offshore-barrier",
   "metadata": {},
   "source": [
    "## On-task Vs Mind- Wandering\n",
    "This can only be performed for PC probes  as they are the only ones with On-task reports."
   ]
  },
  {
   "cell_type": "code",
   "execution_count": 8,
   "id": "circular-carolina",
   "metadata": {},
   "outputs": [],
   "source": [
    "agg_dict = {k:['mean', 'std'] for k in markers }\n",
    "agg_dict.update({k:'first' for k in df_markers.drop(markers, axis=1).columns})\n",
    "\n",
    "df_mind = (\n",
    "    df_markers\n",
    "    .query(\"probe == 'PC'\")\n",
    "    .groupby(['segment', 'participant'], as_index = False).agg(agg_dict)\n",
    "#     .query(\"mind != 'sMW'\") #if you want to test against just one of the mw\n",
    "    .assign(\n",
    "    mind2 = lambda df: np.where(df.mind == 'on-task', 'on-task', 'mw'))\n",
    ")\n",
    "\n",
    "df_mind.columns = df_mind.columns.map(\"_\".join)\n",
    "\n",
    "df_mind  = (df_mind\n",
    "            .rename(columns = {'participant_first':'participant', 'probe_first':'probe', 'mind_first':'mind', 'segment_first':'segment', 'mind2_':'mind2'})\n",
    "            .drop(['participant', 'probe', 'mind', 'segment'], axis = 1) \n",
    "           )"
   ]
  },
  {
   "cell_type": "code",
   "execution_count": 10,
   "id": "impressive-belle",
   "metadata": {},
   "outputs": [
    {
     "name": "stdout",
     "output_type": "stream",
     "text": [
      "AUC wSMI_mean = 0.5426829268292682 MannwhitneyuResult(statistic=3525.0, pvalue=0.16496727199686728)\n",
      "AUC wSMI_std = 0.4807991696938246 MannwhitneyuResult(statistic=3706.0, pvalue=0.330893706671614)\n",
      "AUC p_e_mean = 0.45524130773222626 MannwhitneyuResult(statistic=3509.0, pvalue=0.1534620293191562)\n",
      "AUC p_e_std = 0.5311364815775818 MannwhitneyuResult(statistic=3614.0, pvalue=0.238760662076057)\n",
      "AUC k_mean = 0.4608199273482097 MannwhitneyuResult(statistic=3552.0, pvalue=0.18561487819637795)\n",
      "AUC k_std = 0.5880254281266216 MannwhitneyuResult(statistic=3175.5, pvalue=0.022174713595810497)\n",
      "AUC b_mean = 0.425531914893617 MannwhitneyuResult(statistic=3280.0, pvalue=0.04448537842954947)\n",
      "AUC b_std = 0.4708095485210171 MannwhitneyuResult(statistic=3629.0, pvalue=0.25276668357256504)\n",
      "AUC b_n_mean = 0.4316294758692268 MannwhitneyuResult(statistic=3327.0, pvalue=0.05920735222512055)\n",
      "AUC b_n_std = 0.5281525687597302 MannwhitneyuResult(statistic=3637.0, pvalue=0.2604097109316945)\n",
      "AUC g_mean = 0.4573170731707317 MannwhitneyuResult(statistic=3525.0, pvalue=0.16496727199686728)\n",
      "AUC g_std = 0.5343798650752465 MannwhitneyuResult(statistic=3589.0, pvalue=0.2163914738251208)\n",
      "AUC g_n_mean = 0.4975350285417748 MannwhitneyuResult(statistic=3835.0, pvalue=0.4781225307522844)\n",
      "AUC g_n_std = 0.5492994291645044 MannwhitneyuResult(statistic=3474.0, pvalue=0.1301889281384382)\n",
      "AUC t_mean = 0.5071354436948625 MannwhitneyuResult(statistic=3799.0, pvalue=0.43579749221114694)\n",
      "AUC t_std = 0.5346393357550596 MannwhitneyuResult(statistic=3587.0, pvalue=0.21465591019687563)\n",
      "AUC t_n_mean = 0.6153347171769591 MannwhitneyuResult(statistic=2965.0, pvalue=0.004206116033906277)\n",
      "AUC t_n_std = 0.5559159314997406 MannwhitneyuResult(statistic=3423.0, pvalue=0.10084504027148816)\n",
      "AUC d_mean = 0.4859885832900882 MannwhitneyuResult(statistic=3746.0, pvalue=0.3749326069097862)\n",
      "AUC d_std = 0.4858588479501816 MannwhitneyuResult(statistic=3745.0, pvalue=0.3738086090732552)\n",
      "AUC d_n_mean = 0.4998702646600934 MannwhitneyuResult(statistic=3853.0, pvalue=0.4994084205928122)\n",
      "AUC d_n_std = 0.48936170212765956 MannwhitneyuResult(statistic=3772.0, pvalue=0.4045032753360479)\n",
      "AUC a_n_mean = 0.44979242345614945 MannwhitneyuResult(statistic=3467.0, pvalue=0.12584406841798396)\n",
      "AUC a_n_std = 0.502205500778412 MannwhitneyuResult(statistic=3837.0, pvalue=0.4804856609128524)\n",
      "AUC a_mean = 0.45848469122989105 MannwhitneyuResult(statistic=3534.0, pvalue=0.17167826000306874)\n",
      "AUC a_std = 0.4617280747275558 MannwhitneyuResult(statistic=3559.0, pvalue=0.19121966996606632)\n",
      "AUC CNV_mean = 0.558640373637779 MannwhitneyuResult(statistic=3402.0, pvalue=0.09028016012140128)\n",
      "AUC CNV_std = 0.4804099636741049 MannwhitneyuResult(statistic=3703.0, pvalue=0.32767441265615893)\n",
      "AUC P1_mean = 0.5212765957446808 MannwhitneyuResult(statistic=3690.0, pvalue=0.31387415217634707)\n",
      "AUC P1_std = 0.5489102231447847 MannwhitneyuResult(statistic=3477.0, pvalue=0.13208242423704525)\n",
      "AUC P3a_mean = 0.5569538142189933 MannwhitneyuResult(statistic=3415.0, pvalue=0.09671873695107752)\n",
      "AUC P3a_std = 0.4501816294758692 MannwhitneyuResult(statistic=3470.0, pvalue=0.12769360732700147)\n",
      "AUC P3b_mean = 0.6257135443694863 MannwhitneyuResult(statistic=2885.0, pvalue=0.0020373532328501814)\n",
      "AUC P3b_std = 0.5596782563570317 MannwhitneyuResult(statistic=3394.0, pvalue=0.08647943926429236)\n",
      "List of significant markers: ['k_std' 'b_mean' 't_n_mean' 'P3b_mean']\n"
     ]
    },
    {
     "data": {
      "image/png": "[encoded data removed]",
      "text/plain": [
       "<Figure size 360x360 with 1 Axes>"
      ]
     },
     "metadata": {
      "needs_background": "light"
     },
     "output_type": "display_data"
    }
   ],
   "source": [
    "significants = []\n",
    "AUC = []\n",
    "for i in df_mind.drop('mind2', axis = 1).columns:\n",
    "    ot = df_mind.query(\"mind2 == 'on-task'\")[i]\n",
    "    mw = df_mind.query(\"mind2 == 'mw'\")[i]\n",
    "    auc = roc_auc_score(df_mind['mind2'], df_mind[i])\n",
    "    print(f'AUC {i} = {auc}', f'{mannwhitneyu(x = ot, y = mw)}')\n",
    "    AUC.append([i, auc])\n",
    "    if mannwhitneyu(x = ot, y = mw).pvalue < 0.05:\n",
    "        significants.append([i, auc])\n",
    "        \n",
    "segment_mind_roc = pd.DataFrame(AUC, columns = ['marker', 'AUC'])\n",
    "significants_mind = pd.DataFrame(significants, columns = ['marker', 'AUC'])\n",
    "\n",
    "print(f'List of significant markers: {significants_mind.marker.values}')\n",
    "\n",
    "sns.catplot(x = 'AUC', y = 'marker', data = segment_mind_roc, orient = 'h')\n",
    "plt.axvline(x = 0.5, linestyle = 'dashed')\n",
    "plt.show()"
   ]
  },
  {
   "cell_type": "code",
   "execution_count": 11,
   "id": "nuclear-practice",
   "metadata": {},
   "outputs": [
    {
     "name": "stdout",
     "output_type": "stream",
     "text": [
      "AUC wSMI_mean = 0.5878308251167618\n",
      "AUC wSMI_std = 0.5440451478982875\n",
      "AUC p_e_mean = 0.5755059678256357\n",
      "AUC p_e_std = 0.3817462376751427\n",
      "AUC k_mean = 0.5477426050856254\n",
      "AUC k_std = 0.3445770627919045\n",
      "AUC b_mean = 0.5615594187856773\n",
      "AUC b_std = 0.3880384016606123\n",
      "AUC b_n_mean = 0.5849766476388168\n",
      "AUC b_n_std = 0.6028801245459263\n",
      "AUC g_mean = 0.5748572911261027\n",
      "AUC g_std = 0.571419304618578\n",
      "AUC g_n_mean = 0.5490399584846912\n",
      "AUC g_n_std = 0.38388687078360145\n",
      "AUC t_mean = 0.5577322262584328\n",
      "AUC t_std = 0.5520238713025428\n",
      "AUC t_n_mean = 0.3588479501816295\n",
      "AUC t_n_std = 0.34814478463933574\n",
      "AUC d_mean = 0.5394395433316035\n",
      "AUC d_std = 0.5648676699532953\n",
      "AUC d_n_mean = 0.5925012973533991\n",
      "AUC d_n_std = 0.48780487804878053\n",
      "AUC a_n_mean = 0.5779709392838609\n",
      "AUC a_n_std = 0.5721328489880643\n",
      "AUC a_mean = 0.42631032693305654\n",
      "AUC a_std = 0.5394395433316035\n",
      "AUC CNV_mean = 0.5668137000518941\n",
      "AUC CNV_std = 0.547223663725999\n",
      "AUC P1_mean = 0.5416450441100156\n",
      "AUC P1_std = 0.5771925272444214\n",
      "AUC P3a_mean = 0.5963933575505967\n",
      "AUC P3a_std = 0.5841982355993773\n",
      "AUC P3b_mean = 0.3606642449403218\n",
      "AUC P3b_std = 0.5782952776336274\n",
      "Index(['on-task', 'mw'], dtype='object')\n"
     ]
    },
    {
     "data": {
      "image/png": "[encoded data removed]",
      "text/plain": [
       "<Figure size 360x360 with 1 Axes>"
      ]
     },
     "metadata": {
      "needs_background": "light"
     },
     "output_type": "display_data"
    }
   ],
   "source": [
    "AUC = []\n",
    "for i in df_mind.drop('mind2', axis = 1).columns:\n",
    "    y, label = pd.factorize(df_mind['mind2'])\n",
    "    X = df_mind[i].astype('float32').values.reshape(-1,1)\n",
    "    svc = SVC(probability=True)\n",
    "    svc.fit(X, y)\n",
    "    y_proba = svc.predict_proba(X)\n",
    "    auc = roc_auc_score(y, y_proba[:,0])\n",
    "    print(f'AUC {i} = {auc}')\n",
    "    AUC.append([i, auc])\n",
    "\n",
    "print(label)\n",
    "df_auc = pd.DataFrame(AUC, columns = ['marker', 'AUC'])\n",
    "\n",
    "sns.catplot(x = 'AUC', y = 'marker', data = df_auc, orient = 'h')\n",
    "plt.axvline(x = 0.5, linestyle = 'dashed')\n",
    "plt.show()"
   ]
  },
  {
   "cell_type": "code",
   "execution_count": 86,
   "id": "activated-independence",
   "metadata": {},
   "outputs": [
    {
     "name": "stdout",
     "output_type": "stream",
     "text": [
      "AUC wSMI_mean = 0.5208024691358024\n",
      "p_value = 1.0\n"
     ]
    },
    {
     "name": "stderr",
     "output_type": "stream",
     "text": [
      "/home/nicolas.bruno/anaconda3/lib/python3.7/site-packages/numpy/lib/histograms.py:905: RuntimeWarning: divide by zero encountered in true_divide\n",
      "  return n/db/n.sum(), bin_edges\n",
      "/home/nicolas.bruno/anaconda3/lib/python3.7/site-packages/numpy/lib/histograms.py:905: RuntimeWarning: invalid value encountered in true_divide\n",
      "  return n/db/n.sum(), bin_edges\n"
     ]
    },
    {
     "ename": "NameError",
     "evalue": "name 'perm_score' is not defined",
     "output_type": "error",
     "traceback": [
      "\u001b[0;31m---------------------------------------------------------------------------\u001b[0m",
      "\u001b[0;31mNameError\u001b[0m                                 Traceback (most recent call last)",
      "\u001b[0;32m<ipython-input-86-50d19d077268>\u001b[0m in \u001b[0;36m<module>\u001b[0;34m\u001b[0m\n\u001b[1;32m      4\u001b[0m \u001b[0;34m\u001b[0m\u001b[0m\n\u001b[1;32m      5\u001b[0m     AUC[i] =  univariate_classifier(\n\u001b[0;32m----> 6\u001b[0;31m     \u001b[0mdata\u001b[0m\u001b[0;34m=\u001b[0m \u001b[0mdf_mind\u001b[0m\u001b[0;34m,\u001b[0m \u001b[0mlabel\u001b[0m \u001b[0;34m=\u001b[0m \u001b[0;34m'mind2'\u001b[0m\u001b[0;34m,\u001b[0m \u001b[0mfeature\u001b[0m \u001b[0;34m=\u001b[0m \u001b[0mi\u001b[0m\u001b[0;34m,\u001b[0m \u001b[0mmodel\u001b[0m \u001b[0;34m=\u001b[0m \u001b[0;34m'SVM'\u001b[0m\u001b[0;34m,\u001b[0m \u001b[0mgrid_search\u001b[0m\u001b[0;34m=\u001b[0m\u001b[0;32mFalse\u001b[0m\u001b[0;34m,\u001b[0m \u001b[0mpermutation\u001b[0m\u001b[0;34m=\u001b[0m\u001b[0;32mTrue\u001b[0m\u001b[0;34m,\u001b[0m \u001b[0mn_permutations\u001b[0m \u001b[0;34m=\u001b[0m \u001b[0;36m100\u001b[0m\u001b[0;34m\u001b[0m\u001b[0;34m\u001b[0m\u001b[0m\n\u001b[0m\u001b[1;32m      7\u001b[0m )\n\u001b[1;32m      8\u001b[0m \u001b[0;34m\u001b[0m\u001b[0m\n",
      "\u001b[0;32m<ipython-input-85-8611ec2087dc>\u001b[0m in \u001b[0;36munivariate_classifier\u001b[0;34m(data, label, feature, model, grid_search, permutation, n_permutations)\u001b[0m\n\u001b[1;32m     87\u001b[0m             \u001b[0;34mf\"Score on original\\ndata: {score:.2f}\\n\"\u001b[0m \u001b[0;34mf\"(p-value: {pvalue:.3f})\"\u001b[0m\u001b[0;34m\u001b[0m\u001b[0;34m\u001b[0m\u001b[0m\n\u001b[1;32m     88\u001b[0m         )\n\u001b[0;32m---> 89\u001b[0;31m         \u001b[0mplt\u001b[0m\u001b[0;34m.\u001b[0m\u001b[0mtext\u001b[0m\u001b[0;34m(\u001b[0m\u001b[0mscore\u001b[0m\u001b[0;34m,\u001b[0m \u001b[0mnp\u001b[0m\u001b[0;34m.\u001b[0m\u001b[0mmax\u001b[0m\u001b[0;34m(\u001b[0m\u001b[0mperm_score\u001b[0m\u001b[0;34m)\u001b[0m\u001b[0;34m,\u001b[0m \u001b[0mscore_label\u001b[0m\u001b[0;34m,\u001b[0m \u001b[0mfontsize\u001b[0m\u001b[0;34m=\u001b[0m\u001b[0;36m12\u001b[0m\u001b[0;34m)\u001b[0m\u001b[0;34m\u001b[0m\u001b[0;34m\u001b[0m\u001b[0m\n\u001b[0m\u001b[1;32m     90\u001b[0m         \u001b[0mplt\u001b[0m\u001b[0;34m.\u001b[0m\u001b[0mxlabel\u001b[0m\u001b[0;34m(\u001b[0m\u001b[0;34m\"Accuracy score\"\u001b[0m\u001b[0;34m)\u001b[0m\u001b[0;34m\u001b[0m\u001b[0;34m\u001b[0m\u001b[0m\n\u001b[1;32m     91\u001b[0m         \u001b[0mplt\u001b[0m\u001b[0;34m.\u001b[0m\u001b[0mylabel\u001b[0m\u001b[0;34m(\u001b[0m\u001b[0;34m\"Probability\"\u001b[0m\u001b[0;34m)\u001b[0m\u001b[0;34m\u001b[0m\u001b[0;34m\u001b[0m\u001b[0m\n",
      "\u001b[0;31mNameError\u001b[0m: name 'perm_score' is not defined"
     ]
    },
    {
     "data": {
      "image/png": "[encoded data removed]",
      "text/plain": [
       "<Figure size 432x288 with 1 Axes>"
      ]
     },
     "metadata": {
      "needs_background": "light"
     },
     "output_type": "display_data"
    }
   ],
   "source": [
    "AUC = pd.DataFrame()\n",
    "for i in df_mind.drop('mind2', axis = 1).columns:\n",
    "    \n",
    "\n",
    "    AUC[i] =  univariate_classifier(\n",
    "    data= df_mind, label = 'mind2', feature = i, model = 'SVM', grid_search=False, permutation=True, n_permutations = 100\n",
    ")\n",
    "\n",
    "    \n",
    "sns.catplot(data = AUC, kind = 'box', orient = 'h')\n",
    "plt.axvline(x = 0.5, linestyle = 'dashed')\n",
    "plt.show()"
   ]
  },
  {
   "cell_type": "code",
   "execution_count": 81,
   "id": "hispanic-fellow",
   "metadata": {},
   "outputs": [
    {
     "data": {
      "text/plain": [
       "<seaborn.axisgrid.FacetGrid at 0x7fd3b906d590>"
      ]
     },
     "execution_count": 81,
     "metadata": {},
     "output_type": "execute_result"
    },
    {
     "data": {
      "image/png": "[encoded data removed]",
      "text/plain": [
       "<Figure size 360x360 with 1 Axes>"
      ]
     },
     "metadata": {
      "needs_background": "light"
     },
     "output_type": "display_data"
    }
   ],
   "source": [
    "y, label = pd.factorize(df_mind['mind2'])\n",
    "X = df_mind['P3b_mean'].astype('float32').values.reshape(-1,1)\n",
    "\n",
    "steps = [('scaler', StandardScaler()), ('SVM', SVC(probability=True))]\n",
    "pipe = Pipeline(steps)\n",
    "\n",
    "#     parameteres = {'SVM__C':[0.001,0.1,10,100,10e5], 'SVM__gamma':[0.1,0.01]}\n",
    "#     grid = GridSearchCV(pipe, param_grid=parameteres, cv=5, n_jobs = -1)\n",
    "#     grid.fit(X, y)      \n",
    "#     steps = [('scaler', StandardScaler()), ('SVM', SVC(C =grid.best_params_['SVM__C'], gamma =grid.best_params_['SVM__gamma'], probability=True))]\n",
    "#     pipe = Pipeline(steps)\n",
    "\n",
    "# cv = GroupShuffleSplit(n_splits=50, train_size=0.8, test_size=0.2,)\n",
    "# cv = StratifiedKFold(10, shuffle=True, random_state = 42)\n",
    "\n",
    "\n",
    "# aucs = cross_val_score(\n",
    "# X=X, y=y, estimator=pipe,\n",
    "# scoring='roc_auc', cv=cv, groups=np.arange(len(X)))\n",
    "\n",
    "\n",
    "steps = [\n",
    "    (\"scaler\", StandardScaler()),\n",
    "    (\"SVM\", SVC(C=0.001, gamma=0.1, kernel=\"rbf\", probability=True)),\n",
    "]\n",
    "pipe_cv = Pipeline(steps)\n",
    "\n",
    "cv = StratifiedKFold(10, shuffle=False)\n",
    "\n",
    "aucs = cross_val_score(\n",
    "    X=X,\n",
    "    y=y,\n",
    "    estimator=pipe_cv,\n",
    "    scoring=\"roc_auc\",\n",
    "    cv=cv,\n",
    ")\n",
    "# cv = GroupShuffleSplit(n_splits=50, train_size=0.8, test_size=0.2,\n",
    "#                    random_state=42)\n",
    "\n",
    "# aucs = cross_val_score(\n",
    "#     X=X, y=y, estimator=pipe_cv,\n",
    "#     scoring='roc_auc', cv=cv, groups=np.arange(len(X)))\n",
    "\n",
    "\n",
    "# score, perm_scores, pvalue = permutation_test_score(\n",
    "# pipe, X, y, scoring='roc_auc', cv=cv, n_permutations=1000)\n",
    "\n",
    "AUC = pd.DataFrame(aucs)\n",
    "\n",
    "sns.catplot(data = AUC, kind = 'box', orient = 'h')"
   ]
  },
  {
   "cell_type": "code",
   "execution_count": 85,
   "id": "tracked-break",
   "metadata": {},
   "outputs": [],
   "source": [
    "def univariate_classifier(\n",
    "    data, label, feature, model, grid_search=False, permutation=False, n_permutations = 1000\n",
    "):\n",
    "    \"\"\"\n",
    "    data: dataframe with features and labels\n",
    "    label: name of the column with the labels for the classification\n",
    "    features: feaure or list of features corresponding to the columns of the data frame with the markers\n",
    "    model: type of classifier model\n",
    "    grid_search: if true it will apply grid search 5cv to find the best parameters of C and gamma, only for the SVM. Deafault: False\n",
    "    \"\"\"\n",
    "    y, lbl = pd.factorize(data[label])\n",
    "    X = data[feature].astype(\"float32\").values.reshape(-1,1)\n",
    "    \n",
    "    if model == \"SVM\":\n",
    "        if grid_search == True:\n",
    "\n",
    "            steps = [(\"scaler\", StandardScaler()), (\"SVM\", SVC(probability=True))]\n",
    "            pipe = Pipeline(steps)\n",
    "\n",
    "            parameteres = {\n",
    "                \"SVM__C\": [0.001, 0.1, 10, 100, 10e5],\n",
    "                \"SVM__gamma\": [0.1, 0.01],\n",
    "            }\n",
    "            grid = GridSearchCV(pipe, param_grid=parameteres, cv=5, n_jobs=-1)\n",
    "            grid.fit(X, y)\n",
    "\n",
    "            steps = [\n",
    "                (\"scaler\", StandardScaler()),\n",
    "                (\n",
    "                    \"SVM\",\n",
    "                    SVC(\n",
    "                        C=grid.best_params_[\"SVM__C\"],\n",
    "                        gamma=grid.best_params_[\"SVM__gamma\"],\n",
    "                        probability=True,\n",
    "                    ),\n",
    "                ),\n",
    "            ]\n",
    "            \n",
    "            pipe_cv = Pipeline(steps)\n",
    "\n",
    "            cv = StratifiedKFold(10, shuffle=True, random_state = 42)\n",
    "\n",
    "            aucs = cross_val_score(\n",
    "                X=X,\n",
    "                y=y,\n",
    "                estimator=pipe_cv,\n",
    "                scoring=\"roc_auc\",\n",
    "                cv=cv,\n",
    "            )\n",
    "\n",
    "        else:\n",
    "\n",
    "\n",
    "            steps = [\n",
    "                (\"scaler\", StandardScaler()),\n",
    "                (\"SVM\", SVC(C=0.001, gamma=0.1, kernel=\"rbf\", probability=True)),\n",
    "            ]\n",
    "            pipe_cv = Pipeline(steps)\n",
    "\n",
    "            cv = StratifiedKFold(10, shuffle=True, random_state = 42)\n",
    "\n",
    "            aucs = cross_val_score(\n",
    "                X=X,\n",
    "                y=y,\n",
    "                estimator=pipe_cv,\n",
    "                scoring=\"roc_auc\",\n",
    "                cv=cv,\n",
    "            )\n",
    "            \n",
    "    print(f'AUC {feature} = {np.mean(aucs)}')\n",
    "\n",
    "    if model == 'forest':\n",
    "        pass\n",
    "\n",
    "            \n",
    "    if permutation == True:\n",
    "        score, perm_scores, pvalue = permutation_test_score(\n",
    "            pipe_cv, X, y, scoring=\"accuracy\", cv=cv, n_permutations=1000\n",
    "        )\n",
    "            \n",
    "\n",
    "        print(f\"p_value = {pvalue}\")\n",
    "\n",
    "        plt.hist(perm_scores, bins=20, density=True)\n",
    "        plt.axvline(score, ls=\"--\", color=\"r\")\n",
    "        score_label = (\n",
    "            f\"Score on original\\ndata: {score:.2f}\\n\" f\"(p-value: {pvalue:.3f})\"\n",
    "        )\n",
    "        plt.text(score, np.max(perm_score), score_label, fontsize=12)\n",
    "        plt.xlabel(\"Accuracy score\")\n",
    "        plt.ylabel(\"Probability\")\n",
    "        plt.show()\n",
    "        \n",
    "    return aucs"
   ]
  },
  {
   "cell_type": "code",
   "execution_count": 45,
   "id": "apart-norman",
   "metadata": {},
   "outputs": [
    {
     "name": "stdout",
     "output_type": "stream",
     "text": [
      "AUC wSMI_mean = 0.45; p_value = 0.8316831683168316\n",
      "AUC wSMI_std = 0.385; p_value = 0.9603960396039604\n",
      "AUC p_e_mean = 0.455; p_value = 0.7425742574257426\n",
      "AUC p_e_std = 0.635; p_value = 0.019801980198019802\n",
      "AUC k_mean = 0.445; p_value = 0.8613861386138614\n",
      "AUC k_std = 0.59; p_value = 0.0891089108910891\n",
      "AUC b_mean = 0.525; p_value = 0.43564356435643564\n",
      "AUC b_std = 0.53; p_value = 0.33663366336633666\n",
      "AUC b_n_mean = 0.47; p_value = 0.7722772277227723\n",
      "AUC b_n_std = 0.59; p_value = 0.1485148514851485\n",
      "AUC g_mean = 0.52; p_value = 0.44554455445544555\n",
      "AUC g_std = 0.465; p_value = 0.7227722772277227\n",
      "AUC g_n_mean = 0.42; p_value = 0.8712871287128713\n",
      "AUC g_n_std = 0.525; p_value = 0.39603960396039606\n",
      "AUC t_mean = 0.505; p_value = 0.49504950495049505\n",
      "AUC t_std = 0.355; p_value = 0.9504950495049505\n",
      "AUC t_n_mean = 0.635; p_value = 0.04950495049504951\n",
      "AUC t_n_std = 0.635; p_value = 0.019801980198019802\n",
      "AUC d_mean = 0.39; p_value = 0.9405940594059405\n",
      "AUC d_std = 0.47; p_value = 0.7623762376237624\n",
      "AUC d_n_mean = 0.565; p_value = 0.24752475247524752\n",
      "AUC d_n_std = 0.42; p_value = 0.8415841584158416\n",
      "AUC a_n_mean = 0.495; p_value = 0.5841584158415841\n",
      "AUC a_n_std = 0.51; p_value = 0.44554455445544555\n",
      "AUC a_mean = 0.52; p_value = 0.49504950495049505\n",
      "AUC a_std = 0.355; p_value = 0.9702970297029703\n",
      "AUC CNV_mean = 0.515; p_value = 0.43564356435643564\n",
      "AUC CNV_std = 0.41; p_value = 0.9108910891089109\n",
      "AUC P1_mean = 0.445; p_value = 0.801980198019802\n",
      "AUC P1_std = 0.33; p_value = 0.9801980198019802\n",
      "AUC P3a_mean = 0.39; p_value = 0.9306930693069307\n",
      "AUC P3a_std = 0.515; p_value = 0.48514851485148514\n",
      "AUC P3b_mean = 0.62; p_value = 0.04950495049504951\n",
      "AUC P3b_std = 0.28; p_value = 0.9900990099009901\n"
     ]
    },
    {
     "data": {
      "image/png": "[encoded data removed]",
      "text/plain": [
       "<Figure size 360x360 with 1 Axes>"
      ]
     },
     "metadata": {
      "needs_background": "light"
     },
     "output_type": "display_data"
    }
   ],
   "source": [
    "AUC = pd.DataFrame()\n",
    "for i in df_mind.drop('mind2', axis = 1).columns:\n",
    "    \n",
    "    y, label = pd.factorize(df_mind['mind2'])\n",
    "    X = df_mind[i].astype('float32').values.reshape(-1,1)\n",
    "    \n",
    "    steps = [('scaler', StandardScaler()), ('SVM', SVC(probability=True))]\n",
    "    pipe = Pipeline(steps)\n",
    "    \n",
    "#     parameteres = {'SVM__C':[0.001,0.1,10,100,10e5], 'SVM__gamma':[0.1,0.01]}\n",
    "#     grid = GridSearchCV(pipe, param_grid=parameteres, cv=5, n_jobs = -1)\n",
    "#     grid.fit(X, y)      \n",
    "#     steps = [('scaler', StandardScaler()), ('SVM', SVC(C =grid.best_params_['SVM__C'], gamma =grid.best_params_['SVM__gamma'], probability=True))]\n",
    "#     pipe = Pipeline(steps)\n",
    "    \n",
    "    cv = StratifiedKFold(50, shuffle=True, random_state = 42)\n",
    "\n",
    "    score, perm_scores, pvalue = permutation_test_score(\n",
    "    pipe, X, y, scoring='roc_auc', cv=cv, n_permutations=100\n",
    ")\n",
    "\n",
    "    AUC[i] = score\n",
    "\n",
    "#     print(label)\n",
    "    print(f'AUC {i} = {score}; p_value = {pvalue}')\n",
    "    \n",
    "    \n",
    "sns.catplot(data = AUC, kind = 'box', orient = 'h')\n",
    "plt.axvline(x = 0.5, linestyle = 'dashed')\n",
    "plt.show()"
   ]
  },
  {
   "cell_type": "code",
   "execution_count": null,
   "id": "backed-twins",
   "metadata": {},
   "outputs": [],
   "source": [
    "n_estimators = 2000\n",
    "AUC = pd.DataFrame()\n",
    "for i in df_mind.drop('mind2', axis = 1).columns:\n",
    "    \n",
    "    y, label = pd.factorize(df_mind['mind2'])\n",
    "    X = df_mind[i].astype('float32').values.reshape(-1,1)\n",
    "    \n",
    "    doc_forest = make_pipeline(\n",
    "        RobustScaler(),\n",
    "        ExtraTreesClassifier(\n",
    "            n_estimators=n_estimators, max_features=1, criterion='entropy',\n",
    "            max_depth=4, random_state=42, class_weight='balanced'))\n",
    "\n",
    "    cv = GroupShuffleSplit(n_splits=50, train_size=0.8, test_size=0.2,\n",
    "                           random_state=42)\n",
    "\n",
    "    aucs = cross_val_score(\n",
    "        X=X, y=y, estimator=doc_forest,\n",
    "        scoring='roc_auc', cv=cv, groups=np.arange(len(X)))\n",
    "\n",
    "    AUC[i] = aucs\n",
    "\n",
    "#     print(label)\n",
    "    print(f'AUC {i} = {np.mean(aucs)}')"
   ]
  },
  {
   "cell_type": "code",
   "execution_count": null,
   "id": "injured-killing",
   "metadata": {},
   "outputs": [],
   "source": [
    "sns.catplot(data = AUC, kind = 'box', orient = 'h')\n",
    "plt.axvline(x = 0.5, linestyle = 'dashed')\n",
    "plt.show()"
   ]
  },
  {
   "cell_type": "markdown",
   "id": "unlikely-scott",
   "metadata": {
    "toc-hr-collapsed": true
   },
   "source": [
    "## dMW Vs sMW\n",
    "This will be only performed in SC as they have more trials"
   ]
  },
  {
   "cell_type": "code",
   "execution_count": null,
   "id": "cathedral-pound",
   "metadata": {},
   "outputs": [],
   "source": [
    "agg_dict = {k:['mean', 'std'] for k in markers }\n",
    "agg_dict.update({k:'first' for k in df_markers.drop(markers, axis=1).columns})\n",
    "\n",
    "df_mw = (\n",
    "    df_markers\n",
    "    .query(\"probe == 'SC'\")\n",
    "    .query(\"mind != 'on-task'\")\n",
    "    .groupby(['segment', 'participant'], as_index = False).agg(agg_dict)\n",
    ")\n",
    "\n",
    "df_mw.columns = df_mw.columns.map(\"_\".join)\n",
    "\n",
    "df_mw  = (df_mw\n",
    "            .rename(columns = {'participant_first':'participant', 'probe_first':'probe', 'mind_first':'mind', 'segment_first':'segment'})\n",
    "            .drop(['participant', 'probe', 'segment'], axis = 1) \n",
    "           )"
   ]
  },
  {
   "cell_type": "code",
   "execution_count": 48,
   "id": "standard-tension",
   "metadata": {},
   "outputs": [
    {
     "name": "stdout",
     "output_type": "stream",
     "text": [
      "AUC wSMI_mean = 0.46748251748251746 MannwhitneyuResult(statistic=33425.0, pvalue=0.09688428493426793)\n",
      "AUC wSMI_std = 0.4836783216783217 MannwhitneyuResult(statistic=34583.0, pvalue=0.25715816083766774)\n",
      "AUC p_e_mean = 0.37370629370629366 MannwhitneyuResult(statistic=26720.0, pvalue=2.2329998043768022e-07)\n",
      "AUC p_e_std = 0.5151468531468532 MannwhitneyuResult(statistic=34667.0, pvalue=0.2725325727848976)\n",
      "AUC k_mean = 0.5012797202797203 MannwhitneyuResult(statistic=35658.5, pvalue=0.47971311694161795)\n",
      "AUC k_std = 0.5130419580419581 MannwhitneyuResult(statistic=34817.5, pvalue=0.3011713086159559)\n",
      "AUC b_mean = 0.4229370629370629 MannwhitneyuResult(statistic=30240.0, pvalue=0.001034708988537611)\n",
      "AUC b_std = 0.4616643356643356 MannwhitneyuResult(statistic=33009.0, pvalue=0.062751859734307)\n",
      "AUC b_n_mean = 0.48141258741258736 MannwhitneyuResult(statistic=34421.0, pvalue=0.2288323928485717)\n",
      "AUC b_n_std = 0.4746013986013986 MannwhitneyuResult(statistic=33934.0, pvalue=0.15506368106423052)\n",
      "AUC g_mean = 0.48454545454545456 MannwhitneyuResult(statistic=34645.0, pvalue=0.26846223275562664)\n",
      "AUC g_std = 0.48594405594405593 MannwhitneyuResult(statistic=34745.0, pvalue=0.28720605401337973)\n",
      "AUC g_n_mean = 0.5251048951048951 MannwhitneyuResult(statistic=33955.0, pvalue=0.1578786215854444)\n",
      "AUC g_n_std = 0.507062937062937 MannwhitneyuResult(statistic=35245.0, pvalue=0.38895618958887934)\n",
      "AUC t_mean = 0.4576643356643356 MannwhitneyuResult(statistic=32723.0, pvalue=0.045326411793923806)\n",
      "AUC t_std = 0.520993006993007 MannwhitneyuResult(statistic=34249.0, pvalue=0.20077557891772518)\n",
      "AUC t_n_mean = 0.5054125874125874 MannwhitneyuResult(statistic=35363.0, pvalue=0.41446552827131)\n",
      "AUC t_n_std = 0.5305594405594405 MannwhitneyuResult(statistic=33565.0, pvalue=0.11099678991312084)\n",
      "AUC d_mean = 0.5154545454545454 MannwhitneyuResult(statistic=34645.0, pvalue=0.26846223275562664)\n",
      "AUC d_std = 0.4715664335664335 MannwhitneyuResult(statistic=33717.0, pvalue=0.1279220795354259)\n",
      "AUC d_n_mean = 0.5878741258741259 MannwhitneyuResult(statistic=29467.0, pvalue=0.00022218157280263012)\n",
      "AUC d_n_std = 0.5067272727272727 MannwhitneyuResult(statistic=35269.0, pvalue=0.39410974939957805)\n",
      "AUC a_n_mean = 0.4093846153846154 MannwhitneyuResult(statistic=29271.0, pvalue=0.00014627797595725034)\n",
      "AUC a_n_std = 0.43664335664335663 MannwhitneyuResult(statistic=31220.0, pvalue=0.005667209669852978)\n",
      "AUC a_mean = 0.4015244755244755 MannwhitneyuResult(statistic=28709.0, pvalue=4.142724945739074e-05)\n",
      "AUC a_std = 0.4454825174825175 MannwhitneyuResult(statistic=31852.0, pvalue=0.014669682302232059)\n",
      "AUC CNV_mean = 0.5094825174825175 MannwhitneyuResult(statistic=35072.0, pvalue=0.3524344551339277)\n",
      "AUC CNV_std = 0.5084895104895105 MannwhitneyuResult(statistic=35143.0, pvalue=0.3672808813149887)\n",
      "AUC P1_mean = 0.5556643356643357 MannwhitneyuResult(statistic=31770.0, pvalue=0.013049399433247993)\n",
      "AUC P1_std = 0.4507272727272727 MannwhitneyuResult(statistic=32227.0, pvalue=0.0244620369524039)\n",
      "AUC P3a_mean = 0.5434265734265734 MannwhitneyuResult(statistic=32645.0, pvalue=0.04131995108263807)\n",
      "AUC P3a_std = 0.47198601398601403 MannwhitneyuResult(statistic=33747.0, pvalue=0.13146405757755486)\n",
      "AUC P3b_mean = 0.5437762237762238 MannwhitneyuResult(statistic=32620.0, pvalue=0.04009832511459264)\n",
      "AUC P3b_std = 0.517006993006993 MannwhitneyuResult(statistic=34534.0, pvalue=0.2484026446829256)\n",
      "List of significant markers: ['p_e_mean' 'b_mean' 't_mean' 'd_n_mean' 'a_n_mean' 'a_n_std' 'a_mean'\n",
      " 'a_std' 'P1_mean' 'P1_std' 'P3a_mean' 'P3b_mean']\n"
     ]
    },
    {
     "data": {
      "image/png": "[encoded data removed]",
      "text/plain": [
       "<Figure size 360x360 with 1 Axes>"
      ]
     },
     "metadata": {
      "needs_background": "light"
     },
     "output_type": "display_data"
    }
   ],
   "source": [
    "AUC = []\n",
    "significants = []\n",
    "for i in df_mw.drop('mind', axis = 1).columns:\n",
    "    smw = df_mw.query(\"mind == 'sMW'\")[i]\n",
    "    dmw = df_mw.query(\"mind == 'dMW'\")[i]\n",
    "    auc = roc_auc_score(df_mw['mind'], df_mw[i])\n",
    "    print(f'AUC {i} = {auc}', f'{mannwhitneyu(x = smw, y = dmw)}')\n",
    "    AUC.append([i, auc])\n",
    "    if mannwhitneyu(x = smw, y = dmw).pvalue < 0.05:\n",
    "        significants.append([i, auc])\n",
    "segment_mw_roc = pd.DataFrame(AUC, columns = ['marker', 'AUC'])\n",
    "significants_mw = pd.DataFrame(significants, columns = ['marker', 'AUC'])\n",
    "\n",
    "print(f'List of significant markers: {significants_mw.marker.values}')\n",
    "\n",
    "sns.catplot(x = 'AUC', y = 'marker', data = segment_mw_roc, orient = 'h')\n",
    "plt.axvline(x = 0.5, linestyle = 'dashed')\n",
    "plt.show()"
   ]
  },
  {
   "cell_type": "code",
   "execution_count": null,
   "id": "advanced-catering",
   "metadata": {},
   "outputs": [],
   "source": [
    "AUC = pd.DataFrame()\n",
    "for i in df_mw.drop('mind', axis = 1).columns:\n",
    "    \n",
    "\n",
    "    AUC[i] =  univariate_classifier(\n",
    "    data= df_mw, label = 'mind', feature = i, model = 'SVM', grid_search=False, permutation=True, n_permutations = 100\n",
    ")\n",
    "\n",
    "    \n",
    "sns.catplot(data = AUC, kind = 'box', orient = 'h')\n",
    "plt.axvline(x = 0.5, linestyle = 'dashed')\n",
    "plt.show()"
   ]
  },
  {
   "cell_type": "code",
   "execution_count": 49,
   "id": "concerned-ottawa",
   "metadata": {},
   "outputs": [
    {
     "name": "stdout",
     "output_type": "stream",
     "text": [
      "AUC wSMI_mean = 0.5313333333333333; p_value = 0.21782178217821782\n",
      "AUC wSMI_std = 0.4774666666666667; p_value = 0.801980198019802\n",
      "AUC p_e_mean = 0.6195999999999999; p_value = 0.009900990099009901\n",
      "AUC p_e_std = 0.5671999999999999; p_value = 0.009900990099009901\n",
      "AUC k_mean = 0.587; p_value = 0.009900990099009901\n",
      "AUC k_std = 0.4754; p_value = 0.8118811881188119\n",
      "AUC b_mean = 0.6270666666666667; p_value = 0.009900990099009901\n",
      "AUC b_std = 0.5312; p_value = 0.24752475247524752\n",
      "AUC b_n_mean = 0.4893333333333334; p_value = 0.6336633663366337\n",
      "AUC b_n_std = 0.46240000000000003; p_value = 0.8514851485148515\n"
     ]
    },
    {
     "ename": "KeyboardInterrupt",
     "evalue": "",
     "output_type": "error",
     "traceback": [
      "\u001b[0;31m---------------------------------------------------------------------------\u001b[0m",
      "\u001b[0;31mKeyboardInterrupt\u001b[0m                         Traceback (most recent call last)",
      "\u001b[0;32m<ipython-input-49-9fb17ea6feaa>\u001b[0m in \u001b[0;36m<module>\u001b[0;34m\u001b[0m\n\u001b[1;32m     17\u001b[0m \u001b[0;34m\u001b[0m\u001b[0m\n\u001b[1;32m     18\u001b[0m     score, perm_scores, pvalue = permutation_test_score(\n\u001b[0;32m---> 19\u001b[0;31m     \u001b[0mpipe\u001b[0m\u001b[0;34m,\u001b[0m \u001b[0mX\u001b[0m\u001b[0;34m,\u001b[0m \u001b[0my\u001b[0m\u001b[0;34m,\u001b[0m \u001b[0mscoring\u001b[0m\u001b[0;34m=\u001b[0m\u001b[0;34m'roc_auc'\u001b[0m\u001b[0;34m,\u001b[0m \u001b[0mcv\u001b[0m\u001b[0;34m=\u001b[0m\u001b[0mcv\u001b[0m\u001b[0;34m,\u001b[0m \u001b[0mn_permutations\u001b[0m\u001b[0;34m=\u001b[0m\u001b[0;36m100\u001b[0m\u001b[0;34m\u001b[0m\u001b[0;34m\u001b[0m\u001b[0m\n\u001b[0m\u001b[1;32m     20\u001b[0m )\n\u001b[1;32m     21\u001b[0m \u001b[0;34m\u001b[0m\u001b[0m\n",
      "\u001b[0;32m~/anaconda3/lib/python3.7/site-packages/sklearn/utils/validation.py\u001b[0m in \u001b[0;36minner_f\u001b[0;34m(*args, **kwargs)\u001b[0m\n\u001b[1;32m     61\u001b[0m             \u001b[0mextra_args\u001b[0m \u001b[0;34m=\u001b[0m \u001b[0mlen\u001b[0m\u001b[0;34m(\u001b[0m\u001b[0margs\u001b[0m\u001b[0;34m)\u001b[0m \u001b[0;34m-\u001b[0m \u001b[0mlen\u001b[0m\u001b[0;34m(\u001b[0m\u001b[0mall_args\u001b[0m\u001b[0;34m)\u001b[0m\u001b[0;34m\u001b[0m\u001b[0;34m\u001b[0m\u001b[0m\n\u001b[1;32m     62\u001b[0m             \u001b[0;32mif\u001b[0m \u001b[0mextra_args\u001b[0m \u001b[0;34m<=\u001b[0m \u001b[0;36m0\u001b[0m\u001b[0;34m:\u001b[0m\u001b[0;34m\u001b[0m\u001b[0;34m\u001b[0m\u001b[0m\n\u001b[0;32m---> 63\u001b[0;31m                 \u001b[0;32mreturn\u001b[0m \u001b[0mf\u001b[0m\u001b[0;34m(\u001b[0m\u001b[0;34m*\u001b[0m\u001b[0margs\u001b[0m\u001b[0;34m,\u001b[0m \u001b[0;34m**\u001b[0m\u001b[0mkwargs\u001b[0m\u001b[0;34m)\u001b[0m\u001b[0;34m\u001b[0m\u001b[0;34m\u001b[0m\u001b[0m\n\u001b[0m\u001b[1;32m     64\u001b[0m \u001b[0;34m\u001b[0m\u001b[0m\n\u001b[1;32m     65\u001b[0m             \u001b[0;31m# extra_args > 0\u001b[0m\u001b[0;34m\u001b[0m\u001b[0;34m\u001b[0m\u001b[0;34m\u001b[0m\u001b[0m\n",
      "\u001b[0;32m~/anaconda3/lib/python3.7/site-packages/sklearn/model_selection/_validation.py\u001b[0m in \u001b[0;36mpermutation_test_score\u001b[0;34m(estimator, X, y, groups, cv, n_permutations, n_jobs, random_state, verbose, scoring, fit_params)\u001b[0m\n\u001b[1;32m   1177\u001b[0m             \u001b[0mclone\u001b[0m\u001b[0;34m(\u001b[0m\u001b[0mestimator\u001b[0m\u001b[0;34m)\u001b[0m\u001b[0;34m,\u001b[0m \u001b[0mX\u001b[0m\u001b[0;34m,\u001b[0m \u001b[0m_shuffle\u001b[0m\u001b[0;34m(\u001b[0m\u001b[0my\u001b[0m\u001b[0;34m,\u001b[0m \u001b[0mgroups\u001b[0m\u001b[0;34m,\u001b[0m \u001b[0mrandom_state\u001b[0m\u001b[0;34m)\u001b[0m\u001b[0;34m,\u001b[0m\u001b[0;34m\u001b[0m\u001b[0;34m\u001b[0m\u001b[0m\n\u001b[1;32m   1178\u001b[0m             groups, cv, scorer, fit_params=fit_params)\n\u001b[0;32m-> 1179\u001b[0;31m         for _ in range(n_permutations))\n\u001b[0m\u001b[1;32m   1180\u001b[0m     \u001b[0mpermutation_scores\u001b[0m \u001b[0;34m=\u001b[0m \u001b[0mnp\u001b[0m\u001b[0;34m.\u001b[0m\u001b[0marray\u001b[0m\u001b[0;34m(\u001b[0m\u001b[0mpermutation_scores\u001b[0m\u001b[0;34m)\u001b[0m\u001b[0;34m\u001b[0m\u001b[0;34m\u001b[0m\u001b[0m\n\u001b[1;32m   1181\u001b[0m     \u001b[0mpvalue\u001b[0m \u001b[0;34m=\u001b[0m \u001b[0;34m(\u001b[0m\u001b[0mnp\u001b[0m\u001b[0;34m.\u001b[0m\u001b[0msum\u001b[0m\u001b[0;34m(\u001b[0m\u001b[0mpermutation_scores\u001b[0m \u001b[0;34m>=\u001b[0m \u001b[0mscore\u001b[0m\u001b[0;34m)\u001b[0m \u001b[0;34m+\u001b[0m \u001b[0;36m1.0\u001b[0m\u001b[0;34m)\u001b[0m \u001b[0;34m/\u001b[0m \u001b[0;34m(\u001b[0m\u001b[0mn_permutations\u001b[0m \u001b[0;34m+\u001b[0m \u001b[0;36m1\u001b[0m\u001b[0;34m)\u001b[0m\u001b[0;34m\u001b[0m\u001b[0;34m\u001b[0m\u001b[0m\n",
      "\u001b[0;32m~/anaconda3/lib/python3.7/site-packages/joblib/parallel.py\u001b[0m in \u001b[0;36m__call__\u001b[0;34m(self, iterable)\u001b[0m\n\u001b[1;32m   1042\u001b[0m                 \u001b[0mself\u001b[0m\u001b[0;34m.\u001b[0m\u001b[0m_iterating\u001b[0m \u001b[0;34m=\u001b[0m \u001b[0mself\u001b[0m\u001b[0;34m.\u001b[0m\u001b[0m_original_iterator\u001b[0m \u001b[0;32mis\u001b[0m \u001b[0;32mnot\u001b[0m \u001b[0;32mNone\u001b[0m\u001b[0;34m\u001b[0m\u001b[0;34m\u001b[0m\u001b[0m\n\u001b[1;32m   1043\u001b[0m \u001b[0;34m\u001b[0m\u001b[0m\n\u001b[0;32m-> 1044\u001b[0;31m             \u001b[0;32mwhile\u001b[0m \u001b[0mself\u001b[0m\u001b[0;34m.\u001b[0m\u001b[0mdispatch_one_batch\u001b[0m\u001b[0;34m(\u001b[0m\u001b[0miterator\u001b[0m\u001b[0;34m)\u001b[0m\u001b[0;34m:\u001b[0m\u001b[0;34m\u001b[0m\u001b[0;34m\u001b[0m\u001b[0m\n\u001b[0m\u001b[1;32m   1045\u001b[0m                 \u001b[0;32mpass\u001b[0m\u001b[0;34m\u001b[0m\u001b[0;34m\u001b[0m\u001b[0m\n\u001b[1;32m   1046\u001b[0m \u001b[0;34m\u001b[0m\u001b[0m\n",
      "\u001b[0;32m~/anaconda3/lib/python3.7/site-packages/joblib/parallel.py\u001b[0m in \u001b[0;36mdispatch_one_batch\u001b[0;34m(self, iterator)\u001b[0m\n\u001b[1;32m    857\u001b[0m                 \u001b[0;32mreturn\u001b[0m \u001b[0;32mFalse\u001b[0m\u001b[0;34m\u001b[0m\u001b[0;34m\u001b[0m\u001b[0m\n\u001b[1;32m    858\u001b[0m             \u001b[0;32melse\u001b[0m\u001b[0;34m:\u001b[0m\u001b[0;34m\u001b[0m\u001b[0;34m\u001b[0m\u001b[0m\n\u001b[0;32m--> 859\u001b[0;31m                 \u001b[0mself\u001b[0m\u001b[0;34m.\u001b[0m\u001b[0m_dispatch\u001b[0m\u001b[0;34m(\u001b[0m\u001b[0mtasks\u001b[0m\u001b[0;34m)\u001b[0m\u001b[0;34m\u001b[0m\u001b[0;34m\u001b[0m\u001b[0m\n\u001b[0m\u001b[1;32m    860\u001b[0m                 \u001b[0;32mreturn\u001b[0m \u001b[0;32mTrue\u001b[0m\u001b[0;34m\u001b[0m\u001b[0;34m\u001b[0m\u001b[0m\n\u001b[1;32m    861\u001b[0m \u001b[0;34m\u001b[0m\u001b[0m\n",
      "\u001b[0;32m~/anaconda3/lib/python3.7/site-packages/joblib/parallel.py\u001b[0m in \u001b[0;36m_dispatch\u001b[0;34m(self, batch)\u001b[0m\n\u001b[1;32m    775\u001b[0m         \u001b[0;32mwith\u001b[0m \u001b[0mself\u001b[0m\u001b[0;34m.\u001b[0m\u001b[0m_lock\u001b[0m\u001b[0;34m:\u001b[0m\u001b[0;34m\u001b[0m\u001b[0;34m\u001b[0m\u001b[0m\n\u001b[1;32m    776\u001b[0m             \u001b[0mjob_idx\u001b[0m \u001b[0;34m=\u001b[0m \u001b[0mlen\u001b[0m\u001b[0;34m(\u001b[0m\u001b[0mself\u001b[0m\u001b[0;34m.\u001b[0m\u001b[0m_jobs\u001b[0m\u001b[0;34m)\u001b[0m\u001b[0;34m\u001b[0m\u001b[0;34m\u001b[0m\u001b[0m\n\u001b[0;32m--> 777\u001b[0;31m             \u001b[0mjob\u001b[0m \u001b[0;34m=\u001b[0m \u001b[0mself\u001b[0m\u001b[0;34m.\u001b[0m\u001b[0m_backend\u001b[0m\u001b[0;34m.\u001b[0m\u001b[0mapply_async\u001b[0m\u001b[0;34m(\u001b[0m\u001b[0mbatch\u001b[0m\u001b[0;34m,\u001b[0m \u001b[0mcallback\u001b[0m\u001b[0;34m=\u001b[0m\u001b[0mcb\u001b[0m\u001b[0;34m)\u001b[0m\u001b[0;34m\u001b[0m\u001b[0;34m\u001b[0m\u001b[0m\n\u001b[0m\u001b[1;32m    778\u001b[0m             \u001b[0;31m# A job can complete so quickly than its callback is\u001b[0m\u001b[0;34m\u001b[0m\u001b[0;34m\u001b[0m\u001b[0;34m\u001b[0m\u001b[0m\n\u001b[1;32m    779\u001b[0m             \u001b[0;31m# called before we get here, causing self._jobs to\u001b[0m\u001b[0;34m\u001b[0m\u001b[0;34m\u001b[0m\u001b[0;34m\u001b[0m\u001b[0m\n",
      "\u001b[0;32m~/anaconda3/lib/python3.7/site-packages/joblib/_parallel_backends.py\u001b[0m in \u001b[0;36mapply_async\u001b[0;34m(self, func, callback)\u001b[0m\n\u001b[1;32m    206\u001b[0m     \u001b[0;32mdef\u001b[0m \u001b[0mapply_async\u001b[0m\u001b[0;34m(\u001b[0m\u001b[0mself\u001b[0m\u001b[0;34m,\u001b[0m \u001b[0mfunc\u001b[0m\u001b[0;34m,\u001b[0m \u001b[0mcallback\u001b[0m\u001b[0;34m=\u001b[0m\u001b[0;32mNone\u001b[0m\u001b[0;34m)\u001b[0m\u001b[0;34m:\u001b[0m\u001b[0;34m\u001b[0m\u001b[0;34m\u001b[0m\u001b[0m\n\u001b[1;32m    207\u001b[0m         \u001b[0;34m\"\"\"Schedule a func to be run\"\"\"\u001b[0m\u001b[0;34m\u001b[0m\u001b[0;34m\u001b[0m\u001b[0m\n\u001b[0;32m--> 208\u001b[0;31m         \u001b[0mresult\u001b[0m \u001b[0;34m=\u001b[0m \u001b[0mImmediateResult\u001b[0m\u001b[0;34m(\u001b[0m\u001b[0mfunc\u001b[0m\u001b[0;34m)\u001b[0m\u001b[0;34m\u001b[0m\u001b[0;34m\u001b[0m\u001b[0m\n\u001b[0m\u001b[1;32m    209\u001b[0m         \u001b[0;32mif\u001b[0m \u001b[0mcallback\u001b[0m\u001b[0;34m:\u001b[0m\u001b[0;34m\u001b[0m\u001b[0;34m\u001b[0m\u001b[0m\n\u001b[1;32m    210\u001b[0m             \u001b[0mcallback\u001b[0m\u001b[0;34m(\u001b[0m\u001b[0mresult\u001b[0m\u001b[0;34m)\u001b[0m\u001b[0;34m\u001b[0m\u001b[0;34m\u001b[0m\u001b[0m\n",
      "\u001b[0;32m~/anaconda3/lib/python3.7/site-packages/joblib/_parallel_backends.py\u001b[0m in \u001b[0;36m__init__\u001b[0;34m(self, batch)\u001b[0m\n\u001b[1;32m    570\u001b[0m         \u001b[0;31m# Don't delay the application, to avoid keeping the input\u001b[0m\u001b[0;34m\u001b[0m\u001b[0;34m\u001b[0m\u001b[0;34m\u001b[0m\u001b[0m\n\u001b[1;32m    571\u001b[0m         \u001b[0;31m# arguments in memory\u001b[0m\u001b[0;34m\u001b[0m\u001b[0;34m\u001b[0m\u001b[0;34m\u001b[0m\u001b[0m\n\u001b[0;32m--> 572\u001b[0;31m         \u001b[0mself\u001b[0m\u001b[0;34m.\u001b[0m\u001b[0mresults\u001b[0m \u001b[0;34m=\u001b[0m \u001b[0mbatch\u001b[0m\u001b[0;34m(\u001b[0m\u001b[0;34m)\u001b[0m\u001b[0;34m\u001b[0m\u001b[0;34m\u001b[0m\u001b[0m\n\u001b[0m\u001b[1;32m    573\u001b[0m \u001b[0;34m\u001b[0m\u001b[0m\n\u001b[1;32m    574\u001b[0m     \u001b[0;32mdef\u001b[0m \u001b[0mget\u001b[0m\u001b[0;34m(\u001b[0m\u001b[0mself\u001b[0m\u001b[0;34m)\u001b[0m\u001b[0;34m:\u001b[0m\u001b[0;34m\u001b[0m\u001b[0;34m\u001b[0m\u001b[0m\n",
      "\u001b[0;32m~/anaconda3/lib/python3.7/site-packages/joblib/parallel.py\u001b[0m in \u001b[0;36m__call__\u001b[0;34m(self)\u001b[0m\n\u001b[1;32m    261\u001b[0m         \u001b[0;32mwith\u001b[0m \u001b[0mparallel_backend\u001b[0m\u001b[0;34m(\u001b[0m\u001b[0mself\u001b[0m\u001b[0;34m.\u001b[0m\u001b[0m_backend\u001b[0m\u001b[0;34m,\u001b[0m \u001b[0mn_jobs\u001b[0m\u001b[0;34m=\u001b[0m\u001b[0mself\u001b[0m\u001b[0;34m.\u001b[0m\u001b[0m_n_jobs\u001b[0m\u001b[0;34m)\u001b[0m\u001b[0;34m:\u001b[0m\u001b[0;34m\u001b[0m\u001b[0;34m\u001b[0m\u001b[0m\n\u001b[1;32m    262\u001b[0m             return [func(*args, **kwargs)\n\u001b[0;32m--> 263\u001b[0;31m                     for func, args, kwargs in self.items]\n\u001b[0m\u001b[1;32m    264\u001b[0m \u001b[0;34m\u001b[0m\u001b[0m\n\u001b[1;32m    265\u001b[0m     \u001b[0;32mdef\u001b[0m \u001b[0m__reduce__\u001b[0m\u001b[0;34m(\u001b[0m\u001b[0mself\u001b[0m\u001b[0;34m)\u001b[0m\u001b[0;34m:\u001b[0m\u001b[0;34m\u001b[0m\u001b[0;34m\u001b[0m\u001b[0m\n",
      "\u001b[0;32m~/anaconda3/lib/python3.7/site-packages/joblib/parallel.py\u001b[0m in \u001b[0;36m<listcomp>\u001b[0;34m(.0)\u001b[0m\n\u001b[1;32m    261\u001b[0m         \u001b[0;32mwith\u001b[0m \u001b[0mparallel_backend\u001b[0m\u001b[0;34m(\u001b[0m\u001b[0mself\u001b[0m\u001b[0;34m.\u001b[0m\u001b[0m_backend\u001b[0m\u001b[0;34m,\u001b[0m \u001b[0mn_jobs\u001b[0m\u001b[0;34m=\u001b[0m\u001b[0mself\u001b[0m\u001b[0;34m.\u001b[0m\u001b[0m_n_jobs\u001b[0m\u001b[0;34m)\u001b[0m\u001b[0;34m:\u001b[0m\u001b[0;34m\u001b[0m\u001b[0;34m\u001b[0m\u001b[0m\n\u001b[1;32m    262\u001b[0m             return [func(*args, **kwargs)\n\u001b[0;32m--> 263\u001b[0;31m                     for func, args, kwargs in self.items]\n\u001b[0m\u001b[1;32m    264\u001b[0m \u001b[0;34m\u001b[0m\u001b[0m\n\u001b[1;32m    265\u001b[0m     \u001b[0;32mdef\u001b[0m \u001b[0m__reduce__\u001b[0m\u001b[0;34m(\u001b[0m\u001b[0mself\u001b[0m\u001b[0;34m)\u001b[0m\u001b[0;34m:\u001b[0m\u001b[0;34m\u001b[0m\u001b[0;34m\u001b[0m\u001b[0m\n",
      "\u001b[0;32m~/anaconda3/lib/python3.7/site-packages/sklearn/utils/fixes.py\u001b[0m in \u001b[0;36m__call__\u001b[0;34m(self, *args, **kwargs)\u001b[0m\n\u001b[1;32m    220\u001b[0m     \u001b[0;32mdef\u001b[0m \u001b[0m__call__\u001b[0m\u001b[0;34m(\u001b[0m\u001b[0mself\u001b[0m\u001b[0;34m,\u001b[0m \u001b[0;34m*\u001b[0m\u001b[0margs\u001b[0m\u001b[0;34m,\u001b[0m \u001b[0;34m**\u001b[0m\u001b[0mkwargs\u001b[0m\u001b[0;34m)\u001b[0m\u001b[0;34m:\u001b[0m\u001b[0;34m\u001b[0m\u001b[0;34m\u001b[0m\u001b[0m\n\u001b[1;32m    221\u001b[0m         \u001b[0;32mwith\u001b[0m \u001b[0mconfig_context\u001b[0m\u001b[0;34m(\u001b[0m\u001b[0;34m**\u001b[0m\u001b[0mself\u001b[0m\u001b[0;34m.\u001b[0m\u001b[0mconfig\u001b[0m\u001b[0;34m)\u001b[0m\u001b[0;34m:\u001b[0m\u001b[0;34m\u001b[0m\u001b[0;34m\u001b[0m\u001b[0m\n\u001b[0;32m--> 222\u001b[0;31m             \u001b[0;32mreturn\u001b[0m \u001b[0mself\u001b[0m\u001b[0;34m.\u001b[0m\u001b[0mfunction\u001b[0m\u001b[0;34m(\u001b[0m\u001b[0;34m*\u001b[0m\u001b[0margs\u001b[0m\u001b[0;34m,\u001b[0m \u001b[0;34m**\u001b[0m\u001b[0mkwargs\u001b[0m\u001b[0;34m)\u001b[0m\u001b[0;34m\u001b[0m\u001b[0;34m\u001b[0m\u001b[0m\n\u001b[0m",
      "\u001b[0;32m~/anaconda3/lib/python3.7/site-packages/sklearn/model_selection/_validation.py\u001b[0m in \u001b[0;36m_permutation_test_score\u001b[0;34m(estimator, X, y, groups, cv, scorer, fit_params)\u001b[0m\n\u001b[1;32m   1193\u001b[0m         \u001b[0mX_test\u001b[0m\u001b[0;34m,\u001b[0m \u001b[0my_test\u001b[0m \u001b[0;34m=\u001b[0m \u001b[0m_safe_split\u001b[0m\u001b[0;34m(\u001b[0m\u001b[0mestimator\u001b[0m\u001b[0;34m,\u001b[0m \u001b[0mX\u001b[0m\u001b[0;34m,\u001b[0m \u001b[0my\u001b[0m\u001b[0;34m,\u001b[0m \u001b[0mtest\u001b[0m\u001b[0;34m,\u001b[0m \u001b[0mtrain\u001b[0m\u001b[0;34m)\u001b[0m\u001b[0;34m\u001b[0m\u001b[0;34m\u001b[0m\u001b[0m\n\u001b[1;32m   1194\u001b[0m         \u001b[0mfit_params\u001b[0m \u001b[0;34m=\u001b[0m \u001b[0m_check_fit_params\u001b[0m\u001b[0;34m(\u001b[0m\u001b[0mX\u001b[0m\u001b[0;34m,\u001b[0m \u001b[0mfit_params\u001b[0m\u001b[0;34m,\u001b[0m \u001b[0mtrain\u001b[0m\u001b[0;34m)\u001b[0m\u001b[0;34m\u001b[0m\u001b[0;34m\u001b[0m\u001b[0m\n\u001b[0;32m-> 1195\u001b[0;31m         \u001b[0mestimator\u001b[0m\u001b[0;34m.\u001b[0m\u001b[0mfit\u001b[0m\u001b[0;34m(\u001b[0m\u001b[0mX_train\u001b[0m\u001b[0;34m,\u001b[0m \u001b[0my_train\u001b[0m\u001b[0;34m,\u001b[0m \u001b[0;34m**\u001b[0m\u001b[0mfit_params\u001b[0m\u001b[0;34m)\u001b[0m\u001b[0;34m\u001b[0m\u001b[0;34m\u001b[0m\u001b[0m\n\u001b[0m\u001b[1;32m   1196\u001b[0m         \u001b[0mavg_score\u001b[0m\u001b[0;34m.\u001b[0m\u001b[0mappend\u001b[0m\u001b[0;34m(\u001b[0m\u001b[0mscorer\u001b[0m\u001b[0;34m(\u001b[0m\u001b[0mestimator\u001b[0m\u001b[0;34m,\u001b[0m \u001b[0mX_test\u001b[0m\u001b[0;34m,\u001b[0m \u001b[0my_test\u001b[0m\u001b[0;34m)\u001b[0m\u001b[0;34m)\u001b[0m\u001b[0;34m\u001b[0m\u001b[0;34m\u001b[0m\u001b[0m\n\u001b[1;32m   1197\u001b[0m     \u001b[0;32mreturn\u001b[0m \u001b[0mnp\u001b[0m\u001b[0;34m.\u001b[0m\u001b[0mmean\u001b[0m\u001b[0;34m(\u001b[0m\u001b[0mavg_score\u001b[0m\u001b[0;34m)\u001b[0m\u001b[0;34m\u001b[0m\u001b[0;34m\u001b[0m\u001b[0m\n",
      "\u001b[0;32m~/anaconda3/lib/python3.7/site-packages/sklearn/pipeline.py\u001b[0m in \u001b[0;36mfit\u001b[0;34m(self, X, y, **fit_params)\u001b[0m\n\u001b[1;32m    344\u001b[0m             \u001b[0;32mif\u001b[0m \u001b[0mself\u001b[0m\u001b[0;34m.\u001b[0m\u001b[0m_final_estimator\u001b[0m \u001b[0;34m!=\u001b[0m \u001b[0;34m'passthrough'\u001b[0m\u001b[0;34m:\u001b[0m\u001b[0;34m\u001b[0m\u001b[0;34m\u001b[0m\u001b[0m\n\u001b[1;32m    345\u001b[0m                 \u001b[0mfit_params_last_step\u001b[0m \u001b[0;34m=\u001b[0m \u001b[0mfit_params_steps\u001b[0m\u001b[0;34m[\u001b[0m\u001b[0mself\u001b[0m\u001b[0;34m.\u001b[0m\u001b[0msteps\u001b[0m\u001b[0;34m[\u001b[0m\u001b[0;34m-\u001b[0m\u001b[0;36m1\u001b[0m\u001b[0;34m]\u001b[0m\u001b[0;34m[\u001b[0m\u001b[0;36m0\u001b[0m\u001b[0;34m]\u001b[0m\u001b[0;34m]\u001b[0m\u001b[0;34m\u001b[0m\u001b[0;34m\u001b[0m\u001b[0m\n\u001b[0;32m--> 346\u001b[0;31m                 \u001b[0mself\u001b[0m\u001b[0;34m.\u001b[0m\u001b[0m_final_estimator\u001b[0m\u001b[0;34m.\u001b[0m\u001b[0mfit\u001b[0m\u001b[0;34m(\u001b[0m\u001b[0mXt\u001b[0m\u001b[0;34m,\u001b[0m \u001b[0my\u001b[0m\u001b[0;34m,\u001b[0m \u001b[0;34m**\u001b[0m\u001b[0mfit_params_last_step\u001b[0m\u001b[0;34m)\u001b[0m\u001b[0;34m\u001b[0m\u001b[0;34m\u001b[0m\u001b[0m\n\u001b[0m\u001b[1;32m    347\u001b[0m \u001b[0;34m\u001b[0m\u001b[0m\n\u001b[1;32m    348\u001b[0m         \u001b[0;32mreturn\u001b[0m \u001b[0mself\u001b[0m\u001b[0;34m\u001b[0m\u001b[0;34m\u001b[0m\u001b[0m\n",
      "\u001b[0;32m~/anaconda3/lib/python3.7/site-packages/sklearn/svm/_base.py\u001b[0m in \u001b[0;36mfit\u001b[0;34m(self, X, y, sample_weight)\u001b[0m\n\u001b[1;32m    224\u001b[0m \u001b[0;34m\u001b[0m\u001b[0m\n\u001b[1;32m    225\u001b[0m         \u001b[0mseed\u001b[0m \u001b[0;34m=\u001b[0m \u001b[0mrnd\u001b[0m\u001b[0;34m.\u001b[0m\u001b[0mrandint\u001b[0m\u001b[0;34m(\u001b[0m\u001b[0mnp\u001b[0m\u001b[0;34m.\u001b[0m\u001b[0miinfo\u001b[0m\u001b[0;34m(\u001b[0m\u001b[0;34m'i'\u001b[0m\u001b[0;34m)\u001b[0m\u001b[0;34m.\u001b[0m\u001b[0mmax\u001b[0m\u001b[0;34m)\u001b[0m\u001b[0;34m\u001b[0m\u001b[0;34m\u001b[0m\u001b[0m\n\u001b[0;32m--> 226\u001b[0;31m         \u001b[0mfit\u001b[0m\u001b[0;34m(\u001b[0m\u001b[0mX\u001b[0m\u001b[0;34m,\u001b[0m \u001b[0my\u001b[0m\u001b[0;34m,\u001b[0m \u001b[0msample_weight\u001b[0m\u001b[0;34m,\u001b[0m \u001b[0msolver_type\u001b[0m\u001b[0;34m,\u001b[0m \u001b[0mkernel\u001b[0m\u001b[0;34m,\u001b[0m \u001b[0mrandom_seed\u001b[0m\u001b[0;34m=\u001b[0m\u001b[0mseed\u001b[0m\u001b[0;34m)\u001b[0m\u001b[0;34m\u001b[0m\u001b[0;34m\u001b[0m\u001b[0m\n\u001b[0m\u001b[1;32m    227\u001b[0m         \u001b[0;31m# see comment on the other call to np.iinfo in this file\u001b[0m\u001b[0;34m\u001b[0m\u001b[0;34m\u001b[0m\u001b[0;34m\u001b[0m\u001b[0m\n\u001b[1;32m    228\u001b[0m \u001b[0;34m\u001b[0m\u001b[0m\n",
      "\u001b[0;32m~/anaconda3/lib/python3.7/site-packages/sklearn/svm/_base.py\u001b[0m in \u001b[0;36m_dense_fit\u001b[0;34m(self, X, y, sample_weight, solver_type, kernel, random_seed)\u001b[0m\n\u001b[1;32m    283\u001b[0m                 \u001b[0mcache_size\u001b[0m\u001b[0;34m=\u001b[0m\u001b[0mself\u001b[0m\u001b[0;34m.\u001b[0m\u001b[0mcache_size\u001b[0m\u001b[0;34m,\u001b[0m \u001b[0mcoef0\u001b[0m\u001b[0;34m=\u001b[0m\u001b[0mself\u001b[0m\u001b[0;34m.\u001b[0m\u001b[0mcoef0\u001b[0m\u001b[0;34m,\u001b[0m\u001b[0;34m\u001b[0m\u001b[0;34m\u001b[0m\u001b[0m\n\u001b[1;32m    284\u001b[0m                 \u001b[0mgamma\u001b[0m\u001b[0;34m=\u001b[0m\u001b[0mself\u001b[0m\u001b[0;34m.\u001b[0m\u001b[0m_gamma\u001b[0m\u001b[0;34m,\u001b[0m \u001b[0mepsilon\u001b[0m\u001b[0;34m=\u001b[0m\u001b[0mself\u001b[0m\u001b[0;34m.\u001b[0m\u001b[0mepsilon\u001b[0m\u001b[0;34m,\u001b[0m\u001b[0;34m\u001b[0m\u001b[0;34m\u001b[0m\u001b[0m\n\u001b[0;32m--> 285\u001b[0;31m                 max_iter=self.max_iter, random_seed=random_seed)\n\u001b[0m\u001b[1;32m    286\u001b[0m \u001b[0;34m\u001b[0m\u001b[0m\n\u001b[1;32m    287\u001b[0m         \u001b[0mself\u001b[0m\u001b[0;34m.\u001b[0m\u001b[0m_warn_from_fit_status\u001b[0m\u001b[0;34m(\u001b[0m\u001b[0;34m)\u001b[0m\u001b[0;34m\u001b[0m\u001b[0;34m\u001b[0m\u001b[0m\n",
      "\u001b[0;31mKeyboardInterrupt\u001b[0m: "
     ]
    }
   ],
   "source": [
    "AUC = pd.DataFrame()\n",
    "for i in df_mw.drop('mind', axis = 1).columns:\n",
    "    \n",
    "    y, label = pd.factorize(df_mw['mind'])\n",
    "    X = df_mw[i].astype('float32').values.reshape(-1,1)\n",
    "    \n",
    "    steps = [('scaler', StandardScaler()), ('SVM', SVC(probability=True))]\n",
    "    pipe = Pipeline(steps)\n",
    "    \n",
    "#     parameteres = {'SVM__C':[0.001,0.1,10,100,10e5], 'SVM__gamma':[0.1,0.01]}\n",
    "#     grid = GridSearchCV(pipe, param_grid=parameteres, cv=5, n_jobs = -1)\n",
    "#     grid.fit(X, y)      \n",
    "#     steps = [('scaler', StandardScaler()), ('SVM', SVC(C =grid.best_params_['SVM__C'], gamma =grid.best_params_['SVM__gamma'], probability=True))]\n",
    "#     pipe = Pipeline(steps)\n",
    "    \n",
    "    cv = StratifiedKFold(50, shuffle=True, random_state = 42)\n",
    "\n",
    "    score, perm_scores, pvalue = permutation_test_score(\n",
    "    pipe, X, y, scoring='roc_auc', cv=cv, n_permutations=100\n",
    ")\n",
    "\n",
    "    AUC[i] = score\n",
    "\n",
    "#     print(label)\n",
    "    print(f'AUC {i} = {score}; p_value = {pvalue}')\n",
    "    \n",
    "    \n",
    "sns.catplot(data = AUC, kind = 'box', orient = 'h')\n",
    "plt.axvline(x = 0.5, linestyle = 'dashed')\n",
    "plt.show()"
   ]
  },
  {
   "cell_type": "code",
   "execution_count": null,
   "id": "respected-kingdom",
   "metadata": {},
   "outputs": [],
   "source": [
    "AUC = pd.DataFrame()\n",
    "for i in df_mw.drop('mind', axis = 1).columns:\n",
    "    \n",
    "    y, label = pd.factorize(df_mw['mind'])\n",
    "    X = df_mw[i].astype('float32').values.reshape(-1,1)\n",
    "    \n",
    "    steps = [('scaler', StandardScaler()), ('SVM', SVC(probability=True))]\n",
    "    pipe = Pipeline(steps)\n",
    "    \n",
    "#     parameteres = {'SVM__C':[0.001,0.1,10,100,10e5], 'SVM__gamma':[0.1,0.01]}\n",
    "#     grid = GridSearchCV(pipe, param_grid=parameteres, cv=5, n_jobs = -1)\n",
    "#     grid.fit(X, y)      \n",
    "#     steps = [('scaler', StandardScaler()), ('SVM', SVC(C =grid.best_params_['SVM__C'], gamma =grid.best_params_['SVM__gamma'], probability=True))]\n",
    "#     pipe = Pipeline(steps)\n",
    "    \n",
    "    cv = GroupShuffleSplit(n_splits=50, train_size=0.8, test_size=0.2,\n",
    "        random_state=42)\n",
    "\n",
    "    aucs = cross_val_score(\n",
    "    X=X, y=y, estimator=pipe,\n",
    "    scoring='roc_auc', cv=cv, groups=np.arange(len(X)))\n",
    "\n",
    "    AUC[i] = aucs\n",
    "\n",
    "#     print(label)\n",
    "    print(f'AUC {i} = {np.mean(aucs)}')\n",
    "    \n",
    "    \n",
    "sns.catplot(data = AUC, kind = 'box', orient = 'h')\n",
    "plt.axvline(x = 0.5, linestyle = 'dashed')\n",
    "plt.show()"
   ]
  },
  {
   "cell_type": "markdown",
   "id": "passing-summer",
   "metadata": {},
   "source": [
    "# By Trial Univariate analyses"
   ]
  },
  {
   "cell_type": "markdown",
   "id": "fallen-rolling",
   "metadata": {},
   "source": [
    "## On-task Vs Mind- Wandering\n",
    "This can only be performed for PC probes  as they are the only ones with On-task reports."
   ]
  },
  {
   "cell_type": "code",
   "execution_count": null,
   "id": "congressional-friend",
   "metadata": {},
   "outputs": [],
   "source": [
    "agg_dict = {k:'mean' for k in markers }\n",
    "agg_dict.update({k:'first' for k in df_markers.drop(markers, axis=1).columns})\n",
    "\n",
    "df_mind = (\n",
    "    df_markers\n",
    "    .query(\"probe == 'PC'\")\n",
    "#     .query(\"mind != 'sMW'\") #if you want to test against just one of the mw\n",
    "    .assign(\n",
    "    mind2 = lambda df: np.where(df.mind == 'on-task', 'on-task', 'mw'))\n",
    "    .drop(['participant', 'probe', 'mind', 'segment'], axis = 1) # drop mind or mind2 also\n",
    ")"
   ]
  },
  {
   "cell_type": "code",
   "execution_count": null,
   "id": "quality-passion",
   "metadata": {},
   "outputs": [],
   "source": [
    "significants = []\n",
    "AUC = []\n",
    "for i in df_mind.drop('mind2', axis = 1).columns:\n",
    "    ot = df_mind.query(\"mind2 == 'on-task'\")[i]\n",
    "    mw = df_mind.query(\"mind2 == 'mw'\")[i]\n",
    "    auc = roc_auc_score(df_mind['mind2'], df_mind[i])\n",
    "    print(f'AUC {i} = {auc}', f'{mannwhitneyu(x = ot, y = mw)}')\n",
    "    AUC.append([i, auc])\n",
    "    if mannwhitneyu(x = ot, y = mw).pvalue < 0.05:\n",
    "        significants.append(i)\n",
    "\n",
    "print(f'List of significant markers: {significants}')\n",
    "\n",
    "trial_mind_roc = pd.DataFrame(AUC, columns = ['marker', 'AUC'])\n",
    "\n",
    "sns.catplot(x = 'AUC', y = 'marker', data = segment_mind_roc, orient = 'h')\n",
    "plt.axvline(x = 0.5, linestyle = 'dashed')\n",
    "plt.show()"
   ]
  },
  {
   "cell_type": "code",
   "execution_count": null,
   "id": "prostate-timber",
   "metadata": {},
   "outputs": [],
   "source": [
    "AUC = pd.DataFrame()\n",
    "for i in df_mind.drop('mind2', axis = 1).columns:\n",
    "    \n",
    "\n",
    "    AUC[i] =  univariate_classifier(\n",
    "    data= df_mind, label = 'mind2', feature = i, model = 'SVM', grid_search=False, permutation=True, n_permutations = 100\n",
    ")\n",
    "\n",
    "    \n",
    "sns.catplot(data = AUC, kind = 'box', orient = 'h')\n",
    "plt.axvline(x = 0.5, linestyle = 'dashed')\n",
    "plt.show()"
   ]
  },
  {
   "cell_type": "code",
   "execution_count": null,
   "id": "novel-schema",
   "metadata": {},
   "outputs": [],
   "source": [
    "AUC = []\n",
    "for i in  df_mind.drop('mind2', axis = 1).columns:\n",
    "    y, label = pd.factorize(df_mind['mind2'])\n",
    "    X = df_mind[i].astype('float32').values.reshape(-1,1)\n",
    "    svc = SVC(probability=True)\n",
    "    svc.fit(X, y)\n",
    "    y_proba = svc.predict_proba(X)\n",
    "    auc = roc_auc_score(y, y_proba[:,0])\n",
    "    print(f'AUC {i} = {auc}')\n",
    "    AUC.append([i, auc])\n",
    "\n",
    "print(label)\n",
    "df_auc = pd.DataFrame(AUC, columns = ['marker', 'AUC'])\n",
    "\n",
    "sns.catplot(x = 'AUC', y = 'marker', data = df_auc, orient = 'h')\n",
    "plt.axvline(x = 0.5, linestyle = 'dashed')\n",
    "plt.show()"
   ]
  },
  {
   "cell_type": "code",
   "execution_count": null,
   "id": "referenced-aquatic",
   "metadata": {},
   "outputs": [],
   "source": [
    "AUC = pd.DataFrame()\n",
    "for i in  df_mind.drop('mind2', axis = 1).columns:\n",
    "    \n",
    "    y, label = pd.factorize(df_mind['mind2'])\n",
    "    X = df_mind[i].astype('float32').values.reshape(-1,1)\n",
    "    \n",
    "    steps = [('scaler', StandardScaler()), ('SVM', SVC(probability=True))]\n",
    "    pipe = Pipeline(steps)\n",
    "    \n",
    "#     parameteres = {'SVM__C':[0.001,0.1,10,100,10e5], 'SVM__gamma':[0.1,0.01]}\n",
    "#     grid = GridSearchCV(pipe, param_grid=parameteres, cv=5, n_jobs = -1)\n",
    "#     grid.fit(X, y)      \n",
    "#     steps = [('scaler', StandardScaler()), ('SVM', SVC(C =grid.best_params_['SVM__C'], gamma =grid.best_params_['SVM__gamma'], probability=True))]\n",
    "#     pipe = Pipeline(steps)\n",
    "    \n",
    "    cv = GroupShuffleSplit(n_splits=50, train_size=0.8, test_size=0.2,\n",
    "        random_state=42)\n",
    "\n",
    "    aucs = cross_val_score(\n",
    "    X=X, y=y, estimator=pipe,\n",
    "    scoring='roc_auc', cv=cv, groups=np.arange(len(X)))\n",
    "\n",
    "    AUC[i] = aucs\n",
    "\n",
    "#     print(label)\n",
    "    print(f'AUC {i} = {np.mean(aucs)}')\n",
    "    \n",
    "    \n",
    "sns.catplot(data = AUC, kind = 'box', orient = 'h')\n",
    "plt.axvline(x = 0.5, linestyle = 'dashed')\n",
    "plt.show()"
   ]
  },
  {
   "cell_type": "code",
   "execution_count": null,
   "id": "recent-radar",
   "metadata": {},
   "outputs": [],
   "source": [
    "n_estimators = 2000\n",
    "AUC = pd.DataFrame()\n",
    "for i in  df_mind.drop('mind2', axis = 1).columns:\n",
    "    \n",
    "    y, label = pd.factorize(df_mind['mind2'])\n",
    "    X = df_mind[i].astype('float32').values.reshape(-1,1)\n",
    "    \n",
    "    doc_forest = make_pipeline(\n",
    "        RobustScaler(),\n",
    "        ExtraTreesClassifier(\n",
    "            n_estimators=n_estimators, max_features=1, criterion='entropy',\n",
    "            max_depth=4, random_state=42, class_weight='balanced'))\n",
    "\n",
    "    cv = GroupShuffleSplit(n_splits=50, train_size=0.8, test_size=0.2,\n",
    "                           random_state=42)\n",
    "\n",
    "    aucs = cross_val_score(\n",
    "        X=X, y=y, estimator=doc_forest,\n",
    "        scoring='roc_auc', cv=cv, groups=np.arange(len(X)))\n",
    "\n",
    "    AUC[i] = aucs\n",
    "\n",
    "#     print(label)\n",
    "    print(f'AUC {i} = {np.mean(aucs)}')"
   ]
  },
  {
   "cell_type": "code",
   "execution_count": null,
   "id": "unique-reflection",
   "metadata": {},
   "outputs": [],
   "source": [
    "sns.catplot(data = AUC, kind = 'box', orient = 'h')\n",
    "plt.axvline(x = 0.5, linestyle = 'dashed')\n",
    "plt.show()"
   ]
  },
  {
   "cell_type": "markdown",
   "id": "heard-finish",
   "metadata": {},
   "source": [
    "## dMW Vs sMW\n",
    "This will be only performed in SC as they have more trials"
   ]
  },
  {
   "cell_type": "code",
   "execution_count": null,
   "id": "lovely-budapest",
   "metadata": {},
   "outputs": [],
   "source": [
    "df_mw = (\n",
    "    df_markers\n",
    "    .query(\"probe == 'SC'\")\n",
    "    .query(\"mind != 'on-task'\")\n",
    "    .drop(['participant', 'probe', 'segment'], axis = 1)\n",
    ")"
   ]
  },
  {
   "cell_type": "code",
   "execution_count": null,
   "id": "wound-feelings",
   "metadata": {},
   "outputs": [],
   "source": [
    "AUC = []\n",
    "significants = []\n",
    "for i in df_mw.drop('mind', axis = 1).columns:\n",
    "    smw = df_mw.query(\"mind == 'sMW'\")[i]\n",
    "    dmw = df_mw.query(\"mind == 'dMW'\")[i]\n",
    "    auc = roc_auc_score(df_mw['mind'], df_mw[i])\n",
    "    print(f'AUC {i} = {auc}', f'{mannwhitneyu(x = smw, y = dmw)}')\n",
    "    AUC.append([i, auc])\n",
    "    if mannwhitneyu(x = smw, y = dmw).pvalue < 0.05:\n",
    "        significants.append(i)\n",
    "trial_mw_roc = pd.DataFrame(AUC, columns = ['marker', 'AUC'])\n",
    "\n",
    "print(f'List of significant markers: {significants}')\n",
    "\n",
    "sns.catplot(x = 'AUC', y = 'marker', data = segment_mw_roc, orient = 'h')\n",
    "plt.axvline(x = 0.5, linestyle = 'dashed')\n",
    "plt.show()"
   ]
  },
  {
   "cell_type": "code",
   "execution_count": null,
   "id": "vocal-manufacturer",
   "metadata": {},
   "outputs": [],
   "source": [
    "AUC = pd.DataFrame()\n",
    "for i in df_mw.drop('mind', axis = 1).columns:\n",
    "    \n",
    "\n",
    "    AUC[i] =  univariate_classifier(\n",
    "    data= df_mw, label = 'mind', feature = i, model = 'SVM', grid_search=False, permutation=True, n_permutations = 100\n",
    ")\n",
    "\n",
    "    \n",
    "sns.catplot(data = AUC, kind = 'box', orient = 'h')\n",
    "plt.axvline(x = 0.5, linestyle = 'dashed')\n",
    "plt.show()"
   ]
  },
  {
   "cell_type": "code",
   "execution_count": null,
   "id": "photographic-bargain",
   "metadata": {},
   "outputs": [],
   "source": [
    "AUC = pd.DataFrame()\n",
    "for i in df_mw.drop('mind', axis = 1).columns:\n",
    "    \n",
    "    y, label = pd.factorize(df_mw['mind'])\n",
    "    X = df_mw[i].astype('float32').values.reshape(-1,1)\n",
    "    \n",
    "    steps = [('scaler', StandardScaler()), ('SVM', SVC(probability=True))]\n",
    "    pipe = Pipeline(steps)\n",
    "    \n",
    "#     parameteres = {'SVM__C':[0.001,0.1,10,100,10e5], 'SVM__gamma':[0.1,0.01]}\n",
    "#     grid = GridSearchCV(pipe, param_grid=parameteres, cv=5, n_jobs = -1)\n",
    "#     grid.fit(X, y)      \n",
    "#     steps = [('scaler', StandardScaler()), ('SVM', SVC(C =grid.best_params_['SVM__C'], gamma =grid.best_params_['SVM__gamma'], probability=True))]\n",
    "#     pipe = Pipeline(steps)\n",
    "    \n",
    "    cv = GroupShuffleSplit(n_splits=50, train_size=0.8, test_size=0.2,\n",
    "        random_state=42)\n",
    "\n",
    "    aucs = cross_val_score(\n",
    "    X=X, y=y, estimator=pipe,\n",
    "    scoring='roc_auc', cv=cv, groups=np.arange(len(X)))\n",
    "\n",
    "    AUC[i] = aucs\n",
    "\n",
    "#     print(label)\n",
    "    print(f'AUC {i} = {np.mean(aucs)}')\n",
    "    \n",
    "    \n",
    "sns.catplot(data = AUC, kind = 'box', orient = 'h')\n",
    "plt.axvline(x = 0.5, linestyle = 'dashed')\n",
    "plt.show()"
   ]
  },
  {
   "cell_type": "markdown",
   "id": "young-strip",
   "metadata": {},
   "source": [
    "# Plots"
   ]
  },
  {
   "cell_type": "markdown",
   "id": "incoming-drive",
   "metadata": {},
   "source": [
    "## On-task Vs Mind- Wandering\n",
    "This can only be performed for PC probes  as they are the only ones with On-task reports."
   ]
  },
  {
   "cell_type": "code",
   "execution_count": 135,
   "id": "tutorial-intellectual",
   "metadata": {},
   "outputs": [
    {
     "data": {
      "image/png": "[encoded data removed]",
      "text/plain": [
       "<Figure size 432x288 with 1 Axes>"
      ]
     },
     "metadata": {
      "needs_background": "light"
     },
     "output_type": "display_data"
    }
   ],
   "source": [
    "sns.scatterplot(x = 'AUC', y = 'marker', data = subject_mind_roc)\n",
    "sns.scatterplot(x = 'AUC', y = 'marker', data = segment_mind_roc)\n",
    "sns.scatterplot(x = 'AUC', y = 'marker', data = trial_mind_roc)\n",
    "plt.legend(['subject','segment', 'trial'])\n",
    "plt.axvline(x = 0.5, linestyle = 'dashed')\n",
    "plt.show()"
   ]
  },
  {
   "cell_type": "markdown",
   "id": "theoretical-favorite",
   "metadata": {},
   "source": [
    "## dMW Vs sMW\n",
    "This will be only performed in SC as they have more trials"
   ]
  },
  {
   "cell_type": "code",
   "execution_count": 136,
   "id": "maritime-color",
   "metadata": {},
   "outputs": [
    {
     "data": {
      "image/png": "[encoded data removed]",
      "text/plain": [
       "<Figure size 432x288 with 1 Axes>"
      ]
     },
     "metadata": {
      "needs_background": "light"
     },
     "output_type": "display_data"
    }
   ],
   "source": [
    "sns.scatterplot(x = 'AUC', y = 'marker', data = subject_mw_roc)\n",
    "sns.scatterplot(x = 'AUC', y = 'marker', data = segment_mw_roc)\n",
    "sns.scatterplot(x = 'AUC', y = 'marker', data = trial_mw_roc)\n",
    "plt.legend(['subject','segment', 'trial'])\n",
    "plt.axvline(x = 0.5, linestyle = 'dashed')\n",
    "plt.show()"
   ]
  },
  {
   "cell_type": "markdown",
   "id": "laughing-melbourne",
   "metadata": {},
   "source": [
    "## Comparison of significan markers for Mind and Mw"
   ]
  },
  {
   "cell_type": "code",
   "execution_count": 134,
   "id": "cooked-aside",
   "metadata": {},
   "outputs": [
    {
     "data": {
      "image/png": "[encoded data removed]",
      "text/plain": [
       "<Figure size 432x288 with 1 Axes>"
      ]
     },
     "metadata": {
      "needs_background": "light"
     },
     "output_type": "display_data"
    }
   ],
   "source": [
    "sns.scatterplot(x = 'AUC', y = 'marker', data = significants_mind )\n",
    "sns.scatterplot(x = 'AUC', y = 'marker', data = significants_mw )\n",
    "plt.legend(['mind','mw'])\n",
    "plt.axvline(x = 0.5, linestyle = 'dashed')\n",
    "plt.show()"
   ]
  }
 ],
 "metadata": {
  "kernelspec": {
   "display_name": "Python 3",
   "language": "python",
   "name": "python3"
  },
  "language_info": {
   "codemirror_mode": {
    "name": "ipython",
    "version": 3
   },
   "file_extension": ".py",
   "mimetype": "text/x-python",
   "name": "python",
   "nbconvert_exporter": "python",
   "pygments_lexer": "ipython3",
   "version": "3.7.4"
  }
 },
 "nbformat": 4,
 "nbformat_minor": 5
}
