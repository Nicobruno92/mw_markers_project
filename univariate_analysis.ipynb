{
 "cells": [
  {
   "cell_type": "code",
   "execution_count": 56,
   "id": "second-cursor",
   "metadata": {},
   "outputs": [],
   "source": [
    "import numpy as np\n",
    "import seaborn as sns\n",
    "import pandas as pd \n",
    "import matplotlib.pyplot as plt\n",
    "from sklearn.metrics import roc_auc_score\n",
    "from sklearn.svm import SVC\n",
    "from sklearn.preprocessing import StandardScaler\n",
    "from sklearn.pipeline import Pipeline\n",
    "from sklearn.model_selection import GridSearchCV, train_test_split"
   ]
  },
  {
   "cell_type": "code",
   "execution_count": 57,
   "id": "substantial-nickel",
   "metadata": {},
   "outputs": [],
   "source": [
    "epoch_type = 'evoked'\n",
    "# epoch_type = 'pseudo-rs'\n",
    "\n",
    "all_participants = ['VP07','VP08','VP09', 'VP10','VP11','VP12','VP13','VP14','VP18','VP19','VP20','VP22','VP23','VP24','VP25','VP26','VP27','VP28','VP29','VP30','VP31','VP32','VP33','VP35','VP36','VP37']\n",
    "\n",
    "# path = '/media/nicolas.bruno/63f8a366-34b7-4896-a7ce-b5fb4ee78535/Nico/MW_eeg_data/minmarker/' #icm-linux\n",
    "path = '/Users/nicobruno/ownCloud/MW_eeg_data/minmarker/' #nico-mac"
   ]
  },
  {
   "cell_type": "code",
   "execution_count": 58,
   "id": "prepared-apple",
   "metadata": {},
   "outputs": [],
   "source": [
    "df_markers = pd.DataFrame()\n",
    "\n",
    "for i,v in enumerate(all_participants): \n",
    "    participant = v\n",
    "    \n",
    "    folder = path + participant +'/'\n",
    "    \n",
    "    df_ = pd.read_csv(folder+ participant + '_' + epoch_type + '_all_marker.csv', index_col = 0)\n",
    "    df_['participant'] = i\n",
    "    df_markers = df_markers.append(df_)\n",
    "    \n",
    "df_markers.to_csv('all_markers.csv')"
   ]
  },
  {
   "cell_type": "markdown",
   "id": "fluid-water",
   "metadata": {},
   "source": [
    "# Univariate analysis: On-task Vs Mind- Wandering\n",
    "This can only be performed for PC probes  as they are the only ones with On-task reports."
   ]
  },
  {
   "cell_type": "code",
   "execution_count": 62,
   "id": "cooked-short",
   "metadata": {},
   "outputs": [],
   "source": [
    "df_mind = (\n",
    "    df_markers\n",
    "    .query(\"probe == 'PC'\")\n",
    "    .assign(\n",
    "    mind2 = lambda df: np.where(df.mind == 'on-task', 'on-task', 'mw'))\n",
    "#     .query(\"mind != 'sMW'\") #if you want to test against just one of the mw\n",
    "    .drop(['participant', 'probe', 'mind'], axis = 1) # drop mind or mind2 also\n",
    ")"
   ]
  },
  {
   "cell_type": "code",
   "execution_count": 63,
   "id": "express-tract",
   "metadata": {},
   "outputs": [
    {
     "name": "stdout",
     "output_type": "stream",
     "text": [
      "AUC wSMI = 0.5185755162013765\n",
      "AUC p_e = 0.4982445286520764\n",
      "AUC k = 0.48337328899543736\n",
      "AUC b = 0.47190472507926695\n",
      "AUC b_n = 0.4428273142061712\n",
      "AUC g = 0.5059701492537313\n",
      "AUC g_n = 0.507424019797386\n",
      "AUC t = 0.5283040754775346\n",
      "AUC t_n = 0.563026834738226\n",
      "AUC d = 0.4825999535998763\n",
      "AUC d_n = 0.4729796612790968\n",
      "AUC a_n = 0.49499651999072\n",
      "AUC a = 0.4967442579846879\n",
      "AUC CNV = 0.49222024592065583\n",
      "AUC P1 = 0.546763591369577\n",
      "AUC P3a = 0.4988245301987472\n",
      "AUC P3b = 0.5417446446523857\n"
     ]
    },
    {
     "data": {
      "image/png": "[encoded data removed]",
      "text/plain": [
       "<Figure size 360x360 with 1 Axes>"
      ]
     },
     "metadata": {
      "needs_background": "light"
     },
     "output_type": "display_data"
    }
   ],
   "source": [
    "markers = df_mind.drop('mind2', axis = 1).columns\n",
    "\n",
    "AUC = []\n",
    "for i in markers:\n",
    "    auc = roc_auc_score(df_mind['mind2'], df_mind[i])\n",
    "    print(f'AUC {i} = {auc}')\n",
    "    AUC.append([i, auc])\n",
    "df_auc = pd.DataFrame(AUC, columns = ['marker', 'AUC'])\n",
    "\n",
    "sns.catplot(x = 'AUC', y = 'marker', data = df_auc, orient = 'h')\n",
    "plt.axvline(x = 0.5, linestyle = 'dashed')\n",
    "plt.show()"
   ]
  },
  {
   "cell_type": "code",
   "execution_count": 64,
   "id": "vocal-iraqi",
   "metadata": {},
   "outputs": [
    {
     "name": "stdout",
     "output_type": "stream",
     "text": [
      "AUC wSMI = 0.526966205243214\n",
      "AUC p_e = 0.5382337019565384\n",
      "AUC k = 0.4379166344443586\n",
      "AUC b = 0.47220632588353567\n",
      "AUC b_n = 0.44304384811692826\n",
      "AUC g = 0.45673961797231455\n",
      "AUC g_n = 0.5723223261928698\n",
      "AUC t = 0.5323176861804965\n",
      "AUC t_n = 0.4407315752842007\n",
      "AUC d = 0.512052432139819\n",
      "AUC d_n = 0.5480395947722527\n",
      "AUC a_n = 0.5377001005336014\n",
      "AUC a = 0.5467481246616658\n",
      "AUC CNV = 0.5310339494238651\n",
      "AUC P1 = 0.4375415667775113\n",
      "AUC P3a = 0.5351016936045162\n",
      "AUC P3b = 0.5587425566468177\n",
      "Index(['mw', 'on-task'], dtype='object')\n"
     ]
    },
    {
     "data": {
      "image/png": "[encoded data removed]",
      "text/plain": [
       "<Figure size 360x360 with 1 Axes>"
      ]
     },
     "metadata": {
      "needs_background": "light"
     },
     "output_type": "display_data"
    }
   ],
   "source": [
    "markers = df_mind.drop('mind2', axis = 1).columns\n",
    "\n",
    "AUC = []\n",
    "for i in markers:\n",
    "    y, label = pd.factorize(df_mind['mind2'])\n",
    "    X = df_mind[i].astype('float32').values.reshape(-1,1)\n",
    "    svc = SVC(probability=True)\n",
    "    svc.fit(X, y)\n",
    "    y_proba = svc.predict_proba(X)\n",
    "    auc = roc_auc_score(y, y_proba[:,0])\n",
    "    print(f'AUC {i} = {auc}')\n",
    "    AUC.append([i, auc])\n",
    "\n",
    "print(label)\n",
    "df_auc = pd.DataFrame(AUC, columns = ['marker', 'AUC'])\n",
    "\n",
    "sns.catplot(x = 'AUC', y = 'marker', data = df_auc, orient = 'h')\n",
    "plt.axvline(x = 0.5, linestyle = 'dashed')\n",
    "plt.show()"
   ]
  },
  {
   "cell_type": "code",
   "execution_count": 65,
   "id": "improved-blocking",
   "metadata": {},
   "outputs": [
    {
     "name": "stdout",
     "output_type": "stream",
     "text": [
      "{'SVM__C': 0.001, 'SVM__gamma': 0.1}\n",
      "AUC wSMI = 0.5279372368924609\n",
      "{'SVM__C': 0.001, 'SVM__gamma': 0.1}\n",
      "AUC p_e = 0.4984691924990433\n",
      "{'SVM__C': 0.001, 'SVM__gamma': 0.1}\n",
      "AUC k = 0.5015308075009568\n",
      "{'SVM__C': 0.001, 'SVM__gamma': 0.1}\n",
      "AUC b = 0.5373134328358209\n",
      "{'SVM__C': 0.001, 'SVM__gamma': 0.1}\n",
      "AUC b_n = 0.5870646766169153\n",
      "{'SVM__C': 1000000.0, 'SVM__gamma': 0.01}\n",
      "AUC g = 0.4573287409108305\n",
      "{'SVM__C': 0.001, 'SVM__gamma': 0.1}\n",
      "AUC g_n = 0.4869881362418676\n",
      "{'SVM__C': 0.001, 'SVM__gamma': 0.1}\n",
      "AUC t = 0.541523153463452\n",
      "{'SVM__C': 1000000.0, 'SVM__gamma': 0.01}\n",
      "AUC t_n = 0.47895139686184457\n",
      "{'SVM__C': 1000000.0, 'SVM__gamma': 0.1}\n",
      "AUC d = 0.4556065824722541\n",
      "{'SVM__C': 0.001, 'SVM__gamma': 0.1}\n",
      "AUC d_n = 0.5195177956371986\n",
      "{'SVM__C': 0.001, 'SVM__gamma': 0.1}\n",
      "AUC a_n = 0.492920015308075\n",
      "{'SVM__C': 0.001, 'SVM__gamma': 0.1}\n",
      "AUC a = 0.518369690011481\n",
      "{'SVM__C': 100, 'SVM__gamma': 0.1}\n",
      "AUC CNV = 0.5156907768848068\n",
      "{'SVM__C': 1000000.0, 'SVM__gamma': 0.1}\n",
      "AUC P1 = 0.4435514734022197\n",
      "{'SVM__C': 1000000.0, 'SVM__gamma': 0.01}\n",
      "AUC P3a = 0.5845771144278606\n",
      "{'SVM__C': 100, 'SVM__gamma': 0.1}\n",
      "AUC P3b = 0.4083429008802143\n",
      "Index(['mw', 'on-task'], dtype='object')\n"
     ]
    },
    {
     "data": {
      "image/png": "[encoded data removed]",
      "text/plain": [
       "<Figure size 360x360 with 1 Axes>"
      ]
     },
     "metadata": {
      "needs_background": "light"
     },
     "output_type": "display_data"
    }
   ],
   "source": [
    "markers = df_mind.drop('mind2', axis = 1).columns\n",
    "\n",
    "AUC = []\n",
    "for i in markers:\n",
    "    y, label = pd.factorize(df_mind['mind2'])\n",
    "    X = df_mind[i].astype('float32').values.reshape(-1,1)\n",
    "    steps = [('scaler', StandardScaler()), ('SVM', SVC(probability=True))]\n",
    "    pipe = Pipeline(steps)\n",
    "    X_train, X_test, y_train, y_test = train_test_split(X,y,test_size=0.2, random_state=42, stratify=y)\n",
    "    parameteres = {'SVM__C':[0.001,0.1,10,100,10e5], 'SVM__gamma':[0.1,0.01]}\n",
    "    grid = GridSearchCV(pipe, param_grid=parameteres, cv=5)\n",
    "    grid.fit(X_train, y_train)\n",
    "    y_proba = grid.predict_proba(X_test)\n",
    "    auc = roc_auc_score(y_test, y_proba[:,0])\n",
    "    print(grid.best_params_)\n",
    "    print(f'AUC {i} = {auc}')\n",
    "    AUC.append([i, auc])\n",
    "\n",
    "print(label)\n",
    "df_auc = pd.DataFrame(AUC, columns = ['marker', 'AUC'])\n",
    "\n",
    "sns.catplot(x = 'AUC', y = 'marker', data = df_auc, orient = 'h')\n",
    "plt.axvline(x = 0.5, linestyle = 'dashed')\n",
    "plt.show()"
   ]
  },
  {
   "cell_type": "markdown",
   "id": "simple-stream",
   "metadata": {},
   "source": [
    "# Univariate analysis: dMW Vs sMW\n",
    "This will be only performed in SC as they have more trials"
   ]
  },
  {
   "cell_type": "code",
   "execution_count": 66,
   "id": "fundamental-cheat",
   "metadata": {},
   "outputs": [],
   "source": [
    "df_mw = (\n",
    "    df_markers\n",
    "    .query(\"probe == 'SC'\")\n",
    "    .query(\"mind != 'on-task'\")\n",
    "    .drop(['participant', 'probe'], axis = 1)\n",
    ")"
   ]
  },
  {
   "cell_type": "code",
   "execution_count": 67,
   "id": "comprehensive-payment",
   "metadata": {},
   "outputs": [
    {
     "name": "stdout",
     "output_type": "stream",
     "text": [
      "AUC wSMI = 0.48811850136305523\n",
      "AUC p_e = 0.4137260172940856\n",
      "AUC k = 0.5191409305996408\n",
      "AUC b = 0.42768397798433266\n",
      "AUC b_n = 0.490851504530306\n",
      "AUC g = 0.47921383940418466\n",
      "AUC g_n = 0.5319525291480129\n",
      "AUC t = 0.457524719376062\n",
      "AUC t_n = 0.504772416312548\n",
      "AUC d = 0.48966163146158803\n",
      "AUC d_n = 0.5619276805315743\n",
      "AUC a_n = 0.4289832745720421\n",
      "AUC a = 0.4127317279955334\n",
      "AUC CNV = 0.5166944102675448\n",
      "AUC P1 = 0.5171234883183932\n",
      "AUC P3a = 0.5474432807066519\n",
      "AUC P3b = 0.5199667766071472\n"
     ]
    },
    {
     "data": {
      "image/png": "[encoded data removed]",
      "text/plain": [
       "<Figure size 360x360 with 1 Axes>"
      ]
     },
     "metadata": {
      "needs_background": "light"
     },
     "output_type": "display_data"
    }
   ],
   "source": [
    "markers = df_mw.drop('mind', axis = 1).columns\n",
    "\n",
    "AUC = []\n",
    "for i in markers:\n",
    "    auc = roc_auc_score(df_mw['mind'], df_mw[i])\n",
    "    print(f'AUC {i} = {auc}')\n",
    "    AUC.append([i, auc])\n",
    "df_auc = pd.DataFrame(AUC, columns = ['marker', 'AUC'])\n",
    "\n",
    "sns.catplot(x = 'AUC', y = 'marker', data = df_auc, orient = 'h')\n",
    "plt.axvline(x = 0.5, linestyle = 'dashed')\n",
    "plt.show()"
   ]
  },
  {
   "cell_type": "code",
   "execution_count": 68,
   "id": "pediatric-illinois",
   "metadata": {},
   "outputs": [
    {
     "name": "stdout",
     "output_type": "stream",
     "text": [
      "AUC wSMI = 0.5393166458158859\n",
      "AUC p_e = 0.5811159992693611\n",
      "AUC k = 0.5484173223461781\n",
      "AUC b = 0.6029912254400205\n",
      "AUC b_n = 0.5368378153895994\n",
      "AUC g = 0.56145121434258\n",
      "AUC g_n = 0.5591817533266473\n",
      "AUC t = 0.5358482649048618\n",
      "AUC t_n = 0.543971453385581\n",
      "AUC d = 0.49778568154481884\n",
      "AUC d_n = 0.5595599968293028\n",
      "AUC a_n = 0.5744695974937706\n",
      "AUC a = 0.5839778120121175\n",
      "AUC CNV = 0.5499785460974576\n",
      "AUC P1 = 0.47625423477634526\n",
      "AUC P3a = 0.5485263150639137\n",
      "AUC P3b = 0.5345743855912489\n",
      "Index(['dMW', 'sMW'], dtype='object')\n"
     ]
    },
    {
     "data": {
      "image/png": "[encoded data removed]",
      "text/plain": [
       "<Figure size 360x360 with 1 Axes>"
      ]
     },
     "metadata": {
      "needs_background": "light"
     },
     "output_type": "display_data"
    }
   ],
   "source": [
    "markers = df_mw.drop('mind', axis = 1).columns\n",
    "\n",
    "AUC = []\n",
    "for i in markers:\n",
    "    y, label = pd.factorize(df_mw['mind'])\n",
    "    X = df_mw[i].astype('float32').values.reshape(-1,1)\n",
    "    svc = SVC(probability=True)\n",
    "    svc.fit(X, y)\n",
    "    y_proba = svc.predict_proba(X)\n",
    "    auc = roc_auc_score(y, y_proba[:,1])\n",
    "    print(f'AUC {i} = {auc}')\n",
    "    AUC.append([i, auc])\n",
    "print(label)\n",
    "df_auc = pd.DataFrame(AUC, columns = ['marker', 'AUC'])\n",
    "\n",
    "sns.catplot(x = 'AUC', y = 'marker', data = df_auc, orient = 'h')\n",
    "plt.axvline(x = 0.5, linestyle = 'dashed')\n",
    "plt.show()"
   ]
  },
  {
   "cell_type": "code",
   "execution_count": 69,
   "id": "affected-portugal",
   "metadata": {},
   "outputs": [
    {
     "name": "stdout",
     "output_type": "stream",
     "text": [
      "{'SVM__C': 100, 'SVM__gamma': 0.1}\n",
      "AUC wSMI = 0.4269694360740422\n",
      "{'SVM__C': 100, 'SVM__gamma': 0.1}\n",
      "AUC p_e = 0.42097503228583727\n",
      "{'SVM__C': 1000000.0, 'SVM__gamma': 0.1}\n",
      "AUC k = 0.45074257425742575\n",
      "{'SVM__C': 100, 'SVM__gamma': 0.1}\n",
      "AUC b = 0.365002152389152\n",
      "{'SVM__C': 1000000.0, 'SVM__gamma': 0.1}\n",
      "AUC b_n = 0.4672836848902281\n",
      "{'SVM__C': 1000000.0, 'SVM__gamma': 0.1}\n",
      "AUC g = 0.4850624192854068\n",
      "{'SVM__C': 1000000.0, 'SVM__gamma': 0.1}\n",
      "AUC g_n = 0.3837386999569522\n",
      "{'SVM__C': 1000000.0, 'SVM__gamma': 0.01}\n",
      "AUC t = 0.4339539388721481\n",
      "{'SVM__C': 100, 'SVM__gamma': 0.1}\n",
      "AUC t_n = 0.4979875161429187\n",
      "{'SVM__C': 0.001, 'SVM__gamma': 0.1}\n",
      "AUC d = 0.4716960826517435\n",
      "{'SVM__C': 100, 'SVM__gamma': 0.1}\n",
      "AUC d_n = 0.4294877313818338\n",
      "{'SVM__C': 1000000.0, 'SVM__gamma': 0.01}\n",
      "AUC a_n = 0.4062419285406801\n",
      "{'SVM__C': 10, 'SVM__gamma': 0.01}\n",
      "AUC a = 0.39119672836848907\n",
      "{'SVM__C': 1000000.0, 'SVM__gamma': 0.1}\n",
      "AUC CNV = 0.5512268618166165\n",
      "{'SVM__C': 0.001, 'SVM__gamma': 0.1}\n",
      "AUC P1 = 0.5040034438226432\n",
      "{'SVM__C': 100, 'SVM__gamma': 0.01}\n",
      "AUC P3a = 0.5376883340507964\n",
      "{'SVM__C': 100, 'SVM__gamma': 0.1}\n",
      "AUC P3b = 0.5233103745157124\n",
      "Index(['dMW', 'sMW'], dtype='object')\n"
     ]
    },
    {
     "data": {
      "image/png": "[encoded data removed]",
      "text/plain": [
       "<Figure size 360x360 with 1 Axes>"
      ]
     },
     "metadata": {
      "needs_background": "light"
     },
     "output_type": "display_data"
    }
   ],
   "source": [
    "markers = df_mw.drop('mind', axis = 1).columns\n",
    "\n",
    "AUC = []\n",
    "for i in markers:\n",
    "    y, label = pd.factorize(df_mw['mind'])\n",
    "    X = df_mw[i].astype('float32').values.reshape(-1,1)\n",
    "    steps = [('scaler', StandardScaler()), ('SVM', SVC(probability=True))]\n",
    "    pipe = Pipeline(steps)\n",
    "    X_train, X_test, y_train, y_test = train_test_split(X,y,test_size=0.2, random_state=42, stratify=y)\n",
    "    parameteres = {'SVM__C':[0.001,0.1,10,100,10e5], 'SVM__gamma':[0.1,0.01]}\n",
    "    grid = GridSearchCV(pipe, param_grid=parameteres, cv=5)\n",
    "    grid.fit(X_train, y_train)\n",
    "    y_proba = grid.predict_proba(X_test)\n",
    "    auc = roc_auc_score(y_test, y_proba[:,0])\n",
    "    print(grid.best_params_)\n",
    "    print(f'AUC {i} = {auc}')\n",
    "    AUC.append([i, auc])\n",
    "\n",
    "print(label)\n",
    "df_auc = pd.DataFrame(AUC, columns = ['marker', 'AUC'])\n",
    "\n",
    "sns.catplot(x = 'AUC', y = 'marker', data = df_auc, orient = 'h')\n",
    "plt.axvline(x = 0.5, linestyle = 'dashed')\n",
    "plt.show()"
   ]
  }
 ],
 "metadata": {
  "kernelspec": {
   "display_name": "Python 3",
   "language": "python",
   "name": "python3"
  },
  "language_info": {
   "codemirror_mode": {
    "name": "ipython",
    "version": 3
   },
   "file_extension": ".py",
   "mimetype": "text/x-python",
   "name": "python",
   "nbconvert_exporter": "python",
   "pygments_lexer": "ipython3",
   "version": "3.8.8"
  }
 },
 "nbformat": 4,
 "nbformat_minor": 5
}
