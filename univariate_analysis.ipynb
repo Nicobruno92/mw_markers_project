{
 "cells": [
  {
   "cell_type": "code",
   "execution_count": 28,
   "id": "careful-cooperation",
   "metadata": {},
   "outputs": [],
   "source": [
    "from utils import balance_sample\n",
    "\n",
    "import numpy as np\n",
    "import seaborn as sns\n",
    "import pandas as pd \n",
    "import matplotlib.pyplot as plt\n",
    "from sklearn.metrics import roc_auc_score\n",
    "from sklearn.svm import SVC\n",
    "from sklearn.preprocessing import StandardScaler, RobustScaler\n",
    "from sklearn.pipeline import Pipeline, make_pipeline\n",
    "from sklearn.model_selection import GridSearchCV, train_test_split, cross_val_score, GroupShuffleSplit\n",
    "from sklearn.ensemble import ExtraTreesClassifier\n",
    "\n",
    "from scipy.stats import wilcoxon, mannwhitneyu"
   ]
  },
  {
   "cell_type": "markdown",
   "id": "alpha-dance",
   "metadata": {},
   "source": [
    "# Load Data"
   ]
  },
  {
   "cell_type": "code",
   "execution_count": 87,
   "id": "enclosed-intellectual",
   "metadata": {},
   "outputs": [],
   "source": [
    "epoch_type = 'evoked'\n",
    "# epoch_type = 'pseudo-rs'\n",
    "\n",
    "all_participants = ['VP07','VP08','VP09', 'VP10','VP11','VP12','VP13','VP14','VP18','VP19','VP20','VP22','VP23','VP24','VP25','VP26','VP27','VP28','VP29','VP30','VP31','VP32','VP33','VP35','VP36','VP37']\n",
    "\n",
    "# path = '/media/nicolas.bruno/63f8a366-34b7-4896-a7ce-b5fb4ee78535/Nico/MW_eeg_data/minmarker/' #icm-linux\n",
    "path = '/Users/nicobruno/ownCloud/MW_eeg_data/minmarker/' #nico-mac"
   ]
  },
  {
   "cell_type": "code",
   "execution_count": 88,
   "id": "insured-bryan",
   "metadata": {},
   "outputs": [],
   "source": [
    "df = pd.DataFrame()\n",
    "\n",
    "for i,v in enumerate(all_participants): \n",
    "    participant = v\n",
    "    \n",
    "    folder = path + participant +'/'\n",
    "    \n",
    "    df_ = pd.read_csv(folder+ participant + '_' + epoch_type + '_all_marker.csv', index_col = 0)\n",
    "    df_['participant'] = i\n",
    "    df = df.append(df_)\n",
    "    \n",
    "df.to_csv('all_markers.csv')"
   ]
  },
  {
   "cell_type": "code",
   "execution_count": 89,
   "id": "purple-completion",
   "metadata": {},
   "outputs": [],
   "source": [
    "df_markers = (df\n",
    "              .query(\"stimuli == 'go'\")\n",
    "              .query(\"correct == 'correct'\")\n",
    "              .query(\"preproc == 'subtracted'\")\n",
    "              .drop(['stimuli', 'correct', 'prev_trial', 'label', 'events', 'preproc', 'epoch_type'], axis = 1)\n",
    "              .query(\"mind in ['on-task','dMW', 'sMW']\")\n",
    "             )\n",
    "\n",
    "markers = ['wSMI', 'p_e', 'k', 'b', 'b_n', 'g', 'g_n', 't', 't_n',\n",
    "       'd', 'd_n', 'a_n', 'a', 'CNV', 'P1', 'P3a', 'P3b']"
   ]
  },
  {
   "cell_type": "markdown",
   "id": "separated-frederick",
   "metadata": {},
   "source": [
    "# By Subject Univariate analyses "
   ]
  },
  {
   "cell_type": "markdown",
   "id": "executed-mediterranean",
   "metadata": {},
   "source": [
    "## On-task Vs Mind- Wandering\n",
    "This can only be performed for PC probes  as they are the only ones with On-task reports."
   ]
  },
  {
   "cell_type": "code",
   "execution_count": 68,
   "id": "cultural-meditation",
   "metadata": {},
   "outputs": [],
   "source": [
    "df_mind = (\n",
    "    df_markers\n",
    "    .query(\"probe == 'PC'\")\n",
    "    .assign(\n",
    "    mind2 = lambda df: np.where(df.mind == 'on-task', 'on-task', 'mw'))\n",
    "    .groupby(['mind2', 'participant']).filter(lambda x: len(x) > 7) #min nbr of trials\n",
    ")\n",
    "\n",
    "agg_dict = {k:'mean' for k in markers }\n",
    "agg_dict.update({k:'first' for k in df_mind.drop(markers, axis=1).columns})\n",
    "\n",
    "df_mind = (df_mind\n",
    "    .groupby(['mind2', 'participant'], as_index = False).agg(agg_dict)\n",
    "#     .query(\"mind != 'sMW'\") #if you want to test against just one of the mw\n",
    ")\n",
    "df_mind = balance_sample(df_mind, 'participant', 'mind2', levels = 2).drop(['participant', 'probe', 'mind', 'segment'], axis = 1) # drop mind or mind2 also\n"
   ]
  },
  {
   "cell_type": "code",
   "execution_count": 69,
   "id": "blocked-grade",
   "metadata": {},
   "outputs": [
    {
     "name": "stdout",
     "output_type": "stream",
     "text": [
      "AUC wSMI = 0.46153846153846156 WilcoxonResult(statistic=44.0, pvalue=0.946044921875)\n",
      "AUC p_e = 0.5207100591715976 WilcoxonResult(statistic=42.0, pvalue=0.83935546875)\n",
      "AUC k = 0.5029585798816568 WilcoxonResult(statistic=39.0, pvalue=0.684814453125)\n",
      "AUC b = 0.47928994082840237 WilcoxonResult(statistic=35.0, pvalue=0.497314453125)\n",
      "AUC b_n = 0.514792899408284 WilcoxonResult(statistic=35.0, pvalue=0.497314453125)\n",
      "AUC g = 0.47337278106508873 WilcoxonResult(statistic=42.0, pvalue=0.83935546875)\n",
      "AUC g_n = 0.4970414201183432 WilcoxonResult(statistic=45.0, pvalue=1.0)\n",
      "AUC t = 0.5029585798816567 WilcoxonResult(statistic=43.0, pvalue=0.892578125)\n",
      "AUC t_n = 0.5917159763313609 WilcoxonResult(statistic=22.0, pvalue=0.10986328125)\n",
      "AUC d = 0.4792899408284023 WilcoxonResult(statistic=28.0, pvalue=0.243896484375)\n",
      "AUC d_n = 0.4674556213017751 WilcoxonResult(statistic=35.0, pvalue=0.497314453125)\n",
      "AUC a_n = 0.47928994082840237 WilcoxonResult(statistic=24.0, pvalue=0.146484375)\n",
      "AUC a = 0.4378698224852071 WilcoxonResult(statistic=26.0, pvalue=0.19091796875)\n",
      "AUC CNV = 0.6035502958579881 WilcoxonResult(statistic=27.0, pvalue=0.21630859375)\n",
      "AUC P1 = 0.44970414201183434 WilcoxonResult(statistic=41.0, pvalue=0.786865234375)\n",
      "AUC P3a = 0.5739644970414202 WilcoxonResult(statistic=34.0, pvalue=0.454833984375)\n",
      "AUC P3b = 0.5680473372781065 WilcoxonResult(statistic=38.0, pvalue=0.635498046875)\n"
     ]
    },
    {
     "data": {
      "image/png": "[encoded data removed]",
      "text/plain": [
       "<Figure size 360x360 with 1 Axes>"
      ]
     },
     "metadata": {
      "needs_background": "light"
     },
     "output_type": "display_data"
    }
   ],
   "source": [
    "AUC = []\n",
    "for i in markers:\n",
    "    ot = df_mind.query(\"mind2 == 'on-task'\")[i]\n",
    "    mw = df_mind.query(\"mind2 == 'mw'\")[i]\n",
    "    auc = roc_auc_score(df_mind['mind2'], df_mind[i])\n",
    "    print(f'AUC {i} = {auc}', f'{wilcoxon(x = ot, y = mw)}')\n",
    "    AUC.append([i, auc])\n",
    "    \n",
    "subject_mind_roc = pd.DataFrame(AUC, columns = ['marker', 'AUC'])\n",
    "\n",
    "sns.catplot(x = 'AUC', y = 'marker', data = subject_mind_roc, orient = 'h')\n",
    "plt.axvline(x = 0.5, linestyle = 'dashed')\n",
    "plt.show()"
   ]
  },
  {
   "cell_type": "code",
   "execution_count": 16,
   "id": "sticky-permission",
   "metadata": {},
   "outputs": [
    {
     "name": "stdout",
     "output_type": "stream",
     "text": [
      "AUC wSMI = 0.5661797752808988\n",
      "AUC p_e = 0.5581460674157304\n",
      "AUC k = 0.4173033707865168\n",
      "AUC b = 0.56\n",
      "AUC b_n = 0.5735955056179776\n",
      "AUC g = 0.5921348314606742\n",
      "AUC g_n = 0.5610112359550562\n",
      "AUC t = 0.37449438202247187\n",
      "AUC t_n = 0.38938202247191006\n",
      "AUC d = 0.5703370786516854\n",
      "AUC d_n = 0.581067415730337\n",
      "AUC a_n = 0.6038202247191011\n",
      "AUC a = 0.42573033707865165\n",
      "AUC CNV = 0.39651685393258423\n",
      "AUC P1 = 0.5875280898876405\n",
      "AUC P3a = 0.38752808988764037\n",
      "AUC P3b = 0.37174157303370786\n",
      "Index(['on-task', 'mw'], dtype='object')\n"
     ]
    },
    {
     "data": {
      "image/png": "[encoded data removed]",
      "text/plain": [
       "<Figure size 360x360 with 1 Axes>"
      ]
     },
     "metadata": {
      "needs_background": "light"
     },
     "output_type": "display_data"
    }
   ],
   "source": [
    "AUC = []\n",
    "for i in markers:\n",
    "    y, label = pd.factorize(df_mind['mind2'])\n",
    "    X = df_mind[i].astype('float32').values.reshape(-1,1)\n",
    "    svc = SVC(probability=True)\n",
    "    svc.fit(X, y)\n",
    "    y_proba = svc.predict_proba(X)\n",
    "    auc = roc_auc_score(y, y_proba[:,0])\n",
    "    print(f'AUC {i} = {auc}')\n",
    "    AUC.append([i, auc])\n",
    "\n",
    "print(label)\n",
    "df_auc = pd.DataFrame(AUC, columns = ['marker', 'AUC'])\n",
    "\n",
    "sns.catplot(x = 'AUC', y = 'marker', data = df_auc, orient = 'h')\n",
    "plt.axvline(x = 0.5, linestyle = 'dashed')\n",
    "plt.show()"
   ]
  },
  {
   "cell_type": "markdown",
   "id": "conservative-accounting",
   "metadata": {},
   "source": [
    "## dMW Vs sMW\n",
    "This will be only performed in SC as they have more trials"
   ]
  },
  {
   "cell_type": "code",
   "execution_count": 90,
   "id": "opened-effect",
   "metadata": {
    "tags": []
   },
   "outputs": [],
   "source": [
    "df_mw = (\n",
    "    df_markers\n",
    "    .query(\"probe == 'SC'\")\n",
    "    .query(\"mind != 'on-task'\")\n",
    "    .groupby(['mind', 'participant']).filter(lambda x: len(x) > 7) #min nbr of trials\n",
    ")\n",
    "\n",
    "agg_dict = {k:'mean' for k in markers }\n",
    "agg_dict.update({k:'first' for k in df_mw.drop(markers, axis=1).columns})\n",
    "\n",
    "df_mw = (df_mw\n",
    "    .groupby(['mind', 'participant'], as_index = False).agg(agg_dict)\n",
    ")\n",
    "df_mw = balance_sample(df_mw, 'participant', 'mind', levels = 2).drop(['participant', 'probe','segment'], axis = 1) \n"
   ]
  },
  {
   "cell_type": "code",
   "execution_count": 91,
   "id": "formal-short",
   "metadata": {},
   "outputs": [
    {
     "name": "stdout",
     "output_type": "stream",
     "text": [
      "AUC wSMI = 0.5308641975308641 WilcoxonResult(statistic=76.0, pvalue=0.7018814086914062)\n",
      "AUC p_e = 0.49999999999999994 WilcoxonResult(statistic=64.0, pvalue=0.3692169189453125)\n",
      "AUC k = 0.5185185185185185 WilcoxonResult(statistic=84.0, pvalue=0.9661178588867188)\n",
      "AUC b = 0.5123456790123457 WilcoxonResult(statistic=75.0, pvalue=0.6705245971679688)\n",
      "AUC b_n = 0.5185185185185186 WilcoxonResult(statistic=57.0, pvalue=0.22875213623046875)\n",
      "AUC g = 0.5030864197530864 WilcoxonResult(statistic=84.0, pvalue=0.9661178588867188)\n",
      "AUC g_n = 0.5 WilcoxonResult(statistic=82.0, pvalue=0.8985748291015625)\n",
      "AUC t = 0.4876543209876544 WilcoxonResult(statistic=85.0, pvalue=1.0)\n",
      "AUC t_n = 0.49074074074074076 WilcoxonResult(statistic=85.0, pvalue=1.0)\n",
      "AUC d = 0.49074074074074076 WilcoxonResult(statistic=80.0, pvalue=0.83172607421875)\n",
      "AUC d_n = 0.49382716049382713 WilcoxonResult(statistic=79.0, pvalue=0.7987060546875)\n",
      "AUC a_n = 0.5030864197530864 WilcoxonResult(statistic=76.0, pvalue=0.7018814086914062)\n",
      "AUC a = 0.4876543209876544 WilcoxonResult(statistic=77.0, pvalue=0.7337265014648438)\n",
      "AUC CNV = 0.441358024691358 WilcoxonResult(statistic=68.0, pvalue=0.468292236328125)\n",
      "AUC P1 = 0.712962962962963 WilcoxonResult(statistic=36.0, pvalue=0.030364990234375)\n",
      "AUC P3a = 0.5833333333333333 WilcoxonResult(statistic=65.0, pvalue=0.39273834228515625)\n",
      "AUC P3b = 0.5493827160493827 WilcoxonResult(statistic=84.0, pvalue=0.9661178588867188)\n"
     ]
    },
    {
     "data": {
      "image/png": "[encoded data removed]",
      "text/plain": [
       "<Figure size 360x360 with 1 Axes>"
      ]
     },
     "metadata": {
      "needs_background": "light"
     },
     "output_type": "display_data"
    }
   ],
   "source": [
    "AUC = []\n",
    "for i in markers:\n",
    "    smw = df_mw.query(\"mind == 'sMW'\")[i]\n",
    "    dmw = df_mw.query(\"mind == 'dMW'\")[i]\n",
    "    auc = roc_auc_score(df_mw['mind'], df_mw[i])\n",
    "    print(f'AUC {i} = {auc}', f'{wilcoxon(x = smw, y = dmw)}')\n",
    "    AUC.append([i, auc])\n",
    "subject_mw_roc = pd.DataFrame(AUC, columns = ['marker', 'AUC'])\n",
    "\n",
    "sns.catplot(x = 'AUC', y = 'marker', data = subject_mw_roc, orient = 'h')\n",
    "plt.axvline(x = 0.5, linestyle = 'dashed')\n",
    "plt.show()"
   ]
  },
  {
   "cell_type": "code",
   "execution_count": 21,
   "id": "respiratory-possession",
   "metadata": {},
   "outputs": [
    {
     "name": "stdout",
     "output_type": "stream",
     "text": [
      "AUC wSMI = 0.5655056179775282\n",
      "AUC p_e = 0.5561797752808989\n",
      "AUC k = 0.5885393258426966\n",
      "AUC b = 0.44000000000000006\n",
      "AUC b_n = 0.5735955056179776\n",
      "AUC g = 0.5920786516853932\n",
      "AUC g_n = 0.5585393258426967\n",
      "AUC t = 0.37449438202247187\n",
      "AUC t_n = 0.3885393258426966\n",
      "AUC d = 0.5684831460674157\n",
      "AUC d_n = 0.5796629213483147\n",
      "AUC a_n = 0.6040449438202248\n",
      "AUC a = 0.5739325842696629\n",
      "AUC CNV = 0.396629213483146\n",
      "AUC P1 = 0.5875280898876405\n",
      "AUC P3a = 0.6119101123595506\n",
      "AUC P3b = 0.3712921348314607\n",
      "Index(['on-task', 'mw'], dtype='object')\n"
     ]
    },
    {
     "data": {
      "image/png": "[encoded data removed]",
      "text/plain": [
       "<Figure size 360x360 with 1 Axes>"
      ]
     },
     "metadata": {
      "needs_background": "light"
     },
     "output_type": "display_data"
    }
   ],
   "source": [
    "AUC = []\n",
    "for i in markers:\n",
    "    y, label = pd.factorize(df_mind['mind2'])\n",
    "    X = df_mind[i].astype('float32').values.reshape(-1,1)\n",
    "    svc = SVC(probability=True)\n",
    "    svc.fit(X, y)\n",
    "    y_proba = svc.predict_proba(X)\n",
    "    auc = roc_auc_score(y, y_proba[:,0])\n",
    "    print(f'AUC {i} = {auc}')\n",
    "    AUC.append([i, auc])\n",
    "\n",
    "print(label)\n",
    "df_auc = pd.DataFrame(AUC, columns = ['marker', 'AUC'])\n",
    "\n",
    "sns.catplot(x = 'AUC', y = 'marker', data = df_auc, orient = 'h')\n",
    "plt.axvline(x = 0.5, linestyle = 'dashed')\n",
    "plt.show()"
   ]
  },
  {
   "cell_type": "markdown",
   "id": "seasonal-testament",
   "metadata": {},
   "source": [
    "# By Segment Univariate analyses"
   ]
  },
  {
   "cell_type": "markdown",
   "id": "seven-outline",
   "metadata": {},
   "source": [
    "## On-task Vs Mind- Wandering\n",
    "This can only be performed for PC probes  as they are the only ones with On-task reports."
   ]
  },
  {
   "cell_type": "code",
   "execution_count": 54,
   "id": "royal-timer",
   "metadata": {},
   "outputs": [],
   "source": [
    "agg_dict = {k:'mean' for k in markers }\n",
    "agg_dict.update({k:'first' for k in df_markers.drop(markers, axis=1).columns})\n",
    "\n",
    "df_mind = (\n",
    "    df_markers\n",
    "    .query(\"probe == 'PC'\")\n",
    "    .groupby(['segment', 'participant'], as_index = False).agg(agg_dict)\n",
    "#     .query(\"mind != 'sMW'\") #if you want to test against just one of the mw\n",
    "    .assign(\n",
    "    mind2 = lambda df: np.where(df.mind == 'on-task', 'on-task', 'mw'))\n",
    "    .drop(['participant', 'probe', 'mind', 'segment'], axis = 1) # drop mind or mind2 also\n",
    ")"
   ]
  },
  {
   "cell_type": "code",
   "execution_count": 55,
   "id": "spanish-following",
   "metadata": {},
   "outputs": [
    {
     "name": "stdout",
     "output_type": "stream",
     "text": [
      "AUC wSMI = 0.5323595505617977 MannwhitneyuResult(statistic=4162.0, pvalue=0.22187598409133724)\n",
      "AUC p_e = 0.498876404494382 MannwhitneyuResult(statistic=4440.0, pvalue=0.4899050043756043)\n",
      "AUC k = 0.46207865168539325 MannwhitneyuResult(statistic=4112.5, pvalue=0.1846628997384837)\n",
      "AUC b = 0.45067415730337085 MannwhitneyuResult(statistic=4011.0, pvalue=0.12137866284703919)\n",
      "AUC b_n = 0.4448314606741573 MannwhitneyuResult(statistic=3959.0, pvalue=0.0956665405491543)\n",
      "AUC g = 0.4544943820224719 MannwhitneyuResult(statistic=4045.0, pvalue=0.14061736062183222)\n",
      "AUC g_n = 0.4807865168539326 MannwhitneyuResult(statistic=4279.0, pvalue=0.32484391951249214)\n",
      "AUC t = 0.510561797752809 MannwhitneyuResult(statistic=4356.0, pvalue=0.4016513190616169)\n",
      "AUC t_n = 0.5970786516853932 MannwhitneyuResult(statistic=3586.0, pvalue=0.010716112377762172)\n",
      "AUC d = 0.4762921348314606 MannwhitneyuResult(statistic=4239.0, pvalue=0.28748326762595944)\n",
      "AUC d_n = 0.5082022471910113 MannwhitneyuResult(statistic=4377.0, pvalue=0.42342734538016424)\n",
      "AUC a_n = 0.47426966292134826 MannwhitneyuResult(statistic=4221.0, pvalue=0.27136085354239514)\n",
      "AUC a = 0.48247191011235957 MannwhitneyuResult(statistic=4294.0, pvalue=0.33935016014703795)\n",
      "AUC CNV = 0.5344943820224719 MannwhitneyuResult(statistic=4143.0, pvalue=0.20711081513053242)\n",
      "AUC P1 = 0.5224719101123595 MannwhitneyuResult(statistic=4250.0, pvalue=0.2975537838700959)\n",
      "AUC P3a = 0.5293258426966292 MannwhitneyuResult(statistic=4189.0, pvalue=0.24385760119550565)\n",
      "AUC P3b = 0.6197752808988763 MannwhitneyuResult(statistic=3384.0, pvalue=0.002267077706077943)\n"
     ]
    },
    {
     "ename": "NameError",
     "evalue": "name 'subject_mind_roc' is not defined",
     "output_type": "error",
     "traceback": [
      "\u001b[0;31m---------------------------------------------------------------------------\u001b[0m",
      "\u001b[0;31mNameError\u001b[0m                                 Traceback (most recent call last)",
      "\u001b[0;32m<ipython-input-55-89a7d273b143>\u001b[0m in \u001b[0;36m<module>\u001b[0;34m\u001b[0m\n\u001b[1;32m     10\u001b[0m \u001b[0msegment_mind_roc\u001b[0m \u001b[0;34m=\u001b[0m \u001b[0mpd\u001b[0m\u001b[0;34m.\u001b[0m\u001b[0mDataFrame\u001b[0m\u001b[0;34m(\u001b[0m\u001b[0mAUC\u001b[0m\u001b[0;34m,\u001b[0m \u001b[0mcolumns\u001b[0m \u001b[0;34m=\u001b[0m \u001b[0;34m[\u001b[0m\u001b[0;34m'marker'\u001b[0m\u001b[0;34m,\u001b[0m \u001b[0;34m'AUC'\u001b[0m\u001b[0;34m]\u001b[0m\u001b[0;34m)\u001b[0m\u001b[0;34m\u001b[0m\u001b[0;34m\u001b[0m\u001b[0m\n\u001b[1;32m     11\u001b[0m \u001b[0;34m\u001b[0m\u001b[0m\n\u001b[0;32m---> 12\u001b[0;31m \u001b[0msns\u001b[0m\u001b[0;34m.\u001b[0m\u001b[0mcatplot\u001b[0m\u001b[0;34m(\u001b[0m\u001b[0mx\u001b[0m \u001b[0;34m=\u001b[0m \u001b[0;34m'AUC'\u001b[0m\u001b[0;34m,\u001b[0m \u001b[0my\u001b[0m \u001b[0;34m=\u001b[0m \u001b[0;34m'marker'\u001b[0m\u001b[0;34m,\u001b[0m \u001b[0mdata\u001b[0m \u001b[0;34m=\u001b[0m \u001b[0msubject_mind_roc\u001b[0m\u001b[0;34m,\u001b[0m \u001b[0morient\u001b[0m \u001b[0;34m=\u001b[0m \u001b[0;34m'h'\u001b[0m\u001b[0;34m)\u001b[0m\u001b[0;34m\u001b[0m\u001b[0;34m\u001b[0m\u001b[0m\n\u001b[0m\u001b[1;32m     13\u001b[0m \u001b[0mplt\u001b[0m\u001b[0;34m.\u001b[0m\u001b[0maxvline\u001b[0m\u001b[0;34m(\u001b[0m\u001b[0mx\u001b[0m \u001b[0;34m=\u001b[0m \u001b[0;36m0.5\u001b[0m\u001b[0;34m,\u001b[0m \u001b[0mlinestyle\u001b[0m \u001b[0;34m=\u001b[0m \u001b[0;34m'dashed'\u001b[0m\u001b[0;34m)\u001b[0m\u001b[0;34m\u001b[0m\u001b[0;34m\u001b[0m\u001b[0m\n\u001b[1;32m     14\u001b[0m \u001b[0mplt\u001b[0m\u001b[0;34m.\u001b[0m\u001b[0mshow\u001b[0m\u001b[0;34m(\u001b[0m\u001b[0;34m)\u001b[0m\u001b[0;34m\u001b[0m\u001b[0;34m\u001b[0m\u001b[0m\n",
      "\u001b[0;31mNameError\u001b[0m: name 'subject_mind_roc' is not defined"
     ]
    }
   ],
   "source": [
    "markers = df_mind.drop('mind2', axis = 1).columns\n",
    "\n",
    "AUC = []\n",
    "for i in markers:\n",
    "    ot = df_mind.query(\"mind2 == 'on-task'\")[i]\n",
    "    mw = df_mind.query(\"mind2 == 'mw'\")[i]\n",
    "    auc = roc_auc_score(df_mind['mind2'], df_mind[i])\n",
    "    print(f'AUC {i} = {auc}', f'{mannwhitneyu(x = ot, y = mw)}')\n",
    "    AUC.append([i, auc])\n",
    "segment_mind_roc = pd.DataFrame(AUC, columns = ['marker', 'AUC'])\n",
    "\n",
    "sns.catplot(x = 'AUC', y = 'marker', data = subject_mind_roc, orient = 'h')\n",
    "plt.axvline(x = 0.5, linestyle = 'dashed')\n",
    "plt.show()"
   ]
  },
  {
   "cell_type": "code",
   "execution_count": 24,
   "id": "enabling-perfume",
   "metadata": {},
   "outputs": [
    {
     "name": "stdout",
     "output_type": "stream",
     "text": [
      "AUC wSMI = 0.5673033707865168\n",
      "AUC p_e = 0.5562359550561797\n",
      "AUC k = 0.5824719101123594\n",
      "AUC b = 0.5368539325842697\n",
      "AUC b_n = 0.4264606741573034\n",
      "AUC g = 0.5921348314606742\n",
      "AUC g_n = 0.5587640449438203\n",
      "AUC t = 0.3750561797752809\n",
      "AUC t_n = 0.3889887640449438\n",
      "AUC d = 0.5668539325842696\n",
      "AUC d_n = 0.5801685393258427\n",
      "AUC a_n = 0.3949438202247191\n",
      "AUC a = 0.573370786516854\n",
      "AUC CNV = 0.6033707865168539\n",
      "AUC P1 = 0.5875280898876405\n",
      "AUC P3a = 0.6124719101123595\n",
      "AUC P3b = 0.371123595505618\n",
      "Index(['on-task', 'mw'], dtype='object')\n"
     ]
    },
    {
     "data": {
      "image/png": "[encoded data removed]",
      "text/plain": [
       "<Figure size 360x360 with 1 Axes>"
      ]
     },
     "metadata": {
      "needs_background": "light"
     },
     "output_type": "display_data"
    }
   ],
   "source": [
    "markers = df_mind.drop('mind2', axis = 1).columns\n",
    "\n",
    "AUC = []\n",
    "for i in markers:\n",
    "    y, label = pd.factorize(df_mind['mind2'])\n",
    "    X = df_mind[i].astype('float32').values.reshape(-1,1)\n",
    "    svc = SVC(probability=True)\n",
    "    svc.fit(X, y)\n",
    "    y_proba = svc.predict_proba(X)\n",
    "    auc = roc_auc_score(y, y_proba[:,0])\n",
    "    print(f'AUC {i} = {auc}')\n",
    "    AUC.append([i, auc])\n",
    "\n",
    "print(label)\n",
    "df_auc = pd.DataFrame(AUC, columns = ['marker', 'AUC'])\n",
    "\n",
    "sns.catplot(x = 'AUC', y = 'marker', data = df_auc, orient = 'h')\n",
    "plt.axvline(x = 0.5, linestyle = 'dashed')\n",
    "plt.show()"
   ]
  },
  {
   "cell_type": "code",
   "execution_count": 25,
   "id": "surprised-production",
   "metadata": {},
   "outputs": [
    {
     "name": "stdout",
     "output_type": "stream",
     "text": [
      "AUC wSMI = 0.4375474983206172\n",
      "AUC p_e = 0.4896168492670631\n",
      "AUC k = 0.5024335623575753\n",
      "AUC b = 0.5029635164990517\n",
      "AUC b_n = 0.5251507546542695\n",
      "AUC g = 0.5233673862063019\n",
      "AUC g_n = 0.4863379572140722\n",
      "AUC t = 0.5839878474926946\n",
      "AUC t_n = 0.5861534720306618\n",
      "AUC d = 0.4875855261269176\n",
      "AUC d_n = 0.5031184637067466\n",
      "AUC a_n = 0.5237620762206309\n",
      "AUC a = 0.5063928077092706\n",
      "AUC CNV = 0.5450558078253287\n",
      "AUC P1 = 0.5278271530066373\n",
      "AUC P3a = 0.5638230643677872\n",
      "AUC P3b = 0.596444566740103\n"
     ]
    },
    {
     "data": {
      "image/png": "[encoded data removed]",
      "text/plain": [
       "<Figure size 360x360 with 1 Axes>"
      ]
     },
     "metadata": {
      "needs_background": "light"
     },
     "output_type": "display_data"
    }
   ],
   "source": [
    "markers = df_mind.drop('mind2', axis = 1).columns\n",
    "\n",
    "AUC = pd.DataFrame()\n",
    "for i in markers:\n",
    "    \n",
    "    y, label = pd.factorize(df_mind['mind2'])\n",
    "    X = df_mind[i].astype('float32').values.reshape(-1,1)\n",
    "    \n",
    "    steps = [('scaler', StandardScaler()), ('SVM', SVC(probability=True))]\n",
    "    pipe = Pipeline(steps)\n",
    "    \n",
    "#     parameteres = {'SVM__C':[0.001,0.1,10,100,10e5], 'SVM__gamma':[0.1,0.01]}\n",
    "#     grid = GridSearchCV(pipe, param_grid=parameteres, cv=5, n_jobs = -1)\n",
    "#     grid.fit(X, y)      \n",
    "#     steps = [('scaler', StandardScaler()), ('SVM', SVC(C =grid.best_params_['SVM__C'], gamma =grid.best_params_['SVM__gamma'], probability=True))]\n",
    "#     pipe = Pipeline(steps)\n",
    "    \n",
    "    cv = GroupShuffleSplit(n_splits=50, train_size=0.8, test_size=0.2,\n",
    "        random_state=42)\n",
    "\n",
    "    aucs = cross_val_score(\n",
    "    X=X, y=y, estimator=pipe,\n",
    "    scoring='roc_auc', cv=cv, groups=np.arange(len(X)))\n",
    "\n",
    "    AUC[i] = aucs\n",
    "\n",
    "#     print(label)\n",
    "    print(f'AUC {i} = {np.mean(aucs)}')\n",
    "    \n",
    "    \n",
    "sns.catplot(data = AUC, kind = 'box', orient = 'h')\n",
    "plt.axvline(x = 0.5, linestyle = 'dashed')\n",
    "plt.show()"
   ]
  },
  {
   "cell_type": "code",
   "execution_count": null,
   "id": "literary-newark",
   "metadata": {},
   "outputs": [],
   "source": [
    "markers = df_mind.drop('mind2', axis = 1).columns\n",
    "\n",
    "n_estimators = 2000\n",
    "AUC = pd.DataFrame()\n",
    "for i in markers:\n",
    "    \n",
    "    y, label = pd.factorize(df_mind['mind2'])\n",
    "    X = df_mind[i].astype('float32').values.reshape(-1,1)\n",
    "    \n",
    "    doc_forest = make_pipeline(\n",
    "        RobustScaler(),\n",
    "        ExtraTreesClassifier(\n",
    "            n_estimators=n_estimators, max_features=1, criterion='entropy',\n",
    "            max_depth=4, random_state=42, class_weight='balanced'))\n",
    "\n",
    "    cv = GroupShuffleSplit(n_splits=50, train_size=0.8, test_size=0.2,\n",
    "                           random_state=42)\n",
    "\n",
    "    aucs = cross_val_score(\n",
    "        X=X, y=y, estimator=doc_forest,\n",
    "        scoring='roc_auc', cv=cv, groups=np.arange(len(X)))\n",
    "\n",
    "    AUC[i] = aucs\n",
    "\n",
    "#     print(label)\n",
    "    print(f'AUC {i} = {np.mean(aucs)}')"
   ]
  },
  {
   "cell_type": "code",
   "execution_count": null,
   "id": "respective-double",
   "metadata": {},
   "outputs": [],
   "source": [
    "sns.catplot(data = AUC, kind = 'box', orient = 'h')\n",
    "plt.axvline(x = 0.5, linestyle = 'dashed')\n",
    "plt.show()"
   ]
  },
  {
   "cell_type": "markdown",
   "id": "permanent-shame",
   "metadata": {
    "toc-hr-collapsed": true
   },
   "source": [
    "## dMW Vs sMW\n",
    "This will be only performed in SC as they have more trials"
   ]
  },
  {
   "cell_type": "code",
   "execution_count": 92,
   "id": "binary-claim",
   "metadata": {},
   "outputs": [],
   "source": [
    "agg_dict = {k:'mean' for k in markers }\n",
    "agg_dict.update({k:'first' for k in df_markers.drop(markers, axis=1).columns})\n",
    "\n",
    "df_mw = (\n",
    "    df_markers\n",
    "    .query(\"probe == 'SC'\")\n",
    "    .query(\"mind != 'on-task'\")\n",
    "    .groupby(['segment', 'participant'], as_index = False).agg(agg_dict)\n",
    "    .drop(['participant', 'probe', 'segment'], axis = 1)\n",
    ")"
   ]
  },
  {
   "cell_type": "code",
   "execution_count": 93,
   "id": "amateur-rachel",
   "metadata": {},
   "outputs": [
    {
     "name": "stdout",
     "output_type": "stream",
     "text": [
      "AUC wSMI = 0.49995934959349586 MannwhitneyuResult(statistic=49196.0, pvalue=0.49938518325214426)\n",
      "AUC p_e = 0.39553861788617894 MannwhitneyuResult(statistic=38921.0, pvalue=3.008056830837823e-06)\n",
      "AUC k = 0.4770020325203252 MannwhitneyuResult(statistic=46937.0, pvalue=0.15957090566703258)\n",
      "AUC b = 0.432530487804878 MannwhitneyuResult(statistic=42561.0, pvalue=0.001733049315276102)\n",
      "AUC b_n = 0.46834349593495933 MannwhitneyuResult(statistic=46085.0, pvalue=0.08512911305704751)\n",
      "AUC g = 0.46724593495934963 MannwhitneyuResult(statistic=45977.0, pvalue=0.07795985246493864)\n",
      "AUC g_n = 0.4945934959349594 MannwhitneyuResult(statistic=48668.0, pvalue=0.4074809515641047)\n",
      "AUC t = 0.49149390243902435 MannwhitneyuResult(statistic=48363.0, pvalue=0.35631466672452)\n",
      "AUC t_n = 0.5183130081300813 MannwhitneyuResult(statistic=47398.0, pvalue=0.21382038027732347)\n",
      "AUC d = 0.5352439024390244 MannwhitneyuResult(statistic=45732.0, pvalue=0.06340447093200176)\n",
      "AUC d_n = 0.603130081300813 MannwhitneyuResult(statistic=39052.0, pvalue=3.945125776184718e-06)\n",
      "AUC a_n = 0.42602642276422764 MannwhitneyuResult(statistic=41921.0, pvalue=0.0006756309918987063)\n",
      "AUC a = 0.4272459349593496 MannwhitneyuResult(statistic=42041.0, pvalue=0.0008107093929077419)\n",
      "AUC CNV = 0.4972256097560976 MannwhitneyuResult(statistic=48927.0, pvalue=0.4522467161575184)\n",
      "AUC P1 = 0.5300609756097562 MannwhitneyuResult(statistic=46242.0, pvalue=0.09641642279864993)\n",
      "AUC P3a = 0.5211382113821138 MannwhitneyuResult(statistic=47120.0, pvalue=0.17992681069459426)\n",
      "AUC P3b = 0.5062906504065041 MannwhitneyuResult(statistic=48581.0, pvalue=0.392681260245731)\n"
     ]
    },
    {
     "data": {
      "image/png": "[encoded data removed]",
      "text/plain": [
       "<Figure size 360x360 with 1 Axes>"
      ]
     },
     "metadata": {
      "needs_background": "light"
     },
     "output_type": "display_data"
    }
   ],
   "source": [
    "markers = df_mw.drop('mind', axis = 1).columns\n",
    "\n",
    "AUC = []\n",
    "for i in markers:\n",
    "    smw = df_mw.query(\"mind == 'sMW'\")[i]\n",
    "    dmw = df_mw.query(\"mind == 'dMW'\")[i]\n",
    "    auc = roc_auc_score(df_mw['mind'], df_mw[i])\n",
    "    print(f'AUC {i} = {auc}', f'{mannwhitneyu(x = smw, y = dmw)}')\n",
    "    AUC.append([i, auc])\n",
    "segment_mw_roc = pd.DataFrame(AUC, columns = ['marker', 'AUC'])\n",
    "\n",
    "sns.catplot(x = 'AUC', y = 'marker', data = segment_mw_roc, orient = 'h')\n",
    "plt.axvline(x = 0.5, linestyle = 'dashed')\n",
    "plt.show()"
   ]
  },
  {
   "cell_type": "code",
   "execution_count": 101,
   "id": "resident-plain",
   "metadata": {},
   "outputs": [
    {
     "name": "stdout",
     "output_type": "stream",
     "text": [
      "AUC wSMI = 0.4811782608995791\n",
      "AUC p_e = 0.5699905399448791\n",
      "AUC k = 0.5341743359332517\n",
      "AUC b = 0.5926045497973648\n",
      "AUC b_n = 0.521120386134637\n",
      "AUC g = 0.5708195165669535\n",
      "AUC g_n = 0.5291655374610504\n",
      "AUC t = 0.524925636084173\n",
      "AUC t_n = 0.49573784101902235\n",
      "AUC d = 0.5024536293591203\n",
      "AUC d_n = 0.5640876173846011\n",
      "AUC a_n = 0.5538035315268864\n",
      "AUC a = 0.5619106376300894\n",
      "AUC CNV = 0.5203723751569408\n",
      "AUC P1 = 0.5247069705004989\n",
      "AUC P3a = 0.4983396918201629\n",
      "AUC P3b = 0.538724141718267\n"
     ]
    },
    {
     "data": {
      "image/png": "[encoded data removed]",
      "text/plain": [
       "<Figure size 360x360 with 1 Axes>"
      ]
     },
     "metadata": {
      "needs_background": "light"
     },
     "output_type": "display_data"
    }
   ],
   "source": [
    "markers = df_mw.drop('mind', axis = 1).columns\n",
    "\n",
    "AUC = pd.DataFrame()\n",
    "for i in markers:\n",
    "    \n",
    "    y, label = pd.factorize(df_mw['mind'])\n",
    "    X = df_mw[i].astype('float32').values.reshape(-1,1)\n",
    "    \n",
    "    steps = [('scaler', StandardScaler()), ('SVM', SVC(probability=True))]\n",
    "    pipe = Pipeline(steps)\n",
    "    \n",
    "#     parameteres = {'SVM__C':[0.001,0.1,10,100,10e5], 'SVM__gamma':[0.1,0.01]}\n",
    "#     grid = GridSearchCV(pipe, param_grid=parameteres, cv=5, n_jobs = -1)\n",
    "#     grid.fit(X, y)      \n",
    "#     steps = [('scaler', StandardScaler()), ('SVM', SVC(C =grid.best_params_['SVM__C'], gamma =grid.best_params_['SVM__gamma'], probability=True))]\n",
    "#     pipe = Pipeline(steps)\n",
    "    \n",
    "    cv = GroupShuffleSplit(n_splits=50, train_size=0.8, test_size=0.2,\n",
    "        random_state=42)\n",
    "\n",
    "    aucs = cross_val_score(\n",
    "    X=X, y=y, estimator=pipe,\n",
    "    scoring='roc_auc', cv=cv, groups=np.arange(len(X)))\n",
    "\n",
    "    AUC[i] = aucs\n",
    "\n",
    "#     print(label)\n",
    "    print(f'AUC {i} = {np.mean(aucs)}')\n",
    "    \n",
    "    \n",
    "sns.catplot(data = AUC, kind = 'box', orient = 'h')\n",
    "plt.axvline(x = 0.5, linestyle = 'dashed')\n",
    "plt.show()"
   ]
  },
  {
   "cell_type": "markdown",
   "id": "three-objective",
   "metadata": {},
   "source": [
    "# By Trial Univariate analyses"
   ]
  },
  {
   "cell_type": "markdown",
   "id": "loving-threshold",
   "metadata": {},
   "source": [
    "## On-task Vs Mind- Wandering\n",
    "This can only be performed for PC probes  as they are the only ones with On-task reports."
   ]
  },
  {
   "cell_type": "code",
   "execution_count": 94,
   "id": "governmental-russian",
   "metadata": {},
   "outputs": [],
   "source": [
    "agg_dict = {k:'mean' for k in markers }\n",
    "agg_dict.update({k:'first' for k in df_markers.drop(markers, axis=1).columns})\n",
    "\n",
    "df_mind = (\n",
    "    df_markers\n",
    "    .query(\"probe == 'PC'\")\n",
    "#     .query(\"mind != 'sMW'\") #if you want to test against just one of the mw\n",
    "    .assign(\n",
    "    mind2 = lambda df: np.where(df.mind == 'on-task', 'on-task', 'mw'))\n",
    "    .drop(['participant', 'probe', 'mind', 'segment'], axis = 1) # drop mind or mind2 also\n",
    ")"
   ]
  },
  {
   "cell_type": "code",
   "execution_count": 95,
   "id": "motivated-buffalo",
   "metadata": {},
   "outputs": [
    {
     "name": "stdout",
     "output_type": "stream",
     "text": [
      "AUC wSMI = 0.49995934959349586 MannwhitneyuResult(statistic=49196.0, pvalue=0.49938518325214426)\n",
      "AUC p_e = 0.39553861788617894 MannwhitneyuResult(statistic=38921.0, pvalue=3.008056830837823e-06)\n",
      "AUC k = 0.4770020325203252 MannwhitneyuResult(statistic=46937.0, pvalue=0.15957090566703258)\n",
      "AUC b = 0.432530487804878 MannwhitneyuResult(statistic=42561.0, pvalue=0.001733049315276102)\n",
      "AUC b_n = 0.46834349593495933 MannwhitneyuResult(statistic=46085.0, pvalue=0.08512911305704751)\n",
      "AUC g = 0.46724593495934963 MannwhitneyuResult(statistic=45977.0, pvalue=0.07795985246493864)\n",
      "AUC g_n = 0.4945934959349594 MannwhitneyuResult(statistic=48668.0, pvalue=0.4074809515641047)\n",
      "AUC t = 0.49149390243902435 MannwhitneyuResult(statistic=48363.0, pvalue=0.35631466672452)\n",
      "AUC t_n = 0.5183130081300813 MannwhitneyuResult(statistic=47398.0, pvalue=0.21382038027732347)\n",
      "AUC d = 0.5352439024390244 MannwhitneyuResult(statistic=45732.0, pvalue=0.06340447093200176)\n",
      "AUC d_n = 0.603130081300813 MannwhitneyuResult(statistic=39052.0, pvalue=3.945125776184718e-06)\n",
      "AUC a_n = 0.42602642276422764 MannwhitneyuResult(statistic=41921.0, pvalue=0.0006756309918987063)\n",
      "AUC a = 0.4272459349593496 MannwhitneyuResult(statistic=42041.0, pvalue=0.0008107093929077419)\n",
      "AUC CNV = 0.4972256097560976 MannwhitneyuResult(statistic=48927.0, pvalue=0.4522467161575184)\n",
      "AUC P1 = 0.5300609756097562 MannwhitneyuResult(statistic=46242.0, pvalue=0.09641642279864993)\n",
      "AUC P3a = 0.5211382113821138 MannwhitneyuResult(statistic=47120.0, pvalue=0.17992681069459426)\n",
      "AUC P3b = 0.5062906504065041 MannwhitneyuResult(statistic=48581.0, pvalue=0.392681260245731)\n"
     ]
    },
    {
     "data": {
      "image/png": "[encoded data removed]",
      "text/plain": [
       "<Figure size 360x360 with 1 Axes>"
      ]
     },
     "metadata": {
      "needs_background": "light"
     },
     "output_type": "display_data"
    }
   ],
   "source": [
    "markers = df_mind.drop('mind2', axis = 1).columns\n",
    "\n",
    "AUC = []\n",
    "for i in markers:\n",
    "    smw = df_mw.query(\"mind == 'sMW'\")[i]\n",
    "    dmw = df_mw.query(\"mind == 'dMW'\")[i]\n",
    "    auc = roc_auc_score(df_mw['mind'], df_mw[i])\n",
    "    print(f'AUC {i} = {auc}', f'{mannwhitneyu(x = smw, y = dmw)}')\n",
    "    AUC.append([i, auc])\n",
    "trial_mind_roc = pd.DataFrame(AUC, columns = ['marker', 'AUC'])\n",
    "\n",
    "sns.catplot(x = 'AUC', y = 'marker', data = trial_mind_roc, orient = 'h')\n",
    "plt.axvline(x = 0.5, linestyle = 'dashed')\n",
    "plt.show()"
   ]
  },
  {
   "cell_type": "code",
   "execution_count": 46,
   "id": "velvet-radio",
   "metadata": {},
   "outputs": [
    {
     "name": "stdout",
     "output_type": "stream",
     "text": [
      "AUC wSMI = 0.5346286188411574\n",
      "AUC p_e = 0.5114249225187704\n",
      "AUC k = 0.5494659692678125\n",
      "AUC b = 0.4607387764066606\n",
      "AUC b_n = 0.5455736051345041\n",
      "AUC g = 0.44149658757209215\n",
      "AUC g_n = 0.5102616872605403\n",
      "AUC t = 0.5353891957407694\n",
      "AUC t_n = 0.5543507439011494\n",
      "AUC d = 0.49245117258994736\n",
      "AUC d_n = 0.512177364906087\n",
      "AUC a_n = 0.5473347270464399\n",
      "AUC a = 0.44281844582008084\n",
      "AUC CNV = 0.4860981184873061\n",
      "AUC P1 = 0.4946962979834544\n",
      "AUC P3a = 0.5176396899123913\n",
      "AUC P3b = 0.5529922803478318\n",
      "Index(['on-task', 'mw'], dtype='object')\n"
     ]
    },
    {
     "data": {
      "image/png": "[encoded data removed]",
      "text/plain": [
       "<Figure size 360x360 with 1 Axes>"
      ]
     },
     "metadata": {
      "needs_background": "light"
     },
     "output_type": "display_data"
    }
   ],
   "source": [
    "markers = df_mind.drop('mind2', axis = 1).columns\n",
    "\n",
    "AUC = []\n",
    "for i in markers:\n",
    "    y, label = pd.factorize(df_mind['mind2'])\n",
    "    X = df_mind[i].astype('float32').values.reshape(-1,1)\n",
    "    svc = SVC(probability=True)\n",
    "    svc.fit(X, y)\n",
    "    y_proba = svc.predict_proba(X)\n",
    "    auc = roc_auc_score(y, y_proba[:,0])\n",
    "    print(f'AUC {i} = {auc}')\n",
    "    AUC.append([i, auc])\n",
    "\n",
    "print(label)\n",
    "df_auc = pd.DataFrame(AUC, columns = ['marker', 'AUC'])\n",
    "\n",
    "sns.catplot(x = 'AUC', y = 'marker', data = df_auc, orient = 'h')\n",
    "plt.axvline(x = 0.5, linestyle = 'dashed')\n",
    "plt.show()"
   ]
  },
  {
   "cell_type": "code",
   "execution_count": 52,
   "id": "peaceful-bulgarian",
   "metadata": {},
   "outputs": [
    {
     "name": "stdout",
     "output_type": "stream",
     "text": [
      "AUC wSMI = 0.47255057470999295\n",
      "AUC p_e = 0.4895388609747214\n",
      "AUC k = 0.5062515622346035\n",
      "AUC b = 0.5038216883998508\n",
      "AUC b_n = 0.5249098900988609\n",
      "AUC g = 0.5253790038523128\n",
      "AUC g_n = 0.4939455921043854\n",
      "AUC t = 0.6023211894290261\n",
      "AUC t_n = 0.5852325143194103\n",
      "AUC d = 0.5021670702249412\n",
      "AUC d_n = 0.4592014866397875\n",
      "AUC a_n = 0.5209284703302843\n",
      "AUC a = 0.5018993135806484\n",
      "AUC CNV = 0.42822317543432875\n",
      "AUC P1 = 0.5473373513633032\n",
      "AUC P3a = 0.4432398293390024\n",
      "AUC P3b = 0.5211749238928197\n"
     ]
    },
    {
     "data": {
      "image/png": "[encoded data removed]",
      "text/plain": [
       "<Figure size 360x360 with 1 Axes>"
      ]
     },
     "metadata": {
      "needs_background": "light"
     },
     "output_type": "display_data"
    }
   ],
   "source": [
    "markers = df_mind.drop('mind2', axis = 1).columns\n",
    "\n",
    "AUC = pd.DataFrame()\n",
    "for i in markers:\n",
    "    \n",
    "    y, label = pd.factorize(df_mind['mind2'])\n",
    "    X = df_mind[i].astype('float32').values.reshape(-1,1)\n",
    "    \n",
    "    steps = [('scaler', StandardScaler()), ('SVM', SVC(probability=True))]\n",
    "    pipe = Pipeline(steps)\n",
    "    \n",
    "#     parameteres = {'SVM__C':[0.001,0.1,10,100,10e5], 'SVM__gamma':[0.1,0.01]}\n",
    "#     grid = GridSearchCV(pipe, param_grid=parameteres, cv=5, n_jobs = -1)\n",
    "#     grid.fit(X, y)      \n",
    "#     steps = [('scaler', StandardScaler()), ('SVM', SVC(C =grid.best_params_['SVM__C'], gamma =grid.best_params_['SVM__gamma'], probability=True))]\n",
    "#     pipe = Pipeline(steps)\n",
    "    \n",
    "    cv = GroupShuffleSplit(n_splits=50, train_size=0.8, test_size=0.2,\n",
    "        random_state=42)\n",
    "\n",
    "    aucs = cross_val_score(\n",
    "    X=X, y=y, estimator=pipe,\n",
    "    scoring='roc_auc', cv=cv, groups=np.arange(len(X)))\n",
    "\n",
    "    AUC[i] = aucs\n",
    "\n",
    "#     print(label)\n",
    "    print(f'AUC {i} = {np.mean(aucs)}')\n",
    "    \n",
    "    \n",
    "sns.catplot(data = AUC, kind = 'box', orient = 'h')\n",
    "plt.axvline(x = 0.5, linestyle = 'dashed')\n",
    "plt.show()"
   ]
  },
  {
   "cell_type": "code",
   "execution_count": 53,
   "id": "dutch-equity",
   "metadata": {},
   "outputs": [
    {
     "name": "stdout",
     "output_type": "stream",
     "text": [
      "AUC wSMI = 0.5160715504292532\n",
      "AUC p_e = 0.4681811577543366\n",
      "AUC k = 0.5667457357113245\n",
      "AUC b = 0.5648814943354399\n",
      "AUC b_n = 0.5198306052596219\n",
      "AUC g = 0.5161053217458488\n",
      "AUC g_n = 0.4465213080597508\n",
      "AUC t = 0.5946024604134179\n",
      "AUC t_n = 0.6383682294620958\n",
      "AUC d = 0.4720943442001896\n",
      "AUC d_n = 0.4964001586768471\n",
      "AUC a_n = 0.5128533666642188\n",
      "AUC a = 0.4972004840221784\n",
      "AUC CNV = 0.5165855498101354\n",
      "AUC P1 = 0.5074655864802583\n",
      "AUC P3a = 0.5230983008336334\n",
      "AUC P3b = 0.5510666876253385\n"
     ]
    }
   ],
   "source": [
    "markers = df_mind.drop('mind2', axis = 1).columns\n",
    "\n",
    "n_estimators = 2000\n",
    "AUC = pd.DataFrame()\n",
    "for i in markers:\n",
    "    \n",
    "    y, label = pd.factorize(df_mind['mind2'])\n",
    "    X = df_mind[i].astype('float32').values.reshape(-1,1)\n",
    "    \n",
    "    doc_forest = make_pipeline(\n",
    "        RobustScaler(),\n",
    "        ExtraTreesClassifier(\n",
    "            n_estimators=n_estimators, max_features=1, criterion='entropy',\n",
    "            max_depth=4, random_state=42, class_weight='balanced'))\n",
    "\n",
    "    cv = GroupShuffleSplit(n_splits=50, train_size=0.8, test_size=0.2,\n",
    "                           random_state=42)\n",
    "\n",
    "    aucs = cross_val_score(\n",
    "        X=X, y=y, estimator=doc_forest,\n",
    "        scoring='roc_auc', cv=cv, groups=np.arange(len(X)))\n",
    "\n",
    "    AUC[i] = aucs\n",
    "\n",
    "#     print(label)\n",
    "    print(f'AUC {i} = {np.mean(aucs)}')"
   ]
  },
  {
   "cell_type": "code",
   "execution_count": 54,
   "id": "processed-tsunami",
   "metadata": {},
   "outputs": [
    {
     "data": {
      "image/png": "[encoded data removed]",
      "text/plain": [
       "<Figure size 360x360 with 1 Axes>"
      ]
     },
     "metadata": {
      "needs_background": "light"
     },
     "output_type": "display_data"
    }
   ],
   "source": [
    "sns.catplot(data = AUC, kind = 'box', orient = 'h')\n",
    "plt.axvline(x = 0.5, linestyle = 'dashed')\n",
    "plt.show()"
   ]
  },
  {
   "cell_type": "markdown",
   "id": "attractive-infection",
   "metadata": {},
   "source": [
    "## dMW Vs sMW\n",
    "This will be only performed in SC as they have more trials"
   ]
  },
  {
   "cell_type": "code",
   "execution_count": 98,
   "id": "indie-college",
   "metadata": {},
   "outputs": [],
   "source": [
    "df_mw = (\n",
    "    df_markers\n",
    "    .query(\"probe == 'SC'\")\n",
    "    .query(\"mind != 'on-task'\")\n",
    "    .drop(['participant', 'probe', 'segment'], axis = 1)\n",
    ")"
   ]
  },
  {
   "cell_type": "code",
   "execution_count": 99,
   "id": "novel-ready",
   "metadata": {},
   "outputs": [
    {
     "name": "stdout",
     "output_type": "stream",
     "text": [
      "AUC wSMI = 0.49461944646758926\n",
      "AUC p_e = 0.42323834668608884\n",
      "AUC k = 0.4937694727684713\n",
      "AUC b = 0.44389313749291903\n",
      "AUC b_n = 0.48203953224892776\n",
      "AUC g = 0.47425345957756737\n",
      "AUC g_n = 0.5103357408756171\n",
      "AUC t = 0.4763256656146314\n",
      "AUC t_n = 0.5046446346200535\n",
      "AUC d = 0.5182153839928786\n",
      "AUC d_n = 0.5668816257991421\n",
      "AUC a_n = 0.4384336813142348\n",
      "AUC a = 0.43282198349113865\n",
      "AUC CNV = 0.5008911952739339\n",
      "AUC P1 = 0.5198389576758112\n",
      "AUC P3a = 0.5150916484583636\n",
      "AUC P3b = 0.5179038196973376\n"
     ]
    },
    {
     "data": {
      "image/png": "[encoded data removed]",
      "text/plain": [
       "<Figure size 360x360 with 1 Axes>"
      ]
     },
     "metadata": {
      "needs_background": "light"
     },
     "output_type": "display_data"
    }
   ],
   "source": [
    "markers = df_mw.drop('mind', axis = 1).columns\n",
    "\n",
    "AUC = []\n",
    "for i in markers:\n",
    "    auc = roc_auc_score(df_mw['mind'], df_mw[i])\n",
    "    print(f'AUC {i} = {auc}')\n",
    "    AUC.append([i, auc])\n",
    "trial_mw_roc = pd.DataFrame(AUC, columns = ['marker', 'AUC'])\n",
    "\n",
    "sns.catplot(x = 'AUC', y = 'marker', data = trial_mw_roc, orient = 'h')\n",
    "plt.axvline(x = 0.5, linestyle = 'dashed')\n",
    "plt.show()"
   ]
  },
  {
   "cell_type": "code",
   "execution_count": 223,
   "id": "prescription-coach",
   "metadata": {},
   "outputs": [
    {
     "name": "stdout",
     "output_type": "stream",
     "text": [
      "AUC wSMI = 0.5143342660580114\n",
      "AUC p_e = 0.5785466072763985\n",
      "AUC k = 0.5391837358480911\n",
      "AUC b = 0.6046043693914409\n",
      "AUC b_n = 0.5318217858023713\n",
      "AUC g = 0.5548606716478324\n",
      "AUC g_n = 0.5546905795405731\n",
      "AUC t = 0.5341408527832584\n",
      "AUC t_n = 0.5182317507856701\n",
      "AUC d = 0.4911585068841249\n",
      "AUC d_n = 0.5534022658043775\n",
      "AUC a_n = 0.5674706896241056\n",
      "AUC a = 0.5871223412772264\n",
      "AUC CNV = 0.5317990013227547\n",
      "AUC P1 = 0.5051494898105324\n",
      "AUC P3a = 0.5322790302695809\n",
      "AUC P3b = 0.5183271682774749\n"
     ]
    },
    {
     "data": {
      "image/png": "[encoded data removed]",
      "text/plain": [
       "<Figure size 360x360 with 1 Axes>"
      ]
     },
     "metadata": {
      "needs_background": "light"
     },
     "output_type": "display_data"
    }
   ],
   "source": [
    "markers = df_mw.drop('mind', axis = 1).columns\n",
    "\n",
    "AUC = pd.DataFrame()\n",
    "for i in markers:\n",
    "    \n",
    "    y, label = pd.factorize(df_mw['mind'])\n",
    "    X = df_mw[i].astype('float32').values.reshape(-1,1)\n",
    "    \n",
    "    steps = [('scaler', StandardScaler()), ('SVM', SVC(probability=True))]\n",
    "    pipe = Pipeline(steps)\n",
    "    \n",
    "#     parameteres = {'SVM__C':[0.001,0.1,10,100,10e5], 'SVM__gamma':[0.1,0.01]}\n",
    "#     grid = GridSearchCV(pipe, param_grid=parameteres, cv=5, n_jobs = -1)\n",
    "#     grid.fit(X, y)      \n",
    "#     steps = [('scaler', StandardScaler()), ('SVM', SVC(C =grid.best_params_['SVM__C'], gamma =grid.best_params_['SVM__gamma'], probability=True))]\n",
    "#     pipe = Pipeline(steps)\n",
    "    \n",
    "    cv = GroupShuffleSplit(n_splits=50, train_size=0.8, test_size=0.2,\n",
    "        random_state=42)\n",
    "\n",
    "    aucs = cross_val_score(\n",
    "    X=X, y=y, estimator=pipe,\n",
    "    scoring='roc_auc', cv=cv, groups=np.arange(len(X)))\n",
    "\n",
    "    AUC[i] = aucs\n",
    "\n",
    "#     print(label)\n",
    "    print(f'AUC {i} = {np.mean(aucs)}')\n",
    "    \n",
    "    \n",
    "sns.catplot(data = AUC, kind = 'box', orient = 'h')\n",
    "plt.axvline(x = 0.5, linestyle = 'dashed')\n",
    "plt.show()"
   ]
  },
  {
   "cell_type": "markdown",
   "id": "consolidated-migration",
   "metadata": {},
   "source": [
    "# Plots"
   ]
  },
  {
   "cell_type": "markdown",
   "id": "knowing-hours",
   "metadata": {},
   "source": [
    "## On-task Vs Mind- Wandering\n",
    "This can only be performed for PC probes  as they are the only ones with On-task reports."
   ]
  },
  {
   "cell_type": "code",
   "execution_count": 76,
   "id": "parliamentary-client",
   "metadata": {},
   "outputs": [
    {
     "data": {
      "image/png": "[encoded data removed]",
      "text/plain": [
       "<Figure size 432x288 with 1 Axes>"
      ]
     },
     "metadata": {
      "needs_background": "light"
     },
     "output_type": "display_data"
    }
   ],
   "source": [
    "sns.scatterplot(x = 'AUC', y = 'marker', data = subject_mind_roc)\n",
    "sns.scatterplot(x = 'AUC', y = 'marker', data = segment_mind_roc)\n",
    "sns.scatterplot(x = 'AUC', y = 'marker', data = trial_mind_roc)\n",
    "plt.legend(['subject','segment', 'trial'])\n",
    "plt.axvline(x = 0.5, linestyle = 'dashed')\n",
    "plt.show()"
   ]
  },
  {
   "cell_type": "markdown",
   "id": "lesser-trout",
   "metadata": {},
   "source": [
    "## dMW Vs sMW\n",
    "This will be only performed in SC as they have more trials"
   ]
  },
  {
   "cell_type": "code",
   "execution_count": 100,
   "id": "editorial-apartment",
   "metadata": {},
   "outputs": [
    {
     "data": {
      "image/png": "[encoded data removed]",
      "text/plain": [
       "<Figure size 432x288 with 1 Axes>"
      ]
     },
     "metadata": {
      "needs_background": "light"
     },
     "output_type": "display_data"
    }
   ],
   "source": [
    "sns.scatterplot(x = 'AUC', y = 'marker', data = subject_mw_roc)\n",
    "sns.scatterplot(x = 'AUC', y = 'marker', data = segment_mw_roc)\n",
    "sns.scatterplot(x = 'AUC', y = 'marker', data = trial_mw_roc)\n",
    "plt.legend(['subject','segment', 'trial'])\n",
    "plt.axvline(x = 0.5, linestyle = 'dashed')\n",
    "plt.show()"
   ]
  }
 ],
 "metadata": {
  "kernelspec": {
   "display_name": "Python 3",
   "language": "python",
   "name": "python3"
  },
  "language_info": {
   "codemirror_mode": {
    "name": "ipython",
    "version": 3
   },
   "file_extension": ".py",
   "mimetype": "text/x-python",
   "name": "python",
   "nbconvert_exporter": "python",
   "pygments_lexer": "ipython3",
   "version": "3.8.8"
  }
 },
 "nbformat": 4,
 "nbformat_minor": 5
}
