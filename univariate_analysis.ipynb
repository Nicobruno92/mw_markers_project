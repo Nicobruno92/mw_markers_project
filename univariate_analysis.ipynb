{
 "cells": [
  {
   "cell_type": "code",
   "execution_count": 1,
   "id": "comic-runner",
   "metadata": {},
   "outputs": [
    {
     "data": {
      "text/html": [
       "        <script type=\"text/javascript\">\n",
       "        window.PlotlyConfig = {MathJaxConfig: 'local'};\n",
       "        if (window.MathJax) {MathJax.Hub.Config({SVG: {font: \"STIX-Web\"}});}\n",
       "        if (typeof require !== 'undefined') {\n",
       "        require.undef(\"plotly\");\n",
       "        requirejs.config({\n",
       "            paths: {\n",
       "                'plotly': ['https://cdn.plot.ly/plotly-2.9.0.min']\n",
       "            }\n",
       "        });\n",
       "        require(['plotly'], function(Plotly) {\n",
       "            window._Plotly = Plotly;\n",
       "        });\n",
       "        }\n",
       "        </script>\n",
       "        "
      ]
     },
     "metadata": {},
     "output_type": "display_data"
    },
    {
     "data": {
      "text/html": [
       "        <script type=\"text/javascript\">\n",
       "        window.PlotlyConfig = {MathJaxConfig: 'local'};\n",
       "        if (window.MathJax) {MathJax.Hub.Config({SVG: {font: \"STIX-Web\"}});}\n",
       "        if (typeof require !== 'undefined') {\n",
       "        require.undef(\"plotly\");\n",
       "        requirejs.config({\n",
       "            paths: {\n",
       "                'plotly': ['https://cdn.plot.ly/plotly-2.9.0.min']\n",
       "            }\n",
       "        });\n",
       "        require(['plotly'], function(Plotly) {\n",
       "            window._Plotly = Plotly;\n",
       "        });\n",
       "        }\n",
       "        </script>\n",
       "        "
      ]
     },
     "metadata": {},
     "output_type": "display_data"
    }
   ],
   "source": [
    "from utils import balance_sample, univariate_classifier, bad_participant, correct_name_markers\n",
    "\n",
    "import numpy as np\n",
    "import pandas as pd \n",
    "\n",
    "import seaborn as sns\n",
    "import matplotlib.pyplot as plt\n",
    "import plotly.express as px\n",
    "import plotly.graph_objects as pgo\n",
    "import plotly.offline as pyo\n",
    "import plotly.io as pio\n",
    "from plotly.subplots import make_subplots\n",
    "\n",
    "pyo.init_notebook_mode(connected = True)\n",
    "\n",
    "\n",
    "from sklearn.metrics import roc_auc_score\n",
    "from sklearn.svm import SVC\n",
    "from sklearn.preprocessing import StandardScaler, RobustScaler\n",
    "from sklearn.pipeline import Pipeline, make_pipeline\n",
    "from sklearn.model_selection import (\n",
    "    GridSearchCV,\n",
    "    train_test_split,\n",
    "    cross_val_score,\n",
    "    GroupShuffleSplit,\n",
    "    permutation_test_score,\n",
    "    StratifiedKFold,\n",
    ")\n",
    "from sklearn.ensemble import ExtraTreesClassifier\n",
    "\n",
    "from imblearn.under_sampling import RandomUnderSampler\n",
    "from imblearn.over_sampling import RandomOverSampler, SMOTE\n",
    "\n",
    "from scipy.stats import wilcoxon, mannwhitneyu\n",
    "from statsmodels.stats.multitest import multipletests\n",
    "\n",
    "import mne"
   ]
  },
  {
   "cell_type": "code",
   "execution_count": 2,
   "id": "rapid-robinson",
   "metadata": {
    "pycharm": {
     "is_executing": false
    }
   },
   "outputs": [],
   "source": [
    "# plotting parameters\n",
    "grey = \"#21201F\"\n",
    "green = \"#9AC529\"\n",
    "lblue = \"#42B9B2\"\n",
    "pink = \"#DE237B\"\n",
    "orange = \"#F38A31\"\n",
    "\n",
    "nt_colors = [green, lblue, pink, orange]\n",
    "\n",
    "plt.style.use(\"ggplot\")\n",
    "fig_width = 2  # width in inches\n",
    "fig_height = 8  # height in inches\n",
    "fig_size = [fig_width, fig_height]\n",
    "plt.rcParams[\"figure.figsize\"] = fig_size\n",
    "plt.rcParams[\"figure.autolayout\"] = True\n",
    "\n",
    "sns.set(\n",
    "    style=\"white\",\n",
    "    context=\"notebook\",\n",
    "    font_scale=1.5,\n",
    "    rc={\n",
    "        \"axes.labelcolor\": grey,\n",
    "        \"text.color\": grey,\n",
    "        \"axes.edgecolor\": grey,\n",
    "        \"xtick.color\": grey,\n",
    "        \"ytick.color\": grey,\n",
    "        'figure.figsize': fig_size\n",
    "    },\n",
    ")\n",
    "\n",
    "sns.set_palette(sns.color_palette(nt_colors))"
   ]
  },
  {
   "cell_type": "markdown",
   "id": "peaceful-perfume",
   "metadata": {},
   "source": [
    "# Load Data"
   ]
  },
  {
   "cell_type": "code",
   "execution_count": 3,
   "id": "elect-success",
   "metadata": {
    "tags": []
   },
   "outputs": [],
   "source": [
    "epoch_type = 'evoked'\n",
    "# epoch_type = 'pseudo-rs'\n",
    "\n",
    "all_participants = ['VP07','VP08','VP09', 'VP10','VP11','VP12','VP13','VP14','VP18','VP19','VP20','VP22','VP23','VP24','VP25','VP26','VP27','VP28','VP29','VP30','VP31','VP32','VP33','VP35','VP36','VP37']\n",
    "\n",
    "# path = '/media/nicolas.bruno/63f8a366-34b7-4896-a7ce-b5fb4ee78535/Nico/MW_eeg_data/minmarker/' #icm-linux\n",
    "path = '/Users/nicobruno/ownCloud/MW_eeg_data/minmarker/' #nico-mac"
   ]
  },
  {
   "cell_type": "code",
   "execution_count": 4,
   "id": "heavy-flight",
   "metadata": {},
   "outputs": [
    {
     "data": {
      "text/plain": [
       "14"
      ]
     },
     "execution_count": 4,
     "metadata": {},
     "output_type": "execute_result"
    }
   ],
   "source": [
    "good_participants = all_participants[1:2] +  all_participants[6:10] +  all_participants[12:15]  + all_participants[18:23] + [all_participants[25]]\n",
    "len(good_participants)"
   ]
  },
  {
   "cell_type": "code",
   "execution_count": 5,
   "id": "short-herald",
   "metadata": {},
   "outputs": [],
   "source": [
    "df = pd.DataFrame()\n",
    "\n",
    "for i,v in enumerate(all_participants): \n",
    "    participant = v\n",
    "    \n",
    "    folder = path + participant +'/'\n",
    "    \n",
    "    df_ = pd.read_csv(folder+ participant + '_' + epoch_type + '_all_marker.csv', index_col = 0)\n",
    "#     df_ = pd.read_csv(folder+ participant + '_' + epoch_type + 'noica_all_marker.csv', index_col = 0)\n",
    "    df_['participant'] = i\n",
    "    df = df.append(df_) \n",
    "    \n",
    "# df.to_csv('Data/all_markers.csv')\n",
    "# df = correct_name_markers(df)"
   ]
  },
  {
   "cell_type": "code",
   "execution_count": 6,
   "id": "certified-affect",
   "metadata": {},
   "outputs": [],
   "source": [
    "markers = ['wSMI_1', 'wSMI_2', 'wSMI_4', 'wSMI_8', 'p_e_1', 'p_e_2',\n",
    "       'p_e_4', 'p_e_8', 'k', 'se','msf', 'sef90', 'sef95', 'b', 'b_n', 'g',\n",
    "       'g_n', 't', 't_n', 'd', 'd_n', 'a_n', 'a', 'CNV', 'P1', 'P3a', 'P3b',]\n",
    "#           'ft', 'ft_n']\n",
    "erps =['CNV', 'P1', 'P3a', 'P3b']\n",
    "# erps = [r'$CNV$', r'$P1$', r'$P3a$',r'$P3b$']\n",
    "\n",
    "# markers =  [r'$\\delta$',r'$|\\delta|$',r'$\\theta$', r'$|\\theta|$',r'$\\alpha$', r'$|\\alpha|$',r'$\\beta$', r'$|\\beta|$',r'$\\gamma$', r'$|\\gamma|$',\n",
    "#             r'$PE\\gamma$',r'$PE\\beta$',r'$PE\\alpha$',r'$PE\\theta$',\n",
    "#             r'$wSMI\\gamma$',r'$wSMI\\beta$',r'$wSMI\\alpha$',r'$wSMI\\theta$', \n",
    "#             r'$K$',r'$SE$',r'$MSF$', r'$SEF90$', r'$SEF95$', \n",
    "#             r'$CNV$', r'$P1$', r'$P3a$',r'$P3b$'\n",
    "#            ]\n",
    "\n",
    "\n",
    "# df_subtracted = df.query(\"preproc == 'subtracted'\").drop(columns = erps+['preproc'])\n",
    "# df_erp = df.query(\"preproc == 'erp'\").drop(columns = np.setdiff1d(markers,erps).tolist()+['preproc'])\n",
    "\n",
    "# df_markers = df_subtracted.merge(df_erp, 'inner', on =np.setdiff1d(df_subtracted.columns, markers).tolist() )\n",
    "\n",
    "df_markers = (df\n",
    "              .query(\"stimuli == 'go'\")\n",
    "              .query(\"correct == 'correct'\")\n",
    "            .query('prev_trial < 5')\n",
    "              .drop(['stimuli', 'correct', 'prev_trial', 'label', 'events',  'epoch_type', 'preproc', 'ft', 'ft_n'], axis = 1)\n",
    "              .query(\"mind in ['on-task','dMW', 'sMW']\")\n",
    "              .groupby(['segment', 'participant']).filter(lambda x: len(x) > 1)\n",
    "             )\n",
    "\n",
    "df_markers.to_csv('Data/all_markers.csv')"
   ]
  },
  {
   "cell_type": "markdown",
   "id": "federal-diary",
   "metadata": {},
   "source": [
    "# By Segment Univariate analyses"
   ]
  },
  {
   "cell_type": "markdown",
   "id": "extraordinary-trade",
   "metadata": {},
   "source": [
    "## On-task Vs Mind- Wandering\n",
    "This can only be performed for PC probes  as they are the only ones with On-task reports."
   ]
  },
  {
   "cell_type": "code",
   "execution_count": 7,
   "id": "framed-origin",
   "metadata": {
    "tags": []
   },
   "outputs": [],
   "source": [
    "agg_dict = {k:['mean', 'std'] for k in markers }\n",
    "agg_dict.update({k:'first' for k in df_markers.drop(markers, axis=1).columns})\n",
    "\n",
    "df_mind = (\n",
    "    df_markers\n",
    "    .query(\"probe == 'PC'\")\n",
    "    .groupby(['segment', 'participant'], as_index = False).agg(agg_dict)\n",
    "    .assign(\n",
    "    mind2 = lambda df: np.where(df.mind == 'on-task', 'on-task', 'mw'))\n",
    ")\n",
    "\n",
    "#### Use normal names###\n",
    "\n",
    "# df_mind.columns = df_mind.columns.map(\"_\".join)\n",
    "\n",
    "# df_mind  = (df_mind\n",
    "#             .rename(columns = {'participant_first':'participant', 'probe_first':'probe', 'mind_first':'mind', 'segment_first':'segment', 'mind2_':'mind2'})\n",
    "# #             .query(\"mind != 'dMW'\") #if you want to test against just one of the mw            \n",
    "#             .drop(['participant', 'probe', 'mind', 'segment'], axis = 1) \n",
    "#            )\n",
    "\n",
    "\n",
    "#### Use latex command for nmaes###\n",
    "##it slow downs the computer, just for final figures.\n",
    "\n",
    "df_mind = correct_name_markers(df_mind)\n",
    "\n",
    "df_mind.columns = df_mind.columns.map(\"$_{\".join).map(lambda x: x + '}$').map(lambda x: x.replace('$$', ''))\n",
    "\n",
    "df_mind  = (df_mind\n",
    "            .rename(columns = {'participant$_{first}$':'participant', 'probe$_{first}$':'probe', 'mind$_{first}$':'mind', 'segment$_{first}$':'segment', 'mind2$_{}$':'mind2'})\n",
    "#             .query(\"mind != 'dMW'\") #if you want to test against just one of the mw            \n",
    "            .drop(['participant', 'probe', 'mind', 'segment'], axis = 1) \n",
    "           )"
   ]
  },
  {
   "cell_type": "code",
   "execution_count": 8,
   "id": "abroad-greek",
   "metadata": {},
   "outputs": [
    {
     "name": "stdout",
     "output_type": "stream",
     "text": [
      "AUC $wSMI\\gamma_{mean}$ = 0.5107680332122471 MannwhitneyuResult(statistic=3937.0, pvalue=0.8067091825718332)\n",
      "AUC $wSMI\\gamma_{std}$ = 0.5546185781006746 MannwhitneyuResult(statistic=4275.0, pvalue=0.21236308826860772)\n",
      "AUC $wSMI\\beta_{mean}$ = 0.5332122470160872 MannwhitneyuResult(statistic=4110.0, pvalue=0.4486026489781989)\n",
      "AUC $wSMI\\beta_{std}$ = 0.4577062791904515 MannwhitneyuResult(statistic=3528.0, pvalue=0.3343702830196804)\n",
      "AUC $wSMI\\alpha_{mean}$ = 0.5464452516865594 MannwhitneyuResult(statistic=4212.0, pvalue=0.28902987819949444)\n",
      "AUC $wSMI\\alpha_{std}$ = 0.5444992215879606 MannwhitneyuResult(statistic=4197.0, pvalue=0.30974078495375323)\n",
      "AUC $wSMI\\theta_{mean}$ = 0.5459263103269332 MannwhitneyuResult(statistic=4208.0, pvalue=0.2944593089505566)\n",
      "AUC $wSMI\\theta_{std}$ = 0.4910482615464452 MannwhitneyuResult(statistic=3785.0, pvalue=0.8390152760940158)\n",
      "AUC $PE\\gamma_{mean}$ = 0.516476388168137 MannwhitneyuResult(statistic=3981.0, pvalue=0.7075368928796884)\n",
      "AUC $PE\\gamma_{std}$ = 0.5662947586922678 MannwhitneyuResult(statistic=4365.0, pvalue=0.13002317981037037)\n",
      "AUC $PE\\beta_{mean}$ = 0.5179034769071095 MannwhitneyuResult(statistic=3992.0, pvalue=0.6834283636925591)\n",
      "AUC $PE\\beta_{std}$ = 0.5477426050856252 MannwhitneyuResult(statistic=4222.0, pvalue=0.27575296473770394)\n",
      "AUC $PE\\alpha_{mean}$ = 0.42890503373118843 MannwhitneyuResult(statistic=3306.0, pvalue=0.10443069481679819)\n",
      "AUC $PE\\alpha_{std}$ = 0.5220550077841204 MannwhitneyuResult(statistic=4024.0, pvalue=0.6151801305917143)\n",
      "AUC $PE\\theta_{mean}$ = 0.4661390762843799 MannwhitneyuResult(statistic=3593.0, pvalue=0.4397737193785889)\n",
      "AUC $PE\\theta_{std}$ = 0.5155682407887909 MannwhitneyuResult(statistic=3974.0, pvalue=0.7230346531064931)\n",
      "AUC $K_{mean}$ = 0.46451738453554753 MannwhitneyuResult(statistic=3580.5, pvalue=0.41814198449791706)\n",
      "AUC $K_{std}$ = 0.5806953814218994 MannwhitneyuResult(statistic=4476.0, pvalue=0.06529869492277617)\n",
      "AUC $SE_{mean}$ = 0.4449922158796056 MannwhitneyuResult(statistic=3430.0, pvalue=0.20911920788184768)\n",
      "AUC $SE_{std}$ = 0.5651271406331084 MannwhitneyuResult(statistic=4356.0, pvalue=0.13693062545053317)\n",
      "AUC $MSF_{mean}$ = 0.43435391800726514 MannwhitneyuResult(statistic=3348.0, pvalue=0.13382647923196944)\n",
      "AUC $MSF_{std}$ = 0.537104307213285 MannwhitneyuResult(statistic=4140.0, pvalue=0.39715182645552005)\n",
      "AUC $SEF90_{mean}$ = 0.4731447846393358 MannwhitneyuResult(statistic=3647.0, pvalue=0.5402563424654445)\n",
      "AUC $SEF90_{std}$ = 0.5364556305137519 MannwhitneyuResult(statistic=4135.0, pvalue=0.40547093014207813)\n",
      "AUC $SEF95_{mean}$ = 0.4867669953295278 MannwhitneyuResult(statistic=3752.0, pvalue=0.76339722055977)\n",
      "AUC $SEF95_{std}$ = 0.5219252724442138 MannwhitneyuResult(statistic=4023.0, pvalue=0.617267134076158)\n",
      "AUC $\\beta_{mean}$ = 0.4423975090814738 MannwhitneyuResult(statistic=3410.0, pvalue=0.18840712337250864)\n",
      "AUC $\\beta_{std}$ = 0.5037623248572911 MannwhitneyuResult(statistic=3883.0, pvalue=0.9326401382259317)\n",
      "AUC $|\\beta|_{mean}$ = 0.4150233523611832 MannwhitneyuResult(statistic=3199.0, pvalue=0.052248925305562965)\n",
      "AUC $|\\beta|_{std}$ = 0.5127140633108459 MannwhitneyuResult(statistic=3952.0, pvalue=0.7724591764457369)\n",
      "AUC $\\gamma_{mean}$ = 0.46717695900363254 MannwhitneyuResult(statistic=3601.0, pvalue=0.4539479466934647)\n",
      "AUC $\\gamma_{std}$ = 0.5483912817851583 MannwhitneyuResult(statistic=4227.0, pvalue=0.26927299902320834)\n",
      "AUC $|\\gamma|_{mean}$ = 0.49338349766476386 MannwhitneyuResult(statistic=3803.0, pvalue=0.88094616453927)\n",
      "AUC $|\\gamma|_{std}$ = 0.5342501297353399 MannwhitneyuResult(statistic=4118.0, pvalue=0.4345245848543834)\n",
      "AUC $\\theta_{mean}$ = 0.5313959522573949 MannwhitneyuResult(statistic=4096.0, pvalue=0.4738516183029938)\n",
      "AUC $\\theta_{std}$ = 0.5306175402179554 MannwhitneyuResult(statistic=4090.0, pvalue=0.484907151287152)\n",
      "AUC $|\\theta|_{mean}$ = 0.6117021276595744 MannwhitneyuResult(statistic=4715.0, pvalue=0.010710048277433541)\n",
      "AUC $|\\theta|_{std}$ = 0.5996367410482616 MannwhitneyuResult(statistic=4622.0, pvalue=0.022833696396507938)\n",
      "AUC $\\delta_{mean}$ = 0.5085625324338349 MannwhitneyuResult(statistic=3920.0, pvalue=0.8459754379553701)\n",
      "AUC $\\delta_{std}$ = 0.4635443694862481 MannwhitneyuResult(statistic=3573.0, pvalue=0.40547093014207813)\n",
      "AUC $|\\delta|_{mean}$ = 0.5099896211728074 MannwhitneyuResult(statistic=3931.0, pvalue=0.8205177210706077)\n",
      "AUC $|\\delta|_{std}$ = 0.49091852620653864 MannwhitneyuResult(statistic=3784.0, pvalue=0.836697989210638)\n",
      "AUC $|\\alpha|_{mean}$ = 0.4521276595744681 MannwhitneyuResult(statistic=3485.0, pvalue=0.2744485340751165)\n",
      "AUC $|\\alpha|_{std}$ = 0.4998702646600934 MannwhitneyuResult(statistic=3853.0, pvalue=0.9988168411856244)\n",
      "AUC $\\alpha_{mean}$ = 0.4737934613388687 MannwhitneyuResult(statistic=3652.0, pvalue=0.5501090696753064)\n",
      "AUC $\\alpha_{std}$ = 0.4723663725998962 MannwhitneyuResult(statistic=3641.0, pvalue=0.5285507602456947)\n",
      "AUC $CNV_{mean}$ = 0.45744680851063835 MannwhitneyuResult(statistic=3526.0, pvalue=0.3314088709139502)\n",
      "AUC $CNV_{std}$ = 0.43007265179034776 MannwhitneyuResult(statistic=3315.0, pvalue=0.11025429066672571)\n",
      "AUC $P1_{mean}$ = 0.5634405812143227 MannwhitneyuResult(statistic=4343.0, pvalue=0.14740344541534)\n",
      "AUC $P1_{std}$ = 0.4302023871302542 MannwhitneyuResult(statistic=3316.0, pvalue=0.11091689103031839)\n",
      "AUC $P3a_{mean}$ = 0.5276336274001039 MannwhitneyuResult(statistic=4067.0, pvalue=0.5285507602456947)\n",
      "AUC $P3a_{std}$ = 0.49377270368448367 MannwhitneyuResult(statistic=3806.0, pvalue=0.887970532862835)\n",
      "AUC $P3b_{mean}$ = 0.5853658536585366 MannwhitneyuResult(statistic=4512.0, pvalue=0.05117917882701519)\n",
      "AUC $P3b_{std}$ = 0.46315516346652824 MannwhitneyuResult(statistic=3570.0, pvalue=0.40046704132454136)\n"
     ]
    }
   ],
   "source": [
    "AUC = []\n",
    "pvalues = {}\n",
    "for i in df_mind.drop('mind2', axis = 1).columns:\n",
    "    ot = df_mind.query(\"mind2 == 'on-task'\")[i]\n",
    "    mw = df_mind.query(\"mind2 == 'mw'\")[i]\n",
    "    auc = roc_auc_score(df_mind['mind2'], df_mind[i])\n",
    "    print(f'AUC {i} = {auc}', f'{mannwhitneyu(x = ot, y = mw)}')\n",
    "    AUC.append([i, auc])\n",
    "    pvalues[i] = mannwhitneyu(x = ot, y = mw, alternative = 'two-sided', method = 'exact').pvalue \n",
    "        \n",
    "segment_mind_roc = pd.DataFrame(AUC, columns = ['markers', 'AUC'])\n",
    "\n",
    "p_df =pd.DataFrame.from_dict(pvalues, orient = 'index', columns = ['p_value']).reset_index().rename(columns ={'index': 'markers'})\n",
    "segment_mind_roc = (segment_mind_roc\n",
    "            .merge(p_df, on = 'markers', how = 'inner')\n",
    "            .assign(\n",
    "                    p_corrected = lambda df: multipletests(df.p_value, method = 'fdr_bh')[1],\n",
    "                    significant = lambda df: np.select([(df.p_value < 0.05) & (df.p_corrected < 0.05), (df.p_value < 0.05) & (df.p_corrected > 0.05),  \n",
    "                                                 (df.p_value > 0.05) & (df.p_corrected > 0.05)], ['p < 0.05 FDR corrected','p < 0.05 uncorrected', 'p > 0.05'])\n",
    "                   )\n",
    "           )\n",
    "segment_mind_roc.to_csv('Data/univariate_roc_mind_segment.csv')"
   ]
  },
  {
   "cell_type": "raw",
   "id": "trying-daisy",
   "metadata": {},
   "source": [
    "df_agg = df_mind.melt(id_vars=['mind2'], var_name = 'markers', value_name = 'value').groupby(['markers','mind2'], as_index = False).agg(['mean','std'], axis = 0).reset_index()\n",
    "df_agg.columns = df_agg.columns.map(''.join)\n",
    "\n",
    "df_mind_final = (df_agg.merge(segment_mind_roc, on = 'markers', how= 'inner')\n",
    "                 .drop(['significant','Unnamed: 0'], axis =1)\n",
    "                 .assign(mind2 = lambda df: df.mind2.str.replace('mw', 'MW').replace('on-task','OT'))\n",
    "                )\n",
    "\n",
    "                                                                                 \n",
    "print(df_mind_final.to_latex(header = True, index= False, float_format=\"{:0.3f}\".format, escape = False, longtable=True))"
   ]
  },
  {
   "cell_type": "code",
   "execution_count": 9,
   "id": "0e8341ee",
   "metadata": {},
   "outputs": [],
   "source": [
    "head = segment_mind_roc.sort_values(by = 'AUC', ascending = False).head(10)\n",
    "tail = segment_mind_roc.sort_values(by = 'AUC', ascending = False).tail(10)\n",
    "body = segment_mind_roc.sort_values(by = 'AUC', ascending = False)[10:-10]"
   ]
  },
  {
   "cell_type": "code",
   "execution_count": 10,
   "id": "seven-hollywood",
   "metadata": {
    "tags": []
   },
   "outputs": [
    {
     "data": {
      "application/vnd.plotly.v1+json": {
       "config": {
        "plotlyServerURL": "https://plot.ly"
       },
       "data": [
        {
         "hovertemplate": "Statistical Significance=p > 0.05<br>MW>OT                         MW<OT=%{x}<br>=%{y}<extra></extra>",
         "legendgroup": "p > 0.05",
         "marker": {
          "color": "#DE237B",
          "size": 10,
          "symbol": "circle-open"
         },
         "mode": "markers",
         "name": "p > 0.05",
         "orientation": "h",
         "showlegend": true,
         "type": "scatter",
         "x": [
          0.4150233523611832,
          0.42890503373118843,
          0.43007265179034776,
          0.4302023871302542,
          0.43435391800726514,
          0.4423975090814738,
          0.4449922158796056,
          0.4521276595744681,
          0.45744680851063835,
          0.4577062791904515
         ],
         "xaxis": "x",
         "y": [
          "$|\\beta|_{mean}$",
          "$PE\\alpha_{mean}$",
          "$CNV_{std}$",
          "$P1_{std}$",
          "$MSF_{mean}$",
          "$\\beta_{mean}$",
          "$SE_{mean}$",
          "$|\\alpha|_{mean}$",
          "$CNV_{mean}$",
          "$wSMI\\beta_{std}$"
         ],
         "yaxis": "y"
        }
       ],
       "layout": {
        "font": {
         "color": "black",
         "family": "Times new roman",
         "size": 15
        },
        "height": 500,
        "legend": {
         "title": {
          "text": "Statistical Significance"
         },
         "tracegroupgap": 0
        },
        "margin": {
         "t": 60
        },
        "shapes": [
         {
          "line": {
           "color": "grey",
           "dash": "dash",
           "width": 3
          },
          "type": "line",
          "x0": 0.5,
          "x1": 0.5,
          "xref": "x",
          "y0": 0,
          "y1": 1,
          "yref": "y domain"
         }
        ],
        "showlegend": true,
        "template": {
         "data": {
          "bar": [
           {
            "error_x": {
             "color": "#2a3f5f"
            },
            "error_y": {
             "color": "#2a3f5f"
            },
            "marker": {
             "line": {
              "color": "white",
              "width": 0.5
             },
             "pattern": {
              "fillmode": "overlay",
              "size": 10,
              "solidity": 0.2
             }
            },
            "type": "bar"
           }
          ],
          "barpolar": [
           {
            "marker": {
             "line": {
              "color": "white",
              "width": 0.5
             },
             "pattern": {
              "fillmode": "overlay",
              "size": 10,
              "solidity": 0.2
             }
            },
            "type": "barpolar"
           }
          ],
          "carpet": [
           {
            "aaxis": {
             "endlinecolor": "#2a3f5f",
             "gridcolor": "#C8D4E3",
             "linecolor": "#C8D4E3",
             "minorgridcolor": "#C8D4E3",
             "startlinecolor": "#2a3f5f"
            },
            "baxis": {
             "endlinecolor": "#2a3f5f",
             "gridcolor": "#C8D4E3",
             "linecolor": "#C8D4E3",
             "minorgridcolor": "#C8D4E3",
             "startlinecolor": "#2a3f5f"
            },
            "type": "carpet"
           }
          ],
          "choropleth": [
           {
            "colorbar": {
             "outlinewidth": 0,
             "ticks": ""
            },
            "type": "choropleth"
           }
          ],
          "contour": [
           {
            "colorbar": {
             "outlinewidth": 0,
             "ticks": ""
            },
            "colorscale": [
             [
              0,
              "#0d0887"
             ],
             [
              0.1111111111111111,
              "#46039f"
             ],
             [
              0.2222222222222222,
              "#7201a8"
             ],
             [
              0.3333333333333333,
              "#9c179e"
             ],
             [
              0.4444444444444444,
              "#bd3786"
             ],
             [
              0.5555555555555556,
              "#d8576b"
             ],
             [
              0.6666666666666666,
              "#ed7953"
             ],
             [
              0.7777777777777778,
              "#fb9f3a"
             ],
             [
              0.8888888888888888,
              "#fdca26"
             ],
             [
              1,
              "#f0f921"
             ]
            ],
            "type": "contour"
           }
          ],
          "contourcarpet": [
           {
            "colorbar": {
             "outlinewidth": 0,
             "ticks": ""
            },
            "type": "contourcarpet"
           }
          ],
          "heatmap": [
           {
            "colorbar": {
             "outlinewidth": 0,
             "ticks": ""
            },
            "colorscale": [
             [
              0,
              "#0d0887"
             ],
             [
              0.1111111111111111,
              "#46039f"
             ],
             [
              0.2222222222222222,
              "#7201a8"
             ],
             [
              0.3333333333333333,
              "#9c179e"
             ],
             [
              0.4444444444444444,
              "#bd3786"
             ],
             [
              0.5555555555555556,
              "#d8576b"
             ],
             [
              0.6666666666666666,
              "#ed7953"
             ],
             [
              0.7777777777777778,
              "#fb9f3a"
             ],
             [
              0.8888888888888888,
              "#fdca26"
             ],
             [
              1,
              "#f0f921"
             ]
            ],
            "type": "heatmap"
           }
          ],
          "heatmapgl": [
           {
            "colorbar": {
             "outlinewidth": 0,
             "ticks": ""
            },
            "colorscale": [
             [
              0,
              "#0d0887"
             ],
             [
              0.1111111111111111,
              "#46039f"
             ],
             [
              0.2222222222222222,
              "#7201a8"
             ],
             [
              0.3333333333333333,
              "#9c179e"
             ],
             [
              0.4444444444444444,
              "#bd3786"
             ],
             [
              0.5555555555555556,
              "#d8576b"
             ],
             [
              0.6666666666666666,
              "#ed7953"
             ],
             [
              0.7777777777777778,
              "#fb9f3a"
             ],
             [
              0.8888888888888888,
              "#fdca26"
             ],
             [
              1,
              "#f0f921"
             ]
            ],
            "type": "heatmapgl"
           }
          ],
          "histogram": [
           {
            "marker": {
             "pattern": {
              "fillmode": "overlay",
              "size": 10,
              "solidity": 0.2
             }
            },
            "type": "histogram"
           }
          ],
          "histogram2d": [
           {
            "colorbar": {
             "outlinewidth": 0,
             "ticks": ""
            },
            "colorscale": [
             [
              0,
              "#0d0887"
             ],
             [
              0.1111111111111111,
              "#46039f"
             ],
             [
              0.2222222222222222,
              "#7201a8"
             ],
             [
              0.3333333333333333,
              "#9c179e"
             ],
             [
              0.4444444444444444,
              "#bd3786"
             ],
             [
              0.5555555555555556,
              "#d8576b"
             ],
             [
              0.6666666666666666,
              "#ed7953"
             ],
             [
              0.7777777777777778,
              "#fb9f3a"
             ],
             [
              0.8888888888888888,
              "#fdca26"
             ],
             [
              1,
              "#f0f921"
             ]
            ],
            "type": "histogram2d"
           }
          ],
          "histogram2dcontour": [
           {
            "colorbar": {
             "outlinewidth": 0,
             "ticks": ""
            },
            "colorscale": [
             [
              0,
              "#0d0887"
             ],
             [
              0.1111111111111111,
              "#46039f"
             ],
             [
              0.2222222222222222,
              "#7201a8"
             ],
             [
              0.3333333333333333,
              "#9c179e"
             ],
             [
              0.4444444444444444,
              "#bd3786"
             ],
             [
              0.5555555555555556,
              "#d8576b"
             ],
             [
              0.6666666666666666,
              "#ed7953"
             ],
             [
              0.7777777777777778,
              "#fb9f3a"
             ],
             [
              0.8888888888888888,
              "#fdca26"
             ],
             [
              1,
              "#f0f921"
             ]
            ],
            "type": "histogram2dcontour"
           }
          ],
          "mesh3d": [
           {
            "colorbar": {
             "outlinewidth": 0,
             "ticks": ""
            },
            "type": "mesh3d"
           }
          ],
          "parcoords": [
           {
            "line": {
             "colorbar": {
              "outlinewidth": 0,
              "ticks": ""
             }
            },
            "type": "parcoords"
           }
          ],
          "pie": [
           {
            "automargin": true,
            "type": "pie"
           }
          ],
          "scatter": [
           {
            "marker": {
             "colorbar": {
              "outlinewidth": 0,
              "ticks": ""
             }
            },
            "type": "scatter"
           }
          ],
          "scatter3d": [
           {
            "line": {
             "colorbar": {
              "outlinewidth": 0,
              "ticks": ""
             }
            },
            "marker": {
             "colorbar": {
              "outlinewidth": 0,
              "ticks": ""
             }
            },
            "type": "scatter3d"
           }
          ],
          "scattercarpet": [
           {
            "marker": {
             "colorbar": {
              "outlinewidth": 0,
              "ticks": ""
             }
            },
            "type": "scattercarpet"
           }
          ],
          "scattergeo": [
           {
            "marker": {
             "colorbar": {
              "outlinewidth": 0,
              "ticks": ""
             }
            },
            "type": "scattergeo"
           }
          ],
          "scattergl": [
           {
            "marker": {
             "colorbar": {
              "outlinewidth": 0,
              "ticks": ""
             }
            },
            "type": "scattergl"
           }
          ],
          "scattermapbox": [
           {
            "marker": {
             "colorbar": {
              "outlinewidth": 0,
              "ticks": ""
             }
            },
            "type": "scattermapbox"
           }
          ],
          "scatterpolar": [
           {
            "marker": {
             "colorbar": {
              "outlinewidth": 0,
              "ticks": ""
             }
            },
            "type": "scatterpolar"
           }
          ],
          "scatterpolargl": [
           {
            "marker": {
             "colorbar": {
              "outlinewidth": 0,
              "ticks": ""
             }
            },
            "type": "scatterpolargl"
           }
          ],
          "scatterternary": [
           {
            "marker": {
             "colorbar": {
              "outlinewidth": 0,
              "ticks": ""
             }
            },
            "type": "scatterternary"
           }
          ],
          "surface": [
           {
            "colorbar": {
             "outlinewidth": 0,
             "ticks": ""
            },
            "colorscale": [
             [
              0,
              "#0d0887"
             ],
             [
              0.1111111111111111,
              "#46039f"
             ],
             [
              0.2222222222222222,
              "#7201a8"
             ],
             [
              0.3333333333333333,
              "#9c179e"
             ],
             [
              0.4444444444444444,
              "#bd3786"
             ],
             [
              0.5555555555555556,
              "#d8576b"
             ],
             [
              0.6666666666666666,
              "#ed7953"
             ],
             [
              0.7777777777777778,
              "#fb9f3a"
             ],
             [
              0.8888888888888888,
              "#fdca26"
             ],
             [
              1,
              "#f0f921"
             ]
            ],
            "type": "surface"
           }
          ],
          "table": [
           {
            "cells": {
             "fill": {
              "color": "#EBF0F8"
             },
             "line": {
              "color": "white"
             }
            },
            "header": {
             "fill": {
              "color": "#C8D4E3"
             },
             "line": {
              "color": "white"
             }
            },
            "type": "table"
           }
          ]
         },
         "layout": {
          "annotationdefaults": {
           "arrowcolor": "#2a3f5f",
           "arrowhead": 0,
           "arrowwidth": 1
          },
          "autotypenumbers": "strict",
          "coloraxis": {
           "colorbar": {
            "outlinewidth": 0,
            "ticks": ""
           }
          },
          "colorscale": {
           "diverging": [
            [
             0,
             "#8e0152"
            ],
            [
             0.1,
             "#c51b7d"
            ],
            [
             0.2,
             "#de77ae"
            ],
            [
             0.3,
             "#f1b6da"
            ],
            [
             0.4,
             "#fde0ef"
            ],
            [
             0.5,
             "#f7f7f7"
            ],
            [
             0.6,
             "#e6f5d0"
            ],
            [
             0.7,
             "#b8e186"
            ],
            [
             0.8,
             "#7fbc41"
            ],
            [
             0.9,
             "#4d9221"
            ],
            [
             1,
             "#276419"
            ]
           ],
           "sequential": [
            [
             0,
             "#0d0887"
            ],
            [
             0.1111111111111111,
             "#46039f"
            ],
            [
             0.2222222222222222,
             "#7201a8"
            ],
            [
             0.3333333333333333,
             "#9c179e"
            ],
            [
             0.4444444444444444,
             "#bd3786"
            ],
            [
             0.5555555555555556,
             "#d8576b"
            ],
            [
             0.6666666666666666,
             "#ed7953"
            ],
            [
             0.7777777777777778,
             "#fb9f3a"
            ],
            [
             0.8888888888888888,
             "#fdca26"
            ],
            [
             1,
             "#f0f921"
            ]
           ],
           "sequentialminus": [
            [
             0,
             "#0d0887"
            ],
            [
             0.1111111111111111,
             "#46039f"
            ],
            [
             0.2222222222222222,
             "#7201a8"
            ],
            [
             0.3333333333333333,
             "#9c179e"
            ],
            [
             0.4444444444444444,
             "#bd3786"
            ],
            [
             0.5555555555555556,
             "#d8576b"
            ],
            [
             0.6666666666666666,
             "#ed7953"
            ],
            [
             0.7777777777777778,
             "#fb9f3a"
            ],
            [
             0.8888888888888888,
             "#fdca26"
            ],
            [
             1,
             "#f0f921"
            ]
           ]
          },
          "colorway": [
           "#636efa",
           "#EF553B",
           "#00cc96",
           "#ab63fa",
           "#FFA15A",
           "#19d3f3",
           "#FF6692",
           "#B6E880",
           "#FF97FF",
           "#FECB52"
          ],
          "font": {
           "color": "#2a3f5f"
          },
          "geo": {
           "bgcolor": "white",
           "lakecolor": "white",
           "landcolor": "white",
           "showlakes": true,
           "showland": true,
           "subunitcolor": "#C8D4E3"
          },
          "hoverlabel": {
           "align": "left"
          },
          "hovermode": "closest",
          "mapbox": {
           "style": "light"
          },
          "paper_bgcolor": "white",
          "plot_bgcolor": "white",
          "polar": {
           "angularaxis": {
            "gridcolor": "#EBF0F8",
            "linecolor": "#EBF0F8",
            "ticks": ""
           },
           "bgcolor": "white",
           "radialaxis": {
            "gridcolor": "#EBF0F8",
            "linecolor": "#EBF0F8",
            "ticks": ""
           }
          },
          "scene": {
           "xaxis": {
            "backgroundcolor": "white",
            "gridcolor": "#DFE8F3",
            "gridwidth": 2,
            "linecolor": "#EBF0F8",
            "showbackground": true,
            "ticks": "",
            "zerolinecolor": "#EBF0F8"
           },
           "yaxis": {
            "backgroundcolor": "white",
            "gridcolor": "#DFE8F3",
            "gridwidth": 2,
            "linecolor": "#EBF0F8",
            "showbackground": true,
            "ticks": "",
            "zerolinecolor": "#EBF0F8"
           },
           "zaxis": {
            "backgroundcolor": "white",
            "gridcolor": "#DFE8F3",
            "gridwidth": 2,
            "linecolor": "#EBF0F8",
            "showbackground": true,
            "ticks": "",
            "zerolinecolor": "#EBF0F8"
           }
          },
          "shapedefaults": {
           "line": {
            "color": "#2a3f5f"
           }
          },
          "ternary": {
           "aaxis": {
            "gridcolor": "#DFE8F3",
            "linecolor": "#A2B1C6",
            "ticks": ""
           },
           "baxis": {
            "gridcolor": "#DFE8F3",
            "linecolor": "#A2B1C6",
            "ticks": ""
           },
           "bgcolor": "white",
           "caxis": {
            "gridcolor": "#DFE8F3",
            "linecolor": "#A2B1C6",
            "ticks": ""
           }
          },
          "title": {
           "x": 0.05
          },
          "xaxis": {
           "automargin": true,
           "gridcolor": "#EBF0F8",
           "linecolor": "#EBF0F8",
           "ticks": "",
           "title": {
            "standoff": 15
           },
           "zerolinecolor": "#EBF0F8",
           "zerolinewidth": 2
          },
          "yaxis": {
           "automargin": true,
           "gridcolor": "#EBF0F8",
           "linecolor": "#EBF0F8",
           "ticks": "",
           "title": {
            "standoff": 15
           },
           "zerolinecolor": "#EBF0F8",
           "zerolinewidth": 2
          }
         }
        },
        "width": 700,
        "xaxis": {
         "anchor": "y",
         "automargin": false,
         "autorange": false,
         "domain": [
          0,
          1
         ],
         "range": [
          0.37,
          0.63
         ],
         "tickfont": {
          "size": 20
         },
         "title": {
          "text": "MW>OT                         MW<OT"
         },
         "visible": true
        },
        "yaxis": {
         "anchor": "x",
         "automargin": false,
         "autorange": false,
         "domain": [
          0,
          1
         ],
         "dtick": 1,
         "range": [
          -1,
          10
         ],
         "tickfont": {
          "color": "black",
          "size": 20
         },
         "title": {
          "text": ""
         }
        }
       }
      },
      "text/html": [
       "<div>                            <div id=\"354f4c34-f71a-41a9-80b8-dade66782147\" class=\"plotly-graph-div\" style=\"height:500px; width:700px;\"></div>            <script type=\"text/javascript\">                require([\"plotly\"], function(Plotly) {                    window.PLOTLYENV=window.PLOTLYENV || {};                                    if (document.getElementById(\"354f4c34-f71a-41a9-80b8-dade66782147\")) {                    Plotly.newPlot(                        \"354f4c34-f71a-41a9-80b8-dade66782147\",                        [{\"hovertemplate\":\"Statistical Significance=p > 0.05<br>MW>OT                         MW<OT=%{x}<br>=%{y}<extra></extra>\",\"legendgroup\":\"p > 0.05\",\"marker\":{\"color\":\"#DE237B\",\"symbol\":\"circle-open\",\"size\":10},\"mode\":\"markers\",\"name\":\"p > 0.05\",\"orientation\":\"h\",\"showlegend\":true,\"x\":[0.4150233523611832,0.42890503373118843,0.43007265179034776,0.4302023871302542,0.43435391800726514,0.4423975090814738,0.4449922158796056,0.4521276595744681,0.45744680851063835,0.4577062791904515],\"xaxis\":\"x\",\"y\":[\"$|\\\\beta|_{mean}$\",\"$PE\\\\alpha_{mean}$\",\"$CNV_{std}$\",\"$P1_{std}$\",\"$MSF_{mean}$\",\"$\\\\beta_{mean}$\",\"$SE_{mean}$\",\"$|\\\\alpha|_{mean}$\",\"$CNV_{mean}$\",\"$wSMI\\\\beta_{std}$\"],\"yaxis\":\"y\",\"type\":\"scatter\"}],                        {\"template\":{\"data\":{\"barpolar\":[{\"marker\":{\"line\":{\"color\":\"white\",\"width\":0.5},\"pattern\":{\"fillmode\":\"overlay\",\"size\":10,\"solidity\":0.2}},\"type\":\"barpolar\"}],\"bar\":[{\"error_x\":{\"color\":\"#2a3f5f\"},\"error_y\":{\"color\":\"#2a3f5f\"},\"marker\":{\"line\":{\"color\":\"white\",\"width\":0.5},\"pattern\":{\"fillmode\":\"overlay\",\"size\":10,\"solidity\":0.2}},\"type\":\"bar\"}],\"carpet\":[{\"aaxis\":{\"endlinecolor\":\"#2a3f5f\",\"gridcolor\":\"#C8D4E3\",\"linecolor\":\"#C8D4E3\",\"minorgridcolor\":\"#C8D4E3\",\"startlinecolor\":\"#2a3f5f\"},\"baxis\":{\"endlinecolor\":\"#2a3f5f\",\"gridcolor\":\"#C8D4E3\",\"linecolor\":\"#C8D4E3\",\"minorgridcolor\":\"#C8D4E3\",\"startlinecolor\":\"#2a3f5f\"},\"type\":\"carpet\"}],\"choropleth\":[{\"colorbar\":{\"outlinewidth\":0,\"ticks\":\"\"},\"type\":\"choropleth\"}],\"contourcarpet\":[{\"colorbar\":{\"outlinewidth\":0,\"ticks\":\"\"},\"type\":\"contourcarpet\"}],\"contour\":[{\"colorbar\":{\"outlinewidth\":0,\"ticks\":\"\"},\"colorscale\":[[0.0,\"#0d0887\"],[0.1111111111111111,\"#46039f\"],[0.2222222222222222,\"#7201a8\"],[0.3333333333333333,\"#9c179e\"],[0.4444444444444444,\"#bd3786\"],[0.5555555555555556,\"#d8576b\"],[0.6666666666666666,\"#ed7953\"],[0.7777777777777778,\"#fb9f3a\"],[0.8888888888888888,\"#fdca26\"],[1.0,\"#f0f921\"]],\"type\":\"contour\"}],\"heatmapgl\":[{\"colorbar\":{\"outlinewidth\":0,\"ticks\":\"\"},\"colorscale\":[[0.0,\"#0d0887\"],[0.1111111111111111,\"#46039f\"],[0.2222222222222222,\"#7201a8\"],[0.3333333333333333,\"#9c179e\"],[0.4444444444444444,\"#bd3786\"],[0.5555555555555556,\"#d8576b\"],[0.6666666666666666,\"#ed7953\"],[0.7777777777777778,\"#fb9f3a\"],[0.8888888888888888,\"#fdca26\"],[1.0,\"#f0f921\"]],\"type\":\"heatmapgl\"}],\"heatmap\":[{\"colorbar\":{\"outlinewidth\":0,\"ticks\":\"\"},\"colorscale\":[[0.0,\"#0d0887\"],[0.1111111111111111,\"#46039f\"],[0.2222222222222222,\"#7201a8\"],[0.3333333333333333,\"#9c179e\"],[0.4444444444444444,\"#bd3786\"],[0.5555555555555556,\"#d8576b\"],[0.6666666666666666,\"#ed7953\"],[0.7777777777777778,\"#fb9f3a\"],[0.8888888888888888,\"#fdca26\"],[1.0,\"#f0f921\"]],\"type\":\"heatmap\"}],\"histogram2dcontour\":[{\"colorbar\":{\"outlinewidth\":0,\"ticks\":\"\"},\"colorscale\":[[0.0,\"#0d0887\"],[0.1111111111111111,\"#46039f\"],[0.2222222222222222,\"#7201a8\"],[0.3333333333333333,\"#9c179e\"],[0.4444444444444444,\"#bd3786\"],[0.5555555555555556,\"#d8576b\"],[0.6666666666666666,\"#ed7953\"],[0.7777777777777778,\"#fb9f3a\"],[0.8888888888888888,\"#fdca26\"],[1.0,\"#f0f921\"]],\"type\":\"histogram2dcontour\"}],\"histogram2d\":[{\"colorbar\":{\"outlinewidth\":0,\"ticks\":\"\"},\"colorscale\":[[0.0,\"#0d0887\"],[0.1111111111111111,\"#46039f\"],[0.2222222222222222,\"#7201a8\"],[0.3333333333333333,\"#9c179e\"],[0.4444444444444444,\"#bd3786\"],[0.5555555555555556,\"#d8576b\"],[0.6666666666666666,\"#ed7953\"],[0.7777777777777778,\"#fb9f3a\"],[0.8888888888888888,\"#fdca26\"],[1.0,\"#f0f921\"]],\"type\":\"histogram2d\"}],\"histogram\":[{\"marker\":{\"pattern\":{\"fillmode\":\"overlay\",\"size\":10,\"solidity\":0.2}},\"type\":\"histogram\"}],\"mesh3d\":[{\"colorbar\":{\"outlinewidth\":0,\"ticks\":\"\"},\"type\":\"mesh3d\"}],\"parcoords\":[{\"line\":{\"colorbar\":{\"outlinewidth\":0,\"ticks\":\"\"}},\"type\":\"parcoords\"}],\"pie\":[{\"automargin\":true,\"type\":\"pie\"}],\"scatter3d\":[{\"line\":{\"colorbar\":{\"outlinewidth\":0,\"ticks\":\"\"}},\"marker\":{\"colorbar\":{\"outlinewidth\":0,\"ticks\":\"\"}},\"type\":\"scatter3d\"}],\"scattercarpet\":[{\"marker\":{\"colorbar\":{\"outlinewidth\":0,\"ticks\":\"\"}},\"type\":\"scattercarpet\"}],\"scattergeo\":[{\"marker\":{\"colorbar\":{\"outlinewidth\":0,\"ticks\":\"\"}},\"type\":\"scattergeo\"}],\"scattergl\":[{\"marker\":{\"colorbar\":{\"outlinewidth\":0,\"ticks\":\"\"}},\"type\":\"scattergl\"}],\"scattermapbox\":[{\"marker\":{\"colorbar\":{\"outlinewidth\":0,\"ticks\":\"\"}},\"type\":\"scattermapbox\"}],\"scatterpolargl\":[{\"marker\":{\"colorbar\":{\"outlinewidth\":0,\"ticks\":\"\"}},\"type\":\"scatterpolargl\"}],\"scatterpolar\":[{\"marker\":{\"colorbar\":{\"outlinewidth\":0,\"ticks\":\"\"}},\"type\":\"scatterpolar\"}],\"scatter\":[{\"marker\":{\"colorbar\":{\"outlinewidth\":0,\"ticks\":\"\"}},\"type\":\"scatter\"}],\"scatterternary\":[{\"marker\":{\"colorbar\":{\"outlinewidth\":0,\"ticks\":\"\"}},\"type\":\"scatterternary\"}],\"surface\":[{\"colorbar\":{\"outlinewidth\":0,\"ticks\":\"\"},\"colorscale\":[[0.0,\"#0d0887\"],[0.1111111111111111,\"#46039f\"],[0.2222222222222222,\"#7201a8\"],[0.3333333333333333,\"#9c179e\"],[0.4444444444444444,\"#bd3786\"],[0.5555555555555556,\"#d8576b\"],[0.6666666666666666,\"#ed7953\"],[0.7777777777777778,\"#fb9f3a\"],[0.8888888888888888,\"#fdca26\"],[1.0,\"#f0f921\"]],\"type\":\"surface\"}],\"table\":[{\"cells\":{\"fill\":{\"color\":\"#EBF0F8\"},\"line\":{\"color\":\"white\"}},\"header\":{\"fill\":{\"color\":\"#C8D4E3\"},\"line\":{\"color\":\"white\"}},\"type\":\"table\"}]},\"layout\":{\"annotationdefaults\":{\"arrowcolor\":\"#2a3f5f\",\"arrowhead\":0,\"arrowwidth\":1},\"autotypenumbers\":\"strict\",\"coloraxis\":{\"colorbar\":{\"outlinewidth\":0,\"ticks\":\"\"}},\"colorscale\":{\"diverging\":[[0,\"#8e0152\"],[0.1,\"#c51b7d\"],[0.2,\"#de77ae\"],[0.3,\"#f1b6da\"],[0.4,\"#fde0ef\"],[0.5,\"#f7f7f7\"],[0.6,\"#e6f5d0\"],[0.7,\"#b8e186\"],[0.8,\"#7fbc41\"],[0.9,\"#4d9221\"],[1,\"#276419\"]],\"sequential\":[[0.0,\"#0d0887\"],[0.1111111111111111,\"#46039f\"],[0.2222222222222222,\"#7201a8\"],[0.3333333333333333,\"#9c179e\"],[0.4444444444444444,\"#bd3786\"],[0.5555555555555556,\"#d8576b\"],[0.6666666666666666,\"#ed7953\"],[0.7777777777777778,\"#fb9f3a\"],[0.8888888888888888,\"#fdca26\"],[1.0,\"#f0f921\"]],\"sequentialminus\":[[0.0,\"#0d0887\"],[0.1111111111111111,\"#46039f\"],[0.2222222222222222,\"#7201a8\"],[0.3333333333333333,\"#9c179e\"],[0.4444444444444444,\"#bd3786\"],[0.5555555555555556,\"#d8576b\"],[0.6666666666666666,\"#ed7953\"],[0.7777777777777778,\"#fb9f3a\"],[0.8888888888888888,\"#fdca26\"],[1.0,\"#f0f921\"]]},\"colorway\":[\"#636efa\",\"#EF553B\",\"#00cc96\",\"#ab63fa\",\"#FFA15A\",\"#19d3f3\",\"#FF6692\",\"#B6E880\",\"#FF97FF\",\"#FECB52\"],\"font\":{\"color\":\"#2a3f5f\"},\"geo\":{\"bgcolor\":\"white\",\"lakecolor\":\"white\",\"landcolor\":\"white\",\"showlakes\":true,\"showland\":true,\"subunitcolor\":\"#C8D4E3\"},\"hoverlabel\":{\"align\":\"left\"},\"hovermode\":\"closest\",\"mapbox\":{\"style\":\"light\"},\"paper_bgcolor\":\"white\",\"plot_bgcolor\":\"white\",\"polar\":{\"angularaxis\":{\"gridcolor\":\"#EBF0F8\",\"linecolor\":\"#EBF0F8\",\"ticks\":\"\"},\"bgcolor\":\"white\",\"radialaxis\":{\"gridcolor\":\"#EBF0F8\",\"linecolor\":\"#EBF0F8\",\"ticks\":\"\"}},\"scene\":{\"xaxis\":{\"backgroundcolor\":\"white\",\"gridcolor\":\"#DFE8F3\",\"gridwidth\":2,\"linecolor\":\"#EBF0F8\",\"showbackground\":true,\"ticks\":\"\",\"zerolinecolor\":\"#EBF0F8\"},\"yaxis\":{\"backgroundcolor\":\"white\",\"gridcolor\":\"#DFE8F3\",\"gridwidth\":2,\"linecolor\":\"#EBF0F8\",\"showbackground\":true,\"ticks\":\"\",\"zerolinecolor\":\"#EBF0F8\"},\"zaxis\":{\"backgroundcolor\":\"white\",\"gridcolor\":\"#DFE8F3\",\"gridwidth\":2,\"linecolor\":\"#EBF0F8\",\"showbackground\":true,\"ticks\":\"\",\"zerolinecolor\":\"#EBF0F8\"}},\"shapedefaults\":{\"line\":{\"color\":\"#2a3f5f\"}},\"ternary\":{\"aaxis\":{\"gridcolor\":\"#DFE8F3\",\"linecolor\":\"#A2B1C6\",\"ticks\":\"\"},\"baxis\":{\"gridcolor\":\"#DFE8F3\",\"linecolor\":\"#A2B1C6\",\"ticks\":\"\"},\"bgcolor\":\"white\",\"caxis\":{\"gridcolor\":\"#DFE8F3\",\"linecolor\":\"#A2B1C6\",\"ticks\":\"\"}},\"title\":{\"x\":0.05},\"xaxis\":{\"automargin\":true,\"gridcolor\":\"#EBF0F8\",\"linecolor\":\"#EBF0F8\",\"ticks\":\"\",\"title\":{\"standoff\":15},\"zerolinecolor\":\"#EBF0F8\",\"zerolinewidth\":2},\"yaxis\":{\"automargin\":true,\"gridcolor\":\"#EBF0F8\",\"linecolor\":\"#EBF0F8\",\"ticks\":\"\",\"title\":{\"standoff\":15},\"zerolinecolor\":\"#EBF0F8\",\"zerolinewidth\":2}}},\"xaxis\":{\"anchor\":\"y\",\"domain\":[0.0,1.0],\"title\":{\"text\":\"MW>OT                         MW<OT\"},\"tickfont\":{\"size\":20},\"visible\":true,\"range\":[0.37,0.63],\"automargin\":false,\"autorange\":false},\"yaxis\":{\"anchor\":\"x\",\"domain\":[0.0,1.0],\"title\":{\"text\":\"\"},\"tickfont\":{\"size\":20,\"color\":\"black\"},\"automargin\":false,\"autorange\":false,\"range\":[-1,10],\"dtick\":1},\"legend\":{\"title\":{\"text\":\"Statistical Significance\"},\"tracegroupgap\":0},\"margin\":{\"t\":60},\"shapes\":[{\"line\":{\"color\":\"grey\",\"dash\":\"dash\",\"width\":3},\"type\":\"line\",\"x0\":0.5,\"x1\":0.5,\"xref\":\"x\",\"y0\":0,\"y1\":1,\"yref\":\"y domain\"}],\"font\":{\"family\":\"Times new roman\",\"size\":15,\"color\":\"black\"},\"width\":700,\"height\":500,\"showlegend\":true},                        {\"responsive\": true}                    ).then(function(){\n",
       "                            \n",
       "var gd = document.getElementById('354f4c34-f71a-41a9-80b8-dade66782147');\n",
       "var x = new MutationObserver(function (mutations, observer) {{\n",
       "        var display = window.getComputedStyle(gd).display;\n",
       "        if (!display || display === 'none') {{\n",
       "            console.log([gd, 'removed!']);\n",
       "            Plotly.purge(gd);\n",
       "            observer.disconnect();\n",
       "        }}\n",
       "}});\n",
       "\n",
       "// Listen for the removal of the full notebook cells\n",
       "var notebookContainer = gd.closest('#notebook-container');\n",
       "if (notebookContainer) {{\n",
       "    x.observe(notebookContainer, {childList: true});\n",
       "}}\n",
       "\n",
       "// Listen for the clearing of the current output cell\n",
       "var outputEl = gd.closest('.output');\n",
       "if (outputEl) {{\n",
       "    x.observe(outputEl, {childList: true});\n",
       "}}\n",
       "\n",
       "                        })                };                });            </script>        </div>"
      ]
     },
     "metadata": {},
     "output_type": "display_data"
    }
   ],
   "source": [
    "# segment_mind_roc = segment_mind_roc.sort_values(by = 'AUC', ascending = False).head(10).append(segment_mind_roc.sort_values(by = 'AUC', ascending = False).tail(10))\n",
    "\n",
    "fig = px.scatter(tail.sort_values(by = 'AUC'),x = 'AUC', y = 'markers', template = \"plotly_white\", symbol = 'significant', \n",
    "                 symbol_sequence = ['circle-open','circle','hexagram' ],\n",
    "#                  color = 'significant',\n",
    "                 color_discrete_sequence = [pink, green,orange, pink], \n",
    "                 \n",
    "                 category_orders = {'significant': ['p > 0.05','p < 0.05 uncorrected', 'p < 0.05 FDR corrected']},\n",
    "                 labels = {'AUC': 'MW>OT                         MW<OT', 'significant': 'Statistical Significance', 'markers':''}\n",
    "                )\n",
    "fig.add_vline(x=0.5, line_width=3, line_dash=\"dash\", line_color=\"grey\")\n",
    "fig.update_traces(marker=dict(size = 10))\n",
    "\n",
    "fig.update_layout(\n",
    "    font=dict(\n",
    "        family=\"Times new roman\",\n",
    "        size=15,\n",
    "        color=\"black\"\n",
    "    ),\n",
    "    width=700,\n",
    "    height=500,\n",
    "#     autosize = True, \n",
    "    template = 'plotly_white',\n",
    "    xaxis = dict(\n",
    "            visible=True,\n",
    "            range = [0.37,0.63], \n",
    "            tickfont = {\"size\": 20},\n",
    "                automargin = False,\n",
    "    autorange = False,\n",
    "        ),\n",
    "    yaxis = dict(\n",
    "    tickfont = {\"size\": 20, \"color\": 'black'},\n",
    "    automargin = False,\n",
    "    autorange = False,\n",
    "    range = [-1,len(tail)],\n",
    "    dtick = 1\n",
    "    ),\n",
    "    showlegend=True,\n",
    ")\n",
    "\n",
    "\n",
    "fig.show()\n",
    "# pio.write_json(fig, 'Figs/univariate_roc_mw_segment.plotly')\n",
    "# fig.write_image('Figs/univariate_roc_mw_segment.png')\n",
    "fig.write_image(\"Figs//univariate_roc_mind_segment_tail.pdf\")"
   ]
  },
  {
   "cell_type": "code",
   "execution_count": 11,
   "id": "73bdc9c4",
   "metadata": {
    "tags": []
   },
   "outputs": [
    {
     "data": {
      "application/vnd.plotly.v1+json": {
       "config": {
        "plotlyServerURL": "https://plot.ly"
       },
       "data": [
        {
         "hovertemplate": "Statistical Significance=p > 0.05<br>TUT>OT                      TUT<OT=%{x}<br>=%{y}<extra></extra>",
         "legendgroup": "p > 0.05",
         "marker": {
          "color": "#DE237B",
          "size": 13,
          "symbol": "circle-open"
         },
         "mode": "markers",
         "name": "p > 0.05",
         "orientation": "h",
         "showlegend": true,
         "type": "scatter",
         "x": [
          0.4150233523611832,
          0.4289050337311884,
          0.4300726517903477,
          0.4302023871302542,
          0.4343539180072651,
          0.4423975090814738,
          0.4449922158796056,
          0.4521276595744681,
          0.4574468085106383,
          0.4577062791904515,
          0.4631551634665282,
          0.4635443694862481,
          0.4645173845355475,
          0.4661390762843799,
          0.4671769590036325,
          0.4723663725998962,
          0.4731447846393358,
          0.4737934613388687,
          0.4867669953295278,
          0.4909185262065386,
          0.4910482615464452,
          0.4933834976647638,
          0.4937727036844836,
          0.4998702646600934,
          0.5037623248572911,
          0.5085625324338349,
          0.5099896211728074,
          0.5107680332122471,
          0.5127140633108459,
          0.5155682407887909,
          0.516476388168137,
          0.5179034769071095,
          0.5219252724442138,
          0.5220550077841204,
          0.5276336274001039,
          0.5306175402179554,
          0.5313959522573949,
          0.5332122470160872,
          0.5342501297353399,
          0.5364556305137519,
          0.537104307213285,
          0.5444992215879606,
          0.5459263103269332,
          0.5464452516865594,
          0.5477426050856252,
          0.5483912817851583,
          0.5546185781006746,
          0.5634405812143227,
          0.5651271406331084,
          0.5662947586922678,
          0.5806953814218994,
          0.5853658536585366
         ],
         "xaxis": "x",
         "y": [
          "$|\\beta|_{mean}$",
          "$PE\\alpha_{mean}$",
          "$CNV_{std}$",
          "$P1_{std}$",
          "$MSF_{mean}$",
          "$\\beta_{mean}$",
          "$SE_{mean}$",
          "$|\\alpha|_{mean}$",
          "$CNV_{mean}$",
          "$wSMI\\beta_{std}$",
          "$P3b_{std}$",
          "$\\delta_{std}$",
          "$K_{mean}$",
          "$PE\\theta_{mean}$",
          "$\\gamma_{mean}$",
          "$\\alpha_{std}$",
          "$SEF90_{mean}$",
          "$\\alpha_{mean}$",
          "$SEF95_{mean}$",
          "$|\\delta|_{std}$",
          "$wSMI\\theta_{std}$",
          "$|\\gamma|_{mean}$",
          "$P3a_{std}$",
          "$|\\alpha|_{std}$",
          "$\\beta_{std}$",
          "$\\delta_{mean}$",
          "$|\\delta|_{mean}$",
          "$wSMI\\gamma_{mean}$",
          "$|\\beta|_{std}$",
          "$PE\\theta_{std}$",
          "$PE\\gamma_{mean}$",
          "$PE\\beta_{mean}$",
          "$SEF95_{std}$",
          "$PE\\alpha_{std}$",
          "$P3a_{mean}$",
          "$\\theta_{std}$",
          "$\\theta_{mean}$",
          "$wSMI\\beta_{mean}$",
          "$|\\gamma|_{std}$",
          "$SEF90_{std}$",
          "$MSF_{std}$",
          "$wSMI\\alpha_{std}$",
          "$wSMI\\theta_{mean}$",
          "$wSMI\\alpha_{mean}$",
          "$PE\\beta_{std}$",
          "$\\gamma_{std}$",
          "$wSMI\\gamma_{std}$",
          "$P1_{mean}$",
          "$SE_{std}$",
          "$PE\\gamma_{std}$",
          "$K_{std}$",
          "$P3b_{mean}$"
         ],
         "yaxis": "y"
        },
        {
         "hovertemplate": "Statistical Significance=p < 0.05 uncorrected<br>TUT>OT                      TUT<OT=%{x}<br>=%{y}<extra></extra>",
         "legendgroup": "p < 0.05 uncorrected",
         "marker": {
          "color": "#DE237B",
          "size": 13,
          "symbol": "circle"
         },
         "mode": "markers",
         "name": "p < 0.05 uncorrected",
         "orientation": "h",
         "showlegend": true,
         "type": "scatter",
         "x": [
          0.5996367410482616,
          0.6117021276595744
         ],
         "xaxis": "x",
         "y": [
          "$|\\theta|_{std}$",
          "$|\\theta|_{mean}$"
         ],
         "yaxis": "y"
        }
       ],
       "layout": {
        "font": {
         "color": "black",
         "family": "Times new roman",
         "size": 20
        },
        "height": 1300,
        "legend": {
         "title": {
          "text": "Statistical Significance"
         },
         "tracegroupgap": 0
        },
        "margin": {
         "t": 60
        },
        "shapes": [
         {
          "line": {
           "color": "grey",
           "dash": "dash",
           "width": 3
          },
          "type": "line",
          "x0": 0.5,
          "x1": 0.5,
          "xref": "x",
          "y0": 0,
          "y1": 1,
          "yref": "y domain"
         }
        ],
        "showlegend": true,
        "template": {
         "data": {
          "bar": [
           {
            "error_x": {
             "color": "#2a3f5f"
            },
            "error_y": {
             "color": "#2a3f5f"
            },
            "marker": {
             "line": {
              "color": "white",
              "width": 0.5
             },
             "pattern": {
              "fillmode": "overlay",
              "size": 10,
              "solidity": 0.2
             }
            },
            "type": "bar"
           }
          ],
          "barpolar": [
           {
            "marker": {
             "line": {
              "color": "white",
              "width": 0.5
             },
             "pattern": {
              "fillmode": "overlay",
              "size": 10,
              "solidity": 0.2
             }
            },
            "type": "barpolar"
           }
          ],
          "carpet": [
           {
            "aaxis": {
             "endlinecolor": "#2a3f5f",
             "gridcolor": "#C8D4E3",
             "linecolor": "#C8D4E3",
             "minorgridcolor": "#C8D4E3",
             "startlinecolor": "#2a3f5f"
            },
            "baxis": {
             "endlinecolor": "#2a3f5f",
             "gridcolor": "#C8D4E3",
             "linecolor": "#C8D4E3",
             "minorgridcolor": "#C8D4E3",
             "startlinecolor": "#2a3f5f"
            },
            "type": "carpet"
           }
          ],
          "choropleth": [
           {
            "colorbar": {
             "outlinewidth": 0,
             "ticks": ""
            },
            "type": "choropleth"
           }
          ],
          "contour": [
           {
            "colorbar": {
             "outlinewidth": 0,
             "ticks": ""
            },
            "colorscale": [
             [
              0,
              "#0d0887"
             ],
             [
              0.1111111111111111,
              "#46039f"
             ],
             [
              0.2222222222222222,
              "#7201a8"
             ],
             [
              0.3333333333333333,
              "#9c179e"
             ],
             [
              0.4444444444444444,
              "#bd3786"
             ],
             [
              0.5555555555555556,
              "#d8576b"
             ],
             [
              0.6666666666666666,
              "#ed7953"
             ],
             [
              0.7777777777777778,
              "#fb9f3a"
             ],
             [
              0.8888888888888888,
              "#fdca26"
             ],
             [
              1,
              "#f0f921"
             ]
            ],
            "type": "contour"
           }
          ],
          "contourcarpet": [
           {
            "colorbar": {
             "outlinewidth": 0,
             "ticks": ""
            },
            "type": "contourcarpet"
           }
          ],
          "heatmap": [
           {
            "colorbar": {
             "outlinewidth": 0,
             "ticks": ""
            },
            "colorscale": [
             [
              0,
              "#0d0887"
             ],
             [
              0.1111111111111111,
              "#46039f"
             ],
             [
              0.2222222222222222,
              "#7201a8"
             ],
             [
              0.3333333333333333,
              "#9c179e"
             ],
             [
              0.4444444444444444,
              "#bd3786"
             ],
             [
              0.5555555555555556,
              "#d8576b"
             ],
             [
              0.6666666666666666,
              "#ed7953"
             ],
             [
              0.7777777777777778,
              "#fb9f3a"
             ],
             [
              0.8888888888888888,
              "#fdca26"
             ],
             [
              1,
              "#f0f921"
             ]
            ],
            "type": "heatmap"
           }
          ],
          "heatmapgl": [
           {
            "colorbar": {
             "outlinewidth": 0,
             "ticks": ""
            },
            "colorscale": [
             [
              0,
              "#0d0887"
             ],
             [
              0.1111111111111111,
              "#46039f"
             ],
             [
              0.2222222222222222,
              "#7201a8"
             ],
             [
              0.3333333333333333,
              "#9c179e"
             ],
             [
              0.4444444444444444,
              "#bd3786"
             ],
             [
              0.5555555555555556,
              "#d8576b"
             ],
             [
              0.6666666666666666,
              "#ed7953"
             ],
             [
              0.7777777777777778,
              "#fb9f3a"
             ],
             [
              0.8888888888888888,
              "#fdca26"
             ],
             [
              1,
              "#f0f921"
             ]
            ],
            "type": "heatmapgl"
           }
          ],
          "histogram": [
           {
            "marker": {
             "pattern": {
              "fillmode": "overlay",
              "size": 10,
              "solidity": 0.2
             }
            },
            "type": "histogram"
           }
          ],
          "histogram2d": [
           {
            "colorbar": {
             "outlinewidth": 0,
             "ticks": ""
            },
            "colorscale": [
             [
              0,
              "#0d0887"
             ],
             [
              0.1111111111111111,
              "#46039f"
             ],
             [
              0.2222222222222222,
              "#7201a8"
             ],
             [
              0.3333333333333333,
              "#9c179e"
             ],
             [
              0.4444444444444444,
              "#bd3786"
             ],
             [
              0.5555555555555556,
              "#d8576b"
             ],
             [
              0.6666666666666666,
              "#ed7953"
             ],
             [
              0.7777777777777778,
              "#fb9f3a"
             ],
             [
              0.8888888888888888,
              "#fdca26"
             ],
             [
              1,
              "#f0f921"
             ]
            ],
            "type": "histogram2d"
           }
          ],
          "histogram2dcontour": [
           {
            "colorbar": {
             "outlinewidth": 0,
             "ticks": ""
            },
            "colorscale": [
             [
              0,
              "#0d0887"
             ],
             [
              0.1111111111111111,
              "#46039f"
             ],
             [
              0.2222222222222222,
              "#7201a8"
             ],
             [
              0.3333333333333333,
              "#9c179e"
             ],
             [
              0.4444444444444444,
              "#bd3786"
             ],
             [
              0.5555555555555556,
              "#d8576b"
             ],
             [
              0.6666666666666666,
              "#ed7953"
             ],
             [
              0.7777777777777778,
              "#fb9f3a"
             ],
             [
              0.8888888888888888,
              "#fdca26"
             ],
             [
              1,
              "#f0f921"
             ]
            ],
            "type": "histogram2dcontour"
           }
          ],
          "mesh3d": [
           {
            "colorbar": {
             "outlinewidth": 0,
             "ticks": ""
            },
            "type": "mesh3d"
           }
          ],
          "parcoords": [
           {
            "line": {
             "colorbar": {
              "outlinewidth": 0,
              "ticks": ""
             }
            },
            "type": "parcoords"
           }
          ],
          "pie": [
           {
            "automargin": true,
            "type": "pie"
           }
          ],
          "scatter": [
           {
            "marker": {
             "colorbar": {
              "outlinewidth": 0,
              "ticks": ""
             }
            },
            "type": "scatter"
           }
          ],
          "scatter3d": [
           {
            "line": {
             "colorbar": {
              "outlinewidth": 0,
              "ticks": ""
             }
            },
            "marker": {
             "colorbar": {
              "outlinewidth": 0,
              "ticks": ""
             }
            },
            "type": "scatter3d"
           }
          ],
          "scattercarpet": [
           {
            "marker": {
             "colorbar": {
              "outlinewidth": 0,
              "ticks": ""
             }
            },
            "type": "scattercarpet"
           }
          ],
          "scattergeo": [
           {
            "marker": {
             "colorbar": {
              "outlinewidth": 0,
              "ticks": ""
             }
            },
            "type": "scattergeo"
           }
          ],
          "scattergl": [
           {
            "marker": {
             "colorbar": {
              "outlinewidth": 0,
              "ticks": ""
             }
            },
            "type": "scattergl"
           }
          ],
          "scattermapbox": [
           {
            "marker": {
             "colorbar": {
              "outlinewidth": 0,
              "ticks": ""
             }
            },
            "type": "scattermapbox"
           }
          ],
          "scatterpolar": [
           {
            "marker": {
             "colorbar": {
              "outlinewidth": 0,
              "ticks": ""
             }
            },
            "type": "scatterpolar"
           }
          ],
          "scatterpolargl": [
           {
            "marker": {
             "colorbar": {
              "outlinewidth": 0,
              "ticks": ""
             }
            },
            "type": "scatterpolargl"
           }
          ],
          "scatterternary": [
           {
            "marker": {
             "colorbar": {
              "outlinewidth": 0,
              "ticks": ""
             }
            },
            "type": "scatterternary"
           }
          ],
          "surface": [
           {
            "colorbar": {
             "outlinewidth": 0,
             "ticks": ""
            },
            "colorscale": [
             [
              0,
              "#0d0887"
             ],
             [
              0.1111111111111111,
              "#46039f"
             ],
             [
              0.2222222222222222,
              "#7201a8"
             ],
             [
              0.3333333333333333,
              "#9c179e"
             ],
             [
              0.4444444444444444,
              "#bd3786"
             ],
             [
              0.5555555555555556,
              "#d8576b"
             ],
             [
              0.6666666666666666,
              "#ed7953"
             ],
             [
              0.7777777777777778,
              "#fb9f3a"
             ],
             [
              0.8888888888888888,
              "#fdca26"
             ],
             [
              1,
              "#f0f921"
             ]
            ],
            "type": "surface"
           }
          ],
          "table": [
           {
            "cells": {
             "fill": {
              "color": "#EBF0F8"
             },
             "line": {
              "color": "white"
             }
            },
            "header": {
             "fill": {
              "color": "#C8D4E3"
             },
             "line": {
              "color": "white"
             }
            },
            "type": "table"
           }
          ]
         },
         "layout": {
          "annotationdefaults": {
           "arrowcolor": "#2a3f5f",
           "arrowhead": 0,
           "arrowwidth": 1
          },
          "autotypenumbers": "strict",
          "coloraxis": {
           "colorbar": {
            "outlinewidth": 0,
            "ticks": ""
           }
          },
          "colorscale": {
           "diverging": [
            [
             0,
             "#8e0152"
            ],
            [
             0.1,
             "#c51b7d"
            ],
            [
             0.2,
             "#de77ae"
            ],
            [
             0.3,
             "#f1b6da"
            ],
            [
             0.4,
             "#fde0ef"
            ],
            [
             0.5,
             "#f7f7f7"
            ],
            [
             0.6,
             "#e6f5d0"
            ],
            [
             0.7,
             "#b8e186"
            ],
            [
             0.8,
             "#7fbc41"
            ],
            [
             0.9,
             "#4d9221"
            ],
            [
             1,
             "#276419"
            ]
           ],
           "sequential": [
            [
             0,
             "#0d0887"
            ],
            [
             0.1111111111111111,
             "#46039f"
            ],
            [
             0.2222222222222222,
             "#7201a8"
            ],
            [
             0.3333333333333333,
             "#9c179e"
            ],
            [
             0.4444444444444444,
             "#bd3786"
            ],
            [
             0.5555555555555556,
             "#d8576b"
            ],
            [
             0.6666666666666666,
             "#ed7953"
            ],
            [
             0.7777777777777778,
             "#fb9f3a"
            ],
            [
             0.8888888888888888,
             "#fdca26"
            ],
            [
             1,
             "#f0f921"
            ]
           ],
           "sequentialminus": [
            [
             0,
             "#0d0887"
            ],
            [
             0.1111111111111111,
             "#46039f"
            ],
            [
             0.2222222222222222,
             "#7201a8"
            ],
            [
             0.3333333333333333,
             "#9c179e"
            ],
            [
             0.4444444444444444,
             "#bd3786"
            ],
            [
             0.5555555555555556,
             "#d8576b"
            ],
            [
             0.6666666666666666,
             "#ed7953"
            ],
            [
             0.7777777777777778,
             "#fb9f3a"
            ],
            [
             0.8888888888888888,
             "#fdca26"
            ],
            [
             1,
             "#f0f921"
            ]
           ]
          },
          "colorway": [
           "#636efa",
           "#EF553B",
           "#00cc96",
           "#ab63fa",
           "#FFA15A",
           "#19d3f3",
           "#FF6692",
           "#B6E880",
           "#FF97FF",
           "#FECB52"
          ],
          "font": {
           "color": "#2a3f5f"
          },
          "geo": {
           "bgcolor": "white",
           "lakecolor": "white",
           "landcolor": "white",
           "showlakes": true,
           "showland": true,
           "subunitcolor": "#C8D4E3"
          },
          "hoverlabel": {
           "align": "left"
          },
          "hovermode": "closest",
          "mapbox": {
           "style": "light"
          },
          "paper_bgcolor": "white",
          "plot_bgcolor": "white",
          "polar": {
           "angularaxis": {
            "gridcolor": "#EBF0F8",
            "linecolor": "#EBF0F8",
            "ticks": ""
           },
           "bgcolor": "white",
           "radialaxis": {
            "gridcolor": "#EBF0F8",
            "linecolor": "#EBF0F8",
            "ticks": ""
           }
          },
          "scene": {
           "xaxis": {
            "backgroundcolor": "white",
            "gridcolor": "#DFE8F3",
            "gridwidth": 2,
            "linecolor": "#EBF0F8",
            "showbackground": true,
            "ticks": "",
            "zerolinecolor": "#EBF0F8"
           },
           "yaxis": {
            "backgroundcolor": "white",
            "gridcolor": "#DFE8F3",
            "gridwidth": 2,
            "linecolor": "#EBF0F8",
            "showbackground": true,
            "ticks": "",
            "zerolinecolor": "#EBF0F8"
           },
           "zaxis": {
            "backgroundcolor": "white",
            "gridcolor": "#DFE8F3",
            "gridwidth": 2,
            "linecolor": "#EBF0F8",
            "showbackground": true,
            "ticks": "",
            "zerolinecolor": "#EBF0F8"
           }
          },
          "shapedefaults": {
           "line": {
            "color": "#2a3f5f"
           }
          },
          "ternary": {
           "aaxis": {
            "gridcolor": "#DFE8F3",
            "linecolor": "#A2B1C6",
            "ticks": ""
           },
           "baxis": {
            "gridcolor": "#DFE8F3",
            "linecolor": "#A2B1C6",
            "ticks": ""
           },
           "bgcolor": "white",
           "caxis": {
            "gridcolor": "#DFE8F3",
            "linecolor": "#A2B1C6",
            "ticks": ""
           }
          },
          "title": {
           "x": 0.05
          },
          "xaxis": {
           "automargin": true,
           "gridcolor": "#EBF0F8",
           "linecolor": "#EBF0F8",
           "ticks": "",
           "title": {
            "standoff": 15
           },
           "zerolinecolor": "#EBF0F8",
           "zerolinewidth": 2
          },
          "yaxis": {
           "automargin": true,
           "gridcolor": "#EBF0F8",
           "linecolor": "#EBF0F8",
           "ticks": "",
           "title": {
            "standoff": 15
           },
           "zerolinecolor": "#EBF0F8",
           "zerolinewidth": 2
          }
         }
        },
        "width": 850,
        "xaxis": {
         "anchor": "y",
         "domain": [
          0,
          1
         ],
         "range": [
          0.37,
          0.63
         ],
         "tickfont": {
          "size": 20
         },
         "title": {
          "text": "TUT>OT                      TUT<OT"
         },
         "visible": true
        },
        "yaxis": {
         "anchor": "x",
         "automargin": true,
         "autorange": false,
         "domain": [
          0,
          1
         ],
         "dtick": 1,
         "range": [
          -1,
          54
         ],
         "tickfont": {
          "size": 20
         },
         "title": {
          "text": ""
         }
        }
       }
      },
      "text/html": [
       "<div>                            <div id=\"2215cc70-c83e-4fb2-9fdd-246ccfc056e2\" class=\"plotly-graph-div\" style=\"height:1300px; width:850px;\"></div>            <script type=\"text/javascript\">                require([\"plotly\"], function(Plotly) {                    window.PLOTLYENV=window.PLOTLYENV || {};                                    if (document.getElementById(\"2215cc70-c83e-4fb2-9fdd-246ccfc056e2\")) {                    Plotly.newPlot(                        \"2215cc70-c83e-4fb2-9fdd-246ccfc056e2\",                        [{\"hovertemplate\":\"Statistical Significance=p > 0.05<br>TUT>OT                      TUT<OT=%{x}<br>=%{y}<extra></extra>\",\"legendgroup\":\"p > 0.05\",\"marker\":{\"color\":\"#DE237B\",\"symbol\":\"circle-open\",\"size\":13},\"mode\":\"markers\",\"name\":\"p > 0.05\",\"orientation\":\"h\",\"showlegend\":true,\"x\":[0.4150233523611832,0.4289050337311884,0.4300726517903477,0.4302023871302542,0.4343539180072651,0.4423975090814738,0.4449922158796056,0.4521276595744681,0.4574468085106383,0.4577062791904515,0.4631551634665282,0.4635443694862481,0.4645173845355475,0.4661390762843799,0.4671769590036325,0.4723663725998962,0.4731447846393358,0.4737934613388687,0.4867669953295278,0.4909185262065386,0.4910482615464452,0.4933834976647638,0.4937727036844836,0.4998702646600934,0.5037623248572911,0.5085625324338349,0.5099896211728074,0.5107680332122471,0.5127140633108459,0.5155682407887909,0.516476388168137,0.5179034769071095,0.5219252724442138,0.5220550077841204,0.5276336274001039,0.5306175402179554,0.5313959522573949,0.5332122470160872,0.5342501297353399,0.5364556305137519,0.537104307213285,0.5444992215879606,0.5459263103269332,0.5464452516865594,0.5477426050856252,0.5483912817851583,0.5546185781006746,0.5634405812143227,0.5651271406331084,0.5662947586922678,0.5806953814218994,0.5853658536585366],\"xaxis\":\"x\",\"y\":[\"$|\\\\beta|_{mean}$\",\"$PE\\\\alpha_{mean}$\",\"$CNV_{std}$\",\"$P1_{std}$\",\"$MSF_{mean}$\",\"$\\\\beta_{mean}$\",\"$SE_{mean}$\",\"$|\\\\alpha|_{mean}$\",\"$CNV_{mean}$\",\"$wSMI\\\\beta_{std}$\",\"$P3b_{std}$\",\"$\\\\delta_{std}$\",\"$K_{mean}$\",\"$PE\\\\theta_{mean}$\",\"$\\\\gamma_{mean}$\",\"$\\\\alpha_{std}$\",\"$SEF90_{mean}$\",\"$\\\\alpha_{mean}$\",\"$SEF95_{mean}$\",\"$|\\\\delta|_{std}$\",\"$wSMI\\\\theta_{std}$\",\"$|\\\\gamma|_{mean}$\",\"$P3a_{std}$\",\"$|\\\\alpha|_{std}$\",\"$\\\\beta_{std}$\",\"$\\\\delta_{mean}$\",\"$|\\\\delta|_{mean}$\",\"$wSMI\\\\gamma_{mean}$\",\"$|\\\\beta|_{std}$\",\"$PE\\\\theta_{std}$\",\"$PE\\\\gamma_{mean}$\",\"$PE\\\\beta_{mean}$\",\"$SEF95_{std}$\",\"$PE\\\\alpha_{std}$\",\"$P3a_{mean}$\",\"$\\\\theta_{std}$\",\"$\\\\theta_{mean}$\",\"$wSMI\\\\beta_{mean}$\",\"$|\\\\gamma|_{std}$\",\"$SEF90_{std}$\",\"$MSF_{std}$\",\"$wSMI\\\\alpha_{std}$\",\"$wSMI\\\\theta_{mean}$\",\"$wSMI\\\\alpha_{mean}$\",\"$PE\\\\beta_{std}$\",\"$\\\\gamma_{std}$\",\"$wSMI\\\\gamma_{std}$\",\"$P1_{mean}$\",\"$SE_{std}$\",\"$PE\\\\gamma_{std}$\",\"$K_{std}$\",\"$P3b_{mean}$\"],\"yaxis\":\"y\",\"type\":\"scatter\"},{\"hovertemplate\":\"Statistical Significance=p < 0.05 uncorrected<br>TUT>OT                      TUT<OT=%{x}<br>=%{y}<extra></extra>\",\"legendgroup\":\"p < 0.05 uncorrected\",\"marker\":{\"color\":\"#DE237B\",\"symbol\":\"circle\",\"size\":13},\"mode\":\"markers\",\"name\":\"p < 0.05 uncorrected\",\"orientation\":\"h\",\"showlegend\":true,\"x\":[0.5996367410482616,0.6117021276595744],\"xaxis\":\"x\",\"y\":[\"$|\\\\theta|_{std}$\",\"$|\\\\theta|_{mean}$\"],\"yaxis\":\"y\",\"type\":\"scatter\"}],                        {\"template\":{\"data\":{\"barpolar\":[{\"marker\":{\"line\":{\"color\":\"white\",\"width\":0.5},\"pattern\":{\"fillmode\":\"overlay\",\"size\":10,\"solidity\":0.2}},\"type\":\"barpolar\"}],\"bar\":[{\"error_x\":{\"color\":\"#2a3f5f\"},\"error_y\":{\"color\":\"#2a3f5f\"},\"marker\":{\"line\":{\"color\":\"white\",\"width\":0.5},\"pattern\":{\"fillmode\":\"overlay\",\"size\":10,\"solidity\":0.2}},\"type\":\"bar\"}],\"carpet\":[{\"aaxis\":{\"endlinecolor\":\"#2a3f5f\",\"gridcolor\":\"#C8D4E3\",\"linecolor\":\"#C8D4E3\",\"minorgridcolor\":\"#C8D4E3\",\"startlinecolor\":\"#2a3f5f\"},\"baxis\":{\"endlinecolor\":\"#2a3f5f\",\"gridcolor\":\"#C8D4E3\",\"linecolor\":\"#C8D4E3\",\"minorgridcolor\":\"#C8D4E3\",\"startlinecolor\":\"#2a3f5f\"},\"type\":\"carpet\"}],\"choropleth\":[{\"colorbar\":{\"outlinewidth\":0,\"ticks\":\"\"},\"type\":\"choropleth\"}],\"contourcarpet\":[{\"colorbar\":{\"outlinewidth\":0,\"ticks\":\"\"},\"type\":\"contourcarpet\"}],\"contour\":[{\"colorbar\":{\"outlinewidth\":0,\"ticks\":\"\"},\"colorscale\":[[0.0,\"#0d0887\"],[0.1111111111111111,\"#46039f\"],[0.2222222222222222,\"#7201a8\"],[0.3333333333333333,\"#9c179e\"],[0.4444444444444444,\"#bd3786\"],[0.5555555555555556,\"#d8576b\"],[0.6666666666666666,\"#ed7953\"],[0.7777777777777778,\"#fb9f3a\"],[0.8888888888888888,\"#fdca26\"],[1.0,\"#f0f921\"]],\"type\":\"contour\"}],\"heatmapgl\":[{\"colorbar\":{\"outlinewidth\":0,\"ticks\":\"\"},\"colorscale\":[[0.0,\"#0d0887\"],[0.1111111111111111,\"#46039f\"],[0.2222222222222222,\"#7201a8\"],[0.3333333333333333,\"#9c179e\"],[0.4444444444444444,\"#bd3786\"],[0.5555555555555556,\"#d8576b\"],[0.6666666666666666,\"#ed7953\"],[0.7777777777777778,\"#fb9f3a\"],[0.8888888888888888,\"#fdca26\"],[1.0,\"#f0f921\"]],\"type\":\"heatmapgl\"}],\"heatmap\":[{\"colorbar\":{\"outlinewidth\":0,\"ticks\":\"\"},\"colorscale\":[[0.0,\"#0d0887\"],[0.1111111111111111,\"#46039f\"],[0.2222222222222222,\"#7201a8\"],[0.3333333333333333,\"#9c179e\"],[0.4444444444444444,\"#bd3786\"],[0.5555555555555556,\"#d8576b\"],[0.6666666666666666,\"#ed7953\"],[0.7777777777777778,\"#fb9f3a\"],[0.8888888888888888,\"#fdca26\"],[1.0,\"#f0f921\"]],\"type\":\"heatmap\"}],\"histogram2dcontour\":[{\"colorbar\":{\"outlinewidth\":0,\"ticks\":\"\"},\"colorscale\":[[0.0,\"#0d0887\"],[0.1111111111111111,\"#46039f\"],[0.2222222222222222,\"#7201a8\"],[0.3333333333333333,\"#9c179e\"],[0.4444444444444444,\"#bd3786\"],[0.5555555555555556,\"#d8576b\"],[0.6666666666666666,\"#ed7953\"],[0.7777777777777778,\"#fb9f3a\"],[0.8888888888888888,\"#fdca26\"],[1.0,\"#f0f921\"]],\"type\":\"histogram2dcontour\"}],\"histogram2d\":[{\"colorbar\":{\"outlinewidth\":0,\"ticks\":\"\"},\"colorscale\":[[0.0,\"#0d0887\"],[0.1111111111111111,\"#46039f\"],[0.2222222222222222,\"#7201a8\"],[0.3333333333333333,\"#9c179e\"],[0.4444444444444444,\"#bd3786\"],[0.5555555555555556,\"#d8576b\"],[0.6666666666666666,\"#ed7953\"],[0.7777777777777778,\"#fb9f3a\"],[0.8888888888888888,\"#fdca26\"],[1.0,\"#f0f921\"]],\"type\":\"histogram2d\"}],\"histogram\":[{\"marker\":{\"pattern\":{\"fillmode\":\"overlay\",\"size\":10,\"solidity\":0.2}},\"type\":\"histogram\"}],\"mesh3d\":[{\"colorbar\":{\"outlinewidth\":0,\"ticks\":\"\"},\"type\":\"mesh3d\"}],\"parcoords\":[{\"line\":{\"colorbar\":{\"outlinewidth\":0,\"ticks\":\"\"}},\"type\":\"parcoords\"}],\"pie\":[{\"automargin\":true,\"type\":\"pie\"}],\"scatter3d\":[{\"line\":{\"colorbar\":{\"outlinewidth\":0,\"ticks\":\"\"}},\"marker\":{\"colorbar\":{\"outlinewidth\":0,\"ticks\":\"\"}},\"type\":\"scatter3d\"}],\"scattercarpet\":[{\"marker\":{\"colorbar\":{\"outlinewidth\":0,\"ticks\":\"\"}},\"type\":\"scattercarpet\"}],\"scattergeo\":[{\"marker\":{\"colorbar\":{\"outlinewidth\":0,\"ticks\":\"\"}},\"type\":\"scattergeo\"}],\"scattergl\":[{\"marker\":{\"colorbar\":{\"outlinewidth\":0,\"ticks\":\"\"}},\"type\":\"scattergl\"}],\"scattermapbox\":[{\"marker\":{\"colorbar\":{\"outlinewidth\":0,\"ticks\":\"\"}},\"type\":\"scattermapbox\"}],\"scatterpolargl\":[{\"marker\":{\"colorbar\":{\"outlinewidth\":0,\"ticks\":\"\"}},\"type\":\"scatterpolargl\"}],\"scatterpolar\":[{\"marker\":{\"colorbar\":{\"outlinewidth\":0,\"ticks\":\"\"}},\"type\":\"scatterpolar\"}],\"scatter\":[{\"marker\":{\"colorbar\":{\"outlinewidth\":0,\"ticks\":\"\"}},\"type\":\"scatter\"}],\"scatterternary\":[{\"marker\":{\"colorbar\":{\"outlinewidth\":0,\"ticks\":\"\"}},\"type\":\"scatterternary\"}],\"surface\":[{\"colorbar\":{\"outlinewidth\":0,\"ticks\":\"\"},\"colorscale\":[[0.0,\"#0d0887\"],[0.1111111111111111,\"#46039f\"],[0.2222222222222222,\"#7201a8\"],[0.3333333333333333,\"#9c179e\"],[0.4444444444444444,\"#bd3786\"],[0.5555555555555556,\"#d8576b\"],[0.6666666666666666,\"#ed7953\"],[0.7777777777777778,\"#fb9f3a\"],[0.8888888888888888,\"#fdca26\"],[1.0,\"#f0f921\"]],\"type\":\"surface\"}],\"table\":[{\"cells\":{\"fill\":{\"color\":\"#EBF0F8\"},\"line\":{\"color\":\"white\"}},\"header\":{\"fill\":{\"color\":\"#C8D4E3\"},\"line\":{\"color\":\"white\"}},\"type\":\"table\"}]},\"layout\":{\"annotationdefaults\":{\"arrowcolor\":\"#2a3f5f\",\"arrowhead\":0,\"arrowwidth\":1},\"autotypenumbers\":\"strict\",\"coloraxis\":{\"colorbar\":{\"outlinewidth\":0,\"ticks\":\"\"}},\"colorscale\":{\"diverging\":[[0,\"#8e0152\"],[0.1,\"#c51b7d\"],[0.2,\"#de77ae\"],[0.3,\"#f1b6da\"],[0.4,\"#fde0ef\"],[0.5,\"#f7f7f7\"],[0.6,\"#e6f5d0\"],[0.7,\"#b8e186\"],[0.8,\"#7fbc41\"],[0.9,\"#4d9221\"],[1,\"#276419\"]],\"sequential\":[[0.0,\"#0d0887\"],[0.1111111111111111,\"#46039f\"],[0.2222222222222222,\"#7201a8\"],[0.3333333333333333,\"#9c179e\"],[0.4444444444444444,\"#bd3786\"],[0.5555555555555556,\"#d8576b\"],[0.6666666666666666,\"#ed7953\"],[0.7777777777777778,\"#fb9f3a\"],[0.8888888888888888,\"#fdca26\"],[1.0,\"#f0f921\"]],\"sequentialminus\":[[0.0,\"#0d0887\"],[0.1111111111111111,\"#46039f\"],[0.2222222222222222,\"#7201a8\"],[0.3333333333333333,\"#9c179e\"],[0.4444444444444444,\"#bd3786\"],[0.5555555555555556,\"#d8576b\"],[0.6666666666666666,\"#ed7953\"],[0.7777777777777778,\"#fb9f3a\"],[0.8888888888888888,\"#fdca26\"],[1.0,\"#f0f921\"]]},\"colorway\":[\"#636efa\",\"#EF553B\",\"#00cc96\",\"#ab63fa\",\"#FFA15A\",\"#19d3f3\",\"#FF6692\",\"#B6E880\",\"#FF97FF\",\"#FECB52\"],\"font\":{\"color\":\"#2a3f5f\"},\"geo\":{\"bgcolor\":\"white\",\"lakecolor\":\"white\",\"landcolor\":\"white\",\"showlakes\":true,\"showland\":true,\"subunitcolor\":\"#C8D4E3\"},\"hoverlabel\":{\"align\":\"left\"},\"hovermode\":\"closest\",\"mapbox\":{\"style\":\"light\"},\"paper_bgcolor\":\"white\",\"plot_bgcolor\":\"white\",\"polar\":{\"angularaxis\":{\"gridcolor\":\"#EBF0F8\",\"linecolor\":\"#EBF0F8\",\"ticks\":\"\"},\"bgcolor\":\"white\",\"radialaxis\":{\"gridcolor\":\"#EBF0F8\",\"linecolor\":\"#EBF0F8\",\"ticks\":\"\"}},\"scene\":{\"xaxis\":{\"backgroundcolor\":\"white\",\"gridcolor\":\"#DFE8F3\",\"gridwidth\":2,\"linecolor\":\"#EBF0F8\",\"showbackground\":true,\"ticks\":\"\",\"zerolinecolor\":\"#EBF0F8\"},\"yaxis\":{\"backgroundcolor\":\"white\",\"gridcolor\":\"#DFE8F3\",\"gridwidth\":2,\"linecolor\":\"#EBF0F8\",\"showbackground\":true,\"ticks\":\"\",\"zerolinecolor\":\"#EBF0F8\"},\"zaxis\":{\"backgroundcolor\":\"white\",\"gridcolor\":\"#DFE8F3\",\"gridwidth\":2,\"linecolor\":\"#EBF0F8\",\"showbackground\":true,\"ticks\":\"\",\"zerolinecolor\":\"#EBF0F8\"}},\"shapedefaults\":{\"line\":{\"color\":\"#2a3f5f\"}},\"ternary\":{\"aaxis\":{\"gridcolor\":\"#DFE8F3\",\"linecolor\":\"#A2B1C6\",\"ticks\":\"\"},\"baxis\":{\"gridcolor\":\"#DFE8F3\",\"linecolor\":\"#A2B1C6\",\"ticks\":\"\"},\"bgcolor\":\"white\",\"caxis\":{\"gridcolor\":\"#DFE8F3\",\"linecolor\":\"#A2B1C6\",\"ticks\":\"\"}},\"title\":{\"x\":0.05},\"xaxis\":{\"automargin\":true,\"gridcolor\":\"#EBF0F8\",\"linecolor\":\"#EBF0F8\",\"ticks\":\"\",\"title\":{\"standoff\":15},\"zerolinecolor\":\"#EBF0F8\",\"zerolinewidth\":2},\"yaxis\":{\"automargin\":true,\"gridcolor\":\"#EBF0F8\",\"linecolor\":\"#EBF0F8\",\"ticks\":\"\",\"title\":{\"standoff\":15},\"zerolinecolor\":\"#EBF0F8\",\"zerolinewidth\":2}}},\"xaxis\":{\"anchor\":\"y\",\"domain\":[0.0,1.0],\"title\":{\"text\":\"TUT>OT                      TUT<OT\"},\"tickfont\":{\"size\":20},\"visible\":true,\"range\":[0.37,0.63]},\"yaxis\":{\"anchor\":\"x\",\"domain\":[0.0,1.0],\"title\":{\"text\":\"\"},\"tickfont\":{\"size\":20},\"autorange\":false,\"automargin\":true,\"range\":[-1,54],\"dtick\":1},\"legend\":{\"title\":{\"text\":\"Statistical Significance\"},\"tracegroupgap\":0},\"margin\":{\"t\":60},\"shapes\":[{\"line\":{\"color\":\"grey\",\"dash\":\"dash\",\"width\":3},\"type\":\"line\",\"x0\":0.5,\"x1\":0.5,\"xref\":\"x\",\"y0\":0,\"y1\":1,\"yref\":\"y domain\"}],\"font\":{\"family\":\"Times new roman\",\"size\":20,\"color\":\"black\"},\"width\":850,\"height\":1300,\"showlegend\":true},                        {\"responsive\": true}                    ).then(function(){\n",
       "                            \n",
       "var gd = document.getElementById('2215cc70-c83e-4fb2-9fdd-246ccfc056e2');\n",
       "var x = new MutationObserver(function (mutations, observer) {{\n",
       "        var display = window.getComputedStyle(gd).display;\n",
       "        if (!display || display === 'none') {{\n",
       "            console.log([gd, 'removed!']);\n",
       "            Plotly.purge(gd);\n",
       "            observer.disconnect();\n",
       "        }}\n",
       "}});\n",
       "\n",
       "// Listen for the removal of the full notebook cells\n",
       "var notebookContainer = gd.closest('#notebook-container');\n",
       "if (notebookContainer) {{\n",
       "    x.observe(notebookContainer, {childList: true});\n",
       "}}\n",
       "\n",
       "// Listen for the clearing of the current output cell\n",
       "var outputEl = gd.closest('.output');\n",
       "if (outputEl) {{\n",
       "    x.observe(outputEl, {childList: true});\n",
       "}}\n",
       "\n",
       "                        })                };                });            </script>        </div>"
      ]
     },
     "metadata": {},
     "output_type": "display_data"
    }
   ],
   "source": [
    "segment_mind_roc = pd.read_csv('Data/univariate_roc_mind_segment.csv')\n",
    "\n",
    "# segment_mind_roc = segment_mind_roc.sort_values(by = 'AUC', ascending = False).head(10).append(segment_mind_roc.sort_values(by = 'AUC', ascending = False).tail(10))\n",
    "\n",
    "fig = px.scatter(segment_mind_roc.sort_values(by = 'AUC'),x = 'AUC', y = 'markers', template = \"plotly_white\", symbol = 'significant', \n",
    "                 symbol_sequence = ['circle-open','circle','hexagram' ],\n",
    "#                  color = 'significant',\n",
    "                 color_discrete_sequence = [pink, green,orange, pink], \n",
    "                 \n",
    "                 category_orders = {'significant': ['p > 0.05','p < 0.05 uncorrected', 'p < 0.05 FDR corrected']},\n",
    "                 labels = {'AUC': 'TUT>OT                      TUT<OT', 'significant': 'Statistical Significance', 'markers':''}\n",
    "                )\n",
    "fig.add_vline(x=0.5, line_width=3, line_dash=\"dash\", line_color=\"grey\")\n",
    "fig.update_traces(marker=dict(size = 13))\n",
    "\n",
    "fig.update_layout(\n",
    "    width=850,\n",
    "    height=1300,\n",
    "#     autosize = True, \n",
    "    template = 'plotly_white',\n",
    "        font=dict(\n",
    "        family=\"Times new roman\",\n",
    "        size=20,\n",
    "        color=\"black\"\n",
    "    ),\n",
    "    xaxis = dict(\n",
    "            visible=True,\n",
    "            range = [0.37,0.63], \n",
    "            tickfont = {\"size\": 20},\n",
    "        ),\n",
    "    yaxis = dict(\n",
    "        tickfont = {\"size\": 20},\n",
    "        autorange = False,    \n",
    "        automargin = True,\n",
    "        range = [-1,len(segment_mind_roc)],\n",
    "        dtick = 1\n",
    "        ),\n",
    "    showlegend=True, \n",
    "\n",
    ")\n",
    "\n",
    "fig.show()\n",
    "# pio.write_json(fig, 'Figs/univariate_roc_mw_segment.plotly')\n",
    "fig.write_image('Figs/univariate_roc_mind_segment.png')\n",
    "fig.write_image(\"Figs//univariate_roc_mind_segment.pdf\")"
   ]
  },
  {
   "cell_type": "raw",
   "id": "687dec82-4b3f-4d04-af5e-6f5c140a73ab",
   "metadata": {},
   "source": [
    "AUC = pd.DataFrame()\n",
    "pvalues = {}\n",
    "for i in df_mind.drop('mind2', axis = 1).columns:\n",
    "    \n",
    "\n",
    "    AUC[i], pvalues[i] =  univariate_classifier(\n",
    "    data= df_mind, label = 'mind2', feature = i, model = 'forest', permutation=True, n_permutations = 1000\n",
    ")\n",
    "\n",
    "    \n",
    "sns.catplot(data = AUC, kind = 'box', orient = 'h')\n",
    "plt.axvline(x = 0.5, linestyle = 'dashed')\n",
    "plt.show()\n",
    "\n",
    "p_df =pd.DataFrame.from_dict(pvalues, orient = 'index', columns = ['p_value']).reset_index().rename(columns ={'index': 'markers'})\n",
    "svc_mind = (AUC.reset_index().melt(id_vars = ['index'], var_name = 'markers', value_name = 'AUC')\n",
    "            .drop('index', axis = 1)\n",
    "            .merge(p_df, on = 'markers', how = 'inner')\n",
    "            .assign(p_corrected = lambda df: multipletests(df.p_value, method = 'fdr_bh')[1],\n",
    "                    significant = lambda df: np.select([(df.p_value < 0.05) & (df.p_corrected < 0.05), (df.p_value < 0.05) & (df.p_corrected > 0.05),  \n",
    "                                                 (df.p_value > 0.05) & (df.p_corrected > 0.05)], ['p < 0.05 FDR corrected','p < 0.05 uncorrected', 'p > 0.05']))\n",
    "           )\n",
    "svc_mind.to_csv('Data/univariate_svc_mind_segment.csv')"
   ]
  },
  {
   "cell_type": "raw",
   "id": "beautiful-favorite",
   "metadata": {},
   "source": [
    "svc_mind = pd.read_csv('Data/univariate_svc_mind_segment.csv')\n",
    "\n",
    "fig = px.box(svc_mind, y=\"markers\", x=\"AUC\", color=\"significant\", template = \"plotly_white\", color_discrete_sequence = [green, orange])\n",
    "fig.add_vline(x=0.5, line_width=3, line_dash=\"dash\", line_color=\"grey\")\n",
    "\n",
    "fig.update_layout(\n",
    "    autosize=False,\n",
    "    width=800,\n",
    "    height=800,\n",
    "    yaxis = {\n",
    "            'showticklabels': True,\n",
    "            'tickmode': 'linear',\n",
    "        }\n",
    ")\n",
    "fig.show()\n",
    "pio.write_json(fig, 'Figs/univariate_svc_mind_segment.plotly')"
   ]
  },
  {
   "cell_type": "raw",
   "id": "incoming-directory",
   "metadata": {},
   "source": [
    "n_estimators = 2000\n",
    "AUC = pd.DataFrame()\n",
    "for i in df_mind.drop('mind2', axis = 1).columns:\n",
    "    \n",
    "    y, label = pd.factorize(df_mind['mind2'])\n",
    "    X = df_mind[i].astype('float32').values.reshape(-1,1)\n",
    "    \n",
    "    doc_forest = make_pipeline(\n",
    "        RobustScaler(),\n",
    "        ExtraTreesClassifier(\n",
    "            n_estimators=n_estimators, max_features=1, criterion='entropy',\n",
    "            max_depth=4, random_state=42, class_weight='balanced'))\n",
    "\n",
    "    cv = GroupShuffleSplit(n_splits=50, train_size=0.8, test_size=0.2,\n",
    "                           random_state=42)\n",
    "\n",
    "    aucs = cross_val_score(\n",
    "        X=X, y=y, estimator=doc_forest,\n",
    "        scoring='roc_auc', cv=cv, groups=np.arange(len(X)))\n",
    "\n",
    "    AUC[i] = aucs\n",
    "\n",
    "#     print(label)\n",
    "    print(f'AUC {i} = {np.mean(aucs)}')\n",
    "sns.catplot(data = AUC, kind = 'box', orient = 'h')\n",
    "plt.axvline(x = 0.5, linestyle = 'dashed')\n",
    "plt.show()"
   ]
  },
  {
   "cell_type": "markdown",
   "id": "opponent-whole",
   "metadata": {
    "toc-hr-collapsed": true
   },
   "source": [
    "## dMW Vs sMW\n",
    "This will be only performed in SC as they have more trials"
   ]
  },
  {
   "cell_type": "code",
   "execution_count": 12,
   "id": "violent-motel",
   "metadata": {},
   "outputs": [],
   "source": [
    "agg_dict = {k:['mean', 'std'] for k in markers }\n",
    "agg_dict.update({k:'first' for k in df_markers.drop(markers, axis=1).columns})\n",
    "\n",
    "df_mw = (\n",
    "    df_markers\n",
    "    .query(\"probe == 'SC'\")\n",
    "    .query(\"mind != 'on-task'\")\n",
    "    .groupby(['segment', 'participant'], as_index = False).agg(agg_dict)\n",
    ")\n",
    "\n",
    "# df_mw.columns = df_mw.columns.map(\"_\".join)\n",
    "\n",
    "# df_mw  = (df_mw\n",
    "#             .rename(columns = {'participant_first':'participant', 'probe_first':'probe', 'mind_first':'mind', 'segment_first':'segment'})\n",
    "#             .drop(['participant', 'probe', 'segment'], axis = 1) \n",
    "#            )\n",
    "\n",
    "\n",
    "#### Use latex command for nmaes###\n",
    "####it slow downs the computer, just for final figures.\n",
    "\n",
    "df_mw = correct_name_markers(df_mw)\n",
    "\n",
    "df_mw.columns = df_mw.columns.map(\"$_{\".join).map(lambda x: x + '}$').map(lambda x: x.replace('$$', ''))\n",
    "\n",
    "df_mw  = (df_mw\n",
    "            .rename(columns = {'participant$_{first}$':'participant', 'probe$_{first}$':'probe', 'mind$_{first}$':'mind', 'segment$_{first}$':'segment', 'mind$_{}$':'mind'})\n",
    "#             .query(\"mind != 'dMW'\") #if you want to test against just one of the mw   \n",
    "            .drop(['participant', 'probe',  'segment'], axis = 1)\n",
    "\n",
    "           )"
   ]
  },
  {
   "cell_type": "code",
   "execution_count": 13,
   "id": "broadband-forth",
   "metadata": {},
   "outputs": [
    {
     "name": "stdout",
     "output_type": "stream",
     "text": [
      "AUC $wSMI\\gamma_{mean}$ = 0.46493706293706294 MannwhitneyuResult(statistic=38257.0, pvalue=0.16113687488792117)\n",
      "AUC $wSMI\\gamma_{std}$ = 0.4743496503496504 MannwhitneyuResult(statistic=37584.0, pvalue=0.3053548263685433)\n",
      "AUC $wSMI\\beta_{mean}$ = 0.4983496503496503 MannwhitneyuResult(statistic=35868.0, pvalue=0.9476259510151257)\n",
      "AUC $wSMI\\beta_{std}$ = 0.4823356643356644 MannwhitneyuResult(statistic=37013.0, pvalue=0.48031232796606194)\n",
      "AUC $wSMI\\alpha_{mean}$ = 0.4939020979020979 MannwhitneyuResult(statistic=36186.0, pvalue=0.8076442914496428)\n",
      "AUC $wSMI\\alpha_{std}$ = 0.52 MannwhitneyuResult(statistic=34320.0, pvalue=0.4241967028392747)\n",
      "AUC $wSMI\\theta_{mean}$ = 0.5207132867132866 MannwhitneyuResult(statistic=34269.0, pvalue=0.40785562440254153)\n",
      "AUC $wSMI\\theta_{std}$ = 0.5153706293706294 MannwhitneyuResult(statistic=34651.0, pvalue=0.5391385750807288)\n",
      "AUC $PE\\gamma_{mean}$ = 0.44167832167832166 MannwhitneyuResult(statistic=39920.0, pvalue=0.019755577526908936)\n",
      "AUC $PE\\gamma_{std}$ = 0.5178321678321679 MannwhitneyuResult(statistic=34475.0, pvalue=0.47614969654940353)\n",
      "AUC $PE\\beta_{mean}$ = 0.43097902097902097 MannwhitneyuResult(statistic=40685.0, pvalue=0.005804403518839296)\n",
      "AUC $PE\\beta_{std}$ = 0.5073986013986014 MannwhitneyuResult(statistic=35221.0, pvalue=0.7676441894015158)\n",
      "AUC $PE\\alpha_{mean}$ = 0.5056643356643358 MannwhitneyuResult(statistic=35345.0, pvalue=0.8210959376047403)\n",
      "AUC $PE\\alpha_{std}$ = 0.49855944055944057 MannwhitneyuResult(statistic=35853.0, pvalue=0.9543041495796336)\n",
      "AUC $PE\\theta_{mean}$ = 0.6251468531468533 MannwhitneyuResult(statistic=26802.0, pvalue=5.670984868768802e-07)\n",
      "AUC $PE\\theta_{std}$ = 0.47531468531468535 MannwhitneyuResult(statistic=37515.0, pvalue=0.323915631957964)\n",
      "AUC $K_{mean}$ = 0.49604195804195805 MannwhitneyuResult(statistic=36033.0, pvalue=0.8745106164319382)\n",
      "AUC $K_{std}$ = 0.48258041958041964 MannwhitneyuResult(statistic=36995.5, pvalue=0.4864179654202968)\n",
      "AUC $SE_{mean}$ = 0.5129510489510489 MannwhitneyuResult(statistic=34824.0, pvalue=0.6048765788872017)\n",
      "AUC $SE_{std}$ = 0.5208111888111888 MannwhitneyuResult(statistic=34262.0, pvalue=0.40564238118162566)\n",
      "AUC $MSF_{mean}$ = 0.5432097902097902 MannwhitneyuResult(statistic=32660.5, pvalue=0.0841847407061906)\n",
      "AUC $MSF_{std}$ = 0.5310349650349651 MannwhitneyuResult(statistic=33531.0, pvalue=0.21488224648326504)\n",
      "AUC $SEF90_{mean}$ = 0.47887412587412587 MannwhitneyuResult(statistic=37260.5, pvalue=0.3985771209878116)\n",
      "AUC $SEF90_{std}$ = 0.5013846153846153 MannwhitneyuResult(statistic=35651.0, pvalue=0.956085563959179)\n",
      "AUC $SEF95_{mean}$ = 0.4757552447552448 MannwhitneyuResult(statistic=37483.5, pvalue=0.33262838041444365)\n",
      "AUC $SEF95_{std}$ = 0.5065174825174825 MannwhitneyuResult(statistic=35284.0, pvalue=0.7946804565293762)\n",
      "AUC $\\beta_{mean}$ = 0.5759440559440561 MannwhitneyuResult(statistic=30320.0, pvalue=0.0024024823093282154)\n",
      "AUC $\\beta_{std}$ = 0.5313986013986014 MannwhitneyuResult(statistic=33505.0, pvalue=0.20955603179547821)\n",
      "AUC $|\\beta|_{mean}$ = 0.521146853146853 MannwhitneyuResult(statistic=34238.0, pvalue=0.39810877300859004)\n",
      "AUC $|\\beta|_{std}$ = 0.5244755244755245 MannwhitneyuResult(statistic=34000.0, pvalue=0.32804586569052707)\n",
      "AUC $\\gamma_{mean}$ = 0.5146293706293706 MannwhitneyuResult(statistic=34704.0, pvalue=0.5588930346517682)\n",
      "AUC $\\gamma_{std}$ = 0.507972027972028 MannwhitneyuResult(statistic=35180.0, pvalue=0.7501975917567085)\n",
      "AUC $|\\gamma|_{mean}$ = 0.47545454545454546 MannwhitneyuResult(statistic=37505.0, pvalue=0.32666534115115087)\n",
      "AUC $|\\gamma|_{std}$ = 0.4965034965034965 MannwhitneyuResult(statistic=36000.0, pvalue=0.8890685572686036)\n",
      "AUC $\\theta_{mean}$ = 0.5395524475524476 MannwhitneyuResult(statistic=32922.0, pvalue=0.11394363472910186)\n",
      "AUC $\\theta_{std}$ = 0.48618181818181816 MannwhitneyuResult(statistic=36738.0, pvalue=0.5809061291121358)\n",
      "AUC $|\\theta|_{mean}$ = 0.4886293706293706 MannwhitneyuResult(statistic=36563.0, pvalue=0.6496647869251331)\n",
      "AUC $|\\theta|_{std}$ = 0.4707832167832168 MannwhitneyuResult(statistic=37839.0, pvalue=0.24297807488664547)\n",
      "AUC $\\delta_{mean}$ = 0.4808251748251748 MannwhitneyuResult(statistic=37121.0, pvalue=0.4435705840165032)\n",
      "AUC $\\delta_{std}$ = 0.525020979020979 MannwhitneyuResult(statistic=33961.0, pvalue=0.3173780312461433)\n",
      "AUC $|\\delta|_{mean}$ = 0.41130069930069935 MannwhitneyuResult(statistic=42092.0, pvalue=0.00039229444562451435)\n",
      "AUC $|\\delta|_{std}$ = 0.4896783216783217 MannwhitneyuResult(statistic=36488.0, pvalue=0.6801201406480502)\n",
      "AUC $|\\alpha|_{mean}$ = 0.5925034965034965 MannwhitneyuResult(statistic=29136.0, pvalue=0.00021792576674579538)\n",
      "AUC $|\\alpha|_{std}$ = 0.5575664335664337 MannwhitneyuResult(statistic=31634.0, pvalue=0.02140467714819007)\n",
      "AUC $\\alpha_{mean}$ = 0.5980279720279721 MannwhitneyuResult(statistic=28741.0, pvalue=8.924961232587402e-05)\n",
      "AUC $\\alpha_{std}$ = 0.5513146853146853 MannwhitneyuResult(statistic=32081.0, pvalue=0.04027921719625192)\n",
      "AUC $CNV_{mean}$ = 0.49647552447552445 MannwhitneyuResult(statistic=36002.0, pvalue=0.8881851481931597)\n",
      "AUC $CNV_{std}$ = 0.49633566433566434 MannwhitneyuResult(statistic=36012.0, pvalue=0.8837702074455049)\n",
      "AUC $P1_{mean}$ = 0.5232027972027973 MannwhitneyuResult(statistic=34091.0, pvalue=0.3538310014080168)\n",
      "AUC $P1_{std}$ = 0.5379020979020979 MannwhitneyuResult(statistic=33040.0, pvalue=0.12983691679969595)\n",
      "AUC $P3a_{mean}$ = 0.45704895104895105 MannwhitneyuResult(statistic=38821.0, pvalue=0.08605918233377907)\n",
      "AUC $P3a_{std}$ = 0.5286573426573427 MannwhitneyuResult(statistic=33701.0, pvalue=0.25212076167574393)\n",
      "AUC $P3b_{mean}$ = 0.5296223776223776 MannwhitneyuResult(statistic=33632.0, pvalue=0.23649705291605438)\n",
      "AUC $P3b_{std}$ = 0.5105034965034965 MannwhitneyuResult(statistic=34999.0, pvalue=0.674801917566568)\n"
     ]
    }
   ],
   "source": [
    "AUC = []\n",
    "pvalues = {}\n",
    "for i in df_mw.drop('mind', axis = 1).columns:\n",
    "    df_mw = df_mw.assign(mind_order = lambda df: np.select([df.mind == 'dMW', df.mind == 'sMW'], [2,1]))\n",
    "    smw = df_mw.query(\"mind == 'sMW'\")[i]\n",
    "    dmw = df_mw.query(\"mind == 'dMW'\")[i]\n",
    "    auc = roc_auc_score(df_mw['mind_order'], df_mw[i])\n",
    "    print(f'AUC {i} = {auc}', f'{mannwhitneyu(x = smw, y = dmw)}')\n",
    "    AUC.append([i, auc])\n",
    "    pvalues[i] = mannwhitneyu(x = smw, y =dmw).pvalue \n",
    "        \n",
    "segment_mw_roc = pd.DataFrame(AUC, columns = ['markers', 'AUC'])\n",
    "\n",
    "p_df =pd.DataFrame.from_dict(pvalues, orient = 'index', columns = ['p_value']).reset_index().rename(columns ={'index': 'markers'})\n",
    "segment_mw_roc = (segment_mw_roc\n",
    "            .merge(p_df, on = 'markers', how = 'inner')\n",
    "            .assign(\n",
    "                    p_corrected = lambda df: multipletests(df.p_value, method = 'fdr_bh')[1],\n",
    "                    significant = lambda df: np.select([(df.p_value < 0.05) & (df.p_corrected < 0.05), (df.p_value < 0.05) & (df.p_corrected > 0.05),  \n",
    "                                                 (df.p_value > 0.05) & (df.p_corrected > 0.05)], ['p < 0.05 FDR corrected','p < 0.05 uncorrected', 'p > 0.05']),\n",
    "                   )\n",
    "           )\n",
    "\n",
    "segment_mw_roc.to_csv('Data/univariate_roc_mw_segment.csv')"
   ]
  },
  {
   "cell_type": "raw",
   "id": "da6967c6-4eda-47fe-b38b-85fe45afc4e5",
   "metadata": {
    "tags": []
   },
   "source": [
    "df_agg = df_mw.melt(id_vars=['mind'], var_name = 'markers', value_name = 'value').groupby(['markers','mind'], as_index = False).agg(['mean','std'], axis = 0).reset_index()\n",
    "df_agg.columns = df_agg.columns.map(''.join)\n",
    "\n",
    "df_mw_final = (df_agg.merge(segment_mw_roc, on = 'markers', how= 'inner')\n",
    "                 .drop(['significant'], axis =1)\n",
    "#                  .assign(mind = lambda df: df.mind.str.replace('d', 'MW').replace('on-task','OT'))\n",
    "                )\n",
    "\n",
    "                                                                                 \n",
    "print(df_mw_final.to_latex(header = True, index= False, float_format=\"{:0.3f}\".format, escape = False, longtable=True))"
   ]
  },
  {
   "cell_type": "code",
   "execution_count": 14,
   "id": "f66d56f2-567e-4a8f-80eb-79a0f2feb7a6",
   "metadata": {},
   "outputs": [],
   "source": [
    "head = segment_mw_roc.sort_values(by = 'AUC', ascending = False).head(10)\n",
    "tail = segment_mw_roc.sort_values(by = 'AUC', ascending = False).tail(10)\n",
    "body = segment_mw_roc.sort_values(by = 'AUC', ascending = False)[10:-10]"
   ]
  },
  {
   "cell_type": "code",
   "execution_count": 15,
   "id": "30cc6987-5258-4d4e-af79-0a18aa9dab21",
   "metadata": {
    "tags": []
   },
   "outputs": [
    {
     "data": {
      "application/vnd.plotly.v1+json": {
       "config": {
        "plotlyServerURL": "https://plot.ly"
       },
       "data": [
        {
         "hovertemplate": "Statistical Significance=p > 0.05<br>sMW>dMW                           sMW<dMW=%{x}<br>=%{y}<extra></extra>",
         "legendgroup": "p > 0.05",
         "marker": {
          "color": "#42B9B2",
          "size": 6,
          "symbol": "circle-open"
         },
         "mode": "markers",
         "name": "p > 0.05",
         "orientation": "h",
         "showlegend": true,
         "type": "scatter",
         "x": [
          0.47887412587412587,
          0.4808251748251748,
          0.4823356643356644,
          0.48258041958041964,
          0.48618181818181816,
          0.4886293706293706,
          0.4896783216783217,
          0.4939020979020979,
          0.49604195804195805,
          0.49633566433566434,
          0.49647552447552445,
          0.4965034965034965,
          0.4983496503496503,
          0.49855944055944057,
          0.5013846153846153,
          0.5056643356643358,
          0.5065174825174825,
          0.5073986013986014,
          0.507972027972028,
          0.5105034965034965,
          0.5129510489510489,
          0.5146293706293706,
          0.5153706293706294,
          0.5178321678321679,
          0.52,
          0.5207132867132866,
          0.5208111888111888,
          0.521146853146853,
          0.5232027972027973,
          0.5244755244755245,
          0.525020979020979,
          0.5286573426573427,
          0.5296223776223776,
          0.5310349650349651
         ],
         "xaxis": "x",
         "y": [
          "$SEF90_{mean}$",
          "$\\delta_{mean}$",
          "$wSMI\\beta_{std}$",
          "$K_{std}$",
          "$\\theta_{std}$",
          "$|\\theta|_{mean}$",
          "$|\\delta|_{std}$",
          "$wSMI\\alpha_{mean}$",
          "$K_{mean}$",
          "$CNV_{std}$",
          "$CNV_{mean}$",
          "$|\\gamma|_{std}$",
          "$wSMI\\beta_{mean}$",
          "$PE\\alpha_{std}$",
          "$SEF90_{std}$",
          "$PE\\alpha_{mean}$",
          "$SEF95_{std}$",
          "$PE\\beta_{std}$",
          "$\\gamma_{std}$",
          "$P3b_{std}$",
          "$SE_{mean}$",
          "$\\gamma_{mean}$",
          "$wSMI\\theta_{std}$",
          "$PE\\gamma_{std}$",
          "$wSMI\\alpha_{std}$",
          "$wSMI\\theta_{mean}$",
          "$SE_{std}$",
          "$|\\beta|_{mean}$",
          "$P1_{mean}$",
          "$|\\beta|_{std}$",
          "$\\delta_{std}$",
          "$P3a_{std}$",
          "$P3b_{mean}$",
          "$MSF_{std}$"
         ],
         "yaxis": "y"
        }
       ],
       "layout": {
        "font": {
         "color": "black",
         "family": "Times new roman",
         "size": 15
        },
        "height": 500,
        "legend": {
         "title": {
          "text": "Statistical Significance"
         },
         "tracegroupgap": 0
        },
        "margin": {
         "t": 60
        },
        "shapes": [
         {
          "line": {
           "color": "grey",
           "dash": "dash",
           "width": 3
          },
          "type": "line",
          "x0": 0.5,
          "x1": 0.5,
          "xref": "x",
          "y0": 0,
          "y1": 1,
          "yref": "y domain"
         }
        ],
        "showlegend": true,
        "template": {
         "data": {
          "bar": [
           {
            "error_x": {
             "color": "#2a3f5f"
            },
            "error_y": {
             "color": "#2a3f5f"
            },
            "marker": {
             "line": {
              "color": "white",
              "width": 0.5
             },
             "pattern": {
              "fillmode": "overlay",
              "size": 10,
              "solidity": 0.2
             }
            },
            "type": "bar"
           }
          ],
          "barpolar": [
           {
            "marker": {
             "line": {
              "color": "white",
              "width": 0.5
             },
             "pattern": {
              "fillmode": "overlay",
              "size": 10,
              "solidity": 0.2
             }
            },
            "type": "barpolar"
           }
          ],
          "carpet": [
           {
            "aaxis": {
             "endlinecolor": "#2a3f5f",
             "gridcolor": "#C8D4E3",
             "linecolor": "#C8D4E3",
             "minorgridcolor": "#C8D4E3",
             "startlinecolor": "#2a3f5f"
            },
            "baxis": {
             "endlinecolor": "#2a3f5f",
             "gridcolor": "#C8D4E3",
             "linecolor": "#C8D4E3",
             "minorgridcolor": "#C8D4E3",
             "startlinecolor": "#2a3f5f"
            },
            "type": "carpet"
           }
          ],
          "choropleth": [
           {
            "colorbar": {
             "outlinewidth": 0,
             "ticks": ""
            },
            "type": "choropleth"
           }
          ],
          "contour": [
           {
            "colorbar": {
             "outlinewidth": 0,
             "ticks": ""
            },
            "colorscale": [
             [
              0,
              "#0d0887"
             ],
             [
              0.1111111111111111,
              "#46039f"
             ],
             [
              0.2222222222222222,
              "#7201a8"
             ],
             [
              0.3333333333333333,
              "#9c179e"
             ],
             [
              0.4444444444444444,
              "#bd3786"
             ],
             [
              0.5555555555555556,
              "#d8576b"
             ],
             [
              0.6666666666666666,
              "#ed7953"
             ],
             [
              0.7777777777777778,
              "#fb9f3a"
             ],
             [
              0.8888888888888888,
              "#fdca26"
             ],
             [
              1,
              "#f0f921"
             ]
            ],
            "type": "contour"
           }
          ],
          "contourcarpet": [
           {
            "colorbar": {
             "outlinewidth": 0,
             "ticks": ""
            },
            "type": "contourcarpet"
           }
          ],
          "heatmap": [
           {
            "colorbar": {
             "outlinewidth": 0,
             "ticks": ""
            },
            "colorscale": [
             [
              0,
              "#0d0887"
             ],
             [
              0.1111111111111111,
              "#46039f"
             ],
             [
              0.2222222222222222,
              "#7201a8"
             ],
             [
              0.3333333333333333,
              "#9c179e"
             ],
             [
              0.4444444444444444,
              "#bd3786"
             ],
             [
              0.5555555555555556,
              "#d8576b"
             ],
             [
              0.6666666666666666,
              "#ed7953"
             ],
             [
              0.7777777777777778,
              "#fb9f3a"
             ],
             [
              0.8888888888888888,
              "#fdca26"
             ],
             [
              1,
              "#f0f921"
             ]
            ],
            "type": "heatmap"
           }
          ],
          "heatmapgl": [
           {
            "colorbar": {
             "outlinewidth": 0,
             "ticks": ""
            },
            "colorscale": [
             [
              0,
              "#0d0887"
             ],
             [
              0.1111111111111111,
              "#46039f"
             ],
             [
              0.2222222222222222,
              "#7201a8"
             ],
             [
              0.3333333333333333,
              "#9c179e"
             ],
             [
              0.4444444444444444,
              "#bd3786"
             ],
             [
              0.5555555555555556,
              "#d8576b"
             ],
             [
              0.6666666666666666,
              "#ed7953"
             ],
             [
              0.7777777777777778,
              "#fb9f3a"
             ],
             [
              0.8888888888888888,
              "#fdca26"
             ],
             [
              1,
              "#f0f921"
             ]
            ],
            "type": "heatmapgl"
           }
          ],
          "histogram": [
           {
            "marker": {
             "pattern": {
              "fillmode": "overlay",
              "size": 10,
              "solidity": 0.2
             }
            },
            "type": "histogram"
           }
          ],
          "histogram2d": [
           {
            "colorbar": {
             "outlinewidth": 0,
             "ticks": ""
            },
            "colorscale": [
             [
              0,
              "#0d0887"
             ],
             [
              0.1111111111111111,
              "#46039f"
             ],
             [
              0.2222222222222222,
              "#7201a8"
             ],
             [
              0.3333333333333333,
              "#9c179e"
             ],
             [
              0.4444444444444444,
              "#bd3786"
             ],
             [
              0.5555555555555556,
              "#d8576b"
             ],
             [
              0.6666666666666666,
              "#ed7953"
             ],
             [
              0.7777777777777778,
              "#fb9f3a"
             ],
             [
              0.8888888888888888,
              "#fdca26"
             ],
             [
              1,
              "#f0f921"
             ]
            ],
            "type": "histogram2d"
           }
          ],
          "histogram2dcontour": [
           {
            "colorbar": {
             "outlinewidth": 0,
             "ticks": ""
            },
            "colorscale": [
             [
              0,
              "#0d0887"
             ],
             [
              0.1111111111111111,
              "#46039f"
             ],
             [
              0.2222222222222222,
              "#7201a8"
             ],
             [
              0.3333333333333333,
              "#9c179e"
             ],
             [
              0.4444444444444444,
              "#bd3786"
             ],
             [
              0.5555555555555556,
              "#d8576b"
             ],
             [
              0.6666666666666666,
              "#ed7953"
             ],
             [
              0.7777777777777778,
              "#fb9f3a"
             ],
             [
              0.8888888888888888,
              "#fdca26"
             ],
             [
              1,
              "#f0f921"
             ]
            ],
            "type": "histogram2dcontour"
           }
          ],
          "mesh3d": [
           {
            "colorbar": {
             "outlinewidth": 0,
             "ticks": ""
            },
            "type": "mesh3d"
           }
          ],
          "parcoords": [
           {
            "line": {
             "colorbar": {
              "outlinewidth": 0,
              "ticks": ""
             }
            },
            "type": "parcoords"
           }
          ],
          "pie": [
           {
            "automargin": true,
            "type": "pie"
           }
          ],
          "scatter": [
           {
            "marker": {
             "colorbar": {
              "outlinewidth": 0,
              "ticks": ""
             }
            },
            "type": "scatter"
           }
          ],
          "scatter3d": [
           {
            "line": {
             "colorbar": {
              "outlinewidth": 0,
              "ticks": ""
             }
            },
            "marker": {
             "colorbar": {
              "outlinewidth": 0,
              "ticks": ""
             }
            },
            "type": "scatter3d"
           }
          ],
          "scattercarpet": [
           {
            "marker": {
             "colorbar": {
              "outlinewidth": 0,
              "ticks": ""
             }
            },
            "type": "scattercarpet"
           }
          ],
          "scattergeo": [
           {
            "marker": {
             "colorbar": {
              "outlinewidth": 0,
              "ticks": ""
             }
            },
            "type": "scattergeo"
           }
          ],
          "scattergl": [
           {
            "marker": {
             "colorbar": {
              "outlinewidth": 0,
              "ticks": ""
             }
            },
            "type": "scattergl"
           }
          ],
          "scattermapbox": [
           {
            "marker": {
             "colorbar": {
              "outlinewidth": 0,
              "ticks": ""
             }
            },
            "type": "scattermapbox"
           }
          ],
          "scatterpolar": [
           {
            "marker": {
             "colorbar": {
              "outlinewidth": 0,
              "ticks": ""
             }
            },
            "type": "scatterpolar"
           }
          ],
          "scatterpolargl": [
           {
            "marker": {
             "colorbar": {
              "outlinewidth": 0,
              "ticks": ""
             }
            },
            "type": "scatterpolargl"
           }
          ],
          "scatterternary": [
           {
            "marker": {
             "colorbar": {
              "outlinewidth": 0,
              "ticks": ""
             }
            },
            "type": "scatterternary"
           }
          ],
          "surface": [
           {
            "colorbar": {
             "outlinewidth": 0,
             "ticks": ""
            },
            "colorscale": [
             [
              0,
              "#0d0887"
             ],
             [
              0.1111111111111111,
              "#46039f"
             ],
             [
              0.2222222222222222,
              "#7201a8"
             ],
             [
              0.3333333333333333,
              "#9c179e"
             ],
             [
              0.4444444444444444,
              "#bd3786"
             ],
             [
              0.5555555555555556,
              "#d8576b"
             ],
             [
              0.6666666666666666,
              "#ed7953"
             ],
             [
              0.7777777777777778,
              "#fb9f3a"
             ],
             [
              0.8888888888888888,
              "#fdca26"
             ],
             [
              1,
              "#f0f921"
             ]
            ],
            "type": "surface"
           }
          ],
          "table": [
           {
            "cells": {
             "fill": {
              "color": "#EBF0F8"
             },
             "line": {
              "color": "white"
             }
            },
            "header": {
             "fill": {
              "color": "#C8D4E3"
             },
             "line": {
              "color": "white"
             }
            },
            "type": "table"
           }
          ]
         },
         "layout": {
          "annotationdefaults": {
           "arrowcolor": "#2a3f5f",
           "arrowhead": 0,
           "arrowwidth": 1
          },
          "autotypenumbers": "strict",
          "coloraxis": {
           "colorbar": {
            "outlinewidth": 0,
            "ticks": ""
           }
          },
          "colorscale": {
           "diverging": [
            [
             0,
             "#8e0152"
            ],
            [
             0.1,
             "#c51b7d"
            ],
            [
             0.2,
             "#de77ae"
            ],
            [
             0.3,
             "#f1b6da"
            ],
            [
             0.4,
             "#fde0ef"
            ],
            [
             0.5,
             "#f7f7f7"
            ],
            [
             0.6,
             "#e6f5d0"
            ],
            [
             0.7,
             "#b8e186"
            ],
            [
             0.8,
             "#7fbc41"
            ],
            [
             0.9,
             "#4d9221"
            ],
            [
             1,
             "#276419"
            ]
           ],
           "sequential": [
            [
             0,
             "#0d0887"
            ],
            [
             0.1111111111111111,
             "#46039f"
            ],
            [
             0.2222222222222222,
             "#7201a8"
            ],
            [
             0.3333333333333333,
             "#9c179e"
            ],
            [
             0.4444444444444444,
             "#bd3786"
            ],
            [
             0.5555555555555556,
             "#d8576b"
            ],
            [
             0.6666666666666666,
             "#ed7953"
            ],
            [
             0.7777777777777778,
             "#fb9f3a"
            ],
            [
             0.8888888888888888,
             "#fdca26"
            ],
            [
             1,
             "#f0f921"
            ]
           ],
           "sequentialminus": [
            [
             0,
             "#0d0887"
            ],
            [
             0.1111111111111111,
             "#46039f"
            ],
            [
             0.2222222222222222,
             "#7201a8"
            ],
            [
             0.3333333333333333,
             "#9c179e"
            ],
            [
             0.4444444444444444,
             "#bd3786"
            ],
            [
             0.5555555555555556,
             "#d8576b"
            ],
            [
             0.6666666666666666,
             "#ed7953"
            ],
            [
             0.7777777777777778,
             "#fb9f3a"
            ],
            [
             0.8888888888888888,
             "#fdca26"
            ],
            [
             1,
             "#f0f921"
            ]
           ]
          },
          "colorway": [
           "#636efa",
           "#EF553B",
           "#00cc96",
           "#ab63fa",
           "#FFA15A",
           "#19d3f3",
           "#FF6692",
           "#B6E880",
           "#FF97FF",
           "#FECB52"
          ],
          "font": {
           "color": "#2a3f5f"
          },
          "geo": {
           "bgcolor": "white",
           "lakecolor": "white",
           "landcolor": "white",
           "showlakes": true,
           "showland": true,
           "subunitcolor": "#C8D4E3"
          },
          "hoverlabel": {
           "align": "left"
          },
          "hovermode": "closest",
          "mapbox": {
           "style": "light"
          },
          "paper_bgcolor": "white",
          "plot_bgcolor": "white",
          "polar": {
           "angularaxis": {
            "gridcolor": "#EBF0F8",
            "linecolor": "#EBF0F8",
            "ticks": ""
           },
           "bgcolor": "white",
           "radialaxis": {
            "gridcolor": "#EBF0F8",
            "linecolor": "#EBF0F8",
            "ticks": ""
           }
          },
          "scene": {
           "xaxis": {
            "backgroundcolor": "white",
            "gridcolor": "#DFE8F3",
            "gridwidth": 2,
            "linecolor": "#EBF0F8",
            "showbackground": true,
            "ticks": "",
            "zerolinecolor": "#EBF0F8"
           },
           "yaxis": {
            "backgroundcolor": "white",
            "gridcolor": "#DFE8F3",
            "gridwidth": 2,
            "linecolor": "#EBF0F8",
            "showbackground": true,
            "ticks": "",
            "zerolinecolor": "#EBF0F8"
           },
           "zaxis": {
            "backgroundcolor": "white",
            "gridcolor": "#DFE8F3",
            "gridwidth": 2,
            "linecolor": "#EBF0F8",
            "showbackground": true,
            "ticks": "",
            "zerolinecolor": "#EBF0F8"
           }
          },
          "shapedefaults": {
           "line": {
            "color": "#2a3f5f"
           }
          },
          "ternary": {
           "aaxis": {
            "gridcolor": "#DFE8F3",
            "linecolor": "#A2B1C6",
            "ticks": ""
           },
           "baxis": {
            "gridcolor": "#DFE8F3",
            "linecolor": "#A2B1C6",
            "ticks": ""
           },
           "bgcolor": "white",
           "caxis": {
            "gridcolor": "#DFE8F3",
            "linecolor": "#A2B1C6",
            "ticks": ""
           }
          },
          "title": {
           "x": 0.05
          },
          "xaxis": {
           "automargin": true,
           "gridcolor": "#EBF0F8",
           "linecolor": "#EBF0F8",
           "ticks": "",
           "title": {
            "standoff": 15
           },
           "zerolinecolor": "#EBF0F8",
           "zerolinewidth": 2
          },
          "yaxis": {
           "automargin": true,
           "gridcolor": "#EBF0F8",
           "linecolor": "#EBF0F8",
           "ticks": "",
           "title": {
            "standoff": 15
           },
           "zerolinecolor": "#EBF0F8",
           "zerolinewidth": 2
          }
         }
        },
        "width": 700,
        "xaxis": {
         "anchor": "y",
         "automargin": false,
         "autorange": false,
         "domain": [
          0,
          1
         ],
         "range": [
          0.37,
          0.63
         ],
         "tickfont": {
          "size": 20
         },
         "title": {
          "text": "sMW>dMW                           sMW<dMW"
         },
         "visible": true
        },
        "yaxis": {
         "anchor": "x",
         "automargin": false,
         "autorange": false,
         "domain": [
          0,
          1
         ],
         "dtick": 1,
         "range": [
          -1,
          34
         ],
         "tickfont": {
          "color": "black",
          "size": 6
         },
         "title": {
          "text": ""
         }
        }
       }
      },
      "text/html": [
       "<div>                            <div id=\"25ee3f38-8f7d-4099-9249-af36c540455e\" class=\"plotly-graph-div\" style=\"height:500px; width:700px;\"></div>            <script type=\"text/javascript\">                require([\"plotly\"], function(Plotly) {                    window.PLOTLYENV=window.PLOTLYENV || {};                                    if (document.getElementById(\"25ee3f38-8f7d-4099-9249-af36c540455e\")) {                    Plotly.newPlot(                        \"25ee3f38-8f7d-4099-9249-af36c540455e\",                        [{\"hovertemplate\":\"Statistical Significance=p > 0.05<br>sMW>dMW                           sMW<dMW=%{x}<br>=%{y}<extra></extra>\",\"legendgroup\":\"p > 0.05\",\"marker\":{\"color\":\"#42B9B2\",\"symbol\":\"circle-open\",\"size\":6},\"mode\":\"markers\",\"name\":\"p > 0.05\",\"orientation\":\"h\",\"showlegend\":true,\"x\":[0.47887412587412587,0.4808251748251748,0.4823356643356644,0.48258041958041964,0.48618181818181816,0.4886293706293706,0.4896783216783217,0.4939020979020979,0.49604195804195805,0.49633566433566434,0.49647552447552445,0.4965034965034965,0.4983496503496503,0.49855944055944057,0.5013846153846153,0.5056643356643358,0.5065174825174825,0.5073986013986014,0.507972027972028,0.5105034965034965,0.5129510489510489,0.5146293706293706,0.5153706293706294,0.5178321678321679,0.52,0.5207132867132866,0.5208111888111888,0.521146853146853,0.5232027972027973,0.5244755244755245,0.525020979020979,0.5286573426573427,0.5296223776223776,0.5310349650349651],\"xaxis\":\"x\",\"y\":[\"$SEF90_{mean}$\",\"$\\\\delta_{mean}$\",\"$wSMI\\\\beta_{std}$\",\"$K_{std}$\",\"$\\\\theta_{std}$\",\"$|\\\\theta|_{mean}$\",\"$|\\\\delta|_{std}$\",\"$wSMI\\\\alpha_{mean}$\",\"$K_{mean}$\",\"$CNV_{std}$\",\"$CNV_{mean}$\",\"$|\\\\gamma|_{std}$\",\"$wSMI\\\\beta_{mean}$\",\"$PE\\\\alpha_{std}$\",\"$SEF90_{std}$\",\"$PE\\\\alpha_{mean}$\",\"$SEF95_{std}$\",\"$PE\\\\beta_{std}$\",\"$\\\\gamma_{std}$\",\"$P3b_{std}$\",\"$SE_{mean}$\",\"$\\\\gamma_{mean}$\",\"$wSMI\\\\theta_{std}$\",\"$PE\\\\gamma_{std}$\",\"$wSMI\\\\alpha_{std}$\",\"$wSMI\\\\theta_{mean}$\",\"$SE_{std}$\",\"$|\\\\beta|_{mean}$\",\"$P1_{mean}$\",\"$|\\\\beta|_{std}$\",\"$\\\\delta_{std}$\",\"$P3a_{std}$\",\"$P3b_{mean}$\",\"$MSF_{std}$\"],\"yaxis\":\"y\",\"type\":\"scatter\"}],                        {\"template\":{\"data\":{\"barpolar\":[{\"marker\":{\"line\":{\"color\":\"white\",\"width\":0.5},\"pattern\":{\"fillmode\":\"overlay\",\"size\":10,\"solidity\":0.2}},\"type\":\"barpolar\"}],\"bar\":[{\"error_x\":{\"color\":\"#2a3f5f\"},\"error_y\":{\"color\":\"#2a3f5f\"},\"marker\":{\"line\":{\"color\":\"white\",\"width\":0.5},\"pattern\":{\"fillmode\":\"overlay\",\"size\":10,\"solidity\":0.2}},\"type\":\"bar\"}],\"carpet\":[{\"aaxis\":{\"endlinecolor\":\"#2a3f5f\",\"gridcolor\":\"#C8D4E3\",\"linecolor\":\"#C8D4E3\",\"minorgridcolor\":\"#C8D4E3\",\"startlinecolor\":\"#2a3f5f\"},\"baxis\":{\"endlinecolor\":\"#2a3f5f\",\"gridcolor\":\"#C8D4E3\",\"linecolor\":\"#C8D4E3\",\"minorgridcolor\":\"#C8D4E3\",\"startlinecolor\":\"#2a3f5f\"},\"type\":\"carpet\"}],\"choropleth\":[{\"colorbar\":{\"outlinewidth\":0,\"ticks\":\"\"},\"type\":\"choropleth\"}],\"contourcarpet\":[{\"colorbar\":{\"outlinewidth\":0,\"ticks\":\"\"},\"type\":\"contourcarpet\"}],\"contour\":[{\"colorbar\":{\"outlinewidth\":0,\"ticks\":\"\"},\"colorscale\":[[0.0,\"#0d0887\"],[0.1111111111111111,\"#46039f\"],[0.2222222222222222,\"#7201a8\"],[0.3333333333333333,\"#9c179e\"],[0.4444444444444444,\"#bd3786\"],[0.5555555555555556,\"#d8576b\"],[0.6666666666666666,\"#ed7953\"],[0.7777777777777778,\"#fb9f3a\"],[0.8888888888888888,\"#fdca26\"],[1.0,\"#f0f921\"]],\"type\":\"contour\"}],\"heatmapgl\":[{\"colorbar\":{\"outlinewidth\":0,\"ticks\":\"\"},\"colorscale\":[[0.0,\"#0d0887\"],[0.1111111111111111,\"#46039f\"],[0.2222222222222222,\"#7201a8\"],[0.3333333333333333,\"#9c179e\"],[0.4444444444444444,\"#bd3786\"],[0.5555555555555556,\"#d8576b\"],[0.6666666666666666,\"#ed7953\"],[0.7777777777777778,\"#fb9f3a\"],[0.8888888888888888,\"#fdca26\"],[1.0,\"#f0f921\"]],\"type\":\"heatmapgl\"}],\"heatmap\":[{\"colorbar\":{\"outlinewidth\":0,\"ticks\":\"\"},\"colorscale\":[[0.0,\"#0d0887\"],[0.1111111111111111,\"#46039f\"],[0.2222222222222222,\"#7201a8\"],[0.3333333333333333,\"#9c179e\"],[0.4444444444444444,\"#bd3786\"],[0.5555555555555556,\"#d8576b\"],[0.6666666666666666,\"#ed7953\"],[0.7777777777777778,\"#fb9f3a\"],[0.8888888888888888,\"#fdca26\"],[1.0,\"#f0f921\"]],\"type\":\"heatmap\"}],\"histogram2dcontour\":[{\"colorbar\":{\"outlinewidth\":0,\"ticks\":\"\"},\"colorscale\":[[0.0,\"#0d0887\"],[0.1111111111111111,\"#46039f\"],[0.2222222222222222,\"#7201a8\"],[0.3333333333333333,\"#9c179e\"],[0.4444444444444444,\"#bd3786\"],[0.5555555555555556,\"#d8576b\"],[0.6666666666666666,\"#ed7953\"],[0.7777777777777778,\"#fb9f3a\"],[0.8888888888888888,\"#fdca26\"],[1.0,\"#f0f921\"]],\"type\":\"histogram2dcontour\"}],\"histogram2d\":[{\"colorbar\":{\"outlinewidth\":0,\"ticks\":\"\"},\"colorscale\":[[0.0,\"#0d0887\"],[0.1111111111111111,\"#46039f\"],[0.2222222222222222,\"#7201a8\"],[0.3333333333333333,\"#9c179e\"],[0.4444444444444444,\"#bd3786\"],[0.5555555555555556,\"#d8576b\"],[0.6666666666666666,\"#ed7953\"],[0.7777777777777778,\"#fb9f3a\"],[0.8888888888888888,\"#fdca26\"],[1.0,\"#f0f921\"]],\"type\":\"histogram2d\"}],\"histogram\":[{\"marker\":{\"pattern\":{\"fillmode\":\"overlay\",\"size\":10,\"solidity\":0.2}},\"type\":\"histogram\"}],\"mesh3d\":[{\"colorbar\":{\"outlinewidth\":0,\"ticks\":\"\"},\"type\":\"mesh3d\"}],\"parcoords\":[{\"line\":{\"colorbar\":{\"outlinewidth\":0,\"ticks\":\"\"}},\"type\":\"parcoords\"}],\"pie\":[{\"automargin\":true,\"type\":\"pie\"}],\"scatter3d\":[{\"line\":{\"colorbar\":{\"outlinewidth\":0,\"ticks\":\"\"}},\"marker\":{\"colorbar\":{\"outlinewidth\":0,\"ticks\":\"\"}},\"type\":\"scatter3d\"}],\"scattercarpet\":[{\"marker\":{\"colorbar\":{\"outlinewidth\":0,\"ticks\":\"\"}},\"type\":\"scattercarpet\"}],\"scattergeo\":[{\"marker\":{\"colorbar\":{\"outlinewidth\":0,\"ticks\":\"\"}},\"type\":\"scattergeo\"}],\"scattergl\":[{\"marker\":{\"colorbar\":{\"outlinewidth\":0,\"ticks\":\"\"}},\"type\":\"scattergl\"}],\"scattermapbox\":[{\"marker\":{\"colorbar\":{\"outlinewidth\":0,\"ticks\":\"\"}},\"type\":\"scattermapbox\"}],\"scatterpolargl\":[{\"marker\":{\"colorbar\":{\"outlinewidth\":0,\"ticks\":\"\"}},\"type\":\"scatterpolargl\"}],\"scatterpolar\":[{\"marker\":{\"colorbar\":{\"outlinewidth\":0,\"ticks\":\"\"}},\"type\":\"scatterpolar\"}],\"scatter\":[{\"marker\":{\"colorbar\":{\"outlinewidth\":0,\"ticks\":\"\"}},\"type\":\"scatter\"}],\"scatterternary\":[{\"marker\":{\"colorbar\":{\"outlinewidth\":0,\"ticks\":\"\"}},\"type\":\"scatterternary\"}],\"surface\":[{\"colorbar\":{\"outlinewidth\":0,\"ticks\":\"\"},\"colorscale\":[[0.0,\"#0d0887\"],[0.1111111111111111,\"#46039f\"],[0.2222222222222222,\"#7201a8\"],[0.3333333333333333,\"#9c179e\"],[0.4444444444444444,\"#bd3786\"],[0.5555555555555556,\"#d8576b\"],[0.6666666666666666,\"#ed7953\"],[0.7777777777777778,\"#fb9f3a\"],[0.8888888888888888,\"#fdca26\"],[1.0,\"#f0f921\"]],\"type\":\"surface\"}],\"table\":[{\"cells\":{\"fill\":{\"color\":\"#EBF0F8\"},\"line\":{\"color\":\"white\"}},\"header\":{\"fill\":{\"color\":\"#C8D4E3\"},\"line\":{\"color\":\"white\"}},\"type\":\"table\"}]},\"layout\":{\"annotationdefaults\":{\"arrowcolor\":\"#2a3f5f\",\"arrowhead\":0,\"arrowwidth\":1},\"autotypenumbers\":\"strict\",\"coloraxis\":{\"colorbar\":{\"outlinewidth\":0,\"ticks\":\"\"}},\"colorscale\":{\"diverging\":[[0,\"#8e0152\"],[0.1,\"#c51b7d\"],[0.2,\"#de77ae\"],[0.3,\"#f1b6da\"],[0.4,\"#fde0ef\"],[0.5,\"#f7f7f7\"],[0.6,\"#e6f5d0\"],[0.7,\"#b8e186\"],[0.8,\"#7fbc41\"],[0.9,\"#4d9221\"],[1,\"#276419\"]],\"sequential\":[[0.0,\"#0d0887\"],[0.1111111111111111,\"#46039f\"],[0.2222222222222222,\"#7201a8\"],[0.3333333333333333,\"#9c179e\"],[0.4444444444444444,\"#bd3786\"],[0.5555555555555556,\"#d8576b\"],[0.6666666666666666,\"#ed7953\"],[0.7777777777777778,\"#fb9f3a\"],[0.8888888888888888,\"#fdca26\"],[1.0,\"#f0f921\"]],\"sequentialminus\":[[0.0,\"#0d0887\"],[0.1111111111111111,\"#46039f\"],[0.2222222222222222,\"#7201a8\"],[0.3333333333333333,\"#9c179e\"],[0.4444444444444444,\"#bd3786\"],[0.5555555555555556,\"#d8576b\"],[0.6666666666666666,\"#ed7953\"],[0.7777777777777778,\"#fb9f3a\"],[0.8888888888888888,\"#fdca26\"],[1.0,\"#f0f921\"]]},\"colorway\":[\"#636efa\",\"#EF553B\",\"#00cc96\",\"#ab63fa\",\"#FFA15A\",\"#19d3f3\",\"#FF6692\",\"#B6E880\",\"#FF97FF\",\"#FECB52\"],\"font\":{\"color\":\"#2a3f5f\"},\"geo\":{\"bgcolor\":\"white\",\"lakecolor\":\"white\",\"landcolor\":\"white\",\"showlakes\":true,\"showland\":true,\"subunitcolor\":\"#C8D4E3\"},\"hoverlabel\":{\"align\":\"left\"},\"hovermode\":\"closest\",\"mapbox\":{\"style\":\"light\"},\"paper_bgcolor\":\"white\",\"plot_bgcolor\":\"white\",\"polar\":{\"angularaxis\":{\"gridcolor\":\"#EBF0F8\",\"linecolor\":\"#EBF0F8\",\"ticks\":\"\"},\"bgcolor\":\"white\",\"radialaxis\":{\"gridcolor\":\"#EBF0F8\",\"linecolor\":\"#EBF0F8\",\"ticks\":\"\"}},\"scene\":{\"xaxis\":{\"backgroundcolor\":\"white\",\"gridcolor\":\"#DFE8F3\",\"gridwidth\":2,\"linecolor\":\"#EBF0F8\",\"showbackground\":true,\"ticks\":\"\",\"zerolinecolor\":\"#EBF0F8\"},\"yaxis\":{\"backgroundcolor\":\"white\",\"gridcolor\":\"#DFE8F3\",\"gridwidth\":2,\"linecolor\":\"#EBF0F8\",\"showbackground\":true,\"ticks\":\"\",\"zerolinecolor\":\"#EBF0F8\"},\"zaxis\":{\"backgroundcolor\":\"white\",\"gridcolor\":\"#DFE8F3\",\"gridwidth\":2,\"linecolor\":\"#EBF0F8\",\"showbackground\":true,\"ticks\":\"\",\"zerolinecolor\":\"#EBF0F8\"}},\"shapedefaults\":{\"line\":{\"color\":\"#2a3f5f\"}},\"ternary\":{\"aaxis\":{\"gridcolor\":\"#DFE8F3\",\"linecolor\":\"#A2B1C6\",\"ticks\":\"\"},\"baxis\":{\"gridcolor\":\"#DFE8F3\",\"linecolor\":\"#A2B1C6\",\"ticks\":\"\"},\"bgcolor\":\"white\",\"caxis\":{\"gridcolor\":\"#DFE8F3\",\"linecolor\":\"#A2B1C6\",\"ticks\":\"\"}},\"title\":{\"x\":0.05},\"xaxis\":{\"automargin\":true,\"gridcolor\":\"#EBF0F8\",\"linecolor\":\"#EBF0F8\",\"ticks\":\"\",\"title\":{\"standoff\":15},\"zerolinecolor\":\"#EBF0F8\",\"zerolinewidth\":2},\"yaxis\":{\"automargin\":true,\"gridcolor\":\"#EBF0F8\",\"linecolor\":\"#EBF0F8\",\"ticks\":\"\",\"title\":{\"standoff\":15},\"zerolinecolor\":\"#EBF0F8\",\"zerolinewidth\":2}}},\"xaxis\":{\"anchor\":\"y\",\"domain\":[0.0,1.0],\"title\":{\"text\":\"sMW>dMW                           sMW<dMW\"},\"tickfont\":{\"size\":20},\"visible\":true,\"range\":[0.37,0.63],\"automargin\":false,\"autorange\":false},\"yaxis\":{\"anchor\":\"x\",\"domain\":[0.0,1.0],\"title\":{\"text\":\"\"},\"tickfont\":{\"size\":6,\"color\":\"black\"},\"automargin\":false,\"autorange\":false,\"range\":[-1,34],\"dtick\":1},\"legend\":{\"title\":{\"text\":\"Statistical Significance\"},\"tracegroupgap\":0},\"margin\":{\"t\":60},\"shapes\":[{\"line\":{\"color\":\"grey\",\"dash\":\"dash\",\"width\":3},\"type\":\"line\",\"x0\":0.5,\"x1\":0.5,\"xref\":\"x\",\"y0\":0,\"y1\":1,\"yref\":\"y domain\"}],\"font\":{\"family\":\"Times new roman\",\"size\":15,\"color\":\"black\"},\"width\":700,\"height\":500,\"showlegend\":true},                        {\"responsive\": true}                    ).then(function(){\n",
       "                            \n",
       "var gd = document.getElementById('25ee3f38-8f7d-4099-9249-af36c540455e');\n",
       "var x = new MutationObserver(function (mutations, observer) {{\n",
       "        var display = window.getComputedStyle(gd).display;\n",
       "        if (!display || display === 'none') {{\n",
       "            console.log([gd, 'removed!']);\n",
       "            Plotly.purge(gd);\n",
       "            observer.disconnect();\n",
       "        }}\n",
       "}});\n",
       "\n",
       "// Listen for the removal of the full notebook cells\n",
       "var notebookContainer = gd.closest('#notebook-container');\n",
       "if (notebookContainer) {{\n",
       "    x.observe(notebookContainer, {childList: true});\n",
       "}}\n",
       "\n",
       "// Listen for the clearing of the current output cell\n",
       "var outputEl = gd.closest('.output');\n",
       "if (outputEl) {{\n",
       "    x.observe(outputEl, {childList: true});\n",
       "}}\n",
       "\n",
       "                        })                };                });            </script>        </div>"
      ]
     },
     "metadata": {},
     "output_type": "display_data"
    }
   ],
   "source": [
    "# segment_mind_roc = segment_mind_roc.sort_values(by = 'AUC', ascending = False).head(10).append(segment_mind_roc.sort_values(by = 'AUC', ascending = False).tail(10))\n",
    "\n",
    "fig = px.scatter(body.sort_values(by = 'AUC'),x = 'AUC', y = 'markers', template = \"plotly_white\", symbol = 'significant', \n",
    "#                  color = 'significant',\n",
    "                 color_discrete_sequence = [lblue, green,orange, pink], \n",
    "                 \n",
    "                 category_orders = {'significant': ['p > 0.05','p < 0.05 uncorrected', 'p < 0.05 FDR corrected']},\n",
    "                 symbol_sequence = ['circle-open','circle','hexagram' ],\n",
    "                 # category_orders = {'significant': ['p < 0.05 FDR corrected','p < 0.05 uncorrected','p > 0.05']},\n",
    "                 # symbol_sequence = ['hexagram','circle','circle-open',],\n",
    "                 \n",
    "                 \n",
    "                 labels = {'AUC': 'sMW>dMW                           sMW<dMW', 'significant': 'Statistical Significance', 'markers':''}\n",
    "                )\n",
    "fig.add_vline(x=0.5, line_width=3, line_dash=\"dash\", line_color=\"grey\")\n",
    "fig.update_traces(marker=dict(size = 6))\n",
    "\n",
    "fig.update_layout(\n",
    "    font=dict(\n",
    "        family=\"Times new roman\",\n",
    "        size=15,\n",
    "        color=\"black\"\n",
    "    ),\n",
    "    width=700,\n",
    "    height=500,\n",
    "#     autosize = True, \n",
    "    template = 'plotly_white',\n",
    "    xaxis = dict(\n",
    "            visible=True,\n",
    "            range = [0.37,0.63], \n",
    "            tickfont = {\"size\": 20},\n",
    "                automargin = False,\n",
    "    autorange = False,\n",
    "        ),\n",
    "    yaxis = dict(\n",
    "    tickfont = {\"size\": 6, \"color\": 'black'},\n",
    "    automargin = False,\n",
    "    autorange = False,\n",
    "    range = [-1,len(body)],\n",
    "    dtick = 1\n",
    "    ),\n",
    "    showlegend=True,\n",
    ")\n",
    "\n",
    "\n",
    "fig.show()\n",
    "# pio.write_json(fig, 'Figs/univariate_roc_mw_segment.plotly')\n",
    "# fig.write_image('Figs/univariate_roc_mw_segment.png')\n",
    "fig.write_image(\"Figs//univariate_roc_mw_segment_body.pdf\")"
   ]
  },
  {
   "cell_type": "code",
   "execution_count": 16,
   "id": "74976d73-f432-4d13-a73e-2aedfbcff3cf",
   "metadata": {},
   "outputs": [
    {
     "data": {
      "application/vnd.plotly.v1+json": {
       "config": {
        "plotlyServerURL": "https://plot.ly"
       },
       "data": [
        {
         "hovertemplate": "Statistical Significance=p > 0.05<br>sTUT>dTUT              sTUT<dTUT=%{x}<br>=%{y}<extra></extra>",
         "legendgroup": "p > 0.05",
         "marker": {
          "color": "#42B9B2",
          "size": 13,
          "symbol": "circle-open"
         },
         "mode": "markers",
         "name": "p > 0.05",
         "orientation": "h",
         "showlegend": true,
         "type": "scatter",
         "x": [
          0.457048951048951,
          0.4649370629370629,
          0.4707832167832168,
          0.4743496503496504,
          0.4753146853146853,
          0.4754545454545454,
          0.4757552447552448,
          0.4788741258741258,
          0.4808251748251748,
          0.4823356643356644,
          0.4825804195804196,
          0.4861818181818181,
          0.4886293706293706,
          0.4896783216783217,
          0.4939020979020979,
          0.496041958041958,
          0.4963356643356643,
          0.4964755244755244,
          0.4965034965034965,
          0.4983496503496503,
          0.4985594405594405,
          0.5013846153846153,
          0.5056643356643358,
          0.5065174825174825,
          0.5073986013986014,
          0.507972027972028,
          0.5105034965034965,
          0.5129510489510489,
          0.5146293706293706,
          0.5153706293706294,
          0.5178321678321679,
          0.52,
          0.5207132867132866,
          0.5208111888111888,
          0.521146853146853,
          0.5232027972027973,
          0.5244755244755245,
          0.525020979020979,
          0.5286573426573427,
          0.5296223776223776,
          0.5310349650349651,
          0.5313986013986014,
          0.5379020979020979,
          0.5395524475524476,
          0.5432097902097902
         ],
         "xaxis": "x",
         "y": [
          "$P3a_{mean}$",
          "$wSMI\\gamma_{mean}$",
          "$|\\theta|_{std}$",
          "$wSMI\\gamma_{std}$",
          "$PE\\theta_{std}$",
          "$|\\gamma|_{mean}$",
          "$SEF95_{mean}$",
          "$SEF90_{mean}$",
          "$\\delta_{mean}$",
          "$wSMI\\beta_{std}$",
          "$K_{std}$",
          "$\\theta_{std}$",
          "$|\\theta|_{mean}$",
          "$|\\delta|_{std}$",
          "$wSMI\\alpha_{mean}$",
          "$K_{mean}$",
          "$CNV_{std}$",
          "$CNV_{mean}$",
          "$|\\gamma|_{std}$",
          "$wSMI\\beta_{mean}$",
          "$PE\\alpha_{std}$",
          "$SEF90_{std}$",
          "$PE\\alpha_{mean}$",
          "$SEF95_{std}$",
          "$PE\\beta_{std}$",
          "$\\gamma_{std}$",
          "$P3b_{std}$",
          "$SE_{mean}$",
          "$\\gamma_{mean}$",
          "$wSMI\\theta_{std}$",
          "$PE\\gamma_{std}$",
          "$wSMI\\alpha_{std}$",
          "$wSMI\\theta_{mean}$",
          "$SE_{std}$",
          "$|\\beta|_{mean}$",
          "$P1_{mean}$",
          "$|\\beta|_{std}$",
          "$\\delta_{std}$",
          "$P3a_{std}$",
          "$P3b_{mean}$",
          "$MSF_{std}$",
          "$\\beta_{std}$",
          "$P1_{std}$",
          "$\\theta_{mean}$",
          "$MSF_{mean}$"
         ],
         "yaxis": "y"
        },
        {
         "hovertemplate": "Statistical Significance=p < 0.05 uncorrected<br>sTUT>dTUT              sTUT<dTUT=%{x}<br>=%{y}<extra></extra>",
         "legendgroup": "p < 0.05 uncorrected",
         "marker": {
          "color": "#42B9B2",
          "size": 13,
          "symbol": "circle"
         },
         "mode": "markers",
         "name": "p < 0.05 uncorrected",
         "orientation": "h",
         "showlegend": true,
         "type": "scatter",
         "x": [
          0.4309790209790209,
          0.4416783216783216,
          0.5513146853146853,
          0.5575664335664337
         ],
         "xaxis": "x",
         "y": [
          "$PE\\beta_{mean}$",
          "$PE\\gamma_{mean}$",
          "$\\alpha_{std}$",
          "$|\\alpha|_{std}$"
         ],
         "yaxis": "y"
        },
        {
         "hovertemplate": "Statistical Significance=p < 0.05 FDR corrected<br>sTUT>dTUT              sTUT<dTUT=%{x}<br>=%{y}<extra></extra>",
         "legendgroup": "p < 0.05 FDR corrected",
         "marker": {
          "color": "#42B9B2",
          "size": 13,
          "symbol": "hexagram"
         },
         "mode": "markers",
         "name": "p < 0.05 FDR corrected",
         "orientation": "h",
         "showlegend": true,
         "type": "scatter",
         "x": [
          0.4113006993006993,
          0.5759440559440561,
          0.5925034965034965,
          0.5980279720279721,
          0.6251468531468533
         ],
         "xaxis": "x",
         "y": [
          "$|\\delta|_{mean}$",
          "$\\beta_{mean}$",
          "$|\\alpha|_{mean}$",
          "$\\alpha_{mean}$",
          "$PE\\theta_{mean}$"
         ],
         "yaxis": "y"
        }
       ],
       "layout": {
        "font": {
         "color": "black",
         "family": "Times new roman",
         "size": 20
        },
        "height": 1300,
        "legend": {
         "title": {
          "text": "Statistical Significance"
         },
         "tracegroupgap": 0
        },
        "margin": {
         "t": 60
        },
        "shapes": [
         {
          "line": {
           "color": "grey",
           "dash": "dash",
           "width": 3
          },
          "type": "line",
          "x0": 0.5,
          "x1": 0.5,
          "xref": "x",
          "y0": 0,
          "y1": 1,
          "yref": "y domain"
         }
        ],
        "showlegend": true,
        "template": {
         "data": {
          "bar": [
           {
            "error_x": {
             "color": "#2a3f5f"
            },
            "error_y": {
             "color": "#2a3f5f"
            },
            "marker": {
             "line": {
              "color": "white",
              "width": 0.5
             },
             "pattern": {
              "fillmode": "overlay",
              "size": 10,
              "solidity": 0.2
             }
            },
            "type": "bar"
           }
          ],
          "barpolar": [
           {
            "marker": {
             "line": {
              "color": "white",
              "width": 0.5
             },
             "pattern": {
              "fillmode": "overlay",
              "size": 10,
              "solidity": 0.2
             }
            },
            "type": "barpolar"
           }
          ],
          "carpet": [
           {
            "aaxis": {
             "endlinecolor": "#2a3f5f",
             "gridcolor": "#C8D4E3",
             "linecolor": "#C8D4E3",
             "minorgridcolor": "#C8D4E3",
             "startlinecolor": "#2a3f5f"
            },
            "baxis": {
             "endlinecolor": "#2a3f5f",
             "gridcolor": "#C8D4E3",
             "linecolor": "#C8D4E3",
             "minorgridcolor": "#C8D4E3",
             "startlinecolor": "#2a3f5f"
            },
            "type": "carpet"
           }
          ],
          "choropleth": [
           {
            "colorbar": {
             "outlinewidth": 0,
             "ticks": ""
            },
            "type": "choropleth"
           }
          ],
          "contour": [
           {
            "colorbar": {
             "outlinewidth": 0,
             "ticks": ""
            },
            "colorscale": [
             [
              0,
              "#0d0887"
             ],
             [
              0.1111111111111111,
              "#46039f"
             ],
             [
              0.2222222222222222,
              "#7201a8"
             ],
             [
              0.3333333333333333,
              "#9c179e"
             ],
             [
              0.4444444444444444,
              "#bd3786"
             ],
             [
              0.5555555555555556,
              "#d8576b"
             ],
             [
              0.6666666666666666,
              "#ed7953"
             ],
             [
              0.7777777777777778,
              "#fb9f3a"
             ],
             [
              0.8888888888888888,
              "#fdca26"
             ],
             [
              1,
              "#f0f921"
             ]
            ],
            "type": "contour"
           }
          ],
          "contourcarpet": [
           {
            "colorbar": {
             "outlinewidth": 0,
             "ticks": ""
            },
            "type": "contourcarpet"
           }
          ],
          "heatmap": [
           {
            "colorbar": {
             "outlinewidth": 0,
             "ticks": ""
            },
            "colorscale": [
             [
              0,
              "#0d0887"
             ],
             [
              0.1111111111111111,
              "#46039f"
             ],
             [
              0.2222222222222222,
              "#7201a8"
             ],
             [
              0.3333333333333333,
              "#9c179e"
             ],
             [
              0.4444444444444444,
              "#bd3786"
             ],
             [
              0.5555555555555556,
              "#d8576b"
             ],
             [
              0.6666666666666666,
              "#ed7953"
             ],
             [
              0.7777777777777778,
              "#fb9f3a"
             ],
             [
              0.8888888888888888,
              "#fdca26"
             ],
             [
              1,
              "#f0f921"
             ]
            ],
            "type": "heatmap"
           }
          ],
          "heatmapgl": [
           {
            "colorbar": {
             "outlinewidth": 0,
             "ticks": ""
            },
            "colorscale": [
             [
              0,
              "#0d0887"
             ],
             [
              0.1111111111111111,
              "#46039f"
             ],
             [
              0.2222222222222222,
              "#7201a8"
             ],
             [
              0.3333333333333333,
              "#9c179e"
             ],
             [
              0.4444444444444444,
              "#bd3786"
             ],
             [
              0.5555555555555556,
              "#d8576b"
             ],
             [
              0.6666666666666666,
              "#ed7953"
             ],
             [
              0.7777777777777778,
              "#fb9f3a"
             ],
             [
              0.8888888888888888,
              "#fdca26"
             ],
             [
              1,
              "#f0f921"
             ]
            ],
            "type": "heatmapgl"
           }
          ],
          "histogram": [
           {
            "marker": {
             "pattern": {
              "fillmode": "overlay",
              "size": 10,
              "solidity": 0.2
             }
            },
            "type": "histogram"
           }
          ],
          "histogram2d": [
           {
            "colorbar": {
             "outlinewidth": 0,
             "ticks": ""
            },
            "colorscale": [
             [
              0,
              "#0d0887"
             ],
             [
              0.1111111111111111,
              "#46039f"
             ],
             [
              0.2222222222222222,
              "#7201a8"
             ],
             [
              0.3333333333333333,
              "#9c179e"
             ],
             [
              0.4444444444444444,
              "#bd3786"
             ],
             [
              0.5555555555555556,
              "#d8576b"
             ],
             [
              0.6666666666666666,
              "#ed7953"
             ],
             [
              0.7777777777777778,
              "#fb9f3a"
             ],
             [
              0.8888888888888888,
              "#fdca26"
             ],
             [
              1,
              "#f0f921"
             ]
            ],
            "type": "histogram2d"
           }
          ],
          "histogram2dcontour": [
           {
            "colorbar": {
             "outlinewidth": 0,
             "ticks": ""
            },
            "colorscale": [
             [
              0,
              "#0d0887"
             ],
             [
              0.1111111111111111,
              "#46039f"
             ],
             [
              0.2222222222222222,
              "#7201a8"
             ],
             [
              0.3333333333333333,
              "#9c179e"
             ],
             [
              0.4444444444444444,
              "#bd3786"
             ],
             [
              0.5555555555555556,
              "#d8576b"
             ],
             [
              0.6666666666666666,
              "#ed7953"
             ],
             [
              0.7777777777777778,
              "#fb9f3a"
             ],
             [
              0.8888888888888888,
              "#fdca26"
             ],
             [
              1,
              "#f0f921"
             ]
            ],
            "type": "histogram2dcontour"
           }
          ],
          "mesh3d": [
           {
            "colorbar": {
             "outlinewidth": 0,
             "ticks": ""
            },
            "type": "mesh3d"
           }
          ],
          "parcoords": [
           {
            "line": {
             "colorbar": {
              "outlinewidth": 0,
              "ticks": ""
             }
            },
            "type": "parcoords"
           }
          ],
          "pie": [
           {
            "automargin": true,
            "type": "pie"
           }
          ],
          "scatter": [
           {
            "marker": {
             "colorbar": {
              "outlinewidth": 0,
              "ticks": ""
             }
            },
            "type": "scatter"
           }
          ],
          "scatter3d": [
           {
            "line": {
             "colorbar": {
              "outlinewidth": 0,
              "ticks": ""
             }
            },
            "marker": {
             "colorbar": {
              "outlinewidth": 0,
              "ticks": ""
             }
            },
            "type": "scatter3d"
           }
          ],
          "scattercarpet": [
           {
            "marker": {
             "colorbar": {
              "outlinewidth": 0,
              "ticks": ""
             }
            },
            "type": "scattercarpet"
           }
          ],
          "scattergeo": [
           {
            "marker": {
             "colorbar": {
              "outlinewidth": 0,
              "ticks": ""
             }
            },
            "type": "scattergeo"
           }
          ],
          "scattergl": [
           {
            "marker": {
             "colorbar": {
              "outlinewidth": 0,
              "ticks": ""
             }
            },
            "type": "scattergl"
           }
          ],
          "scattermapbox": [
           {
            "marker": {
             "colorbar": {
              "outlinewidth": 0,
              "ticks": ""
             }
            },
            "type": "scattermapbox"
           }
          ],
          "scatterpolar": [
           {
            "marker": {
             "colorbar": {
              "outlinewidth": 0,
              "ticks": ""
             }
            },
            "type": "scatterpolar"
           }
          ],
          "scatterpolargl": [
           {
            "marker": {
             "colorbar": {
              "outlinewidth": 0,
              "ticks": ""
             }
            },
            "type": "scatterpolargl"
           }
          ],
          "scatterternary": [
           {
            "marker": {
             "colorbar": {
              "outlinewidth": 0,
              "ticks": ""
             }
            },
            "type": "scatterternary"
           }
          ],
          "surface": [
           {
            "colorbar": {
             "outlinewidth": 0,
             "ticks": ""
            },
            "colorscale": [
             [
              0,
              "#0d0887"
             ],
             [
              0.1111111111111111,
              "#46039f"
             ],
             [
              0.2222222222222222,
              "#7201a8"
             ],
             [
              0.3333333333333333,
              "#9c179e"
             ],
             [
              0.4444444444444444,
              "#bd3786"
             ],
             [
              0.5555555555555556,
              "#d8576b"
             ],
             [
              0.6666666666666666,
              "#ed7953"
             ],
             [
              0.7777777777777778,
              "#fb9f3a"
             ],
             [
              0.8888888888888888,
              "#fdca26"
             ],
             [
              1,
              "#f0f921"
             ]
            ],
            "type": "surface"
           }
          ],
          "table": [
           {
            "cells": {
             "fill": {
              "color": "#EBF0F8"
             },
             "line": {
              "color": "white"
             }
            },
            "header": {
             "fill": {
              "color": "#C8D4E3"
             },
             "line": {
              "color": "white"
             }
            },
            "type": "table"
           }
          ]
         },
         "layout": {
          "annotationdefaults": {
           "arrowcolor": "#2a3f5f",
           "arrowhead": 0,
           "arrowwidth": 1
          },
          "autotypenumbers": "strict",
          "coloraxis": {
           "colorbar": {
            "outlinewidth": 0,
            "ticks": ""
           }
          },
          "colorscale": {
           "diverging": [
            [
             0,
             "#8e0152"
            ],
            [
             0.1,
             "#c51b7d"
            ],
            [
             0.2,
             "#de77ae"
            ],
            [
             0.3,
             "#f1b6da"
            ],
            [
             0.4,
             "#fde0ef"
            ],
            [
             0.5,
             "#f7f7f7"
            ],
            [
             0.6,
             "#e6f5d0"
            ],
            [
             0.7,
             "#b8e186"
            ],
            [
             0.8,
             "#7fbc41"
            ],
            [
             0.9,
             "#4d9221"
            ],
            [
             1,
             "#276419"
            ]
           ],
           "sequential": [
            [
             0,
             "#0d0887"
            ],
            [
             0.1111111111111111,
             "#46039f"
            ],
            [
             0.2222222222222222,
             "#7201a8"
            ],
            [
             0.3333333333333333,
             "#9c179e"
            ],
            [
             0.4444444444444444,
             "#bd3786"
            ],
            [
             0.5555555555555556,
             "#d8576b"
            ],
            [
             0.6666666666666666,
             "#ed7953"
            ],
            [
             0.7777777777777778,
             "#fb9f3a"
            ],
            [
             0.8888888888888888,
             "#fdca26"
            ],
            [
             1,
             "#f0f921"
            ]
           ],
           "sequentialminus": [
            [
             0,
             "#0d0887"
            ],
            [
             0.1111111111111111,
             "#46039f"
            ],
            [
             0.2222222222222222,
             "#7201a8"
            ],
            [
             0.3333333333333333,
             "#9c179e"
            ],
            [
             0.4444444444444444,
             "#bd3786"
            ],
            [
             0.5555555555555556,
             "#d8576b"
            ],
            [
             0.6666666666666666,
             "#ed7953"
            ],
            [
             0.7777777777777778,
             "#fb9f3a"
            ],
            [
             0.8888888888888888,
             "#fdca26"
            ],
            [
             1,
             "#f0f921"
            ]
           ]
          },
          "colorway": [
           "#636efa",
           "#EF553B",
           "#00cc96",
           "#ab63fa",
           "#FFA15A",
           "#19d3f3",
           "#FF6692",
           "#B6E880",
           "#FF97FF",
           "#FECB52"
          ],
          "font": {
           "color": "#2a3f5f"
          },
          "geo": {
           "bgcolor": "white",
           "lakecolor": "white",
           "landcolor": "white",
           "showlakes": true,
           "showland": true,
           "subunitcolor": "#C8D4E3"
          },
          "hoverlabel": {
           "align": "left"
          },
          "hovermode": "closest",
          "mapbox": {
           "style": "light"
          },
          "paper_bgcolor": "white",
          "plot_bgcolor": "white",
          "polar": {
           "angularaxis": {
            "gridcolor": "#EBF0F8",
            "linecolor": "#EBF0F8",
            "ticks": ""
           },
           "bgcolor": "white",
           "radialaxis": {
            "gridcolor": "#EBF0F8",
            "linecolor": "#EBF0F8",
            "ticks": ""
           }
          },
          "scene": {
           "xaxis": {
            "backgroundcolor": "white",
            "gridcolor": "#DFE8F3",
            "gridwidth": 2,
            "linecolor": "#EBF0F8",
            "showbackground": true,
            "ticks": "",
            "zerolinecolor": "#EBF0F8"
           },
           "yaxis": {
            "backgroundcolor": "white",
            "gridcolor": "#DFE8F3",
            "gridwidth": 2,
            "linecolor": "#EBF0F8",
            "showbackground": true,
            "ticks": "",
            "zerolinecolor": "#EBF0F8"
           },
           "zaxis": {
            "backgroundcolor": "white",
            "gridcolor": "#DFE8F3",
            "gridwidth": 2,
            "linecolor": "#EBF0F8",
            "showbackground": true,
            "ticks": "",
            "zerolinecolor": "#EBF0F8"
           }
          },
          "shapedefaults": {
           "line": {
            "color": "#2a3f5f"
           }
          },
          "ternary": {
           "aaxis": {
            "gridcolor": "#DFE8F3",
            "linecolor": "#A2B1C6",
            "ticks": ""
           },
           "baxis": {
            "gridcolor": "#DFE8F3",
            "linecolor": "#A2B1C6",
            "ticks": ""
           },
           "bgcolor": "white",
           "caxis": {
            "gridcolor": "#DFE8F3",
            "linecolor": "#A2B1C6",
            "ticks": ""
           }
          },
          "title": {
           "x": 0.05
          },
          "xaxis": {
           "automargin": true,
           "gridcolor": "#EBF0F8",
           "linecolor": "#EBF0F8",
           "ticks": "",
           "title": {
            "standoff": 15
           },
           "zerolinecolor": "#EBF0F8",
           "zerolinewidth": 2
          },
          "yaxis": {
           "automargin": true,
           "gridcolor": "#EBF0F8",
           "linecolor": "#EBF0F8",
           "ticks": "",
           "title": {
            "standoff": 15
           },
           "zerolinecolor": "#EBF0F8",
           "zerolinewidth": 2
          }
         }
        },
        "width": 850,
        "xaxis": {
         "anchor": "y",
         "domain": [
          0,
          1
         ],
         "range": [
          0.37,
          0.63
         ],
         "tickfont": {
          "size": 20
         },
         "title": {
          "text": "sTUT>dTUT              sTUT<dTUT"
         },
         "visible": true
        },
        "yaxis": {
         "anchor": "x",
         "automargin": true,
         "autorange": false,
         "domain": [
          0,
          1
         ],
         "dtick": 1,
         "range": [
          -1,
          54
         ],
         "tickfont": {
          "size": 20
         },
         "title": {
          "text": ""
         }
        }
       }
      },
      "text/html": [
       "<div>                            <div id=\"05e49cbf-c1d2-4031-b156-67eb354bdc0b\" class=\"plotly-graph-div\" style=\"height:1300px; width:850px;\"></div>            <script type=\"text/javascript\">                require([\"plotly\"], function(Plotly) {                    window.PLOTLYENV=window.PLOTLYENV || {};                                    if (document.getElementById(\"05e49cbf-c1d2-4031-b156-67eb354bdc0b\")) {                    Plotly.newPlot(                        \"05e49cbf-c1d2-4031-b156-67eb354bdc0b\",                        [{\"hovertemplate\":\"Statistical Significance=p > 0.05<br>sTUT>dTUT              sTUT<dTUT=%{x}<br>=%{y}<extra></extra>\",\"legendgroup\":\"p > 0.05\",\"marker\":{\"color\":\"#42B9B2\",\"symbol\":\"circle-open\",\"size\":13},\"mode\":\"markers\",\"name\":\"p > 0.05\",\"orientation\":\"h\",\"showlegend\":true,\"x\":[0.457048951048951,0.4649370629370629,0.4707832167832168,0.4743496503496504,0.4753146853146853,0.4754545454545454,0.4757552447552448,0.4788741258741258,0.4808251748251748,0.4823356643356644,0.4825804195804196,0.4861818181818181,0.4886293706293706,0.4896783216783217,0.4939020979020979,0.496041958041958,0.4963356643356643,0.4964755244755244,0.4965034965034965,0.4983496503496503,0.4985594405594405,0.5013846153846153,0.5056643356643358,0.5065174825174825,0.5073986013986014,0.507972027972028,0.5105034965034965,0.5129510489510489,0.5146293706293706,0.5153706293706294,0.5178321678321679,0.52,0.5207132867132866,0.5208111888111888,0.521146853146853,0.5232027972027973,0.5244755244755245,0.525020979020979,0.5286573426573427,0.5296223776223776,0.5310349650349651,0.5313986013986014,0.5379020979020979,0.5395524475524476,0.5432097902097902],\"xaxis\":\"x\",\"y\":[\"$P3a_{mean}$\",\"$wSMI\\\\gamma_{mean}$\",\"$|\\\\theta|_{std}$\",\"$wSMI\\\\gamma_{std}$\",\"$PE\\\\theta_{std}$\",\"$|\\\\gamma|_{mean}$\",\"$SEF95_{mean}$\",\"$SEF90_{mean}$\",\"$\\\\delta_{mean}$\",\"$wSMI\\\\beta_{std}$\",\"$K_{std}$\",\"$\\\\theta_{std}$\",\"$|\\\\theta|_{mean}$\",\"$|\\\\delta|_{std}$\",\"$wSMI\\\\alpha_{mean}$\",\"$K_{mean}$\",\"$CNV_{std}$\",\"$CNV_{mean}$\",\"$|\\\\gamma|_{std}$\",\"$wSMI\\\\beta_{mean}$\",\"$PE\\\\alpha_{std}$\",\"$SEF90_{std}$\",\"$PE\\\\alpha_{mean}$\",\"$SEF95_{std}$\",\"$PE\\\\beta_{std}$\",\"$\\\\gamma_{std}$\",\"$P3b_{std}$\",\"$SE_{mean}$\",\"$\\\\gamma_{mean}$\",\"$wSMI\\\\theta_{std}$\",\"$PE\\\\gamma_{std}$\",\"$wSMI\\\\alpha_{std}$\",\"$wSMI\\\\theta_{mean}$\",\"$SE_{std}$\",\"$|\\\\beta|_{mean}$\",\"$P1_{mean}$\",\"$|\\\\beta|_{std}$\",\"$\\\\delta_{std}$\",\"$P3a_{std}$\",\"$P3b_{mean}$\",\"$MSF_{std}$\",\"$\\\\beta_{std}$\",\"$P1_{std}$\",\"$\\\\theta_{mean}$\",\"$MSF_{mean}$\"],\"yaxis\":\"y\",\"type\":\"scatter\"},{\"hovertemplate\":\"Statistical Significance=p < 0.05 uncorrected<br>sTUT>dTUT              sTUT<dTUT=%{x}<br>=%{y}<extra></extra>\",\"legendgroup\":\"p < 0.05 uncorrected\",\"marker\":{\"color\":\"#42B9B2\",\"symbol\":\"circle\",\"size\":13},\"mode\":\"markers\",\"name\":\"p < 0.05 uncorrected\",\"orientation\":\"h\",\"showlegend\":true,\"x\":[0.4309790209790209,0.4416783216783216,0.5513146853146853,0.5575664335664337],\"xaxis\":\"x\",\"y\":[\"$PE\\\\beta_{mean}$\",\"$PE\\\\gamma_{mean}$\",\"$\\\\alpha_{std}$\",\"$|\\\\alpha|_{std}$\"],\"yaxis\":\"y\",\"type\":\"scatter\"},{\"hovertemplate\":\"Statistical Significance=p < 0.05 FDR corrected<br>sTUT>dTUT              sTUT<dTUT=%{x}<br>=%{y}<extra></extra>\",\"legendgroup\":\"p < 0.05 FDR corrected\",\"marker\":{\"color\":\"#42B9B2\",\"symbol\":\"hexagram\",\"size\":13},\"mode\":\"markers\",\"name\":\"p < 0.05 FDR corrected\",\"orientation\":\"h\",\"showlegend\":true,\"x\":[0.4113006993006993,0.5759440559440561,0.5925034965034965,0.5980279720279721,0.6251468531468533],\"xaxis\":\"x\",\"y\":[\"$|\\\\delta|_{mean}$\",\"$\\\\beta_{mean}$\",\"$|\\\\alpha|_{mean}$\",\"$\\\\alpha_{mean}$\",\"$PE\\\\theta_{mean}$\"],\"yaxis\":\"y\",\"type\":\"scatter\"}],                        {\"template\":{\"data\":{\"barpolar\":[{\"marker\":{\"line\":{\"color\":\"white\",\"width\":0.5},\"pattern\":{\"fillmode\":\"overlay\",\"size\":10,\"solidity\":0.2}},\"type\":\"barpolar\"}],\"bar\":[{\"error_x\":{\"color\":\"#2a3f5f\"},\"error_y\":{\"color\":\"#2a3f5f\"},\"marker\":{\"line\":{\"color\":\"white\",\"width\":0.5},\"pattern\":{\"fillmode\":\"overlay\",\"size\":10,\"solidity\":0.2}},\"type\":\"bar\"}],\"carpet\":[{\"aaxis\":{\"endlinecolor\":\"#2a3f5f\",\"gridcolor\":\"#C8D4E3\",\"linecolor\":\"#C8D4E3\",\"minorgridcolor\":\"#C8D4E3\",\"startlinecolor\":\"#2a3f5f\"},\"baxis\":{\"endlinecolor\":\"#2a3f5f\",\"gridcolor\":\"#C8D4E3\",\"linecolor\":\"#C8D4E3\",\"minorgridcolor\":\"#C8D4E3\",\"startlinecolor\":\"#2a3f5f\"},\"type\":\"carpet\"}],\"choropleth\":[{\"colorbar\":{\"outlinewidth\":0,\"ticks\":\"\"},\"type\":\"choropleth\"}],\"contourcarpet\":[{\"colorbar\":{\"outlinewidth\":0,\"ticks\":\"\"},\"type\":\"contourcarpet\"}],\"contour\":[{\"colorbar\":{\"outlinewidth\":0,\"ticks\":\"\"},\"colorscale\":[[0.0,\"#0d0887\"],[0.1111111111111111,\"#46039f\"],[0.2222222222222222,\"#7201a8\"],[0.3333333333333333,\"#9c179e\"],[0.4444444444444444,\"#bd3786\"],[0.5555555555555556,\"#d8576b\"],[0.6666666666666666,\"#ed7953\"],[0.7777777777777778,\"#fb9f3a\"],[0.8888888888888888,\"#fdca26\"],[1.0,\"#f0f921\"]],\"type\":\"contour\"}],\"heatmapgl\":[{\"colorbar\":{\"outlinewidth\":0,\"ticks\":\"\"},\"colorscale\":[[0.0,\"#0d0887\"],[0.1111111111111111,\"#46039f\"],[0.2222222222222222,\"#7201a8\"],[0.3333333333333333,\"#9c179e\"],[0.4444444444444444,\"#bd3786\"],[0.5555555555555556,\"#d8576b\"],[0.6666666666666666,\"#ed7953\"],[0.7777777777777778,\"#fb9f3a\"],[0.8888888888888888,\"#fdca26\"],[1.0,\"#f0f921\"]],\"type\":\"heatmapgl\"}],\"heatmap\":[{\"colorbar\":{\"outlinewidth\":0,\"ticks\":\"\"},\"colorscale\":[[0.0,\"#0d0887\"],[0.1111111111111111,\"#46039f\"],[0.2222222222222222,\"#7201a8\"],[0.3333333333333333,\"#9c179e\"],[0.4444444444444444,\"#bd3786\"],[0.5555555555555556,\"#d8576b\"],[0.6666666666666666,\"#ed7953\"],[0.7777777777777778,\"#fb9f3a\"],[0.8888888888888888,\"#fdca26\"],[1.0,\"#f0f921\"]],\"type\":\"heatmap\"}],\"histogram2dcontour\":[{\"colorbar\":{\"outlinewidth\":0,\"ticks\":\"\"},\"colorscale\":[[0.0,\"#0d0887\"],[0.1111111111111111,\"#46039f\"],[0.2222222222222222,\"#7201a8\"],[0.3333333333333333,\"#9c179e\"],[0.4444444444444444,\"#bd3786\"],[0.5555555555555556,\"#d8576b\"],[0.6666666666666666,\"#ed7953\"],[0.7777777777777778,\"#fb9f3a\"],[0.8888888888888888,\"#fdca26\"],[1.0,\"#f0f921\"]],\"type\":\"histogram2dcontour\"}],\"histogram2d\":[{\"colorbar\":{\"outlinewidth\":0,\"ticks\":\"\"},\"colorscale\":[[0.0,\"#0d0887\"],[0.1111111111111111,\"#46039f\"],[0.2222222222222222,\"#7201a8\"],[0.3333333333333333,\"#9c179e\"],[0.4444444444444444,\"#bd3786\"],[0.5555555555555556,\"#d8576b\"],[0.6666666666666666,\"#ed7953\"],[0.7777777777777778,\"#fb9f3a\"],[0.8888888888888888,\"#fdca26\"],[1.0,\"#f0f921\"]],\"type\":\"histogram2d\"}],\"histogram\":[{\"marker\":{\"pattern\":{\"fillmode\":\"overlay\",\"size\":10,\"solidity\":0.2}},\"type\":\"histogram\"}],\"mesh3d\":[{\"colorbar\":{\"outlinewidth\":0,\"ticks\":\"\"},\"type\":\"mesh3d\"}],\"parcoords\":[{\"line\":{\"colorbar\":{\"outlinewidth\":0,\"ticks\":\"\"}},\"type\":\"parcoords\"}],\"pie\":[{\"automargin\":true,\"type\":\"pie\"}],\"scatter3d\":[{\"line\":{\"colorbar\":{\"outlinewidth\":0,\"ticks\":\"\"}},\"marker\":{\"colorbar\":{\"outlinewidth\":0,\"ticks\":\"\"}},\"type\":\"scatter3d\"}],\"scattercarpet\":[{\"marker\":{\"colorbar\":{\"outlinewidth\":0,\"ticks\":\"\"}},\"type\":\"scattercarpet\"}],\"scattergeo\":[{\"marker\":{\"colorbar\":{\"outlinewidth\":0,\"ticks\":\"\"}},\"type\":\"scattergeo\"}],\"scattergl\":[{\"marker\":{\"colorbar\":{\"outlinewidth\":0,\"ticks\":\"\"}},\"type\":\"scattergl\"}],\"scattermapbox\":[{\"marker\":{\"colorbar\":{\"outlinewidth\":0,\"ticks\":\"\"}},\"type\":\"scattermapbox\"}],\"scatterpolargl\":[{\"marker\":{\"colorbar\":{\"outlinewidth\":0,\"ticks\":\"\"}},\"type\":\"scatterpolargl\"}],\"scatterpolar\":[{\"marker\":{\"colorbar\":{\"outlinewidth\":0,\"ticks\":\"\"}},\"type\":\"scatterpolar\"}],\"scatter\":[{\"marker\":{\"colorbar\":{\"outlinewidth\":0,\"ticks\":\"\"}},\"type\":\"scatter\"}],\"scatterternary\":[{\"marker\":{\"colorbar\":{\"outlinewidth\":0,\"ticks\":\"\"}},\"type\":\"scatterternary\"}],\"surface\":[{\"colorbar\":{\"outlinewidth\":0,\"ticks\":\"\"},\"colorscale\":[[0.0,\"#0d0887\"],[0.1111111111111111,\"#46039f\"],[0.2222222222222222,\"#7201a8\"],[0.3333333333333333,\"#9c179e\"],[0.4444444444444444,\"#bd3786\"],[0.5555555555555556,\"#d8576b\"],[0.6666666666666666,\"#ed7953\"],[0.7777777777777778,\"#fb9f3a\"],[0.8888888888888888,\"#fdca26\"],[1.0,\"#f0f921\"]],\"type\":\"surface\"}],\"table\":[{\"cells\":{\"fill\":{\"color\":\"#EBF0F8\"},\"line\":{\"color\":\"white\"}},\"header\":{\"fill\":{\"color\":\"#C8D4E3\"},\"line\":{\"color\":\"white\"}},\"type\":\"table\"}]},\"layout\":{\"annotationdefaults\":{\"arrowcolor\":\"#2a3f5f\",\"arrowhead\":0,\"arrowwidth\":1},\"autotypenumbers\":\"strict\",\"coloraxis\":{\"colorbar\":{\"outlinewidth\":0,\"ticks\":\"\"}},\"colorscale\":{\"diverging\":[[0,\"#8e0152\"],[0.1,\"#c51b7d\"],[0.2,\"#de77ae\"],[0.3,\"#f1b6da\"],[0.4,\"#fde0ef\"],[0.5,\"#f7f7f7\"],[0.6,\"#e6f5d0\"],[0.7,\"#b8e186\"],[0.8,\"#7fbc41\"],[0.9,\"#4d9221\"],[1,\"#276419\"]],\"sequential\":[[0.0,\"#0d0887\"],[0.1111111111111111,\"#46039f\"],[0.2222222222222222,\"#7201a8\"],[0.3333333333333333,\"#9c179e\"],[0.4444444444444444,\"#bd3786\"],[0.5555555555555556,\"#d8576b\"],[0.6666666666666666,\"#ed7953\"],[0.7777777777777778,\"#fb9f3a\"],[0.8888888888888888,\"#fdca26\"],[1.0,\"#f0f921\"]],\"sequentialminus\":[[0.0,\"#0d0887\"],[0.1111111111111111,\"#46039f\"],[0.2222222222222222,\"#7201a8\"],[0.3333333333333333,\"#9c179e\"],[0.4444444444444444,\"#bd3786\"],[0.5555555555555556,\"#d8576b\"],[0.6666666666666666,\"#ed7953\"],[0.7777777777777778,\"#fb9f3a\"],[0.8888888888888888,\"#fdca26\"],[1.0,\"#f0f921\"]]},\"colorway\":[\"#636efa\",\"#EF553B\",\"#00cc96\",\"#ab63fa\",\"#FFA15A\",\"#19d3f3\",\"#FF6692\",\"#B6E880\",\"#FF97FF\",\"#FECB52\"],\"font\":{\"color\":\"#2a3f5f\"},\"geo\":{\"bgcolor\":\"white\",\"lakecolor\":\"white\",\"landcolor\":\"white\",\"showlakes\":true,\"showland\":true,\"subunitcolor\":\"#C8D4E3\"},\"hoverlabel\":{\"align\":\"left\"},\"hovermode\":\"closest\",\"mapbox\":{\"style\":\"light\"},\"paper_bgcolor\":\"white\",\"plot_bgcolor\":\"white\",\"polar\":{\"angularaxis\":{\"gridcolor\":\"#EBF0F8\",\"linecolor\":\"#EBF0F8\",\"ticks\":\"\"},\"bgcolor\":\"white\",\"radialaxis\":{\"gridcolor\":\"#EBF0F8\",\"linecolor\":\"#EBF0F8\",\"ticks\":\"\"}},\"scene\":{\"xaxis\":{\"backgroundcolor\":\"white\",\"gridcolor\":\"#DFE8F3\",\"gridwidth\":2,\"linecolor\":\"#EBF0F8\",\"showbackground\":true,\"ticks\":\"\",\"zerolinecolor\":\"#EBF0F8\"},\"yaxis\":{\"backgroundcolor\":\"white\",\"gridcolor\":\"#DFE8F3\",\"gridwidth\":2,\"linecolor\":\"#EBF0F8\",\"showbackground\":true,\"ticks\":\"\",\"zerolinecolor\":\"#EBF0F8\"},\"zaxis\":{\"backgroundcolor\":\"white\",\"gridcolor\":\"#DFE8F3\",\"gridwidth\":2,\"linecolor\":\"#EBF0F8\",\"showbackground\":true,\"ticks\":\"\",\"zerolinecolor\":\"#EBF0F8\"}},\"shapedefaults\":{\"line\":{\"color\":\"#2a3f5f\"}},\"ternary\":{\"aaxis\":{\"gridcolor\":\"#DFE8F3\",\"linecolor\":\"#A2B1C6\",\"ticks\":\"\"},\"baxis\":{\"gridcolor\":\"#DFE8F3\",\"linecolor\":\"#A2B1C6\",\"ticks\":\"\"},\"bgcolor\":\"white\",\"caxis\":{\"gridcolor\":\"#DFE8F3\",\"linecolor\":\"#A2B1C6\",\"ticks\":\"\"}},\"title\":{\"x\":0.05},\"xaxis\":{\"automargin\":true,\"gridcolor\":\"#EBF0F8\",\"linecolor\":\"#EBF0F8\",\"ticks\":\"\",\"title\":{\"standoff\":15},\"zerolinecolor\":\"#EBF0F8\",\"zerolinewidth\":2},\"yaxis\":{\"automargin\":true,\"gridcolor\":\"#EBF0F8\",\"linecolor\":\"#EBF0F8\",\"ticks\":\"\",\"title\":{\"standoff\":15},\"zerolinecolor\":\"#EBF0F8\",\"zerolinewidth\":2}}},\"xaxis\":{\"anchor\":\"y\",\"domain\":[0.0,1.0],\"title\":{\"text\":\"sTUT>dTUT              sTUT<dTUT\"},\"tickfont\":{\"size\":20},\"visible\":true,\"range\":[0.37,0.63]},\"yaxis\":{\"anchor\":\"x\",\"domain\":[0.0,1.0],\"title\":{\"text\":\"\"},\"tickfont\":{\"size\":20},\"autorange\":false,\"automargin\":true,\"range\":[-1,54],\"dtick\":1},\"legend\":{\"title\":{\"text\":\"Statistical Significance\"},\"tracegroupgap\":0},\"margin\":{\"t\":60},\"shapes\":[{\"line\":{\"color\":\"grey\",\"dash\":\"dash\",\"width\":3},\"type\":\"line\",\"x0\":0.5,\"x1\":0.5,\"xref\":\"x\",\"y0\":0,\"y1\":1,\"yref\":\"y domain\"}],\"font\":{\"family\":\"Times new roman\",\"size\":20,\"color\":\"black\"},\"width\":850,\"height\":1300,\"showlegend\":true},                        {\"responsive\": true}                    ).then(function(){\n",
       "                            \n",
       "var gd = document.getElementById('05e49cbf-c1d2-4031-b156-67eb354bdc0b');\n",
       "var x = new MutationObserver(function (mutations, observer) {{\n",
       "        var display = window.getComputedStyle(gd).display;\n",
       "        if (!display || display === 'none') {{\n",
       "            console.log([gd, 'removed!']);\n",
       "            Plotly.purge(gd);\n",
       "            observer.disconnect();\n",
       "        }}\n",
       "}});\n",
       "\n",
       "// Listen for the removal of the full notebook cells\n",
       "var notebookContainer = gd.closest('#notebook-container');\n",
       "if (notebookContainer) {{\n",
       "    x.observe(notebookContainer, {childList: true});\n",
       "}}\n",
       "\n",
       "// Listen for the clearing of the current output cell\n",
       "var outputEl = gd.closest('.output');\n",
       "if (outputEl) {{\n",
       "    x.observe(outputEl, {childList: true});\n",
       "}}\n",
       "\n",
       "                        })                };                });            </script>        </div>"
      ]
     },
     "metadata": {},
     "output_type": "display_data"
    }
   ],
   "source": [
    "segment_mw_roc = pd.read_csv('Data/univariate_roc_mw_segment.csv')\n",
    "\n",
    "# segment_mw_roc = segment_mw_roc.sort_values(by = 'AUC', ascending = False).head(10).append(segment_mw_roc.sort_values(by = 'AUC', ascending = False).tail(10))\n",
    "\n",
    "fig = px.scatter(segment_mw_roc.sort_values(by = 'AUC'),x = 'AUC', y = 'markers', template = \"plotly_white\", symbol = 'significant', \n",
    "                 symbol_sequence = ['circle-open','circle','hexagram' ],\n",
    "#                  color = 'significant',\n",
    "                 color_discrete_sequence = [lblue, green,orange, pink], \n",
    "                 \n",
    "                 category_orders = {'significant': ['p > 0.05','p < 0.05 uncorrected', 'p < 0.05 FDR corrected']},\n",
    "                 labels = {'AUC': 'sTUT>dTUT              sTUT<dTUT', 'significant': 'Statistical Significance', 'markers':''}\n",
    "                )\n",
    "fig.add_vline(x=0.5, line_width=3, line_dash=\"dash\", line_color=\"grey\")\n",
    "fig.update_traces(marker=dict(size = 13))\n",
    "\n",
    "fig.update_layout(\n",
    "    width=850,\n",
    "    height=1300,\n",
    "#     autosize = True, \n",
    "    template = 'plotly_white',\n",
    "        font=dict(\n",
    "        family=\"Times new roman\",\n",
    "        size=20,\n",
    "        color=\"black\"\n",
    "    ),\n",
    "    xaxis = dict(\n",
    "            visible=True,\n",
    "            range = [0.37,0.63], \n",
    "            tickfont = {\"size\": 20},\n",
    "        ),\n",
    "    yaxis = dict(\n",
    "        tickfont = {\"size\": 20},\n",
    "        autorange = False,    \n",
    "        automargin = True,\n",
    "        range = [-1,len(segment_mind_roc)],\n",
    "        dtick = 1\n",
    "        ),\n",
    "    showlegend=True, \n",
    "\n",
    ")\n",
    "\n",
    "fig.show()\n",
    "pio.write_json(fig, 'Figs/univariate_roc_mw_segment.plotly')\n",
    "fig.write_image('Figs/univariate_roc_mw_segment.png')\n",
    "fig.write_image(\"Figs//univariate_roc_mw_segment.pdf\")"
   ]
  },
  {
   "cell_type": "code",
   "execution_count": 17,
   "id": "charged-virginia",
   "metadata": {},
   "outputs": [
    {
     "name": "stdout",
     "output_type": "stream",
     "text": [
      "AUC $wSMI\\gamma_{mean}$ = 0.5350591133004926\n",
      "p_value = 0.11988011988011989\n",
      "AUC $wSMI\\gamma_{std}$ = 0.5173054187192118\n",
      "p_value = 0.2777222777222777\n",
      "AUC $wSMI\\beta_{mean}$ = 0.48876847290640396\n",
      "p_value = 0.6493506493506493\n",
      "AUC $wSMI\\beta_{std}$ = 0.5116600985221674\n",
      "p_value = 0.33766233766233766\n",
      "AUC $wSMI\\alpha_{mean}$ = 0.4866305418719212\n",
      "p_value = 0.6973026973026973\n",
      "AUC $wSMI\\alpha_{std}$ = 0.46122167487684723\n",
      "p_value = 0.8981018981018981\n",
      "AUC $wSMI\\theta_{mean}$ = 0.465\n",
      "p_value = 0.8751248751248751\n",
      "AUC $wSMI\\theta_{std}$ = 0.5061625615763546\n",
      "p_value = 0.4005994005994006\n",
      "AUC $PE\\gamma_{mean}$ = 0.5565024630541873\n",
      "p_value = 0.017982017982017984\n",
      "AUC $PE\\gamma_{std}$ = 0.4659064039408867\n",
      "p_value = 0.8651348651348651\n",
      "AUC $PE\\beta_{mean}$ = 0.5654926108374384\n",
      "p_value = 0.01098901098901099\n",
      "AUC $PE\\beta_{std}$ = 0.4930443349753695\n",
      "p_value = 0.5634365634365635\n",
      "AUC $PE\\alpha_{mean}$ = 0.4806354679802956\n",
      "p_value = 0.7592407592407593\n",
      "AUC $PE\\alpha_{std}$ = 0.5235960591133004\n",
      "p_value = 0.22577422577422576\n",
      "AUC $PE\\theta_{mean}$ = 0.6303152709359605\n",
      "p_value = 0.000999000999000999\n",
      "AUC $PE\\theta_{std}$ = 0.5037339901477833\n",
      "p_value = 0.4515484515484515\n",
      "AUC $K_{mean}$ = 0.5150640394088669\n",
      "p_value = 0.3016983016983017\n",
      "AUC $K_{std}$ = 0.47155172413793106\n",
      "p_value = 0.8391608391608392\n",
      "AUC $SE_{mean}$ = 0.49703448275862067\n",
      "p_value = 0.5224775224775224\n",
      "AUC $SE_{std}$ = 0.5214778325123153\n",
      "p_value = 0.24275724275724275\n",
      "AUC $MSF_{mean}$ = 0.4404285714285714\n",
      "p_value = 0.972027972027972\n",
      "AUC $MSF_{std}$ = 0.5340689655172414\n",
      "p_value = 0.12387612387612387\n",
      "AUC $SEF90_{mean}$ = 0.5277536945812807\n",
      "p_value = 0.18581418581418582\n",
      "AUC $SEF90_{std}$ = 0.47514039408867\n",
      "p_value = 0.7902097902097902\n",
      "AUC $SEF95_{mean}$ = 0.5378669950738917\n",
      "p_value = 0.1028971028971029\n",
      "AUC $SEF95_{std}$ = 0.4928325123152709\n",
      "p_value = 0.6293706293706294\n",
      "AUC $\\beta_{mean}$ = 0.5818669950738917\n",
      "p_value = 0.003996003996003996\n",
      "AUC $\\beta_{std}$ = 0.46420197044334977\n",
      "p_value = 0.903096903096903\n",
      "AUC $|\\beta|_{mean}$ = 0.5016305418719211\n",
      "p_value = 0.48151848151848153\n",
      "AUC $|\\beta|_{std}$ = 0.4759950738916256\n",
      "p_value = 0.7882117882117882\n",
      "AUC $\\gamma_{mean}$ = 0.510423645320197\n",
      "p_value = 0.3516483516483517\n",
      "AUC $\\gamma_{std}$ = 0.4931133004926108\n",
      "p_value = 0.5864135864135864\n",
      "AUC $|\\gamma|_{mean}$ = 0.5144532019704433\n",
      "p_value = 0.31368631368631367\n",
      "AUC $|\\gamma|_{std}$ = 0.4918866995073891\n",
      "p_value = 0.5954045954045954\n",
      "AUC $\\theta_{mean}$ = 0.5622857142857143\n",
      "p_value = 0.014985014985014986\n",
      "AUC $\\theta_{std}$ = 0.48574384236453205\n",
      "p_value = 0.6913086913086913\n",
      "AUC $|\\theta|_{mean}$ = 0.5247093596059113\n",
      "p_value = 0.19480519480519481\n",
      "AUC $|\\theta|_{std}$ = 0.4810049261083743\n",
      "p_value = 0.7482517482517482\n",
      "AUC $\\delta_{mean}$ = 0.5033596059113301\n",
      "p_value = 0.47052947052947053\n",
      "AUC $\\delta_{std}$ = 0.5416206896551723\n",
      "p_value = 0.1018981018981019\n",
      "AUC $|\\delta|_{mean}$ = 0.5899162561576354\n",
      "p_value = 0.000999000999000999\n",
      "AUC $|\\delta|_{std}$ = 0.5039310344827586\n",
      "p_value = 0.46353646353646355\n",
      "AUC $|\\alpha|_{mean}$ = 0.5939802955665024\n",
      "p_value = 0.000999000999000999\n",
      "AUC $|\\alpha|_{std}$ = 0.5407142857142857\n",
      "p_value = 0.1028971028971029\n",
      "AUC $\\alpha_{mean}$ = 0.6059753694581281\n",
      "p_value = 0.000999000999000999\n",
      "AUC $\\alpha_{std}$ = 0.5247389162561575\n",
      "p_value = 0.1928071928071928\n",
      "AUC $CNV_{mean}$ = 0.5219901477832511\n",
      "p_value = 0.21878121878121878\n",
      "AUC $CNV_{std}$ = 0.45424137931034475\n",
      "p_value = 0.939060939060939\n",
      "AUC $P1_{mean}$ = 0.4697389162561576\n",
      "p_value = 0.8501498501498501\n",
      "AUC $P1_{std}$ = 0.4669605911330049\n",
      "p_value = 0.8721278721278721\n",
      "AUC $P3a_{mean}$ = 0.5364827586206896\n",
      "p_value = 0.11488511488511488\n",
      "AUC $P3a_{std}$ = 0.47836453201970447\n",
      "p_value = 0.7672327672327672\n",
      "AUC $P3b_{mean}$ = 0.5114532019704433\n",
      "p_value = 0.35364635364635366\n",
      "AUC $P3b_{std}$ = 0.44831034482758625\n",
      "p_value = 0.951048951048951\n",
      "AUC mind_order = 1.0\n",
      "p_value = 0.000999000999000999\n"
     ]
    }
   ],
   "source": [
    "AUC = pd.DataFrame()\n",
    "pvalues = {}\n",
    "for i in df_mw.drop('mind', axis = 1).columns:\n",
    "    \n",
    "\n",
    "    AUC[i], pvalues[i] =  univariate_classifier(\n",
    "    data= df_mw, label = 'mind', feature = i, model = 'SVM', grid_search=False, permutation=True, n_permutations = 1000\n",
    ")\n",
    "\n",
    "    \n",
    "p_df =pd.DataFrame.from_dict(pvalues, orient = 'index', columns = ['p_value']).reset_index().rename(columns ={'index': 'markers'})\n",
    "svc_mw = (AUC.reset_index().melt(id_vars = ['index'], var_name = 'markers', value_name = 'AUC')\n",
    "            .drop('index', axis = 1)\n",
    "            .merge(p_df, on = 'markers', how = 'inner')\n",
    "            .assign(p_corrected = lambda df: multipletests(df.p_value, method = 'fdr_bh')[1],\n",
    "                    significant = lambda df: np.select([(df.p_value < 0.05) & (df.p_corrected < 0.05), (df.p_value < 0.05) & (df.p_corrected > 0.05),  \n",
    "                                                 (df.p_value > 0.05) & (df.p_corrected > 0.05)], ['p < 0.05 FDR corrected','p < 0.05 uncorrected', 'p > 0.05']))\n",
    "           )\n",
    "svc_mw.to_csv('Data/univariate_svc_mw.csv')"
   ]
  },
  {
   "cell_type": "code",
   "execution_count": 18,
   "id": "competent-sympathy",
   "metadata": {},
   "outputs": [
    {
     "data": {
      "application/vnd.plotly.v1+json": {
       "config": {
        "plotlyServerURL": "https://plot.ly"
       },
       "data": [
        {
         "alignmentgroup": "True",
         "hovertemplate": "significant=p > 0.05<br>AUC=%{x}<br>markers=%{y}<extra></extra>",
         "legendgroup": "p > 0.05",
         "marker": {
          "color": "#9AC529"
         },
         "name": "p > 0.05",
         "notched": false,
         "offsetgroup": "p > 0.05",
         "orientation": "h",
         "showlegend": true,
         "type": "box",
         "x": [
          0.5668965517241379,
          0.5779310344827586,
          0.5931034482758621,
          0.6041379310344829,
          0.5186206896551724,
          0.4827586206896552,
          0.5028571428571429,
          0.5428571428571428,
          0.4628571428571428,
          0.4985714285714286,
          0.5489655172413793,
          0.3186206896551724,
          0.5462068965517242,
          0.5296551724137931,
          0.5406896551724137,
          0.5103448275862069,
          0.5071428571428571,
          0.56,
          0.5457142857142856,
          0.5657142857142857,
          0.5062068965517241,
          0.5213793103448275,
          0.3158620689655172,
          0.5903448275862069,
          0.4606896551724138,
          0.4303448275862069,
          0.4614285714285713,
          0.5471428571428572,
          0.4828571428571428,
          0.5714285714285714,
          0.6372413793103447,
          0.5793103448275863,
          0.5365517241379311,
          0.4896551724137931,
          0.3751724137931034,
          0.4772413793103449,
          0.5514285714285714,
          0.4757142857142856,
          0.5714285714285714,
          0.4228571428571429,
          0.5186206896551724,
          0.4648275862068965,
          0.5324137931034483,
          0.4193103448275862,
          0.5544827586206896,
          0.4537931034482759,
          0.4014285714285714,
          0.6200000000000001,
          0.4642857142857143,
          0.437142857142857,
          0.4772413793103448,
          0.3889655172413793,
          0.4620689655172413,
          0.3006896551724137,
          0.3820689655172414,
          0.526896551724138,
          0.5042857142857142,
          0.6071428571428571,
          0.5171428571428571,
          0.4457142857142857,
          0.4441379310344828,
          0.416551724137931,
          0.5213793103448277,
          0.5213793103448277,
          0.4675862068965517,
          0.3889655172413793,
          0.5142857142857142,
          0.4785714285714285,
          0.5428571428571429,
          0.3542857142857143,
          0.5751724137931035,
          0.48,
          0.5062068965517241,
          0.5544827586206896,
          0.3889655172413793,
          0.4896551724137931,
          0.4585714285714286,
          0.6257142857142857,
          0.4157142857142857,
          0.5671428571428571,
          0.3820689655172413,
          0.3972413793103448,
          0.4413793103448276,
          0.4262068965517241,
          0.5420689655172415,
          0.5172413793103449,
          0.4542857142857143,
          0.3571428571428571,
          0.6185714285714285,
          0.5228571428571429,
          0.4744827586206895,
          0.553103448275862,
          0.5572413793103448,
          0.4096551724137931,
          0.4896551724137931,
          0.423448275862069,
          0.4428571428571428,
          0.5228571428571428,
          0.5,
          0.5571428571428572,
          0.4689655172413792,
          0.5517241379310345,
          0.5406896551724139,
          0.449655172413793,
          0.4289655172413793,
          0.5420689655172414,
          0.387142857142857,
          0.5014285714285714,
          0.4785714285714285,
          0.4571428571428571,
          0.5062068965517241,
          0.503448275862069,
          0.463448275862069,
          0.5117241379310344,
          0.5213793103448277,
          0.4468965517241379,
          0.61,
          0.4757142857142857,
          0.5557142857142856,
          0.6414285714285713,
          0.5089655172413794,
          0.4951724137931034,
          0.4827586206896551,
          0.4937931034482758,
          0.4786206896551723,
          0.5751724137931035,
          0.4842857142857142,
          0.4842857142857142,
          0.5557142857142856,
          0.4785714285714286,
          0.4110344827586207,
          0.5903448275862069,
          0.5937931034482758,
          0.6427586206896552,
          0.5875862068965517,
          0.4965517241379309,
          0.4192857142857142,
          0.4942857142857143,
          0.4292857142857142,
          0.4857142857142857,
          0.6193103448275863,
          0.4937931034482758,
          0.4524137931034483,
          0.52,
          0.2593103448275862,
          0.5806896551724138,
          0.4085714285714285,
          0.3842857142857143,
          0.5185714285714286,
          0.4785714285714285,
          0.3448275862068966,
          0.6027586206896551,
          0.5793103448275863,
          0.4413793103448276,
          0.5020689655172413,
          0.5599999999999999,
          0.4428571428571428,
          0.4257142857142857,
          0.4985714285714285,
          0.5728571428571428,
          0.5517241379310345,
          0.3944827586206896,
          0.6179310344827585,
          0.6041379310344828,
          0.4882758620689655,
          0.5296551724137931,
          0.51,
          0.5342857142857143,
          0.4485714285714285,
          0.5357142857142856,
          0.4055172413793103,
          0.3613793103448276,
          0.5448275862068965,
          0.5075862068965518,
          0.5172413793103449,
          0.3834482758620689,
          0.42,
          0.5057142857142857,
          0.3757142857142857,
          0.3828571428571428,
          0.6055172413793104,
          0.4786206896551724,
          0.5889655172413794,
          0.44,
          0.4937931034482758,
          0.5737931034482758,
          0.5542857142857143,
          0.5671428571428572,
          0.4771428571428571,
          0.5614285714285714,
          0.6234482758620689,
          0.4675862068965517,
          0.4675862068965518,
          0.6124137931034482,
          0.5062068965517241,
          0.5517241379310345,
          0.62,
          0.5685714285714286,
          0.4842857142857142,
          0.3757142857142856,
          0.5062068965517241,
          0.4662068965517241,
          0.4620689655172413,
          0.5020689655172413,
          0.4662068965517242,
          0.3779310344827586,
          0.47,
          0.4185714285714285,
          0.51,
          0.5721428571428572,
          0.6027586206896552,
          0.5268965517241379,
          0.5103448275862069,
          0.6537931034482759,
          0.5324137931034483,
          0.5710344827586207,
          0.64,
          0.5457142857142857,
          0.4357142857142857,
          0.36,
          0.5117241379310344,
          0.5048275862068965,
          0.4151724137931034,
          0.593103448275862,
          0.4,
          0.4220689655172414,
          0.5257142857142857,
          0.4628571428571428,
          0.5242857142857142,
          0.5685714285714285,
          0.6055172413793104,
          0.4358620689655173,
          0.4289655172413793,
          0.5751724137931034,
          0.3724137931034482,
          0.6055172413793104,
          0.4057142857142856,
          0.4142857142857143,
          0.3985714285714286,
          0.4,
          0.4082758620689655,
          0.6372413793103449,
          0.5131034482758621,
          0.4634482758620689,
          0.5710344827586207,
          0.5103448275862068,
          0.4857142857142857,
          0.42,
          0.5914285714285714,
          0.4157142857142857,
          0.5710344827586207,
          0.5006896551724138,
          0.5944827586206897,
          0.5020689655172415,
          0.3475862068965517,
          0.4055172413793103,
          0.5071428571428571,
          0.5171428571428571,
          0.3628571428571429,
          0.4514285714285714,
          0.6151724137931034,
          0.4703448275862069,
          0.4537931034482759,
          0.4772413793103448,
          0.5365517241379311,
          0.4882758620689655,
          0.5785714285714285,
          0.5614285714285715,
          0.3485714285714285,
          0.5742857142857143,
          0.5489655172413793,
          0.4441379310344827,
          0.56,
          0.5296551724137931,
          0.4441379310344828,
          0.5613793103448276,
          0.5014285714285714,
          0.5485714285714286,
          0.3428571428571428,
          0.45,
          0.5903448275862069,
          0.5296551724137931,
          0.5006896551724138,
          0.4896551724137931,
          0.526896551724138,
          0.5158620689655172,
          0.6157142857142857,
          0.51,
          0.51,
          0.3557142857142857,
          0.4993103448275862,
          0.4510344827586207,
          0.4662068965517241,
          0.4717241379310344,
          0.5365517241379311,
          0.446896551724138,
          0.58,
          0.5157142857142857,
          0.4928571428571428,
          0.4585714285714286,
          0.5324137931034482,
          0.52,
          0.5255172413793103,
          0.393103448275862,
          0.496551724137931,
          0.5241379310344828,
          0.5257142857142857,
          0.4842857142857142,
          0.4314285714285714,
          0.4242857142857142,
          0.5351724137931033,
          0.5475862068965518,
          0.5724137931034483,
          0.4510344827586207,
          0.5213793103448277,
          0.5337931034482759,
          0.4828571428571429,
          0.5814285714285714,
          0.5728571428571428,
          0.4485714285714285,
          0.4551724137931034,
          0.4758620689655172,
          0.4151724137931034,
          0.5903448275862069,
          0.4979310344827586,
          0.4841379310344827,
          0.5128571428571429,
          0.4985714285714285,
          0.5285714285714285,
          0.3514285714285714,
          0.3958620689655172,
          0.4468965517241379,
          0.5296551724137931,
          0.3972413793103449,
          0.5158620689655172,
          0.6937931034482758,
          0.5842857142857143,
          0.5342857142857143,
          0.5042857142857143,
          0.4314285714285714,
          0.4482758620689656,
          0.5172413793103449,
          0.4744827586206896,
          0.6068965517241379,
          0.5724137931034483,
          0.4868965517241378,
          0.4599999999999999,
          0.62,
          0.5428571428571428,
          0.687142857142857,
          0.2675862068965517,
          0.6041379310344828,
          0.4055172413793103,
          0.4786206896551723,
          0.5917241379310344,
          0.4717241379310344,
          0.54,
          0.5085714285714286,
          0.6257142857142857,
          0.5457142857142857,
          0.5406896551724137,
          0.4827586206896552,
          0.6027586206896552,
          0.6275862068965518,
          0.5117241379310344,
          0.5544827586206897,
          0.5285714285714286,
          0.55,
          0.5242857142857142,
          0.4842857142857142,
          0.6786206896551723,
          0.4703448275862069,
          0.5724137931034482,
          0.6537931034482759,
          0.4317241379310345,
          0.546206896551724,
          0.44,
          0.5642857142857143,
          0.43,
          0.4599999999999999,
          0.5406896551724137,
          0.409655172413793,
          0.5655172413793104,
          0.5337931034482759,
          0.4868965517241379,
          0.6262068965517241,
          0.5171428571428571,
          0.4414285714285714,
          0.4957142857142858,
          0.6028571428571428,
          0.4372413793103448,
          0.4262068965517241,
          0.3089655172413793,
          0.5144827586206897,
          0.4468965517241379,
          0.5586206896551724,
          0.5914285714285714,
          0.2928571428571428,
          0.5357142857142857,
          0.43,
          0.5820689655172413,
          0.5310344827586206,
          0.5172413793103449,
          0.4551724137931034,
          0.3903448275862068,
          0.4372413793103449,
          0.4757142857142857,
          0.3728571428571428,
          0.4571428571428572,
          0.4785714285714286,
          0.4455172413793103,
          0.5186206896551724,
          0.4937931034482758,
          0.4413793103448276,
          0.3779310344827586,
          0.4937931034482758,
          0.4757142857142857,
          0.4457142857142857,
          0.5457142857142857,
          0.4314285714285714,
          0.5682758620689655,
          0.6220689655172413,
          0.4855172413793103,
          0.5406896551724139,
          0.503448275862069,
          0.5448275862068965,
          0.4228571428571428,
          0.6842857142857143,
          0.5142857142857143,
          0.4785714285714285,
          0.6110344827586207,
          0.5144827586206897,
          0.5379310344827586,
          0.4579310344827586,
          0.4179310344827586,
          0.5586206896551724,
          0.3299999999999999,
          0.4257142857142857,
          0.48,
          0.4499999999999999,
          0.5875862068965518,
          0.4855172413793103,
          0.4524137931034483,
          0.3806896551724138,
          0.4289655172413794,
          0.4979310344827586,
          0.6385714285714285,
          0.5528571428571428,
          0.6199999999999999,
          0.47,
          0.5544827586206896,
          0.4993103448275862,
          0.4841379310344827,
          0.433103448275862,
          0.3848275862068965,
          0.3972413793103448,
          0.3471428571428571,
          0.4914285714285714,
          0.5185714285714286,
          0.3728571428571428
         ],
         "x0": " ",
         "xaxis": "x",
         "y": [
          "$wSMI\\gamma_{mean}$",
          "$wSMI\\gamma_{mean}$",
          "$wSMI\\gamma_{mean}$",
          "$wSMI\\gamma_{mean}$",
          "$wSMI\\gamma_{mean}$",
          "$wSMI\\gamma_{mean}$",
          "$wSMI\\gamma_{mean}$",
          "$wSMI\\gamma_{mean}$",
          "$wSMI\\gamma_{mean}$",
          "$wSMI\\gamma_{mean}$",
          "$wSMI\\gamma_{std}$",
          "$wSMI\\gamma_{std}$",
          "$wSMI\\gamma_{std}$",
          "$wSMI\\gamma_{std}$",
          "$wSMI\\gamma_{std}$",
          "$wSMI\\gamma_{std}$",
          "$wSMI\\gamma_{std}$",
          "$wSMI\\gamma_{std}$",
          "$wSMI\\gamma_{std}$",
          "$wSMI\\gamma_{std}$",
          "$wSMI\\beta_{mean}$",
          "$wSMI\\beta_{mean}$",
          "$wSMI\\beta_{mean}$",
          "$wSMI\\beta_{mean}$",
          "$wSMI\\beta_{mean}$",
          "$wSMI\\beta_{mean}$",
          "$wSMI\\beta_{mean}$",
          "$wSMI\\beta_{mean}$",
          "$wSMI\\beta_{mean}$",
          "$wSMI\\beta_{mean}$",
          "$wSMI\\beta_{std}$",
          "$wSMI\\beta_{std}$",
          "$wSMI\\beta_{std}$",
          "$wSMI\\beta_{std}$",
          "$wSMI\\beta_{std}$",
          "$wSMI\\beta_{std}$",
          "$wSMI\\beta_{std}$",
          "$wSMI\\beta_{std}$",
          "$wSMI\\beta_{std}$",
          "$wSMI\\beta_{std}$",
          "$wSMI\\alpha_{mean}$",
          "$wSMI\\alpha_{mean}$",
          "$wSMI\\alpha_{mean}$",
          "$wSMI\\alpha_{mean}$",
          "$wSMI\\alpha_{mean}$",
          "$wSMI\\alpha_{mean}$",
          "$wSMI\\alpha_{mean}$",
          "$wSMI\\alpha_{mean}$",
          "$wSMI\\alpha_{mean}$",
          "$wSMI\\alpha_{mean}$",
          "$wSMI\\alpha_{std}$",
          "$wSMI\\alpha_{std}$",
          "$wSMI\\alpha_{std}$",
          "$wSMI\\alpha_{std}$",
          "$wSMI\\alpha_{std}$",
          "$wSMI\\alpha_{std}$",
          "$wSMI\\alpha_{std}$",
          "$wSMI\\alpha_{std}$",
          "$wSMI\\alpha_{std}$",
          "$wSMI\\alpha_{std}$",
          "$wSMI\\theta_{mean}$",
          "$wSMI\\theta_{mean}$",
          "$wSMI\\theta_{mean}$",
          "$wSMI\\theta_{mean}$",
          "$wSMI\\theta_{mean}$",
          "$wSMI\\theta_{mean}$",
          "$wSMI\\theta_{mean}$",
          "$wSMI\\theta_{mean}$",
          "$wSMI\\theta_{mean}$",
          "$wSMI\\theta_{mean}$",
          "$wSMI\\theta_{std}$",
          "$wSMI\\theta_{std}$",
          "$wSMI\\theta_{std}$",
          "$wSMI\\theta_{std}$",
          "$wSMI\\theta_{std}$",
          "$wSMI\\theta_{std}$",
          "$wSMI\\theta_{std}$",
          "$wSMI\\theta_{std}$",
          "$wSMI\\theta_{std}$",
          "$wSMI\\theta_{std}$",
          "$PE\\gamma_{std}$",
          "$PE\\gamma_{std}$",
          "$PE\\gamma_{std}$",
          "$PE\\gamma_{std}$",
          "$PE\\gamma_{std}$",
          "$PE\\gamma_{std}$",
          "$PE\\gamma_{std}$",
          "$PE\\gamma_{std}$",
          "$PE\\gamma_{std}$",
          "$PE\\gamma_{std}$",
          "$PE\\beta_{std}$",
          "$PE\\beta_{std}$",
          "$PE\\beta_{std}$",
          "$PE\\beta_{std}$",
          "$PE\\beta_{std}$",
          "$PE\\beta_{std}$",
          "$PE\\beta_{std}$",
          "$PE\\beta_{std}$",
          "$PE\\beta_{std}$",
          "$PE\\beta_{std}$",
          "$PE\\alpha_{mean}$",
          "$PE\\alpha_{mean}$",
          "$PE\\alpha_{mean}$",
          "$PE\\alpha_{mean}$",
          "$PE\\alpha_{mean}$",
          "$PE\\alpha_{mean}$",
          "$PE\\alpha_{mean}$",
          "$PE\\alpha_{mean}$",
          "$PE\\alpha_{mean}$",
          "$PE\\alpha_{mean}$",
          "$PE\\alpha_{std}$",
          "$PE\\alpha_{std}$",
          "$PE\\alpha_{std}$",
          "$PE\\alpha_{std}$",
          "$PE\\alpha_{std}$",
          "$PE\\alpha_{std}$",
          "$PE\\alpha_{std}$",
          "$PE\\alpha_{std}$",
          "$PE\\alpha_{std}$",
          "$PE\\alpha_{std}$",
          "$PE\\theta_{std}$",
          "$PE\\theta_{std}$",
          "$PE\\theta_{std}$",
          "$PE\\theta_{std}$",
          "$PE\\theta_{std}$",
          "$PE\\theta_{std}$",
          "$PE\\theta_{std}$",
          "$PE\\theta_{std}$",
          "$PE\\theta_{std}$",
          "$PE\\theta_{std}$",
          "$K_{mean}$",
          "$K_{mean}$",
          "$K_{mean}$",
          "$K_{mean}$",
          "$K_{mean}$",
          "$K_{mean}$",
          "$K_{mean}$",
          "$K_{mean}$",
          "$K_{mean}$",
          "$K_{mean}$",
          "$K_{std}$",
          "$K_{std}$",
          "$K_{std}$",
          "$K_{std}$",
          "$K_{std}$",
          "$K_{std}$",
          "$K_{std}$",
          "$K_{std}$",
          "$K_{std}$",
          "$K_{std}$",
          "$SE_{mean}$",
          "$SE_{mean}$",
          "$SE_{mean}$",
          "$SE_{mean}$",
          "$SE_{mean}$",
          "$SE_{mean}$",
          "$SE_{mean}$",
          "$SE_{mean}$",
          "$SE_{mean}$",
          "$SE_{mean}$",
          "$SE_{std}$",
          "$SE_{std}$",
          "$SE_{std}$",
          "$SE_{std}$",
          "$SE_{std}$",
          "$SE_{std}$",
          "$SE_{std}$",
          "$SE_{std}$",
          "$SE_{std}$",
          "$SE_{std}$",
          "$MSF_{mean}$",
          "$MSF_{mean}$",
          "$MSF_{mean}$",
          "$MSF_{mean}$",
          "$MSF_{mean}$",
          "$MSF_{mean}$",
          "$MSF_{mean}$",
          "$MSF_{mean}$",
          "$MSF_{mean}$",
          "$MSF_{mean}$",
          "$MSF_{std}$",
          "$MSF_{std}$",
          "$MSF_{std}$",
          "$MSF_{std}$",
          "$MSF_{std}$",
          "$MSF_{std}$",
          "$MSF_{std}$",
          "$MSF_{std}$",
          "$MSF_{std}$",
          "$MSF_{std}$",
          "$SEF90_{mean}$",
          "$SEF90_{mean}$",
          "$SEF90_{mean}$",
          "$SEF90_{mean}$",
          "$SEF90_{mean}$",
          "$SEF90_{mean}$",
          "$SEF90_{mean}$",
          "$SEF90_{mean}$",
          "$SEF90_{mean}$",
          "$SEF90_{mean}$",
          "$SEF90_{std}$",
          "$SEF90_{std}$",
          "$SEF90_{std}$",
          "$SEF90_{std}$",
          "$SEF90_{std}$",
          "$SEF90_{std}$",
          "$SEF90_{std}$",
          "$SEF90_{std}$",
          "$SEF90_{std}$",
          "$SEF90_{std}$",
          "$SEF95_{mean}$",
          "$SEF95_{mean}$",
          "$SEF95_{mean}$",
          "$SEF95_{mean}$",
          "$SEF95_{mean}$",
          "$SEF95_{mean}$",
          "$SEF95_{mean}$",
          "$SEF95_{mean}$",
          "$SEF95_{mean}$",
          "$SEF95_{mean}$",
          "$SEF95_{std}$",
          "$SEF95_{std}$",
          "$SEF95_{std}$",
          "$SEF95_{std}$",
          "$SEF95_{std}$",
          "$SEF95_{std}$",
          "$SEF95_{std}$",
          "$SEF95_{std}$",
          "$SEF95_{std}$",
          "$SEF95_{std}$",
          "$\\beta_{std}$",
          "$\\beta_{std}$",
          "$\\beta_{std}$",
          "$\\beta_{std}$",
          "$\\beta_{std}$",
          "$\\beta_{std}$",
          "$\\beta_{std}$",
          "$\\beta_{std}$",
          "$\\beta_{std}$",
          "$\\beta_{std}$",
          "$|\\beta|_{mean}$",
          "$|\\beta|_{mean}$",
          "$|\\beta|_{mean}$",
          "$|\\beta|_{mean}$",
          "$|\\beta|_{mean}$",
          "$|\\beta|_{mean}$",
          "$|\\beta|_{mean}$",
          "$|\\beta|_{mean}$",
          "$|\\beta|_{mean}$",
          "$|\\beta|_{mean}$",
          "$|\\beta|_{std}$",
          "$|\\beta|_{std}$",
          "$|\\beta|_{std}$",
          "$|\\beta|_{std}$",
          "$|\\beta|_{std}$",
          "$|\\beta|_{std}$",
          "$|\\beta|_{std}$",
          "$|\\beta|_{std}$",
          "$|\\beta|_{std}$",
          "$|\\beta|_{std}$",
          "$\\gamma_{mean}$",
          "$\\gamma_{mean}$",
          "$\\gamma_{mean}$",
          "$\\gamma_{mean}$",
          "$\\gamma_{mean}$",
          "$\\gamma_{mean}$",
          "$\\gamma_{mean}$",
          "$\\gamma_{mean}$",
          "$\\gamma_{mean}$",
          "$\\gamma_{mean}$",
          "$\\gamma_{std}$",
          "$\\gamma_{std}$",
          "$\\gamma_{std}$",
          "$\\gamma_{std}$",
          "$\\gamma_{std}$",
          "$\\gamma_{std}$",
          "$\\gamma_{std}$",
          "$\\gamma_{std}$",
          "$\\gamma_{std}$",
          "$\\gamma_{std}$",
          "$|\\gamma|_{mean}$",
          "$|\\gamma|_{mean}$",
          "$|\\gamma|_{mean}$",
          "$|\\gamma|_{mean}$",
          "$|\\gamma|_{mean}$",
          "$|\\gamma|_{mean}$",
          "$|\\gamma|_{mean}$",
          "$|\\gamma|_{mean}$",
          "$|\\gamma|_{mean}$",
          "$|\\gamma|_{mean}$",
          "$|\\gamma|_{std}$",
          "$|\\gamma|_{std}$",
          "$|\\gamma|_{std}$",
          "$|\\gamma|_{std}$",
          "$|\\gamma|_{std}$",
          "$|\\gamma|_{std}$",
          "$|\\gamma|_{std}$",
          "$|\\gamma|_{std}$",
          "$|\\gamma|_{std}$",
          "$|\\gamma|_{std}$",
          "$\\theta_{std}$",
          "$\\theta_{std}$",
          "$\\theta_{std}$",
          "$\\theta_{std}$",
          "$\\theta_{std}$",
          "$\\theta_{std}$",
          "$\\theta_{std}$",
          "$\\theta_{std}$",
          "$\\theta_{std}$",
          "$\\theta_{std}$",
          "$|\\theta|_{mean}$",
          "$|\\theta|_{mean}$",
          "$|\\theta|_{mean}$",
          "$|\\theta|_{mean}$",
          "$|\\theta|_{mean}$",
          "$|\\theta|_{mean}$",
          "$|\\theta|_{mean}$",
          "$|\\theta|_{mean}$",
          "$|\\theta|_{mean}$",
          "$|\\theta|_{mean}$",
          "$|\\theta|_{std}$",
          "$|\\theta|_{std}$",
          "$|\\theta|_{std}$",
          "$|\\theta|_{std}$",
          "$|\\theta|_{std}$",
          "$|\\theta|_{std}$",
          "$|\\theta|_{std}$",
          "$|\\theta|_{std}$",
          "$|\\theta|_{std}$",
          "$|\\theta|_{std}$",
          "$\\delta_{mean}$",
          "$\\delta_{mean}$",
          "$\\delta_{mean}$",
          "$\\delta_{mean}$",
          "$\\delta_{mean}$",
          "$\\delta_{mean}$",
          "$\\delta_{mean}$",
          "$\\delta_{mean}$",
          "$\\delta_{mean}$",
          "$\\delta_{mean}$",
          "$\\delta_{std}$",
          "$\\delta_{std}$",
          "$\\delta_{std}$",
          "$\\delta_{std}$",
          "$\\delta_{std}$",
          "$\\delta_{std}$",
          "$\\delta_{std}$",
          "$\\delta_{std}$",
          "$\\delta_{std}$",
          "$\\delta_{std}$",
          "$|\\delta|_{std}$",
          "$|\\delta|_{std}$",
          "$|\\delta|_{std}$",
          "$|\\delta|_{std}$",
          "$|\\delta|_{std}$",
          "$|\\delta|_{std}$",
          "$|\\delta|_{std}$",
          "$|\\delta|_{std}$",
          "$|\\delta|_{std}$",
          "$|\\delta|_{std}$",
          "$|\\alpha|_{std}$",
          "$|\\alpha|_{std}$",
          "$|\\alpha|_{std}$",
          "$|\\alpha|_{std}$",
          "$|\\alpha|_{std}$",
          "$|\\alpha|_{std}$",
          "$|\\alpha|_{std}$",
          "$|\\alpha|_{std}$",
          "$|\\alpha|_{std}$",
          "$|\\alpha|_{std}$",
          "$\\alpha_{std}$",
          "$\\alpha_{std}$",
          "$\\alpha_{std}$",
          "$\\alpha_{std}$",
          "$\\alpha_{std}$",
          "$\\alpha_{std}$",
          "$\\alpha_{std}$",
          "$\\alpha_{std}$",
          "$\\alpha_{std}$",
          "$\\alpha_{std}$",
          "$CNV_{mean}$",
          "$CNV_{mean}$",
          "$CNV_{mean}$",
          "$CNV_{mean}$",
          "$CNV_{mean}$",
          "$CNV_{mean}$",
          "$CNV_{mean}$",
          "$CNV_{mean}$",
          "$CNV_{mean}$",
          "$CNV_{mean}$",
          "$CNV_{std}$",
          "$CNV_{std}$",
          "$CNV_{std}$",
          "$CNV_{std}$",
          "$CNV_{std}$",
          "$CNV_{std}$",
          "$CNV_{std}$",
          "$CNV_{std}$",
          "$CNV_{std}$",
          "$CNV_{std}$",
          "$P1_{mean}$",
          "$P1_{mean}$",
          "$P1_{mean}$",
          "$P1_{mean}$",
          "$P1_{mean}$",
          "$P1_{mean}$",
          "$P1_{mean}$",
          "$P1_{mean}$",
          "$P1_{mean}$",
          "$P1_{mean}$",
          "$P1_{std}$",
          "$P1_{std}$",
          "$P1_{std}$",
          "$P1_{std}$",
          "$P1_{std}$",
          "$P1_{std}$",
          "$P1_{std}$",
          "$P1_{std}$",
          "$P1_{std}$",
          "$P1_{std}$",
          "$P3a_{mean}$",
          "$P3a_{mean}$",
          "$P3a_{mean}$",
          "$P3a_{mean}$",
          "$P3a_{mean}$",
          "$P3a_{mean}$",
          "$P3a_{mean}$",
          "$P3a_{mean}$",
          "$P3a_{mean}$",
          "$P3a_{mean}$",
          "$P3a_{std}$",
          "$P3a_{std}$",
          "$P3a_{std}$",
          "$P3a_{std}$",
          "$P3a_{std}$",
          "$P3a_{std}$",
          "$P3a_{std}$",
          "$P3a_{std}$",
          "$P3a_{std}$",
          "$P3a_{std}$",
          "$P3b_{mean}$",
          "$P3b_{mean}$",
          "$P3b_{mean}$",
          "$P3b_{mean}$",
          "$P3b_{mean}$",
          "$P3b_{mean}$",
          "$P3b_{mean}$",
          "$P3b_{mean}$",
          "$P3b_{mean}$",
          "$P3b_{mean}$",
          "$P3b_{std}$",
          "$P3b_{std}$",
          "$P3b_{std}$",
          "$P3b_{std}$",
          "$P3b_{std}$",
          "$P3b_{std}$",
          "$P3b_{std}$",
          "$P3b_{std}$",
          "$P3b_{std}$",
          "$P3b_{std}$"
         ],
         "y0": " ",
         "yaxis": "y"
        },
        {
         "alignmentgroup": "True",
         "hovertemplate": "significant=p < 0.05 uncorrected<br>AUC=%{x}<br>markers=%{y}<extra></extra>",
         "legendgroup": "p < 0.05 uncorrected",
         "marker": {
          "color": "#F38A31"
         },
         "name": "p < 0.05 uncorrected",
         "notched": false,
         "offsetgroup": "p < 0.05 uncorrected",
         "orientation": "h",
         "showlegend": true,
         "type": "box",
         "x": [
          0.602758620689655,
          0.6620689655172414,
          0.593103448275862,
          0.6179310344827585,
          0.5793103448275863,
          0.5241379310344828,
          0.5571428571428572,
          0.5657142857142857,
          0.45,
          0.4128571428571428,
          0.663448275862069,
          0.6,
          0.5296551724137931,
          0.6289655172413793,
          0.5710344827586207,
          0.5889655172413792,
          0.58,
          0.5814285714285714,
          0.4742857142857142,
          0.4371428571428571,
          0.5062068965517241,
          0.5324137931034483,
          0.6924137931034483,
          0.5655172413793104,
          0.4744827586206897,
          0.6689655172413793,
          0.5071428571428571,
          0.5785714285714285,
          0.5871428571428571,
          0.51
         ],
         "x0": " ",
         "xaxis": "x",
         "y": [
          "$PE\\gamma_{mean}$",
          "$PE\\gamma_{mean}$",
          "$PE\\gamma_{mean}$",
          "$PE\\gamma_{mean}$",
          "$PE\\gamma_{mean}$",
          "$PE\\gamma_{mean}$",
          "$PE\\gamma_{mean}$",
          "$PE\\gamma_{mean}$",
          "$PE\\gamma_{mean}$",
          "$PE\\gamma_{mean}$",
          "$PE\\beta_{mean}$",
          "$PE\\beta_{mean}$",
          "$PE\\beta_{mean}$",
          "$PE\\beta_{mean}$",
          "$PE\\beta_{mean}$",
          "$PE\\beta_{mean}$",
          "$PE\\beta_{mean}$",
          "$PE\\beta_{mean}$",
          "$PE\\beta_{mean}$",
          "$PE\\beta_{mean}$",
          "$\\theta_{mean}$",
          "$\\theta_{mean}$",
          "$\\theta_{mean}$",
          "$\\theta_{mean}$",
          "$\\theta_{mean}$",
          "$\\theta_{mean}$",
          "$\\theta_{mean}$",
          "$\\theta_{mean}$",
          "$\\theta_{mean}$",
          "$\\theta_{mean}$"
         ],
         "y0": " ",
         "yaxis": "y"
        },
        {
         "alignmentgroup": "True",
         "hovertemplate": "significant=p < 0.05 FDR corrected<br>AUC=%{x}<br>markers=%{y}<extra></extra>",
         "legendgroup": "p < 0.05 FDR corrected",
         "marker": {
          "color": "#42B9B2"
         },
         "name": "p < 0.05 FDR corrected",
         "notched": false,
         "offsetgroup": "p < 0.05 FDR corrected",
         "orientation": "h",
         "showlegend": true,
         "type": "box",
         "x": [
          0.6786206896551724,
          0.6041379310344828,
          0.6193103448275861,
          0.6413793103448275,
          0.6372413793103447,
          0.6910344827586208,
          0.64,
          0.6657142857142856,
          0.5285714285714285,
          0.5971428571428572,
          0.5572413793103448,
          0.6206896551724138,
          0.5793103448275863,
          0.6289655172413794,
          0.4455172413793103,
          0.6455172413793103,
          0.5085714285714286,
          0.5171428571428571,
          0.72,
          0.5957142857142858,
          0.4193103448275862,
          0.6882758620689655,
          0.5531034482758621,
          0.6082758620689654,
          0.5848275862068966,
          0.6896551724137931,
          0.4957142857142857,
          0.5428571428571428,
          0.6157142857142857,
          0.7014285714285715,
          0.6468965517241378,
          0.6082758620689654,
          0.6358620689655171,
          0.6124137931034482,
          0.5586206896551724,
          0.623448275862069,
          0.6185714285714285,
          0.6214285714285714,
          0.5042857142857142,
          0.51,
          0.6,
          0.5986206896551725,
          0.6,
          0.6772413793103448,
          0.5131034482758621,
          0.6979310344827586,
          0.5357142857142857,
          0.6242857142857142,
          0.6499999999999999,
          0.5628571428571428,
          1,
          1,
          1,
          1,
          1,
          1,
          1,
          1,
          1,
          1
         ],
         "x0": " ",
         "xaxis": "x",
         "y": [
          "$PE\\theta_{mean}$",
          "$PE\\theta_{mean}$",
          "$PE\\theta_{mean}$",
          "$PE\\theta_{mean}$",
          "$PE\\theta_{mean}$",
          "$PE\\theta_{mean}$",
          "$PE\\theta_{mean}$",
          "$PE\\theta_{mean}$",
          "$PE\\theta_{mean}$",
          "$PE\\theta_{mean}$",
          "$\\beta_{mean}$",
          "$\\beta_{mean}$",
          "$\\beta_{mean}$",
          "$\\beta_{mean}$",
          "$\\beta_{mean}$",
          "$\\beta_{mean}$",
          "$\\beta_{mean}$",
          "$\\beta_{mean}$",
          "$\\beta_{mean}$",
          "$\\beta_{mean}$",
          "$|\\delta|_{mean}$",
          "$|\\delta|_{mean}$",
          "$|\\delta|_{mean}$",
          "$|\\delta|_{mean}$",
          "$|\\delta|_{mean}$",
          "$|\\delta|_{mean}$",
          "$|\\delta|_{mean}$",
          "$|\\delta|_{mean}$",
          "$|\\delta|_{mean}$",
          "$|\\delta|_{mean}$",
          "$|\\alpha|_{mean}$",
          "$|\\alpha|_{mean}$",
          "$|\\alpha|_{mean}$",
          "$|\\alpha|_{mean}$",
          "$|\\alpha|_{mean}$",
          "$|\\alpha|_{mean}$",
          "$|\\alpha|_{mean}$",
          "$|\\alpha|_{mean}$",
          "$|\\alpha|_{mean}$",
          "$|\\alpha|_{mean}$",
          "$\\alpha_{mean}$",
          "$\\alpha_{mean}$",
          "$\\alpha_{mean}$",
          "$\\alpha_{mean}$",
          "$\\alpha_{mean}$",
          "$\\alpha_{mean}$",
          "$\\alpha_{mean}$",
          "$\\alpha_{mean}$",
          "$\\alpha_{mean}$",
          "$\\alpha_{mean}$",
          "mind_order",
          "mind_order",
          "mind_order",
          "mind_order",
          "mind_order",
          "mind_order",
          "mind_order",
          "mind_order",
          "mind_order",
          "mind_order"
         ],
         "y0": " ",
         "yaxis": "y"
        }
       ],
       "layout": {
        "autosize": false,
        "boxmode": "group",
        "height": 800,
        "legend": {
         "title": {
          "text": "significant"
         },
         "tracegroupgap": 0
        },
        "margin": {
         "t": 60
        },
        "shapes": [
         {
          "line": {
           "color": "grey",
           "dash": "dash",
           "width": 3
          },
          "type": "line",
          "x0": 0.5,
          "x1": 0.5,
          "xref": "x",
          "y0": 0,
          "y1": 1,
          "yref": "y domain"
         }
        ],
        "template": {
         "data": {
          "bar": [
           {
            "error_x": {
             "color": "#2a3f5f"
            },
            "error_y": {
             "color": "#2a3f5f"
            },
            "marker": {
             "line": {
              "color": "white",
              "width": 0.5
             },
             "pattern": {
              "fillmode": "overlay",
              "size": 10,
              "solidity": 0.2
             }
            },
            "type": "bar"
           }
          ],
          "barpolar": [
           {
            "marker": {
             "line": {
              "color": "white",
              "width": 0.5
             },
             "pattern": {
              "fillmode": "overlay",
              "size": 10,
              "solidity": 0.2
             }
            },
            "type": "barpolar"
           }
          ],
          "carpet": [
           {
            "aaxis": {
             "endlinecolor": "#2a3f5f",
             "gridcolor": "#C8D4E3",
             "linecolor": "#C8D4E3",
             "minorgridcolor": "#C8D4E3",
             "startlinecolor": "#2a3f5f"
            },
            "baxis": {
             "endlinecolor": "#2a3f5f",
             "gridcolor": "#C8D4E3",
             "linecolor": "#C8D4E3",
             "minorgridcolor": "#C8D4E3",
             "startlinecolor": "#2a3f5f"
            },
            "type": "carpet"
           }
          ],
          "choropleth": [
           {
            "colorbar": {
             "outlinewidth": 0,
             "ticks": ""
            },
            "type": "choropleth"
           }
          ],
          "contour": [
           {
            "colorbar": {
             "outlinewidth": 0,
             "ticks": ""
            },
            "colorscale": [
             [
              0,
              "#0d0887"
             ],
             [
              0.1111111111111111,
              "#46039f"
             ],
             [
              0.2222222222222222,
              "#7201a8"
             ],
             [
              0.3333333333333333,
              "#9c179e"
             ],
             [
              0.4444444444444444,
              "#bd3786"
             ],
             [
              0.5555555555555556,
              "#d8576b"
             ],
             [
              0.6666666666666666,
              "#ed7953"
             ],
             [
              0.7777777777777778,
              "#fb9f3a"
             ],
             [
              0.8888888888888888,
              "#fdca26"
             ],
             [
              1,
              "#f0f921"
             ]
            ],
            "type": "contour"
           }
          ],
          "contourcarpet": [
           {
            "colorbar": {
             "outlinewidth": 0,
             "ticks": ""
            },
            "type": "contourcarpet"
           }
          ],
          "heatmap": [
           {
            "colorbar": {
             "outlinewidth": 0,
             "ticks": ""
            },
            "colorscale": [
             [
              0,
              "#0d0887"
             ],
             [
              0.1111111111111111,
              "#46039f"
             ],
             [
              0.2222222222222222,
              "#7201a8"
             ],
             [
              0.3333333333333333,
              "#9c179e"
             ],
             [
              0.4444444444444444,
              "#bd3786"
             ],
             [
              0.5555555555555556,
              "#d8576b"
             ],
             [
              0.6666666666666666,
              "#ed7953"
             ],
             [
              0.7777777777777778,
              "#fb9f3a"
             ],
             [
              0.8888888888888888,
              "#fdca26"
             ],
             [
              1,
              "#f0f921"
             ]
            ],
            "type": "heatmap"
           }
          ],
          "heatmapgl": [
           {
            "colorbar": {
             "outlinewidth": 0,
             "ticks": ""
            },
            "colorscale": [
             [
              0,
              "#0d0887"
             ],
             [
              0.1111111111111111,
              "#46039f"
             ],
             [
              0.2222222222222222,
              "#7201a8"
             ],
             [
              0.3333333333333333,
              "#9c179e"
             ],
             [
              0.4444444444444444,
              "#bd3786"
             ],
             [
              0.5555555555555556,
              "#d8576b"
             ],
             [
              0.6666666666666666,
              "#ed7953"
             ],
             [
              0.7777777777777778,
              "#fb9f3a"
             ],
             [
              0.8888888888888888,
              "#fdca26"
             ],
             [
              1,
              "#f0f921"
             ]
            ],
            "type": "heatmapgl"
           }
          ],
          "histogram": [
           {
            "marker": {
             "pattern": {
              "fillmode": "overlay",
              "size": 10,
              "solidity": 0.2
             }
            },
            "type": "histogram"
           }
          ],
          "histogram2d": [
           {
            "colorbar": {
             "outlinewidth": 0,
             "ticks": ""
            },
            "colorscale": [
             [
              0,
              "#0d0887"
             ],
             [
              0.1111111111111111,
              "#46039f"
             ],
             [
              0.2222222222222222,
              "#7201a8"
             ],
             [
              0.3333333333333333,
              "#9c179e"
             ],
             [
              0.4444444444444444,
              "#bd3786"
             ],
             [
              0.5555555555555556,
              "#d8576b"
             ],
             [
              0.6666666666666666,
              "#ed7953"
             ],
             [
              0.7777777777777778,
              "#fb9f3a"
             ],
             [
              0.8888888888888888,
              "#fdca26"
             ],
             [
              1,
              "#f0f921"
             ]
            ],
            "type": "histogram2d"
           }
          ],
          "histogram2dcontour": [
           {
            "colorbar": {
             "outlinewidth": 0,
             "ticks": ""
            },
            "colorscale": [
             [
              0,
              "#0d0887"
             ],
             [
              0.1111111111111111,
              "#46039f"
             ],
             [
              0.2222222222222222,
              "#7201a8"
             ],
             [
              0.3333333333333333,
              "#9c179e"
             ],
             [
              0.4444444444444444,
              "#bd3786"
             ],
             [
              0.5555555555555556,
              "#d8576b"
             ],
             [
              0.6666666666666666,
              "#ed7953"
             ],
             [
              0.7777777777777778,
              "#fb9f3a"
             ],
             [
              0.8888888888888888,
              "#fdca26"
             ],
             [
              1,
              "#f0f921"
             ]
            ],
            "type": "histogram2dcontour"
           }
          ],
          "mesh3d": [
           {
            "colorbar": {
             "outlinewidth": 0,
             "ticks": ""
            },
            "type": "mesh3d"
           }
          ],
          "parcoords": [
           {
            "line": {
             "colorbar": {
              "outlinewidth": 0,
              "ticks": ""
             }
            },
            "type": "parcoords"
           }
          ],
          "pie": [
           {
            "automargin": true,
            "type": "pie"
           }
          ],
          "scatter": [
           {
            "marker": {
             "colorbar": {
              "outlinewidth": 0,
              "ticks": ""
             }
            },
            "type": "scatter"
           }
          ],
          "scatter3d": [
           {
            "line": {
             "colorbar": {
              "outlinewidth": 0,
              "ticks": ""
             }
            },
            "marker": {
             "colorbar": {
              "outlinewidth": 0,
              "ticks": ""
             }
            },
            "type": "scatter3d"
           }
          ],
          "scattercarpet": [
           {
            "marker": {
             "colorbar": {
              "outlinewidth": 0,
              "ticks": ""
             }
            },
            "type": "scattercarpet"
           }
          ],
          "scattergeo": [
           {
            "marker": {
             "colorbar": {
              "outlinewidth": 0,
              "ticks": ""
             }
            },
            "type": "scattergeo"
           }
          ],
          "scattergl": [
           {
            "marker": {
             "colorbar": {
              "outlinewidth": 0,
              "ticks": ""
             }
            },
            "type": "scattergl"
           }
          ],
          "scattermapbox": [
           {
            "marker": {
             "colorbar": {
              "outlinewidth": 0,
              "ticks": ""
             }
            },
            "type": "scattermapbox"
           }
          ],
          "scatterpolar": [
           {
            "marker": {
             "colorbar": {
              "outlinewidth": 0,
              "ticks": ""
             }
            },
            "type": "scatterpolar"
           }
          ],
          "scatterpolargl": [
           {
            "marker": {
             "colorbar": {
              "outlinewidth": 0,
              "ticks": ""
             }
            },
            "type": "scatterpolargl"
           }
          ],
          "scatterternary": [
           {
            "marker": {
             "colorbar": {
              "outlinewidth": 0,
              "ticks": ""
             }
            },
            "type": "scatterternary"
           }
          ],
          "surface": [
           {
            "colorbar": {
             "outlinewidth": 0,
             "ticks": ""
            },
            "colorscale": [
             [
              0,
              "#0d0887"
             ],
             [
              0.1111111111111111,
              "#46039f"
             ],
             [
              0.2222222222222222,
              "#7201a8"
             ],
             [
              0.3333333333333333,
              "#9c179e"
             ],
             [
              0.4444444444444444,
              "#bd3786"
             ],
             [
              0.5555555555555556,
              "#d8576b"
             ],
             [
              0.6666666666666666,
              "#ed7953"
             ],
             [
              0.7777777777777778,
              "#fb9f3a"
             ],
             [
              0.8888888888888888,
              "#fdca26"
             ],
             [
              1,
              "#f0f921"
             ]
            ],
            "type": "surface"
           }
          ],
          "table": [
           {
            "cells": {
             "fill": {
              "color": "#EBF0F8"
             },
             "line": {
              "color": "white"
             }
            },
            "header": {
             "fill": {
              "color": "#C8D4E3"
             },
             "line": {
              "color": "white"
             }
            },
            "type": "table"
           }
          ]
         },
         "layout": {
          "annotationdefaults": {
           "arrowcolor": "#2a3f5f",
           "arrowhead": 0,
           "arrowwidth": 1
          },
          "autotypenumbers": "strict",
          "coloraxis": {
           "colorbar": {
            "outlinewidth": 0,
            "ticks": ""
           }
          },
          "colorscale": {
           "diverging": [
            [
             0,
             "#8e0152"
            ],
            [
             0.1,
             "#c51b7d"
            ],
            [
             0.2,
             "#de77ae"
            ],
            [
             0.3,
             "#f1b6da"
            ],
            [
             0.4,
             "#fde0ef"
            ],
            [
             0.5,
             "#f7f7f7"
            ],
            [
             0.6,
             "#e6f5d0"
            ],
            [
             0.7,
             "#b8e186"
            ],
            [
             0.8,
             "#7fbc41"
            ],
            [
             0.9,
             "#4d9221"
            ],
            [
             1,
             "#276419"
            ]
           ],
           "sequential": [
            [
             0,
             "#0d0887"
            ],
            [
             0.1111111111111111,
             "#46039f"
            ],
            [
             0.2222222222222222,
             "#7201a8"
            ],
            [
             0.3333333333333333,
             "#9c179e"
            ],
            [
             0.4444444444444444,
             "#bd3786"
            ],
            [
             0.5555555555555556,
             "#d8576b"
            ],
            [
             0.6666666666666666,
             "#ed7953"
            ],
            [
             0.7777777777777778,
             "#fb9f3a"
            ],
            [
             0.8888888888888888,
             "#fdca26"
            ],
            [
             1,
             "#f0f921"
            ]
           ],
           "sequentialminus": [
            [
             0,
             "#0d0887"
            ],
            [
             0.1111111111111111,
             "#46039f"
            ],
            [
             0.2222222222222222,
             "#7201a8"
            ],
            [
             0.3333333333333333,
             "#9c179e"
            ],
            [
             0.4444444444444444,
             "#bd3786"
            ],
            [
             0.5555555555555556,
             "#d8576b"
            ],
            [
             0.6666666666666666,
             "#ed7953"
            ],
            [
             0.7777777777777778,
             "#fb9f3a"
            ],
            [
             0.8888888888888888,
             "#fdca26"
            ],
            [
             1,
             "#f0f921"
            ]
           ]
          },
          "colorway": [
           "#636efa",
           "#EF553B",
           "#00cc96",
           "#ab63fa",
           "#FFA15A",
           "#19d3f3",
           "#FF6692",
           "#B6E880",
           "#FF97FF",
           "#FECB52"
          ],
          "font": {
           "color": "#2a3f5f"
          },
          "geo": {
           "bgcolor": "white",
           "lakecolor": "white",
           "landcolor": "white",
           "showlakes": true,
           "showland": true,
           "subunitcolor": "#C8D4E3"
          },
          "hoverlabel": {
           "align": "left"
          },
          "hovermode": "closest",
          "mapbox": {
           "style": "light"
          },
          "paper_bgcolor": "white",
          "plot_bgcolor": "white",
          "polar": {
           "angularaxis": {
            "gridcolor": "#EBF0F8",
            "linecolor": "#EBF0F8",
            "ticks": ""
           },
           "bgcolor": "white",
           "radialaxis": {
            "gridcolor": "#EBF0F8",
            "linecolor": "#EBF0F8",
            "ticks": ""
           }
          },
          "scene": {
           "xaxis": {
            "backgroundcolor": "white",
            "gridcolor": "#DFE8F3",
            "gridwidth": 2,
            "linecolor": "#EBF0F8",
            "showbackground": true,
            "ticks": "",
            "zerolinecolor": "#EBF0F8"
           },
           "yaxis": {
            "backgroundcolor": "white",
            "gridcolor": "#DFE8F3",
            "gridwidth": 2,
            "linecolor": "#EBF0F8",
            "showbackground": true,
            "ticks": "",
            "zerolinecolor": "#EBF0F8"
           },
           "zaxis": {
            "backgroundcolor": "white",
            "gridcolor": "#DFE8F3",
            "gridwidth": 2,
            "linecolor": "#EBF0F8",
            "showbackground": true,
            "ticks": "",
            "zerolinecolor": "#EBF0F8"
           }
          },
          "shapedefaults": {
           "line": {
            "color": "#2a3f5f"
           }
          },
          "ternary": {
           "aaxis": {
            "gridcolor": "#DFE8F3",
            "linecolor": "#A2B1C6",
            "ticks": ""
           },
           "baxis": {
            "gridcolor": "#DFE8F3",
            "linecolor": "#A2B1C6",
            "ticks": ""
           },
           "bgcolor": "white",
           "caxis": {
            "gridcolor": "#DFE8F3",
            "linecolor": "#A2B1C6",
            "ticks": ""
           }
          },
          "title": {
           "x": 0.05
          },
          "xaxis": {
           "automargin": true,
           "gridcolor": "#EBF0F8",
           "linecolor": "#EBF0F8",
           "ticks": "",
           "title": {
            "standoff": 15
           },
           "zerolinecolor": "#EBF0F8",
           "zerolinewidth": 2
          },
          "yaxis": {
           "automargin": true,
           "gridcolor": "#EBF0F8",
           "linecolor": "#EBF0F8",
           "ticks": "",
           "title": {
            "standoff": 15
           },
           "zerolinecolor": "#EBF0F8",
           "zerolinewidth": 2
          }
         }
        },
        "width": 800,
        "xaxis": {
         "anchor": "y",
         "domain": [
          0,
          1
         ],
         "title": {
          "text": "AUC"
         }
        },
        "yaxis": {
         "anchor": "x",
         "domain": [
          0,
          1
         ],
         "showticklabels": true,
         "tickmode": "linear",
         "title": {
          "text": "markers"
         }
        }
       }
      },
      "text/html": [
       "<div>                            <div id=\"14600256-4fc3-4480-9043-ca8c469d25e5\" class=\"plotly-graph-div\" style=\"height:800px; width:800px;\"></div>            <script type=\"text/javascript\">                require([\"plotly\"], function(Plotly) {                    window.PLOTLYENV=window.PLOTLYENV || {};                                    if (document.getElementById(\"14600256-4fc3-4480-9043-ca8c469d25e5\")) {                    Plotly.newPlot(                        \"14600256-4fc3-4480-9043-ca8c469d25e5\",                        [{\"alignmentgroup\":\"True\",\"hovertemplate\":\"significant=p > 0.05<br>AUC=%{x}<br>markers=%{y}<extra></extra>\",\"legendgroup\":\"p > 0.05\",\"marker\":{\"color\":\"#9AC529\"},\"name\":\"p > 0.05\",\"notched\":false,\"offsetgroup\":\"p > 0.05\",\"orientation\":\"h\",\"showlegend\":true,\"x\":[0.5668965517241379,0.5779310344827586,0.5931034482758621,0.6041379310344829,0.5186206896551724,0.4827586206896552,0.5028571428571429,0.5428571428571428,0.4628571428571428,0.4985714285714286,0.5489655172413793,0.3186206896551724,0.5462068965517242,0.5296551724137931,0.5406896551724137,0.5103448275862069,0.5071428571428571,0.56,0.5457142857142856,0.5657142857142857,0.5062068965517241,0.5213793103448275,0.3158620689655172,0.5903448275862069,0.4606896551724138,0.4303448275862069,0.4614285714285713,0.5471428571428572,0.4828571428571428,0.5714285714285714,0.6372413793103447,0.5793103448275863,0.5365517241379311,0.4896551724137931,0.3751724137931034,0.4772413793103449,0.5514285714285714,0.4757142857142856,0.5714285714285714,0.4228571428571429,0.5186206896551724,0.4648275862068965,0.5324137931034483,0.4193103448275862,0.5544827586206896,0.4537931034482759,0.4014285714285714,0.6200000000000001,0.4642857142857143,0.437142857142857,0.4772413793103448,0.3889655172413793,0.4620689655172413,0.3006896551724137,0.3820689655172414,0.526896551724138,0.5042857142857142,0.6071428571428571,0.5171428571428571,0.4457142857142857,0.4441379310344828,0.416551724137931,0.5213793103448277,0.5213793103448277,0.4675862068965517,0.3889655172413793,0.5142857142857142,0.4785714285714285,0.5428571428571429,0.3542857142857143,0.5751724137931035,0.48,0.5062068965517241,0.5544827586206896,0.3889655172413793,0.4896551724137931,0.4585714285714286,0.6257142857142857,0.4157142857142857,0.5671428571428571,0.3820689655172413,0.3972413793103448,0.4413793103448276,0.4262068965517241,0.5420689655172415,0.5172413793103449,0.4542857142857143,0.3571428571428571,0.6185714285714285,0.5228571428571429,0.4744827586206895,0.553103448275862,0.5572413793103448,0.4096551724137931,0.4896551724137931,0.423448275862069,0.4428571428571428,0.5228571428571428,0.5,0.5571428571428572,0.4689655172413792,0.5517241379310345,0.5406896551724139,0.449655172413793,0.4289655172413793,0.5420689655172414,0.387142857142857,0.5014285714285714,0.4785714285714285,0.4571428571428571,0.5062068965517241,0.503448275862069,0.463448275862069,0.5117241379310344,0.5213793103448277,0.4468965517241379,0.61,0.4757142857142857,0.5557142857142856,0.6414285714285713,0.5089655172413794,0.4951724137931034,0.4827586206896551,0.4937931034482758,0.4786206896551723,0.5751724137931035,0.4842857142857142,0.4842857142857142,0.5557142857142856,0.4785714285714286,0.4110344827586207,0.5903448275862069,0.5937931034482758,0.6427586206896552,0.5875862068965517,0.4965517241379309,0.4192857142857142,0.4942857142857143,0.4292857142857142,0.4857142857142857,0.6193103448275863,0.4937931034482758,0.4524137931034483,0.52,0.2593103448275862,0.5806896551724138,0.4085714285714285,0.3842857142857143,0.5185714285714286,0.4785714285714285,0.3448275862068966,0.6027586206896551,0.5793103448275863,0.4413793103448276,0.5020689655172413,0.5599999999999999,0.4428571428571428,0.4257142857142857,0.4985714285714285,0.5728571428571428,0.5517241379310345,0.3944827586206896,0.6179310344827585,0.6041379310344828,0.4882758620689655,0.5296551724137931,0.51,0.5342857142857143,0.4485714285714285,0.5357142857142856,0.4055172413793103,0.3613793103448276,0.5448275862068965,0.5075862068965518,0.5172413793103449,0.3834482758620689,0.42,0.5057142857142857,0.3757142857142857,0.3828571428571428,0.6055172413793104,0.4786206896551724,0.5889655172413794,0.44,0.4937931034482758,0.5737931034482758,0.5542857142857143,0.5671428571428572,0.4771428571428571,0.5614285714285714,0.6234482758620689,0.4675862068965517,0.4675862068965518,0.6124137931034482,0.5062068965517241,0.5517241379310345,0.62,0.5685714285714286,0.4842857142857142,0.3757142857142856,0.5062068965517241,0.4662068965517241,0.4620689655172413,0.5020689655172413,0.4662068965517242,0.3779310344827586,0.47,0.4185714285714285,0.51,0.5721428571428572,0.6027586206896552,0.5268965517241379,0.5103448275862069,0.6537931034482759,0.5324137931034483,0.5710344827586207,0.64,0.5457142857142857,0.4357142857142857,0.36,0.5117241379310344,0.5048275862068965,0.4151724137931034,0.593103448275862,0.4,0.4220689655172414,0.5257142857142857,0.4628571428571428,0.5242857142857142,0.5685714285714285,0.6055172413793104,0.4358620689655173,0.4289655172413793,0.5751724137931034,0.3724137931034482,0.6055172413793104,0.4057142857142856,0.4142857142857143,0.3985714285714286,0.4,0.4082758620689655,0.6372413793103449,0.5131034482758621,0.4634482758620689,0.5710344827586207,0.5103448275862068,0.4857142857142857,0.42,0.5914285714285714,0.4157142857142857,0.5710344827586207,0.5006896551724138,0.5944827586206897,0.5020689655172415,0.3475862068965517,0.4055172413793103,0.5071428571428571,0.5171428571428571,0.3628571428571429,0.4514285714285714,0.6151724137931034,0.4703448275862069,0.4537931034482759,0.4772413793103448,0.5365517241379311,0.4882758620689655,0.5785714285714285,0.5614285714285715,0.3485714285714285,0.5742857142857143,0.5489655172413793,0.4441379310344827,0.56,0.5296551724137931,0.4441379310344828,0.5613793103448276,0.5014285714285714,0.5485714285714286,0.3428571428571428,0.45,0.5903448275862069,0.5296551724137931,0.5006896551724138,0.4896551724137931,0.526896551724138,0.5158620689655172,0.6157142857142857,0.51,0.51,0.3557142857142857,0.4993103448275862,0.4510344827586207,0.4662068965517241,0.4717241379310344,0.5365517241379311,0.446896551724138,0.58,0.5157142857142857,0.4928571428571428,0.4585714285714286,0.5324137931034482,0.52,0.5255172413793103,0.393103448275862,0.496551724137931,0.5241379310344828,0.5257142857142857,0.4842857142857142,0.4314285714285714,0.4242857142857142,0.5351724137931033,0.5475862068965518,0.5724137931034483,0.4510344827586207,0.5213793103448277,0.5337931034482759,0.4828571428571429,0.5814285714285714,0.5728571428571428,0.4485714285714285,0.4551724137931034,0.4758620689655172,0.4151724137931034,0.5903448275862069,0.4979310344827586,0.4841379310344827,0.5128571428571429,0.4985714285714285,0.5285714285714285,0.3514285714285714,0.3958620689655172,0.4468965517241379,0.5296551724137931,0.3972413793103449,0.5158620689655172,0.6937931034482758,0.5842857142857143,0.5342857142857143,0.5042857142857143,0.4314285714285714,0.4482758620689656,0.5172413793103449,0.4744827586206896,0.6068965517241379,0.5724137931034483,0.4868965517241378,0.4599999999999999,0.62,0.5428571428571428,0.687142857142857,0.2675862068965517,0.6041379310344828,0.4055172413793103,0.4786206896551723,0.5917241379310344,0.4717241379310344,0.54,0.5085714285714286,0.6257142857142857,0.5457142857142857,0.5406896551724137,0.4827586206896552,0.6027586206896552,0.6275862068965518,0.5117241379310344,0.5544827586206897,0.5285714285714286,0.55,0.5242857142857142,0.4842857142857142,0.6786206896551723,0.4703448275862069,0.5724137931034482,0.6537931034482759,0.4317241379310345,0.546206896551724,0.44,0.5642857142857143,0.43,0.4599999999999999,0.5406896551724137,0.409655172413793,0.5655172413793104,0.5337931034482759,0.4868965517241379,0.6262068965517241,0.5171428571428571,0.4414285714285714,0.4957142857142858,0.6028571428571428,0.4372413793103448,0.4262068965517241,0.3089655172413793,0.5144827586206897,0.4468965517241379,0.5586206896551724,0.5914285714285714,0.2928571428571428,0.5357142857142857,0.43,0.5820689655172413,0.5310344827586206,0.5172413793103449,0.4551724137931034,0.3903448275862068,0.4372413793103449,0.4757142857142857,0.3728571428571428,0.4571428571428572,0.4785714285714286,0.4455172413793103,0.5186206896551724,0.4937931034482758,0.4413793103448276,0.3779310344827586,0.4937931034482758,0.4757142857142857,0.4457142857142857,0.5457142857142857,0.4314285714285714,0.5682758620689655,0.6220689655172413,0.4855172413793103,0.5406896551724139,0.503448275862069,0.5448275862068965,0.4228571428571428,0.6842857142857143,0.5142857142857143,0.4785714285714285,0.6110344827586207,0.5144827586206897,0.5379310344827586,0.4579310344827586,0.4179310344827586,0.5586206896551724,0.3299999999999999,0.4257142857142857,0.48,0.4499999999999999,0.5875862068965518,0.4855172413793103,0.4524137931034483,0.3806896551724138,0.4289655172413794,0.4979310344827586,0.6385714285714285,0.5528571428571428,0.6199999999999999,0.47,0.5544827586206896,0.4993103448275862,0.4841379310344827,0.433103448275862,0.3848275862068965,0.3972413793103448,0.3471428571428571,0.4914285714285714,0.5185714285714286,0.3728571428571428],\"x0\":\" \",\"xaxis\":\"x\",\"y\":[\"$wSMI\\\\gamma_{mean}$\",\"$wSMI\\\\gamma_{mean}$\",\"$wSMI\\\\gamma_{mean}$\",\"$wSMI\\\\gamma_{mean}$\",\"$wSMI\\\\gamma_{mean}$\",\"$wSMI\\\\gamma_{mean}$\",\"$wSMI\\\\gamma_{mean}$\",\"$wSMI\\\\gamma_{mean}$\",\"$wSMI\\\\gamma_{mean}$\",\"$wSMI\\\\gamma_{mean}$\",\"$wSMI\\\\gamma_{std}$\",\"$wSMI\\\\gamma_{std}$\",\"$wSMI\\\\gamma_{std}$\",\"$wSMI\\\\gamma_{std}$\",\"$wSMI\\\\gamma_{std}$\",\"$wSMI\\\\gamma_{std}$\",\"$wSMI\\\\gamma_{std}$\",\"$wSMI\\\\gamma_{std}$\",\"$wSMI\\\\gamma_{std}$\",\"$wSMI\\\\gamma_{std}$\",\"$wSMI\\\\beta_{mean}$\",\"$wSMI\\\\beta_{mean}$\",\"$wSMI\\\\beta_{mean}$\",\"$wSMI\\\\beta_{mean}$\",\"$wSMI\\\\beta_{mean}$\",\"$wSMI\\\\beta_{mean}$\",\"$wSMI\\\\beta_{mean}$\",\"$wSMI\\\\beta_{mean}$\",\"$wSMI\\\\beta_{mean}$\",\"$wSMI\\\\beta_{mean}$\",\"$wSMI\\\\beta_{std}$\",\"$wSMI\\\\beta_{std}$\",\"$wSMI\\\\beta_{std}$\",\"$wSMI\\\\beta_{std}$\",\"$wSMI\\\\beta_{std}$\",\"$wSMI\\\\beta_{std}$\",\"$wSMI\\\\beta_{std}$\",\"$wSMI\\\\beta_{std}$\",\"$wSMI\\\\beta_{std}$\",\"$wSMI\\\\beta_{std}$\",\"$wSMI\\\\alpha_{mean}$\",\"$wSMI\\\\alpha_{mean}$\",\"$wSMI\\\\alpha_{mean}$\",\"$wSMI\\\\alpha_{mean}$\",\"$wSMI\\\\alpha_{mean}$\",\"$wSMI\\\\alpha_{mean}$\",\"$wSMI\\\\alpha_{mean}$\",\"$wSMI\\\\alpha_{mean}$\",\"$wSMI\\\\alpha_{mean}$\",\"$wSMI\\\\alpha_{mean}$\",\"$wSMI\\\\alpha_{std}$\",\"$wSMI\\\\alpha_{std}$\",\"$wSMI\\\\alpha_{std}$\",\"$wSMI\\\\alpha_{std}$\",\"$wSMI\\\\alpha_{std}$\",\"$wSMI\\\\alpha_{std}$\",\"$wSMI\\\\alpha_{std}$\",\"$wSMI\\\\alpha_{std}$\",\"$wSMI\\\\alpha_{std}$\",\"$wSMI\\\\alpha_{std}$\",\"$wSMI\\\\theta_{mean}$\",\"$wSMI\\\\theta_{mean}$\",\"$wSMI\\\\theta_{mean}$\",\"$wSMI\\\\theta_{mean}$\",\"$wSMI\\\\theta_{mean}$\",\"$wSMI\\\\theta_{mean}$\",\"$wSMI\\\\theta_{mean}$\",\"$wSMI\\\\theta_{mean}$\",\"$wSMI\\\\theta_{mean}$\",\"$wSMI\\\\theta_{mean}$\",\"$wSMI\\\\theta_{std}$\",\"$wSMI\\\\theta_{std}$\",\"$wSMI\\\\theta_{std}$\",\"$wSMI\\\\theta_{std}$\",\"$wSMI\\\\theta_{std}$\",\"$wSMI\\\\theta_{std}$\",\"$wSMI\\\\theta_{std}$\",\"$wSMI\\\\theta_{std}$\",\"$wSMI\\\\theta_{std}$\",\"$wSMI\\\\theta_{std}$\",\"$PE\\\\gamma_{std}$\",\"$PE\\\\gamma_{std}$\",\"$PE\\\\gamma_{std}$\",\"$PE\\\\gamma_{std}$\",\"$PE\\\\gamma_{std}$\",\"$PE\\\\gamma_{std}$\",\"$PE\\\\gamma_{std}$\",\"$PE\\\\gamma_{std}$\",\"$PE\\\\gamma_{std}$\",\"$PE\\\\gamma_{std}$\",\"$PE\\\\beta_{std}$\",\"$PE\\\\beta_{std}$\",\"$PE\\\\beta_{std}$\",\"$PE\\\\beta_{std}$\",\"$PE\\\\beta_{std}$\",\"$PE\\\\beta_{std}$\",\"$PE\\\\beta_{std}$\",\"$PE\\\\beta_{std}$\",\"$PE\\\\beta_{std}$\",\"$PE\\\\beta_{std}$\",\"$PE\\\\alpha_{mean}$\",\"$PE\\\\alpha_{mean}$\",\"$PE\\\\alpha_{mean}$\",\"$PE\\\\alpha_{mean}$\",\"$PE\\\\alpha_{mean}$\",\"$PE\\\\alpha_{mean}$\",\"$PE\\\\alpha_{mean}$\",\"$PE\\\\alpha_{mean}$\",\"$PE\\\\alpha_{mean}$\",\"$PE\\\\alpha_{mean}$\",\"$PE\\\\alpha_{std}$\",\"$PE\\\\alpha_{std}$\",\"$PE\\\\alpha_{std}$\",\"$PE\\\\alpha_{std}$\",\"$PE\\\\alpha_{std}$\",\"$PE\\\\alpha_{std}$\",\"$PE\\\\alpha_{std}$\",\"$PE\\\\alpha_{std}$\",\"$PE\\\\alpha_{std}$\",\"$PE\\\\alpha_{std}$\",\"$PE\\\\theta_{std}$\",\"$PE\\\\theta_{std}$\",\"$PE\\\\theta_{std}$\",\"$PE\\\\theta_{std}$\",\"$PE\\\\theta_{std}$\",\"$PE\\\\theta_{std}$\",\"$PE\\\\theta_{std}$\",\"$PE\\\\theta_{std}$\",\"$PE\\\\theta_{std}$\",\"$PE\\\\theta_{std}$\",\"$K_{mean}$\",\"$K_{mean}$\",\"$K_{mean}$\",\"$K_{mean}$\",\"$K_{mean}$\",\"$K_{mean}$\",\"$K_{mean}$\",\"$K_{mean}$\",\"$K_{mean}$\",\"$K_{mean}$\",\"$K_{std}$\",\"$K_{std}$\",\"$K_{std}$\",\"$K_{std}$\",\"$K_{std}$\",\"$K_{std}$\",\"$K_{std}$\",\"$K_{std}$\",\"$K_{std}$\",\"$K_{std}$\",\"$SE_{mean}$\",\"$SE_{mean}$\",\"$SE_{mean}$\",\"$SE_{mean}$\",\"$SE_{mean}$\",\"$SE_{mean}$\",\"$SE_{mean}$\",\"$SE_{mean}$\",\"$SE_{mean}$\",\"$SE_{mean}$\",\"$SE_{std}$\",\"$SE_{std}$\",\"$SE_{std}$\",\"$SE_{std}$\",\"$SE_{std}$\",\"$SE_{std}$\",\"$SE_{std}$\",\"$SE_{std}$\",\"$SE_{std}$\",\"$SE_{std}$\",\"$MSF_{mean}$\",\"$MSF_{mean}$\",\"$MSF_{mean}$\",\"$MSF_{mean}$\",\"$MSF_{mean}$\",\"$MSF_{mean}$\",\"$MSF_{mean}$\",\"$MSF_{mean}$\",\"$MSF_{mean}$\",\"$MSF_{mean}$\",\"$MSF_{std}$\",\"$MSF_{std}$\",\"$MSF_{std}$\",\"$MSF_{std}$\",\"$MSF_{std}$\",\"$MSF_{std}$\",\"$MSF_{std}$\",\"$MSF_{std}$\",\"$MSF_{std}$\",\"$MSF_{std}$\",\"$SEF90_{mean}$\",\"$SEF90_{mean}$\",\"$SEF90_{mean}$\",\"$SEF90_{mean}$\",\"$SEF90_{mean}$\",\"$SEF90_{mean}$\",\"$SEF90_{mean}$\",\"$SEF90_{mean}$\",\"$SEF90_{mean}$\",\"$SEF90_{mean}$\",\"$SEF90_{std}$\",\"$SEF90_{std}$\",\"$SEF90_{std}$\",\"$SEF90_{std}$\",\"$SEF90_{std}$\",\"$SEF90_{std}$\",\"$SEF90_{std}$\",\"$SEF90_{std}$\",\"$SEF90_{std}$\",\"$SEF90_{std}$\",\"$SEF95_{mean}$\",\"$SEF95_{mean}$\",\"$SEF95_{mean}$\",\"$SEF95_{mean}$\",\"$SEF95_{mean}$\",\"$SEF95_{mean}$\",\"$SEF95_{mean}$\",\"$SEF95_{mean}$\",\"$SEF95_{mean}$\",\"$SEF95_{mean}$\",\"$SEF95_{std}$\",\"$SEF95_{std}$\",\"$SEF95_{std}$\",\"$SEF95_{std}$\",\"$SEF95_{std}$\",\"$SEF95_{std}$\",\"$SEF95_{std}$\",\"$SEF95_{std}$\",\"$SEF95_{std}$\",\"$SEF95_{std}$\",\"$\\\\beta_{std}$\",\"$\\\\beta_{std}$\",\"$\\\\beta_{std}$\",\"$\\\\beta_{std}$\",\"$\\\\beta_{std}$\",\"$\\\\beta_{std}$\",\"$\\\\beta_{std}$\",\"$\\\\beta_{std}$\",\"$\\\\beta_{std}$\",\"$\\\\beta_{std}$\",\"$|\\\\beta|_{mean}$\",\"$|\\\\beta|_{mean}$\",\"$|\\\\beta|_{mean}$\",\"$|\\\\beta|_{mean}$\",\"$|\\\\beta|_{mean}$\",\"$|\\\\beta|_{mean}$\",\"$|\\\\beta|_{mean}$\",\"$|\\\\beta|_{mean}$\",\"$|\\\\beta|_{mean}$\",\"$|\\\\beta|_{mean}$\",\"$|\\\\beta|_{std}$\",\"$|\\\\beta|_{std}$\",\"$|\\\\beta|_{std}$\",\"$|\\\\beta|_{std}$\",\"$|\\\\beta|_{std}$\",\"$|\\\\beta|_{std}$\",\"$|\\\\beta|_{std}$\",\"$|\\\\beta|_{std}$\",\"$|\\\\beta|_{std}$\",\"$|\\\\beta|_{std}$\",\"$\\\\gamma_{mean}$\",\"$\\\\gamma_{mean}$\",\"$\\\\gamma_{mean}$\",\"$\\\\gamma_{mean}$\",\"$\\\\gamma_{mean}$\",\"$\\\\gamma_{mean}$\",\"$\\\\gamma_{mean}$\",\"$\\\\gamma_{mean}$\",\"$\\\\gamma_{mean}$\",\"$\\\\gamma_{mean}$\",\"$\\\\gamma_{std}$\",\"$\\\\gamma_{std}$\",\"$\\\\gamma_{std}$\",\"$\\\\gamma_{std}$\",\"$\\\\gamma_{std}$\",\"$\\\\gamma_{std}$\",\"$\\\\gamma_{std}$\",\"$\\\\gamma_{std}$\",\"$\\\\gamma_{std}$\",\"$\\\\gamma_{std}$\",\"$|\\\\gamma|_{mean}$\",\"$|\\\\gamma|_{mean}$\",\"$|\\\\gamma|_{mean}$\",\"$|\\\\gamma|_{mean}$\",\"$|\\\\gamma|_{mean}$\",\"$|\\\\gamma|_{mean}$\",\"$|\\\\gamma|_{mean}$\",\"$|\\\\gamma|_{mean}$\",\"$|\\\\gamma|_{mean}$\",\"$|\\\\gamma|_{mean}$\",\"$|\\\\gamma|_{std}$\",\"$|\\\\gamma|_{std}$\",\"$|\\\\gamma|_{std}$\",\"$|\\\\gamma|_{std}$\",\"$|\\\\gamma|_{std}$\",\"$|\\\\gamma|_{std}$\",\"$|\\\\gamma|_{std}$\",\"$|\\\\gamma|_{std}$\",\"$|\\\\gamma|_{std}$\",\"$|\\\\gamma|_{std}$\",\"$\\\\theta_{std}$\",\"$\\\\theta_{std}$\",\"$\\\\theta_{std}$\",\"$\\\\theta_{std}$\",\"$\\\\theta_{std}$\",\"$\\\\theta_{std}$\",\"$\\\\theta_{std}$\",\"$\\\\theta_{std}$\",\"$\\\\theta_{std}$\",\"$\\\\theta_{std}$\",\"$|\\\\theta|_{mean}$\",\"$|\\\\theta|_{mean}$\",\"$|\\\\theta|_{mean}$\",\"$|\\\\theta|_{mean}$\",\"$|\\\\theta|_{mean}$\",\"$|\\\\theta|_{mean}$\",\"$|\\\\theta|_{mean}$\",\"$|\\\\theta|_{mean}$\",\"$|\\\\theta|_{mean}$\",\"$|\\\\theta|_{mean}$\",\"$|\\\\theta|_{std}$\",\"$|\\\\theta|_{std}$\",\"$|\\\\theta|_{std}$\",\"$|\\\\theta|_{std}$\",\"$|\\\\theta|_{std}$\",\"$|\\\\theta|_{std}$\",\"$|\\\\theta|_{std}$\",\"$|\\\\theta|_{std}$\",\"$|\\\\theta|_{std}$\",\"$|\\\\theta|_{std}$\",\"$\\\\delta_{mean}$\",\"$\\\\delta_{mean}$\",\"$\\\\delta_{mean}$\",\"$\\\\delta_{mean}$\",\"$\\\\delta_{mean}$\",\"$\\\\delta_{mean}$\",\"$\\\\delta_{mean}$\",\"$\\\\delta_{mean}$\",\"$\\\\delta_{mean}$\",\"$\\\\delta_{mean}$\",\"$\\\\delta_{std}$\",\"$\\\\delta_{std}$\",\"$\\\\delta_{std}$\",\"$\\\\delta_{std}$\",\"$\\\\delta_{std}$\",\"$\\\\delta_{std}$\",\"$\\\\delta_{std}$\",\"$\\\\delta_{std}$\",\"$\\\\delta_{std}$\",\"$\\\\delta_{std}$\",\"$|\\\\delta|_{std}$\",\"$|\\\\delta|_{std}$\",\"$|\\\\delta|_{std}$\",\"$|\\\\delta|_{std}$\",\"$|\\\\delta|_{std}$\",\"$|\\\\delta|_{std}$\",\"$|\\\\delta|_{std}$\",\"$|\\\\delta|_{std}$\",\"$|\\\\delta|_{std}$\",\"$|\\\\delta|_{std}$\",\"$|\\\\alpha|_{std}$\",\"$|\\\\alpha|_{std}$\",\"$|\\\\alpha|_{std}$\",\"$|\\\\alpha|_{std}$\",\"$|\\\\alpha|_{std}$\",\"$|\\\\alpha|_{std}$\",\"$|\\\\alpha|_{std}$\",\"$|\\\\alpha|_{std}$\",\"$|\\\\alpha|_{std}$\",\"$|\\\\alpha|_{std}$\",\"$\\\\alpha_{std}$\",\"$\\\\alpha_{std}$\",\"$\\\\alpha_{std}$\",\"$\\\\alpha_{std}$\",\"$\\\\alpha_{std}$\",\"$\\\\alpha_{std}$\",\"$\\\\alpha_{std}$\",\"$\\\\alpha_{std}$\",\"$\\\\alpha_{std}$\",\"$\\\\alpha_{std}$\",\"$CNV_{mean}$\",\"$CNV_{mean}$\",\"$CNV_{mean}$\",\"$CNV_{mean}$\",\"$CNV_{mean}$\",\"$CNV_{mean}$\",\"$CNV_{mean}$\",\"$CNV_{mean}$\",\"$CNV_{mean}$\",\"$CNV_{mean}$\",\"$CNV_{std}$\",\"$CNV_{std}$\",\"$CNV_{std}$\",\"$CNV_{std}$\",\"$CNV_{std}$\",\"$CNV_{std}$\",\"$CNV_{std}$\",\"$CNV_{std}$\",\"$CNV_{std}$\",\"$CNV_{std}$\",\"$P1_{mean}$\",\"$P1_{mean}$\",\"$P1_{mean}$\",\"$P1_{mean}$\",\"$P1_{mean}$\",\"$P1_{mean}$\",\"$P1_{mean}$\",\"$P1_{mean}$\",\"$P1_{mean}$\",\"$P1_{mean}$\",\"$P1_{std}$\",\"$P1_{std}$\",\"$P1_{std}$\",\"$P1_{std}$\",\"$P1_{std}$\",\"$P1_{std}$\",\"$P1_{std}$\",\"$P1_{std}$\",\"$P1_{std}$\",\"$P1_{std}$\",\"$P3a_{mean}$\",\"$P3a_{mean}$\",\"$P3a_{mean}$\",\"$P3a_{mean}$\",\"$P3a_{mean}$\",\"$P3a_{mean}$\",\"$P3a_{mean}$\",\"$P3a_{mean}$\",\"$P3a_{mean}$\",\"$P3a_{mean}$\",\"$P3a_{std}$\",\"$P3a_{std}$\",\"$P3a_{std}$\",\"$P3a_{std}$\",\"$P3a_{std}$\",\"$P3a_{std}$\",\"$P3a_{std}$\",\"$P3a_{std}$\",\"$P3a_{std}$\",\"$P3a_{std}$\",\"$P3b_{mean}$\",\"$P3b_{mean}$\",\"$P3b_{mean}$\",\"$P3b_{mean}$\",\"$P3b_{mean}$\",\"$P3b_{mean}$\",\"$P3b_{mean}$\",\"$P3b_{mean}$\",\"$P3b_{mean}$\",\"$P3b_{mean}$\",\"$P3b_{std}$\",\"$P3b_{std}$\",\"$P3b_{std}$\",\"$P3b_{std}$\",\"$P3b_{std}$\",\"$P3b_{std}$\",\"$P3b_{std}$\",\"$P3b_{std}$\",\"$P3b_{std}$\",\"$P3b_{std}$\"],\"y0\":\" \",\"yaxis\":\"y\",\"type\":\"box\"},{\"alignmentgroup\":\"True\",\"hovertemplate\":\"significant=p < 0.05 uncorrected<br>AUC=%{x}<br>markers=%{y}<extra></extra>\",\"legendgroup\":\"p < 0.05 uncorrected\",\"marker\":{\"color\":\"#F38A31\"},\"name\":\"p < 0.05 uncorrected\",\"notched\":false,\"offsetgroup\":\"p < 0.05 uncorrected\",\"orientation\":\"h\",\"showlegend\":true,\"x\":[0.602758620689655,0.6620689655172414,0.593103448275862,0.6179310344827585,0.5793103448275863,0.5241379310344828,0.5571428571428572,0.5657142857142857,0.45,0.4128571428571428,0.663448275862069,0.6,0.5296551724137931,0.6289655172413793,0.5710344827586207,0.5889655172413792,0.58,0.5814285714285714,0.4742857142857142,0.4371428571428571,0.5062068965517241,0.5324137931034483,0.6924137931034483,0.5655172413793104,0.4744827586206897,0.6689655172413793,0.5071428571428571,0.5785714285714285,0.5871428571428571,0.51],\"x0\":\" \",\"xaxis\":\"x\",\"y\":[\"$PE\\\\gamma_{mean}$\",\"$PE\\\\gamma_{mean}$\",\"$PE\\\\gamma_{mean}$\",\"$PE\\\\gamma_{mean}$\",\"$PE\\\\gamma_{mean}$\",\"$PE\\\\gamma_{mean}$\",\"$PE\\\\gamma_{mean}$\",\"$PE\\\\gamma_{mean}$\",\"$PE\\\\gamma_{mean}$\",\"$PE\\\\gamma_{mean}$\",\"$PE\\\\beta_{mean}$\",\"$PE\\\\beta_{mean}$\",\"$PE\\\\beta_{mean}$\",\"$PE\\\\beta_{mean}$\",\"$PE\\\\beta_{mean}$\",\"$PE\\\\beta_{mean}$\",\"$PE\\\\beta_{mean}$\",\"$PE\\\\beta_{mean}$\",\"$PE\\\\beta_{mean}$\",\"$PE\\\\beta_{mean}$\",\"$\\\\theta_{mean}$\",\"$\\\\theta_{mean}$\",\"$\\\\theta_{mean}$\",\"$\\\\theta_{mean}$\",\"$\\\\theta_{mean}$\",\"$\\\\theta_{mean}$\",\"$\\\\theta_{mean}$\",\"$\\\\theta_{mean}$\",\"$\\\\theta_{mean}$\",\"$\\\\theta_{mean}$\"],\"y0\":\" \",\"yaxis\":\"y\",\"type\":\"box\"},{\"alignmentgroup\":\"True\",\"hovertemplate\":\"significant=p < 0.05 FDR corrected<br>AUC=%{x}<br>markers=%{y}<extra></extra>\",\"legendgroup\":\"p < 0.05 FDR corrected\",\"marker\":{\"color\":\"#42B9B2\"},\"name\":\"p < 0.05 FDR corrected\",\"notched\":false,\"offsetgroup\":\"p < 0.05 FDR corrected\",\"orientation\":\"h\",\"showlegend\":true,\"x\":[0.6786206896551724,0.6041379310344828,0.6193103448275861,0.6413793103448275,0.6372413793103447,0.6910344827586208,0.64,0.6657142857142856,0.5285714285714285,0.5971428571428572,0.5572413793103448,0.6206896551724138,0.5793103448275863,0.6289655172413794,0.4455172413793103,0.6455172413793103,0.5085714285714286,0.5171428571428571,0.72,0.5957142857142858,0.4193103448275862,0.6882758620689655,0.5531034482758621,0.6082758620689654,0.5848275862068966,0.6896551724137931,0.4957142857142857,0.5428571428571428,0.6157142857142857,0.7014285714285715,0.6468965517241378,0.6082758620689654,0.6358620689655171,0.6124137931034482,0.5586206896551724,0.623448275862069,0.6185714285714285,0.6214285714285714,0.5042857142857142,0.51,0.6,0.5986206896551725,0.6,0.6772413793103448,0.5131034482758621,0.6979310344827586,0.5357142857142857,0.6242857142857142,0.6499999999999999,0.5628571428571428,1.0,1.0,1.0,1.0,1.0,1.0,1.0,1.0,1.0,1.0],\"x0\":\" \",\"xaxis\":\"x\",\"y\":[\"$PE\\\\theta_{mean}$\",\"$PE\\\\theta_{mean}$\",\"$PE\\\\theta_{mean}$\",\"$PE\\\\theta_{mean}$\",\"$PE\\\\theta_{mean}$\",\"$PE\\\\theta_{mean}$\",\"$PE\\\\theta_{mean}$\",\"$PE\\\\theta_{mean}$\",\"$PE\\\\theta_{mean}$\",\"$PE\\\\theta_{mean}$\",\"$\\\\beta_{mean}$\",\"$\\\\beta_{mean}$\",\"$\\\\beta_{mean}$\",\"$\\\\beta_{mean}$\",\"$\\\\beta_{mean}$\",\"$\\\\beta_{mean}$\",\"$\\\\beta_{mean}$\",\"$\\\\beta_{mean}$\",\"$\\\\beta_{mean}$\",\"$\\\\beta_{mean}$\",\"$|\\\\delta|_{mean}$\",\"$|\\\\delta|_{mean}$\",\"$|\\\\delta|_{mean}$\",\"$|\\\\delta|_{mean}$\",\"$|\\\\delta|_{mean}$\",\"$|\\\\delta|_{mean}$\",\"$|\\\\delta|_{mean}$\",\"$|\\\\delta|_{mean}$\",\"$|\\\\delta|_{mean}$\",\"$|\\\\delta|_{mean}$\",\"$|\\\\alpha|_{mean}$\",\"$|\\\\alpha|_{mean}$\",\"$|\\\\alpha|_{mean}$\",\"$|\\\\alpha|_{mean}$\",\"$|\\\\alpha|_{mean}$\",\"$|\\\\alpha|_{mean}$\",\"$|\\\\alpha|_{mean}$\",\"$|\\\\alpha|_{mean}$\",\"$|\\\\alpha|_{mean}$\",\"$|\\\\alpha|_{mean}$\",\"$\\\\alpha_{mean}$\",\"$\\\\alpha_{mean}$\",\"$\\\\alpha_{mean}$\",\"$\\\\alpha_{mean}$\",\"$\\\\alpha_{mean}$\",\"$\\\\alpha_{mean}$\",\"$\\\\alpha_{mean}$\",\"$\\\\alpha_{mean}$\",\"$\\\\alpha_{mean}$\",\"$\\\\alpha_{mean}$\",\"mind_order\",\"mind_order\",\"mind_order\",\"mind_order\",\"mind_order\",\"mind_order\",\"mind_order\",\"mind_order\",\"mind_order\",\"mind_order\"],\"y0\":\" \",\"yaxis\":\"y\",\"type\":\"box\"}],                        {\"template\":{\"data\":{\"barpolar\":[{\"marker\":{\"line\":{\"color\":\"white\",\"width\":0.5},\"pattern\":{\"fillmode\":\"overlay\",\"size\":10,\"solidity\":0.2}},\"type\":\"barpolar\"}],\"bar\":[{\"error_x\":{\"color\":\"#2a3f5f\"},\"error_y\":{\"color\":\"#2a3f5f\"},\"marker\":{\"line\":{\"color\":\"white\",\"width\":0.5},\"pattern\":{\"fillmode\":\"overlay\",\"size\":10,\"solidity\":0.2}},\"type\":\"bar\"}],\"carpet\":[{\"aaxis\":{\"endlinecolor\":\"#2a3f5f\",\"gridcolor\":\"#C8D4E3\",\"linecolor\":\"#C8D4E3\",\"minorgridcolor\":\"#C8D4E3\",\"startlinecolor\":\"#2a3f5f\"},\"baxis\":{\"endlinecolor\":\"#2a3f5f\",\"gridcolor\":\"#C8D4E3\",\"linecolor\":\"#C8D4E3\",\"minorgridcolor\":\"#C8D4E3\",\"startlinecolor\":\"#2a3f5f\"},\"type\":\"carpet\"}],\"choropleth\":[{\"colorbar\":{\"outlinewidth\":0,\"ticks\":\"\"},\"type\":\"choropleth\"}],\"contourcarpet\":[{\"colorbar\":{\"outlinewidth\":0,\"ticks\":\"\"},\"type\":\"contourcarpet\"}],\"contour\":[{\"colorbar\":{\"outlinewidth\":0,\"ticks\":\"\"},\"colorscale\":[[0.0,\"#0d0887\"],[0.1111111111111111,\"#46039f\"],[0.2222222222222222,\"#7201a8\"],[0.3333333333333333,\"#9c179e\"],[0.4444444444444444,\"#bd3786\"],[0.5555555555555556,\"#d8576b\"],[0.6666666666666666,\"#ed7953\"],[0.7777777777777778,\"#fb9f3a\"],[0.8888888888888888,\"#fdca26\"],[1.0,\"#f0f921\"]],\"type\":\"contour\"}],\"heatmapgl\":[{\"colorbar\":{\"outlinewidth\":0,\"ticks\":\"\"},\"colorscale\":[[0.0,\"#0d0887\"],[0.1111111111111111,\"#46039f\"],[0.2222222222222222,\"#7201a8\"],[0.3333333333333333,\"#9c179e\"],[0.4444444444444444,\"#bd3786\"],[0.5555555555555556,\"#d8576b\"],[0.6666666666666666,\"#ed7953\"],[0.7777777777777778,\"#fb9f3a\"],[0.8888888888888888,\"#fdca26\"],[1.0,\"#f0f921\"]],\"type\":\"heatmapgl\"}],\"heatmap\":[{\"colorbar\":{\"outlinewidth\":0,\"ticks\":\"\"},\"colorscale\":[[0.0,\"#0d0887\"],[0.1111111111111111,\"#46039f\"],[0.2222222222222222,\"#7201a8\"],[0.3333333333333333,\"#9c179e\"],[0.4444444444444444,\"#bd3786\"],[0.5555555555555556,\"#d8576b\"],[0.6666666666666666,\"#ed7953\"],[0.7777777777777778,\"#fb9f3a\"],[0.8888888888888888,\"#fdca26\"],[1.0,\"#f0f921\"]],\"type\":\"heatmap\"}],\"histogram2dcontour\":[{\"colorbar\":{\"outlinewidth\":0,\"ticks\":\"\"},\"colorscale\":[[0.0,\"#0d0887\"],[0.1111111111111111,\"#46039f\"],[0.2222222222222222,\"#7201a8\"],[0.3333333333333333,\"#9c179e\"],[0.4444444444444444,\"#bd3786\"],[0.5555555555555556,\"#d8576b\"],[0.6666666666666666,\"#ed7953\"],[0.7777777777777778,\"#fb9f3a\"],[0.8888888888888888,\"#fdca26\"],[1.0,\"#f0f921\"]],\"type\":\"histogram2dcontour\"}],\"histogram2d\":[{\"colorbar\":{\"outlinewidth\":0,\"ticks\":\"\"},\"colorscale\":[[0.0,\"#0d0887\"],[0.1111111111111111,\"#46039f\"],[0.2222222222222222,\"#7201a8\"],[0.3333333333333333,\"#9c179e\"],[0.4444444444444444,\"#bd3786\"],[0.5555555555555556,\"#d8576b\"],[0.6666666666666666,\"#ed7953\"],[0.7777777777777778,\"#fb9f3a\"],[0.8888888888888888,\"#fdca26\"],[1.0,\"#f0f921\"]],\"type\":\"histogram2d\"}],\"histogram\":[{\"marker\":{\"pattern\":{\"fillmode\":\"overlay\",\"size\":10,\"solidity\":0.2}},\"type\":\"histogram\"}],\"mesh3d\":[{\"colorbar\":{\"outlinewidth\":0,\"ticks\":\"\"},\"type\":\"mesh3d\"}],\"parcoords\":[{\"line\":{\"colorbar\":{\"outlinewidth\":0,\"ticks\":\"\"}},\"type\":\"parcoords\"}],\"pie\":[{\"automargin\":true,\"type\":\"pie\"}],\"scatter3d\":[{\"line\":{\"colorbar\":{\"outlinewidth\":0,\"ticks\":\"\"}},\"marker\":{\"colorbar\":{\"outlinewidth\":0,\"ticks\":\"\"}},\"type\":\"scatter3d\"}],\"scattercarpet\":[{\"marker\":{\"colorbar\":{\"outlinewidth\":0,\"ticks\":\"\"}},\"type\":\"scattercarpet\"}],\"scattergeo\":[{\"marker\":{\"colorbar\":{\"outlinewidth\":0,\"ticks\":\"\"}},\"type\":\"scattergeo\"}],\"scattergl\":[{\"marker\":{\"colorbar\":{\"outlinewidth\":0,\"ticks\":\"\"}},\"type\":\"scattergl\"}],\"scattermapbox\":[{\"marker\":{\"colorbar\":{\"outlinewidth\":0,\"ticks\":\"\"}},\"type\":\"scattermapbox\"}],\"scatterpolargl\":[{\"marker\":{\"colorbar\":{\"outlinewidth\":0,\"ticks\":\"\"}},\"type\":\"scatterpolargl\"}],\"scatterpolar\":[{\"marker\":{\"colorbar\":{\"outlinewidth\":0,\"ticks\":\"\"}},\"type\":\"scatterpolar\"}],\"scatter\":[{\"marker\":{\"colorbar\":{\"outlinewidth\":0,\"ticks\":\"\"}},\"type\":\"scatter\"}],\"scatterternary\":[{\"marker\":{\"colorbar\":{\"outlinewidth\":0,\"ticks\":\"\"}},\"type\":\"scatterternary\"}],\"surface\":[{\"colorbar\":{\"outlinewidth\":0,\"ticks\":\"\"},\"colorscale\":[[0.0,\"#0d0887\"],[0.1111111111111111,\"#46039f\"],[0.2222222222222222,\"#7201a8\"],[0.3333333333333333,\"#9c179e\"],[0.4444444444444444,\"#bd3786\"],[0.5555555555555556,\"#d8576b\"],[0.6666666666666666,\"#ed7953\"],[0.7777777777777778,\"#fb9f3a\"],[0.8888888888888888,\"#fdca26\"],[1.0,\"#f0f921\"]],\"type\":\"surface\"}],\"table\":[{\"cells\":{\"fill\":{\"color\":\"#EBF0F8\"},\"line\":{\"color\":\"white\"}},\"header\":{\"fill\":{\"color\":\"#C8D4E3\"},\"line\":{\"color\":\"white\"}},\"type\":\"table\"}]},\"layout\":{\"annotationdefaults\":{\"arrowcolor\":\"#2a3f5f\",\"arrowhead\":0,\"arrowwidth\":1},\"autotypenumbers\":\"strict\",\"coloraxis\":{\"colorbar\":{\"outlinewidth\":0,\"ticks\":\"\"}},\"colorscale\":{\"diverging\":[[0,\"#8e0152\"],[0.1,\"#c51b7d\"],[0.2,\"#de77ae\"],[0.3,\"#f1b6da\"],[0.4,\"#fde0ef\"],[0.5,\"#f7f7f7\"],[0.6,\"#e6f5d0\"],[0.7,\"#b8e186\"],[0.8,\"#7fbc41\"],[0.9,\"#4d9221\"],[1,\"#276419\"]],\"sequential\":[[0.0,\"#0d0887\"],[0.1111111111111111,\"#46039f\"],[0.2222222222222222,\"#7201a8\"],[0.3333333333333333,\"#9c179e\"],[0.4444444444444444,\"#bd3786\"],[0.5555555555555556,\"#d8576b\"],[0.6666666666666666,\"#ed7953\"],[0.7777777777777778,\"#fb9f3a\"],[0.8888888888888888,\"#fdca26\"],[1.0,\"#f0f921\"]],\"sequentialminus\":[[0.0,\"#0d0887\"],[0.1111111111111111,\"#46039f\"],[0.2222222222222222,\"#7201a8\"],[0.3333333333333333,\"#9c179e\"],[0.4444444444444444,\"#bd3786\"],[0.5555555555555556,\"#d8576b\"],[0.6666666666666666,\"#ed7953\"],[0.7777777777777778,\"#fb9f3a\"],[0.8888888888888888,\"#fdca26\"],[1.0,\"#f0f921\"]]},\"colorway\":[\"#636efa\",\"#EF553B\",\"#00cc96\",\"#ab63fa\",\"#FFA15A\",\"#19d3f3\",\"#FF6692\",\"#B6E880\",\"#FF97FF\",\"#FECB52\"],\"font\":{\"color\":\"#2a3f5f\"},\"geo\":{\"bgcolor\":\"white\",\"lakecolor\":\"white\",\"landcolor\":\"white\",\"showlakes\":true,\"showland\":true,\"subunitcolor\":\"#C8D4E3\"},\"hoverlabel\":{\"align\":\"left\"},\"hovermode\":\"closest\",\"mapbox\":{\"style\":\"light\"},\"paper_bgcolor\":\"white\",\"plot_bgcolor\":\"white\",\"polar\":{\"angularaxis\":{\"gridcolor\":\"#EBF0F8\",\"linecolor\":\"#EBF0F8\",\"ticks\":\"\"},\"bgcolor\":\"white\",\"radialaxis\":{\"gridcolor\":\"#EBF0F8\",\"linecolor\":\"#EBF0F8\",\"ticks\":\"\"}},\"scene\":{\"xaxis\":{\"backgroundcolor\":\"white\",\"gridcolor\":\"#DFE8F3\",\"gridwidth\":2,\"linecolor\":\"#EBF0F8\",\"showbackground\":true,\"ticks\":\"\",\"zerolinecolor\":\"#EBF0F8\"},\"yaxis\":{\"backgroundcolor\":\"white\",\"gridcolor\":\"#DFE8F3\",\"gridwidth\":2,\"linecolor\":\"#EBF0F8\",\"showbackground\":true,\"ticks\":\"\",\"zerolinecolor\":\"#EBF0F8\"},\"zaxis\":{\"backgroundcolor\":\"white\",\"gridcolor\":\"#DFE8F3\",\"gridwidth\":2,\"linecolor\":\"#EBF0F8\",\"showbackground\":true,\"ticks\":\"\",\"zerolinecolor\":\"#EBF0F8\"}},\"shapedefaults\":{\"line\":{\"color\":\"#2a3f5f\"}},\"ternary\":{\"aaxis\":{\"gridcolor\":\"#DFE8F3\",\"linecolor\":\"#A2B1C6\",\"ticks\":\"\"},\"baxis\":{\"gridcolor\":\"#DFE8F3\",\"linecolor\":\"#A2B1C6\",\"ticks\":\"\"},\"bgcolor\":\"white\",\"caxis\":{\"gridcolor\":\"#DFE8F3\",\"linecolor\":\"#A2B1C6\",\"ticks\":\"\"}},\"title\":{\"x\":0.05},\"xaxis\":{\"automargin\":true,\"gridcolor\":\"#EBF0F8\",\"linecolor\":\"#EBF0F8\",\"ticks\":\"\",\"title\":{\"standoff\":15},\"zerolinecolor\":\"#EBF0F8\",\"zerolinewidth\":2},\"yaxis\":{\"automargin\":true,\"gridcolor\":\"#EBF0F8\",\"linecolor\":\"#EBF0F8\",\"ticks\":\"\",\"title\":{\"standoff\":15},\"zerolinecolor\":\"#EBF0F8\",\"zerolinewidth\":2}}},\"xaxis\":{\"anchor\":\"y\",\"domain\":[0.0,1.0],\"title\":{\"text\":\"AUC\"}},\"yaxis\":{\"anchor\":\"x\",\"domain\":[0.0,1.0],\"title\":{\"text\":\"markers\"},\"showticklabels\":true,\"tickmode\":\"linear\"},\"legend\":{\"title\":{\"text\":\"significant\"},\"tracegroupgap\":0},\"margin\":{\"t\":60},\"boxmode\":\"group\",\"shapes\":[{\"line\":{\"color\":\"grey\",\"dash\":\"dash\",\"width\":3},\"type\":\"line\",\"x0\":0.5,\"x1\":0.5,\"xref\":\"x\",\"y0\":0,\"y1\":1,\"yref\":\"y domain\"}],\"autosize\":false,\"width\":800,\"height\":800},                        {\"responsive\": true}                    ).then(function(){\n",
       "                            \n",
       "var gd = document.getElementById('14600256-4fc3-4480-9043-ca8c469d25e5');\n",
       "var x = new MutationObserver(function (mutations, observer) {{\n",
       "        var display = window.getComputedStyle(gd).display;\n",
       "        if (!display || display === 'none') {{\n",
       "            console.log([gd, 'removed!']);\n",
       "            Plotly.purge(gd);\n",
       "            observer.disconnect();\n",
       "        }}\n",
       "}});\n",
       "\n",
       "// Listen for the removal of the full notebook cells\n",
       "var notebookContainer = gd.closest('#notebook-container');\n",
       "if (notebookContainer) {{\n",
       "    x.observe(notebookContainer, {childList: true});\n",
       "}}\n",
       "\n",
       "// Listen for the clearing of the current output cell\n",
       "var outputEl = gd.closest('.output');\n",
       "if (outputEl) {{\n",
       "    x.observe(outputEl, {childList: true});\n",
       "}}\n",
       "\n",
       "                        })                };                });            </script>        </div>"
      ]
     },
     "metadata": {},
     "output_type": "display_data"
    }
   ],
   "source": [
    "svc_mw = pd.read_csv('Data/univariate_svc_mw.csv')\n",
    "\n",
    "fig = px.box(svc_mw, y=\"markers\", x=\"AUC\", color=\"significant\", template = \"plotly_white\", color_discrete_sequence = [green, orange, lblue])\n",
    "fig.add_vline(x=0.5, line_width=3, line_dash=\"dash\", line_color=\"grey\")\n",
    "\n",
    "fig.update_layout(\n",
    "    autosize=False,\n",
    "    width=800,\n",
    "    height=800,\n",
    "    yaxis = {\n",
    "            'showticklabels': True,\n",
    "            'tickmode': 'linear',\n",
    "        }\n",
    ")\n",
    "\n",
    "\n",
    "fig.show()\n",
    "pio.write_json(fig, 'Figs/univariate_svc_mw_segment.plotly')\n"
   ]
  },
  {
   "cell_type": "markdown",
   "id": "blind-register",
   "metadata": {},
   "source": [
    "## Probe Caught vs Self-Caught\n"
   ]
  },
  {
   "cell_type": "code",
   "execution_count": 19,
   "id": "stupid-fountain",
   "metadata": {},
   "outputs": [
    {
     "ename": "NameError",
     "evalue": "name 'df_probe' is not defined",
     "output_type": "error",
     "traceback": [
      "\u001b[0;31m---------------------------------------------------------------------------\u001b[0m",
      "\u001b[0;31mNameError\u001b[0m                                 Traceback (most recent call last)",
      "\u001b[1;32m/Users/nicobruno/mw_markers_project/univariate_analysis.ipynb Cell 29\u001b[0m in \u001b[0;36m<module>\u001b[0;34m\u001b[0m\n\u001b[0;32m----> <a href='vscode-notebook-cell:/Users/nicobruno/mw_markers_project/univariate_analysis.ipynb#ch0000028?line=0'>1</a>\u001b[0m sns\u001b[39m.\u001b[39mdisplot(x \u001b[39m=\u001b[39m \u001b[39m'\u001b[39m\u001b[39m$CNV_\u001b[39m\u001b[39m{mean}\u001b[39;00m\u001b[39m$\u001b[39m\u001b[39m'\u001b[39m, hue\u001b[39m=\u001b[39m\u001b[39m'\u001b[39m\u001b[39mprobe\u001b[39m\u001b[39m'\u001b[39m,data \u001b[39m=\u001b[39m df_probe)\n",
      "\u001b[0;31mNameError\u001b[0m: name 'df_probe' is not defined"
     ]
    }
   ],
   "source": [
    "sns.displot(x = '$CNV_{mean}$', hue='probe',data = df_probe)"
   ]
  },
  {
   "cell_type": "code",
   "execution_count": null,
   "id": "ranking-moderator",
   "metadata": {},
   "outputs": [
    {
     "ename": "",
     "evalue": "",
     "output_type": "error",
     "traceback": [
      "\u001b[1;31mFailed to start the Kernel. \n",
      "Failed to start the Kernel 'mne (Python 3.9.7)'. \n",
      "View Jupyter <a href='command:jupyter.viewOutput'>log</a> for further details. Interrupted system call"
     ]
    }
   ],
   "source": [
    "agg_dict = {k:['mean', 'std'] for k in markers }\n",
    "agg_dict.update({k:'first' for k in df_markers.drop(markers, axis=1).columns})\n",
    "\n",
    "df_probe = (\n",
    "    df_markers\n",
    "    .query(\"mind != 'on-task'\")\n",
    "    .groupby(['segment', 'participant'], as_index = False).agg(agg_dict)\n",
    ")\n",
    "\n",
    "# df_probe.columns = df_probe.columns.map(\"_\".join)\n",
    "\n",
    "# df_probe  = (df_probe\n",
    "#             .rename(columns = {'participant_first':'participant', 'probe_first':'probe', 'mind_first':'mind', 'segment_first':'segment'})\n",
    "#             .drop(['participant', 'mind', 'segment'], axis = 1) \n",
    "#            )\n",
    "\n",
    "#### Use latex command for nmaes###\n",
    "##it slow downs the computer, just for final figures.\n",
    "\n",
    "df_probe = correct_name_markers(df_probe)\n",
    "\n",
    "df_probe.columns = df_probe.columns.map(\"$_{\".join).map(lambda x: x + '}$').map(lambda x: x.replace('$$', ''))\n",
    "\n",
    "df_probe  = (df_probe\n",
    "            .rename(columns = {'participant$_{first}$':'participant', 'probe$_{first}$':'probe', 'mind$_{first}$':'mind', 'segment$_{first}$':'segment'})\n",
    "           \n",
    "            .drop(['participant', 'mind', 'segment'], axis = 1) \n",
    "           )"
   ]
  },
  {
   "cell_type": "code",
   "execution_count": null,
   "id": "preliminary-variable",
   "metadata": {},
   "outputs": [
    {
     "ename": "",
     "evalue": "",
     "output_type": "error",
     "traceback": [
      "\u001b[1;31mFailed to start the Kernel. \n",
      "Failed to start the Kernel 'mne (Python 3.9.7)'. \n",
      "View Jupyter <a href='command:jupyter.viewOutput'>log</a> for further details. Interrupted system call"
     ]
    }
   ],
   "source": [
    "sc = df_probe[df_probe.probe == 'SC']\n",
    "pc = df_probe[df_probe.probe == 'PC']\n",
    "print(f'SC {len(sc)}, PC: {len(pc)}')\n",
    "\n",
    "AUC = []\n",
    "pvalues = {}\n",
    "for i in df_probe.drop('probe', axis = 1).columns:\n",
    "    rus = RandomUnderSampler(random_state=42, replacement=True)# fit predictor and target variable\n",
    "\n",
    "    probe_rus = rus.fit_resample(df_probe[i].astype(\"float32\").values.reshape(-1,1), df_probe.probe)\n",
    "\n",
    "    df_probe_rus = pd.DataFrame(probe_rus[0], columns =['marker']).assign(probe = probe_rus[1])\n",
    "    \n",
    "    sc = df_probe_rus.query(\"probe == 'SC'\")['marker']\n",
    "    pc = df_probe_rus.query(\"probe == 'PC'\")['marker']\n",
    "    auc = roc_auc_score(df_probe_rus['probe'], df_probe_rus['marker'])\n",
    "    print(f'AUC {i} = {auc}', f'{mannwhitneyu(x = sc, y = pc)}')\n",
    "    AUC.append([i, auc])\n",
    "    pvalues[i] = mannwhitneyu(x = sc, y =pc).pvalue \n",
    "        \n",
    "probe_roc = pd.DataFrame(AUC, columns = ['markers', 'AUC'])\n",
    "\n",
    "p_df =pd.DataFrame.from_dict(pvalues, orient = 'index', columns = ['p_value']).reset_index().rename(columns ={'index': 'markers'})\n",
    "probe_roc_rus = (probe_roc\n",
    "            .merge(p_df, on = 'markers', how = 'inner')\n",
    "            .assign(\n",
    "                    p_corrected = lambda df: multipletests(df.p_value, method = 'fdr_bh')[1],\n",
    "                    significant = lambda df: np.select([(df.p_value < 0.05) & (df.p_corrected < 0.05), (df.p_value < 0.05) & (df.p_corrected > 0.05),  \n",
    "                                                 (df.p_value > 0.05) & (df.p_corrected > 0.05)], ['p < 0.05 FDR corrected','p < 0.05 uncorrected', 'p > 0.05']),\n",
    "                                    balance = 'under-sample'\n",
    "                   )\n",
    "           )\n",
    "\n",
    "probe_roc.to_csv('Data/univariate_roc_probe.csv')"
   ]
  },
  {
   "cell_type": "raw",
   "id": "chicken-updating",
   "metadata": {},
   "source": [
    "probe_roc = pd.read_csv('Data/univariate_roc_probe.csv')\n",
    "fig = px.scatter(probe_roc.sort_values(by = 'AUC'),x = 'AUC', y = 'markers', template = \"plotly_white\", symbol = 'significant', \n",
    "                 symbol_sequence = ['circle-open','circle','hexagram' ],\n",
    "#                  color = 'significant',\n",
    "                 color_discrete_sequence = [orange, pink], \n",
    "                 \n",
    "                 category_orders = {'significant': ['p > 0.05','p < 0.05 uncorrected', 'p < 0.05 FDR corrected']},\n",
    "                 labels = {'AUC': 'MW>OT                                             MW<OT'}\n",
    "                )\n",
    "fig.add_vline(x=0.5, line_width=3, line_dash=\"dash\", line_color=\"black\")\n",
    "fig.update_traces(marker=dict(size = 8))\n",
    "\n",
    "fig.update_layout(\n",
    "    autosize=False,\n",
    "    width=800,\n",
    "    height=800,\n",
    "    xaxis= {'range': (0.35, 0.65)},\n",
    "    yaxis = {\n",
    "            'showticklabels': True,\n",
    "            'tickmode': 'linear',\n",
    "        }\n",
    "    \n",
    ")\n",
    "fig.show()\n",
    "pio.write_json(fig, 'Figs/univariate_roc_probe.plotly')\n",
    "# fig.write_image('Figs/univariate_roc_mw_segment.png')"
   ]
  },
  {
   "cell_type": "code",
   "execution_count": null,
   "id": "removable-process",
   "metadata": {},
   "outputs": [
    {
     "ename": "",
     "evalue": "",
     "output_type": "error",
     "traceback": [
      "\u001b[1;31mFailed to start the Kernel. \n",
      "Failed to start the Kernel 'mne (Python 3.9.7)'. \n",
      "View Jupyter <a href='command:jupyter.viewOutput'>log</a> for further details. Interrupted system call"
     ]
    }
   ],
   "source": [
    "AUC = []\n",
    "pvalues = {}\n",
    "for i in df_probe.drop('probe', axis = 1).columns:\n",
    "    ros = SMOTE(random_state=42)# fit predictor and target variable\n",
    "\n",
    "    probe_ros = ros.fit_resample(df_probe[i].astype(\"float32\").values.reshape(-1,1), df_probe.probe)\n",
    "\n",
    "    df_probe_ros = pd.DataFrame(probe_ros[0], columns =['marker']).assign(probe = probe_ros[1])\n",
    "    \n",
    "    sc = df_probe_ros.query(\"probe == 'SC'\")['marker']\n",
    "    pc = df_probe_ros.query(\"probe == 'PC'\")['marker']\n",
    "    auc = roc_auc_score(df_probe_ros['probe'], df_probe_ros['marker'])\n",
    "    print(f'AUC {i} = {auc}', f'{mannwhitneyu(x = sc, y = pc)}')\n",
    "    AUC.append([i, auc])\n",
    "    pvalues[i] = mannwhitneyu(x = sc, y =pc).pvalue \n",
    "        \n",
    "probe_roc = pd.DataFrame(AUC, columns = ['markers', 'AUC'])\n",
    "\n",
    "p_df =pd.DataFrame.from_dict(pvalues, orient = 'index', columns = ['p_value']).reset_index().rename(columns ={'index': 'markers'})\n",
    "probe_roc_ros = (probe_roc\n",
    "            .merge(p_df, on = 'markers', how = 'inner')\n",
    "            .assign(\n",
    "                    p_corrected = lambda df: multipletests(df.p_value, method = 'fdr_bh')[1],\n",
    "                    significant = lambda df: np.select([(df.p_value < 0.05) & (df.p_corrected < 0.05), (df.p_value < 0.05) & (df.p_corrected > 0.05),  \n",
    "                                                 (df.p_value > 0.05) & (df.p_corrected > 0.05)], ['p < 0.05 FDR corrected','p < 0.05 uncorrected', 'p > 0.05']),\n",
    "                    balance = 'over-sample'\n",
    "                   )\n",
    "           )\n",
    "\n",
    "probe_roc.to_csv('Data/univariate_roc_probe.csv')"
   ]
  },
  {
   "cell_type": "raw",
   "id": "configured-advocate",
   "metadata": {},
   "source": [
    "probe_roc = pd.read_csv('Data/univariate_roc_probe.csv')\n",
    "fig = px.scatter(probe_roc.sort_values(by = 'AUC'),x = 'AUC', y = 'markers', template = \"plotly_white\", symbol = 'significant', \n",
    "                 symbol_sequence = ['circle-open','circle','hexagram' ],\n",
    "#                  color = 'significant',\n",
    "                 color_discrete_sequence = [orange], \n",
    "                 \n",
    "                 category_orders = {'significant': ['p > 0.05','p < 0.05 uncorrected', 'p < 0.05 FDR corrected']})\n",
    "fig.add_vline(x=0.5, line_width=3, line_dash=\"dash\", line_color=\"black\")\n",
    "\n",
    "fig.update_traces(marker=dict(size = 8))\n",
    "fig.update_layout(\n",
    "    autosize=False,\n",
    "    width=800,\n",
    "    height=800,\n",
    "    yaxis = {\n",
    "            'showticklabels': True,\n",
    "            'tickmode': 'linear',\n",
    "        }\n",
    "    \n",
    ")\n",
    "fig.show()\n",
    "pio.write_json(fig, 'Figs/univariate_roc_probe.plotly')\n",
    "# fig.write_image('Figs/univariate_roc_mw_segment.png')"
   ]
  },
  {
   "cell_type": "code",
   "execution_count": null,
   "id": "collective-president",
   "metadata": {
    "tags": []
   },
   "outputs": [
    {
     "ename": "",
     "evalue": "",
     "output_type": "error",
     "traceback": [
      "\u001b[1;31mFailed to start the Kernel. \n",
      "Failed to start the Kernel 'mne (Python 3.9.7)'. \n",
      "View Jupyter <a href='command:jupyter.viewOutput'>log</a> for further details. Interrupted system call"
     ]
    }
   ],
   "source": [
    "probe_roc = pd.concat([probe_roc_ros, probe_roc_rus])\n",
    "\n",
    "df_agg = df_probe.melt(id_vars=['probe'], var_name = 'markers', value_name = 'value').groupby(['markers','probe'], as_index = False).agg(['mean','std'], axis = 0).reset_index()\n",
    "df_agg.columns = df_agg.columns.map(''.join)\n",
    "\n",
    "df_probe_final = (df_agg.merge(probe_roc, on = 'markers', how= 'inner')\n",
    "                 .drop(['significant'], axis =1)\n",
    "#                  .assign(mind = lambda df: df.mind.str.replace('d', 'MW').replace('on-task','OT'))\n",
    "                )\n",
    "\n",
    "                                                                                 \n",
    "print(df_probe_final.to_latex(header = True, index= False, float_format=\"{:0.3f}\".format, escape = False, longtable=True))"
   ]
  },
  {
   "cell_type": "raw",
   "id": "sixth-racing",
   "metadata": {},
   "source": [
    "probe_roc = pd.concat([probe_roc_ros, probe_roc_rus])\n",
    "fig = px.scatter(probe_roc.sort_values(by = 'AUC'),x = 'AUC', y = 'markers', template = \"plotly_white\", symbol = 'significant', \n",
    "                 symbol_sequence = ['circle-open','circle','hexagram' ],\n",
    "                 facet_col = 'balance',\n",
    "#                  color = 'significant',\n",
    "                 color_discrete_sequence = [orange], \n",
    "                 labels = {'AUC': 'PC>SC                PC<SC'},\n",
    "                 \n",
    "                 \n",
    "                 category_orders = {'significant': ['p > 0.05','p < 0.05 uncorrected', 'p < 0.05 FDR corrected']})\n",
    "fig.add_vline(x=0.5, line_width=3, line_dash=\"dash\", line_color=\"black\")\n",
    "\n",
    "fig.update_traces(marker=dict(size = 8))\n",
    "fig.update_layout(\n",
    "    autosize=False,\n",
    "    width=800,\n",
    "    height=800,\n",
    "    yaxis = {\n",
    "            'showticklabels': True,\n",
    "            'tickmode': 'linear',\n",
    "        }\n",
    "    \n",
    ")\n",
    "fig.show()\n",
    "pio.write_json(fig, 'Figs/univariate_roc_probe.plotly')\n",
    "# fig.write_image('Figs/univariate_roc_mw_segment.png')"
   ]
  },
  {
   "cell_type": "markdown",
   "id": "executive-structure",
   "metadata": {},
   "source": [
    "# By Trial Univariate analyses"
   ]
  },
  {
   "cell_type": "markdown",
   "id": "numerous-dispatch",
   "metadata": {},
   "source": [
    "## On-task Vs Mind- Wandering\n",
    "This can only be performed for PC probes  as they are the only ones with On-task reports."
   ]
  },
  {
   "cell_type": "code",
   "execution_count": null,
   "id": "opened-words",
   "metadata": {},
   "outputs": [
    {
     "ename": "",
     "evalue": "",
     "output_type": "error",
     "traceback": [
      "\u001b[1;31mFailed to start the Kernel. \n",
      "Failed to start the Kernel 'mne (Python 3.9.7)'. \n",
      "View Jupyter <a href='command:jupyter.viewOutput'>log</a> for further details. Interrupted system call"
     ]
    }
   ],
   "source": [
    "agg_dict = {k:'mean' for k in markers }\n",
    "agg_dict.update({k:'first' for k in df_markers.drop(markers, axis=1).columns})\n",
    "\n",
    "df_mind = (\n",
    "    df_markers\n",
    "    .query(\"probe == 'PC'\")\n",
    "#     .query(\"mind != 'sMW'\") #if you want to test against just one of the mw\n",
    "    .assign(\n",
    "    mind2 = lambda df: np.where(df.mind == 'on-task', 'on-task', 'mw'))\n",
    "    .drop(['participant', 'probe', 'mind', 'segment'], axis = 1) # drop mind or mind2 also\n",
    ")"
   ]
  },
  {
   "cell_type": "code",
   "execution_count": null,
   "id": "artistic-format",
   "metadata": {},
   "outputs": [
    {
     "ename": "",
     "evalue": "",
     "output_type": "error",
     "traceback": [
      "\u001b[1;31mFailed to start the Kernel. \n",
      "Failed to start the Kernel 'mne (Python 3.9.7)'. \n",
      "View Jupyter <a href='command:jupyter.viewOutput'>log</a> for further details. Interrupted system call"
     ]
    }
   ],
   "source": [
    "AUC = []\n",
    "pvalues = {}\n",
    "for i in df_mind.drop('mind2', axis = 1).columns:\n",
    "    ot = df_mind.query(\"mind2 == 'on-task'\")[i]\n",
    "    mw = df_mind.query(\"mind2 == 'mw'\")[i]\n",
    "    auc = roc_auc_score(df_mind['mind2'], df_mind[i])\n",
    "    print(f'AUC {i} = {auc}', f'{mannwhitneyu(x = ot, y = mw)}')\n",
    "    AUC.append([i, auc])\n",
    "    pvalues[i] = mannwhitneyu(x = ot, y = mw).pvalue \n",
    "        \n",
    "trial_mind_roc = pd.DataFrame(AUC, columns = ['markers', 'AUC'])\n",
    "\n",
    "p_df =pd.DataFrame.from_dict(pvalues, orient = 'index', columns = ['p_value']).reset_index().rename(columns ={'index': 'markers'})\n",
    "trial_mind_roc = (trial_mind_roc\n",
    "            .merge(p_df, on = 'markers', how = 'inner')\n",
    "            .assign(\n",
    "                    p_corrected = lambda df: multipletests(df.p_value, method = 'fdr_bh')[1],\n",
    "                    significant = lambda df: np.select([(df.p_value < 0.05) & (df.p_corrected < 0.05), (df.p_value < 0.05) & (df.p_corrected > 0.05),  \n",
    "                                                 (df.p_value > 0.05) & (df.p_corrected > 0.05)], ['p < 0.05 FDR corrected','p < 0.05 uncorrected', 'p > 0.05'])\n",
    "                   )\n",
    "           )\n",
    "trial_mind_roc.to_csv('Data/univariate_roc_mind_trial.csv')"
   ]
  },
  {
   "cell_type": "code",
   "execution_count": null,
   "id": "annual-ancient",
   "metadata": {
    "tags": []
   },
   "outputs": [
    {
     "ename": "",
     "evalue": "",
     "output_type": "error",
     "traceback": [
      "\u001b[1;31mFailed to start the Kernel. \n",
      "Failed to start the Kernel 'mne (Python 3.9.7)'. \n",
      "View Jupyter <a href='command:jupyter.viewOutput'>log</a> for further details. Interrupted system call"
     ]
    }
   ],
   "source": [
    "trial_mind_roc = pd.read_csv('Data/univariate_roc_mind_trial.csv')\n",
    "fig = px.scatter(trial_mind_roc.sort_values(by = 'AUC'),x = 'AUC', y = 'markers', template = \"plotly_white\", symbol = 'significant', \n",
    "                 symbol_sequence = ['circle-open','circle','hexagram' ],\n",
    "#                  color = 'significant',\n",
    "                 color_discrete_sequence = [pink, green,orange, pink], \n",
    "                 \n",
    "                 category_orders = {'significant': ['p > 0.05','p < 0.05 uncorrected', 'p < 0.05 FDR corrected']})\n",
    "fig.add_vline(x=0.5, line_width=3, line_dash=\"dash\", line_color=\"black\")\n",
    "fig.update_traces(marker=dict(size = 8))\n",
    "\n",
    "fig.update_layout(\n",
    "    autosize=False,\n",
    "    width=800,\n",
    "    height=800,\n",
    "    yaxis = {\n",
    "            'showticklabels': True,\n",
    "            'tickmode': 'linear',\n",
    "        }\n",
    "    \n",
    ")\n",
    "fig.show()\n",
    "pio.write_json(fig, 'Figs/univariate_roc_mw_segment.plotly')\n",
    "# fig.write_image('Figs/univariate_roc_mw_segment.png')"
   ]
  },
  {
   "cell_type": "code",
   "execution_count": null,
   "id": "documented-landscape",
   "metadata": {},
   "outputs": [
    {
     "ename": "",
     "evalue": "",
     "output_type": "error",
     "traceback": [
      "\u001b[1;31mFailed to start the Kernel. \n",
      "Failed to start the Kernel 'mne (Python 3.9.7)'. \n",
      "View Jupyter <a href='command:jupyter.viewOutput'>log</a> for further details. Interrupted system call"
     ]
    }
   ],
   "source": [
    "AUC = pd.DataFrame()\n",
    "pvalues = {}\n",
    "for i in df_mind.drop('mind2', axis = 1).columns:\n",
    "    \n",
    "\n",
    "    AUC[i], pvalues[i] =  univariate_classifier(\n",
    "    data= df_mind, label = 'mind2', feature = i, model = 'SVM', grid_search=False, permutation=True, n_permutations = 1000\n",
    ")\n",
    "\n",
    "    \n",
    "p_df =pd.DataFrame.from_dict(pvalues, orient = 'index', columns = ['p_value']).reset_index().rename(columns ={'index': 'markers'})\n",
    "svc_mind_trial = (AUC.reset_index().melt(id_vars = ['index'], var_name = 'markers', value_name = 'AUC')\n",
    "            .drop('index', axis = 1)\n",
    "            .merge(p_df, on = 'markers', how = 'inner')\n",
    "            .assign(significant = lambda df: np.where(df.p_value< 0.05, 'Signficant', 'Not significant'))\n",
    "           )\n",
    "svc_mind_trial.to_csv('Data/univariate_svc_mind_trial.csv')"
   ]
  },
  {
   "cell_type": "code",
   "execution_count": null,
   "id": "indie-editing",
   "metadata": {},
   "outputs": [
    {
     "ename": "",
     "evalue": "",
     "output_type": "error",
     "traceback": [
      "\u001b[1;31mFailed to start the Kernel. \n",
      "Failed to start the Kernel 'mne (Python 3.9.7)'. \n",
      "View Jupyter <a href='command:jupyter.viewOutput'>log</a> for further details. Interrupted system call"
     ]
    }
   ],
   "source": [
    "svc_mind_trial = pd.read_csv('Data/univariate_svc_mind_trial.csv')\n",
    "\n",
    "fig = px.box(svc_mind_trial, y=\"markers\", x=\"AUC\", color=\"significant\", template = \"plotly_white\", color_discrete_sequence = [green, orange])\n",
    "fig.add_vline(x=0.5, line_width=3, line_dash=\"dash\", line_color=\"grey\")\n",
    "\n",
    "fig.update_layout(\n",
    "    autosize=False,\n",
    "    width=800,\n",
    "    height=800,\n",
    "    yaxis = {\n",
    "            'showticklabels': True,\n",
    "            'tickmode': 'linear',\n",
    "        }\n",
    ")\n",
    "fig.show()\n",
    "pio.write_json(fig, 'Figs/univariate_svc_mind_trial.plotly')"
   ]
  },
  {
   "cell_type": "code",
   "execution_count": null,
   "id": "theoretical-economy",
   "metadata": {},
   "outputs": [
    {
     "ename": "",
     "evalue": "",
     "output_type": "error",
     "traceback": [
      "\u001b[1;31mFailed to start the Kernel. \n",
      "Failed to start the Kernel 'mne (Python 3.9.7)'. \n",
      "View Jupyter <a href='command:jupyter.viewOutput'>log</a> for further details. Interrupted system call"
     ]
    }
   ],
   "source": [
    "n_estimators = 2000\n",
    "AUC = pd.DataFrame()\n",
    "for i in  df_mind.drop('mind2', axis = 1).columns:\n",
    "    \n",
    "    y, label = pd.factorize(df_mind['mind2'])\n",
    "    X = df_mind[i].astype('float32').values.reshape(-1,1)\n",
    "    \n",
    "    doc_forest = make_pipeline(\n",
    "        RobustScaler(),\n",
    "        ExtraTreesClassifier(\n",
    "            n_estimators=n_estimators, max_features=1, criterion='entropy',\n",
    "            max_depth=4, random_state=42, class_weight='balanced'))\n",
    "\n",
    "    cv = GroupShuffleSplit(n_splits=50, train_size=0.8, test_size=0.2,\n",
    "                           random_state=42)\n",
    "\n",
    "    aucs = cross_val_score(\n",
    "        X=X, y=y, estimator=doc_forest,\n",
    "        scoring='roc_auc', cv=cv, groups=np.arange(len(X)))\n",
    "\n",
    "    AUC[i] = aucs\n",
    "\n",
    "#     print(label)\n",
    "    print(f'AUC {i} = {np.mean(aucs)}')\n",
    "\n",
    "sns.catplot(data = AUC, kind = 'box', orient = 'h')\n",
    "plt.axvline(x = 0.5, linestyle = 'dashed')\n",
    "plt.show()"
   ]
  },
  {
   "cell_type": "markdown",
   "id": "southwest-polish",
   "metadata": {},
   "source": [
    "## dMW Vs sMW\n",
    "This will be only performed in SC as they have more trials"
   ]
  },
  {
   "cell_type": "code",
   "execution_count": null,
   "id": "cellular-discovery",
   "metadata": {},
   "outputs": [
    {
     "ename": "",
     "evalue": "",
     "output_type": "error",
     "traceback": [
      "\u001b[1;31mFailed to start the Kernel. \n",
      "Failed to start the Kernel 'mne (Python 3.9.7)'. \n",
      "View Jupyter <a href='command:jupyter.viewOutput'>log</a> for further details. Interrupted system call"
     ]
    }
   ],
   "source": [
    "df_mw = (\n",
    "    df_markers\n",
    "    .query(\"probe == 'SC'\")\n",
    "    .query(\"mind != 'on-task'\")\n",
    "    .drop(['participant', 'probe', 'segment'], axis = 1)\n",
    ")"
   ]
  },
  {
   "cell_type": "code",
   "execution_count": null,
   "id": "following-western",
   "metadata": {},
   "outputs": [
    {
     "ename": "",
     "evalue": "",
     "output_type": "error",
     "traceback": [
      "\u001b[1;31mFailed to start the Kernel. \n",
      "Failed to start the Kernel 'mne (Python 3.9.7)'. \n",
      "View Jupyter <a href='command:jupyter.viewOutput'>log</a> for further details. Interrupted system call"
     ]
    }
   ],
   "source": [
    "AUC = []\n",
    "pvalues = {}\n",
    "for i in df_mw.drop('mind', axis = 1).columns:\n",
    "    smw = df_mw.query(\"mind == 'sMW'\")[i]\n",
    "    dmw = df_mw.query(\"mind == 'dMW'\")[i]\n",
    "    auc = roc_auc_score(df_mw['mind'], df_mw[i])\n",
    "    print(f'AUC {i} = {auc}', f'{mannwhitneyu(x = smw, y = dmw)}')\n",
    "    AUC.append([i, auc])\n",
    "    pvalues[i] = mannwhitneyu(x = smw, y =dmw).pvalue \n",
    "        \n",
    "trial_mw_roc = pd.DataFrame(AUC, columns = ['markers', 'AUC'])\n",
    "\n",
    "p_df =pd.DataFrame.from_dict(pvalues, orient = 'index', columns = ['p_value']).reset_index().rename(columns ={'index': 'markers'})\n",
    "trial_mw_roc = (trial_mw_roc\n",
    "            .merge(p_df, on = 'markers', how = 'inner')\n",
    "            .assign(\n",
    "                    p_corrected = lambda df: multipletests(df.p_value, method = 'fdr_bh')[1],\n",
    "                    significant = lambda df: np.select([(df.p_value < 0.05) & (df.p_corrected < 0.05), (df.p_value < 0.05) & (df.p_corrected > 0.05),  \n",
    "                                                 (df.p_value > 0.05) & (df.p_corrected > 0.05)], ['p < 0.05 FDR corrected','p < 0.05 uncorrected', 'p > 0.05']),\n",
    "                   )\n",
    "           )\n",
    "\n",
    "trial_mw_roc.to_csv('Data/univariate_roc_mw_trial.csv')"
   ]
  },
  {
   "cell_type": "code",
   "execution_count": null,
   "id": "biological-episode",
   "metadata": {},
   "outputs": [
    {
     "ename": "",
     "evalue": "",
     "output_type": "error",
     "traceback": [
      "\u001b[1;31mFailed to start the Kernel. \n",
      "Failed to start the Kernel 'mne (Python 3.9.7)'. \n",
      "View Jupyter <a href='command:jupyter.viewOutput'>log</a> for further details. Interrupted system call"
     ]
    }
   ],
   "source": [
    "trial_mw_roc = pd.read_csv('Data/univariate_roc_mw_trial.csv')\n",
    "fig = px.scatter(trial_mw_roc.sort_values(by = 'AUC'),x = 'AUC', y = 'markers', template = \"plotly_white\", symbol = 'significant', \n",
    "                 symbol_sequence = ['circle-open','circle','hexagram' ],\n",
    "#                  color = 'significant',\n",
    "                 color_discrete_sequence = [lblue, green,orange, pink], \n",
    "                 \n",
    "                 category_orders = {'significant': ['p > 0.05','p < 0.05 uncorrected', 'p < 0.05 FDR corrected']})\n",
    "fig.add_vline(x=0.5, line_width=3, line_dash=\"dash\", line_color=\"black\")\n",
    "\n",
    "fig.update_traces(marker=dict(size = 8))\n",
    "fig.update_layout(\n",
    "    autosize=False,\n",
    "    width=800,\n",
    "    height=800,\n",
    "    yaxis = {\n",
    "            'showticklabels': True,\n",
    "            'tickmode': 'linear',\n",
    "        }\n",
    "    \n",
    ")\n",
    "fig.show()\n",
    "pio.write_json(fig, 'Figs/univariate_roc_mw_segment.plotly')\n",
    "# fig.write_image('Figs/univariate_roc_mw_segment.png')"
   ]
  },
  {
   "cell_type": "code",
   "execution_count": null,
   "id": "alpine-northeast",
   "metadata": {},
   "outputs": [
    {
     "ename": "",
     "evalue": "",
     "output_type": "error",
     "traceback": [
      "\u001b[1;31mFailed to start the Kernel. \n",
      "Failed to start the Kernel 'mne (Python 3.9.7)'. \n",
      "View Jupyter <a href='command:jupyter.viewOutput'>log</a> for further details. Interrupted system call"
     ]
    }
   ],
   "source": [
    "AUC = pd.DataFrame()\n",
    "pvalues = {}\n",
    "for i in df_mw.drop('mind', axis = 1).columns:\n",
    "    \n",
    "\n",
    "    AUC[i], pvalues[i] =  univariate_classifier(\n",
    "    data= df_mw, label = 'mind', feature = i, model = 'SVM', grid_search=False, permutation=True, n_permutations = 1000\n",
    ")\n",
    "\n",
    "    \n",
    "p_df =pd.DataFrame.from_dict(pvalues, orient = 'index', columns = ['p_value']).reset_index().rename(columns ={'index': 'markers'})\n",
    "svc_mw_trial = (AUC.reset_index().melt(id_vars = ['index'], var_name = 'markers', value_name = 'AUC')\n",
    "            .drop('index', axis = 1)\n",
    "            .merge(p_df, on = 'markers', how = 'inner')\n",
    "            .assign(significant = lambda df: np.where(df.p_value< 0.05, 'Signficant', 'Not significant'))\n",
    "           )\n",
    "svc_mw_trial.to_csv('Data/univariate_svc_mw_trial.csv')"
   ]
  },
  {
   "cell_type": "code",
   "execution_count": null,
   "id": "joined-store",
   "metadata": {},
   "outputs": [
    {
     "ename": "",
     "evalue": "",
     "output_type": "error",
     "traceback": [
      "\u001b[1;31mFailed to start the Kernel. \n",
      "Failed to start the Kernel 'mne (Python 3.9.7)'. \n",
      "View Jupyter <a href='command:jupyter.viewOutput'>log</a> for further details. Interrupted system call"
     ]
    }
   ],
   "source": [
    "pd.read_csv('Data/univariate_svc_mw_trial.csv')\n",
    "\n",
    "fig = px.box(svc_mw_trial, y=\"markers\", x=\"AUC\", color=\"significant\", template = \"plotly_white\", color_discrete_sequence = [green, orange])\n",
    "fig.add_vline(x=0.5, line_width=3, line_dash=\"dash\", line_color=\"grey\")\n",
    "\n",
    "fig.update_layout(\n",
    "    autosize=False,\n",
    "    width=800,\n",
    "    height=800,\n",
    "    yaxis = {\n",
    "            'showticklabels': True,\n",
    "            'tickmode': 'linear',\n",
    "        }\n",
    ")\n",
    "\n",
    "\n",
    "fig.show()\n",
    "pio.write_json(fig, 'Figs/univariate_svc_mw_trial.plotly')\n"
   ]
  },
  {
   "cell_type": "markdown",
   "id": "configured-solomon",
   "metadata": {},
   "source": [
    "# Plots"
   ]
  },
  {
   "cell_type": "markdown",
   "id": "nearby-importance",
   "metadata": {},
   "source": [
    "## On-task Vs Mind- Wandering\n",
    "This can only be performed for PC probes  as they are the only ones with On-task reports."
   ]
  },
  {
   "cell_type": "code",
   "execution_count": null,
   "id": "bizarre-netherlands",
   "metadata": {},
   "outputs": [
    {
     "ename": "",
     "evalue": "",
     "output_type": "error",
     "traceback": [
      "\u001b[1;31mFailed to start the Kernel. \n",
      "Failed to start the Kernel 'mne (Python 3.9.7)'. \n",
      "View Jupyter <a href='command:jupyter.viewOutput'>log</a> for further details. Interrupted system call"
     ]
    }
   ],
   "source": [
    "sns.scatterplot(x = 'AUC', y = 'marker', data = subject_mind_roc)\n",
    "sns.scatterplot(x = 'AUC', y = 'marker', data = segment_mind_roc)\n",
    "sns.scatterplot(x = 'AUC', y = 'marker', data = trial_mind_roc)\n",
    "plt.legend(['subject','segment', 'trial'])\n",
    "plt.axvline(x = 0.5, linestyle = 'dashed')\n",
    "plt.show()"
   ]
  },
  {
   "cell_type": "markdown",
   "id": "filled-electric",
   "metadata": {},
   "source": [
    "## dMW Vs sMW\n",
    "This will be only performed in SC as they have more trials"
   ]
  },
  {
   "cell_type": "code",
   "execution_count": null,
   "id": "desirable-bryan",
   "metadata": {},
   "outputs": [
    {
     "ename": "",
     "evalue": "",
     "output_type": "error",
     "traceback": [
      "\u001b[1;31mFailed to start the Kernel. \n",
      "Failed to start the Kernel 'mne (Python 3.9.7)'. \n",
      "View Jupyter <a href='command:jupyter.viewOutput'>log</a> for further details. Interrupted system call"
     ]
    }
   ],
   "source": [
    "sns.scatterplot(x = 'AUC', y = 'marker', data = subject_mw_roc)\n",
    "sns.scatterplot(x = 'AUC', y = 'marker', data = segment_mw_roc)\n",
    "sns.scatterplot(x = 'AUC', y = 'marker', data = trial_mw_roc)\n",
    "plt.legend(['subject','segment', 'trial'])\n",
    "plt.axvline(x = 0.5, linestyle = 'dashed')\n",
    "plt.show()"
   ]
  },
  {
   "cell_type": "markdown",
   "id": "settled-portugal",
   "metadata": {},
   "source": [
    "## Comparison of significan markers for Mind and Mw"
   ]
  },
  {
   "cell_type": "code",
   "execution_count": null,
   "id": "fallen-trustee",
   "metadata": {},
   "outputs": [
    {
     "ename": "",
     "evalue": "",
     "output_type": "error",
     "traceback": [
      "\u001b[1;31mFailed to start the Kernel. \n",
      "Failed to start the Kernel 'mne (Python 3.9.7)'. \n",
      "View Jupyter <a href='command:jupyter.viewOutput'>log</a> for further details. Interrupted system call"
     ]
    }
   ],
   "source": [
    "sns.scatterplot(x = 'AUC', y = 'marker', data = significants_mind )\n",
    "sns.scatterplot(x = 'AUC', y = 'marker', data = significants_mw )\n",
    "plt.legend(['mind','mw'])\n",
    "plt.axvline(x = 0.5, linestyle = 'dashed')\n",
    "plt.show()"
   ]
  }
 ],
 "metadata": {
  "interpreter": {
   "hash": "b9ecc02849e84b87e80586ea27bc0eed086bed80b3a52d2dc611431340e96268"
  },
  "kernelspec": {
   "display_name": "mne",
   "language": "python",
   "name": "python3"
  },
  "language_info": {
   "codemirror_mode": {
    "name": "ipython",
    "version": 3
   },
   "file_extension": ".py",
   "mimetype": "text/x-python",
   "name": "python",
   "nbconvert_exporter": "python",
   "pygments_lexer": "ipython3",
   "version": "3.9.7"
  },
  "toc-autonumbering": true,
  "toc-showcode": false,
  "toc-showmarkdowntxt": false
 },
 "nbformat": 4,
 "nbformat_minor": 5
}
